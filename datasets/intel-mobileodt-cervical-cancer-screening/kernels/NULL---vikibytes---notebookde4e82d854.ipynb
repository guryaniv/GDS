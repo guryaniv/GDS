{
  "metadata": {
    "kernelspec": {
      "display_name": "Python 3",
      "language": "python",
      "name": "python3"
    },
    "language_info": {
      "codemirror_mode": {
        "name": "ipython",
        "version": 3
      },
      "file_extension": ".py",
      "mimetype": "text/x-python",
      "name": "python",
      "nbconvert_exporter": "python",
      "pygments_lexer": "ipython3",
      "version": "3.6.0"
    }
  },
  "nbformat": 4,
  "nbformat_minor": 0,
  "cells": [
    {
      "metadata": {
        "_cell_guid": "af47ea50-f54d-e467-3e0d-cf7181d19f04",
        "_active": false,
        "collapsed": false
      },
      "source": "# This Python 3 environment comes with many helpful analytics libraries installed\n# It is defined by the kaggle/python docker image: https://github.com/kaggle/docker-python\n# For example, here's several helpful packages to load in \n\nimport numpy as np # linear algebra\nimport pandas as pd # data processing, CSV file I/O (e.g. pd.read_csv)\n\n# Input data files are available in the \"../input/\" directory.\n# For example, running this (by clicking run or pressing Shift+Enter) will list the files in the input directory\n\nfrom subprocess import check_output\nprint(check_output([\"ls\", \"../input\"]).decode(\"utf8\"))\n\n# Any results you write to the current directory are saved as output.",
      "execution_count": null,
      "cell_type": "code",
      "outputs": [],
      "execution_state": "idle"
    },
    {
      "metadata": {
        "_cell_guid": "50277db1-f6b1-d3ad-4213-bd0e6a3ae49e",
        "_active": false,
        "collapsed": false
      },
      "source": "import os\nimport platform\nif 'c001' not in platform.node():\n    abspath_dataset_dir_train_1 = '../input/train/Type_1'\n    abspath_dataset_dir_train_2 = '../input/train/Type_2'\n    abspath_dataset_dir_train_3 = '../input/train/Type_3'\n    abspath_dataset_dir_test    = '../input/test/'\n",
      "execution_count": null,
      "cell_type": "code",
      "outputs": [],
      "execution_state": "idle"
    },
    {
      "metadata": {
        "_cell_guid": "8b5723c1-e22b-02a6-6c4c-efc044a328fb",
        "_active": false,
        "collapsed": false
      },
      "source": "print(abspath_dataset_dir_test)",
      "execution_count": null,
      "cell_type": "code",
      "outputs": [],
      "execution_state": "idle"
    },
    {
      "metadata": {
        "_cell_guid": "a3168751-a128-f4ff-53e0-43297db27ed4",
        "_active": false,
        "collapsed": false
      },
      "source": "def get_list_abspath_img(abspath_dataset_dir):\n    list_abspath_img = []\n    for str_name_file_or_dir in os.listdir(abspath_dataset_dir):\n        if ('.jpg' in str_name_file_or_dir) == True:\n            list_abspath_img.append(os.path.join(abspath_dataset_dir, str_name_file_or_dir))\n    list_abspath_img.sort()\n    return list_abspath_img",
      "execution_count": null,
      "cell_type": "code",
      "outputs": [],
      "execution_state": "idle"
    },
    {
      "metadata": {
        "_cell_guid": "2158b198-fd59-f2e5-4afc-d91674eba2ca",
        "_active": false,
        "collapsed": false
      },
      "source": "list_abspath_img_train_1 = get_list_abspath_img(abspath_dataset_dir_train_1)\nlist_abspath_img_train_2 = get_list_abspath_img(abspath_dataset_dir_train_2)\nlist_abspath_img_train_3 = get_list_abspath_img(abspath_dataset_dir_train_3)\nlist_abspath_img_test    = get_list_abspath_img(abspath_dataset_dir_test)\n\nlist_abspath_img_train        = list_abspath_img_train_1 + list_abspath_img_train_2 + list_abspath_img_train_3\nlist_answer_dataset_dir_train = [1] * len(list_abspath_img_train_1) + [2] * len(list_abspath_img_train_2) + [3] * len(list_abspath_img_train_3)",
      "execution_count": null,
      "cell_type": "code",
      "outputs": [],
      "execution_state": "idle"
    },
    {
      "metadata": {
        "_cell_guid": "175aaef7-e0bc-ecb7-394c-f96f1e3ee64f",
        "_active": false,
        "collapsed": false
      },
      "source": "len(list_abspath_img_train)",
      "execution_count": null,
      "cell_type": "code",
      "outputs": [],
      "execution_state": "idle"
    },
    {
      "metadata": {
        "_cell_guid": "ea67a46a-3aff-93c5-7391-f3581785e81b",
        "_active": false,
        "collapsed": false
      },
      "source": "list_abspath_img_train[0:5]",
      "execution_count": null,
      "cell_type": "code",
      "outputs": [],
      "execution_state": "idle"
    }
  ]
}