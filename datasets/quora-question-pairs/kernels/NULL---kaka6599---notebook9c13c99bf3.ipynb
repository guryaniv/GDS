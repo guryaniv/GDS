{
  "cells": [
    {
      "cell_type": "code",
      "execution_count": null,
      "metadata": {
        "_cell_guid": "d4bbe36e-bfc5-5bf2-6e10-bfd788ecd7ec"
      },
      "outputs": [],
      "source": [
        "# This Python 3 environment comes with many helpful analytics libraries installed\n",
        "# It is defined by the kaggle/python docker image: https://github.com/kaggle/docker-python\n",
        "# For example, here's several helpful packages to load in \n",
        "\n",
        "import numpy as np # linear algebra\n",
        "import pandas as pd # data processing, CSV file I/O (e.g. pd.read_csv)\n",
        "from fuzzywuzzy import fuzz\n",
        "from sklearn.linear_model import LogisticRegression\n",
        "# Input data files are available in the \"../input/\" directory.\n",
        "# For example, running this (by clicking run or pressing Shift+Enter) will list the files in the input directory\n",
        "\n",
        "from subprocess import check_output\n",
        "print(check_output([\"ls\", \"../input\"]).decode(\"utf8\"))\n",
        "\n",
        "# Any results you write to the current directory are saved as output."
      ]
    },
    {
      "cell_type": "code",
      "execution_count": null,
      "metadata": {
        "_cell_guid": "9cae0fc2-b091-d42d-31a2-999257fe7308"
      },
      "outputs": [],
      "source": [
        "train = pd.read_csv('../input/train.csv')\n",
        "test =  pd.read_csv('../input/test.csv')"
      ]
    },
    {
      "cell_type": "code",
      "execution_count": null,
      "metadata": {
        "_cell_guid": "05107bec-d64b-3e38-9347-25a1d971a0fa"
      },
      "outputs": [],
      "source": [
        "adup = a[a.is_duplicate == 1]\n",
        "anondup = a[a.is_duplicate == 0]"
      ]
    },
    {
      "cell_type": "code",
      "execution_count": null,
      "metadata": {
        "_cell_guid": "b3e6fe33-35c6-d7e3-299f-3b547eca53d8"
      },
      "outputs": [],
      "source": [
        "scoresdup  = np.array([fuzz.token_set_ratio(q1, q2) for q1,q2 in zip(adup.question1, adup.question2)])\n",
        "scoresnodup  = np.array([fuzz.token_set_ratio(q1, q2) for q1,q2 in zip(anondup.question1, anondup.question2)])"
      ]
    },
    {
      "cell_type": "code",
      "execution_count": null,
      "metadata": {
        "_cell_guid": "f006788d-0ff1-7271-1663-cb0626e978be"
      },
      "outputs": [],
      "source": [
        "target = a.is_duplicate\n",
        "trainX = np.array([fuzz.token_set_ratio(q1, q2) for q1,q2 in zip(train.question1, train.question2)])\n",
        "testX = np.array([fuzz.token_set_ratio(q1, q2) for q1,q2 in zip(test.question1, test.question2)])"
      ]
    },
    {
      "cell_type": "code",
      "execution_count": null,
      "metadata": {
        "_cell_guid": "d703a6a0-e2c9-c901-558f-8816eecfcdf0"
      },
      "outputs": [],
      "source": [
        "model = LogisticRegression()\n",
        "model.fit(train,target)\n"
      ]
    },
    {
      "cell_type": "code",
      "execution_count": null,
      "metadata": {
        "_cell_guid": "9c03a073-010f-3204-6999-e6a45347dbc2"
      },
      "outputs": [],
      "source": [
        "ind[0][0]"
      ]
    },
    {
      "cell_type": "code",
      "execution_count": null,
      "metadata": {
        "_cell_guid": "91e56090-1f24-053f-c716-5d08254c4ae2"
      },
      "outputs": [],
      "source": ""
    }
  ],
  "metadata": {
    "_change_revision": 0,
    "_is_fork": false,
    "kernelspec": {
      "display_name": "Python 3",
      "language": "python",
      "name": "python3"
    },
    "language_info": {
      "codemirror_mode": {
        "name": "ipython",
        "version": 3
      },
      "file_extension": ".py",
      "mimetype": "text/x-python",
      "name": "python",
      "nbconvert_exporter": "python",
      "pygments_lexer": "ipython3",
      "version": "3.6.0"
    }
  },
  "nbformat": 4,
  "nbformat_minor": 0
}