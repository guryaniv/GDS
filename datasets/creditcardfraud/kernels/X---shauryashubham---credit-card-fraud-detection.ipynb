{
  "cells": [
    {
      "cell_type": "markdown",
      "metadata": {
        "_cell_guid": "11e66273-7ba3-e23c-94fb-f76872abb222"
      },
      "source": ""
    },
    {
      "cell_type": "code",
      "execution_count": null,
      "metadata": {
        "_cell_guid": "98a392ed-1654-6e2b-f0e4-ad12476ce89d"
      },
      "outputs": [],
      "source": [
        "import pandas as pd\n",
        "import numpy as np\n",
        "%matplotlib inline\n",
        "import matplotlib.pyplot as plt"
      ]
    },
    {
      "cell_type": "code",
      "execution_count": null,
      "metadata": {
        "_cell_guid": "d0ae723a-5f7c-11b7-3c0d-e285584d7f81"
      },
      "outputs": [],
      "source": [
        "data=pd.read_csv('../input/creditcard.csv')\n",
        "data.shape"
      ]
    },
    {
      "cell_type": "code",
      "execution_count": null,
      "metadata": {
        "_cell_guid": "b380770d-b359-23df-43b7-63580a4349b9"
      },
      "outputs": [],
      "source": [
        "data.head()"
      ]
    },
    {
      "cell_type": "code",
      "execution_count": null,
      "metadata": {
        "_cell_guid": "087c48a8-4f05-8e30-56d2-a135e44a2b81"
      },
      "outputs": [],
      "source": [
        "data.info()"
      ]
    },
    {
      "cell_type": "code",
      "execution_count": null,
      "metadata": {
        "_cell_guid": "a37a26a8-e0e9-6242-2a26-8a13ddae25b1"
      },
      "outputs": [],
      "source": [
        "data.describe()"
      ]
    },
    {
      "cell_type": "code",
      "execution_count": null,
      "metadata": {
        "_cell_guid": "050c574f-7d6d-ea2a-e7f4-b16c73814daf"
      },
      "outputs": [],
      "source": [
        "print(\"Null values in features of data:\")\n",
        "data.isnull().sum()"
      ]
    },
    {
      "cell_type": "code",
      "execution_count": null,
      "metadata": {
        "_cell_guid": "29201a9c-5047-85f3-ecb8-71f71a468931"
      },
      "outputs": [],
      "source": [
        "data_labels=data['Class']\n",
        "data = data.drop('Class',axis=1)\n",
        "data.shape"
      ]
    },
    {
      "cell_type": "markdown",
      "metadata": {
        "_cell_guid": "def9650d-32cc-d345-ca62-d1988b061e27"
      },
      "source": ""
    },
    {
      "cell_type": "code",
      "execution_count": null,
      "metadata": {
        "_cell_guid": "a04423cd-3f5a-5048-691b-5ee8fcfb2a0d"
      },
      "outputs": [],
      "source": [
        "from sklearn.preprocessing import StandardScaler"
      ]
    },
    {
      "cell_type": "code",
      "execution_count": null,
      "metadata": {
        "_cell_guid": "c9030045-be7c-b6b7-4be6-ac28d3e05b90"
      },
      "outputs": [],
      "source": [
        "X = StandardScaler().fit_transform(data)"
      ]
    },
    {
      "cell_type": "code",
      "execution_count": null,
      "metadata": {
        "_cell_guid": "c58ca3ce-a30f-c31b-0a60-e360fb98d398"
      },
      "outputs": [],
      "source": [
        "pd.DataFrame(X).describe()"
      ]
    },
    {
      "cell_type": "markdown",
      "metadata": {
        "_cell_guid": "c9a21fdb-6649-5d39-0ae2-03b9b3a1f33b"
      },
      "source": ""
    },
    {
      "cell_type": "markdown",
      "metadata": {
        "_cell_guid": "665cbd9d-79f3-bf30-e46c-b4f3e9237f73"
      },
      "source": ""
    },
    {
      "cell_type": "code",
      "execution_count": null,
      "metadata": {
        "_cell_guid": "44b55e8e-5172-c3a8-387a-a38c8c5ac40d"
      },
      "outputs": [],
      "source": [
        "from sklearn.model_selection import train_test_split\n",
        "\n",
        "X_train, X_test, y_train, y_test = train_test_split(X, data_labels, test_size=0.25, random_state=0)"
      ]
    },
    {
      "cell_type": "code",
      "execution_count": null,
      "metadata": {
        "_cell_guid": "66410aa0-68d6-bd1c-06b0-9c9725558a10"
      },
      "outputs": [],
      "source": [
        "X_train.shape"
      ]
    },
    {
      "cell_type": "markdown",
      "metadata": {
        "_cell_guid": "23dfac28-a841-7517-9e2a-d012621599b1"
      },
      "source": ""
    },
    {
      "cell_type": "markdown",
      "metadata": {
        "_cell_guid": "1ba079e4-c7f3-b6a8-0fd1-dd41ca771122"
      },
      "source": ""
    },
    {
      "cell_type": "code",
      "execution_count": null,
      "metadata": {
        "_cell_guid": "7ce26678-87e2-6716-423a-3ce02f13c994"
      },
      "outputs": [],
      "source": [
        "from sklearn import metrics"
      ]
    },
    {
      "cell_type": "markdown",
      "metadata": {
        "_cell_guid": "79cd7b5d-8c9c-6607-4802-dd5a6d1e6857"
      },
      "source": [
        "-------"
      ]
    },
    {
      "cell_type": "markdown",
      "metadata": {
        "_cell_guid": "19463f06-7359-44ae-e3cd-efdc0f1b402b"
      },
      "source": [
        "--------"
      ]
    },
    {
      "cell_type": "markdown",
      "metadata": {
        "_cell_guid": "29966e4c-1362-e142-c0df-ed1f1c269016"
      },
      "source": ""
    },
    {
      "cell_type": "markdown",
      "metadata": {
        "_cell_guid": "7f410032-907f-85c3-3a45-6b1d177fde14"
      },
      "source": ""
    },
    {
      "cell_type": "code",
      "execution_count": null,
      "metadata": {
        "_cell_guid": "dc54e8d7-49a3-4607-025b-0d13f720f4bb"
      },
      "outputs": [],
      "source": [
        "from sklearn.linear_model import LogisticRegression\n",
        "\n",
        "logreg = LogisticRegression(C=1e5)\n",
        "logreg.fit(X_train, y_train)\n",
        "y_pred = logreg.predict(X_test)"
      ]
    },
    {
      "cell_type": "code",
      "execution_count": null,
      "metadata": {
        "_cell_guid": "c7d67e64-04a1-55c3-77f1-6530f0bd98e2"
      },
      "outputs": [],
      "source": [
        "print('Log Regression Accuracy: ', metrics.accuracy_score(y_test,y_pred))"
      ]
    },
    {
      "cell_type": "markdown",
      "metadata": {
        "_cell_guid": "fbdeff6c-57e2-f23e-4f4c-84e5ea2f616b"
      },
      "source": ""
    },
    {
      "cell_type": "markdown",
      "metadata": {
        "_cell_guid": "4c882470-6100-48c9-40cd-a31d4b1de69d"
      },
      "source": ""
    },
    {
      "cell_type": "code",
      "execution_count": null,
      "metadata": {
        "_cell_guid": "9ccb7110-9c98-4349-1032-6d1ebfc8c8c9"
      },
      "outputs": [],
      "source": [
        "import tflearn"
      ]
    },
    {
      "cell_type": "code",
      "execution_count": null,
      "metadata": {
        "_cell_guid": "dfaa5815-7d40-b2da-7fd9-28a27f45a321"
      },
      "outputs": [],
      "source": [
        "y_train.shape"
      ]
    },
    {
      "cell_type": "code",
      "execution_count": null,
      "metadata": {
        "_cell_guid": "4a9ec6c5-8e96-35c2-5fad-b4771f0a0f2b"
      },
      "outputs": [],
      "source": [
        "input_layer=tflearn.input_data([None,30])\n",
        "g = tflearn.fully_connected(input_layer, 15, activation='relu')\n",
        "g= tflearn.dropout(g,0.8)\n",
        "g = tflearn.fully_connected(g,7, activation='relu')\n",
        "g= tflearn.dropout(g,0.8)\n",
        "g = tflearn.fully_connected(g, 2, activation='sigmoid')\n",
        "sgd = tflearn.SGD(learning_rate=0.1, lr_decay=0.96, decay_step=1000)\n",
        "g = tflearn.regression(g, optimizer=sgd, learning_rate=0.02,loss='categorical_crossentropy')"
      ]
    },
    {
      "cell_type": "code",
      "execution_count": null,
      "metadata": {
        "_cell_guid": "90e32c45-19b6-54d0-260c-be2b5ca1e09e"
      },
      "outputs": [],
      "source": [
        "y_train=pd.get_dummies(y_train)\n",
        "y_train=y_train.values"
      ]
    },
    {
      "cell_type": "code",
      "execution_count": null,
      "metadata": {
        "_cell_guid": "e8610406-99d6-4921-188c-e2a29ffbf77a"
      },
      "outputs": [],
      "source": [
        "y_train.shape"
      ]
    },
    {
      "cell_type": "code",
      "execution_count": null,
      "metadata": {
        "_cell_guid": "d472b529-9ac1-9e9e-dbd2-55554bb60499"
      },
      "outputs": [],
      "source": [
        "X_train.shape"
      ]
    },
    {
      "cell_type": "code",
      "execution_count": null,
      "metadata": {
        "_cell_guid": "5ca903a1-3de1-dc53-15ca-a9ac94079e8b"
      },
      "outputs": [],
      "source": [
        "# Training\n",
        "model = tflearn.DNN(g, tensorboard_verbose=0)\n",
        "model.fit(X_train, y_train, n_epoch=10, validation_set=0.20,show_metric=True,batch_size=150)"
      ]
    },
    {
      "cell_type": "code",
      "execution_count": null,
      "metadata": {
        "_cell_guid": "21d88183-c0fa-9831-677a-5b9520b3fdd1"
      },
      "outputs": [],
      "source": [
        "y_pred=model.predict(X_test)"
      ]
    },
    {
      "cell_type": "code",
      "execution_count": null,
      "metadata": {
        "_cell_guid": "0a217e20-d07f-9ba8-ad88-7447022a3d85"
      },
      "outputs": [],
      "source": [
        "y_pred=np.argmax(y_pred,axis=1)"
      ]
    },
    {
      "cell_type": "code",
      "execution_count": null,
      "metadata": {
        "_cell_guid": "3ebb9101-b254-cb8d-ebf8-bfe9cc1fe0fa"
      },
      "outputs": [],
      "source": [
        "print('TF Accuracy: ', metrics.accuracy_score(y_test,y_pred))"
      ]
    }
  ],
  "metadata": {
    "_change_revision": 0,
    "_is_fork": false,
    "kernelspec": {
      "display_name": "Python 3",
      "language": "python",
      "name": "python3"
    },
    "language_info": {
      "codemirror_mode": {
        "name": "ipython",
        "version": 3
      },
      "file_extension": ".py",
      "mimetype": "text/x-python",
      "name": "python",
      "nbconvert_exporter": "python",
      "pygments_lexer": "ipython3",
      "version": "3.6.0"
    }
  },
  "nbformat": 4,
  "nbformat_minor": 0
}