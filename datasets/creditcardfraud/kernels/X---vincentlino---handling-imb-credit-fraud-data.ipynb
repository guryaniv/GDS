{
  "cells": [
    {
      "cell_type": "markdown",
      "metadata": {
        "_cell_guid": "2757924b-cbaa-48ca-9c1b-8691ab464030"
      },
      "source": [
        ""
      ]
    },
    {
      "cell_type": "code",
      "execution_count": null,
      "metadata": {
        "_cell_guid": "fc460130-c11d-e832-a7bb-39148d6a0330"
      },
      "outputs": [],
      "source": [
        "# This Python 3 environment comes with many helpful analytics libraries installed\n",
        "# It is defined by the kaggle/python docker image: https://github.com/kaggle/docker-python\n",
        "# For example, here's several helpful packages to load in \n",
        "\n",
        "import numpy as np # linear algebra\n",
        "import pandas as pd # data processing, CSV file I/O (e.g. pd.read_csv)\n",
        "\n",
        "# Input data files are available in the \"../input/\" directory.\n",
        "# For example, running this (by clicking run or pressing Shift+Enter) will list the files in the input directory\n",
        "\n",
        "from subprocess import check_output\n",
        "print(check_output([\"ls\", \"../input\"]).decode(\"utf8\"))\n",
        "\n",
        "# Any results you write to the current directory are saved as output."
      ]
    },
    {
      "cell_type": "code",
      "execution_count": null,
      "metadata": {
        "_cell_guid": "81e1a59a-2a85-ea63-2774-525a7f04e011"
      },
      "outputs": [],
      "source": [
        "import numpy as np \n",
        "import pandas as pd\n",
        "from sklearn import metrics\n",
        "from sklearn.tree import DecisionTreeClassifier\n",
        "from sklearn.ensemble import AdaBoostClassifier,GradientBoostingClassifier,RandomForestClassifier\n",
        "from sklearn.model_selection import train_test_split\n",
        "from sklearn import linear_model, datasets\n",
        "from sklearn.linear_model import RandomizedLogisticRegression\n",
        "from sklearn.metrics import roc_curve, auc, recall_score, precision_score\n",
        "import matplotlib.pyplot as plt"
      ]
    },
    {
      "cell_type": "code",
      "execution_count": null,
      "metadata": {
        "_cell_guid": "d6f06f6c-a7f0-109a-10e0-cb852825dd79"
      },
      "outputs": [],
      "source": [
        "#main_df=pd.read_csv(\"creditcard.csv\")\n",
        "main_df=pd.read_csv(\"../input/creditcard.csv\")\n",
        "main_df.head()\n",
        "feature_size = len(main_df.columns)\n",
        "class_index = feature_size -1 "
      ]
    },
    {
      "cell_type": "code",
      "execution_count": null,
      "metadata": {
        "_cell_guid": "f277c546-2d3e-71b4-b376-2edfadaae824"
      },
      "outputs": [],
      "source": [
        "fraud_raw = main_df[main_df['Class'] == 1]\n",
        "normal_raw = main_df[main_df['Class'] == 0]\n",
        "\n",
        "# Undersample the normal transactions\n",
        "percentage = len(fraud_raw)/float(len(normal_raw))\n",
        "print ('%0.4f'% percentage)"
      ]
    },
    {
      "cell_type": "markdown",
      "metadata": {
        "_cell_guid": "ce6fcb73-5fe8-e56a-455c-ae6856dffa1d"
      },
      "source": [
        "# the reason for testing different P/N class ratio dataset\n",
        "After reviewing several notebooks, undersample strategy usually equal the numbers of two class dataset. Here I tried different class distribution to fit randomforrest models to investigate.  \n",
        "The result shows that balanced(equal) data have the best recall score on test data."
      ]
    },
    {
      "cell_type": "code",
      "execution_count": null,
      "metadata": {
        "_cell_guid": "5ccef4d4-ee5b-a626-3e83-a68de951b9f4"
      },
      "outputs": [],
      "source": [
        "weights = [0.5,1,2,3,4,5,6,7,8,9,10,15,20]\n",
        "for weight in weights:\n",
        "    normal = normal_raw.sample(frac=weight*percentage)\n",
        "    fraud = fraud_raw\n",
        "    cc_data = fraud.append(normal)\n",
        "\n",
        "    print (\"Percentage of normal transactions                 :\", len(normal) / float(len(cc_data)))\n",
        "    print (\"Percentage of fraudulent trasactions                :\", len(fraud_raw) / float(len(cc_data)))\n",
        "    print (\"Total number of transactions in our new dataset :\", len(cc_data))\n",
        "    \n",
        "    reg_model = RandomForestClassifier(criterion='entropy',n_estimators=100)\n",
        "    train_data,test_data = train_test_split(cc_data,test_size=0.30)\n",
        "    train_matrix = train_data.as_matrix()\n",
        "    x = train_matrix[:,range(0,class_index-1)]\n",
        "    y=train_matrix[:,class_index]\n",
        "    reg_model = reg_model.fit(x,y)\n",
        "\n",
        "    test_matrix =test_data.as_matrix()\n",
        "    test_x = test_matrix[:,range(0,class_index-1)]\n",
        "    test_y=test_matrix[:,class_index]\n",
        "    \n",
        "    predicted = reg_model.predict(test_x)\n",
        "    \n",
        "    print ('weight = ',weight)\n",
        "    print ('recall = ',metrics.recall_score(test_y, predicted), 'precision = ',metrics.precision_score(test_y, predicted))\n",
        "    false_positive_rate, true_positive_rate, thresholds = roc_curve(test_y, predicted)\n",
        "    roc_auc = auc(false_positive_rate, true_positive_rate)\n",
        "    print('AUC = %0.4f'% roc_auc)\n",
        "    print ('------------------------')"
      ]
    },
    {
      "cell_type": "code",
      "execution_count": null,
      "metadata": {
        "_cell_guid": "d57d3829-107d-f6ac-a184-6718d3946c70"
      },
      "outputs": [],
      "source": ""
    }
  ],
  "metadata": {
    "_change_revision": 0,
    "_is_fork": false,
    "kernelspec": {
      "display_name": "Python 3",
      "language": "python",
      "name": "python3"
    },
    "language_info": {
      "codemirror_mode": {
        "name": "ipython",
        "version": 3
      },
      "file_extension": ".py",
      "mimetype": "text/x-python",
      "name": "python",
      "nbconvert_exporter": "python",
      "pygments_lexer": "ipython3",
      "version": "3.6.0"
    }
  },
  "nbformat": 4,
  "nbformat_minor": 0
}