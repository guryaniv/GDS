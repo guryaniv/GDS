{"cells":[
 {
  "cell_type": "code",
  "execution_count": null,
  "metadata": {
   "collapsed": false
  },
  "outputs": [],
  "source": "# This Python 3 environment comes with many helpful analytics libraries installed\n# It is defined by the kaggle/python docker image: https://github.com/kaggle/docker-python\n# For example, here's several helpful packages to load in \n\nimport numpy as np # linear algebra\nimport pandas as pd # data processing, CSV file I/O (e.g. pd.read_csv)\n\n# Input data files are available in the \"../input/\" directory.\n# For example, running this (by clicking run or pressing Shift+Enter) will list the files in the input directory\n\nfrom subprocess import check_output\nprint(check_output([\"ls\", \"../input\"]).decode(\"utf8\"))\n\ndocument = pd.read_csv('../input/Indicators.csv')\n\n#want to see all the countries listed in the document  \ndocument['CountryName'].unique()"
 },
 {
  "cell_type": "code",
  "execution_count": null,
  "metadata": {
   "collapsed": false
  },
  "outputs": [],
  "source": "#get rid of indicators that aren't countries \nexclusions = ['Arab World', 'Caribbean small states', 'Central Europe and the Baltics',\n 'East Asia & Pacific (all income levels)',\n 'East Asia & Pacific (developing only)', 'Euro area',\n 'Europe & Central Asia (all income levels)',\n 'Europe & Central Asia (developing only)', 'European Union',\n 'Fragile and conflict affected situations',\n 'Heavily indebted poor countries (HIPC)', 'High income',\n 'High income: nonOECD', 'High income: OECD',\n 'Latin America & Caribbean (all income levels)',\n 'Latin America & Caribbean (developing only)',\n 'Least developed countries: UN classification', 'Low & middle income',\n 'Low income', 'Lower middle income',\n 'Middle East & North Africa (all income levels)',\n 'Middle East & North Africa (developing only)', 'Middle income',\n 'North America' 'OECD members' ,'Other small states',\n 'Pacific island small states', 'Small states', 'South Asia',\n 'Sub-Saharan Africa (all income levels)',\n 'Sub-Saharan Africa (developing only)' ,'Upper middle income' ,'World', 'North America', 'OECD members']\n\nbusiness_inception = document.query(\"IndicatorCode == 'IC.REG.DURS' & CountryName != @exclusions\")"
 },
 {
  "cell_type": "code",
  "execution_count": null,
  "metadata": {
   "collapsed": false
  },
  "outputs": [],
  "source": "colombia = document.query(\"IndicatorCode == 'SE.XPD.TOTL.GD.ZS' & CountryName == 'Austria'\")\n"
 },
 {
  "cell_type": "code",
  "execution_count": null,
  "metadata": {
   "collapsed": false
  },
  "outputs": [],
  "source": "colombia"
 },
 {
  "cell_type": "code",
  "execution_count": null,
  "metadata": {
   "collapsed": false
  },
  "outputs": [],
  "source": "import matplotlib.pyplot as plt\nplt.plot(colombia['Year'], colombia['Value'], 'ro')\nplt.xlabel('Year', fontsize = 14)\nplt.ylabel('Time required to start a business in Colombia (days)', fontsize = 14)\nplt.show()"
 }
],"metadata":{"kernelspec":{"display_name":"Python 3","language":"python","name":"python3"}}, "nbformat": 4, "nbformat_minor": 0}