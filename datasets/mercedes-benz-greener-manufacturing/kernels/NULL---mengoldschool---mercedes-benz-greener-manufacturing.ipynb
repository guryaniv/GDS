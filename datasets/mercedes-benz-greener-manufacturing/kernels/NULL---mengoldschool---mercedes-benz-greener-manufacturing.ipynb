{
  "cells": [
    {
      "cell_type": "markdown",
      "metadata": {
        "_cell_guid": "9d364643-ddb8-5889-1813-5c794d00b1ca"
      },
      "source": [
        "#Team - Mercedes-Benz Greener Manufacturing"
      ]
    },
    {
      "cell_type": "code",
      "execution_count": null,
      "metadata": {
        "_cell_guid": "6ee99f86-b1d3-23de-5bf9-d07d22bdc248"
      },
      "outputs": [],
      "source": [
        "# This Python 3 environment comes with many helpful analytics libraries installed\n",
        "# It is defined by the kaggle/python docker image: https://github.com/kaggle/docker-python\n",
        "# For example, here's several helpful packages to load in \n",
        "\n",
        "import numpy as np # linear algebra\n",
        "import pandas as pd # data processing, CSV file I/O (e.g. pd.read_csv)\n",
        "\n",
        "# Input data files are available in the \"../input/\" directory.\n",
        "# For example, running this (by clicking run or pressing Shift+Enter) will list the files in the input directory\n",
        "\n",
        "from subprocess import check_output\n",
        "print(check_output([\"ls\", \"../input\"]).decode(\"utf8\"))\n",
        "\n",
        "# Any results you write to the current directory are saved as output."
      ]
    },
    {
      "cell_type": "markdown",
      "metadata": {
        "_cell_guid": "0a6e62ea-6ddd-8823-b103-8549e872fe84"
      },
      "source": [
        "# Step 0- Setup (Import the data)"
      ]
    },
    {
      "cell_type": "markdown",
      "metadata": {
        "_cell_guid": "e05055e6-1088-2810-f7f0-41d393b1db72"
      },
      "source": [
        "#Step 1 - Check the data quality\n",
        " - Delete the feature who misses too much data"
      ]
    },
    {
      "cell_type": "markdown",
      "metadata": {
        "_cell_guid": "fd361c66-bbfb-a3a7-d8ee-74506d480c00"
      },
      "source": [
        "#Step 2 - Explore the data\n",
        "\n",
        " - Plot the feature bar diagram / Hist\n",
        " - Plot the feature vs target feature\n",
        " - Plot the covariance / correlation among the features"
      ]
    },
    {
      "cell_type": "markdown",
      "metadata": {
        "_cell_guid": "f8c0d814-13cc-3309-463a-4ed03f9f0e6d"
      },
      "source": [
        "#Step 3 - PCA analysis (Principal Component Analysis)\n",
        "\n",
        " - Feature reduction "
      ]
    },
    {
      "cell_type": "markdown",
      "metadata": {
        "_cell_guid": "033cea2b-a19e-a975-741b-a721baa32b5b"
      },
      "source": [
        "#Step 4 - Design Hyperthesis "
      ]
    },
    {
      "cell_type": "code",
      "execution_count": null,
      "metadata": {
        "_cell_guid": "c4fe73fc-1d2d-9acd-c911-db4bd8a20810"
      },
      "outputs": [],
      "source": ""
    },
    {
      "cell_type": "code",
      "execution_count": null,
      "metadata": {
        "_cell_guid": "3c65b68f-1a4a-ca37-44a8-688ed91520eb"
      },
      "outputs": [],
      "source": ""
    }
  ],
  "metadata": {
    "_change_revision": 0,
    "_is_fork": false,
    "kernelspec": {
      "display_name": "Python 3",
      "language": "python",
      "name": "python3"
    },
    "language_info": {
      "codemirror_mode": {
        "name": "ipython",
        "version": 3
      },
      "file_extension": ".py",
      "mimetype": "text/x-python",
      "name": "python",
      "nbconvert_exporter": "python",
      "pygments_lexer": "ipython3",
      "version": "3.6.0"
    }
  },
  "nbformat": 4,
  "nbformat_minor": 0
}