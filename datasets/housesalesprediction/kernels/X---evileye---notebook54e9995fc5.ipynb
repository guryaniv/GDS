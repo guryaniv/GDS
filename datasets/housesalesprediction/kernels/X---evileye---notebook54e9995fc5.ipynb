{
  "cells": [
    {
      "cell_type": "code",
      "execution_count": null,
      "metadata": {
        "_cell_guid": "6dfaba3e-ee1c-ee94-d762-42fe0ed14d73"
      },
      "outputs": [],
      "source": [
        "# This Python 3 environment comes with many helpful analytics libraries installed\n",
        "# It is defined by the kaggle/python docker image: https://github.com/kaggle/docker-python\n",
        "# For example, here's several helpful packages to load in \n",
        "\n",
        "import numpy as np # linear algebra\n",
        "import pandas as pd # data processing, CSV file I/O (e.g. pd.read_csv)\n",
        "\n",
        "# Input data files are available in the \"../input/\" directory.\n",
        "# For example, running this (by clicking run or pressing Shift+Enter) will list the files in the input directory\n",
        "\n",
        "from subprocess import check_output\n",
        "print(check_output([\"ls\", \"../input\"]).decode(\"utf8\"))\n",
        "\n",
        "# Any results you write to the current directory are saved as output."
      ]
    },
    {
      "cell_type": "code",
      "execution_count": null,
      "metadata": {
        "_cell_guid": "f19bdab1-8d2e-e37e-700b-41eed3f21d87"
      },
      "outputs": [],
      "source": [
        "df = pd.read_csv(\"../input/kc_house_data.csv\")\n",
        "df.info()"
      ]
    },
    {
      "cell_type": "code",
      "execution_count": null,
      "metadata": {
        "_cell_guid": "d696ffcc-76e3-057d-1825-c2328fb174bd"
      },
      "outputs": [],
      "source": [
        "df.head(3)"
      ]
    },
    {
      "cell_type": "code",
      "execution_count": null,
      "metadata": {
        "_cell_guid": "f3be274a-5c1e-5c44-d14f-91ab075f24b7"
      },
      "outputs": [],
      "source": [
        "df.describe()"
      ]
    },
    {
      "cell_type": "code",
      "execution_count": null,
      "metadata": {
        "_cell_guid": "f7c67fda-d23b-ccc3-5aac-e01a82d6b1a7"
      },
      "outputs": [],
      "source": [
        "import matplotlib.pyplot as plt\n",
        "import seaborn as sns\n",
        "from sklearn.preprocessing import StandardScaler\n",
        "from sklearn.model_selection import train_test_split, learning_curve\n",
        "from sklearn.linear_model import LinearRegression\n",
        "from sklearn.model_selection import KFold\n",
        "from sklearn.metrics import r2_score\n",
        "from sklearn.model_selection import validation_curve\n",
        "from sklearn.linear_model import Ridge"
      ]
    },
    {
      "cell_type": "code",
      "execution_count": null,
      "metadata": {
        "_cell_guid": "9e529fc3-957c-47b8-b985-0fce57d6b1e0"
      },
      "outputs": [],
      "source": [
        "df[\"date\"] = pd.to_datetime(df[\"date\"])\n",
        "df.head(3)"
      ]
    },
    {
      "cell_type": "code",
      "execution_count": null,
      "metadata": {
        "_cell_guid": "7c3ec381-b6cc-436c-605c-08b5562a22e8"
      },
      "outputs": [],
      "source": [
        "X_visual = df.iloc[:, 2:]\n",
        "X = df.iloc[:, 3:]\n",
        "y = df.iloc[:, 2]"
      ]
    },
    {
      "cell_type": "code",
      "execution_count": null,
      "metadata": {
        "_cell_guid": "71fe4989-4224-bb51-7f2f-172e5aa6615f"
      },
      "outputs": [],
      "source": [
        "X_train, X_test, y_train, y_test = train_test_split(X, y, test_size = 0.3, random_state = 42)"
      ]
    },
    {
      "cell_type": "code",
      "execution_count": null,
      "metadata": {
        "_cell_guid": "48333d70-4156-3f4d-9921-f5438dd0c655"
      },
      "outputs": [],
      "source": [
        "sns.set(style=\"whitegrid\", context=\"notebook\")\n",
        "#sns.pairplot(X_visual, size=2.5)"
      ]
    },
    {
      "cell_type": "code",
      "execution_count": null,
      "metadata": {
        "_cell_guid": "dda315d1-cdcc-0920-5b25-a99b138e3c13"
      },
      "outputs": [],
      "source": [
        "cols = list(X_visual.columns)"
      ]
    },
    {
      "cell_type": "code",
      "execution_count": null,
      "metadata": {
        "_cell_guid": "969efc76-d734-853f-f802-37ae0498e957"
      },
      "outputs": [],
      "source": [
        "cm = np.corrcoef(X_visual.values.T)\n",
        "sns.set(font_scale=1.5)\n",
        "fig, ax = plt.subplots(figsize = (20,25))\n",
        "hm = sns.heatmap(cm, cbar=True, annot=True, fmt = '.2f', xticklabels = cols, yticklabels = cols)"
      ]
    },
    {
      "cell_type": "code",
      "execution_count": null,
      "metadata": {
        "_cell_guid": "019bd8d6-ae21-f928-ece6-ce925bfff6ae"
      },
      "outputs": [],
      "source": [
        "ss = StandardScaler()\n",
        "X_train = ss.fit_transform(X_train)\n",
        "X_test = ss.transform(X_test)\n"
      ]
    },
    {
      "cell_type": "code",
      "execution_count": null,
      "metadata": {
        "_cell_guid": "8daac102-931c-5183-40e4-ed0c8464d2e0"
      },
      "outputs": [],
      "source": [
        "lr=LinearRegression()\n",
        "lr.fit(X_train, y_train)\n",
        "pred = lr.predict(X_train)\n",
        "pred1 = lr.predict(X_test)\n",
        "print(\"r2_score for training data: \", r2_score(y_train, pred))\n",
        "print(\"r2_score for test data: \", r2_score(y_test, pred1))"
      ]
    },
    {
      "cell_type": "code",
      "execution_count": null,
      "metadata": {
        "_cell_guid": "2a89af6d-e24c-58a3-1592-ef08bf6d6474"
      },
      "outputs": [],
      "source": [
        "train_sizes, train_scores, test_scores =learning_curve(estimator=lr,X=X_train,y=y_train,train_sizes=np.linspace(0.1, 1.0, 10),n_jobs=-1)\n",
        "#print(train_scores,test_scores)\n",
        "train_mean = np.mean(train_scores, axis=1)\n",
        "print(train_mean)\n",
        "train_std = np.std(train_scores, axis=1)\n",
        "test_mean = np.mean(test_scores, axis=1)\n",
        "test_std = np.std(test_scores, axis=1)\n"
      ]
    },
    {
      "cell_type": "code",
      "execution_count": null,
      "metadata": {
        "_cell_guid": "59e96cac-1a13-d1b6-e636-9d8eff06ef3b"
      },
      "outputs": [],
      "source": [
        "plt.plot(train_sizes, train_mean,\n",
        "color='blue', marker='o',\n",
        "markersize=5,\n",
        "label='training accuracy')\n",
        "\n",
        "plt.plot(train_sizes, test_mean,\n",
        "color='green', linestyle='--',\n",
        "marker='s', markersize=5,\n",
        "label='validation accuracy')\n",
        "\n",
        "plt.grid()\n",
        "plt.xlabel('Number of training samples')\n",
        "plt.ylabel('Accuracy')\n",
        "plt.legend(loc='lower right')\n",
        "plt.ylim([0.5, 1.0])\n",
        "plt.show()"
      ]
    },
    {
      "cell_type": "code",
      "execution_count": null,
      "metadata": {
        "_cell_guid": "e036bf3e-2413-2dd2-d3bd-2806e131d4f3"
      },
      "outputs": [],
      "source": [
        "lr.coef_"
      ]
    },
    {
      "cell_type": "code",
      "execution_count": null,
      "metadata": {
        "_cell_guid": "9a16183e-4311-0743-f6b0-18389c7a2f2d"
      },
      "outputs": [],
      "source": [
        "ridge = Ridge()\n",
        "ridge.fit(X_train, y_train)\n",
        "pred2 = ridge.predict(X_train)\n",
        "pred3 = ridge.predict(X_test)\n",
        "print(\"R2 score for train ridge: \", r2_score(y_train, pred2))\n",
        "print(\"r2_score for test data: \", r2_score(y_test, pred3))"
      ]
    },
    {
      "cell_type": "code",
      "execution_count": null,
      "metadata": {
        "_cell_guid": "68930c24-e6fa-9d12-d717-6e621f3527d8"
      },
      "outputs": [],
      "source": [
        "from sklearn.learning_curve import validation_curve\n",
        "param_range = [1e-5,1e-4,0.001, 0.01, 0.1, 1.0, 10.0, 100.0 ]\n",
        "train_scores, test_scores = validation_curve(\n",
        "estimator=ridge,\n",
        "X=X_train,\n",
        "y=y_train,\n",
        "param_name='alpha',\n",
        "param_range=param_range)\n",
        "train_mean = np.mean(train_scores, axis=1)\n",
        "train_std = np.std(train_scores, axis=1)\n",
        "test_mean = np.mean(test_scores, axis=1)\n",
        "test_std = np.std(test_scores, axis=1)\n",
        "plt.plot(param_range, train_mean,\n",
        "color='blue', marker='o',\n",
        "markersize=5,\n",
        "label='training accuracy')\n",
        "\n",
        "plt.plot(param_range, test_mean,\n",
        "color='green', linestyle='--',\n",
        "marker='s', markersize=5,\n",
        "label='validation accuracy')\n",
        "\n",
        "plt.grid()\n",
        "plt.xscale('log')\n",
        "plt.legend(loc='lower right')\n",
        "plt.xlabel('Parameter C')\n",
        "plt.ylabel('Accuracy')\n",
        "plt.ylim([0.5, 1.0])\n",
        "plt.show()\n"
      ]
    },
    {
      "cell_type": "code",
      "execution_count": null,
      "metadata": {
        "_cell_guid": "5d17fbee-0c74-d2d7-2b63-c444609a61f5"
      },
      "outputs": [],
      "source": [
        "ridge.coef_"
      ]
    },
    {
      "cell_type": "code",
      "execution_count": null,
      "metadata": {
        "_cell_guid": "5de57cf3-e68b-0f22-7a6a-48b93e7a376d"
      },
      "outputs": [],
      "source": [
        "from sklearn.preprocessing import PolynomialFeatures\n",
        "\n",
        "pr = LinearRegression()\n",
        "quad = PolynomialFeatures(degree = 2)\n",
        "X_quad = quad.fit_transform(X_train)\n",
        "pr = pr.fit(X_quad, y_train)\n",
        "quadratic_r2 = r2_score(y_train, pr.predict(X_quad))\n",
        "print(\"r2  of 2: \", quadratic_r2)"
      ]
    },
    {
      "cell_type": "code",
      "execution_count": null,
      "metadata": {
        "_cell_guid": "700b2465-7172-97d7-eaf9-65f308cb83f5"
      },
      "outputs": [],
      "source": [
        "train_sizes, train_scores, test_scores =learning_curve(estimator=pr,X=X_quad,y=y_train,train_sizes=np.linspace(0.2, 1.0, 10),cv=10,n_jobs=-1)\n",
        "#print(train_scores,test_scores)\n",
        "train_mean = np.mean(train_scores, axis=1)\n",
        "train_std = np.std(train_scores, axis=1)\n",
        "test_mean = np.mean(test_scores, axis=1)\n",
        "test_std = np.std(test_scores, axis=1)\n",
        "\n"
      ]
    },
    {
      "cell_type": "code",
      "execution_count": null,
      "metadata": {
        "_cell_guid": "d864dbab-29ae-7cd3-5445-b1f1e20a15bc"
      },
      "outputs": [],
      "source": [
        "plt.plot(train_sizes, train_mean,\n",
        "color='blue', marker='o',\n",
        "markersize=5,\n",
        "label='training accuracy')\n",
        "\n",
        "plt.plot(train_sizes, test_mean,\n",
        "color='green', linestyle='--',\n",
        "marker='s', markersize=5,\n",
        "label='validation accuracy')\n",
        "\n",
        "plt.grid()\n",
        "plt.xlabel('Number of training samples')\n",
        "plt.ylabel('Accuracy')\n",
        "plt.legend(loc='lower right')\n",
        "plt.ylim([0, 1.0])\n",
        "plt.show()"
      ]
    },
    {
      "cell_type": "code",
      "execution_count": null,
      "metadata": {
        "_cell_guid": "47652f9a-b9cb-782b-99c8-d6b02e5b9227"
      },
      "outputs": [],
      "source": [
        "pred=pr.predict(X_test)\n",
        "print('r2_2',r2_score(y_test,pred)\n"
      ]
    },
    {
      "cell_type": "markdown",
      "metadata": {
        "_cell_guid": "7cde8d2e-6c7b-89a8-6d76-f90aef4464d9"
      },
      "source": [
        "pr2 = Ridge()\n",
        "quad1 = PolynomialFeatures(degree = 2)\n",
        "X_quad1 = quad1.fit_transform(X_train)\n",
        "pr2 = pr2.fit(X_quad1, y_train)\n",
        "quadratic_r3 = r2_score(y_train, pr2.predict(X_quad1))\n",
        "print(\"r2  of ridge: \", quadratic_r3)"
      ]
    },
    {
      "cell_type": "code",
      "execution_count": null,
      "metadata": {
        "_cell_guid": "7b95fc38-9522-26c5-4833-b2682b5fe9a2"
      },
      "outputs": [],
      "source": ""
    },
    {
      "cell_type": "code",
      "execution_count": null,
      "metadata": {
        "_cell_guid": "36178650-4d13-e065-7bd3-fd363fcaddf9"
      },
      "outputs": [],
      "source": [
        "pred2 = pr.predict(X_test)\n",
        "print(\"r2_score accuracy on test set for poly2 linear regression: \", r2_score(y_test, pred2))"
      ]
    },
    {
      "cell_type": "code",
      "execution_count": null,
      "metadata": {
        "_cell_guid": "2b6fefd0-0433-0444-7d89-fa688d3d758d"
      },
      "outputs": [],
      "source": ""
    }
  ],
  "metadata": {
    "_change_revision": 0,
    "_is_fork": false,
    "kernelspec": {
      "display_name": "Python 3",
      "language": "python",
      "name": "python3"
    },
    "language_info": {
      "codemirror_mode": {
        "name": "ipython",
        "version": 3
      },
      "file_extension": ".py",
      "mimetype": "text/x-python",
      "name": "python",
      "nbconvert_exporter": "python",
      "pygments_lexer": "ipython3",
      "version": "3.6.0"
    }
  },
  "nbformat": 4,
  "nbformat_minor": 0
}