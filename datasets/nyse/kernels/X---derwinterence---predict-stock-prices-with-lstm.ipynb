{
  "cells": [
    {
      "cell_type": "markdown",
      "metadata": {
        "_cell_guid": "969d6ca2-efa8-ea00-2e8f-9e07655626d8"
      },
      "source": [
        "based on \n",
        "https://github.com/llSourcell/How-to-Predict-Stock-Prices-Easily-Demo\n",
        "and\n",
        "http://machinelearningmastery.com/time-series-prediction-lstm-recurrent-neural-networks-python-keras/\n",
        "\n",
        "I just want to predict if a stock will rise based on previous information"
      ]
    },
    {
      "cell_type": "code",
      "execution_count": null,
      "metadata": {
        "_cell_guid": "f366cf34-f601-7e9b-53e5-5b4e2713044f"
      },
      "outputs": [],
      "source": [
        "import numpy as np # linear algebra\n",
        "import pandas as pd # data processing, CSV file I/O (e.g. pd.read_csv)\n",
        "\n",
        "from subprocess import check_output\n",
        "from keras.layers.core import Dense, Activation, Dropout\n",
        "from keras.layers.recurrent import LSTM\n",
        "from keras.models import Sequential\n",
        "from sklearn.cross_validation import  train_test_split\n",
        "import time #helper libraries\n",
        "from sklearn.preprocessing import MinMaxScaler\n",
        "import matplotlib.pyplot as plt\n",
        "from numpy import newaxis"
      ]
    },
    {
      "cell_type": "code",
      "execution_count": null,
      "metadata": {
        "_cell_guid": "e7c1344f-59af-8372-0376-940a72566da6"
      },
      "outputs": [],
      "source": [
        "prices_dataset =  pd.read_csv('../input/prices.csv', header=0)\n",
        "print(type(prices_dataset))\n",
        "prices_dataset"
      ]
    },
    {
      "cell_type": "markdown",
      "metadata": {
        "_cell_guid": "ba803ec7-702a-423f-ec96-f06593bc4880"
      },
      "source": [
        "How many unique ticker symbols are there?"
      ]
    },
    {
      "cell_type": "code",
      "execution_count": null,
      "metadata": {
        "_cell_guid": "afbaa2e6-6f36-7726-bff0-399b365382fb"
      },
      "outputs": [],
      "source": [
        "yahoo = prices_dataset[prices_dataset['symbol']=='YHOO']\n",
        "print(yahoo)\n",
        "print(type(yahoo))\n",
        "print(yahoo.close.values)\n",
        "yahoo_stock_prices = yahoo.close.values.astype('float32')\n",
        "yahoo_stock_prices = yahoo_stock_prices.reshape(1762, 1)\n",
        "yahoo_stock_prices.shape"
      ]
    },
    {
      "cell_type": "code",
      "execution_count": null,
      "metadata": {
        "_cell_guid": "8b1f18dc-75e2-0dab-ad53-893ae89e844e"
      },
      "outputs": [],
      "source": [
        "plt.plot(yahoo_stock_prices)\n",
        "plt.show()"
      ]
    },
    {
      "cell_type": "code",
      "execution_count": null,
      "metadata": {
        "_cell_guid": "a7fe4936-c44b-1788-a16b-35b5b1eb675c"
      },
      "outputs": [],
      "source": [
        "scaler = MinMaxScaler(feature_range=(0, 1))\n",
        "yahoo_stock_prices = scaler.fit_transform(yahoo_stock_prices)\n",
        "print(yahoo_stock_prices)"
      ]
    },
    {
      "cell_type": "code",
      "execution_count": null,
      "metadata": {
        "_cell_guid": "2f69042b-d335-b8ff-ec17-980189526e7d"
      },
      "outputs": [],
      "source": [
        "train_size = int(len(yahoo_stock_prices) * 0.80)\n",
        "test_size = len(yahoo_stock_prices) - train_size\n",
        "train, test = yahoo_stock_prices[0:train_size,:], yahoo_stock_prices[train_size:len(yahoo_stock_prices),:]\n",
        "print(len(train), len(test))"
      ]
    },
    {
      "cell_type": "code",
      "execution_count": null,
      "metadata": {
        "_cell_guid": "f9d24454-e0a4-a6e5-f04f-1b46b810158c"
      },
      "outputs": [],
      "source": [
        "def create_dataset(dataset, look_back=1):\n",
        "\tdataX, dataY = [], []\n",
        "\tfor i in range(len(dataset)-look_back-1):\n",
        "\t\ta = dataset[i:(i+look_back), 0]\n",
        "\t\t#print('a:',a)\n",
        "\t\tdataX.append(a)\n",
        "\t\tb = dataset[i+look_back,0] \n",
        "\t\t#print('b: ',b)\n",
        "\t\tdataY.append(b)\n",
        "\treturn np.array(dataX), np.array(dataY)"
      ]
    },
    {
      "cell_type": "code",
      "execution_count": null,
      "metadata": {
        "_cell_guid": "be3111fd-4f02-d9be-a35f-530b10b6ac3a"
      },
      "outputs": [],
      "source": [
        "look_back = 1\n",
        "trainX, trainY = create_dataset(train, look_back)"
      ]
    },
    {
      "cell_type": "code",
      "execution_count": null,
      "metadata": {
        "_cell_guid": "1473324e-fe16-3b59-5284-86b404957868"
      },
      "outputs": [],
      "source": [
        "Compare trainX and trainY."
      ]
    },
    {
      "cell_type": "code",
      "execution_count": null,
      "metadata": {
        "_cell_guid": "78663d00-a581-0029-ee15-2bdbfcae0041"
      },
      "outputs": [],
      "source": [
        "print(train.shape)\n",
        "print(trainX.shape)"
      ]
    },
    {
      "cell_type": "code",
      "execution_count": null,
      "metadata": {
        "_cell_guid": "17f5bc9d-47ad-2206-71cd-e85ecac42175"
      },
      "outputs": [],
      "source": [
        "testX, testY = create_dataset(test, look_back)"
      ]
    },
    {
      "cell_type": "code",
      "execution_count": null,
      "metadata": {
        "_cell_guid": "a74ff89f-d274-de8c-f11c-bf2ffaf29eed"
      },
      "outputs": [],
      "source": [
        "print(trainX.shape)\n",
        "trainX = np.reshape(trainX, (trainX.shape[0], 1, trainX.shape[1]))\n",
        "print(trainX.shape)\n",
        "testX = np.reshape(testX, (testX.shape[0], 1, testX.shape[1]))"
      ]
    },
    {
      "cell_type": "code",
      "execution_count": null,
      "metadata": {
        "_cell_guid": "6e379f90-c703-6712-12ed-9aa0942a5408"
      },
      "outputs": [],
      "source": [
        "#Step 2 Build Model\n",
        "model = Sequential()\n",
        "\n",
        "model.add(LSTM(\n",
        "    input_dim=1,\n",
        "    output_dim=50,\n",
        "    # to stack recurrent layers, you must use return_sequences=True\n",
        "    # on any recurrent layer that feeds into another recurrent layer.\n",
        "    return_sequences=True))\n",
        "model.add(Dropout(0.2))\n",
        "\n",
        "model.add(LSTM(\n",
        "    100,\n",
        "    return_sequences=False))\n",
        "model.add(Dropout(0.2))\n",
        "\n",
        "model.add(Dense(\n",
        "    output_dim=1))\n",
        "model.add(Activation('linear'))\n",
        "\n",
        "start = time.time()\n",
        "model.compile(loss='mse', optimizer='rmsprop')\n",
        "print ('compilation time : ', time.time() - start)"
      ]
    },
    {
      "cell_type": "code",
      "execution_count": null,
      "metadata": {
        "_cell_guid": "e668a235-00fe-4fe3-925b-99051ae376f9"
      },
      "outputs": [],
      "source": [
        "model.fit(\n",
        "    trainX,\n",
        "    trainY,\n",
        "    batch_size=128,\n",
        "    nb_epoch=10,\n",
        "    # Fraction of the data to use as held-out validation data.\n",
        "    validation_split=0.05)"
      ]
    },
    {
      "cell_type": "markdown",
      "metadata": {
        "_cell_guid": "47e1110a-81cc-20f8-4157-39b83e000cd7"
      },
      "source": [
        "## work in progress"
      ]
    },
    {
      "cell_type": "code",
      "execution_count": null,
      "metadata": {
        "_cell_guid": "7fbffc92-2c8b-e384-77a1-f042762c0593"
      },
      "outputs": [],
      "source": [
        "def plot_results_multiple(predicted_data, true_data, length):\n",
        "    plt.plot(scaler.inverse_transform(true_data.reshape(-1, 1))[length:])\n",
        "    plt.plot(scaler.inverse_transform(np.array(predicted_data).reshape(-1, 1))[length:])\n",
        "    plt.show()\n",
        "    \n",
        "#predict length consecutive values from a real one\n",
        "def predict_sequences_multiple(model, firstValue,length):\n",
        "    prediction_seqs = []\n",
        "    curr_frame = firstValue\n",
        "    \n",
        "    for i in range(length): \n",
        "        predicted = []        \n",
        "        \n",
        "        print(model.predict(curr_frame[newaxis,:,:]))\n",
        "        predicted.append(model.predict(curr_frame[newaxis,:,:])[0,0])\n",
        "        \n",
        "        curr_frame = curr_frame[0:]\n",
        "        curr_frame = np.insert(curr_frame[0:], i+1, predicted[-1], axis=0)\n",
        "        \n",
        "        prediction_seqs.append(predicted[-1])\n",
        "        \n",
        "    return prediction_seqs\n",
        "\n",
        "predict_length=5\n",
        "predictions = predict_sequences_multiple(model, testX[0], predict_length)\n",
        "print(scaler.inverse_transform(np.array(predictions).reshape(-1, 1)))\n",
        "plot_results_multiple(predictions, testY, predict_length)"
      ]
    },
    {
      "cell_type": "code",
      "execution_count": null,
      "metadata": {
        "_cell_guid": "6bb17f06-0cca-f31a-90db-06ceb72089d6"
      },
      "outputs": [],
      "source": [
        "print(predictions)\n",
        "print(len(predictions))\n",
        "print(testY)"
      ]
    },
    {
      "cell_type": "code",
      "execution_count": null,
      "metadata": {
        "_cell_guid": "ca630cf3-e3e8-9c8a-08a7-7e69edb895e6"
      },
      "outputs": [],
      "source": [
        "plt.plot(scaler.inverse_transform(testY.reshape(-1, 1))[5:])"
      ]
    },
    {
      "cell_type": "code",
      "execution_count": null,
      "metadata": {
        "_cell_guid": "48333a7c-c944-7210-3714-b5a903941b73"
      },
      "outputs": [],
      "source": [
        "plt.plot(scaler.inverse_transform(np.array(predictions).reshape(-1, 1))[5:])"
      ]
    },
    {
      "cell_type": "code",
      "execution_count": null,
      "metadata": {
        "_cell_guid": "f0285d4f-2dae-91b4-a05a-024bf46edc1b"
      },
      "outputs": [],
      "source": [
        "plt.plot(scaler.inverse_transform(testY.reshape(-1, 1))[5:])\n",
        "plt.plot(scaler.inverse_transform(np.array(predictions).reshape(-1, 1))[5:])\n",
        "plt.show()"
      ]
    },
    {
      "cell_type": "code",
      "execution_count": null,
      "metadata": {
        "_cell_guid": "618385f7-a6de-81a4-bd45-bc696f4b4764"
      },
      "outputs": [],
      "source": [
        "plot_results_multiple(predictions, testY, predict_length)"
      ]
    }
  ],
  "metadata": {
    "_change_revision": 0,
    "_is_fork": false,
    "kernelspec": {
      "display_name": "Python 3",
      "language": "python",
      "name": "python3"
    },
    "language_info": {
      "codemirror_mode": {
        "name": "ipython",
        "version": 3
      },
      "file_extension": ".py",
      "mimetype": "text/x-python",
      "name": "python",
      "nbconvert_exporter": "python",
      "pygments_lexer": "ipython3",
      "version": "3.6.0"
    }
  },
  "nbformat": 4,
  "nbformat_minor": 0
}