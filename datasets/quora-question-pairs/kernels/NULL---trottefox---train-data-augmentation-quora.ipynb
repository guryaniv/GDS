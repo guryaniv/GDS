{
  "cells": [
    {
      "cell_type": "markdown",
      "metadata": {
        "_cell_guid": "5d87c793-6cd1-0ef4-67bd-28f893a75221"
      },
      "source": [
        "## Train Data Augmentation\n",
        "This notebook has been made in order to exploit **Adnen's idea** in the comments of https://www.kaggle.com/davidthaler/quora-question-pairs/duplicates-of-duplicates.\n",
        "\n",
        "*A duplicate of a duplicate is a duplicate and a non duplicate of a duplicate is a non duplicate, so we can create more training data.*\n",
        "\n",
        "Be careful in using this, this reasoning might not be valid here because some questions are not strictly duplicate in a mathematical point of vue, and potential errors in the target can have a bigger effect on the model you'll use. I think it's worth trying though.\n",
        "\n",
        "**Hope it can help someone !**"
      ]
    },
    {
      "cell_type": "code",
      "execution_count": null,
      "metadata": {
        "_cell_guid": "87491597-771d-c099-33e9-232e78bc7296"
      },
      "outputs": [],
      "source": [
        "# This Python 3 environment comes with many helpful analytics libraries installed\n",
        "# It is defined by the kaggle/python docker image: https://github.com/kaggle/docker-python\n",
        "# For example, here's several helpful packages to load in \n",
        "\n",
        "import numpy as np # linear algebra\n",
        "import pandas as pd # data processing, CSV file I/O (e.g. pd.read_csv)\n",
        "import itertools\n",
        "\n",
        "# Input data files are available in the \"../input/\" directory.\n",
        "# For example, running this (by clicking run or pressing Shift+Enter) will list the files in the input directory\n",
        "\n",
        "from subprocess import check_output\n",
        "print(check_output([\"ls\", \"../input\"]).decode(\"utf8\"))\n",
        "\n",
        "# Any results you write to the current directory are saved as output."
      ]
    },
    {
      "cell_type": "code",
      "execution_count": null,
      "metadata": {
        "_cell_guid": "3a06f88d-d63a-517a-7b27-6e830ebebcb9"
      },
      "outputs": [],
      "source": [
        "#load data\n",
        "train=pd.read_csv('../input/train.csv')\n",
        "del train['id']"
      ]
    },
    {
      "cell_type": "code",
      "execution_count": null,
      "metadata": {
        "_cell_guid": "3bc58fb5-6a81-0fb1-1f29-9724587b3c39"
      },
      "outputs": [],
      "source": [
        "#create a Dataframe with duplicate question ids\n",
        "ids_duplicate=train[train.is_duplicate==1][[\"qid1\", \"qid2\"]]\n",
        "#replace qid1 and qid2 by min(qid1,qid2) and max(qid1,qid2)\n",
        "ids_duplicate['qidmin']=ids_duplicate.apply(lambda x:min(x['qid1'],x['qid2']),axis=1)\n",
        "ids_duplicate['qidmax']=ids_duplicate.apply(lambda x:max(x['qid1'],x['qid2']),axis=1)\n",
        "del ids_duplicate[\"qid1\"]\n",
        "del ids_duplicate[\"qid2\"]\n",
        "#create a string key\n",
        "ids_duplicate['key']=ids_duplicate.apply(lambda x:str(x.qidmin)+' '+str(x.qidmax), axis=1)\n",
        "\n",
        "#create a Dataframe with different questions ids\n",
        "ids_different=train[train.is_duplicate==0][[\"qid1\", \"qid2\"]]\n",
        "#replace qid1 and qid2 by min(qid1,qid2) and max(qid1,qid2)\n",
        "ids_different['qidmin']=ids_different.apply(lambda x:min(x['qid1'],x['qid2']),axis=1)\n",
        "ids_different['qidmax']=ids_different.apply(lambda x:max(x['qid1'],x['qid2']),axis=1)\n",
        "del ids_different[\"qid1\"]\n",
        "del ids_different[\"qid2\"]\n",
        "#create a string key\n",
        "ids_different['key']=ids_different.apply(lambda x:str(x.qidmin)+' '+str(x.qidmax), axis=1)\n",
        "\n",
        "#build a question DB\n",
        "basequestion=np.concatenate((np.array(train[['qid1','question1']]), np.array(train[['qid2','question2']])),axis=0)\n",
        "basequestion=pd.DataFrame(basequestion, columns=[\"q\", \"question\"])\n",
        "basequestion=basequestion.drop_duplicates()\n",
        "basequestion.index=basequestion['q']\n",
        "basequestion.head()"
      ]
    },
    {
      "cell_type": "code",
      "execution_count": null,
      "metadata": {
        "_cell_guid": "727b30ad-9321-b53e-86ff-a27d019f96c2"
      },
      "outputs": [],
      "source": [
        "#Time to identify new duplicates and new differents\n",
        "new_duplicates=[]\n",
        "new_differents=[]\n",
        "for qidmin in ids_duplicate.qidmin.unique():\n",
        "    #for each qidmin value, we'll get a list of their duplicates and differents\n",
        "    list_dup=list(ids_duplicate[ids_duplicate.qidmin==qidmin][\"qidmax\"])\n",
        "    list_dif=list(ids_different[ids_different.qidmin==qidmin][\"qidmax\"])\n",
        "    #each dup1 and dup2 from list_dup is a duplicate, so:\n",
        "    for dup1,dup2 in itertools.combinations(list_dup,2):\n",
        "        if dup1<dup2:\n",
        "            dup1,dup2= dup2,dup1\n",
        "        #we can add [dup1, dup2] as a potentially new duplicate\n",
        "        new_duplicates.append(str(dup1)+' '+str(dup2))\n",
        "        for dif in list_dif:\n",
        "            #then for each element of list_dif, we can say that dup1 and dup2 are different of this element\n",
        "            #because they're duplicate of qidmin\n",
        "            new_differents.append(str(min(dif,dup1))+' '+str(max(dif,dup1)))\n",
        "            new_differents.append(str(min(dif,dup2))+' '+str(max(dif,dup2)))\n",
        "\n",
        "#now let's drop \"duplicates\":\n",
        "new_duplicates=list(set(new_duplicates)-set(ids_duplicate['key']))\n",
        "print(len(new_duplicates), \"new duplicates\")\n",
        "new_differents=list(set(new_differents)-set(ids_different['key']))\n",
        "print(len(new_differents), \"new different\")"
      ]
    },
    {
      "cell_type": "code",
      "execution_count": null,
      "metadata": {
        "_cell_guid": "8a197399-8373-abe6-0920-1246dcff3688"
      },
      "outputs": [],
      "source": [
        "#build new train data\n",
        "train_add_list=[]\n",
        "for elt in new_duplicates:\n",
        "    q1,q2= elt.split(\" \")\n",
        "    q1=int(q1)\n",
        "    q2=int(q2)\n",
        "    train_add_list.append([q1, q2, basequestion.ix[q1].question, basequestion.ix[q2].question, 1])\n",
        "for elt in new_differents:\n",
        "    q1,q2= elt.split(\" \")\n",
        "    q1=int(q1)\n",
        "    q2=int(q2)\n",
        "    train_add_list.append([q1, q2, basequestion.ix[q1].question, basequestion.ix[q2].question, 0])\n",
        "train_add=pd.DataFrame(train_add_list, columns=train.columns)\n",
        "train_add.sample(20)"
      ]
    },
    {
      "cell_type": "code",
      "execution_count": null,
      "metadata": {
        "_cell_guid": "c1480e8d-501e-6b63-d47b-7a8a838c6408"
      },
      "outputs": [],
      "source": [
        "#Export data as a new train set\n",
        "pd.concat([train, train_add], axis=0).to_csv('newtrain.csv')"
      ]
    },
    {
      "cell_type": "code",
      "execution_count": null,
      "metadata": {
        "_cell_guid": "d215c5bd-5b64-704d-6406-f0f4f42d2b6e"
      },
      "outputs": [],
      "source": [
        ""
      ]
    }
  ],
  "metadata": {
    "_change_revision": 0,
    "_is_fork": false,
    "kernelspec": {
      "display_name": "Python 3",
      "language": "python",
      "name": "python3"
    },
    "language_info": {
      "codemirror_mode": {
        "name": "ipython",
        "version": 3
      },
      "file_extension": ".py",
      "mimetype": "text/x-python",
      "name": "python",
      "nbconvert_exporter": "python",
      "pygments_lexer": "ipython3",
      "version": "3.6.0"
    }
  },
  "nbformat": 4,
  "nbformat_minor": 0
}