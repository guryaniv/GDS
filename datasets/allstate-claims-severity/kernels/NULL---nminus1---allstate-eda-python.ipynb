{
  "cells": [
    {
      "cell_type": "markdown",
      "metadata": {
        "_cell_guid": "56a1a159-4ea6-10b7-99ab-01774d35112b"
      },
      "source": [
        "### This is my attempt to replicate EDA into python \n",
        "Inspiration: (https://www.kaggle.com/dmi3kno/allstate-claims-severity/allstate-eda )"
      ]
    },
    {
      "cell_type": "code",
      "execution_count": null,
      "metadata": {
        "_cell_guid": "8af09d32-8633-3cde-cdcb-630281548d52"
      },
      "outputs": [],
      "source": [
        "import numpy as np # linear algebra\n",
        "import pandas as pd # data processing, CSV file I/O (e.g. pd.read_csv)\n",
        "%matplotlib inline\n",
        "import matplotlib.pyplot as plt\n",
        "import matplotlib as mpl\n",
        "import seaborn as sns\n",
        "sns.set(style=\"whitegrid\", color_codes=True)\n",
        "dftrain = pd.read_csv('../input/train.csv')\n",
        "\n",
        "# Get Categorical Columns\n",
        "nonnumcols=[]\n",
        "for col in dftrain.columns:\n",
        "    if col.startswith('cat'):\n",
        "        nonnumcols.append(col)\n",
        "\n",
        "# Get Categorical Columns\n",
        "numcols=[]\n",
        "for col in dftrain.columns:\n",
        "    if col.startswith('cont'):\n",
        "        numcols.append(col)"
      ]
    },
    {
      "cell_type": "markdown",
      "metadata": {
        "_cell_guid": "41b64070-6ff3-aeab-a0b4-eb5b0b3dc5d5"
      },
      "source": [
        "### Boxplots for categorical columns"
      ]
    },
    {
      "cell_type": "code",
      "execution_count": null,
      "metadata": {
        "_cell_guid": "bf8ac854-bb63-d1c0-a44f-0aa828a222d8"
      },
      "outputs": [],
      "source": [
        "ncol = 3\n",
        "nrow = 2\n",
        "for i in range(nrow):\n",
        "    fig,axs = plt.subplots(nrows=1,ncols=ncol,sharey=True,figsize=(12, 8))\n",
        "    cols = nonnumcols[i*ncol:ncol*(i+1)]\n",
        "    for i in range(len(axs)):\n",
        "        axs[i].set(yscale=\"log\")\n",
        "        sns.boxplot(x=cols[i], y=\"loss\", data=dftrain, ax=axs[i])\n",
        "        axs[i].set(xlabel=cols[i], ylabel='log(loss)')"
      ]
    },
    {
      "cell_type": "markdown",
      "metadata": {
        "_cell_guid": "2dcf9587-30f7-44d7-1daa-5c3d4c7345db"
      },
      "source": [
        "### Density plot for  continuous predictors"
      ]
    },
    {
      "cell_type": "code",
      "execution_count": null,
      "metadata": {
        "_cell_guid": "41f7d421-b039-ce35-4217-676f8fb3cab4"
      },
      "outputs": [],
      "source": [
        "for i in range(nrow):\n",
        "    fig,axs = plt.subplots(nrows=1,ncols=ncol,sharey=True,figsize=(12, 8))\n",
        "    cols = numcols[i*ncol:ncol*(i+1)]\n",
        "    for i in range(len(axs)):\n",
        "        sns.distplot(dftrain[cols[i]], ax=axs[i], hist=False)\n",
        "        xlabel=cols[i]+\" ( R squared = \"+str(round(np.corrcoef(dftrain.loss, dftrain[cols[i]])[0, 1],2))+\" ) \"\n",
        "        axs[i].set(xlabel=xlabel, ylabel='Density')"
      ]
    },
    {
      "cell_type": "markdown",
      "metadata": {
        "_cell_guid": "78fa74b4-9480-bb23-b4ce-716184393a3f"
      },
      "source": [
        "### "
      ]
    },
    {
      "cell_type": "markdown",
      "metadata": {
        "_cell_guid": "25274331-d0d2-62a5-7ced-0568a273fc93"
      },
      "source": [
        "### Scatterplots for  continuous predictors"
      ]
    },
    {
      "cell_type": "code",
      "execution_count": null,
      "metadata": {
        "_cell_guid": "47e7afe1-c30f-3958-8d7d-0c0a150b687f"
      },
      "outputs": [],
      "source": [
        "for i in range(nrow):\n",
        "    fig,axs = plt.subplots(nrows=1,ncols=ncol,sharey=True,figsize=(12, 8))\n",
        "    cols = numcols[i*ncol:ncol*(i+1)]\n",
        "    for i in range(len(axs)):\n",
        "        axs[i].set(yscale=\"log\")\n",
        "        sns.regplot(x=cols[i], y=\"loss\", data=dftrain, ax=axs[i])\n",
        "        xlabel=cols[i]+\" ( R squared = \"+str(round(np.corrcoef(dftrain.loss, dftrain[cols[i]])[0, 1],2))+\" ) \"\n",
        "        axs[i].set(xlabel=xlabel, ylabel='log(loss)')"
      ]
    },
    {
      "cell_type": "markdown",
      "metadata": {
        "_cell_guid": "dbaa913a-0855-55f8-b054-5fd931fcf3f4"
      },
      "source": [
        "### Correlations"
      ]
    },
    {
      "cell_type": "code",
      "execution_count": null,
      "metadata": {
        "_cell_guid": "93cb4e7c-ccd6-a247-6771-65c5056854e9"
      },
      "outputs": [],
      "source": [
        "d = dftrain[numcols]\n",
        "corrmat = d.corr()\n",
        "\n",
        "# Set up the matplotlib figure\n",
        "f, ax = plt.subplots(figsize=(12, 9))\n",
        "\n",
        "# Draw the heatmap using seaborn\n",
        "sns.heatmap(corrmat, vmax=.8, square=True)"
      ]
    }
  ],
  "metadata": {
    "_change_revision": 0,
    "_is_fork": false,
    "kernelspec": {
      "display_name": "Python 3",
      "language": "python",
      "name": "python3"
    },
    "language_info": {
      "codemirror_mode": {
        "name": "ipython",
        "version": 3
      },
      "file_extension": ".py",
      "mimetype": "text/x-python",
      "name": "python",
      "nbconvert_exporter": "python",
      "pygments_lexer": "ipython3",
      "version": "3.5.2"
    }
  },
  "nbformat": 4,
  "nbformat_minor": 0
}