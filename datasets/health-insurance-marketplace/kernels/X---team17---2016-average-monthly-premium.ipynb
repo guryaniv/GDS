{
  "cells": [
    {
      "cell_type": "code",
      "execution_count": null,
      "metadata": {
        "_cell_guid": "dada135e-d4fe-68da-e700-cc8708d1d901"
      },
      "outputs": [],
      "source": [
        "# This Python 3 environment comes with many helpful analytics libraries installed\n",
        "# It is defined by the kaggle/python docker image: https://github.com/kaggle/docker-python\n",
        "# For example, here's several helpful packages to load in \n",
        "\n",
        "import numpy as np # linear algebra\n",
        "import pandas as pd # data processing, CSV file I/O (e.g. pd.read_csv)\n",
        "\n",
        "# Input data files are available in the \"../input/\" directory.\n",
        "# For example, running this (by clicking run or pressing Shift+Enter) will list the files in the input directory\n",
        "\n",
        "from subprocess import check_output\n",
        "print(check_output([\"ls\", \"../input\"]).decode(\"utf8\"))\n",
        "\n",
        "# Any results you write to the current directory are saved as output."
      ]
    },
    {
      "cell_type": "code",
      "execution_count": null,
      "metadata": {
        "_cell_guid": "6b41cfd8-aef1-01a7-e6d2-190d4054b053"
      },
      "outputs": [],
      "source": [
        "import plotly.plotly as py\n",
        "import plotly.offline as ploff\n",
        "\n",
        "from ggplot import *\n",
        "from subprocess import check_output\n",
        "from plotly.offline import init_notebook_mode, plot\n",
        "\n",
        "ploff.init_notebook_mode()\n",
        "\n",
        "headers = ['BusinessYear', 'StateCode', 'Age', \n",
        "           'IndividualRate', 'Couple']\n",
        "\n",
        "# read in chuncks for memory efficiency\n",
        "filePath = '../input/Rate.csv'\n",
        "chunks = pd.read_csv(filePath, iterator=True, chunksize=1000,\n",
        "                    usecols=headers)\n",
        "rates = pd.concat(chunk for chunk in chunks)\n",
        "\n",
        "randomRows = rates.sample(n=6)\n",
        "randomRows"
      ]
    },
    {
      "cell_type": "code",
      "execution_count": null,
      "metadata": {
        "_cell_guid": "d975c249-9a1e-ead2-5e0a-ac3b9847bba5"
      },
      "outputs": [],
      "source": [
        "pd.set_option('display.float_format', lambda x: '%.2f' % x)\n",
        "print (rates['Couple'].describe())"
      ]
    },
    {
      "cell_type": "code",
      "execution_count": null,
      "metadata": {
        "_cell_guid": "002a6d20-cd20-0169-f973-a56225537823"
      },
      "outputs": [],
      "source": [
        "print (rates['IndividualRate'].describe())"
      ]
    },
    {
      "cell_type": "code",
      "execution_count": null,
      "metadata": {
        "_cell_guid": "3cf4f77b-0453-0688-b886-0e80b9227745"
      },
      "outputs": [],
      "source": [
        "ratesInd9000 = rates[rates.IndividualRate < 9000]\n",
        "print (ratesInd9000['IndividualRate'].describe())"
      ]
    },
    {
      "cell_type": "code",
      "execution_count": null,
      "metadata": {
        "_cell_guid": "5070b068-be8c-2402-968f-0e9e798c9923"
      },
      "outputs": [],
      "source": [
        "columns = ['BusinessYear', 'StateCode', 'IndividualRate']\n",
        "indRates = pd.DataFrame(ratesInd9000, columns=columns)\n",
        "indRates2016 = indRates[indRates.BusinessYear == 2016]\n",
        "indRates2016 = indRates2016.dropna(subset=['IndividualRate'])\n",
        "randomRows2016 = indRates2016.sample(n=6)\n",
        "randomRows2016"
      ]
    },
    {
      "cell_type": "code",
      "execution_count": null,
      "metadata": {
        "_cell_guid": "d5f311d1-c352-acba-a910-90a119ebad47"
      },
      "outputs": [],
      "source": [
        "indRates2016['IndividualRate'].describe()"
      ]
    },
    {
      "cell_type": "code",
      "execution_count": null,
      "metadata": {
        "_cell_guid": "e17b58ef-bfc3-d22a-6dc9-6a465d9d6efe"
      },
      "outputs": [],
      "source": [
        "indMean2016 = indRates2016.groupby('StateCode', as_index=False).mean()\n",
        "indMean2016"
      ]
    }
  ],
  "metadata": {
    "_change_revision": 0,
    "_is_fork": false,
    "kernelspec": {
      "display_name": "Python 3",
      "language": "python",
      "name": "python3"
    },
    "language_info": {
      "codemirror_mode": {
        "name": "ipython",
        "version": 3
      },
      "file_extension": ".py",
      "mimetype": "text/x-python",
      "name": "python",
      "nbconvert_exporter": "python",
      "pygments_lexer": "ipython3",
      "version": "3.5.2"
    }
  },
  "nbformat": 4,
  "nbformat_minor": 0
}