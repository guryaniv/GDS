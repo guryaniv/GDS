{
  "cells": [
    {
      "cell_type": "markdown",
      "metadata": {
        "_cell_guid": "ac06cd79-9189-6d2b-9a83-012d19327beb"
      },
      "source": [
        "Load the required libraries and data. "
      ]
    },
    {
      "cell_type": "code",
      "execution_count": null,
      "metadata": {
        "_cell_guid": "555a1731-6a24-51ed-f194-a47541b955db"
      },
      "outputs": [],
      "source": [
        "import numpy as np\n",
        "import pandas as pd\n",
        "import matplotlib.pyplot as plt\n",
        "import seaborn as sns\n",
        "%matplotlib inline\n",
        "from sklearn import model_selection, preprocessing\n",
        "import xgboost as xgb\n",
        "import datetime\n",
        "#now = datetime.datetime.now()\n",
        "\n",
        "train = pd.read_csv('../input/train.csv')\n",
        "test = pd.read_csv('../input/test.csv')\n",
        "macro = pd.read_csv('../input/macro.csv')\n",
        "\n",
        "train.sample(3)\n",
        "# Any results you write to the current directory are saved as output."
      ]
    },
    {
      "cell_type": "markdown",
      "metadata": {
        "_cell_guid": "0f47bd73-2192-cc78-1f0e-3e5df236b4ef"
      },
      "source": [
        "Let's look at our target variable"
      ]
    },
    {
      "cell_type": "code",
      "execution_count": null,
      "metadata": {
        "_cell_guid": "453dd466-9d8b-17f4-2dbf-24724635fc84"
      },
      "outputs": [],
      "source": [
        "plt.figure(figsize=(10,8))\n",
        "sns.distplot(train.price_doc.values, bins=60, kde=True)\n",
        "plt.xlabel('Price', fontsize=12)\n",
        "plt.show()"
      ]
    },
    {
      "cell_type": "markdown",
      "metadata": {
        "_cell_guid": "e916ae03-ff7e-9b30-1a26-b6a3112d6165"
      },
      "source": [
        "The distribution is right skewed. Let's log transform the variable."
      ]
    },
    {
      "cell_type": "code",
      "execution_count": null,
      "metadata": {
        "_cell_guid": "09f60ecb-6c9d-e5cb-c87a-fac1f6f618ee"
      },
      "outputs": [],
      "source": [
        "plt.figure(figsize=(10,8))\n",
        "sns.distplot(np.log(train.price_doc.values), bins=60, kde=True)\n",
        "plt.xlabel('Price', fontsize=12)\n",
        "plt.show()"
      ]
    },
    {
      "cell_type": "markdown",
      "metadata": {
        "_cell_guid": "758c753c-a8bb-c698-8d1a-10c0e4bbc945"
      },
      "source": [
        "The peaks at points between 13 and 14 and 14 and 15 requires attention. I wi\n",
        "Let's look at the missing values "
      ]
    },
    {
      "cell_type": "code",
      "execution_count": null,
      "metadata": {
        "_cell_guid": "4242e8cb-4c2d-832d-5e90-589285f75dac"
      },
      "outputs": [],
      "source": [
        "def missing_plot(dataframe, figure_x, figure_y):\n",
        "    df = dataframe.isnull().sum().reset_index()\n",
        "    df.columns = ['column_name', 'na_count']\n",
        "    df = df[df.na_count > 0]\n",
        "    df = df.sort_values(by=['na_count'], ascending = [False])\n",
        "    plt.figure(figsize=(figure_x, figure_y))\n",
        "    sns.barplot(x=\"na_count\", y =\"column_name\",data = df, orient=\"h\")\n",
        "    plt.xlabel('Missing count', fontsize=12)\n",
        "    plt.show()\n",
        "missing_plot(train, 10,45)"
      ]
    },
    {
      "cell_type": "code",
      "execution_count": null,
      "metadata": {
        "_cell_guid": "ee5fe994-0ee4-f47e-56b8-0ca3420fbe0b"
      },
      "outputs": [],
      "source": [
        "def corr_plot(dataframe, top_n, target, fig_x, fig_y):\n",
        "    corrmat = dataframe.corr()\n",
        "    #top_n - top n correlations +1 since price is included\n",
        "    top_n = top_n + 1 \n",
        "    cols = corrmat.nlargest(top_n, target)[target].index\n",
        "    cm = np.corrcoef(train[cols].values.T)\n",
        "    f, ax = plt.subplots(figsize=(fig_x,fig_y))\n",
        "    sns.set(font_scale=1.25)\n",
        "    cmap = plt.cm.viridis\n",
        "    hm = sns.heatmap(cm, cbar=False, annot=True, square=True,cmap = cmap, fmt='.2f', annot_kws={'size': 10}, \n",
        "                 yticklabels=cols.values, xticklabels=cols.values)\n",
        "    plt.show()\n",
        "    return cols\n",
        "corr_20 = corr_plot(train, 20, 'price_doc', 10,10)"
      ]
    },
    {
      "cell_type": "code",
      "execution_count": null,
      "metadata": {
        "_cell_guid": "c12131d1-ecf8-9dd6-df0e-a2c54b057771"
      },
      "outputs": [],
      "source": [
        "len(train)"
      ]
    },
    {
      "cell_type": "code",
      "execution_count": null,
      "metadata": {
        "_cell_guid": "77bc969e-1bbb-88b4-426b-c4a7de49c9c3"
      },
      "outputs": [],
      "source": [
        "features_imp = list(corr_20[1:22])\n",
        "data_train = train[features_imp]\n",
        "data_test = test[features_imp]\n",
        "data_train.head()"
      ]
    },
    {
      "cell_type": "markdown",
      "metadata": {
        "_cell_guid": "37fb2e5b-f2db-5230-14d6-237322f0cfc2"
      },
      "source": [
        "Let's just build a model using the mean num of rooms for the missing values"
      ]
    },
    {
      "cell_type": "code",
      "execution_count": null,
      "metadata": {
        "_cell_guid": "009eabe7-5f71-b56d-10d8-8622072204cb"
      },
      "outputs": [],
      "source": [
        "data_train['num_room'].fillna(data_train[\"num_room\"].mean(), inplace=True)\n",
        "data_test['num_room'].fillna(data_train[\"num_room\"].mean(), inplace = True)\n",
        "data_train.head()\n",
        "data_test.head()"
      ]
    },
    {
      "cell_type": "code",
      "execution_count": null,
      "metadata": {
        "_cell_guid": "aa07292d-e0db-0f9a-33f3-75b0c5b11a5f"
      },
      "outputs": [],
      "source": [
        "target = list(corr_20[0:1])\n",
        "id_test = test['id']"
      ]
    },
    {
      "cell_type": "code",
      "execution_count": null,
      "metadata": {
        "_cell_guid": "3d7cfc81-7f95-6463-de29-24d61e7f9ffd"
      },
      "outputs": [],
      "source": [
        "df_columns = data_train.columns\n",
        "x_train = data_train.values\n",
        "y_train = train[target].values\n",
        "x_test = data_test.values"
      ]
    },
    {
      "cell_type": "code",
      "execution_count": null,
      "metadata": {
        "_cell_guid": "8af6c180-4e30-8c18-9b93-9dc32a242792"
      },
      "outputs": [],
      "source": [
        "xgb_params = {\n",
        "    'eta': 0.05,\n",
        "    'max_depth': 5,\n",
        "    'subsample': 0.7,\n",
        "    'colsample_bytree': 0.7,\n",
        "    'objective': 'reg:linear',\n",
        "    'eval_metric': 'rmse',\n",
        "    'silent': 1\n",
        "}\n",
        "\n",
        "dtrain = xgb.DMatrix(x_train, y_train, feature_names=df_columns)\n",
        "dtest = xgb.DMatrix(x_test, feature_names=df_columns)"
      ]
    },
    {
      "cell_type": "code",
      "execution_count": null,
      "metadata": {
        "_cell_guid": "6fef7514-5663-5363-6083-6d7dfc6fb25e"
      },
      "outputs": [],
      "source": [
        "cv_output = xgb.cv(xgb_params, dtrain, num_boost_round=1000, early_stopping_rounds=20,\n",
        "    verbose_eval=50, show_stdv=False)\n",
        "cv_output[['train-rmse-mean', 'test-rmse-mean']].plot()"
      ]
    },
    {
      "cell_type": "code",
      "execution_count": null,
      "metadata": {
        "_cell_guid": "a96d1965-8328-35b0-d0a3-dfcfa77275ab"
      },
      "outputs": [],
      "source": [
        "num_boost_rounds = len(cv_output)\n",
        "model = xgb.train(dict(xgb_params, silent=0), dtrain, num_boost_round= num_boost_rounds)"
      ]
    },
    {
      "cell_type": "code",
      "execution_count": null,
      "metadata": {
        "_cell_guid": "2a04f7d8-3efa-df54-713e-f6222453c60b"
      },
      "outputs": [],
      "source": [
        "fig, ax = plt.subplots(1, 1, figsize=(8, 13))\n",
        "xgb.plot_importance(model, max_num_features=50, height=0.5, ax=ax)"
      ]
    },
    {
      "cell_type": "code",
      "execution_count": null,
      "metadata": {
        "_cell_guid": "27d0831f-df36-2608-b11a-a335c9a79613"
      },
      "outputs": [],
      "source": [
        "y_predict = model.predict(dtest)\n",
        "output = pd.DataFrame({'id': id_test, 'price_doc': y_predict})\n",
        "output.head()"
      ]
    },
    {
      "cell_type": "code",
      "execution_count": null,
      "metadata": {
        "_cell_guid": "0a5dbdee-3e96-aded-9c71-2e2c72af3e5a"
      },
      "outputs": [],
      "source": [
        "output.to_csv('submission.csv', index=False)"
      ]
    }
  ],
  "metadata": {
    "_change_revision": 0,
    "_is_fork": false,
    "kernelspec": {
      "display_name": "Python 3",
      "language": "python",
      "name": "python3"
    },
    "language_info": {
      "codemirror_mode": {
        "name": "ipython",
        "version": 3
      },
      "file_extension": ".py",
      "mimetype": "text/x-python",
      "name": "python",
      "nbconvert_exporter": "python",
      "pygments_lexer": "ipython3",
      "version": "3.6.0"
    }
  },
  "nbformat": 4,
  "nbformat_minor": 0
}