{
  "cells": [
    {
      "cell_type": "markdown",
      "metadata": {
        "_cell_guid": "159179f7-fa18-d8a5-41e7-ccb24707a92a"
      },
      "source": [
        "- Finding the best optimal resizing technique which can be applied to all Images.\n",
        "\n",
        "I am seeing a lot of kernels where people are just resizing it to (64,64) to (128,128) without taking care of aspect ratio. So this notebook address this issue and suggest you methods to resize. \n",
        "\n",
        "- Aspect Ratio = width/height. \n",
        " -if you are not maintaining the same aspect ratio when you are resizing the image. It will lead to a distorted Image and all the features which you r training using CNN's will fail in capturing signals as same kind of fish in different Images will have different shape because of your resizing technique. This is a serious false.\n",
        "  "
      ]
    },
    {
      "cell_type": "markdown",
      "metadata": {
        "_cell_guid": "41c804f4-d7be-6a32-f159-065b02a16dc3"
      },
      "source": [
        "## Load the Libraries"
      ]
    },
    {
      "cell_type": "code",
      "execution_count": null,
      "metadata": {
        "_cell_guid": "8dd1d919-a4f2-0b1a-22ec-75b90801196e"
      },
      "outputs": [],
      "source": [
        "import numpy as np\n",
        "import pandas as pd \n",
        "import glob,cv2\n",
        "import random\n",
        "import matplotlib.pyplot as plt\n",
        "%matplotlib inline\n",
        "from tqdm import tqdm\n",
        "from PIL import Image\n",
        "\n",
        "import warnings\n",
        "warnings.filterwarnings(\"ignore\")"
      ]
    },
    {
      "cell_type": "code",
      "execution_count": null,
      "metadata": {
        "_cell_guid": "3fcfcba7-f67e-7dc2-e91c-33c76ba206ee"
      },
      "outputs": [],
      "source": [
        "# load all the folder location\n",
        "folderlist = glob.glob(\"../input/train/*\")"
      ]
    },
    {
      "cell_type": "code",
      "execution_count": null,
      "metadata": {
        "_cell_guid": "918654eb-dbd7-2bf1-6674-8f04d481600b"
      },
      "outputs": [],
      "source": [
        "# Find what all different size Images you have - copied from other kaggle script\n",
        "different_size = {}\n",
        "for i in folderlist:\n",
        "    filelist = glob.glob(i+\"/*\")\n",
        "    for j in filelist:\n",
        "        img = cv2.imread(j)\n",
        "        size = \"_\".join(map(str,list(img.shape)))\n",
        "        different_size[size] = different_size.get(size, 0) + 1"
      ]
    },
    {
      "cell_type": "code",
      "execution_count": null,
      "metadata": {
        "_cell_guid": "d7144431-912d-8b97-4717-19796c899199"
      },
      "outputs": [],
      "source": [
        "different_size"
      ]
    },
    {
      "cell_type": "code",
      "execution_count": null,
      "metadata": {
        "_cell_guid": "d21bc947-d46a-7991-5941-1bfc9dd6f20f"
      },
      "outputs": [],
      "source": [
        "# select all the Image locations of the same shape and and append it to the list in a dict \n",
        "filelist_diff = {}\n",
        "for i in tqdm(folderlist):\n",
        "    filelist = glob.glob(i+\"/*\")\n",
        "    for j in filelist:\n",
        "        img = cv2.imread(j)\n",
        "        size = \"_\".join(map(str,list(img.shape)))\n",
        "        if size in filelist_diff.keys():\n",
        "            filelist_diff[size].append(j)\n",
        "        else:\n",
        "            filelist_diff[size] = []\n",
        "        "
      ]
    },
    {
      "cell_type": "code",
      "execution_count": null,
      "metadata": {
        "_cell_guid": "9b350f91-e91d-3f33-447d-190581f5b75d"
      },
      "outputs": [],
      "source": [
        "#example\n",
        "[random.choice(filelist_diff['700_1244_3']) for i in range(4)]"
      ]
    },
    {
      "cell_type": "markdown",
      "metadata": {
        "_cell_guid": "046380a5-ea75-86f6-4afe-a498e54f93fa"
      },
      "source": [
        "## Plots\n",
        " - Plot 2 Images each from same shape. I have randomly selected 2 Images and plotted it, You may get a different output when you run "
      ]
    },
    {
      "cell_type": "code",
      "execution_count": null,
      "metadata": {
        "_cell_guid": "e4cb46ac-c0db-4529-a6fd-4e3c81104593"
      },
      "outputs": [],
      "source": [
        "for key in filelist_diff.keys():\n",
        "    img_list = [random.choice(filelist_diff[key]) for i in range(4)]\n",
        "    images = [cv2.imread(i) for i in img_list]\n",
        "    fig,ax = plt.subplots(nrows=1,ncols=4,sharex=\"col\",sharey=\"row\",figsize=(20,3))\n",
        "    fig.suptitle(key,fontsize=16)\n",
        "    for i,img in enumerate(images):\n",
        "        ax[i].imshow(img)"
      ]
    },
    {
      "cell_type": "markdown",
      "metadata": {
        "_cell_guid": "3e2b5d09-912a-b18d-2b4e-97b304af332f"
      },
      "source": [
        "## Resizing - Here I  am resizing all the Images to (920,1200) size. \n",
        "- I have randomly selected 1200 to be my width as most of the Images have width around this value\n",
        "- I have calculated the aspect ratio and as you can see they range from 1.31 to 1.77\n",
        "- Next I have calculated the height of the Image incase if reduce/increase the width of the Image. This ranged from 913 to 674.\n",
        "- So incase if we can create a board of (920,1200) and paste all the Images with center, We can bring all the Images to the same size. The for loop I have run where I used PIL package has done that for you. You can see the output."
      ]
    },
    {
      "cell_type": "code",
      "execution_count": null,
      "metadata": {
        "_cell_guid": "7f0bb3f5-e310-3f61-7a0e-d3f294da1a36"
      },
      "outputs": [],
      "source": [
        "filelist_diff.keys()"
      ]
    },
    {
      "cell_type": "code",
      "execution_count": null,
      "metadata": {
        "_cell_guid": "6333b8f4-798b-02b2-3944-98076c160706"
      },
      "outputs": [],
      "source": [
        "[float(i.rsplit(\"_\")[1])/float(i.rsplit(\"_\")[0]) for i in filelist_diff.keys()]"
      ]
    },
    {
      "cell_type": "code",
      "execution_count": null,
      "metadata": {
        "_cell_guid": "94a000af-abe2-7909-978e-f70d9b41f1ef"
      },
      "outputs": [],
      "source": [
        "[1200/(float(i.rsplit(\"_\")[1])/float(i.rsplit(\"_\")[0])) for i in filelist_diff.keys()]"
      ]
    },
    {
      "cell_type": "code",
      "execution_count": null,
      "metadata": {
        "_cell_guid": "cdd1bd83-a10e-996e-19b2-e11e631e28cc"
      },
      "outputs": [],
      "source": [
        "h = 1200\n",
        "for key in filelist_diff.keys():\n",
        "    img_list = [random.choice(filelist_diff[key]) for i in range(4)]\n",
        "    Images = []\n",
        "    for i in range(len(img_list)):\n",
        "        img = Image.open(img_list[i],'r')\n",
        "        l = int(img.size[1]*h/img.size[0])\n",
        "        img = img.resize((h,l), Image.ANTIALIAS)\n",
        "        background = Image.new('RGB', (1200, 920), (255, 255, 255))\n",
        "        img_w, img_h = img.size\n",
        "        bg_w, bg_h = background.size\n",
        "        offset = (int((bg_w - img_w) / 2), int((bg_h - img_h) / 2))\n",
        "        background.paste(img, offset)\n",
        "        Images.append(background)\n",
        "    fig,ax = plt.subplots(nrows=1,ncols=4,sharex=\"col\",sharey=\"row\",figsize=(20,3))\n",
        "    fig.suptitle(key,fontsize=16)\n",
        "    for i,f in enumerate(Images):\n",
        "        ax[i].imshow(f)"
      ]
    },
    {
      "cell_type": "markdown",
      "metadata": {
        "_cell_guid": "f4eb2e8f-80eb-4658-e55a-0952e11912a4"
      },
      "source": [
        "Now using standard python libraries opencv and PIL, you can resize all the Images to the required size by preserving the aspect ratio and run your analysis \n",
        "\n",
        "I prefer using rectangular Images as input to CNN's as all train data have rectangular Images. \n",
        "\n",
        "Further, You can use the above functions and design a ImageGenerator function and feed it to your CNN's along with some data agumentation. "
      ]
    },
    {
      "cell_type": "code",
      "execution_count": null,
      "metadata": {
        "_cell_guid": "0cd9b554-3236-dbfb-13ca-2bea5772e683"
      },
      "outputs": [],
      "source": [
        ""
      ]
    }
  ],
  "metadata": {
    "_change_revision": 0,
    "_is_fork": false,
    "kernelspec": {
      "display_name": "Python 3",
      "language": "python",
      "name": "python3"
    },
    "language_info": {
      "codemirror_mode": {
        "name": "ipython",
        "version": 3
      },
      "file_extension": ".py",
      "mimetype": "text/x-python",
      "name": "python",
      "nbconvert_exporter": "python",
      "pygments_lexer": "ipython3",
      "version": "3.5.2"
    }
  },
  "nbformat": 4,
  "nbformat_minor": 0
}