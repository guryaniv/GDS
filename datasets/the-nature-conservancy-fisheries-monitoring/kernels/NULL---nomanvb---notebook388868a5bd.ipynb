{
  "metadata": {
    "kernelspec": {
      "display_name": "Python 3",
      "language": "python",
      "name": "python3"
    },
    "language_info": {
      "codemirror_mode": {
        "name": "ipython",
        "version": 3
      },
      "file_extension": ".py",
      "mimetype": "text/x-python",
      "name": "python",
      "nbconvert_exporter": "python",
      "pygments_lexer": "ipython3",
      "version": "3.5.2"
    }
  },
  "nbformat": 4,
  "nbformat_minor": 0,
  "cells": [
    {
      "metadata": {
        "_cell_guid": "ae65ed16-ea9d-7b3e-3dd4-8c2577c696ea",
        "_active": false,
        "collapsed": false
      },
      "source": "I am giving a try of BoatID code. tanks to anokas for his wonderful work.",
      "execution_count": null,
      "cell_type": "markdown",
      "outputs": [],
      "execution_state": "idle"
    },
    {
      "metadata": {
        "_cell_guid": "2481986e-b0c1-4042-50da-4e571d86d9e0",
        "_active": false,
        "collapsed": false
      },
      "source": "# This Python 3 environment comes with many helpful analytics libraries installed\n# It is defined by the kaggle/python docker image: https://github.com/kaggle/docker-python\n# For example, here's several helpful packages to load in \n\nimport numpy as np # linear algebra\nimport pandas as pd # data processing, CSV file I/O (e.g. pd.read_csv)\n\n# Input data files are available in the \"../input/\" directory.\n# For example, running this (by clicking run or pressing Shift+Enter) will list the files in the input directory\n\nfrom subprocess import check_output\nprint(check_output([\"ls\", \"../input\"]).decode(\"utf8\"))\n\n# Any results you write to the current directory are saved as output.",
      "execution_count": 1,
      "cell_type": "code",
      "outputs": [],
      "execution_state": "idle"
    },
    {
      "metadata": {
        "_cell_guid": "5beb3a3c-6071-cf72-72a1-2163ed981905",
        "_active": false,
        "collapsed": false
      },
      "source": "import glob\nfrom sklearn import cluster\nimport cv2\nimport skimage.measure as sm\nimport multiprocessing\nimport random\nimport matplotlib.pyplot as plt\nfrom scipy.misc import imread\nimport seaborn as sns\n%matplotlib inline",
      "execution_count": 2,
      "cell_type": "code",
      "outputs": [],
      "execution_state": "idle"
    },
    {
      "metadata": {
        "_cell_guid": "2b83ed4e-6079-603a-0378-b74f92e5872c",
        "_active": false,
        "collapsed": false
      },
      "source": "new_style = {'grid':False}\nplt.rc('axes',**new_style)\n\n#Function to show 4 images\ndef show_four(imgs, title):\n    #select_imgs = [np.random.choice(imgs) for _ in range(4)]\n    select_imgs = [imgs[np.random.choice(len(imgs))] for _ in range(4)]\n    _, ax = plt.subplots(1, 4, sharex='col', sharey='row', figsize=(20, 3))\n    plt.suptitle(title, size=20)\n    for i, img in enumerate(select_imgs):\n        ax[i].imshow(img)\n        \nprint (\"done\")",
      "execution_count": 3,
      "cell_type": "code",
      "outputs": [],
      "execution_state": "idle"
    },
    {
      "metadata": {
        "_cell_guid": "d0749480-3ec3-b81f-6ca7-7af5608a4aee",
        "_active": false,
        "collapsed": false
      },
      "source": "# Function to show 8 images\ndef show_eight(imgs, title):\n    select_imgs = [imgs[np.random.choice(len(imgs))] for _ in range(8)]\n    _, ax = plt.subplots(2, 4, sharex='col', sharey='row', figsize=(20, 6))\n    plt.suptitle(title, size=20)\n    for i, img in enumerate(select_imgs):\n        ax[i // 4, i % 4].imshow(img)\nprint(\"done\")",
      "execution_count": 4,
      "cell_type": "code",
      "outputs": [],
      "execution_state": "idle"
    },
    {
      "metadata": {
        "_cell_guid": "082ce8f9-26dd-80d4-0c9a-602cafc3cac1",
        "_active": false,
        "collapsed": false
      },
      "source": "select = 500  # load 500\ntrain_files= sorted(glob.glob('../input/train/*/*.jpg'), key=lambda x: random.random())[:select]\ntrain = np.array([imread(img) for img in train_files])\nprint('Length of train{}'.format(len(train)))\nprint('Sizes in train:')\n    ",
      "execution_count": 5,
      "cell_type": "code",
      "outputs": [],
      "execution_state": "idle"
    },
    {
      "metadata": {
        "_cell_guid": "17b75654-e3c4-11c3-5719-5906cc555ef8",
        "_active": false,
        "collapsed": false
      },
      "source": "shapes = np.array([str(img.shape) for img in train])\npd.Series(shapes).value_counts()\n#print(pd.Series(shapes).value_counts())\nprint( pd.Series(shapes).unique())\n",
      "execution_count": 6,
      "cell_type": "code",
      "outputs": [],
      "execution_state": "idle"
    },
    {
      "metadata": {
        "_cell_guid": "c002ea2b-948c-782c-f835-705f418fd572",
        "_active": false,
        "collapsed": false
      },
      "source": "for uniq in pd.Series(shapes).unique():\n    show_four(train[shapes == uniq], 'Images with shape: {}'.format(uniq))\n    plt.show()\n    ",
      "execution_count": 7,
      "cell_type": "code",
      "outputs": [],
      "execution_state": "idle"
    },
    {
      "metadata": {
        "_cell_guid": "24293f57-6c63-496e-f687-b3b6439afe2c",
        "_active": false,
        "collapsed": false
      },
      "source": "# Function for computing distance between images\ndef compare(args):\n    img, img2 = args\n    img = (img - img.mean()) / img.std()\n    img2 = (img2 - img2.mean()) / img2.std()\n    return np.mean(np.abs(img - img2))\nprint('Done')",
      "execution_count": 10,
      "cell_type": "code",
      "outputs": [],
      "execution_state": "idle"
    },
    {
      "metadata": {
        "_cell_guid": "0faa9df4-0cef-d0df-5199-bce7a50551d5",
        "_active": false,
        "collapsed": false
      },
      "source": "# Resize the images to speed it up.\ntrain = [cv2.resize(img, (224, 224), cv2.INTER_LINEAR) for img in train]",
      "execution_count": 11,
      "cell_type": "code",
      "outputs": [],
      "execution_state": "idle"
    },
    {
      "metadata": {
        "_cell_guid": "f5bc2dff-c8c5-12e8-7fd8-2beeec35927c",
        "_active": false,
        "collapsed": false
      },
      "source": "train[1].std()",
      "execution_count": 33,
      "cell_type": "code",
      "outputs": [],
      "execution_state": "idle"
    },
    {
      "metadata": {
        "_cell_guid": "2b550d31-480d-0304-eaec-80f627f9dd07",
        "_active": true,
        "collapsed": false
      },
      "source": "#[(train[i]) for i in range(len(train) // 2)]\n#imshow(train[1])\nplt.imshow(train[100])\nplt.show()",
      "execution_count": 29,
      "cell_type": "code",
      "outputs": [],
      "execution_state": "idle"
    }
  ]
}