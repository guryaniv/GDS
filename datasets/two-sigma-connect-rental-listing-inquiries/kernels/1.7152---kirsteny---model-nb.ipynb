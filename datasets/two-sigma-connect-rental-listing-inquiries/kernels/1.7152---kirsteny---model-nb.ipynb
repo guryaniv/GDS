{
  "cells": [
    {
      "cell_type": "code",
      "execution_count": null,
      "metadata": {
        "_cell_guid": "29141f08-3686-1903-0d3d-3a5f74834f48"
      },
      "outputs": [],
      "source": [
        "# This Python 3 environment comes with many helpful analytics libraries installed\n",
        "# It is defined by the kaggle/python docker image: https://github.com/kaggle/docker-python\n",
        "# For example, here's several helpful packages to load in \n",
        "\n",
        "import numpy as np # linear algebra\n",
        "import pandas as pd # data processing, CSV file I/O (e.g. pd.read_csv)\n",
        "\n",
        "# Input data files are available in the \"../input/\" directory.\n",
        "# For example, running this (by clicking run or pressing Shift+Enter) will list the files in the input directory\n",
        "\n",
        "from subprocess import check_output\n",
        "print(check_output([\"ls\", \"../input\"]).decode(\"utf8\"))\n",
        "\n",
        "# Any results you write to the current directory are saved as output."
      ]
    },
    {
      "cell_type": "code",
      "execution_count": null,
      "metadata": {
        "_cell_guid": "e692b5da-60e0-05ab-799b-c055805543f1"
      },
      "outputs": [],
      "source": [
        "# objective is to predict a number of listing enquiries based on features\n",
        "train = pd.read_json(\"../input/train.json\", \"r\")\n",
        "test = pd.read_json(\"../input/test.json\", \"r\")\n",
        "sample_sub = pd.read_csv(\"../input/sample_submission.csv\")"
      ]
    },
    {
      "cell_type": "code",
      "execution_count": null,
      "metadata": {
        "_cell_guid": "5be0f69d-ab6d-c69d-f7dc-907ade0f5168"
      },
      "outputs": [],
      "source": [
        "train = train[['price', 'listing_id', 'bathrooms', 'bedrooms', 'interest_level', 'latitude', 'longitude']]\n",
        "test = test[['price', 'listing_id', 'bathrooms', 'bedrooms', 'latitude', 'longitude']]\n",
        "\n"
      ]
    },
    {
      "cell_type": "code",
      "execution_count": null,
      "metadata": {
        "_cell_guid": "20de1f74-ca98-e8c2-68fd-840a633219d7"
      },
      "outputs": [],
      "source": [
        "train_target = train['interest_level']"
      ]
    },
    {
      "cell_type": "code",
      "execution_count": null,
      "metadata": {
        "_cell_guid": "fa43d8f6-93a4-159c-144c-32093a8f24d4"
      },
      "outputs": [],
      "source": [
        "from sklearn.naive_bayes import GaussianNB"
      ]
    },
    {
      "cell_type": "code",
      "execution_count": null,
      "metadata": {
        "_cell_guid": "62db8f08-8d99-31bf-8ffe-08f21d62f06b"
      },
      "outputs": [],
      "source": [
        "gnb = GaussianNB()"
      ]
    },
    {
      "cell_type": "code",
      "execution_count": null,
      "metadata": {
        "_cell_guid": "b0944f71-995c-3375-069e-b0ba4a8e4588"
      },
      "outputs": [],
      "source": [
        "train.index = train['listing_id']\n",
        "train = train.drop('interest_level', 1)\n",
        "model = gnb.fit(train, train_target)"
      ]
    },
    {
      "cell_type": "code",
      "execution_count": null,
      "metadata": {
        "_cell_guid": "b0b9a74b-37e7-cea7-ea8c-a29c6a307dd5"
      },
      "outputs": [],
      "source": [
        "test.index = test['listing_id']"
      ]
    },
    {
      "cell_type": "code",
      "execution_count": null,
      "metadata": {
        "_cell_guid": "99076592-e126-394f-1244-86d36d71a7d5"
      },
      "outputs": [],
      "source": [
        "y = model.predict_proba(test)\n"
      ]
    },
    {
      "cell_type": "code",
      "execution_count": null,
      "metadata": {
        "_cell_guid": "dc8421b9-1e55-1218-813f-07044ca25343"
      },
      "outputs": [],
      "source": [
        "y_dat = pd.DataFrame(y)"
      ]
    },
    {
      "cell_type": "code",
      "execution_count": null,
      "metadata": {
        "_cell_guid": "a5d4c93d-8b47-a5c6-d0cb-71d0166198dd"
      },
      "outputs": [],
      "source": [
        "#y_dat.copy(deep = False)\n",
        "y_dat.loc[:,'listing_id'] = test.index"
      ]
    },
    {
      "cell_type": "code",
      "execution_count": null,
      "metadata": {
        "_cell_guid": "07967823-05e3-bd13-bdac-b1bbca1c45e4"
      },
      "outputs": [],
      "source": [
        "y_dat.rename(columns = {'0':'medium', '1':'low', '2':'high'}, inplace = True)\n",
        "\n"
      ]
    },
    {
      "cell_type": "code",
      "execution_count": null,
      "metadata": {
        "_cell_guid": "c64ade1e-376e-3914-0371-b26517a1e63b"
      },
      "outputs": [],
      "source": [
        "y_dat.columns = ['medium', 'low', 'high', 'listing_id']"
      ]
    },
    {
      "cell_type": "code",
      "execution_count": null,
      "metadata": {
        "_cell_guid": "a37854ef-5c94-7bc0-0c4b-df1bf989b684"
      },
      "outputs": [],
      "source": [
        "data = y_dat[['listing_id', 'high', 'medium', 'low']]\n",
        "\n"
      ]
    },
    {
      "cell_type": "code",
      "execution_count": null,
      "metadata": {
        "_cell_guid": "72c377b0-de32-4395-ccfc-62fd03e8bb24"
      },
      "outputs": [],
      "source": [
        "data.head()"
      ]
    },
    {
      "cell_type": "code",
      "execution_count": null,
      "metadata": {
        "_cell_guid": "7377caa3-d15e-29d6-99d8-539fc6d14604"
      },
      "outputs": [],
      "source": [
        "# Convert the dataframe to an XlsxWriter Excel object.\n",
        "data.to_csv(\"sub_ky_4.csv\", index = False)\n"
      ]
    }
  ],
  "metadata": {
    "_change_revision": 0,
    "_is_fork": false,
    "kernelspec": {
      "display_name": "Python 3",
      "language": "python",
      "name": "python3"
    },
    "language_info": {
      "codemirror_mode": {
        "name": "ipython",
        "version": 3
      },
      "file_extension": ".py",
      "mimetype": "text/x-python",
      "name": "python",
      "nbconvert_exporter": "python",
      "pygments_lexer": "ipython3",
      "version": "3.6.0"
    }
  },
  "nbformat": 4,
  "nbformat_minor": 0
}