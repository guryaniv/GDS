{
  "cells": [
    {
      "cell_type": "markdown",
      "metadata": {
        "_cell_guid": "826cdce5-d4cc-96fa-80e7-65998e18e953"
      },
      "source": ""
    },
    {
      "cell_type": "code",
      "execution_count": null,
      "metadata": {
        "_cell_guid": "ebf1e4b8-8801-9ac8-c124-4a4e82458c12"
      },
      "outputs": [],
      "source": ""
    },
    {
      "cell_type": "code",
      "execution_count": null,
      "metadata": {
        "_cell_guid": "6362faac-4789-d3fd-3142-b3ac6e2ac552"
      },
      "outputs": [],
      "source": [
        "num=4\n",
        "if num>0:\n",
        "    print(num,\"is a +ve #\")\n",
        "    print(\"this is always printed.\")\n",
        "  \n",
        "\n",
        "# program to find a prime no from a list\n",
        "ab=[2,5,4,3,7,6,8,9]\n",
        "\n",
        "for val in range(len(ab)):\n",
        "    if val>1:\n",
        "\t\tfor i in range(2,val):\n",
        "\t   \t    if (val%2)==0:\n",
        "\t\t        print(val,\"is not prime\")\n",
        "\t        else:\n",
        "\t\t        print(val,\"is a prime no\")"
      ]
    },
    {
      "cell_type": "code",
      "execution_count": null,
      "metadata": {
        "_cell_guid": "d6159b0e-9ca1-aa12-6acd-bfe58f10cb5d"
      },
      "outputs": [],
      "source": ""
    },
    {
      "cell_type": "code",
      "execution_count": null,
      "metadata": {
        "_cell_guid": "2aa8ca6c-9980-c760-969a-533552e09417"
      },
      "outputs": [],
      "source": ""
    },
    {
      "cell_type": "code",
      "execution_count": null,
      "metadata": {
        "_cell_guid": "00b5fc29-308c-2f72-6caa-a8d82e916569"
      },
      "outputs": [],
      "source": [
        "if num<0:\n",
        "    print(num, \"is a -ve #\")"
      ]
    },
    {
      "cell_type": "code",
      "execution_count": null,
      "metadata": {
        "_cell_guid": "8e1e63a2-57df-4710-667f-4a7f5fab6378"
      },
      "outputs": [],
      "source": [
        "num=-1\n",
        "if num>0:\n",
        "    print(num,\"is a +ve num\")\n",
        "else:\n",
        "    print(num,\"is a -ve num\")"
      ]
    },
    {
      "cell_type": "code",
      "execution_count": null,
      "metadata": {
        "_cell_guid": "ad57e2d9-a212-129e-c1bd-591eb345486c"
      },
      "outputs": [],
      "source": [
        "num=0\n",
        "if num>0:\n",
        "    print(num,\"is a +ve num\")\n",
        "elif num==0:\n",
        "    print(num,\"is zero\")\n",
        "else:\n",
        "    print(num,\"is -ve\")\n",
        "    "
      ]
    },
    {
      "cell_type": "code",
      "execution_count": null,
      "metadata": {
        "_cell_guid": "e6177001-0576-6223-327d-6e91bb1cbb88"
      },
      "outputs": [],
      "source": [
        "num=[1,2,3,4,5]\n",
        "sum=0\n",
        "for val in num:\n",
        "    sum=sum+val\n",
        "print(\"the sum is\", sum)"
      ]
    },
    {
      "cell_type": "code",
      "execution_count": null,
      "metadata": {
        "_cell_guid": "5013597e-ebf1-e7aa-e99b-e694e6b460b6"
      },
      "outputs": [],
      "source": [
        "genre=['pop','rock','jazz']\n",
        "for i in range(len(genre)):\n",
        "    print(\"i like\",genre[i])\n",
        "    "
      ]
    },
    {
      "cell_type": "code",
      "execution_count": null,
      "metadata": {
        "_cell_guid": "6b58ecd4-53af-f637-0f14-4bc5a4c0a7d2"
      },
      "outputs": [],
      "source": [
        "############################\n",
        "##Process Word features\n",
        "word_remove = c('allowed', 'building','center', 'space','2','2br','bldg','24',\n",
        "                '3br','1','ft','3','7','1br','hour','bedrooms','bedroom','true',\n",
        "                'stop','size','blk','4br','4','sq','0862','1.5','373','16','3rd','block',\n",
        "                'st','01','bathrooms')\n",
        "\n",
        "#create sparse matrix for word features\n",
        "word_sparse<-train_test[,names(train_test) %in% c(\"features\",\"listing_id\")]\n",
        "train_test$features = NULL\n",
        "\n",
        "\n",
        "#Create word features\n",
        "word_sparse <- word_sparse %>%\n",
        "  filter(map(features, is_empty) != TRUE) %>%\n",
        "  tidyr::unnest(features) %>%\n",
        "  unnest_tokens(word, features)\n",
        "\n",
        "data(\"stop_words\")\n",
        "\n",
        "#remove stop words and other words\n",
        "word_sparse = word_sparse[!(word_sparse$word %in% stop_words$word),]\n",
        "word_sparse = word_sparse[!(word_sparse$word %in% word_remove),]\n",
        "\n",
        "#get most common features and use (in this case top 150)\n",
        "top_word <- as.character(as.data.frame(sort(table(word_sparse$word),decreasing = TRUE)[1:25])$Var1)\n",
        "word_sparse = word_sparse[word_sparse$word %in% top_word,]\n",
        "word_sparse$word = as.factor(word_sparse$word)\n",
        "word_sparse<-dcast(word_sparse, listing_id ~ word,length, value.var = \"word\")\n",
        "\n",
        "#merge word features back into main data frame\n",
        "train_test<-merge(train_test,word_sparse, by = \"listing_id\", sort = FALSE,all.x=TRUE)\n",
        "\n",
        "###############\n",
        "##Non-word features\n",
        "\n",
        "#convert building and manager id to integer\n",
        "train_test$building_id<-as.integer(factor(train_test$building_id))\n",
        "train_test$manager_id<-as.integer(factor(train_test$manager_id))\n",
        "\n",
        "#convert street and display address to integer\n",
        "train_test$display_address<-as.integer(factor(train_test$display_address))\n",
        "train_test$street_address<-as.integer(factor(train_test$street_address))\n",
        "\n",
        "\n",
        "#convert date\n",
        "train_test$created<-ymd_hms(train_test$created)\n",
        "train_test$month<- month(train_test$created)\n",
        "train_test$day<- day(train_test$created)\n",
        "train_test$hour<- hour(train_test$created)\n",
        "train_test$created = NULL\n",
        "\n",
        "\n",
        "#Length of description in words\n",
        "train_test$description_len<-sapply(strsplit(train_test$description, \"\\\\s+\"), length)\n",
        "train_test$description = NULL\n",
        "\n",
        "#price to bedroom ratio\n",
        "train_test$bed_price <- train_test$price/train_test$bedrooms\n",
        "train_test[which(is.infinite(train_test$bed_price)),]$bed_price = train_test[which(is.infinite(train_test$bed_price)),]$price\n",
        "\n",
        "#add sum of rooms and price per room\n",
        "train_test$room_sum <- train_test$bedrooms + train_test$bathrooms\n",
        "train_test$room_diff <- train_test$bedrooms - train_test$bathrooms\n",
        "train_test$room_price <- train_test$price/train_test$room_sum\n",
        "train_test$bed_ratio <- train_test$bedrooms/train_test$room_sum\n",
        "train_test[which(is.infinite(train_test$room_price)),]$room_price = train_test[which(is.infinite(train_test$room_price)),]$price\n",
        "\n",
        "\n",
        "\n",
        "#log transform features, these features aren't normally distributed\n",
        "train_test$photo_count <- log(train_test$photo_count + 1)\n",
        "train_test$feature_count <- log(train_test$feature_count + 1)\n",
        "train_test$price <- log(train_test$price + 1)\n",
        "train_test$room_price <- log(train_test$room_price + 1)\n",
        "train_test$bed_price <- log(train_test$bed_price + 1)\n",
        "\n",
        "#############################\n",
        "#split train test\n",
        "train <- train_test[train_test$listing_id %in%train_id,]\n",
        "test <- train_test[train_test$listing_id %in%test_id,]\n",
        "\n",
        "#Convert labels to integers\n",
        "train$interest_level<-as.integer(factor(train$interest_level))\n",
        "y <- train$interest_level\n",
        "y = y - 1\n",
        "train$interest_level = NULL\n",
        "test$interest_level = NULL"
      ]
    },
    {
      "cell_type": "code",
      "execution_count": null,
      "metadata": {
        "_cell_guid": "fe9bbab5-b553-6cbc-e82b-cab883e55c78"
      },
      "outputs": [],
      "source": [
        "############################\n",
        "##Process Word features\n",
        "word_remove = c('allowed', 'building','center', 'space','2','2br','bldg','24',\n",
        "                '3br','1','ft','3','7','1br','hour','bedrooms','bedroom','true',\n",
        "                'stop','size','blk','4br','4','sq','0862','1.5','373','16','3rd','block',\n",
        "                'st','01','bathrooms')\n",
        "\n",
        "#create sparse matrix for word features\n",
        "word_sparse<-train_test[,names(train_test) %in% c(\"features\",\"listing_id\")]\n",
        "train_test$features = NULL\n",
        "\n",
        "#Create word features\n",
        "word_sparse <- word_sparse %>%\n",
        "  filter(map(features, is_empty) != TRUE) %>%\n",
        "  tidyr::unnest(features) %>%\n",
        "  unnest_tokens(word, features)\n",
        "\n",
        "data(\"stop_words\")\n",
        "\n",
        "#remove stop words and other words\n",
        "word_sparse = word_sparse[!(word_sparse$word %in% stop_words$word),]\n",
        "word_sparse = word_sparse[!(word_sparse$word %in% word_remove),]\n",
        "\n",
        "#get most common features and use (in this case top 150)\n",
        "top_word <- as.character(as.data.frame(sort(table(word_sparse$word),decreasing = TRUE)[1:25])$Var1)\n",
        "word_sparse = word_sparse[word_sparse$word %in% top_word,]\n",
        "word_sparse$word = as.factor(word_sparse$word)\n",
        "word_sparse<-dcast(word_sparse, listing_id ~ word,length, value.var = \"word\")\n",
        "\n",
        "#merge word features back into main data frame\n",
        "train_test<-merge(train_test,word_sparse, by = \"listing_id\", sort = FALSE,all.x=TRUE)"
      ]
    },
    {
      "cell_type": "code",
      "execution_count": null,
      "metadata": {
        "_cell_guid": "836b4f13-19a1-98d5-2beb-5dc5f3d37536"
      },
      "outputs": [],
      "source": [
        "##Non-word features\n",
        "#convert building and manager id to integer\n",
        "train_test$building_id<-as.integer(factor(train_test$building_id))\n",
        "train_test$manager_id<-as.integer(factor(train_test$manager_id))\n",
        "\n",
        "#convert street and display address to integer\n",
        "train_test$display_address<-as.integer(factor(train_test$display_address))\n",
        "train_test$street_address<-as.integer(factor(train_test$street_address))\n",
        "\n",
        "\n",
        "#convert date\n",
        "train_test$created<-ymd_hms(train_test$created)\n",
        "train_test$month<- month(train_test$created)\n",
        "train_test$day<- day(train_test$created)\n",
        "train_test$hour<- hour(train_test$created)\n",
        "train_test$created = NULL"
      ]
    },
    {
      "cell_type": "code",
      "execution_count": null,
      "metadata": {
        "_cell_guid": "5b8e1165-4824-8870-3c9e-7b379efadfbc"
      },
      "outputs": [],
      "source": [
        "#Length of description in words\n",
        "train_test$description_len<-sapply(strsplit(train_test$description, \"\\\\s+\"), length)\n",
        "train_test$description = NULL\n",
        "\n",
        "#price to bedroom ratio\n",
        "train_test$bed_price <- train_test$price/train_test$bedrooms\n",
        "train_test[which(is.infinite(train_test$bed_price)),]$bed_price = train_test[which(is.infinite(train_test$bed_price)),]$price\n",
        "\n",
        "#add sum of rooms and price per room\n",
        "train_test$room_sum <- train_test$bedrooms + train_test$bathrooms\n",
        "train_test$room_diff <- train_test$bedrooms - train_test$bathrooms\n",
        "train_test$room_price <- train_test$price/train_test$room_sum\n",
        "train_test$bed_ratio <- train_test$bedrooms/train_test$room_sum\n",
        "train_test[which(is.infinite(train_test$room_price)),]$room_price = train_test[which(is.infinite(train_test$room_price)),]$price\n",
        "\n",
        "\n",
        "\n",
        "#log transform features, these features aren't normally distributed\n",
        "train_test$photo_count <- log(train_test$photo_count + 1)\n",
        "train_test$feature_count <- log(train_test$feature_count + 1)\n",
        "train_test$price <- log(train_test$price + 1)\n",
        "train_test$room_price <- log(train_test$room_price + 1)\n",
        "train_test$bed_price <- log(train_test$bed_price + 1)"
      ]
    },
    {
      "cell_type": "code",
      "execution_count": null,
      "metadata": {
        "_cell_guid": "84d31b88-ccf1-796a-eba8-c8bcbd5c204d"
      },
      "outputs": [],
      "source": [
        "plot(train_test$feature_count)"
      ]
    },
    {
      "cell_type": "code",
      "execution_count": null,
      "metadata": {
        "_cell_guid": "f6de682e-e783-9166-3227-1d34f5dbd13b"
      },
      "outputs": [],
      "source": [
        "#split train test\n",
        "train <- train_test[train_test$listing_id %in%train_id,]\n",
        "test <- train_test[train_test$listing_id %in%test_id,]\n",
        "\n",
        "#Convert labels to integers\n",
        "train$interest_level<-as.integer(factor(train$interest_level))\n",
        "y <- train$interest_level\n",
        "y = y - 1\n",
        "train$interest_level = NULL\n",
        "test$interest_level = NULL"
      ]
    },
    {
      "cell_type": "code",
      "execution_count": null,
      "metadata": {
        "_cell_guid": "70ff2d18-af70-2387-15e5-bd31ac0a1221"
      },
      "outputs": [],
      "source": [
        "#Parameters for XGB\n",
        "\n",
        "xgb_params = list(\n",
        "  colsample_bytree= 0.7,\n",
        "  subsample = 0.7,\n",
        "  eta = 0.1,\n",
        "  objective= 'multi:softprob',\n",
        "  max_depth= 4,\n",
        "  min_child_weight= 1,\n",
        "  eval_metric= \"mlogloss\",\n",
        "  num_class = 3,\n",
        "  seed = seed\n",
        ")\n",
        "\n",
        "#convert xgbmatrix\n",
        "dtest <- xgb.DMatrix(data.matrix(test))\n",
        "\n",
        "#create folds\n",
        "kfolds<- 10\n",
        "folds<-createFolds(y, k = kfolds, list = TRUE, returnTrain = FALSE)\n",
        "fold <- as.numeric(unlist(folds[1]))\n",
        "x_train<-train[-fold,] #Train set\n",
        "x_val<-train[fold,] #Out of fold validation set\n",
        "\n",
        "y_train<-y[-fold]\n",
        "y_val<-y[fold]"
      ]
    },
    {
      "cell_type": "code",
      "execution_count": null,
      "metadata": {
        "_cell_guid": "7c510561-dacd-f39b-1b51-484b0efec081"
      },
      "outputs": [],
      "source": [
        "#convert to xgbmatrix\n",
        "dtrain = xgb.DMatrix(as.matrix(x_train), label=y_train)\n",
        "dval = xgb.DMatrix(as.matrix(x_val), label=y_val)\n",
        "\n",
        "#perform training\n",
        "gbdt = xgb.train(params = xgb_params,\n",
        "                 data = dtrain,\n",
        "                 nrounds =475,\n",
        "                 watchlist = list(train = dtrain, val=dval),\n",
        "                 print_every_n = 25,\n",
        "                 early_stopping_rounds=50)"
      ]
    },
    {
      "cell_type": "code",
      "execution_count": null,
      "metadata": {
        "_cell_guid": "fe16a45a-8005-45b9-267f-b29630a52455"
      },
      "outputs": [],
      "source": [
        "##################\n",
        "#Parameters for XGB\n",
        "\n",
        "xgb_params = list(\n",
        "  colsample_bytree= 0.7,\n",
        "  subsample = 0.7,\n",
        "  eta = 0.1,\n",
        "  objective= 'multi:softprob',\n",
        "  max_depth= 4,\n",
        "  min_child_weight= 1,\n",
        "  eval_metric= \"mlogloss\",\n",
        "  num_class = 3,\n",
        "  seed = seed\n",
        ")\n",
        "\n",
        "\n",
        "#convert xgbmatrix\n",
        "dtest <- xgb.DMatrix(data.matrix(test))\n",
        "\n",
        "#create folds\n",
        "kfolds<- 10\n",
        "folds<-createFolds(y, k = kfolds, list = TRUE, returnTrain = FALSE)\n",
        "fold <- as.numeric(unlist(folds[1]))\n",
        "\n",
        "x_train<-train[-fold,] #Train set\n",
        "x_val<-train[fold,] #Out of fold validation set\n",
        "\n",
        "y_train<-y[-fold]\n",
        "y_val<-y[fold]\n",
        "\n",
        "###########################################################\n",
        "\n",
        "#convert to xgbmatrix\n",
        "dtrain = xgb.DMatrix(as.matrix(x_train), label=y_train)\n",
        "dval = xgb.DMatrix(as.matrix(x_val), label=y_val)"
      ]
    },
    {
      "cell_type": "code",
      "execution_count": null,
      "metadata": {
        "_cell_guid": "c24dd0e3-d376-7b17-54bf-4c9cc8285594"
      },
      "outputs": [],
      "source": [
        "#perform training\n",
        "gbdt = xgb.train(params = xgb_params,\n",
        "                 data = dtrain,\n",
        "                 nrounds =475,\n",
        "                 watchlist = list(train = dtrain, val=dval),\n",
        "                 print_every_n = 25,\n",
        "                 early_stopping_rounds=50)\n",
        "summary(gbdt)"
      ]
    },
    {
      "cell_type": "code",
      "execution_count": null,
      "metadata": {
        "_cell_guid": "6d4fe3ad-979a-9107-80a7-33a7d6099e12"
      },
      "outputs": [],
      "source": [
        "allpredictions =  (as.data.frame(matrix(predict(gbdt,dtest), nrow=dim(test), byrow=TRUE)))"
      ]
    },
    {
      "cell_type": "code",
      "execution_count": null,
      "metadata": {
        "_cell_guid": "f7382234-18f8-70c9-ceb9-1783a2eec0fe"
      },
      "outputs": [],
      "source": [
        "###Generate Feature Importance Plot\n",
        "imp <- xgb.importance(names(train),model = gbdt)\n",
        "xgb.ggplot.importance(imp)\n",
        "#convert to xgbmatrix\n",
        "dtrain = xgb.DMatrix(as.matrix(x_train), label=y_train)\n",
        "dval = xgb.DMatrix(as.matrix(x_val), label=y_val)"
      ]
    },
    {
      "cell_type": "code",
      "execution_count": null,
      "metadata": {
        "_cell_guid": "d625adb7-6900-76e7-0df6-295b7fa5ed88"
      },
      "outputs": [],
      "source": [
        "######################\n",
        "# Submission\n",
        "allpredictions = cbind (allpredictions, test$listing_id)\n",
        "names(allpredictions)<-c(\"high\",\"low\",\"medium\",\"listing_id\")\n",
        "allpredictions=allpredictions[,c(1,3,2,4)]\n",
        "write.csv(allpredictions,paste0(Sys.Date(),\"ms_submission2\",seed,\".csv\"),row.names = FALSE)"
      ]
    }
  ],
  "metadata": {
    "_change_revision": 0,
    "_is_fork": false,
    "kernelspec": {
      "display_name": "Python 3",
      "language": "python",
      "name": "python3"
    },
    "language_info": {
      "codemirror_mode": {
        "name": "ipython",
        "version": 3
      },
      "file_extension": ".py",
      "mimetype": "text/x-python",
      "name": "python",
      "nbconvert_exporter": "python",
      "pygments_lexer": "ipython3",
      "version": "3.6.0"
    }
  },
  "nbformat": 4,
  "nbformat_minor": 0
}