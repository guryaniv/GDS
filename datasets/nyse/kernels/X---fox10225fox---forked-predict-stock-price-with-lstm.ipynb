{
  "cells": [
    {
      "cell_type": "markdown",
      "metadata": {
        "_cell_guid": "969d6ca2-efa8-ea00-2e8f-9e07655626d8"
      },
      "source": [
        "based on \n",
        "http://machinelearningmastery.com/time-series-prediction-lstm-recurrent-neural-networks-python-keras/\n",
        "\n",
        "Predict the stock price of the company Apple Inc. ."
      ]
    },
    {
      "cell_type": "code",
      "execution_count": null,
      "metadata": {
        "_cell_guid": "e7c1344f-59af-8372-0376-940a72566da6"
      },
      "outputs": [],
      "source": [
        "from __future__ import print_function\n",
        "import numpy as np # linear algebra\n",
        "import pandas as pd # data processing, CSV file I/O (e.g. pd.read_csv)\n",
        "from keras.layers.core import Dense, Activation, Dropout\n",
        "from keras.layers.recurrent import LSTM\n",
        "from keras.models import Sequential\n",
        "from sklearn.cross_validation import  train_test_split\n",
        "from sklearn.preprocessing import MinMaxScaler\n",
        "from sklearn.metrics import mean_squared_error\n",
        "import matplotlib.pyplot as plt\n",
        "import math\n",
        "\n",
        "# to not display the warnings of tensorflow\n",
        "import os\n",
        "os.environ['TF_CPP_MIN_LOG_LEVEL']='2'"
      ]
    },
    {
      "cell_type": "code",
      "execution_count": null,
      "metadata": {
        "_cell_guid": "afbaa2e6-6f36-7726-bff0-399b365382fb"
      },
      "outputs": [],
      "source": [
        "# parameters to be set (\"optimum\" hyperparameters obtained from grid search):\n",
        "look_back = 7\n",
        "epochs = 1000\n",
        "batch_size = 32"
      ]
    },
    {
      "cell_type": "code",
      "execution_count": null,
      "metadata": {
        "_cell_guid": "a7fe4936-c44b-1788-a16b-35b5b1eb675c"
      },
      "outputs": [],
      "source": [
        "# fix random seed for reproducibility\n",
        "np.random.seed(7)"
      ]
    },
    {
      "cell_type": "code",
      "execution_count": null,
      "metadata": {
        "_cell_guid": "2f69042b-d335-b8ff-ec17-980189526e7d"
      },
      "outputs": [],
      "source": [
        "# read all prices using panda\n",
        "prices_dataset =  pd.read_csv('../input/prices-split-adjusted.csv', header=0)"
      ]
    },
    {
      "cell_type": "code",
      "execution_count": null,
      "metadata": {
        "_cell_guid": "6ba3a1a5-df4e-921f-245a-7039ff53ef4c"
      },
      "outputs": [],
      "source": [
        "# filter out only data of Apple\n",
        "apple = prices_dataset[prices_dataset['symbol']=='AAPL']"
      ]
    },
    {
      "cell_type": "code",
      "execution_count": null,
      "metadata": {
        "_cell_guid": "f9d24454-e0a4-a6e5-f04f-1b46b810158c"
      },
      "outputs": [],
      "source": [
        "# save Apple's stock values as type of floating point number\n",
        "apple_stock_prices = apple.close.values.astype('float32')"
      ]
    },
    {
      "cell_type": "code",
      "execution_count": null,
      "metadata": {
        "_cell_guid": "17f5bc9d-47ad-2206-71cd-e85ecac42175"
      },
      "outputs": [],
      "source": [
        "# reshape to column vector\n",
        "apple_stock_prices = apple_stock_prices.reshape(len(apple_stock_prices), 1)"
      ]
    },
    {
      "cell_type": "code",
      "execution_count": null,
      "metadata": {
        "_cell_guid": "a74ff89f-d274-de8c-f11c-bf2ffaf29eed"
      },
      "outputs": [],
      "source": [
        "# normalize the dataset\n",
        "scaler = MinMaxScaler(feature_range=(0, 1))\n",
        "apple_stock_prices = scaler.fit_transform(apple_stock_prices)"
      ]
    },
    {
      "cell_type": "code",
      "execution_count": null,
      "metadata": {
        "_cell_guid": "6e379f90-c703-6712-12ed-9aa0942a5408"
      },
      "outputs": [],
      "source": [
        "# split data into training set and test set\n",
        "train_size = int(len(apple_stock_prices) * 0.67)\n",
        "test_size = len(apple_stock_prices) - train_size\n",
        "train, test = apple_stock_prices[0:train_size,:], apple_stock_prices[train_size:len(apple_stock_prices),:]\n",
        "\n",
        "print('Split data into training set and test set... Number of training samples/ test samples:', len(train), len(test))"
      ]
    },
    {
      "cell_type": "code",
      "execution_count": null,
      "metadata": {
        "_cell_guid": "e668a235-00fe-4fe3-925b-99051ae376f9"
      },
      "outputs": [],
      "source": [
        "# convert an array of values into a time series dataset \n",
        "# in form \n",
        "#                     X                     Y\n",
        "# t-look_back+1, t-look_back+2, ..., t     t+1\n",
        "\n",
        "def create_dataset(dataset, look_back):\n",
        "\tdataX, dataY = [], []\n",
        "\tfor i in range(len(dataset)-look_back-1):\n",
        "\t\ta = dataset[i:(i+look_back), 0]\n",
        "\t\tdataX.append(a)\n",
        "\t\tdataY.append(dataset[i + look_back, 0])\n",
        "\treturn np.array(dataX), np.array(dataY)\n",
        "\n",
        "# convert Apple's stock price data into time series dataset\n",
        "trainX, trainY = create_dataset(train, look_back)\n",
        "testX, testY = create_dataset(test, look_back)"
      ]
    },
    {
      "cell_type": "code",
      "execution_count": null,
      "metadata": {
        "_cell_guid": "cd259809-fe40-f40b-51e4-1b0b6e648e53"
      },
      "outputs": [],
      "source": [
        "# reshape input of the LSTM to be format [samples, time steps, features]\n",
        "trainX = np.reshape(trainX, (trainX.shape[0], trainX.shape[1], 1))\n",
        "testX = np.reshape(testX, (testX.shape[0], testX.shape[1], 1))"
      ]
    },
    {
      "cell_type": "code",
      "execution_count": null,
      "metadata": {
        "_cell_guid": "93499bdc-e811-3a61-c21d-24f906ba5da0"
      },
      "outputs": [],
      "source": [
        "# create and fit the LSTM network\n",
        "model = Sequential()\n",
        "model.add(LSTM(4, input_shape=(look_back, 1)))\n",
        "model.add(Dense(1))\n",
        "model.compile(loss='mse', optimizer='adam')\n",
        "model.fit(trainX, trainY, nb_epoch=epochs, batch_size=batch_size)"
      ]
    },
    {
      "cell_type": "code",
      "execution_count": null,
      "metadata": {
        "_cell_guid": "3fa7feea-4f1a-d36d-dffe-e13d92ccfa13"
      },
      "outputs": [],
      "source": [
        "# make predictions\n",
        "trainPredict = model.predict(trainX)\n",
        "testPredict = model.predict(testX)"
      ]
    },
    {
      "cell_type": "code",
      "execution_count": null,
      "metadata": {
        "_cell_guid": "849ba7d8-5e7e-ae24-168e-aa2ef11211c5"
      },
      "outputs": [],
      "source": [
        "# invert predictions and targets to unscaled\n",
        "trainPredict = scaler.inverse_transform(trainPredict)\n",
        "trainY = scaler.inverse_transform([trainY])\n",
        "testPredict = scaler.inverse_transform(testPredict)\n",
        "testY = scaler.inverse_transform([testY])"
      ]
    },
    {
      "cell_type": "code",
      "execution_count": null,
      "metadata": {
        "_cell_guid": "d4eade10-b583-c7a6-1557-87d623f2b1a0"
      },
      "outputs": [],
      "source": [
        "# calculate root mean squared error\n",
        "trainScore = math.sqrt(mean_squared_error(trainY[0], trainPredict[:,0]))\n",
        "print('Train Score: %.2f RMSE' % (trainScore))\n",
        "testScore = math.sqrt(mean_squared_error(testY[0], testPredict[:,0]))\n",
        "print('Test Score: %.2f RMSE' % (testScore))"
      ]
    },
    {
      "cell_type": "code",
      "execution_count": null,
      "metadata": {
        "_cell_guid": "639aa8cf-1c0b-6ada-963d-722d04311305"
      },
      "outputs": [],
      "source": [
        "# shift predictions of training data for plotting\n",
        "trainPredictPlot = np.empty_like(apple_stock_prices)\n",
        "trainPredictPlot[:, :] = np.nan\n",
        "trainPredictPlot[look_back:len(trainPredict)+look_back, :] = trainPredict\n",
        "\n",
        "# shift predictions of test data for plotting\n",
        "testPredictPlot = np.empty_like(apple_stock_prices)\n",
        "testPredictPlot[:, :] = np.nan\n",
        "testPredictPlot[len(trainPredict)+(look_back*2)+1:len(apple_stock_prices)-1, :] = testPredict"
      ]
    },
    {
      "cell_type": "code",
      "execution_count": null,
      "metadata": {
        "_cell_guid": "e429a35b-9439-150b-bfbd-25261337a07c"
      },
      "outputs": [],
      "source": [
        "# plot baseline and predictions\n",
        "plt.plot(scaler.inverse_transform(apple_stock_prices))\n",
        "plt.plot(trainPredictPlot)\n",
        "plt.plot(testPredictPlot)\n",
        "plt.show()"
      ]
    }
  ],
  "metadata": {
    "_change_revision": 0,
    "_is_fork": false,
    "kernelspec": {
      "display_name": "Python 3",
      "language": "python",
      "name": "python3"
    },
    "language_info": {
      "codemirror_mode": {
        "name": "ipython",
        "version": 3
      },
      "file_extension": ".py",
      "mimetype": "text/x-python",
      "name": "python",
      "nbconvert_exporter": "python",
      "pygments_lexer": "ipython3",
      "version": "3.6.0"
    }
  },
  "nbformat": 4,
  "nbformat_minor": 0
}