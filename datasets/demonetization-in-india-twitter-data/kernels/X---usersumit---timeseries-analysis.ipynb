{
  "cells": [
    {
      "cell_type": "markdown",
      "metadata": {
        "_cell_guid": "b5a23aa4-2c7d-6c65-779a-7d3c8cd77ddc"
      },
      "source": [
        "# Timeseries Analysis (v0.1)\n",
        "\n",
        "This Kernel show basic analysis on basis of number of tweets/re-tweets per hour"
      ]
    },
    {
      "cell_type": "code",
      "execution_count": null,
      "metadata": {
        "_cell_guid": "d7db09b8-d701-6536-59d4-cfd3c45aec96"
      },
      "outputs": [],
      "source": [
        "import numpy as np \n",
        "import pandas as pd\n",
        "import matplotlib as mpl\n",
        "import matplotlib.pyplot as plt\n",
        "import seaborn as sns\n",
        "%matplotlib inline\n",
        "sns.set(style=\"whitegrid\")"
      ]
    },
    {
      "cell_type": "markdown",
      "metadata": {
        "_cell_guid": "f2e6c658-0838-58a4-d207-b8ff9a4cd620"
      },
      "source": [
        "### Load CSV data\n",
        "\n",
        "Encoding=\"ISO-8859-1\" is required due to special characters in `text` column"
      ]
    },
    {
      "cell_type": "code",
      "execution_count": null,
      "metadata": {
        "_cell_guid": "c60acb8b-262e-615a-54b0-1aa3fb6f3c54"
      },
      "outputs": [],
      "source": [
        "df_tweets = pd.read_csv('../input/demonetization-tweets.csv', parse_dates=['created'], header=0, encoding=\"ISO-8859-1\")\n",
        "df_tweets.head(2)"
      ]
    },
    {
      "cell_type": "markdown",
      "metadata": {
        "_cell_guid": "482fe550-7624-b4a9-4142-d88fa3ef2ace"
      },
      "source": [
        "### Pre-process Data\n",
        "\n",
        "We create new columns namely hour, date & count for our analysis"
      ]
    },
    {
      "cell_type": "code",
      "execution_count": null,
      "metadata": {
        "_cell_guid": "95477af4-c394-19c5-8f31-47907e7600c7"
      },
      "outputs": [],
      "source": [
        "df_tweets['hour'] = pd.DatetimeIndex(df_tweets['created']).hour\n",
        "df_tweets['date'] = pd.DatetimeIndex(df_tweets['created']).date\n",
        "df_tweets['count'] = 1\n",
        "df_tweets_filtered = df_tweets[['hour', 'date', 'count', 'retweetCount']]\n",
        "df_tweets_filtered.head(2)"
      ]
    },
    {
      "cell_type": "markdown",
      "metadata": {
        "_cell_guid": "0fd452de-cd13-9edd-0390-2a5756478a01"
      },
      "source": [
        "### Tweets per hour\n",
        "\n",
        "Get number of tweets and re-tweets per hour"
      ]
    },
    {
      "cell_type": "code",
      "execution_count": null,
      "metadata": {
        "_cell_guid": "d6372a6c-9374-892a-4f33-91b194909da7"
      },
      "outputs": [],
      "source": [
        "df_tweets_hourly = df_tweets_filtered.groupby([\"hour\"]).sum().reset_index()\n",
        "df_tweets_hourly.head(2)"
      ]
    },
    {
      "cell_type": "markdown",
      "metadata": {
        "_cell_guid": "c1ab2011-1ed1-ad3c-018c-bc2026b0fe2d"
      },
      "source": [
        "**Plot graph for number of Tweets/Re-Tweets per hour**"
      ]
    },
    {
      "cell_type": "code",
      "execution_count": null,
      "metadata": {
        "_cell_guid": "1e12eab2-24ef-6702-b458-a237aacb77d3"
      },
      "outputs": [],
      "source": [
        "f, (ax1, ax2) = plt.subplots(2, 1, figsize=(8, 8))\n",
        "\n",
        "ax1.title.set_text(\"Number of tweets per hour\")\n",
        "df_tweets_hourly[\"count\"].plot.bar(ax=ax1, color='#999966')\n",
        "df_tweets_hourly[\"count\"].plot(ax=ax1)\n",
        "\n",
        "ax2.title.set_text(\"Number of re-tweets per hour\")\n",
        "df_tweets_hourly[\"retweetCount\"].plot.bar(ax=ax2)\n",
        "df_tweets_hourly[\"retweetCount\"].plot(ax=ax2, color='#999966')"
      ]
    },
    {
      "cell_type": "markdown",
      "metadata": {
        "_cell_guid": "faf9e92c-df63-b22d-286b-8238622ac192"
      },
      "source": [
        "### Tweets per hour for Dates\n",
        "\n",
        "Get number of tweets and re-tweets per hour on various dates"
      ]
    },
    {
      "cell_type": "code",
      "execution_count": null,
      "metadata": {
        "_cell_guid": "660c791c-92c4-0792-a8cc-1453c7cb89ea"
      },
      "outputs": [],
      "source": [
        "pivot_df = df_tweets_filtered.pivot_table(df_tweets_filtered, index=[\"date\", \"hour\"], aggfunc=np.sum)\n",
        "print(pivot_df)\n",
        "dates = pivot_df.index.get_level_values(0).unique()"
      ]
    },
    {
      "cell_type": "markdown",
      "metadata": {
        "_cell_guid": "811708e5-6b31-5b62-5267-0a40a45e4238"
      },
      "source": [
        "Above result show that this dataset has only 2 dates\n",
        "\n",
        "Moreover, Date = 2016-11-22 has hour range from 10 to 23 whereas Date = 2016-11-23 has hour range from 0 to 18\n",
        "\n",
        "**Lets plot the graph**"
      ]
    },
    {
      "cell_type": "code",
      "execution_count": null,
      "metadata": {
        "_cell_guid": "e53c654d-49e1-0836-cfe6-9219619f4808"
      },
      "outputs": [],
      "source": [
        "f, ax = plt.subplots(2, 1, figsize=(8, 10))\n",
        "plt.setp(ax, xticks=list(range(0,24)))\n",
        "\n",
        "ax[0].title.set_text(\"Number of tweets per hour\")\n",
        "ax[1].title.set_text(\"Number of re-tweets per hour\")\n",
        "\n",
        "for date in dates:\n",
        "    split = pivot_df.xs(date)\n",
        "    \n",
        "    split[\"count\"].plot(ax=ax[0], legend=True, label='' + str(date))\n",
        "    split[\"retweetCount\"].plot(ax=ax[1], legend=True, label='' + str(date))    "
      ]
    }
  ],
  "metadata": {
    "_change_revision": 0,
    "_is_fork": false,
    "kernelspec": {
      "display_name": "Python 3",
      "language": "python",
      "name": "python3"
    },
    "language_info": {
      "codemirror_mode": {
        "name": "ipython",
        "version": 3
      },
      "file_extension": ".py",
      "mimetype": "text/x-python",
      "name": "python",
      "nbconvert_exporter": "python",
      "pygments_lexer": "ipython3",
      "version": "3.5.2"
    }
  },
  "nbformat": 4,
  "nbformat_minor": 0
}