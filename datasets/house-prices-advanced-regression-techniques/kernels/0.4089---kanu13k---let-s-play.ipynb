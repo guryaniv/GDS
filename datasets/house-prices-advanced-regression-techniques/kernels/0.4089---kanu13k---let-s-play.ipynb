{
  "cells": [
    {
      "cell_type": "code",
      "execution_count": null,
      "metadata": {
        "_cell_guid": "a6f3c712-21ee-c964-daab-d07e0910d005"
      },
      "outputs": [],
      "source": [
        "# This Python 3 environment comes with many helpful analytics libraries installed\n",
        "# It is defined by the kaggle/python docker image: https://github.com/kaggle/docker-python\n",
        "# For example, here's several helpful packages to load in \n",
        "\n",
        "import numpy as np # linear algebra\n",
        "import pandas as pd # data processing, CSV file I/O (e.g. pd.read_csv)\n",
        "import seaborn as sns\n",
        "from pylab import *\n",
        "from sklearn import linear_model\n",
        "\n",
        "# Input data files are available in the \"../input/\" directory.\n",
        "# For example, running this (by clicking run or pressing Shift+Enter) will list the files in the input directory\n",
        "\n",
        "from subprocess import check_output\n",
        "print(check_output([\"ls\", \"../input\"]).decode(\"utf8\"))\n",
        "\n",
        "# Any results you write to the current directory are saved as output."
      ]
    },
    {
      "cell_type": "code",
      "execution_count": null,
      "metadata": {
        "_cell_guid": "7089e96f-3eed-d90d-7472-daa911f3e91c"
      },
      "outputs": [],
      "source": [
        "test_df.columns.sort_values()"
      ]
    },
    {
      "cell_type": "code",
      "execution_count": null,
      "metadata": {
        "_cell_guid": "63c4592e-8733-1f76-c205-8d21744a4cc0"
      },
      "outputs": [],
      "source": [
        "test_df = pd.read_csv(\"../input/test.csv\")\n",
        "train_df = pd.read_csv(\"../input/train.csv\")\n",
        "sample_submission_df = pd.read_csv(\"../input/sample_submission.csv\")\n",
        "test_df['BedroomAbvGr'].head(4)\n",
        "#sample_submission_df.head(4)\n",
        "#header = ['LotArea', 'Bedroom', 'MoSold', 'YrSold'];"
      ]
    },
    {
      "cell_type": "code",
      "execution_count": null,
      "metadata": {
        "_cell_guid": "768ebb11-b82a-555d-4a61-1ee69d53384e"
      },
      "outputs": [],
      "source": [
        "t=1"
      ]
    },
    {
      "cell_type": "code",
      "execution_count": null,
      "metadata": {
        "_cell_guid": "0351ff8f-acfa-334b-0d62-d15217ddaf00"
      },
      "outputs": [],
      "source": [
        "import matplotlib.pyplot as plt\n",
        "\n",
        "def predict(x):\n",
        "    return slope * x + intercept\n",
        "\n",
        "#fitLine = predict(test_df['BedroomAbvGr'])\n",
        "plt.subplot(2,2,1)\n",
        "plt.scatter(train_df['LotArea'], train_df['BedroomAbvGr'])\n",
        "plt.subplot(2,2,2)\n",
        "plt.scatter(train_df['LotArea'], train_df['MoSold'])\n",
        "plt.subplot(2,2,3)\n",
        "plt.scatter(train_df['LotArea'], train_df['YrSold'])\n",
        "plt.subplot(2,2,4)\n",
        "plt.scatter(train_df['BedroomAbvGr'], train_df['GrLivArea'])\n",
        "plt.show()"
      ]
    },
    {
      "cell_type": "code",
      "execution_count": null,
      "metadata": {
        "_cell_guid": "4cf19bdc-6b26-59cd-2e68-355f779e56b6"
      },
      "outputs": [],
      "source": [
        "# Select the benchmark models features\n",
        "X_train = train_df[['YrSold','MoSold','LotArea','BedroomAbvGr','GrLivArea']]\n",
        "y_train = train_df['SalePrice']\n",
        "X_test = test_df[['YrSold','MoSold','LotArea','BedroomAbvGr','GrLivArea']]\n",
        "clf = linear_model.LinearRegression()\n",
        "clf.fit(X_train.iloc[:,:4], y_train)\n",
        "X_train.iloc[:,:4].shape"
      ]
    },
    {
      "cell_type": "code",
      "execution_count": null,
      "metadata": {
        "_cell_guid": "ed857d5c-51c6-793e-c731-a766034c5610"
      },
      "outputs": [],
      "source": [
        "X_train.iloc[:,:4]"
      ]
    },
    {
      "cell_type": "code",
      "execution_count": null,
      "metadata": {
        "_cell_guid": "ecac0bd8-462d-ba7f-d00e-a99645b006f2"
      },
      "outputs": [],
      "source": [
        "from sklearn import cross_validation\n",
        "scores = cross_validation.cross_val_score(clf, X_train.iloc[:,:4], y_train, cv=5)\n",
        "print(np.mean(scores))"
      ]
    },
    {
      "cell_type": "code",
      "execution_count": null,
      "metadata": {
        "_cell_guid": "22ef0a20-911b-a014-46dd-bad688452848"
      },
      "outputs": [],
      "source": [
        "clf.fit(X_train.iloc[:,:4], y_train)"
      ]
    },
    {
      "cell_type": "code",
      "execution_count": null,
      "metadata": {
        "_cell_guid": "72456018-9895-651c-04b7-237def8f8125"
      },
      "outputs": [],
      "source": [
        "yhat = clf.predict(X_test.iloc[:,:4])"
      ]
    },
    {
      "cell_type": "code",
      "execution_count": null,
      "metadata": {
        "_cell_guid": "1a21e431-f246-54ec-009f-3b9bd31606e3"
      },
      "outputs": [],
      "source": [
        "# Create a dataframe with the row ID and price predictions\n",
        "yhat_df = pd.DataFrame(data={'Id':test_df.Id, 'SalePrice': yhat})"
      ]
    },
    {
      "cell_type": "code",
      "execution_count": null,
      "metadata": {
        "_cell_guid": "7659195a-c3ad-00e9-dcae-11743263bb72"
      },
      "outputs": [],
      "source": [
        "yhat_df"
      ]
    },
    {
      "cell_type": "code",
      "execution_count": null,
      "metadata": {
        "_cell_guid": "98bee8fa-b3b2-2c68-e431-224e50304817"
      },
      "outputs": [],
      "source": [
        "# Write to CSV file\n",
        "filename = 'benchmark.csv'\n",
        "yhat_df.to_csv(filename,index=False)"
      ]
    },
    {
      "cell_type": "code",
      "execution_count": null,
      "metadata": {
        "_cell_guid": "3e4c1e9d-b8e1-b0d9-8156-847b261de52a"
      },
      "outputs": [],
      "source": [
        "reg_vars = train_df.columns[train_df.dtypes != 'objects']"
      ]
    },
    {
      "cell_type": "code",
      "execution_count": null,
      "metadata": {
        "_cell_guid": "7d93ff52-583b-c775-fbf7-58a2e71261ff"
      },
      "outputs": [],
      "source": [
        "reg_vars.sort_values()"
      ]
    },
    {
      "cell_type": "code",
      "execution_count": null,
      "metadata": {
        "_cell_guid": "037afc53-2065-b037-c549-58caf9aacfdb"
      },
      "outputs": [],
      "source": [
        "train_df.corr()['SalePrice'].sort_values(ascending=False)"
      ]
    },
    {
      "cell_type": "code",
      "execution_count": null,
      "metadata": {
        "_cell_guid": "9a2359b8-0a45-6416-90da-efd85230e9d6"
      },
      "outputs": [],
      "source": [
        "#fitLine = predict(test_df['BedroomAbvGr'])\n",
        "plt.subplot(2,2,1)\n",
        "plt.scatter(train_df['OverallQual'], train_df['SalePrice'])\n",
        "plt.subplot(2,2,2)\n",
        "plt.scatter(train_df['GrLivArea'], train_df['SalePrice'])\n",
        "plt.subplot(2,2,3)\n",
        "plt.scatter(train_df['PoolArea'], train_df['SalePrice'])\n",
        "plt.subplot(2,2,4)\n",
        "plt.scatter(train_df['LotArea'], train_df['SalePrice'])\n",
        "plt.show()"
      ]
    },
    {
      "cell_type": "code",
      "execution_count": null,
      "metadata": {
        "_cell_guid": "6d640de5-2546-4523-08ad-f4b088f514d3"
      },
      "outputs": [],
      "source": [
        "train_bin_df = pd.get_dummies(train_df)\n",
        "test_bin_df = pd.get_dummies(test_df)"
      ]
    },
    {
      "cell_type": "code",
      "execution_count": null,
      "metadata": {
        "_cell_guid": "e717329d-a63e-bd75-09f3-f6c9c660491c"
      },
      "outputs": [],
      "source": [
        "train_bin_df.corr()['SalePrice'].sort_values(ascending=False)"
      ]
    },
    {
      "cell_type": "code",
      "execution_count": null,
      "metadata": {
        "_cell_guid": "a3a3540f-bc8c-dbf6-239e-c0b0742f9b28"
      },
      "outputs": [],
      "source": [
        "# Select the benchmark models features\n",
        "train_bin_df.fillna(0, inplace=True)\n",
        "test_bin_df.fillna(0, inplace=True)\n",
        "#test_bin_df.dropna(axis=1, how='all')\n",
        "#train_bin_df.dropna(axis=1, how='all')\n",
        "X_train = train_bin_df[['OverallQual', 'GrLivArea', 'GarageCars', 'GarageArea', 'TotalBsmtSF', '1stFlrSF','FullBath','BsmtQual_Ex'] ]\n",
        "y_train = train_bin_df['SalePrice']\n",
        "X_test = test_bin_df[['OverallQual', 'GrLivArea', 'GarageCars', 'GarageArea', 'TotalBsmtSF', '1stFlrSF','FullBath','BsmtQual_Ex'] ]\n",
        "clf = linear_model.LinearRegression()\n",
        "X_train.fillna(0, inplace=True)\n",
        "y_train.fillna(0, inplace=True)\n",
        "clf.fit(X_train, y_train)\n",
        "X_train.shape, X_test.shape"
      ]
    },
    {
      "cell_type": "code",
      "execution_count": null,
      "metadata": {
        "_cell_guid": "877ce1da-73af-8b48-5cc4-9f88571d3b60"
      },
      "outputs": [],
      "source": [
        "test_bin_df.columns"
      ]
    },
    {
      "cell_type": "code",
      "execution_count": null,
      "metadata": {
        "_cell_guid": "1e85ee9d-11be-a8d0-cc7b-17579ab76c64"
      },
      "outputs": [],
      "source": [
        "clf.fit(X_train.iloc[:,:4], y_train)\n",
        "ind = np.isnan(X_test)\n",
        "X_test[ind]\n",
        "print(X_test)"
      ]
    },
    {
      "cell_type": "code",
      "execution_count": null,
      "metadata": {
        "_cell_guid": "f3f7844e-45ab-fbef-ab78-7c2374430995"
      },
      "outputs": [],
      "source": [
        "#yhat_bin = clf.predict(X_test.iloc[:,:4])\n",
        "ind = np.isnan(X_test)\n",
        "#X_test.dropna()\n",
        "X_test_t = X_test[~X_test.isnull()]\n",
        "ind = np.isnan(X_test_t)\n",
        "print(X_test_t[~ind])\n",
        "\n",
        "X_test_use = X_test_t[~ind]\n",
        "yhat_bin = clf.predict(X_test_use.iloc[:,:4])"
      ]
    },
    {
      "cell_type": "code",
      "execution_count": null,
      "metadata": {
        "_cell_guid": "7aa48be0-edf1-4500-d4b1-fea6dad67fb2"
      },
      "outputs": [],
      "source": [
        "# Create a dataframe with the row ID and price predictions\n",
        "yhat_df = pd.DataFrame(data={'Id':test_bin_df.Id, 'SalePrice': yhat_bin})\n",
        "\n",
        "scores = cross_validation.cross_val_score(clf, X_train.iloc[:,:4], y_train, cv=5)\n",
        "print(np.mean(scores))\n",
        "\n",
        "ind = np.isnan(yhat_df)\n",
        "print(yhat_df[~ind])"
      ]
    },
    {
      "cell_type": "code",
      "execution_count": null,
      "metadata": {
        "_cell_guid": "a27214ef-0e33-14ba-5ff6-f6bc9c2dd234"
      },
      "outputs": [],
      "source": [
        "# Write to CSV file\n",
        "filename = 'benchmark_10.csv'\n",
        "#yhat_df.drop(yhat_df.index[~ind])\n",
        "yhat_df.dropna()\n",
        "yhat_df.replace([np.inf, -np.inf], np.nan).dropna(subset=[\"Id\", \"SalePrice\"], how=\"any\")\n",
        "#df.drop(df.index[[1,3]])\n",
        "yhat_df[yhat_df='NaN'] = []\n",
        "ind = np.isnan(yhat_df)\n",
        "print(yhat_df[ind])\n",
        "yhat_df.to_csv(filename,index=False)"
      ]
    },
    {
      "cell_type": "code",
      "execution_count": null,
      "metadata": {
        "_cell_guid": "a5272644-484e-6d25-39fc-88d1cf58fa03"
      },
      "outputs": [],
      "source": [
        "yhat_df.info()"
      ]
    },
    {
      "cell_type": "code",
      "execution_count": null,
      "metadata": {
        "_cell_guid": "1f276517-4bcd-6734-171b-c499a09e6ce5"
      },
      "outputs": [],
      "source": [
        ""
      ]
    }
  ],
  "metadata": {
    "_change_revision": 0,
    "_is_fork": false,
    "kernelspec": {
      "display_name": "Python 3",
      "language": "python",
      "name": "python3"
    },
    "language_info": {
      "codemirror_mode": {
        "name": "ipython",
        "version": 3
      },
      "file_extension": ".py",
      "mimetype": "text/x-python",
      "name": "python",
      "nbconvert_exporter": "python",
      "pygments_lexer": "ipython3",
      "version": "3.5.2"
    }
  },
  "nbformat": 4,
  "nbformat_minor": 0
}