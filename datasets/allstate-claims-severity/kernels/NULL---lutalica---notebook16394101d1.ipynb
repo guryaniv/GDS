{
  "cells": [
    {
      "cell_type": "code",
      "execution_count": null,
      "metadata": {
        "_cell_guid": "06c8bd73-7b31-8438-5ca3-fca7006e4143"
      },
      "outputs": [],
      "source": [
        "# It is defined by the kaggle/python docker image: https://github.com/kaggle/docker-python\n",
        "# For example, here's several helpful packages to load in \n",
        "\n",
        "import os\n",
        "import numpy as np # linear algebra\n",
        "import pandas as pd # data processing, CSV file I/O (e.g. pd.read_csv)\n",
        "from xgboost import XGBRegressor\n",
        "from sklearn.metrics import mean_absolute_error\n",
        "from sklearn.model_selection import train_test_split, GridSearchCV\n",
        "from sklearn.preprocessing import StandardScaler\n",
        "# Input data files are available in the \"../input/\" directory.\n",
        "# For example, running this (by clicking run or pressing Shift+Enter) will list the files in the input directory\n",
        "\n",
        "from subprocess import check_output\n",
        "print(check_output([\"ls\", \"../input\"]).decode(\"utf8\"))\n",
        "\n",
        "# Any results you write to the current directory are saved as output."
      ]
    },
    {
      "cell_type": "code",
      "execution_count": null,
      "metadata": {
        "_cell_guid": "18343d3c-f813-1cd1-6f24-d1cc3efa12c9"
      },
      "outputs": [],
      "source": [
        "DATA_DIR = os.path.join('..','input')\n",
        "TRAIN_FILE = os.path.join(DATA_DIR, 'train.csv')\n",
        "TEST_FILE = os.path.join(DATA_DIR, 'test.csv')\n",
        "SUBMISSION_FILE = os.path.join(DATA_DIR,'sample_submission.csv')"
      ]
    },
    {
      "cell_type": "code",
      "execution_count": null,
      "metadata": {
        "_cell_guid": "3a571ece-97f6-fe17-9fc7-4be00ebcb3ef"
      },
      "outputs": [],
      "source": [
        "train_df = pd.read_csv(TRAIN_FILE).set_index('id')\n",
        "target = np.log(train_df['loss'])\n",
        "train_df = train_df.drop('loss', axis=1)\n",
        "test_df = pd.read_csv(TEST_FILE).set_index('id')\n",
        "print (train_df.shape, test_df.shape)"
      ]
    },
    {
      "cell_type": "code",
      "execution_count": null,
      "metadata": {
        "_cell_guid": "4010a220-1829-edeb-b167-4d1db999354b"
      },
      "outputs": [],
      "source": [
        "cat_cols = [col for col in train_df.columns if col.startswith('cat')]\n",
        "cont_cols = [col for col in train_df.columns if col.startswith('cont')]"
      ]
    },
    {
      "cell_type": "code",
      "execution_count": null,
      "metadata": {
        "_cell_guid": "f563332b-1c39-3aa3-c3e5-71cd75b0227a"
      },
      "outputs": [],
      "source": [
        "train_test_df = pd.concat([train_df, test_df], axis=0)\n",
        "print(train_test_df.shape)"
      ]
    },
    {
      "cell_type": "code",
      "execution_count": null,
      "metadata": {
        "_cell_guid": "9b6cb8f8-e640-b2d4-5a2c-aa27b9d839be"
      },
      "outputs": [],
      "source": [
        "train_test_df[cat_cols] = train_test_df[cat_cols].apply(lambda x: pd.factorize(x, sort=True)[0])\n",
        "train_test_df[cont_cols] = train_test_df[cont_cols].apply(lambda x: StandardScaler().fit_transform(x))"
      ]
    },
    {
      "cell_type": "code",
      "execution_count": null,
      "metadata": {
        "_cell_guid": "d14babb7-dd49-83cb-c809-4c94aa3731a4"
      },
      "outputs": [],
      "source": [
        "train_df = train_test_df.iloc[:train_df.shape[0]]\n",
        "test_df = train_test_df.iloc[train_df.shape[0]:]\n",
        "del train_test_df"
      ]
    },
    {
      "cell_type": "code",
      "execution_count": null,
      "metadata": {
        "_cell_guid": "a6e53546-e965-ea24-90e9-3fd9fecb6545"
      },
      "outputs": [],
      "source": [
        "X_train, X_cv, y_train, y_cv = train_test_split(train_df, target, test_size=0.1, random_state=42)"
      ]
    },
    {
      "cell_type": "code",
      "execution_count": null,
      "metadata": {
        "_cell_guid": "f134bcf4-ceac-4663-6992-c39e5e230a12"
      },
      "outputs": [],
      "source": [
        "xgb_params = {\n",
        "    'seed': 42,\n",
        "    'silent': 0,\n",
        "    'objective': 'reg:linear',\n",
        "    'nthread': -1,\n",
        "    'max_depth': 5,\n",
        "    'min_child_weight':1,\n",
        "    'gamma': 0,\n",
        "    'subsample': 0.75,\n",
        "    'learning_rate': 0.1\n",
        "    \n",
        "}"
      ]
    },
    {
      "cell_type": "code",
      "execution_count": null,
      "metadata": {
        "_cell_guid": "607ea736-ba9c-c1bf-624e-f8c61eb86145"
      },
      "outputs": [],
      "source": [
        "master_grid_params = {'colsample_bylevel':[0.3, 0.6, 0.75, 0.9],\n",
        "               'colsample_bytree':[0.3, 0.6, 0.75, 0.9],\n",
        "               'learning_rate':[0.01, 0.03, 0.09, 0.3],\n",
        "               'max_depth':[3, 6, 9],\n",
        "               'min_child_weight':[1, 3, 6, 9],\n",
        "               'n_estimators':[300, 600, 900],\n",
        "               'reg_alpha':[0, 0.01, 0.1, 0.3, 1, 100],\n",
        "               'subsample':[0.6, 0.75, 0.9]\n",
        "               }\n",
        "param_test1 = {k: master_grid_params[k] for k in ['n_estimators']} "
      ]
    },
    {
      "cell_type": "code",
      "execution_count": null,
      "metadata": {
        "_cell_guid": "5d486c89-0154-87e0-5462-b2cfe7be5a65"
      },
      "outputs": [],
      "source": [
        "xgb_model = XGBRegressor(**xgb_params)\n",
        "gsearch = GridSearchCV(estimator=xgb_model,\n",
        "                       param_grid=param_test1,\n",
        "                       scoring='neg_mean_absolute_error',\n",
        "                       n_jobs=-1,\n",
        "                       cv=5,\n",
        "                       verbose=3\n",
        "                      )"
      ]
    },
    {
      "cell_type": "code",
      "execution_count": null,
      "metadata": {
        "_cell_guid": "6d74858d-0fe0-9d47-4471-f865a490cadc"
      },
      "outputs": [],
      "source": [
        "gsearch.fit(X_train, y_train)"
      ]
    },
    {
      "cell_type": "code",
      "execution_count": null,
      "metadata": {
        "_cell_guid": "72733180-213f-e251-f5d5-03b0cb78928f"
      },
      "outputs": [],
      "source": [
        "y_pred = gsearch.predict(X_cv)"
      ]
    },
    {
      "cell_type": "code",
      "execution_count": null,
      "metadata": {
        "_cell_guid": "104ee44b-eb1c-cacb-0af6-3b7cca5647ec"
      },
      "outputs": [],
      "source": [
        "print(mean_absolute_error(np.exp(y_cv), np.exp(y_pred)))"
      ]
    }
  ],
  "metadata": {
    "_change_revision": 0,
    "_is_fork": false,
    "kernelspec": {
      "display_name": "Python 3",
      "language": "python",
      "name": "python3"
    },
    "language_info": {
      "codemirror_mode": {
        "name": "ipython",
        "version": 3
      },
      "file_extension": ".py",
      "mimetype": "text/x-python",
      "name": "python",
      "nbconvert_exporter": "python",
      "pygments_lexer": "ipython3",
      "version": "3.5.2"
    }
  },
  "nbformat": 4,
  "nbformat_minor": 0
}