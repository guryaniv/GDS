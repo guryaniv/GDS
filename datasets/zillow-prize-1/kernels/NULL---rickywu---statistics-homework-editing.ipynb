{
  "cells": [
    {
      "cell_type": "markdown",
      "metadata": {
        "_cell_guid": "a2bfc53a-7ffc-aea0-2c3b-f1c91738abe9"
      },
      "source": [
        "#\u7b2c\u4e00\u6b65\uff0c\u73af\u5883\u51c6\u5907\uff0c\u5bfc\u5165\u5206\u6790\u7528\u5fc5\u987b\u7684\u5e93"
      ]
    },
    {
      "cell_type": "code",
      "execution_count": null,
      "metadata": {
        "_cell_guid": "17412440-3dc4-b337-7ad8-fa641e270396"
      },
      "outputs": [],
      "source": [
        "# This Python 3 environment comes with many helpful analytics libraries installed\n",
        "# It is defined by the kaggle/python docker image: https://github.com/kaggle/docker-python\n",
        "# For example, here's several helpful packages to load in \n",
        "\n",
        "import numpy as np # linear algebra\n",
        "import pandas as pd # data processing, CSV file I/O (e.g. pd.read_csv)\n",
        "import matplotlib.pyplot as plt\n",
        "import tensorflow as tf # tensorflow\n",
        "import seaborn as sns\n",
        "# Input data files are available in the \"../input/\" directory.\n",
        "# For example, running this (by clicking run or pressing Shift+Enter) will list the files in the input directory"
      ]
    },
    {
      "cell_type": "markdown",
      "metadata": {
        "_cell_guid": "715741f9-9939-3023-354a-4394b036fb5d"
      },
      "source": [
        "\u9996\u5148\u770b\u4e00\u4e0b\u8fd9\u4e2a\u6bd4\u8d5b\u6240\u63d0\u4f9b\u7684\u6240\u6709\u6570\u636e\u6587\u4ef6"
      ]
    },
    {
      "cell_type": "code",
      "execution_count": null,
      "metadata": {
        "_cell_guid": "29fd0e27-4aa0-b2d6-ea2b-af9fdee7049e"
      },
      "outputs": [],
      "source": [
        "from subprocess import check_output\n",
        "print(check_output([\"ls\", \"../input\"]).decode(\"utf8\"))\n",
        "\n",
        "# Any results you write to the current directory are saved as output."
      ]
    },
    {
      "cell_type": "markdown",
      "metadata": {
        "_cell_guid": "3d75896b-52a9-a421-9604-36689bdd123a"
      },
      "source": [
        "\u68c0\u67e5\u4e00\u4e0bproperties_2016.csv\u8fd9\u4e2a\u6587\u4ef6\u7684\u7ef4\u5ea6\uff0c\u8fd9\u4e2a\u6587\u4ef6\u5f88\u5927"
      ]
    },
    {
      "cell_type": "code",
      "execution_count": null,
      "metadata": {
        "_cell_guid": "0578b17a-bc59-b00d-8175-e39e3cd3a6c8"
      },
      "outputs": [],
      "source": [
        "# labels of properties\n",
        "properties_csv = pd.read_csv(\"../input/properties_2016.csv\", low_memory=False)\n",
        "print(properties_csv.shape)"
      ]
    },
    {
      "cell_type": "code",
      "execution_count": null,
      "metadata": {
        "_cell_guid": "e6240500-b8b9-9ac8-aaa4-9a77c8513bcd"
      },
      "outputs": [],
      "source": [
        "print(properties_csv.sample(5))"
      ]
    },
    {
      "cell_type": "markdown",
      "metadata": {
        "_cell_guid": "c75c3372-44ac-5f8d-a71a-3383a03084b8"
      },
      "source": [
        "\u518d\u770b\u4e00\u4e0b\u8bad\u7ec3\u96c6\u5408\u7684csv\u6587\u4ef6"
      ]
    },
    {
      "cell_type": "code",
      "execution_count": null,
      "metadata": {
        "_cell_guid": "0e46c2fa-bfd2-640c-34be-07a0af4ccfa5"
      },
      "outputs": [],
      "source": [
        "print(train_csv.sample(5))"
      ]
    },
    {
      "cell_type": "code",
      "execution_count": null,
      "metadata": {
        "_cell_guid": "c577f04c-2354-dc6e-c51c-59a6b4760c28"
      },
      "outputs": [],
      "source": [
        "train_csv = pd.read_csv(\"../input/train_2016.csv\", low_memory=False)\n",
        "print(train_csv.shape)"
      ]
    },
    {
      "cell_type": "markdown",
      "metadata": {
        "_cell_guid": "2d3e40d2-576c-8623-94fb-881dc8b3224c"
      },
      "source": [
        "\u770b\u4e00\u4e0blogerror\u7684\u5206\u5e03\u60c5\u51b5"
      ]
    },
    {
      "cell_type": "code",
      "execution_count": null,
      "metadata": {
        "_cell_guid": "8fa120ad-ed89-4173-7941-e196bb26542b"
      },
      "outputs": [],
      "source": [
        "plt.figure(figsize=(10,8))\n",
        "sns.distplot(train_csv.logerror.values, bins=50, kde=False)\n",
        "plt.xlabel('logerror', fontsize=12)\n",
        "plt.show()"
      ]
    },
    {
      "cell_type": "code",
      "execution_count": null,
      "metadata": {
        "_cell_guid": "932cb1a4-ff6d-8789-a416-2060d83b6e63"
      },
      "outputs": [],
      "source": [
        "plt.figure(figsize=(8,8))\n",
        "plt.scatter(range(train_csv.shape[0]), np.sort(train_csv.logerror.values))\n",
        "plt.xlabel('index', fontsize=12)\n",
        "plt.ylabel('logerror', fontsize=12)\n",
        "plt.show()"
      ]
    },
    {
      "cell_type": "markdown",
      "metadata": {
        "_cell_guid": "88613a20-6858-7cc5-a2cd-3b39cd611542"
      },
      "source": [
        "\u4ece\u8bf4\u660e\u6587\u6863\u770b\uff0cProperties\u4e2d\u7684ParcelId\u5e94\u8be5\u662f\u552f\u4e00\u7684\uff0c\u68c0\u67e5\u4e00\u4e0b"
      ]
    },
    {
      "cell_type": "code",
      "execution_count": null,
      "metadata": {
        "_cell_guid": "cdf03a85-851c-4c4a-4ef8-7a5dffda9be0"
      },
      "outputs": [],
      "source": [
        "(train_csv['parcelid'].value_counts().reset_index())['parcelid'].value_counts()"
      ]
    },
    {
      "cell_type": "markdown",
      "metadata": {
        "_cell_guid": "31a1cec9-fba6-ccd7-3a3b-b62422d36dd5"
      },
      "source": [
        "\u7ed3\u679c\u597d\u50cf\u4e0d\u662f\u8fd9\u6837\u7684\uff0c\u9700\u8981\u8fdb\u4e00\u6b65\u5206\u6790\u67e5\u770b\u4e0b\u539f\u56e0"
      ]
    },
    {
      "cell_type": "code",
      "execution_count": null,
      "metadata": {
        "_cell_guid": "dcf1cd37-6a86-bc4b-49f4-767fd7780a9e"
      },
      "outputs": [],
      "source": [
        "#\u8fd9\u4e9b\u4ee3\u7801\u8fd8\u662f\u6709\u95ee\u9898\u7684,\u9700\u8981debug\n",
        "id_counts = train_csv['parcelid'].value_counts()\n",
        "id_counts.where(id_counts>1).dropna(how='any')\n",
        "for row in id_counts:\n",
        "    print(row)"
      ]
    },
    {
      "cell_type": "code",
      "execution_count": null,
      "metadata": {
        "_cell_guid": "7a9a8c81-45d8-70c8-36f5-89a130932894"
      },
      "outputs": [],
      "source": [
        "merge_csv = train_csv.merge(properties_csv)\n",
        "merge_csv.shape"
      ]
    },
    {
      "cell_type": "code",
      "execution_count": null,
      "metadata": {
        "_cell_guid": "ce8a4510-84a0-3524-7762-b41a944d48d0"
      },
      "outputs": [],
      "source": [
        "merge_csv['parcelid'].value_counts()"
      ]
    }
  ],
  "metadata": {
    "_change_revision": 0,
    "_is_fork": false,
    "kernelspec": {
      "display_name": "Python 3",
      "language": "python",
      "name": "python3"
    },
    "language_info": {
      "codemirror_mode": {
        "name": "ipython",
        "version": 3
      },
      "file_extension": ".py",
      "mimetype": "text/x-python",
      "name": "python",
      "nbconvert_exporter": "python",
      "pygments_lexer": "ipython3",
      "version": "3.6.0"
    }
  },
  "nbformat": 4,
  "nbformat_minor": 0
}