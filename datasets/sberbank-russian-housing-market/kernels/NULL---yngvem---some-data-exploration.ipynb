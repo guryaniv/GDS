{
  "cells": [
    {
      "cell_type": "markdown",
      "metadata": {
        "_cell_guid": "5f3719f2-f783-08f1-839a-d8a0fa1d91f5"
      },
      "source": [
        "# An exploration of the dataset"
      ]
    },
    {
      "cell_type": "markdown",
      "metadata": {
        "_cell_guid": "1ef5eba8-4a07-8e9d-7f25-6092f3ead64b"
      },
      "source": [
        "## Import and load data"
      ]
    },
    {
      "cell_type": "code",
      "execution_count": null,
      "metadata": {
        "_cell_guid": "f3f1bedf-c372-85ef-30dc-38c1049b6f97"
      },
      "outputs": [],
      "source": [
        "# This Python 3 environment comes with many helpful analytics libraries installed\n",
        "# It is defined by the kaggle/python docker image: https://github.com/kaggle/docker-python\n",
        "# For example, here's several helpful packages to load in \n",
        "\n",
        "import numpy as np # linear algebra\n",
        "import pandas as pd # data processing, CSV file I/O (e.g. pd.read_csv)\n",
        "from numba import jit\n",
        "import matplotlib.pyplot as plt\n",
        "import seaborn as sns\n",
        "sns.set(color_codes=True)\n",
        "\n",
        "\n",
        "# Define pandas print\n",
        "def print_all(x):\n",
        "    pd.set_option('display.max_rows', len(x))\n",
        "    print(x)\n",
        "    pd.reset_option('display.max_rows')\n",
        "\n",
        "# Input data files are available in the \"../input/\" directory.\n",
        "# For example, running this (by clicking run or pressing Shift+Enter) will list the files in the input directory\n",
        "\n",
        "from subprocess import check_output\n",
        "print(check_output([\"ls\", \"../input\"]).decode(\"utf8\"))\n",
        "\n",
        "# Any results you write to the current directory are saved as output."
      ]
    },
    {
      "cell_type": "code",
      "execution_count": null,
      "metadata": {
        "_cell_guid": "d675c33c-3994-405f-45a9-49a425ad2628"
      },
      "outputs": [],
      "source": [
        "# Read data\n",
        "data = pd.read_csv(\"../input/train.csv\")"
      ]
    },
    {
      "cell_type": "code",
      "execution_count": null,
      "metadata": {
        "_cell_guid": "355f162b-1c3e-f89b-c6de-81ca31095b6d"
      },
      "outputs": [],
      "source": [
        "# Extract prices\n",
        "price = data['price_doc']\n",
        "data = data.drop('price_doc', 1)\n",
        "\n",
        "# Extract timestamps\n",
        "time_strings = data['timestamp']\n",
        "data = data.drop('timestamp', 1)\n",
        "\n"
      ]
    },
    {
      "cell_type": "code",
      "execution_count": null,
      "metadata": {
        "_cell_guid": "1b66f6d2-860a-f120-4e23-b06d02feff37"
      },
      "outputs": [],
      "source": [
        "# Extract numerical variables\n",
        "num_data_values = data.values[:, np.logical_or(data.dtypes == np.float64, data.dtypes == np.int64)]\n",
        "num_data_labels = np.array(data.axes[1][np.logical_or(data.dtypes == np.float64, data.dtypes == np.int64)])\n",
        "num_data = pd.DataFrame(data=num_data, rows=num_data_labels)\n",
        "\n",
        "cat_data_values = data.values[:, np.logical_not(np.logical_or(data.dtypes == np.float64, data.dtypes == np.int64))]\n",
        "cat_data_labels = data.axes[1][np.logical_not(np.logical_or(data.dtypes == np.float64, data.dtypes == np.int64))]"
      ]
    },
    {
      "cell_type": "markdown",
      "metadata": {
        "_cell_guid": "e1a270f0-4062-a867-a2dc-d8eff7f944e4"
      },
      "source": [
        "## Some basic exploration"
      ]
    },
    {
      "cell_type": "code",
      "execution_count": null,
      "metadata": {
        "_cell_guid": "39728869-f16d-7c11-a93c-fc5cafd009ed"
      },
      "outputs": [],
      "source": [
        "plt.hist(np.log(data['price_doc']), bins=100)\n",
        "plt.title('Histogram of log-price')\n",
        "plt.show()"
      ]
    },
    {
      "cell_type": "code",
      "execution_count": null,
      "metadata": {
        "_cell_guid": "da512796-3805-2274-21ad-51b93d33d2ba"
      },
      "outputs": [],
      "source": [
        "price_corr = correlation['price_doc']\n",
        "\n",
        "print_all(price_corr.sort_values(ascending=False))"
      ]
    },
    {
      "cell_type": "code",
      "execution_count": null,
      "metadata": {
        "_cell_guid": "0bb6c80d-c089-0c26-7473-3e717d9bac2e"
      },
      "outputs": [],
      "source": [
        "print_all(data.dtypes)"
      ]
    },
    {
      "cell_type": "code",
      "execution_count": null,
      "metadata": {
        "_cell_guid": "1b19a975-f014-93f3-2edf-ba65c854a995"
      },
      "outputs": [],
      "source": [
        "# print_all(data['product_type'])\n",
        "product_type = np.zeros(data['product_type'].shape[0]).astype('bool')\n",
        "product_type[data['product_type'] == 'Investment'] = 1"
      ]
    },
    {
      "cell_type": "code",
      "execution_count": null,
      "metadata": {
        "_cell_guid": "09e1005b-c957-2461-3574-b9b4b2b61be3"
      },
      "outputs": [],
      "source": [
        "floor_ = data['floor']\n",
        "price_ = data['price_doc']\n",
        "\n",
        "floor = floor[np.logical_not(np.isnan(floor_))]\n",
        "price = price[np.logical_not(np.isnan(floor_))]\n"
      ]
    },
    {
      "cell_type": "code",
      "execution_count": null,
      "metadata": {
        "_cell_guid": "48766eb5-7c4e-cc17-e54b-3225d3e6c20e"
      },
      "outputs": [],
      "source": [
        "kr = KernelRidge(1, gamma=1, kernel='rbf')\n",
        "print(kr.fit(floor.reshape(-1, 1), price))\n"
      ]
    }
  ],
  "metadata": {
    "_change_revision": 0,
    "_is_fork": false,
    "kernelspec": {
      "display_name": "Python 3",
      "language": "python",
      "name": "python3"
    },
    "language_info": {
      "codemirror_mode": {
        "name": "ipython",
        "version": 3
      },
      "file_extension": ".py",
      "mimetype": "text/x-python",
      "name": "python",
      "nbconvert_exporter": "python",
      "pygments_lexer": "ipython3",
      "version": "3.6.0"
    }
  },
  "nbformat": 4,
  "nbformat_minor": 0
}