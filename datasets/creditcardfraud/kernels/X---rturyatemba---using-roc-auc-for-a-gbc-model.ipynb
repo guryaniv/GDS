{
  "cells": [
    {
      "cell_type": "markdown",
      "metadata": {
        "_cell_guid": "c83a4bd4-d8c7-aef7-784a-3d5b14ca0d1b"
      },
      "source": [
        "credit card class prediction with a 99.9% prediction accuracy"
      ]
    },
    {
      "cell_type": "code",
      "execution_count": null,
      "metadata": {
        "_cell_guid": "1e047940-d785-8a58-25b5-767e4f776845"
      },
      "outputs": [],
      "source": [
        "# This Python 3 environment comes with many helpful analytics libraries installed\n",
        "# It is defined by the kaggle/python docker image: https://github.com/kaggle/docker-python\n",
        "\n",
        "#AUTHOR RONALD TURYATEMBA\n",
        "#USING GRADIENT BOOSTING CLASSIFIER TO PREDICT WHETHER FRAUD OR NOT \n",
        "#USING THE DATA UPON WHICH PRINCIPAL COMPONENT ANALYSIS HAS BEEN DONE \n",
        "#SO WE SHALL USE THESE LINEAR UNCORRELATED DATA\n",
        "import pandas as pd\n",
        "import numpy as np\n",
        "df_credit = pd.read_csv('../input/creditcard.csv',header=0)\n",
        "df_credit\n",
        "x =df_credit.drop(['Class'], axis=1)\n",
        "y = df_credit['Class']\n",
        "\n",
        "\n",
        "\n",
        "from sklearn.ensemble import RandomForestClassifier\n",
        "from sklearn import cross_validation\n",
        "from sklearn.cross_validation import KFold,cross_val_score\n",
        "from sklearn.cross_validation import train_test_split\n",
        "from sklearn.ensemble import GradientBoostingClassifier\n",
        "\n",
        "X_train,X_test,y_train,y_test = train_test_split(x,y,test_size=0.4,random_state=0)\n",
        "Kfold =KFold(len(df_credit),n_folds=100, shuffle=False)\n",
        "\n",
        "#using the gradient boosting algorithm\n",
        "GBC = GradientBoostingClassifier(n_estimators=100, learning_rate=1.0, max_depth=1,random_state=0)\n",
        "GBC = GBC.fit(x,y)\n",
        "#GBC = GBC.predict([....])\n",
        "print('calculating...')\n",
        "print('The GBC accuracy score is %s' %cross_val_score(GBC,x,y,cv=10).mean())\n",
        "print('done')"
      ]
    },
    {
      "cell_type": "code",
      "execution_count": null,
      "metadata": {
        "_cell_guid": "8ed6546e-70cc-9906-65a7-736eb9732d90"
      },
      "outputs": [],
      "source": [
        "#AUTHOR RONALD TURYATEMBA\n",
        "#USING ROC_AUC TO MEASURE PERFORMANCE OF GRADIENT BOOSTING CLASSIFIER \n",
        "#USING THE DATA UPON WHICH PRINCIPAL COMPONENT ANALYSIS HAS BEEN DONE \n",
        "\n",
        "import pandas as pd\n",
        "import numpy as np\n",
        "from sklearn.ensemble import RandomForestClassifier\n",
        "from sklearn import cross_validation\n",
        "from sklearn.cross_validation import KFold,cross_val_score\n",
        "from sklearn.cross_validation import train_test_split\n",
        "from sklearn.ensemble import GradientBoostingClassifier\n",
        "from sklearn.metrics import roc_auc_score\n",
        "from sklearn.metrics import roc_curve, auc\n",
        "from sklearn.preprocessing import label_binarize\n",
        "import matplotlib.pyplot as plt\n",
        "print('started')\n",
        "df_credit = pd.read_csv('../input/creditcard.csv',header=0)\n",
        "df_credit\n",
        "x =df_credit.drop(['Class'], axis=1)\n",
        "y = df_credit['Class']\n",
        "\n",
        "#binarize the class data that is y\n",
        "y_array = np.array(y)\n",
        "y = label_binarize(y_array, classes=[0,1])\n",
        "#this will count the number of elements in row\n",
        "#n_classses = y.shape[1]\n",
        "n_classes = 2\n",
        "\n",
        "#shuffle and slipt the the data into training and test sets\n",
        "X_train,X_test,y_train,y_test = train_test_split(x,y,test_size=0.4,random_state=0)\n",
        "\n",
        "\n",
        "#using the gradient boosting algorithm\n",
        "GBC = GradientBoostingClassifier(n_estimators=100, learning_rate=2.0, max_depth=1,random_state=0, presort='TRUE')\n",
        "\n",
        "#train the classifier with the train data\n",
        "y_score = GBC.fit(X_train,y_train).predict_proba(X_test)\n",
        "\n",
        "fpr = dict()\n",
        "tpr = dict()\n",
        "roc_auc = dict()\n",
        "#a dictionary is initialised for the false positive rate and true positive rate\n",
        "#plus the roc_ area under the curve \n",
        "#fpr is the false positve rate and tpr is the true positive rate\n",
        "\n",
        "fpr[0],tpr[0],_ = roc_curve(y_test[:,0], y_score[:,0])\n",
        "#we have an underscore there because this functions returns 3 values \n",
        "#but we dont need the third value therefore place a an underscore there\n",
        "\n",
        "roc_auc[0] = auc(fpr[0],tpr[0])\n",
        "#plot the figure\n",
        "plt.figure()\n",
        "lw=2\n",
        "plt.plot(fpr[0],tpr[0], color='darkorange',lw=lw,label='ROC curve (area=%0.2f)' %roc_auc[0])\n",
        "plt.plot([0,1],[0,1], color='grey', linestyle='--')\n",
        "plt.xlim([0.0, 1.0])\n",
        "plt.ylim([0.0,1.05])\n",
        "plt.xlabel('False positive rate')\n",
        "plt.ylabel('True positive rate')\n",
        "plt.title('ROC All_state')\n",
        "plt.legend(loc='lower right')\n",
        "plt.show()\n",
        "\n",
        "print('done')\n"
      ]
    }
  ],
  "metadata": {
    "_change_revision": 0,
    "_is_fork": false,
    "kernelspec": {
      "display_name": "Python 3",
      "language": "python",
      "name": "python3"
    },
    "language_info": {
      "codemirror_mode": {
        "name": "ipython",
        "version": 3
      },
      "file_extension": ".py",
      "mimetype": "text/x-python",
      "name": "python",
      "nbconvert_exporter": "python",
      "pygments_lexer": "ipython3",
      "version": "3.5.2"
    }
  },
  "nbformat": 4,
  "nbformat_minor": 0
}