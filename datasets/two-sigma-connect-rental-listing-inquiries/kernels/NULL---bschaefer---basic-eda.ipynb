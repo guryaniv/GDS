{
  "cells": [
    {
      "cell_type": "markdown",
      "metadata": {
        "_cell_guid": "2f3da9c5-d9e3-bf10-8bf9-31f0ca96de53"
      },
      "source": [
        "Basic visualization for interest_level and various features using Seaborn "
      ]
    },
    {
      "cell_type": "code",
      "execution_count": null,
      "metadata": {
        "_cell_guid": "c3149fc5-c5ac-e8db-8f0c-2c193ee6ff06"
      },
      "outputs": [],
      "source": [
        "import pandas as pd\n",
        "import numpy as np\n",
        "import matplotlib.pyplot as plt\n",
        "import seaborn as sns\n",
        "%matplotlib inline"
      ]
    },
    {
      "cell_type": "code",
      "execution_count": null,
      "metadata": {
        "_cell_guid": "a292dd0f-f530-884d-6578-0d35fe5aa879"
      },
      "outputs": [],
      "source": [
        "data_path = \"../input/\"\n",
        "train_df = pd.read_json(data_path + \"train.json\")\n",
        "test_df = pd.read_json(data_path + \"test.json\")\n",
        "print(train_df.shape)\n",
        "print(test_df.shape)"
      ]
    },
    {
      "cell_type": "code",
      "execution_count": null,
      "metadata": {
        "_cell_guid": "f7ef4209-6c4c-f8d0-24ef-a5bd3db6c803"
      },
      "outputs": [],
      "source": [
        "train_df.head()"
      ]
    },
    {
      "cell_type": "markdown",
      "metadata": {
        "_cell_guid": "12b5e3da-8667-bd51-d85b-8933ac471f52"
      },
      "source": [
        "# Target Variable"
      ]
    },
    {
      "cell_type": "code",
      "execution_count": null,
      "metadata": {
        "_cell_guid": "1d950fe5-37a9-e032-9533-44ee22bb2b93"
      },
      "outputs": [],
      "source": [
        "ax = sns.countplot(train_df[\"interest_level\"])"
      ]
    },
    {
      "cell_type": "markdown",
      "metadata": {
        "_cell_guid": "9d5d6dc1-3e21-2adf-6cc3-f85f08434c43"
      },
      "source": [
        "# Listing Id\n",
        "Normally, listing_id should not be considered as a feature. In other kernels it is shown that there is a pattern that "
      ]
    },
    {
      "cell_type": "markdown",
      "metadata": {
        "_cell_guid": "79351ef2-e550-2f3c-ec86-18d2dc685794"
      },
      "source": [
        "# Features\n",
        "\n",
        "### Bathroom, Bedroom & Price"
      ]
    },
    {
      "cell_type": "code",
      "execution_count": null,
      "metadata": {
        "_cell_guid": "61b073ea-ddb7-a88b-7c4c-76a3edb00904"
      },
      "outputs": [],
      "source": [
        "fig, (ax0, ax1) = plt.subplots(1,2,figsize=(8,4))\n",
        "p1 = sns.countplot(train_df[\"bathrooms\"], ax=ax0)\n",
        "p2 = sns.countplot(test_df[\"bathrooms\"], ax=ax1)"
      ]
    },
    {
      "cell_type": "code",
      "execution_count": null,
      "metadata": {
        "_cell_guid": "39c88f3a-8b59-ea71-295c-9ae0898602c8"
      },
      "outputs": [],
      "source": [
        "ax = sns.countplot(x=\"bedrooms\", hue=\"interest_level\", hue_order=[\"low\", \"medium\", \"high\"], data=train_df)"
      ]
    },
    {
      "cell_type": "code",
      "execution_count": null,
      "metadata": {
        "_cell_guid": "02ba74ce-17b5-cdf8-8cb1-71d42f73f6ef"
      },
      "outputs": [],
      "source": [
        "ax = sns.distplot(train_df[\"price\"])"
      ]
    },
    {
      "cell_type": "markdown",
      "metadata": {
        "_cell_guid": "1997a0b1-cd3b-232c-ae2f-ebc8e1c1e079"
      },
      "source": [
        "Apparently, there are some price outliers we need to remove for visualization..."
      ]
    },
    {
      "cell_type": "code",
      "execution_count": null,
      "metadata": {
        "_cell_guid": "7f3f8771-5301-c5e0-7605-a89831a7c96e"
      },
      "outputs": [],
      "source": [
        "plimit = np.percentile(train_df[\"price\"], 99)\n",
        "# replace outlier by 99th percentile\n",
        "train_df.ix[train_df[\"price\"] > plimit, \"price\"] = plimit\n",
        "ax = sns.distplot(train_df[\"price\"])"
      ]
    },
    {
      "cell_type": "code",
      "execution_count": null,
      "metadata": {
        "_cell_guid": "dc473935-9ba6-8980-1077-5881fb13eab4"
      },
      "outputs": [],
      "source": [
        "ax = sns.boxplot(x=\"interest_level\", y=\"bedrooms\", data=train_df)"
      ]
    },
    {
      "cell_type": "code",
      "execution_count": null,
      "metadata": {
        "_cell_guid": "ba1215ab-6847-9fae-a307-6a03bb988c29"
      },
      "outputs": [],
      "source": [
        "ax = sns.violinplot(x=\"interest_level\", y=\"price\", data=train_df)"
      ]
    },
    {
      "cell_type": "markdown",
      "metadata": {
        "_cell_guid": "51b2b763-dbfe-5b0e-1dd7-7378c41b3a29"
      },
      "source": [
        "### Combined Features"
      ]
    },
    {
      "cell_type": "code",
      "execution_count": null,
      "metadata": {
        "_cell_guid": "d5816da1-8579-3738-34a8-1196982d8b5d"
      },
      "outputs": [],
      "source": [
        "g = sns.pairplot(train_df[['price', 'bedrooms', 'bathrooms', 'interest_level']], hue=\"interest_level\", hue_order=[\"low\", \"medium\", \"high\"], size=4)"
      ]
    },
    {
      "cell_type": "code",
      "execution_count": null,
      "metadata": {
        "_cell_guid": "4a7da5c2-9235-0a46-8b96-da54fa07e8dc"
      },
      "outputs": [],
      "source": [
        "train_df[\"ppbed\"] = train_df[\"price\"] / train_df[\"bedrooms\"]\n",
        "train_df[\"ppbed\"] = train_df[\"ppbed\"].replace([np.inf, -np.inf], -1)\n",
        "ax = sns.distplot(train_df[\"ppbed\"])"
      ]
    },
    {
      "cell_type": "code",
      "execution_count": null,
      "metadata": {
        "_cell_guid": "76759b4c-1043-b918-245c-334630f56d2f"
      },
      "outputs": [],
      "source": [
        "ax = sns.violinplot(x=\"interest_level\", y=\"ppbed\", data=train_df)"
      ]
    },
    {
      "cell_type": "markdown",
      "metadata": {
        "_cell_guid": "f2c5e86a-812a-4a53-9221-8014f0ecf912"
      },
      "source": [
        "### Manager Id\n",
        "Number of managers:"
      ]
    },
    {
      "cell_type": "code",
      "execution_count": null,
      "metadata": {
        "_cell_guid": "11c65eff-dbab-dbce-2fb1-16d66f577bdc"
      },
      "outputs": [],
      "source": [
        "cnt_manager_listings = train_df[\"manager_id\"].value_counts()\n",
        "cnt_manager_listings.name = \"Listings per Manager\"\n",
        "len(cnt_manager_listings)"
      ]
    },
    {
      "cell_type": "code",
      "execution_count": null,
      "metadata": {
        "_cell_guid": "a55a716b-ca1a-755a-78f6-7630d610aefb"
      },
      "outputs": [],
      "source": [
        "ax = sns.distplot(cnt_manager_listings)"
      ]
    },
    {
      "cell_type": "code",
      "execution_count": null,
      "metadata": {
        "_cell_guid": "aae49b03-806f-664d-4030-36c4fdc199f1"
      },
      "outputs": [],
      "source": [
        "cnt_manager_listings[:10]"
      ]
    },
    {
      "cell_type": "markdown",
      "metadata": {
        "_cell_guid": "82863f2c-c742-ad86-31da-8c6bfa83aa02"
      },
      "source": [
        "The most interesting question regarding manager_id is how to derive a manager skill feature. As a starter, the manager listing counts per interest_level can be calculated."
      ]
    },
    {
      "cell_type": "code",
      "execution_count": null,
      "metadata": {
        "_cell_guid": "bd1ec4c7-5e9f-b747-1c2d-3d40ea7db99d"
      },
      "outputs": [],
      "source": [
        "levels = train_df['interest_level'].unique()\n",
        "\n",
        "aggs = dict((il, np.sum) for il in levels)\n",
        "aggs['listing_id'] = np.size\n",
        "\n",
        "manager_levels = pd.get_dummies(train_df, columns=['interest_level'], prefix='', prefix_sep='').groupby('manager_id').agg(aggs)\n",
        "for l in levels:\n",
        "    manager_levels['manager_skill_' + l] = manager_levels[l] / manager_levels['listing_id']\n",
        "    del manager_levels[l]\n",
        "\n",
        "del manager_levels['listing_id']\n"
      ]
    },
    {
      "cell_type": "markdown",
      "metadata": {
        "_cell_guid": "5d9a4e87-5d55-99f8-20a4-11adc4721dcf"
      },
      "source": [
        "### Latitude & Longitude"
      ]
    },
    {
      "cell_type": "markdown",
      "metadata": {
        "_cell_guid": "c2939334-d19a-94f2-9e24-3790a6c57321"
      },
      "source": [
        "There are also outliers in latitude & longitude that need to be removed for plotting."
      ]
    },
    {
      "cell_type": "code",
      "execution_count": null,
      "metadata": {
        "_cell_guid": "b8673047-b882-7a09-d683-1d69912b087e"
      },
      "outputs": [],
      "source": [
        "min_lat = np.percentile(train_df[\"latitude\"], 0.1)\n",
        "max_lat = np.percentile(train_df[\"latitude\"], 99.9)\n",
        "min_long = np.percentile(train_df[\"longitude\"], 0.1)\n",
        "max_long = np.percentile(train_df[\"longitude\"], 99.9)\n",
        "\n",
        "print(min_lat, max_lat, min_long, max_long)\n",
        "outliers = train_df[(train_df[\"latitude\"] < min_lat) | (train_df[\"latitude\"] > max_lat) | (train_df[\"longitude\"] < min_long) | (train_df[\"longitude\"] > max_long) ]\n",
        "print(outliers.shape[0])\n",
        "train_df.shape[0]\n",
        "outliers.head()\n",
        "\n",
        "train_df.ix[train_df[\"latitude\"] < min_lat, \"latitude\"] = min_lat\n",
        "train_df.ix[train_df[\"latitude\"] > max_lat, \"latitude\"] = max_lat\n",
        "\n",
        "train_df.ix[train_df[\"longitude\"] < min_long, \"longitude\"] = min_long\n",
        "train_df.ix[train_df[\"longitude\"] > max_long, \"longitude\"] = max_long"
      ]
    },
    {
      "cell_type": "code",
      "execution_count": null,
      "metadata": {
        "_cell_guid": "1cdb90ca-dec7-28b2-a4b9-b3d9e778056a"
      },
      "outputs": [],
      "source": [
        "sns.lmplot(x=\"latitude\", y=\"longitude\", hue=\"interest_level\", data=train_df, fit_reg=False, size=8)"
      ]
    },
    {
      "cell_type": "code",
      "execution_count": null,
      "metadata": {
        "_cell_guid": "8ebe148f-b78a-03dc-77e8-f64217f7bebb"
      },
      "outputs": [],
      "source": [
        "high_int_df = train_df[train_df[\"interest_level\"] == \"high\"]\n",
        "g = sns.jointplot(x=\"latitude\", y=\"longitude\", data=high_int_df, size=8)"
      ]
    },
    {
      "cell_type": "markdown",
      "metadata": {
        "_cell_guid": "b3ffdacf-324b-c8c6-fccf-6014018e3fac"
      },
      "source": [
        "### Created Date"
      ]
    },
    {
      "cell_type": "code",
      "execution_count": null,
      "metadata": {
        "_cell_guid": "2b5ae838-9038-ead7-4049-1ecc8db6ae2d"
      },
      "outputs": [],
      "source": [
        "train_df[\"created\"] = pd.to_datetime(train_df[\"created\"])\n",
        "train_df[\"created_date\"] = train_df[\"created\"].dt.date\n",
        "train_df[\"created_weekday\"] = train_df[\"created\"].dt.weekday_name\n",
        "train_df.dtypes"
      ]
    },
    {
      "cell_type": "code",
      "execution_count": null,
      "metadata": {
        "_cell_guid": "a0dba39b-6437-fbe8-49b6-9a8ca4c62546"
      },
      "outputs": [],
      "source": [
        "fig, ax = plt.subplots(figsize=(12,4))\n",
        "\n",
        "cnt_date = train_df['created_date'].value_counts()\n",
        "ax.bar(cnt_date.index, cnt_date.values)\n",
        "ax.set_title('Rental Listing Creation Dates')\n",
        "ax.set_ylabel('Number of created listings')\n",
        "\n",
        "from matplotlib.dates import DateFormatter\n",
        "ax.xaxis.set_major_formatter(DateFormatter('%Y-%m-%d (%a)'))\n",
        "fig.autofmt_xdate()"
      ]
    },
    {
      "cell_type": "code",
      "execution_count": null,
      "metadata": {
        "_cell_guid": "fddcbce9-8b48-460a-4dc7-1731f980725d"
      },
      "outputs": [],
      "source": [
        "weekdays = [\"Monday\", \"Tuesday\", \"Wednesday\", \"Thursday\", \"Friday\", \"Saturday\", \"Sunday\"]\n",
        "ax = sns.countplot(x=\"created_weekday\", hue=\"interest_level\", order=weekdays, hue_order=[\"low\", \"medium\", \"high\"], data=train_df)"
      ]
    },
    {
      "cell_type": "code",
      "execution_count": null,
      "metadata": {
        "_cell_guid": "594db90d-b44b-1f9e-e640-7937f16e10e1"
      },
      "outputs": [],
      "source": [
        ""
      ]
    }
  ],
  "metadata": {
    "_change_revision": 0,
    "_is_fork": false,
    "kernelspec": {
      "display_name": "Python 3",
      "language": "python",
      "name": "python3"
    },
    "language_info": {
      "codemirror_mode": {
        "name": "ipython",
        "version": 3
      },
      "file_extension": ".py",
      "mimetype": "text/x-python",
      "name": "python",
      "nbconvert_exporter": "python",
      "pygments_lexer": "ipython3",
      "version": "3.6.0"
    }
  },
  "nbformat": 4,
  "nbformat_minor": 0
}