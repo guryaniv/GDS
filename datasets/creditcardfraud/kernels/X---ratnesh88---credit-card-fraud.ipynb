{
  "cells": [
    {
      "cell_type": "markdown",
      "metadata": {
        "_cell_guid": "ac9becd3-6824-c15a-df84-e0c6e48c1331"
      },
      "source": [
        "Data consist of converted values V1,V2 etc. from actual data values. "
      ]
    },
    {
      "cell_type": "code",
      "execution_count": null,
      "metadata": {
        "_cell_guid": "331be640-91e7-a9ea-164e-8277c1f795fb"
      },
      "outputs": [],
      "source": [
        "# This Python 3 environment comes with many helpful analytics libraries installed\n",
        "# It is defined by the kaggle/python docker image: https://github.com/kaggle/docker-python\n",
        "# For example, here's several helpful packages to load in \n",
        "\n",
        "import numpy as np # linear algebra\n",
        "import pandas as pd # data processing, CSV file I/O (e.g. pd.read_csv)\n",
        "\n",
        "# Input data files are available in the \"../input/\" directory.\n",
        "# For example, running this (by clicking run or pressing Shift+Enter) will list the files in the input directory\n",
        "\n",
        "from subprocess import check_output\n",
        "print(check_output([\"ls\", \"../input\"]).decode(\"utf8\"))\n",
        "\n",
        "# Any results you write to the current directory are saved as output.\n",
        "file =  \"../input/creditcard.csv\"\n",
        "data = pd.read_csv(file,sep=\",\")\n"
      ]
    },
    {
      "cell_type": "code",
      "execution_count": null,
      "metadata": {
        "_cell_guid": "1c5a9797-f55f-6754-118d-26f39202ab18"
      },
      "outputs": [],
      "source": [
        "print(data.info)"
      ]
    },
    {
      "cell_type": "code",
      "execution_count": null,
      "metadata": {
        "_cell_guid": "b87efb9c-2d97-22f6-d608-7515b396603b"
      },
      "outputs": [],
      "source": [
        "print(data.shape)"
      ]
    },
    {
      "cell_type": "code",
      "execution_count": null,
      "metadata": {
        "_cell_guid": "cea8bf13-f238-7760-e27d-d94b6f0f97ef"
      },
      "outputs": [],
      "source": [
        "print(data.describe())"
      ]
    },
    {
      "cell_type": "markdown",
      "metadata": {
        "_cell_guid": "0a4707e9-0bc5-8062-d634-19d22f1558c4"
      },
      "source": [
        "Important calculations of each features"
      ]
    },
    {
      "cell_type": "code",
      "execution_count": null,
      "metadata": {
        "_cell_guid": "aa034930-94d2-2d83-91ca-810a426a127b"
      },
      "outputs": [],
      "source": [
        "print(data.groupby('Class').size())"
      ]
    },
    {
      "cell_type": "code",
      "execution_count": null,
      "metadata": {
        "_cell_guid": "e0e17c12-4d5e-eb47-856e-89fac1b33124"
      },
      "outputs": [],
      "source": [
        "data.hist(figsize=(15,15))"
      ]
    },
    {
      "cell_type": "markdown",
      "metadata": {
        "_cell_guid": "7a251b5a-40f7-1105-b032-5eac41db25bc"
      },
      "source": [
        "From above diagram we can find the data distribution of each features. Also we can identify the features which are essentials and which are not."
      ]
    }
  ],
  "metadata": {
    "_change_revision": 0,
    "_is_fork": false,
    "kernelspec": {
      "display_name": "Python 3",
      "language": "python",
      "name": "python3"
    },
    "language_info": {
      "codemirror_mode": {
        "name": "ipython",
        "version": 3
      },
      "file_extension": ".py",
      "mimetype": "text/x-python",
      "name": "python",
      "nbconvert_exporter": "python",
      "pygments_lexer": "ipython3",
      "version": "3.6.0"
    }
  },
  "nbformat": 4,
  "nbformat_minor": 0
}