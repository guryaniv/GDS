{
  "cells": [
    {
      "cell_type": "code",
      "execution_count": null,
      "metadata": {
        "_cell_guid": "1d5b0748-7304-050b-6ef3-5965699d890c"
      },
      "outputs": [],
      "source": [
        "import numpy as np # linear algebra\n",
        "import pandas as pd # data processing, CSV file I/O (e.g. pd.read_csv)\n",
        "from sklearn.preprocessing import LabelEncoder"
      ]
    },
    {
      "cell_type": "code",
      "execution_count": null,
      "metadata": {
        "_cell_guid": "825ba731-b04b-84cc-2e38-86d16b764cdc"
      },
      "outputs": [],
      "source": [
        "# read datasets\n",
        "train = pd.read_csv('../input/train.csv')\n",
        "test = pd.read_csv('../input/test.csv')\n",
        "\n",
        "# process columns, apply LabelEncoder to categorical features\n",
        "for c in train.columns:\n",
        "    if train[c].dtype == 'object':\n",
        "        lbl = LabelEncoder() \n",
        "        lbl.fit(list(train[c].values) + list(test[c].values)) \n",
        "        train[c] = lbl.transform(list(train[c].values))\n",
        "        test[c] = lbl.transform(list(test[c].values))\n",
        "\n",
        "# shape        \n",
        "print('Shape train: {}\\nShape test: {}'.format(train.shape, test.shape))"
      ]
    },
    {
      "cell_type": "code",
      "execution_count": null,
      "metadata": {
        "_cell_guid": "85d0669f-0671-0bdd-8968-048e51b26006"
      },
      "outputs": [],
      "source": [
        "from sklearn.decomposition import PCA, FastICA\n",
        "n_comp = 20\n",
        "\n",
        "# PCA\n",
        "pca = PCA(n_components=n_comp, random_state=42)\n",
        "pca2_results_train = pca.fit_transform(train.drop([\"y\"], axis=1))\n",
        "pca2_results_test = pca.transform(test)\n",
        "\n",
        "# ICA\n",
        "ica = FastICA(n_components=n_comp, random_state=42)\n",
        "ica2_results_train = ica.fit_transform(train.drop([\"y\"], axis=1))\n",
        "ica2_results_test = ica.transform(test)\n",
        "\n",
        "# Append decomposition components to datasets\n",
        "for i in range(1, n_comp+1):\n",
        "    train['pca_' + str(i)] = pca2_results_train[:,i-1]\n",
        "    test['pca_' + str(i)] = pca2_results_test[:, i-1]\n",
        "    \n",
        "    train['ica_' + str(i)] = ica2_results_train[:,i-1]\n",
        "    test['ica_' + str(i)] = ica2_results_test[:, i-1]\n",
        "    \n",
        "y_train = train[\"y\"]\n",
        "y_mean = np.mean(y_train)"
      ]
    },
    {
      "cell_type": "code",
      "execution_count": null,
      "metadata": {
        "_cell_guid": "fa9b09d9-5f40-4aa9-ac2e-4cc77a1f202e"
      },
      "outputs": [],
      "source": [
        "()# mmm, xgboost, loved by everyone ^-^\n",
        "import xgboost as xgb\n",
        "from sklearn.metrics import r2_score\n",
        "def xgb_r2_score(preds, dtrain):\n",
        "    labels = dtrain.get_label()\n",
        "    return 'r2', r2_score(labels, preds)\n",
        "\n",
        "# prepare dict of params for xgboost to run with\n",
        "xgb_params = {\n",
        "    'n_trees': 500, \n",
        "    'eta': 0.005,\n",
        "    'max_depth': 4,\n",
        "    'subsample': 0.8,\n",
        "    'objective': 'reg:linear',\n",
        "    'eval_metric': 'rmse',\n",
        "    'base_score': y_mean, # base prediction = mean(target)\n",
        "    'silent': 1\n",
        "}\n",
        "\n",
        "# form DMatrices for Xgboost training\n",
        "dtrain = xgb.DMatrix(train.drop('y', axis=1), y_train)\n",
        "dtest = xgb.DMatrix(test)\n",
        "\n",
        "# xgboost, cross-validation\n",
        "cv_result = xgb.cv(xgb_params, \n",
        "                   dtrain, \n",
        "                   num_boost_round=2000, # increase to have better results (~700)\n",
        "                   early_stopping_rounds=50,\n",
        "                   verbose_eval=10, \n",
        "                   show_stdv=False,\n",
        "                   feval = xgb_r2_score\n",
        "                  )\n",
        "\n",
        "num_boost_rounds = len(cv_result)\n",
        "print(num_boost_rounds)\n",
        "\n",
        "# train model\n",
        "model = xgb.train(dict(xgb_params, silent=1), dtrain, num_boost_round=num_boost_rounds)"
      ]
    },
    {
      "cell_type": "code",
      "execution_count": null,
      "metadata": {
        "_cell_guid": "a6b6bf88-b04d-bc6e-c82a-a287df4bdd71"
      },
      "outputs": [],
      "source": [
        "y_pred = model.predict(dtest)\n",
        "output = pd.DataFrame({'id': test['ID'].astype(np.int32), 'y': y_pred})\n",
        "output.to_csv('xgboostpca.csv'.format(xgb_params['max_depth']), index=False)"
      ]
    }
  ],
  "metadata": {
    "_change_revision": 0,
    "_is_fork": false,
    "kernelspec": {
      "display_name": "Python 3",
      "language": "python",
      "name": "python3"
    },
    "language_info": {
      "codemirror_mode": {
        "name": "ipython",
        "version": 3
      },
      "file_extension": ".py",
      "mimetype": "text/x-python",
      "name": "python",
      "nbconvert_exporter": "python",
      "pygments_lexer": "ipython3",
      "version": "3.6.0"
    }
  },
  "nbformat": 4,
  "nbformat_minor": 0
}