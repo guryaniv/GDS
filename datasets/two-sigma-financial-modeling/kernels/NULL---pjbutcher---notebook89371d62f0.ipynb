{
  "cells": [
    {
      "cell_type": "markdown",
      "metadata": {
        "_cell_guid": "1b42c24e-1317-6c0a-e1c9-7eaffed4f469"
      },
      "source": [
        "Let's inspect each of the id's for auto-correlation and stationarity"
      ]
    },
    {
      "cell_type": "code",
      "execution_count": null,
      "metadata": {
        "_cell_guid": "00366676-2ec2-3bae-d0db-b448120c4460"
      },
      "outputs": [],
      "source": [
        "import matplotlib.pyplot as plt\n",
        "import numpy as np \n",
        "import pandas as pd\n",
        "import seaborn as sns\n",
        "\n",
        "from statsmodels.graphics.tsaplots import plot_acf, plot_pacf\n",
        "from statsmodels.tsa.stattools import adfuller, acf, pacf"
      ]
    },
    {
      "cell_type": "code",
      "execution_count": null,
      "metadata": {
        "_cell_guid": "ef1fa448-1d26-e952-a308-9b32c1e6961d"
      },
      "outputs": [],
      "source": [
        "with pd.HDFStore(\"../input/train.h5\", \"r\") as train:\n",
        "    df = train.get(\"train\")"
      ]
    },
    {
      "cell_type": "code",
      "execution_count": null,
      "metadata": {
        "_cell_guid": "cb6eb5d0-a9a5-d3d4-ca32-1ac80eac951b"
      },
      "outputs": [],
      "source": [
        "instruments = sorted(df['id'].unique())"
      ]
    },
    {
      "cell_type": "code",
      "execution_count": null,
      "metadata": {
        "_cell_guid": "cfa938bb-780c-86f9-854a-2732ee13f499"
      },
      "outputs": [],
      "source": [
        "target_df = df[df['id'] == ids[0]][['timestamp', 'y']].set_index('timestamp')"
      ]
    },
    {
      "cell_type": "markdown",
      "metadata": {
        "_cell_guid": "2640906d-9163-efc8-42b2-f87d6a722ad7"
      },
      "source": [
        "## Stationarity ##\n",
        "Do any of the instrument id's display non-stationarity? I'll use the dickey-fuller test to check. If the test statistic is > than the 5% critical value I'll say the data might be non-stationary."
      ]
    },
    {
      "cell_type": "code",
      "execution_count": null,
      "metadata": {
        "_cell_guid": "1ab20630-1b1f-6b63-4ce3-8c8169b3b19c"
      },
      "outputs": [],
      "source": [
        "def is_stationary(data):\n",
        "    dftest = adfuller(data)\n",
        "    \n",
        "    # dfoutput = pd.Series(dftest[0:4], index=['Test Statistic','p-value','#Lags Used','Number of Observations Used'])\n",
        "    # for k,v in dftest[4].items():\n",
        "    #    dfoutput['Critical Value ({})'.format(k)] = v\n",
        "    # print(dfoutput)\n",
        "    \n",
        "    if dftest[0] > dftest[4]['5%']:\n",
        "        return False\n",
        "    \n",
        "    # print(dftest[0], 'is less than', dftest[4]['5%'])\n",
        "    return True\n"
      ]
    },
    {
      "cell_type": "code",
      "execution_count": null,
      "metadata": {
        "_cell_guid": "f0cd5d15-f30a-601e-5841-a438d58c63c5"
      },
      "outputs": [],
      "source": [
        "nonstationary_ids = []\n",
        "for id in ids:\n",
        "    target_df = df[df['id'] == id][['timestamp', 'y']].set_index('timestamp')"
      ]
    },
    {
      "cell_type": "code",
      "execution_count": null,
      "metadata": {
        "_cell_guid": "eafa5bbf-d333-2c06-de36-a3eebb77b56f"
      },
      "outputs": [],
      "source": [
        "x = is_stationary(target_df['y'].values)"
      ]
    },
    {
      "cell_type": "markdown",
      "metadata": {
        "_cell_guid": "93b84a14-c32f-311f-761a-c2d24d31c9b7"
      },
      "source": [
        "## visualize a single id's target variable ##"
      ]
    },
    {
      "cell_type": "code",
      "execution_count": null,
      "metadata": {
        "_cell_guid": "f47fbfea-2973-f547-3622-6cf2ea075a8e"
      },
      "outputs": [],
      "source": [
        "target_df.plot()"
      ]
    },
    {
      "cell_type": "markdown",
      "metadata": {
        "_cell_guid": "cc5d52fa-963f-011f-284c-c4da8796fa84"
      },
      "source": [
        "a bit hard to tell but it looks like there might be some \"seasonality\" here, lets add the rolling mean and standard deviation"
      ]
    },
    {
      "cell_type": "code",
      "execution_count": null,
      "metadata": {
        "_cell_guid": "7fea72b3-d712-1fb3-7fb9-44592cefd390"
      },
      "outputs": [],
      "source": [
        "plt.plot(pd.rolling_mean(target_df, window=10), label='rolling mean (10)')\n",
        "plt.plot(pd.rolling_std(target_df, window=10), label='rolling std (10)')\n",
        "plt.legend()"
      ]
    },
    {
      "cell_type": "markdown",
      "metadata": {
        "_cell_guid": "c6f55c0d-da78-c3c2-3dce-e46a7f8b08b9"
      },
      "source": [
        "## Check for auto-correlation ##"
      ]
    },
    {
      "cell_type": "code",
      "execution_count": null,
      "metadata": {
        "_cell_guid": "8f8173d1-fe74-9741-f43e-d91eb0df0a53"
      },
      "outputs": [],
      "source": [
        "print(plot_acf(target_df, lags=50, alpha=.05))"
      ]
    },
    {
      "cell_type": "code",
      "execution_count": null,
      "metadata": {
        "_cell_guid": "86edf031-801b-3e01-981a-56d2886d4c60"
      },
      "outputs": [],
      "source": [
        "print(plot_pacf(target_df, lags=50))"
      ]
    },
    {
      "cell_type": "code",
      "execution_count": null,
      "metadata": {
        "_cell_guid": "3ad14cf7-3c92-7cba-a759-4c182d670cc3"
      },
      "outputs": [],
      "source": [
        "x = acf(target_df, alpha=.05)\n",
        "x"
      ]
    },
    {
      "cell_type": "markdown",
      "metadata": {
        "_cell_guid": "be03fa7f-2bb9-d7ff-1f09-83e4aaa81e51"
      },
      "source": [
        "Hmmm....nothing too interesting here."
      ]
    },
    {
      "cell_type": "markdown",
      "metadata": {
        "_cell_guid": "18a3faab-9931-44f8-284c-b2d2e8e1384e"
      },
      "source": [
        "## Check for stationarity using dickey-fuller ##"
      ]
    },
    {
      "cell_type": "code",
      "execution_count": null,
      "metadata": {
        "_cell_guid": "b850d242-22c6-5f3e-edaa-533d67976c28"
      },
      "outputs": [],
      "source": [
        "dftest = adfuller(target_df['y'].values)\n",
        "dfoutput = pd.Series(dftest[0:4], index=['Test Statistic','p-value','#Lags Used','Number of Observations Used'])\n",
        "for k,v in dftest[4].items():\n",
        "    dfoutput['Critical Value ({})'.format(k)] = v\n",
        "print(dfoutput)"
      ]
    },
    {
      "cell_type": "markdown",
      "metadata": {
        "_cell_guid": "b540e4eb-3591-20ef-6420-c67c471c0b5a"
      },
      "source": [
        "Wow...the data is certainly stationary."
      ]
    }
  ],
  "metadata": {
    "_change_revision": 0,
    "_is_fork": false,
    "kernelspec": {
      "display_name": "Python 3",
      "language": "python",
      "name": "python3"
    },
    "language_info": {
      "codemirror_mode": {
        "name": "ipython",
        "version": 3
      },
      "file_extension": ".py",
      "mimetype": "text/x-python",
      "name": "python",
      "nbconvert_exporter": "python",
      "pygments_lexer": "ipython3",
      "version": "3.5.2"
    }
  },
  "nbformat": 4,
  "nbformat_minor": 0
}