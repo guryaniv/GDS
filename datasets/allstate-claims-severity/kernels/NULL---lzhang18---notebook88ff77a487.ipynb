{
  "cells": [
    {
      "cell_type": "code",
      "execution_count": null,
      "metadata": {
        "_cell_guid": "cb89140b-578a-4b3d-9f94-e7554e6ada40"
      },
      "outputs": [],
      "source": [
        "# This Python 3 environment comes with many helpful analytics libraries installed\n",
        "# It is defined by the kaggle/python docker image: https://github.com/kaggle/docker-python\n",
        "# For example, here's several helpful packages to load in \n",
        "\n",
        "import numpy as np # linear algebra\n",
        "import pandas as pd # data processing, CSV file I/O (e.g. pd.read_csv)\n",
        "\n",
        "# Input data files are available in the \"../input/\" directory.\n",
        "# For example, running this (by clicking run or pressing Shift+Enter) will list the files in the input directory\n",
        "\n",
        "from subprocess import check_output\n",
        "print(check_output([\"ls\", \"../input\"]).decode(\"utf8\"))\n",
        "\n",
        "# Any results you write to the current directory are saved as output."
      ]
    },
    {
      "cell_type": "code",
      "execution_count": null,
      "metadata": {
        "_cell_guid": "976f1316-0f2f-7c0a-6510-971dbbf20762"
      },
      "outputs": [],
      "source": [
        "train = pd.read_csv(\"../input/train.csv\")\n",
        "test = pd.read_csv(\"../input/test.csv\")"
      ]
    },
    {
      "cell_type": "code",
      "execution_count": null,
      "metadata": {
        "_cell_guid": "3ec626ca-9a6c-0fda-17b1-6e0c7172254e"
      },
      "outputs": [],
      "source": [
        "print(train.shape)\n",
        "print(test.shape)\n",
        "print(len(train['id'].unique()))\n",
        "print(len(test['id'].unique()))"
      ]
    },
    {
      "cell_type": "code",
      "execution_count": null,
      "metadata": {
        "_cell_guid": "65f6698e-0a96-22f6-1ca8-41966b2fcbe5"
      },
      "outputs": [],
      "source": [
        "np.concatenate((train['id'].unique(), test['id'].unique()), axis=0).shape"
      ]
    },
    {
      "cell_type": "code",
      "execution_count": null,
      "metadata": {
        "_cell_guid": "51782641-90c4-e17f-bb03-3667fe079644"
      },
      "outputs": [],
      "source": [
        "np.unique(np.concatenate((train['id'].unique(), test['id'].unique()), axis=0)).shape"
      ]
    },
    {
      "cell_type": "code",
      "execution_count": null,
      "metadata": {
        "_cell_guid": "33330250-d94a-5708-8dd6-c0f7ccb937e4"
      },
      "outputs": [],
      "source": [
        "target = \"loss\"\n",
        "cat_features = []\n",
        "cont_features = []\n",
        "for col in train.columns:\n",
        "    if \"cat\" in col:\n",
        "        cat_features.append(col)\n",
        "    elif \"con\" in col:\n",
        "        cont_features.append(col)\n",
        "print(\"\\ncategorical features: %s\" % cat_features)\n",
        "print(\"\\ncontinuous features: %s\" % cont_features)"
      ]
    },
    {
      "cell_type": "code",
      "execution_count": null,
      "metadata": {
        "_cell_guid": "107f979e-50b2-adb3-b980-2138447dbbac"
      },
      "outputs": [],
      "source": [
        "train.head()"
      ]
    },
    {
      "cell_type": "code",
      "execution_count": null,
      "metadata": {
        "_cell_guid": "5f94c37d-4129-1508-9ecd-ce5017d09175"
      },
      "outputs": [],
      "source": [
        "from sklearn.preprocessing import LabelEncoder\n",
        "\n",
        "for cat_feature in cat_features:\n",
        "    le = LabelEncoder()\n",
        "    le.fit(train[cat_feature].unique())\n",
        "    train[cat_feature] = le.transform(train[cat_feature])"
      ]
    },
    {
      "cell_type": "code",
      "execution_count": null,
      "metadata": {
        "_cell_guid": "9e3296e6-878d-7dc6-03cb-2268cc25214d"
      },
      "outputs": [],
      "source": [
        "train.head()"
      ]
    },
    {
      "cell_type": "code",
      "execution_count": null,
      "metadata": {
        "_cell_guid": "09738083-d9f9-0256-314c-32a7efe6e893"
      },
      "outputs": [],
      "source": [
        "train.plot.scatter(x=\"cat1\", y=target)"
      ]
    }
  ],
  "metadata": {
    "_change_revision": 0,
    "_is_fork": false,
    "kernelspec": {
      "display_name": "Python 3",
      "language": "python",
      "name": "python3"
    },
    "language_info": {
      "codemirror_mode": {
        "name": "ipython",
        "version": 3
      },
      "file_extension": ".py",
      "mimetype": "text/x-python",
      "name": "python",
      "nbconvert_exporter": "python",
      "pygments_lexer": "ipython3",
      "version": "3.6.0"
    }
  },
  "nbformat": 4,
  "nbformat_minor": 0
}