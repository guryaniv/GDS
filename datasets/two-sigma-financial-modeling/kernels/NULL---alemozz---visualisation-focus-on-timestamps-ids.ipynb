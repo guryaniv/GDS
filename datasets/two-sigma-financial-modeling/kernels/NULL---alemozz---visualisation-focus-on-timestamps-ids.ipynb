{
  "cells": [
    {
      "cell_type": "markdown",
      "metadata": {
        "_cell_guid": "42f113da-6c75-4882-9d05-80fb0dbd1a48"
      },
      "source": [
        "Visualisation (modified from https://www.kaggle.com/anokas/two-sigma-financial-modeling/two-sigma-time-travel-eda )"
      ]
    },
    {
      "cell_type": "code",
      "execution_count": null,
      "metadata": {
        "_cell_guid": "ae80fc86-3896-0184-c9f3-6d000178d7c3"
      },
      "outputs": [],
      "source": [
        "import numpy as np # linear algebra\n",
        "import pandas as pd # data processing, CSV file I/O (e.g. pd.read_csv)\n",
        "import matplotlib.pyplot as plt\n",
        "import seaborn as sns\n",
        "%matplotlib inline\n",
        "p = sns.color_palette()"
      ]
    },
    {
      "cell_type": "code",
      "execution_count": null,
      "metadata": {
        "_cell_guid": "a2ea4d4e-a52b-79cd-661b-86191b597f7d"
      },
      "outputs": [],
      "source": [
        "with pd.HDFStore(\"../input/train.h5\", \"r\") as train:\n",
        "    df = train.get(\"train\")"
      ]
    },
    {
      "cell_type": "code",
      "execution_count": null,
      "metadata": {
        "_cell_guid": "c9ffad82-6e19-4107-2bdd-e3b254adaf02"
      },
      "outputs": [],
      "source": [
        "# Shape of the datase\n",
        "print('Number of rows: {}, Number of columns: {}'.format(*df.shape))"
      ]
    },
    {
      "cell_type": "code",
      "execution_count": null,
      "metadata": {
        "_cell_guid": "7e5a0c45-2923-b761-5051-2dc5433f1ac5"
      },
      "outputs": [],
      "source": [
        "cols = [0, 0, 0]\n",
        "for c in df.columns:\n",
        "    if 'derived' in c: cols[0] += 1\n",
        "    if 'fundamental' in c: cols[1] += 1\n",
        "    if 'technical' in c: cols[2] += 1\n",
        "print('Derived columns: {}, Fundamental columns: {}, Technical columns: {}'.format(*cols))\n",
        "print('\\nColumn dtypes:')\n",
        "print(df.dtypes.value_counts())\n",
        "print('\\nint16 columns:')\n",
        "print(df.columns[df.dtypes == 'int16'])"
      ]
    },
    {
      "cell_type": "markdown",
      "metadata": {
        "_cell_guid": "1efc9b1a-f8a3-25a3-f152-dbeec7a70bfb"
      },
      "source": [
        "Analysis of the target"
      ]
    },
    {
      "cell_type": "code",
      "execution_count": null,
      "metadata": {
        "_cell_guid": "d913be67-7104-c4ac-b0dc-bc93046d7ced"
      },
      "outputs": [],
      "source": [
        "y = df['y'].values\n",
        "plt.hist(y, bins=50, color=p[1])\n",
        "plt.xlabel('Target Value')\n",
        "plt.ylabel('Count')\n",
        "plt.title('Distribution of target value')\n",
        "print('Target value min {0:.3f} max {1:.3f} mean {2:.3f} std {3:.3f}'.format(\n",
        "                                   np.min(y), np.max(y), np.mean(y), np.std(y)))"
      ]
    },
    {
      "cell_type": "code",
      "execution_count": null,
      "metadata": {
        "_cell_guid": "9acb26b8-752d-837b-aa0e-b441f3ee5936"
      },
      "outputs": [],
      "source": [
        "# Closer look at the tails and head\n",
        "mask = df['y']< -0.08\n",
        "y = df['y'][mask].values\n",
        "print(y)\n",
        "plt.hist(y, bins=50, color=p[1])\n",
        "plt.xlabel('Target Value')\n",
        "plt.ylabel('Count')\n",
        "plt.title('Distribution of target value')\n",
        "print('Target value min {0:.3f} max {1:.3f} mean {2:.3f} std {3:.3f}'.format(np.min(y), np.max(y), np.mean(y), np.std(y)))"
      ]
    },
    {
      "cell_type": "code",
      "execution_count": null,
      "metadata": {
        "_cell_guid": "abc265fa-60e7-a456-5f37-cfe8835c880a"
      },
      "outputs": [],
      "source": [
        "# Closer look at the tails and head\n",
        "mask = df['y']> 0.08\n",
        "y = df['y'][mask].values\n",
        "print(y)\n",
        "plt.hist(y, bins=50, color=p[1])\n",
        "plt.xlabel('Target Value')\n",
        "plt.ylabel('Count')\n",
        "plt.title('Distribution of target value')\n",
        "print('Target value min {0:.3f} max {1:.3f} mean {2:.3f} std {3:.3f}'.format(np.min(y), np.max(y), np.mean(y), np.std(y)))"
      ]
    },
    {
      "cell_type": "markdown",
      "metadata": {
        "_cell_guid": "b303826d-8c4e-79e0-f7a8-d930893fc766"
      },
      "source": [
        "Target is normally distributed"
      ]
    },
    {
      "cell_type": "markdown",
      "metadata": {
        "_cell_guid": "a0554483-8d4d-b70a-3176-cd5dd79e6df9"
      },
      "source": [
        "Study of the timestamps"
      ]
    },
    {
      "cell_type": "code",
      "execution_count": null,
      "metadata": {
        "_cell_guid": "a273b716-d825-c3f5-2fc2-fb5dfc0259a4"
      },
      "outputs": [],
      "source": [
        "timestamp = df.timestamp.values\n",
        "for bins in [100, 250]:\n",
        "    plt.figure(figsize=(10,5))\n",
        "    plt.hist(timestamp, bins=bins)\n",
        "    plt.xlabel('Timestamp')\n",
        "    plt.ylabel('Count')\n",
        "    plt.title('Histogram of Timestamp - {} bins'.format(bins))"
      ]
    },
    {
      "cell_type": "markdown",
      "metadata": {
        "_cell_guid": "dec967a3-02f2-d6d7-a84e-274d590d3a3d"
      },
      "source": [
        "The target looks fairly irregular despite showing regularities."
      ]
    },
    {
      "cell_type": "code",
      "execution_count": null,
      "metadata": {
        "_cell_guid": "b2aac5d4-492f-a481-7f4d-1c9551c64399"
      },
      "outputs": [],
      "source": [
        "timestamp = df.timestamp.loc[df.timestamp < 500].values\n",
        "for bins in [100, 250]:\n",
        "    plt.figure(figsize=(10, 5))\n",
        "    plt.hist(timestamp, bins=bins,color=p[2])\n",
        "    plt.xlabel('Timestamp')\n",
        "    plt.ylabel('Count')\n",
        "    plt.title('Histogram of Timestamp - {} bins'.format(bins))"
      ]
    },
    {
      "cell_type": "code",
      "execution_count": null,
      "metadata": {
        "_cell_guid": "6f001574-86ea-fded-8975-6eaa6f8cc506"
      },
      "outputs": [],
      "source": [
        "timediff = df.groupby('timestamp')['timestamp'].count().diff()\n",
        "plt.figure(figsize=(10, 5))\n",
        "plt.plot(timediff)\n",
        "plt.xlabel('Timestamp')\n",
        "plt.ylabel('Change in count since last timestamp')\n",
        "plt.title('1st discrete difference of timestamp count')"
      ]
    },
    {
      "cell_type": "code",
      "execution_count": null,
      "metadata": {
        "_cell_guid": "668077d8-cd02-0046-6e48-4db6a7cbf282"
      },
      "outputs": [],
      "source": [
        "pd.Series(timediff[timediff > 10].index).diff()"
      ]
    },
    {
      "cell_type": "code",
      "execution_count": null,
      "metadata": {
        "_cell_guid": "3928c287-f668-3db8-86d8-0b6903ea8c4e"
      },
      "outputs": [],
      "source": [
        "print(timediff[timediff > 10].index[0])"
      ]
    },
    {
      "cell_type": "markdown",
      "metadata": {
        "_cell_guid": "449367e9-6e18-ae01-12ac-e38c61cd6048"
      },
      "source": [
        "Relationship timestep jumps and target "
      ]
    },
    {
      "cell_type": "code",
      "execution_count": null,
      "metadata": {
        "_cell_guid": "56ecf066-5bd6-a657-474f-1ed9018a093d"
      },
      "outputs": [],
      "source": [
        "time_targets = df.groupby('timestamp')['y'].mean()\n",
        "plt.figure(figsize=(8, 5))\n",
        "plt.plot(time_targets)\n",
        "plt.xlabel('Timestamp')\n",
        "plt.ylabel('Mean of target')\n",
        "plt.title('Change in target over time - Red lines = new timeperiod')\n",
        "for i in timediff[timediff > 5].index:\n",
        "    plt.axvline(x=i, linewidth=0.25, color='red')"
      ]
    },
    {
      "cell_type": "markdown",
      "metadata": {
        "_cell_guid": "0453711e-438a-ef13-a32f-bb08efd41e91"
      },
      "source": [
        "We want to slightly change the analysis and focus on the single time stamps"
      ]
    },
    {
      "cell_type": "code",
      "execution_count": null,
      "metadata": {
        "_cell_guid": "57c7c585-3f10-163e-f9c3-0f7382199d82"
      },
      "outputs": [],
      "source": [
        "for j in df.id.unique():\n",
        "    if j < 10:\n",
        "        mask = df.id==j\n",
        "        time_mini = df.timestamp[mask].values\n",
        "        for bins in [100, 250]:\n",
        "            plt.figure(figsize=(15, 5))\n",
        "            plt.hist(time_mini, bins=bins, color=p[4])\n",
        "            plt.xlabel('Timestamp')\n",
        "            plt.ylabel('Count')\n",
        "            plt.title('Histogram of id = {0} Zoomed-in Timestamp - {1} bins'.format(j,bins))"
      ]
    },
    {
      "cell_type": "markdown",
      "metadata": {
        "_cell_guid": "a99ec626-8544-a37f-8739-44a86a972f58"
      },
      "source": [
        "As we can see there is much more regularity considering the timestamps separately for IDs, this suggests a different periodicity in the different assets, that summed up in all of the assets gives the irregular result that was previously seen"
      ]
    },
    {
      "cell_type": "markdown",
      "metadata": {
        "_cell_guid": "68e98512-4d48-22d9-57f9-6ea89d66546e"
      },
      "source": [
        "Study of NaNs"
      ]
    },
    {
      "cell_type": "code",
      "execution_count": null,
      "metadata": {
        "_cell_guid": "8bd0f8c2-d171-eba6-1d66-2326117ae99a"
      },
      "outputs": [],
      "source": [
        "df1 = df[['id','timestamp','derived_1']] #.pivot( columns='derived_1', values='id')"
      ]
    },
    {
      "cell_type": "code",
      "execution_count": null,
      "metadata": {
        "_cell_guid": "78ef9bce-c812-9515-5be0-5241a22c7554"
      },
      "outputs": [],
      "source": [
        "df2 = df1.pivot( columns='derived_1', values='id')"
      ]
    },
    {
      "cell_type": "code",
      "execution_count": null,
      "metadata": {
        "_cell_guid": "63b1dcdb-6ba4-a87f-8ffd-ae207c3626e4"
      },
      "outputs": [],
      "source": ""
    }
  ],
  "metadata": {
    "_change_revision": 0,
    "_is_fork": false,
    "kernelspec": {
      "display_name": "Python 3",
      "language": "python",
      "name": "python3"
    },
    "language_info": {
      "codemirror_mode": {
        "name": "ipython",
        "version": 3
      },
      "file_extension": ".py",
      "mimetype": "text/x-python",
      "name": "python",
      "nbconvert_exporter": "python",
      "pygments_lexer": "ipython3",
      "version": "3.5.2"
    }
  },
  "nbformat": 4,
  "nbformat_minor": 0
}