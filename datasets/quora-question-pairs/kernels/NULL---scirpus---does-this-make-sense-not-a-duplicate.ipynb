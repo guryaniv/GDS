{
  "cells": [
    {
      "cell_type": "markdown",
      "metadata": {
        "_cell_guid": "46fa3095-236c-a313-7a3f-80029a32c052"
      },
      "source": [
        "I don't get why the qids have structure - any thoughts?"
      ]
    },
    {
      "cell_type": "code",
      "execution_count": null,
      "metadata": {
        "_cell_guid": "2995aac1-17d2-ff98-6353-f318b48682c6"
      },
      "outputs": [],
      "source": [
        "import numpy as np\n",
        "import pandas as pd\n",
        "import  matplotlib.pyplot as plt\n",
        "%matplotlib inline"
      ]
    },
    {
      "cell_type": "code",
      "execution_count": null,
      "metadata": {
        "_cell_guid": "15b8253f-9b12-d1fd-86c3-f9ea76e9d174"
      },
      "outputs": [],
      "source": [
        "train = pd.read_csv('../input/train.csv')\n",
        "dissimilar = train[train.is_duplicate==0]\n",
        "similar = train[train.is_duplicate==1]"
      ]
    },
    {
      "cell_type": "code",
      "execution_count": null,
      "metadata": {
        "_cell_guid": "c77f5ab5-8a62-26b0-c860-4a6a2714d4bc"
      },
      "outputs": [],
      "source": [
        "plt.scatter(similar.qid1[::100],similar.qid2[::100])"
      ]
    },
    {
      "cell_type": "code",
      "execution_count": null,
      "metadata": {
        "_cell_guid": "518f6699-7149-cccb-7098-03dbef7ce805"
      },
      "outputs": [],
      "source": [
        "plt.scatter(dissimilar.qid1[::100],dissimilar.qid2[::100])"
      ]
    },
    {
      "cell_type": "code",
      "execution_count": null,
      "metadata": {
        "_cell_guid": "136b14cb-244c-ca2f-0923-b9fe1b7726c9"
      },
      "outputs": [],
      "source": [
        "p1 = np.array([0.0,0.0]) # Origin\n",
        "p2 = np.array([1.0, 1.0]) # Approximate to the line\n",
        "ps = similar[['qid1','qid2']].values[::100]\n",
        "dist = []\n",
        "for i in range(ps.shape[0]):\n",
        "    dist.append(np.sign(np.cross(p2-p1, p1-ps[i,:]))*np.linalg.norm(np.cross(p2-p1, p1-ps[i,:]))/np.linalg.norm(p2-p1))\n",
        "plt.plot(np.array(dist))"
      ]
    },
    {
      "cell_type": "code",
      "execution_count": null,
      "metadata": {
        "_cell_guid": "d37e8756-9313-6a43-2370-aa9497c62fd5"
      },
      "outputs": [],
      "source": [
        "_ = plt.hist(dist,bins=100)"
      ]
    },
    {
      "cell_type": "code",
      "execution_count": null,
      "metadata": {
        "_cell_guid": "460ac354-d5f6-3cc9-3463-7317af41e103"
      },
      "outputs": [],
      "source": [
        "p1 = np.array([0.0,0.0]) # Origin\n",
        "p2 = np.array([1.0, 1.0]) # Approximate to the line\n",
        "ps = dissimilar[['qid1','qid2']].values[::100]\n",
        "dist = []\n",
        "for i in range(ps.shape[0]):\n",
        "    dist.append(np.sign(np.cross(p2-p1, p1-ps[i,:]))*np.linalg.norm(np.cross(p2-p1, p1-ps[i,:]))/np.linalg.norm(p2-p1))\n",
        "plt.plot(np.array(dist))"
      ]
    },
    {
      "cell_type": "code",
      "execution_count": null,
      "metadata": {
        "_cell_guid": "2c2d9edb-1f52-345e-1ead-d733d77f73a2"
      },
      "outputs": [],
      "source": [
        "_ = plt.hist(dist,bins=100)"
      ]
    }
  ],
  "metadata": {
    "_change_revision": 0,
    "_is_fork": false,
    "kernelspec": {
      "display_name": "Python 3",
      "language": "python",
      "name": "python3"
    },
    "language_info": {
      "codemirror_mode": {
        "name": "ipython",
        "version": 3
      },
      "file_extension": ".py",
      "mimetype": "text/x-python",
      "name": "python",
      "nbconvert_exporter": "python",
      "pygments_lexer": "ipython3",
      "version": "3.6.0"
    }
  },
  "nbformat": 4,
  "nbformat_minor": 0
}