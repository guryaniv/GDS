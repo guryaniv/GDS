{
  "metadata": {
    "kernelspec": {
      "display_name": "Python 3",
      "language": "python",
      "name": "python3"
    },
    "language_info": {
      "codemirror_mode": {
        "name": "ipython",
        "version": 3
      },
      "file_extension": ".py",
      "mimetype": "text/x-python",
      "name": "python",
      "nbconvert_exporter": "python",
      "pygments_lexer": "ipython3",
      "version": "3.5.2"
    }
  },
  "nbformat": 4,
  "nbformat_minor": 0,
  "cells": [
    {
      "cell_type": "code",
      "execution_count": null,
      "metadata": {
        "_cell_guid": "eba6977e-b9c2-8ff0-32b6-57b173cea6a1",
        "_active": false
      },
      "outputs": [],
      "source": "# This Python 3 environment comes with many helpful analytics libraries installed\n# It is defined by the kaggle/python docker image: https://github.com/kaggle/docker-python\n# For example, here's several helpful packages to load in \n\nimport numpy as np # linear algebra\nimport pandas as pd # data processing, CSV file I/O (e.g. pd.read_csv)\nfrom sklearn.ensemble import RandomForestRegressor\n\n# Input data files are available in the \"../input/\" directory.\n# For example, running this (by clicking run or pressing Shift+Enter) will list the files in the input directory\n\n# from subprocess import check_output\n# print(check_output([\"ls\", \"../input\"]).decode(\"utf8\"))\n\n# Any results you write to the current directory are saved as output."
    },
    {
      "cell_type": "code",
      "execution_count": null,
      "metadata": {
        "_cell_guid": "6b82f197-a5d0-c350-c2a7-b96dce891772",
        "_active": false
      },
      "outputs": [],
      "source": "train = pd.read_csv('../input/train.csv')\ntest = pd.read_csv('../input/test.csv')"
    },
    {
      "cell_type": "code",
      "execution_count": null,
      "metadata": {
        "_cell_guid": "6f841401-11b0-8e52-489d-5d6bdc688bd8",
        "_active": false
      },
      "outputs": [],
      "source": "# Try random forest for regression as use of categorical and continuous variables\n# Factorise all categorical variables\ncat_cols = [x for x in train.columns if x.startswith('cat')]\n\nfor col in cat_cols:\n    train[col], _ = pd.factorize(train[col])\n    test[col], _ = pd.factorize(test[col])\n    \n# Features for model are all cat and cont variables\nfeatures = [x for x in train.columns if (x.startswith('cat') or x.startswith('cont'))]\n\n# Loss\ny = train.loss"
    },
    {
      "cell_type": "code",
      "execution_count": null,
      "metadata": {
        "_cell_guid": "edd9d248-b7ad-3368-3238-cafb9c345879",
        "_active": false
      },
      "outputs": [],
      "source": "# Define RF\nrfr = RandomForestRegressor(n_estimators=100, max_features='log2', oob_score=True)\n\n# Fit model\nrfr.fit(train[features],y)"
    },
    {
      "cell_type": "code",
      "execution_count": null,
      "metadata": {
        "_cell_guid": "00a95e4b-94c4-8a19-ed3b-c5a419768431",
        "_active": false
      },
      "outputs": [],
      "source": "# Predict model\npreds = rfr.predict(test[features])"
    },
    {
      "cell_type": "code",
      "execution_count": null,
      "metadata": {
        "_cell_guid": "6d308394-9922-cd7f-69c3-0a9580df092e",
        "_active": false
      },
      "outputs": [],
      "source": "rfr.oob_score_"
    },
    {
      "metadata": {
        "_cell_guid": "0bc59d15-3232-dace-d55d-2bb9625523b3",
        "_active": false,
        "collapsed": false
      },
      "source": null,
      "execution_count": null,
      "cell_type": "code",
      "outputs": []
    }
  ]
}