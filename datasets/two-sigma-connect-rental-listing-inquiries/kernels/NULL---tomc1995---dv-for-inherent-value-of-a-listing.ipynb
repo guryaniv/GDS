{
  "cells": [
    {
      "cell_type": "code",
      "execution_count": null,
      "metadata": {
        "_cell_guid": "0f261666-ca53-7a88-662e-345049721a09"
      },
      "outputs": [],
      "source": [
        "import numpy as np # linear algebra\n",
        "import pandas as pd # data processing, CSV file I/O (e.g. pd.read_csv)\n",
        "import matplotlib.pyplot as plt\n",
        "from statsmodels.formula.api import ols\n",
        "# Input data files are available in the \"../input/\" directory.\n",
        "# For example, running this (by clicking run or pressing Shift+Enter) will list the files in the input directory\n",
        "\n",
        "from subprocess import check_output\n",
        "print(check_output([\"ls\", \"../input\"]).decode(\"utf8\"))\n",
        "\n",
        "df = pd.read_json('../input/train.json')\n",
        "\n",
        "for a in df[\"bedrooms\"]:\n",
        "    if a == 0:\n",
        "        df['Studio']=1\n",
        "    else: \n",
        "        df['Studio']=0\n",
        "   \n",
        "df['size'] = (6*6*df[\"bathrooms\"] + 9*9*df[\"bedrooms\"] + 50 + 80 + 50).astype(int)\n",
        "\n",
        "df[\"size\"] = df[\"size\"].astype(int)\n",
        "\t\t\n",
        "df['price_size'] = (df[\"price\"]) / (df[\"size\"])\n",
        "\n",
        "\n",
        "df[\"num_photos\"] = (df[\"photos\"].apply(len)).astype(int)\n",
        "\n",
        "df[\"num_photos\"] = df[\"num_photos\"].astype(int)\n",
        "\n",
        "x1= df[\"bathrooms\"]\n",
        "x2=df[\"bedrooms\"]\n",
        "x3=df[\"num_photos\"]\n",
        "x4=df['price_size']\n",
        "y= df[\"price\"]\n",
        "\n",
        "#yhat= 7.4100  + 0.4087 *x1 + 0.1256*x2 \n",
        "yhat= 2.0346 + 0.3552 *x1 - 0.1157*x2 \n",
        "\n",
        "\n",
        "yl=np.log(y)\n",
        "yll=yl/df[\"size\"]\n",
        "deltay= yll - yhat\n",
        "deltay = np.random.normal(size = 49000)\n",
        "plt.hist(deltay, normed=True, bins=100)\n",
        "\n",
        "for a in deltay:\n",
        "    if a <= 1.5:\n",
        "        df['inherent']=1\n",
        "    else: \n",
        "        df['inherent']=0"
      ]
    }
  ],
  "metadata": {
    "_change_revision": 0,
    "_is_fork": false,
    "kernelspec": {
      "display_name": "Python 3",
      "language": "python",
      "name": "python3"
    },
    "language_info": {
      "codemirror_mode": {
        "name": "ipython",
        "version": 3
      },
      "file_extension": ".py",
      "mimetype": "text/x-python",
      "name": "python",
      "nbconvert_exporter": "python",
      "pygments_lexer": "ipython3",
      "version": "3.6.0"
    }
  },
  "nbformat": 4,
  "nbformat_minor": 0
}