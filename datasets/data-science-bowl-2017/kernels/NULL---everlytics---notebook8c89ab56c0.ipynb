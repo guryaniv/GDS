{
  "metadata": {
    "kernelspec": {
      "display_name": "Python 3",
      "language": "python",
      "name": "python3"
    },
    "language_info": {
      "codemirror_mode": {
        "name": "ipython",
        "version": 3
      },
      "file_extension": ".py",
      "mimetype": "text/x-python",
      "name": "python",
      "nbconvert_exporter": "python",
      "pygments_lexer": "ipython3",
      "version": "3.6.0"
    }
  },
  "nbformat": 4,
  "nbformat_minor": 0,
  "cells": [
    {
      "metadata": {
        "_cell_guid": "35efa578-7c3f-212f-4087-9f8abab30d65",
        "_active": false,
        "collapsed": false
      },
      "source": "import os\nimport pandas as pd\nimport cv2\ndata_dir = '../input/sample_images/'\npatients = os.listdir(data_dir)\nlabels_df = pd.read_csv('../input/stage1_labels.csv', index_col=0)\nlabels_df\npatients=pd.DataFrame(patients)\npatients.columns=['id']\n\nlabels_df=labels_df.reset_index()\n\ndf = pd.merge(patients, labels_df, left_on='id',right_on='id',how='left')\nmy_tab = pd.crosstab(index=df['cancer'],  # Make a crosstab\n                              columns='count') \nmy_tab\n\ndata_dir = '../input/sample_images/'\npatients = os.listdir(data_dir)\nlabels_df = pd.read_csv('../input/stage1_labels.csv', index_col=0)\n\npatient=patients[:1]\npatient\nlabel = labels_df.get_value(patient, 'cancer')\npath = data_dir + patient\nslices = [dicom.read_file(path + '/' + s) for s in os.listdir(path)]\nslices.sort(key = lambda x: int(x.ImagePositionPatient[2]))\nnew_slices = []\nslices = [cv2.resize(np.array(each_slice.pixel_array),(IMG_PX_SIZE,IMG_PX_SIZE)) for each_slice in slices]",
      "execution_count": null,
      "cell_type": "code",
      "outputs": [],
      "execution_state": "idle"
    },
    {
      "metadata": {
        "_cell_guid": "550e4b05-252a-9950-910a-fc071a9bd8c9",
        "_active": false,
        "collapsed": false
      },
      "source": "data_dir = '../input/sample_images/'\npatients = os.listdir(data_dir)\nlabels_df = pd.read_csv('../input/stage1_labels.csv', index_col=0)\nimport dicom\nimport numpy as np\nimport cv2\nimport math\nIMG_PX_SIZE = 150\nHM_SLICES = 20\npatient\n#label = labels_df.get_value(patient, 'cancer')\npath = data_dir + patients[0]\npath\nslices = [dicom.read_file(path + '/' + s) for s in os.listdir(path)]\nslices.sort(key = lambda x: int(x.ImagePositionPatient[2]))\n#new_slices = []\nslices = [cv2.resize(np.array(each_slice.pixel_array),(IMG_PX_SIZE,IMG_PX_SIZE)) for each_slice in slices]\n\nchunk_sizes = math.ceil(len(slices) / HM_SLICES)\nchunk_sizes\n\ndef chunks(l, n):\n    # Credit: Ned Batchelder\n    # Link: http://stackoverflow.com/questions/312443/how-do-you-split-a-list-into-evenly-sized-chunks\n    \"\"\"Yield successive n-sized chunks from l.\"\"\"\n    for i in range(0, len(l), n):\n        yield l[i:i + n]\ns=0\n\na=chunks(slices, chunk_sizes)\nfor slice_chunk in chunks(slices, chunk_sizes):\n    s=s+len(slice_chunk)\n    print(slice_chunk)\n    #print(len(slice_chunk))\ns    ",
      "execution_count": null,
      "cell_type": "code",
      "outputs": [],
      "execution_state": "idle"
    },
    {
      "metadata": {
        "_cell_guid": "3cdd9f39-905c-7cb4-e1da-a10f6bad3c6b",
        "_active": false,
        "collapsed": false
      },
      "source": "slice_chunk[0]",
      "execution_count": null,
      "cell_type": "code",
      "outputs": [],
      "execution_state": "idle"
    },
    {
      "metadata": {
        "_cell_guid": "27362556-09ca-2c28-4179-30c3bb0b23e5",
        "_active": false,
        "collapsed": false
      },
      "source": "np.array(np.array([[1, 2], [3, 4]]),np.array([[1, 2], [3, 4]]))",
      "execution_count": null,
      "cell_type": "code",
      "outputs": [],
      "execution_state": "idle"
    },
    {
      "metadata": {
        "_cell_guid": "527df819-f967-6eea-6c9c-595c0df1d05b",
        "_active": false,
        "collapsed": false
      },
      "source": "a = [1, 2, 3, 4, 5]\nb = [2, 2, 9, 0, 9]",
      "execution_count": null,
      "cell_type": "code",
      "outputs": [],
      "execution_state": "idle"
    },
    {
      "metadata": {
        "_cell_guid": "914dfdef-ace0-9f15-b970-4df918959ab3",
        "_active": false,
        "collapsed": false
      },
      "source": "list(zip(*a))",
      "execution_count": null,
      "cell_type": "code",
      "outputs": [],
      "execution_state": "idle"
    },
    {
      "metadata": {
        "_cell_guid": "6f66c442-2b4f-b1b0-9fbd-c12a806195d2",
        "_active": true,
        "collapsed": false
      },
      "source": "mean",
      "execution_count": null,
      "cell_type": "code",
      "outputs": [],
      "execution_state": "idle"
    }
  ]
}