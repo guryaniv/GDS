{
  "cells": [
    {
      "cell_type": "code",
      "execution_count": null,
      "metadata": {
        "_cell_guid": "7b4a9f11-c3ee-3525-8c28-c32b1ac0c586"
      },
      "outputs": [],
      "source": [
        "# This Python 3 environment comes with many helpful analytics libraries installed\n",
        "# It is defined by the kaggle/python docker image: https://github.com/kaggle/docker-python\n",
        "# For example, here's several helpful packages to load in \n",
        "\n",
        "import numpy as np # linear algebra\n",
        "import pandas as pd # data processing, CSV file I/O (e.g. pd.read_csv)\n",
        "\n",
        "# Input data files are available in the \"../input/\" directory.\n",
        "# For example, running this (by clicking run or pressing Shift+Enter) will list the files in the input directory\n",
        "\n",
        "from subprocess import check_output\n",
        "print(check_output([\"ls\", \"../input\"]).decode(\"utf8\"))\n",
        "\n",
        "# Any results you write to the current directory are saved as output."
      ]
    },
    {
      "cell_type": "code",
      "execution_count": null,
      "metadata": {
        "_cell_guid": "31bf5b85-e43e-2e03-7c86-a7ce42a978bf"
      },
      "outputs": [],
      "source": [
        "\n",
        "\n",
        "\n",
        "# create data frame containing your data, each column can be accessed # by df['column   name']\n",
        "dataset = pd.read_csv('../input/PS_20174392719_1491204439457_log.csv')\n",
        "del dataset['nameDest']\n",
        "del dataset['nameOrig']\n",
        "del dataset['type']\n",
        "\n",
        "dataset.head()"
      ]
    },
    {
      "cell_type": "code",
      "execution_count": null,
      "metadata": {
        "_cell_guid": "5eb5010b-2565-81d9-8ab7-20f1ba190b31"
      },
      "outputs": [],
      "source": [
        "#Exploratory Data Analysis \n",
        "import seaborn as sns\n",
        "import matplotlib.pyplot as plt\n",
        "%matplotlib inline\n",
        "\n",
        "plt.figure(figsize=(12,8))\n",
        "sns.pairplot(dataset[['amount', 'oldbalanceOrg', 'oldbalanceDest', 'isFraud']], hue='isFraud')"
      ]
    },
    {
      "cell_type": "code",
      "execution_count": null,
      "metadata": {
        "_cell_guid": "22768c2d-9bd9-3ad6-3cf7-cb124e755981"
      },
      "outputs": [],
      "source": [
        "#Splitting the Training/Test Data\n",
        "\n",
        "from sklearn.model_selection  import train_test_split\n",
        "X, y = dataset.iloc[:,:-2], dataset.iloc[:, -2]\n",
        "X_train, X_test, y_train, y_test = train_test_split(X, y, test_size=0.2, random_state=1)"
      ]
    },
    {
      "cell_type": "code",
      "execution_count": null,
      "metadata": {
        "_cell_guid": "c54a1358-8290-efad-7f3a-39df646850cf"
      },
      "outputs": [],
      "source": [
        "from keras.models import Sequential\n",
        "\n",
        "model = Sequential()\n",
        "\n",
        "from keras.layers import Dense, Activation\n",
        "\n",
        "input_dim = X_train.shape[1]\n",
        "nb_classes = y_train.shape[0]\n",
        "\n",
        "model.add(Dense(units=1, input_dim=input_dim))\n",
        "model.add(Activation('relu'))\n",
        "model.add(Dense(units=1))\n",
        "model.add(Activation('softmax'))"
      ]
    },
    {
      "cell_type": "code",
      "execution_count": null,
      "metadata": {
        "_cell_guid": "9153fa38-a6c0-834b-3f90-74067157abb0"
      },
      "outputs": [],
      "source": [
        "model.compile(loss='binary_crossentropy',\n",
        "              optimizer='sgd',\n",
        "              metrics=['accuracy'])"
      ]
    },
    {
      "cell_type": "code",
      "execution_count": null,
      "metadata": {
        "_cell_guid": "9698ed89-e4e9-33a3-abdc-cb44fa032f8d"
      },
      "outputs": [],
      "source": [
        "# x_train and y_train are Numpy arrays --just like in the Scikit-Learn API.\n",
        "#model.fit(X_train, y_train, epochs=5, batch_size=32)\n",
        "#y_train_binary = keras.utils.to_categorical(y_train[:0])\n",
        "model.fit(X_train.as_matrix(), y_train[0:].as_matrix(), epochs=1, batch_size=500)"
      ]
    },
    {
      "cell_type": "code",
      "execution_count": null,
      "metadata": {
        "_cell_guid": "ef09528a-24db-d9b1-5d05-85cac75d5d27"
      },
      "outputs": [],
      "source": [
        "score = model.evaluate(X_test.as_matrix(), y_test[0:].as_matrix(), batch_size=500)\n"
      ]
    },
    {
      "cell_type": "code",
      "execution_count": null,
      "metadata": {
        "_cell_guid": "52102908-fd02-a903-ad93-58c0d2e0bfd0"
      },
      "outputs": [],
      "source": [
        "y"
      ]
    },
    {
      "cell_type": "code",
      "execution_count": null,
      "metadata": {
        "_cell_guid": "c6b2bbbd-4ecb-6dbd-c2cd-818af28e3e00"
      },
      "outputs": [],
      "source": ""
    }
  ],
  "metadata": {
    "_change_revision": 0,
    "_is_fork": false,
    "kernelspec": {
      "display_name": "Python 3",
      "language": "python",
      "name": "python3"
    },
    "language_info": {
      "codemirror_mode": {
        "name": "ipython",
        "version": 3
      },
      "file_extension": ".py",
      "mimetype": "text/x-python",
      "name": "python",
      "nbconvert_exporter": "python",
      "pygments_lexer": "ipython3",
      "version": "3.6.0"
    }
  },
  "nbformat": 4,
  "nbformat_minor": 0
}