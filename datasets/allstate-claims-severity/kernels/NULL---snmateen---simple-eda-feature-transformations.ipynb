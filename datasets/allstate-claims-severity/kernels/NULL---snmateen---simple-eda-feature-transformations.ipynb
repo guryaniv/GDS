{
  "cells": [
    {
      "cell_type": "markdown",
      "metadata": {
        "_cell_guid": "f89ea4a2-0113-5619-2a0d-6902f67b2264"
      },
      "source": [
        "# Predicting Allstate insurance claim severity\n",
        "## Exploratory Data Analysis\n",
        "This notebook contains the exploratory data analysis performed on the training dataset provided by Allstate to predict insurance claim severity, analysis is performed on the following topics\n",
        "\n",
        "1. Training and testing dataset statistics\n",
        "2. missing values\n",
        "3. distribution of continuous features and transformation if necessary\n",
        "\n",
        "Based on the analysis of feature transformation, best possible feature is picked for preprocessing."
      ]
    },
    {
      "cell_type": "code",
      "execution_count": null,
      "metadata": {
        "_cell_guid": "fafed835-58d3-faf3-f729-f24564dca14a"
      },
      "outputs": [],
      "source": [
        "# loading required modules\n",
        "import pandas as pd\n",
        "import numpy as np\n",
        "import matplotlib.pylab as plt\n",
        "import seaborn as sns\n",
        "import math\n",
        "%matplotlib inline"
      ]
    },
    {
      "cell_type": "code",
      "execution_count": null,
      "metadata": {
        "_cell_guid": "c955d3c2-13b2-61a5-20ac-c1fa4e6d3a5c"
      },
      "outputs": [],
      "source": [
        "# load train and test dataset\n",
        "train = pd.read_csv(\"../input/train.csv\")\n",
        "test = pd.read_csv(\"../input/test.csv\")"
      ]
    },
    {
      "cell_type": "code",
      "execution_count": null,
      "metadata": {
        "_cell_guid": "9344f0d7-94e9-91e7-2e91-d09a9b9edd9c"
      },
      "outputs": [],
      "source": [
        "# printing train dataset information\n",
        "train.info()"
      ]
    },
    {
      "cell_type": "code",
      "execution_count": null,
      "metadata": {
        "_cell_guid": "aa75a082-c84d-f09c-7a1d-317ab78262f8"
      },
      "outputs": [],
      "source": [
        "# printing test dataset information\n",
        "test.info()"
      ]
    },
    {
      "cell_type": "code",
      "execution_count": null,
      "metadata": {
        "_cell_guid": "4f80f62a-2685-79cd-5616-60573b0cfb95"
      },
      "outputs": [],
      "source": [
        "train.columns[train.isnull().sum() > 0 ]"
      ]
    },
    {
      "cell_type": "markdown",
      "metadata": {
        "_cell_guid": "81c08b96-4d8c-917e-f5ca-91e960c3cdfd"
      },
      "source": [
        ""
      ]
    },
    {
      "cell_type": "code",
      "execution_count": null,
      "metadata": {
        "_cell_guid": "c1d433f3-78f9-725e-5262-462c6fa85fdd"
      },
      "outputs": [],
      "source": [
        "# setting pandas env variables to display max rows and columns\n",
        "pd.set_option('display.max_columns', 1000)\n",
        "pd.set_option('display.max_rows',1000)"
      ]
    },
    {
      "cell_type": "code",
      "execution_count": null,
      "metadata": {
        "_cell_guid": "ca29f765-edc0-c606-25b9-556a6420cfa2"
      },
      "outputs": [],
      "source": [
        "# describing statistics of continuous variables\n",
        "train.describe()"
      ]
    },
    {
      "cell_type": "markdown",
      "metadata": {
        "_cell_guid": "be079768-a227-7909-0d9d-335cd719854b"
      },
      "source": [
        ""
      ]
    },
    {
      "cell_type": "code",
      "execution_count": null,
      "metadata": {
        "_cell_guid": "5d63244c-d268-2a4c-1542-2e4b0a91ebde"
      },
      "outputs": [],
      "source": [
        "# describing statistics of categorical variables\n",
        "train.describe(include = ['object'])"
      ]
    },
    {
      "cell_type": "markdown",
      "metadata": {
        "_cell_guid": "97f980fe-c00e-7e50-b9a5-4dbf05d6970f"
      },
      "source": [
        ""
      ]
    },
    {
      "cell_type": "markdown",
      "metadata": {
        "_cell_guid": "13298050-f53d-6d9d-3427-e038bc1a4226"
      },
      "source": [
        ""
      ]
    },
    {
      "cell_type": "code",
      "execution_count": null,
      "metadata": {
        "_cell_guid": "4548f881-c825-2aaa-ede3-5356bb502786"
      },
      "outputs": [],
      "source": [
        "# sepearte the categorical and continous features\n",
        "cont_columns = []\n",
        "cat_columns = []\n",
        "\n",
        "for i in train.columns:\n",
        "    if train[i].dtype == 'float':\n",
        "        cont_columns.append(i)\n",
        "    elif train[i].dtype == 'object':\n",
        "        cat_columns.append(i)"
      ]
    },
    {
      "cell_type": "code",
      "execution_count": null,
      "metadata": {
        "_cell_guid": "9db07685-9bd5-3874-9d67-e13392cc826f",
        "collapsed": true
      },
      "outputs": [],
      "source": [
        "# log transform the label variable\n",
        "train['loss'] = np.log1p(train['loss'])"
      ]
    },
    {
      "cell_type": "markdown",
      "metadata": {
        "_cell_guid": "9a78e308-a0d1-262c-952b-34b23e090ec4"
      },
      "source": [
        ""
      ]
    },
    {
      "cell_type": "code",
      "execution_count": null,
      "metadata": {
        "_cell_guid": "e70b459e-baf1-8980-4d82-704d4dc460e2"
      },
      "outputs": [],
      "source": [
        "sns.pairplot(train[cont_columns], vars=['cont1','cont2','cont3','cont4','loss'], kind = 'scatter',diag_kind='kde')"
      ]
    },
    {
      "cell_type": "code",
      "execution_count": null,
      "metadata": {
        "_cell_guid": "7811e8b1-e506-a5ef-3fe9-afc9cc6c5f46"
      },
      "outputs": [],
      "source": [
        "sns.pairplot(train[cont_columns], vars=['cont5','cont6','cont7','cont8','loss'], kind = 'scatter',diag_kind='kde')"
      ]
    },
    {
      "cell_type": "code",
      "execution_count": null,
      "metadata": {
        "_cell_guid": "cffd0ccb-ff42-4243-a05d-82d7de0a7c7c"
      },
      "outputs": [],
      "source": [
        "sns.pairplot(train[cont_columns], vars=['cont9','cont10','cont11','cont12','loss'], kind = 'scatter',diag_kind='kde')"
      ]
    },
    {
      "cell_type": "code",
      "execution_count": null,
      "metadata": {
        "_cell_guid": "2ff88eed-f94a-cfdc-6dfc-e9317ba745d8"
      },
      "outputs": [],
      "source": [
        "sns.pairplot(train[cont_columns], vars=['cont13','cont14','loss'], kind = 'scatter',diag_kind='kde')"
      ]
    },
    {
      "cell_type": "code",
      "execution_count": null,
      "metadata": {
        "_cell_guid": "8d93bb8a-79a5-7724-dd9a-71a024df223e"
      },
      "outputs": [],
      "source": [
        "sns.pairplot(train[cont_columns], kind = 'scatter',diag_kind='kde')"
      ]
    },
    {
      "cell_type": "code",
      "execution_count": null,
      "metadata": {
        "_cell_guid": "a92b6a8c-4a84-b050-7580-93a6e206ea75"
      },
      "outputs": [],
      "source": [
        "plt.figure(figsize=(10,10))\n",
        "plt.hist(train.loss, bins=100)\n",
        "plt.title(\"histogram of target variable\")\n",
        "plt.show()"
      ]
    },
    {
      "cell_type": "markdown",
      "metadata": {
        "_cell_guid": "33516dff-bf43-9daf-eb90-a09a8af9b0f4"
      },
      "source": [
        ""
      ]
    },
    {
      "cell_type": "code",
      "execution_count": null,
      "metadata": {
        "_cell_guid": "17734585-d588-a29a-a756-714f49764f25"
      },
      "outputs": [],
      "source": [
        "# Compute the correlation matrix\n",
        "corr = train[cont_columns].corr()"
      ]
    },
    {
      "cell_type": "code",
      "execution_count": null,
      "metadata": {
        "_cell_guid": "2175d65d-d996-c83d-43aa-c0153766a6f1"
      },
      "outputs": [],
      "source": [
        "sns.set(style=\"white\")\n",
        "\n",
        "# Set up the matplotlib figure\n",
        "f, ax = plt.subplots(figsize=(11, 9))\n",
        "\n",
        "# Generate a custom diverging colormap\n",
        "cmap = sns.diverging_palette(220, 10, as_cmap=True)\n",
        "\n",
        "# Generate a mask for the upper triangle\n",
        "mask = np.zeros_like(corr, dtype=np.bool)\n",
        "mask[np.triu_indices_from(mask)] = True\n",
        "\n",
        "# Draw the heatmap with the mask and correct aspect ratio\n",
        "sns.heatmap(corr, mask=mask, cmap=cmap, vmax=.3,\n",
        "            square=True, linewidths=.5, cbar_kws={\"shrink\": .5}, ax=ax)"
      ]
    },
    {
      "cell_type": "markdown",
      "metadata": {
        "_cell_guid": "746129ff-f33c-475b-a0b5-314c43d2a40b"
      },
      "source": [
        ""
      ]
    },
    {
      "cell_type": "code",
      "execution_count": null,
      "metadata": {
        "_cell_guid": "de83c3cf-8d1b-308c-ddf4-098daf03984a"
      },
      "outputs": [],
      "source": [
        "cont_columns.remove('loss')"
      ]
    },
    {
      "cell_type": "markdown",
      "metadata": {
        "_cell_guid": "99e6af25-a473-dd3c-c483-a7b54b1e5747"
      },
      "source": [
        "Let's look at the probability plot of continuous variables"
      ]
    },
    {
      "cell_type": "code",
      "execution_count": null,
      "metadata": {
        "_cell_guid": "ce5a77e0-4b9c-5426-cb10-6a8da60a8e7b"
      },
      "outputs": [],
      "source": [
        "import matplotlib.gridspec as gridspec\n",
        "from scipy import stats\n",
        "\n",
        "plt.figure(figsize=(15,25))\n",
        "gs = gridspec.GridSpec(7, 2)\n",
        "for i, cn in enumerate(train[cont_columns].columns):\n",
        "    ax = plt.subplot(gs[i])\n",
        "    stats.probplot(train[cn], dist = stats.norm, plot = ax)\n",
        "    ax.set_xlabel('')\n",
        "    ax.set_title('Probplot of feature: cont' + str(i+1))\n",
        "plt.show()"
      ]
    },
    {
      "cell_type": "markdown",
      "metadata": {
        "_cell_guid": "23b9d00c-c559-b251-9a65-e89997b7f402"
      },
      "source": [
        "Let's look at the skewness and plot them."
      ]
    },
    {
      "cell_type": "code",
      "execution_count": null,
      "metadata": {
        "_cell_guid": "9f111eda-4f49-1d1d-9ea7-7b6d0d0abe4b"
      },
      "outputs": [],
      "source": [
        "skewness_list = []\n",
        "for cn in train[cont_columns].columns:\n",
        "    skewness_list.append(stats.skew(train[cn]))\n",
        "\n",
        "plt.figure(figsize=(10,7))\n",
        "plt.plot(skewness_list, 'bo-')\n",
        "plt.xlabel(\"continous features\")\n",
        "plt.ylabel(\"skewness\")\n",
        "plt.title(\"plotting skewness of the continous features\")\n",
        "plt.xticks(range(15), range(1,15,1))\n",
        "plt.plot([(0.25) for i in range(0,14)], 'r--')\n",
        "plt.text(6, .1, 'threshold = 0.25')\n",
        "plt.show()"
      ]
    },
    {
      "cell_type": "markdown",
      "metadata": {
        "_cell_guid": "87e98297-6ecc-f9f1-b727-9a11be9bbd0f"
      },
      "source": [
        "Except couple of features, all of them have skewness above 0.25, let's look at their distribution and experiment with different transformations."
      ]
    },
    {
      "cell_type": "code",
      "execution_count": null,
      "metadata": {
        "_cell_guid": "b5e19da3-77fa-d82a-619d-69beb1e1fd30"
      },
      "outputs": [],
      "source": [
        "skewed_cont_columns = []\n",
        "for i, cn in enumerate(cont_columns):\n",
        "    if skewness_list[i] >= 0.25:\n",
        "        skewed_cont_columns.append(cn)"
      ]
    },
    {
      "cell_type": "code",
      "execution_count": null,
      "metadata": {
        "_cell_guid": "db2d53cb-7881-bcfa-9de3-61d224dd1f62"
      },
      "outputs": [],
      "source": [
        "plt.figure(figsize=(15,25))\n",
        "gs = gridspec.GridSpec(6, 2)\n",
        "for i, cn in enumerate(skewed_cont_columns):\n",
        "    ax = plt.subplot(gs[i])\n",
        "    sns.distplot(train[cn], bins=50)\n",
        "    ax.set_xlabel('')\n",
        "    ax.set_title('hist plot of feature: ' + str(cn))\n",
        "plt.show()"
      ]
    },
    {
      "cell_type": "markdown",
      "metadata": {
        "_cell_guid": "3de69392-bbd4-d202-2661-b769d0deb0b3"
      },
      "source": [
        "Below function comes in handy in plotting the distribution and probability plot side by side and we look at \n",
        "\n",
        " - original feature\n",
        " - custom transformed feature\n",
        " - boxcox transformed feature\n",
        "\n",
        "in some cases custom transformation might be better than boxcox transformation, let's analyze."
      ]
    },
    {
      "cell_type": "code",
      "execution_count": null,
      "metadata": {
        "_cell_guid": "512fb499-d1cd-85a9-03c8-fec22d894c03"
      },
      "outputs": [],
      "source": [
        "def examine_transform(original, transformed):\n",
        "    plt.figure(figsize=(15,10))\n",
        "    gs = gridspec.GridSpec(3,2, width_ratios=(1,2))\n",
        "    \n",
        "    ax = plt.subplot(gs[0])\n",
        "    sns.distplot(original, bins=50)\n",
        "    ax.set_xlabel('')\n",
        "    ax.set_title('histogram of orignal feature')\n",
        "    \n",
        "    ax = plt.subplot(gs[1])\n",
        "    prob = stats.probplot(original, dist = stats.norm, plot = ax)\n",
        "    ax.set_xlabel('')\n",
        "    ax.set_title('Probplot of original feature')\n",
        "    \n",
        "    ax = plt.subplot(gs[2])\n",
        "    sns.distplot(transformed, bins=50)\n",
        "    ax.set_xlabel('')\n",
        "    ax.set_title('histogram of transformed feature')\n",
        "    \n",
        "    ax = plt.subplot(gs[3])\n",
        "    prob = stats.probplot(transformed, dist = stats.norm, plot = ax)\n",
        "    ax.set_xlabel('')\n",
        "    ax.set_title('Probplot of transformed feature')\n",
        "    \n",
        "    # apply boxcox transformation\n",
        "    xt, _ = stats.boxcox(original)\n",
        "    ax = plt.subplot(gs[4])\n",
        "    sns.distplot(xt, bins=50)\n",
        "    ax.set_xlabel('')\n",
        "    ax.set_title('histogram of boxcox transformed feature')\n",
        "    \n",
        "    ax = plt.subplot(gs[5])\n",
        "    prob = stats.probplot(xt, dist = stats.norm, plot = ax)\n",
        "    ax.set_xlabel('')\n",
        "    ax.set_title('Probplot of boxcox transformed feature')\n",
        "    \n",
        "    \n",
        "    plt.show()"
      ]
    },
    {
      "cell_type": "code",
      "execution_count": null,
      "metadata": {
        "_cell_guid": "af36e641-b22c-6a19-8f21-ff07656cb61b"
      },
      "outputs": [],
      "source": [
        "examine_transform(train.cont1, np.power(train.cont1,0.5))"
      ]
    },
    {
      "cell_type": "code",
      "execution_count": null,
      "metadata": {
        "_cell_guid": "dd981f86-d012-da9d-76d9-5d180bf31124"
      },
      "outputs": [],
      "source": [
        "examine_transform(train.cont2, np.tan(train.cont2))"
      ]
    },
    {
      "cell_type": "code",
      "execution_count": null,
      "metadata": {
        "_cell_guid": "71f3111f-9572-9751-1677-d6dcb5a7ac35"
      },
      "outputs": [],
      "source": [
        "examine_transform(train.cont4, np.power(train.cont4,0.2))"
      ]
    },
    {
      "cell_type": "code",
      "execution_count": null,
      "metadata": {
        "_cell_guid": "ec8e4846-137a-95fe-4e2b-49930406afb1"
      },
      "outputs": [],
      "source": [
        "examine_transform(train.cont5, np.log(train.cont5))"
      ]
    },
    {
      "cell_type": "code",
      "execution_count": null,
      "metadata": {
        "_cell_guid": "cfe2291c-e07d-1a35-6f8a-665977676a77"
      },
      "outputs": [],
      "source": [
        "examine_transform(train.cont6, np.power(train.cont6,0.5))"
      ]
    },
    {
      "cell_type": "code",
      "execution_count": null,
      "metadata": {
        "_cell_guid": "989bf978-0727-f643-6a74-08929e1de8c7"
      },
      "outputs": [],
      "source": [
        "examine_transform(train.cont7, np.log(train.cont7))"
      ]
    },
    {
      "cell_type": "code",
      "execution_count": null,
      "metadata": {
        "_cell_guid": "586edff7-1e9f-62d6-987e-cf50eec5044e"
      },
      "outputs": [],
      "source": [
        "examine_transform(train.cont8, np.power(train.cont8,0.4))"
      ]
    },
    {
      "cell_type": "code",
      "execution_count": null,
      "metadata": {
        "_cell_guid": "a5397ce2-d88f-0e2e-daf9-3cc08753f2a6"
      },
      "outputs": [],
      "source": [
        "examine_transform(train.cont9, np.power(train.cont9,0.4))"
      ]
    },
    {
      "cell_type": "code",
      "execution_count": null,
      "metadata": {
        "_cell_guid": "845e23da-163c-508a-aa1d-c8b8baa3f8ce"
      },
      "outputs": [],
      "source": [
        "examine_transform(train.cont10+1, np.tanh(train.cont10+1))"
      ]
    },
    {
      "cell_type": "code",
      "execution_count": null,
      "metadata": {
        "_cell_guid": "67eedb73-9d2b-2bd5-dc90-79665ad3ebcf"
      },
      "outputs": [],
      "source": [
        "examine_transform(train.cont11, np.power(train.cont11,0.4))"
      ]
    },
    {
      "cell_type": "code",
      "execution_count": null,
      "metadata": {
        "_cell_guid": "c918b67f-deb7-cba0-202f-6d8630154606"
      },
      "outputs": [],
      "source": [
        "examine_transform(train.cont12, np.power(train.cont12,0.4))"
      ]
    },
    {
      "cell_type": "code",
      "execution_count": null,
      "metadata": {
        "_cell_guid": "125b4e2b-b165-56de-e507-df675b6628be"
      },
      "outputs": [],
      "source": [
        "examine_transform(train.cont13, np.abs(train.cont13 - np.mean(train.cont13)))"
      ]
    },
    {
      "cell_type": "code",
      "execution_count": null,
      "metadata": {
        "_cell_guid": "d154b093-e9bb-f84d-d1bd-97a9f1936ebc"
      },
      "outputs": [],
      "source": [
        "examine_transform(train.cont14, np.abs(train.cont14 - np.mean(train.cont14)))"
      ]
    },
    {
      "cell_type": "code",
      "execution_count": null,
      "metadata": {
        "_cell_guid": "a488dbe6-397c-8361-8ec2-a4c2956f260f"
      },
      "outputs": [],
      "source": [
        "# here is the pick of the transformation based on the above analysis\n",
        "feature_transformation = {  'cont1': 'boxcox'\n",
        "                          , 'cont2': 'np.tan'\n",
        "                          , 'cont3': 'none'\n",
        "                          , 'cont4': 'boxcox'\n",
        "                          , 'cont5': 'boxcox'\n",
        "                          , 'cont6': 'boxcox'\n",
        "                          , 'cont7': 'boxcox'\n",
        "                          , 'cont8': 'boxcox'\n",
        "                          , 'cont9': 'boxcox'\n",
        "                          , 'cont10': 'boxcox'\n",
        "                          , 'cont11': 'boxcox'\n",
        "                          , 'cont12': 'boxcox'\n",
        "                          , 'cont13': 'abs_mean_shift'\n",
        "                          , 'cont14': 'abs_mean_shift'\n",
        "                         }"
      ]
    }
  ],
  "metadata": {
    "_change_revision": 0,
    "_is_fork": false,
    "kernelspec": {
      "display_name": "Python 3",
      "language": "python",
      "name": "python3"
    },
    "language_info": {
      "codemirror_mode": {
        "name": "ipython",
        "version": 3
      },
      "file_extension": ".py",
      "mimetype": "text/x-python",
      "name": "python",
      "nbconvert_exporter": "python",
      "pygments_lexer": "ipython3",
      "version": "3.5.2"
    }
  },
  "nbformat": 4,
  "nbformat_minor": 0
}