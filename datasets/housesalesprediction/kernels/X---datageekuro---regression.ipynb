{
  "cells": [
    {
      "cell_type": "code",
      "execution_count": null,
      "metadata": {
        "_cell_guid": "ea750abe-ca1e-4830-1534-9e06d84aa6a2"
      },
      "outputs": [],
      "source": [
        "# This Python 3 environment comes with many helpful analytics libraries installed\n",
        "# It is defined by the kaggle/python docker image: https://github.com/kaggle/docker-python\n",
        "# For example, here's several helpful packages to load in \n",
        "\n",
        "import numpy as np # linear algebra\n",
        "import pandas as pd # data processing, CSV file I/O (e.g. pd.read_csv)\n",
        "import matplotlib.pyplot as plt\n",
        "import scipy.stats as stats\n",
        "import seaborn as sns\n",
        "from matplotlib import rcParams\n",
        "\n",
        "# Input data files are available in the \"../input/\" directory.\n",
        "# For example, running this (by clicking run or pressing Shift+Enter) will list the files in the input directory\n",
        "\n",
        "from subprocess import check_output\n",
        "print(check_output([\"ls\", \"../input\"]).decode(\"utf8\"))\n",
        "\n",
        "# Any results you write to the current directory are saved as output."
      ]
    },
    {
      "cell_type": "code",
      "execution_count": null,
      "metadata": {
        "_cell_guid": "1842d173-aaa6-abbf-89a8-72842e7acae4"
      },
      "outputs": [],
      "source": [
        "df = pd.read_csv('../input/kc_house_data.csv')\n",
        "df.head()\n"
      ]
    },
    {
      "cell_type": "code",
      "execution_count": null,
      "metadata": {
        "_cell_guid": "aefe0454-eda9-7a7b-f19c-773f9c8a5ea0"
      },
      "outputs": [],
      "source": [
        "df.isnull().any()"
      ]
    },
    {
      "cell_type": "code",
      "execution_count": null,
      "metadata": {
        "_cell_guid": "dd1875bc-8b6e-3700-13d1-82a0ddccb3d4"
      },
      "outputs": [],
      "source": [
        "df.dtypes"
      ]
    },
    {
      "cell_type": "code",
      "execution_count": null,
      "metadata": {
        "_cell_guid": "f99da6fc-87b2-ca42-fb99-e3fd926ed435"
      },
      "outputs": [],
      "source": [
        "df.describe()"
      ]
    },
    {
      "cell_type": "code",
      "execution_count": null,
      "metadata": {
        "_cell_guid": "f5259989-9974-72d5-35cf-fd13be69e04c"
      },
      "outputs": [],
      "source": [
        "fig = plt.figure(figsize=(12, 6))\n",
        "sqft = fig.add_subplot(121)\n",
        "cost = fig.add_subplot(122)\n",
        "\n",
        "sqft.hist(df.sqft_living, bins=80)\n",
        "sqft.set_xlabel('Ft^2')\n",
        "sqft.set_title(\"Histogram of House Square Footage\")\n",
        "\n",
        "cost.hist(df.price, bins=80)\n",
        "cost.set_xlabel('Price ($)')\n",
        "cost.set_title(\"Histogram of Housing Prices\")\n",
        "\n",
        "plt.show()"
      ]
    },
    {
      "cell_type": "code",
      "execution_count": null,
      "metadata": {
        "_cell_guid": "8d049065-0681-300f-120b-9b9b8dd139b6"
      },
      "outputs": [],
      "source": [
        "import statsmodels.api as sm\n",
        "from statsmodels.formula.api import ols"
      ]
    },
    {
      "cell_type": "code",
      "execution_count": null,
      "metadata": {
        "_cell_guid": "e4fb7223-3462-c7f9-7657-0582189fca93"
      },
      "outputs": [],
      "source": [
        "m = ols('price ~ sqft_living', df).fit()\n",
        "print(m.summary())"
      ]
    },
    {
      "cell_type": "code",
      "execution_count": null,
      "metadata": {
        "_cell_guid": "2fc50f2e-de4e-5d18-d8b0-949ec92060f1"
      },
      "outputs": [],
      "source": [
        "m = ols('price ~ sqft_living + bedrooms + grade + condition',df).fit()\n",
        "print (m.summary())"
      ]
    },
    {
      "cell_type": "code",
      "execution_count": null,
      "metadata": {
        "_cell_guid": "d10bff25-d4b4-289b-9ecb-34e8dab6fedd"
      },
      "outputs": [],
      "source": [
        "sns.jointplot(x=\"sqft_living\", y=\"price\", data=df, kind = 'reg',fit_reg= True, size = 7)\n",
        "plt.show()"
      ]
    },
    {
      "cell_type": "code",
      "execution_count": null,
      "metadata": {
        "_cell_guid": "b0cc06ae-6b85-004a-825d-e1837a67d504"
      },
      "outputs": [],
      "source": ""
    }
  ],
  "metadata": {
    "_change_revision": 0,
    "_is_fork": false,
    "kernelspec": {
      "display_name": "Python 3",
      "language": "python",
      "name": "python3"
    },
    "language_info": {
      "codemirror_mode": {
        "name": "ipython",
        "version": 3
      },
      "file_extension": ".py",
      "mimetype": "text/x-python",
      "name": "python",
      "nbconvert_exporter": "python",
      "pygments_lexer": "ipython3",
      "version": "3.5.2"
    }
  },
  "nbformat": 4,
  "nbformat_minor": 0
}