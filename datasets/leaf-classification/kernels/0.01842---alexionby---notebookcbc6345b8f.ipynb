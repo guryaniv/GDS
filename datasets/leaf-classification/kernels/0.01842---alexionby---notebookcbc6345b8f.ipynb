{
  "cells": [
    {
      "cell_type": "markdown",
      "metadata": {
        "_cell_guid": "40aba4db-d553-f281-39b1-f21a99ac886e"
      },
      "source": [
        ""
      ]
    },
    {
      "cell_type": "code",
      "execution_count": null,
      "metadata": {
        "_cell_guid": "35d71312-096a-2173-5fd7-9a805b63caf7"
      },
      "outputs": [],
      "source": [
        "# This Python 3 environment comes with many helpful analytics libraries installed\n",
        "# It is defined by the kaggle/python docker image: https://github.com/kaggle/docker-python\n",
        "# For example, here's several helpful packages to load in \n",
        "\n",
        "import numpy as np # linear algebra\n",
        "import pandas as pd # data processing, CSV file I/O (e.g. pd.read_csv)\n",
        "\n",
        "# Input data files are available in the \"../input/\" directory.\n",
        "# For example, running this (by clicking run or pressing Shift+Enter) will list the files in the input directory\n",
        "\n",
        "from subprocess import check_output\n",
        "print(check_output([\"ls\", \"../input\"]).decode(\"utf8\"))\n",
        "\n",
        "# Any results you write to the current directory are saved as output."
      ]
    },
    {
      "cell_type": "code",
      "execution_count": null,
      "metadata": {
        "_cell_guid": "464920e5-791d-9a4d-72ad-cde0cbe82097"
      },
      "outputs": [],
      "source": [
        "data = pd.read_csv('../input/train.csv')\n",
        "ID = data.pop('id')\n",
        "or_data = data.copy()"
      ]
    },
    {
      "cell_type": "code",
      "execution_count": null,
      "metadata": {
        "_cell_guid": "6cdff88f-bc8d-d76e-03d1-832c4eb9c1d9"
      },
      "outputs": [],
      "source": [
        "from sklearn.preprocessing import LabelEncoder\n",
        "from sklearn.preprocessing import StandardScaler\n",
        "from sklearn.cross_validation import train_test_split\n",
        "from sklearn.model_selection import GridSearchCV"
      ]
    },
    {
      "cell_type": "code",
      "execution_count": null,
      "metadata": {
        "_cell_guid": "b8f352d8-af5f-2c68-ed34-e7a311887f01"
      },
      "outputs": [],
      "source": [
        "from keras.models import Sequential\n",
        "from keras.layers import Dense,Dropout,Activation\n",
        "from keras.utils.np_utils import to_categorical\n",
        "from keras.wrappers.scikit_learn import KerasClassifier\n",
        "from keras.layers import BatchNormalization"
      ]
    },
    {
      "cell_type": "code",
      "execution_count": null,
      "metadata": {
        "_cell_guid": "0f684903-d4ab-090b-a332-40f3952f40cd"
      },
      "outputs": [],
      "source": [
        "y = data.pop('species')\n",
        "y = LabelEncoder().fit(y).transform(y)\n",
        "y_cat = to_categorical(y)\n",
        "y_cat.shape, y.shape"
      ]
    },
    {
      "cell_type": "code",
      "execution_count": null,
      "metadata": {
        "_cell_guid": "32552682-9adb-a62f-6f3c-a6992678894d"
      },
      "outputs": [],
      "source": [
        "X = StandardScaler().fit(data).transform(data)\n",
        "X.shape\n",
        "\n",
        "test = pd.read_csv('../input/test.csv')\n",
        "index = test.pop('id')\n",
        "test = StandardScaler().fit(data).transform(test)"
      ]
    },
    {
      "cell_type": "code",
      "execution_count": null,
      "metadata": {
        "_cell_guid": "aba33f97-f9e7-b87c-76ab-bff4fe1c26bf"
      },
      "outputs": [],
      "source": [
        "def create_model(dropout_rate_l1=0.3 , dropout_rate_l2=0.3):\n",
        "    \n",
        "    model = Sequential()\n",
        "    model.add(Dense(600, input_dim=192,  init='uniform'))\n",
        "    model.add(BatchNormalization())\n",
        "    model.add(Activation('relu'))\n",
        "    model.add(Dropout(dropout_rate_l1))\n",
        "    \n",
        "    model.add(Dense(300, init='uniform'))\n",
        "    model.add(BatchNormalization())\n",
        "    model.add(Activation('relu'))\n",
        "    model.add(Dropout(dropout_rate_l2))\n",
        "    \n",
        "    model.add(Dense(99, activation='softmax'))\n",
        "    \n",
        "    model.compile(loss='categorical_crossentropy',optimizer='rmsprop', metrics = [\"accuracy\"])\n",
        "    \n",
        "    return model"
      ]
    },
    {
      "cell_type": "code",
      "execution_count": null,
      "metadata": {
        "_cell_guid": "8d4b4eda-0ab9-41de-ea44-98c76ff2e44b"
      },
      "outputs": [],
      "source": [
        "from sklearn.cross_validation import train_test_split\n",
        "X_train,X_test,y_train,y_test = train_test_split( X, y_cat, test_size = 0.1, random_state = 7)"
      ]
    },
    {
      "cell_type": "code",
      "execution_count": null,
      "metadata": {
        "_cell_guid": "7d6cb904-e23d-202e-fc33-4b296785cf4d"
      },
      "outputs": [],
      "source": [
        "model = create_model()\n",
        "history_main = model.fit(X_train,y_train,batch_size=192, nb_epoch=400, verbose=2, validation_data=(X_test, y_test))"
      ]
    },
    {
      "cell_type": "code",
      "execution_count": null,
      "metadata": {
        "_cell_guid": "567d927b-caf0-03a5-d1dc-2e1b5ce7cf5d"
      },
      "outputs": [],
      "source": [
        "model.evaluate(X, y_cat)"
      ]
    },
    {
      "cell_type": "code",
      "execution_count": null,
      "metadata": {
        "_cell_guid": "25a6505c-93a0-2bbf-097d-1ac7534d9b4c"
      },
      "outputs": [],
      "source": [
        "\n",
        "yPred = model.predict_proba(test)\n",
        "col = or_data.species.unique()\n",
        "col.sort()\n",
        "yPred = pd.DataFrame(yPred, index=index, columns=col)\n",
        "yPred.to_csv('result_2.csv', index=True)"
      ]
    },
    {
      "cell_type": "code",
      "execution_count": null,
      "metadata": {
        "_cell_guid": "9c4e15ae-edc9-b581-3989-4f759d1babdb"
      },
      "outputs": [],
      "source": [
        ""
      ]
    }
  ],
  "metadata": {
    "_change_revision": 0,
    "_is_fork": false,
    "kernelspec": {
      "display_name": "Python 3",
      "language": "python",
      "name": "python3"
    },
    "language_info": {
      "codemirror_mode": {
        "name": "ipython",
        "version": 3
      },
      "file_extension": ".py",
      "mimetype": "text/x-python",
      "name": "python",
      "nbconvert_exporter": "python",
      "pygments_lexer": "ipython3",
      "version": "3.6.0"
    }
  },
  "nbformat": 4,
  "nbformat_minor": 0
}