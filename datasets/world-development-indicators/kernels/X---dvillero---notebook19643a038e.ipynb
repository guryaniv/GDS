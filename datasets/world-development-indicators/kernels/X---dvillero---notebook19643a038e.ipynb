{
  "cells": [
    {
      "cell_type": "code",
      "execution_count": null,
      "metadata": {
        "_cell_guid": "856a2c5b-0d75-8ed0-8053-206f7167319b"
      },
      "outputs": [],
      "source": [
        "# This Python 3 environment comes with many helpful analytics libraries installed\n",
        "# It is defined by the kaggle/python docker image: https://github.com/kaggle/docker-python\n",
        "# For example, here's several helpful packages to load in \n",
        "\n",
        "import numpy as np # linear algebra\n",
        "import pandas as pd # data processing, CSV file I/O (e.g. pd.read_csv)\n",
        "\n",
        "# Input data files are available in the \"../input/\" directory.\n",
        "# For example, running this (by clicking run or pressing Shift+Enter) will list the files in the input directory\n",
        "\n",
        "from subprocess import check_output\n",
        "print(check_output([\"ls\", \"../input\"]).decode(\"utf8\"))\n",
        "\n",
        "# Any results you write to the current directory are saved as output."
      ]
    },
    {
      "cell_type": "code",
      "execution_count": null,
      "metadata": {
        "_cell_guid": "8f0ad889-448a-08dc-a098-a218a18a03ce"
      },
      "outputs": [],
      "source": [
        "contry = pd.read_csv('../input/Country.csv')\n",
        "contry_notes= pd.read_csv('../input/CountryNotes.csv')\n",
        "footnotes = pd.read_csv('../input/Footnotes.csv')\n",
        "indicators = pd.read_csv('../input/Indicators.csv')\n",
        "seriesn = pd.read_csv('../input/SeriesNotes.csv')"
      ]
    },
    {
      "cell_type": "code",
      "execution_count": null,
      "metadata": {
        "_cell_guid": "3c836fc7-e7a8-6806-a5f5-85c30397fb8b"
      },
      "outputs": [],
      "source": [
        "contry.info()"
      ]
    },
    {
      "cell_type": "code",
      "execution_count": null,
      "metadata": {
        "_cell_guid": "760208fb-19ab-452f-1287-8484fa53e934"
      },
      "outputs": [],
      "source": [
        "contry.IncomeGroup.unic"
      ]
    },
    {
      "cell_type": "code",
      "execution_count": null,
      "metadata": {
        "_cell_guid": "41a76174-2309-86ef-42f8-e2bb25a0f133"
      },
      "outputs": [],
      "source": [
        "indicators.head()"
      ]
    },
    {
      "cell_type": "code",
      "execution_count": null,
      "metadata": {
        "_cell_guid": "4b14980a-a9eb-3ed1-0bb6-701f66130766"
      },
      "outputs": [],
      "source": [
        "seriesn.head()"
      ]
    },
    {
      "cell_type": "code",
      "execution_count": null,
      "metadata": {
        "_cell_guid": "aff1626f-20d9-9cbf-9501-a560a6c418b0"
      },
      "outputs": [],
      "source": ""
    }
  ],
  "metadata": {
    "_change_revision": 0,
    "_is_fork": false,
    "kernelspec": {
      "display_name": "Python 3",
      "language": "python",
      "name": "python3"
    },
    "language_info": {
      "codemirror_mode": {
        "name": "ipython",
        "version": 3
      },
      "file_extension": ".py",
      "mimetype": "text/x-python",
      "name": "python",
      "nbconvert_exporter": "python",
      "pygments_lexer": "ipython3",
      "version": "3.6.0"
    }
  },
  "nbformat": 4,
  "nbformat_minor": 0
}