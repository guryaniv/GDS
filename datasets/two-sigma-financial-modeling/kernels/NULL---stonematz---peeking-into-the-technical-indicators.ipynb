{
  "cells": [
    {
      "cell_type": "markdown",
      "metadata": {
        "_cell_guid": "a6a72aef-74d6-7ca2-44a6-d010e37deeb1"
      },
      "source": [
        "As shown by other competitors, the correlation between the features and the asset prices is low. Hence, the features need to be transformed in order to learn predictive models. \n",
        "\n",
        "One possible approach to transform the features is to lag the technical indicators in order to get a better match to the historical market prices they are calculated on."
      ]
    },
    {
      "cell_type": "markdown",
      "metadata": {
        "_cell_guid": "d9c19cbf-b8c6-5bc1-eb2c-6b9f853ab3f0"
      },
      "source": [
        "First, we load the available data and check if everything works out as planned:"
      ]
    },
    {
      "cell_type": "code",
      "execution_count": null,
      "metadata": {
        "_cell_guid": "e9b7c738-5e2d-b06e-aa4e-3a74cd78ca28"
      },
      "outputs": [],
      "source": [
        "import numpy as np\n",
        "import pandas as pd\n",
        "import matplotlib.pyplot as plt\n",
        "import seaborn as sns\n",
        "\n",
        "%matplotlib inline\n",
        "\n",
        "# Load Data\n",
        "with pd.HDFStore('../input/train.h5') as train:\n",
        "    df = train.get('train')\n",
        "    \n",
        "df.head()"
      ]
    },
    {
      "cell_type": "markdown",
      "metadata": {
        "_cell_guid": "5641a119-a4df-d744-82f5-686c930319c8"
      },
      "source": [
        "Next, we filter for the the technical indicators."
      ]
    },
    {
      "cell_type": "code",
      "execution_count": null,
      "metadata": {
        "_cell_guid": "4674505b-3d94-544c-6c79-0e67749f29b9"
      },
      "outputs": [],
      "source": [
        "technical = df.filter(regex=\"technical\").columns\n",
        "technical[:5]"
      ]
    },
    {
      "cell_type": "markdown",
      "metadata": {
        "_cell_guid": "5f6b096c-1494-c71f-e770-769b0b6b6041"
      },
      "source": [
        "As technical indicators are calculated based on historical data, we expect them to follow the asset price 'y' with a certain lag. While the unweighted moving average would be a simple example, the proposition also holds for more complex indicators like bollinger bands wich incorporate not only the rolling mean but also the rolling standard deviation. \n",
        "\n",
        "We define a function to analyze the correlation between the lagged features and the asset prices."
      ]
    },
    {
      "cell_type": "code",
      "execution_count": null,
      "metadata": {
        "_cell_guid": "2962e216-7b0a-9a3b-6a1e-1cdae3de7444"
      },
      "outputs": [],
      "source": [
        "def crosscorr(x, y, lag=0):\n",
        "    return y.corr(x.shift(lag))"
      ]
    },
    {
      "cell_type": "markdown",
      "metadata": {
        "_cell_guid": "a9772df9-5db4-1018-5e55-f56ed53560da"
      },
      "source": [
        "We apply this function to two assets (id = 70 and id = 150) and plot the results for all lags from 0 to 99.  The blue bars show the correlations for the different legs for the asset with id 70 and the red bars for id 150."
      ]
    },
    {
      "cell_type": "code",
      "execution_count": null,
      "metadata": {
        "_cell_guid": "9eaa070f-4a3e-c82b-6bee-e2cf1405ac52"
      },
      "outputs": [],
      "source": [
        "def plot_lagged_correlation(id, lags, columns, color):\n",
        "    xcov = {}\n",
        "    for i in range(lags):\n",
        "        xcov[i] = crosscorr(df[df.id == id][\"y\"], df[df.id == id][columns[feature]], lag=i)\n",
        "    X = np.arange(len(xcov))\n",
        "    plt.bar(X, xcov.values(), color = color)\n",
        "    \n",
        "for feature in range(len(technical)):\n",
        "    plt.figure()\n",
        "    plt.subplot(211)\n",
        "    plot_lagged_correlation(70, 100, technical, \"blue\")\n",
        "    plt.title(\"Feature : \" + str(technical[feature]))\n",
        "    plt.subplot(212)\n",
        "    plot_lagged_correlation(150, 100, technical, \"red\")\n",
        "    plt.tight_layout()\n"
      ]
    },
    {
      "cell_type": "markdown",
      "metadata": {
        "_cell_guid": "7b83b5d5-71eb-5c8b-b1f5-a11cc049b9d0"
      },
      "source": [
        "We see mixed results for the different technical indicators. On the one hand, a few features have the highest absolute correlation without beeing lagged (e.g. technical_30). On the other hand, most features have a very low correlation in the initial unlagged setting but a higher correlation if they are beeing lagged. Often times, the correlations are positive for one asset and negative for the other asset. However, my guess is that the optimal lag can be calculated based on the absolute correlation. "
      ]
    },
    {
      "cell_type": "markdown",
      "metadata": {
        "_cell_guid": "1dcfa6a4-9f62-e8d6-f086-fd05c22cf8fb"
      },
      "source": [
        "I hope that this first analysis can be used to identify the time window underlying the different technical features and  create more powerful features for the predictive models. If you have any suggestions to improve this script or ideas on how to apply it to the complete portfolio I would be happy to know."
      ]
    }
  ],
  "metadata": {
    "_change_revision": 0,
    "_is_fork": false,
    "kernelspec": {
      "display_name": "Python 3",
      "language": "python",
      "name": "python3"
    },
    "language_info": {
      "codemirror_mode": {
        "name": "ipython",
        "version": 3
      },
      "file_extension": ".py",
      "mimetype": "text/x-python",
      "name": "python",
      "nbconvert_exporter": "python",
      "pygments_lexer": "ipython3",
      "version": "3.5.2"
    }
  },
  "nbformat": 4,
  "nbformat_minor": 0
}