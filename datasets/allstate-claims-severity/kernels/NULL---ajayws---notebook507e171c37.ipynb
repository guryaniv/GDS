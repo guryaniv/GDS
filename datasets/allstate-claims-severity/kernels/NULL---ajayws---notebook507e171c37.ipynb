{
  "cells": [
    {
      "cell_type": "markdown",
      "metadata": {
        "_cell_guid": "e0cd17cb-9b1b-1dd2-9daa-2e06eb3e3a5f"
      },
      "source": ""
    },
    {
      "cell_type": "code",
      "execution_count": null,
      "metadata": {
        "_cell_guid": "aa2cf94c-1a0d-c17d-36de-ce72605f71a7"
      },
      "outputs": [],
      "source": [
        "# This Python 3 environment comes with many helpful analytics libraries installed\n",
        "# It is defined by the kaggle/python docker image: https://github.com/kaggle/docker-python\n",
        "# For example, here's several helpful packages to load in \n",
        "\n",
        "import numpy as np # linear algebra\n",
        "import pandas as pd # data processing, CSV file I/O (e.g. pd.read_csv)\n",
        "import matplotlib.pylab as plt\n",
        "\n",
        "# Input data files are available in the \"../input/\" directory.\n",
        "# For example, running this (by clicking run or pressing Shift+Enter) will list the files in the input directory\n",
        "\n",
        "from subprocess import check_output\n",
        "print(check_output([\"ls\", \"../input\"]).decode(\"utf8\"))\n",
        "\n",
        "# Any results you write to the current directory are saved as output."
      ]
    },
    {
      "cell_type": "code",
      "execution_count": null,
      "metadata": {
        "_cell_guid": "8c525868-1869-316a-77bf-60a49877b158"
      },
      "outputs": [],
      "source": [
        "train = pd.read_csv(\"../input/train.csv\")\n",
        "test = pd.read_csv(\"../input/test.csv\")"
      ]
    },
    {
      "cell_type": "code",
      "execution_count": null,
      "metadata": {
        "_cell_guid": "a072297b-80e5-58c0-e702-85758dfe94b7"
      },
      "outputs": [],
      "source": [
        "train.info()"
      ]
    },
    {
      "cell_type": "code",
      "execution_count": null,
      "metadata": {
        "_cell_guid": "e5ae29d8-4e11-604c-7789-fe9abf39c336"
      },
      "outputs": [],
      "source": [
        "train.head()"
      ]
    },
    {
      "cell_type": "code",
      "execution_count": null,
      "metadata": {
        "_cell_guid": "1979fb15-864e-da50-8029-a88e47670dcf"
      },
      "outputs": [],
      "source": [
        "train.describe()"
      ]
    },
    {
      "cell_type": "code",
      "execution_count": null,
      "metadata": {
        "_cell_guid": "4baf6925-5e0c-1bd7-4162-8fb30d59da77"
      },
      "outputs": [],
      "source": [
        "train.isnull().sum().sum()"
      ]
    },
    {
      "cell_type": "code",
      "execution_count": null,
      "metadata": {
        "_cell_guid": "cf1f6a43-d8a1-76af-070c-3e452d7b8453"
      },
      "outputs": [],
      "source": [
        "cat_column = train.columns[train.dtypes == 'object']\n",
        "con_column = train.columns[train.dtypes == 'float']\n"
      ]
    },
    {
      "cell_type": "code",
      "execution_count": null,
      "metadata": {
        "_cell_guid": "344a5001-d989-ae89-3cd4-a0bc0bbda896"
      },
      "outputs": [],
      "source": [
        "corr = train[con_column].corr()\n",
        "lbl = list(train[con_column])\n",
        "\n",
        "fig = plt.figure()\n",
        "ax = fig.add_subplot(111)\n",
        "cax = ax.matshow(corr, interpolation='nearest')\n",
        "fig.colorbar(cax)\n",
        "\n",
        "ax.set_xticklabels(['']+lbl[0:16:2])\n",
        "ax.set_yticklabels(['']+lbl[0:16:2])\n",
        "\n",
        "plt.show()\n"
      ]
    },
    {
      "cell_type": "code",
      "execution_count": null,
      "metadata": {
        "_cell_guid": "f540f61e-fae7-e372-6dc2-9fabc99be5cd"
      },
      "outputs": [],
      "source": [
        "#new additional columns if i use one hot encoder\n",
        "sum([len(train[colname].unique()) for colname in cat_column])"
      ]
    },
    {
      "cell_type": "code",
      "execution_count": null,
      "metadata": {
        "_cell_guid": "8eb4fd69-83a4-467b-6332-fafdb937a87d"
      },
      "outputs": [],
      "source": [
        "sum([len(train[colname].unique()) for colname in cat_column])"
      ]
    }
  ],
  "metadata": {
    "_change_revision": 0,
    "_is_fork": false,
    "kernelspec": {
      "display_name": "Python 3",
      "language": "python",
      "name": "python3"
    },
    "language_info": {
      "codemirror_mode": {
        "name": "ipython",
        "version": 3
      },
      "file_extension": ".py",
      "mimetype": "text/x-python",
      "name": "python",
      "nbconvert_exporter": "python",
      "pygments_lexer": "ipython3",
      "version": "3.5.2"
    }
  },
  "nbformat": 4,
  "nbformat_minor": 0
}