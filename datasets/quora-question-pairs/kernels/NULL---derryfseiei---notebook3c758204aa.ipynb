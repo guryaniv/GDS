{
  "cells": [
    {
      "cell_type": "markdown",
      "metadata": {
        "_cell_guid": "ca6ad12b-48ae-a54d-4138-060d7ee040f6"
      },
      "source": [
        "Features Extraction"
      ]
    },
    {
      "cell_type": "code",
      "execution_count": null,
      "metadata": {
        "_cell_guid": "eab5fd01-7bd8-699d-73f5-69d5bd37d8c8"
      },
      "outputs": [],
      "source": [
        "import pandas as pd\n",
        "import numpy as np\n",
        "import nltk\n",
        "from nltk.corpus import stopwords\n",
        "from nltk.stem import SnowballStemmer\n",
        "import re\n",
        "from string import punctuation"
      ]
    },
    {
      "cell_type": "code",
      "execution_count": null,
      "metadata": {
        "_cell_guid": "7565f379-9887-7c91-fab8-9a188dd7a519"
      },
      "outputs": [],
      "source": [
        "train = pd.read_csv(\"../input/train.csv\")[:100]\n",
        "test = pd.read_csv(\"../input/test.csv\")[:100]"
      ]
    },
    {
      "cell_type": "code",
      "execution_count": null,
      "metadata": {
        "_cell_guid": "df2ba0b6-d476-c6c1-c375-ef56acca722f"
      },
      "outputs": [],
      "source": [
        "train.info()\n",
        "test.info()"
      ]
    },
    {
      "cell_type": "markdown",
      "metadata": {
        "_cell_guid": "9d025e51-404f-3912-7535-4e20520d216c"
      },
      "source": [
        "Empty vs Null \n",
        "\n",
        "if yourObject is None:  *# if yourObject == None:*\n",
        "    ...\n",
        "\n",
        "if yourString == \"\":  *# if yourString.len() == 0:*\n",
        "    ..."
      ]
    },
    {
      "cell_type": "code",
      "execution_count": null,
      "metadata": {
        "_cell_guid": "b51ed280-0bf4-d55c-277d-6e537b1afa66"
      },
      "outputs": [],
      "source": [
        "#check for any null values\n",
        "print(train.isnull().sum())\n",
        "print(test.isnull().sum())"
      ]
    },
    {
      "cell_type": "code",
      "execution_count": null,
      "metadata": {
        "_cell_guid": "eee5f961-0bd3-1079-8251-4669362e5491"
      },
      "outputs": [],
      "source": [
        "# add the string 'empty' to empty string\n",
        "train = train.fillna('empty')\n",
        "test = test.fillna('empty')"
      ]
    },
    {
      "cell_type": "code",
      "execution_count": null,
      "metadata": {
        "_cell_guid": "277454af-45e2-a018-f77a-138c331cf34e"
      },
      "outputs": [],
      "source": [
        "# Preview some of the "
      ]
    }
  ],
  "metadata": {
    "_change_revision": 0,
    "_is_fork": false,
    "kernelspec": {
      "display_name": "Python 3",
      "language": "python",
      "name": "python3"
    },
    "language_info": {
      "codemirror_mode": {
        "name": "ipython",
        "version": 3
      },
      "file_extension": ".py",
      "mimetype": "text/x-python",
      "name": "python",
      "nbconvert_exporter": "python",
      "pygments_lexer": "ipython3",
      "version": "3.6.0"
    }
  },
  "nbformat": 4,
  "nbformat_minor": 0
}