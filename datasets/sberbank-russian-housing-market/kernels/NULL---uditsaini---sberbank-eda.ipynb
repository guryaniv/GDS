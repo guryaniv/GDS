{
  "cells": [
    {
      "cell_type": "code",
      "execution_count": null,
      "metadata": {
        "_cell_guid": "14654e38-5910-5802-fdfd-aaa6d4de6c37"
      },
      "outputs": [],
      "source": [
        "#invite people for the Kaggle party\n",
        "import pandas as pd\n",
        "import matplotlib.pyplot as plt\n",
        "import seaborn as sns\n",
        "import numpy as np\n",
        "from scipy.stats import norm\n",
        "from sklearn.preprocessing import StandardScaler\n",
        "from scipy import stats\n",
        "import warnings\n",
        "from sklearn import model_selection, preprocessing\n",
        "import xgboost as xgb\n",
        "color = sns.color_palette()\n",
        "warnings.filterwarnings('ignore')\n",
        "pd.options.display.max_columns=999\n",
        "from pylab import rcParams\n",
        "rcParams['figure.figsize'] = 12, 6\n",
        "%matplotlib inline"
      ]
    },
    {
      "cell_type": "code",
      "execution_count": null,
      "metadata": {
        "_cell_guid": "db39c5c6-6f31-7bf0-3604-b9f48a36cbd0"
      },
      "outputs": [],
      "source": [
        "df_train=pd.read_csv(\"../input/train.csv\")"
      ]
    },
    {
      "cell_type": "code",
      "execution_count": null,
      "metadata": {
        "_cell_guid": "eea375b9-da5e-e69c-7cc8-74087e19d3f7"
      },
      "outputs": [],
      "source": [
        "#number of samples saize in training data\n",
        "df_train.shape"
      ]
    },
    {
      "cell_type": "code",
      "execution_count": null,
      "metadata": {
        "_cell_guid": "07df4228-462d-423d-872d-85badc77a617"
      },
      "outputs": [],
      "source": [
        "df_train.head()"
      ]
    },
    {
      "cell_type": "code",
      "execution_count": null,
      "metadata": {
        "_cell_guid": "9ef1e0ea-d022-cca7-796d-8c6384d493ff"
      },
      "outputs": [],
      "source": [
        "df_train.price_doc.describe()"
      ]
    },
    {
      "cell_type": "code",
      "execution_count": null,
      "metadata": {
        "_cell_guid": "6824fc60-782f-06d1-fcc4-9696cc85750a"
      },
      "outputs": [],
      "source": [
        "#skewness and kurtosis\n",
        "print(\"Skewness: %f\" % df_train['price_doc'].skew())\n",
        "print(\"Kurtosis: %f\" % df_train['price_doc'].kurt())"
      ]
    },
    {
      "cell_type": "code",
      "execution_count": null,
      "metadata": {
        "_cell_guid": "962af428-f4f1-ba36-3c4e-0b00f23a97c4"
      },
      "outputs": [],
      "source": [
        "print(\"missing values in each features\")\n",
        "df_train.isnull().sum()"
      ]
    },
    {
      "cell_type": "code",
      "execution_count": null,
      "metadata": {
        "_cell_guid": "57600db3-9299-827b-1877-cdbab9c46fbf"
      },
      "outputs": [],
      "source": [
        "#transection treands by time\n",
        "import matplotlib.pyplot as plt \n",
        "rcParams['figure.figsize'] = 12, 6\n",
        "df_train.groupby('timestamp').size().plot(kind='line',title=\"Transection treands by time\");\n",
        "plt.ylabel('Nuber Of Transection')\n",
        "plt.show()\n",
        "#Their si peak in the end of 2015 for number of transection"
      ]
    },
    {
      "cell_type": "code",
      "execution_count": null,
      "metadata": {
        "_cell_guid": "9146514b-73da-0e97-53c7-ecbe67475709"
      },
      "outputs": [],
      "source": [
        "#histogram of target varivale\n",
        "sns.distplot(df_train['price_doc']);"
      ]
    },
    {
      "cell_type": "code",
      "execution_count": null,
      "metadata": {
        "_cell_guid": "f98247da-5af8-0012-56f5-43daf0baa172"
      },
      "outputs": [],
      "source": [
        "#Deviate from the normal distribution.\n",
        "#Have appreciable positive skewness\n",
        "\n",
        "#skewness and kurtosis\n",
        "print(\"Skewness: %f\" % df_train['price_doc'].skew())\n",
        "print(\"Kurtosis: %f\" % df_train['price_doc'].kurt())"
      ]
    },
    {
      "cell_type": "code",
      "execution_count": null,
      "metadata": {
        "_cell_guid": "25897bac-d772-85a1-32f3-02628e3ddd88"
      },
      "outputs": [],
      "source": [
        "#histogram of target varivale\n",
        "rcParams['figure.figsize'] = 12, 6\n",
        "sns.distplot(np.log1p(df_train['price_doc']));"
      ]
    },
    {
      "cell_type": "markdown",
      "metadata": {
        "_cell_guid": "04048a54-3232-7554-c599-f7abbd130e69"
      },
      "source": [
        "#now its looks good"
      ]
    },
    {
      "cell_type": "code",
      "execution_count": null,
      "metadata": {
        "_cell_guid": "6b6bb5c8-47b5-dbd2-1f1f-f996a80f1d78"
      },
      "outputs": [],
      "source": [
        "print(\"missing values in each features\")\n",
        "missingvalues=df_train.isnull().sum()\n",
        "missingvalues"
      ]
    },
    {
      "cell_type": "code",
      "execution_count": null,
      "metadata": {
        "_cell_guid": "008eebe9-8cb1-a729-994f-d38ce464bcb3"
      },
      "outputs": [],
      "source": [
        "##lets look at what feature has highest missing values\n",
        "from pylab import rcParams\n",
        "rcParams['figure.figsize'] = 10, 15\n",
        "pd.DataFrame(missingvalues[missingvalues>0]).plot(kind='barh');\n",
        "plt.ylabel('Feature Name')\n",
        "plt.xlabel('missing values count');\n",
        "plt.show()"
      ]
    },
    {
      "cell_type": "code",
      "execution_count": null,
      "metadata": {
        "_cell_guid": "a259afa6-b2e7-6655-651b-8686d4d3b4b8"
      },
      "outputs": [],
      "source": [
        "###lest look at the numerical variables and its correlation with target "
      ]
    },
    {
      "cell_type": "code",
      "execution_count": null,
      "metadata": {
        "_cell_guid": "f4ed1e35-4d73-217e-6018-46f065d45ece"
      },
      "outputs": [],
      "source": [
        "df_train_num=df_train.select_dtypes(exclude=[np.object])\n",
        "nummissingvalues=df_train_num.isnull().sum()\n",
        "col_missingval_lesstehn500=list(nummissingvalues[nummissingvalues<500].index)\n",
        "col_missingval_lesstehn500.remove('id')\n",
        "#col_missingval_lesstehn500.remove('timestamp')\n",
        "\n",
        "##highly correleted vartiables \n",
        "mcorr = df_train_num[col_missingval_lesstehn500].corr().abs()\n",
        "mcorr = mcorr.unstack()\n",
        "mcorr = mcorr.order(kind=\"quicksort\",ascending=False)\n",
        "pd.DataFrame(mcorr).head(10)\n"
      ]
    },
    {
      "cell_type": "markdown",
      "metadata": {
        "_cell_guid": "4362bab6-a9b8-68eb-1580-7a9a0ca2d34c"
      },
      "source": [
        "## its look like lots of features have high correlation to each other multi coliniarity "
      ]
    },
    {
      "cell_type": "code",
      "execution_count": null,
      "metadata": {
        "_cell_guid": "c5e765e1-9b17-2060-6f32-3d8898e0d612"
      },
      "outputs": [],
      "source": [
        "#high correleted variables with price_doc/target column with sorted order\n",
        "targetcorr=pd.DataFrame(mcorr['price_doc'][1:])\n",
        "targetcorr.columns=['correlation']\n",
        "targetcorr.head(10)"
      ]
    },
    {
      "cell_type": "code",
      "execution_count": null,
      "metadata": {
        "_cell_guid": "9a5435a4-4a44-78b9-d512-6ee9da0e3658"
      },
      "outputs": [],
      "source": [
        "#Relationship with numerical variables\n",
        "#scatter plot full_sq/price_doc\n",
        "from pylab import rcParams\n",
        "rcParams['figure.figsize'] = 12, 6\n",
        "var = 'full_sq'\n",
        "df_train_num.plot.scatter(x=var, y='price_doc');"
      ]
    },
    {
      "cell_type": "code",
      "execution_count": null,
      "metadata": {
        "_cell_guid": "8b331e9a-713c-fed9-be21-f2c13b125aba"
      },
      "outputs": [],
      "source": [
        "#Relationship with numerical variables\n",
        "#scatter plot sport_count_5000\t/price_doc\n",
        "var = 'sport_count_5000'\n",
        "df_train_num.plot.scatter(x=var, y='price_doc');"
      ]
    },
    {
      "cell_type": "code",
      "execution_count": null,
      "metadata": {
        "_cell_guid": "073ec6c6-1e12-1c13-9ec2-b811820f067c"
      },
      "outputs": [],
      "source": [
        "#Relationship with numerical variables\n",
        "#scatter plot sport_count_3000\t/price_doc\n",
        "var = 'sport_count_3000'\n",
        "df_train_num.plot.scatter(x=var, y='price_doc');"
      ]
    },
    {
      "cell_type": "code",
      "execution_count": null,
      "metadata": {
        "_cell_guid": "89c2b7ce-05ae-a679-8a97-24329c2171df"
      },
      "outputs": [],
      "source": [
        "#Relationship with numerical variables\n",
        "#scatter plot trc_count_5000\t/price_doc\n",
        "var = 'trc_count_5000'\n",
        "df_train_num.plot.scatter(x=var, y='price_doc');"
      ]
    },
    {
      "cell_type": "code",
      "execution_count": null,
      "metadata": {
        "_cell_guid": "bd368e3d-e666-5895-1601-f64802c4e3e0"
      },
      "outputs": [],
      "source": [
        "#Relationship with numerical variables\n",
        "#scatter plot zd_vokzaly_avto_km\t/price_doc\n",
        "var = 'zd_vokzaly_avto_km'\n",
        "df_train_num.plot.scatter(x=var, y='price_doc');"
      ]
    },
    {
      "cell_type": "code",
      "execution_count": null,
      "metadata": {
        "_cell_guid": "1f0b2d2c-8b36-67e9-7045-396dc01bcf61"
      },
      "outputs": [],
      "source": [
        "#Relationship with numerical variables\n",
        "#scatter plot zd_vokzaly_avto_km\t/price_doc\n",
        "var = 'sadovoe_km'\n",
        "df_train_num.plot.scatter(x=var, y='price_doc');"
      ]
    },
    {
      "cell_type": "code",
      "execution_count": null,
      "metadata": {
        "_cell_guid": "c18c550a-1fae-b158-e477-f9e5d68f53c8"
      },
      "outputs": [],
      "source": [
        "#Relationship with numerical variables\n",
        "#scatter plot zd_vokzaly_avto_km\t/price_doc\n",
        "var = 'kremlin_km'\n",
        "df_train_num.plot.scatter(x=var, y='price_doc');"
      ]
    },
    {
      "cell_type": "code",
      "execution_count": null,
      "metadata": {
        "_cell_guid": "7a884fb7-a840-73b4-0c91-7edfbea70136"
      },
      "outputs": [],
      "source": [
        "#Relationship with numerical variables\n",
        "#scatter plot zd_vokzaly_avto_km\t/price_doc\n",
        "var = 'bulvar_ring_km'\n",
        "df_train_num.plot.scatter(x=var, y='price_doc');"
      ]
    },
    {
      "cell_type": "code",
      "execution_count": null,
      "metadata": {
        "_cell_guid": "e3324c89-1bbe-a0b9-2b9a-30fa0ab4ee29"
      },
      "outputs": [],
      "source": [
        "#Relationship with numerical variables\n",
        "#scatter plot zd_vokzaly_avto_km\t/price_doc\n",
        "var = 'sport_count_2000'\n",
        "df_train_num.plot.scatter(x=var, y='price_doc');"
      ]
    },
    {
      "cell_type": "code",
      "execution_count": null,
      "metadata": {
        "_cell_guid": "2830d4e0-14c9-6c22-65b6-1ad5af79567e"
      },
      "outputs": [],
      "source": [
        "#Relationship with numerical variables\n",
        "#scatter plot zd_vokzaly_avto_km\t/price_doc\n",
        "var = 'ttk_km'\n",
        "df_train_num.plot.scatter(x=var, y='price_doc');"
      ]
    },
    {
      "cell_type": "code",
      "execution_count": null,
      "metadata": {
        "_cell_guid": "ea60bd80-5353-9768-8302-6042aff5e411"
      },
      "outputs": [],
      "source": [
        "#correlation of top 40 variables with price_doc\n",
        "corrmat=df_train_num[targetcorr.head(30).index].corr()\n",
        "f, ax = plt.subplots(figsize=(12, 9))\n",
        "sns.heatmap(corrmat, vmax=.8, square=True);"
      ]
    },
    {
      "cell_type": "markdown",
      "metadata": {
        "_cell_guid": "b3146fd0-492a-24ed-fd1d-b70b04571c2b"
      },
      "source": [
        "### Their is high correclation in features which have good correction with the target "
      ]
    },
    {
      "cell_type": "code",
      "execution_count": null,
      "metadata": {
        "_cell_guid": "cb3b4623-e72b-9d58-e8ce-3b7b9da5fed6"
      },
      "outputs": [],
      "source": [
        "col=list(df_train.select_dtypes(include=[np.object]).columns)\n",
        "rcParams['figure.figsize'] = 12, 6\n",
        "#Relationship with categorical features\n",
        "#box plot sub_area/price_doc\n",
        "var = 'sub_area'\n",
        "sns.boxplot(x=var, y=\"price_doc\", data=df_train);"
      ]
    },
    {
      "cell_type": "code",
      "execution_count": null,
      "metadata": {
        "_cell_guid": "af822ec2-eefa-031a-b329-36ea74103074"
      },
      "outputs": [],
      "source": [
        "#Relationship with categorical features\n",
        "#box plot product_type/price_doc\n",
        "var = 'product_type'\n",
        "sns.violinplot(x=var, y=\"price_doc\", data=df_train);"
      ]
    },
    {
      "cell_type": "code",
      "execution_count": null,
      "metadata": {
        "_cell_guid": "9fd0fae7-73f7-8a0d-6a20-703d9784525a"
      },
      "outputs": [],
      "source": [
        "#Relationship with categorical features\n",
        "#box plot ecology/price_doc\n",
        "var = 'ecology'\n",
        "sns.violinplot(x=var, y=\"price_doc\", data=df_train);"
      ]
    },
    {
      "cell_type": "code",
      "execution_count": null,
      "metadata": {
        "_cell_guid": "0aa997cb-a957-6813-af4c-dcddaa9f3ae6"
      },
      "outputs": [],
      "source": [
        "#Relationship with categorical features\n",
        "#box plot railroad_terminal_raion/price_doc\n",
        "var = 'railroad_terminal_raion'\n",
        "sns.violinplot(x=var, y=\"price_doc\", data=df_train);"
      ]
    },
    {
      "cell_type": "code",
      "execution_count": null,
      "metadata": {
        "_cell_guid": "cc4aec28-820f-9115-9cf5-75e2f58089ed"
      },
      "outputs": [],
      "source": [
        "#Relationship with categorical features\n",
        "#box plot product_type/price_doc\n",
        "var = 'culture_objects_top_25'\n",
        "sns.violinplot(x=var, y=\"price_doc\", data=df_train);"
      ]
    },
    {
      "cell_type": "code",
      "execution_count": null,
      "metadata": {
        "_cell_guid": "1be16aab-b333-1fa1-467f-9dd0bc5a1e32"
      },
      "outputs": [],
      "source": [
        "#source https://www.kaggle.com/sudalairajkumar/sberbank-russian-housing-market/simple-exploration-notebook-sberbank\n",
        "for f in df_train.columns:\n",
        "    if df_train[f].dtype=='object':\n",
        "        lbl = preprocessing.LabelEncoder()\n",
        "        lbl.fit(list(df_train[f].values)) \n",
        "        df_train[f] = lbl.transform(list(df_train[f].values))\n",
        "        \n",
        "train_y = df_train.price_doc.values\n",
        "train_X = df_train.drop([\"id\", \"timestamp\", \"price_doc\"], axis=1)\n",
        "\n",
        "xgb_params = {\n",
        "    'eta': 0.05,\n",
        "    'max_depth': 8,\n",
        "    'subsample': 0.7,\n",
        "    'colsample_bytree': 0.7,\n",
        "    'objective': 'reg:linear',\n",
        "    'eval_metric': 'rmse',\n",
        "    'silent': 1\n",
        "}\n",
        "dtrain = xgb.DMatrix(train_X, train_y, feature_names=train_X.columns.values)\n",
        "model = xgb.train(dict(xgb_params, silent=0), dtrain, num_boost_round=100)\n",
        "\n",
        "# plot the important features #\n",
        "fig, ax = plt.subplots(figsize=(12,18))\n",
        "xgb.plot_importance(model, max_num_features=50, height=0.8, ax=ax)\n",
        "plt.show()"
      ]
    }
  ],
  "metadata": {
    "_change_revision": 0,
    "_is_fork": false,
    "kernelspec": {
      "display_name": "Python 3",
      "language": "python",
      "name": "python3"
    },
    "language_info": {
      "codemirror_mode": {
        "name": "ipython",
        "version": 3
      },
      "file_extension": ".py",
      "mimetype": "text/x-python",
      "name": "python",
      "nbconvert_exporter": "python",
      "pygments_lexer": "ipython3",
      "version": "3.6.0"
    }
  },
  "nbformat": 4,
  "nbformat_minor": 0
}