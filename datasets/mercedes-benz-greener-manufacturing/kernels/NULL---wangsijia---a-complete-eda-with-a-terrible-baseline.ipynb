{
  "cells": [
    {
      "cell_type": "markdown",
      "metadata": {
        "_cell_guid": "26d06f61-5aa2-66fd-46cf-5982d28d3c69"
      },
      "source": [
        "Documenting some of my thoughts while doing Exploratory Data Analysis for this competition. Hopefully it will inspire some ideas.\n",
        "\n",
        "\n",
        "----------"
      ]
    },
    {
      "cell_type": "code",
      "execution_count": null,
      "metadata": {
        "_cell_guid": "6a552807-7b8c-ce02-68ee-ff91d6ef8deb"
      },
      "outputs": [],
      "source": [
        "import numpy as np\n",
        "import pandas as pd\n",
        "import matplotlib.pyplot as plt\n",
        "import seaborn as sns\n",
        "sns.set()\n",
        "%matplotlib inline"
      ]
    },
    {
      "cell_type": "code",
      "execution_count": null,
      "metadata": {
        "_cell_guid": "7ce1bcdf-7e06-d0a8-9192-e0826cfd01ac"
      },
      "outputs": [],
      "source": [
        "train = pd.read_csv('../input/train.csv')\n",
        "test = pd.read_csv('../input/test.csv')"
      ]
    },
    {
      "cell_type": "markdown",
      "metadata": {
        "_cell_guid": "8847410b-bec0-46a5-af96-b430a03b6bff"
      },
      "source": [
        "**How many variables and what are they?**"
      ]
    },
    {
      "cell_type": "code",
      "execution_count": null,
      "metadata": {
        "_cell_guid": "edea6183-63be-f44a-961a-f31448d35006"
      },
      "outputs": [],
      "source": [
        "train.shape"
      ]
    },
    {
      "cell_type": "code",
      "execution_count": null,
      "metadata": {
        "_cell_guid": "d75a77a0-e566-5e9e-38d0-bff930649520"
      },
      "outputs": [],
      "source": [
        "test.shape"
      ]
    },
    {
      "cell_type": "markdown",
      "metadata": {
        "_cell_guid": "b0f9e367-f17e-1075-86ed-35efb3e7bf72"
      },
      "source": [
        "Interesting. Same number of observations for train and test data. Any missing values?"
      ]
    },
    {
      "cell_type": "code",
      "execution_count": null,
      "metadata": {
        "_cell_guid": "810daa9c-2f4e-f970-f851-a8289386e18b"
      },
      "outputs": [],
      "source": [
        "train.isnull().sum().value_counts()"
      ]
    },
    {
      "cell_type": "code",
      "execution_count": null,
      "metadata": {
        "_cell_guid": "ff38f2f8-5918-32f7-459c-7778f0409b05"
      },
      "outputs": [],
      "source": [
        "import missingno as mn\n",
        "mn.matrix(train)"
      ]
    },
    {
      "cell_type": "markdown",
      "metadata": {
        "_cell_guid": "3b5c8729-eeb5-4977-57d5-c061a9820d46"
      },
      "source": [
        "Looks like there are no missing values unless they are coded differently. Nice clean data. Curious what are they?"
      ]
    },
    {
      "cell_type": "code",
      "execution_count": null,
      "metadata": {
        "_cell_guid": "937d5d7d-b9ec-9126-9401-bb331e2a10b1"
      },
      "outputs": [],
      "source": [
        "train.dtypes.value_counts()"
      ]
    },
    {
      "cell_type": "markdown",
      "metadata": {
        "_cell_guid": "c6c0d61e-443f-b15b-7c4c-b2913342e6b7"
      },
      "source": [
        "One float type variable. 8 Object - Categorical variable. 369 variables of integer type - guess there are quite a number of indicator variables inside. Let's check out."
      ]
    },
    {
      "cell_type": "code",
      "execution_count": null,
      "metadata": {
        "_cell_guid": "8a018025-61c5-eb03-a146-dc4b9519c444"
      },
      "outputs": [],
      "source": [
        "summary = train.describe().transpose()\n",
        "summary[(summary['min']==0)&(summary['max']==1)].head()"
      ]
    },
    {
      "cell_type": "code",
      "execution_count": null,
      "metadata": {
        "_cell_guid": "7dd5dfd6-0685-c3ea-7818-e81ebaaefed4"
      },
      "outputs": [],
      "source": [
        "summary[(summary['min']==0)&(summary['max']==1)].shape"
      ]
    },
    {
      "cell_type": "markdown",
      "metadata": {
        "_cell_guid": "79534bae-e4b4-59e5-973e-99bad61d11cd"
      },
      "source": [
        "So likely there are 356/369 indicator variables as they are integer type with only 0 and 1. Wondering what about the rest 369 - 356 = 13 variables. If we exclude ID, it will be 12."
      ]
    },
    {
      "cell_type": "code",
      "execution_count": null,
      "metadata": {
        "_cell_guid": "0604dcb5-0892-2d1f-69c9-c2ca28085949"
      },
      "outputs": [],
      "source": [
        "summary[summary['std']==0]"
      ]
    },
    {
      "cell_type": "markdown",
      "metadata": {
        "_cell_guid": "071e9b62-020e-5350-5ba7-c0ae072ccdff"
      },
      "source": [
        "So the other 12 variables are all just zeros. This is very suprising as wondering why it is included in the dataset at all. Curious to see if they have similar distribution in the test dataset."
      ]
    },
    {
      "cell_type": "code",
      "execution_count": null,
      "metadata": {
        "_cell_guid": "a6153280-4daa-d00f-6bb4-5509dc17498b"
      },
      "outputs": [],
      "source": [
        "summary_test = test.describe().transpose()\n",
        "summary_test[summary_test['std']==0]"
      ]
    },
    {
      "cell_type": "code",
      "execution_count": null,
      "metadata": {
        "_cell_guid": "aebfe772-1d98-cc9b-c396-fd76fdf91437"
      },
      "outputs": [],
      "source": [
        "summary.loc[['X257','X258','X295','X296','X369']]"
      ]
    },
    {
      "cell_type": "markdown",
      "metadata": {
        "_cell_guid": "62d90081-5e1e-e064-87c3-ff5ab7f90766"
      },
      "source": [
        "Note that test has a different set of variables with zero standard deviation but all of them have extremely low mean values showing that there are very few positive observations. Such differences between train set and test set suggests that we need to be very careful with those variables. On another note, this shows that the it is impossible to create a perfect similar training set and test set. We may be able to use the differences to our advantage in creative ways or at least should be cautious about it."
      ]
    },
    {
      "cell_type": "markdown",
      "metadata": {
        "_cell_guid": "c7c9b258-0ce2-101e-bd0d-7ccacc555755"
      },
      "source": [
        "Now let's look closely at each of the variable types. Start with float as there is only one of such type and it is the outcome variable."
      ]
    },
    {
      "cell_type": "code",
      "execution_count": null,
      "metadata": {
        "_cell_guid": "fcb6b139-6a72-103d-6d88-eeb71d1e123a"
      },
      "outputs": [],
      "source": [
        "plt.hist(train['y'],bins=50)"
      ]
    },
    {
      "cell_type": "markdown",
      "metadata": {
        "_cell_guid": "cc5c0939-a599-14e2-3793-1040ae3e944b"
      },
      "source": [
        "Interesting bipolar? distribution with a bit long tail and outliers. May consider transformations. Let's look at categorical variables."
      ]
    },
    {
      "cell_type": "markdown",
      "metadata": {
        "_cell_guid": "81a16ede-9f31-eef8-1ec0-7efeaaaf81ef"
      },
      "source": [
        "**Categorical Variables**"
      ]
    },
    {
      "cell_type": "code",
      "execution_count": null,
      "metadata": {
        "_cell_guid": "8bfeadd7-4f56-0d65-e6d2-9805a61e5987"
      },
      "outputs": [],
      "source": [
        "cat = train.select_dtypes(include=['object'])\n",
        "cat.head()"
      ]
    },
    {
      "cell_type": "code",
      "execution_count": null,
      "metadata": {
        "_cell_guid": "3beda606-a0cc-4e8d-8b16-b813a5b61023"
      },
      "outputs": [],
      "source": [
        "fig,ax = plt.subplots(8,2,figsize=(30,20))\n",
        "fig.tight_layout()\n",
        "for i in range(8):\n",
        "    sns.countplot(cat.iloc[:,i],ax=ax[i,0])\n",
        "    sns.boxplot(x=cat.iloc[:,i],y=train['y'],ax=ax[i,1])"
      ]
    },
    {
      "cell_type": "markdown",
      "metadata": {
        "_cell_guid": "1956b29a-f160-0d42-9ce1-3e9891bce75f"
      },
      "source": [
        "Some variables have a lot of categories with few observations. \n",
        "Some quick observations:\n",
        "X1 - 'aa' has very few values but very high y value. If it is outlier,likely to impact the predictions. \n",
        "X4 - majority lies in 'd',a,b,c almost have zero counts.\n",
        "X8 - Relatively even distribution of both counts of each category and associated y values compared with other categorial variables.\n",
        "Consider dimention reduction to reduce number of groups - either based on simple rules such as group those with few observations together or use other tricks such as those in neural networks. Another possibility as discussed earlier is to try to compare with test data distribution to identify categories of interest for small observations.\n",
        "Next let's move on to those indicator variables"
      ]
    },
    {
      "cell_type": "markdown",
      "metadata": {
        "_cell_guid": "0939782c-2efa-0ad0-b47b-cc8dd79341bd"
      },
      "source": [
        "**Indicator Variables**"
      ]
    },
    {
      "cell_type": "code",
      "execution_count": null,
      "metadata": {
        "_cell_guid": "248afca8-538b-9faa-a613-60103e2456b4"
      },
      "outputs": [],
      "source": [
        "ind = train.select_dtypes(include=['int64']).drop('ID',axis=1)\n",
        "ind.head()"
      ]
    },
    {
      "cell_type": "markdown",
      "metadata": {
        "_cell_guid": "53976941-56dc-4f26-f586-fd14dc9d6a48"
      },
      "source": [
        "Let's first see if some variables are correlated."
      ]
    },
    {
      "cell_type": "code",
      "execution_count": null,
      "metadata": {
        "_cell_guid": "72a5234d-e6ce-e2a1-b2df-b3d73ac5c887"
      },
      "outputs": [],
      "source": [
        "plt.figure(figsize=(10,10))\n",
        "sns.heatmap(ind.corr())"
      ]
    },
    {
      "cell_type": "markdown",
      "metadata": {
        "_cell_guid": "37f11038-9067-f304-74c8-8ea22788d4a4"
      },
      "source": [
        "It seems some a bit messy. Let's see if PCA could help to reduce the dimentions a bit."
      ]
    },
    {
      "cell_type": "code",
      "execution_count": null,
      "metadata": {
        "_cell_guid": "8d7fa615-a97d-6a28-4618-24224340cdda"
      },
      "outputs": [],
      "source": [
        "from sklearn.decomposition import PCA\n",
        "pca = PCA().fit(ind)\n",
        "plt.plot(np.cumsum(pca.explained_variance_ratio_)[0:50])\n",
        "plt.xlabel('number of components')\n",
        "plt.ylabel('cumulative explained variance')"
      ]
    },
    {
      "cell_type": "markdown",
      "metadata": {
        "_cell_guid": "fd9e118d-7224-ce19-7a3f-e6b8ec3a361b"
      },
      "source": [
        "It seems that 20-50 components could explain around 80% to 90% of the variance, which is quite a bit reduction, 10%-20% of the original 368 variables. Therefore maybe worth trying."
      ]
    },
    {
      "cell_type": "markdown",
      "metadata": {
        "_cell_guid": "920cacf2-fcc8-350b-891c-5032adec08a7"
      },
      "source": [
        "For curiosity, let's see if any of the variables form clusters."
      ]
    },
    {
      "cell_type": "code",
      "execution_count": null,
      "metadata": {
        "_cell_guid": "6b2ffce7-92d4-f719-3549-67f98037aa90"
      },
      "outputs": [],
      "source": [
        "pca = PCA(n_components=30)\n",
        "pca.fit(ind)\n",
        "x_pca = pca.transform(ind)\n",
        "x_pca.shape"
      ]
    },
    {
      "cell_type": "code",
      "execution_count": null,
      "metadata": {
        "_cell_guid": "32a8bd20-3b98-4e5f-a1b2-f67b10c41590"
      },
      "outputs": [],
      "source": [
        "import time\n",
        "from sklearn.manifold import TSNE\n",
        "n_sne = len(x_pca)\n",
        "time_start = time.time()\n",
        "tsne = TSNE(n_components=2,verbose=1,perplexity=20,n_iter=300)\n",
        "tsne_results = tsne.fit_transform(x_pca)"
      ]
    },
    {
      "cell_type": "code",
      "execution_count": null,
      "metadata": {
        "_cell_guid": "2967cf88-1314-ced4-8518-86f2e5bf1f8d"
      },
      "outputs": [],
      "source": [
        "plt.scatter(tsne_results[:,0],tsne_results[:,1],c=train['y'],edgecolor='None',cmap=plt.cm.get_cmap('rainbow',30))\n",
        "plt.xlabel('component 1')\n",
        "plt.ylabel('component 2')\n",
        "plt.colorbar()"
      ]
    },
    {
      "cell_type": "markdown",
      "metadata": {
        "_cell_guid": "10991c9d-15e7-97ca-6e0d-4e986eaa6d41"
      },
      "source": [
        "Nothing particular interesting other than there is a cluster with y less than 100. Maybe further tuning the variable could shed more insights. T-SNE components could be used as variables as well for initial variable selection"
      ]
    },
    {
      "cell_type": "markdown",
      "metadata": {
        "_cell_guid": "d249b0a7-b5ec-6968-282a-064acdda7fd7"
      },
      "source": [
        "Next, let's see the distribution of each of the 'indicator variables' and how they are correlated with y."
      ]
    },
    {
      "cell_type": "code",
      "execution_count": null,
      "metadata": {
        "_cell_guid": "4d62dd16-db6f-c560-fd19-12e74aa5ffae"
      },
      "outputs": [],
      "source": [
        "col = np.array(ind.columns[ind.std()==0])\n",
        "ind2 = ind.drop(col,axis=1)\n",
        "def myfunction(x):\n",
        "    return np.corrcoef(x,train['y'])[0,1]\n",
        "y_corr = ind2.apply(myfunction,axis=0)\n",
        "x_mean = ind2.apply(np.mean,axis=0)\n",
        "n = np.array(y_corr.index)"
      ]
    },
    {
      "cell_type": "code",
      "execution_count": null,
      "metadata": {
        "_cell_guid": "b439382b-5e69-810f-5ef6-b65ad98460e3"
      },
      "outputs": [],
      "source": [
        "fig = plt.figure(figsize=(15,15))\n",
        "ax = fig.add_subplot(111)\n",
        "plt.scatter(x_mean,y_corr)\n",
        "for i, txt in enumerate(n):\n",
        "    ax.annotate(txt, (x_mean[i],y_corr[i]),fontsize=10)\n",
        "plt.xlabel('Mean')\n",
        "plt.ylabel('Correlation with Y')"
      ]
    },
    {
      "cell_type": "markdown",
      "metadata": {
        "_cell_guid": "7e9929e2-3335-11c6-aca0-127cbe286e15"
      },
      "source": [
        "Intuitively, an indicator variable is potentially very helpful in predicting if it has certain variance and is highly associated with the outcome variable. Say if we narrow the mean to between 0.2 and 0.8 (we don't want too many 0s or 1s) and correlation to be above 0.2 or below -0.2 (significant positive or negative correlation), we find the following variables to be very interesting: X314,X261,X118,X275,X51,X311,X178,X250,X313,X127. We could potentially create interaction terms between them."
      ]
    },
    {
      "cell_type": "markdown",
      "metadata": {
        "_cell_guid": "c9c12a56-8a6c-7b6f-c5a1-cfdb7fe58fff"
      },
      "source": [
        "**Feature importance - What do models say?**"
      ]
    },
    {
      "cell_type": "markdown",
      "metadata": {
        "_cell_guid": "390968e7-ec3b-f695-32ee-bb4b0d4a8de6"
      },
      "source": [
        "Other insights will probably come from modeling - eg Top important variables from Xgboost and Linear Models. Let's find out!"
      ]
    },
    {
      "cell_type": "markdown",
      "metadata": {
        "_cell_guid": "f5d8d209-bd24-3763-ab7e-c0d1e3f4b4d3"
      },
      "source": [
        "First, let me clean up the house a bit - simple one hot encoding for categorical variables"
      ]
    },
    {
      "cell_type": "code",
      "execution_count": null,
      "metadata": {
        "_cell_guid": "e335a6c3-8b82-1ceb-72b9-eaffe2f80f54"
      },
      "outputs": [],
      "source": [
        "cat = train.select_dtypes(['object'])\n",
        "cat_one_hot = pd.get_dummies(cat)"
      ]
    },
    {
      "cell_type": "code",
      "execution_count": null,
      "metadata": {
        "_cell_guid": "462c0281-16ec-6f61-9d01-caca6294e195"
      },
      "outputs": [],
      "source": [
        "cat.shape"
      ]
    },
    {
      "cell_type": "code",
      "execution_count": null,
      "metadata": {
        "_cell_guid": "042010cd-932d-db4a-4061-934d44340d73"
      },
      "outputs": [],
      "source": [
        "cat_one_hot.shape"
      ]
    },
    {
      "cell_type": "code",
      "execution_count": null,
      "metadata": {
        "_cell_guid": "e57dbf3b-4281-85aa-d504-2d4a37938ebd"
      },
      "outputs": [],
      "source": [
        "cat_one_hot.head()"
      ]
    },
    {
      "cell_type": "code",
      "execution_count": null,
      "metadata": {
        "_cell_guid": "37af35c5-b2d3-4b02-c1d7-0fd5cac76d65"
      },
      "outputs": [],
      "source": [
        "cat_one_hot.mean().head()"
      ]
    },
    {
      "cell_type": "markdown",
      "metadata": {
        "_cell_guid": "14d217c8-be51-8b47-6468-d84f0e67c02d"
      },
      "source": [
        "We created 195 indicator variables out of 8 categorical variables. Needless to say, this is a lot and will likely cause problems as we only have 4209 observations for training! As discussed previously, some of them have very few observations and could potentially be dropped/re-grouped. I will come back to this later. Right now let me see what the original variables without any feature engineering could give me."
      ]
    },
    {
      "cell_type": "code",
      "execution_count": null,
      "metadata": {
        "_cell_guid": "65822d13-1573-c092-6778-ec70a3b06d55"
      },
      "outputs": [],
      "source": [
        "train2 = pd.get_dummies(train).drop('ID',axis=1)\n",
        "test2 = pd.get_dummies(test).drop('ID',axis=1)"
      ]
    },
    {
      "cell_type": "code",
      "execution_count": null,
      "metadata": {
        "_cell_guid": "307ad777-3181-c568-880d-e1af4f8c3c2c"
      },
      "outputs": [],
      "source": [
        "train2.shape"
      ]
    },
    {
      "cell_type": "code",
      "execution_count": null,
      "metadata": {
        "_cell_guid": "9acfe5bd-876b-79cb-bd22-fba74c3d205c"
      },
      "outputs": [],
      "source": [
        "test2.shape"
      ]
    },
    {
      "cell_type": "markdown",
      "metadata": {
        "_cell_guid": "105716f9-8e23-c270-843e-d4fa2783b1dc"
      },
      "source": [
        "Interestingly, train set and test set and of different shapes. Let's find out why"
      ]
    },
    {
      "cell_type": "code",
      "execution_count": null,
      "metadata": {
        "_cell_guid": "8b73d277-6111-8f38-a41c-83b498c4a9d3"
      },
      "outputs": [],
      "source": [
        "train2.columns.values[~train2.columns.isin(test2.columns.values)]"
      ]
    },
    {
      "cell_type": "code",
      "execution_count": null,
      "metadata": {
        "_cell_guid": "e1b72857-6152-f896-d806-a6123ddc32de"
      },
      "outputs": [],
      "source": [
        "test2.columns.values[~test2.columns.isin(train2.columns.values)]"
      ]
    },
    {
      "cell_type": "markdown",
      "metadata": {
        "_cell_guid": "1d93c45b-e77b-7a23-6ff2-2c6a679a6d7c"
      },
      "source": [
        "So it appears that those categories with very few observations causes the problem. A simple but maybe naive way is to delete those variables from both. We may look again later in future to see if there is anything we could exploit here."
      ]
    },
    {
      "cell_type": "code",
      "execution_count": null,
      "metadata": {
        "_cell_guid": "549b3a5b-3d07-1b8a-084e-533bcac5bacf"
      },
      "outputs": [],
      "source": [
        "train2 = train2[train2.columns.values[train2.columns.isin(test2.columns.values)]]\n",
        "test2 = test2[test2.columns.values[test2.columns.isin(train2.columns.values)]]"
      ]
    },
    {
      "cell_type": "code",
      "execution_count": null,
      "metadata": {
        "_cell_guid": "9b8e5c11-be60-c425-95ae-6054215a6965"
      },
      "outputs": [],
      "source": [
        "y = train['y']\n",
        "y.shape"
      ]
    },
    {
      "cell_type": "markdown",
      "metadata": {
        "_cell_guid": "08dfa9d7-d1db-1f49-e5e1-7ab0f8ee9c9a"
      },
      "source": [
        "So now we have 553 indicator variables and 1 outcome variable of float type. Let's get ready for modeling. With some many columns and comparably few observations, algorithms with ability to select variables automatically should be considered first. Let's try two popular ones: Tree model - Xgboost;Linear model - Lasso/ElasticNet regression; "
      ]
    },
    {
      "cell_type": "markdown",
      "metadata": {
        "_cell_guid": "7b91a802-996b-c16f-b7b1-86f93a39f319"
      },
      "source": [
        "**Xgboost - \" When in doubt, use Xgboost. \"**"
      ]
    },
    {
      "cell_type": "markdown",
      "metadata": {
        "_cell_guid": "fca5c0da-2526-225d-8a2a-168664545d48"
      },
      "source": [
        "First, let me set up a 10-fold cross-validation for Xgboost - I use random split assuming that the IDs does not contain any time information."
      ]
    },
    {
      "cell_type": "code",
      "execution_count": null,
      "metadata": {
        "_cell_guid": "3ac56e25-1696-7e46-91c0-f58c03cc573f"
      },
      "outputs": [],
      "source": [
        "import xgboost as xgb\n",
        "import sklearn\n",
        "from sklearn import cross_validation\n",
        "from sklearn.metrics import r2_score\n",
        "from sklearn.grid_search import GridSearchCV"
      ]
    },
    {
      "cell_type": "code",
      "execution_count": null,
      "metadata": {
        "_cell_guid": "ba87def9-55b7-aa66-1784-704ccea6db7d"
      },
      "outputs": [],
      "source": [
        "### Very expensive grid search to find good parameters. Commented out for computational purpose.\n",
        "#param_test1 = {\n",
        "# 'max_depth':list(range(3,6,1)),\n",
        "# 'n_estimators':list(range(500,3000,500))\n",
        "# 'learning_rate':list(range(0.005,0.1,0.01))\n",
        "#}\n",
        "#gsearch1 = GridSearchCV(\n",
        "#    estimator = xgb.XGBRegressor(learning_rate =0.005, n_estimators=1000, max_depth=5,min_child_weight=1,subsample=0.95,\n",
        "#                                 objective= 'reg:linear',seed=27), \n",
        "#    param_grid = param_test1, scoring='r2',cv=10)\n",
        "#gsearch1.fit(train2,y)\n",
        "#gsearch1.grid_scores_, gsearch1.best_params_, gsearch1.best_score_"
      ]
    },
    {
      "cell_type": "markdown",
      "metadata": {
        "_cell_guid": "207f5081-f005-50d7-a22a-a59d15b5fed2"
      },
      "source": [
        "CV result for the best combination is ard 0.58 with std 0.1 showing that sample matters a bit here. In below, we manually divide data into 90% training and 10% testing, for that particular split, r square is only ard 0.525."
      ]
    },
    {
      "cell_type": "code",
      "execution_count": null,
      "metadata": {
        "_cell_guid": "5527b2d8-ea16-87f5-2ce7-630f6858c534"
      },
      "outputs": [],
      "source": [
        "X = train2\n",
        "Y = y\n",
        "seed = 1\n",
        "test_size = 0.10 \n",
        "X_train,X_test,y_train,y_test = cross_validation.train_test_split(X,Y,test_size=test_size,random_state=seed) \n",
        "y_mean = np.mean(y_train)"
      ]
    },
    {
      "cell_type": "code",
      "execution_count": null,
      "metadata": {
        "_cell_guid": "b1ba0bbc-9666-8185-b08f-a1574d59ed77"
      },
      "outputs": [],
      "source": [
        "model = xgb.XGBRegressor(max_depth=4,learning_rate=0.005,n_estimators=2000,subsample=0.95,\n",
        "                        objective='reg:linear')\n",
        "model.fit(X_train,y_train)\n",
        "print(model)\n",
        "y_pred = model.predict(X_test)\n",
        "r2 = r2_score(y_test,y_pred)\n",
        "print(r2)"
      ]
    },
    {
      "cell_type": "markdown",
      "metadata": {
        "_cell_guid": "c5de194e-5556-41e4-4bf0-0510049e002b"
      },
      "source": [
        "Now let's take a look at the important variables."
      ]
    },
    {
      "cell_type": "code",
      "execution_count": null,
      "metadata": {
        "_cell_guid": "2a2892e0-0770-1f66-f214-96e1bea27066"
      },
      "outputs": [],
      "source": [
        "feat_names = X_train.columns.values\n",
        "feat_imp = model.feature_importances_\n",
        "imp_map = pd.Series(feat_imp,index=feat_names)"
      ]
    },
    {
      "cell_type": "code",
      "execution_count": null,
      "metadata": {
        "_cell_guid": "981a183a-9104-397b-d75f-191043b152df"
      },
      "outputs": [],
      "source": [
        "imp_map.sort_values(ascending=False,inplace=True)\n",
        "top30 = pd.Series(imp_map[0:30]).reset_index()\n",
        "top30.columns = ['Variable','Importance']"
      ]
    },
    {
      "cell_type": "code",
      "execution_count": null,
      "metadata": {
        "_cell_guid": "2fc47680-4331-6df3-aaf9-20c2821df377"
      },
      "outputs": [],
      "source": [
        "plt.figure(figsize=(10,10))\n",
        "sns.barplot(top30['Importance'],top30['Variable'])\n",
        "plt.xlabel('Importance')"
      ]
    },
    {
      "cell_type": "markdown",
      "metadata": {
        "_cell_guid": "65773a88-de27-1735-6c45-f8c43e4d48f3"
      },
      "source": [
        "Further investigation into each of those variables are preferred for potential feature engineering. Now let's move on to linear models for a while."
      ]
    },
    {
      "cell_type": "markdown",
      "metadata": {
        "_cell_guid": "c9772f5c-15ad-196b-5c0c-5e56c501daa7"
      },
      "source": [
        "**Linear Models**"
      ]
    },
    {
      "cell_type": "markdown",
      "metadata": {
        "_cell_guid": "4124a7a8-0b6d-77b0-2b7d-5b563c2f8ec7"
      },
      "source": [
        "Let's see how linear models compare with tree-based models on the original features. In particular, linear models with automatic model selection - Ridge or Lasso. For simplicity, we explore elasti net which uses a combination of L1 and L2 regularizations."
      ]
    },
    {
      "cell_type": "code",
      "execution_count": null,
      "metadata": {
        "_cell_guid": "d6d400ce-4f0f-8448-9054-ac51470ee2a9"
      },
      "outputs": [],
      "source": [
        "from sklearn.linear_model import ElasticNet"
      ]
    },
    {
      "cell_type": "code",
      "execution_count": null,
      "metadata": {
        "_cell_guid": "4ad94ec7-4758-347a-9ee3-1eda1916530d"
      },
      "outputs": [],
      "source": [
        "#param_test2 = {\n",
        "# 'l1_ratio':list(np.arange(0,1,0.3))\n",
        "#}\n",
        "#gsearch2 = GridSearchCV(\n",
        "#    estimator = ElasticNet(l1_ratio=0,fit_intercept=True,max_iter=5000), \n",
        "#    param_grid = param_test2, scoring='r2',cv=10)\n",
        "#gsearch2.fit(train2,y)\n",
        "#gsearch2.grid_scores_, gsearch2.best_params_"
      ]
    },
    {
      "cell_type": "markdown",
      "metadata": {
        "_cell_guid": "3156b22c-0164-a3ee-953a-f15f9a6a74a4"
      },
      "source": [
        "Cross validation shows that lasso is the best option giving a r2 ard 0.4 - much worse than xgboost suggesting that there are interactions between variables. Let's see what are the variables with largest (absolute value of) positive and negative coefficients!"
      ]
    },
    {
      "cell_type": "code",
      "execution_count": null,
      "metadata": {
        "_cell_guid": "611ace6e-eecf-f306-38e0-36623699b07a"
      },
      "outputs": [],
      "source": [
        "model2 = ElasticNet(l1_ratio=0,max_iter=5000)\n",
        "model2.fit(X_train,y_train)\n",
        "print(model2)\n",
        "y_pred = model2.predict(X_test)\n",
        "r2 = r2_score(y_test,y_pred)\n",
        "print(r2)"
      ]
    },
    {
      "cell_type": "code",
      "execution_count": null,
      "metadata": {
        "_cell_guid": "c2775258-66ec-711c-c5eb-147d65614ed2"
      },
      "outputs": [],
      "source": [
        "coef = model2.coef_\n",
        "variable = train2.columns.values\n",
        "var_coef = pd.DataFrame(pd.Series(coef,index=variable)).reset_index()\n",
        "var_coef.columns = ['Variable','Coefficient']\n",
        "var_coef['Abs_Coef'] = np.abs(var_coef['Coefficient'])\n",
        "var_coef.sort_values('Abs_Coef',ascending=False,inplace=True)\n",
        "var_coef['Sign'] = 'Neg'\n",
        "var_coef['Sign'][var_coef['Coefficient']>0] = 'Pos'"
      ]
    },
    {
      "cell_type": "code",
      "execution_count": null,
      "metadata": {
        "_cell_guid": "88afdef0-c6eb-981e-4128-828f227f2700"
      },
      "outputs": [],
      "source": [
        "lasso_top30 = var_coef[0:30]"
      ]
    },
    {
      "cell_type": "code",
      "execution_count": null,
      "metadata": {
        "_cell_guid": "ad02acf5-fb55-c468-44a6-0f70d595280e"
      },
      "outputs": [],
      "source": [
        "plt.figure(figsize=(8,8))\n",
        "sns.pointplot(lasso_top30['Abs_Coef'],lasso_top30['Variable'],hue=lasso_top30['Sign'],join=False)\n",
        "plt.xlabel('Coefficient')"
      ]
    },
    {
      "cell_type": "markdown",
      "metadata": {
        "_cell_guid": "da48080a-7594-a56c-0617-b46ba4687226"
      },
      "source": [
        "Note that the top30 from xgboost and top30 from lasso are quite different. Let's take a detailed look."
      ]
    },
    {
      "cell_type": "code",
      "execution_count": null,
      "metadata": {
        "_cell_guid": "bde30579-d85d-2219-2c9f-40e67e2de849"
      },
      "outputs": [],
      "source": [
        "top30['Variable'][top30['Variable'].isin(lasso_top30['Variable'])]"
      ]
    },
    {
      "cell_type": "markdown",
      "metadata": {
        "_cell_guid": "70fa2c00-5777-a3a9-7667-9f9143a09ad6"
      },
      "source": [
        "Only 5 of the top variables overlap!"
      ]
    },
    {
      "cell_type": "markdown",
      "metadata": {
        "_cell_guid": "0a33ec32-cd37-a550-2f2b-ed12c432dd4c"
      },
      "source": [
        "**Concluding Thoughts**"
      ]
    },
    {
      "cell_type": "markdown",
      "metadata": {
        "_cell_guid": "4e1b1d7d-9c7c-4f1d-b3f3-21a3e0636dcb"
      },
      "source": [
        "Personally I feel there are below take aways from this exploratory data analysis: \n",
        "\n",
        " 1. There are quite big number of indicator variables present in the dataset with some of them with very little variance. Given the size of the data, dimention reduction and variable selection is going to be key.\n",
        " 2. Baseline is not terribly bad - my simple Xgboost is ard 0.54 when submitting. The rank is terrible but expected given how little - almost 0 feature engineering I have done for the purpose of EDA. In reality, not sure how much this matters to the host - a gain from 0.54 to 0.57+? \n",
        " 3. Seems this is going to be another feature engineering and model ensemble competition - hopefully this EDA will give you some ideas! This is especially true when we don't know what the variables mean so we sort of have to rely on EDA and modeling experiments to find out. "
      ]
    },
    {
      "cell_type": "markdown",
      "metadata": {
        "_cell_guid": "d6cd99c1-3861-cd4f-e67e-a3138e6985f7"
      },
      "source": [
        ""
      ]
    }
  ],
  "metadata": {
    "_change_revision": 0,
    "_is_fork": false,
    "kernelspec": {
      "display_name": "Python 3",
      "language": "python",
      "name": "python3"
    },
    "language_info": {
      "codemirror_mode": {
        "name": "ipython",
        "version": 3
      },
      "file_extension": ".py",
      "mimetype": "text/x-python",
      "name": "python",
      "nbconvert_exporter": "python",
      "pygments_lexer": "ipython3",
      "version": "3.6.0"
    }
  },
  "nbformat": 4,
  "nbformat_minor": 0
}