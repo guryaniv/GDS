{
  "cells": [
    {
      "cell_type": "markdown",
      "metadata": {
        "_cell_guid": "a52b4978-a4c6-f46e-3808-22e1f96b89db"
      },
      "source": [
        "**`Titanic Disaster Machine Learning Problem`** "
      ]
    },
    {
      "cell_type": "code",
      "execution_count": null,
      "metadata": {
        "_cell_guid": "cfdaacbc-23a3-423d-8d4d-120939ac7383"
      },
      "outputs": [],
      "source": [
        "# Imports\n",
        "\n",
        "# pandas\n",
        "import pandas as pd\n",
        "from pandas import Series,DataFrame\n",
        "\n",
        "# numpy, matplotlib, seaborn\n",
        "import numpy as np\n",
        "import matplotlib.pyplot as plt\n",
        "import seaborn as sns\n",
        "sns.set_style('whitegrid')\n",
        "%matplotlib inline\n",
        "\n",
        "import operator \n",
        "import re \n",
        "\n",
        "# machine learning\n",
        "from sklearn.linear_model import LinearRegression\n",
        "from sklearn.linear_model import LogisticRegression\n",
        "from sklearn.svm import SVC, LinearSVC\n",
        "from sklearn.ensemble import RandomForestClassifier\n",
        "from sklearn.neighbors import KNeighborsClassifier\n",
        "from sklearn.ensemble import GradientBoostingClassifier\n",
        "from sklearn import cross_validation\n",
        "from sklearn.naive_bayes import GaussianNB\n",
        "from sklearn.cross_validation import KFold\n",
        "from sklearn.feature_selection import SelectKBest, f_classif"
      ]
    },
    {
      "cell_type": "code",
      "execution_count": null,
      "metadata": {
        "_cell_guid": "3ab4c525-a5cb-4183-9468-c1dd005c4c78"
      },
      "outputs": [],
      "source": [
        "# get titanic & test csv files as a DataFrame\n",
        "titanic_train = pd.read_csv(\"../input/train.csv\")\n",
        "titanic_test    = pd.read_csv(\"../input/test.csv\")\n",
        "\n",
        "# preview the data\n",
        "titanic_train.head()"
      ]
    },
    {
      "cell_type": "code",
      "execution_count": null,
      "metadata": {
        "_cell_guid": "e9e008a6-6088-4083-7dc4-802237c77ba3"
      },
      "outputs": [],
      "source": [
        "# describe the data \n",
        "titanic_train.describe()"
      ]
    },
    {
      "cell_type": "markdown",
      "metadata": {
        "_cell_guid": "f2922935-b06c-3be9-5b4f-8f98f248b682"
      },
      "source": [
        "Missing values present in Age column. If the rows containing the missing values are removed, information is lost, Hence missing values are replaced with median values of age."
      ]
    },
    {
      "cell_type": "code",
      "execution_count": null,
      "metadata": {
        "_cell_guid": "05abf0fd-e16f-906e-2554-0002cc034a5d"
      },
      "outputs": [],
      "source": [
        "titanic_train[\"Age\"] = titanic_train[\"Age\"].fillna(titanic_train[\"Age\"].median())\n",
        "titanic_train.describe()"
      ]
    },
    {
      "cell_type": "code",
      "execution_count": null,
      "metadata": {
        "_cell_guid": "2be7acc8-1876-e567-1b0b-3783d9aa765b"
      },
      "outputs": [],
      "source": [
        "print(titanic_train[\"Embarked\"].unique())\n",
        "print(titanic_train[\"Sex\"].unique())"
      ]
    },
    {
      "cell_type": "markdown",
      "metadata": {
        "_cell_guid": "e37e8da7-3b8e-5472-f900-51fcd2321372"
      },
      "source": [
        "Missing values present in Embarked column too. And there are non numeric columns like Sex and Embarked. These columns should be changed to numeric so that these data can be fed to machine learning algos."
      ]
    },
    {
      "cell_type": "code",
      "execution_count": null,
      "metadata": {
        "_cell_guid": "cde1f9f3-3bcd-a86a-ff31-d0a97cb3fa79"
      },
      "outputs": [],
      "source": [
        "# Replace missing values in embarked columns and converting non numeric column to numeric columns \n",
        "titanic_train[\"Embarked\"] = titanic_train[\"Embarked\"].fillna('S')\n",
        "\n",
        "# Converting male to 0 and female to 1, converting 'S' to 0, 'C' to 1 and 'Q' to 2 \n",
        "titanic_train.loc[titanic_train[\"Sex\"] == \"male\",\"Sex\"] = 0\n",
        "titanic_train.loc[titanic_train[\"Sex\"] == \"female\",\"Sex\"] = 1\n",
        "\n",
        "titanic_train.loc[titanic_train[\"Embarked\"] =='S',\"Embarked\"] = 0\n",
        "titanic_train.loc[titanic_train[\"Embarked\"] =='C',\"Embarked\"] = 1\n",
        "titanic_train.loc[titanic_train[\"Embarked\"] =='Q',\"Embarked\"] = 2\n",
        "\n",
        "titanic_train.describe()"
      ]
    },
    {
      "cell_type": "code",
      "execution_count": null,
      "metadata": {
        "_cell_guid": "96f1acb4-f0b5-7b80-6061-4acf1ac8a4d5"
      },
      "outputs": [],
      "source": [
        "# Applying Logisitc Regression with Cross Validation \n",
        "\n",
        "predictors = [\"Pclass\", \"Sex\", \"Age\", \"SibSp\", \"Parch\", \"Fare\", \"Embarked\"]\n",
        "\n",
        "alg = LogisticRegression(random_state=1)\n",
        "scores = cross_validation.cross_val_score(alg, titanic_train[predictors], titanic_train[\"Survived\"], cv=3)\n",
        "accuracy = scores.mean()\n",
        "print(accuracy)\n",
        "# Accuracy on training data"
      ]
    },
    {
      "cell_type": "code",
      "execution_count": null,
      "metadata": {
        "_cell_guid": "4a3f96ea-6f9b-067b-1bbc-bf77cd3b2257"
      },
      "outputs": [],
      "source": [
        "# Processing of test data \n",
        "\n",
        "\n",
        "titanic_test[\"Age\"] = titanic_test[\"Age\"].fillna(titanic_test[\"Age\"].median())\n",
        "titanic_test[\"Fare\"] = titanic_test[\"Fare\"].fillna(titanic_test[\"Fare\"].median())\n",
        "titanic_test.loc[titanic_test[\"Sex\"] == \"male\", \"Sex\"] = 0 \n",
        "titanic_test.loc[titanic_test[\"Sex\"] == \"female\", \"Sex\"] = 1\n",
        "titanic_test[\"Embarked\"] = titanic_test[\"Embarked\"].fillna(\"S\")\n",
        "\n",
        "titanic_test.loc[titanic_test[\"Embarked\"] == \"S\", \"Embarked\"] = 0\n",
        "titanic_test.loc[titanic_test[\"Embarked\"] == \"C\", \"Embarked\"] = 1\n",
        "titanic_test.loc[titanic_test[\"Embarked\"] == \"Q\", \"Embarked\"] = 2"
      ]
    },
    {
      "cell_type": "code",
      "execution_count": null,
      "metadata": {
        "_cell_guid": "a3511da8-064b-8e66-b87b-2e16341f68ba"
      },
      "outputs": [],
      "source": [
        "# Testing on test data\n",
        "alg = LogisticRegression(random_state=1)\n",
        "\n",
        "alg.fit(titanic_train[predictors], titanic_train[\"Survived\"])\n",
        "\n",
        "predictions = alg.predict(titanic_test[predictors])\n",
        "##submission = pd.DataFrame({\n",
        "  ##      \"PassengerId\": titanic_test[\"PassengerId\"],\n",
        "    ##    \"Survived\": predictions\n",
        "    ##})\n",
        "\n",
        "##submission.to_csv('titanic.csv', index=False)"
      ]
    },
    {
      "cell_type": "code",
      "execution_count": null,
      "metadata": {
        "_cell_guid": "aa25b36f-86ec-755d-53c1-dd34f4e16197"
      },
      "outputs": [],
      "source": [
        "# Random Forest with Cross Validation \n",
        "\n",
        "alg = RandomForestClassifier(random_state=1, n_estimators=50, min_samples_split=4, min_samples_leaf=2)\n",
        "kf = cross_validation.KFold(titanic_train.shape[0], n_folds=3, random_state=1)\n",
        "scores = cross_validation.cross_val_score(alg, titanic_train[predictors], titanic_train[\"Survived\"], cv=kf)\n",
        "accuracy = scores.mean()\n",
        "print(accuracy)"
      ]
    },
    {
      "cell_type": "code",
      "execution_count": null,
      "metadata": {
        "_cell_guid": "26a92401-266b-9200-23d2-eb26c81a944f"
      },
      "outputs": [],
      "source": [
        "# New Features\n",
        "titanic_train[\"FamilySize\"] = titanic_train[\"SibSp\"] + titanic_train[\"Parch\"]\n",
        "\n",
        "titanic_train[\"NameLength\"] = titanic_train[\"Name\"].apply(lambda x: len(x))"
      ]
    },
    {
      "cell_type": "code",
      "execution_count": null,
      "metadata": {
        "_cell_guid": "f383e3f5-1b50-8992-280b-422fc931be45"
      },
      "outputs": [],
      "source": [
        "# Titles \n",
        "\n",
        "def get_title(name):\n",
        "    title_search = re.search(' ([A-Za-z]+)\\.', name)\n",
        "    if title_search:\n",
        "        return title_search.group(1)\n",
        "    return \"\"\n",
        "\n",
        "titles = titanic_train[\"Name\"].apply(get_title)\n",
        "print(pd.value_counts(titles))\n",
        "\n",
        "title_mapping = {\"Mr\": 1, \"Miss\": 2, \"Mrs\": 3, \"Master\": 4, \"Dr\": 5, \"Rev\": 6, \"Major\": 7, \"Col\": 7, \"Mlle\": 8, \"Mme\": 8, \"Don\": 9, \"Lady\": 10, \"Countess\": 10, \"Jonkheer\": 10, \"Sir\": 9, \"Capt\": 7, \"Ms\": 2}\n",
        "for k,v in title_mapping.items():\n",
        "    titles[titles == k] = v\n",
        "\n",
        "print(pd.value_counts(titles))\n",
        "\n",
        "titanic_train[\"Title\"] = titles"
      ]
    },
    {
      "cell_type": "code",
      "execution_count": null,
      "metadata": {
        "_cell_guid": "beaf7be9-724c-2b11-bb57-5fbe8b3aedb9"
      },
      "outputs": [],
      "source": [
        "# Family Groups\n",
        "\n",
        "family_id_mapping = {}\n",
        "def get_family_id(row):\n",
        "    last_name = row[\"Name\"].split(\",\")[0]\n",
        "    family_id = \"{0}{1}\".format(last_name, row[\"FamilySize\"])\n",
        "    if family_id not in family_id_mapping:\n",
        "        if len(family_id_mapping) == 0:\n",
        "            current_id = 1\n",
        "        else:\n",
        "            current_id = (max(family_id_mapping.items(), key=operator.itemgetter(1))[1] + 1)\n",
        "        family_id_mapping[family_id] = current_id\n",
        "    return family_id_mapping[family_id]\n",
        "\n",
        "family_ids = titanic_train.apply(get_family_id, axis=1)\n",
        "family_ids[titanic_train[\"FamilySize\"] < 3] = -1\n",
        "print(pd.value_counts(family_ids))\n",
        "\n",
        "titanic_train[\"FamilyId\"] = family_ids"
      ]
    },
    {
      "cell_type": "code",
      "execution_count": null,
      "metadata": {
        "_cell_guid": "70c46114-88ee-529d-e1f8-2c6e069461cc"
      },
      "outputs": [],
      "source": [
        "# Finding Best Features\n",
        "\n",
        "predictors = [\"Pclass\", \"Sex\", \"Age\", \"SibSp\", \"Parch\", \"Fare\", \"Embarked\", \"FamilySize\", \"Title\", \"FamilyId\", \"NameLength\"]\n",
        "selector = SelectKBest(f_classif, k=5)\n",
        "selector.fit(titanic_train[predictors], titanic_train[\"Survived\"])\n",
        "\n",
        "scores = -np.log10(selector.pvalues_)\n",
        "plt.bar(range(len(predictors)), scores)\n",
        "plt.xticks(range(len(predictors)), predictors, rotation='vertical')\n",
        "plt.show()\n",
        "predictors = [\"Pclass\", \"Sex\", \"Fare\", \"Title\"]\n",
        "\n",
        "alg = RandomForestClassifier(random_state=1, n_estimators=50, min_samples_split=8, min_samples_leaf=4)\n",
        "kf = cross_validation.KFold(titanic_train.shape[0], n_folds=3, random_state=1)\n",
        "scores = cross_validation.cross_val_score(alg, titanic_train[predictors], titanic_train[\"Survived\"], cv=kf)\n",
        "print(scores.mean())"
      ]
    },
    {
      "cell_type": "code",
      "execution_count": null,
      "metadata": {
        "_cell_guid": "de230d6c-10fb-66e2-5e77-12cb58c26090"
      },
      "outputs": [],
      "source": [
        "# Ensembling \n",
        "\n",
        "algorithms = [\n",
        "    [GradientBoostingClassifier(random_state=1, n_estimators=25, max_depth=3), [\"Pclass\", \"Sex\", \"Age\", \"Fare\", \"Embarked\", \"FamilySize\", \"Title\", \"FamilyId\"]],\n",
        "    [LogisticRegression(random_state=1), [\"Pclass\", \"Sex\", \"Fare\", \"FamilySize\", \"Title\", \"Age\", \"Embarked\"]]\n",
        "]\n",
        "kf = KFold(titanic_train.shape[0], n_folds=3, random_state=1)\n",
        "\n",
        "predictions = []\n",
        "for train, test in kf:\n",
        "    train_target = titanic_train[\"Survived\"].iloc[train]\n",
        "    full_test_predictions = []\n",
        "    for alg, predictors in algorithms:\n",
        "        alg.fit(titanic_train[predictors].iloc[train,:], train_target)\n",
        "        test_predictions = alg.predict_proba(titanic_train[predictors].iloc[test,:].astype(float))[:,1]\n",
        "        full_test_predictions.append(test_predictions)\n",
        "    test_predictions = (full_test_predictions[0] + full_test_predictions[1]) / 2\n",
        "    test_predictions[test_predictions <= .5] = 0\n",
        "    test_predictions[test_predictions > .5] = 1\n",
        "    predictions.append(test_predictions)\n",
        "\n",
        "predictions = np.concatenate(predictions, axis=0)\n",
        "accuracy = sum(predictions[predictions == titanic_train[\"Survived\"]]) / len(predictions)\n",
        "print(accuracy)"
      ]
    },
    {
      "cell_type": "code",
      "execution_count": null,
      "metadata": {
        "_cell_guid": "84e138a3-7f07-72d4-9dc1-f7d9004a010d"
      },
      "outputs": [],
      "source": [
        "# Changes in test data \n",
        "\n",
        "titles = titanic_test[\"Name\"].apply(get_title)\n",
        "title_mapping = {\"Mr\": 1, \"Miss\": 2, \"Mrs\": 3, \"Master\": 4, \"Dr\": 5, \"Rev\": 6, \"Major\": 7, \"Col\": 7, \"Mlle\": 8, \"Mme\": 8, \"Don\": 9, \"Lady\": 10, \"Countess\": 10, \"Jonkheer\": 10, \"Sir\": 9, \"Capt\": 7, \"Ms\": 2, \"Dona\": 10}\n",
        "for k,v in title_mapping.items():\n",
        "    titles[titles == k] = v\n",
        "titanic_test[\"Title\"] = titles\n",
        "print(pd.value_counts(titanic_test[\"Title\"]))\n",
        "titanic_test[\"FamilySize\"] = titanic_test[\"SibSp\"] + titanic_test[\"Parch\"]\n",
        "print(family_id_mapping)\n",
        "\n",
        "family_ids = titanic_test.apply(get_family_id, axis=1)\n",
        "family_ids[titanic_test[\"FamilySize\"] < 3] = -1\n",
        "titanic_test[\"FamilyId\"] = family_ids\n",
        "titanic_test[\"NameLength\"] = titanic_test[\"Name\"].apply(lambda x: len(x))"
      ]
    },
    {
      "cell_type": "code",
      "execution_count": null,
      "metadata": {
        "_cell_guid": "f92e5600-7238-d3f7-b6d2-859319e262b2"
      },
      "outputs": [],
      "source": [
        "# prediction on test data\n",
        "\n",
        "predictors = [\"Pclass\", \"Sex\", \"Age\", \"Fare\", \"Embarked\", \"FamilySize\", \"Title\", \"FamilyId\"]\n",
        "\n",
        "algorithms = [\n",
        "    [GradientBoostingClassifier(random_state=1, n_estimators=25, max_depth=3), predictors],\n",
        "    [LogisticRegression(random_state=1), [\"Pclass\", \"Sex\", \"Fare\", \"FamilySize\", \"Title\", \"Age\", \"Embarked\"]]\n",
        "]\n",
        "\n",
        "full_predictions = []\n",
        "for alg, predictors in algorithms:\n",
        "    alg.fit(titanic_train[predictors], titanic_train[\"Survived\"])\n",
        "    predictions = alg.predict_proba(titanic_test[predictors].astype(float))[:,1]\n",
        "    full_predictions.append(predictions)\n",
        "predictions = (full_predictions[0] * 3 + full_predictions[1]) / 4\n",
        "\n",
        "predictions[predictions <= .5] = 0\n",
        "predictions[predictions > .5] = 1\n",
        "predictions = predictions.astype(int)\n"
      ]
    },
    {
      "cell_type": "code",
      "execution_count": null,
      "metadata": {
        "_cell_guid": "c19ab309-39f8-f728-6b06-d4e9322e56f3"
      },
      "outputs": [],
      "source": [
        "submission = pd.DataFrame({\n",
        "        \"PassengerId\": titanic_test[\"PassengerId\"],\n",
        "        \"Survived\": predictions\n",
        "    })\n",
        "\n",
        "submission.to_csv('titanic.csv', index=False)"
      ]
    },
    {
      "cell_type": "code",
      "execution_count": null,
      "metadata": {
        "_cell_guid": "d0aa81d7-e069-a9c8-599e-6018794ddf35"
      },
      "outputs": [],
      "source": [
        ""
      ]
    }
  ],
  "metadata": {
    "_change_revision": 0,
    "_is_fork": false,
    "kernelspec": {
      "display_name": "Python 3",
      "language": "python",
      "name": "python3"
    },
    "language_info": {
      "codemirror_mode": {
        "name": "ipython",
        "version": 3
      },
      "file_extension": ".py",
      "mimetype": "text/x-python",
      "name": "python",
      "nbconvert_exporter": "python",
      "pygments_lexer": "ipython3",
      "version": "3.6.0"
    }
  },
  "nbformat": 4,
  "nbformat_minor": 0
}