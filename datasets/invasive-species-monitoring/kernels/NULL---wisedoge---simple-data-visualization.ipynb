{
  "cells": [
    {
      "cell_type": "code",
      "execution_count": null,
      "metadata": {
        "_cell_guid": "09c93b88-b6eb-a9d8-1ede-8fedd3976f78"
      },
      "outputs": [],
      "source": [
        "import os\n",
        "from glob import glob\n",
        "import numpy as np \n",
        "import pandas as pd \n",
        "import matplotlib.pyplot as plt\n",
        "\n",
        "%matplotlib inline\n",
        "# Any results you write to the current directory are saved as output.\n",
        "trainpath = glob('../input/train/*')\n",
        "testpath = glob('../input/test/*')\n",
        "\n",
        "print('# of training files: ' + str(len(os.listdir('../input/train/'))))\n",
        "print('# of testing files: ' + str(len(os.listdir('../input/test/'))))"
      ]
    },
    {
      "cell_type": "code",
      "execution_count": null,
      "metadata": {
        "_cell_guid": "8c619148-99a6-3e49-359b-62b5bcf31981"
      },
      "outputs": [],
      "source": [
        "train_labels = pd.read_csv('../input/train_labels.csv')\n",
        "train_labels.head()"
      ]
    },
    {
      "cell_type": "code",
      "execution_count": null,
      "metadata": {
        "_cell_guid": "1dd07003-33af-b249-f6aa-876f21136773"
      },
      "outputs": [],
      "source": [
        "from skimage import io, transform"
      ]
    },
    {
      "cell_type": "code",
      "execution_count": null,
      "metadata": {
        "_cell_guid": "ba2b32c3-23b6-36cb-54f3-c303d753b732"
      },
      "outputs": [],
      "source": [
        "sample_image = io.imread(trainpath[0])\n",
        "plt.imshow(sample_image)\n",
        "print('Height:{0} Width:{1}'.format(sample_image.shape[0], sample_image.shape[1]))"
      ]
    },
    {
      "cell_type": "code",
      "execution_count": null,
      "metadata": {
        "_cell_guid": "dad1a71f-dc4f-5d2e-2e54-76b6b9539203"
      },
      "outputs": [],
      "source": [
        "print(io.imread('../input/test/1068.jpg').shape)\n",
        "testpath.remove('../input/test/1068.jpg')"
      ]
    },
    {
      "cell_type": "code",
      "execution_count": null,
      "metadata": {
        "_cell_guid": "21373a52-b77e-dfd2-9279-f3679b4b9383"
      },
      "outputs": [],
      "source": [
        "x_train = np.empty(shape=(100, 150, 200, 3))\n",
        "y_train = np.empty(shape=(100,1))\n",
        "x_val = np.empty(shape=(100, 150, 200, 3))\n",
        "y_val = np.empty(shape=(100,1))\n",
        "\n",
        "for i, train_image in enumerate(trainpath[:50]):\n",
        "    tr_im = io.imread(train_image)\n",
        "    x_train[i] = transform.resize(tr_im, output_shape=(150, 200, 3))\n",
        "    tr_index = int(train_image.strip('../input/train/').strip('.jpg'))\n",
        "    y_train[i] = train_labels.ix[train_labels.name == tr_index,'invasive'].values[0]\n",
        "\n",
        "for i, val_image in enumerate(trainpath[50:100]):\n",
        "    val_im = io.imread(val_image)\n",
        "    x_val[i] = transform.resize(val_im, output_shape=(150, 200, 3))\n",
        "    val_index = int(val_image.strip('../input/train/').strip('.jpg'))\n",
        "    y_val[i] = train_labels.ix[train_labels.name == val_index,'invasive'].values[0]"
      ]
    },
    {
      "cell_type": "code",
      "execution_count": null,
      "metadata": {
        "_cell_guid": "87153ec0-68fc-bb35-e4b9-064280fe8945"
      },
      "outputs": [],
      "source": [
        "from keras.models import Sequential\n",
        "from keras.layers import Convolution2D, MaxPooling2D, ZeroPadding2D\n",
        "from keras.layers import Flatten, Dense, Dropout\n",
        "from keras.optimizers import SGD\n",
        "\n",
        "model = Sequential()\n",
        "model.add(ZeroPadding2D((1, 1), input_shape=(150, 200, 3)))\n",
        "\n",
        "model.add(Convolution2D(64, 3, 3, activation='relu', name='conv1_1'))\n",
        "model.add(ZeroPadding2D((1, 1)))\n",
        "model.add(Convolution2D(64, 3, 3, activation='relu', name='conv1_2'))\n",
        "model.add(MaxPooling2D((2, 2), strides=(2, 2)))\n",
        "\n",
        "model.add(ZeroPadding2D((1, 1)))\n",
        "model.add(Convolution2D(128, 3, 3, activation='relu', name='conv2_1'))\n",
        "model.add(ZeroPadding2D((1, 1)))\n",
        "model.add(Convolution2D(128, 3, 3, activation='relu', name='conv2_2'))\n",
        "model.add(MaxPooling2D((2, 2), strides=(2, 2)))\n",
        "\n",
        "model.add(ZeroPadding2D((1, 1)))\n",
        "model.add(Convolution2D(256, 3, 3, activation='relu', name='conv3_1'))\n",
        "model.add(ZeroPadding2D((1, 1)))\n",
        "model.add(Convolution2D(256, 3, 3, activation='relu', name='conv3_2'))\n",
        "model.add(ZeroPadding2D((1, 1)))\n",
        "model.add(Convolution2D(256, 3, 3, activation='relu', name='conv3_3'))\n",
        "model.add(MaxPooling2D((2, 2), strides=(2, 2)))\n",
        "\n",
        "model.add(ZeroPadding2D((1, 1)))\n",
        "model.add(Convolution2D(512, 3, 3, activation='relu', name='conv4_1'))\n",
        "model.add(ZeroPadding2D((1, 1)))\n",
        "model.add(Convolution2D(512, 3, 3, activation='relu', name='conv4_2'))\n",
        "model.add(ZeroPadding2D((1, 1)))\n",
        "model.add(Convolution2D(512, 3, 3, activation='relu', name='conv4_3'))\n",
        "model.add(MaxPooling2D((2, 2), strides=(2, 2)))\n",
        "\n",
        "model.add(ZeroPadding2D((1, 1)))\n",
        "model.add(Convolution2D(512, 3, 3, activation='relu', name='conv5_1'))\n",
        "model.add(ZeroPadding2D((1, 1)))\n",
        "model.add(Convolution2D(512, 3, 3, activation='relu', name='conv5_2'))\n",
        "model.add(ZeroPadding2D((1, 1)))\n",
        "model.add(Convolution2D(512, 3, 3, activation='relu', name='conv5_3'))\n",
        "model.add(MaxPooling2D((2, 2), strides=(2, 2)))\n",
        "\n",
        "model.add(Flatten())\n",
        "model.add(Dense(256, activation='relu'))\n",
        "model.add(Dropout(0.5))\n",
        "model.add(Dense(1, activation='sigmoid'))\n",
        "\n",
        "model.compile(optimizer=SGD(lr=1e-5, momentum=0.75, nesterov=False), \n",
        "              loss='binary_crossentropy', metrics=['accuracy'])"
      ]
    },
    {
      "cell_type": "code",
      "execution_count": null,
      "metadata": {
        "_cell_guid": "9e5a612e-d162-26b7-2977-cc85b2bfe947"
      },
      "outputs": [],
      "source": [
        "model.fit(x_train, y_train, epochs=1, batch_size=20)"
      ]
    },
    {
      "cell_type": "code",
      "execution_count": null,
      "metadata": {
        "_cell_guid": "3f97e8bc-1b8d-fd57-b5a1-88bdeef5d179"
      },
      "outputs": [],
      "source": ""
    }
  ],
  "metadata": {
    "_change_revision": 0,
    "_is_fork": false,
    "kernelspec": {
      "display_name": "Python 3",
      "language": "python",
      "name": "python3"
    },
    "language_info": {
      "codemirror_mode": {
        "name": "ipython",
        "version": 3
      },
      "file_extension": ".py",
      "mimetype": "text/x-python",
      "name": "python",
      "nbconvert_exporter": "python",
      "pygments_lexer": "ipython3",
      "version": "3.6.0"
    }
  },
  "nbformat": 4,
  "nbformat_minor": 0
}