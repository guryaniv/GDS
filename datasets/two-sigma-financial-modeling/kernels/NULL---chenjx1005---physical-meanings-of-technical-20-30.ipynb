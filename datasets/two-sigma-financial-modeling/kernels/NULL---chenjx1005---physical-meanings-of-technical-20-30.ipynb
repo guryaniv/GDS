{
  "cells": [
    {
      "cell_type": "markdown",
      "metadata": {
        "_cell_guid": "b674a827-d15a-8d50-f321-5ec17897df4e"
      },
      "source": [
        "technical_20 and technical_30 may be the most useful features in this competition.  In this kernel I will investigate what the physical meanings of these two features."
      ]
    },
    {
      "cell_type": "code",
      "execution_count": null,
      "metadata": {
        "_cell_guid": "229901dc-dcdf-52b7-5283-d72f595d3bfb"
      },
      "outputs": [],
      "source": [
        "#load libs\n",
        "import kagglegym\n",
        "import numpy as np\n",
        "import pandas as pd\n",
        "from sklearn.ensemble import ExtraTreesRegressor\n",
        "from sklearn.linear_model import LinearRegression, BayesianRidge\n",
        "\n",
        "import matplotlib.pyplot as plt\n",
        "import seaborn as sns\n",
        "%matplotlib inline\n",
        "\n",
        "env = kagglegym.make()\n",
        "o = env.reset()\n",
        "col = [c for c in o.train.columns if '_' in c]\n",
        "\n",
        "full_df = pd.read_hdf('../input/train.h5')\n",
        "def get_reward(y_true, y_fit):\n",
        "    R2 = 1 - np.sum((y_true - y_fit)**2) / np.sum((y_true - np.mean(y_true))**2)\n",
        "    R = np.sign(R2) * np.sqrt(abs(R2))\n",
        "    return(R)\n",
        "pd.options.mode.chained_assignment = None  # default='warn'"
      ]
    },
    {
      "cell_type": "markdown",
      "metadata": {
        "_cell_guid": "53a5c348-3854-2fab-f8f9-a4f2e1faed58"
      },
      "source": [
        "we choose one random asset id, and plot the technical_20 - y curve. For better visualization, we scale the technical_20 values."
      ]
    },
    {
      "cell_type": "code",
      "execution_count": null,
      "metadata": {
        "_cell_guid": "5b1b96ea-d9b6-0c6d-b8a2-3fb1e88e52da"
      },
      "outputs": [],
      "source": [
        "id = 1561 #val_set.id.sample().values[0]\n",
        "print(id)\n",
        "temp = full_df[full_df.id==id]\n",
        "temp['feature'] = temp['technical_20']\n",
        "temp['feature'] = temp['feature'] * 4\n",
        "temp[['y', 'feature']].iloc[:100,:].plot(marker='.')"
      ]
    },
    {
      "cell_type": "markdown",
      "metadata": {
        "_cell_guid": "b24dd000-9727-0e67-0e1d-58a9aa1df99d"
      },
      "source": [
        "Y values vibrates strongly. In this figure it is hard for us to find a clear relation between technical_20 and y. We try the cumsum of y values."
      ]
    },
    {
      "cell_type": "code",
      "execution_count": null,
      "metadata": {
        "_cell_guid": "bcc50281-fa91-ceb2-c723-9c1ad52249ed"
      },
      "outputs": [],
      "source": [
        "temp['y_cum'] = temp.y.cumsum()\n",
        "temp[['y_cum', 'feature']].iloc[:100,:].plot(marker='.')"
      ]
    },
    {
      "cell_type": "markdown",
      "metadata": {
        "_cell_guid": "e40a9467-16de-16d9-b1e2-a58851b5ba05"
      },
      "source": [
        "Now we can find something interesting. When the price of the asset increase, technical_20 becomes positive, otherwise technical_20 is zero. Similar relation between technical_30 and cum_sum of y can be found, while it is negative correlation. So we may guess technical_20 may indicate the increase of the price."
      ]
    },
    {
      "cell_type": "code",
      "execution_count": null,
      "metadata": {
        "_cell_guid": "54671f5e-cfd9-90ce-551d-4f5ec1bb34db"
      },
      "outputs": [],
      "source": [
        "temp[['y_cum', 'technical_30']].iloc[:100,:].plot(marker='.')"
      ]
    },
    {
      "cell_type": "markdown",
      "metadata": {
        "_cell_guid": "8ea3df7a-ae5a-7b2c-05cd-134a37d5fbe3"
      },
      "source": [
        "We quickly check whether the correlation between techical_20 and y is positive as we observed."
      ]
    },
    {
      "cell_type": "code",
      "execution_count": null,
      "metadata": {
        "_cell_guid": "cef743eb-bfb3-a8e5-94e6-343a445394d8"
      },
      "outputs": [],
      "source": [
        "print(np.correlate(temp['y'], temp['technical_20']))\n",
        "print(np.correlate(temp['y'], temp['technical_30']))"
      ]
    },
    {
      "cell_type": "markdown",
      "metadata": {
        "_cell_guid": "d8030f2f-9032-3ad4-d95c-adbb93bbb8c2"
      },
      "source": [
        "It is weird. The true correlation between y and technical_20 is negative. "
      ]
    },
    {
      "cell_type": "markdown",
      "metadata": {
        "_cell_guid": "9849e163-cd43-e0b6-55e9-f9617a414581"
      },
      "source": [
        "Follow the method in https://www.kaggle.com/achalshah/two-sigma-financial-modeling/linear-regression-lb-0-0091176, we quickly implement a linear regression using technical_20. "
      ]
    },
    {
      "cell_type": "code",
      "execution_count": null,
      "metadata": {
        "_cell_guid": "4a649052-3c7f-0798-091d-aa56924e92cb"
      },
      "outputs": [],
      "source": [
        "train_data = o.train\n",
        "cols = 'technical_20'\n",
        "\n",
        "low_y_cut = -0.086093\n",
        "high_y_cut = 0.093497\n",
        "\n",
        "y_values_within = ((train_data['y'] > low_y_cut) & (train_data['y'] <high_y_cut))\n",
        "\n",
        "train_cut = train_data.loc[y_values_within,:]\n",
        "\n",
        "# Fill missing values\n",
        "mean_vals = train_cut.mean()\n",
        "train_cut.fillna(mean_vals,inplace=True)\n",
        "\n",
        "x_train = train_cut[cols]\n",
        "y = train_cut[\"y\"]\n",
        "\n",
        "lr_model = LinearRegression()\n",
        "lr_model.fit(np.array(x_train.values).reshape(-1,1),y.values)\n",
        "\n",
        "val_set = full_df[full_df.timestamp>=906]\n",
        "x_val = val_set[cols].fillna(mean_vals[cols])\n",
        "pred = lr_model.predict(x_val.values.reshape(-1, 1))\n",
        "re = get_reward(val_set['y'], pred)\n",
        "print(\"Public score: {}\".format(re))\n",
        "print(\"learned parameter of the model: {}\".format(lr_model.coef_))"
      ]
    },
    {
      "cell_type": "markdown",
      "metadata": {
        "_cell_guid": "6776ec9f-7483-0d42-b109-e841a203f955"
      },
      "source": [
        "The coefficients is negative. Carefully exam the the technical_20 - y curve, we may find that technical_20 looks like the lag of the y value.  To verify this hypothesis, we use t day's technical_20 to predict t-1 day's y."
      ]
    },
    {
      "cell_type": "code",
      "execution_count": null,
      "metadata": {
        "_cell_guid": "d978cca1-68c6-49f7-3041-1423322905d9"
      },
      "outputs": [],
      "source": [
        "train_cut = train_data.loc[y_values_within,:]\n",
        "x_train = train_cut.groupby('id')[cols].shift(-1).fillna(mean_vals[cols])\n",
        "y = train_cut[\"y\"]\n",
        "\n",
        "lr_model2 = LinearRegression()\n",
        "lr_model2.fit(np.array(x_train.values).reshape(-1,1),y.values)\n",
        "\n",
        "x_val = val_set.groupby('id')[cols].shift(-1).fillna(mean_vals[cols])\n",
        "pred = lr_model2.predict(x_val.values.reshape(-1, 1))\n",
        "re = get_reward(val_set['y'], pred)\n",
        "print(\"Public score: {}\".format(re))\n",
        "print(\"learned parameter of the model: {}\".format(lr_model2.coef_))"
      ]
    },
    {
      "cell_type": "markdown",
      "metadata": {
        "_cell_guid": "60eb7a19-4353-20d8-4ca1-9a8e158cbc8b"
      },
      "source": [
        "Wow, the public score is 0.26. Such a high score indicate that technical_20 is derived from t-1 day's y value.  Since technical_20 relates to the increase while technical_30 relates to the decrease, we construct a new feature technical_20-30 using technical_20 minus technical_30. With the help of Linear Regression, we use previous days' y values estimate this feature and investigate the physical meanings."
      ]
    },
    {
      "cell_type": "code",
      "execution_count": null,
      "metadata": {
        "_cell_guid": "a2166a23-f7aa-ba31-56df-d34496115ebf"
      },
      "outputs": [],
      "source": [
        "temp = full_df.copy()\n",
        "temp['feature'] = temp['technical_20'] - temp['technical_30']\n",
        "n = 5\n",
        "for i in range(1, n+1):\n",
        "    temp['fea_%d'%i] = temp.groupby('id')['y'].shift(i)\n",
        "temp = temp.filter(regex='^fea').dropna()\n",
        "estimator = LinearRegression()\n",
        "estimator.fit(temp.filter(regex='^fea_').values, temp.feature.values)\n",
        "#temp['pred_f'] = eastimator.predict(temp.filter(regex='^fea_').fillna(mean_vals).values)\n",
        "print(estimator.intercept_, estimator.coef_)"
      ]
    },
    {
      "cell_type": "code",
      "execution_count": null,
      "metadata": {
        "_cell_guid": "3984ce2d-8bc8-fab7-d13c-62b719283d21"
      },
      "outputs": [],
      "source": [
        "id = 142 #full_df.id.sample().values[0]\n",
        "print(id)\n",
        "temp = full_df[full_df.id==id]\n",
        "temp['feature'] = temp['technical_20'] - temp['technical_30']\n",
        "mean_vals = temp.y.mean()\n",
        "for i in range(1, n+1):\n",
        "    temp['fea_%d'%i] = temp['y'].shift(i)\n",
        "temp['y_2'] = estimator.predict(temp.filter(regex='^fea_').fillna(mean_vals).values)\n",
        "temp[['y_2', 'feature']].iloc[:100,:].plot(marker='.')"
      ]
    },
    {
      "cell_type": "markdown",
      "metadata": {
        "_cell_guid": "7a4d2f43-1e8c-c3af-0dd8-cd933c7be3e1"
      },
      "source": [
        "The estimated feature roughly looks like the true features. And from the coefficients of estimator, we can guess 20-30 is a kind of moving average the y values. We use more y values to predict feature."
      ]
    },
    {
      "cell_type": "code",
      "execution_count": null,
      "metadata": {
        "_cell_guid": "00d7cf8a-ee60-da3e-6f3e-df593378a904"
      },
      "outputs": [],
      "source": [
        "temp = full_df.copy()\n",
        "temp['feature'] = temp['technical_20'] - temp['technical_30']\n",
        "n = 20\n",
        "for i in range(1, n+1):\n",
        "    temp['fea_%d'%i] = temp.groupby('id')['y'].shift(i)\n",
        "temp = temp.filter(regex='^fea').dropna()\n",
        "estimator = LinearRegression()\n",
        "estimator.fit(temp.filter(regex='^fea_').values, temp.feature.values)\n",
        "#temp['pred_f'] = eastimator.predict(temp.filter(regex='^fea_').fillna(mean_vals).values)\n",
        "print(estimator.intercept_, estimator.coef_)\n",
        "\n",
        "id = 142 #full_df.id.sample().values[0]\n",
        "temp = full_df[full_df.id==id]\n",
        "temp['feature'] = temp['technical_20'] - temp['technical_30']\n",
        "mean_vals = temp.y.mean()\n",
        "for i in range(1, n+1):\n",
        "    temp['fea_%d'%i] = temp['y'].shift(i)\n",
        "temp['y_2'] = estimator.predict(temp.filter(regex='^fea_').fillna(mean_vals).values)\n",
        "temp[['y_2', 'feature']].iloc[:100,:].plot(marker='.')"
      ]
    },
    {
      "cell_type": "markdown",
      "metadata": {
        "_cell_guid": "6ed7c251-46d2-2ffa-03cd-10cff1bc5f11"
      },
      "source": [
        "When we use more y values, the estimated feature is more accurate. So we can say technical_20 and technical_30 is a kind of weighted moving mean of historical y values, and nearer y values have larger weights.  Now we try to how these weights shrink."
      ]
    },
    {
      "cell_type": "code",
      "execution_count": null,
      "metadata": {
        "_cell_guid": "66ed1df1-8d28-8ebc-4bb8-1f278760a47b"
      },
      "outputs": [],
      "source": [
        "for i in range(len(estimator.coef_)-1):\n",
        "    print(estimator.coef_[i+1]/estimator.coef_[i])"
      ]
    },
    {
      "cell_type": "markdown",
      "metadata": {
        "_cell_guid": "266f5dfb-8ca2-4d09-64d7-e7031a53e60f"
      },
      "source": [
        "It seems the shrink scale is around 0.92. Denote technical_20-30 as F, So we assume F(t) = 0.07* y(t-1) + 0.92 * F(t-1). Have a quick verification."
      ]
    },
    {
      "cell_type": "code",
      "execution_count": null,
      "metadata": {
        "_cell_guid": "00bc4295-89d2-4cd7-f3e9-21efea2dceba"
      },
      "outputs": [],
      "source": [
        "temp['feature_'] = 0.07 * temp['fea_1'] + 0.92 * temp['feature'].shift(1)\n",
        "temp[['feature_', 'feature']].iloc[:100,:].plot(marker='.')"
      ]
    },
    {
      "cell_type": "markdown",
      "metadata": {
        "_cell_guid": "c088fd4c-eb7b-d342-cafe-4b6dad4ac9ed"
      },
      "source": [
        "bravo! The hypothetical feature curve is very close to the true curve. So we can confirm that the feature comes in this way.  However, as we see before, the technical_20, and technical_30 are clipped to a lower bound 0, so in some case, the curve will be not exactly same as we assume, especially when 0 appears frequently.  For example:"
      ]
    },
    {
      "cell_type": "code",
      "execution_count": null,
      "metadata": {
        "_cell_guid": "0dc5971d-1c5d-8751-91a3-400c4e3ad15a"
      },
      "outputs": [],
      "source": [
        "id = 12 #full_df.id.sample().values[0]\n",
        "temp = full_df[full_df.id==id]\n",
        "temp['feature'] = temp['technical_20'] - temp['technical_30']\n",
        "temp['feature_'] = 0.07 * temp['y'].shift(1) + 0.92 * temp['feature'].shift(1)\n",
        "temp[['feature_', 'feature']].iloc[:100,:].plot(marker='.')"
      ]
    },
    {
      "cell_type": "code",
      "execution_count": null,
      "metadata": {
        "_cell_guid": "afde5255-476a-1ff3-90e3-503dc7eeb899"
      },
      "outputs": [],
      "source": ""
    }
  ],
  "metadata": {
    "_change_revision": 0,
    "_is_fork": false,
    "kernelspec": {
      "display_name": "Python 3",
      "language": "python",
      "name": "python3"
    },
    "language_info": {
      "codemirror_mode": {
        "name": "ipython",
        "version": 3
      },
      "file_extension": ".py",
      "mimetype": "text/x-python",
      "name": "python",
      "nbconvert_exporter": "python",
      "pygments_lexer": "ipython3",
      "version": "3.5.2"
    }
  },
  "nbformat": 4,
  "nbformat_minor": 0
}