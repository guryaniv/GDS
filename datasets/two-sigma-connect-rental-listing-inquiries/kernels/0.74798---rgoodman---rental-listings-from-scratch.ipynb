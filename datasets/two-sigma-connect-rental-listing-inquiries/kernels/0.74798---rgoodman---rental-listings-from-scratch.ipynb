{
  "cells": [
    {
      "cell_type": "markdown",
      "metadata": {
        "_cell_guid": "0dfa8992-c2c2-8101-5116-068f9f8f2f44"
      },
      "source": [
        "## Background\n",
        "I'm starting with some simple approaches and not using others' kernels or notebooks for this.  I've done that for other projects (housing regression and Titanic).  That's useful for learning new topics, but the real growth happens when you come up with the script yourself."
      ]
    },
    {
      "cell_type": "code",
      "execution_count": null,
      "metadata": {
        "_cell_guid": "8f44a0db-e3ab-5872-4bb4-e1aa822b116e"
      },
      "outputs": [],
      "source": [
        "import numpy as np # linear algebra\n",
        "import pandas as pd # data processing, CSV file I/O (e.g. pd.read_csv)\n",
        "import matplotlib.pyplot as plt\n",
        "import seaborn as sns\n",
        "from scipy.stats import skew\n",
        "%matplotlib inline\n",
        "\n",
        "from sklearn import linear_model\n",
        "from collections import Counter"
      ]
    },
    {
      "cell_type": "code",
      "execution_count": null,
      "metadata": {
        "_cell_guid": "ff7b1bdd-630c-9cc7-51eb-7f380bcc0f40"
      },
      "outputs": [],
      "source": [
        "train = pd.read_json(\"../input/train.json\")\n",
        "test = pd.read_json(\"../input/test.json\")"
      ]
    },
    {
      "cell_type": "code",
      "execution_count": null,
      "metadata": {
        "_cell_guid": "01b1f3f2-545d-3915-64ca-9b626a47c913"
      },
      "outputs": [],
      "source": [
        "test.shape"
      ]
    },
    {
      "cell_type": "code",
      "execution_count": null,
      "metadata": {
        "_cell_guid": "7ab297f7-a9e0-0b00-b481-64e94e62e286"
      },
      "outputs": [],
      "source": [
        "train.shape"
      ]
    },
    {
      "cell_type": "code",
      "execution_count": null,
      "metadata": {
        "_cell_guid": "b74128ba-10b6-aaf4-0b23-5b9fe5a40541"
      },
      "outputs": [],
      "source": [
        "train.info()"
      ]
    },
    {
      "cell_type": "code",
      "execution_count": null,
      "metadata": {
        "_cell_guid": "289dd05a-8ec4-bb5d-1953-384f831bea4d"
      },
      "outputs": [],
      "source": [
        "train.head()"
      ]
    },
    {
      "cell_type": "code",
      "execution_count": null,
      "metadata": {
        "_cell_guid": "af203117-7721-75e3-76c0-bfcdee0ceb44"
      },
      "outputs": [],
      "source": [
        "train['interest_level'].value_counts(normalize=True)"
      ]
    },
    {
      "cell_type": "markdown",
      "metadata": {
        "_cell_guid": "92cc08a0-146b-eb17-3abd-74173d44d0d2"
      },
      "source": [
        "## Game Plan 1: The Layup\n",
        "Create a simple regression model with the following features:\n",
        "- bedrooms\n",
        "- bathrooms\n",
        "- price\n",
        "- features\n",
        "\n",
        "Additional processing will be needed to extract features (they are currently in list form) and create dummies from them."
      ]
    },
    {
      "cell_type": "code",
      "execution_count": null,
      "metadata": {
        "_cell_guid": "c1d149bb-c194-6b4c-c332-a1e75a9a6493"
      },
      "outputs": [],
      "source": [
        "print(train.shape[0])\n",
        "print(train.shape[0]/8)"
      ]
    },
    {
      "cell_type": "markdown",
      "metadata": {
        "_cell_guid": "b6b6f929-e813-9fbd-8fed-1fd7d14a71ac"
      },
      "source": [
        "### Feature Processing - Creating a list of all features from features columns\n",
        "This runs much faster in batches.  I needed the batches to be in whole numbers (with no decimals), and realized 8 batches/lots of 6169 will equal the train size of 49,352 rows\n"
      ]
    },
    {
      "cell_type": "code",
      "execution_count": null,
      "metadata": {
        "_cell_guid": "519e64e2-81ba-5016-c5c1-955d5ac5566e"
      },
      "outputs": [],
      "source": [
        "x = train['features'].tolist()\n",
        "\n",
        "feature_list = []\n",
        "\n",
        "for i in range(0,len(x),6169):\n",
        "    print(i+6169)\n",
        "    feature_listadd = []\n",
        "    for j in range(i,i+6169):#len(x)):\n",
        "        feature_listadd = feature_listadd + x[j]\n",
        "    feature_list = feature_list + feature_listadd\n",
        "    \n",
        "#lowercase is necessary, otherwise matches will be missed when there are differences in case\n",
        "feature_list = [item.lower() for item in feature_list]\n",
        "cl = Counter(feature_list)"
      ]
    },
    {
      "cell_type": "code",
      "execution_count": null,
      "metadata": {
        "_cell_guid": "0ad72ad8-e904-3953-cea6-75a99f3e0fec"
      },
      "outputs": [],
      "source": [
        "#Keeping features that occur at least 1,000 times yields the following list\n",
        "\n",
        "feature_list = []\n",
        "\n",
        "for key in cl:\n",
        "    if cl[key]>1000:\n",
        "        feature_list.append(key)\n",
        "        print(key)\n",
        "\n",
        "feature_list"
      ]
    },
    {
      "cell_type": "markdown",
      "metadata": {
        "_cell_guid": "44f53370-eadd-226b-491d-014c43fa588e"
      },
      "source": [
        "## Creating Dummy Variables for the Feature List"
      ]
    },
    {
      "cell_type": "code",
      "execution_count": null,
      "metadata": {
        "_cell_guid": "99f294d3-ecb2-3793-acd2-1ebcaf3ab027"
      },
      "outputs": [],
      "source": [
        "for i in feature_list:\n",
        "    train[i] = train['features'][:train.shape[0]].apply \\\n",
        "        (lambda x: 1 if i in [y.lower() for y in x] else 0)"
      ]
    },
    {
      "cell_type": "code",
      "execution_count": null,
      "metadata": {
        "_cell_guid": "21ff86bc-654c-1cce-3018-64679d9d23e7"
      },
      "outputs": [],
      "source": [
        "for i in feature_list:\n",
        "    test[i] = test['features'][:test.shape[0]].apply \\\n",
        "        (lambda x: 1 if i in [y.lower() for y in x] else 0)"
      ]
    },
    {
      "cell_type": "code",
      "execution_count": null,
      "metadata": {
        "_cell_guid": "d1acd327-c021-284c-1ba9-042ddd5d3697"
      },
      "outputs": [],
      "source": [
        "#Combining 'pre-war' & 'prewar'\n",
        "\n",
        "train['prewar'] = train['prewar'] + train['pre-war']\n",
        "del train ['pre-war']\n",
        "test['prewar'] = test['prewar'] + test['pre-war']\n",
        "del test ['pre-war']"
      ]
    },
    {
      "cell_type": "markdown",
      "metadata": {
        "_cell_guid": "f11ee31e-2d26-7dd8-e56c-3eb9bd0cd9f1"
      },
      "source": [
        "### Choosing a model:\n",
        "This isn't a simple linear regression after all, but rather would require an ordinal model.  I still haven't looked to see what others are doing, but I'm planning to turn this into a simpler regression by changing interest levels: low=0, medium=1, high=2.  Thus, we will have a linear relationship.  And, if our model predict 1.6 for example, I would interpret that as 60% chance for high and 40% chance for medium. I'm sure this isn't the perfect model, but it makes sense, roughly."
      ]
    },
    {
      "cell_type": "code",
      "execution_count": null,
      "metadata": {
        "_cell_guid": "162c42b5-7a0c-abc9-e382-b7407b4283e9"
      },
      "outputs": [],
      "source": [
        "mapping = {'low': 0, 'medium': 1, 'high':2}\n",
        "train['interest_level'] = train['interest_level'].apply(lambda x: mapping.get(x))"
      ]
    },
    {
      "cell_type": "markdown",
      "metadata": {
        "_cell_guid": "f22f9a66-5d0a-f2e9-befb-74890692dae9"
      },
      "source": [
        "# Model Time"
      ]
    },
    {
      "cell_type": "code",
      "execution_count": null,
      "metadata": {
        "_cell_guid": "d6c35f81-3420-f002-e8a7-c1c7b24e3e3e"
      },
      "outputs": [],
      "source": [
        "from sklearn.model_selection import train_test_split\n",
        "from sklearn.ensemble import RandomForestClassifier\n",
        "from sklearn.linear_model import LogisticRegression\n",
        "from sklearn import datasets, linear_model\n",
        "from sklearn.neighbors import KNeighborsClassifier\n",
        "from sklearn.naive_bayes import GaussianNB\n"
      ]
    },
    {
      "cell_type": "code",
      "execution_count": null,
      "metadata": {
        "_cell_guid": "25c582b3-7423-7de5-4da4-45d53804e002"
      },
      "outputs": [],
      "source": [
        "feature_list.remove('pre-war')\n",
        "feature_list.append('bedrooms')\n",
        "feature_list.append('bathrooms')\n",
        "feature_list.append('price')"
      ]
    },
    {
      "cell_type": "code",
      "execution_count": null,
      "metadata": {
        "_cell_guid": "8b058e50-93f6-dddd-896e-c8078d074963"
      },
      "outputs": [],
      "source": [
        "feature_list"
      ]
    },
    {
      "cell_type": "code",
      "execution_count": null,
      "metadata": {
        "_cell_guid": "7f96e631-6e7e-8735-c781-0bee22318838"
      },
      "outputs": [],
      "source": [
        "modeltrain, modeltest = train_test_split(train, test_size = 0.2,random_state=0)\n",
        "\n",
        "#For testing\n",
        "Xmodeltrain = modeltrain[feature_list]\n",
        "Ymodeltrain = modeltrain['interest_level']\n",
        "\n",
        "Xmodeltest = modeltest[feature_list]\n",
        "Ymodeltest = modeltest['interest_level']\n",
        "\n",
        "#For fitting all the data\n",
        "Xtrain = train[feature_list]\n",
        "Ytrain = train['interest_level']\n",
        "\n",
        "#For prediction from the test tile\n",
        "Xtest = test[feature_list]"
      ]
    },
    {
      "cell_type": "code",
      "execution_count": null,
      "metadata": {
        "_cell_guid": "2bf14551-62cc-4a20-ddf0-b65722e37786"
      },
      "outputs": [],
      "source": [
        "#Models\n",
        "regr = linear_model.LinearRegression()\n",
        "random_forest = RandomForestClassifier(n_estimators=100)\n",
        "gaussian = GaussianNB()\n",
        "logreg = linear_model.LogisticRegression()\n",
        "kneighbors = KNeighborsClassifier()\n",
        "\n",
        "#Model List\n",
        "Models = [regr,random_forest,gaussian,logreg,kneighbors]\n",
        "\n",
        "#Fitting\n",
        "for i in Models:\n",
        "    i.fit(Xmodeltrain,Ymodeltrain)"
      ]
    },
    {
      "cell_type": "code",
      "execution_count": null,
      "metadata": {
        "_cell_guid": "b8a75b09-633c-77bb-746e-6b76646c00da"
      },
      "outputs": [],
      "source": [
        "def runscore(x):\n",
        "    #print('\\n')\n",
        "    print('Test Score: ' + str(x.score(Xmodeltest, Ymodeltest)))\n",
        "    print('Train Score: ' + str(x.score(Xmodeltrain, Ymodeltrain)))"
      ]
    },
    {
      "cell_type": "code",
      "execution_count": null,
      "metadata": {
        "_cell_guid": "63b469f7-9629-95d8-adc3-0c51ab50e28f"
      },
      "outputs": [],
      "source": [
        "#Run Scores\n",
        "for model in Models:\n",
        "    print('\\n')\n",
        "    print(model)\n",
        "    runscore(model)"
      ]
    },
    {
      "cell_type": "markdown",
      "metadata": {
        "_cell_guid": "f639929b-3ace-56c1-2c07-f155aea41776"
      },
      "source": [
        "## Results: Random Forest, KNeighbors, and Logistic are pretty close"
      ]
    },
    {
      "cell_type": "code",
      "execution_count": null,
      "metadata": {
        "_cell_guid": "78828435-b456-2f76-e561-e353c1a156bc"
      },
      "outputs": [],
      "source": [
        "for model in Models:\n",
        "    model.fit(Xtrain, Ytrain)"
      ]
    },
    {
      "cell_type": "code",
      "execution_count": null,
      "metadata": {
        "_cell_guid": "ee5cb835-8480-d5cd-589f-254918927cbc"
      },
      "outputs": [],
      "source": [
        "for model in Models:\n",
        "    test['interest_level']=model.predict(Xtest)\n",
        "    print('\\n')\n",
        "    print(model)\n",
        "    print(test['interest_level'].value_counts(normalize=True))"
      ]
    },
    {
      "cell_type": "markdown",
      "metadata": {
        "_cell_guid": "538ad9b9-c5a0-841f-5655-8a43bf665d6d"
      },
      "source": [
        "### Random Forest looks best"
      ]
    },
    {
      "cell_type": "code",
      "execution_count": null,
      "metadata": {
        "_cell_guid": "6c4dfe57-c513-d728-a800-744a7b267dd6"
      },
      "outputs": [],
      "source": [
        "test['interest_level']=random_forest.predict(Xtest)"
      ]
    },
    {
      "cell_type": "code",
      "execution_count": null,
      "metadata": {
        "_cell_guid": "93487dfc-edb6-a452-711e-ab1e2f80c8a0"
      },
      "outputs": [],
      "source": [
        "test['interest_level'].value_counts(normalize=True)"
      ]
    },
    {
      "cell_type": "code",
      "execution_count": null,
      "metadata": {
        "_cell_guid": "fbff8dc2-2710-4a3b-3afe-a911c578c38f"
      },
      "outputs": [],
      "source": [
        "maplow = {0: 1, 1: 0, 2:0}\n",
        "mapmedium = {0: .1, 1: .85, 2:.05}\n",
        "maphigh = {0:0, 1:0, 3:1}\n",
        "\n",
        "test['low'] = test['interest_level'].apply(lambda x: maplow.get(x))\n",
        "test['medium'] = test['interest_level'].apply(lambda x: mapmedium.get(x))\n",
        "test['high'] = test['interest_level'].apply(lambda x: maphigh.get(x))"
      ]
    },
    {
      "cell_type": "code",
      "execution_count": null,
      "metadata": {
        "_cell_guid": "99aaf0ef-4086-96ec-9e86-91cf724b25c5"
      },
      "outputs": [],
      "source": [
        "submission = test[['listing_id','high','medium','low']]"
      ]
    },
    {
      "cell_type": "code",
      "execution_count": null,
      "metadata": {
        "_cell_guid": "22269572-b029-a90f-cc0f-e9c3edcfa82b"
      },
      "outputs": [],
      "source": [
        "#submission = submission.set_index('listing_id')\n",
        "submission.head()"
      ]
    },
    {
      "cell_type": "code",
      "execution_count": null,
      "metadata": {
        "_cell_guid": "dd2a0670-6895-eaa9-5c9f-4dbef4100795"
      },
      "outputs": [],
      "source": [
        "submission.to_csv('submissionjam2.csv', index=False)"
      ]
    },
    {
      "cell_type": "code",
      "execution_count": null,
      "metadata": {
        "_cell_guid": "679f5032-caca-d5ad-6718-8ce1c02ee84e"
      },
      "outputs": [],
      "source": [
        ""
      ]
    }
  ],
  "metadata": {
    "_change_revision": 0,
    "_is_fork": false,
    "kernelspec": {
      "display_name": "Python 3",
      "language": "python",
      "name": "python3"
    },
    "language_info": {
      "codemirror_mode": {
        "name": "ipython",
        "version": 3
      },
      "file_extension": ".py",
      "mimetype": "text/x-python",
      "name": "python",
      "nbconvert_exporter": "python",
      "pygments_lexer": "ipython3",
      "version": "3.6.0"
    }
  },
  "nbformat": 4,
  "nbformat_minor": 0
}