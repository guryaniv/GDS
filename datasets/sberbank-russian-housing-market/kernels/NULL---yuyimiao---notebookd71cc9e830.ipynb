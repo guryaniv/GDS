{
  "cells": [
    {
      "cell_type": "code",
      "execution_count": null,
      "metadata": {
        "_cell_guid": "c27fe8d7-bb43-48cf-c405-aede35a90960"
      },
      "outputs": [],
      "source": [
        "# This Python 3 environment comes with many helpful analytics libraries installed\n",
        "# It is defined by the kaggle/python docker image: https://github.com/kaggle/docker-python\n",
        "# For example, here's several helpful packages to load in \n",
        "\n",
        "import numpy as np # linear algebra\n",
        "import pandas as pd # data processing, CSV file I/O (e.g. pd.read_csv)\n",
        "\n",
        "# Input data files are available in the \"../input/\" directory.\n",
        "# For example, running this (by clicking run or pressing Shift+Enter) will list the files in the input directory\n",
        "\n",
        "from subprocess import check_output\n",
        "print(check_output([\"ls\", \"../input\"]).decode(\"utf8\"))\n",
        "\n",
        "# Any results you write to the current directory are saved as output."
      ]
    },
    {
      "cell_type": "code",
      "execution_count": null,
      "metadata": {
        "_cell_guid": "ac5a7926-0d96-3769-9285-793276107c8f"
      },
      "outputs": [],
      "source": [
        "\n",
        "import numpy as np\n",
        "import pandas as pd\n",
        "import matplotlib.pyplot as plt\n",
        "import seaborn as sns\n",
        "from sklearn import model_selection, preprocessing\n",
        "import xgboost as xgb\n",
        "import datetime\n",
        "\n",
        "#load files\n",
        "train = pd.read_csv('../input/train.csv')\n",
        "test = pd.read_csv('../input/test.csv')\n",
        "macro = pd.read_csv('../input/macro.csv')\n",
        "id_test = test.id"
      ]
    },
    {
      "cell_type": "code",
      "execution_count": null,
      "metadata": {
        "_cell_guid": "6febf741-d453-806f-e5e1-f0ac75ce7f26"
      },
      "outputs": [],
      "source": [
        "Q1 = np.percentile(np.log1p(train.price_doc.values), 25)\n",
        "Q2 = np.percentile(np.log1p(train.price_doc.values), 50)\n",
        "Q3 = np.percentile(np.log1p(train.price_doc.values), 75)\n",
        "IQR=Q3-Q1\n",
        "infbdd=Q1-1.5 * IQR \n",
        "supbdd=Q3+1.5 * IQR \n",
        "train['price_doc'].ix[train['price_doc']>int(2.5*np.exp(supbdd))] = int(2.5*np.exp(supbdd))\n",
        "train['price_doc'].ix[train['price_doc']<int(np.exp(13.5))] = int(np.exp(13.5))\n",
        "int(np.exp(supbdd))"
      ]
    },
    {
      "cell_type": "code",
      "execution_count": null,
      "metadata": {
        "_cell_guid": "451e5bc4-9614-5d8a-5af4-260d42aa9509"
      },
      "outputs": [],
      "source": [
        "ulimit = np.percentile(train.price_doc.values, 99.5)\n",
        "ulimit"
      ]
    },
    {
      "cell_type": "code",
      "execution_count": null,
      "metadata": {
        "_cell_guid": "c878f441-3ca6-be19-419f-fb546509cbe5"
      },
      "outputs": [],
      "source": [
        "plt.figure(figsize=(12,8))\n",
        "sns.distplot(np.log1p(train.full_sq.values), bins=50, kde=True)\n",
        "plt.xlabel('full_sq', fontsize=12)\n",
        "plt.show()"
      ]
    },
    {
      "cell_type": "code",
      "execution_count": null,
      "metadata": {
        "_cell_guid": "0c07062c-9dfb-2ed0-164f-b51ca59f7166"
      },
      "outputs": [],
      "source": [
        "bad_index = train[train.life_sq > train.full_sq].index\n",
        "train.ix[bad_index, \"life_sq\"] = np.NaN"
      ]
    },
    {
      "cell_type": "code",
      "execution_count": null,
      "metadata": {
        "_cell_guid": "accdd316-0fba-4996-dfba-0f61ab275561"
      },
      "outputs": [],
      "source": [
        "bad_index = train[train.life_sq<2 ].index\n",
        "train.ix[bad_index, \"life_sq\"] = np.NaN"
      ]
    },
    {
      "cell_type": "code",
      "execution_count": null,
      "metadata": {
        "_cell_guid": "b8c6284c-2f68-625e-b299-c24d9247e798"
      },
      "outputs": [],
      "source": [
        "bad_index = train[train.life_sq > train.full_sq].index\n",
        "train.ix[bad_index, \"life_sq\"] = np.NaN"
      ]
    },
    {
      "cell_type": "code",
      "execution_count": null,
      "metadata": {
        "_cell_guid": "e60b855a-8915-bafe-cba9-8153993ffc05"
      },
      "outputs": [],
      "source": [
        "fsQ1 = np.percentile(np.log1p(train.full_sq.values), 25)\n",
        "fsQ2 = np.percentile(np.log1p(train.full_sq.values), 50)\n",
        "fsQ3 = np.percentile(np.log1p(train.full_sq.values), 75)\n",
        "fsIQR=fsQ3-fsQ1\n",
        "fsinfbdd=fsQ1-1.5 * fsIQR \n",
        "fssupbdd=fsQ3+1.5 * fsIQR \n",
        "#train['full_sq'].ix[train['full_sq']>int(2.5*np.exp(fssupbdd))] = int(2.5*np.exp(fssupbdd))\n",
        "#train['full_sq'].ix[train['full_sq']<int(np.exp(13.5))] = int(np.exp(13.5))\n",
        "int(np.exp(fssupbdd))"
      ]
    },
    {
      "cell_type": "code",
      "execution_count": null,
      "metadata": {
        "_cell_guid": "6e47d3d9-13aa-56ef-53e8-24cf80f1eba8"
      },
      "outputs": [],
      "source": [
        "\n",
        "col = \"full_sq\"\n",
        "ulimit = np.percentile(train[col].values, 99.5)\n",
        "llimit = np.percentile(train[col].values, 0.5)\n",
        "#train_df[col].ix[train_df[col]>ulimit] = ulimit\n",
        "#train_df[col].ix[train_df[col]<llimit] = llimit\n",
        "ulimit"
      ]
    },
    {
      "cell_type": "code",
      "execution_count": null,
      "metadata": {
        "_cell_guid": "2df3b193-fa71-f157-74fe-251919e2c801"
      },
      "outputs": [],
      "source": [
        "bad_index = train[train.full_sq > 155].index\n",
        "bad_index"
      ]
    },
    {
      "cell_type": "code",
      "execution_count": null,
      "metadata": {
        "_cell_guid": "168cbb1a-40a1-5bd2-905a-28cf3f1f8a20"
      },
      "outputs": [],
      "source": [
        "bad_index=train[(np.log1p(train.price_doc.values)/np.log1p(train.full_sq.values+1))>6]\n",
        "bad_index['full_sq'],bad_index_['life_sq']"
      ]
    },
    {
      "cell_type": "code",
      "execution_count": null,
      "metadata": {
        "_cell_guid": "33f71f29-c35d-832d-ede0-0970126e2e4d"
      },
      "outputs": [],
      "source": [
        "plt.figure(figsize=(12,8))\n",
        "sns.distplot((np.log1p(train.price_doc.values)/np.log1p(train.full_sq.values+1)), bins=50, kde=True)\n",
        "plt.xlabel('full_sq', fontsize=12)\n",
        "plt.show()"
      ]
    },
    {
      "cell_type": "code",
      "execution_count": null,
      "metadata": {
        "_cell_guid": "e64adb1a-4ecf-e72e-bbc5-b397b7f0a165"
      },
      "outputs": [],
      "source": [
        "\n",
        "\n",
        "plt.figure(figsize=(12,12))\n",
        "sns.jointplot(x=np.log1p(train_df.full_sq.values), y=np.log1p(train_df.price_doc.values), size=10)\n",
        "plt.ylabel('Log of Price', fontsize=12)\n",
        "plt.xlabel('Log of Total area in square metre', fontsize=12)\n",
        "plt.show()"
      ]
    }
  ],
  "metadata": {
    "_change_revision": 0,
    "_is_fork": false,
    "kernelspec": {
      "display_name": "Python 3",
      "language": "python",
      "name": "python3"
    },
    "language_info": {
      "codemirror_mode": {
        "name": "ipython",
        "version": 3
      },
      "file_extension": ".py",
      "mimetype": "text/x-python",
      "name": "python",
      "nbconvert_exporter": "python",
      "pygments_lexer": "ipython3",
      "version": "3.6.0"
    }
  },
  "nbformat": 4,
  "nbformat_minor": 0
}