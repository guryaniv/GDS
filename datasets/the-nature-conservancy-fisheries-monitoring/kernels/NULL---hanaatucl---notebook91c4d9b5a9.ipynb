{
  "cells": [
    {
      "cell_type": "code",
      "execution_count": null,
      "metadata": {
        "_cell_guid": "da467a89-b485-d7cb-5358-caddd2f56eff"
      },
      "outputs": [],
      "source": [
        "# This Python 3 environment comes with many helpful analytics libraries installed\n",
        "# It is defined by the kaggle/python docker image: https://github.com/kaggle/docker-python\n",
        "# For example, here's several helpful packages to load in \n",
        "\n",
        "import numpy as np # linear algebra\n",
        "import pandas as pd # data processing, CSV file I/O (e.g. pd.read_csv)\n",
        "\n",
        "# Input data files are available in the \"../input/\" directory.\n",
        "# For example, running this (by clicking run or pressing Shift+Enter) will list the files in the input directory\n",
        "\n",
        "from subprocess import check_output\n",
        "print(check_output([\"ls\", \"../input\"]).decode(\"utf8\"))\n",
        "\n",
        "# Any results you write to the current directory are saved as output.\n",
        "\n",
        "import numpy as np\n",
        "np.random.seed(1984)\n",
        "\n",
        "import os\n",
        "import glob\n",
        "import cv2\n",
        "import datetime\n",
        "import pandas as pd\n",
        "import time\n",
        "import warnings\n",
        "warnings.filterwarnings(\"ignore\")\n",
        "\n",
        "from sklearn.cross_validation import KFold\n",
        "from keras.models import Sequential\n",
        "from keras.layers.core import Dense, Dropout, Flatten\n",
        "from keras.layers.convolutional import Convolution2D, MaxPooling2D, ZeroPadding2D, AveragePooling2D\n",
        "from keras.optimizers import SGD, Adagrad\n",
        "from keras.callbacks import EarlyStopping\n",
        "from keras.utils import np_utils\n",
        "from keras.constraints import maxnorm\n",
        "from sklearn.metrics import log_loss\n",
        "from keras import __version__ as keras_version\n",
        "\n",
        "from keras.applications.vgg16 import VGG16\n"
      ]
    },
    {
      "cell_type": "code",
      "execution_count": null,
      "metadata": {
        "_cell_guid": "596719e3-2a6d-6e6d-4fce-391497a1418d"
      },
      "outputs": [],
      "source": [
        "def get_im_cv2(path):\n",
        "    img = cv2.imread(path) #read picture's full path, return numpy.ndarray matrix\n",
        "    \n",
        "#    resized = cv2.resize(img, (64, 64), cv2.INTER_NN) # nearest neighbor\n",
        "#    resized = cv2.resize(img, (64, 64), cv2.INTER_AREA) # \n",
        "#    resized = cv2.resize(img, (64, 64), cv2.INTER_CUBIC) \n",
        "    \n",
        "    resized = cv2.resize(img, (64, 64), cv2.INTER_LINEAR)\n",
        "    return resized"
      ]
    },
    {
      "cell_type": "code",
      "execution_count": null,
      "metadata": {
        "_cell_guid": "3d7497a6-956d-b1ca-6497-46187caa6361"
      },
      "outputs": [],
      "source": [
        "def load_train():\n",
        "    X_train = []\n",
        "    X_train_id = []\n",
        "    y_train = []\n",
        "    start_time = time.time()\n",
        "\n",
        "    print('Read train images')\n",
        "    folders = ['ALB', 'BET', 'DOL', 'LAG', 'NoF', 'OTHER', 'SHARK', 'YFT']\n",
        "    for fld in folders:\n",
        "        index = folders.index(fld)\n",
        "        print('Load folder {} (Index: {})'.format(fld, index))\n",
        "        #get all jpg files in current path\n",
        "        path = os.path.join('..', 'input', 'train', fld, '*.jpg')\n",
        "        files = glob.glob(path)\n",
        "        for fl in files:\n",
        "            flbase = os.path.basename(fl) #return file name\n",
        "            img = get_im_cv2(fl)\n",
        "            X_train.append(img)\n",
        "            X_train_id.append(flbase)\n",
        "            y_train.append(index)\n",
        "\n",
        "    print('Read train data time: {} seconds'.format(round(time.time() - start_time, 2)))\n",
        "    return X_train, y_train, X_train_id"
      ]
    },
    {
      "cell_type": "code",
      "execution_count": null,
      "metadata": {
        "_cell_guid": "0d5ad431-71a7-a8c1-3cd0-2801a4cfe3c0"
      },
      "outputs": [],
      "source": [
        "X_train, y_train, X_train_id = load_train()"
      ]
    },
    {
      "cell_type": "code",
      "execution_count": null,
      "metadata": {
        "_cell_guid": "fdbbce39-6c58-830a-d7a1-c7e0b2682790"
      },
      "outputs": [],
      "source": [
        "def load_test():\n",
        "    path = os.path.join('..', 'input', 'test_stg1', '*.jpg')\n",
        "    files = sorted(glob.glob(path))\n",
        "\n",
        "    X_test = []\n",
        "    X_test_id = []\n",
        "    for fl in files:\n",
        "        flbase = os.path.basename(fl)\n",
        "        img = get_im_cv2(fl)\n",
        "        X_test.append(img)\n",
        "        X_test_id.append(flbase)\n",
        "\n",
        "    return X_test, X_test_id"
      ]
    },
    {
      "cell_type": "code",
      "execution_count": null,
      "metadata": {
        "_cell_guid": "a172775d-e907-3232-0248-31311e5f466c"
      },
      "outputs": [],
      "source": [
        "def create_submission(predictions, test_id, info):\n",
        "    result1 = pd.DataFrame(predictions, columns=['ALB', 'BET', 'DOL', 'LAG', 'NoF', 'OTHER', 'SHARK', 'YFT'])\n",
        "    result1.loc[:, 'image'] = pd.Series(test_id, index=result1.index)\n",
        "    now = datetime.datetime.now()\n",
        "    sub_file = 'submission_' + info + '_' + str(now.strftime(\"%Y-%m-%d-%H-%M\")) + '.csv'\n",
        "    result1.to_csv(sub_file, index=False)"
      ]
    },
    {
      "cell_type": "code",
      "execution_count": null,
      "metadata": {
        "_cell_guid": "ab9598e4-56f6-a255-dd3b-afecd0846018"
      },
      "outputs": [],
      "source": [
        "def read_and_normalize_train_data():\n",
        "    train_data, train_target, train_id = load_train()\n",
        "\n",
        "    print('Convert to numpy...')\n",
        "    train_data = np.array(train_data, dtype=np.uint8)\n",
        "    train_target = np.array(train_target, dtype=np.uint8)\n",
        "\n",
        "    print('Reshape...')\n",
        "    train_data = train_data.transpose((0, 3, 1, 2))\n",
        "\n",
        "    print('Convert to float...')\n",
        "    train_data = train_data.astype('float32')\n",
        "    train_data = train_data / 255\n",
        "    train_target = np_utils.to_categorical(train_target, 8)\n",
        "\n",
        "    print('Train shape:', train_data.shape)\n",
        "    print(train_data.shape[0], 'train samples')\n",
        "    return train_data, train_target, train_id"
      ]
    },
    {
      "cell_type": "code",
      "execution_count": null,
      "metadata": {
        "_cell_guid": "97f8c5b1-fd1c-f3cb-b82e-382779174885"
      },
      "outputs": [],
      "source": [
        "train_data, train_target, train_id = read_and_normalize_train_data()"
      ]
    },
    {
      "cell_type": "code",
      "execution_count": null,
      "metadata": {
        "_cell_guid": "7bde1068-20b6-7802-78a9-c1c6e3ea2411"
      },
      "outputs": [],
      "source": [
        "def read_and_normalize_test_data():\n",
        "    start_time = time.time()\n",
        "    test_data, test_id = load_test()\n",
        "\n",
        "    test_data = np.array(test_data, dtype=np.uint8)\n",
        "    test_data = test_data.transpose((0, 3, 1, 2))\n",
        "\n",
        "    test_data = test_data.astype('float32')\n",
        "    test_data = test_data / 255\n",
        "\n",
        "    print('Test shape:', test_data.shape)\n",
        "    print(test_data.shape[0], 'test samples')\n",
        "    print('Read and process test data time: {} seconds'.format(round(time.time() - start_time, 2)))\n",
        "    return test_data, test_id"
      ]
    },
    {
      "cell_type": "code",
      "execution_count": null,
      "metadata": {
        "_cell_guid": "615a0320-5b72-9c14-76f5-40a8b7146688"
      },
      "outputs": [],
      "source": [
        "def dict_to_list(d):\n",
        "    ret = []\n",
        "    for i in d.items():\n",
        "        ret.append(i[1])\n",
        "    return ret"
      ]
    },
    {
      "cell_type": "code",
      "execution_count": null,
      "metadata": {
        "_cell_guid": "53805f38-d2a9-c7a7-aeb1-96d9acff16b1"
      },
      "outputs": [],
      "source": [
        "def merge_several_folds_mean(data, nfolds):\n",
        "    a = np.array(data[0])\n",
        "    for i in range(1, nfolds):\n",
        "        a += np.array(data[i])\n",
        "    a /= nfolds\n",
        "    return a.tolist()"
      ]
    },
    {
      "cell_type": "code",
      "execution_count": null,
      "metadata": {
        "_cell_guid": "acd4df3d-c653-9b35-7362-a7e5907599e6"
      },
      "outputs": [],
      "source": [
        "def create_model():\n",
        "    model = Sequential()\n",
        "    \n",
        "    model.add(ZeroPadding2D((1, 1), input_shape=(3, 64, 64), dim_ordering='th'))\n",
        "    # 8 cnn kernel, each size is 3*3, activation func is relu (or tanh), \n",
        "    model.add(Convolution2D(8, 3, 3, activation='relu', dim_ordering='th', init='he_uniform'))\n",
        "    model.add(Dropout(0.5)) #2\n",
        "    model.add(MaxPooling2D(pool_size=(2, 2), strides=(2, 2), dim_ordering='th'))\n",
        "    model.add(ZeroPadding2D((1, 1), dim_ordering='th'))\n",
        "    model.add(Convolution2D(16, 3, 3, activation='relu', dim_ordering='th', init='he_uniform'))\n",
        "    model.add(MaxPooling2D(pool_size=(2, 2), strides=(2, 2), dim_ordering='th'))\n",
        "    model.add(Dropout(0.5)) #2\n",
        "    \n",
        "    model.add(Flatten())\n",
        "    model.add(Dense(96, activation='relu',init='he_uniform'))\n",
        "    model.add(Dropout(0.5)) #4\n",
        "    model.add(Dense(24, activation='relu',init='he_uniform'))\n",
        "    model.add(Dropout(0.5)) #2\n",
        "    model.add(Dense(8, activation='softmax'))\n",
        "\n",
        "    sgd = SGD(lr=1e-2, decay=1e-4, momentum=0.89, nesterov=False)\n",
        "    model.compile(optimizer=sgd, loss='categorical_crossentropy')\n",
        "\n",
        "    return model"
      ]
    },
    {
      "cell_type": "code",
      "execution_count": null,
      "metadata": {
        "_cell_guid": "aca383b4-7410-0272-5912-07abeccd7d66"
      },
      "outputs": [],
      "source": [
        "def get_validation_predictions(train_data, predictions_valid):\n",
        "    pv = []\n",
        "    for i in range(len(train_data)):\n",
        "        pv.append(predictions_valid[i])\n",
        "    return pv"
      ]
    },
    {
      "cell_type": "code",
      "execution_count": null,
      "metadata": {
        "_cell_guid": "65bc8b08-133f-ba30-d5f5-9db0b19e0dfb"
      },
      "outputs": [],
      "source": [
        "def VGG_16():    #\u6839\u636ekeras\u5b98\u65b9\u6587\u6863\u5efa\u7acbVGG_16\u6a21\u578b  \n",
        "  \n",
        "    model = Sequential()  \n",
        "  \n",
        "    model.add(ZeroPadding2D((1,1),input_shape=(3,224,224)))  \n",
        "    model.add(Convolution2D(64, 3, 3, activation='relu'))  \n",
        "    model.add(ZeroPadding2D((1,1)))  \n",
        "    model.add(Convolution2D(64, 3, 3, activation='relu'))  \n",
        "    model.add(MaxPooling2D((2,2), strides=(2,2)))  \n",
        "  \n",
        "  \n",
        "    model.add(ZeroPadding2D((1,1)))  \n",
        "    model.add(Convolution2D(128, 3, 3, activation='relu'))  \n",
        "    model.add(ZeroPadding2D((1,1)))  \n",
        "    model.add(Convolution2D(128, 3, 3, activation='relu'))  \n",
        "    model.add(MaxPooling2D((2,2), strides=(2,2)))  \n",
        "  \n",
        "  \n",
        "    model.add(ZeroPadding2D((1,1)))  \n",
        "    model.add(Convolution2D(256, 3, 3, activation='relu'))  \n",
        "    model.add(ZeroPadding2D((1,1)))  \n",
        "    model.add(Convolution2D(256, 3, 3, activation='relu'))  \n",
        "    model.add(ZeroPadding2D((1,1)))  \n",
        "    model.add(Convolution2D(256, 3, 3, activation='relu'))  \n",
        "    model.add(MaxPooling2D((2,2), strides=(2,2)))  \n",
        "  \n",
        "    model.add(ZeroPadding2D((1,1)))  \n",
        "    model.add(Convolution2D(512, 3, 3, activation='relu'))  \n",
        "    model.add(ZeroPadding2D((1,1)))  \n",
        "    model.add(Convolution2D(512, 3, 3, activation='relu'))  \n",
        "    model.add(ZeroPadding2D((1,1)))  \n",
        "    model.add(Convolution2D(512, 3, 3, activation='relu'))  \n",
        "    model.add(MaxPooling2D((2,2), strides=(2,2)))  \n",
        "  \n",
        "  \n",
        "    model.add(ZeroPadding2D((1,1)))  \n",
        "    model.add(Convolution2D(512, 3, 3, activation='relu'))  \n",
        "    model.add(ZeroPadding2D((1,1)))  \n",
        "    model.add(Convolution2D(512, 3, 3, activation='relu'))  \n",
        "    model.add(ZeroPadding2D((1,1)))  \n",
        "    model.add(Convolution2D(512, 3, 3, activation='relu'))  \n",
        "    model.add(MaxPooling2D((2,2), strides=(2,2)))  \n",
        "  \n",
        "  \n",
        "    model.add(Flatten())  \n",
        "    model.add(Dense(4096, activation='relu'))  \n",
        "    model.add(Dropout(0.5))  \n",
        "    model.add(Dense(4096, activation='relu'))  \n",
        "    model.add(Dropout(0.5))  \n",
        "    model.add(Dense(1000, activation='softmax'))  \n",
        "  \n",
        "    if weights_path:  \n",
        "        model.load_weights(weights_path)  \n",
        "  \n",
        "    return model"
      ]
    },
    {
      "cell_type": "code",
      "execution_count": null,
      "metadata": {
        "_cell_guid": "ec7b7dde-3915-a6f1-ba17-3fce64a7f275"
      },
      "outputs": [],
      "source": [
        "def run_cross_validation_create_models(nfolds=10):\n",
        "    # input image dimensions\n",
        "    batch_size = 64 #\n",
        "    nb_epoch = 8 #\n",
        "    random_state = 57 #51\n",
        "    first_rl = 96\n",
        "\n",
        "    train_data, train_target, train_id = read_and_normalize_train_data()\n",
        "\n",
        "    yfull_train = dict()\n",
        "    kf = KFold(len(train_id), n_folds=nfolds, shuffle=True, random_state=random_state)\n",
        "    num_fold = 0\n",
        "    sum_score = 0\n",
        "    models = []\n",
        "    for train_index, test_index in kf:\n",
        "        model = VGG_16(weights='imagenet', include_top=True)\n",
        "        #model = create_model()\n",
        "        X_train = train_data[train_index]\n",
        "        Y_train = train_target[train_index]\n",
        "        X_valid = train_data[test_index]\n",
        "        Y_valid = train_target[test_index]\n",
        "\n",
        "        num_fold += 1\n",
        "        print('Start KFold number {} from {}'.format(num_fold, nfolds))\n",
        "        print('Split train: ', len(X_train), len(Y_train))\n",
        "        print('Split valid: ', len(X_valid), len(Y_valid))\n",
        "\n",
        "        callbacks = [\n",
        "            EarlyStopping(monitor='val_loss', patience=3, verbose=0),\n",
        "        ]\n",
        "        # model.fit is a training phase\n",
        "        model.fit(X_train, Y_train, batch_size=batch_size, nb_epoch=nb_epoch,\n",
        "                  shuffle=True, #shuffle=true mean reshape data\n",
        "                  verbose=2, #output information type 0,1,2\n",
        "                  validation_data=(X_valid, Y_valid), #used for validation\n",
        "              callbacks=callbacks)\n",
        "\n",
        "        predictions_valid = model.predict(X_valid.astype('float32'), batch_size=batch_size, verbose=2)\n",
        "        score = log_loss(Y_valid, predictions_valid)\n",
        "        print('Score log_loss: ', score)\n",
        "        sum_score += score*len(test_index)\n",
        "\n",
        "        # Store valid predictions\n",
        "        for i in range(len(test_index)):\n",
        "            yfull_train[test_index[i]] = predictions_valid[i]\n",
        "\n",
        "        models.append(model)\n",
        "\n",
        "    score = sum_score/len(train_data)\n",
        "    print(\"Log_loss train independent avg: \", score)\n",
        "\n",
        "    info_string = '_' + str(np.round(score,3)) + '_flds_' + str(nfolds) + '_eps_' + str(nb_epoch) + '_fl_' + str(first_rl)\n",
        "    return info_string, models"
      ]
    },
    {
      "cell_type": "code",
      "execution_count": null,
      "metadata": {
        "_cell_guid": "b9093fb3-4d73-cd57-8b7e-c9cf16f02ad7"
      },
      "outputs": [],
      "source": [
        "def run_cross_validation_process_test(info_string, models):\n",
        "    batch_size = 32\n",
        "    num_fold = 0\n",
        "    yfull_test = []\n",
        "    test_id = []\n",
        "    nfolds = len(models)\n",
        "\n",
        "    for i in range(nfolds):\n",
        "        model = models[i]\n",
        "        num_fold += 1\n",
        "        print('Start KFold number {} from {}'.format(num_fold, nfolds))\n",
        "        test_data, test_id = read_and_normalize_test_data()\n",
        "        test_prediction = model.predict(test_data, batch_size=batch_size, verbose=2)\n",
        "        yfull_test.append(test_prediction)\n",
        "\n",
        "    test_res = merge_several_folds_mean(yfull_test, nfolds)\n",
        "    info_string = 'loss_' + info_string \\\n",
        "                + '_folds_' + str(nfolds)\n",
        "    create_submission(test_res, test_id, info_string)"
      ]
    },
    {
      "cell_type": "code",
      "execution_count": null,
      "metadata": {
        "_cell_guid": "b0feb0c4-9c1c-e531-05f0-28db1e00be13"
      },
      "outputs": [],
      "source": [
        "if __name__ == '__main__':\n",
        "    print('Keras version: {}'.format(keras_version))\n",
        "    num_folds = 3\n",
        "    info_string, models = run_cross_validation_create_models(num_folds)\n",
        "    run_cross_validation_process_test(info_string, models)"
      ]
    },
    {
      "cell_type": "code",
      "execution_count": null,
      "metadata": {
        "_cell_guid": "825ec59d-9ed8-bc09-a188-35b1eee2867f"
      },
      "outputs": [],
      "source": [
        ""
      ]
    },
    {
      "cell_type": "code",
      "execution_count": null,
      "metadata": {
        "_cell_guid": "43e2a1b8-97c4-a57a-6c6d-6df0d2bc6c92"
      },
      "outputs": [],
      "source": ""
    }
  ],
  "metadata": {
    "_change_revision": 0,
    "_is_fork": false,
    "kernelspec": {
      "display_name": "Python 3",
      "language": "python",
      "name": "python3"
    },
    "language_info": {
      "codemirror_mode": {
        "name": "ipython",
        "version": 3
      },
      "file_extension": ".py",
      "mimetype": "text/x-python",
      "name": "python",
      "nbconvert_exporter": "python",
      "pygments_lexer": "ipython3",
      "version": "3.6.0"
    }
  },
  "nbformat": 4,
  "nbformat_minor": 0
}