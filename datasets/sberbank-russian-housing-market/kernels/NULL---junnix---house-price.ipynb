{
  "cells": [
    {
      "cell_type": "markdown",
      "metadata": {
        "_cell_guid": "5b94e1fc-49b7-4d8c-7404-d2efcd6a9f97"
      },
      "source": ""
    },
    {
      "cell_type": "code",
      "execution_count": null,
      "metadata": {
        "_cell_guid": "e58fff3e-3cea-9642-9efd-72414ba50829"
      },
      "outputs": [],
      "source": [
        "# This Python 3 environment comes with many helpful analytics libraries installed\n",
        "# It is defined by the kaggle/python docker image: https://github.com/kaggle/docker-python\n",
        "# For example, here's several helpful packages to load in \n",
        "\n",
        "import numpy as np # linear algebra\n",
        "import pandas as pd # data processing, CSV file I/O (e.g. pd.read_csv)\n",
        "\n",
        "# Input data files are available in the \"../input/\" directory.\n",
        "# For example, running this (by clicking run or pressing Shift+Enter) will list the files in the input directory\n",
        "\n",
        "from subprocess import check_output\n",
        "print(check_output([\"ls\", \"../input\"]).decode(\"utf8\"))\n",
        "\n",
        "# Any results you write to the current directory are saved \n",
        "import seaborn as sns"
      ]
    },
    {
      "cell_type": "code",
      "execution_count": null,
      "metadata": {
        "_cell_guid": "097509da-10b6-6324-3d0d-827695878e2e"
      },
      "outputs": [],
      "source": [
        "train_dataset = pd.read_csv(\"../input/train.csv\")\n",
        "print(train_dataset.columns.values)"
      ]
    },
    {
      "cell_type": "code",
      "execution_count": null,
      "metadata": {
        "_cell_guid": "0f46d4a8-6b98-96a0-79e5-606f2a9e81d0"
      },
      "outputs": [],
      "source": [
        "# print train dataset shape:\n",
        "print(train_dataset.shape)\n",
        "# print columns name of train dataset\n",
        "print(train_dataset.columns.values)"
      ]
    },
    {
      "cell_type": "code",
      "execution_count": null,
      "metadata": {
        "_cell_guid": "d95a58d6-45da-1edd-48fa-b8efe558f7f9"
      },
      "outputs": [],
      "source": [
        "null_count = train_dataset.isnull().sum().sort_values(ascending = False)\n",
        "null_percent = (train_dataset.isnull().sum()/train_dataset.shape[0]).sort_values(ascending = False)\n",
        "null_info = pd.concat([null_count, null_percent], axis = 1, keys=[\"count\", \"percent\"])\n",
        "print(null_info)"
      ]
    },
    {
      "cell_type": "code",
      "execution_count": null,
      "metadata": {
        "_cell_guid": "f96e5f95-481f-c738-777a-b72fa7e6e859"
      },
      "outputs": [],
      "source": [
        "train_dataset.describe()"
      ]
    },
    {
      "cell_type": "code",
      "execution_count": null,
      "metadata": {
        "_cell_guid": "3edf1cdc-6e0e-8228-eafd-951be36c298b"
      },
      "outputs": [],
      "source": [
        "macro = pd.read_csv(\"../input/macro.csv\")\n",
        "macro.head()"
      ]
    },
    {
      "cell_type": "code",
      "execution_count": null,
      "metadata": {
        "_cell_guid": "d5619db0-ea51-fcf6-0290-72bd85e5e46a"
      },
      "outputs": [],
      "source": [
        "macro.describe()"
      ]
    },
    {
      "cell_type": "code",
      "execution_count": null,
      "metadata": {
        "_cell_guid": "a31f3e40-16cd-eac1-8cab-9543fe8df148"
      },
      "outputs": [],
      "source": [
        "train_dataset.head(10)"
      ]
    },
    {
      "cell_type": "code",
      "execution_count": null,
      "metadata": {
        "_cell_guid": "7bab2431-e51e-9168-62c8-e9b212548684"
      },
      "outputs": [],
      "source": ""
    }
  ],
  "metadata": {
    "_change_revision": 0,
    "_is_fork": false,
    "kernelspec": {
      "display_name": "Python 3",
      "language": "python",
      "name": "python3"
    },
    "language_info": {
      "codemirror_mode": {
        "name": "ipython",
        "version": 3
      },
      "file_extension": ".py",
      "mimetype": "text/x-python",
      "name": "python",
      "nbconvert_exporter": "python",
      "pygments_lexer": "ipython3",
      "version": "3.6.0"
    }
  },
  "nbformat": 4,
  "nbformat_minor": 0
}