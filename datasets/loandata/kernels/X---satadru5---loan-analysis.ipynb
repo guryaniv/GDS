{
  "cells": [
    {
      "cell_type": "code",
      "execution_count": null,
      "metadata": {
        "_cell_guid": "46173589-2a78-eeed-8c54-1c27abd5c26e"
      },
      "outputs": [],
      "source": [
        "# This Python 3 environment comes with many helpful analytics libraries installed\n",
        "# It is defined by the kaggle/python docker image: https://github.com/kaggle/docker-python\n",
        "# For example, here's several helpful packages to load in \n",
        "\n",
        "import numpy as np # linear algebra\n",
        "import pandas as pd # data processing, CSV file I/O (e.g. pd.read_csv)\n",
        "import numpy as np # linear algebra\n",
        "import pandas as pd # data processing, CSV file I/O (e.g. pd.read_csv)\n",
        "import matplotlib as mpl\n",
        "import matplotlib.pyplot as plt\n",
        "import seaborn as sns\n",
        "%matplotlib inline\n",
        "\n",
        "# Input data files are available in the \"../input/\" directory.\n",
        "# For example, running this (by clicking run or pressing Shift+Enter) will list the files in the input directory\n",
        "\n",
        "from subprocess import check_output\n",
        "print(check_output([\"ls\", \"../input\"]).decode(\"utf8\"))\n",
        "\n",
        "# Any results you write to the current directory are saved as output."
      ]
    },
    {
      "cell_type": "code",
      "execution_count": null,
      "metadata": {
        "_cell_guid": "508f1c61-2ad0-1583-41c3-390e1145419e"
      },
      "outputs": [],
      "source": [
        "data=pd.read_csv(\"../input/Loan payments data.csv\")"
      ]
    },
    {
      "cell_type": "code",
      "execution_count": null,
      "metadata": {
        "_cell_guid": "153a98e5-4b6b-7e17-5668-5888ea55d60f"
      },
      "outputs": [],
      "source": [
        "data.head(4)"
      ]
    },
    {
      "cell_type": "code",
      "execution_count": null,
      "metadata": {
        "_cell_guid": "90d2a02c-fab1-3af7-d722-16bc497dcf7b"
      },
      "outputs": [],
      "source": [
        "data['Principal'].unique()"
      ]
    },
    {
      "cell_type": "code",
      "execution_count": null,
      "metadata": {
        "_cell_guid": "d21d18fe-7631-2c7b-899b-262453e81b38"
      },
      "outputs": [],
      "source": [
        "data['loan_status'].unique()"
      ]
    },
    {
      "cell_type": "code",
      "execution_count": null,
      "metadata": {
        "_cell_guid": "0da5bf38-167a-53ec-901b-0559358d77cc"
      },
      "outputs": [],
      "source": [
        "data1=data.copy()"
      ]
    },
    {
      "cell_type": "code",
      "execution_count": null,
      "metadata": {
        "_cell_guid": "0dfe7c73-bbda-f063-d2cf-5272653d60c7"
      },
      "outputs": [],
      "source": [
        "from sklearn import preprocessing\n",
        "le=preprocessing.LabelEncoder()\n",
        "data['loan_status']=le.fit_transform(data['loan_status'])\n",
        "data['Gender']=le.fit_transform(data['Gender'])\n",
        "data['education']=le.fit_transform(data['education'])\n",
        "data['past_due_days']=le.fit_transform(data['past_due_days'])"
      ]
    },
    {
      "cell_type": "code",
      "execution_count": null,
      "metadata": {
        "_cell_guid": "fa78144d-4b86-3aef-117b-8878d2b1ae59"
      },
      "outputs": [],
      "source": [
        "data.head(5)"
      ]
    },
    {
      "cell_type": "code",
      "execution_count": null,
      "metadata": {
        "_cell_guid": "28b4a7c5-9424-b1c8-7574-4874dd78700a"
      },
      "outputs": [],
      "source": [
        "df =data1[data['past_due_days'] ==60 ]\n",
        "df.head(5)"
      ]
    },
    {
      "cell_type": "code",
      "execution_count": null,
      "metadata": {
        "_cell_guid": "c5dc4c7d-7ddb-02a6-abcc-d3dc58d20a73"
      },
      "outputs": [],
      "source": [
        "data1.groupby('loan_status')['Gender'].agg(['count'])"
      ]
    },
    {
      "cell_type": "code",
      "execution_count": null,
      "metadata": {
        "_cell_guid": "3c763382-ec76-f886-5f8d-ae62dc7cfcc8"
      },
      "outputs": [],
      "source": [
        "sns.barplot(x=\"Gender\", y=\"loan_status\", hue=\"education\", data=data);"
      ]
    },
    {
      "cell_type": "code",
      "execution_count": null,
      "metadata": {
        "_cell_guid": "3c453a4f-0de6-e1d9-663d-fbb8557e8f71"
      },
      "outputs": [],
      "source": [
        "data['past_due_days'].unique()"
      ]
    },
    {
      "cell_type": "code",
      "execution_count": null,
      "metadata": {
        "_cell_guid": "f5ad52f2-3c41-0f76-9f8d-4350a36c65ec"
      },
      "outputs": [],
      "source": [
        "#Men are likly to keep due days\n",
        "x=data.groupby('Gender')['past_due_days'].agg(['sum'])\n",
        "x=pd.DataFrame(x)\n",
        "x"
      ]
    },
    {
      "cell_type": "code",
      "execution_count": null,
      "metadata": {
        "_cell_guid": "8341268a-e1d5-6c1e-ce38-7314d446e7b2"
      },
      "outputs": [],
      "source": [
        "x"
      ]
    },
    {
      "cell_type": "code",
      "execution_count": null,
      "metadata": {
        "_cell_guid": "6e2f29da-a4ff-dee7-deb8-99ce9f9dab31"
      },
      "outputs": [],
      "source": [
        "sns.barplot(x='Gender',y='loan_status',data=data)"
      ]
    },
    {
      "cell_type": "code",
      "execution_count": null,
      "metadata": {
        "_cell_guid": "cb52ce30-7758-84a8-6bd8-56d29fc70fab"
      },
      "outputs": [],
      "source": [
        "sns.barplot(x='age',y='loan_status',data=data)"
      ]
    },
    {
      "cell_type": "code",
      "execution_count": null,
      "metadata": {
        "_cell_guid": "78df5276-5de8-d4a4-c8de-ca3402139fff"
      },
      "outputs": [],
      "source": [
        "sns.factorplot(x='age',y='loan_status',data=data)"
      ]
    },
    {
      "cell_type": "code",
      "execution_count": null,
      "metadata": {
        "_cell_guid": "697929d7-6f94-0dee-7877-9c172c6ce202"
      },
      "outputs": [],
      "source": [
        "sns.barplot(x='education',y='loan_status',data=data)"
      ]
    },
    {
      "cell_type": "code",
      "execution_count": null,
      "metadata": {
        "_cell_guid": "971f405c-3ff4-788b-48ef-537a2a58c6e2"
      },
      "outputs": [],
      "source": [
        "sns.barplot(x='Gender', y = 'loan_status', hue = 'education', data = data)"
      ]
    },
    {
      "cell_type": "code",
      "execution_count": null,
      "metadata": {
        "_cell_guid": "83e38dcc-c4c2-026c-9afc-969ecbd6b635"
      },
      "outputs": [],
      "source": [
        "sns.countplot(x='Gender',data=data)"
      ]
    },
    {
      "cell_type": "code",
      "execution_count": null,
      "metadata": {
        "_cell_guid": "2f5b7b76-e655-9db2-6796-c5ff6d58c0a5"
      },
      "outputs": [],
      "source": [
        "data.head(4)"
      ]
    },
    {
      "cell_type": "code",
      "execution_count": null,
      "metadata": {
        "_cell_guid": "39b176e7-38f8-ce8c-422b-55ff7941e994"
      },
      "outputs": [],
      "source": [
        "data2=data\n",
        "data2.drop('Loan_ID', axis=1, inplace=True)\n",
        "label = data2.pop('loan_status')"
      ]
    },
    {
      "cell_type": "code",
      "execution_count": null,
      "metadata": {
        "_cell_guid": "220c0cb7-7d48-4865-dfd8-cb8eccc2f80e"
      },
      "outputs": [],
      "source": [
        "data2.drop('effective_date', axis=1, inplace=True)\n",
        "data2.drop('due_date', axis=1, inplace=True)\n",
        "data2.drop('paid_off_time', axis=1, inplace=True)"
      ]
    },
    {
      "cell_type": "code",
      "execution_count": null,
      "metadata": {
        "_cell_guid": "5b88ef4a-a308-eba1-6530-4fa7fcae613b"
      },
      "outputs": [],
      "source": [
        "data2.head(5)"
      ]
    },
    {
      "cell_type": "code",
      "execution_count": null,
      "metadata": {
        "_cell_guid": "8bba5f82-b3c3-4e4c-edbb-07941ba55157"
      },
      "outputs": [],
      "source": [
        "####Prediction model########"
      ]
    },
    {
      "cell_type": "code",
      "execution_count": null,
      "metadata": {
        "_cell_guid": "2fa2a943-75ce-aca4-c242-0f78e19299b8"
      },
      "outputs": [],
      "source": [
        "#Train-Test split\n",
        "from sklearn.model_selection import train_test_split\n",
        "data_train, data_test, label_train, label_test = train_test_split(data2, label, test_size = 0.2, random_state = 42)"
      ]
    },
    {
      "cell_type": "code",
      "execution_count": null,
      "metadata": {
        "_cell_guid": "4bb04542-1c7b-c14c-9c41-49d6df474d4b"
      },
      "outputs": [],
      "source": [
        "#Logistic Regression\n",
        "from sklearn.linear_model import LogisticRegression\n",
        "logis = LogisticRegression()\n",
        "logis.fit(data_train, label_train)\n",
        "logis_score_train = logis.score(data_train, label_train)\n",
        "print(\"Training score: \",logis_score_train)\n",
        "logis_score_test = logis.score(data_test, label_test)\n",
        "print(\"Testing score: \",logis_score_test)"
      ]
    },
    {
      "cell_type": "code",
      "execution_count": null,
      "metadata": {
        "_cell_guid": "e1b3d8d4-5451-3894-cdd1-626b06356d3d"
      },
      "outputs": [],
      "source": [
        "coeff_df = pd.DataFrame(data2.columns.delete(0))\n",
        "coeff_df.columns = ['Features']\n",
        "coeff_df[\"Correlation\"] = pd.Series(logis.coef_[0])\n",
        "\n",
        "coeff_df.sort_values(by='Correlation', ascending=False)"
      ]
    },
    {
      "cell_type": "code",
      "execution_count": null,
      "metadata": {
        "_cell_guid": "f2d94dc3-c8ef-0da8-9a83-e2dc926a43bd"
      },
      "outputs": [],
      "source": [
        "#decision tree\n",
        "from sklearn import tree\n",
        "dt = tree.DecisionTreeClassifier()\n",
        "dt.fit(data_train, label_train)\n",
        "dt_score_train = dt.score(data_train, label_train)\n",
        "print(\"Training score: \",dt_score_train)\n",
        "dt_score_test = dt.score(data_test, label_test)\n",
        "print(\"Testing score: \",dt_score_test)"
      ]
    },
    {
      "cell_type": "code",
      "execution_count": null,
      "metadata": {
        "_cell_guid": "9147ea0b-1ac1-62c2-e61e-a522ff7ce2f7"
      },
      "outputs": [],
      "source": [
        "#decision tree\n",
        "from sklearn.ensemble import RandomForestClassifier\n",
        "dt = RandomForestClassifier()\n",
        "dt.fit(data_train, label_train)\n",
        "dt_score_train = dt.score(data_train, label_train)\n",
        "print(\"Training score: \",dt_score_train)\n",
        "dt_score_test = dt.score(data_test, label_test)\n",
        "print(\"Testing score: \",dt_score_test)"
      ]
    },
    {
      "cell_type": "code",
      "execution_count": null,
      "metadata": {
        "_cell_guid": "8b9ffaea-041d-f950-10d9-c9d267fdde1b"
      },
      "outputs": [],
      "source": [
        "#random forest\n",
        "from sklearn.ensemble import RandomForestClassifier\n",
        "rfc = RandomForestClassifier()\n",
        "rfc.fit(data_train, label_train)\n",
        "rfc_score_train = rfc.score(data_train, label_train)\n",
        "print(\"Training score: \",rfc_score_train)\n",
        "rfc_score_test = rfc.score(data_test, label_test)\n",
        "print(\"Testing score: \",rfc_score_test)"
      ]
    },
    {
      "cell_type": "code",
      "execution_count": null,
      "metadata": {
        "_cell_guid": "48b51cd6-d7d7-661e-eda8-5110e776d6ba"
      },
      "outputs": [],
      "source": [
        "#Model comparison\n",
        "models = pd.DataFrame({\n",
        "        'Model'          : ['Logistic Regression',  'Decision Tree', 'Random Forest'],\n",
        "        'Training_Score' : [logis_score_train,  dt_score_train, rfc_score_train],\n",
        "        'Testing_Score'  : [logis_score_test, dt_score_test, rfc_score_test]\n",
        "    })\n",
        "models.sort_values(by='Testing_Score', ascending=False)"
      ]
    }
  ],
  "metadata": {
    "_change_revision": 0,
    "_is_fork": false,
    "kernelspec": {
      "display_name": "Python 3",
      "language": "python",
      "name": "python3"
    },
    "language_info": {
      "codemirror_mode": {
        "name": "ipython",
        "version": 3
      },
      "file_extension": ".py",
      "mimetype": "text/x-python",
      "name": "python",
      "nbconvert_exporter": "python",
      "pygments_lexer": "ipython3",
      "version": "3.6.0"
    }
  },
  "nbformat": 4,
  "nbformat_minor": 0
}