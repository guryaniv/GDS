{
  "cells": [
    {
      "cell_type": "markdown",
      "metadata": {
        "_cell_guid": "a39286d6-5c3a-94ce-f79f-6351ee36260c"
      },
      "source": ""
    },
    {
      "cell_type": "code",
      "execution_count": null,
      "metadata": {
        "_cell_guid": "f9041bd7-97f4-0a64-22d8-c8c00096b257"
      },
      "outputs": [],
      "source": [
        "import numpy as np # linear algebra\n",
        "import pandas as pd # data processing, CSV file I/O (e.g. pd.read_csv)\n",
        "\n",
        "# Input data files are available in the \"../input/\" directory.\n",
        "# For example, running this (by clicking run or pressing Shift+Enter) will list the files in the input directory\n",
        "\n",
        "from subprocess import check_output\n",
        "print(check_output([\"ls\", \"../input\"]).decode(\"utf8\"))\n",
        "\n",
        "from sklearn.metrics import mean_absolute_error"
      ]
    },
    {
      "cell_type": "markdown",
      "metadata": {
        "_cell_guid": "9af3bf5c-c7bf-c3e8-6dd5-f75aed9e21cb"
      },
      "source": ""
    },
    {
      "cell_type": "code",
      "execution_count": null,
      "metadata": {
        "_cell_guid": "4ad08f6b-f346-cd96-99f3-00afa2cc42f7"
      },
      "outputs": [],
      "source": [
        "data_path = '../input/'\n",
        "train = pd.read_csv(data_path + 'train_2016.csv')\n",
        "ss = pd.read_csv(data_path + 'sample_submission.csv')\n",
        "\n",
        "subm = ss.copy()"
      ]
    },
    {
      "cell_type": "markdown",
      "metadata": {
        "_cell_guid": "7b8ea83e-a157-ec0d-87c9-7efbc6b8f01c"
      },
      "source": ""
    },
    {
      "cell_type": "code",
      "execution_count": null,
      "metadata": {
        "_cell_guid": "61578d78-5439-48f4-9c4a-de9e9fd5c914"
      },
      "outputs": [],
      "source": [
        "n = 4\n",
        "# Simple mean\n",
        "mu = round(train.logerror.mean(), n)\n",
        "ans = [mu] * len(train['logerror'])\n",
        "errs = mean_absolute_error(train['logerror'].values, ans)\n",
        "print('mu = ' + str(mu) + ', mae = ' + str(errs) + ', LB = 0.0652995')"
      ]
    },
    {
      "cell_type": "markdown",
      "metadata": {
        "_cell_guid": "64de92ed-d8f2-8a35-81a5-840e0e3fc4f2"
      },
      "source": ""
    },
    {
      "cell_type": "code",
      "execution_count": null,
      "metadata": {
        "_cell_guid": "c7d94197-06ef-4771-bd96-4cccf8112202"
      },
      "outputs": [],
      "source": [
        "start_val = -0.02\n",
        "step = 0.0001\n",
        "iters = 400\n",
        "\n",
        "mu_vals = np.array([start_val + step*i for i in range(iters)])\n",
        "errs = np.empty(len(mu_vals))\n",
        "for i, mu in enumerate(mu_vals):\n",
        "    ans = [mu] * len(train['logerror'])\n",
        "    errs[i] = mean_absolute_error(train['logerror'].values, ans)\n",
        "mu = mu_vals[np.argmin(errs)]\n",
        "print('mu = ' + str(mu) + ', mae = ' + str(np.min(errs)) + ', LB = 0.0656439')\n"
      ]
    },
    {
      "cell_type": "markdown",
      "metadata": {
        "_cell_guid": "ebf80410-cfc2-698a-c8a3-6fdaca201d81"
      },
      "source": ""
    },
    {
      "cell_type": "code",
      "execution_count": null,
      "metadata": {
        "_cell_guid": "e05cad0d-9021-41e9-f800-6fd3b5a6996c"
      },
      "outputs": [],
      "source": [
        "train['month'] = train.transactiondate.apply(lambda x: int(x.split('-')[1]))\n",
        "mu_vals = np.array([start_val + step*i for i in range(iters)])\n",
        "mu_buf = np.zeros(3)\n",
        "for m_i, m in enumerate(range(10, 13)):\n",
        "    errs = np.empty(len(mu_vals))\n",
        "    for i, mu in enumerate(mu_vals):\n",
        "        ans = [mu] * len(train[train['month'] >= m]['logerror'].values)\n",
        "        errs[i] = mean_absolute_error(train[train['month'] >= m]['logerror'].values, ans)\n",
        "    mu_buf[m_i] = mu_vals[np.argmin(errs)]\n",
        "print('mu = ' + str(mu_buf) + ', LB = 0.0653038')\n",
        "\n",
        "subm['201610'] = mu_buf[0]\n",
        "subm['201611'] = mu_buf[1]\n",
        "subm['201612'] = mu_buf[2]\n",
        "\n",
        "subm['201710'] = mu_buf[2]\n",
        "subm['201711'] = mu_buf[2]\n",
        "subm['201712'] = mu_buf[2]"
      ]
    },
    {
      "cell_type": "markdown",
      "metadata": {
        "_cell_guid": "db104908-d2fc-5676-cbe0-48ce69f6a2dd"
      },
      "source": ""
    },
    {
      "cell_type": "code",
      "execution_count": null,
      "metadata": {
        "_cell_guid": "4cc59f3d-9f3e-e84f-b36b-7692e9beded0"
      },
      "outputs": [],
      "source": [
        "subm.to_csv('submission.csv', index=False, float_format=('%.' + str(n) + 'f'))\n"
      ]
    }
  ],
  "metadata": {
    "_change_revision": 0,
    "_is_fork": false,
    "kernelspec": {
      "display_name": "Python 3",
      "language": "python",
      "name": "python3"
    },
    "language_info": {
      "codemirror_mode": {
        "name": "ipython",
        "version": 3
      },
      "file_extension": ".py",
      "mimetype": "text/x-python",
      "name": "python",
      "nbconvert_exporter": "python",
      "pygments_lexer": "ipython3",
      "version": "3.6.0"
    }
  },
  "nbformat": 4,
  "nbformat_minor": 0
}