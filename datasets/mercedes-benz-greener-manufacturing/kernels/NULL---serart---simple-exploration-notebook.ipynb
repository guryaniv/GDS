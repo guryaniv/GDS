{
  "cells": [
    {
      "cell_type": "markdown",
      "metadata": {
        "_cell_guid": "3f4a9ce8-cc82-5f85-766f-25ad64145e62"
      },
      "source": [
        "Import all libs and train and test data."
      ]
    },
    {
      "cell_type": "code",
      "execution_count": null,
      "metadata": {
        "_cell_guid": "7979b2c5-aa2d-972c-de18-402ebb705c2b"
      },
      "outputs": [],
      "source": [
        "import numpy as np\n",
        "import pandas as pd \n",
        "import matplotlib.pyplot as plot\n",
        "import seaborn as sns\n",
        "\n",
        "color = sns.color_palette()\n",
        "\n",
        "%matplotlib inline\n",
        "\n",
        "pd.options.mode.chained_assignment = None\n",
        "pd.options.display.max_columns = 999\n",
        "\n",
        "from subprocess import check_output\n",
        "print(check_output([\"ls\", \"../input\"]).decode(\"utf8\"))\n",
        "\n",
        "train_df = pd.read_csv(\"../input/train.csv\")\n",
        "test_df = pd.read_csv(\"../input/test.csv\")"
      ]
    },
    {
      "cell_type": "markdown",
      "metadata": {
        "_cell_guid": "c0e7c231-6260-6e2b-8561-9433d302aee0"
      },
      "source": [
        "Get all intresting features."
      ]
    },
    {
      "cell_type": "code",
      "execution_count": null,
      "metadata": {
        "_cell_guid": "8d2da7a7-162b-4210-16fd-d7b88de8589a"
      },
      "outputs": [],
      "source": [
        "print('Train shape: ', train_df.shape)\n",
        "print('Test shape: ', test_df.shape)\n",
        "\n",
        "train_df.head()\n",
        "\n",
        "y = train_df['y'].values\n",
        "\n",
        "print('Y mean: ', np.mean(y))\n",
        "print('Standart: ', np.std(y))"
      ]
    },
    {
      "cell_type": "markdown",
      "metadata": {
        "_cell_guid": "6aa35245-130e-b4c4-8766-0ecd339edbb6"
      },
      "source": [
        "**Take some plots.**"
      ]
    },
    {
      "cell_type": "markdown",
      "metadata": {
        "_cell_guid": "c8b9c74a-ac73-9d5e-8bd2-df49de5dd158"
      },
      "source": [
        "Y sorted plot."
      ]
    },
    {
      "cell_type": "code",
      "execution_count": null,
      "metadata": {
        "_cell_guid": "9c2107e3-e972-fb57-a1ae-2e359478f99b"
      },
      "outputs": [],
      "source": [
        "plot.figure(figsize=(12,8))\n",
        "plot.scatter(range(train_df.shape[0]), np.sort(train_df.y.values))\n",
        "plot.xlabel('index', fontsize=12)\n",
        "plot.ylabel('y', fontsize=12)\n",
        "plot.show()"
      ]
    },
    {
      "cell_type": "markdown",
      "metadata": {
        "_cell_guid": "8d0f7901-0818-6bba-2d8e-4583547002d5"
      },
      "source": [
        "Y distribution."
      ]
    },
    {
      "cell_type": "code",
      "execution_count": null,
      "metadata": {
        "_cell_guid": "648e1939-494d-3ea4-9e83-3065bfde3922"
      },
      "outputs": [],
      "source": [
        "plot.figure(figsize=(12,8))\n",
        "sns.distplot(y, bins=50, kde=False)\n",
        "plot.xlabel('y value', fontsize=12)\n",
        "plot.show()"
      ]
    }
  ],
  "metadata": {
    "_change_revision": 0,
    "_is_fork": false,
    "kernelspec": {
      "display_name": "Python 3",
      "language": "python",
      "name": "python3"
    },
    "language_info": {
      "codemirror_mode": {
        "name": "ipython",
        "version": 3
      },
      "file_extension": ".py",
      "mimetype": "text/x-python",
      "name": "python",
      "nbconvert_exporter": "python",
      "pygments_lexer": "ipython3",
      "version": "3.6.0"
    }
  },
  "nbformat": 4,
  "nbformat_minor": 0
}