{
  "cells": [
    {
      "cell_type": "markdown",
      "metadata": {
        "_cell_guid": "89f5448d-5a48-138b-a974-3221d67fe5cc"
      },
      "source": [
        ""
      ]
    },
    {
      "cell_type": "code",
      "execution_count": null,
      "metadata": {
        "_cell_guid": "a56a1a4f-a038-92b2-8789-80ae047e09d4"
      },
      "outputs": [],
      "source": [
        "# This Python 3 environment comes with many helpful analytics libraries installed\n",
        "# It is defined by the kaggle/python docker image: https://github.com/kaggle/docker-python\n",
        "# For example, here's several helpful packages to load in \n",
        "import numpy as np # linear algebra\n",
        "import pandas as pd # data processing, CSV file I/O (e.g. pd.read_csv)\n",
        "from subprocess import check_output\n",
        "print(check_output([\"ls\", \"../input\"]).decode(\"utf8\"))"
      ]
    },
    {
      "cell_type": "code",
      "execution_count": null,
      "metadata": {
        "_cell_guid": "203d182c-c375-d497-3d88-cd85559132ec"
      },
      "outputs": [],
      "source": [
        "import matplotlib.pyplot as plt\n",
        "import seaborn as sns"
      ]
    },
    {
      "cell_type": "code",
      "execution_count": null,
      "metadata": {
        "_cell_guid": "63928a43-ea25-3e4f-6921-1ca049e42bbb"
      },
      "outputs": [],
      "source": [
        "credit = pd.read_csv('../input/creditcard.csv')\n",
        "credit['Class'].value_counts().plot(kind = 'bar')\n",
        "plt.xlabel('Class')\n",
        "plt.ylabel('Transcation_Num')\n",
        "plt.title('Transcation_Num by Class')"
      ]
    },
    {
      "cell_type": "markdown",
      "metadata": {
        "_cell_guid": "37205f42-4bed-66c2-be03-b3c0d3a406ca"
      },
      "source": [
        "It is can be seen the data is extremely unbalanced.\n",
        "Here I use downgrade the data size of class=0\n",
        "I randomly pick up the same number as class=0 from class =1"
      ]
    },
    {
      "cell_type": "code",
      "execution_count": null,
      "metadata": {
        "_cell_guid": "e69da80f-59a8-b2ad-10c3-dbd712e4cf78"
      },
      "outputs": [],
      "source": [
        "sns.heatmap(credit.corr())"
      ]
    },
    {
      "cell_type": "markdown",
      "metadata": {
        "_cell_guid": "254cf9c6-6f0b-84f9-71df-a800fbc47ec3"
      },
      "source": [
        "From the chart above, we can tell the V8,V13,V15,V21-V28 does not corelated with Class"
      ]
    },
    {
      "cell_type": "code",
      "execution_count": null,
      "metadata": {
        "_cell_guid": "b4820836-be06-677e-681f-08afe855abf1"
      },
      "outputs": [],
      "source": [
        "#credit_drop = credit.drop([\"V8\",\"V13\",\"V15\",'V21','V22','V23','V24','V25','V26',\"V27\",\"V28\",'Time'],axis =1)"
      ]
    },
    {
      "cell_type": "code",
      "execution_count": null,
      "metadata": {
        "_cell_guid": "6e9da871-6a8f-13f0-e4a2-0a574beec0ff"
      },
      "outputs": [],
      "source": [
        "#get negetive transaction number and index\n",
        "nege_num = len(credit[credit['Class']==1])\n",
        "nege_index = np.array((credit[credit['Class']==1]).index)\n",
        "\n",
        "#get positive transaction index and select the same amount of transcation of negetive\n",
        "posi_index = np.array(credit[credit['Class']==0].index)\n",
        "new_posi_index = np.random.choice(posi_index,nege_num,replace=False)\n",
        "\n",
        "#negetive index add new postive index and get the new credit data\n",
        "total_index = np.append(nege_index,new_posi_index)\n",
        "downgrade_credit = credit.iloc[total_index,:]"
      ]
    },
    {
      "cell_type": "code",
      "execution_count": null,
      "metadata": {
        "_cell_guid": "ea05d8f3-8e0c-832d-11d1-cbd962a2d94f"
      },
      "outputs": [],
      "source": [
        "#check Class =1 and Class =0 numbers\n",
        "downgrade_credit['Class'].value_counts()"
      ]
    },
    {
      "cell_type": "code",
      "execution_count": null,
      "metadata": {
        "_cell_guid": "f25589b9-2790-a85b-108e-8c71c084e63f"
      },
      "outputs": [],
      "source": [
        "from sklearn.cross_validation import train_test_split\n",
        "from sklearn.metrics import confusion_matrix\n",
        "from sklearn.metrics import roc_curve\n",
        "from sklearn.linear_model import LogisticRegression\n",
        "from sklearn.model_selection import KFold, cross_val_score\n",
        "from sklearn.metrics import auc,roc_auc_score,recall_score,classification_report,precision_recall_curve"
      ]
    },
    {
      "cell_type": "code",
      "execution_count": null,
      "metadata": {
        "_cell_guid": "2ac117b8-823f-9413-4c69-90b489e3f870"
      },
      "outputs": [],
      "source": [
        "#get the train set and test set\n",
        "target = downgrade_credit['Class']\n",
        "data = downgrade_credit.loc[:,downgrade_credit.columns != 'Class']\n",
        "x_train,x_test,y_train,y_test = train_test_split(data,target,test_size = 0.33)\n",
        "print (\"There are {0} items in x_train\".format(len(x_train)))\n",
        "print (\"There are {0} items in x_text\".format(len(x_test)))"
      ]
    },
    {
      "cell_type": "code",
      "execution_count": null,
      "metadata": {
        "_cell_guid": "5e5f1e44-6107-c942-fa64-3a69c802769c"
      },
      "outputs": [],
      "source": [
        "# Do the Logistic Regression\n",
        "\n",
        "logreg = LogisticRegression(C = 100, penalty = 'l1')\n",
        "logreg.fit(x_train,y_train.values.ravel())\n",
        "y_pred= logreg.predict(x_test)\n",
        "cnf_matrix = confusion_matrix(y_test,y_pred)\n",
        "plt.matshow(cnf_matrix)\n",
        "plt.colorbar()\n",
        "\n",
        "print('cr:', classification_report(y_test,y_pred))\n",
        "print('recall_score:', recall_score(y_test,y_pred))\n",
        "print('roc_auc_score:',roc_auc_score(y_test,y_pred))"
      ]
    },
    {
      "cell_type": "code",
      "execution_count": null,
      "metadata": {
        "_cell_guid": "8a6fca35-489e-7474-e7d7-0df7c4cd5d9c"
      },
      "outputs": [],
      "source": [
        "y_predprob = logreg.predict_proba(x_test)[:, 1]\n",
        "fpr, tpr, thresholds = roc_curve(y_test.values.ravel(),y_predprob)\n",
        "roc_auc = auc(fpr,tpr)\n",
        "plt.plot(fpr,tpr)\n",
        "plt.xlabel('fpr')\n",
        "plt.ylabel('tpr')\n",
        "plt.title('ROC curve')\n",
        "print (roc_auc)"
      ]
    },
    {
      "cell_type": "code",
      "execution_count": null,
      "metadata": {
        "_cell_guid": "7f713c60-0b45-95b5-0a05-32b5ebe0ea34"
      },
      "outputs": [],
      "source": [
        ""
      ]
    }
  ],
  "metadata": {
    "_change_revision": 0,
    "_is_fork": false,
    "kernelspec": {
      "display_name": "Python 3",
      "language": "python",
      "name": "python3"
    },
    "language_info": {
      "codemirror_mode": {
        "name": "ipython",
        "version": 3
      },
      "file_extension": ".py",
      "mimetype": "text/x-python",
      "name": "python",
      "nbconvert_exporter": "python",
      "pygments_lexer": "ipython3",
      "version": "3.6.0"
    }
  },
  "nbformat": 4,
  "nbformat_minor": 0
}