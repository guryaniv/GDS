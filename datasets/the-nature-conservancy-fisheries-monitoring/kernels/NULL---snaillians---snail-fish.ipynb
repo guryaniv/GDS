{
  "cells": [
    {
      "cell_type": "markdown",
      "metadata": {
        "_cell_guid": "f2fbf340-24e1-81df-26c0-aa73da83e0de"
      },
      "source": [
        "**my first try in this project**\n"
      ]
    },
    {
      "cell_type": "code",
      "execution_count": null,
      "metadata": {
        "_cell_guid": "adf25dd0-e80a-50b0-be25-bf9f4fef438f"
      },
      "outputs": [],
      "source": [
        "# This Python 3 environment comes with many helpful analytics libraries installed\n",
        "# It is defined by the kaggle/python docker image: https://github.com/kaggle/docker-python\n",
        "# For example, here's several helpful packages to load in \n",
        "\n",
        "import numpy as np # linear algebra\n",
        "import pandas as pd # data processing, CSV file I/O (e.g. pd.read_csv)\n",
        "\n",
        "# Input data files are available in the \"../input/\" directory.\n",
        "# For example, running this (by clicking run or pressing Shift+Enter) will list the files in the input directory\n",
        "\n",
        "from subprocess import check_output\n",
        "print(check_output([\"ls\", \"../input\"]).decode(\"utf8\"))\n",
        "#print(check_output([\"ls\", \"../input/train/ALB\"]).decode(\"utf8\"))\n",
        "# Any results you write to the current directory are saved as output."
      ]
    },
    {
      "cell_type": "code",
      "execution_count": null,
      "metadata": {
        "_cell_guid": "53a8bbc2-a2cd-b0b5-2abb-ac45fda787da"
      },
      "outputs": [],
      "source": [
        "import pandas as pd\n",
        "import numpy as np\n",
        "import glob\n",
        "from sklearn import cluster\n",
        "from scipy.misc import imread\n",
        "import cv2\n",
        "import skimage.measure as sm\n",
        "# import progressbar\n",
        "import multiprocessing\n",
        "import random\n",
        "import matplotlib.pyplot as plt\n",
        "import seaborn as sns\n",
        "%matplotlib inline\n",
        "new_style = {'grid': False}\n",
        "plt.rc('axes', **new_style)\n",
        "\n",
        "# Function to show 4 images\n",
        "def show_four(imgs, title):\n",
        "    #select_imgs = [np.random.choice(imgs) for _ in range(4)]\n",
        "    select_imgs = [imgs[np.random.choice(len(imgs))] for _ in range(4)]\n",
        "    _, ax = plt.subplots(1, 4, sharex='col', sharey='row', figsize=(20, 3))\n",
        "    plt.suptitle(title, size=20)\n",
        "    for i, img in enumerate(select_imgs):\n",
        "        ax[i].imshow(img)\n",
        "\n",
        "# Function to show 8 images\n",
        "def show_eight(imgs, title):\n",
        "    select_imgs = [imgs[np.random.choice(len(imgs))] for _ in range(8)]\n",
        "    _, ax = plt.subplots(2, 4, sharex='col', sharey='row', figsize=(20, 6))\n",
        "    plt.suptitle(title, size=20)\n",
        "    for i, img in enumerate(select_imgs):\n",
        "        ax[i // 4, i % 4].imshow(img)"
      ]
    },
    {
      "cell_type": "code",
      "execution_count": null,
      "metadata": {
        "_cell_guid": "e7116998-e0c2-c0ae-2931-a0ddc0e7236a"
      },
      "outputs": [],
      "source": [
        "select = 500 # Only load 500 images for speed\n",
        "# Data loading\n",
        "train_files = sorted(glob.glob('../input/train/*/*.jpg'), key=lambda x: random.random())[:select]\n",
        "train = np.array([imread(img) for img in train_files])\n",
        "print('Length of train {}'.format(len(train)))"
      ]
    },
    {
      "cell_type": "code",
      "execution_count": null,
      "metadata": {
        "_cell_guid": "0c25543d-8614-7af7-5660-ef5e4af4211e"
      },
      "outputs": [],
      "source": [
        "print('Sizes in train:')\n",
        "shapes = np.array([str(img.shape) for img in train])\n",
        "pd.Series(shapes).value_counts()"
      ]
    },
    {
      "cell_type": "code",
      "execution_count": null,
      "metadata": {
        "_cell_guid": "819d33f5-620e-0796-b66d-eb3cec256691"
      },
      "outputs": [],
      "source": [
        "for uniq in pd.Series(shapes).unique():\n",
        "    show_four(train[shapes == uniq], 'Images with shape: {}'.format(uniq))\n",
        "    plt.show()"
      ]
    },
    {
      "cell_type": "code",
      "execution_count": null,
      "metadata": {
        "_cell_guid": "e420f84e-1d21-557d-1a30-df18db460360"
      },
      "outputs": [],
      "source": [
        ""
      ]
    }
  ],
  "metadata": {
    "_change_revision": 0,
    "_is_fork": false,
    "kernelspec": {
      "display_name": "Python 3",
      "language": "python",
      "name": "python3"
    },
    "language_info": {
      "codemirror_mode": {
        "name": "ipython",
        "version": 3
      },
      "file_extension": ".py",
      "mimetype": "text/x-python",
      "name": "python",
      "nbconvert_exporter": "python",
      "pygments_lexer": "ipython3",
      "version": "3.6.0"
    }
  },
  "nbformat": 4,
  "nbformat_minor": 0
}