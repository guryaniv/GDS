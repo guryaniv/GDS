{
  "cells": [
    {
      "cell_type": "code",
      "execution_count": null,
      "metadata": {
        "_cell_guid": "f45602e8-f4aa-8d08-328a-4fddbc5af252"
      },
      "outputs": [],
      "source": [
        "# This Python 3 environment comes with many helpful analytics libraries installed\n",
        "# It is defined by the kaggle/python docker image: https://github.com/kaggle/docker-python\n",
        "# For example, here's several helpful packages to load in \n",
        "\n",
        "import numpy as np # linear algebra\n",
        "import pandas as pd # data processing, CSV file I/O (e.g. pd.read_csv)\n",
        "import matplotlib.pyplot as plt\n",
        "import seaborn as sns\n",
        "\n",
        "# Input data files are available in the \"../input/\" directory.\n",
        "# For example, running this (by clicking run or pressing Shift+Enter) will list the files in the input directory\n",
        "\n",
        "from subprocess import check_output\n",
        "print(check_output([\"ls\", \"../input\"]).decode(\"utf8\"))\n",
        "\n",
        "# Any results you write to the current directory are saved as output."
      ]
    },
    {
      "cell_type": "code",
      "execution_count": null,
      "metadata": {
        "_cell_guid": "3230b6ef-98b6-565c-68e1-31d908f8e504"
      },
      "outputs": [],
      "source": [
        "data = pd.read_csv('../input/PS_20174392719_1491204439457_log.csv')\n",
        "data.head(10)"
      ]
    },
    {
      "cell_type": "code",
      "execution_count": null,
      "metadata": {
        "_cell_guid": "749f3189-2648-3a6a-24e3-62428e533297"
      },
      "outputs": [],
      "source": [
        "# data types\n",
        "data.dtypes"
      ]
    },
    {
      "cell_type": "markdown",
      "metadata": {
        "_cell_guid": "1d7d25a3-c1d1-28c8-bb7f-16def3f2a618"
      },
      "source": [
        "The data types appear to be in the correct formats. If they weren't, that would've been a sign that some data might be missing. I'll look at the columns to see if anything is actually missing, just as a precautionary step. "
      ]
    },
    {
      "cell_type": "code",
      "execution_count": null,
      "metadata": {
        "_cell_guid": "c5cb7ff6-277b-f631-6f6e-30c5d4a7c831"
      },
      "outputs": [],
      "source": [
        "data.isnull().any()"
      ]
    },
    {
      "cell_type": "code",
      "execution_count": null,
      "metadata": {
        "_cell_guid": "d36e9597-2a7b-7900-3501-9f0f4bbb9977"
      },
      "outputs": [],
      "source": [
        "data.describe()"
      ]
    },
    {
      "cell_type": "markdown",
      "metadata": {
        "_cell_guid": "f49c7bab-8797-a700-89a9-4d7a0fd96195"
      },
      "source": [
        "I should probably check out what percentage of my transactions are fraudulent since I'm dealing with a situation where classes are unbalanced. "
      ]
    },
    {
      "cell_type": "code",
      "execution_count": null,
      "metadata": {
        "_cell_guid": "eb2e667e-7661-a84a-277d-8a38b17379ab"
      },
      "outputs": [],
      "source": [
        "data['isFraud'].value_counts(normalize = True)"
      ]
    },
    {
      "cell_type": "markdown",
      "metadata": {
        "_cell_guid": "f81f5455-717e-9272-989e-180b68b3a69a"
      },
      "source": [
        "Interestingly enough, the type of transaction is broken up into a few different types. Here they are:"
      ]
    },
    {
      "cell_type": "code",
      "execution_count": null,
      "metadata": {
        "_cell_guid": "9881b23e-b724-2eaa-43b6-91fcfc62250d"
      },
      "outputs": [],
      "source": [
        "data['type'].unique()"
      ]
    },
    {
      "cell_type": "markdown",
      "metadata": {
        "_cell_guid": "e00cf0a2-c20f-b3ec-a278-7c0ce374e6fa"
      },
      "source": [
        "So the types of transactions can be broken down into:\n",
        "\n",
        "* Payments\n",
        "* Transfers\n",
        "* Cash Out\n",
        "* Cash In\n",
        "* Debit"
      ]
    },
    {
      "cell_type": "code",
      "execution_count": null,
      "metadata": {
        "_cell_guid": "0be73e1b-11b1-125f-3759-ab6c337ce9bf"
      },
      "outputs": [],
      "source": [
        "group_by_transaction = data.groupby(['type','isFraud']).size().unstack()\n",
        "group_by_transaction"
      ]
    },
    {
      "cell_type": "code",
      "execution_count": null,
      "metadata": {
        "_cell_guid": "e59cd75e-ca13-83bf-10fe-02657d781f09"
      },
      "outputs": [],
      "source": [
        "group_by_transaction.plot(kind = 'barh', stacked = True)"
      ]
    },
    {
      "cell_type": "code",
      "execution_count": null,
      "metadata": {
        "_cell_guid": "bc44617f-e4a1-c639-3f2c-00c42db0a561"
      },
      "outputs": [],
      "source": ""
    }
  ],
  "metadata": {
    "_change_revision": 0,
    "_is_fork": false,
    "kernelspec": {
      "display_name": "Python 3",
      "language": "python",
      "name": "python3"
    },
    "language_info": {
      "codemirror_mode": {
        "name": "ipython",
        "version": 3
      },
      "file_extension": ".py",
      "mimetype": "text/x-python",
      "name": "python",
      "nbconvert_exporter": "python",
      "pygments_lexer": "ipython3",
      "version": "3.6.0"
    }
  },
  "nbformat": 4,
  "nbformat_minor": 0
}