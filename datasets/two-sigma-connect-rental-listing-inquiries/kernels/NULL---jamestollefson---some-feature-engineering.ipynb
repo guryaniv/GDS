{
  "cells": [
    {
      "cell_type": "code",
      "execution_count": null,
      "metadata": {
        "_cell_guid": "bde5caa5-ffeb-8d34-02ee-b13077257b6d"
      },
      "outputs": [],
      "source": [
        "# This Python 3 environment comes with many helpful analytics libraries installed\n",
        "# It is defined by the kaggle/python docker image: https://github.com/kaggle/docker-python\n",
        "# For example, here's several helpful packages to load in \n",
        "\n",
        "import numpy as np # linear algebra\n",
        "import pandas as pd # data processing, CSV file I/O (e.g. pd.read_csv)\n",
        "\n",
        "# Input data files are available in the \"../input/\" directory.\n",
        "# For example, running this (by clicking run or pressing Shift+Enter) will list the files in the input directory\n",
        "\n",
        "from subprocess import check_output\n",
        "print(check_output([\"ls\", \"../input\"]).decode(\"utf8\"))\n",
        "\n",
        "# Any results you write to the current directory are saved as output."
      ]
    },
    {
      "cell_type": "code",
      "execution_count": null,
      "metadata": {
        "_cell_guid": "71980564-d2f6-4c07-874f-9968c771322d"
      },
      "outputs": [],
      "source": [
        "import seaborn as sns\n",
        "import matplotlib.pyplot as plt\n",
        "from sklearn.cluster import DBSCAN\n",
        "from  geopy.distance import great_circle\n",
        "from shapely.geometry import MultiPoint\n",
        "from sklearn.preprocessing import LabelEncoder\n",
        "from mpl_toolkits.mplot3d import Axes3D\n",
        "\n",
        "train = pd.read_json('../input/train.json')\n",
        "print(train.info())"
      ]
    },
    {
      "cell_type": "code",
      "execution_count": null,
      "metadata": {
        "_cell_guid": "2edef212-33a9-2c35-d712-71d823a0db93"
      },
      "outputs": [],
      "source": [
        "coords = train.as_matrix(columns=['longitude', 'latitude'])\n",
        "epsilon = .0001\n",
        "db = DBSCAN(eps=epsilon, min_samples=1, algorithm='ball_tree', metric='haversine', n_jobs=-1).fit(np.radians(coords))\n",
        "cluster_labels = db.labels_\n",
        "num_clusters = len(set(cluster_labels))\n",
        "clusters = pd.Series([coords[cluster_labels == n] for n in range(num_clusters)])\n",
        "print('Number of clusters: {}'.format(num_clusters))   "
      ]
    },
    {
      "cell_type": "code",
      "execution_count": null,
      "metadata": {
        "_cell_guid": "96754790-7674-1843-accc-5dc5a010e636"
      },
      "outputs": [],
      "source": [
        "neighbors = pd.Series(cluster_labels, index=train.index)\n",
        "train['clusters'] = neighbors\n",
        "print(train[train['clusters'] > 0])"
      ]
    },
    {
      "cell_type": "code",
      "execution_count": null,
      "metadata": {
        "_cell_guid": "2edc8408-6261-c1cc-f351-d45e616b618c"
      },
      "outputs": [],
      "source": [
        "train['display_address'] = train['display_address'].str.lower()\n",
        "train['display_address'] = train['display_address'].str.replace('east ', 'e ')\n",
        "train['display_address'] = train['display_address'].str.replace('west ', 'w ')\n",
        "train['display_address'] = train['display_address'].str.replace('north ', 'n ')\n",
        "train['display_address'] = train['display_address'].str.replace('south ', 's ')\n",
        "train['display_address'] = train['display_address'].str.replace(' street', ' st')\n",
        "train['display_address'] = train['display_address'].str.replace(' st.', ' st')\n",
        "train['display_address'] = train['display_address'].str.replace(' avenue', ' ave')\n",
        "train['display_address'] = train['display_address'].str.replace(' ave.', ' ave')\n",
        "train['display_address'] = train['display_address'].str.replace(' boulevard', ' blvd')\n",
        "train['display_address'] = train['display_address'].str.replace(' blvd.', ' blvd')\n",
        "train['display_address'] = train['display_address'].str.replace(' pl.', ' pl')\n",
        "train['display_address'] = train['display_address'].str.replace(' place', ' pl')\n",
        "\n",
        "number = LabelEncoder()\n",
        "train['display_address'] = number.fit_transform(train['display_address'].astype('str'))"
      ]
    },
    {
      "cell_type": "code",
      "execution_count": null,
      "metadata": {
        "_cell_guid": "cde24489-207e-c846-e1fd-f6f5c2e743ee"
      },
      "outputs": [],
      "source": [
        "train['logprice'] = np.log(train['price'])\n",
        "\n",
        "_ = sns.distplot(train.logprice)\n",
        "plt.show()\n",
        "_ = sns.violinplot(x='interest_level', y='logprice', data=train)\n",
        "plt.show()"
      ]
    },
    {
      "cell_type": "code",
      "execution_count": null,
      "metadata": {
        "_cell_guid": "24a65503-25e6-43f3-becf-7d7016199c19"
      },
      "outputs": [],
      "source": [
        "highint = train[train['interest_level'] == 'high']\n",
        "medianhigh = highint.price.median()\n",
        "medint = train[train['interest_level'] == 'medium']\n",
        "medianmed = medint.price.median()\n",
        "lowint = train[train['interest_level'] == 'low']\n",
        "medianlow = lowint.price.median()\n",
        "print(medianlow, medianmed, medianhigh)\n",
        "\n",
        "stdlow = lowint.price.std()\n",
        "stdmed = medint.price.std()\n",
        "stdhigh = highint.price.std()\n",
        "print(stdlow, stdmed, stdhigh)\n",
        "\n",
        "highint = train[train['interest_level'] == 'high']\n",
        "logmedianhigh = highint.logprice.median()\n",
        "medint = train[train['interest_level'] == 'medium']\n",
        "logmedianmed = medint.logprice.median()\n",
        "lowint = train[train['interest_level'] == 'low']\n",
        "logmedianlow = lowint.logprice.median()\n",
        "print(logmedianlow, logmedianmed, logmedianhigh)\n",
        "\n",
        "stdloglow = lowint.logprice.std()\n",
        "stdlogmed = medint.logprice.std()\n",
        "stdloghigh = highint.logprice.std()\n",
        "print(stdloglow, stdlogmed, stdloghigh)"
      ]
    },
    {
      "cell_type": "code",
      "execution_count": null,
      "metadata": {
        "_cell_guid": "552a2f56-f972-7cbe-ca67-722709e05d95"
      },
      "outputs": [],
      "source": [
        "train['rooms'] = train['bathrooms'] + train['bedrooms'] + 1\n",
        "print(train.info())"
      ]
    },
    {
      "cell_type": "code",
      "execution_count": null,
      "metadata": {
        "_cell_guid": "ee9b6b51-6bb4-6e01-7035-e80a13766820"
      },
      "outputs": [],
      "source": [
        "x = train.logprice\n",
        "y = train.rooms\n",
        "hue = train.interest_level\n",
        "_ = plt.scatter(x=x, y=y, alpha = 0.25, cmap=hue, c=['blue', 'red', 'green'])\n",
        "_ = plt.xlabel('Log Price')\n",
        "_ = plt.ylabel('Number of Rooms')\n",
        "_ = plt.title('Rooms vs. Price')\n",
        "plt.show()"
      ]
    },
    {
      "cell_type": "code",
      "execution_count": null,
      "metadata": {
        "_cell_guid": "f93de578-00d1-966f-1940-493945feec4f"
      },
      "outputs": [],
      "source": [
        "pd.options.mode.chained_assignment = None\n",
        "\n",
        "train['room_cost'] = train['rooms'] / train['logprice']\n",
        "train['interest'] = 1\n",
        "train['interest'][train['interest_level'] == 'medium'] = 2\n",
        "train['interest'][train['interest_level'] == 'high'] = 3\n",
        "_ = sns.violinplot(x='interest', y='room_cost', data=train)\n",
        "plt.show()\n",
        "print(train.room_cost)\n"
      ]
    },
    {
      "cell_type": "code",
      "execution_count": null,
      "metadata": {
        "_cell_guid": "a2f7df7e-ee74-5504-1828-28e879dd74dc"
      },
      "outputs": [],
      "source": [
        "print(train.rooms.unique())\n",
        "\n",
        "m1 = train[train['rooms'] == 1].room_cost.median()\n",
        "m1half = train[train['rooms'] == 1.5].room_cost.median()\n",
        "m2 = train[train['rooms'] == 2].room_cost.median()\n",
        "m2half = train[train['rooms'] == 2].room_cost.median()\n",
        "m3 = train[train['rooms'] == 3].room_cost.median()\n",
        "m3half = train[train['rooms'] == 3.5].room_cost.median()\n",
        "m4 = train[train['rooms'] == 4].room_cost.median()\n",
        "m4half = train[train['rooms'] == 4.5].room_cost.median()\n",
        "m5 = train[train['rooms'] == 5].room_cost.median()\n",
        "m5half = train[train['rooms'] == 5.5].room_cost.median()\n",
        "m6 = train[train['rooms'] == 6].room_cost.median()\n",
        "m6half = train[train['rooms'] == 6.5].room_cost.median()\n",
        "m7 = train[train['rooms'] == 7].room_cost.median()\n",
        "m7half = train[train['rooms'] == 7.5].room_cost.median()\n",
        "m8 = train[train['rooms'] == 8].room_cost.median()\n",
        "m8half = train[train['rooms'] == 8.5].room_cost.median()\n",
        "m9 = train[train['rooms'] == 9].room_cost.median()\n",
        "m9half = train[train['rooms'] == 9.5].room_cost.median()\n",
        "m10 = train[train['rooms'] == 10].room_cost.median()\n",
        "m10half = train[train['rooms'] == 10.5].room_cost.median()\n",
        "m11 = train[train['rooms'] == 11].room_cost.median()\n",
        "m11half = train[train['rooms'] == 11.5].room_cost.median()\n",
        "m12 = train[train['rooms'] == 12].room_cost.median()\n",
        "m12half = train[train['rooms'] == 12.5].room_cost.median()\n",
        "m13 = train[train['rooms'] == 13].room_cost.median()\n",
        "m13half = train[train['rooms'] == 13.5].room_cost.median()\n",
        "m14 = train[train['rooms'] == 14].room_cost.median()\n",
        "m14half = train[train['rooms'] == 14.5].room_cost.median()\n",
        "m15 = train[train['rooms'] == 15].room_cost.median()\n",
        "m15half = train[train['rooms'] == 15.5].room_cost.median()\n",
        "\n",
        "train['underpriced'] = 0\n",
        "\n",
        "train['underpriced'][train['rooms'] == 1.0][train['room_cost'] < m1] = 1\n",
        "train['underpriced'][train['rooms'] == 1.5][train['room_cost'] < m1half] = 1\n",
        "train['underpriced'][train['rooms'] == 2.0][train['room_cost'] < m2] = 1\n",
        "train['underpriced'][train['rooms'] == 2.5][train['room_cost'] < m2half] = 1\n",
        "print(train['underpriced'])\n",
        "print(train['rooms'])\n"
      ]
    },
    {
      "cell_type": "markdown",
      "metadata": {
        "_cell_guid": "d70dbca2-f6e5-f338-dac7-b7461303f668"
      },
      "source": [
        "Upvote if you like what you see. This is a workbook for me to play around in while I'm at work."
      ]
    }
  ],
  "metadata": {
    "_change_revision": 0,
    "_is_fork": false,
    "kernelspec": {
      "display_name": "Python 3",
      "language": "python",
      "name": "python3"
    },
    "language_info": {
      "codemirror_mode": {
        "name": "ipython",
        "version": 3
      },
      "file_extension": ".py",
      "mimetype": "text/x-python",
      "name": "python",
      "nbconvert_exporter": "python",
      "pygments_lexer": "ipython3",
      "version": "3.6.0"
    }
  },
  "nbformat": 4,
  "nbformat_minor": 0
}