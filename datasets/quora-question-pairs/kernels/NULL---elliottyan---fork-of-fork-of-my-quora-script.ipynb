{
  "cells": [
    {
      "cell_type": "code",
      "execution_count": null,
      "metadata": {
        "_cell_guid": "238d246f-2485-16d5-51d4-33fe2cd9d85b"
      },
      "outputs": [],
      "source": [
        "import numpy as np # linear algebra\n",
        "import pandas as pd # data processing, CSV file I/O (e.g. pd.read_csv)\n",
        "import os\n",
        "import gc\n",
        "import matplotlib.pyplot as plt\n",
        "import seaborn as sns\n",
        "%matplotlib inline"
      ]
    },
    {
      "cell_type": "code",
      "execution_count": null,
      "metadata": {
        "_cell_guid": "1a41402a-f7eb-4d32-7ed2-10892f05114c"
      },
      "outputs": [],
      "source": [
        "input = '../input/'"
      ]
    },
    {
      "cell_type": "code",
      "execution_count": null,
      "metadata": {
        "_cell_guid": "221b71b6-94e7-7092-a3e0-653b9bade8f8"
      },
      "outputs": [],
      "source": [
        "df_train = pd.read_csv(input+\"train.csv\")"
      ]
    },
    {
      "cell_type": "code",
      "execution_count": null,
      "metadata": {
        "_cell_guid": "29b1ab03-e31f-d0d1-a252-835decbda380"
      },
      "outputs": [],
      "source": [
        "df_train.head()"
      ]
    },
    {
      "cell_type": "code",
      "execution_count": null,
      "metadata": {
        "_cell_guid": "93aa62e3-d225-8ea8-bd3f-f76c6776fb67"
      },
      "outputs": [],
      "source": [
        "print(\"lenght of train data: \"+str(len(df_train)))"
      ]
    },
    {
      "cell_type": "code",
      "execution_count": null,
      "metadata": {
        "_cell_guid": "3ccd3906-0aaa-2f82-3cf5-7d557368a174"
      },
      "outputs": [],
      "source": [
        "print(\"length of duplicate pairs: \"+str(df_train['is_duplicate'].sum()\n",
        "                                       ))"
      ]
    },
    {
      "cell_type": "code",
      "execution_count": null,
      "metadata": {
        "_cell_guid": "307c127f-85d4-238b-2ac4-b72a60f0966d"
      },
      "outputs": [],
      "source": [
        "qids = pd.Series(df_train['qid1'].tolist()+df_train['qid2'].tolist())"
      ]
    },
    {
      "cell_type": "code",
      "execution_count": null,
      "metadata": {
        "_cell_guid": "7bb40bbf-037e-ddec-e4c9-6e4e8fdace3c"
      },
      "outputs": [],
      "source": [
        "print(\"How many unique qids: \"+ str(len(np.unique(qids))))"
      ]
    },
    {
      "cell_type": "code",
      "execution_count": null,
      "metadata": {
        "_cell_guid": "94906c38-c7c4-f8bb-4cbc-386fd94dc4de"
      },
      "outputs": [],
      "source": [
        "print('Number of questions that appear multiple times: {}'.format(np.sum(qids.value_counts() > 1)))"
      ]
    },
    {
      "cell_type": "code",
      "execution_count": null,
      "metadata": {
        "_cell_guid": "39ba0c6d-3350-2930-bdd8-181129f60435"
      },
      "outputs": [],
      "source": [
        "qids.value_counts()"
      ]
    },
    {
      "cell_type": "code",
      "execution_count": null,
      "metadata": {
        "_cell_guid": "0f55d953-74e6-2bdc-7708-6ff7273cb6c6"
      },
      "outputs": [],
      "source": [
        "plt.figure(figsize=(12, 5))\n",
        "plt.hist(qids.value_counts(), bins=50,log = 'True')\n",
        "plt.title('Log-Histogram of question appearance counts')\n",
        "plt.xlabel('Number of occurences of question')\n",
        "plt.ylabel('Number of questions')\n",
        "# plt.yscale('log', nonposy='clip')"
      ]
    },
    {
      "cell_type": "code",
      "execution_count": null,
      "metadata": {
        "_cell_guid": "617013eb-3d1e-0817-942b-87d6c92fa4c8"
      },
      "outputs": [],
      "source": [
        "qids.value_counts()"
      ]
    },
    {
      "cell_type": "code",
      "execution_count": null,
      "metadata": {
        "_cell_guid": "0b2a4947-e9aa-064b-3d13-adb35e36d17e"
      },
      "outputs": [],
      "source": [
        "df_test = pd.read_csv(input+\"test.csv\")"
      ]
    },
    {
      "cell_type": "code",
      "execution_count": null,
      "metadata": {
        "_cell_guid": "79f1ce4c-31a3-2e9d-5eec-01b064c7f90d"
      },
      "outputs": [],
      "source": [
        "train_qs = pd.Series(df_train[\"question1\"].tolist()+df_train['question2'].tolist()).astype(str)\n",
        "test_qs = pd.Series(df_test[\"question1\"].tolist()+df_test['question2'].tolist()).astype(str)"
      ]
    },
    {
      "cell_type": "code",
      "execution_count": null,
      "metadata": {
        "_cell_guid": "4b4956b7-c75b-b7d8-fa6e-ac4a8a814f55"
      },
      "outputs": [],
      "source": [
        "pal = sns.color_palette()"
      ]
    },
    {
      "cell_type": "code",
      "execution_count": null,
      "metadata": {
        "_cell_guid": "dc950cf2-4335-2e93-6505-6a4d3b804595"
      },
      "outputs": [],
      "source": [
        "dist_train = train_qs.apply(len)\n",
        "dist_test = test_qs.apply(len)\n",
        "plt.figure(figsize=(15, 10))\n",
        "plt.hist(dist_train, bins=200, range=[0, 200], color=pal[2], normed=True, label='train')\n",
        "plt.hist(dist_test, bins=200, range=[0, 200], color=pal[1], normed=True, alpha = 0.5 ,label='test')\n",
        "plt.title('Normalised histogram of character count in questions', fontsize=15)\n",
        "plt.legend()\n",
        "plt.xlabel('Number of characters', fontsize=15)\n",
        "plt.ylabel('Probability', fontsize=15)"
      ]
    },
    {
      "cell_type": "markdown",
      "metadata": {
        "_cell_guid": "e803745e-df06-3538-dd45-2607fbd3899b"
      },
      "source": [
        "if 150 characters' steep down are the limit, how could there be some question got over 150 words?"
      ]
    },
    {
      "cell_type": "code",
      "execution_count": null,
      "metadata": {
        "_cell_guid": "38bbf0d8-dafe-4f71-e545-8c80b3b27713"
      },
      "outputs": [],
      "source": [
        "import re\n",
        "r = re.compile(\"[ ,.?|]\")#|'\n",
        "dist_train = train_qs.apply(lambda x: len(r.split(x)))\n",
        "dist_test = test_qs.apply(lambda x: len(r.split(x)))"
      ]
    },
    {
      "cell_type": "code",
      "execution_count": null,
      "metadata": {
        "_cell_guid": "09da1a9f-637b-bb7d-e546-0872ad674e81"
      },
      "outputs": [],
      "source": [
        "plt.figure(figsize=(15, 10))\n",
        "plt.hist(dist_train, bins=100, range=[0, 100], color=pal[2], normed=True, label='train')\n",
        "plt.hist(dist_test, bins=100, range=[0, 100], color=pal[1], normed=True, alpha=0.5, label='test')\n",
        "plt.title('Normalised histogram of word count in questions', fontsize=15)\n",
        "plt.legend()\n",
        "plt.xlabel('Number of words', fontsize=15)\n",
        "plt.ylabel('Probability', fontsize=15)"
      ]
    },
    {
      "cell_type": "markdown",
      "metadata": {
        "_cell_guid": "847aa66d-8041-021e-6b43-9fc237130b6c"
      },
      "source": [
        "max word limit may be 70? The two distribution are very similar."
      ]
    },
    {
      "cell_type": "markdown",
      "metadata": {
        "_cell_guid": "4e475988-37aa-28a2-9f39-9bf6dd56d0b4"
      },
      "source": [
        "By using the feature like number of shared words, we have the following idea."
      ]
    },
    {
      "cell_type": "code",
      "execution_count": null,
      "metadata": {
        "_cell_guid": "bb307674-3392-e5fb-c6dd-633a43b064e0"
      },
      "outputs": [],
      "source": [
        "from nltk.corpus import stopwords\n",
        "\n",
        "stops = set(stopwords.words('english'))"
      ]
    },
    {
      "cell_type": "code",
      "execution_count": null,
      "metadata": {
        "_cell_guid": "5acc4814-baf1-9101-e2ad-2fba1845864f"
      },
      "outputs": [],
      "source": [
        "def word_match(row):\n",
        "    q1_word = {}\n",
        "    q2_word = {}\n",
        "    for word in r.split(str(row[\"question1\"]).lower()):\n",
        "        if word not in stops:\n",
        "            q1_word[word] = 1\n",
        "    for word in r.split(str(row[\"question2\"]).lower()):\n",
        "        if word not in stops:\n",
        "            q2_word[word] = 1\n",
        "    if len(q1_word) == 0 or len(q2_word)==0:\n",
        "        return 0\n",
        "    shared_word_in_q1 = [w for w in q1_word.keys() if w in q2_word]\n",
        "    shared_word_in_q2 = [w for w in q2_word.keys() if w in q1_word]\n",
        "    R = (len(shared_word_in_q1)+len(shared_word_in_q2))/(len(q1_word)+len(q2_word))\n",
        "    return R\n",
        "\n",
        "plt.figure(figsize=(15,5))\n",
        "train_word_related = df_train.apply(word_match,axis = 1,raw = 1)\n",
        "plt.hist(train_word_related[df_train['is_duplicate'] == 0].fillna(0), bins=20, normed=True, label='Not Duplicate')\n",
        "plt.hist(train_word_related[df_train['is_duplicate'] == 1].fillna(0), bins=20, normed=True, alpha=0.7, label='Duplicate')\n",
        "plt.legend()\n",
        "plt.title('Label distribution over word_match_share', fontsize=15)\n",
        "plt.xlabel('word_match_share', fontsize=15)"
      ]
    },
    {
      "cell_type": "markdown",
      "metadata": {
        "_cell_guid": "c1cf9ce3-e45d-ad1f-7180-81c822c8675a"
      },
      "source": [
        "Used stops to filter all words, and compute the relateness in question 1 and question 2."
      ]
    },
    {
      "cell_type": "code",
      "execution_count": null,
      "metadata": {
        "_cell_guid": "d19059c6-d945-a8d2-454f-1d5153511a53"
      },
      "outputs": [],
      "source": [
        "df_train.head()"
      ]
    },
    {
      "cell_type": "code",
      "execution_count": null,
      "metadata": {
        "_cell_guid": "23fe0a4a-60b0-6443-d1ea-2cd5818fa72e"
      },
      "outputs": [],
      "source": [
        "from collections import Counter\n",
        "\n",
        "# If a word appears only once, we ignore it completely (likely a typo)\n",
        "# Epsilon defines a smoothing constant, which makes the effect of extremely rare words smaller\n",
        "def get_weight(count, eps=10000, min_count=2):\n",
        "    if count < min_count:\n",
        "        return 0\n",
        "    else:\n",
        "        return 1 / (count + eps)\n",
        "\n",
        "eps = 5000 \n",
        "words = r.split((\" \".join(train_qs)).lower())\n",
        "counts = Counter(words)\n",
        "weights = {word: get_weight(count) for word, count in counts.items() if word != \"\"}"
      ]
    },
    {
      "cell_type": "markdown",
      "metadata": {
        "_cell_guid": "ff0a24a3-5086-5356-7cae-847b0772503b"
      },
      "source": [
        "Because we filter the only-once appearance, so we need some specific operation on x==0.\n",
        "Also, the re.split() will create a lot null str, I also remove that from weights."
      ]
    },
    {
      "cell_type": "code",
      "execution_count": null,
      "metadata": {
        "_cell_guid": "5acb4dcb-b758-2d83-2b81-85868eeb2f65"
      },
      "outputs": [],
      "source": [
        "print(\"Most commonly used words are: \\n\")\n",
        "print(sorted(weights.items(),key=lambda x: x[1] if x[1]>0 else 9999)[:10])\n",
        "print(\"\\nLeast commonly used words are: \\n\")\n",
        "print(sorted(weights.items(),key=lambda x: x[1],reverse = True)[:10])"
      ]
    },
    {
      "cell_type": "code",
      "execution_count": null,
      "metadata": {
        "_cell_guid": "2c317f05-32a4-1442-5eb9-07c4f65b67b3"
      },
      "outputs": [],
      "source": [
        "def tfidf_word_match_share(row):\n",
        "    q1words = {}\n",
        "    q2words = {}\n",
        "    for word in r.split(str(row['question1']).lower()):\n",
        "        if word not in stops:\n",
        "            q1words[word] = 1\n",
        "    for word in r.split(str(row['question2']).lower()):\n",
        "        if word not in stops:\n",
        "            q2words[word] = 1\n",
        "    if len(q1words) == 0 or len(q2words) == 0:\n",
        "        # The computer-generated chaff includes a few questions that are nothing but stopwords\n",
        "        return 0\n",
        "    \n",
        "    shared_weights = [weights.get(w, 0) for w in q1words.keys() if w in q2words] + [weights.get(w, 0) for w in q2words.keys() if w in q1words]\n",
        "    total_weights = [weights.get(w, 0) for w in q1words] + [weights.get(w, 0) for w in q2words]\n",
        "    \n",
        "    R = np.sum(shared_weights) / np.sum(total_weights)\n",
        "    return R"
      ]
    },
    {
      "cell_type": "code",
      "execution_count": null,
      "metadata": {
        "_cell_guid": "aa3e43e9-4b94-fe44-d060-89b0239a3940"
      },
      "outputs": [],
      "source": [
        "plt.figure(figsize=(15, 5))\n",
        "tfidf_train_word_share = df_train.apply(tfidf_word_match_share,axis = 1, raw = True)\n",
        "plt.hist(tfidf_train_word_share[df_train['is_duplicate']==1].fillna(0), bins=20, normed = True, label = 'Duplicate')\n",
        "plt.hist(tfidf_train_word_share[df_train['is_duplicate']==0].fillna(0), bins=20, normed = True, label = 'Not Duplicate',alpha = 0.7)\n",
        "plt.legend()\n",
        "plt.title('Label distribution over tfidf train data')\n",
        "plt.xlabel('tfidf train word share')"
      ]
    },
    {
      "cell_type": "code",
      "execution_count": null,
      "metadata": {
        "_cell_guid": "f07426a3-3796-a11e-6365-25735c41798b"
      },
      "outputs": [],
      "source": [
        "from sklearn.metrics import roc_auc_score\n",
        "print('Original AUC:', roc_auc_score(df_train['is_duplicate'], train_word_related))\n",
        "print('   TFIDF AUC:', roc_auc_score(df_train['is_duplicate'], tfidf_train_word_share.fillna(0)))"
      ]
    },
    {
      "cell_type": "markdown",
      "metadata": {
        "_cell_guid": "17fdf979-7419-80cc-21d2-51af2350d1ee"
      },
      "source": [
        "Rebalancing data"
      ]
    },
    {
      "cell_type": "code",
      "execution_count": null,
      "metadata": {
        "_cell_guid": "1cf46e20-9801-cc29-0ca2-6026f39aaff6"
      },
      "outputs": [],
      "source": [
        "# First we create our training and testing data\n",
        "x_train = pd.DataFrame()\n",
        "x_test = pd.DataFrame()\n",
        "x_train['word_match'] = train_word_related\n",
        "x_train['tfidf_word_match'] = tfidf_train_word_share\n",
        "x_test['word_match'] = df_test.apply(word_match, axis=1, raw=True)\n",
        "x_test['tfidf_word_match'] = df_test.apply(tfidf_word_match_share, axis=1, raw=True)\n",
        "\n",
        "y_train = df_train['is_duplicate'].values"
      ]
    },
    {
      "cell_type": "code",
      "execution_count": null,
      "metadata": {
        "_cell_guid": "9c05da7a-0d85-01dd-2184-e17ae3d2cd47"
      },
      "outputs": [],
      "source": [
        "pos_train = x_train[y_train == 1]\n",
        "neg_train = x_train[y_train == 0]\n",
        "\n",
        "# Now we oversample the negative class\n",
        "# There is likely a much more elegant way to do this...\n",
        "p = 0.165\n",
        "scale = ((len(pos_train) / (len(pos_train) + len(neg_train))) / p) - 1\n",
        "while scale > 1:\n",
        "    neg_train = pd.concat([neg_train, neg_train])\n",
        "    scale -=1\n",
        "neg_train = pd.concat([neg_train, neg_train[:int(scale * len(neg_train))]])\n",
        "print(len(pos_train) / (len(pos_train) + len(neg_train)))\n",
        "\n",
        "x_train = pd.concat([pos_train, neg_train])\n",
        "y_train = (np.zeros(len(pos_train)) + 1).tolist() + np.zeros(len(neg_train)).tolist()\n",
        "del pos_train, neg_train"
      ]
    },
    {
      "cell_type": "code",
      "execution_count": null,
      "metadata": {
        "_cell_guid": "90b5c348-71f1-0de7-718e-41987027ea6d"
      },
      "outputs": [],
      "source": [
        "from sklearn.cross_validation import train_test_split\n",
        "\n",
        "x_train, x_valid, y_train, y_valid = train_test_split(x_train, y_train, test_size=0.2, random_state=4242)"
      ]
    },
    {
      "cell_type": "code",
      "execution_count": null,
      "metadata": {
        "_cell_guid": "83ac7e0b-830d-1335-e8a5-720cd6d4908d"
      },
      "outputs": [],
      "source": [
        "x_train"
      ]
    },
    {
      "cell_type": "code",
      "execution_count": null,
      "metadata": {
        "_cell_guid": "bdeb626c-9ef1-bce1-fc60-53d7855c8a36"
      },
      "outputs": [],
      "source": [
        "import xgboost as xgb\n",
        "\n",
        "# Set our parameters for xgboost\n",
        "params = {}\n",
        "params['objective'] = 'binary:logistic'\n",
        "params['eval_metric'] = 'logloss'\n",
        "params['eta'] = 0.02\n",
        "params['max_depth'] = 4\n",
        "\n",
        "d_train = xgb.DMatrix(x_train, label=y_train)\n",
        "d_valid = xgb.DMatrix(x_valid, label=y_valid)\n",
        "\n",
        "watchlist = [(d_train, 'train'), (d_valid, 'valid')]\n",
        "\n",
        "bst = xgb.train(params, d_train, 400, watchlist, early_stopping_rounds=50, verbose_eval=10)"
      ]
    },
    {
      "cell_type": "code",
      "execution_count": null,
      "metadata": {
        "_cell_guid": "0800558a-6f99-c8c7-aee8-e397f7dc37a0"
      },
      "outputs": [],
      "source": [
        "d_test = xgb.DMatrix(x_test)\n",
        "p_test = bst.predict(d_test)\n",
        "\n",
        "sub = pd.DataFrame()\n",
        "sub['test_id'] = df_test['test_id']\n",
        "sub['is_duplicate'] = p_test"
      ]
    },
    {
      "cell_type": "code",
      "execution_count": null,
      "metadata": {
        "_cell_guid": "c8e36cb6-5992-ca32-5cb2-10dc6a3fe1ba"
      },
      "outputs": [],
      "source": [
        "sub.head()"
      ]
    },
    {
      "cell_type": "code",
      "execution_count": null,
      "metadata": {
        "_cell_guid": "6bcf197e-e818-7df1-9e74-c45fc7fdf41b"
      },
      "outputs": [],
      "source": [
        "\n",
        "sub.to_csv('prediction.csv')"
      ]
    },
    {
      "cell_type": "code",
      "execution_count": null,
      "metadata": {
        "_cell_guid": "f3b12a9f-d02a-f9e5-e6c7-e45b69cb19da"
      },
      "outputs": [],
      "source": [
        "nsub = pd.read_csv('prediction.csv')"
      ]
    },
    {
      "cell_type": "code",
      "execution_count": null,
      "metadata": {
        "_cell_guid": "d6a22d02-bdad-08e0-209b-34e00a13222b"
      },
      "outputs": [],
      "source": [
        "nsub"
      ]
    }
  ],
  "metadata": {
    "_change_revision": 0,
    "_is_fork": false,
    "kernelspec": {
      "display_name": "Python 3",
      "language": "python",
      "name": "python3"
    },
    "language_info": {
      "codemirror_mode": {
        "name": "ipython",
        "version": 3
      },
      "file_extension": ".py",
      "mimetype": "text/x-python",
      "name": "python",
      "nbconvert_exporter": "python",
      "pygments_lexer": "ipython3",
      "version": "3.6.0"
    }
  },
  "nbformat": 4,
  "nbformat_minor": 0
}