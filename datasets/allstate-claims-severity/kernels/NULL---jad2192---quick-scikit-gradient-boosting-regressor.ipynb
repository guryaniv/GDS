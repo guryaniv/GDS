{
  "cells": [
    {
      "cell_type": "code",
      "execution_count": null,
      "metadata": {
        "_cell_guid": "e9d92c02-a90c-5432-0e10-a741e792e922"
      },
      "outputs": [],
      "source": [
        "import pandas as pd\n",
        "import sklearn"
      ]
    },
    {
      "cell_type": "code",
      "execution_count": null,
      "metadata": {
        "_cell_guid": "e1de12f3-d771-1dc2-87e8-885839ce17f8"
      },
      "outputs": [],
      "source": [
        "data = pd.read_csv('../input/train.csv')"
      ]
    },
    {
      "cell_type": "code",
      "execution_count": null,
      "metadata": {
        "_cell_guid": "c1816e32-838c-004c-42c3-929f9bf5faa4"
      },
      "outputs": [],
      "source": [
        "def dummify(s):\n",
        "    return 1*(s == 'B')"
      ]
    },
    {
      "cell_type": "code",
      "execution_count": null,
      "metadata": {
        "_cell_guid": "c3eb3799-75d3-6c25-031c-78901f6758fd"
      },
      "outputs": [],
      "source": [
        "for k in range(1,117):\n",
        "    data['cat'+str(k)] = data['cat'+str(k)].apply(dummify)"
      ]
    },
    {
      "cell_type": "code",
      "execution_count": null,
      "metadata": {
        "_cell_guid": "085ac33f-3259-a67b-4ba6-230bc76182a5"
      },
      "outputs": [],
      "source": [
        "Y = data['loss'].as_matrix()\n",
        "X = data.ix[:,'cat1':'cont14'].as_matrix()"
      ]
    },
    {
      "cell_type": "code",
      "execution_count": null,
      "metadata": {
        "_cell_guid": "9d279853-9978-7622-a7ef-cb80fb261bcb"
      },
      "outputs": [],
      "source": [
        "from sklearn.ensemble import GradientBoostingRegressor\n",
        "\n",
        "reg1 = GradientBoostingRegressor(loss='huber',n_estimators=500)\n",
        "\n",
        "reg1.fit(X,Y)"
      ]
    },
    {
      "cell_type": "code",
      "execution_count": null,
      "metadata": {
        "_cell_guid": "1f4fde4a-443d-e824-5273-dd0dd529ea8a"
      },
      "outputs": [],
      "source": [
        "data_test = pd.read_csv('../input/test.csv')"
      ]
    },
    {
      "cell_type": "code",
      "execution_count": null,
      "metadata": {
        "_cell_guid": "d320d799-6d6b-72c3-49ed-83f16baa830d"
      },
      "outputs": [],
      "source": [
        "for k in range(1,117):\n",
        "    data_test['cat'+str(k)] = data_test['cat'+str(k)].apply(dummify)"
      ]
    },
    {
      "cell_type": "code",
      "execution_count": null,
      "metadata": {
        "_cell_guid": "3e9bb8c9-4fa6-7d2e-2480-e90fcd014db6"
      },
      "outputs": [],
      "source": [
        "test_data = data_test.ix[:,'cat1':].as_matrix()\n",
        "\n",
        "test_loss = reg1.predict(test_data)\n",
        "\n",
        "data_test['loss'] = pd.Series(test_loss)"
      ]
    },
    {
      "cell_type": "code",
      "execution_count": null,
      "metadata": {
        "_cell_guid": "5e3637fd-98cb-219a-2312-c6d3bd3877de"
      },
      "outputs": [],
      "source": [
        "output = data_test[['id','loss']]\n",
        "\n",
        "#output.to_csv('../input/results.csv',index=False)"
      ]
    }
  ],
  "metadata": {
    "_change_revision": 0,
    "_is_fork": false,
    "kernelspec": {
      "display_name": "Python 3",
      "language": "python",
      "name": "python3"
    },
    "language_info": {
      "codemirror_mode": {
        "name": "ipython",
        "version": 3
      },
      "file_extension": ".py",
      "mimetype": "text/x-python",
      "name": "python",
      "nbconvert_exporter": "python",
      "pygments_lexer": "ipython3",
      "version": "3.5.2"
    }
  },
  "nbformat": 4,
  "nbformat_minor": 0
}