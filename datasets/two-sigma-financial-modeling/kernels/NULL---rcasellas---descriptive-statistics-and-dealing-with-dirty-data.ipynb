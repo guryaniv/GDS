{
  "cells": [
    {
      "cell_type": "code",
      "execution_count": null,
      "metadata": {
        "_cell_guid": "9ee1ad8b-284a-6c31-7d4f-d673a9502902"
      },
      "outputs": [],
      "source": [
        "import numpy as np \n",
        "import pandas as pd \n",
        "import seaborn as sns\n",
        "import matplotlib.pyplot as plt\n",
        "%matplotlib inline"
      ]
    },
    {
      "cell_type": "code",
      "execution_count": null,
      "metadata": {
        "_cell_guid": "243915af-f923-3f71-235a-d04193fe7f55"
      },
      "outputs": [],
      "source": [
        "df=pd.read_hdf(\"../input/train.h5\")"
      ]
    },
    {
      "cell_type": "code",
      "execution_count": null,
      "metadata": {
        "_cell_guid": "73521f72-fec9-8bad-0beb-3f94840b584e"
      },
      "outputs": [],
      "source": [
        "df.shape"
      ]
    },
    {
      "cell_type": "code",
      "execution_count": null,
      "metadata": {
        "_cell_guid": "ab7719e8-5304-2388-a94f-69e3b419b79e"
      },
      "outputs": [],
      "source": [
        "df.head()"
      ]
    },
    {
      "cell_type": "code",
      "execution_count": null,
      "metadata": {
        "_cell_guid": "125c012d-fe24-5788-f0bc-cea1f8060d2d"
      },
      "outputs": [],
      "source": [
        "list(df.columns.values)"
      ]
    },
    {
      "cell_type": "code",
      "execution_count": null,
      "metadata": {
        "_cell_guid": "c08bf57d-9cbb-4031-2de1-85be56656de9"
      },
      "outputs": [],
      "source": [
        "df[\"derived_0\"].describe()"
      ]
    },
    {
      "cell_type": "code",
      "execution_count": null,
      "metadata": {
        "_cell_guid": "eae7a1e0-9305-4a7e-0174-c7daa9f918f6"
      },
      "outputs": [],
      "source": [
        "df.isnull().any()"
      ]
    },
    {
      "cell_type": "markdown",
      "metadata": {
        "_cell_guid": "1ac83064-a98d-456e-fbe4-e6ab09152cde"
      },
      "source": [
        "check percentage of rows that are missing at least one value"
      ]
    },
    {
      "cell_type": "code",
      "execution_count": null,
      "metadata": {
        "_cell_guid": "9e8e4952-ea5f-2fd1-d997-1b7a8346ee19"
      },
      "outputs": [],
      "source": [
        "df_clean=df.dropna(axis='index',how='any')\n",
        "df_clean.shape"
      ]
    },
    {
      "cell_type": "code",
      "execution_count": null,
      "metadata": {
        "_cell_guid": "e63e645a-bd77-be88-106c-f32bed8582d0"
      },
      "outputs": [],
      "source": [
        "(1-(df_clean.shape[0]/df.shape[0]))*100"
      ]
    },
    {
      "cell_type": "code",
      "execution_count": null,
      "metadata": {
        "_cell_guid": "ea8b20db-fd3a-051b-e528-c0c533a71629"
      },
      "outputs": [],
      "source": [
        "def count_missing(df):\n",
        "    stats={}\n",
        "    for x in range(len(df.columns)):        \n",
        "        stats[df.columns[x]]=df[df.columns[x]].isnull().sum()/len(df[df.columns[x]])*100\n",
        "    return stats"
      ]
    },
    {
      "cell_type": "code",
      "execution_count": null,
      "metadata": {
        "_cell_guid": "83277922-f0bb-93a9-190d-0d4fafa6be44"
      },
      "outputs": [],
      "source": [
        "res=count_missing(df)"
      ]
    },
    {
      "cell_type": "code",
      "execution_count": null,
      "metadata": {
        "_cell_guid": "5eefe1c2-7bc7-f57c-1636-10514ee3ed5c"
      },
      "outputs": [],
      "source": [
        "plt.figure(figsize=(10,25))\n",
        "plt.barh(range(0,111), res.values(),color='green',align='center')\n",
        "plt.yticks(range(0,111), (res.keys()))\n",
        "plt.autoscale()\n",
        "\n",
        "i=0\n",
        "for k, v in res.items():\n",
        "    plt.text(v + 1, i-0.25,str(round(v,2)))\n",
        "    i = i + 1\n",
        "    \n",
        "plt.show()"
      ]
    },
    {
      "cell_type": "markdown",
      "metadata": {
        "_cell_guid": "8a4c65ed-9d8b-7f22-0c75-5fe7bba71292"
      },
      "source": [
        "List all columns that have low error percentages"
      ]
    },
    {
      "cell_type": "code",
      "execution_count": null,
      "metadata": {
        "_cell_guid": "39a61f65-07a9-ee6e-5257-3454de828458"
      },
      "outputs": [],
      "source": [
        "low_err={k:v for (k,v) in res.items() if v<0.5}\n",
        "del low_err['id']\n",
        "del low_err['timestamp']\n",
        "del low_err['y']\n",
        "print((low_err),low_err.values())"
      ]
    },
    {
      "cell_type": "code",
      "execution_count": null,
      "metadata": {
        "_cell_guid": "1c82b64b-40a6-9e52-1aeb-b73f409761d5"
      },
      "outputs": [],
      "source": [
        "l=list(low_err.keys())\n",
        "for i in range(len(low_err)):\n",
        "    plt.figure(figsize=(15,5))\n",
        "    plt.scatter(y=df[l[i]],x=df['timestamp'])\n",
        "    plt.title(l[i],fontsize=15)\n",
        "    plt.xlabel('Timestamp Value')\n",
        "    plt.ylabel('Value')\n",
        "    plt.xlim(0,1900)"
      ]
    },
    {
      "cell_type": "code",
      "execution_count": null,
      "metadata": {
        "_cell_guid": "4a10f862-1559-7fea-a9d6-0ed03f119512"
      },
      "outputs": [],
      "source": [
        "for i in range(len(low_err)):\n",
        "    plt.figure(figsize=(15,5))\n",
        "    #plt.scatter(y=df[l[i]],x=df['timestamp'])\n",
        "    sns.distplot(df[l[i]].dropna().values)  #Removed NaN values for now\n",
        "    plt.title(l[i],fontsize=15)\n",
        "    plt.xlabel('Value')\n",
        "    plt.ylabel('Frequency')"
      ]
    },
    {
      "cell_type": "code",
      "execution_count": null,
      "metadata": {
        "_cell_guid": "b6e5abb6-2250-cd93-5f52-c984fefd0d9a"
      },
      "outputs": [],
      "source": [
        "plt.figure(figsize=(30,20))\n",
        "sns.heatmap(df_clean.corr(method='pearson', min_periods=1),cmap='RdYlGn')"
      ]
    },
    {
      "cell_type": "code",
      "execution_count": null,
      "metadata": {
        "_cell_guid": "6524d4b1-4e91-8a56-1b96-149406f5b773"
      },
      "outputs": [],
      "source": [
        "plt.figure(figsize=(10,25))\n",
        "uni_cor=df_clean.apply(lambda x: x.corr(df[\"y\"],method='spearman'),axis=0)\n",
        "uni_cor=uni_cor.drop('y')\n",
        "uni_cor.sort_values(inplace=True)\n",
        "plt.barh(range(0,len(uni_cor)),uni_cor,align='center')\n",
        "plt.yticks(range(0,len(uni_cor)),list(df_clean.columns.values))\n",
        "plt.autoscale()"
      ]
    }
  ],
  "metadata": {
    "_change_revision": 0,
    "_is_fork": false,
    "kernelspec": {
      "display_name": "Python 3",
      "language": "python",
      "name": "python3"
    },
    "language_info": {
      "codemirror_mode": {
        "name": "ipython",
        "version": 3
      },
      "file_extension": ".py",
      "mimetype": "text/x-python",
      "name": "python",
      "nbconvert_exporter": "python",
      "pygments_lexer": "ipython3",
      "version": "3.5.2"
    }
  },
  "nbformat": 4,
  "nbformat_minor": 0
}