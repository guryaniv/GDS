{
  "cells": [
    {
      "cell_type": "code",
      "execution_count": null,
      "metadata": {
        "_cell_guid": "a5b2de5d-02e8-521d-c642-3bdda09d5735"
      },
      "outputs": [],
      "source": ""
    },
    {
      "cell_type": "code",
      "execution_count": null,
      "metadata": {
        "_cell_guid": "22901f58-e75c-247d-4d3f-7ed2d23f7b5c"
      },
      "outputs": [],
      "source": [
        "# Zillow\u2019s Home Value Prediction (Zestimate)\n",
        "# Python environment: information required to understand database\n",
        "# I hope you enjoy this first part of the code"
      ]
    },
    {
      "cell_type": "code",
      "execution_count": null,
      "metadata": {
        "_cell_guid": "4697a4a2-b02b-5c53-2f64-8bc50bd4c72f"
      },
      "outputs": [],
      "source": [
        "import numpy as np # linear algebra: work with large dataset \n",
        "import pandas as pd # data processing, CSV file I/O (e.g. pd.read_csv)"
      ]
    },
    {
      "cell_type": "code",
      "execution_count": null,
      "metadata": {
        "_cell_guid": "2a6267ed-849b-8876-3223-faf5cbb6e952"
      },
      "outputs": [],
      "source": [
        "from subprocess import check_output\n",
        "print(check_output([\"ls\", \"../input\"]).decode(\"utf8\"))\n",
        "# just to make sure you're collecting data ..."
      ]
    },
    {
      "cell_type": "code",
      "execution_count": null,
      "metadata": {
        "_cell_guid": "cfe75361-0a11-d045-efed-c67f116e99ea"
      },
      "outputs": [],
      "source": [
        "train_df = pd.read_csv(\"../input/properties_2016.csv\")\n",
        "print(train_df.describe()) # describing the data (without NaNs)\n",
        "# conclusions\n",
        "# more than 2.98 billion of houses\n",
        "# A lot of value is missed  but few values are missed in  bathroomcnt,bedroomcnt,\n"
      ]
    }
  ],
  "metadata": {
    "_change_revision": 0,
    "_is_fork": false,
    "kernelspec": {
      "display_name": "Python 3",
      "language": "python",
      "name": "python3"
    },
    "language_info": {
      "codemirror_mode": {
        "name": "ipython",
        "version": 3
      },
      "file_extension": ".py",
      "mimetype": "text/x-python",
      "name": "python",
      "nbconvert_exporter": "python",
      "pygments_lexer": "ipython3",
      "version": "3.6.0"
    }
  },
  "nbformat": 4,
  "nbformat_minor": 0
}