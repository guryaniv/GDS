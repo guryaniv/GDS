{
  "cells": [
    {
      "cell_type": "markdown",
      "metadata": {
        "_cell_guid": "b54a62ce-8c10-2dcc-9f2e-d3a5ec9e366c"
      },
      "source": [
        "Hi "
      ]
    },
    {
      "cell_type": "code",
      "execution_count": null,
      "metadata": {
        "_cell_guid": "229eb041-7f37-ce07-5755-a75a90678819"
      },
      "outputs": [],
      "source": ""
    },
    {
      "cell_type": "markdown",
      "metadata": {
        "_cell_guid": "aedaa72a-025c-06cf-8522-704b4acf78d3"
      },
      "source": ""
    },
    {
      "cell_type": "code",
      "execution_count": null,
      "metadata": {
        "_cell_guid": "33969002-b9c5-58f5-0488-0f6c6d0bb9a3"
      },
      "outputs": [],
      "source": [
        "# Load Data\n",
        "def load_image_data(parent, ids, max_dim = 96, center=True):\n",
        "    X = np.empty((len(ids), max_dim, max_dim, 1))\n",
        "\n",
        "    for i, idee in enumerate(ids):\n",
        "        # Turn the image into an array\n",
        "        x = resize_img(load_img(os.path.join(parent,'images', str(idee) + '.jpg'), grayscale=True), max_dim=max_dim)\n",
        "        x = img_to_array(x)\n",
        "        # Get the corners of the bounding box for the image\n",
        "        length = x.shape[0]\n",
        "        width = x.shape[1]\n",
        "\n",
        "        if center:\n",
        "            h1 = int((max_dim - length) / 2)\n",
        "            h2 = h1 + length\n",
        "            w1 = int((max_dim - width) / 2)\n",
        "            w2 = w1 + width\n",
        "        else:\n",
        "            h1, w1 = 0, 0\n",
        "            h2, w2 = (length, width)\n",
        "        # Insert into image matrix\n",
        "        X[i, h1:h2, w1:w2, 0:1] = x\n",
        "    # Scale the array values so they are between 0 and 1\n",
        "    return np.around(X / 255.0)\n",
        "\n",
        "def resize_img(img, max_dim):\n",
        "    # Get the axis with the larger dimension\n",
        "    max_ax = max((0, 1), key=lambda i: img.size[i])\n",
        "    # Scale both axes so the image's largest dimension is max_dim\n",
        "    scale = max_dim / float(img.size[max_ax])\n",
        "    return img.resize((int(img.size[0] * scale), int(img.size[1] * scale)))\n",
        "\n",
        "def load_table_training(path, standardize = True):\n",
        "    # Read data from the CSV file\n",
        "    #zf = ZipFile(path)\n",
        "    data = pd.read_csv(path)\n",
        "    ID = data.pop('id')\n",
        "    # Since the labels are textual, so we encode them categorically\n",
        "    y = data.pop('species')\n",
        "    y = LabelEncoder().fit(y).transform(y)\n",
        "    # standardize the data by setting the mean to 0 and std to 1\n",
        "    X = StandardScaler().fit(data).transform(data) if standardize else data.values\n",
        "\n",
        "    return ID, X, y\n",
        "\n",
        "def load_table_testing(path, standardize = True):\n",
        "    #zf = ZipFile(path)\n",
        "    test = pd.read_csv(path)\n",
        "    ID = test.pop('id')\n",
        "    # standardize the data by setting the mean to 0 and std to 1\n",
        "    test = StandardScaler().fit(test).transform(test) if standardize else test.values\n",
        "    return ID, test\n",
        "\n",
        "def load_training(parent):\n",
        "    # Load the pre-extracted features\n",
        "    file_name = 'train.csv'\n",
        "    ID, X_table_train, y = load_table_training(os.path.join(parent, file_name))\n",
        "    # Load the image data\n",
        "    X_img_train = load_image_data(parent,ID)\n",
        "\n",
        "    return ID, X_table_train, X_img_train, y\n",
        "\n",
        "def load_testing(parent):\n",
        "    # Load the pre-extracted features\n",
        "    file_name = 'test.csv'\n",
        "    ID, X_table_test = load_table_testing(os.path.join(parent, file_name))\n",
        "    # Load the image data\n",
        "    X_image_test = load_image_data(parent,ID)\n",
        "    return ID, X_table_test, X_image_test"
      ]
    },
    {
      "cell_type": "code",
      "execution_count": null,
      "metadata": {
        "_cell_guid": "0305185a-24f8-8b3f-46d9-fab99ac05f59"
      },
      "outputs": [],
      "source": ""
    },
    {
      "cell_type": "code",
      "execution_count": null,
      "metadata": {
        "_cell_guid": "0f736754-6691-ac69-216a-016d9aa3c7b5"
      },
      "outputs": [],
      "source": ""
    },
    {
      "cell_type": "code",
      "execution_count": null,
      "metadata": {
        "_cell_guid": "e6a4a2ff-465e-8a66-c0b9-88247aea16cc"
      },
      "outputs": [],
      "source": ""
    },
    {
      "cell_type": "code",
      "execution_count": null,
      "metadata": {
        "_cell_guid": "711f30ad-53e3-e7b2-5947-30aabcde9011"
      },
      "outputs": [],
      "source": ""
    },
    {
      "cell_type": "code",
      "execution_count": null,
      "metadata": {
        "_cell_guid": "205b2f1e-97dd-b568-e074-bdc4d29400ee"
      },
      "outputs": [],
      "source": [
        "folder = '.'\n",
        "\n",
        "epochs = 3\n",
        "epoch_size = 1000\n",
        "batch_size = 32\n",
        "\n",
        "filter_num = 16\n",
        "filter_dim = 3\n",
        "activation_func = 'relu'\n",
        "fc_count = 1\n",
        "fc_width = 100\n",
        "dropout_rate = .2\n",
        "pattern = ['CONV', 'CONV', 'POOL', 'CONV', 'CONV', 'POOL']"
      ]
    },
    {
      "cell_type": "code",
      "execution_count": null,
      "metadata": {
        "_cell_guid": "4ef66c1a-70ed-7b62-e19b-376de205aad7"
      },
      "outputs": [],
      "source": ""
    },
    {
      "cell_type": "code",
      "execution_count": null,
      "metadata": {
        "_cell_guid": "6aab0bcd-a8b7-233d-c28b-05c44d2b5f6d"
      },
      "outputs": [],
      "source": ""
    },
    {
      "cell_type": "code",
      "execution_count": null,
      "metadata": {
        "_cell_guid": "fb63a7bd-aa8c-38ec-db9a-c2c27db4131d"
      },
      "outputs": [],
      "source": ""
    },
    {
      "cell_type": "code",
      "execution_count": null,
      "metadata": {
        "_cell_guid": "5e3e2c93-e4e0-37c2-5929-c84acad456e5"
      },
      "outputs": [],
      "source": ""
    },
    {
      "cell_type": "code",
      "execution_count": null,
      "metadata": {
        "_cell_guid": "22007623-7606-1312-8f49-28d73b762b67",
        "collapsed": true
      },
      "outputs": [],
      "source": ""
    }
  ],
  "metadata": {
    "_change_revision": 0,
    "_is_fork": false,
    "kernelspec": {
      "display_name": "Python 3",
      "language": "python",
      "name": "python3"
    },
    "language_info": {
      "codemirror_mode": {
        "name": "ipython",
        "version": 3
      },
      "file_extension": ".py",
      "mimetype": "text/x-python",
      "name": "python",
      "nbconvert_exporter": "python",
      "pygments_lexer": "ipython3",
      "version": "3.5.2"
    }
  },
  "nbformat": 4,
  "nbformat_minor": 0
}