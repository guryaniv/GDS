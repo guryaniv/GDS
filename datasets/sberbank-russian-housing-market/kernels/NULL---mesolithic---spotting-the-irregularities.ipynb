{
  "cells": [
    {
      "cell_type": "code",
      "execution_count": null,
      "metadata": {
        "_cell_guid": "447561c5-3d32-2185-9225-eecc800100ac"
      },
      "outputs": [],
      "source": [
        "import numpy as np # linear algebra\n",
        "import pandas as pd # data processing, CSV file I/O (e.g. pd.read_csv)\n",
        "import matplotlib.pyplot as plt\n",
        "\n",
        "date_cos = ['timestamp']\n",
        "train_df = pd.read_csv('../input/train.csv', parse_dates=date_cos)\n",
        "\n",
        "# fix the kinks\n",
        "train_df['full_sq'] = train_df.fillna(method='bfill')"
      ]
    },
    {
      "cell_type": "code",
      "execution_count": null,
      "metadata": {
        "_cell_guid": "f0dc0c5f-7b70-957a-2062-5e36528edb59"
      },
      "outputs": [],
      "source": [
        "#train_df.isnull().sum().sort_values()"
      ]
    },
    {
      "cell_type": "code",
      "execution_count": null,
      "metadata": {
        "_cell_guid": "825187f4-742b-e7dd-66c4-0fbd6d5bea6d"
      },
      "outputs": [],
      "source": [
        "x = train_df\n",
        "x['year'] = x['timestamp'].dt.year\n",
        "x['psf'] = x['price_doc'] / x['full_sq']\n",
        "\n",
        "x[x.full_sq < x.life_sq]"
      ]
    },
    {
      "cell_type": "code",
      "execution_count": null,
      "metadata": {
        "_cell_guid": "6ecb8760-a68c-a0f2-30f0-9267ed75e826"
      },
      "outputs": [],
      "source": [
        ""
      ]
    }
  ],
  "metadata": {
    "_change_revision": 0,
    "_is_fork": false,
    "kernelspec": {
      "display_name": "Python 3",
      "language": "python",
      "name": "python3"
    },
    "language_info": {
      "codemirror_mode": {
        "name": "ipython",
        "version": 3
      },
      "file_extension": ".py",
      "mimetype": "text/x-python",
      "name": "python",
      "nbconvert_exporter": "python",
      "pygments_lexer": "ipython3",
      "version": "3.6.0"
    }
  },
  "nbformat": 4,
  "nbformat_minor": 0
}