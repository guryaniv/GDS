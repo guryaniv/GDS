{
  "cells": [
    {
      "cell_type": "markdown",
      "metadata": {
        "_cell_guid": "acceb49a-9ab7-5536-ad78-37d95c53c4ef"
      },
      "source": [
        "Using random images as validation has been overfitting a lot. Here's a way to get a solid validation set."
      ]
    },
    {
      "cell_type": "code",
      "execution_count": null,
      "metadata": {
        "_cell_guid": "d62c2746-0298-c97e-b560-46767af1e22b"
      },
      "outputs": [],
      "source": [
        "\n",
        "from subprocess import check_output\n",
        "print(check_output([\"ls\", \"../input\"]).decode(\"utf8\"))\n",
        "# Any results you write to the current directory are saved as output."
      ]
    },
    {
      "cell_type": "code",
      "execution_count": null,
      "metadata": {
        "_cell_guid": "2aa8b85c-125a-5ad4-34b0-bd7b19450933"
      },
      "outputs": [],
      "source": [
        "import os\n",
        "import io\n",
        "from PIL import Image\n",
        "import pandas as pd\n",
        "import numpy as np\n",
        "import datetime\n",
        "import matplotlib.pyplot as plt\n",
        "import multiprocessing\n",
        "from sklearn import cluster\n",
        "import random\n",
        "%matplotlib inline\n",
        "new_style = {'grid': False}\n",
        "plt.rc('axes', **new_style)\n",
        "random.seed(100);"
      ]
    },
    {
      "cell_type": "code",
      "execution_count": null,
      "metadata": {
        "_cell_guid": "47fca43f-4260-180d-43c4-5e70eca0f277"
      },
      "outputs": [],
      "source": [
        "# Set working directory\n",
        "os.chdir('../input')"
      ]
    },
    {
      "cell_type": "code",
      "execution_count": null,
      "metadata": {
        "_cell_guid": "7a86617e-4227-46d8-a0e8-260bfb6c4489"
      },
      "outputs": [],
      "source": [
        "def hamdist(hash_set):\n",
        "    diffs = 0\n",
        "    for ch1, ch2 in zip(hash_set[0], hash_set[1]):\n",
        "        if ch1 != ch2:\n",
        "            diffs += 1\n",
        "    return diffs\n",
        "\n",
        "def dhash(image,hash_size = 16):\n",
        "    image = image.convert('LA').resize((hash_size+1,hash_size),Image.ANTIALIAS)\n",
        "    pixels = list(image.getdata())\n",
        "    difference = []\n",
        "    for row in range(hash_size):\n",
        "        for col in range(hash_size):\n",
        "            pixel_left = image.getpixel((col,row))\n",
        "            pixel_right = image.getpixel((col+1,row))\n",
        "            difference.append(pixel_left>pixel_right)\n",
        "    decimal_value = 0\n",
        "    hex_string = []\n",
        "    for index, value in enumerate(difference):\n",
        "        if value:\n",
        "            decimal_value += 2**(index%8)\n",
        "        if (index%8) == 7:\n",
        "            hex_string.append(hex(decimal_value)[2:].rjust(2,'0'))\n",
        "            decimal_value = 0\n",
        "    return ''.join(hex_string)"
      ]
    },
    {
      "cell_type": "code",
      "execution_count": null,
      "metadata": {
        "_cell_guid": "b2364cc9-923f-f1aa-955b-466ee1f75926"
      },
      "outputs": [],
      "source": [
        "counter = 1\n",
        "hash_size = 16"
      ]
    },
    {
      "cell_type": "code",
      "execution_count": null,
      "metadata": {
        "_cell_guid": "88077e0b-300d-182c-0723-eb40e7e9009a"
      },
      "outputs": [],
      "source": [
        "# Lets get the train and test images and their respective gradient hashes\n",
        "img_id_hash = []\n",
        "parent_dir = \"train\"\n",
        "subdir = os.listdir(os.path.join(parent_dir))\n",
        "for direc in subdir: \n",
        "    try:\n",
        "        names = os.listdir(os.path.join(parent_dir, direc))\n",
        "    except:\n",
        "        continue\n",
        "    print(counter, direc, parent_dir)\n",
        "    for name in names:\n",
        "        imgdata = Image.open(os.path.join(parent_dir, direc, name)).convert(\"L\")\n",
        "        img_hash = dhash(imgdata, hash_size)\n",
        "        img_id_hash.append([parent_dir, direc, name, img_hash])\n",
        "        counter+=1\n",
        "\n",
        "df = pd.DataFrame(img_id_hash,columns=['ParDirectory' , 'SubDirectory', 'file_name', 'image_hash'])\n",
        "df.head(2)"
      ]
    },
    {
      "cell_type": "code",
      "execution_count": null,
      "metadata": {
        "_cell_guid": "0ebb18ed-9a19-aff5-d3f2-15bdaa3a06bc"
      },
      "outputs": [],
      "source": [
        "# Create the image hash distance matrix for the distances in images\n",
        "pool = multiprocessing.Pool(1)\n",
        "distances = np.zeros((df.shape[0], df.shape[0]))\n",
        "for i, row in df.iterrows():\n",
        "    #if i % 50 == 0: print i\n",
        "    all_hashes = [(row['image_hash'], f) for f in df.image_hash.tolist()]\n",
        "    dists = pool.map(hamdist, all_hashes)\n",
        "    distances[i, :] = dists\n",
        "# Get a histogram of the distances\n",
        "plt.hist(distances.flatten(), bins=50)\n",
        "plt.title('Histogram of distance matrix')"
      ]
    },
    {
      "cell_type": "code",
      "execution_count": null,
      "metadata": {
        "_cell_guid": "8036de6c-adbf-5ebc-deb1-011cba8bd4a2"
      },
      "outputs": [],
      "source": [
        "# Cluster the images - average cluster size ~ 10\n",
        "cls = cluster.KMeans(n_clusters=int(df.shape[0]/10), n_jobs = 8)\n",
        "y = cls.fit_predict(distances)"
      ]
    },
    {
      "cell_type": "code",
      "execution_count": null,
      "metadata": {
        "_cell_guid": "88dbc19b-6da8-b49e-a4e6-38f8e3887beb"
      },
      "outputs": [],
      "source": [
        "# Lets look at the first 5 clusters to check were grouping similar images\n",
        "_, ax = plt.subplots(12, 5, figsize=(10, 20))\n",
        "ax = ax.flatten()\n",
        "counter = 0\n",
        "for c in range(20):\n",
        "    for i, row in df[y==c].iterrows():\n",
        "        if counter  == len(ax): \n",
        "            break\n",
        "        if row['ParDirectory'] == 'test' :\n",
        "            imgdata = Image.open(os.path.join(row['ParDirectory'], row['file_name']))\n",
        "        else:\n",
        "            imgdata = Image.open(os.path.join(row['ParDirectory'], row['SubDirectory'], row['file_name']))\n",
        "        axis = ax[counter]\n",
        "        axis.set_title('Cluster ' + str(c) + ' ' + row['SubDirectory'], fontsize=10)\n",
        "        axis.imshow(np.asarray(imgdata), interpolation='nearest', aspect='auto')        \n",
        "        axis.axis('off')\n",
        "        counter += 1"
      ]
    },
    {
      "cell_type": "code",
      "execution_count": null,
      "metadata": {
        "_cell_guid": "739d70dd-b0a9-a0c0-e572-a11d93ba9b59"
      },
      "outputs": [],
      "source": [
        "# Lets pullout some random clusters as a validation set \n",
        "random.seed(100)\n",
        "samp = random.sample(range(len(np.unique(y))), int(len(np.unique(y))/6))\n",
        "df['Cluster'] = y\n",
        "df['Validation'] = np.where(df['Cluster'].isin(samp), 1, 0)"
      ]
    },
    {
      "cell_type": "code",
      "execution_count": null,
      "metadata": {
        "_cell_guid": "2ad5242e-00a6-77a9-2fad-0e2daa7d5403"
      },
      "outputs": [],
      "source": [
        "# Break down of full data\n",
        "df.SubDirectory.value_counts()"
      ]
    },
    {
      "cell_type": "code",
      "execution_count": null,
      "metadata": {
        "_cell_guid": "18dfd1da-a298-84ce-2e5e-5645729e9fb3"
      },
      "outputs": [],
      "source": [
        "# Break down of validation data\n",
        "df[df['Validation'] == 1].SubDirectory.value_counts()"
      ]
    },
    {
      "cell_type": "code",
      "execution_count": null,
      "metadata": {
        "_cell_guid": "f0e5cf95-c2cd-a6c4-95bd-3ca7aa5d4675"
      },
      "outputs": [],
      "source": [
        "# Use last column as validation indicator\n",
        "df.to_csv('../working/image_validation_set.csv', index=False)"
      ]
    }
  ],
  "metadata": {
    "_change_revision": 0,
    "_is_fork": false,
    "kernelspec": {
      "display_name": "Python 3",
      "language": "python",
      "name": "python3"
    },
    "language_info": {
      "codemirror_mode": {
        "name": "ipython",
        "version": 3
      },
      "file_extension": ".py",
      "mimetype": "text/x-python",
      "name": "python",
      "nbconvert_exporter": "python",
      "pygments_lexer": "ipython3",
      "version": "3.6.0"
    }
  },
  "nbformat": 4,
  "nbformat_minor": 0
}