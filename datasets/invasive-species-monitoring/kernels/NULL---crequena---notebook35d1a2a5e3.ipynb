{
  "cells": [
    {
      "cell_type": "markdown",
      "metadata": {
        "_cell_guid": "97659e1b-0004-9a8d-b1d7-02b2b7b59cde"
      },
      "source": [
        "# Starter's Pack for Invasive Species Detection\n",
        "\n",
        "#### Hello everyone! This is Chris, the main researcher behind the dataset featured in this competition!\n",
        "\n",
        "First of all, I we want to send a huge amount of thanks to Kaggle for making this nonprofit competition a real thing!\n",
        "\n",
        "I am here to help everyone getting a head start in the competition! We are going to be building a pretty simple yet very powerful classificator based entirely on the blog entry [\"Building powerful image classification models using very little data\"](https://blog.keras.io/building-powerful-image-classification-models-using-very-little-data.html) by F. Chollet.\n",
        "\n",
        "We are going to make use of Keras (Theano as backend) and the VGG16 pretrained weights. We will build our own fully connected layers to place on top of VGG16 and later fine-tune the model for a few epochs (so we get some juicy extra AUC points in the leaderboard). The training is pretty light, so it should run in an average Intel I5 laptop's CPU overnight!\n",
        "\n",
        "To keep the structure just like in the blog entry, this notebook is compiling together what in the blog are 2 different scripts. We are doing so sequentially, so it is easier to go to the source blog and get better understanding since the code will look the same there. First, we are going to predict features for our training and validation set for the last convolutional layers and save those to disk. Then we are going to use those predicted features to train our little fully connected model that will tell us whether there is or not an invasive species.\n"
      ]
    },
    {
      "cell_type": "code",
      "execution_count": null,
      "metadata": {
        "_cell_guid": "986f1d57-5b0e-1405-939c-6b4c0fca8b41"
      },
      "outputs": [],
      "source": ""
    },
    {
      "cell_type": "markdown",
      "metadata": {
        "_cell_guid": "ba428786-c4d0-67a7-2551-adefa3d5ed5a"
      },
      "source": ""
    },
    {
      "cell_type": "code",
      "execution_count": null,
      "metadata": {
        "_cell_guid": "f1983b8f-3a5e-ad40-5348-2e43a64904b9"
      },
      "outputs": [],
      "source": [
        "train_data_dir = 'data/train'\n",
        "validation_data_dir = 'data/validation'\n",
        "nb_train_samples = 2000\n",
        "nb_validation_samples = 500\n",
        "nb_epoch = 50"
      ]
    },
    {
      "cell_type": "markdown",
      "metadata": {
        "_cell_guid": "d5d23ce3-6d35-d972-311f-29d61d32ff33"
      },
      "source": ""
    },
    {
      "cell_type": "code",
      "execution_count": null,
      "metadata": {
        "_cell_guid": "70e74bd8-e860-9dfb-5731-358a9393ca22"
      },
      "outputs": [],
      "source": ""
    },
    {
      "cell_type": "markdown",
      "metadata": {
        "_cell_guid": "58ee02a3-4534-357a-90dc-2e0335236d19"
      },
      "source": ""
    },
    {
      "cell_type": "code",
      "execution_count": null,
      "metadata": {
        "_cell_guid": "b07b6231-5cdd-87fc-120c-0d716c659730"
      },
      "outputs": [],
      "source": [
        "def train_top_model():\n",
        "    train_data = np.load(open('bottleneck_features_train.npy','rb'))\n",
        "    train_labels = np.array([0] * int(nb_train_samples / 2) + [1] * int(nb_train_samples / 2))\n",
        "\n",
        "    validation_data = np.load(open('bottleneck_features_validation.npy', 'rb'))\n",
        "    validation_labels = np.array([0] * int(nb_validation_samples / 2) + [1] * int(nb_validation_samples / 2))\n",
        "\n",
        "    model = Sequential()\n",
        "    model.add(Flatten(input_shape=train_data.shape[1:]))\n",
        "    model.add(Dense(256, activation='relu'))\n",
        "    model.add(Dropout(0.5))\n",
        "    model.add(Dense(1, activation='sigmoid'))\n",
        "\n",
        "    model.compile(optimizer=optimizers.SGD(lr=1e-5, momentum=0.9, nesterov=True), loss='binary_crossentropy', metrics=['accuracy'])\n",
        "\n",
        "    model.fit(train_data, train_labels,\n",
        "              nb_epoch=nb_epoch, batch_size=32,\n",
        "              validation_data=(validation_data, validation_labels))\n",
        "    model.save_weights(top_model_weights_path)"
      ]
    },
    {
      "cell_type": "code",
      "execution_count": null,
      "metadata": {
        "_cell_guid": "7c18689c-2146-d838-4ba3-ed207d9410aa"
      },
      "outputs": [],
      "source": ""
    },
    {
      "cell_type": "code",
      "execution_count": null,
      "metadata": {
        "_cell_guid": "7d58eb3e-c22f-c63d-4673-1b9501407c3c"
      },
      "outputs": [],
      "source": ""
    },
    {
      "cell_type": "markdown",
      "metadata": {
        "_cell_guid": "7c4298e7-caac-12ee-5557-8a7c33f12260"
      },
      "source": ""
    },
    {
      "cell_type": "code",
      "execution_count": null,
      "metadata": {
        "_cell_guid": "234a8eba-4ffd-3063-2c16-c024f4ac532f",
        "collapsed": true
      },
      "outputs": [],
      "source": ""
    },
    {
      "cell_type": "markdown",
      "metadata": {
        "_cell_guid": "5dff8e8d-a5b1-127f-6877-bcb59819973a"
      },
      "source": ""
    },
    {
      "cell_type": "code",
      "execution_count": null,
      "metadata": {
        "_cell_guid": "c4dc57b5-c005-2ed0-32bf-8045efd3c5b4",
        "collapsed": true
      },
      "outputs": [],
      "source": ""
    },
    {
      "cell_type": "markdown",
      "metadata": {
        "_cell_guid": "7e801943-e00e-4d28-7467-07f1203677c7"
      },
      "source": ""
    },
    {
      "cell_type": "code",
      "execution_count": null,
      "metadata": {
        "_cell_guid": "177f4884-a034-0ff3-1808-480a9918921e",
        "collapsed": true
      },
      "outputs": [],
      "source": ""
    }
  ],
  "metadata": {
    "_change_revision": 0,
    "_is_fork": false,
    "kernelspec": {
      "display_name": "Python 3",
      "language": "python",
      "name": "python3"
    },
    "language_info": {
      "codemirror_mode": {
        "name": "ipython",
        "version": 3
      },
      "file_extension": ".py",
      "mimetype": "text/x-python",
      "name": "python",
      "nbconvert_exporter": "python",
      "pygments_lexer": "ipython3",
      "version": "3.6.0"
    }
  },
  "nbformat": 4,
  "nbformat_minor": 0
}