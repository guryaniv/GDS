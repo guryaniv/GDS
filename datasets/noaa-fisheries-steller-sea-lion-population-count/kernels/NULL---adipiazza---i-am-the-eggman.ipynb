{
  "cells": [
    {
      "cell_type": "markdown",
      "metadata": {
        "_cell_guid": "94450923-380c-0446-eb3f-34c8c73d7b33"
      },
      "source": ""
    },
    {
      "cell_type": "code",
      "execution_count": null,
      "metadata": {
        "_cell_guid": "3304c41b-4aa3-1f67-7fcf-95c95629e1a4"
      },
      "outputs": [],
      "source": [
        "# This Python 3 environment comes with many helpful analytics libraries installed\n",
        "# It is defined by the kaggle/python docker image: https://github.com/kaggle/docker-python\n",
        "# For example, here's several helpful packages to load in \n",
        "\n",
        "import numpy as np # linear algebra\n",
        "import pandas as pd # data processing, CSV file I/O (e.g. pd.read_csv)\n",
        "\n",
        "# Input data files are available in the \"../input/\" directory.\n",
        "# For example, running this (by clicking run or pressing Shift+Enter) will list the files in the input directory\n",
        "\n",
        "from subprocess import check_output\n",
        "print(check_output([\"ls\", \"../input\"]).decode(\"utf8\"))\n",
        "\n",
        "# Any results you write to the current directory are saved as output."
      ]
    },
    {
      "cell_type": "code",
      "execution_count": null,
      "metadata": {
        "_cell_guid": "2ef653c4-defb-52be-f5eb-4fd5d0ef6cb6"
      },
      "outputs": [],
      "source": [
        "import cv2\n",
        "import matplotlib.pylab as plt\n",
        "\n",
        "def read_imgs(img):\n",
        "    print('{}'.format(img))\n",
        "    im = cv2.imread(img, cv2.IMREAD_COLOR)\n",
        "    img = cv2.cvtColor(im, cv2.COLOR_BGR2RGB)\n",
        "    return img\n",
        "\n",
        "from glob import glob\n",
        "inputDir = \"../input/\"\n",
        "trainDot = glob(inputDir + 'TrainDotted/*.jpg')\n",
        "img = read_imgs(trainDot[1])\n",
        "#resized_image = cv2.resize(img, (1000, 1000)) \n",
        "plt.figure()\n",
        "plt.imshow(img)\n",
        "plt.axis([2500,3000,1000,1500])\n",
        "#plt.axis('off')\n",
        "print('Reading TrainDotted images... ')\n",
        "#for trn in (trainDot):\n",
        "#    img = read_imgs(trn)\n",
        "#    plt.figure()\n",
        "#    plt.imshow(img)\n",
        "#    plt.axis('off')"
      ]
    }
  ],
  "metadata": {
    "_change_revision": 0,
    "_is_fork": false,
    "kernelspec": {
      "display_name": "Python 3",
      "language": "python",
      "name": "python3"
    },
    "language_info": {
      "codemirror_mode": {
        "name": "ipython",
        "version": 3
      },
      "file_extension": ".py",
      "mimetype": "text/x-python",
      "name": "python",
      "nbconvert_exporter": "python",
      "pygments_lexer": "ipython3",
      "version": "3.6.0"
    }
  },
  "nbformat": 4,
  "nbformat_minor": 0
}