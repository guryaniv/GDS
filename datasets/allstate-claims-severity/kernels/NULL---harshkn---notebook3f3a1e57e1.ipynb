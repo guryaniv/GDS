{
  "cells": [
    {
      "cell_type": "code",
      "execution_count": null,
      "metadata": {
        "_cell_guid": "d758761f-11cb-7299-2046-ac62febee2e3"
      },
      "outputs": [],
      "source": [
        "%matplotlib inline\n",
        "from IPython.display import display\n",
        "import pandas as pd\n",
        "import numpy as np\n",
        "import matplotlib.pyplot as plt\n",
        "pd.set_option('display.max_columns', 500)\n",
        "\n",
        "from sklearn import linear_model"
      ]
    },
    {
      "cell_type": "code",
      "execution_count": null,
      "metadata": {
        "_cell_guid": "d3bb00db-f07b-d129-715f-61dc30c5a1d1"
      },
      "outputs": [],
      "source": [
        "df_train = pd.read_csv(\"../input/train.csv\")\n",
        "df_test = pd.read_csv(\"../input/test.csv\")\n"
      ]
    },
    {
      "cell_type": "code",
      "execution_count": null,
      "metadata": {
        "_cell_guid": "63beff9b-4fdb-2e09-2a16-84e134003f66"
      },
      "outputs": [],
      "source": [
        ""
      ]
    },
    {
      "cell_type": "code",
      "execution_count": null,
      "metadata": {
        "_cell_guid": "98b634ac-bfa2-6f58-7082-c7ac42ea19f1"
      },
      "outputs": [],
      "source": [
        ""
      ]
    },
    {
      "cell_type": "code",
      "execution_count": null,
      "metadata": {
        "_cell_guid": "07479dc8-942e-673a-b11d-c9a108af2fe2"
      },
      "outputs": [],
      "source": [
        "usecols = []\n",
        "for c in df_train.columns:\n",
        "    if 'cont' in c:\n",
        "        usecols.append(c)\n",
        "\n",
        "x_train = df_train[usecols]\n",
        "x_test = df_test[usecols]\n",
        "y_train = df_train['loss']\n",
        "\n",
        "id_test = df_test['id']"
      ]
    },
    {
      "cell_type": "code",
      "execution_count": null,
      "metadata": {
        "_cell_guid": "3ce39c4f-c743-a034-3fa2-0f98be812d51"
      },
      "outputs": [],
      "source": [
        "for c in df_train.columns:\n",
        "    if 'cat' in c:\n",
        "        df_train[c] = df_train[c].astype('category')\n",
        "        df_test[c] = df_test[c].astype('category')\n",
        "        x_train[c + '_numeric'] = df_train[c].cat.codes\n",
        "        x_test[c + '_numeric'] =  df_test[c].cat.codes"
      ]
    },
    {
      "cell_type": "code",
      "execution_count": null,
      "metadata": {
        "_cell_guid": "0fa12a37-4bee-9aa3-2cfc-980f91f08ca8"
      },
      "outputs": [],
      "source": [
        "x_test.head()"
      ]
    },
    {
      "cell_type": "code",
      "execution_count": null,
      "metadata": {
        "_cell_guid": "874db1f5-2f74-316a-7744-8922f2bc03d4"
      },
      "outputs": [],
      "source": [
        ""
      ]
    },
    {
      "cell_type": "code",
      "execution_count": null,
      "metadata": {
        "_cell_guid": "974cd52e-1b75-12f7-4802-8133d1357e55"
      },
      "outputs": [],
      "source": [
        "# Create linear regression object\n",
        "regr = linear_model.LinearRegression()\n",
        "\n",
        "# Train the model using the training sets\n",
        "regr.fit(x_train, y_train)\n",
        "\n",
        "\n",
        "# Predict using the trained model \n",
        "y_pred = regr.predict(x_test)"
      ]
    },
    {
      "cell_type": "code",
      "execution_count": null,
      "metadata": {
        "_cell_guid": "ddac4985-e4fd-19ac-a29c-c39b75f295d7"
      },
      "outputs": [],
      "source": [
        "sub = pd.DataFrame()\n",
        "sub['id'] = id_test\n",
        "sub['loss'] = y_pred\n",
        "sub.to_csv('lin_regression.csv', index=False)"
      ]
    },
    {
      "cell_type": "code",
      "execution_count": null,
      "metadata": {
        "_cell_guid": "2e3f6f27-a92b-31b1-9580-9d502132d14b"
      },
      "outputs": [],
      "source": [
        "# from sklearn.ensemble import RandomForestClassifier\n",
        "\n",
        "# # Random Forest \n",
        "# rf = RandomForestClassifier(n_estimators=30)\n",
        "# rf.fit(x_train, np.asarray(y_train, dtype=\"|S6\"))\n",
        "# y_pred = rf.predict(x_test)\n",
        "\n",
        "# sub = pd.DataFrame()\n",
        "# sub['id'] = id_test\n",
        "# sub['loss'] = y_pred\n",
        "# sub.to_csv('random_forest.csv', index=False)"
      ]
    },
    {
      "cell_type": "code",
      "execution_count": null,
      "metadata": {
        "_cell_guid": "40860684-2ed4-bb99-506c-d350f605c8f9"
      },
      "outputs": [],
      "source": [
        "np.asarray(y_train, dtype=\"|S6\")"
      ]
    },
    {
      "cell_type": "code",
      "execution_count": null,
      "metadata": {
        "_cell_guid": "ce5c2324-62a1-b0a5-bdae-afc7c82acd18"
      },
      "outputs": [],
      "source": [
        "# from sklearn.tree import DecisionTreeClassifier, export_graphviz\n",
        "\n",
        "# dt = DecisionTreeClassifier(min_samples_split=20, random_state=99)\n",
        "# dt.fit(x_train, np.asarray(y_train, dtype=\"|S6\"))\n"
      ]
    },
    {
      "cell_type": "code",
      "execution_count": null,
      "metadata": {
        "_cell_guid": "eed8460f-bb6f-1ae0-3318-c03e011bf97a"
      },
      "outputs": [],
      "source": [
        ""
      ]
    }
  ],
  "metadata": {
    "_change_revision": 0,
    "_is_fork": false,
    "kernelspec": {
      "display_name": "Python 3",
      "language": "python",
      "name": "python3"
    },
    "language_info": {
      "codemirror_mode": {
        "name": "ipython",
        "version": 3
      },
      "file_extension": ".py",
      "mimetype": "text/x-python",
      "name": "python",
      "nbconvert_exporter": "python",
      "pygments_lexer": "ipython3",
      "version": "3.5.2"
    }
  },
  "nbformat": 4,
  "nbformat_minor": 0
}