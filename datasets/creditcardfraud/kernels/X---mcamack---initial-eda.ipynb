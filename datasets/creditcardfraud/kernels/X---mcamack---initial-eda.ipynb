{
  "cells": [
    {
      "cell_type": "code",
      "execution_count": null,
      "metadata": {
        "_cell_guid": "268bc090-0d3d-04f9-43e2-8c8f013a251c"
      },
      "outputs": [],
      "source": [
        "# This Python 3 environment comes with many helpful analytics libraries installed\n",
        "# It is defined by the kaggle/python docker image: https://github.com/kaggle/docker-python\n",
        "# For example, here's several helpful packages to load in \n",
        "\n",
        "import numpy as np # linear algebra\n",
        "import matplotlib.pyplot as plt\n",
        "import seaborn as sns\n",
        "import pandas as pd # data processing, CSV file I/O (e.g. pd.read_csv)\n",
        "\n",
        "# Input data files are available in the \"../input/\" directory.\n",
        "# For example, running this (by clicking run or pressing Shift+Enter) will list the files in the input directory\n",
        "\n",
        "from subprocess import check_output\n",
        "print(check_output([\"ls\", \"../input\"]).decode(\"utf8\"))\n",
        "\n",
        "# Any results you write to the current directory are saved as output."
      ]
    },
    {
      "cell_type": "code",
      "execution_count": null,
      "metadata": {
        "_cell_guid": "613e6fe9-bb0d-77d5-42d4-617dad63dffb"
      },
      "outputs": [],
      "source": [
        "df = pd.read_csv(\"../input/creditcard.csv\")"
      ]
    },
    {
      "cell_type": "code",
      "execution_count": null,
      "metadata": {
        "_cell_guid": "70819781-b444-a621-fdba-95c33ee9448b"
      },
      "outputs": [],
      "source": [
        "df.shape"
      ]
    },
    {
      "cell_type": "code",
      "execution_count": null,
      "metadata": {
        "_cell_guid": "a05d32ed-80df-fc4c-1abc-bb8ee5236f74"
      },
      "outputs": [],
      "source": [
        "df.columns"
      ]
    },
    {
      "cell_type": "code",
      "execution_count": null,
      "metadata": {
        "_cell_guid": "d4f51d2e-662d-2f03-62e1-a7789be2d5b4"
      },
      "outputs": [],
      "source": [
        "df.info()"
      ]
    },
    {
      "cell_type": "code",
      "execution_count": null,
      "metadata": {
        "_cell_guid": "70eb5a62-d8b4-5d11-8f2c-699c07c15ed3"
      },
      "outputs": [],
      "source": [
        "df.head()"
      ]
    },
    {
      "cell_type": "code",
      "execution_count": null,
      "metadata": {
        "_cell_guid": "02c1e981-c493-99f0-fd5c-0d54b2d3e3ed"
      },
      "outputs": [],
      "source": [
        "df.tail()"
      ]
    },
    {
      "cell_type": "code",
      "execution_count": null,
      "metadata": {
        "_cell_guid": "591e2f4e-7adc-763d-e879-46668ff48f9c"
      },
      "outputs": [],
      "source": [
        "df.describe()"
      ]
    },
    {
      "cell_type": "code",
      "execution_count": null,
      "metadata": {
        "_cell_guid": "4e3e9866-c527-5f7c-2b3c-a5ad5b009817"
      },
      "outputs": [],
      "source": [
        "plt.scatter(df['Amount'], df['Class'])\n",
        "plt.xlabel('Amount'); plt.ylabel('Fraud');\n",
        "plt.show()"
      ]
    },
    {
      "cell_type": "code",
      "execution_count": null,
      "metadata": {
        "_cell_guid": "2fa7409f-817d-8399-2fb1-56c73f4486f6"
      },
      "outputs": [],
      "source": [
        "df['Class'].sum()"
      ]
    },
    {
      "cell_type": "code",
      "execution_count": null,
      "metadata": {
        "_cell_guid": "3250b5b9-5b5f-350a-538e-d7df963b0f04"
      },
      "outputs": [],
      "source": [
        "df_fraud = df[df['Class']==1]\n",
        "df_fraud.head()"
      ]
    },
    {
      "cell_type": "code",
      "execution_count": null,
      "metadata": {
        "_cell_guid": "b653db38-b3a2-305d-1be2-3c6d868e8d3a"
      },
      "outputs": [],
      "source": [
        "plt.hist(df_fraud['Amount'], bins=50);\n",
        "plt.xlabel('Amount'); plt.ylabel('Number of Frauds');\n",
        "plt.show()"
      ]
    },
    {
      "cell_type": "code",
      "execution_count": null,
      "metadata": {
        "_cell_guid": "dfd797f8-ab66-9122-ef47-bed40d8ce0be"
      },
      "outputs": [],
      "source": [
        "plt.hist(df_fraud['Time'], bins=100);\n",
        "plt.xlabel('Time'); plt.ylabel('Number of Frauds');\n",
        "plt.show()"
      ]
    },
    {
      "cell_type": "code",
      "execution_count": null,
      "metadata": {
        "_cell_guid": "27876680-5a85-cddd-ba0c-61302e504cd1"
      },
      "outputs": [],
      "source": ""
    },
    {
      "cell_type": "code",
      "execution_count": null,
      "metadata": {
        "_cell_guid": "bb3a6bc6-8b75-f74d-a3eb-e2463b772547"
      },
      "outputs": [],
      "source": [
        "sns.pairplot(df_fraud[['V1','V2','V3','V4']])"
      ]
    },
    {
      "cell_type": "code",
      "execution_count": null,
      "metadata": {
        "_cell_guid": "9a899a48-11da-5cb5-87e0-17eaac4a51fb"
      },
      "outputs": [],
      "source": ""
    }
  ],
  "metadata": {
    "_change_revision": 0,
    "_is_fork": false,
    "kernelspec": {
      "display_name": "Python 3",
      "language": "python",
      "name": "python3"
    },
    "language_info": {
      "codemirror_mode": {
        "name": "ipython",
        "version": 3
      },
      "file_extension": ".py",
      "mimetype": "text/x-python",
      "name": "python",
      "nbconvert_exporter": "python",
      "pygments_lexer": "ipython3",
      "version": "3.6.0"
    }
  },
  "nbformat": 4,
  "nbformat_minor": 0
}