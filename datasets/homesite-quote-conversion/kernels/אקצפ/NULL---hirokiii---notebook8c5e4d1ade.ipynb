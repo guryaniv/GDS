{
  "cells": [
    {
      "cell_type": "markdown",
      "metadata": {
        "_cell_guid": "b6b9c675-d65a-037f-f5c5-398f1b610586"
      },
      "source": [
        ""
      ]
    },
    {
      "cell_type": "code",
      "execution_count": null,
      "metadata": {
        "_cell_guid": "527de6e2-a1d2-acac-c911-21155df5139e"
      },
      "outputs": [],
      "source": [
        "# This Python 3 environment comes with many helpful analytics libraries installed\n",
        "# It is defined by the kaggle/python docker image: https://github.com/kaggle/docker-python\n",
        "# For example, here's several helpful packages to load in \n",
        "\n",
        "import numpy as np # linear algebra\n",
        "import pandas as pd # data processing, CSV file I/O (e.g. pd.read_csv)\n",
        "\n",
        "# Input data files are available in the \"../input/\" directory.\n",
        "# For example, running this (by clicking run or pressing Shift+Enter) will list the files in the input directory\n",
        "\n",
        "from subprocess import check_output\n",
        "print(check_output([\"ls\", \"../input\"]).decode(\"utf8\"))\n",
        "\n",
        "# Any results you write to the current directory are saved as output."
      ]
    },
    {
      "cell_type": "code",
      "execution_count": null,
      "metadata": {
        "_cell_guid": "45597ab0-5666-bd40-226c-7ee7602c4270"
      },
      "outputs": [],
      "source": [
        "import pandas as pd\n",
        "import numpy as np\n",
        "import xgboost as xgb\n",
        "from sklearn import preprocessing\n",
        "from sklearn.model_selection import train_test_split\n",
        "\n",
        "####### it's important for me #########\n",
        "seed = 260681\n",
        "#######################################\n",
        "\n",
        "train = pd.read_csv('../input/train.csv')\n",
        "test = pd.read_csv('../input/test.csv')\n",
        "\n",
        "y = train.QuoteConversion_Flag.values\n",
        "train = train.drop(['QuoteNumber', 'QuoteConversion_Flag'], axis=1)\n",
        "test = test.drop('QuoteNumber', axis=1)\n",
        "\n",
        "# Lets play with some dates\n",
        "train['Date'] = pd.to_datetime(train['Original_Quote_Date'])\n",
        "train = train.drop('Original_Quote_Date', axis=1)\n",
        "\n",
        "####### it's important for me #########\n",
        "test['Date'] = pd.to_datetime(test['Original_Quote_Date'])\n",
        "#######################################\n",
        "\n",
        "test = test.drop('Original_Quote_Date', axis=1)\n",
        "\n",
        "train['Year'] = train['Date'].apply(lambda x: int(str(x)[:4]))\n",
        "train['Month'] = train['Date'].apply(lambda x: int(str(x)[5:7]))\n",
        "\n",
        "####### it's important for me #########\n",
        "train['weekday'] = train['Date'].dt.dayofweek\n",
        "#######################################\n",
        "\n",
        "test['Year'] = test['Date'].apply(lambda x: int(str(x)[:4]))\n",
        "test['Month'] = test['Date'].apply(lambda x: int(str(x)[5:7]))\n",
        "test['weekday'] = test['Date'].dt.dayofweek\n",
        "\n",
        "train = train.drop('Date', axis=1)\n",
        "test = test.drop('Date', axis=1)\n",
        "\n",
        "train = train.fillna(-1)\n",
        "test = test.fillna(-1)\n",
        "\n",
        "####### it's important for me #########\n",
        "for f in train.columns:\n",
        "    if train[f].dtype=='object':\n",
        "        print(f)\n",
        "        lbl = preprocessing.LabelEncoder()\n",
        "        lbl.fit(list(train[f].values) + list(test[f].values))\n",
        "        train[f] = lbl.transform(list(train[f].values))\n",
        "        test[f] = lbl.transform(list(test[f].values))\n",
        "#######################################"
      ]
    },
    {
      "cell_type": "code",
      "execution_count": null,
      "metadata": {
        "_cell_guid": "83e60ca0-87f5-b9cd-2489-0c60ea9240b1"
      },
      "outputs": [],
      "source": [
        "np.unique(y, return_counts=True)"
      ]
    },
    {
      "cell_type": "code",
      "execution_count": null,
      "metadata": {
        "_cell_guid": "c9b14906-df00-adec-bc89-35dc6feced74"
      },
      "outputs": [],
      "source": [
        "\n",
        "clf = xgb.XGBClassifier(n_estimators=25,\n",
        "                        nthread=-1,\n",
        "                        max_depth=10,\n",
        "                        learning_rate=0.025,\n",
        "                        silent=True,\n",
        "                        subsample=0.8,\n",
        "                        colsample_bytree=0.8)\n",
        "                        \n",
        "clf.fit(train, y, eval_metric=\"auc\")\n",
        "\n",
        "preds = clf.predict_proba(test)[:,1]\n",
        "sample = pd.read_csv('../input/sample_submission.csv')\n",
        "sample.QuoteConversion_Flag = preds\n",
        "#sample.to_csv('xgb_benchmark.csv', index=False)"
      ]
    },
    {
      "cell_type": "code",
      "execution_count": null,
      "metadata": {
        "_cell_guid": "2055b8df-d60f-e654-e8f3-5528ac87b68c"
      },
      "outputs": [],
      "source": [
        ""
      ]
    }
  ],
  "metadata": {
    "_change_revision": 0,
    "_is_fork": false,
    "kernelspec": {
      "display_name": "Python 3",
      "language": "python",
      "name": "python3"
    },
    "language_info": {
      "codemirror_mode": {
        "name": "ipython",
        "version": 3
      },
      "file_extension": ".py",
      "mimetype": "text/x-python",
      "name": "python",
      "nbconvert_exporter": "python",
      "pygments_lexer": "ipython3",
      "version": "3.6.0"
    }
  },
  "nbformat": 4,
  "nbformat_minor": 0
}