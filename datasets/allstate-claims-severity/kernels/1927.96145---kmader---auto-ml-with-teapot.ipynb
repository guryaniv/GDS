{
  "cells": [
    {
      "cell_type": "markdown",
      "metadata": {
        "_cell_guid": "98f0e8bc-eceb-3681-f062-f4d1ee85aa32"
      },
      "source": [
        "A simple notebook using TPOT to see how well automl works. Currently we throw away all of the categories, it would be good to include them (turn them into numeric variables perhaps)"
      ]
    },
    {
      "cell_type": "code",
      "execution_count": null,
      "metadata": {
        "_cell_guid": "230de37d-f240-3197-8a83-db72d8027e92"
      },
      "outputs": [],
      "source": [
        "import matplotlib.pylab as plt\n",
        "import numpy as np # linear algebra\n",
        "import pandas as pd # data processing, CSV file I/O (e.g. pd.read_csv)\n",
        "from glob import glob\n",
        "import os\n",
        "REG_COLUMN = 'loss'\n",
        "TINY_TEST = True\n",
        "LOG_REG = True\n",
        "INCLUDE_CAT_VARS = True # include the categorical variables"
      ]
    },
    {
      "cell_type": "code",
      "execution_count": null,
      "metadata": {
        "_cell_guid": "6eac1396-d316-c23c-ce90-a309237ece08"
      },
      "outputs": [],
      "source": [
        "train_df = pd.read_csv('../input/train.csv')\n",
        "if LOG_REG:\n",
        "    # take the log10 of the value\n",
        "    train_df[REG_COLUMN] = train_df[REG_COLUMN].map(np.log10)\n",
        "print('Training Data Shape', train_df.shape)\n",
        "train_df.sample(3)"
      ]
    },
    {
      "cell_type": "code",
      "execution_count": null,
      "metadata": {
        "_cell_guid": "c1c51f09-bd06-0e21-b41a-0eb8ad430d5e"
      },
      "outputs": [],
      "source": [
        "from tpot import TPOTRegressor\n",
        "tpot_settings = dict(verbosity=2, random_state = 1234, scoring = 'mean_absolute_error', warm_start = True)\n",
        "auto_reg = TPOTRegressor(generations=2, population_size=5, **tpot_settings)\n",
        "if TINY_TEST:\n",
        "    auto_reg = TPOTRegressor(generations=1, population_size=3, **tpot_settings)"
      ]
    },
    {
      "cell_type": "code",
      "execution_count": null,
      "metadata": {
        "_cell_guid": "2d64b3fa-0923-641f-2c9c-c58eb3675354"
      },
      "outputs": [],
      "source": [
        "def make_train_vector(in_df):\n",
        "    new_df = in_df[[ccol for ccol in in_df.columns if (ccol not in [REG_COLUMN, 'id'])]]\n",
        "    if INCLUDE_CAT_VARS:\n",
        "        return new_df\n",
        "    else:\n",
        "        return new_df[[ccol for ccol in in_df.columns if ('cat' not in ccol)]]"
      ]
    },
    {
      "cell_type": "code",
      "execution_count": null,
      "metadata": {
        "_cell_guid": "ecee8b19-31ef-657e-064b-496a0890999c"
      },
      "outputs": [],
      "source": [
        "def make_train_vector(in_df):\n",
        "    return in_df[[ccol for ccol in in_df.columns if ('cat' not in ccol) and (ccol not in [REG_COLUMN, 'id'])]]"
      ]
    },
    {
      "cell_type": "code",
      "execution_count": null,
      "metadata": {
        "_cell_guid": "f9413c0e-8579-ca11-98de-54614330fe92"
      },
      "outputs": [],
      "source": [
        "%%time\n",
        "for i in range(1 if TINY_TEST else 2):\n",
        "    cur_df = train_df.sample(20000)\n",
        "    y_train = cur_df[REG_COLUMN]\n",
        "    x_train = make_train_vector(cur_df)\n",
        "    auto_reg.fit(x_train, y_train)"
      ]
    },
    {
      "cell_type": "markdown",
      "metadata": {
        "_cell_guid": "09a87fbe-bce5-62d9-f0b6-225fa10ff32f"
      },
      "source": [
        "# Load the test data"
      ]
    },
    {
      "cell_type": "code",
      "execution_count": null,
      "metadata": {
        "_cell_guid": "ca217e2b-9bb3-7b0d-cbce-ea7348e2aa27"
      },
      "outputs": [],
      "source": [
        "test_df = pd.read_csv('../input/test.csv')\n",
        "test_df.sample(3)"
      ]
    },
    {
      "cell_type": "code",
      "execution_count": null,
      "metadata": {
        "_cell_guid": "7514a13d-1f6d-8bc4-bd57-ef9c6338be53"
      },
      "outputs": [],
      "source": [
        "x_test = make_train_vector(test_df)\n",
        "# we need access to the pipeline to get the probabilities\n",
        "pred_loss = auto_reg.predict(x_test)\n",
        "guess_df = test_df[['id']]\n",
        "guess_df[REG_COLUMN] = np.power(10,pred_loss) if LOG_REG else pred_loss\n",
        "guess_df.sample(3)"
      ]
    },
    {
      "cell_type": "code",
      "execution_count": null,
      "metadata": {
        "_cell_guid": "ee4375c8-0f17-924a-c088-1b190280b552"
      },
      "outputs": [],
      "source": [
        "guess_df.to_csv('guess.csv', index = False)"
      ]
    },
    {
      "cell_type": "code",
      "execution_count": null,
      "metadata": {
        "_cell_guid": "e39ea9ae-5326-1c8f-27e3-7fa7faba575a"
      },
      "outputs": [],
      "source": [
        ""
      ]
    }
  ],
  "metadata": {
    "_change_revision": 0,
    "_is_fork": false,
    "kernelspec": {
      "display_name": "Python 3",
      "language": "python",
      "name": "python3"
    },
    "language_info": {
      "codemirror_mode": {
        "name": "ipython",
        "version": 3
      },
      "file_extension": ".py",
      "mimetype": "text/x-python",
      "name": "python",
      "nbconvert_exporter": "python",
      "pygments_lexer": "ipython3",
      "version": "3.6.0"
    }
  },
  "nbformat": 4,
  "nbformat_minor": 0
}