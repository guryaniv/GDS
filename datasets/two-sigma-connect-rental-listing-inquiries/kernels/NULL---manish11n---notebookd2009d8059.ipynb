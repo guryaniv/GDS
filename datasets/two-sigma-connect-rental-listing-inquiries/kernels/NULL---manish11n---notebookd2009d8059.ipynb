{
  "cells": [
    {
      "cell_type": "code",
      "execution_count": null,
      "metadata": {
        "_cell_guid": "8640fbb2-b633-e88b-1f9d-331fadb0d14d"
      },
      "outputs": [],
      "source": [
        "import pandas as pd\n",
        "import matplotlib.pyplot as plt\n",
        "import seaborn as sns\n",
        "import numpy as np\n",
        "from scipy.stats import norm\n",
        "from sklearn.preprocessing import StandardScaler\n",
        "from scipy import stats\n",
        "%matplotlib inline\n",
        "from math import sin, cos, sqrt, atan2, radians\n",
        "import math"
      ]
    },
    {
      "cell_type": "code",
      "execution_count": null,
      "metadata": {
        "_cell_guid": "780b0712-3c21-db32-5db0-f3a7dc3e92a6"
      },
      "outputs": [],
      "source": [
        "test = pd.read_json(\"../input/train.json\")\n",
        "test.head()"
      ]
    },
    {
      "cell_type": "code",
      "execution_count": null,
      "metadata": {
        "_cell_guid": "670a3a58-c3b7-4932-d396-36cdd096908d"
      },
      "outputs": [],
      "source": [
        "test.info()\n",
        "type (test)"
      ]
    },
    {
      "cell_type": "code",
      "execution_count": null,
      "metadata": {
        "_cell_guid": "532752db-132d-07f4-d28a-78ffad163847"
      },
      "outputs": [],
      "source": [
        "train.describe()\n",
        "test.latitude + ', ' + test.longitude"
      ]
    },
    {
      "cell_type": "code",
      "execution_count": null,
      "metadata": {
        "_cell_guid": "40fa448a-a779-94fe-74b3-90dc24f5e242"
      },
      "outputs": [],
      "source": [
        "# New York City Center Coords\n",
        "ny_lat = 40.785091\n",
        "ny_lon = -73.968285\n",
        "from geopy.distance import vincenty\n",
        "ny_ri = (ny_lat,ny_lon)\n",
        "Listing_Center_Distance = test.latitude +','+ test.longitude\n",
        "print(vincenty(ny_ri,Listing_Center_Distance).miles)\n"
      ]
    },
    {
      "cell_type": "code",
      "execution_count": null,
      "metadata": {
        "_cell_guid": "2aa20e8b-64d4-908d-03f1-a411fcc98aae"
      },
      "outputs": [],
      "source": [
        "train.info()\n"
      ]
    },
    {
      "cell_type": "code",
      "execution_count": null,
      "metadata": {
        "_cell_guid": "81600dc4-0346-a06a-0761-56a256d4a15c"
      },
      "outputs": [],
      "source": ""
    },
    {
      "cell_type": "code",
      "execution_count": null,
      "metadata": {
        "_cell_guid": "574830eb-3617-b64d-03f4-333d32010728"
      },
      "outputs": [],
      "source": ""
    },
    {
      "cell_type": "markdown",
      "metadata": {
        "_cell_guid": "27a50b72-9030-3841-9773-eb681e7c1e66"
      },
      "source": ""
    },
    {
      "cell_type": "code",
      "execution_count": null,
      "metadata": {
        "_cell_guid": "2c0f34eb-bc4b-8647-d49f-0778a2ad0681"
      },
      "outputs": [],
      "source": ""
    },
    {
      "cell_type": "code",
      "execution_count": null,
      "metadata": {
        "_cell_guid": "35cf85d1-ab6c-eacc-c33d-cbd43b36192b"
      },
      "outputs": [],
      "source": ""
    }
  ],
  "metadata": {
    "_change_revision": 0,
    "_is_fork": false,
    "kernelspec": {
      "display_name": "Python 3",
      "language": "python",
      "name": "python3"
    },
    "language_info": {
      "codemirror_mode": {
        "name": "ipython",
        "version": 3
      },
      "file_extension": ".py",
      "mimetype": "text/x-python",
      "name": "python",
      "nbconvert_exporter": "python",
      "pygments_lexer": "ipython3",
      "version": "3.6.0"
    }
  },
  "nbformat": 4,
  "nbformat_minor": 0
}