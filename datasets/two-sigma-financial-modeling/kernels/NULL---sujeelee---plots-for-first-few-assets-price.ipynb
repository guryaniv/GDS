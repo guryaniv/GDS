{
  "cells": [
    {
      "cell_type": "markdown",
      "metadata": {
        "_cell_guid": "41d668b7-8182-daa5-0d8a-d7b02eb9366f"
      },
      "source": [
        "To look at and get an insight from the price movements of stocks, I simply draw these graphs.\n",
        "Assumed that the target 'y' sequence is a differenced time series data, the (scaled) price can be calculated by cumulative sum. \n",
        "If I want to cluster assets using the other features to improve a prediction model, after that, I can simply check the clusters' practical validity by looking at these time series."
      ]
    },
    {
      "cell_type": "code",
      "execution_count": null,
      "metadata": {
        "_cell_guid": "0131b8fd-cf59-3bd0-9b48-6a601ff42600"
      },
      "outputs": [],
      "source": [
        "import numpy as np\n",
        "import pandas as pd\n",
        "import matplotlib.pyplot as plt\n",
        "%matplotlib inline\n",
        "\n",
        "with pd.HDFStore(\"../input/train.h5\", \"r\") as train:\n",
        "    df = train.get(\"train\")"
      ]
    },
    {
      "cell_type": "code",
      "execution_count": null,
      "metadata": {
        "_cell_guid": "a13f04f8-a023-3c84-6fdc-13ed14f600ea"
      },
      "outputs": [],
      "source": [
        "timemax = max(df[\"timestamp\"])\n",
        "timemin = min(df[\"timestamp\"])\n",
        "xlim = [timemin, timemax]\n",
        "\n",
        "for asset in df[\"id\"].unique() :\n",
        "    #print(df[\"id\"=asset])\n",
        "    x = df[df[\"id\"]==asset][\"timestamp\"]\n",
        "    diffy = df[df[\"id\"]==asset][\"y\"]\n",
        "    y = np.cumsum(diffy)\n",
        "    \n",
        "    plt.figure(figsize=(9,1))\n",
        "    plt.plot(x, y, 'k-')\n",
        "    plt.plot(x, diffy, 'b-')\n",
        "    plt.xlim(xlim)\n",
        "    plt.title(\"ID # %s\" %(asset),size=10)\n",
        "    \n",
        "    tmax = max(x)\n",
        "    ax = plt.subplot()\n",
        "    ax.axvline(tmax, color='r', linestyle='--')\n",
        "\n",
        "    if asset > 50 :\n",
        "        break;"
      ]
    }
  ],
  "metadata": {
    "_change_revision": 0,
    "_is_fork": false,
    "kernelspec": {
      "display_name": "Python 3",
      "language": "python",
      "name": "python3"
    },
    "language_info": {
      "codemirror_mode": {
        "name": "ipython",
        "version": 3
      },
      "file_extension": ".py",
      "mimetype": "text/x-python",
      "name": "python",
      "nbconvert_exporter": "python",
      "pygments_lexer": "ipython3",
      "version": "3.5.2"
    }
  },
  "nbformat": 4,
  "nbformat_minor": 0
}