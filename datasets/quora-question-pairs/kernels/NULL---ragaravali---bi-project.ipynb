{
  "cells": [
    {
      "cell_type": "markdown",
      "metadata": {
        "_cell_guid": "ae27b12a-e765-52a4-1c82-615c54a5385d"
      },
      "source": [
        "So finding the probability that two questions are same using doc2vec model."
      ]
    },
    {
      "cell_type": "markdown",
      "metadata": {
        "_cell_guid": "d0f7bdcb-392b-a92f-b295-ef9a4926e0d4"
      },
      "source": [
        "train data  has two null values. so removing those rows"
      ]
    },
    {
      "cell_type": "code",
      "execution_count": null,
      "metadata": {
        "_cell_guid": "e05a2425-14ca-688a-5ff7-613d92a2a1a5"
      },
      "outputs": [],
      "source": [
        "# This Python 3 environment comes with many helpful analytics libraries installed\n",
        "# It is defined by the kaggle/python docker image: https://github.com/kaggle/docker-python\n",
        "# For example, here's several helpful packages to load in \n",
        "\n",
        "import numpy as np # linear algebra\n",
        "import pandas as pd # data processing, CSV file I/O (e.g. pd.read_csv)\n",
        "import string\n",
        "\n",
        "# Input data files are available in the \"../input/\" directory.\n",
        "# For example, running this (by clicking run or pressing Shift+Enter) will list the files in the input directory\n",
        "train = pd.read_csv('../input/train.csv')\n",
        "test = pd.read_csv('../input/test.csv')\n",
        "#print(train.head())\n",
        "\n",
        "na = train[train.isnull().any(axis = 1)]\n",
        "##print(na)\n",
        "na1 = test[test.isnull().any(axis = 1)]\n",
        "#print(na1)\n",
        "train = train.dropna()\n",
        "test = test.dropna()\n",
        "train = train[\"question1\"]\n",
        "for sent in train:\n",
        "    data_clean(sent)\n",
        "#print(train.isnull().any())\n",
        "from subprocess import check_output\n",
        "#print(check_output([\"ls\", \"../input\"]).decode(\"utf8\"))\n",
        "\n",
        "# Any results you write to the current directory are saved as output."
      ]
    },
    {
      "cell_type": "markdown",
      "metadata": {
        "_cell_guid": "5ff657dd-c5ee-b0ee-7296-dc6e14fe90e3"
      },
      "source": [
        "Data cleaning"
      ]
    },
    {
      "cell_type": "code",
      "execution_count": null,
      "metadata": {
        "_cell_guid": "61955a11-23c5-84cc-09b7-00b75f318dc2"
      },
      "outputs": [],
      "source": [
        "import nltk\n",
        "from nltk.stem import SnowballStemmer\n",
        "from nltk.stem import WordNetLemmatizer\n",
        "import string\n",
        "stop_words = nltk.corpus.stopwords.words()\n",
        "punc = set(string.punctuation)\n",
        "def data_clean(sentence):\n",
        "    sentence = sentence.lower()\n",
        "    sentence = sentence.split(\" \")\n",
        "    for word in list(sentence):\n",
        "        if word in stop_words:\n",
        "            sentence.remove(word)\n",
        "        stemmer = SnowballStemmer('english')\n",
        "        lemma = WordNetLemmatizer()\n",
        "        sentence = [stemmer.stem(word) for word in sentence]\n",
        "        sentence = [lemma.lemmatize(word) for word in sentence]\n",
        "    sentence = \" \".join(sentence)\n",
        "    letters = list(sentence)\n",
        "    for let in letters:\n",
        "        if let in punc:\n",
        "            letters.remove(let)\n",
        "    sentence = ''.join(letters)\n",
        "    sentence = sentence[:-1] ## remove last queston mark.\n",
        "    return sentence\n",
        "final = data_clean(\"What is the Step by Step Guide to Investing iN? in which country?? india?\")\n",
        "print(final)"
      ]
    },
    {
      "cell_type": "code",
      "execution_count": null,
      "metadata": {
        "_cell_guid": "5d34fd64-683d-5676-a394-511f1abc5119"
      },
      "outputs": [],
      "source": ""
    }
  ],
  "metadata": {
    "_change_revision": 0,
    "_is_fork": false,
    "kernelspec": {
      "display_name": "Python 3",
      "language": "python",
      "name": "python3"
    },
    "language_info": {
      "codemirror_mode": {
        "name": "ipython",
        "version": 3
      },
      "file_extension": ".py",
      "mimetype": "text/x-python",
      "name": "python",
      "nbconvert_exporter": "python",
      "pygments_lexer": "ipython3",
      "version": "3.6.0"
    }
  },
  "nbformat": 4,
  "nbformat_minor": 0
}