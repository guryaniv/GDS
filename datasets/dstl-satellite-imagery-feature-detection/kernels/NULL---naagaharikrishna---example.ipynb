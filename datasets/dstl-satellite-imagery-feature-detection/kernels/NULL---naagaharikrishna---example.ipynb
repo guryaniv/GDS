{
  "metadata": {
    "kernelspec": {
      "display_name": "Python 3",
      "language": "python",
      "name": "python3"
    },
    "language_info": {
      "codemirror_mode": {
        "name": "ipython",
        "version": 3
      },
      "file_extension": ".py",
      "mimetype": "text/x-python",
      "name": "python",
      "nbconvert_exporter": "python",
      "pygments_lexer": "ipython3",
      "version": "3.6.0"
    }
  },
  "nbformat": 4,
  "nbformat_minor": 0,
  "cells": [
    {
      "cell_type": "code",
      "execution_count": 11,
      "metadata": {
        "_cell_guid": "0f245602-1b68-4fb9-f25b-959673f80fa6",
        "_active": false,
        "collapsed": false
      },
      "outputs": [],
      "source": "import os\nimport numpy as np\nimport pandas as pd\nimport tifffile as tiff\nimport cv2\nimport matplotlib.pyplot as plt\nfrom shapely.wkt import loads as wkt_loads\n\nN_Cls = 10\ninDir = '../input'\nDF = pd.read_csv(inDir + '/train_wkt_v4.csv')\nGS = pd.read_csv(inDir + '/grid_sizes.csv', names=['ImageId', 'Xmax', 'Ymin'], skiprows=1)\nSB = pd.read_csv(os.path.join(inDir, 'sample_submission.csv'))\nISZ = 160\nsmooth = 1e-12\n\ndef stretch_n(bands, lower_percent=2, higher_percent=98):\n    out = np.zeros_like(bands).astype(np.float32)\n    for i in range(3):\n        a = 0 \n        b = 255 \n        c = np.percentile(bands[:,:,i], lower_percent)\n        d = np.percentile(bands[:,:,i], higher_percent)        \n        t = a + (bands[:,:,i] - c) * (b - a) / (d - c)    \n        t[t<a] = a\n        t[t>b] = b\n        out[:,:,i] =t\n    return out.astype(np.uint8)    \n    \ndef M(image_id):\n    filename = os.path.join(inDir,'sixteen_band', '{}_M.tif'.format(image_id))\n    img = tiff.imread(filename)    \n    img = np.rollaxis(img, 0, 3)\n    return img\n\nimage_id = '6120_2_3'\nm = M(image_id)\nimg = np.zeros((837,851,3))\nimg[:,:,0] = m[:,:,4] #red\nimg[:,:,1] = m[:,:,2] #green\nimg[:,:,2] = m[:,:,1] #blue\nplt.imshow(stretch_n(img))",
      "execution_state": "idle"
    }
  ]
}