{
  "cells": [
    {
      "cell_type": "markdown",
      "metadata": {
        "_cell_guid": "9f42470d-97a6-39e2-4153-598920edc8d0"
      },
      "source": [
        "## Indonesia ##"
      ]
    },
    {
      "cell_type": "code",
      "execution_count": null,
      "metadata": {
        "_cell_guid": "1ca78e3d-c88b-3e58-cb1d-c42cba8b3d7d"
      },
      "outputs": [],
      "source": [
        "# This Python 3 environment comes with many helpful analytics libraries installed\n",
        "# It is defined by the kaggle/python docker image: https://github.com/kaggle/docker-python\n",
        "# For example, here's several helpful packages to load in \n",
        "\n",
        "import numpy as np # linear algebra\n",
        "import pandas as pd # data processing, CSV file I/O (e.g. pd.read_csv)\n",
        "import matplotlib.pyplot as plt\n",
        "\n",
        "# Input data files are available in the \"../input/\" directory.\n",
        "# For example, running this (by clicking run or pressing Shift+Enter) will list the files in the input directory\n",
        "\n",
        "from subprocess import check_output\n",
        "print(check_output([\"ls\", \"../input\"]).decode(\"utf8\"))\n",
        "\n",
        "# Any results you write to the current directory are saved as output."
      ]
    },
    {
      "cell_type": "code",
      "execution_count": null,
      "metadata": {
        "_cell_guid": "058a006b-995a-37ac-c6e1-a4e97a8a7cd5"
      },
      "outputs": [],
      "source": [
        "df_countries = pd.read_csv('../input/Country.csv')\n",
        "df_indicators = pd.read_csv('../input/Indicators.csv')\n",
        "df_series = pd.read_csv('../input/Series.csv')"
      ]
    },
    {
      "cell_type": "code",
      "execution_count": null,
      "metadata": {
        "_cell_guid": "da301fdc-94d8-0ede-cf08-f12e574a608c"
      },
      "outputs": [],
      "source": [
        "df_indicators[df_indicators.CountryName == 'Indonesia'].drop_duplicates('IndicatorCode')['IndicatorName'].iloc[1]"
      ]
    },
    {
      "cell_type": "code",
      "execution_count": null,
      "metadata": {
        "_cell_guid": "9979b0ab-4fca-b9dd-b568-25611ec037e8"
      },
      "outputs": [],
      "source": [
        "df_indo = df_indicators[df_indicators.CountryName == 'Indonesia']"
      ]
    },
    {
      "cell_type": "code",
      "execution_count": null,
      "metadata": {
        "_cell_guid": "100ebf92-3616-76a6-aed1-08117c4f3303"
      },
      "outputs": [],
      "source": [
        "ind_code = 'SP.ADO.TFRT'\n",
        "data = df_indo[df_indo.IndicatorCode == ind_code]\n",
        "plt.grid()\n",
        "plt.ylabel('Value')\n",
        "plt.xlabel('Year')\n",
        "\n",
        "# 1st Plot\n",
        "line1, = plt.plot(data['Year'], data['Value'], label=data['IndicatorCode'])\n",
        "# 2nd Plot\n",
        "\n",
        "plt.legend([line1])"
      ]
    },
    {
      "cell_type": "code",
      "execution_count": null,
      "metadata": {
        "_cell_guid": "6c356de2-8cb6-4ae3-abc9-2f74a0662948"
      },
      "outputs": [],
      "source": [
        "len(df_indicators[df_indicators.CountryName == 'Indonesia'])"
      ]
    },
    {
      "cell_type": "code",
      "execution_count": null,
      "metadata": {
        "_cell_guid": "6650f117-0896-43c4-b95c-05bdb8a96f37"
      },
      "outputs": [],
      "source": [
        "df_countries = pd.read_csv('../input/Country.csv')\n",
        "df_indicators = pd.read_csv('../input/Indicators.csv')\n",
        "df_series = pd.read_csv('../input/Series.csv')"
      ]
    },
    {
      "cell_type": "code",
      "execution_count": null,
      "metadata": {
        "_cell_guid": "3d563d12-7895-44c8-856a-0389a57e49d6"
      },
      "outputs": [],
      "source": [
        "df_indicators[df_indicators.CountryName == 'Indonesia'].drop_duplicates('IndicatorCode')"
      ]
    },
    {
      "cell_type": "code",
      "execution_count": null,
      "metadata": {
        "_cell_guid": "b2b451fa-322a-4217-ab73-dfe4f8756f55"
      },
      "outputs": [],
      "source": [
        "df_countries[df_countries.CountryCode == 'IDN']"
      ]
    },
    {
      "cell_type": "markdown",
      "metadata": {
        "_cell_guid": "e0f864ec-49d4-4993-952b-68201bb9257c"
      },
      "source": [
        ""
      ]
    }
  ],
  "metadata": {
    "_change_revision": 0,
    "_is_fork": false,
    "kernelspec": {
      "display_name": "Python 3",
      "language": "python",
      "name": "python3"
    },
    "language_info": {
      "codemirror_mode": {
        "name": "ipython",
        "version": 3
      },
      "file_extension": ".py",
      "mimetype": "text/x-python",
      "name": "python",
      "nbconvert_exporter": "python",
      "pygments_lexer": "ipython3",
      "version": "3.5.2"
    }
  },
  "nbformat": 4,
  "nbformat_minor": 0
}