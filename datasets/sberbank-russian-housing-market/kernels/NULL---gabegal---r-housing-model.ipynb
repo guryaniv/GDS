{
  "cells": [
    {
      "cell_type": "markdown",
      "metadata": {
        "_cell_guid": "f8431d78-9567-d724-233e-6556f605223e"
      },
      "source": ""
    },
    {
      "cell_type": "code",
      "execution_count": null,
      "metadata": {
        "_cell_guid": "b108a373-d2d8-37fc-ebe5-69c6bea73321"
      },
      "outputs": [],
      "source": [
        "import numpy as np\n",
        "import pandas as pd\n",
        "from IPython.display import display\n",
        "import matplotlib.pyplot as plt\n",
        "\n",
        "data_train = pd.read_csv(\"../input/train.csv\")\n",
        "data_test = pd.read_csv(\"../input/test.csv\")\n",
        "data_macro = pd.read_csv(\"../input/macro.csv\")\n",
        "\n",
        "prices_train = data_train['price_doc']\n",
        "features_train = data_train.drop('price_doc', axis = 1)\n",
        "\n",
        "prices_test = []\n",
        "features_test = data_test\n",
        "\n",
        "print (features_train.head())"
      ]
    },
    {
      "cell_type": "code",
      "execution_count": null,
      "metadata": {
        "_cell_guid": "af3b9af2-4863-4fa1-116a-0b1726cb1a4a"
      },
      "outputs": [],
      "source": ""
    },
    {
      "cell_type": "code",
      "execution_count": null,
      "metadata": {
        "_cell_guid": "11aee14e-0e64-7f64-fa9f-5e8a244a0d12"
      },
      "outputs": [],
      "source": [
        "plt.scatter(features_train['id'],prices_train)"
      ]
    },
    {
      "cell_type": "code",
      "execution_count": null,
      "metadata": {
        "_cell_guid": "63a43a8c-b6fc-c1c8-d0bb-0977d7345569"
      },
      "outputs": [],
      "source": ""
    }
  ],
  "metadata": {
    "_change_revision": 0,
    "_is_fork": false,
    "kernelspec": {
      "display_name": "Python 3",
      "language": "python",
      "name": "python3"
    },
    "language_info": {
      "codemirror_mode": {
        "name": "ipython",
        "version": 3
      },
      "file_extension": ".py",
      "mimetype": "text/x-python",
      "name": "python",
      "nbconvert_exporter": "python",
      "pygments_lexer": "ipython3",
      "version": "3.6.0"
    }
  },
  "nbformat": 4,
  "nbformat_minor": 0
}