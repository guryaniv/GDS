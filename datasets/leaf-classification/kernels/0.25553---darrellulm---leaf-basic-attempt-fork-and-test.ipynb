{
  "cells": [
    {
      "cell_type": "code",
      "execution_count": null,
      "metadata": {
        "_cell_guid": "62762b13-6bbf-e6bc-e5ab-247818092e84"
      },
      "outputs": [],
      "source": [
        "# This Python 3 environment comes with many helpful analytics libraries installed\n",
        "# It is defined by the kaggle/python docker image: https://github.com/kaggle/docker-python\n",
        "# For example, here's several helpful packages to load in \n",
        "\n",
        "import numpy as np # linear algebra\n",
        "import pandas as pd # data processing, CSV file I/O (e.g. pd.read_csv)\n",
        "\n",
        "# Input data files are available in the \"../input/\" directory.\n",
        "# For example, running this (by clicking run or pressing Shift+Enter) will list the files in the input directory\n",
        "\n",
        "from subprocess import check_output\n",
        "print(check_output([\"ls\", \"../input\"]).decode(\"utf8\"))\n",
        "\n",
        "# Any results you write to the current directory are saved as output."
      ]
    },
    {
      "cell_type": "markdown",
      "metadata": {
        "_cell_guid": "37dba6d9-7caf-07fe-7904-ca42fbcce09b"
      },
      "source": [
        "## Get training data into data frame"
      ]
    },
    {
      "cell_type": "code",
      "execution_count": null,
      "metadata": {
        "_cell_guid": "555b60b9-0563-2e81-f073-519fa9d110f7"
      },
      "outputs": [],
      "source": [
        "df_train = pd.read_csv('../input/train.csv', index_col = 'id')\n",
        "df_train.head()"
      ]
    },
    {
      "cell_type": "markdown",
      "metadata": {
        "_cell_guid": "edd7f863-eff7-9a2a-e8be-339757780b7a"
      },
      "source": [
        "## Create X"
      ]
    },
    {
      "cell_type": "code",
      "execution_count": null,
      "metadata": {
        "_cell_guid": "11e564c6-d55c-c62f-4585-d33e36ce5ff9"
      },
      "outputs": [],
      "source": [
        "X = df_train.drop('species', axis=1)\n",
        "y = df_train.species\n",
        "df_train.shape, X.shape, y.shape"
      ]
    },
    {
      "cell_type": "markdown",
      "metadata": {
        "_cell_guid": "eeadfe07-3741-f671-300c-6f5d6701404f"
      },
      "source": [
        "## Encode labels into y"
      ]
    },
    {
      "cell_type": "code",
      "execution_count": null,
      "metadata": {
        "_cell_guid": "da4f3250-605f-63ea-202f-fbbd3bd3ca89"
      },
      "outputs": [],
      "source": [
        "import sklearn.preprocessing as skpp\n",
        "\n",
        "# classes used to order the label_binarize call below, \n",
        "# and at the bottom to give column names to submission data\n",
        "classes = df_train.species.unique()\n",
        "classes.sort()\n",
        "\n",
        "y = skpp.label_binarize(y, classes = classes)\n",
        "y[0,]"
      ]
    },
    {
      "cell_type": "markdown",
      "metadata": {
        "_cell_guid": "2765fcb8-1888-d8b5-ac68-b7ab413a40dd"
      },
      "source": [
        "## Pipeline"
      ]
    },
    {
      "cell_type": "code",
      "execution_count": null,
      "metadata": {
        "_cell_guid": "bbafb7bb-7ea8-4b11-b2b9-d1f5de77d7f6"
      },
      "outputs": [],
      "source": [
        "from sklearn.pipeline import Pipeline\n",
        "import sklearn.preprocessing as skpp\n",
        "import sklearn.decomposition as skdc\n",
        "from sklearn.svm import SVC\n",
        "from sklearn.multiclass import OneVsRestClassifier\n",
        "\n",
        "norm = skpp.StandardScaler()\n",
        "pca = skdc.PCA(n_components=25) \n",
        "svm = OneVsRestClassifier(SVC(kernel='sigmoid', probability=True))\n",
        "pipe = Pipeline(steps = [\n",
        "        ('standardizer', norm), \n",
        "        ('decom', pca), \n",
        "        ('alg', svm)])"
      ]
    },
    {
      "cell_type": "code",
      "execution_count": null,
      "metadata": {
        "_cell_guid": "3d5d9706-6fca-eaeb-3ae1-bd358c7dfa97"
      },
      "outputs": [],
      "source": [
        "import sklearn.model_selection as skms\n",
        "from sklearn.ensemble import RandomForestClassifier\n",
        "from sklearn.naive_bayes import GaussianNB\n",
        "\n",
        "m_comp = [25, 50, 75, 100]\n",
        "params = [\n",
        "    {\n",
        "        'decom__n_components': m_comp,\n",
        "        'alg__estimator__C': list(np.arange(.4, .6, .1)),\n",
        "        'alg__estimator__kernel': ['linear']\n",
        "    },\n",
        "    {\n",
        "        'decom__n_components': m_comp,\n",
        "        'alg': [RandomForestClassifier()],\n",
        "        'alg__n_estimators': [8,10,12]\n",
        "    },\n",
        "    {\n",
        "        'decom__n_components': m_comp,\n",
        "        'alg': [OneVsRestClassifier(GaussianNB())]        \n",
        "    }\n",
        "]\n",
        "\n",
        "grid = skms.GridSearchCV(pipe, params)"
      ]
    },
    {
      "cell_type": "markdown",
      "metadata": {
        "_cell_guid": "f3243c02-2f73-9c63-1937-bd20878516dc"
      },
      "source": [
        "## Cross-validated, stratified, and shuffled"
      ]
    },
    {
      "cell_type": "code",
      "execution_count": null,
      "metadata": {
        "_cell_guid": "d33992c6-d2f9-15aa-c2a9-9d5b179f5774"
      },
      "outputs": [],
      "source": [
        "import sklearn.model_selection as skms\n",
        "\n",
        "strat_cv_shuffler = skms.StratifiedShuffleSplit(n_splits = 6, train_size=0.8)"
      ]
    },
    {
      "cell_type": "markdown",
      "metadata": {
        "_cell_guid": "038f7f16-d4d3-b8f4-e114-55f8f4b6271b"
      },
      "source": [
        "## Run on training data"
      ]
    },
    {
      "cell_type": "code",
      "execution_count": null,
      "metadata": {
        "_cell_guid": "fea987c1-6b55-2450-4bc5-c9560aa30cd7"
      },
      "outputs": [],
      "source": [
        "#scores = skms.cross_val_score(grid, X, y, cv=strat_cv_shuffler)\n",
        "#print(\"Accuracy: %0.2f (+/- %0.2f)\" % (scores.mean(), scores.std() * 2))"
      ]
    },
    {
      "cell_type": "markdown",
      "metadata": {
        "_cell_guid": "9b7f354a-b8d9-e664-a4c6-9b4fa3e30d26"
      },
      "source": [
        "## Train"
      ]
    },
    {
      "cell_type": "code",
      "execution_count": null,
      "metadata": {
        "_cell_guid": "1fda58f6-18b8-e070-2367-6357874c34d9"
      },
      "outputs": [],
      "source": [
        "grid.fit(X, y)\n",
        "grid.best_params_"
      ]
    },
    {
      "cell_type": "markdown",
      "metadata": {
        "_cell_guid": "9c19fc05-4ae8-1ce7-6b8c-04b33b884b9a"
      },
      "source": [
        "## Create submission file"
      ]
    },
    {
      "cell_type": "code",
      "execution_count": null,
      "metadata": {
        "_cell_guid": "40288887-ea0b-2363-c862-1523f3ac744b"
      },
      "outputs": [],
      "source": [
        "df_test = pd.read_csv('../input/test.csv', index_col = 'id')\n",
        "\n",
        "pred = grid.predict_proba(df_test)\n",
        "df_sub = pd.DataFrame(pred, index = df_test.index, columns = classes)\n",
        "df_sub.to_csv('submission.csv')\n",
        "df_sub.head()"
      ]
    },
    {
      "cell_type": "code",
      "execution_count": null,
      "metadata": {
        "_cell_guid": "ca5facd3-e8aa-7c40-96cb-ed07c1c53229"
      },
      "outputs": [],
      "source": [
        "#test\n",
        "pred"
      ]
    }
  ],
  "metadata": {
    "_change_revision": 0,
    "_is_fork": false,
    "kernelspec": {
      "display_name": "Python 3",
      "language": "python",
      "name": "python3"
    },
    "language_info": {
      "codemirror_mode": {
        "name": "ipython",
        "version": 3
      },
      "file_extension": ".py",
      "mimetype": "text/x-python",
      "name": "python",
      "nbconvert_exporter": "python",
      "pygments_lexer": "ipython3",
      "version": "3.6.0"
    }
  },
  "nbformat": 4,
  "nbformat_minor": 0
}