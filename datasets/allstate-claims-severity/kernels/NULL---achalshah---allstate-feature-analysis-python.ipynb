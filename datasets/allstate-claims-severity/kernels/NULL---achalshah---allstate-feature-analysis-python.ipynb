{
  "cells": [
    {
      "cell_type": "markdown",
      "metadata": {
        "_cell_guid": "b12ad2c0-a8d4-33a8-282d-f2a0ffa884da"
      },
      "source": [
        "**This is my first kernel submission on kaggle. I got the motivation from other EDA notebooks for this competition.**"
      ]
    },
    {
      "cell_type": "code",
      "execution_count": null,
      "metadata": {
        "_cell_guid": "584c6e69-e7de-4885-36e2-51a2960b2325"
      },
      "outputs": [],
      "source": [
        "import warnings\n",
        "warnings.filterwarnings('ignore')\n",
        "\n",
        "import pandas as pd\n",
        "import numpy as np"
      ]
    },
    {
      "cell_type": "code",
      "execution_count": null,
      "metadata": {
        "_cell_guid": "a1779bca-714f-8bc0-4cef-71c751980516"
      },
      "outputs": [],
      "source": [
        "train_data = pd.read_csv(\"../input/train.csv\")\n",
        "test_data = pd.read_csv(\"../input/test.csv\")"
      ]
    },
    {
      "cell_type": "code",
      "execution_count": null,
      "metadata": {
        "_cell_guid": "23b03f31-1690-d7e5-2a08-c6db73c65996"
      },
      "outputs": [],
      "source": [
        "print(\"Train data dimensions: \", train_data.shape)\n",
        "print(\"Test data dimensions: \", test_data.shape)"
      ]
    },
    {
      "cell_type": "code",
      "execution_count": null,
      "metadata": {
        "_cell_guid": "de65fb7b-2dce-737e-42d6-01c8581ba42e"
      },
      "outputs": [],
      "source": [
        "train_data.head()"
      ]
    },
    {
      "cell_type": "code",
      "execution_count": null,
      "metadata": {
        "_cell_guid": "fa9c7c9f-ecaf-1858-6aca-b7805bb6f31a"
      },
      "outputs": [],
      "source": [
        "print(\"Number of missing values\",train_data.isnull().sum().sum())"
      ]
    },
    {
      "cell_type": "markdown",
      "metadata": {
        "_cell_guid": "29d151dc-1469-f4f4-2d1a-473d8b9e3ab6"
      },
      "source": [
        "This is a good news as there are not missing values :)"
      ]
    },
    {
      "cell_type": "markdown",
      "metadata": {
        "_cell_guid": "6d334724-077e-fd94-41df-96a2cfe4fa5b"
      },
      "source": [
        "**Lets analyze the distribution of continuous features:**"
      ]
    },
    {
      "cell_type": "code",
      "execution_count": null,
      "metadata": {
        "_cell_guid": "35af5d05-aad4-fbe6-f352-b0ee3b82b5f3"
      },
      "outputs": [],
      "source": [
        "train_data.describe()"
      ]
    },
    {
      "cell_type": "code",
      "execution_count": null,
      "metadata": {
        "_cell_guid": "3e8fc87d-9942-2b24-1916-c426b17b2f1f"
      },
      "outputs": [],
      "source": [
        "contFeatureslist = []\n",
        "for colName,x in train_data.iloc[1,:].iteritems():\n",
        "    #print(x)\n",
        "    if(not str(x).isalpha()):\n",
        "        contFeatureslist.append(colName)"
      ]
    },
    {
      "cell_type": "code",
      "execution_count": null,
      "metadata": {
        "_cell_guid": "6ef6c2b2-8e14-bd56-5bbd-1989accc960d"
      },
      "outputs": [],
      "source": [
        "print(contFeatureslist)"
      ]
    },
    {
      "cell_type": "code",
      "execution_count": null,
      "metadata": {
        "_cell_guid": "2a511c09-ed3d-74fd-69a2-da269ab810a1"
      },
      "outputs": [],
      "source": [
        "contFeatureslist.remove(\"id\")\n",
        "contFeatureslist.remove(\"loss\")"
      ]
    },
    {
      "cell_type": "markdown",
      "metadata": {
        "_cell_guid": "e5d21591-3a98-ca68-8293-b63ca78478c8"
      },
      "source": [
        "### Box plots for continuous features"
      ]
    },
    {
      "cell_type": "code",
      "execution_count": null,
      "metadata": {
        "_cell_guid": "98929d14-9d5c-f77f-aff1-0903a2c7ef50"
      },
      "outputs": [],
      "source": [
        "import matplotlib.pyplot as plt\n",
        "import seaborn as sns\n",
        "%matplotlib inline"
      ]
    },
    {
      "cell_type": "code",
      "execution_count": null,
      "metadata": {
        "_cell_guid": "206e0fe3-92de-511c-d2b3-4b030cb6a937"
      },
      "outputs": [],
      "source": [
        "plt.figure(figsize=(13,9))\n",
        "sns.boxplot(train_data[contFeatureslist])"
      ]
    },
    {
      "cell_type": "markdown",
      "metadata": {
        "_cell_guid": "a3ba1934-fed1-3d1d-f87a-b7fc31cb98d0"
      },
      "source": [
        "As we  can see, some of the features like cont13, cont14 etc. are highly skewed. we might need to normalize these features before running any algorithms"
      ]
    },
    {
      "cell_type": "markdown",
      "metadata": {
        "_cell_guid": "9920de90-92a8-e109-5378-72f1f0fef821"
      },
      "source": [
        "### Correlation between continuous features"
      ]
    },
    {
      "cell_type": "code",
      "execution_count": null,
      "metadata": {
        "_cell_guid": "fe04a782-583d-4254-7969-d93900deec48"
      },
      "outputs": [],
      "source": [
        "# Include  target variable also to find correlation between features and target feature as well\n",
        "contFeatureslist.append(\"loss\")"
      ]
    },
    {
      "cell_type": "code",
      "execution_count": null,
      "metadata": {
        "_cell_guid": "28651562-664f-d356-890c-3986a8006afa"
      },
      "outputs": [],
      "source": [
        "correlationMatrix = train_data[contFeatureslist].corr().abs()\n",
        "\n",
        "plt.subplots(figsize=(13, 9))\n",
        "sns.heatmap(correlationMatrix,annot=True)\n",
        "\n",
        "# Mask unimportant features\n",
        "sns.heatmap(correlationMatrix, mask=correlationMatrix < 1, cbar=False)\n",
        "plt.show()"
      ]
    },
    {
      "cell_type": "markdown",
      "metadata": {
        "_cell_guid": "d7064185-1c5b-8a77-4d40-2cf7e79c1620"
      },
      "source": [
        "### Analysis of loss feature"
      ]
    },
    {
      "cell_type": "code",
      "execution_count": null,
      "metadata": {
        "_cell_guid": "df79cc57-3842-6169-b91a-cb7aee996b2e"
      },
      "outputs": [],
      "source": [
        "plt.figure(figsize=(13,9))\n",
        "sns.distplot(train_data[\"loss\"])\n",
        "sns.boxplot(train_data[\"loss\"])"
      ]
    },
    {
      "cell_type": "markdown",
      "metadata": {
        "_cell_guid": "31747eb1-d7aa-5916-aaae-b169c4155fc5"
      },
      "source": [
        "Here, we can see loss is highly right skewed data. This happened because there are many outliers in the data that we ca see from box plot. Lets apply log to see if we can get normal distribution"
      ]
    },
    {
      "cell_type": "code",
      "execution_count": null,
      "metadata": {
        "_cell_guid": "0e5eeaf3-29d6-0bf9-f2a1-98b032db3f7b"
      },
      "outputs": [],
      "source": [
        "plt.figure(figsize=(13,9))\n",
        "sns.distplot(np.log1p(train_data[\"loss\"]))"
      ]
    },
    {
      "cell_type": "markdown",
      "metadata": {
        "_cell_guid": "ae52ca09-fe20-c8c5-f6a6-26d1e0e1ca8a"
      },
      "source": [
        "So we got normal distribution by applying logarithm on loss function"
      ]
    },
    {
      "cell_type": "markdown",
      "metadata": {
        "_cell_guid": "6a17673f-f7f5-2947-c0dc-43ce52af2d70"
      },
      "source": [
        "Bang. Finally we got normal distribution, so we can train model using target feature as log of loss. This way we don't have to remove outliers."
      ]
    },
    {
      "cell_type": "code",
      "execution_count": null,
      "metadata": {
        "_cell_guid": "2785093c-6c3f-6d63-e4f2-bc07bdf9b95d"
      },
      "outputs": [],
      "source": [
        "catCount = sum(str(x).isalpha() for x in train_data.iloc[1,:])\n",
        "print(\"Number of categories: \",catCount)"
      ]
    },
    {
      "cell_type": "markdown",
      "metadata": {
        "_cell_guid": "d12dc1de-3093-b8a9-879f-78d68247bcaf"
      },
      "source": [
        "There are 116 categories with non alphanumeric values, most of the machine learning algorithms doesn't work with alpha numeric values. So, lets convert it into numeric values"
      ]
    },
    {
      "cell_type": "code",
      "execution_count": null,
      "metadata": {
        "_cell_guid": "ac45ead8-f9e0-51e2-9238-327699b23091"
      },
      "outputs": [],
      "source": [
        "catFeatureslist = []\n",
        "for colName,x in train_data.iloc[1,:].iteritems():\n",
        "    if(str(x).isalpha()):\n",
        "        catFeatureslist.append(colName)"
      ]
    },
    {
      "cell_type": "markdown",
      "metadata": {
        "_cell_guid": "9d713b02-2bb2-85a2-144c-0b6fafe2f4ef"
      },
      "source": [
        "**Unique categorical values per each category**"
      ]
    },
    {
      "cell_type": "code",
      "execution_count": null,
      "metadata": {
        "_cell_guid": "432e747a-1dae-2c26-1d6b-bd03f18b9db5"
      },
      "outputs": [],
      "source": [
        "print(train_data[catFeatureslist].apply(pd.Series.nunique))"
      ]
    },
    {
      "cell_type": "markdown",
      "metadata": {
        "_cell_guid": "065fb5d8-ed36-c0ea-4817-11597433c492"
      },
      "source": [
        "### Convert categorical string values to numeric values"
      ]
    },
    {
      "cell_type": "code",
      "execution_count": null,
      "metadata": {
        "_cell_guid": "53d4f2c0-a841-dc6e-1daf-9252565e7660"
      },
      "outputs": [],
      "source": [
        "from sklearn.preprocessing import LabelEncoder"
      ]
    },
    {
      "cell_type": "code",
      "execution_count": null,
      "metadata": {
        "_cell_guid": "5f9ec6ba-f14d-09b0-fb31-4467ee45366f"
      },
      "outputs": [],
      "source": [
        "for cf1 in catFeatureslist:\n",
        "    le = LabelEncoder()\n",
        "    le.fit(train_data[cf1].unique())\n",
        "    train_data[cf1] = le.transform(train_data[cf1])"
      ]
    },
    {
      "cell_type": "code",
      "execution_count": null,
      "metadata": {
        "_cell_guid": "47c0474d-733e-5278-2e28-56383d0e2ef7"
      },
      "outputs": [],
      "source": [
        "train_data.head(5)"
      ]
    },
    {
      "cell_type": "code",
      "execution_count": null,
      "metadata": {
        "_cell_guid": "de28d33e-e064-2d00-d738-c0e63026bd65"
      },
      "outputs": [],
      "source": [
        "sum(train_data[catFeatureslist].apply(pd.Series.nunique) > 2)"
      ]
    },
    {
      "cell_type": "markdown",
      "metadata": {
        "_cell_guid": "71b9cf05-7dc0-773c-8dfd-39a0fe9d0c5e"
      },
      "source": [
        "### Analysis of categorical features with levels between 5-10"
      ]
    },
    {
      "cell_type": "code",
      "execution_count": null,
      "metadata": {
        "_cell_guid": "83cf7cb2-137a-9c2c-0f42-3e6266bb85c7"
      },
      "outputs": [],
      "source": [
        "filterG5_10 = list((train_data[catFeatureslist].apply(pd.Series.nunique) > 5) & \n",
        "                (train_data[catFeatureslist].apply(pd.Series.nunique) < 10))"
      ]
    },
    {
      "cell_type": "code",
      "execution_count": null,
      "metadata": {
        "_cell_guid": "5168c464-c5e1-3169-6898-f5fa091bb81e"
      },
      "outputs": [],
      "source": [
        "catFeaturesG5_10List = [i for (i, v) in zip(catFeatureslist, filterG5_10) if v]"
      ]
    },
    {
      "cell_type": "code",
      "execution_count": null,
      "metadata": {
        "_cell_guid": "e6fc4035-8d77-d636-e8ed-53960ac77bd5"
      },
      "outputs": [],
      "source": [
        "len(catFeaturesG5_10List)"
      ]
    },
    {
      "cell_type": "code",
      "execution_count": null,
      "metadata": {
        "_cell_guid": "b2c3bd71-b4ec-819b-3c3b-7a80a4c555fd"
      },
      "outputs": [],
      "source": [
        "ncol = 2\n",
        "nrow = 4\n",
        "try:\n",
        "    for rowIndex in range(nrow):\n",
        "        f,axList = plt.subplots(nrows=1,ncols=ncol,sharey=True,figsize=(13, 9))\n",
        "        features = catFeaturesG5_10List[rowIndex*ncol:ncol*(rowIndex+1)]\n",
        "        \n",
        "        for axIndex in range(len(axList)):\n",
        "            sns.boxplot(x=features[axIndex], y=\"loss\", data=train_data, ax=axList[axIndex])\n",
        "                        \n",
        "            # With original scale it is hard to visualize because of outliers\n",
        "            axList[axIndex].set(yscale=\"log\")\n",
        "            axList[axIndex].set(xlabel=features[axIndex], ylabel='log loss')\n",
        "except IndexError:\n",
        "    print(\"\")"
      ]
    },
    {
      "cell_type": "markdown",
      "metadata": {
        "_cell_guid": "6373f6bc-9d55-f9bc-00a0-243b4a44e1eb"
      },
      "source": [
        "### Correlation between categorical variables"
      ]
    },
    {
      "cell_type": "code",
      "execution_count": null,
      "metadata": {
        "_cell_guid": "d86c4226-c92f-0d6c-5d68-ed4513e0301f"
      },
      "outputs": [],
      "source": [
        "filterG2 = list((train_data[catFeatureslist].apply(pd.Series.nunique) == 2))\n",
        "catFeaturesG2List = [i for (i, v) in zip(catFeatureslist, filterG2) if v]\n",
        "catFeaturesG2List.append(\"loss\")"
      ]
    },
    {
      "cell_type": "code",
      "execution_count": null,
      "metadata": {
        "_cell_guid": "f17de142-8a90-d904-f988-cba2c4515d76"
      },
      "outputs": [],
      "source": [
        "corrCatMatrix = train_data[catFeaturesG2List].corr().abs()\n",
        "\n",
        "s = corrCatMatrix.unstack()\n",
        "sortedSeries= s.order(kind=\"quicksort\",ascending=False)\n",
        "\n",
        "print(\"Top 5 most correlated categorical feature pairs: \\n\")\n",
        "print(sortedSeries[sortedSeries != 1.0][0:9])"
      ]
    },
    {
      "cell_type": "markdown",
      "metadata": {
        "_cell_guid": "ade5a6b5-e65d-2722-3511-b1d9150df5f5"
      },
      "source": [
        "Note: We should do chi-square test on categorical features to find independence. I have done pearson correlation which is measure to find association between features"
      ]
    },
    {
      "cell_type": "markdown",
      "metadata": {
        "_cell_guid": "fb61b022-0c9d-c1a1-7ba3-da56cd5a749f"
      },
      "source": [
        "*Thank you. I hope this will be useful for you. Please share your comments/feedback*"
      ]
    },
    {
      "cell_type": "markdown",
      "metadata": {
        "_cell_guid": "84b9f23a-22e4-286c-d23e-6e5572353aac"
      },
      "source": [
        "More EDA analysis for this competition: (Thanks for the motivation)  \n",
        "https://www.kaggle.com/nminus1/allstate-claims-severity/allstate-eda-python  \n",
        "https://www.kaggle.com/dmi3kno/allstate-claims-severity/allstate-eda  "
      ]
    }
  ],
  "metadata": {
    "_change_revision": 0,
    "_is_fork": false,
    "kernelspec": {
      "display_name": "Python 3",
      "language": "python",
      "name": "python3"
    },
    "language_info": {
      "codemirror_mode": {
        "name": "ipython",
        "version": 3
      },
      "file_extension": ".py",
      "mimetype": "text/x-python",
      "name": "python",
      "nbconvert_exporter": "python",
      "pygments_lexer": "ipython3",
      "version": "3.5.2"
    }
  },
  "nbformat": 4,
  "nbformat_minor": 0
}