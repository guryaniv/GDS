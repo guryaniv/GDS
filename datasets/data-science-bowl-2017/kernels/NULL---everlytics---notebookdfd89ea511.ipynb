{
  "metadata": {
    "kernelspec": {
      "display_name": "Python 3",
      "language": "python",
      "name": "python3"
    },
    "language_info": {
      "codemirror_mode": {
        "name": "ipython",
        "version": 3
      },
      "file_extension": ".py",
      "mimetype": "text/x-python",
      "name": "python",
      "nbconvert_exporter": "python",
      "pygments_lexer": "ipython3",
      "version": "3.6.0"
    }
  },
  "nbformat": 4,
  "nbformat_minor": 0,
  "cells": [
    {
      "metadata": {
        "_cell_guid": "f1fbbe21-da09-d192-8654-c2ed4f20f6d3",
        "_active": false,
        "collapsed": false
      },
      "source": "data_dir = '../input/sample_images/'\npatients = os.listdir(data_dir)",
      "execution_count": null,
      "cell_type": "markdown",
      "outputs": [],
      "execution_state": "idle"
    },
    {
      "metadata": {
        "_cell_guid": "8b59987b-f592-fb3f-af39-8db1ff971dd2",
        "_active": false,
        "collapsed": false
      },
      "source": "import os\nimport pandas as pd\ndata_dir = '../input/sample_images/'\npatients = os.listdir(data_dir)\nlabels_df = pd.read_csv('../input/stage1_labels.csv', index_col=0)\nlabels_df\npatients=pd.DataFrame(patients)\npatients.columns=['id']\n\nlabels_df=labels_df.reset_index()\n\ndf = pd.merge(patients, labels_df, left_on='id',right_on='id',how='left')\nmy_tab = pd.crosstab(index=df['cancer'],  # Make a crosstab\n                              columns='count') \nmy_tab\n",
      "execution_count": null,
      "cell_type": "code",
      "outputs": [],
      "execution_state": "idle"
    },
    {
      "metadata": {
        "_cell_guid": "16ea4b95-89a2-018f-05fb-2eb88d803ba0",
        "_active": false,
        "collapsed": false
      },
      "source": "patients = os.listdir(data_dir)",
      "execution_count": null,
      "cell_type": "code",
      "outputs": [],
      "execution_state": "idle"
    },
    {
      "metadata": {
        "_cell_guid": "6a1cec0c-5da4-df65-4124-cf3c2c8288a0",
        "_active": true,
        "collapsed": false
      },
      "source": "import matplotlib.pyplot as plt\nimport dicom\npatients = os.listdir(data_dir)\nlabels_df = pd.read_csv('../input/stage1_labels.csv', index_col=0)\nfor patient in patients[:1]:\n    label = labels_df.get_value(patient, 'cancer')\n    \n    path = data_dir + patient\n    print (patient,label,path)\n    slices = [dicom.read_file(path + '/' + s) for s in os.listdir(path)]\n    slices.sort(key = lambda x: int(x.ImagePositionPatient[2]))\n    \n    #          the first slice\n    #for i in range(len(slices)):\n      #  plt.imshow(slices[i].pixel_array)\n       # plt.show()\n    \n        \n    ",
      "execution_count": null,
      "cell_type": "code",
      "outputs": [],
      "execution_state": "idle"
    },
    {
      "metadata": {
        "_cell_guid": "29c4b189-6d9a-6567-6ae6-e340cb869d25",
        "_active": false,
        "collapsed": false
      },
      "source": null,
      "execution_count": null,
      "cell_type": "code",
      "outputs": [],
      "execution_state": "idle"
    }
  ]
}