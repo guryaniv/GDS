{
  "cells": [
    {
      "cell_type": "code",
      "execution_count": null,
      "metadata": {
        "_cell_guid": "92aac7cd-ac09-c2bb-d2af-c3a60e5a23c9"
      },
      "outputs": [],
      "source": [
        "# This Python 3 environment comes with many helpful analytics libraries installed\n",
        "# It is defined by the kaggle/python docker image: https://github.com/kaggle/docker-python\n",
        "# For example, here's several helpful packages to load in \n",
        "\n",
        "import numpy as np # linear algebra\n",
        "import pandas as pd # data processing, CSV file I/O (e.g. pd.read_csv)\n",
        "\n",
        "# Input data files are available in the \"../input/\" directory.\n",
        "# For example, running this (by clicking run or pressing Shift+Enter) will list the files in the input directory\n",
        "\n",
        "from subprocess import check_output\n",
        "print(check_output([\"ls\", \"../input\"]).decode(\"utf8\"))\n",
        "\n",
        "# Any results you write to the current directory are saved as output."
      ]
    },
    {
      "cell_type": "code",
      "execution_count": null,
      "metadata": {
        "_cell_guid": "f0b7c1a0-f382-1df0-ec1e-d3fdac21d923"
      },
      "outputs": [],
      "source": [
        "import numpy as np\n",
        "np.random.seed(2016)\n",
        "\n",
        "import os\n",
        "import glob\n",
        "import cv2\n",
        "import datetime\n",
        "import pandas as pd\n",
        "import time\n",
        "import warnings\n",
        "warnings.filterwarnings(\"ignore\")\n",
        "\n",
        "from sklearn.cross_validation import KFold\n",
        "from keras.models import Sequential\n",
        "from keras.layers.core import Dense, Dropout, Flatten\n",
        "from keras.layers.convolutional import Convolution2D, MaxPooling2D, ZeroPadding2D\n",
        "from keras.optimizers import SGD\n",
        "from keras.callbacks import EarlyStopping\n",
        "\n",
        "from sklearn.metrics import log_loss\n",
        "from keras import __version__ as keras_version\n",
        "%matplotlib inline\n",
        "from __future__ import division,print_function\n",
        "import os, json\n",
        "from glob import glob\n",
        "import numpy as np\n",
        "import scipy\n",
        "from sklearn.preprocessing import OneHotEncoder\n",
        "from sklearn.metrics import confusion_matrix\n",
        "np.set_printoptions(precision=4, linewidth=100)\n",
        "from matplotlib import pyplot as plt\n",
        "\n",
        "\n",
        "from numpy.random import random, permutation\n",
        "from scipy import misc, ndimage\n",
        "from scipy.ndimage.interpolation import zoom\n",
        "\n",
        "import keras\n",
        "from keras import backend as K\n",
        "\n",
        "from keras.models import Sequential\n",
        "from keras.layers import Input\n",
        "from keras.layers.core import Flatten, Dense, Dropout, Lambda\n",
        "from keras.layers.convolutional import Convolution2D, MaxPooling2D, ZeroPadding2D\n",
        "from keras.optimizers import SGD, RMSprop\n",
        "from keras.preprocessing import image"
      ]
    },
    {
      "cell_type": "code",
      "execution_count": null,
      "metadata": {
        "_cell_guid": "d6d8f28b-0e3b-348e-84b5-830def7371ac"
      },
      "outputs": [],
      "source": [
        "X_train = []\n",
        "X_train_id = []\n",
        "y_train = []\n",
        "tart_time = time.time()\n",
        "print('Read train images')\n",
        "folders = ['Type_1', 'Type_2', 'Type_3']\n",
        "for fld in folders:\n",
        "    index = folders.index(fld)\n",
        "    print (index)\n",
        "    print('Load folder {} (Index: {})'.format(fld, index))\n",
        "    path = os.path.join('..', 'input', 'train', fld, '*.jpg')\n",
        "    files = glob(path)\n",
        "    for o,fl in enumerate(files):\n",
        "        flbase = os.path.basename(fl)\n",
        "        img = cv2.imread(fl)\n",
        "        #print (type(img))\n",
        "        img = cv2.resize(img, (32,32))\n",
        "        X_train.append(img)\n",
        "        X_train_id.append(flbase)\n",
        "        y_train.append(index)"
      ]
    },
    {
      "cell_type": "code",
      "execution_count": null,
      "metadata": {
        "_cell_guid": "9282cdee-5d4b-c413-9ce3-8921e7b0a1e4"
      },
      "outputs": [],
      "source": [
        "print (len(y_train),len(X_train)),len(X_train_id)"
      ]
    },
    {
      "cell_type": "code",
      "execution_count": null,
      "metadata": {
        "_cell_guid": "53de1235-3ea6-f348-57fa-3944da22ee35"
      },
      "outputs": [],
      "source": ""
    },
    {
      "cell_type": "code",
      "execution_count": null,
      "metadata": {
        "_cell_guid": "6d464e3a-646b-f688-f197-41624af12abb"
      },
      "outputs": [],
      "source": ""
    },
    {
      "cell_type": "code",
      "execution_count": null,
      "metadata": {
        "_cell_guid": "4e065cd8-fc0b-c4a6-987f-055de5fde260"
      },
      "outputs": [],
      "source": [
        "path = os.path.join('..', 'input', 'test', '*.jpg')\n",
        "files = sorted(glob(path))\n",
        "X_test = []\n",
        "X_test_id = []\n",
        "for fl in files:\n",
        "    flbase = os.path.basename(fl)\n",
        "    img = cv2.imread(fl)\n",
        "    #print (type(img))\n",
        "    img = cv2.resize(img, (32,32))\n",
        "    X_test.append(img)\n",
        "    X_test_id.append(flbase)"
      ]
    },
    {
      "cell_type": "code",
      "execution_count": null,
      "metadata": {
        "_cell_guid": "a7d68cde-af51-8618-7cbe-57fbfd6b94ae"
      },
      "outputs": [],
      "source": [
        "def create_model():\n",
        "    model = Sequential()\n",
        "    model.add(ZeroPadding2D((1, 1), input_shape=(3, 32, 32), dim_ordering='th'))\n",
        "    model.add(Convolution2D(4, 3, 3, activation='relu', dim_ordering='th'))\n",
        "    model.add(ZeroPadding2D((1, 1), dim_ordering='th'))\n",
        "    model.add(Convolution2D(4, 3, 3, activation='relu', dim_ordering='th'))\n",
        "    model.add(MaxPooling2D(pool_size=(2, 2), strides=(2, 2), dim_ordering='th'))\n",
        "    model.add(ZeroPadding2D((1, 1), dim_ordering='th'))\n",
        "    model.add(Convolution2D(8, 3, 3, activation='relu', dim_ordering='th'))\n",
        "    model.add(ZeroPadding2D((1, 1), dim_ordering='th'))\n",
        "    model.add(Convolution2D(8, 3, 3, activation='relu', dim_ordering='th'))\n",
        "    model.add(MaxPooling2D(pool_size=(2, 2), strides=(2, 2), dim_ordering='th'))\n",
        "    model.add(Flatten())\n",
        "    model.add(Dense(32, activation='relu'))\n",
        "    model.add(Dropout(0.5))\n",
        "    model.add(Dense(32, activation='relu'))\n",
        "    model.add(Dropout(0.5))\n",
        "    model.add(Dense(3, activation='softmax'))\n",
        "    \n",
        "    return model"
      ]
    },
    {
      "cell_type": "code",
      "execution_count": null,
      "metadata": {
        "_cell_guid": "b2c90f39-ffe5-90c1-f5de-3a182f5c4d1a"
      },
      "outputs": [],
      "source": [
        "\"\"\"\n",
        "def create_model():\n",
        "    model = Sequential()\n",
        "    \n",
        "    model.add(ZeroPadding2D((1, 1), input_shape=( 3, 32, 32), dim_ordering='th'))\n",
        "    \n",
        "    model.add(Convolution2D( 128, 3, 3, activation = 'relu', dim_ordering='th') )\n",
        "    \n",
        "    model.add(ZeroPadding2D((1, 1),  dim_ordering='th'))\n",
        "    model.add(MaxPooling2D(pool_size=(2, 2), strides=(2, 2), dim_ordering='th'))\n",
        "                           \n",
        "    model.add(ZeroPadding2D((1, 1), dim_ordering='th'))\n",
        "    model.add(Convolution2D( 64, 3, 3, activation = 'relu', dim_ordering='th') )\n",
        "    model.add(MaxPooling2D(pool_size=(2, 2), strides=(2, 2), dim_ordering='th'))\n",
        "    \n",
        "    model.add(ZeroPadding2D((1, 1), dim_ordering='th'))\n",
        "    model.add(Convolution2D( 128, 3, 3, activation = 'relu', dim_ordering='th') )\n",
        "  \n",
        "    \n",
        "    \n",
        "    model.add(Flatten())\n",
        "    \n",
        "    model.add(Dense(32, activation='relu'))\n",
        "   \n",
        "    model.add(Dropout(0.5))\n",
        "    model.add(BatchNormalization())\n",
        "    model.add(Dense(32, activation='relu'))\n",
        "    model.add(Dropout(0.5))\n",
        "    model.add(BatchNormalization())\n",
        "    model.add(Dense(3, activation='softmax'))\n",
        "              \n",
        "    return model\n",
        "    \n",
        "    \"\"\""
      ]
    },
    {
      "cell_type": "code",
      "execution_count": null,
      "metadata": {
        "_cell_guid": "3a4f76fd-decd-6b2b-c16f-22ea7a42a474"
      },
      "outputs": [],
      "source": ""
    },
    {
      "cell_type": "code",
      "execution_count": null,
      "metadata": {
        "_cell_guid": "31e54e9a-eab1-1b72-c62a-d945866d49bf"
      },
      "outputs": [],
      "source": [
        "from keras.layers.normalization import BatchNormalization\n",
        "model = create_model()"
      ]
    },
    {
      "cell_type": "code",
      "execution_count": null,
      "metadata": {
        "_cell_guid": "88bfe384-579c-62b1-2382-ee871df31e39"
      },
      "outputs": [],
      "source": [
        "len(y_train)"
      ]
    },
    {
      "cell_type": "code",
      "execution_count": null,
      "metadata": {
        "_cell_guid": "45c328a0-4bed-e177-f174-9e1e0bcd5767"
      },
      "outputs": [],
      "source": [
        "from keras.utils.np_utils import to_categorical\n",
        "def onehot(x):\n",
        "    return to_categorical(x,3)\n",
        "\n",
        "batch_size = 64\n",
        "X_train = np.array(X_train).transpose((0, 3, 1, 2))\n",
        "X_train = X_train / 255.0\n",
        "from sklearn.cross_validation import train_test_split\n",
        "X_train1, X_valid, Y_train, Y_valid = train_test_split(X_train, y_train, test_size=0.2, random_state=42)\n",
        "\n",
        "\n",
        "Y_train = onehot(Y_train)\n",
        "Y_valid = onehot(Y_valid)\n",
        "nb_epoch = 10\n",
        "#opt = SGD(lr=0.01, decay=1e-6, momentum=0.9, nesterov=True)\n",
        "#model.compile(optimizer=opt, loss='categorical_crossentropy', metrics=['accuracy'])\n"
      ]
    },
    {
      "cell_type": "code",
      "execution_count": null,
      "metadata": {
        "_cell_guid": "0cbbae15-f9b9-b1d9-1011-6ee8cc092207"
      },
      "outputs": [],
      "source": [
        "sgd = SGD(lr=0.01)\n",
        "model.compile(optimizer=sgd, loss='categorical_crossentropy',\n",
        "    metrics=['accuracy'])\n",
        "model.fit(X_train1, Y_train, batch_size=batch_size, nb_epoch=16,\n",
        "              shuffle=True, verbose=2, validation_data=(X_valid, Y_valid))"
      ]
    },
    {
      "cell_type": "code",
      "execution_count": null,
      "metadata": {
        "_cell_guid": "12240a34-2a05-408b-c7d1-ac2d285e9b25"
      },
      "outputs": [],
      "source": [
        "X_test = np.array(X_test).transpose((0, 3, 1, 2))\n",
        "X_test = X_test / 255.0\n",
        "prediction = model.predict(X_test)\n",
        "k=pd.DataFrame({'image_name':X_test_id,'Type_1':prediction[:,0],'Type_2':prediction[:,1],'Type_3':prediction[:,2]})\n"
      ]
    },
    {
      "cell_type": "code",
      "execution_count": null,
      "metadata": {
        "_cell_guid": "8db79328-c6cb-a3c4-2803-114ac57f71c5"
      },
      "outputs": [],
      "source": [
        "k=pd.DataFrame({'image_name':X_test_id,'Type_1':prediction[:,0],'Type_2':prediction[:,1],'Type_3':prediction[:,2]})"
      ]
    },
    {
      "cell_type": "code",
      "execution_count": null,
      "metadata": {
        "_cell_guid": "7759eac4-8fc3-3c4f-b454-17d965dedc45"
      },
      "outputs": [],
      "source": [
        "k"
      ]
    },
    {
      "cell_type": "code",
      "execution_count": null,
      "metadata": {
        "_cell_guid": "c5dd43a0-ac78-9c59-e095-4dbf9c27552e"
      },
      "outputs": [],
      "source": [
        "k.to_csv('sub1.csv',index = False)"
      ]
    },
    {
      "cell_type": "code",
      "execution_count": null,
      "metadata": {
        "_cell_guid": "16aee521-d877-7cc4-3990-8036f6fa234d"
      },
      "outputs": [],
      "source": [
        "from IPython.display import FileLink\n",
        "FileLink('sub1.csv')"
      ]
    },
    {
      "cell_type": "code",
      "execution_count": null,
      "metadata": {
        "_cell_guid": "776c76c4-7963-6ad0-c3e3-dd242056f74c"
      },
      "outputs": [],
      "source": ""
    }
  ],
  "metadata": {
    "_change_revision": 0,
    "_is_fork": false,
    "kernelspec": {
      "display_name": "Python 3",
      "language": "python",
      "name": "python3"
    },
    "language_info": {
      "codemirror_mode": {
        "name": "ipython",
        "version": 3
      },
      "file_extension": ".py",
      "mimetype": "text/x-python",
      "name": "python",
      "nbconvert_exporter": "python",
      "pygments_lexer": "ipython3",
      "version": "3.6.0"
    }
  },
  "nbformat": 4,
  "nbformat_minor": 0
}