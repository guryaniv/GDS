{
  "metadata": {
    "kernelspec": {
      "display_name": "Python 3",
      "language": "python",
      "name": "python3"
    },
    "language_info": {
      "codemirror_mode": {
        "name": "ipython",
        "version": 3
      },
      "file_extension": ".py",
      "mimetype": "text/x-python",
      "name": "python",
      "nbconvert_exporter": "python",
      "pygments_lexer": "ipython3",
      "version": "3.6.0"
    }
  },
  "nbformat": 4,
  "nbformat_minor": 0,
  "cells": [
    {
      "metadata": {
        "_cell_guid": "85830f47-7a9d-2aa4-c917-4385d191e439",
        "_active": false,
        "collapsed": false
      },
      "source": "# This Python 3 environment comes with many helpful analytics libraries installed\n# It is defined by the kaggle/python docker image: https://github.com/kaggle/docker-python\n# For example, here's several helpful packages to load in \n\nimport numpy as np # linear algebra\nimport pandas as pd # data processing, CSV file I/O (e.g. pd.read_csv)\n\n# Input data files are available in the \"../input/\" directory.\n# For example, running this (by clicking run or pressing Shift+Enter) will list the files in the input directory\n\nfrom subprocess import check_output\nprint(check_output([\"ls\", \"../input\"]).decode(\"utf8\"))\n\n# Any results you write to the current directory are saved as output.",
      "execution_count": null,
      "cell_type": "code",
      "outputs": [],
      "execution_state": "idle"
    },
    {
      "metadata": {
        "_cell_guid": "9853299b-5d3c-e718-0f40-1f270e3c9f20",
        "_active": false,
        "collapsed": false
      },
      "source": "import dicom # for reading dicom files\nimport os # for doing directory operations \n # for some simple data analysis (right now, just to load in the labels data and quickly reference it)\n\n# Change this to wherever you are storing your data:\n# IF YOU ARE FOLLOWING ON KAGGLE, YOU CAN ONLY PLAY WITH THE SAMPLE DATA, WHICH IS MUCH SMALLER\n\ndata_dir = '../input/sample_images/'\npatients = os.listdir(data_dir)\nlabels_df = pd.read_csv('../input/stage1_labels.csv', index_col=0)\n\nlabels_df.head()\n\n ",
      "execution_count": null,
      "cell_type": "code",
      "outputs": [],
      "execution_state": "idle"
    },
    {
      "metadata": {
        "_cell_guid": "58208ea4-5565-1d9c-0f3d-7046fdb9c4d2",
        "_active": false,
        "collapsed": false
      },
      "source": "patients",
      "execution_count": null,
      "cell_type": "code",
      "outputs": [],
      "execution_state": "idle"
    },
    {
      "metadata": {
        "_cell_guid": "b332994e-e79e-79e3-5670-72c3460b2222",
        "_active": false,
        "collapsed": false
      },
      "source": "for patient in patients[:1]:\n    label = labels_df.get_value(patient, 'cancer')\n    path = data_dir + patient\n    \n    # a couple great 1-liners from: https://www.kaggle.com/gzuidhof/data-science-bowl-2017/full-preprocessing-tutorial\n    slices = [dicom.read_file(path + '/' + s) for s in os.listdir(path)]\n    slices.sort(key = lambda x: int(x.ImagePositionPatient[2]))\n    print(len(slices),label)\n    print(slices[0])",
      "execution_count": null,
      "cell_type": "code",
      "outputs": [],
      "execution_state": "idle"
    },
    {
      "metadata": {
        "_cell_guid": "9059e505-b5f6-b623-8539-b2e962bf7396",
        "_active": false,
        "collapsed": false
      },
      "source": "for patient in patients[:3]:\n    label = labels_df.get_value(patient, 'cancer')\n    path = data_dir + patient\n    \n    # a couple great 1-liners from: https://www.kaggle.com/gzuidhof/data-science-bowl-2017/full-preprocessing-tutorial\n    slices = [dicom.read_file(path + '/' + s) for s in os.listdir(path)]\n    slices.sort(key = lambda x: int(x.ImagePositionPatient[2]))\n    print(slices[0].pixel_array.shape, len(slices))",
      "execution_count": null,
      "cell_type": "code",
      "outputs": [],
      "execution_state": "idle"
    },
    {
      "metadata": {
        "_cell_guid": "455f9c2c-b282-934e-5ca3-dc24a8f18512",
        "_active": false,
        "collapsed": false
      },
      "source": "import matplotlib.pyplot as plt\n\nfor patient in patients[:1]:\n    if patient in labels_df.index:\n        label = labels_df.get_value(patient, 'cancer')\n        path = data_dir + patient\n        slices = [dicom.read_file(path + '/' + s) for s in os.listdir(path)]\n        slices.sort(key = lambda x: int(x.ImagePositionPatient[2]))\n    \n        #          the first slice\n        plt.imshow(slices[80].pixel_array)\n        plt.show()\n        print (label)\n    ",
      "execution_count": null,
      "cell_type": "code",
      "outputs": [],
      "execution_state": "idle"
    },
    {
      "metadata": {
        "_cell_guid": "87232dcc-288e-b037-aa3b-7bff5e0b35f3",
        "_active": true,
        "collapsed": false
      },
      "source": null,
      "execution_count": null,
      "cell_type": "code",
      "outputs": [],
      "execution_state": "idle"
    }
  ]
}