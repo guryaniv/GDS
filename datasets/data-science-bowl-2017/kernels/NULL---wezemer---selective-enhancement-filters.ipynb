{
  "cells": [
    {
      "cell_type": "markdown",
      "metadata": {
        "_cell_guid": "7e1db635-a16e-0b7c-25ac-b4889291269f"
      },
      "source": ""
    },
    {
      "cell_type": "code",
      "execution_count": null,
      "metadata": {
        "_cell_guid": "1eb79404-03d9-0a64-7f0e-8c325fdc8502",
        "collapsed": true
      },
      "outputs": [],
      "source": ""
    },
    {
      "cell_type": "markdown",
      "metadata": {
        "_cell_guid": "4e4146ee-c43c-8f4b-f35e-c75852599682"
      },
      "source": ""
    },
    {
      "cell_type": "code",
      "execution_count": null,
      "metadata": {
        "_cell_guid": "6e071b90-e64b-ddf0-7287-ec654c843afd",
        "collapsed": true
      },
      "outputs": [],
      "source": ""
    },
    {
      "cell_type": "code",
      "execution_count": null,
      "metadata": {
        "_cell_guid": "58e9fdfe-180c-4bc3-7ac4-e35daa50c07e",
        "collapsed": true
      },
      "outputs": [],
      "source": ""
    },
    {
      "cell_type": "code",
      "execution_count": null,
      "metadata": {
        "_cell_guid": "38562a8a-88e8-43c3-e6a0-b6970bcb4e21",
        "collapsed": true
      },
      "outputs": [],
      "source": ""
    },
    {
      "cell_type": "code",
      "execution_count": null,
      "metadata": {
        "_cell_guid": "549cf449-9bb4-4d30-49c1-5906c45fe3de",
        "collapsed": true
      },
      "outputs": [],
      "source": ""
    },
    {
      "cell_type": "code",
      "execution_count": null,
      "metadata": {
        "_cell_guid": "ec9babf4-c2ae-7547-c629-7d04b0dd8ceb",
        "collapsed": true
      },
      "outputs": [],
      "source": ""
    },
    {
      "cell_type": "code",
      "execution_count": null,
      "metadata": {
        "_cell_guid": "4a750ee4-f9b1-0cfc-7d82-103716e40857",
        "collapsed": true
      },
      "outputs": [],
      "source": ""
    },
    {
      "cell_type": "code",
      "execution_count": null,
      "metadata": {
        "_cell_guid": "1218e40b-d06d-0a1c-1181-a93690d751ad"
      },
      "outputs": [],
      "source": [
        "# Constants presented in papers\n",
        "SPACING = array([1., 1., 1.])\n",
        "ISOLATED_THRESHOLD = -600\n",
        "DOT_ENHANCED_THRESHOLD = 6\n",
        "FILTERS_AMOUNT = 6\n",
        "ISOLATED_MIN_VOLUME = 9\n",
        "ISOLATED_MAX_VOLUME = 500\n",
        "JUXTAVASCULAR_MIN_VOLUME = 9\n",
        "JUXTAPLEURAL_MIN_VALUME = 1"
      ]
    },
    {
      "cell_type": "markdown",
      "metadata": {
        "_cell_guid": "bc433563-8b86-8f9e-67a3-cdce8bdf2532"
      },
      "source": ""
    },
    {
      "cell_type": "code",
      "execution_count": null,
      "metadata": {
        "_cell_guid": "38991017-3437-1925-425d-c296d8689850"
      },
      "outputs": [],
      "source": [
        "MIN_RADIUS = 4\n",
        "MAX_RADIUS = 16\n",
        "\n",
        "def get_scales(bottom=MIN_RADIUS, top=MAX_RADIUS, \n",
        "               amount=FILTERS_AMOUNT):\n",
        "    radius = (top / bottom) ** (1. / (amount - 1))\n",
        "    sigmas = [bottom / 4.]\n",
        "    for i in range(amount - 1):\n",
        "        sigmas.append(sigmas[0] * (radius ** i + 1))\n",
        "    return sigmas"
      ]
    },
    {
      "cell_type": "markdown",
      "metadata": {
        "_cell_guid": "0d5b94f3-6215-2e62-1d8b-9d3f3e0faa31"
      },
      "source": [
        "Enhanced filters based on hessian propreties"
      ]
    },
    {
      "cell_type": "code",
      "execution_count": null,
      "metadata": {
        "_cell_guid": "1456bc11-bae6-a753-3e66-c89b5d9b636f"
      },
      "outputs": [],
      "source": [
        "def hessian(field, coords):\n",
        "    grad = gradient(field)\n",
        "    axis = [[0, 1, 2], [1, 2], [2]]\n",
        "    hess = [gradient(deriv, axis=j) \n",
        "            for i, deriv in enumerate(grad) \n",
        "            for j in axis[i]]\n",
        "\n",
        "#   [(0, xx), (1, xy), (2, xz), (3, yy), (4, yz), (5, zz)]\n",
        "#   x, y, z -> 3, 3, x, y, z -> 3, 3, N\n",
        "\n",
        "    for j in range(len(hess)):\n",
        "        hess[j] = hess[j][coords]\n",
        "\n",
        "    return asarray([[hess[0], hess[1], hess[2]],\n",
        "                    [hess[1], hess[3], hess[4]],\n",
        "                    [hess[2], hess[4], hess[5]]])"
      ]
    },
    {
      "cell_type": "code",
      "execution_count": null,
      "metadata": {
        "_cell_guid": "8c833d84-7686-2478-2c86-6c9e5e261e67"
      },
      "outputs": [],
      "source": [
        "def enhanced_filter(patient, coords, sigma):\n",
        "    filtered = gaussian_filter(patient, sigma=sigma)\n",
        "    hess = hessian(filtered, coords=coords)\n",
        "    hess = [hess[:, :, i] for i in range(hess.shape[-1])]\n",
        "    with Pool(CPU) as pool:\n",
        "        eigs = pool.map(linalg.eigvalsh, \n",
        "                        hess)\n",
        "\n",
        "    sigma_sqr = sigma ** 2\n",
        "    z_dot = [sigma_sqr * (eig_val[2] ** 2) / abs(eig_val[0]) \n",
        "             if eig_val[0] < 0 \n",
        "             and eig_val[1] < 0 \n",
        "             and eig_val[2] < 0 \n",
        "             else 0\n",
        "             for eig_val in eigs]\n",
        "\n",
        "    z_line = [sigma_sqr * abs(eig_val[1]) \n",
        "              * (abs(eig_val[1]) - abs(eig_val[2])) \n",
        "              / abs(eig_val[0]) \n",
        "              if eig_val[0] < 0 \n",
        "              and eig_val[1] < 0 \n",
        "              else 0\n",
        "              for eig_val in eigs]\n",
        "    return z_dot, z_line"
      ]
    },
    {
      "cell_type": "code",
      "execution_count": null,
      "metadata": {
        "_cell_guid": "7cc225f4-a5c4-8ae2-5c10-701eca4011ec"
      },
      "outputs": [],
      "source": [
        "def apply_enhs_filters(patient, mask, include_plane=False):\n",
        "    sigmas = get_scales()\n",
        "    enh_dot = zeros(mask.shape)\n",
        "    enh_line = zeros(mask.shape)\n",
        "    coords = where(mask)\n",
        "    \n",
        "    z_dot = list()\n",
        "    z_line = list()\n",
        "    for sigma in sigmas:\n",
        "        dot, line = enhanced_filter(patient, coords, sigma)\n",
        "        z_dot.append(dot)\n",
        "        z_line.append(line)\n",
        "\n",
        "\n",
        "    enh_dot[coords] = asarray(z_dot).max(axis=0)\n",
        "    enh_line[coords] = asarray(z_line).max(axis=0)\n",
        "\n",
        "    return enh_dot, enh_line"
      ]
    },
    {
      "cell_type": "markdown",
      "metadata": {
        "_cell_guid": "30a9e582-4c82-87a3-6bc0-cbfed836011f"
      },
      "source": ""
    },
    {
      "cell_type": "code",
      "execution_count": null,
      "metadata": {
        "_cell_guid": "1a4493d7-5e24-f6cf-b80b-04fc3929c413"
      },
      "outputs": [],
      "source": [
        "def div_of_norm_grad(sigma, patient):\n",
        "    grad = asarray(gradient(patient))\n",
        "    grad /= norm(grad, axis=0) + 1e-3 # Smooth const\n",
        "    grad = [gaussian_filter(deriv, sigma=sigma) for deriv in grad]\n",
        "    return sum([gradient(el, axis=i) \n",
        "                for i, el in enumerate(grad)], axis=0)"
      ]
    },
    {
      "cell_type": "code",
      "execution_count": null,
      "metadata": {
        "_cell_guid": "3e9330be-46cf-f30b-e72a-7a4ed3ae4499"
      },
      "outputs": [],
      "source": [
        "def maxima_divergence(masks_pats):\n",
        "    with Pool(CPU) as pool:\n",
        "        divs = pool.map(\n",
        "            functools.partial(divergence, \n",
        "                              patient=pat), \n",
        "            sigmas\n",
        "        )\n",
        "        divs = -1 * asarray(divs) * mask \n",
        "        divs = divs.max(axis=0)\n",
        "        divs_list.append(divs.copy())\n",
        "    return divs_list"
      ]
    },
    {
      "cell_type": "markdown",
      "metadata": {
        "_cell_guid": "91cc8e74-6655-a998-503c-f07c8dc0aec9"
      },
      "source": ""
    },
    {
      "cell_type": "code",
      "execution_count": null,
      "metadata": {
        "_cell_guid": "c5f705aa-4d8b-beb6-f272-c5b7c4355ce1"
      },
      "outputs": [],
      "source": [
        "def is_in(colour, labe, dng_colours):\n",
        "    if colour in dng_colours:\n",
        "        return labe == colour\n",
        "\n",
        "\n",
        "def get_pure_isol(patient, mask, enh_dot):\n",
        "    isolated = (patient > -600) * (mask > 0) * (enh_dot < 6) \n",
        "    labe, iso_nodules_num = label(isolated)\n",
        "    volumes = bincount(labe.flatten())\n",
        "    colours = where((volumes > ISOLATED_MIN_VOLUME) \n",
        "                & (volumes < ISOLATED_MAX_VOLUME))[0]\n",
        "    \n",
        "    isolated = zeros(isolated.shape).astype(bool)\n",
        "    for colour in colours:\n",
        "        isolated |= labe == colour\n",
        "        \n",
        "    return isolated, iso_nodules_num\n",
        "\n",
        "\n",
        "def get_pure_j_va(patient, mask, enh_line, iso):\n",
        "    juxtavascular = (patient > -600) * (mask > 0) * (enh_line > 150)\n",
        "    j_va_candidates = (1 - juxtavascular) * (1 - iso)\n",
        "    labe, j_va_nodules_num = label(j_va_candidates)\n",
        "\n",
        "    volumes = bincount(labe.flatten())\n",
        "    colours = where((volumes > JUXTAVASCULAR_MIN_VOLUME) \n",
        "                    & (volumes < ISOLATED_MAX_VOLUME))[0]\n",
        "    j_va = zeros(juxtavascular.shape).astype(bool)\n",
        "    for colour in colours:\n",
        "        j_va |= labe == colour\n",
        "    \n",
        "    return j_va, j_va_nodules_num\n",
        "\n",
        "\n",
        "def get_pure_j_pl(patient, mask, enh_dot):\n",
        "    fixed_mask = morphology.binary_erosion(mask > 0,iterations=4)\n",
        "    border_mask = fixed_mask * (1 - morphology.binary_erosion(fixed_mask > 0,iterations=4))\n",
        "    juxtapleural = (patient > -400) * (border_mask > 0) * (enh_dot > 4)\n",
        "\n",
        "    labe, j_pl_num = label(juxtapleural)\n",
        "    volumes = bincount(labe.flatten())\n",
        "    colours = where((volumes > JUXTAPLEURAL_MIN_VALUME) \n",
        "                    & (volumes < ISOLATED_MAX_VOLUME))[0]\n",
        "    j_pl = zeros(juxtapleural.shape).astype(bool)\n",
        "    for colour in colours:\n",
        "        j_pl |= labe == colour\n",
        "    return j_pl, j_pl_num"
      ]
    },
    {
      "cell_type": "code",
      "execution_count": null,
      "metadata": {
        "_cell_guid": "67795fad-1f69-3ae4-7404-ddeb6388a32a"
      },
      "outputs": [],
      "source": [
        "def get_pure_nodules(patient, mask, enh):\n",
        "    \"\"\"\n",
        "    Here: \n",
        "    1 is for isolated\n",
        "    2 is for j_va\n",
        "    4 is for j_pl\n",
        "    \"\"\"\n",
        "    iso, iso_num = get_pure_isol(patient, mask, enh[0])\n",
        "    j_va, j_va_num = get_pure_j_va(patient, mask, enh[1], iso)\n",
        "    j_pl, j_pl_num = get_pure_j_pl(patient, mask, enh[0])\n",
        "    return 2 * j_va + iso + 4 * j_pl, (iso_num, j_va_num, j_pl_num)"
      ]
    },
    {
      "cell_type": "markdown",
      "metadata": {
        "_cell_guid": "11501a0f-e042-3fd4-e1fa-126261f17d0e"
      },
      "source": ""
    },
    {
      "cell_type": "code",
      "execution_count": null,
      "metadata": {
        "_cell_guid": "5dcb31fd-3904-84f7-db62-4fd6d29352ee"
      },
      "outputs": [],
      "source": ""
    },
    {
      "cell_type": "markdown",
      "metadata": {
        "_cell_guid": "b784d21c-2115-2370-4d88-719e33103e21"
      },
      "source": ""
    }
  ],
  "metadata": {
    "_change_revision": 0,
    "_is_fork": false,
    "kernelspec": {
      "display_name": "Python 3",
      "language": "python",
      "name": "python3"
    },
    "language_info": {
      "codemirror_mode": {
        "name": "ipython",
        "version": 3
      },
      "file_extension": ".py",
      "mimetype": "text/x-python",
      "name": "python",
      "nbconvert_exporter": "python",
      "pygments_lexer": "ipython3",
      "version": "3.6.0"
    }
  },
  "nbformat": 4,
  "nbformat_minor": 0
}