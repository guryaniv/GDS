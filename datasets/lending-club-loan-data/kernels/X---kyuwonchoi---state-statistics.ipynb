{"cells":[
 {
  "cell_type": "markdown",
  "metadata": {},
  "source": "#Looking into Loans by State\nBeing new to data science in Python, I wanted to continue to develop my plotting skills even further.  Here are some findings about loans in the southern state of Tennessee."
 },
 {
  "cell_type": "code",
  "execution_count": null,
  "metadata": {
   "collapsed": false
  },
  "outputs": [],
  "source": "import numpy as np\nimport pandas as pd \nimport matplotlib.mlab as mlab\nimport matplotlib.pyplot as plt\n\n%matplotlib inline\n\nfrom matplotlib import style\nplt.style.use('ggplot')"
 },
 {
  "cell_type": "code",
  "execution_count": null,
  "metadata": {
   "collapsed": false
  },
  "outputs": [],
  "source": "data = pd.read_csv('../input/loan.csv', low_memory=False, parse_dates=['issue_d'], infer_datetime_format=True)"
 },
 {
  "cell_type": "code",
  "execution_count": null,
  "metadata": {
   "collapsed": false
  },
  "outputs": [],
  "source": "state_count = data.addr_state.value_counts()\n\nstate_count.plot(kind = 'bar',figsize=(16,8), title = 'Loans per State')"
 },
 {
  "cell_type": "code",
  "execution_count": null,
  "metadata": {
   "collapsed": false
  },
  "outputs": [],
  "source": "tn_data = data.loc[data.addr_state == 'TN']\n\ntn_x = range(1, 12888)\n\ntn_loan_amnt = tn_data.loan_amnt"
 },
 {
  "cell_type": "code",
  "execution_count": null,
  "metadata": {
   "collapsed": false
  },
  "outputs": [],
  "source": "plt.figure(figsize=(16, 10))\nplt.scatter(tn_x, tn_loan_amnt)\n\nplt.xlim(1,12888)\nplt.ylim(0, 37500)\n\nplt.ylabel(\"Loan Amount\")\nplt.title(\"Loan Size in Tennessee\")\n\nplt.show()"
 },
 {
  "cell_type": "code",
  "execution_count": null,
  "metadata": {
   "collapsed": false
  },
  "outputs": [],
  "source": "plt.figure(figsize=(16,8))\n\nmu = tn_loan_amnt.mean()\nsigma = tn_loan_amnt.std()\nnum_bins = 100\n\nn, bins, patches = plt.hist(tn_loan_amnt, num_bins, normed=1, facecolor='blue', alpha=0.7)\ny = mlab.normpdf(bins, mu, sigma)\nplt.plot(bins, y, 'r--')\n\nplt.xlabel(\"Loan Amount\")\nplt.title(\"Loan Amount Distribution in Tennessee\")\nplt.show()"
 },
 {
  "cell_type": "markdown",
  "metadata": {},
  "source": "##Explosion in Loans\nNow that we got a glimpse of Loan Sizes in Tennessee, let's see how the number of loans being issued looks like over the years.\n\nIt looks like there is a huge boom in number of loans being issued over the last couple years.  Nashville, TN has been named the new 'it' city and many people have been moving into the area.  Maybe there is some kind of correlation between Nashville's boom and issued loans?"
 },
 {
  "cell_type": "code",
  "execution_count": null,
  "metadata": {
   "collapsed": false
  },
  "outputs": [],
  "source": "tloan_tn_df = tn_data['issue_d'].value_counts().sort_index()\ntloan_tn_df = tloan_tn_df.cumsum()"
 },
 {
  "cell_type": "code",
  "execution_count": null,
  "metadata": {
   "collapsed": false
  },
  "outputs": [],
  "source": "tloan_tn_df.plot(figsize=(16,8), title='Number of Loans Issued in Tennessee')"
 }
],"metadata":{"kernelspec":{"display_name":"Python 3","language":"python","name":"python3"}}, "nbformat": 4, "nbformat_minor": 0}