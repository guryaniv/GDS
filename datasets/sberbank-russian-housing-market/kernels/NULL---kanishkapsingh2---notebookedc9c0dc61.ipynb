{
  "cells": [
    {
      "cell_type": "code",
      "execution_count": null,
      "metadata": {
        "_cell_guid": "49fea2ea-404c-e6d6-1a02-0eac250c5c5b"
      },
      "outputs": [],
      "source": [
        "# This Python 3 environment comes with many helpful analytics libraries installed\n",
        "# It is defined by the kaggle/python docker image: https://github.com/kaggle/docker-python\n",
        "# For example, here's several helpful packages to load in \n",
        "\n",
        "import numpy as np # linear algebra\n",
        "import pandas as pd # data processing, CSV file I/O (e.g. pd.read_csv)\n",
        "from matplotlib import pyplot as plt\n",
        "# Input data files are available in the \"../input/\" directory.\n",
        "# For example, running this (by clicking run or pressing Shift+Enter) will list the files in the input directory\n",
        "import seaborn as sns\n",
        "from subprocess import check_output\n",
        "print(check_output([\"ls\", \"../input\"]).decode(\"utf8\"))\n",
        "\n",
        "# Any results you write to the current directory are saved as output."
      ]
    },
    {
      "cell_type": "code",
      "execution_count": null,
      "metadata": {
        "_cell_guid": "92746020-76b4-3952-2cd6-165101ba89cc"
      },
      "outputs": [],
      "source": [
        "train=pd.read_csv('../input/train.csv',header='infer')\n",
        "house_features=train.iloc[:,:13]\n",
        "house_features['price_doc']=train['price_doc']\n"
      ]
    },
    {
      "cell_type": "code",
      "execution_count": null,
      "metadata": {
        "_cell_guid": "9c3a20a5-d13e-9a69-c25e-bde10772431b"
      },
      "outputs": [],
      "source": ""
    },
    {
      "cell_type": "code",
      "execution_count": null,
      "metadata": {
        "_cell_guid": "d26bed04-deca-74e7-8a45-1391881c7fe1"
      },
      "outputs": [],
      "source": [
        "house_features.head()\n",
        "desc_hf=house_features.describe()"
      ]
    },
    {
      "cell_type": "code",
      "execution_count": null,
      "metadata": {
        "_cell_guid": "95be91cc-d0f8-640d-1338-6f0ced349556"
      },
      "outputs": [],
      "source": [
        "%matplotlib inline\n",
        "price_dist=plt.hist(house_features[house_features['price_doc']<=30000000]['price_doc'])"
      ]
    },
    {
      "cell_type": "code",
      "execution_count": null,
      "metadata": {
        "_cell_guid": "6821ef44-8f14-fc33-1fd5-cf0ac78734cf"
      },
      "outputs": [],
      "source": [
        "plt.boxplot(house_features[house_features['price_doc']<=30000000]['price_doc'])"
      ]
    },
    {
      "cell_type": "code",
      "execution_count": null,
      "metadata": {
        "_cell_guid": "729ea51c-5bc1-92ec-a0a2-9405c645c6c7"
      },
      "outputs": [],
      "source": [
        "# looking at full_sq and then looking at full_sq vs price_doc\n",
        "no_full_sq=house_features['full_sq']==0\n",
        "house_features.loc[no_full_sq,'full_sq']=house_features.loc[no_full_sq,'life_sq']+house_features.loc[no_full_sq,'kitch_sq']"
      ]
    },
    {
      "cell_type": "code",
      "execution_count": null,
      "metadata": {
        "_cell_guid": "710c973f-12d7-3ef3-b494-4693c6d2824c"
      },
      "outputs": [],
      "source": [
        "house_features.loc[house_features['full_sq']==0,'full_sq']"
      ]
    },
    {
      "cell_type": "code",
      "execution_count": null,
      "metadata": {
        "_cell_guid": "c70113c3-e2f4-ab45-dd20-73c16679bed0"
      },
      "outputs": [],
      "source": ""
    }
  ],
  "metadata": {
    "_change_revision": 0,
    "_is_fork": false,
    "kernelspec": {
      "display_name": "Python 3",
      "language": "python",
      "name": "python3"
    },
    "language_info": {
      "codemirror_mode": {
        "name": "ipython",
        "version": 3
      },
      "file_extension": ".py",
      "mimetype": "text/x-python",
      "name": "python",
      "nbconvert_exporter": "python",
      "pygments_lexer": "ipython3",
      "version": "3.6.0"
    }
  },
  "nbformat": 4,
  "nbformat_minor": 0
}