{
  "cells": [
    {
      "cell_type": "code",
      "execution_count": null,
      "metadata": {
        "_cell_guid": "9d4414ee-3590-58e5-93a1-5dedc71cdb60"
      },
      "outputs": [],
      "source": [
        "# This Python 3 environment comes with many helpful analytics libraries installed\n",
        "# It is defined by the kaggle/python docker image: https://github.com/kaggle/docker-python\n",
        "# For example, here's several helpful packages to load in \n",
        "\n",
        "import numpy as np # linear algebra\n",
        "import pandas as pd # data processing, CSV file I/O (e.g. pd.read_csv)\n",
        "import matplotlib.pyplot as plt\n",
        "import matplotlib.pylab as pylab\n",
        "import seaborn as sns"
      ]
    },
    {
      "cell_type": "code",
      "execution_count": null,
      "metadata": {
        "_cell_guid": "9e766eee-0fc8-ec05-9ccd-ff8516ba7259"
      },
      "outputs": [],
      "source": [
        "train  = pd.read_csv(\"../input/train.csv\")"
      ]
    },
    {
      "cell_type": "code",
      "execution_count": null,
      "metadata": {
        "_cell_guid": "9285418b-2ab7-1e8f-fed5-8baabbc07ac7"
      },
      "outputs": [],
      "source": [
        "train.shape"
      ]
    },
    {
      "cell_type": "code",
      "execution_count": null,
      "metadata": {
        "_cell_guid": "3b0e887d-88ce-8e54-bc49-394b6b2dae15"
      },
      "outputs": [],
      "source": [
        "train.head(10)"
      ]
    },
    {
      "cell_type": "code",
      "execution_count": null,
      "metadata": {
        "_cell_guid": "9b232b16-b7c6-8efe-1d95-b6b583e4482f"
      },
      "outputs": [],
      "source": [
        "train.isnull().sum().sum() #no Null values"
      ]
    },
    {
      "cell_type": "code",
      "execution_count": null,
      "metadata": {
        "_cell_guid": "ce4b8e06-5391-cdb8-10a7-d82e76a4ee1a"
      },
      "outputs": [],
      "source": [
        "train.dtypes"
      ]
    },
    {
      "cell_type": "code",
      "execution_count": null,
      "metadata": {
        "_cell_guid": "fa1d114c-6831-8a87-381b-e11ad79121d4"
      },
      "outputs": [],
      "source": [
        "cat_feats = train.columns[train.dtypes == \"object\"]\n",
        "train_cat = train[cat_feats]"
      ]
    },
    {
      "cell_type": "code",
      "execution_count": null,
      "metadata": {
        "_cell_guid": "e0c6859b-604e-17d5-df99-d561825039d9"
      },
      "outputs": [],
      "source": [
        "#unique levels for each categorical feature:\n",
        "train_cat.apply(lambda x: pd.unique(x).shape[0]).sort_values(ascending = False).head(10)"
      ]
    },
    {
      "cell_type": "code",
      "execution_count": null,
      "metadata": {
        "_cell_guid": "38dd97c7-d1ef-4ba4-29a2-f048f97811ad"
      },
      "outputs": [],
      "source": [
        "pd.Series(train.loss).hist()"
      ]
    },
    {
      "cell_type": "code",
      "execution_count": null,
      "metadata": {
        "_cell_guid": "a016af24-d169-aedf-2773-58a3f3d61b5e"
      },
      "outputs": [],
      "source": [
        "pd.Series(np.log1p(train.loss).hist())"
      ]
    },
    {
      "cell_type": "code",
      "execution_count": null,
      "metadata": {
        "_cell_guid": "4d619acd-592e-d788-5631-89148901fac4"
      },
      "outputs": [],
      "source": [
        "train.loc[:,\"cont1\":\"cont4\"].hist()\n",
        "pylab.rcParams['figure.figsize'] = (10, 10)"
      ]
    },
    {
      "cell_type": "code",
      "execution_count": null,
      "metadata": {
        "_cell_guid": "16cdea86-b5e6-a882-1315-6c2a057770ec"
      },
      "outputs": [],
      "source": [
        "train.loc[:,\"cont5\":\"cont10\"].hist()"
      ]
    },
    {
      "cell_type": "code",
      "execution_count": null,
      "metadata": {
        "_cell_guid": "e40345ce-476d-8853-97ac-149c10d53671"
      },
      "outputs": [],
      "source": [
        "train[\"log_target\"] = np.log1p(train.loss)"
      ]
    },
    {
      "cell_type": "markdown",
      "metadata": {
        "_cell_guid": "d52e1f26-eaf3-d2a1-e4ce-350696a13aac"
      },
      "source": [
        "## EDA:"
      ]
    },
    {
      "cell_type": "code",
      "execution_count": null,
      "metadata": {
        "_cell_guid": "2c28938f-df43-4257-7764-4b01991dede0"
      },
      "outputs": [],
      "source": [
        "sns.pairplot(data = train[[\"log_target\", \"cont1\", \"cont2\", \"cont3\", \"cont4\"]].sample(1000))"
      ]
    },
    {
      "cell_type": "code",
      "execution_count": null,
      "metadata": {
        "_cell_guid": "972242ab-a926-61fa-22c4-ed0bb2789722"
      },
      "outputs": [],
      "source": [
        "sns.pairplot(hue = \"cat3\",\n",
        "             data = train[[\"log_target\", \"cont9\", \"cont10\", \"cont11\", \"cont12\", \"cat3\"]].sample(1000))"
      ]
    },
    {
      "cell_type": "code",
      "execution_count": null,
      "metadata": {
        "_cell_guid": "398c96a5-8913-d4a8-58f7-a2beae8c155e"
      },
      "outputs": [],
      "source": [
        "sns.pairplot(data = train[[\"log_target\", \"cont5\", \"cont6\", \"cont7\", \"cont8\"]].sample(1000))"
      ]
    },
    {
      "cell_type": "markdown",
      "metadata": {
        "_cell_guid": "f310ee31-5e01-da58-01cd-e4be46169a36"
      },
      "source": [
        "## Preparing Data:"
      ]
    },
    {
      "cell_type": "code",
      "execution_count": null,
      "metadata": {
        "_cell_guid": "40b587db-4939-d03f-4dc0-62b6718d249e"
      },
      "outputs": [],
      "source": [
        "good_cols = np.setdiff1d(train.loc[:,\"cat1\":\"cont14\"].columns, \n",
        "             [\"cat116\", \"cat110\",\"cat109\",\"cat113\", \"cat112\"])"
      ]
    },
    {
      "cell_type": "code",
      "execution_count": null,
      "metadata": {
        "_cell_guid": "cf9e34ee-9570-cd9e-8d66-7c49202ce3c2"
      },
      "outputs": [],
      "source": [
        "train_cat_large = train[[\"cat116\", \"cat110\",\"cat109\",\"cat113\", \"cat112\"]]"
      ]
    },
    {
      "cell_type": "code",
      "execution_count": null,
      "metadata": {
        "_cell_guid": "b3b8c62b-a0cc-22e4-2ccb-3932dd04ef50"
      },
      "outputs": [],
      "source": [
        "X_int_cat = train_cat_large.apply(lambda x: pd.factorize(x)[0])"
      ]
    },
    {
      "cell_type": "code",
      "execution_count": null,
      "metadata": {
        "_cell_guid": "2cb38b27-0721-d224-59bc-edb5e356f7b3"
      },
      "outputs": [],
      "source": [
        "X = train[good_cols]"
      ]
    },
    {
      "cell_type": "code",
      "execution_count": null,
      "metadata": {
        "_cell_guid": "19fa1724-3e82-003a-9dfa-51020209582f"
      },
      "outputs": [],
      "source": [
        "X = pd.get_dummies(X)"
      ]
    },
    {
      "cell_type": "code",
      "execution_count": null,
      "metadata": {
        "_cell_guid": "db5182b3-9efe-5369-58b8-fa1b7c486014"
      },
      "outputs": [],
      "source": [
        "(X.shape, X_int_cat.shape)"
      ]
    },
    {
      "cell_type": "code",
      "execution_count": null,
      "metadata": {
        "_cell_guid": "5cbdd5ff-41dd-cef8-7a81-6fb068eb20ac"
      },
      "outputs": [],
      "source": [
        "X = pd.concat((X, X_int_cat), 1)"
      ]
    },
    {
      "cell_type": "code",
      "execution_count": null,
      "metadata": {
        "_cell_guid": "54f321ca-aeaa-5285-bf2a-e82f050af4dd"
      },
      "outputs": [],
      "source": [
        "X.shape"
      ]
    },
    {
      "cell_type": "markdown",
      "metadata": {
        "_cell_guid": "1722816b-7a6f-206d-1f67-fd8e9f028245"
      },
      "source": [
        "#Xgboost:"
      ]
    },
    {
      "cell_type": "code",
      "execution_count": null,
      "metadata": {
        "_cell_guid": "e66ba6c1-af70-a098-1151-dcc7280182b4"
      },
      "outputs": [],
      "source": [
        "from xgboost import XGBRegressor\n",
        "import xgboost as xgb\n",
        "from sklearn.model_selection import train_test_split\n",
        "from sklearn.metrics import mean_absolute_error\n",
        "from sklearn.linear_model import Lasso"
      ]
    },
    {
      "cell_type": "code",
      "execution_count": null,
      "metadata": {
        "_cell_guid": "a4a463a2-949c-6940-c6a2-236ccf37b56c"
      },
      "outputs": [],
      "source": [
        "X_tr, X_val, y_tr, y_val = train_test_split(X, train[\"log_target\"])"
      ]
    },
    {
      "cell_type": "code",
      "execution_count": null,
      "metadata": {
        "_cell_guid": "909069ce-1b47-ef45-ce31-1e019dc10c3b"
      },
      "outputs": [],
      "source": [
        "X_tr.shape"
      ]
    },
    {
      "cell_type": "code",
      "execution_count": null,
      "metadata": {
        "_cell_guid": "97275d20-0daf-71be-1e0b-c1208e6f20c4"
      },
      "outputs": [],
      "source": [
        "model = XGBRegressor(n_estimators=60, max_depth=6)"
      ]
    },
    {
      "cell_type": "code",
      "execution_count": null,
      "metadata": {
        "_cell_guid": "f5a11549-c18a-c825-654e-2ccc580231d8"
      },
      "outputs": [],
      "source": [
        "model.fit(X_tr, y_tr)"
      ]
    },
    {
      "cell_type": "code",
      "execution_count": null,
      "metadata": {
        "_cell_guid": "92911f34-c50d-db51-a357-04c9726c7856"
      },
      "outputs": [],
      "source": [
        "preds = model.predict(X_val)"
      ]
    },
    {
      "cell_type": "code",
      "execution_count": null,
      "metadata": {
        "_cell_guid": "0f239447-4fdc-0ce0-46c3-1945dcd80a06"
      },
      "outputs": [],
      "source": [
        "pd.Series(preds).hist()"
      ]
    },
    {
      "cell_type": "code",
      "execution_count": null,
      "metadata": {
        "_cell_guid": "971d6e2a-7952-b92d-ed39-efa354bcbe9f"
      },
      "outputs": [],
      "source": [
        "mean_absolute_error(np.expm1(preds), np.expm1(y_val)) "
      ]
    },
    {
      "cell_type": "code",
      "execution_count": null,
      "metadata": {
        "_cell_guid": "f3dd826a-9add-b4d6-6211-3cd845ebaf15"
      },
      "outputs": [],
      "source": [
        "xgb_params = {\n",
        "    'seed': 0,\n",
        "    'learning_rate': 0.3,\n",
        "    'max_depth': 6,\n",
        "}\n",
        "dtrain = xgb.DMatrix(X_tr, label=y_tr)"
      ]
    },
    {
      "cell_type": "code",
      "execution_count": null,
      "metadata": {
        "_cell_guid": "f1c97b46-cdc2-132b-9af4-8e9d7a866d27"
      },
      "outputs": [],
      "source": [
        "res = xgb.cv(xgb_params, dtrain, num_boost_round=80, nfold=2, seed=0,\n",
        "             early_stopping_rounds=10, verbose_eval=1, show_stdv=True)"
      ]
    },
    {
      "cell_type": "code",
      "execution_count": null,
      "metadata": {
        "_cell_guid": "2e1d7677-693a-de4f-fac7-be3088f6f487"
      },
      "outputs": [],
      "source": ""
    }
  ],
  "metadata": {
    "_change_revision": 0,
    "_is_fork": false,
    "kernelspec": {
      "display_name": "Python 3",
      "language": "python",
      "name": "python3"
    },
    "language_info": {
      "codemirror_mode": {
        "name": "ipython",
        "version": 3
      },
      "file_extension": ".py",
      "mimetype": "text/x-python",
      "name": "python",
      "nbconvert_exporter": "python",
      "pygments_lexer": "ipython3",
      "version": "3.5.2"
    }
  },
  "nbformat": 4,
  "nbformat_minor": 0
}