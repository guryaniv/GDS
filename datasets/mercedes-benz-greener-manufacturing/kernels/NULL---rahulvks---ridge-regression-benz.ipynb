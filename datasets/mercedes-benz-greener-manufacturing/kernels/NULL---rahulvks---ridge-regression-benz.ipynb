{
  "cells": [
    {
      "cell_type": "markdown",
      "metadata": {
        "_cell_guid": "82214458-9de7-e600-57fb-f9f374e0078a"
      },
      "source": [
        "  **\n",
        "\n",
        " 1. Used Ridge Regression   [Ridge][1]\n",
        "\n",
        "**\n",
        "\n",
        " 1. **Score is calculated  - The R^2 (or R Squared) metric provides an indication of the goodness of fit of a set of predictions to the\n",
        "    actual values. In statistical literature, this measure is called the\n",
        "    coefficient of determination.**\n",
        "\n",
        "\n",
        "  [1]: http://%20%20%20%20http://scikit-learn.org/stable/modules/generated/sklearn.linear_model.Ridge.html"
      ]
    },
    {
      "cell_type": "code",
      "execution_count": null,
      "metadata": {
        "_cell_guid": "2a032da8-818b-cb51-8aee-f9065c527159"
      },
      "outputs": [],
      "source": [
        "import pandas as pd\n",
        "import numpy as np\n",
        "import matplotlib.pyplot as plt\n",
        "from sklearn import model_selection , preprocessing\n",
        "from sklearn.model_selection import train_test_split\n",
        "from sklearn.model_selection import KFold\n",
        "from sklearn.linear_model import LinearRegression\n",
        "from sklearn.ensemble import GradientBoostingRegressor\n",
        "from sklearn.ensemble import RandomForestRegressor\n",
        "from sklearn.metrics import roc_curve, auc\n",
        "from sklearn.preprocessing import MinMaxScaler\n",
        "import matplotlib.pyplot as plt\n",
        "import random\n",
        "\n",
        "\n",
        "\n",
        "train = pd.read_csv(\"../input/train.csv\")\n",
        "test = pd.read_csv(\"../input/test.csv\")\n",
        "print(\"Train_File_Size\", train.shape)\n",
        "print(\"Test_File_Size\", test.shape)"
      ]
    },
    {
      "cell_type": "markdown",
      "metadata": {
        "_cell_guid": "21876fad-af55-0da4-9a36-7b912ef07154"
      },
      "source": [
        "\n",
        "\n",
        " - **There Is 'NO' Missing Values In Test and Train Data**\n",
        " - **Check The Target Variable**\n",
        "\n",
        " \n",
        "\n",
        "***This dataset contains an anonymized set of variables that describe different Mercedes cars. The ground truth is labeled 'y' and represents the time (in seconds) that the car took to pass testing By SRK Grand Master*** "
      ]
    },
    {
      "cell_type": "code",
      "execution_count": null,
      "metadata": {
        "_cell_guid": "cd749d11-daba-9670-9f48-e4138a6a79ef"
      },
      "outputs": [],
      "source": [
        "plt.figure(figsize=(4,6))\n",
        "plt.scatter(range(train.shape[0]), np.sort(train.y.values))"
      ]
    },
    {
      "cell_type": "markdown",
      "metadata": {
        "_cell_guid": "c7ceba23-734f-9939-0bbb-c61dad9ab853"
      },
      "source": [
        "**Categorical Variables In Train - CAT > NUM / LabelEnoder** "
      ]
    },
    {
      "cell_type": "code",
      "execution_count": null,
      "metadata": {
        "_cell_guid": "c095a4dd-a6a9-6100-810d-7a4141aa74b1"
      },
      "outputs": [],
      "source": [
        "for f in train.columns:\n",
        "    if train[f].dtype == 'object':\n",
        "        lbl = preprocessing.LabelEncoder()\n",
        "        lbl.fit(list(train[f].values))\n",
        "        train[f] = lbl.transform(list(train[f].values))\n",
        "        \n",
        "for f in test.columns:\n",
        "    if test[f].dtype == 'object':\n",
        "        lbl = preprocessing.LabelEncoder()\n",
        "        lbl.fit(list(test[f].values))\n",
        "        test[f] = lbl.transform(list(test[f].values))       \n",
        "        "
      ]
    },
    {
      "cell_type": "code",
      "execution_count": null,
      "metadata": {
        "_cell_guid": "f11b59fc-70ff-a4ec-95c8-facbb57edb85"
      },
      "outputs": [],
      "source": [
        "#min_max_scaler = preprocessing.MinMaxScaler(feature_range=(0, 1))\n",
        "\n",
        "#train_scaled = min_max_scaler.fit_transform([np.float32(train)])"
      ]
    },
    {
      "cell_type": "markdown",
      "metadata": {
        "_cell_guid": "d05d0222-5695-87f3-436f-ca708083dff0"
      },
      "source": [
        "**Data** "
      ]
    },
    {
      "cell_type": "code",
      "execution_count": null,
      "metadata": {
        "_cell_guid": "49862988-d849-2f5c-168d-21134fad7886"
      },
      "outputs": [],
      "source": [
        "id_test = test.ID\n",
        "x_target = train['y']\n",
        "x_train = train.drop(['y','ID'],axis=1)\n",
        "x_test = test.drop(['ID'],axis=1)"
      ]
    },
    {
      "cell_type": "markdown",
      "metadata": {
        "_cell_guid": "2b4cde7c-4eee-ce09-bcec-00dd66c2253f"
      },
      "source": [
        "**Model Building - Ridge**"
      ]
    },
    {
      "cell_type": "code",
      "execution_count": null,
      "metadata": {
        "_cell_guid": "852d0998-9702-e521-2f94-974fa9097c6b"
      },
      "outputs": [],
      "source": [
        "from sklearn.linear_model import Ridge\n",
        "clf = Ridge()\n",
        "ridge_params = {'alpha': [0,0.5,1,2,3,5]}\n",
        "ridge_grid = model_selection.GridSearchCV(clf,ridge_params,cv=5,verbose=10,scoring='r2')"
      ]
    },
    {
      "cell_type": "code",
      "execution_count": null,
      "metadata": {
        "_cell_guid": "53d967fa-2ec9-575b-d7ea-d9c6e027467b"
      },
      "outputs": [],
      "source": [
        "model = ridge_grid.fit(x_train, x_target) "
      ]
    },
    {
      "cell_type": "markdown",
      "metadata": {
        "_cell_guid": "0f94fe04-bf05-b64b-2b36-d8fc39e02747"
      },
      "source": [
        "**Prediction Against Test Data** "
      ]
    },
    {
      "cell_type": "code",
      "execution_count": null,
      "metadata": {
        "_cell_guid": "70bac6f1-276f-9311-7417-2b301537f711"
      },
      "outputs": [],
      "source": [
        "pred = model.predict(x_test)"
      ]
    },
    {
      "cell_type": "code",
      "execution_count": null,
      "metadata": {
        "_cell_guid": "d2cd7529-cd82-cd83-e55b-c3177969ca87"
      },
      "outputs": [],
      "source": [
        "sub = pd.DataFrame()\n",
        "sub['ID'] = id_test\n",
        "sub['y'] = pred\n",
        "sub.to_csv('ridge.csv', index=False)"
      ]
    },
    {
      "cell_type": "markdown",
      "metadata": {
        "_cell_guid": "1e9f191a-07b9-ef37-78c0-01b14dec7c08"
      },
      "source": [
        "Metrics 'r2'"
      ]
    },
    {
      "cell_type": "code",
      "execution_count": null,
      "metadata": {
        "_cell_guid": "f7c5a31f-eb0c-d601-dd24-e3628cbcf62f"
      },
      "outputs": [],
      "source": [
        "seed= 7\n",
        "model = Ridge()\n",
        "kfold = model_selection.KFold(n_splits=10,random_state=seed)\n",
        "scoring = 'r2'\n",
        "result = model_selection.cross_val_score(model, x_train,x_target, cv=kfold, scoring=scoring)\n",
        "\n",
        "scoring = 'neg_mean_squared_error'\n",
        "results = model_selection.cross_val_score(model, x_train, x_target, cv=kfold, scoring=scoring)\n"
      ]
    },
    {
      "cell_type": "code",
      "execution_count": null,
      "metadata": {
        "_cell_guid": "e22bb222-205a-dcc0-bc93-aa715759b644"
      },
      "outputs": [],
      "source": [
        "#print(\"R^2: %.3f (%.3f)\") % (result.mean(), result.std())"
      ]
    },
    {
      "cell_type": "markdown",
      "metadata": {
        "_cell_guid": "ee05e3db-5ecc-7fc1-c8e4-05ba6f8bd399"
      },
      "source": [
        "*Upvote if you like :)*"
      ]
    },
    {
      "cell_type": "code",
      "execution_count": null,
      "metadata": {
        "_cell_guid": "41f360b9-8f08-4bf9-700f-c5a1088c90fc"
      },
      "outputs": [],
      "source": [
        ""
      ]
    }
  ],
  "metadata": {
    "_change_revision": 0,
    "_is_fork": false,
    "kernelspec": {
      "display_name": "Python 3",
      "language": "python",
      "name": "python3"
    },
    "language_info": {
      "codemirror_mode": {
        "name": "ipython",
        "version": 3
      },
      "file_extension": ".py",
      "mimetype": "text/x-python",
      "name": "python",
      "nbconvert_exporter": "python",
      "pygments_lexer": "ipython3",
      "version": "3.6.0"
    }
  },
  "nbformat": 4,
  "nbformat_minor": 0
}