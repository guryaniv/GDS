{
  "cells": [
    {
      "cell_type": "markdown",
      "metadata": {
        "_cell_guid": "55a0c72f-3c76-740f-03de-f62a0616d5c8"
      },
      "source": [
        "**Do u have a time for time?**  \n",
        "\n",
        "- Forked and added graphs \n",
        "- I'm not sure what the point is"
      ]
    },
    {
      "cell_type": "code",
      "execution_count": null,
      "metadata": {
        "_cell_guid": "ea3962f3-6162-31d0-f85e-3d17c52b260e"
      },
      "outputs": [],
      "source": [
        "import numpy as np # linear algebra\n",
        "import pandas as pd # data processing, CSV file I/O (e.g. pd.read_csv)"
      ]
    },
    {
      "cell_type": "code",
      "execution_count": null,
      "metadata": {
        "_cell_guid": "a4d9023c-83f8-8239-ac6a-093357def498"
      },
      "outputs": [],
      "source": [
        "data = pd.read_hdf('../input/train.h5')"
      ]
    },
    {
      "cell_type": "code",
      "execution_count": null,
      "metadata": {
        "_cell_guid": "dde50810-8ecc-338e-e12a-2cd596b04b35"
      },
      "outputs": [],
      "source": [
        "pd.set_option('display.max_columns', 150)\n",
        "pd.set_option('display.max_rows', 100)"
      ]
    },
    {
      "cell_type": "code",
      "execution_count": null,
      "metadata": {
        "_cell_guid": "275d7fd1-cab9-1cfa-6106-148a86be7c36"
      },
      "outputs": [],
      "source": [
        "data.technical_16.describe()"
      ]
    },
    {
      "cell_type": "markdown",
      "metadata": {
        "_cell_guid": "a8fdf1f4-8f5b-6559-9126-8763c46398e0"
      },
      "source": [
        "I want to introduce you most weird(in my opinion) feature in this competition - technical_16, a friend of time. Take a look on the table below.  Technical_16 is going closure to zero like sand clock, when time is going further. And technical_16 first number is making round. Just like simple clock )"
      ]
    },
    {
      "cell_type": "code",
      "execution_count": null,
      "metadata": {
        "_cell_guid": "c2b81388-552f-7efe-8612-fbbcf25e2919"
      },
      "outputs": [],
      "source": [
        "t16 = data.loc[(data.id == 288) & (data.technical_16 != 0.0)  & (~data.technical_16.isnull()) ,['timestamp', 'technical_16']]\n",
        "ax = t16.plot(use_index=False)"
      ]
    },
    {
      "cell_type": "code",
      "execution_count": null,
      "metadata": {
        "_cell_guid": "e58be372-b2ae-d792-8968-582b21cb7653"
      },
      "outputs": [],
      "source": [
        "ax=t16.technical_16.plot(use_index=False)"
      ]
    },
    {
      "cell_type": "markdown",
      "metadata": {
        "_cell_guid": "653941f9-2efe-374f-8ebc-6b6150eac6dc"
      },
      "source": [
        "Sometimes it's bigger than zero, in case bellow it is less. But it is always going to zero and making round."
      ]
    },
    {
      "cell_type": "code",
      "execution_count": null,
      "metadata": {
        "_cell_guid": "1c1d0d1a-01d1-0184-ae60-4d67a8124a84"
      },
      "outputs": [],
      "source": [
        "t16 = data.loc[(data.id == 1201) & (data.technical_16 != 0.0)  & (~data.technical_16.isnull()) ,['timestamp', 'technical_16']]\n",
        "ax=t16.technical_16.plot(use_index=False)"
      ]
    },
    {
      "cell_type": "code",
      "execution_count": null,
      "metadata": {
        "_cell_guid": "ea3d4fcd-de36-311d-0cd2-642cf2e537c6"
      },
      "outputs": [],
      "source": [
        "ax = t16.plot(use_index=False)"
      ]
    },
    {
      "cell_type": "markdown",
      "metadata": {
        "_cell_guid": "ba475887-9652-f3a8-d335-89ec06ce85b5"
      },
      "source": [
        "It may has interruption, somewhere in the middle, but next it has new cycle."
      ]
    },
    {
      "cell_type": "code",
      "execution_count": null,
      "metadata": {
        "_cell_guid": "13f7e967-1a10-ad73-f88d-2c87c868ebdc"
      },
      "outputs": [],
      "source": [
        ""
      ]
    }
  ],
  "metadata": {
    "_change_revision": 0,
    "_is_fork": false,
    "kernelspec": {
      "display_name": "Python 3",
      "language": "python",
      "name": "python3"
    },
    "language_info": {
      "codemirror_mode": {
        "name": "ipython",
        "version": 3
      },
      "file_extension": ".py",
      "mimetype": "text/x-python",
      "name": "python",
      "nbconvert_exporter": "python",
      "pygments_lexer": "ipython3",
      "version": "3.6.0"
    }
  },
  "nbformat": 4,
  "nbformat_minor": 0
}