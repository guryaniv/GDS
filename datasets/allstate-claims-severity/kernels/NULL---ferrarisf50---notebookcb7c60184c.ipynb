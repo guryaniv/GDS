{
  "cells": [
    {
      "cell_type": "code",
      "execution_count": null,
      "metadata": {
        "_cell_guid": "d3a5c7e9-1770-c8e5-bf7d-80c8f1001948"
      },
      "outputs": [],
      "source": [
        "train = pd.read_csv('..//input//train.csv')"
      ]
    },
    {
      "cell_type": "code",
      "execution_count": null,
      "metadata": {
        "_cell_guid": "62bb38da-26d4-4b21-b348-1e6fe64941a7"
      },
      "outputs": [],
      "source": [
        "import pandas as pd\n",
        "train = pd.read_csv('../input/train.csv')\n",
        "test = pd.read_csv('../input/test.csv')\n",
        "\n",
        "temp=train.drop([\"loss\"], axis=1)\n",
        "allstate = pd.concat([temp,test])\n",
        "allstate=allstate.drop([\"id\"], axis=1)\n",
        "\n",
        "#split for encoding cat\n",
        "con=list(allstate.columns.values)[116:]\n",
        "base=allstate[con]\n",
        "del temp\n",
        "print(\"finished\")"
      ]
    },
    {
      "cell_type": "code",
      "execution_count": null,
      "metadata": {
        "_cell_guid": "3d2948e3-4556-855c-b524-cfaa93027052"
      },
      "outputs": [],
      "source": [
        "cats=list(allstate.columns.values)\n",
        "cats=cats[:116]\n",
        "\n",
        "\n",
        "for i in range(1,116):\n",
        "    temp1 = pd.get_dummies(allstate[cats[i]],prefix=cats[i]+'_')\n",
        "    base = pd.concat([base,temp1],axis=1)\n",
        "    if( (i+1)%10 == 0 ):\n",
        "        print(i) \n",
        "print(\"finished\")"
      ]
    },
    {
      "cell_type": "code",
      "execution_count": null,
      "metadata": {
        "_cell_guid": "962c2193-4399-4dd4-4c96-48105a3d38a9"
      },
      "outputs": [],
      "source": [
        "del temp1\n",
        "del allstate\n",
        "len(list(base.columns.values))"
      ]
    },
    {
      "cell_type": "code",
      "execution_count": null,
      "metadata": {
        "_cell_guid": "49cc3a0d-c789-a8b4-dc05-44265e539d3e"
      },
      "outputs": [],
      "source": [
        "X=base[:188318]\n",
        "test=base[188318:]\n",
        "Y=train[\"loss\"]\n",
        "del base\n",
        "del train\n",
        "del test\n",
        "print(\"finished\")"
      ]
    },
    {
      "cell_type": "code",
      "execution_count": null,
      "metadata": {
        "_cell_guid": "9b4fb920-cfad-2ae8-928f-eb6fc9df7a87"
      },
      "outputs": [],
      "source": [
        "from sklearn import linear_model\n",
        "reg = linear_model.RidgeCV(alphas=0.1) #cv=None, fit_intercept=True, scoring=None,normalize=False)\n",
        "reg.fit (X, Y) \n",
        "print(\"finished\")"
      ]
    },
    {
      "cell_type": "code",
      "execution_count": null,
      "metadata": {
        "_cell_guid": "b11a7d00-8bcc-da07-a262-b8a3f202d737"
      },
      "outputs": [],
      "source": [
        "from sklearn.metrics import mean_absolute_error\n",
        "import numpy as np\n",
        "result = mean_absolute_error(Y, reg.predict(X))\n",
        "print(result)\n",
        "print(\"finished\")"
      ]
    },
    {
      "cell_type": "code",
      "execution_count": null,
      "metadata": {
        "_cell_guid": "64d9adea-52ce-834c-fb3e-2302b6417581"
      },
      "outputs": [],
      "source": [
        "#X_all = []\n",
        "\n",
        "#List of combinations\n",
        "comb = []\n",
        "\n",
        "#Dictionary to store the MAE for all algorithms \n",
        "mae = []\n",
        "\n",
        "\n",
        "from sklearn.linear_model import RidgeCV\n",
        "import numpy as np\n",
        "\n",
        "\n",
        "#Add the alpha value to the below list if you want to run the algo\n",
        "a_list = np.array([0.01,0.1,1,10])\n",
        "\n",
        "for alpha in a_list:\n",
        "    #Set the base model\n",
        "    model = RidgeCV(alphas=alpha,cv=None, fit_intercept=True, scoring=None,normalize=False)\n",
        "    \n",
        "   # algo = \"Ridge\"\n",
        "   \n",
        "    #Accuracy of the model using all features\n",
        "    #for name,i_cols_list in X_all:\n",
        "        #model.fit(X,Y)\n",
        "        #result = mean_absolute_error(Y, reg.predict(X))\n",
        "        #mae.append(result)\n",
        "        #print(name + \" %s\" % result)\n",
        "    model.fit(X,Y)\n",
        "    result = mean_absolute_error(Y, reg.predict(X))\n",
        "    mae.append(result)\n",
        "    print(result)    \n",
        "    comb.append(algo + \" %s\" % alpha )\n",
        "\n",
        "#Result obtained by running the algo for alpha=1.0    \n",
        "if (len(a_list)==0):\n",
        "    mae.append(1267.5)\n",
        "    comb.append(\"Ridge\" + \" %s\" % 1.0 ) "
      ]
    }
  ],
  "metadata": {
    "_change_revision": 0,
    "_is_fork": false,
    "kernelspec": {
      "display_name": "Python 3",
      "language": "python",
      "name": "python3"
    },
    "language_info": {
      "codemirror_mode": {
        "name": "ipython",
        "version": 3
      },
      "file_extension": ".py",
      "mimetype": "text/x-python",
      "name": "python",
      "nbconvert_exporter": "python",
      "pygments_lexer": "ipython3",
      "version": "3.6.0"
    }
  },
  "nbformat": 4,
  "nbformat_minor": 0
}