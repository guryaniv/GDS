{
  "cells": [
    {
      "cell_type": "markdown",
      "metadata": {
        "_cell_guid": "357abe8a-099e-c844-a96e-0eee3943dd22"
      },
      "source": [
        "I noticed that as my submissions climb up the leaderboard (before they invariably decline) there seems to be four channels if one looks at the scatter plot of ID vs y\n",
        "\n",
        "So ..."
      ]
    },
    {
      "cell_type": "code",
      "execution_count": null,
      "metadata": {
        "_cell_guid": "9739ddb9-2500-b781-3fbf-190c4938fa59"
      },
      "outputs": [],
      "source": [
        "import numpy as np\n",
        "import pandas as pd\n",
        "import seaborn as sns\n",
        "import matplotlib.pyplot as plt\n",
        "from sklearn.metrics import r2_score\n",
        "%matplotlib inline"
      ]
    },
    {
      "cell_type": "code",
      "execution_count": null,
      "metadata": {
        "_cell_guid": "2f5ae5b1-e117-2c4f-5c26-63ac813cd0c4"
      },
      "outputs": [],
      "source": [
        "#Four log loss models based on\n",
        "# (train.y<=90)\n",
        "# ((train.y>90)&(train.y<=100))\n",
        "# ((train.y>100)&(train.y<=110))\n",
        "# (train.y>110)\n",
        "\n",
        "def Output(p):\n",
        "    return 1./(1.+np.exp(-p))\n",
        "\n",
        "def GP1(data):\n",
        "    v = pd.DataFrame()\n",
        "    v[\"i0\"] = np.tanh(((-(data[\"X162_mean\"])) - 3.141593))\n",
        "    v[\"i1\"] = np.tanh(((((5.0) - (8.0)) - data[\"X246_mean\"]) - data[\"X328_mean\"]))\n",
        "    v[\"i2\"] = np.tanh((np.cos((-(np.sin(data[\"X159_mean\"])))) - (data[\"X54_mean\"] + 3.141593)))\n",
        "    v[\"i3\"] = np.tanh((((-(data[\"X29_mean\"])) - data[\"X272_mean\"]) - (4.19060230255126953)))\n",
        "    v[\"i4\"] = np.tanh((((-((2.0 + data[\"X29_mean\"]))) - (-(np.cos(data[\"X166_mean\"])))) * 2.0))\n",
        "    v[\"i5\"] = np.tanh((-((np.cos((-(np.tanh(np.cos(data[\"X265_mean\"]))))) - (-(data[\"X54_mean\"]))))))\n",
        "    v[\"i6\"] = np.tanh(((-(np.cos(np.cos(np.cos((-(data[\"X310_mean\"]))))))) - data[\"X29_mean\"]))\n",
        "    v[\"i7\"] = np.tanh((-(np.cos((-(data[\"X187_mean\"]))))))\n",
        "    v[\"i8\"] = np.tanh((data[\"X218_mean\"] * data[\"X88_mean\"]))\n",
        "    v[\"i9\"] = np.tanh(np.tanh((-((data[\"X265_mean\"] + data[\"X91_mean\"])))))\n",
        "    return Output(v.sum(axis=1))\n",
        "\n",
        "def GP2(data):\n",
        "    v = pd.DataFrame()\n",
        "    v[\"i0\"] = np.tanh(((data[\"X127_mean\"] - data[\"X127_mean\"]) - (data[\"X127_mean\"] * 2.0)))\n",
        "    v[\"i1\"] = np.tanh((((-(data[\"X127_mean\"])) - (data[\"X127_mean\"] * 2.0)) - data[\"X127_mean\"]))\n",
        "    v[\"i2\"] = np.tanh(((((data[\"X127_mean\"] - data[\"X127_mean\"]) - data[\"X127_mean\"]) - data[\"X127_mean\"]) - data[\"X127_mean\"]))\n",
        "    v[\"i3\"] = np.tanh((((data[\"X127_mean\"] - data[\"X127_mean\"]) - data[\"X127_mean\"]) - data[\"X127_mean\"]))\n",
        "    v[\"i4\"] = np.tanh(((((-(data[\"X313_mean\"])) - data[\"X127_mean\"]) - data[\"X313_mean\"]) - data[\"X313_mean\"]))\n",
        "    v[\"i5\"] = np.tanh((data[\"X21_mean\"] - (data[\"X127_mean\"] + (data[\"X127_mean\"] + data[\"X47_mean\"]))))\n",
        "    v[\"i6\"] = np.tanh((data[\"X168_mean\"] + (((data[\"X369_mean\"] + data[\"X285_mean\"]) + data[\"X285_mean\"]) - data[\"X47_mean\"])))\n",
        "    v[\"i7\"] = np.tanh(((data[\"X231_mean\"] - (data[\"X47_mean\"] + data[\"X47_mean\"])) - data[\"X316_mean\"]))\n",
        "    v[\"i8\"] = np.tanh((data[\"X101_mean\"] + ((data[\"X61_mean\"] - data[\"X23_mean\"]) + (data[\"X115_mean\"] - data[\"X47_mean\"]))))\n",
        "    v[\"i9\"] = np.tanh((((data[\"X184_mean\"] / 2.0) - ((data[\"X261_mean\"] > np.tanh(data[\"X237_mean\"])).astype(float))) - data[\"X47_mean\"]))\n",
        "    return Output(v.sum(axis=1))\n",
        "\n",
        "def GP3(data):\n",
        "    v = pd.DataFrame()\n",
        "    v[\"i0\"] = np.tanh(((data[\"X79_mean\"] - data[\"X376_mean\"]) - 3.141593))\n",
        "    v[\"i1\"] = np.tanh((((data[\"X261_mean\"] - np.cos(data[\"X314_mean\"])) - np.cos(data[\"X82_mean\"])) - data[\"X118_mean\"]))\n",
        "    v[\"i2\"] = np.tanh((data[\"X314_mean\"] - (np.cos((data[\"X118_mean\"] - data[\"X314_mean\"])) + np.cos(data[\"X171_mean\"]))))\n",
        "    v[\"i3\"] = np.tanh((((data[\"X314_mean\"] - np.cos(data[\"X63_mean\"])) - data[\"X118_mean\"]) * 2.0))\n",
        "    v[\"i4\"] = np.tanh((((data[\"X313_mean\"] - data[\"X5_mean\"]) - data[\"X115_mean\"]) + (data[\"X246_mean\"] - data[\"X118_mean\"])))\n",
        "    v[\"i5\"] = np.tanh((((data[\"X47_mean\"] + data[\"X314_mean\"]) + (data[\"X315_mean\"] + data[\"X47_mean\"])) + data[\"X255_mean\"]))\n",
        "    v[\"i6\"] = np.tanh(((data[\"X53_mean\"] + (data[\"X47_mean\"] - data[\"X198_mean\"])) + data[\"X340_mean\"]))\n",
        "    v[\"i7\"] = np.tanh((((data[\"X370_mean\"] - (data[\"X118_mean\"] - data[\"X47_mean\"])) / 2.0) - data[\"X231_mean\"]))\n",
        "    v[\"i8\"] = np.tanh(((((data[\"X359_mean\"] - data[\"X5_mean\"]) * data[\"X314_mean\"]) / 2.0) - data[\"X231_mean\"]))\n",
        "    v[\"i9\"] = np.tanh((data[\"X240_mean\"] + (((data[\"X313_mean\"] > data[\"X0_mean\"]).astype(float)) - ((data[\"X186_mean\"] > data[\"X313_mean\"]).astype(float)))))\n",
        "    return Output(v.sum(axis=1))\n",
        "\n",
        "def GP4(data):\n",
        "    v = pd.DataFrame()\n",
        "    v[\"i0\"] = np.tanh(((data[\"X0_mean\"] - np.cos((data[\"X0_mean\"] * data[\"X0_mean\"]))) * 2.0))\n",
        "    v[\"i1\"] = np.tanh((((data[\"X0_mean\"] - np.cos(data[\"X0_mean\"])) * 2.0) * 2.0))\n",
        "    v[\"i2\"] = np.tanh(((data[\"X0_mean\"] - np.cos((data[\"X0_mean\"] - data[\"X0_mean\"]))) * 2.0))\n",
        "    v[\"i3\"] = np.tanh((data[\"X0_mean\"] - ((data[\"X112_mean\"] < np.cos(data[\"X0_mean\"])).astype(float))))\n",
        "    v[\"i4\"] = np.tanh((((data[\"X5_mean\"] + data[\"X187_mean\"]) + (data[\"X0_mean\"] + data[\"X5_mean\"])) + data[\"X73_mean\"]))\n",
        "    v[\"i5\"] = np.tanh((data[\"X363_mean\"] - ((data[\"X118_mean\"] < ((data[\"X261_mean\"] < ((data[\"X261_mean\"] < data[\"X261_mean\"]).astype(float))).astype(float))).astype(float))))\n",
        "    v[\"i6\"] = np.tanh((data[\"X315_mean\"] + ((data[\"X0_mean\"] - np.cos(data[\"X315_mean\"])) - data[\"X255_mean\"])))\n",
        "    v[\"i7\"] = np.tanh((((data[\"X241_mean\"] - data[\"X340_mean\"]) + (data[\"X61_mean\"] - data[\"X63_mean\"])) + data[\"X70_mean\"]))\n",
        "    v[\"i8\"] = np.tanh(((data[\"X115_mean\"] + data[\"X115_mean\"]) * (data[\"X0_mean\"] + data[\"X5_mean\"])))\n",
        "    v[\"i9\"] = np.tanh(((((data[\"X315_mean\"] + data[\"X151_mean\"]) + data[\"X78_mean\"]) / 2.0) - data[\"X78_mean\"]))\n",
        "    return Output(v.sum(axis=1))"
      ]
    },
    {
      "cell_type": "code",
      "execution_count": null,
      "metadata": {
        "_cell_guid": "26c6b623-68e5-ad31-2d8d-85143985fdec"
      },
      "outputs": [],
      "source": [
        "train = pd.read_csv('../input/train.csv')\n",
        "test = pd.read_csv('../input/test.csv')\n",
        "features = train.columns[2:]"
      ]
    },
    {
      "cell_type": "code",
      "execution_count": null,
      "metadata": {
        "_cell_guid": "575aecfd-1a31-8cd0-0e1b-e5bc9dd36fd2"
      },
      "outputs": [],
      "source": [
        "for c in features:\n",
        "    stats = train.groupby([c])['y'].mean().reset_index().rename(columns={c: c,'y': c+'_mean'})\n",
        "    x = test.merge(stats, on=c, how='left')\n",
        "    test[c+'_mean'] = x[c+'_mean']\n",
        "    test.drop(c,inplace=True,axis=1)\n",
        "for c in features:\n",
        "    stats = train.groupby([c])['y'].mean().reset_index().rename(columns={c: c, 'y': c+'_mean'})\n",
        "    x = train.merge(stats, on=c, how='left')\n",
        "    train[c+'_mean'] = x[c+'_mean']\n",
        "    train.drop(c,inplace=True,axis=1)"
      ]
    },
    {
      "cell_type": "code",
      "execution_count": null,
      "metadata": {
        "_cell_guid": "ef47a1ab-561c-4246-d4d6-8e6d0e9306a2"
      },
      "outputs": [],
      "source": [
        "features = train.columns[2:]\n",
        "test[features] = test[features].fillna(train[features].mean())\n",
        "from sklearn.preprocessing import StandardScaler\n",
        "ss = StandardScaler()\n",
        "ss.fit(pd.concat([train[features],test[features]]))\n",
        "train[features]= ss.transform(train[features])"
      ]
    },
    {
      "cell_type": "code",
      "execution_count": null,
      "metadata": {
        "_cell_guid": "6d5df7de-99e1-6027-908c-ef8cfdf477db"
      },
      "outputs": [],
      "source": [
        "z = np.zeros((train.shape[0],4))\n",
        "z[:,0] = GP1(train)\n",
        "z[:,1] = GP2(train)\n",
        "z[:,2] = GP3(train)\n",
        "z[:,3] = GP4(train)\n",
        "z = pd.DataFrame(z)\n",
        "# Choose your own cut values\n",
        "cuts = [79.21462314023944,94.18905617655874,104.38137315295712,112.57027583344716]\n",
        "preds = z.apply(lambda r: cuts[r.argmax()],axis=1)"
      ]
    },
    {
      "cell_type": "code",
      "execution_count": null,
      "metadata": {
        "_cell_guid": "4ee6b95a-6b1e-ae6c-4fdb-52cf3edc7336"
      },
      "outputs": [],
      "source": [
        "plt.scatter(train.ID,preds)"
      ]
    },
    {
      "cell_type": "code",
      "execution_count": null,
      "metadata": {
        "_cell_guid": "01a42ae7-b8f7-afe5-b986-0d070276ee18"
      },
      "outputs": [],
      "source": [
        "print(r2_score(train.y,preds))"
      ]
    },
    {
      "cell_type": "markdown",
      "metadata": {
        "_cell_guid": "ed0950aa-681c-c0bc-6d38-91505173bd58"
      },
      "source": [
        "At least it is different!"
      ]
    }
  ],
  "metadata": {
    "_change_revision": 0,
    "_is_fork": false,
    "kernelspec": {
      "display_name": "Python 3",
      "language": "python",
      "name": "python3"
    },
    "language_info": {
      "codemirror_mode": {
        "name": "ipython",
        "version": 3
      },
      "file_extension": ".py",
      "mimetype": "text/x-python",
      "name": "python",
      "nbconvert_exporter": "python",
      "pygments_lexer": "ipython3",
      "version": "3.6.0"
    }
  },
  "nbformat": 4,
  "nbformat_minor": 0
}