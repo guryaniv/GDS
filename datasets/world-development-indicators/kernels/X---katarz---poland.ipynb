{"cells":[
 {
  "cell_type": "code",
  "execution_count": null,
  "metadata": {
   "collapsed": false
  },
  "outputs": [],
  "source": "# This Python 3 environment comes with many helpful analytics libraries installed\n# It is defined by the kaggle/python docker image: https://github.com/kaggle/docker-python\n# For example, here's several helpful packages to load in \n\nimport numpy as np # linear algebra\nimport pandas as pd # data processing, CSV file I/O (e.g. pd.read_csv)\nimport matplotlib.pyplot as plt\n\n# Input data files are available in the \"../input/\" directory.\n# For example, running this (by clicking run or pressing Shift+Enter) will list the files in the input directory\n\nfrom subprocess import check_output\n#print(check_output([\"ls\", \"../input\"]).decode(\"utf8\"))\n# read data\ncountry = pd.read_csv('../input/Country.csv')\ncountry_notes = pd.read_csv('../input/CountryNotes.csv')\nindicators = pd.read_csv('../input/Indicators.csv')\nseries = pd.read_csv('../input/Series.csv')\nseries_notes = pd.read_csv('../input/SeriesNotes.csv')\n\n"
 },
 {
  "cell_type": "code",
  "execution_count": null,
  "metadata": {
   "collapsed": false
  },
  "outputs": [],
  "source": "birthrate=indicators[indicators['CountryName'].isin({'Poland'}) & indicators['IndicatorName'].isin({'Birth rate, crude (per 1,000 people)'})]\nbirthrateall=indicators[indicators['IndicatorName'].isin({'Birth rate, crude (per 1,000 people)'})]\nbirthrateallgrouped=birthrateall.groupby('Year')\nbirthrateall=birthrateallgrouped.mean()\n\ndeathrate=indicators[indicators['CountryName'].isin({'Poland'}) & indicators['IndicatorName'].isin({'Death rate, crude (per 1,000 people)'})]\ndeathrateall=indicators[indicators['IndicatorName'].isin({'Death rate, crude (per 1,000 people)'})]\ndeathrateallgrouped=deathrateall.groupby('Year')\ndeathrateall=deathrateallgrouped.mean()"
 },
 {
  "cell_type": "code",
  "execution_count": null,
  "metadata": {
   "collapsed": false
  },
  "outputs": [],
  "source": "plt.figure()\npol, =plt.plot(deathrate['Year'], deathrate['Value'], label='Poland')\nwrld, =plt.plot(deathrateall, label='World')\nplt.legend([pol, wrld], ['Poland', 'World'])\nplt.title('Death rate in Poland & World')"
 },
 {
  "cell_type": "code",
  "execution_count": null,
  "metadata": {
   "collapsed": false
  },
  "outputs": [],
  "source": "plt.figure()\npol, =plt.plot(birthrate['Year'],birthrate['Value'])\nwrld, =plt.plot(birthrateall)\nplt.legend([pol, wrld], ['Poland', 'World'])\nplt.title('Birth Rate in Poland and World')"
 }
],"metadata":{"kernelspec":{"display_name":"Python 3","language":"python","name":"python3"}}, "nbformat": 4, "nbformat_minor": 0}