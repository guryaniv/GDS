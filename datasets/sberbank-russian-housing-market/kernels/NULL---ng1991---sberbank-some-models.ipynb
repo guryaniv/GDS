{
  "cells": [
    {
      "cell_type": "code",
      "execution_count": null,
      "metadata": {
        "_cell_guid": "4ecdc3f0-91f8-4d71-da52-9bfb2a90866a"
      },
      "outputs": [],
      "source": [
        "# This Python 3 environment comes with many helpful analytics libraries installed\n",
        "# It is defined by the kaggle/python docker image: https://github.com/kaggle/docker-python\n",
        "# For example, here's several helpful packages to load in \n",
        "\n",
        "import numpy as np # linear algebra\n",
        "import pandas as pd # data processing, CSV file I/O (e.g. pd.read_csv)\n",
        "\n",
        "# Input data files are available in the \"../input/\" directory.\n",
        "# For example, running this (by clicking run or pressing Shift+Enter) will list the files in the input directory\n",
        "\n",
        "from subprocess import check_output\n",
        "print(check_output([\"ls\", \"../input\"]).decode(\"utf8\"))\n",
        "\n",
        "# Any results you write to the current directory are saved as output."
      ]
    },
    {
      "cell_type": "code",
      "execution_count": null,
      "metadata": {
        "_cell_guid": "16685272-07b6-12f8-5262-1225123de274"
      },
      "outputs": [],
      "source": [
        "df_train = pd.read_csv(\"../input/train.csv\", index_col= 'id')\n",
        "df_test = pd.read_csv(\"../input/test.csv\", index_col= 'id')\n",
        "macro = pd.read_csv(\"../input/macro.csv\")"
      ]
    },
    {
      "cell_type": "markdown",
      "metadata": {
        "_cell_guid": "db3dd01e-762e-7ad9-884c-d9ec241a9d96"
      },
      "source": [
        "Let's do some exploratory analysis first"
      ]
    },
    {
      "cell_type": "code",
      "execution_count": null,
      "metadata": {
        "_cell_guid": "6fef6019-909e-ba55-bad6-49f0a33bfd81"
      },
      "outputs": [],
      "source": [
        "df_train.head()"
      ]
    },
    {
      "cell_type": "code",
      "execution_count": null,
      "metadata": {
        "_cell_guid": "c16cbc66-c0eb-0617-4383-c7a476712a0d"
      },
      "outputs": [],
      "source": [
        "df_train.describe()"
      ]
    },
    {
      "cell_type": "code",
      "execution_count": null,
      "metadata": {
        "_cell_guid": "60c3f635-c2e4-ce7b-aaa3-c55c4a340e29"
      },
      "outputs": [],
      "source": [
        "df_train.count()"
      ]
    },
    {
      "cell_type": "markdown",
      "metadata": {
        "_cell_guid": "0f5347ed-926d-2505-115e-81ea3ba325b6"
      },
      "source": [
        "When it comes to missing data, the variables differ in their quality. We'll see what that is about and how to deal with that."
      ]
    },
    {
      "cell_type": "markdown",
      "metadata": {
        "_cell_guid": "3520f3a5-1511-c72e-ca74-371ad8161d19"
      },
      "source": [
        "First let's get aquainted with the target variable. It seems to be more convenient to display the prices in millions."
      ]
    },
    {
      "cell_type": "code",
      "execution_count": null,
      "metadata": {
        "_cell_guid": "ced267a4-7bb0-8348-5514-78ed64c9089c"
      },
      "outputs": [],
      "source": [
        "import matplotlib.pyplot as plt\n",
        "plt.hist(df_train['price_doc'].divide(1000000), bins=250)\n",
        "plt.xlim(0,20)\n",
        "plt.xlabel(\"Object Price in Millions\")\n",
        "plt.show()"
      ]
    },
    {
      "cell_type": "markdown",
      "metadata": {
        "_cell_guid": "1a699985-b5eb-dc3e-02a5-cee4bf617556"
      },
      "source": [
        "Please note that there are observations beyond the 20m line, but for exploratory purposes, the large mass that centers around 6m is more interesting."
      ]
    },
    {
      "cell_type": "markdown",
      "metadata": {
        "_cell_guid": "6ec783a6-a41f-1f75-c80c-cf061fbd82b0"
      },
      "source": [
        "So as seen in the description of the variables, there is a plethora of variables connected both to the property as well as the macroeconomic circumstances. For now I'd like to weed out the obsolete property variables with the help of correlation and a heatmap."
      ]
    },
    {
      "cell_type": "code",
      "execution_count": null,
      "metadata": {
        "_cell_guid": "cdf50a87-c2b4-c98d-5ea0-18902d0be580"
      },
      "outputs": [],
      "source": [
        "import seaborn as sns\n",
        "corrmat = df_train.corr()"
      ]
    },
    {
      "cell_type": "code",
      "execution_count": null,
      "metadata": {
        "_cell_guid": "8078a841-6ab1-7479-4aa0-2667524d1cca"
      },
      "outputs": [],
      "source": [
        "price_corr = corrmat.loc[:,'price_doc']"
      ]
    },
    {
      "cell_type": "code",
      "execution_count": null,
      "metadata": {
        "_cell_guid": "30eeb800-60d7-271b-6ff6-6a0ead771e98"
      },
      "outputs": [],
      "source": [
        "sig_price = price_corr[abs(price_corr) > 0.25].sort_values()\n",
        "print(sig_price)"
      ]
    },
    {
      "cell_type": "code",
      "execution_count": null,
      "metadata": {
        "_cell_guid": "90327e1a-b0a5-85f4-65c7-f744e472a9d3"
      },
      "outputs": [],
      "source": [
        "sel_var = sig_price.index.astype(list)\n",
        "sel_var = sel_var.insert(0,'timestamp')\n",
        "sel_var"
      ]
    },
    {
      "cell_type": "code",
      "execution_count": null,
      "metadata": {
        "_cell_guid": "a5ab13ca-23a7-c939-69b7-1f214de02058"
      },
      "outputs": [],
      "source": [
        "df_train_sel = df_train.loc[:,sel_var]\n",
        "df_train_sel.head()"
      ]
    },
    {
      "cell_type": "code",
      "execution_count": null,
      "metadata": {
        "_cell_guid": "fa965585-98bb-ccda-75ac-5f96c63d5cde"
      },
      "outputs": [],
      "source": [
        "import seaborn as sns\n",
        "\n",
        "corrmat = df_train_sel.corr()\n",
        "sns.heatmap(corrmat, vmax=.8, square=True)"
      ]
    },
    {
      "cell_type": "markdown",
      "metadata": {
        "_cell_guid": "651d9d23-03d9-fbbe-f046-fc9d635140d5"
      },
      "source": [
        "Well, great."
      ]
    },
    {
      "cell_type": "code",
      "execution_count": null,
      "metadata": {
        "_cell_guid": "edf1ad8b-0ec2-d22f-f9d8-4d81940767c0"
      },
      "outputs": [],
      "source": [
        "new_sel_var = ['timestamp', 'kremlin_km', 'sport_objects_raion', 'full_sq']\n",
        "df_train_new_sel = df_train.loc[:,new_sel_var]"
      ]
    },
    {
      "cell_type": "markdown",
      "metadata": {
        "_cell_guid": "85a0880d-520e-eeae-6a2f-90ad38871fad"
      },
      "source": [
        "## Baseline Model: Linear Regression"
      ]
    },
    {
      "cell_type": "code",
      "execution_count": null,
      "metadata": {
        "_cell_guid": "87dcc70a-7529-ed0a-ba87-558f71d89214"
      },
      "outputs": [],
      "source": [
        "from sklearn.linear_model import LinearRegression\n",
        "\n",
        "linear = LinearRegression()\n",
        "linear.fit(df_train_new_sel.iloc[:,1::],df_train['price_doc'] )"
      ]
    },
    {
      "cell_type": "code",
      "execution_count": null,
      "metadata": {
        "_cell_guid": "d8a81239-5635-571f-0f43-169a3688711f"
      },
      "outputs": [],
      "source": [
        "print('Coefficients: \\n', linear.coef_)"
      ]
    },
    {
      "cell_type": "markdown",
      "metadata": {
        "_cell_guid": "52970740-dfe7-38ee-3376-176f64b07ccf"
      },
      "source": [
        "The coefficients make sense so far."
      ]
    },
    {
      "cell_type": "code",
      "execution_count": null,
      "metadata": {
        "_cell_guid": "230ab624-1cd4-125e-204f-21c783912f35"
      },
      "outputs": [],
      "source": [
        "ols_pred = linear.predict(df_test.loc[:,new_sel_var[1::]])\n",
        "df_test['price_doc'] = ols_pred\n",
        "df_test.head()\n",
        "linear_pred = df_test[['price_doc']]"
      ]
    },
    {
      "cell_type": "code",
      "execution_count": null,
      "metadata": {
        "_cell_guid": "f9cd0b6f-6a2f-6f0a-f460-592dff980da4"
      },
      "outputs": [],
      "source": [
        "linear_pred.to_csv('linear_prediction_sberbank.csv')"
      ]
    },
    {
      "cell_type": "markdown",
      "metadata": {
        "_cell_guid": "00da9841-4f52-8124-d0ad-3cdc22b9cc9c"
      },
      "source": [
        "## MORE MODELS TO COME"
      ]
    }
  ],
  "metadata": {
    "_change_revision": 0,
    "_is_fork": false,
    "kernelspec": {
      "display_name": "Python 3",
      "language": "python",
      "name": "python3"
    },
    "language_info": {
      "codemirror_mode": {
        "name": "ipython",
        "version": 3
      },
      "file_extension": ".py",
      "mimetype": "text/x-python",
      "name": "python",
      "nbconvert_exporter": "python",
      "pygments_lexer": "ipython3",
      "version": "3.6.0"
    }
  },
  "nbformat": 4,
  "nbformat_minor": 0
}