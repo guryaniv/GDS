{
  "cells": [
    {
      "cell_type": "markdown",
      "metadata": {
        "_cell_guid": "e3b0f307-95f6-f90c-8987-9edd824158bb"
      },
      "source": [
        "Logistic Regression and Random Forest to predict the class after performing oversampling of the minority class using SMOTE (Synthetic Minority Oversampling Technique), which resulted in the equal distribution of both the classes (0 and 1).\n",
        "\n",
        "Logistic Regression gave AUC=0.95, but the precision was very low (0.08).\n",
        "So, I tried Random Forests and it gave AUC=0.94 and precision=0.85 (with 'gini' criterion) and AUC=0.92 & precision=0.83 (with 'entropy' criterion)."
      ]
    },
    {
      "cell_type": "code",
      "execution_count": null,
      "metadata": {
        "_cell_guid": "46522987-0226-9665-ecdf-a5312cda0c1a"
      },
      "outputs": [],
      "source": [
        "# This Python 3 environment comes with many helpful analytics libraries installed\n",
        "# It is defined by the kaggle/python docker image: https://github.com/kaggle/docker-python\n",
        "# For example, here's several helpful packages to load in \n",
        "\n",
        "import numpy as np # linear algebra\n",
        "import pandas as pd # data processing, CSV file I/O (e.g. pd.read_csv)\n",
        "\n",
        "# Input data files are available in the \"../input/\" directory.\n",
        "# For example, running this (by clicking run or pressing Shift+Enter) will list the files in the input directory\n",
        "\n",
        "from subprocess import check_output\n",
        "print(check_output([\"ls\", \"../input\"]).decode(\"utf8\"))\n",
        "\n",
        "# Any results you write to the current directory are saved as output."
      ]
    },
    {
      "cell_type": "markdown",
      "metadata": {
        "_cell_guid": "b62c5b19-2b98-e1a3-2009-136ae014d784"
      },
      "source": [
        "**Importing data set, creating numpy arrays of the data and the target and splitting the data into Train and Test (75% and 25%)**"
      ]
    },
    {
      "cell_type": "code",
      "execution_count": null,
      "metadata": {
        "_cell_guid": "95781028-3350-1f6e-ca0f-7a079baa0c5b"
      },
      "outputs": [],
      "source": [
        "import pandas as pd\n",
        "import numpy as np\n",
        "\n",
        "#importing the data set\n",
        "df=pd.read_csv(\"../input/creditcard.csv\")\n",
        "\n",
        "#creating target series\n",
        "target=df['Class']\n",
        "target\n",
        "\n",
        "#droppiIng the target variable from the data set\n",
        "df.drop('Class',axis=1,inplace=True)\n",
        "df.shape\n",
        "\n",
        "#converting them to numpy arrays\n",
        "X=np.array(df)\n",
        "y=np.array(target)\n",
        "X.shape\n",
        "y.shape\n",
        "\n",
        "#distribution of the target variable\n",
        "len(y[y==1])\n",
        "len(y[y==0])\n",
        "\n",
        "#splitting the data set into train and test (75:25)\n",
        "from sklearn.cross_validation import train_test_split\n",
        "X_train,X_test,y_train,y_test=train_test_split(X,y,test_size=0.25,random_state=1)\n",
        "print(X_train.shape,X_test.shape,y_train.shape,y_test.shape)"
      ]
    },
    {
      "cell_type": "markdown",
      "metadata": {
        "_cell_guid": "8c02f629-8105-d0bc-02da-7703dc5e84ec"
      },
      "source": [
        "**Applying SMOTE to oversample the minority class.**"
      ]
    },
    {
      "cell_type": "code",
      "execution_count": null,
      "metadata": {
        "_cell_guid": "f6326d4c-1dc2-4602-2c45-ec680476319d"
      },
      "outputs": [],
      "source": [
        "#applyting SMOTE to oversample the minority class-it will produce data with equal ratio of the target\n",
        "from imblearn.over_sampling import SMOTE\n",
        "sm=SMOTE(random_state=2)\n",
        "X_sm,y_sm=sm.fit_sample(X_train,y_train)\n",
        "print(X_sm.shape,y_sm.shape)\n",
        "print(len(y_sm[y_sm==1]),len(y_sm[y_sm==0]))"
      ]
    },
    {
      "cell_type": "markdown",
      "metadata": {
        "_cell_guid": "dc6c2a1f-f225-81b3-7a91-051f0ca3041b"
      },
      "source": [
        "**Training the data with Logistic Regression model**"
      ]
    },
    {
      "cell_type": "code",
      "execution_count": null,
      "metadata": {
        "_cell_guid": "07ae5061-aad6-0d19-ee43-3befcfaa6e56"
      },
      "outputs": [],
      "source": [
        "from sklearn.linear_model import LogisticRegression\n",
        "import matplotlib.pyplot as plt\n",
        "from sklearn import metrics\n",
        "\n",
        "#Logistic Regression\n",
        "logreg=LogisticRegression()\n",
        "logreg.fit(X_sm,y_sm)\n",
        "y_logreg=logreg.predict(X_test)\n",
        "y_logreg_prob=logreg.predict_proba(X_test)[:,1]\n",
        "\n",
        "#Performance metrics evaluation\n",
        "print(\"Confusion Matrix:\\n\",metrics.confusion_matrix(y_test,y_logreg))\n",
        "print(\"Accuracy:\\n\",metrics.accuracy_score(y_test,y_logreg))\n",
        "print(\"Precision:\\n\",metrics.precision_score(y_test,y_logreg))\n",
        "print(\"Recall:\\n\",metrics.recall_score(y_test,y_logreg))\n",
        "print(\"AUC:\\n\",metrics.roc_auc_score(y_test,y_logreg_prob))\n",
        "auc=metrics.roc_auc_score(y_test,y_logreg_prob)\n",
        "\n",
        "#plotting the ROC curve\n",
        "fpr,tpr,thresholds=metrics.roc_curve(y_test,y_logreg_prob)\n",
        "plt.plot(fpr,tpr,'b', label='AUC = %0.2f'% auc)\n",
        "plt.plot([0,1],[0,1],'r-.')\n",
        "plt.xlim([-0.2,1.2])\n",
        "plt.ylim([-0.2,1.2])\n",
        "plt.title('Receiver Operating Characteristic\\nLogistic Regression')\n",
        "plt.legend(loc='lower right')\n",
        "plt.ylabel('True Positive Rate')\n",
        "plt.xlabel('False Positive Rate')\n",
        "plt.show()"
      ]
    },
    {
      "cell_type": "markdown",
      "metadata": {
        "_cell_guid": "9a88a51e-29db-63b2-eb24-4dfbb89fcd72"
      },
      "source": [
        "**Training the data with Random Forest method using 'gini' criterion**"
      ]
    },
    {
      "cell_type": "code",
      "execution_count": null,
      "metadata": {
        "_cell_guid": "84285f55-b82a-5057-506d-18f26b9cd6ce"
      },
      "outputs": [],
      "source": [
        "#Random Forest with 'gini' criterion\n",
        "from sklearn.ensemble import RandomForestClassifier\n",
        "\n",
        "rf=RandomForestClassifier(random_state=3)\n",
        "rf.fit(X_sm,y_sm)\n",
        "y_rf=rf.predict(X_test)\n",
        "y_rf_prob=rf.predict_proba(X_test)[:,1]\n",
        "\n",
        "#Performance metrics evaluation\n",
        "print(\"Confusion Matrix:\\n\",metrics.confusion_matrix(y_test,y_rf))\n",
        "print(\"Accuracy:\\n\",metrics.accuracy_score(y_test,y_rf))\n",
        "print(\"Precision:\\n\",metrics.precision_score(y_test,y_rf))\n",
        "print(\"Recall:\\n\",metrics.recall_score(y_test,y_rf))\n",
        "print(\"AUC:\\n\",metrics.roc_auc_score(y_test,y_rf_prob))\n",
        "auc=metrics.roc_auc_score(y_test,y_rf_prob)\n",
        "\n",
        "#plotting the ROC curve\n",
        "fpr,tpr,thresholds=metrics.roc_curve(y_test,y_rf_prob)\n",
        "plt.plot(fpr,tpr,'b', label='AUC = %0.2f'% auc)\n",
        "plt.plot([0,1],[0,1],'r-.')\n",
        "plt.xlim([-0.2,1.2])\n",
        "plt.ylim([-0.2,1.2])\n",
        "plt.title('Receiver Operating Characteristic\\nRandom Forest')\n",
        "plt.legend(loc='lower right')\n",
        "plt.ylabel('True Positive Rate')\n",
        "plt.xlabel('False Positive Rate')\n",
        "plt.show()\n",
        "\n"
      ]
    },
    {
      "cell_type": "markdown",
      "metadata": {
        "_cell_guid": "0bf00000-699d-5243-fbf2-771b8d6042bc"
      },
      "source": [
        "**Training the data with Random Forest method using 'entropy' criterion**"
      ]
    },
    {
      "cell_type": "code",
      "execution_count": null,
      "metadata": {
        "_cell_guid": "d7bedf9f-c695-fb23-c890-323712e1d182"
      },
      "outputs": [],
      "source": [
        "#Random Forest with 'entropy' criterion\n",
        "from sklearn.ensemble import RandomForestClassifier\n",
        "\n",
        "rf=RandomForestClassifier(criterion='entropy',random_state=3)\n",
        "rf.fit(X_sm,y_sm)\n",
        "y_rf=rf.predict(X_test)\n",
        "y_rf_prob=rf.predict_proba(X_test)[:,1]\n",
        "\n",
        "#Performance metrics evaluation\n",
        "print(\"Confusion Matrix:\\n\",metrics.confusion_matrix(y_test,y_rf))\n",
        "print(\"Accuracy:\\n\",metrics.accuracy_score(y_test,y_rf))\n",
        "print(\"Precision:\\n\",metrics.precision_score(y_test,y_rf))\n",
        "print(\"Recall:\\n\",metrics.recall_score(y_test,y_rf))\n",
        "print(\"AUC:\\n\",metrics.roc_auc_score(y_test,y_rf_prob))\n",
        "auc=metrics.roc_auc_score(y_test,y_rf_prob)\n",
        "\n",
        "#plotting the ROC curve\n",
        "fpr,tpr,thresholds=metrics.roc_curve(y_test,y_rf_prob)\n",
        "plt.plot(fpr,tpr,'b', label='AUC = %0.2f'% auc)\n",
        "plt.plot([0,1],[0,1],'r-.')\n",
        "plt.xlim([-0.2,1.2])\n",
        "plt.ylim([-0.2,1.2])\n",
        "plt.title('Receiver Operating Characteristic\\nRandom Forest')\n",
        "plt.legend(loc='lower right')\n",
        "plt.ylabel('True Positive Rate')\n",
        "plt.xlabel('False Positive Rate')\n",
        "plt.show()\n"
      ]
    }
  ],
  "metadata": {
    "_change_revision": 0,
    "_is_fork": false,
    "kernelspec": {
      "display_name": "Python 3",
      "language": "python",
      "name": "python3"
    },
    "language_info": {
      "codemirror_mode": {
        "name": "ipython",
        "version": 3
      },
      "file_extension": ".py",
      "mimetype": "text/x-python",
      "name": "python",
      "nbconvert_exporter": "python",
      "pygments_lexer": "ipython3",
      "version": "3.5.2"
    }
  },
  "nbformat": 4,
  "nbformat_minor": 0
}