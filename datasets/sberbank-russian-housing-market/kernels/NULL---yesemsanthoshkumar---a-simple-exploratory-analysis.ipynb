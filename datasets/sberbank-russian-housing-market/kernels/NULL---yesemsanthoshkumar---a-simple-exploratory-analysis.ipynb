{
  "cells": [
    {
      "cell_type": "markdown",
      "metadata": {
        "_cell_guid": "9b5e783f-368a-7b62-05df-ffd11c05e81a"
      },
      "source": [
        "In this notebook, we will have a look at each columns and filling their missing values"
      ]
    },
    {
      "cell_type": "code",
      "execution_count": null,
      "metadata": {
        "_cell_guid": "8d90a979-bbbe-1198-5920-fe8a1534f68c"
      },
      "outputs": [],
      "source": [
        "import numpy as np\n",
        "import pandas as pd\n",
        "from scipy import stats\n",
        "import matplotlib.pyplot as mplt\n",
        "import seaborn as sns\n",
        "% matplotlib inline"
      ]
    },
    {
      "cell_type": "code",
      "execution_count": null,
      "metadata": {
        "_cell_guid": "d11cdf14-efa5-84cc-e463-217f412cf052"
      },
      "outputs": [],
      "source": [
        "train = pd.read_csv(\"../input/train.csv\",\n",
        "                    parse_dates=[\"timestamp\"],\n",
        "                   date_parser=lambda x: pd.datetime.strptime(x, \"%Y-%m-%d\"))"
      ]
    },
    {
      "cell_type": "code",
      "execution_count": null,
      "metadata": {
        "_cell_guid": "32382881-3dd0-5a88-f329-b03a960600c2"
      },
      "outputs": [],
      "source": [
        "train.shape"
      ]
    },
    {
      "cell_type": "code",
      "execution_count": null,
      "metadata": {
        "_cell_guid": "009fd839-99f8-8c32-7582-9adebd767dea"
      },
      "outputs": [],
      "source": [
        "train.id.min(), train.id.max(), train.id.nunique()"
      ]
    },
    {
      "cell_type": "markdown",
      "metadata": {
        "_cell_guid": "52724dd0-4076-0a27-cb87-508d0ec85127"
      },
      "source": [
        "All the id's are unique. Seems all right."
      ]
    },
    {
      "cell_type": "code",
      "execution_count": null,
      "metadata": {
        "_cell_guid": "e5966bba-69c5-20af-5524-529d36ef5a91"
      },
      "outputs": [],
      "source": [
        "train.timestamp.min(), train.timestamp.max(), train.timestamp.nunique()"
      ]
    },
    {
      "cell_type": "code",
      "execution_count": null,
      "metadata": {
        "_cell_guid": "2bbfad40-0b43-b2a5-add1-515cd39a4cd6"
      },
      "outputs": [],
      "source": [
        "train[\"year_month\"] = train.timestamp.map(lambda x: x.year * 100 + x.month)\n",
        "train[\"month\"] = train.timestamp.dt.month\n",
        "train[\"year\"] = train.timestamp.dt.year\n",
        "train[\"weekday\"] = train.timestamp.dt.weekday"
      ]
    },
    {
      "cell_type": "code",
      "execution_count": null,
      "metadata": {
        "_cell_guid": "54051da3-8108-4d45-d738-1bf984b461c6"
      },
      "outputs": [],
      "source": [
        "ts_df = train[[\"id\", \"year_month\", \"year\", \"month\", \"weekday\"]]"
      ]
    },
    {
      "cell_type": "code",
      "execution_count": null,
      "metadata": {
        "_cell_guid": "3dd3b8f4-1aca-b465-b8cb-9b1277f8ead6"
      },
      "outputs": [],
      "source": [
        "y_df = ts_df.groupby(\"year\").count().reset_index()\n",
        "m_df = ts_df.groupby(\"month\").count().reset_index()\n",
        "wd_df = ts_df.groupby(\"weekday\").count().reset_index()\n",
        "\n",
        "fig, ax = mplt.subplots(ncols=2)\n",
        "fig.set_size_inches(13, 3)\n",
        "\n",
        "sns.barplot(data=y_df, x=\"year\", y=\"id\", ax=ax[0])\n",
        "ax[0].set_title(\"Transactions over the years\")\n",
        "\n",
        "sns.barplot(data=wd_df, x=\"weekday\", y=\"id\", ax=ax[1])\n",
        "ax[1].set_title(\"Transactions over weekdays\")\n",
        "\n",
        "fig, axs = mplt.subplots()\n",
        "fig.set_size_inches(13, 3)\n",
        "\n",
        "sns.barplot(data=m_df, x=\"month\", y=\"id\", ax=axs)\n",
        "axs.set_title(\"Transaction over months\")"
      ]
    },
    {
      "cell_type": "markdown",
      "metadata": {
        "_cell_guid": "149f1ab4-b4c9-a29c-fa22-cc9150f11491"
      },
      "source": [
        "So, thers are less transaction on weekends. \n",
        "That's expected.\n",
        "\n",
        "Also we can notice  \n",
        "1. there is a deep decline of transactions from 2014 to 2015 and  \n",
        "2. the rise in transactions from 2013 to 2014"
      ]
    },
    {
      "cell_type": "markdown",
      "metadata": {
        "_cell_guid": "dd4acc12-bc8d-1353-711c-cf2819acd807"
      },
      "source": [
        "Columns: full_sq and life_sq"
      ]
    },
    {
      "cell_type": "markdown",
      "metadata": {
        "_cell_guid": "3066897e-4bcd-4fc2-05df-5dcf9f0e7df0"
      },
      "source": [
        "Let's have a look at how they have grown over these years"
      ]
    },
    {
      "cell_type": "code",
      "execution_count": null,
      "metadata": {
        "_cell_guid": "04ac7414-240d-6527-1fc3-5da6e4cccb08"
      },
      "outputs": [],
      "source": [
        "yr_grp = train.groupby(\"year\").mean().reset_index()\n",
        "fig, ax = mplt.subplots(ncols=2)\n",
        "fig.set_size_inches(10, 3)\n",
        "\n",
        "sns.barplot(data=yr_grp, x=\"year\", y=\"full_sq\", orient=\"v\", ax=ax[0])\n",
        "ax[0].set_title(\"full_sq over the years\")\n",
        "\n",
        "sns.barplot(data=yr_grp, x=\"year\", y=\"life_sq\", orient=\"v\", ax=ax[1])\n",
        "ax[1].set_title(\"life_sq over the years\")"
      ]
    },
    {
      "cell_type": "markdown",
      "metadata": {
        "_cell_guid": "084a9251-0c6f-86d8-98ee-e18138c9bccc"
      },
      "source": [
        "It looks like people start preferring larger houses.  \n",
        "Living area includes rooms in the houses. So, we now will have a look at the number of rooms(num_room) feature"
      ]
    },
    {
      "cell_type": "code",
      "execution_count": null,
      "metadata": {
        "_cell_guid": "e48932ea-65cf-3d23-bbcb-356f46c374af"
      },
      "outputs": [],
      "source": [
        "sns.heatmap(train[[\"full_sq\", \"life_sq\", \"num_room\", \"price_doc\"]].corr(), annot=True)"
      ]
    },
    {
      "cell_type": "markdown",
      "metadata": {
        "_cell_guid": "ac5ee5b7-2c61-3925-a6e3-865b4eaacfe5"
      },
      "source": [
        "Lets have a look at the year difference between the year of transaction and the year built"
      ]
    },
    {
      "cell_type": "code",
      "execution_count": null,
      "metadata": {
        "_cell_guid": "e6b54b14-debc-0f42-c831-e1ce5713b57e"
      },
      "outputs": [],
      "source": [
        "mode_by_own = train.loc[train.product_type == \"OwnerOccupier\", \"build_year\"].mode()[0]\n",
        "mode_by_invest = train.loc[train.product_type == \"Investment\", \"build_year\"].mode()[0]\n",
        "(mode_by_own, mode_by_invest)"
      ]
    },
    {
      "cell_type": "code",
      "execution_count": null,
      "metadata": {
        "_cell_guid": "c01d1357-2b4a-ab77-1b4e-a1752cbd6ebb"
      },
      "outputs": [],
      "source": [
        "train.loc[(train.product_type == \"OwnerOccupier\") & (train.build_year.isnull()), \"build_year\"] = mode_by_own\n",
        "train.loc[(train.product_type == \"Investment\") & (train.build_year.isnull()), \"build_year\"] = mode_by_invest"
      ]
    },
    {
      "cell_type": "code",
      "execution_count": null,
      "metadata": {
        "_cell_guid": "65f2b11f-9dcb-efe4-d5a6-79b5262d3d6e"
      },
      "outputs": [],
      "source": [
        "train[\"year_difference\"] = train.year - train.build_year"
      ]
    },
    {
      "cell_type": "code",
      "execution_count": null,
      "metadata": {
        "_cell_guid": "e6190729-074a-abb5-b119-aceba9e6a2c8"
      },
      "outputs": [],
      "source": [
        "inv_val = train.loc[train.product_type == \"Investment\", \"year_difference\"].values\n",
        "own_val = train.loc[train.product_type == \"OwnerOccupier\", \"year_difference\"].values"
      ]
    },
    {
      "cell_type": "code",
      "execution_count": null,
      "metadata": {
        "_cell_guid": "945ecc68-d381-83e1-31e5-0bc63a732a95"
      },
      "outputs": [],
      "source": [
        "fig, ax = mplt.subplots(nrows=2)\n",
        "fig.set_size_inches(15, 10)\n",
        "ax[0].hist(inv_val)\n",
        "ax[0].set_title(\"Year difference for investment buildings\")\n",
        "sns.countplot(own_val, ax=ax[1])\n",
        "ax[1].set_title(\"Year difference for owner occupied buildings\")"
      ]
    },
    {
      "cell_type": "code",
      "execution_count": null,
      "metadata": {
        "_cell_guid": "4b391800-9c84-a9fb-fe05-b0235d017b46"
      },
      "outputs": [],
      "source": [
        "train.loc[train.full_sq < 10, :].shape"
      ]
    },
    {
      "cell_type": "markdown",
      "metadata": {
        "_cell_guid": "b3904a97-ce9e-ffcf-9f5c-016278212e82"
      },
      "source": [
        "Seems, there are too small houses"
      ]
    },
    {
      "cell_type": "code",
      "execution_count": null,
      "metadata": {
        "_cell_guid": "435aecad-d065-224b-3024-c4a452c52660"
      },
      "outputs": [],
      "source": [
        "train.loc[train.full_sq < train.life_sq,:].shape"
      ]
    },
    {
      "cell_type": "markdown",
      "metadata": {
        "_cell_guid": "3a257771-a463-7ae9-3254-8481cadda2bd"
      },
      "source": [
        "These 37 records have living area(without ballconies and non-residential areas) greater than its total area.\n",
        "\n",
        "So, we can impute their total area with their living area"
      ]
    },
    {
      "cell_type": "code",
      "execution_count": null,
      "metadata": {
        "_cell_guid": "8dab54b3-7dfd-ea49-316f-5a330d8c0489"
      },
      "outputs": [],
      "source": [
        "train.loc[train.full_sq < train.life_sq, \"full_sq\"] = train.life_sq"
      ]
    },
    {
      "cell_type": "code",
      "execution_count": null,
      "metadata": {
        "_cell_guid": "43cb1017-be47-0e95-09cd-aa35fe5c331f"
      },
      "outputs": [],
      "source": [
        "train.loc[train.floor > train.max_floor, :].shape"
      ]
    },
    {
      "cell_type": "markdown",
      "metadata": {
        "_cell_guid": "936018dc-1ae2-9e8c-dec9-f6d89039c298"
      },
      "source": [
        "There are also records with floor values greater than the maximum floors in the building"
      ]
    },
    {
      "cell_type": "code",
      "execution_count": null,
      "metadata": {
        "_cell_guid": "825c8bce-009a-dfde-1ffb-96e6eb810a44"
      },
      "outputs": [],
      "source": [
        "train.loc[train.kitch_sq > train.full_sq, :].shape"
      ]
    },
    {
      "cell_type": "markdown",
      "metadata": {
        "_cell_guid": "e62791c7-d081-17b8-e1c3-54cbaa145e57"
      },
      "source": [
        "These have their kitchen area larger than the total area of the house"
      ]
    },
    {
      "cell_type": "code",
      "execution_count": null,
      "metadata": {
        "_cell_guid": "464866bd-6573-8da5-85cd-1dab4e391a7c"
      },
      "outputs": [],
      "source": [
        "rooms = train[[\"num_room\", \"price_doc\"]].groupby(\"num_room\").aggregate(np.mean).reset_index()\n",
        "mplt.scatter(x=rooms.num_room, y=rooms.price_doc)\n",
        "mplt.xlabel(\"Num rooms\")\n",
        "mplt.ylabel('Mean Price')"
      ]
    },
    {
      "cell_type": "markdown",
      "metadata": {
        "_cell_guid": "1d25b620-8347-c1c6-6cc0-fd33e704468c"
      },
      "source": [
        "8 rooms seems plausible. \n",
        "\n",
        "But then, a house with many rooms but with a price more or less to a house with an average of 5 or 6 rooms seems like we have an erroneous entry"
      ]
    },
    {
      "cell_type": "code",
      "execution_count": null,
      "metadata": {
        "_cell_guid": "0cef43cd-ec92-c3f5-b8da-645b5e1a5f36"
      },
      "outputs": [],
      "source": [
        "population_errors = train.full_all - (train.male_f + train.female_f)\n",
        "sns.countplot(population_errors)"
      ]
    },
    {
      "cell_type": "markdown",
      "metadata": {
        "_cell_guid": "f52d386c-15cd-326c-6f0c-d4cd09a8d85e"
      },
      "source": [
        "It looks like full_all is not the exact sum of male and female population. We can eliminate this column and use the ratio of male and female population as a feature"
      ]
    },
    {
      "cell_type": "code",
      "execution_count": null,
      "metadata": {
        "_cell_guid": "650fe514-f3c7-c9f7-05ae-be9c7c7a0f91"
      },
      "outputs": [],
      "source": [
        "train.loc[(train.state < 1) ^ (train.state > 4), \"state\"] = np.nan\n",
        "inv_counts = train[train.product_type == \"Investment\"][\"state\"].value_counts()\n",
        "own_counts = train[train.product_type == \"OwnerOccupier\"][\"state\"].value_counts()\n",
        "product_category = pd.DataFrame([inv_counts, own_counts])\n",
        "product_category.index = [\"Investment\", \"OwnerOccupier\"]\n",
        "product_category.plot(kind=\"bar\", stacked=True)"
      ]
    },
    {
      "cell_type": "markdown",
      "metadata": {
        "_cell_guid": "24c0458f-7c53-9f0f-3256-f1c926407a73"
      },
      "source": [
        "https://www.kaggle.com/c/sberbank-russian-housing-market/discussion/32247#180000\n",
        "\n",
        "According to this thread, it seems most owner occupied houses are of best quality"
      ]
    },
    {
      "cell_type": "markdown",
      "metadata": {
        "_cell_guid": "98314e4e-1b52-da01-2792-15fc8db02f14"
      },
      "source": [
        "Will add more...\n",
        "Upvote if you find it useful"
      ]
    }
  ],
  "metadata": {
    "_change_revision": 0,
    "_is_fork": false,
    "kernelspec": {
      "display_name": "Python 3",
      "language": "python",
      "name": "python3"
    },
    "language_info": {
      "codemirror_mode": {
        "name": "ipython",
        "version": 3
      },
      "file_extension": ".py",
      "mimetype": "text/x-python",
      "name": "python",
      "nbconvert_exporter": "python",
      "pygments_lexer": "ipython3",
      "version": "3.6.0"
    }
  },
  "nbformat": 4,
  "nbformat_minor": 0
}