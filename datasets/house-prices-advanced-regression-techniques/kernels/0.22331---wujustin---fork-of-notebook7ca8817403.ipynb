{
  "metadata": {
    "kernelspec": {
      "name": "python"
    },
    "language_info": {
      "name": "python",
      "version": "3.5.1"
    }
  },
  "nbformat": 4,
  "nbformat_minor": 0,
  "cells": [
    {
      "cell_type": "code",
      "execution_count": null,
      "metadata": {
        "_cell_guid": "ed8979e7-6eab-b624-46fc-720658242aa7",
        "_active": true
      },
      "outputs": [],
      "source": "# This Python 3 environment comes with many helpful analytics libraries installed\n# It is defined by the kaggle/python docker image: https://github.com/kaggle/docker-python\n# For example, here's several helpful packages to load in \n\n# pandas\nimport pandas as pd\nfrom pandas import Series,DataFrame\n\n# numpy, matplotlib, seaborn\nimport numpy as np\nimport matplotlib.pyplot as plt\nimport seaborn as sns\nsns.set_style('whitegrid')\n%matplotlib inline\n\n# machine learning\nfrom sklearn.linear_model import LogisticRegression\nfrom sklearn.svm import SVC, LinearSVC\nfrom sklearn.ensemble import RandomForestClassifier\nfrom sklearn.neighbors import KNeighborsClassifier\nfrom sklearn.naive_bayes import GaussianNB\nfrom sklearn import linear_model\n# Input data files are available in the \"../input/\" directory.\n# For example, running this (by clicking run or pressing Shift+Enter) will list the files in the input directory\n\nfrom subprocess import check_output\nprint(check_output([\"ls\", \"../input\"]).decode(\"utf8\"))\n\n# Any results you write to the current directory are saved as output.",
      "execution_state": "idle"
    },
    {
      "cell_type": "code",
      "execution_count": null,
      "metadata": {
        "_cell_guid": "b97f0b27-816a-c8c4-4be9-a594ecadb39c",
        "_active": false
      },
      "outputs": [],
      "source": "train_df = pd.read_csv('../input/train.csv')\ntest_df = pd.read_csv('../input/test.csv')\n\ntrain_df = train_df[['Id', 'LotArea', 'SalePrice', 'TotalBsmtSF', 'GrLivArea','GarageCars', 'YearBuilt', 'YrSold', 'PoolArea', 'TotRmsAbvGrd', 'FullBath', 'HalfBath', 'KitchenAbvGr', 'BedroomAbvGr']]\n#train_df['TotalBuildArea'] = train_df['GrLivArea'] + train_df['TotalBsmtSF']\ntrain_df['TotalBathAbvGr'] = train_df['FullBath'] + train_df['HalfBath']\ntrain_df['NumOfYear'] = train_df['YrSold'] - train_df['YearBuilt']\n#train_df['avgPrice'] = train_df['SalePrice'] / train_df['GrLivArea']\ntrain_df.drop(['Id', 'FullBath', 'HalfBath', 'KitchenAbvGr', 'BedroomAbvGr', 'YrSold', 'YearBuilt'], axis=1, inplace=True)\n#train_df['TotalBathBsmt'] = train_df['BsmtFullBath'] + train_df['BsmtHalfBath']\n\n\ntrain_df.info()",
      "execution_state": "idle"
    },
    {
      "cell_type": "code",
      "execution_count": null,
      "metadata": {
        "_cell_guid": "8c0844a4-797b-04f4-7585-d446f8332ea6",
        "_active": false
      },
      "outputs": [],
      "source": "test_df = test_df[['Id', 'LotArea', 'TotalBsmtSF', 'GrLivArea','GarageCars', 'YearBuilt', 'YrSold', 'PoolArea', 'TotRmsAbvGrd', 'FullBath', 'HalfBath', 'KitchenAbvGr', 'BedroomAbvGr']]\n\ntest_df['TotalBathAbvGr'] = test_df['FullBath'] + test_df['HalfBath']\ntest_df['NumOfYear'] = test_df['YrSold'] - test_df['YearBuilt']\ntest_df_Id = test_df['Id']\ntest_df.drop(['Id', 'FullBath', 'HalfBath', 'KitchenAbvGr', 'BedroomAbvGr', 'YrSold', 'YearBuilt'], axis=1, inplace=True)\n\ntest_df.info()",
      "execution_state": "idle"
    },
    {
      "cell_type": "code",
      "execution_count": null,
      "metadata": {
        "_cell_guid": "22c7a9e6-1e01-e2e2-e140-4b7f21130639",
        "_active": false
      },
      "outputs": [],
      "source": "train_df = train_df.loc[train_df['GrLivArea']<3500]\ntrain_df = train_df.loc[train_df['SalePrice']<400000]\ntrain_df = train_df.loc[train_df['LotArea']<30000]",
      "execution_state": "idle"
    },
    {
      "cell_type": "code",
      "execution_count": null,
      "metadata": {
        "_cell_guid": "efd6ed06-7810-1825-11ce-3fc4e13db077",
        "_active": false
      },
      "outputs": [],
      "source": "#test_df = test_df.loc[test_df['GrLivArea']<3500]\n#test_df = test_df.loc[test_df['LotArea']<30000]\n\nmean_BasmtSF = test_df['TotalBsmtSF'].mean()\nmean_GarageCars = test_df['GarageCars'].mean()\n\ntest_df['TotalBsmtSF'] = test_df['TotalBsmtSF'].fillna(mean_BasmtSF)\ntest_df['GarageCars'] = test_df['GarageCars'].fillna(mean_GarageCars)\ntest_df.info()",
      "execution_state": "idle"
    },
    {
      "cell_type": "code",
      "execution_count": null,
      "metadata": {
        "_cell_guid": "2f625970-17d6-ae3c-825a-209317f45b7d",
        "_active": false
      },
      "outputs": [],
      "source": "#train_df.count()\n#train_df['LotArea'].loc[train_df['LotArea']>40000].count()\n\nX_train = train_df.drop(['SalePrice'], axis=1)\nY_train = train_df['SalePrice']\nX_test = test_df.copy()",
      "execution_state": "idle"
    },
    {
      "cell_type": "code",
      "execution_count": null,
      "metadata": {
        "_cell_guid": "068e5608-fc2b-44a7-7200-5038a92ab825",
        "_active": false
      },
      "outputs": [],
      "source": "#ridge_reg = linear_model.Ridge(alpha = 0.01)\n#ridge_reg.fit(X_train, Y_train)\n#Y_pred = ridge_reg.predict(X_test)\n#ridge_reg.score(X_train, Y_train)",
      "execution_state": "idle"
    },
    {
      "cell_type": "code",
      "execution_count": null,
      "metadata": {
        "_cell_guid": "30499b6f-323b-1183-f5b6-4d14b5022526",
        "_active": false
      },
      "outputs": [],
      "source": "#lasso_reg = linear_model.Lasso(alpha = 0.01)\n#lasso_reg.fit(X_train, Y_train)\n#Y_pred = lasso_reg.predict(X_test)\n#lasso_reg.score(X_train, Y_train)",
      "execution_state": "idle"
    },
    {
      "cell_type": "code",
      "execution_count": null,
      "metadata": {
        "_cell_guid": "6cfd7e71-f5a8-f013-3770-056696da3c9b",
        "_active": false
      },
      "outputs": [],
      "source": "elast_reg = linear_model.ElasticNet(alpha=0.01, l1_ratio=0.7)\nelast_reg.fit(X_train, Y_train)\nY_pred = elast_reg.predict(X_test)\nelast_reg.score(X_train, Y_train)",
      "execution_state": "idle"
    },
    {
      "cell_type": "code",
      "execution_count": null,
      "metadata": {
        "_cell_guid": "5c77b8e0-9f4d-2fdf-a3a2-5664b2ab04fd",
        "_active": false
      },
      "outputs": [],
      "source": "##random_forest = RandomForestClassifier(n_estimators=200)\n\n#random_forest.fit(X_train, Y_train)\n\n#Y_pred = random_forest.predict(X_test)\n\n#random_forest.score(X_train, Y_train)",
      "execution_state": "idle"
    },
    {
      "cell_type": "code",
      "execution_count": null,
      "metadata": {
        "_cell_guid": "aec75114-f617-bacc-2b15-67cdb09bc0a8",
        "_active": false
      },
      "outputs": [],
      "source": "coeff_df = DataFrame(train_df.columns.delete(0))\ncoeff_df.columns = ['Features']\ncoeff_df[\"Coefficient Estimate\"] = pd.Series(elast_reg.coef_)\n\n# preview\ncoeff_df",
      "execution_state": "idle"
    },
    {
      "cell_type": "code",
      "execution_count": null,
      "metadata": {
        "_cell_guid": "8ed91bd0-810a-97f5-544e-94f8f3034834",
        "_active": false
      },
      "outputs": [],
      "source": "\n#fig, (axis1, axis2) = plt.subplots(2,1,figsize=(20,8))\n\n#train_df['newRooms'] = train_df['TotRmsAbvGrd']-train_df['TotalBathAbvGr']+train_df['TotalBathBsmt']-train_df['BedroomAbvGr']\n#sns.pointplot(x='GrLivArea', y='SalePrice', data=train_df[['SalePrice', 'GrLivArea']].loc[train_df['GrLivArea'] <= 4000], ax=axis1)\n#train_df['SalePrice'].plot(kind='line', ax=axis1)\n#train_df['LotArea'].plot(kind='line', ax=axis1)\n#train_df['GrLivArea'].plot(kind='line', ax=axis2)\n#train_df['KitchenAbvGr'].plot(kind='line', ax=axis1, xlim=(0, 10))",
      "execution_state": "idle"
    },
    {
      "cell_type": "code",
      "execution_count": null,
      "metadata": {
        "_cell_guid": "425e413b-784e-1290-d77f-04f4e62f48fa",
        "_active": false
      },
      "outputs": [],
      "source": "submission = pd.DataFrame({\n        \"Id\": test_df_Id,\n        \"SalePrice\": Y_pred\n    })\nsubmission.to_csv('HousePricePred_20161225.csv', index=False)",
      "execution_state": "idle"
    }
  ]
}