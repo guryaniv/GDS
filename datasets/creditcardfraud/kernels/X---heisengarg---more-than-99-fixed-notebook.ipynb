{
  "cells": [
    {
      "cell_type": "markdown",
      "metadata": {
        "_cell_guid": "7d8e5aad-4572-5fd2-be0f-eac29977cfa0"
      },
      "source": ""
    },
    {
      "cell_type": "code",
      "execution_count": null,
      "metadata": {
        "_cell_guid": "418ca669-ad3e-1814-0652-33c6bd20462a"
      },
      "outputs": [],
      "source": [
        "import pandas as pd\n",
        "import numpy as np\n",
        "import matplotlib.pyplot as plt\n",
        "import seaborn as sns\n",
        "%matplotlib inline\n",
        "\n",
        "from IPython.display import Image\n",
        "from IPython.core.display import HTML \n",
        "Image(url= \"http://images.memes.com/meme/592575\")"
      ]
    },
    {
      "cell_type": "markdown",
      "metadata": {
        "_cell_guid": "015f1fdb-9424-ccf4-21b4-38a51d99f077"
      },
      "source": ""
    },
    {
      "cell_type": "code",
      "execution_count": null,
      "metadata": {
        "_cell_guid": "51b85b87-9dc8-8dd4-c68a-ffcc53cb5d46"
      },
      "outputs": [],
      "source": [
        "df=pd.read_csv('../input/creditcard.csv')\n",
        "test=df.copy()"
      ]
    },
    {
      "cell_type": "code",
      "execution_count": null,
      "metadata": {
        "_cell_guid": "19aa2788-893b-31f1-c5a6-51a522d186ee"
      },
      "outputs": [],
      "source": [
        "df.shape"
      ]
    },
    {
      "cell_type": "markdown",
      "metadata": {
        "_cell_guid": "b06855df-ba6d-fd97-0b6e-989bfc875333"
      },
      "source": ""
    },
    {
      "cell_type": "code",
      "execution_count": null,
      "metadata": {
        "_cell_guid": "569be84b-0005-6fd6-77de-5d5ed538b032"
      },
      "outputs": [],
      "source": [
        "df.head()"
      ]
    },
    {
      "cell_type": "code",
      "execution_count": null,
      "metadata": {
        "_cell_guid": "77c4c97b-580a-020a-2815-ca630e5e9f83"
      },
      "outputs": [],
      "source": [
        "df.describe()"
      ]
    },
    {
      "cell_type": "code",
      "execution_count": null,
      "metadata": {
        "_cell_guid": "decc0356-b6dd-943d-5b7d-b1fced361c23"
      },
      "outputs": [],
      "source": [
        "plt.figure(figsize=(35,20))\n",
        "plt.plot(df.drop(['Time','Amount','Class'],axis=1))\n",
        "plt.legend(df.drop(['Time','Amount','Class',],axis=1).columns)\n",
        "plt.show()"
      ]
    },
    {
      "cell_type": "code",
      "execution_count": null,
      "metadata": {
        "_cell_guid": "93980cec-0efa-8e69-3393-713f185e187f"
      },
      "outputs": [],
      "source": [
        "Image(url= \"http://s2.quickmeme.com/img/db/dbc97d3b537a3b38f323b2cd9e97228de9342018e72bb18e3b36ec235a8783f5.jpg\")"
      ]
    },
    {
      "cell_type": "markdown",
      "metadata": {
        "_cell_guid": "be0118ad-267d-a9e7-46cf-eee912d512af"
      },
      "source": ""
    },
    {
      "cell_type": "code",
      "execution_count": null,
      "metadata": {
        "_cell_guid": "5ab942f1-da1f-3016-05b9-3f9e40a6a02a"
      },
      "outputs": [],
      "source": [
        "f, (ax1, ax2) = plt.subplots(1, 2)\n",
        "ax1.set_title('Feature V15')\n",
        "#ax1.set_yaxis('Value')\n",
        "ax1.plot(df['V15'])\n",
        "\n",
        "ax2.set_title('Amount')\n",
        "#ax2.yaxis('Value')\n",
        "ax2.plot(df['Amount'])\n",
        "\n",
        "f.set_figheight(5)\n",
        "f.set_figwidth(15)\n"
      ]
    },
    {
      "cell_type": "markdown",
      "metadata": {
        "_cell_guid": "b08daf31-fb48-abd6-c927-d7126dd138ca"
      },
      "source": ""
    },
    {
      "cell_type": "code",
      "execution_count": null,
      "metadata": {
        "_cell_guid": "20c6e78c-9b9c-d272-66c5-e4eb4d259c48"
      },
      "outputs": [],
      "source": [
        "Image(url='https://i.imgflip.com/1htaug.jpg',)"
      ]
    },
    {
      "cell_type": "code",
      "execution_count": null,
      "metadata": {
        "_cell_guid": "b54d602d-2611-aaf7-931b-3bf70e0c29c1"
      },
      "outputs": [],
      "source": [
        "plt.figure(figsize=(20,8))\n",
        "plt.ylim(0,4000)\n",
        "plt.plot(df['Amount'])\n",
        "plt.plot(df[df['Class']==1]['Amount'],'ro')\n",
        "plt.show()"
      ]
    },
    {
      "cell_type": "markdown",
      "metadata": {
        "_cell_guid": "225618f3-607c-8645-cdf0-199a665fe212"
      },
      "source": ""
    },
    {
      "cell_type": "markdown",
      "metadata": {
        "_cell_guid": "7e6af99b-9c71-1e33-ce69-f4548a041d25"
      },
      "source": ""
    },
    {
      "cell_type": "code",
      "execution_count": null,
      "metadata": {
        "_cell_guid": "8f17c1b8-f2a4-f73b-f62f-7ed8b9f76b85"
      },
      "outputs": [],
      "source": [
        "df['Time'][284806]/(60*60*24)  #The data provided is for almost 2 days \n",
        "                               #which is also mentioned in the dataset description -_-"
      ]
    },
    {
      "cell_type": "markdown",
      "metadata": {
        "_cell_guid": "beefe631-15e2-1523-7016-17fd9856ac49"
      },
      "source": ""
    },
    {
      "cell_type": "code",
      "execution_count": null,
      "metadata": {
        "_cell_guid": "b35b7295-27d0-0b44-04f2-dfabd40f9d26"
      },
      "outputs": [],
      "source": [
        "pos=np.where(df['Time'].values >= 60*60*24)\n",
        "df['Time'].values[pos]=df['Time'].values[pos]-60*60*24"
      ]
    },
    {
      "cell_type": "markdown",
      "metadata": {
        "_cell_guid": "ac36d14b-0288-01bd-6c6d-6c272cbc00b8"
      },
      "source": ""
    },
    {
      "cell_type": "code",
      "execution_count": null,
      "metadata": {
        "_cell_guid": "48814ed1-dc5a-8617-a836-09230f551786"
      },
      "outputs": [],
      "source": [
        "from sklearn.feature_selection import VarianceThreshold\n",
        "feat=df.iloc[:,0:df.shape[1]-1]\n",
        "\n",
        "X=feat.values\n",
        "y=df['Class'].values\n",
        "\n",
        "sel = VarianceThreshold()\n",
        "sel.fit_transform(X).shape"
      ]
    },
    {
      "cell_type": "markdown",
      "metadata": {
        "_cell_guid": "1fbd72fb-177d-de93-666a-89d4fe835631"
      },
      "source": ""
    },
    {
      "cell_type": "markdown",
      "metadata": {
        "_cell_guid": "7017ca37-3f74-9a5a-5113-88d2a6c64d02"
      },
      "source": ""
    },
    {
      "cell_type": "code",
      "execution_count": null,
      "metadata": {
        "_cell_guid": "fcd26d1d-4855-68bb-c639-028a0c9522f9"
      },
      "outputs": [],
      "source": [
        "from sklearn.tree import ExtraTreeClassifier\n",
        "from sklearn.ensemble import RandomForestClassifier\n",
        "plt.figure(figsize=(15,20))\n",
        "et=ExtraTreeClassifier()\n",
        "et=et.fit(X,y)\n",
        "fi=et.feature_importances_\n",
        "plt.barh(np.arange(len(feat.columns)),fi,align='center',alpha=0.8)\n",
        "plt.yticks(np.arange(len(feat.columns)),list(feat.columns))\n",
        "plt.title('Feature importance using Ensemble method',fontsize=20)\n",
        "plt.ylim(-1,len(feat.columns))\n",
        "plt.show()"
      ]
    },
    {
      "cell_type": "markdown",
      "metadata": {
        "_cell_guid": "469eb494-974d-57f2-daaf-9da1aa36f789"
      },
      "source": ""
    },
    {
      "cell_type": "code",
      "execution_count": null,
      "metadata": {
        "_cell_guid": "de38dd13-aa85-77da-1f4f-42bb6ea47840"
      },
      "outputs": [],
      "source": [
        "threshold=0.02\n",
        "sel_features=list(feat.columns[np.where(fi>=threshold)])\n",
        "sel_features"
      ]
    },
    {
      "cell_type": "markdown",
      "metadata": {
        "_cell_guid": "ad4ad3aa-ae01-21cc-a958-7d2b55af701e"
      },
      "source": ""
    },
    {
      "cell_type": "code",
      "execution_count": null,
      "metadata": {
        "_cell_guid": "58fedbc6-b7e2-feb6-07ef-9d6e95a9cbe8"
      },
      "outputs": [],
      "source": [
        "from sklearn.model_selection import cross_val_score\n",
        "\n",
        "score=cross_val_score(et,X,y)\n",
        "score.mean()"
      ]
    },
    {
      "cell_type": "markdown",
      "metadata": {
        "_cell_guid": "d3514966-82e6-920c-6913-3085940bac42"
      },
      "source": ""
    },
    {
      "cell_type": "code",
      "execution_count": null,
      "metadata": {
        "_cell_guid": "0fdadcc4-1c2c-d48b-6a58-fa94f0a25f04"
      },
      "outputs": [],
      "source": [
        "X_new=df[sel_features]\n",
        "et=ExtraTreeClassifier()\n",
        "et=et.fit(X_new,y)\n",
        "print(cross_val_score(et,X_new,y).mean())"
      ]
    },
    {
      "cell_type": "markdown",
      "metadata": {
        "_cell_guid": "93c0e2e4-e625-3365-ffff-6a892bc782eb"
      },
      "source": ""
    },
    {
      "cell_type": "code",
      "execution_count": null,
      "metadata": {
        "_cell_guid": "a6a3510b-344e-928c-f57d-3421ec3f22df"
      },
      "outputs": [],
      "source": [
        "Image(url='http://denisuca.com/wp-content/uploads/2014/06/thinking-meme-640x523.png')"
      ]
    },
    {
      "cell_type": "code",
      "execution_count": null,
      "metadata": {
        "_cell_guid": "7968c653-7aa5-e3c2-4cc2-4f6910c475ea"
      },
      "outputs": [],
      "source": [
        "threshold=0.01\n",
        "sel_features=list(feat.columns[np.where(fi>=threshold)])\n",
        "len(sel_features)"
      ]
    },
    {
      "cell_type": "code",
      "execution_count": null,
      "metadata": {
        "_cell_guid": "20807165-7eab-5d33-b364-70f973790b71"
      },
      "outputs": [],
      "source": [
        "X_new=df[sel_features]\n",
        "from sklearn.tree import DecisionTreeClassifier\n",
        "\n",
        "dt=DecisionTreeClassifier()\n",
        "dt=dt.fit(X_new,y)\n",
        "print(cross_val_score(dt,X_new,y))"
      ]
    },
    {
      "cell_type": "markdown",
      "metadata": {
        "_cell_guid": "5894c29c-f919-5212-77d2-68dd5d7916c7"
      },
      "source": ""
    },
    {
      "cell_type": "code",
      "execution_count": null,
      "metadata": {
        "_cell_guid": "04100858-7dbb-c9a2-b645-ee6d813a8819"
      },
      "outputs": [],
      "source": [
        "Image(url='https://cdn.meme.am/cache/images/folder883/5018883.jpg')"
      ]
    },
    {
      "cell_type": "code",
      "execution_count": null,
      "metadata": {
        "_cell_guid": "3988e990-bdbc-e982-8bbc-f18a430edfca",
        "collapsed": true
      },
      "outputs": [],
      "source": ""
    }
  ],
  "metadata": {
    "_change_revision": 0,
    "_is_fork": false,
    "kernelspec": {
      "display_name": "Python 3",
      "language": "python",
      "name": "python3"
    },
    "language_info": {
      "codemirror_mode": {
        "name": "ipython",
        "version": 3
      },
      "file_extension": ".py",
      "mimetype": "text/x-python",
      "name": "python",
      "nbconvert_exporter": "python",
      "pygments_lexer": "ipython3",
      "version": "3.5.2"
    }
  },
  "nbformat": 4,
  "nbformat_minor": 0
}