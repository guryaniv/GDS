{
  "cells": [
    {
      "cell_type": "markdown",
      "metadata": {
        "_cell_guid": "1c0645b0-256a-5833-cfdd-67e401be7d78"
      },
      "source": [
        "**Table of content**\n",
        "\n",
        "1. Real estate price per square meter vs GDP\n",
        "2. Real estate price per square meter vs micex\n",
        "3. Real estate price per square meter vs Exchange rates\n",
        "4. Real estate price per square meter vs Micex, and Oil price\n",
        "5. Moscow - Real estate price per square meter vs micex - shows that price trends depend on distance to Kremlin"
      ]
    },
    {
      "cell_type": "code",
      "execution_count": null,
      "metadata": {
        "_cell_guid": "03d6ecb3-689f-70f5-2505-731e1e3f9dde"
      },
      "outputs": [],
      "source": [
        "# This Python 3 environment comes with many helpful analytics libraries installed\n",
        "# It is defined by the kaggle/python docker image: https://github.com/kaggle/docker-python\n",
        "# For example, here's several helpful packages to load in \n",
        "\n",
        "import numpy as np # linear algebra\n",
        "import pandas as pd # data processing, CSV file I/O (e.g. pd.read_csv)\n",
        "import matplotlib.pyplot as plt\n",
        "\n",
        "# Input data files are available in the \"../input/\" directory.\n",
        "# For example, running this (by clicking run or pressing Shift+Enter) will list the files in the input directory\n",
        "\n",
        "from subprocess import check_output\n",
        "print(check_output([\"ls\", \"../input\"]).decode(\"utf8\"))\n",
        "\n",
        "# Any results you write to the current directory are saved as output."
      ]
    },
    {
      "cell_type": "code",
      "execution_count": null,
      "metadata": {
        "_cell_guid": "22dd8bff-b6fd-3223-3047-b3abe431854c"
      },
      "outputs": [],
      "source": [
        "train = pd.read_csv(\"../input/train.csv\")\n",
        "# first let's average per day\n",
        "gb = train.groupby(['timestamp'])\n",
        "gb.sum().head()\n",
        "dfagg = pd.DataFrame()\n",
        "dfagg['avg_price_per_sqm'] = gb.price_doc.sum() / gb.full_sq.sum()\n",
        "dfagg['rolling_average_immo'] = dfagg['avg_price_per_sqm'].rolling(30).mean()\n",
        "dfagg.reset_index(inplace=True)\n",
        "\n",
        "macro_df = pd.read_csv(\"../input/macro.csv\")\n",
        "macro_df['date'] = pd.to_datetime(macro_df['timestamp'])\n",
        "#macro_df['month'] = macro_df['month'].month\n",
        "macro_df.head(1)\n",
        "\n",
        "dfagg = pd.merge(dfagg, macro_df, how='left', on=['timestamp'])\n",
        "dfagg.head(1)"
      ]
    },
    {
      "cell_type": "markdown",
      "metadata": {
        "_cell_guid": "ead9f9fd-9765-06a4-3b50-f266c3606138"
      },
      "source": [
        " 1. **Real estate price per square meter vs GDP**"
      ]
    },
    {
      "cell_type": "code",
      "execution_count": null,
      "metadata": {
        "_cell_guid": "c2e7a1a1-9b93-b6cb-4b91-1ed0290d1f8a"
      },
      "outputs": [],
      "source": [
        "plt.figure(figsize=(12,6))\n",
        "plt.plot(dfagg['date'], dfagg['gdp_quart'], label='gdp')\n",
        "plt.plot(dfagg['date'], dfagg['rolling_average_immo']/5, label='real estate')\n",
        "plt.title('Real estate price per square meter vs GDP')\n",
        "plt.legend(loc='lower right')\n",
        "\n",
        "plt.ylim(0, 32000)\n",
        "plt.show()"
      ]
    },
    {
      "cell_type": "code",
      "execution_count": null,
      "metadata": {
        "_cell_guid": "4872d744-b5b9-754b-b27b-1859292b8acb"
      },
      "outputs": [],
      "source": [
        "plt.figure(figsize=(12,6))\n",
        "plt.plot(dfagg['date'], dfagg['gdp_quart_growth']*5, label='gdp_quart_growth')\n",
        "plt.plot(dfagg['date'], dfagg['rolling_average_immo']/10000, label='real estate')\n",
        "plt.title('Real estate price per square meter vs GDP')\n",
        "plt.legend(loc='lower right')\n",
        "\n",
        "#plt.ylim(0, 32000)\n",
        "plt.show()"
      ]
    },
    {
      "cell_type": "markdown",
      "metadata": {
        "_cell_guid": "4ab8aa9d-93f5-13a3-a080-1f941ed295c7"
      },
      "source": [
        "**2. Real estate price per square meter vs micex**"
      ]
    },
    {
      "cell_type": "code",
      "execution_count": null,
      "metadata": {
        "_cell_guid": "29ba17bb-ec5b-d071-6af1-b50abff9d280"
      },
      "outputs": [],
      "source": [
        "plt.figure(figsize=(12,6))\n",
        "plt.plot(macro_df['date'], macro_df['micex'], label='micex')\n",
        "plt.plot(dfagg['date'], dfagg['rolling_average_immo']/90, label='real estate')\n",
        "plt.title('Real estate price per square meter vs micex')\n",
        "plt.legend(loc='lower right')\n",
        "plt.ylim(0, 2200)\n",
        "plt.show()"
      ]
    },
    {
      "cell_type": "code",
      "execution_count": null,
      "metadata": {
        "_cell_guid": "4ca7d0ba-0992-2406-9b9e-aa38da1255bc"
      },
      "outputs": [],
      "source": [
        "plt.figure(figsize=(12,6))\n",
        "plt.plot(macro_df['date'], macro_df['micex_cbi_tr']*5, label='micex_cbi_tr')\n",
        "plt.plot(dfagg['date'], dfagg['rolling_average_immo']/90, label='real estate')\n",
        "plt.title('Real estate price per square meter vs micex_cbi_tr')\n",
        "plt.legend(loc='lower right')\n",
        "plt.ylim(0, 2200)\n",
        "plt.show()"
      ]
    },
    {
      "cell_type": "code",
      "execution_count": null,
      "metadata": {
        "_cell_guid": "69baa8ad-87e2-1fec-646e-38d43a235a48"
      },
      "outputs": [],
      "source": [
        "plt.figure(figsize=(12,6))\n",
        "plt.plot(macro_df['date'], macro_df['usdrub'], label='usdrub')\n",
        "plt.plot(macro_df['date'], macro_df['eurrub'], label='eurrub')\n",
        "plt.plot(dfagg['date'], dfagg['rolling_average_immo']/2000, label='real estate', linewidth=3)\n",
        "plt.title('Rolling average price per square meter vs Exchange rates')\n",
        "plt.legend(loc='lower right')\n",
        "plt.ylim(0, 100)\n",
        "plt.show()"
      ]
    },
    {
      "cell_type": "code",
      "execution_count": null,
      "metadata": {
        "_cell_guid": "1b280145-47dc-9714-c47c-117006c93540"
      },
      "outputs": [],
      "source": [
        "plt.figure(figsize=(12,6))\n",
        "plt.plot(macro_df['date'], macro_df['mortgage_rate'], label='mortgage_rate')\n",
        "plt.plot(macro_df['date'], macro_df['deposits_rate'], label='deposits_rate')\n",
        "plt.plot(dfagg['date'], dfagg['rolling_average_immo']/10000, label='real estate', linewidth=3)\n",
        "plt.title('Rolling average price per square meter vs mortgage rates, deposits rates')\n",
        "plt.legend(loc='lower right')\n",
        "plt.ylim(0, 20)\n",
        "plt.show()"
      ]
    },
    {
      "cell_type": "markdown",
      "metadata": {
        "_cell_guid": "3c3b6d01-6edd-0374-b176-e28d81100ee1"
      },
      "source": [
        " **3. Real estate price per square meter vs Exchange rates**"
      ]
    },
    {
      "cell_type": "code",
      "execution_count": null,
      "metadata": {
        "_cell_guid": "9ac1d423-8e62-9c1d-f04c-c543bdb92945"
      },
      "outputs": [],
      "source": [
        "plt.figure(figsize=(12,6))\n",
        "plt.plot(macro_df['date'], macro_df['oil_urals']*1000, label='oil_urals')\n",
        "plt.plot(macro_df['date'], macro_df['micex']*100, label='micex')\n",
        "plt.plot(dfagg['date'], dfagg['rolling_average_immo'], label='real estate', linewidth=3)\n",
        "plt.title('Rolling average price per square meter vs Micex, and Oil price')\n",
        "plt.legend(loc='lower right')\n",
        "plt.ylim(0, 220000)\n",
        "plt.show()"
      ]
    },
    {
      "cell_type": "markdown",
      "metadata": {
        "_cell_guid": "d7946e6b-9ab9-d695-889a-00ded15e2597"
      },
      "source": [
        "**Moscow - Price per square meter**"
      ]
    },
    {
      "cell_type": "code",
      "execution_count": null,
      "metadata": {
        "_cell_guid": "69330e8d-4147-ad2a-3e83-24f75af0e9a8"
      },
      "outputs": [],
      "source": [
        "gb = train[train['kremlin_km']<=20].groupby(['timestamp'])\n",
        "gb.sum().head()\n",
        "dfagg = pd.DataFrame()\n",
        "dfagg['avg_price_per_sqm'] = gb.price_doc.sum() / gb.full_sq.sum()\n",
        "dfagg['rolling_average_immo'] = dfagg['avg_price_per_sqm'].rolling(30).mean()\n",
        "dfagg.reset_index(inplace=True)\n",
        "\n",
        "macro_df = pd.read_csv(\"../input/macro.csv\")\n",
        "macro_df['date'] = pd.to_datetime(macro_df['timestamp'])\n",
        "#macro_df['month'] = macro_df['month'].month\n",
        "macro_df.head(1)\n",
        "\n",
        "dfagg = pd.merge(dfagg, macro_df, how='left', on=['timestamp'])\n",
        "dfagg.head(1)"
      ]
    },
    {
      "cell_type": "code",
      "execution_count": null,
      "metadata": {
        "_cell_guid": "a08aa4b3-ffa7-e27b-abcc-1b6da36d5782"
      },
      "outputs": [],
      "source": [
        "plt.figure(figsize=(12,6))\n",
        "plt.plot(macro_df['date'], macro_df['micex'], label='micex')\n",
        "plt.plot(dfagg['date'], dfagg['rolling_average_immo']/90, label='real estate')\n",
        "plt.title('Moscow - Real estate price per square meter vs micex')\n",
        "plt.legend(loc='lower right')\n",
        "plt.ylim(0, 2200)\n",
        "plt.show()"
      ]
    },
    {
      "cell_type": "code",
      "execution_count": null,
      "metadata": {
        "_cell_guid": "63306d74-b16b-c532-2963-cb214280e46e"
      },
      "outputs": [],
      "source": [
        "train['dist'] = np.round(train['kremlin_km']/5)"
      ]
    },
    {
      "cell_type": "code",
      "execution_count": null,
      "metadata": {
        "_cell_guid": "cfa162f5-ef12-36c4-7a26-760807f30378"
      },
      "outputs": [],
      "source": [
        "train.groupby(['dist']).count()"
      ]
    },
    {
      "cell_type": "markdown",
      "metadata": {
        "_cell_guid": "fbad8d44-c4ce-82c8-da59-7b732cf88e2c"
      },
      "source": [
        "**Average price per day depending on distance to Kremlin**"
      ]
    },
    {
      "cell_type": "code",
      "execution_count": null,
      "metadata": {
        "_cell_guid": "bb31c6c0-f173-f9ce-7c44-3d611a63eedb"
      },
      "outputs": [],
      "source": [
        "# first let's average per day\n",
        "train['date'] = pd.to_datetime(train['timestamp'])\n",
        "\n",
        "gb = train.groupby(['dist', 'date'])\n",
        "gb.sum().head()\n",
        "dfagg = pd.DataFrame()\n",
        "\n",
        "dfagg['avg_price_per_sqm'] = gb.price_doc.sum() / gb.full_sq.sum()\n",
        "dfagg.reset_index(inplace=True)\n",
        "dfagg['rolling_average_immo_1'] = dfagg[dfagg['dist']==1]['avg_price_per_sqm'].rolling(30).mean()\n",
        "dfagg['rolling_average_immo_2'] = dfagg[dfagg['dist']==2]['avg_price_per_sqm'].rolling(30).mean()\n",
        "dfagg['rolling_average_immo_3'] = dfagg[dfagg['dist']==3]['avg_price_per_sqm'].rolling(30).mean()\n",
        "dfagg['rolling_average_immo_4'] = dfagg[dfagg['dist']==4]['avg_price_per_sqm'].rolling(30).mean()\n",
        "\n",
        "dfagg.head(1)"
      ]
    },
    {
      "cell_type": "code",
      "execution_count": null,
      "metadata": {
        "_cell_guid": "21b62448-faa8-68e1-6ba5-1a8743ab7c27"
      },
      "outputs": [],
      "source": [
        "plt.figure(figsize=(14,8))\n",
        "#plt.plot(dfagg[dfagg['dist']==0]['avg_price_per_sqm'], label='avg price per square meter')\n",
        "plt.plot(dfagg['date'], dfagg['rolling_average_immo_1'], label='avg price per square meter - 5km')\n",
        "plt.plot(dfagg['date'], dfagg['rolling_average_immo_2'], label='avg price per square meter - 10km')\n",
        "plt.plot(dfagg['date'], dfagg['rolling_average_immo_3'], label='avg price per square meter - 15km')\n",
        "plt.plot(dfagg['date'], dfagg['rolling_average_immo_4'], label='avg price per square meter - 20km')\n",
        "plt.title('Average price per square meter depending on distance to Kremlin')\n",
        "plt.xlabel('days')\n",
        "plt.ylabel('average price per full_sqm')\n",
        "plt.legend(loc='lower right')\n",
        "plt.ylim(30000, 240000)\n",
        "plt.show()"
      ]
    }
  ],
  "metadata": {
    "_change_revision": 0,
    "_is_fork": false,
    "kernelspec": {
      "display_name": "Python 3",
      "language": "python",
      "name": "python3"
    },
    "language_info": {
      "codemirror_mode": {
        "name": "ipython",
        "version": 3
      },
      "file_extension": ".py",
      "mimetype": "text/x-python",
      "name": "python",
      "nbconvert_exporter": "python",
      "pygments_lexer": "ipython3",
      "version": "3.6.0"
    }
  },
  "nbformat": 4,
  "nbformat_minor": 0
}