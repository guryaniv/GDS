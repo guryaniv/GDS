{
  "cells": [
    {
      "cell_type": "markdown",
      "metadata": {
        "_cell_guid": "9ac6710c-0bbe-00a6-bf8f-096a79e1c154"
      },
      "source": [
        "Random Forest Model"
      ]
    },
    {
      "cell_type": "code",
      "execution_count": null,
      "metadata": {
        "_cell_guid": "7a2ee2a3-6a6d-3b1a-9cd4-1f2feb71fd13"
      },
      "outputs": [],
      "source": [
        "# This Python 3 environment comes with many helpful analytics libraries installed\n",
        "# It is defined by the kaggle/python docker image: https://github.com/kaggle/docker-python\n",
        "# For example, here's several helpful packages to load in \n",
        "\n",
        "import numpy as np # linear algebra\n",
        "import pandas as pd # data processing, CSV file I/O (e.g. pd.read_csv)\n",
        "\n",
        "# Input data files are available in the \"../input/\" directory.\n",
        "# For example, running this (by clicking run or pressing Shift+Enter) will list the files in the input directory\n",
        "\n",
        "from subprocess import check_output\n",
        "print(check_output([\"ls\", \"../input\"]).decode(\"utf8\"))\n",
        "\n",
        "# Any results you write to the current directory are saved as output.\n",
        "\n",
        "X_train = pd.read_json(\"../input/train.json\")\n",
        "X_test = pd.read_json(\"../input/test.json\")"
      ]
    },
    {
      "cell_type": "code",
      "execution_count": null,
      "metadata": {
        "_cell_guid": "f83692a4-1143-71ba-9132-3aa8486d7ebb"
      },
      "outputs": [],
      "source": [
        "\n",
        "X_train.head()"
      ]
    },
    {
      "cell_type": "code",
      "execution_count": null,
      "metadata": {
        "_cell_guid": "f396d6ba-2d35-cdd4-63f0-820cd0ee7b76"
      },
      "outputs": [],
      "source": [
        "X_train.shape"
      ]
    },
    {
      "cell_type": "code",
      "execution_count": null,
      "metadata": {
        "_cell_guid": "cc9a2fd0-0169-ff2b-5360-4cce57b4ff98"
      },
      "outputs": [],
      "source": [
        "X_test.head()"
      ]
    },
    {
      "cell_type": "code",
      "execution_count": null,
      "metadata": {
        "_cell_guid": "fcfb3757-3b8e-9f7f-a6e1-19994a15dfbe"
      },
      "outputs": [],
      "source": [
        "X_test.shape"
      ]
    },
    {
      "cell_type": "code",
      "execution_count": null,
      "metadata": {
        "_cell_guid": "eb2f358b-856c-6bc0-55f1-ec8a52e73889"
      },
      "outputs": [],
      "source": [
        "sample=pd.read_csv(\"../input/sample_submission.csv\")"
      ]
    },
    {
      "cell_type": "code",
      "execution_count": null,
      "metadata": {
        "_cell_guid": "5d24390d-79ef-4f41-427b-ed9ce570ff37"
      },
      "outputs": [],
      "source": [
        "sample.head()"
      ]
    },
    {
      "cell_type": "code",
      "execution_count": null,
      "metadata": {
        "_cell_guid": "ec8e4baf-07b5-1e32-56ea-ce128f863a30"
      },
      "outputs": [],
      "source": [
        "print(check_output([\"ls\", \"../input/images_sample/\"]).decode(\"utf8\"))"
      ]
    },
    {
      "cell_type": "code",
      "execution_count": null,
      "metadata": {
        "_cell_guid": "02e84a65-ab15-7b68-ea91-24acee88bb77"
      },
      "outputs": [],
      "source": [
        "import os\n",
        "import subprocess as sub\n",
        "from os import listdir\n",
        "from os.path import isfile, join\n",
        "onlyfiles = [f for f in listdir('../input/images_sample/6811957/') if isfile(join('../input/images_sample/6811957/', f))]\n",
        "print (onlyfiles)"
      ]
    },
    {
      "cell_type": "code",
      "execution_count": null,
      "metadata": {
        "_cell_guid": "7f5a6c8b-29a6-31e9-69b9-b1d8b90d8fd7"
      },
      "outputs": [],
      "source": [
        "import matplotlib.pyplot as plt\n",
        "import matplotlib.image as mpimg\n",
        "%matplotlib inline\n",
        "img=[]\n",
        "for i in range (0,5):\n",
        "    img.append(mpimg.imread('../input/images_sample/6811957/'+onlyfiles[i]))\n",
        "    plt.imshow(img[i])\n",
        "    fig = plt.figure()\n",
        "    a=fig.add_subplot()\n",
        "    "
      ]
    },
    {
      "cell_type": "code",
      "execution_count": null,
      "metadata": {
        "_cell_guid": "1d744eb3-0479-8556-2f75-b5a79983350e"
      },
      "outputs": [],
      "source": [
        "type(X_train)"
      ]
    },
    {
      "cell_type": "code",
      "execution_count": null,
      "metadata": {
        "_cell_guid": "8bdaeb6f-9852-775d-d395-78e83e55e09a"
      },
      "outputs": [],
      "source": [
        "\n",
        "\n",
        "X_train.dropna(subset = ['interest_level'])\n",
        "print(X_train.shape)\n",
        "print (X_train['interest_level'])"
      ]
    },
    {
      "cell_type": "code",
      "execution_count": null,
      "metadata": {
        "_cell_guid": "db633e22-fdf4-1a04-4903-bb5fb547107c"
      },
      "outputs": [],
      "source": [
        "\n",
        "grouped = X_train.groupby(['interest_level'])\n",
        "print(X_train.shape)\n",
        "print(len(X_train))\n",
        "print (grouped.size())\n",
        "#probability\n",
        "print (grouped.size()/len(X_train))\n",
        "\n",
        "# P(H), high,low,meidum\n",
        "P_H=(grouped.size()/len(X_train))\n",
        "P_H"
      ]
    },
    {
      "cell_type": "code",
      "execution_count": null,
      "metadata": {
        "_cell_guid": "65720273-0cf1-cdf6-5d1b-a5e5da28f9dd"
      },
      "outputs": [],
      "source": [
        "from sklearn.ensemble import RandomForestClassifier\n",
        "from sklearn.model_selection import train_test_split\n",
        "from sklearn.metrics import log_loss\n",
        "X_train[\"num_photos\"] = X_train[\"photos\"].apply(len)\n",
        "X_train[\"num_features\"] = X_train[\"features\"].apply(len)\n",
        "X_train[\"num_description_words\"] = X_train[\"description\"].apply(lambda x: len(x.split(\" \")))\n",
        "X_train[\"created\"] = pd.to_datetime(X_train[\"created\"])\n",
        "X_train[\"created_year\"] = X_train[\"created\"].dt.year\n",
        "X_train[\"created_month\"] = X_train[\"created\"].dt.month\n",
        "X_train[\"created_day\"] = X_train[\"created\"].dt.day\n",
        "num_feats = [\"bathrooms\", \"bedrooms\", \"latitude\", \"longitude\", \"price\",\n",
        "             \"num_photos\", \"num_features\", \"num_description_words\",\n",
        "             \"created_year\", \"created_month\", \"created_day\"]\n",
        "X = X_train[num_feats]\n",
        "y = X_train[\"interest_level\"]\n",
        "\n",
        "X_train2, X_val, y_train2, y_val = train_test_split(X, y, test_size=0.1)"
      ]
    },
    {
      "cell_type": "code",
      "execution_count": null,
      "metadata": {
        "_cell_guid": "11d180cc-e37e-c4d5-f0d5-dfef93db20e1"
      },
      "outputs": [],
      "source": [
        "type(X_train['features'])"
      ]
    },
    {
      "cell_type": "code",
      "execution_count": null,
      "metadata": {
        "_cell_guid": "3228f135-4109-6fc3-e137-562d9cd714e8"
      },
      "outputs": [],
      "source": [
        "\n",
        "X_test[\"num_photos\"] = X_test[\"photos\"].apply(len)\n",
        "X_test[\"num_features\"] = X_test[\"features\"].apply(len)\n",
        "X_test[\"num_description_words\"] = X_test[\"description\"].apply(lambda x: len(x.split(\" \")))\n",
        "X_test[\"created\"] = pd.to_datetime(X_test[\"created\"])\n",
        "X_test[\"created_year\"] = X_test[\"created\"].dt.year\n",
        "X_test[\"created_month\"] = X_test[\"created\"].dt.month\n",
        "X_test[\"created_day\"] = X_test[\"created\"].dt.day\n",
        "X_test2 = X_test[num_feats]\n",
        "\n",
        "y_orig = X_train[\"interest_level\"]\n",
        "y_high=[1 if x=='high' else 0 for x in y_orig]\n",
        "y_medium=[1 if x=='medium' else 0 for x in y_orig]\n",
        "y_low=[1 if x=='low' else 0 for x in y_orig]\n",
        "y=pd.DataFrame({'high':y_high,'medium':y_medium,'low':y_low})\n",
        "type(y['high'])"
      ]
    },
    {
      "cell_type": "code",
      "execution_count": null,
      "metadata": {
        "_cell_guid": "9c5980a8-68d9-bac9-5925-fddc6765f1b9"
      },
      "outputs": [],
      "source": [
        "\n",
        "# Train uncalibrated random forest classifier on whole train and validation\n",
        "# data and evaluate on test data\n",
        "#rfmodel = RandomForestClassifier(n_estimators=300)\n",
        "#rfmodel.fit(X_train2, y_train2)"
      ]
    },
    {
      "cell_type": "code",
      "execution_count": null,
      "metadata": {
        "_cell_guid": "ca5d771a-d094-23f1-cf85-6798c1a8749a"
      },
      "outputs": [],
      "source": [
        "#y_val_pred = rfmodel.predict_proba(X_val)\n",
        "#log_loss(y_val, y_val_pred)"
      ]
    },
    {
      "cell_type": "markdown",
      "metadata": {
        "_cell_guid": "0709700f-1035-40c9-49e5-772f45bc291c"
      },
      "source": [
        "**Follow other work of Bayesian method\n",
        "\n",
        "\n",
        "----------\n",
        "\n",
        "\n",
        "**"
      ]
    },
    {
      "cell_type": "code",
      "execution_count": null,
      "metadata": {
        "_cell_guid": "54c3941a-06df-b57c-f85c-651a059b5791"
      },
      "outputs": [],
      "source": [
        ""
      ]
    },
    {
      "cell_type": "code",
      "execution_count": null,
      "metadata": {
        "_cell_guid": "e104e490-5369-3636-83ec-2a9deb2e8b58"
      },
      "outputs": [],
      "source": [
        "#predictClasses=['high','medium','low']\n",
        "#resultNormal={}\n",
        "#resultBayesian={}"
      ]
    },
    {
      "cell_type": "code",
      "execution_count": null,
      "metadata": {
        "_cell_guid": "5d75ffb2-f3a1-31eb-50fe-84bbaca91e21"
      },
      "outputs": [],
      "source": [
        "\"\"\"\n",
        "for p in predictClasses:\n",
        "    print('Training model:',p)\n",
        "    model = RandomForestClassifier(n_estimators=300)\n",
        "    model.fit(X, y[p])\n",
        "    # P(m|H)\n",
        "    P_m_given_H={}\n",
        "    yHat=model.predict(X.ix[np.array(y[p])==1,:])\n",
        "    P_m_given_H[0]=sum(yHat==0)*1.0/len(yHat)\n",
        "    P_m_given_H[1]=sum(yHat==1)*1.0/len(yHat)\n",
        "    P_m_given_H\n",
        "    # P(m)\n",
        "    P_m={}\n",
        "    yHatAll=model.predict(X)\n",
        "    P_m[0]=sum(yHatAll==0)*1.0/len(yHatAll)\n",
        "    P_m[1]=sum(yHatAll==1)*1.0/len(yHatAll)\n",
        "    \n",
        "    Factor={}\n",
        "    Factor[0]=P_m_given_H[0]/P_m[0]\n",
        "    Factor[1]=P_m_given_H[1]/P_m[1]\n",
        "    \n",
        "    print ('Factor :', Factor)\n",
        "    print ('P(m)   :', P_m)\n",
        "    print ('P(m|H) :', P_m_given_H)\n",
        "    \n",
        "    Hi=sum(y[p]==1)*1.0/len(y[p])\n",
        "    \n",
        "    yHat=model.predict(X_test2)\n",
        "    \n",
        "    resultNormal[p]=yHat\n",
        "    resultBayesian[p]=Hi*np.array([Factor[m] for m in yHat])\"\"\""
      ]
    },
    {
      "cell_type": "code",
      "execution_count": null,
      "metadata": {
        "_cell_guid": "2ce726eb-3507-4069-7c9d-1caa720073db"
      },
      "outputs": [],
      "source": [
        "\"\"\"\n",
        "resultBayesian['listing_id'] = X_test['listing_id']\n",
        "resultBayesian = pd.DataFrame(resultBayesian)[['listing_id', 'high', 'medium', 'low']]\n",
        "\n",
        "resultNormal['listing_id'] = X_test['listing_id']\n",
        "resultNormal = pd.DataFrame(resultNormal)[['listing_id', 'high', 'medium', 'low']]\"\"\""
      ]
    },
    {
      "cell_type": "code",
      "execution_count": null,
      "metadata": {
        "_cell_guid": "95f6bff9-9a84-d1a1-6b62-fa6ece2204ba"
      },
      "outputs": [],
      "source": [
        "\"\"\"\n",
        "print(resultBayesian.head())\n",
        "print(resultNormal.head())\"\"\""
      ]
    },
    {
      "cell_type": "markdown",
      "metadata": {
        "_cell_guid": "cf32bb75-dc18-acdc-51d2-8ee74be38df5"
      },
      "source": [
        "**improvement with predict_proba instead of predict**\n",
        "-------------------------------------------------"
      ]
    },
    {
      "cell_type": "markdown",
      "metadata": {
        "_cell_guid": "e23df060-42a2-57cb-2d4e-80b071ee483f"
      },
      "source": [
        "*try y_high with predict_proba*"
      ]
    },
    {
      "cell_type": "code",
      "execution_count": null,
      "metadata": {
        "_cell_guid": "3d28fa9d-adc8-4eb4-2e92-82c2b71b6111"
      },
      "outputs": [],
      "source": [
        "\"\"\"\n",
        "predictClasses=['high','medium','low']\n",
        "resultNormal={}\n",
        "resultBayesian={}\n",
        "p='high'\n",
        "print('Training model:',p)\n",
        "model = RandomForestClassifier(n_estimators=300)\n",
        "model.fit(X, y[p])\"\"\""
      ]
    },
    {
      "cell_type": "code",
      "execution_count": null,
      "metadata": {
        "_cell_guid": "82bdfd2f-d8e8-1878-3ada-d30d3bfa87e0"
      },
      "outputs": [],
      "source": [
        "# P(m|H)\n",
        "#P_m_given_H={}\n",
        "#yHat=model.predict_proba(X.ix[np.array(y[p])==1,:])"
      ]
    },
    {
      "cell_type": "code",
      "execution_count": null,
      "metadata": {
        "_cell_guid": "af8f37e5-f78f-e293-6c90-287786f89021"
      },
      "outputs": [],
      "source": [
        "#print(yHat)\n",
        "#print(yHat[:,1])"
      ]
    },
    {
      "cell_type": "code",
      "execution_count": null,
      "metadata": {
        "_cell_guid": "21ce4beb-f1b6-fd19-66f9-05890f5492b2"
      },
      "outputs": [],
      "source": [
        "\"\"\"\n",
        "import scipy.stats\n",
        "from matplotlib import pyplot as plt\n",
        "df_0=yHat[:,0]\n",
        "df_1=yHat[:,1]\n",
        "pdf_high_1=scipy.stats.kde.gaussian_kde(df_1)\n",
        "pdf_high_0=scipy.stats.kde.gaussian_kde(df_0)\n",
        "x=np.linspace(0,1,1000)\n",
        "#f=pdf(x)\n",
        "plt.plot(x,pdf_high_1(x))\n",
        "plt.show()\"\"\""
      ]
    },
    {
      "cell_type": "code",
      "execution_count": null,
      "metadata": {
        "_cell_guid": "60859da7-bfb9-c996-82be-ef449cb12af8"
      },
      "outputs": [],
      "source": [
        "#P_m_given_high={}\n",
        "#P_m_given_high['nonhigh']=pdf_high_0\n",
        "#P_m_given_high['high']=pdf_high_1"
      ]
    },
    {
      "cell_type": "code",
      "execution_count": null,
      "metadata": {
        "_cell_guid": "8e3c7b81-6d68-767d-a630-3d4722a59da6"
      },
      "outputs": [],
      "source": [
        "#print(P_m_given_high['high'](0.55))\n",
        "#print(P_m_given_high['nonhigh'](0.55))\n",
        "#print(P_m_given_high)"
      ]
    },
    {
      "cell_type": "code",
      "execution_count": null,
      "metadata": {
        "_cell_guid": "cb9c3819-f5ae-d7c4-e5ed-8be2a319507e"
      },
      "outputs": [],
      "source": [
        "\"\"\"\n",
        "P_m={}\n",
        "yHatAll=model.predict_proba(X)\n",
        "print(yHatAll)\n",
        "P_m['nonhigh']=scipy.stats.kde.gaussian_kde(yHatAll[:,0])\n",
        "P_m['high']=scipy.stats.kde.gaussian_kde(yHatAll[:,1])\n",
        "print(P_m)\"\"\""
      ]
    },
    {
      "cell_type": "code",
      "execution_count": null,
      "metadata": {
        "_cell_guid": "a25edf2c-b08b-b7f1-6747-27b9fd0bb9df"
      },
      "outputs": [],
      "source": [
        "\"\"\"\n",
        "yHat_test=model.predict_proba(X_test2)\n",
        "print(yHat_test)\"\"\""
      ]
    },
    {
      "cell_type": "code",
      "execution_count": null,
      "metadata": {
        "_cell_guid": "cdbd1f29-0162-b91b-39fc-637f32a31ddb"
      },
      "outputs": [],
      "source": [
        "\"\"\"\n",
        "print(yHat_test[0,0])\n",
        "print(yHat_test[0,1])\"\"\""
      ]
    },
    {
      "cell_type": "code",
      "execution_count": null,
      "metadata": {
        "_cell_guid": "c5650872-2c99-aabb-e7dc-4151a1db7b6a"
      },
      "outputs": [],
      "source": [
        "\"\"\"\n",
        "[P_m_given_high['nonhigh'](yHat_test[0,0])/P_m['nonhigh'](yHat_test[0,0]),\n",
        "P_m_given_high['high'](yHat_test[0,1])/P_m['high'](yHat_test[0,1])]\"\"\""
      ]
    },
    {
      "cell_type": "code",
      "execution_count": null,
      "metadata": {
        "_cell_guid": "d9bb6d3d-99ec-eafb-183a-acad3e455c4c"
      },
      "outputs": [],
      "source": [
        "\"\"\"\n",
        "predictClasses=['high','medium','low']\n",
        "resultNormal={}\n",
        "resultBayesian={}\n",
        "for p in predictClasses:\n",
        "    print('Training model:',p)\n",
        "    model = RandomForestClassifier(n_estimators=300)\n",
        "    model.fit(X, y[p])\n",
        "    # P(m|H)\n",
        "    P_m_given_H={}\n",
        "    yHat=model.predict_proba(X.ix[np.array(y[p])==1,:])\n",
        "    P_m_given_H[0]=np.mean(yHat[:,0])\n",
        "    P_m_given_H[1]=np.mean(yHat[:,1])\n",
        "    P_m_given_H\n",
        "    # P(m)\n",
        "    P_m={}\n",
        "    yHatAll=model.predict_proba(X)\n",
        "    P_m[0]=np.mean(yHatAll[:,0])\n",
        "    P_m[1]=np.mean(yHatAll[:,1])\n",
        "    \n",
        "    Factor={}\n",
        "    Factor[0]=P_m_given_H[0]/P_m[0]\n",
        "    Factor[1]=P_m_given_H[1]/P_m[1]\n",
        "    \n",
        "    print ('Factor :', Factor)\n",
        "    print ('P(m)   :', P_m)\n",
        "    print ('P(m|H) :', P_m_given_H)\n",
        "    \n",
        "    Hi=np.mean(y[p]==1)\n",
        "    \n",
        "    yHat=model.predict(X_test2)\n",
        "    \n",
        "    resultNormal[p]=yHat\n",
        "    resultBayesian[p]=Hi*np.array([Factor[m] for m in yHat])\n",
        "\n",
        "resultBayesian['listing_id'] = X_test['listing_id']\n",
        "resultBayesian = pd.DataFrame(resultBayesian)[['listing_id', 'high', 'medium', 'low']]\n",
        "\n",
        "resultNormal['listing_id'] = X_test['listing_id']\n",
        "resultNormal = pd.DataFrame(resultNormal)[['listing_id', 'high', 'medium', 'low']]\n",
        "\n",
        "print(resultBayesian.head())\n",
        "print(resultNormal.head())\"\"\""
      ]
    },
    {
      "cell_type": "code",
      "execution_count": null,
      "metadata": {
        "_cell_guid": "6ac98d16-9643-872e-327a-290bdbfc0328"
      },
      "outputs": [],
      "source": [
        ""
      ]
    },
    {
      "cell_type": "markdown",
      "metadata": {
        "_cell_guid": "3020e2a7-8909-cd90-c660-b1cf9d11d9aa"
      },
      "source": [
        "**some improvement with 3 clusters.**\n",
        "---------------------------------"
      ]
    },
    {
      "cell_type": "markdown",
      "metadata": {
        "_cell_guid": "edcee426-f8db-32b4-115d-540f5adefdde"
      },
      "source": [
        "$P(H_{high}|m)=P(H_{high})*P(m|H_{high})/P(m)$\n",
        "Let m=(\\hat P(H_high),\\hat P(H_medium))"
      ]
    },
    {
      "cell_type": "code",
      "execution_count": null,
      "metadata": {
        "_cell_guid": "3bb1caeb-0f33-10a8-93e4-5216c5b64c15"
      },
      "outputs": [],
      "source": [
        "X_train2.shape,y_train2.shape,X_val.shape,y_val.shape"
      ]
    },
    {
      "cell_type": "code",
      "execution_count": null,
      "metadata": {
        "_cell_guid": "8b320d2c-6714-b153-6899-362c307ce013"
      },
      "outputs": [],
      "source": [
        "resultNormal={}\n",
        "resultBayesian={}\n",
        "model = RandomForestClassifier(n_estimators=300)\n",
        "model.fit(X_train2, y_train2)"
      ]
    },
    {
      "cell_type": "code",
      "execution_count": null,
      "metadata": {
        "_cell_guid": "9080a3f6-e054-185a-cb80-0637c4de54e1"
      },
      "outputs": [],
      "source": [
        "yHat_all=model.predict_proba(X_train2)\n",
        "yHat_all_nonprob=model.predict(X_train2)"
      ]
    },
    {
      "cell_type": "code",
      "execution_count": null,
      "metadata": {
        "_cell_guid": "af0d2ce7-9c5c-3f79-6bc1-2021483c22b5"
      },
      "outputs": [],
      "source": [
        "yHat_all,yHat_all_nonprob"
      ]
    },
    {
      "cell_type": "code",
      "execution_count": null,
      "metadata": {
        "_cell_guid": "f34f141f-871c-7e59-366c-09b705379733"
      },
      "outputs": [],
      "source": [
        "len(yHat_all_nonprob==y_train2),sum(yHat_all_nonprob==y_train2)"
      ]
    },
    {
      "cell_type": "code",
      "execution_count": null,
      "metadata": {
        "_cell_guid": "423bb6f2-482a-0404-6577-c0e6c3040fb3"
      },
      "outputs": [],
      "source": [
        "y_val_m=y_val_m_given_high+y_val_m_given_low+y_val_m_given_medium"
      ]
    },
    {
      "cell_type": "code",
      "execution_count": null,
      "metadata": {
        "_cell_guid": "87c0a22e-b5db-5b1c-93c4-c93b3631e3de"
      },
      "outputs": [],
      "source": [
        "(np.array(y_train2)=='high',yHat_all_nonprob=='high')"
      ]
    },
    {
      "cell_type": "code",
      "execution_count": null,
      "metadata": {
        "_cell_guid": "5c2bf3eb-7ef7-aff7-53e0-c567af1ea893"
      },
      "outputs": [],
      "source": [
        "type(yHat_all_nonprob)"
      ]
    },
    {
      "cell_type": "code",
      "execution_count": null,
      "metadata": {
        "_cell_guid": "cd47dd43-d094-056c-b3f5-efae82be381b"
      },
      "outputs": [],
      "source": [
        "yHat_val=model.predict_proba(X_val)\n",
        "yHat_val.shape\n",
        "log_loss(y_val, yHat_val)"
      ]
    },
    {
      "cell_type": "markdown",
      "metadata": {
        "_cell_guid": "bb45afc8-b028-b004-7595-6a3af4f288e9"
      },
      "source": [
        "## Use predict, not predict_prob"
      ]
    },
    {
      "cell_type": "code",
      "execution_count": null,
      "metadata": {
        "_cell_guid": "eec8b8f9-0f8e-3fad-1a9c-dc62f75b71ea"
      },
      "outputs": [],
      "source": [
        "y_val_nonprob_m_given_high=[yHat_all_nonprob[x] for x in range(len(yHat_all)) if (np.array(y_train2)[x]=='high' and yHat_all_nonprob[x]=='high')]\n",
        "y_val_nonprob_m_given_low=[yHat_all_nonprob[x] for x in range(len(yHat_all)) if (np.array(y_train2)[x]=='low' and yHat_all_nonprob[x]=='low')]\n",
        "y_val_nonprob_m_given_medium=[yHat_all_nonprob[x] for x in range(len(yHat_all)) if (np.array(y_train2)[x]=='medium' and yHat_all_nonprob[x]=='medium')]\n",
        "y_val_nonprob_m=y_val_nonprob_m_given_high+y_val_nonprob_m_given_low+y_val_nonprob_m_given_medium\n",
        "len(y_val_nonprob_m_given_high),len(y_val_nonprob_m_given_low),len(y_val_nonprob_m_given_medium),len(y_val_nonprob_m)"
      ]
    },
    {
      "cell_type": "code",
      "execution_count": null,
      "metadata": {
        "_cell_guid": "f227d65e-ad92-18cf-d12a-d4e6f2995431"
      },
      "outputs": [],
      "source": [
        "p_m=len(y_val_nonprob_m)/len(y_train2)\n",
        "p_m_given_high=len(y_val_nonprob_m_given_high)/sum(y_train2=='high')\n",
        "p_m_given_low=len(y_val_nonprob_m_given_low)/sum(y_train2=='low')\n",
        "p_m_given_medium=len(y_val_nonprob_m_given_medium)/sum(y_train2=='medium')"
      ]
    },
    {
      "cell_type": "code",
      "execution_count": null,
      "metadata": {
        "_cell_guid": "628d03b1-4e2d-af03-1a96-93ce47086891"
      },
      "outputs": [],
      "source": [
        "p_high_given_m=P_H['high']*p_m_given_high/p_m\n",
        "p_medium_given_m=P_H['medium']*p_m_given_medium/p_m\n",
        "p_low_given_m=P_H['low']*p_m_given_low/p_m\n",
        "p_high_given_m,p_medium_given_m,p_low_given_m,p_high_given_m+p_medium_given_m+p_low_given_m"
      ]
    },
    {
      "cell_type": "code",
      "execution_count": null,
      "metadata": {
        "_cell_guid": "b1a440fb-f2a9-711a-857f-e08353344b95"
      },
      "outputs": [],
      "source": [
        "resultBayesian_nonprob=[[p_high_given_m,p_low_given_m,p_medium_given_m]]*len(y_val)\n",
        "log_loss(y_val,yHat_val),log_loss(y_val, resultBayesian_nonprob)"
      ]
    },
    {
      "cell_type": "markdown",
      "metadata": {
        "_cell_guid": "70451191-a32c-ef37-a824-09f2944ccbe0"
      },
      "source": [
        "## Use predict_prob"
      ]
    },
    {
      "cell_type": "code",
      "execution_count": null,
      "metadata": {
        "_cell_guid": "ee73c3ef-3432-23af-25c9-e42060c6a91b"
      },
      "outputs": [],
      "source": [
        "y_val_m_given_high=[yHat_all[x,0] for x in range(len(yHat_all)) if (np.array(y_train2)[x]=='high' and yHat_all_nonprob[x]=='high')]\n",
        "y_val_m_given_low=[yHat_all[x,1] for x in range(len(yHat_all)) if (np.array(y_train2)[x]=='low' and yHat_all_nonprob[x]=='low')]\n",
        "y_val_m_given_medium=[yHat_all[x,2] for x in range(len(yHat_all)) if (np.array(y_train2)[x]=='medium' and yHat_all_nonprob[x]=='medium')]\n",
        "len(y_val_m_given_high),len(y_val_m_given_low),len(y_val_m_given_medium)"
      ]
    },
    {
      "cell_type": "code",
      "execution_count": null,
      "metadata": {
        "_cell_guid": "60d3cba2-28dc-2ccf-5a74-69366bb94bd6"
      },
      "outputs": [],
      "source": [
        "len(yHat_all),sum(yHat_all_nonprob==y_train2)"
      ]
    },
    {
      "cell_type": "code",
      "execution_count": null,
      "metadata": {
        "_cell_guid": "8609c123-7a23-19bb-84e4-c4eedd2c0525"
      },
      "outputs": [],
      "source": [
        "np.array(y_train2=='high'),yHat_all_nonprob=='high',(np.array(y_train2=='high'))& (yHat_all_nonprob=='high')"
      ]
    },
    {
      "cell_type": "code",
      "execution_count": null,
      "metadata": {
        "_cell_guid": "985626a2-4a8e-1e33-faa5-abd298231861"
      },
      "outputs": [],
      "source": [
        "import scipy.stats\n",
        "from matplotlib import pyplot as plt\n",
        "P_m=scipy.stats.kde.gaussian_kde(y_val_m)\n",
        "P_m_given_high=scipy.stats.kde.gaussian_kde(y_val_m_given_high)\n",
        "P_m_given_low=scipy.stats.kde.gaussian_kde(y_val_m_given_low)\n",
        "P_m_given_medium=scipy.stats.kde.gaussian_kde(y_val_m_given_medium)\n"
      ]
    },
    {
      "cell_type": "code",
      "execution_count": null,
      "metadata": {
        "_cell_guid": "ecae1fa8-ee2e-1011-65d0-fe5989235372"
      },
      "outputs": [],
      "source": [
        "resultBayesian['high']"
      ]
    },
    {
      "cell_type": "markdown",
      "metadata": {
        "_cell_guid": "017d90e0-5f92-cf94-6b43-f3e84fea8f32"
      },
      "source": [
        "p_high_given_HatHigh=p_high*p_HatHigh_given_high/p_HatHigh"
      ]
    },
    {
      "cell_type": "markdown",
      "metadata": {
        "_cell_guid": "9bdcbfd7-7722-ce4a-7db0-5be6c13657d5"
      },
      "source": [
        "p_H_given_m=p_h*p_m_given_h/p_m"
      ]
    },
    {
      "cell_type": "code",
      "execution_count": null,
      "metadata": {
        "_cell_guid": "3eca8609-0182-8e32-1905-5a5e8b09512e"
      },
      "outputs": [],
      "source": [
        "#test_select=range(100)"
      ]
    },
    {
      "cell_type": "code",
      "execution_count": null,
      "metadata": {
        "_cell_guid": "c3e1e9a6-c0aa-4807-35c3-7d496dd6b52f"
      },
      "outputs": [],
      "source": [
        "##factor_rf={}\n",
        "#factor_rf['high']=[float(P_m_given_high['low'](x))*1.0/float(P_m['low'](x)) for x in yHat_val[:,0]]\n",
        "#factor_rf['medium']=[float(P_m_given_medium['low'](x))*1.0/float(P_m['low'](x)) for x in yHat_val[:,2]]\n",
        "#factor_rf['low']=[float(P_m_given_low['low'](x))*1.0/float(P_m['low'](x)) for x in yHat_val[:,1]]"
      ]
    },
    {
      "cell_type": "code",
      "execution_count": null,
      "metadata": {
        "_cell_guid": "c33974ec-6302-0d2c-5e61-5db2ea2d248f"
      },
      "outputs": [],
      "source": [
        "##resultBayesian={}\n",
        "#resultBayesian['high']=[P_H['high'] * x for x in factor_rf['high']]\n",
        "#resultBayesian['medium']=[P_H['medium'] *x for x in factor_rf['medium']]\n",
        "#resultBayesian['low']=[P_H['low'] * x for x in factor_rf['low']]\n",
        "#resultBayesian['listing_id'] = X_test['listing_id']\n",
        "#resultBayesian = pd.DataFrame(resultBayesian)[['listing_id', 'high', 'medium', 'low']]\n",
        "#resultBayesian = pd.DataFrame(resultBayesian)[['high', 'low', 'medium']]"
      ]
    },
    {
      "cell_type": "code",
      "execution_count": null,
      "metadata": {
        "_cell_guid": "109be025-2f14-ffba-8138-f496b7b3b9d4"
      },
      "outputs": [],
      "source": [
        "#round(resultBayesian.head(),2)"
      ]
    },
    {
      "cell_type": "code",
      "execution_count": null,
      "metadata": {
        "_cell_guid": "4a92d8bc-6bb1-d1e1-2e46-7e1b435ec09c"
      },
      "outputs": [],
      "source": [
        "#log_loss(y_val, resultBayesian)"
      ]
    },
    {
      "cell_type": "code",
      "execution_count": null,
      "metadata": {
        "_cell_guid": "fb089b1f-b8e1-09a7-17fe-818725cd3b42"
      },
      "outputs": [],
      "source": [
        "\"\"\"Factor_new={}\n",
        "Bayesian_new={}\n",
        "for p in predictClasses:\n",
        "    print('Given H_',p)\n",
        "    # P(m|H)\n",
        "    P_m_given_H={}\n",
        "    yHat=model.predict(X.ix[y_orig==p,:])\n",
        "    P_m_given_H['high']=sum(yHat=='high')*1.0/len(yHat)\n",
        "    P_m_given_H['medium']=sum(yHat=='medium')*1.0/len(yHat)\n",
        "    P_m_given_H['low']=sum(yHat=='low')*1.0/len(yHat)\n",
        "    print('P(m|H):',P_m_given_H)\n",
        "    \n",
        "    # P(m)\n",
        "    P_m={}\n",
        "    yHatAll=model.predict(X)\n",
        "    P_m['high']=sum(yHatAll=='high')*1.0/len(yHatAll)\n",
        "    P_m['medium']=sum(yHatAll=='medium')*1.0/len(yHatAll)\n",
        "    P_m['low']=sum(yHatAll=='low')*1.0/len(yHatAll)\n",
        "    print('P(m):',P_m)\n",
        "    \n",
        "    Factor={}\n",
        "    Factor['high']=P_m_given_H['high']/P_m['high']\n",
        "    Factor['medium']=P_m_given_H['medium']/P_m['medium']\n",
        "    Factor['low']=P_m_given_H['low']/P_m['low']\n",
        "    print('Factor:',Factor)\n",
        "    \n",
        "    yHat=model.predict(X_test2)\n",
        "    resultNormal=yHat\n",
        "    \n",
        "    Factor_new[p]=Factor[p]\n",
        "    \n",
        "    Bayesian_new[p]=P_H[p]*Factor[p]\n",
        "print(Factor_new)\n",
        "print(Bayesian_new)\"\"\""
      ]
    },
    {
      "cell_type": "code",
      "execution_count": null,
      "metadata": {
        "_cell_guid": "38eead60-dd3a-74d9-22d4-5acf731e414e"
      },
      "outputs": [],
      "source": [
        "\"\"\"yHat=model.predict(X_test2)\n",
        "resultNormal=yHat\n",
        "resultBayesian=[Bayesian_new[m] for m in yHat]\"\"\""
      ]
    },
    {
      "cell_type": "code",
      "execution_count": null,
      "metadata": {
        "_cell_guid": "b3ca6246-18aa-7a2b-0f8a-b976356fe278"
      },
      "outputs": [],
      "source": [
        "#print(resultNormal)\n",
        "#print(resultBayesian)"
      ]
    },
    {
      "cell_type": "code",
      "execution_count": null,
      "metadata": {
        "_cell_guid": "a4577d22-92a5-aa36-2033-ea637e9b8248"
      },
      "outputs": [],
      "source": [
        "#plogloss=-np.mean(np.log(resultBayesian))"
      ]
    },
    {
      "cell_type": "code",
      "execution_count": null,
      "metadata": {
        "_cell_guid": "2add1100-7924-186d-59f1-f57c3770e111"
      },
      "outputs": [],
      "source": [
        ""
      ]
    }
  ],
  "metadata": {
    "_change_revision": 0,
    "_is_fork": false,
    "kernelspec": {
      "display_name": "Python 3",
      "language": "python",
      "name": "python3"
    },
    "language_info": {
      "codemirror_mode": {
        "name": "ipython",
        "version": 3
      },
      "file_extension": ".py",
      "mimetype": "text/x-python",
      "name": "python",
      "nbconvert_exporter": "python",
      "pygments_lexer": "ipython3",
      "version": "3.6.0"
    }
  },
  "nbformat": 4,
  "nbformat_minor": 0
}