{
  "metadata": {
    "kernelspec": {
      "display_name": "Python 3",
      "language": "python",
      "name": "python3"
    },
    "language_info": {
      "codemirror_mode": {
        "name": "ipython",
        "version": 3
      },
      "file_extension": ".py",
      "mimetype": "text/x-python",
      "name": "python",
      "nbconvert_exporter": "python",
      "pygments_lexer": "ipython3",
      "version": "3.6.0"
    }
  },
  "nbformat": 4,
  "nbformat_minor": 0,
  "cells": [
    {
      "cell_type": "markdown",
      "metadata": {
        "_cell_guid": "fb9db904-8d70-81ef-7e5a-8ed0bbbb5565",
        "_active": false
      },
      "source": "Shot in the dark in revising Bruno's script: drop training data points for super-huge houses (too influential!)",
      "outputs": []
    },
    {
      "cell_type": "code",
      "execution_count": 3,
      "metadata": {
        "_cell_guid": "7adbe232-6352-3ec1-4955-2b74f8a183bc",
        "_active": false
      },
      "outputs": [],
      "source": "import numpy as np\nimport pandas as pd\nimport xgboost as xgb\nimport matplotlib.pyplot as plt",
      "execution_state": "idle"
    },
    {
      "cell_type": "code",
      "execution_count": 4,
      "metadata": {
        "_cell_guid": "8bb3e4b7-cc38-f5ef-a767-8018c52e6297",
        "_active": false
      },
      "outputs": [],
      "source": "df_train = pd.read_csv(\"../input/train.csv\", parse_dates=['timestamp'])\ndf_test = pd.read_csv(\"../input/test.csv\", parse_dates=['timestamp'])\ndf_macro = pd.read_csv(\"../input/macro.csv\", parse_dates=['timestamp'])\n\ndf_train.head()",
      "execution_state": "idle"
    },
    {
      "cell_type": "code",
      "execution_count": 5,
      "metadata": {
        "_cell_guid": "ee683ec3-4977-1150-b621-bf603840957b",
        "_active": false
      },
      "outputs": [],
      "source": "# This section added:  drop crazy data points\nprint( df_train.life_sq.max() )\ndf_train.drop(df_train[df_train[\"life_sq\"] > 7000].index, inplace=True)\nprint( df_train.life_sq.max() )\n\nprint( df_train.full_sq.max() )\ndf_train.drop(df_train[df_train[\"full_sq\"] > 5000].index, inplace=True)\nprint( df_train.full_sq.max() )",
      "execution_state": "idle"
    },
    {
      "cell_type": "code",
      "execution_count": null,
      "metadata": {
        "_cell_guid": "96910ed8-cc3a-59db-93f7-9c3b27f6ea5d",
        "_active": false
      },
      "outputs": [],
      "source": "df_train['price_doc'].hist(bins=50)"
    },
    {
      "cell_type": "code",
      "execution_count": 6,
      "metadata": {
        "_cell_guid": "198b4ae5-6974-8012-f84e-b2067ee34a82",
        "_active": false
      },
      "outputs": [],
      "source": "y_train = df_train['price_doc'].values\nid_test = df_test['id']\n\ndf_train.drop(['id', 'price_doc'], axis=1, inplace=True)\ndf_test.drop(['id'], axis=1, inplace=True)\n\n# Build df_all = (df_train+df_test).join(df_macro)\nnum_train = len(df_train)\ndf_all = pd.concat([df_train, df_test])\ndf_all = df_all.join(df_macro, on='timestamp', rsuffix='_macro')\nprint(df_all.shape)\n\n# Add month-year\nmonth_year = (df_all.timestamp.dt.month + df_all.timestamp.dt.year * 100)\nmonth_year_cnt_map = month_year.value_counts().to_dict()\ndf_all['month_year_cnt'] = month_year.map(month_year_cnt_map)\n\n# Add week-year count\nweek_year = (df_all.timestamp.dt.weekofyear + df_all.timestamp.dt.year * 100)\nweek_year_cnt_map = week_year.value_counts().to_dict()\ndf_all['week_year_cnt'] = week_year.map(week_year_cnt_map)\n\n# Add month and day-of-week\ndf_all['month'] = df_all.timestamp.dt.month\ndf_all['dow'] = df_all.timestamp.dt.dayofweek\n\n# Other feature engineering\ndf_all['rel_floor'] = df_all['floor'] / df_all['max_floor'].astype(float)\ndf_all['rel_kitch_sq'] = df_all['kitch_sq'] / df_all['full_sq'].astype(float)\n\n# Remove timestamp column (may overfit the model in train)\ndf_all.drop(['timestamp', 'timestamp_macro'], axis=1, inplace=True)",
      "execution_state": "idle"
    },
    {
      "metadata": {
        "_cell_guid": "0bd561a5-87a4-3e54-3e39-cd2eefe1b90e",
        "_active": false,
        "collapsed": false
      },
      "source": "df_all.iloc[:,380:].isnull().sum()/df_all.shape[0]",
      "execution_count": 10,
      "cell_type": "code",
      "outputs": [],
      "execution_state": "idle"
    },
    {
      "cell_type": "code",
      "execution_count": 11,
      "metadata": {
        "_cell_guid": "5587747f-e71a-4125-3c91-b80ebec81872",
        "_active": false,
        "collapsed": false
      },
      "outputs": [],
      "source": "df_all.head()\nfactorize = lambda t: pd.factorize(t[1])[0]\n\ndf_obj = df_all.select_dtypes(include=['object'])\n\nX_all = np.c_[\n    df_all.select_dtypes(exclude=['object']).values,\n    np.array(list(map(factorize, df_obj.iteritems()))).T\n]\nprint(X_all.shape)\n\nX_train = X_all[:num_train]\nX_test = X_all[num_train:]",
      "execution_state": "idle"
    },
    {
      "cell_type": "code",
      "execution_count": 12,
      "metadata": {
        "_cell_guid": "19ded44b-38e7-e3e1-bc6a-e2cadf80131a",
        "_active": false
      },
      "outputs": [],
      "source": "# Deal with categorical values\ndf_numeric = df_all.select_dtypes(exclude=['object'])\ndf_obj = df_all.select_dtypes(include=['object']).copy()\n\nfor c in df_obj:\n    df_obj[c] = pd.factorize(df_obj[c])[0]\n\ndf_values = pd.concat([df_numeric, df_obj], axis=1)",
      "execution_state": "idle"
    },
    {
      "cell_type": "code",
      "execution_count": 13,
      "metadata": {
        "_cell_guid": "550c306b-a6a5-9c89-fe73-16796a7d9c22",
        "_active": false
      },
      "outputs": [],
      "source": "# Convert to numpy values\nX_all = df_values.values\nprint(X_all.shape)\n\nX_train = X_all[:num_train]\nX_test = X_all[num_train:]\n\ndf_columns = df_values.columns",
      "execution_state": "idle"
    },
    {
      "cell_type": "code",
      "execution_count": 14,
      "metadata": {
        "_cell_guid": "37cfa80a-1c83-58e9-c069-3708520bbf00",
        "_active": false,
        "collapsed": false
      },
      "outputs": [],
      "source": "xgb_params = {\n    'eta': 0.05,\n    'max_depth': 6,\n    'subsample': 0.7,\n    'colsample_bytree': 0.7,\n    'objective': 'reg:linear',\n    'eval_metric': 'rmse',\n    'silent': 1,\n    'gamma':1\n}\n\ndtrain = xgb.DMatrix(X_train, y_train, feature_names=df_columns)\ndtest = xgb.DMatrix(X_test, feature_names=df_columns)",
      "execution_state": "idle"
    },
    {
      "cell_type": "code",
      "execution_count": 15,
      "metadata": {
        "_cell_guid": "3be5ad13-630c-f47e-c97f-0d8cd0a22097",
        "_active": false
      },
      "outputs": [],
      "source": "# Uncomment to tune XGB `num_boost_rounds`\n\n#cv_result = xgb.cv(xgb_params, dtrain, num_boost_round=1000, early_stopping_rounds=20,\n#    verbose_eval=True, show_stdv=False)\n#cv_result[['train-rmse-mean', 'test-rmse-mean']].plot()\n#num_boost_rounds = len(cv_result)\n\nnum_boost_round = 489",
      "execution_state": "idle"
    },
    {
      "cell_type": "code",
      "execution_count": 16,
      "metadata": {
        "_cell_guid": "56ec63a2-ebfb-b2ef-4bc1-a8f4a3286852",
        "_active": false
      },
      "outputs": [],
      "source": "model = xgb.train(dict(xgb_params, silent=0), dtrain, num_boost_round=num_boost_round)",
      "execution_state": "idle"
    },
    {
      "cell_type": "code",
      "execution_count": 17,
      "metadata": {
        "_cell_guid": "6f41459b-4a7a-039c-40fa-a8bb6a73903c",
        "_active": false
      },
      "outputs": [],
      "source": "fig, ax = plt.subplots(1, 1, figsize=(8, 16))\nxgb.plot_importance(model, max_num_features=50, height=0.5, ax=ax)",
      "execution_state": "idle"
    },
    {
      "cell_type": "code",
      "execution_count": 18,
      "metadata": {
        "_cell_guid": "76c7e814-ffdd-afa8-19aa-585df067d48b",
        "_active": false
      },
      "outputs": [],
      "source": "y_pred = model.predict(dtest)\n\ndf_sub = pd.DataFrame({'id': id_test, 'price_doc': y_pred})\n\ndf_sub.to_csv('sub.csv', index=False)",
      "execution_state": "idle"
    },
    {
      "metadata": {
        "_cell_guid": "4633f451-6a89-b818-22ea-30c7923e97f5",
        "_active": false,
        "collapsed": false
      },
      "source": null,
      "execution_count": null,
      "cell_type": "code",
      "outputs": []
    }
  ]
}