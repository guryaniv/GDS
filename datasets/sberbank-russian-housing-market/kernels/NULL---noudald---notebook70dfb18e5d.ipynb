{
  "cells": [
    {
      "cell_type": "markdown",
      "metadata": {
        "_cell_guid": "7e760510-e332-c461-5551-37aa91bf21ae"
      },
      "source": [
        "Quick data exploration of Sberbank Rusian Housing"
      ]
    },
    {
      "cell_type": "code",
      "execution_count": null,
      "metadata": {
        "_cell_guid": "0f520c3c-755a-ae31-588f-2ae191352b61"
      },
      "outputs": [],
      "source": [
        "# This Python 3 environment comes with many helpful analytics libraries installed\n",
        "# It is defined by the kaggle/python docker image: https://github.com/kaggle/docker-python\n",
        "# For example, here's several helpful packages to load in \n",
        "\n",
        "import numpy as np # linear algebra\n",
        "import pandas as pd # data processing, CSV file I/O (e.g. pd.read_csv)\n",
        "import seaborn as sns\n",
        "\n",
        "import matplotlib.gridspec as gridspec\n",
        "import matplotlib.pyplot as plt\n",
        "\n",
        "import xgboost as xgb\n",
        "\n",
        "from time import mktime\n",
        "from datetime import datetime\n",
        "\n",
        "# Input data files are available in the \"../input/\" directory.\n",
        "# For example, running this (by clicking run or pressing Shift+Enter) will list the files in the input directory\n",
        "\n",
        "from subprocess import check_output\n",
        "print(check_output([\"ls\", \"../input\"]).decode(\"utf8\"))\n",
        "\n",
        "# Any results you write to the current directory are saved as output.\n",
        "\n"
      ]
    },
    {
      "cell_type": "code",
      "execution_count": null,
      "metadata": {
        "_cell_guid": "a3b61b4c-fd86-65d1-8d88-6b1fe5283bab"
      },
      "outputs": [],
      "source": [
        "train_df = pd.read_csv('../input/train.csv')\n",
        "print(train_df.shape)\n",
        "train_df.head()"
      ]
    },
    {
      "cell_type": "code",
      "execution_count": null,
      "metadata": {
        "_cell_guid": "495a062d-afe6-2a19-f4fc-36c4c5f19319"
      },
      "outputs": [],
      "source": [
        "train_df.describe()"
      ]
    },
    {
      "cell_type": "code",
      "execution_count": null,
      "metadata": {
        "_cell_guid": "d2900ec3-e36b-51d0-957e-05f8f010a461"
      },
      "outputs": [],
      "source": [
        "# Plot histogram of house price values\n",
        "plt.figure(figsize = (10, 8))\n",
        "dp = sns.distplot(train_df.price_doc.values, bins = 100)\n",
        "dp.set_xscale('log')\n",
        "plt.xlabel('House price')\n",
        "plt.show()"
      ]
    },
    {
      "cell_type": "code",
      "execution_count": null,
      "metadata": {
        "_cell_guid": "24316c4c-1bf6-b8e1-f399-7f12816533ff"
      },
      "outputs": [],
      "source": [
        "# Prepare dataset\n",
        "\n",
        "train_df = train_df.drop(['id'], axis = 1)\n",
        "\n",
        "# Convert timestamp to Gregorian timestamp\n",
        "toordinal = lambda x : datetime.strptime(x, '%Y-%m-%d').toordinal()\n",
        "train_df['gregorian'] = train_df['timestamp'].apply(toordinal) # Converts to proleptic Gregorian ordinal.\n",
        "\n",
        "# Convert catogorical values\n",
        "num_df = train_df.select_dtypes(exclude = ['object'])\n",
        "obj_df = train_df.select_dtypes(include = ['object']).copy()\n",
        "\n",
        "for c in obj_df:\n",
        "    obj_df[c] = pd.factorize(obj_df[c])[0]\n",
        "\n",
        "train_df = pd.concat([num_df, obj_df], axis=1)\n",
        "train_df"
      ]
    },
    {
      "cell_type": "code",
      "execution_count": null,
      "metadata": {
        "_cell_guid": "996f7a2c-0f3b-9063-14a1-4b821f83eef7"
      },
      "outputs": [],
      "source": [
        "# Train a simple linear regression classifier with xgboost\n",
        "X_train = train_df.drop(['price_doc'], axis = 1)\n",
        "y_train = train_df['price_doc']\n",
        "\n",
        "xgb_params = {\n",
        "    'eta': 0.1,\n",
        "    'max_depth': 7,\n",
        "    'subsample': 0.7,\n",
        "    'colsample_bytree': 0.7,\n",
        "    'objective': 'reg:linear',\n",
        "    'eval_metric': 'rmse'\n",
        "}\n",
        "\n",
        "dtrain = xgb.DMatrix(X_train, y_train)"
      ]
    },
    {
      "cell_type": "code",
      "execution_count": null,
      "metadata": {
        "_cell_guid": "22d40a52-18e6-076b-95c8-bb5d0ef147ef"
      },
      "outputs": [],
      "source": [
        "cv_result = xgb.cv(xgb_params, dtrain, num_boost_round = 1000, early_stopping_rounds = 50, verbose_eval = True, show_stdv = False)"
      ]
    },
    {
      "cell_type": "code",
      "execution_count": null,
      "metadata": {
        "_cell_guid": "3f259668-3092-7b5e-082a-c2f2d42ab927"
      },
      "outputs": [],
      "source": ""
    }
  ],
  "metadata": {
    "_change_revision": 0,
    "_is_fork": false,
    "kernelspec": {
      "display_name": "Python 3",
      "language": "python",
      "name": "python3"
    },
    "language_info": {
      "codemirror_mode": {
        "name": "ipython",
        "version": 3
      },
      "file_extension": ".py",
      "mimetype": "text/x-python",
      "name": "python",
      "nbconvert_exporter": "python",
      "pygments_lexer": "ipython3",
      "version": "3.6.0"
    }
  },
  "nbformat": 4,
  "nbformat_minor": 0
}