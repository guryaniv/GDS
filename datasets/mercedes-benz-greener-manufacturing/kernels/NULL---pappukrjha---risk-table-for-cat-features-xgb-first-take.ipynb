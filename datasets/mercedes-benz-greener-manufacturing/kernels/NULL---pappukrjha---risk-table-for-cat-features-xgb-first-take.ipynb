{
  "cells": [
    {
      "cell_type": "code",
      "execution_count": null,
      "metadata": {
        "_cell_guid": "98714aeb-aafd-42bd-4eaf-b7628c100dfa"
      },
      "outputs": [],
      "source": [
        "# This Python 3 environment comes with many helpful analytics libraries installed\n",
        "# It is defined by the kaggle/python docker image: https://github.com/kaggle/docker-python\n",
        "# For example, here's several helpful packages to load in \n",
        "\n",
        "import numpy as np # linear algebra\n",
        "import pandas as pd # data processing, CSV file I/O (e.g. pd.read_csv)\n",
        "\n",
        "# Input data files are available in the \"../input/\" directory.\n",
        "# For example, running this (by clicking run or pressing Shift+Enter) will list the files in the input directory\n",
        "\n",
        "from subprocess import check_output\n",
        "print(check_output([\"ls\", \"../input\"]).decode(\"utf8\"))\n",
        "\n",
        "# Any results you write to the current directory are saved as output."
      ]
    },
    {
      "cell_type": "markdown",
      "metadata": {
        "_cell_guid": "d8bf51e3-34c2-7ae5-acea-b8adf611a0c2"
      },
      "source": [
        "#Data Overview and Understanding"
      ]
    },
    {
      "cell_type": "code",
      "execution_count": null,
      "metadata": {
        "_cell_guid": "6eb79c47-5799-2053-24ee-b703bbb881d6"
      },
      "outputs": [],
      "source": [
        "import os\n",
        "\n",
        "for file in os.listdir(\"../input/\"):\n",
        "    print('-'*20,file,'-'*20,'\\n')\n",
        "    df = pd.read_csv(\"../input/\" + file)\n",
        "    print('Data shape : '.ljust(30), df.shape)\n",
        "    print('Data Info : ', df.info())\n",
        "    print('Data View : \\n', df.head())\n",
        "    print('\\n')"
      ]
    },
    {
      "cell_type": "markdown",
      "metadata": {
        "_cell_guid": "c10757c0-cda5-d9a3-6f73-ff20a9e8d2b9"
      },
      "source": [
        "**Read Data**"
      ]
    },
    {
      "cell_type": "code",
      "execution_count": null,
      "metadata": {
        "_cell_guid": "b02c2353-9120-acb3-6bbc-1f98b605f98f"
      },
      "outputs": [],
      "source": [
        "df_train = pd.read_csv('../input/train.csv')\n",
        "df_test  = pd.read_csv('../input/test.csv')\n"
      ]
    },
    {
      "cell_type": "markdown",
      "metadata": {
        "_cell_guid": "c17f7633-d5fe-338e-7cc9-648ec5e585ee"
      },
      "source": [
        "**Target Variable:**\n",
        "\n",
        "\"y\" is the variable we need to predict. So let us do some analysis on this variable first."
      ]
    },
    {
      "cell_type": "code",
      "execution_count": null,
      "metadata": {
        "_cell_guid": "ca5f2cb0-bdb4-ba60-f02c-210dd3d9657c"
      },
      "outputs": [],
      "source": [
        "import matplotlib.pyplot as plt\n",
        "import seaborn as sns\n",
        "\n",
        "plt.figure(figsize=(8,6))\n",
        "plt.scatter(range(df_train.shape[0]), np.sort(df_train.y.values))\n",
        "plt.xlabel('index', fontsize=12)\n",
        "plt.ylabel('y', fontsize=12)\n",
        "plt.show()"
      ]
    },
    {
      "cell_type": "markdown",
      "metadata": {
        "_cell_guid": "e5e8e018-14b1-0f5b-6ff7-a484057a48c8"
      },
      "source": [
        "Note - There a single point lying way above rest of the values. Y is distributed between 70 to 170\n",
        "\n",
        "**Distribution of Y**"
      ]
    },
    {
      "cell_type": "code",
      "execution_count": null,
      "metadata": {
        "_cell_guid": "81d72a22-7f53-bb4a-fb3b-8b996faf8de2"
      },
      "outputs": [],
      "source": [
        "ulimit = 180\n",
        "df_train['y'].ix[df_train['y']>ulimit] = ulimit\n",
        "\n",
        "plt.figure(figsize=(12,8))\n",
        "sns.distplot(df_train.y.values, bins=50, kde=False)\n",
        "plt.xlabel('y value', fontsize=12)\n",
        "plt.show()"
      ]
    },
    {
      "cell_type": "markdown",
      "metadata": {
        "_cell_guid": "4dc96532-5f4a-c691-005c-b782477d2a85"
      },
      "source": [
        "**Data Types**"
      ]
    },
    {
      "cell_type": "code",
      "execution_count": null,
      "metadata": {
        "_cell_guid": "1cdce55c-eb6a-b972-d863-060486fb6efc"
      },
      "outputs": [],
      "source": [
        "dtype_df = df_train.dtypes.reset_index()\n",
        "dtype_df.columns = [\"Count\", \"Column Type\"]\n",
        "dtype_df.groupby(\"Column Type\").aggregate('count').reset_index()"
      ]
    },
    {
      "cell_type": "markdown",
      "metadata": {
        "_cell_guid": "45ba975f-9235-6fee-6a9e-5eb9ccab51ad"
      },
      "source": [
        "**Missing values:**\n",
        "\n",
        "Let us now check for the missing values."
      ]
    },
    {
      "cell_type": "code",
      "execution_count": null,
      "metadata": {
        "_cell_guid": "bd987cca-b9d6-45f0-9da8-fcccacb93810"
      },
      "outputs": [],
      "source": [
        "missing_df = df_train.isnull().sum(axis=0).reset_index()\n",
        "missing_df.columns = ['column_name', 'missing_count']\n",
        "missing_df = missing_df.ix[missing_df['missing_count']>0]\n",
        "missing_df = missing_df.sort_values(by='missing_count')\n",
        "missing_df"
      ]
    },
    {
      "cell_type": "markdown",
      "metadata": {
        "_cell_guid": "5c9d8fe6-ae3c-d1ba-71c6-ed0f35c2c388"
      },
      "source": [
        "**Integer Columns**"
      ]
    },
    {
      "cell_type": "code",
      "execution_count": null,
      "metadata": {
        "_cell_guid": "e9664bc5-b464-24b3-12b6-31e0bc3d9f1f"
      },
      "outputs": [],
      "source": [
        "unique_values_dict = {}\n",
        "for col in df_train.columns:\n",
        "    if col not in [\"ID\", \"y\", \"X0\", \"X1\", \"X2\", \"X3\", \"X4\", \"X5\", \"X6\", \"X8\"]:\n",
        "        unique_value = str(np.sort(df_train[col].unique()).tolist())\n",
        "        tlist = unique_values_dict.get(unique_value, [])\n",
        "        tlist.append(col)\n",
        "        unique_values_dict[unique_value] = tlist[:]\n",
        "for unique_val, columns in unique_values_dict.items():\n",
        "    print(\"Columns containing the unique values : \",unique_val)\n",
        "    print(columns)\n",
        "    print(\"--------------------------------------------------\")"
      ]
    },
    {
      "cell_type": "markdown",
      "metadata": {
        "_cell_guid": "3451337c-c3d3-cddc-f202-ae1adc1b7981"
      },
      "source": [
        "**Categorical Columns**"
      ]
    },
    {
      "cell_type": "code",
      "execution_count": null,
      "metadata": {
        "_cell_guid": "e68ac872-0c3b-7668-dbea-ef57b1c0aa5e"
      },
      "outputs": [],
      "source": [
        "var_name = \"X0\"\n",
        "col_order = np.sort(df_train[var_name].unique()).tolist()\n",
        "plt.figure(figsize=(12,6))\n",
        "sns.stripplot(x=var_name, y='y', data=df_train, order=col_order)\n",
        "plt.xlabel(var_name, fontsize=12)\n",
        "plt.ylabel('y', fontsize=12)\n",
        "plt.title(\"Distribution of y variable with \"+var_name, fontsize=15)\n",
        "plt.show()"
      ]
    },
    {
      "cell_type": "code",
      "execution_count": null,
      "metadata": {
        "_cell_guid": "20465e0c-98be-25cf-9991-81f86fc65d86"
      },
      "outputs": [],
      "source": [
        "var_name = \"X2\"\n",
        "col_order = np.sort(df_train[var_name].unique()).tolist()\n",
        "plt.figure(figsize=(12,6))\n",
        "sns.boxplot(x=var_name, y='y', data=df_train, order=col_order)\n",
        "plt.xlabel(var_name, fontsize=12)\n",
        "plt.ylabel('y', fontsize=12)\n",
        "plt.title(\"Distribution of y variable with \"+var_name, fontsize=15)\n",
        "plt.show()"
      ]
    },
    {
      "cell_type": "code",
      "execution_count": null,
      "metadata": {
        "_cell_guid": "70e8edce-0121-28e2-6e31-2f91ae21bb61"
      },
      "outputs": [],
      "source": [
        "var_name = \"X3\"\n",
        "col_order = np.sort(df_train[var_name].unique()).tolist()\n",
        "plt.figure(figsize=(12,6))\n",
        "sns.violinplot(x=var_name, y='y', data=df_train, order=col_order)\n",
        "plt.xlabel(var_name, fontsize=12)\n",
        "plt.ylabel('y', fontsize=12)\n",
        "plt.title(\"Distribution of y variable with \"+var_name, fontsize=15)\n",
        "plt.show()"
      ]
    },
    {
      "cell_type": "code",
      "execution_count": null,
      "metadata": {
        "_cell_guid": "d2307283-4900-7c94-ee39-6e1b70b4fe56"
      },
      "outputs": [],
      "source": [
        "var_name = \"X4\"\n",
        "col_order = np.sort(df_train[var_name].unique()).tolist()\n",
        "plt.figure(figsize=(12,6))\n",
        "sns.violinplot(x=var_name, y='y', data=df_train, order=col_order)\n",
        "plt.xlabel(var_name, fontsize=12)\n",
        "plt.ylabel('y', fontsize=12)\n",
        "plt.title(\"Distribution of y variable with \"+var_name, fontsize=15)\n",
        "plt.show()"
      ]
    },
    {
      "cell_type": "code",
      "execution_count": null,
      "metadata": {
        "_cell_guid": "36647d57-78dd-4f54-99c8-8de6f8b7e283"
      },
      "outputs": [],
      "source": [
        "var_name = \"X5\"\n",
        "col_order = np.sort(df_train[var_name].unique()).tolist()\n",
        "plt.figure(figsize=(12,6))\n",
        "sns.boxplot(x=var_name, y='y', data=df_train, order=col_order)\n",
        "plt.xlabel(var_name, fontsize=12)\n",
        "plt.ylabel('y', fontsize=12)\n",
        "plt.title(\"Distribution of y variable with \"+var_name, fontsize=15)\n",
        "plt.show()"
      ]
    },
    {
      "cell_type": "code",
      "execution_count": null,
      "metadata": {
        "_cell_guid": "9f5b9efc-89a8-b375-d0e9-1dd1ee8471f6"
      },
      "outputs": [],
      "source": [
        "var_name = \"X6\"\n",
        "col_order = np.sort(df_train[var_name].unique()).tolist()\n",
        "plt.figure(figsize=(12,6))\n",
        "sns.boxplot(x=var_name, y='y', data=df_train, order=col_order)\n",
        "plt.xlabel(var_name, fontsize=12)\n",
        "plt.ylabel('y', fontsize=12)\n",
        "plt.title(\"Distribution of y variable with \"+var_name, fontsize=15)\n",
        "plt.show()"
      ]
    },
    {
      "cell_type": "code",
      "execution_count": null,
      "metadata": {
        "_cell_guid": "69526ca1-90b7-f244-422e-3826311d7b21"
      },
      "outputs": [],
      "source": [
        "var_name = \"X8\"\n",
        "col_order = np.sort(df_train[var_name].unique()).tolist()\n",
        "plt.figure(figsize=(12,6))\n",
        "sns.boxplot(x=var_name, y='y', data=df_train, order=col_order)\n",
        "plt.xlabel(var_name, fontsize=12)\n",
        "plt.ylabel('y', fontsize=12)\n",
        "plt.title(\"Distribution of y variable with \"+var_name, fontsize=15)\n",
        "plt.show()"
      ]
    },
    {
      "cell_type": "markdown",
      "metadata": {
        "_cell_guid": "9a7a6b1b-9f33-e0b8-6a21-896e24d58a19"
      },
      "source": [
        "print(df_train.shape)\n",
        "print(df_test.shape)"
      ]
    },
    {
      "cell_type": "markdown",
      "metadata": {
        "_cell_guid": "bffd4080-fd65-59e2-e139-799eacb0cea0"
      },
      "source": [
        "**Convert Categorical features to numerical features - Risk Table Approach**"
      ]
    },
    {
      "cell_type": "code",
      "execution_count": null,
      "metadata": {
        "_cell_guid": "01ae6349-aabb-0ec7-0873-615a5381014a"
      },
      "outputs": [],
      "source": [
        "str_columns = []\n",
        "df_test_r = df_train.copy()\n",
        "\n",
        "for x in df_train.columns:\n",
        "    if(df_train[x].dtypes==object):\n",
        "        str_columns.append(x)\n",
        "\n",
        "def risk_score(df_r, df, var):\n",
        "    tmp = df_r.groupby(var)['y'].mean().reset_index()\n",
        "    tmp.columns = [var, 'r_' + var]\n",
        "    out_df = pd.merge(df, tmp, on = var, how = 'left')\n",
        "    del out_df[var]\n",
        "    return out_df\n",
        "\n",
        "for x in str_columns:\n",
        "    df_train = risk_score(df_train, df_train, x)\n",
        "\n",
        "for x in str_columns:\n",
        "    df_test = risk_score(df_test_r, df_test, x)"
      ]
    },
    {
      "cell_type": "markdown",
      "metadata": {
        "_cell_guid": "9dfb6180-d4ad-c652-9db0-f2b42c94fda3"
      },
      "source": [
        "#View Corr of features with y"
      ]
    },
    {
      "cell_type": "code",
      "execution_count": null,
      "metadata": {
        "_cell_guid": "5501057e-6a84-8da4-707b-cb6d6ed5547b"
      },
      "outputs": [],
      "source": [
        "import numpy\n",
        "\n",
        "for x in df_train.columns:\n",
        "    print(numpy.corrcoef(df_train[x],df_train['y'])[0,1])"
      ]
    },
    {
      "cell_type": "markdown",
      "metadata": {
        "_cell_guid": "cf757b0c-e56e-b757-6329-42985502b0ad"
      },
      "source": [
        "#Run basic XGBoost with all features"
      ]
    },
    {
      "cell_type": "code",
      "execution_count": null,
      "metadata": {
        "_cell_guid": "446016b7-cf29-a22b-d6f0-72ce790e69d2"
      },
      "outputs": [],
      "source": [
        "import matplotlib.pyplot as plt\n",
        "import seaborn as snsimport xgboost as xgb\n",
        "\n",
        "y_train = df_train['y'].values\n",
        "X_train = df_train.drop([\"ID\", \"y\"], axis=1)\n",
        "X_test  = df_test.drop([\"ID\"], axis=1)\n",
        "\n",
        "# Thanks to anokas for this #\n",
        "def xgb_r2_score(preds, dtrain):\n",
        "    labels = dtrain.get_label()\n",
        "    return 'r2', r2_score(labels, preds)\n",
        "\n",
        "xgb_params = {\n",
        "    'eta': 0.05,\n",
        "    'max_depth': 6,\n",
        "    'subsample': 0.7,\n",
        "    'colsample_bytree': 0.7,\n",
        "    'objective': 'reg:linear',\n",
        "    'silent': 1\n",
        "}\n",
        "dtrain = xgb.DMatrix(X_train, y_train, feature_names=X_train.columns.values)\n",
        "model = xgb.train(dict(xgb_params, silent=0), dtrain, num_boost_round=100, feval=xgb_r2_score, maximize=True)\n",
        "\n",
        "# plot the important features #\n",
        "fig, ax = plt.subplots(figsize=(12,18))\n",
        "xgb.plot_importance(model, max_num_features=50, height=0.8, ax=ax)\n",
        "plt.show()\n",
        "\n",
        "#write output\n",
        "pred_time = pd.DataFrame()\n",
        "dtest = xgb.DMatrix(X_test, feature_names=X_test.columns.values)\n",
        "pred_time['y'] = model.predict(dtest)\n",
        "pred_time['ID'] = df_test['ID']\n",
        "print(pred_time.shape)\n",
        "pred_time.to_csv('xgb_out.csv', index = False)"
      ]
    },
    {
      "cell_type": "code",
      "execution_count": null,
      "metadata": {
        "_cell_guid": "c647b89d-8654-1094-4e76-69c2e4f0feea"
      },
      "outputs": [],
      "source": [
        ""
      ]
    }
  ],
  "metadata": {
    "_change_revision": 0,
    "_is_fork": false,
    "kernelspec": {
      "display_name": "Python 3",
      "language": "python",
      "name": "python3"
    },
    "language_info": {
      "codemirror_mode": {
        "name": "ipython",
        "version": 3
      },
      "file_extension": ".py",
      "mimetype": "text/x-python",
      "name": "python",
      "nbconvert_exporter": "python",
      "pygments_lexer": "ipython3",
      "version": "3.6.0"
    }
  },
  "nbformat": 4,
  "nbformat_minor": 0
}