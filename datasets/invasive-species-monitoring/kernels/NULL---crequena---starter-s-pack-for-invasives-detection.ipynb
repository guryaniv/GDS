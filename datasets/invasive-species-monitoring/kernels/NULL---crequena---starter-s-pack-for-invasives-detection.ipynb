{
  "cells": [
    {
      "cell_type": "markdown",
      "metadata": {
        "_cell_guid": "c79aa0d7-2436-97f7-2573-79ec0e44b8f2"
      },
      "source": [
        "# Starter's Pack for Invasive Species Detection\n",
        "\n",
        "#### Hello everyone! This is Chris, the main researcher behind the dataset featured in this competition!\n",
        "\n",
        "First of all, we want to send a huge amount of thanks to Kaggle for making this nonprofit competition a real thing!\n",
        "\n",
        "I am here to help everyone getting a head start in the competition! We are going to be building a pretty simple yet very powerful classificator based on the blog entry [\"Building powerful image classification models using very little data\"](https://blog.keras.io/building-powerful-image-classification-models-using-very-little-data.html) by F. Chollet.\n",
        "\n",
        "We are going to make use of Keras (Theano as backend) and the VGG16 pretrained weights. We will build our own fully connected layers to replace the top of VGG16 and later fine-tune the model for a few epochs (so we get some juicy extra AUC points in the leaderboard). The training is light, so it should run in an average Intel I5 laptop's CPU overnight!\n",
        "\n",
        "To keep the code as similar as possible to the blog entry, this notebook is compiling together what in the blog are 2 different scripts. We are doing so sequentially, so it is easier to go to the source blog and get better understanding. First, we are going to predict features for our training and validation sets for the last convolutional layers and save those to disk. Then we are going to use those predicted features to train our little fully connected model that will tell us whether there is or not an invasive species.\n"
      ]
    },
    {
      "cell_type": "code",
      "execution_count": null,
      "metadata": {
        "_cell_guid": "64f2b6e7-95e3-7d99-8718-92311b9071d3"
      },
      "outputs": [],
      "source": [
        "import os\n",
        "import h5py\n",
        "import numpy as np\n",
        "from keras.preprocessing.image import ImageDataGenerator\n",
        "from keras.models import Sequential\n",
        "from keras.layers import Convolution2D, MaxPooling2D, ZeroPadding2D\n",
        "from keras.layers import Activation, Dropout, Flatten, Dense\n",
        "from keras import optimizers\n",
        "\n",
        "# path to the model weights file.\n",
        "weights_path = 'vgg16_weights.h5'\n",
        "top_model_weights_path = 'bottleneck_fc_model.h5'\n",
        "# dimensions of our images.\n",
        "img_width, img_height = 200, 150"
      ]
    },
    {
      "cell_type": "markdown",
      "metadata": {
        "_cell_guid": "a084fb6c-1181-ca3f-65da-99af83c2e93b"
      },
      "source": [
        "For the code to work without changes on it, it is needed to download the training set and create a folder structure just like this one:\n",
        "\n",
        "main.py <br>\n",
        "-----/data/train    (Here I am placing 1795 pictures from the training set)<br>\n",
        "-----/data/train/Invasive<br>\n",
        "-----/data/train/No_Invasive<br>\n",
        "-----/data/validation    (and here 500 pictures as our validation set)<br>\n",
        "-----/data/validation/Invasive<br>\n",
        "-----/data/validation/No_Invasive<br>\n",
        "\n",
        "You can also make it work with everything in the same folder and making use of train_labels.csv by using the function flow(X,y) instead of flow_from_directory()\n",
        "    "
      ]
    },
    {
      "cell_type": "code",
      "execution_count": null,
      "metadata": {
        "_cell_guid": "b9a97320-0642-8625-bbd8-2e8f8553b029",
        "collapsed": true
      },
      "outputs": [],
      "source": [
        "train_data_dir = 'data/train'\n",
        "validation_data_dir = 'data/validation'\n",
        "nb_train_samples = 2000\n",
        "nb_validation_samples = 500\n",
        "nb_epoch = 50"
      ]
    },
    {
      "cell_type": "markdown",
      "metadata": {
        "_cell_guid": "6cddf973-5402-e8c7-d621-8c923ad1b0a4"
      },
      "source": [
        "We define the convolutional blocks of VGG16, load the weights and set everything to predict all of the bottleneck features."
      ]
    },
    {
      "cell_type": "code",
      "execution_count": null,
      "metadata": {
        "_cell_guid": "e6afc97f-b895-1110-36a3-f2fa4be523de"
      },
      "outputs": [],
      "source": [
        "def save_bottlebeck_features():\n",
        "    datagen = ImageDataGenerator(rescale=1./255,\n",
        "        shear_range=0.2,\n",
        "        zoom_range=0.2,\n",
        "        horizontal_flip=True)\n",
        "    # build the VGG16 network\n",
        "    model = Sequential()\n",
        "    model.add(ZeroPadding2D((1, 1), input_shape=(3, img_height, img_width)))\n",
        "\n",
        "    model.add(Convolution2D(64, 3, 3, activation='relu', name='conv1_1'))\n",
        "    model.add(ZeroPadding2D((1, 1)))\n",
        "    model.add(Convolution2D(64, 3, 3, activation='relu', name='conv1_2'))\n",
        "    model.add(MaxPooling2D((2, 2), strides=(2, 2)))\n",
        "\n",
        "    model.add(ZeroPadding2D((1, 1)))\n",
        "    model.add(Convolution2D(128, 3, 3, activation='relu', name='conv2_1'))\n",
        "    model.add(ZeroPadding2D((1, 1)))\n",
        "    model.add(Convolution2D(128, 3, 3, activation='relu', name='conv2_2'))\n",
        "    model.add(MaxPooling2D((2, 2), strides=(2, 2)))\n",
        "\n",
        "    model.add(ZeroPadding2D((1, 1)))\n",
        "    model.add(Convolution2D(256, 3, 3, activation='relu', name='conv3_1'))\n",
        "    model.add(ZeroPadding2D((1, 1)))\n",
        "    model.add(Convolution2D(256, 3, 3, activation='relu', name='conv3_2'))\n",
        "    model.add(ZeroPadding2D((1, 1)))\n",
        "    model.add(Convolution2D(256, 3, 3, activation='relu', name='conv3_3'))\n",
        "    model.add(MaxPooling2D((2, 2), strides=(2, 2)))\n",
        "\n",
        "    model.add(ZeroPadding2D((1, 1)))\n",
        "    model.add(Convolution2D(512, 3, 3, activation='relu', name='conv4_1'))\n",
        "    model.add(ZeroPadding2D((1, 1)))\n",
        "    model.add(Convolution2D(512, 3, 3, activation='relu', name='conv4_2'))\n",
        "    model.add(ZeroPadding2D((1, 1)))\n",
        "    model.add(Convolution2D(512, 3, 3, activation='relu', name='conv4_3'))\n",
        "    model.add(MaxPooling2D((2, 2), strides=(2, 2)))\n",
        "\n",
        "    model.add(ZeroPadding2D((1, 1)))\n",
        "    model.add(Convolution2D(512, 3, 3, activation='relu', name='conv5_1'))\n",
        "    model.add(ZeroPadding2D((1, 1)))\n",
        "    model.add(Convolution2D(512, 3, 3, activation='relu', name='conv5_2'))\n",
        "    model.add(ZeroPadding2D((1, 1)))\n",
        "    model.add(Convolution2D(512, 3, 3, activation='relu', name='conv5_3'))\n",
        "    model.add(MaxPooling2D((2, 2), strides=(2, 2)))\n",
        "\n",
        "    # load the weights of the VGG16 networks\n",
        "    # (trained on ImageNet, won the ILSVRC competition in 2014)\n",
        "    # note: when there is a complete match between your model definition\n",
        "    # and your weight savefile, you can simply call model.load_weights(filename)\n",
        "    assert os.path.exists(weights_path), 'Model weights not found (see \"weights_path\" variable in script).'\n",
        "    f = h5py.File(weights_path)\n",
        "    for k in range(f.attrs['nb_layers']):\n",
        "        if k >= len(model.layers):\n",
        "            # we don't look at the last (fully-connected) layers in the savefile\n",
        "            break\n",
        "        g = f['layer_{}'.format(k)]\n",
        "        weights = [g['param_{}'.format(p)] for p in range(g.attrs['nb_params'])]\n",
        "        model.layers[k].set_weights(weights)\n",
        "    f.close()\n",
        "    print('Model loaded.')\n",
        "    \n",
        "    #We happen to have the data subdivided in folders (Presence vs Absence), so no label is needed.\n",
        "    #However the dataset, as you download it, is a mix of everything together with a .csv containing \n",
        "    #the labels. So, the easiest option for you, would be to use the function flow(X,y) instead of \n",
        "    #flow_from_directory(), where 'X' is a numpy array containing the images and 'y' are the labels.\n",
        "    #The other option is to use the labels to rearrange the images into the same folder structure and \n",
        "    #use this code as it is.\n",
        "    print(\"Starting feature prediction for the training set\")\n",
        "    generator = datagen.flow_from_directory(\n",
        "        train_data_dir,\n",
        "        target_size=(img_height,img_width),\n",
        "        batch_size=5,\n",
        "        class_mode=None,\n",
        "        shuffle=False)\n",
        "    bottleneck_features_train = model.predict_generator(generator, nb_train_samples)\n",
        "    np.save(open('bottleneck_features_train.npy', 'wb'), bottleneck_features_train)\n",
        "    print('Training features predicted! Starting feature prediction for the validation set')\n",
        "\n",
        "    generator = datagen.flow_from_directory(\n",
        "            validation_data_dir,\n",
        "            target_size=(img_height, img_width),\n",
        "            batch_size=50,\n",
        "            class_mode=None,\n",
        "            shuffle=False)\n",
        "    \n",
        "    bottleneck_features_validation = model.predict_generator(generator, nb_validation_samples)\n",
        "    np.save(open('bottleneck_features_validation.npy', 'wb'), bottleneck_features_validation)\n",
        "    print('Validation features predicted!')"
      ]
    },
    {
      "cell_type": "markdown",
      "metadata": {
        "_cell_guid": "cd085fcf-aaae-1c8e-c061-41e79a27be18"
      },
      "source": [
        "Now we define our fully connected top model that is going to be trained with the predicted features."
      ]
    },
    {
      "cell_type": "code",
      "execution_count": null,
      "metadata": {
        "_cell_guid": "ba9e14d5-87f9-e90b-97df-22c107ceae16",
        "collapsed": true
      },
      "outputs": [],
      "source": [
        "def train_top_model():\n",
        "    train_data = np.load(open('bottleneck_features_train.npy','rb'))\n",
        "    train_labels = np.array([0] * int(nb_train_samples / 2) + [1] * int(nb_train_samples / 2))\n",
        "\n",
        "    validation_data = np.load(open('bottleneck_features_validation.npy', 'rb'))\n",
        "    validation_labels = np.array([0] * int(nb_validation_samples / 2) + [1] * int(nb_validation_samples / 2))\n",
        "\n",
        "    model = Sequential()\n",
        "    model.add(Flatten(input_shape=train_data.shape[1:]))\n",
        "    model.add(Dense(256, activation='relu'))\n",
        "    model.add(Dropout(0.5))\n",
        "    model.add(Dense(1, activation='sigmoid'))\n",
        "\n",
        "    model.compile(optimizer=optimizers.SGD(lr=1e-5, momentum=0.9, nesterov=True), loss='binary_crossentropy', metrics=['accuracy'])\n",
        "\n",
        "    model.fit(train_data, train_labels,\n",
        "              nb_epoch=nb_epoch, batch_size=32,\n",
        "              validation_data=(validation_data, validation_labels))\n",
        "    model.save_weights(top_model_weights_path)"
      ]
    },
    {
      "cell_type": "code",
      "execution_count": null,
      "metadata": {
        "_cell_guid": "c7c5c687-13c1-a024-20ed-a05cf67a7030"
      },
      "outputs": [],
      "source": [
        "save_bottlebeck_features()"
      ]
    },
    {
      "cell_type": "code",
      "execution_count": null,
      "metadata": {
        "_cell_guid": "ffe7c469-77a1-b78a-6da8-dbad19041703"
      },
      "outputs": [],
      "source": [
        "train_top_model()"
      ]
    },
    {
      "cell_type": "markdown",
      "metadata": {
        "_cell_guid": "03dfbdd5-daa5-91de-aec8-f5e2eb8d8663"
      },
      "source": [
        "## Great! Now we've gotten started and we have a nice accuracy already!\n",
        "Now we are going to start the fine tunning. This is the last script on the blog entry. So we pretty much are going to rebuild a decapitated VGG16 implating on it our own fully connected head. Then we are going to set as non-trainable the weights of the first four convolutional blocks. We will let it run for a few epochs an see what we can get from it!\n",
        "\n",
        "To stick to Chollet's entry, we are going to define again VGG16 and our fully-connected model instead of reusing what we already wrote. We are going to load the weights for both of them, and then add them together sequentially into what is going to be our final model. We will set to non-trainable all of the Keras layers up to the 28th (1 to 4th conv blocks). We have to do so since, due to the low quantity of samples that we have, we would overfit the train set and start to wreck all of the learned features in the original VGG16 bottom layers."
      ]
    },
    {
      "cell_type": "code",
      "execution_count": null,
      "metadata": {
        "_cell_guid": "a9285899-6181-b05e-0722-7f0b0e39cdb6"
      },
      "outputs": [],
      "source": [
        "nb_epoch = 10\n",
        "\n",
        "# build the VGG16 network\n",
        "model = Sequential()\n",
        "model.add(ZeroPadding2D((1, 1), input_shape=(3, img_height,img_width)))\n",
        "\n",
        "model.add(Convolution2D(64, 3, 3, activation='relu', name='conv1_1'))\n",
        "model.add(ZeroPadding2D((1, 1)))\n",
        "model.add(Convolution2D(64, 3, 3, activation='relu', name='conv1_2'))\n",
        "model.add(MaxPooling2D((2, 2), strides=(2, 2)))\n",
        "\n",
        "model.add(ZeroPadding2D((1, 1)))\n",
        "model.add(Convolution2D(128, 3, 3, activation='relu', name='conv2_1'))\n",
        "model.add(ZeroPadding2D((1, 1)))\n",
        "model.add(Convolution2D(128, 3, 3, activation='relu', name='conv2_2'))\n",
        "model.add(MaxPooling2D((2, 2), strides=(2, 2)))\n",
        "\n",
        "model.add(ZeroPadding2D((1, 1)))\n",
        "model.add(Convolution2D(256, 3, 3, activation='relu', name='conv3_1'))\n",
        "model.add(ZeroPadding2D((1, 1)))\n",
        "model.add(Convolution2D(256, 3, 3, activation='relu', name='conv3_2'))\n",
        "model.add(ZeroPadding2D((1, 1)))\n",
        "model.add(Convolution2D(256, 3, 3, activation='relu', name='conv3_3'))\n",
        "model.add(MaxPooling2D((2, 2), strides=(2, 2)))\n",
        "\n",
        "model.add(ZeroPadding2D((1, 1)))\n",
        "model.add(Convolution2D(512, 3, 3, activation='relu', name='conv4_1'))\n",
        "model.add(ZeroPadding2D((1, 1)))\n",
        "model.add(Convolution2D(512, 3, 3, activation='relu', name='conv4_2'))\n",
        "model.add(ZeroPadding2D((1, 1)))\n",
        "model.add(Convolution2D(512, 3, 3, activation='relu', name='conv4_3'))\n",
        "model.add(MaxPooling2D((2, 2), strides=(2, 2)))\n",
        "\n",
        "model.add(ZeroPadding2D((1, 1)))\n",
        "model.add(Convolution2D(512, 3, 3, activation='relu', name='conv5_1'))\n",
        "model.add(ZeroPadding2D((1, 1)))\n",
        "model.add(Convolution2D(512, 3, 3, activation='relu', name='conv5_2'))\n",
        "model.add(ZeroPadding2D((1, 1)))\n",
        "model.add(Convolution2D(512, 3, 3, activation='relu', name='conv5_3'))\n",
        "model.add(MaxPooling2D((2, 2), strides=(2, 2)))\n",
        "\n",
        "# load the weights of the VGG16 networks\n",
        "# (trained on ImageNet, won the ILSVRC competition in 2014)\n",
        "# note: when there is a complete match between your model definition\n",
        "# and your weight savefile, you can simply call model.load_weights(filename)\n",
        "#assert os.path.exists(weights_path), 'Model weights not found (see \"weights_path\" variable in script).'\n",
        "f = h5py.File(weights_path)\n",
        "for k in range(f.attrs['nb_layers']):\n",
        "    if k >= len(model.layers):\n",
        "        # we don't look at the last (fully-connected) layers in the savefile\n",
        "        break\n",
        "    g = f['layer_{}'.format(k)]\n",
        "    weights = [g['param_{}'.format(p)] for p in range(g.attrs['nb_params'])]\n",
        "    model.layers[k].set_weights(weights)\n",
        "f.close()\n",
        "print('Model loaded.')\n",
        "\n",
        "# build a classifier model to put on top of the convolutional model\n",
        "top_model = Sequential()\n",
        "top_model.add(Flatten(input_shape=model.output_shape[1:]))\n",
        "top_model.add(Dense(256, activation='relu'))\n",
        "top_model.add(Dropout(0.5))\n",
        "top_model.add(Dense(1, activation='sigmoid')) \n",
        "\n",
        "# note that it is necessary to start with a fully-trained\n",
        "# classifier, including the top classifier,\n",
        "# in order to successfully do fine-tuning\n",
        "top_model.load_weights(top_model_weights_path)\n",
        "\n",
        "# add the model on top of the convolutional base\n",
        "model.add(top_model)\n",
        "\n",
        "#model.load_weights('VGG16fineTuned.h5')\n",
        "\n",
        "\n",
        "# set the first 25 layers (up to the last conv block)\n",
        "# to non-trainable (weights will not be updated)\n",
        "for layer in model.layers[:28]:\n",
        "    layer.trainable = False\n",
        "\n",
        "# compile the model with a SGD/momentum optimizer\n",
        "# and a very slow learning rate.\n",
        "model.compile(loss='binary_crossentropy',\n",
        "              optimizer=optimizers.SGD(lr=0.00002, momentum=0.9),\n",
        "              metrics=['accuracy'])"
      ]
    },
    {
      "cell_type": "markdown",
      "metadata": {
        "_cell_guid": "01530402-7ab8-0565-838f-223b19d83834"
      },
      "source": [
        "## We run the fine tunning loop!\n",
        "Now it is our chance to use data augmentation which surely will help, given the low amount of samples."
      ]
    },
    {
      "cell_type": "code",
      "execution_count": null,
      "metadata": {
        "_cell_guid": "c3609ccc-c18e-bc11-7e4d-3539fbcc8dca"
      },
      "outputs": [],
      "source": [
        "# prepare data augmentation configuration\n",
        "train_datagen = ImageDataGenerator(\n",
        "        rotation_range=35,\n",
        "        rescale=1./255,\n",
        "        shear_range=0.2,\n",
        "        zoom_range=0.2,\n",
        "        horizontal_flip=True)\n",
        "\n",
        "test_datagen = ImageDataGenerator(rescale=1./255,\n",
        "        rotation_range=15,\n",
        "        horizontal_flip=True,\n",
        "        shear_range=0.1)\n",
        "\n",
        "train_generator = train_datagen.flow_from_directory(\n",
        "        train_data_dir,\n",
        "        target_size=(img_height,img_width),\n",
        "        batch_size=20,\n",
        "        class_mode='binary')\n",
        "\n",
        "validation_generator = test_datagen.flow_from_directory(\n",
        "        validation_data_dir,\n",
        "        target_size=(img_height,img_width),\n",
        "        batch_size=20,\n",
        "        class_mode='binary')\n",
        "\n",
        "# fine-tune the model\n",
        "## Callback for loss logging per epoch\n",
        "from keras.callbacks import ModelCheckpoint, Callback, EarlyStopping\n",
        "class LossHistory(Callback):\n",
        "    def on_train_begin(self, logs={}):\n",
        "        self.losses = []\n",
        "        self.val_losses = []\n",
        "        \n",
        "    def on_epoch_end(self, batch, logs={}):\n",
        "        self.losses.append(logs.get('loss'))\n",
        "        self.val_losses.append(logs.get('val_loss'))\n",
        "        \n",
        "history = LossHistory()\n",
        "        \n",
        "#We could use: \n",
        "#early_stopping = EarlyStopping(monitor='val_loss', patience=3, verbose=1, mode='auto')\n",
        "#to stop the training once the model has converged.\n",
        "\n",
        "#If we had run the training previously, we may want to load the weights now:\n",
        "#model.load_weights('VGG16fineTuned.h5')\n",
        "\n",
        "\n",
        "model.fit_generator(\n",
        "        train_generator,\n",
        "        samples_per_epoch=nb_train_samples,\n",
        "        nb_epoch=nb_epoch,\n",
        "        validation_data=validation_generator,\n",
        "        nb_val_samples=nb_validation_samples,\n",
        "        callbacks=[history]) #We could add \"early_stopping\" too if we want so.\n",
        "model.save_weights('VGG16fineTuned.h5')"
      ]
    },
    {
      "cell_type": "markdown",
      "metadata": {
        "_cell_guid": "431cf263-28b9-9c94-ef87-41817ce39b8e"
      },
      "source": [
        "## Now it is your time to scrap everything I just said and build your own powerful net!\n",
        "\n",
        "## All the best!"
      ]
    },
    {
      "cell_type": "code",
      "execution_count": null,
      "metadata": {
        "_cell_guid": "d9682b67-db29-f17a-b99f-b01bfa933ce0",
        "collapsed": true
      },
      "outputs": [],
      "source": [
        ""
      ]
    }
  ],
  "metadata": {
    "_change_revision": 0,
    "_is_fork": false,
    "kernelspec": {
      "display_name": "Python 3",
      "language": "python",
      "name": "python3"
    },
    "language_info": {
      "codemirror_mode": {
        "name": "ipython",
        "version": 3
      },
      "file_extension": ".py",
      "mimetype": "text/x-python",
      "name": "python",
      "nbconvert_exporter": "python",
      "pygments_lexer": "ipython3",
      "version": "3.6.0"
    }
  },
  "nbformat": 4,
  "nbformat_minor": 0
}