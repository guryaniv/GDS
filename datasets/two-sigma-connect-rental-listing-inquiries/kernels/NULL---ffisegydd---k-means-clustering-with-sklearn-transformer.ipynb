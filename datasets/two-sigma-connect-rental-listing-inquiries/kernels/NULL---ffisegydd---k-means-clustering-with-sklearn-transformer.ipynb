{
  "cells": [
    {
      "cell_type": "markdown",
      "metadata": {
        "_cell_guid": "d055e053-8fc6-398e-8d4c-e4f6b78d33a6"
      },
      "source": [
        "> scikit-learn transformer for conducting K-Means clustering to get neighbourhoods from latitude and longitude\n",
        "\n",
        "* Transformer sets a number of \"neighbourhoods\" and a seed on initiation\n",
        "* During fitting an unsupervised k-means clustering model is fit\n",
        "* Upon transformation, the neighbourhoods (as integers) are returned\n",
        "* The transformed data is returned as a column vector for easier use with other transformers"
      ]
    },
    {
      "cell_type": "code",
      "execution_count": null,
      "metadata": {
        "_cell_guid": "b6df16d6-ae95-a9e4-7bf0-6a8ffe62d234"
      },
      "outputs": [],
      "source": [
        "# This Python 3 environment comes with many helpful analytics libraries installed\n",
        "# It is defined by the kaggle/python docker image: https://github.com/kaggle/docker-python\n",
        "# For example, here's several helpful packages to load in \n",
        "\n",
        "import numpy as np # linear algebra\n",
        "import pandas as pd # data processing, CSV file I/O (e.g. pd.read_csv)\n",
        "\n",
        "# Input data files are available in the \"../input/\" directory.\n",
        "# For example, running this (by clicking run or pressing Shift+Enter) will list the files in the input directory\n",
        "\n",
        "from subprocess import check_output\n",
        "print(check_output([\"ls\", \"../input\"]).decode(\"utf8\"))\n",
        "\n",
        "# Any results you write to the current directory are saved as output."
      ]
    },
    {
      "cell_type": "code",
      "execution_count": null,
      "metadata": {
        "_cell_guid": "72233fc3-2441-6dec-d3a1-e11cf4bede1f"
      },
      "outputs": [],
      "source": [
        "from sklearn.base import BaseEstimator, TransformerMixin\n",
        "from sklearn.cluster import KMeans"
      ]
    },
    {
      "cell_type": "code",
      "execution_count": null,
      "metadata": {
        "_cell_guid": "360ae2df-b210-987e-39ce-35196c2df19f"
      },
      "outputs": [],
      "source": [
        "class NeighbourhoodCluster(BaseEstimator, TransformerMixin):\n",
        "    def __init__(self, num_clusters, seed):\n",
        "        self.num_clusters = num_clusters\n",
        "        self.seed = seed\n",
        "        self.cluster = KMeans(self.num_clusters, random_state=self.seed)\n",
        "        self.keys = ['latitude', 'longitude']\n",
        "\n",
        "    def fit(self, X, y=None, **args):\n",
        "        # Better method of removing outliers can be found in the notebook\n",
        "        # https://www.kaggle.com/arnaldcat/two-sigma-connect-rental-listing-inquiries/unsupervised-and-supervised-neighborhood-encoding\n",
        "        mask = (\n",
        "            (X[\"longitude\"] < -73.75) & \n",
        "            (X[\"longitude\"] > -74.05) & \n",
        "            (X[\"latitude\"] > 40.4) & \n",
        "            (X[\"latitude\"] < 40.9)\n",
        "        )\n",
        "        self.cluster.fit(X[mask][self.keys])\n",
        "        return self\n",
        "\n",
        "    def transform(self, X, y=None, **args):\n",
        "        clusters = self.cluster.predict(X[self.keys])\n",
        "        return clusters[:, None]\n",
        "\n",
        "    def get_feature_names(self):\n",
        "        return ['neighbourhood']"
      ]
    },
    {
      "cell_type": "code",
      "execution_count": null,
      "metadata": {
        "_cell_guid": "f2c920a9-955d-d19d-a208-5abb68370797"
      },
      "outputs": [],
      "source": [
        "# Load in train and test data\n",
        "train = pd.read_json('../input/train.json')\n",
        "test = pd.read_json('../input/test.json')\n",
        "\n",
        "train['train'] = 1\n",
        "test['train'] = 0\n",
        "\n",
        "X = pd.concat([train, test])\n",
        "y = X.pop('interest_level')"
      ]
    },
    {
      "cell_type": "code",
      "execution_count": null,
      "metadata": {
        "_cell_guid": "391a2e15-c44a-f87a-4866-54b45d0ec757"
      },
      "outputs": [],
      "source": [
        "num_neighbourhoods = 10\n",
        "seed = 42\n",
        "transformer = NeighbourhoodCluster(num_neighbourhoods, seed)"
      ]
    },
    {
      "cell_type": "code",
      "execution_count": null,
      "metadata": {
        "_cell_guid": "a68af53e-ebf6-1437-5ccf-95e82d9afb35"
      },
      "outputs": [],
      "source": [
        "neighbourhoods = transformer.fit_transform(X)"
      ]
    },
    {
      "cell_type": "code",
      "execution_count": null,
      "metadata": {
        "_cell_guid": "cbb09cd8-ddca-826e-2f72-b375183a7a6a"
      },
      "outputs": [],
      "source": [
        "neighbourhoods[:10]"
      ]
    },
    {
      "cell_type": "markdown",
      "metadata": {
        "_cell_guid": "58204315-589b-f8df-83cf-b79256c256da"
      },
      "source": [
        "Depending on the classifier being used, it might be worth it to encode the values into separate columns (i.e. one hot encoding). In such a scenario, the user of sklearn pipelines would be a good place to start."
      ]
    }
  ],
  "metadata": {
    "_change_revision": 0,
    "_is_fork": false,
    "kernelspec": {
      "display_name": "Python 3",
      "language": "python",
      "name": "python3"
    },
    "language_info": {
      "codemirror_mode": {
        "name": "ipython",
        "version": 3
      },
      "file_extension": ".py",
      "mimetype": "text/x-python",
      "name": "python",
      "nbconvert_exporter": "python",
      "pygments_lexer": "ipython3",
      "version": "3.6.0"
    }
  },
  "nbformat": 4,
  "nbformat_minor": 0
}