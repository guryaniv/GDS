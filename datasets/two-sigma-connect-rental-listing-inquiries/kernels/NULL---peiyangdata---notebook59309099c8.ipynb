{
  "cells": [
    {
      "cell_type": "markdown",
      "metadata": {
        "_cell_guid": "bda86f68-087a-6cfb-e940-fe8000ab12d1"
      },
      "source": ""
    },
    {
      "cell_type": "code",
      "execution_count": null,
      "metadata": {
        "_cell_guid": "e4b98932-3ef6-21c6-7057-c4e033f04864"
      },
      "outputs": [],
      "source": [
        "# This Python 3 environment comes with many helpful analytics libraries installed\n",
        "# It is defined by the kaggle/python docker image: https://github.com/kaggle/docker-python\n",
        "# For example, here's several helpful packages to load in \n",
        "\n",
        "import numpy as np # linear algebra\n",
        "import pandas as pd # data processing, CSV file I/O (e.g. pd.read_csv)\n",
        "\n",
        "# Input data files are available in the \"../input/\" directory.\n",
        "# For example, running this (by clicking run or pressing Shift+Enter) will list the files in the input directory\n",
        "\n",
        "from subprocess import check_output\n",
        "print(check_output([\"ls\", \"../input\"]).decode(\"utf8\"))\n",
        "\n",
        "# Any results you write to the current directory are saved as output.\n",
        "\n",
        "X_train = pd.read_json(\"../input/train.json\")\n",
        "X_test = pd.read_json(\"../input/test.json\")"
      ]
    },
    {
      "cell_type": "code",
      "execution_count": null,
      "metadata": {
        "_cell_guid": "12eb85ff-0a1f-3de0-76a1-0abaf0c10dad"
      },
      "outputs": [],
      "source": [
        "\n",
        "X_train.head()"
      ]
    },
    {
      "cell_type": "code",
      "execution_count": null,
      "metadata": {
        "_cell_guid": "974df14c-fb9f-97c4-9700-d9b05f1ec914"
      },
      "outputs": [],
      "source": [
        "X_train.shape"
      ]
    },
    {
      "cell_type": "code",
      "execution_count": null,
      "metadata": {
        "_cell_guid": "516a8c20-4c74-0bcc-5c72-4ef16ae0c134"
      },
      "outputs": [],
      "source": [
        "X_test.head()"
      ]
    },
    {
      "cell_type": "code",
      "execution_count": null,
      "metadata": {
        "_cell_guid": "5b592933-26d6-b5be-712e-20ab1459a710"
      },
      "outputs": [],
      "source": [
        "X_test.shape"
      ]
    },
    {
      "cell_type": "code",
      "execution_count": null,
      "metadata": {
        "_cell_guid": "d5386b8a-6cea-9535-6962-a98073d83412"
      },
      "outputs": [],
      "source": [
        "sample=pd.read_csv(\"../input/sample_submission.csv\")"
      ]
    },
    {
      "cell_type": "code",
      "execution_count": null,
      "metadata": {
        "_cell_guid": "b2025d65-24fe-2dc9-1e49-3ca355218da0"
      },
      "outputs": [],
      "source": [
        "sample.head()"
      ]
    },
    {
      "cell_type": "code",
      "execution_count": null,
      "metadata": {
        "_cell_guid": "f76b620f-9bbf-b719-adca-f1ca1f52c013"
      },
      "outputs": [],
      "source": [
        "print(check_output([\"ls\", \"../input/images_sample/\"]).decode(\"utf8\"))"
      ]
    },
    {
      "cell_type": "code",
      "execution_count": null,
      "metadata": {
        "_cell_guid": "32dd5cf0-e3e5-eb2a-e99a-f2bc857dd030"
      },
      "outputs": [],
      "source": [
        "import os\n",
        "import subprocess as sub\n",
        "from os import listdir\n",
        "from os.path import isfile, join\n",
        "onlyfiles = [f for f in listdir('../input/images_sample/6811957/') if isfile(join('../input/images_sample/6811957/', f))]\n",
        "print (onlyfiles)"
      ]
    },
    {
      "cell_type": "code",
      "execution_count": null,
      "metadata": {
        "_cell_guid": "518c0290-5527-ea1c-5291-782188035754"
      },
      "outputs": [],
      "source": [
        "import matplotlib.pyplot as plt\n",
        "import matplotlib.image as mpimg\n",
        "%matplotlib inline\n",
        "img=[]\n",
        "for i in range (0,5):\n",
        "    img.append(mpimg.imread('../input/images_sample/6811957/'+onlyfiles[i]))\n",
        "    plt.imshow(img[i])\n",
        "    fig = plt.figure()\n",
        "    a=fig.add_subplot()\n",
        "    "
      ]
    },
    {
      "cell_type": "code",
      "execution_count": null,
      "metadata": {
        "_cell_guid": "720a6c50-c365-36fe-064e-56fd126bafaf"
      },
      "outputs": [],
      "source": [
        "\n",
        "\n",
        "X_train.dropna(subset = ['interest_level'])\n",
        "X_train.shape\n",
        "print (X_train['interest_level'])"
      ]
    },
    {
      "cell_type": "code",
      "execution_count": null,
      "metadata": {
        "_cell_guid": "e3a97583-a1ce-5917-e263-3ccc759c3361"
      },
      "outputs": [],
      "source": [
        "\n",
        "grouped = X_train.groupby(['interest_level'])\n",
        "print (grouped.size())\n",
        "#probability\n",
        "print (grouped.size()/len(X_train))"
      ]
    },
    {
      "cell_type": "code",
      "execution_count": null,
      "metadata": {
        "_cell_guid": "53fae938-16a0-06e4-6968-2a0f40f9c929"
      },
      "outputs": [],
      "source": [
        "from sklearn.ensemble import RandomForestClassifier\n",
        "from sklearn.model_selection import train_test_split\n",
        "from sklearn.metrics import log_loss\n",
        "\n",
        "X_train[\"num_photos\"] = X_train[\"photos\"].apply(len)\n",
        "X_train[\"num_features\"] = X_train[\"features\"].apply(len)\n",
        "X_train[\"num_description_words\"] = X_train[\"description\"].apply(lambda x: len(x.split(\" \")))\n",
        "X_train[\"created\"] = pd.to_datetime(X_train[\"created\"])\n",
        "X_train[\"created_year\"] = X_train[\"created\"].dt.year\n",
        "X_train[\"created_month\"] = X_train[\"created\"].dt.month\n",
        "X_train[\"created_day\"] = X_train[\"created\"].dt.day\n",
        "num_feats = [\"bathrooms\", \"bedrooms\", \"latitude\", \"longitude\", \"price\",\n",
        "             \"num_photos\", \"num_features\", \"num_description_words\",\n",
        "             \"created_year\", \"created_month\", \"created_day\"]\n",
        "X = X_train[num_feats]\n",
        "y = X_train[\"interest_level\"]\n",
        "\n",
        "X_train2, X_val, y_train2, y_val = train_test_split(X, y, test_size=0.3)"
      ]
    },
    {
      "cell_type": "code",
      "execution_count": null,
      "metadata": {
        "_cell_guid": "e5878013-2302-10e4-25a9-1ba847860c3c"
      },
      "outputs": [],
      "source": [
        "\n",
        "X_test[\"num_photos\"] = X_test[\"photos\"].apply(len)\n",
        "X_test[\"num_features\"] = X_test[\"features\"].apply(len)\n",
        "X_test[\"num_description_words\"] = X_test[\"description\"].apply(lambda x: len(x.split(\" \")))\n",
        "X_test[\"created\"] = pd.to_datetime(X_test[\"created\"])\n",
        "X_test[\"created_year\"] = X_test[\"created\"].dt.year\n",
        "X_test[\"created_month\"] = X_test[\"created\"].dt.month\n",
        "X_test[\"created_day\"] = X_test[\"created\"].dt.day\n",
        "X_test2 = X_test[num_feats]"
      ]
    },
    {
      "cell_type": "code",
      "execution_count": null,
      "metadata": {
        "_cell_guid": "69bc182e-1af5-d73a-d556-29bf3f419581"
      },
      "outputs": [],
      "source": [
        "# Train uncalibrated random forest classifier on whole train and validation\n",
        "# data and evaluate on test data\n",
        "rfmodel = RandomForestClassifier(n_estimators=300)\n",
        "rfmodel.fit(X_train2, y_train2)"
      ]
    },
    {
      "cell_type": "code",
      "execution_count": null,
      "metadata": {
        "_cell_guid": "03a1483c-6b1d-0437-bf84-d71106476e27"
      },
      "outputs": [],
      "source": [
        "X_train2.head()"
      ]
    },
    {
      "cell_type": "code",
      "execution_count": null,
      "metadata": {
        "_cell_guid": "43cf1d3c-e2de-3897-3798-d113adf35608"
      },
      "outputs": [],
      "source": [
        "y_val_pred = rfmodel.predict_proba(X_val)\n",
        "log_loss(y_val, y_val_pred)"
      ]
    },
    {
      "cell_type": "code",
      "execution_count": null,
      "metadata": {
        "_cell_guid": "ad85a0ae-0fef-c7f9-7561-760d75a960ec"
      },
      "outputs": [],
      "source": [
        "#This time use all the train datasets to train model\n",
        "rfmodel2 = RandomForestClassifier(n_estimators=300)\n",
        "rfmodel2.fit(X, y)"
      ]
    },
    {
      "cell_type": "code",
      "execution_count": null,
      "metadata": {
        "_cell_guid": "dfd58412-9e8d-7037-59af-87b3b68606b0"
      },
      "outputs": [],
      "source": [
        "y_test_pred = rfmodel2.predict_proba(X_test2)"
      ]
    },
    {
      "cell_type": "code",
      "execution_count": null,
      "metadata": {
        "_cell_guid": "4e64a693-4ec7-9bda-0855-fca6182416a1"
      },
      "outputs": [],
      "source": [
        "y_test_pred"
      ]
    },
    {
      "cell_type": "code",
      "execution_count": null,
      "metadata": {
        "_cell_guid": "5455edce-3a4c-2286-ffcd-c9cd500014f9"
      },
      "outputs": [],
      "source": ""
    },
    {
      "cell_type": "code",
      "execution_count": null,
      "metadata": {
        "_cell_guid": "5bb7f709-4b0e-d92d-f446-c90578f0c265"
      },
      "outputs": [],
      "source": [
        "X.head()"
      ]
    },
    {
      "cell_type": "code",
      "execution_count": null,
      "metadata": {
        "_cell_guid": "78245f7d-381d-873f-0c93-592487b4019e"
      },
      "outputs": [],
      "source": [
        "y.head()"
      ]
    },
    {
      "cell_type": "code",
      "execution_count": null,
      "metadata": {
        "_cell_guid": "7563abf2-30f0-26e7-0f24-fb63b0f30289"
      },
      "outputs": [],
      "source": [
        "X.shape"
      ]
    },
    {
      "cell_type": "code",
      "execution_count": null,
      "metadata": {
        "_cell_guid": "b9640704-7b7c-3689-4e13-a1d41e270b89"
      },
      "outputs": [],
      "source": [
        "y.shape"
      ]
    },
    {
      "cell_type": "code",
      "execution_count": null,
      "metadata": {
        "_cell_guid": "1fbd6c06-ecef-3c9f-1953-f2825786ab8d"
      },
      "outputs": [],
      "source": [
        "X_test.shape"
      ]
    },
    {
      "cell_type": "code",
      "execution_count": null,
      "metadata": {
        "_cell_guid": "3ea6841b-4145-df91-3c3c-9e13f11cdf73"
      },
      "outputs": [],
      "source": [
        "X_test2.shape"
      ]
    },
    {
      "cell_type": "code",
      "execution_count": null,
      "metadata": {
        "_cell_guid": "33464803-6aa3-f5e4-42eb-df700c4d5074"
      },
      "outputs": [],
      "source": [
        "y1 = [0]*len(y)\n",
        "y2 = [0]*len(y)\n",
        "\n",
        "type(y2)"
      ]
    },
    {
      "cell_type": "code",
      "execution_count": null,
      "metadata": {
        "_cell_guid": "552e3fd9-8ef8-072d-5e7d-1f90dcb9eba2"
      },
      "outputs": [],
      "source": [
        "type(y)"
      ]
    },
    {
      "cell_type": "code",
      "execution_count": null,
      "metadata": {
        "_cell_guid": "834294f9-b3e2-35e0-8fe4-ac1489d2b06d"
      },
      "outputs": [],
      "source": [
        "y_list = y.tolist()\n",
        "type(y_list)\n",
        "y_list"
      ]
    },
    {
      "cell_type": "code",
      "execution_count": null,
      "metadata": {
        "_cell_guid": "801161ff-07dd-5a08-a4c0-be713da60692"
      },
      "outputs": [],
      "source": [
        "for i in range(0, len(y), 1):\n",
        "    if(y_list[i]==\"low\"):\n",
        "        print(\"low\")\n",
        "        y1[i] = 0\n",
        "        y2[i] = 0\n",
        "    if(y_list[i]==\"medium\"):\n",
        "        y1[i] = 0\n",
        "        y2[i] = 1\n",
        "    if(y_list[i]==\"high\"):\n",
        "        print(\"high\")\n",
        "        y1[i] = 1\n",
        "        y2[i] = 0\n",
        "print(\"Binary coding done.\")"
      ]
    },
    {
      "cell_type": "code",
      "execution_count": null,
      "metadata": {
        "_cell_guid": "68cc0964-6427-90c5-75a4-fbde83455185"
      },
      "outputs": [],
      "source": [
        "y_n = [0]*len(y)\n",
        "for i in range(0, len(y), 1):\n",
        "    if(y_list[i]==\"low\"):\n",
        "        y_n[i]=1\n",
        "    if(y_list[i]==\"medium\"):\n",
        "        y_n[i]=2\n",
        "    if(y_list[i]==\"high\"):\n",
        "        y_n[i]=3\n",
        "print(\"3-level coding done.\")\n",
        "\n",
        "    "
      ]
    },
    {
      "cell_type": "code",
      "execution_count": null,
      "metadata": {
        "_cell_guid": "ee7cf094-bd1e-b52f-b152-16d7e3696798"
      },
      "outputs": [],
      "source": [
        "len(y_n)"
      ]
    },
    {
      "cell_type": "code",
      "execution_count": null,
      "metadata": {
        "_cell_guid": "f3142790-749c-8fa5-5636-237ee84eb654"
      },
      "outputs": [],
      "source": [
        "y_n"
      ]
    },
    {
      "cell_type": "code",
      "execution_count": null,
      "metadata": {
        "_cell_guid": "c01a076a-bb93-c2f7-a57e-3984cba20554"
      },
      "outputs": [],
      "source": [
        "y1"
      ]
    },
    {
      "cell_type": "code",
      "execution_count": null,
      "metadata": {
        "_cell_guid": "7cf558f5-ca3b-7844-7c43-7f0a54f3b5e6"
      },
      "outputs": [],
      "source": [
        "y2"
      ]
    },
    {
      "cell_type": "code",
      "execution_count": null,
      "metadata": {
        "_cell_guid": "2513c48b-a245-0b22-3449-16ae42d51547"
      },
      "outputs": [],
      "source": [
        "y1 == y2"
      ]
    },
    {
      "cell_type": "code",
      "execution_count": null,
      "metadata": {
        "_cell_guid": "dbc75bce-da81-98f8-5717-8065c25b485f"
      },
      "outputs": [],
      "source": [
        "y1_a = np.ravel(y1)\n",
        "y1_a"
      ]
    },
    {
      "cell_type": "code",
      "execution_count": null,
      "metadata": {
        "_cell_guid": "c26b0d4d-0ddc-406e-7c18-ddadf043f188"
      },
      "outputs": [],
      "source": [
        "y2_a = np.ravel(y2)\n",
        "y2_a"
      ]
    },
    {
      "cell_type": "code",
      "execution_count": null,
      "metadata": {
        "_cell_guid": "5680c0ae-db91-6099-6eb5-dc678377bdf5"
      },
      "outputs": [],
      "source": [
        "y_n_a = np.array(y_n)"
      ]
    },
    {
      "cell_type": "code",
      "execution_count": null,
      "metadata": {
        "_cell_guid": "e8ebb1f1-59ab-081e-f41c-e0edf0450cb6"
      },
      "outputs": [],
      "source": [
        "import numpy as np\n",
        "import pandas as pd\n",
        "import statsmodels.api as sm\n",
        "import matplotlib.pyplot as plt\n",
        "from patsy import dmatrices\n",
        "from sklearn.linear_model import LogisticRegression\n",
        "from sklearn.cross_validation import train_test_split\n",
        "from sklearn import metrics\n",
        "from sklearn.cross_validation import cross_val_score\n",
        "\n",
        "#This function takes X_train, y_train to train a 3-classes logistic model\n",
        "#(so y_train must be a categorical response and take 3 values);\n",
        "#Then the logistic model is applied to X_test and gives the predicted probability for each row in X_test;\n",
        "def logistic_regression_3classes(X_train, y_train, X_test):\n",
        "    model_logistic = LogisticRegression(C=1.0, class_weight=None, dual=False, fit_intercept=True,\n",
        "          intercept_scaling=1, max_iter=400, multi_class='multinomial', n_jobs=1,\n",
        "          penalty='l2', random_state=None, solver='newton-cg', tol=0.0001,\n",
        "          verbose=0, warm_start=False)\n",
        "    model_logistic = model_logistic.fit(X_train, y_train)\n",
        "    prob_test = model_logistic.predict_proba(X_test)\n",
        "    return prob_test"
      ]
    },
    {
      "cell_type": "code",
      "execution_count": null,
      "metadata": {
        "_cell_guid": "7c398372-9858-9d24-c99e-7fb24bb2c297"
      },
      "outputs": [],
      "source": [
        "\n",
        "model_logistic = LogisticRegression(C=1.0, class_weight=None, dual=False, fit_intercept=True,\n",
        "          intercept_scaling=1, max_iter=400, multi_class='multinomial', n_jobs=1,\n",
        "          penalty='l2', random_state=None, solver='newton-cg', tol=0.0001,\n",
        "          verbose=0, warm_start=False)\n"
      ]
    },
    {
      "cell_type": "code",
      "execution_count": null,
      "metadata": {
        "_cell_guid": "1320da02-4e23-8035-0758-d4c5d67cb9b1"
      },
      "outputs": [],
      "source": [
        "X.shape"
      ]
    },
    {
      "cell_type": "code",
      "execution_count": null,
      "metadata": {
        "_cell_guid": "843afec9-2ddd-d504-5527-26cbcaf20c0a"
      },
      "outputs": [],
      "source": [
        "y_n_a.shape"
      ]
    },
    {
      "cell_type": "code",
      "execution_count": null,
      "metadata": {
        "_cell_guid": "a5b0ae0d-3467-6046-7240-6836e92969f4"
      },
      "outputs": [],
      "source": [
        "model_logistic = model_logistic.fit(X, y_n_a)"
      ]
    },
    {
      "cell_type": "code",
      "execution_count": null,
      "metadata": {
        "_cell_guid": "0a841dd2-04be-64f6-d30d-b2ebc71924f8"
      },
      "outputs": [],
      "source": [
        "prob_test = model_logistic.predict_proba(X_test2)"
      ]
    },
    {
      "cell_type": "code",
      "execution_count": null,
      "metadata": {
        "_cell_guid": "d0983889-1df3-efda-4dc6-ad20baa50a1f"
      },
      "outputs": [],
      "source": [
        "prob_test"
      ]
    },
    {
      "cell_type": "code",
      "execution_count": null,
      "metadata": {
        "_cell_guid": "1ca52d52-0471-e07a-60c1-90e6dd7c2541"
      },
      "outputs": [],
      "source": [
        "lst_id = X_test['listing_id']"
      ]
    },
    {
      "cell_type": "code",
      "execution_count": null,
      "metadata": {
        "_cell_guid": "c8b66062-5694-cb2e-f796-ce6ba08b4976"
      },
      "outputs": [],
      "source": [
        "type(prob_test)"
      ]
    },
    {
      "cell_type": "code",
      "execution_count": null,
      "metadata": {
        "_cell_guid": "fd28c23f-8861-7cb9-3a1e-f5fa8b9099bb"
      },
      "outputs": [],
      "source": [
        "type(lst_id)"
      ]
    },
    {
      "cell_type": "code",
      "execution_count": null,
      "metadata": {
        "_cell_guid": "d0be4d84-1bd9-a46b-dc1c-57d9d60213e5"
      },
      "outputs": [],
      "source": [
        "p_d_t = np.vstack((lst_id, prob_test[:,2], prob_test[:,1], prob_test[:,0])).T"
      ]
    },
    {
      "cell_type": "code",
      "execution_count": null,
      "metadata": {
        "_cell_guid": "3a39f011-f63a-2aba-7e65-ad1ee9412308"
      },
      "outputs": [],
      "source": [
        "type(p_d_t)"
      ]
    },
    {
      "cell_type": "code",
      "execution_count": null,
      "metadata": {
        "_cell_guid": "c0c16a99-0618-4c7c-ead9-6648fcdf6ea5"
      },
      "outputs": [],
      "source": [
        "p_d_t"
      ]
    },
    {
      "cell_type": "code",
      "execution_count": null,
      "metadata": {
        "_cell_guid": "44097c6f-cf3f-7ece-7f01-40857c951e8e"
      },
      "outputs": [],
      "source": [
        "p_d_t = pd.DataFrame(p_d_t)"
      ]
    },
    {
      "cell_type": "code",
      "execution_count": null,
      "metadata": {
        "_cell_guid": "3ccedcf6-e4dc-f096-08c7-3c57b6a9b2cd"
      },
      "outputs": [],
      "source": [
        "p_d_t[0]=p_d_t[0].astype(int)"
      ]
    },
    {
      "cell_type": "code",
      "execution_count": null,
      "metadata": {
        "_cell_guid": "9f21058d-c09c-664c-016f-d443bca4311d"
      },
      "outputs": [],
      "source": [
        "p_d_t"
      ]
    },
    {
      "cell_type": "code",
      "execution_count": null,
      "metadata": {
        "_cell_guid": "17d7f407-5f58-7639-978d-c800293a5f50"
      },
      "outputs": [],
      "source": [
        "p_d_t.to_csv('./result0420a.csv', index=False)"
      ]
    }
  ],
  "metadata": {
    "_change_revision": 0,
    "_is_fork": false,
    "kernelspec": {
      "display_name": "Python 3",
      "language": "python",
      "name": "python3"
    },
    "language_info": {
      "codemirror_mode": {
        "name": "ipython",
        "version": 3
      },
      "file_extension": ".py",
      "mimetype": "text/x-python",
      "name": "python",
      "nbconvert_exporter": "python",
      "pygments_lexer": "ipython3",
      "version": "3.6.0"
    }
  },
  "nbformat": 4,
  "nbformat_minor": 0
}