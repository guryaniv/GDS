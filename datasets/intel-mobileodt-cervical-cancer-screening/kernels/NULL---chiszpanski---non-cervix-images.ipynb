{
  "cells": [
    {
      "cell_type": "markdown",
      "metadata": {
        "_cell_guid": "dac76167-57e9-d84c-bd4d-5eb7e364723b"
      },
      "source": [
        "Discovered images not of a cervix in additional data. If these images made it past human annotator, I suspect the labels may not be accurate. \n"
      ]
    },
    {
      "cell_type": "code",
      "execution_count": null,
      "metadata": {
        "_cell_guid": "b5f31534-e83a-27c7-38e1-ac6d133fc26d"
      },
      "outputs": [],
      "source": [
        "\n",
        "%matplotlib inline\n",
        "\n",
        "import matplotlib.pyplot as plt\n",
        "\n",
        "# Images which I found to be not of a cervix\n",
        "not_cervix = [\n",
        "    '../input/additional/Type_1/746.jpg',\n",
        "    '../input/additional/Type_1/2030.jpg',\n",
        "    '../input/additional/Type_1/4065.jpg',\n",
        "    '../input/additional/Type_1/4702.jpg',\n",
        "    '../input/additional/Type_1/4706.jpg',\n",
        "    '../input/additional/Type_2/1813.jpg',\n",
        "    '../input/additional/Type_2/3086.jpg',\n",
        "]\n",
        "\n",
        "for fname in not_cervix:\n",
        "    plt.figure()\n",
        "    plt.imshow(plt.imread(fname))\n",
        "   "
      ]
    }
  ],
  "metadata": {
    "_change_revision": 0,
    "_is_fork": false,
    "kernelspec": {
      "display_name": "Python 3",
      "language": "python",
      "name": "python3"
    },
    "language_info": {
      "codemirror_mode": {
        "name": "ipython",
        "version": 3
      },
      "file_extension": ".py",
      "mimetype": "text/x-python",
      "name": "python",
      "nbconvert_exporter": "python",
      "pygments_lexer": "ipython3",
      "version": "3.6.0"
    }
  },
  "nbformat": 4,
  "nbformat_minor": 0
}