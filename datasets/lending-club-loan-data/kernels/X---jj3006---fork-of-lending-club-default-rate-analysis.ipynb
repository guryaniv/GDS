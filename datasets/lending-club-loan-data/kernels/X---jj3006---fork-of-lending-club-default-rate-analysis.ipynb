{
  "cells": [
    {
      "cell_type": "markdown",
      "metadata": {
        "_cell_guid": "7e9a79c4-b203-e16a-a273-1e0893f8be22"
      },
      "source": [
        "This is an EDA of lending club loan data.  Thanks for sharing this data!"
      ]
    },
    {
      "cell_type": "code",
      "execution_count": null,
      "metadata": {
        "_cell_guid": "30b16a4b-dcb6-f00c-016a-14e20f81eca8"
      },
      "outputs": [],
      "source": [
        "import pandas as pd\n",
        "import numpy\n",
        "import matplotlib.pyplot as plt\n",
        "import matplotlib\n",
        "%matplotlib inline"
      ]
    },
    {
      "cell_type": "code",
      "execution_count": null,
      "metadata": {
        "_cell_guid": "b6aa6440-4c8f-a0dd-33a7-57edfebff627"
      },
      "outputs": [],
      "source": [
        "import matplotlib.patches as mpatches"
      ]
    },
    {
      "cell_type": "markdown",
      "metadata": {
        "_cell_guid": "ba8a39a3-2d24-987d-bfce-b7bb80fa4dab"
      },
      "source": [
        "import plotly\n",
        "import plotly.plotly as py\n",
        "\n",
        "py.sign_in('Username', 'API') \n",
        "print(plotly.__version__) \n",
        "plotly.offline.init_notebook_mode()"
      ]
    },
    {
      "cell_type": "code",
      "execution_count": null,
      "metadata": {
        "_cell_guid": "dddce1a9-7081-06af-a86d-a1038734ffca"
      },
      "outputs": [],
      "source": [
        "import datetime as dt"
      ]
    },
    {
      "cell_type": "code",
      "execution_count": null,
      "metadata": {
        "_cell_guid": "de5e2c4a-507a-284b-e829-cd2270320b5e"
      },
      "outputs": [],
      "source": [
        "import numpy as np"
      ]
    },
    {
      "cell_type": "code",
      "execution_count": null,
      "metadata": {
        "_cell_guid": "9a128d03-4f20-cf21-8bd0-ffb93846584d"
      },
      "outputs": [],
      "source": [
        "#extract data:\n",
        "loan=pd.read_csv(\"../input/loan.csv\")"
      ]
    },
    {
      "cell_type": "code",
      "execution_count": null,
      "metadata": {
        "_cell_guid": "f4adaf03-265d-1b09-910f-9c2cafc70762"
      },
      "outputs": [],
      "source": [
        "loan.head(10)"
      ]
    },
    {
      "cell_type": "code",
      "execution_count": null,
      "metadata": {
        "_cell_guid": "b66f16c9-93c1-7409-1ee2-bfefacd9af4f"
      },
      "outputs": [],
      "source": [
        "#I am going to investigate 7 columns: loan amount, term, int rate, grade, issue date, loan status, address state\n",
        "loan00 = loan.iloc[:,[2,5,6,8,15,16,23]]"
      ]
    },
    {
      "cell_type": "code",
      "execution_count": null,
      "metadata": {
        "_cell_guid": "4908d59f-3f1a-4793-36d5-3515ba77fab9"
      },
      "outputs": [],
      "source": [
        "loan00.head(10)"
      ]
    },
    {
      "cell_type": "code",
      "execution_count": null,
      "metadata": {
        "_cell_guid": "fcf50fcf-36c6-956d-d69b-18597e93301f"
      },
      "outputs": [],
      "source": [
        "loan00.dtypes"
      ]
    },
    {
      "cell_type": "code",
      "execution_count": null,
      "metadata": {
        "_cell_guid": "bb773a15-6164-63ee-5437-828a796773b5"
      },
      "outputs": [],
      "source": [
        "#convert the data type from string to date \n",
        "\n",
        "loan00['issue_d2']=pd.to_datetime(loan00['issue_d'])"
      ]
    },
    {
      "cell_type": "code",
      "execution_count": null,
      "metadata": {
        "_cell_guid": "c14c249b-03c5-cf0a-6ba2-ce25aac9d7c8"
      },
      "outputs": [],
      "source": [
        "loan00.head(10)"
      ]
    },
    {
      "cell_type": "code",
      "execution_count": null,
      "metadata": {
        "_cell_guid": "ef0ab1a8-11f8-956a-04dc-cb32f2ae5c00"
      },
      "outputs": [],
      "source": [
        "loan00.dtypes"
      ]
    },
    {
      "cell_type": "code",
      "execution_count": null,
      "metadata": {
        "_cell_guid": "fb4d43df-0a32-5a47-c8ed-a540fee455a7"
      },
      "outputs": [],
      "source": [
        "#select the month of the date, and calculate sum loan during each month \n",
        "loan01 = loan00.groupby(['issue_d2']).sum()\n",
        "loan01=loan01.reset_index()\n",
        "loan01['Issue_d']=[loan01.to_period('M')for \n",
        "                   loan01 in loan01['issue_d2']] #select month of date\n",
        "loan01=loan01.drop(['issue_d2','int_rate'], axis=1)\n",
        "loan01=loan01.groupby(['Issue_d']).sum()\n",
        "loan01['loan_amnt']=loan01['loan_amnt']/1000"
      ]
    },
    {
      "cell_type": "code",
      "execution_count": null,
      "metadata": {
        "_cell_guid": "96bbb128-dffe-5bac-764b-22d96157c625"
      },
      "outputs": [],
      "source": [
        "loan01.head(10)"
      ]
    },
    {
      "cell_type": "code",
      "execution_count": null,
      "metadata": {
        "_cell_guid": "5eb884bf-6339-376e-4ff4-db6b7ae83584"
      },
      "outputs": [],
      "source": [
        "#Use a graph to show the loan amount trend from 2007 to 2016\n",
        "pic1 = loan01.plot(figsize=(20,10), fontsize=20,color='r')\n",
        "plt.legend(loc='best',fontsize=0)\n",
        "pic1.set_xlabel('Timeline', fontsize=25)\n",
        "pic1.set_ylabel('Loan_Amount (000)',fontsize=25)\n",
        "pic1.set_title('Accumulative Loan Amount from 2007 to 2015',fontsize=25)"
      ]
    },
    {
      "cell_type": "code",
      "execution_count": null,
      "metadata": {
        "_cell_guid": "b89997d6-c6f9-39e4-afe2-d1cfd728efa2"
      },
      "outputs": [],
      "source": [
        "# let's take a closer look to the fluctuating part\n",
        "loan01_2=loan01.tail(24)"
      ]
    },
    {
      "cell_type": "code",
      "execution_count": null,
      "metadata": {
        "_cell_guid": "8ff38ce0-96ba-1631-8e5a-7325c3676783"
      },
      "outputs": [],
      "source": [
        "loan01_2"
      ]
    },
    {
      "cell_type": "code",
      "execution_count": null,
      "metadata": {
        "_cell_guid": "45fe83b5-3f15-59b2-3297-16e708476b28"
      },
      "outputs": [],
      "source": [
        "#Use a graph to show the loan amount trend of recent 2 years\n",
        "pic3 = loan01_2.plot(figsize=(20,10), fontsize=20,color='r')\n",
        "plt.legend(loc='best',fontsize=0)\n",
        "pic3.set_xlabel('Timeline', fontsize=25)\n",
        "pic3.set_ylabel('Loan_Amount (000)',fontsize=25)\n",
        "pic3.set_title('Accumulative Loan Amount from 2014 to 2015',fontsize=25)"
      ]
    },
    {
      "cell_type": "code",
      "execution_count": null,
      "metadata": {
        "_cell_guid": "d18f7be4-6e36-ddde-12d2-47d46e3dadb8"
      },
      "outputs": [],
      "source": [
        "#to see the loan amount in different states\n",
        "loan02=loan00.iloc[:,[0,-2]]"
      ]
    },
    {
      "cell_type": "code",
      "execution_count": null,
      "metadata": {
        "_cell_guid": "5e145040-45ae-8d73-118f-a05ca9827656"
      },
      "outputs": [],
      "source": [
        "loan02_1=loan02.groupby(['addr_state']).sum()"
      ]
    },
    {
      "cell_type": "code",
      "execution_count": null,
      "metadata": {
        "_cell_guid": "26ac3f80-fb34-dc4d-9e2d-651361526bd3"
      },
      "outputs": [],
      "source": [
        "loan02_2=loan02_1.reset_index()"
      ]
    },
    {
      "cell_type": "code",
      "execution_count": null,
      "metadata": {
        "_cell_guid": "2cc16c48-155d-ab5e-f624-11f1896661d4"
      },
      "outputs": [],
      "source": [
        "loan02_2['loan_amnt(mil.)']=loan02_2['loan_amnt']/1000000\n",
        "loan02_2=loan02_2.drop(['loan_amnt'],axis=1)"
      ]
    },
    {
      "cell_type": "code",
      "execution_count": null,
      "metadata": {
        "_cell_guid": "cecae4c6-f378-8998-97ed-846ad901480c"
      },
      "outputs": [],
      "source": [
        "loan02_2"
      ]
    },
    {
      "cell_type": "markdown",
      "metadata": {
        "_cell_guid": "ae17f2ab-6437-a42a-ffc8-8b6038a20ea1"
      },
      "source": [
        "#draw a color map of sum of loan in different states \n",
        "scale = [[0.0, 'rgb(223,221,228)'], [0.2, 'rgb(199,199,216)'], [0.4, 'rgb(169,170,201)'],\n",
        "         [0.6, 'rgb(139,135,181)'], [0.8, 'rgb(98,88,158)'], [1.0, 'rgb(63,20,122)']]\n",
        "\n",
        "\n",
        "loan02_2['text'] = loan02_2['addr_state']\n",
        "\n",
        "\n",
        "data  = [dict(type='choropleth', colorscale=False, locations=loan02_2['addr_state'],\n",
        "              z=loan02_2['loan_amnt(mil.)'].astype(float),\n",
        "              locationmode='USA-states',\n",
        "              text=loan02_2['text'], hoverinfo='location+z',\n",
        "              marker= dict(line=dict(color='rgb(255,255,255)', width=2)),\n",
        "              colorbar=dict(title='Aggregate Loan 2007-2016'))]\n",
        "\n",
        "layout = dict(title='Lending Club Loan Volumn Reginal Outlook <br />(Sum of Personal Loan Amount in Million)',\n",
        "              geo = dict(scope='USA', projection=dict(type='albers usa'),\n",
        "                         showlakes=True,\n",
        "                        lakecolor='rgb(95,145,237)'))\n",
        "\n",
        "fig = dict(data=data, layout=layout)\n",
        "\n",
        "py.iplot(fig, validate=False, filename='lendingclubloansummap')"
      ]
    },
    {
      "cell_type": "markdown",
      "metadata": {
        "_cell_guid": "bb29b7b7-b2a3-7e5f-75bf-41e78bf18b46"
      },
      "source": [
        "    <div>\n",
        "        <a href=\"https://plot.ly/~LL3600/0/?share_key=AswB9FNSmLMALeBhtmC1QN\" target=\"_blank\" title=\"lendingclubloansummap\" style=\"display: block; text-align: center;\"><img src=\"https://plot.ly/~LL3600/0.png?share_key=AswB9FNSmLMALeBhtmC1QN\" alt=\"lendingclubloansummap\" style=\"max-width: 100%;width: 600px;\"  width=\"600\" onerror=\"this.onerror=null;this.src='https://plot.ly/404.png';\" /></a>\n",
        "        <script data-plotly=\"LL3600:0\" sharekey-plotly=\"AswB9FNSmLMALeBhtmC1QN\" src=\"https://plot.ly/embed.js\" async></script>\n",
        "    </div>\n"
      ]
    },
    {
      "cell_type": "code",
      "execution_count": null,
      "metadata": {
        "_cell_guid": "eeb3a2cc-188e-5918-57ce-03e02f46b16f"
      },
      "outputs": [],
      "source": [
        "#I also wanted to investigate the relationship between interest rate of different grades and terms.\n",
        "loan03=loan00.iloc[:,[1,2,3]]"
      ]
    },
    {
      "cell_type": "code",
      "execution_count": null,
      "metadata": {
        "_cell_guid": "337ecb40-f0a0-6836-074f-1413d11c1b15"
      },
      "outputs": [],
      "source": [
        "loan03_1 = loan03.groupby(['grade','term']).mean()\n",
        "loan03_1 = loan03_1.reset_index()\n",
        "#Reorganize the data using pivot command\n",
        "loan03_2 = loan03_1.pivot(index='grade', columns='term',values='int_rate')"
      ]
    },
    {
      "cell_type": "code",
      "execution_count": null,
      "metadata": {
        "_cell_guid": "1248ba18-c45f-8953-adc9-494a10e55506"
      },
      "outputs": [],
      "source": [
        "loan03_2"
      ]
    },
    {
      "cell_type": "code",
      "execution_count": null,
      "metadata": {
        "_cell_guid": "c04dc656-6b38-12aa-2c64-7f8cd9df583f"
      },
      "outputs": [],
      "source": [
        "#Draw a horizental bar chart to compare rates of different conditions\n",
        "pic2=loan03_2.plot(kind='barh',figsize=(15,8),color=['peachpuff','darkkhaki'])\n",
        "pic2.legend(loc='lower right',fontsize=12)\n",
        "pic2.set_title('Average Interest Rate of Each Grade for 36 Month and 60 Month',fontsize=20)\n",
        "pic2.set_xlabel('Interest Rate',fontsize=12)\n"
      ]
    },
    {
      "cell_type": "code",
      "execution_count": null,
      "metadata": {
        "_cell_guid": "1d944314-bb02-bb91-876e-e221e714cc62"
      },
      "outputs": [],
      "source": [
        "#default loan investigation\n",
        "loan04=loan00.iloc[:,[-1,-3]]\n",
        "loan04.describe().transpose()"
      ]
    },
    {
      "cell_type": "code",
      "execution_count": null,
      "metadata": {
        "_cell_guid": "db2f03da-f110-c164-ef98-522d4e32433b"
      },
      "outputs": [],
      "source": [
        "loan04.head()"
      ]
    },
    {
      "cell_type": "code",
      "execution_count": null,
      "metadata": {
        "_cell_guid": "1046648e-900b-1d00-b66a-5bb2c940bf25"
      },
      "outputs": [],
      "source": [
        "#a frequancy table of ten different loan status:\n",
        "pd.crosstab(index=loan04['loan_status'], columns='count')"
      ]
    },
    {
      "cell_type": "code",
      "execution_count": null,
      "metadata": {
        "_cell_guid": "6025a825-5bd3-aa11-3d15-6eb1e614601b"
      },
      "outputs": [],
      "source": [
        "loan04['issue_y']=loan04['issue_d2'].apply(lambda x: x.year)\n",
        "loan04=loan04.drop(['issue_d2'],axis=1)\n",
        "loan04.head()"
      ]
    },
    {
      "cell_type": "code",
      "execution_count": null,
      "metadata": {
        "_cell_guid": "d65331df-97bb-5cfa-1113-f4df66a7de94"
      },
      "outputs": [],
      "source": [
        "loan04['count']=1"
      ]
    },
    {
      "cell_type": "code",
      "execution_count": null,
      "metadata": {
        "_cell_guid": "14896a7d-f29e-81a9-680b-319cde8b20ad"
      },
      "outputs": [],
      "source": [
        "loan04.head()"
      ]
    },
    {
      "cell_type": "code",
      "execution_count": null,
      "metadata": {
        "_cell_guid": "6e6642e3-779e-8467-14fe-189cdaafd70e"
      },
      "outputs": [],
      "source": [
        "loan04_2=loan04.groupby(['issue_y','loan_status']).sum()"
      ]
    },
    {
      "cell_type": "code",
      "execution_count": null,
      "metadata": {
        "_cell_guid": "666b7a77-8d52-1550-3bab-643206e574fd"
      },
      "outputs": [],
      "source": [
        "loan04_2=loan04_2.unstack(level=1).fillna(0)\n",
        "loan04_2.head()"
      ]
    },
    {
      "cell_type": "code",
      "execution_count": null,
      "metadata": {
        "_cell_guid": "85f437be-1458-25f9-f2ce-ec394a618505"
      },
      "outputs": [],
      "source": [
        "loan04_3=loan04_2\n",
        "loan04_3.describe().transpose().iloc[:,0]"
      ]
    },
    {
      "cell_type": "code",
      "execution_count": null,
      "metadata": {
        "_cell_guid": "df6e66e4-757d-8686-e170-97cfc267650a"
      },
      "outputs": [],
      "source": [
        "\n",
        "loan04_3['total loan record']=np.sum(loan04_3, axis=1)\n",
        "    "
      ]
    },
    {
      "cell_type": "code",
      "execution_count": null,
      "metadata": {
        "_cell_guid": "c0c71b97-7856-030d-c641-d1a0a43d7bb7"
      },
      "outputs": [],
      "source": [
        "loan04_3['total default record']=np.sum(loan04_3[[0,2,3,8,9]], axis=1)"
      ]
    },
    {
      "cell_type": "code",
      "execution_count": null,
      "metadata": {
        "_cell_guid": "5cc84fe7-1867-a316-61f4-e22e8a1c689a"
      },
      "outputs": [],
      "source": [
        "loan04_3['default rate']=round(loan04_3\n",
        "                               ['total default record']\n",
        "                               /loan04_3['total loan record'],4)"
      ]
    },
    {
      "cell_type": "code",
      "execution_count": null,
      "metadata": {
        "_cell_guid": "f2348ac4-41bc-f1a6-1b75-9f805a700716"
      },
      "outputs": [],
      "source": [
        "#Slice the records amount part:\n",
        "loan04_4=loan04_3.iloc[:,[-3,-2]]"
      ]
    },
    {
      "cell_type": "code",
      "execution_count": null,
      "metadata": {
        "_cell_guid": "33bcb51f-915b-7962-c070-54fe73d0b6bc"
      },
      "outputs": [],
      "source": [
        "loan04_4"
      ]
    },
    {
      "cell_type": "code",
      "execution_count": null,
      "metadata": {
        "_cell_guid": "1f060beb-4d11-6c7c-a1de-44a11947629f"
      },
      "outputs": [],
      "source": [
        "#draw a line chart to show the trend of loan records and defult loan records:\n",
        "\n",
        "line1, = plt.plot(loan04_4['total loan record'], label=\"total loan record\", linestyle='--')\n",
        "line2, = plt.plot(loan04_4['total default record'], label=\"total default record\", linewidth=2)\n",
        "legend1 = plt.legend(handles=[line1], loc=1)\n",
        "ax = plt.gca().add_artist(legend1)\n",
        "plt.legend(handles=[line2], loc=2)\n",
        "plt.ticklabel_format(useOffset=False)\n",
        "plt.title('Total Default Records & Total Loan Records')\n",
        "plt.show()"
      ]
    },
    {
      "cell_type": "code",
      "execution_count": null,
      "metadata": {
        "_cell_guid": "906d1754-d9f9-5289-ce71-70db9ede290b"
      },
      "outputs": [],
      "source": [
        "#Slice the rate part:\n",
        "loan04_5=loan04_3.iloc[:,[-1]]"
      ]
    },
    {
      "cell_type": "code",
      "execution_count": null,
      "metadata": {
        "_cell_guid": "84b7b535-84da-2975-a3dc-8ed4ad9f3c26"
      },
      "outputs": [],
      "source": [
        "loan04_5"
      ]
    },
    {
      "cell_type": "code",
      "execution_count": null,
      "metadata": {
        "_cell_guid": "98d61d57-bf1f-69d6-3cdb-b9c193df36fd"
      },
      "outputs": [],
      "source": [
        "#Draw a grapg to learn the trend of default rate from 2007 to 2015\n",
        "pic4=loan04_5.plot(figsize=(20,10), fontsize=20, color='orange',lw=3, legend=False)\n",
        "pic4.set_title('Default Rate from 2007 to 2015', fontsize=20)\n",
        "pic4.set_xlabel('Year', fontsize=18)\n",
        "plt.ticklabel_format(useOffset=False)"
      ]
    },
    {
      "cell_type": "code",
      "execution_count": null,
      "metadata": {
        "_cell_guid": "b172026a-6995-abe6-7245-5f11422b7fca"
      },
      "outputs": [],
      "source": [
        "#default and grade\n",
        "loan05=loan00.iloc[:,[3,5]]\n",
        "loan05['count']=1\n",
        "loan05.head(10)"
      ]
    },
    {
      "cell_type": "code",
      "execution_count": null,
      "metadata": {
        "_cell_guid": "416da963-8fdb-46d2-9aaa-35c69a051a8a"
      },
      "outputs": [],
      "source": [
        "loan05_1=loan05.groupby(['grade','loan_status']).sum()\n",
        "loan05_2=loan05_1.unstack(level=1)\n",
        "loan05_2"
      ]
    },
    {
      "cell_type": "code",
      "execution_count": null,
      "metadata": {
        "_cell_guid": "13cbdc1a-19cc-2379-ab3f-5f349ee0edb8"
      },
      "outputs": [],
      "source": [
        "loan05_3=loan05_2\n",
        "loan05_3['total default record']=np.sum(loan05_3[[0,2,3,8,9]], axis=1)\n",
        "loan05_3['total loan record']=np.sum(loan05_3, axis=1)\n",
        "loan05_3"
      ]
    },
    {
      "cell_type": "code",
      "execution_count": null,
      "metadata": {
        "_cell_guid": "1ba4d5d4-e12d-ef97-3de0-59a7afa89f68"
      },
      "outputs": [],
      "source": [
        "loan05_3['default rate']=round(loan05_3\n",
        "                               ['total default record']\n",
        "                               /loan05_3['total loan record'],4)\n",
        "loan05_3"
      ]
    },
    {
      "cell_type": "code",
      "execution_count": null,
      "metadata": {
        "_cell_guid": "6b467ebf-a78f-73af-c2c8-24aff2992c47"
      },
      "outputs": [],
      "source": [
        "loan05_4=loan05_3.iloc[:,[-1]]\n",
        "loan05_4"
      ]
    },
    {
      "cell_type": "code",
      "execution_count": null,
      "metadata": {
        "_cell_guid": "97bddef2-7391-dfcf-3771-d273114c8f2f"
      },
      "outputs": [],
      "source": [
        "loan05_5=loan05_4.reset_index()\n",
        "loan05_5"
      ]
    },
    {
      "cell_type": "code",
      "execution_count": null,
      "metadata": {
        "_cell_guid": "d11cd4ac-7857-5f09-6862-13e738448d81"
      },
      "outputs": [],
      "source": [
        "loan_merge=loan03_2.reset_index()\n",
        "loan05_6=pd.merge(loan_merge,loan05_5, how='inner', on=['grade'])\n",
        "loan05_6"
      ]
    },
    {
      "cell_type": "code",
      "execution_count": null,
      "metadata": {
        "_cell_guid": "83b00d3f-68df-1a80-7a8b-820f8670ea05"
      },
      "outputs": [],
      "source": [
        "loan05_7=loan05_6.iloc[:,[0,1,-1]]\n",
        "loan05_7['default rate']=loan05_7.iloc[:,[-1]]*100\n",
        "loan05_7=loan05_7.iloc[:,[0,1,-1]]\n",
        "loan05_7['interest rate']=round((loan05_7.iloc[:,[1]]),2)\n",
        "loan05_7=loan05_7.iloc[:,[0,-2,-1]]\n",
        "loan05_7=loan05_7.set_index(['grade'])\n",
        "loan05_7"
      ]
    },
    {
      "cell_type": "code",
      "execution_count": null,
      "metadata": {
        "_cell_guid": "1f26bc98-2787-594f-8ef7-5619d91468f1"
      },
      "outputs": [],
      "source": [
        "fig,ax=plt.subplots()\n",
        "loan05_7.plot(kind='bar', ax=ax, rot=0, color=['lightslategrey','orange'], \n",
        "              title='Comparison of 36 months interest rate and default rate', legend=False)\n",
        "\n",
        "orange_patch = mpatches.Patch(color='orange', label='interest rate')\n",
        "legend1=plt.legend(handles=[orange_patch], loc=(0.04,0.73))\n",
        "ax = plt.gca().add_artist(legend1)\n",
        "grey_patch = mpatches.Patch(color='grey', label='default rate')\n",
        "plt.legend(handles=[grey_patch],loc=(0.04,0.86))"
      ]
    },
    {
      "cell_type": "code",
      "execution_count": null,
      "metadata": {
        "_cell_guid": "81619314-b874-0b55-15c3-978d21aef427"
      },
      "outputs": [],
      "source": [
        "loan06=loan00.iloc[:,[-1,3]]\n",
        "loan06['issue_y']=loan06['issue_d2'].apply(lambda x: x.year)\n",
        "loan06=loan06.drop(['issue_d2'],axis=1)\n",
        "loan06['count']=1"
      ]
    },
    {
      "cell_type": "code",
      "execution_count": null,
      "metadata": {
        "_cell_guid": "5a058ece-a5f8-cac0-ca9b-e4e59484344d"
      },
      "outputs": [],
      "source": [
        "loan06=loan06.groupby(['issue_y','grade']).sum()"
      ]
    },
    {
      "cell_type": "code",
      "execution_count": null,
      "metadata": {
        "_cell_guid": "3244d431-8892-0d23-b84b-daa152441807"
      },
      "outputs": [],
      "source": [
        "loan06"
      ]
    },
    {
      "cell_type": "code",
      "execution_count": null,
      "metadata": {
        "_cell_guid": "a5ac317d-9b3a-e179-6993-bad60fbe8ab4"
      },
      "outputs": [],
      "source": [
        "def grade(year):\n",
        "    loan6_02=loan06.ix[year]\n",
        "    colors = ['forestgreen', 'skyblue', 'lightcyan', 'darkkhaki', 'gold','teal','tomato']\n",
        "    plt.figure(figsize=(5,5))\n",
        "    figure=(15,15)\n",
        "    fig1=plt.pie(loan6_02, colors=colors, shadow=False, startangle=140, autopct='%1.1f%%')\n",
        "    plt.legend(labels=loan6_02.index, bbox_to_anchor=(0.05,0.8), loc='best', fontsize=12)\n",
        "    plt.axis='equal'\n",
        "    plt.title(year,fontsize=15)\n",
        "    plt.show"
      ]
    },
    {
      "cell_type": "code",
      "execution_count": null,
      "metadata": {
        "_cell_guid": "20d68f52-2189-05bf-e34b-a463c93b6432"
      },
      "outputs": [],
      "source": [
        "grade(2007)"
      ]
    },
    {
      "cell_type": "code",
      "execution_count": null,
      "metadata": {
        "_cell_guid": "e26cc350-1cad-1a94-f95e-cd00c9620a59"
      },
      "outputs": [],
      "source": [
        "grade(2009)"
      ]
    },
    {
      "cell_type": "code",
      "execution_count": null,
      "metadata": {
        "_cell_guid": "506ec04f-d076-f417-a55c-38f45f5e1587"
      },
      "outputs": [],
      "source": [
        "grade(2012)"
      ]
    },
    {
      "cell_type": "code",
      "execution_count": null,
      "metadata": {
        "_cell_guid": "ffb61900-0fca-c57d-c320-efe28566b161"
      },
      "outputs": [],
      "source": [
        "grade(2015)"
      ]
    },
    {
      "cell_type": "code",
      "execution_count": null,
      "metadata": {
        "_cell_guid": "0ca196e1-600a-124e-6959-e1d5a3c1d9dc",
        "collapsed": true
      },
      "outputs": [],
      "source": ""
    }
  ],
  "metadata": {
    "_change_revision": 0,
    "_is_fork": false,
    "kernelspec": {
      "display_name": "Python 3",
      "language": "python",
      "name": "python3"
    },
    "language_info": {
      "codemirror_mode": {
        "name": "ipython",
        "version": 3
      },
      "file_extension": ".py",
      "mimetype": "text/x-python",
      "name": "python",
      "nbconvert_exporter": "python",
      "pygments_lexer": "ipython3",
      "version": "3.6.0"
    }
  },
  "nbformat": 4,
  "nbformat_minor": 0
}