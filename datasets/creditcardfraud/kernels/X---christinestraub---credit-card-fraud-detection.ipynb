{
  "cells": [
    {
      "cell_type": "markdown",
      "metadata": {
        "_cell_guid": "0dc1fc5f-af6e-fd70-1d6f-4fc5d05a52ac"
      },
      "source": [
        "CS198 Machine Learning\n"
      ]
    },
    {
      "cell_type": "code",
      "execution_count": null,
      "metadata": {
        "_cell_guid": "f87963e0-a38a-1b5c-e538-5039135a9f75"
      },
      "outputs": [],
      "source": [
        "# Import libraries \n",
        "import pandas as pd\n",
        "import numpy as np\n",
        "\n",
        "#import display for DataFrame usage\n",
        "from IPython.display import display\n",
        "\n",
        "# Load the credit card transactions dataset\n",
        "data = pd.read_csv(\"../input/creditcard.csv\")"
      ]
    },
    {
      "cell_type": "code",
      "execution_count": null,
      "metadata": {
        "_cell_guid": "3b5c342b-6aaf-22aa-5c4f-cf4c4c5525e0"
      },
      "outputs": [],
      "source": [
        "data_class_outcomes = data['Class']\n",
        "#preserving only necessary columns \n",
        "data.drop(['Class'], axis = 1, inplace = True)"
      ]
    },
    {
      "cell_type": "code",
      "execution_count": null,
      "metadata": {
        "_cell_guid": "5b946d6e-6951-ef2f-2eca-f14ebb4009e8"
      },
      "outputs": [],
      "source": [
        "#import train_test_split\n",
        "from sklearn.model_selection import train_test_split\n",
        "\n",
        "X_train, X_test, y_train, y_test = train_test_split(data,data_class_outcomes,test_size=0.25, random_state=42)\n",
        "print(\"Training and testing split was successful.\")"
      ]
    },
    {
      "cell_type": "code",
      "execution_count": null,
      "metadata": {
        "_cell_guid": "27d39acb-27ab-9635-ea60-f975caf70d4d"
      },
      "outputs": [],
      "source": [
        "#Classifier = RFC\n",
        "from sklearn.ensemble import RandomForestClassifier\n",
        "\n",
        "def implement_rfc(X_train,y_train,X_test):\n",
        "    \"\"\"\n",
        "    This function fits and transforms data using \n",
        "    Random Forest Classifier technique and \n",
        "    returns the y_pred value\n",
        "    \"\"\"\n",
        "    clf_B = RandomForestClassifier(n_estimators=98)\n",
        "    clf_B.fit(X_train, y_train)\n",
        "    y_pred = clf_B.predict(X_test)\n",
        "    return y_pred\n",
        "    "
      ]
    },
    {
      "cell_type": "code",
      "execution_count": null,
      "metadata": {
        "_cell_guid": "12ab6ed8-145e-5fee-1271-cfcdd4522b9d"
      },
      "outputs": [],
      "source": [
        "y_pred = implement_rfc(X_train,y_train,X_test)"
      ]
    },
    {
      "cell_type": "code",
      "execution_count": null,
      "metadata": {
        "_cell_guid": "7d80a509-5d10-7297-f3eb-c9b11eacb44a"
      },
      "outputs": [],
      "source": [
        "from sklearn.metrics import confusion_matrix\n",
        "def calculate_confusion_matrix(y_test, y_pred):\n",
        "    return confusion_matrix(y_test, y_pred)"
      ]
    },
    {
      "cell_type": "code",
      "execution_count": null,
      "metadata": {
        "_cell_guid": "4df17c10-d323-aa93-b496-6d8b954492b3"
      },
      "outputs": [],
      "source": [
        "result_confusion_matrix = calculate_confusion_matrix(y_test, y_pred)"
      ]
    },
    {
      "cell_type": "code",
      "execution_count": null,
      "metadata": {
        "_cell_guid": "7d1c6948-972b-2eea-ded2-37d043fcbd97"
      },
      "outputs": [],
      "source": [
        "import matplotlib.pyplot as plt\n",
        "def plot_confusion_matrix(cm, classes,\n",
        "                          normalize=False,\n",
        "                          title='Confusion matrix',\n",
        "                          cmap=plt.cm.Blues):\n",
        "    \"\"\"\n",
        "    This function prints and plots the confusion matrix.\n",
        "    Normalization can be applied by setting `normalize=True`.\n",
        "    \"\"\"\n",
        "    plt.imshow(cm, interpolation='nearest', cmap=cmap)\n",
        "    plt.title(title)\n",
        "    plt.colorbar()\n",
        "    tick_marks = np.arange(len(classes))\n",
        "    plt.xticks(tick_marks, classes, rotation=45)\n",
        "    plt.yticks(tick_marks, classes)\n",
        "\n",
        "    if normalize:\n",
        "        cm = cm.astype('float') / cm.sum(axis=1)[:, np.newaxis]\n",
        "        print(\"Normalized confusion matrix\")\n",
        "    else:\n",
        "        print('Confusion matrix, without normalization')\n",
        "\n",
        "    print(cm)\n",
        "\n",
        "    thresh = cm.max() / 2.\n",
        "    for i, j in itertools.product(range(cm.shape[0]), range(cm.shape[1])):\n",
        "        plt.text(j, i, cm[i, j],\n",
        "                 horizontalalignment=\"center\",\n",
        "                 color=\"white\" if cm[i, j] > thresh else \"black\")\n",
        "\n",
        "    plt.tight_layout()\n",
        "    plt.ylabel('True label')\n",
        "    plt.xlabel('Predicted label')"
      ]
    },
    {
      "cell_type": "code",
      "execution_count": null,
      "metadata": {
        "_cell_guid": "d54473e7-45ae-38ca-4030-a5280a9d090b"
      },
      "outputs": [],
      "source": [
        "import numpy as np\n",
        "import itertools\n",
        "class_names = [0,1]\n",
        "plot_confusion_matrix(result_confusion_matrix, classes=class_names,title='Confusion matrix, with all dimensions, time and amount')"
      ]
    },
    {
      "cell_type": "code",
      "execution_count": null,
      "metadata": {
        "_cell_guid": "132857f2-e9d7-80cd-7ebf-fced9574c566"
      },
      "outputs": [],
      "source": [
        "import collections\n",
        "def calculate_add_scores(confusion_matrix,Classifier=\"RFC\"):\n",
        "    TP = confusion_matrix[0][0]\n",
        "    FP = confusion_matrix[0][1]\n",
        "    FN = confusion_matrix[1][0]\n",
        "    TN = confusion_matrix[1][1]\n",
        "    accuracy = (TP+TN)/(TP+FP+FN+TN)\n",
        "    precision = (TP/TP+FP)\n",
        "    recall = (TP/TP+FN)\n",
        "    values = [{'Classifier':Classifier,'Accuracy':accuracy,'Precision':precision,\n",
        "              'Recall':recall}]\n",
        "    dataframe = pd.DataFrame(values,columns=values[0].keys())\n",
        "    return dataframe"
      ]
    },
    {
      "cell_type": "code",
      "execution_count": null,
      "metadata": {
        "_cell_guid": "c2e64c81-d76f-f009-63f3-4db6fda4c422"
      },
      "outputs": [],
      "source": [
        "new_df = calculate_add_scores(result_confusion_matrix)\n",
        "print(new_df)\n"
      ]
    },
    {
      "cell_type": "code",
      "execution_count": null,
      "metadata": {
        "_cell_guid": "3ac6c70b-c786-c074-f5b2-99f80b7691c9"
      },
      "outputs": [],
      "source": [
        "data_time_outcomes = data['Time']\n",
        "#preserving only necessary columns \n",
        "data.drop(['Time'], axis = 1, inplace = True)"
      ]
    },
    {
      "cell_type": "code",
      "execution_count": null,
      "metadata": {
        "_cell_guid": "20061bab-b2dd-dbd6-1229-4a78805dea77"
      },
      "outputs": [],
      "source": [
        "data.describe()"
      ]
    },
    {
      "cell_type": "code",
      "execution_count": null,
      "metadata": {
        "_cell_guid": "22ab3cd3-f25c-5f2c-7e34-f4fdd9c65949"
      },
      "outputs": [],
      "source": [
        "X_train, X_test, y_train, y_test = train_test_split(data,data_class_outcomes,test_size=0.25, random_state=42)\n",
        "print(\"Training and testing split was successful.\")"
      ]
    },
    {
      "cell_type": "code",
      "execution_count": null,
      "metadata": {
        "_cell_guid": "b2e0dc92-e677-ed05-3dd8-0d38f04f2c15"
      },
      "outputs": [],
      "source": [
        "y_pred = implement_rfc(X_train,y_train,X_test)"
      ]
    },
    {
      "cell_type": "code",
      "execution_count": null,
      "metadata": {
        "_cell_guid": "f48f1a7c-62f0-33ca-be7b-3fe51cfaaee9"
      },
      "outputs": [],
      "source": [
        "confusion_matrix_1 = calculate_confusion_matrix(y_test,y_pred)"
      ]
    },
    {
      "cell_type": "code",
      "execution_count": null,
      "metadata": {
        "_cell_guid": "718ce04a-e52d-9833-acb1-edbfb199a0ad"
      },
      "outputs": [],
      "source": [
        "class_names = [0,1]\n",
        "plot_confusion_matrix(confusion_matrix_1, normalize=False, classes=class_names,\n",
        "                      title='Confusion matrix, with all dimensions but no time ')"
      ]
    },
    {
      "cell_type": "code",
      "execution_count": null,
      "metadata": {
        "_cell_guid": "be55680c-0d59-936a-e750-64898bdaf4eb"
      },
      "outputs": [],
      "source": [
        "new_df = calculate_add_scores(confusion_matrix_1)\n",
        "frames = [df,new_df]\n",
        "df = pd.concat(frames)\n",
        "print(df)"
      ]
    },
    {
      "cell_type": "code",
      "execution_count": null,
      "metadata": {
        "_cell_guid": "20f24e56-7fa6-e014-df15-c3a0e30f408b"
      },
      "outputs": [],
      "source": [
        "data.describe()"
      ]
    },
    {
      "cell_type": "code",
      "execution_count": null,
      "metadata": {
        "_cell_guid": "678c054e-d603-b598-b7f1-7329258c7079"
      },
      "outputs": [],
      "source": [
        "data_amount_outcomes = data['Amount']\n",
        "data.drop(['Amount'], axis = 1, inplace = True)\n",
        "display(data.describe())"
      ]
    },
    {
      "cell_type": "code",
      "execution_count": null,
      "metadata": {
        "_cell_guid": "93aff78d-4b9e-9390-c1f0-1d9703a94414"
      },
      "outputs": [],
      "source": [
        "X_train, X_test, y_train, y_test = train_test_split(data,data_class_outcomes,test_size=0.25, random_state=42)\n",
        "print(\"Training and testing split was successful.\")\n",
        "y_pred = implement_rfc(X_train,y_train,X_test)\n",
        "confusion_matrix_2 = calculate_confusion_matrix(y_test,y_pred)\n",
        "class_names = [0,1]\n",
        "plot_confusion_matrix(confusion_matrix_2, normalize=False, classes=class_names,\n",
        "                      title='Confusion matrix, with all dimensions but no time and no Amount ')"
      ]
    },
    {
      "cell_type": "code",
      "execution_count": null,
      "metadata": {
        "_cell_guid": "a8e432ed-1dd8-8de8-1c07-a942e1c4b4f3"
      },
      "outputs": [],
      "source": [
        "new_df = calculate_add_scores(confusion_matrix_2)\n",
        "frames = [df,new_df]\n",
        "df = pd.concat(frames)\n",
        "print(df)"
      ]
    },
    {
      "cell_type": "code",
      "execution_count": null,
      "metadata": {
        "_cell_guid": "487dd648-3203-0faa-effb-cc39ff26fc5f"
      },
      "outputs": [],
      "source": [
        "from sklearn.preprocessing import normalize\n",
        "normalize_array = normalize(data_amount_outcomes.values.reshape(1,-1))"
      ]
    },
    {
      "cell_type": "code",
      "execution_count": null,
      "metadata": {
        "_cell_guid": "bb29b290-6ee0-ba7d-74a2-de02c9e6e033"
      },
      "outputs": [],
      "source": [
        "import numpy as np\n",
        "new_data = np.concatenate((data, normalize_array.T), axis=1)"
      ]
    },
    {
      "cell_type": "code",
      "execution_count": null,
      "metadata": {
        "_cell_guid": "b41b6d02-9b6b-455d-9f92-1d16c7549f27"
      },
      "outputs": [],
      "source": [
        "X_train, X_test, y_train, y_test = train_test_split(new_data,data_class_outcomes,test_size=0.25, random_state=42)\n",
        "print(\"Training and testing split was successful.\")\n",
        "clf = RandomForestClassifier(n_estimators=98)\n",
        "clf.fit(X_train, y_train)\n",
        "y_pred = clf.predict(X_test)\n",
        "confusion_matrix_3 = calculate_confusion_matrix(y_test,y_pred)\n",
        "class_names = [0,1]\n",
        "plot_confusion_matrix(confusion_matrix_3, normalize=False, classes=class_names,\n",
        "                      title='Confusion matrix, with all dimensions but no time and no Amount ')"
      ]
    },
    {
      "cell_type": "code",
      "execution_count": null,
      "metadata": {
        "_cell_guid": "3233f435-5137-6ecc-92f8-08e292ce0fbf"
      },
      "outputs": [],
      "source": [
        "new_df = calculate_add_scores(confusion_matrix_3)\n",
        "frames = [df,new_df]\n",
        "df = pd.concat(frames)\n",
        "print(df)"
      ]
    },
    {
      "cell_type": "code",
      "execution_count": null,
      "metadata": {
        "_cell_guid": "a85e0daa-fe16-f0be-05bd-69bb0fc70163"
      },
      "outputs": [],
      "source": [
        "#try 2 with different parameters\n",
        "X_train, X_test, y_train, y_test = train_test_split(new_data,data_class_outcomes,test_size=0.2, random_state=42)\n",
        "print(\"Training and testing split was successful.\")\n",
        "clf = RandomForestClassifier(n_estimators=98)\n",
        "clf.fit(X_train, y_train)\n",
        "y_pred = clf.predict(X_test)\n",
        "confusion_matrix_4 = calculate_confusion_matrix(y_test,y_pred)\n",
        "class_names = [0,1]\n",
        "plot_confusion_matrix(confusion_matrix_4, normalize=False, classes=class_names,\n",
        "                      title='Confusion matrix, with all dimensions but no time and normalized Amount ')"
      ]
    },
    {
      "cell_type": "code",
      "execution_count": null,
      "metadata": {
        "_cell_guid": "06d49faf-e0a7-bd8a-1d15-c3293c5693c9"
      },
      "outputs": [],
      "source": [
        "new_df = calculate_add_scores(confusion_matrix_4)\n",
        "frames = [df,new_df]\n",
        "df = pd.concat(frames)\n",
        "print(df)"
      ]
    },
    {
      "cell_type": "code",
      "execution_count": null,
      "metadata": {
        "_cell_guid": "d0358832-a058-763a-77dc-1a1a2fa8854b"
      },
      "outputs": [],
      "source": [
        "#Classifier = DTC, with max_depth=6\n",
        "from sklearn import tree\n",
        "X_train, X_test, y_train, y_test = train_test_split(new_data,data_class_outcomes,test_size=0.2, random_state=42)\n",
        "print(\"Training and testing split was successful.\")\n",
        "clf = tree.DecisionTreeClassifier(random_state=42,max_depth=6)\n",
        "clf.fit(X_train, y_train)\n",
        "y_pred = clf.predict(X_test)\n",
        "confusion_matrix_4 = calculate_confusion_matrix(y_test,y_pred)\n",
        "class_names = [0,1]\n",
        "plot_confusion_matrix(confusion_matrix_4, normalize=False, classes=class_names,\n",
        "                      title='Confusion matrix, with all dimensions but no time and normalized Amount ')"
      ]
    },
    {
      "cell_type": "code",
      "execution_count": null,
      "metadata": {
        "_cell_guid": "d5c87e85-71dd-f4c6-cc3e-d1089820e0dd"
      },
      "outputs": [],
      "source": [
        "new_df = calculate_add_scores(confusion_matrix_4,Classifier=\"DTC with max_depth=6\")\n",
        "frames = [df,new_df]\n",
        "df = pd.concat(frames)\n",
        "print(df)"
      ]
    },
    {
      "cell_type": "code",
      "execution_count": null,
      "metadata": {
        "_cell_guid": "3ff255a2-7234-8124-48f6-a39535408e70"
      },
      "outputs": [],
      "source": [
        "#Classifier = DTC, with max_depth=7\n",
        "from sklearn import tree\n",
        "X_train, X_test, y_train, y_test = train_test_split(new_data,data_class_outcomes,test_size=0.2, random_state=42)\n",
        "print(\"Training and testing split was successful.\")\n",
        "clf = tree.DecisionTreeClassifier(random_state=42,max_depth=7)\n",
        "clf.fit(X_train, y_train)\n",
        "y_pred = clf.predict(X_test)\n",
        "confusion_matrix_5 = calculate_confusion_matrix(y_test,y_pred)\n",
        "class_names = [0,1]\n",
        "plot_confusion_matrix(confusion_matrix_5, normalize=False, classes=class_names,\n",
        "                      title='Confusion matrix, with all dimensions but no time and normalized Amount ')\n",
        "accuracy_score(y_test, y_pred)"
      ]
    },
    {
      "cell_type": "code",
      "execution_count": null,
      "metadata": {
        "_cell_guid": "b430d0dd-e058-171c-388b-937fdea462c8"
      },
      "outputs": [],
      "source": [
        "new_df = calculate_add_scores(confusion_matrix_5,Classifier=\"DTC with max_depth=7\")\n",
        "frames = [df,new_df]\n",
        "df = pd.concat(frames)\n",
        "print(df)"
      ]
    },
    {
      "cell_type": "code",
      "execution_count": null,
      "metadata": {
        "_cell_guid": "06480523-da45-70a0-36d5-66de9dfce7c5"
      },
      "outputs": [],
      "source": [
        "Dimensions=\"Excludes time\"\n",
        "Dimensions=\"Excludes time and Amount \"\n",
        "Dimensions=\"Excludes time and Amount and test_size=0.2\"\n",
        "Dimensions=\"Excludes time and Normalized Amount and test_size=0.2\"\n",
        "Dimensions=\"Excludes time and normalized Amount and test_size=0.2\"\n",
        "Dimensions=\"Excludes time and normalized Amount and test_size=0.2\""
      ]
    }
  ],
  "metadata": {
    "_change_revision": 0,
    "_is_fork": false,
    "kernelspec": {
      "display_name": "Python 3",
      "language": "python",
      "name": "python3"
    },
    "language_info": {
      "codemirror_mode": {
        "name": "ipython",
        "version": 3
      },
      "file_extension": ".py",
      "mimetype": "text/x-python",
      "name": "python",
      "nbconvert_exporter": "python",
      "pygments_lexer": "ipython3",
      "version": "3.6.0"
    }
  },
  "nbformat": 4,
  "nbformat_minor": 0
}