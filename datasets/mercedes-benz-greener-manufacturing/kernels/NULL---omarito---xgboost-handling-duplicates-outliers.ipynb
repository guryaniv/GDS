{
  "cells": [
    {
      "cell_type": "markdown",
      "metadata": {
        "_cell_guid": "3c22e0ab-afa6-7647-4929-70729b953a03"
      },
      "source": [
        "**I'm mainly making this kernel to share with you the problems that I see in the data and see if we can find a suitable solution for it.\n",
        "If you like this please upvote and in the discussion if you have any proposed solutions that would improve mine please share them.**"
      ]
    },
    {
      "cell_type": "markdown",
      "metadata": {
        "_cell_guid": "da3b6192-3bdb-6aec-d2ab-2d096d8b6f5f"
      },
      "source": [
        "## Load Libraries"
      ]
    },
    {
      "cell_type": "code",
      "execution_count": null,
      "metadata": {
        "_cell_guid": "28c23747-2b25-e06d-fc7b-0bbdc134866e"
      },
      "outputs": [],
      "source": [
        "import pandas as pd\n",
        "from sklearn.model_selection import cross_val_score, train_test_split\n",
        "from xgboost import XGBRegressor\n",
        "from sklearn.metrics import r2_score\n",
        "from sklearn.pipeline import Pipeline\n",
        "import numpy as np\n"
      ]
    },
    {
      "cell_type": "markdown",
      "metadata": {
        "_cell_guid": "57003266-85f9-fb04-a186-7311977bff9f"
      },
      "source": [
        "## Load Data"
      ]
    },
    {
      "cell_type": "code",
      "execution_count": null,
      "metadata": {
        "_cell_guid": "2687f541-8999-97c8-1551-47febfc2b4c8"
      },
      "outputs": [],
      "source": [
        "train_df = pd.read_csv(\"../input/train.csv\")\n",
        "test_df = pd.read_csv(\"../input/test.csv\")\n"
      ]
    },
    {
      "cell_type": "markdown",
      "metadata": {
        "_cell_guid": "650e3685-fdf5-0130-fd32-d78f5dc082c2"
      },
      "source": [
        "## One hot encode categorical variables"
      ]
    },
    {
      "cell_type": "code",
      "execution_count": null,
      "metadata": {
        "_cell_guid": "fa53e2a8-c4bb-f037-130a-6f388205451f"
      },
      "outputs": [],
      "source": [
        "data = train_df.append(test_df)\n",
        "data = pd.get_dummies(data)\n",
        "train, test = data[0:len(train_df)], data[len(train_df):]\n"
      ]
    },
    {
      "cell_type": "markdown",
      "metadata": {
        "_cell_guid": "0aa3e7bd-1b70-fdca-9824-f9da779eb33e"
      },
      "source": [
        "## Organize data for training"
      ]
    },
    {
      "cell_type": "code",
      "execution_count": null,
      "metadata": {
        "_cell_guid": "cb8823c1-a037-3027-334b-964ac418e540"
      },
      "outputs": [],
      "source": [
        "X = train.drop([\"y\", \"ID\"], axis=1)\n",
        "Y = train[\"y\"]\n",
        "X_Test = test.drop([\"y\", \"ID\"], axis=1)"
      ]
    },
    {
      "cell_type": "markdown",
      "metadata": {
        "_cell_guid": "62825a46-4bfe-7061-ffae-2f851e9bc82b"
      },
      "source": [
        "## Handle duplicate values"
      ]
    },
    {
      "cell_type": "code",
      "execution_count": null,
      "metadata": {
        "_cell_guid": "d19bfec1-6b0a-df63-f9ba-f92e08a7f885"
      },
      "outputs": [],
      "source": [
        "def average_dupes(x):\n",
        "\tY.loc[list(x.index)] = Y.loc[list(x.index)].mean()\n",
        "    \n",
        "dupes = X[X.duplicated()]\n",
        "dupes.groupby(dupes.columns.tolist()).apply(average_dupes)\n"
      ]
    },
    {
      "cell_type": "markdown",
      "metadata": {
        "_cell_guid": "34e2d739-6f5b-3df5-eb12-a85155c530d1"
      },
      "source": [
        "## Split into Train, Validation"
      ]
    },
    {
      "cell_type": "code",
      "execution_count": null,
      "metadata": {
        "_cell_guid": "f4ebe095-2602-0ff1-d232-27a251b38057"
      },
      "outputs": [],
      "source": [
        "X, XVal, Y, YVal = train_test_split(X, Y)\n"
      ]
    },
    {
      "cell_type": "markdown",
      "metadata": {
        "_cell_guid": "34c87d63-6c72-c3ed-64d6-11ea291db060"
      },
      "source": [
        "## Remove outliers\n",
        "### This is optional, there are many ways to handle outliers"
      ]
    },
    {
      "cell_type": "code",
      "execution_count": null,
      "metadata": {
        "_cell_guid": "0309aa41-9c98-2b42-6329-78b59e72fe80"
      },
      "outputs": [],
      "source": [
        "out = Y[Y > 125].index.values  # Approximately 0.02% of the data\n",
        "X.drop(out, axis=0, inplace=True)\n",
        "Y.drop(out, axis=0, inplace=True)"
      ]
    },
    {
      "cell_type": "markdown",
      "metadata": {
        "_cell_guid": "c4df6f10-9286-a1e0-d316-9069aed1ae6d"
      },
      "source": [
        "## Initialize XGBoost"
      ]
    },
    {
      "cell_type": "code",
      "execution_count": null,
      "metadata": {
        "_cell_guid": "1b32d868-5885-42e3-b0fd-6d1609786cd5"
      },
      "outputs": [],
      "source": [
        "xgb = XGBRegressor(n_jobs=-1, max_depth=2, colsample_bytree=0.7, min_child_weight=5, gamma=0.2, n_estimators=200, learning_rate=0.05, subsample=0.95)\n"
      ]
    },
    {
      "cell_type": "markdown",
      "metadata": {
        "_cell_guid": "885dcb4a-0349-9ffa-d6ff-9a61d644af18"
      },
      "source": [
        "## Score using Cross validation"
      ]
    },
    {
      "cell_type": "code",
      "execution_count": null,
      "metadata": {
        "_cell_guid": "2fd9495e-7630-71d7-8958-650e73d0d592"
      },
      "outputs": [],
      "source": [
        "print(np.mean(cross_val_score(xgb, X, Y, scoring=\"r2\", n_jobs=-1, verbose=2, cv=3)))"
      ]
    },
    {
      "cell_type": "markdown",
      "metadata": {
        "_cell_guid": "e49f1fc9-a5d7-c2c1-e20b-e85103b17822"
      },
      "source": [
        "## Train XGBoost"
      ]
    },
    {
      "cell_type": "code",
      "execution_count": null,
      "metadata": {
        "_cell_guid": "7156aeeb-57fb-2126-df77-70b4ee6c32f1"
      },
      "outputs": [],
      "source": [
        "eval_set = [(XVal.as_matrix(), YVal.as_matrix())]\n",
        "xgb.fit(X.as_matrix(), Y.as_matrix(), eval_set=eval_set, early_stopping_rounds=5)\n",
        "print(r2_score(YVal, xgb.predict(XVal.as_matrix())))"
      ]
    },
    {
      "cell_type": "markdown",
      "metadata": {
        "_cell_guid": "54c71b9e-1342-21da-4f4e-7df92a8a767e"
      },
      "source": [
        "## Save output for submission"
      ]
    },
    {
      "cell_type": "code",
      "execution_count": null,
      "metadata": {
        "_cell_guid": "76c265c8-acbc-f6ea-d632-80816ceef74e"
      },
      "outputs": [],
      "source": [
        "Y_Test = xgb.predict(X_Test.as_matrix())\n",
        "\n",
        "results_df = pd.DataFrame(data={'y':Y_Test}) \n",
        "ids = test_df[\"ID\"]\n",
        "joined = pd.DataFrame(ids).join(results_df)\n",
        "joined.to_csv(\"mercedes.csv\", index=False)\n"
      ]
    }
  ],
  "metadata": {
    "_change_revision": 0,
    "_is_fork": false,
    "kernelspec": {
      "display_name": "Python 3",
      "language": "python",
      "name": "python3"
    },
    "language_info": {
      "codemirror_mode": {
        "name": "ipython",
        "version": 3
      },
      "file_extension": ".py",
      "mimetype": "text/x-python",
      "name": "python",
      "nbconvert_exporter": "python",
      "pygments_lexer": "ipython3",
      "version": "3.6.0"
    }
  },
  "nbformat": 4,
  "nbformat_minor": 0
}