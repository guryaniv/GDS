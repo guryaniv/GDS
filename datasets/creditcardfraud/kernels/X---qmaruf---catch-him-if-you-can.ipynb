{
  "cells": [
    {
      "cell_type": "code",
      "execution_count": null,
      "metadata": {
        "_cell_guid": "1c31a98a-458e-da89-13b8-8882844ce66a"
      },
      "outputs": [],
      "source": [
        "import pandas as pd\n",
        "import matplotlib.pylab as plt\n",
        "import seaborn as sns\n",
        "import numpy as np\n",
        "%matplotlib inline"
      ]
    },
    {
      "cell_type": "code",
      "execution_count": null,
      "metadata": {
        "_cell_guid": "2e2a8cdb-8596-1354-740d-865b3f35de4d"
      },
      "outputs": [],
      "source": [
        "df = pd.read_csv('../input/creditcard.csv')\n",
        "# Dropping Time column, we will explore it later\n",
        "df.drop('Time', axis=1, inplace=True)"
      ]
    },
    {
      "cell_type": "code",
      "execution_count": null,
      "metadata": {
        "_cell_guid": "259e28cf-8d35-2570-659e-7fd4cdda2782"
      },
      "outputs": [],
      "source": [
        "pd.set_option(\"display.max_columns\", 50)"
      ]
    },
    {
      "cell_type": "code",
      "execution_count": null,
      "metadata": {
        "_cell_guid": "f022b709-d7b1-f405-5a0b-7d5715a07f87"
      },
      "outputs": [],
      "source": [
        "df.head()"
      ]
    },
    {
      "cell_type": "code",
      "execution_count": null,
      "metadata": {
        "_cell_guid": "645a26a7-9e92-4598-bf7d-98a73adf7a55"
      },
      "outputs": [],
      "source": [
        "# we will predict the class. \n",
        "# lets check the distirbution of class column first\n",
        "sns.countplot(df.Class)\n",
        "print (df.Class.value_counts())"
      ]
    },
    {
      "cell_type": "markdown",
      "metadata": {
        "_cell_guid": "0dba86f5-6971-0223-9d2e-55f415a7fe6b"
      },
      "source": [
        "This dataset is highly skwed! Traditional accuracy metrics and classification algo will not work in this case"
      ]
    },
    {
      "cell_type": "markdown",
      "metadata": {
        "_cell_guid": "5bf18ce2-bbaa-ed51-531e-f84b98b8bfff"
      },
      "source": [
        "## Approach 1: We have N fraud transaction and M normal transaction. After splitting those normal transactions to M/N batches, we will join all fraud transaction to each batch of normal transaction and train M/N classifier. Mean prediction of those classifer will be the final prediction. "
      ]
    },
    {
      "cell_type": "code",
      "execution_count": null,
      "metadata": {
        "_cell_guid": "7db78497-e67f-164b-c7be-862484fe232d"
      },
      "outputs": [],
      "source": [
        "# Normalizing amount column\n",
        "from sklearn.preprocessing import StandardScaler\n",
        "ss = StandardScaler()\n",
        "df.Amount = ss.fit_transform(df.Amount.values.reshape(-1,1))"
      ]
    },
    {
      "cell_type": "code",
      "execution_count": null,
      "metadata": {
        "_cell_guid": "7fa453c8-6f52-8d32-317b-6e130dcecdda"
      },
      "outputs": [],
      "source": [
        "X = df.copy()\n",
        "y = X.Class\n",
        "X.drop('Class', axis=1, inplace=True)\n",
        "\n",
        "from sklearn.model_selection import StratifiedKFold\n",
        "skf = StratifiedKFold(n_splits=5, shuffle=True)"
      ]
    },
    {
      "cell_type": "markdown",
      "metadata": {
        "_cell_guid": "67e8a712-7b25-192a-cd76-99db3ca5871d"
      },
      "source": [
        "## We will explore the impact of naive bayes and support vector classifier here."
      ]
    },
    {
      "cell_type": "code",
      "execution_count": null,
      "metadata": {
        "_cell_guid": "6d07ee7d-7e1a-f2d2-9021-fc509f1f0730"
      },
      "outputs": [],
      "source": [
        "from sklearn.svm import SVC\n",
        "from sklearn import metrics\n",
        "from sklearn.naive_bayes import GaussianNB\n",
        "\n",
        "names = ['naive bayes', 'support vector']\n",
        "classifiers = [GaussianNB(), SVC(random_state=1971)]\n",
        "\n",
        "\n",
        "for i, clf in enumerate(classifiers):\n",
        "    # removing continue before run\n",
        "    continue\n",
        "    fold = 0\n",
        "    scores = []\n",
        "    for train_index, test_index in skf.split(X, y):\n",
        "        fold += 1\n",
        "        X_train, X_test = X.iloc[train_index], X.iloc[test_index]\n",
        "        y_train, y_test = y.iloc[train_index], y.iloc[test_index]   \n",
        "\n",
        "        X_train_0 = X_train[y_train==0]\n",
        "        X_train_1 = X_train[y_train==1]    \n",
        "        n_batch = X_train_0.shape[0]/X_train_1.shape[0]\n",
        "        total_auc = 0\n",
        "        for df in np.array_split(X_train_0, n_batch):\n",
        "            tx = pd.concat([df, X_train_1], axis=0)\n",
        "            ty = pd.concat([y_train[df.index], y_train[X_train_1.index]], axis=0)\n",
        "            clf.fit(tx, ty)\n",
        "            pred = clf.predict(X_test)\n",
        "            auc = metrics.roc_auc_score(y_test, pred)\n",
        "            total_auc += auc\n",
        "        score = total_auc/n_batch\n",
        "        print ('Fold %d, AUC %f'%(fold, score))\n",
        "        scores.append(score)\n",
        "    print ('\\t\\tFor %s, Average AUC %f'%(names[i], np.mean(scores)))\n",
        "    \n",
        "''' \n",
        "Output\n",
        "Fold 1, AUC 0.921959\n",
        "Fold 2, AUC 0.883892\n",
        "Fold 3, AUC 0.923130\n",
        "Fold 4, AUC 0.932657\n",
        "Fold 5, AUC 0.911566\n",
        "\t\tFor naive bayes, Average AUC 0.914641\n",
        "Fold 1, AUC 0.874598\n",
        "Fold 2, AUC 0.877759\n",
        "Fold 3, AUC 0.866763\n",
        "Fold 4, AUC 0.865084\n",
        "Fold 5, AUC 0.883443\n",
        "\t\tFor support vector, Average AUC 0.873529\n",
        "'''"
      ]
    },
    {
      "cell_type": "markdown",
      "metadata": {
        "_cell_guid": "abdcd448-c51c-8c38-cbb1-1b48a4a9099a"
      },
      "source": [
        "## Approah 2: Use kmeans to create N cluster out of M normal transaction and use those cluster means instead of normal transaction. Now we have equal number of fraud and normal transactions."
      ]
    },
    {
      "cell_type": "code",
      "execution_count": null,
      "metadata": {
        "_cell_guid": "5e93f91f-a589-9c5c-bc4f-7c580c0c4aa0"
      },
      "outputs": [],
      "source": [
        "from sklearn.svm import SVC\n",
        "from sklearn import metrics\n",
        "from sklearn.naive_bayes import GaussianNB\n",
        "from sklearn.cluster import KMeans\n",
        "\n",
        "names = ['naive bayes', 'support vector']\n",
        "classifiers = [GaussianNB(), SVC(random_state=1971)]\n",
        "\n",
        "for i, clf in enumerate(classifiers):\n",
        "    # remove continue before run\n",
        "    continue\n",
        "    fold = 0\n",
        "    scores = []\n",
        "    total_auc = 0\n",
        "    for train_index, test_index in skf.split(X, y):\n",
        "        fold += 1\n",
        "        X_train, X_test = X.iloc[train_index], X.iloc[test_index]\n",
        "        y_train, y_test = y.iloc[train_index], y.iloc[test_index]   \n",
        "\n",
        "        X_train_0 = X_train[y_train==0]\n",
        "        X_train_1 = X_train[y_train==1]            \n",
        "        \n",
        "        kmeans = KMeans(n_clusters=X_train_1.shape[0], init='k-means++', verbose=0, max_iter=10)\n",
        "        X_train_0 = kmeans.fit(X_train_0).cluster_centers_\n",
        "        \n",
        "        tx = np.concatenate((X_train_0, np.array(X_train_1)), axis=0)\n",
        "        ty = np.concatenate([np.zeros((len(X_train_0))), np.ones(len(X_train_1))], axis=0).reshape(-1, 1)\n",
        "        \n",
        "        clf.fit(tx, ty)\n",
        "        pred = clf.predict(X_test)\n",
        "        auc = metrics.roc_auc_score(y_test, pred)\n",
        "        total_auc += auc        \n",
        "        print ('Fold %d, AUC %f'%(fold, auc)    )\n",
        "        scores.append(auc)\n",
        "    print ('\\t\\tFor %s, Average AUC %f'%(names[i], np.mean(scores)))\n",
        "    \n",
        "'''\n",
        "output\n",
        "Fold 1, AUC 0.902352\n",
        "Fold 2, AUC 0.932699\n",
        "Fold 3, AUC 0.905912\n",
        "Fold 4, AUC 0.921139\n",
        "Fold 5, AUC 0.936947\n",
        "\t\tFor naive bayes, Average AUC 0.919810\n",
        "Fold 1, AUC 0.922047\n",
        "Fold 2, AUC 0.942619\n",
        "Fold 3, AUC 0.951261\n",
        "Fold 4, AUC 0.939668\n",
        "Fold 5, AUC 0.937353\n",
        "\t\tFor support vector, Average AUC 0.938590\n",
        "'''"
      ]
    },
    {
      "cell_type": "code",
      "execution_count": null,
      "metadata": {
        "_cell_guid": "c7a0ee77-3447-a061-b54c-a264286d1da9"
      },
      "outputs": [],
      "source": ""
    }
  ],
  "metadata": {
    "_change_revision": 0,
    "_is_fork": false,
    "kernelspec": {
      "display_name": "Python 3",
      "language": "python",
      "name": "python3"
    },
    "language_info": {
      "codemirror_mode": {
        "name": "ipython",
        "version": 3
      },
      "file_extension": ".py",
      "mimetype": "text/x-python",
      "name": "python",
      "nbconvert_exporter": "python",
      "pygments_lexer": "ipython3",
      "version": "3.6.0"
    }
  },
  "nbformat": 4,
  "nbformat_minor": 0
}