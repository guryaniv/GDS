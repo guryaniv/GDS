{
  "cells": [
    {
      "cell_type": "code",
      "execution_count": null,
      "metadata": {
        "_cell_guid": "5abae49b-6d2b-a300-f6bc-aa52cc45b4e9"
      },
      "outputs": [],
      "source": [
        "# This Python 3 environment comes with many helpful analytics libraries installed\n",
        "# It is defined by the kaggle/python docker image: https://github.com/kaggle/docker-python\n",
        "# For example, here's several helpful packages to load in \n",
        "\n",
        "import numpy as np # linear algebra\n",
        "import pandas as pd # data processing, CSV file I/O (e.g. pd.read_csv)\n",
        "import tensorflow as ts\n",
        "import matplotlib.pyplot as plt\n",
        "import seaborn as sns\n",
        "color = sns.color_palette()\n",
        "\n",
        "%matplotlib inline\n",
        "\n",
        "pd.options.mode.chained_assignment = None\n",
        "pd.options.display.max_columns = 999\n",
        "\n",
        "# Input data files are available in the \"../input/\" directory.\n",
        "# For example, running this (by clicking run or pressing Shift+Enter) will list the files in the input directory\n",
        "\n",
        "from subprocess import check_output\n",
        "print(check_output([\"ls\", \"../input\"]).decode(\"utf8\"))\n",
        "\n",
        "# Any results you write to the current directory are saved as output."
      ]
    },
    {
      "cell_type": "code",
      "execution_count": null,
      "metadata": {
        "_cell_guid": "e0eb37e1-1de3-9984-9f7a-4935d8b4a527"
      },
      "outputs": [],
      "source": [
        "train_df = pd.read_csv(\"../input/train_2016.csv\", parse_dates=[\"transactiondate\"])\n",
        "train_df.shape"
      ]
    },
    {
      "cell_type": "code",
      "execution_count": null,
      "metadata": {
        "_cell_guid": "7d3900f7-33d0-b63e-bacd-ddabd1a3f01c"
      },
      "outputs": [],
      "source": [
        "train_df.head()"
      ]
    },
    {
      "cell_type": "code",
      "execution_count": null,
      "metadata": {
        "_cell_guid": "8f39ac65-d4a8-e8b7-a933-004b9dd90d88"
      },
      "outputs": [],
      "source": [
        "plt.figure(figsize=(8,6))\n",
        "plt.scatter(range(train_df.shape[0]), np.sort(train_df.logerror.values))\n",
        "plt.xlabel('index', fontsize=12)\n",
        "plt.ylabel('logerror', fontsize=12)\n",
        "plt.show()"
      ]
    },
    {
      "cell_type": "code",
      "execution_count": null,
      "metadata": {
        "_cell_guid": "ebfcb805-d420-a3ef-2df8-8e46994fb54c"
      },
      "outputs": [],
      "source": [
        "ulimit = np.percentile(train_df.logerror.values, 99)\n",
        "llimit = np.percentile(train_df.logerror.values, 1)\n",
        "train_df['logerror'].ix[train_df['logerror']>ulimit] = ulimit\n",
        "train_df['logerror'].ix[train_df['logerror']<llimit] = llimit\n",
        "\n",
        "plt.figure(figsize=(12,8))\n",
        "sns.distplot(train_df.logerror.values, bins=50, kde=False)\n",
        "plt.xlabel('logerror', fontsize=12)\n",
        "plt.show()"
      ]
    },
    {
      "cell_type": "code",
      "execution_count": null,
      "metadata": {
        "_cell_guid": "15785954-de2b-c8f1-f725-435c9f4d00ee"
      },
      "outputs": [],
      "source": [
        "train_df['transaction_month'] = train_df['transactiondate'].dt.month\n",
        "\n",
        "cnt_srs = train_df['transaction_month'].value_counts()\n",
        "plt.figure(figsize=(12,6))\n",
        "sns.barplot(cnt_srs.index, cnt_srs.values, alpha=0.8, color=color[3])\n",
        "plt.xticks(rotation='vertical')\n",
        "plt.xlabel('N\u00b0 Mois', fontsize=12)\n",
        "plt.ylabel('Nb de transactions', fontsize=12)\n",
        "plt.show()"
      ]
    },
    {
      "cell_type": "code",
      "execution_count": null,
      "metadata": {
        "_cell_guid": "a85b8d75-1d52-419e-4258-1517d57575ee"
      },
      "outputs": [],
      "source": [
        "(train_df['parcelid'].value_counts().reset_index())['parcelid'].value_counts()"
      ]
    },
    {
      "cell_type": "markdown",
      "metadata": {
        "_cell_guid": "7120a44a-2a33-cc79-904d-33c32f2759f9"
      },
      "source": [
        "**\n",
        "\n",
        "Properties\n",
        "----------\n",
        "\n",
        "**"
      ]
    },
    {
      "cell_type": "code",
      "execution_count": null,
      "metadata": {
        "_cell_guid": "ea5104e2-edce-045a-8c89-92e673a36ac6"
      },
      "outputs": [],
      "source": [
        "\n",
        "prop_df = pd.read_csv(\"../input/properties_2016.csv\")\n",
        "prop_df.shape"
      ]
    },
    {
      "cell_type": "code",
      "execution_count": null,
      "metadata": {
        "_cell_guid": "0e674a12-9df0-a152-a446-d4da9446baab"
      },
      "outputs": [],
      "source": [
        "prop_df.head()"
      ]
    },
    {
      "cell_type": "code",
      "execution_count": null,
      "metadata": {
        "_cell_guid": "8402368a-5f4c-eb04-e169-6d5a4adcdc5c"
      },
      "outputs": [],
      "source": [
        "missing_df = prop_df.isnull().sum(axis=0).reset_index()\n",
        "missing_df.columns = ['column_name', 'missing_count']\n",
        "missing_df = missing_df.ix[missing_df['missing_count']>0]\n",
        "missing_df = missing_df.sort_values(by='missing_count')\n",
        "\n",
        "ind = np.arange(missing_df.shape[0])\n",
        "width = 0.9\n",
        "fig, ax = plt.subplots(figsize=(12,18))\n",
        "rects = ax.barh(ind, missing_df.missing_count.values, color='blue')\n",
        "ax.set_yticks(ind)\n",
        "ax.set_yticklabels(missing_df.column_name.values, rotation='horizontal')\n",
        "ax.set_xlabel(\"Count valeurs manquantes\")\n",
        "ax.set_title(\"Nombre de valeurs manquantes par colonnes\")\n",
        "plt.show()"
      ]
    },
    {
      "cell_type": "code",
      "execution_count": null,
      "metadata": {
        "_cell_guid": "45b10165-e09a-c67f-8a6c-a5e36a77ec19"
      },
      "outputs": [],
      "source": [
        "plt.figure(figsize=(12,12))\n",
        "sns.jointplot(x=prop_df.latitude.values, y=prop_df.longitude.values, size=10)\n",
        "plt.ylabel('Longitude', fontsize=12)\n",
        "plt.xlabel('Latitude', fontsize=12)\n",
        "plt.show()"
      ]
    },
    {
      "cell_type": "code",
      "execution_count": null,
      "metadata": {
        "_cell_guid": "a1c1fe13-0d2f-3d75-0044-2ecd0df7b0f8"
      },
      "outputs": [],
      "source": [
        "train_df = pd.merge(train_df, prop_df, on='parcelid', how='left')\n",
        "train_df.head()"
      ]
    },
    {
      "cell_type": "code",
      "execution_count": null,
      "metadata": {
        "_cell_guid": "630296db-4deb-fe0e-f4b4-7697a4c6cfc0"
      },
      "outputs": [],
      "source": [
        "#checkup types variables\n",
        "pd.options.display.max_rows = 65\n",
        "\n",
        "dtype_df = train_df.dtypes.reset_index()\n",
        "dtype_df.columns = [\"Count\", \"Column Type\"]\n",
        "dtype_df"
      ]
    },
    {
      "cell_type": "code",
      "execution_count": null,
      "metadata": {
        "_cell_guid": "d93f591f-69c3-9d86-3276-d84b149a9a41"
      },
      "outputs": [],
      "source": [
        "dtype_df.groupby(\"Column Type\").aggregate('count').reset_index()"
      ]
    },
    {
      "cell_type": "code",
      "execution_count": null,
      "metadata": {
        "_cell_guid": "b90b4457-2906-f693-5380-40b2c718f8aa"
      },
      "outputs": [],
      "source": [
        "#Colonnes dont la valeur manque 99% tu temps\n",
        "missing_df = train_df.isnull().sum(axis=0).reset_index()\n",
        "missing_df.columns = ['column_name', 'missing_count']\n",
        "missing_df['missing_ratio'] = missing_df['missing_count'] / train_df.shape[0]\n",
        "missing_df.ix[missing_df['missing_ratio']>0.999]"
      ]
    },
    {
      "cell_type": "markdown",
      "metadata": {
        "_cell_guid": "4d3fb043-2330-0a6e-48dc-889a6eea46ea"
      },
      "source": [
        "**\n",
        "\n",
        "Univariate Analysis\n",
        "-------------------\n",
        "\n",
        "**"
      ]
    },
    {
      "cell_type": "code",
      "execution_count": null,
      "metadata": {
        "_cell_guid": "d48a6cb4-0af0-12d9-34f4-e6cf84fa0099"
      },
      "outputs": [],
      "source": [
        "# Let us just impute the missing values with mean values to compute correlation coefficients #\n",
        "mean_values = train_df.mean(axis=0)\n",
        "train_df_new = train_df.fillna(mean_values, inplace=True)\n",
        "\n",
        "# Now let us look at the correlation coefficient of each of these variables #\n",
        "x_cols = [col for col in train_df_new.columns if col not in ['logerror'] if train_df_new[col].dtype=='float64']\n",
        "\n",
        "labels = []\n",
        "values = []\n",
        "for col in x_cols:\n",
        "    labels.append(col)\n",
        "    values.append(np.corrcoef(train_df_new[col].values, train_df_new.logerror.values)[0,1])\n",
        "corr_df = pd.DataFrame({'col_labels':labels, 'corr_values':values})\n",
        "corr_df = corr_df.sort_values(by='corr_values')\n",
        "    \n",
        "ind = np.arange(len(labels))\n",
        "width = 0.9\n",
        "fig, ax = plt.subplots(figsize=(12,40))\n",
        "rects = ax.barh(ind, np.array(corr_df.corr_values.values), color='y')\n",
        "ax.set_yticks(ind)\n",
        "ax.set_yticklabels(corr_df.col_labels.values, rotation='horizontal')\n",
        "ax.set_xlabel(\"Correlation coefficient\")\n",
        "ax.set_title(\"Correlation coefficient of the variables\")\n",
        "#autolabel(rects)\n",
        "plt.show()\n"
      ]
    },
    {
      "cell_type": "code",
      "execution_count": null,
      "metadata": {
        "_cell_guid": "f3ec2e36-05a9-5a1c-e238-30fa0dee21c3"
      },
      "outputs": [],
      "source": [
        "corr_zero_cols = ['assessmentyear', 'storytypeid', 'pooltypeid2', 'pooltypeid7', 'pooltypeid10', 'poolcnt', 'decktypeid', 'buildingclasstypeid']\n",
        "for col in corr_zero_cols:\n",
        "    print(col, len(train_df_new[col].unique()))"
      ]
    },
    {
      "cell_type": "code",
      "execution_count": null,
      "metadata": {
        "_cell_guid": "5029beaf-a85e-a2f2-f871-42461d60202b"
      },
      "outputs": [],
      "source": [
        "corr_df_sel = corr_df.ix[(corr_df['corr_values']>0.02) | (corr_df['corr_values'] < -0.01)]\n",
        "corr_df_sel"
      ]
    },
    {
      "cell_type": "code",
      "execution_count": null,
      "metadata": {
        "_cell_guid": "cd11554e-55e0-4baa-b54d-a90b0c16a96c"
      },
      "outputs": [],
      "source": [
        "cols_to_use = corr_df_sel.col_labels.tolist()\n",
        "\n",
        "temp_df = train_df[cols_to_use]\n",
        "corrmat = temp_df.corr(method='spearman')\n",
        "f, ax = plt.subplots(figsize=(8, 8))\n",
        "\n",
        "# Draw the heatmap using seaborn\n",
        "sns.heatmap(corrmat, vmax=1., square=True)\n",
        "plt.title(\"Important variables correlation map\", fontsize=15)\n",
        "plt.show()"
      ]
    },
    {
      "cell_type": "code",
      "execution_count": null,
      "metadata": {
        "_cell_guid": "6874649e-9264-0eec-9dfd-fe29ebe26a90"
      },
      "outputs": [],
      "source": [
        "col = \"finishedsquarefeet12\"\n",
        "ulimit = np.percentile(train_df[col].values, 99.5)\n",
        "llimit = np.percentile(train_df[col].values, 0.5)\n",
        "train_df[col].ix[train_df[col]>ulimit] = ulimit\n",
        "train_df[col].ix[train_df[col]<llimit] = llimit\n",
        "\n",
        "plt.figure(figsize=(12,12))\n",
        "sns.jointplot(x=train_df.finishedsquarefeet12.values, y=train_df.logerror.values, size=10, color=color[4])\n",
        "plt.ylabel('Log Error', fontsize=12)\n",
        "plt.xlabel('Finished Square Feet 12', fontsize=12)\n",
        "plt.title(\"Finished square feet 12 Vs Log error\", fontsize=15)\n",
        "plt.show()"
      ]
    },
    {
      "cell_type": "code",
      "execution_count": null,
      "metadata": {
        "_cell_guid": "1b9dc56b-46ac-f6f8-cfdd-18a5a186b5f0"
      },
      "outputs": [],
      "source": [
        "col = \"calculatedfinishedsquarefeet\"\n",
        "ulimit = np.percentile(train_df[col].values, 99.5)\n",
        "llimit = np.percentile(train_df[col].values, 0.5)\n",
        "train_df[col].ix[train_df[col]>ulimit] = ulimit\n",
        "train_df[col].ix[train_df[col]<llimit] = llimit\n",
        "\n",
        "plt.figure(figsize=(12,12))\n",
        "sns.jointplot(x=train_df.calculatedfinishedsquarefeet.values, y=train_df.logerror.values, size=10, color=color[5])\n",
        "plt.ylabel('Log Error', fontsize=12)\n",
        "plt.xlabel('Calculated finished square feet', fontsize=12)\n",
        "plt.title(\"Calculated finished square feet Vs Log error\", fontsize=15)\n",
        "plt.show()"
      ]
    },
    {
      "cell_type": "markdown",
      "metadata": {
        "_cell_guid": "f0e8bdff-8504-6268-995e-f8d01b8b718a"
      },
      "source": [
        "**\n",
        "\n",
        "Bathroom Count\n",
        "-----------\n",
        "\n",
        "**"
      ]
    },
    {
      "cell_type": "code",
      "execution_count": null,
      "metadata": {
        "_cell_guid": "5f637a43-6c8b-aa7b-4062-bfee00ed4d4c"
      },
      "outputs": [],
      "source": [
        "plt.figure(figsize=(12,8))\n",
        "sns.countplot(x=\"bathroomcnt\", data=train_df)\n",
        "plt.ylabel('Count', fontsize=12)\n",
        "plt.xlabel('Bathroom', fontsize=12)\n",
        "plt.xticks(rotation='vertical')\n",
        "plt.title(\"Frequency of Bathroom count\", fontsize=15)\n",
        "plt.show()"
      ]
    },
    {
      "cell_type": "code",
      "execution_count": null,
      "metadata": {
        "_cell_guid": "8192666f-6c39-96b7-a5d8-8ec939f1806e"
      },
      "outputs": [],
      "source": [
        "plt.figure(figsize=(12,8))\n",
        "sns.boxplot(x=\"bathroomcnt\", y=\"logerror\", data=train_df)\n",
        "plt.ylabel('Log error', fontsize=12)\n",
        "plt.xlabel('Bathroom Count', fontsize=12)\n",
        "plt.xticks(rotation='vertical')\n",
        "plt.title(\"How log error changes with bathroom count?\", fontsize=15)\n",
        "plt.show()"
      ]
    },
    {
      "cell_type": "markdown",
      "metadata": {
        "_cell_guid": "1f150894-5b91-ffe7-3605-1f9948697ec7"
      },
      "source": [
        "**\n",
        "\n",
        "Bedroom\n",
        "-------\n",
        "\n",
        "**"
      ]
    },
    {
      "cell_type": "code",
      "execution_count": null,
      "metadata": {
        "_cell_guid": "42e53d52-5fd5-8a03-a61b-55ed7d2c0153"
      },
      "outputs": [],
      "source": [
        "plt.figure(figsize=(12,8))\n",
        "sns.countplot(x=\"bedroomcnt\", data=train_df)\n",
        "plt.ylabel('Frequency', fontsize=12)\n",
        "plt.xlabel('Bedroom Count', fontsize=12)\n",
        "plt.xticks(rotation='vertical')\n",
        "plt.title(\"Frequency of Bedroom count\", fontsize=15)\n",
        "plt.show()"
      ]
    },
    {
      "cell_type": "code",
      "execution_count": null,
      "metadata": {
        "_cell_guid": "cdb65d67-3812-636e-ee41-6f808cfea911"
      },
      "outputs": [],
      "source": [
        "train_df['bedroomcnt'].ix[train_df['bedroomcnt']>7] = 7\n",
        "plt.figure(figsize=(12,8))\n",
        "sns.violinplot(x='bedroomcnt', y='logerror', data=train_df)\n",
        "plt.xlabel('Bedroom count', fontsize=12)\n",
        "plt.ylabel('Log Error', fontsize=12)\n",
        "plt.show()"
      ]
    },
    {
      "cell_type": "code",
      "execution_count": null,
      "metadata": {
        "_cell_guid": "ea894ce1-2ddf-4e1e-909a-1b6c3b2f5448"
      },
      "outputs": [],
      "source": [
        "col = \"taxamount\"\n",
        "ulimit = np.percentile(train_df[col].values, 99.5)\n",
        "llimit = np.percentile(train_df[col].values, 0.5)\n",
        "train_df[col].ix[train_df[col]>ulimit] = ulimit\n",
        "train_df[col].ix[train_df[col]<llimit] = llimit\n",
        "\n",
        "plt.figure(figsize=(12,12))\n",
        "sns.jointplot(x=train_df['taxamount'].values, y=train_df['logerror'].values, size=10, color='g')\n",
        "plt.ylabel('Log Error', fontsize=12)\n",
        "plt.xlabel('Tax Amount', fontsize=12)\n",
        "plt.title(\"Tax Amount Vs Log error\", fontsize=15)\n",
        "plt.show()"
      ]
    },
    {
      "cell_type": "markdown",
      "metadata": {
        "_cell_guid": "4b9b4375-d9bf-dd2c-8770-06130473ea73"
      },
      "source": [
        "----------\n",
        "\n",
        "\n",
        "YearBuilt\n",
        "---------\n",
        "\n",
        "\n",
        "----------\n"
      ]
    },
    {
      "cell_type": "code",
      "execution_count": null,
      "metadata": {
        "_cell_guid": "f61902e9-826b-123f-a59a-71fde683768f"
      },
      "outputs": [],
      "source": [
        "from ggplot import *\n",
        "ggplot(aes(x='yearbuilt', y='logerror'), data=train_df) + \\\n",
        "    geom_point(color='steelblue', size=1) + \\\n",
        "    stat_smooth()"
      ]
    },
    {
      "cell_type": "code",
      "execution_count": null,
      "metadata": {
        "_cell_guid": "d27a0207-3082-dfe8-980d-33941edac90f"
      },
      "outputs": [],
      "source": [
        "ggplot(aes(x='latitude', y='longitude', color='logerror'), data=train_df) + \\\n",
        "    geom_point() + \\\n",
        "    scale_color_gradient(low = 'red', high = 'blue')"
      ]
    },
    {
      "cell_type": "code",
      "execution_count": null,
      "metadata": {
        "_cell_guid": "719bb54c-bea9-ae98-31b7-81a71cc7cc1f"
      },
      "outputs": [],
      "source": [
        "ggplot(aes(x='finishedsquarefeet12', y='taxamount', color='logerror'), data=train_df) + \\\n",
        "    geom_point(alpha=0.7) + \\\n",
        "    scale_color_gradient(low = 'pink', high = 'blue')"
      ]
    },
    {
      "cell_type": "code",
      "execution_count": null,
      "metadata": {
        "_cell_guid": "385fcacd-b8c1-698b-cea8-bd0551180f4c"
      },
      "outputs": [],
      "source": [
        "ggplot(aes(x='finishedsquarefeet12', y='taxamount', color='logerror'), data=train_df) + \\\n",
        "    geom_now_its_art()"
      ]
    },
    {
      "cell_type": "code",
      "execution_count": null,
      "metadata": {
        "_cell_guid": "127e8aa3-b8ee-6598-089f-6de15a7dea9e"
      },
      "outputs": [],
      "source": [
        "train_y = train_df['logerror'].values\n",
        "cat_cols = [\"hashottuborspa\", \"propertycountylandusecode\", \"propertyzoningdesc\", \"fireplaceflag\", \"taxdelinquencyflag\"]\n",
        "train_df = train_df.drop(['parcelid', 'logerror', 'transactiondate', 'transaction_month']+cat_cols, axis=1)\n",
        "feat_names = train_df.columns.values\n",
        "\n",
        "from sklearn import ensemble\n",
        "model = ensemble.ExtraTreesRegressor(n_estimators=25, max_depth=30, max_features=0.3, n_jobs=-1, random_state=0)\n",
        "model.fit(train_df, train_y)\n",
        "\n",
        "## plot the importances ##\n",
        "importances = model.feature_importances_\n",
        "std = np.std([tree.feature_importances_ for tree in model.estimators_], axis=0)\n",
        "indices = np.argsort(importances)[::-1][:20]\n",
        "\n",
        "plt.figure(figsize=(12,12))\n",
        "plt.title(\"Feature importances\")\n",
        "plt.bar(range(len(indices)), importances[indices], color=\"r\", yerr=std[indices], align=\"center\")\n",
        "plt.xticks(range(len(indices)), feat_names[indices], rotation='vertical')\n",
        "plt.xlim([-1, len(indices)])\n",
        "plt.show()"
      ]
    },
    {
      "cell_type": "code",
      "execution_count": null,
      "metadata": {
        "_cell_guid": "9606ca72-4fa1-022d-7eda-91e9c9ca9bb8"
      },
      "outputs": [],
      "source": [
        "import xgboost as xgb\n",
        "xgb_params = {\n",
        "    'eta': 0.05,\n",
        "    'max_depth': 8,\n",
        "    'subsample': 0.7,\n",
        "    'colsample_bytree': 0.7,\n",
        "    'objective': 'reg:linear',\n",
        "    'silent': 1,\n",
        "    'seed' : 0\n",
        "}\n",
        "dtrain = xgb.DMatrix(train_df, train_y, feature_names=train_df.columns.values)\n",
        "model = xgb.train(dict(xgb_params, silent=0), dtrain, num_boost_round=50)\n",
        "\n",
        "# plot the important features #\n",
        "fig, ax = plt.subplots(figsize=(12,18))\n",
        "xgb.plot_importance(model, max_num_features=50, height=0.8, ax=ax)\n",
        "plt.show()"
      ]
    }
  ],
  "metadata": {
    "_change_revision": 0,
    "_is_fork": false,
    "kernelspec": {
      "display_name": "Python 3",
      "language": "python",
      "name": "python3"
    },
    "language_info": {
      "codemirror_mode": {
        "name": "ipython",
        "version": 3
      },
      "file_extension": ".py",
      "mimetype": "text/x-python",
      "name": "python",
      "nbconvert_exporter": "python",
      "pygments_lexer": "ipython3",
      "version": "3.6.0"
    }
  },
  "nbformat": 4,
  "nbformat_minor": 0
}