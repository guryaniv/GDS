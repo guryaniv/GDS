{
  "cells": [
    {
      "cell_type": "code",
      "execution_count": null,
      "metadata": {
        "_cell_guid": "2577baa4-0ea6-967d-284a-d67ba1762dc1"
      },
      "outputs": [],
      "source": [
        "import pandas as pd\n",
        "import kagglegym as kg\n",
        "\n",
        "env = kg.make()\n",
        "observation = env.reset()\n",
        "train = observation.train\n",
        "\n",
        "def extract_df(train: pd.core.frame.DataFrame, id: int) -> pd.core.frame.DataFrame:\n",
        "    df = train.loc[train.id == id, ['timestamp', 'y']]\n",
        "    df.index = df.timestamp\n",
        "    del df['timestamp']\n",
        "    df.rename(columns={'y': str(id)}, inplace=True)\n",
        "    return df\n",
        "\n",
        "def extract_time_series_df(train: pd.core.frame.DataFrame) -> pd.core.frame.DataFrame:\n",
        "    df = pd.DataFrame(index=train.timestamp.unique())\n",
        "    for id in train.id.unique():\n",
        "        df = df.join(extract_df(train, id))\n",
        "    return df\n",
        "\n",
        "df = extract_time_series_df(train)\n",
        "df.head()"
      ]
    },
    {
      "cell_type": "code",
      "execution_count": null,
      "metadata": {
        "_cell_guid": "354a2539-58d8-25e5-5d24-2dc93d92d762"
      },
      "outputs": [],
      "source": [
        "df[['10', '11', '12', '25']].plot()"
      ]
    },
    {
      "cell_type": "code",
      "execution_count": null,
      "metadata": {
        "_cell_guid": "d781d7d6-fa20-ba21-c3a1-3bba0242ad5c"
      },
      "outputs": [],
      "source": [
        "df[['1906', '1919', '2081', '2097']].plot()"
      ]
    },
    {
      "cell_type": "code",
      "execution_count": null,
      "metadata": {
        "_cell_guid": "a101b9b4-b601-06fd-289f-a56c733acb4d"
      },
      "outputs": [],
      "source": [
        "df.mean(axis=1).plot()"
      ]
    },
    {
      "cell_type": "code",
      "execution_count": null,
      "metadata": {
        "_cell_guid": "67cc9c42-1597-8bd9-d32b-0f4da533fac3"
      },
      "outputs": [],
      "source": [
        "df.std(axis=1).plot()"
      ]
    }
  ],
  "metadata": {
    "_change_revision": 0,
    "_is_fork": false,
    "kernelspec": {
      "display_name": "Python 3",
      "language": "python",
      "name": "python3"
    },
    "language_info": {
      "codemirror_mode": {
        "name": "ipython",
        "version": 3
      },
      "file_extension": ".py",
      "mimetype": "text/x-python",
      "name": "python",
      "nbconvert_exporter": "python",
      "pygments_lexer": "ipython3",
      "version": "3.5.2"
    }
  },
  "nbformat": 4,
  "nbformat_minor": 0
}