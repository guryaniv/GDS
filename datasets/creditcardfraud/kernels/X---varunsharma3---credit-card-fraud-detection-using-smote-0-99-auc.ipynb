{
  "cells": [
    {
      "cell_type": "markdown",
      "metadata": {
        "_cell_guid": "ced80459-448e-3d55-cc16-6ec10e007fd1"
      },
      "source": [
        "# Credit card fraud detection\n",
        "Exploring the strategies for dealing with skewed datasets using SMOTE, Ensemble techniques, cross valdiation, kFold and Logistic regression."
      ]
    },
    {
      "cell_type": "code",
      "execution_count": null,
      "metadata": {
        "_cell_guid": "abe6e4f5-23b4-620e-6217-f914ed0c6c00"
      },
      "outputs": [],
      "source": [
        "import pandas as pd\n",
        "import matplotlib.pyplot as plt\n",
        "import numpy as np\n",
        "\n",
        "%matplotlib inline"
      ]
    },
    {
      "cell_type": "markdown",
      "metadata": {
        "_cell_guid": "ad8a1f72-e3af-d3a5-f030-b2ac2af9e206"
      },
      "source": [
        "**Loading dataset**"
      ]
    },
    {
      "cell_type": "code",
      "execution_count": null,
      "metadata": {
        "_cell_guid": "6da2d2ea-13ce-6911-f6f5-3ddfcdc7d7ad"
      },
      "outputs": [],
      "source": [
        "data = pd.read_csv(\"../input/creditcard.csv\")"
      ]
    },
    {
      "cell_type": "markdown",
      "metadata": {
        "_cell_guid": "b9fe1a97-6425-cc33-38ba-842b3734183d"
      },
      "source": [
        "**Test for skewness**"
      ]
    },
    {
      "cell_type": "code",
      "execution_count": null,
      "metadata": {
        "_cell_guid": "d12a9b1e-ab29-ae17-4d13-eb98f24f0517"
      },
      "outputs": [],
      "source": [
        "import seaborn as sns\n",
        "sns.countplot(x='Class', data=data)"
      ]
    },
    {
      "cell_type": "markdown",
      "metadata": {
        "_cell_guid": "7be80f55-f357-217d-c61d-e218f33c6855"
      },
      "source": [
        "**Definition of unbalances is less than 10% of one class and 90% of another class. Therefore, our data is clearly skewed**"
      ]
    },
    {
      "cell_type": "markdown",
      "metadata": {
        "_cell_guid": "4414f3fe-0893-e331-8fc8-c8787173c640"
      },
      "source": [
        "**Normalize the amount column and drop any redundant columns i.e. time and amount**"
      ]
    },
    {
      "cell_type": "code",
      "execution_count": null,
      "metadata": {
        "_cell_guid": "ccb92fa4-5014-e239-4914-c7cce390ed4e"
      },
      "outputs": [],
      "source": [
        "from sklearn.preprocessing import StandardScaler\n",
        "data['normAmount'] = StandardScaler().fit_transform(data['Amount'].reshape(-1, 1))\n",
        "data = data.drop(['Time','Amount'],axis=1)"
      ]
    },
    {
      "cell_type": "markdown",
      "metadata": {
        "_cell_guid": "85aaa1e0-ec1f-3f8f-189d-9bf2812aa45b"
      },
      "source": [
        "#### 2. Assigning X and Y. No resampling."
      ]
    },
    {
      "cell_type": "markdown",
      "metadata": {
        "_cell_guid": "21e1e235-0369-2472-1d80-69779c4b916a"
      },
      "source": [
        "#### 3. Resampling.\n",
        "\n",
        "- As we mentioned earlier, there are several ways to resample skewed data. Apart from under and over sampling, there is a very popular approach called SMOTE (Synthetic Minority Over-Sampling Technique), which is a combination of oversampling and undersampling, but the oversampling approach is not by replicating minority class but constructing new minority class data instance via an algorithm.\n",
        "\n",
        "- In this notebook, we will use traditional UNDER-sampling. I will probably try to implement SMOTE in future versions of the code, but for now I will use traditional undersamplig.\n",
        "\n",
        "- The way we will under sample the dataset will be by creating a 50/50 ratio. This will be done by randomly selecting \"x\" amount of sample from the majority class, being \"x\" the total number of records with the minority class."
      ]
    },
    {
      "cell_type": "code",
      "execution_count": null,
      "metadata": {
        "_cell_guid": "6c25d6d3-a380-9c14-92cf-9a50184c68e8"
      },
      "outputs": [],
      "source": [
        "X = data.ix[:, data.columns != 'Class']\n",
        "y = data.ix[:, data.columns == 'Class']"
      ]
    },
    {
      "cell_type": "markdown",
      "metadata": {
        "_cell_guid": "90417a82-1a5d-182e-1222-f2e07d27864a"
      },
      "source": [
        "**Applying SMOTE with Tomek lines** \n",
        "PRACTICE: Here we are using only one imblearn method for practice try different sampling techniques from the imblearn package"
      ]
    },
    {
      "cell_type": "code",
      "execution_count": null,
      "metadata": {
        "_cell_guid": "bca49075-3b3a-f921-3a22-155308493a1c"
      },
      "outputs": [],
      "source": [
        "#Apply SMOTE to create synthetic observations from minority class\n",
        "#Source:https://github.com/scikit-learn-contrib/imbalanced-learn\n",
        "from imblearn.combine import  SMOTETomek #Over sampling\n",
        "ee = SMOTETomek()\n",
        "X_sampled,y_sampled  = ee.fit_sample(X, y.values.ravel())\n",
        "\n",
        "#Number of records in original data\n",
        "print('Total rows in original data:{}'.format(X.shape[0]))\n",
        "\n",
        "#Percentage of fraudlent records in original data\n",
        "Source_data_no_fraud_count = len(data[data.Class==0])\n",
        "Source_data_fraud_count = len(data[data.Class==1])\n",
        "print('Percentage of fraud counts in original dataset:{}%'.format((Source_data_fraud_count*100)/(Source_data_no_fraud_count+Source_data_fraud_count)))\n",
        "\n",
        "#Number of records in original data\n",
        "print('Total rows from ensembled data :{}'.format(X_sampled.shape[0]))\n",
        "\n",
        "#Percentage of fraudlent records in sampled data\n",
        "Sampled_data_no_fraud_count = len(y_sampled[y_sampled==0])\n",
        "Sampled_data_fraud_count = len(y_sampled[y_sampled==1])\n",
        "print('Percentage of fraud counts in the new data:{}%'.format((Sampled_data_fraud_count*100)/(Sampled_data_no_fraud_count+Sampled_data_fraud_count)))"
      ]
    },
    {
      "cell_type": "markdown",
      "metadata": {
        "_cell_guid": "4c1edf57-3e02-9500-df8f-55264d2876d0"
      },
      "source": [
        "**Cross Validation** We need to split our training data into training set and test set. Our classifier will learn its parameters on the training set. 30% data will be excluded from training set and kept in test set."
      ]
    },
    {
      "cell_type": "code",
      "execution_count": null,
      "metadata": {
        "_cell_guid": "961e1d7b-f51b-7571-3e0e-eb71007e7cd7"
      },
      "outputs": [],
      "source": [
        "from sklearn.cross_validation import train_test_split\n",
        "\n",
        "# Whole dataset\n",
        "X_train, X_test, y_train, y_test = train_test_split(X_sampled,y_sampled,test_size = 0.3, random_state = 0)\n",
        "\n",
        "print(\"Number transactions train dataset: \", len(X_train))\n",
        "print(\"Number transactions test dataset: \", len(X_test))\n",
        "print(\"Total number of transactions: \", len(X_train)+len(X_test))\n",
        "\n",
        "# Undersampled dataset\n",
        "X_train_sampled, X_test_sampled, y_train_sampled, y_test_sampled = train_test_split(X_sampled,y_sampled,test_size = 0.3,random_state = 0)\n",
        "print(\"\")\n",
        "print(\"Number transactions train in sampled dataset: \", len(X_train_sampled))\n",
        "print(\"Number transactions test in sampled dataset: \", len(X_test_sampled))\n",
        "print(\"Total number of transactions: \", len(X_train_sampled)+len(X_test_sampled))\n",
        "\n",
        "X_train_sampled_df = pd.DataFrame(X_train_sampled)\n",
        "y_train_sampled_df = pd.DataFrame(y_train_sampled)\n",
        "X_test_sampled_df = pd.DataFrame(X_test_sampled)\n",
        "y_test_sampled_df = pd.DataFrame(y_test_sampled)"
      ]
    },
    {
      "cell_type": "markdown",
      "metadata": {
        "_cell_guid": "9cd739e8-56ae-2811-ea96-f025a625bbe8"
      },
      "source": [
        "# Logistic regression classifier - Undersampled data\n",
        "\n",
        "#### We are very interested in the recall score, because that is the metric that will help us try to capture the most fraudulent transactions. If you think how Accuracy, Precision and Recall work for a confusion matrix, recall would be the most interesting:\n",
        "\n",
        "- Accuracy = (TP+TN)/total\n",
        "- Precision = TP/(TP+FP)\n",
        "- Recall = TP/(TP+FN)\n",
        "\n",
        "#### As we know, due to the imbalacing of the data, many observations could be predicted as False Negatives, being, that we predict a normal transaction, but it is in fact a fraudulent one. Recall captures this.\n",
        "- Obviously, trying to increase recall, tends to come with a decrease of precision. However, in our case, if we predict that a transaction is fraudulent and turns out not to be, is not a massive problem compared to the opposite. \n",
        "- We could even apply a cost function when having FN and FP with different weights for each type of error, but let's leave that aside for now."
      ]
    },
    {
      "cell_type": "code",
      "execution_count": null,
      "metadata": {
        "_cell_guid": "07f3093f-1fb0-486c-5ba7-a0fa840da730"
      },
      "outputs": [],
      "source": [
        "from sklearn.linear_model import LogisticRegression\n",
        "from sklearn.cross_validation import KFold, cross_val_score\n",
        "from sklearn.metrics import confusion_matrix,precision_recall_curve,auc,roc_auc_score,roc_curve,recall_score,classification_report "
      ]
    },
    {
      "cell_type": "markdown",
      "metadata": {
        "_cell_guid": "312505d6-4396-661d-d1d4-af69bf587653"
      },
      "source": [
        "**We will use KFold to identify the optiomal configuration for the LogisticClassifier.**\n",
        "\n",
        " 1. Separate data into 5 folds. Define different parameter values to be \n",
        "    used i.e. c_param_range For each value of parameter do an iteration.\n",
        "    In every iteration we will do 5 iterations with different data range\n",
        "    and calculate their score. For each iteration we will calculate the \n",
        "    mean score. Once we know the score from each iteration we determine \n",
        "    what was the maximum score out of the 5 iterations. We then use the \n",
        "    corresponding configuration value as our best configuration value.  \n",
        "    This value will be used to setup our model in the next step."
      ]
    },
    {
      "cell_type": "code",
      "execution_count": null,
      "metadata": {
        "_cell_guid": "b816b927-70d2-ff90-c9e5-989fac87d7cc"
      },
      "outputs": [],
      "source": [
        "def printing_Kfold_scores(x_train_data,y_train_data):\n",
        "    fold = KFold(len(y_train_data),5,shuffle=False) \n",
        "\n",
        "    # Different C parameters\n",
        "    c_param_range = [0.01,0.1,1,10,100]\n",
        "\n",
        "    results_table = pd.DataFrame(index = range(len(c_param_range),2), columns = ['C_parameter','Mean recall score'])\n",
        "    results_table['C_parameter'] = c_param_range\n",
        "\n",
        "    # the k-fold will give 2 lists: train_indices = indices[0], test_indices = indices[1]\n",
        "    j = 0\n",
        "    for c_param in c_param_range:\n",
        "        print('-------------------------------------------')\n",
        "        print('C parameter: ', c_param)\n",
        "        print('-------------------------------------------')\n",
        "        print('')\n",
        "\n",
        "        recall_accs = []\n",
        "        for iteration, indices in enumerate(fold,start=1):\n",
        "\n",
        "            # Call the logistic regression model with a certain C parameter\n",
        "            lr = LogisticRegression(C = c_param, penalty = 'l1')\n",
        "\n",
        "            # Use the training data to fit the model. In this case, we use the portion of the fold to train the model\n",
        "            # with indices[0]. We then predict on the portion assigned as the 'test cross validation' with indices[1]\n",
        "            lr.fit(x_train_data.iloc[indices[0],:],y_train_data.iloc[indices[0],:].values.ravel())\n",
        "\n",
        "            # Predict values using the test indices in the training data\n",
        "            y_pred_undersample = lr.predict(x_train_data.iloc[indices[1],:].values)\n",
        "\n",
        "            # Calculate the recall score and append it to a list for recall scores representing the current c_parameter\n",
        "            recall_acc = recall_score(y_train_data.iloc[indices[1],:].values,y_pred_undersample)\n",
        "            recall_accs.append(recall_acc)\n",
        "            print('Iteration ', iteration,': recall score = ', recall_acc)\n",
        "\n",
        "        # The mean value of those recall scores is the metric we want to save and get hold of.\n",
        "        results_table.ix[j,'Mean recall score'] = np.mean(recall_accs)\n",
        "        j += 1\n",
        "        print('')\n",
        "        print('Mean recall score ', np.mean(recall_accs))\n",
        "        print('')\n",
        "\n",
        "    best_c = results_table.loc[results_table['Mean recall score'].idxmax()]['C_parameter']\n",
        "    \n",
        "    # Finally, we can check which C parameter is the best amongst the chosen.\n",
        "    print('*********************************************************************************')\n",
        "    print('Best model to choose from cross validation is with C parameter = ', best_c)\n",
        "    print('*********************************************************************************')\n",
        "    \n",
        "    return best_c"
      ]
    },
    {
      "cell_type": "markdown",
      "metadata": {
        "_cell_guid": "92371be3-e974-0214-7d34-79b182f5e1cc"
      },
      "source": [
        "**Find the best score based using kfold technique**"
      ]
    },
    {
      "cell_type": "code",
      "execution_count": null,
      "metadata": {
        "_cell_guid": "8c32e647-7c53-b350-da50-edbf31900b36"
      },
      "outputs": [],
      "source": [
        "best_c = printing_Kfold_scores(X_train_sampled_df,y_train_sampled_df)"
      ]
    },
    {
      "cell_type": "markdown",
      "metadata": {
        "_cell_guid": "8f525e1b-1d99-e3c9-215d-65b877ec6b4c"
      },
      "source": [
        "**Create a function to plot a fancy confusion matrix. Alternatively, on your local machine you can use the easier method of using python_ml package which has an API to readily create the confusion matrix.**"
      ]
    },
    {
      "cell_type": "code",
      "execution_count": null,
      "metadata": {
        "_cell_guid": "8efef876-ae11-9efb-2bde-3c850c32313b"
      },
      "outputs": [],
      "source": [
        "import itertools\n",
        "\n",
        "def plot_confusion_matrix(cm, classes,\n",
        "                          normalize=False,\n",
        "                          title='Confusion matrix',\n",
        "                          cmap=plt.cm.Blues):\n",
        "    \"\"\"\n",
        "    This function prints and plots the confusion matrix.\n",
        "    Normalization can be applied by setting `normalize=True`.\n",
        "    \"\"\"\n",
        "    plt.imshow(cm, interpolation='nearest', cmap=cmap)\n",
        "    plt.title(title)\n",
        "    plt.colorbar()\n",
        "    tick_marks = np.arange(len(classes))\n",
        "    plt.xticks(tick_marks, classes, rotation=0)\n",
        "    plt.yticks(tick_marks, classes)\n",
        "\n",
        "    if normalize:\n",
        "        cm = cm.astype('float') / cm.sum(axis=1)[:, np.newaxis]\n",
        "        #print(\"Normalized confusion matrix\")\n",
        "    else:\n",
        "        1#print('Confusion matrix, without normalization')\n",
        "\n",
        "    #print(cm)\n",
        "\n",
        "    thresh = cm.max() / 2.\n",
        "    for i, j in itertools.product(range(cm.shape[0]), range(cm.shape[1])):\n",
        "        plt.text(j, i, cm[i, j],\n",
        "                 horizontalalignment=\"center\",\n",
        "                 color=\"white\" if cm[i, j] > thresh else \"black\")\n",
        "\n",
        "    plt.tight_layout()\n",
        "    plt.ylabel('True label')\n",
        "    plt.xlabel('Predicted label')"
      ]
    },
    {
      "cell_type": "markdown",
      "metadata": {
        "_cell_guid": "e8f87d56-c135-caae-fbe1-009193b442a9"
      },
      "source": [
        "### Predictions on test set and plotting confusion matrix\n",
        "\n",
        "#### We have been talking about using the recall metric as our proxy of how effective our predictive model is. Even though recall is still the recall we want to calculate, just bear mind in mind that the undersampled data hasn't got a skewness towards a certain class, which doesn't make recall metric as critical. "
      ]
    },
    {
      "cell_type": "code",
      "execution_count": null,
      "metadata": {
        "_cell_guid": "e8ee84d0-2631-d0a3-73a5-3949a7ad5ada"
      },
      "outputs": [],
      "source": [
        "# Use this C_parameter to build the final model with the whole training dataset and predict the classes in the test\n",
        "# dataset\n",
        "lr = LogisticRegression(C = best_c, penalty = 'l1')\n",
        "lr.fit(X_train_sampled_df,y_train_sampled_df.values.ravel())\n",
        "y_pred_sample = lr.predict(X_test_sampled_df.values)\n",
        "\n",
        "# Compute confusion matrix\n",
        "cnf_matrix = confusion_matrix(y_test_sampled_df,y_pred_sample)\n",
        "np.set_printoptions(precision=2)\n",
        "\n",
        "print(\"Recall metric in the testing dataset: {}%\".format(100*cnf_matrix[1,1]/(cnf_matrix[1,0]+cnf_matrix[1,1])))\n",
        "\n",
        "# Plot non-normalized confusion matrix\n",
        "class_names = [0,1]\n",
        "plt.figure()\n",
        "plot_confusion_matrix(cnf_matrix , classes=class_names, title='Confusion matrix')\n",
        "plt.show()"
      ]
    },
    {
      "cell_type": "markdown",
      "metadata": {
        "_cell_guid": "16d4bdc9-c722-0f75-f99c-d32a798d6ea0"
      },
      "source": [
        "The model is offering an 91.65% recall accuracy on the generalised unseen data (test set). Not a bad percentage to be the first try. However, recall this is a 91.65% recall accuracy measure on a sampled test set.Now, let's apply the model we fitted and test it on the whole data."
      ]
    },
    {
      "cell_type": "code",
      "execution_count": null,
      "metadata": {
        "_cell_guid": "6e9e651d-b31b-854f-268e-d2209b196e33"
      },
      "outputs": [],
      "source": [
        "# Use this C_parameter to build the final model with the whole training dataset and predict the classes in the test\n",
        "# dataset\n",
        "lr = LogisticRegression(C = best_c, penalty = 'l1')\n",
        "lr.fit(X_train,y_train)\n",
        "y_pred = lr.predict(X_test)\n",
        "\n",
        "# Compute confusion matrix\n",
        "cnf_matrix = confusion_matrix(y_test,y_pred)\n",
        "np.set_printoptions(precision=2)\n",
        "\n",
        "print(\"Recall metric in the testing dataset:{}% \".format(100*(cnf_matrix[1,1]/(cnf_matrix[1,0]+cnf_matrix[1,1]))))\n",
        "\n",
        "# Plot non-normalized confusion matrix\n",
        "class_names = [0,1]\n",
        "plt.figure()\n",
        "plot_confusion_matrix(cnf_matrix, classes=class_names, title='Confusion matrix')\n",
        "plt.show()"
      ]
    },
    {
      "cell_type": "markdown",
      "metadata": {
        "_cell_guid": "c216d15f-49bb-1005-6dee-81bac701fc5d"
      },
      "source": [
        "### Still a very decent recall accuracy when applying it to a much larger and skewed dataset! \n",
        "\n",
        "#### We can start to be happy with how initial approach is working."
      ]
    },
    {
      "cell_type": "markdown",
      "metadata": {
        "_cell_guid": "4fab030f-1db4-1149-6ec6-51d52ce50939"
      },
      "source": [
        "### Plotting ROC curve and Precision-Recall curve.\n",
        "\n",
        "- I find precision-recall curve much more convenient in this case as our problems relies on the \"positive\" class being more interesting than the negative class, but as we have calculated the recall precision, I am not going to plot the precision recall curves yet.\n",
        "\n",
        "- AUC and ROC curve are also interesting to check if the model is also predicting as a whole correctly and not making many errors\n",
        "- The higer the AUC (Area Under Curve) score the better. It quantifies a measurement."
      ]
    },
    {
      "cell_type": "code",
      "execution_count": null,
      "metadata": {
        "_cell_guid": "2ba1f0e8-7550-bd76-97e9-b64771d80586"
      },
      "outputs": [],
      "source": [
        "# ROC CURVE\n",
        "lr = LogisticRegression(C = best_c, penalty = 'l1')\n",
        "temp = lr.fit(X_train,y_train)\n",
        "\n",
        "y_pred_sampled_score= temp.decision_function(X_test)\n",
        "\n",
        "fpr, tpr, thresholds = roc_curve(y_test,y_pred_sampled_score)\n",
        "roc_auc = auc(fpr,tpr)\n",
        "\n",
        "# Plot ROC\n",
        "plt.title('Receiver Operating Characteristic')\n",
        "plt.plot(fpr, tpr, 'b',label='AUC = %0.2f'% roc_auc)\n",
        "plt.legend(loc='lower right')\n",
        "plt.plot([0,1],[0,1],'r--')\n",
        "plt.xlim([-0.1,1.0])\n",
        "plt.ylim([-0.1,1.01])\n",
        "plt.ylabel('True Positive Rate')\n",
        "plt.xlabel('False Positive Rate')\n",
        "plt.show()"
      ]
    },
    {
      "cell_type": "markdown",
      "metadata": {
        "_cell_guid": "8b123f4a-9dfa-d574-2a02-3c015a865533"
      },
      "source": [
        "#### An additional comment that would be interesting to do is to initialise multiple undersampled datasets and repeat the process in loop. Remember that, to create an undersample data, we randomly got records from the majority class. Even though this is a valid technique, is doesn't represent the real population, so it would be interesting to repeat the process with different undersample configurations and check if the previous chosen parameters are still the most effective. In the end, the idea is to use a wider random representation of the whole dataset and rely on the averaged best parameters."
      ]
    },
    {
      "cell_type": "markdown",
      "metadata": {
        "_cell_guid": "d12db7ce-3de2-e2e4-f4a6-8ef232909410"
      },
      "source": [
        "# Logistic regression classifier - Skewed data\n",
        "\n",
        "#### Having tested our previous approach, I find really interesting to test the same process on the skewed data. Our intuition is that skewness will introduce issues difficult to capture, and therefore, provide a less effective algorithm.\n",
        "- To be fair, taking into account the fact that the train and test datasets are substantially bigger than the undersampled ones, I believe a K-fold cross validation is necessary. I guess that by splitting the data with 60% in training set, 20% cross validation and 20% test should be enough... but let's take the same approach as before (no harm on this, it's just that K-fold is computationally more expensive)"
      ]
    },
    {
      "cell_type": "code",
      "execution_count": null,
      "metadata": {
        "_cell_guid": "d5afa5a6-c7d1-c05e-940f-480825a687a6"
      },
      "outputs": [],
      "source": [
        "best_c = printing_Kfold_scores(X_train,y_train)"
      ]
    },
    {
      "cell_type": "code",
      "execution_count": null,
      "metadata": {
        "_cell_guid": "f12a0084-ebd1-9b39-2578-5056a689eb5c"
      },
      "outputs": [],
      "source": [
        "# Use this C_parameter to build the final model with the whole training dataset and predict the classes in the test\n",
        "# dataset\n",
        "lr = LogisticRegression(C = best_c, penalty = 'l1')\n",
        "lr.fit(X_train,y_train.values.ravel())\n",
        "y_pred = lr.predict(X_test.values)\n",
        "\n",
        "# Compute confusion matrix\n",
        "cnf_matrix = confusion_matrix(y_test,y_pred)\n",
        "np.set_printoptions(precision=2)\n",
        "\n",
        "print(\"Recall metric in the testing dataset: \", cnf_matrix[1,1]/(cnf_matrix[1,0]+cnf_matrix[1,1]))\n",
        "#Recall = TP/(TP+FN)\n",
        "print(\"True positive: {}\".format(cnf_matrix[1,1]))\n",
        "print(\"True negatives: {}\".format(cnf_matrix[1,0]))\n",
        "# Plot non-normalized confusion matrix\n",
        "class_names = [0,1]\n",
        "plt.figure()\n",
        "plot_confusion_matrix(cnf_matrix\n",
        "                      , classes=class_names\n",
        "                      , title='Confusion matrix')\n",
        "plt.show()"
      ]
    },
    {
      "cell_type": "code",
      "execution_count": null,
      "metadata": {
        "_cell_guid": "fd888b5d-61d3-67b1-37c5-ae955e16bb1e"
      },
      "outputs": [],
      "source": [
        "from sklearn.metrics import recall_score\n",
        "recall_score(y_test,y_pred)    "
      ]
    },
    {
      "cell_type": "markdown",
      "metadata": {
        "_cell_guid": "51ea1d66-2066-fe6d-be66-389236203e0f"
      },
      "source": [
        "# Before continuing... changing classification threshold.\n",
        "\n",
        "#### We have seen that by undersampling the data, our algorithm does a much better job at detecting fraud. I wanted also to show how can we tweak our final classification by changing the thresold.\n",
        "- Initially, you build the classification model and then you predict unseen data using it.\n",
        "- We previously used the \"predict()\" method to decided whether a record should belong to \"1\" or \"0\". \n",
        "- There is another method \"predict_proba()\".\n",
        "    - This method returns the probabilities for each class. The idea is that by changing the threshold to assign a record to class 1, we can control precision and recall.\n",
        "    \n",
        "#### Let's check this using the undersampled data (best C_param = 0.01)"
      ]
    },
    {
      "cell_type": "code",
      "execution_count": null,
      "metadata": {
        "_cell_guid": "b20687a0-6be9-dcf8-2a38-f25804cb66b7"
      },
      "outputs": [],
      "source": [
        "lr = LogisticRegression(C = 0.01, penalty = 'l1')\n",
        "lr.fit(X_train_undersample,y_train_undersample.values.ravel())\n",
        "y_pred_undersample_proba = lr.predict_proba(X_test_undersample.values)\n",
        "\n",
        "thresholds = [0.1,0.2,0.3,0.4,0.5,0.6,0.7,0.8,0.9]\n",
        "\n",
        "plt.figure(figsize=(10,10))\n",
        "\n",
        "j = 1\n",
        "for i in thresholds:\n",
        "    y_test_predictions_high_recall = y_pred_undersample_proba[:,1] > i\n",
        "    \n",
        "    plt.subplot(3,3,j)\n",
        "    j += 1\n",
        "    \n",
        "    # Compute confusion matrix\n",
        "    cnf_matrix = confusion_matrix(y_test_undersample,y_test_predictions_high_recall)\n",
        "    np.set_printoptions(precision=2)\n",
        "\n",
        "    print(\"Recall metric in the testing dataset: \", cnf_matrix[1,1]/(cnf_matrix[1,0]+cnf_matrix[1,1]))\n",
        "\n",
        "    # Plot non-normalized confusion matrix\n",
        "    class_names = [0,1]\n",
        "    plot_confusion_matrix(cnf_matrix\n",
        "                          , classes=class_names\n",
        "                          , title='Threshold >= %s'%i) "
      ]
    },
    {
      "cell_type": "markdown",
      "metadata": {
        "_cell_guid": "63c4e58b-ab40-a533-ddca-aa30d0cb1eef"
      },
      "source": [
        "### The pattern is very clear: the more you lower the required probability to put a certain in the class \"1\" category, more records will be put in that bucket.\n",
        "#### This implies an increase in recall (we want all the \"1\"s), but at the same time, a decrease in precision (we misclassify many of the other class).\n",
        "### Therefore, even though recall is our goal metric (do not miss a fraud transaction), we also want to keep the model being accurate as a whole.\n",
        "- There is an option I think could be quite interesting to tackle this. We could assing cost to misclassifications, but being interested in classifying \"1s\" correctly, the cost for misclassifying \"1s\" should be bigger than \"0\" misclassifications. After that, the algorithm would select the threshold which minimises the total cost. A drawback I see is that we have to manually select the weight of each cost... therefore, I will leave this know as a thought.\n",
        "- Going back to the threshold changing, there is an option which is the Precisio-Recall curve. By visually seeing the performance of the model depending on the threshold we choose, we can investigate a sweet spot where recall is high enough whilst keeping a high precision value.\n",
        "\n",
        "### Investigate Precision-Recall curve and area under this curve."
      ]
    },
    {
      "cell_type": "code",
      "execution_count": null,
      "metadata": {
        "_cell_guid": "d38c7546-f38f-1008-d7e0-e95573e72ca5"
      },
      "outputs": [],
      "source": [
        "from itertools import cycle\n",
        "\n",
        "lr = LogisticRegression(C = 0.01, penalty = 'l1')\n",
        "lr.fit(X_train_undersample,y_train_undersample.values.ravel())\n",
        "y_pred_undersample_proba = lr.predict_proba(X_test_undersample.values)\n",
        "\n",
        "thresholds = [0.1,0.2,0.3,0.4,0.5,0.6,0.7,0.8,0.9]\n",
        "colors = cycle(['navy', 'turquoise', 'darkorange', 'cornflowerblue', 'teal', 'red', 'yellow', 'green', 'blue','black'])\n",
        "\n",
        "plt.figure(figsize=(5,5))\n",
        "\n",
        "j = 1\n",
        "for i,color in zip(thresholds,colors):\n",
        "    y_test_predictions_prob = y_pred_undersample_proba[:,1] > i\n",
        "    \n",
        "    precision, recall, thresholds = precision_recall_curve(y_test_undersample,y_test_predictions_prob)\n",
        "    \n",
        "    # Plot Precision-Recall curve\n",
        "    plt.plot(recall, precision, color=color,\n",
        "                 label='Threshold: %s'%i)\n",
        "    plt.xlabel('Recall')\n",
        "    plt.ylabel('Precision')\n",
        "    plt.ylim([0.0, 1.05])\n",
        "    plt.xlim([0.0, 1.0])\n",
        "    plt.title('Precision-Recall example')\n",
        "    plt.legend(loc=\"lower left\")"
      ]
    },
    {
      "cell_type": "markdown",
      "metadata": {
        "_cell_guid": "e0b98de8-0bf2-1110-51fb-8f5932e90fb0"
      },
      "source": [
        "# Upcoming updates: \n",
        "## testing SVMs\n",
        "## testing decision trees"
      ]
    },
    {
      "cell_type": "code",
      "execution_count": null,
      "metadata": {
        "_cell_guid": "c6cb35c2-0913-f680-2d84-4ec204b6ac6a"
      },
      "outputs": [],
      "source": [
        "#Introudcing SMOTE method for handling imbalanced data problem. "
      ]
    },
    {
      "cell_type": "code",
      "execution_count": null,
      "metadata": {
        "_cell_guid": "d776bd6f-991a-867f-cb3a-8618b51b65b8"
      },
      "outputs": [],
      "source": [
        "from sklearn.ensemble import RandomForestClassifier\n",
        "rf = RandomForestClassifier(n_estimators=100)\n",
        "rf.fit(X_train_sampled_df)\n",
        "rf_predictions = rf.predict(X_test_sampled_df)"
      ]
    },
    {
      "cell_type": "code",
      "execution_count": null,
      "metadata": {
        "_cell_guid": "ae89f4f0-d9f4-7beb-ad7c-fd726279ad1c"
      },
      "outputs": [],
      "source": [
        "sm = SMOTE(ratio='auto',kind='regular')    "
      ]
    },
    {
      "cell_type": "code",
      "execution_count": null,
      "metadata": {
        "_cell_guid": "2ef4f72b-9f56-b587-325b-151df5def6ec"
      },
      "outputs": [],
      "source": [
        "X_resampled, y_resampled  = sm.fit_sample(X,y.values.ravel())"
      ]
    },
    {
      "cell_type": "code",
      "execution_count": null,
      "metadata": {
        "_cell_guid": "281975b0-c0c4-fc64-6071-8dbf9a284f42"
      },
      "outputs": [],
      "source": [
        "X_resampled.shape"
      ]
    },
    {
      "cell_type": "code",
      "execution_count": null,
      "metadata": {
        "_cell_guid": "1f421905-3706-f152-f4e8-9035e9899501"
      },
      "outputs": [],
      "source": [
        "y_resampled.shape"
      ]
    },
    {
      "cell_type": "code",
      "execution_count": null,
      "metadata": {
        "_cell_guid": "a59c3307-652e-7cd8-bbad-4085e722c2be"
      },
      "outputs": [],
      "source": [
        "df =pd.DataFrame(X_resampled)"
      ]
    },
    {
      "cell_type": "code",
      "execution_count": null,
      "metadata": {
        "_cell_guid": "defbd788-4f19-10f0-6b8e-37404f0dbff8"
      },
      "outputs": [],
      "source": [
        "df.features"
      ]
    },
    {
      "cell_type": "code",
      "execution_count": null,
      "metadata": {
        "_cell_guid": "66ed09af-c241-e78f-254b-0c898ed4c5de"
      },
      "outputs": [],
      "source": ""
    }
  ],
  "metadata": {
    "_change_revision": 0,
    "_is_fork": false,
    "kernelspec": {
      "display_name": "Python 3",
      "language": "python",
      "name": "python3"
    },
    "language_info": {
      "codemirror_mode": {
        "name": "ipython",
        "version": 3
      },
      "file_extension": ".py",
      "mimetype": "text/x-python",
      "name": "python",
      "nbconvert_exporter": "python",
      "pygments_lexer": "ipython3",
      "version": "3.6.0"
    }
  },
  "nbformat": 4,
  "nbformat_minor": 0
}