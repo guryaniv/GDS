{
  "cells": [
    {
      "cell_type": "markdown",
      "metadata": {
        "_cell_guid": "eb8372e9-a37a-dc9f-d431-f0b4c5fe3109"
      },
      "source": [
        "**`This is a test!`**"
      ]
    },
    {
      "cell_type": "code",
      "execution_count": null,
      "metadata": {
        "_cell_guid": "51227c96-9056-c27c-d397-cf54898d48f4"
      },
      "outputs": [],
      "source": [
        "import numpy as np\n",
        "import pandas as pd \n",
        "import matplotlib.pyplot as plt\n",
        "import seaborn as sns \n",
        "\n",
        "train = pd.read_csv(\"../input/train.csv\", parse_dates = ['timestamp'], index_col= \"id\")\n",
        "train.head()"
      ]
    },
    {
      "cell_type": "markdown",
      "metadata": {
        "_cell_guid": "15f77ba0-6367-e6a5-c8be-79ea6184a542"
      },
      "source": [
        "To get an idea of the distribution of home prices, we plot a histogram:"
      ]
    },
    {
      "cell_type": "code",
      "execution_count": null,
      "metadata": {
        "_cell_guid": "cc074187-5d83-5b8d-c399-a2783d73025d"
      },
      "outputs": [],
      "source": [
        "ax = sns.distplot(train.price_doc)"
      ]
    },
    {
      "cell_type": "markdown",
      "metadata": {
        "_cell_guid": "3a350920-c4f0-8e39-d6e4-f85919a13cb8"
      },
      "source": [
        "After plotting the mean housing price for each *sub_area*, it appears that the string \"Poselenie\" appears frequently and predominantly in lower priced sub areas -  Roughly translated, \"Poselenie\" means \"Settlement\" in English. It could be the case that these settlements represent less developed neighborhoods of lower market value. For this reason, the feature *Poselenie_Ind* is included."
      ]
    },
    {
      "cell_type": "code",
      "execution_count": null,
      "metadata": {
        "_cell_guid": "a36c753f-55fc-9908-67e0-bd17867623fa"
      },
      "outputs": [],
      "source": [
        "train['Poselenie_Ind'] = ['Poselenie' in x for x in train.sub_area]\n",
        "sub_area = train.groupby('sub_area').agg('mean').sort_values('price_doc', ascending = False)\n",
        "sub_area['building_count'] = train.groupby('sub_area').agg('count').price_doc.values #  buildings per sub_area\n",
        "\n",
        "plt.figure(figsize=(10,25))\n",
        "sns.set_color_codes(\"muted\")\n",
        "sns.barplot(x = 'price_doc',\n",
        "            y = 'sub_area',\n",
        "            data = sub_area.reset_index(),\n",
        "            palette=[('b', 'g')[x] for x in sub_area.Poselenie_Ind]\n",
        "            )\n",
        "plt.xlim((0, 25000000))\n",
        "plt.xlabel(\"Mean Housing Price\")\n",
        "plt.ylabel(\"Housing Sub Area\")\n",
        "plt.title(\"Housing Price by Sub Area\")\n"
      ]
    },
    {
      "cell_type": "markdown",
      "metadata": {
        "_cell_guid": "c8616c10-ee75-61bb-83a2-59167f55adb3"
      },
      "source": [
        "One noticeable outlier to the above conjecture is the \"Poselenie Kievskij\" whose mean housing price is almost \u20bd10,000,000. However, upon closer inspection, this result is explained by the sub area containing only two listings selling at opposing price points."
      ]
    },
    {
      "cell_type": "code",
      "execution_count": null,
      "metadata": {
        "_cell_guid": "ca2cd9db-5010-969e-5046-5bbf61672cca"
      },
      "outputs": [],
      "source": [
        "train.loc[train.sub_area == \"Poselenie Kievskij\", :]\n"
      ]
    },
    {
      "cell_type": "markdown",
      "metadata": {
        "_cell_guid": "6b9f11c1-95d4-2012-b27d-0f79e061c5cc"
      },
      "source": [
        "An explicit computation reveals that the mean house price of Poselenie's is significantly lower than that of non-Poselenie:"
      ]
    },
    {
      "cell_type": "code",
      "execution_count": null,
      "metadata": {
        "_cell_guid": "0266f5a0-4739-7233-8132-8875001d8542"
      },
      "outputs": [],
      "source": [
        "train[['Poselenie_Ind', 'price_doc']].groupby('Poselenie_Ind').agg('mean')"
      ]
    }
  ],
  "metadata": {
    "_change_revision": 0,
    "_is_fork": false,
    "kernelspec": {
      "display_name": "Python 3",
      "language": "python",
      "name": "python3"
    },
    "language_info": {
      "codemirror_mode": {
        "name": "ipython",
        "version": 3
      },
      "file_extension": ".py",
      "mimetype": "text/x-python",
      "name": "python",
      "nbconvert_exporter": "python",
      "pygments_lexer": "ipython3",
      "version": "3.6.0"
    }
  },
  "nbformat": 4,
  "nbformat_minor": 0
}