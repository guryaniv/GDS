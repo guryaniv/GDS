{
  "cells": [
    {
      "cell_type": "code",
      "execution_count": null,
      "metadata": {
        "_cell_guid": "f19e7bef-2df2-0271-2ec5-4e4932ca9199"
      },
      "outputs": [],
      "source": [
        "# This Python 3 environment comes with many helpful analytics libraries installed\n",
        "# It is defined by the kaggle/python docker image: https://github.com/kaggle/docker-python\n",
        "# For example, here's several helpful packages to load in \n",
        "\n",
        "import numpy as np # linear algebra\n",
        "import pandas as pd # data processing, CSV file I/O (e.g. pd.read_csv)\n",
        "\n",
        "# Input data files are available in the \"../input/\" directory.\n",
        "# For example, running this (by clicking run or pressing Shift+Enter) will list the files in the input directory\n",
        "\n",
        "from subprocess import check_output\n",
        "print(check_output([\"ls\", \"../input/\"]).decode(\"utf8\"))\n",
        "import xgboost as xgb\n",
        "# Any results you write to the current directory are saved as output."
      ]
    },
    {
      "cell_type": "code",
      "execution_count": null,
      "metadata": {
        "_cell_guid": "3b7a5d72-f468-883f-ed2e-9c2d1a42c44d"
      },
      "outputs": [],
      "source": [
        "import json  \n",
        "import zipfile  \n",
        "\n",
        "path= \"../input/two-sigma-connect-rental-listing-inquiries/\"\n",
        "d = None  \n",
        "data = None  \n",
        "\n",
        "with open(path+\"train.json\") as f:\n",
        "    #data = f.read()\n",
        "    d=json.load(f)\n",
        "    f.close()\n",
        "\n",
        "type(d)\n"
      ]
    },
    {
      "cell_type": "code",
      "execution_count": null,
      "metadata": {
        "_cell_guid": "340199ed-3adf-0c3e-08ed-0bf4602df1bf"
      },
      "outputs": [],
      "source": [
        "##Test\n",
        "\n",
        "d_test = None\n",
        "#data_test=None\n",
        "with open(path+\"test.json\") as f1:\n",
        "    #data = f.read()\n",
        "    d_test=json.load(f1)\n",
        "    f1.close()\n",
        "\n",
        "type(d_test)\n",
        "df_test=pd.DataFrame(d_test)\n",
        "len(df_test)"
      ]
    },
    {
      "cell_type": "code",
      "execution_count": null,
      "metadata": {
        "_cell_guid": "2d087ec3-8126-e11d-517d-162915cb396f"
      },
      "outputs": [],
      "source": ""
    },
    {
      "cell_type": "code",
      "execution_count": null,
      "metadata": {
        "_cell_guid": "e5df2231-60a4-4fc8-b4b1-e3ec62286b94"
      },
      "outputs": [],
      "source": [
        "df=pd.DataFrame(d)\n",
        "len(df)\n",
        "df.head(10)"
      ]
    },
    {
      "cell_type": "code",
      "execution_count": null,
      "metadata": {
        "_cell_guid": "2cd18f29-e14c-2003-7f66-8a20cb4c6113"
      },
      "outputs": [],
      "source": [
        "df['created'] = df['created'].astype('datetime64[ns]')"
      ]
    },
    {
      "cell_type": "code",
      "execution_count": null,
      "metadata": {
        "_cell_guid": "191dc8be-44e1-10b3-b4ce-73cae2241719"
      },
      "outputs": [],
      "source": [
        "a=max(df['created'])-df['created']"
      ]
    },
    {
      "cell_type": "code",
      "execution_count": null,
      "metadata": {
        "_cell_guid": "3183bcbd-aea3-b585-a8da-d84f6b49c881"
      },
      "outputs": [],
      "source": [
        "df['daysFromCreated']=a/np.timedelta64(1, 'D')"
      ]
    },
    {
      "cell_type": "code",
      "execution_count": null,
      "metadata": {
        "_cell_guid": "cd58a7c7-6fe7-c3eb-baf9-bf46965ae96b"
      },
      "outputs": [],
      "source": [
        "df.head()"
      ]
    },
    {
      "cell_type": "code",
      "execution_count": null,
      "metadata": {
        "_cell_guid": "51239c75-3514-4e81-51e1-874c68b52c64"
      },
      "outputs": [],
      "source": [
        "xl=df.longitude\n",
        "yl=df.latitude\n",
        "xl=(xl-np.mean(xl))/np.std(xl)\n",
        "yl=(yl-np.mean(yl))/np.std(yl)\n",
        "\n",
        "df.longitude=xl\n",
        "df.latitude=yl"
      ]
    },
    {
      "cell_type": "code",
      "execution_count": null,
      "metadata": {
        "_cell_guid": "21697ee8-41ab-d955-58fe-2b3b8a0a735e"
      },
      "outputs": [],
      "source": [
        "import matplotlib.pyplot as plt"
      ]
    },
    {
      "cell_type": "code",
      "execution_count": null,
      "metadata": {
        "_cell_guid": "bff6561e-989f-02ce-27c1-e142820842ca"
      },
      "outputs": [],
      "source": [
        "plt.plot(xl,yl,'ro')\n",
        "plt.show()"
      ]
    },
    {
      "cell_type": "code",
      "execution_count": null,
      "metadata": {
        "_cell_guid": "8e3eff23-8a26-75d2-0e1b-64b001c2cea7"
      },
      "outputs": [],
      "source": [
        "from sklearn.cluster import KMeans"
      ]
    },
    {
      "cell_type": "code",
      "execution_count": null,
      "metadata": {
        "_cell_guid": "670474cb-9cea-ba51-0363-64f5fdeb241b"
      },
      "outputs": [],
      "source": [
        "a= np.array(xl)\n",
        "b=np.array(yl)"
      ]
    },
    {
      "cell_type": "code",
      "execution_count": null,
      "metadata": {
        "_cell_guid": "53a03d50-755b-da47-e7d1-536b1e1c1576"
      },
      "outputs": [],
      "source": [
        "c=np.column_stack((a,b))"
      ]
    },
    {
      "cell_type": "code",
      "execution_count": null,
      "metadata": {
        "_cell_guid": "32d57cc7-21eb-9538-80bd-ab4afa788dec"
      },
      "outputs": [],
      "source": [
        "kmeans = KMeans(n_clusters=20)\n",
        "kmeans.fit_predict(c)"
      ]
    },
    {
      "cell_type": "code",
      "execution_count": null,
      "metadata": {
        "_cell_guid": "829ab51a-2eeb-e238-620f-0ed541959e01"
      },
      "outputs": [],
      "source": [
        "centers = kmeans.cluster_centers_"
      ]
    },
    {
      "cell_type": "code",
      "execution_count": null,
      "metadata": {
        "_cell_guid": "59097fa7-c230-7e25-f286-7d1e4b1e6ef3"
      },
      "outputs": [],
      "source": [
        "prediction = kmeans.predict(c)"
      ]
    },
    {
      "cell_type": "code",
      "execution_count": null,
      "metadata": {
        "_cell_guid": "4a904ace-ee93-3ef2-bfc7-8920ed6a7553"
      },
      "outputs": [],
      "source": [
        "prediction"
      ]
    },
    {
      "cell_type": "code",
      "execution_count": null,
      "metadata": {
        "_cell_guid": "6754c494-995c-c741-f32b-965e2036e75e"
      },
      "outputs": [],
      "source": [
        "plt.scatter(centers[:, 0], centers[:, 1], marker='x')\n",
        "\n",
        "plt.show()"
      ]
    },
    {
      "cell_type": "code",
      "execution_count": null,
      "metadata": {
        "_cell_guid": "1c72ccf9-f3a8-f6d1-e347-22319f4cf1c0"
      },
      "outputs": [],
      "source": [
        "df[\"KMeans_Clusters\"]= prediction"
      ]
    },
    {
      "cell_type": "code",
      "execution_count": null,
      "metadata": {
        "_cell_guid": "6201f862-9022-614c-2322-b87861acfb8c"
      },
      "outputs": [],
      "source": [
        "df.head(50)"
      ]
    },
    {
      "cell_type": "code",
      "execution_count": null,
      "metadata": {
        "_cell_guid": "d349390e-d16b-5a6f-c910-4efd7d58ce89"
      },
      "outputs": [],
      "source": [
        "df.describe()"
      ]
    },
    {
      "cell_type": "code",
      "execution_count": null,
      "metadata": {
        "_cell_guid": "5af35d3f-67d5-03e2-716b-888819267e8d"
      },
      "outputs": [],
      "source": [
        "df.info()"
      ]
    },
    {
      "cell_type": "code",
      "execution_count": null,
      "metadata": {
        "_cell_guid": "2fb3d333-03de-eb4a-4f96-3836c371d90c"
      },
      "outputs": [],
      "source": [
        "df.groupby(\"KMeans_Clusters\").count()"
      ]
    },
    {
      "cell_type": "code",
      "execution_count": null,
      "metadata": {
        "_cell_guid": "144030a6-bf25-4ea4-2d95-d343a26b0fcf"
      },
      "outputs": [],
      "source": [
        "c=[1,2,3,4,5,8,13,14,16,17,18,19]"
      ]
    },
    {
      "cell_type": "code",
      "execution_count": null,
      "metadata": {
        "_cell_guid": "4164c614-b205-b328-e475-62c98524e561"
      },
      "outputs": [],
      "source": [
        "df['KMeans_Clusters'].replace(1, 10,inplace=True)\n",
        "df['KMeans_Clusters'].replace(2, 10,inplace=True)\n",
        "df['KMeans_Clusters'].replace(3, 10,inplace=True)\n",
        "df['KMeans_Clusters'].replace(4, 10,inplace=True)\n",
        "df['KMeans_Clusters'].replace(5, 10,inplace=True)\n",
        "df['KMeans_Clusters'].replace(8, 10,inplace=True)\n",
        "df['KMeans_Clusters'].replace(13, 10,inplace=True)\n",
        "df['KMeans_Clusters'].replace(14, 10,inplace=True)\n",
        "df['KMeans_Clusters'].replace(16, 10,inplace=True)\n",
        "df['KMeans_Clusters'].replace(17, 10,inplace=True)\n",
        "df['KMeans_Clusters'].replace(18, 10,inplace=True)\n",
        "df['KMeans_Clusters'].replace(19, 10,inplace=True)\n"
      ]
    },
    {
      "cell_type": "code",
      "execution_count": null,
      "metadata": {
        "_cell_guid": "85fcab58-821f-4916-77cf-dcded57d48f0"
      },
      "outputs": [],
      "source": [
        "##Test\n",
        "\n",
        "df_test['created'] = df_test['created'].astype('datetime64[ns]')\n",
        "#a=max(df_test['created'])-df_test['created']\n",
        "df_test['daysFromCreated']=(max(df_test['created'])-df_test['created'])/np.timedelta64(1, 'D')\n",
        "xl_test=df_test.longitude\n",
        "yl_test=df_test.latitude\n",
        "xl_test=(xl_test-np.mean(xl))/np.std(xl)\n",
        "yl_test=(yl_test-np.mean(yl))/np.std(yl)\n",
        "a_test= np.array(xl_test)\n",
        "b_test=np.array(yl_test)\n",
        "c_test=np.column_stack((a_test,b_test))\n",
        "kmeans.fit_predict(c_test)\n",
        "prediction_test = kmeans.predict(c_test)\n",
        "df_test.longitude=xl_test\n",
        "df_test.latitude=yl_test\n",
        "\n",
        "df_test[\"KMeans_Clusters\"]= prediction_test\n",
        "\n",
        "df_test['KMeans_Clusters'].replace(1, 10,inplace=True)\n",
        "df_test['KMeans_Clusters'].replace(2, 10,inplace=True)\n",
        "df_test['KMeans_Clusters'].replace(3, 10,inplace=True)\n",
        "df_test['KMeans_Clusters'].replace(4, 10,inplace=True)\n",
        "df_test['KMeans_Clusters'].replace(5, 10,inplace=True)\n",
        "df_test['KMeans_Clusters'].replace(8, 10,inplace=True)\n",
        "df_test['KMeans_Clusters'].replace(13, 10,inplace=True)\n",
        "df_test['KMeans_Clusters'].replace(14, 10,inplace=True)\n",
        "df_test['KMeans_Clusters'].replace(16, 10,inplace=True)\n",
        "df_test['KMeans_Clusters'].replace(17, 10,inplace=True)\n",
        "df_test['KMeans_Clusters'].replace(18, 10,inplace=True)\n",
        "df_test['KMeans_Clusters'].replace(19, 10,inplace=True)\n",
        "df_test['KMeans_Clusters']=df_test['KMeans_Clusters'].astype(object)"
      ]
    },
    {
      "cell_type": "code",
      "execution_count": null,
      "metadata": {
        "_cell_guid": "4fe9bfd5-c8f6-4b25-cd4b-461186ceb6b2"
      },
      "outputs": [],
      "source": [
        "df['KMeans_Clusters']=df['KMeans_Clusters'].astype(object)"
      ]
    },
    {
      "cell_type": "code",
      "execution_count": null,
      "metadata": {
        "_cell_guid": "d5ed8435-1217-38e3-c8fa-9c02fb86d7e9"
      },
      "outputs": [],
      "source": [
        "from sklearn.preprocessing import LabelEncoder\n",
        "from sklearn.feature_extraction.text import CountVectorizer\n",
        "\n"
      ]
    },
    {
      "cell_type": "code",
      "execution_count": null,
      "metadata": {
        "_cell_guid": "edf6a9c9-37b9-c29a-efaa-6a398b9a7996"
      },
      "outputs": [],
      "source": [
        "df['features'] = df[\"features\"].apply(lambda x: \" \".join([\"_\".join(i.split(\" \")) for i in x]))"
      ]
    },
    {
      "cell_type": "code",
      "execution_count": null,
      "metadata": {
        "_cell_guid": "a5c3d01e-d392-8182-b7e6-408ae16bc4ef"
      },
      "outputs": [],
      "source": [
        "tfidf = CountVectorizer(stop_words='english', max_features=200)\n"
      ]
    },
    {
      "cell_type": "code",
      "execution_count": null,
      "metadata": {
        "_cell_guid": "e31b0db9-47e8-a830-194c-0f330bbed688"
      },
      "outputs": [],
      "source": [
        "df['is_train'] = np.random.uniform(0, 1, len(df)) <= .80"
      ]
    },
    {
      "cell_type": "code",
      "execution_count": null,
      "metadata": {
        "_cell_guid": "67b08a20-1b16-5117-c849-a49bedb0abfa"
      },
      "outputs": [],
      "source": [
        "df.head()"
      ]
    },
    {
      "cell_type": "code",
      "execution_count": null,
      "metadata": {
        "_cell_guid": "f72ae587-ee35-4b81-bf65-7b4020f282a8"
      },
      "outputs": [],
      "source": [
        "train, test = df[df['is_train']==True], df[df['is_train']==False]"
      ]
    },
    {
      "cell_type": "code",
      "execution_count": null,
      "metadata": {
        "_cell_guid": "21c984aa-7973-3ed3-ddd8-6ba7c5d36d6e"
      },
      "outputs": [],
      "source": [
        "print('Number of observations in the training data:', len(train))\n",
        "print('Number of observations in the test data:',len(test))"
      ]
    },
    {
      "cell_type": "code",
      "execution_count": null,
      "metadata": {
        "_cell_guid": "b5af6c1a-e963-d404-8bf1-0db82b26e851"
      },
      "outputs": [],
      "source": [
        "x=[0,1,8,10,13,15,16]\n",
        "features = df.columns[x]\n",
        "\n",
        "features"
      ]
    },
    {
      "cell_type": "code",
      "execution_count": null,
      "metadata": {
        "_cell_guid": "d825366a-e53f-ae7b-e265-29c3f87fc8c0"
      },
      "outputs": [],
      "source": [
        "y = pd.factorize(train['interest_level'])[0]\n",
        "y"
      ]
    },
    {
      "cell_type": "code",
      "execution_count": null,
      "metadata": {
        "_cell_guid": "29d14f74-4a76-a42b-3d6c-49e51d36661b"
      },
      "outputs": [],
      "source": [
        "from sklearn.ensemble import RandomForestClassifier"
      ]
    },
    {
      "cell_type": "code",
      "execution_count": null,
      "metadata": {
        "_cell_guid": "05dd616c-1892-ad98-a70a-ba5ded561028"
      },
      "outputs": [],
      "source": [
        "train.shape"
      ]
    },
    {
      "cell_type": "code",
      "execution_count": null,
      "metadata": {
        "_cell_guid": "ab0d523c-d3c3-5594-57e4-1846fa95f215"
      },
      "outputs": [],
      "source": [
        "from scipy import sparse\n",
        "tr_sparse = tfidf.fit_transform(train[\"features\"])\n",
        "te_sparse = tfidf.fit_transform(test[\"features\"])"
      ]
    },
    {
      "cell_type": "code",
      "execution_count": null,
      "metadata": {
        "_cell_guid": "a6e7a05d-4585-7113-8b5f-d1e35cfc4e6b"
      },
      "outputs": [],
      "source": [
        "tr_sparse.shape"
      ]
    },
    {
      "cell_type": "code",
      "execution_count": null,
      "metadata": {
        "_cell_guid": "bd776bf6-fb9d-b9ee-be97-9737e47a5591"
      },
      "outputs": [],
      "source": [
        "categorical = [\"KMeans_Clusters\"]\n",
        "for f in categorical:\n",
        "        if train[f].dtype=='object':\n",
        "            lbl = LabelEncoder()\n",
        "            lbl.fit(list(train[f].values) + list(test[f].values))\n",
        "            train[f] = lbl.transform(list(train[f].values))\n",
        "            test[f] = lbl.transform(list(test[f].values))\n",
        "#            features_to_use.append(f)"
      ]
    },
    {
      "cell_type": "code",
      "execution_count": null,
      "metadata": {
        "_cell_guid": "5627f484-f84c-5f6c-5381-17dfede5716d"
      },
      "outputs": [],
      "source": [
        "train_x = sparse.hstack([train[features], tr_sparse]).tocsr()\n",
        "train_y= train['interest_level']"
      ]
    },
    {
      "cell_type": "code",
      "execution_count": null,
      "metadata": {
        "_cell_guid": "cddb47db-6ea2-4c77-5b08-01217fb532b5"
      },
      "outputs": [],
      "source": [
        "#preds, model = runXGB(train_X, train_y, test_X, num_rounds=2000)\n",
        "param = {}\n",
        "param['objective'] = 'multi:softprob'\n",
        "param['eta'] = 0.02\n",
        "param['max_depth'] = 6\n",
        "param['silent'] = 1\n",
        "param['num_class'] = 3\n",
        "param['eval_metric'] = \"mlogloss\"\n",
        "param['min_child_weight'] = 1\n",
        "param['subsample'] = 0.7\n",
        "param['colsample_bytree'] = 0.7\n",
        "param['seed'] = seed_val\n",
        "num_rounds = num_rounds\n",
        "\n",
        "plst = list(param.items())\n",
        "xgtrain = xgb.DMatrix(train_X, label=train_y)"
      ]
    },
    {
      "cell_type": "code",
      "execution_count": null,
      "metadata": {
        "_cell_guid": "0ffeac19-f31d-a932-4d6c-b1ab6c56fd72"
      },
      "outputs": [],
      "source": [
        "xgtest = xgb.DMatrix(test_X, label=test_y)\n",
        "watchlist = [ (xgtrain,'train'), (xgtest, 'test') ]\n",
        "model = xgb.train(plst, xgtrain, num_rounds, watchlist, early_stopping_rounds=20)"
      ]
    },
    {
      "cell_type": "code",
      "execution_count": null,
      "metadata": {
        "_cell_guid": "6bdedd64-ca73-98c9-af47-758af84e9c88"
      },
      "outputs": [],
      "source": [
        "xgtest = xgb.DMatrix(test_X)\n",
        "model = xgb.train(plst, xgtrain, num_rounds)"
      ]
    },
    {
      "cell_type": "code",
      "execution_count": null,
      "metadata": {
        "_cell_guid": "9185bd0b-af5f-f076-36b3-ea2b9cefb30a"
      },
      "outputs": [],
      "source": [
        "pred_test_y = model.predict(xgtest)"
      ]
    },
    {
      "cell_type": "code",
      "execution_count": null,
      "metadata": {
        "_cell_guid": "0cc1304e-5916-c99c-5b1b-49d3f2c55ac0"
      },
      "outputs": [],
      "source": [
        "clf = RandomForestClassifier(n_estimators=450,max_depth=35)\n",
        "\n",
        "# Train the classifier to take the training features and learn how they relate\n",
        "# to the training y (the species)\n",
        "clf.fit(train_x, train['interest_level'])"
      ]
    },
    {
      "cell_type": "code",
      "execution_count": null,
      "metadata": {
        "_cell_guid": "b5cc8340-69a2-43bb-467d-c5d19ae98bbf"
      },
      "outputs": [],
      "source": [
        "test_x = sparse.hstack([test[features], te_sparse]).tocsr()"
      ]
    },
    {
      "cell_type": "code",
      "execution_count": null,
      "metadata": {
        "_cell_guid": "3f3ccec8-89a4-6278-e44d-b684413fa3b9"
      },
      "outputs": [],
      "source": [
        "preds=clf.predict(test_x)"
      ]
    },
    {
      "cell_type": "code",
      "execution_count": null,
      "metadata": {
        "_cell_guid": "b63e2da8-a1f5-aca5-1495-4ba15dfd761a"
      },
      "outputs": [],
      "source": [
        "clf.predict_proba(test_x)[0:10]"
      ]
    },
    {
      "cell_type": "code",
      "execution_count": null,
      "metadata": {
        "_cell_guid": "47980c52-a47f-cead-1a70-cb20022ac439"
      },
      "outputs": [],
      "source": [
        "preds[0:5]"
      ]
    },
    {
      "cell_type": "code",
      "execution_count": null,
      "metadata": {
        "_cell_guid": "e11b3c54-80b7-f96a-6efd-14831eda11e1"
      },
      "outputs": [],
      "source": [
        "test['interest_level'][0:5]"
      ]
    },
    {
      "cell_type": "code",
      "execution_count": null,
      "metadata": {
        "_cell_guid": "1986af31-5e0d-edd4-628a-ddb913c144bc"
      },
      "outputs": [],
      "source": [
        "pd.crosstab(test['interest_level'], preds, rownames=['Actual interest_level'], colnames=['Predicted interest_level'])"
      ]
    },
    {
      "cell_type": "code",
      "execution_count": null,
      "metadata": {
        "_cell_guid": "6c266afb-ce2d-92fd-5f52-e20bba7c5911"
      },
      "outputs": [],
      "source": [
        "import sklearn"
      ]
    },
    {
      "cell_type": "code",
      "execution_count": null,
      "metadata": {
        "_cell_guid": "337e400e-3c14-1506-685a-5ab46a9ccbf6"
      },
      "outputs": [],
      "source": [
        "sklearn.metrics.log_loss(test['interest_level'], clf.predict_proba(test_x))"
      ]
    },
    {
      "cell_type": "code",
      "execution_count": null,
      "metadata": {
        "_cell_guid": "b913c6ef-29ee-62af-1599-d22cbdf41cb7"
      },
      "outputs": [],
      "source": [
        "##Test\n",
        "\n",
        "pred_actualTest = clf.predict_proba(df_test[features])\n"
      ]
    },
    {
      "cell_type": "code",
      "execution_count": null,
      "metadata": {
        "_cell_guid": "d4c0b8c1-c33e-ae75-3765-cadc7203c488"
      },
      "outputs": [],
      "source": [
        "pred_actualTest"
      ]
    },
    {
      "cell_type": "code",
      "execution_count": null,
      "metadata": {
        "_cell_guid": "2cbda5ef-70bc-8bd0-cebb-8158a3818f2b"
      },
      "outputs": [],
      "source": [
        "your_permutation = [0,2,1]\n",
        "i = np.argsort(your_permutation)\n",
        "i\n",
        "pred_actualTest1=pred_actualTest[:,i]"
      ]
    },
    {
      "cell_type": "code",
      "execution_count": null,
      "metadata": {
        "_cell_guid": "eff99a8b-ac3e-0137-f3e8-cbfd0186942e"
      },
      "outputs": [],
      "source": [
        "out_df = pd.DataFrame(pred_actualTest1)\n",
        "out_df.columns = [\"high\", \"medium\", \"low\"]\n",
        "out_df[\"listing_id\"] = df_test.listing_id.values"
      ]
    },
    {
      "cell_type": "code",
      "execution_count": null,
      "metadata": {
        "_cell_guid": "e1d27225-67cf-0270-58aa-3ee207e2f980"
      },
      "outputs": [],
      "source": [
        "out_df.head()"
      ]
    },
    {
      "cell_type": "code",
      "execution_count": null,
      "metadata": {
        "_cell_guid": "42a13b8f-5ced-394f-2d93-cef61e11c9e9"
      },
      "outputs": [],
      "source": [
        "out_df.to_csv(\"first1.csv\", index=False)"
      ]
    },
    {
      "cell_type": "code",
      "execution_count": null,
      "metadata": {
        "_cell_guid": "4ca6dddc-d3ca-a2db-e2b7-b59d728d18d9"
      },
      "outputs": [],
      "source": [
        "print(check_output([\"ls\"]).decode(\"utf8\"))"
      ]
    },
    {
      "cell_type": "code",
      "execution_count": null,
      "metadata": {
        "_cell_guid": "6a7e9a1e-d9bc-7e42-205d-2826c3e7fbf6"
      },
      "outputs": [],
      "source": [
        "out_df"
      ]
    }
  ],
  "metadata": {
    "_change_revision": 0,
    "_is_fork": false,
    "kernelspec": {
      "display_name": "Python 3",
      "language": "python",
      "name": "python3"
    },
    "language_info": {
      "codemirror_mode": {
        "name": "ipython",
        "version": 3
      },
      "file_extension": ".py",
      "mimetype": "text/x-python",
      "name": "python",
      "nbconvert_exporter": "python",
      "pygments_lexer": "ipython3",
      "version": "3.6.0"
    }
  },
  "nbformat": 4,
  "nbformat_minor": 0
}