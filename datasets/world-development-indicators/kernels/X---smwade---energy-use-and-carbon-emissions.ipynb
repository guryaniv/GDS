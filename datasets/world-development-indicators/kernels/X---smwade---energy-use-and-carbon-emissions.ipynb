{"cells":[
 {
  "cell_type": "markdown",
  "metadata": {},
  "source": "## Setup"
 },
 {
  "cell_type": "code",
  "execution_count": null,
  "metadata": {
   "collapsed": false
  },
  "outputs": [],
  "source": "\n"
 },
 {
  "cell_type": "code",
  "execution_count": null,
  "metadata": {
   "collapsed": false
  },
  "outputs": [],
  "source": "import numpy as np\nimport pandas as pd\nimport matplotlib.pyplot as plt\nimport seaborn as sns\n\n# read data\ncountry = pd.read_csv('../input/Country.csv')\ncountry_notes = pd.read_csv('../input/CountryNotes.csv')\nindicators = pd.read_csv('../input/Indicators.csv')\nseries = pd.read_csv('../input/Series.csv')\nseries_notes = pd.read_csv('../input/SeriesNotes.csv')"
 },
 {
  "cell_type": "code",
  "execution_count": null,
  "metadata": {
   "collapsed": false
  },
  "outputs": [],
  "source": "\n# extract relevant indicators\ncolumn_list = ['Population, total', 'CO2 emissions (kt)', \n               'CO2 intensity (kg per kg of oil equivalent energy use)',\n               'Alternative and nuclear energy (% of total energy use)',\n               'Energy use (kg of oil equivalent per capita)']\ncarbon_indicators = indicators[indicators['IndicatorName'].isin(column_list)]\n\n# separate \"countries\" that are really aggregates\naggregates = country[np.logical_and(country['SpecialNotes'].str.len() > 0, country['SpecialNotes'].str.contains('aggregate', case=False))]['TableName'].values\ncountries = country[~country['TableName'].isin(aggregates)]['TableName'].values\n\n# reshape dataframe\ncarbon_indicators.drop(['IndicatorCode','CountryCode'],axis=1,inplace=True)\ncarbon_indicators.set_index(['CountryName','Year','IndicatorName'],inplace=True)\ncarbon_indicators = carbon_indicators.unstack('IndicatorName')\ncarbon_indicators.columns = carbon_indicators.columns.droplevel(0)\n\n# give columns shorter names\ncarbon_indicators = carbon_indicators[column_list]  # re-order the columns, since we don't know what order they're in\ncarbon_indicators.columns = ['Population', 'Carbon emissions', 'Carbon intensity', 'Alternative energy percent','Energy use per capita']\n\n# calculate per-capita emissions\ncarbon_indicators['Emissions per capita'] = carbon_indicators['Carbon emissions'] / carbon_indicators['Population']\n\n# calculate total energy use\ncarbon_indicators['Energy use'] = carbon_indicators['Energy use per capita'] * carbon_indicators['Population']"
 },
 {
  "cell_type": "markdown",
  "metadata": {},
  "source": "\n## Total carbon emissions are increasing"
 },
 {
  "cell_type": "code",
  "execution_count": null,
  "metadata": {
   "collapsed": false
  },
  "outputs": [],
  "source": ""
 },
 {
  "cell_type": "code",
  "execution_count": null,
  "metadata": {
   "collapsed": false
  },
  "outputs": [],
  "source": "plt.figure()\nplt.plot(carbon_indicators.index.levels[1], carbon_indicators.loc[pd.IndexSlice['World',:],'Carbon emissions'])\nplt.title('Carbon emissions, kt')\n"
 },
 {
  "cell_type": "markdown",
  "metadata": {},
  "source": "Two obvious drivers for this are increasing population, and increasing emissions per capita. \nWe plot the graphs for these.\n\n## Population"
 },
 {
  "cell_type": "code",
  "execution_count": null,
  "metadata": {
   "collapsed": false
  },
  "outputs": [],
  "source": ""
 },
 {
  "cell_type": "code",
  "execution_count": null,
  "metadata": {
   "collapsed": false
  },
  "outputs": [],
  "source": "plt.figure()\nplt.plot(carbon_indicators.index.levels[1], carbon_indicators.loc[pd.IndexSlice['World',:],'Population'])\nplt.title('Population')\n"
 },
 {
  "cell_type": "markdown",
  "metadata": {},
  "source": "Population is increasing roughly linearly. Now we look at emissions per capita.\n\n## Emissions per capita"
 },
 {
  "cell_type": "code",
  "execution_count": null,
  "metadata": {
   "collapsed": false
  },
  "outputs": [],
  "source": ""
 },
 {
  "cell_type": "code",
  "execution_count": null,
  "metadata": {
   "collapsed": false
  },
  "outputs": [],
  "source": "plt.figure()\nplt.plot(carbon_indicators.index.levels[1], carbon_indicators.loc[pd.IndexSlice['World',:],'Emissions per capita'])\nplt.title('Emissions per capita, kt')"
 },
 {
  "cell_type": "markdown",
  "metadata": {},
  "source": "This has a more interesting pattern. Emissions per capita increased sharply until 1970, stabilised for a while,\nand then started increasing again from 2010. We'll now see that this correlates with the trend in the proportion\nof energy from renewable sources."
 },
 {
  "cell_type": "code",
  "execution_count": null,
  "metadata": {
   "collapsed": false
  },
  "outputs": [],
  "source": ""
 },
 {
  "cell_type": "markdown",
  "metadata": {},
  "source": "## Energy from alternative sources"
 },
 {
  "cell_type": "code",
  "execution_count": null,
  "metadata": {
   "collapsed": false
  },
  "outputs": [],
  "source": ""
 },
 {
  "cell_type": "code",
  "execution_count": null,
  "metadata": {
   "collapsed": false
  },
  "outputs": [],
  "source": "plt.figure()\nplt.plot(carbon_indicators.index.levels[1], carbon_indicators.loc[pd.IndexSlice['World',:],'Alternative energy percent'])\nplt.title('Alternative energy percent')\n"
 },
 {
  "cell_type": "markdown",
  "metadata": {},
  "source": "We see a sharp increase from 1970 to 1990, probably due to increasing use of nuclear energy. But what accounts\nfor the recent decrease?"
 },
 {
  "cell_type": "markdown",
  "metadata": {},
  "source": "## Increasing energy use in developing countries\nBetween 2000 and 2011, China and India drastically increased their energy consumption. Both have a relatively\nlow proportion of renewable energy, so this helps account for the recent uptick in emissions."
 },
 {
  "cell_type": "code",
  "execution_count": null,
  "metadata": {
   "collapsed": false
  },
  "outputs": [],
  "source": "\ntop_energy_users_2000 = carbon_indicators.loc[pd.IndexSlice[list(countries),2000],['Energy use', 'Alternative energy percent']].sort_values('Energy use', ascending=False).iloc[0:5]\nproportion_of_total = sum(top_energy_users_2000['Energy use']) / carbon_indicators.loc[pd.IndexSlice['World',2000],'Energy use']\nprint('Top 5 energy users in 2000 (these account for {:.0f}% of total energy use)'.format(proportion_of_total*100))\nprint(top_energy_users_2000)\n\ntop_energy_users_2011 = carbon_indicators.loc[pd.IndexSlice[list(countries),2011],['Energy use', 'Alternative energy percent']].sort_values('Energy use', ascending=False).iloc[0:5]\nproportion_of_total = sum(top_energy_users_2011['Energy use']) / carbon_indicators.loc[pd.IndexSlice['World',2011],'Energy use']\nprint('\\n\\nTop 5 energy users in 2000 (these account for {:.0f}% of total energy use)'.format(proportion_of_total*100))\nprint(top_energy_users_2011)"
 },
 {
  "cell_type": "code",
  "execution_count": null,
  "metadata": {
   "collapsed": false
  },
  "outputs": [],
  "source": ""
 }
],"metadata":{"kernelspec":{"display_name":"Python 3","language":"python","name":"python3"}}, "nbformat": 4, "nbformat_minor": 0}