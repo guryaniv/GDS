{
  "metadata": {
    "kernelspec": {
      "display_name": "Python 3",
      "language": "python",
      "name": "python3"
    },
    "language_info": {
      "codemirror_mode": {
        "name": "ipython",
        "version": 3
      },
      "file_extension": ".py",
      "mimetype": "text/x-python",
      "name": "python",
      "nbconvert_exporter": "python",
      "pygments_lexer": "ipython3",
      "version": "3.6.0"
    }
  },
  "nbformat": 4,
  "nbformat_minor": 0,
  "cells": [
    {
      "metadata": {
        "_cell_guid": "29a5b48c-2b05-440f-88e5-a43764f76f4c",
        "_active": false,
        "collapsed": false
      },
      "source": "# This Python 3 environment comes with many helpful analytics libraries installed\n# It is defined by the kaggle/python docker image: https://github.com/kaggle/docker-python\n# For example, here's several helpful packages to load in \n\nimport numpy as np # linear algebra\nimport pandas as pd # data processing, CSV file I/O (e.g. pd.read_csv)\n\n# Input data files are available in the \"../input/\" directory.\n# For example, running this (by clicking run or pressing Shift+Enter) will list the files in the input directory\n\nfrom subprocess import check_output\nprint(check_output([\"ls\", \"../input\"]).decode(\"utf8\"))\n\n# Any results you write to the current directory are saved as output.\n\nimport os \nfrom scipy import ndimage\nfrom subprocess import check_output\n\nimport cv2\nimport numpy as np\nfrom matplotlib import pyplot as plt\n%matplotlib inline",
      "execution_count": 3,
      "cell_type": "code",
      "outputs": [],
      "execution_state": "idle"
    },
    {
      "metadata": {
        "_cell_guid": "47fa0d9e-03bc-2d3c-5be9-ff1f0d8f246f",
        "_active": true,
        "collapsed": false
      },
      "source": "from skimage.morphology import *\n\nimage = cv2.imread('../input/train/LAG/img_00091.jpg',0)\n\nfrom skimage.data import camera\nfrom skimage.filters import roberts, sobel, scharr, prewitt\n\n\n#image = camera()\nedge_roberts = roberts(image)\nedge_sobel = sobel(image)\n\nfig, ax = plt.subplots(ncols=2, sharex=True, sharey=True,\n                       figsize=(8, 4))\n\nax[0].imshow(edge_roberts, cmap=plt.cm.gray)\nax[0].set_title('Roberts Edge Detection')\n\nax[1].imshow(edge_sobel, cmap=plt.cm.gray)\nax[1].set_title('Sobel Edge Detection')\n\nfor a in ax:\n    a.axis('off')\n\nplt.tight_layout()\nplt.show()",
      "execution_count": 13,
      "cell_type": "code",
      "outputs": [],
      "execution_state": "idle"
    }
  ]
}