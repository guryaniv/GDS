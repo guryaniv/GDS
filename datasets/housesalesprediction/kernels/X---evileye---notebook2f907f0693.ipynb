{
  "cells": [
    {
      "cell_type": "code",
      "execution_count": null,
      "metadata": {
        "_cell_guid": "a7aaabaf-586a-e03c-3554-85569d2bad1d"
      },
      "outputs": [],
      "source": [
        "# This Python 3 environment comes with many helpful analytics libraries installed\n",
        "# It is defined by the kaggle/python docker image: https://github.com/kaggle/docker-python\n",
        "# For example, here's several helpful packages to load in \n",
        "\n",
        "import numpy as np # linear algebra\n",
        "import pandas as pd # data processing, CSV file I/O (e.g. pd.read_csv)\n",
        "\n",
        "# Input data files are available in the \"../input/\" directory.\n",
        "# For example, running this (by clicking run or pressing Shift+Enter) will list the files in the input directory\n",
        "\n",
        "from subprocess import check_output\n",
        "print(check_output([\"ls\", \"../input\"]).decode(\"utf8\"))\n",
        "\n",
        "# Any results you write to the current directory are saved as output."
      ]
    },
    {
      "cell_type": "code",
      "execution_count": null,
      "metadata": {
        "_cell_guid": "85462165-0145-6b25-08e8-83033001f458"
      },
      "outputs": [],
      "source": [
        "df = pd.read_csv(\"../input/kc_house_data.csv\")\n",
        "df.info()"
      ]
    },
    {
      "cell_type": "code",
      "execution_count": null,
      "metadata": {
        "_cell_guid": "511314e6-eb58-90b5-5a0a-2583c3bf5a71"
      },
      "outputs": [],
      "source": [
        "df.head(3)"
      ]
    },
    {
      "cell_type": "code",
      "execution_count": null,
      "metadata": {
        "_cell_guid": "e454b8dd-b365-bc5f-94f7-0b2f965e7703"
      },
      "outputs": [],
      "source": [
        "df.describe()"
      ]
    },
    {
      "cell_type": "code",
      "execution_count": null,
      "metadata": {
        "_cell_guid": "6a9ee956-1104-e6bd-174c-1789cb8579c0"
      },
      "outputs": [],
      "source": [
        "import matplotlib.pyplot as plt\n",
        "import seaborn as sns\n",
        "from sklearn.preprocessing import StandardScaler\n",
        "from sklearn.model_selection import train_test_split, learning_curve\n",
        "from sklearn.linear_model import LinearRegression\n",
        "from sklearn.model_selection import KFold\n",
        "from sklearn.metrics import r2_score\n",
        "from sklearn.model_selection import validation_curve\n",
        "from sklearn.linear_model import Ridge\n",
        "from sklearn.base import clone\n",
        "from itertools import combinations\n"
      ]
    },
    {
      "cell_type": "code",
      "execution_count": null,
      "metadata": {
        "_cell_guid": "db74b89b-741b-45c8-0da8-96fed47d20da"
      },
      "outputs": [],
      "source": [
        "df[\"date\"] = pd.to_datetime(df[\"date\"])\n",
        "df.head(3)"
      ]
    },
    {
      "cell_type": "code",
      "execution_count": null,
      "metadata": {
        "_cell_guid": "b0242ffd-cfa1-1ab4-91b1-20400c806875"
      },
      "outputs": [],
      "source": [
        "X_visual = df.iloc[:, 2:]\n",
        "X = df.iloc[:, 3:]\n",
        "y = df.iloc[:, 2]"
      ]
    },
    {
      "cell_type": "code",
      "execution_count": null,
      "metadata": {
        "_cell_guid": "4d5ed553-d011-d556-8ff6-5416ccb67f53"
      },
      "outputs": [],
      "source": [
        "X_train, X_test, y_train, y_test = train_test_split(X, y, test_size = 0.3, random_state = 42)"
      ]
    },
    {
      "cell_type": "code",
      "execution_count": null,
      "metadata": {
        "_cell_guid": "c4c3799b-615f-fb6f-4a3f-f1e9f7b1469e"
      },
      "outputs": [],
      "source": [
        "sns.set(style=\"whitegrid\", context=\"notebook\")\n",
        "#sns.pairplot(X_visual, size=2.5)"
      ]
    },
    {
      "cell_type": "code",
      "execution_count": null,
      "metadata": {
        "_cell_guid": "5b811a7d-03c8-80c4-5576-ae7af374c789"
      },
      "outputs": [],
      "source": [
        "cols = list(X_visual.columns)"
      ]
    },
    {
      "cell_type": "code",
      "execution_count": null,
      "metadata": {
        "_cell_guid": "246e8a1e-7401-075e-56f3-e443f916d391"
      },
      "outputs": [],
      "source": [
        "cm = np.corrcoef(X_visual.values.T)\n",
        "sns.set(font_scale=1.5)\n",
        "fig, ax = plt.subplots(figsize = (20,25))\n",
        "hm = sns.heatmap(cm, cbar=True, annot=True, fmt = '.2f', xticklabels = cols, yticklabels = cols)"
      ]
    },
    {
      "cell_type": "code",
      "execution_count": null,
      "metadata": {
        "_cell_guid": "d24a6ef6-ba56-3c40-bbbf-49f2495e4f83"
      },
      "outputs": [],
      "source": [
        "ss = StandardScaler()\n",
        "X_train = ss.fit_transform(X_train)\n",
        "X_test = ss.transform(X_test)\n"
      ]
    },
    {
      "cell_type": "code",
      "execution_count": null,
      "metadata": {
        "_cell_guid": "ff214425-7d22-a376-5526-271f5ea18f41"
      },
      "outputs": [],
      "source": [
        "lr=LinearRegression()\n",
        "lr.fit(X_train, y_train)\n",
        "pred = lr.predict(X_train)\n",
        "pred1 = lr.predict(X_test)\n",
        "print(\"r2_score for training data: \", r2_score(y_train, pred))\n",
        "print(\"r2_score for test data: \", r2_score(y_test, pred1))"
      ]
    },
    {
      "cell_type": "code",
      "execution_count": null,
      "metadata": {
        "_cell_guid": "2fd3164d-30fd-462c-98c9-6b38a28da902"
      },
      "outputs": [],
      "source": [
        "train_sizes, train_scores, test_scores =learning_curve(estimator=lr,X=X_train,y=y_train,train_sizes=np.linspace(0.1, 1.0, 10),n_jobs=-1)\n",
        "#print(train_scores,test_scores)\n",
        "train_mean = np.mean(train_scores, axis=1)\n",
        "print(train_mean)\n",
        "train_std = np.std(train_scores, axis=1)\n",
        "test_mean = np.mean(test_scores, axis=1)\n",
        "test_std = np.std(test_scores, axis=1)\n"
      ]
    },
    {
      "cell_type": "code",
      "execution_count": null,
      "metadata": {
        "_cell_guid": "528f3da6-9b68-28f2-0d0a-6510b4935628"
      },
      "outputs": [],
      "source": [
        "plt.plot(train_sizes, train_mean,\n",
        "color='blue', marker='o',\n",
        "markersize=5,\n",
        "label='training accuracy')\n",
        "\n",
        "plt.plot(train_sizes, test_mean,\n",
        "color='green', linestyle='--',\n",
        "marker='s', markersize=5,\n",
        "label='validation accuracy')\n",
        "\n",
        "plt.grid()\n",
        "plt.xlabel('Number of training samples')\n",
        "plt.ylabel('Accuracy')\n",
        "plt.legend(loc='lower right')\n",
        "plt.ylim([0.5, 1.0])\n",
        "plt.show()"
      ]
    },
    {
      "cell_type": "code",
      "execution_count": null,
      "metadata": {
        "_cell_guid": "bdfd8019-7639-2c9f-be32-bb8332d44ec2"
      },
      "outputs": [],
      "source": [
        "lr.coef_"
      ]
    },
    {
      "cell_type": "code",
      "execution_count": null,
      "metadata": {
        "_cell_guid": "4ccceee4-8166-0c7c-881b-bb3f370dd052"
      },
      "outputs": [],
      "source": [
        "ridge = Ridge()\n",
        "ridge.fit(X_train, y_train)\n",
        "pred2 = ridge.predict(X_train)\n",
        "pred3 = ridge.predict(X_test)\n",
        "print(\"R2 score for train ridge: \", r2_score(y_train, pred2))\n",
        "print(\"r2_score for test data: \", r2_score(y_test, pred3))"
      ]
    },
    {
      "cell_type": "code",
      "execution_count": null,
      "metadata": {
        "_cell_guid": "de384297-55d6-3bc1-d682-edfc97d667d5"
      },
      "outputs": [],
      "source": [
        "from sklearn.learning_curve import validation_curve\n",
        "param_range = [1e-5,1e-4,0.001, 0.01, 0.1, 1.0, 10.0, 100.0 ]\n",
        "train_scores, test_scores = validation_curve(\n",
        "estimator=ridge,\n",
        "X=X_train,\n",
        "y=y_train,\n",
        "param_name='alpha',\n",
        "param_range=param_range)\n",
        "train_mean = np.mean(train_scores, axis=1)\n",
        "train_std = np.std(train_scores, axis=1)\n",
        "test_mean = np.mean(test_scores, axis=1)\n",
        "test_std = np.std(test_scores, axis=1)\n",
        "plt.plot(param_range, train_mean,\n",
        "color='blue', marker='o',\n",
        "markersize=5,\n",
        "label='training accuracy')\n",
        "\n",
        "plt.plot(param_range, test_mean,\n",
        "color='green', linestyle='--',\n",
        "marker='s', markersize=5,\n",
        "label='validation accuracy')\n",
        "\n",
        "plt.grid()\n",
        "plt.xscale('log')\n",
        "plt.legend(loc='lower right')\n",
        "plt.xlabel('Parameter C')\n",
        "plt.ylabel('Accuracy')\n",
        "plt.ylim([0.5, 1.0])\n",
        "plt.show()\n"
      ]
    },
    {
      "cell_type": "code",
      "execution_count": null,
      "metadata": {
        "_cell_guid": "d438c521-4966-970e-3444-9069b277fdb8"
      },
      "outputs": [],
      "source": [
        "ridge.coef_"
      ]
    },
    {
      "cell_type": "code",
      "execution_count": null,
      "metadata": {
        "_cell_guid": "0770ceb4-999b-add3-8ccd-f2c37b162078"
      },
      "outputs": [],
      "source": [
        "from sklearn.preprocessing import PolynomialFeatures\n",
        "\n",
        "pr = LinearRegression(n_jobs=-1)\n",
        "quad = PolynomialFeatures(degree = 2)\n",
        "X_quad = quad.fit_transform(X_train)\n",
        "pr = pr.fit(X_quad, y_train)\n",
        "quadratic_r2 = r2_score(y_train, pr.predict(X_quad))\n",
        "print(\"r2  of 2: \", quadratic_r2)"
      ]
    },
    {
      "cell_type": "code",
      "execution_count": null,
      "metadata": {
        "_cell_guid": "bb6090dd-1c67-570e-5c1e-6e0c97caf0ef"
      },
      "outputs": [],
      "source": [
        "train_sizes, train_scores, test_scores =learning_curve(estimator=pr,X=X_quad,y=y_train,train_sizes=np.linspace(0.2, 1.0, 10),cv=10,n_jobs=-1)\n",
        "#print(train_scores,test_scores)\n",
        "train_mean = np.mean(train_scores, axis=1)\n",
        "train_std = np.std(train_scores, axis=1)\n",
        "test_mean = np.mean(test_scores, axis=1)\n",
        "test_std = np.std(test_scores, axis=1)\n",
        "print(train_sizes)\n",
        "print(test_mean)\n"
      ]
    },
    {
      "cell_type": "code",
      "execution_count": null,
      "metadata": {
        "_cell_guid": "aecc185e-df63-5148-a5c1-7506af8adab5"
      },
      "outputs": [],
      "source": [
        "plt.plot(train_sizes, train_mean,\n",
        "color='blue', marker='o',\n",
        "markersize=5,\n",
        "label='training accuracy')\n",
        "\n",
        "plt.plot(train_sizes, test_mean,\n",
        "color='green', linestyle='--',\n",
        "marker='s', markersize=5,\n",
        "label='validation accuracy')\n",
        "\n",
        "plt.grid()\n",
        "plt.xlabel('Number of training samples')\n",
        "plt.ylabel('Accuracy')\n",
        "plt.legend(loc='lower right')\n",
        "plt.ylim([0, 1.0])\n",
        "plt.show()"
      ]
    },
    {
      "cell_type": "code",
      "execution_count": null,
      "metadata": {
        "_cell_guid": "fff5012f-0f5f-d371-39bc-3f41eb9075ed"
      },
      "outputs": [],
      "source": [
        "X_test_quad = quad.transform(X_test)\n",
        "pred=pr.predict(X_test_quad)\n",
        "#pred=pr.predict(X_test)\n",
        "print(X_test.shape)\n",
        "print(y_test.shape)"
      ]
    },
    {
      "cell_type": "code",
      "execution_count": null,
      "metadata": {
        "_cell_guid": "89b02edd-8d2a-075c-d87a-74725ea81e54"
      },
      "outputs": [],
      "source": [
        "\n",
        "print('r2_2',r2_score(y_test,pred))\n"
      ]
    },
    {
      "cell_type": "markdown",
      "metadata": {
        "_cell_guid": "b03c66c1-5077-587a-1b1c-9cd92a97bd9c"
      },
      "source": [
        "Now since polynomial features adds lot of features to the data we select most important features based on feature selection techniques and then try to fit higher degree Polynomial Features and check the r2_score on training and test accuracy"
      ]
    },
    {
      "cell_type": "markdown",
      "metadata": {
        "_cell_guid": "ffb50607-1112-0a31-bfc4-885dc9d504a2"
      },
      "source": [
        "# selecting features through sequential backward selection"
      ]
    },
    {
      "cell_type": "code",
      "execution_count": null,
      "metadata": {
        "_cell_guid": "bb694181-bb25-b0dd-f822-673e9a2d9421"
      },
      "outputs": [],
      "source": [
        "from sklearn.base import clone\n",
        "from sklearn.itertools import combinations\n"
      ]
    },
    {
      "cell_type": "code",
      "execution_count": null,
      "metadata": {
        "_cell_guid": "b31f9e9f-eb62-8a0f-849a-200790ed78f6"
      },
      "outputs": [],
      "source": ""
    }
  ],
  "metadata": {
    "_change_revision": 0,
    "_is_fork": false,
    "kernelspec": {
      "display_name": "Python 3",
      "language": "python",
      "name": "python3"
    },
    "language_info": {
      "codemirror_mode": {
        "name": "ipython",
        "version": 3
      },
      "file_extension": ".py",
      "mimetype": "text/x-python",
      "name": "python",
      "nbconvert_exporter": "python",
      "pygments_lexer": "ipython3",
      "version": "3.6.0"
    }
  },
  "nbformat": 4,
  "nbformat_minor": 0
}