{
  "cells": [
    {
      "cell_type": "code",
      "execution_count": null,
      "metadata": {
        "_cell_guid": "e4a40a1f-e27b-8f7c-b562-6b1b51541672"
      },
      "outputs": [],
      "source": [
        "import numpy as np # linear algebra\n",
        "import matplotlib.pyplot as plt\n",
        "import pandas as pd # data processing, CSV file I/O (e.g. pd.read_csv)\n",
        "# Input data files are available in the \"../input/\" directory.\n",
        "df = pd.read_csv('../input/train.csv')\n",
        "#print(df.columns.values)\n",
        "user_data = []\n",
        "length = len(df['id'])\n",
        "X, Y = [], []\n",
        "D = max(df['loss'].values)-min(df['loss'].values)\n",
        "for i in range(0, length):\n",
        "    tot = 0.0\n",
        "    for j in range(1, 15):\n",
        "        column = 'cont'+str(j)\n",
        "        avg = df[column].mean()\n",
        "        tot += abs(df[column].values[i]-avg)\n",
        "    avg = tot/14\n",
        "    X.append(avg)\n",
        "    Y.append(df['loss'].values[i]/D)\n",
        "    #print(X[i], Y[i])\n",
        "plt.plot(X, Y, 'b')"
      ]
    },
    {
      "cell_type": "code",
      "execution_count": null,
      "metadata": {
        "_cell_guid": "1d28c575-2bc2-ba26-d8d0-04558d18b78d"
      },
      "outputs": [],
      "source": [
        "for i in range(1, 15):\n",
        "    field = 'cont'+str(i)\n",
        "    print(max(df[field].values), min(df[field].values))"
      ]
    },
    {
      "cell_type": "code",
      "execution_count": null,
      "metadata": {
        "_cell_guid": "7fe81a48-0f2d-1218-b2b3-e42b703110aa"
      },
      "outputs": [],
      "source": [
        "print(max(df['loss'].values), min(df['loss'].values), df['loss'].mean())"
      ]
    },
    {
      "cell_type": "code",
      "execution_count": null,
      "metadata": {
        "_cell_guid": "f3778183-c33a-0509-5308-a7aceaa750f6"
      },
      "outputs": [],
      "source": [
        "cnt = df['cat2'].value_counts()\n",
        "print(cnt['A'])"
      ]
    }
  ],
  "metadata": {
    "_change_revision": 0,
    "_is_fork": false,
    "kernelspec": {
      "display_name": "Python 3",
      "language": "python",
      "name": "python3"
    },
    "language_info": {
      "codemirror_mode": {
        "name": "ipython",
        "version": 3
      },
      "file_extension": ".py",
      "mimetype": "text/x-python",
      "name": "python",
      "nbconvert_exporter": "python",
      "pygments_lexer": "ipython3",
      "version": "3.5.2"
    }
  },
  "nbformat": 4,
  "nbformat_minor": 0
}