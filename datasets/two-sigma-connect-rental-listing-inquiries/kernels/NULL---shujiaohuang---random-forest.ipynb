{
  "cells": [
    {
      "cell_type": "code",
      "execution_count": null,
      "metadata": {
        "_cell_guid": "ec5ddc7b-3a1c-4543-d2da-53853604f83c"
      },
      "outputs": [],
      "source": [
        "# This Python 3 environment comes with many helpful analytics libraries installed\n",
        "# It is defined by the kaggle/python docker image: https://github.com/kaggle/docker-python\n",
        "# For example, here's several helpful packages to load in \n",
        "\n",
        "import numpy as np # linear algebra\n",
        "import pandas as pd # data processing, CSV file I/O (e.g. pd.read_csv)\n",
        "\n",
        "# Input data files are available in the \"../input/\" directory.\n",
        "# For example, running this (by clicking run or pressing Shift+Enter) will list the files in the input directory\n",
        "\n",
        "from subprocess import check_output\n",
        "print(check_output([\"ls\", \"../input\"]).decode(\"utf8\"))\n",
        "\n",
        "# Any results you write to the current directory are saved as output.\n",
        "\n",
        "X_train = pd.read_json(\"../input/train.json\")\n",
        "X_test = pd.read_json(\"../input/test.json\")"
      ]
    },
    {
      "cell_type": "code",
      "execution_count": null,
      "metadata": {
        "_cell_guid": "9e877ba0-43ac-8e48-3aeb-bbc9aa58bc37"
      },
      "outputs": [],
      "source": [
        "\n",
        "X_train.head()"
      ]
    },
    {
      "cell_type": "code",
      "execution_count": null,
      "metadata": {
        "_cell_guid": "3b866088-bc9a-2c85-86ea-f512e581317a"
      },
      "outputs": [],
      "source": [
        "X_train.shape"
      ]
    },
    {
      "cell_type": "code",
      "execution_count": null,
      "metadata": {
        "_cell_guid": "2512b747-4f31-d84f-a562-680d9c602402"
      },
      "outputs": [],
      "source": [
        "X_test.head()"
      ]
    },
    {
      "cell_type": "code",
      "execution_count": null,
      "metadata": {
        "_cell_guid": "85331dcb-d5eb-8892-28e2-666d36df874c"
      },
      "outputs": [],
      "source": [
        "X_test.shape"
      ]
    },
    {
      "cell_type": "code",
      "execution_count": null,
      "metadata": {
        "_cell_guid": "ab2af394-e031-7fdb-9908-a26d5a827371",
        "collapsed": true
      },
      "outputs": [],
      "source": [
        "sample=pd.read_csv(\"../input/sample_submission.csv\")"
      ]
    },
    {
      "cell_type": "code",
      "execution_count": null,
      "metadata": {
        "_cell_guid": "aa3f6488-b650-cb47-78b9-4f9961616a5c"
      },
      "outputs": [],
      "source": [
        "sample.head()"
      ]
    },
    {
      "cell_type": "code",
      "execution_count": null,
      "metadata": {
        "_cell_guid": "36047f1e-3b7c-d4be-cd33-c534e97dd643"
      },
      "outputs": [],
      "source": [
        "print(check_output([\"ls\", \"../input/images_sample/\"]).decode(\"utf8\"))\n"
      ]
    },
    {
      "cell_type": "code",
      "execution_count": null,
      "metadata": {
        "_cell_guid": "6af7127a-ea46-d5a2-2871-ecbdb72ddb47"
      },
      "outputs": [],
      "source": [
        "import os\n",
        "import subprocess as sub\n",
        "from os import listdir\n",
        "from os.path import isfile, join\n",
        "onlyfiles = [f for f in listdir('../input/images_sample/6811957/') if isfile(join('../input/images_sample/6811957/', f))]\n",
        "print (onlyfiles)"
      ]
    },
    {
      "cell_type": "code",
      "execution_count": null,
      "metadata": {
        "_cell_guid": "404d97f6-b209-1ad3-b988-4b06eb23509c"
      },
      "outputs": [],
      "source": [
        "import matplotlib.pyplot as plt\n",
        "import matplotlib.image as mpimg\n",
        "%matplotlib inline\n",
        "img=[]\n",
        "for i in range (0,5):\n",
        "    img.append(mpimg.imread('../input/images_sample/6811957/'+onlyfiles[i]))\n",
        "    plt.imshow(img[i])\n",
        "    fig = plt.figure()\n",
        "    a=fig.add_subplot()\n",
        "    "
      ]
    },
    {
      "cell_type": "code",
      "execution_count": null,
      "metadata": {
        "_cell_guid": "da271112-58b1-c405-d9ef-c4d510f9f693"
      },
      "outputs": [],
      "source": [
        "\n",
        "\n",
        "X_train.dropna(subset = ['interest_level'])\n",
        "X_train.shape\n",
        "print (X_train['interest_level'])"
      ]
    },
    {
      "cell_type": "code",
      "execution_count": null,
      "metadata": {
        "_cell_guid": "87dad526-5fbb-1349-da1c-7bd9dc2b4792"
      },
      "outputs": [],
      "source": [
        "\n",
        "grouped = X_train.groupby(['interest_level'])\n",
        "print (grouped.size())\n",
        "#probability\n",
        "print (grouped.size()/len(X_train))\n"
      ]
    },
    {
      "cell_type": "code",
      "execution_count": null,
      "metadata": {
        "_cell_guid": "30f5ea17-443c-4192-0974-54f73df1629a"
      },
      "outputs": [],
      "source": [
        "\n",
        "X_train[\"num_photos\"] = X_train[\"photos\"].apply(len)\n",
        "X_train[\"num_features\"] = X_train[\"features\"].apply(len)\n",
        "X_train[\"num_description_words\"] = X_train[\"description\"].apply(lambda x: len(x.split(\" \")))\n",
        "X_train[\"created\"] = pd.to_datetime(X_train[\"created\"])\n",
        "X_train[\"created_year\"] = X_train[\"created\"].dt.year\n",
        "X_train[\"created_month\"] = X_train[\"created\"].dt.month\n",
        "X_train[\"created_day\"] = X_train[\"created\"].dt.day\n",
        "num_feats = [\"bathrooms\", \"bedrooms\", \"latitude\", \"longitude\", \"price\",\n",
        "             \"num_photos\", \"num_features\", \"num_description_words\",\n",
        "             \"created_year\", \"created_month\", \"created_day\"]\n",
        "X = X_train[num_feats]\n",
        "y = X_train[\"interest_level\"]\n",
        "\n",
        "X_train2, X_val, y_train2, y_val = train_test_split(X, y, test_size=0.3)"
      ]
    },
    {
      "cell_type": "code",
      "execution_count": null,
      "metadata": {
        "_cell_guid": "f48bebde-e139-ecf1-b7b2-dd21b505850e",
        "collapsed": true
      },
      "outputs": [],
      "source": [
        "\n",
        "X_test[\"num_photos\"] = X_test[\"photos\"].apply(len)\n",
        "X_test[\"num_features\"] = X_test[\"features\"].apply(len)\n",
        "X_test[\"num_description_words\"] = X_test[\"description\"].apply(lambda x: len(x.split(\" \")))\n",
        "X_test[\"created\"] = pd.to_datetime(X_test[\"created\"])\n",
        "X_test[\"created_year\"] = X_test[\"created\"].dt.year\n",
        "X_test[\"created_month\"] = X_test[\"created\"].dt.month\n",
        "X_test[\"created_day\"] = X_test[\"created\"].dt.day\n",
        "X_test2 = X_test[num_feats]\n"
      ]
    },
    {
      "cell_type": "code",
      "execution_count": null,
      "metadata": {
        "_cell_guid": "e5ec2ee8-3150-d313-0824-291993f74d45"
      },
      "outputs": [],
      "source": [
        "from sklearn.ensemble import RandomForestClassifier\n",
        "from sklearn.model_selection import train_test_split\n",
        "from sklearn.metrics import log_loss\n",
        "# Train uncalibrated random forest classifier on whole train and validation\n",
        "# data and evaluate on test data\n",
        "rfmodel = RandomForestClassifier(n_estimators=300)\n",
        "rfmodel.fit(X_train2, y_train2)"
      ]
    },
    {
      "cell_type": "code",
      "execution_count": null,
      "metadata": {
        "_cell_guid": "047ca2f0-f26d-26ba-c7bb-4163f8406364"
      },
      "outputs": [],
      "source": [
        "y_val_pred = rfmodel.predict_proba(X_val)\n",
        "log_loss(y_val, y_val_pred)\n",
        "print(y_val_pred)"
      ]
    },
    {
      "cell_type": "code",
      "execution_count": null,
      "metadata": {
        "_cell_guid": "93504287-47a0-80f2-08a0-80434a8426b3"
      },
      "outputs": [],
      "source": [
        "#This time use all the train datasets to train model\n",
        "rfmodel2 = RandomForestClassifier(n_estimators=300)\n",
        "rfmodel2.fit(X, y)"
      ]
    },
    {
      "cell_type": "code",
      "execution_count": null,
      "metadata": {
        "_cell_guid": "32478194-3783-4f1e-99c1-dc837bdf5819",
        "collapsed": true
      },
      "outputs": [],
      "source": [
        "y_test_pred = rfmodel2.predict_proba(X_test2)"
      ]
    },
    {
      "cell_type": "code",
      "execution_count": null,
      "metadata": {
        "_cell_guid": "af23fb27-94fa-8e99-379e-0f566812f332"
      },
      "outputs": [],
      "source": [
        "y_test_pred"
      ]
    },
    {
      "cell_type": "code",
      "execution_count": null,
      "metadata": {
        "_cell_guid": "cd63546c-388c-311b-214d-f2ea517ca351"
      },
      "outputs": [],
      "source": ""
    }
  ],
  "metadata": {
    "_change_revision": 0,
    "_is_fork": false,
    "kernelspec": {
      "display_name": "Python 3",
      "language": "python",
      "name": "python3"
    },
    "language_info": {
      "codemirror_mode": {
        "name": "ipython",
        "version": 3
      },
      "file_extension": ".py",
      "mimetype": "text/x-python",
      "name": "python",
      "nbconvert_exporter": "python",
      "pygments_lexer": "ipython3",
      "version": "3.6.0"
    }
  },
  "nbformat": 4,
  "nbformat_minor": 0
}