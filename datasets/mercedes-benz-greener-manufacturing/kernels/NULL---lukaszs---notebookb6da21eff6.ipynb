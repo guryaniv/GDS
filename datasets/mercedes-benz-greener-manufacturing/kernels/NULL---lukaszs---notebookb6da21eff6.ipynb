{
  "cells": [
    {
      "cell_type": "code",
      "execution_count": null,
      "metadata": {
        "_cell_guid": "50b63ce6-bac9-aa10-8c6a-4ca51a17a64a"
      },
      "outputs": [],
      "source": [
        "# This Python 3 environment comes with many helpful analytics libraries installed\n",
        "# It is defined by the kaggle/python docker image: https://github.com/kaggle/docker-python\n",
        "# For example, here's several helpful packages to load in \n",
        "\n",
        "#Ignore Warnings\n",
        "import warnings\n",
        "warnings.filterwarnings('ignore')\n",
        "\n",
        "import numpy as np # linear algebra\n",
        "import pandas as pd # data processing, CSV file I/O (e.g. pd.read_csv)\n",
        "#Graphing stuff\n",
        "import seaborn as sns\n",
        "import matplotlib.pyplot as plt\n",
        "import matplotlib as mpl\n",
        "import matplotlib.pylab as pylab\n",
        "\n",
        "#Modeling Algorithims\n",
        "from sklearn.tree import DecisionTreeClassifier\n",
        "from sklearn.linear_model import LogisticRegression\n",
        "from sklearn.neighbors import KNeighborsClassifier\n",
        "from sklearn.naive_bayes import GaussianNB\n",
        "from sklearn.svm import SVC, LinearSVC\n",
        "from sklearn.ensemble import RandomForestClassifier, GradientBoostingClassifier\n",
        "\n",
        "#Modeling Helpers\n",
        "from sklearn.preprocessing import Imputer, Normalizer, scale\n",
        "from sklearn.cross_validation import train_test_split, StratifiedKFold\n",
        "from sklearn.feature_selection import RFECV\n",
        "\n",
        "#Configure Visualization\n",
        "%matplotlib inline\n",
        "mpl.style.use('ggplot')\n",
        "sns.set_style('white')\n",
        "pylab.rcParams['figure.figsize']=8, -6\n",
        "\n",
        "# Input data files are available in the \"../input/\" directory.\n",
        "# For example, running this (by clicking run or pressing Shift+Enter) will list the files in the input directory\n",
        "\n",
        "from subprocess import check_output\n",
        "print(check_output([\"ls\", \"../input\"]).decode(\"utf8\"))\n",
        "\n",
        "# Any results you write to the current directory are saved as output."
      ]
    },
    {
      "cell_type": "code",
      "execution_count": null,
      "metadata": {
        "_cell_guid": "c90613b5-d267-132b-6733-7a183d1abaf4"
      },
      "outputs": [],
      "source": [
        "sample = pd.read_csv('../input/sample_submission.csv')\n",
        "test_df = pd.read_csv('../input/test.csv')\n",
        "train_df = pd.read_csv('../input/train.csv')\n",
        "\n",
        "print (train_df.columns.values)"
      ]
    },
    {
      "cell_type": "code",
      "execution_count": null,
      "metadata": {
        "_cell_guid": "3b9b8833-6852-7b57-aa7b-68802531e540"
      },
      "outputs": [],
      "source": [
        "train_df.head(10)"
      ]
    },
    {
      "cell_type": "code",
      "execution_count": null,
      "metadata": {
        "_cell_guid": "5b9fb1da-2087-e8fa-6354-b0142493e714"
      },
      "outputs": [],
      "source": [
        "train_df.tail()"
      ]
    },
    {
      "cell_type": "code",
      "execution_count": null,
      "metadata": {
        "_cell_guid": "f71a00cc-a056-8b59-a244-094fa1b9bf1f"
      },
      "outputs": [],
      "source": [
        "train_df.info()\n",
        "train_df.describe(include=['O'])\n"
      ]
    },
    {
      "cell_type": "code",
      "execution_count": null,
      "metadata": {
        "_cell_guid": "f9b6fb80-b13a-ae86-faff-f4e9cd3809a7"
      },
      "outputs": [],
      "source": [
        "train_df[['X3', 'y']].groupby(['X3'], as_index=False).mean().sort_values(by='y', ascending=False)"
      ]
    },
    {
      "cell_type": "code",
      "execution_count": null,
      "metadata": {
        "_cell_guid": "4f1a71c5-b749-9d55-8f4a-2025185af82a"
      },
      "outputs": [],
      "source": [
        "train_df[['X4', 'y']].groupby(['X4'], as_index=False).mean().sort_values(by='y', ascending=False)"
      ]
    },
    {
      "cell_type": "code",
      "execution_count": null,
      "metadata": {
        "_cell_guid": "c4993c18-e7dc-a00c-9e2a-c1a22484388b"
      },
      "outputs": [],
      "source": [
        "train_df[['X6', 'y']].groupby(['X6'], as_index=False).mean().sort_values(by='y', ascending=False)"
      ]
    },
    {
      "cell_type": "code",
      "execution_count": null,
      "metadata": {
        "_cell_guid": "2d288fac-c448-d587-4123-f52443768899"
      },
      "outputs": [],
      "source": [
        "train_df[['X0', 'y']].groupby(['X0'], as_index=False).mean().sort_values(by='y', ascending=False)"
      ]
    },
    {
      "cell_type": "code",
      "execution_count": null,
      "metadata": {
        "_cell_guid": "8e1a8da5-268d-e160-2628-302713916a5e"
      },
      "outputs": [],
      "source": [
        "g = sns.FacetGrid(train_df, col='X3')\n",
        "g.map(plt.hist, 'y', bins=6)\n",
        "g.add_legend()"
      ]
    },
    {
      "cell_type": "code",
      "execution_count": null,
      "metadata": {
        "_cell_guid": "9345e6ff-766c-f14b-c67b-412d1e7ad841"
      },
      "outputs": [],
      "source": [
        "train_df.describe()"
      ]
    },
    {
      "cell_type": "code",
      "execution_count": null,
      "metadata": {
        "_cell_guid": "16f10570-c82b-bdda-9a89-7851f9a267ce"
      },
      "outputs": [],
      "source": [
        "#Helper Functions\n",
        "def plot_histograms(df, variables, n_rows, n_cols):\n",
        "    fig = plt.figure(figsize=(16,12))\n",
        "    for i, var_name in enumerate(variables):\n",
        "        ax=fig.add_subplot(n_rows, n_cols, i+1)\n",
        "        df[var_name].hist(bins=10, ax=ax)\n",
        "        ax.set_title('Skew' + str(round(float(df[var_name].skew()),)))\n",
        "        ax.set_xticklabels([], visible=False)\n",
        "        ax.set_yticklabels([], visible=False)\n",
        "    fig.tight_layout()\n",
        "    plt.show()\n",
        "    \n",
        "def plot_distribution(df, var, target, **kwargs):\n",
        "    row = kwargs.get('row', None)\n",
        "    col = kwargs.get('col', None)\n",
        "    facet = sns.FacetGrid(df, hue=target, aspect=4, row=row, col=col)\n",
        "    facet.map(sns.kdeplot, var, shade=True)\n",
        "    facet.set(xlim=(0, df[var].max()))\n",
        "    facet.add_legend()\n",
        "\n",
        "def plot_categories(df, car, target, **kwargs):\n",
        "    row = kwargs.get('row', None)\n",
        "    col = kwargs.get('col', None)\n",
        "    facet = sns.FacetGrid(df, row=row, col=col)\n",
        "    facet.map(sns.barplot, cat, target)\n",
        "    facet.add_legend()\n",
        "    \n",
        "def plot_correlation_map(df):\n",
        "    corr = titanic.corr()\n",
        "    _, ax = plt.subplots(figsize=(12,10))\n",
        "    cmap = sns.diverging_palette(220, 10, as_cmap= True)\n",
        "    _ = sns.heatmap(\n",
        "    corr,\n",
        "    cmap=cmap,\n",
        "    square=True,\n",
        "    cbar_kws={'shrink': .9},\n",
        "    ax=ax,\n",
        "    annot=True,\n",
        "    annot_kws={'fontsize':12}\n",
        "    )\n",
        "    \n",
        "def describe_more(df):\n",
        "    var = []; l=[];t=[]\n",
        "    for x in df:\n",
        "        var.append(x)\n",
        "        l.append(len(pd.value_counts(df[x])))\n",
        "        t.appped(df[x].dtypes)\n",
        "    levels = pd.DataFrame({'Variable': var, 'Levels': 1, 'Datatype': t})\n",
        "    levels.sort_values(by='Levels', inplace=True)\n",
        "    return levels\n",
        "\n",
        "def plot_variable_importance(X, y):\n",
        "    tree = DecisionTreeClassifier(random_state = 99)\n",
        "    tree.fit(X, y)\n",
        "    plot_model_var_imp(tree, X, y)\n",
        "    \n",
        "def plot_model_var_imp(model, X, y):\n",
        "    imp = pd.DataFrame(\n",
        "    model.feature_importances_ ,\n",
        "    columns = ['Importance'],\n",
        "    index = X.columns\n",
        "    )\n",
        "    imp = imp.sort_values(['Importance'], ascending=True)\n",
        "    imp[:10].plot(kind='barh')\n",
        "    print (model.score(X, y))"
      ]
    },
    {
      "cell_type": "code",
      "execution_count": null,
      "metadata": {
        "_cell_guid": "1cb77a1b-596e-7ff3-efa4-20b870e4dab8"
      },
      "outputs": [],
      "source": [
        "train_df = pd.read_csv('../input/train.csv')\n",
        "test_df = pd.read_csv('../input/test.csv')\n",
        "\n",
        "full = train_df.append(test_df, ignore_index=True)\n",
        "titanic = full[:4209]\n",
        "\n",
        "del train_df, test_df\n",
        "\n",
        "print ('Datasets: ', 'full', full.shape, 'titanic:', titanic.shape)"
      ]
    },
    {
      "cell_type": "code",
      "execution_count": null,
      "metadata": {
        "_cell_guid": "45b5ab02-9f99-29ae-ed9b-7abec7f2c457"
      },
      "outputs": [],
      "source": [
        "titanic.head()"
      ]
    },
    {
      "cell_type": "code",
      "execution_count": null,
      "metadata": {
        "_cell_guid": "c0ad1579-c60a-2bdb-5455-7b67c75dfe00"
      },
      "outputs": [],
      "source": [
        "titanic.describe()"
      ]
    },
    {
      "cell_type": "code",
      "execution_count": null,
      "metadata": {
        "_cell_guid": "fc15ab2b-2737-98d5-794f-95ca936a970a"
      },
      "outputs": [],
      "source": [
        "print (\"dome\")"
      ]
    },
    {
      "cell_type": "code",
      "execution_count": null,
      "metadata": {
        "_cell_guid": "1d64e2bf-69dc-259d-6218-00a8077b2d29"
      },
      "outputs": [],
      "source": [
        "print (\"ded\")"
      ]
    }
  ],
  "metadata": {
    "_change_revision": 0,
    "_is_fork": false,
    "kernelspec": {
      "display_name": "Python 3",
      "language": "python",
      "name": "python3"
    },
    "language_info": {
      "codemirror_mode": {
        "name": "ipython",
        "version": 3
      },
      "file_extension": ".py",
      "mimetype": "text/x-python",
      "name": "python",
      "nbconvert_exporter": "python",
      "pygments_lexer": "ipython3",
      "version": "3.6.0"
    }
  },
  "nbformat": 4,
  "nbformat_minor": 0
}