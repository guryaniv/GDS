{
  "cells": [
    {
      "cell_type": "markdown",
      "metadata": {
        "_cell_guid": "923e6995-8dd0-391b-036a-928e2d22169a"
      },
      "source": ""
    },
    {
      "cell_type": "code",
      "execution_count": null,
      "metadata": {
        "_cell_guid": "3bd4363e-5bab-9581-305b-dae1fa95bbff"
      },
      "outputs": [],
      "source": [
        "# This Python 3 environment comes with many helpful analytics libraries installed\n",
        "# It is defined by the kaggle/python docker image: https://github.com/kaggle/docker-python\n",
        "# For example, here's several helpful packages to load in \n",
        "\n",
        "import numpy as np # linear algebra\n",
        "import pandas as pd # data processing, CSV file I/O (e.g. pd.read_csv)\n",
        "\n",
        "# Input data files are available in the \"../input/\" directory.\n",
        "# For example, running this (by clicking run or pressing Shift+Enter) will list the files in the input directory\n",
        "\n",
        "from subprocess import check_output\n",
        "print(check_output([\"ls\", \"../input\"]).decode(\"utf8\"))\n",
        "\n",
        "# Any results you write to the current directory are saved as output."
      ]
    },
    {
      "cell_type": "code",
      "execution_count": null,
      "metadata": {
        "_cell_guid": "30fd2f5f-ad86-66f5-f4f1-5fd844f6b930"
      },
      "outputs": [],
      "source": [
        "# objective is to predict a number of listing enquiries based on features\n",
        "train = pd.read_json(\"../input/train.json\", \"r\")\n",
        "test = pd.read_json(\"../input/test.json\", \"r\")\n",
        "sample_sub = pd.read_csv(\"../input/sample_submission.csv\")"
      ]
    },
    {
      "cell_type": "code",
      "execution_count": null,
      "metadata": {
        "_cell_guid": "e5b1c80f-df64-18b9-dc3f-b8403564903a"
      },
      "outputs": [],
      "source": [
        "sample_sub.head()"
      ]
    },
    {
      "cell_type": "code",
      "execution_count": null,
      "metadata": {
        "_cell_guid": "743fef4d-8ebc-4899-da9b-c971ee6ace87"
      },
      "outputs": [],
      "source": [
        "#looking at the above sample prediction it looks like we need to predict interest level \n",
        "#based on probabilities of high, medium and low"
      ]
    },
    {
      "cell_type": "code",
      "execution_count": null,
      "metadata": {
        "_cell_guid": "f7a2a2b5-48bb-daf1-0176-cca181044bb3"
      },
      "outputs": [],
      "source": [
        "train.head()"
      ]
    },
    {
      "cell_type": "code",
      "execution_count": null,
      "metadata": {
        "_cell_guid": "018c3ec2-4a73-6e67-8339-b4210a222193"
      },
      "outputs": [],
      "source": ""
    },
    {
      "cell_type": "code",
      "execution_count": null,
      "metadata": {
        "_cell_guid": "64d5f2d2-0d0e-2e7e-b856-02cc40849fda"
      },
      "outputs": [],
      "source": [
        "# let us transform the interest variable using label encoder\n",
        "def get_class(dat):\n",
        "    if dat == 'high':\n",
        "        return 1\n",
        "    else:\n",
        "        return 0\n",
        "Y = train['interest_level'].apply(get_class)"
      ]
    },
    {
      "cell_type": "code",
      "execution_count": null,
      "metadata": {
        "_cell_guid": "640c3b03-994b-2081-343b-947234ee2b1c"
      },
      "outputs": [],
      "source": [
        "X = train[['bathrooms', 'bedrooms', 'listing_id', 'price']]"
      ]
    },
    {
      "cell_type": "code",
      "execution_count": null,
      "metadata": {
        "_cell_guid": "c66a2d10-7eed-b844-1134-b86b2c03ac81"
      },
      "outputs": [],
      "source": [
        "Y.shape"
      ]
    },
    {
      "cell_type": "code",
      "execution_count": null,
      "metadata": {
        "_cell_guid": "3836cef0-6c85-937f-1cde-68f13313603e"
      },
      "outputs": [],
      "source": [
        "X.shape"
      ]
    },
    {
      "cell_type": "code",
      "execution_count": null,
      "metadata": {
        "_cell_guid": "6ce7264f-64ae-4700-ca52-5e5f00859573"
      },
      "outputs": [],
      "source": [
        "X['interest'] = Y"
      ]
    },
    {
      "cell_type": "code",
      "execution_count": null,
      "metadata": {
        "_cell_guid": "d16d24f9-0ab3-1ff9-ddf8-f555a94ace84"
      },
      "outputs": [],
      "source": [
        "X.head()"
      ]
    },
    {
      "cell_type": "code",
      "execution_count": null,
      "metadata": {
        "_cell_guid": "328de63a-6e2c-63ea-f1a4-1020262b52c0"
      },
      "outputs": [],
      "source": [
        "from patsy import dmatrices\n",
        "formula = 'interest~0 + bathrooms + bedrooms + price + listing_id'\n",
        "Y_d, X_d = dmatrices(formula, X, return_type = 'dataframe')\n",
        "y_d = Y_d.values"
      ]
    },
    {
      "cell_type": "code",
      "execution_count": null,
      "metadata": {
        "_cell_guid": "75f916d3-c23c-d31f-f449-c383325c4d6a"
      },
      "outputs": [],
      "source": [
        "from sklearn.linear_model import LogisticRegression\n",
        "model_logistic = LogisticRegression()\n",
        "result = model_logistic.fit(X_d,np.array(Y_d).ravel())"
      ]
    },
    {
      "cell_type": "code",
      "execution_count": null,
      "metadata": {
        "_cell_guid": "04f812bb-c15f-e963-05ff-6605e4ecf4bb"
      },
      "outputs": [],
      "source": [
        "from sklearn import metrics\n",
        "prediction_logistic = result.predict(X_d)\n",
        "#print metrics.accuracy_score(Y,prediction_logistic)"
      ]
    },
    {
      "cell_type": "code",
      "execution_count": null,
      "metadata": {
        "_cell_guid": "35a31050-00a7-bfc9-89bb-4c2844ef2c2e"
      },
      "outputs": [],
      "source": [
        "print (metrics.accuracy_score(Y, prediction_logistic))"
      ]
    },
    {
      "cell_type": "code",
      "execution_count": null,
      "metadata": {
        "_cell_guid": "51b4cbef-4ce1-81de-2afc-c0a39373b5ba"
      },
      "outputs": [],
      "source": [
        "# what is the base accuracy? \n"
      ]
    },
    {
      "cell_type": "code",
      "execution_count": null,
      "metadata": {
        "_cell_guid": "3a52484a-c673-e218-b73b-66d9de6e2d4b"
      },
      "outputs": [],
      "source": [
        "# let us start with some simple exploratory anaylsis where we can make hypothesis on the way\n",
        "# then we can use our hypothesis to look at results how each feature matters to the results"
      ]
    },
    {
      "cell_type": "code",
      "execution_count": null,
      "metadata": {
        "_cell_guid": "9f7d5630-597e-0d29-41c3-8e804cffa24b"
      },
      "outputs": [],
      "source": [
        "train['bathrooms'].hist()"
      ]
    },
    {
      "cell_type": "code",
      "execution_count": null,
      "metadata": {
        "_cell_guid": "3ccaddd6-f3b4-5882-b192-73daa73bfc4f"
      },
      "outputs": [],
      "source": [
        "train['bedrooms'].hist()"
      ]
    },
    {
      "cell_type": "code",
      "execution_count": null,
      "metadata": {
        "_cell_guid": "6b98e43f-39a4-3c24-e704-86a369721582"
      },
      "outputs": [],
      "source": [
        "train.shape"
      ]
    },
    {
      "cell_type": "code",
      "execution_count": null,
      "metadata": {
        "_cell_guid": "cbd03470-3948-1725-8873-a0d5eab925a4"
      },
      "outputs": [],
      "source": [
        "#correlation map"
      ]
    }
  ],
  "metadata": {
    "_change_revision": 0,
    "_is_fork": false,
    "kernelspec": {
      "display_name": "Python 3",
      "language": "python",
      "name": "python3"
    },
    "language_info": {
      "codemirror_mode": {
        "name": "ipython",
        "version": 3
      },
      "file_extension": ".py",
      "mimetype": "text/x-python",
      "name": "python",
      "nbconvert_exporter": "python",
      "pygments_lexer": "ipython3",
      "version": "3.6.0"
    }
  },
  "nbformat": 4,
  "nbformat_minor": 0
}