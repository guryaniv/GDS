{
  "cells": [
    {
      "cell_type": "code",
      "execution_count": null,
      "metadata": {
        "_cell_guid": "ffc8c856-2ce6-0582-34e1-430c45941168"
      },
      "outputs": [],
      "source": [
        "import numpy as np\n",
        "import pandas as pd\n",
        "from sklearn import model_selection, preprocessing\n",
        "from sklearn.ensemble import IsolationForest\n",
        "rng = np.random.RandomState(42)\n",
        "import xgboost as xgb\n",
        "\n",
        "import datetime\n",
        "\n",
        "train = pd.read_csv('../input/train.csv')\n",
        "test = pd.read_csv('../input/test.csv')\n",
        "macro = pd.read_csv('../input/macro.csv')\n",
        "id_test = test.id"
      ]
    },
    {
      "cell_type": "code",
      "execution_count": null,
      "metadata": {
        "_cell_guid": "8a7d2622-5f10-fc63-36eb-4edd76be423a"
      },
      "outputs": [],
      "source": [
        "train.head()"
      ]
    },
    {
      "cell_type": "code",
      "execution_count": null,
      "metadata": {
        "_cell_guid": "f78b900f-25af-87de-b29f-85dcae5190cf"
      },
      "outputs": [],
      "source": [
        "train.shape"
      ]
    },
    {
      "cell_type": "code",
      "execution_count": null,
      "metadata": {
        "_cell_guid": "8c508729-a8dd-525b-6901-bb660edf22c4"
      },
      "outputs": [],
      "source": [
        "test.shape"
      ]
    },
    {
      "cell_type": "code",
      "execution_count": null,
      "metadata": {
        "_cell_guid": "1467eb1f-a0ef-0c6a-96b6-87e89e5fed34"
      },
      "outputs": [],
      "source": [
        "macro.shape"
      ]
    },
    {
      "cell_type": "code",
      "execution_count": null,
      "metadata": {
        "_cell_guid": "1466afc6-3fa3-4c30-9c00-0fd341b76ac4"
      },
      "outputs": [],
      "source": [
        "\n",
        "for c in train.columns:\n",
        "    if train[c].dtype == 'object':\n",
        "        lbl = preprocessing.LabelEncoder()\n",
        "        lbl.fit(list(train[c].values)) \n",
        "        train[c] = lbl.transform(list(train[c].values))\n",
        "        #x_train.drop(c,axis=1,inplace=True)\n",
        "        \n",
        "for c in test.columns:\n",
        "    if test[c].dtype == 'object':\n",
        "        lbl = preprocessing.LabelEncoder()\n",
        "        lbl.fit(list(test[c].values)) \n",
        "        test[c] = lbl.transform(list(test[c].values))\n",
        "        #x_test.drop(c,axis=1,inplace=True)"
      ]
    },
    {
      "cell_type": "code",
      "execution_count": null,
      "metadata": {
        "_cell_guid": "c8c181b2-9554-3d16-b1e8-0bb4eb1d08c8"
      },
      "outputs": [],
      "source": [
        "train.head()"
      ]
    },
    {
      "cell_type": "code",
      "execution_count": null,
      "metadata": {
        "_cell_guid": "b486c9e5-2678-6876-b391-5495ce258034"
      },
      "outputs": [],
      "source": [
        "train.shape"
      ]
    },
    {
      "cell_type": "code",
      "execution_count": null,
      "metadata": {
        "_cell_guid": "fa107fe6-482d-bfe9-564b-32638b82e61c"
      },
      "outputs": [],
      "source": [
        "def get_outliners(dataset):\n",
        "    clf = IsolationForest(random_state=rng)\n",
        "    clf.fit(dataset)\n",
        "    result = clf.predict(dataset)\n",
        "    return result"
      ]
    },
    {
      "cell_type": "code",
      "execution_count": null,
      "metadata": {
        "_cell_guid": "1f7ccfeb-a128-b760-b59e-3d0d1e200628"
      },
      "outputs": [],
      "source": [
        "train.fillna(-999,inplace=True)\n",
        "test.fillna(-999,inplace=True)"
      ]
    },
    {
      "cell_type": "code",
      "execution_count": null,
      "metadata": {
        "_cell_guid": "539a612a-0e32-3025-1a39-c9e518bfa1f2"
      },
      "outputs": [],
      "source": [
        "train.head"
      ]
    },
    {
      "cell_type": "code",
      "execution_count": null,
      "metadata": {
        "_cell_guid": "b8f8d05b-f275-486e-2bfc-d5626a127019"
      },
      "outputs": [],
      "source": [
        "\n",
        "\n",
        "training_dataset = train[get_outliners(train)]"
      ]
    },
    {
      "cell_type": "code",
      "execution_count": null,
      "metadata": {
        "_cell_guid": "a876e0d4-4eea-c912-d69c-bd242452b1d2"
      },
      "outputs": [],
      "source": [
        "training_dataset.head().T"
      ]
    },
    {
      "cell_type": "code",
      "execution_count": null,
      "metadata": {
        "_cell_guid": "cee1cae8-3781-de35-dd2c-9ff4c33355f6"
      },
      "outputs": [],
      "source": [
        "macro.corr().to_csv('corr_vals.csv')"
      ]
    },
    {
      "cell_type": "code",
      "execution_count": null,
      "metadata": {
        "_cell_guid": "a6b383af-ff0d-5df8-4179-1008c0f81869"
      },
      "outputs": [],
      "source": ""
    }
  ],
  "metadata": {
    "_change_revision": 0,
    "_is_fork": false,
    "kernelspec": {
      "display_name": "Python 3",
      "language": "python",
      "name": "python3"
    },
    "language_info": {
      "codemirror_mode": {
        "name": "ipython",
        "version": 3
      },
      "file_extension": ".py",
      "mimetype": "text/x-python",
      "name": "python",
      "nbconvert_exporter": "python",
      "pygments_lexer": "ipython3",
      "version": "3.6.0"
    }
  },
  "nbformat": 4,
  "nbformat_minor": 0
}