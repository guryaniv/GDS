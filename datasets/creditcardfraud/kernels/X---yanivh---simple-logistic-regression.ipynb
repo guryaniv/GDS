{
  "cells": [
    {
      "cell_type": "markdown",
      "metadata": {
        "_cell_guid": "90358dd1-e5db-bdc9-3870-7a5f4a435f22"
      },
      "source": [
        "Load necessary libraries"
      ]
    },
    {
      "cell_type": "code",
      "execution_count": null,
      "metadata": {
        "_cell_guid": "5d052121-02e5-75b3-3579-d260c989ceec"
      },
      "outputs": [],
      "source": [
        "import numpy as np # linear algebra\n",
        "import pandas as pd # data processing, CSV file I/O (e.g. pd.read_csv)\n",
        "from sklearn import linear_model\n",
        "from sklearn.model_selection import train_test_split\n",
        "from sklearn import metrics\n",
        "from sklearn.metrics import roc_auc_score, confusion_matrix\n",
        "%matplotlib inline\n",
        "\n",
        "import matplotlib\n",
        "import matplotlib.pyplot as plt"
      ]
    },
    {
      "cell_type": "markdown",
      "metadata": {
        "_cell_guid": "337bf03f-beaa-1ac8-0d7a-7657f654320e"
      },
      "source": [
        "Load creditcard data"
      ]
    },
    {
      "cell_type": "code",
      "execution_count": null,
      "metadata": {
        "_cell_guid": "bbafcd83-5e30-d05e-deae-6f0860784a4f"
      },
      "outputs": [],
      "source": [
        "cc = pd.read_csv('../input/creditcard.csv')"
      ]
    },
    {
      "cell_type": "markdown",
      "metadata": {
        "_cell_guid": "8da04540-35d9-8715-5afc-c6d6de06f069"
      },
      "source": [
        "Imbalance"
      ]
    },
    {
      "cell_type": "code",
      "execution_count": null,
      "metadata": {
        "_cell_guid": "c6ba34aa-e1fd-68e7-5cf4-19c387d41f61"
      },
      "outputs": [],
      "source": [
        "cc.Class.value_counts()"
      ]
    },
    {
      "cell_type": "markdown",
      "metadata": {
        "_cell_guid": "8989d3e5-bdac-09f6-1e1d-6cc108c005e5"
      },
      "source": [
        "Prepare for training"
      ]
    },
    {
      "cell_type": "code",
      "execution_count": null,
      "metadata": {
        "_cell_guid": "f163fd03-ed36-2b91-4e0b-99395fee0362"
      },
      "outputs": [],
      "source": [
        "X = cc.ix[:,'V1':'Amount'].as_matrix()\n",
        "y = cc.Class.as_matrix()"
      ]
    },
    {
      "cell_type": "code",
      "execution_count": null,
      "metadata": {
        "_cell_guid": "a5f411c6-b23c-beff-76b9-e541cd8dbfb0"
      },
      "outputs": [],
      "source": [
        "X_train, X_test, y_train, y_test = train_test_split(X,y, test_size=0.33, random_state=42)"
      ]
    },
    {
      "cell_type": "markdown",
      "metadata": {
        "_cell_guid": "2e5fac68-02e8-d601-2d7c-30781f79418f"
      },
      "source": [
        "Train and fit logistic regression with 'balanced' mode `n_samples / (n_classes * np.bincount(y))`\n"
      ]
    },
    {
      "cell_type": "code",
      "execution_count": null,
      "metadata": {
        "_cell_guid": "0eeaddef-697a-3600-7c68-aa90b3ada0f3"
      },
      "outputs": [],
      "source": [
        "logistic = linear_model.LogisticRegression(class_weight='balanced')\n",
        "logistic.fit(X_train, y_train)"
      ]
    },
    {
      "cell_type": "markdown",
      "metadata": {
        "_cell_guid": "1e5f005f-d569-3c5b-033a-8f9ee0d1525f"
      },
      "source": [
        "Evaluate"
      ]
    },
    {
      "cell_type": "code",
      "execution_count": null,
      "metadata": {
        "_cell_guid": "8798765d-c316-36fe-6ffa-835c20195f1a"
      },
      "outputs": [],
      "source": [
        "predictions = logistic.predict(X_test)"
      ]
    },
    {
      "cell_type": "code",
      "execution_count": null,
      "metadata": {
        "_cell_guid": "4a94e69c-61a6-6ed8-0851-f3b5b6443cf6"
      },
      "outputs": [],
      "source": [
        "fpr, tpr, thresholds = metrics.roc_curve(y_test, predictions, pos_label=True)\n",
        "print(\"ROCAUC:\", roc_auc_score(y_test, predictions))\n",
        "print(confusion_matrix(y_test, predictions))"
      ]
    },
    {
      "cell_type": "code",
      "execution_count": null,
      "metadata": {
        "_cell_guid": "f38ec20b-003a-93e8-a50b-d991d0ab0d31"
      },
      "outputs": [],
      "source": [
        "plt.plot(fpr, tpr, color='darkorange',\n",
        "         lw=1, label='ROC curve')\n",
        "plt.plot([0, 1], [0, 1], color='navy', lw=2, linestyle='--')\n",
        "plt.xlim([0.0, 1.0])\n",
        "plt.ylim([0.0, 1.05])\n",
        "plt.xlabel('False Positive Rate')\n",
        "plt.ylabel('True Positive Rate')\n",
        "plt.title('Receiver operating characteristic')\n",
        "plt.legend(loc=\"best\")\n",
        "plt.show()"
      ]
    }
  ],
  "metadata": {
    "_change_revision": 0,
    "_is_fork": false,
    "kernelspec": {
      "display_name": "Python 3",
      "language": "python",
      "name": "python3"
    },
    "language_info": {
      "codemirror_mode": {
        "name": "ipython",
        "version": 3
      },
      "file_extension": ".py",
      "mimetype": "text/x-python",
      "name": "python",
      "nbconvert_exporter": "python",
      "pygments_lexer": "ipython3",
      "version": "3.6.0"
    }
  },
  "nbformat": 4,
  "nbformat_minor": 0
}