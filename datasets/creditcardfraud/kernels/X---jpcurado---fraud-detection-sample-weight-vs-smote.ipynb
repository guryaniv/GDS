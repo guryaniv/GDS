{
  "cells": [
    {
      "cell_type": "markdown",
      "metadata": {
        "_cell_guid": "7c8529d4-47de-f76a-544b-055d7e2c8458"
      },
      "source": [
        "<b>1) Import all libs</b>"
      ]
    },
    {
      "cell_type": "code",
      "execution_count": null,
      "metadata": {
        "_cell_guid": "90533ba3-a980-3425-ac75-b53331978452"
      },
      "outputs": [],
      "source": [
        "import pandas as pd\n",
        "import numpy as np\n",
        "import matplotlib.pyplot as plt\n",
        "%matplotlib inline\n",
        "import seaborn as sns\n",
        "\n",
        "from sklearn.ensemble import RandomForestClassifier\n",
        "from sklearn.metrics import confusion_matrix, classification_report\n",
        "from sklearn.metrics import roc_curve, auc\n",
        "from sklearn.model_selection import train_test_split\n",
        "from imblearn.over_sampling import SMOTE"
      ]
    },
    {
      "cell_type": "markdown",
      "metadata": {
        "_cell_guid": "595a6156-3500-f780-f110-27fe7e045e1a"
      },
      "source": [
        "<b>2) Import data and select training / test samples</b>"
      ]
    },
    {
      "cell_type": "code",
      "execution_count": null,
      "metadata": {
        "_cell_guid": "fdb54b5b-d39c-c4b4-1833-6f8db909f06e"
      },
      "outputs": [],
      "source": [
        "df = pd.read_csv('../input/creditcard.csv')"
      ]
    },
    {
      "cell_type": "code",
      "execution_count": null,
      "metadata": {
        "_cell_guid": "af528c9a-8d48-152b-b40e-91970301f71d"
      },
      "outputs": [],
      "source": [
        "unbalance = df['Class'].sum() / df['Class'].count()"
      ]
    },
    {
      "cell_type": "code",
      "execution_count": null,
      "metadata": {
        "_cell_guid": "443b881d-3cd8-a9f2-7651-a9048d10bc19"
      },
      "outputs": [],
      "source": [
        "X = df.columns[1:29]\n",
        "Y = 'Class'"
      ]
    },
    {
      "cell_type": "code",
      "execution_count": null,
      "metadata": {
        "_cell_guid": "ff79869f-cd6e-92bc-7524-b728e7204ac1"
      },
      "outputs": [],
      "source": [
        "X_train, X_test, Y_train, Y_test = train_test_split(df[X], df[Y], test_size=0.2, random_state=0)"
      ]
    },
    {
      "cell_type": "markdown",
      "metadata": {
        "_cell_guid": "3cb8f01d-fe26-d780-a656-f2130d50b701"
      },
      "source": [
        "<b>3.1) Classify using Random Forest with sample_weight</b>"
      ]
    },
    {
      "cell_type": "code",
      "execution_count": null,
      "metadata": {
        "_cell_guid": "023c1728-eec8-ad4a-6372-ebebee38bc34"
      },
      "outputs": [],
      "source": [
        "weight = np.array([1/unbalance if i == 1 else 1 for i in Y_train])"
      ]
    },
    {
      "cell_type": "code",
      "execution_count": null,
      "metadata": {
        "_cell_guid": "cd5bc4c7-82fb-264e-0345-c5d8e5499f64"
      },
      "outputs": [],
      "source": [
        "rf = RandomForestClassifier(random_state=0)\n",
        "rf.fit(X_train,Y_train, sample_weight=weight)"
      ]
    },
    {
      "cell_type": "code",
      "execution_count": null,
      "metadata": {
        "_cell_guid": "8ae3e760-f082-e4b9-8ec5-e9fa00143db0"
      },
      "outputs": [],
      "source": [
        "Y_predict=rf.predict(X_test)"
      ]
    },
    {
      "cell_type": "code",
      "execution_count": null,
      "metadata": {
        "_cell_guid": "1bf983e3-439a-2630-02b1-daee299b1e10"
      },
      "outputs": [],
      "source": [
        "confusion_matrix(Y_test,Y_predict)"
      ]
    },
    {
      "cell_type": "code",
      "execution_count": null,
      "metadata": {
        "_cell_guid": "af8479af-2adc-330f-4b3c-211ac43422c4"
      },
      "outputs": [],
      "source": [
        "print(classification_report(Y_test,Y_predict))"
      ]
    },
    {
      "cell_type": "code",
      "execution_count": null,
      "metadata": {
        "_cell_guid": "9d67399a-82c7-9d6d-3d9b-000b7450c9f9"
      },
      "outputs": [],
      "source": [
        "FP, TP, thresholds = roc_curve(Y_test,Y_predict)\n",
        "roc_auc = auc(FP, TP)\n",
        "print (roc_auc)"
      ]
    },
    {
      "cell_type": "code",
      "execution_count": null,
      "metadata": {
        "_cell_guid": "f6425831-2800-21c4-f4b2-a1f101f80cf6"
      },
      "outputs": [],
      "source": [
        "plt.plot(FP, TP, label='AUC = %0.2f'% roc_auc)\n",
        "plt.title('ROC for Random Forest Classifier')\n",
        "plt.plot([0,1],[0,1],'--')\n",
        "plt.ylabel('True Positive Rate')\n",
        "plt.xlabel('False Positive Rate')"
      ]
    },
    {
      "cell_type": "markdown",
      "metadata": {
        "_cell_guid": "901c43e5-ce1c-f0e3-a1d4-76e4c24885fb"
      },
      "source": [
        "<b>3.2) Classify using Random Forest with oversampling (SMOTE)</b>"
      ]
    },
    {
      "cell_type": "code",
      "execution_count": null,
      "metadata": {
        "_cell_guid": "2a2a8ac5-e066-5bfe-7155-0ad48313a998"
      },
      "outputs": [],
      "source": [
        "oversampler = SMOTE(random_state=0)\n",
        "X_train_os,Y_train_os=oversampler.fit_sample(X_train,Y_train)"
      ]
    },
    {
      "cell_type": "code",
      "execution_count": null,
      "metadata": {
        "_cell_guid": "42eb4c65-a2b1-f188-04be-9d06b8d8c059"
      },
      "outputs": [],
      "source": [
        "rf_os = RandomForestClassifier(random_state=0)\n",
        "rf_os.fit(X_train_os,Y_train_os)"
      ]
    },
    {
      "cell_type": "code",
      "execution_count": null,
      "metadata": {
        "_cell_guid": "ff395abc-271c-5d76-689f-5e813f3c518c"
      },
      "outputs": [],
      "source": [
        "Y_predict_os=rf_os.predict(X_test)"
      ]
    },
    {
      "cell_type": "code",
      "execution_count": null,
      "metadata": {
        "_cell_guid": "a52ff29b-420f-29d0-24bc-ecf6f30a5c01"
      },
      "outputs": [],
      "source": [
        "confusion_matrix(Y_test,Y_predict_os)"
      ]
    },
    {
      "cell_type": "code",
      "execution_count": null,
      "metadata": {
        "_cell_guid": "70dea114-5946-43d2-6ec2-e9b3b1199173"
      },
      "outputs": [],
      "source": [
        "print(classification_report(Y_test,Y_predict_os))"
      ]
    },
    {
      "cell_type": "code",
      "execution_count": null,
      "metadata": {
        "_cell_guid": "4dc45d06-8bf2-6f6d-6393-ea43c2517df5"
      },
      "outputs": [],
      "source": [
        "FP, TP, thresholds = roc_curve(Y_test,Y_predict_os)\n",
        "roc_auc = auc(FP, TP)\n",
        "print (roc_auc)"
      ]
    },
    {
      "cell_type": "code",
      "execution_count": null,
      "metadata": {
        "_cell_guid": "72912e61-7f94-2d6e-17ba-6f4b3e153a8b"
      },
      "outputs": [],
      "source": [
        "plt.plot(FP, TP, label='AUC = %0.2f'% roc_auc)\n",
        "plt.title('ROC for Random Forest Classifier, with SMOTE')\n",
        "plt.plot([0,1],[0,1],'--')\n",
        "plt.ylabel('True Positive Rate')\n",
        "plt.xlabel('False Positive Rate')"
      ]
    }
  ],
  "metadata": {
    "_change_revision": 0,
    "_is_fork": false,
    "kernelspec": {
      "display_name": "Python 3",
      "language": "python",
      "name": "python3"
    },
    "language_info": {
      "codemirror_mode": {
        "name": "ipython",
        "version": 3
      },
      "file_extension": ".py",
      "mimetype": "text/x-python",
      "name": "python",
      "nbconvert_exporter": "python",
      "pygments_lexer": "ipython3",
      "version": "3.6.0"
    }
  },
  "nbformat": 4,
  "nbformat_minor": 0
}