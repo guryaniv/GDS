{
  "cells": [
    {
      "cell_type": "code",
      "execution_count": null,
      "metadata": {
        "_cell_guid": "9725fe80-1ffc-5903-b94d-f83b35ea7bdf"
      },
      "outputs": [],
      "source": [
        "import pandas as pd\n",
        "import numpy as np"
      ]
    },
    {
      "cell_type": "code",
      "execution_count": null,
      "metadata": {
        "_cell_guid": "f006da23-48bd-5539-b720-b4e1ea3719f0"
      },
      "outputs": [],
      "source": [
        "from glob import glob\n",
        "\n",
        "def make_base_df():\n",
        "    base_path = '../input/train'\n",
        "    image_paths = []\n",
        "    for type_base_path in sorted(glob(base_path +'/*')):\n",
        "        image_paths = image_paths + glob(type_base_path + '/*')\n",
        "    df = pd.DataFrame({'path':image_paths})\n",
        "    df['type'] = df.path.map(lambda x: x.split('/')[-2])\n",
        "    df['filetype'] = df.path.map(lambda x: x.split('.')[-1])\n",
        "    return df"
      ]
    },
    {
      "cell_type": "code",
      "execution_count": null,
      "metadata": {
        "_cell_guid": "d3e62342-ddb2-1e29-f821-b2d61aa75173"
      },
      "outputs": [],
      "source": [
        "import cv2\n",
        "\n",
        "def get_grayscale_img(path, rescale_dim):\n",
        "    img = cv2.imread(path)\n",
        "    rescaled = cv2.resize(img, (rescale_dim, rescale_dim), cv2.INTER_LINEAR)\n",
        "    grey = cv2.cvtColor(rescaled, cv2.COLOR_RGB2GRAY).astype('float')\n",
        "    return grey\n",
        "    normalized = cv2.normalize(grey,None,0,1,cv2.NORM_MINMAX)\n",
        "    vec = normalized.reshape(1,np.prod(normalized.shape))\n",
        "    return vec/np.linalg.norm(vec)"
      ]
    },
    {
      "cell_type": "code",
      "execution_count": null,
      "metadata": {
        "_cell_guid": "91ab5ce0-8693-2abc-986e-dc262e00afaa"
      },
      "outputs": [],
      "source": [
        "df = make_base_df()\n",
        "path = df.path[0]\n",
        "img_vec = get_grayscale_img(path, 100)\n",
        "\n",
        "cv2.imwrite(\"test.jpg\", img_vec)\n",
        "plt.imshow(plt.imread(\"test.jpg\"))"
      ]
    },
    {
      "cell_type": "code",
      "execution_count": null,
      "metadata": {
        "_cell_guid": "d871da50-0ab0-389b-e229-4718f363a55f"
      },
      "outputs": [],
      "source": [
        "from sklearn.ensemble import RandomForestClassifier as RFC\n",
        "\n",
        "forest = RFC(n_jobs=2,n_estimators=50)\n",
        "\n"
      ]
    }
  ],
  "metadata": {
    "_change_revision": 0,
    "_is_fork": false,
    "kernelspec": {
      "display_name": "Python 3",
      "language": "python",
      "name": "python3"
    },
    "language_info": {
      "codemirror_mode": {
        "name": "ipython",
        "version": 3
      },
      "file_extension": ".py",
      "mimetype": "text/x-python",
      "name": "python",
      "nbconvert_exporter": "python",
      "pygments_lexer": "ipython3",
      "version": "3.6.0"
    }
  },
  "nbformat": 4,
  "nbformat_minor": 0
}