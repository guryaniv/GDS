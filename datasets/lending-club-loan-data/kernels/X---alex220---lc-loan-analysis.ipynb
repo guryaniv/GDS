{
  "cells": [
    {
      "cell_type": "code",
      "execution_count": null,
      "metadata": {
        "_cell_guid": "5f8a61a1-f0fc-0148-3abf-912eb2d9baec"
      },
      "outputs": [],
      "source": [
        "# Imports:\n",
        "import matplotlib.pyplot as plt\n",
        "from matplotlib import font_manager as fm\n",
        "%matplotlib inline\n",
        "import pandas as pd\n",
        "import numpy as np\n",
        "import sqlite3 as sql\n",
        "# import seaborn as sns"
      ]
    },
    {
      "cell_type": "code",
      "execution_count": null,
      "metadata": {
        "_cell_guid": "8308e47c-dfae-56b5-d3c2-18ef05603473"
      },
      "outputs": [],
      "source": [
        "# Connect to database and pull in raw data\n",
        "db_con = sql.connect('../input/database.sqlite')\n",
        "data = pd.read_sql_query('SELECT * FROM loan', db_con)\n",
        "\n",
        "# Print Sample\n",
        "print(data.head())"
      ]
    },
    {
      "cell_type": "code",
      "execution_count": null,
      "metadata": {
        "_cell_guid": "c5cebfee-9c78-54fc-1544-961cf86999c8"
      },
      "outputs": [],
      "source": [
        "# Summary of loan 'status' data\n",
        "summary = data.groupby(['loan_status']).count()['index'].sort_values(ascending=False)\n",
        "print(summary)"
      ]
    },
    {
      "cell_type": "code",
      "execution_count": null,
      "metadata": {
        "_cell_guid": "06003866-f685-63bb-4200-e22079c55aa1"
      },
      "outputs": [],
      "source": [
        "# Clean the raw data:\n",
        "\n",
        "# To ensure that a 'loan_status' value is available for each row, we get the totals of rows with/ without the status value:\n",
        "print('Out of {} records, {} have a status, and {} do not'.format(len(data['loan_status']),\n",
        "                                                             data['loan_status'].notnull().sum(),\n",
        "                                                             data['loan_status'].isnull().sum()))\n",
        "\n",
        "# Remove rows with no 'loan_status'\n",
        "data = data[data.loan_status.notnull()]\n",
        "\n",
        "# This function characterizes loans\n",
        "\n",
        "def clean_status(raw_status):\n",
        "    \n",
        "    status = \"\"\n",
        "    raw_status = str(raw_status).lower().strip()\n",
        "    \n",
        "    if 'charged' in raw_status:\n",
        "        status = 'charged_off'        \n",
        "    elif 'default' in raw_status:\n",
        "        status = 'default'\n",
        "    elif 'paid' in raw_status:\n",
        "        status = 'paid'   \n",
        "    elif ('grace' and 'period') in raw_status:\n",
        "        status = 'grace_per'\n",
        "    elif 'current' in raw_status:\n",
        "        status = 'current' \n",
        "    elif 'issued' in raw_status:\n",
        "        status = 'current' \n",
        "    elif ('late' and '16-30') in raw_status:\n",
        "        status = 'late16_30' \n",
        "    elif ('late' and '31-120') in raw_status:\n",
        "        status = 'late31_120' \n",
        "    else:\n",
        "        # There shouldn't be any 'uncategorized' loans, but we'll be able to find them if there are any\n",
        "        # using this label:\n",
        "        status = 'uncategorized'\n",
        "        \n",
        "    return status\n",
        "\n",
        "# Add a 'clean_status' column\n",
        "data['clean_status'] = data.apply(lambda row:clean_status(row[\"loan_status\"]) , axis = 1)\n",
        "\n",
        "print('{} records are Uncategorized'.format(len(data[data['clean_status'] == 'uncategorized'])))"
      ]
    },
    {
      "cell_type": "code",
      "execution_count": null,
      "metadata": {
        "_cell_guid": "dc56044d-4cf6-09db-4c89-d4ea8dd3eddf"
      },
      "outputs": [],
      "source": [
        "# Next, we'll see the overall performance of Lending Club loans\n",
        "\n",
        "# Total value of loans issued:\n",
        "val_issued = data['loan_amnt'].sum()\n",
        "\n",
        "# Total values for each status category. To make ploting graphs easier, we create a Dict for each:\n",
        "val_current = {'value': data[data['clean_status'] == 'current']['loan_amnt'].sum(), \n",
        "               'label': 'Current', 'color': 'green'}\n",
        "val_paid = {'value': data[data['clean_status'] == 'paid']['loan_amnt'].sum(), \n",
        "               'label': 'Paid', 'color': 'green'}\n",
        "val_grace_per = {'value': data[data['clean_status'] == 'grace_per']['loan_amnt'].sum(), \n",
        "               'label': 'In Grace Period', 'color': 'green'}\n",
        "val_late16_30 = {'value': data[data['clean_status'] == 'late16_30']['loan_amnt'].sum(), \n",
        "               'label': 'Late 16-30 Days', 'color': 'yellow'}\n",
        "val_late31_120 = {'value': data[data['clean_status'] == 'late31_120']['loan_amnt'].sum(), \n",
        "               'label': 'Late 31-120 Days', 'color': 'yellow'}\n",
        "val_default = {'value': data[data['clean_status'] == 'default']['loan_amnt'].sum(), \n",
        "               'label': 'Default', 'color': 'red'}\n",
        "val_charged_off = {'value': data[data['clean_status'] == 'charged_off']['loan_amnt'].sum(), \n",
        "               'label': 'Charged Off', 'color': 'red'}\n",
        "val_uncat = {'value': data[data['clean_status'] == 'uncategorized']['loan_amnt'].sum(), \n",
        "               'label': 'Uncategorized', 'color': 'gray'}"
      ]
    },
    {
      "cell_type": "code",
      "execution_count": null,
      "metadata": {
        "_cell_guid": "9019b994-4a69-f007-3d04-499abb01b188"
      },
      "outputs": [],
      "source": [
        "# Plot a pie chart:\n",
        "\n",
        "fig = plt.figure(1, figsize=(8,8))\n",
        "ax = fig.add_axes([0.1, 0.1, 0.8, 0.8])\n",
        "plt.title(\"Overall Loan Status\",y=1.08,fontweight=\"bold\")\n",
        "\n",
        "labels = [val_current.get('label'), \n",
        "          val_paid.get('label'), \n",
        "          val_late16_30.get('label'), \n",
        "          val_late31_120.get('label'), \n",
        "          val_default.get('label'), \n",
        "          val_charged_off.get('label'), \n",
        "          val_uncat.get('label')]\n",
        "\n",
        "values = [val_current.get('value'), \n",
        "          val_paid.get('value'), \n",
        "          val_late16_30.get('value'), \n",
        "          val_late31_120.get('value'), \n",
        "          val_default.get('value'), \n",
        "          val_charged_off.get('value'), \n",
        "          val_uncat.get('value')]\n",
        "\n",
        "colors = [val_current.get('color'), \n",
        "          val_paid.get('color'), \n",
        "          val_late16_30.get('color'), \n",
        "          val_late31_120.get('color'), \n",
        "          val_default.get('color'), \n",
        "          val_charged_off.get('color'), \n",
        "          val_uncat.get('color')]\n",
        "\n",
        "patches, texts, autotexts = ax.pie(values, labels=labels, autopct='%1.1f%%', colors=colors,\n",
        "                                  pctdistance=1.1, labeldistance=1.18)\n",
        "\n",
        "proptease = fm.FontProperties()\n",
        "proptease.set_size('x-small')\n",
        "plt.setp(autotexts, fontproperties=proptease)\n",
        "plt.setp(texts, fontproperties=proptease)\n",
        "\n",
        "plt.show()"
      ]
    },
    {
      "cell_type": "code",
      "execution_count": null,
      "metadata": {
        "_cell_guid": "486d3942-f131-3b5c-f32e-da8ecc3708c6"
      },
      "outputs": [],
      "source": [
        "'''\n",
        "# View overall performance of all loans\n",
        "funded_amnt = data['funded_amnt'].sum() # Amt. issued to borrower\n",
        "total_pymnt = data['total_pymnt'].sum() # Payments received to date for total amount funded\n",
        "out_prncp = data['out_prncp'].sum() # Remaining outstanding principal\n",
        "recoveries = data['recoveries'].sum() # post charge off gross recovery\n",
        "\n",
        "# We will be using the following data to find correlation with defaults:\n",
        "\n",
        "loan_amnt\n",
        "total_bal_il\n",
        "revol_bal\n",
        "grade\n",
        "delinq_2yrs\n",
        "average of: fico_range_high, fico_range_low\n",
        "\n",
        "'''"
      ]
    },
    {
      "cell_type": "code",
      "execution_count": null,
      "metadata": {
        "_cell_guid": "6247c753-b6eb-d621-cb5e-88e7bc92846e"
      },
      "outputs": [],
      "source": ""
    },
    {
      "cell_type": "code",
      "execution_count": null,
      "metadata": {
        "_cell_guid": "d47b8805-28ad-8c58-1a1c-535617dbd4d8"
      },
      "outputs": [],
      "source": ""
    },
    {
      "cell_type": "code",
      "execution_count": null,
      "metadata": {
        "_cell_guid": "e5d39ff2-dcc6-eeb0-8a6a-2bc46c2d22a5"
      },
      "outputs": [],
      "source": ""
    }
  ],
  "metadata": {
    "_change_revision": 0,
    "_is_fork": false,
    "kernelspec": {
      "display_name": "Python 3",
      "language": "python",
      "name": "python3"
    },
    "language_info": {
      "codemirror_mode": {
        "name": "ipython",
        "version": 3
      },
      "file_extension": ".py",
      "mimetype": "text/x-python",
      "name": "python",
      "nbconvert_exporter": "python",
      "pygments_lexer": "ipython3",
      "version": "3.5.2"
    }
  },
  "nbformat": 4,
  "nbformat_minor": 0
}