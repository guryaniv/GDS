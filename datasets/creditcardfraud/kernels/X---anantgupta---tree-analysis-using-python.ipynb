{
  "cells": [
    {
      "cell_type": "code",
      "execution_count": null,
      "metadata": {
        "_cell_guid": "2e07c4e0-3356-9503-a0b4-b6823ba98f1a"
      },
      "outputs": [],
      "source": [
        "# Input Libraries\n",
        "import numpy as np # linear algebra\n",
        "import pandas as pd # data processing, CSV file I/O (e.g. pd.read_csv)"
      ]
    },
    {
      "cell_type": "markdown",
      "metadata": {
        "_cell_guid": "305611a8-80ee-f2ab-2da4-df7b73383f91"
      },
      "source": [
        "# We will prepare the data for Charting\n",
        "## Read the Data\n",
        "`data=pd.read_csv('../input/creditcard.csv')`"
      ]
    }
  ],
  "metadata": {
    "_change_revision": 0,
    "_is_fork": false,
    "kernelspec": {
      "display_name": "Python 3",
      "language": "python",
      "name": "python3"
    },
    "language_info": {
      "codemirror_mode": {
        "name": "ipython",
        "version": 3
      },
      "file_extension": ".py",
      "mimetype": "text/x-python",
      "name": "python",
      "nbconvert_exporter": "python",
      "pygments_lexer": "ipython3",
      "version": "3.6.0"
    }
  },
  "nbformat": 4,
  "nbformat_minor": 0
}