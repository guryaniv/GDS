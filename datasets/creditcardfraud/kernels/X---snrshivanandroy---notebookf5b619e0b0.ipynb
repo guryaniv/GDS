{
  "cells": [
    {
      "cell_type": "code",
      "execution_count": null,
      "metadata": {
        "_cell_guid": "e18cf22f-18cc-aabc-3fab-e465964610a8"
      },
      "outputs": [],
      "source": [
        "# This Python 3 environment comes with many helpful analytics libraries installed\n",
        "# It is defined by the kaggle/python docker image: https://github.com/kaggle/docker-python\n",
        "# For example, here's several helpful packages to load in \n",
        "\n",
        "import numpy as np # linear algebra\n",
        "import pandas as pd # data processing, CSV file I/O (e.g. pd.read_csv)\n",
        "\n",
        "# Input data files are available in the \"../input/\" directory.\n",
        "# For example, running this (by clicking run or pressing Shift+Enter) will list the files in the input directory\n",
        "\n",
        "from subprocess import check_output\n",
        "print(check_output([\"ls\", \"../input\"]).decode(\"utf8\"))\n",
        "\n",
        "# Any results you write to the current directory are saved as output."
      ]
    },
    {
      "cell_type": "code",
      "execution_count": null,
      "metadata": {
        "_cell_guid": "7ecabbfc-8a78-756f-dc1c-68394782de98"
      },
      "outputs": [],
      "source": [
        "import pandas as pd\n",
        "import numpy as np\n",
        "import matplotlib.pyplot as plt\n",
        "import seaborn as sns\n",
        "%matplotlib inline"
      ]
    },
    {
      "cell_type": "code",
      "execution_count": null,
      "metadata": {
        "_cell_guid": "7c838737-80cf-59d4-ed1c-54cd965a0585"
      },
      "outputs": [],
      "source": [
        "df = pd.read_csv(\"../input/creditcard.csv\")\n",
        "df.head()"
      ]
    },
    {
      "cell_type": "code",
      "execution_count": null,
      "metadata": {
        "_cell_guid": "cab5dc37-3e29-b57e-09f8-b9a79b1483af"
      },
      "outputs": [],
      "source": [
        "df.drop('Time',axis=1, inplace=True)"
      ]
    },
    {
      "cell_type": "code",
      "execution_count": null,
      "metadata": {
        "_cell_guid": "61e5acbe-9eab-36d4-ec69-c43634f3d8f8"
      },
      "outputs": [],
      "source": [
        "from sklearn.preprocessing import StandardScaler\n",
        "std = StandardScaler()\n",
        "df['Amount'] = std.fit_transform(df['Amount'].reshape(-1,1))\n",
        "df.head()"
      ]
    },
    {
      "cell_type": "code",
      "execution_count": null,
      "metadata": {
        "_cell_guid": "c330168f-c4a0-5ee3-1698-342027f0b36d"
      },
      "outputs": [],
      "source": [
        "X = df.ix[ : , df.columns!='Class']\n",
        "y = df.ix[ : ,df.columns == 'Class']"
      ]
    },
    {
      "cell_type": "code",
      "execution_count": null,
      "metadata": {
        "_cell_guid": "6ebb7742-ec96-e07b-360e-832c5969d5b4"
      },
      "outputs": [],
      "source": [
        "sns.countplot(df['Class'])"
      ]
    },
    {
      "cell_type": "code",
      "execution_count": null,
      "metadata": {
        "_cell_guid": "cc99a723-c5e1-3388-06b6-9a7b4f1586b8"
      },
      "outputs": [],
      "source": [
        "Number_of_fraud_records = len(df[df.Class==1])\n",
        "Number_of_normal_records = len(df[df.Class==0])\n",
        "\n",
        "fraud_indices = df[df.Class==1].index\n",
        "normal_indices = df[df.Class==0].index"
      ]
    },
    {
      "cell_type": "code",
      "execution_count": null,
      "metadata": {
        "_cell_guid": "13bfdee6-dde4-e2e0-781a-e4adf7c93c4b"
      },
      "outputs": [],
      "source": [
        "random_normal_indices = np.random.choice(normal_indices, Number_of_fraud_records, replace=False)"
      ]
    },
    {
      "cell_type": "code",
      "execution_count": null,
      "metadata": {
        "_cell_guid": "9839d0ee-5823-e200-9e36-8964ab0fc778"
      },
      "outputs": [],
      "source": [
        "under_sample_indices = np.concatenate([fraud_indices,random_normal_indices])"
      ]
    },
    {
      "cell_type": "code",
      "execution_count": null,
      "metadata": {
        "_cell_guid": "87418606-8c16-3f3e-639a-d636b13b7a24"
      },
      "outputs": [],
      "source": [
        "under_sample_data = df.iloc[under_sample_indices,:]"
      ]
    },
    {
      "cell_type": "code",
      "execution_count": null,
      "metadata": {
        "_cell_guid": "b9804672-b4b7-434d-8987-82c9dd772be1"
      },
      "outputs": [],
      "source": [
        "X_undersample = under_sample_data.ix[:, under_sample_data.columns != 'Class']\n",
        "y_undersample = under_sample_data.ix[:, under_sample_data.columns == 'Class']"
      ]
    },
    {
      "cell_type": "code",
      "execution_count": null,
      "metadata": {
        "_cell_guid": "e854723b-9524-5d19-4182-6c5f896cc922"
      },
      "outputs": [],
      "source": [
        "print(\"Percentage of normal transactions: \", len(under_sample_data[under_sample_data.Class == 0])/len(under_sample_data))\n",
        "print(\"Percentage of fraud transactions: \", len(under_sample_data[under_sample_data.Class == 1])/len(under_sample_data))\n",
        "print(\"Total number of transactions in resampled data: \", len(under_sample_data))"
      ]
    },
    {
      "cell_type": "code",
      "execution_count": null,
      "metadata": {
        "_cell_guid": "7a1fac82-2952-fe74-74f1-0fa6d76cfb6f"
      },
      "outputs": [],
      "source": [
        "X_undersample.head()"
      ]
    },
    {
      "cell_type": "code",
      "execution_count": null,
      "metadata": {
        "_cell_guid": "c9bbe5ae-e71d-b0b4-a403-b25425e25b24"
      },
      "outputs": [],
      "source": [
        "from sklearn.model_selection import train_test_split\n",
        "X_train, X_test, y_train, y_test = train_test_split(X_undersample,y_undersample,test_size = 0.3, random_state = 0)"
      ]
    },
    {
      "cell_type": "code",
      "execution_count": null,
      "metadata": {
        "_cell_guid": "692a6721-4092-9527-f017-13065178abf0"
      },
      "outputs": [],
      "source": [
        "from sklearn.cross_validation import StratifiedKFold\n",
        "from sklearn.linear_model import LogisticRegression"
      ]
    },
    {
      "cell_type": "code",
      "execution_count": null,
      "metadata": {
        "_cell_guid": "9a676cf3-615e-dc24-cb68-bfc16fd0588c"
      },
      "outputs": [],
      "source": [
        "lg = LogisticRegression()\n",
        "scores = cross_validation.cross_val_score(lg, X_train, y_train, cv=10,scoring='accuracy') \n",
        "print (scores)\n",
        "print ('average score = ', np.mean(scores))\n",
        "print ('std of scores = ', np.std(scores))"
      ]
    },
    {
      "cell_type": "code",
      "execution_count": null,
      "metadata": {
        "_cell_guid": "d43edf95-f02a-8219-2e96-4516127a1e57"
      },
      "outputs": [],
      "source": [
        "model.fit(X_train, y_train)"
      ]
    },
    {
      "cell_type": "code",
      "execution_count": null,
      "metadata": {
        "_cell_guid": "390a0cb1-df47-f250-db46-b19e06d46333"
      },
      "outputs": [],
      "source": ""
    }
  ],
  "metadata": {
    "_change_revision": 0,
    "_is_fork": false,
    "kernelspec": {
      "display_name": "Python 3",
      "language": "python",
      "name": "python3"
    },
    "language_info": {
      "codemirror_mode": {
        "name": "ipython",
        "version": 3
      },
      "file_extension": ".py",
      "mimetype": "text/x-python",
      "name": "python",
      "nbconvert_exporter": "python",
      "pygments_lexer": "ipython3",
      "version": "3.6.0"
    }
  },
  "nbformat": 4,
  "nbformat_minor": 0
}