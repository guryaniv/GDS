{
  "cells": [
    {
      "cell_type": "code",
      "execution_count": null,
      "metadata": {
        "_cell_guid": "eb4de64d-63cc-b64a-e9c0-5a7830f6202a"
      },
      "outputs": [],
      "source": [
        "import numpy as np\n",
        "import pandas as pd\n",
        "import matplotlib.pyplot as plt\n",
        "\n",
        "train = pd.read_csv('../input/train.csv')\n",
        "test = pd.read_csv('../input/test.csv')"
      ]
    },
    {
      "cell_type": "code",
      "execution_count": null,
      "metadata": {
        "_cell_guid": "b47c08d7-20fe-0c24-fda9-fc6bc8182fdf"
      },
      "outputs": [],
      "source": [
        "million1 = np.where (train.price_doc==1e6, 1, 0)\n",
        "million2 = np.where (train.price_doc==2e6, 1, 0)\n",
        "million3 = np.where (train.price_doc==3e6, 1, 0)\n",
        "basedate = pd.to_datetime(\"2010-08-19\").toordinal()\n",
        "time = pd.to_datetime(train.timestamp).apply(lambda x: x.toordinal()) - basedate\n",
        "times = pd.DataFrame({\"time\":time })\n",
        "testtime = pd.to_datetime(test.timestamp).apply(lambda x: x.toordinal()) - basedate\n",
        "testtimes = pd.DataFrame({\"time\":testtime })"
      ]
    },
    {
      "cell_type": "code",
      "execution_count": null,
      "metadata": {
        "_cell_guid": "19374122-01be-39af-0b59-567e4178abca"
      },
      "outputs": [],
      "source": [
        "from sklearn.linear_model import LogisticRegression\n",
        "logit = LogisticRegression(max_iter=1000)\n",
        "\n",
        "logit.fit(times, million1)\n",
        "p1train = logit.predict_proba(times)\n",
        "p1test = logit.predict_proba(testtimes)\n",
        "\n",
        "logit.fit(times, million2)\n",
        "p2train = logit.predict_proba(times)\n",
        "p2test = logit.predict_proba(testtimes)\n",
        "\n",
        "logit.fit(times, million3)\n",
        "p3train = logit.predict_proba(times)\n",
        "p3test = logit.predict_proba(testtimes)"
      ]
    },
    {
      "cell_type": "code",
      "execution_count": null,
      "metadata": {
        "_cell_guid": "993d6bfe-9ca2-8754-de09-60e21cb504b9"
      },
      "outputs": [],
      "source": [
        "print(p1train[:,1].mean())\n",
        "print(p1test[:,1].mean())\n",
        "\n",
        "print(p2train[:,1].mean())\n",
        "print(p2test[:,1].mean())\n",
        "\n",
        "print(p3train[:,1].mean())\n",
        "print(p3test[:,1].mean())"
      ]
    },
    {
      "cell_type": "code",
      "execution_count": null,
      "metadata": {
        "_cell_guid": "568e9f1b-d83e-3474-6cc2-dcebfc4be418"
      },
      "outputs": [],
      "source": ""
    }
  ],
  "metadata": {
    "_change_revision": 0,
    "_is_fork": false,
    "kernelspec": {
      "display_name": "Python 3",
      "language": "python",
      "name": "python3"
    },
    "language_info": {
      "codemirror_mode": {
        "name": "ipython",
        "version": 3
      },
      "file_extension": ".py",
      "mimetype": "text/x-python",
      "name": "python",
      "nbconvert_exporter": "python",
      "pygments_lexer": "ipython3",
      "version": "3.6.0"
    }
  },
  "nbformat": 4,
  "nbformat_minor": 0
}