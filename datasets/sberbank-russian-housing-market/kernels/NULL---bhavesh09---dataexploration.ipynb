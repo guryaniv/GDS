{
  "cells": [
    {
      "cell_type": "code",
      "execution_count": null,
      "metadata": {
        "_cell_guid": "edc896a3-1756-4358-3c3b-2bc1c8f1c6c8"
      },
      "outputs": [],
      "source": [
        "import numpy as np # linear algebra\n",
        "import pandas as pd # data processing, CSV file I/O (e.g. pd.read_csv)\n",
        "import matplotlib.pyplot as plt\n",
        "import seaborn as sns\n",
        "from sklearn import model_selection, preprocessing\n",
        "import xgboost as xgb\n",
        "from sklearn.ensemble import ExtraTreesClassifier\n",
        "color = sns.color_palette()"
      ]
    },
    {
      "cell_type": "code",
      "execution_count": null,
      "metadata": {
        "_cell_guid": "41af776f-8ae1-4510-bbdc-18f1779d9b86"
      },
      "outputs": [],
      "source": [
        "train = pd.read_csv(\"../input/train.csv\", parse_dates=['timestamp'])\n",
        "test = pd.read_csv(\"../input/test.csv\", parse_dates=['timestamp'])\n",
        "macro = pd.read_csv(\"../input/macro.csv\", parse_dates=['timestamp'])"
      ]
    },
    {
      "cell_type": "code",
      "execution_count": null,
      "metadata": {
        "_cell_guid": "6c18d002-fbd1-e411-0479-b9c982306e4a"
      },
      "outputs": [],
      "source": [
        "train = pd.merge(train, macro, how='left', on='timestamp')\n",
        "test = pd.merge(test, macro, how='left', on='timestamp')"
      ]
    },
    {
      "cell_type": "code",
      "execution_count": null,
      "metadata": {
        "_cell_guid": "0453f455-03c0-5e32-ab28-82d0714823e6"
      },
      "outputs": [],
      "source": [
        "train.describe()"
      ]
    },
    {
      "cell_type": "code",
      "execution_count": null,
      "metadata": {
        "_cell_guid": "967e5b6f-9a3d-3392-e6fa-3d5f02ac0503"
      },
      "outputs": [],
      "source": [
        "xfig, axis1 = plt.subplots(1,1,figsize=(12,8))\n",
        "fig = sns.regplot(x=\"full_sq\",y=\"price_doc\",data=train[train.full_sq < 5000])"
      ]
    },
    {
      "cell_type": "code",
      "execution_count": null,
      "metadata": {
        "_cell_guid": "2841c357-be79-5235-3aa9-54a81fad0d00"
      },
      "outputs": [],
      "source": [
        "fig = sns.boxplot(y=\"full_sq\",data=train[train.full_sq < 5000])"
      ]
    },
    {
      "cell_type": "markdown",
      "metadata": {
        "_cell_guid": "fd9dfcff-ee87-ec97-6588-2ccf04d1d166"
      },
      "source": [
        "so it is clear that there is one outlier in full_Sq. So let's exclude it."
      ]
    },
    {
      "cell_type": "code",
      "execution_count": null,
      "metadata": {
        "_cell_guid": "43bf4583-c0eb-1576-6a9b-d19e4972b792"
      },
      "outputs": [],
      "source": [
        "fig = sns.boxplot(y=\"full_sq\",data=train)"
      ]
    },
    {
      "cell_type": "code",
      "execution_count": null,
      "metadata": {
        "_cell_guid": "d7b4fb17-a859-7c63-9c19-da6615fa81f9"
      },
      "outputs": [],
      "source": [
        "xfig, axis1 = plt.subplots(1,1,figsize=(12,8))\n",
        "fig = sns.regplot(x=\"full_sq\",y=\"price_doc\",data=train)"
      ]
    },
    {
      "cell_type": "code",
      "execution_count": null,
      "metadata": {
        "_cell_guid": "e41152a8-b05d-4923-d428-68344c6519b3"
      },
      "outputs": [],
      "source": [
        "xfig, axis1 = plt.subplots(1,1,figsize=(12,8))\n",
        "fig = sns.regplot(x=\"full_sq\",y=\"price_doc\",data=train[train.full_sq < 5000])"
      ]
    },
    {
      "cell_type": "code",
      "execution_count": null,
      "metadata": {
        "_cell_guid": "2456bb36-4cad-6b31-d821-da0c313ea9ab"
      },
      "outputs": [],
      "source": [
        "fig = sns.boxplot(y=\"full_sq\",data=train[train.full_sq < 5000])"
      ]
    },
    {
      "cell_type": "code",
      "execution_count": null,
      "metadata": {
        "_cell_guid": "da9081c8-b992-c701-0139-207280b5ee76"
      },
      "outputs": [],
      "source": [
        "train.describe()"
      ]
    },
    {
      "cell_type": "code",
      "execution_count": null,
      "metadata": {
        "_cell_guid": "ae79598c-8cae-eb53-075f-ee7d57b994db"
      },
      "outputs": [],
      "source": [
        "fig = sns.regplot(x=\"full_sq\",y=\"price_doc\",data=train)"
      ]
    },
    {
      "cell_type": "markdown",
      "metadata": {
        "_cell_guid": "3077fac5-a284-2e9f-a51d-9287e7a7c363"
      },
      "source": [
        "Looks like one out lair  causing issue. Let's remove it."
      ]
    },
    {
      "cell_type": "code",
      "execution_count": null,
      "metadata": {
        "_cell_guid": "8c67af6b-ef96-59e2-acbd-6d0f4f395809"
      },
      "outputs": [],
      "source": [
        "fig = sns.regplot(x=\"full_sq\",y=\"price_doc\",data=train[train.full_sq<1000])"
      ]
    },
    {
      "cell_type": "code",
      "execution_count": null,
      "metadata": {
        "_cell_guid": "56ed0f79-a397-3f78-ae15-734a3337d803"
      },
      "outputs": [],
      "source": [
        "fig = sns.regplot(x=\"full_sq\",y=\"price_doc\",data=train[train.full_sq<250])"
      ]
    },
    {
      "cell_type": "code",
      "execution_count": null,
      "metadata": {
        "_cell_guid": "874ea088-07a8-27a8-5577-fe251b07aa55"
      },
      "outputs": [],
      "source": [
        "train.describe(include=['O'])"
      ]
    },
    {
      "cell_type": "code",
      "execution_count": null,
      "metadata": {
        "_cell_guid": "8fb02b84-d17b-8529-b956-a0ace59f2010"
      },
      "outputs": [],
      "source": [
        "xfig, axis1 = plt.subplots(1,1,figsize=(12,8))\n",
        "fig = sns.boxplot(x=\"sub_area\",y=\"price_doc\", data=train)"
      ]
    },
    {
      "cell_type": "code",
      "execution_count": null,
      "metadata": {
        "_cell_guid": "4f5cd99e-c524-bc18-97fb-915e30aa9666"
      },
      "outputs": [],
      "source": [
        " train.loc[:,['sub_area']]"
      ]
    },
    {
      "cell_type": "code",
      "execution_count": null,
      "metadata": {
        "_cell_guid": "7f578c48-3530-dd73-6fa4-56c8b2685439"
      },
      "outputs": [],
      "source": ""
    },
    {
      "cell_type": "code",
      "execution_count": null,
      "metadata": {
        "_cell_guid": "3bc119dc-e24b-5aa7-d881-a958a82c6f09"
      },
      "outputs": [],
      "source": ""
    },
    {
      "cell_type": "code",
      "execution_count": null,
      "metadata": {
        "_cell_guid": "fc684f1c-f69b-8417-cd91-b6d8fd988cd0"
      },
      "outputs": [],
      "source": ""
    },
    {
      "cell_type": "code",
      "execution_count": null,
      "metadata": {
        "_cell_guid": "9a5a3041-3fbe-d3ec-b358-2e297625404f"
      },
      "outputs": [],
      "source": ""
    },
    {
      "cell_type": "code",
      "execution_count": null,
      "metadata": {
        "_cell_guid": "2e94ac1f-ddcc-2733-d5a0-3f0389950988"
      },
      "outputs": [],
      "source": [
        "train.groupby([\"sub_area\"], as_index=False).size()\n",
        "#g1 = df1.groupby([\"Name\", \"City\"], as_index=False).count()"
      ]
    }
  ],
  "metadata": {
    "_change_revision": 0,
    "_is_fork": false,
    "kernelspec": {
      "display_name": "Python 3",
      "language": "python",
      "name": "python3"
    },
    "language_info": {
      "codemirror_mode": {
        "name": "ipython",
        "version": 3
      },
      "file_extension": ".py",
      "mimetype": "text/x-python",
      "name": "python",
      "nbconvert_exporter": "python",
      "pygments_lexer": "ipython3",
      "version": "3.6.0"
    }
  },
  "nbformat": 4,
  "nbformat_minor": 0
}