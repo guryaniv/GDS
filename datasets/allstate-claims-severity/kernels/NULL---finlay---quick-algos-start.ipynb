{
  "cells": [
    {
      "cell_type": "markdown",
      "metadata": {
        "_cell_guid": "3b094ddf-fda4-ddd6-79a7-19cd2c5db7be"
      },
      "source": [
        "# Quick Algos Start\n",
        "\n",
        "alter the code from: https://www.kaggle.com/sharmasanthosh/allstate-claims-severity/exploratory-study-on-ml-algorithms"
      ]
    },
    {
      "cell_type": "code",
      "execution_count": null,
      "metadata": {
        "_cell_guid": "68d74858-72b3-15ef-8dc3-32cadc7dcdd1"
      },
      "outputs": [],
      "source": [
        "%matplotlib inline\n",
        "import pandas as pd\n",
        "import numpy as np\n",
        "import matplotlib.pyplot as plt\n",
        "import seaborn as sns\n",
        "from sklearn.metrics import mean_absolute_error\n",
        "\n",
        "import matplotlib\n",
        "matplotlib.rcParams['agg.path.chunksize'] = 10000\n",
        "\n",
        "import warnings\n",
        "warnings.filterwarnings(\"ignore\")\n",
        "\n",
        "pd.set_option('display.max_columns', 500)\n",
        "pd.set_option('display.max_rows', 50)"
      ]
    },
    {
      "cell_type": "code",
      "execution_count": null,
      "metadata": {
        "_cell_guid": "537cd7ea-2ae7-5e27-b4ad-043d60714d03"
      },
      "outputs": [],
      "source": [
        "from subprocess import check_output\n",
        "print(check_output([\"ls\", \"../input\"]).decode(\"utf8\"))\n",
        "\n",
        "train = pd.read_csv(\"../input/train.csv\")\n",
        "test = pd.read_csv(\"../input/test.csv\")\n",
        "\n",
        "train_test = pd.concat((train, test)).reset_index(drop=True)\n",
        "train_test = train_test[train.columns]\n",
        "\n",
        "features = [x for x in train.columns if x not in ['id','loss']]\n",
        "cat_features = [x for x in train.select_dtypes(include=['object']).columns if x not in ['id','loss']]\n",
        "bin_features = [x for x in cat_features if len(train[x].unique()) == 2]\n",
        "num_features = [x for x in train.select_dtypes(exclude=['object']).columns if x not in ['id','loss']]"
      ]
    },
    {
      "cell_type": "code",
      "execution_count": null,
      "metadata": {
        "_cell_guid": "5f9d1799-6114-901f-5972-4fc9bec468d1"
      },
      "outputs": [],
      "source": [
        "cats = [feat for feat in features if 'cat' in feat]\n",
        "for feat in cats:\n",
        "    train_test[feat] = pd.factorize(train_test[feat], sort=True)[0]\n",
        "\n",
        "ntrain = train.shape[0]\n",
        "train_set = train_test.iloc[:ntrain,:]\n",
        "test_set = train_test.iloc[ntrain:,:-1]\n",
        "\n",
        "train_X = train_set.drop(['id', 'loss'], axis = 1)\n",
        "train_Y = np.log1p(train_set['loss'])"
      ]
    },
    {
      "cell_type": "code",
      "execution_count": null,
      "metadata": {
        "_cell_guid": "99a5d733-e2b4-f4a3-a8c0-72566dd0452f"
      },
      "outputs": [],
      "source": [
        "from sklearn import cross_validation\n",
        "X_train, X_val, Y_train, Y_val = cross_validation.train_test_split(train_X, train_Y, test_size = 0.1, random_state = 520)"
      ]
    },
    {
      "cell_type": "code",
      "execution_count": null,
      "metadata": {
        "_cell_guid": "d7bbc2e4-3f07-224a-ce6e-0037237f395d"
      },
      "outputs": [],
      "source": [
        "from sklearn.linear_model import LinearRegression\n",
        "\n",
        "model = LinearRegression(n_jobs=-1)\n",
        "# model.fit(X_train, Y_train)\n",
        "# result = mean_absolute_error(np.expm1(Y_val), np.expm1(model.predict(X_val)))\n",
        "# print ('LinReg MAE:', result)\n",
        "# LinReg MAE: 1282.78422684"
      ]
    },
    {
      "cell_type": "code",
      "execution_count": null,
      "metadata": {
        "_cell_guid": "04d04709-87ca-7b4f-720c-ce81b42090a8"
      },
      "outputs": [],
      "source": [
        "from sklearn.linear_model import Ridge\n",
        "\n",
        "model = Ridge(alpha = 0.01, random_state = 520)\n",
        "# model.fit(X_train, Y_train)\n",
        "# result = mean_absolute_error(np.expm1(Y_val), np.expm1(model.predict(X_val)))\n",
        "# print ('Ridge MAE:', result)\n",
        "# Ridge MAE: 1282.76855425"
      ]
    },
    {
      "cell_type": "code",
      "execution_count": null,
      "metadata": {
        "_cell_guid": "81b8d4b1-b06a-98e5-0787-bd2aa65e48f3"
      },
      "outputs": [],
      "source": [
        "from sklearn.linear_model import Lasso\n",
        "\n",
        "model = Lasso(alpha = 0.001,random_state=520)\n",
        "# model.fit(X_train, Y_train)\n",
        "# result = mean_absolute_error(np.expm1(Y_val), np.expm1(model.predict(X_val)))\n",
        "# print ('Lasso MAE:', result)\n",
        "# Lasso MAE: 1284.21625523"
      ]
    },
    {
      "cell_type": "code",
      "execution_count": null,
      "metadata": {
        "_cell_guid": "49a75f31-88e1-c16a-d495-509d24126ddb"
      },
      "outputs": [],
      "source": [
        "from sklearn.linear_model import ElasticNet\n",
        "\n",
        "model = ElasticNet(alpha = 0.001,random_state=520)\n",
        "# model.fit(X_train, Y_train)\n",
        "# result = mean_absolute_error(np.expm1(Y_val), np.expm1(model.predict(X_val)))\n",
        "# print ('ElasticNet MAE:', result)\n",
        "# ElasticNet MAE: 1283.29871562"
      ]
    },
    {
      "cell_type": "code",
      "execution_count": null,
      "metadata": {
        "_cell_guid": "445a31a7-c7be-eeca-b7a2-c68e5226fb8e"
      },
      "outputs": [],
      "source": [
        "from sklearn.neighbors import KNeighborsRegressor\n",
        "\n",
        "model = KNeighborsRegressor(n_neighbors = 5,n_jobs=-1)\n",
        "# model.fit(X_train, Y_train)\n",
        "# result = mean_absolute_error(np.expm1(Y_val), np.expm1(model.predict(X_val)))\n",
        "# print ('KNN MAE:', result)\n",
        "# KNN MAE: 1615.10061382"
      ]
    },
    {
      "cell_type": "code",
      "execution_count": null,
      "metadata": {
        "_cell_guid": "020b9c46-eec9-4553-2643-e9efb1706cd2"
      },
      "outputs": [],
      "source": [
        "from sklearn.tree import DecisionTreeRegressor\n",
        "\n",
        "model = DecisionTreeRegressor(max_depth = 10,random_state = 520)\n",
        "# model.fit(X_train, Y_train)\n",
        "# result = mean_absolute_error(np.expm1(Y_val), np.expm1(model.predict(X_val)))\n",
        "# print ('CART MAE:', result)\n",
        "# CART MAE: 1288.19610559"
      ]
    },
    {
      "cell_type": "code",
      "execution_count": null,
      "metadata": {
        "_cell_guid": "bcaf2691-680b-4265-b1f6-4d741c898f13"
      },
      "outputs": [],
      "source": [
        "from sklearn.svm import SVR\n",
        "\n",
        "model = SVR(C = 10)\n",
        "# model.fit(X_train, Y_train)\n",
        "# result = mean_absolute_error(np.expm1(Y_val), np.expm1(model.predict(X_val)))\n",
        "# print ('SVM MAE:', result)\n",
        "# too slow..."
      ]
    },
    {
      "cell_type": "code",
      "execution_count": null,
      "metadata": {
        "_cell_guid": "eb3f159b-256b-3537-3bb4-83fba6e46556"
      },
      "outputs": [],
      "source": [
        "from sklearn.ensemble import BaggingRegressor\n",
        "\n",
        "model = BaggingRegressor(n_jobs = -1,n_estimators = 50)\n",
        "# # model.fit(X_train, Y_train)\n",
        "# result = mean_absolute_error(np.expm1(Y_val), np.expm1(model.predict(X_val)))\n",
        "# print ('Bagging MAE:', result)\n",
        "# Bagging MAE: 1210.76283562"
      ]
    },
    {
      "cell_type": "code",
      "execution_count": null,
      "metadata": {
        "_cell_guid": "10c1c835-08e1-7ba4-28e9-c4303d5a384c"
      },
      "outputs": [],
      "source": [
        "from sklearn.ensemble import RandomForestRegressor\n",
        "\n",
        "model = RandomForestRegressor(n_jobs=-1,n_estimators = 50,random_state = 520)\n",
        "# model.fit(X_train, Y_train)\n",
        "# result = mean_absolute_error(np.expm1(Y_val), np.expm1(model.predict(X_val)))\n",
        "# print ('RF MAE:', result)\n",
        "# RF MAE: 1211.18864912"
      ]
    },
    {
      "cell_type": "code",
      "execution_count": null,
      "metadata": {
        "_cell_guid": "3a67c911-6350-6a63-14b1-56de32dfa5b8"
      },
      "outputs": [],
      "source": [
        "from sklearn.ensemble import ExtraTreesRegressor\n",
        "\n",
        "model = ExtraTreesRegressor(n_jobs=-1,n_estimators = 50, random_state = 520)\n",
        "# model.fit(X_train, Y_train)\n",
        "# result = mean_absolute_error(np.expm1(Y_val), np.expm1(model.predict(X_val)))\n",
        "# print ('ExtraTree MAE:', result)\n",
        "# ExtraTree MAE: 1214.07295142"
      ]
    },
    {
      "cell_type": "code",
      "execution_count": null,
      "metadata": {
        "_cell_guid": "c23bad95-95e2-cb2c-e0e7-791ee5f6772a"
      },
      "outputs": [],
      "source": [
        "from sklearn.ensemble import AdaBoostRegressor\n",
        "\n",
        "model = AdaBoostRegressor(n_estimators = 50, random_state = 520)\n",
        "# model.fit(X_train, Y_train)\n",
        "# result = mean_absolute_error(np.expm1(Y_val), np.expm1(model.predict(X_val)))\n",
        "# print ('AdaBoosting MAE:', result)\n",
        "# AdaBoosting MAE: 1623.08514721"
      ]
    },
    {
      "cell_type": "code",
      "execution_count": null,
      "metadata": {
        "_cell_guid": "e6b6ef1c-18b2-173e-4d38-e76e8b2a6a38"
      },
      "outputs": [],
      "source": [
        "from sklearn.ensemble import GradientBoostingRegressor\n",
        "\n",
        "model = GradientBoostingRegressor(n_estimators = 50, random_state = 520)\n",
        "# model.fit(X_train, Y_train)\n",
        "# result = mean_absolute_error(np.expm1(Y_val), np.expm1(model.predict(X_val)))\n",
        "# print ('GradientBoosting MAE:', result)\n",
        "# GradientBoosting MAE: 1269.84382941"
      ]
    },
    {
      "cell_type": "code",
      "execution_count": null,
      "metadata": {
        "_cell_guid": "8ae007c4-44a7-af54-549c-eb0671a6cc58"
      },
      "outputs": [],
      "source": [
        "from xgboost import XGBRegressor\n",
        "\n",
        "# model = XGBRegressor(n_estimators = 200, subsample = 0.7 , seed = 0 , colsample_bytree = 0.7 , \n",
        "#                     silent = 1, objective = 'reg:linear' , learning_rate = 0.075 , \n",
        "#                     max_depth = 6, min_child_weight = 1)\n",
        "\n",
        "# model.fit(X_train, Y_train)\n",
        "# result = mean_absolute_error(np.expm1(Y_val), np.expm1(model.predict(X_val)))\n",
        "# print ('XGB MAE:', result)\n",
        "# XGB MAE: 1140.69633297"
      ]
    },
    {
      "cell_type": "code",
      "execution_count": null,
      "metadata": {
        "_cell_guid": "2fba240a-7fc6-ec00-2780-01b1d52c18d3"
      },
      "outputs": [],
      "source": [
        "from keras.wrappers.scikit_learn import KerasRegressor\n",
        "from keras.models import Sequential\n",
        "from keras.layers import Dense\n",
        "\n",
        "# define baseline model\n",
        "def baseline():\n",
        "    # create model\n",
        "    model = Sequential()\n",
        "    model.add(Dense(200, input_dim = X_train.shape[1], init = 'he_normal'))\n",
        "    model.add(Dense(1, init = 'he_normal'))\n",
        "    model.compile(loss='mean_absolute_error', optimizer='adam')\n",
        "    return model\n",
        "\n",
        "\n",
        "# model = KerasRegressor(build_fn = baseline, nb_epoch = 20, verbose = 2)\n",
        "# model.fit(X_train.values, Y_train.values)\n",
        "# result = mean_absolute_error(np.expm1(Y_val), np.expm1(model.predict(X_val.values)))\n",
        "# print ('MLP MAE:', result)\n",
        "# MLP MAE: 1317.24074992"
      ]
    },
    {
      "cell_type": "code",
      "execution_count": null,
      "metadata": {
        "_cell_guid": "56bb8bb9-c21b-a5d1-7f04-fde29189750e"
      },
      "outputs": [],
      "source": ""
    }
  ],
  "metadata": {
    "_change_revision": 0,
    "_is_fork": false,
    "kernelspec": {
      "display_name": "Python 3",
      "language": "python",
      "name": "python3"
    },
    "language_info": {
      "codemirror_mode": {
        "name": "ipython",
        "version": 3
      },
      "file_extension": ".py",
      "mimetype": "text/x-python",
      "name": "python",
      "nbconvert_exporter": "python",
      "pygments_lexer": "ipython3",
      "version": "3.5.2"
    }
  },
  "nbformat": 4,
  "nbformat_minor": 0
}