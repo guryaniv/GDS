{"cells":[
 {
  "cell_type": "code",
  "execution_count": null,
  "metadata": {
   "collapsed": false
  },
  "outputs": [],
  "source": "import pandas as pd\nfrom collections import Counter\n\n%pylab inline\n"
 },
 {
  "cell_type": "code",
  "execution_count": null,
  "metadata": {
   "collapsed": false
  },
  "outputs": [],
  "source": "trainPath = r'../input/train.csv'\ntestPath = r'../input/test.csv'"
 },
 {
  "cell_type": "code",
  "execution_count": null,
  "metadata": {
   "collapsed": false
  },
  "outputs": [],
  "source": "train_df = pd.read_csv(trainPath)\ntest_df = pd.read_csv(testPath)"
 },
 {
  "cell_type": "code",
  "execution_count": null,
  "metadata": {
   "collapsed": false
  },
  "outputs": [],
  "source": "train_df.info()"
 },
 {
  "cell_type": "code",
  "execution_count": null,
  "metadata": {
   "collapsed": false
  },
  "outputs": [],
  "source": "test_df.info()"
 },
 {
  "cell_type": "code",
  "execution_count": null,
  "metadata": {
   "collapsed": false
  },
  "outputs": [],
  "source": "#deal character data\ntrain_df['Year']  = train_df['Original_Quote_Date'].apply(lambda x: int(str(x)[:4]))\ntrain_df['Month'] = train_df['Original_Quote_Date'].apply(lambda x: int(str(x)[5:7]))\ntrain_df['Week']  = train_df['Original_Quote_Date'].apply(lambda x: int(str(x)[8:10]))\n\ntest_df['Year']  = test_df['Original_Quote_Date'].apply(lambda x: int(str(x)[:4]))\ntest_df['Month'] = test_df['Original_Quote_Date'].apply(lambda x: int(str(x)[5:7]))\ntest_df['Week']  = test_df['Original_Quote_Date'].apply(lambda x: int(str(x)[8:10]))\n\ntrain_df.drop(['Original_Quote_Date'], axis=1,inplace=True)\ntest_df.drop(['Original_Quote_Date'], axis=1,inplace=True)"
 },
 {
  "cell_type": "code",
  "execution_count": null,
  "metadata": {
   "collapsed": false
  },
  "outputs": [],
  "source": "#get character data columns\nnotNumTypeCol = [col for col in train_df.columns if train_df[col].dtype == dtype('O')]"
 },
 {
  "cell_type": "code",
  "execution_count": null,
  "metadata": {
   "collapsed": false
  },
  "outputs": [],
  "source": "notNumTypeCol"
 },
 {
  "cell_type": "code",
  "execution_count": null,
  "metadata": {
   "collapsed": false
  },
  "outputs": [],
  "source": "def charToInt(data_df,convDict):\n    #create map dict\n    for colName in convDict.keys():\n        valuesCounter = convDict[colName]\n        valuesCounterSize = len(valuesCounter)\n        mapDict = dict(zip(valuesCounter.keys(),range(valuesCounterSize)))\n        for index,record in enumerate(data_df[colName]):\n            data_df[colName][index] = mapDict[record]"
 },
 {
  "cell_type": "code",
  "execution_count": null,
  "metadata": {
   "collapsed": false
  },
  "outputs": [],
  "source": "notNumTypeCol"
 },
 {
  "cell_type": "code",
  "execution_count": null,
  "metadata": {
   "collapsed": false
  },
  "outputs": [],
  "source": "import pandas as pd\nfrom collections import Counter\n\n%pylab inline\n\ntrainPath = r'../input/train.csv'\ntestPath = r'../input/test.csv'\n\ntrain_df = pd.read_csv(trainPath)\ntest_df = pd.read_csv(testPath)\n\n#deal character data\ntrain_df['Year']  = train_df['Original_Quote_Date'].apply(lambda x: int(str(x)[:4]))\ntrain_df['Month'] = train_df['Original_Quote_Date'].apply(lambda x: int(str(x)[5:7]))\ntrain_df['Week']  = train_df['Original_Quote_Date'].apply(lambda x: int(str(x)[8:10]))\n\ntest_df['Year']  = test_df['Original_Quote_Date'].apply(lambda x: int(str(x)[:4]))\ntest_df['Month'] = test_df['Original_Quote_Date'].apply(lambda x: int(str(x)[5:7]))\ntest_df['Week']  = test_df['Original_Quote_Date'].apply(lambda x: int(str(x)[8:10]))\n\ntrain_df.drop(['Original_Quote_Date'], axis=1,inplace=True)\ntest_df.drop(['Original_Quote_Date'], axis=1,inplace=True)\n\n#get character data columns\nnotNumTypeCol = [col for col in train_df.columns if train_df[col].dtype == dtype('O')]\n\n\ndef charToInt(data_df,convDict):\n    #create map dict\n    for colName in convDict.keys():\n        valuesCounter = convDict[colName]\n        valuesCounterSize = len(valuesCounter)\n        mapDict = dict(zip(valuesCounter.keys(),range(valuesCounterSize)))\n        for index,record in enumerate(data_df[colName]):\n            data_df[colName][index] = mapDict[record]\n"
 },
 {
  "cell_type": "code",
  "execution_count": null,
  "metadata": {
   "collapsed": false
  },
  "outputs": [],
  "source": "train_x_df = train_df.drop(\"QuoteConversion_Flag\",axis=1)\ntrain_y_df = train_df[\"QuoteConversion_Flag\"]"
 },
 {
  "cell_type": "code",
  "execution_count": null,
  "metadata": {
   "collapsed": false
  },
  "outputs": [],
  "source": "charToInt(train_x_df,notNumTypeCol)"
 },
 {
  "cell_type": "code",
  "execution_count": null,
  "metadata": {
   "collapsed": false
  },
  "outputs": [],
  "source": "notNumValueCounter = {}\nfor key in col:\n    notNumValueCounter[key] = Counter(train_x_df[key])"
 },
 {
  "cell_type": "code",
  "execution_count": null,
  "metadata": {
   "collapsed": false
  },
  "outputs": [],
  "source": "notNumValueCounter = {}\nfor key in notNumTypeCol:\n    notNumValueCounter[key] = Counter(train_x_df[key])"
 },
 {
  "cell_type": "code",
  "execution_count": null,
  "metadata": {
   "collapsed": false
  },
  "outputs": [],
  "source": "charToInt(train_x_df,notNumValueCounter)"
 },
 {
  "cell_type": "code",
  "execution_count": null,
  "metadata": {
   "collapsed": false
  },
  "outputs": [],
  "source": ""
 }
],"metadata":{"kernelspec":{"display_name":"Python 3","language":"python","name":"python3"}}, "nbformat": 4, "nbformat_minor": 0}