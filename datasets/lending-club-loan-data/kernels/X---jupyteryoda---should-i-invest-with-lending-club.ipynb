{
  "cells": [
    {
      "cell_type": "markdown",
      "metadata": {
        "_cell_guid": "536e4cc2-7579-eafa-8851-d10daa51fd86"
      },
      "source": [
        "# Should I Invest with Lending Club?\n",
        "I am interested in investing.  My decision is to invest in Lending Club or not.  I have many different investment options and my goal is to maximize expected returns while minimizing risk.  Peer-2-Peer lending is new to me and came up in a recent discussion which prompted me to look at this.  \n",
        "\n",
        "To support this analysis, I will follow this [CRIPS-DM](https://www.the-modeling-agency.com/crisp-dm.pdf) methodology[1].   I will work through this process and continue development to help learn about Lending Club Investments, data analysis with Python and writing clearly.  "
      ]
    },
    {
      "cell_type": "markdown",
      "metadata": {
        "_cell_guid": "45a7ac48-4934-b0d5-1149-ebdf0ca1f326"
      },
      "source": [
        "##   Business Understanding\n",
        "My goal is to invest some amount of money and I want to identify potential returns from Lending Club.  For example, we will pretend this is $10,000.  To help make this decision, I want to figure out potential returns for Lending Club for different investment strategies and see if I can maximize return on investment.  \n",
        "\n",
        "Details on lending club can be found on their website [2].  In brief summary, as an investor you are able to fund personal loans for a set return on investment.  Lending Club determines the interest rate you will receive on the money which is linked to the grade of the loan applicant.  The biggest risk here is the loan defaults in which case you will lose the investment.  This is my interpretation of the program as of 2017.05.29 and I recommend you read more on their website for most accurate details of the program.  \n",
        "\n",
        "To help make my decision, I want to find a way to simulate what potential returns would be on loans over a 12 month period based on potential investment strategies through analysis of the data.  From the historical data, I am hoping to get a basic understanding of potential ROI and estimate potential methods for investing in Lending Club to maximize returns.  This will help make my decision on where to invest the hypothetical amount of money."
      ]
    },
    {
      "cell_type": "markdown",
      "metadata": {
        "_cell_guid": "9b48cd62-6f57-c412-40cc-74bec0d12eee"
      },
      "source": [
        "## Data Understanding\n",
        "There are three different data files included.  We will look at these below.  "
      ]
    },
    {
      "cell_type": "code",
      "execution_count": null,
      "metadata": {
        "_cell_guid": "35411257-4029-c7ea-cb06-8a93f72cf7cb"
      },
      "outputs": [],
      "source": [
        "# setup workspace\n",
        "%matplotlib inline\n",
        "\n",
        "import numpy as np # linear algebra\n",
        "import pandas as pd # data processing, CSV file I/O (e.g. pd.read_csv)\n",
        "import matplotlib.pyplot as plt\n",
        "import seaborn as sns\n",
        "\n",
        "# setting column width to help read data dict\n",
        "pd.options.display.max_colwidth = 255"
      ]
    },
    {
      "cell_type": "code",
      "execution_count": null,
      "metadata": {
        "_cell_guid": "f73b1a12-04fb-9869-5aaf-74e10d05aaac"
      },
      "outputs": [],
      "source": [
        "# look at input files\n",
        "from subprocess import check_output\n",
        "print(check_output([\"ls\", \"../input\"]).decode(\"utf8\"))"
      ]
    },
    {
      "cell_type": "markdown",
      "metadata": {
        "_cell_guid": "11ff3570-307e-6473-f7b0-81e3b1cb3356"
      },
      "source": [
        "For this analysis, I will focus on the excel data dictionary and loan.csv file.  I assume the sqlite and csv file are the same and CSV files are easier for me to work with.  \n",
        "\n",
        "I will start by bringing in the data dictionary and csv file.  With these, then I will look at the individual features in the data and try to down select to a few features to start modeling with.  "
      ]
    },
    {
      "cell_type": "code",
      "execution_count": null,
      "metadata": {
        "_cell_guid": "ae0ae7c9-dc07-9a9b-f33a-85a2bb7fcea2"
      },
      "outputs": [],
      "source": [
        "# read in data dict\n",
        "df_dict = pd.read_excel('../input/LCDataDictionary.xlsx')\n",
        "\n",
        "# look at top of dict\n",
        "print('records: ' + str(len(df_dict)))\n",
        "df_dict.head()"
      ]
    },
    {
      "cell_type": "code",
      "execution_count": null,
      "metadata": {
        "_cell_guid": "4abad0eb-36ef-a55e-0c52-96aab21b13e2"
      },
      "outputs": [],
      "source": [
        "# read in data from CSV file\n",
        "df = pd.read_csv('../input/loan.csv', low_memory=False)\n",
        "\n",
        "# look up summary of df\n",
        "print(df.info())\n",
        "\n",
        "# look at top records \n",
        "df.head()"
      ]
    },
    {
      "cell_type": "markdown",
      "metadata": {
        "_cell_guid": "aa5d1747-f46e-baf2-d8cf-cd2cbff832b5"
      },
      "source": [
        "There are 80 columns of data in the data dictionary.  Rather than look at these and try to make judgement, I will evaluate the loan data.  The next step will be to provide some high level understanding of the data,and then evaluate each feature to understand it more.  At the end of this analysis, I hope to be able to down select to an initial set of features which I can start modeling with.  \n"
      ]
    },
    {
      "cell_type": "markdown",
      "metadata": {
        "_cell_guid": "27b18c38-366f-7214-6e70-3c3724dc78df"
      },
      "source": [
        "### member_id\n",
        "With the member ID, we are interested in seeing if there are any members who have multiple loans.  If not, then we will drop.  If yes, then we will keep it for further analysis which could help identify repeat offenders for bad loans.  "
      ]
    },
    {
      "cell_type": "code",
      "execution_count": null,
      "metadata": {
        "_cell_guid": "0acc85ee-0d14-72f2-49a2-a7a8c3194967"
      },
      "outputs": [],
      "source": [
        "df_dict[df_dict['LoanStatNew']=='member_id']"
      ]
    },
    {
      "cell_type": "code",
      "execution_count": null,
      "metadata": {
        "_cell_guid": "76bc5bd8-bf40-3108-c520-6fe257672dd1"
      },
      "outputs": [],
      "source": [
        "print(len(df))\n",
        "print(len(df['member_id'].unique()))"
      ]
    },
    {
      "cell_type": "markdown",
      "metadata": {
        "_cell_guid": "97cd1974-9406-25f6-a7c8-8d743714a583"
      },
      "source": [
        "As these match, there are no repeat loans.  We will drop this  in data preparation stage.  "
      ]
    },
    {
      "cell_type": "markdown",
      "metadata": {
        "_cell_guid": "67dcae99-9509-8f82-d152-a91b5b8c0e0e"
      },
      "source": [
        "### loan_amnt \n",
        "I assume this will be one of the key variables to look at and we want to see the following.  \n",
        "\n",
        " - What is the distribution of loans\n",
        " - Does the loan_amnt match funded_amnt?  If so, we can remove one of these.  "
      ]
    },
    {
      "cell_type": "code",
      "execution_count": null,
      "metadata": {
        "_cell_guid": "8a53a176-2196-0d1c-8082-083bf934b446"
      },
      "outputs": [],
      "source": [
        "df_dict[df_dict['LoanStatNew'].isin(['loan_amnt', 'funded_amnt', 'funded_amnt_inv'])]"
      ]
    },
    {
      "cell_type": "code",
      "execution_count": null,
      "metadata": {
        "_cell_guid": "c20de096-4006-54cf-5e0b-0e8b9883ef34"
      },
      "outputs": [],
      "source": [
        "df['loan_amnt'].describe()"
      ]
    },
    {
      "cell_type": "markdown",
      "metadata": {
        "_cell_guid": "6d09cf61-7b4c-d997-426d-b83410380577"
      },
      "source": [
        "The loan amount has all data points and now we will look at the distribution.  "
      ]
    },
    {
      "cell_type": "code",
      "execution_count": null,
      "metadata": {
        "_cell_guid": "a5401c72-dee9-a10c-13c3-9c40c1e78435"
      },
      "outputs": [],
      "source": [
        "sns.distplot(df['loan_amnt']\n",
        "             , kde = False\n",
        "             , bins = 20)"
      ]
    },
    {
      "cell_type": "markdown",
      "metadata": {
        "_cell_guid": "f468136c-6697-6f45-fa26-38e91d3d025c"
      },
      "source": [
        "The distribution seems heavier in the lower ranges (<10k) but there is plenty of opportunity throughout to fund loans.  I should be good with my $10k to invest.  Now we will look at the next two variables ['funded_amnt' and 'funded_amnt_inv'] as I suspect these will be the same as loan_amnt. If so, we can drop them "
      ]
    },
    {
      "cell_type": "code",
      "execution_count": null,
      "metadata": {
        "_cell_guid": "203a2aa7-af17-0d97-e9a3-730d0d6b59d9"
      },
      "outputs": [],
      "source": [
        "print('Mismatched funded_amnt: ' + str(len(df[df['loan_amnt'] != df['funded_amnt']])))\n",
        "print('Mismatched funded_amnt: ' + str(len(df[df['loan_amnt'] != df['funded_amnt_inv']])))"
      ]
    },
    {
      "cell_type": "markdown",
      "metadata": {
        "_cell_guid": "e88ca921-8960-c29b-a9d2-3daead1929dd"
      },
      "source": [
        "From these two, it looks like both have non-matched items.  I will keep them and do some analysis later to see if these mis-matches are for any reason and should be avoided.  Based on descriptions, I would suspect these would be similar.  Lets see a scatter plot on these values.  "
      ]
    },
    {
      "cell_type": "code",
      "execution_count": null,
      "metadata": {
        "_cell_guid": "95969c78-5b2d-2501-a632-3db8f96202c8"
      },
      "outputs": [],
      "source": [
        "df.plot(kind='scatter', x='loan_amnt', y='funded_amnt');"
      ]
    },
    {
      "cell_type": "code",
      "execution_count": null,
      "metadata": {
        "_cell_guid": "20864d52-00fa-c5b1-ed5f-c1ba35ea3d5d"
      },
      "outputs": [],
      "source": [
        "df.plot(kind='scatter', x='loan_amnt', y='funded_amnt_inv');"
      ]
    },
    {
      "cell_type": "code",
      "execution_count": null,
      "metadata": {
        "_cell_guid": "cf744192-08f1-a94b-1754-ce2c46608530"
      },
      "outputs": [],
      "source": [
        "df.plot(kind='scatter', x='funded_amnt_inv', y='funded_amnt');"
      ]
    },
    {
      "cell_type": "markdown",
      "metadata": {
        "_cell_guid": "0d7a7bc4-ffc2-9958-0344-021e3a8a4634"
      },
      "source": [
        "My suspicion is that this will not be very useful, but we will keep it.  There may be opportunity to utilize the fact that the funded amount does not match the invested amount to identify when other investors are avoiding specific loans.  "
      ]
    },
    {
      "cell_type": "markdown",
      "metadata": {
        "_cell_guid": "c6a9fb9f-5716-c6db-57e3-230476340112"
      },
      "source": [
        "## Data Preparation\n",
        "Based on the data understanding, we will drop the columns not needed.  "
      ]
    },
    {
      "cell_type": "code",
      "execution_count": null,
      "metadata": {
        "_cell_guid": "890d288d-c265-7fa2-f1f8-75512e288bd8"
      },
      "outputs": [],
      "source": [
        "df.drop(['id', 'member_id']\n",
        "        , axis = 1\n",
        "        , inplace=True, )"
      ]
    },
    {
      "cell_type": "markdown",
      "metadata": {
        "_cell_guid": "22803856-a299-1bc4-159b-044c0f5de79e"
      },
      "source": [
        "## Modeling"
      ]
    },
    {
      "cell_type": "markdown",
      "metadata": {
        "_cell_guid": "b4af338f-063d-66b0-6754-714b244980a9"
      },
      "source": [
        "## Evaluation"
      ]
    },
    {
      "cell_type": "markdown",
      "metadata": {
        "_cell_guid": "f61fa387-aa54-1e2e-1d67-2cc198f87f3b"
      },
      "source": [
        "## References ##\n",
        "[1] -  Cross Industry Standard Process for Data Mining (CRISP-DM), https://www.the-modeling-agency.com/crisp-dm.pdf  \n",
        "[2] - Lending Club website, https://www.lendingclub.com/  \n",
        "[?] - Interesting article analyzing same data for blog, http://kldavenport.com/lending-club-data-analysis-revisted-with-python/\n",
        "[?] - Good example of showing missing data with python, https://www.kaggle.com/sudalairajkumar/simple-exploration-notebook-zillow-prize"
      ]
    }
  ],
  "metadata": {
    "_change_revision": 0,
    "_is_fork": false,
    "kernelspec": {
      "display_name": "Python 3",
      "language": "python",
      "name": "python3"
    },
    "language_info": {
      "codemirror_mode": {
        "name": "ipython",
        "version": 3
      },
      "file_extension": ".py",
      "mimetype": "text/x-python",
      "name": "python",
      "nbconvert_exporter": "python",
      "pygments_lexer": "ipython3",
      "version": "3.6.0"
    }
  },
  "nbformat": 4,
  "nbformat_minor": 0
}