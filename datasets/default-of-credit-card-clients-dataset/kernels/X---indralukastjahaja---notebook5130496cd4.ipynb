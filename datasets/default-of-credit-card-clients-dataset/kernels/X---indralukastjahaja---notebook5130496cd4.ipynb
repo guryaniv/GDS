{
  "cells": [
    {
      "cell_type": "code",
      "execution_count": null,
      "metadata": {
        "_cell_guid": "fa0db558-a209-e9fc-6c6e-85d4ea5bfa84"
      },
      "outputs": [],
      "source": [
        "# This Python 3 environment comes with many helpful analytics libraries installed\n",
        "# It is defined by the kaggle/python docker image: https://github.com/kaggle/docker-python\n",
        "# For example, here's several helpful packages to load in \n",
        "\n",
        "import numpy as np # linear algebra\n",
        "import pandas as pd # data processing, CSV file I/O (e.g. pd.read_csv)\n",
        "import seaborn as sns\n",
        "import matplotlib.pyplot as plt\n",
        "sns.set(style=\"white\", color_codes=True)\n",
        "\n",
        "# Input data files are available in the \"../input/\" directory.\n",
        "# For example, running this (by clicking run or pressing Shift+Enter) will list the files in the input directory\n",
        "\n",
        "from subprocess import check_output\n",
        "print(check_output([\"ls\", \"../input\"]).decode(\"utf8\"))\n",
        "\n",
        "# Any results you write to the current directory are saved as output."
      ]
    },
    {
      "cell_type": "code",
      "execution_count": null,
      "metadata": {
        "_cell_guid": "13b31004-4523-d872-5cd0-877514ea8f59"
      },
      "outputs": [],
      "source": [
        "# Next, we'll load the Credit Card dataset, which is in the \"../input/\" directory\n",
        "CC = pd.read_csv(\"../input/UCI_Credit_Card.csv\") # the iris dataset is now a Pandas DataFrame\n",
        "\n",
        "# Let's see what's in the Credit Card data - Jupyter notebooks print the result of the last thing you do\n",
        "CC.head()\n",
        "CCS = CC.head(1000)"
      ]
    },
    {
      "cell_type": "code",
      "execution_count": null,
      "metadata": {
        "_cell_guid": "151d60b4-11dd-cc17-a163-ed0755bbe246"
      },
      "outputs": [],
      "source": [
        "# Let's see how many examples we have of each default/non-default\n",
        "CC[\"default.payment.next.month\"].value_counts()"
      ]
    },
    {
      "cell_type": "code",
      "execution_count": null,
      "metadata": {
        "_cell_guid": "14962078-7dc9-25d1-1b8d-acdc8e39d096"
      },
      "outputs": [],
      "source": [
        "# The first way we can plot things is using the .plot extension from Pandas dataframes\n",
        "# We'll use this to make a scatterplot of the Iris features.\n",
        "# We'll use seaborn's FacetGrid to color the scatterplot by age and education\n",
        "sns.FacetGrid(CC, hue=\"default.payment.next.month\", size=5) \\\n",
        "   .map(plt.scatter, \"AGE\", \"EDUCATION\") \\\n",
        "   .add_legend()"
      ]
    },
    {
      "cell_type": "code",
      "execution_count": null,
      "metadata": {
        "_cell_guid": "9b97eb73-613c-bc47-ffd4-709e18c63a85"
      },
      "outputs": [],
      "source": [
        "# We can look at an individual feature in Seaborn through a boxplot\n",
        "sns.boxplot(x=\"default.payment.next.month\", y=\"BILL_AMT1\", data=CCS)"
      ]
    },
    {
      "cell_type": "code",
      "execution_count": null,
      "metadata": {
        "_cell_guid": "29291136-e768-f5eb-3c3a-fd2988825e91"
      },
      "outputs": [],
      "source": [
        "# A violin plot combines the benefits of the previous two plots and simplifies them\n",
        "# Denser regions of the data are fatter, and sparser thiner in a violin plot\n",
        "sns.violinplot(x=\"default.payment.next.month\", y=\"PAY_0\", data=CCS, size=6)"
      ]
    },
    {
      "cell_type": "code",
      "execution_count": null,
      "metadata": {
        "_cell_guid": "e125e885-6280-a396-0818-2b92b1024b1e"
      },
      "outputs": [],
      "source": [
        "# Another useful seaborn plot is the pairplot, which shows the bivariate relation\n",
        "# between each pair of features\n",
        "# \n",
        "# From the pairplot, we'll see that the Iris-setosa species is separataed from the other\n",
        "# two across all feature combinations\n",
        "sns.pairplot(CCS.drop(\"ID\", axis=1), hue=\"default.payment.next.month\", size=3)"
      ]
    }
  ],
  "metadata": {
    "_change_revision": 0,
    "_is_fork": false,
    "kernelspec": {
      "display_name": "Python 3",
      "language": "python",
      "name": "python3"
    },
    "language_info": {
      "codemirror_mode": {
        "name": "ipython",
        "version": 3
      },
      "file_extension": ".py",
      "mimetype": "text/x-python",
      "name": "python",
      "nbconvert_exporter": "python",
      "pygments_lexer": "ipython3",
      "version": "3.5.2"
    }
  },
  "nbformat": 4,
  "nbformat_minor": 0
}