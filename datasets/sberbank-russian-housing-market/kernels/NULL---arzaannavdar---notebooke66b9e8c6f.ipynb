{
  "cells": [
    {
      "cell_type": "markdown",
      "metadata": {
        "_cell_guid": "73909dca-2228-4a88-c644-f71ccdaa2c82"
      },
      "source": [
        "Introduction\n",
        "\n",
        "This notebook aims to introduce a standard way of:\n",
        "\n",
        " 1. Loading the data into python notebook\n",
        " 2. Visual and identify issues using Scatter plot between dependent variables and target"
      ]
    },
    {
      "cell_type": "code",
      "execution_count": null,
      "metadata": {
        "_cell_guid": "4634c369-a495-a1ee-b192-5d308712d25c"
      },
      "outputs": [],
      "source": [
        "#Import data into Python\n",
        "import pandas as pd\n",
        "import matplotlib.pyplot as plt\n",
        "import seaborn as sns\n",
        "import numpy as np\n",
        "\n",
        "pd.options.mode.chained_assignment = None"
      ]
    },
    {
      "cell_type": "code",
      "execution_count": null,
      "metadata": {
        "_cell_guid": "26db05f7-e90b-f86f-a04c-04ab6082b564"
      },
      "outputs": [],
      "source": [
        "#Read training data into training_data variable\n",
        "training_data=pd.read_csv(\"../input/train.csv\")"
      ]
    },
    {
      "cell_type": "code",
      "execution_count": null,
      "metadata": {
        "_cell_guid": "38725ae2-c820-5791-2e56-2469de8a12fe"
      },
      "outputs": [],
      "source": [
        "#Print training data for exploration purposes\n",
        "print(training_data.columns)\n",
        "print(training_data.shape)\n",
        "print(training_data.head())\n",
        "print(training_data[\"price_doc\"].describe())"
      ]
    },
    {
      "cell_type": "code",
      "execution_count": null,
      "metadata": {
        "_cell_guid": "e6fd2533-795a-c21d-04fc-2a66a28cfecc"
      },
      "outputs": [],
      "source": [
        "#Comparing the size of total area in square meters with house price\n",
        "plt.scatter(training_data[\"full_sq\"],training_data[\"price_doc\"])"
      ]
    },
    {
      "cell_type": "markdown",
      "metadata": {
        "_cell_guid": "b7bcdee4-57c7-e4fb-43d0-8f2b5c2f00cc"
      },
      "source": [
        "X-axis -> Total Area in square meters \n",
        "Y-axis -> Sale Price\n",
        "As can be seen with the data above, the sale price is not directly related to the area of the house.\n",
        "Hmm, my initial assumption is flawed, about a linear relation between area and price. \n",
        "Let me bring in other variables into the mix, using correlation."
      ]
    },
    {
      "cell_type": "code",
      "execution_count": null,
      "metadata": {
        "_cell_guid": "5de2611d-4eff-4a41-9604-77c9af287622"
      },
      "outputs": [],
      "source": [
        "sns.set()\n",
        "cols = [\"price_doc\", \"full_sq\", \"floor\", \"build_year\", \"state\"]\n",
        "sns.pairplot(training_data[cols].dropna(), size = 2)\n",
        "plt.show();"
      ]
    },
    {
      "cell_type": "markdown",
      "metadata": {
        "_cell_guid": "e85d0beb-dfa1-a8eb-3f55-1c1f09d1879b"
      },
      "source": [
        "Now, as we are aware, location also plays an important aspect in determining house prices. However, location (sub_area) will not work directly above, as it is a categorical variable. for this, I need to find out the unique locations. I will do this in parallel with the reason for purchase(product_type)."
      ]
    },
    {
      "cell_type": "code",
      "execution_count": null,
      "metadata": {
        "_cell_guid": "daad6c91-9a83-d6d1-9dec-219f9a5a0dbd"
      },
      "outputs": [],
      "source": [
        "#Unique type for product_type\n",
        "print(training_data[\"product_type\"].unique())"
      ]
    },
    {
      "cell_type": "code",
      "execution_count": null,
      "metadata": {
        "_cell_guid": "ed7ede38-9b3b-5ce2-fbb0-57f1acce692c"
      },
      "outputs": [],
      "source": [
        "#Unique sub areas for the house located (used MS excel to remove duplicate values)\n",
        "print(training_data[\"sub_area\"].unique())"
      ]
    },
    {
      "cell_type": "markdown",
      "metadata": {
        "_cell_guid": "789b6c36-426e-9b21-aff1-87b9c0f9aad1"
      },
      "source": [
        "Now, in the training data set, there are two types of Product types -> Investment and OwnerOccupier.\n",
        "Let's replace these values with 0 (Investment) and 1 (OwnerOccupier)."
      ]
    },
    {
      "cell_type": "code",
      "execution_count": null,
      "metadata": {
        "_cell_guid": "edb64eb7-3aa9-b528-929b-0da7b5900f2d"
      },
      "outputs": [],
      "source": [
        "#Replacing the values for product_type to 0 and 1\n",
        "training_data[\"product_type\"] [training_data[\"product_type\"]==\"Investment\"]=0\n",
        "training_data[\"product_type\"] [training_data[\"product_type\"]==\"OwnerOccupier\"]=1"
      ]
    },
    {
      "cell_type": "code",
      "execution_count": null,
      "metadata": {
        "_cell_guid": "c710f536-0052-cf5e-f2db-49c847c7dae0"
      },
      "outputs": [],
      "source": [
        "#Comparing the size of Product type with house price\n",
        "plt.scatter(training_data[\"product_type\"],training_data[\"price_doc\"])"
      ]
    },
    {
      "cell_type": "code",
      "execution_count": null,
      "metadata": {
        "_cell_guid": "4bdb2c45-66e0-dae1-c58f-ffed0cd633f4"
      },
      "outputs": [],
      "source": [
        "#Give the 146 unique sub locations a categorical value:\n",
        "training_data[\"sub_area\"][training_data[\"sub_area\"]==\"Bibirevo\"]=0\n",
        "training_data[\"sub_area\"][training_data[\"sub_area\"]==\"Nagatinskij Zaton\"]=1\n",
        "training_data[\"sub_area\"][training_data[\"sub_area\"]==\"Tekstil'shhiki\"]=2\n",
        "training_data[\"sub_area\"][training_data[\"sub_area\"]==\"Mitino\"]=3\n",
        "training_data[\"sub_area\"][training_data[\"sub_area\"]==\"Basmannoe\"]=4\n",
        "training_data[\"sub_area\"][training_data[\"sub_area\"]==\"Nizhegorodskoe\"]=5\n",
        "training_data[\"sub_area\"][training_data[\"sub_area\"]==\"Sokol'niki\"]=6\n",
        "training_data[\"sub_area\"][training_data[\"sub_area\"]==\"Koptevo\"]=7\n",
        "training_data[\"sub_area\"][training_data[\"sub_area\"]==\"Kuncevo\"]=8\n",
        "training_data[\"sub_area\"][training_data[\"sub_area\"]==\"Kosino-Uhtomskoe\"]=9\n",
        "training_data[\"sub_area\"][training_data[\"sub_area\"]==\"Zapadnoe Degunino\"]=10\n",
        "training_data[\"sub_area\"][training_data[\"sub_area\"]==\"Presnenskoe\"]=11\n",
        "training_data[\"sub_area\"][training_data[\"sub_area\"]==\"Lefortovo\"]=12\n",
        "training_data[\"sub_area\"][training_data[\"sub_area\"]==\"Mar'ino\"]=13\n",
        "training_data[\"sub_area\"][training_data[\"sub_area\"]==\"Kuz'minki\"]=14\n",
        "training_data[\"sub_area\"][training_data[\"sub_area\"]==\"Nagornoe\"]=15\n",
        "training_data[\"sub_area\"][training_data[\"sub_area\"]==\"Gol'janovo\"]=16\n",
        "training_data[\"sub_area\"][training_data[\"sub_area\"]==\"Vnukovo\"]=17\n",
        "training_data[\"sub_area\"][training_data[\"sub_area\"]==\"Juzhnoe Tushino\"]=18\n",
        "training_data[\"sub_area\"][training_data[\"sub_area\"]==\"Severnoe Tushino\"]=19\n",
        "training_data[\"sub_area\"][training_data[\"sub_area\"]==\"Chertanovo Central'noe\"]=20\n",
        "training_data[\"sub_area\"][training_data[\"sub_area\"]==\"Fili Davydkovo\"]=21\n",
        "training_data[\"sub_area\"][training_data[\"sub_area\"]==\"Otradnoe\"]=22\n",
        "training_data[\"sub_area\"][training_data[\"sub_area\"]==\"Novo-Peredelkino\"]=23\n",
        "training_data[\"sub_area\"][training_data[\"sub_area\"]==\"Bogorodskoe\"]=24\n",
        "training_data[\"sub_area\"][training_data[\"sub_area\"]==\"Jaroslavskoe\"]=25\n",
        "training_data[\"sub_area\"][training_data[\"sub_area\"]==\"Strogino\"]=26\n",
        "training_data[\"sub_area\"][training_data[\"sub_area\"]==\"Hovrino\"]=27\n",
        "training_data[\"sub_area\"][training_data[\"sub_area\"]==\"Moskvorech'e-Saburovo\"]=28\n",
        "training_data[\"sub_area\"][training_data[\"sub_area\"]==\"Staroe Krjukovo\"]=29\n",
        "training_data[\"sub_area\"][training_data[\"sub_area\"]==\"Ljublino\"]=30\n",
        "training_data[\"sub_area\"][training_data[\"sub_area\"]==\"Caricyno\"]=31\n",
        "training_data[\"sub_area\"][training_data[\"sub_area\"]==\"Veshnjaki\"]=32\n",
        "training_data[\"sub_area\"][training_data[\"sub_area\"]==\"Danilovskoe\"]=33\n",
        "training_data[\"sub_area\"][training_data[\"sub_area\"]==\"Preobrazhenskoe\"]=34\n",
        "training_data[\"sub_area\"][training_data[\"sub_area\"]==\"Kon'kovo\"]=35\n",
        "training_data[\"sub_area\"][training_data[\"sub_area\"]==\"Brateevo\"]=36\n",
        "training_data[\"sub_area\"][training_data[\"sub_area\"]==\"Vostochnoe Izmajlovo\"]=37\n",
        "training_data[\"sub_area\"][training_data[\"sub_area\"]==\"Vyhino-Zhulebino\"]=38\n",
        "training_data[\"sub_area\"][training_data[\"sub_area\"]==\"Donskoe\"]=39\n",
        "training_data[\"sub_area\"][training_data[\"sub_area\"]==\"Novogireevo\"]=40\n",
        "training_data[\"sub_area\"][training_data[\"sub_area\"]==\"Juzhnoe Butovo\"]=41\n",
        "training_data[\"sub_area\"][training_data[\"sub_area\"]==\"Sokol\"]=42\n",
        "training_data[\"sub_area\"][training_data[\"sub_area\"]==\"Kurkino\"]=43\n",
        "training_data[\"sub_area\"][training_data[\"sub_area\"]==\"Izmajlovo\"]=44\n",
        "training_data[\"sub_area\"][training_data[\"sub_area\"]==\"Severnoe Medvedkovo\"]=45\n",
        "training_data[\"sub_area\"][training_data[\"sub_area\"]==\"Rostokino\"]=46\n",
        "training_data[\"sub_area\"][training_data[\"sub_area\"]==\"Orehovo-Borisovo Severnoe\"]=47\n",
        "training_data[\"sub_area\"][training_data[\"sub_area\"]==\"Ochakovo-Matveevskoe\"]=48\n",
        "training_data[\"sub_area\"][training_data[\"sub_area\"]==\"Taganskoe\"]=49\n",
        "training_data[\"sub_area\"][training_data[\"sub_area\"]==\"Dmitrovskoe\"]=50\n",
        "training_data[\"sub_area\"][training_data[\"sub_area\"]==\"Orehovo-Borisovo Juzhnoe\"]=51\n",
        "training_data[\"sub_area\"][training_data[\"sub_area\"]==\"Teplyj Stan\"]=52\n",
        "training_data[\"sub_area\"][training_data[\"sub_area\"]==\"Babushkinskoe\"]=53\n",
        "training_data[\"sub_area\"][training_data[\"sub_area\"]==\"Pokrovskoe Streshnevo\"]=54\n",
        "training_data[\"sub_area\"][training_data[\"sub_area\"]==\"Obruchevskoe\"]=55\n",
        "training_data[\"sub_area\"][training_data[\"sub_area\"]==\"Filevskij Park\"]=56\n",
        "training_data[\"sub_area\"][training_data[\"sub_area\"]==\"Troparevo-Nikulino\"]=57\n",
        "training_data[\"sub_area\"][training_data[\"sub_area\"]==\"Severnoe Butovo\"]=58\n",
        "training_data[\"sub_area\"][training_data[\"sub_area\"]==\"Hamovniki\"]=59\n",
        "training_data[\"sub_area\"][training_data[\"sub_area\"]==\"Solncevo\"]=60\n",
        "training_data[\"sub_area\"][training_data[\"sub_area\"]==\"Dorogomilovo\"]=61\n",
        "training_data[\"sub_area\"][training_data[\"sub_area\"]==\"Timirjazevskoe\"]=62\n",
        "training_data[\"sub_area\"][training_data[\"sub_area\"]==\"Lianozovo\"]=63\n",
        "training_data[\"sub_area\"][training_data[\"sub_area\"]==\"Pechatniki\"]=64\n",
        "training_data[\"sub_area\"][training_data[\"sub_area\"]==\"Krjukovo\"]=65\n",
        "training_data[\"sub_area\"][training_data[\"sub_area\"]==\"Jasenevo\"]=66\n",
        "training_data[\"sub_area\"][training_data[\"sub_area\"]==\"Chertanovo Severnoe\"]=67\n",
        "training_data[\"sub_area\"][training_data[\"sub_area\"]==\"Rjazanskij\"]=68\n",
        "training_data[\"sub_area\"][training_data[\"sub_area\"]==\"Silino\"]=69\n",
        "training_data[\"sub_area\"][training_data[\"sub_area\"]==\"Ivanovskoe\"]=70\n",
        "training_data[\"sub_area\"][training_data[\"sub_area\"]==\"Golovinskoe\"]=71\n",
        "training_data[\"sub_area\"][training_data[\"sub_area\"]==\"Novokosino\"]=72\n",
        "training_data[\"sub_area\"][training_data[\"sub_area\"]==\"Nagatino-Sadovniki\"]=73\n",
        "training_data[\"sub_area\"][training_data[\"sub_area\"]==\"Birjulevo Vostochnoe\"]=74\n",
        "training_data[\"sub_area\"][training_data[\"sub_area\"]==\"Severnoe Izmajlovo\"]=75\n",
        "training_data[\"sub_area\"][training_data[\"sub_area\"]==\"Sokolinaja Gora\"]=76\n",
        "training_data[\"sub_area\"][training_data[\"sub_area\"]==\"Vostochnoe Degunino\"]=77\n",
        "training_data[\"sub_area\"][training_data[\"sub_area\"]==\"Prospekt Vernadskogo\"]=78\n",
        "training_data[\"sub_area\"][training_data[\"sub_area\"]==\"Savelki\"]=79\n",
        "training_data[\"sub_area\"][training_data[\"sub_area\"]==\"Ajeroport\"]=80\n",
        "training_data[\"sub_area\"][training_data[\"sub_area\"]==\"Vojkovskoe\"]=81\n",
        "training_data[\"sub_area\"][training_data[\"sub_area\"]==\"Beskudnikovskoe\"]=82\n",
        "training_data[\"sub_area\"][training_data[\"sub_area\"]==\"Krylatskoe\"]=83\n",
        "training_data[\"sub_area\"][training_data[\"sub_area\"]==\"Juzhnoportovoe\"]=84\n",
        "training_data[\"sub_area\"][training_data[\"sub_area\"]==\"Perovo\"]=85\n",
        "training_data[\"sub_area\"][training_data[\"sub_area\"]==\"Akademicheskoe\"]=86\n",
        "training_data[\"sub_area\"][training_data[\"sub_area\"]==\"Horoshevo-Mnevniki\"]=87\n",
        "training_data[\"sub_area\"][training_data[\"sub_area\"]==\"Shhukino\"]=88\n",
        "training_data[\"sub_area\"][training_data[\"sub_area\"]==\"Kapotnja\"]=89\n",
        "training_data[\"sub_area\"][training_data[\"sub_area\"]==\"Horoshevskoe\"]=90\n",
        "training_data[\"sub_area\"][training_data[\"sub_area\"]==\"Marfino\"]=91\n",
        "training_data[\"sub_area\"][training_data[\"sub_area\"]==\"Chertanovo Juzhnoe\"]=92\n",
        "training_data[\"sub_area\"][training_data[\"sub_area\"]==\"Savelovskoe\"]=93\n",
        "training_data[\"sub_area\"][training_data[\"sub_area\"]==\"Birjulevo Zapadnoe\"]=94\n",
        "training_data[\"sub_area\"][training_data[\"sub_area\"]==\"Nekrasovka\"]=95\n",
        "training_data[\"sub_area\"][training_data[\"sub_area\"]==\"Cheremushki\"]=96\n",
        "training_data[\"sub_area\"][training_data[\"sub_area\"]==\"Sviblovo\"]=97\n",
        "training_data[\"sub_area\"][training_data[\"sub_area\"]==\"Alekseevskoe\"]=98\n",
        "training_data[\"sub_area\"][training_data[\"sub_area\"]==\"Krasnosel'skoe\"]=99\n",
        "training_data[\"sub_area\"][training_data[\"sub_area\"]==\"Kotlovka\"]=100\n",
        "training_data[\"sub_area\"][training_data[\"sub_area\"]==\"Zjuzino\"]=101\n",
        "training_data[\"sub_area\"][training_data[\"sub_area\"]==\"Ostankinskoe\"]=102\n",
        "training_data[\"sub_area\"][training_data[\"sub_area\"]==\"Tverskoe\"]=103\n",
        "training_data[\"sub_area\"][training_data[\"sub_area\"]==\"Losinoostrovskoe\"]=104\n",
        "training_data[\"sub_area\"][training_data[\"sub_area\"]==\"Butyrskoe\"]=105\n",
        "training_data[\"sub_area\"][training_data[\"sub_area\"]==\"Matushkino\"]=106\n",
        "training_data[\"sub_area\"][training_data[\"sub_area\"]==\"Metrogorodok\"]=107\n",
        "training_data[\"sub_area\"][training_data[\"sub_area\"]==\"Juzhnoe Medvedkovo\"]=108\n",
        "training_data[\"sub_area\"][training_data[\"sub_area\"]==\"Lomonosovskoe\"]=109\n",
        "training_data[\"sub_area\"][training_data[\"sub_area\"]==\"Jakimanka\"]=110\n",
        "training_data[\"sub_area\"][training_data[\"sub_area\"]==\"Mozhajskoe\"]=111\n",
        "training_data[\"sub_area\"][training_data[\"sub_area\"]==\"Levoberezhnoe\"]=112\n",
        "training_data[\"sub_area\"][training_data[\"sub_area\"]==\"Mar'ina Roshha\"]=113\n",
        "training_data[\"sub_area\"][training_data[\"sub_area\"]==\"Gagarinskoe\"]=114\n",
        "training_data[\"sub_area\"][training_data[\"sub_area\"]==\"Zamoskvorech'e\"]=115\n",
        "training_data[\"sub_area\"][training_data[\"sub_area\"]==\"Altuf'evskoe\"]=116\n",
        "training_data[\"sub_area\"][training_data[\"sub_area\"]==\"Ramenki\"]=117\n",
        "training_data[\"sub_area\"][training_data[\"sub_area\"]==\"Zjablikovo\"]=118\n",
        "training_data[\"sub_area\"][training_data[\"sub_area\"]==\"Meshhanskoe\"]=119\n",
        "training_data[\"sub_area\"][training_data[\"sub_area\"]==\"Severnoe\"]=120\n",
        "training_data[\"sub_area\"][training_data[\"sub_area\"]==\"Begovoe\"]=121\n",
        "training_data[\"sub_area\"][training_data[\"sub_area\"]==\"Arbat\"]=122\n",
        "training_data[\"sub_area\"][training_data[\"sub_area\"]==\"Poselenie Sosenskoe\"]=123\n",
        "training_data[\"sub_area\"][training_data[\"sub_area\"]==\"Poselenie Moskovskij\"]=124\n",
        "training_data[\"sub_area\"][training_data[\"sub_area\"]==\"Poselenie Pervomajskoe\"]=125\n",
        "training_data[\"sub_area\"][training_data[\"sub_area\"]==\"Poselenie Desjonovskoe\"]=126\n",
        "training_data[\"sub_area\"][training_data[\"sub_area\"]==\"Poselenie Voskresenskoe\"]=127\n",
        "training_data[\"sub_area\"][training_data[\"sub_area\"]==\"Poselenie Mosrentgen\"]=128\n",
        "training_data[\"sub_area\"][training_data[\"sub_area\"]==\"Troickij okrug\"]=129\n",
        "training_data[\"sub_area\"][training_data[\"sub_area\"]==\"Poselenie Shherbinka\"]=130\n",
        "training_data[\"sub_area\"][training_data[\"sub_area\"]==\"Poselenie Filimonkovskoe\"]=131\n",
        "training_data[\"sub_area\"][training_data[\"sub_area\"]==\"Poselenie Vnukovskoe\"]=132\n",
        "training_data[\"sub_area\"][training_data[\"sub_area\"]==\"Poselenie Marushkinskoe\"]=133\n",
        "training_data[\"sub_area\"][training_data[\"sub_area\"]==\"Poselenie Shhapovskoe\"]=134\n",
        "training_data[\"sub_area\"][training_data[\"sub_area\"]==\"Poselenie Rjazanovskoe\"]=135\n",
        "training_data[\"sub_area\"][training_data[\"sub_area\"]==\"Poselenie Kokoshkino\"]=136\n",
        "training_data[\"sub_area\"][training_data[\"sub_area\"]==\"Vostochnoe\"]=137\n",
        "training_data[\"sub_area\"][training_data[\"sub_area\"]==\"Poselenie Krasnopahorskoe\"]=138\n",
        "training_data[\"sub_area\"][training_data[\"sub_area\"]==\"Poselenie Novofedorovskoe\"]=139\n",
        "training_data[\"sub_area\"][training_data[\"sub_area\"]==\"Poselenie Voronovskoe\"]=140\n",
        "training_data[\"sub_area\"][training_data[\"sub_area\"]==\"Poselenie Klenovskoe\"]=141\n",
        "training_data[\"sub_area\"][training_data[\"sub_area\"]==\"Poselenie Rogovskoe\"]=142\n",
        "training_data[\"sub_area\"][training_data[\"sub_area\"]==\"Poselenie Kievskij\"]=143\n",
        "training_data[\"sub_area\"][training_data[\"sub_area\"]==\"Molzhaninovskoe\"]=144\n",
        "training_data[\"sub_area\"][training_data[\"sub_area\"]==\"Poselenie Mihajlovo-Jarcevskoe\"]=145"
      ]
    },
    {
      "cell_type": "code",
      "execution_count": null,
      "metadata": {
        "_cell_guid": "4038613a-d403-3009-a8a4-50ed1004c1b2"
      },
      "outputs": [],
      "source": [
        "#Check the House cost per location\n",
        "\n",
        "plt.scatter(training_data[\"sub_area\"],training_data[\"price_doc\"])"
      ]
    },
    {
      "cell_type": "markdown",
      "metadata": {
        "_cell_guid": "d69f4bf6-1b4a-83f7-fa3c-398f467654f3"
      },
      "source": [
        "Let's get a heatmap of all the variables impacting price_doc"
      ]
    },
    {
      "cell_type": "code",
      "execution_count": null,
      "metadata": {
        "_cell_guid": "fe9bc5e5-b6aa-0a4d-9439-0953764a688a"
      },
      "outputs": [],
      "source": [
        "#saleprice correlation matrix\n",
        "corrmat=training_data.corr()\n",
        "k = 10 #number of variables for heatmap\n",
        "cols = corrmat.nlargest(k, 'price_doc')['price_doc'].index\n",
        "cm = np.corrcoef(training_data[cols].values.T)\n",
        "sns.set(font_scale=1.25)\n",
        "hm = sns.heatmap(cm, cbar=True, annot=True, square=True, fmt='.2f', annot_kws={'size': 10}, yticklabels=cols.values, xticklabels=cols.values)\n",
        "plt.show()"
      ]
    },
    {
      "cell_type": "markdown",
      "metadata": {
        "_cell_guid": "dd33a8a6-1fdf-d1d5-57f8-572a56b04801"
      },
      "source": [
        "Let me identify dependent variables having null data"
      ]
    },
    {
      "cell_type": "code",
      "execution_count": null,
      "metadata": {
        "_cell_guid": "ccf776ed-2c65-df5c-5937-b4c30df8f6de"
      },
      "outputs": [],
      "source": [
        "total = training_data.isnull().sum().sort_values(ascending = False)\n",
        "percent = (training_data.isnull().sum()/training_data.isnull().count()).sort_values(ascending = False)\n",
        "missing_data = pd.concat([total,percent],axis=1,keys = [\"Total\",\"Percentage\"])\n",
        "print(missing_data)"
      ]
    },
    {
      "cell_type": "code",
      "execution_count": null,
      "metadata": {
        "_cell_guid": "e2b3c1c5-9aaf-5eea-609b-e4c3ccae7ca6"
      },
      "outputs": [],
      "source": [
        "training_data = training_data.drop(missing_data[missing_data[\"Total\"] > 1].index,1)\n",
        "print(training_data)"
      ]
    },
    {
      "cell_type": "code",
      "execution_count": null,
      "metadata": {
        "_cell_guid": "5ac024da-bf77-7424-8af4-44bb3726cf98"
      },
      "outputs": [],
      "source": [
        "corrmat=training_data.corr()\n",
        "k = 10 #number of variables for heatmap\n",
        "cols = corrmat.nlargest(k, 'price_doc')['price_doc'].index\n",
        "cm = np.corrcoef(training_data[cols].values.T)\n",
        "sns.set(font_scale=1.25)\n",
        "hm = sns.heatmap(cm, cbar=True, annot=True, square=True, fmt='.2f', annot_kws={'size': 10}, yticklabels=cols.values, xticklabels=cols.values)\n",
        "plt.show()"
      ]
    },
    {
      "cell_type": "markdown",
      "metadata": {
        "_cell_guid": "aa3fd83e-69d6-3932-10ac-5e4392270cca"
      },
      "source": [
        "Based on the above, does it mean that along with full_sq, the nearest office and sports centers also impact the house prices!!! More analysis required."
      ]
    }
  ],
  "metadata": {
    "_change_revision": 0,
    "_is_fork": false,
    "kernelspec": {
      "display_name": "Python 3",
      "language": "python",
      "name": "python3"
    },
    "language_info": {
      "codemirror_mode": {
        "name": "ipython",
        "version": 3
      },
      "file_extension": ".py",
      "mimetype": "text/x-python",
      "name": "python",
      "nbconvert_exporter": "python",
      "pygments_lexer": "ipython3",
      "version": "3.6.0"
    }
  },
  "nbformat": 4,
  "nbformat_minor": 0
}