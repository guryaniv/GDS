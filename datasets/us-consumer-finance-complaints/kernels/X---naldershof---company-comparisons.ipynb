{"cells":[
 {
  "cell_type": "code",
  "execution_count": null,
  "metadata": {
   "collapsed": false
  },
  "outputs": [],
  "source": "import numpy as np # linear algebra\nimport pandas as pd # data processing, CSV file I/O (e.g. pd.read_csv)\n%matplotlib inline\n\n# Any results you write to the current directory are saved as output."
 },
 {
  "cell_type": "code",
  "execution_count": null,
  "metadata": {
   "collapsed": false
  },
  "outputs": [],
  "source": "complaints = pd.read_csv(\"../input/consumer_complaints.csv\", low_memory=False)"
 },
 {
  "cell_type": "markdown",
  "metadata": {},
  "source": "# Introduction\n\nSince this data is focused on consumer complaints, we'd like to know if there are companies which\nreceive far more complaints than you'd expect based on their size. \n\nFirst we'll simply identify outliers, but after that we'd like to use some more sophisticated \nmetrics to understand which companies are receiving \"worse\" complaints than others."
 },
 {
  "cell_type": "code",
  "execution_count": null,
  "metadata": {
   "collapsed": false
  },
  "outputs": [],
  "source": ""
 },
 {
  "cell_type": "markdown",
  "metadata": {},
  "source": "### Complaints by Company "
 },
 {
  "cell_type": "code",
  "execution_count": null,
  "metadata": {
   "collapsed": false
  },
  "outputs": [],
  "source": "# The amount of complaints each company has\ngrouped_by_company = complaints.company.value_counts()\n\n# Check out the distribution\ngrouped_by_company.plot(kind='hist')"
 },
 {
  "cell_type": "markdown",
  "metadata": {},
  "source": "So it turns out that most companys have 1 complaint. This shouldn't be very surprising, there are\nlots of very very small companies out there. \n\nIn order to limit this to \"reasonably sizeable\" companies we'll limit our dataset to companies \nwhich have at least 100 complaints. This number is rather arbitrary. \n\nThere are likely some very interesting insights that could be found by looking at \"small\"\ncompanies who have quickly accrued complaints, and this data set would be very useful for detecting \nfraud, but this is outside the scope of the current investigation."
 },
 {
  "cell_type": "code",
  "execution_count": null,
  "metadata": {
   "collapsed": false
  },
  "outputs": [],
  "source": ""
 },
 {
  "cell_type": "code",
  "execution_count": null,
  "metadata": {
   "collapsed": false
  },
  "outputs": [],
  "source": "grouped_by_lcompany = grouped_by_company[grouped_by_company > 100]\nprint ('Original dataset has {} companies'.format(grouped_by_company.size)) \nprint ('Strictly limited dataset has {} companies'.format(grouped_by_lcompany.size)) "
 },
 {
  "cell_type": "code",
  "execution_count": null,
  "metadata": {
   "collapsed": false
  },
  "outputs": [],
  "source": "company_chart = grouped_by_lcompany.head(25).plot(kind='bar', title='Max Complaints')"
 },
 {
  "cell_type": "code",
  "execution_count": null,
  "metadata": {
   "collapsed": false
  },
  "outputs": [],
  "source": "# This dataframe is then only those companies which have received at least 100 complaints in this\n# dataset. From there we can do some deeper digging into those various companies\n\nlcompany_complaints = complaints[complaints.company.isin(grouped_by_lcompany.index)]"
 },
 {
  "cell_type": "markdown",
  "metadata": {},
  "source": "So from here I was going to investigate some interesting information about how each of these \ncompanies compared to each other, but the problem is doing this accurately requires one of two \nthings, either information about the size of the company, or information about the products they\nprimarily deal in. \n\nThere's likely some interesting insight into how they respond to complaints, and what their resolution \nlooks like. But for now I'm pausing to tackle this data from a different angle, rather looking\nat what this data looks like by product type."
 },
 {
  "cell_type": "code",
  "execution_count": null,
  "metadata": {
   "collapsed": false
  },
  "outputs": [],
  "source": ""
 }
],"metadata":{"kernelspec":{"display_name":"Python 3","language":"python","name":"python3"}}, "nbformat": 4, "nbformat_minor": 0}