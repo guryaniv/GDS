{
  "metadata": {
    "kernelspec": {
      "display_name": "Python 3",
      "language": "python",
      "name": "python3"
    },
    "language_info": {
      "codemirror_mode": {
        "name": "ipython",
        "version": 3
      },
      "file_extension": ".py",
      "mimetype": "text/x-python",
      "name": "python",
      "nbconvert_exporter": "python",
      "pygments_lexer": "ipython3",
      "version": "3.5.2"
    }
  },
  "nbformat": 4,
  "nbformat_minor": 0,
  "cells": [
    {
      "metadata": {
        "_cell_guid": "1221f038-5503-b213-9517-48d7e732992f",
        "_active": false,
        "collapsed": false
      },
      "source": "import time\nimport statistics\nimport collections\nimport numpy\nimport pandas as pd\nfrom IPython.display import display, FileLinks, HTML\nfrom sklearn.metrics import accuracy_score, log_loss\nfrom sklearn.preprocessing import LabelEncoder, StandardScaler\nfrom sklearn.linear_model import LogisticRegression\nfrom sklearn.discriminant_analysis import LinearDiscriminantAnalysis\nfrom sklearn.model_selection import StratifiedShuffleSplit, cross_val_score\nfrom sklearn.svm import LinearSVC, SVC\nfrom sklearn.calibration import CalibratedClassifierCV\nfrom sklearn.pipeline import make_pipeline\nimport matplotlib.pyplot as plt\nimport matplotlib.image",
      "execution_count": 99,
      "cell_type": "code",
      "outputs": [],
      "execution_state": "idle"
    },
    {
      "metadata": {
        "_cell_guid": "ff8acff1-531a-2fcc-028c-afd1391e5e76",
        "_active": false,
        "collapsed": false
      },
      "source": "train = pd.read_csv('../input/train.csv')\n\nspecies = train.pop('species')\nle = LabelEncoder().fit(species.values)\ny = le.transform(species)\n\nids = train.pop('id').values\nx = train.values\nscaler = StandardScaler().fit(x)\nx = scaler.transform(x)\n\n#x.shape, y.shape\nids",
      "execution_count": 94,
      "cell_type": "code",
      "outputs": [],
      "execution_state": "idle"
    },
    {
      "metadata": {
        "_cell_guid": "8da7daf0-6b5d-73e8-3f5b-8cd3cff8f1ee",
        "_active": true,
        "collapsed": false
      },
      "source": "#plt.figure()\nfor i in range(99):\n    id = ids[y == i][0]\n    #display(id)\n    img = matplotlib.image.imread('../input/images/{}.jpg'.format(id))\n    plt.subplot(10, 10, i + 1)\n    plt.title('imageID = ' + str(id))\n    \n#    display(ids[y == i])",
      "execution_count": 103,
      "cell_type": "code",
      "outputs": [],
      "execution_state": "idle"
    },
    {
      "metadata": {
        "_cell_guid": "dc8f1773-731a-26fb-085d-1cb65378de26",
        "_active": false,
        "collapsed": false
      },
      "source": "start = time.time()\n\nc = LogisticRegression(C=3000)#, penalty='l1')#, multi_class='multinomial', solver='sag')\n\nscores = cross_val_score(c, x, y, cv=5, scoring='neg_log_loss')\n\ndisplay(scores)\ndisplay('Loss: %0.3f (+/- %0.3f)' % (scores.mean(), scores.std() * 2))\n\ndisplay('it took {}s'.format(time.time() - start))",
      "execution_count": 90,
      "cell_type": "code",
      "outputs": [],
      "execution_state": "idle"
    },
    {
      "cell_type": "code",
      "execution_count": 77,
      "metadata": {
        "_cell_guid": "0247de3e-2546-bb00-440f-47ff9f5c7e62",
        "_active": false,
        "collapsed": false
      },
      "outputs": [],
      "source": "c = c.fit(x, y)\n\ntest = pd.read_csv('../input/test.csv')\ntest_ids = test.pop('id')\nx_test = test.values\nx_test = scaler.transform(x_test)\n\ny_test = c.predict_proba(x_test)\n\nnumpy.abs(c.coef_).sum(axis=0)#.reshape(3, 64)\n\n#pd.DataFrame(y_test, index=test_ids, columns=le.classes_).to_csv('result.csv')\n",
      "execution_state": "idle"
    },
    {
      "metadata": {
        "_cell_guid": "0445a428-b3ba-6617-5cd0-77d265d00f78",
        "_active": false,
        "collapsed": false
      },
      "source": "HTML('<pre>{}</pre>'.format(data))",
      "execution_count": 52,
      "cell_type": "code",
      "outputs": [],
      "execution_state": "idle"
    },
    {
      "cell_type": "code",
      "execution_count": null,
      "metadata": {
        "_cell_guid": "d1cbc44e-f04a-af82-8cf9-1129b6e00b29",
        "_active": false
      },
      "outputs": [],
      "source": "import matplotlib.pyplot as plt\nimport matplotlib.image\n\nfor i in range(1, 100):\n    img = matplotlib.image.imread('../input/images/{}.jpg'.format(i))\n    _ = plt.figure()\n    _ = plt.imshow(img)\nplt.show()"
    }
  ]
}