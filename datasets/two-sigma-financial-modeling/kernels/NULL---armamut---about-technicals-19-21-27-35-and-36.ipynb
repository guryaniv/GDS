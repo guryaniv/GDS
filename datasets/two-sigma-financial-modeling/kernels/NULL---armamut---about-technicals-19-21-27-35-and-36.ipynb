{
  "cells": [
    {
      "cell_type": "markdown",
      "metadata": {
        "_cell_guid": "8d229ed0-00c4-3fb6-c7a6-11b5b9bbe6ee"
      },
      "source": [
        "I have found something interesting about technical 19,21,27,35 and 36, and wanted to share with you. What could these indicators be?"
      ]
    },
    {
      "cell_type": "code",
      "execution_count": null,
      "metadata": {
        "_cell_guid": "f58420f0-de7e-8b0c-9465-adc156fcf5dc"
      },
      "outputs": [],
      "source": [
        "# This Python 3 environment comes with many helpful analytics libraries installed\n",
        "# It is defined by the kaggle/python docker image: https://github.com/kaggle/docker-python\n",
        "# For example, here's several helpful packages to load in \n",
        "\n",
        "# The usual stuff here.\n",
        "import numpy as np # linear algebra\n",
        "import pandas as pd # data processing, CSV file I/O (e.g. pd.read_csv)\n",
        "import matplotlib.pyplot as plt\n",
        "import seaborn as sns\n",
        "\n",
        "%matplotlib inline\n",
        "\n",
        "pd.set_option('display.max_columns', 120)"
      ]
    },
    {
      "cell_type": "code",
      "execution_count": null,
      "metadata": {
        "_cell_guid": "d70ed9c8-b336-8813-180a-ccf3a820765f"
      },
      "outputs": [],
      "source": [
        "with pd.HDFStore(\"../input/train.h5\", \"r\") as train:\n",
        "    # Note that the \"train\" dataframe is the only dataframe in the file\n",
        "    df = train.get(\"train\")"
      ]
    },
    {
      "cell_type": "code",
      "execution_count": null,
      "metadata": {
        "_cell_guid": "dea6c560-62fe-278b-ddb2-de85e94a3c17"
      },
      "outputs": [],
      "source": [
        "df.head()"
      ]
    },
    {
      "cell_type": "code",
      "execution_count": null,
      "metadata": {
        "_cell_guid": "5579cd31-47ff-71e7-19d6-a6a108c98054"
      },
      "outputs": [],
      "source": [
        "a = df[df['id'] == 30]\n",
        "ac = a['y'].cumsum()\n",
        "ad = a['technical_19'].cumsum() / 350.0\n",
        "ae = a['technical_21'].cumsum() / 200.0\n",
        "af = a['technical_27'].cumsum() / 450.0\n",
        "ag = a['technical_35'].cumsum() / 500.0\n",
        "ah = a['technical_36'].cumsum() / 500.0\n",
        "\n",
        "ax = ac.plot()\n",
        "ad.plot(ax=ax)\n",
        "ae.plot(ax=ax)\n",
        "af.plot(ax=ax)\n",
        "ag.plot(ax=ax)\n",
        "ah.plot(ax=ax)"
      ]
    },
    {
      "cell_type": "markdown",
      "metadata": {
        "_cell_guid": "d2ec52bc-1966-5c01-3392-f792e57fc34a"
      },
      "source": [
        "These technicals seems to be related with each other to some degree. You can also explore this with different assets. Please feel free to comment if you have an idea. Thank you."
      ]
    },
    {
      "cell_type": "code",
      "execution_count": null,
      "metadata": {
        "_cell_guid": "0d86b970-d064-c2e6-2ae9-5d4cfb0dde5c"
      },
      "outputs": [],
      "source": [
        "a = df[df['id'] == 11]\n",
        "ac = a['y'].cumsum()\n",
        "ad = a['technical_19'].cumsum() / 350.0\n",
        "ae = a['technical_21'].cumsum() / 200.0\n",
        "af = a['technical_27'].cumsum() / 450.0\n",
        "ag = a['technical_35'].cumsum() / 500.0\n",
        "ah = a['technical_36'].cumsum() / 500.0\n",
        "\n",
        "ax = ac.plot()\n",
        "ad.plot(ax=ax)\n",
        "ae.plot(ax=ax)\n",
        "af.plot(ax=ax)\n",
        "ag.plot(ax=ax)\n",
        "ah.plot(ax=ax)"
      ]
    },
    {
      "cell_type": "code",
      "execution_count": null,
      "metadata": {
        "_cell_guid": "07c572bd-d47e-35cd-0608-03a9fe9fd61a"
      },
      "outputs": [],
      "source": [
        "a = df[df['id'] == 501]\n",
        "ac = a['y'].cumsum()\n",
        "ad = a['technical_19'].cumsum() / 350.0\n",
        "ae = a['technical_21'].cumsum() / 200.0\n",
        "af = a['technical_27'].cumsum() / 450.0\n",
        "ag = a['technical_35'].cumsum() / 500.0\n",
        "ah = a['technical_36'].cumsum() / 500.0\n",
        "\n",
        "ax = ac.plot()\n",
        "ad.plot(ax=ax)\n",
        "ae.plot(ax=ax)\n",
        "af.plot(ax=ax)\n",
        "ag.plot(ax=ax)\n",
        "ah.plot(ax=ax)"
      ]
    },
    {
      "cell_type": "code",
      "execution_count": null,
      "metadata": {
        "_cell_guid": "cc8a5eeb-955e-071a-6deb-a6910043e48d"
      },
      "outputs": [],
      "source": [
        ""
      ]
    }
  ],
  "metadata": {
    "_change_revision": 0,
    "_is_fork": false,
    "kernelspec": {
      "display_name": "Python 3",
      "language": "python",
      "name": "python3"
    },
    "language_info": {
      "codemirror_mode": {
        "name": "ipython",
        "version": 3
      },
      "file_extension": ".py",
      "mimetype": "text/x-python",
      "name": "python",
      "nbconvert_exporter": "python",
      "pygments_lexer": "ipython3",
      "version": "3.6.0"
    }
  },
  "nbformat": 4,
  "nbformat_minor": 0
}