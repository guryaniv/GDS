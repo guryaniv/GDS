{
  "cells": [
    {
      "cell_type": "markdown",
      "metadata": {
        "_cell_guid": "fe48ae03-b559-fe44-eb66-f9e578fe2e60"
      },
      "source": [
        "# **Real Estate price prediction (Sberbank)**"
      ]
    },
    {
      "cell_type": "code",
      "execution_count": null,
      "metadata": {
        "_cell_guid": "b8664be3-7b18-0686-b6e8-980040d91e71"
      },
      "outputs": [],
      "source": [
        "import scipy as sc\n",
        "import numpy as np\n",
        "import pandas as pd\n",
        "import sklearn.ensemble\n",
        "import random"
      ]
    },
    {
      "cell_type": "markdown",
      "metadata": {
        "_cell_guid": "5a54e858-a072-56eb-ca25-db6ed8f34624"
      },
      "source": [
        "## Macro data preparation\n",
        "\n",
        "To fill means instead of nulls"
      ]
    },
    {
      "cell_type": "code",
      "execution_count": null,
      "metadata": {
        "_cell_guid": "fbe06f9c-3454-d85a-9484-16d558b4df9c"
      },
      "outputs": [],
      "source": [
        "macro = pd.read_csv('../input/macro.csv', sep = ',', header = 0)\n",
        "macro.head()"
      ]
    },
    {
      "cell_type": "code",
      "execution_count": null,
      "metadata": {
        "_cell_guid": "c7878e1c-6c1a-ec23-3861-244054decd53"
      },
      "outputs": [],
      "source": [
        "macro.rename(columns={'rent_price_4+room_bus':'rent_price_4room_bus'}, inplace=True)"
      ]
    },
    {
      "cell_type": "code",
      "execution_count": null,
      "metadata": {
        "_cell_guid": "71cc4275-f741-f97b-5fd2-02917fa1ed9c"
      },
      "outputs": [],
      "source": [
        "macro.child_on_acc_pre_school.value_counts()"
      ]
    },
    {
      "cell_type": "code",
      "execution_count": null,
      "metadata": {
        "_cell_guid": "ac7f7532-fc1c-9f13-28d2-74af212f6e7c"
      },
      "outputs": [],
      "source": [
        "k=0\n",
        "msum=0.\n",
        "for i in range(macro.shape[0]):   \n",
        "    chld= str(macro.child_on_acc_pre_school[[i]].values)\n",
        "    if pd.isnull(macro.child_on_acc_pre_school[[i]].values)==False :\n",
        "        chld=chld[2:-2]\n",
        "    else:\n",
        "        chld=chld[1:-1]\n",
        "    \n",
        "    if chld!='#!' or pd.isnull(macro.child_on_acc_pre_school[[i]].values)==True :\n",
        "        \n",
        "        chld=str.replace(chld, \",\" , \".\")\n",
        "        macro.set_value( i,'child_on_acc_pre_school',float(chld) )\n",
        "        if pd.isnull(macro.child_on_acc_pre_school[[i]].values)==False:\n",
        "            k+=1\n",
        "            \n",
        "            msum+=float(chld)\n",
        "\n",
        "for i in range(macro.shape[0]):\n",
        "    chld= str(macro.child_on_acc_pre_school[[i]].values)\n",
        "    chld=chld[2:-2]\n",
        "    if chld=='#!':\n",
        "        val=  str((ord('#'))+ord('!')*0.01)\n",
        "        chld=str.replace(chld, \"#!\" , val)\n",
        "        macro.set_value( i,'child_on_acc_pre_school',float(chld) )\n",
        "        k+=1\n",
        "        msum+=float(chld)\n",
        "\n",
        "val=str(msum/k)\n",
        "\n",
        "\n",
        "for i in range(macro.shape[0]):\n",
        "    if pd.isnull(macro.child_on_acc_pre_school[[i]].values)==True:\n",
        "        chld=val\n",
        "        macro.set_value( i,'child_on_acc_pre_school',float(chld) )"
      ]
    },
    {
      "cell_type": "code",
      "execution_count": null,
      "metadata": {
        "_cell_guid": "878b8091-c98d-658c-c124-21eb14edb5f3"
      },
      "outputs": [],
      "source": [
        "macro.child_on_acc_pre_school.value_counts() #got full data"
      ]
    },
    {
      "cell_type": "code",
      "execution_count": null,
      "metadata": {
        "_cell_guid": "aa7b916a-4c58-b88e-ac20-85efff819fea"
      },
      "outputs": [],
      "source": [
        "macro.modern_education_share.value_counts()"
      ]
    },
    {
      "cell_type": "code",
      "execution_count": null,
      "metadata": {
        "_cell_guid": "6004c55a-56be-e859-6270-9235bee610f8"
      },
      "outputs": [],
      "source": [
        "k=0\n",
        "msum=0.\n",
        "for i in range(macro.shape[0]):   \n",
        "    chld= str(macro.modern_education_share[[i]].values)\n",
        "    if pd.isnull(macro.modern_education_share[[i]].values)==False :\n",
        "        chld=chld[2:-2]\n",
        "        chld=str.replace(chld, \",\" , \".\")\n",
        "        macro.set_value( i,'modern_education_share',float(chld) )\n",
        "        k+=1\n",
        "        msum+=float(chld)\n",
        "val=str(msum/k)\n",
        "for i in range(macro.shape[0]):\n",
        "    if pd.isnull(macro.modern_education_share[[i]].values)==True:\n",
        "        chld=val\n",
        "        macro.set_value( i,'modern_education_share',float(chld) )"
      ]
    },
    {
      "cell_type": "code",
      "execution_count": null,
      "metadata": {
        "_cell_guid": "f70df9b4-9ec9-6f09-01e8-6face2846a46"
      },
      "outputs": [],
      "source": [
        "macro.modern_education_share.value_counts() #got full data"
      ]
    },
    {
      "cell_type": "code",
      "execution_count": null,
      "metadata": {
        "_cell_guid": "817f39f3-6c93-e305-e4c4-1dae44fd332a"
      },
      "outputs": [],
      "source": [
        "macro.old_education_build_share.value_counts()"
      ]
    },
    {
      "cell_type": "code",
      "execution_count": null,
      "metadata": {
        "_cell_guid": "c40f67d4-f446-c9fe-aa6e-eae88bad5708"
      },
      "outputs": [],
      "source": [
        "for i in range(macro.shape[0]):\n",
        "    if pd.isnull(macro['provision_retail_space_modern_sqm'][[i]].values) != False:\n",
        "                 macro.set_value( i,'provision_retail_space_modern_sqm',(690.+271)/2 )\n",
        "\n",
        "#macro['provision_retail_space_modern_sqm'] = \\\n",
        "#map(lambda x: x if pd.isnull(x)== False else (690.+271)/2, macro['provision_retail_space_modern_sqm'].values)\n",
        "macro.provision_retail_space_modern_sqm.value_counts()"
      ]
    },
    {
      "cell_type": "code",
      "execution_count": null,
      "metadata": {
        "_cell_guid": "2b7cf8ae-189b-6ad0-77c4-37177a3c458f"
      },
      "outputs": [],
      "source": [
        "for i in range(1,macro.shape[1]): #start i=1, macro[[0]] is date and this column is full\n",
        "    d = str(macro[[i]].columns.values)\n",
        "    d=d[2:-2]\n",
        "    mc= (lambda x: x if pd.isnull(x)== False else 0, macro[d].values)\n",
        "    \n",
        "    ms=0.\n",
        "    k=0\n",
        "    for j in range( len(mc)):\n",
        "        if pd.isnull(mc[1][j])==False and type(mc[1][j])!=map:\n",
        "            \n",
        "            ms=ms+mc[1][j]\n",
        "            k+=1\n",
        "        else:\n",
        "            k=len(mc)\n",
        "    mm=ms/k\n",
        "    macro[d].fillna(mm,  inplace=True)"
      ]
    },
    {
      "cell_type": "code",
      "execution_count": null,
      "metadata": {
        "_cell_guid": "80a1efb3-8c75-7129-d7a0-4e6e97393848"
      },
      "outputs": [],
      "source": [
        "shift =30\n",
        "for i in range(macro.shape[0]):\n",
        "    if (i+shift) <macro.shape[0]:\n",
        "        macro.set_value( i,'timestamp',macro.timestamp[i+shift])\n",
        "        \n",
        "    else:\n",
        "        macro.set_value( i,'timestamp',macro.timestamp[macro.shape[0]-i])"
      ]
    },
    {
      "cell_type": "markdown",
      "metadata": {
        "_cell_guid": "86975257-7e05-eafa-2ebc-12b44974ad49"
      },
      "source": [
        "## Train data preparation\n",
        "\n",
        "filling means/medians or zeros or new values instead of nulls (depends of data application)\n",
        "\n",
        "\n",
        "change categorial marks to numeric"
      ]
    },
    {
      "cell_type": "code",
      "execution_count": null,
      "metadata": {
        "_cell_guid": "9af1dd81-36bf-340f-c644-1937f52e6306"
      },
      "outputs": [],
      "source": [
        "train = pd.read_csv('../input/train.csv', sep = ',', header = 0)\n",
        "train.head()"
      ]
    },
    {
      "cell_type": "code",
      "execution_count": null,
      "metadata": {
        "_cell_guid": "38878fae-f4c3-39a4-6e8a-c76f3d6fbbd7"
      },
      "outputs": [],
      "source": [
        "train.build_year.value_counts() #correction of build year mistakes"
      ]
    },
    {
      "cell_type": "markdown",
      "metadata": {
        "_cell_guid": "5148baaa-95fe-fb63-8834-201ae11e2cf8"
      },
      "source": [
        "**Assumptions:**\n",
        "\n",
        "4965 --> maybe 1965\n",
        "\n",
        "2018--> maybe the buiding on the construction\n",
        "\n",
        "1691--> 1991\n",
        "\n",
        "215 --> 2015\n",
        "\n",
        "71, 20 --> 1971, 1920\n",
        "\n",
        "20052009 --->2009\n",
        "\n",
        "0, 1, 3 ---> 2000, 2001, 2003"
      ]
    },
    {
      "cell_type": "code",
      "execution_count": null,
      "metadata": {
        "_cell_guid": "e611cff6-9c7a-be13-5269-4c29fc0ad0ba"
      },
      "outputs": [],
      "source": [
        "for i in range(train.shape[0]):   \n",
        "    if train.build_year[[i]].values==4965 :\n",
        "        train.set_value( i,'build_year',int(1965) )\n",
        "    elif train.build_year[[i]].values==1691 :\n",
        "        train.set_value( i,'build_year',int(1991) )\n",
        "    elif train.build_year[[i]].values==215 :\n",
        "        train.set_value( i,'build_year',int(2015) )\n",
        "    elif train.build_year[[i]].values==71 :\n",
        "        train.set_value( i,'build_year',int(1971) )\n",
        "    elif train.build_year[[i]].values==20 :\n",
        "        train.set_value( i,'build_year',int(1920) )\n",
        "    elif train.build_year[[i]].values==0 :\n",
        "        train.set_value( i,'build_year', int(2000) )\n",
        "    elif train.build_year[[i]].values==1 :\n",
        "        train.set_value( i,'build_year',int(2001) )\n",
        "    elif train.build_year[[i]].values==3 :\n",
        "        train.set_value( i,'build_year',int(2003) )\n",
        "    elif train.build_year[[i]].values==20052009 :\n",
        "        train.set_value( i,'build_year',int(2009) )   \n",
        "    elif pd.isnull(train.build_year[[i]].values)==True :\n",
        "        train.set_value( i,'build_year',int(-1) )"
      ]
    },
    {
      "cell_type": "markdown",
      "metadata": {
        "_cell_guid": "eba13c93-02e4-8340-ae16-a0a0311c1f1e"
      },
      "source": [
        "set unreal marks for NULL accomodation parameters"
      ]
    },
    {
      "cell_type": "code",
      "execution_count": null,
      "metadata": {
        "_cell_guid": "79bde119-6118-b9f1-50f4-765e82ed0f66"
      },
      "outputs": [],
      "source": [
        "def set_unreal(collumn_list, data_array):\n",
        "    for c in collumn_list:\n",
        "        data_array[c].fillna(-1, inplace=True)\n",
        "        #= (lambda x: -1. if pd.isnull(x) == True else x ,data_array[c] ) #data_array[c]\n",
        "        \n",
        "        #for j in range (data_array.shape[0]):\n",
        "        #    if pd.isnull(data_array[c][[j]].values)==True :\n",
        "        #        data_array.set_value( j, c ,-1. )"
      ]
    },
    {
      "cell_type": "code",
      "execution_count": null,
      "metadata": {
        "_cell_guid": "5419cfa6-4e6d-cc14-9195-a5350fab9c12"
      },
      "outputs": [],
      "source": [
        "accom_param =['full_sq', 'life_sq','floor', 'max_floor', 'material', 'num_room', 'kitch_sq','state', \\\n",
        "              'preschool_education_centers_raion', 'ID_railroad_station_walk',\\\n",
        "             'school_education_centers_raion', 'school_education_centers_top_20_raion', 'healthcare_centers_raion', \\\n",
        "             'university_top_20_raion', 'sport_objects_raion', 'additional_education_raion', \\\n",
        "              'culture_objects_top_25', \\\n",
        "             'shopping_centers_raion', 'office_raion'] "
      ]
    },
    {
      "cell_type": "code",
      "execution_count": null,
      "metadata": {
        "_cell_guid": "7bc59d56-2e07-c2e2-243e-3b78dbf72034"
      },
      "outputs": [],
      "source": [
        "set_unreal(accom_param, train)"
      ]
    },
    {
      "cell_type": "markdown",
      "metadata": {
        "_cell_guid": "1442fc49-a7ce-403e-e0c2-44bce09350d0"
      },
      "source": [
        "no/yes identificaton"
      ]
    },
    {
      "cell_type": "code",
      "execution_count": null,
      "metadata": {
        "_cell_guid": "914de32b-4cfa-61f5-ad10-c4201e8a9073"
      },
      "outputs": [],
      "source": [
        "yesno=['culture_objects_top_25','thermal_power_plant_raion', 'incineration_raion', 'oil_chemistry_raion', \\\n",
        "      'radiation_raion', 'railroad_terminal_raion', 'big_market_raion', 'nuclear_reactor_raion', \\\n",
        "      'detention_facility_raion', 'water_1line', 'big_road1_1line', 'railroad_1line']"
      ]
    },
    {
      "cell_type": "markdown",
      "metadata": {
        "_cell_guid": "69850a8a-d5ad-7f22-f8a6-999273026384"
      },
      "source": [
        "set means for build count parameters"
      ]
    },
    {
      "cell_type": "code",
      "execution_count": null,
      "metadata": {
        "_cell_guid": "14ddb182-a8e7-28b7-f7db-41d007d05900"
      },
      "outputs": [],
      "source": [
        "def set_means_with_proportion (ammount, collumn_list, data_array):\n",
        "    bcM=[]\n",
        "    meanRb = (lambda x: x if pd.isnull(x)== False else 0., data_array[ammount])[1]\n",
        "    meanRb = sum(meanRb)\n",
        "    k= len(data_array[ammount].values.tolist())- data_array[ammount].values.tolist().count(None)\n",
        "    meanRb =meanRb/ k\n",
        "    # mean of estimated cells\n",
        "    for j in range(len(collumn_list)):   \n",
        "        meanb = (lambda x, y: x/y if pd.isnull(x)== False and y!=0. else 0., data_array[collumn_list[j]] , data_array[ammount])[1]\n",
        "        meanb = sum (meanb)\n",
        "        bcM.append(meanb/k) #mean of depended cells\n",
        "    data_array[ammount] = (lambda x: int(meanRb) if pd.isnull(x)== True else x, data_array[ammount])[1]\n",
        "    #set mean of ammount cell\n",
        "    for j in range(len(collumn_list)):\n",
        "        data_array[collumn_list[j]] = (lambda x: int(meanRb *bcM[j]) if pd.isnull(x)== True else x, data_array[collumn_list[j]])[1]\n",
        "\n",
        "        "
      ]
    },
    {
      "cell_type": "code",
      "execution_count": null,
      "metadata": {
        "_cell_guid": "c8b6022c-94be-2a3a-3164-8fac9a20fb7c"
      },
      "outputs": [],
      "source": [
        "bc=['build_count_block', 'build_count_wood', 'build_count_frame', 'build_count_brick', \\\n",
        "    'build_count_monolith',  'build_count_panel', 'build_count_foam', 'build_count_slag', \\\n",
        "    'build_count_mix']\n",
        "\n",
        "\n",
        "\n",
        "    "
      ]
    },
    {
      "cell_type": "code",
      "execution_count": null,
      "metadata": {
        "_cell_guid": "00ac1f54-c4d3-5f25-027d-3a1aa47edd43"
      },
      "outputs": [],
      "source": [
        "set_means_with_proportion('raion_build_count_with_material_info', bc, train)"
      ]
    },
    {
      "cell_type": "code",
      "execution_count": null,
      "metadata": {
        "_cell_guid": "50367d9d-20d7-09cc-551e-8a21023e701f"
      },
      "outputs": [],
      "source": [
        "bi = ['build_count_before_1920', 'build_count_1921-1945', \\\n",
        "      'build_count_1946-1970', 'build_count_1971-1995', 'build_count_after_1995']"
      ]
    },
    {
      "cell_type": "code",
      "execution_count": null,
      "metadata": {
        "_cell_guid": "c82d79bf-7ac8-0f70-f0f2-94e44bd5d164"
      },
      "outputs": [],
      "source": [
        "set_means_with_proportion('raion_build_count_with_builddate_info', bi, train)"
      ]
    },
    {
      "cell_type": "code",
      "execution_count": null,
      "metadata": {
        "_cell_guid": "2aa49ec5-8ac8-efb6-3b85-e575a25e5fcb"
      },
      "outputs": [],
      "source": [
        "means_only =['cafe_sum_500_min_price_avg','cafe_sum_500_max_price_avg','cafe_avg_price_500',\\\n",
        "            'cafe_sum_1000_min_price_avg','cafe_sum_1000_max_price_avg','cafe_avg_price_1000',\\\n",
        "            'cafe_sum_1500_min_price_avg','cafe_sum_1500_max_price_avg','cafe_avg_price_1500',\\\n",
        "            'cafe_sum_2000_min_price_avg','cafe_sum_2000_max_price_avg','cafe_avg_price_2000',\\\n",
        "            'cafe_sum_3000_min_price_avg','cafe_sum_3000_max_price_avg','cafe_avg_price_3000',\\\n",
        "            'prom_part_5000', \\\n",
        "            'cafe_sum_5000_min_price_avg','cafe_sum_5000_max_price_avg','cafe_avg_price_5000']"
      ]
    },
    {
      "cell_type": "code",
      "execution_count": null,
      "metadata": {
        "_cell_guid": "a6346d93-ddc7-d91d-8f2a-8d5e276745db"
      },
      "outputs": [],
      "source": [
        "def set_means (collumn_list, data_array):\n",
        "    for j in range(len(collumn_list)):\n",
        "        meanC = (lambda x: x if pd.isnull(x)== False else 0., data_array[collumn_list[j]])[1]\n",
        "        meanC = sum(meanC)\n",
        "        k= len(data_array[collumn_list[j]].values.tolist())- data_array[collumn_list[j]].values.tolist().count(None)\n",
        "        meanC =meanC/ k\n",
        "        data_array[collumn_list[j]] = (lambda x: float(meanC) if pd.isnull(x)== True else x, data_array[collumn_list[j]])[1]"
      ]
    },
    {
      "cell_type": "code",
      "execution_count": null,
      "metadata": {
        "_cell_guid": "ce11cd0b-fb14-49c9-c77a-3633e1a118ca"
      },
      "outputs": [],
      "source": [
        "set_means(means_only, train)"
      ]
    },
    {
      "cell_type": "code",
      "execution_count": null,
      "metadata": {
        "_cell_guid": "c2d9dfda-0f9a-35b9-4473-cbd5c4566448"
      },
      "outputs": [],
      "source": [
        "ps=['preschool_quota', 'school_quota', 'hospital_beds_raion', 'metro_min_walk','metro_km_walk',\\\n",
        "   'railroad_station_walk_km', 'railroad_station_walk_min']"
      ]
    },
    {
      "cell_type": "code",
      "execution_count": null,
      "metadata": {
        "_cell_guid": "a38300e6-665b-9105-bc17-dff645ecd822"
      },
      "outputs": [],
      "source": [
        "set_means(ps, train)"
      ]
    },
    {
      "cell_type": "code",
      "execution_count": null,
      "metadata": {
        "_cell_guid": "21477937-9ec6-c9cc-62f6-cf56767858d0"
      },
      "outputs": [],
      "source": [
        "def rename_digital_col_names(df):\n",
        "    df.rename(columns={'0_6_all': 'zero_6_all', '0_6_male':'zero_6_male', '0_6_female': 'zero_6_female',\n",
        "                          '7_14_all': 'seven_14_all','7_14_male': 'seven_14_male', '7_14_female': 'seven_14_female',\\\n",
        "                          '0_17_all':'zero_17_all','0_17_male':'zero_17_male',\\\n",
        "                          '0_17_female':'zero_17_female',\\\n",
        "                          '16_29_all':'sixteen_29_all','16_29_male':'sixteen_29_male',\\\n",
        "                          '16_29_female':'sixteen_29_female','0_13_all':'zero_13_all',\\\n",
        "                          '0_13_male':'zero_13_male','0_13_female':'zero_13_female'}, inplace=True)\n",
        "    df.rename(columns={'build_count_1921-1945':'build_count_1921_1945','build_count_1946-1970': 'build_count_1946_1970',\\\n",
        "                          'build_count_1971-1995':'build_count_1971_1995'}, inplace=True)"
      ]
    },
    {
      "cell_type": "code",
      "execution_count": null,
      "metadata": {
        "_cell_guid": "67357763-bb99-a64d-dd49-0765a898c3ac"
      },
      "outputs": [],
      "source": [
        "rename_digital_col_names(train)"
      ]
    },
    {
      "cell_type": "code",
      "execution_count": null,
      "metadata": {
        "_cell_guid": "68b332e9-ae80-a5db-a932-543c876c69a0"
      },
      "outputs": [],
      "source": [
        "#add an adition mark for \"product type\" as \"Unknown\"\n",
        "k = random.sample(range(train.shape[0]), 1000)\n",
        "k=sorted(k)\n",
        "for i in k:\n",
        "    train.set_value( i,'product_type',u'Unknown' )"
      ]
    },
    {
      "cell_type": "code",
      "execution_count": null,
      "metadata": {
        "_cell_guid": "4a6c4471-489b-258c-665a-a0d098c96e92"
      },
      "outputs": [],
      "source": [
        "cafe_count500 =['cafe_count_500_na_price','cafe_count_500_price_500','cafe_count_500_price_1000',\\\n",
        "               'cafe_count_500_price_1500',\\\n",
        "               'cafe_count_500_price_2500','cafe_count_500_price_4000','cafe_count_500_price_high']\n",
        "cafe_count1000=['cafe_count_1000_na_price','cafe_count_1000_price_500','cafe_count_1000_price_1000',\\\n",
        "                'cafe_count_1000_price_1500','cafe_count_1000_price_2500','cafe_count_1000_price_4000',\\\n",
        "                'cafe_count_1000_price_high']\n",
        "cafe_count1500=['cafe_count_1500_na_price','cafe_count_1500_price_500','cafe_count_1500_price_1000',\\\n",
        "                 'cafe_count_1500_price_1500','cafe_count_1500_price_2500','cafe_count_1500_price_4000',\\\n",
        "                 'cafe_count_1500_price_high']\n",
        "\n",
        "cafe_count2000=['cafe_count_2000_na_price','cafe_count_2000_price_500','cafe_count_2000_price_1000',\\\n",
        "                'cafe_count_2000_price_1500','cafe_count_2000_price_2500','cafe_count_2000_price_4000',\\\n",
        "                'cafe_count_2000_price_high']\n",
        "cafe_count3000=['cafe_count_3000_na_price','cafe_count_3000_price_500','cafe_count_3000_price_1000',\\\n",
        "                'cafe_count_3000_price_1500','cafe_count_3000_price_2500','cafe_count_3000_price_4000',\\\n",
        "                'cafe_count_3000_price_high']\n",
        "cafe_count5000=['cafe_count_5000_na_price','cafe_count_5000_price_500','cafe_count_5000_price_1000',\\\n",
        "                'cafe_count_5000_price_1500','cafe_count_5000_price_2500','cafe_count_5000_price_4000',\\\n",
        "                'cafe_count_5000_price_high']\n",
        "\n",
        "CC_id =['cafe_count_500', 'cafe_count_1000', 'cafe_count_1500', 'cafe_count_2000', \\\n",
        "       'cafe_count_3000', 'cafe_count_5000']\n",
        "CC= [cafe_count500, cafe_count1000, cafe_count1500, cafe_count2000, cafe_count3000, cafe_count5000]"
      ]
    },
    {
      "cell_type": "code",
      "execution_count": null,
      "metadata": {
        "_cell_guid": "de4b8def-c38b-2038-3f41-0938ce1995f4"
      },
      "outputs": [],
      "source": [
        "def to_float(ammount_column, depended_columns, data_array):\n",
        "    depended_columns.insert(0, ammount_column)\n",
        "    for c in depended_columns:\n",
        "        data_array[c]= (lambda x: float(x) , data_array[c])[1]\n",
        "        #for j in range (data_array.shape[0]):\n",
        "        #    data_array.set_value( j, c ,float(data_array[c][[j]].values) )"
      ]
    },
    {
      "cell_type": "code",
      "execution_count": null,
      "metadata": {
        "_cell_guid": "a61ada3b-6c9d-1513-b3ef-98851ef93bc2"
      },
      "outputs": [],
      "source": [
        "for i in range(len(CC_id)):\n",
        "    to_float (CC_id[i], CC[i], train)"
      ]
    },
    {
      "cell_type": "code",
      "execution_count": null,
      "metadata": {
        "_cell_guid": "32ebee99-cb1f-fbeb-a75b-6d400e21cc05"
      },
      "outputs": [],
      "source": [
        "def dependeds_to_means (ammount_column, depended_columns, data_array):\n",
        "    for c in depended_columns:\n",
        "        data_array[c]=(lambda x, y: x/y if y !=0. else y, data_array[c], data_array[ammount_column])[1]"
      ]
    },
    {
      "cell_type": "code",
      "execution_count": null,
      "metadata": {
        "_cell_guid": "5f2d7283-9d23-e160-30ea-d05f8c04d495"
      },
      "outputs": [],
      "source": [
        "dependeds_to_means('raion_build_count_with_material_info', bc, train)"
      ]
    },
    {
      "cell_type": "code",
      "execution_count": null,
      "metadata": {
        "_cell_guid": "b96c48cc-9aaa-95bc-c219-a4743b466bcd"
      },
      "outputs": [],
      "source": [
        "bi_corr = ['build_count_before_1920', 'build_count_1921_1945', \\\n",
        "      'build_count_1946_1970', 'build_count_1971_1995', 'build_count_after_1995']"
      ]
    },
    {
      "cell_type": "code",
      "execution_count": null,
      "metadata": {
        "_cell_guid": "f7331c5a-0445-323f-2062-24bd8042717c"
      },
      "outputs": [],
      "source": [
        "dependeds_to_means('raion_build_count_with_builddate_info', bi_corr, train)"
      ]
    },
    {
      "cell_type": "code",
      "execution_count": null,
      "metadata": {
        "_cell_guid": "e33d56a2-9312-cecd-a404-c9ce4899c418"
      },
      "outputs": [],
      "source": [
        "for i in range(len(CC_id)):\n",
        "    dependeds_to_means (CC_id[i], CC[i], train)"
      ]
    },
    {
      "cell_type": "code",
      "execution_count": null,
      "metadata": {
        "_cell_guid": "9d61e233-e526-2cfa-e8be-8da2e90f9a55"
      },
      "outputs": [],
      "source": [
        "train.head()"
      ]
    },
    {
      "cell_type": "code",
      "execution_count": null,
      "metadata": {
        "_cell_guid": "6c2ef77f-c576-f6c8-420c-215513505a8b"
      },
      "outputs": [],
      "source": [
        "full_train = pd.merge(train, macro, on='timestamp')\n",
        "timestamp_price= full_train.timestamp\n",
        "full_train = full_train.drop(['timestamp'], 1)"
      ]
    },
    {
      "cell_type": "code",
      "execution_count": null,
      "metadata": {
        "_cell_guid": "b77d497f-0d14-653f-59ee-54577adadb0d"
      },
      "outputs": [],
      "source": [
        "full_train.head()"
      ]
    },
    {
      "cell_type": "code",
      "execution_count": null,
      "metadata": {
        "_cell_guid": "41b6e7a2-72b4-85c3-d999-fde11bb74e01"
      },
      "outputs": [],
      "source": [
        "categorical_columns = [c for c in full_train.columns if full_train[c].dtype.name == 'object']\n",
        "\n",
        "additional_categorical_columns =['build_year', 'ID_metro', 'ID_railroad_station_walk', \\\n",
        "                                 'ID_railroad_station_avto', 'ID_big_road1', 'ID_big_road2','ID_railroad_terminal',\\\n",
        "                                'ID_bus_terminal']\n",
        "categorical_columns = categorical_columns + additional_categorical_columns\n",
        "\n",
        "\n",
        "col_al=full_train.columns.values.tolist()\n",
        "min_col=bi_corr+ bc+ accom_param+ means_only+ps+categorical_columns+yesno\n",
        "min_col.append('build_year')\n",
        "#min_col.insert(0,'timestamp')\n",
        "min_col.insert(0,'id')\n",
        "\n",
        "\n",
        "NN2=[]\n",
        "for i in min_col:\n",
        "    if not i in NN2:\n",
        "        NN2.append(i)"
      ]
    },
    {
      "cell_type": "code",
      "execution_count": null,
      "metadata": {
        "_cell_guid": "2a8877e8-0b5d-4251-5d2a-f090353bff83"
      },
      "outputs": [],
      "source": [
        "for c in NN2:\n",
        "    \n",
        "    col_al.remove(c)\n",
        "set_means(col_al, full_train)"
      ]
    },
    {
      "cell_type": "code",
      "execution_count": null,
      "metadata": {
        "_cell_guid": "30b79ab9-7b19-7713-2c4b-5e3eae0fd351"
      },
      "outputs": [],
      "source": [
        "d_price=full_train.id #STORE ID-s"
      ]
    },
    {
      "cell_type": "code",
      "execution_count": null,
      "metadata": {
        "_cell_guid": "280d10db-db5e-804c-1e53-301cd982cfca"
      },
      "outputs": [],
      "source": [
        "X = full_train.drop(['id', 'price_doc'], 1)\n",
        "y = full_train.price_doc"
      ]
    },
    {
      "cell_type": "code",
      "execution_count": null,
      "metadata": {
        "_cell_guid": "5c3f2701-ad64-943c-1e50-337ca268a040"
      },
      "outputs": [],
      "source": [
        "y= (lambda x: float(x) , y)[1]"
      ]
    },
    {
      "cell_type": "code",
      "execution_count": null,
      "metadata": {
        "_cell_guid": "b7943103-0e08-00a2-850c-66e71b2bf97d"
      },
      "outputs": [],
      "source": [
        "numerical_columns   = ['full_sq', 'life_sq', 'floor', 'max_floor', 'material', 'num_room', 'kitch_sq', 'state', 'area_m', 'raion_popul', 'green_zone_part', 'indust_part', 'children_preschool', 'preschool_quota', 'preschool_education_centers_raion', 'children_school', 'school_quota', 'school_education_centers_raion', 'school_education_centers_top_20_raion', 'hospital_beds_raion', 'healthcare_centers_raion', 'university_top_20_raion', 'sport_objects_raion', 'additional_education_raion', 'culture_objects_top_25_raion', 'shopping_centers_raion', 'office_raion', 'full_all', 'male_f', 'female_f', 'young_all', 'young_male', 'young_female', 'work_all', 'work_male', 'work_female', 'ekder_all', 'ekder_male', 'ekder_female', 'zero_6_all', 'zero_6_male', 'zero_6_female', 'seven_14_all', 'seven_14_male', 'seven_14_female', 'zero_17_all', 'zero_17_male', 'zero_17_female', 'sixteen_29_all', 'sixteen_29_male', 'sixteen_29_female', 'zero_13_all', 'zero_13_male', 'zero_13_female', 'raion_build_count_with_material_info', 'build_count_block', 'build_count_wood', 'build_count_frame', 'build_count_brick', 'build_count_monolith', 'build_count_panel', 'build_count_foam', 'build_count_slag', 'build_count_mix', 'raion_build_count_with_builddate_info', 'build_count_before_1920', 'build_count_1921_1945', 'build_count_1946_1970', 'build_count_1971_1995', 'build_count_after_1995', 'metro_min_avto', 'metro_km_avto', 'metro_min_walk', 'metro_km_walk', 'kindergarten_km', 'school_km', 'park_km', 'green_zone_km', 'industrial_km', 'water_treatment_km', 'cemetery_km', 'incineration_km', 'railroad_station_walk_km', 'railroad_station_walk_min', 'railroad_station_avto_km', 'railroad_station_avto_min', 'public_transport_station_km', 'public_transport_station_min_walk', 'water_km','mkad_km', 'ttk_km', 'sadovoe_km', 'bulvar_ring_km', 'kremlin_km', 'big_road1_km', 'big_road2_km', 'railroad_km', 'zd_vokzaly_avto_km', 'bus_terminal_avto_km', 'oil_chemistry_km', 'nuclear_reactor_km', 'radiation_km', 'power_transmission_line_km', 'thermal_power_plant_km', 'ts_km', 'big_market_km', 'market_shop_km', 'fitness_km', 'swim_pool_km', 'ice_rink_km', 'stadium_km', 'basketball_km', 'hospice_morgue_km', 'detention_facility_km', 'public_healthcare_km', 'university_km', 'workplaces_km', 'shopping_centers_km', 'office_km', 'additional_education_km', 'preschool_km', 'big_church_km', 'church_synagogue_km', 'mosque_km', 'theater_km', 'museum_km', 'exhibition_km', 'catering_km', 'green_part_500', 'prom_part_500', 'office_count_500', 'office_sqm_500', 'trc_count_500', 'trc_sqm_500', 'cafe_count_500', 'cafe_sum_500_min_price_avg', 'cafe_sum_500_max_price_avg', 'cafe_avg_price_500', 'cafe_count_500_na_price', 'cafe_count_500_price_500', 'cafe_count_500_price_1000', 'cafe_count_500_price_1500', 'cafe_count_500_price_2500', 'cafe_count_500_price_4000', 'cafe_count_500_price_high', 'big_church_count_500', 'church_count_500', 'mosque_count_500', 'leisure_count_500', 'sport_count_500', 'market_count_500', 'green_part_1000', 'prom_part_1000', 'office_count_1000', 'office_sqm_1000', 'trc_count_1000', 'trc_sqm_1000', 'cafe_count_1000', 'cafe_sum_1000_min_price_avg', 'cafe_sum_1000_max_price_avg', 'cafe_avg_price_1000', 'cafe_count_1000_na_price', 'cafe_count_1000_price_500', 'cafe_count_1000_price_1000', 'cafe_count_1000_price_1500', 'cafe_count_1000_price_2500', 'cafe_count_1000_price_4000', 'cafe_count_1000_price_high', 'big_church_count_1000', 'church_count_1000', 'mosque_count_1000', 'leisure_count_1000', 'sport_count_1000', 'market_count_1000', 'green_part_1500', 'prom_part_1500', 'office_count_1500', 'office_sqm_1500', 'trc_count_1500', 'trc_sqm_1500', 'cafe_count_1500', 'cafe_sum_1500_min_price_avg', 'cafe_sum_1500_max_price_avg', 'cafe_avg_price_1500', 'cafe_count_1500_na_price', 'cafe_count_1500_price_500', 'cafe_count_1500_price_1000', 'cafe_count_1500_price_1500', 'cafe_count_1500_price_2500', 'cafe_count_1500_price_4000', 'cafe_count_1500_price_high', 'big_church_count_1500', 'church_count_1500', 'mosque_count_1500', 'leisure_count_1500', 'sport_count_1500', 'market_count_1500', 'green_part_2000', 'prom_part_2000', 'office_count_2000', 'office_sqm_2000', 'trc_count_2000', 'trc_sqm_2000', 'cafe_count_2000', 'cafe_sum_2000_min_price_avg', 'cafe_sum_2000_max_price_avg', 'cafe_avg_price_2000', 'cafe_count_2000_na_price', 'cafe_count_2000_price_500', 'cafe_count_2000_price_1000', 'cafe_count_2000_price_1500', 'cafe_count_2000_price_2500', 'cafe_count_2000_price_4000', 'cafe_count_2000_price_high', 'big_church_count_2000', 'church_count_2000', 'mosque_count_2000', 'leisure_count_2000', 'sport_count_2000', 'market_count_2000', 'green_part_3000', 'prom_part_3000', 'office_count_3000', 'office_sqm_3000', 'trc_count_3000', 'trc_sqm_3000', 'cafe_count_3000', 'cafe_sum_3000_min_price_avg', 'cafe_sum_3000_max_price_avg', 'cafe_avg_price_3000', 'cafe_count_3000_na_price', 'cafe_count_3000_price_500', 'cafe_count_3000_price_1000', 'cafe_count_3000_price_1500', 'cafe_count_3000_price_2500', 'cafe_count_3000_price_4000', 'cafe_count_3000_price_high', 'big_church_count_3000', 'church_count_3000', 'mosque_count_3000',\n",
        " 'leisure_count_3000', 'sport_count_3000', 'market_count_3000', 'green_part_5000', 'prom_part_5000', 'office_count_5000', 'office_sqm_5000', 'trc_count_5000', 'trc_sqm_5000', 'cafe_count_5000', 'cafe_sum_5000_min_price_avg', 'cafe_sum_5000_max_price_avg', 'cafe_avg_price_5000', 'cafe_count_5000_na_price', 'cafe_count_5000_price_500', 'cafe_count_5000_price_1000', 'cafe_count_5000_price_1500', 'cafe_count_5000_price_2500', 'cafe_count_5000_price_4000', 'cafe_count_5000_price_high', 'big_church_count_5000', 'church_count_5000', 'mosque_count_5000', 'leisure_count_5000', 'sport_count_5000', 'market_count_5000', 'oil_urals', 'gdp_quart', 'gdp_quart_growth', 'cpi', 'ppi', 'gdp_deflator', 'balance_trade', 'balance_trade_growth', 'usdrub', 'eurrub', 'brent', 'net_capital_export', 'gdp_annual', 'gdp_annual_growth', 'average_provision_of_build_contract', 'average_provision_of_build_contract_moscow', 'rts', 'micex', 'micex_rgbi_tr', 'micex_cbi_tr', 'deposits_value', 'deposits_growth', 'deposits_rate', 'mortgage_value', 'mortgage_growth', 'mortgage_rate', 'grp', 'grp_growth', 'income_per_cap', 'real_dispos_income_per_cap_growth', 'salary', 'salary_growth', 'fixed_basket', 'retail_trade_turnover', 'retail_trade_turnover_per_cap', 'retail_trade_turnover_growth', 'labor_force', 'unemployment', 'employment', 'invest_fixed_capital_per_cap', 'invest_fixed_assets', 'profitable_enterpr_share', 'unprofitable_enterpr_share', 'share_own_revenues', 'overdue_wages_per_cap', 'fin_res_per_cap', 'marriages_per_1000_cap', 'divorce_rate', 'construction_value', 'invest_fixed_assets_phys', 'pop_natural_increase', 'pop_migration', 'pop_total_inc', 'childbirth', 'mortality', 'housing_fund_sqm', 'lodging_sqm_per_cap', 'water_pipes_share', 'baths_share', 'sewerage_share', 'gas_share', 'hot_water_share', 'electric_stove_share', 'heating_share', 'old_house_share', 'average_life_exp', 'infant_mortarity_per_1000_cap', 'perinatal_mort_per_1000_cap', 'incidence_population', 'rent_price_4room_bus', 'rent_price_3room_bus', 'rent_price_2room_bus', 'rent_price_1room_bus', 'rent_price_3room_eco', 'rent_price_2room_eco', 'rent_price_1room_eco', 'load_of_teachers_preschool_per_teacher', 'child_on_acc_pre_school', 'load_of_teachers_school_per_teacher', 'students_state_oneshift', 'modern_education_share', 'old_education_build_share', 'provision_doctors', 'provision_nurse', 'load_on_doctors', 'power_clinics', 'hospital_beds_available_per_cap', 'hospital_bed_occupancy_per_year', 'provision_retail_space_sqm', 'provision_retail_space_modern_sqm', 'turnover_catering_per_cap', 'theaters_viewers_per_1000_cap', 'seats_theather_rfmin_per_100000_cap', 'museum_visitis_per_100_cap', 'bandwidth_sports', 'population_reg_sports_share', 'students_reg_sports_share', 'apartment_build', 'apartment_fund_sqm']"
      ]
    },
    {
      "cell_type": "code",
      "execution_count": null,
      "metadata": {
        "_cell_guid": "1d7872ec-3679-e197-09b4-228180ad6532"
      },
      "outputs": [],
      "source": [
        "for c in additional_categorical_columns:\n",
        "    if c in numerical_columns:\n",
        "        numerical_columns.remove(c)"
      ]
    },
    {
      "cell_type": "code",
      "execution_count": null,
      "metadata": {
        "_cell_guid": "5e152875-5973-1fb6-bf64-30e00e022c2f"
      },
      "outputs": [],
      "source": [
        "nonbinary_columns = categorical_columns\n",
        "yesno.append('ID_railroad_station_walk')\n",
        "for c in yesno:\n",
        "    nonbinary_columns.remove(c)\n",
        "yesno.remove('ID_railroad_station_walk')"
      ]
    },
    {
      "cell_type": "code",
      "execution_count": null,
      "metadata": {
        "_cell_guid": "37cfb53f-45c3-20d2-2de5-55affe7ad99e"
      },
      "outputs": [],
      "source": [
        "data_describe=X.describe(include=[object])"
      ]
    },
    {
      "cell_type": "code",
      "execution_count": null,
      "metadata": {
        "_cell_guid": "3f599f44-1b0e-f417-4b4f-d4f9b1c36f0f"
      },
      "outputs": [],
      "source": [
        "for c in yesno[0:]:\n",
        "    \n",
        "    top = data_describe[c]['top']\n",
        "    top_items = X[c] == top\n",
        "    X.loc[top_items, c] = 0\n",
        "    X.loc[np.logical_not(top_items), c] = 1\n",
        "    "
      ]
    },
    {
      "cell_type": "code",
      "execution_count": null,
      "metadata": {
        "_cell_guid": "b994bfb9-2268-3465-f8d5-a2952adc82fe"
      },
      "outputs": [],
      "source": [
        "data_nonbinary = pd.get_dummies(X[nonbinary_columns])"
      ]
    },
    {
      "cell_type": "code",
      "execution_count": null,
      "metadata": {
        "_cell_guid": "704efad7-5bf5-38a9-f5c7-6bea898de1d9"
      },
      "outputs": [],
      "source": [
        "#X[numerical_columns]."
      ]
    },
    {
      "cell_type": "code",
      "execution_count": null,
      "metadata": {
        "_cell_guid": "502c4973-b9f8-5770-91ec-045165952007"
      },
      "outputs": [],
      "source": [
        "data_numerical = X[numerical_columns]\n",
        "data_numerical.head()"
      ]
    },
    {
      "cell_type": "code",
      "execution_count": null,
      "metadata": {
        "_cell_guid": "087b3d75-bfce-10af-bd7c-58126af7d1bc"
      },
      "outputs": [],
      "source": [
        "#print (data_numerical[[1]].values[1])\n",
        "#print (data_numerical.shape[1])\n",
        "#print (data_numerical.index.values.tolist() )"
      ]
    },
    {
      "cell_type": "code",
      "execution_count": null,
      "metadata": {
        "_cell_guid": "4a85c633-e273-d7d4-32ad-1bf04bafc946"
      },
      "outputs": [],
      "source": [
        "for c in range (data_numerical.shape[1]):\n",
        "    for i in data_numerical.index.values.tolist():\n",
        "        if type(data_numerical[[c]].values[i])==str:\n",
        "            print (c, i, data_numerical[c].values[i])"
      ]
    },
    {
      "cell_type": "code",
      "execution_count": null,
      "metadata": {
        "_cell_guid": "776eb740-5b63-ca67-57f9-079d6f1e5558"
      },
      "outputs": [],
      "source": [
        "data_numerical = (data_numerical - data_numerical.values.mean()) / data_numerical.values.std()"
      ]
    },
    {
      "cell_type": "code",
      "execution_count": null,
      "metadata": {
        "_cell_guid": "297886ef-004a-2b3d-94f3-72c8237f7313"
      },
      "outputs": [],
      "source": [
        "data_numerical.describe()"
      ]
    },
    {
      "cell_type": "code",
      "execution_count": null,
      "metadata": {
        "_cell_guid": "f232216e-a61c-4657-df45-f4121d0c8c95"
      },
      "outputs": [],
      "source": [
        "TRAIN_data=pd.concat((data_numerical, X[yesno], data_nonbinary), axis=1) #\n",
        "TRAIN_data=pd.DataFrame (TRAIN_data, dtype='float')"
      ]
    },
    {
      "cell_type": "markdown",
      "metadata": {
        "_cell_guid": "c36ceaee-6af1-867f-58da-19f1a1839c89"
      },
      "source": [
        "## Model testind"
      ]
    },
    {
      "cell_type": "code",
      "execution_count": null,
      "metadata": {
        "_cell_guid": "3e918384-8b5b-31d0-ca58-19bae5380171"
      },
      "outputs": [],
      "source": [
        "print (y)"
      ]
    },
    {
      "cell_type": "code",
      "execution_count": null,
      "metadata": {
        "_cell_guid": "4a5636ac-6153-692d-522e-b4deeaaa3870"
      },
      "outputs": [],
      "source": [
        "id_test= id_price [(id_price.shape[0]-1000):]\n",
        "X_test=TRAIN_data[(id_price.shape[0]-1000):]\n",
        "y_test =y[(id_price.shape[0]-1000):]"
      ]
    },
    {
      "cell_type": "code",
      "execution_count": null,
      "metadata": {
        "_cell_guid": "39a7c332-cc95-ae21-aa0a-84dfa12a7a37"
      },
      "outputs": [],
      "source": [
        "X_train=TRAIN_data[:-1000]\n",
        "y_train =y[:-1000]\n",
        "id_train= id_price[:-1000]"
      ]
    },
    {
      "cell_type": "code",
      "execution_count": null,
      "metadata": {
        "_cell_guid": "c79fc1bd-3213-94f7-34bd-403016757b27"
      },
      "outputs": [],
      "source": [
        "X_test=X_test.values\n",
        "id_test=id_test.values"
      ]
    },
    {
      "cell_type": "code",
      "execution_count": null,
      "metadata": {
        "_cell_guid": "86013a3b-b56c-714a-9e28-b641b05ab2fc"
      },
      "outputs": [],
      "source": [
        "X_train=X_train.values\n",
        "id_train=id_train.values"
      ]
    },
    {
      "cell_type": "code",
      "execution_count": null,
      "metadata": {
        "_cell_guid": "93e55cac-fb01-dc02-a84a-63d1e1a73052"
      },
      "outputs": [],
      "source": [
        "print (X_train.shape,  len(y_train))\n",
        "rf = sklearn.ensemble.RandomForestRegressor (random_state=0)\n",
        "rf.fit(X_train,  y_train)\n",
        "y_test2= rf.predict(X_test)"
      ]
    },
    {
      "cell_type": "code",
      "execution_count": null,
      "metadata": {
        "_cell_guid": "8485c412-5e3c-8d0d-5a35-fad8c10781d8"
      },
      "outputs": [],
      "source": [
        "y_test=np.array(y_test)"
      ]
    },
    {
      "cell_type": "markdown",
      "metadata": {
        "_cell_guid": "973bb1e3-58c8-7963-f932-9110a3ca0830"
      },
      "source": [
        "### testing RMSLE estimation"
      ]
    },
    {
      "cell_type": "code",
      "execution_count": null,
      "metadata": {
        "_cell_guid": "1e308972-bb51-5a95-d16f-b183ea588ab4"
      },
      "outputs": [],
      "source": [
        "print np.sqrt(sum(((np.log(abs(y_test2)+1.) - np.log(y_test+1.))**2.)/len(y_test)))"
      ]
    },
    {
      "cell_type": "markdown",
      "metadata": {
        "_cell_guid": "fdc1c7b8-dbb5-2e4c-418b-ecbe0702f217"
      },
      "source": [
        "# Prediction"
      ]
    },
    {
      "cell_type": "markdown",
      "metadata": {
        "_cell_guid": "d25a156b-96aa-40d0-e2ad-0e5f253d334d"
      },
      "source": [
        "### Model education"
      ]
    },
    {
      "cell_type": "code",
      "execution_count": null,
      "metadata": {
        "_cell_guid": "23a17315-4bd7-15df-02c9-18114d4cb5a0"
      },
      "outputs": [],
      "source": [
        "rf.fit(TRAIN_data,  y)"
      ]
    },
    {
      "cell_type": "markdown",
      "metadata": {
        "_cell_guid": "9c09f609-b7d6-14eb-2d38-2e1adb02cfb8"
      },
      "source": [
        "### test data preparation"
      ]
    },
    {
      "cell_type": "code",
      "execution_count": null,
      "metadata": {
        "_cell_guid": "92068da4-18c3-c806-8e1e-3cd8cef44d82"
      },
      "outputs": [],
      "source": [
        "pred = pd.read_csv('../input/test.csv', sep = ',', header = 0)\n",
        "pred.head()"
      ]
    },
    {
      "cell_type": "code",
      "execution_count": null,
      "metadata": {
        "_cell_guid": "a07404a5-31f0-416d-a7b6-93611ea4dde3"
      },
      "outputs": [],
      "source": [
        "pred.build_year.value_counts() #correction of build year mistakes"
      ]
    },
    {
      "cell_type": "markdown",
      "metadata": {
        "_cell_guid": "0a0a8f68-eec4-dead-13af-0adb49181367"
      },
      "source": [
        "Assumptions:\n",
        "\n",
        "\n",
        "0, 1, 2 ---> 2000, 2001, 2002"
      ]
    },
    {
      "cell_type": "code",
      "execution_count": null,
      "metadata": {
        "_cell_guid": "7673db66-eab6-a200-6943-beb42190ec0a"
      },
      "outputs": [],
      "source": [
        "for i in range(pred.shape[0]):   \n",
        "    if pred.build_year[[i]].values==0 :\n",
        "        pred.set_value( i,'build_year', int(2000) )\n",
        "    elif pred.build_year[[i]].values==1 :\n",
        "        pred.set_value( i,'build_year',int(2001) )\n",
        "    elif pred.build_year[[i]].values==2 :\n",
        "        pred.set_value( i,'build_year',int(2002) )   \n",
        "    elif pd.isnull(pred.build_year[[i]].values)==True :\n",
        "        pred.set_value( i,'build_year',int(-1) )"
      ]
    },
    {
      "cell_type": "markdown",
      "metadata": {
        "_cell_guid": "c86cad0a-c731-201c-aa37-28214ee599cf"
      },
      "source": [
        "set unreal marks for NULL accomodation parameters"
      ]
    },
    {
      "cell_type": "code",
      "execution_count": null,
      "metadata": {
        "_cell_guid": "c3c53a76-f9f6-5fac-b4fe-4eecd7678aa5"
      },
      "outputs": [],
      "source": [
        "set_unreal(accom_param, pred)"
      ]
    },
    {
      "cell_type": "markdown",
      "metadata": {
        "_cell_guid": "7993c051-aafc-6d74-2a94-dbe0b8e1a302"
      },
      "source": [
        "set means for build count parameters"
      ]
    },
    {
      "cell_type": "code",
      "execution_count": null,
      "metadata": {
        "_cell_guid": "35af67b3-1dda-9310-5842-748af922debf"
      },
      "outputs": [],
      "source": [
        "set_means_with_proportion('raion_build_count_with_material_info', bc, pred)"
      ]
    },
    {
      "cell_type": "code",
      "execution_count": null,
      "metadata": {
        "_cell_guid": "facc516e-d608-7b14-c772-141027f8d521"
      },
      "outputs": [],
      "source": [
        "set_means_with_proportion('raion_build_count_with_builddate_info', bi, pred)"
      ]
    },
    {
      "cell_type": "code",
      "execution_count": null,
      "metadata": {
        "_cell_guid": "9d109fb1-f9bb-1a32-5b71-b06a93b20127"
      },
      "outputs": [],
      "source": [
        "set_means(means_only, pred)"
      ]
    },
    {
      "cell_type": "code",
      "execution_count": null,
      "metadata": {
        "_cell_guid": "5c90e1a5-6a99-d60f-8cd6-38be2ad0f9fc"
      },
      "outputs": [],
      "source": [
        "set_means(ps, pred)"
      ]
    },
    {
      "cell_type": "code",
      "execution_count": null,
      "metadata": {
        "_cell_guid": "47357eae-b019-2db2-1adc-ded5a152a901"
      },
      "outputs": [],
      "source": [
        "pred['product_type'] = (lambda x: u'Unknown' if pd.isnull(x)==True else x, pred['product_type'])[1]"
      ]
    },
    {
      "cell_type": "code",
      "execution_count": null,
      "metadata": {
        "_cell_guid": "c9e9b94c-50c6-eb45-9354-3a8dbb5d6b92"
      },
      "outputs": [],
      "source": [
        "rename_digital_col_names(pred) #bi"
      ]
    },
    {
      "cell_type": "code",
      "execution_count": null,
      "metadata": {
        "_cell_guid": "b9d96934-6b35-77ea-de85-8e4742fff57a"
      },
      "outputs": [],
      "source": [
        "for i in range(len(CC_id)):\n",
        "    to_float (CC_id[i], CC[i], pred)"
      ]
    },
    {
      "cell_type": "code",
      "execution_count": null,
      "metadata": {
        "_cell_guid": "4e2dffac-7baf-9051-b683-18fceb329693"
      },
      "outputs": [],
      "source": [
        "dependeds_to_means('raion_build_count_with_material_info', bc, pred)"
      ]
    },
    {
      "cell_type": "code",
      "execution_count": null,
      "metadata": {
        "_cell_guid": "c9c9f99a-3b6c-23e5-3c6d-be5c1a93934c"
      },
      "outputs": [],
      "source": [
        "dependeds_to_means('raion_build_count_with_builddate_info', bi_corr, pred)"
      ]
    },
    {
      "cell_type": "code",
      "execution_count": null,
      "metadata": {
        "_cell_guid": "fcc712e8-4d2a-7191-b07a-4405d6123b05"
      },
      "outputs": [],
      "source": [
        "for i in range(len(CC_id)):\n",
        "    dependeds_to_means (CC_id[i], CC[i], pred)"
      ]
    },
    {
      "cell_type": "code",
      "execution_count": null,
      "metadata": {
        "_cell_guid": "3d47382a-daa1-795e-89ec-26a7bacda35c"
      },
      "outputs": [],
      "source": [
        "full_pred = pd.merge(pred, macro, on='timestamp')\n",
        "timestamp_pred= full_pred['timestamp']\n",
        "full_pred = full_pred.drop(['timestamp'], 1)"
      ]
    },
    {
      "cell_type": "code",
      "execution_count": null,
      "metadata": {
        "_cell_guid": "897797fc-c2ec-7991-a019-5f4e85180d02"
      },
      "outputs": [],
      "source": [
        "categorical_columns = [c for c in full_pred.columns if full_pred[c].dtype.name == 'object']\n",
        "#product_type\n",
        "\n",
        "additional_categorical_columns =['build_year', 'ID_metro', 'ID_railroad_station_walk', \\\n",
        "                                 'ID_railroad_station_avto', 'ID_big_road1', 'ID_big_road2','ID_railroad_terminal',\\\n",
        "                                'ID_bus_terminal']\n",
        "categorical_columns = categorical_columns + additional_categorical_columns\n",
        "\n",
        "\n",
        "col_al=full_pred.columns.values.tolist()\n",
        "min_col=bi_corr+ bc+ accom_param+ means_only+ps+categorical_columns+yesno\n",
        "min_col.append('build_year')\n",
        "#min_col.insert(0,'timestamp')\n",
        "min_col.insert(0,'id')\n",
        "\n",
        "\n",
        "NN2=[]\n",
        "for i in min_col:\n",
        "    if not i in NN2:\n",
        "        NN2.append(i)"
      ]
    },
    {
      "cell_type": "code",
      "execution_count": null,
      "metadata": {
        "_cell_guid": "fe6b679f-5ec7-0243-0822-92e438e148e0"
      },
      "outputs": [],
      "source": [
        "for c in NN2:\n",
        "    col_al.remove(c)\n",
        "set_means(col_al, full_pred)"
      ]
    },
    {
      "cell_type": "code",
      "execution_count": null,
      "metadata": {
        "_cell_guid": "73e6d08f-9e26-1cc7-8fb7-e3930632bcf2"
      },
      "outputs": [],
      "source": [
        "id_pred=full_pred['id'] #STORE ID-s"
      ]
    },
    {
      "cell_type": "code",
      "execution_count": null,
      "metadata": {
        "_cell_guid": "aa55fdbb-0f11-583a-a7b6-3c768dda1803"
      },
      "outputs": [],
      "source": [
        "XP = full_pred.drop(['id'], 1)"
      ]
    },
    {
      "cell_type": "code",
      "execution_count": null,
      "metadata": {
        "_cell_guid": "e5c619bb-84da-c54c-7ae6-5e40c3c9d044"
      },
      "outputs": [],
      "source": [
        "numerical_columns   = [c for c in XP.columns if XP[c].dtype.name != 'object']"
      ]
    },
    {
      "cell_type": "code",
      "execution_count": null,
      "metadata": {
        "_cell_guid": "fa214d57-0252-fedf-355e-28a1ae008631"
      },
      "outputs": [],
      "source": [
        "for c in additional_categorical_columns:\n",
        "    numerical_columns.remove(c)\n",
        "nonbinary_columns = categorical_columns\n",
        "for c in yesno:\n",
        "    nonbinary_columns.remove(c)"
      ]
    },
    {
      "cell_type": "code",
      "execution_count": null,
      "metadata": {
        "_cell_guid": "73665147-123f-8b16-31d7-2ab840a3d13a"
      },
      "outputs": [],
      "source": [
        "\n",
        "data_describe=XP.describe(include=[object])"
      ]
    },
    {
      "cell_type": "code",
      "execution_count": null,
      "metadata": {
        "_cell_guid": "fdbbc449-c4d1-3d1a-cd4e-fc6547254b72"
      },
      "outputs": [],
      "source": [
        "for c in yesno[0:]:\n",
        " \n",
        "    top = data_describe[c]['top']\n",
        "    top_items = XP[c] == top\n",
        "    XP.loc[top_items, c] = 0\n",
        "    XP.loc[np.logical_not(top_items), c] = 1"
      ]
    },
    {
      "cell_type": "code",
      "execution_count": null,
      "metadata": {
        "_cell_guid": "08253541-9bff-1fe3-8cba-7c9958f1a314"
      },
      "outputs": [],
      "source": [
        "data_nonbinary = pd.get_dummies(XP[nonbinary_columns])"
      ]
    },
    {
      "cell_type": "code",
      "execution_count": null,
      "metadata": {
        "_cell_guid": "b39dc224-862f-8af3-15e9-ce25135e81e6"
      },
      "outputs": [],
      "source": [
        "data_numerical = XP[numerical_columns]\n",
        "data_numerical = (data_numerical - data_numerical.mean()) / data_numerical.std()\n",
        "data_numerical.describe()"
      ]
    },
    {
      "cell_type": "code",
      "execution_count": null,
      "metadata": {
        "_cell_guid": "19c40b2d-c2fe-77c8-a9f0-0c786039f1d6"
      },
      "outputs": [],
      "source": [
        "TEST_data=pd.concat((data_numerical, XP[yesno], data_nonbinary), axis=1) \n",
        "TEST_data=pd.DataFrame (TEST_data, dtype='float')"
      ]
    },
    {
      "cell_type": "code",
      "execution_count": null,
      "metadata": {
        "_cell_guid": "7be74657-63f3-a47f-2299-d9ea4bceaf19"
      },
      "outputs": [],
      "source": [
        "TEST_data.provision_retail_space_modern_sqm=XP.provision_retail_space_modern_sqm"
      ]
    },
    {
      "cell_type": "code",
      "execution_count": null,
      "metadata": {
        "_cell_guid": "18d66c87-346a-5850-97f1-40ea19e2e82b"
      },
      "outputs": [],
      "source": [
        "sa_PM=pd.DataFrame.from_dict({'sub_area_Poselenie Klenovskoe': np.zeros(TEST_data.shape[0]).tolist()})\n",
        "\n",
        "\n",
        "TEST_data.join (sa_PM) \n",
        "TEST_data['sub_area_Poselenie Klenovskoe']=0."
      ]
    },
    {
      "cell_type": "code",
      "execution_count": null,
      "metadata": {
        "_cell_guid": "255cf6f9-1051-3f97-77bd-1f02bdf07188"
      },
      "outputs": [],
      "source": [
        "y_pred= rf.predict(TEST_data)"
      ]
    },
    {
      "cell_type": "code",
      "execution_count": null,
      "metadata": {
        "_cell_guid": "d7198f17-845e-6d85-9c2c-255586b71e45"
      },
      "outputs": [],
      "source": [
        "rr={'id' :id_pred,\n",
        "    'predicted price' : y_pred.tolist()}\n",
        "RESULT= pd.DataFrame.from_dict(rr)\n",
        "RESULT.to_csv('Sber RE price prediction/RESULT_data.csv', sep = ',', header=True)"
      ]
    },
    {
      "cell_type": "code",
      "execution_count": null,
      "metadata": {
        "_cell_guid": "d5083b91-231e-1bf8-61ab-2d34b916a4e1"
      },
      "outputs": [],
      "source": [
        "RESULT"
      ]
    }
  ],
  "metadata": {
    "_change_revision": 0,
    "_is_fork": false,
    "kernelspec": {
      "display_name": "Python 3",
      "language": "python",
      "name": "python3"
    },
    "language_info": {
      "codemirror_mode": {
        "name": "ipython",
        "version": 3
      },
      "file_extension": ".py",
      "mimetype": "text/x-python",
      "name": "python",
      "nbconvert_exporter": "python",
      "pygments_lexer": "ipython3",
      "version": "3.6.0"
    }
  },
  "nbformat": 4,
  "nbformat_minor": 0
}