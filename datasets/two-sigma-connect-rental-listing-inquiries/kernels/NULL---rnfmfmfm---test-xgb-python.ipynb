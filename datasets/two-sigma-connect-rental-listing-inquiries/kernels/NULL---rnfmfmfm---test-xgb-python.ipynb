{
  "cells": [
    {
      "cell_type": "markdown",
      "metadata": {
        "_cell_guid": "37931347-2431-6bb8-eb6b-647cc0a13101"
      },
      "source": ""
    },
    {
      "cell_type": "code",
      "execution_count": null,
      "metadata": {
        "_cell_guid": "78fd9f18-d2ab-13de-d834-278ed8fc96a0"
      },
      "outputs": [],
      "source": [
        "import os\n",
        "import sys\n",
        "import operator\n",
        "import numpy as np\n",
        "import pandas as pd\n",
        "from scipy import sparse\n",
        "import xgboost as xgb\n",
        "from sklearn import model_selection, preprocessing, ensemble\n",
        "from sklearn.metrics import log_loss\n",
        "from sklearn.feature_extraction.text import TfidfVectorizer, CountVectorizer"
      ]
    },
    {
      "cell_type": "code",
      "execution_count": null,
      "metadata": {
        "_cell_guid": "19467300-9b49-19fd-a615-4fe313f11138"
      },
      "outputs": [],
      "source": [
        "data_path = \"../input/\"\n",
        "train_file = data_path + \"train.json\"\n",
        "test_file = data_path + \"test.json\"\n",
        "train = pd.read_json(train_file)\n",
        "test = pd.read_json(test_file)\n",
        "\n",
        "train.shape\n",
        "train.shape\n",
        "train.head()\n",
        "test.head()\n"
      ]
    },
    {
      "cell_type": "code",
      "execution_count": null,
      "metadata": {
        "_cell_guid": "bb59f7f9-00a9-f56e-a57c-cc51967923f9"
      },
      "outputs": [],
      "source": [
        "feature engineering"
      ]
    },
    {
      "cell_type": "code",
      "execution_count": null,
      "metadata": {
        "_cell_guid": "8e0049f4-5cfa-e751-06fc-57b5c6d40227"
      },
      "outputs": [],
      "source": [
        "listing_id = test_df.listing_id.values\n",
        "\n",
        "y_map = {'low': 2, 'medium': 1, 'high': 0}\n",
        "train['interest_level'] = train['interest_level'].apply(lambda x: y_map[x])\n",
        "y_train = train.interest_level.values\n",
        "\n",
        "train = train.drop(['listing_id', 'interest_level'], axis=1)\n",
        "test = test.drop('listing_id', axis=1)\n",
        "\n",
        "ntrain = train.shape[0]\n",
        "\n",
        "train_test = pd.concat((train, test), axis=0).reset_index(drop=True)\n",
        "\n",
        "\n",
        "features_to_use  = [\"bathrooms\",\"bedrooms\",\"building_id\", \"created\",\"latitude\", \"description\",\n",
        "                    \"listing_id\",\"longitude\",\"manager_id\", \"price\", \"features\", \"display_address\", \n",
        "                    \"street_address\",\"feature_count\",\"photo_count\", \"interest_level\"]\n",
        "\n",
        "train_test[\"price_per_bed\"] = train_df[\"price\"]/train_df[\"bedrooms\"] \n",
        "train_test[\"room_diff\"] = train_test[\"bedrooms\"] - train_test[\"bathrooms\"] \n",
        "train_test[\"room_sum\"] = train_test[\"bedrooms\"] + train_test[\"bathrooms\"] \n",
        "train_test[\"room_price\"] = train_test[\"price\"] / train_test[\"room_sum\"]\n",
        "train_test[\"bed_ratio\"] = train_test[\"bedrooms\"] / train_test[\"room_sum\"]\n",
        "\n",
        "train_test[\"photo_count\"] = train_test[\"photos\"].apply(len)\n",
        "train_test[\"feature_count\"] = train_test[\"features\"].apply(len)\n",
        "\n",
        "#log transform\n",
        "train_test[\"photo_count\"] = np.log(train_test[\"photo_count\"] + 1)\n",
        "train_test[\"feature_count\"] = np.log(train_test[\"feature_count\"] + 1)\n",
        "train_test[\"price\"] = np.log(train_test[\"price\"] + 1)\n",
        "train_test[\"price_per_bed\"] = np.log(train_test[\"price_per_bed\"] + 1)\n",
        "train_test[\"room_diff\"] = np.log(train_test[\"room_diff\"] + 1)\n",
        "train_test[\"room_sum\"] = np.log(train_test[\"room_sum\"] + 1)\n",
        "train_test[\"room_price\"] = np.log(train_test[\"room_price\"] + 1)\n",
        "\n",
        "train_test[\"description_word_count\"] = train_test[\"description\"].apply(lambda x: len(x.split(\" \")))\n",
        "\n",
        "#date time\n",
        "train_test[\"created\"] = pd.to_datetime(train_test[\"created\"])\n",
        "train_test[\"passed\"] = train_test[\"created\"].max() - train_test[\"created\"]\n",
        "\n",
        "train_test[\"created_year\"] = train_test[\"created\"].dt.year\n",
        "train_test[\"created_month\"] = train_test[\"created\"].dt.month\n",
        "train_test[\"created_day\"] = train_test[\"created\"].dt.day\n",
        "train_test[\"created_hour\"] = train_test[\"created\"].dt.hour\n",
        "\n",
        " "
      ]
    },
    {
      "cell_type": "code",
      "execution_count": null,
      "metadata": {
        "_cell_guid": "d4eb5df0-62ed-139b-2248-a50c3e4246f0"
      },
      "outputs": [],
      "source": [
        "#address\n",
        "address_map = {\n",
        "    'w': 'west',\n",
        "    'st.': 'street',\n",
        "    'ave': 'avenue',\n",
        "    'st': 'street',\n",
        "    'e': 'east',\n",
        "    'n': 'north',\n",
        "    's': 'south'\n",
        "}\n",
        "\n",
        "def address_map_func(s):\n",
        "    s = s.split(' ')\n",
        "    out = []\n",
        "    for x in s:\n",
        "        if x in address_map:\n",
        "            out.append(address_map[x])\n",
        "        else:\n",
        "            out.append(x)\n",
        "    return ' '.join(out)\n",
        "\n",
        "train_test['dis_address'] = train_test['display_address']\n",
        "train_test['dis_address'] = train_test['dis_address'].apply(lambda x: x.lower())\n",
        "train_test['dis_address'] = train_test['dis_address'].apply(lambda x: x.translate(remove_punct_map))\n",
        "train_test['dis_address'] = train_test['dis_address'].apply(lambda x: address_map_func(x))\n",
        "\n",
        "new_cols = ['street', 'avenue', 'east', 'west', 'north', 'south']\n",
        "\n",
        "for col in new_cols:\n",
        "    train_test[col] = train_test['dis_address'].apply(lambda x: 1 if col in x else 0)\n",
        "    \n",
        "train_test['other_address'] = train_test[new_cols].apply(lambda x: 1 if x.sum() == 0 else 0, axis=1)    \n",
        "\n",
        "#features\n",
        "train_test['features_count'] = train_test['features'].apply(lambda x: len(x))\n",
        "train_test['feats'] = train_test['features']\n",
        "train_test['feats'] = train_test['feats'].apply(lambda x: ' '.join(x))\n",
        "\n",
        "c_vect = CountVectorizer(stop_words='english', max_features=200, ngram_range=(1, 1))\n",
        "c_vect.fit(train_test['feats'])\n",
        "\n",
        "c_vect_sparse_1 = c_vect.transform(train_test['feats'])\n",
        "c_vect_sparse1_cols = c_vect.get_feature_names()\n",
        "\n",
        "#manager\n",
        "def create_top_features(df, top_num, feat_name, count_dict):\n",
        "    percent = 100\n",
        "    for i in range(1, top_num):\n",
        "        df['top_' + str(i) + '_' + feat_name] = df[feat_name].apply(lambda x: 1 if x in count_dict.index.values[count_dict.values >= np.percentile(count_dict.values, percent - i)] else 0)\n",
        "    return df    \n",
        "        \n",
        "managers_count = train_test['manager_id'].value_counts()\n",
        "train_test = create_top_features(train_test, 5, \"manager_id\", managers_count)\n",
        "\n",
        "buildings_count = train_test['building_id'].value_counts()\n",
        "train_test = create_top_features(train_test, 5, \"building_id\", buildings_count)\n",
        "\n",
        "train_test.head()"
      ]
    },
    {
      "cell_type": "code",
      "execution_count": null,
      "metadata": {
        "_cell_guid": "22a79163-d75a-1876-508e-2e3c54f8da38"
      },
      "outputs": [],
      "source": ""
    },
    {
      "cell_type": "code",
      "execution_count": null,
      "metadata": {
        "_cell_guid": "6e88adc5-d882-5bc7-660c-c45bb3a0177b"
      },
      "outputs": [],
      "source": ""
    }
  ],
  "metadata": {
    "_change_revision": 0,
    "_is_fork": false,
    "kernelspec": {
      "display_name": "Python 3",
      "language": "python",
      "name": "python3"
    },
    "language_info": {
      "codemirror_mode": {
        "name": "ipython",
        "version": 3
      },
      "file_extension": ".py",
      "mimetype": "text/x-python",
      "name": "python",
      "nbconvert_exporter": "python",
      "pygments_lexer": "ipython3",
      "version": "3.6.0"
    }
  },
  "nbformat": 4,
  "nbformat_minor": 0
}