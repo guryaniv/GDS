{"cells":[
 {
  "cell_type": "markdown",
  "metadata": {},
  "source": "# Python for Padawans\n\nThis tutorial will go throughthe basic data wrangling workflow I'm sure you all love to hate, in Python! \nFYI: I come from a R background (aka I'm not a proper programmer) so if you see any formatting issues please cut me a bit of slack. \n\n**The aim for this post is to show people how to easily move their R workflows to Python (especially pandas/scikit)**\n\nOne thing I especially like is how consistent all the functions are. You don't need to switch up style like you have to when you move from base R to dplyr etc. \n|\nAnd also, it's apparently much easier to push code to production using Python than R. So there's that. \n\nWithout further ado lets load all our packages"
 },
 {
  "cell_type": "code",
  "execution_count": null,
  "metadata": {
   "collapsed": false
  },
  "outputs": [],
  "source": "%matplotlib inline\nimport os\nimport pandas as pd\nfrom matplotlib import pyplot as plt\nimport numpy as np\nimport math"
 },
 {
  "cell_type": "markdown",
  "metadata": {},
  "source": "#### Don't forget that %matplotlib function. Otherwise your graphs will pop up in separate windows and stop the execution of further cells. And nobody got time for that."
 },
 {
  "cell_type": "code",
  "execution_count": null,
  "metadata": {
   "collapsed": false
  },
  "outputs": [],
  "source": "data = pd.read_csv('../input/loan.csv', low_memory=False)\ndata.drop(['id', 'member_id', 'emp_title'], axis=1, inplace=True)\n\ndata.replace('n/a', np.nan,inplace=True)\ndata.emp_length.fillna(value=0,inplace=True)\ndata['emp_length'].replace(to_replace='[^0-9]+', value='', inplace=True, regex=True)\ndata['emp_length'] = data['emp_length'].astype(int)"
 },
 {
  "cell_type": "markdown",
  "metadata": {},
  "source": "Now let's make some pretty graphs. Coming from R I definitely prefer ggplot2 but the more I use Seaborn, the more I like it. If you kinda forget about adding \"+\" to your graphs and instead use the dot operator, it does essentially the same stuff.\n\n**And I've just found out that you can create your own style sheets to make life easier. Wahoo!**\n\nBut anyway, below I'll show you how to format a decent looking Seaborn graph, as well as how to summarise a given dataframe."
 },
 {
  "cell_type": "code",
  "execution_count": null,
  "metadata": {
   "collapsed": false
  },
  "outputs": [],
  "source": "import seaborn as sns\nimport matplotlib\n\ns = pd.value_counts(data['emp_length']).to_frame().reset_index()\ns.columns = ['type', 'count']\n\ndef emp_dur_graph(graph_title):\n\n    sns.set_style(\"whitegrid\")\n    ax = sns.barplot(y = \"count\", x = 'type', data=s)\n    ax.set(xlabel = '', ylabel = '', title = graph_title)\n    ax.get_yaxis().set_major_formatter(\n    matplotlib.ticker.FuncFormatter(lambda x, p: format(int(x), ',')))\n    _ = ax.set_xticklabels(ax.get_xticklabels(), rotation=0)\n    \nemp_dur_graph('Distribution of employment length for issued loans')"
 },
 {
  "cell_type": "markdown",
  "metadata": {},
  "source": "Now before we move on, we'll look at using style sheets to customize our graphs nice and quickly."
 },
 {
  "cell_type": "code",
  "execution_count": null,
  "metadata": {
   "collapsed": false
  },
  "outputs": [],
  "source": "import seaborn as sns\nimport matplotlib\n\nprint (plt.style.available)"
 },
 {
  "cell_type": "markdown",
  "metadata": {},
  "source": "Now you can see that we've got quite a few to play with. I'm going to focus on the following styles:\n\n- fivethirtyeight (because it's my fav website)\n- seaborn-notebook\n- ggplot\n- classic"
 },
 {
  "cell_type": "code",
  "execution_count": null,
  "metadata": {
   "collapsed": false
  },
  "outputs": [],
  "source": "import seaborn as sns\nimport matplotlib\n\nplt.style.use('fivethirtyeight')\nax = emp_dur_graph('Fivethirty eight style')"
 },
 {
  "cell_type": "code",
  "execution_count": null,
  "metadata": {
   "collapsed": false
  },
  "outputs": [],
  "source": "plt.style.use('seaborn-notebook')\nax = emp_dur_graph('Seaborn-notebook style')"
 },
 {
  "cell_type": "code",
  "execution_count": null,
  "metadata": {
   "collapsed": false
  },
  "outputs": [],
  "source": "plt.style.use('ggplot')\nax = emp_dur_graph('ggplot style')"
 },
 {
  "cell_type": "code",
  "execution_count": null,
  "metadata": {
   "collapsed": false
  },
  "outputs": [],
  "source": "plt.style.use('classic')\nax = emp_dur_graph('classic style')"
 },
 {
  "cell_type": "markdown",
  "metadata": {},
  "source": "Now we want to looking at datetimes. Dates can be quite difficult to manipulate but it's worth the wait. Once they're formatted correctly life becomes much easier"
 },
 {
  "cell_type": "code",
  "execution_count": null,
  "metadata": {
   "collapsed": false
  },
  "outputs": [],
  "source": "import datetime\n\ndata.issue_d.fillna(value=np.nan,inplace=True)\nissue_d_todate = pd.to_datetime(data.issue_d)\ndata.issue_d = pd.Series(data.issue_d).str.replace('-2015', '')\ndata.emp_length.fillna(value=np.nan,inplace=True)\n\ndata.drop(['loan_status'],1, inplace=True)\n\ndata.drop(['pymnt_plan','url','desc','title' ],1, inplace=True)\n\ndata.earliest_cr_line = pd.to_datetime(data.earliest_cr_line)\nimport datetime as dt\ndata.earlilest_cr_line_year = data['earliest_cr_line'].dt.year"
 },
 {
  "cell_type": "markdown",
  "metadata": {},
  "source": "Now I'll show you how you can build on the above data frame summaries as well as make some facet graphs."
 },
 {
  "cell_type": "code",
  "execution_count": null,
  "metadata": {
   "collapsed": false
  },
  "outputs": [],
  "source": "import seaborn as sns\nimport matplotlib.pyplot as plt\n\ns = pd.value_counts(data['earliest_cr_line']).to_frame().reset_index()\ns.columns = ['date', 'count']\n\ns['year'] = s['date'].dt.year\ns['month'] = s['date'].dt.month\n\nd = s[s['year'] > 2008]\n\nplt.rcParams.update(plt.rcParamsDefault)\nsns.set_style(\"whitegrid\")\n\ng = sns.FacetGrid(d, col=\"year\")\ng = g.map(sns.pointplot, \"month\", \"count\")\ng.set(xlabel = 'Month', ylabel = '')\naxes = plt.gca()\n_ = axes.set_ylim([0, d.year.max()])\nplt.tight_layout()"
 },
 {
  "cell_type": "markdown",
  "metadata": {},
  "source": "Now I want to show you how to easily drop columns that match a given pattern. Let's drop any column that includes \"mths\" in it."
 },
 {
  "cell_type": "code",
  "execution_count": null,
  "metadata": {
   "collapsed": false
  },
  "outputs": [],
  "source": "mths = [s for s in data.columns.values if \"mths\" in s]\nmths"
 },
 {
  "cell_type": "code",
  "execution_count": null,
  "metadata": {
   "collapsed": false
  },
  "outputs": [],
  "source": "data.drop(mths, axis=1, inplace=True)"
 },
 {
  "cell_type": "markdown",
  "metadata": {},
  "source": "Things to be covered in future updates:\n\n1. Using groupby statements with ll their different calcs\n2. Handling missing values, going from just mean replacement all the way to k means\n3. df.describe\n4. Using the apply and vectorised functions\n5. Converting a dataframe to a numpy/sklean useful format\n6. Running a simple regression model"
 }
],"metadata":{"kernelspec":{"display_name":"Python 3","language":"python","name":"python3"}}, "nbformat": 4, "nbformat_minor": 0}