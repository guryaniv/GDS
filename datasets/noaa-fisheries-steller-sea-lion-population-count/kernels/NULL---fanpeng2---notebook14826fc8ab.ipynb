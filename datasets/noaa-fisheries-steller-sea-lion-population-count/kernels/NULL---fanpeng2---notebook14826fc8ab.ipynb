{
  "cells": [
    {
      "cell_type": "code",
      "execution_count": null,
      "metadata": {
        "_cell_guid": "3ada9aad-cc65-005e-26ca-035ba82245f2"
      },
      "outputs": [],
      "source": [
        "import numpy as np\n",
        "import pandas as pd\n",
        "\n",
        "train = pd.read_csv('../input/Train/train.csv')\n",
        "submission = pd.read_csv('../input/sample_submission.csv')"
      ]
    },
    {
      "cell_type": "code",
      "execution_count": null,
      "metadata": {
        "_cell_guid": "2b74f568-b905-d2e9-dc50-53e63bb909cd"
      },
      "outputs": [],
      "source": [
        "mean = train.mean().round()"
      ]
    },
    {
      "cell_type": "code",
      "execution_count": null,
      "metadata": {
        "_cell_guid": "b561bf73-e143-6ca0-8d10-27d7235611a2"
      },
      "outputs": [],
      "source": [
        "for c in submission.columns:\n",
        "    if c != 'test_id':\n",
        "        submission[c] = int(mean[c])"
      ]
    },
    {
      "cell_type": "code",
      "execution_count": null,
      "metadata": {
        "_cell_guid": "0fc9e6ac-5ba1-639c-4dc6-763af49073f6"
      },
      "outputs": [],
      "source": [
        "submission.to_csv('submission.csv', index=False)\n",
        "submission.head()"
      ]
    }
  ],
  "metadata": {
    "_change_revision": 0,
    "_is_fork": false,
    "kernelspec": {
      "display_name": "Python 3",
      "language": "python",
      "name": "python3"
    },
    "language_info": {
      "codemirror_mode": {
        "name": "ipython",
        "version": 3
      },
      "file_extension": ".py",
      "mimetype": "text/x-python",
      "name": "python",
      "nbconvert_exporter": "python",
      "pygments_lexer": "ipython3",
      "version": "3.6.0"
    }
  },
  "nbformat": 4,
  "nbformat_minor": 0
}