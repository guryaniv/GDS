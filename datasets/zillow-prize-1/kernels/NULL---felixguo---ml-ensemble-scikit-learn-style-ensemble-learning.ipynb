{
  "cells": [
    {
      "cell_type": "markdown",
      "metadata": {
        "_cell_guid": "0f985e28-d366-9dbd-8fbe-42bea2243c80"
      },
      "source": [
        "# About this competition\n",
        "\n",
        "## PRIZES\n",
        "\n",
        "#### First Round Prizes: $50,000 U.S. Dollars (\"USD\") total\n",
        "\n",
        "* First Place Prize - $25,000 USD\n",
        "\n",
        "* Second Place Prize - $15,000 USD\n",
        "\n",
        "* Third Place Prize - $10,000 USD\n",
        "\n",
        "#### Second Round Prizes: $1,150,000 USD Total\n",
        "\n",
        "* First Place Prize - $1,000,000 USD\n",
        "\n",
        "* Second Place Prize - $100,000 USD\n",
        "\n",
        "* Third Place Prize - $50,000 USD\n",
        "\n",
        "## Timeline\n",
        "The following are the important time points for the **First Round**\n",
        "* First Round Start Date: 5/24/2017 12:01 AM United States Pacific Time (\"PT\")  \n",
        "* Rules Acceptance/Team Merger Deadline: 10/2/2017 11:59 PM PT  \n",
        "* Release of 2017 Training data: 10/2/2017 \n",
        "* Submission Deadline: 10/16/2017 11:59 PM PT After this date, we will not be taking any more submissions. You can sit back and watch the leaderboard unfold. Remember to select your two best submissions to be rescored.\n",
        "* Sales Tracking Start Date: 10/17/2017 \n",
        "* Leaderboard update 1 (October sales): 11/17/2017\n",
        "* Sales Tracking End Date: 12/15/2017 \n",
        "* Leaderboard update 2 (November sales): 12/18/2017\n",
        "* Leaderboard update 3 (December sales): 1/17/2018\n",
        "* First Round Winners & Second Round Qualifiers Announcement: 1/17/2018\n",
        "\n",
        "The following are the important time points for the **Second Round**\n",
        "* Second Round Start Date: 2/1/2018 08:00 AM PT \n",
        "* Second Round Team Merger Deadline: 6/15/2018 \n",
        "* Second Round Submission Deadline: 6/29/2018 11:59 PM PT After this date, we will not be taking any more submissions. Remember to select your two best submissions to be rescored.\n",
        "* Second Round Sales Tracking Start Date: 8/1/2018 \n",
        "* Second Round Sales Tracking End Date: 10/31/2018 11:59 PM PT \n",
        "* Second Round Winners Announcement: on or around 1/15/2019\n",
        "\n",
        "\n",
        "\n",
        "\n",
        "## Error mesure criteria\n",
        "In this competition, Zillow is asking you to predict the log-error between their Zestimate and the actual sale price, given all the features of a home. The log error is defined as\n",
        "\n",
        "logerror=log(Zestimate)\u2212log(SalePrice)\n",
        "\n",
        "and it is recorded in the transactions file train.csv. In this competition, you are going to predict the logerror for the months in Fall 2017. Since all the real estate transactions in the U.S. are publicly available, we will close the competition (no longer accepting submissions) before the evaluation period begins.\n",
        "\n",
        "## Data\n",
        "#### Train/Test split\n",
        "\n",
        "* You are provided with a full list of real estate properties in three counties (Los Angeles, Orange and Ventura, California) data in 2016.\n",
        "* The train data has all the transactions before October 15, 2016, plus some of the transactions after October 15, 2016.\n",
        "* The test data in the public leaderboard has the rest of the transactions between October 15 and December 31, 2016.\n",
        "* The rest of the test data, which is used for calculating the private leaderboard, is all the properties in October 15, 2017, to December 15, 2017. This period is called the \"sales tracking period\", during which we will not be taking any submissions.\n",
        "* You are asked to predict 6 time points for all properties: October 2016 (201610), November 2016 (201611), December 2016 (201612), October 2017 (201710), November 2017 (201711), and December 2017 (201712).\n",
        "* Not all the properties are sold in each time period. If a property was not sold in a certain time period, that particular row will be ignored when calculating your score.\n",
        " If a property is sold multiple times within 31 days, we take the first reasonable value as the ground truth. By \"reasonable\", we mean if the data seems wrong, we will take the transaction that has a value that makes more sense.\n",
        " \n",
        "#### File descriptions\n",
        "* properties_2016.csv - all the properties with their home features for 2016. Note: Some 2017 new properties don't have any data yet except for their parcelid's. Those data points should be populated when properties_2017.csv is available.\n",
        "* properties_2017.csv - all the properties with their home features for 2017 (will be available on 10/2/2017)\n",
        "* train_2016.csv - the training set with transactions from 1/1/2016 to 12/31/2016\n",
        "* train_2017.csv - the training set with transactions from 1/1/2017 to 9/15/2017 (will be available on 10/2/2017)\n",
        "* sample_submission.csv - a sample submission file in the correct format"
      ]
    },
    {
      "cell_type": "markdown",
      "metadata": {
        "_cell_guid": "62b37b2e-4c24-acdd-88f9-cf911c8bbee7"
      },
      "source": [
        "###  About EDA Explortary Data Analysis\n",
        "EDA is the first glance of a hot girl. Whether the girl have pretty face, sexy body and maybe a smart brain.\n",
        "The aim is to observe and take a look at the data to get a first impression. It could be pretty, neaty, chaos or even disaster."
      ]
    },
    {
      "cell_type": "markdown",
      "metadata": {
        "_cell_guid": "f40b52a7-4a6e-4e72-9235-223c97001436"
      },
      "source": [
        "### Property data\n",
        "Let's first take a look at the properties data. Property data is the property information about each of the parcel, including house information, lot size, etc. In here we do have the long/lat and zip code information but not the school information, is there a park nearby or even it's close to some huge companies. We need to consider these information in the future. However, it's not easy to get, might need some other data sources."
      ]
    },
    {
      "cell_type": "code",
      "execution_count": null,
      "metadata": {
        "_cell_guid": "b531a91b-6ef4-f5ff-d5b6-1470fe0a44b3"
      },
      "outputs": [],
      "source": [
        "import numpy as np # linear algebra\n",
        "import pandas as pd # data processing, CSV file I/O (e.g. pd.read_csv)\n",
        "import matplotlib.pyplot as plt\n",
        "import seaborn as sns\n",
        "color = sns.color_palette()\n",
        "\n",
        "%matplotlib inline\n",
        "\n",
        "pd.options.mode.chained_assignment = None  # default='warn'\n",
        "pd.options.display.max_columns = 100"
      ]
    }
  ],
  "metadata": {
    "_change_revision": 0,
    "_is_fork": false,
    "kernelspec": {
      "display_name": "Python 3",
      "language": "python",
      "name": "python3"
    },
    "language_info": {
      "codemirror_mode": {
        "name": "ipython",
        "version": 3
      },
      "file_extension": ".py",
      "mimetype": "text/x-python",
      "name": "python",
      "nbconvert_exporter": "python",
      "pygments_lexer": "ipython3",
      "version": "3.6.0"
    }
  },
  "nbformat": 4,
  "nbformat_minor": 0
}