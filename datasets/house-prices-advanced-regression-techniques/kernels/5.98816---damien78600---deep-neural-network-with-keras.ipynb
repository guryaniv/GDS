{
  "cells": [
    {
      "cell_type": "markdown",
      "metadata": {
        "_cell_guid": "d94c8fd8-8511-a787-8787-f34aa5de441f"
      },
      "source": [
        "Trying out Neural networks on Housing Data set."
      ]
    },
    {
      "cell_type": "code",
      "execution_count": null,
      "metadata": {
        "_cell_guid": "13552f95-74d3-efc2-c2bf-131bd96b4984"
      },
      "outputs": [],
      "source": [
        "# This Python 3 environment comes with many helpful analytics libraries installed\n",
        "# It is defined by the kaggle/python docker image: https://github.com/kaggle/docker-python\n",
        "# For example, here's several helpful packages to load in \n",
        "\n",
        "import numpy as np # linear algebra\n",
        "import pandas as pd # data processing, CSV file I/O (e.g. pd.read_csv)\n",
        "from keras.layers import Dense,Dropout\n",
        "from keras.models import Sequential\n",
        "from keras.optimizers import SGD,RMSprop\n",
        "from sklearn.model_selection import train_test_split\n",
        "from keras.layers.normalization import BatchNormalization\n",
        "from keras import backend as K\n",
        "\n",
        "\n",
        "# Input data files are available in the \"../input/\" directory.\n",
        "# For example, running this (by clicking run or pressing Shift+Enter) will list the files in the input directory\n",
        "\n",
        "from subprocess import check_output\n",
        "print(check_output([\"ls\", \"../input\"]).decode(\"utf8\"))\n",
        "\n",
        "# Any results you write to the current directory are saved as output."
      ]
    },
    {
      "cell_type": "code",
      "execution_count": null,
      "metadata": {
        "_cell_guid": "d9acc11e-c6bf-ad73-78bc-d3a26c84cb27"
      },
      "outputs": [],
      "source": [
        "train = pd.read_csv(\"../input/train.csv\")\n",
        "test = pd.read_csv(\"../input/test.csv\")"
      ]
    },
    {
      "cell_type": "code",
      "execution_count": null,
      "metadata": {
        "_cell_guid": "94a36343-8077-8f39-2658-58af5eb7658c"
      },
      "outputs": [],
      "source": [
        "print(train[['SalePrice']].mean())"
      ]
    },
    {
      "cell_type": "code",
      "execution_count": null,
      "metadata": {
        "_cell_guid": "63843ff5-d2d3-463f-c97e-567ec975592f"
      },
      "outputs": [],
      "source": [
        "y = np.log1p(train[['SalePrice']])\n",
        "print(y.mean())"
      ]
    },
    {
      "cell_type": "code",
      "execution_count": null,
      "metadata": {
        "_cell_guid": "d8e032f0-7b8b-1103-8999-52fcf66f43a2"
      },
      "outputs": [],
      "source": [
        "y = y.SalePrice\n",
        "print(y.mean())"
      ]
    },
    {
      "cell_type": "code",
      "execution_count": null,
      "metadata": {
        "_cell_guid": "e9494397-a1d6-4402-f133-87d70601f8f3"
      },
      "outputs": [],
      "source": [
        "all_data = pd.concat((train.loc[:,'MSSubClass':'SaleCondition'],\n",
        "                    test.loc[:,'MSSubClass':'SaleCondition']))"
      ]
    },
    {
      "cell_type": "code",
      "execution_count": null,
      "metadata": {
        "_cell_guid": "d91b60fc-ac29-2c9e-e6a8-b91468907d33"
      },
      "outputs": [],
      "source": [
        "all_data = pd.get_dummies(all_data)"
      ]
    },
    {
      "cell_type": "code",
      "execution_count": null,
      "metadata": {
        "_cell_guid": "b91f65bf-ac71-e9d8-75be-a364f384a162"
      },
      "outputs": [],
      "source": [
        "all_data = all_data.fillna(all_data.mean())"
      ]
    },
    {
      "cell_type": "code",
      "execution_count": null,
      "metadata": {
        "_cell_guid": "680455bb-9f76-6aac-396c-5114b8b9517e"
      },
      "outputs": [],
      "source": [
        "x_train = np.array(all_data[:train.shape[0]])\n",
        "x_test = np.array(all_data[test.shape[0]+1:])"
      ]
    },
    {
      "cell_type": "code",
      "execution_count": null,
      "metadata": {
        "_cell_guid": "4d3aaf57-4dde-32fe-bb8d-78e6adeccb4a"
      },
      "outputs": [],
      "source": [
        "X_tr, X_val, y_tr, y_val = train_test_split(x_train, y)"
      ]
    },
    {
      "cell_type": "code",
      "execution_count": null,
      "metadata": {
        "_cell_guid": "68936fab-b049-d70e-99fa-d543baaab3c9"
      },
      "outputs": [],
      "source": [
        "X_tr.shape"
      ]
    },
    {
      "cell_type": "code",
      "execution_count": null,
      "metadata": {
        "_cell_guid": "042c9904-4b17-6438-f7cf-ab132d38e3df"
      },
      "outputs": [],
      "source": [
        "model = Sequential()\n",
        "BatchNormalization()\n",
        "model.add(Dense(1028,input_dim=288,activation='relu'))\n",
        "BatchNormalization()\n",
        "Dropout(0.5)\n",
        "model.add(Dense(100,input_dim=1028,activation='relu'))\n",
        "BatchNormalization()\n",
        "Dropout(0.8)\n",
        "model.add(Dense(50))\n",
        "BatchNormalization()\n",
        "model.add(Dense(1))\n",
        "#sgd = SGD(lr=0.01)\n",
        "model.compile( optimizer='adam',loss='mse',metrics=['mean_squared_error'])"
      ]
    },
    {
      "cell_type": "code",
      "execution_count": null,
      "metadata": {
        "_cell_guid": "d376e146-d1e7-81ed-2259-74f5ce88c8cc"
      },
      "outputs": [],
      "source": [
        "model.fit(X_tr,y_tr,validation_data=(X_val,y_val),nb_epoch=30,batch_size=100,verbose=2)"
      ]
    },
    {
      "cell_type": "code",
      "execution_count": null,
      "metadata": {
        "_cell_guid": "7ff14b91-3b4e-6532-c145-d823571715b1"
      },
      "outputs": [],
      "source": [
        "model.summary()"
      ]
    },
    {
      "cell_type": "code",
      "execution_count": null,
      "metadata": {
        "_cell_guid": "d8b1f28a-cc46-5fc8-178d-feebf1988b9a"
      },
      "outputs": [],
      "source": [
        "np.sqrt(model.evaluate(X_val,y_val))"
      ]
    },
    {
      "cell_type": "code",
      "execution_count": null,
      "metadata": {
        "_cell_guid": "b67bd805-2dee-71d3-45f4-bd06da928cfe"
      },
      "outputs": [],
      "source": [
        "def rmse(predictions, targets):\n",
        "    return np.sqrt(((predictions - targets) ** 2).mean())"
      ]
    },
    {
      "cell_type": "code",
      "execution_count": null,
      "metadata": {
        "_cell_guid": "637d72d3-026a-f1e8-5c6b-e824dd28d80a"
      },
      "outputs": [],
      "source": [
        "preds = model.predict(np.array(X_val))\n",
        "print(preds.shape)\n",
        "print(X_val.shape)\n",
        "print(y_val.shape)"
      ]
    },
    {
      "cell_type": "code",
      "execution_count": null,
      "metadata": {
        "_cell_guid": "a584f261-10b8-8902-d20d-061767235447"
      },
      "outputs": [],
      "source": [
        "print(y_val.mean())\n",
        "print(preds.mean())\n",
        "print(rmse(preds[0],y_val))"
      ]
    },
    {
      "cell_type": "code",
      "execution_count": null,
      "metadata": {
        "_cell_guid": "b0c41191-cccb-e54b-a676-f17b2181232a"
      },
      "outputs": [],
      "source": [
        "preds = model.predict(np.array(x_test))"
      ]
    },
    {
      "cell_type": "code",
      "execution_count": null,
      "metadata": {
        "_cell_guid": "721d7c2f-d48e-da1f-7a1d-77f8368d708b"
      },
      "outputs": [],
      "source": [
        "print(preds[1:4])\n",
        "print(preds.shape)\n",
        "print(preds.mean())"
      ]
    },
    {
      "cell_type": "code",
      "execution_count": null,
      "metadata": {
        "_cell_guid": "b437caf4-9e9d-03fd-be0a-786212ae70c8"
      },
      "outputs": [],
      "source": [
        "subm = pd.read_csv(\"../input/sample_submission.csv\")"
      ]
    },
    {
      "cell_type": "code",
      "execution_count": null,
      "metadata": {
        "_cell_guid": "d6be880b-e146-9f8f-4723-f7be02cf3eba"
      },
      "outputs": [],
      "source": [
        "subm.iloc[:,1] = np.array(model.predict(np.array(x_test)))"
      ]
    },
    {
      "cell_type": "code",
      "execution_count": null,
      "metadata": {
        "_cell_guid": "6a42fd7a-7ac7-4511-82e1-236c31b823e6"
      },
      "outputs": [],
      "source": [
        "print(subm[['SalePrice']].mean())"
      ]
    },
    {
      "cell_type": "code",
      "execution_count": null,
      "metadata": {
        "_cell_guid": "c19fe7d0-dd00-bac3-f2af-af0b37ee6c9e"
      },
      "outputs": [],
      "source": [
        "subm['SalePrice'] = np.expm1(subm[['SalePrice']])\n",
        "print(subm[['SalePrice']].mean())"
      ]
    },
    {
      "cell_type": "code",
      "execution_count": null,
      "metadata": {
        "_cell_guid": "8e048aa0-78bd-79a7-8f1c-0216b531d970"
      },
      "outputs": [],
      "source": [
        "subm.to_csv('kerassubmission1.csv', index=None)"
      ]
    },
    {
      "cell_type": "code",
      "execution_count": null,
      "metadata": {
        "_cell_guid": "7dc65507-bbaf-a5cf-e447-8189d43d1452"
      },
      "outputs": [],
      "source": ""
    }
  ],
  "metadata": {
    "_change_revision": 0,
    "_is_fork": false,
    "kernelspec": {
      "display_name": "Python 3",
      "language": "python",
      "name": "python3"
    },
    "language_info": {
      "codemirror_mode": {
        "name": "ipython",
        "version": 3
      },
      "file_extension": ".py",
      "mimetype": "text/x-python",
      "name": "python",
      "nbconvert_exporter": "python",
      "pygments_lexer": "ipython3",
      "version": "3.6.0"
    }
  },
  "nbformat": 4,
  "nbformat_minor": 0
}