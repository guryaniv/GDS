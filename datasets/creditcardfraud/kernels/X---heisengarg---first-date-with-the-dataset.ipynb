{
  "cells": [
    {
      "cell_type": "markdown",
      "metadata": {
        "_cell_guid": "f75943a8-2f4e-267f-2bfb-4804d79b8fba"
      },
      "source": [
        "## My exploration through the sea of fraud..."
      ]
    },
    {
      "cell_type": "code",
      "execution_count": null,
      "metadata": {
        "_cell_guid": "27a8eed3-c353-19db-90db-779102ab61db"
      },
      "outputs": [],
      "source": [
        "import pandas as pd\n",
        "import numpy as np\n",
        "import matplotlib.pyplot as plt\n",
        "import seaborn as sns\n",
        "%matplotlib inline\n",
        "\n",
        "from IPython.display import Image\n",
        "from IPython.core.display import HTML \n",
        "Image(url= \"http://images.memes.com/meme/592575\")"
      ]
    },
    {
      "cell_type": "markdown",
      "metadata": {
        "_cell_guid": "1be941f9-824b-f6ef-42ac-b7960680f889"
      },
      "source": [
        "Let's get hold of that csv and walk through the basics"
      ]
    },
    {
      "cell_type": "code",
      "execution_count": null,
      "metadata": {
        "_cell_guid": "63e4148f-5656-b3bd-9913-abb2c11d2562"
      },
      "outputs": [],
      "source": [
        "df=pd.read_csv('../input/creditcard.csv')"
      ]
    },
    {
      "cell_type": "code",
      "execution_count": null,
      "metadata": {
        "_cell_guid": "8b629de8-29e2-4e2b-e446-7e1f13447992"
      },
      "outputs": [],
      "source": [
        "df.shape"
      ]
    },
    {
      "cell_type": "markdown",
      "metadata": {
        "_cell_guid": "47718582-5854-c533-5f7c-bd1ef8a11de7"
      },
      "source": [
        "The description mentioned that the data is from \"transactions made by credit cards in September 2013 by european cardholders. This dataset present transactions that occurred in two days, where we have 492 frauds out of 284,807 transactions.\"     \n",
        "\n",
        "Also, \"due to confidentiality issues, we cannot provide the original features and more background information about the data\"    \n",
        "\n",
        "So we have 28 features from PCA analysis, Amount, Transaction Time, and Class (identifying Fraud or Not)."
      ]
    },
    {
      "cell_type": "code",
      "execution_count": null,
      "metadata": {
        "_cell_guid": "083eb8a1-6832-5b80-6143-3ebc96200947"
      },
      "outputs": [],
      "source": [
        "df.head()"
      ]
    },
    {
      "cell_type": "code",
      "execution_count": null,
      "metadata": {
        "_cell_guid": "786308e4-cc89-efd6-dbe9-e20c0845bcf0"
      },
      "outputs": [],
      "source": [
        "df.describe()"
      ]
    },
    {
      "cell_type": "code",
      "execution_count": null,
      "metadata": {
        "_cell_guid": "e51926a6-1289-e39b-5caa-25303682dd7e"
      },
      "outputs": [],
      "source": [
        "plt.figure(figsize=(35,20))\n",
        "plt.plot(df.drop(['Time','Amount','Class'],axis=1))\n",
        "plt.legend(df.drop(['Time','Amount','Class',],axis=1).columns)\n",
        "plt.show()"
      ]
    },
    {
      "cell_type": "code",
      "execution_count": null,
      "metadata": {
        "_cell_guid": "7182939b-cf3e-044d-d0d4-9fa989566c5e"
      },
      "outputs": [],
      "source": [
        "Image(url= \"http://s2.quickmeme.com/img/db/dbc97d3b537a3b38f323b2cd9e97228de9342018e72bb18e3b36ec235a8783f5.jpg\")"
      ]
    },
    {
      "cell_type": "markdown",
      "metadata": {
        "_cell_guid": "8e914df2-0f15-c40d-caed-d94fc48f2a4e"
      },
      "source": [
        "Let's look a little more closely this time. At one of the secretive \"features\""
      ]
    },
    {
      "cell_type": "code",
      "execution_count": null,
      "metadata": {
        "_cell_guid": "72ae43cd-3caa-b022-e7f0-f6d06d520221"
      },
      "outputs": [],
      "source": [
        "f, (ax1, ax2) = plt.subplots(1, 2)\n",
        "ax1.set_title('Feature V15')\n",
        "#ax1.set_yaxis('Value')\n",
        "ax1.plot(df['V15'])\n",
        "\n",
        "ax2.set_title('Amount')\n",
        "#ax2.yaxis('Value')\n",
        "ax2.plot(df['Amount'])\n",
        "\n",
        "f.set_figheight(5)\n",
        "f.set_figwidth(15)\n"
      ]
    },
    {
      "cell_type": "markdown",
      "metadata": {
        "_cell_guid": "de23966b-c5d7-b5a1-9a17-6e257dd4785b"
      },
      "source": [
        "The amount feature seems to be interesting. Lets see if there is any direct correlation and if we can map it"
      ]
    },
    {
      "cell_type": "code",
      "execution_count": null,
      "metadata": {
        "_cell_guid": "1e0d1a4f-09df-f37f-acf1-ca7844945eee"
      },
      "outputs": [],
      "source": [
        "Image(url='https://i.imgflip.com/1htaug.jpg')"
      ]
    },
    {
      "cell_type": "code",
      "execution_count": null,
      "metadata": {
        "_cell_guid": "b4dc993d-c3fc-7d2f-3f2f-06268b919e17"
      },
      "outputs": [],
      "source": [
        "plt.figure(figsize=(20,8))\n",
        "plt.ylim(0,4000)\n",
        "plt.plot(df['Amount'])\n",
        "plt.plot(df[df['Class']==1]['Amount'],'ro')\n",
        "plt.show()"
      ]
    },
    {
      "cell_type": "markdown",
      "metadata": {
        "_cell_guid": "15b19d3d-9952-be51-c5cf-a00305e5c9ae"
      },
      "source": [
        "There are no fraud transactions above $2,500 in the dataset. So that can be a big influencing factor."
      ]
    },
    {
      "cell_type": "code",
      "execution_count": null,
      "metadata": {
        "_cell_guid": "c68dfac7-e610-bf6c-8c5f-90bb08b59c20",
        "collapsed": true
      },
      "outputs": [],
      "source": [
        ""
      ]
    }
  ],
  "metadata": {
    "_change_revision": 0,
    "_is_fork": false,
    "kernelspec": {
      "display_name": "Python 3",
      "language": "python",
      "name": "python3"
    },
    "language_info": {
      "codemirror_mode": {
        "name": "ipython",
        "version": 3
      },
      "file_extension": ".py",
      "mimetype": "text/x-python",
      "name": "python",
      "nbconvert_exporter": "python",
      "pygments_lexer": "ipython3",
      "version": "3.5.2"
    }
  },
  "nbformat": 4,
  "nbformat_minor": 0
}