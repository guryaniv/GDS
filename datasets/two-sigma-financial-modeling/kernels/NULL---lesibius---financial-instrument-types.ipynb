{
  "metadata": {
    "kernelspec": {
      "display_name": "Python 3",
      "language": "python",
      "name": "python3"
    },
    "language_info": {
      "codemirror_mode": {
        "name": "ipython",
        "version": 3
      },
      "file_extension": ".py",
      "mimetype": "text/x-python",
      "name": "python",
      "nbconvert_exporter": "python",
      "pygments_lexer": "ipython3",
      "version": "3.5.2"
    }
  },
  "nbformat": 4,
  "nbformat_minor": 0,
  "cells": [
    {
      "cell_type": "markdown",
      "metadata": {
        "_cell_guid": "d53bf129-e47f-77b6-9907-a71d66d366ed",
        "_active": true
      },
      "source": "# Purpose\n\n[disclaimer: newbie in data science, working in finance. Any comment/help is welcome :)]\n\nWatching you guy's kernel and trying to play myself with the data, I noticed that there is a high number of missing values. \n\nWhat I am trying to do here is to check if the assumption that ids in the dataset correspond to the same type of financial securities holds. The idea behind this is that certain variables does not make sense for different securities.\n\nFor instance, it would make no sense for an equity security to have an interest rate (putting aside preferred shares). Even for securities that \"looks\" the same, you may have differences. Assuming that \"fundamental\" variables correspond to data concerning the issuer, calculating the GDP of a corporate bond issuer makes no sense, and governments do not have a US-GAAP/IFRS P&L. \n\nThat being said, I would like to see if I can create clusters of ids solely based on the appearance of certain variables.\n\nLet's try!\n\n# Conclusion so Far\n\n- Using a very naive approach confirmed that clustering according missing values could potentially yield interesting results\n- A heatmap confirmed the previous result and suggested that about 5 clusters would be sufficient\n- Using the silouhette score as a metric suggest that 8 clusters would be optimal\n- When plotting the distribution of y for each cluster, we recover the Gaussian shape present in the original data\n\n# Work in Process\n\nNow that I found a way to create clusters, my goal is to assess these clusters.\n\n# Getting Data\n\nFirst, let's import some libraries and retrieve the data.",
      "outputs": []
    },
    {
      "cell_type": "code",
      "execution_count": null,
      "metadata": {
        "_cell_guid": "af111f25-6fee-7d64-ca6b-4f1ed4c7790d",
        "_active": false
      },
      "outputs": [],
      "source": "#Importing libraries\n\nimport numpy as np # linear algebra\nimport pandas as pd # data processing, CSV file I/O (e.g. pd.read_csv)\nimport matplotlib.pyplot as plt\nimport seaborn as sns\n\n%matplotlib inline\n\n#Getting data\n\n#I owe this to SRK's work here:\n#https://www.kaggle.com/sudalairajkumar/two-sigma-financial-modeling/simple-exploration-notebook/notebook\nwith pd.HDFStore(\"../input/train.h5\", \"r\") as train:\n    df = train.get(\"train\")"
    },
    {
      "cell_type": "markdown",
      "metadata": {
        "_cell_guid": "78210fbc-9bfc-1a02-b25b-cc32da19bdd2",
        "_active": false
      },
      "source": "I will create some variables that might be useful later.",
      "outputs": []
    },
    {
      "cell_type": "code",
      "execution_count": null,
      "metadata": {
        "_cell_guid": "64064c6f-405f-13bc-97e7-5eea819673a6",
        "_active": false
      },
      "outputs": [],
      "source": "input_variables = [x for x in df.columns.values if x not in ['id','y','timestamp']]\n\nprint(\"Number of predicting variables: {0}\".format(len(input_variables)))"
    },
    {
      "cell_type": "markdown",
      "metadata": {
        "_cell_guid": "02363500-b67b-f11c-02d3-a22a4d793e1e",
        "_active": false
      },
      "source": "# A Naive Implementation\n\nMy first try will be rather simple:\n\n 1. First, I create a boolean matrix indicating whether a given variable is present (non-null and non-zero) for a given id\n 2. Then, I check how many unique line I obtain\n\n## Formatting Data\n\nLet us create the dataframe. In this case, I will consider missing values and zeros to be the same. Thus, I begin by transforming all null values to 0.",
      "outputs": []
    },
    {
      "cell_type": "code",
      "execution_count": null,
      "metadata": {
        "_cell_guid": "6797e72c-0cc6-f680-b5dd-1d1d0b38eaef",
        "_active": false
      },
      "outputs": [],
      "source": "df_id_vs_variable = df[['id']+input_variables]       #Removes 'y' and 'timestamp'\ndf_id_vs_variable = df_id_vs_variable.fillna(0)      #Replace na by 0\n\ndf_id_vs_variable.head()"
    },
    {
      "cell_type": "markdown",
      "metadata": {
        "_cell_guid": "f73659c5-be23-680b-e566-8693e2ed6ae3",
        "_active": false
      },
      "source": "Then I aggregate the dataframe by id and sum the variables.",
      "outputs": []
    },
    {
      "cell_type": "code",
      "execution_count": null,
      "metadata": {
        "_cell_guid": "ed23357e-7aee-42d4-39ba-cafdc68fc302",
        "_active": false
      },
      "outputs": [],
      "source": "def makeBinary(x):\n    if abs(x) > 0.00000:\n        return 1\n    else:\n        return 0\n\ndf_id_vs_variable = df_id_vs_variable.groupby('id').agg('sum').applymap(makeBinary)\n\ndf_id_vs_variable.head()"
    },
    {
      "cell_type": "markdown",
      "metadata": {
        "_cell_guid": "04735c67-5193-0276-407d-c5747ef69d18",
        "_active": false
      },
      "source": "## Using our New Dataframe\n\nLet's try to make something out of this dataframe. First, let's get unique rows and try to see how many ids match them.",
      "outputs": []
    },
    {
      "cell_type": "code",
      "execution_count": null,
      "metadata": {
        "_cell_guid": "33bff603-4e0c-225d-0e04-5ec13ca1755e",
        "_active": false
      },
      "outputs": [],
      "source": "df_unique_set_variables = df_id_vs_variable.drop_duplicates(keep=\"first\")\n\nprint(\"Number of securities: {0}\".format(df_id_vs_variable.shape[0]))\nprint(\"Number of unique lines: {0}\".format(df_unique_set_variables.shape[0]))"
    },
    {
      "cell_type": "markdown",
      "metadata": {
        "_cell_guid": "e897e89e-a46d-d7af-030e-b7bb4e409674",
        "_active": false
      },
      "source": "It seems that with this naive implementation, it is possible to categorize our securities within 809 \"clusters\". This is not really efficient, but before to see if I can go any further, I will try to see if some clusters are larger than others.",
      "outputs": []
    },
    {
      "cell_type": "code",
      "execution_count": null,
      "metadata": {
        "_cell_guid": "633e08f9-fa94-4c4b-6eed-e61e7ea65098",
        "_active": false
      },
      "outputs": [],
      "source": "#These lines do not correspond to any \"cluster\"\ndf_no_cluster = df_id_vs_variable.loc[~df_id_vs_variable.duplicated(input_variables,keep=False)]\n\n#These lines are duplicated so they can be \"clustered\"\ndf_cluster = df_id_vs_variable.loc[df_id_vs_variable.duplicated(input_variables,keep=False)]\n\ndf_cluster = df_cluster.groupby(input_variables).size()\n\narray_cluster = df_cluster.values\n\nprint(\"Number of securities that do not belong to a cluster:{0}\".format(df_no_cluster.shape[0]))\nprint(\"Number of clusters: {0}\".format(len(array_cluster)))\nprint(\"Number of securities that belong to a cluster: {0}\".format(sum(array_cluster)))\nprint(\"##########################\")\nprint(\"   Clusters Statistics\")\nprint(\"##########################\")\nprint(df_cluster.describe())\nn, bins, patches = plt.hist(array_cluster, 50, normed=1, facecolor='green', alpha=0.75)\nplt.xlabel('Cluster size')\nplt.ylabel('Distribution')\nplt.title(r'Distribution of Cluster Size')\nplt.show()"
    },
    {
      "cell_type": "markdown",
      "metadata": {
        "_cell_guid": "9c85997e-aaa2-96d1-c0dc-73e7a82cc5df",
        "_active": false
      },
      "source": "## Conclusion\n\nUsing a naive implementation, I found that:\n\n- Considering only the presence/absence of data, we could consider that 809 types of line were present\n- Among them, 723 are unique and can't be clustered\n- The remaining 701 securities can be grouped in 86 clusters\n- 75% of these cluster contain less than 6 securities. However, the largest ones contain more than 70 ids.\n\nThis suggest that some variables may be relevant to only certain securities, which implies that these securities are inherently different.\n\nFollowing this conclusion, I intend to use more sophisticated methods to reduce the number of clusters.\n\n# Unsupervised Learning: Building on the Naive Implementation\n\nFrom now on, I will keep the same idea that the presence/absence of variable might be explained by the type of variables. My first try will be to use the binary matrix that I previously obtained and to see what I can get from this using clustering techniques.\n\n## Visualising the Situation\n\nLet's begin with a heatmap.",
      "outputs": []
    },
    {
      "cell_type": "code",
      "execution_count": null,
      "metadata": {
        "_cell_guid": "bfc705d3-d875-3a6c-2a3e-1d84a2c1a864",
        "_active": false
      },
      "outputs": [],
      "source": "sns.clustermap(df_id_vs_variable.transpose())"
    },
    {
      "cell_type": "markdown",
      "metadata": {
        "_cell_guid": "5f593180-e417-d987-292f-b9dcb47a981c",
        "_active": false
      },
      "source": "Visually, I would expect 5 clusters (4 + 1 for uncategorisable ids) to fit. \n\n## Clustering\n\nIn order to assess this visual result, I plot a silouhette score for the k-means algorithm. ",
      "outputs": []
    },
    {
      "cell_type": "code",
      "execution_count": null,
      "metadata": {
        "_cell_guid": "4a340634-e5f0-bfe7-3030-84e3133e5fa4",
        "_active": false
      },
      "outputs": [],
      "source": "from sklearn.cluster import KMeans\nfrom sklearn.metrics import silhouette_score\n\n#Range for k\nkmin = 2\nkmax = 15\nsil_scores = []\n\n#Compute silouhette scoeres\nfor k in range(kmin,kmax):\n    km = KMeans(n_clusters=k, n_init=20).fit(df_id_vs_variable)\n    sil_scores.append(silhouette_score(df_id_vs_variable, km.labels_))\n\n#Plot\nplt.plot(range(kmin,kmax), sil_scores)\nplt.title('KMeans Results')\nplt.xlabel('Number of Clusters')\nplt.ylabel('Silhouette Score')\nplt.show()"
    },
    {
      "cell_type": "markdown",
      "metadata": {
        "_cell_guid": "fe325e6b-cc26-d7e0-b7c4-e9e46bcb5cfd",
        "_active": false
      },
      "source": "Putting aside the pike for two clusters, this analysis confirms that 3 to 8 clusters would be optimal. \n\n## Assessing The Cluster Design\n\nUsing the number of cluster for the highest silouhette score excepting two clusters (i.e. 8 clusters) I intend to see if this clustering makes sense.\n\nDrawing on the work of [Raphael Suter](https://www.kaggle.com/rasuter/two-sigma-financial-modeling/a-basic-approch-to-cluster-securities), I'll first try to see what the y distribution within each cluster looks like.\n\n### Splitting Dataframes Between Clusters\n\nFirst, let's create the unsupervised learning model from previous insights.",
      "outputs": []
    },
    {
      "cell_type": "code",
      "execution_count": null,
      "metadata": {
        "_cell_guid": "81397a9c-7644-bdc5-dafa-75e058be85e1",
        "_active": false
      },
      "outputs": [],
      "source": "n_clust = 8\n\nkm = KMeans(n_clusters=n_clust, n_init=20).fit(df_id_vs_variable)\nclust = km.predict(df_id_vs_variable)"
    },
    {
      "cell_type": "markdown",
      "metadata": {
        "_cell_guid": "f5edc73d-ede1-ea8f-bccb-35383d9500ad",
        "_active": false
      },
      "source": "Then, we retrieve the indexes in the original dataframe for each cluster.",
      "outputs": []
    },
    {
      "cell_type": "code",
      "execution_count": null,
      "metadata": {
        "_cell_guid": "d266e03a-2b51-b8e7-e6b6-843bc0d5a864",
        "_active": false,
        "collapsed": false
      },
      "outputs": [],
      "source": "#Init table of indexes\ndf_clust_index = {}\nfor i in range(0,n_clust):\n    df_clust_index[i]=[]\n\n#Fill the cluster index\nfor i in range(0,len(clust)):\n    df_clust_index[clust[i]].append(i)\n\nfor i in range(0,n_clust):\n    df_clust_index[i] = df_id_vs_variable.iloc[df_clust_index[i]].index.values\n"
    },
    {
      "cell_type": "markdown",
      "metadata": {
        "_cell_guid": "af691708-1d1b-6853-2c34-cc09cf9481b6",
        "_active": false
      },
      "source": "Then we store each dataframe in a list.",
      "outputs": []
    },
    {
      "cell_type": "code",
      "execution_count": null,
      "metadata": {
        "_cell_guid": "02e38aa7-0985-6b51-9ca3-a6dc17753fd6",
        "_active": false
      },
      "outputs": [],
      "source": "df_clust = []\n\nfor i in range(0,n_clust):\n    df_clust.append(df.loc[df.id.isin(df_clust_index[i])])"
    },
    {
      "cell_type": "markdown",
      "metadata": {
        "_cell_guid": "e2e1ac6a-c7e3-3bdb-70e7-3e49b1d7b63e",
        "_active": false
      },
      "source": "### Results\n\nLet's have a look to the repartition of ids between each cluster.",
      "outputs": []
    },
    {
      "cell_type": "code",
      "execution_count": null,
      "metadata": {
        "_cell_guid": "e7e0c349-3df9-4571-0db6-f2ee054a86bf",
        "_active": false
      },
      "outputs": [],
      "source": "for i in range(0,n_clust):\n    print(df_clust[i].shape[0])"
    },
    {
      "cell_type": "markdown",
      "metadata": {
        "_cell_guid": "ef43db89-5d34-5b64-55bc-c0d53a8b8d1a",
        "_active": false
      },
      "source": "Let's have a look to the y value distribution within clusters.",
      "outputs": []
    },
    {
      "cell_type": "code",
      "execution_count": null,
      "metadata": {
        "_cell_guid": "3c0a52d5-d590-db72-4301-2dbb71f15213",
        "_active": false
      },
      "outputs": [],
      "source": "for i in range(0,n_clust):\n    n, bins, patches = plt.hist(df_clust[i].y.values, 50, normed=1, facecolor='green', alpha=0.75)\n    plt.xlabel('y Value')\n    plt.ylabel('Occurence')\n    plt.title(r'Distribution of y Value for Cluster '+str(i))\n    plt.show()"
    }
  ]
}