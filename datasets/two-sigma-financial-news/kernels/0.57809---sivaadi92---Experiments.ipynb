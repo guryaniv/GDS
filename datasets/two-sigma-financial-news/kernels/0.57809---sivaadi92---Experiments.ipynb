{
  "cells": [
    {
      "metadata": {
        "_uuid": "8f2839f25d086af736a60e9eeb907d3b93b6e0e5",
        "_cell_guid": "b1076dfc-b9ad-4769-8c92-a6c4dae69d19",
        "trusted": true
      },
      "cell_type": "code",
      "source": "# This Python 3 environment comes with many helpful analytics libraries installed\n# It is defined by the kaggle/python docker image: https://github.com/kaggle/docker-python\n# For example, here's several helpful packages to load in \n\nimport numpy as np # linear algebra\nimport pandas as pd # data processing, CSV file I/O (e.g. pd.read_csv)\nimport random as random\n\n# Input data files are available in the \"../input/\" directory.\n# For example, running this (by clicking run or pressing Shift+Enter) will list the files in the input directory\n# Ctrl + Shift + P\nimport os\nprint(os.listdir(\"../input\"))\n\ntoy = True\n# Any results you write to the current directory are saved as output.",
      "execution_count": null,
      "outputs": []
    },
    {
      "metadata": {
        "_cell_guid": "79c7e3d0-c299-4dcb-8224-4455121ee9b0",
        "_uuid": "d629ff2d2480ee46fbb7e2d37f6b5fab8052498a",
        "trusted": true
      },
      "cell_type": "code",
      "source": "from kaggle.competitions import twosigmanews\nenv = twosigmanews.make_env()\n\n(market_train_df, news_train_df) = env.get_training_data()\n\n# train_my_model(market_train_df, news_train_df)",
      "execution_count": null,
      "outputs": []
    },
    {
      "metadata": {
        "trusted": true,
        "_uuid": "64b3ef08caa551415d077ef97912a8ee4a2d8b1f",
        "_kg_hide-output": true,
        "_kg_hide-input": true
      },
      "cell_type": "code",
      "source": "print(market_train_df.shape, news_train_df.shape)\nprint(market_train_df.columns)\nprint(news_train_df.columns)",
      "execution_count": null,
      "outputs": []
    },
    {
      "metadata": {
        "trusted": true,
        "_uuid": "0b1d67f7762f6816e5496a368d52076453849b10"
      },
      "cell_type": "code",
      "source": "# We will reduce the number of samples for memory reasons\ntoy = True\n\nif toy:\n    market_train_df = market_train_df.tail(100_000)\n    news_train_df = news_train_df.tail(300_000)\nelse:\n    market_train_df = market_train_df.tail(3_000_000)\n    news_train_df = news_train_df.tail(6_000_000)\n\nprint(market_train_df.shape)\nprint(news_train_df.shape)\n\n",
      "execution_count": null,
      "outputs": []
    },
    {
      "metadata": {
        "trusted": true,
        "_uuid": "9df21f88e4b056fb994a9a48a5d87d06654434a6"
      },
      "cell_type": "code",
      "source": "import lightgbm as lgb\nimport numpy as np\nimport pandas as pd\nimport matplotlib.pyplot as plt\nfrom itertools import chain\nfrom sklearn.linear_model import LinearRegression\n\n",
      "execution_count": null,
      "outputs": []
    },
    {
      "metadata": {
        "trusted": true,
        "_uuid": "a49cbcc5e20a148213e2bcc381c398b8d370fd0d"
      },
      "cell_type": "code",
      "source": "market_train_df.columns\n\nX_train = market_train_df.iloc[:, 6:-2]\nY_train = market_train_df.iloc[:,-2]\n",
      "execution_count": null,
      "outputs": []
    },
    {
      "metadata": {
        "trusted": true,
        "_uuid": "88b109d5254ecc4935d5ffe10be48785d4a96170"
      },
      "cell_type": "code",
      "source": "# market_train_df.head(5)\nmarket_train_df[market_train_df.assetCode.str.contains('SPY')]\n# market_train_df[market_train_df.asse.str.startswith('f')]\n# market_train_df['assetCode'].unique()\n# market_train_df.loc[market_train_df['assetCode'] == 'MSFT']",
      "execution_count": null,
      "outputs": []
    },
    {
      "metadata": {
        "trusted": true,
        "_uuid": "3da6dfd03bb795aa6aa1bddeb35f8deb86498adf"
      },
      "cell_type": "code",
      "source": "#Experiment\ncolumns = {'returnsClosePrevMktres1', 'returnsOpenPrevMktres1'}\nmarket_train_df.columns.isin(columns)\n# temp = market_train_df.loc[columns]\ntemp.head(5)\n",
      "execution_count": null,
      "outputs": []
    },
    {
      "metadata": {
        "trusted": true,
        "_uuid": "2c3cd23c4b462972ccf279a3d1e4f2d037b5b22f"
      },
      "cell_type": "code",
      "source": "lm = LinearRegression()\nX_train = X_train.ffill()\n# X_train.isnull().any()\nlm.fit(X_train, Y_train)\n# Y_train.isnull().any()",
      "execution_count": null,
      "outputs": []
    },
    {
      "metadata": {
        "trusted": true,
        "_uuid": "dece48e4b9c58726ababf980914292834a1904e7"
      },
      "cell_type": "code",
      "source": "def make_predictions(predictions_template_df, market_obs_df, news_obs_df):\n    sample = market_obs_df.iloc[: , 6:]\n    sample = sample.ffill()\n#     y_pred = pd.DataFrame(0.9, len(sample))\n    y_pred = np.array([0.9 for _ in range(len(sample))])\n    random_noise = np.array([random.uniform(0, 0.01) for _ in range(len(sample))])\n    y_pred = y_pred + random_noise\n    predictions_template_df.confidenceValue = y_pred\n",
      "execution_count": null,
      "outputs": []
    },
    {
      "metadata": {
        "trusted": true,
        "_uuid": "8cea8f484294cdab1550defcf2854b7dbbd69328"
      },
      "cell_type": "code",
      "source": "days = env.get_prediction_days()",
      "execution_count": null,
      "outputs": []
    },
    {
      "metadata": {
        "trusted": true,
        "_uuid": "8a9e55216ec6c92227af05658d0cc8b097a1db7c"
      },
      "cell_type": "code",
      "source": "(market_obs_df, news_obs_df, predictions_template_df) = next(days)",
      "execution_count": null,
      "outputs": []
    },
    {
      "metadata": {
        "trusted": true,
        "scrolled": false,
        "_uuid": "ece07612b1ecb672794769b3b8ef0804d58282f9"
      },
      "cell_type": "code",
      "source": "# sample = market_obs_df.iloc[: , 6:]\n# sample = sample.ffill()\n# y_pred = np.array([0.9 for _ in range(len(sample))])\n# random_noise = np.array([random.uniform(0, 0.1) for _ in range(len(sample))])\n# # random_noise\n# y_pred = y_pred + random_noise\n# predictions_template_df.confidenceValue = y_pred.clip(-1, 1)\n# predictions_template_df",
      "execution_count": null,
      "outputs": []
    },
    {
      "metadata": {
        "trusted": true,
        "_uuid": "8b7d0c5379f7600617ba7cb4c4079702e833341d"
      },
      "cell_type": "code",
      "source": "for (market_obs_df, news_obs_df, predictions_template_df) in days:\n    make_predictions(predictions_template_df, market_obs_df, news_obs_df)\n    env.predict(predictions_template_df)\n\nprint('Done!')\n",
      "execution_count": null,
      "outputs": []
    },
    {
      "metadata": {
        "trusted": true,
        "_uuid": "66abf6e2dd167e41f7026d324619c7bb41e61988"
      },
      "cell_type": "code",
      "source": "env.write_submission_file()\nprint(\"Second run\")",
      "execution_count": null,
      "outputs": []
    }
  ],
  "metadata": {
    "kernelspec": {
      "display_name": "Python 3",
      "language": "python",
      "name": "python3"
    },
    "language_info": {
      "name": "python",
      "version": "3.6.6",
      "mimetype": "text/x-python",
      "codemirror_mode": {
        "name": "ipython",
        "version": 3
      },
      "pygments_lexer": "ipython3",
      "nbconvert_exporter": "python",
      "file_extension": ".py"
    }
  },
  "nbformat": 4,
  "nbformat_minor": 1
}