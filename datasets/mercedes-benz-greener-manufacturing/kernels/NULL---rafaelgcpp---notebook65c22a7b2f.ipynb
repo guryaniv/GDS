{
  "cells": [
    {
      "cell_type": "markdown",
      "metadata": {
        "_cell_guid": "7b2fef18-0cc4-4c91-394c-472f459ca17c"
      },
      "source": [
        "Exploration of training set"
      ]
    },
    {
      "cell_type": "code",
      "execution_count": null,
      "metadata": {
        "_cell_guid": "e3c62f06-1678-369a-0668-7af5e52a448f"
      },
      "outputs": [],
      "source": [
        "# This Python 3 environment comes with many helpful analytics libraries installed\n",
        "# It is defined by the kaggle/python docker image: https://github.com/kaggle/docker-python\n",
        "# For example, here's several helpful packages to load in \n",
        "\n",
        "import numpy as np # linear algebra\n",
        "import pandas as pd # data processing, CSV file I/O (e.g. pd.read_csv)\n",
        "import matplotlib.pyplot as pp \n",
        "\n",
        "# Input data files are available in the \"../input/\" directory.\n",
        "# For example, running this (by clicking run or pressing Shift+Enter) will list the files in the input directory\n",
        "\n",
        "from subprocess import check_output\n",
        "# print(check_output([\"ls\", \"../input\"]).decode(\"utf8\"))\n",
        "\n",
        "# Any results you write to the current directory are saved as output.\n",
        "\n",
        "trainset=pd.read_csv('../input/train.csv')"
      ]
    },
    {
      "cell_type": "code",
      "execution_count": null,
      "metadata": {
        "_cell_guid": "77308107-96aa-2d60-04a5-6923ac9e4fbc"
      },
      "outputs": [],
      "source": [
        "cols=['X%d'%i for i in range(9) if i!=7]\n",
        "a=trainset[cols+['ID']].groupby(cols).count().reset_index() \n",
        "a.sort_values('ID')"
      ]
    },
    {
      "cell_type": "code",
      "execution_count": null,
      "metadata": {
        "_cell_guid": "668ee18e-0762-c278-99b4-378906ee7667"
      },
      "outputs": [],
      "source": [
        "a[a.X0==a.X1].head()"
      ]
    },
    {
      "cell_type": "markdown",
      "metadata": {
        "_cell_guid": "d4b8c06d-88c9-344e-8895-058b6c9bd018"
      },
      "source": [
        "Apparently, X0-X8 are not mutually exclusive values...\n",
        "Let's convert them to numeric."
      ]
    },
    {
      "cell_type": "code",
      "execution_count": null,
      "metadata": {
        "_cell_guid": "af127cd9-da74-7319-f800-7d657077e527"
      },
      "outputs": [],
      "source": [
        "a=np.array(trainset[cols])\n",
        "a=pd.DataFrame(a.ravel())\n",
        "a=a[0].sort_values().unique()\n",
        "\n",
        "la=len(a)\n",
        "dict1={a[i]:2*int(i-np.floor(la/2))/la for i in range(la) }\n",
        "dict2={int(i-np.floor(la/2)):a[i] for i in range(la) }\n",
        "\n",
        "for c in cols:\n",
        "    trainset[c]=trainset[c].map(dict1)\n",
        "   \n",
        "trainset.head()"
      ]
    },
    {
      "cell_type": "code",
      "execution_count": null,
      "metadata": {
        "_cell_guid": "4eaff24e-9d11-e68c-a26b-c46588aedf82"
      },
      "outputs": [],
      "source": [
        "X=np.array(trainset.iloc[:,2:])\n",
        "y=np.array(trainset.iloc[:,1],ndmin=2).T\n",
        "my=max(y)\n",
        "y=y/my"
      ]
    },
    {
      "cell_type": "code",
      "execution_count": null,
      "metadata": {
        "_cell_guid": "042017da-d4a1-8e99-3dac-4b79febb575e"
      },
      "outputs": [],
      "source": [
        "R=np.dot(X.T,X)"
      ]
    },
    {
      "cell_type": "code",
      "execution_count": null,
      "metadata": {
        "_cell_guid": "eb5b8279-12d4-6d07-6eea-5c504efb2694"
      },
      "outputs": [],
      "source": [
        "pp.matshow(R)"
      ]
    },
    {
      "cell_type": "code",
      "execution_count": null,
      "metadata": {
        "_cell_guid": "890ed0ac-87a9-69de-70f2-7237136bf7b3"
      },
      "outputs": [],
      "source": [
        "U,S,V=np.linalg.svd(R)\n",
        "print(np.sum(S>0.01))\n",
        "del U, S, V, R"
      ]
    },
    {
      "cell_type": "markdown",
      "metadata": {
        "_cell_guid": "0bb39f53-8ff5-aec9-15cd-fc4a2642adc0"
      },
      "source": [
        "Existem 260 componentes principais."
      ]
    },
    {
      "cell_type": "code",
      "execution_count": null,
      "metadata": {
        "_cell_guid": "de143c49-e46c-0ce6-11ee-c9c3fecddb44"
      },
      "outputs": [],
      "source": [
        "import sklearn.decomposition as skd\n",
        "pca=skd.PCA(n_components=260, whiten=True)"
      ]
    },
    {
      "cell_type": "code",
      "execution_count": null,
      "metadata": {
        "_cell_guid": "874225ed-5142-f413-b632-4b107d63b235"
      },
      "outputs": [],
      "source": [
        "Xpca=pca.fit(X)"
      ]
    },
    {
      "cell_type": "code",
      "execution_count": null,
      "metadata": {
        "_cell_guid": "47e1fc5a-d266-2d22-d3ca-b2e25e28829d"
      },
      "outputs": [],
      "source": [
        "Xnew=Xpca.transform(X)\n",
        "Xnew.shape"
      ]
    },
    {
      "cell_type": "code",
      "execution_count": null,
      "metadata": {
        "_cell_guid": "2669cf6a-d716-d28a-eba6-37405ff82540"
      },
      "outputs": [],
      "source": [
        "pp.matshow(np.dot(Xnew.T,Xnew))"
      ]
    },
    {
      "cell_type": "code",
      "execution_count": null,
      "metadata": {
        "_cell_guid": "a0673a9a-14b8-655a-de2e-c1e6b96c9c03"
      },
      "outputs": [],
      "source": [
        "import sklearn.neural_network as nn\n",
        "\n",
        "mlp=nn.MLPRegressor(hidden_layer_sizes=(600,300) )"
      ]
    },
    {
      "cell_type": "code",
      "execution_count": null,
      "metadata": {
        "_cell_guid": "10f61d62-881c-ba67-c3e0-bac4ba2872b0"
      },
      "outputs": [],
      "source": [
        "mlp=mlp.fit(Xnew,y.ravel())"
      ]
    },
    {
      "cell_type": "code",
      "execution_count": null,
      "metadata": {
        "_cell_guid": "075dab63-4d4d-d0f4-d36a-66400c089784"
      },
      "outputs": [],
      "source": [
        "mlp.score(Xnew,y.ravel())"
      ]
    },
    {
      "cell_type": "code",
      "execution_count": null,
      "metadata": {
        "_cell_guid": "21fc7aae-c8d3-b98c-b828-7935b705a036"
      },
      "outputs": [],
      "source": [
        "testdata=pd.read_csv('../input/test.csv')\n",
        "for c in cols:\n",
        "    testdata[c]=testdata[c].map(dict1)\n",
        "\n",
        "testdata.head()\n",
        "Xtest=Xpca.transform(np.array(testdata.iloc[:,1:]))\n"
      ]
    }
  ],
  "metadata": {
    "_change_revision": 0,
    "_is_fork": false,
    "kernelspec": {
      "display_name": "Python 3",
      "language": "python",
      "name": "python3"
    },
    "language_info": {
      "codemirror_mode": {
        "name": "ipython",
        "version": 3
      },
      "file_extension": ".py",
      "mimetype": "text/x-python",
      "name": "python",
      "nbconvert_exporter": "python",
      "pygments_lexer": "ipython3",
      "version": "3.6.0"
    }
  },
  "nbformat": 4,
  "nbformat_minor": 0
}