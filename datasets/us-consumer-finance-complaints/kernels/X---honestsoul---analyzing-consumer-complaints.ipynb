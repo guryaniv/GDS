{"cells":[
 {
  "cell_type": "code",
  "execution_count": null,
  "metadata": {
   "collapsed": false
  },
  "outputs": [],
  "source": "import pandas as pd\nimport numpy as np\n#from matplotlib.plot import plt\nimport matplotlib\n# display graphs inline\n%matplotlib inline \n\n# Make graphs prettier\npd.set_option('display.max_columns', 10)\npd.set_option('display.width', 700)\n#pd.set_option('display.mpl_style', 'default')\nmatplotlib.style.use('ggplot')\n# Make the fonts bigger\nmatplotlib.rc('figure', figsize=(14, 7))\nmatplotlib.rc('font', weight='bold', size=15)\nimport seaborn as sns"
 },
 {
  "cell_type": "code",
  "execution_count": null,
  "metadata": {
   "collapsed": false
  },
  "outputs": [],
  "source": "consumer_complaint = pd.read_csv(\"../input/consumer_complaints.csv\", encoding='utf8', sep=',', parse_dates=True,low_memory=False)"
 },
 {
  "cell_type": "code",
  "execution_count": null,
  "metadata": {
   "collapsed": false
  },
  "outputs": [],
  "source": "consumer_complaint.rename(columns = {'consumer_disputed?':'consumer_disputed'},inplace = True)"
 },
 {
  "cell_type": "code",
  "execution_count": null,
  "metadata": {
   "collapsed": false
  },
  "outputs": [],
  "source": "complain_flag = '1'*len(consumer_complaint['state'])\nconsumer_complaint['complains'] = [ int(x) for x in complain_flag if not x  == ',']\nconsumer_complaint_state_wise = consumer_complaint.groupby('state').aggregate(np.sum)\nconsumer_complaint_state_wise.drop('complaint_id', axis = 1, inplace =  True)\nconsumer_complaint_state_wise.plot(kind = 'bar')"
 },
 {
  "cell_type": "markdown",
  "metadata": {},
  "source": "State(s) with Maximum complaints"
 },
 {
  "cell_type": "code",
  "execution_count": null,
  "metadata": {
   "collapsed": false
  },
  "outputs": [],
  "source": "consumer_complaint_state_wise[consumer_complaint_state_wise['complains'] == consumer_complaint_state_wise['complains'].max()]"
 },
 {
  "cell_type": "markdown",
  "metadata": {},
  "source": "State(s) with Minimum complaints"
 },
 {
  "cell_type": "code",
  "execution_count": null,
  "metadata": {
   "collapsed": false
  },
  "outputs": [],
  "source": "consumer_complaint_state_wise[consumer_complaint_state_wise['complains'] == consumer_complaint_state_wise['complains'].min()]"
 },
 {
  "cell_type": "markdown",
  "metadata": {},
  "source": "Company wise Complaint Analysis"
 },
 {
  "cell_type": "code",
  "execution_count": null,
  "metadata": {
   "collapsed": false
  },
  "outputs": [],
  "source": "consumer_complaint_compnay_wise = consumer_complaint.groupby('company').aggregate(np.sum)\nconsumer_complaint_compnay_wise.drop('complaint_id', axis = 1, inplace =  True)\n"
 },
 {
  "cell_type": "markdown",
  "metadata": {},
  "source": "Company with most number of Complaints"
 },
 {
  "cell_type": "code",
  "execution_count": null,
  "metadata": {
   "collapsed": false
  },
  "outputs": [],
  "source": "consumer_complaint_compnay_wise[consumer_complaint_compnay_wise['complains'] == consumer_complaint_compnay_wise['complains'].max()]"
 },
 {
  "cell_type": "markdown",
  "metadata": {},
  "source": "Compnaies with 10000 and more Complaints"
 },
 {
  "cell_type": "code",
  "execution_count": null,
  "metadata": {
   "collapsed": false
  },
  "outputs": [],
  "source": "consumer_complaint_compnay_wise[consumer_complaint_compnay_wise['complains'] > 10000].plot(kind = 'bar')"
 },
 {
  "cell_type": "markdown",
  "metadata": {},
  "source": "Product Wise Analysis"
 },
 {
  "cell_type": "code",
  "execution_count": null,
  "metadata": {
   "collapsed": false
  },
  "outputs": [],
  "source": "consumer_complaint_product_wise = consumer_complaint.groupby('product').aggregate(np.sum)\nconsumer_complaint_product_wise.drop('complaint_id', axis = 1, inplace =  True)"
 },
 {
  "cell_type": "markdown",
  "metadata": {},
  "source": "Product with Most number of Complaints"
 },
 {
  "cell_type": "code",
  "execution_count": null,
  "metadata": {
   "collapsed": false
  },
  "outputs": [],
  "source": "consumer_complaint_product_wise[consumer_complaint_product_wise['complains'] == consumer_complaint_product_wise['complains'].max()]"
 },
 {
  "cell_type": "markdown",
  "metadata": {},
  "source": "Product with Least number of Complaints"
 },
 {
  "cell_type": "code",
  "execution_count": null,
  "metadata": {
   "collapsed": false
  },
  "outputs": [],
  "source": "consumer_complaint_product_wise[consumer_complaint_product_wise['complains'] == consumer_complaint_product_wise['complains'].min()]"
 },
 {
  "cell_type": "code",
  "execution_count": null,
  "metadata": {
   "collapsed": false
  },
  "outputs": [],
  "source": "consumer_complaint_product_wise.plot(kind = 'bar')"
 },
 {
  "cell_type": "markdown",
  "metadata": {},
  "source": "Companies with Best Customer Services"
 },
 {
  "cell_type": "code",
  "execution_count": null,
  "metadata": {
   "collapsed": false
  },
  "outputs": [],
  "source": "consumer_complaint_best_cc =  consumer_complaint[(consumer_complaint.timely_response == 'Yes') &\n                                                 (consumer_complaint.consumer_disputed == 'No')]\nconsumer_complaint_best_cc = consumer_complaint_best_cc.groupby('company').aggregate(np.sum)\nconsumer_complaint_best_cc.drop('complaint_id', axis = 1, inplace =  True)\nconsumer_complaint_best_cc[consumer_complaint_best_cc['complains'] == consumer_complaint_best_cc['complains'].max()]"
 },
 {
  "cell_type": "markdown",
  "metadata": {},
  "source": "But wait!! this is just showing number of complained resolved where customers have not disputed.We need to do more to find the best and worst companies when it comes to customer services."
 },
 {
  "cell_type": "code",
  "execution_count": null,
  "metadata": {
   "collapsed": false
  },
  "outputs": [],
  "source": "consumer_complaint['percent_resolution'] = np.where((consumer_complaint.timely_response.str.contains('Yes') &\n                                                                    consumer_complaint.consumer_disputed.str.contains('No')), 1, 0)\nconsumer_complaint_best_cc = consumer_complaint.groupby('company').aggregate(np.sum)\nconsumer_complaint_best_cc.drop('complaint_id', axis = 1, inplace =  True)\nconsumer_complaint_best_cc['percent_resolution'] = consumer_complaint_best_cc['percent_resolution']/consumer_complaint_best_cc['complains']\nconsumer_complaint_best_cc['percent_resolution']  = consumer_complaint_best_cc['percent_resolution'] .apply(lambda x : float(x*100))"
 },
 {
  "cell_type": "markdown",
  "metadata": {},
  "source": "To Make it more fair ,let's consider Companies with number of complains more than 5000"
 },
 {
  "cell_type": "code",
  "execution_count": null,
  "metadata": {
   "collapsed": false
  },
  "outputs": [],
  "source": "consumer_complaint_best_cc= consumer_complaint_best_cc[consumer_complaint_best_cc['complains'] >= 5000]\nconsumer_complaint_best_cc.sort_values('percent_resolution', ascending = False)"
 },
 {
  "cell_type": "code",
  "execution_count": null,
  "metadata": {
   "collapsed": false
  },
  "outputs": [],
  "source": "consumer_complaint_best_cc['percent_resolution'].plot(kind = 'bar')"
 },
 {
  "cell_type": "markdown",
  "metadata": {},
  "source": "Experian is the compnay when it comes to customer satisfaction."
 }
],"metadata":{"kernelspec":{"display_name":"Python 3","language":"python","name":"python3"}}, "nbformat": 4, "nbformat_minor": 0}