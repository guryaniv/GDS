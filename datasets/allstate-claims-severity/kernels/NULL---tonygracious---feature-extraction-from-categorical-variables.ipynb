{
  "cells": [
    {
      "cell_type": "code",
      "execution_count": null,
      "metadata": {
        "_cell_guid": "b47f4a76-419c-b2a7-23d5-069391581a9d"
      },
      "outputs": [],
      "source": [
        "import pandas as pd\n",
        "import numpy as np"
      ]
    },
    {
      "cell_type": "code",
      "execution_count": null,
      "metadata": {
        "_cell_guid": "ee27e799-d34a-d68a-9708-a8c35d8c9f51"
      },
      "outputs": [],
      "source": [
        "df_train = pd.read_csv('../input/train.csv')"
      ]
    },
    {
      "cell_type": "code",
      "execution_count": null,
      "metadata": {
        "_cell_guid": "d5e10077-822b-ec0d-7c94-ec4a8e9482d9"
      },
      "outputs": [],
      "source": ""
    },
    {
      "cell_type": "code",
      "execution_count": null,
      "metadata": {
        "_cell_guid": "e28a5ca9-b18d-aff8-ac71-85a8b659c593"
      },
      "outputs": [],
      "source": [
        "df_train.head()"
      ]
    },
    {
      "cell_type": "code",
      "execution_count": null,
      "metadata": {
        "_cell_guid": "a871170c-b9c9-fd6a-f355-04fbddc93f02"
      },
      "outputs": [],
      "source": [
        "df_test = pd.read_csv('../input/test.csv')"
      ]
    },
    {
      "cell_type": "code",
      "execution_count": null,
      "metadata": {
        "_cell_guid": "e82c9600-a66b-6344-739f-709fc375730b"
      },
      "outputs": [],
      "source": [
        "df_test.head()"
      ]
    },
    {
      "cell_type": "code",
      "execution_count": null,
      "metadata": {
        "_cell_guid": "4b832311-9847-2c9b-3327-837d59087e8c"
      },
      "outputs": [],
      "source": [
        "%matplotlib inline\n",
        "import matplotlib.pyplot as plt\n",
        "import seaborn as sns"
      ]
    },
    {
      "cell_type": "code",
      "execution_count": null,
      "metadata": {
        "_cell_guid": "15cfd4c7-9d0a-2fda-246b-de29dae9fc5a"
      },
      "outputs": [],
      "source": [
        "num_train = df_train.shape[0]"
      ]
    },
    {
      "cell_type": "code",
      "execution_count": null,
      "metadata": {
        "_cell_guid": "82dd19ef-defa-4feb-8c5d-529cdb2cc16f"
      },
      "outputs": [],
      "source": [
        "df_test['loss'] = 0"
      ]
    },
    {
      "cell_type": "code",
      "execution_count": null,
      "metadata": {
        "_cell_guid": "511bbcc5-eaa9-0a84-4dbd-4df34dbe4428"
      },
      "outputs": [],
      "source": [
        "df_all = pd.concat((df_train, df_test), axis=0, ignore_index=True)"
      ]
    },
    {
      "cell_type": "code",
      "execution_count": null,
      "metadata": {
        "_cell_guid": "abcb36af-29fb-043a-0b09-aaf5c74a6675"
      },
      "outputs": [],
      "source": [
        "cols = df_all.columns"
      ]
    },
    {
      "cell_type": "code",
      "execution_count": null,
      "metadata": {
        "_cell_guid": "b08a105e-9545-4204-ac62-06718f8120a7"
      },
      "outputs": [],
      "source": [
        "cols_categorical = cols[1:117].values"
      ]
    },
    {
      "cell_type": "code",
      "execution_count": null,
      "metadata": {
        "_cell_guid": "55c8b492-3284-beec-182b-6458271dcac0"
      },
      "outputs": [],
      "source": [
        "df_all.head()"
      ]
    },
    {
      "cell_type": "code",
      "execution_count": null,
      "metadata": {
        "_cell_guid": "8d9c3875-966b-f299-a5fa-d63fc516203a"
      },
      "outputs": [],
      "source": [
        "binary =[]\n",
        "non_binary = []\n",
        "for i in cols_categorical :\n",
        "    if  len( np.unique(df_train[i])) ==2 :\n",
        "        binary.append(i)\n",
        "    else :\n",
        "        non_binary.append(i)\n",
        "    "
      ]
    },
    {
      "cell_type": "code",
      "execution_count": null,
      "metadata": {
        "_cell_guid": "f2c55908-1d2f-7565-b595-a50248924eef"
      },
      "outputs": [],
      "source": [
        "for i in binary :\n",
        "    df_all[i] = df_all[i].apply(lambda x : 0 if x=='A' else 1)"
      ]
    },
    {
      "cell_type": "code",
      "execution_count": null,
      "metadata": {
        "_cell_guid": "e0953a9e-b468-cabd-26bc-b68d148b78d8"
      },
      "outputs": [],
      "source": [
        "df_all.head()"
      ]
    },
    {
      "cell_type": "code",
      "execution_count": null,
      "metadata": {
        "_cell_guid": "182a926a-a728-ab25-f586-012e958a9c11"
      },
      "outputs": [],
      "source": [
        "from scipy.sparse import csr_matrix, hstack"
      ]
    },
    {
      "cell_type": "code",
      "execution_count": null,
      "metadata": {
        "_cell_guid": "af4616b5-c029-0bc1-b2d7-bea0567101eb"
      },
      "outputs": [],
      "source": [
        "for j, i in enumerate(non_binary) :\n",
        "    if j == 0 :\n",
        "        feature_non_binary_categorical= csr_matrix( pd.get_dummies(df_all[i], prefix=i,sparse=True ) )\n",
        "    else :\n",
        "        feature_non_binary_categorical = hstack((feature_non_binary_categorical, csr_matrix( pd.get_dummies(df_all[i], prefix=i,sparse=True ) )  ))\n",
        "    \n",
        "    "
      ]
    },
    {
      "cell_type": "code",
      "execution_count": null,
      "metadata": {
        "_cell_guid": "b87d1a79-84ae-22b9-ab6a-12998b596c6f"
      },
      "outputs": [],
      "source": [
        "feature_binary_categorical = csr_matrix(  df_all[binary].values )"
      ]
    },
    {
      "cell_type": "code",
      "execution_count": null,
      "metadata": {
        "_cell_guid": "01bac010-3582-a88c-5a92-7bccbbdff127"
      },
      "outputs": [],
      "source": [
        "feature_categorical =csr_matrix(  hstack((feature_binary_categorical, feature_non_binary_categorical)) )"
      ]
    },
    {
      "cell_type": "code",
      "execution_count": null,
      "metadata": {
        "_cell_guid": "2619676c-d3be-ddeb-7b53-7095f7c0bf68"
      },
      "outputs": [],
      "source": [
        "feature_categorical_train = feature_categorical[:num_train]"
      ]
    },
    {
      "cell_type": "code",
      "execution_count": null,
      "metadata": {
        "_cell_guid": "46d017b8-0605-5a0a-da41-57ef1afd0f72"
      },
      "outputs": [],
      "source": [
        "prediction = df_all.loss.values[:num_train]"
      ]
    },
    {
      "cell_type": "code",
      "execution_count": null,
      "metadata": {
        "_cell_guid": "68052de3-9a64-ef51-a98f-d3dfaa0d0d92"
      },
      "outputs": [],
      "source": [
        "from sklearn.decomposition import TruncatedSVD"
      ]
    },
    {
      "cell_type": "code",
      "execution_count": null,
      "metadata": {
        "_cell_guid": "4f815c7e-b4e3-9c0e-e36b-572a37a9c502"
      },
      "outputs": [],
      "source": [
        "trans = TruncatedSVD(n_components = 2)\n",
        "feature_categorical_reduced= trans.fit_transform(feature_categorical_train)"
      ]
    },
    {
      "cell_type": "code",
      "execution_count": null,
      "metadata": {
        "_cell_guid": "d6dc18f7-4919-0be4-efd7-1a9c37f99e62"
      },
      "outputs": [],
      "source": [
        "plt.scatter(feature_categorical_reduced[:,0],feature_categorical_reduced[:,1], c=prediction, alpha=0.5)\n"
      ]
    },
    {
      "cell_type": "code",
      "execution_count": null,
      "metadata": {
        "_cell_guid": "8184707b-e3c9-b489-77b6-ddc2bc42ddba"
      },
      "outputs": [],
      "source": ""
    }
  ],
  "metadata": {
    "_change_revision": 0,
    "_is_fork": false,
    "kernelspec": {
      "display_name": "Python 3",
      "language": "python",
      "name": "python3"
    },
    "language_info": {
      "codemirror_mode": {
        "name": "ipython",
        "version": 3
      },
      "file_extension": ".py",
      "mimetype": "text/x-python",
      "name": "python",
      "nbconvert_exporter": "python",
      "pygments_lexer": "ipython3",
      "version": "3.5.2"
    }
  },
  "nbformat": 4,
  "nbformat_minor": 0
}