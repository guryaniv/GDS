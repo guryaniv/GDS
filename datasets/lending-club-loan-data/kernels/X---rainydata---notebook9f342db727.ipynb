{
  "cells": [
    {
      "cell_type": "code",
      "execution_count": null,
      "metadata": {
        "_cell_guid": "3cf8ebfc-85df-0a2d-25d4-3775ec61c1f5"
      },
      "outputs": [],
      "source": [
        "import os\n",
        "import pandas as pd\n",
        "from matplotlib import pyplot as plt\n",
        "import numpy as np\n",
        "import math"
      ]
    },
    {
      "cell_type": "code",
      "execution_count": null,
      "metadata": {
        "_cell_guid": "1bad5813-4438-f6b8-89d0-d3ce9b26e51b"
      },
      "outputs": [],
      "source": [
        "data = pd.read_csv('../input/loan.csv', low_memory=False)\n",
        "data.drop(['id', 'member_id', 'emp_title'], axis=1, inplace=True)\n",
        "\n",
        "list(data)"
      ]
    },
    {
      "cell_type": "code",
      "execution_count": null,
      "metadata": {
        "_cell_guid": "d759bb40-15d2-f36d-99d0-cc5fdf4ca435"
      },
      "outputs": [],
      "source": [
        "plt.hist(data['loan_amnt'])\n",
        "plt.show()"
      ]
    }
  ],
  "metadata": {
    "_change_revision": 0,
    "_is_fork": false,
    "kernelspec": {
      "display_name": "Python 3",
      "language": "python",
      "name": "python3"
    },
    "language_info": {
      "codemirror_mode": {
        "name": "ipython",
        "version": 3
      },
      "file_extension": ".py",
      "mimetype": "text/x-python",
      "name": "python",
      "nbconvert_exporter": "python",
      "pygments_lexer": "ipython3",
      "version": "3.5.2"
    }
  },
  "nbformat": 4,
  "nbformat_minor": 0
}