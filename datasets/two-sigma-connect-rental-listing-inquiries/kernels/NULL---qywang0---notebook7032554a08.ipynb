{
  "cells": [
    {
      "cell_type": "code",
      "execution_count": null,
      "metadata": {
        "_cell_guid": "634bb3a5-03ba-95b4-5914-8162b59d15dc"
      },
      "outputs": [],
      "source": [
        "import os\n",
        "import sys\n",
        "import operator\n",
        "import numpy as np\n",
        "import pandas as pd\n",
        "from scipy import sparse\n",
        "import xgboost as xgb\n",
        "import random\n",
        "from sklearn import model_selection, preprocessing, ensemble\n",
        "from sklearn.metrics import log_loss\n",
        "from sklearn.feature_extraction.text import TfidfVectorizer, CountVectorizer\n",
        "from textblob import TextBlob"
      ]
    },
    {
      "cell_type": "code",
      "execution_count": null,
      "metadata": {
        "_cell_guid": "b9c303cd-33d7-c751-73f9-60758d21a05b"
      },
      "outputs": [],
      "source": [
        "train_df=pd.read_json('../input/train.json')\n",
        "test_df=pd.read_json('../input/test.json')"
      ]
    },
    {
      "cell_type": "code",
      "execution_count": null,
      "metadata": {
        "_cell_guid": "ad94d4df-3cfb-825e-24ce-e09f97fa49d0"
      },
      "outputs": [],
      "source": [
        "test_df.head()"
      ]
    },
    {
      "cell_type": "code",
      "execution_count": null,
      "metadata": {
        "_cell_guid": "b9b86471-6d9c-7782-ddd6-675eb4dacf21"
      },
      "outputs": [],
      "source": [
        "# basic features\n",
        "train_df[\"room_sum\"] = train_df[\"bedrooms\"]+train_df[\"bathrooms\"] \n",
        "test_df[\"room_sum\"] = test_df[\"bedrooms\"]+test_df[\"bathrooms\"] \n",
        "train_df[\"price_t\"] =train_df[\"price\"]/train_df[\"bedrooms\"]\n",
        "test_df[\"price_t\"] = test_df[\"price\"]/test_df[\"bedrooms\"] \n",
        "\n",
        "\n",
        "# count of photos #\n",
        "train_df[\"num_photos\"] = train_df[\"photos\"].apply(len)\n",
        "test_df[\"num_photos\"] = test_df[\"photos\"].apply(len)\n",
        "\n",
        "# count of \"features\" #\n",
        "train_df[\"num_features\"] = train_df[\"features\"].apply(len)\n",
        "test_df[\"num_features\"] = test_df[\"features\"].apply(len)\n",
        "\n",
        "# count of words present in description column #\n",
        "train_df[\"num_description_words\"] = train_df[\"description\"].apply(lambda x: len(x.split(\" \")))\n",
        "test_df[\"num_description_words\"] = test_df[\"description\"].apply(lambda x: len(x.split(\" \")))\n",
        "\n",
        "\n",
        "\n",
        "\n",
        "features_to_use=[\"bathrooms\", \"bedrooms\", \"latitude\", \"longitude\", \"price\",\"price_t\",\"num_photos\", \"num_features\", \"num_description_words\",\"listing_id\"]"
      ]
    },
    {
      "cell_type": "code",
      "execution_count": null,
      "metadata": {
        "_cell_guid": "9006381c-63cd-0c11-183d-27d9bf62f795"
      },
      "outputs": [],
      "source": [
        "score1 = []\n",
        "for i in train_df['description']:\n",
        "    s = TextBlob(i)\n",
        "    score1.append(s.sentiment.polarity)\n",
        "train_df[\"desc_score\"] = score1\n",
        "\n",
        "score2 = []\n",
        "for i in test_df['description']:\n",
        "    s = TextBlob(i)\n",
        "    score2.append(s.sentiment.polarity)\n",
        "test_df[\"desc_score\"] = score2"
      ]
    },
    {
      "cell_type": "code",
      "execution_count": null,
      "metadata": {
        "_cell_guid": "72a1806d-edd0-d981-5600-7ace433f2b9a"
      },
      "outputs": [],
      "source": [
        "features_to_use.append('desc_score')"
      ]
    },
    {
      "cell_type": "code",
      "execution_count": null,
      "metadata": {
        "_cell_guid": "6c3c6203-6da0-69ad-571a-b305a3fc483d"
      },
      "outputs": [],
      "source": [
        "def runXGB(train_X, train_y, test_X, test_y=None, feature_names=None, seed_val=0, num_rounds=1000):\n",
        "    param = {}\n",
        "    param['objective'] = 'multi:softprob'\n",
        "    param['eta'] = 0.03 #0.03 is the original step\n",
        "    param['max_depth'] = 6\n",
        "    param['silent'] = 1\n",
        "    param['num_class'] = 3\n",
        "    param['eval_metric'] = \"mlogloss\"\n",
        "    param['min_child_weight'] = 1\n",
        "    param['subsample'] = 0.7\n",
        "    param['colsample_bytree'] = 0.7\n",
        "    param['seed'] = seed_val\n",
        "    num_rounds = num_rounds\n",
        "\n",
        "    plst = list(param.items())\n",
        "    xgtrain = xgb.DMatrix(train_X, label=train_y)\n",
        "\n",
        "    if test_y is not None:\n",
        "        xgtest = xgb.DMatrix(test_X, label=test_y)\n",
        "        watchlist = [ (xgtrain,'train'), (xgtest, 'test') ]\n",
        "        model = xgb.train(plst, xgtrain, num_rounds, watchlist, early_stopping_rounds=20)\n",
        "    else:\n",
        "        xgtest = xgb.DMatrix(test_X)\n",
        "        model = xgb.train(plst, xgtrain, num_rounds)\n",
        "\n",
        "    pred_test_y = model.predict(xgtest)\n",
        "    return pred_test_y, model"
      ]
    },
    {
      "cell_type": "code",
      "execution_count": null,
      "metadata": {
        "_cell_guid": "2b3ed30d-3a26-0e74-dcf7-0f72c219294a"
      },
      "outputs": [],
      "source": [
        "index=list(range(train_df.shape[0]))\n",
        "random.shuffle(index)\n",
        "a=[np.nan]*len(train_df)\n",
        "b=[np.nan]*len(train_df)\n",
        "c=[np.nan]*len(train_df)\n",
        "\n",
        "for i in range(5):\n",
        "    building_level={}\n",
        "    for j in train_df['manager_id'].values:\n",
        "        building_level[j]=[0,0,0]\n",
        "    test_index=index[int((i*train_df.shape[0])/5):int(((i+1)*train_df.shape[0])/5)]\n",
        "    train_index=list(set(index).difference(test_index))\n",
        "    for j in train_index:\n",
        "        temp=train_df.iloc[j]\n",
        "        if temp['interest_level']=='low':\n",
        "            building_level[temp['manager_id']][0]+=1\n",
        "        if temp['interest_level']=='medium':\n",
        "            building_level[temp['manager_id']][1]+=1\n",
        "        if temp['interest_level']=='high':\n",
        "            building_level[temp['manager_id']][2]+=1\n",
        "    for j in test_index:\n",
        "        temp=train_df.iloc[j]\n",
        "        if sum(building_level[temp['manager_id']])!=0:\n",
        "            a[j]=building_level[temp['manager_id']][0]*1.0/sum(building_level[temp['manager_id']])\n",
        "            b[j]=building_level[temp['manager_id']][1]*1.0/sum(building_level[temp['manager_id']])\n",
        "            c[j]=building_level[temp['manager_id']][2]*1.0/sum(building_level[temp['manager_id']])\n",
        "train_df['manager_level_low']=a\n",
        "train_df['manager_level_medium']=b\n",
        "train_df['manager_level_high']=c\n",
        "\n",
        "\n",
        "\n",
        "a=[]\n",
        "b=[]\n",
        "c=[]\n",
        "building_level={}\n",
        "for j in train_df['manager_id'].values:\n",
        "    building_level[j]=[0,0,0]\n",
        "for j in range(train_df.shape[0]):\n",
        "    temp=train_df.iloc[j]\n",
        "    if temp['interest_level']=='low':\n",
        "        building_level[temp['manager_id']][0]+=1\n",
        "    if temp['interest_level']=='medium':\n",
        "        building_level[temp['manager_id']][1]+=1\n",
        "    if temp['interest_level']=='high':\n",
        "        building_level[temp['manager_id']][2]+=1\n",
        "\n",
        "for i in test_df['manager_id'].values:\n",
        "    if i not in building_level.keys():\n",
        "        a.append(np.nan)\n",
        "        b.append(np.nan)\n",
        "        c.append(np.nan)\n",
        "    else:\n",
        "        a.append(building_level[i][0]*1.0/sum(building_level[i]))\n",
        "        b.append(building_level[i][1]*1.0/sum(building_level[i]))\n",
        "        c.append(building_level[i][2]*1.0/sum(building_level[i]))\n",
        "test_df['manager_level_low']=a\n",
        "test_df['manager_level_medium']=b\n",
        "test_df['manager_level_high']=c\n",
        "\n",
        "features_to_use.append('manager_level_low') \n",
        "features_to_use.append('manager_level_medium') \n",
        "features_to_use.append('manager_level_high')"
      ]
    },
    {
      "cell_type": "code",
      "execution_count": null,
      "metadata": {
        "_cell_guid": "1c50e8b9-f1d9-805d-8c5e-654d8f31425c"
      },
      "outputs": [],
      "source": [
        "categorical = [\"display_address\", \"manager_id\", \"building_id\", \"street_address\"]\n",
        "for f in categorical:\n",
        "        if train_df[f].dtype=='object':\n",
        "            #print(f)\n",
        "            lbl = preprocessing.LabelEncoder()\n",
        "            lbl.fit(list(train_df[f].values) + list(test_df[f].values))\n",
        "            train_df[f] = lbl.transform(list(train_df[f].values))\n",
        "            test_df[f] = lbl.transform(list(test_df[f].values))\n",
        "            features_to_use.append(f)"
      ]
    },
    {
      "cell_type": "code",
      "execution_count": null,
      "metadata": {
        "_cell_guid": "53183c86-d571-8271-779f-62f7c40f0ec0"
      },
      "outputs": [],
      "source": [
        "f"
      ]
    },
    {
      "cell_type": "code",
      "execution_count": null,
      "metadata": {
        "_cell_guid": "844dfe5b-bc7e-4646-c104-e37e34cef645"
      },
      "outputs": [],
      "source": [
        "train_df['features'] = train_df[\"features\"].apply(lambda x: \" \".join([\"_\".join(i.split(\" \")) for i in x]))\n",
        "test_df['features'] = test_df[\"features\"].apply(lambda x: \" \".join([\"_\".join(i.split(\" \")) for i in x]))\n",
        "print(train_df[\"features\"].head())\n",
        "tfidf = CountVectorizer(stop_words='english', max_features=200)\n",
        "tr_sparse = tfidf.fit_transform(train_df[\"features\"])\n",
        "te_sparse = tfidf.transform(test_df[\"features\"])"
      ]
    },
    {
      "cell_type": "code",
      "execution_count": null,
      "metadata": {
        "_cell_guid": "1b211901-9897-78ce-583a-2acc22e747e7"
      },
      "outputs": [],
      "source": [
        "tr_sparse"
      ]
    },
    {
      "cell_type": "code",
      "execution_count": null,
      "metadata": {
        "_cell_guid": "ff1c168e-0cb3-a8f7-8556-d1d79d52b341"
      },
      "outputs": [],
      "source": [
        "train_X = sparse.hstack([train_df[features_to_use], tr_sparse]).tocsr()\n",
        "test_X = sparse.hstack([test_df[features_to_use], te_sparse]).tocsr()\n",
        "\n",
        "target_num_map = {'high':0, 'medium':1, 'low':2}\n",
        "train_y = np.array(train_df['interest_level'].apply(lambda x: target_num_map[x]))\n",
        "print(train_X.shape, test_X.shape)"
      ]
    },
    {
      "cell_type": "code",
      "execution_count": null,
      "metadata": {
        "_cell_guid": "5760fb03-ef12-bb67-1f41-80ba18671045"
      },
      "outputs": [],
      "source": [
        "cv_scores = []\n",
        "kf = model_selection.KFold(n_splits=5, shuffle=True, random_state=2016)\n",
        "for dev_index, val_index in kf.split(range(train_X.shape[0])):\n",
        "        dev_X, val_X = train_X[dev_index,:], train_X[val_index,:]\n",
        "        dev_y, val_y = train_y[dev_index], train_y[val_index]\n",
        "        preds, model = runXGB(dev_X, dev_y, val_X, val_y)\n",
        "        cv_scores.append(log_loss(val_y, preds))\n",
        "        print(cv_scores)\n",
        "        break"
      ]
    },
    {
      "cell_type": "code",
      "execution_count": null,
      "metadata": {
        "_cell_guid": "0beb83b2-9dc2-acc8-5977-e27d4e076f24"
      },
      "outputs": [],
      "source": [
        "preds, model = runXGB(train_X, train_y, test_X, num_rounds=1000)\n",
        "out_df = pd.DataFrame(preds)\n",
        "out_df.columns = [\"high\", \"medium\", \"low\"]\n",
        "out_df[\"listing_id\"] = test_df.listing_id.values\n",
        "out_df.to_csv(\"xgb_starter2.csv\", index=False)"
      ]
    },
    {
      "cell_type": "code",
      "execution_count": null,
      "metadata": {
        "_cell_guid": "ba2997b9-8f71-950c-a468-3ea82753af7b"
      },
      "outputs": [],
      "source": ""
    },
    {
      "cell_type": "markdown",
      "metadata": {
        "_cell_guid": "c2d5b76c-bbef-68ae-fafe-50ff76f8ec88"
      },
      "source": ""
    }
  ],
  "metadata": {
    "_change_revision": 0,
    "_is_fork": false,
    "kernelspec": {
      "display_name": "Python 3",
      "language": "python",
      "name": "python3"
    },
    "language_info": {
      "codemirror_mode": {
        "name": "ipython",
        "version": 3
      },
      "file_extension": ".py",
      "mimetype": "text/x-python",
      "name": "python",
      "nbconvert_exporter": "python",
      "pygments_lexer": "ipython3",
      "version": "3.6.0"
    }
  },
  "nbformat": 4,
  "nbformat_minor": 0
}