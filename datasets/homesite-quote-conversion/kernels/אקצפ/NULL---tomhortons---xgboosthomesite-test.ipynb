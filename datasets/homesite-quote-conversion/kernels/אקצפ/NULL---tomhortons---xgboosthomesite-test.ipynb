{"cells":[
 {
  "cell_type": "code",
  "execution_count": null,
  "metadata": {
   "collapsed": false
  },
  "outputs": [],
  "source": "import pandas as pd\nimport numpy as np\nimport xgboost as xgb\nfrom sklearn import preprocessing\nfrom sklearn.cross_validation import train_test_split\n\nseed = 260681\n\ntrain = pd.read_csv('../input/train.csv')\ntest = pd.read_csv('../input/test.csv')\n\ny = train.QuoteConversion_Flag.values\ntrain = train.drop(['QuoteNumber', 'QuoteConversion_Flag'], axis=1)\ntest = test.drop('QuoteNumber', axis=1)\n\n# Lets play with some dates\ntrain['Date'] = pd.to_datetime(pd.Series(train['Original_Quote_Date']))\ntrain = train.drop('Original_Quote_Date', axis=1)\n\ntest['Date'] = pd.to_datetime(pd.Series(test['Original_Quote_Date']))\ntest = test.drop('Original_Quote_Date', axis=1)\n\ntrain['Year'] = train['Date'].apply(lambda x: int(str(x)[:4]))\ntrain['Month'] = train['Date'].apply(lambda x: int(str(x)[5:7]))\ntrain['weekday'] = train['Date'].dt.dayofweek\n\n\n"
 },
 {
  "cell_type": "code",
  "execution_count": null,
  "metadata": {
   "collapsed": false
  },
  "outputs": [],
  "source": "lambda x\n"
 }
],"metadata":{"kernelspec":{"display_name":"Python 3","language":"python","name":"python3"}}, "nbformat": 4, "nbformat_minor": 0}