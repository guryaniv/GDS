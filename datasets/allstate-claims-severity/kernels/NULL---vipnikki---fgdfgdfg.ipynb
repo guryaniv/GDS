{
  "metadata": {
    "kernelspec": {
      "display_name": "Python 3",
      "language": "python",
      "name": "python3"
    },
    "language_info": {
      "codemirror_mode": {
        "name": "ipython",
        "version": 3
      },
      "file_extension": ".py",
      "mimetype": "text/x-python",
      "name": "python",
      "nbconvert_exporter": "python",
      "pygments_lexer": "ipython3",
      "version": "3.5.2"
    }
  },
  "nbformat": 4,
  "nbformat_minor": 0,
  "cells": [
    {
      "metadata": {
        "_cell_guid": "f8edc564-9488-0210-5b41-ec37a58f7256",
        "_active": false,
        "collapsed": false
      },
      "source": null,
      "execution_count": null,
      "cell_type": "markdown",
      "outputs": [],
      "execution_state": "idle"
    },
    {
      "metadata": {
        "_cell_guid": "afba3b5d-8cc8-b6f2-449d-f3497f3e6a04",
        "_active": false,
        "collapsed": false
      },
      "source": "import pandas as pd\nimport numpy as np\nimport xgboost as xgb\nfrom sklearn.cross_validation import KFold\nfrom sklearn.metrics import mean_absolute_error",
      "execution_count": null,
      "cell_type": "code",
      "outputs": [],
      "execution_state": "idle"
    },
    {
      "metadata": {
        "_cell_guid": "af853722-c9a5-fd32-e477-96f0537fdf8f",
        "_active": true,
        "collapsed": false
      },
      "source": "train = pd.read_csv('train.csv')\ntest = pd.read_csv('test.csv')\n\ntest['loss'] = np.nan\njoined = pd.concat([train, test])",
      "execution_count": null,
      "cell_type": "code",
      "outputs": [],
      "execution_state": "idle"
    },
    {
      "metadata": {
        "_cell_guid": "92f17a0f-a321-75f8-3c93-f651b64f41d3",
        "_active": false,
        "collapsed": false
      },
      "source": null,
      "execution_count": null,
      "cell_type": "code",
      "outputs": [],
      "execution_state": "idle"
    }
  ]
}