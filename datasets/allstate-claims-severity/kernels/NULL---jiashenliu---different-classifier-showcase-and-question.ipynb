{
  "cells": [
    {
      "cell_type": "markdown",
      "metadata": {
        "_cell_guid": "e95010e0-bc49-5bcf-3549-fc5d3bc4fed7"
      },
      "source": [
        "# Regression: Predict Allstate Claims Severity"
      ]
    },
    {
      "cell_type": "markdown",
      "metadata": {
        "_cell_guid": "290fb088-863c-374d-9622-281c046c630e"
      },
      "source": [
        "## Fire up packages"
      ]
    },
    {
      "cell_type": "code",
      "execution_count": null,
      "metadata": {
        "_cell_guid": "55335467-0bc7-faed-8734-c6e3948d7a9a"
      },
      "outputs": [],
      "source": [
        "import sklearn\n",
        "import matplotlib.pyplot as plt\n",
        "%matplotlib inline\n",
        "import pandas\n",
        "from sklearn.cross_validation import train_test_split\n",
        "import numpy\n",
        "import xgboost as xgb"
      ]
    },
    {
      "cell_type": "markdown",
      "metadata": {
        "_cell_guid": "448fc8e8-3136-0965-4d54-f69cb5e4e956"
      },
      "source": [
        "## Load Training Data"
      ]
    },
    {
      "cell_type": "code",
      "execution_count": null,
      "metadata": {
        "_cell_guid": "854932c2-64ab-447d-116b-07696b8ca0d5"
      },
      "outputs": [],
      "source": [
        "train=pandas.read_csv(\"../input/train.csv\")\n",
        "train.head()"
      ]
    },
    {
      "cell_type": "code",
      "execution_count": null,
      "metadata": {
        "_cell_guid": "0f4f8c12-d5c3-8016-14b5-9a8c59fb7ec7"
      },
      "outputs": [],
      "source": [
        "del train['id']"
      ]
    },
    {
      "cell_type": "markdown",
      "metadata": {
        "_cell_guid": "2e75d87a-f478-2acc-a836-b4f722d38cb6"
      },
      "source": [
        "## Briefly explore the response variable"
      ]
    },
    {
      "cell_type": "markdown",
      "metadata": {
        "_cell_guid": "3f8fc453-6385-6891-67de-f6eba9bcf167"
      },
      "source": [
        "**As we have a high dimensional dataset, feature engineering will be quite time consuming if I check the co-variate one by one. Therefore, I first focus on exploring the response variable. PCA might also be a good choice to reduce dimension if necessary.**"
      ]
    },
    {
      "cell_type": "code",
      "execution_count": null,
      "metadata": {
        "_cell_guid": "f730d2ff-be9e-cc5a-72b6-10ba9e127bd1"
      },
      "outputs": [],
      "source": [
        "training,testing = train_test_split(train,test_size=0.2,random_state=42)\n",
        "print(training.shape)\n",
        "print(testing.shape)"
      ]
    },
    {
      "cell_type": "code",
      "execution_count": null,
      "metadata": {
        "_cell_guid": "552832ee-f8ff-5692-0595-24029d8866da"
      },
      "outputs": [],
      "source": [
        "Response= training['loss']"
      ]
    },
    {
      "cell_type": "markdown",
      "metadata": {
        "_cell_guid": "a204462e-891d-7e2a-7139-5abe9049c182"
      },
      "source": [
        "### 1. See the mean, sd and median of response variable"
      ]
    },
    {
      "cell_type": "code",
      "execution_count": null,
      "metadata": {
        "_cell_guid": "1b4b7766-14f4-4a8f-3210-fd7b966c291b"
      },
      "outputs": [],
      "source": [
        "print ('Mean of Response Variable'+' '+'is'+' '+ str(numpy.mean(Response)))\n",
        "print ('Median of Response Variable'+' '+'is'+' '+ str(numpy.median(Response)))\n",
        "print ('Standard Deviation of Response Variable'+' '+'is'+' '+ str(numpy.std(Response)))"
      ]
    },
    {
      "cell_type": "markdown",
      "metadata": {
        "_cell_guid": "c3e855f5-c51b-e23e-067a-3fe4395eb494"
      },
      "source": [
        "### 2:Check whether the response variable is normally distributed"
      ]
    },
    {
      "cell_type": "code",
      "execution_count": null,
      "metadata": {
        "_cell_guid": "2a28befb-61d5-6edd-7c6f-ad9acc44c965"
      },
      "outputs": [],
      "source": [
        "import statsmodels.api as sm\n",
        "fig=sm.qqplot(Response)"
      ]
    },
    {
      "cell_type": "markdown",
      "metadata": {
        "_cell_guid": "7fe5b4fa-574f-57c1-3399-4a6f474f6c9f"
      },
      "source": [
        "**We can see that the normality of response variable is quite bad. The response variable seems to be exponentially distributed. Therefore, we transform it into the logarithm form and re-plot the qq-plot.**"
      ]
    },
    {
      "cell_type": "code",
      "execution_count": null,
      "metadata": {
        "_cell_guid": "d2f5cc49-ea08-6b1d-d529-b33b319f2c7c"
      },
      "outputs": [],
      "source": [
        "training=training.reset_index(drop=True)\n",
        "testing = testing.reset_index(drop=True)\n",
        "training['logloss']=numpy.log(training['loss'])\n",
        "fig2=sm.qqplot(training['logloss'])"
      ]
    },
    {
      "cell_type": "markdown",
      "metadata": {
        "_cell_guid": "4173bed9-2c7d-7e6f-5930-8bae25a50eab"
      },
      "source": [
        "**The noramlity of the logthrim response variable is not bad. So we set it as the new lable.**"
      ]
    },
    {
      "cell_type": "markdown",
      "metadata": {
        "_cell_guid": "5f87e8a8-d69f-7eb0-3801-1997ff9c8579"
      },
      "source": [
        "## Convert categorical variables and process real test data"
      ]
    },
    {
      "cell_type": "code",
      "execution_count": null,
      "metadata": {
        "_cell_guid": "ef94a05c-d8f2-6919-ec5d-100b964ec599"
      },
      "outputs": [],
      "source": [
        "features = training.columns\n",
        "cat_feature=list(features[0:116])\n",
        "test=pandas.read_csv(\"../input/test.csv\")\n",
        "for each in cat_feature:\n",
        "    training[each]=pandas.factorize(training[each], sort=True)[0]\n",
        "    testing[each]=pandas.factorize(testing[each],sort=True)[0]\n",
        "    test[each]=pandas.factorize(test[each],sort=True)[0]"
      ]
    },
    {
      "cell_type": "markdown",
      "metadata": {
        "_cell_guid": "88bd8daf-8f99-fb76-9319-8cae24b8f8a8"
      },
      "source": [
        "## Preliminary model selection: try five different regressors at first"
      ]
    },
    {
      "cell_type": "code",
      "execution_count": null,
      "metadata": {
        "_cell_guid": "2d64a8fe-e7d1-cc83-4729-30064f38be11"
      },
      "outputs": [],
      "source": [
        "from sklearn.metrics import mean_absolute_error as mae\n",
        "from sklearn.linear_model import LinearRegression\n",
        "from sklearn.ensemble import RandomForestRegressor\n",
        "from sklearn.linear_model import Lasso\n",
        "from sklearn.tree import DecisionTreeRegressor\n",
        "from sklearn.ensemble import GradientBoostingRegressor\n",
        "Predictors= training.ix[:,0:130]\n",
        "Predictors_test= testing.ix[:,0:130]"
      ]
    },
    {
      "cell_type": "code",
      "execution_count": null,
      "metadata": {
        "_cell_guid": "8e6f38a3-115a-5b97-9277-64fbdf9a04d4"
      },
      "outputs": [],
      "source": [
        "Regressors = [LinearRegression(),Lasso(),DecisionTreeRegressor()\n",
        "              #,RandomForestRegressor(n_estimator=200),\n",
        "              #GradientBoostingRegressor(learning_rate=0.3,criterion='mae')\n",
        "             ]\n",
        "MAE=[]\n",
        "Model_Name=[]\n",
        "for reg in Regressors:\n",
        "    Model=reg.fit(Predictors,training['logloss'])\n",
        "    Prediction= numpy.exp(Model.predict(Predictors_test))\n",
        "    eva = mae(testing['loss'],Prediction)\n",
        "    MAE.append(eva)\n",
        "    Name=reg.__class__.__name__\n",
        "    Model_Name.append(Name)\n",
        "    print('Accuracy of'+ ' '+Name+' '+'is'+' '+str(eva))"
      ]
    },
    {
      "cell_type": "markdown",
      "metadata": {
        "_cell_guid": "c4bae26f-9bb7-bffc-bbe3-410b83d380a0"
      },
      "source": [
        "**I also tried Random Forest Regressor locally. With the number of estimators set to 200, it produced a prediction with MAE of 1212.42750158. However, the running time is incredibly long and boring. For Gradient Boosting Regressor, the accuracy is 1183.90923254, with the learning rate setting to 0.3.**"
      ]
    },
    {
      "cell_type": "code",
      "execution_count": null,
      "metadata": {
        "_cell_guid": "aae07dd4-52a2-2a3b-62c5-1be132bac13d"
      },
      "outputs": [],
      "source": [
        "MAE.append(1212.42750158)\n",
        "MAE.append(1183.90923254)\n",
        "Model_Name.append('RandomForestRegressor')\n",
        "Model_Name.append('GradientBoostingRegressor')"
      ]
    },
    {
      "cell_type": "code",
      "execution_count": null,
      "metadata": {
        "_cell_guid": "c9a48a58-07d3-eed0-eee1-c423e716710a"
      },
      "outputs": [],
      "source": [
        "Index = [1,2,3,4,5]\n",
        "plt.bar(Index,MAE)\n",
        "plt.xticks(Index, Model_Name,rotation=45)\n",
        "plt.ylabel('MAE')\n",
        "plt.xlabel('Model')\n",
        "plt.title('MAE of Models')"
      ]
    },
    {
      "cell_type": "markdown",
      "metadata": {
        "_cell_guid": "8bda2577-2c83-d6d1-5240-a88d874f16bb"
      },
      "source": [
        "**We can see that rf and gb models are better than the other three models. In the next step, I will try to implement Extreme Gradient Boosting model and compare the performance between it and Gradient Boosting model.**"
      ]
    },
    {
      "cell_type": "markdown",
      "metadata": {
        "_cell_guid": "b2ee4710-5ee1-f988-a124-6b85925fe8e6"
      },
      "source": [
        "## Try Extreme Boosting Model"
      ]
    },
    {
      "cell_type": "markdown",
      "metadata": {
        "_cell_guid": "dea8218b-f14d-5481-ccc1-4d86ac749ca5"
      },
      "source": [
        "**We first, have to transform the dataset into the ideal form in order to make XGboost running**"
      ]
    },
    {
      "cell_type": "code",
      "execution_count": null,
      "metadata": {
        "_cell_guid": "545a8512-da2a-ca8d-7f09-86235163a56b"
      },
      "outputs": [],
      "source": [
        "training_array = numpy.array(Predictors)\n",
        "testing_array = numpy.array(Predictors_test)"
      ]
    },
    {
      "cell_type": "markdown",
      "metadata": {
        "_cell_guid": "53530bf3-1bef-5c7d-9e4d-f4981d1a154b"
      },
      "source": [
        "**Then I tune the parameters of model. My role of thumb is : finding the balance point between number of rounds and the learning rate.**"
      ]
    },
    {
      "cell_type": "code",
      "execution_count": null,
      "metadata": {
        "_cell_guid": "60803642-ecd7-9300-6f7f-fcae98d1e90d"
      },
      "outputs": [],
      "source": [
        "dtrain = xgb.DMatrix(training_array, label=training['logloss'])\n",
        "dtest = xgb.DMatrix(testing_array)\n",
        "xgb_params = {\n",
        "    'seed':0,\n",
        "    'colsample_bytree': 0.7,\n",
        "    'subsample': 0.7,\n",
        "    'learning_rate': 0.075,\n",
        "    'objective': 'reg:linear',\n",
        "    'max_depth': 6,\n",
        "    'min_child_weight': 1,\n",
        "    'eval_metric': 'mae',\n",
        "}\n",
        "xgb_model=xgb.train(xgb_params, dtrain,750,verbose_eval=50)\n",
        "xgb_pred=numpy.exp(xgb_model.predict(dtest))\n",
        "print('Accuracy of XGboost model is'+' '+str(mae(testing['loss'],xgb_pred)))"
      ]
    },
    {
      "cell_type": "markdown",
      "metadata": {
        "_cell_guid": "17f9a973-43ca-a200-e7d3-03d36a3777d2"
      },
      "source": [
        "**The XGboost model performs way better than the Gradient boosting model and random forest, in terms of both accuracy and running time.**"
      ]
    },
    {
      "cell_type": "markdown",
      "metadata": {
        "_cell_guid": "74376663-2f4f-b686-4ce4-31d6e4349db2"
      },
      "source": [
        "## Retrain the model and generate the output file"
      ]
    },
    {
      "cell_type": "code",
      "execution_count": null,
      "metadata": {
        "_cell_guid": "3cc269e2-bcf2-1d05-fa96-ac2dad1e0a03"
      },
      "outputs": [],
      "source": [
        "features=Predictors.columns\n",
        "train['logloss']=numpy.log(train['loss'])\n",
        "for each in cat_feature:\n",
        "    train[each]=pandas.factorize(train[each], sort=True)[0]\n",
        "del test['id']"
      ]
    },
    {
      "cell_type": "code",
      "execution_count": null,
      "metadata": {
        "_cell_guid": "3c3cf4dd-b8f7-e553-60c3-7309e9d762cc"
      },
      "outputs": [],
      "source": [
        "train_array=numpy.array(train[features])\n",
        "train_d=xgb.DMatrix(train_array,label=train['logloss'])\n",
        "test_array=numpy.array(test)\n",
        "test_d=xgb.DMatrix(test_array)"
      ]
    },
    {
      "cell_type": "code",
      "execution_count": null,
      "metadata": {
        "_cell_guid": "3a97b8d3-dda4-9849-0689-10b1821aa052"
      },
      "outputs": [],
      "source": [
        "Final_model=xgb.train(xgb_params, train_d,750,verbose_eval=50)\n",
        "Prediction_Final=numpy.exp(Final_model.predict(test_d))"
      ]
    },
    {
      "cell_type": "code",
      "execution_count": null,
      "metadata": {
        "_cell_guid": "0bc04570-adcd-9ed8-faa7-ea2018200e80"
      },
      "outputs": [],
      "source": [
        "submission = pandas.read_csv('../input/sample_submission.csv')\n",
        "submission.iloc[:, 1] = Prediction_Final\n",
        "submission.to_csv('sub_xgb.csv', index=None)"
      ]
    },
    {
      "cell_type": "markdown",
      "metadata": {
        "_cell_guid": "889379d5-bf19-e032-2c11-103accc18e9c"
      },
      "source": [
        "## Question from a Newbie"
      ]
    },
    {
      "cell_type": "markdown",
      "metadata": {
        "_cell_guid": "d7ed403b-7398-3426-7d8b-6ccda875eeee"
      },
      "source": [
        "**I am still a newbie of Machine learning, so I always have questions. If someone can offer help, I will be really grateful.**\n",
        "\n",
        "**Question is: How can we decide the initial parameter of a model and tune it with a specific rule? The decision is made based on what? Experience? Volume of dataset ?  Can some cool Kaggler give me a rule of thumb on parameter initializing and tuning?**\n",
        "\n",
        "# Thanks in advance!"
      ]
    },
    {
      "cell_type": "code",
      "execution_count": null,
      "metadata": {
        "_cell_guid": "785275f8-9c7b-dcf8-c3dd-ad94087e33c1"
      },
      "outputs": [],
      "source": ""
    }
  ],
  "metadata": {
    "_change_revision": 0,
    "_is_fork": false,
    "kernelspec": {
      "display_name": "Python 3",
      "language": "python",
      "name": "python3"
    },
    "language_info": {
      "codemirror_mode": {
        "name": "ipython",
        "version": 3
      },
      "file_extension": ".py",
      "mimetype": "text/x-python",
      "name": "python",
      "nbconvert_exporter": "python",
      "pygments_lexer": "ipython3",
      "version": "3.5.2"
    }
  },
  "nbformat": 4,
  "nbformat_minor": 0
}