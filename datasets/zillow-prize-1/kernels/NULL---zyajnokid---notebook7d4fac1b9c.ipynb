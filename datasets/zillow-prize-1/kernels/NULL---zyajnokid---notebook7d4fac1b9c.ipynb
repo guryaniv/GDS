{
  "cells": [
    {
      "cell_type": "code",
      "execution_count": null,
      "metadata": {
        "_cell_guid": "90077fa3-b35f-32b2-ee8f-2ecfe4f3ecaa"
      },
      "outputs": [],
      "source": [
        "# This Python 3 environment comes with many helpful analytics libraries installed\n",
        "# It is defined by the kaggle/python docker image: https://github.com/kaggle/docker-python\n",
        "# For example, here's several helpful packages to load in \n",
        "\n",
        "import numpy as np # linear algebra\n",
        "import pandas as pd # data processing, CSV file I/O (e.g. pd.read_csv)\n",
        "\n",
        "# Input data files are available in the \"../input/\" directory.\n",
        "# For example, running this (by clicking run or pressing Shift+Enter) will list the files in the input directory\n",
        "\n",
        "from subprocess import check_output\n",
        "print(check_output([\"ls\", \"../input\"]).decode(\"utf8\"))\n",
        "\n",
        "# Any results you write to the current directory are saved as output."
      ]
    },
    {
      "cell_type": "code",
      "execution_count": null,
      "metadata": {
        "_cell_guid": "e27f75e1-2854-beae-ffed-85331d875c7f"
      },
      "outputs": [],
      "source": [
        "# Any results you write to the current directory are saved as output.\n",
        "import numpy as np\n",
        "import pandas as pd\n",
        "import lightgbm as lgb\n",
        "import gc\n",
        "\n",
        "print('Loading data ...')\n",
        "\n",
        "train = pd.read_csv('../input/train_2016.csv')\n",
        "prop = pd.read_csv('../input/properties_2016.csv')\n",
        "\n",
        "for c, dtype in zip(prop.columns, prop.dtypes):\t\n",
        "    if dtype == np.float64:\t\t\n",
        "        prop[c] = prop[c].astype(np.float32)\n",
        "\n",
        "df_train = train.merge(prop, how='left', on='parcelid')\n",
        "\n",
        "x_train = df_train.drop(['parcelid', 'logerror', 'transactiondate', 'propertyzoningdesc', 'propertycountylandusecode'], axis=1)\n",
        "y_train = df_train['logerror'].values\n",
        "print(x_train.shape, y_train.shape)\n",
        "\n",
        "train_columns = x_train.columns\n",
        "\n",
        "for c in x_train.dtypes[x_train.dtypes == object].index.values:\n",
        "    x_train[c] = (x_train[c] == True)\n",
        "\n",
        "del df_train; gc.collect()\n",
        "\n",
        "split = 90000\n",
        "x_train, y_train, x_valid, y_valid = x_train[:split], y_train[:split], x_train[split:], y_train[split:]\n",
        "x_train = x_train.values.astype(np.float32, copy=False)\n",
        "x_valid = x_valid.values.astype(np.float32, copy=False)\n",
        "\n",
        "d_train = lgb.Dataset(x_train, label=y_train)\n",
        "d_valid = lgb.Dataset(x_valid, label=y_valid)\n",
        "\n",
        "params = {}\n",
        "params['max_bin'] = 10\n",
        "params['learning_rate'] = 0.0021 # shrinkage_rate\n",
        "params['boosting_type'] = 'gbdt'\n",
        "params['objective'] = 'regression'\n",
        "params['metric'] = 'l2'          # or 'mae'\n",
        "params['sub_feature'] = 0.5      # feature_fraction \n",
        "params['bagging_fraction'] = 0.85 # sub_row\n",
        "params['bagging_freq'] = 40\n",
        "params['num_leaves'] = 512        # num_leaf\n",
        "params['min_data'] = 500         # min_data_in_leaf\n",
        "params['min_hessian'] = 0.05     # min_sum_hessian_in_leaf\n",
        "\n",
        "watchlist = [d_valid]\n",
        "clf = lgb.train(params, d_train, 490, watchlist)\n",
        "\n",
        "\n"
      ]
    },
    {
      "cell_type": "code",
      "execution_count": null,
      "metadata": {
        "_cell_guid": "50a83b27-b80e-9900-f0a0-93390dd716b5"
      },
      "outputs": [],
      "source": [
        "print(\"Prepare for the prediction ...\")\n",
        "sample = pd.read_csv('../input/sample_submission.csv')\n",
        "sample['parcelid'] = sample['ParcelId']\n",
        "df_test = sample.merge(prop, on='parcelid', how='left')\n",
        "del sample, prop; gc.collect()\n",
        "x_test = df_test[train_columns]\n",
        "del df_test; gc.collect()\n",
        "for c in x_test.dtypes[x_test.dtypes == object].index.values:\n",
        "    x_test[c] = (x_test[c] == True)\n",
        "x_test = x_test.values.astype(np.float32, copy=False)\n",
        "\n",
        "print(\"Start prediction ...\")\n",
        "# num_threads > 1 will predict very slow in kernal\n",
        "clf.reset_parameter({\"num_threads\":1})\n",
        "p_test = clf.predict(x_test)\n",
        "\n",
        "p_test = 0.98*p_test + 0.02*0.011\n",
        "\n",
        "del x_test; gc.collect()\n",
        "\n",
        "print(\"Start write result ...\")\n",
        "sub = pd.read_csv('../input/sample_submission.csv')\n",
        "for c in sub.columns[sub.columns != 'ParcelId']:\n",
        "    sub[c] = p_test\n",
        "\n",
        "sub.to_csv('lgb_starter_2.csv', index=False, float_format='%.4f')"
      ]
    },
    {
      "cell_type": "code",
      "execution_count": null,
      "metadata": {
        "_cell_guid": "0cd12fbc-aafe-6805-1b97-fb2c9b43cd68"
      },
      "outputs": [],
      "source": [
        "print(x_train.head(5))"
      ]
    },
    {
      "cell_type": "code",
      "execution_count": null,
      "metadata": {
        "_cell_guid": "88085e7d-2e58-ba0c-4161-3825035221c1"
      },
      "outputs": [],
      "source": ""
    }
  ],
  "metadata": {
    "_change_revision": 0,
    "_is_fork": false,
    "kernelspec": {
      "display_name": "Python 3",
      "language": "python",
      "name": "python3"
    },
    "language_info": {
      "codemirror_mode": {
        "name": "ipython",
        "version": 3
      },
      "file_extension": ".py",
      "mimetype": "text/x-python",
      "name": "python",
      "nbconvert_exporter": "python",
      "pygments_lexer": "ipython3",
      "version": "3.6.0"
    }
  },
  "nbformat": 4,
  "nbformat_minor": 0
}