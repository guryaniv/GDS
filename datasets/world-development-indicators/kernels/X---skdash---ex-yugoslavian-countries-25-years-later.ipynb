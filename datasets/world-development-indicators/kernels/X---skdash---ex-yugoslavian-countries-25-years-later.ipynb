{
  "cells": [
    {
      "cell_type": "markdown",
      "metadata": {
        "_cell_guid": "87a75ae8-796d-fc1d-3351-f120ee3ca7db"
      },
      "source": [
        "# Ex-Yugoslavian countries - 25 years later\n",
        "\n",
        "**Author:** Miran T.  \n",
        "**Last update:** 2016-08-31\n",
        "\n",
        "&nbsp;\n",
        "\n",
        "Yugoslavia ([SFRY](https://en.wikipedia.org/wiki/Socialist_Federal_Republic_of_Yugoslavia)) was a socialist state in south-eastern Europe, founded in 1945. It was a federation made up of six socialist republics, in alphabetical order:\n",
        "* Bosnia and Herzegovina\n",
        "* Croatia\n",
        "* Macedonia\n",
        "* Montenegro\n",
        "* Serbia\n",
        "* Slovenia\n",
        "\n",
        "In this notebook, we'll take a look at the development statistics of these countries in the last 25 years, after the Yugoslavian dissolution in '90s.  \n",
        "\n",
        "Table of contents:  \n",
        " * [Data Preparation](#Data-Preparation)\n",
        " * [Demography](#Demography)\n",
        " * [Education](#Education)\n",
        " * [Economy](#Economy)\n",
        " * [Conclusion](#Conclusion)\n",
        "\n",
        "### Update  \n",
        "\n",
        "For a notebook with **updated and corrected data** from [The World Bank](http://data.worldbank.org/data-catalog/world-development-indicators) (this updated data is not available on Kaggle) click **[here](https://nbviewer.jupyter.org/github/narimiran/data-notebooks/blob/master/ex-yu.ipynb)**."
      ]
    },
    {
      "cell_type": "markdown",
      "metadata": {
        "_cell_guid": "f9b36967-8610-0194-7b3e-2bc281828a84"
      },
      "source": [
        "## Data Preparation"
      ]
    },
    {
      "cell_type": "code",
      "execution_count": null,
      "metadata": {
        "_cell_guid": "03f972f1-c190-3ff4-120d-f2999b16e33e"
      },
      "outputs": [],
      "source": [
        "import sqlite3\n",
        "import pandas as pd\n",
        "import numpy as np\n",
        "import matplotlib.pyplot as plt\n",
        "import seaborn as sns\n",
        "\n",
        "\n",
        "%matplotlib inline\n",
        "plt.style.use('ggplot')\n",
        "plt.rcParams['figure.figsize'] = (10.0, 6.5)\n",
        "plt.rcParams['font.size'] = 12\n",
        "plt.rcParams['figure.titlesize'] = 16\n",
        "plt.rcParams['figure.titleweight'] = 'bold'\n",
        "plt.rcParams['axes.titlesize'] = 14\n",
        "plt.rcParams['axes.titleweight'] = 'bold'\n",
        "plt.rcParams[\"axes.labelsize\"] = 13\n",
        "plt.rcParams[\"axes.labelweight\"] = 'bold'\n",
        "plt.rcParams[\"xtick.labelsize\"] = 11\n",
        "plt.rcParams[\"ytick.labelsize\"] = 11\n",
        "plt.rcParams['legend.fontsize'] = 11"
      ]
    },
    {
      "cell_type": "code",
      "execution_count": null,
      "metadata": {
        "_cell_guid": "bda27669-d820-43c1-c645-7dedbe07fa71"
      },
      "outputs": [],
      "source": [
        "database = '../input/database.sqlite'\n",
        "\n",
        "with sqlite3.connect(database) as con:\n",
        "    df = pd.read_sql_query(\n",
        "        \"\"\"\n",
        "        SELECT *\n",
        "        FROM Indicators\n",
        "        WHERE CountryCode in ('BIH', 'HRV', 'MKD', 'MNE', 'SRB', 'SVN', 'EUU')\n",
        "        \"\"\",\n",
        "        con\n",
        "    )\n",
        "\n",
        "df.loc[df.CountryCode == 'EUU', 'CountryName'] = 'avg. EU'\n",
        "df.loc[df.CountryCode == 'MKD', 'CountryName'] = 'Macedonia'\n",
        "    \n",
        "df.info()"
      ]
    },
    {
      "cell_type": "code",
      "execution_count": null,
      "metadata": {
        "_cell_guid": "50ef3386-8a6f-7ad3-d74d-7aabdde46cdf"
      },
      "outputs": [],
      "source": [
        "colors = {\n",
        "    'Bosnia and Herzegovina': \"#66C2A5\",\n",
        "    'Croatia': \"#FA8D62\",\n",
        "    'Macedonia': \"#FED82F\",\n",
        "    'Montenegro': \"#E68AC3\",\n",
        "    'Serbia': \"#8D9FCA\",\n",
        "    'Slovenia': \"#A6D853\",\n",
        "    'avg. EU': \"#CCCCCC\"\n",
        "}\n",
        "\n",
        "def plot_indicator(indicators, title=None, \n",
        "                   xlim=None, ylim=None, xlabel='Year',\n",
        "                   loc=0, loc2=0,\n",
        "                   drop_eu=False):\n",
        "    \n",
        "    lines = ['-', '--']\n",
        "    line_styles = []\n",
        "    fig, ax = plt.subplots()\n",
        "    \n",
        "    indicators = indicators if isinstance(indicators, list) else [indicators]\n",
        "    \n",
        "    for line, (name, indicator) in zip(lines, indicators):\n",
        "        ls, = plt.plot(np.nan, linestyle=line, color='#999999')\n",
        "        line_styles.append([ls, name])\n",
        "\n",
        "        df_ind = df[(df.IndicatorCode == indicator) & (df.Year >= 1990)]\n",
        "        group = df_ind.groupby(['CountryName'])\n",
        "        \n",
        "        for country, values in group:\n",
        "            country_values = values.groupby('Year').mean()\n",
        "            \n",
        "            if country == 'avg. EU':\n",
        "                if drop_eu:\n",
        "                    continue\n",
        "                ax.plot(country_values, label=country, \n",
        "                        linestyle='--', color='#666666', linewidth=1.5, zorder=0)\n",
        "            elif country_values.shape[0] > 1:\n",
        "                ax.plot(country_values, label=country, linestyle=line,\n",
        "                        color=colors[country], linewidth=2.5)\n",
        "        \n",
        "        if line == lines[0]:\n",
        "            legend = plt.legend(loc=loc)\n",
        "\n",
        "    ax.set_xlabel(xlabel)\n",
        "    ax.set_xlim(xlim)\n",
        "    ax.set_ylim(ylim)\n",
        "    \n",
        "    plt.tight_layout()\n",
        "    fig.subplots_adjust(top=0.94)\n",
        "    \n",
        "    \n",
        "    if title:\n",
        "        ax.set_title(title)\n",
        "    else:\n",
        "        ax.set_title(df_ind.IndicatorName.values[0])\n",
        "    \n",
        "    if len(indicators) > 1:\n",
        "        plt.legend(*zip(*line_styles), loc=loc2)\n",
        "        ax.add_artist(legend)"
      ]
    },
    {
      "cell_type": "markdown",
      "metadata": {
        "_cell_guid": "746aeb26-1105-ff8e-b8de-368c6feb4276"
      },
      "source": [
        "## Demography"
      ]
    },
    {
      "cell_type": "code",
      "execution_count": null,
      "metadata": {
        "_cell_guid": "a9c427b0-2725-989f-85de-5c7e4a7720ae"
      },
      "outputs": [],
      "source": [
        "population = [\n",
        "    ('pop_dens', 'EN.POP.DNST'),     # Population density \n",
        "    ('rural', 'SP.RUR.TOTL.ZS'),     # Rural population \n",
        "    ('under14', 'SP.POP.0014.TO.ZS'),# Population, ages 0-14 \n",
        "    ('above65', 'SP.POP.65UP.TO.ZS'),# Population ages 65 and above \n",
        "]\n",
        "\n",
        "for indicator in population:\n",
        "    plot_indicator(indicator, loc=3)"
      ]
    },
    {
      "cell_type": "markdown",
      "metadata": {
        "_cell_guid": "f91f1109-dd62-e2e8-cdc9-a86077ba459c"
      },
      "source": [
        "Population density hasn't changed much, with the exeption of Bosnia in early '90s, due to [war in Bosnia](https://en.wikipedia.org/wiki/Bosnian_War).  \n",
        "\n",
        "Bosnia and Slovenia have constantly high percentage of rural population (60 and 50 percent, respectively), while other countries have slightly lower and slowly decreasing values, but still much higher than EU average.\n",
        "\n",
        "Last two figures show that all countries are getting older.  \n",
        "The situation is the worst in Bosnia, where the number of children aged 14 or less has halved from the value in 1990, while number of people older than 65 more than doubled."
      ]
    },
    {
      "cell_type": "code",
      "execution_count": null,
      "metadata": {
        "_cell_guid": "dedcd270-a116-d79e-4031-81403ddb4fa6"
      },
      "outputs": [],
      "source": [
        "birth_death = [\n",
        "    ('life_exp', 'SP.DYN.LE00.IN'), # Life expectancy at birth\n",
        "    ('birth', 'SP.DYN.CBRT.IN'),    # Birth rate, crude \n",
        "    ('death', 'SP.DYN.CDRT.IN'),    # Death rate, crude \n",
        "    ('mort', 'SP.DYN.IMRT.IN'),     # Mortality rate, infant \n",
        "]\n",
        "\n",
        "for indicator in birth_death:\n",
        "    plot_indicator(indicator, loc=0)"
      ]
    },
    {
      "cell_type": "markdown",
      "metadata": {
        "_cell_guid": "e9673e00-3975-cdf9-dc1c-ef76d28af99c"
      },
      "source": [
        "What a difference 25 years make! Life expectancy in EU for children born today is 5 years more than for children born in 1990, and infant mortality rate halved. \n",
        "Slovenia has even bigger growth of life expectancy, and today's value is the same as EU average. On the other hand, Montenegro had highest life expectancy in 1990 of ex-YU countries, but had no growth in the last 25 years, and today is in the last place.\n",
        "\n",
        "All countries now have lower birth rates than 25 years ago. Birth rates in Bosnia have halved in only 15 years.\n",
        "\n",
        "Slovenia has managed to keep the same death rate. In the other countries death rate increased in recent years.\n",
        "\n",
        "Today's infant mortality rate in all ex-YU countries is close to EU average. In 1990 only Croatia and Slovenia had values similar to European. The average infant mortality rate of the other four ex-YU countries in 1990 was around 22 per 1000 live births. Lots of progress has been made!"
      ]
    },
    {
      "cell_type": "markdown",
      "metadata": {
        "_cell_guid": "e4feec7b-94d4-e8ff-3969-e2170bc03ba8"
      },
      "source": [
        "## Education"
      ]
    },
    {
      "cell_type": "code",
      "execution_count": null,
      "metadata": {
        "_cell_guid": "6a2d33b6-6075-4acf-9fbd-994623ba6679"
      },
      "outputs": [],
      "source": [
        "education = [\n",
        "    ('education', 'NY.ADJ.AEDU.GN.ZS'), # education expenditure \n",
        "    ('literacy', 'SE.ADT.LITR.ZS'),     # Adult literacy rate\n",
        "    ('teach_prim', 'SE.PRM.ENRL.TC.ZS'),# Pupil-teacher ratio in primary education\n",
        "    ('teach_sec', 'SE.SEC.ENRL.TC.ZS'), # Pupil-teacher ratio in secondary education \n",
        "]\n",
        "\n",
        "for indicator in education:\n",
        "    plot_indicator(indicator, xlim=(1995, 2015))"
      ]
    },
    {
      "cell_type": "markdown",
      "metadata": {
        "_cell_guid": "09f2d0c2-b54d-b28c-db28-44e904200a1f"
      },
      "source": [
        "Slovenia is constantly spending on education more than EU average.\n",
        "\n",
        "Literacy rates have increased in all countries.\n",
        "\n",
        "Pupil-teacher ratios in both primary and secondary education are on the fall (the exception beeing Slovenian primary education in 2000's).  \n",
        "In Croatia, in mid 90's there were 50% more pupils per teacher than there are now."
      ]
    },
    {
      "cell_type": "markdown",
      "metadata": {
        "_cell_guid": "b7edfcd3-2ed4-d0e2-2668-5182baf05d32"
      },
      "source": [
        "## Economy"
      ]
    },
    {
      "cell_type": "markdown",
      "metadata": {
        "_cell_guid": "cd1bbdbd-2d07-694b-3797-b1fa7231ad4b"
      },
      "source": [
        "### GDP per capita"
      ]
    },
    {
      "cell_type": "code",
      "execution_count": null,
      "metadata": {
        "_cell_guid": "433f07be-8a23-c50f-42a6-11e4890b905e"
      },
      "outputs": [],
      "source": [
        "gdp = [\n",
        "    ('gdp', 'NY.GDP.PCAP.KD'),          # GDP per capita \n",
        "    ('gdp_growth', 'NY.GDP.PCAP.KD.ZG'),# GDP per capita growth\n",
        "]\n",
        "\n",
        "for indicator in gdp:\n",
        "    if indicator[0] == 'gdp_growth':\n",
        "        plot_indicator(indicator, loc=0,\n",
        "                       xlim=(1995, 2015), ylim=(-15, 15), \n",
        "                      )\n",
        "    else:\n",
        "        plot_indicator(indicator, loc=0, xlim=(1995, 2015))"
      ]
    },
    {
      "cell_type": "markdown",
      "metadata": {
        "_cell_guid": "04957ced-c0a5-6a44-0f47-cf47e0613759"
      },
      "source": [
        "Only Slovenia and Croatia stand out when it comes to GDP per capita. All other countries have GDP per capita lower than \\$5000 (constant 2005 US$).\n",
        "\n",
        "All countries in early 2000s (before the big economy crisis in 2008) had GDP growth higher than EU average. \n",
        "In 1999, values of Serbia and Montenegro show the consequences of [Kosovo war](https://en.wikipedia.org/wiki/Kosovo_War)."
      ]
    },
    {
      "cell_type": "markdown",
      "metadata": {
        "_cell_guid": "960c8b33-a50d-4314-b3eb-98960abeb424"
      },
      "source": [
        "### Unemployment"
      ]
    },
    {
      "cell_type": "code",
      "execution_count": null,
      "metadata": {
        "_cell_guid": "2cc4244f-de9a-233c-08e6-03bb9a31a34b"
      },
      "outputs": [],
      "source": [
        "unemployment = [\n",
        "    ('unemp', 'SL.UEM.TOTL.ZS'),       # Unemployment, total \n",
        "    ('unemp_young', 'SL.UEM.1524.ZS'), # Unemployment, youth total \n",
        "]\n",
        "\n",
        "for indicator in unemployment:\n",
        "    plot_indicator(indicator, loc=2)"
      ]
    },
    {
      "cell_type": "markdown",
      "metadata": {
        "_cell_guid": "779c41b3-6ba9-b782-1082-72a824f80fab"
      },
      "source": [
        "Slovenia has always had lower unemployment than EU average.  \n",
        "Croatia was getting close to EU average in 2008, but after the big economy crisis unemployment rates almost doubled. Slovenian and Serbian post-2008 unemployment rates show similar characteristics as Croatian. Other countries weren't as affected as those three.\n",
        "\n",
        "Youth unemployment follows a similar pattern as general unemployment."
      ]
    },
    {
      "cell_type": "markdown",
      "metadata": {
        "_cell_guid": "6d826801-439e-f1ed-fac5-c9f1067308ec"
      },
      "source": [
        "### Internet usage"
      ]
    },
    {
      "cell_type": "code",
      "execution_count": null,
      "metadata": {
        "_cell_guid": "a9898688-a1c7-5568-2f98-492cbe857999"
      },
      "outputs": [],
      "source": [
        "internet = [\n",
        "    ('int_users', 'IT.NET.USER.P2'),    # Internet users \n",
        "    ('int_sups', 'IT.NET.BBND.P2'),     # Fixed broadband subscriptions \n",
        "]\n",
        "\n",
        "for indicator in internet:\n",
        "    plot_indicator(indicator, loc=0)"
      ]
    },
    {
      "cell_type": "markdown",
      "metadata": {
        "_cell_guid": "84129732-512d-6166-afb6-ebcd473372e9"
      },
      "source": [
        "Slovenia is way ahead of other ex-YU countries when it comes to Internet users and had (relatively speaking) high Internet adoptation rates in the late 90's. One could say that Slovenia is about five years ahead of Bosnia, Serbia, and Montenegro.\n",
        "\n",
        "Macedonia has about the same rate of Internet users as Croatia, but much lower rate of fixed broadband subscriptions."
      ]
    },
    {
      "cell_type": "markdown",
      "metadata": {
        "_cell_guid": "28589716-9303-97ed-c770-488756cf5f9c"
      },
      "source": [
        "### Import-Export"
      ]
    },
    {
      "cell_type": "code",
      "execution_count": null,
      "metadata": {
        "_cell_guid": "22995e51-1f9c-0ab3-736a-997fbac5a16f"
      },
      "outputs": [],
      "source": [
        "imp_exp = [\n",
        "    ('export', 'NE.EXP.GNFS.KD'),   # Exports of goods and services \n",
        "    ('import', 'NE.IMP.GNFS.KD'),   # Imports of goods and services \n",
        "]\n",
        "\n",
        "plot_indicator(imp_exp, drop_eu=True, loc=0, loc2=(0.01, 0.63),\n",
        "               xlim=(1995, 2015), ylim=(0, 3.5e10),\n",
        "               title='Imports and exports of goods and services (constant 2005 US$)')"
      ]
    },
    {
      "cell_type": "markdown",
      "metadata": {
        "_cell_guid": "63ec6d94-c8ce-95e0-6c6f-7f0d524565e0"
      },
      "source": [
        "Slovenian economy took a hit in 2008's economy crisis, but after it Slovenia managed to have higher export than import - something that other countries struggle to do."
      ]
    },
    {
      "cell_type": "markdown",
      "metadata": {
        "_cell_guid": "07c2fb47-a6b1-4983-b383-f0a5f5022725"
      },
      "source": [
        "### Energy usage"
      ]
    },
    {
      "cell_type": "code",
      "execution_count": null,
      "metadata": {
        "_cell_guid": "cddeb797-7970-27e0-c51c-07120f6d24a3"
      },
      "outputs": [],
      "source": [
        "energetics = [\n",
        "    ('electro', 'EG.USE.ELEC.KH.PC'),   # Electric power consumption \n",
        "    ('energy', 'EG.USE.PCAP.KG.OE'),    # Energy use \n",
        "]\n",
        "\n",
        "for indicator in energetics:\n",
        "    plot_indicator(indicator, loc=0)"
      ]
    },
    {
      "cell_type": "markdown",
      "metadata": {
        "_cell_guid": "abff2348-8144-1cf1-afea-6cc0a1c26cae"
      },
      "source": [
        "While other countries had an increase of electric power consumption, Serbian values are almost the constant.\n",
        "\n",
        "Bosnia managed to quadruple its energy use in 20 post-war years."
      ]
    },
    {
      "cell_type": "markdown",
      "metadata": {
        "_cell_guid": "4ec78296-5434-a73a-9144-ad1945b1c881"
      },
      "source": [
        "### Military / research / health"
      ]
    },
    {
      "cell_type": "code",
      "execution_count": null,
      "metadata": {
        "_cell_guid": "5f91ca6e-2ed8-1502-53db-3865159ff008"
      },
      "outputs": [],
      "source": [
        "expenditures = [\n",
        "    ('military', 'MS.MIL.XPND.GD.ZS'),  # Military expenditure \n",
        "    ('research', 'GB.XPD.RSDV.GD.ZS'),  # Research and development expenditure \n",
        "    ('health', 'SH.XPD.PUBL.ZS'),       # Health expenditure, public \n",
        "]\n",
        "\n",
        "for indicator in expenditures:\n",
        "    plot_indicator(indicator, xlim=(1995, 2015))"
      ]
    },
    {
      "cell_type": "markdown",
      "metadata": {
        "_cell_guid": "3fa1a435-8f34-9bac-a4bc-54c3302b3db8"
      },
      "source": [
        "The spike in Macedonian military expenditure is due to [Albanian insurgency](https://en.wikipedia.org/wiki/2001_insurgency_in_the_Republic_of_Macedonia) in 2001.\n",
        "\n",
        "Slovenia from 2007 onward spends more and more on research and development. Other countries spend less than 1% of their GDP on the R&D.\n",
        "\n",
        "Health expenditure in all countries is below EU average."
      ]
    },
    {
      "cell_type": "markdown",
      "metadata": {
        "_cell_guid": "4dda8df5-6640-b097-eead-fcf5a6fb99ed"
      },
      "source": [
        "## Conclusion "
      ]
    },
    {
      "cell_type": "markdown",
      "metadata": {
        "_cell_guid": "5340f1e6-05d9-6413-30a2-995c1a65c2d7"
      },
      "source": [
        "25 years are a lot in a man's lifetime, but is it enough time to show changes of slow-living big creatures such as countries?  \n",
        "The data shows that even one year (2008) is enough to shake some ground.\n",
        "\n",
        "Having that in mind, did six ex-Yugoslavian republics manage to use 25 years constructively?\n",
        "\n",
        "The biggest progress was made in lowering infant mortality rate, which is now around EU average of 0.4%. Life expectancy for all countries is now 75+ years (Slovenia 80+ years, EU average), even though health expenditure in all countries is below EU average.  \n",
        "Birth rates decreased and all countries got significally older, both indicators follow trends in the whole Europe. \n",
        "\n",
        "Literacy rates have increased in all countries, and pupil-teacher ratios in both primary and secondary education are on the fall.  \n",
        "Slovenia is constantly spending on education more than EU average, and in the last five years their expenditure on research and development is also higher than EU average. Other countries don't follow the Slovenian example, and are also several years behind Slovenia when it comes to number of Internet users.\n",
        "\n",
        "Economically, all countries were doing relatively well until 2008.  \n",
        "After 2008, unemployment rates got higher than ever in all countries except Macedonia, which seems to be the least affected by 2008 economic crisis.  \n",
        "After the crisis Slovenia managed to have higher export than import - something that other countries struggle to do.\n",
        "\n",
        "All countries have made some progress, but there is a room for lot more in the years to come. \n",
        "\n",
        "&nbsp;\n",
        "\n",
        "&nbsp;\n"
      ]
    }
  ],
  "metadata": {
    "_change_revision": 0,
    "_is_fork": false,
    "kernelspec": {
      "display_name": "Python 3",
      "language": "python",
      "name": "python3"
    },
    "language_info": {
      "codemirror_mode": {
        "name": "ipython",
        "version": 3
      },
      "file_extension": ".py",
      "mimetype": "text/x-python",
      "name": "python",
      "nbconvert_exporter": "python",
      "pygments_lexer": "ipython3",
      "version": "3.5.2"
    }
  },
  "nbformat": 4,
  "nbformat_minor": 0
}