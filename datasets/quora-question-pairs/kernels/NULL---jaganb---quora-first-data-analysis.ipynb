{
  "cells": [
    {
      "cell_type": "markdown",
      "metadata": {
        "_cell_guid": "bb126736-0fb0-0198-a9d5-26e6c8d7cc26"
      },
      "source": [
        "Data analysis:"
      ]
    },
    {
      "cell_type": "code",
      "execution_count": null,
      "metadata": {
        "_cell_guid": "312cbff1-b587-42c6-8cf9-b959f8031643"
      },
      "outputs": [],
      "source": [
        "# This Python 3 environment comes with many helpful analytics libraries installed\n",
        "# It is defined by the kaggle/python docker image: https://github.com/kaggle/docker-python\n",
        "# For example, here's several helpful packages to load in \n",
        "\n",
        "import numpy as np # linear algebra\n",
        "import pandas as pd # data processing, CSV file I/O (e.g. pd.read_csv)\n",
        "\n",
        "# Input data files are available in the \"../input/\" directory.\n",
        "# For example, running this (by clicking run or pressing Shift+Enter) will list the files in the input directory\n",
        "\n",
        "from subprocess import check_output\n",
        "print(check_output([\"ls\", \"../input\"]).decode(\"utf8\"))\n",
        "\n",
        "# Any results you write to the current directory are saved as output."
      ]
    },
    {
      "cell_type": "code",
      "execution_count": null,
      "metadata": {
        "_cell_guid": "3db760d0-cfcd-bf4b-bd50-cade21c18d33"
      },
      "outputs": [],
      "source": [
        "train = pd.read_csv('../input/train.csv')"
      ]
    },
    {
      "cell_type": "code",
      "execution_count": null,
      "metadata": {
        "_cell_guid": "2b589ffb-30fc-2194-5043-7451176ff85e"
      },
      "outputs": [],
      "source": [
        "train.head()"
      ]
    },
    {
      "cell_type": "code",
      "execution_count": null,
      "metadata": {
        "_cell_guid": "14c5ba92-e893-eb33-1167-7216fb0ecbe3"
      },
      "outputs": [],
      "source": [
        "train['length1'] = train['question1'].apply(len)"
      ]
    },
    {
      "cell_type": "code",
      "execution_count": null,
      "metadata": {
        "_cell_guid": "cd1442d3-59b3-0994-5ffa-79829f94ef47"
      },
      "outputs": [],
      "source": [
        "train.head()"
      ]
    },
    {
      "cell_type": "code",
      "execution_count": null,
      "metadata": {
        "_cell_guid": "aab1d940-5b82-ec45-0e2b-ec996e299679"
      },
      "outputs": [],
      "source": [
        "train.length1.describe()"
      ]
    },
    {
      "cell_type": "code",
      "execution_count": null,
      "metadata": {
        "_cell_guid": "81204e10-5dd2-a5e7-ced2-4db8f2f5292e"
      },
      "outputs": [],
      "source": [
        "train[train['length1'] == 623]['question1'].iloc[0]"
      ]
    },
    {
      "cell_type": "code",
      "execution_count": null,
      "metadata": {
        "_cell_guid": "95e634d8-4aad-750c-bab6-3103360d3d42"
      },
      "outputs": [],
      "source": [
        "train.hist(column='length1', by='is_duplicate', bins=100, figsize=(10,5))\n"
      ]
    },
    {
      "cell_type": "markdown",
      "metadata": {
        "_cell_guid": "c3581d3f-2ea2-1a06-fe03-beebd5b6d310"
      },
      "source": [
        "Is_duplicate doesn't depend much on Length of the question1...!"
      ]
    }
  ],
  "metadata": {
    "_change_revision": 0,
    "_is_fork": false,
    "kernelspec": {
      "display_name": "Python 3",
      "language": "python",
      "name": "python3"
    },
    "language_info": {
      "codemirror_mode": {
        "name": "ipython",
        "version": 3
      },
      "file_extension": ".py",
      "mimetype": "text/x-python",
      "name": "python",
      "nbconvert_exporter": "python",
      "pygments_lexer": "ipython3",
      "version": "3.6.0"
    }
  },
  "nbformat": 4,
  "nbformat_minor": 0
}