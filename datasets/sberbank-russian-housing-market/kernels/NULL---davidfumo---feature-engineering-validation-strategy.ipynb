{
  "metadata": {
    "kernelspec": {
      "display_name": "Python 3",
      "language": "python",
      "name": "python3"
    },
    "language_info": {
      "codemirror_mode": {
        "name": "ipython",
        "version": 3
      },
      "file_extension": ".py",
      "mimetype": "text/x-python",
      "name": "python",
      "nbconvert_exporter": "python",
      "pygments_lexer": "ipython3",
      "version": "3.6.0"
    }
  },
  "nbformat": 4,
  "nbformat_minor": 0,
  "cells": [
    {
      "cell_type": "code",
      "execution_count": 1,
      "metadata": {
        "_cell_guid": "11636e6e-ceac-9cf2-6c38-b12e18afd307",
        "_active": false
      },
      "outputs": [],
      "source": "import numpy as np # linear algebra\nimport pandas as pd # data processing, CSV file I/O (e.g. pd.read_csv)\nimport matplotlib.pyplot as plt\nimport seaborn as sns\nfrom sklearn import model_selection, preprocessing\nimport xgboost as xgb\ncolor = sns.color_palette()\n\n%matplotlib inline\n\npd.options.mode.chained_assignment = None  # default='warn'\npd.set_option('display.max_columns', 500)",
      "execution_state": "idle"
    },
    {
      "cell_type": "markdown",
      "metadata": {
        "_cell_guid": "eeb17412-d2aa-c2e7-a67f-142b24bbc3bf",
        "_active": false
      },
      "source": "Let us read the train, test and macro files and combine macro information with train and test.",
      "outputs": []
    },
    {
      "cell_type": "code",
      "execution_count": 2,
      "metadata": {
        "_cell_guid": "c410194d-50ac-04d8-103e-535478c3768e",
        "_active": false
      },
      "outputs": [],
      "source": "train_df = pd.read_csv(\"../input/train.csv\", parse_dates=['timestamp'])\ntest_df = pd.read_csv(\"../input/test.csv\", parse_dates=['timestamp'])\nmacro_df = pd.read_csv(\"../input/macro.csv\", parse_dates=['timestamp'])\ntrain_df = pd.merge(train_df, macro_df, how='left', on='timestamp')\ntest_df = pd.merge(test_df, macro_df, how='left', on='timestamp')\nprint(train_df.shape, test_df.shape)\n\n# truncate the extreme values in price_doc #\nulimit = np.percentile(train_df.price_doc.values, 99)\nllimit = np.percentile(train_df.price_doc.values, 1)\ntrain_df['price_doc'].ix[train_df['price_doc']>ulimit] = ulimit\ntrain_df['price_doc'].ix[train_df['price_doc']<llimit] = llimit",
      "execution_state": "idle"
    },
    {
      "cell_type": "markdown",
      "metadata": {
        "_cell_guid": "f8030471-d808-9490-4188-f355c1078d4d",
        "_active": false
      },
      "source": "As seen from [this notebook][1], there are few categorical variables in the train data. So we can convert them into numerical variables by label encoding.\n\n\n  [1]: https://www.kaggle.com/sudalairajkumar/sberbank-russian-housing-market/simple-exploration-notebook-sberbank",
      "outputs": []
    },
    {
      "cell_type": "code",
      "execution_count": 3,
      "metadata": {
        "_cell_guid": "4c99c350-f777-6f21-6fae-d5204619a4ed",
        "_active": false
      },
      "outputs": [],
      "source": "for f in train_df.columns:\n    if train_df[f].dtype=='object':\n        print(f)\n        lbl = preprocessing.LabelEncoder()\n        lbl.fit(list(train_df[f].values.astype('str')) + list(test_df[f].values.astype('str')))\n        train_df[f] = lbl.transform(list(train_df[f].values.astype('str')))\n        test_df[f] = lbl.transform(list(test_df[f].values.astype('str')))",
      "execution_state": "idle"
    },
    {
      "cell_type": "markdown",
      "metadata": {
        "_cell_guid": "346938a1-7c79-00b4-b09d-7e1836dc3af3",
        "_active": false
      },
      "source": "We also have some null values in the dataset. So one feature idea could be to use the count of nulls in the row.",
      "outputs": []
    },
    {
      "cell_type": "code",
      "execution_count": 4,
      "metadata": {
        "_cell_guid": "dc4c06e1-8121-4f6c-4fa1-4bfbfc280ce6",
        "_active": false
      },
      "outputs": [],
      "source": "train_df[\"null_count\"] = train_df.isnull().sum(axis=1)\ntest_df[\"null_count\"] = test_df.isnull().sum(axis=1)\n\nplt.figure(figsize=(14,12))\nsns.pointplot(x='null_count', y='price_doc', data=train_df)\nplt.ylabel('price_doc', fontsize=12)\nplt.xlabel('null_count', fontsize=12)\nplt.xticks(rotation='vertical')\nplt.show()",
      "execution_state": "idle"
    },
    {
      "cell_type": "markdown",
      "metadata": {
        "_cell_guid": "6bc6df2f-f86a-10bc-2c31-523a3e11dc74",
        "_active": false
      },
      "source": "Now let us impute the missing values with some value which is outside the range of values of the column, say -99.",
      "outputs": []
    },
    {
      "cell_type": "code",
      "execution_count": 5,
      "metadata": {
        "_cell_guid": "79ee31f1-3794-854b-5a4c-70bc9154bbb4",
        "_active": true
      },
      "outputs": [],
      "source": "train_df.fillna(-99, inplace=True)\ntest_df.fillna(-99, inplace=True)",
      "execution_state": "idle"
    },
    {
      "cell_type": "markdown",
      "metadata": {
        "_cell_guid": "8a2da6ce-a816-3f80-ee91-2146d4008afe",
        "_active": false
      },
      "source": "We have a timestamp variable in the dataset and time could be one of an important factor determining the price. So let us extract some features out of the timestamp variable.",
      "outputs": []
    },
    {
      "cell_type": "code",
      "execution_count": 6,
      "metadata": {
        "_cell_guid": "d48a4d7b-0e9c-91c5-251c-ebb7150fb0ba",
        "_active": false
      },
      "outputs": [],
      "source": "# year and month #\ntrain_df[\"yearmonth\"] = train_df[\"timestamp\"].dt.year*100 + train_df[\"timestamp\"].dt.month\ntest_df[\"yearmonth\"] = test_df[\"timestamp\"].dt.year*100 + test_df[\"timestamp\"].dt.month\n\n# year and week #\ntrain_df[\"yearweek\"] = train_df[\"timestamp\"].dt.year*100 + train_df[\"timestamp\"].dt.weekofyear\ntest_df[\"yearweek\"] = test_df[\"timestamp\"].dt.year*100 + test_df[\"timestamp\"].dt.weekofyear\n\n# year #\ntrain_df[\"year\"] = train_df[\"timestamp\"].dt.year\ntest_df[\"year\"] = test_df[\"timestamp\"].dt.year\n\n# month of year #\ntrain_df[\"month_of_year\"] = train_df[\"timestamp\"].dt.month\ntest_df[\"month_of_year\"] = test_df[\"timestamp\"].dt.month\n\n# week of year #\ntrain_df[\"week_of_year\"] = train_df[\"timestamp\"].dt.weekofyear\ntest_df[\"week_of_year\"] = test_df[\"timestamp\"].dt.weekofyear\n\n# day of week #\ntrain_df[\"day_of_week\"] = train_df[\"timestamp\"].dt.weekday\ntest_df[\"day_of_week\"] = test_df[\"timestamp\"].dt.weekday\n\n\nplt.figure(figsize=(12,8))\nsns.pointplot(x='yearweek', y='price_doc', data=train_df)\nplt.ylabel('price_doc', fontsize=12)\nplt.xlabel('yearweek', fontsize=12)\nplt.title('Median Price distribution by year and week_num')\nplt.xticks(rotation='vertical')\nplt.show()\n\nplt.figure(figsize=(12,8))\nsns.boxplot(x='month_of_year', y='price_doc', data=train_df)\nplt.ylabel('price_doc', fontsize=12)\nplt.xlabel('month_of_year', fontsize=12)\nplt.title('Median Price distribution by month_of_year')\nplt.xticks(rotation='vertical')\nplt.show()\n\nplt.figure(figsize=(12,8))\nsns.pointplot(x='week_of_year', y='price_doc', data=train_df)\nplt.ylabel('price_doc', fontsize=12)\nplt.xlabel('week of the year', fontsize=12)\nplt.title('Median Price distribution by week of year')\nplt.xticks(rotation='vertical')\nplt.show()\n\nplt.figure(figsize=(12,8))\nsns.boxplot(x='day_of_week', y='price_doc', data=train_df)\nplt.ylabel('price_doc', fontsize=12)\nplt.xlabel('day_of_week', fontsize=12)\nplt.title('Median Price distribution by day of week')\nplt.xticks(rotation='vertical')\nplt.show()",
      "execution_state": "idle"
    },
    {
      "cell_type": "markdown",
      "metadata": {
        "_cell_guid": "ddd906fa-864b-dec1-93d1-22070ced517c",
        "_active": false
      },
      "source": "Also from the [simple exploration notebook][1], we have seen that area of the property is the top variables. So creating some more features might be helpful.\n\nLet us create some ratio variables around it.\n\n\n  [1]: https://www.kaggle.com/sudalairajkumar/sberbank-russian-housing-market/simple-exploration-notebook-sberbank",
      "outputs": []
    },
    {
      "cell_type": "code",
      "execution_count": 7,
      "metadata": {
        "_cell_guid": "11c1881c-1b6e-fbda-0c61-51ed8f62e9d2",
        "_active": false
      },
      "outputs": [],
      "source": "# ratio of living area to full area #\ntrain_df[\"ratio_life_sq_full_sq\"] = train_df[\"life_sq\"] / np.maximum(train_df[\"full_sq\"].astype(\"float\"),1)\ntest_df[\"ratio_life_sq_full_sq\"] = test_df[\"life_sq\"] / np.maximum(test_df[\"full_sq\"].astype(\"float\"),1)\ntrain_df[\"ratio_life_sq_full_sq\"].ix[train_df[\"ratio_life_sq_full_sq\"]<0] = 0\ntrain_df[\"ratio_life_sq_full_sq\"].ix[train_df[\"ratio_life_sq_full_sq\"]>1] = 1\ntest_df[\"ratio_life_sq_full_sq\"].ix[test_df[\"ratio_life_sq_full_sq\"]<0] = 0\ntest_df[\"ratio_life_sq_full_sq\"].ix[test_df[\"ratio_life_sq_full_sq\"]>1] = 1\n\n# ratio of kitchen area to living area #\ntrain_df[\"ratio_kitch_sq_life_sq\"] = train_df[\"kitch_sq\"] / np.maximum(train_df[\"life_sq\"].astype(\"float\"),1)\ntest_df[\"ratio_kitch_sq_life_sq\"] = test_df[\"kitch_sq\"] / np.maximum(test_df[\"life_sq\"].astype(\"float\"),1)\ntrain_df[\"ratio_kitch_sq_life_sq\"].ix[train_df[\"ratio_kitch_sq_life_sq\"]<0] = 0\ntrain_df[\"ratio_kitch_sq_life_sq\"].ix[train_df[\"ratio_kitch_sq_life_sq\"]>1] = 1\ntest_df[\"ratio_kitch_sq_life_sq\"].ix[test_df[\"ratio_kitch_sq_life_sq\"]<0] = 0\ntest_df[\"ratio_kitch_sq_life_sq\"].ix[test_df[\"ratio_kitch_sq_life_sq\"]>1] = 1\n\n# ratio of kitchen area to full area #\ntrain_df[\"ratio_kitch_sq_full_sq\"] = train_df[\"kitch_sq\"] / np.maximum(train_df[\"full_sq\"].astype(\"float\"),1)\ntest_df[\"ratio_kitch_sq_full_sq\"] = test_df[\"kitch_sq\"] / np.maximum(test_df[\"full_sq\"].astype(\"float\"),1)\ntrain_df[\"ratio_kitch_sq_full_sq\"].ix[train_df[\"ratio_kitch_sq_full_sq\"]<0] = 0\ntrain_df[\"ratio_kitch_sq_full_sq\"].ix[train_df[\"ratio_kitch_sq_full_sq\"]>1] = 1\ntest_df[\"ratio_kitch_sq_full_sq\"].ix[test_df[\"ratio_kitch_sq_full_sq\"]<0] = 0\ntest_df[\"ratio_kitch_sq_full_sq\"].ix[test_df[\"ratio_kitch_sq_full_sq\"]>1] = 1\n\nplt.figure(figsize=(12,12))\nsns.jointplot(x=train_df.ratio_life_sq_full_sq.values, y=np.log1p(train_df.price_doc.values), size=10)\nplt.ylabel('Log of Price', fontsize=12)\nplt.xlabel('Ratio of living area to full area', fontsize=12)\nplt.title(\"Joint plot on log of living price to ratio_life_sq_full_sq\")\nplt.show()\n\nplt.figure(figsize=(12,12))\nsns.jointplot(x=train_df.ratio_life_sq_full_sq.values, y=np.log1p(train_df.price_doc.values), \n              kind='kde',size=10)\nplt.ylabel('Log of Price', fontsize=12)\nplt.xlabel('Ratio of kitchen area to living area', fontsize=12)\nplt.title(\"Joint plot on log of living price to ratio_kitch_sq_life_sq\")\nplt.show()\n\nplt.figure(figsize=(12,12))\nsns.jointplot(x=train_df.ratio_life_sq_full_sq.values, y=np.log1p(train_df.price_doc.values), \n              kind='kde',size=10)\nplt.ylabel('Log of Price', fontsize=12)\nplt.xlabel('Ratio of kitchen area to full area', fontsize=12)\nplt.title(\"Joint plot on log of living price to ratio_kitch_sq_full_sq\")\nplt.show()",
      "execution_state": "idle"
    },
    {
      "cell_type": "markdown",
      "metadata": {
        "_cell_guid": "4cc54311-8fd9-9bec-d49d-4fb8aaa7352e",
        "_active": false
      },
      "source": "Also the next important variables from EDA are floor and max_floor. So let us create two variables\n\n 1. Floor number of the house to the total number of floors\n 2. Number of floor from the top",
      "outputs": []
    },
    {
      "cell_type": "code",
      "execution_count": 8,
      "metadata": {
        "_cell_guid": "012f5482-3e04-cf9f-d005-e17d0ed04cf8",
        "_active": false
      },
      "outputs": [],
      "source": "# floor of the house to the total number of floors in the house #\ntrain_df[\"ratio_floor_max_floor\"] = train_df[\"floor\"] / train_df[\"max_floor\"].astype(\"float\")\ntest_df[\"ratio_floor_max_floor\"] = test_df[\"floor\"] / test_df[\"max_floor\"].astype(\"float\")\n\n# num of floor from top #\ntrain_df[\"floor_from_top\"] = train_df[\"max_floor\"] - train_df[\"floor\"]\ntest_df[\"floor_from_top\"] = test_df[\"max_floor\"] - test_df[\"floor\"]",
      "execution_state": "idle"
    },
    {
      "cell_type": "markdown",
      "metadata": {
        "_cell_guid": "aea58331-32ae-2a0e-a70e-4d3d993c1cec",
        "_active": false
      },
      "source": "One more variable from floor area could be the difference between full area and living area.",
      "outputs": []
    },
    {
      "cell_type": "code",
      "execution_count": 9,
      "metadata": {
        "_cell_guid": "97cca91d-7075-dfac-4d49-c983586918e3",
        "_active": false
      },
      "outputs": [],
      "source": "train_df[\"extra_sq\"] = train_df[\"full_sq\"] - train_df[\"life_sq\"]\ntest_df[\"extra_sq\"] = test_df[\"full_sq\"] - test_df[\"life_sq\"]",
      "execution_state": "idle"
    },
    {
      "cell_type": "markdown",
      "metadata": {
        "_cell_guid": "0cc1a076-8c7a-8126-42ed-ebee7dbf30d0",
        "_active": false
      },
      "source": "Age of building might have an impact in the rental price and so we can add that one as well.",
      "outputs": []
    },
    {
      "cell_type": "code",
      "execution_count": 10,
      "metadata": {
        "_cell_guid": "fcc4c6cb-7084-2dc1-c581-4323f239647e",
        "_active": false
      },
      "outputs": [],
      "source": "train_df[\"age_of_building\"] = train_df[\"build_year\"] - train_df[\"year\"]\ntest_df[\"age_of_building\"] = test_df[\"build_year\"] - test_df[\"year\"]",
      "execution_state": "idle"
    },
    {
      "cell_type": "markdown",
      "metadata": {
        "_cell_guid": "11492887-5415-b922-b49e-952bd255058e",
        "_active": false
      },
      "source": "Price of the house could also be affected by the availability of other houses at the same time period. So creating a count variable on the number of houses at the given time period might help.",
      "outputs": []
    },
    {
      "cell_type": "code",
      "execution_count": 11,
      "metadata": {
        "_cell_guid": "dd00ea72-a1d1-846b-1b70-8e3471212f03",
        "_active": false
      },
      "outputs": [],
      "source": "def add_count(df, group_col):\n    grouped_df = df.groupby(group_col)[\"id\"].aggregate(\"count\").reset_index()\n    grouped_df.columns = [group_col, \"count_\"+group_col]\n    df = pd.merge(df, grouped_df, on=group_col, how=\"left\")\n    return df\n\ntrain_df = add_count(train_df, \"yearmonth\")\ntest_df = add_count(test_df, \"yearmonth\")\n\ntrain_df = add_count(train_df, \"yearweek\")\ntest_df = add_count(test_df, \"yearweek\")",
      "execution_state": "idle"
    },
    {
      "cell_type": "markdown",
      "metadata": {
        "_cell_guid": "c627f175-c39b-582b-a273-f34a5610b52d",
        "_active": false
      },
      "source": "Since schools generally play an important role in house hunting, let us create some variables around school.",
      "outputs": []
    },
    {
      "cell_type": "code",
      "execution_count": 12,
      "metadata": {
        "_cell_guid": "909e4c3d-0524-0eb5-7fa5-e9e908193da7",
        "_active": false
      },
      "outputs": [],
      "source": "train_df[\"ratio_preschool\"] = train_df[\"children_preschool\"] / train_df[\"preschool_quota\"].astype(\"float\")\ntest_df[\"ratio_preschool\"] = test_df[\"children_preschool\"] / test_df[\"preschool_quota\"].astype(\"float\")\n\ntrain_df[\"ratio_school\"] = train_df[\"children_school\"] / train_df[\"school_quota\"].astype(\"float\")\ntest_df[\"ratio_school\"] = test_df[\"children_school\"] / test_df[\"school_quota\"].astype(\"float\")",
      "execution_state": "idle"
    },
    {
      "cell_type": "markdown",
      "metadata": {
        "_cell_guid": "967f1bae-981f-534f-02c5-f2d85d386088",
        "_active": false
      },
      "source": "We could potentially add more variables like this. But for now let us start with model building using these additional variables. Let us drop the variables which are not needed in model building.",
      "outputs": []
    },
    {
      "cell_type": "code",
      "execution_count": 13,
      "metadata": {
        "_cell_guid": "ae79d7d0-78d8-4cad-2ac0-a84eab7748c4",
        "_active": false,
        "collapsed": false
      },
      "outputs": [],
      "source": "# save the test ids for sub file\ntest_ids = test_df['id']\n\ntrain_X = train_df.drop([\"id\", \"timestamp\", \"price_doc\"], axis=1)\ntest_X = test_df.drop([\"id\", \"timestamp\"] , axis=1)",
      "execution_state": "idle"
    },
    {
      "cell_type": "markdown",
      "metadata": {
        "_cell_guid": "aae2ae14-9460-fe4a-51c2-6f142b66a664",
        "_active": false
      },
      "source": "Since our metric is \"RMSLE\", let us use log of the target variable for model building rather than using the actual target variable.",
      "outputs": []
    },
    {
      "cell_type": "code",
      "execution_count": 14,
      "metadata": {
        "_cell_guid": "86cce3e3-dd1a-5388-5943-791461c2b230",
        "_active": false
      },
      "outputs": [],
      "source": "train_y = np.log1p(train_df.price_doc.values)",
      "execution_state": "idle"
    },
    {
      "cell_type": "markdown",
      "metadata": {
        "_cell_guid": "7aebaa03-6615-a0f9-1c63-39db22758de6",
        "_active": false
      },
      "source": "**Validation Methodology:**\n\nBut before building our models, let us do some local validation by splitting the train dataset.\n\nIn this competition, the train and test set are from different time periods and so let us use the last 1 year as validation set for building our models and rest as model development set.",
      "outputs": []
    },
    {
      "cell_type": "code",
      "execution_count": 15,
      "metadata": {
        "_cell_guid": "ebe969ec-b0c8-e513-a398-2b9fb1a2b52d",
        "_active": false
      },
      "outputs": [],
      "source": "val_time = 201407\ndev_indices = np.where(train_X[\"yearmonth\"]<val_time)\nval_indices = np.where(train_X[\"yearmonth\"]>=val_time)\ndev_X = train_X.ix[dev_indices]\nval_X = train_X.ix[val_indices]\ndev_y = train_y[dev_indices]\nval_y = train_y[val_indices]\nprint(dev_X.shape, val_X.shape)",
      "execution_state": "idle"
    },
    {
      "cell_type": "markdown",
      "metadata": {
        "_cell_guid": "6f4ed545-8ccf-8e5f-a084-f09aeb12edc7",
        "_active": false
      },
      "source": "Let us build xgboost model using these variables and check the score.",
      "outputs": []
    },
    {
      "metadata": {
        "_cell_guid": "fe857882-b08e-c3c2-a378-b798f4d6ddbd",
        "_active": false,
        "collapsed": false
      },
      "source": "xgb_params = {\n    'eta': 0.05,\n    'max_depth': 4,\n    'subsample': 0.7,\n    'colsample_bytree': 0.7,\n    'objective': 'reg:linear',\n    'eval_metric': 'rmse',\n    'min_child_weight':1,\n    'silent': 1,\n    'seed':0\n}\n\nxgtrain = xgb.DMatrix(dev_X, dev_y, feature_names=dev_X.columns)\nxgtest = xgb.DMatrix(val_X, val_y, feature_names=val_X.columns)\ndtest = xgb.DMatrix(test_X, feature_names=test_X.columns)\n\nwatchlist = [ (xgtrain,'train'), (xgtest, 'test') ]\nnum_rounds = 500\n\nmodel = xgb.train(xgb_params, xgtrain, num_rounds, watchlist, early_stopping_rounds=50, verbose_eval=5)",
      "execution_count": 16,
      "cell_type": "code",
      "outputs": [],
      "execution_state": "idle"
    },
    {
      "cell_type": "code",
      "execution_count": 17,
      "metadata": {
        "_cell_guid": "2b967526-a512-1988-1cef-58d50d53dff3",
        "_active": false
      },
      "outputs": [],
      "source": "# plot the important features #\nfig, ax = plt.subplots(figsize=(12,18))\nxgb.plot_importance(model, max_num_features=50, height=0.8, ax=ax)\nplt.show()",
      "execution_state": "idle"
    },
    {
      "metadata": {
        "_cell_guid": "f1280319-96cd-4a25-9e24-31daf93138de",
        "_active": false,
        "collapsed": false
      },
      "source": "y_pred = model.predict(dtest)\n\ndf_sub = pd.DataFrame({'id': test_ids, 'price_doc': y_pred})\n\ndf_sub.to_csv('submission_xgb.csv', index=False)",
      "execution_count": 18,
      "cell_type": "code",
      "outputs": [],
      "execution_state": "idle"
    },
    {
      "cell_type": "markdown",
      "metadata": {
        "_cell_guid": "fa7de33d-dee9-58da-c227-3841609c03cc",
        "_active": false
      },
      "source": "Beware that adding irrelevant variables will degrade the performance of the models. So use cross-validation and pick the best ones.! ",
      "outputs": []
    }
  ]
}