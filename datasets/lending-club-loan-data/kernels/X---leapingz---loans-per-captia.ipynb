{
  "cells": [
    {
      "cell_type": "markdown",
      "metadata": {
        "_cell_guid": "e9896f63-f760-440f-8257-c8475d2effbc"
      },
      "source": [
        "#Loans Per Captia\n",
        "I've seen a lot of people who are exploring this data look at the raw number of loans per state.  It's interesting in that it fairly accurately shows the ranking of states by population.  So, in this short script, I look at the loans granted per captia.  I got the population data from [this](https://en.wikipedia.org/wiki/List_of_U.S._states_and_territories_by_population) Wikipedia page."
      ]
    },
    {
      "cell_type": "code",
      "execution_count": null,
      "metadata": {
        "_cell_guid": "9e805945-06b8-40a5-8c06-638403398223"
      },
      "outputs": [],
      "source": [
        "import pandas as pd\n",
        "import seaborn as sns\n",
        "import matplotlib.pyplot as plt"
      ]
    },
    {
      "cell_type": "code",
      "execution_count": null,
      "metadata": {
        "_cell_guid": "793133f7-f031-429d-ac0a-93d1f9cc7d08"
      },
      "outputs": [],
      "source": [
        "df = pd.read_csv('../input/loan.csv', usecols = ['loan_amnt', 'addr_state'])"
      ]
    },
    {
      "cell_type": "code",
      "execution_count": null,
      "metadata": {
        "_cell_guid": "a77292b3-d922-4520-9eb2-33da92c507f6"
      },
      "outputs": [],
      "source": [
        "perStatedf = df.groupby('addr_state', as_index = False).count().sort_values(by = 'loan_amnt', ascending=False)\n",
        "perStatedf.columns = ['State', 'Num_Loans']"
      ]
    },
    {
      "cell_type": "markdown",
      "metadata": {
        "_cell_guid": "80ee200e-2355-4a32-abb8-831ad17f6e92"
      },
      "source": [
        "Here's the plot of the raw loan numbers by state."
      ]
    },
    {
      "cell_type": "code",
      "execution_count": null,
      "metadata": {
        "_cell_guid": "4de62f29-ff8a-4981-8727-1cdced57bfaf"
      },
      "outputs": [],
      "source": [
        "fig, ax = plt.subplots(figsize = (16,8))\n",
        "ax = sns.barplot(x='State', y='Num_Loans', data=perStatedf)\n",
        "ax.set(ylabel = 'Number of Loans', title = 'Loans per State')\n",
        "plt.show()"
      ]
    },
    {
      "cell_type": "markdown",
      "metadata": {
        "_cell_guid": "f6eea979-a5cb-4ce4-bfa3-7ed984f01464"
      },
      "source": [
        "I load the population data in as a dictionary, convert it to a dataframe and merge it with my other data.  I could have probably found an easier way to load in the population data without entering it in by hand, but I'm pretty good at ten key so it took less time than looking for the 'easier' way."
      ]
    },
    {
      "cell_type": "code",
      "execution_count": null,
      "metadata": {
        "_cell_guid": "12b86ac3-590d-4b1b-95f8-5967cad6e5e5"
      },
      "outputs": [],
      "source": [
        "statePop = {'CA' : 39144818,\n",
        "'TX' : 27469144,\n",
        "'FL' : 20271878,\n",
        "'NY' : 19795791,\n",
        "'IL' : 12859995,\n",
        "'PA' : 12802503,\n",
        "'OH' : 11613423,\n",
        "'GA' : 10214860,\n",
        "'NC' : 10042802,\n",
        "'MI' : 9922576,\n",
        "'NJ' : 8958013,\n",
        "'VA' : 8382993,\n",
        "'WA' : 7170351,\n",
        "'AZ' : 6828065,\n",
        "'MA' : 6794422,\n",
        "'IN' : 6619680,\n",
        "'TN' : 6600299,\n",
        "'MO' : 6083672,\n",
        "'MD' : 6006401,\n",
        "'WI' : 5771337,\n",
        "'MN' : 5489594,\n",
        "'CO' : 5456574,\n",
        "'SC' : 4896146,\n",
        "'AL' : 4858979,\n",
        "'LA' : 4670724,\n",
        "'KY' : 4425092,\n",
        "'OR' : 4028977,\n",
        "'OK' : 3911338,\n",
        "'CT' : 3890886,\n",
        "'IA' : 3123899,\n",
        "'UT' : 2995919,\n",
        "'MS' : 2992333,\n",
        "'AK' : 2978204,\n",
        "'KS' : 2911641,\n",
        "'NV' : 2890845,\n",
        "'NM' : 2085109,\n",
        "'NE' : 1896190,\n",
        "'WV' : 1844128,\n",
        "'ID' : 1654930,\n",
        "'HI' : 1431603,\n",
        "'NH' : 1330608,\n",
        "'ME' : 1329328,\n",
        "'RI' : 1053298,\n",
        "'MT' : 1032949,\n",
        "'DE' : 945934,\n",
        "'SD' : 858469,\n",
        "'ND' : 756927,\n",
        "'AK' : 738432,\n",
        "'DC' : 672228,\n",
        "'VT' : 626042,\n",
        "'WY' : 586107}\n",
        "statePopdf = pd.DataFrame.from_dict(statePop, orient = 'index').reset_index()\n",
        "statePopdf.columns = ['State', 'Pop']\n",
        "perStatedf = pd.merge(perStatedf, statePopdf, on=['State'], how = 'inner')"
      ]
    },
    {
      "cell_type": "code",
      "execution_count": null,
      "metadata": {
        "_cell_guid": "9245b0f5-4f40-48a7-826c-e3c3df9de297"
      },
      "outputs": [],
      "source": [
        "perStatedf['PerCaptia'] = perStatedf.Num_Loans / perStatedf.Pop\n",
        "fig, ax = plt.subplots(figsize = (16,8))\n",
        "ax = sns.barplot(x='State', y='PerCaptia', data=perStatedf.sort_values(by = 'PerCaptia', ascending=False))\n",
        "ax.set(ylabel = 'Number of Loans', title = 'Per Captia Loans by State')\n",
        "plt.show()"
      ]
    },
    {
      "cell_type": "markdown",
      "metadata": {
        "_cell_guid": "4e37a130-3e1d-400d-b542-8878a7296498"
      },
      "source": [
        "Here we can see that per person, Nevada takes out the most loans by a fair margin.  The former leader, California, is now ranked at number 10.\n",
        "\n",
        "Now, because I have the data right there, I'm going to look at loan amount by state and per capita loan amount by state."
      ]
    },
    {
      "cell_type": "code",
      "execution_count": null,
      "metadata": {
        "_cell_guid": "b0b94977-44e4-4cbb-878a-97089d5c42d2"
      },
      "outputs": [],
      "source": [
        "perStatedf = df.groupby('addr_state', as_index = False).sum().sort_values(by = 'loan_amnt', ascending=False)\n",
        "perStatedf.columns = ['State', 'loan_amt']"
      ]
    },
    {
      "cell_type": "code",
      "execution_count": null,
      "metadata": {
        "_cell_guid": "5ccd00b4-b947-4777-a206-7ec6c238e477"
      },
      "outputs": [],
      "source": [
        "fig, ax = plt.subplots(figsize = (16,8))\n",
        "ax = sns.barplot(x='State', y='loan_amt', data=perStatedf)\n",
        "ax.set(ylabel = 'Number of Loans', title = 'Total Loan Amount per State')\n",
        "plt.show()"
      ]
    },
    {
      "cell_type": "code",
      "execution_count": null,
      "metadata": {
        "_cell_guid": "2da5992b-34e6-42ad-9e43-d6b1d19ab4d9"
      },
      "outputs": [],
      "source": [
        "perStatedf = pd.merge(perStatedf, statePopdf, on=['State'], how = 'inner')\n",
        "perStatedf['PerCaptia'] = perStatedf.loan_amt / perStatedf.Pop"
      ]
    },
    {
      "cell_type": "code",
      "execution_count": null,
      "metadata": {
        "_cell_guid": "a3360bed-a114-43cd-bacf-b1929f789c7b"
      },
      "outputs": [],
      "source": [
        "fig, ax = plt.subplots(figsize = (16,8))\n",
        "ax = sns.barplot(x='State', y='PerCaptia', data=perStatedf.sort_values(by = 'PerCaptia', ascending=False))\n",
        "ax.set(ylabel = 'Number of Loans', title = 'Per Captia Loan Amount by State')\n",
        "plt.show()"
      ]
    },
    {
      "cell_type": "markdown",
      "metadata": {
        "_cell_guid": "3ba6b36f-58a4-4ae5-b3a3-b1b1b43effa0"
      },
      "source": [
        "We can see again, that the raw loan amount by state follows the state populations pretty close.  Again, when you look at the per capita amounts, Nevada is at the top.  Here we see that the former number 1, California, again drops in rank.  It's now in thirteenth place.\n",
        "\n",
        "Next, I'm going to look at the per capita bad loans."
      ]
    },
    {
      "cell_type": "code",
      "execution_count": null,
      "metadata": {
        "_cell_guid": "ab614e75-9494-40e8-8c77-63d13cf7daad"
      },
      "outputs": [],
      "source": [
        "df = pd.read_csv('../input/loan.csv', usecols = ['loan_status', 'addr_state'])\n",
        "df.loan_status.unique()"
      ]
    },
    {
      "cell_type": "code",
      "execution_count": null,
      "metadata": {
        "_cell_guid": "71421153-7f4c-4864-a240-e549449a4f76"
      },
      "outputs": [],
      "source": [
        "badLoan  = ['Charged Off', \n",
        "            'Default', \n",
        "            'Late (31-120 days)', \n",
        "            'Late (16-30 days)', 'In Grace Period', \n",
        "            'Does not meet the credit policy. Status:Charged Off'] "
      ]
    },
    {
      "cell_type": "code",
      "execution_count": null,
      "metadata": {
        "_cell_guid": "0cb2b803-cf07-45f6-91af-29907f918bf9"
      },
      "outputs": [],
      "source": [
        "df['isBad'] = [ 1 if x in badLoan else 0 for x in df.loan_status]\n",
        "perStatedf = df.groupby('addr_state', as_index = False).sum().sort_values(by = 'isBad', ascending=False)\n",
        "perStatedf.columns = ['State', 'badLoans']"
      ]
    },
    {
      "cell_type": "code",
      "execution_count": null,
      "metadata": {
        "_cell_guid": "650fb5af-322a-463d-96f6-7f99c0108d47"
      },
      "outputs": [],
      "source": [
        "fig, ax = plt.subplots(figsize = (16,8))\n",
        "ax = sns.barplot(x='State', y='badLoans', data=perStatedf)\n",
        "ax.set(ylabel = 'Number of Loans', title = 'Total Bad Loans per State')\n",
        "plt.show()"
      ]
    },
    {
      "cell_type": "code",
      "execution_count": null,
      "metadata": {
        "_cell_guid": "56381d46-bccd-4a47-b320-22aa519c67f2"
      },
      "outputs": [],
      "source": [
        "perStatedf = pd.merge(perStatedf, statePopdf, on=['State'], how = 'inner')\n",
        "perStatedf['PerCaptia'] = perStatedf.badLoans / perStatedf.Pop"
      ]
    },
    {
      "cell_type": "code",
      "execution_count": null,
      "metadata": {
        "_cell_guid": "30ba2aef-1916-4564-911d-a7a858405f71"
      },
      "outputs": [],
      "source": [
        "fig, ax = plt.subplots(figsize = (16,8))\n",
        "ax = sns.barplot(x='State', y='PerCaptia', data=perStatedf.sort_values(by = 'PerCaptia', ascending=False))\n",
        "ax.set(ylabel = 'Number of Loans', title = 'Per Captia Bad Loans by State')\n",
        "plt.show()"
      ]
    },
    {
      "cell_type": "markdown",
      "metadata": {
        "_cell_guid": "05efd582-46d1-438e-a3f5-1d7aa0b1cdae"
      },
      "source": [
        "Again we see that Nevada tops the charts with the most per capita bad loans.  The most interesting result is Washington DC.  It is 5th in total loans per capita, but it is 30th in per capita bad loans.\n",
        "\n",
        "Looking at these results,  I think looking at the percentage of bad loans by state would offer more insight into this."
      ]
    },
    {
      "cell_type": "code",
      "execution_count": null,
      "metadata": {
        "_cell_guid": "414a2e4c-b0e3-4d5f-8f96-fa1242b953eb"
      },
      "outputs": [],
      "source": [
        "df = pd.read_csv('../input/loan.csv', usecols = ['loan_status', 'addr_state'])\n",
        "perStatedf = df.groupby('addr_state', as_index = False).count().sort_values(by = 'loan_status', ascending = False)\n",
        "perStatedf.columns = ['State', 'totalLoans']\n",
        "df['isBad'] = [ 1 if x in badLoan else 0 for x in df.loan_status]\n",
        "badLoansdf = df.groupby('addr_state', as_index = False).sum().sort_values(by = 'isBad', ascending = False)\n",
        "badLoansdf.columns = ['State', 'badLoans']\n",
        "perStatedf = pd.merge(perStatedf, badLoansdf, on = ['State'], how = 'inner')\n",
        "perStatedf['percentBadLoans'] = (perStatedf.badLoans / perStatedf.totalLoans)*100"
      ]
    },
    {
      "cell_type": "code",
      "execution_count": null,
      "metadata": {
        "_cell_guid": "ffdae588-98b2-45cc-a878-8392f3bc313d"
      },
      "outputs": [],
      "source": [
        "fig, ax = plt.subplots(figsize = (16,8))\n",
        "ax = sns.barplot(x='State', y='percentBadLoans', data=perStatedf.sort_values(by = 'percentBadLoans', ascending=False))\n",
        "ax.set(ylabel = 'Percent', title = 'Percent of Bad Loans by State')\n",
        "plt.show()"
      ]
    },
    {
      "cell_type": "code",
      "execution_count": null,
      "metadata": {
        "_cell_guid": "b23f94da-1921-459f-bc3c-3a10c9c1fea9"
      },
      "outputs": [],
      "source": [
        "perStatedf.sort_values(by = 'percentBadLoans', ascending = False).head()"
      ]
    },
    {
      "cell_type": "markdown",
      "metadata": {
        "_cell_guid": "c95828f4-5811-405d-86b4-02054aa68631"
      },
      "source": [
        "With how small the sample from Iowa is, I think we should disregard it. That puts Nevada back on top.  This makes the numbers for Washington DC even more interesting though, as it drops all the way down to 47th place."
      ]
    },
    {
      "cell_type": "code",
      "execution_count": null,
      "metadata": {
        "_cell_guid": "99fde6d5-2511-4d6d-9068-372eecda8030"
      },
      "outputs": [],
      "source": [
        ""
      ]
    }
  ],
  "metadata": {
    "_change_revision": 0,
    "_is_fork": false,
    "kernelspec": {
      "display_name": "Python 3",
      "language": "python",
      "name": "python3"
    },
    "language_info": {
      "codemirror_mode": {
        "name": "ipython",
        "version": 3
      },
      "file_extension": ".py",
      "mimetype": "text/x-python",
      "name": "python",
      "nbconvert_exporter": "python",
      "pygments_lexer": "ipython3",
      "version": "3.5.2"
    }
  },
  "nbformat": 4,
  "nbformat_minor": 0
}