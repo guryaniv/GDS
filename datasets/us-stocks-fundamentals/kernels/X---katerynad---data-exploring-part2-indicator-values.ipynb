{
  "cells": [
    {
      "cell_type": "markdown",
      "metadata": {
        "_cell_guid": "2753ef57-a671-58c9-0deb-27c53c150885"
      },
      "source": [
        "**Data exploring**\n",
        "------------------\n",
        "\n",
        "***Part 2***\n",
        "------------\n",
        "\n",
        "**Well, now, when we know the most common indicators let's explore the values**\n",
        "\n",
        " - What's min, max, std, mean, etc values per each indicator and year?\n",
        " - Distribution of values\n",
        " - Visualization\n",
        "\n",
        "**I work with 5 most common indicators:**\n",
        "\n",
        " 1. Assets\n",
        " 2. LiabilitiesAndStockholdersEquity\n",
        " 3. StockholdersEquity\n",
        " 4. NetIncomeLoss\n",
        " 5. CashAndCashEquivalentsAtCarryingValue"
      ]
    },
    {
      "cell_type": "code",
      "execution_count": null,
      "metadata": {
        "_cell_guid": "b08f82ba-173d-5e41-d2c3-58ccc96de787"
      },
      "outputs": [],
      "source": [
        "import pandas as pd\n",
        "from pandas import Series,DataFrame\n",
        "import numpy as np\n",
        "\n",
        "# For Visualization\n",
        "import matplotlib.pyplot as plt\n",
        "import matplotlib\n",
        "import seaborn as sns"
      ]
    },
    {
      "cell_type": "code",
      "execution_count": null,
      "metadata": {
        "_cell_guid": "97c86ee7-191e-7451-3bb3-96a0c402c7eb"
      },
      "outputs": [],
      "source": [
        "df=pd.read_csv('../input/indicators_by_company.csv')"
      ]
    },
    {
      "cell_type": "code",
      "execution_count": null,
      "metadata": {
        "_cell_guid": "b15594d1-6ff4-3342-449b-0f690038e18b"
      },
      "outputs": [],
      "source": [
        "df.head()"
      ]
    },
    {
      "cell_type": "code",
      "execution_count": null,
      "metadata": {
        "_cell_guid": "c47755db-fa8c-1302-0961-9cf6e8287c33"
      },
      "outputs": [],
      "source": [
        "years=['2011','2012','2013','2014','2015']"
      ]
    },
    {
      "cell_type": "code",
      "execution_count": null,
      "metadata": {
        "_cell_guid": "5684a485-bd34-bbcf-4b74-af2696eb1f93"
      },
      "outputs": [],
      "source": [
        "indicators=['Assets',\n",
        "'LiabilitiesAndStockholdersEquity',\n",
        "'StockholdersEquity',\n",
        "'NetIncomeLoss',\n",
        "'CashAndCashEquivalentsAtCarryingValue']"
      ]
    },
    {
      "cell_type": "code",
      "execution_count": null,
      "metadata": {
        "_cell_guid": "4f025cf3-7da6-aab1-32cb-d4a1cccbf266"
      },
      "outputs": [],
      "source": [
        "df_rtba=df.loc[df['indicator_id'].isin(indicators),['company_id','indicator_id','2011','2012','2013','2014','2015']]\n",
        "df_rtba.head(10)"
      ]
    },
    {
      "cell_type": "code",
      "execution_count": null,
      "metadata": {
        "_cell_guid": "fe36d4c7-1996-7d47-c87a-b7ae80d0d0e3"
      },
      "outputs": [],
      "source": [
        "l_df=[]\n",
        "for y in years:\n",
        "    for c in indicators:\n",
        "        d=list(df_rtba.loc[df_rtba['indicator_id']==c,y].dropna().describe())\n",
        "        d.insert(0,y)\n",
        "        d.insert(1,c)\n",
        "        l_df.append(d)\n",
        "df_ind_desc=DataFrame(l_df,columns=['Year','Indicator','count','mean','std','min','25%','50%','75%','max'])\n",
        "df_ind_desc.head(20)"
      ]
    },
    {
      "cell_type": "markdown",
      "metadata": {
        "_cell_guid": "3c1ad22c-87e2-9ddf-83a9-8997ef23a241"
      },
      "source": [
        "Assets\n",
        "======"
      ]
    },
    {
      "cell_type": "code",
      "execution_count": null,
      "metadata": {
        "_cell_guid": "abf7f144-6e20-690a-02b5-6a688016ae5e"
      },
      "outputs": [],
      "source": [
        "Assets=df_rtba.loc[df_rtba['indicator_id']=='Assets']\n",
        "Assets=pd.melt(Assets, id_vars=['company_id', 'indicator_id'], var_name='year', value_name='value')\n",
        "Assets.drop('indicator_id', axis=1, inplace=True)\n",
        "Assets.dropna(inplace=True)\n",
        "Assets.head()"
      ]
    },
    {
      "cell_type": "markdown",
      "metadata": {
        "_cell_guid": "4e91aaba-520c-2099-8351-7d17b7d93d79"
      },
      "source": [
        "For a start, countplot with the number of observations in each year\n",
        "-------------------------------------------------------------------\n",
        "There is approximately the count each year except 2015"
      ]
    },
    {
      "cell_type": "code",
      "execution_count": null,
      "metadata": {
        "_cell_guid": "68eb8d0f-63b7-d3d7-c90d-a594fe7b64b3"
      },
      "outputs": [],
      "source": [
        "sns.set(style=\"ticks\", palette=\"muted\", color_codes=True)\n",
        "plt.figure(figsize=(12,8))\n",
        "ax=sns.countplot(x='year',data=Assets)\n",
        "ax.set_title('Assets')"
      ]
    },
    {
      "cell_type": "markdown",
      "metadata": {
        "_cell_guid": "c875614d-7333-6c0d-c1d1-e2aaa64616e6"
      },
      "source": [
        "Now, let's build boxplots with observations\n",
        "-------------------------------------------\n",
        "Median is approximately the same in each year.  Minimum, First quartile, Third quartile and maximum increase each year but still close"
      ]
    },
    {
      "cell_type": "code",
      "execution_count": null,
      "metadata": {
        "_cell_guid": "9942af8b-7635-6a7b-cc00-a2799a8e7665"
      },
      "outputs": [],
      "source": [
        "sns.set(style=\"ticks\", palette=\"muted\", color_codes=True)\n",
        "plt.figure(figsize=(12,8))\n",
        "\n",
        "\n",
        "ax = sns.boxplot(x='year',y='value',data=Assets,\n",
        "                 whis=np.inf)\n",
        "sns.stripplot(x=\"year\", y=\"value\", data=Assets,\n",
        "              jitter=True, size=3, color=\".3\", linewidth=0)\n",
        "ax.set_yscale(\"log\")\n",
        "sns.despine(trim=True)\n",
        "ax.set_title('Assets')"
      ]
    },
    {
      "cell_type": "markdown",
      "metadata": {
        "_cell_guid": "00c3e828-ba17-d253-0171-a879a7963784"
      },
      "source": [
        "Let's show the central tendency of the values using barplots with means\n",
        "-----------------------------------------------------------------------------------"
      ]
    },
    {
      "cell_type": "code",
      "execution_count": null,
      "metadata": {
        "_cell_guid": "133d2aa2-7d05-16bf-a67f-ff8b8c639924"
      },
      "outputs": [],
      "source": [
        "sns.set(style=\"ticks\", palette=\"muted\", color_codes=True)\n",
        "plt.figure(figsize=(12,8))\n",
        "ax=sns.barplot(x='year',y='value',data=Assets)\n",
        "ax.set_yscale(\"log\")\n",
        "sns.despine(trim=True)\n",
        "ax.set_title('Assets')"
      ]
    },
    {
      "cell_type": "markdown",
      "metadata": {
        "_cell_guid": "c85ccfba-66aa-84a5-6341-9583aa50eb01"
      },
      "source": [
        "Histogram\n",
        "---------\n",
        "\n",
        "There is skewness towards large values (first bin) and a span several orders of magnitude\n",
        "It is  easier on the eyes (and more informative) to visualize it on the log scale"
      ]
    },
    {
      "cell_type": "code",
      "execution_count": null,
      "metadata": {
        "_cell_guid": "3cf395d8-020a-ce6a-334c-d891092cb597"
      },
      "outputs": [],
      "source": [
        "fig, ax = plt.subplots()\n",
        "sns.set(style=\"ticks\", palette=\"muted\", color_codes=True)\n",
        "plt.figure(figsize=(12,8))\n",
        "for y in years:\n",
        "    ax=sns.distplot(Assets.loc[Assets['year']==y,'value'],bins=10000,ax=ax, kde=False)\n",
        "ax.set_xscale(\"log\")\n",
        "sns.despine(trim=True)\n",
        "ax.set_title('Assets')"
      ]
    },
    {
      "cell_type": "markdown",
      "metadata": {
        "_cell_guid": "b568d86c-533b-de49-699a-74db88d0f260"
      },
      "source": [
        "LiabilitiesAndStockholdersEquity\n",
        "================================"
      ]
    },
    {
      "cell_type": "code",
      "execution_count": null,
      "metadata": {
        "_cell_guid": "ca73e42f-8d66-9fdd-6be2-a70be5e40d29"
      },
      "outputs": [],
      "source": [
        "LiabilitiesAndStockholdersEquity=df_rtba.loc[df_rtba['indicator_id']=='LiabilitiesAndStockholdersEquity']\n",
        "LiabilitiesAndStockholdersEquity=pd.melt(LiabilitiesAndStockholdersEquity, id_vars=['company_id', 'indicator_id'], var_name='year', value_name='value')\n",
        "LiabilitiesAndStockholdersEquity.drop('indicator_id', axis=1, inplace=True)\n",
        "LiabilitiesAndStockholdersEquity.dropna(inplace=True)\n",
        "LiabilitiesAndStockholdersEquity.head()"
      ]
    },
    {
      "cell_type": "markdown",
      "metadata": {
        "_cell_guid": "9bd38dc5-3918-4c01-8723-18c887d50614"
      },
      "source": [
        "Countplot with the number of observations in each year\n",
        "-------------------------------------------------------------------\n",
        "There is approximately the count each year except 2015"
      ]
    },
    {
      "cell_type": "code",
      "execution_count": null,
      "metadata": {
        "_cell_guid": "f83d9552-8d07-727a-7223-9fce5a2f5717"
      },
      "outputs": [],
      "source": [
        "sns.set(style=\"ticks\", palette=\"muted\", color_codes=True)\n",
        "plt.figure(figsize=(12,8))\n",
        "ax=sns.countplot(x='year',data=LiabilitiesAndStockholdersEquity)\n",
        "ax.set_title('LiabilitiesAndStockholdersEquity')"
      ]
    },
    {
      "cell_type": "markdown",
      "metadata": {
        "_cell_guid": "706982ef-8952-8b86-5c26-ad675e5e9232"
      },
      "source": [
        "Boxplots with observations\n",
        "-------------------------------------------\n",
        "Median is approximately the same in each year.  Minimum, First quartile, Third quartile and maximum increase each year but still close"
      ]
    },
    {
      "cell_type": "code",
      "execution_count": null,
      "metadata": {
        "_cell_guid": "f4c10af5-574a-d30d-f524-6958f556589d"
      },
      "outputs": [],
      "source": [
        "sns.set(style=\"ticks\", palette=\"muted\", color_codes=True)\n",
        "plt.figure(figsize=(12,8))\n",
        "\n",
        "\n",
        "ax = sns.boxplot(x='year',y='value',data=LiabilitiesAndStockholdersEquity,\n",
        "                 whis=np.inf)\n",
        "sns.stripplot(x=\"year\", y=\"value\", data=LiabilitiesAndStockholdersEquity,\n",
        "              jitter=True, size=3, color=\".3\", linewidth=0)\n",
        "ax.set_yscale(\"log\")\n",
        "sns.despine(trim=True)\n",
        "ax.set_title('LiabilitiesAndStockholdersEquity')\n"
      ]
    },
    {
      "cell_type": "markdown",
      "metadata": {
        "_cell_guid": "8294c1c3-9e08-990a-b8cf-0c784e4df4ad"
      },
      "source": [
        "Barplots with means\n",
        "-------------------"
      ]
    },
    {
      "cell_type": "code",
      "execution_count": null,
      "metadata": {
        "_cell_guid": "c7c86f69-44fd-cdbb-218b-52d1a6fa2e92"
      },
      "outputs": [],
      "source": [
        "sns.set(style=\"ticks\", palette=\"muted\", color_codes=True)\n",
        "plt.figure(figsize=(12,8))\n",
        "ax=sns.barplot(x='year',y='value',data=LiabilitiesAndStockholdersEquity)\n",
        "ax.set_yscale(\"log\")\n",
        "sns.despine(trim=True)\n",
        "ax.set_title('LiabilitiesAndStockholdersEquity')"
      ]
    },
    {
      "cell_type": "markdown",
      "metadata": {
        "_cell_guid": "906d1d0f-e46d-3255-ed17-4c96ff22df33"
      },
      "source": [
        "Histogram\n",
        "---------"
      ]
    },
    {
      "cell_type": "code",
      "execution_count": null,
      "metadata": {
        "_cell_guid": "4bd0e148-04ac-9974-5429-c4e1267cabae"
      },
      "outputs": [],
      "source": [
        "fig, ax = plt.subplots()\n",
        "sns.set(style=\"ticks\", palette=\"muted\", color_codes=True)\n",
        "plt.figure(figsize=(12,8))\n",
        "for y in years:\n",
        "    ax=sns.distplot(LiabilitiesAndStockholdersEquity.loc[LiabilitiesAndStockholdersEquity['year']==y,'value'],bins=10000,ax=ax, kde=False)\n",
        "ax.set_xscale(\"log\")\n",
        "sns.despine(trim=True)\n",
        "ax.set_title('LiabilitiesAndStockholdersEquity')"
      ]
    },
    {
      "cell_type": "markdown",
      "metadata": {
        "_cell_guid": "29e0bb21-4b74-fbe2-fbe1-2c21d70050ba"
      },
      "source": [
        "StockholdersEquity\n",
        "=================="
      ]
    },
    {
      "cell_type": "code",
      "execution_count": null,
      "metadata": {
        "_cell_guid": "e723861b-1b99-5ab2-d48b-7bff166826af"
      },
      "outputs": [],
      "source": [
        "StockholdersEquity=df_rtba.loc[df_rtba['indicator_id']=='StockholdersEquity']\n",
        "StockholdersEquity=pd.melt(StockholdersEquity, id_vars=['company_id', 'indicator_id'], var_name='year', value_name='value')\n",
        "StockholdersEquity.drop('indicator_id', axis=1, inplace=True)\n",
        "StockholdersEquity.dropna(inplace=True)\n",
        "StockholdersEquity.head()"
      ]
    },
    {
      "cell_type": "markdown",
      "metadata": {
        "_cell_guid": "6e5f1ffc-f4d1-a1c6-421b-09d37065135e"
      },
      "source": [
        "Countplot with the number of observations in each year\n",
        "-------------------------------------------------------------------\n",
        "There is approximately the count each year except 2015"
      ]
    },
    {
      "cell_type": "code",
      "execution_count": null,
      "metadata": {
        "_cell_guid": "90ccb862-6cf8-eab0-a8f0-54488efc78e2"
      },
      "outputs": [],
      "source": [
        "sns.set(style=\"ticks\", palette=\"muted\", color_codes=True)\n",
        "plt.figure(figsize=(12,8))\n",
        "ax=sns.countplot(x='year',data=StockholdersEquity)\n",
        "ax.set_title('StockholdersEquity')"
      ]
    },
    {
      "cell_type": "markdown",
      "metadata": {
        "_cell_guid": "cff612dc-f895-de43-2f9b-995d0aa86285"
      },
      "source": [
        "Boxplots with observations\n",
        "-------------------------------------------\n",
        "Almost the same pattern as in previous indicator but looks like less observations in the area of First quartile and more in Third"
      ]
    },
    {
      "cell_type": "code",
      "execution_count": null,
      "metadata": {
        "_cell_guid": "8c0e302b-1dca-32aa-517f-672382f3d71a"
      },
      "outputs": [],
      "source": [
        "sns.set(style=\"ticks\", palette=\"muted\", color_codes=True)\n",
        "plt.figure(figsize=(12,8))\n",
        "\n",
        "\n",
        "ax = sns.boxplot(x='year',y='value',data=StockholdersEquity,\n",
        "                 whis=np.inf)\n",
        "sns.stripplot(x=\"year\", y=\"value\", data=StockholdersEquity,\n",
        "              jitter=True, size=3, color=\".3\", linewidth=0)\n",
        "ax.set_yscale(\"log\")\n",
        "sns.despine(trim=True)\n",
        "ax.set_title('StockholdersEquity')"
      ]
    },
    {
      "cell_type": "markdown",
      "metadata": {
        "_cell_guid": "eb7daa9f-8b83-a0a8-6017-15830a3a9389"
      },
      "source": [
        "Barplots with means\n",
        "-------------------\n",
        "\n",
        "It increases every year"
      ]
    },
    {
      "cell_type": "code",
      "execution_count": null,
      "metadata": {
        "_cell_guid": "66fd199f-253b-09ad-cee0-09481193af25"
      },
      "outputs": [],
      "source": [
        "sns.set(style=\"ticks\", palette=\"muted\", color_codes=True)\n",
        "plt.figure(figsize=(12,8))\n",
        "ax=sns.barplot(x='year',y='value',data=StockholdersEquity)\n",
        "ax.set_yscale(\"log\")\n",
        "sns.despine(trim=True)\n",
        "ax.set_title('StockholdersEquity')"
      ]
    },
    {
      "cell_type": "markdown",
      "metadata": {
        "_cell_guid": "2ecdef2e-b849-60ab-1648-59e0d96bdd34"
      },
      "source": [
        "Histogram\n",
        "---------"
      ]
    },
    {
      "cell_type": "code",
      "execution_count": null,
      "metadata": {
        "_cell_guid": "65ff69dd-55ef-dc69-8f0d-83b066f3fbb9"
      },
      "outputs": [],
      "source": [
        "fig, ax = plt.subplots()\n",
        "sns.set(style=\"ticks\", palette=\"muted\", color_codes=True)\n",
        "plt.figure(figsize=(12,8))\n",
        "for y in years:\n",
        "    ax=sns.distplot(StockholdersEquity.loc[StockholdersEquity['year']==y,'value'],bins=1000,ax=ax, kde=False)\n",
        "ax.set_xscale(\"log\")\n",
        "sns.despine(trim=True)\n",
        "ax.set_title('StockholdersEquity')"
      ]
    },
    {
      "cell_type": "markdown",
      "metadata": {
        "_cell_guid": "d7726a0a-1176-d0ec-7df7-b5c11f03c9cb"
      },
      "source": [
        "NetIncomeLoss\n",
        "============="
      ]
    },
    {
      "cell_type": "code",
      "execution_count": null,
      "metadata": {
        "_cell_guid": "918ff4c8-c4ce-cce2-2fea-75574c6e43b1"
      },
      "outputs": [],
      "source": [
        "NetIncomeLoss=df_rtba.loc[df_rtba['indicator_id']=='StockholdersEquity']\n",
        "NetIncomeLoss=pd.melt(NetIncomeLoss, id_vars=['company_id', 'indicator_id'], var_name='year', value_name='value')\n",
        "NetIncomeLoss.drop('indicator_id', axis=1, inplace=True)\n",
        "NetIncomeLoss.dropna(inplace=True)\n",
        "NetIncomeLoss.head()"
      ]
    },
    {
      "cell_type": "markdown",
      "metadata": {
        "_cell_guid": "72381d33-9a36-0c38-aff2-d2c04731f357"
      },
      "source": [
        "Countplot with the number of observations in each year\n",
        "-------------------------------------------------------------------"
      ]
    },
    {
      "cell_type": "code",
      "execution_count": null,
      "metadata": {
        "_cell_guid": "4042e8f5-7b00-1995-ddb6-f2c356edbb14"
      },
      "outputs": [],
      "source": [
        "sns.set(style=\"ticks\", palette=\"muted\", color_codes=True)\n",
        "plt.figure(figsize=(12,8))\n",
        "ax=sns.countplot(x='year',data=NetIncomeLoss)\n",
        "ax.set_title('NetIncomeLoss')"
      ]
    },
    {
      "cell_type": "markdown",
      "metadata": {
        "_cell_guid": "64d34743-cfd0-e684-49c6-7f9773c79dae"
      },
      "source": [
        "Boxplots with observations\n",
        "-------------------------------------------\n",
        "The TThird quartile and mean are close in each year and less observations in the First quartile"
      ]
    },
    {
      "cell_type": "code",
      "execution_count": null,
      "metadata": {
        "_cell_guid": "819977c3-cabc-dd91-d354-8557845808ad"
      },
      "outputs": [],
      "source": [
        "sns.set(style=\"ticks\", palette=\"muted\", color_codes=True)\n",
        "plt.figure(figsize=(12,8))\n",
        "\n",
        "\n",
        "ax = sns.boxplot(x='year',y='value',data=NetIncomeLoss,\n",
        "                 whis=np.inf)\n",
        "sns.stripplot(x=\"year\", y=\"value\", data=NetIncomeLoss,\n",
        "              jitter=True, size=3, color=\".3\", linewidth=0)\n",
        "ax.set_yscale(\"log\")\n",
        "sns.despine(trim=True)\n",
        "ax.set_title('NetIncomeLoss')"
      ]
    },
    {
      "cell_type": "markdown",
      "metadata": {
        "_cell_guid": "a8325e1e-31ad-fb57-419b-9a2bea38190d"
      },
      "source": [
        "Barplots with means\n",
        "-------------------\n",
        "\n",
        "It increases every year"
      ]
    },
    {
      "cell_type": "code",
      "execution_count": null,
      "metadata": {
        "_cell_guid": "6f66bf13-523f-db6e-c448-cb0e32247333"
      },
      "outputs": [],
      "source": [
        "sns.set(style=\"ticks\", palette=\"muted\", color_codes=True)\n",
        "plt.figure(figsize=(12,8))\n",
        "ax=sns.barplot(x='year',y='value',data=NetIncomeLoss)\n",
        "ax.set_yscale(\"log\")\n",
        "sns.despine(trim=True)\n",
        "ax.set_title('NetIncomeLoss')"
      ]
    },
    {
      "cell_type": "markdown",
      "metadata": {
        "_cell_guid": "84b12567-be59-b4cc-d147-2f59896ca03c"
      },
      "source": [
        "Histogram\n",
        "---------"
      ]
    },
    {
      "cell_type": "code",
      "execution_count": null,
      "metadata": {
        "_cell_guid": "a26016c8-22f4-c9c0-97fa-4262c164f098"
      },
      "outputs": [],
      "source": [
        "fig, ax = plt.subplots()\n",
        "sns.set(style=\"ticks\", palette=\"muted\", color_codes=True)\n",
        "plt.figure(figsize=(12,8))\n",
        "for y in years:\n",
        "    ax=sns.distplot(NetIncomeLoss.loc[NetIncomeLoss['year']==y,'value'],bins=1000,ax=ax, kde=False)\n",
        "ax.set_xscale(\"log\")\n",
        "sns.despine(trim=True)\n",
        "ax.set_title('NetIncomeLoss')"
      ]
    },
    {
      "cell_type": "markdown",
      "metadata": {
        "_cell_guid": "59d9e31f-46b3-6c0d-acf1-17fdabdb213a"
      },
      "source": [
        "CashAndCashEquivalentsAtCarryingValue\n",
        "====================================="
      ]
    },
    {
      "cell_type": "code",
      "execution_count": null,
      "metadata": {
        "_cell_guid": "802ee791-fb4c-9907-b587-c9f3e121f39d"
      },
      "outputs": [],
      "source": [
        "CashAndCashEquivalentsAtCarryingValue=df_rtba.loc[df_rtba['indicator_id']=='StockholdersEquity']\n",
        "CashAndCashEquivalentsAtCarryingValue=pd.melt(CashAndCashEquivalentsAtCarryingValue, id_vars=['company_id', 'indicator_id'], var_name='year', value_name='value')\n",
        "CashAndCashEquivalentsAtCarryingValue.drop('indicator_id', axis=1, inplace=True)\n",
        "CashAndCashEquivalentsAtCarryingValue.dropna(inplace=True)\n",
        "CashAndCashEquivalentsAtCarryingValue.head()"
      ]
    },
    {
      "cell_type": "markdown",
      "metadata": {
        "_cell_guid": "ac692eda-d498-5e39-3992-f1aa6ec370ab"
      },
      "source": [
        "Countplot with the number of observations in each year\n",
        "-------------------------------------------------------------------"
      ]
    },
    {
      "cell_type": "code",
      "execution_count": null,
      "metadata": {
        "_cell_guid": "f94c1855-e86b-87f0-efe1-90d02d350e4f"
      },
      "outputs": [],
      "source": [
        "sns.set(style=\"ticks\", palette=\"muted\", color_codes=True)\n",
        "plt.figure(figsize=(12,8))\n",
        "ax=sns.countplot(x='year',data=CashAndCashEquivalentsAtCarryingValue)\n",
        "ax.set_title('CashAndCashEquivalentsAtCarryingValue')"
      ]
    },
    {
      "cell_type": "markdown",
      "metadata": {
        "_cell_guid": "e8e348a2-2789-2944-139b-8181374f6a58"
      },
      "source": [
        "Boxplots with observations\n",
        "-------------------------------------------\n",
        "\n",
        "The TThird quartile and mean are close in each year and less observations in the First quartile"
      ]
    },
    {
      "cell_type": "code",
      "execution_count": null,
      "metadata": {
        "_cell_guid": "2350edc9-b215-47f4-7017-e25f3a863bb8"
      },
      "outputs": [],
      "source": [
        "sns.set(style=\"ticks\", palette=\"muted\", color_codes=True)\n",
        "plt.figure(figsize=(12,8))\n",
        "\n",
        "\n",
        "ax = sns.boxplot(x='year',y='value',data=CashAndCashEquivalentsAtCarryingValue,\n",
        "                 whis=np.inf)\n",
        "sns.stripplot(x=\"year\", y=\"value\", data=CashAndCashEquivalentsAtCarryingValue,\n",
        "              jitter=True, size=3, color=\".3\", linewidth=0)\n",
        "ax.set_yscale(\"log\")\n",
        "sns.despine(trim=True)\n",
        "ax.set_title('CashAndCashEquivalentsAtCarryingValue')"
      ]
    },
    {
      "cell_type": "markdown",
      "metadata": {
        "_cell_guid": "fb0f58d2-f1c5-4f9b-9c6d-927264b6cd82"
      },
      "source": [
        "Barplots with means\n",
        "-------------------\n",
        "\n",
        "It increases every year"
      ]
    },
    {
      "cell_type": "code",
      "execution_count": null,
      "metadata": {
        "_cell_guid": "ac4e2335-6c77-bd1b-01b8-cf26237072ec"
      },
      "outputs": [],
      "source": [
        "sns.set(style=\"ticks\", palette=\"muted\", color_codes=True)\n",
        "plt.figure(figsize=(12,8))\n",
        "ax=sns.barplot(x='year',y='value',data=CashAndCashEquivalentsAtCarryingValue)\n",
        "ax.set_yscale(\"log\")\n",
        "sns.despine(trim=True)\n"
      ]
    },
    {
      "cell_type": "markdown",
      "metadata": {
        "_cell_guid": "84251f39-ddcd-5d91-e5e7-33d01a7577ed"
      },
      "source": [
        "Histogram\n",
        "---------"
      ]
    },
    {
      "cell_type": "code",
      "execution_count": null,
      "metadata": {
        "_cell_guid": "9669d185-4565-bafc-d97d-1d3d10b3ca1b"
      },
      "outputs": [],
      "source": [
        "fig, ax = plt.subplots()\n",
        "sns.set(style=\"ticks\", palette=\"muted\", color_codes=True)\n",
        "plt.figure(figsize=(12,8))\n",
        "for y in years:\n",
        "    ax=sns.distplot(CashAndCashEquivalentsAtCarryingValue.loc[CashAndCashEquivalentsAtCarryingValue['year']==y,'value'],bins=1000,ax=ax, kde=False)\n",
        "ax.set_xscale(\"log\")\n",
        "sns.despine(trim=True)\n",
        "ax.set_title('CashAndCashEquivalentsAtCarryingValue')"
      ]
    }
  ],
  "metadata": {
    "_change_revision": 0,
    "_is_fork": false,
    "kernelspec": {
      "display_name": "Python 3",
      "language": "python",
      "name": "python3"
    },
    "language_info": {
      "codemirror_mode": {
        "name": "ipython",
        "version": 3
      },
      "file_extension": ".py",
      "mimetype": "text/x-python",
      "name": "python",
      "nbconvert_exporter": "python",
      "pygments_lexer": "ipython3",
      "version": "3.5.2"
    }
  },
  "nbformat": 4,
  "nbformat_minor": 0
}