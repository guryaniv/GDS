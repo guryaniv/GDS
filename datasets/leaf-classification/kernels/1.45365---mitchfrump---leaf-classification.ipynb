{
  "cells": [
    {
      "cell_type": "code",
      "execution_count": null,
      "metadata": {
        "_cell_guid": "530f634b-5bea-5f39-fe49-1a5b4c0ab259"
      },
      "outputs": [],
      "source": [
        "# This Python 3 environment comes with many helpful analytics libraries installed\n",
        "# It is defined by the kaggle/python docker image: https://github.com/kaggle/docker-python\n",
        "# For example, here's several helpful packages to load in \n",
        "\n",
        "import numpy as np # linear algebra\n",
        "import pandas as pd # data processing, CSV file I/O (e.g. pd.read_csv)\n",
        "\n",
        "# Input data files are available in the \"../input/\" directory.\n",
        "# For example, running this (by clicking run or pressing Shift+Enter) will list the files in the input directory\n",
        "\n",
        "from subprocess import check_output\n",
        "print(check_output([\"ls\", \"../input\"]).decode(\"utf8\"))\n",
        "\n",
        "# Any results you write to the current directory are saved as output."
      ]
    },
    {
      "cell_type": "code",
      "execution_count": null,
      "metadata": {
        "_cell_guid": "9231415e-4fa8-4ab3-aaa4-ec2009061654"
      },
      "outputs": [],
      "source": [
        "train = pd.read_csv('../input/train.csv')\n",
        "test = pd.read_csv('../input/test.csv')\n",
        "sample = pd.read_csv('../input/sample_submission.csv')"
      ]
    },
    {
      "cell_type": "code",
      "execution_count": null,
      "metadata": {
        "_cell_guid": "c0ffa97c-3521-838a-4a6c-7d74a034e2c8"
      },
      "outputs": [],
      "source": [
        "y_train = train['species']#[x[:x.find('_')] for x in train['species']]\n",
        "X_train = train.drop(['species','id'],axis=1)\n",
        "Z_test = test.drop('id',axis=1)"
      ]
    },
    {
      "cell_type": "code",
      "execution_count": null,
      "metadata": {
        "_cell_guid": "2badceb3-5b3c-1b5f-8ae7-04914be7aa25"
      },
      "outputs": [],
      "source": [
        "from sklearn.preprocessing import StandardScaler\n",
        "\n",
        "scaler = StandardScaler()\n",
        "\n",
        "scaler.fit(X_train.values)\n",
        "X_train = scaler.transform(X_train.values)\n",
        "Z_test = scaler.transform(Z_test.values)"
      ]
    },
    {
      "cell_type": "code",
      "execution_count": null,
      "metadata": {
        "_cell_guid": "f55b2880-46cc-335f-7041-5b192f39e61b"
      },
      "outputs": [],
      "source": [
        "from sklearn.preprocessing import LabelEncoder\n",
        "enc = LabelEncoder()\n",
        "enc.fit(y_train)\n",
        "y_train = enc.transform(y_train)"
      ]
    },
    {
      "cell_type": "code",
      "execution_count": null,
      "metadata": {
        "_cell_guid": "1acbd670-0aa5-9db3-a628-391c0af584df"
      },
      "outputs": [],
      "source": [
        "from sklearn.model_selection import train_test_split\n",
        "X_train, X_test, y_train, y_test = train_test_split(X_train,y_train,stratify=y_train)"
      ]
    },
    {
      "cell_type": "code",
      "execution_count": null,
      "metadata": {
        "_cell_guid": "a11ba19f-211a-52ef-7c71-16235b1e77b6"
      },
      "outputs": [],
      "source": [
        "from sklearn.model_selection import GridSearchCV\n",
        "import xgboost"
      ]
    },
    {
      "cell_type": "code",
      "execution_count": null,
      "metadata": {
        "_cell_guid": "566929b5-98f4-90ac-90c5-663f37f00db4"
      },
      "outputs": [],
      "source": [
        "#clf = xgboost.XGBClassifier()\n",
        "#params = {'max_depth':[2,3,4,5],'learning_rate':[.01,.1,.5],'n_estimators':[10,100,400]}\n",
        "\n",
        "#grid = xgboost.XGBClassifier()#GridSearchCV(clf,params)\n",
        "\n",
        "#from sklearn.linear_model import LinearRegression\n",
        "#grid = LinearRegression()\n",
        "#grid.fit(X_train,y_train)\n",
        "#print(grid.score(X_test,y_test))\n",
        "\n",
        "from sklearn.neighbors import KNeighborsClassifier\n",
        "grid = KNeighborsClassifier()\n",
        "grid.fit(X_train,y_train)\n",
        "print(grid.score(X_test,y_test))\n",
        "\n",
        "#from sklearn.tree import DecisionTreeClassifier\n",
        "#grid = DecisionTreeClassifier(max_depth=None)\n",
        "#grid.fit(X_train,y_train)\n",
        "#print(grid.score(X_test.values,y_test))\n",
        "\n",
        "#from sklearn.naive_bayes import GaussianNB\n",
        "#grid = GaussianNB()\n",
        "#grid.fit(X_train,y_train)\n",
        "#print(grid.score(X_test,y_test))"
      ]
    },
    {
      "cell_type": "code",
      "execution_count": null,
      "metadata": {
        "_cell_guid": "cfbda978-1c46-1a06-bbb8-1df94845b58a"
      },
      "outputs": [],
      "source": [
        "#print(grid.best_estimator_)\n",
        "guesses = grid.predict(Z_test)"
      ]
    },
    {
      "cell_type": "code",
      "execution_count": null,
      "metadata": {
        "_cell_guid": "0632c84f-599d-5019-6053-2f418e9032f7"
      },
      "outputs": [],
      "source": [
        "submission = pd.DataFrame({\n",
        "        \"id\": test['id']\n",
        "    })\n",
        "print(submission.head())\n",
        "pred = enc.inverse_transform(guesses)\n",
        "#print(pred)\n",
        "\n",
        "for species in sample.columns:\n",
        "    mask = []\n",
        "    for x in pred:\n",
        "        if x==species:\n",
        "            mask.append(1)\n",
        "        else:\n",
        "            mask.append(0)\n",
        "    submission[species]=mask\n",
        "\n",
        "submission[\"id\"]=test['id']\n",
        "#for i in range(len(enc.classes_)):\n",
        "#    genus = enc.classes_[i]\n",
        "#    print(genus)\n",
        "#    species_names = []\n",
        "#    for species in sample.columns:\n",
        "#        if species[:len(genus)]==genus:\n",
        "#            species_names.append(species)\n",
        "#    mask = []\n",
        "#    for x in pred:\n",
        "#        if x==genus:\n",
        "#            mask.append(1)\n",
        "#        else:\n",
        "#            mask.append(0)\n",
        "#    mask = np.array(mask)\n",
        "#    for species in species_names:\n",
        "#       \n",
        "#        #print(pred[genus])\n",
        "#        #print(pred[genus]/len(species_names))\n",
        "#        submission[species]= mask/len(species_names)"
      ]
    },
    {
      "cell_type": "code",
      "execution_count": null,
      "metadata": {
        "_cell_guid": "7e20be9c-d570-9f46-957d-42ee6bbb46fc"
      },
      "outputs": [],
      "source": [
        "submission.to_csv('Leaf.csv', index=False)"
      ]
    },
    {
      "cell_type": "code",
      "execution_count": null,
      "metadata": {
        "_cell_guid": "432fd038-a4db-beec-5816-fbb67ced55d7"
      },
      "outputs": [],
      "source": [
        "print(submission.head())"
      ]
    },
    {
      "cell_type": "code",
      "execution_count": null,
      "metadata": {
        "_cell_guid": "f50bd2ab-e85b-f744-9272-bfd55bd0ad0b"
      },
      "outputs": [],
      "source": ""
    }
  ],
  "metadata": {
    "_change_revision": 0,
    "_is_fork": false,
    "kernelspec": {
      "display_name": "Python 3",
      "language": "python",
      "name": "python3"
    },
    "language_info": {
      "codemirror_mode": {
        "name": "ipython",
        "version": 3
      },
      "file_extension": ".py",
      "mimetype": "text/x-python",
      "name": "python",
      "nbconvert_exporter": "python",
      "pygments_lexer": "ipython3",
      "version": "3.5.2"
    }
  },
  "nbformat": 4,
  "nbformat_minor": 0
}