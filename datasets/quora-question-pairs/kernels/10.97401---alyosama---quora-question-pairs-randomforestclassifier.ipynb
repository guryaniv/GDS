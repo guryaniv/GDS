{
  "cells": [
    {
      "cell_type": "markdown",
      "metadata": {
        "_cell_guid": "4df98416-c0cd-fffb-f98f-c3fcc32e999f"
      },
      "source": [
        "**This is a sample demo for using random forest classifier from end to end in kaggle competition **"
      ]
    },
    {
      "cell_type": "markdown",
      "metadata": {
        "_cell_guid": "856f8565-c44c-a20a-fae3-23f9a752c923"
      },
      "source": [
        "**Read Input**"
      ]
    },
    {
      "cell_type": "code",
      "execution_count": null,
      "metadata": {
        "_cell_guid": "96f5cd36-da88-2c4e-c0ff-07cdaa053f7a"
      },
      "outputs": [],
      "source": [
        "import numpy as np # linear algebra\n",
        "import pandas as pd # data processing, CSV file I/O (e.g. pd.read_csv)\n",
        "import seaborn as sns\n",
        "import matplotlib.pyplot as plt\n",
        "from subprocess import check_output\n",
        "from sklearn.feature_extraction.text import TfidfVectorizer, HashingVectorizer\n",
        "\n",
        "# Input data files are available in the \"../input/\" directory.\n",
        "# For example, running this (by clicking run or pressing Shift+Enter) will list the files in the input directory\n",
        "\n",
        "print(check_output([\"ls\", \"../input\"]).decode(\"utf8\"))\n",
        "\n",
        "# Any results you write to the current directory are saved as output.\n",
        "df = pd.read_csv(\"../input/train.csv\").fillna(\"\")\n",
        "df_test = pd.read_csv(\"../input/test.csv\").fillna(\"\")\n",
        "\n",
        "df['merged'] = df['question1']+ df['question2']\n",
        "mq1 = TfidfVectorizer(max_features = 256).fit_transform(df['merged'].values)\n",
        "\n",
        "X = mq1 \n",
        "y = df['is_duplicate']\n",
        "\n",
        "from sklearn.model_selection import train_test_split\n",
        "X_train, X_test, y_train, y_test = train_test_split(X, y, test_size=.4, random_state=42)"
      ]
    },
    {
      "cell_type": "markdown",
      "metadata": {
        "_cell_guid": "a0ceb722-e7f0-1ade-e99d-42b28680c816"
      },
      "source": [
        "**RandomForestClassifier Model**"
      ]
    },
    {
      "cell_type": "code",
      "execution_count": null,
      "metadata": {
        "_cell_guid": "5af24142-fe2d-2461-067d-cea859dec7d3"
      },
      "outputs": [],
      "source": [
        "from sklearn.ensemble import RandomForestClassifier\n",
        "from sklearn.metrics import log_loss\n",
        "\n",
        "clf = RandomForestClassifier(max_depth=200, n_estimators=20)\n",
        "clf.fit(X_train, y_train)\n",
        "clf_probs = clf.predict_proba(X_test)\n",
        "score = log_loss(y_test, clf_probs)\n",
        "\n",
        "print(score)"
      ]
    },
    {
      "cell_type": "markdown",
      "metadata": {
        "_cell_guid": "a89bd7c4-aabe-0380-21a3-65faeb3869f3"
      },
      "source": [
        "**Generate Test prediction** "
      ]
    },
    {
      "cell_type": "code",
      "execution_count": null,
      "metadata": {
        "_cell_guid": "d21a9468-63d7-edbe-1213-175d3a866cd2"
      },
      "outputs": [],
      "source": [
        "df_test['merged'] = df_test['question1']+ df_test['question2']\n",
        "mq1_t = TfidfVectorizer(max_features = 256).fit_transform(df_test['merged'].values)\n",
        "\n",
        "y_t = clf.predict(mq1_t)\n",
        "\n",
        "\n",
        "res = pd.DataFrame({'test_id':df_test['test_id'],'is_duplicate':y_t})\n",
        "res[['test_id','is_duplicate']].to_csv('output.csv',header=True, index=False)"
      ]
    }
  ],
  "metadata": {
    "_change_revision": 0,
    "_is_fork": false,
    "kernelspec": {
      "display_name": "Python 3",
      "language": "python",
      "name": "python3"
    },
    "language_info": {
      "codemirror_mode": {
        "name": "ipython",
        "version": 3
      },
      "file_extension": ".py",
      "mimetype": "text/x-python",
      "name": "python",
      "nbconvert_exporter": "python",
      "pygments_lexer": "ipython3",
      "version": "3.6.0"
    }
  },
  "nbformat": 4,
  "nbformat_minor": 0
}