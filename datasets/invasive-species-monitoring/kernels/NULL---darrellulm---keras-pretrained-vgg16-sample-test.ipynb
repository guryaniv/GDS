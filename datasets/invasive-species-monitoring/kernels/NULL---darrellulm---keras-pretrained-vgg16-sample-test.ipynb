{
  "cells": [
    {
      "cell_type": "code",
      "execution_count": null,
      "metadata": {
        "_cell_guid": "aab06a15-51b8-13e2-172a-b3e62aa3738a"
      },
      "outputs": [],
      "source": [
        "import matplotlib.pyplot as plt\n",
        "%matplotlib inline\n",
        "import numpy as np\n",
        "import pandas as pd\n",
        "import cv2\n",
        "import math\n",
        "from glob import glob\n",
        "import os\n",
        "\n",
        "master = pd.read_csv(\"../input/train_labels.csv\")\n",
        "master.head()"
      ]
    },
    {
      "cell_type": "code",
      "execution_count": null,
      "metadata": {
        "_cell_guid": "e68a78fc-8470-e081-27ad-eca99e6fdd1f"
      },
      "outputs": [],
      "source": [
        "img_path = \"../input/train/\"\n",
        "\n",
        "y = []\n",
        "file_paths = []\n",
        "for i in range(len(master)):\n",
        "    file_paths.append( img_path + str(master.ix[i][0]) +'.jpg' )\n",
        "    y.append(master.ix[i][1])\n",
        "y = np.array(y)"
      ]
    },
    {
      "cell_type": "code",
      "execution_count": null,
      "metadata": {
        "_cell_guid": "34636940-b7b8-64f6-6ca7-1ad97081ea7b"
      },
      "outputs": [],
      "source": [
        "#image reseize & centering & crop \n",
        "\n",
        "def centering_image(img):\n",
        "    size = [256,256]\n",
        "    \n",
        "    img_size = img.shape[:2]\n",
        "    \n",
        "    # centering\n",
        "    row = (size[1] - img_size[0]) // 2\n",
        "    col = (size[0] - img_size[1]) // 2\n",
        "    resized = np.zeros(list(size) + [img.shape[2]], dtype=np.uint8)\n",
        "    resized[row:(row + img.shape[0]), col:(col + img.shape[1])] = img\n",
        "\n",
        "    return resized\n",
        "\n",
        "\n",
        "x = []\n",
        "for i, file_path in enumerate(file_paths):\n",
        "    #read image\n",
        "    img = cv2.imread(file_path)\n",
        "    img = cv2.cvtColor(img, cv2.COLOR_BGR2RGB)\n",
        "\n",
        "    #resize\n",
        "    if(img.shape[0] > img.shape[1]):\n",
        "        tile_size = (int(img.shape[1]*256/img.shape[0]),256)\n",
        "    else:\n",
        "        tile_size = (256, int(img.shape[0]*256/img.shape[1]))\n",
        "\n",
        "    #centering\n",
        "    img = centering_image(cv2.resize(img, dsize=tile_size))\n",
        "    \n",
        "    #out put 224*224px \n",
        "    img = img[16:240, 16:240]\n",
        "    x.append(img)\n",
        "\n",
        "x = np.array(x)"
      ]
    },
    {
      "cell_type": "code",
      "execution_count": null,
      "metadata": {
        "_cell_guid": "1f371b5e-579e-cd78-51f3-bad30c864a85"
      },
      "outputs": [],
      "source": [
        "sample_submission = pd.read_csv(\"../input/sample_submission.csv\")\n",
        "img_path = \"../input/test/\"\n",
        "\n",
        "test_names = []\n",
        "file_paths = []\n",
        "\n",
        "for i in range(len(sample_submission)):\n",
        "    test_names.append(sample_submission.ix[i][0])\n",
        "    file_paths.append( img_path + str(int(sample_submission.ix[i][0])) +'.jpg' )\n",
        "    \n",
        "test_names = np.array(test_names)"
      ]
    },
    {
      "cell_type": "code",
      "execution_count": null,
      "metadata": {
        "_cell_guid": "8f849642-855e-63b0-26e8-107724628353"
      },
      "outputs": [],
      "source": [
        "test_images = []\n",
        "for file_path in file_paths:\n",
        "    #read image\n",
        "    img = cv2.imread(file_path)\n",
        "    img = cv2.cvtColor(img, cv2.COLOR_BGR2RGB)\n",
        "\n",
        "    #resize\n",
        "    if(img.shape[0] > img.shape[1]):\n",
        "        tile_size = (int(img.shape[1]*256/img.shape[0]),256)\n",
        "    else:\n",
        "        tile_size = (256, int(img.shape[0]*256/img.shape[1]))\n",
        "\n",
        "    #centering\n",
        "    img = centering_image(cv2.resize(img, dsize=tile_size))\n",
        "    \n",
        "    #out put 224*224px \n",
        "    img = img[16:240, 16:240]\n",
        "    test_images.append(img)\n",
        "    \n",
        "    path, ext = os.path.splitext( os.path.basename(file_paths[0]) )\n",
        "\n",
        "test_images = np.array(test_images)"
      ]
    },
    {
      "cell_type": "code",
      "execution_count": null,
      "metadata": {
        "_cell_guid": "aea9535d-9baa-214c-afd1-1595ae44cb0f"
      },
      "outputs": [],
      "source": [
        "data_num = len(y)\n",
        "random_index = np.random.permutation(data_num)\n",
        "\n",
        "x_shuffle = []\n",
        "y_shuffle = []\n",
        "for i in range(data_num):\n",
        "    x_shuffle.append(x[random_index[i]])\n",
        "    y_shuffle.append(y[random_index[i]])\n",
        "    \n",
        "x = np.array(x_shuffle) \n",
        "y = np.array(y_shuffle)"
      ]
    },
    {
      "cell_type": "code",
      "execution_count": null,
      "metadata": {
        "_cell_guid": "3aa4f607-c45c-c738-3b99-ced4f3fa5a28"
      },
      "outputs": [],
      "source": [
        "val_split_num = int(round(0.2*len(y)))\n",
        "x_train = x[val_split_num:]\n",
        "y_train = y[val_split_num:]\n",
        "x_test = x[:val_split_num]\n",
        "y_test = y[:val_split_num]\n",
        "\n",
        "print('x_train', x_train.shape)\n",
        "print('y_train', y_train.shape)\n",
        "print('x_test', x_test.shape)\n",
        "print('y_test', y_test.shape)"
      ]
    },
    {
      "cell_type": "code",
      "execution_count": null,
      "metadata": {
        "_cell_guid": "8b6caf1c-bc20-63cb-52a3-33dc71c5529d"
      },
      "outputs": [],
      "source": [
        "x_train = x_train.astype('float32')\n",
        "x_test = x_test.astype('float32')\n",
        "x_train /= 255\n",
        "x_test /= 255"
      ]
    },
    {
      "cell_type": "code",
      "execution_count": null,
      "metadata": {
        "_cell_guid": "18861ee9-b81b-27ef-3846-0d04aafd3560"
      },
      "outputs": [],
      "source": [
        "from keras.models import Sequential, Model, load_model\n",
        "from keras import applications\n",
        "from keras import optimizers\n",
        "from keras.layers import Dropout, Flatten, Dense\n",
        "\n",
        "img_rows, img_cols, img_channel = 224, 224, 3\n",
        "\n",
        "base_model = applications.VGG16(weights='imagenet', include_top=False, input_shape=(img_rows, img_cols, img_channel))"
      ]
    },
    {
      "cell_type": "code",
      "execution_count": null,
      "metadata": {
        "_cell_guid": "a7b158cf-ed3e-6ebc-868f-acddcce92344"
      },
      "outputs": [],
      "source": [
        "add_model = Sequential()\n",
        "add_model.add(Flatten(input_shape=base_model.output_shape[1:]))\n",
        "add_model.add(Dense(256, activation='relu'))\n",
        "add_model.add(Dense(1, activation='sigmoid'))\n",
        "\n",
        "model = Model(inputs=base_model.input, outputs=add_model(base_model.output))\n",
        "model.compile(loss='binary_crossentropy', optimizer=optimizers.SGD(lr=1e-4, momentum=0.9),\n",
        "              metrics=['accuracy'])\n",
        "\n",
        "model.summary()"
      ]
    },
    {
      "cell_type": "code",
      "execution_count": null,
      "metadata": {
        "_cell_guid": "ecf8491d-cbba-505d-e5d8-fecaae32e35e"
      },
      "outputs": [],
      "source": [
        "from keras.preprocessing.image import ImageDataGenerator\n",
        "from keras.callbacks import ModelCheckpoint\n",
        "\n",
        "batch_size = 32\n",
        "epochs = 50\n",
        "\n",
        "train_datagen = ImageDataGenerator(\n",
        "        rotation_range=30, \n",
        "        width_shift_range=0.1,\n",
        "        height_shift_range=0.1, \n",
        "        horizontal_flip=True)\n",
        "train_datagen.fit(x_train)\n",
        "\n",
        "\n",
        "history = model.fit_generator(\n",
        "    train_datagen.flow(x_train, y_train, batch_size=batch_size),\n",
        "    steps_per_epoch=x_train.shape[0] // batch_size,\n",
        "    epochs=epochs,\n",
        "    validation_data=(x_test, y_test),\n",
        "    callbacks=[ModelCheckpoint('VGG16-transferlearning.model', monitor='val_acc', save_best_only=True)]\n",
        ")"
      ]
    },
    {
      "cell_type": "code",
      "execution_count": null,
      "metadata": {
        "_cell_guid": "8c3ac15d-fb29-2531-cbe5-f763c35623a5"
      },
      "outputs": [],
      "source": [
        "test_images = test_images.astype('float32')\n",
        "test_images /= 255"
      ]
    },
    {
      "cell_type": "code",
      "execution_count": null,
      "metadata": {
        "_cell_guid": "7740ecc9-98c6-c62b-f71e-69d8c34ed451"
      },
      "outputs": [],
      "source": [
        "predictions = model.predict(test_images)"
      ]
    },
    {
      "cell_type": "code",
      "execution_count": null,
      "metadata": {
        "_cell_guid": "a90d25c4-6587-a574-27db-5af5e9ff17d3"
      },
      "outputs": [],
      "source": [
        "sample_submission = pd.read_csv(\"../input/sample_submission.csv\")\n",
        "\n",
        "for i, name in enumerate(test_names):\n",
        "    sample_submission.loc[sample_submission['name'] == name, 'invasive'] = predictions[i]\n",
        "\n",
        "sample_submission.to_csv(\"submit.csv\", index=False)"
      ]
    }
  ],
  "metadata": {
    "_change_revision": 0,
    "_is_fork": false,
    "kernelspec": {
      "display_name": "Python 3",
      "language": "python",
      "name": "python3"
    },
    "language_info": {
      "codemirror_mode": {
        "name": "ipython",
        "version": 3
      },
      "file_extension": ".py",
      "mimetype": "text/x-python",
      "name": "python",
      "nbconvert_exporter": "python",
      "pygments_lexer": "ipython3",
      "version": "3.6.0"
    }
  },
  "nbformat": 4,
  "nbformat_minor": 0
}