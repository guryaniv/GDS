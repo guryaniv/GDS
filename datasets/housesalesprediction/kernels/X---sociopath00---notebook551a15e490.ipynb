{
  "cells": [
    {
      "cell_type": "markdown",
      "metadata": {
        "_cell_guid": "538ce3f7-71f8-d503-a312-ab59b605d1a1"
      },
      "source": [
        "**Linear Regression on Housing Data to predict Price**"
      ]
    },
    {
      "cell_type": "code",
      "execution_count": null,
      "metadata": {
        "_cell_guid": "fc8cffde-9420-5517-454e-aeb604aa6591"
      },
      "outputs": [],
      "source": [
        "# This Python 3 environment comes with many helpful analytics libraries installed\n",
        "# It is defined by the kaggle/python docker image: https://github.com/kaggle/docker-python\n",
        "# For example, here's several helpful packages to load in \n",
        "\n",
        "import numpy as np # linear algebra\n",
        "import pandas as pd # data processing, CSV file I/O (e.g. pd.read_csv)\n",
        "import matplotlib.pyplot as plt\n",
        "import seaborn as sns\n",
        "\n",
        "\n",
        "# Input data files are available in the \"../input/\" directory.\n",
        "# For example, running this (by clicking run or pressing Shift+Enter) will list the files in the input directory\n",
        "\n",
        "from subprocess import check_output\n",
        "print(check_output([\"ls\", \"../input\"]).decode(\"utf8\"))\n",
        "\n",
        "# Any results you write to the current directory are saved as output."
      ]
    },
    {
      "cell_type": "code",
      "execution_count": null,
      "metadata": {
        "_cell_guid": "992fa1d6-9873-3d33-27fd-00b9f44c7694"
      },
      "outputs": [],
      "source": [
        "data = pd.read_csv(\"../input/kc_house_data.csv\")\n",
        "data.head()"
      ]
    },
    {
      "cell_type": "markdown",
      "metadata": {
        "_cell_guid": "bcee42b1-de0e-0610-785c-8c488a40b710"
      },
      "source": [
        "Exploratory Analysis\n",
        "--------------------"
      ]
    },
    {
      "cell_type": "code",
      "execution_count": null,
      "metadata": {
        "_cell_guid": "e4c23c73-0a98-8bbc-473f-79e5d28a5f25"
      },
      "outputs": [],
      "source": [
        "%matplotlib inline\n",
        "sns.set_style(\"whitegrid\")\n",
        "g=sns.FacetGrid(data, col='price')\n",
        "g.map(sns.swarmplot,'bedrooms').add_legend()"
      ]
    },
    {
      "cell_type": "code",
      "execution_count": null,
      "metadata": {
        "_cell_guid": "3b40b62e-7353-1009-fcae-49525d919bc0"
      },
      "outputs": [],
      "source": [
        "g=sns.FacetGrid(data, col='sqft_living')\n",
        "g.map(sns.scatterplot,'price').add_legend()"
      ]
    },
    {
      "cell_type": "code",
      "execution_count": null,
      "metadata": {
        "_cell_guid": "333370fc-74e1-7f60-4314-1ba849b5a1be"
      },
      "outputs": [],
      "source": [
        "del data_num['id']\n",
        "del data_num['yr_built']\n",
        "del data_num['yr_renovated']\n",
        "del data_num['zipcode']\n",
        "del data_num['lat']\n",
        "del data_num['long']"
      ]
    },
    {
      "cell_type": "code",
      "execution_count": null,
      "metadata": {
        "_cell_guid": "15d66915-7d44-7ef4-9cba-2441a0fb682e"
      },
      "outputs": [],
      "source": [
        "%matplotlib inline\n",
        "names=list(data_num.columns.values)\n",
        "correlations= data_num.corr()\n",
        "fig=plt.figure()\n",
        "ax=fig.add_subplot(111)\n",
        "cax=ax.matshow(correlations,vmin=-1,vmax=1)\n",
        "fig.colorbar(cax)\n",
        "ticks=np.arange(0,14,1)\n",
        "ax.set_xticks(ticks)\n",
        "ax.set_yticks(ticks)\n",
        "ax.set_xticklabels(names)\n",
        "ax.set_yticklabels(names)\n",
        "plt.show()"
      ]
    },
    {
      "cell_type": "markdown",
      "metadata": {
        "_cell_guid": "db2c7bf0-fb83-8d06-fc31-a95d83bd397a"
      },
      "source": [
        "As correlation plot suggest there is strong correlation between sqft_above and sqft_living"
      ]
    },
    {
      "cell_type": "code",
      "execution_count": null,
      "metadata": {
        "_cell_guid": "6518e607-7084-58bf-a374-b929a1f38ceb"
      },
      "outputs": [],
      "source": [
        "np.corrcoef(data_num['sqft_above'],data_num['sqft_living'])"
      ]
    },
    {
      "cell_type": "code",
      "execution_count": null,
      "metadata": {
        "_cell_guid": "c5794a14-abb9-87d8-b7b2-5fee3b481733"
      },
      "outputs": [],
      "source": [
        "p_living=np.corrcoef(data_num['price'],data_num['sqft_living'])\n",
        "p_above=np.corrcoef(data_num['price'],data_num['sqft_above'])\n",
        "print(p_living,p_above)"
      ]
    },
    {
      "cell_type": "markdown",
      "metadata": {
        "_cell_guid": "042894fe-79c4-acbd-6812-81f48b254cf9"
      },
      "source": [
        "    We can remove feature 'sqft_above' as it contains redundant data."
      ]
    },
    {
      "cell_type": "code",
      "execution_count": null,
      "metadata": {
        "_cell_guid": "00e3b651-b93e-0624-3f26-9c7e02bfcd2a"
      },
      "outputs": [],
      "source": [
        "np.corrcoef(data_num['grade'],data_num['sqft_living'])"
      ]
    },
    {
      "cell_type": "code",
      "execution_count": null,
      "metadata": {
        "_cell_guid": "bf858b34-c318-24c9-3515-4d3f7765d338"
      },
      "outputs": [],
      "source": [
        "np.corrcoef(data_num['price'],data_num['grade'])"
      ]
    },
    {
      "cell_type": "markdown",
      "metadata": {
        "_cell_guid": "16d88ec6-ced8-2b20-6d8b-d27ead36528b"
      },
      "source": [
        "  We can remove feature 'grade' as it contains redundant data."
      ]
    },
    {
      "cell_type": "code",
      "execution_count": null,
      "metadata": {
        "_cell_guid": "aebf9bf3-ae34-db05-9b60-acb3356094b4"
      },
      "outputs": [],
      "source": [
        "np.corrcoef(data_num['sqft_lot'],data_num['sqft_lot15'])"
      ]
    },
    {
      "cell_type": "code",
      "execution_count": null,
      "metadata": {
        "_cell_guid": "7bca191f-310b-5a33-eed6-ee524cd35c79"
      },
      "outputs": [],
      "source": [
        "np.corrcoef(data_num['bathrooms'],data_num['bedrooms'])"
      ]
    },
    {
      "cell_type": "markdown",
      "metadata": {
        "_cell_guid": "56639b85-15f6-f8cf-b6c5-55c3a296f462"
      },
      "source": [
        "## Feature Engineering ##"
      ]
    },
    {
      "cell_type": "markdown",
      "metadata": {
        "_cell_guid": "3821984b-7c3c-4e51-6113-435cab5263f3"
      },
      "source": [
        " 1. Create a new variable rooms by adding bathrooms and bedrooms.\n",
        " 2. 'sqft_living' is derived feature by adding 'sqft_above' and 'sqft_basement' so we can remove those features.\n",
        " 3. 'sqft_lot15' and 'sqft_lot' are highly collinear so one of them can be removed which has weak correlation with our \n",
        "      target variable 'price'. (i.e. sqft_lot15')"
      ]
    },
    {
      "cell_type": "code",
      "execution_count": null,
      "metadata": {
        "_cell_guid": "485263e4-0c49-3a29-8ba9-eedff5d513f0"
      },
      "outputs": [],
      "source": [
        "data['total_rooms']=data['bathrooms']+data['bedrooms']\n",
        "data.head()"
      ]
    },
    {
      "cell_type": "code",
      "execution_count": null,
      "metadata": {
        "_cell_guid": "fa2d8747-1d36-544c-9514-351239525069"
      },
      "outputs": [],
      "source": [
        "del data['sqft_above']\n",
        "del data['sqft_basement']\n",
        "del data['sqft_lot15']"
      ]
    },
    {
      "cell_type": "code",
      "execution_count": null,
      "metadata": {
        "_cell_guid": "d7570d79-ef06-5770-4ec8-3c6708a70216"
      },
      "outputs": [],
      "source": [
        "data.head()"
      ]
    },
    {
      "cell_type": "code",
      "execution_count": null,
      "metadata": {
        "_cell_guid": "5483db36-e680-d5c1-acd3-5933c3313142"
      },
      "outputs": [],
      "source": [
        "np.corrcoef(data['price'],data['total_rooms'])\n",
        "np.corrcoef(data_num['price'],data_num['bedrooms'])\n",
        "np.corrcoef(data_num['price'],data_num['bathrooms'])"
      ]
    },
    {
      "cell_type": "code",
      "execution_count": null,
      "metadata": {
        "_cell_guid": "78403097-ac6c-5c79-843a-0d0a3b27fc8f"
      },
      "outputs": [],
      "source": [
        "del data['bathrooms']\n",
        "del data['bedrooms']"
      ]
    },
    {
      "cell_type": "code",
      "execution_count": null,
      "metadata": {
        "_cell_guid": "c2c835ea-4afc-4bc7-76f3-e6297d2d55e6"
      },
      "outputs": [],
      "source": [
        "from sklearn import linear_model"
      ]
    },
    {
      "cell_type": "markdown",
      "metadata": {
        "_cell_guid": "15d0759c-fa94-2a21-357a-74eb9112c15c"
      },
      "source": [
        "## Creating a Model ##"
      ]
    },
    {
      "cell_type": "code",
      "execution_count": null,
      "metadata": {
        "_cell_guid": "b2aaed54-e32d-18bd-8147-61bd87de697f"
      },
      "outputs": [],
      "source": [
        "from sklearn.model_selection import train_test_split\n",
        "from sklearn import linear_model"
      ]
    },
    {
      "cell_type": "code",
      "execution_count": null,
      "metadata": {
        "_cell_guid": "a17ea706-42c8-f3e6-ccd2-4d13832d51c0"
      },
      "outputs": [],
      "source": [
        "reg=linear_model.LinearRegression()"
      ]
    },
    {
      "cell_type": "code",
      "execution_count": null,
      "metadata": {
        "_cell_guid": "495e81e5-9618-df87-d370-f32fb0e0de84"
      },
      "outputs": [],
      "source": [
        "data_target = data['price']\n",
        "del data['price']"
      ]
    },
    {
      "cell_type": "code",
      "execution_count": null,
      "metadata": {
        "_cell_guid": "b1f2690f-bc3d-36cf-4f25-3bdaa39ea545"
      },
      "outputs": [],
      "source": [
        "x_train,x_test,y_train,y_test=train_test_split(data,data_target,train_size=0.7,random_state=4)"
      ]
    },
    {
      "cell_type": "code",
      "execution_count": null,
      "metadata": {
        "_cell_guid": "27baeb61-1c8b-8abe-c4ca-e96dc08b14d5"
      },
      "outputs": [],
      "source": [
        "x_train.head()\n",
        "x_test.head()\n",
        "y_train.head()"
      ]
    },
    {
      "cell_type": "code",
      "execution_count": null,
      "metadata": {
        "_cell_guid": "5d156ffd-478b-87b1-d367-f2a3dc14c179"
      },
      "outputs": [],
      "source": [
        "reg.fit(x_train,y_train)"
      ]
    },
    {
      "cell_type": "code",
      "execution_count": null,
      "metadata": {
        "_cell_guid": "17688de1-1035-ccf9-25d9-d6a1cd3467f4"
      },
      "outputs": [],
      "source": ""
    },
    {
      "cell_type": "code",
      "execution_count": null,
      "metadata": {
        "_cell_guid": "3917f2e4-4e27-90d6-6248-ed1cc47beb45"
      },
      "outputs": [],
      "source": [
        "index=np.arange(15000)\n",
        "train=data[index,]\n",
        "test=data[-index,]"
      ]
    },
    {
      "cell_type": "code",
      "execution_count": null,
      "metadata": {
        "_cell_guid": "f80b18d2-d86a-8109-d8f5-1620bd643091"
      },
      "outputs": [],
      "source": [
        "train.ta"
      ]
    }
  ],
  "metadata": {
    "_change_revision": 0,
    "_is_fork": false,
    "kernelspec": {
      "display_name": "Python 3",
      "language": "python",
      "name": "python3"
    },
    "language_info": {
      "codemirror_mode": {
        "name": "ipython",
        "version": 3
      },
      "file_extension": ".py",
      "mimetype": "text/x-python",
      "name": "python",
      "nbconvert_exporter": "python",
      "pygments_lexer": "ipython3",
      "version": "3.6.0"
    }
  },
  "nbformat": 4,
  "nbformat_minor": 0
}