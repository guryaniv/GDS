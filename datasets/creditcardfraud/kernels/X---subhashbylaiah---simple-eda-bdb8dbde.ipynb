{
  "cells": [
    {
      "cell_type": "code",
      "execution_count": null,
      "metadata": {
        "_cell_guid": "cc8fcf45-a1ed-bcfe-bb1d-3ae1416c8d9c"
      },
      "outputs": [],
      "source": [
        "import pandas as pd\n",
        "import numpy as np\n",
        "import matplotlib.pyplot as plt\n",
        "import seaborn as sns\n",
        "import datetime\n",
        "import math\n",
        "from datetime import datetime\n",
        "\n",
        "%matplotlib inline"
      ]
    },
    {
      "cell_type": "code",
      "execution_count": null,
      "metadata": {
        "_cell_guid": "1bff1756-0b70-919c-f1a9-2edae1f19bc7"
      },
      "outputs": [],
      "source": [
        "creditCardData = pd.read_csv(\"../input/creditcard.csv\")\n",
        "creditCardData.head()"
      ]
    },
    {
      "cell_type": "code",
      "execution_count": null,
      "metadata": {
        "_cell_guid": "8236cd0d-1a4f-03cf-4a16-7188a28fcd97"
      },
      "outputs": [],
      "source": [
        "print ('# of columns: %s'%(len(creditCardData.columns)))\n",
        "creditCardData.describe()"
      ]
    },
    {
      "cell_type": "markdown",
      "metadata": {
        "_cell_guid": "7b2768f7-f593-d977-a635-de1afafd7a8d"
      },
      "source": [
        "So as per the description there are 284807 rows with 28 transformed feature columns V1-V28 and 2 original features Time and Value and a Class label "
      ]
    },
    {
      "cell_type": "code",
      "execution_count": null,
      "metadata": {
        "_cell_guid": "100644d8-0f4f-b2e1-d4fc-25b498220cfb"
      },
      "outputs": [],
      "source": [
        "#Checking for missing data\n",
        "creditCardData.isnull().any().sum()"
      ]
    },
    {
      "cell_type": "code",
      "execution_count": null,
      "metadata": {
        "_cell_guid": "6c8394cc-d775-61c4-900e-fcc326ccca68"
      },
      "outputs": [],
      "source": [
        "#Plotting a heatmap to visualize the correlation between the variables\n",
        "sns.heatmap(creditCardData.corr())"
      ]
    },
    {
      "cell_type": "markdown",
      "metadata": {
        "_cell_guid": "92b63002-64b3-27fe-b1a1-c3df6158a33e"
      },
      "source": [
        "The features V1-V28 are totally uncorrelated which should be the case as they are obtained by performing PDA on the original dataset\n",
        "\n",
        "## Analysis 1: When do people shop\n",
        "We will visualize when people shop and when credit fraud happens and if there is a pattern. For this, however we need to convert time from seconds to days, hours and weeks"
      ]
    },
    {
      "cell_type": "code",
      "execution_count": null,
      "metadata": {
        "_cell_guid": "85c61709-2d54-290b-d195-f6a756d45e0e"
      },
      "outputs": [],
      "source": [
        "# As the time provided is in seconds we can use it as seconds since epoch as we won't care about years\n",
        "def convert_totime(seconds):\n",
        "    return datetime.fromtimestamp(seconds);\n",
        "\n",
        "timeAnalysis = creditCardData[['Time', 'Amount', 'Class']].copy()\n",
        "timeAnalysis['datetime'] = timeAnalysis.Time.apply(convert_totime)\n",
        "# As the max time is 172792 seconds and 172792 / (60*60) is about 48 hrs so we only have data for 2 days so only \n",
        "# plotting data against hours make sense\n",
        "timeAnalysis['hour of the day'] = timeAnalysis.datetime.dt.hour\n",
        "timeAnalysisGrouped = timeAnalysis.groupby(['Class', 'hour of the day'])['Amount'].count()"
      ]
    },
    {
      "cell_type": "code",
      "execution_count": null,
      "metadata": {
        "_cell_guid": "d631f84f-270e-4b1b-f3c6-6a6019b879b5"
      },
      "outputs": [],
      "source": [
        "plt.figure(figsize = (10, 6))\n",
        "validTransactions = timeAnalysisGrouped[0].copy()\n",
        "validTransactions.name = 'Number of transactions'\n",
        "validTransactions.plot.bar(title = '# of legitimate credit card transactions per hour', legend = True)"
      ]
    },
    {
      "cell_type": "markdown",
      "metadata": {
        "_cell_guid": "fbf9936d-e901-e3ca-609e-51fee09a0d77"
      },
      "source": [
        "Note: An interesting thing happened here. When I did this calculation on my laptop, the distribution did not look right, so I added 7 hours to each transaction and I got something like the figure above. I think its is due to the fact that the Kaggle's server must be running in UTC while my system is in MST (the difference between UTC and MST is 7 hours)"
      ]
    },
    {
      "cell_type": "code",
      "execution_count": null,
      "metadata": {
        "_cell_guid": "c50dc2d4-2b7e-a07c-ac71-751026e75acf"
      },
      "outputs": [],
      "source": [
        "## Run this section only if your distribution is somewhat off like it shows most transactions \n",
        "## happened during the night\n",
        "timeDelta = datetime.utcnow() - datetime.now() \n",
        "plt.figure(figsize = (10, 6))\n",
        "timeAnalysis['hour of the day'] = timeAnalysis.datetime + timeDelta\n",
        "timeAnalysis['hour of the day'] = timeAnalysis['hour of the day'].dt.hour\n",
        "timeAnalysisGrouped = timeAnalysis.groupby(['Class', 'hour of the day'])['Amount'].count()\n",
        "validTransactions = timeAnalysisGrouped[0].copy()\n",
        "validTransactions.name = 'Number of transactions'\n",
        "validTransactions.plot.bar(title = '# of legitimate credit card transactions per hour', legend = True)"
      ]
    },
    {
      "cell_type": "code",
      "execution_count": null,
      "metadata": {
        "_cell_guid": "284402fe-49cd-7f7b-8af2-345d017e87eb"
      },
      "outputs": [],
      "source": [
        "plt.figure(figsize = (10, 6))\n",
        "fraudTransactions = timeAnalysisGrouped[1].copy()\n",
        "fraudTransactions.name = 'Number of transactions'\n",
        "fraudTransactions.plot.bar(title = '# of fraud credit card transactions per hour', legend = True)"
      ]
    },
    {
      "cell_type": "markdown",
      "metadata": {
        "_cell_guid": "a53b4e38-43f3-c89c-2eb0-9cb2cd44c142"
      },
      "source": [
        "2 A.M. has an unsual uptick for the number of frauds committed. But it could also be that my assumption that the first transaction happened at 7 A.M. is incorrect. One thing is clear though that the fraud transactions are better spread out than the legitimate transactions. This can be due to the fact that there are very few fradulent transactions and hence they won't have a clear trend like in the case of legitimate transactions\n",
        "\n",
        "\n",
        "## Analysis 2 - Are fraudulent transactions of higher value than normal transactions\n",
        "It would be interesting to see if fraudulent transactions are in general of higher value than normal transactions or not. To check this lets setup a hypothesis test. Lets define our Null and Alternative hypothesis\n",
        "\n",
        "- H<sub>0</sub> : Fraudulent transactions are of similar or lower value as normal transactions\n",
        "- H<sub>A</sub> : Fraudulent transactions are of higher value as normal transactions\n",
        "\n",
        "I took H<sub>0</sub> to be similar or lower because H<sub>0</sub> and H<sub>A</sub> should together cover all the possibilities\n",
        "\n",
        "Before we begin lets first look at the distribution of amounts of transaction done"
      ]
    },
    {
      "cell_type": "code",
      "execution_count": null,
      "metadata": {
        "_cell_guid": "655e156c-8416-321b-87d1-3ef52667c9a8"
      },
      "outputs": [],
      "source": [
        "# Valid Transactions\n",
        "timeAnalysis[timeAnalysis.Class == 0].Amount.plot.hist(title = 'Histogram of valid transactions')"
      ]
    },
    {
      "cell_type": "code",
      "execution_count": null,
      "metadata": {
        "_cell_guid": "3ff22327-5692-01fc-bfe4-bf87ae8fe263"
      },
      "outputs": [],
      "source": [
        "# As the value of most transaction seems to be only about 2K - 2.5K. Lets limit the data further\n",
        "timeAnalysis[(timeAnalysis.Class == 0) & (timeAnalysis.Amount <= 4000)].Amount.plot.hist(title = 'Histogram of valid transactions clipped at 4K')"
      ]
    },
    {
      "cell_type": "code",
      "execution_count": null,
      "metadata": {
        "_cell_guid": "f971fa79-4397-b59d-f77e-0fc44b4a0424"
      },
      "outputs": [],
      "source": [
        "# Now lets look at the Fraudulent transactions\n",
        "timeAnalysis[timeAnalysis.Class == 1].Amount.plot.hist(title = 'Histogram of fraudulent transactions')"
      ]
    },
    {
      "cell_type": "markdown",
      "metadata": {
        "_cell_guid": "c976e379-d588-468a-a596-b33303696929"
      },
      "source": [
        "Hmmmm, there doesn't appears to be any difference visually. But lets wait till we perform the hypothesis test to draw the final conclusion.\n",
        "\n",
        "For the hypothesis test I will be performing a Z-test, with the valid transactions acting as the population. Though a T-test can also be performed but given that our sample set (fraudulent transactions) is of size 492 there shouldn't be any difference, as for sample set >= 30 the t distribution and z distribution are nearly the same.\n",
        "\n",
        "Lets start. We will be performing the test for 99% significance level, this means that we should get a z-score of atleast 2.326 or higher. If someone does not know the formula for z-score, here it is\n",
        "\n",
        "$$ z-score = (\\bar{x} - \\mu) / S.E$$\n",
        "\n",
        "Where\n",
        "- $\\bar{x}$ : mean of the sample\n",
        "- $\\mu$ : population mean\n",
        "- S.E : Standard Error\n",
        "\n",
        "The standard error in our case is given by the formula : $\\sigma/\\sqrt{n}$, where $\\sigma$ is the Standard deviation of the population and n is the sample size"
      ]
    },
    {
      "cell_type": "code",
      "execution_count": null,
      "metadata": {
        "_cell_guid": "6c10258b-e5fb-6d50-d4f5-3ee4a043bedc"
      },
      "outputs": [],
      "source": [
        "population = timeAnalysis[timeAnalysis.Class == 0].Amount\n",
        "sample = timeAnalysis[timeAnalysis.Class == 1].Amount\n",
        "sampleMean = sample.mean()\n",
        "populationStd = population.std()\n",
        "populationMean = population.mean()"
      ]
    },
    {
      "cell_type": "code",
      "execution_count": null,
      "metadata": {
        "_cell_guid": "879a0365-1efb-28b8-92bb-7537bffe6676"
      },
      "outputs": [],
      "source": [
        "z_score = (sampleMean - populationMean) / (populationStd / sample.size ** 0.5)\n",
        "z_score"
      ]
    },
    {
      "cell_type": "markdown",
      "metadata": {
        "_cell_guid": "95af0b06-2c46-36d9-c4a6-aa66b457f014"
      },
      "source": [
        "As the z-score is more than 2.326 we reject the Null hypothesis. So there is a 99% chance that the amount spend on fraudulent transactions are on average significantly higher than normal transactions. But as we observed in the histograms in absolute terms normal transactions are of higher value.\n",
        "\n",
        "## Conclusion\n",
        "The amount spend on fraudulent transactions is on average significantly higher than normal transactions but in absolute terms higher amounts are spent on valid transaction. This means we can't really create an additional boolean feature such as 'If amount spent is higher than a given value', on the other hand there is significant difference in average amount spent, maybe it can be used to identify frauds.\n",
        "\n",
        "Also, as it would seem as per my calculation the fraudulent transactions are more spread out during the day as compared to normal transactions. Maybe scrutinizing late night transactions can lead to a better detection rate."
      ]
    }
  ],
  "metadata": {
    "_change_revision": 0,
    "_is_fork": false,
    "kernelspec": {
      "display_name": "Python 3",
      "language": "python",
      "name": "python3"
    },
    "language_info": {
      "codemirror_mode": {
        "name": "ipython",
        "version": 3
      },
      "file_extension": ".py",
      "mimetype": "text/x-python",
      "name": "python",
      "nbconvert_exporter": "python",
      "pygments_lexer": "ipython3",
      "version": "3.5.2"
    }
  },
  "nbformat": 4,
  "nbformat_minor": 0
}