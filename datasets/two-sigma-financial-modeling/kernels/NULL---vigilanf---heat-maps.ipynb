{
  "cells": [
    {
      "cell_type": "markdown",
      "metadata": {
        "_cell_guid": "8c1dacb0-4ca1-01ca-d62f-df5103a9b2d5"
      },
      "source": ""
    },
    {
      "cell_type": "code",
      "execution_count": null,
      "metadata": {
        "_cell_guid": "5d277be7-3ee2-cea8-c78f-739c56939928"
      },
      "outputs": [],
      "source": [
        "# Pull dependencies\n",
        "from subprocess import check_output\n",
        "print(check_output([\"ls\", \"../input\"]).decode(\"utf8\"))\n",
        "import matplotlib.pyplot as pyplot\n",
        "from collections import defaultdict\n",
        "import kagglegym\n",
        "import numpy as np \n",
        "import pandas as pd \n",
        "\n",
        "# Create environment\n",
        "env = kagglegym.make()\n",
        "# Get first observation\n",
        "observation = env.reset()\n",
        "# Get the train dataframe\n",
        "train = observation.train\n",
        "train.shape"
      ]
    },
    {
      "cell_type": "code",
      "execution_count": null,
      "metadata": {
        "_cell_guid": "83ea94ba-969d-8c41-351d-0108ec9fb52e"
      },
      "outputs": [],
      "source": [
        "train_test = train[train['timestamp']==0] # Make a df with just the first timestamp\n",
        "print (len(train_test['timestamp'])) # See how many values are in the first timestamp"
      ]
    },
    {
      "cell_type": "code",
      "execution_count": null,
      "metadata": {
        "_cell_guid": "97fa2be0-a72f-f28a-a7d1-2cb8220edfbc"
      },
      "outputs": [],
      "source": [
        "train[0:750].fillna(0, inplace=True) # fill NaN in the first time stamp\n",
        "train.groupby('id').ffill() # forward fill from there\n",
        "train.head(1) "
      ]
    },
    {
      "cell_type": "code",
      "execution_count": null,
      "metadata": {
        "_cell_guid": "e9e086c4-ea51-f969-b4ea-a481e79baa11"
      },
      "outputs": [],
      "source": [
        "# Filling na values \n",
        "mean_values = train.mean(axis=0)\n",
        "train.fillna(mean_values, inplace=True)\n",
        "train.head()"
      ]
    },
    {
      "cell_type": "code",
      "execution_count": null,
      "metadata": {
        "_cell_guid": "23aa1811-f8b3-2c7f-5a4b-e9f4262b424e"
      },
      "outputs": [],
      "source": [
        "# Store all Pearson R values between features in dict\n",
        "### Warning - this cell takes a while to run\n",
        "feature_corr = defaultdict(dict)\n",
        "\n",
        "x_cols = [col for col in train.columns if col not in ['id','timestamp','y']]\n",
        "y_cols = [col for col in train.columns if col not in ['id','timestamp','y']]\n",
        "\n",
        "for col in x_cols: #\n",
        "    for colum in y_cols:\n",
        "        correlation = np.corrcoef(train[col].values, train[colum].values)[0,1]\n",
        "        feature_corr[col][colum] = correlation\n",
        "\n",
        "feature_corr = pd.DataFrame(feature_corr)\n",
        "feature_corr.index.name = \"Feature Y\"\n",
        "feature_corr.columns.name = \"Feature X\""
      ]
    },
    {
      "cell_type": "code",
      "execution_count": null,
      "metadata": {
        "_cell_guid": "03f21aef-fba4-690f-4b8c-33ab91578a97"
      },
      "outputs": [],
      "source": [
        "# Plot the heat map\n",
        "import matplotlib.pyplot as pyplot\n",
        "\n",
        "def heat_map(df):\n",
        "    fig = pyplot.figure()\n",
        "    ax = fig.add_subplot(111)\n",
        "    plt.figure(figsize=(3,4)) # Probably need to fix this\n",
        "    axim = ax.imshow(df.values,cmap = pyplot.get_cmap('RdYlGn'), interpolation = 'nearest')\n",
        "    ax.set_xlabel(df.columns.name)\n",
        "    ax.set_ylabel(df.index.name)\n",
        "    ax.set_title(\"Pearson R between Features\")\n",
        "    pyplot.colorbar(axim)\n",
        "    \n",
        "heat_map(feature_corr)"
      ]
    },
    {
      "cell_type": "code",
      "execution_count": null,
      "metadata": {
        "_cell_guid": "02b3f91c-c168-3d75-7371-b2137ecf4d1c"
      },
      "outputs": [],
      "source": [
        "# Working on Pearson R between asset returns below\n",
        "Asset_Returns = defaultdict(dict) # Dict to hold everything\n",
        "\n",
        "# Need a list of each asset\n",
        "Asset_List = []\n",
        "Asset_List_2 = []\n",
        "for x in train.id:\n",
        "    if x not in Asset_List:\n",
        "        Asset_List.append(x)\n",
        "    if x not in Asset_List_2:\n",
        "        Asset_List_2.append(x)\n",
        "print (len(Asset_List))\n",
        "print (len(Asset_List_2))"
      ]
    },
    {
      "cell_type": "code",
      "execution_count": null,
      "metadata": {
        "_cell_guid": "c9fa33c8-59ac-abc3-71a8-90f900ad0c9e"
      },
      "outputs": [],
      "source": [
        "print (\"Starting Length of Asset List 2:\", len(Asset_List_2))\n",
        "\n",
        "New_Asset_List_2 = []\n",
        "\n",
        "for asset in Asset_List_2:\n",
        "    New_Frame = train[train['id']==asset]\n",
        "    if len(New_Frame['y']) == 906:\n",
        "        New_Asset_List_2.append(asset)\n",
        "\n",
        "print (\"New Length of Asset List 2:\", len(New_Asset_List_2))\n",
        "\n",
        "for asset in New_Asset_List_2:\n",
        "    New_Frame = train[train['id']==asset]\n",
        "    #print (len(New_Frame['y']))  \n",
        "    \n",
        "    # Ok, both asset lists have 652 assets, each with 906 values. We can build the heat map"
      ]
    },
    {
      "cell_type": "code",
      "execution_count": null,
      "metadata": {
        "_cell_guid": "6326bc0f-3625-2fd7-ce57-fbb2715d8cb9"
      },
      "outputs": [],
      "source": [
        "print (\"Starting Length of Asset List:\", len(Asset_List))\n",
        "\n",
        "New_Asset_List = []\n",
        "\n",
        "for asset in Asset_List:\n",
        "    New_Frame = train[train['id']==asset]\n",
        "    if len(New_Frame['y']) == 906:\n",
        "        New_Asset_List.append(asset)\n",
        "\n",
        "print (\"New Length of Asset List:\", len(New_Asset_List))\n",
        "\n",
        "for asset in New_Asset_List:\n",
        "    New_Frame = train[train['id']==asset]\n",
        "    #print (len(New_Frame['y']))  \n",
        "    \n",
        "# This seems to have worked, need to replicate for Asset_List_2 (done above)    "
      ]
    },
    {
      "cell_type": "code",
      "execution_count": null,
      "metadata": {
        "_cell_guid": "99e7d65e-eb28-d4e2-a51a-487e549f56e2"
      },
      "outputs": [],
      "source": [
        "# Store all Pearson R values between asset returns in dict\n",
        "# First run of this cell taking a long time, will likely time out: Edit it did time out\n",
        "# Split the Asset Lists in smaller batches?...but then we don't get the whole picture\n",
        "# Solution????????????\n",
        "\n",
        "\n",
        "### Warning - this cell takes a while to run\n",
        "\n",
        "Return_Pearson = defaultdict(dict)\n",
        "\n",
        "for asset_1 in New_Asset_List:\n",
        "    for asset_2 in New_Asset_List_2:\n",
        "        train_1 = train[train['id']==asset_1]\n",
        "        train_2 = train[train['id']==asset_2]\n",
        "        correlation = np.corrcoef(train_1['y'].values, train_2['y'].values)[0,1]\n",
        "        Return_Pearson[asset_1][asset_2] = correlation\n",
        "\n",
        "Return_Pearson = pd.DataFrame(Return_Pearson)\n",
        "Return_Pearson.index.name = \"Asset ID\"\n",
        "Return_Pearson.columns.name = \"Asset ID\""
      ]
    },
    {
      "cell_type": "code",
      "execution_count": null,
      "metadata": {
        "_cell_guid": "e7be932a-2a9f-19f6-b660-60428ad405fa"
      },
      "outputs": [],
      "source": [
        "# Plot the heat map\n",
        "import matplotlib.pyplot as pyplot\n",
        "\n",
        "def heat_map(df):\n",
        "    fig = pyplot.figure()\n",
        "    ax = fig.add_subplot(111)\n",
        "    axim = ax.imshow(df.values,cmap = pyplot.get_cmap('RdYlGn'), interpolation = 'nearest')\n",
        "    ax.set_xlabel(df.columns.name)\n",
        "    ax.set_ylabel(df.index.name)\n",
        "    ax.set_title(\"Pearson R between Asset Returns\")\n",
        "    pyplot.colorbar(axim)\n",
        "    \n",
        "heat_map(Return_Pearson)\n",
        "\n",
        "#### To Do - Add ticks"
      ]
    }
  ],
  "metadata": {
    "_change_revision": 0,
    "_is_fork": false,
    "kernelspec": {
      "display_name": "Python 3",
      "language": "python",
      "name": "python3"
    },
    "language_info": {
      "codemirror_mode": {
        "name": "ipython",
        "version": 3
      },
      "file_extension": ".py",
      "mimetype": "text/x-python",
      "name": "python",
      "nbconvert_exporter": "python",
      "pygments_lexer": "ipython3",
      "version": "3.5.2"
    }
  },
  "nbformat": 4,
  "nbformat_minor": 0
}