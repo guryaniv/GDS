{
  "cells": [
    {
      "cell_type": "markdown",
      "metadata": {
        "_cell_guid": "6afaae71-cc70-49bd-5224-f41bed6fef93"
      },
      "source": [
        "## Analysis on loan returns"
      ]
    },
    {
      "cell_type": "code",
      "execution_count": null,
      "metadata": {
        "_cell_guid": "b4338196-6e85-41e1-3a43-c4ef1fad2e26"
      },
      "outputs": [],
      "source": [
        "import numpy as np # linear algebra\n",
        "import pandas as pd # data processing, CSV file I/O (e.g. pd.read_csv)\n",
        "import pandas as pd\n",
        "%matplotlib inline\n",
        "import numpy as np\n",
        "import matplotlib.pyplot as plt\n",
        "import matplotlib \n",
        "matplotlib.style.use('ggplot')\n",
        "import seaborn as sns\n",
        "import datetime as dt\n",
        "\n",
        "from subprocess import check_output\n",
        "print(check_output([\"ls\", \"../input\"]).decode(\"utf8\"))\n"
      ]
    },
    {
      "cell_type": "code",
      "execution_count": null,
      "metadata": {
        "_cell_guid": "0bb1d178-f213-a333-ad00-31eae5b4d371"
      },
      "outputs": [],
      "source": [
        "#Read CSV file into DataFrame\n",
        "#Convert missing values to NaN\n",
        "#Set column id as index\n",
        "nan_values = ['nan','N.A','NaN','n/a']\n",
        "data = pd.read_csv('../input/loan.csv',na_values=nan_values, encoding = \"ISO-8859-1\", index_col='id')  "
      ]
    },
    {
      "cell_type": "code",
      "execution_count": null,
      "metadata": {
        "_cell_guid": "e9368fc7-1ec9-e09d-44df-e70cb46be915"
      },
      "outputs": [],
      "source": [
        "#briefly examine our data\n",
        "data.info()"
      ]
    },
    {
      "cell_type": "code",
      "execution_count": null,
      "metadata": {
        "_cell_guid": "09ad7be8-08fe-ab1f-47c6-4ae3c4f31cde"
      },
      "outputs": [],
      "source": [
        "pd.set_option('display.max_columns',100)\n",
        "data.head(3)"
      ]
    },
    {
      "cell_type": "markdown",
      "metadata": {
        "_cell_guid": "c596e283-0489-99cd-753f-0586e27b092a"
      },
      "source": [
        "### Data Cleaning"
      ]
    },
    {
      "cell_type": "code",
      "execution_count": null,
      "metadata": {
        "_cell_guid": "676d7708-2a0a-2c96-0250-45facd50b385"
      },
      "outputs": [],
      "source": [
        "#1. make sure that all loans have been funded \n",
        "data = data[data['funded_amnt']>0]\n",
        "#2. columns such as issue_d, loan_states and last_pymnt_d are essential for calculating the loan period. remove rows with missing data\n",
        "data = data[(data['issue_d'].notnull()) & (data['loan_status'].notnull())]\n",
        "data = data[(data['last_pymnt_d'].notnull() | (data['loan_status']!='Fully Paid'))]\n",
        "#3. convert a string date to datetime formate\n",
        "def str_to_dt(a_string,conv_format='%b-%Y'):\n",
        "    try:\n",
        "        return dt.datetime.strptime(a_string,conv_format)\n",
        "    except:\n",
        "        return None    \n",
        "data['issue_d'] = data['issue_d'].apply(str_to_dt)\n",
        "data['last_pymnt_d'] = data['last_pymnt_d'].apply(str_to_dt)"
      ]
    },
    {
      "cell_type": "markdown",
      "metadata": {
        "_cell_guid": "be56974a-3e2d-3fb2-fbdb-c45d0de3f225"
      },
      "source": [
        "### Calculating Net Annualized Return (NAR)\n",
        "reference: https://www.lendingclub.com/public/lendersPerformanceHelpPop.action"
      ]
    },
    {
      "cell_type": "code",
      "execution_count": null,
      "metadata": {
        "_cell_guid": "c76775e4-731b-6ca5-aa2f-490523a96025"
      },
      "outputs": [],
      "source": [
        "compounded_nar_li = list()\n",
        "simple_nar_li = list()\n",
        "\n",
        "update_d = str_to_dt('Jan-2016') # last update time of our data \n",
        "\n",
        "# calculate net annualized return for each loan (row-wise)\n",
        "for index, row in data.iterrows():\n",
        "    net_interest = row['total_rec_int'] + row['total_rec_late_fee'] - 0.01*row['total_pymnt_inv']\n",
        "    net_charge_offs = 0\n",
        "\n",
        "    # specify loan period based on the current loan status\n",
        "    if row['loan_status'] == 'Fully Paid':\n",
        "        loan_period = (row['last_pymnt_d'] - row['issue_d'])/ np.timedelta64(1,'D')/30\n",
        "    elif row['loan_status'] == 'Charged Off':\n",
        "        net_charge_offs = row['funded_amnt_inv'] - row['total_rec_prncp'] - row['recoveries'] + row['collection_recovery_fee']\n",
        "        active_period = 0\n",
        "        if row['last_pymnt_d']>dt.datetime(2006,12,30,0,0):\n",
        "            active_period = (row['last_pymnt_d'] - row['issue_d'])/  np.timedelta64(1,'D')/30\n",
        "        up_to_now = (update_d-row['issue_d'])/ np.timedelta64(1,'D')/30 -1\n",
        "        #Charge off typically occurs when a loan is no later than 5 months past due\n",
        "        loan_period = min(active_period+6, up_to_now)\n",
        "    else:\n",
        "        loan_period = (update_d-row['issue_d'])/ np.timedelta64(1,'D')/30 - 1\n",
        " \n",
        "    loan_period = int(loan_period)  \n",
        "    if loan_period>0:\n",
        "        t=12/loan_period\n",
        "    else:   #occasionally, the last repayment occured in the month of issuance\n",
        "        t=12\n",
        "\n",
        "    #calculate both compounded returns and simple returns\n",
        "    compounded_nar = (1 + (net_interest-net_charge_offs) / row['funded_amnt'])**t -1 \n",
        "    simple_nar = t*(net_interest-net_charge_offs)/row['funded_amnt']\n",
        "\n",
        "    compounded_nar_li.append(compounded_nar)\n",
        "    simple_nar_li.append(simple_nar)"
      ]
    },
    {
      "cell_type": "code",
      "execution_count": null,
      "metadata": {
        "_cell_guid": "87013a9b-0df8-b29d-2be7-2d3715dcdd7d"
      },
      "outputs": [],
      "source": [
        "data['simple_nar'] = simple_nar_li\n",
        "data['compounded_nar'] =  compounded_nar_li\n",
        "data = data[data['compounded_nar'].notnull()]"
      ]
    },
    {
      "cell_type": "markdown",
      "metadata": {
        "_cell_guid": "d736f1d7-5887-38a6-d05c-629bf5693d59"
      },
      "source": [
        "### Return Analysis"
      ]
    },
    {
      "cell_type": "code",
      "execution_count": null,
      "metadata": {
        "_cell_guid": "4eef34ba-822b-9f03-c9de-2645e4c59ba6"
      },
      "outputs": [],
      "source": [
        "#plot histogram of annualized return\n",
        "plt.hist(data['simple_nar'],color='salmon', bins=24, range=(-1,1), label='simple_nar')\n",
        "plt.xlabel('simple annualized return')\n",
        "plt.ylabel('frequency')"
      ]
    },
    {
      "cell_type": "code",
      "execution_count": null,
      "metadata": {
        "_cell_guid": "6b010e96-b3a0-6485-4033-ea60c5ed4fa9"
      },
      "outputs": [],
      "source": [
        "grade_group = data.groupby('grade')\n",
        "grade_group.mean()['simple_nar'].plot(kind='bar', color='salmon')\n",
        "plt.title('average return grouped by loan grade')"
      ]
    },
    {
      "cell_type": "code",
      "execution_count": null,
      "metadata": {
        "_cell_guid": "d47a50b1-a3f1-d73a-1633-0dec5f698742"
      },
      "outputs": [],
      "source": [
        "grade_group = data.groupby('sub_grade', as_index=False)\n",
        "grade_group.mean()['simple_nar'].plot()\n",
        "plt.title('average return grouped by sub-grade')"
      ]
    },
    {
      "cell_type": "code",
      "execution_count": null,
      "metadata": {
        "_cell_guid": "ef5f6cc2-053b-35d8-6fb5-7488da9f35af"
      },
      "outputs": [],
      "source": [
        "purpose_group = data.groupby('purpose')\n",
        "purpose_group.mean()['simple_nar'].plot(kind='bar',figsize=(10,6),color='salmon')\n",
        "plt.title('average return grouped by purpose')"
      ]
    },
    {
      "cell_type": "code",
      "execution_count": null,
      "metadata": {
        "_cell_guid": "15e9cf48-e520-8103-9c2b-e51c6cd4b288"
      },
      "outputs": [],
      "source": [
        "gra_pur_group = data.groupby(['purpose','grade'])\n",
        "gra_pur_group.mean()['simple_nar'].unstack().plot(kind='bar',figsize=(9,6))\n",
        "plt.title('average return grouped by grade and purpose')"
      ]
    },
    {
      "cell_type": "code",
      "execution_count": null,
      "metadata": {
        "_cell_guid": "c2671951-20dc-e869-f969-a0c27fd905e1"
      },
      "outputs": [],
      "source": [
        "term_group = data.groupby('term')\n",
        "term_group.mean()['simple_nar'].plot(kind='bar',figsize=(5,5))\n",
        "plt.title('average return grouped by loan term')"
      ]
    }
  ],
  "metadata": {
    "_change_revision": 0,
    "_is_fork": false,
    "kernelspec": {
      "display_name": "Python 3",
      "language": "python",
      "name": "python3"
    },
    "language_info": {
      "codemirror_mode": {
        "name": "ipython",
        "version": 3
      },
      "file_extension": ".py",
      "mimetype": "text/x-python",
      "name": "python",
      "nbconvert_exporter": "python",
      "pygments_lexer": "ipython3",
      "version": "3.5.2"
    }
  },
  "nbformat": 4,
  "nbformat_minor": 0
}