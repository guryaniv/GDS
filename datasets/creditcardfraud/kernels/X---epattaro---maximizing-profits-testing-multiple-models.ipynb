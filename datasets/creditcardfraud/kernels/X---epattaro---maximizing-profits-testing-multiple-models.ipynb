{
  "cells": [
    {
      "cell_type": "markdown",
      "metadata": {
        "_cell_guid": "89fc814c-6bc4-f4a8-92f8-cd6277ebd273"
      },
      "source": [
        "# Credit Card Risk Model\n",
        "\n",
        "credit card companies usually charge an interchange fees of about 1% of the transaction value.\n",
        "in the other hand, the risk of loss given default is theirs.\n",
        "\n",
        "a proper risk model should try to minimize the default chance, without impacting the revenue from regular transactions.\n",
        "\n"
      ]
    },
    {
      "cell_type": "markdown",
      "metadata": {
        "_cell_guid": "090ecb87-7d84-6e52-30bb-bf49d689d8a6"
      },
      "source": [
        "### Loading Libraries"
      ]
    },
    {
      "cell_type": "code",
      "execution_count": null,
      "metadata": {
        "_cell_guid": "2415e3e8-35e9-744a-e935-10b16c968232"
      },
      "outputs": [],
      "source": [
        "import pandas as pd\n",
        "import numpy as np\n",
        "\n",
        "%matplotlib inline\n",
        "import matplotlib.pyplot as plt\n",
        "import matplotlib as mpl\n",
        "from matplotlib import font_manager as fm\n",
        "from matplotlib import gridspec\n",
        "\n",
        "import seaborn as sns\n",
        "\n",
        "from sklearn.model_selection import train_test_split\n",
        "\n",
        "from xgboost import XGBClassifier\n",
        "from sklearn.neighbors import KNeighborsClassifier\n",
        "from sklearn.tree import DecisionTreeClassifier\n",
        "from sklearn.ensemble import RandomForestClassifier, AdaBoostClassifier, GradientBoostingClassifier\n",
        "from sklearn.naive_bayes import GaussianNB\n",
        "from sklearn.discriminant_analysis import LinearDiscriminantAnalysis\n",
        "from sklearn.discriminant_analysis import QuadraticDiscriminantAnalysis"
      ]
    },
    {
      "cell_type": "markdown",
      "metadata": {
        "_cell_guid": "311c3ecd-6d61-7577-a0b2-8787f15d19ba"
      },
      "source": [
        "### Checking Data quality\n",
        "\n",
        "in this case we dont have any issues with multi-type features or missing values.\n",
        "V1 to V28 provides PCA numerical features."
      ]
    },
    {
      "cell_type": "code",
      "execution_count": null,
      "metadata": {
        "_cell_guid": "01d7f8d1-a829-eecd-68fa-acd998f067b7"
      },
      "outputs": [],
      "source": [
        "df = pd.read_csv('../input/creditcard.csv', encoding='utf-8')\n",
        "print (df.info())"
      ]
    },
    {
      "cell_type": "markdown",
      "metadata": {
        "_cell_guid": "54ca8fd6-10cf-a6b3-88d7-ad6f48d509ca"
      },
      "source": [
        "### Short EDA\n",
        "\n",
        "a very small amount of transactions is fraudulent ~0.2% <br>\n",
        "yet, the impact of default losses is very significant, making profits ~24% smaller"
      ]
    },
    {
      "cell_type": "code",
      "execution_count": null,
      "metadata": {
        "_cell_guid": "70fa6361-8f60-9be7-6cda-3ca214061117"
      },
      "outputs": [],
      "source": [
        "count = df['Class'].value_counts()\n",
        "\n",
        "plt.bar([0,1], count, align='center', color=['green','red'], width=0.5)\n",
        "\n",
        "plt.yticks(fontsize=20, fontweight='bold')\n",
        "plt.xticks([0,1],['Regular','Fraud'],fontsize=20, fontweight='bold')\n",
        "\n",
        "plt.ylabel('Count', fontsize=20, fontweight='bold')\n",
        "plt.xlabel('Class', fontsize=20, fontweight='bold')\n",
        "\n",
        "plt.ylim((0,350000))\n",
        "plt.title('Transaction Count\\nby type\\n', fontsize=20, fontweight='bold')\n",
        "\n",
        "######################\n",
        "######################\n",
        "\n",
        "cc_rev = df.groupby('Class')['Amount'].sum()\n",
        "cc_rev.loc[0] = cc_rev.loc[0]*0.01 \n",
        "cc_rev.loc[len(cc_rev)] = cc_rev.loc[0] - cc_rev.loc[1]\n",
        "\n",
        "cc_rev.index = ['IF','DL','Profit']\n",
        "\n",
        "plt.figure()\n",
        "plt.bar([1,2,3], cc_rev, align='center', color=['blue','red','green'], width=0.5)\n",
        "\n",
        "plt.yticks(fontsize=20, fontweight='bold')\n",
        "plt.xticks(fontsize=20, fontweight='bold')\n",
        "\n",
        "plt.xticks([1,2,3], cc_rev.index)\n",
        "\n",
        "plt.ylabel('Amount ($)', fontsize=20, fontweight='bold')\n",
        "plt.xlabel('Type', fontsize=20, fontweight='bold')\n",
        "\n",
        "plt.ylim((0,350000))\n",
        "\n",
        "plt.title('Balance from Transactions\\n', fontsize=20, fontweight='bold')\n",
        "\n",
        "plt.tight_layout()"
      ]
    },
    {
      "cell_type": "markdown",
      "metadata": {
        "_cell_guid": "44717bc6-6108-340c-d6ed-e11082d57580"
      },
      "source": [
        "## Modeling\n",
        "\n",
        "the best model for any given problem is always the model that works better. <br>\n",
        "hence, lets try a series of classif. models and compare results. <br>\n",
        "<br>\n",
        "its worth noticing that the model goal is to maximize profit."
      ]
    },
    {
      "cell_type": "code",
      "execution_count": null,
      "metadata": {
        "_cell_guid": "11f174ce-d6c5-3f2c-0978-061da793557c"
      },
      "outputs": [],
      "source": [
        "X_train, X_test, y_train, y_test = train_test_split(df.drop(u'Class',1), df[u'Class'], test_size=0.20, random_state=42)\n",
        "\n",
        "classifiers = [\n",
        "    KNeighborsClassifier(3),\n",
        "    XGBClassifier(),\n",
        "    DecisionTreeClassifier(),\n",
        "    RandomForestClassifier(),\n",
        "    AdaBoostClassifier(),\n",
        "    GradientBoostingClassifier(),\n",
        "    GaussianNB(),\n",
        "    LinearDiscriminantAnalysis(),\n",
        "    QuadraticDiscriminantAnalysis()]\n",
        "\n",
        "# Logging for Visual Comparison\n",
        "log_cols=[\"Classifier\", \"Precision\",\"DL Prevented\", \"Sensitivity\",\"Revenue Losses\"]\n",
        "log = pd.DataFrame(columns=log_cols)\n",
        "\n",
        "for clf in classifiers:\n",
        "    clf.fit(X_train, y_train)\n",
        "    name = clf.__class__.__name__\n",
        "    \n",
        "    predictions = clf.predict(X_test)\n",
        "    \n",
        "    DF = pd.DataFrame([predictions,y_test], index=['prediction','true'], columns=X_test.index).T\n",
        "    DF['Amount'] = X_test['Amount']\n",
        "    DLP = DF[(DF['prediction']==1)&(DF['true']==1)]['Amount'].sum()\n",
        "    RL = DF[(DF['prediction']==1)&(DF['true']==0)]['Amount'].sum()*0.01\n",
        "    \n",
        "    ps = len (DF[(DF['prediction']==1)&(DF['true']==1)])/ float ( len (DF[DF['true']==1]))\n",
        "    ss = len (DF[(DF['prediction']==0)&(DF['true']==0)])/ float ( len (DF[DF['true']==0]))\n",
        "    \n",
        "    print(\"=\"*30)\n",
        "    print(name)\n",
        "    \n",
        "    print('****Results****')\n",
        "    print(\"Precision: {:.4%}\".format(ps))\n",
        "    print(\"DL Prevented: %d\" %(DLP))\n",
        "    \n",
        "    print(\"Sensitivity: {:.4%}\".format(ss))\n",
        "    print(\"Revenues Loss: %d\"%(RL))\n",
        "    \n",
        "    log_entry = pd.DataFrame([[name, ps, DLP ,ss, RL]], columns=log_cols)\n",
        "    log = log.append(log_entry)\n",
        "    \n",
        "print(\"=\"*30)\n",
        "log['Net'] = log['DL Prevented']-log['Revenue Losses']"
      ]
    },
    {
      "cell_type": "code",
      "execution_count": null,
      "metadata": {
        "_cell_guid": "7fb9e680-befe-7293-afc2-cb4f95070c98"
      },
      "outputs": [],
      "source": [
        "plt.figure(figsize=(15,15))\n",
        "\n",
        "gs = gridspec.GridSpec(3, 5)\n",
        "ax1 = plt.subplot(gs[0, :2])\n",
        "\n",
        "string = log['Classifier'].map(lambda x: x.replace('Classifier','').replace('DiscriminantAnalysis','DA'))\n",
        "\n",
        "plt.bar(np.arange (len (log)), log['DL Prevented'].values, align='center')\n",
        "plt.xticks(np.arange(len(log)), string, fontsize=20,fontweight='bold', rotation='vertical')\n",
        "plt.yticks(fontsize=20,fontweight='bold')\n",
        "plt.title('Default Losses Prevented\\n', fontsize=20, fontweight='bold')\n",
        "\n",
        "ax2 = plt.subplot(gs[0,3:])\n",
        "# plt.subplot(1,2,2)\n",
        "plt.bar(np.arange (len (log)), log['Revenue Losses'].values, align='center')\n",
        "plt.xticks(np.arange(len(log)), string, fontsize=20,fontweight='bold', rotation='vertical')\n",
        "plt.yticks(fontsize=20,fontweight='bold')\n",
        "plt.title('Interchange Fee Gains Lost\\n', fontsize=20, fontweight='bold')\n",
        "\n",
        "ax3 = plt.subplot(gs[2,:])\n",
        "# plt.subplot(1,2,2)\n",
        "plt.bar(np.arange (len (log)), log['Net'].values, align='center')\n",
        "plt.xticks(np.arange(len(log)), string, fontsize=20,fontweight='bold', rotation='vertical')\n",
        "plt.yticks(fontsize=20,fontweight='bold')\n",
        "plt.title('Total Profit Generated\\n', fontsize=20, fontweight='bold')\n",
        "\n",
        "# plt.tight_layout()"
      ]
    },
    {
      "cell_type": "markdown",
      "metadata": {
        "_cell_guid": "4f086420-c5c8-c0fd-7118-c090d6bda433"
      },
      "source": [
        "### Results\n",
        "\n",
        "the model that prevents the most loss from defaulting is the QuadraticDiscriminantAnalysis. <br>\n",
        "However, it does so by classifying a large range of transactions as fraudulent, as a result, the gains are diminished by the regular transaction IF losses.\n",
        "<br>\n",
        "The best model for the problem at hand is the XGBClassifier, given it wld generate the most profit. <br>\n",
        "<br>\n",
        "None of the models has been tuned. Once they are, results could vary."
      ]
    },
    {
      "cell_type": "code",
      "execution_count": null,
      "metadata": {
        "_cell_guid": "11c8b6fb-9eba-ce18-11f0-c4986004f2e2"
      },
      "outputs": [],
      "source": ""
    }
  ],
  "metadata": {
    "_change_revision": 0,
    "_is_fork": false,
    "kernelspec": {
      "display_name": "Python 3",
      "language": "python",
      "name": "python3"
    },
    "language_info": {
      "codemirror_mode": {
        "name": "ipython",
        "version": 3
      },
      "file_extension": ".py",
      "mimetype": "text/x-python",
      "name": "python",
      "nbconvert_exporter": "python",
      "pygments_lexer": "ipython3",
      "version": "3.5.2"
    }
  },
  "nbformat": 4,
  "nbformat_minor": 0
}