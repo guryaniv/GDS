{
  "cells": [
    {
      "cell_type": "markdown",
      "metadata": {
        "_cell_guid": "f1a9d117-1f61-2b60-9a19-8d16b0f3a274"
      },
      "source": [
        "## Data exploration ##\n",
        " 1. Visualisation of all data\n",
        " 2. red: adult males \n",
        " 3. magenta: sub-adult males\n",
        " 4. brown: adult females\n",
        " 5.  blue: juveniles\n",
        " 6. green: pups"
      ]
    },
    {
      "cell_type": "code",
      "execution_count": null,
      "metadata": {
        "_cell_guid": "d6dcf1b1-f596-5f02-2838-4eab564f005b"
      },
      "outputs": [],
      "source": [
        "# This Python 3 environment comes with many helpful analytics libraries installed\n",
        "# It is defined by the kaggle/python docker image: https://github.com/kaggle/docker-python\n",
        "# For example, here's several helpful packages to load in \n",
        "\n",
        "import numpy as np # linear algebra\n",
        "import pandas as pd # data processing, CSV file I/O (e.g. pd.read_csv)\n",
        "\n",
        "# Input data files are available in the \"../input/\" directory.\n",
        "# For example, running this (by clicking run or pressing Shift+Enter) will list the files in the input directory\n",
        "\n",
        "from subprocess import check_output\n",
        "print(check_output([\"ls\", \"../input\"]).decode(\"utf8\"))\n",
        "\n",
        "# Any results you write to the current directory are saved as output."
      ]
    },
    {
      "cell_type": "code",
      "execution_count": null,
      "metadata": {
        "_cell_guid": "09384a31-f335-8a43-e528-2924ae51acde"
      },
      "outputs": [],
      "source": [
        "from glob import glob\n",
        "inputDir = \"../input/\"\n",
        "traincsv = pd.read_csv(inputDir + 'Train/train.csv')\n",
        "train = glob(inputDir + 'Train/*.jpg')\n",
        "traindot = glob(inputDir + 'TrainDotted/*.jpg')\n",
        "subm = pd.read_csv(inputDir + 'sample_submission.csv')\n",
        "print(len(traincsv),len(train), len(traindot), len(subm))"
      ]
    },
    {
      "cell_type": "code",
      "execution_count": null,
      "metadata": {
        "_cell_guid": "e833fc92-1937-be90-0b6e-7334fb0656f1"
      },
      "outputs": [],
      "source": [
        "print(traincsv.head())"
      ]
    },
    {
      "cell_type": "code",
      "execution_count": null,
      "metadata": {
        "_cell_guid": "432e82df-55f3-33d6-c1be-1ee08f6f8a88"
      },
      "outputs": [],
      "source": [
        "import cv2\n",
        "import matplotlib.pylab as plt\n",
        "\n",
        "\n",
        "def read_imgs(img):\n",
        "    print('{}'.format(img))\n",
        "    im = cv2.imread(img, cv2.IMREAD_COLOR)\n",
        "    img = cv2.cvtColor(im, cv2.COLOR_BGR2RGB)\n",
        "    return img\n",
        "train = glob(inputDir + 'Train/*.jpg')\n",
        "print('Reading Train images... ')\n",
        "for trn in (train):\n",
        "    img = read_imgs(trn)\n",
        "    plt.figure()\n",
        "    plt.imshow(img)\n",
        "    plt.axis('off')"
      ]
    },
    {
      "cell_type": "code",
      "execution_count": null,
      "metadata": {
        "_cell_guid": "d2201679-78dc-b5ce-cbdf-ce68a9c6b02d"
      },
      "outputs": [],
      "source": [
        "trainDot = glob(inputDir + 'TrainDotted/*.jpg')\n",
        "print('Reading TrainDotted images... ')\n",
        "for trn in (trainDot):\n",
        "    img = read_imgs(trn)\n",
        "    plt.figure()\n",
        "    plt.imshow(img)\n",
        "    plt.axis('off')"
      ]
    },
    {
      "cell_type": "code",
      "execution_count": null,
      "metadata": {
        "_cell_guid": "94619659-f50e-4f62-3674-c74f2d672b74"
      },
      "outputs": [],
      "source": [
        "import plotly.plotly as py\n",
        "import plotly.graph_objs as go\n",
        "traincsv = pd.read_csv(inputDir + 'Train/train.csv')\n",
        "\n",
        "hist = traincsv.sum(axis=0)\n",
        "print(his)\n",
        "\n",
        "plt.hist(his)"
      ]
    },
    {
      "cell_type": "code",
      "execution_count": null,
      "metadata": {
        "_cell_guid": "7e19cfac-62b2-e65c-f102-91697aba3f5c"
      },
      "outputs": [],
      "source": [
        "subm = pd.read_csv(inputDir + 'sample_submission.csv')\n",
        "print(subm.head())"
      ]
    }
  ],
  "metadata": {
    "_change_revision": 0,
    "_is_fork": false,
    "kernelspec": {
      "display_name": "Python 3",
      "language": "python",
      "name": "python3"
    },
    "language_info": {
      "codemirror_mode": {
        "name": "ipython",
        "version": 3
      },
      "file_extension": ".py",
      "mimetype": "text/x-python",
      "name": "python",
      "nbconvert_exporter": "python",
      "pygments_lexer": "ipython3",
      "version": "3.6.0"
    }
  },
  "nbformat": 4,
  "nbformat_minor": 0
}