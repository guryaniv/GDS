{
  "cells": [
    {
      "cell_type": "code",
      "execution_count": null,
      "metadata": {
        "_cell_guid": "174dfafa-36eb-1940-a3bc-559cc8ada871"
      },
      "outputs": [],
      "source": [
        "import numpy as np\n",
        "import pandas as pd\n",
        "import matplotlib.pyplot as plt\n",
        "import seaborn as sns\n",
        "\n",
        "%matplotlib inline\n",
        "\n",
        "with pd.HDFStore(\"../input/train.h5\", \"r\") as train:\n",
        "    df = train.get('train')"
      ]
    },
    {
      "cell_type": "markdown",
      "metadata": {
        "_cell_guid": "b7399fb7-b97a-97db-cdda-c266da30e987"
      },
      "source": [
        "# \u7f3a\u5931\u503c\u7edf\u8ba1 missing value statistics"
      ]
    },
    {
      "cell_type": "code",
      "execution_count": null,
      "metadata": {
        "_cell_guid": "9a7f9609-5d5e-88b1-99cd-d27ab0a08971"
      },
      "outputs": [],
      "source": [
        "m, n = df.shape\n",
        "miss_count = []\n",
        "for col in df.columns:\n",
        "    x = df[col].isnull().sum()\n",
        "    miss_count.append(x)\n",
        "miss_count_rate = np.array(miss_count) / m"
      ]
    },
    {
      "cell_type": "code",
      "execution_count": null,
      "metadata": {
        "_cell_guid": "dead6c4b-9682-60d2-406b-ff8d63dbf57e"
      },
      "outputs": [],
      "source": [
        "fig, ax = plt.subplots(figsize=(8, 25))\n",
        "ind = np.arange(n)\n",
        "ax.barh(ind, miss_count_rate, color='y')\n",
        "plt.yticks(ind+0.4, df.columns)\n",
        "ax.set_xlabel('miss_count_rate in each col')\n",
        "ax.set_title('miss_count_rate in each col')"
      ]
    },
    {
      "cell_type": "code",
      "execution_count": null,
      "metadata": {
        "_cell_guid": "70ed06a1-ba22-3bc5-d71d-a19287abb9ce"
      },
      "outputs": [],
      "source": [
        "df = df.drop(df.columns[miss_count_rate > 0.3], axis=1)"
      ]
    },
    {
      "cell_type": "markdown",
      "metadata": {
        "_cell_guid": "4f598fc1-051b-8087-e263-2013fa154d13"
      },
      "source": [
        "# \u5f02\u5e38\u503c\u5904\u7406 Exception value processing"
      ]
    },
    {
      "cell_type": "code",
      "execution_count": null,
      "metadata": {
        "_cell_guid": "4fd393a9-cdfb-407b-32ba-565275eb7796"
      },
      "outputs": [],
      "source": [
        "# \u901a\u8fc7\u7bb1\u7ebf\u56fe\u53bb\u9664\u5f02\u5e38\u503c\u4e4b\u540e\uff0c\u67e5\u770b\u5206\u5e03 observe hist of data within boxplot range\n",
        "m, n = df.shape\n",
        "col = df.columns\n",
        "plt.figure(figsize=(8, 50))\n",
        "k = 0\n",
        "for i in range(2, n):\n",
        "    k += 1\n",
        "    col_ = df[col[i]][df[col[i]].notnull()]\n",
        "    q_high = col_.quantile(0.75)\n",
        "    q_low = col_.quantile(0.25)\n",
        "    iqr = (q_high - q_low) * 1.5\n",
        "    high = q_high + iqr\n",
        "    low = q_low -iqr\n",
        "    col_ = col_[(col_ < high) & (col_ > low)]\n",
        "    plt.subplot(25, 4, k)\n",
        "    plt.hist(col_, bins=100)\n",
        "    plt.xticks()\n",
        "    plt.title(str(i) + ' ' + col[i])\n",
        "    plt.tight_layout(pad=0)"
      ]
    },
    {
      "cell_type": "markdown",
      "metadata": {
        "_cell_guid": "86a83e29-f3d5-0893-301c-8c01b2a46c45"
      },
      "source": [
        "## \u4ee5\u4e0b\u7279\u5f81\u5f62\u6001\u8f83\u597d The following is features with fine hist\n",
        "### continuoues value[ 2, 6, 8, 13, 19, 20, 26, 27, 28, 30, 32, 34, 38, 41, 45, 49, 51, 52, 56, 59, 61, 62, 74, 76, 78, 79, 80, 81, 84, 86, 88, 89, 94, 97] \n",
        "### category0 has two class[60, 63, 66, 67, 70, 72,  82,  96] \n",
        "### category1 has three class [77, 87]"
      ]
    },
    {
      "cell_type": "code",
      "execution_count": null,
      "metadata": {
        "_cell_guid": "e962cb61-4709-0213-b759-8f832dc1c511"
      },
      "outputs": [],
      "source": [
        "df = df.ix[:, [0, 1, 2, 6, 8, 13, 19, 20, 26, 27, 28, 30, 32, 34, 38, 41, 45, 49, 51,\n",
        "       52, 56, 59, 61, 62, 74, 76, 78, 79, 80, 81, 84, 86, 88, 89, 94, 97, 60, \n",
        "               63, 66, 67, 70, 72, 82, 96, 77, 87, 98]]"
      ]
    },
    {
      "cell_type": "markdown",
      "metadata": {
        "_cell_guid": "c956365c-2cf8-2f33-2f06-0926ef2ffd32"
      },
      "source": [
        "## \u5904\u7406cate0\u7279\u5f81\u4e0b\u7684\u5f02\u5e38\u503c processing exception value in cate0"
      ]
    },
    {
      "cell_type": "code",
      "execution_count": null,
      "metadata": {
        "_cell_guid": "2138f929-bad1-b430-1f5e-5a5e21063d8e"
      },
      "outputs": [],
      "source": [
        "cate0 = range(36, 44)\n",
        "col = df.columns\n",
        "for i in cate0:\n",
        "    df.ix[:, i] = np.where(df.ix[:, i] < -1, -2, df.ix[:, i])\n",
        "    df.ix[:, i] = np.where(df.ix[:, i] >= -1, 0, df.ix[:, i])"
      ]
    },
    {
      "cell_type": "markdown",
      "metadata": {
        "_cell_guid": "0a7c20c1-b732-dc84-da5f-aa293fd3e7c5"
      },
      "source": [
        "## \u53bb\u9664y\u7684\u5f02\u5e38\u503c drop samples which have exception value in y"
      ]
    },
    {
      "cell_type": "code",
      "execution_count": null,
      "metadata": {
        "_cell_guid": "73b966d3-1f45-de06-0019-46add6afbaab"
      },
      "outputs": [],
      "source": [
        "q_high = df.y.quantile(0.75)\n",
        "q_low = df.y.quantile(0.25)\n",
        "iqr = (q_high - q_low) * 1.5\n",
        "high = q_high + iqr\n",
        "low = q_low -iqr\n",
        "df = df.drop(df[df.y > high].index)\n",
        "df = df.drop(df[df.y < low].index)"
      ]
    },
    {
      "cell_type": "code",
      "execution_count": null,
      "metadata": {
        "_cell_guid": "bc22162f-65c8-6296-fc4f-f6c950f13048"
      },
      "outputs": [],
      "source": [
        "hist_ = plt.hist(df.ix[df['timestamp'] == 0, 'y'], bins=100)"
      ]
    },
    {
      "cell_type": "code",
      "execution_count": null,
      "metadata": {
        "_cell_guid": "ab9484d6-d267-e598-6161-f457351a2259"
      },
      "outputs": [],
      "source": [
        "hist_ = plt.hist(df.ix[df['id'] == 438, 'y'], bins=100)"
      ]
    },
    {
      "cell_type": "code",
      "execution_count": null,
      "metadata": {
        "_cell_guid": "e9f204e6-7b13-9556-f991-7d3e6d28feba"
      },
      "outputs": [],
      "source": [
        "## \u540c\u4e00timestamp\u6216\u7528\u4e00id\u5bf9\u5e94\u7684y\u5206\u5e03\u90fd\u662f\u5bf9\u79f0\u7684\u3002"
      ]
    },
    {
      "cell_type": "markdown",
      "metadata": {
        "_cell_guid": "5d130ee3-f34b-dc18-7d90-55736e5ae73e"
      },
      "source": [
        "# missing value fill \u586b\u5145"
      ]
    },
    {
      "cell_type": "code",
      "execution_count": null,
      "metadata": {
        "_cell_guid": "fddf3363-f5f5-a11c-a7e1-1cae191a3bd8"
      },
      "outputs": [],
      "source": [
        "df = df.sort_values(by='y')"
      ]
    },
    {
      "cell_type": "code",
      "execution_count": null,
      "metadata": {
        "_cell_guid": "23c1b206-0658-ca73-6cd7-1f73d0994e78"
      },
      "outputs": [],
      "source": [
        "df = df.fillna(method='ffill')\n",
        "df = df.fillna(method='bfill') # \u9632\u6b62\u7b2c\u4e00\u4e2a\u503c\u4e3anan"
      ]
    },
    {
      "cell_type": "markdown",
      "metadata": {
        "_cell_guid": "50fe337c-6fad-791f-f1ab-f6b4478540cb"
      },
      "source": [
        "# \u6a21\u578b model"
      ]
    },
    {
      "cell_type": "markdown",
      "metadata": {
        "_cell_guid": "e8e368c7-15ad-23fb-2c51-5e0d2b5af3dc"
      },
      "source": [
        "## \u5212\u5206\u6d4b\u8bd5\u96c6\u548c\u8bad\u7ec3\u96c6 Divide the test set and the training set"
      ]
    },
    {
      "cell_type": "code",
      "execution_count": null,
      "metadata": {
        "_cell_guid": "d80229c1-8227-ac2d-3a87-de9162909025"
      },
      "outputs": [],
      "source": [
        "test = {'x': [], 'y': [], 'timestamp': []}\n",
        "time = range(1812, 1802, -1)\n",
        "for i in range(10):\n",
        "    df_ = df.ix[df['timestamp']==time[i], :]\n",
        "    test['x'].append(df_.drop(['y', 'id', 'timestamp'], axis=1))\n",
        "    test['y'].append(df_['y'])\n",
        "    test['timestamp'].append(time[i])\n",
        "df_ = df[df['timestamp'] < 1803]\n",
        "X = df_.drop(['y', 'id', 'timestamp'], axis=1)\n",
        "y = df_['y']"
      ]
    },
    {
      "cell_type": "code",
      "execution_count": null,
      "metadata": {
        "_cell_guid": "a7e068a6-51f3-39da-0e8e-efb1ee62a265"
      },
      "outputs": [],
      "source": [
        "from sklearn.ensemble import RandomForestRegressor\n",
        "rf0 = RandomForestRegressor(n_jobs=-1, verbose=1)\n",
        "rf0.fit(test['x'][0], test['y'][0])"
      ]
    },
    {
      "cell_type": "code",
      "execution_count": null,
      "metadata": {
        "_cell_guid": "4d04810e-08d9-7e13-2286-57cdc845b94b"
      },
      "outputs": [],
      "source": [
        "col_ = X.columns\n",
        "plt.figure(figsize=(8, 16))\n",
        "ind = np.arange(len(col_))\n",
        "plt.barh(ind, rf0.feature_importances_)\n",
        "plt.yticks(ind+0.4, col_)"
      ]
    },
    {
      "cell_type": "markdown",
      "metadata": {
        "_cell_guid": "971b4e53-01eb-1049-1f35-193a1ba15aeb"
      },
      "source": [
        "## \u7c7b\u522b\u53d8\u91cf\u7684feature_importances_\u6bd4\u8f83\u5c0f\uff0c\u662f\u5426\u8bf4\u660e\u8fd9\u51e0\u4e2a\u7279\u5f81\u6ca1\u6709\u7528\uff1f\n",
        "## Feature_importances of features in cate0 and cate1 is small. Does it mean they are less important?"
      ]
    },
    {
      "cell_type": "code",
      "execution_count": null,
      "metadata": {
        "_cell_guid": "4e1639d8-bc35-575b-58bc-f6b221150341"
      },
      "outputs": [],
      "source": [
        "rf0.score(test['x'][0], test['y'][0])"
      ]
    },
    {
      "cell_type": "code",
      "execution_count": null,
      "metadata": {
        "_cell_guid": "fa5ec606-5903-c13e-d5fc-57671643a949"
      },
      "outputs": [],
      "source": [
        "rf0.score(test['x'][1], test['y'][1])"
      ]
    },
    {
      "cell_type": "markdown",
      "metadata": {
        "_cell_guid": "87fec221-30b0-5f2b-c292-c464069d054a"
      },
      "source": [
        "## \u4e25\u91cd\u8fc7\u62df\u5408\uff1f\u8bd5\u4e00\u4e0b\u51cf\u5c11\u7279\u5f81\u548c\u589e\u5927\u8bad\u7ec3\u96c6\n",
        "## Over-fitting?Try to use less features or use more samples to fit modle."
      ]
    },
    {
      "cell_type": "code",
      "execution_count": null,
      "metadata": {
        "_cell_guid": "be261863-ee96-6931-b6bb-c8b0a4986e10"
      },
      "outputs": [],
      "source": [
        "# \u53ea\u91c7\u7528\u8fde\u7eed\u53d8\u91cf\u8fdb\u884cfit\n",
        "# Train model with continuous value.\n",
        "rf1 = RandomForestRegressor(n_jobs=-1, verbose=1)\n",
        "rf1.fit(test['x'][0].ix[:, range(34)], test['y'][0])\n",
        "rf1.score(test['x'][0].ix[:, range(34)], test['y'][0])"
      ]
    },
    {
      "cell_type": "code",
      "execution_count": null,
      "metadata": {
        "_cell_guid": "ee51085b-ba5e-170e-68d6-dce5013e2d3d"
      },
      "outputs": [],
      "source": [
        "rf1.score(test['x'][1].ix[:, range(34)], test['y'][1])"
      ]
    },
    {
      "cell_type": "code",
      "execution_count": null,
      "metadata": {
        "_cell_guid": "6184016b-de73-22f8-3aaa-cae027129e0d"
      },
      "outputs": [],
      "source": [
        "# \u91c7\u7528\u524d10\u4e2a\u7279\u5f81fit. Fit with 10 features.\n",
        "rf2 = RandomForestRegressor(n_jobs=-1, verbose=1)\n",
        "rf2.fit(test['x'][0].ix[:, range(10)], test['y'][0])\n",
        "rf2.score(test['x'][0].ix[:, range(10)], test['y'][0])"
      ]
    },
    {
      "cell_type": "code",
      "execution_count": null,
      "metadata": {
        "_cell_guid": "9fc866ac-2f4e-4171-224d-ce3f268ed951"
      },
      "outputs": [],
      "source": [
        "rf2.score(test['x'][1].ix[:, range(10)], test['y'][1])"
      ]
    },
    {
      "cell_type": "code",
      "execution_count": null,
      "metadata": {
        "_cell_guid": "c80dac60-83da-c7d7-ee8b-54af32cc002b"
      },
      "outputs": [],
      "source": [
        "# \u91c7\u7528\u7b2c\u4e00\u4e2a\u7279\u5f81fit. Fit with one feature\n",
        "rf3 = RandomForestRegressor(n_jobs=-1, verbose=1)\n",
        "rf3.fit(test['x'][0].ix[:, range(1)], test['y'][0])\n",
        "rf3.score(test['x'][0].ix[:, range(1)], test['y'][0])"
      ]
    },
    {
      "cell_type": "code",
      "execution_count": null,
      "metadata": {
        "_cell_guid": "f9cd2c8d-b68a-f497-f0ed-0303467d267a"
      },
      "outputs": [],
      "source": [
        "rf3.score(test['x'][1].ix[:, range(1)], test['y'][1])"
      ]
    },
    {
      "cell_type": "code",
      "execution_count": null,
      "metadata": {
        "_cell_guid": "6a58c075-94a0-ec4f-44e3-b70bfd77d7d9"
      },
      "outputs": [],
      "source": [
        "plt.hist(test['y'][0])"
      ]
    },
    {
      "cell_type": "code",
      "execution_count": null,
      "metadata": {
        "_cell_guid": "2ca6dcb7-3110-7e59-eb75-a4891234f898"
      },
      "outputs": [],
      "source": [
        "plt.hist(test['y'][1])"
      ]
    },
    {
      "cell_type": "markdown",
      "metadata": {
        "_cell_guid": "965a2763-0215-b600-d895-5952edc3d4cf"
      },
      "source": [
        "### \u4e24\u4e2atimestamp\u5bf9\u4e8e\u7684y\u5206\u5e03\u8fd1\u4f3c\n",
        "### y hist with defferent timestamps are similar."
      ]
    },
    {
      "cell_type": "code",
      "execution_count": null,
      "metadata": {
        "_cell_guid": "a4f17c73-d891-7bb9-060b-f394e30060ef"
      },
      "outputs": [],
      "source": [
        "df_ = df[df['timestamp'] < 100]\n",
        "X2 = df_.drop(['y', 'id', 'timestamp'], axis=1)\n",
        "y2 = df_['y']\n",
        "rf4 = RandomForestRegressor() \n",
        "rf4.fit(X2, y2)\n",
        "rf4.score(X2, y2)"
      ]
    },
    {
      "cell_type": "code",
      "execution_count": null,
      "metadata": {
        "_cell_guid": "168ab44d-68a9-fce5-6db5-07f58af2eae7"
      },
      "outputs": [],
      "source": [
        "score_ = []\n",
        "for i in range(10):\n",
        "    score_.append(rf4.score(test['x'][i], test['y'][i]))\n",
        "plt.plot(range(10), score_)"
      ]
    },
    {
      "cell_type": "markdown",
      "metadata": {
        "_cell_guid": "1b4058a2-ce1f-b1b3-2372-7231c84478db"
      },
      "source": [
        "## \u8fd8\u662f\u8fc7\u62df\u5408 Still over fitting!"
      ]
    },
    {
      "cell_type": "markdown",
      "metadata": {
        "_cell_guid": "98ec0563-08e1-8760-5777-0f58341a200c"
      },
      "source": [
        "plt.hist(test['x'][0].ix[test['x'][0].ix[:, 0]>-9, 0],bins=100)"
      ]
    },
    {
      "cell_type": "markdown",
      "metadata": {
        "_cell_guid": "c8749585-c59f-4934-803c-0c9432bcc382"
      },
      "source": [
        "df_id = df.groupby('id')['y'].mean()"
      ]
    },
    {
      "cell_type": "markdown",
      "metadata": {
        "_cell_guid": "530ca221-e351-1830-2550-386432751731"
      },
      "source": [
        "sns.boxplot(df_id)"
      ]
    },
    {
      "cell_type": "markdown",
      "metadata": {
        "_cell_guid": "defaa0a8-0b27-c846-712a-9dda55909197"
      },
      "source": [
        "df_ = df.ix[:, ['id', 'technical_35', 'derived_0']]\n",
        "y_ = df['y']\n",
        "rf_ = RandomForestRegressor()\n",
        "rf_.fit(df_, y_)\n",
        "rf_.score(df_, y_)"
      ]
    },
    {
      "cell_type": "markdown",
      "metadata": {
        "_cell_guid": "5e49c685-67e7-5ea4-5b44-2b532433aecf"
      },
      "source": [
        "ind = np.arange(3)\n",
        "plt.bar(ind, rf_.feature_importances_)\n",
        "plt.xticks(ind+0.4, ['id', 'technical_35', 'derived_0'])"
      ]
    },
    {
      "cell_type": "markdown",
      "metadata": {
        "_cell_guid": "c04b6ea3-a6d8-95ed-b374-4840180d1421"
      },
      "source": [
        "df_ = df.ix[:, ['technical_35', 'derived_0']]\n",
        "y_ = df['y']\n",
        "rf_ = RandomForestRegressor(n_jobs=-1)\n",
        "rf_.fit(df_, y_)\n",
        "rf_.score(df_, y_)"
      ]
    },
    {
      "cell_type": "markdown",
      "metadata": {
        "_cell_guid": "8e91de71-eb83-fd88-fdd3-f2757869792b"
      },
      "source": [
        "## id\u5217\u5bf9y\u7684\u5f71\u54cd\u5f88\u4e0d\u786e\u5b9a\u3002"
      ]
    },
    {
      "cell_type": "markdown",
      "metadata": {
        "_cell_guid": "dc31193e-465c-74a9-02fc-a21bc0a34ebd"
      },
      "source": [
        "## \u4ee5\u4e0a\uff0c\u4e3b\u8981\u5de5\u4f5c\u662f\u505a\u4e86\u7279\u5f81\u9009\u53d6\uff0c\u5f02\u5e38\u503c\u5904\u7406\uff0cmissing value\u586b\u5145\n",
        "## \u9009\u62e9\u968f\u673a\u68ee\u6797\u6a21\u578b\u8fdb\u884c\u62df\u5408\uff0c\u8fc7\u62df\u5408\u73b0\u8c61\u6bd4\u8f83\u4e25\u91cd\u3002\n",
        "## \u6b22\u8fce\u6307\u6559\u3002\n",
        "## In this notebook, the main work is to do the feature selection, exception handling, missing value padding.\n",
        "## Using RandomForest to fit data, i find a serious over-fitting phenomenon.\n",
        "## Please give me some suggestions for the whole process. Happy kaggle\uff01"
      ]
    }
  ],
  "metadata": {
    "_change_revision": 0,
    "_is_fork": false,
    "kernelspec": {
      "display_name": "Python 3",
      "language": "python",
      "name": "python3"
    },
    "language_info": {
      "codemirror_mode": {
        "name": "ipython",
        "version": 3
      },
      "file_extension": ".py",
      "mimetype": "text/x-python",
      "name": "python",
      "nbconvert_exporter": "python",
      "pygments_lexer": "ipython3",
      "version": "3.5.2"
    }
  },
  "nbformat": 4,
  "nbformat_minor": 0
}