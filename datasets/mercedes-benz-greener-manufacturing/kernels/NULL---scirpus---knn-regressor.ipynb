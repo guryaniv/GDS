{
  "cells": [
    {
      "cell_type": "markdown",
      "metadata": {
        "_cell_guid": "a4d0380f-ec0c-d156-70ec-121d40d9fb9a"
      },
      "source": [
        "Lets see what an old fashioned KNN Regressor Can Do"
      ]
    },
    {
      "cell_type": "code",
      "execution_count": null,
      "metadata": {
        "_cell_guid": "041f97a3-e0fa-da8f-ea41-a61323471ad9"
      },
      "outputs": [],
      "source": [
        "import numpy as np # linear algebra\n",
        "import pandas as pd # data processing, CSV file I/O (e.g. pd.read_csv)\n",
        "from sklearn.neighbors import KNeighborsRegressor\n",
        "from sklearn.model_selection import KFold\n",
        "from sklearn.metrics import r2_score\n",
        "import seaborn as sns\n",
        "import matplotlib.pyplot as plt\n",
        "%matplotlib inline"
      ]
    },
    {
      "cell_type": "code",
      "execution_count": null,
      "metadata": {
        "_cell_guid": "c9b479e4-5cd2-0e6f-52f3-7cf153f0b9bc"
      },
      "outputs": [],
      "source": [
        "features = ['X236', 'X127', 'X267', 'X261', 'X383', 'X275', 'X311', 'X189', 'X328',\n",
        "            'X104', 'X240', 'X152', 'X265', 'X276', 'X162', 'X238', 'X52', 'X117', 'X342',\n",
        "            'X264', 'X316', 'X339', 'X312', 'X71', 'X77', 'X340', 'X115', 'X38', 'X341',\n",
        "            'X206', 'X75', 'X203', 'X292', 'X65', 'X221', 'X151', 'X345', 'X198', 'X73',\n",
        "            'X327', 'X48', 'X196', 'X310']"
      ]
    },
    {
      "cell_type": "code",
      "execution_count": null,
      "metadata": {
        "_cell_guid": "064b1594-6382-1865-8333-0e2891cc07ec"
      },
      "outputs": [],
      "source": [
        "train = pd.read_csv('../input/train.csv')\n",
        "test = pd.read_csv('../input/test.csv')\n",
        "y = train.y.ravel()\n",
        "train = train[features]\n",
        "test = test[features]"
      ]
    },
    {
      "cell_type": "code",
      "execution_count": null,
      "metadata": {
        "_cell_guid": "e4db5c93-cee7-0c0b-58bd-042c85358d36"
      },
      "outputs": [],
      "source": [
        "score = 0\n",
        "splits = 5\n",
        "kf = KFold(n_splits=splits)\n",
        "\n",
        "for train_index, test_index in kf.split(range(train.shape[0])):\n",
        "    blind = train.loc[test_index]\n",
        "    vis = train.loc[train_index]\n",
        "    knn = KNeighborsRegressor(n_neighbors=100,weights='uniform',p=2)\n",
        "    knn.fit(vis,y[train_index])\n",
        "    score +=(r2_score(y[test_index],(knn.predict(blind))))\n",
        "print(score/splits)"
      ]
    },
    {
      "cell_type": "code",
      "execution_count": null,
      "metadata": {
        "_cell_guid": "97b0e9c6-db70-da2b-a86a-a1ef2b7573f3"
      },
      "outputs": [],
      "source": [
        "knn = KNeighborsRegressor(n_neighbors=100,weights='uniform',p=2)\n",
        "knn.fit(train,y)\n",
        "knnpreds = knn.predict(train)\n",
        "print(r2_score(y,knnpreds))"
      ]
    },
    {
      "cell_type": "code",
      "execution_count": null,
      "metadata": {
        "_cell_guid": "108cc1ec-b6c0-0feb-5f2e-e13f3b712dea"
      },
      "outputs": [],
      "source": [
        "_ = plt.plot(knnpreds)"
      ]
    },
    {
      "cell_type": "markdown",
      "metadata": {
        "_cell_guid": "b77aec2a-838e-178f-ef79-f2efb0ad09a5"
      },
      "source": ""
    }
  ],
  "metadata": {
    "_change_revision": 0,
    "_is_fork": false,
    "kernelspec": {
      "display_name": "Python 3",
      "language": "python",
      "name": "python3"
    },
    "language_info": {
      "codemirror_mode": {
        "name": "ipython",
        "version": 3
      },
      "file_extension": ".py",
      "mimetype": "text/x-python",
      "name": "python",
      "nbconvert_exporter": "python",
      "pygments_lexer": "ipython3",
      "version": "3.6.0"
    }
  },
  "nbformat": 4,
  "nbformat_minor": 0
}