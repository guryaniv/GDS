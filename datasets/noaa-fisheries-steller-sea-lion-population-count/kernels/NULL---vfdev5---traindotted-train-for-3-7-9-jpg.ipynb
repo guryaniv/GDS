{
  "cells": [
    {
      "cell_type": "markdown",
      "metadata": {
        "_cell_guid": "ba643995-da99-e8ad-153d-8b598191b8ff"
      },
      "source": [
        "Following competion dataset description :\n",
        "\n",
        "**Train/*.jpg: a set of training images, with each filename corresponding to a train_id**\n",
        "\n",
        "**TrainDotted/*.jpg: copies of the training images with markings showing where each animal is (see below)**\n",
        "\n",
        "**To assist you in locating individual sea lions, the TrainDotted folder contains the same images as in the Train folder, but with colored dots placed over the animals.**\n",
        "\n",
        "However, images from `TrainDotted` : 3.jpg, 7.jpg and 9.jpg are not copies of corresponding images from `Train`."
      ]
    },
    {
      "cell_type": "code",
      "execution_count": null,
      "metadata": {
        "_cell_guid": "30690006-f2d3-6ac0-d57f-9ada03d23d01"
      },
      "outputs": [],
      "source": [
        "import cv2\n",
        "import matplotlib.pylab as plt\n",
        "\n",
        "def plt_st(l1,l2):\n",
        "    plt.figure(figsize=(l1,l2))"
      ]
    },
    {
      "cell_type": "code",
      "execution_count": null,
      "metadata": {
        "_cell_guid": "aba3a386-21c3-cbd5-0114-1b7038d61ad2"
      },
      "outputs": [],
      "source": [
        "for image_id in ['3', '7', '9']:\n",
        "    img1 = cv2.imread('../input/Train/' + image_id + '.jpg')\n",
        "    img1 = cv2.cvtColor(img1, cv2.COLOR_BGR2RGB)\n",
        "    img2 = cv2.imread('../input/TrainDotted/' + image_id + '.jpg')\n",
        "    img2 = cv2.cvtColor(img2, cv2.COLOR_BGR2RGB)\n",
        "    \n",
        "    plt_st(12, 10)\n",
        "    plt.subplot(121)\n",
        "    plt.imshow(img1)\n",
        "    plt.subplot(122)\n",
        "    plt.imshow(img2)\n",
        "    plt.suptitle(\"Train VS TrainDotted, image id = %s.jpg\" % image_id)\n",
        "plt_st(12, 5)"
      ]
    },
    {
      "cell_type": "code",
      "execution_count": null,
      "metadata": {
        "_cell_guid": "4c9625de-2d07-fc2f-0828-434bf99e8bb5"
      },
      "outputs": [],
      "source": [
        ""
      ]
    },
    {
      "cell_type": "code",
      "execution_count": null,
      "metadata": {
        "_cell_guid": "b10d8aae-e2b4-2ae3-0467-3c61ad26e374"
      },
      "outputs": [],
      "source": [
        ""
      ]
    }
  ],
  "metadata": {
    "_change_revision": 0,
    "_is_fork": false,
    "kernelspec": {
      "display_name": "Python 3",
      "language": "python",
      "name": "python3"
    },
    "language_info": {
      "codemirror_mode": {
        "name": "ipython",
        "version": 3
      },
      "file_extension": ".py",
      "mimetype": "text/x-python",
      "name": "python",
      "nbconvert_exporter": "python",
      "pygments_lexer": "ipython3",
      "version": "3.6.0"
    }
  },
  "nbformat": 4,
  "nbformat_minor": 0
}