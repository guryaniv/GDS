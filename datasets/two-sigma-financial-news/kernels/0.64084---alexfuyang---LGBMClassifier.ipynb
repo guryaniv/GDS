{
  "cells": [
    {
      "metadata": {
        "_uuid": "5ffb21374c7cf4b98e7239045ef9bf312effee25"
      },
      "cell_type": "markdown",
      "source": "# Two Sigma Financial News Competition Official Getting Started Kernel\n## Introduction\nIn this competition you will predict how stocks will change based on the market state and news articles.  You will loop through a long series of trading days; for each day, you'll receive an updated state of the market, and a series of news articles which were published since the last trading day, along with impacted stocks and sentiment analysis.  You'll use this information to predict whether each stock will have increased or decreased ten trading days into the future.  Once you make these predictions, you can move on to the next trading day. \n\nThis competition is different from most Kaggle Competitions in that:\n* You can only submit from Kaggle Kernels, and you may not use other data sources, GPU, or internet access.\n* This is a **two-stage competition**.  In Stage One you can edit your Kernels and improve your model, where Public Leaderboard scores are based on their predictions relative to past market data.  At the beginning of Stage Two, your Kernels are locked, and we will re-run your Kernels over the next six months, scoring them based on their predictions relative to live data as those six months unfold.\n* You must use our custom **`kaggle.competitions.twosigmanews`** Python module.  The purpose of this module is to control the flow of information to ensure that you are not using future data to make predictions for the current trading day.\n\n## In this Starter Kernel, we'll show how to use the **`twosigmanews`** module to get the training data, get test features and make predictions, and write the submission file.\n## TL;DR: End-to-End Usage Example\n```\nfrom kaggle.competitions import twosigmanews\nenv = twosigmanews.make_env()\n\n(market_train_df, news_train_df) = env.get_training_data()\ntrain_my_model(market_train_df, news_train_df)\n\nfor (market_obs_df, news_obs_df, predictions_template_df) in env.get_prediction_days():\n  predictions_df = make_my_predictions(market_obs_df, news_obs_df, predictions_template_df)\n  env.predict(predictions_df)\n  \nenv.write_submission_file()\n```\nNote that `train_my_model` and `make_my_predictions` are functions you need to write for the above example to work."
    },
    {
      "metadata": {
        "_uuid": "225708f447eee93041881f9d6c3a3e890cb16718"
      },
      "cell_type": "markdown",
      "source": "## In-depth Introduction\nFirst let's import the module and create an environment."
    },
    {
      "metadata": {
        "trusted": true,
        "_uuid": "6039cc94371e0b283ac4a0061d2baff499e7711b"
      },
      "cell_type": "code",
      "source": "import numpy as np\nimport pandas as pd\nimport gc",
      "execution_count": null,
      "outputs": []
    },
    {
      "metadata": {
        "_uuid": "8f2839f25d086af736a60e9eeb907d3b93b6e0e5",
        "_cell_guid": "b1076dfc-b9ad-4769-8c92-a6c4dae69d19",
        "trusted": true
      },
      "cell_type": "code",
      "source": "from kaggle.competitions import twosigmanews\n# You can only call make_env() once, so don't lose it!\nenv = twosigmanews.make_env()",
      "execution_count": null,
      "outputs": []
    },
    {
      "metadata": {
        "_uuid": "6034b46fce8c9d55d403de32e7cebe8cb9fef96d"
      },
      "cell_type": "markdown",
      "source": "## **`get_training_data`** function\n\nReturns the training data DataFrames as a tuple of:\n* `market_train_df`: DataFrame with market training data\n* `news_train_df`: DataFrame with news training data\n\nThese DataFrames contain all market and news data from February 2007 to December 2016.  See the [competition's Data tab](https://www.kaggle.com/c/two-sigma-financial-news/data) for more information on what columns are included in each DataFrame."
    },
    {
      "metadata": {
        "trusted": true,
        "_uuid": "c20fa6deeac9d374c98774abd90bdc76b023ee63"
      },
      "cell_type": "code",
      "source": "(market_train_df, news_train_df) = env.get_training_data()",
      "execution_count": null,
      "outputs": []
    },
    {
      "metadata": {
        "_uuid": "76741cdeb30f0cf558122776061fbbcde0445e07"
      },
      "cell_type": "markdown",
      "source": "Find out the shape of each df."
    },
    {
      "metadata": {
        "trusted": true,
        "_uuid": "3a32e8c86b2721ab2382a3d10741fbcfbeb5fc09"
      },
      "cell_type": "code",
      "source": "#market_train_df.shape #(4072956, 16)",
      "execution_count": null,
      "outputs": []
    },
    {
      "metadata": {
        "trusted": true,
        "_uuid": "6811a1a76f08b2a029543cf73bcdf4dfca7dc362"
      },
      "cell_type": "code",
      "source": "#market_train_df.head()",
      "execution_count": null,
      "outputs": []
    },
    {
      "metadata": {
        "trusted": true,
        "_uuid": "84b5a58f67ebded82e6aabc66ca36411e6db35a9"
      },
      "cell_type": "code",
      "source": "#market_train_df.tail()",
      "execution_count": null,
      "outputs": []
    },
    {
      "metadata": {
        "trusted": true,
        "_uuid": "0ba403680eebc28150ea01635bf1e16a2815a76b"
      },
      "cell_type": "code",
      "source": "#market_train_df.nunique()",
      "execution_count": null,
      "outputs": []
    },
    {
      "metadata": {
        "trusted": true,
        "_uuid": "b67c2666f057453d954ef461dd80b2af1628db92"
      },
      "cell_type": "code",
      "source": "#market_train_df.dtypes",
      "execution_count": null,
      "outputs": []
    },
    {
      "metadata": {
        "trusted": true,
        "_uuid": "afa68797a7186a8291b2b265c66abc4717925db8"
      },
      "cell_type": "code",
      "source": "#market_train_df.isna().sum()",
      "execution_count": null,
      "outputs": []
    },
    {
      "metadata": {
        "_uuid": "a79fe114f2b3a52d387e93ab69490694ee494602"
      },
      "cell_type": "markdown",
      "source": "Pre-process market data."
    },
    {
      "metadata": {
        "trusted": true,
        "_uuid": "2ea139ebe858d5d9baef015335dc93c9e96f89c2"
      },
      "cell_type": "code",
      "source": "def market_process(market_train_df):\n    \n    market_train_df['time'] = market_train_df.time.dt.date\n    market_train_df['bartrend'] = market_train_df['close'] / market_train_df['open']\n    market_train_df['average'] = (market_train_df['close'] + market_train_df['open'])/2\n    market_train_df['pricevolume'] = market_train_df['volume'] * market_train_df['close']\n    \n    # drop nans or not?\n    market_train_df.dropna(axis=0, inplace=True)\n    market_train_df.drop('assetName', axis=1, inplace=True)\n    \n    #market_train_df.columns = pd.Index([\"{}_{}\".format(e[0], e[1]) for e in market_train_df.columns.tolist()])\n    #market_train_df.reset_index(inplace=True)\n    # Set datatype to float32\n    float_cols = {c: 'float32' for c in market_train_df.columns if c not in ['assetCode', 'time']}\n    \n    return market_train_df.astype(float_cols)\n\n\nmarket_train_df = market_process(market_train_df)\n#market_train_df.shape # (4072956, 19) dropnans(3979902, 15)\n#market_train_df.head()",
      "execution_count": null,
      "outputs": []
    },
    {
      "metadata": {
        "trusted": true,
        "_uuid": "4d0dab3f0ece9e024480744158b0bee5a0c688e5"
      },
      "cell_type": "code",
      "source": "#news_train_df.shape #(9328750, 35) no nans",
      "execution_count": null,
      "outputs": []
    },
    {
      "metadata": {
        "trusted": true,
        "_uuid": "4fae5f4a8843a1da76b9141f1fd8ba438f23dca5"
      },
      "cell_type": "code",
      "source": "#news_train_df.dtypes",
      "execution_count": null,
      "outputs": []
    },
    {
      "metadata": {
        "trusted": true,
        "_uuid": "44e936dead1fcecba2ed368044d965cfeab33b40"
      },
      "cell_type": "code",
      "source": "#news_train_df.nunique()",
      "execution_count": null,
      "outputs": []
    },
    {
      "metadata": {
        "trusted": true,
        "_uuid": "25115010e14ef3497932902db0cef68501ddca11"
      },
      "cell_type": "code",
      "source": "#news_train_df.head()",
      "execution_count": null,
      "outputs": []
    },
    {
      "metadata": {
        "trusted": true,
        "_uuid": "cdc6b9842073bcb7d63cddc30e5bd7826ccfdfa1"
      },
      "cell_type": "code",
      "source": "#news_train_df.tail()",
      "execution_count": null,
      "outputs": []
    },
    {
      "metadata": {
        "_uuid": "73b62359a2a9abad9e4a7594005c65e66a961f71"
      },
      "cell_type": "markdown",
      "source": "Pre-process news data."
    },
    {
      "metadata": {
        "trusted": true,
        "_uuid": "3bed5340649ec99a0c60ad6c6723657bbc8a1dd3"
      },
      "cell_type": "code",
      "source": "def news_process(news_train_df):\n    \n    news_train_df['time'] = news_train_df.time.dt.date\n    news_train_df['position'] = news_train_df['firstMentionSentence'] / news_train_df['sentenceCount']\n    news_train_df['coverage'] = news_train_df['sentimentWordCount'] / news_train_df['wordCount']\n    droplist = ['sourceTimestamp','firstCreated','sourceId','headline','takeSequence','provider',\n            'firstMentionSentence','headlineTag','marketCommentary','subjects','audiences',\n            'assetName','noveltyCount12H','noveltyCount24H','noveltyCount3D','noveltyCount5D',\n            'noveltyCount7D','urgency','sentimentClass']\n    news_train_df.drop(droplist, axis=1, inplace=True)\n    \n    # Factorize categorical columns\n#     for col in ['headlineTag', 'provider', 'sourceId']:\n#         news_train[col], uniques = pd.factorize(news_train[col])\n#         del uniques\n    \n    # Remove {} and '' from assetCodes column\n    news_train_df['assetCodes'] = news_train_df['assetCodes'].apply(lambda x: x[1:-1].replace(\"'\", \"\"))\n    return news_train_df\n\nnews_train_df = news_process(news_train_df)\ngc.collect()\n#news_train_df.head()",
      "execution_count": null,
      "outputs": []
    },
    {
      "metadata": {
        "_uuid": "d5d848d2ccd74e73c03dbabdace7dd8b8ade4cb4"
      },
      "cell_type": "markdown",
      "source": "Unstack assetCodes."
    },
    {
      "metadata": {
        "trusted": true,
        "_uuid": "711a1e74e034be035096bf11038cf5429b870920"
      },
      "cell_type": "code",
      "source": "def unstack_asset_codes(news_train_df):\n    codes = []\n    indexes = []\n    for i, values in news_train_df['assetCodes'].iteritems():\n        explode = values.split(\", \")\n        codes.extend(explode)\n        repeat_index = [int(i)]*len(explode)\n        indexes.extend(repeat_index)\n    index_df = pd.DataFrame({'news_index': indexes, 'assetCode': codes})\n    del codes, indexes\n    gc.collect()\n    return index_df\n\nindex_df = unstack_asset_codes(news_train_df)\n#index_df.head(3)",
      "execution_count": null,
      "outputs": []
    },
    {
      "metadata": {
        "trusted": true,
        "_uuid": "554f77e0fb3567c90ac9379a07d473fbcdf5351f"
      },
      "cell_type": "code",
      "source": "def merge_news_on_index(news_train_df, index_df):\n    news_train_df['news_index'] = news_train_df.index.copy()\n\n    # Merge news on unstacked assets\n    news_unstack_df = index_df.merge(news_train_df, how='left', on='news_index')\n    news_unstack_df.drop(['news_index', 'assetCodes'], axis=1, inplace=True)\n    return news_unstack_df\n\nnews_unstack_df = merge_news_on_index(news_train_df, index_df)\ndel news_train_df, index_df\ngc.collect()\n#news_unstack_df.head(3)\n#news_unstack_df.shape #(18821885, 23)",
      "execution_count": null,
      "outputs": []
    },
    {
      "metadata": {
        "_uuid": "287dcea967d9b63465d4e6951737107dff7f679b"
      },
      "cell_type": "markdown",
      "source": "Comine multiple news reports for same assets on same day"
    },
    {
      "metadata": {
        "trusted": true,
        "_uuid": "3f2ab73dd5fd64f35e1e7d4d8032446a5a060ea5"
      },
      "cell_type": "code",
      "source": "def group_news(news_frame):\n    \n    aggregations = ['mean']\n    gp = news_frame.groupby(['assetCode', 'time']).agg(aggregations)\n    gp.columns = pd.Index([\"{}_{}\".format(e[0], e[1]) for e in gp.columns.tolist()])\n    gp.reset_index(inplace=True)\n    # Set datatype to float32\n    float_cols = {c: 'float32' for c in gp.columns if c not in ['assetCode', 'time']}\n    return gp.astype(float_cols)\n\nnews_agg_df = group_news(news_unstack_df)\ndel news_unstack_df; gc.collect()\ngc.collect()\n#news_agg_df.head(3)\n#news_agg_df.shape #((3839367, 23))",
      "execution_count": null,
      "outputs": []
    },
    {
      "metadata": {
        "trusted": true,
        "_uuid": "7337f1fa15f4f47ee1fcf0fe900cefecbffba32b"
      },
      "cell_type": "code",
      "source": "def merge(market_train_df,news_agg_df):\n    \n    df = market_train_df.merge(news_agg_df, how='left', on=['time','assetCode'])\n    # drop nans or not?\n    df.dropna(axis=0, inplace=True)\n    \n    del market_train_df, news_agg_df\n    return df\n\ndf = merge(market_train_df,news_agg_df)\ngc.collect()\n#df.head(3)\n#df.shape # (4072956, 35) dropnans(1121521, 36)",
      "execution_count": null,
      "outputs": []
    },
    {
      "metadata": {
        "trusted": true,
        "_uuid": "36271b1927461f43653ffd2cf6415095c1aa27e6"
      },
      "cell_type": "code",
      "source": "time = df.time\nnum_target = df.returnsOpenNextMktres10.astype('float32')\nbin_target = (df.returnsOpenNextMktres10 >= 0).astype('int8')\nuniverse = df.universe.astype('int8')\n# Drop columns that are not features\ndf.drop(['returnsOpenNextMktres10', 'universe', 'assetCode', 'time'], axis=1, inplace=True)\ngc.collect()\ndf.head(3)\n# shape (, 30)",
      "execution_count": null,
      "outputs": []
    },
    {
      "metadata": {
        "trusted": true,
        "_uuid": "02aeb53795ec55d49a056b61c725ade6b06fe83e"
      },
      "cell_type": "code",
      "source": "from sklearn import *\nfrom lightgbm import LGBMClassifier\nimport time\nfrom sklearn.decomposition import PCA\nfrom sklearn.preprocessing import MinMaxScaler\nimport matplotlib.pyplot as plt",
      "execution_count": null,
      "outputs": []
    },
    {
      "metadata": {
        "trusted": true,
        "_uuid": "684a8d52c17a9ead5232a80c2ab52e57b6b3a357"
      },
      "cell_type": "code",
      "source": "train_index, test_index = model_selection.train_test_split(df.index.values, test_size=0.25, \n                                                           random_state = 11)",
      "execution_count": null,
      "outputs": []
    },
    {
      "metadata": {
        "trusted": true,
        "_uuid": "3b5a5bd52f61ae9c1a20bdba932f58f5b311e710"
      },
      "cell_type": "code",
      "source": "train_index, val_index = model_selection.train_test_split(train_index, test_size=0.25, \n                                                           random_state = 11)",
      "execution_count": null,
      "outputs": []
    },
    {
      "metadata": {
        "_uuid": "a169f6f91077cd12cf36363147fda906b4e33aae"
      },
      "cell_type": "markdown",
      "source": "Tuning parameters."
    },
    {
      "metadata": {
        "trusted": true,
        "_uuid": "075a1634e0278db018c03b4ef7bd5e1b5eeee118"
      },
      "cell_type": "code",
      "source": "# def evaluate_model(df, target, train_index, val_index, params):\n#     model = LGBMClassifier(objective='binary',\n#                            boosting='gbdt',\n#                            #'n_jobs': 4,\n#                            **params)\n#     model.fit(df.loc[train_index],bin_target.loc[train_index])\n#     return metrics.log_loss(target.loc[val_index], \n#                             model.predict_proba(df.loc[val_index]))",
      "execution_count": null,
      "outputs": []
    },
    {
      "metadata": {
        "trusted": true,
        "_uuid": "4cdda248361f72299eb1f9c68031431e174522eb"
      },
      "cell_type": "code",
      "source": "# param_grid = {\n#     'learning_rate': [0.1, 0.05, 0.01],\n#     'max_depth': [-1, 8],\n#     'num_leaves': [60, 70, 80],\n#     'n_estimators': [200, 400], #default class*iteration=2*100\n#     #'min_child_samples': [100, 500],\n#     'bagging_fraction' : [0.8, 0.9],  # subsample\n#     'feature_fraction' : [0.8, 0.9],  # colsample_bytree\n#     #'subsample': [0.8, 0.9, 1],\n#     'reg_alpha': [0.2, 0.6, 0.8],\n#     'reg_lambda': [0.4, 0.6, 0.8]\n# }\n\n# print('Tuning begins...')\n# best_eval_score = 0\n# for i in range(50):\n#     params = {k: np.random.choice(v) for k, v in param_grid.items()}\n#     score = evaluate_model(df, bin_target, train_index, val_index, params)\n#     if score < best_eval_score or best_eval_score == 0:\n#         best_eval_score = score\n#         best_params = params\n# print(\"Best evaluation logloss\", best_eval_score)",
      "execution_count": null,
      "outputs": []
    },
    {
      "metadata": {
        "trusted": true,
        "_uuid": "40434a4ee4bf7a8cfcde330aabeab8ebbec15d28"
      },
      "cell_type": "code",
      "source": "#best_params",
      "execution_count": null,
      "outputs": []
    },
    {
      "metadata": {
        "trusted": true,
        "_uuid": "da818b8742cf6c2fc48e2f11aa565a1938c65453"
      },
      "cell_type": "code",
      "source": "lgb = LGBMClassifier(\n    objective='binary',\n    boosting='gbdt',\n    learning_rate = 0.05,\n    max_depth = 8,\n    num_leaves = 80,\n    n_estimators = 400,\n    bagging_fraction = 0.8,\n    feature_fraction = 0.9,\n    reg_alpha = 0.2,\n    reg_lambda = 0.4)",
      "execution_count": null,
      "outputs": []
    },
    {
      "metadata": {
        "_uuid": "91ece58d126b141a448e49be963bb4257daad6d6"
      },
      "cell_type": "markdown",
      "source": "LGBMClassifier(bagging_fraction=0.8, boosting_type='gbdt', class_weight=None,\n        colsample_bytree=1.0, feature_fraction=0.9,\n        importance_type='split', learning_rate=0.05, max-depth=8,\n        max_depth=-1, min_child_samples=20, min_child_weight=0.001,\n        min_split_gain=0.0, n_estimators=400, n_jobs=-1, num_leaves=80,\n        objective=None, random_state=None, reg_alpha=0.6, reg_lambda=0.4,\n        silent=True, subsample=1.0, subsample_for_bin=200000,\n        subsample_freq=0)"
    },
    {
      "metadata": {
        "trusted": true,
        "_uuid": "5f1e56638756710365a75c0d00b7522f88e9e54c"
      },
      "cell_type": "code",
      "source": "#t = time.time()\nprint('Fitting Up')\nlgb.fit(df.loc[train_index],bin_target.loc[train_index])\nprint('Done')\n#print(f'Done, time = {time.time() - t}')",
      "execution_count": null,
      "outputs": []
    },
    {
      "metadata": {
        "trusted": true,
        "_uuid": "a6a9f54a72fb8890b650fd466ddf0a9c697dceef"
      },
      "cell_type": "code",
      "source": "metrics.accuracy_score(lgb.predict(df.loc[test_index]),bin_target.loc[test_index])\n#print(\"AUC Score : %f\" % metrics.roc_auc_score(xgb.predict_proba(df.loc[test_index])[:, 1],num_target.loc[test_index]))",
      "execution_count": null,
      "outputs": []
    },
    {
      "metadata": {
        "_uuid": "25bb8fcb272fcf8ea49fca401647d4645ace8224"
      },
      "cell_type": "markdown",
      "source": "Said to be competition's scoring metrics."
    },
    {
      "metadata": {
        "trusted": true,
        "_uuid": "840aa03b49d675953f080e4069f79f435282bb43"
      },
      "cell_type": "markdown",
      "source": "## `get_prediction_days` function\n\nGenerator which loops through each \"prediction day\" (trading day) and provides all market and news observations which occurred since the last data you've received.  Once you call **`predict`** to make your future predictions, you can continue on to the next prediction day.\n\nYields:\n* While there are more prediction day(s) and `predict` was called successfully since the last yield, yields a tuple of:\n    * `market_observations_df`: DataFrame with market observations for the next prediction day.\n    * `news_observations_df`: DataFrame with news observations for the next prediction day.\n    * `predictions_template_df`: DataFrame with `assetCode` and `confidenceValue` columns, prefilled with `confidenceValue = 0`, to be filled in and passed back to the `predict` function.\n* If `predict` has not been called since the last yield, yields `None`."
    },
    {
      "metadata": {
        "trusted": true,
        "_uuid": "724c38149860c8e9058474ac9045c2301e8a20da"
      },
      "cell_type": "code",
      "source": "# You can only iterate through a result from `get_prediction_days()` once\n# so be careful not to lose it once you start iterating.\ndays = env.get_prediction_days()",
      "execution_count": null,
      "outputs": []
    },
    {
      "metadata": {
        "trusted": true,
        "_uuid": "158e47f91bbfa14da6113ebb929f926207c8c4b9"
      },
      "cell_type": "code",
      "source": "n_days = 0\n\nfor (market_obs_df, news_obs_df, predictions_template_df) in days:\n    n_days += 1\n    print(n_days,end=' ')\n    \n    # process market data\n    market_obs_df = market_process(market_obs_df)\n    \n    # process news data\n    news_obs_df = news_process(news_obs_df)\n    index_df = unstack_asset_codes(news_obs_df)\n    news_unstack = merge_news_on_index(news_obs_df, index_df)\n    news_obs_agg = group_news(news_unstack)\n\n    # merge\n    obs_df = merge(market_obs_df,news_obs_agg)\n    del market_obs_df, news_obs_agg, news_obs_df, news_unstack, index_df\n    gc.collect()\n    obs_df = obs_df[obs_df.assetCode.isin(predictions_template_df.assetCode)]\n\n    # Drop cols that are not features\n    feats = [c for c in obs_df.columns if c not in ['assetCode', 'time']]\n\n    #t = time.time()\n    preds = lgb.predict_proba(obs_df[feats])[:, 1] * 2 - 1\n    sub = pd.DataFrame({'assetCode': obs_df['assetCode'], 'confidence': preds})\n    predictions_template_df = predictions_template_df.merge(sub, how='left').drop(\n        'confidenceValue', axis=1).fillna(0).rename(columns={'confidence':'confidenceValue'})\n\n    env.predict(predictions_template_df)\n    del obs_df, predictions_template_df, preds, sub\n    gc.collect()\n",
      "execution_count": null,
      "outputs": []
    },
    {
      "metadata": {
        "trusted": true,
        "_uuid": "3f68dc90f561f6de206b120597ee702e49693ea6"
      },
      "cell_type": "code",
      "source": "env.write_submission_file()",
      "execution_count": null,
      "outputs": []
    },
    {
      "metadata": {
        "trusted": true,
        "_uuid": "2b821b6ad4aef29497e17bb3f0321a2ee6f54bb3"
      },
      "cell_type": "code",
      "source": "import matplotlib.pyplot as plt\nimport seaborn as sns\n%matplotlib inline\nfrom xgboost import plot_importance",
      "execution_count": null,
      "outputs": []
    },
    {
      "metadata": {
        "_uuid": "5a04d623593f289c0baead60e5131de583715214"
      },
      "cell_type": "markdown",
      "source": "feature_importances_. Default is 'split': result contains numbers of times the feature is used in a model. If ‘gain’, result contains total gains of splits which use the feature."
    },
    {
      "metadata": {
        "trusted": true,
        "_uuid": "4a7e050b554d671d614682f40bd0cfbe49cb1954"
      },
      "cell_type": "code",
      "source": "feat_importance = pd.DataFrame()\nfeat_importance[\"feature\"] = df.columns\nfeat_importance[\"weight\"] = lgb.feature_importances_\nfeat_importance.sort_values(by='weight', ascending=False, inplace=True)\n\nplt.figure(figsize=(8,10))\nax = sns.barplot(y=\"feature\", x=\"weight\", data=feat_importance)",
      "execution_count": null,
      "outputs": []
    },
    {
      "metadata": {
        "trusted": true,
        "_uuid": "8d5781f889893e3e34b054687fd538c1a76bfdcc"
      },
      "cell_type": "code",
      "source": "#(market_obs_df, news_obs_df, predictions_template_df) = next(days)",
      "execution_count": null,
      "outputs": []
    },
    {
      "metadata": {
        "trusted": true,
        "_uuid": "fe1cb6accc3536258e7687c64ab3e5e5caa6334a"
      },
      "cell_type": "code",
      "source": "#market_obs_df.head()",
      "execution_count": null,
      "outputs": []
    },
    {
      "metadata": {
        "trusted": true,
        "_uuid": "956a2d774090d1473b2e4b93c3ab1916ceaf9c98"
      },
      "cell_type": "code",
      "source": "#market_obs_df.isna().sum()",
      "execution_count": null,
      "outputs": []
    },
    {
      "metadata": {
        "trusted": true,
        "_uuid": "11c5b072aefdd54e6fbe9ae71dc3ea41909ade19"
      },
      "cell_type": "code",
      "source": "#news_obs_df.head()",
      "execution_count": null,
      "outputs": []
    },
    {
      "metadata": {
        "trusted": true,
        "_uuid": "afd4205e6dbdd6cbfbde5303a2010fa7bb7e2de1"
      },
      "cell_type": "code",
      "source": "#news_obs_df.isna().sum()",
      "execution_count": null,
      "outputs": []
    },
    {
      "metadata": {
        "trusted": true,
        "_uuid": "f99f6364881767a4071da9ea19e18163a7ce066b"
      },
      "cell_type": "code",
      "source": "#predictions_template_df.head()",
      "execution_count": null,
      "outputs": []
    },
    {
      "metadata": {
        "_uuid": "11e95f2e3d493ee6e1023c7a4191310adde5d2bf"
      },
      "cell_type": "markdown",
      "source": "Note that we'll get an error if we try to continue on to the next prediction day without making our predictions for the current day."
    },
    {
      "metadata": {
        "trusted": true,
        "_uuid": "b8ac953a3afbfca2fb200bbf8f0f7339bec7e6f1"
      },
      "cell_type": "code",
      "source": "# next(days)",
      "execution_count": null,
      "outputs": []
    },
    {
      "metadata": {
        "trusted": true,
        "_uuid": "ba72731adf652d6011652e906d8b340d6572904e"
      },
      "cell_type": "markdown",
      "source": "### **`predict`** function\nStores your predictions for the current prediction day.  Expects the same format as you saw in `predictions_template_df` returned from `get_prediction_days`.\n\nArgs:\n* `predictions_df`: DataFrame which must have the following columns:\n    * `assetCode`: The market asset.\n    * `confidenceValue`: Your confidence whether the asset will increase or decrease in 10 trading days.  All values must be in the range `[-1.0, 1.0]`.\n\nThe `predictions_df` you send **must** contain the exact set of rows which were given to you in the `predictions_template_df` returned from `get_prediction_days`.  The `predict` function does not validate this, but if you are missing any `assetCode`s or add any extraneous `assetCode`s, then your submission will fail."
    },
    {
      "metadata": {
        "_uuid": "9cd8317a5e52180b592ee2abc1d2177214642a3c"
      },
      "cell_type": "markdown",
      "source": "Let's make random predictions for the first day:"
    },
    {
      "metadata": {
        "trusted": true,
        "_uuid": "a3f2197ed790f1aff1356a6954575fde976a4935"
      },
      "cell_type": "code",
      "source": "# import numpy as np\n# def make_random_predictions(predictions_df):\n#     predictions_df.confidenceValue = 2.0 * np.random.rand(len(predictions_df)) - 1.0",
      "execution_count": null,
      "outputs": []
    },
    {
      "metadata": {
        "trusted": true,
        "_uuid": "ca72b7003f24f4aa0c4afe25b600aae31abd64d5"
      },
      "cell_type": "code",
      "source": "# make_random_predictions(predictions_template_df)\n# env.predict(predictions_template_df)",
      "execution_count": null,
      "outputs": []
    },
    {
      "metadata": {
        "_uuid": "ff62c167b459c5895383fb05fd9260c14be8c1b8"
      },
      "cell_type": "markdown",
      "source": "Now we can continue on to the next prediction day and make another round of random predictions for it:"
    },
    {
      "metadata": {
        "trusted": true,
        "_uuid": "4e2293d44aad86d09d25326c4ede6f566ab69721"
      },
      "cell_type": "code",
      "source": "# (market_obs_df, news_obs_df, predictions_template_df) = next(days)",
      "execution_count": null,
      "outputs": []
    },
    {
      "metadata": {
        "trusted": true,
        "_uuid": "140aee54dc838549f87f041a97c7a809ee4e0f6f"
      },
      "cell_type": "code",
      "source": "# market_obs_df.head()",
      "execution_count": null,
      "outputs": []
    },
    {
      "metadata": {
        "trusted": true,
        "_uuid": "b02d43dec4b881564cd43ff6239c7aa97d94a7af"
      },
      "cell_type": "code",
      "source": "# news_obs_df.head()",
      "execution_count": null,
      "outputs": []
    },
    {
      "metadata": {
        "trusted": true,
        "_uuid": "5233f1b22f5ddac08adb50bbaa6444a0da4a24bc"
      },
      "cell_type": "code",
      "source": "# predictions_template_df.head()",
      "execution_count": null,
      "outputs": []
    },
    {
      "metadata": {
        "trusted": true,
        "_uuid": "a19142739096135d237e2837d8e10c992e53a6e5"
      },
      "cell_type": "code",
      "source": "# make_random_predictions(predictions_template_df)\n# env.predict(predictions_template_df)",
      "execution_count": null,
      "outputs": []
    },
    {
      "metadata": {
        "_uuid": "8056b881707072c379ad2e89b9c59c3c041a2ab7"
      },
      "cell_type": "markdown",
      "source": "## Main Loop\nLet's loop through all the days and make our random predictions.  The `days` generator (returned from `get_prediction_days`) will simply stop returning values once you've reached the end."
    },
    {
      "metadata": {
        "trusted": true,
        "_uuid": "ef60bc52a8a228e5a2ce18e4bd416f1f1f25aeae"
      },
      "cell_type": "code",
      "source": "# for (market_obs_df, news_obs_df, predictions_template_df) in days:\n#     make_random_predictions(predictions_template_df)\n#     env.predict(predictions_template_df)\n# print('Done!')",
      "execution_count": null,
      "outputs": []
    },
    {
      "metadata": {
        "_uuid": "7c8fbcca87c7f6abc53e86408417bf12ce21bb7f"
      },
      "cell_type": "markdown",
      "source": "## **`write_submission_file`** function\n\nWrites your predictions to a CSV file (`submission.csv`) in the current working directory."
    },
    {
      "metadata": {
        "trusted": true,
        "_uuid": "2c8ed34ffb2c47c6e124530ec798c0b4eb01ddd5"
      },
      "cell_type": "code",
      "source": "# env.write_submission_file()",
      "execution_count": null,
      "outputs": []
    },
    {
      "metadata": {
        "trusted": true,
        "_uuid": "d38aa8a67cad3f0c105db7e764ec9b805db39ceb"
      },
      "cell_type": "code",
      "source": "# We've got a submission file!\nimport os\nprint([filename for filename in os.listdir('.') if '.csv' in filename])",
      "execution_count": null,
      "outputs": []
    },
    {
      "metadata": {
        "_uuid": "f464f37885ffa763a2592e2867d74685f75be506"
      },
      "cell_type": "markdown",
      "source": "As indicated by the helper message, calling `write_submission_file` on its own does **not** make a submission to the competition.  It merely tells the module to write the `submission.csv` file as part of the Kernel's output.  To make a submission to the competition, you'll have to **Commit** your Kernel and find the generated `submission.csv` file in that Kernel Version's Output tab (note this is _outside_ of the Kernel Editor), then click \"Submit to Competition\".  When we re-run your Kernel during Stage Two, we will run the Kernel Version (generated when you hit \"Commit\") linked to your chosen Submission."
    },
    {
      "metadata": {
        "_uuid": "2e3a267ea3149403c49ff59515a1a669ca2d1f9f"
      },
      "cell_type": "markdown",
      "source": "## Restart the Kernel to run your code again\nIn order to combat cheating, you are only allowed to call `make_env` or iterate through `get_prediction_days` once per Kernel run.  However, while you're iterating on your model it's reasonable to try something out, change the model a bit, and try it again.  Unfortunately, if you try to simply re-run the code, or even refresh the browser page, you'll still be running on the same Kernel execution session you had been running before, and the `twosigmanews` module will still throw errors.  To get around this, you need to explicitly restart your Kernel execution session, which you can do by pressing the Restart button in the Kernel Editor's bottom Console tab:\n![Restart button](https://i.imgur.com/hudu8jF.png)"
    }
  ],
  "metadata": {
    "kernelspec": {
      "display_name": "Python 3",
      "language": "python",
      "name": "python3"
    },
    "language_info": {
      "name": "python",
      "version": "3.6.6",
      "mimetype": "text/x-python",
      "codemirror_mode": {
        "name": "ipython",
        "version": 3
      },
      "pygments_lexer": "ipython3",
      "nbconvert_exporter": "python",
      "file_extension": ".py"
    }
  },
  "nbformat": 4,
  "nbformat_minor": 1
}