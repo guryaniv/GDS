{
  "cells": [
    {
      "cell_type": "markdown",
      "metadata": {
        "_cell_guid": "75bd814e-9fa4-070c-aa71-bc4b18106296"
      },
      "source": [
        "## Using Neural Networks through Keras"
      ]
    },
    {
      "cell_type": "markdown",
      "metadata": {
        "_cell_guid": "224f9801-741c-7d4a-8946-5034d310583b"
      },
      "source": [
        "Copied from Kaggle itself - see if I make it better !"
      ]
    },
    {
      "cell_type": "code",
      "execution_count": null,
      "metadata": {
        "_cell_guid": "93768274-a451-f111-440c-cf929716d679"
      },
      "outputs": [],
      "source": [
        "## Measure execution time, becaus Kaggle cloud fluctuates  \n",
        "import time\n",
        "start = time.time()"
      ]
    },
    {
      "cell_type": "code",
      "execution_count": null,
      "metadata": {
        "_cell_guid": "42859ad0-e281-758d-dc97-1453c170df10"
      },
      "outputs": [],
      "source": [
        "## Importing standard libraries\n",
        "%pylab inline\n",
        "import numpy as np\n",
        "import pandas as pd\n",
        "import seaborn as sns\n",
        "import matplotlib.pyplot as plt"
      ]
    },
    {
      "cell_type": "code",
      "execution_count": null,
      "metadata": {
        "_cell_guid": "472dc525-28ef-8909-6daf-14db89d02736"
      },
      "outputs": [],
      "source": [
        "## Importing sklearn libraries\n",
        "\n",
        "from sklearn.preprocessing import StandardScaler\n",
        "from sklearn.cross_validation import train_test_split\n",
        "from sklearn.preprocessing import LabelEncoder\n",
        "from sklearn.model_selection import StratifiedShuffleSplit"
      ]
    },
    {
      "cell_type": "code",
      "execution_count": null,
      "metadata": {
        "_cell_guid": "f1a31d09-8fb8-1b9a-e2d5-3af7f1b9a395"
      },
      "outputs": [],
      "source": [
        "## Keras Libraries for Neural Networks\n",
        "\n",
        "from keras.models import Sequential\n",
        "from keras.layers import Merge\n",
        "from keras.layers import Dense, Dropout, Activation, Flatten\n",
        "from keras.layers.advanced_activations import PReLU\n",
        "from keras.layers import Convolution2D, MaxPooling2D\n",
        "from keras.utils.np_utils import to_categorical\n",
        "from keras.callbacks import EarlyStopping"
      ]
    },
    {
      "cell_type": "code",
      "execution_count": null,
      "metadata": {
        "_cell_guid": "4cda25b4-3b84-99b1-2535-bbf258413407"
      },
      "outputs": [],
      "source": [
        "## Read data from the CSV file\n",
        "data = pd.read_csv('../input/train.csv')\n",
        "parent_data = data.copy()    ## Always a good idea to keep a copy of original data\n",
        "ID = data.pop('id')"
      ]
    },
    {
      "cell_type": "code",
      "execution_count": null,
      "metadata": {
        "_cell_guid": "260f0d07-9d76-942b-4c3b-cd68e6607581"
      },
      "outputs": [],
      "source": [
        "data.shape\n",
        "data.describe()"
      ]
    },
    {
      "cell_type": "code",
      "execution_count": null,
      "metadata": {
        "_cell_guid": "70a39b8b-c802-0b1c-ec80-31f2fca5b113"
      },
      "outputs": [],
      "source": [
        "## Since the labels are textual, so we encode them categorically\n",
        "\n",
        "y = data.pop('species')\n",
        "y = LabelEncoder().fit(y).transform(y)\n",
        "print(y.shape)"
      ]
    },
    {
      "cell_type": "code",
      "execution_count": null,
      "metadata": {
        "_cell_guid": "4d6decaa-a33e-ccd3-a31d-e9a25b7f41a8"
      },
      "outputs": [],
      "source": [
        "## Most of the learning algorithms are prone to feature scaling\n",
        "## Standardising the data to give zero mean =)\n",
        "from sklearn import preprocessing\n",
        "X = preprocessing.MinMaxScaler().fit(data).transform(data)\n",
        "X = StandardScaler().fit(data).transform(data)\n",
        "## normalizing does not help here; l1 and l2 allowed\n",
        "## X = preprocessing.normalize(data, norm='l1')\n",
        "print(X.shape)\n",
        "X"
      ]
    },
    {
      "cell_type": "code",
      "execution_count": null,
      "metadata": {
        "_cell_guid": "2f5c24c6-ca68-f5d8-5e1e-277455b2bb13"
      },
      "outputs": [],
      "source": [
        "## We will be working with categorical crossentropy function\n",
        "## It is required to further convert the labels into \"one-hot\" representation\n",
        "\n",
        "y_cat = to_categorical(y)\n",
        "print(y_cat.shape)"
      ]
    },
    {
      "cell_type": "code",
      "execution_count": null,
      "metadata": {
        "_cell_guid": "cbd61c0d-b225-2a84-21c5-f31e2f6e02c8"
      },
      "outputs": [],
      "source": [
        "## retain class balances\n",
        "sss = StratifiedShuffleSplit(n_splits=10, test_size=0.2,random_state=12345)\n",
        "train_index, val_index = next(iter(sss.split(X, y)))\n",
        "x_train, x_val = X[train_index], X[val_index]\n",
        "y_train, y_val = y_cat[train_index], y_cat[val_index]\n",
        "print(\"x_train dim: \",x_train.shape)\n",
        "print(\"x_val dim:   \",x_val.shape)"
      ]
    },
    {
      "cell_type": "code",
      "execution_count": null,
      "metadata": {
        "_cell_guid": "820fb857-a7db-2279-a228-c799dddbf110"
      },
      "outputs": [],
      "source": [
        "## Developing a layered model for Neural Networks\n",
        "## Input dimensions should be equal to the number of features\n",
        "## We used softmax layer to predict a uniform probabilistic distribution of outcomes\n",
        "## https://keras.io/initializations/ ;glorot_uniform, glorot_normal, lecun_uniform, orthogonal,he_normal\n",
        "\n",
        "model = Sequential()\n",
        "model.add(Dense(800,input_dim=192,  init='glorot_normal', activation='relu'))\n",
        "model.add(Dropout(0.1))\n",
        "\n",
        "model.add(Dense(400, activation='sigmoid'))\n",
        "model.add(Dropout(0.1))\n",
        "\n",
        "model.add(Dense(99, activation='softmax'))"
      ]
    },
    {
      "cell_type": "code",
      "execution_count": null,
      "metadata": {
        "_cell_guid": "b8cd5713-e6b6-7248-2ac9-34e8c4b13be2"
      },
      "outputs": [],
      "source": [
        "## Error is measured as categorical crossentropy or multiclass logloss\n",
        "## Adagrad, rmsprop, SGD, Adadelta, Adam, Adamax, Nadam\n",
        "\n",
        "model.compile(loss='categorical_crossentropy',optimizer='rmsprop', metrics = [\"accuracy\"])"
      ]
    },
    {
      "cell_type": "code",
      "execution_count": null,
      "metadata": {
        "_cell_guid": "05e4916c-17cc-693d-2784-e913b103d063"
      },
      "outputs": [],
      "source": [
        "## Fitting the model on the whole training data\n",
        "## the validation is literally just the last x% of samples in the input you passed.\n",
        "## the split is deeply flawed because it should split proportionally for multi-class problems\n",
        "## this is one of the reasons of low performance of this model\n",
        "early_stopping = EarlyStopping(monitor='val_loss', patience=300)\n",
        "\n",
        "# history = model.fit(X,y_cat,batch_size=192,\n",
        "#                    nb_epoch=800 ,verbose=0, validation_split=0.1, callbacks=[early_stopping])\n",
        "\n",
        "history = model.fit(x_train, y_train,batch_size=192,nb_epoch=2500 ,verbose=0,\n",
        "                    validation_data=(x_val, y_val),callbacks=[early_stopping])"
      ]
    },
    {
      "cell_type": "code",
      "execution_count": null,
      "metadata": {
        "_cell_guid": "991bf2ab-a9af-baaa-3f47-805839e13ee3"
      },
      "outputs": [],
      "source": [
        "## we need to consider the loss for final submission to leaderboard\n",
        "## print(history.history.keys())\n",
        "print('val_acc: ',max(history.history['val_acc']))\n",
        "print('val_loss: ',min(history.history['val_loss']))\n",
        "print('train_acc: ',max(history.history['acc']))\n",
        "print('train_loss: ',min(history.history['loss']))\n",
        "\n",
        "print()\n",
        "print(\"train/val loss ratio: \", min(history.history['loss'])/min(history.history['val_loss']))"
      ]
    },
    {
      "cell_type": "code",
      "execution_count": null,
      "metadata": {
        "_cell_guid": "b48ee871-13de-0b1e-438d-d6e2937e17f8"
      },
      "outputs": [],
      "source": [
        "## summarize history for loss\n",
        "## Plotting the loss with the number of iterations\n",
        "plt.semilogy(history.history['loss'])\n",
        "plt.semilogy(history.history['val_loss'])\n",
        "plt.title('model loss')\n",
        "plt.ylabel('loss')\n",
        "plt.xlabel('epoch')\n",
        "plt.legend(['train', 'test'], loc='upper left')\n",
        "plt.show()"
      ]
    },
    {
      "cell_type": "code",
      "execution_count": null,
      "metadata": {
        "_cell_guid": "08739222-9ca7-05ea-eabc-743002cc7327"
      },
      "outputs": [],
      "source": [
        "## Plotting the error with the number of iterations\n",
        "## With each iteration the error reduces smoothly\n",
        "plt.plot(history.history['acc'])\n",
        "plt.plot(history.history['val_acc'])\n",
        "plt.title('model accuracy')\n",
        "plt.ylabel('accuracy')\n",
        "plt.xlabel('epoch')\n",
        "plt.legend(['train', 'test'], loc='upper left')\n",
        "plt.show()"
      ]
    },
    {
      "cell_type": "code",
      "execution_count": null,
      "metadata": {
        "_cell_guid": "6060cdf0-cba4-0bd9-b0ee-d75dd15f0462"
      },
      "outputs": [],
      "source": [
        "## read test file\n",
        "test = pd.read_csv('../input/test.csv')\n",
        "index = test.pop('id')\n",
        "\n",
        "## we need to perform the same transformations from the training set to the test set\n",
        "test = preprocessing.MinMaxScaler().fit(test).transform(test)\n",
        "test = StandardScaler().fit(test).transform(test)\n",
        "yPred = model.predict_proba(test)"
      ]
    },
    {
      "cell_type": "code",
      "execution_count": null,
      "metadata": {
        "_cell_guid": "5c52f1c2-ecfa-f3a3-f3b3-5fa0197995d0"
      },
      "outputs": [],
      "source": [
        "## Converting the test predictions in a dataframe as depicted by sample submission\n",
        "yPred = pd.DataFrame(yPred,index=index,columns=sort(parent_data.species.unique()))"
      ]
    },
    {
      "cell_type": "code",
      "execution_count": null,
      "metadata": {
        "_cell_guid": "fe58a1d0-7e94-24df-ceb8-0ef876379677"
      },
      "outputs": [],
      "source": [
        "## write submission to file\n",
        "fp = open('submission_nn_kernel.csv','w')\n",
        "fp.write(yPred.to_csv())\n",
        "\n",
        "## print run time\n",
        "end = time.time()\n",
        "print(round((end-start),2), \"seconds\")"
      ]
    },
    {
      "cell_type": "markdown",
      "metadata": {
        "_cell_guid": "10bf679e-a4e5-72ac-e7a6-f0652a4a3891"
      },
      "source": [
        "---------\n",
        "\n",
        "Earlier` we used a 4 layer network but the result came out to be overfitting the test set. We dropped the count of neurones in the network and also restricted the number of layers to 3 so as to keep it simple.\n",
        "Instead of submitting each test sample as a one hot vector we submitted each samples as a probabilistic distribution over all the possible outcomes. This \"may\" help reduce the penalty being exercised by the multiclass logloss thus producing low error on the leaderboard! ;)\n",
        "Any suggestions are welcome!"
      ]
    },
    {
      "cell_type": "code",
      "execution_count": null,
      "metadata": {
        "_cell_guid": "dfe70334-1f60-e1c6-6ca8-90ebe626a5af"
      },
      "outputs": [],
      "source": [
        ""
      ]
    }
  ],
  "metadata": {
    "_change_revision": 0,
    "_is_fork": false,
    "kernelspec": {
      "display_name": "Python 3",
      "language": "python",
      "name": "python3"
    },
    "language_info": {
      "codemirror_mode": {
        "name": "ipython",
        "version": 3
      },
      "file_extension": ".py",
      "mimetype": "text/x-python",
      "name": "python",
      "nbconvert_exporter": "python",
      "pygments_lexer": "ipython3",
      "version": "3.6.0"
    }
  },
  "nbformat": 4,
  "nbformat_minor": 0
}