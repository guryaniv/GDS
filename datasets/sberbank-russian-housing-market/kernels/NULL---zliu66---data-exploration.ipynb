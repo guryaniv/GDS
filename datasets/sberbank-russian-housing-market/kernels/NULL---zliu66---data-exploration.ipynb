{
  "cells": [
    {
      "cell_type": "markdown",
      "metadata": {
        "_cell_guid": "4f6efbe0-1afa-f1bb-0490-461ad661d162"
      },
      "source": [
        ""
      ]
    },
    {
      "cell_type": "code",
      "execution_count": null,
      "metadata": {
        "_cell_guid": "23096c6b-9602-e026-5c5a-0347bf2b94b7"
      },
      "outputs": [],
      "source": [
        "import numpy as np # linear algebra\n",
        "import pandas as pd # data processing, CSV file I/O (e.g. pd.read_csv)\n",
        "from sklearn import linear_model\n",
        "import matplotlib.pyplot as plt\n",
        "from sklearn.utils import shuffle\n",
        "from sklearn.model_selection import GridSearchCV\n",
        "import seaborn as sns\n",
        "\n",
        "from sklearn.model_selection import train_test_split\n",
        "from sklearn import neural_network\n",
        "from sklearn import preprocessing\n",
        "from sklearn import svm\n",
        "from sklearn import metrics\n",
        "from sklearn import tree\n",
        "\n",
        "# Input data files are available in the \"input/\" directory.\n",
        "# For example, running this (by clicking run or pressing Shift+Enter) will list the files in the input directory\n",
        "\n",
        "\n",
        "%matplotlib inline\n",
        "plt.rcParams['figure.figsize'] = (10.0, 8.0) # set default size of plots\n",
        "plt.rcParams['image.interpolation'] = 'nearest'\n",
        "plt.rcParams['image.cmap'] = 'gray'\n",
        "\n",
        "%load_ext autoreload\n",
        "%autoreload 2\n",
        "\n",
        "# list all the input file"
      ]
    },
    {
      "cell_type": "code",
      "execution_count": null,
      "metadata": {
        "_cell_guid": "669988d3-a222-1c49-065a-86c840a0cc81",
        "collapsed": true
      },
      "outputs": [],
      "source": [
        ""
      ]
    },
    {
      "cell_type": "code",
      "execution_count": null,
      "metadata": {
        "_cell_guid": "ad451a6c-88b2-87e5-2d41-3254368f68ca"
      },
      "outputs": [],
      "source": [
        "# Load the training data\n",
        "\n",
        "data_dir = '../input/'\n",
        "Realty = pd.read_csv(data_dir + 'train.csv')\n",
        "Realty['timestamp'] = pd.to_datetime(Realty['timestamp'])\n",
        "Realty.set_index('id', inplace = True)\n",
        "Macro = pd.read_csv(data_dir + 'macro.csv')\n",
        "Macro['timestamp'] = pd.to_datetime(Macro['timestamp'])\n",
        "Macro.set_index('timestamp', inplace = True)"
      ]
    },
    {
      "cell_type": "code",
      "execution_count": null,
      "metadata": {
        "_cell_guid": "6af6b2ae-b873-650b-4bef-57f5b6e6ee09"
      },
      "outputs": [],
      "source": [
        "RealtyMacro = pd.concat([Realty.reset_index(), Macro.loc[Realty['timestamp']].reset_index().drop('timestamp', axis = 1)], axis = 1)"
      ]
    },
    {
      "cell_type": "code",
      "execution_count": null,
      "metadata": {
        "_cell_guid": "1d7654a7-5827-9bc2-4702-c6217189ff46"
      },
      "outputs": [],
      "source": [
        "FontSize = 20\n",
        "FigSize = (20, 10)\n",
        "fig, RealtyScatter= plt.subplots(figsize=(10, 10))\n",
        "\n",
        "RealtyScatter.scatter(Realty['full_sq'], Realty['price_doc'])\n",
        " \n",
        "    \n",
        "RealtyScatter.legend(fontsize = FontSize)\n",
        "RealtyScatter.set_xlabel('Apartment area', color = 'k', fontsize = FontSize)\n",
        "RealtyScatter.set_ylabel('Price', color = 'k', fontsize = FontSize)\n",
        "RealtyScatter.set_title('House Price vs. Apartment Area Scatter Plot', fontsize = FontSize)\n",
        "\n",
        "RealtyScatter.spines['bottom'].set_color('k')\n",
        "RealtyScatter.spines['left'].set_color('k')\n",
        "\n",
        "RealtyScatter.tick_params('x', colors = 'k', labelsize = FontSize)\n",
        "RealtyScatter.tick_params('y', colors = 'k', labelsize = FontSize)\n",
        "\n",
        "# RealtyScatter.set_xlim([0, 1000])\n",
        "# RealtyScatter.set_ylim([-1000, 1000])"
      ]
    },
    {
      "cell_type": "code",
      "execution_count": null,
      "metadata": {
        "_cell_guid": "d06e3108-daaf-ad3c-5324-3d95f07956e7"
      },
      "outputs": [],
      "source": [
        "fig2, RealtyScatter2= plt.subplots(figsize=(10, 10))\n",
        "\n",
        "RealtyScatter2.scatter(Realty['life_sq'], Realty['price_doc'])\n",
        " \n",
        "    \n",
        "RealtyScatter2.legend(fontsize = FontSize)\n",
        "RealtyScatter2.set_xlabel('Living room area', color = 'k', fontsize = FontSize)\n",
        "RealtyScatter2.set_ylabel('Price', color = 'k', fontsize = FontSize)\n",
        "RealtyScatter2.set_title('House Price vs. Leaving Room Area Scatter Plot', fontsize = FontSize)\n",
        "\n",
        "RealtyScatter2.spines['bottom'].set_color('k')\n",
        "RealtyScatter2.spines['left'].set_color('k')\n",
        "\n",
        "RealtyScatter2.tick_params('x', colors = 'k', labelsize = FontSize)\n",
        "RealtyScatter2.tick_params('y', colors = 'k', labelsize = FontSize)\n",
        "\n",
        "# RealtyScatter2.set_xlim([0, 200])\n",
        "# RealtyScatter.set_ylim([-1000, 1000])\n"
      ]
    },
    {
      "cell_type": "code",
      "execution_count": null,
      "metadata": {
        "_cell_guid": "aa9a86e2-29ec-9725-3084-6b97fc02d67d"
      },
      "outputs": [],
      "source": [
        "fig2, RealtyScatter3= plt.subplots(figsize=(10, 10))\n",
        "\n",
        "RealtyScatter3.scatter(Realty['floor'], Realty['max_floor'])\n",
        "RealtyScatter3.legend(fontsize = FontSize)\n",
        "RealtyScatter3.set_xlabel('Floorr #', color = 'k', fontsize = FontSize)\n",
        "RealtyScatter3.set_ylabel('Building floor #', color = 'k', fontsize = FontSize)\n",
        "RealtyScatter3.set_title('Floor # vs. Building Floor #', fontsize = FontSize)\n",
        "\n",
        "RealtyScatter3.spines['bottom'].set_color('k')\n",
        "RealtyScatter3.spines['left'].set_color('k')\n",
        "\n",
        "RealtyScatter3.tick_params('x', colors = 'k', labelsize = FontSize)\n",
        "RealtyScatter3.tick_params('y', colors = 'k', labelsize = FontSize)\n",
        "\n",
        "# RealtyScatter2.set_xlim([0, 200])\n",
        "# RealtyScatter.set_ylim([-1000, 1000]) "
      ]
    },
    {
      "cell_type": "code",
      "execution_count": null,
      "metadata": {
        "_cell_guid": "9e7e5734-8a16-3f54-ad53-8f5e4eefd390"
      },
      "outputs": [],
      "source": [
        "f, ax = plt.subplots(figsize=(10,10))\n",
        "\n",
        "# Generate a custom diverging colormap\n",
        "cmap = sns.diverging_palette(220, 10, as_cmap=True)\n",
        "\n",
        "corr = Realty.loc[:,['full_sq', 'life_sq', 'floor', 'max_floor', 'build_year', 'num_room', \n",
        "                     'kitch_sq', 'state', 'price_doc']].corr()\n",
        "# Draw the heatmap with the mask and correct aspect ratio\n",
        "sns.heatmap(corr, cmap=cmap,\n",
        "            square=True, linewidths=.5, cbar_kws={\"shrink\": .5}, ax=ax)\n",
        "\n",
        "ax.tick_params('x', colors='k', labelsize = 13)\n",
        "ax.tick_params('y', colors='k', labelsize = 13)"
      ]
    },
    {
      "cell_type": "code",
      "execution_count": null,
      "metadata": {
        "_cell_guid": "67c60e2d-6f8a-9a11-104e-f87a92fee926"
      },
      "outputs": [],
      "source": [
        "f1, ax1 = plt.subplots(figsize=(10,10))\n",
        "\n",
        "# Generate a custom diverging colormap\n",
        "cmap = sns.diverging_palette(220, 10, as_cmap=True)\n",
        "\n",
        "corr1 = Realty.loc[:,['area_m', 'raion_popul', 'full_all', 'male_f', 'female_f',\n",
        "                     'young_all', 'young_female', 'work_all', 'work_male', 'work_female', 'price_doc']].corr()\n",
        "# Draw the heatmap with the mask and correct aspect ratio\n",
        "sns.heatmap(corr1, cmap=cmap,\n",
        "            square=True, linewidths=.5, cbar_kws={\"shrink\": .5}, ax=ax1)\n",
        "\n",
        "ax1.tick_params('x', colors='k', labelsize = 13)\n",
        "ax1.tick_params('y', colors='k', labelsize = 13)"
      ]
    },
    {
      "cell_type": "code",
      "execution_count": null,
      "metadata": {
        "_cell_guid": "9788b078-c676-bd7a-7058-41d9a4ef2007"
      },
      "outputs": [],
      "source": [
        "f2, ax2 = plt.subplots(figsize=(10,10))\n",
        "\n",
        "# Generate a custom diverging colormap\n",
        "cmap = sns.diverging_palette(220, 10, as_cmap=True)\n",
        "\n",
        "corr2 = Realty.loc[:,['children_preschool', 'preschool_quota', 'preschool_education_centers_raion',\n",
        "                     'children_school', 'school_quota', 'school_education_centers_raion', \n",
        "                     'school_education_centers_top_20_raion', 'university_top_20_raion',\n",
        "                     'additional_education_raion','price_doc']].corr()\n",
        "# Draw the heatmap with the mask and correct aspect ratio\n",
        "sns.heatmap(corr2, cmap=cmap,\n",
        "            square=True, linewidths=.5, cbar_kws={\"shrink\": .5}, ax=ax2)\n",
        "ax2.tick_params('both', colors='k',labelsize = 13)"
      ]
    },
    {
      "cell_type": "code",
      "execution_count": null,
      "metadata": {
        "_cell_guid": "21280731-94a4-ae93-2d0a-94d4841322d0"
      },
      "outputs": [],
      "source": [
        "f3, ax3 = plt.subplots(figsize=(10,10))\n",
        "\n",
        "# Generate a custom diverging colormap\n",
        "cmap = sns.diverging_palette(220, 10, as_cmap=True)\n",
        "\n",
        "corr3 = Realty.loc[:,['sport_objects_raion', 'culture_objects_top_25_raion', 'shopping_centers_raion', \n",
        "                      'park_km', 'fitness_km', 'swim_pool_km', 'ice_rink_km','stadium_km', 'basketball_km', \n",
        "                      'shopping_centers_km', 'big_church_km','church_synagogue_km', 'mosque_km', 'theater_km',\n",
        "                      'museum_km', 'exhibition_km', 'catering_km', 'price_doc']].corr()\n",
        "# Draw the heatmap with the mask and correct aspect ratio\n",
        "sns.heatmap(corr3, cmap=cmap,\n",
        "            square=True, linewidths=.5, cbar_kws={\"shrink\": .5}, ax=ax3)\n",
        "ax3.tick_params('both', colors='k',labelsize = 13)"
      ]
    },
    {
      "cell_type": "code",
      "execution_count": null,
      "metadata": {
        "_cell_guid": "4c0d0bea-fe53-01fb-40cd-c5e3fccb1e30"
      },
      "outputs": [],
      "source": [
        "f4, ax4 = plt.subplots(figsize=(10,10))\n",
        "\n",
        "# Generate a custom diverging colormap\n",
        "cmap = sns.diverging_palette(220, 10, as_cmap=True)\n",
        "\n",
        "corr4 = Realty.loc[:,['thermal_power_plant_km', 'incineration_km', 'water_treatment_km', 'incineration_km',\n",
        "                      'railroad_station_walk_km', 'railroad_station_walk_min', 'railroad_station_avto_km',\n",
        "                      'railroad_station_avto_min', 'public_transport_station_km', \n",
        "                      'public_transport_station_min_walk', 'water_km', 'mkad_km', 'ttk_km', 'sadovoe_km',\n",
        "                      'bulvar_ring_km', 'kremlin_km', 'price_doc']].corr()\n",
        "# Draw the heatmap with the mask and correct aspect ratio\n",
        "sns.heatmap(corr4, cmap=cmap,\n",
        "            square=True, linewidths=.5, cbar_kws={\"shrink\": .5}, ax=ax4)\n",
        "ax4.tick_params('both', colors='k',labelsize = 13)"
      ]
    },
    {
      "cell_type": "code",
      "execution_count": null,
      "metadata": {
        "_cell_guid": "a68a7240-2769-2f59-8271-e899d9aee2c5"
      },
      "outputs": [],
      "source": [
        "RealtyYear = Realty.groupby(Realty['timestamp'].apply(lambda x: x.year)).mean()\n",
        "# RealtyYear = Realty.groupby(Realty['timestamp'].apply(lambda x: x.to_period('Y'))).mean()\n",
        "\n",
        "\n",
        "fig11, YearPlot= plt.subplots(figsize=(10, 8))\n",
        "YearPlot.plot(RealtyYear.index, RealtyYear['price_doc'], marker = 'o', markersize = '12', fillstyle='full')\n",
        "\n",
        "\n",
        "YearPlot.set_xlabel('Year', color = 'k', fontsize = FontSize)\n",
        "YearPlot.set_ylabel('Price', color = 'k', fontsize = FontSize)\n",
        "YearPlot.set_title('House Price vs. Year', fontsize = FontSize)\n",
        "\n",
        "YearPlot.spines['bottom'].set_color('k')\n",
        "YearPlot.spines['left'].set_color('k')\n",
        "\n",
        "YearPlot.tick_params('x', colors = 'k', labelsize = FontSize)\n",
        "YearPlot.tick_params('y', colors = 'k', labelsize = FontSize)\n",
        "\n",
        "# RealtyScatter2.set_xlim([0, 200])\n",
        "# RealtyScatter.set_ylim([-1000, 1000])"
      ]
    },
    {
      "cell_type": "code",
      "execution_count": null,
      "metadata": {
        "_cell_guid": "a1fe9c89-4df2-8fc0-2b00-f46ebbb9daa1"
      },
      "outputs": [],
      "source": [
        "RealtyMonth = Realty.groupby(Realty['timestamp'].apply(lambda x: x.to_period('M'))).mean()\n",
        "fig12, MonthPlot= plt.subplots(figsize=(10, 8))\n",
        "MonthPlot.plot(RealtyMonth.index.to_timestamp(), RealtyMonth['price_doc'],marker = 'o')\n",
        "MonthPlot.set_xlabel('Year-Month', color = 'k', fontsize = FontSize)\n",
        "MonthPlot.set_ylabel('Price', color = 'k', fontsize = FontSize)\n",
        "MonthPlot.set_title('House Price vs. Year-Month', fontsize = FontSize)\n",
        "\n",
        "MonthPlot.spines['bottom'].set_color('k')\n",
        "MonthPlot.spines['left'].set_color('k')\n",
        "\n",
        "MonthPlot.tick_params('x', colors = 'k', labelsize = 13)\n",
        "MonthPlot.tick_params('y', colors = 'k', labelsize = FontSize)"
      ]
    },
    {
      "cell_type": "code",
      "execution_count": null,
      "metadata": {
        "_cell_guid": "16ee6de8-f142-d440-eb51-8ad4a5b2ea60"
      },
      "outputs": [],
      "source": [
        "RealtyDay = Realty.groupby(Realty['timestamp'].apply(lambda x: x.to_period('D'))).mean()\n",
        "fig13, DayPlot= plt.subplots(figsize=(10, 8))\n",
        "DayPlot.plot(RealtyDay.index.to_timestamp(), RealtyDay['price_doc'])\n",
        "\n",
        "DayPlot.set_xlabel('Year-Month-Day', color = 'k', fontsize = FontSize)\n",
        "DayPlot.set_ylabel('Price', color = 'k', fontsize = FontSize)\n",
        "DayPlot.set_title('House Price vs. Year-Month-Day', fontsize = FontSize)\n",
        "\n",
        "DayPlot.spines['bottom'].set_color('k')\n",
        "DayPlot.spines['left'].set_color('k')\n",
        "\n",
        "DayPlot.tick_params('x', colors = 'k', labelsize = 13)\n",
        "DayPlot.tick_params('y', colors = 'k', labelsize = FontSize)"
      ]
    },
    {
      "cell_type": "code",
      "execution_count": null,
      "metadata": {
        "_cell_guid": "18d6bc3e-79f9-e1e0-e7c4-562fff57a0f4"
      },
      "outputs": [],
      "source": [
        "RealtyMonthAvg = Realty.groupby(Realty['timestamp'].apply(lambda x: x.month)).mean()\n",
        "RealtyMonthStd = Realty.groupby(Realty['timestamp'].apply(lambda x: x.month)).std()\n",
        "fig14, MonthAPlot= plt.subplots(figsize=(10, 8))\n",
        "MonthAPlot.plot(RealtyMonthAvg.index, RealtyMonthAvg['price_doc'], marker = 'o', markersize = '12', fillstyle='full')\n",
        "#MonthAPlot.fill_between(RealtyMonthAvg.index, RealtyMonthAvg['price_doc'] + RealtyMonthStd['price_doc'], \n",
        "#                      RealtyMonthAvg['price_doc'] - RealtyMonthStd['price_doc'], facecolor = 'r', \n",
        "#                      alpha = 0.4)\n",
        "\n",
        "\n",
        "MonthAPlot.set_xlabel('Month', color = 'k', fontsize = FontSize)\n",
        "MonthAPlot.set_ylabel('Price', color = 'k', fontsize = FontSize)\n",
        "MonthAPlot.set_title('House Price vs. Month', fontsize = FontSize)\n",
        "\n",
        "MonthAPlot.spines['bottom'].set_color('k')\n",
        "MonthAPlot.spines['left'].set_color('k')\n",
        "\n",
        "MonthAPlot.tick_params('x', colors = 'k', labelsize = FontSize)\n",
        "MonthAPlot.tick_params('y', colors = 'k', labelsize = FontSize)"
      ]
    },
    {
      "cell_type": "code",
      "execution_count": null,
      "metadata": {
        "_cell_guid": "b13a982c-bdbc-21b4-bce2-e6e34e1a480e"
      },
      "outputs": [],
      "source": [
        ""
      ]
    },
    {
      "cell_type": "code",
      "execution_count": null,
      "metadata": {
        "_cell_guid": "8a573540-20d1-0476-0e70-0cc1f01ba020"
      },
      "outputs": [],
      "source": [
        "fig2, RealtyScatter4 = plt.subplots(figsize=(10, 10))\n",
        "\n",
        "\n",
        " \n",
        "RealtyScatter4.scatter(Macro.loc[RealtyDay.index.to_timestamp()]['oil_urals'], RealtyDay['price_doc'] )\n",
        "    \n",
        "    \n",
        "RealtyScatter4.legend(fontsize = FontSize)\n",
        "RealtyScatter4.set_xlabel('Crude oil price', color = 'k', fontsize = FontSize)\n",
        "RealtyScatter4.set_ylabel('Average Daily Realty Price', color = 'k', fontsize = FontSize)\n",
        "RealtyScatter4.set_title('House Price Scatter Plot', fontsize = FontSize)\n",
        "\n",
        "RealtyScatter4.spines['bottom'].set_color('k')\n",
        "RealtyScatter4.spines['left'].set_color('k')\n",
        "\n",
        "RealtyScatter4.tick_params('x', colors = 'k', labelsize = FontSize)\n",
        "RealtyScatter4.tick_params('y', colors = 'k', labelsize = FontSize)\n"
      ]
    },
    {
      "cell_type": "code",
      "execution_count": null,
      "metadata": {
        "_cell_guid": "2b47e002-43bb-f63a-24a5-f9a89e3e21b3"
      },
      "outputs": [],
      "source": [
        "f5, ax5 = plt.subplots(figsize=(10,10))\n",
        "\n",
        "# Generate a custom diverging colormap\n",
        "cmap = sns.diverging_palette(220, 10, as_cmap=True)\n",
        "\n",
        "corr5 = RealtyMacro.loc[:,['oil_urals', 'brent', 'gdp_quart', 'gdp_quart_growth', 'gdp_annual', 'gdp_annual_growth',\n",
        "                           'cpi', 'ppi', 'gdp_deflator', 'balance_trade', 'balance_trade_growth', 'usdrub', 'eurrub',\n",
        "                           'net_capital_export',  'average_provision_of_build_contract',\n",
        "                           'average_provision_of_build_contract_moscow', 'price_doc']].corr()\n",
        "# Draw the heatmap with the mask and correct aspect ratio\n",
        "sns.heatmap(corr5, cmap=cmap,\n",
        "            square=True, linewidths=.5, cbar_kws={\"shrink\": .5}, ax=ax5)\n",
        "ax5.tick_params('both', colors='k',labelsize = 13)"
      ]
    },
    {
      "cell_type": "code",
      "execution_count": null,
      "metadata": {
        "_cell_guid": "64fbdcae-46ff-9c98-3747-597b6bf5ab14"
      },
      "outputs": [],
      "source": [
        "f6, ax6 = plt.subplots(figsize=(10,10))\n",
        "\n",
        "# Generate a custom diverging colormap\n",
        "cmap = sns.diverging_palette(220, 10, as_cmap=True)\n",
        "\n",
        "corr6 = RealtyMacro.loc[:,['brent',\n",
        "                           'rts', 'micex', 'micex_rgbi_tr', 'micex_cbi_tr', 'deposits_value', 'deposits_growth',\n",
        "                           'deposits_rate', 'mortgage_value', 'mortgage_growth', 'mortgage_rate', 'grp', 'grp_growth', \n",
        "                           'income_per_cap', 'real_dispos_income_per_cap_growth',  'salary', 'salary_growth', 'fixed_basket',\n",
        "                           'price_doc']].corr()\n",
        "# Draw the heatmap with the mask and correct aspect ratio\n",
        "sns.heatmap(corr6, cmap=cmap,\n",
        "            square=True, linewidths=.5, cbar_kws={\"shrink\": .5}, ax=ax6)\n",
        "ax6.tick_params('both', colors='k',labelsize = 13)"
      ]
    },
    {
      "cell_type": "code",
      "execution_count": null,
      "metadata": {
        "_cell_guid": "0d072cc1-8962-e410-68f4-c431d0169853"
      },
      "outputs": [],
      "source": [
        "f7, ax7 = plt.subplots(figsize=(10,10))\n",
        "\n",
        "# Generate a custom diverging colormap\n",
        "cmap = sns.diverging_palette(220, 10, as_cmap=True)\n",
        "\n",
        "corr7 = RealtyMacro.loc[:,['brent',\n",
        "                           'retail_trade_turnover', 'retail_trade_turnover_per_cap', 'retail_trade_turnover_growth', \n",
        "                           'labor_force', 'unemployment', 'employment', 'invest_fixed_capital_per_cap', 'invest_fixed_assets', \n",
        "                           'profitable_enterpr_share', 'unprofitable_enterpr_share', 'share_own_revenues', 'overdue_wages_per_cap',\n",
        "                           'fin_res_per_cap', 'marriages_per_1000_cap', 'divorce_rate', 'construction_value', \n",
        "                           'price_doc']].corr()\n",
        "# Draw the heatmap with the mask and correct aspect ratio\n",
        "sns.heatmap(corr7, cmap=cmap,\n",
        "            square=True, linewidths=.5, cbar_kws={\"shrink\": .5}, ax=ax7)\n",
        "ax7.tick_params('both', colors='k',labelsize = 13)"
      ]
    },
    {
      "cell_type": "code",
      "execution_count": null,
      "metadata": {
        "_cell_guid": "d6e7acac-40ac-1cad-e080-c3467600258a"
      },
      "outputs": [],
      "source": [
        "fig21, RealtyScatter21 = plt.subplots(figsize=(10, 10))\n",
        "\n",
        "\n",
        " \n",
        "RealtyScatter21.scatter(Macro['unemployment'], Macro['employment'] )\n",
        "    \n",
        "    \n",
        "RealtyScatter21.set_xlabel('unemployment', color = 'k', fontsize = FontSize)\n",
        "RealtyScatter21.set_ylabel('employment', color = 'k', fontsize = FontSize)\n",
        "RealtyScatter21.set_title('unemployment vs. employment', fontsize = FontSize)\n",
        "\n",
        "RealtyScatter21.spines['bottom'].set_color('k')\n",
        "RealtyScatter21.spines['left'].set_color('k')\n",
        "\n",
        "RealtyScatter21.tick_params('x', colors = 'k', labelsize = FontSize)\n",
        "RealtyScatter21.tick_params('y', colors = 'k', labelsize = FontSize)"
      ]
    },
    {
      "cell_type": "code",
      "execution_count": null,
      "metadata": {
        "_cell_guid": "efb6110e-9a54-4545-664d-1211c4fa684e"
      },
      "outputs": [],
      "source": [
        "fig31, EmploymentPlot= plt.subplots(figsize=(10, 8))\n",
        "EmploymentPlot.plot(Macro.index, Macro['employment'])\n",
        "\n",
        "\n",
        "\n",
        "EmploymentPlot.set_xlabel('Time', color = 'k', fontsize = FontSize)\n",
        "EmploymentPlot.set_ylabel('Employment', color = 'k', fontsize = FontSize)\n",
        "\n",
        "\n",
        "EmploymentPlot.spines['bottom'].set_color('k')\n",
        "EmploymentPlot.spines['left'].set_color('k')\n",
        "\n",
        "EmploymentPlot.tick_params('x', colors = 'k', labelsize = FontSize)\n",
        "EmploymentPlot.tick_params('y', colors = 'k', labelsize = FontSize)"
      ]
    },
    {
      "cell_type": "code",
      "execution_count": null,
      "metadata": {
        "_cell_guid": "ee707d20-5c9d-fdc2-d890-114a5ea71619"
      },
      "outputs": [],
      "source": [
        "fig32, UnemploymentPlot= plt.subplots(figsize=(10, 8))\n",
        "UnemploymentPlot.plot(Macro.index, Macro['unemployment'])\n",
        "\n",
        "\n",
        "\n",
        "UnemploymentPlot.set_xlabel('Time', color = 'k', fontsize = FontSize)\n",
        "UnemploymentPlot.set_ylabel('Employment', color = 'k', fontsize = FontSize)\n",
        "\n",
        "\n",
        "UnemploymentPlot.spines['bottom'].set_color('k')\n",
        "UnemploymentPlot.spines['left'].set_color('k')\n",
        "\n",
        "UnemploymentPlot.tick_params('x', colors = 'k', labelsize = FontSize)\n",
        "UnemploymentPlot.tick_params('y', colors = 'k', labelsize = FontSize)"
      ]
    },
    {
      "cell_type": "code",
      "execution_count": null,
      "metadata": {
        "_cell_guid": "b559f2e3-3bc8-26cb-d972-7b9f61ef2dd0"
      },
      "outputs": [],
      "source": [
        "fig33, LaborForcePlot= plt.subplots(figsize=(10, 8))\n",
        "LaborForcePlot.plot(Macro.index, Macro['labor_force'])\n",
        "\n",
        "\n",
        "\n",
        "LaborForcePlot.set_xlabel('Time', color = 'k', fontsize = FontSize)\n",
        "LaborForcePlot.set_ylabel('Labor force size', color = 'k', fontsize = FontSize)\n",
        "\n",
        "\n",
        "LaborForcePlot.spines['bottom'].set_color('k')\n",
        "LaborForcePlot.spines['left'].set_color('k')\n",
        "\n",
        "LaborForcePlot.tick_params('x', colors = 'k', labelsize = FontSize)\n",
        "LaborForcePlot.tick_params('y', colors = 'k', labelsize = FontSize)"
      ]
    },
    {
      "cell_type": "code",
      "execution_count": null,
      "metadata": {
        "_cell_guid": "be83540d-6ccc-22cb-2792-ffc219d2896b"
      },
      "outputs": [],
      "source": [
        "fig34, CrudeOilPricePlot= plt.subplots(figsize=(10, 8))\n",
        "CrudeOilPricePlot.plot(Macro.index, Macro['oil_urals'])\n",
        "\n",
        "\n",
        "\n",
        "CrudeOilPricePlot.set_xlabel('Time', color = 'k', fontsize = FontSize)\n",
        "CrudeOilPricePlot.set_ylabel('Crude Oil Urals ($/bbl)', color = 'k', fontsize = FontSize)\n",
        "\n",
        "\n",
        "CrudeOilPricePlot.spines['bottom'].set_color('k')\n",
        "CrudeOilPricePlot.spines['left'].set_color('k')\n",
        "\n",
        "CrudeOilPricePlot.tick_params('x', colors = 'k', labelsize = FontSize)\n",
        "CrudeOilPricePlot.tick_params('y', colors = 'k', labelsize = FontSize)"
      ]
    },
    {
      "cell_type": "code",
      "execution_count": null,
      "metadata": {
        "_cell_guid": "c98ed447-4115-5151-31e0-cea7d921d628"
      },
      "outputs": [],
      "source": [
        "fig34, CrudeOilPricePlot= plt.subplots(figsize=(10, 8))\n",
        "CrudeOilPricePlot.plot(Macro.index, Macro['brent'])\n",
        "\n",
        "\n",
        "CrudeOilPricePlot.set_xlabel('Time', color = 'k', fontsize = FontSize)\n",
        "CrudeOilPricePlot.set_ylabel('London Brent ($/bbl)', color = 'k', fontsize = FontSize)\n",
        "\n",
        "\n",
        "CrudeOilPricePlot.spines['bottom'].set_color('k')\n",
        "CrudeOilPricePlot.spines['left'].set_color('k')\n",
        "\n",
        "CrudeOilPricePlot.tick_params('x', colors = 'k', labelsize = FontSize)\n",
        "CrudeOilPricePlot.tick_params('y', colors = 'k', labelsize = FontSize)"
      ]
    },
    {
      "cell_type": "code",
      "execution_count": null,
      "metadata": {
        "_cell_guid": "c8a93de5-0206-ca3d-6ec6-f692d18a1162"
      },
      "outputs": [],
      "source": [
        "fig35, CrudeOilPrice2= plt.subplots(figsize=(10, 8))\n",
        "GDP_Quarter_Growth =  CrudeOilPrice2.twinx()\n",
        "\n",
        "CrudeOilPrice2.plot(Macro.index, Macro['brent'], 'r--', label = 'London Brent')\n",
        "GDP_Quarter_Growth.plot(Macro.index, Macro['gdp_quart_growth'], 'b-', label = 'Real GDP growth quarter')\n",
        "\n",
        "CrudeOilPrice2.set_xlabel('Time', color = 'k', fontsize = FontSize)\n",
        "CrudeOilPrice2.set_ylabel('London Brent ($/bbl)', color = 'r', fontsize = FontSize)\n",
        "GDP_Quarter_Growth.set_ylabel('Real GDP growth quarter', color = 'b', fontsize = FontSize)\n",
        "\n",
        "CrudeOilPrice2.spines['bottom'].set_color('k')\n",
        "CrudeOilPrice2.spines['left'].set_color('r')\n",
        "GDP_Quarter_Growth.spines['right'].set_color('b')\n",
        "\n",
        "CrudeOilPrice2.tick_params('x', colors = 'k', labelsize = FontSize)\n",
        "CrudeOilPrice2.tick_params('y', colors = 'r', labelsize = FontSize)\n",
        "GDP_Quarter_Growth.tick_params('y', colors = 'b', labelsize = FontSize)\n",
        "\n",
        "lines, labels = CrudeOilPrice2.get_legend_handles_labels()\n",
        "lines2, labels2 = GDP_Quarter_Growth.get_legend_handles_labels()\n",
        "CrudeOilPrice2.legend(lines + lines2, labels + labels2, loc=3, fontsize = FontSize)"
      ]
    },
    {
      "cell_type": "code",
      "execution_count": null,
      "metadata": {
        "_cell_guid": "2fad63f7-3a69-57a1-4768-d5126d62d8e1"
      },
      "outputs": [],
      "source": [
        "fig36, CrudeOilPrice3= plt.subplots(figsize=(10, 8))\n",
        "CPI =  CrudeOilPrice3.twinx()\n",
        "\n",
        "CrudeOilPrice3.plot(Macro.index, Macro['brent'], 'r--', label = 'London Brent')\n",
        "CPI.plot(Macro.index, Macro['cpi'], 'b-', label = 'CPI')\n",
        "\n",
        "CrudeOilPrice3.set_xlabel('Time', color = 'k', fontsize = FontSize)\n",
        "CrudeOilPrice3.set_ylabel('London Brent ($/bbl)', color = 'r', fontsize = FontSize)\n",
        "CPI.set_ylabel('CPI', color = 'b', fontsize = FontSize)\n",
        "\n",
        "CrudeOilPrice3.spines['bottom'].set_color('k')\n",
        "CrudeOilPrice3.spines['left'].set_color('r')\n",
        "CPI.spines['right'].set_color('b')\n",
        "\n",
        "CrudeOilPrice3.tick_params('x', colors = 'k', labelsize = FontSize)\n",
        "CrudeOilPrice3.tick_params('y', colors = 'r', labelsize = FontSize)\n",
        "CPI.tick_params('y', colors = 'b', labelsize = FontSize)\n",
        "\n",
        "lines, labels = CrudeOilPrice3.get_legend_handles_labels()\n",
        "lines2, labels2 = CPI.get_legend_handles_labels()\n",
        "CrudeOilPrice3.legend(lines + lines2, labels + labels2, loc=3, fontsize = FontSize)"
      ]
    },
    {
      "cell_type": "code",
      "execution_count": null,
      "metadata": {
        "_cell_guid": "438fd37c-7511-912f-c59a-c2dfe0ae00d9"
      },
      "outputs": [],
      "source": [
        "fig37, CrudeOilPrice4= plt.subplots(figsize=(10, 8))\n",
        "PPI =  CrudeOilPrice4.twinx()\n",
        "\n",
        "CrudeOilPrice4.plot(Macro.index, Macro['brent'], 'r--', label = 'London Brent')\n",
        "PPI.plot(Macro.index, Macro['ppi'], 'b-', label = 'Real GDP growth quarter')\n",
        "\n",
        "CrudeOilPrice4.set_xlabel('Time', color = 'k', fontsize = FontSize)\n",
        "CrudeOilPrice4.set_ylabel('London Brent ($/bbl)', color = 'r', fontsize = FontSize)\n",
        "PPI.set_ylabel('PPI', color = 'b', fontsize = FontSize)\n",
        "\n",
        "CrudeOilPrice4.spines['bottom'].set_color('k')\n",
        "CrudeOilPrice4.spines['left'].set_color('r')\n",
        "GDP_Quarter_Growth.spines['right'].set_color('b')\n",
        "\n",
        "CrudeOilPrice4.tick_params('x', colors = 'k', labelsize = FontSize)\n",
        "CrudeOilPrice4.tick_params('y', colors = 'r', labelsize = FontSize)\n",
        "PPI.tick_params('y', colors = 'b', labelsize = FontSize)\n",
        "\n",
        "lines, labels = CrudeOilPrice4.get_legend_handles_labels()\n",
        "lines2, labels2 = PPI.get_legend_handles_labels()\n",
        "CrudeOilPrice4.legend(lines + lines2, labels + labels2, loc=3, fontsize = FontSize)"
      ]
    },
    {
      "cell_type": "code",
      "execution_count": null,
      "metadata": {
        "_cell_guid": "5fbee677-f1c3-6593-4bab-2dc88561a757"
      },
      "outputs": [],
      "source": [
        "fig38, CPIPPI= plt.subplots(figsize=(10, 8))\n",
        "\n",
        "\n",
        "CPIPPI.plot(Macro.index, Macro['cpi'], 'r--', label = 'CPI')\n",
        "CPIPPI.plot(Macro.index, Macro['ppi'], 'b-', label = 'PPI')\n",
        "\n",
        "CPIPPI.set_xlabel('Time', color = 'k', fontsize = FontSize)\n",
        "CPIPPI.set_ylabel('PI', color = 'r', fontsize = FontSize)\n",
        "\n",
        "\n",
        "CPIPPI.spines['bottom'].set_color('k')\n",
        "CPIPPI.spines['left'].set_color('r')\n",
        "\n",
        "\n",
        "CPIPPI.tick_params('x', colors = 'k', labelsize = FontSize)\n",
        "CPIPPI.tick_params('y', colors = 'r', labelsize = FontSize)\n",
        "\n",
        "\n",
        "CPIPPI.legend(loc=2, fontsize = FontSize)"
      ]
    },
    {
      "cell_type": "code",
      "execution_count": null,
      "metadata": {
        "_cell_guid": "8fbe2e09-4009-3899-20ac-85b2f2e2151f"
      },
      "outputs": [],
      "source": [
        "RealtyMonth2 = RealtyMacro.groupby(Realty['timestamp'].apply(lambda x: x.to_period('M'))).median()\n",
        "fig41, MonthPlot2= plt.subplots(figsize=(10, 8))\n",
        "Brent =  MonthPlot2.twinx()\n",
        "\n",
        "\n",
        "MonthPlot2.plot(RealtyMonth2.index.to_timestamp(), RealtyMonth2['price_doc'],'r-', label = 'Realty price')\n",
        "Brent.plot(Macro.index, Macro['brent'],'b--', label = 'London Brent')\n",
        "MonthPlot2.set_xlabel('Year-Month', color = 'k', fontsize = FontSize)\n",
        "MonthPlot2.set_ylabel('Price', color = 'r', fontsize = FontSize)\n",
        "Brent.set_ylabel('Brent', color = 'b', fontsize = FontSize)\n",
        "\n",
        "MonthPlot2.set_title('House Price vs. Year-Month', fontsize = FontSize)\n",
        "\n",
        "MonthPlot2.spines['bottom'].set_color('k')\n",
        "MonthPlot2.spines['left'].set_color('r')\n",
        "Brent.spines['right'].set_color('b')\n",
        "\n",
        "MonthPlot2.tick_params('x', colors = 'k', labelsize = 13)\n",
        "MonthPlot2.tick_params('y', colors = 'r', labelsize = FontSize)\n",
        "Brent.tick_params('y', colors = 'b', labelsize = FontSize)\n",
        "\n",
        "\n",
        "lines, labels = MonthPlot2.get_legend_handles_labels()\n",
        "lines2, labels2 = Brent.get_legend_handles_labels()\n",
        "MonthPlot2.legend(lines + lines2, labels + labels2, loc = 3, fontsize = FontSize)\n"
      ]
    },
    {
      "cell_type": "code",
      "execution_count": null,
      "metadata": {
        "_cell_guid": "90b272c1-7055-6de3-381e-fbbf5b0b1517"
      },
      "outputs": [],
      "source": [
        ""
      ]
    },
    {
      "cell_type": "code",
      "execution_count": null,
      "metadata": {
        "_cell_guid": "eb92e766-1e7a-7a40-0037-9e44736b1ed0"
      },
      "outputs": [],
      "source": [
        ""
      ]
    }
  ],
  "metadata": {
    "_change_revision": 0,
    "_is_fork": false,
    "kernelspec": {
      "display_name": "Python 3",
      "language": "python",
      "name": "python3"
    },
    "language_info": {
      "codemirror_mode": {
        "name": "ipython",
        "version": 3
      },
      "file_extension": ".py",
      "mimetype": "text/x-python",
      "name": "python",
      "nbconvert_exporter": "python",
      "pygments_lexer": "ipython3",
      "version": "3.6.0"
    }
  },
  "nbformat": 4,
  "nbformat_minor": 0
}