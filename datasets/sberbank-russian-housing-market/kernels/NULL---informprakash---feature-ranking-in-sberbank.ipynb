{
  "cells": [
    {
      "cell_type": "markdown",
      "metadata": {
        "_cell_guid": "ae72d061-58df-341f-21ca-4bdfe130b9c3"
      },
      "source": ""
    },
    {
      "cell_type": "code",
      "execution_count": null,
      "metadata": {
        "_cell_guid": "431a26ee-51fd-112f-3397-9f8b562657dc"
      },
      "outputs": [],
      "source": [
        "# This Python 3 environment comes with many helpful analytics libraries installed\n",
        "# It is defined by the kaggle/python docker image: https://github.com/kaggle/docker-python\n",
        "# For example, here's several helpful packages to load in \n",
        "\n",
        "import numpy as np # linear algebra\n",
        "import pandas as pd # data processing, CSV file I/O (e.g. pd.read_csv)\n",
        "\n",
        "# Input data files are available in the \"../input/\" directory.\n",
        "# For example, running this (by clicking run or pressing Shift+Enter) will list the files in the input directory\n",
        "\n",
        "from subprocess import check_output\n",
        "print(check_output([\"ls\", \"../input\"]).decode(\"utf8\"))\n",
        "\n",
        "# Any results you write to the current directory are saved as output."
      ]
    },
    {
      "cell_type": "code",
      "execution_count": null,
      "metadata": {
        "_cell_guid": "2873e90c-8fe9-0e53-04bc-cea6121f3ad7"
      },
      "outputs": [],
      "source": [
        "import matplotlib.pyplot as plt\n",
        "import seaborn as sns\n",
        "from sklearn.preprocessing import LabelEncoder\n",
        "\n",
        "pd.set_option('display.max_columns',400)"
      ]
    },
    {
      "cell_type": "code",
      "execution_count": null,
      "metadata": {
        "_cell_guid": "047d5583-9971-05c1-f878-e1fc3b8c66b3"
      },
      "outputs": [],
      "source": [
        "train_df = pd.read_csv(\"../input/train.csv\")\n"
      ]
    },
    {
      "cell_type": "code",
      "execution_count": null,
      "metadata": {
        "_cell_guid": "17a1fbdb-a4b0-f4f8-552e-162745bdf99b"
      },
      "outputs": [],
      "source": [
        "n_train_df = train_df.copy()\n",
        "enc = LabelEncoder()"
      ]
    },
    {
      "cell_type": "code",
      "execution_count": null,
      "metadata": {
        "_cell_guid": "f37e44e3-00e2-1289-4903-6daf7e7b8c10"
      },
      "outputs": [],
      "source": [
        "for col in n_train_df.columns:\n",
        "    if n_train_df[col].dtypes == 'object':\n",
        "        n_train_df[col] = enc.fit_transform(n_train_df[col])"
      ]
    },
    {
      "cell_type": "code",
      "execution_count": null,
      "metadata": {
        "_cell_guid": "b7b68aeb-87f9-0834-d4d6-5666ba9605b5"
      },
      "outputs": [],
      "source": [
        "from sklearn.preprocessing import Imputer"
      ]
    },
    {
      "cell_type": "code",
      "execution_count": null,
      "metadata": {
        "_cell_guid": "4f168ea9-0adf-2821-d84f-61c14f34193d"
      },
      "outputs": [],
      "source": [
        "imp = Imputer(missing_values='NaN',strategy='most_frequent',axis=0)"
      ]
    },
    {
      "cell_type": "code",
      "execution_count": null,
      "metadata": {
        "_cell_guid": "298a6c52-1c51-4596-4a96-481b41e98ff7"
      },
      "outputs": [],
      "source": [
        "X_train,y =  n_train_df[list(range(0,291))],n_train_df[[291]]"
      ]
    },
    {
      "cell_type": "code",
      "execution_count": null,
      "metadata": {
        "_cell_guid": "f5c3a3fb-2040-34d5-4ca7-fa3b786a0ce6"
      },
      "outputs": [],
      "source": [
        "X = imp.fit_transform(X_train)"
      ]
    },
    {
      "cell_type": "code",
      "execution_count": null,
      "metadata": {
        "_cell_guid": "53ddff6e-aa94-f47b-f67c-811b5c9e4473"
      },
      "outputs": [],
      "source": [
        "from sklearn.ensemble import RandomForestRegressor"
      ]
    },
    {
      "cell_type": "code",
      "execution_count": null,
      "metadata": {
        "_cell_guid": "be55fbed-3ce9-aa1d-a08b-073c22f739f7"
      },
      "outputs": [],
      "source": [
        "clf = RandomForestRegressor(random_state=0,n_estimators=100)"
      ]
    },
    {
      "cell_type": "code",
      "execution_count": null,
      "metadata": {
        "_cell_guid": "7a7178f2-1602-12c6-40d1-308a66de71ce"
      },
      "outputs": [],
      "source": [
        "clf.fit(X,y)"
      ]
    },
    {
      "cell_type": "code",
      "execution_count": null,
      "metadata": {
        "_cell_guid": "c8433b2b-d639-6ad0-fdbd-341f5e883dfe"
      },
      "outputs": [],
      "source": [
        "f_val = list(clf.feature_importances_)\n",
        "feat = list(n_train_df.columns[:291])"
      ]
    },
    {
      "cell_type": "code",
      "execution_count": null,
      "metadata": {
        "_cell_guid": "4ab7d310-3b8e-3f75-dfec-a79daaadb575"
      },
      "outputs": [],
      "source": [
        "d = dict(zip(feat,f_val))"
      ]
    },
    {
      "cell_type": "code",
      "execution_count": null,
      "metadata": {
        "_cell_guid": "329797db-f1e8-3427-ba8d-a472344ed83d"
      },
      "outputs": [],
      "source": [
        "df = pd.DataFrame.from_dict(d,orient='index')"
      ]
    },
    {
      "cell_type": "code",
      "execution_count": null,
      "metadata": {
        "_cell_guid": "2d51dafd-3c66-2c30-b3b4-c8c55a6432c9"
      },
      "outputs": [],
      "source": [
        "df"
      ]
    },
    {
      "cell_type": "code",
      "execution_count": null,
      "metadata": {
        "_cell_guid": "9956eb5f-67a7-e0d4-fa79-b6dd449d2300"
      },
      "outputs": [],
      "source": ""
    }
  ],
  "metadata": {
    "_change_revision": 0,
    "_is_fork": false,
    "kernelspec": {
      "display_name": "Python 3",
      "language": "python",
      "name": "python3"
    },
    "language_info": {
      "codemirror_mode": {
        "name": "ipython",
        "version": 3
      },
      "file_extension": ".py",
      "mimetype": "text/x-python",
      "name": "python",
      "nbconvert_exporter": "python",
      "pygments_lexer": "ipython3",
      "version": "3.6.0"
    }
  },
  "nbformat": 4,
  "nbformat_minor": 0
}