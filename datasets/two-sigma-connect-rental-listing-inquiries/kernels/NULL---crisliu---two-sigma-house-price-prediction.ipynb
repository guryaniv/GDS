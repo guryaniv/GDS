{
  "cells": [
    {
      "cell_type": "code",
      "execution_count": null,
      "metadata": {
        "_cell_guid": "1a100f99-8f88-826b-16a3-6335e33ff354"
      },
      "outputs": [],
      "source": [
        "# This Python 3 environment comes with many helpful analytics libraries installed\n",
        "# It is defined by the kaggle/python docker image: https://github.com/kaggle/docker-python\n",
        "# For example, here's several helpful packages to load in \n",
        "\n",
        "import numpy as np # linear algebra\n",
        "import pandas as pd # data processing, CSV file I/O (e.g. pd.read_csv)\n",
        "\n",
        "# Input data files are available in the \"../input/\" directory.\n",
        "# For example, running this (by clicking run or pressing Shift+Enter) will list the files in the input directory\n",
        "\n",
        "from subprocess import check_output\n",
        "print(check_output([\"ls\", \"../input\"]).decode(\"utf8\"))\n",
        "\n",
        "# Any results you write to the current directory are saved as output."
      ]
    },
    {
      "cell_type": "code",
      "execution_count": null,
      "metadata": {
        "_cell_guid": "cc4afd8c-0601-8385-1f1a-440fde933dec"
      },
      "outputs": [],
      "source": [
        "train = pd.read_json(\"../input/train.json\")\n",
        "test = pd.read_json(\"../input/test.json\")"
      ]
    },
    {
      "cell_type": "code",
      "execution_count": null,
      "metadata": {
        "_cell_guid": "3dbc0e64-edb4-db35-5b97-a10705cbd713"
      },
      "outputs": [],
      "source": [
        "# We need listing_id, description and interest_level for this notebook\n",
        "train = train[['listing_id','description','interest_level']]\n",
        "test = test[['listing_id','description']]\n",
        "\n",
        "train['flag'] = 'train'\n",
        "test['flag'] = 'test'\n",
        "full_data = pd.concat([train,test])"
      ]
    },
    {
      "cell_type": "code",
      "execution_count": null,
      "metadata": {
        "_cell_guid": "197c8c8f-86f1-4bea-82eb-539154cf81e8"
      },
      "outputs": [],
      "source": [
        "full_data.description"
      ]
    },
    {
      "cell_type": "code",
      "execution_count": null,
      "metadata": {
        "_cell_guid": "e6f146b7-96e5-1cb4-f1f3-2455666079cf"
      },
      "outputs": [],
      "source": [
        "from nltk.stem import PorterStemmer\n",
        "import re"
      ]
    },
    {
      "cell_type": "code",
      "execution_count": null,
      "metadata": {
        "_cell_guid": "bd9f8bd6-dec6-f462-13c6-bf065a430a6a"
      },
      "outputs": [],
      "source": [
        "stemmer = PorterStemmer()\n",
        "def clean1(x):\n",
        "    regex = re.compile('[^a-zA-Z ]')\n",
        "    # For user clarity, broken it into three steps\n",
        "    i = regex.sub(' ', x).lower()\n",
        "    i = i.split(\" \") \n",
        "    i= [stemmer.stem(l) for l in i]\n",
        "    i= \" \".join([l.strip() for l in i if (len(l)>2) ]) # Keeping words that have length greater than 2\n",
        "    return i"
      ]
    },
    {
      "cell_type": "code",
      "execution_count": null,
      "metadata": {
        "_cell_guid": "78b0ffbc-9f7d-b206-830f-4bb5f2e51791"
      },
      "outputs": [],
      "source": [
        "\n",
        "full_data['description_new'] = full_data.description.apply(lambda x: clean1(x))"
      ]
    },
    {
      "cell_type": "code",
      "execution_count": null,
      "metadata": {
        "_cell_guid": "776582a8-2cdf-792a-f568-147700561d1d"
      },
      "outputs": [],
      "source": [
        "full_data[['description','description_new']].head()"
      ]
    },
    {
      "cell_type": "code",
      "execution_count": null,
      "metadata": {
        "_cell_guid": "f19c623e-3781-6577-bbf4-70b7a8e5ad60"
      },
      "outputs": [],
      "source": [
        "from sklearn.feature_extraction.text import CountVectorizer #Can use tfidffvectorizer as well\n",
        "\n",
        "cvect_desc = CountVectorizer(stop_words='english', max_features=200)\n",
        "full_sparse = cvect_desc.fit_transform(full_data.description_new)\n",
        " # Renaming words to avoid collisions with other feature names in the model\n",
        "col_desc = ['desc_'+ i for i in cvect_desc.get_feature_names()] \n",
        "count_vect_df = pd.DataFrame(full_sparse.todense(), columns=col_desc)\n",
        "full_data = pd.concat([full_data.reset_index(),count_vect_df],axis=1)"
      ]
    },
    {
      "cell_type": "code",
      "execution_count": null,
      "metadata": {
        "_cell_guid": "91902b8b-91de-5297-f91f-b6ce11f6cc67"
      },
      "outputs": [],
      "source": [
        "train =(full_data[full_data.flag=='train'])\n",
        "test =(full_data[full_data.flag=='test'])\n",
        "labels = {'high':0, 'medium':1, 'low':2}\n",
        "train['interest_level'] = train.interest_level.apply(lambda x: labels[x])"
      ]
    },
    {
      "cell_type": "code",
      "execution_count": null,
      "metadata": {
        "_cell_guid": "10016e23-6c7e-2ac7-4ca0-37a5b6ab8e36"
      },
      "outputs": [],
      "source": [
        "cols= train.drop(['interest_level','flag','listing_id','description','index','description_new'],axis=1).columns.values\n",
        "cols"
      ]
    },
    {
      "cell_type": "code",
      "execution_count": null,
      "metadata": {
        "_cell_guid": "60d0f91b-ad0c-6e39-2551-dc188e43a37c"
      },
      "outputs": [],
      "source": [
        "\n",
        "from sklearn.ensemble import GradientBoostingClassifier  as GBM\n",
        "from sklearn.ensemble import RandomForestClassifier  as RF\n",
        "from sklearn.model_selection import StratifiedKFold\n",
        "from sklearn.metrics import log_loss\n",
        "import xgboost\n",
        "xgb1= xgboost.XGBClassifier()\n"
      ]
    },
    {
      "cell_type": "code",
      "execution_count": null,
      "metadata": {
        "_cell_guid": "f492785b-4878-32aa-0c12-cc37e0d1f595"
      },
      "outputs": [],
      "source": [
        "def run_model(model,train_X, test_X,train_Y):\n",
        "    model.fit(train_X,train_Y)\n",
        "    pred = model.predict_proba(test_X)\n",
        "    imp = model.feature_importances_\n",
        "    return pred,imp\n"
      ]
    },
    {
      "cell_type": "code",
      "execution_count": null,
      "metadata": {
        "_cell_guid": "f29aee32-c09d-f4c6-8f1b-9b22ea706b9b"
      },
      "outputs": [],
      "source": [
        "def cross_val(model,train,feat,split):\n",
        "    cv_scores = []\n",
        "    importances = []\n",
        "    # Cross Validation preprocessing\n",
        "    train_X = train[feat]\n",
        "    train_Y = train['interest_level']\n",
        "\n",
        "    train_X = train_X.as_matrix()\n",
        "    train_Y = train_Y.as_matrix()\n",
        "\n",
        "    test_X = test[feat]\n",
        "    test_X = test_X.as_matrix()\n",
        "\n",
        "    kf = StratifiedKFold(n_splits=split, shuffle=True, random_state=1)\n",
        "    for dev_index, val_index in kf.split(train_X,train_Y):\n",
        "            train_X_X, test_X_X = train_X[dev_index,:], train_X[val_index,:]\n",
        "            train_Y_Y, test_Y_Y = train_Y[dev_index,], train_Y[val_index,]\n",
        "            pred,imp = run_model(model,train_X_X, test_X_X,train_Y_Y)\n",
        "            cv_scores.append(log_loss(test_Y_Y, pred))\n",
        "            importances.append(imp)\n",
        "    return np.mean(cv_scores),importances\n"
      ]
    },
    {
      "cell_type": "code",
      "execution_count": null,
      "metadata": {
        "_cell_guid": "0a0a780b-abec-9a40-de50-da974c9b4f3d"
      },
      "outputs": [],
      "source": [
        "cv_score,imp = cross_val(xgb1,train,cols,3)"
      ]
    },
    {
      "cell_type": "code",
      "execution_count": null,
      "metadata": {
        "_cell_guid": "57b1729a-e1b6-9995-3edd-7369a015bab6"
      },
      "outputs": [],
      "source": [
        "importances = list(np.average(imp,axis=0))\n",
        "features = cvect_desc.get_feature_names()\n",
        "df = pd.DataFrame({'words':features,'imp':importances}).sort_values(by='imp',ascending=False).head(30)\n",
        "plt.figure(figsize=(12,15))\n",
        "sns.barplot(y=df.words,x=df.imp)"
      ]
    }
  ],
  "metadata": {
    "_change_revision": 0,
    "_is_fork": false,
    "kernelspec": {
      "display_name": "Python 3",
      "language": "python",
      "name": "python3"
    },
    "language_info": {
      "codemirror_mode": {
        "name": "ipython",
        "version": 3
      },
      "file_extension": ".py",
      "mimetype": "text/x-python",
      "name": "python",
      "nbconvert_exporter": "python",
      "pygments_lexer": "ipython3",
      "version": "3.6.0"
    }
  },
  "nbformat": 4,
  "nbformat_minor": 0
}