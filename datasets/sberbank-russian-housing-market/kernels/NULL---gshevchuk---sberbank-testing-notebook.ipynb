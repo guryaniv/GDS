{
  "cells": [
    {
      "cell_type": "code",
      "execution_count": null,
      "metadata": {
        "_cell_guid": "3a1054d5-da32-308f-61bb-7f6715fc49fa"
      },
      "outputs": [],
      "source": [
        "# This Python 3 environment comes with many helpful analytics libraries installed\n",
        "# It is defined by the kaggle/python docker image: https://github.com/kaggle/docker-python\n",
        "# For example, here's several helpful packages to load in \n",
        "\n",
        "import numpy as np # linear algebra\n",
        "import pandas as pd # data processing, CSV file I/O (e.g. pd.read_csv)\n",
        "import seaborn as sns\n",
        "import keras\n",
        "import matplotlib.pyplot as plt\n",
        "# Input data files are available in the \"../input/\" directory.\n",
        "# For example, running this (by clicking run or pressing Shift+Enter) will list the files in the input directory\n",
        "\n",
        "from subprocess import check_output\n",
        "print(check_output([\"ls\", \"../input\"]).decode(\"utf8\"))\n",
        "\n",
        "# Any results you write to the current directory are saved as output."
      ]
    },
    {
      "cell_type": "code",
      "execution_count": null,
      "metadata": {
        "_cell_guid": "284dd4ad-a90e-e959-6473-c465899ba48f"
      },
      "outputs": [],
      "source": [
        "macro = pd.read_csv('../input/macro.csv')\n",
        "train = pd.read_csv('../input/train.csv')\n",
        "test = pd.read_csv('../input/test.csv')"
      ]
    },
    {
      "cell_type": "code",
      "execution_count": null,
      "metadata": {
        "_cell_guid": "9bf17126-015a-82d5-ee1a-b5e95a6116b3"
      },
      "outputs": [],
      "source": [
        "corr = macro.corr()"
      ]
    },
    {
      "cell_type": "code",
      "execution_count": null,
      "metadata": {
        "_cell_guid": "92cec4e9-5338-1fec-785c-bf5ea03e23ff"
      },
      "outputs": [],
      "source": [
        "# Set up the matplotlib figure\n",
        "f, ax = plt.subplots(figsize=(12, 9))\n",
        "\n",
        "# Draw the heatmap using seaborn\n",
        "sns.heatmap(corr, vmax=.8, square=True)"
      ]
    },
    {
      "cell_type": "code",
      "execution_count": null,
      "metadata": {
        "_cell_guid": "bf522108-7c55-c266-1b0d-b3588d285df0"
      },
      "outputs": [],
      "source": [
        "corr = train.corr()\n",
        "# Set up the matplotlib figure\n",
        "f, ax = plt.subplots(figsize=(12, 9))\n",
        "\n",
        "# Draw the heatmap using seaborn\n",
        "sns.heatmap(corr, vmax=.8, square=True)"
      ]
    },
    {
      "cell_type": "code",
      "execution_count": null,
      "metadata": {
        "_cell_guid": "7508bb9c-367e-d65a-175f-ee1fe2f06d42"
      },
      "outputs": [],
      "source": [
        "y_train = train['price_doc']\n",
        "x_train = train.drop([\"id\", \"timestamp\", \"price_doc\"], axis=1)\n",
        "x_test = test.drop([\"id\", \"timestamp\"], axis=1)\n",
        "id_test = test.id"
      ]
    },
    {
      "cell_type": "code",
      "execution_count": null,
      "metadata": {
        "_cell_guid": "98272954-44ea-1ec2-81f0-411e4e6c88b2"
      },
      "outputs": [],
      "source": [
        "from sklearn import preprocessing\n",
        "for c in x_train.columns:\n",
        "    if x_train[c].dtype == 'object':\n",
        "        lbl = preprocessing.LabelEncoder()\n",
        "        lbl.fit(list(x_train[c].values)) \n",
        "        x_train[c] = lbl.transform(list(x_train[c].values))\n",
        "        x_train.drop(c,axis=1,inplace=True)\n",
        "        \n",
        "for c in x_test.columns:\n",
        "    if x_test[c].dtype == 'object':\n",
        "        lbl = preprocessing.LabelEncoder()\n",
        "        lbl.fit(list(x_test[c].values)) \n",
        "        x_test[c] = lbl.transform(list(x_test[c].values))\n",
        "        x_test.drop(c,axis=1,inplace=True) \n",
        "        \n",
        "x_train = x_train.fillna(x_train.median())\n",
        "x_test = x_test.fillna(x_test.median())"
      ]
    },
    {
      "cell_type": "code",
      "execution_count": null,
      "metadata": {
        "_cell_guid": "d2724465-7999-d82c-04f9-730203d30924"
      },
      "outputs": [],
      "source": [
        "import xgboost as xgb\n",
        "model = xgb.XGBRegressor()\n",
        "model.fit(x_train, y_train)\n",
        "print(\"Fitting done\")"
      ]
    },
    {
      "cell_type": "code",
      "execution_count": null,
      "metadata": {
        "_cell_guid": "83f19914-7fd2-2bba-6836-aaa41995ddaa"
      },
      "outputs": [],
      "source": [
        "import matplotlib.pyplot as plt\n",
        "fig, ax = plt.subplots(figsize=(7, 30))\n",
        "xgb.plot_importance(model, ax=ax)\n",
        "print(\"Features importance done\")"
      ]
    },
    {
      "cell_type": "code",
      "execution_count": null,
      "metadata": {
        "_cell_guid": "b68adc52-034e-a5df-2d55-dbe649d9f8c5"
      },
      "outputs": [],
      "source": [
        "results = model.predict(x_test)"
      ]
    },
    {
      "cell_type": "code",
      "execution_count": null,
      "metadata": {
        "_cell_guid": "7ef2afc3-8aa8-bd57-35eb-4ebab334561f"
      },
      "outputs": [],
      "source": [
        "output = pd.DataFrame({'id': id_test, 'price_doc': results})\n",
        "output.to_csv('predict.csv', index=False)"
      ]
    },
    {
      "cell_type": "code",
      "execution_count": null,
      "metadata": {
        "_cell_guid": "99fe5b04-5dda-6bf7-dfc4-71c5fa2db02c"
      },
      "outputs": [],
      "source": [
        ""
      ]
    }
  ],
  "metadata": {
    "_change_revision": 0,
    "_is_fork": false,
    "kernelspec": {
      "display_name": "Python 3",
      "language": "python",
      "name": "python3"
    },
    "language_info": {
      "codemirror_mode": {
        "name": "ipython",
        "version": 3
      },
      "file_extension": ".py",
      "mimetype": "text/x-python",
      "name": "python",
      "nbconvert_exporter": "python",
      "pygments_lexer": "ipython3",
      "version": "3.6.0"
    }
  },
  "nbformat": 4,
  "nbformat_minor": 0
}