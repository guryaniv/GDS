{
  "cells": [
    {
      "cell_type": "markdown",
      "metadata": {
        "_cell_guid": "8ef0260d-a68c-eb9e-8d27-499ec9868e52"
      },
      "source": [
        "# Leaf Classification\n",
        "\n",
        "Learning with Keras.\n",
        "Testing the code from :\n",
        "https://www.kaggle.com/abhmul/leaf-classification/keras-convnet-lb-0-0052-w-visualization/notebook"
      ]
    },
    {
      "cell_type": "code",
      "execution_count": null,
      "metadata": {
        "_cell_guid": "a31a0c2b-c5fd-97e1-59ad-327bfc2ae70e"
      },
      "outputs": [],
      "source": [
        "# This Python 3 environment comes with many helpful analytics libraries installed\n",
        "# It is defined by the kaggle/python docker image: https://github.com/kaggle/docker-python\n",
        "# For example, here's several helpful packages to load in \n",
        "import os\n",
        "import numpy as np # linear algebra\n",
        "import pandas as pd # data processing, CSV file I/O (e.g. pd.read_csv)\n",
        "\n",
        "# Input data files are available in the \"../input/\" directory.\n",
        "# For example, running this (by clicking run or pressing Shift+Enter) will list the files in the input directory\n",
        "\n",
        "from subprocess import check_output\n",
        "print(check_output([\"ls\", \"../input\"]).decode(\"utf8\"))\n",
        "\n",
        "# Any results you write to the current directory are saved as output."
      ]
    },
    {
      "cell_type": "code",
      "execution_count": null,
      "metadata": {
        "_cell_guid": "d4ef2a8c-8815-09cf-acf7-195dec447ad3"
      },
      "outputs": [],
      "source": [
        "from sklearn.preprocessing import LabelEncoder\n",
        "from sklearn.preprocessing import StandardScaler\n",
        "from sklearn.model_selection import StratifiedShuffleSplit\n",
        "\n",
        "from keras.utils.np_utils import to_categorical\n",
        "from keras.preprocessing.image import img_to_array, load_img"
      ]
    },
    {
      "cell_type": "code",
      "execution_count": null,
      "metadata": {
        "_cell_guid": "3f0ee5a5-6681-bbc7-cc9c-083efb265359"
      },
      "outputs": [],
      "source": [
        "np.random.seed(2016)\n",
        "split_random_state = 7\n",
        "split = 0.9"
      ]
    },
    {
      "cell_type": "code",
      "execution_count": null,
      "metadata": {
        "_cell_guid": "614f53bd-eede-e4c7-8bd7-05d311ee2f56"
      },
      "outputs": [],
      "source": [
        "def load_numeric_training(standardize=True):\n",
        "    data = pd.read_csv(os.path.join(\"../input\",\"train.csv\"))\n",
        "    ID = data.pop('id')\n",
        "    y = data.pop('species')\n",
        "    y = LabelEncoder().fit_transform(y)\n",
        "    X = StandardScaler().fit_transform(data) if standardize else data.values\n",
        "    \n",
        "    return ID,X,y\n",
        "\n",
        "def load_numeric_test(standardize=True):\n",
        "    test = pd.read_csv(os.path.join(\"../input\",\"test.csv\"))\n",
        "    ID = test.pop('id')\n",
        "    test = StandardScaler().fit_transform(test) if standardize else test.values\n",
        "    return ID, test\n",
        "\n",
        "def resize_img(img,centre=True):\n",
        "    max_ax = max((0,1),key=lambda i: img.shape[i])\n",
        "    \n",
        "    \n",
        "    "
      ]
    },
    {
      "cell_type": "code",
      "execution_count": null,
      "metadata": {
        "_cell_guid": "7c259281-bdee-fb73-e4b8-a5cfb3a0c297"
      },
      "outputs": [],
      "source": [
        "j1 = np.random.randint(100,size=(10,11))\n",
        "type(j1)"
      ]
    },
    {
      "cell_type": "code",
      "execution_count": null,
      "metadata": {
        "_cell_guid": "cd16f4a2-68e0-2bcf-4b15-df8ba6dde3a7"
      },
      "outputs": [],
      "source": ""
    },
    {
      "cell_type": "code",
      "execution_count": null,
      "metadata": {
        "_cell_guid": "cfde50c8-1d9d-8fb9-c401-4cccc2d36436"
      },
      "outputs": [],
      "source": ""
    },
    {
      "cell_type": "code",
      "execution_count": null,
      "metadata": {
        "_cell_guid": "029305c3-3ef2-b59e-ec12-b14211636251"
      },
      "outputs": [],
      "source": ""
    }
  ],
  "metadata": {
    "_change_revision": 0,
    "_is_fork": false,
    "kernelspec": {
      "display_name": "Python 3",
      "language": "python",
      "name": "python3"
    },
    "language_info": {
      "codemirror_mode": {
        "name": "ipython",
        "version": 3
      },
      "file_extension": ".py",
      "mimetype": "text/x-python",
      "name": "python",
      "nbconvert_exporter": "python",
      "pygments_lexer": "ipython3",
      "version": "3.6.0"
    }
  },
  "nbformat": 4,
  "nbformat_minor": 0
}