{
  "cells": [
    {
      "cell_type": "code",
      "execution_count": null,
      "metadata": {
        "_cell_guid": "facafe16-88d3-c44e-d7d1-c86b5fc4229b"
      },
      "outputs": [],
      "source": [
        "# This R environment comes with all of CRAN preinstalled, as well as many other helpful packages\n",
        "# The environment is defined by the kaggle/rstats docker image: https://github.com/kaggle/docker-rstats\n",
        "# For example, here's several helpful packages to load in \n",
        "\n",
        "library(ggplot2) # Data visualization\n",
        "library(readr) # CSV file I/O, e.g. the read_csv function\n",
        "library(data.table)\n",
        "# Input data files are available in the \"../input/\" directory.\n",
        "# For example, running this (by clicking run or pressing Shift+Enter) will list the files in the input directory\n",
        "\n",
        "system(\"ls ../input\")\n",
        "\n",
        "# Any results you write to the current directory are saved as output."
      ]
    },
    {
      "cell_type": "code",
      "execution_count": null,
      "metadata": {
        "_cell_guid": "485308b9-09b9-1b46-6719-7633dc30d934"
      },
      "outputs": [],
      "source": [
        "dt.data <- fread(\"../input/UCI_Credit_Card.csv\")\n",
        "head(dt.data)\n",
        "summary(dt.data)"
      ]
    },
    {
      "cell_type": "code",
      "execution_count": null,
      "metadata": {
        "_cell_guid": "17ff2257-99e1-22b5-e6ee-2747353bcf45"
      },
      "outputs": [],
      "source": [
        "set.seed(1234)\n",
        "dt.test <- dt.train[sample(1:nrow(dt.train), .2*nrow(dt.train))]\n",
        "dt.train <- dt.train[!ID %in% dt.test$ID,]\n",
        "dt.train.pos <- dt.train[default.payment.next.month == 1]\n",
        "dt.train.neg <- dt.train[default.payment.next.month == 0]\n",
        "nrow(dt.train.pos)\n",
        "nrow(dt.train.neg)"
      ]
    }
  ],
  "metadata": {
    "_change_revision": 0,
    "_is_fork": false,
    "kernelspec": {
      "display_name": "Python 3",
      "language": "python",
      "name": "python3"
    },
    "language_info": {
      "codemirror_mode": {
        "name": "ipython",
        "version": 3
      },
      "file_extension": ".py",
      "mimetype": "text/x-python",
      "name": "python",
      "nbconvert_exporter": "python",
      "pygments_lexer": "ipython3",
      "version": "3.5.2"
    }
  },
  "nbformat": 4,
  "nbformat_minor": 0
}