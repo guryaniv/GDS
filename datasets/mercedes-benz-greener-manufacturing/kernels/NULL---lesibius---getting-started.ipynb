{
  "cells": [
    {
      "cell_type": "markdown",
      "metadata": {
        "_cell_guid": "6b375c38-0d76-ecff-653b-0d8852d5632a"
      },
      "source": [
        "# Exploring Variables #"
      ]
    },
    {
      "cell_type": "code",
      "execution_count": null,
      "metadata": {
        "_cell_guid": "a8716998-ad5b-7694-3425-eb55032df8f3"
      },
      "outputs": [],
      "source": [
        "# This Python 3 environment comes with many helpful analytics libraries installed\n",
        "# It is defined by the kaggle/python docker image: https://github.com/kaggle/docker-python\n",
        "# For example, here's several helpful packages to load in \n",
        "\n",
        "import numpy as np # linear algebra\n",
        "import pandas as pd # data processing, CSV file I/O (e.g. pd.read_csv)\n",
        "import seaborn as sns\n",
        "import matplotlib.pyplot as plt\n",
        "\n",
        "# Input data files are available in the \"../input/\" directory.\n",
        "# For example, running this (by clicking run or pressing Shift+Enter) will list the files in the input directory\n",
        "\n",
        "from subprocess import check_output\n",
        "print(check_output([\"ls\", \"../input\"]).decode(\"utf8\"))\n",
        "\n",
        "df = pd.read_csv(\"../input/train.csv\")\n",
        "df.describe()\n",
        "\n",
        "# Any results you write to the current directory are saved as output."
      ]
    },
    {
      "cell_type": "markdown",
      "metadata": {
        "_cell_guid": "d7c09db6-be43-15b7-b2bb-637edd1333cd"
      },
      "source": [
        "Obviously: each feature is present less than 10% of the time\n",
        "X0 to X8 are text data\n",
        "\n",
        "## Categorical Data vs Time ##"
      ]
    },
    {
      "cell_type": "code",
      "execution_count": null,
      "metadata": {
        "_cell_guid": "1b75a618-97c8-58da-6a01-b65200840fe0"
      },
      "outputs": [],
      "source": [
        "categorical_indices = [0,1,2,3,4,5,6,8] \n",
        "\n",
        "for i in categorical_indices:\n",
        "    print(df.groupby(\"X\"+str(i))[\"X\"+str(i)].count())"
      ]
    },
    {
      "cell_type": "code",
      "execution_count": null,
      "metadata": {
        "_cell_guid": "601814d1-b6c1-1267-e1c7-b13b019ea9d3"
      },
      "outputs": [],
      "source": [
        "sns.set_style(\"whitegrid\")\n",
        "for i in categorical_indices:\n",
        "    plt.figure()\n",
        "    ax = sns.boxplot(x=\"X\"+str(i), y=\"y\", data=df.loc[:,[\"X\"+str(i),\"y\"]])"
      ]
    },
    {
      "cell_type": "markdown",
      "metadata": {
        "_cell_guid": "02201f1c-fdb8-4243-ff3c-03de89556a8d"
      },
      "source": [
        "## Binary Variable Correlation ##"
      ]
    },
    {
      "cell_type": "code",
      "execution_count": null,
      "metadata": {
        "_cell_guid": "072bcedc-8569-8f98-b0ac-29d888569734"
      },
      "outputs": [],
      "source": [
        "#First, let's get actual column names\n",
        "binary_indices = []\n",
        "\n",
        "for i in range(9,385):\n",
        "    if \"X\"+str(i) in df.columns.values:\n",
        "        binary_indices.append(\"X\"+str(i))\n",
        "        \n",
        "#I noticed later that X11 is 0 everywhere\n",
        "binary_indices.remove(\"X11\")\n",
        "\n",
        "\n",
        "corr = df.loc[:,[\"y\"] + binary_indices].corr()\n",
        "\n",
        "mask = np.zeros_like(corr, dtype=np.bool)\n",
        "mask[np.triu_indices_from(mask)] = True\n",
        "f, ax = plt.subplots(figsize=(11, 9))\n",
        "cmap = sns.diverging_palette(220, 10, as_cmap=True)\n",
        "sns.heatmap(corr, mask=mask, cmap=cmap, vmax=.3,\n",
        "            square=True, xticklabels=5, yticklabels=5,\n",
        "            linewidths=.5, cbar_kws={\"shrink\": .5}, ax=ax)"
      ]
    },
    {
      "cell_type": "code",
      "execution_count": null,
      "metadata": {
        "_cell_guid": "64c3990b-a018-3408-9977-b2cc5c90d717"
      },
      "outputs": [],
      "source": [
        "y_corr = corr.loc[\"X10\":,\"y\"]\n",
        "highly_correlated_variables = y_corr[y_corr.map(lambda x: abs(x) > 0.3)]\n",
        "highly_correlated_variables = highly_correlated_variables.index\n",
        "df.loc[:,highly_correlated_variables].describe"
      ]
    },
    {
      "cell_type": "code",
      "execution_count": null,
      "metadata": {
        "_cell_guid": "522bf804-6f56-37ea-9927-32301ea5f9ab"
      },
      "outputs": [],
      "source": [
        "from sklearn.ensemble import RandomForestRegressor\n",
        "rf = RandomForestRegressor()\n",
        "rf.fit(df.loc[:,highly_correlated_variables],df.loc[:,\"y\"])\n",
        "\n",
        "df_test = pd.read_csv(\"../input/test.csv\")\n",
        "res =  rf.predict(df_test.loc[:,highly_correlated_variables])"
      ]
    },
    {
      "cell_type": "code",
      "execution_count": null,
      "metadata": {
        "_cell_guid": "9a4804e2-7af5-cb25-009d-a3bb6fdc4437"
      },
      "outputs": [],
      "source": [
        "df_test.loc[2001,\"ID\"]"
      ]
    },
    {
      "cell_type": "code",
      "execution_count": null,
      "metadata": {
        "_cell_guid": "df9fee14-d3b2-b4b9-6235-03c1d7d69239"
      },
      "outputs": [],
      "source": [
        "out = open('output_1.csv', \"w\")\n",
        "out.write(\"ID,y\\n\")\n",
        "\n",
        "for i in range(0,res.shape[0]):\n",
        "    out.write(str(df_test.loc[i,\"ID\"])+\",\"+str(res[i])+\"\\n\")\n",
        "              \n",
        "out.close()\n",
        "    "
      ]
    }
  ],
  "metadata": {
    "_change_revision": 0,
    "_is_fork": false,
    "kernelspec": {
      "display_name": "Python 3",
      "language": "python",
      "name": "python3"
    },
    "language_info": {
      "codemirror_mode": {
        "name": "ipython",
        "version": 3
      },
      "file_extension": ".py",
      "mimetype": "text/x-python",
      "name": "python",
      "nbconvert_exporter": "python",
      "pygments_lexer": "ipython3",
      "version": "3.6.0"
    }
  },
  "nbformat": 4,
  "nbformat_minor": 0
}