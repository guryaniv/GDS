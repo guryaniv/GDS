{
  "metadata": {
    "kernelspec": {
      "display_name": "Python 3",
      "language": "python",
      "name": "python3"
    },
    "language_info": {
      "codemirror_mode": {
        "name": "ipython",
        "version": 3
      },
      "file_extension": ".py",
      "mimetype": "text/x-python",
      "name": "python",
      "nbconvert_exporter": "python",
      "pygments_lexer": "ipython3",
      "version": "3.5.2"
    }
  },
  "nbformat": 4,
  "nbformat_minor": 0,
  "cells": [
    {
      "cell_type": "code",
      "execution_count": 1,
      "metadata": {
        "_cell_guid": "8e37d0b4-16c7-8d37-5e6f-90bb0eeddca4",
        "_active": false,
        "collapsed": false
      },
      "outputs": [],
      "source": "import requests\nfrom lxml import html",
      "execution_state": "idle"
    },
    {
      "metadata": {
        "_cell_guid": "4e0edb2f-7e65-6720-955d-50ad2f4938e9",
        "_active": true,
        "collapsed": false
      },
      "source": "session_requests = requests.session()",
      "execution_count": 2,
      "cell_type": "code",
      "outputs": [],
      "execution_state": "idle"
    },
    {
      "metadata": {
        "_cell_guid": "0ef58fef-b5a9-fc68-5386-75456bc932f9",
        "_active": false,
        "collapsed": false
      },
      "source": null,
      "execution_count": null,
      "cell_type": "code",
      "outputs": []
    }
  ]
}