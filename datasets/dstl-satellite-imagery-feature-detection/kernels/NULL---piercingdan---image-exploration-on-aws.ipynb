{
  "cells": [
    {
      "cell_type": "markdown",
      "metadata": {
        "_cell_guid": "9e5ee5ad-53fb-df46-b650-17b6f7c367ed"
      },
      "source": [
        "# Image Exploration on AWS\n",
        "\n",
        "*By [Danny Luo](http://dluo.me)*\n",
        "\n",
        "This notebook is a brief exploration on AWS using boto3, AWS SDK, of satellite images for the DSTL Satellite Image Feature Detection on Kaggle. It is useful for those attempting to use cloud computing to analyze the image data stored on AWS S3.\n",
        "\n",
        "Modified for AWS from Cem Anil's image exploration notebook. \n",
        "\n",
        "Cem and Danny are members of the University of Toronto Data Science Team (UDST). We do Kaggle competitions.\n",
        "\n",
        "View it [here](https://github.com/PiercingDan/kaggle-dstl/blob/master/image_exploration_aws.ipynb)"
      ]
    }
  ],
  "metadata": {
    "_change_revision": 0,
    "_is_fork": false,
    "kernelspec": {
      "display_name": "Python 3",
      "language": "python",
      "name": "python3"
    },
    "language_info": {
      "codemirror_mode": {
        "name": "ipython",
        "version": 3
      },
      "file_extension": ".py",
      "mimetype": "text/x-python",
      "name": "python",
      "nbconvert_exporter": "python",
      "pygments_lexer": "ipython3",
      "version": "3.6.0"
    }
  },
  "nbformat": 4,
  "nbformat_minor": 0
}