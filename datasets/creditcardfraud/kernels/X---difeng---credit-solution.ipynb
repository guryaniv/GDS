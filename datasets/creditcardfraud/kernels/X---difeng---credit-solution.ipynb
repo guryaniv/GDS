{
  "cells": [
    {
      "cell_type": "markdown",
      "metadata": {
        "_cell_guid": "60a336ce-7f57-0971-9259-93dd89aa37a3"
      },
      "source": ""
    },
    {
      "cell_type": "code",
      "execution_count": null,
      "metadata": {
        "_cell_guid": "0ac4c17f-48b6-ee52-92b9-0c53a192c5ac"
      },
      "outputs": [],
      "source": [
        "# This Python 3 environment comes with many helpful analytics libraries installed\n",
        "# It is defined by the kaggle/python docker image: https://github.com/kaggle/docker-python\n",
        "# For example, here's several helpful packages to load in \n",
        "\n",
        "import numpy as np # linear algebra\n",
        "import pandas as pd # data processing, CSV file I/O (e.g. pd.read_csv)\n",
        "\n",
        "# Input data files are available in the \"../input/\" directory.\n",
        "# For example, running this (by clicking run or pressing Shift+Enter) will list the files in the input directory\n",
        "\n",
        "from subprocess import check_output\n",
        "print(check_output([\"ls\", \"../input\"]).decode(\"utf8\"))\n",
        "\n",
        "# Any results you write to the current directory are saved as output."
      ]
    },
    {
      "cell_type": "code",
      "execution_count": null,
      "metadata": {
        "_cell_guid": "6b79404d-1e66-01b5-bd92-4ca4f5592b12"
      },
      "outputs": [],
      "source": [
        "credit = pd.read_csv('../input/creditcard.csv')"
      ]
    },
    {
      "cell_type": "code",
      "execution_count": null,
      "metadata": {
        "_cell_guid": "6215f480-e26b-3011-ad9a-6b9a534bdd1b"
      },
      "outputs": [],
      "source": [
        "credit.head()"
      ]
    },
    {
      "cell_type": "code",
      "execution_count": null,
      "metadata": {
        "_cell_guid": "0b1bba5b-7af0-1ee2-9d7c-272f710df907"
      },
      "outputs": [],
      "source": [
        "import matplotlib.pyplot as plt"
      ]
    },
    {
      "cell_type": "code",
      "execution_count": null,
      "metadata": {
        "_cell_guid": "d7cb0fc9-6b18-6e00-dcb2-9b63e01172b0"
      },
      "outputs": [],
      "source": [
        "set(credit['Class'])\n",
        "print (credit['Class'].value_counts())\n",
        "credit['Class'].value_counts().plot(kind = 'bar')"
      ]
    },
    {
      "cell_type": "code",
      "execution_count": null,
      "metadata": {
        "_cell_guid": "376b4e2b-8a63-dc64-0bbc-85f1fbedee42"
      },
      "outputs": [],
      "source": [
        "positive = credit[credit.Class==1].describe()\n",
        "mean_p = positive.loc['mean','V1':\"V28\"]\n",
        "ax = mean_p.plot(color = 'orange')\n",
        "negetive = credit[credit.Class==0].describe()\n",
        "mean_n = negetive.loc['mean','V1':\"V28\"]\n",
        "print (mean_n)\n",
        "mean_n.plot(color = 'blue')\n",
        "#negetive.loc['mean','V1':\"V28\"].plot(color = 'blue', lable = 'negetive')"
      ]
    },
    {
      "cell_type": "code",
      "execution_count": null,
      "metadata": {
        "_cell_guid": "114d9246-7099-fcc8-0ded-cc158be52602"
      },
      "outputs": [],
      "source": ""
    }
  ],
  "metadata": {
    "_change_revision": 0,
    "_is_fork": false,
    "kernelspec": {
      "display_name": "Python 3",
      "language": "python",
      "name": "python3"
    },
    "language_info": {
      "codemirror_mode": {
        "name": "ipython",
        "version": 3
      },
      "file_extension": ".py",
      "mimetype": "text/x-python",
      "name": "python",
      "nbconvert_exporter": "python",
      "pygments_lexer": "ipython3",
      "version": "3.6.0"
    }
  },
  "nbformat": 4,
  "nbformat_minor": 0
}