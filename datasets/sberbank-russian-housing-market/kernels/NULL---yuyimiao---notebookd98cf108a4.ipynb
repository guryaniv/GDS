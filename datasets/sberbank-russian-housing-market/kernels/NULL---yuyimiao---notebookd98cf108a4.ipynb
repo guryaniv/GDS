{
  "cells": [
    {
      "cell_type": "code",
      "execution_count": null,
      "metadata": {
        "_cell_guid": "cebdf38b-52a9-273a-164f-c7afd38ba161"
      },
      "outputs": [],
      "source": [
        "import numpy as np\n",
        "import pandas as pd\n",
        "import matplotlib.pyplot as plt\n",
        "import seaborn as sns\n",
        "from sklearn import model_selection, preprocessing\n",
        "import xgboost as xgb\n",
        "import datetime\n",
        "\n",
        "#load files\n",
        "train = pd.read_csv('../input/train.csv', parse_dates=['timestamp'])\n",
        "test = pd.read_csv('../input/test.csv', parse_dates=['timestamp'])\n",
        "macro = pd.read_csv('../input/macro.csv', parse_dates=['timestamp'])\n",
        "id_test = test.id"
      ]
    },
    {
      "cell_type": "code",
      "execution_count": null,
      "metadata": {
        "_cell_guid": "93763578-6944-d8a7-c948-697c2aa09fe4"
      },
      "outputs": [],
      "source": [
        "Q1 = np.percentile(np.log1p(train.price_doc.values), 25)\n",
        "Q2 = np.percentile(np.log1p(train.price_doc.values), 50)\n",
        "Q3 = np.percentile(np.log1p(train.price_doc.values), 75)\n",
        "IQR=Q3-Q1\n",
        "infbdd=Q1-1.5 * IQR \n",
        "supbdd=Q3+1.5 * IQR \n",
        "train['price_doc'].ix[train['price_doc']>int(2.5*np.exp(supbdd))] = int(2.5*np.exp(supbdd))\n",
        "train['price_doc'].ix[train['price_doc']<int(np.exp(13.5))] = int(np.exp(13.5))"
      ]
    },
    {
      "cell_type": "code",
      "execution_count": null,
      "metadata": {
        "_cell_guid": "6bacca0c-28ee-7ad1-3f4d-7ba5643e6281"
      },
      "outputs": [],
      "source": [
        "equal_index = [601,1896,2791]\n",
        "test.ix[equal_index, \"life_sq\"] = test.ix[equal_index, \"full_sq\"]"
      ]
    },
    {
      "cell_type": "code",
      "execution_count": null,
      "metadata": {
        "_cell_guid": "c405166a-8ed5-8fc8-f73f-a351c358a7c5"
      },
      "outputs": [],
      "source": [
        "bad_index = train[train.life_sq < 5].index\n",
        "train.ix[bad_index, \"life_sq\"] = np.NaN\n",
        "bad_index = test[test.life_sq < 5].index\n",
        "test.ix[bad_index, \"life_sq\"] = np.NaN\n",
        "bad_index = train[train.full_sq < 5].index\n",
        "train.ix[bad_index, \"full_sq\"] = np.NaN\n",
        "bad_index = test[test.full_sq < 5].index\n",
        "test.ix[bad_index, \"full_sq\"] = np.NaN"
      ]
    },
    {
      "cell_type": "code",
      "execution_count": null,
      "metadata": {
        "_cell_guid": "d1fb4986-725f-4e06-3a10-4a6148e3c4b4"
      },
      "outputs": [],
      "source": [
        "bad_index = test[test.life_sq > test.full_sq]\n",
        "bad_index\n"
      ]
    },
    {
      "cell_type": "code",
      "execution_count": null,
      "metadata": {
        "_cell_guid": "31adec5a-236c-09b9-54da-f736f25089b0"
      },
      "outputs": [],
      "source": [
        "exchange_index=[64,119,171]\n",
        "life_bad_index=[2027, 2031, 5187]\n",
        "full_bad_index=[2804]\n",
        "train.ix[life_bad_index, \"life_sq\"] = np.NaN\n",
        "train.ix[full_bad_index, \"full_sq\"] = np.NaN\n",
        "for cat in exchange_index:\n",
        "    dog=test.ix[cat, \"life_sq\"]\n",
        "    test.ix[cat, \"life_sq\"] = test.ix[cat, \"full_sq\"]\n",
        "    test.ix[cat, \"full_sq\"]=dog\n",
        "    "
      ]
    },
    {
      "cell_type": "code",
      "execution_count": null,
      "metadata": {
        "_cell_guid": "b247acbd-396c-f898-47aa-a2b65ded5c3e"
      },
      "outputs": [],
      "source": [
        "test.ix[exchange_index]"
      ]
    },
    {
      "cell_type": "code",
      "execution_count": null,
      "metadata": {
        "_cell_guid": "31928cc6-ef04-1c2f-33b4-7b46be44c0d3"
      },
      "outputs": [],
      "source": [
        "print(np.nanpercentile(np.log1p(train.price_doc.values)/np.log1p(train.full_sq.values), 99.9))\n",
        "print(np.nanpercentile(np.log1p(train.price_doc.values)/np.log1p(train.full_sq.values), 0.1))\n",
        "print(np.nanpercentile(np.log1p(train.price_doc.values)/np.log1p(train.life_sq.values), 99.9))\n",
        "print(np.nanpercentile(np.log1p(train.price_doc.values)/np.log1p(train.life_sq.values), 0.1))\n",
        "print(np.nanpercentile(train.life_sq.values/train.full_sq.values, 1))\n"
      ]
    },
    {
      "cell_type": "code",
      "execution_count": null,
      "metadata": {
        "_cell_guid": "75148449-e3cc-d490-3f87-958fccca3414"
      },
      "outputs": [],
      "source": [
        "life_bad_index=train[(train.life_sq > train.full_sq) & ((np.log1p(train.price_doc.values)/np.log1p(train.full_sq.values))>3)&((np.log1p(train.price_doc.values)/np.log1p(train.full_sq.values))<5.25)].index\n",
        "train.ix[life_bad_index, \"life_sq\"] = np.NaN\n",
        "full_bad_index=train[(train.life_sq > train.full_sq)&((np.log1p(train.price_doc.values)/np.log1p(train.life_sq.values))>3.12)&((np.log1p(train.price_doc.values)/np.log1p(train.life_sq.values))<6.46)].index\n",
        "train.ix[full_bad_index, \"full_sq\"] = np.NaN\n",
        "bad_index = train[train.life_sq > train.full_sq]\n",
        "bad_index"
      ]
    },
    {
      "cell_type": "code",
      "execution_count": null,
      "metadata": {
        "_cell_guid": "eb814190-4f7c-10ab-1545-f7833fecad6a"
      },
      "outputs": [],
      "source": [
        "life_bad_index=train[(train.life_sq / train.full_sq<0.39) & ((np.log1p(train.price_doc.values)/np.log1p(train.full_sq.values))>3)&((np.log1p(train.price_doc.values)/np.log1p(train.full_sq.values))<5.25)].index\n",
        "train.ix[life_bad_index, \"life_sq\"] = np.NaN\n",
        "full_bad_index=train[(train.life_sq / train.full_sq<0.39)&((np.log1p(train.price_doc.values)/np.log1p(train.life_sq.values))>3.12)&((np.log1p(train.price_doc.values)/np.log1p(train.life_sq.values))<6.46)].index\n",
        "train.ix[full_bad_index, \"full_sq\"] = np.NaN\n",
        "bad_index = train[(train.life_sq / train.full_sq)<0.39]\n",
        "bad_index"
      ]
    },
    {
      "cell_type": "code",
      "execution_count": null,
      "metadata": {
        "_cell_guid": "4a127c5b-b508-ea17-b42b-fed4db5437c0"
      },
      "outputs": [],
      "source": [
        "train=train[((np.log1p(train.price_doc.values)/np.log1p(train.life_sq.values))>3)]\n"
      ]
    },
    {
      "cell_type": "code",
      "execution_count": null,
      "metadata": {
        "_cell_guid": "82fcc0e0-e8aa-6b27-cc28-09fc76152a90"
      },
      "outputs": [],
      "source": [
        "train=train[((np.log1p(train.price_doc.values)/np.log1p(train.life_sq.values)) <6.56)]\n"
      ]
    },
    {
      "cell_type": "code",
      "execution_count": null,
      "metadata": {
        "_cell_guid": "167148d8-7d4d-3e84-25d0-2364e9e22354"
      },
      "outputs": [],
      "source": [
        "bad=train[train.full_sq==0]\n",
        "bad"
      ]
    },
    {
      "cell_type": "code",
      "execution_count": null,
      "metadata": {
        "_cell_guid": "5109b2db-be29-6586-af2d-ac47c17dbbe9"
      },
      "outputs": [],
      "source": [
        "bad_index = train[train.life_sq > 300]\n",
        "bad_index"
      ]
    },
    {
      "cell_type": "code",
      "execution_count": null,
      "metadata": {
        "_cell_guid": "3bc8ad66-965b-8b19-8353-485ea8457d71"
      },
      "outputs": [],
      "source": [
        "bad_index = test[test.life_sq > 200]\n",
        "bad_index\n",
        "#test.ix[bad_index, [\"life_sq\", \"full_sq\"]] = np.NaN"
      ]
    },
    {
      "cell_type": "code",
      "execution_count": null,
      "metadata": {
        "_cell_guid": "5a04f669-29da-c2bd-27fe-2e1352a4278f"
      },
      "outputs": [],
      "source": ""
    }
  ],
  "metadata": {
    "_change_revision": 0,
    "_is_fork": false,
    "kernelspec": {
      "display_name": "Python 3",
      "language": "python",
      "name": "python3"
    },
    "language_info": {
      "codemirror_mode": {
        "name": "ipython",
        "version": 3
      },
      "file_extension": ".py",
      "mimetype": "text/x-python",
      "name": "python",
      "nbconvert_exporter": "python",
      "pygments_lexer": "ipython3",
      "version": "3.6.0"
    }
  },
  "nbformat": 4,
  "nbformat_minor": 0
}