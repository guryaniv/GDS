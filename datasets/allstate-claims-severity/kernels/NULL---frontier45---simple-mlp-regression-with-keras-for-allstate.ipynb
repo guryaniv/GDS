{
  "cells": [
    {
      "cell_type": "code",
      "execution_count": null,
      "metadata": {
        "_cell_guid": "56bad751-1cc3-f87b-bfb8-2858a6d4ca50"
      },
      "outputs": [],
      "source": [
        "%matplotlib inline\n",
        "import numpy as np\n",
        "import pandas as pd\n",
        "import matplotlib.pyplot as plt\n",
        "\n",
        "plt.style.use(\"ggplot\")"
      ]
    },
    {
      "cell_type": "markdown",
      "metadata": {
        "_cell_guid": "5afb5698-3a96-ab1a-5701-26cbc4848e3f"
      },
      "source": [
        "##Data preparation"
      ]
    },
    {
      "cell_type": "markdown",
      "metadata": {
        "_cell_guid": "38f02a06-637a-f0c3-d8f3-c2d5256f7170"
      },
      "source": [
        "Categorical data are converted into numeric with DictVectorizer and combined with remained numerical data.\n",
        "The learned verctorizer is also returned for further use."
      ]
    },
    {
      "cell_type": "code",
      "execution_count": null,
      "metadata": {
        "_cell_guid": "5618aba8-32fa-24a5-2dd9-c23e0857a954"
      },
      "outputs": [],
      "source": [
        "from sklearn.feature_extraction import DictVectorizer\n",
        "\n",
        "def prepare_data(data, train=True, dv=None):\n",
        "    cat_keys = [k for k in data.keys() if k.startswith(\"cat\")]\n",
        "    cat_x = data[cat_keys]\n",
        "    cont_keys = [k for k in data.keys() if k.startswith(\"cont\")]\n",
        "    cont_x = data[cont_keys]\n",
        "    if train:\n",
        "        y = data[\"loss\"]\n",
        "    else:\n",
        "        y = None\n",
        "    cat_x_dict = [r[1].to_dict() for r in cat_x.iterrows()]\n",
        "    del cat_x\n",
        "    if dv is None:\n",
        "        dv = DictVectorizer().fit(cat_x_dict)\n",
        "    cat_cont_x = dv.transform(cat_x_dict).toarray()\n",
        "    del cat_x_dict\n",
        "    return np.column_stack([cat_cont_x, cont_x]), y, dv"
      ]
    },
    {
      "cell_type": "markdown",
      "metadata": {
        "_cell_guid": "f0fa179e-f97e-680d-a024-dadec2f71023"
      },
      "source": [
        "## load data and check its head"
      ]
    },
    {
      "cell_type": "code",
      "execution_count": null,
      "metadata": {
        "_cell_guid": "5b307ad4-93c5-897a-151f-a6ba9b4a6288"
      },
      "outputs": [],
      "source": [
        "train_data = pd.read_csv(\"../input/train.csv\").set_index(\"id\")\n",
        "train_data.head(5)"
      ]
    },
    {
      "cell_type": "markdown",
      "metadata": {
        "_cell_guid": "51ec77fa-d252-1bab-8aea-601acaeb2c86"
      },
      "source": [
        "### apply preparation"
      ]
    },
    {
      "cell_type": "code",
      "execution_count": null,
      "metadata": {
        "_cell_guid": "dacef7b3-598c-56ce-d89c-147a78c146f5"
      },
      "outputs": [],
      "source": [
        "train_x, train_y, dv = prepare_data(train_data) "
      ]
    },
    {
      "cell_type": "markdown",
      "metadata": {
        "_cell_guid": "55ff9450-f978-25b5-af5c-739b2a56e4dd"
      },
      "source": [
        "### test data preparation"
      ]
    },
    {
      "cell_type": "markdown",
      "metadata": {
        "_cell_guid": "30da3cfb-2cd0-ab55-9a7c-10fe0322b900"
      },
      "source": [
        "test data is loaded and converted with pre-learned DictVectorizer"
      ]
    },
    {
      "cell_type": "code",
      "execution_count": null,
      "metadata": {
        "_cell_guid": "eeefbb00-6437-71fb-0a9f-59e2b8d4bc2e"
      },
      "outputs": [],
      "source": [
        "test_data = pd.read_csv(\"../input/test.csv\").set_index(\"id\")\n",
        "test_x, _, _ = prepare_data(test_data, False, dv)"
      ]
    },
    {
      "cell_type": "markdown",
      "metadata": {
        "_cell_guid": "48745598-270c-8ed2-303b-fbcb7142e028"
      },
      "source": [
        "## Import Keras"
      ]
    },
    {
      "cell_type": "code",
      "execution_count": null,
      "metadata": {
        "_cell_guid": "14cc3dce-cd9d-344c-004f-82ac012e1922"
      },
      "outputs": [],
      "source": [
        "from keras.models import Sequential\n",
        "from keras.layers import Activation, Dense, Dropout\n",
        "from keras.objectives import MSE, MAE\n",
        "from keras.callbacks import EarlyStopping"
      ]
    },
    {
      "cell_type": "markdown",
      "metadata": {
        "_cell_guid": "67b93b56-ae3c-ef17-7601-1964ea898490"
      },
      "source": [
        "### Define MLP Regression Model and compile it against MAE loss"
      ]
    },
    {
      "cell_type": "code",
      "execution_count": null,
      "metadata": {
        "_cell_guid": "7248f66f-dfc4-488a-a1ac-cbb5d3201d52"
      },
      "outputs": [],
      "source": [
        "model = Sequential()\n",
        "model.add(Dense(input_dim=train_x.shape[1], output_dim=256))\n",
        "model.add(Activation(\"tanh\"))\n",
        "model.add(Dropout(0.50))\n",
        "model.add(Dense(output_dim=128))\n",
        "model.add(Activation(\"relu\"))\n",
        "model.add(Dropout(0.50))\n",
        "model.add(Dense(output_dim=64))\n",
        "model.add(Activation(\"relu\"))\n",
        "model.add(Dropout(0.50))\n",
        "model.add(Dense(output_dim=1))\n",
        "model.compile(\"nadam\", \"mae\")"
      ]
    },
    {
      "cell_type": "markdown",
      "metadata": {
        "_cell_guid": "641ce14f-4b20-2c94-ce1a-1754877872a9"
      },
      "source": [
        "### Run train"
      ]
    },
    {
      "cell_type": "markdown",
      "metadata": {
        "_cell_guid": "7ee1aac5-5cdb-c18d-ebe6-bda4eb630c10"
      },
      "source": [
        "use 10% of the train data as validation for early stopping"
      ]
    },
    {
      "cell_type": "code",
      "execution_count": null,
      "metadata": {
        "_cell_guid": "26b1cde2-3894-fe9d-016d-5e64ee13b70e"
      },
      "outputs": [],
      "source": [
        "early_stopping = EarlyStopping(monitor='val_loss', patience=10)\n",
        "train_log = model.fit(train_x, train_y.values, batch_size=256, nb_epoch=200, validation_split=0.1, verbose=2, callbacks=[early_stopping])"
      ]
    },
    {
      "cell_type": "code",
      "execution_count": null,
      "metadata": {
        "_cell_guid": "4d299b50-0e0c-26f4-7480-ffd5aea54269"
      },
      "outputs": [],
      "source": [
        "plt.plot(train_log.history[\"loss\"], label=\"loss\")\n",
        "plt.plot(train_log.history[\"val_loss\"], label=\"val_loss\")\n",
        "plt.legend()"
      ]
    },
    {
      "cell_type": "markdown",
      "metadata": {
        "_cell_guid": "90b2d484-ff86-406f-5ef0-c40873d2ddf5"
      },
      "source": [
        "That's it! Now make the submission."
      ]
    },
    {
      "cell_type": "code",
      "execution_count": null,
      "metadata": {
        "_cell_guid": "8773ee89-8b03-76a6-6120-d84cae5028bf"
      },
      "outputs": [],
      "source": [
        "pred_y = model.predict(test_x)\n",
        "result = pd.DataFrame(pred_y, index=test_data.index, columns=[\"loss\"])\n",
        "result.to_csv(\"submission.csv\")"
      ]
    },
    {
      "cell_type": "code",
      "execution_count": null,
      "metadata": {
        "_cell_guid": "160c6be6-7f14-5873-9504-f11198400628"
      },
      "outputs": [],
      "source": ""
    }
  ],
  "metadata": {
    "_change_revision": 0,
    "_is_fork": false,
    "kernelspec": {
      "display_name": "Python 3",
      "language": "python",
      "name": "python3"
    },
    "language_info": {
      "codemirror_mode": {
        "name": "ipython",
        "version": 3
      },
      "file_extension": ".py",
      "mimetype": "text/x-python",
      "name": "python",
      "nbconvert_exporter": "python",
      "pygments_lexer": "ipython3",
      "version": "3.5.2"
    }
  },
  "nbformat": 4,
  "nbformat_minor": 0
}