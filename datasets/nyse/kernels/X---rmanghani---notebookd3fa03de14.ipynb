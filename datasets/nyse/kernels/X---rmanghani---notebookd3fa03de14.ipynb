{
  "cells": [
    {
      "cell_type": "markdown",
      "metadata": {
        "_cell_guid": "d1ca4d6e-e54c-88ed-4d2e-330d062ba5c3"
      },
      "source": [
        ""
      ]
    },
    {
      "cell_type": "code",
      "execution_count": null,
      "metadata": {
        "_cell_guid": "3b4bf1b2-2ac4-39b8-b098-5a8b6f16b03e"
      },
      "outputs": [],
      "source": [
        "# This Python 3 environment comes with many helpful analytics libraries installed\n",
        "# It is defined by the kaggle/python docker image: https://github.com/kaggle/docker-python\n",
        "# For example, here's several helpful packages to load in \n",
        "\n",
        "import numpy as np # linear algebra\n",
        "import pandas as pd # data processing, CSV file I/O (e.g. pd.read_csv)\n",
        "import matplotlib.pyplot as plt\n",
        "import seaborn as sns\n",
        "from pandas.stats.api import ols\n",
        "\n",
        "# Input data files are available in the \"../input/\" directory.\n",
        "# For example, running this (by clicking run or pressing Shift+Enter) will list the files in the input directory\n",
        "data_f=pd.read_csv(\"../input/fundamentals.csv\")\n",
        "#res = ols(y=data_f['Ticker Symbol'], x=data_f)\n",
        "#res\n",
        "#len(data_f.columns)\n",
        "x=data_f.groupby(['Ticker Symbol'])['Gross Profit','Net Income','Accounts Payable','Accounts Receivable','Investments','Net Cash Flow','Total Assets','Total Equity','Total Revenue']\n",
        "x.sum()\n",
        "\n",
        "#data_f['Ticker Symbol','Gross Profit']\n",
        "#data_f.columns\n",
        "#data_f.dtypes\n",
        "#symbol=data_f['Ticker Symbol'].unique()\n",
        "#s=list(symbol)\n",
        "#for i in range(len(s)):\n",
        "#    print(s[i])\n",
        "#sns.pairplot(data_f)\n",
        "#plt.show()\n",
        "\n",
        "# Any results you write to the current directory are saved as output."
      ]
    },
    {
      "cell_type": "code",
      "execution_count": null,
      "metadata": {
        "_cell_guid": "72c315c2-ab4d-0071-dd3d-749c84f7e421"
      },
      "outputs": [],
      "source": [
        "data_price=pd.read_csv(\"../input/prices.csv\")\n",
        "#data_price.groupby(['symbol'])['open','high','low','close']\n",
        "\n",
        "del data_price['date']\n",
        "#data_price.columns\n",
        "df=data_price[data_price['symbol']=='AAP']\n"
      ]
    },
    {
      "cell_type": "code",
      "execution_count": null,
      "metadata": {
        "_cell_guid": "cd416236-c9e2-d68c-a480-c607c765f5fc"
      },
      "outputs": [],
      "source": [
        "df\n",
        "sns.pairplot(df)\n",
        "plt.show()\n",
        "\n",
        "#data_price_s=pd.read_csv(\"../input/prices-split-adjusted.csv\")\n",
        "#data_price_s"
      ]
    },
    {
      "cell_type": "code",
      "execution_count": null,
      "metadata": {
        "_cell_guid": "19da16fe-cdbb-40d7-e899-cee69a99d142"
      },
      "outputs": [],
      "source": [
        "#df\n",
        "res = ols(y=df['close'], x=df['open'])\n",
        "res"
      ]
    }
  ],
  "metadata": {
    "_change_revision": 0,
    "_is_fork": false,
    "kernelspec": {
      "display_name": "Python 3",
      "language": "python",
      "name": "python3"
    },
    "language_info": {
      "codemirror_mode": {
        "name": "ipython",
        "version": 3
      },
      "file_extension": ".py",
      "mimetype": "text/x-python",
      "name": "python",
      "nbconvert_exporter": "python",
      "pygments_lexer": "ipython3",
      "version": "3.6.0"
    }
  },
  "nbformat": 4,
  "nbformat_minor": 0
}