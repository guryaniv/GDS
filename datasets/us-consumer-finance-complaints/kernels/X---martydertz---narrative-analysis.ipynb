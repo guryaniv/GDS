{
  "cells": [
    {
      "cell_type": "markdown",
      "metadata": {
        "_cell_guid": "24db832b-3723-9fe0-8fbd-3d2095268964"
      },
      "source": [
        "# Clustering, Topic Modeling Consumer Mortgage Complaints\n",
        "\n",
        "## Background\n",
        "\n",
        "The Consumer Financial Protection Bureau (CFPB) was created as part of the Dodd-Frank Financial Protection Act, and it's mission is to empower and educate consumers about financial products. CFPB also is responsible for enforcing financial regulations. Therefore consumer complaints hold useful information both for CFPB and the customers they serve. In the following sections we connect to the complaints data and do an exploratory analysis of the narratives provided by customers. \n",
        "\n",
        "Along the way we'll highlight areas that may be useful to CFPB, both in educating & empowering consumers within its Division of Consumer Education and Engagement and Division of Research Markets and Regulation. \n",
        "\n",
        "\n",
        "## Getting the Data\n",
        "\n",
        "After importing each package, we'll query the consumer compaints database provided by CFPB by\n",
        "\n",
        "1. Connecting to the database file\n",
        "2. Creating a cursor for the connection\n",
        "3. Creating and execute a SQL query, saving the results to the 'complaints' variable\n",
        "4. Closing the connection."
      ]
    },
    {
      "cell_type": "code",
      "execution_count": null,
      "metadata": {
        "_cell_guid": "0b942cf4-72e1-8d0f-b9ff-364f6ad3c0ca"
      },
      "outputs": [],
      "source": [
        "import sqlite3\n",
        "import os \n",
        "import nltk\n",
        "import numpy as np\n",
        "import scipy\n",
        "\n",
        "con = sqlite3.connect(\"../input/database.sqlite\")\n",
        "cur = con.cursor()\n",
        "sqlString = \"\"\" \n",
        "            SELECT complaint_id, date_received, consumer_complaint_narrative, company, timely_response\n",
        "            FROM consumer_complaints\n",
        "            WHERE product = \"Mortgage\" AND \n",
        "                            consumer_complaint_narrative != \"\"\n",
        "            \"\"\"\n",
        "cur.execute(sqlString)\n",
        "complaints = cur.fetchall()\n",
        "con.close()"
      ]
    },
    {
      "cell_type": "markdown",
      "metadata": {
        "_cell_guid": "471de920-852f-bc20-4fbd-30218d47ade5"
      },
      "source": [
        "### Peeking at the Data\n",
        "\n",
        "The rows selected -- complaint_id, consumer_complaint_narrative, company -- are stored as a list of tuples. There is one tuple for each row. As an example, let's randomly (well, sort of...) select a complaint and print its date, narrative, and company"
      ]
    },
    {
      "cell_type": "code",
      "execution_count": null,
      "metadata": {
        "_cell_guid": "daefcd97-d548-8541-f80d-c092b8952263"
      },
      "outputs": [],
      "source": [
        "import random\n",
        "random.seed(7040)\n",
        "rand_complaint = random.randint(0, len(complaints))\n",
        "print(rand_complaint)\n",
        "print(len(complaints))\n",
        "print(complaints[rand_complaint])"
      ]
    },
    {
      "cell_type": "markdown",
      "metadata": {
        "_cell_guid": "582fe6d5-b443-cc5c-3373-b72cdc68ce9a"
      },
      "source": [
        "## Some Questions\n",
        "\n",
        "Our random complaint is voyeristically interesting (if a little disheartening), but reading it with CFPB in mind questions come to mind, like \"Are there other, similar narratives?\"."
      ]
    },
    {
      "cell_type": "markdown",
      "metadata": {
        "_cell_guid": "c587ed0b-b35a-355e-6dc9-f0c0d09084d6"
      },
      "source": [
        "To find similar complaints we need a way to compute similarity, and to do that we need to represent each narrative's text as vectors in a matrix, a so-called 'bag-of-words'."
      ]
    },
    {
      "cell_type": "markdown",
      "metadata": {
        "_cell_guid": "7b09ec93-41b3-f711-0d15-789187f06c31"
      },
      "source": [
        "## Document-Term Matrix\n",
        "\n",
        "The first step in answering the second question is taking our raw text and process it. For each narrative we want two pieces of information\n",
        "\n",
        "1. What words appear, and\n",
        "2. How many times each of the words appears\n",
        "\n",
        "An efficient way to do this is with a Document Term Matrix (DTM) and Vocabulary. The DTM has a row for each mortgage complaint narrative and a column for each word in the vocabulary, resulting in an MxN matrix, where M is the number of complaints and N is the number of words in the vocabulary. The *ijth* entry corresponds to the count of the *jth* vocabulary word in *the ith* narrative. \n",
        "\n",
        "That may seem a bit abstract if you're unfamiliar with text analysis and/or linear algebra, but the basic concept -- counting word occurrences -- is in fact quite simple. To create the DTM, we'll first extract each complaint so we have a list of complaints."
      ]
    },
    {
      "cell_type": "code",
      "execution_count": null,
      "metadata": {
        "_cell_guid": "e822c791-a661-adf8-f205-2bc86ab57cb9"
      },
      "outputs": [],
      "source": [
        "complaint_list = []\n",
        "for i in range(len(complaints)):\n",
        "    complaint_list.append(complaints[i][2])"
      ]
    },
    {
      "cell_type": "markdown",
      "metadata": {
        "_cell_guid": "a1311e5f-a838-e681-7a69-a694f09b93e4"
      },
      "source": [
        "### Stop Words\n",
        "\n",
        "In extracting a vocabulary for the text, we want balance: Including all words used is more than we need, but too few and we won't extract any meaningful information. Once we have a vocabulary we'll count up how many times each narrative uses each word in the vocabulary. Those counts will make up the DTM.\n",
        "\n",
        "The big idea behind creating a DTM is that each document -- in our case mortgage complaint narratives -- can be represented as a vector. Using vectors we can compute things like distance and similarity between narratives. \n",
        "\n",
        "But some words -- like 'the', 'a', 'it' -- occur so frequently in English text they'll be in nearly 100% of the narratives and therefore don't add much value to our DTM. Think of it like this -- if I tell you two narratives use the word 'the' and 'it' five times you likely haven't learned anything about their content, but if I tell you two narratives contain the words 'refinance' and 'foreclosure' 5 times you can begin to make some inferences about what other words they include. \n",
        "\n",
        "In text analysis, these frequently occuring terms are known as 'stop words'. There's a dictionary of them in the nltk package but we'll also include some words from the text reading the example narrative above we don't want in the vocabulary. "
      ]
    },
    {
      "cell_type": "code",
      "execution_count": null,
      "metadata": {
        "_cell_guid": "0e8e0743-dc60-ca22-ac63-29523004e46c"
      },
      "outputs": [],
      "source": [
        "stopwords = nltk.corpus.stopwords.words('english')\n",
        "stopwords.extend(['wells', 'fargo, bank', 'america','chase', 'x','xx','xxx','xxxx','xxxxx',\n",
        "                'mortgage', 'x/xx/xxxx', 'mortgage', '00'])\n",
        "print(stopwords[0:11])"
      ]
    },
    {
      "cell_type": "markdown",
      "metadata": {
        "_cell_guid": "6da2f08e-4a03-63cf-69b0-aa8ebadb78bc"
      },
      "source": [
        "### Words to Vectors\n",
        "Now that we've got our stop words, we can create a CountVectorizer object with our stop word list and feed it our complaint list. Then we'll coerce the matrix and vocabulary to numpy arrays because they have more methods that we'll use in later computations. "
      ]
    },
    {
      "cell_type": "code",
      "execution_count": null,
      "metadata": {
        "_cell_guid": "e664359c-aa12-d872-ca13-2a663f2b4b44"
      },
      "outputs": [],
      "source": [
        "from sklearn.feature_extraction.text import CountVectorizer\n",
        "vectorizer = CountVectorizer(stop_words = stopwords)\n",
        "dtm = vectorizer.fit_transform(complaint_list)\n",
        "vocab = vectorizer.get_feature_names()\n",
        "dtm = dtm.toarray()\n",
        "vocab = np.array(vocab)"
      ]
    },
    {
      "cell_type": "markdown",
      "metadata": {
        "_cell_guid": "1dd7c397-386f-d006-9ccc-7eebd1ba2bbe"
      },
      "source": [
        "## Using the DTM \n",
        "\n",
        "Now that we've processed and vectorized our text some doors have opened. For example, for any two narratives we could compute the\n",
        "\n",
        "- **Cosine Similarity**: A measure of how similar two narratives are. It's the measure of the cosine of the angle between two vectors. A value of 1 corresponds to an angle of 0 degrees, or equivalent vectors and 90 degrees, or orthogonal vectors. \n",
        "- **Euclidean Distance**:  The square root of the squares of each component part. Less formally, this is the length of a line between two points.\n",
        "\n",
        "We could use the DTM, for example, to find the narratives which are most similar to each other. As an example, we'll loop through the DTM, measure the similarity of each narrative to the Rushmore complaint we started with (the randomly selected one from the beginning), and return the complaint that's most similar. "
      ]
    },
    {
      "cell_type": "code",
      "execution_count": null,
      "metadata": {
        "_cell_guid": "adbef781-005b-8400-01c9-ae027674645e"
      },
      "outputs": [],
      "source": [
        "from sklearn.metrics.pairwise import cosine_similarity\n",
        " \n",
        "sim = 0\n",
        "for i in range(len(dtm)):\n",
        "    if i == 2:\n",
        "        pass\n",
        "    else:\n",
        "        s = cosine_similarity(dtm[2].reshape(1,-1),dtm[i].reshape(1,-1))[0][0]\n",
        "        if s > sim:\n",
        "            sim = s\n",
        "            closest = i\n",
        "print(sim, closest)"
      ]
    },
    {
      "cell_type": "markdown",
      "metadata": {
        "_cell_guid": "2cb74d1f-4712-8eda-f6b4-9afd7f343b1b"
      },
      "source": [
        "So we have the complaint we started with and another which is the most similar according to the similarity measurement we defined. But what about a human reader? Would a person reading the texts notice any similarities? Let's print them out side-by-side and see"
      ]
    },
    {
      "cell_type": "code",
      "execution_count": null,
      "metadata": {
        "_cell_guid": "84d1b73a-5ab4-e034-0cbc-fa912e87e769"
      },
      "outputs": [],
      "source": [
        "print(\"COMPLAINT 2: \",complaints[2])\n",
        "print(\"COMPLAINT \", closest,\": \", complaints[closest])"
      ]
    },
    {
      "cell_type": "markdown",
      "metadata": {
        "_cell_guid": "1ef24063-8a5e-369e-777b-1c087d56ada7"
      },
      "source": [
        "The narratives are definitely unique, but it is reasuring -- at least in validating our similarity measurement -- that both coplaints stem from the same issue. That is lenders failing to cease reporting to credit bureaus after a customer's bankruptcy. So how could CFPB use this information? \n",
        "\n",
        "1. When complaints are filed the most similar complaint -- or even the 10 most similar complaints -- could be used for outreach and connecting consumers. When filing a complaint you're probably interested in how similar complaints were resolved. \n",
        "\n",
        "2. Clustering topics to learn more about categories of consumer complaints. Knowing about clusters would allow CFPB to identify systemic issues. \n",
        "\n",
        "3. Using the vector representations CFPB could identify words distinctive to particular categories. "
      ]
    },
    {
      "cell_type": "markdown",
      "metadata": {
        "_cell_guid": "af556cfb-7c53-ef8c-7d0b-62f1e5283078"
      },
      "source": [
        "### Finding Nearest-Neighbors\n",
        "\n",
        "Now that we've defined a measure of 'similarity', we can use it to sort the narratives into buckets based on their proximity to each other. Again, the DTM is an array of arrays, and the arrays tally up the number of times each vocab word occurs. To use the Rushmore complaint, "
      ]
    },
    {
      "cell_type": "code",
      "execution_count": null,
      "metadata": {
        "_cell_guid": "302678b0-4a50-7355-bd0c-f28a61d27cd3"
      },
      "outputs": [],
      "source": [
        "for i in range(len(vocab)):\n",
        "    if dtm[2][i] != 0:\n",
        "        print(vocab[i], dtm[2][i])"
      ]
    },
    {
      "cell_type": "markdown",
      "metadata": {
        "_cell_guid": "148d69bb-0590-7d13-7b27-8d01fece4cf3"
      },
      "source": [
        "With that in mind, let's take a look at the 5 nearest neighbors to the Rushmore complaint and see what, if anything, they have in common. "
      ]
    },
    {
      "cell_type": "code",
      "execution_count": null,
      "metadata": {
        "_cell_guid": "6e4b8a79-c375-a49f-f8cd-4c6023f8a664"
      },
      "outputs": [],
      "source": [
        "# Given item's value and list of items with values, \n",
        "# return an ordered list of 5 items from list closest to given item\n",
        "def addItem(itemValue, itemIndex, lst):\n",
        "    newList = lst + [(itemValue, itemIndex)]\n",
        "    newList = sorted(newList)\n",
        "    while len(newList) > 5:\n",
        "        newList.pop(0)\n",
        "    return newList"
      ]
    },
    {
      "cell_type": "code",
      "execution_count": null,
      "metadata": {
        "_cell_guid": "0b71173d-b0e4-f70e-a7fd-68a3f8bb43e8"
      },
      "outputs": [],
      "source": [
        "nearestNeighbors=[(0,0)]\n",
        "for i in range(len(dtm)):\n",
        "    if i == 2:\n",
        "        continue\n",
        "    value = cosine_similarity(dtm[2].reshape(1,-1),dtm[i].reshape(1,-1))[0][0]\n",
        "    if value > nearestNeighbors[0][0]:\n",
        "        nearestNeighbors = addItem(value, i, nearestNeighbors)"
      ]
    },
    {
      "cell_type": "code",
      "execution_count": null,
      "metadata": {
        "_cell_guid": "0dd66a82-e4a4-6e6c-c3bd-b085e922ed1e"
      },
      "outputs": [],
      "source": [
        "nearestNeighbors"
      ]
    },
    {
      "cell_type": "code",
      "execution_count": null,
      "metadata": {
        "_cell_guid": "34c5c058-b599-4280-f829-3f6966847d6a"
      },
      "outputs": [],
      "source": [
        "for tpl in nearestNeighbors:\n",
        "    print(complaints[tpl[1]])"
      ]
    },
    {
      "cell_type": "markdown",
      "metadata": {
        "_cell_guid": "3908774f-5439-4116-e3b6-4fac3aa3839d"
      },
      "source": [
        "## Clustering Companies\n",
        "Other than individual complaint similarities CFPB may be interested in similarity of companies. Rather than randomly selecting a company and retrieving its neighbors, this time we'll compare each company to all other companies. That way we can apply machine learning clustering algorithms which we can visually inspect.\n",
        "\n",
        "First we'll get all the companies into a list."
      ]
    },
    {
      "cell_type": "code",
      "execution_count": null,
      "metadata": {
        "_cell_guid": "6d2864a9-1f86-fe6d-bfb6-85c78a284d89"
      },
      "outputs": [],
      "source": [
        "companies = np.array([complaints[i][3] for i in range(len(complaints))])\n",
        "companies_unique = sorted(set(companies))\n",
        "print(len(companies_unique))"
      ]
    },
    {
      "cell_type": "markdown",
      "metadata": {
        "_cell_guid": "4ff28661-97bc-6843-2076-f66db62b1dd3"
      },
      "source": [
        "Now we'll create an empty array the size of our vocabulary for each of the 504 companies. The, for each company, we'll fill up the empty array with the sum of the company's individual complaint vectors from the DTM we created earlier. "
      ]
    },
    {
      "cell_type": "code",
      "execution_count": null,
      "metadata": {
        "_cell_guid": "feb1019c-1dac-3481-4aef-395bee3c243f"
      },
      "outputs": [],
      "source": [
        "# Start with an empty array for each company\n",
        "dtm_companies = np.zeros((len(companies_unique), len(vocab)))\n",
        "# Now, for each company we'll store the sum of the frequency of each vocab\n",
        "# word in the dtm_companies array\n",
        "for i, company in enumerate(companies_unique):\n",
        "    dtm_companies[i, :] = np.sum(dtm[companies == company, :], axis=0) "
      ]
    },
    {
      "cell_type": "markdown",
      "metadata": {
        "_cell_guid": "3efa4ed9-c59c-006c-a876-8486df84d856"
      },
      "source": [
        "Now we'll use the cosine similarity measure and the companies DTM to create a distance matrix which includes dissimilarity  between each company's narratives and all other companies."
      ]
    },
    {
      "cell_type": "code",
      "execution_count": null,
      "metadata": {
        "_cell_guid": "b30fe963-379c-2993-e8d0-33c7fe68d913"
      },
      "outputs": [],
      "source": [
        "dist = 1 - cosine_similarity(dtm_companies)"
      ]
    },
    {
      "cell_type": "code",
      "execution_count": null,
      "metadata": {
        "_cell_guid": "ca4c7843-bbfd-590b-a4cb-4d304e90eabe"
      },
      "outputs": [],
      "source": [
        "from scipy.cluster.hierarchy import ward, dendrogram\n",
        "linkage_matrix = ward(dist)"
      ]
    },
    {
      "cell_type": "code",
      "execution_count": null,
      "metadata": {
        "_cell_guid": "ad598736-43db-4de6-5300-330a9efde0c2"
      },
      "outputs": [],
      "source": [
        "from scipy.cluster.hierarchy import ward, dendrogram\n",
        "%matplotlib inline\n",
        "import matplotlib.pyplot as plt\n",
        "linkage_matrix = ward(dist)\n",
        "dendrogram(linkage_matrix)\n",
        "plt.show()"
      ]
    },
    {
      "cell_type": "markdown",
      "metadata": {
        "_cell_guid": "7c77ad7a-8c2a-9bad-70c5-182e25bfcd25"
      },
      "source": [
        "## Now What?\n",
        "So we've clustered the companies, but what have we learned? From the dendogram (above), we can se there are two distinct clusters, so perhaps the mortgage complaint narratives fit within one of two categories. "
      ]
    }
  ],
  "metadata": {
    "_change_revision": 0,
    "_is_fork": false,
    "kernelspec": {
      "display_name": "Python 3",
      "language": "python",
      "name": "python3"
    },
    "language_info": {
      "codemirror_mode": {
        "name": "ipython",
        "version": 3
      },
      "file_extension": ".py",
      "mimetype": "text/x-python",
      "name": "python",
      "nbconvert_exporter": "python",
      "pygments_lexer": "ipython3",
      "version": "3.5.2"
    }
  },
  "nbformat": 4,
  "nbformat_minor": 0
}