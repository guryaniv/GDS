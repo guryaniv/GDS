{
  "cells": [
    {
      "cell_type": "markdown",
      "metadata": {
        "_cell_guid": "76c9fea4-359a-4ede-e0f5-eef60b68e253"
      },
      "source": [
        "In this competition we have only limited time to run kernel for submission, so it's really important to take a good choice of what is imortant and what is not worth to waste a time on..."
      ]
    },
    {
      "cell_type": "code",
      "execution_count": null,
      "metadata": {
        "_cell_guid": "7d63f49d-f05b-9555-bf75-2487129b72dc"
      },
      "outputs": [],
      "source": [
        "import numpy as np \n",
        "import pandas as pd \n",
        "with pd.HDFStore(\"../input/train.h5\", \"r\") as train:\n",
        "    odf = train.get(\"train\")\n",
        "print(\"Train shape: {}\".format(df.shape))\n",
        "df = odf"
      ]
    },
    {
      "cell_type": "code",
      "execution_count": null,
      "metadata": {
        "_cell_guid": "d7c43410-90cf-0b54-ad33-40b654e0e7a0"
      },
      "outputs": [],
      "source": [
        "from sklearn.model_selection import train_test_split\n",
        "# Values from top public kernel https://www.kaggle.com/bguberfain/two-sigma-financial-modeling/univariate-model-with-clip/run/482189\n",
        "low_y_cut = -0.086092\n",
        "high_y_cut = 0.093496\n",
        "\n",
        "print(\"Preparing data for model...\")\n",
        "excl = [\"id\", \"timestamp\"]\n",
        "col = [c for c in df.columns if c not in excl]\n",
        "df = df.sample(frac=0.1)\n",
        "d_mean= df.median(axis=0)\n",
        "\n",
        "df = df[col]\n",
        "n = df.isnull().sum(axis=1)\n",
        "for c in df.columns:\n",
        "    df[c + '_nan_'] = pd.isnull(df[c])\n",
        "    d_mean[c + '_nan_'] = 0\n",
        "df.fillna(d_mean, inplace=True)\n",
        "df['znull'] = n\n",
        "n = []\n",
        "\n",
        "y_is_within_cut = ((df['y'] > low_y_cut) & (df['y'] < high_y_cut))\n",
        "train_X = df.loc[y_is_within_cut, df.columns[2:-1]]\n",
        "train_y = df.loc[y_is_within_cut, 'y'].values.reshape(-1, 1)\n",
        "X_tr, X_val, y_tr, y_val = train_test_split(train_X, train_y, random_state = 3)\n",
        "print(\"Data for model: X={}, y={}\".format(train_X.shape, train_y.shape))"
      ]
    },
    {
      "cell_type": "code",
      "execution_count": null,
      "metadata": {
        "_cell_guid": "7d20abcb-8874-c147-f2ca-dc3018b68055"
      },
      "outputs": [],
      "source": [
        "from sklearn.decomposition import PCA\n",
        "model_pca = PCA(whiten=True)\n",
        "print(\"Fitting...\")\n",
        "model_pca.fit(X_tr)\n",
        "print(\"Fitting done\")\n",
        "print(model_pca.explained_variance_ratio_)\n",
        "variance = pd.DataFrame(model_pca.explained_variance_ratio_)\n",
        "np.cumsum(model_pca.explained_variance_ratio_)\n",
        "\n"
      ]
    },
    {
      "cell_type": "code",
      "execution_count": null,
      "metadata": {
        "_cell_guid": "133e9df1-3388-77fd-b520-9b73df14ab74"
      },
      "outputs": [],
      "source": ""
    },
    {
      "cell_type": "code",
      "execution_count": null,
      "metadata": {
        "_cell_guid": "6da3011b-1fd6-4aeb-fa43-31e4a571f1cf"
      },
      "outputs": [],
      "source": [
        "model_pca = PCA(n_components=3,whiten=True)\n",
        "model_pca.fit(X_tr)\n",
        "X_tr_pca = model_pca.transform(X_tr)\n",
        "X_val_pca = model_pca.transform(X_val)\n",
        "print(X_tr_pca)"
      ]
    },
    {
      "cell_type": "code",
      "execution_count": null,
      "metadata": {
        "_cell_guid": "fb45cd15-9e6a-7178-b1ef-681926ee68eb"
      },
      "outputs": [],
      "source": [
        "y_tr_pca = model_pca.transform(y_tr)\n",
        "y_val_pca = model_pca.transform(y_val)"
      ]
    },
    {
      "cell_type": "code",
      "execution_count": null,
      "metadata": {
        "_cell_guid": "d0a55e40-523f-8ccb-8994-31c56726b1e1"
      },
      "outputs": [],
      "source": [
        "import xgboost as xgb\n",
        "model_xgb = xgb.XGBRegressor()\n",
        "print(\"Fitting...\")\n",
        "model_xgb.fit(X_tr, y_tr)\n",
        "print(\"Fitting done\")"
      ]
    },
    {
      "cell_type": "code",
      "execution_count": null,
      "metadata": {
        "_cell_guid": "6d86aaa7-5c31-8b38-fea1-49fdfd2fd584"
      },
      "outputs": [],
      "source": [
        "model_xgb_pca = xgb.XGBRegressor()\n",
        "print(\"Fitting...\")\n",
        "model_xgb_pca.fit(X_tr, y_tr)\n",
        "print(\"Fitting done\")"
      ]
    },
    {
      "cell_type": "code",
      "execution_count": null,
      "metadata": {
        "_cell_guid": "edb95904-66b7-1794-3b0d-95240c6e3031"
      },
      "outputs": [],
      "source": [
        "from sklearn.metrics import r2_score\n",
        "y_pred = model_xgb.predict(X_val)\n",
        "predictions = [round(value) for value in y_pred]\n",
        "# evaluate predictions\n",
        "r2 = r2_score(y_val, predictions)\n",
        "print(\"XGBoost with raw dataset \" + str(mae))"
      ]
    },
    {
      "cell_type": "code",
      "execution_count": null,
      "metadata": {
        "_cell_guid": "6d5da8da-4da5-3d3d-5cd3-adb8eb386f73"
      },
      "outputs": [],
      "source": [
        "y_pred = model_xgb_pca.predict(X_val_pca)\n",
        "predictions = [round(value) for value in y_pred]\n",
        "# evaluate predictions\n",
        "r2 = r2_score(y_val, predictions)\n",
        "print(\"XGBoost with PCA dataset \" + str(r2))"
      ]
    },
    {
      "cell_type": "code",
      "execution_count": null,
      "metadata": {
        "_cell_guid": "2941246c-6e0b-8fe7-21f8-8dd1936b5d74"
      },
      "outputs": [],
      "source": [
        "odf[col].fillna(d_mean).loc[y_is_within_cut, 'technical_20'].values"
      ]
    },
    {
      "cell_type": "code",
      "execution_count": null,
      "metadata": {
        "_cell_guid": "be0a5d7e-d42b-7bb3-7a53-c7bb1a2d361e"
      },
      "outputs": [],
      "source": [
        "from sklearn.ensemble import ExtraTreesRegressor\n",
        "rfr = ExtraTreesRegressor(n_estimators=100, max_depth=4, n_jobs=-1, random_state=17, verbose=0)\n",
        "model1 = rfr.fit(X_tr, y_tr)\n"
      ]
    },
    {
      "cell_type": "code",
      "execution_count": null,
      "metadata": {
        "_cell_guid": "464d452b-4998-dca3-ef91-6be5279130d0"
      },
      "outputs": [],
      "source": [
        "y_pred = model1.predict(X_val)\n",
        "prediction = [round(value) for value in y_pred]\n",
        "# evaluate predictions\n",
        "r2 = r2_score(y_val, prediction)\n",
        "print(\"ExtraTreeRegressor model \" + str(r2))"
      ]
    },
    {
      "cell_type": "code",
      "execution_count": null,
      "metadata": {
        "_cell_guid": "772f0a7f-9a60-0cce-c551-81d64a9cc895"
      },
      "outputs": [],
      "source": [
        "from sklearn.linear_model import LinearRegression\n",
        "model2 = LinearRegression(n_jobs=-1)\n",
        "model2.fit(X_tr, y_tr)"
      ]
    },
    {
      "cell_type": "code",
      "execution_count": null,
      "metadata": {
        "_cell_guid": "6bdf93f8-b22d-2ec4-c291-8de110eb94c5"
      },
      "outputs": [],
      "source": [
        "y_pred = model2.predict(X_val)\n",
        "# evaluate predictions\n",
        "r2 = r2_score(y_val, y_pred)\n",
        "print(\"Linear model \" + str(r2))"
      ]
    }
  ],
  "metadata": {
    "_change_revision": 0,
    "_is_fork": false,
    "kernelspec": {
      "display_name": "Python 3",
      "language": "python",
      "name": "python3"
    },
    "language_info": {
      "codemirror_mode": {
        "name": "ipython",
        "version": 3
      },
      "file_extension": ".py",
      "mimetype": "text/x-python",
      "name": "python",
      "nbconvert_exporter": "python",
      "pygments_lexer": "ipython3",
      "version": "3.6.0"
    }
  },
  "nbformat": 4,
  "nbformat_minor": 0
}