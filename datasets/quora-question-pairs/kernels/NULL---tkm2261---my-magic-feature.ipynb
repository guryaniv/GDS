{
  "cells": [
    {
      "cell_type": "markdown",
      "metadata": {
        "_cell_guid": "21fbc4f6-265d-d28f-3821-7f2e71af88c1"
      },
      "source": [
        "# Clique size is one of the leaks?\n",
        "\n",
        "Congrats winner and gold medalists! I struggled for a solo gold medal but fell short of it slightly.  \n",
        "I am strongly concerned what made difference. I am happy if you share your \"magic\" or great features.  \n",
        "First, I would like to share my magic feature: clique size."
      ]
    },
    {
      "cell_type": "code",
      "execution_count": null,
      "metadata": {
        "_cell_guid": "f979c132-6b8b-7a3c-d360-789d67182187"
      },
      "outputs": [],
      "source": [
        "%matplotlib inline\n",
        "import networkx as nx\n",
        "import pandas as pd\n",
        "from itertools import combinations\n",
        "\n",
        "G = nx.Graph()\n",
        "df = pd.read_csv('../input/train.csv').fillna(\"\")\n",
        "\n",
        "edges = [tuple(x) for x in df[['question1', 'question2']].values]\n",
        "G.add_edges_from(edges)\n",
        "\n",
        "map_label = dict(((x[0], x[1]), x[2]) for x in df[['question1', 'question2', 'is_duplicate']].values)\n",
        "map_clique_size = {}\n",
        "cliques = sorted(list(nx.find_cliques(G)), key=lambda x: len(x))\n",
        "for cli in cliques:\n",
        "    for q1, q2 in combinations(cli, 2):\n",
        "        if (q1, q2) in map_label:\n",
        "            map_clique_size[q1, q2] = len(cli)\n",
        "        elif (q2, q1) in map_label:\n",
        "            map_clique_size[q2, q1] = len(cli)\n",
        " \n",
        "df['clique_size'] = df.apply(lambda row: map_clique_size.get((row['question1'], row['question2']), -1), axis=1)"
      ]
    },
    {
      "cell_type": "code",
      "execution_count": null,
      "metadata": {
        "_cell_guid": "f027caa0-5649-142c-0175-d5c6448b7c75"
      },
      "outputs": [],
      "source": [
        "# Average true rate of clique. Large cliques have many of true data. \n",
        "df.groupby('clique_size')['is_duplicate'].mean().plot(kind='bar')"
      ]
    },
    {
      "cell_type": "code",
      "execution_count": null,
      "metadata": {
        "_cell_guid": "98377caf-f330-5a7e-0280-a9a71b8517d0"
      },
      "outputs": [],
      "source": [
        "# clique size count\n",
        "df.groupby('clique_size')[['is_duplicate']].count().plot(kind='bar')"
      ]
    },
    {
      "cell_type": "code",
      "execution_count": null,
      "metadata": {
        "_cell_guid": "5e2db379-9025-e084-87f6-e55b95bc0046"
      },
      "outputs": [],
      "source": [
        "df['is_greater2'] = df['clique_size'] > 2\n",
        "df.groupby('is_greater2')[['is_duplicate']].sum() / df['is_duplicate'].sum()"
      ]
    },
    {
      "cell_type": "markdown",
      "metadata": {
        "_cell_guid": "6caa36cb-6807-e07e-c54e-8da106d6ec58"
      },
      "source": [
        "Cliques whose size is over 3 have about **60%** of true data, despite all most all data's clique size is 2. \n",
        "\n",
        "Other shared magic features mainly focused on question frequency. \n",
        "I guess the clique feature is more essential. Nodes in a clique are fully connected,  so node in a large clique has a large degree (large frequency).\n",
        "\n",
        "Since I was competing in the top group, sharing it during the competition was a difficult choice.  Forgive me!"
      ]
    }
  ],
  "metadata": {
    "_change_revision": 0,
    "_is_fork": false,
    "kernelspec": {
      "display_name": "Python 3",
      "language": "python",
      "name": "python3"
    },
    "language_info": {
      "codemirror_mode": {
        "name": "ipython",
        "version": 3
      },
      "file_extension": ".py",
      "mimetype": "text/x-python",
      "name": "python",
      "nbconvert_exporter": "python",
      "pygments_lexer": "ipython3",
      "version": "3.6.0"
    }
  },
  "nbformat": 4,
  "nbformat_minor": 0
}