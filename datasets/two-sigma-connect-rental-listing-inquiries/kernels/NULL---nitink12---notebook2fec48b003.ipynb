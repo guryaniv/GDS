{
  "cells": [
    {
      "cell_type": "code",
      "execution_count": null,
      "metadata": {
        "_cell_guid": "119dc763-a7a4-4238-dc68-fd7ee084ba74"
      },
      "outputs": [],
      "source": [
        "import numpy as np\n",
        "import pandas as pd\n",
        "from scipy import sparse\n",
        "import xgboost as xgb\n",
        "import random\n",
        "from sklearn.preprocessing import LabelEncoder\n",
        "from sklearn.metrics import log_loss\n",
        "from sklearn.feature_extraction.text import CountVectorizer\n",
        "\n",
        "train_df = pd.read_json(\"../input/train.json\")\n",
        "test_df = pd.read_json(\"../input/test.json\")\n"
      ]
    },
    {
      "cell_type": "code",
      "execution_count": null,
      "metadata": {
        "_cell_guid": "a6e65d17-1220-0d4e-e0cb-8d48244939e3"
      },
      "outputs": [],
      "source": [
        "\n",
        "def runXGB(train_X, train_y, test_X, test_y=None, feature_names=None, seed_val=321, num_rounds=2000):\n",
        "    param = {}\n",
        "    param['objective'] = 'multi:softprob'\n",
        "    param['eta'] = 0.02\n",
        "    param['max_depth'] = 6\n",
        "    param['silent'] = 1\n",
        "    param['num_class'] = 3\n",
        "    param['eval_metric'] = \"mlogloss\"\n",
        "    param['min_child_weight'] = 1\n",
        "    param['subsample'] = 0.7\n",
        "    param['colsample_bytree'] = 0.7\n",
        "    param['seed'] = seed_val\n",
        "    num_rounds = num_rounds\n",
        "\n",
        "    plst = list(param.items())\n",
        "    xgtrain = xgb.DMatrix(train_X, label=train_y)\n",
        "\n",
        "    if test_y is not None:\n",
        "        xgtest = xgb.DMatrix(test_X, label=test_y)\n",
        "        watchlist = [ (xgtrain,'train'), (xgtest, 'test') ]\n",
        "        model = xgb.train(plst, xgtrain, num_rounds, watchlist, early_stopping_rounds=20)\n",
        "    else:\n",
        "        xgtest = xgb.DMatrix(test_X)\n",
        "        model = xgb.train(plst, xgtrain, num_rounds)\n",
        "\n",
        "    pred_test_y = model.predict(xgtest)\n",
        "    return pred_test_y, model\n",
        "\n"
      ]
    },
    {
      "cell_type": "code",
      "execution_count": null,
      "metadata": {
        "_cell_guid": "5ac3c1f6-8cd9-6174-c37f-9c457e07c1cd"
      },
      "outputs": [],
      "source": [
        "train_df[\"bedrooms_calc\"]=train_df[\"bedrooms\"]\n",
        "train_df[\"bedrooms_calc\"][train_df[\"bedrooms_calc\"]==0]=.01\n",
        "\n",
        "train_df[\"bathrooms_calc\"]=train_df[\"bathrooms\"]\n",
        "train_df[\"bathrooms_calc\"][train_df[\"bathrooms_calc\"]==0]=.01\n",
        "\n",
        "test_df[\"bedrooms_calc\"]=test_df[\"bedrooms\"]\n",
        "test_df[\"bedrooms_calc\"][test_df[\"bedrooms_calc\"]==0]=.01\n",
        "\n",
        "test_df[\"bathrooms_calc\"]=test_df[\"bathrooms\"]\n",
        "test_df[\"bathrooms_calc\"][test_df[\"bathrooms_calc\"]==0]=.01"
      ]
    },
    {
      "cell_type": "code",
      "execution_count": null,
      "metadata": {
        "_cell_guid": "8156d639-146f-a44b-f9bd-1507775b3b46"
      },
      "outputs": [],
      "source": [
        "test_df[\"bathrooms\"].loc[19671] = 1.5\n",
        "test_df[\"bathrooms\"].loc[22977] = 2.0\n",
        "test_df[\"bathrooms\"].loc[63719] = 2.0\n",
        "train_df[\"price\"] = train_df[\"price\"].clip(upper=13000)\n",
        "\n",
        "train_df[\"logprice\"] = np.log(train_df[\"price\"])\n",
        "test_df[\"logprice\"] = np.log(test_df[\"price\"])\n",
        "\n",
        "train_df[\"price_t\"] =train_df[\"price\"]/train_df[\"bedrooms_calc\"]\n",
        "test_df[\"price_t\"] = test_df[\"price\"]/test_df[\"bedrooms_calc\"] \n",
        "\n",
        "train_df[\"roomToBathRatio\"] =train_df[\"bedrooms\"]/train_df[\"bathrooms_calc\"]\n",
        "test_df[\"roomToBathRatio\"] = test_df[\"bedrooms\"]/test_df[\"bathrooms_calc\"] \n",
        "\n",
        "train_df[\"room_sum\"] = train_df[\"bedrooms_calc\"]+train_df[\"bathrooms_calc\"] \n",
        "test_df[\"room_sum\"] = test_df[\"bedrooms_calc\"]+test_df[\"bathrooms_calc\"] \n",
        "\n",
        "train_df['price_per_room'] = train_df['price']/train_df['room_sum']\n",
        "test_df['price_per_room'] = test_df['price']/test_df['room_sum']\n",
        "\n",
        "#train_df[\"num_photos\"] = train_df[\"photos\"].apply(len)\n",
        "#test_df[\"num_photos\"] = test_df[\"photos\"].apply(len)\n",
        "\n",
        "train_df[\"num_features\"] = train_df[\"features\"].apply(len)\n",
        "test_df[\"num_features\"] = test_df[\"features\"].apply(len)\n",
        "\n",
        "#train_df[\"num_description_words\"] = train_df[\"description\"].apply(lambda x: len(x.split(\" \")))\n",
        "#test_df[\"num_description_words\"] = test_df[\"description\"].apply(lambda x: len(x.split(\" \")))\n",
        "\n",
        "train_df[\"created\"] = pd.to_datetime(train_df[\"created\"])\n",
        "test_df[\"created\"] = pd.to_datetime(test_df[\"created\"])\n",
        "train_df[\"created_year\"] = train_df[\"created\"].dt.year\n",
        "test_df[\"created_year\"] = test_df[\"created\"].dt.year\n",
        "train_df[\"created_month\"] = train_df[\"created\"].dt.month\n",
        "test_df[\"created_month\"] = test_df[\"created\"].dt.month\n",
        "train_df[\"created_day\"] = train_df[\"created\"].dt.day\n",
        "test_df[\"created_day\"] = test_df[\"created\"].dt.day\n",
        "train_df[\"created_hour\"] = train_df[\"created\"].dt.hour\n",
        "test_df[\"created_hour\"] = test_df[\"created\"].dt.hour\n",
        "\n",
        "train_df[\"pos\"] = train_df.longitude.round(3).astype(str) + '_' + train_df.latitude.round(3).astype(str)\n",
        "test_df[\"pos\"] = test_df.longitude.round(3).astype(str) + '_' + test_df.latitude.round(3).astype(str)\n",
        "\n",
        "vals = train_df['pos'].value_counts()\n",
        "dvals = vals.to_dict()\n",
        "train_df[\"density\"] = train_df['pos'].apply(lambda x: dvals.get(x, vals.min()))\n",
        "test_df[\"density\"] = test_df['pos'].apply(lambda x: dvals.get(x, vals.min()))\n"
      ]
    },
    {
      "cell_type": "code",
      "execution_count": null,
      "metadata": {
        "_cell_guid": "ab501d95-b79f-a793-3f6e-ba4b9c11737e"
      },
      "outputs": [],
      "source": [
        "#features_to_use=[\"bathrooms\", \"bedrooms\", \"latitude\", \"longitude\", \"price\",\"price_t\",\"price_per_room\", \"logprice\", \"density\",\n",
        "#\"num_photos\", \"num_features\", \"num_description_words\",\"listing_id\", \"created_year\", \"created_month\", \"created_day\", \"created_hour\"]\n",
        "\n",
        "features_to_use=[\"bathrooms\", \"bedrooms\", \"latitude\", \"longitude\", \"price\",\"price_t\",\"price_per_room\", \"logprice\", \"density\",\n",
        " \"num_features\", \"listing_id\", \"roomToBathRatio\", \"created_year\", \"created_month\", \"created_day\", \"created_hour\"]\n",
        "\n"
      ]
    },
    {
      "cell_type": "code",
      "execution_count": null,
      "metadata": {
        "_cell_guid": "13313cc2-19b1-e074-38d1-05f39ae61a6f"
      },
      "outputs": [],
      "source": [
        "# Not running this\n",
        "\n",
        "index=list(range(train_df.shape[0]))\n",
        "random.shuffle(index)\n",
        "a=[np.nan]*len(train_df)\n",
        "b=[np.nan]*len(train_df)\n",
        "c=[np.nan]*len(train_df)\n",
        "\n",
        "\n",
        "for i in range(5):\n",
        "    building_level={}\n",
        "    for j in train_df['manager_id'].values:\n",
        "        building_level[j]=[0,0,0]\n",
        "    \n",
        "    test_index=index[int((i*train_df.shape[0])/5):int(((i+1)*train_df.shape[0])/5)]\n",
        "    train_index=list(set(index).difference(test_index))\n",
        "    \n",
        "    for j in train_index:\n",
        "        temp=train_df.iloc[j]\n",
        "        if temp['interest_level']=='low':\n",
        "            building_level[temp['manager_id']][0]+=1\n",
        "        if temp['interest_level']=='medium':\n",
        "            building_level[temp['manager_id']][1]+=1\n",
        "        if temp['interest_level']=='high':\n",
        "            building_level[temp['manager_id']][2]+=1\n",
        "            \n",
        "    for j in test_index:\n",
        "        temp=train_df.iloc[j]\n",
        "        if sum(building_level[temp['manager_id']])!=0:\n",
        "            a[j]=building_level[temp['manager_id']][0]*1.0/sum(building_level[temp['manager_id']])\n",
        "            b[j]=building_level[temp['manager_id']][1]*1.0/sum(building_level[temp['manager_id']])\n",
        "            c[j]=building_level[temp['manager_id']][2]*1.0/sum(building_level[temp['manager_id']])\n",
        "            \n",
        "train_df['manager_level_low']=a\n",
        "train_df['manager_level_medium']=b\n",
        "train_df['manager_level_high']=c\n",
        "\n",
        "a=[]\n",
        "b=[]\n",
        "c=[]\n",
        "building_level={}\n",
        "for j in train_df['manager_id'].values:\n",
        "    building_level[j]=[0,0,0]\n",
        "\n",
        "for j in range(train_df.shape[0]):\n",
        "    temp=train_df.iloc[j]\n",
        "    if temp['interest_level']=='low':\n",
        "        building_level[temp['manager_id']][0]+=1\n",
        "    if temp['interest_level']=='medium':\n",
        "        building_level[temp['manager_id']][1]+=1\n",
        "    if temp['interest_level']=='high':\n",
        "        building_level[temp['manager_id']][2]+=1\n",
        "\n",
        "for i in test_df['manager_id'].values:\n",
        "    if i not in building_level.keys():\n",
        "        a.append(np.nan)\n",
        "        b.append(np.nan)\n",
        "        c.append(np.nan)\n",
        "    else:\n",
        "        a.append(building_level[i][0]*1.0/sum(building_level[i]))\n",
        "        b.append(building_level[i][1]*1.0/sum(building_level[i]))\n",
        "        c.append(building_level[i][2]*1.0/sum(building_level[i]))\n",
        "test_df['manager_level_low']=a\n",
        "test_df['manager_level_medium']=b\n",
        "test_df['manager_level_high']=c\n",
        "\n",
        "#features_to_use.append('manager_level_low') \n",
        "#features_to_use.append('manager_level_medium') \n",
        "#features_to_use.append('manager_level_high')\n",
        "\n"
      ]
    },
    {
      "cell_type": "code",
      "execution_count": null,
      "metadata": {
        "_cell_guid": "0c18daf7-a3a1-4d2b-bb84-26f265d45b0a"
      },
      "outputs": [],
      "source": [
        "## NK additional Features-\n",
        "# Not running\n",
        "\n",
        "from sklearn.cluster import KMeans\n",
        "xl=train_df.longitude\n",
        "yl=train_df.latitude\n",
        "xl=(xl-np.mean(xl))/np.std(xl)\n",
        "yl=(yl-np.mean(yl))/np.std(yl)\n",
        "\n",
        "a= np.array(xl)\n",
        "b=np.array(yl)\n",
        "c=np.column_stack((a,b))\n",
        "kmeans = KMeans(n_clusters=20)\n",
        "kmeans.fit_predict(c)\n",
        "prediction = kmeans.predict(c)\n",
        "train_df[\"KMeans_Clusters\"]= prediction\n",
        "#df.groupby(\"KMeans_Clusters\").count()\n",
        "\n",
        "xl_test=test_df.longitude\n",
        "yl_test=test_df.latitude\n",
        "xl_test=(xl_test-np.mean(xl))/np.std(xl)\n",
        "yl_test=(yl_test-np.mean(yl))/np.std(yl)\n",
        "a_test= np.array(xl_test)\n",
        "b_test=np.array(yl_test)\n",
        "c_test=np.column_stack((a_test,b_test))\n",
        "kmeans.fit_predict(c_test)\n",
        "prediction_test = kmeans.predict(c_test)\n",
        "test_df[\"KMeans_Clusters\"]= prediction_test\n",
        "\n",
        "cl_count = train_df.groupby(\"KMeans_Clusters\").size()\n",
        "#type(cl_count)\n",
        "\n",
        "toBeRemovedCls=[]\n",
        "for ind in range (len(cl_count)):\n",
        "    if cl_count[ind]<1000 :\n",
        "        toBeRemovedCls.append(ind)\n",
        "        \n",
        "train_df['KMeans_Clusters']=train_df['KMeans_Clusters'].replace(toBeRemovedCls, len(cl_count)+1)\n",
        "test_df['KMeans_Clusters']=test_df['KMeans_Clusters'].replace(toBeRemovedCls, len(cl_count)+1)\n",
        "\n",
        "train_df['KMeans_Clusters']=train_df['KMeans_Clusters'].astype(object)\n",
        "test_df['KMeans_Clusters']=test_df['KMeans_Clusters'].astype(object)\n",
        "features_to_use.append('KMeans_Clusters')\n",
        "#####"
      ]
    },
    {
      "cell_type": "code",
      "execution_count": null,
      "metadata": {
        "_cell_guid": "d0e85d0e-b426-d157-5801-84c0d93c2b07"
      },
      "outputs": [],
      "source": [
        "#categorical = [\"display_address\", \"manager_id\", \"building_id\", \"KMeans_Clusters\"]\n",
        "train_df[\"building_id1\"] = train_df[\"building_id\"]\n",
        "test_df[\"building_id1\"] = test_df[\"building_id\"]\n",
        "\n",
        "#categorical = [\"display_address\", \"manager_id\", \"building_id\"]\n",
        "categorical = [\"display_address\"]\n",
        "for f in categorical:\n",
        "        if train_df[f].dtype=='object':\n",
        "            lbl = LabelEncoder()\n",
        "            lbl.fit(list(train_df[f].values) + list(test_df[f].values))\n",
        "            train_df[f] = lbl.transform(list(train_df[f].values))\n",
        "            test_df[f] = lbl.transform(list(test_df[f].values))\n",
        "            features_to_use.append(f)\n"
      ]
    },
    {
      "cell_type": "code",
      "execution_count": null,
      "metadata": {
        "_cell_guid": "9286c234-dbf2-9e1e-53ea-7fca3dd4109f"
      },
      "outputs": [],
      "source": [
        "## NK additional Features\n",
        "\n",
        "#a_train=max(train_df['created'])-train_df['created']\n",
        "#a_test =max(test_df['created'])-test_df['created']\n",
        "\n",
        "#train_df['daysFromCreated']=a_train/np.timedelta64(1, 'D')\n",
        "#test_df['daysFromCreated']=a_test/np.timedelta64(1, 'D')\n",
        "#features_to_use.append('daysFromCreated')\n",
        "###"
      ]
    },
    {
      "cell_type": "code",
      "execution_count": null,
      "metadata": {
        "_cell_guid": "88c401d4-52a1-f238-d149-032fd6a3b76b"
      },
      "outputs": [],
      "source": [
        "train_df['features'] = train_df[\"features\"].apply(lambda x: \" \".join([\"_\".join(i.split(\" \")) for i in x]))\n",
        "test_df['features'] = test_df[\"features\"].apply(lambda x: \" \".join([\"_\".join(i.split(\" \")) for i in x]))\n",
        "\n",
        "tfidf = CountVectorizer(stop_words='english', max_features=200)\n",
        "tr_sparse = tfidf.fit_transform(train_df[\"features\"])\n",
        "te_sparse = tfidf.transform(test_df[\"features\"])\n"
      ]
    },
    {
      "cell_type": "code",
      "execution_count": null,
      "metadata": {
        "_cell_guid": "aa9e7833-3792-217a-32dd-6f10e694567b"
      },
      "outputs": [],
      "source": [
        "train_df['is_building_id_Av']=1\n",
        "train_df['is_building_id_Av'][train_df['building_id']=='0']=0\n",
        "\n",
        "train_df['is_description_Av']=1\n",
        "train_df['is_description_Av'][train_df['description']=='']=0\n",
        "\n",
        "train_df['is_features_Av']=1\n",
        "train_df['is_features_Av'][train_df['features']=='']=0\n",
        "\n",
        "\n",
        "test_df['is_building_id_Av']=1\n",
        "test_df['is_building_id_Av'][test_df['building_id']=='0']=0\n",
        "\n",
        "test_df['is_description_Av']=1\n",
        "test_df['is_description_Av'][test_df['description']=='']=0\n",
        "\n",
        "test_df['is_features_Av']=1\n",
        "test_df['is_features_Av'][test_df['features']=='']=0\n",
        "\n",
        "\n",
        "#features_to_use.append('is_building_id_Av')\n",
        "features_to_use.append('is_description_Av')\n",
        "#features_to_use.append('is_features_Av')"
      ]
    },
    {
      "cell_type": "code",
      "execution_count": null,
      "metadata": {
        "_cell_guid": "39e5e086-08b6-d8e4-38dd-a57f81ab8ef6"
      },
      "outputs": [],
      "source": [
        "## NK for cross validation\n",
        "train_df['is_train'] = np.random.uniform(0, 1, len(train_df)) <= .80\n",
        "train_train_df, test_train_df = train_df[train_df['is_train']==True], train_df[train_df['is_train']==False]\n",
        "\n",
        "train_df_tr_sparse = tfidf.fit_transform(train_train_df[\"features\"])\n",
        "train_df_te_sparse = tfidf.transform(test_train_df[\"features\"])\n",
        "\n",
        "##NK"
      ]
    },
    {
      "cell_type": "code",
      "execution_count": null,
      "metadata": {
        "_cell_guid": "fda75e42-7762-079c-d79a-6edc76025ff0"
      },
      "outputs": [],
      "source": [
        "## NK\n",
        "train_X_cv = sparse.hstack([train_train_df[features_to_use], train_df_tr_sparse]).tocsr()\n",
        "test_X_cv = sparse.hstack([test_train_df[features_to_use], train_df_te_sparse]).tocsr()\n",
        "\n",
        "##"
      ]
    },
    {
      "cell_type": "code",
      "execution_count": null,
      "metadata": {
        "_cell_guid": "8cbb2b5f-b772-5313-3bb4-e31c1418eb04"
      },
      "outputs": [],
      "source": [
        "## NK\n",
        "target_num_map = {'high':0, 'medium':1, 'low':2}\n",
        "train_train_y = np.array(train_train_df['interest_level'].apply(lambda x: target_num_map[x]))\n",
        "test_train_y = np.array(test_train_df['interest_level'].apply(lambda x: target_num_map[x]))\n",
        "###"
      ]
    },
    {
      "cell_type": "code",
      "execution_count": null,
      "metadata": {
        "_cell_guid": "fe24f191-f8f0-3b45-ee04-53b6a53caeba"
      },
      "outputs": [],
      "source": [
        "## NK\n",
        "preds, model = runXGB(train_X_cv, train_train_y, test_X_cv, test_y=test_train_y, num_rounds=2000)\n",
        "##"
      ]
    },
    {
      "cell_type": "code",
      "execution_count": null,
      "metadata": {
        "_cell_guid": "930ff37a-1894-d46d-1828-ace27379d9c5"
      },
      "outputs": [],
      "source": [
        "##NK GBM\n",
        "from sklearn.ensemble import GradientBoostingClassifier  #GBM algorithm\n",
        "from sklearn import cross_validation, metrics   #Additional scklearn functions\n",
        "\n",
        "##"
      ]
    },
    {
      "cell_type": "code",
      "execution_count": null,
      "metadata": {
        "_cell_guid": "b98a10f1-bc12-eb4f-483b-61dc1b935b3c"
      },
      "outputs": [],
      "source": [
        "###NK GBM\n",
        "def modelfit(alg, dtrain, predictors, performCV=True, printFeatureImportance=True, cv_folds=5):\n",
        "    #Fit the algorithm on the data\n",
        "    alg.fit(dtrain[predictors], dtrain['Disbursed'])\n",
        "        \n",
        "    #Predict training set:\n",
        "    dtrain_predictions = alg.predict(dtrain[predictors])\n",
        "    dtrain_predprob = alg.predict_proba(dtrain[predictors])[:,1]\n",
        "    \n",
        "    #Perform cross-validation:\n",
        "    if performCV:\n",
        "        cv_score = cross_validation.cross_val_score(alg, dtrain[predictors], dtrain['Disbursed'], cv=cv_folds, scoring='roc_auc')\n",
        "    \n",
        "    #Print model report:\n",
        "    print \"\\nModel Report\"\n",
        "    print \"Accuracy : %.4g\" % metrics.accuracy_score(dtrain['Disbursed'].values, dtrain_predictions)\n",
        "    print \"AUC Score (Train): %f\" % metrics.roc_auc_score(dtrain['Disbursed'], dtrain_predprob)\n",
        "    \n",
        "    if performCV:\n",
        "        print \"CV Score : Mean - %.7g | Std - %.7g | Min - %.7g | Max - %.7g\" % (np.mean(cv_score),np.std(cv_score),np.min(cv_score),np.max(cv_score))\n",
        "        \n",
        "    #Print Feature Importance:\n",
        "    if printFeatureImportance:\n",
        "        feat_imp = pd.Series(alg.feature_importances_, predictors).sort_values(ascending=False)\n",
        "        feat_imp.plot(kind='bar', title='Feature Importances')\n",
        "        plt.ylabel('Feature Importance Score')\n",
        "        \n",
        "\n",
        "##############"
      ]
    },
    {
      "cell_type": "code",
      "execution_count": null,
      "metadata": {
        "_cell_guid": "00bab66c-ea29-967b-4eaa-44fc1a50d401"
      },
      "outputs": [],
      "source": [
        "###########NK  GBM\n",
        "gbm0 = GradientBoostingClassifier(learning_rate=0.02, max_depth=8, n_estimators=450, subsample=0.7)\n",
        "###########"
      ]
    },
    {
      "cell_type": "code",
      "execution_count": null,
      "metadata": {
        "_cell_guid": "dce3fc97-f9b8-6108-15cb-f14370b38dd5"
      },
      "outputs": [],
      "source": [
        "###########NK  GBM\n",
        "gbm0.fit(train_X_cv, train_train_y)\n",
        "#############"
      ]
    },
    {
      "cell_type": "code",
      "execution_count": null,
      "metadata": {
        "_cell_guid": "a335767b-18a9-d583-a2c4-e6e5047b5753"
      },
      "outputs": [],
      "source": [
        "###########NK  GBM\n",
        "cv_score = cross_validation.cross_val_score(gbm0, train_X_cv, train_train_y, cv=5, scoring='mlogloss')\n",
        "#############"
      ]
    },
    {
      "cell_type": "code",
      "execution_count": null,
      "metadata": {
        "_cell_guid": "d6cdd12b-b2c6-28fc-f491-5209c3615169"
      },
      "outputs": [],
      "source": [
        "pred_gbm_probs=gbm0.predict_proba(test_X_cv)"
      ]
    },
    {
      "cell_type": "code",
      "execution_count": null,
      "metadata": {
        "_cell_guid": "d8b7129e-8150-713b-b25c-fd6ee62701d8"
      },
      "outputs": [],
      "source": [
        "log_loss(test_train_y,pred_gbm_probs)"
      ]
    },
    {
      "cell_type": "code",
      "execution_count": null,
      "metadata": {
        "_cell_guid": "30e5a3ff-97ed-649c-3ec9-fbe6b0de19a8"
      },
      "outputs": [],
      "source": [
        "##NK Random Forest\n",
        "\n",
        "from sklearn.ensemble import RandomForestClassifier\n",
        "clf = RandomForestClassifier(n_estimators=1000,max_depth=50)\n",
        "clf.fit(train_X_cv, train_train_y)\n",
        "\n",
        "####\n",
        "\n",
        "##NK Random Forest\n",
        "\n",
        "#preds_rf=clf.predict(test_X_cv)\n",
        "pred_rf_probs = clf.predict_proba(test_X_cv)\n",
        "####\n",
        "\n",
        "log_loss(test_train_y,pred_rf_probs)"
      ]
    },
    {
      "cell_type": "code",
      "execution_count": null,
      "metadata": {
        "_cell_guid": "00f8b815-5979-6bb6-51ea-9e4c07586a34"
      },
      "outputs": [],
      "source": [
        "log_loss(test_train_y,(pred_rf_probs+preds)/2)"
      ]
    },
    {
      "cell_type": "code",
      "execution_count": null,
      "metadata": {
        "_cell_guid": "2907a6ac-e9bd-cf76-745f-ba389924c9a7"
      },
      "outputs": [],
      "source": [
        "log_loss(test_train_y,(preds))"
      ]
    },
    {
      "cell_type": "code",
      "execution_count": null,
      "metadata": {
        "_cell_guid": "53264e89-9c88-77a6-261a-e3dc3997e0f7"
      },
      "outputs": [],
      "source": [
        "train_X = sparse.hstack([train_df[features_to_use], tr_sparse]).tocsr()\n",
        "test_X = sparse.hstack([test_df[features_to_use], te_sparse]).tocsr()\n",
        "\n",
        "target_num_map = {'high':0, 'medium':1, 'low':2}\n",
        "train_y = np.array(train_df['interest_level'].apply(lambda x: target_num_map[x]))\n",
        "\n",
        "preds, model = runXGB(train_X, train_y, test_X, num_rounds=2000)\n",
        "out_df = pd.DataFrame(preds)\n",
        "out_df.columns = [\"high\", \"medium\", \"low\"]\n",
        "out_df[\"listing_id\"] = test_df.listing_id.values\n",
        "out_df.to_csv(\"sub51.csv\", index=False)"
      ]
    }
  ],
  "metadata": {
    "_change_revision": 0,
    "_is_fork": false,
    "kernelspec": {
      "display_name": "Python 3",
      "language": "python",
      "name": "python3"
    },
    "language_info": {
      "codemirror_mode": {
        "name": "ipython",
        "version": 3
      },
      "file_extension": ".py",
      "mimetype": "text/x-python",
      "name": "python",
      "nbconvert_exporter": "python",
      "pygments_lexer": "ipython3",
      "version": "3.6.0"
    }
  },
  "nbformat": 4,
  "nbformat_minor": 0
}