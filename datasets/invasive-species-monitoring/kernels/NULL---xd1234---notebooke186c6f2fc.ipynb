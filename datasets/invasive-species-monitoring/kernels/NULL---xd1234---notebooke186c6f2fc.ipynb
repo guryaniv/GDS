{
  "cells": [
    {
      "cell_type": "code",
      "execution_count": null,
      "metadata": {
        "_cell_guid": "5d1923c5-2b64-491d-be4c-abb1737700cb"
      },
      "outputs": [],
      "source": [
        "# This Python 3 environment comes with many helpful analytics libraries installed\n",
        "# It is defined by the kaggle/python docker image: https://github.com/kaggle/docker-python\n",
        "# For example, here's several helpful packages to load in \n",
        "\n",
        "import numpy as np # linear algebra\n",
        "import pandas as pd # data processing, CSV file I/O (e.g. pd.read_csv)\n",
        "\n",
        "# Input data files are available in the \"../input/\" directory.\n",
        "# For example, running this (by clicking run or pressing Shift+Enter) will list the files in the input directory\n",
        "\n",
        "from subprocess import check_output\n",
        "print(check_output([\"ls\", \"../input\"]).decode(\"utf8\"))\n",
        "\n",
        "# Any results you write to the current directory are saved as output."
      ]
    },
    {
      "cell_type": "code",
      "execution_count": null,
      "metadata": {
        "_cell_guid": "11aad6c3-34e1-7d2d-6863-fdcc41cb2039"
      },
      "outputs": [],
      "source": [
        "import tensorflow as tf\n",
        "import numpy as np"
      ]
    },
    {
      "cell_type": "code",
      "execution_count": null,
      "metadata": {
        "_cell_guid": "8668a9c5-df12-e648-1c65-e72b64cc5204"
      },
      "outputs": [],
      "source": [
        "def add_layer(inputs, in_size, out_size, activation_function = None):\n",
        "    weights = tf.Variable(tf.random_normal([in_size, out_size]))\n",
        "    bias = tf.Variable(tf.zeros([1, out_size]) + 0.1)\n",
        "    result = tf.matmul(inputs, weights) + bias\n",
        "    if activation_function is None:\n",
        "        outputs = result\n",
        "    else:\n",
        "        outputs = activation_function(result)\n",
        "    return outputs"
      ]
    },
    {
      "cell_type": "code",
      "execution_count": null,
      "metadata": {
        "_cell_guid": "0069db7a-2dab-3205-6f67-0289d5af0da0"
      },
      "outputs": [],
      "source": [
        "x_data = np.linspace(-1,1,300, dtype=np.float32)[:, np.newaxis]\n",
        "noise = np.random.normal(0, 0.05, x_data.shape).astype(np.float32)\n",
        "y_data = np.square(x_data) - 0.5 + noise"
      ]
    },
    {
      "cell_type": "code",
      "execution_count": null,
      "metadata": {
        "_cell_guid": "868dd73e-f7ae-3b06-f6bb-bce734a0fd37"
      },
      "outputs": [],
      "source": [
        "xs = tf.placeholder(tf.float32, [None, 1])\n",
        "ys = tf.placeholder(tf.float32, [None, 1])\n",
        "l1 = add_layer(xs, 1, 10, activation_function = tf.nn.relu)\n",
        "prediction = add_layer(l1, 10, 1)\n",
        "loss = tf.reduce_mean(tf.reduce_sum(tf.square(ys - prediction),reduction_indices=[1]))\n",
        "train_step = tf.train.GradientDescentOptimizer(0.1).minimize(loss)\n",
        "init = tf.global_variables_initializer()\n",
        "sess = tf.Session()\n",
        "sess.run(init)\n",
        "for a in range(500):\n",
        "    sess.run(train_step, feed_dict = {xs: x_data, ys: y_data})\n",
        "    if a % 50 == 0:\n",
        "        print(sess.run(loss, feed_dict={xs: x_data, ys: y_data}))"
      ]
    },
    {
      "cell_type": "code",
      "execution_count": null,
      "metadata": {
        "_cell_guid": "247f7638-69bb-bfdd-5d50-96a9c65ba6e8"
      },
      "outputs": [],
      "source": ""
    }
  ],
  "metadata": {
    "_change_revision": 0,
    "_is_fork": false,
    "kernelspec": {
      "display_name": "Python 3",
      "language": "python",
      "name": "python3"
    },
    "language_info": {
      "codemirror_mode": {
        "name": "ipython",
        "version": 3
      },
      "file_extension": ".py",
      "mimetype": "text/x-python",
      "name": "python",
      "nbconvert_exporter": "python",
      "pygments_lexer": "ipython3",
      "version": "3.6.0"
    }
  },
  "nbformat": 4,
  "nbformat_minor": 0
}