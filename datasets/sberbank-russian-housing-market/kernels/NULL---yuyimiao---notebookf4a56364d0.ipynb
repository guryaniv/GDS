{
  "cells": [
    {
      "cell_type": "code",
      "execution_count": null,
      "metadata": {
        "_cell_guid": "77cf285f-1404-cd2b-06b3-07ad50296113"
      },
      "outputs": [],
      "source": [
        "import numpy as np\n",
        "import pandas as pd\n",
        "import matplotlib.pyplot as plt\n",
        "import seaborn as sns\n",
        "from sklearn import model_selection, preprocessing\n",
        "import xgboost as xgb\n",
        "import datetime\n",
        "\n",
        "#load files\n",
        "train = pd.read_csv('../input/train.csv', parse_dates=['timestamp'])\n",
        "test = pd.read_csv('../input/test.csv', parse_dates=['timestamp'])\n",
        "macro = pd.read_csv('../input/macro.csv', parse_dates=['timestamp'])\n",
        "id_test = test.id\n",
        "\n",
        "#multiplier = 0.969\n",
        "# truncate the extreme values in price_doc #\n",
        "Q1 = np.percentile(np.log1p(train.price_doc.values), 25)\n",
        "Q2 = np.percentile(np.log1p(train.price_doc.values), 50)\n",
        "Q3 = np.percentile(np.log1p(train.price_doc.values), 75)\n",
        "IQR=Q3 - Q1\n",
        "infbdd=Q1 - 1.5 * IQR \n",
        "supbdd=Q3 + 1.5 * IQR \n",
        "#ibdd=int(np.exp(infbdd))\n",
        "#ibdd=int(np.exp(13))\n",
        "ibdd=1000000\n",
        "sbdd=int( np.exp(supbdd))\n",
        "sindex=train[train.price_doc > 2.5*sbdd].index\n",
        "iindex=train[train.price_doc < ibdd].index\n",
        "#train.loc[iindex,\"price_doc\"] = ibdd\n",
        "#train.loc[sindex,\"price_doc\"] = 2.5*sbdd"
      ]
    },
    {
      "cell_type": "code",
      "execution_count": null,
      "metadata": {
        "_cell_guid": "38840f19-10f9-695e-6419-16910dcd7995"
      },
      "outputs": [],
      "source": ""
    },
    {
      "cell_type": "code",
      "execution_count": null,
      "metadata": {
        "_cell_guid": "64d39dbc-1d6f-0628-4cdd-3052336f6818"
      },
      "outputs": [],
      "source": [
        "#train,test full life with 0,1\n",
        "bad_index = train[train.life_sq < 2].index\n",
        "train.loc[bad_index, \"life_sq\"] = np.NaN\n",
        "bad_index = test[test.life_sq < 2].index\n",
        "test.loc[bad_index, \"life_sq\"] = np.NaN\n",
        "bad_index = train[train.full_sq < 2].index\n",
        "train.loc[bad_index, \"full_sq\"] = np.NaN\n",
        "bad_index = test[test.full_sq < 2].index\n",
        "test.loc[bad_index, \"full_sq\"] = np.NaN"
      ]
    },
    {
      "cell_type": "code",
      "execution_count": null,
      "metadata": {
        "_cell_guid": "d9320143-de6a-4575-d5b4-4ec5c5d0950c"
      },
      "outputs": [],
      "source": ""
    },
    {
      "cell_type": "code",
      "execution_count": null,
      "metadata": {
        "_cell_guid": "2bad98ae-73dc-7382-431c-5e5cc283014c"
      },
      "outputs": [],
      "source": ""
    },
    {
      "cell_type": "code",
      "execution_count": null,
      "metadata": {
        "_cell_guid": "8cb11c0b-5d80-dae7-5918-2aa9a282b7f3"
      },
      "outputs": [],
      "source": ""
    },
    {
      "cell_type": "code",
      "execution_count": null,
      "metadata": {
        "_cell_guid": "932207dd-c23d-3c8b-e9ac-d69035f16616"
      },
      "outputs": [],
      "source": ""
    },
    {
      "cell_type": "code",
      "execution_count": null,
      "metadata": {
        "_cell_guid": "01a84ed1-c9a4-da13-2369-653e8a419c48"
      },
      "outputs": [],
      "source": ""
    },
    {
      "cell_type": "code",
      "execution_count": null,
      "metadata": {
        "_cell_guid": "d852eea4-6d55-f4ab-cf3a-a30aa91f3e92"
      },
      "outputs": [],
      "source": ""
    },
    {
      "cell_type": "code",
      "execution_count": null,
      "metadata": {
        "_cell_guid": "ba3fa291-fe14-8060-f19d-60de564d7122"
      },
      "outputs": [],
      "source": ""
    },
    {
      "cell_type": "code",
      "execution_count": null,
      "metadata": {
        "_cell_guid": "a84322e8-95c1-cb6b-af50-3a3d5acbb244"
      },
      "outputs": [],
      "source": ""
    },
    {
      "cell_type": "code",
      "execution_count": null,
      "metadata": {
        "_cell_guid": "bff5197f-cc40-f488-c488-e80131e16ccd"
      },
      "outputs": [],
      "source": [
        "#buildyear\n",
        "bad_index = train[train.build_year < 1500].index\n",
        "train.loc[bad_index, \"build_year\"] = np.NaN\n",
        "bad_index = test[test.build_year < 1500].index\n",
        "test.loc[bad_index, \"build_year\"] = np.NaN\n",
        "bad_index = train[train.build_year >2020].index\n",
        "train.loc[bad_index, \"build_year\"] = np.NaN\n",
        "bad_index = test[test.build_year >2020].index\n",
        "test.loc[bad_index, \"build_year\"] = np.NaN"
      ]
    },
    {
      "cell_type": "code",
      "execution_count": null,
      "metadata": {
        "_cell_guid": "42c6ff30-3123-a8b3-958a-47bf322c9b51"
      },
      "outputs": [],
      "source": ""
    },
    {
      "cell_type": "code",
      "execution_count": null,
      "metadata": {
        "_cell_guid": "632c275f-7d9d-4390-8943-db6c27de7332"
      },
      "outputs": [],
      "source": [
        "#floor\n",
        "bad_index = train[train.max_floor > 60].index\n",
        "train.loc[bad_index, \"max_floor\"] = np.NaN\n",
        "\n",
        "bad_index = train[train.floor == 0].index\n",
        "train.loc[bad_index, \"floor\"] = np.NaN\n",
        "bad_index = train[train.max_floor == 0].index\n",
        "train.loc[bad_index, \"max_floor\"] = np.NaN\n",
        "\n",
        "bad_index = test[test.floor == 0].index\n",
        "test.loc[bad_index, \"floor\"] = np.NaN\n",
        "bad_index = test[test.max_floor == 0].index\n",
        "test.loc[bad_index, \"max_floor\"] = np.NaN\n",
        "\n",
        "bad_index = train[train.floor > train.max_floor].index\n",
        "train.loc[bad_index, \"max_floor\"] = np.NaN\n",
        "bad_index = test[test.floor > test.max_floor].index\n",
        "test.loc[bad_index, \"max_floor\"] = np.NaN\n",
        "train.floor.describe(percentiles= [0.9999])\n",
        "bad_index = [23584]\n",
        "train.loc[bad_index, \"floor\"] = np.NaN"
      ]
    },
    {
      "cell_type": "code",
      "execution_count": null,
      "metadata": {
        "_cell_guid": "8778746b-7884-51f3-50da-e046be6149a6"
      },
      "outputs": [],
      "source": ""
    },
    {
      "cell_type": "code",
      "execution_count": null,
      "metadata": {
        "_cell_guid": "114c5b2e-6876-3c20-3d2b-9ef56bab3a5f"
      },
      "outputs": [],
      "source": ""
    },
    {
      "cell_type": "code",
      "execution_count": null,
      "metadata": {
        "_cell_guid": "ba85058b-1ca5-1e88-f0ce-c1b118e1da26"
      },
      "outputs": [],
      "source": ""
    },
    {
      "cell_type": "code",
      "execution_count": null,
      "metadata": {
        "_cell_guid": "50af824a-22cf-ddb6-2158-eec16c3058b5"
      },
      "outputs": [],
      "source": ""
    },
    {
      "cell_type": "code",
      "execution_count": null,
      "metadata": {
        "_cell_guid": "b8b26d58-cd6c-a795-73c5-8a27f2b8e24c"
      },
      "outputs": [],
      "source": ""
    },
    {
      "cell_type": "code",
      "execution_count": null,
      "metadata": {
        "_cell_guid": "3335614f-d4b3-e903-5d26-0e358398af06"
      },
      "outputs": [],
      "source": ""
    },
    {
      "cell_type": "code",
      "execution_count": null,
      "metadata": {
        "_cell_guid": "3463cdd3-8835-315e-bd45-0f722209f96a"
      },
      "outputs": [],
      "source": ""
    },
    {
      "cell_type": "code",
      "execution_count": null,
      "metadata": {
        "_cell_guid": "ca22db5e-92f5-d3a5-21a7-7ba3206953ef"
      },
      "outputs": [],
      "source": ""
    },
    {
      "cell_type": "code",
      "execution_count": null,
      "metadata": {
        "_cell_guid": "03025055-4dbe-5e8c-a7d8-46629176e003"
      },
      "outputs": [],
      "source": ""
    },
    {
      "cell_type": "code",
      "execution_count": null,
      "metadata": {
        "_cell_guid": "a226e3af-d5e3-7fec-d551-152022f8e11a"
      },
      "outputs": [],
      "source": ""
    },
    {
      "cell_type": "code",
      "execution_count": null,
      "metadata": {
        "_cell_guid": "48448026-cff1-1e51-3f1a-83a960394417"
      },
      "outputs": [],
      "source": ""
    },
    {
      "cell_type": "code",
      "execution_count": null,
      "metadata": {
        "_cell_guid": "79ce28e5-28e8-d9d3-0e35-3b0836709144"
      },
      "outputs": [],
      "source": ""
    },
    {
      "cell_type": "code",
      "execution_count": null,
      "metadata": {
        "_cell_guid": "d6d24b11-fabb-1634-5f1f-42cf6880945f"
      },
      "outputs": [],
      "source": ""
    },
    {
      "cell_type": "code",
      "execution_count": null,
      "metadata": {
        "_cell_guid": "2a9e2938-77ea-3b3b-4c75-1026b370181f"
      },
      "outputs": [],
      "source": ""
    }
  ],
  "metadata": {
    "_change_revision": 0,
    "_is_fork": false,
    "kernelspec": {
      "display_name": "Python 3",
      "language": "python",
      "name": "python3"
    },
    "language_info": {
      "codemirror_mode": {
        "name": "ipython",
        "version": 3
      },
      "file_extension": ".py",
      "mimetype": "text/x-python",
      "name": "python",
      "nbconvert_exporter": "python",
      "pygments_lexer": "ipython3",
      "version": "3.6.0"
    }
  },
  "nbformat": 4,
  "nbformat_minor": 0
}