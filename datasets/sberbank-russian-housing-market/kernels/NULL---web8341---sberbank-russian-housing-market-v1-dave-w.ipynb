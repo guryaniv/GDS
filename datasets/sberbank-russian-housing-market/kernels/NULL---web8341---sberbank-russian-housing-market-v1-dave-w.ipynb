{
  "cells": [
    {
      "cell_type": "code",
      "execution_count": null,
      "metadata": {
        "_cell_guid": "0831115b-33e6-5f71-f134-99223e6301e3"
      },
      "outputs": [],
      "source": [
        "# This Python 3 environment comes with many helpful analytics libraries installed\n",
        "# It is defined by the kaggle/python docker image: https://github.com/kaggle/docker-python\n",
        "# For example, here's several helpful packages to load in \n",
        "\n",
        "import numpy as np # linear algebra\n",
        "import pandas as pd # data processing, CSV file I/O (e.g. pd.read_csv)\n",
        "\n",
        "# Input data files are available in the \"../input/\" directory.\n",
        "# For example, running this (by clicking run or pressing Shift+Enter) will list the files in the input directory\n",
        "\n",
        "from subprocess import check_output\n",
        "print(check_output([\"ls\", \"../input\"]).decode(\"utf8\"))\n",
        "\n",
        "# Any results you write to the current directory are saved as output."
      ]
    },
    {
      "cell_type": "code",
      "execution_count": null,
      "metadata": {
        "_cell_guid": "7408aa63-8828-e72d-de28-15e083680e9d"
      },
      "outputs": [],
      "source": [
        "import numpy as np\n",
        "import pandas as pd\n",
        "import seaborn as sns\n",
        "from scipy import stats\n",
        "from datetime import datetime\n",
        "import math\n",
        "import matplotlib.pyplot as plt\n",
        "%matplotlib inline"
      ]
    },
    {
      "cell_type": "code",
      "execution_count": null,
      "metadata": {
        "_cell_guid": "d457abdf-73a3-ac85-42e2-0825889b1de7"
      },
      "outputs": [],
      "source": [
        "data1 = pd.read_csv('../input/train.csv',parse_dates=['timestamp'])\n",
        "macro=pd.read_csv('../input/macro.csv',parse_dates=['timestamp'])\n",
        "test =pd.read_csv('../input/test.csv',parse_dates=['timestamp'])\n",
        "test_size = test.shape[0]\n",
        "\n",
        "# merge two dataset into one\n",
        "\n",
        "datatemp = pd.merge(data1, macro,how='left',on='timestamp',sort=True)\n",
        "testtemp = pd.merge(test, macro,how='left',on='timestamp',sort=True)\n",
        "#datatemp.dropna(subset=['id'],inplace=True)"
      ]
    },
    {
      "cell_type": "code",
      "execution_count": null,
      "metadata": {
        "_cell_guid": "399c9635-01f9-e61b-b16e-ad61007bb771"
      },
      "outputs": [],
      "source": [
        "class find_info(object):\n",
        "    def __init__(self,df):\n",
        "        \"\"\"\n",
        "        Please give the parameters: df is the data frame and id is the unique column.\n",
        "        \"\"\"\n",
        "        self.df = df\n",
        "    \n",
        "    def func_desc(self,id):\n",
        "        \n",
        "        meanvar=np.round(self.df.mean(),1)\n",
        "        minvar=self.df.min()\n",
        "        maxvar=self.df.max()\n",
        "        stdvar=np.round(self.df.std(),1)\n",
        "        countvar=self.df.count()\n",
        "        totalvar=self.df.id.count()\n",
        "        missing_pct=np.round(100*(totalvar-countvar)/totalvar,1)\n",
        "        statistics=pd.concat([meanvar, minvar, maxvar, stdvar, countvar,missing_pct], axis=1) \n",
        "        stat_df = pd.DataFrame(statistics).reset_index()\n",
        "        orname=list(stat_df.columns.values)\n",
        "        stat_df.rename(columns={orname[0]: 'variable', orname[1]: 'mean', \n",
        "                    orname[2]: 'min', orname[3]: 'max',\n",
        "                    orname[4]: 'std',orname[5]: 'non_missing',\n",
        "                    orname[6]: 'missing_pct'},                  \n",
        "                    inplace = True)\n",
        "        stat_df.sort_values(by='missing_pct',ascending=True,inplace=True)\n",
        "        return stat_df\n",
        "\n",
        "    def find_conlumns_by_type(self,type):\n",
        "        objtype = type\n",
        "        objdf = self.df.select_dtypes(include=objtype)\n",
        "        return objdf"
      ]
    },
    {
      "cell_type": "code",
      "execution_count": null,
      "metadata": {
        "_cell_guid": "9ea66876-37fe-a435-ec79-6e6714165b6d"
      },
      "outputs": [],
      "source": [
        "# Using create function to look into datatemp\n",
        "\n",
        "find_information_temp = find_info(data1)\n",
        "\n",
        "des_temp = find_information_temp.func_desc('id')\n",
        "des_temp.head()"
      ]
    },
    {
      "cell_type": "code",
      "execution_count": null,
      "metadata": {
        "_cell_guid": "cd760381-20ab-66da-043a-991e36785cf2"
      },
      "outputs": [],
      "source": [
        "#sns.distplot(data1['price_doc'],bins=1000)"
      ]
    },
    {
      "cell_type": "code",
      "execution_count": null,
      "metadata": {
        "_cell_guid": "9d30e43f-d3eb-e4a7-1a52-eb140454ae7a"
      },
      "outputs": [],
      "source": [
        "from datetime import datetime as dt\n",
        "\n",
        "data2=pd.DataFrame()\n",
        "data2['price'] = data1.price_doc\n",
        "data2['year'] = data1.timestamp.dt.year\n",
        "datatemp['year'] = data1.timestamp.dt.year"
      ]
    },
    {
      "cell_type": "code",
      "execution_count": null,
      "metadata": {
        "_cell_guid": "6bc4df31-dff7-e323-ea4d-bdd96b4a7046"
      },
      "outputs": [],
      "source": [
        "sns.boxplot(x=data2.year,y=data2.price,data=data2)"
      ]
    },
    {
      "cell_type": "code",
      "execution_count": null,
      "metadata": {
        "_cell_guid": "803e72f5-4d18-0e19-db1f-8485726eea67"
      },
      "outputs": [],
      "source": [
        "#We will delete the price greater than 25000000 for now 9.8% of the datatemp\n",
        "for year in [2011,2012,2013,2014,2015]:\n",
        "    if 2011:\n",
        "        data=datatemp.drop(datatemp.price_doc>=20000000,axis=0)\n",
        "    if 2012:\n",
        "        data=datatemp.drop(datatemp.price_doc>=22000000,axis=0)\n",
        "    if 2013:\n",
        "        data=datatemp.drop(datatemp.price_doc>=22000000,axis=0)\n",
        "    if 2014:\n",
        "        data=datatemp.drop(datatemp.price_doc>=27000000,axis=0)\n",
        "    if 2015:\n",
        "        data=datatemp.drop(datatemp.price_doc>=30000000,axis=0)\n",
        "    else:\n",
        "        print(\"check data\")\n",
        "data.drop('year',axis=1,inplace=True)\n",
        "data.shape"
      ]
    },
    {
      "cell_type": "code",
      "execution_count": null,
      "metadata": {
        "_cell_guid": "94342069-c151-496a-12f6-e3a5e0097638"
      },
      "outputs": [],
      "source": [
        "# Using distince value counts to find out stange value in data\n",
        "# Found old_education_build_share and modern_education_share has value of 8,12345\n",
        "# child_on_acc_pre_school has \"#!\"\n",
        "obj_name_list = data.select_dtypes(include=['object']).columns\n",
        "for distin in obj_name_list:\n",
        "    print(\"Column name \"+distin+\" distinct values:\")\n",
        "    print(data[distin].value_counts())"
      ]
    },
    {
      "cell_type": "code",
      "execution_count": null,
      "metadata": {
        "_cell_guid": "dbb4e453-4d5b-9d13-d0aa-1e06cdf6e91b"
      },
      "outputs": [],
      "source": [
        "# Then come back to clean up this column\n",
        "import re\n",
        "from collections import Counter\n",
        "\n",
        "def clean_comma(line):\n",
        "    c=Counter(list(line))\n",
        "    if c[',']<=0:\n",
        "        pass\n",
        "    else:\n",
        "        line_num = int(re.sub(',','',line))\n",
        "        return line_num\n",
        "    \n",
        "columns2clean = ['old_education_build_share', 'modern_education_share','child_on_acc_pre_school']\n",
        "for col in columns2clean:\n",
        "    col_new = []\n",
        "    for item in data[col]:\n",
        "        if pd.isnull(item) or item.strip() == '#!':\n",
        "            col_new.append(np.nan)\n",
        "        else:\n",
        "            col_new.append(clean_comma(str(item)))\n",
        "    data[col] = col_new\n",
        "    print(col_new[-10:])"
      ]
    },
    {
      "cell_type": "code",
      "execution_count": null,
      "metadata": {
        "_cell_guid": "11215663-a0c3-480f-4205-28c8d727547c"
      },
      "outputs": [],
      "source": [
        "from sklearn.preprocessing import LabelEncoder\n",
        "from sklearn.preprocessing import OneHotEncoder"
      ]
    },
    {
      "cell_type": "code",
      "execution_count": null,
      "metadata": {
        "_cell_guid": "258fb357-5202-f260-aeef-f34c9e3fa02b"
      },
      "outputs": [],
      "source": [
        "combined = pd.concat([datatemp.drop('price_doc',axis=1),testtemp],axis=0).reset_index()\n",
        "print(combined.shape)\n",
        "print(sum(combined.index.value_counts()>1))"
      ]
    },
    {
      "cell_type": "code",
      "execution_count": null,
      "metadata": {
        "_cell_guid": "4bfc316f-dd55-83f4-296d-eeaa6b8c6301"
      },
      "outputs": [],
      "source": [
        "num = combined.select_dtypes(include=['int16','int32','int64','float16','float32','float64'])\n",
        "obj = combined.select_dtypes(include=['object'])\n",
        "head = pd.DataFrame(pd.isnull(num).sum(),columns=['cnt'])\n",
        "missing = head[head.cnt>0].index.values\n",
        "missing[:20]"
      ]
    },
    {
      "cell_type": "code",
      "execution_count": null,
      "metadata": {
        "_cell_guid": "aa614fb3-fcd6-55f3-53d5-ef74a3c02cda"
      },
      "outputs": [],
      "source": [
        "combined.drop(obj.columns,axis=1,inplace=True)"
      ]
    },
    {
      "cell_type": "code",
      "execution_count": null,
      "metadata": {
        "_cell_guid": "278dd955-ef93-77f4-4bba-a5ca5be65056"
      },
      "outputs": [],
      "source": [
        "for name in missing:\n",
        "    combined[name+\"_missing\"] = pd.isnull(combined[name])+0\n",
        "    combined[name].fillna(combined[name].mean(),inplace=True)\n"
      ]
    },
    {
      "cell_type": "code",
      "execution_count": null,
      "metadata": {
        "_cell_guid": "356f4fae-e841-4661-6dd5-4d6bb6d75a39"
      },
      "outputs": [],
      "source": [
        "obj.fillna(value='missing',inplace=True)\n",
        "pd.isnull(obj).sum()    "
      ]
    },
    {
      "cell_type": "code",
      "execution_count": null,
      "metadata": {
        "_cell_guid": "48350a51-8d76-9ff4-0d2a-2118f19fce5a"
      },
      "outputs": [],
      "source": [
        "le = LabelEncoder()\n",
        "obj_2 = le.fit_transform(np.array(obj)[:,0])\n",
        "\n",
        "for i in range(1, np.array(obj).shape[1]):\n",
        "        enc_label = LabelEncoder()\n",
        "        obj_2 = np.column_stack((obj_2, enc_label.fit_transform(np.array(obj)[:,i])))\n",
        "train_categorical_values = obj_2.astype(float)"
      ]
    },
    {
      "cell_type": "code",
      "execution_count": null,
      "metadata": {
        "_cell_guid": "66180078-f26c-0b79-eabf-e5677613ad54"
      },
      "outputs": [],
      "source": [
        "enc_onehot = OneHotEncoder()\n",
        "train_cat_data = enc_onehot.fit_transform(train_categorical_values)\n",
        "\n",
        "cols = [obj.columns[i] + '_' + str(j) for i in range(0,len(obj.columns)) for j in range(0,enc_onehot.n_values_[i]) ]\n",
        "train_cat_data_df = pd.DataFrame(train_cat_data.toarray(),columns=cols)\n",
        "\n",
        "data_cleaned = pd.concat([combined, train_cat_data_df],axis=1)\n",
        "id_list=data_cleaned.id[-test_size:]"
      ]
    },
    {
      "cell_type": "code",
      "execution_count": null,
      "metadata": {
        "_cell_guid": "8dcfe607-4a6f-09b6-82b7-1cbf49fd8316"
      },
      "outputs": [],
      "source": [
        "data_cleaned.drop(['index','id','timestamp'],axis=1,inplace=True)"
      ]
    },
    {
      "cell_type": "code",
      "execution_count": null,
      "metadata": {
        "_cell_guid": "ac52b823-4467-5e95-1d6d-d565e6adbf21"
      },
      "outputs": [],
      "source": [
        "train2model = data_cleaned[:-test_size]\n",
        "test2model = data_cleaned[-test_size:]\n",
        "\n",
        "# Try log the price\n",
        "y = data1['price_doc']\n",
        "#y = [np.log(y) for y in data1['price_doc']]\n",
        "X = train2model"
      ]
    },
    {
      "cell_type": "code",
      "execution_count": null,
      "metadata": {
        "_cell_guid": "ca18e4f7-ccf8-06da-7df6-5d28029c652b"
      },
      "outputs": [],
      "source": [
        "from sklearn.cross_validation import train_test_split\n",
        "from sklearn.feature_selection import SelectKBest"
      ]
    },
    {
      "cell_type": "code",
      "execution_count": null,
      "metadata": {
        "_cell_guid": "c958d661-5f8b-c389-4467-a9757654aed8"
      },
      "outputs": [],
      "source": [
        "X_train,X_test, y_train, y_test = train_test_split(X, y, test_size=0.3, random_state=101)"
      ]
    },
    {
      "cell_type": "code",
      "execution_count": null,
      "metadata": {
        "_cell_guid": "790ced4b-d71e-5f90-2150-b8dd776ef902"
      },
      "outputs": [],
      "source": [
        "def rmsle(preds, actual):\n",
        "    labels = list(actual)\n",
        "    preds = list(preds)\n",
        "    terms_to_sum = [(math.log(labels[i] + 1) - math.log(max(0, preds[i]) + 1)) ** 2.0 for i, pred in enumerate(labels)]\n",
        "    return 'rmsle', (sum(terms_to_sum) * (1.0 / len(preds))) ** 0.5"
      ]
    },
    {
      "cell_type": "code",
      "execution_count": null,
      "metadata": {
        "_cell_guid": "6ebaa8c7-f6c1-0f2a-ca98-35d28069ddfa"
      },
      "outputs": [],
      "source": [
        "from sklearn.linear_model import LinearRegression\n",
        "from sklearn.metrics import roc_curve, auc, r2_score"
      ]
    },
    {
      "cell_type": "code",
      "execution_count": null,
      "metadata": {
        "_cell_guid": "20ff3e74-2f1e-05e7-2be7-0e8105a40403"
      },
      "outputs": [],
      "source": [
        "linear_model = LinearRegression()\n",
        "linear = linear_model.fit(X_train, y_train)\n",
        "pred_train=linear.predict(X_train)\n",
        "pred_linear=linear.predict(X_test)\n",
        "\n",
        "print(linear.score(X_train, y_train))\n",
        "print(r2_score(y_test,pred_linear))"
      ]
    },
    {
      "cell_type": "code",
      "execution_count": null,
      "metadata": {
        "_cell_guid": "62a490b9-e6e5-179a-81bd-6f049701fdfd"
      },
      "outputs": [],
      "source": [
        "rmsle(pred_linear, y_test)"
      ]
    },
    {
      "cell_type": "code",
      "execution_count": null,
      "metadata": {
        "_cell_guid": "3569aff0-e902-d7af-f770-742cc201d8bc"
      },
      "outputs": [],
      "source": [
        "# Residual plot\n",
        "train = plt.scatter(pred_train,(pred_train-y_train),c='r',alpha=0.5)\n",
        "test = plt.scatter(pred_linear,(pred_linear-y_test),c='b',alpha=0.5)\n",
        "plt.hlines(y=0,xmin=-10,xmax=10)\n",
        "plt.legend((train,test),('Training Resisual','Testing Resisual'),loc='lower left')\n",
        "plt.title('Residual Plot')"
      ]
    },
    {
      "cell_type": "code",
      "execution_count": null,
      "metadata": {
        "_cell_guid": "97102923-3de1-8774-b194-2b47e3d0ba1e"
      },
      "outputs": [],
      "source": [
        "from sklearn.ensemble import GradientBoostingRegressor"
      ]
    },
    {
      "cell_type": "code",
      "execution_count": null,
      "metadata": {
        "_cell_guid": "a07b7904-44a6-80c2-3df7-f470aef49595"
      },
      "outputs": [],
      "source": [
        "r=GradientBoostingRegressor(n_estimators=100, learning_rate=0.1,max_depth=5,loss='ls')\n",
        "fit_gd = r.fit(X_train, y_train)\n",
        "pred_gd = fit_gd.predict(X_test)\n",
        "\n",
        "print(fit_gd.score(X_train, y_train))\n",
        "print(r2_score(y_test,pred_gd))"
      ]
    },
    {
      "cell_type": "code",
      "execution_count": null,
      "metadata": {
        "_cell_guid": "60408745-aaa7-a484-14b7-40cd7eee113c"
      },
      "outputs": [],
      "source": [
        "pred_gd_train = fit_gd.predict(X_train)\n",
        "train = plt.scatter(pred_gd_train,(pred_gd_train-y_train),c='r',alpha=0.5)\n",
        "test = plt.scatter(pred_gd,(pred_gd-y_test),c='b',alpha=0.5)\n",
        "plt.hlines(y=0,xmin=-10,xmax=10)\n",
        "plt.legend((train,test),('Training Resisual','Testing Resisual'),loc='lower left')\n",
        "plt.title('Residual Plot for XG Boost')"
      ]
    },
    {
      "cell_type": "code",
      "execution_count": null,
      "metadata": {
        "_cell_guid": "b3a06596-d2fb-f5b3-0918-4138d20a9201"
      },
      "outputs": [],
      "source": [
        "# Price predicting\n",
        "result_gd = fit_gd.predict(test2model)\n",
        "result_gd_final = pd.DataFrame()\n",
        "result_gd_final['id'] = id_list\n",
        "result_gd_final['price'] = result_gd\n",
        "result_gd_final.head()"
      ]
    },
    {
      "cell_type": "code",
      "execution_count": null,
      "metadata": {
        "_cell_guid": "d813f97f-535f-ee78-e787-c45edb920182"
      },
      "outputs": [],
      "source": [
        "from sklearn.ensemble import RandomForestRegressor"
      ]
    },
    {
      "cell_type": "code",
      "execution_count": null,
      "metadata": {
        "_cell_guid": "904a001c-8250-1ae8-a6cb-b3b5f72b2585"
      },
      "outputs": [],
      "source": [
        "rf = RandomForestRegressor()\n",
        "rf_model = rf.fit(X_train, y_train)\n",
        "pred_rf_train = rf_model.predict(X_train)\n",
        "pred_rf_test = rf_model.predict(X_test)\n",
        "\n",
        "print(rf_model.score(X_train, y_train))\n",
        "print(r2_score(y_test,pred_rf_test))"
      ]
    },
    {
      "cell_type": "code",
      "execution_count": null,
      "metadata": {
        "_cell_guid": "f53fcfb7-5ec9-56e5-e3fb-94caceff6ad3"
      },
      "outputs": [],
      "source": [
        "train = plt.scatter(pred_rf_train,(pred_rf_train-y_train),c='r',alpha=0.5)\n",
        "test = plt.scatter(pred_rf_test,(pred_rf_test-y_test),c='b',alpha=0.5)\n",
        "plt.hlines(y=0,xmin=-10,xmax=10)\n",
        "plt.legend((train,test),('Training Resisual','Testing Resisual'),loc='lower left')\n",
        "plt.title('Residual Plot for Random Forest')"
      ]
    },
    {
      "cell_type": "code",
      "execution_count": null,
      "metadata": {
        "_cell_guid": "90301ffd-2901-61aa-5040-522e0a2ffb46"
      },
      "outputs": [],
      "source": [
        "# Price predicting\n",
        "result_rf = rf_model.predict(test2model)\n",
        "\n",
        "result_rf_final = pd.DataFrame()\n",
        "result_rf_final['id'] = id_list\n",
        "result_rf_final['price'] = result_rf"
      ]
    },
    {
      "cell_type": "code",
      "execution_count": null,
      "metadata": {
        "_cell_guid": "fbce8a8d-78d8-9a82-2d31-b4f29d743f2f"
      },
      "outputs": [],
      "source": ""
    }
  ],
  "metadata": {
    "_change_revision": 0,
    "_is_fork": false,
    "kernelspec": {
      "display_name": "Python 3",
      "language": "python",
      "name": "python3"
    },
    "language_info": {
      "codemirror_mode": {
        "name": "ipython",
        "version": 3
      },
      "file_extension": ".py",
      "mimetype": "text/x-python",
      "name": "python",
      "nbconvert_exporter": "python",
      "pygments_lexer": "ipython3",
      "version": "3.6.0"
    }
  },
  "nbformat": 4,
  "nbformat_minor": 0
}