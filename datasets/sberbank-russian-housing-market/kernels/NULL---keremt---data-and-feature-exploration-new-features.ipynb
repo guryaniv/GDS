{
  "cells": [
    {
      "cell_type": "markdown",
      "metadata": {
        "_cell_guid": "445fe104-999a-c8f3-b405-d8053c896a3e"
      },
      "source": [
        "### READ DATA"
      ]
    },
    {
      "cell_type": "code",
      "execution_count": null,
      "metadata": {
        "_cell_guid": "1958c131-0e4e-d3d2-4980-83baf9ba55b8"
      },
      "outputs": [],
      "source": [
        "import pandas as pd\n",
        "import numpy as np"
      ]
    },
    {
      "cell_type": "code",
      "execution_count": null,
      "metadata": {
        "_cell_guid": "551d19b5-374b-1856-1c58-c960985f784f"
      },
      "outputs": [],
      "source": [
        "train = pd.read_csv('../input/train.csv')\n",
        "test = pd.read_csv('../input/test.csv')"
      ]
    },
    {
      "cell_type": "code",
      "execution_count": null,
      "metadata": {
        "_cell_guid": "3fc9b857-f915-7bc4-2c52-0cdd931e196d"
      },
      "outputs": [],
      "source": [
        "print(train.shape)\n",
        "print(test.shape)"
      ]
    },
    {
      "cell_type": "markdown",
      "metadata": {
        "_cell_guid": "5aa83faa-c10d-b4b6-b838-501658c96ea1"
      },
      "source": [
        "### TARGET"
      ]
    },
    {
      "cell_type": "code",
      "execution_count": null,
      "metadata": {
        "_cell_guid": "7efdf504-0937-0263-3db5-7b8e6246ad88"
      },
      "outputs": [],
      "source": [
        "target = train.price_doc"
      ]
    },
    {
      "cell_type": "code",
      "execution_count": null,
      "metadata": {
        "_cell_guid": "2e7d8b75-0e68-dbca-4008-4286c3d1037f"
      },
      "outputs": [],
      "source": [
        "target.hist()"
      ]
    },
    {
      "cell_type": "code",
      "execution_count": null,
      "metadata": {
        "_cell_guid": "d9b2e08f-8084-5104-49ca-c9d5f881a655"
      },
      "outputs": [],
      "source": [
        "from math import log\n",
        "log_target = np.array([log(x) for x in target])\n",
        "pd.DataFrame(log_target).hist(bins = 100)"
      ]
    },
    {
      "cell_type": "markdown",
      "metadata": {
        "_cell_guid": "757e3768-1fb3-964b-cf07-ea7af9fcb988"
      },
      "source": [
        "### EXPLORE VARIABLES"
      ]
    },
    {
      "cell_type": "markdown",
      "metadata": {
        "_cell_guid": "771ad775-43bc-c2ca-3587-e9d10b6bef4b"
      },
      "source": [
        "### CATEGORICAL VARIABLES"
      ]
    },
    {
      "cell_type": "code",
      "execution_count": null,
      "metadata": {
        "_cell_guid": "98e5f3ed-01fc-7542-ab05-3d729d463c42"
      },
      "outputs": [],
      "source": [
        "time = train.timestamp\n",
        "target = train.price_doc\n",
        "dtypes = train.iloc[:,2:-1].dtypes\n",
        "cat_cols = dtypes[dtypes == object].index\n",
        "num_cols = dtypes[dtypes != object].index"
      ]
    },
    {
      "cell_type": "code",
      "execution_count": null,
      "metadata": {
        "_cell_guid": "2d406cff-7d2c-c0d5-760f-6e474059db33"
      },
      "outputs": [],
      "source": [
        "def categorical_summary(data, col):\n",
        "    filled_values = sum(data[col].notnull())\n",
        "    missing = sum(data[col].isnull())\n",
        "    cardinality = len(data[col].unique())\n",
        "    print(col.upper())\n",
        "    print('-------------------------------')\n",
        "    print('filled count: %s' %filled_values)\n",
        "    print('missing count: %s' %missing)\n",
        "    print('cardinality: %s' %cardinality)\n",
        "    print(data[col].value_counts())\n",
        "    print('\\n')"
      ]
    },
    {
      "cell_type": "code",
      "execution_count": null,
      "metadata": {
        "_cell_guid": "2a671b15-c164-2005-47ca-f55dfd0b2834"
      },
      "outputs": [],
      "source": [
        "### inspect categorical variables in training set\n",
        "for col in cat_cols:\n",
        "    categorical_summary(train, col)"
      ]
    },
    {
      "cell_type": "code",
      "execution_count": null,
      "metadata": {
        "_cell_guid": "92ff7d3a-bf51-ca1b-ddc8-a889fd8c8d00"
      },
      "outputs": [],
      "source": [
        "### inspect categorical variables in test set\n",
        "for col in cat_cols:\n",
        "    categorical_summary(test, col)"
      ]
    },
    {
      "cell_type": "markdown",
      "metadata": {
        "_cell_guid": "63ec36ce-faea-d200-9653-ce64d6426ed5"
      },
      "source": [
        "#### CATEGORICAL VS RESPONSE"
      ]
    },
    {
      "cell_type": "code",
      "execution_count": null,
      "metadata": {
        "_cell_guid": "3522dfe6-5827-0880-7b42-d4a3fa026eee"
      },
      "outputs": [],
      "source": [
        "### E.G. ECOLOGY HAS AN ORDINAL EFFECT ON PRICE RANGE\n",
        "### APPLICATION OF ONE-HOT AND LABEL ENCODING IS NECESSARY FOR ECOGLOGY\n",
        "### DO JUST ONE-HOT ENCODE TO OTHER CATEGORICALS\n",
        "train.groupby(cat_cols[-1])[\"price_doc\"].describe().unstack()"
      ]
    },
    {
      "cell_type": "code",
      "execution_count": null,
      "metadata": {
        "_cell_guid": "18671abe-7f20-6a97-24e3-94758e2c5ba9"
      },
      "outputs": [],
      "source": [
        "### AREA CODES CAN BE USED TO GENERATE AREAL FEATURES SUCH AS MEDIAN HOUSE PRICE,MIN-MAX HOUSE PRICE, RANGE, ETC...\n",
        "train.groupby(cat_cols[1])[\"price_doc\"].median().head(5)"
      ]
    },
    {
      "cell_type": "markdown",
      "metadata": {
        "_cell_guid": "b9afb71b-cdf1-8c82-18e0-aa59533f879d"
      },
      "source": [
        "### NUMERICAL VARIABLES"
      ]
    },
    {
      "cell_type": "code",
      "execution_count": null,
      "metadata": {
        "_cell_guid": "d80125fe-5a40-8de6-b39e-8a7f97d403de"
      },
      "outputs": [],
      "source": [
        "### CHECK FOR OTHER CAT FEATURES INSIDE NUMERICAL\n",
        "for col in num_cols:\n",
        "    print(col)\n",
        "    print(len(train[col].unique()))\n",
        "    print(train[col].unique())\n",
        "    print(\"-------------------------------------\")"
      ]
    },
    {
      "cell_type": "code",
      "execution_count": null,
      "metadata": {
        "_cell_guid": "858a384e-1d37-f74b-dd35-717d3c9b1e4c"
      },
      "outputs": [],
      "source": [
        "### HERE DISTRIBUTION OF POPULATION VARYING FOR DIFFERENT AGES VS GENDER IS UNNECESSARY SINCE IT IS 50% A LAW OF NATURE :)\n",
        "### PERHAPS POPULATION IN THE AREA IS IMPORTANT AND OTHER SOCIO-ECONOMICAL FEATURES AFFECTED BY GENDER SUCH AS LABOR PARTICIPATION RATES\n",
        "### OTHER THAN THAT FEATURE WE CAN GENERATE MORE GENERAL FEATURES AS XXX_ALL / FULL_ALL\n",
        "### AND LATER WE CAN GET RID OF THE RAW COUNTS AND REDUCE THE DIMENSION A LITTLE BIT :)\n",
        "\n",
        "population_cols = num_cols[28:55]\n",
        "train[population_cols].head()"
      ]
    },
    {
      "cell_type": "markdown",
      "metadata": {
        "_cell_guid": "07f625f8-778e-4e79-8492-1be3c698cb7e"
      },
      "source": [
        "Notes on num_cols features:\n",
        "\n",
        " 1. full_sq - life_sq  = not_life_sq\n",
        " 2. life_sq / full_sq = life_sq_ratio\n",
        " 3. floor ordinal \n",
        " 4. max_floor ordinal\n",
        " 5. material ordinal,  one-hot encoding also\n",
        " 6. timestamp - build_year = build_age\n",
        " 7. state, one-hot encoding and use as ordinal\n",
        " 8. get ratios for xxx_all / full_all\n",
        " 9. get ratios of buildings by year build_count_before_yyyy / raion_build_count_with_builddate_info\n",
        " 10. get ratios of buildingsbuild_count_xxx / raion_build_count_with_material_info \n",
        "\n",
        "\n"
      ]
    },
    {
      "cell_type": "markdown",
      "metadata": {
        "_cell_guid": "a3f67bb3-a156-4294-a969-1498b6602a11"
      },
      "source": [
        "THERE ARE A LOT OF RADIAL COUNTS VARYING FROM 500m to 5000m"
      ]
    },
    {
      "cell_type": "markdown",
      "metadata": {
        "_cell_guid": "79506ea9-0f9c-82b4-ccd9-8c62136ae030"
      },
      "source": [
        "### ENCODE + NEW FEATURES"
      ]
    },
    {
      "cell_type": "code",
      "execution_count": null,
      "metadata": {
        "_cell_guid": "02eef40a-dc56-ad4e-fd3b-d4f22c411702"
      },
      "outputs": [],
      "source": [
        "### MERGE TRAIN TEST FOR ENCODING\n",
        "train_copy = train.copy()\n",
        "test_copy = test.copy()\n",
        "test_copy.index = range(len(train_copy), len(test_copy) + len(train_copy))\n",
        "merged = train_copy.append(test_copy)\n",
        "merged = merged[train.columns]"
      ]
    },
    {
      "cell_type": "code",
      "execution_count": null,
      "metadata": {
        "_cell_guid": "16317d31-e67b-bbe9-ef17-e3150d913dd1"
      },
      "outputs": [],
      "source": [
        "### DO ONE HOT ENCODE\n",
        "### DO NOT INCLUDE SUB AREA \n",
        "### FILL MISSING DATA OF ECOLOGY WITH NP.NAN\n",
        "merged.ecology = merged.ecology.apply(lambda x: np.NaN if x == \"no data\" else x)\n",
        "### ONE-HOT AND ECOLOGY\n",
        "encoding_cols = [col for col in cat_cols if col != \"sub_area\"] + [\"material\", \"state\"]\n",
        "merged_encoded = pd.get_dummies(columns=encoding_cols, data = merged)\n",
        "\n",
        "def label_encode_ecology(x):\n",
        "    if x == \"poor\":\n",
        "        return 0\n",
        "    elif x == \"good\":\n",
        "        return 1\n",
        "    elif x == \"satisfactory\":\n",
        "        return 2\n",
        "    elif x == \"excellent\":\n",
        "        return 3\n",
        "    else:\n",
        "        return x\n",
        "    \n",
        "merged_encoded[\"ecology_labels\"] = merged.ecology.apply(lambda x: label_encode_ecology(x))\n",
        "merged_encoded[\"material\"] = merged.material\n",
        "merged_encoded[\"state\"] = merged.state"
      ]
    },
    {
      "cell_type": "code",
      "execution_count": null,
      "metadata": {
        "_cell_guid": "cf0d099b-ec3b-ee1d-02c4-61b41d1ef10c"
      },
      "outputs": [],
      "source": [
        "\"\"\"\n",
        "Notes on num_cols features:\n",
        "\n",
        " 1. full_sq - life_sq  = not_life_sq\n",
        " 2. life_sq / full_sq = life_sq_ratio\n",
        " 3. floor ordinal \n",
        " 4. max_floor ordinal\n",
        " 5. material ordinal,  one-hot encoding also\n",
        " 6. timestamp - build_year = build_age\n",
        " 7. state, one-hot encoding and use as ordinal\n",
        " 8. get ratios for xxx_all / full_all\n",
        " 9. get ratios of buildings by year build_count_before_yyyy / raion_build_count_with_builddate_info\n",
        " 10. get ratios of buildingsbuild_count_xxx / raion_build_count_with_material_info \n",
        "\n",
        "\"\"\"\n",
        "merged_encoded[\"non_life_sq\"] =  merged_encoded.full_sq - merged_encoded.life_sq \n",
        "merged_encoded[\"life_sq_ratio\"] = merged_encoded.life_sq  /  merged_encoded.full_sq\n",
        "\n",
        "\n",
        "\n",
        "from datetime import datetime\n",
        "def build_year(x):\n",
        "    try:\n",
        "        return datetime.strptime(str(int(x)), \"%Y\")\n",
        "    except:\n",
        "        return x\n",
        "def timestamp(x):\n",
        "    try:\n",
        "        return datetime.strptime(x, \"%Y-%m-%d\")\n",
        "    except:\n",
        "        return x\n",
        "merged_encoded.build_year = merged_encoded.build_year.apply(lambda x: build_year(x))\n",
        "merged_encoded.timestamp = merged_encoded.timestamp.apply(lambda x: timestamp(x))\n",
        "\n",
        "\n",
        "\n",
        "\n",
        "build_age = []\n",
        "for x,y in zip(merged_encoded.timestamp,merged_encoded.build_year):\n",
        "    try:\n",
        "        build_age.append(x.year - y.year)\n",
        "    except:\n",
        "        build_age.append(np.NaN)\n",
        "merged_encoded[\"build_age\"] = np.array(build_age)\n",
        "\n",
        "\n",
        "population_cols = ['full_all', 'young_all', 'work_all', 'ekder_all', '0_6_all', '7_14_all',\n",
        "                   '0_17_all',  '16_29_all',  '0_13_all']\n",
        "for col in population_cols[1:]:\n",
        "    col_name = col + \"_percent\"\n",
        "    merged_encoded[col_name] = merged_encoded[col] / merged_encoded[\"full_all\"]\n",
        "    \n",
        "building_type_cols = ['raion_build_count_with_material_info', 'build_count_block', 'build_count_wood',\n",
        " 'build_count_frame', 'build_count_brick', 'build_count_monolith', 'build_count_panel', 'build_count_foam',\n",
        " 'build_count_slag', 'build_count_mix']\n",
        "\n",
        "for col in building_type_cols[1:]:\n",
        "    col_name = col + \"_percent\"\n",
        "    merged_encoded[col_name] = merged_encoded[col] / merged_encoded[\"raion_build_count_with_material_info\"]\n",
        "    \n",
        "building_year_cols = ['raion_build_count_with_builddate_info', 'build_count_before_1920',\n",
        " 'build_count_1921-1945', 'build_count_1946-1970', 'build_count_1971-1995', 'build_count_after_1995']\n",
        "\n",
        "for col in building_year_cols[1:]:\n",
        "    col_name = col + \"_percent\"\n",
        "    merged_encoded[col_name] = merged_encoded[col] / merged_encoded[\"raion_build_count_with_builddate_info\"]"
      ]
    },
    {
      "cell_type": "code",
      "execution_count": null,
      "metadata": {
        "_cell_guid": "85b41bf8-1824-6be3-3164-5ed59c052c8e"
      },
      "outputs": [],
      "source": [
        "### WE WILL DEAL WITH NEARBY CAFE, FACILITY AND ETC FEATURES LATER IN DIMENSIONALITY REDUCTION\n",
        "### MACRO FEATURES WILL BE DEALT SEPARATELY AS TIME SERIES"
      ]
    }
  ],
  "metadata": {
    "_change_revision": 0,
    "_is_fork": false,
    "kernelspec": {
      "display_name": "Python 3",
      "language": "python",
      "name": "python3"
    },
    "language_info": {
      "codemirror_mode": {
        "name": "ipython",
        "version": 3
      },
      "file_extension": ".py",
      "mimetype": "text/x-python",
      "name": "python",
      "nbconvert_exporter": "python",
      "pygments_lexer": "ipython3",
      "version": "3.6.0"
    }
  },
  "nbformat": 4,
  "nbformat_minor": 0
}