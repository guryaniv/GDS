{
  "cells": [
    {
      "cell_type": "code",
      "execution_count": null,
      "metadata": {
        "_cell_guid": "478a79cb-f32b-0388-19b1-36352ec5760a"
      },
      "outputs": [],
      "source": [
        "# This Python 3 environment comes with many helpful analytics libraries installed\n",
        "# It is defined by the kaggle/python docker image: https://github.com/kaggle/docker-python\n",
        "# For example, here's several helpful packages to load in \n",
        "\n",
        "import numpy as np # linear algebra\n",
        "import pandas as pd # data processing, CSV file I/O (e.g. pd.read_csv)\n",
        "import matplotlib.pyplot as plt\n",
        "\n",
        "# Input data files are available in the \"../input/\" directory.\n",
        "# For example, running this (by clicking run or pressing Shift+Enter) will list the files in the input directory\n",
        "\n",
        "from subprocess import check_output\n",
        "print(check_output([\"ls\", \"../input\"]).decode(\"utf8\"))\n",
        "\n",
        "# Any results you write to the current directory are saved as output."
      ]
    },
    {
      "cell_type": "code",
      "execution_count": null,
      "metadata": {
        "_cell_guid": "644614ce-d024-1823-178a-0808c6e248f3"
      },
      "outputs": [],
      "source": [
        "train=pd.read_csv(\"../input/train.csv\")\n",
        "test=pd.read_csv(\"../input/test.csv\")"
      ]
    },
    {
      "cell_type": "code",
      "execution_count": null,
      "metadata": {
        "_cell_guid": "ffecc67e-dea2-eceb-5001-4f6b81d98488"
      },
      "outputs": [],
      "source": [
        "data=train\n",
        "print(\"Dimension of the dataset:\",data.shape)\n",
        "\n",
        "print(data.describe()) ## for all continuous variable\n",
        "## we find that all cont variable are between 0-1 probabilities\n",
        "\n",
        "## Mix of categorical and continous variables. Better to identify and split\n",
        "col_cat=[col for col in data.columns if 'cat' in col]\n",
        "col_cont=[col for col in data.columns if 'cont' in col]\n",
        "\n",
        "#print(\"categorical column size: \", len(col_cat), \" Continuous column size : \", len(col_cont))"
      ]
    },
    {
      "cell_type": "code",
      "execution_count": null,
      "metadata": {
        "_cell_guid": "7b879eb4-5098-4764-f52d-78aae51ccc3b"
      },
      "outputs": [],
      "source": [
        "fig=plt.figure(figsize=(8,3))\n",
        "ax1 = fig.add_subplot(121)\n",
        "data['cont1'].plot(kind='density',xlim=(0,1),title=\"cont1\")\n",
        "ax2 = fig.add_subplot(122)\n",
        "data['cont2'].plot(kind='density',xlim=(0,1))"
      ]
    },
    {
      "cell_type": "markdown",
      "metadata": {
        "_cell_guid": "76d27cc3-7335-fd2c-ee2c-d50ba64facaa"
      },
      "source": [
        "## Data  Preparation for modelling"
      ]
    },
    {
      "cell_type": "code",
      "execution_count": null,
      "metadata": {
        "_cell_guid": "678d8600-9a06-8485-a8ff-c044334effa7"
      },
      "outputs": [],
      "source": [
        "## need to convert categorical variables into numeric - cat1 to cat116\n",
        "categorical_split=116\n",
        "data_encoded=data\n",
        "## LE or one hot. first trying LE\n",
        "from sklearn.preprocessing import LabelEncoder\n",
        "le=LabelEncoder()\n",
        "for i in range(0,categorical_split):\n",
        "        #data[i]=le.fit(data[i])\n",
        "        print(data[i,\"loss\"])"
      ]
    },
    {
      "cell_type": "code",
      "execution_count": null,
      "metadata": {
        "_cell_guid": "59069e29-6142-bf69-6258-3ceee9ecdb2c"
      },
      "outputs": [],
      "source": [
        "data.dftypes()"
      ]
    },
    {
      "cell_type": "code",
      "execution_count": null,
      "metadata": {
        "_cell_guid": "0b0cc7db-2acb-ee1a-845f-5d5188b1adf2"
      },
      "outputs": [],
      "source": [
        "dtypes(data"
      ]
    }
  ],
  "metadata": {
    "_change_revision": 0,
    "_is_fork": false,
    "kernelspec": {
      "display_name": "Python 3",
      "language": "python",
      "name": "python3"
    },
    "language_info": {
      "codemirror_mode": {
        "name": "ipython",
        "version": 3
      },
      "file_extension": ".py",
      "mimetype": "text/x-python",
      "name": "python",
      "nbconvert_exporter": "python",
      "pygments_lexer": "ipython3",
      "version": "3.5.2"
    }
  },
  "nbformat": 4,
  "nbformat_minor": 0
}