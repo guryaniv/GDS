{
  "cells": [
    {
      "cell_type": "code",
      "execution_count": null,
      "metadata": {
        "_cell_guid": "0a0904b7-0ad6-8dff-59a4-898fde366d76"
      },
      "outputs": [],
      "source": [
        "# This Python 3 environment comes with many helpful analytics libraries installed\n",
        "# It is defined by the kaggle/python docker image: https://github.com/kaggle/docker-python\n",
        "# For example, here's several helpful packages to load in \n",
        "\n",
        "import numpy as np # linear algebra\n",
        "import pandas as pd # data processing, CSV file I/O (e.g. pd.read_csv)\n",
        "\n",
        "# Input data files are available in the \"../input/\" directory.\n",
        "# For example, running this (by clicking run or pressing Shift+Enter) will list the files in the input directory\n",
        "\n",
        "from subprocess import check_output\n",
        "print(check_output([\"ls\", \"../input\"]).decode(\"utf8\"))\n",
        "\n",
        "# Any results you write to the current directory are saved as output."
      ]
    },
    {
      "cell_type": "code",
      "execution_count": null,
      "metadata": {
        "_cell_guid": "c5feeb57-be2e-6c7d-7b45-6f5cf5f8c6a4"
      },
      "outputs": [],
      "source": [
        "import matplotlib.pyplot as plt\n",
        "import seaborn as sns\n",
        "\n",
        "pd.set_option('display.max_columns',400)"
      ]
    },
    {
      "cell_type": "code",
      "execution_count": null,
      "metadata": {
        "_cell_guid": "1a8cc96e-cc8d-0bff-5edc-8ea228396eef"
      },
      "outputs": [],
      "source": [
        "train_df = pd.read_csv(\"../input/train.csv\")\n",
        "macro_df = pd.read_csv(\"../input/macro.csv\")"
      ]
    },
    {
      "cell_type": "code",
      "execution_count": null,
      "metadata": {
        "_cell_guid": "70a5b928-be57-435c-a294-e435d9b9cceb"
      },
      "outputs": [],
      "source": [
        "n_train_df = train_df.copy()\n",
        "n_train_df['timestamp'] = n_train_df['timestamp'].apply(lambda x:x[0:4]+x[5:7])"
      ]
    },
    {
      "cell_type": "code",
      "execution_count": null,
      "metadata": {
        "_cell_guid": "93c6ab36-8ce0-952c-dc97-5d6f3e5370b0"
      },
      "outputs": [],
      "source": [
        "np.mean(n_train_df['life_sq'])"
      ]
    },
    {
      "cell_type": "code",
      "execution_count": null,
      "metadata": {
        "_cell_guid": "ee2332a3-f3ce-37e7-0db9-7a96ddaaf501"
      },
      "outputs": [],
      "source": [
        "sns.countplot(y = 'product_type',data=n_train_df)"
      ]
    },
    {
      "cell_type": "code",
      "execution_count": null,
      "metadata": {
        "_cell_guid": "9b2ec2a3-cf5b-eaca-5f36-5cdefb9ff219"
      },
      "outputs": [],
      "source": [
        "n_train_df.head()"
      ]
    },
    {
      "cell_type": "code",
      "execution_count": null,
      "metadata": {
        "_cell_guid": "6d1bf223-6ff8-fb0b-7f92-d48162473604"
      },
      "outputs": [],
      "source": [
        "mv = n_train_df.isnull().sum()"
      ]
    },
    {
      "cell_type": "code",
      "execution_count": null,
      "metadata": {
        "_cell_guid": "a6f098f3-eea7-2402-2503-f1c65b869fe9"
      },
      "outputs": [],
      "source": [
        "x= list(mv)\n",
        "y= list(n_train_df.columns)"
      ]
    },
    {
      "cell_type": "code",
      "execution_count": null,
      "metadata": {
        "_cell_guid": "753c4380-5b21-b7b0-c2b3-d4e43e61c212"
      },
      "outputs": [],
      "source": [
        "f,ax = plt.subplots(figsize=(10,40))\n",
        "sns.barplot(ax=ax,x=x,y=y)"
      ]
    },
    {
      "cell_type": "code",
      "execution_count": null,
      "metadata": {
        "_cell_guid": "5d33d976-ae83-5b23-d8ea-a2cbd195a757"
      },
      "outputs": [],
      "source": [
        "for col in n_train_df.columns:\n",
        "    if n_train_df[col].isnull().any():\n",
        "        del n_train_df[col]"
      ]
    },
    {
      "cell_type": "code",
      "execution_count": null,
      "metadata": {
        "_cell_guid": "6ee258a4-bad4-c3f7-ae15-a527cf530112"
      },
      "outputs": [],
      "source": [
        "from sklearn.preprocessing import LabelEncoder\n",
        "enc = LabelEncoder()"
      ]
    },
    {
      "cell_type": "code",
      "execution_count": null,
      "metadata": {
        "_cell_guid": "1f826514-146f-c7f8-4707-7a69a83ebc24"
      },
      "outputs": [],
      "source": [
        "for col in n_train_df.columns:\n",
        "    if n_train_df[col].dtypes == 'object':\n",
        "        n_train_df[col] = enc.fit_transform(n_train_df[col])"
      ]
    },
    {
      "cell_type": "code",
      "execution_count": null,
      "metadata": {
        "_cell_guid": "6265db33-b967-0b65-cefe-a623f33cc473"
      },
      "outputs": [],
      "source": [
        "x_train_df = n_train_df[list(range(0,240))]"
      ]
    },
    {
      "cell_type": "code",
      "execution_count": null,
      "metadata": {
        "_cell_guid": "a851d5d1-b42b-6fd9-1427-bead92351500"
      },
      "outputs": [],
      "source": [
        "y_train_df = n_train_df[[240]]"
      ]
    },
    {
      "cell_type": "code",
      "execution_count": null,
      "metadata": {
        "_cell_guid": "3ec7d636-6c02-1393-202c-34e7cd62d0dc"
      },
      "outputs": [],
      "source": [
        "x_train_df.head()"
      ]
    },
    {
      "cell_type": "code",
      "execution_count": null,
      "metadata": {
        "_cell_guid": "0f97b35e-2252-21fc-dce7-b1f7c6bb4914"
      },
      "outputs": [],
      "source": [
        "from sklearn.preprocessing import StandardScaler\n",
        "sc= StandardScaler()\n",
        "x_train = sc.fit_transform(x_train_df)\n",
        "y_train = sc.fit_transform(y_train_df)\n"
      ]
    },
    {
      "cell_type": "code",
      "execution_count": null,
      "metadata": {
        "_cell_guid": "cfc2f16e-ee3e-2692-0075-4a8f10505b81"
      },
      "outputs": [],
      "source": [
        "from sklearn.linear_model import LinearRegression"
      ]
    },
    {
      "cell_type": "code",
      "execution_count": null,
      "metadata": {
        "_cell_guid": "c19517ee-49aa-1eb9-0d35-a8f317a5c5eb"
      },
      "outputs": [],
      "source": [
        "regr = LinearRegression()"
      ]
    },
    {
      "cell_type": "code",
      "execution_count": null,
      "metadata": {
        "_cell_guid": "2d762d4f-87ae-971e-e16a-f986db1932ad"
      },
      "outputs": [],
      "source": [
        "regr.fit(x_train,y_train)"
      ]
    },
    {
      "cell_type": "code",
      "execution_count": null,
      "metadata": {
        "_cell_guid": "d6d292c7-c316-e664-fcfd-35f186f09c18"
      },
      "outputs": [],
      "source": ""
    }
  ],
  "metadata": {
    "_change_revision": 0,
    "_is_fork": false,
    "kernelspec": {
      "display_name": "Python 3",
      "language": "python",
      "name": "python3"
    },
    "language_info": {
      "codemirror_mode": {
        "name": "ipython",
        "version": 3
      },
      "file_extension": ".py",
      "mimetype": "text/x-python",
      "name": "python",
      "nbconvert_exporter": "python",
      "pygments_lexer": "ipython3",
      "version": "3.6.0"
    }
  },
  "nbformat": 4,
  "nbformat_minor": 0
}