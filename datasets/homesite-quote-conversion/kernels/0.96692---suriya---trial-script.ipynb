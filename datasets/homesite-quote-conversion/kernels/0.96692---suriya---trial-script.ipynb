{"cells":[
 {
  "cell_type": "code",
  "execution_count": null,
  "metadata": {
   "collapsed": false
  },
  "outputs": [],
  "source": "import pandas as pd\nimport xgboost as xgb\nimport numpy as np\nfrom sklearn import preprocessing\n\ndf = pd.read_csv(\"C:\\Users\\tamirh\\PycharmProjects\\guided-ds\\datasets\\homesite-quote-conversion\\input\\train.csv\")\ntest = pd.read_csv(\"C:\\Users\\tamirh\\PycharmProjects\\guided-ds\\datasets\\homesite-quote-conversion\\input\\test.csv\")\n\ndf['Date']=pd.to_datetime(pd.Series(df['Original_Quote_Date']))\ndf['Year']=df['Date'].apply(lambda x: int(str(x)[:4]))\ndf['Month']=df['Date'].apply(lambda x: int(str(x)[5:7]))\ndf['Date']=df['Date'].apply(lambda x: int(str(x)[8:10]))\ndf['Field10'].apply(lambda x : int(x.replace(',','')) )\n\ntest['Date']=pd.to_datetime(pd.Series(test['Original_Quote_Date']))\ntest['Year']=test['Date'].apply(lambda x: int(str(x)[:4]))\ntest['Month']=test['Date'].apply(lambda x: int(str(x)[5:7]))\ntest['Date']=test['Date'].apply(lambda x: int(str(x)[8:10]))\ntest['Field10'].apply(lambda x : int(x.replace(',','')))\n\nlabel=df['QuoteConversion_Flag']\ndf.drop('QuoteConversion_Flag',axis=1,inplace=True)\nnumber=test['QuoteNumber']\ndrop_columns=['Original_Quote_Date','QuoteNumber']\nfor names in drop_columns:\n        df.drop(names,axis=1,inplace=True)\n        test.drop(names,axis=1,inplace=True)\nclf=xgb.XGBClassifier(max_depth=7,learning_rate=0.03,n_estimators=650,subsample=0.86,seed=50)"
 },
 {
  "cell_type": "code",
  "execution_count": null,
  "metadata": {
   "collapsed": false
  },
  "outputs": [],
  "source": "for f in df.columns:\n    if df[f].dtypes=='object':\n        encoder=preprocessing.LabelEncoder()\n        encoder.fit( list(df[f])+list(test[f]) )\n        df[f]=encoder.transform(list(df[f].values))\n        test[f]=encoder.transform(list(test[f].values))\n\n\ndf.fillna(-1,inplace=True)\ntest.fillna(-1,inplace=True)"
 },
 {
  "cell_type": "code",
  "execution_count": null,
  "metadata": {
   "collapsed": false
  },
  "outputs": [],
  "source": "clf.fit(df,label)\noutput=clf.predict_proba(test)[:,1]"
 },
 {
  "cell_type": "code",
  "execution_count": null,
  "metadata": {
   "collapsed": false
  },
  "outputs": [],
  "source": "sample=pd.read_csv('C:\\Users\\tamirh\\PycharmProjects\\guided-ds\\datasets\\homesite-quote-conversion\\input\\sample_submission.csv')\nsample.QuoteConversion_Flag=output\nsample.to_csv('final.csv',index=False)"
 }
],"metadata":{"kernelspec":{"display_name":"Python 3","language":"python","name":"python3"}}, "nbformat": 4, "nbformat_minor": 0}