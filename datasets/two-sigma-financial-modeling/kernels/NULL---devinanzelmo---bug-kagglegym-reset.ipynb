{
  "cells": [
    {
      "cell_type": "markdown",
      "metadata": {
        "_cell_guid": "f44199b1-294a-f4c1-6e68-b4dec952a900"
      },
      "source": [
        "kagglegym env.reset() is not fully resetting the environment, this notebook shows an example reproducing the bug. All credit for bug discovery goes to Peter Bruhn see this post https://www.kaggle.com/slothouber/two-sigma-financial-modeling/kagglegym-emulation/comments#148347\n",
        "\n",
        "\n",
        "Bug seems to require training on one set of features and then switching features. First run is on `technical_20`, and second run is on `technical_30`. After creating a new environment and rerunning `technical_30` case a different score is seen."
      ]
    },
    {
      "cell_type": "markdown",
      "metadata": {
        "_cell_guid": "a5465ce2-826b-4dcf-8b05-1dac5486a695"
      },
      "source": ""
    },
    {
      "cell_type": "code",
      "execution_count": null,
      "metadata": {
        "_cell_guid": "b988862c-efe6-f008-a120-02fad68ff62d"
      },
      "outputs": [],
      "source": [
        "import numpy as np # linear algebra\n",
        "import pandas as pd # data processing, CSV file I/O (e.g. pd.read_csv)\n",
        "\n",
        "# Input data files are available in the \"../input/\" directory.\n",
        "# For example, running this (by clicking run or pressing Shift+Enter) will list the files in the input directory\n",
        "\n",
        "from subprocess import check_output\n",
        "print(check_output([\"ls\", \"../input\"]).decode(\"utf8\"))\n",
        "\n",
        "# Any results you write to the current directory are saved as output."
      ]
    },
    {
      "cell_type": "code",
      "execution_count": null,
      "metadata": {
        "_cell_guid": "2967dd09-4917-4f7d-92ae-baaefcd91e30"
      },
      "outputs": [],
      "source": [
        "# code from SRK's kernel https://www.kaggle.com/sudalairajkumar/two-sigma-financial-modeling/univariate-model\n",
        "import kagglegym\n",
        "from sklearn import linear_model as lm\n",
        "\n",
        "\n",
        "# The \"environment\" is our interface for code competitions\n",
        "env = kagglegym.make()\n",
        "\n",
        "# We get our initial observation by calling \"reset\"\n",
        "observation = env.reset()\n",
        "\n",
        "# Get the train dataframe\n",
        "train = observation.train\n",
        "mean_values = train.mean(axis=0)\n",
        "train.fillna(mean_values, inplace=True)\n",
        "\n",
        "cols_to_use = ['technical_30', 'technical_20', 'fundamental_11', 'technical_19']\n",
        "\n",
        "\n",
        "models_dict = {}\n",
        "for col in cols_to_use:\n",
        "    model = lm.LinearRegression()\n",
        "    model.fit(np.array(train[col].values).reshape(-1,1), train.y.values)\n",
        "    models_dict[col] = model\n",
        "\n",
        "col = 'technical_20'\n",
        "model = models_dict[col]\n",
        "while True:\n",
        "    observation.features.fillna(mean_values, inplace=True)\n",
        "    test_x = np.array(observation.features[col].values).reshape(-1,1)\n",
        "    observation.target.y = model.predict(test_x)\n",
        "    #observation.target.fillna(0, inplace=True)\n",
        "    target = observation.target\n",
        "    timestamp = observation.features[\"timestamp\"][0]\n",
        "    if timestamp % 100 == 0:\n",
        "        print(\"Timestamp #{}\".format(timestamp))\n",
        "\n",
        "    observation, reward, done, info = env.step(target)\n",
        "    if done:\n",
        "        break\n",
        "    \n",
        "info\n",
        "\n"
      ]
    },
    {
      "cell_type": "code",
      "execution_count": null,
      "metadata": {
        "_cell_guid": "d9d2cc1d-dc77-dade-fd4b-425cb4ac78d0"
      },
      "outputs": [],
      "source": [
        "\n",
        "# We get our initial observation by calling \"reset\"\n",
        "observation = env.reset()\n",
        "\n",
        "# Get the train dataframe\n",
        "train = observation.train\n",
        "mean_values = train.mean(axis=0)\n",
        "train.fillna(mean_values, inplace=True)\n",
        "\n",
        "cols_to_use = ['technical_30', 'technical_20', 'fundamental_11', 'technical_19']\n",
        "\n",
        "\n",
        "models_dict = {}\n",
        "for col in cols_to_use:\n",
        "    model = lm.LinearRegression()\n",
        "    model.fit(np.array(train[col].values).reshape(-1,1), train.y.values)\n",
        "    models_dict[col] = model\n",
        "\n",
        "col = 'technical_30'\n",
        "model = models_dict[col]\n",
        "while True:\n",
        "    observation.features.fillna(mean_values, inplace=True)\n",
        "    test_x = np.array(observation.features[col].values).reshape(-1,1)\n",
        "    observation.target.y = model.predict(test_x)\n",
        "    #observation.target.fillna(0, inplace=True)\n",
        "    target = observation.target\n",
        "    timestamp = observation.features[\"timestamp\"][0]\n",
        "    if timestamp % 100 == 0:\n",
        "        print(\"Timestamp #{}\".format(timestamp))\n",
        "\n",
        "    observation, reward, done, info = env.step(target)\n",
        "    if done:\n",
        "        break\n",
        "    \n",
        "info\n"
      ]
    },
    {
      "cell_type": "code",
      "execution_count": null,
      "metadata": {
        "_cell_guid": "1901ca12-c623-da61-33da-2dd5f067bf42"
      },
      "outputs": [],
      "source": [
        "# The \"environment\" is our interface for code competitions\n",
        "env = kagglegym.make()\n",
        "\n",
        "# We get our initial observation by calling \"reset\"\n",
        "observation = env.reset()\n",
        "\n",
        "# Get the train dataframe\n",
        "train = observation.train\n",
        "mean_values = train.mean(axis=0)\n",
        "train.fillna(mean_values, inplace=True)\n",
        "\n",
        "cols_to_use = ['technical_30', 'technical_20', 'fundamental_11', 'technical_19']\n",
        "\n",
        "\n",
        "models_dict = {}\n",
        "for col in cols_to_use:\n",
        "    model = lm.LinearRegression()\n",
        "    model.fit(np.array(train[col].values).reshape(-1,1), train.y.values)\n",
        "    models_dict[col] = model\n",
        "\n",
        "col = 'technical_30'\n",
        "model = models_dict[col]\n",
        "while True:\n",
        "    observation.features.fillna(mean_values, inplace=True)\n",
        "    test_x = np.array(observation.features[col].values).reshape(-1,1)\n",
        "    observation.target.y = model.predict(test_x)\n",
        "    #observation.target.fillna(0, inplace=True)\n",
        "    target = observation.target\n",
        "    timestamp = observation.features[\"timestamp\"][0]\n",
        "    if timestamp % 100 == 0:\n",
        "        print(\"Timestamp #{}\".format(timestamp))\n",
        "\n",
        "    observation, reward, done, info = env.step(target)\n",
        "    if done:\n",
        "        break\n",
        "    \n",
        "info\n"
      ]
    },
    {
      "cell_type": "code",
      "execution_count": null,
      "metadata": {
        "_cell_guid": "85160647-79ed-4a3f-8236-4f9446b92ae3"
      },
      "outputs": [],
      "source": [
        "# This Python 3 environment comes with many helpful analytics libraries installed\n",
        "# It is defined by the kaggle/python docker image: https://github.com/kaggle/docker-python\n",
        "# For example, here's several helpful packages to load in \n",
        "\n",
        "import numpy as np # linear algebra\n",
        "import pandas as pd # data processing, CSV file I/O (e.g. pd.read_csv)\n",
        "\n",
        "# Input data files are available in the \"../input/\" directory.\n",
        "# For example, running this (by clicking run or pressing Shift+Enter) will list the files in the input directory\n",
        "\n",
        "from subprocess import check_output\n",
        "print(check_output([\"ls\", \"../input\"]).decode(\"utf8\"))\n",
        "\n",
        "# Any results you write to the current directory are saved as output."
      ]
    },
    {
      "cell_type": "code",
      "execution_count": null,
      "metadata": {
        "_cell_guid": "039ee881-9c65-44f4-938b-a9151c9ac427"
      },
      "outputs": [],
      "source": ""
    },
    {
      "cell_type": "code",
      "execution_count": null,
      "metadata": {
        "_cell_guid": "5185303b-de5f-4e5c-96de-14bed5bc97f6"
      },
      "outputs": [],
      "source": ""
    },
    {
      "cell_type": "code",
      "execution_count": null,
      "metadata": {
        "_cell_guid": "4bd74238-7c68-4059-9819-6dd5e13099ba"
      },
      "outputs": [],
      "source": ""
    }
  ],
  "metadata": {
    "_change_revision": 0,
    "_is_fork": false,
    "kernelspec": {
      "display_name": "Python 3",
      "language": "python",
      "name": "python3"
    },
    "language_info": {
      "codemirror_mode": {
        "name": "ipython",
        "version": 3
      },
      "file_extension": ".py",
      "mimetype": "text/x-python",
      "name": "python",
      "nbconvert_exporter": "python",
      "pygments_lexer": "ipython3",
      "version": "3.5.2"
    }
  },
  "nbformat": 4,
  "nbformat_minor": 0
}