{
  "cells": [
    {
      "cell_type": "markdown",
      "metadata": {
        "_cell_guid": "ee65e503-68f9-5ca9-9ed5-dc2a369e98cd"
      },
      "source": [
        "### Exploring the dataset. Credits for this notebook goes to [Reynaldo][1]\n",
        "\n",
        "\n",
        "  [1]: https://www.kaggle.com/reynaldo"
      ]
    },
    {
      "cell_type": "code",
      "execution_count": null,
      "metadata": {
        "_cell_guid": "4c4455c3-21eb-4e35-4399-03df22e38acf"
      },
      "outputs": [],
      "source": [
        " \n",
        "\n",
        "import numpy as np # linear algebra\n",
        "import pandas as pd # data processing, CSV file I/O (e.g. pd.read_csv)\n",
        "from subprocess import check_output\n",
        "#print(check_output([\"ls\", \"../input/train.csv\"]).decode(\"utf8\"))"
      ]
    },
    {
      "cell_type": "code",
      "execution_count": null,
      "metadata": {
        "_cell_guid": "526ad461-1e7e-4442-ddcc-777bb6d3198d"
      },
      "outputs": [],
      "source": [
        "data = pd.read_csv(\"../input/train.csv\")\n",
        "test = pd.read_csv(\"../input/test.csv\")"
      ]
    },
    {
      "cell_type": "code",
      "execution_count": null,
      "metadata": {
        "_cell_guid": "115e0366-2e9b-b324-82e0-97ed582e0793"
      },
      "outputs": [],
      "source": [
        "y_train = data[\"price_doc\"]\n",
        "X_train = data.drop([\"id\", \"timestamp\",\"price_doc\"], axis=1)\n",
        "X_test = test.drop([\"id\", \"timestamp\"], axis=1)"
      ]
    },
    {
      "cell_type": "code",
      "execution_count": null,
      "metadata": {
        "_cell_guid": "b5c493bf-07b8-cda8-eb0f-f69577396adc"
      },
      "outputs": [],
      "source": [
        "print (X_train.shape)\n",
        "print (y_train.shape)\n",
        "print (X_test.shape)"
      ]
    },
    {
      "cell_type": "code",
      "execution_count": null,
      "metadata": {
        "_cell_guid": "55847b32-a058-0c99-6c1b-63e516b2d563"
      },
      "outputs": [],
      "source": [
        "from sklearn import model_selection, preprocessing\n",
        "import xgboost as xgb"
      ]
    },
    {
      "cell_type": "code",
      "execution_count": null,
      "metadata": {
        "_cell_guid": "f5665bc5-1a89-1478-a118-a79f4b8065dd"
      },
      "outputs": [],
      "source": [
        "for c in X_train.columns:\n",
        "    if X_train[c].dtype == 'object':\n",
        "        lbl = preprocessing.LabelEncoder()\n",
        "        lbl.fit(list(X_train[c].values)) \n",
        "        X_train[c] = lbl.transform(list(X_train[c].values))\n",
        "        \n",
        "for c in X_test.columns:\n",
        "    if X_test[c].dtype == 'object':\n",
        "        lbl = preprocessing.LabelEncoder()\n",
        "        lbl.fit(list(X_test[c].values)) \n",
        "        X_test[c] = lbl.transform(list(X_test[c].values))"
      ]
    },
    {
      "cell_type": "code",
      "execution_count": null,
      "metadata": {
        "_cell_guid": "ff8c01c3-c0c1-3579-b76d-f2b1044f7c30"
      },
      "outputs": [],
      "source": [
        "xgb_params = {\n",
        "    'eta': 0.06,\n",
        "    'max_depth': 10,\n",
        "    'subsample': 0.5,\n",
        "    'colsample_bytree': 0.5,\n",
        "    'objective': 'reg:linear',\n",
        "    'eval_metric': 'rmse',\n",
        "    'silent': 1\n",
        "}\n",
        "\n",
        "dtrain = xgb.DMatrix(X_train, y_train)\n",
        "dtest = xgb.DMatrix(X_test)"
      ]
    },
    {
      "cell_type": "code",
      "execution_count": null,
      "metadata": {
        "_cell_guid": "23108aa7-8fa6-ac56-d5e8-b7f2518fd715"
      },
      "outputs": [],
      "source": [
        "cv_output = xgb.cv(xgb_params, dtrain, num_boost_round=2000, early_stopping_rounds=40,\n",
        "    verbose_eval=100, show_stdv=False)\n",
        "cv_output[['train-rmse-mean', 'test-rmse-mean']].plot()"
      ]
    },
    {
      "cell_type": "code",
      "execution_count": null,
      "metadata": {
        "_cell_guid": "eb334a91-722c-5976-fd42-aa5e2720c72f"
      },
      "outputs": [],
      "source": [
        "num_boost_rounds = len(cv_output)\n",
        "model = xgb.train(dict(xgb_params, silent=0), dtrain, num_boost_round= num_boost_rounds)"
      ]
    },
    {
      "cell_type": "code",
      "execution_count": null,
      "metadata": {
        "_cell_guid": "94cfcb78-019c-d10a-d899-6dd5774762b9"
      },
      "outputs": [],
      "source": [
        "id_test = test.id\n",
        "y_predict = model.predict(dtest)\n",
        "output = pd.DataFrame({'id': id_test, 'price_doc': y_predict})\n",
        "output.head()"
      ]
    },
    {
      "cell_type": "code",
      "execution_count": null,
      "metadata": {
        "_cell_guid": "098eafc6-50b6-6389-98b7-72d39f4c2b7c"
      },
      "outputs": [],
      "source": [
        "output.to_csv('submission2.csv', index=False)"
      ]
    },
    {
      "cell_type": "code",
      "execution_count": null,
      "metadata": {
        "_cell_guid": "e4b4742c-1309-7a4a-25be-2ac8923decb5"
      },
      "outputs": [],
      "source": ""
    }
  ],
  "metadata": {
    "_change_revision": 0,
    "_is_fork": false,
    "kernelspec": {
      "display_name": "Python 3",
      "language": "python",
      "name": "python3"
    },
    "language_info": {
      "codemirror_mode": {
        "name": "ipython",
        "version": 3
      },
      "file_extension": ".py",
      "mimetype": "text/x-python",
      "name": "python",
      "nbconvert_exporter": "python",
      "pygments_lexer": "ipython3",
      "version": "3.6.0"
    }
  },
  "nbformat": 4,
  "nbformat_minor": 0
}