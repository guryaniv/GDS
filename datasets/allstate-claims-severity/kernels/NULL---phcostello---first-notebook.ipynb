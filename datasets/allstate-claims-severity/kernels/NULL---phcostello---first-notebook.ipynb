{
  "cells": [
    {
      "cell_type": "code",
      "execution_count": null,
      "metadata": {
        "_cell_guid": "86a0b6d6-48b4-b1cb-760e-3ed82750cece"
      },
      "outputs": [],
      "source": [
        "# This Python 3 environment comes with many helpful analytics libraries installed\n",
        "# It is defined by the kaggle/python docker image: https://github.com/kaggle/docker-python\n",
        "# For example, here's several helpful packages to load in \n",
        "\n",
        "import numpy as np # linear algebra\n",
        "import pandas as pd # data processing, CSV file I/O (e.g. pd.read_csv)\n",
        "\n",
        "# Input data files are available in the \"../input/\" directory.\n",
        "# For example, running this (by clicking run or pressing Shift+Enter) will list the files in the input directory\n",
        "\n",
        "from subprocess import check_output\n",
        "print(check_output([\"ls\", \"../input\"]).decode(\"utf8\"))\n",
        "\n",
        "# Any results you write to the current directory are saved as output."
      ]
    },
    {
      "cell_type": "code",
      "execution_count": null,
      "metadata": {
        "_cell_guid": "e7e345da-bebf-6ff7-c603-6e9f372c5c07"
      },
      "outputs": [],
      "source": [
        "df_train = pd.read_csv('../input/train.csv')\n",
        "df_test = pd.read_csv('../input/test.csv')"
      ]
    },
    {
      "cell_type": "code",
      "execution_count": null,
      "metadata": {
        "_cell_guid": "6fdc25b5-aadb-57af-9eee-2a2eda49c3d6"
      },
      "outputs": [],
      "source": [
        "df_in  = pd.read_csv('../input/train.csv')\n",
        "df_train = df_in.iloc[0:100000,:]\n",
        "df_test = df_in.iloc[100001:,:]"
      ]
    },
    {
      "cell_type": "code",
      "execution_count": null,
      "metadata": {
        "_cell_guid": "d70ad118-d93a-3a74-c508-f668c6afec57"
      },
      "outputs": [],
      "source": [
        "df_in.shape\n",
        "#df_test.shape\n",
        "#df_train.head()"
      ]
    },
    {
      "cell_type": "code",
      "execution_count": null,
      "metadata": {
        "_cell_guid": "30ebd03a-111a-6c85-fd4d-c392c48296b5"
      },
      "outputs": [],
      "source": [
        "from sklearn import linear_model as lm\n",
        "\n",
        "\n",
        "df_train.describe()\n",
        "\n",
        "reg = lm.LinearRegression()\n",
        "X_cols=['cont1','cont2','cont3','cont4','cont6'] \n",
        "y_cols = ['loss']\n",
        "\n",
        "X = df_train[X_cols]\n",
        "y = df_train[y_cols]\n",
        "reg.fit(X,y)\n",
        "\n",
        "X_test = df_test[X_cols]\n",
        "y_test = df_test[y_cols]\n",
        "y_pred = reg.predict(X_test)\n",
        "\n",
        "error = y_test - y_pred\n",
        "centerd = y_test - np.mean(y_test)\n",
        "\n",
        "\n",
        "R2 = 1-error.T.dot(error)/(centerd.T.dot(centerd))\n",
        "R2"
      ]
    },
    {
      "cell_type": "code",
      "execution_count": null,
      "metadata": {
        "_cell_guid": "de393bd3-82d9-50ec-f33d-ea0dd1c89556"
      },
      "outputs": [],
      "source": [
        "import matplotlib.pyplot as plt\n",
        "\n",
        "plt.scatter(X,y)"
      ]
    }
  ],
  "metadata": {
    "_change_revision": 0,
    "_is_fork": false,
    "kernelspec": {
      "display_name": "Python 3",
      "language": "python",
      "name": "python3"
    },
    "language_info": {
      "codemirror_mode": {
        "name": "ipython",
        "version": 3
      },
      "file_extension": ".py",
      "mimetype": "text/x-python",
      "name": "python",
      "nbconvert_exporter": "python",
      "pygments_lexer": "ipython3",
      "version": "3.5.2"
    }
  },
  "nbformat": 4,
  "nbformat_minor": 0
}