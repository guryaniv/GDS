{
  "metadata": {
    "kernelspec": {
      "display_name": "Python 3",
      "language": "python",
      "name": "python3"
    },
    "language_info": {
      "codemirror_mode": {
        "name": "ipython",
        "version": 3
      },
      "file_extension": ".py",
      "mimetype": "text/x-python",
      "name": "python",
      "nbconvert_exporter": "python",
      "pygments_lexer": "ipython3",
      "version": "3.5.2"
    }
  },
  "nbformat": 4,
  "nbformat_minor": 0,
  "cells": [
    {
      "cell_type": "code",
      "execution_count": 1,
      "metadata": {
        "_cell_guid": "b434ca07-9d7f-3da4-89e2-b0344a76e4a2",
        "_active": false
      },
      "outputs": [],
      "source": "# This Python 3 environment comes with many helpful analytics libraries installed\n# It is defined by the kaggle/python docker image: https://github.com/kaggle/docker-python\n# For example, here's several helpful packages to load in \n\nimport numpy as np # linear algebra\nimport pandas as pd # data processing, CSV file I/O (e.g. pd.read_csv)\nimport matplotlib.pyplot as plt\nimport seaborn as sns\n%matplotlib inline\np = sns.color_palette()\n\n# Input data files are available in the \"../input/\" directory.\n# For example, running this (by clicking run or pressing Shift+Enter) will list the files in the input directory\n\nfrom subprocess import check_output\nprint(check_output([\"ls\", \"../input\"]).decode(\"utf8\"))\n\n# Any results you write to the current directory are saved as output.",
      "execution_state": "idle"
    },
    {
      "cell_type": "code",
      "execution_count": 2,
      "metadata": {
        "_cell_guid": "a613e987-3856-8fa3-96cb-9207640d138a",
        "_active": false
      },
      "outputs": [],
      "source": "with pd.HDFStore(\"../input/train.h5\", \"r\") as train:\n    df = train.get(\"train\")\nprint(df.head())",
      "execution_state": "idle"
    },
    {
      "cell_type": "code",
      "execution_count": 5,
      "metadata": {
        "_cell_guid": "5a7eac00-97c6-eb50-f8f2-42edd49f0d6b",
        "_active": false,
        "collapsed": false
      },
      "outputs": [],
      "source": "y = df['technical_43']\nplt.hist(y.dropna(), bins=50, color=p[1])\nplt.xlabel('Target Value')\nplt.ylabel('Count')\nplt.title('Distribution of target value')\nprint('Target value min {0:.3f} max {1:.3f} mean {2:.3f} std {3:.3f}'.format(np.min(y), np.max(y), np.mean(y), np.std(y)))",
      "execution_state": "idle"
    },
    {
      "metadata": {
        "_cell_guid": "28654ae8-b465-1282-8b62-735c28e21aa2",
        "_active": true,
        "collapsed": false
      },
      "source": "import bokeh as bk\nbk.",
      "execution_count": null,
      "cell_type": "code",
      "outputs": []
    }
  ]
}