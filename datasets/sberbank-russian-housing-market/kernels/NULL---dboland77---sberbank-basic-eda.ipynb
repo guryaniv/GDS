{
  "cells": [
    {
      "cell_type": "markdown",
      "metadata": {
        "_cell_guid": "b14b46fd-cc88-faac-03a7-a754d355617f"
      },
      "source": [
        "##Exploratory Data Analysis - Basic"
      ]
    },
    {
      "cell_type": "markdown",
      "metadata": {
        "_cell_guid": "4a0a3578-ac13-7635-3aa9-be877f06d662"
      },
      "source": [
        "Firstly lets import the libraries that we will need for our data analysis. \n",
        "\n",
        "*Numpy* - Advanced mathematical functions and linear algebra\n",
        "\n",
        "*Pandas* - Data analytics and easy CSV input / output\n",
        "\n",
        "*Matplotlib* - Basic plotting functionality\n",
        "\n",
        "*Seaborn* - \"Snazzier\" plots - automatically updates matplotlib plots"
      ]
    },
    {
      "cell_type": "code",
      "execution_count": null,
      "metadata": {
        "_cell_guid": "f1f5091b-8052-f155-09d6-07d1b1e2b674"
      },
      "outputs": [],
      "source": [
        "import numpy as np\n",
        "import pandas as pd\n",
        "import matplotlib.pyplot as plt\n",
        "import seaborn as sns\n",
        "\n",
        "%matplotlib inline\n",
        "\n",
        "pd.options.mode.chained_assignment = None  # default='warn'\n",
        "pd.set_option('display.max_columns', 500)"
      ]
    },
    {
      "cell_type": "markdown",
      "metadata": {
        "_cell_guid": "452b80c1-d934-bcaf-6fd1-a2a3ca5204e3"
      },
      "source": [
        "Read in the the train, test and macro data"
      ]
    },
    {
      "cell_type": "code",
      "execution_count": null,
      "metadata": {
        "_cell_guid": "5dfe1f3c-8faa-bc15-7828-55e5722efde9"
      },
      "outputs": [],
      "source": [
        "train_df = pd.read_csv('../input/train.csv',)\n",
        "test_df = pd.read_csv('../input/test.csv')\n",
        "macro_df = pd.read_csv('../input/macro.csv')\n",
        "\n",
        "id_test = test_df.id"
      ]
    },
    {
      "cell_type": "markdown",
      "metadata": {
        "_cell_guid": "c4b98c6c-e021-6a24-c4f8-94d59135459a"
      },
      "source": [
        "The read_csv function in pandas stores the csv in a special type of array from the Numpy library. \n",
        "\n",
        "We can access some of the functionality of this object to begin our data exploration. \n",
        "\n",
        "Lets start by looking at the first and last few records of each data set to get a feel for what they look like."
      ]
    },
    {
      "cell_type": "code",
      "execution_count": null,
      "metadata": {
        "_cell_guid": "988f2645-9381-76ef-6b4f-e47d879aa0e2"
      },
      "outputs": [],
      "source": [
        "train_df.head() # this will show us the first five records in the training set"
      ]
    },
    {
      "cell_type": "code",
      "execution_count": null,
      "metadata": {
        "_cell_guid": "524274d7-3c1d-a67e-ed59-87c04df324eb"
      },
      "outputs": [],
      "source": [
        "train_df.tail() # this will show us the last five records in the training set"
      ]
    },
    {
      "cell_type": "markdown",
      "metadata": {
        "_cell_guid": "31487bf8-b5a9-672f-b119-9080bab24920"
      },
      "source": [
        "Already we are getting a feel for the data - note that NaN is short for Not a Number and represents missing data.\n",
        "\n",
        "Lets continue with a look at the test set."
      ]
    },
    {
      "cell_type": "code",
      "execution_count": null,
      "metadata": {
        "_cell_guid": "269240ac-94a6-2243-293e-7bb230a6b65d"
      },
      "outputs": [],
      "source": [
        "test_df.head()"
      ]
    },
    {
      "cell_type": "code",
      "execution_count": null,
      "metadata": {
        "_cell_guid": "99dc7f8b-c922-708b-85fc-9ac5329ed60b"
      },
      "outputs": [],
      "source": [
        "test_df.tail()"
      ]
    },
    {
      "cell_type": "markdown",
      "metadata": {
        "_cell_guid": "17bc537f-5fde-0c1d-121e-0c2cf8d28c0f"
      },
      "source": [
        "And finally lets have a quick look at the macro data."
      ]
    },
    {
      "cell_type": "code",
      "execution_count": null,
      "metadata": {
        "_cell_guid": "fbd22fe9-d087-91ef-ebd8-dfc2185a38e2"
      },
      "outputs": [],
      "source": [
        "macro_df.head()"
      ]
    },
    {
      "cell_type": "code",
      "execution_count": null,
      "metadata": {
        "_cell_guid": "c45ae7b4-72dd-2ad8-fe48-70c4a1960a5d"
      },
      "outputs": [],
      "source": [
        "macro_df.tail()"
      ]
    },
    {
      "cell_type": "markdown",
      "metadata": {
        "_cell_guid": "6f234a32-eeed-52fd-6e9b-cb2c66d63a66"
      },
      "source": [
        "It is also useful to look at the \"shape\" of each dataset - i.e the number of rows and columns."
      ]
    },
    {
      "cell_type": "code",
      "execution_count": null,
      "metadata": {
        "_cell_guid": "a9b4fe2c-426a-d792-1394-0123f85c724e"
      },
      "outputs": [],
      "source": [
        "test_df.shape"
      ]
    },
    {
      "cell_type": "code",
      "execution_count": null,
      "metadata": {
        "_cell_guid": "e226d410-44b8-f3f8-12a8-23ea53f6739a"
      },
      "outputs": [],
      "source": [
        "train_df.shape"
      ]
    },
    {
      "cell_type": "code",
      "execution_count": null,
      "metadata": {
        "_cell_guid": "d6b5847f-39e8-0936-65d5-01d858f6372b"
      },
      "outputs": [],
      "source": [
        "macro_df.shape"
      ]
    },
    {
      "cell_type": "markdown",
      "metadata": {
        "_cell_guid": "558c0d3b-d905-8bda-85a1-f9abe81bb260"
      },
      "source": [
        "Next we take a look at the datatypes contained in the training set. "
      ]
    },
    {
      "cell_type": "code",
      "execution_count": null,
      "metadata": {
        "_cell_guid": "c25bfd15-f1d6-23f1-2699-2006876c0481"
      },
      "outputs": [],
      "source": [
        "data_types = train_df.dtypes\n",
        "data_types"
      ]
    },
    {
      "cell_type": "code",
      "execution_count": null,
      "metadata": {
        "_cell_guid": "77da27f1-130f-ea5d-50cf-12627ffcf725"
      },
      "outputs": [],
      "source": [
        "##Count of different datatypes\n",
        "plt.figure(figsize=(10,8))\n",
        "sns.countplot(data_types,)\n",
        "plt.show()"
      ]
    },
    {
      "cell_type": "markdown",
      "metadata": {
        "_cell_guid": "6d2b8927-977b-d906-5f58-d0269246921c"
      },
      "source": [
        "Now lets look at those missing values and see how many we have. "
      ]
    },
    {
      "cell_type": "markdown",
      "metadata": {
        "_cell_guid": "26ac2532-5fae-f137-7c5b-a5b19e70967c"
      },
      "source": [
        "For now lets focus on the training set - \n",
        "and in particular the variable we are asked to predict - the house price.\n",
        "This is represented by the price_doc variable.\n",
        "\n",
        "We start with a scatter plot to check for outliers."
      ]
    },
    {
      "cell_type": "code",
      "execution_count": null,
      "metadata": {
        "_cell_guid": "a61dd563-98d9-9323-b4bc-bbde270b86da"
      },
      "outputs": [],
      "source": [
        "plt.figure(figsize=(8,6))\n",
        "plt.scatter(range(train_df.shape[0]), np.sort(train_df.price_doc.values))\n",
        "plt.xlabel('index', fontsize=12)\n",
        "plt.ylabel('price', fontsize=12)\n",
        "plt.show()"
      ]
    },
    {
      "cell_type": "markdown",
      "metadata": {
        "_cell_guid": "96a7374f-1ec1-6eb8-508a-b659aa97fbcf"
      },
      "source": [
        "Looks ok so lets do a distribution plot. "
      ]
    },
    {
      "cell_type": "code",
      "execution_count": null,
      "metadata": {
        "_cell_guid": "e7af1693-2ee7-ffdc-37f5-6e6ff1373dc2"
      },
      "outputs": [],
      "source": [
        "##Visualizing the target data\n",
        "plt.figure(figsize=(10,6))\n",
        "sns.distplot(train_df['price_doc'],kde=False,bins=50)\n",
        "plt.xlabel('price')\n",
        "plt.show()"
      ]
    },
    {
      "cell_type": "code",
      "execution_count": null,
      "metadata": {
        "_cell_guid": "c29e99fd-bf5d-dbd2-1dff-a855fa26d8e0"
      },
      "outputs": [],
      "source": [
        "#We can see the data is positively skewed and the range in large.We can also use the logarithmic plot to visualize the data better.\n",
        "##Lets plot log of target variable\n",
        "plt.figure(figsize=(10,6))\n",
        "sns.distplot(np.log(train_df['price_doc']),kde=False,bins=50)\n",
        "plt.xlabel('price')\n",
        "plt.show()"
      ]
    },
    {
      "cell_type": "code",
      "execution_count": null,
      "metadata": {
        "_cell_guid": "4dd1846e-cd07-d6c1-3078-a2f5ca8b0013"
      },
      "outputs": [],
      "source": [
        "##Lets visualize the internal characteristics of the house and its relation with price\n",
        "plt.figure(figsize=(10,8))\n",
        "internal_characteristics=['full_sq', 'life_sq', 'floor', 'max_floor', 'material',\n",
        "                          'num_room', 'kitch_sq','price_doc']\n",
        "heatmap_data=train_df[internal_characteristics].corr()\n",
        "sns.heatmap(heatmap_data,annot=True)\n",
        "plt.show()"
      ]
    },
    {
      "cell_type": "code",
      "execution_count": null,
      "metadata": {
        "_cell_guid": "374f8c28-4261-f144-5be6-1d92d501c32f"
      },
      "outputs": [],
      "source": [
        "##We can see a high co-relation between the full_sq and the  num of rooms"
      ]
    },
    {
      "cell_type": "code",
      "execution_count": null,
      "metadata": {
        "_cell_guid": "d26b878e-142f-c9a3-23eb-b82bf01cb089"
      },
      "outputs": [],
      "source": [
        "##We will now visualize the number of houses built each year\n",
        "grouped_data_count=train_df.groupby('build_year')['id'].aggregate('count').reset_index()\n",
        "grouped_data_count.columns=['build_year','count']"
      ]
    },
    {
      "cell_type": "code",
      "execution_count": null,
      "metadata": {
        "_cell_guid": "58d5e5f8-ab62-2d9d-1a46-550e62ec9f13"
      },
      "outputs": [],
      "source": [
        "##Lets check the minimum and maximum build year dates\n",
        "print (grouped_data_count.iloc[grouped_data_count['build_year'].idxmax()])\n",
        "print (grouped_data_count.iloc[grouped_data_count['build_year'].idxmin()])\n",
        "\n",
        "grouped_data_count[grouped_data_count['build_year']>2018]"
      ]
    },
    {
      "cell_type": "code",
      "execution_count": null,
      "metadata": {
        "_cell_guid": "c9167485-e9d8-47ca-c8e3-8777c30c03d7"
      },
      "outputs": [],
      "source": [
        "\n",
        "train_data=train_df[train_df['build_year']<2019]"
      ]
    },
    {
      "cell_type": "code",
      "execution_count": null,
      "metadata": {
        "_cell_guid": "bdf1b82a-41a6-6f37-fa2f-e00f2d6ad480"
      },
      "outputs": [],
      "source": [
        "##These values clearly suggests that this is not\n",
        "#correct and needs to be rectified during our data cleaning process\n",
        "\n",
        "#Lets visualize this data\n",
        "grouped_data_count=grouped_data_count[(grouped_data_count['build_year']>1950) & (grouped_data_count['build_year']<2018) ]\n",
        "plt.figure(figsize=(10,8))\n",
        "sns.barplot(grouped_data_count['build_year'],grouped_data_count['count'],color='r')\n",
        "plt.xticks(rotation='vertical')\n",
        "plt.show()"
      ]
    },
    {
      "cell_type": "code",
      "execution_count": null,
      "metadata": {
        "_cell_guid": "558fe718-1f30-4af1-e7ee-87597d899886"
      },
      "outputs": [],
      "source": [
        "##Lets start working on data cleaning and removing bad data from dataset\n",
        "##We will start by visualizing the missing data in all the columns\n",
        "\n",
        "train_missing=train_data.isnull().sum()/len(train_data)\n",
        "train_missing=train_missing.drop(train_missing[train_missing==0].index).sort_values(ascending=False).reset_index()\n",
        "train_missing.columns=['column name','missing percentage']\n",
        "plt.figure(figsize=(12,8))\n",
        "sns.barplot(train_missing['column name'],train_missing['missing percentage'],palette='coolwarm')\n",
        "plt.xticks(rotation='vertical')\n",
        "plt.show()"
      ]
    }
  ],
  "metadata": {
    "_change_revision": 0,
    "_is_fork": false,
    "kernelspec": {
      "display_name": "Python 3",
      "language": "python",
      "name": "python3"
    },
    "language_info": {
      "codemirror_mode": {
        "name": "ipython",
        "version": 3
      },
      "file_extension": ".py",
      "mimetype": "text/x-python",
      "name": "python",
      "nbconvert_exporter": "python",
      "pygments_lexer": "ipython3",
      "version": "3.6.0"
    }
  },
  "nbformat": 4,
  "nbformat_minor": 0
}