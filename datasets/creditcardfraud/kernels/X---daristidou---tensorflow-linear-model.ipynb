{
  "cells": [
    {
      "cell_type": "markdown",
      "metadata": {
        "_cell_guid": "f9425233-dd9c-cae8-8875-3663d2c8d422"
      },
      "source": [
        "# Tensor Flow Linear Model\n",
        "Work will be based off the Tensorflow article: \n",
        "[Large-scale Linear Models with TensorFlow](https://www.tensorflow.org/tutorials/linear#why_would_you_want_to_use_a_linear_model)"
      ]
    },
    {
      "cell_type": "code",
      "execution_count": null,
      "metadata": {
        "_cell_guid": "879709fd-30e1-165c-7cda-8bfc1ac5d316"
      },
      "outputs": [],
      "source": [
        "# This Python 3 environment comes with many helpful analytics libraries installed\n",
        "# It is defined by the kaggle/python docker image: https://github.com/kaggle/docker-python\n",
        "# For example, here's several helpful packages to load in \n",
        "\n",
        "import numpy as np # linear algebra\n",
        "import pandas as pd # data processing, CSV file I/O (e.g. pd.read_csv)\n",
        "import tempfile\n",
        "import urllib\n",
        "train_file = tempfile.NamedTemporaryFile()\n",
        "test_file = tempfile.NamedTemporaryFile()\n",
        "\n",
        "\n",
        "# Input data files are available in the \"../input/\" directory.\n",
        "# For example, running this (by clicking run or pressing Shift+Enter) will list the files in the input directory\n",
        "\n",
        "from subprocess import check_output\n",
        "print(check_output([\"ls\", \"../input\"]).decode(\"utf8\"))\n",
        "\n",
        "# Any results you write to the current directory are saved as output."
      ]
    },
    {
      "cell_type": "markdown",
      "metadata": {
        "_cell_guid": "7d54e317-0c09-e6bf-6925-5a11189551d5"
      },
      "source": [
        "Once the CSV files are downloaded, let's read them into Pandas dataframes."
      ]
    },
    {
      "cell_type": "code",
      "execution_count": null,
      "metadata": {
        "_cell_guid": "d8e4fccf-fae0-f19d-6923-1acb0e071d8a"
      },
      "outputs": [],
      "source": [
        "COLUMNS = [\"Time\", \n",
        "           \"V1\", \"V2\", \"V3\",\"V4\", \"V5\", \"V6\",\"V7\", \"V8\", \"V9\",\"V10\",\n",
        "           \"V11\", \"V12\", \"V13\",\"V14\", \"V15\", \"V16\",\"V17\", \"V18\", \"V19\",\"V20\",\n",
        "           \"V21\", \"V22\", \"V23\",\"V24\", \"V25\", \"V26\",\"V27\", \"V28\",\n",
        "           \"Amount\", \"Class\" ] \n",
        "           \n",
        "df_train = pd.read_csv(\"../input/creditcard.csv\", names=COLUMNS, skipinitialspace=True, skiprows=1)\n",
        "##df_test = pd.read_csv(test_file, names=COLUMNS, skipinitialspace=True, skiprows=1)"
      ]
    },
    {
      "cell_type": "code",
      "execution_count": null,
      "metadata": {
        "_cell_guid": "ccda28c0-7d7d-e512-b78d-e16d18d34b96"
      },
      "outputs": [],
      "source": [
        "model_dir = tempfile.mkdtemp()\n",
        "m = tf.contrib.learn.LinearClassifier(feature_columns=[Class], model_dir=model_dir)"
      ]
    },
    {
      "cell_type": "code",
      "execution_count": null,
      "metadata": {
        "_cell_guid": "f7ec18d9-101e-859b-a7bc-3de1887337d9"
      },
      "outputs": [],
      "source": [
        "model_dir = tempfile.mkdtemp()\n",
        "m = tf.contrib.learn.LinearClassifier(feature_columns=[class],\n",
        "  model_dir=model_dir)\n"
      ]
    },
    {
      "cell_type": "code",
      "execution_count": null,
      "metadata": {
        "_cell_guid": "3f4d6c13-e57b-82f5-ff8e-9ea97abff83e"
      },
      "outputs": [],
      "source": ""
    }
  ],
  "metadata": {
    "_change_revision": 0,
    "_is_fork": false,
    "kernelspec": {
      "display_name": "Python 3",
      "language": "python",
      "name": "python3"
    },
    "language_info": {
      "codemirror_mode": {
        "name": "ipython",
        "version": 3
      },
      "file_extension": ".py",
      "mimetype": "text/x-python",
      "name": "python",
      "nbconvert_exporter": "python",
      "pygments_lexer": "ipython3",
      "version": "3.6.0"
    }
  },
  "nbformat": 4,
  "nbformat_minor": 0
}