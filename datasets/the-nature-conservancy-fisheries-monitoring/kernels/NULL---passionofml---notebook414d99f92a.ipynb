{
  "metadata": {
    "kernelspec": {
      "display_name": "Python 3",
      "language": "python",
      "name": "python3"
    },
    "language_info": {
      "codemirror_mode": {
        "name": "ipython",
        "version": 3
      },
      "file_extension": ".py",
      "mimetype": "text/x-python",
      "name": "python",
      "nbconvert_exporter": "python",
      "pygments_lexer": "ipython3",
      "version": "3.5.2"
    }
  },
  "nbformat": 4,
  "nbformat_minor": 0,
  "cells": [
    {
      "metadata": {
        "_cell_guid": "fa2ea55f-01b9-51e1-63da-ba5e9903185a",
        "_active": false,
        "collapsed": false
      },
      "source": "My first NoteBook",
      "execution_count": null,
      "cell_type": "markdown",
      "outputs": [],
      "execution_state": "idle"
    },
    {
      "metadata": {
        "_cell_guid": "0095b5f3-4eab-ebc0-f89b-3715511fc2f5",
        "_active": false,
        "collapsed": false
      },
      "source": "# This Python 3 environment comes with many helpful analytics libraries installed\n# It is defined by the kaggle/python docker image: https://github.com/kaggle/docker-python\n# For example, here's several helpful packages to load in \n\nimport numpy as np # linear algebra\nimport pandas as pd # data processing, CSV file I/O (e.g. pd.read_csv)\n\n# Input data files are available in the \"../input/\" directory.\n# For example, running this (by clicking run or pressing Shift+Enter) will list the files in the input directory\n\nfrom subprocess import check_output\nprint(check_output([\"ls\", \"../input\"]).decode(\"utf8\"))\n\n# Any results you write to the current directory are saved as output.",
      "execution_count": null,
      "cell_type": "code",
      "outputs": [],
      "execution_state": "idle"
    },
    {
      "metadata": {
        "_cell_guid": "b91784ea-54bf-85db-1116-a909d11e6032",
        "_active": false,
        "collapsed": false
      },
      "source": "# Lets check the train folder\nprint(check_output([\"ls\",\"../input/train\"]).decode(\"utf8\"))",
      "execution_count": null,
      "cell_type": "code",
      "outputs": [],
      "execution_state": "idle"
    },
    {
      "metadata": {
        "_cell_guid": "4ec46628-9410-047d-7107-9b29dd877e9b",
        "_active": false,
        "collapsed": false
      },
      "source": "So there are 8 folder present inside the train folder, each of them looks like name of a particular species of fish, so the folders must be containing image of them, lets check the sub folders the",
      "execution_count": null,
      "cell_type": "markdown",
      "outputs": [],
      "execution_state": "idle"
    },
    {
      "metadata": {
        "_cell_guid": "7a959f96-e0b0-e05d-aac5-0f35f28182d7",
        "_active": false,
        "collapsed": false
      },
      "source": "check_output([\"ls\", \"../input/train/ALB\"]).decode(\"utf8\"))",
      "execution_count": null,
      "cell_type": "code",
      "outputs": [],
      "execution_state": "idle"
    },
    {
      "metadata": {
        "_cell_guid": "78ec5367-f973-5259-2be2-d5e19767f178",
        "_active": true,
        "collapsed": false
      },
      "source": "sub_folders = check_output([\"ls\", \"../input/train\"]).decode(\"utf8\").strip().split('\\n');\nfolderdict = {};\nprint(sub_folders)\nfor sub_folder in sub_folders:\n    print(\"folders Name:\", sub_folder);\n    files = check_output([\"ls\", \"../input/train/\"+sub_folder]).decode(\"utf8\").strip().split('\\n');\n    folderdict[sub_folder] = len(files);\n    print(\"number of images:\", folderdict[sub_folder]);",
      "execution_count": null,
      "cell_type": "code",
      "outputs": [],
      "execution_state": "idle"
    }
  ]
}