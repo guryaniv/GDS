{
  "cells": [
    {
      "cell_type": "code",
      "execution_count": null,
      "metadata": {
        "_cell_guid": "06fe685e-7ab3-f716-c562-19b8fa23a502"
      },
      "outputs": [],
      "source": [
        "# This Python 3 environment comes with many helpful analytics libraries installed\n",
        "# It is defined by the kaggle/python docker image: https://github.com/kaggle/docker-python\n",
        "# For example, here's several helpful packages to load in \n",
        "\n",
        "import numpy as np # linear algebra\n",
        "import pandas as pd # data processing, CSV file I/O (e.g. pd.read_csv)\n",
        "\n",
        "# Input data files are available in the \"../input/\" directory.\n",
        "# For example, running this (by clicking run or pressing Shift+Enter) will list the files in the input directory\n",
        "\n",
        "from subprocess import check_output\n",
        "print(check_output([\"ls\", \"../input\"]).decode(\"utf8\"))\n",
        "\n",
        "# Any results you write to the current directory are saved as output."
      ]
    },
    {
      "cell_type": "code",
      "execution_count": null,
      "metadata": {
        "_cell_guid": "aee30549-58c2-b1f5-bcc7-2abc8c76e3ef"
      },
      "outputs": [],
      "source": [
        "import numpy as np\n",
        "import pandas as pd\n",
        "import matplotlib.pyplot as plt\n",
        "import seaborn as sns\n",
        "from skimage.io import imread, imshow\n",
        "import cv2\n",
        "\n",
        "%matplotlib inline\n",
        "import plotly.offline as py\n",
        "py.init_notebook_mode(connected=True)\n",
        "import plotly.graph_objs as go\n",
        "import plotly.tools as tls\n",
        "\n",
        "from subprocess import check_output\n",
        "print(check_output([\"ls\", \"../input/train\"]).decode(\"utf8\"))"
      ]
    },
    {
      "cell_type": "code",
      "execution_count": null,
      "metadata": {
        "_cell_guid": "d4b94d16-0db6-3a58-1793-e89e155b8420"
      },
      "outputs": [],
      "source": [
        "from glob import glob\n",
        "basepath = '../input/train/'\n",
        "\n",
        "all_cervix_images = []\n",
        "\n",
        "for path in sorted(glob(basepath + \"*\")):\n",
        "    cervix_type = path.split(\"/\")[-1]\n",
        "    cervix_images = sorted(glob(basepath + cervix_type + \"/*\"))\n",
        "    all_cervix_images = all_cervix_images + cervix_images\n",
        "\n",
        "print(all_cervix_images[1])\n",
        "\n",
        "all_cervix_images = pd.DataFrame({'imagepath': all_cervix_images})\n",
        "all_cervix_images['filetype'] = all_cervix_images.apply(lambda row: row.imagepath.split(\".\")[-1], axis=1)\n",
        "all_cervix_images['type'] = all_cervix_images.apply(lambda row: row.imagepath.split(\"/\")[-2], axis=1)\n",
        "all_cervix_images.head()"
      ]
    },
    {
      "cell_type": "code",
      "execution_count": null,
      "metadata": {
        "_cell_guid": "05f651dc-364b-29ea-440a-41c206da7a07"
      },
      "outputs": [],
      "source": [
        "fig = plt.figure(figsize=(12,8))\n",
        "\n",
        "i = 1\n",
        "for t in all_cervix_images['type'].unique():\n",
        "    ax = fig.add_subplot(1,3,i)\n",
        "    i+=1\n",
        "    f = all_cervix_images[all_cervix_images['type'] == t]['imagepath'].values[0]\n",
        "    plt.imshow(plt.imread(f))\n",
        "    plt.title('sample for cervix {}'.format(t))"
      ]
    },
    {
      "cell_type": "code",
      "execution_count": null,
      "metadata": {
        "_cell_guid": "583823d9-f919-ec48-4078-455aa651f579"
      },
      "outputs": [],
      "source": [
        "# load the image and show it\n",
        "f = all_cervix_images[all_cervix_images['type'] == \"Type_1\"]['imagepath'].values[0]\n",
        "print(f)\n",
        "image = cv2.imread(f)\n",
        "cv2.imshow(\"original\", image)"
      ]
    },
    {
      "cell_type": "code",
      "execution_count": null,
      "metadata": {
        "_cell_guid": "6487140b-d8f7-7972-470c-3c35b69205ac"
      },
      "outputs": [],
      "source": ""
    }
  ],
  "metadata": {
    "_change_revision": 0,
    "_is_fork": false,
    "kernelspec": {
      "display_name": "Python 3",
      "language": "python",
      "name": "python3"
    },
    "language_info": {
      "codemirror_mode": {
        "name": "ipython",
        "version": 3
      },
      "file_extension": ".py",
      "mimetype": "text/x-python",
      "name": "python",
      "nbconvert_exporter": "python",
      "pygments_lexer": "ipython3",
      "version": "3.6.0"
    }
  },
  "nbformat": 4,
  "nbformat_minor": 0
}