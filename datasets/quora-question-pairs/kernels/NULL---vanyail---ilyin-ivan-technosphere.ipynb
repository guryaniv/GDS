{
  "cells": [
    {
      "cell_type": "markdown",
      "metadata": {
        "_cell_guid": "fd2bb261-ba2c-dbb3-dfe5-26ee83c72857"
      },
      "source": [
        ""
      ]
    },
    {
      "cell_type": "code",
      "execution_count": null,
      "metadata": {
        "_cell_guid": "a46a8b5f-a8e7-81d5-2270-be9b20f80156"
      },
      "outputs": [],
      "source": [
        "import numpy as np \n",
        "import pandas as pd\n",
        "import time\n",
        "from sklearn import model_selection\n",
        "from sklearn.feature_extraction.text import CountVectorizer"
      ]
    },
    {
      "cell_type": "code",
      "execution_count": null,
      "metadata": {
        "_cell_guid": "41719d9b-c4dd-29d2-08b0-58307c48063f"
      },
      "outputs": [],
      "source": [
        "df_train = pd.read_csv('../input/train.csv')\n",
        "df_train = df_train.dropna(how=\"any\").reset_index(drop=True)"
      ]
    },
    {
      "cell_type": "code",
      "execution_count": null,
      "metadata": {
        "_cell_guid": "050d4529-a379-5f9d-c214-40d9c1b72470"
      },
      "outputs": [],
      "source": [
        "Word_Extractor = CountVectorizer(analyzer='char', ngram_range=(1,2), binary=True, lowercase=True)\n",
        "Word_Extractor.fit(pd.concat((df_train.ix[:,'question1'],df_train.ix[:,'question2'])).unique())"
      ]
    },
    {
      "cell_type": "code",
      "execution_count": null,
      "metadata": {
        "_cell_guid": "8cb0190b-788b-d7d1-3595-4a4a6f60d5a8"
      },
      "outputs": [],
      "source": [
        "question_1 = Word_Extractor.transform(df_train.ix[:,'question1'])\n",
        "question_2 = Word_Extractor.transform(df_train.ix[:,'question2'])\n",
        "y = np.array(df_train.ix[:,'is_duplicate'])"
      ]
    },
    {
      "cell_type": "code",
      "execution_count": null,
      "metadata": {
        "_cell_guid": "a850a4a0-cccb-cb0a-d9e3-efba6f456dbc"
      },
      "outputs": [],
      "source": [
        "X = -(question_1 != question_2).astype(int)"
      ]
    },
    {
      "cell_type": "code",
      "execution_count": null,
      "metadata": {
        "_cell_guid": "8cdd637e-70ae-2a19-af28-6066f7a5b3b6"
      },
      "outputs": [],
      "source": [
        "from sklearn.ensemble import RandomForestClassifier\n",
        "from sklearn.model_selection import GridSearchCV"
      ]
    },
    {
      "cell_type": "code",
      "execution_count": null,
      "metadata": {
        "_cell_guid": "b3a77806-f88e-e32f-b622-8eb0282de723"
      },
      "outputs": [],
      "source": [
        "a = 0.165 / 0.37\n",
        "b = (1 - 0.165) / (1 - 0.37)\n",
        "# a - \u043e\u0442\u043d\u043e\u0448\u0435\u043d\u0438\u0435 \u0435\u0434\u0438\u043d\u0438\u0446 \u0432 test \u043a \u0435\u0434\u0438\u043d\u0438\u0446\u0430\u043c \u0432 train."
      ]
    },
    {
      "cell_type": "code",
      "execution_count": null,
      "metadata": {
        "_cell_guid": "f1e6bba2-19bd-6ef5-de02-e6fb8ceca35b"
      },
      "outputs": [],
      "source": [
        "#\u043f\u043e\u043f\u0440\u043e\u0431\u0443\u0435\u043c \u0441\u043b\u0443\u0447\u0430\u0439\u043d\u044b\u0439 \u043b\u0435\u0441\n",
        "t = time.clock()\n",
        "parameters = {'n_estimators':range(10, 111, 20), 'max_depth':range(10,21,5)}\n",
        "rf = RandomForestClassifier()\n",
        "model = GridSearchCV(rf,parameters)\n",
        "model.fit(X[:20000,:],y[:20000])\n",
        "t = time.clock()-t\n",
        "print(t)"
      ]
    },
    {
      "cell_type": "code",
      "execution_count": null,
      "metadata": {
        "_cell_guid": "db5d1e2d-8e88-c24c-cbbd-8689396e8f18"
      },
      "outputs": [],
      "source": [
        "print(model.best_params_)\n",
        "print(model.best_score_)"
      ]
    },
    {
      "cell_type": "code",
      "execution_count": null,
      "metadata": {
        "_cell_guid": "01f545df-bde3-8a30-1c1f-3b42d930089a"
      },
      "outputs": [],
      "source": [
        "t = time.clock()\n",
        "model = RandomForestClassifier(n_estimators = 70, max_depth = 20, class_weight={1: a, 0: b})\n",
        "model.fit(X,y)\n",
        "t = time.clock()-t\n",
        "print(t)\n",
        "#\u041f\u0440\u0438 \u0431\u043e\u043b\u044c\u0448\u0438\u0445 n \u0438 max_depth \u0441\u0447\u0438\u0442\u0430\u0435\u0442\u0441\u044f \u043e\u0447\u0435\u043d\u044c \u0434\u043e\u043b\u0433\u043e.\n",
        "#\u041f\u043e\u044d\u0442\u043e\u043c\u0443 \u0432 \u043f\u043e\u0441\u0442\u0430\u0432\u0438\u043c \u043f\u043e\u043c\u0435\u043d\u044c\u0448\u0435"
      ]
    },
    {
      "cell_type": "code",
      "execution_count": null,
      "metadata": {
        "_cell_guid": "cacf916c-034e-7c92-ba46-7af73eed1d09"
      },
      "outputs": [],
      "source": [
        "t = time.clock()\n",
        "df_test = pd.read_csv('../input/test.csv')\n",
        "df_test.ix[df_test['question1'].isnull(),['question1','question2']] = 'random empty question'\n",
        "df_test.ix[df_test['question2'].isnull(),['question1','question2']] = 'random empty question'\n",
        "test_question_1 = Word_Extractor.transform(df_test.ix[:,'question1'])\n",
        "test_question_2 = Word_Extractor.transform(df_test.ix[:,'question2'])\n",
        "X_test = -(test_question_1 != test_question_2).astype(int)\n",
        "t = time.clock()-t\n",
        "print(t)"
      ]
    },
    {
      "cell_type": "code",
      "execution_count": null,
      "metadata": {
        "_cell_guid": "99ec169a-4b48-d624-0f5f-dd373823f905"
      },
      "outputs": [],
      "source": [
        "testPredictions = model.predict_proba(X_test)[:,1]"
      ]
    },
    {
      "cell_type": "markdown",
      "metadata": {
        "_cell_guid": "2c023308-b0a5-6a2d-dada-2e0f1de61eb9"
      },
      "source": [
        "\u041f\u043e\u043b\u0443\u0447\u0430\u0435\u043c \u043f\u0440\u0438\u043c\u0435\u0440\u043d\u043e 0.41 \u043d\u0430 \u0442\u0430\u043a\u043e\u043c \u0441\u043b\u0443\u0447\u0430\u0439\u043d\u043e\u043c \u043b\u0435\u0441\u0435, \u043f\u043e\u0441\u043b\u0435 \u0438\u0437\u043c\u0435\u043d\u0435\u043d\u0438\u044f \u043f\u0430\u0440\u0430\u043c\u0435\u0442\u0440\u043e\u0432 \u043b\u0435\u0441\u0430 \u0443\u0434\u0430\u043b\u043e\u0441\u044c \u043f\u043e\u043b\u0443\u0447\u0438\u0442\u044c \u0447\u0443\u0442\u044c \u043c\u0435\u043d\u044c\u0448\u0435, \u043f\u0430\u0440\u0430\u043c\u0435\u0442\u0440\u044b n_estimators = 150, max_depth = 30. "
      ]
    },
    {
      "cell_type": "markdown",
      "metadata": {
        "_cell_guid": "b9db6a4d-a85d-bbb3-e5f7-fc819c6962d1"
      },
      "source": [
        "\u041d\u0430 \u043b\u0438\u043d\u0435\u0439\u043d\u043e\u0439 \u0440\u0435\u0433\u0440\u0435\u0441\u0441\u0438\u0438 \u0443\u0434\u0430\u043b\u043e\u0441\u044c \u043f\u043e\u043b\u0443\u0447\u0438\u0442\u044c \u043f\u0440\u0438\u043c\u0435\u0440\u043d\u043e 0.34."
      ]
    },
    {
      "cell_type": "code",
      "execution_count": null,
      "metadata": {
        "_cell_guid": "b77f6e3c-356e-7ae6-cb04-55136016c2ac"
      },
      "outputs": [],
      "source": [
        ""
      ]
    },
    {
      "cell_type": "code",
      "execution_count": null,
      "metadata": {
        "_cell_guid": "8a8d6bf1-de0a-1dfb-3087-1e150c82f112"
      },
      "outputs": [],
      "source": [
        ""
      ]
    }
  ],
  "metadata": {
    "_change_revision": 0,
    "_is_fork": false,
    "kernelspec": {
      "display_name": "Python 3",
      "language": "python",
      "name": "python3"
    },
    "language_info": {
      "codemirror_mode": {
        "name": "ipython",
        "version": 3
      },
      "file_extension": ".py",
      "mimetype": "text/x-python",
      "name": "python",
      "nbconvert_exporter": "python",
      "pygments_lexer": "ipython3",
      "version": "3.6.0"
    }
  },
  "nbformat": 4,
  "nbformat_minor": 0
}