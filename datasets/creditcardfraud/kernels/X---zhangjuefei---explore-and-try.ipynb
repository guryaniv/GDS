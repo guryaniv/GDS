{
  "cells": [
    {
      "cell_type": "code",
      "execution_count": null,
      "metadata": {
        "_cell_guid": "2b71126f-0f83-d5c2-42a2-514767d93bb8"
      },
      "outputs": [],
      "source": [
        "# This Python 3 environment comes with many helpful analytics libraries installed\n",
        "# It is defined by the kaggle/python docker image: https://github.com/kaggle/docker-python\n",
        "# For example, here's several helpful packages to load in \n",
        "\n",
        "import numpy as np # linear algebra\n",
        "import pandas as pd # data processing, CSV file I/O (e.g. pd.read_csv)\n",
        "\n",
        "# Input data files are available in the \"../input/\" directory.\n",
        "# For example, running this (by clicking run or pressing Shift+Enter) will list the files in the input directory\n",
        "\n",
        "import warnings\n",
        "warnings.filterwarnings(\"ignore\", category=np.VisibleDeprecationWarning)\n",
        "\n",
        "from subprocess import check_output\n",
        "print(check_output([\"ls\", \"../input\"]).decode(\"utf8\"))\n",
        "\n",
        "# Any results you write to the current directory are saved as output."
      ]
    },
    {
      "cell_type": "code",
      "execution_count": null,
      "metadata": {
        "_cell_guid": "610279d7-2b6c-9aa6-a108-d05670179570"
      },
      "outputs": [],
      "source": [
        "data = pd.read_csv(\"../input/creditcard.csv\")"
      ]
    },
    {
      "cell_type": "code",
      "execution_count": null,
      "metadata": {
        "_cell_guid": "020309d0-4955-de3c-165f-fc74ce2e40ed"
      },
      "outputs": [],
      "source": [
        "data.columns.unique()"
      ]
    },
    {
      "cell_type": "code",
      "execution_count": null,
      "metadata": {
        "_cell_guid": "c3593f06-90ca-ed4b-0730-37877c19bc56"
      },
      "outputs": [],
      "source": [
        "data.describe()"
      ]
    },
    {
      "cell_type": "code",
      "execution_count": null,
      "metadata": {
        "_cell_guid": "e9468f77-3f86-11cd-eeb5-44de3fc054a8"
      },
      "outputs": [],
      "source": [
        "data.groupby(\"Class\").describe()"
      ]
    },
    {
      "cell_type": "code",
      "execution_count": null,
      "metadata": {
        "_cell_guid": "6518e7a5-f70d-a554-1702-16858b25e1ae"
      },
      "outputs": [],
      "source": [
        "pc_columns = [\"V{:d}\".format(i) for i in np.arange(1, 29)]"
      ]
    },
    {
      "cell_type": "code",
      "execution_count": null,
      "metadata": {
        "_cell_guid": "90ecd13a-1c48-c6e7-7f20-eb8f2601f722"
      },
      "outputs": [],
      "source": [
        "explained_variances = data[pc_columns].apply(np.var).to_frame()\n",
        "\n",
        "explained_variances.columns=[\"variance\"]\n",
        "\n",
        "explained_variances_ratio = explained_variances / explained_variances.sum()\n",
        "explained_variances_ratio.columns = [\"Var Ratio\"]\n",
        "\n",
        "explained_variances_ratio_cumsum = explained_variances_ratio.cumsum()\n",
        "explained_variances_ratio_cumsum.columns = [\"Var Ratio Cumsum\"]"
      ]
    },
    {
      "cell_type": "code",
      "execution_count": null,
      "metadata": {
        "_cell_guid": "1be27c07-ee8e-ab90-f2b3-9fc84041ba56"
      },
      "outputs": [],
      "source": [
        "import matplotlib.pyplot as  plt\n",
        "plt.style.use(\"ggplot\")\n",
        "\n",
        "_, ax = plt.subplots(figsize=(12, 4))\n",
        "explained_variances_ratio_cumsum.plot(kind=\"line\", color=\"#ee7621\", ax=ax, linestyle=\"-\", marker=\"h\")\n",
        "explained_variances_ratio.plot(kind=\"bar\", ax=ax, color=\"#00304e\", alpha=0.8, rot=0, fontsize=7)\n",
        "ax.set_title(\"Explained Variance Ratio of Principle Components\", fontsize=10)\n",
        "ax.set_ylim([0.0, 1.1])\n",
        "    \n",
        "for x, y in zip(np.arange(0, len(explained_variances_ratio_cumsum)), explained_variances_ratio_cumsum[\"Var Ratio Cumsum\"]):\n",
        "    ax.annotate(\"{:.1f}%\".format(y * 100.0), xy=(x-0.25, y+0.03), fontsize=6)\n",
        "\n",
        "for x, y in zip(np.arange(1, len(explained_variances_ratio)), explained_variances_ratio[\"Var Ratio\"][1:]):\n",
        "    ax.annotate(\"{:.1f}%\".format(y * 100.0), xy=(x-0.2, y+0.02), fontsize=6)"
      ]
    },
    {
      "cell_type": "code",
      "execution_count": null,
      "metadata": {
        "_cell_guid": "b0e44698-628c-ac2a-7cc3-73c759e25b2e"
      },
      "outputs": [],
      "source": [
        "import seaborn as sns\n",
        "\n",
        "_ = sns.pairplot(\n",
        "    data = pd.concat([\n",
        "        data[data.Class == 0].sample(500),\n",
        "        data[data.Class == 1]\n",
        "    ]),\n",
        "    vars=pc_columns[:5],\n",
        "    hue=\"Class\",\n",
        "    diag_kind=\"kde\"\n",
        ")\n"
      ]
    }
  ],
  "metadata": {
    "_change_revision": 0,
    "_is_fork": false,
    "kernelspec": {
      "display_name": "Python 3",
      "language": "python",
      "name": "python3"
    },
    "language_info": {
      "codemirror_mode": {
        "name": "ipython",
        "version": 3
      },
      "file_extension": ".py",
      "mimetype": "text/x-python",
      "name": "python",
      "nbconvert_exporter": "python",
      "pygments_lexer": "ipython3",
      "version": "3.5.2"
    }
  },
  "nbformat": 4,
  "nbformat_minor": 0
}