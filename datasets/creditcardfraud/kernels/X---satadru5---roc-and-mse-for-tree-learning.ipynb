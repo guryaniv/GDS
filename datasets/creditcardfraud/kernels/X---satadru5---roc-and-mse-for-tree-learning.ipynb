{
  "cells": [
    {
      "cell_type": "markdown",
      "metadata": {
        "_cell_guid": "63d01e8c-ec2e-6fa3-4eaa-7ddce1d8a821"
      },
      "source": [
        "                  **Plot ROC and MSE for DecisionTreeClassifier** "
      ]
    },
    {
      "cell_type": "code",
      "execution_count": null,
      "metadata": {
        "_cell_guid": "fc785493-9dd2-39b9-1018-e29c9ac5a21a"
      },
      "outputs": [],
      "source": [
        "# This Python 3 environment comes with many helpful analytics libraries installed\n",
        "# It is defined by the kaggle/python docker image: https://github.com/kaggle/docker-python\n",
        "# For example, here's several helpful packages to load in \n",
        "\n",
        "import numpy as np # linear algebra\n",
        "import pandas as pd # data processing, CSV file I/O (e.g. pd.read_csv)\n",
        "\n",
        "# Input data files are available in the \"../input/\" directory.\n",
        "# For example, running this (by clicking run or pressing Shift+Enter) will list the files in the input directory\n",
        "\n",
        "from subprocess import check_output\n",
        "import os\n",
        "import numpy as np\n",
        "import pandas as pd\n",
        "import matplotlib.pyplot as plt\n",
        "from sklearn.utils import shuffle\n",
        "from sklearn.tree import DecisionTreeClassifier\n",
        "from sklearn.metrics import roc_auc_score\n",
        "print(check_output([\"ls\", \"../input\"]).decode(\"utf8\"))\n",
        "\n",
        "# Any results you write to the current directory are saved as output."
      ]
    },
    {
      "cell_type": "markdown",
      "metadata": {
        "_cell_guid": "530ae655-b1c4-cdf4-b8d7-eba9815b1a3b"
      },
      "source": [
        "Read and split dataset.............."
      ]
    },
    {
      "cell_type": "code",
      "execution_count": null,
      "metadata": {
        "_cell_guid": "877ada4f-23ca-dfd8-0199-148ba0a0c47e"
      },
      "outputs": [],
      "source": [
        "df=pd.read_csv(\"../input/creditcard.csv\")"
      ]
    },
    {
      "cell_type": "code",
      "execution_count": null,
      "metadata": {
        "_cell_guid": "0043bdef-c156-09c9-ac6f-4c1b21636d16"
      },
      "outputs": [],
      "source": [
        "df.head(3)"
      ]
    },
    {
      "cell_type": "code",
      "execution_count": null,
      "metadata": {
        "_cell_guid": "91ff49be-22ca-bba0-4b63-5945cb6e5b2f"
      },
      "outputs": [],
      "source": [
        "df.shape"
      ]
    },
    {
      "cell_type": "code",
      "execution_count": null,
      "metadata": {
        "_cell_guid": "1dcd5bde-90bd-0b67-a098-d8930abd7223"
      },
      "outputs": [],
      "source": [
        "frac =0.85\n",
        "x_train = df.sample(frac=frac)"
      ]
    },
    {
      "cell_type": "markdown",
      "metadata": {
        "_cell_guid": "b76adfd2-8675-d88a-c087-3e8950809b51"
      },
      "source": [
        "Prepare test data........."
      ]
    },
    {
      "cell_type": "code",
      "execution_count": null,
      "metadata": {
        "_cell_guid": "36b35e7f-c5da-bdb3-1b77-2ad40de23733"
      },
      "outputs": [],
      "source": [
        "x_test=df.loc[~df.index.isin(x_train.index)]"
      ]
    },
    {
      "cell_type": "code",
      "execution_count": null,
      "metadata": {
        "_cell_guid": "bc7b3238-0ce9-dc26-8041-19a6bb5f3c31"
      },
      "outputs": [],
      "source": [
        "x_test.shape"
      ]
    },
    {
      "cell_type": "code",
      "execution_count": null,
      "metadata": {
        "_cell_guid": "529d6880-af36-61cb-2eae-99e818d51035"
      },
      "outputs": [],
      "source": [
        "y_train=x_train['Class']\n",
        "x_train=x_train.drop(['Class'],axis=1)\n",
        "y_test=x_test['Class']\n",
        "x_test=x_test.drop(['Class'],axis=1)"
      ]
    },
    {
      "cell_type": "code",
      "execution_count": null,
      "metadata": {
        "_cell_guid": "ddbf276a-c11a-8d64-1259-1e30267b6e55"
      },
      "outputs": [],
      "source": [
        "x_train.shape,x_test.shape"
      ]
    },
    {
      "cell_type": "markdown",
      "metadata": {
        "_cell_guid": "c7bbdd07-af02-11ab-c232-341f9289f4a5"
      },
      "source": [
        "****Build classifier.......****"
      ]
    },
    {
      "cell_type": "code",
      "execution_count": null,
      "metadata": {
        "_cell_guid": "717b8e11-1493-fc93-f446-41287f7b225d"
      },
      "outputs": [],
      "source": [
        "deep=np.array(range(1,20))\n",
        "xvalMSE =[]\n",
        "score_hist=[]\n",
        "for ideep in deep:\n",
        "    dt=DecisionTreeClassifier(max_depth = ideep)\n",
        "    dt.fit(x_train,y_train)\n",
        "    pred=dt.predict(x_test)\n",
        "    pred=np.array(pred,dtype=np.float32)\n",
        "    y_tst=np.array(y_test,dtype=np.float32)\n",
        "    error=[y_tst[r] - pred[r] for r in range(len(y_tst))]\n",
        "    o_error=sum(e*e for e in error)\n",
        "    mse=o_error/len(y_test)\n",
        "    #print(mse)\n",
        "    xvalMSE.append(mse)\n",
        "    score=roc_auc_score(y_test,pred)\n",
        "    #print(score)\n",
        "    score_hist.append(score) "
      ]
    },
    {
      "cell_type": "code",
      "execution_count": null,
      "metadata": {
        "_cell_guid": "c83aaaeb-6b4b-a952-3b9e-50c5908f6a4f"
      },
      "outputs": [],
      "source": [
        "plt.figure()\n",
        "plt.plot(deep,xvalMSE)\n",
        "plt.axis(\"tight\")\n",
        "plt.xlabel(\"Tree Depth\")\n",
        "plt.ylabel(\"MSE\")\n",
        "opt_depth = deep[np.argmin(xvalMSE)]\n",
        "plt.plot(opt_depth,np.amin(xvalMSE),\"or\")"
      ]
    },
    {
      "cell_type": "code",
      "execution_count": null,
      "metadata": {
        "_cell_guid": "446d0243-2e0b-c48a-319f-9a1f4a7889da"
      },
      "outputs": [],
      "source": [
        "plt.figure()\n",
        "plt.plot(deep,score_hist)\n",
        "plt.axis(\"tight\")\n",
        "plt.xlabel(\"Tree Depth\")\n",
        "plt.ylabel(\"ROC AUC Scores\")\n",
        "sc_max=deep[np.argmax(score_hist)]\n",
        "plt.plot(sc_max,np.amax(score_hist),\"r^\")\n",
        "plt.show()"
      ]
    }
  ],
  "metadata": {
    "_change_revision": 0,
    "_is_fork": false,
    "kernelspec": {
      "display_name": "Python 3",
      "language": "python",
      "name": "python3"
    },
    "language_info": {
      "codemirror_mode": {
        "name": "ipython",
        "version": 3
      },
      "file_extension": ".py",
      "mimetype": "text/x-python",
      "name": "python",
      "nbconvert_exporter": "python",
      "pygments_lexer": "ipython3",
      "version": "3.6.0"
    }
  },
  "nbformat": 4,
  "nbformat_minor": 0
}