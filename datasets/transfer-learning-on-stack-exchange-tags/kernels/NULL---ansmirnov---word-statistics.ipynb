{
  "cells": [
    {
      "cell_type": "code",
      "execution_count": null,
      "metadata": {
        "_cell_guid": "7bb50f91-b573-fc05-8da5-9c921b1ac18f"
      },
      "outputs": [],
      "source": [
        "import numpy as np # linear algebra\n",
        "import pandas as pd # data processing, CSV file I/O (e.g. pd.read_csv)\n",
        "\n",
        "#test = pd.read_csv(\"../input/test.csv\")"
      ]
    },
    {
      "cell_type": "code",
      "execution_count": null,
      "metadata": {
        "_cell_guid": "c567de57-6bd2-282c-76ea-6d93a2acff68"
      },
      "outputs": [],
      "source": [
        "import re\n",
        "\n",
        "def remove_tags(s):\n",
        "    return re.sub('<[^>]*>', ' ', s)"
      ]
    },
    {
      "cell_type": "code",
      "execution_count": null,
      "metadata": {
        "_cell_guid": "fab2c590-4af9-abe8-ae1a-5bc8733fc0a1"
      },
      "outputs": [],
      "source": [
        "from nltk import pos_tag\n",
        "from nltk.stem.lancaster import LancasterStemmer\n",
        "\n",
        "word_re = re.compile('([a-zA-Z]+(-[a-zA-Z]+)?(\\'[a-zA-Z]+)?)')\n",
        "\n",
        "st = LancasterStemmer()\n",
        "\n",
        "def get_words(s):\n",
        "    s = remove_tags(s)\n",
        "    return pos_tag(list(map(lambda x: x[0].lower(), word_re.findall(s))))\n",
        "        \n",
        "\n",
        "def calc_word_count(s, d):\n",
        "    for word in get_words(s):\n",
        "        if word in d.keys():\n",
        "            d[word] += 1\n",
        "        else:\n",
        "            d[word] = 1\n",
        "\n",
        "def make_dataseries(d):\n",
        "    lst = sorted(d.items(), key=lambda x: x[1], reverse=True)\n",
        "    tagged_words, cnts  = zip(*lst)\n",
        "    words, tags = zip(*tagged_words)\n",
        "    df = pd.DataFrame(data={\n",
        "        'word': words,\n",
        "        'cnt': cnts,\n",
        "        'tag': tags,\n",
        "    }, index=range(len(words)))\n",
        "    return df\n",
        "            \n",
        "def get_words_from_dataset(dataset):\n",
        "    res = dict()\n",
        "    for index, row in list(dataset.iterrows())[:100]:\n",
        "        calc_word_count(row['title'], res)\n",
        "        #calc_word_count(row['content'], res)\n",
        "    return make_dataseries(res)"
      ]
    },
    {
      "cell_type": "code",
      "execution_count": null,
      "metadata": {
        "_cell_guid": "10bee810-14d2-1f68-9d17-e1ce40cbbc04"
      },
      "outputs": [],
      "source": [
        "diy = pd.read_csv(\"../input/diy.csv\")\n",
        "\n",
        "tags = set([\"NN\", \"NNS\", \"NNP\", \"NNPS\", \"VB\", \"VBD\", \"VBG\", \"VBN\", \"VBP\", \"VBZ\", \"JJ\", \"JJR\", \"JJS\"])\n",
        "\n",
        "r = get_words_from_dataset(diy)\n",
        "\n",
        "r.loc[r['tag'].isin(tags)]\n"
      ]
    }
  ],
  "metadata": {
    "_change_revision": 0,
    "_is_fork": false,
    "kernelspec": {
      "display_name": "Python 3",
      "language": "python",
      "name": "python3"
    },
    "language_info": {
      "codemirror_mode": {
        "name": "ipython",
        "version": 3
      },
      "file_extension": ".py",
      "mimetype": "text/x-python",
      "name": "python",
      "nbconvert_exporter": "python",
      "pygments_lexer": "ipython3",
      "version": "3.5.2"
    }
  },
  "nbformat": 4,
  "nbformat_minor": 0
}