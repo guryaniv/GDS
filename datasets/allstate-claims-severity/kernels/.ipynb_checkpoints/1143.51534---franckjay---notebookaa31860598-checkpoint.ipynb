{
 "cells": [
  {
   "cell_type": "markdown",
   "metadata": {
    "_cell_guid": "9a94ad4e-a822-2efb-c872-e798735f8190"
   },
   "source": [
    "If you don't know where to go, start at the beginning. What are we looking at here? "
   ]
  },
  {
   "cell_type": "code",
   "execution_count": 3,
   "metadata": {
    "_cell_guid": "9e5c1b65-33f2-8238-e43d-ae5c65f7bbff"
   },
   "outputs": [
    {
     "ename": "FileNotFoundError",
     "evalue": "[WinError 2] The system cannot find the file specified",
     "output_type": "error",
     "traceback": [
      "\u001b[1;31m---------------------------------------------------------------------------\u001b[0m",
      "\u001b[1;31mFileNotFoundError\u001b[0m                         Traceback (most recent call last)",
      "\u001b[1;32m<ipython-input-3-b1cbcfba4a43>\u001b[0m in \u001b[0;36m<module>\u001b[1;34m\u001b[0m\n\u001b[0;32m     10\u001b[0m \u001b[1;33m\u001b[0m\u001b[0m\n\u001b[0;32m     11\u001b[0m \u001b[1;32mfrom\u001b[0m \u001b[0msubprocess\u001b[0m \u001b[1;32mimport\u001b[0m \u001b[0mcheck_output\u001b[0m\u001b[1;33m\u001b[0m\u001b[1;33m\u001b[0m\u001b[0m\n\u001b[1;32m---> 12\u001b[1;33m \u001b[0mprint\u001b[0m\u001b[1;33m(\u001b[0m\u001b[0mcheck_output\u001b[0m\u001b[1;33m(\u001b[0m\u001b[1;33m[\u001b[0m\u001b[1;34m\"ls\"\u001b[0m\u001b[1;33m,\u001b[0m \u001b[1;34m\"\"\u001b[0m\u001b[1;33m]\u001b[0m\u001b[1;33m)\u001b[0m\u001b[1;33m.\u001b[0m\u001b[0mdecode\u001b[0m\u001b[1;33m(\u001b[0m\u001b[1;34m\"utf8\"\u001b[0m\u001b[1;33m)\u001b[0m\u001b[1;33m)\u001b[0m\u001b[1;33m\u001b[0m\u001b[1;33m\u001b[0m\u001b[0m\n\u001b[0m\u001b[0;32m     13\u001b[0m \u001b[1;33m\u001b[0m\u001b[0m\n\u001b[0;32m     14\u001b[0m \u001b[1;31m# # Any results you write to the current directory are saved as output.\u001b[0m\u001b[1;33m\u001b[0m\u001b[1;33m\u001b[0m\u001b[1;33m\u001b[0m\u001b[0m\n",
      "\u001b[1;32m~\\Anaconda3\\lib\\subprocess.py\u001b[0m in \u001b[0;36mcheck_output\u001b[1;34m(timeout, *popenargs, **kwargs)\u001b[0m\n\u001b[0;32m    387\u001b[0m \u001b[1;33m\u001b[0m\u001b[0m\n\u001b[0;32m    388\u001b[0m     return run(*popenargs, stdout=PIPE, timeout=timeout, check=True,\n\u001b[1;32m--> 389\u001b[1;33m                **kwargs).stdout\n\u001b[0m\u001b[0;32m    390\u001b[0m \u001b[1;33m\u001b[0m\u001b[0m\n\u001b[0;32m    391\u001b[0m \u001b[1;33m\u001b[0m\u001b[0m\n",
      "\u001b[1;32m~\\Anaconda3\\lib\\subprocess.py\u001b[0m in \u001b[0;36mrun\u001b[1;34m(input, capture_output, timeout, check, *popenargs, **kwargs)\u001b[0m\n\u001b[0;32m    464\u001b[0m         \u001b[0mkwargs\u001b[0m\u001b[1;33m[\u001b[0m\u001b[1;34m'stderr'\u001b[0m\u001b[1;33m]\u001b[0m \u001b[1;33m=\u001b[0m \u001b[0mPIPE\u001b[0m\u001b[1;33m\u001b[0m\u001b[1;33m\u001b[0m\u001b[0m\n\u001b[0;32m    465\u001b[0m \u001b[1;33m\u001b[0m\u001b[0m\n\u001b[1;32m--> 466\u001b[1;33m     \u001b[1;32mwith\u001b[0m \u001b[0mPopen\u001b[0m\u001b[1;33m(\u001b[0m\u001b[1;33m*\u001b[0m\u001b[0mpopenargs\u001b[0m\u001b[1;33m,\u001b[0m \u001b[1;33m**\u001b[0m\u001b[0mkwargs\u001b[0m\u001b[1;33m)\u001b[0m \u001b[1;32mas\u001b[0m \u001b[0mprocess\u001b[0m\u001b[1;33m:\u001b[0m\u001b[1;33m\u001b[0m\u001b[1;33m\u001b[0m\u001b[0m\n\u001b[0m\u001b[0;32m    467\u001b[0m         \u001b[1;32mtry\u001b[0m\u001b[1;33m:\u001b[0m\u001b[1;33m\u001b[0m\u001b[1;33m\u001b[0m\u001b[0m\n\u001b[0;32m    468\u001b[0m             \u001b[0mstdout\u001b[0m\u001b[1;33m,\u001b[0m \u001b[0mstderr\u001b[0m \u001b[1;33m=\u001b[0m \u001b[0mprocess\u001b[0m\u001b[1;33m.\u001b[0m\u001b[0mcommunicate\u001b[0m\u001b[1;33m(\u001b[0m\u001b[0minput\u001b[0m\u001b[1;33m,\u001b[0m \u001b[0mtimeout\u001b[0m\u001b[1;33m=\u001b[0m\u001b[0mtimeout\u001b[0m\u001b[1;33m)\u001b[0m\u001b[1;33m\u001b[0m\u001b[1;33m\u001b[0m\u001b[0m\n",
      "\u001b[1;32m~\\Anaconda3\\lib\\subprocess.py\u001b[0m in \u001b[0;36m__init__\u001b[1;34m(self, args, bufsize, executable, stdin, stdout, stderr, preexec_fn, close_fds, shell, cwd, env, universal_newlines, startupinfo, creationflags, restore_signals, start_new_session, pass_fds, encoding, errors, text)\u001b[0m\n\u001b[0;32m    767\u001b[0m                                 \u001b[0mc2pread\u001b[0m\u001b[1;33m,\u001b[0m \u001b[0mc2pwrite\u001b[0m\u001b[1;33m,\u001b[0m\u001b[1;33m\u001b[0m\u001b[1;33m\u001b[0m\u001b[0m\n\u001b[0;32m    768\u001b[0m                                 \u001b[0merrread\u001b[0m\u001b[1;33m,\u001b[0m \u001b[0merrwrite\u001b[0m\u001b[1;33m,\u001b[0m\u001b[1;33m\u001b[0m\u001b[1;33m\u001b[0m\u001b[0m\n\u001b[1;32m--> 769\u001b[1;33m                                 restore_signals, start_new_session)\n\u001b[0m\u001b[0;32m    770\u001b[0m         \u001b[1;32mexcept\u001b[0m\u001b[1;33m:\u001b[0m\u001b[1;33m\u001b[0m\u001b[1;33m\u001b[0m\u001b[0m\n\u001b[0;32m    771\u001b[0m             \u001b[1;31m# Cleanup if the child failed starting.\u001b[0m\u001b[1;33m\u001b[0m\u001b[1;33m\u001b[0m\u001b[1;33m\u001b[0m\u001b[0m\n",
      "\u001b[1;32m~\\Anaconda3\\lib\\subprocess.py\u001b[0m in \u001b[0;36m_execute_child\u001b[1;34m(self, args, executable, preexec_fn, close_fds, pass_fds, cwd, env, startupinfo, creationflags, shell, p2cread, p2cwrite, c2pread, c2pwrite, errread, errwrite, unused_restore_signals, unused_start_new_session)\u001b[0m\n\u001b[0;32m   1170\u001b[0m                                          \u001b[0menv\u001b[0m\u001b[1;33m,\u001b[0m\u001b[1;33m\u001b[0m\u001b[1;33m\u001b[0m\u001b[0m\n\u001b[0;32m   1171\u001b[0m                                          \u001b[0mos\u001b[0m\u001b[1;33m.\u001b[0m\u001b[0mfspath\u001b[0m\u001b[1;33m(\u001b[0m\u001b[0mcwd\u001b[0m\u001b[1;33m)\u001b[0m \u001b[1;32mif\u001b[0m \u001b[0mcwd\u001b[0m \u001b[1;32mis\u001b[0m \u001b[1;32mnot\u001b[0m \u001b[1;32mNone\u001b[0m \u001b[1;32melse\u001b[0m \u001b[1;32mNone\u001b[0m\u001b[1;33m,\u001b[0m\u001b[1;33m\u001b[0m\u001b[1;33m\u001b[0m\u001b[0m\n\u001b[1;32m-> 1172\u001b[1;33m                                          startupinfo)\n\u001b[0m\u001b[0;32m   1173\u001b[0m             \u001b[1;32mfinally\u001b[0m\u001b[1;33m:\u001b[0m\u001b[1;33m\u001b[0m\u001b[1;33m\u001b[0m\u001b[0m\n\u001b[0;32m   1174\u001b[0m                 \u001b[1;31m# Child is launched. Close the parent's copy of those pipe\u001b[0m\u001b[1;33m\u001b[0m\u001b[1;33m\u001b[0m\u001b[1;33m\u001b[0m\u001b[0m\n",
      "\u001b[1;31mFileNotFoundError\u001b[0m: [WinError 2] The system cannot find the file specified"
     ]
    }
   ],
   "source": [
    "# This Python 3 environment comes with many helpful analytics libraries installed\n",
    "# It is defined by the kaggle/python docker image: https://github.com/kaggle/docker-python\n",
    "# For example, here's several helpful packages to load in \n",
    "\n",
    "import numpy as np # linear algebra\n",
    "import pandas as pd # data processing, CSV file I/O (e.g. pd.read_csv)\n",
    "\n",
    "# Input data files are available in the \"../input/\" directory.\n",
    "# For example, running this (by clicking run or pressing Shift+Enter) will list the files in the input directory\n",
    "\n",
    "from subprocess import check_output\n",
    "print(check_output([\"ls\", \"\"]).decode(\"utf8\"))\n",
    "\n",
    "# # Any results you write to the current directory are saved as output.\n",
    "# sample=pd.read_csv('../input/sample_submission.csv')\n",
    "# test=pd.read_csv('../input/test.csv')\n",
    "# train=pd.read_csv('../input/train.csv')\n",
    "\n",
    "# #If you check this out in Linux (e.g. head train.csv), you see the extent of the data:\n",
    "# print(train.head(5)) #116 Categorical Values, and 14 continuous ones.\n",
    "\t"
   ]
  },
  {
   "cell_type": "markdown",
   "metadata": {
    "_cell_guid": "5b9cb548-a2a8-7fcf-f48b-387a53163b60"
   },
   "source": [
    "train=pd.read_csv('../input/train.csv')\n",
    "nature. What can we do when we know nothing? Like the early taxonomists, we can start sorting! Categorical values appear to be mainly 'A' and 'B', with a few categorical columns containing various other characters."
   ]
  },
  {
   "cell_type": "code",
   "execution_count": null,
   "metadata": {
    "_cell_guid": "75643af3-30a7-8b9a-6ad8-6d134ac5fed5"
   },
   "outputs": [],
   "source": [
    "import pandas as pd\n",
    "import numpy as np\n",
    "import xgboost as xgb #Run the classifier\n",
    "\n",
    "\n",
    "print('This article was very helpful: https://www.analyticsvidhya.com/blog/2016/03/complete-guide-parameter-tuning-xgboost-with-codes-python/')\n",
    "print('As well as: https://www.kaggle.com/guyko81/allstate-claims-severity/just-an-easy-solution')\n",
    "\n",
    "test=pd.read_csv('../input/test.csv')\n",
    "train=pd.read_csv('../input/train.csv')\n",
    "features = [x for x in train.columns if x not in ['id','loss']]\n",
    "cat_features = [x for x in train.select_dtypes(include=['object']).columns if x not in ['id','loss']]\n",
    "\n",
    "for c in range(len(cat_features)):\n",
    "\ttrain[cat_features[c]] = train[cat_features[c]].astype('category').cat.codes\n",
    "    \n",
    "train['ln_loss'] = np.log(train['loss']) #Take LN of loss column\n",
    "trainX=pd.DataFrame(train[features])\n",
    "trainY=pd.DataFrame(train['ln_loss'])\n",
    "xgdmat = xgb.DMatrix(trainX, trainY) #Put these in DMTATRIX\n",
    "\n",
    "params = {'eta': 0.01, 'seed':0, 'subsample': 0.5, 'colsample_bytree': 0.5, \n",
    "             'objective': 'reg:linear', 'max_depth':6, 'min_child_weight':3} \n",
    "print('Training')\n",
    "num_rounds = 1000\n",
    "bst = xgb.train(params, xgdmat, num_boost_round = num_rounds)\n",
    "print('Done Training')\n",
    "\n",
    "print('Testing')\n",
    "y_pred=[]\n",
    "for c in range(len(cat_features)):\n",
    "    test[cat_features[c]] = test[cat_features[c]].astype('category').cat.codes\t\n",
    "testDM=xgb.DMatrix(test[features])\n",
    "y_pred+=list(bst.predict(testDM))\n",
    "print('Done Testing')\n",
    "\n",
    "print('Preparing to Submit')\n",
    "y_pred=np.exp(y_pred)#Convert back to normal values\n",
    "submission = pd.DataFrame({\n",
    "        \"id\": test[\"id\"],\n",
    "        \"loss\": y_pred    })\n",
    "submission.to_csv('XGB_OUT.csv', index=False)\t#Including more min_splits and min_leaf helps out a little\n",
    "print(\"Submission Saved\")"
   ]
  },
  {
   "cell_type": "code",
   "execution_count": null,
   "metadata": {
    "_cell_guid": "49d8e248-b830-1486-87c9-2cdd61e80f72"
   },
   "outputs": [],
   "source": [
    "import numpy as np\n",
    "import pandas as pd\n",
    "from sklearn.linear_model import SGDRegressor as SDG\n",
    "\n",
    "print('This code works poorly and gives huge swings in loss')\n",
    "test=pd.read_csv('../input/test.csv')\n",
    "train=pd.read_csv('../input/train.csv')\n",
    "print('Categories from : https://www.kaggle.com/guyko81/allstate-claims-severity/just-an-easy-solution')\n",
    "features = [x for x in train.columns if x not in ['id','loss']]\n",
    "cat_features = [x for x in train.select_dtypes(include=['object']).columns if x not in ['id','loss']]\n",
    "num_features = [x for x in train.select_dtypes(exclude=['object']).columns if x not in ['id','loss']]\t\t\n",
    "test,train='',''\t\n",
    "\n",
    "chunksize=20000\n",
    "print('Training')\n",
    "train=pd.read_csv('../input/train.csv',iterator=True,chunksize=chunksize)#Load in the file again\n",
    "for chunk in train:\n",
    "\tconts=[x for x in chunk if 'cont' in x]#Only continuous values\n",
    "\tfor c in range(len(cat_features)):\n",
    "\t\tchunk[cat_features[c]] = chunk[cat_features[c]].astype('category').cat.codes\t\n",
    "\ttrainX=pd.DataFrame(chunk[features])\n",
    "\ttrainY=pd.DataFrame(chunk['loss'])\n",
    "\talg = SDG(warm_start=True)\n",
    "\talg.fit(trainX[features],trainY['loss'])\n",
    "\t\t\n",
    "print('Done Training')\n",
    "train,trainX,trainY='','',''\n",
    "\n",
    "print('Testing')\n",
    "#Iterate through?\n",
    "test=pd.read_csv('../input/test.csv',iterator=True,chunksize=chunksize)\n",
    "y_pred=[]\n",
    "for chunk in test:\n",
    "\tfor c in range(len(cat_features)):\n",
    "\t\tchunk[cat_features[c]] = chunk[cat_features[c]].astype('category').cat.codes\t\n",
    "\ttestX=pd.DataFrame(chunk[features]).astype(float)\n",
    "\ty_pred += list(alg.predict(testX))\n",
    "print('Done Testing')\n",
    "\n",
    "test=''\n",
    "test=pd.read_csv('../input/test.csv')\n",
    "submission = pd.DataFrame({\n",
    "        \"id\": test[\"id\"],\n",
    "        \"loss\": y_pred    })\n",
    "#submission.to_csv('SGD_OUT.csv', index=False)\t#Including more min_splits and min_leaf helps out a little\n",
    "print(\"Submission Saved\")"
   ]
  },
  {
   "cell_type": "code",
   "execution_count": null,
   "metadata": {
    "_cell_guid": "7e2c22ad-0eee-2ee7-f800-4f3f637705e0"
   },
   "outputs": [],
   "source": [
    "import numpy as np\n",
    "import pandas as pd\n",
    "from sklearn.linear_model import SGDRegressor as SDG\n",
    "\n",
    "print('Maybe transform this to  log_loss as guyko81 does. Also, remove the iterators.')\n",
    "test=pd.read_csv('../input/test.csv')\n",
    "train=pd.read_csv('../input/train.csv')\n",
    "print('Categories from : https://www.kaggle.com/guyko81/allstate-claims-severity/just-an-easy-solution')\n",
    "features = [x for x in train.columns if x not in ['id','loss']]\n",
    "cat_features = [x for x in train.select_dtypes(include=['object']).columns if x not in ['id','loss']]\n",
    "num_features = [x for x in train.select_dtypes(exclude=['object']).columns if x not in ['id','loss']]\t\t\n",
    "test,train='',''\t\n",
    "\n",
    "print('Training')\n",
    "train=pd.read_csv('../input/train.csv')#Load in the file again\n",
    "\n",
    "\n",
    "for c in range(len(cat_features)):\n",
    "\ttrain[cat_features[c]] = train[cat_features[c]].astype('category').cat.codes\n",
    "train['ln_loss'] = np.log(train['loss']) \n",
    "trainX=pd.DataFrame(train[features])\n",
    "trainY=pd.DataFrame(train['ln_loss'])\n",
    "alg = SDG()\n",
    "alg.fit(trainX[features],trainY['ln_loss'])\n",
    "\t\t\n",
    "print('Done Training')\n",
    "train,trainX,trainY='','',''\n",
    "\n",
    "print('Testing')\n",
    "#Iterate through?\n",
    "test=pd.read_csv('../input/test.csv')\n",
    "y_pred=[]\n",
    "for c in range(len(cat_features)):\n",
    "    test[cat_features[c]] = test[cat_features[c]].astype('category').cat.codes\t\n",
    "testX=pd.DataFrame(test[features])\n",
    "y_pred += list(alg.predict(testX))\n",
    "print('Done Testing')\n",
    "\n",
    "print('Preparing to Submit')\n",
    "y_pred=np.exp(y_pred)#Convert back to normal values\n",
    "submission = pd.DataFrame({\n",
    "        \"id\": test[\"id\"],\n",
    "        \"loss\": y_pred    })\n",
    "submission.to_csv('SGD_OUT2.csv', index=False)\t#Including more min_splits and min_leaf helps out a little\n",
    "print(\"Submission Saved\")"
   ]
  }
 ],
 "metadata": {
  "_change_revision": 0,
  "_is_fork": false,
  "kernelspec": {
   "display_name": "Python 3",
   "language": "python",
   "name": "python3"
  },
  "language_info": {
   "codemirror_mode": {
    "name": "ipython",
    "version": 3
   },
   "file_extension": ".py",
   "mimetype": "text/x-python",
   "name": "python",
   "nbconvert_exporter": "python",
   "pygments_lexer": "ipython3",
   "version": "3.7.1"
  }
 },
 "nbformat": 4,
 "nbformat_minor": 1
}
