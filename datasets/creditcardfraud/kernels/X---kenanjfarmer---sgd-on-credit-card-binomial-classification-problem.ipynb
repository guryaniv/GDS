{
  "cells": [
    {
      "cell_type": "markdown",
      "metadata": {
        "_cell_guid": "13c889c4-5dbd-c8c3-dc26-d63fa1a940e6"
      },
      "source": [
        "This is an analysis to illustrate the following:\n",
        " - simple file operations\n",
        " - investigate in the loss functions used by Stochastic Gradient Descent\n",
        " - experimenting with sci-kit learn algorithms and their performance using the metrics package"
      ]
    },
    {
      "cell_type": "code",
      "execution_count": null,
      "metadata": {
        "_cell_guid": "7311f179-2ec2-d298-f1b4-6f957390d513"
      },
      "outputs": [],
      "source": [
        "# This Python 3 environment comes with many helpful analytics libraries installed\n",
        "# It is defined by the kaggle/python docker image: https://github.com/kaggle/docker-python\n",
        "# For example, here's several helpful packages to load in \n",
        "import csv, sys\n",
        "import numpy as np # linear algebra\n",
        "import pandas as pd # data processing, CSV file I/O (e.g. pd.read_csv)\n",
        "\n",
        "# Input data files are available in the \"../input/\" directory.\n",
        "# For example, running this (by clicking run or pressing Shift+Enter) will list the files in the input directory\n",
        "a = pd.read_csv(\"../input/creditcard.csv\")"
      ]
    },
    {
      "cell_type": "code",
      "execution_count": null,
      "metadata": {
        "_cell_guid": "6585eef7-27d5-1f02-42f6-7e408b931121"
      },
      "outputs": [],
      "source": [
        "# break into classes\n",
        "from sklearn.model_selection import train_test_split \n",
        "a = a.as_matrix()\n",
        "X = a[:,:-1]\n",
        "y = a[:,-1]\n",
        "X_train, X_test, y_train, y_test = train_test_split( X, y, test_size=0.33, random_state=42)"
      ]
    },
    {
      "cell_type": "code",
      "execution_count": null,
      "metadata": {
        "_cell_guid": "d32a2d13-5de5-55ce-1c40-b3dd2fb8b45c"
      },
      "outputs": [],
      "source": [
        "from sklearn.linear_model import SGDClassifier\n",
        "from sklearn import metrics\n",
        "\n",
        "model_hinge = SGDClassifier(loss = 'hinge', penalty = 'l2')\n",
        "model_hinge = model_hinge.fit(X_train, y_train)\n",
        "ypred = model_hinge.predict(X_test)\n",
        "avg = 0.0\n",
        "n = 200\n",
        "for i in range(n):\n",
        "    avg = avg + model_hinge.score(X_test,y_test)\n",
        "print(avg / n)"
      ]
    },
    {
      "cell_type": "code",
      "execution_count": null,
      "metadata": {
        "_cell_guid": "ce955525-4850-1364-483a-62a4ad9542c6"
      },
      "outputs": [],
      "source": [
        "print(metrics.classification_report(y_test, ypred))"
      ]
    },
    {
      "cell_type": "code",
      "execution_count": null,
      "metadata": {
        "_cell_guid": "2b70da1c-bb78-b688-ac80-892f7fbe91a9"
      },
      "outputs": [],
      "source": [
        "model = SGDClassifier(loss = 'log', penalty = 'l2')\n",
        "model = model.fit(X_train, y_train)\n",
        "model.score(X_test,y_test)\n",
        "\n",
        "avg = 0.0\n",
        "n = 200\n",
        "for i in range(n):\n",
        "    avg = avg + model.score(X_test,y_test)\n",
        "print(avg / n)"
      ]
    },
    {
      "cell_type": "code",
      "execution_count": null,
      "metadata": {
        "_cell_guid": "e7ab538e-065b-f8a9-a59a-7c0f1595653b"
      },
      "outputs": [],
      "source": [
        "model = SGDClassifier(loss = 'modified_huber', penalty = 'l2')\n",
        "model = model.fit(X_train, y_train)\n",
        "model.score(X_test,y_test)\n",
        "\n",
        "avg = 0.0\n",
        "n = 200\n",
        "for i in range(n):\n",
        "    avg = avg + model.score(X_test,y_test)\n",
        "print(avg / n)"
      ]
    },
    {
      "cell_type": "markdown",
      "metadata": {
        "_cell_guid": "78f2018c-3acd-8ff5-a53e-972c0542adb9"
      },
      "source": [
        "we can see that the true best performing model is the Stochastic Gradient Descent with hinge loss function and l2 penalty"
      ]
    },
    {
      "cell_type": "code",
      "execution_count": null,
      "metadata": {
        "_cell_guid": "709c366f-cff8-044a-95db-bd78325931c9"
      },
      "outputs": [],
      "source": [
        "from sklearn import linear_model\n",
        "reg = linear_model.Ridge (alpha = .5)\n",
        "reg.fit(X_train, y_train).score(X_test, y_test)"
      ]
    }
  ],
  "metadata": {
    "_change_revision": 0,
    "_is_fork": false,
    "kernelspec": {
      "display_name": "Python 3",
      "language": "python",
      "name": "python3"
    },
    "language_info": {
      "codemirror_mode": {
        "name": "ipython",
        "version": 3
      },
      "file_extension": ".py",
      "mimetype": "text/x-python",
      "name": "python",
      "nbconvert_exporter": "python",
      "pygments_lexer": "ipython3",
      "version": "3.6.0"
    }
  },
  "nbformat": 4,
  "nbformat_minor": 0
}