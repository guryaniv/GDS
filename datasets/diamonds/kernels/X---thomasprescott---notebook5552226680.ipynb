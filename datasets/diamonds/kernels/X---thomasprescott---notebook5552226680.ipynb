{
  "cells": [
    {
      "cell_type": "code",
      "execution_count": null,
      "metadata": {
        "_cell_guid": "d4e4dc42-9b40-a6f8-cf4a-be1e608a8f50"
      },
      "outputs": [],
      "source": [
        "# This Python 3 environment comes with many helpful analytics libraries installed\n",
        "# It is defined by the kaggle/python docker image: https://github.com/kaggle/docker-python\n",
        "# For example, here's several helpful packages to load in \n",
        "\n",
        "import numpy as np # linear algebra\n",
        "import pandas as pd # data processing, CSV file I/O (e.g. pd.read_csv)\n",
        "import seaborn as sns\n",
        "\n",
        "# Input data files are available in the \"../input/\" directory.\n",
        "# For example, running this (by clicking run or pressing Shift+Enter) will list the files in the input directory\n",
        "\n",
        "from subprocess import check_output\n",
        "print(check_output([\"ls\", \"../input\"]).decode(\"utf8\"))\n",
        "\n",
        "# Any results you write to the current directory are saved as output."
      ]
    },
    {
      "cell_type": "markdown",
      "metadata": {
        "_cell_guid": "88f3861b-7df0-5518-8ae9-8bdf7d373436"
      },
      "source": [
        "Exercise 1 from Introduction to SAS (adapted to pandas)"
      ]
    },
    {
      "cell_type": "code",
      "execution_count": null,
      "metadata": {
        "_cell_guid": "8872290c-f17c-65a1-32dc-1dd93e2e925b"
      },
      "outputs": [],
      "source": [
        "df = pd.read_csv(\"../input/diamonds.csv\")\n",
        "df = df.drop([\"Unnamed: 0\"],axis=1)\n",
        "print(df.head())\n",
        "print(df.info())"
      ]
    },
    {
      "cell_type": "code",
      "execution_count": null,
      "metadata": {
        "_cell_guid": "5e4c3d61-af8f-63fc-4cc0-2817b41ab021"
      },
      "outputs": [],
      "source": [
        "df_stupid = df[\"depth\"]\n",
        "print(df_stupid.head())"
      ]
    },
    {
      "cell_type": "code",
      "execution_count": null,
      "metadata": {
        "_cell_guid": "9a43bc8c-2063-5cd7-95d2-67c679ee2198"
      },
      "outputs": [],
      "source": [
        "df_SI = df[(df[\"clarity\"].str[0:2] == \"SI\") & (df[\"price\"] < 400)]\n",
        "print(df_SI.head())"
      ]
    },
    {
      "cell_type": "code",
      "execution_count": null,
      "metadata": {
        "_cell_guid": "a8054346-043d-e235-fc17-7b768895fa47"
      },
      "outputs": [],
      "source": [
        "df_calcDepth = df\n",
        "df_calcDepth[\"calcDepth\"] = 2*df[\"z\"] / (df[\"x\"] + df[\"y\"])\n",
        "df_calcDepth_filt = df_calcDepth[(df[\"calcDepth\"]<60) & (df[\"clarity\"].str[:2] == \"VS\")]\n",
        "print(df_calcDepth_filt.head())\n",
        "\n",
        "print(df.count())\n",
        "print(df_calcDepth.count())\n",
        "print(df_calcDepth_filt.count())\n",
        "\n",
        "print(df[\"cut\"].value_counts())\n"
      ]
    },
    {
      "cell_type": "code",
      "execution_count": null,
      "metadata": {
        "_cell_guid": "cf7285b1-d6bb-e666-e33a-b2af7aef7321"
      },
      "outputs": [],
      "source": [
        "df_calcDepth_dropped = df_calcDepth.drop(\"depth\",axis=1)\n",
        "print(df_calcDepth_dropped.head())\n",
        "print(df_calcDepth.head())"
      ]
    },
    {
      "cell_type": "code",
      "execution_count": null,
      "metadata": {
        "_cell_guid": "d8058c83-8beb-1d5e-1d6e-0367836a021e"
      },
      "outputs": [],
      "source": [
        "df_calcDepth_dropped[\"calcDepth\"] = df_calcDepth_dropped[\"calcDepth\"].round(2)\n",
        "print(df_calcDepth_dropped.head())"
      ]
    },
    {
      "cell_type": "code",
      "execution_count": null,
      "metadata": {
        "_cell_guid": "414bdf8a-c7a5-918e-5793-b02b4a159f66"
      },
      "outputs": [],
      "source": [
        "sns."
      ]
    },
    {
      "cell_type": "code",
      "execution_count": null,
      "metadata": {
        "_cell_guid": "86d46b80-7bb2-a5d3-1b53-079c1b05441f"
      },
      "outputs": [],
      "source": ""
    }
  ],
  "metadata": {
    "_change_revision": 0,
    "_is_fork": false,
    "kernelspec": {
      "display_name": "Python 3",
      "language": "python",
      "name": "python3"
    },
    "language_info": {
      "codemirror_mode": {
        "name": "ipython",
        "version": 3
      },
      "file_extension": ".py",
      "mimetype": "text/x-python",
      "name": "python",
      "nbconvert_exporter": "python",
      "pygments_lexer": "ipython3",
      "version": "3.6.0"
    }
  },
  "nbformat": 4,
  "nbformat_minor": 0
}