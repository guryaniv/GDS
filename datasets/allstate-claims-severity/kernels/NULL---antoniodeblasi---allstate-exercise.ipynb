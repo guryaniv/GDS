{
  "cells": [
    {
      "cell_type": "markdown",
      "metadata": {
        "_cell_guid": "b05a2331-4908-86f0-b71b-ea4b8bbd1839"
      },
      "source": ""
    },
    {
      "cell_type": "code",
      "execution_count": null,
      "metadata": {
        "_cell_guid": "2340863d-14b8-0f86-e471-6d866821dcbd"
      },
      "outputs": [],
      "source": [
        "# This Python 3 environment comes with many helpful analytics libraries installed\n",
        "# It is defined by the kaggle/python docker image: https://github.com/kaggle/docker-python\n",
        "# For example, here's several helpful packages to load in \n",
        "\n",
        "import numpy as np # linear algebra\n",
        "import pandas as pd # data processing, CSV file I/O (e.g. pd.read_csv)\n",
        "\n",
        "# Input data files are available in the \"../input/\" directory.\n",
        "# For example, running this (by clicking run or pressing Shift+Enter) will list the files in the input directory\n",
        "\n",
        "from subprocess import check_output\n",
        "print(check_output([\"ls\", \"../input\"]).decode(\"utf8\"))\n",
        "\n",
        "# Any results you write to the current directory are saved as output."
      ]
    },
    {
      "cell_type": "markdown",
      "metadata": {
        "_cell_guid": "e3106a41-1fc0-c6d2-408a-a680d69ed2c8"
      },
      "source": [
        "###Load data"
      ]
    },
    {
      "cell_type": "code",
      "execution_count": null,
      "metadata": {
        "_cell_guid": "2327876c-e04e-ceaa-3e1a-d3ab2e22f13e"
      },
      "outputs": [],
      "source": [
        "train_data = pd.read_csv(\"../input/train.csv\")\n",
        "test_data = pd.read_csv(\"../input/test.csv\")\n",
        "print(\"train data: {} samples and {} features\".format(*train_data.shape))\n",
        "print(\"test data: {} samples and {} features\".format(*test_data.shape))"
      ]
    },
    {
      "cell_type": "markdown",
      "metadata": {
        "_cell_guid": "6c73c9dd-e4d3-96ff-2fa9-12cbd430ebdd"
      },
      "source": [
        "###Inspect very first records from datasets"
      ]
    },
    {
      "cell_type": "code",
      "execution_count": null,
      "metadata": {
        "_cell_guid": "5c671c04-8a74-0a63-bd24-325d45513cc9"
      },
      "outputs": [],
      "source": [
        "train_data.head()"
      ]
    },
    {
      "cell_type": "code",
      "execution_count": null,
      "metadata": {
        "_cell_guid": "f1d7e663-1a02-8051-f754-0231c19bfbe0"
      },
      "outputs": [],
      "source": [
        "test_data.head()"
      ]
    },
    {
      "cell_type": "markdown",
      "metadata": {
        "_cell_guid": "70c2d02b-91b5-38b9-a097-8619fa61dd26"
      },
      "source": [
        "###Remove id column from train_data"
      ]
    },
    {
      "cell_type": "code",
      "execution_count": null,
      "metadata": {
        "_cell_guid": "d7ea7cbf-b58c-f71b-89da-343bcd2cc152"
      },
      "outputs": [],
      "source": [
        "if 'id' in train_data.keys():\n",
        "    train_data.drop('id',1, inplace=True)\n",
        "print(\"train_data now has {} columns\".format(train_data.shape[1]))"
      ]
    },
    {
      "cell_type": "markdown",
      "metadata": {
        "_cell_guid": "6c7f5257-a611-7586-baba-f5c7ac624790"
      },
      "source": [
        "###Split target and descriptive features"
      ]
    },
    {
      "cell_type": "code",
      "execution_count": null,
      "metadata": {
        "_cell_guid": "e98dc5a5-e1a0-5dfd-0acb-f8e6c5bf8c86"
      },
      "outputs": [],
      "source": [
        "target = train_data[['loss']]\n",
        "features = train_data[[f for f in train_data.keys() if f != 'loss']]"
      ]
    },
    {
      "cell_type": "code",
      "execution_count": null,
      "metadata": {
        "_cell_guid": "37ec19be-1075-1d46-5ee8-55bfe234655a"
      },
      "outputs": [],
      "source": [
        "target.head()"
      ]
    },
    {
      "cell_type": "code",
      "execution_count": null,
      "metadata": {
        "_cell_guid": "70b2fd7c-cc7b-76c0-2f78-f09fa86cc047"
      },
      "outputs": [],
      "source": [
        "features.head()"
      ]
    },
    {
      "cell_type": "markdown",
      "metadata": {
        "_cell_guid": "9dfc7c41-dba5-a36b-afbd-a7fc8e11f101"
      },
      "source": [
        "##Data Quality Report"
      ]
    },
    {
      "cell_type": "code",
      "execution_count": null,
      "metadata": {
        "_cell_guid": "865815ef-9c22-3b1b-5fc9-4896cfb84528"
      },
      "outputs": [],
      "source": [
        "class DataQualityReport(object):    \n",
        "    '''\n",
        "    Report about data basic statistics\n",
        "    '''\n",
        "    \n",
        "    CONT_TABLE_COLS = ['count', 'missing', 'cardinality', 'min', '1st_quartile', \n",
        "                       'mean', 'median', '3rd_quartile', 'max', 'std_dev']\n",
        "    CAT_TABLE_COLS  = ['count', 'missing', 'cardinality', 'mode', 'mode_freq', \n",
        "                       'mode_percent', '2nd_mode', '2nd_mode_freq', '2nd_mode_percent']\n",
        "        \n",
        "    def __init__(self, df, continuous_features, categorical_features):\n",
        "        '''\n",
        "        Constructor\n",
        "        Parameters:\n",
        "            df - pandas DataFrame object containing the dataset\n",
        "            categorical_features - the list of feature names of categorical type\n",
        "            continuous_features - the list of feature names of continuous type\n",
        "        '''\n",
        "        self._continuous_features   = continuous_features\n",
        "        self._categorical_features  = categorical_features\n",
        "\n",
        "        self.cont_table = pd.DataFrame(columns=DataQualityReport.CONT_TABLE_COLS, index=continuous_features)\n",
        "        self.cat_table  = pd.DataFrame(columns=DataQualityReport.CAT_TABLE_COLS, index=categorical_features)\n",
        "        self.cont_table.index.name = 'feature'\n",
        "        self.cat_table.index.name = 'feature'\n",
        "        stats = df.describe()\n",
        "        self._populate_cont_table(df, stats)\n",
        "        self._populate_cat_table(df, stats)\n",
        "  \n",
        "    def _populate_cont_table(self, df, stats):\n",
        "        for feature in self._continuous_features:\n",
        "            self.cont_table['count'][feature]           = df[feature].value_counts().sum()\n",
        "            self.cont_table['missing'][feature]         = df[feature].isnull().sum()\n",
        "            self.cont_table['cardinality'][feature]     = df[feature].unique().shape[0]\n",
        "            self.cont_table['min'][feature]             = stats[feature]['min']\n",
        "            self.cont_table['1st_quartile'][feature]    = stats[feature]['25%']\n",
        "            self.cont_table['mean'][feature]            = stats[feature]['mean']\n",
        "            self.cont_table['median'][feature]          = stats[feature]['50%']\n",
        "            self.cont_table['3rd_quartile'][feature]    = stats[feature]['75%']\n",
        "            self.cont_table['max'][feature]             = stats[feature]['max']\n",
        "            self.cont_table['std_dev'][feature]         = stats[feature]['std']\n",
        "            \n",
        "            \n",
        "    def _populate_cat_table(self, df, stats):\n",
        "        for feature in self._categorical_features:\n",
        "            self.cat_table['count'][feature]           = df[feature].value_counts().sum()\n",
        "            self.cat_table['missing'][feature]         = df[feature].isnull().sum()\n",
        "            self.cat_table['cardinality'][feature]     = df[feature].unique().shape[0]\n",
        "            vc = df[feature].value_counts()\n",
        "            self.cat_table['mode'][feature]            = vc.index[0]\n",
        "            self.cat_table['mode_freq'][feature]       = vc.values[0]\n",
        "            self.cat_table['mode_percent'][feature]    = float(vc.values[0])/vc.sum()*100\n",
        "            if vc.shape[0] > 1:\n",
        "                self.cat_table['2nd_mode'][feature]            = vc.index[1]\n",
        "                self.cat_table['2nd_mode_freq'][feature]       = vc.values[1]\n",
        "                self.cat_table['2nd_mode_percent'][feature]    = float(vc.values[1])/vc.sum()*100"
      ]
    },
    {
      "cell_type": "code",
      "execution_count": null,
      "metadata": {
        "_cell_guid": "db1f7f2f-5d27-d24c-2074-a4222f055bf1"
      },
      "outputs": [],
      "source": [
        "target_dqr = DataQualityReport(target, ['loss'], [])\n",
        "target_dqr.cont_table"
      ]
    },
    {
      "cell_type": "code",
      "execution_count": null,
      "metadata": {
        "_cell_guid": "734c519a-1487-13dd-86a3-09783cf88c6f"
      },
      "outputs": [],
      "source": [
        "cat_feature_names = [name for name in features.keys() if name[0:3] == \"cat\"]\n",
        "print(\",\".join(cat_feature_names))"
      ]
    },
    {
      "cell_type": "code",
      "execution_count": null,
      "metadata": {
        "_cell_guid": "1eb935e8-2423-c8df-3e37-0cd53a402947"
      },
      "outputs": [],
      "source": [
        "cont_feature_names = [name for name in features.keys() if name[0:4] == \"cont\"]\n",
        "print(\",\".join(cont_feature_names))"
      ]
    },
    {
      "cell_type": "code",
      "execution_count": null,
      "metadata": {
        "_cell_guid": "310886c7-af6b-8a9a-453c-48fdb066c642"
      },
      "outputs": [],
      "source": [
        "features_dqr = DataQualityReport(features, cont_feature_names, cat_feature_names)"
      ]
    },
    {
      "cell_type": "markdown",
      "metadata": {
        "_cell_guid": "da3645b8-e43d-57c9-d93e-b2772ef7af3b"
      },
      "source": [
        "###Continuous features data quality report"
      ]
    },
    {
      "cell_type": "code",
      "execution_count": null,
      "metadata": {
        "_cell_guid": "7acaa09a-b926-d3a1-5f16-3862d91dea4a"
      },
      "outputs": [],
      "source": [
        "features_dqr.cont_table"
      ]
    },
    {
      "cell_type": "markdown",
      "metadata": {
        "_cell_guid": "340073cb-4834-99a8-c424-91c740cdaf4d"
      },
      "source": [
        "###Categorical features data quality report"
      ]
    },
    {
      "cell_type": "code",
      "execution_count": null,
      "metadata": {
        "_cell_guid": "54d42f07-bafd-7ffd-50b9-fcdea02912b5"
      },
      "outputs": [],
      "source": [
        "features_dqr.cat_table"
      ]
    },
    {
      "cell_type": "code",
      "execution_count": null,
      "metadata": {
        "_cell_guid": "19f79ec2-b4d0-a971-db48-0c9cfc081d0a"
      },
      "outputs": [],
      "source": ""
    }
  ],
  "metadata": {
    "_change_revision": 0,
    "_is_fork": false,
    "kernelspec": {
      "display_name": "Python 3",
      "language": "python",
      "name": "python3"
    },
    "language_info": {
      "codemirror_mode": {
        "name": "ipython",
        "version": 3
      },
      "file_extension": ".py",
      "mimetype": "text/x-python",
      "name": "python",
      "nbconvert_exporter": "python",
      "pygments_lexer": "ipython3",
      "version": "3.5.2"
    }
  },
  "nbformat": 4,
  "nbformat_minor": 0
}