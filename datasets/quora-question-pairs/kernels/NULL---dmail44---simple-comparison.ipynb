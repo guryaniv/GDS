{
  "cells": [
    {
      "cell_type": "markdown",
      "metadata": {
        "_cell_guid": "dbf71c9e-4de6-2d27-248a-f3d988b8306e"
      },
      "source": [
        "## Just a Simple String(word) Comparisons to see how it scores"
      ]
    },
    {
      "cell_type": "code",
      "execution_count": null,
      "metadata": {
        "_cell_guid": "883b7790-1a44-7b90-a4a5-bac3da926edd"
      },
      "outputs": [],
      "source": [
        "# This Python 3 environment comes with many helpful analytics libraries installed\n",
        "# It is defined by the kaggle/python docker image: https://github.com/kaggle/docker-python\n",
        "\n",
        "# Import required packages\n",
        "import numpy as np \n",
        "import pandas as pd \n",
        "from nltk.corpus import stopwords\n",
        "from nltk.tokenize import word_tokenize\n",
        "\n",
        "import matplotlib.pyplot as plt\n",
        "import seaborn as sns\n",
        "\n",
        "%matplotlib inline\n",
        "\n",
        "\n",
        "# Input data files are available in the \"../input/\" directory.\n",
        "from subprocess import check_output\n",
        "print(check_output([\"ls\", \"../input\"]).decode(\"utf8\"))\n"
      ]
    },
    {
      "cell_type": "markdown",
      "metadata": {
        "_cell_guid": "6827a3b5-7acb-7667-226c-531aaf4a502b"
      },
      "source": [
        "## Loading Data"
      ]
    },
    {
      "cell_type": "code",
      "execution_count": null,
      "metadata": {
        "_cell_guid": "7a0b8c45-c518-7b0f-31f5-cca2a87674da"
      },
      "outputs": [],
      "source": [
        "# Load the files into a pandas dataframe\n",
        "df_train = pd.read_csv(\"../input/train.csv\")\n",
        "df_test  = pd.read_csv(\"../input/test.csv\")"
      ]
    },
    {
      "cell_type": "markdown",
      "metadata": {
        "_cell_guid": "365ee01e-5e12-a62d-04c3-e3a2db333df2"
      },
      "source": [
        "## Exploring the data"
      ]
    },
    {
      "cell_type": "code",
      "execution_count": null,
      "metadata": {
        "_cell_guid": "f141db5c-3452-af8e-c05a-9100beaa4caa"
      },
      "outputs": [],
      "source": [
        "print(\"train.csv\")\n",
        "print(\"\\t Number of Rows \\t: \",df_train.shape[0])\n",
        "print(\"\\t Number of Columns \\t: \",df_train.shape[1])\n",
        "\n",
        "print(\"test.csv\")\n",
        "print(\"\\t Number of Rows \\t: \",df_test.shape[0])\n",
        "print(\"\\t Number of Columns \\t: \",df_test.shape[1])\n"
      ]
    },
    {
      "cell_type": "code",
      "execution_count": null,
      "metadata": {
        "_cell_guid": "51138504-9a63-3710-a75b-c4ceaa94ece6"
      },
      "outputs": [],
      "source": [
        "print(\"train.csv\")\n",
        "print(\"\\t Column Names \\t: \",df_train.columns)\n",
        "print(\"\\n\")\n",
        "print(\"test.csv\")\n",
        "print(\"\\t Column Names \\t: \",df_test.columns)"
      ]
    },
    {
      "cell_type": "code",
      "execution_count": null,
      "metadata": {
        "_cell_guid": "d5bf9be2-039b-6810-9e1f-223f17c00c66"
      },
      "outputs": [],
      "source": [
        "df_train.head()"
      ]
    },
    {
      "cell_type": "code",
      "execution_count": null,
      "metadata": {
        "_cell_guid": "ec073344-b1ed-c9c5-2cdd-a20c1e2ae794"
      },
      "outputs": [],
      "source": [
        "df_test.head()"
      ]
    },
    {
      "cell_type": "code",
      "execution_count": null,
      "metadata": {
        "_cell_guid": "4a150646-ba99-ee19-edee-ef9066496498"
      },
      "outputs": [],
      "source": [
        "# Targer Variable count\n",
        "is_dup = df_train['is_duplicate'].value_counts()\n",
        "is_dup"
      ]
    },
    {
      "cell_type": "code",
      "execution_count": null,
      "metadata": {
        "_cell_guid": "51a9778e-4eb4-719f-7a03-87d81b070eed"
      },
      "outputs": [],
      "source": [
        "# Target Variable percentage in train\n",
        "df_train['is_duplicate'].value_counts() / df_train['is_duplicate'].count()"
      ]
    },
    {
      "cell_type": "code",
      "execution_count": null,
      "metadata": {
        "_cell_guid": "d9b77101-a695-c8ae-a9b6-7f500fbc2c00"
      },
      "outputs": [],
      "source": [
        "# visualizing target variable\n",
        "sns.barplot(is_dup.index, is_dup.values, color='lightgreen')"
      ]
    },
    {
      "cell_type": "code",
      "execution_count": null,
      "metadata": {
        "_cell_guid": "b37dcd85-1765-d730-7677-9d6e4a108da4"
      },
      "outputs": [],
      "source": [
        "# All qid's from train\n",
        "train_qid = pd.Series(df_train['qid1'].tolist() + df_train['qid2'].tolist())\n",
        "# Number of Unique qid's\n",
        "len(np.unique(train_qid))"
      ]
    },
    {
      "cell_type": "markdown",
      "metadata": {
        "_cell_guid": "1b613a16-d8f1-ed62-d042-6fcb150b4afd"
      },
      "source": [
        "## Comparing two questions to Find common words "
      ]
    },
    {
      "cell_type": "markdown",
      "metadata": {
        "_cell_guid": "23ade799-ab54-9738-a6e4-1c22f4fe4942"
      },
      "source": [
        "No models used, just a plain string(rather words/tokens) comparison to see how good it scores."
      ]
    },
    {
      "cell_type": "code",
      "execution_count": null,
      "metadata": {
        "_cell_guid": "02a91fe6-4e34-dbc3-7f61-e393e1ca4c93"
      },
      "outputs": [],
      "source": [
        "stops = set(stopwords.words('english'))"
      ]
    },
    {
      "cell_type": "code",
      "execution_count": null,
      "metadata": {
        "_cell_guid": "c5ecbe56-a347-e134-0490-755e26d728bb"
      },
      "outputs": [],
      "source": [
        "def likeness(data):\n",
        "    like_words = []\n",
        "    # get the questions\n",
        "    q1 = str(data['question1']).lower()\n",
        "    q2 = str(data['question2']).lower()\n",
        "    # split question string into tokens/words\n",
        "    t1 = word_tokenize(q1)\n",
        "    t2 = word_tokenize(q2)\n",
        "    common_words = list(set(t1) & set(t2))\n",
        "    # remove stop words\n",
        "    for w in common_words:\n",
        "        if w not in stops:\n",
        "            like_words.append(w)\n",
        "    all_words = list(set(t1) | set(t2))    \n",
        "    like_percentage = len(like_words) / len(all_words)\n",
        "    return like_percentage"
      ]
    },
    {
      "cell_type": "code",
      "execution_count": null,
      "metadata": {
        "_cell_guid": "213001d1-fc19-2365-5a87-1b079b20df98"
      },
      "outputs": [],
      "source": [
        "# add traget column in test\n",
        "df_test['is_duplicate'] = df_test.apply(likeness, axis=1)"
      ]
    },
    {
      "cell_type": "code",
      "execution_count": null,
      "metadata": {
        "_cell_guid": "d77939ce-7651-8ac5-fd95-4685cc2aecef"
      },
      "outputs": [],
      "source": [
        "df_test.head()"
      ]
    },
    {
      "cell_type": "code",
      "execution_count": null,
      "metadata": {
        "_cell_guid": "602e1111-5f15-a5da-8ca4-53fbca8d3274"
      },
      "outputs": [],
      "source": [
        "submission = pd.DataFrame(df_test, columns=['test_id','is_duplicate'])\n",
        "submission.to_csv('submission.csv', index=False)"
      ]
    }
  ],
  "metadata": {
    "_change_revision": 0,
    "_is_fork": false,
    "kernelspec": {
      "display_name": "Python 3",
      "language": "python",
      "name": "python3"
    },
    "language_info": {
      "codemirror_mode": {
        "name": "ipython",
        "version": 3
      },
      "file_extension": ".py",
      "mimetype": "text/x-python",
      "name": "python",
      "nbconvert_exporter": "python",
      "pygments_lexer": "ipython3",
      "version": "3.6.0"
    }
  },
  "nbformat": 4,
  "nbformat_minor": 0
}