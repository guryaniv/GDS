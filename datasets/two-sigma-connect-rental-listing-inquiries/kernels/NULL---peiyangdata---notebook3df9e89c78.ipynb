{
  "cells": [
    {
      "cell_type": "markdown",
      "metadata": {
        "_cell_guid": "067e4b6f-7a49-dde3-dc08-cc17d1bd442b"
      },
      "source": ""
    },
    {
      "cell_type": "code",
      "execution_count": null,
      "metadata": {
        "_cell_guid": "42c6ca0a-98eb-9eb0-12a4-4400c634df36"
      },
      "outputs": [],
      "source": [
        "# This Python 3 environment comes with many helpful analytics libraries installed\n",
        "# It is defined by the kaggle/python docker image: https://github.com/kaggle/docker-python\n",
        "# For example, here's several helpful packages to load in \n",
        "\n",
        "import numpy as np # linear algebra\n",
        "import pandas as pd # data processing, CSV file I/O (e.g. pd.read_csv)\n",
        "\n",
        "# Input data files are available in the \"../input/\" directory.\n",
        "# For example, running this (by clicking run or pressing Shift+Enter) will list the files in the input directory\n",
        "\n",
        "from subprocess import check_output\n",
        "print(check_output([\"ls\", \"../input\"]).decode(\"utf8\"))\n",
        "\n",
        "# Any results you write to the current directory are saved as output.\n",
        "\n",
        "X_train = pd.read_json(\"../input/train.json\")\n",
        "X_test = pd.read_json(\"../input/test.json\")"
      ]
    },
    {
      "cell_type": "code",
      "execution_count": null,
      "metadata": {
        "_cell_guid": "51c6cb29-ca56-14e9-56be-3304a24a6778"
      },
      "outputs": [],
      "source": [
        "\n",
        "X_train.head()"
      ]
    },
    {
      "cell_type": "code",
      "execution_count": null,
      "metadata": {
        "_cell_guid": "3aefc3ea-4948-111b-7679-2d4e83b5cc49"
      },
      "outputs": [],
      "source": [
        "X_train.shape"
      ]
    },
    {
      "cell_type": "code",
      "execution_count": null,
      "metadata": {
        "_cell_guid": "a7d626ee-ebc2-1d8c-fbc6-c1a7ec5a212f"
      },
      "outputs": [],
      "source": [
        "X_test.head()"
      ]
    },
    {
      "cell_type": "code",
      "execution_count": null,
      "metadata": {
        "_cell_guid": "6e7e6fa3-b3c9-a89b-cc63-abe797a78efd"
      },
      "outputs": [],
      "source": [
        "X_test.shape"
      ]
    },
    {
      "cell_type": "code",
      "execution_count": null,
      "metadata": {
        "_cell_guid": "1174c6a3-ae18-e390-ee28-0828f0a2fdc7"
      },
      "outputs": [],
      "source": [
        "sample=pd.read_csv(\"../input/sample_submission.csv\")"
      ]
    },
    {
      "cell_type": "code",
      "execution_count": null,
      "metadata": {
        "_cell_guid": "14030cdf-6f3f-de9d-dc12-f09cd258ddce"
      },
      "outputs": [],
      "source": [
        "sample.head()"
      ]
    },
    {
      "cell_type": "code",
      "execution_count": null,
      "metadata": {
        "_cell_guid": "c62b22c6-605d-5e5b-d0e9-09083231edef"
      },
      "outputs": [],
      "source": [
        "print(check_output([\"ls\", \"../input/images_sample/\"]).decode(\"utf8\"))"
      ]
    },
    {
      "cell_type": "code",
      "execution_count": null,
      "metadata": {
        "_cell_guid": "a4bf4fff-3f8b-5dfb-6ddf-d0c44157245e"
      },
      "outputs": [],
      "source": [
        "import os\n",
        "import subprocess as sub\n",
        "from os import listdir\n",
        "from os.path import isfile, join\n",
        "onlyfiles = [f for f in listdir('../input/images_sample/6811957/') if isfile(join('../input/images_sample/6811957/', f))]\n",
        "print (onlyfiles)"
      ]
    },
    {
      "cell_type": "code",
      "execution_count": null,
      "metadata": {
        "_cell_guid": "c2b15afd-6d1f-1873-da23-c33f76858d94"
      },
      "outputs": [],
      "source": [
        "import matplotlib.pyplot as plt\n",
        "import matplotlib.image as mpimg\n",
        "%matplotlib inline\n",
        "img=[]\n",
        "for i in range (0,5):\n",
        "    img.append(mpimg.imread('../input/images_sample/6811957/'+onlyfiles[i]))\n",
        "    plt.imshow(img[i])\n",
        "    fig = plt.figure()\n",
        "    a=fig.add_subplot()\n",
        "    "
      ]
    },
    {
      "cell_type": "code",
      "execution_count": null,
      "metadata": {
        "_cell_guid": "a3ff8d25-341b-bcd7-e8e4-fa36be39f6ce"
      },
      "outputs": [],
      "source": [
        "\n",
        "\n",
        "X_train.dropna(subset = ['interest_level'])\n",
        "X_train.shape\n",
        "print (X_train['interest_level'])"
      ]
    },
    {
      "cell_type": "code",
      "execution_count": null,
      "metadata": {
        "_cell_guid": "a35b7b65-a84e-fdfb-a517-35ecfddd7c97"
      },
      "outputs": [],
      "source": [
        "\n",
        "grouped = X_train.groupby(['interest_level'])\n",
        "print (grouped.size())\n",
        "#probability\n",
        "print (grouped.size()/len(X_train))"
      ]
    },
    {
      "cell_type": "code",
      "execution_count": null,
      "metadata": {
        "_cell_guid": "0fc18c31-c419-a150-d301-8272f34b9bba"
      },
      "outputs": [],
      "source": [
        "from sklearn.ensemble import RandomForestClassifier\n",
        "from sklearn.model_selection import train_test_split\n",
        "from sklearn.metrics import log_loss\n",
        "\n",
        "X_train[\"num_photos\"] = X_train[\"photos\"].apply(len)\n",
        "X_train[\"num_features\"] = X_train[\"features\"].apply(len)\n",
        "X_train[\"num_description_words\"] = X_train[\"description\"].apply(lambda x: len(x.split(\" \")))\n",
        "X_train[\"created\"] = pd.to_datetime(X_train[\"created\"])\n",
        "X_train[\"created_year\"] = X_train[\"created\"].dt.year\n",
        "X_train[\"created_month\"] = X_train[\"created\"].dt.month\n",
        "X_train[\"created_day\"] = X_train[\"created\"].dt.day\n",
        "num_feats = [\"bathrooms\", \"bedrooms\", \"latitude\", \"longitude\", \"price\",\n",
        "             \"num_photos\", \"num_features\", \"num_description_words\",\n",
        "             \"created_year\", \"created_month\", \"created_day\"]\n",
        "X = X_train[num_feats]\n",
        "y = X_train[\"interest_level\"]\n",
        "\n",
        "X_train2, X_val, y_train2, y_val = train_test_split(X, y, test_size=0.3)"
      ]
    },
    {
      "cell_type": "code",
      "execution_count": null,
      "metadata": {
        "_cell_guid": "3edee28a-c1e2-edf6-3992-2c9624addec5"
      },
      "outputs": [],
      "source": [
        "\n",
        "X_test[\"num_photos\"] = X_test[\"photos\"].apply(len)\n",
        "X_test[\"num_features\"] = X_test[\"features\"].apply(len)\n",
        "X_test[\"num_description_words\"] = X_test[\"description\"].apply(lambda x: len(x.split(\" \")))\n",
        "X_test[\"created\"] = pd.to_datetime(X_test[\"created\"])\n",
        "X_test[\"created_year\"] = X_test[\"created\"].dt.year\n",
        "X_test[\"created_month\"] = X_test[\"created\"].dt.month\n",
        "X_test[\"created_day\"] = X_test[\"created\"].dt.day\n",
        "X_test2 = X_test[num_feats]"
      ]
    },
    {
      "cell_type": "code",
      "execution_count": null,
      "metadata": {
        "_cell_guid": "d9b9ebf8-fab9-22d0-3685-6176eebc1547"
      },
      "outputs": [],
      "source": [
        "# Train uncalibrated random forest classifier on whole train and validation\n",
        "# data and evaluate on test data\n",
        "rfmodel = RandomForestClassifier(n_estimators=300)\n",
        "rfmodel.fit(X_train2, y_train2)"
      ]
    },
    {
      "cell_type": "code",
      "execution_count": null,
      "metadata": {
        "_cell_guid": "f768053e-b3fc-e23a-76f7-01bd73044acb"
      },
      "outputs": [],
      "source": [
        "X_train2.head()"
      ]
    },
    {
      "cell_type": "code",
      "execution_count": null,
      "metadata": {
        "_cell_guid": "07caf48f-f568-578b-ad2d-5d634644587c"
      },
      "outputs": [],
      "source": [
        "y_val_pred = rfmodel.predict_proba(X_val)\n",
        "log_loss(y_val, y_val_pred)"
      ]
    },
    {
      "cell_type": "code",
      "execution_count": null,
      "metadata": {
        "_cell_guid": "9645257a-f7b4-304a-f9e3-a9d456c43b83"
      },
      "outputs": [],
      "source": [
        "#This time use all the train datasets to train model\n",
        "rfmodel2 = RandomForestClassifier(n_estimators=300)\n",
        "rfmodel2.fit(X, y)"
      ]
    },
    {
      "cell_type": "code",
      "execution_count": null,
      "metadata": {
        "_cell_guid": "dc34e851-8610-c737-13d6-c5ee144fc58a"
      },
      "outputs": [],
      "source": [
        "y_test_pred = rfmodel2.predict_proba(X_test2)"
      ]
    },
    {
      "cell_type": "code",
      "execution_count": null,
      "metadata": {
        "_cell_guid": "f6fcb346-51b1-f432-a402-33a3d19c38e2"
      },
      "outputs": [],
      "source": [
        "y_test_pred"
      ]
    },
    {
      "cell_type": "code",
      "execution_count": null,
      "metadata": {
        "_cell_guid": "2cf3df9d-9b21-dfcf-780e-5b8afbe56940"
      },
      "outputs": [],
      "source": ""
    },
    {
      "cell_type": "code",
      "execution_count": null,
      "metadata": {
        "_cell_guid": "5ee3436c-7aa6-05d6-3e9c-669960aa8a28"
      },
      "outputs": [],
      "source": [
        "X.head()"
      ]
    },
    {
      "cell_type": "code",
      "execution_count": null,
      "metadata": {
        "_cell_guid": "76a0af6d-f273-ec37-a259-3c5aa47e2642"
      },
      "outputs": [],
      "source": [
        "y.head()"
      ]
    },
    {
      "cell_type": "code",
      "execution_count": null,
      "metadata": {
        "_cell_guid": "e05bcd05-5cf0-30ec-cc3f-e7f84c8561d0"
      },
      "outputs": [],
      "source": [
        "X.shape"
      ]
    },
    {
      "cell_type": "code",
      "execution_count": null,
      "metadata": {
        "_cell_guid": "8828da2f-8031-058a-7d87-f23c102ff328"
      },
      "outputs": [],
      "source": [
        "y.shape"
      ]
    },
    {
      "cell_type": "code",
      "execution_count": null,
      "metadata": {
        "_cell_guid": "ad0aa50a-4dc7-55dc-e58d-4af640d1e72f"
      },
      "outputs": [],
      "source": [
        "X_test.shape"
      ]
    },
    {
      "cell_type": "code",
      "execution_count": null,
      "metadata": {
        "_cell_guid": "f50cf51d-fa0b-de34-87fb-1212b6290ad1"
      },
      "outputs": [],
      "source": [
        "X_test2.shape"
      ]
    },
    {
      "cell_type": "code",
      "execution_count": null,
      "metadata": {
        "_cell_guid": "d83f25d0-3c3a-58de-e924-a3ac7b112434"
      },
      "outputs": [],
      "source": [
        "y1 = [0]*len(y)\n",
        "y2 = [0]*len(y)\n",
        "\n",
        "type(y2)"
      ]
    },
    {
      "cell_type": "code",
      "execution_count": null,
      "metadata": {
        "_cell_guid": "309f7808-d0d7-a13c-cb82-933ebd9b0de6"
      },
      "outputs": [],
      "source": [
        "type(y)"
      ]
    },
    {
      "cell_type": "code",
      "execution_count": null,
      "metadata": {
        "_cell_guid": "58e3fbe6-41b4-084f-4c86-06b7d809e615"
      },
      "outputs": [],
      "source": [
        "y_list = y.tolist()\n",
        "type(y_list)\n",
        "y_list"
      ]
    },
    {
      "cell_type": "code",
      "execution_count": null,
      "metadata": {
        "_cell_guid": "e5b0be68-3e0b-21c9-d6a2-8177fa89ba87"
      },
      "outputs": [],
      "source": [
        "for i in range(0, len(y), 1):\n",
        "    if(y_list[i]==\"low\"):\n",
        "        print(\"low\")\n",
        "        y1[i] = 0\n",
        "        y2[i] = 0\n",
        "    if(y_list[i]==\"medium\"):\n",
        "        y1[i] = 0\n",
        "        y2[i] = 1\n",
        "    if(y_list[i]==\"high\"):\n",
        "        print(\"high\")\n",
        "        y1[i] = 1\n",
        "        y2[i] = 0\n",
        "print(\"Binary coding done.\")"
      ]
    },
    {
      "cell_type": "code",
      "execution_count": null,
      "metadata": {
        "_cell_guid": "2da51d35-9346-ac42-1690-5aa61096b435"
      },
      "outputs": [],
      "source": [
        "y_n = [0]*len(y)\n",
        "for i in range(0, len(y), 1):\n",
        "    if(y_list[i]==\"low\"):\n",
        "        y_n[i]=1\n",
        "    if(y_list[i]==\"medium\"):\n",
        "        y_n[i]=2\n",
        "    if(y_list[i]==\"high\"):\n",
        "        y_n[i]=3\n",
        "print(\"3-level coding done.\")\n",
        "\n",
        "    "
      ]
    },
    {
      "cell_type": "code",
      "execution_count": null,
      "metadata": {
        "_cell_guid": "e6bf9c95-3b0a-136a-6b0a-c9f6b33aa394"
      },
      "outputs": [],
      "source": [
        "len(y_n)"
      ]
    },
    {
      "cell_type": "code",
      "execution_count": null,
      "metadata": {
        "_cell_guid": "af0ea047-3194-41e3-e35e-1d5a7a9c79c7"
      },
      "outputs": [],
      "source": [
        "y_n"
      ]
    },
    {
      "cell_type": "code",
      "execution_count": null,
      "metadata": {
        "_cell_guid": "c5b0622d-9baf-2221-2afe-a15b905f0a93"
      },
      "outputs": [],
      "source": [
        "y1"
      ]
    },
    {
      "cell_type": "code",
      "execution_count": null,
      "metadata": {
        "_cell_guid": "39b10d21-bca3-5e93-5f7f-2c8e60431e22"
      },
      "outputs": [],
      "source": [
        "y2"
      ]
    },
    {
      "cell_type": "code",
      "execution_count": null,
      "metadata": {
        "_cell_guid": "b5a608f7-ef92-5880-938f-588153ccbd8d"
      },
      "outputs": [],
      "source": [
        "y1 == y2"
      ]
    },
    {
      "cell_type": "code",
      "execution_count": null,
      "metadata": {
        "_cell_guid": "87c1668f-13b8-0caa-b6a1-ca1c7bfc4995"
      },
      "outputs": [],
      "source": [
        "y1_a = np.ravel(y1)\n",
        "y1_a"
      ]
    },
    {
      "cell_type": "code",
      "execution_count": null,
      "metadata": {
        "_cell_guid": "0d142efd-9649-d9f0-acb0-9441bbeff9bc"
      },
      "outputs": [],
      "source": [
        "y2_a = np.ravel(y2)\n",
        "y2_a"
      ]
    },
    {
      "cell_type": "code",
      "execution_count": null,
      "metadata": {
        "_cell_guid": "2f4407fc-12d0-9cee-ae42-c761da63daa1"
      },
      "outputs": [],
      "source": [
        "y_n_a = np.array(y_n)"
      ]
    },
    {
      "cell_type": "code",
      "execution_count": null,
      "metadata": {
        "_cell_guid": "2c665d1f-f007-f1b6-7b43-2388e95f7463"
      },
      "outputs": [],
      "source": [
        "import numpy as np\n",
        "import pandas as pd\n",
        "import statsmodels.api as sm\n",
        "import matplotlib.pyplot as plt\n",
        "from patsy import dmatrices\n",
        "from sklearn.linear_model import LogisticRegression\n",
        "from sklearn.cross_validation import train_test_split\n",
        "from sklearn import metrics\n",
        "from sklearn.cross_validation import cross_val_score\n",
        "\n",
        "#This function takes X_train, y_train to train a 3-classes logistic model\n",
        "#(so y_train must be a categorical response and take 3 values);\n",
        "#Then the logistic model is applied to X_test and gives the predicted probability for each row in X_test;\n",
        "def logistic_regression_3classes(X_train, y_train, X_test):\n",
        "    model_logistic = LogisticRegression(C=1.0, class_weight=None, dual=False, fit_intercept=True,\n",
        "          intercept_scaling=1, max_iter=400, multi_class='multinomial', n_jobs=1,\n",
        "          penalty='l2', random_state=None, solver='newton-cg', tol=0.0001,\n",
        "          verbose=0, warm_start=False)\n",
        "    model_logistic = model_logistic.fit(X_train, y_train)\n",
        "    prob_test = model_logistic.predict_proba(X_test)\n",
        "    return prob_test"
      ]
    },
    {
      "cell_type": "code",
      "execution_count": null,
      "metadata": {
        "_cell_guid": "36de7328-e793-9688-28ba-154486fb166f"
      },
      "outputs": [],
      "source": [
        "#model_logistic = LogisticRegression(C=1.0, class_weight=None, dual=False, fit_intercept=True,\n",
        "#          intercept_scaling=1, max_iter=400, multi_class='multinomial', n_jobs=1,\n",
        "#          penalty='l2', random_state=None, solver='newton-cg', tol=0.0001,\n",
        "#          verbose=0, warm_start=False)\n"
      ]
    },
    {
      "cell_type": "code",
      "execution_count": null,
      "metadata": {
        "_cell_guid": "bc6129a3-b8a3-e3df-c9d3-a0436a093d35"
      },
      "outputs": [],
      "source": [
        "#X.shape"
      ]
    },
    {
      "cell_type": "code",
      "execution_count": null,
      "metadata": {
        "_cell_guid": "105d0a9b-f21a-c0d5-c386-f81c6853c6de"
      },
      "outputs": [],
      "source": [
        "#y_n_a.shape"
      ]
    },
    {
      "cell_type": "code",
      "execution_count": null,
      "metadata": {
        "_cell_guid": "3f516669-6f66-fbda-9706-b9b7001f3c9f"
      },
      "outputs": [],
      "source": [
        "#model_logistic = model_logistic.fit(X, y_n_a)"
      ]
    },
    {
      "cell_type": "code",
      "execution_count": null,
      "metadata": {
        "_cell_guid": "6fa4900a-4f1d-0eeb-a5fc-db0217cc99e6"
      },
      "outputs": [],
      "source": [
        "prob_test = logistic_regression_3classes(X, y_n_a, X_test2)"
      ]
    },
    {
      "cell_type": "code",
      "execution_count": null,
      "metadata": {
        "_cell_guid": "17e1a499-2ec5-4d2c-a54f-22d5d43980de"
      },
      "outputs": [],
      "source": [
        "#prob_test = model_logistic.predict_proba(X_test2)"
      ]
    },
    {
      "cell_type": "code",
      "execution_count": null,
      "metadata": {
        "_cell_guid": "d4ea91da-ee47-aa06-fe7f-e068f6da1c84"
      },
      "outputs": [],
      "source": [
        "prob_test"
      ]
    },
    {
      "cell_type": "code",
      "execution_count": null,
      "metadata": {
        "_cell_guid": "4572cf94-d12d-50b2-0154-f5135a1fdf5d"
      },
      "outputs": [],
      "source": [
        "lst_id = X_test['listing_id']"
      ]
    },
    {
      "cell_type": "code",
      "execution_count": null,
      "metadata": {
        "_cell_guid": "e0e22464-efcb-da38-af40-c8c2f5df4787"
      },
      "outputs": [],
      "source": [
        "type(prob_test)"
      ]
    },
    {
      "cell_type": "code",
      "execution_count": null,
      "metadata": {
        "_cell_guid": "221674da-468e-5e54-cd85-6b1081a5c6d6"
      },
      "outputs": [],
      "source": [
        "type(lst_id)"
      ]
    },
    {
      "cell_type": "code",
      "execution_count": null,
      "metadata": {
        "_cell_guid": "c0624627-5258-4684-04c2-c33a7dc5fbf3"
      },
      "outputs": [],
      "source": [
        "p_d_t = np.vstack((lst_id, prob_test[:,2], prob_test[:,1], prob_test[:,0])).T"
      ]
    },
    {
      "cell_type": "code",
      "execution_count": null,
      "metadata": {
        "_cell_guid": "d81d597c-d970-e639-d5d9-d341663c7f9e"
      },
      "outputs": [],
      "source": [
        "type(p_d_t)"
      ]
    },
    {
      "cell_type": "code",
      "execution_count": null,
      "metadata": {
        "_cell_guid": "f5d71b02-b7bd-be33-c7ce-92962e01d6d7"
      },
      "outputs": [],
      "source": [
        "p_d_t"
      ]
    },
    {
      "cell_type": "code",
      "execution_count": null,
      "metadata": {
        "_cell_guid": "76d28795-2af9-b216-409c-df8f80989c04"
      },
      "outputs": [],
      "source": [
        "p_d_t = pd.DataFrame(p_d_t)"
      ]
    },
    {
      "cell_type": "code",
      "execution_count": null,
      "metadata": {
        "_cell_guid": "3c50dbf8-91cc-eeb1-8c86-b62542a811ed"
      },
      "outputs": [],
      "source": [
        "p_d_t[0]=p_d_t[0].astype(int)"
      ]
    },
    {
      "cell_type": "code",
      "execution_count": null,
      "metadata": {
        "_cell_guid": "7f35a078-c41d-bc94-9b80-58800568f776"
      },
      "outputs": [],
      "source": [
        "p_d_t"
      ]
    },
    {
      "cell_type": "code",
      "execution_count": null,
      "metadata": {
        "_cell_guid": "c6abaa0e-8b80-0029-9016-10027eb84a1a"
      },
      "outputs": [],
      "source": [
        "p_d_t.to_csv('./result0420b.csv', index=False)"
      ]
    }
  ],
  "metadata": {
    "_change_revision": 0,
    "_is_fork": false,
    "kernelspec": {
      "display_name": "Python 3",
      "language": "python",
      "name": "python3"
    },
    "language_info": {
      "codemirror_mode": {
        "name": "ipython",
        "version": 3
      },
      "file_extension": ".py",
      "mimetype": "text/x-python",
      "name": "python",
      "nbconvert_exporter": "python",
      "pygments_lexer": "ipython3",
      "version": "3.6.0"
    }
  },
  "nbformat": 4,
  "nbformat_minor": 0
}