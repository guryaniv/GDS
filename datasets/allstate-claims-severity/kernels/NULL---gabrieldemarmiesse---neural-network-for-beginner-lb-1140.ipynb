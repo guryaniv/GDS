{
  "cells": [
    {
      "cell_type": "markdown",
      "metadata": {
        "_cell_guid": "9bf53f62-5ce2-97cb-77dc-e9993c160867"
      },
      "source": [
        ""
      ]
    },
    {
      "cell_type": "code",
      "execution_count": null,
      "metadata": {
        "_cell_guid": "ac5fc26f-3973-d7b9-8cb2-dfd45bce7c47"
      },
      "outputs": [],
      "source": [
        "#\u00a0Importing the importations \n",
        "import pandas as pd\n",
        "import numpy as np\n",
        "#import dataframe as df\n",
        "import matplotlib.pyplot as plt\n",
        "from sklearn import preprocessing\n",
        "from sklearn import cross_validation\n",
        "from sklearn.ensemble import RandomForestClassifier\n",
        "from sklearn.preprocessing import OneHotEncoder\n",
        "from scipy import sparse\n",
        "from keras.regularizers import l2, l1\n",
        "from keras.models import load_model\n",
        "import os\n",
        "from keras.layers.advanced_activations import PReLU\n",
        "from keras.optimizers import *\n",
        "import keras\n",
        "from keras.layers import *\n",
        "from keras.models import Sequential\n",
        "\n",
        "# To see the training error in real time during training.\n",
        "#from keras import callbacks\n",
        "#remote = callbacks.RemoteMonitor(root='http://localhost:9000')"
      ]
    },
    {
      "cell_type": "code",
      "execution_count": null,
      "metadata": {
        "_cell_guid": "268b32eb-60d6-79f4-a9f6-17e36cb971af"
      },
      "outputs": [],
      "source": [
        "##\u00a0Reading the input data\n",
        "raw_data = pd.read_csv(\"../input/train.csv\",delimiter=\",\")\n",
        "raw_data_test = pd.read_csv(\"../input/test.csv\",delimiter=\",\")"
      ]
    },
    {
      "cell_type": "code",
      "execution_count": null,
      "metadata": {
        "_cell_guid": "c8a02fc5-8106-adae-46fe-3aa9712b2e59"
      },
      "outputs": [],
      "source": [
        "raw_data.head()"
      ]
    },
    {
      "cell_type": "markdown",
      "metadata": {
        "_cell_guid": "c09844cc-80c9-ca27-1c3f-0c5c2eeaae10"
      },
      "source": [
        "We add a column to the test set because it's easier to take care of in the preprocessing part."
      ]
    },
    {
      "cell_type": "code",
      "execution_count": null,
      "metadata": {
        "_cell_guid": "cb57f9c3-ba49-d009-9e42-01469f6f3caf"
      },
      "outputs": [],
      "source": [
        "raw_data_test[\"loss\"] = pd.Series([0]*len(raw_data_test))\n",
        "raw_data_test.head()"
      ]
    },
    {
      "cell_type": "markdown",
      "metadata": {
        "_cell_guid": "e64f1c44-1968-85e2-d56d-f8886811414f"
      },
      "source": [
        "One hot encoding mainly. If a unknown class is found, then it is replaced by the class with the most samples."
      ]
    },
    {
      "cell_type": "code",
      "execution_count": null,
      "metadata": {
        "_cell_guid": "95c6b83e-cceb-396d-30c0-1adbfdef7368"
      },
      "outputs": [],
      "source": [
        "class Preprocess:\n",
        "    \n",
        "    def __init__(self, dataset_to_fit):\n",
        "        self.encoder = []\n",
        "        self.onehot = OneHotEncoder()\n",
        "        self.maxloss = dataset_to_fit[\"loss\"].max()\n",
        "        for i, feature in enumerate(dataset_to_fit.columns):\n",
        "            if 'cat' in feature:\n",
        "                self.encoder.append(list(dataset_to_fit[feature].value_counts().index))\n",
        "                \n",
        "        temp_data = self.conversion1(dataset_to_fit)\n",
        "        \n",
        "        self.onehot.fit(temp_data[:,1:117])\n",
        "    \n",
        "\n",
        "    def conversion1(self,dataframe):\n",
        "        new_dataframe = pd.DataFrame()\n",
        "        \n",
        "        for i, feature in enumerate(dataframe.columns):\n",
        "            if 'cat' in feature:\n",
        "                new_dataframe[feature]=dataframe[feature].map(lambda x: self.convert(i,x))\n",
        "            else:\n",
        "                new_dataframe[feature] = dataframe[feature]\n",
        "        \n",
        "        return new_dataframe.as_matrix()\n",
        "    \n",
        "    def conversion2(self,array):\n",
        "        indexes = array[:,0]\n",
        "        cat = self.onehot.transform(array[:,1:117])\n",
        "        cont = array[:,117:-1]\n",
        "        loss = array[:,-1]\n",
        "                \n",
        "        return indexes, sparse.hstack((cont,cat)).toarray(), loss\n",
        "        \n",
        "    def convert(self,i,element):\n",
        "        _list = self.encoder[i-1]\n",
        "        try:\n",
        "            return _list.index(element)\n",
        "        except ValueError:\n",
        "            return 0\n",
        "    \n",
        "    \n",
        "    def convert_back(self,i,element):\n",
        "        return self.encoder[i-1][element]\n",
        "        \n",
        "        \n",
        "    def process(self,dataframe):\n",
        "        array = self.conversion1(dataframe)\n",
        "        indexes, features,loss = self.conversion2(array)\n",
        "        \n",
        "        #loss = loss/self.maxloss\n",
        "        \n",
        "        # Each one of them is a numpy array\n",
        "        return indexes, features, loss"
      ]
    },
    {
      "cell_type": "code",
      "execution_count": null,
      "metadata": {
        "_cell_guid": "48292155-54f0-08f2-7514-8679bd78833e"
      },
      "outputs": [],
      "source": [
        "prepro = Preprocess(raw_data)"
      ]
    },
    {
      "cell_type": "code",
      "execution_count": null,
      "metadata": {
        "_cell_guid": "197693d6-a532-c8cf-eb0d-66b0f6118ec0"
      },
      "outputs": [],
      "source": [
        "indexes, features,loss = prepro.process(raw_data)"
      ]
    },
    {
      "cell_type": "markdown",
      "metadata": {
        "_cell_guid": "54c9c4c8-fc53-8bda-8312-696d927859e9"
      },
      "source": [
        "The model. Quite simple."
      ]
    },
    {
      "cell_type": "code",
      "execution_count": null,
      "metadata": {
        "_cell_guid": "ccadecd6-01af-d206-b3e6-1c5bbfecf2b7"
      },
      "outputs": [],
      "source": [
        "model = Sequential()\n",
        "model.add(Dense(256,activation = \"relu\", W_regularizer = l2(.01), input_dim = 1153))\n",
        "model.add(Dense(128,activation = \"relu\", W_regularizer = l2(.01)))\n",
        "model.add(Dense(64,activation = \"relu\", W_regularizer = l2(.01)))\n",
        "model.add(Dense(32,activation = \"relu\", W_regularizer = l2(.01)))\n",
        "model.add(Dense(16,activation = \"relu\", W_regularizer = l2(.01)))\n",
        "model.add(Dense(1, init = 'he_normal'))"
      ]
    },
    {
      "cell_type": "code",
      "execution_count": null,
      "metadata": {
        "_cell_guid": "031be578-de53-8e0c-3a2e-a27bb7d80e44"
      },
      "outputs": [],
      "source": [
        "#sgd = SGD(lr=0.02, momentum=0.0, decay=0.03)\n",
        "adam = Adam(lr=0.01, beta_1=0.9, beta_2=0.999, epsilon=1e-08, decay=0.003)\n",
        "\n",
        "model.compile(optimizer=adam, loss='mae')"
      ]
    },
    {
      "cell_type": "markdown",
      "metadata": {
        "_cell_guid": "ee31a63b-6438-a07a-6f84-67624c496d55"
      },
      "source": [
        "The training takes 10 minutes on a gtx 970 for a score of 1135 on the lb. But it was manually stopped early so better results can be achived with a longer training time."
      ]
    },
    {
      "cell_type": "code",
      "execution_count": null,
      "metadata": {
        "_cell_guid": "d38c1952-b950-968a-9082-5bc5e61b5f2f"
      },
      "outputs": [],
      "source": [
        "try:\n",
        "    history = model.fit(features, loss, batch_size=64, nb_epoch=1, verbose=2, validation_split=0.1)\n",
        "except KeyboardInterrupt:\n",
        "    pass"
      ]
    },
    {
      "cell_type": "markdown",
      "metadata": {
        "_cell_guid": "f8895417-a01d-b693-ae5e-9326a1099135"
      },
      "source": [
        "Saving and loading."
      ]
    },
    {
      "cell_type": "code",
      "execution_count": null,
      "metadata": {
        "_cell_guid": "1ef500c6-7ab6-8eec-c88d-b839cfc7b026"
      },
      "outputs": [],
      "source": [
        "model.save(\"relu_regularizer.m5\")"
      ]
    },
    {
      "cell_type": "code",
      "execution_count": null,
      "metadata": {
        "_cell_guid": "9160b1da-2657-a00e-145f-45ebeb942e31"
      },
      "outputs": [],
      "source": [
        "model = load_model(\"relu_regularizer.m5\")"
      ]
    },
    {
      "cell_type": "markdown",
      "metadata": {
        "_cell_guid": "db905436-ff83-3cda-10ac-c44193f31cdd"
      },
      "source": [
        "Generate the submission."
      ]
    },
    {
      "cell_type": "code",
      "execution_count": null,
      "metadata": {
        "_cell_guid": "7b0e1b2d-6e68-be5d-27cf-5c375db9bd96"
      },
      "outputs": [],
      "source": [
        "indexes_test, features_test,loss_test = prepro.process(raw_data_test)"
      ]
    },
    {
      "cell_type": "code",
      "execution_count": null,
      "metadata": {
        "_cell_guid": "2ecce6dd-e06e-e441-8dcb-b5b96a3133f4"
      },
      "outputs": [],
      "source": [
        "losses_predicted = model.predict(features_test)"
      ]
    },
    {
      "cell_type": "code",
      "execution_count": null,
      "metadata": {
        "_cell_guid": "a308c628-d3b4-231f-ce84-153801f8bb4f"
      },
      "outputs": [],
      "source": [
        "indexes = list(indexes_test)\n",
        "indexes = [int(x) for x in indexes]"
      ]
    },
    {
      "cell_type": "code",
      "execution_count": null,
      "metadata": {
        "_cell_guid": "6099da18-6199-810c-1a94-800cf818a4a3"
      },
      "outputs": [],
      "source": [
        "loss_ = list(losses_predicted)\n",
        "loss_ = [x[0] for x in loss_]"
      ]
    },
    {
      "cell_type": "code",
      "execution_count": null,
      "metadata": {
        "_cell_guid": "0f9c6dfd-df16-86a9-d785-68a5fb0ab5e5"
      },
      "outputs": [],
      "source": [
        "submission_list = zip(indexes, loss_)"
      ]
    },
    {
      "cell_type": "code",
      "execution_count": null,
      "metadata": {
        "_cell_guid": "d5a03ff0-8f84-3ecf-58d8-91dac9c9198a"
      },
      "outputs": [],
      "source": [
        "submission_number = 0\n",
        "while os.path.isfile(\"submission_\" + str(submission_number) + \".csv\"):\n",
        "    submission_number += 1\n",
        "    \n",
        "    \n",
        "f = open(\"submission_\" + str(submission_number) + \".csv\", 'w')\n",
        "f.write(\"id,loss\\n\")\n",
        "for tup in submission_list:\n",
        "    f.write(str(tup[0]) + \",\" + str(tup[1]) + \"\\n\")\n",
        "f.close()\n",
        "    \n",
        "print(\"Submission file number \" + str(submission_number) + \" was created\")"
      ]
    },
    {
      "cell_type": "code",
      "execution_count": null,
      "metadata": {
        "_cell_guid": "aa616d39-6dcc-6729-44e9-8a5148a469ad",
        "collapsed": true
      },
      "outputs": [],
      "source": [
        ""
      ]
    }
  ],
  "metadata": {
    "_change_revision": 0,
    "_is_fork": false,
    "kernelspec": {
      "display_name": "Python 3",
      "language": "python",
      "name": "python3"
    },
    "language_info": {
      "codemirror_mode": {
        "name": "ipython",
        "version": 3
      },
      "file_extension": ".py",
      "mimetype": "text/x-python",
      "name": "python",
      "nbconvert_exporter": "python",
      "pygments_lexer": "ipython3",
      "version": "3.5.2"
    }
  },
  "nbformat": 4,
  "nbformat_minor": 0
}