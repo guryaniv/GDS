{
  "cells": [
    {
      "cell_type": "markdown",
      "metadata": {
        "_cell_guid": "eb58fafe-cd79-92d6-c154-f7b8a0dc0318"
      },
      "source": [
        "I am trying to find understand the credit card transactions data by exploratory data analysis.  Later, i want to find the relationships  and identify Fraud Transactions"
      ]
    },
    {
      "cell_type": "code",
      "execution_count": null,
      "metadata": {
        "_cell_guid": "c67a3e35-5ea6-d1b2-1dcb-387469a12359"
      },
      "outputs": [],
      "source": [
        "# This Python 3 environment comes with many helpful analytics libraries installed\n",
        "# It is defined by the kaggle/python docker image: https://github.com/kaggle/docker-python\n",
        "# For example, here's several helpful packages to load in \n",
        "\n",
        "import numpy as np # linear algebra\n",
        "import pandas as pd # data processing, CSV file I/O (e.g. pd.read_csv)\n",
        "import seaborn as sns # for intractve graphs\n",
        "# Input data files are available in the \"../input/\" directory.\n",
        "# For example, running this (by clicking run or pressing Shift+Enter) will list the files in the input directory\n",
        "\n",
        "from subprocess import check_output\n",
        "print(check_output([\"ls\", \"../input\"]).decode(\"utf8\"))\n",
        "\n",
        "# Any results you write to the current directory are saved as output."
      ]
    },
    {
      "cell_type": "code",
      "execution_count": null,
      "metadata": {
        "_cell_guid": "a9583df7-aae6-082b-da6f-12eabda2492e"
      },
      "outputs": [],
      "source": [
        "CreditTxData = pd.read_csv('../input/creditcard.csv')"
      ]
    },
    {
      "cell_type": "code",
      "execution_count": null,
      "metadata": {
        "_cell_guid": "b2076456-8b6a-87f4-a778-de5f851f16f2"
      },
      "outputs": [],
      "source": [
        "CreditTxData.shape"
      ]
    },
    {
      "cell_type": "code",
      "execution_count": null,
      "metadata": {
        "_cell_guid": "bd3e9e29-c935-ac5e-f2c9-55ac6c67ec5b"
      },
      "outputs": [],
      "source": [
        "CreditTxData.describe()"
      ]
    },
    {
      "cell_type": "code",
      "execution_count": null,
      "metadata": {
        "_cell_guid": "f70b8da1-c556-4cba-3374-e0966faa3523"
      },
      "outputs": [],
      "source": [
        "CreditTxData.head()"
      ]
    },
    {
      "cell_type": "code",
      "execution_count": null,
      "metadata": {
        "_cell_guid": "a4f162e1-f3a1-8a8b-6fdb-9cfc827af666"
      },
      "outputs": [],
      "source": [
        "CreditTxData.head().T"
      ]
    },
    {
      "cell_type": "code",
      "execution_count": null,
      "metadata": {
        "_cell_guid": "ef19aba3-3b6c-c78b-de53-6ba00c1e76c0"
      },
      "outputs": [],
      "source": [
        "CreditTxData.info()"
      ]
    },
    {
      "cell_type": "code",
      "execution_count": null,
      "metadata": {
        "_cell_guid": "cd2b25d8-eef2-4854-eaad-9fdb164bd271"
      },
      "outputs": [],
      "source": [
        "CreditTxData.isnull().sum()"
      ]
    },
    {
      "cell_type": "code",
      "execution_count": null,
      "metadata": {
        "_cell_guid": "02f84092-d806-bd76-1e7f-8c2ba17c8776"
      },
      "outputs": [],
      "source": [
        "CreditTxData.hist(bins=10,figsize=(9,7),grid=False);"
      ]
    },
    {
      "cell_type": "code",
      "execution_count": null,
      "metadata": {
        "_cell_guid": "cded5a41-997d-6add-4a75-78bf19c20efd"
      },
      "outputs": [],
      "source": [
        "len(CreditTxData[CreditTxData[\"Class\"]==0])"
      ]
    },
    {
      "cell_type": "code",
      "execution_count": null,
      "metadata": {
        "_cell_guid": "50077a64-39d5-c1f6-2dff-43f030372059"
      },
      "outputs": [],
      "source": [
        "CreditTxData['Class'].value_counts()"
      ]
    },
    {
      "cell_type": "code",
      "execution_count": null,
      "metadata": {
        "_cell_guid": "68448a28-fc8a-d843-d6c6-1deb52649cbc"
      },
      "outputs": [],
      "source": [
        "from sklearn.model_selection import train_test_split\n",
        "X_train, X_test, y_train, y_test = train_test_split(CreditTxData.drop('Class',axis=1), CreditTxData['Class'], test_size=0.30, random_state=100)"
      ]
    },
    {
      "cell_type": "markdown",
      "metadata": {
        "_cell_guid": "ad7ac713-4c60-a9c5-1063-dc6b91619797"
      },
      "source": [
        "Gaussian Naive Bayes"
      ]
    },
    {
      "cell_type": "code",
      "execution_count": null,
      "metadata": {
        "_cell_guid": "7e251e4f-8461-53aa-ca9d-ab7fa599467c"
      },
      "outputs": [],
      "source": [
        "from sklearn.naive_bayes import GaussianNB\n",
        "from sklearn.metrics import classification_report,accuracy_score, confusion_matrix, auc ,roc_curve\n",
        "clf = GaussianNB()\n",
        "clf.fit(X_train,y_train)\n",
        "GaussianNB(priors=None)\n",
        "y_prediction = clf.predict(X_test)\n",
        "print('accuracy %s' % accuracy_score(y_test, y_prediction))\n",
        "cm = confusion_matrix(y_test, y_prediction)\n",
        "print('confusion matrix\\n %s' % cm)\n",
        "clf_pf = GaussianNB()\n",
        "clf_pf.partial_fit(X_train,y_train, np.unique(y_train))\n",
        "GaussianNB(priors=None)\n",
        "y_prediction = clf.predict(X_test)\n",
        "print('accuracy %s' % accuracy_score(y_test, y_prediction))\n",
        "cm = confusion_matrix(y_test, y_prediction)\n",
        "print('confusion matrix\\n %s' % cm)"
      ]
    }
  ],
  "metadata": {
    "_change_revision": 0,
    "_is_fork": false,
    "kernelspec": {
      "display_name": "Python 3",
      "language": "python",
      "name": "python3"
    },
    "language_info": {
      "codemirror_mode": {
        "name": "ipython",
        "version": 3
      },
      "file_extension": ".py",
      "mimetype": "text/x-python",
      "name": "python",
      "nbconvert_exporter": "python",
      "pygments_lexer": "ipython3",
      "version": "3.6.0"
    }
  },
  "nbformat": 4,
  "nbformat_minor": 0
}