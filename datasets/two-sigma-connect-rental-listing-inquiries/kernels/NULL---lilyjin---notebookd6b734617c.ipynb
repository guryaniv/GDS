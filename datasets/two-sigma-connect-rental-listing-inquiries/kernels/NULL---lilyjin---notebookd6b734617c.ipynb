{
  "cells": [
    {
      "cell_type": "code",
      "execution_count": null,
      "metadata": {
        "_cell_guid": "2635c717-bcbe-4df6-f0de-7518c1243ed9"
      },
      "outputs": [],
      "source": [
        "# This Python 3 environment comes with many helpful analytics libraries installed\n",
        "# It is defined by the kaggle/python docker image: https://github.com/kaggle/docker-python\n",
        "# For example, here's several helpful packages to load in \n",
        "\n",
        "import numpy as np # linear algebra\n",
        "import pandas as pd # data processing, CSV file I/O (e.g. pd.read_csv)\n",
        "import xgboost as xgb\n",
        "from sklearn import model_selection\n",
        "from sklearn import metrics\n",
        "# Input data files are available in the \"../input/\" directory.\n",
        "# For example, running this (by clicking run or pressing Shift+Enter) will list the files in the input directory\n",
        "\n",
        "from subprocess import check_output\n",
        "print(check_output([\"ls\", \"../input\"]).decode(\"utf8\"))\n",
        "\n",
        "# Any results you write to the current directory are saved as output."
      ]
    },
    {
      "cell_type": "code",
      "execution_count": null,
      "metadata": {
        "_cell_guid": "0662a691-2a92-43dc-cf28-ccb559a1ef1e"
      },
      "outputs": [],
      "source": [
        "\n",
        "dftrain=pd.read_json('../input/train.json')\n"
      ]
    },
    {
      "cell_type": "code",
      "execution_count": null,
      "metadata": {
        "_cell_guid": "d02a9931-8523-d54e-9bcf-eda6b34b51b9"
      },
      "outputs": [],
      "source": [
        "# first rows of df\n",
        "dftrain.head()"
      ]
    },
    {
      "cell_type": "code",
      "execution_count": null,
      "metadata": {
        "_cell_guid": "2afb901d-5f64-3149-acac-0ccb5e1e1674"
      },
      "outputs": [],
      "source": [
        "#dftrain['features'].apply(pd.Series)\n",
        "allfeature=dftrain['features'].tolist()\n",
        "sum(allfeature,[])"
      ]
    },
    {
      "cell_type": "code",
      "execution_count": null,
      "metadata": {
        "_cell_guid": "854ab433-18ab-82e5-30f0-a34ba5b7317b"
      },
      "outputs": [],
      "source": [
        "# number of bathrooms with bedrooms\n",
        "dftrain.groupby(['bathrooms','bedrooms']).count()"
      ]
    },
    {
      "cell_type": "code",
      "execution_count": null,
      "metadata": {
        "_cell_guid": "2fe24006-7e14-3141-700e-8fc70e31393d"
      },
      "outputs": [],
      "source": [
        "# features columns count and flatten\n",
        "dffeatures=dftrain['features'].apply(pd.Series)\n",
        "dffstack=dffeatures.stack()\n",
        "dffstack.value_counts()\n",
        "feature_values=dffstack.values\n",
        "feature_unique=list(set(feature_values))\n",
        "print (feature_unique)"
      ]
    },
    {
      "cell_type": "code",
      "execution_count": null,
      "metadata": {
        "_cell_guid": "1b084f55-027e-d7f2-9013-30d3c3548bf6"
      },
      "outputs": [],
      "source": [
        "len(feature_unique)"
      ]
    },
    {
      "cell_type": "code",
      "execution_count": null,
      "metadata": {
        "_cell_guid": "b2522d13-ec03-dd9c-b578-ec520f701a28"
      },
      "outputs": [],
      "source": [
        "# add feature for photo number and feature number\n",
        "dftrain['photo number']=dftrain['photos'].apply(lambda x:len(x))\n",
        "dftrain['feature number']=dftrain['features'].apply(lambda x:len(x))\n"
      ]
    },
    {
      "cell_type": "code",
      "execution_count": null,
      "metadata": {
        "_cell_guid": "340735f1-e5c6-680d-324d-0068e9a5430b"
      },
      "outputs": [],
      "source": [
        "# replace target value with number\n",
        "dftrain['interest_level'].replace(['low','medium','high'],[0,1,2],inplace=True)"
      ]
    },
    {
      "cell_type": "code",
      "execution_count": null,
      "metadata": {
        "_cell_guid": "cc8103b9-3ef0-f102-b66b-8b3310224706"
      },
      "outputs": [],
      "source": [
        "# define a value for bed/bath\n",
        "def bedbath(bedno,bathno):\n",
        "    if bathno != 0:\n",
        "        number=bedno/bathno\n",
        "    else:\n",
        "        number=-1\n",
        "    return number\n",
        "    "
      ]
    },
    {
      "cell_type": "code",
      "execution_count": null,
      "metadata": {
        "_cell_guid": "9b65a1b4-5f5c-fa92-79e2-862d115acfdc"
      },
      "outputs": [],
      "source": [
        "# add feature bed/bath ratio\n",
        "dftrain['bedbathration']=dftrain.apply(lambda row: bedbath(row['bedrooms'],row['bathrooms']),axis=1)"
      ]
    },
    {
      "cell_type": "code",
      "execution_count": null,
      "metadata": {
        "_cell_guid": "f40d2d99-bdfb-e6b7-54a2-c11a1bb74e80"
      },
      "outputs": [],
      "source": [
        "# prepare dataset for training\n",
        "dftrain_use=dftrain.drop(['building_id','created','description','features','display_address','listing_id','photos','street_address'],axis=1)\n"
      ]
    },
    {
      "cell_type": "code",
      "execution_count": null,
      "metadata": {
        "_cell_guid": "138e2c13-aac6-11b0-03d3-2d511734fa2c"
      },
      "outputs": [],
      "source": [
        "dftrain_use=dftrain_use.reset_index()\n",
        "dftrain_use=dftrain_use.drop('index',axis=1)"
      ]
    },
    {
      "cell_type": "code",
      "execution_count": null,
      "metadata": {
        "_cell_guid": "56f501de-405b-20a8-7216-873d15f30fbd"
      },
      "outputs": [],
      "source": [
        "# cv for parameter search\n",
        "kf=model_selection.KFold(n_splits=5)\n",
        "for train_index,test_index in kf.split(dftrain_use):\n",
        "    train,test=dftrain_use.iloc[train_index],dftrain_use.iloc[test_index]\n",
        "    print (train_index)"
      ]
    },
    {
      "cell_type": "code",
      "execution_count": null,
      "metadata": {
        "_cell_guid": "9adc18c2-6e98-a75b-e924-c1fd090ebcb1"
      },
      "outputs": [],
      "source": ""
    },
    {
      "cell_type": "code",
      "execution_count": null,
      "metadata": {
        "_cell_guid": "b983931b-e680-4508-3411-fbc0bc305e93"
      },
      "outputs": [],
      "source": ""
    },
    {
      "cell_type": "code",
      "execution_count": null,
      "metadata": {
        "_cell_guid": "b4952bd2-c48e-b797-ca8d-c96133835840"
      },
      "outputs": [],
      "source": ""
    }
  ],
  "metadata": {
    "_change_revision": 0,
    "_is_fork": false,
    "kernelspec": {
      "display_name": "Python 3",
      "language": "python",
      "name": "python3"
    },
    "language_info": {
      "codemirror_mode": {
        "name": "ipython",
        "version": 3
      },
      "file_extension": ".py",
      "mimetype": "text/x-python",
      "name": "python",
      "nbconvert_exporter": "python",
      "pygments_lexer": "ipython3",
      "version": "3.6.0"
    }
  },
  "nbformat": 4,
  "nbformat_minor": 0
}