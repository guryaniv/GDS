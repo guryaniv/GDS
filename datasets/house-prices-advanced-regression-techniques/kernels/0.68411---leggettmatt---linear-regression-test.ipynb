{
  "cells": [
    {
      "cell_type": "markdown",
      "metadata": {
        "_cell_guid": "ee2f0194-4f08-6345-7a96-24db524fad20"
      },
      "source": [
        "This is a simple linear regression model"
      ]
    },
    {
      "cell_type": "code",
      "execution_count": null,
      "metadata": {
        "_cell_guid": "e682ce80-b3b2-e826-b1ad-1f2263079f04"
      },
      "outputs": [],
      "source": [
        "# This Python 3 environment comes with many helpful analytics libraries installed\n",
        "# It is defined by the kaggle/python docker image: https://github.com/kaggle/docker-python\n",
        "# For example, here's several helpful packages to load in \n",
        "\n",
        "import numpy as np # linear algebra\n",
        "import pandas as pd # data processing, CSV file I/O (e.g. pd.read_csv)\n",
        "import keras as k\n",
        "# Input data files are available in the \"../input/\" directory.\n",
        "# For example, running this (by clicking run or pressing Shift+Enter) will list the files in the input directory\n",
        "\n",
        "train_df = pd.read_csv('../input/train.csv', index_col='Id')\n",
        "test_df = pd.read_csv('../input/test.csv', index_col='Id')\n",
        "seed = 7\n",
        "np.random.seed(seed)\n",
        "master_df = pd.concat([train_df, test_df])"
      ]
    },
    {
      "cell_type": "code",
      "execution_count": null,
      "metadata": {
        "_cell_guid": "10fe00b4-ea2b-e928-4a99-9fb4a81cb6d7"
      },
      "outputs": [],
      "source": [
        "def _convert_multi_element_to_one_hot(series, master_series):\n",
        "    return_df = pd.DataFrame(series)\n",
        "    columns = master_series.dropna().drop_duplicates().values\n",
        "    for col in columns:\n",
        "        return_df[col] = series == col\n",
        "    return return_df[columns].astype(int)\n",
        "\n",
        "def _z_score(series, master_series):\n",
        "    std_dev = master_series.std()\n",
        "    mean = master_series.mean()\n",
        "    return ((series - mean) / std_dev).fillna(0)\n",
        "\n",
        "def parse_data(df, master_df, randomize=True, ignored_cols=['SalePrice']):\n",
        "    saved_data = []\n",
        "    for col in df.columns:\n",
        "        if col in ignored_cols:\n",
        "            saved_data.append(df[col])\n",
        "        elif df[col].dtype in [np.float64, np.int64]:\n",
        "            saved_data.append(_z_score(df[col], master_df[col]))\n",
        "        else:\n",
        "            saved_data.append(_convert_multi_element_to_one_hot(df[col], master_df[col]))\n",
        "    for i, data in enumerate(saved_data):\n",
        "        if i == 0:\n",
        "            parsed_df = pd.DataFrame(data)\n",
        "        else:\n",
        "            parsed_df = pd.merge(parsed_df, pd.DataFrame(data), left_index=True, right_index=True)\n",
        "    if randomize:\n",
        "        return parsed_df.reindex(np.random.permutation(parsed_df.index))\n",
        "    return parsed_df"
      ]
    },
    {
      "cell_type": "code",
      "execution_count": null,
      "metadata": {
        "_cell_guid": "4b3c63d0-1c71-f31a-7c49-0479d02d283a"
      },
      "outputs": [],
      "source": [
        "parsed_train = parse_data(train_df, master_df)\n",
        "parsed_test = parse_data(test_df, master_df, False)"
      ]
    },
    {
      "cell_type": "code",
      "execution_count": null,
      "metadata": {
        "_cell_guid": "1e88d23c-63cd-dcdf-acf5-7b12a1620b98"
      },
      "outputs": [],
      "source": [
        "train_cutoff = int(.95 * train_df['SalePrice'].count())\n",
        "train_x = parsed_train[0:train_cutoff].drop('SalePrice', 1)\n",
        "test_x = parsed_train[train_cutoff:].drop('SalePrice', 1)\n",
        "\n",
        "train_y = parsed_train[0:train_cutoff]['SalePrice'].values\n",
        "test_y = parsed_train[train_cutoff:]['SalePrice'].values"
      ]
    },
    {
      "cell_type": "code",
      "execution_count": null,
      "metadata": {
        "_cell_guid": "73dc829c-49ef-f296-4b4a-c83a27b86c8e"
      },
      "outputs": [],
      "source": [
        "from sklearn.linear_model import LinearRegression"
      ]
    },
    {
      "cell_type": "code",
      "execution_count": null,
      "metadata": {
        "_cell_guid": "0559b5ff-3aa1-cfd8-2395-ae9acdca6705"
      },
      "outputs": [],
      "source": [
        "model = LinearRegression(train_x.shape)\n",
        "model.fit(train_x, train_y)"
      ]
    },
    {
      "cell_type": "code",
      "execution_count": null,
      "metadata": {
        "_cell_guid": "05fe285a-fa55-e422-9a13-d0a675b2af49"
      },
      "outputs": [],
      "source": [
        "pred = model.predict(test_x)\n",
        "mean_y = train_y.mean()"
      ]
    },
    {
      "cell_type": "code",
      "execution_count": null,
      "metadata": {
        "_cell_guid": "0f0ce4c2-ab25-d345-8538-8a66860348d9"
      },
      "outputs": [],
      "source": [
        "from matplotlib import pyplot as plt\n",
        "plt.scatter(test_y, pred)\n",
        "plt.ylim(0 ,test_y.max())\n",
        "plt.xlim(0 ,test_y.max())"
      ]
    },
    {
      "cell_type": "code",
      "execution_count": null,
      "metadata": {
        "_cell_guid": "3f0e0639-881b-d989-6061-5f69065f3c4c"
      },
      "outputs": [],
      "source": [
        "submit_x = parsed_test.values"
      ]
    },
    {
      "cell_type": "code",
      "execution_count": null,
      "metadata": {
        "_cell_guid": "b9684160-b3f3-e3a8-f42c-cf7ebbb2f048"
      },
      "outputs": [],
      "source": [
        "prediction = model.predict(submit_x)"
      ]
    },
    {
      "cell_type": "code",
      "execution_count": null,
      "metadata": {
        "_cell_guid": "c5a32bbc-02a2-0223-c257-77e7b0d6eb1e"
      },
      "outputs": [],
      "source": [
        "mask = (prediction > max_y) | (prediction < 0)\n",
        "prediction[mask] = mean_y"
      ]
    },
    {
      "cell_type": "code",
      "execution_count": null,
      "metadata": {
        "_cell_guid": "94911ca1-1afd-575c-347a-dd5b697333dd"
      },
      "outputs": [],
      "source": [
        "parsed_test['SalePrice'] = prediction\n",
        "submit = parsed_test.reset_index()[['Id', 'SalePrice']]\n",
        "submit.to_csv('submission.csv', index=False)"
      ]
    }
  ],
  "metadata": {
    "_change_revision": 0,
    "_is_fork": false,
    "kernelspec": {
      "display_name": "Python 3",
      "language": "python",
      "name": "python3"
    },
    "language_info": {
      "codemirror_mode": {
        "name": "ipython",
        "version": 3
      },
      "file_extension": ".py",
      "mimetype": "text/x-python",
      "name": "python",
      "nbconvert_exporter": "python",
      "pygments_lexer": "ipython3",
      "version": "3.5.2"
    }
  },
  "nbformat": 4,
  "nbformat_minor": 0
}