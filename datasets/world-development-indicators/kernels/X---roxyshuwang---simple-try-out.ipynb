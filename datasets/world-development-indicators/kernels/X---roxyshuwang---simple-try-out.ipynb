{"cells":[
 {
  "cell_type": "code",
  "execution_count": null,
  "metadata": {
   "collapsed": false
  },
  "outputs": [],
  "source": "import numpy as np \nimport pandas as pd \nimport matplotlib.pyplot as plt\nimport seaborn as sns\nfrom pylab import fill_between\n\ncountry = pd.read_csv('../input/Country.csv')\ncountry_notes = pd.read_csv('../input/CountryNotes.csv')\nindicators = pd.read_csv('../input/Indicators.csv')\n"
 },
 {
  "cell_type": "code",
  "execution_count": null,
  "metadata": {
   "collapsed": false
  },
  "outputs": [],
  "source": "print(indicators.IndicatorName.unique())"
 }
],"metadata":{"kernelspec":{"display_name":"Python 3","language":"python","name":"python3"}}, "nbformat": 4, "nbformat_minor": 0}