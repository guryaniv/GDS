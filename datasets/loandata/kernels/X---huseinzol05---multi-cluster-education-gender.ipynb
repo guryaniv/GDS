{
  "cells": [
    {
      "cell_type": "markdown",
      "metadata": {
        "_cell_guid": "c65287d0-1326-8568-9454-eef0d345740d"
      },
      "source": [
        "## Import Dependencies\n",
        "matplotlib for drawing graph library based GTK\n",
        "\n",
        "scikit for Label encoder\n",
        "\n",
        "Here I will try to visualize the correlation between {loan_status, principal, terms, age, education, gender}"
      ]
    },
    {
      "cell_type": "code",
      "execution_count": null,
      "metadata": {
        "_cell_guid": "82a84763-e46f-d6be-e22b-dbde0a1c1700"
      },
      "outputs": [],
      "source": [
        "import matplotlib.pyplot as plt\n",
        "import pandas as pd\n",
        "import numpy as np\n",
        "\n",
        "# import seaborn for nice visualization, I am not very much like seaborn, too abstract\n",
        "import seaborn as sns\n",
        "\n",
        "# settings for matplotlib\n",
        "sns.set(style=\"whitegrid\", palette=\"muted\")\n",
        "current_palette = sns.color_palette()\n",
        "\n",
        "# change string into int\n",
        "from sklearn.preprocessing import LabelEncoder\n",
        "\n",
        "# standardize into unit-variance, each value divide by variance\n",
        "from sklearn.preprocessing import StandardScaler\n",
        "\n",
        "# 'spring' related data into low dimension\n",
        "from sklearn.manifold import TSNE\n",
        "\n",
        "xrange = range"
      ]
    },
    {
      "cell_type": "code",
      "execution_count": null,
      "metadata": {
        "_cell_guid": "1ada54dc-c3ba-5c81-acc5-c74791e0b88f"
      },
      "outputs": [],
      "source": [
        "dataset = pd.read_csv('../input/Loan payments data.csv')\n",
        "dataset.head()"
      ]
    },
    {
      "cell_type": "code",
      "execution_count": null,
      "metadata": {
        "_cell_guid": "00e9e178-7e71-2aec-9e7f-ea23de72adcf"
      },
      "outputs": [],
      "source": [
        "#remove ID, dates, past_due_days\n",
        "columns = ['Loan_ID', 'effective_date', 'due_date', 'paid_off_time', 'past_due_days']\n",
        "for i in columns:\n",
        "    del dataset[i]\n",
        "dataset.head()"
      ]
    },
    {
      "cell_type": "code",
      "execution_count": null,
      "metadata": {
        "_cell_guid": "75bb9956-65dc-189c-507f-6690e1d7c37f"
      },
      "outputs": [],
      "source": [
        "dataset_copy = dataset.copy()\n",
        "\n",
        "label_loan_status = np.unique(dataset.ix[:, 0].values)\n",
        "\n",
        "# change strings value into int, sorted by characters\n",
        "for i in xrange(dataset_copy.ix[:, :].shape[1]):\n",
        "    if str(type(dataset_copy.ix[0, i])).find('str') > 0:\n",
        "        dataset_copy.ix[:, i] = LabelEncoder().fit_transform(dataset_copy.ix[:, i])\n",
        "\n",
        "# first column as cluster classes\n",
        "Y = dataset_copy.ix[:, 0].values\n",
        "\n",
        "X = dataset_copy.ix[:, 1:].values\n",
        "\n",
        "X = StandardScaler().fit_transform(X)\n",
        "X = TSNE(n_components = 2).fit_transform(X)\n",
        "\n",
        "for no, _ in enumerate(np.unique(Y)):\n",
        "    plt.scatter(X[Y == no, 0], X[Y == no, 1], color = current_palette[no], label = label_loan_status[no])\n",
        "    \n",
        "plt.legend()\n",
        "plt.show()"
      ]
    },
    {
      "cell_type": "markdown",
      "metadata": {
        "_cell_guid": "a20f1bff-3341-5c88-5168-f8fa9b569be7"
      },
      "source": [
        "## Speak in general, there is no significant different between hyperparameters in term of {loan_status}"
      ]
    },
    {
      "cell_type": "markdown",
      "metadata": {
        "_cell_guid": "32626bf4-e7f3-e972-97e8-d0e9273afaed"
      },
      "source": [
        "Lets go deeper into visualization"
      ]
    },
    {
      "cell_type": "code",
      "execution_count": null,
      "metadata": {
        "_cell_guid": "8f7fa0da-700d-08b3-608e-357e2da488c1"
      },
      "outputs": [],
      "source": [
        "dataset_copy = dataset.copy()\n",
        "\n",
        "label_loan_status = np.unique(dataset.ix[:, 0].values)\n",
        "label_education = np.unique(dataset.ix[:, 4].values)\n",
        "\n",
        "columns = ['Principal', 'terms']\n",
        "\n",
        "for i in xrange(dataset_copy.ix[:, :].shape[1]):\n",
        "    if str(type(dataset_copy.ix[0, i])).find('str') > 0:\n",
        "        dataset_copy.ix[:, i] = LabelEncoder().fit_transform(dataset_copy.ix[:, i])\n",
        "\n",
        "fig = plt.figure(figsize=(10,15))\n",
        "\n",
        "Y = dataset['age'].ix[:].values\n",
        "\n",
        "labelset = dataset_copy['loan_status'].ix[:].values\n",
        "\n",
        "num = 1\n",
        "\n",
        "for i in xrange(len(label_education)):\n",
        "    for k in xrange(len(columns)):\n",
        "        \n",
        "        plt.subplot(len(label_education), len(columns), num)\n",
        "        \n",
        "        X = dataset_copy[columns[k]].ix[:].values\n",
        "        \n",
        "        X = X[dataset_copy['education'].ix[:].values == i]\n",
        "        \n",
        "        Y_in = Y[dataset_copy['education'].ix[:].values == i]\n",
        "           \n",
        "        labelset_filter = labelset[dataset_copy['education'].ix[:].values == i]\n",
        "        \n",
        "        for no, text in enumerate(label_loan_status):\n",
        "            plt.scatter(X[labelset_filter == no], Y_in[labelset_filter == no], label = text, color = current_palette[no])\n",
        "        \n",
        "        plt.legend()\n",
        "        plt.xlabel(columns[k])\n",
        "        plt.ylabel('Age')\n",
        "        plt.title(label_education[i])\n",
        "        \n",
        "        num += 1\n",
        "\n",
        "fig.tight_layout()        \n",
        "plt.show() "
      ]
    },
    {
      "cell_type": "markdown",
      "metadata": {
        "_cell_guid": "2021f2cf-590e-93db-0c07-8aae3a447db7"
      },
      "source": [
        "#### Oh no, what happen to Master and above graphs? That is mean, there are some empty data returned when array to find specific values"
      ]
    },
    {
      "cell_type": "markdown",
      "metadata": {
        "_cell_guid": "1621a176-0395-b312-f354-63d3dbd2fa45"
      },
      "source": [
        "Not let we scatter based on gender"
      ]
    },
    {
      "cell_type": "code",
      "execution_count": null,
      "metadata": {
        "_cell_guid": "076c0a3a-c207-87ea-8046-0b7209cfd8aa"
      },
      "outputs": [],
      "source": [
        "dataset_copy = dataset.copy()\n",
        "\n",
        "label_loan_status = np.unique(dataset.ix[:, 0].values)\n",
        "label_gender = np.unique(dataset.ix[:, 5].values)\n",
        "\n",
        "columns = ['Principal', 'terms']\n",
        "\n",
        "for i in xrange(dataset_copy.ix[:, :].shape[1]):\n",
        "    if str(type(dataset_copy.ix[0, i])).find('str') > 0:\n",
        "        dataset_copy.ix[:, i] = LabelEncoder().fit_transform(dataset_copy.ix[:, i])\n",
        "\n",
        "fig = plt.figure(figsize=(10,10))\n",
        "\n",
        "Y = dataset['age'].ix[:].values\n",
        "\n",
        "labelset = dataset_copy['loan_status'].ix[:].values\n",
        "\n",
        "num = 1\n",
        "\n",
        "for i in xrange(len(label_gender)):\n",
        "    for k in xrange(len(columns)):\n",
        "        \n",
        "        plt.subplot(len(label_gender), len(columns), num)\n",
        "        \n",
        "        X = dataset_copy[columns[k]].ix[:].values\n",
        "        \n",
        "        X = X[dataset_copy['Gender'].ix[:].values == i]\n",
        "        \n",
        "        Y_in = Y[dataset_copy['Gender'].ix[:].values == i]\n",
        "           \n",
        "        labelset_filter = labelset[dataset_copy['Gender'].ix[:].values == i]\n",
        "        \n",
        "        for no, text in enumerate(label_loan_status):\n",
        "            plt.scatter(X[labelset_filter == no], Y_in[labelset_filter == no], label = text, color = current_palette[no])\n",
        "        \n",
        "        plt.legend()\n",
        "        plt.xlabel(columns[k])\n",
        "        plt.ylabel('Age')\n",
        "        plt.title(label_education[i])\n",
        "        \n",
        "        num += 1\n",
        "\n",
        "fig.tight_layout()        \n",
        "plt.show() "
      ]
    }
  ],
  "metadata": {
    "_change_revision": 0,
    "_is_fork": false,
    "kernelspec": {
      "display_name": "Python 3",
      "language": "python",
      "name": "python3"
    },
    "language_info": {
      "codemirror_mode": {
        "name": "ipython",
        "version": 3
      },
      "file_extension": ".py",
      "mimetype": "text/x-python",
      "name": "python",
      "nbconvert_exporter": "python",
      "pygments_lexer": "ipython3",
      "version": "3.6.0"
    }
  },
  "nbformat": 4,
  "nbformat_minor": 0
}