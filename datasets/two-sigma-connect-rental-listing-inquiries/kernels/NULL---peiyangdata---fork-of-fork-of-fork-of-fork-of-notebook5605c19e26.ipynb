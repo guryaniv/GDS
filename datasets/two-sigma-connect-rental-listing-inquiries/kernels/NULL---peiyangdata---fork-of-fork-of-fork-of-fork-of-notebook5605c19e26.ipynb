{
  "metadata": {
    "kernelspec": {
      "display_name": "Python 3",
      "language": "python",
      "name": "python3"
    },
    "language_info": {
      "codemirror_mode": {
        "name": "ipython",
        "version": 3
      },
      "file_extension": ".py",
      "mimetype": "text/x-python",
      "name": "python",
      "nbconvert_exporter": "python",
      "pygments_lexer": "ipython3",
      "version": "3.6.0"
    }
  },
  "nbformat": 4,
  "nbformat_minor": 0,
  "cells": [
    {
      "cell_type": "code",
      "source": "# This Python 3 environment comes with many helpful analytics libraries installed\n# It is defined by the kaggle/python docker image: https://github.com/kaggle/docker-python\n# For example, here's several helpful packages to load in \n\nimport numpy as np # linear algebra\nimport pandas as pd # data processing, CSV file I/O (e.g. pd.read_csv)\n\n# Input data files are available in the \"../input/\" directory.\n# For example, running this (by clicking run or pressing Shift+Enter) will list the files in the input directory\n\nfrom subprocess import check_output\nprint(check_output([\"ls\", \"../input\"]).decode(\"utf8\"))\n\n# Any results you write to the current directory are saved as output.\n\nX_train = pd.read_json(\"../input/train.json\")\nX_test = pd.read_json(\"../input/test.json\")",
      "execution_count": 1,
      "outputs": [],
      "metadata": {
        "_cell_guid": "e7bfc9ec-8661-2822-5cce-c5133609940b",
        "_active": false
      },
      "execution_state": "idle"
    },
    {
      "cell_type": "code",
      "source": "\nX_train.head()",
      "execution_count": 2,
      "outputs": [],
      "metadata": {
        "_cell_guid": "5fefa87a-f21b-6b0f-8fc2-53ac10ae0f58",
        "_active": false
      },
      "execution_state": "idle"
    },
    {
      "cell_type": "code",
      "source": "X_train.shape",
      "execution_count": 3,
      "outputs": [],
      "metadata": {
        "_cell_guid": "be639177-edbc-e259-1296-7de0ad1f7d77",
        "_active": false
      },
      "execution_state": "idle"
    },
    {
      "cell_type": "code",
      "source": "X_test.head()",
      "execution_count": 4,
      "outputs": [],
      "metadata": {
        "_cell_guid": "ca71b1d0-a35c-2cca-b806-070e0ba78ea7",
        "_active": false
      },
      "execution_state": "idle"
    },
    {
      "cell_type": "code",
      "source": "X_test.shape",
      "execution_count": 5,
      "outputs": [],
      "metadata": {
        "_cell_guid": "87f63dad-400d-ab2e-dac7-12b318c00eb0",
        "_active": false
      },
      "execution_state": "idle"
    },
    {
      "cell_type": "code",
      "source": "sample=pd.read_csv(\"../input/sample_submission.csv\")",
      "execution_count": 6,
      "outputs": [],
      "metadata": {
        "_cell_guid": "519b0124-7011-522e-bb3a-9ead388a9725",
        "_active": false
      },
      "execution_state": "idle"
    },
    {
      "cell_type": "code",
      "source": "sample.head()",
      "execution_count": 7,
      "outputs": [],
      "metadata": {
        "_cell_guid": "4461fac3-d33f-1854-1f67-19d3db44562a",
        "_active": false
      },
      "execution_state": "idle"
    },
    {
      "cell_type": "code",
      "source": "print(check_output([\"ls\", \"../input/images_sample/\"]).decode(\"utf8\"))",
      "execution_count": 8,
      "outputs": [],
      "metadata": {
        "_cell_guid": "3e4b7e09-dc2e-f31c-cd29-54790ae9bd76",
        "_active": false
      },
      "execution_state": "idle"
    },
    {
      "cell_type": "code",
      "source": "import os\nimport subprocess as sub\nfrom os import listdir\nfrom os.path import isfile, join\nonlyfiles = [f for f in listdir('../input/images_sample/6811957/') if isfile(join('../input/images_sample/6811957/', f))]\nprint (onlyfiles)",
      "execution_count": 9,
      "outputs": [],
      "metadata": {
        "_cell_guid": "fe91519f-b71c-73d8-20d6-b63e422528cf",
        "_active": false
      },
      "execution_state": "idle"
    },
    {
      "cell_type": "code",
      "source": "import matplotlib.pyplot as plt\nimport matplotlib.image as mpimg\n%matplotlib inline\nimg=[]\nfor i in range (0,5):\n    img.append(mpimg.imread('../input/images_sample/6811957/'+onlyfiles[i]))\n    plt.imshow(img[i])\n    fig = plt.figure()\n    a=fig.add_subplot()\n    ",
      "execution_count": 10,
      "outputs": [],
      "metadata": {
        "_cell_guid": "dde39202-cf83-b592-e823-a3fcd74104bf",
        "_active": false
      },
      "execution_state": "idle"
    },
    {
      "cell_type": "code",
      "source": "\n\nX_train.dropna(subset = ['interest_level'])\nX_train.shape\nprint (X_train['interest_level'])",
      "execution_count": 11,
      "outputs": [],
      "metadata": {
        "_cell_guid": "6038e19c-efbc-e3e7-bce3-3a261c89446b",
        "_active": false
      },
      "execution_state": "idle"
    },
    {
      "cell_type": "code",
      "source": "\ngrouped = X_train.groupby(['interest_level'])\nprint (grouped.size())\n#probability\nprint (grouped.size()/len(X_train))",
      "execution_count": 12,
      "outputs": [],
      "metadata": {
        "_cell_guid": "0eab1073-405a-4013-9829-b75b17a9b1c4",
        "_active": false
      },
      "execution_state": "idle"
    },
    {
      "cell_type": "code",
      "source": "from sklearn.ensemble import RandomForestClassifier\nfrom sklearn.model_selection import train_test_split\nfrom sklearn.metrics import log_loss\n\nX_train[\"num_photos\"] = X_train[\"photos\"].apply(len)\nX_train[\"num_features\"] = X_train[\"features\"].apply(len)\nX_train[\"num_description_words\"] = X_train[\"description\"].apply(lambda x: len(x.split(\" \")))\nX_train[\"created\"] = pd.to_datetime(X_train[\"created\"])\nX_train[\"created_year\"] = X_train[\"created\"].dt.year\nX_train[\"created_month\"] = X_train[\"created\"].dt.month\nX_train[\"created_day\"] = X_train[\"created\"].dt.day\nnum_feats = [\"bathrooms\", \"bedrooms\", \"latitude\", \"longitude\", \"price\",\n             \"num_photos\", \"num_features\", \"num_description_words\",\n             \"created_year\", \"created_month\", \"created_day\"]\nX = X_train[num_feats]\ny = X_train[\"interest_level\"]\n\nX_train2, X_val, y_train2, y_val = train_test_split(X, y, test_size=0.3)",
      "execution_count": 13,
      "outputs": [],
      "metadata": {
        "_cell_guid": "e24a9eb6-3ebd-6fa4-c19b-123a4c9243fc",
        "_active": false
      },
      "execution_state": "idle"
    },
    {
      "cell_type": "code",
      "source": "\nX_test[\"num_photos\"] = X_test[\"photos\"].apply(len)\nX_test[\"num_features\"] = X_test[\"features\"].apply(len)\nX_test[\"num_description_words\"] = X_test[\"description\"].apply(lambda x: len(x.split(\" \")))\nX_test[\"created\"] = pd.to_datetime(X_test[\"created\"])\nX_test[\"created_year\"] = X_test[\"created\"].dt.year\nX_test[\"created_month\"] = X_test[\"created\"].dt.month\nX_test[\"created_day\"] = X_test[\"created\"].dt.day\nX_test2 = X_test[num_feats]",
      "execution_count": 14,
      "outputs": [],
      "metadata": {
        "_cell_guid": "10b255a0-0985-9f7d-d5cf-aa0eda9a2a9b",
        "_active": false
      },
      "execution_state": "idle"
    },
    {
      "cell_type": "code",
      "source": "# Train uncalibrated random forest classifier on whole train and validation\n# data and evaluate on test data\nrfmodel = RandomForestClassifier(n_estimators=300)\nrfmodel.fit(X_train2, y_train2)",
      "execution_count": 15,
      "outputs": [],
      "metadata": {
        "_cell_guid": "003de52e-4b46-c206-e231-8052ad543275",
        "_active": false
      },
      "execution_state": "idle"
    },
    {
      "cell_type": "code",
      "source": "y_val_pred = rfmodel.predict_proba(X_val)\nlog_loss(y_val, y_val_pred)",
      "execution_count": 16,
      "outputs": [],
      "metadata": {
        "_cell_guid": "426fac58-950d-d6ce-3fa5-277131a267d7",
        "_active": false
      },
      "execution_state": "idle"
    },
    {
      "cell_type": "code",
      "source": "#This time use all the train datasets to train model\nrfmodel2 = RandomForestClassifier(n_estimators=300)\nrfmodel2.fit(X, y)",
      "execution_count": 17,
      "outputs": [],
      "metadata": {
        "_cell_guid": "79cca2ad-c28c-6948-b320-2d7c85317a46",
        "_active": false
      },
      "execution_state": "idle"
    },
    {
      "cell_type": "code",
      "source": "y_test_pred = rfmodel2.predict_proba(X_test2)",
      "execution_count": 18,
      "outputs": [],
      "metadata": {
        "_cell_guid": "e0e69356-fe15-24b6-30f3-813dca435bb2",
        "_active": false
      },
      "execution_state": "idle"
    },
    {
      "cell_type": "code",
      "source": "y_test_pred",
      "execution_count": 19,
      "outputs": [],
      "metadata": {
        "_cell_guid": "67da7e62-e4fb-1548-7b58-bb1e69f2726b",
        "_active": false
      },
      "execution_state": "idle"
    },
    {
      "cell_type": "code",
      "source": null,
      "execution_count": 20,
      "outputs": [],
      "metadata": {
        "_cell_guid": "3535abb8-8b49-3688-f9c3-444042272b29",
        "_active": false
      },
      "execution_state": "idle"
    },
    {
      "cell_type": "code",
      "source": "X_train2.head()",
      "execution_count": 20,
      "outputs": [],
      "metadata": {
        "_cell_guid": "e2811755-00cc-56f4-77a0-437a4363ea66",
        "_active": false
      },
      "execution_state": "idle"
    },
    {
      "cell_type": "code",
      "source": "y.head()",
      "execution_count": 21,
      "outputs": [],
      "metadata": {
        "_cell_guid": "415c0657-9546-8f71-af97-3091d194f8f1",
        "_active": false
      },
      "execution_state": "idle"
    },
    {
      "cell_type": "code",
      "source": "y.head()\n\n\n    \n    ",
      "execution_count": 22,
      "outputs": [],
      "metadata": {
        "_cell_guid": "c5689a37-1d70-e4d8-99d6-8c6717bc1843",
        "_active": false
      },
      "execution_state": "idle"
    },
    {
      "cell_type": "code",
      "source": "type(y)",
      "execution_count": 23,
      "outputs": [],
      "metadata": {
        "_cell_guid": "d1d804fe-355a-5445-7004-aab618b3bf63",
        "_active": false
      },
      "execution_state": "idle"
    },
    {
      "cell_type": "code",
      "source": null,
      "execution_count": 24,
      "outputs": [],
      "metadata": {
        "_cell_guid": "969655e8-c4eb-50b1-e69d-8b0f7256162d",
        "_active": false
      },
      "execution_state": "idle"
    },
    {
      "cell_type": "code",
      "source": "length = len(y)\nlength",
      "execution_count": 24,
      "outputs": [],
      "metadata": {
        "_cell_guid": "bc365937-6df2-717e-6d55-1d8288947689",
        "_active": false
      },
      "execution_state": "idle"
    },
    {
      "cell_type": "code",
      "source": null,
      "execution_count": 25,
      "outputs": [],
      "metadata": {
        "_cell_guid": "bd75bf79-a4d3-4da3-ee75-2fcf10821730",
        "_active": false
      },
      "execution_state": "idle"
    },
    {
      "cell_type": "code",
      "source": "y1 = [0]*length\ny2 = [0]*length\n\ntype(y2)",
      "execution_count": 25,
      "outputs": [],
      "metadata": {
        "_cell_guid": "d8144bb3-d389-77e6-2e41-5af070289388",
        "_active": false
      },
      "execution_state": "idle"
    },
    {
      "cell_type": "code",
      "source": "len(y2) == length",
      "execution_count": 26,
      "outputs": [],
      "metadata": {
        "_cell_guid": "8c4844f9-00fe-868c-73af-84ab70be8c5c",
        "_active": false
      },
      "execution_state": "idle"
    },
    {
      "cell_type": "code",
      "source": "len(y1) == length",
      "execution_count": 27,
      "outputs": [],
      "metadata": {
        "_cell_guid": "3214fb1c-bbd1-0d20-1753-efa8aaed8590",
        "_active": false
      },
      "execution_state": "idle"
    },
    {
      "cell_type": "code",
      "source": "type(y)",
      "execution_count": 28,
      "outputs": [],
      "metadata": {
        "_cell_guid": "d58b191a-eb50-bac6-7095-3c8a51bd5caf",
        "_active": false
      },
      "execution_state": "idle"
    },
    {
      "cell_type": "code",
      "source": "y_list = y.tolist()\ntype(y_list)\ny_list",
      "execution_count": 29,
      "outputs": [],
      "metadata": {
        "_cell_guid": "e328590d-1fe9-0ff8-a2e1-63cc981eee71",
        "_active": false
      },
      "execution_state": "idle"
    },
    {
      "cell_type": "code",
      "source": "for i in range(0, length, 1):\n    if(y_list[i]==\"low\"):\n        print(\"low\")\n        y1[i] = 0\n        y2[i] = 0\n    if(y_list[i]==\"medium\"):\n        print(\"medium\")\n        y1[i] = 0\n        y2[i] = 1\n    if(y_list[i]==\"high\"):\n        print(\"high\")\n        y1[i] = 1\n        y2[i] = 0\nprint(\"Binary coding done.\")",
      "execution_count": 30,
      "outputs": [],
      "metadata": {
        "_cell_guid": "3ec140c8-c6dc-f1a9-be2d-02e787dc98b3",
        "_active": false
      },
      "execution_state": "idle"
    },
    {
      "cell_type": "code",
      "source": "y1",
      "execution_count": 31,
      "outputs": [],
      "metadata": {
        "_cell_guid": "fa23b9e5-c2d6-c83c-d513-b851c1488725",
        "_active": false
      },
      "execution_state": "idle"
    },
    {
      "cell_type": "code",
      "source": "y2",
      "execution_count": 32,
      "outputs": [],
      "metadata": {
        "_cell_guid": "00e96fad-5356-75cb-21e0-0116c25a1560",
        "_active": false
      },
      "execution_state": "idle"
    },
    {
      "cell_type": "code",
      "source": "y1 == y2",
      "execution_count": 33,
      "outputs": [],
      "metadata": {
        "_cell_guid": "3e88802b-e1d3-e62b-870e-004ccc9409a6",
        "_active": false
      },
      "execution_state": "idle"
    },
    {
      "cell_type": "code",
      "source": "y1_a = np.ravel(y1)\ny1_a",
      "execution_count": 34,
      "outputs": [],
      "metadata": {
        "_cell_guid": "88ae4c97-9aa5-244a-cd47-2bc90748f5ec",
        "_active": false
      },
      "execution_state": "idle"
    },
    {
      "cell_type": "code",
      "source": "y2_a = np.ravel(y2)\ny2_a",
      "execution_count": 35,
      "outputs": [],
      "metadata": {
        "_cell_guid": "40e67fca-8ca8-62b9-6125-847aef81e1cb",
        "_active": false
      },
      "execution_state": "idle"
    },
    {
      "cell_type": "code",
      "source": "import numpy as np\nimport pandas as pd\nimport statsmodels.api as sm\nimport matplotlib.pyplot as plt\nfrom patsy import dmatrices\nfrom sklearn.linear_model import LogisticRegression\nfrom sklearn.cross_validation import train_test_split\nfrom sklearn import metrics\nfrom sklearn.cross_validation import cross_val_score",
      "execution_count": 36,
      "outputs": [],
      "metadata": {
        "_cell_guid": "283d4dfe-d906-5951-4bef-b4814b734f28",
        "_active": false
      },
      "execution_state": "idle"
    },
    {
      "cell_type": "code",
      "source": "model1 = LogisticRegression()\nmodel1 = model1.fit(X, y1_a)\n\nmodel1.score(X, y1_a)",
      "execution_count": 37,
      "outputs": [],
      "metadata": {
        "_cell_guid": "59cb9a61-5f39-ce8e-4937-cb77002c4af8",
        "_active": false
      },
      "execution_state": "idle"
    },
    {
      "cell_type": "code",
      "source": "model2 = LogisticRegression()\nmodel2 = model2.fit(X, y2_a)\n\nmodel2.score(X, y2_a)",
      "execution_count": 38,
      "outputs": [],
      "metadata": {
        "_cell_guid": "1d7a81b9-6324-4569-46d6-a9bb746f25e4",
        "_active": false
      },
      "execution_state": "idle"
    },
    {
      "cell_type": "code",
      "source": "1-y1_a.mean()",
      "execution_count": 39,
      "outputs": [],
      "metadata": {
        "_cell_guid": "3b63f0d4-64c1-8750-a3a6-fa5f13052219",
        "_active": false
      },
      "execution_state": "idle"
    },
    {
      "cell_type": "code",
      "source": "1-y2_a.mean()",
      "execution_count": 40,
      "outputs": [],
      "metadata": {
        "_cell_guid": "69000e55-8690-971a-7a6a-e2a3c2601937",
        "_active": false
      },
      "execution_state": "idle"
    },
    {
      "cell_type": "code",
      "source": "model1",
      "execution_count": 41,
      "outputs": [],
      "metadata": {
        "_cell_guid": "8f95ea8b-1900-fdd1-2dd6-e0f2958fb650",
        "_active": false
      },
      "execution_state": "idle"
    },
    {
      "cell_type": "code",
      "source": "model2",
      "execution_count": 42,
      "outputs": [],
      "metadata": {
        "_cell_guid": "268e6155-f9ca-6dea-62e5-bb092af09a8d",
        "_active": false
      },
      "execution_state": "idle"
    },
    {
      "cell_type": "code",
      "source": "X_pyang1 = X.loc[range(9,11,1),:]\nX_pyang1",
      "execution_count": 43,
      "outputs": [],
      "metadata": {
        "_cell_guid": "3d02fc69-21aa-ae8c-417b-41b188adcd75",
        "_active": false
      },
      "execution_state": "idle"
    },
    {
      "cell_type": "code",
      "source": "probs1 = model1.predict_proba(X_pyang1)\nprobs1",
      "execution_count": 44,
      "outputs": [],
      "metadata": {
        "_cell_guid": "7965142e-84b0-848a-8e30-b9e4b61024b3",
        "_active": false
      },
      "execution_state": "idle"
    },
    {
      "cell_type": "code",
      "source": "probs2 = model2.predict_proba(X_pyang1)\nprobs2",
      "execution_count": 45,
      "outputs": [],
      "metadata": {
        "_cell_guid": "edd3764d-a9f2-8f5c-bd06-5a31189ef21b",
        "_active": false
      },
      "execution_state": "idle"
    },
    {
      "cell_type": "code",
      "source": "X_pyang2 = X.dropna()\nX_pyang2",
      "execution_count": 46,
      "outputs": [],
      "metadata": {
        "_cell_guid": "7faa05ca-dd23-ebf4-b245-01e4d7dcc2c4",
        "_active": false
      },
      "execution_state": "idle"
    },
    {
      "cell_type": "code",
      "source": "probs1_2 = model1.predict_proba(X_pyang2)\nprobs1_2",
      "execution_count": 47,
      "outputs": [],
      "metadata": {
        "_cell_guid": "0db938b7-67e0-5ff1-875b-ec53d2abbe32",
        "_active": false
      },
      "execution_state": "idle"
    },
    {
      "cell_type": "code",
      "source": "probs2_2 = model2.predict_proba(X_pyang2)\nprobs2_2",
      "execution_count": 48,
      "outputs": [],
      "metadata": {
        "_cell_guid": "ff24a833-802b-6d8b-8c9f-6290360f2e4f",
        "_active": false
      },
      "execution_state": "idle"
    },
    {
      "cell_type": "code",
      "source": "type(probs1_2)",
      "execution_count": 49,
      "outputs": [],
      "metadata": {
        "_cell_guid": "74b21fc3-fd01-047f-e40c-8b03e0b07839",
        "_active": false
      },
      "execution_state": "idle"
    },
    {
      "cell_type": "code",
      "source": "p1 = np.array(probs1_2)\np1.shape",
      "execution_count": 50,
      "outputs": [],
      "metadata": {
        "_cell_guid": "dd68fce7-3d81-60a0-8ed9-eb03cb1a9b3b",
        "_active": false
      },
      "execution_state": "idle"
    },
    {
      "cell_type": "code",
      "source": "xx = np.array(X)\nxx.shape",
      "execution_count": 51,
      "outputs": [],
      "metadata": {
        "_cell_guid": "a3d25946-7edb-f6c6-00ac-77d743f99cf1",
        "_active": false
      },
      "execution_state": "idle"
    },
    {
      "cell_type": "code",
      "source": "xxx = np.array(X_pyang2)\nxxx.shape",
      "execution_count": 52,
      "outputs": [],
      "metadata": {
        "_cell_guid": "d0ef5ee3-b091-bafe-d1df-fea50ca51e9f",
        "_active": false
      },
      "execution_state": "idle"
    },
    {
      "cell_type": "code",
      "source": "xx == xxx",
      "execution_count": 53,
      "outputs": [],
      "metadata": {
        "_cell_guid": "bbe238e9-5aa1-968e-9737-6b8f307298f1",
        "_active": false
      },
      "execution_state": "idle"
    },
    {
      "cell_type": "code",
      "source": null,
      "execution_count": 54,
      "outputs": [],
      "metadata": {
        "_cell_guid": "540743fe-d6cd-a6a1-0f1e-bf57195c72ee",
        "_active": false
      },
      "execution_state": "idle"
    },
    {
      "cell_type": "code",
      "source": "prob_high = p1[:,1]\nprob_high",
      "execution_count": 54,
      "outputs": [],
      "metadata": {
        "_cell_guid": "9f55b4d9-7b7f-5f90-ead3-a0643d6dead8",
        "_active": false
      },
      "execution_state": "idle"
    },
    {
      "cell_type": "code",
      "source": "p2 = np.array(probs2_2)\n\nprob_medium = p2[:,1]\n\nprob_medium",
      "execution_count": 55,
      "outputs": [],
      "metadata": {
        "_cell_guid": "1f1ec1cb-992b-45be-385c-a32a00403aca",
        "_active": false
      },
      "execution_state": "idle"
    },
    {
      "cell_type": "code",
      "source": "prob_low = 1 - prob_high - prob_medium\nprob_low",
      "execution_count": 56,
      "outputs": [],
      "metadata": {
        "_cell_guid": "1b28e1a0-76e3-643c-39ae-8269bced8006",
        "_active": false
      },
      "execution_state": "idle"
    },
    {
      "cell_type": "code",
      "source": "#check if prob_low has negative values\nN = len(prob_low)\n\ncount = 0\nfor i in range(0, N, 1):\n    if(prob_low[i])<0:\n        print(\"alert: negative probability detected!!\")\n        count += 1",
      "execution_count": 57,
      "outputs": [],
      "metadata": {
        "_cell_guid": "8abaefd4-27ae-ff67-5bab-5fc843a694c3",
        "_active": false
      },
      "execution_state": "idle"
    },
    {
      "cell_type": "code",
      "source": "print(count)",
      "execution_count": 58,
      "outputs": [],
      "metadata": {
        "_cell_guid": "d721f586-48f2-cb87-dc0e-f30590eec581",
        "_active": false
      },
      "execution_state": "idle"
    },
    {
      "cell_type": "code",
      "source": "# So 41 records will be \"both medium and high level interest\"\n# If this happens, can we just let prob(low)=0?\n\nprob_low_adjusted = prob_low\nprob_low_adjusted[prob_low_adjusted<0]=0\n\nfor i in range(0, N, 1):\n    if(prob_low_adjusted[i])<0:\n        print(\"alert: negative probability detected!!\")",
      "execution_count": 59,
      "outputs": [],
      "metadata": {
        "_cell_guid": "33116145-2ad6-b8db-1b09-3a6803b81a62",
        "_active": false
      },
      "execution_state": "idle"
    },
    {
      "cell_type": "code",
      "source": "# we have got prob_high, prob_medium, prob_low_adjusted\n# concatenate them\nprob_low.shape\nprob_medium.shape\nprob_high.shape\ndistribution_matrix = np.vstack((prob_low_adjusted, prob_medium, prob_high)).T\n\ndistribution_matrix",
      "execution_count": 60,
      "outputs": [],
      "metadata": {
        "_cell_guid": "fce6ae32-74d3-9b03-7ab9-767d2b4b7bc1",
        "_active": false
      },
      "execution_state": "idle"
    },
    {
      "cell_type": "code",
      "source": "prob_low_adjusted",
      "execution_count": 61,
      "outputs": [],
      "metadata": {
        "_cell_guid": "17a3da53-a945-5dc2-5386-8aa5d6345520",
        "_active": false
      },
      "execution_state": "idle"
    },
    {
      "cell_type": "code",
      "source": "model1",
      "execution_count": 62,
      "outputs": [],
      "metadata": {
        "_cell_guid": "a7205c09-a499-fe3a-d9d7-53f94baf8256",
        "_active": false
      },
      "execution_state": "idle"
    },
    {
      "cell_type": "code",
      "source": "model2",
      "execution_count": 63,
      "outputs": [],
      "metadata": {
        "_cell_guid": "b7deedc7-204d-36b2-ec92-89b68d2cee1d",
        "_active": false
      },
      "execution_state": "idle"
    },
    {
      "cell_type": "code",
      "source": "X_test.head()",
      "execution_count": 64,
      "outputs": [],
      "metadata": {
        "_cell_guid": "197a9332-9a2c-7e47-a502-906b745fe31a",
        "_active": false
      },
      "execution_state": "idle"
    },
    {
      "cell_type": "code",
      "source": "prob_high_test = model1.predict_proba(X_test2)\nprob_high_test",
      "execution_count": 65,
      "outputs": [],
      "metadata": {
        "_cell_guid": "70c912b4-7c29-4a84-2557-7c62ee41e414",
        "_active": false
      },
      "execution_state": "idle"
    },
    {
      "cell_type": "code",
      "source": "prob_medium_test = model2.predict_proba(X_test2)\nprob_medium_test",
      "execution_count": 66,
      "outputs": [],
      "metadata": {
        "_cell_guid": "87bf4942-7dd5-6b26-2807-f30ad0368429",
        "_active": false
      },
      "execution_state": "idle"
    },
    {
      "cell_type": "code",
      "source": "type(prob_high_test)",
      "execution_count": 67,
      "outputs": [],
      "metadata": {
        "_cell_guid": "57435819-37e6-88f7-2c68-ae7dd13a8afb",
        "_active": false
      },
      "execution_state": "idle"
    },
    {
      "cell_type": "code",
      "source": "p_high_test = np.array(prob_high_test)\np_medium_test = np.array(prob_medium_test)",
      "execution_count": 68,
      "outputs": [],
      "metadata": {
        "_cell_guid": "16c08f22-5c2b-6fee-c8dc-33a860d8d62a",
        "_active": false
      },
      "execution_state": "idle"
    },
    {
      "cell_type": "code",
      "source": "len(p_high_test)",
      "execution_count": 69,
      "outputs": [],
      "metadata": {
        "_cell_guid": "22728f33-0c02-2721-c1cf-6018a2e7e0dc",
        "_active": false
      },
      "execution_state": "idle"
    },
    {
      "cell_type": "code",
      "source": "len(X_test2)",
      "execution_count": 70,
      "outputs": [],
      "metadata": {
        "_cell_guid": "79bae81c-e303-97c1-c8cc-7034f41ed70e",
        "_active": false
      },
      "execution_state": "idle"
    },
    {
      "cell_type": "code",
      "source": "len(X_pyang2)",
      "execution_count": 71,
      "outputs": [],
      "metadata": {
        "_cell_guid": "c3e15593-8a8c-d966-8907-b92bd9695f46",
        "_active": false
      },
      "execution_state": "idle"
    },
    {
      "cell_type": "code",
      "source": "len(p_medium_test)",
      "execution_count": 72,
      "outputs": [],
      "metadata": {
        "_cell_guid": "b888ec69-b1cc-4aca-91e0-831a034080a7",
        "_active": false
      },
      "execution_state": "idle"
    },
    {
      "cell_type": "code",
      "source": "p_medium_test",
      "execution_count": 73,
      "outputs": [],
      "metadata": {
        "_cell_guid": "8b82d17d-29cf-1cd8-6045-ce2f3fca6e94",
        "_active": false
      },
      "execution_state": "idle"
    },
    {
      "cell_type": "code",
      "source": "p_h_test = p_high_test[:,1]\np_m_test = p_medium_test[:,1]",
      "execution_count": 74,
      "outputs": [],
      "metadata": {
        "_cell_guid": "e7b6a502-7103-261e-9f12-77072b228707",
        "_active": false
      },
      "execution_state": "idle"
    },
    {
      "cell_type": "code",
      "source": "len(p_h_test)",
      "execution_count": 75,
      "outputs": [],
      "metadata": {
        "_cell_guid": "04d04614-e194-50b8-39f9-c0a716b6dc33",
        "_active": false
      },
      "execution_state": "idle"
    },
    {
      "cell_type": "code",
      "source": "p_h_test.shape",
      "execution_count": 76,
      "outputs": [],
      "metadata": {
        "_cell_guid": "f0bbc184-7537-4ff6-ec39-782eb41cc4bf",
        "_active": false
      },
      "execution_state": "idle"
    },
    {
      "cell_type": "code",
      "source": "p_m_test.shape",
      "execution_count": 77,
      "outputs": [],
      "metadata": {
        "_cell_guid": "5853347e-2757-8dfe-61e6-19e9a80e6f04",
        "_active": false
      },
      "execution_state": "idle"
    },
    {
      "cell_type": "code",
      "source": "p_l_test = 1 - (p_h_test + p_m_test)",
      "execution_count": 78,
      "outputs": [],
      "metadata": {
        "_cell_guid": "f55cbb43-72ea-c6fa-cfe1-455e3790cbea",
        "_active": false
      },
      "execution_state": "idle"
    },
    {
      "cell_type": "code",
      "source": "for i in range(0, len(p_l_test), 1):\n    if(p_l_test[i]<0): print(\"negative prob detected!!\")",
      "execution_count": 79,
      "outputs": [],
      "metadata": {
        "_cell_guid": "2f46ac74-745c-5ba6-018c-12d270a16320",
        "_active": false
      },
      "execution_state": "idle"
    },
    {
      "cell_type": "code",
      "source": "p_l_test_adjusted = p_l_test\np_l_test_adjusted[p_l_test_adjusted<0]=0\n",
      "execution_count": 80,
      "outputs": [],
      "metadata": {
        "_cell_guid": "3b7f6ba8-259f-3002-191b-a2ce5211a72f",
        "_active": false
      },
      "execution_state": "idle"
    },
    {
      "cell_type": "code",
      "source": "for i in range(0, len(p_l_test_adjusted), 1):\n    if(p_l_test_adjusted[i]<0): print(\"negative prob detected!!\")",
      "execution_count": 81,
      "outputs": [],
      "metadata": {
        "_cell_guid": "0cc196a0-da66-6fb1-f511-e804a7a2e89a",
        "_active": false
      },
      "execution_state": "idle"
    },
    {
      "cell_type": "code",
      "source": "prob_distribution_test = np.vstack((p_l_test_adjusted, p_m_test, p_h_test)).T",
      "execution_count": 82,
      "outputs": [],
      "metadata": {
        "_cell_guid": "c8cf0885-c5d3-ba6c-6afb-03bd6ed45c50",
        "_active": false
      },
      "execution_state": "idle"
    },
    {
      "cell_type": "code",
      "source": "prob_distribution_test",
      "execution_count": 83,
      "outputs": [],
      "metadata": {
        "_cell_guid": "1de1ffe9-e491-f954-65cb-4305cea50b5a",
        "_active": false
      },
      "execution_state": "idle"
    },
    {
      "cell_type": "code",
      "source": "prob_distribution_test.shape",
      "execution_count": 84,
      "outputs": [],
      "metadata": {
        "_cell_guid": "5c94f767-c64c-1c58-f58f-6a37b6f8c326",
        "_active": false
      },
      "execution_state": "idle"
    },
    {
      "cell_type": "code",
      "source": "prob_distribution_test.tofile('C:\\999_peiyang_disk\\002_ds_project\\001_kaggle\\001_rental_listing_inquiry\\prediction_test.csv',sep=',',format='%10.5f')",
      "execution_count": 85,
      "outputs": [],
      "metadata": {
        "_cell_guid": "64612de5-4829-b545-330a-63d3e6632940",
        "_active": false
      },
      "execution_state": "idle"
    },
    {
      "metadata": {
        "_cell_guid": "76557b61-dc91-bbe5-7f5b-2237fe97f374",
        "_active": false,
        "collapsed": false
      },
      "source": "prob_dis_t = np.vstack((p_h_test, p_m_test, p_l_test)).T",
      "execution_count": 86,
      "cell_type": "code",
      "outputs": [],
      "execution_state": "idle"
    },
    {
      "metadata": {
        "_cell_guid": "2ca5fd06-d9a0-2c7d-c44c-750e07be8328",
        "_active": false,
        "collapsed": false
      },
      "source": "prob_dis_t",
      "execution_count": 87,
      "cell_type": "code",
      "outputs": [],
      "execution_state": "idle"
    },
    {
      "metadata": {
        "_cell_guid": "7727cf69-3179-1d15-6af3-c1f8fa7066b1",
        "_active": false,
        "collapsed": false
      },
      "source": "prob_dis_t.to_csv(\"result.csv\",inde=False)",
      "execution_count": 88,
      "cell_type": "code",
      "outputs": [],
      "execution_state": "idle"
    },
    {
      "metadata": {
        "_cell_guid": "ecccc72a-4a57-d0fb-0436-3691997a0752",
        "_active": false,
        "collapsed": false
      },
      "source": "type(prob_dis_t)",
      "execution_count": 89,
      "cell_type": "code",
      "outputs": [],
      "execution_state": "idle"
    },
    {
      "metadata": {
        "_cell_guid": "e969b4d2-fec8-f21c-7ee5-7ebb643dbebc",
        "_active": false,
        "collapsed": false
      },
      "source": "p_dis_t = pd.DataFrame(prob_dis_t)",
      "execution_count": 90,
      "cell_type": "code",
      "outputs": [],
      "execution_state": "idle"
    },
    {
      "metadata": {
        "_cell_guid": "945217f4-3d34-3695-98ff-d49f4c96a72b",
        "_active": false,
        "collapsed": false
      },
      "source": "type(p_dis_t)",
      "execution_count": 91,
      "cell_type": "code",
      "outputs": [],
      "execution_state": "idle"
    },
    {
      "metadata": {
        "_cell_guid": "2f0a76a4-97d6-bd34-e965-de830e5f3665",
        "_active": false,
        "collapsed": false
      },
      "source": "p_dis_t.to_csv(\"result.csv\", index=True)",
      "execution_count": 92,
      "cell_type": "code",
      "outputs": [],
      "execution_state": "idle"
    },
    {
      "metadata": {
        "_cell_guid": "0225343f-b0d9-9864-7ff6-501b2540a5ae",
        "_active": false,
        "collapsed": false
      },
      "source": "X_test.head()",
      "execution_count": 95,
      "cell_type": "code",
      "outputs": [],
      "execution_state": "idle"
    },
    {
      "metadata": {
        "_cell_guid": "3313fa57-464d-d6ec-860d-5dbf284b9f96",
        "_active": false,
        "collapsed": false
      },
      "source": "type(X_test)",
      "execution_count": 96,
      "cell_type": "code",
      "outputs": [],
      "execution_state": "idle"
    },
    {
      "metadata": {
        "_cell_guid": "87a7c463-3c39-223e-3025-010af26b54a2",
        "_active": false,
        "collapsed": false
      },
      "source": "listing_id = X_test['listing_id']",
      "execution_count": 100,
      "cell_type": "code",
      "outputs": [],
      "execution_state": "idle"
    },
    {
      "metadata": {
        "_cell_guid": "2d160703-2f03-729a-4a2e-9622105e9443",
        "_active": false,
        "collapsed": false
      },
      "source": "type(listing_id)",
      "execution_count": 101,
      "cell_type": "code",
      "outputs": [],
      "execution_state": "idle"
    },
    {
      "metadata": {
        "_cell_guid": "3c507946-d074-dec9-c158-5343e6211ec4",
        "_active": false,
        "collapsed": false
      },
      "source": "lst_id = np.array(listing_id)",
      "execution_count": 102,
      "cell_type": "code",
      "outputs": [],
      "execution_state": "idle"
    },
    {
      "metadata": {
        "_cell_guid": "659c382f-7040-b111-405f-34300ef4dc0f",
        "_active": false,
        "collapsed": false
      },
      "source": "lst_id",
      "execution_count": 103,
      "cell_type": "code",
      "outputs": [],
      "execution_state": "idle"
    },
    {
      "metadata": {
        "_cell_guid": "d86e6908-d801-bfef-cfd9-115c4ce4dfe4",
        "_active": false,
        "collapsed": false
      },
      "source": "lst_id.shape",
      "execution_count": 105,
      "cell_type": "code",
      "outputs": [],
      "execution_state": "idle"
    },
    {
      "metadata": {
        "_cell_guid": "22a009b2-f02d-8004-06a6-d61d50b47f3f",
        "_active": false,
        "collapsed": false
      },
      "source": "prob_dis_t = np.vstack((lst_id, p_h_test, p_m_test, p_l_test)).T",
      "execution_count": 106,
      "cell_type": "code",
      "outputs": [],
      "execution_state": "idle"
    },
    {
      "metadata": {
        "_cell_guid": "6da51718-6045-8acd-d802-a102874b6cc6",
        "_active": false,
        "collapsed": false
      },
      "source": "prob_dis_t",
      "execution_count": 107,
      "cell_type": "code",
      "outputs": [],
      "execution_state": "idle"
    },
    {
      "metadata": {
        "_cell_guid": "88938d99-ef39-035e-e04a-98f28fc95226",
        "_active": false,
        "collapsed": false
      },
      "source": "prob_dis_t.shape",
      "execution_count": 108,
      "cell_type": "code",
      "outputs": [],
      "execution_state": "idle"
    },
    {
      "metadata": {
        "_cell_guid": "e8d29e9b-5f2e-b225-1f7b-fc799b4e29bd",
        "_active": false,
        "collapsed": false
      },
      "source": "p_d_t = pd.DataFrame(prob_dis_t)",
      "execution_count": 109,
      "cell_type": "code",
      "outputs": [],
      "execution_state": "idle"
    },
    {
      "metadata": {
        "_cell_guid": "42606576-8513-8c22-f866-2d00dc755039",
        "_active": false,
        "collapsed": false
      },
      "source": "p_d_t",
      "execution_count": 110,
      "cell_type": "code",
      "outputs": [],
      "execution_state": "idle"
    },
    {
      "metadata": {
        "_cell_guid": "8b49715a-542f-e1e5-1486-23d05ce455cf",
        "_active": true,
        "collapsed": false
      },
      "source": "p_d_t.to_csv('final_result.csv', index = False)",
      "execution_count": 112,
      "cell_type": "code",
      "outputs": [],
      "execution_state": "idle"
    }
  ]
}