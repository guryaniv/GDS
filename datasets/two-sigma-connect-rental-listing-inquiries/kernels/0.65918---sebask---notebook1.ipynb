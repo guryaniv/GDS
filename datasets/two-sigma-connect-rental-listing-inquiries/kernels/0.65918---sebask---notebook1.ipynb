{
  "cells": [
    {
      "cell_type": "code",
      "execution_count": null,
      "metadata": {
        "_cell_guid": "3b68b2bb-11ff-c80c-cf21-7d4c85eeb429"
      },
      "outputs": [],
      "source": [
        "import numpy as np # linear algebra\n",
        "import pandas as pd # data processing, CSV file I/O (e.g. pd.read_csv)\n",
        "import matplotlib.pyplot as plt\n",
        "import seaborn as sns\n",
        "from subprocess import check_output\n",
        "\n",
        "# Load and describe data\n",
        "# print(check_output([\"ls\", \"../input\"]).decode(\"utf8\"))\n",
        "df = pd.read_json(open(\"../input/train.json\", \"r\"))\n",
        "df['n_photos'] = df['photos'].apply(len)\n",
        "df['n_features'] = df['features'].apply(len)\n",
        "df['ilevel_categ'] = df['interest_level'].map({'low': 1, 'medium': 2, 'high': 3})\n",
        "df[\"n_description_words\"] = df[\"description\"].apply(lambda x: len(x.split(\" \")))\n",
        "df.info()"
      ]
    },
    {
      "cell_type": "code",
      "execution_count": null,
      "metadata": {
        "_cell_guid": "ce327bcb-2586-2aab-9701-20825cd759cc"
      },
      "outputs": [],
      "source": [
        "from sklearn.ensemble import RandomForestClassifier\n",
        "from sklearn import metrics\n",
        "\n",
        "# extract target variable (interest categories)\n",
        "dfY = df['ilevel_categ'].copy()\n",
        "del df['ilevel_categ']\n",
        "# extract numerical features\n",
        "numerics = ['int16', 'int32', 'int64', 'float16', 'float32', 'float64']\n",
        "dfX = df.select_dtypes(include=numerics)\n",
        "# delete listing id because we dont know what it means\n",
        "del dfX['listing_id']\n",
        "\n",
        "# train random forest model \n",
        "clf = RandomForestClassifier(n_estimators = 1000)\n",
        "clf.fit(dfX, dfY)\n",
        "\n",
        "# Let the model tell us the important features and plot it\n",
        "importances = clf.feature_importances_\n",
        "display = pd.DataFrame(dfX.columns,columns=['Feature'])\n",
        "display['Importance'] = importances\n",
        "print(display)\n",
        "indices = np.argsort(importances)[::-1]\n",
        "std = np.std([tree.feature_importances_ for tree in clf.estimators_], axis=0)\n",
        "plt.figure()\n",
        "plt.title(\"Feature importances\")\n",
        "plt.bar(range(dfX.shape[1]), importances[indices],\n",
        "       color=\"royalblue\", yerr=std[indices], align=\"center\")\n",
        "plt.xticks(range(dfX.shape[1]), indices)\n",
        "plt.xlim([-1, dfX.shape[1]])\n",
        "plt.show()"
      ]
    },
    {
      "cell_type": "code",
      "execution_count": null,
      "metadata": {
        "_cell_guid": "b027b3ae-eb0d-652d-2ad5-7009e1fec529"
      },
      "outputs": [],
      "source": [
        "# View correlation matrix\n",
        "corr = dfX.corr()\n",
        "\n",
        "# Generate a mask for the upper triangle\n",
        "mask = np.zeros_like(corr, dtype=np.bool)\n",
        "mask[np.triu_indices_from(mask)] = True\n",
        "\n",
        "# Set up the matplotlib figure\n",
        "f, ax = plt.subplots(figsize=(11, 9))\n",
        "\n",
        "# Generate a custom diverging colormap\n",
        "cmap = sns.diverging_palette(10, 220, as_cmap=True)\n",
        "\n",
        "# Draw the heatmap with the mask and correct aspect ratio\n",
        "sns.heatmap(corr, mask=mask, cmap=cmap, vmax=.3,\n",
        "            square=True, xticklabels=True, yticklabels=True,\n",
        "            linewidths=.5, cbar_kws={\"shrink\": .5}, ax=ax)\n",
        "plt.title('Correlation Matrix for Appointment Data')"
      ]
    },
    {
      "cell_type": "markdown",
      "metadata": {
        "_cell_guid": "ca8ff1eb-8054-271d-e778-375b15d7d381"
      },
      "source": [
        "**In summary, price, location and the quantity of advertisement materials are ranked as the most important predictors by the RandomForest model.**  The correlation matrix would indicate that the covariance of bathrooms and bedrooms might mean we could incorporate only one of them into our model, or collapse them into a new feature.  "
      ]
    },
    {
      "cell_type": "markdown",
      "metadata": {
        "_cell_guid": "9c5254cb-92c9-7395-fd09-87f3a7de1139"
      },
      "source": [
        "**Brainstorm, future directions**\n",
        "\n",
        " - The ratio of rooms to bathrooms might be an interesting feature.\n",
        " - Previous kernels have created a sentiment (+/-) for the listing.\n",
        " - Location relative to a nearby subway station would be an interesting feature.\n",
        " - Location relative to a nearby school might be another feature of interest.\n",
        " - Clustering could be used to find neighborhoods, with hues for interest level\n"
      ]
    },
    {
      "cell_type": "code",
      "execution_count": null,
      "metadata": {
        "_cell_guid": "910b83c2-b389-13e9-6d70-131d44c695e9"
      },
      "outputs": [],
      "source": [
        "# Load and wrangle test data\n",
        "test = pd.read_json(open(\"../input/test.json\", \"r\"))\n",
        "test['n_photos'] = test['photos'].apply(len)\n",
        "test['n_features'] = test['features'].apply(len)\n",
        "test[\"n_description_words\"] = test[\"description\"].apply(lambda x: len(x.split(\" \")))\n",
        "# numerics only\n",
        "numerics = ['int16', 'int32', 'int64', 'float16', 'float32', 'float64']\n",
        "testX = test.select_dtypes(include=numerics)\n",
        "listing_id = testX['listing_id'].copy()\n",
        "del testX['listing_id']\n",
        "predictions = clf.predict_proba(testX)\n",
        "submission = pd.DataFrame(index=listing_id)\n",
        "submission['high'] = predictions[:,2]\n",
        "submission['medium'] = predictions[:,1]\n",
        "submission['low'] = predictions[:,0]\n",
        "submission.to_csv('submission1.csv')"
      ]
    }
  ],
  "metadata": {
    "_change_revision": 0,
    "_is_fork": false,
    "kernelspec": {
      "display_name": "Python 3",
      "language": "python",
      "name": "python3"
    },
    "language_info": {
      "codemirror_mode": {
        "name": "ipython",
        "version": 3
      },
      "file_extension": ".py",
      "mimetype": "text/x-python",
      "name": "python",
      "nbconvert_exporter": "python",
      "pygments_lexer": "ipython3",
      "version": "3.6.0"
    }
  },
  "nbformat": 4,
  "nbformat_minor": 0
}