{
  "cells": [
    {
      "cell_type": "markdown",
      "metadata": {
        "_cell_guid": "6c135cc4-6f2e-f4ad-8463-0a72b8c2618a"
      },
      "source": [
        "Hey! This is a simple Random Forest Classifier with tuned hyperparameters. I've used just the features provided by Kaggle. I haven't used the images at all.  Hope it helps!"
      ]
    },
    {
      "cell_type": "code",
      "execution_count": null,
      "metadata": {
        "_cell_guid": "7fa1cb44-ded6-c341-ecfe-67a30a1e0f13"
      },
      "outputs": [],
      "source": [
        "import pandas as pd\n",
        "from sklearn.preprocessing import StandardScaler\n",
        "from sklearn.model_selection import StratifiedKFold\n",
        "from sklearn.ensemble import RandomForestClassifier\n",
        "from sklearn.model_selection import GridSearchCV\n",
        "\n",
        "#loading train data \n",
        "train = pd.read_csv('../input/train.csv')\n",
        "test = pd.read_csv('../input/test.csv')"
      ]
    },
    {
      "cell_type": "code",
      "execution_count": null,
      "metadata": {
        "_cell_guid": "91085f99-132d-88a3-3167-80f599408260"
      },
      "outputs": [],
      "source": [
        "#Creating X and y for train data\n",
        "X_train = train.drop(['id','species'], axis = 1)\n",
        "y_train = train['species']\n",
        "\n",
        "#Creating X for test data\n",
        "X_test = test.drop(['id'], axis = 1)\n",
        "\n",
        "#scaling X for train data---> all data in unit variance\n",
        "scaler_train = StandardScaler().fit(X_train)\n",
        "scaled_train = scaler_train.transform(X_train)\n",
        "X_train = pd.DataFrame(scaled_train,columns = X_train.columns)\n",
        "\n",
        "#scaling X for test data---> all data in unit variance\n",
        "scaler_test = StandardScaler().fit(X_test)\n",
        "scaled_test = scaler_test.transform(X_test)\n",
        "X_test = pd.DataFrame(scaled_test,columns = X_test.columns)"
      ]
    },
    {
      "cell_type": "code",
      "execution_count": null,
      "metadata": {
        "_cell_guid": "9a87ca52-376a-abbf-9e16-e9b4bf33f34f"
      },
      "outputs": [],
      "source": [
        "# initializing Random Forest \n",
        "RFmodel =  RandomForestClassifier(n_estimators = 500, criterion = 'gini',\\\n",
        "                                  max_features = 'sqrt' , max_depth = 50, \\\n",
        "                                  n_jobs= -1, random_state=3)\n",
        "\n",
        "# initializing Stratified K-Fold\n",
        "SKF= StratifiedKFold(n_splits=5, shuffle=False, random_state=3)"
      ]
    },
    {
      "cell_type": "code",
      "execution_count": null,
      "metadata": {
        "_cell_guid": "9a4d32b0-e567-5323-8918-b9b0a09fe77e"
      },
      "outputs": [],
      "source": [
        "# SKF.split() splits data into train/test sets and returns train/test indices of each set \n",
        "# We're going to loop through all the train/test sets and run random forest\n",
        "# We'll print out the accuracy of each train/test set\n",
        "\n",
        "\n",
        "for train_skf_index,test_skf_index in SKF.split(X_train.values, y_train.values):\n",
        "    \n",
        "    #data which we will use to fit the model\n",
        "    X_cv_fit = X_train.values[train_skf_index]\n",
        "    y_cv_fit = y_train.values[train_skf_index]\n",
        "    \n",
        "    #data which we will use to score the model\n",
        "    X_cv_score = X_train.values[test_skf_index]\n",
        "    y_cv_score = y_train.values[test_skf_index]\n",
        "    \n",
        "    #printing score\n",
        "    print (RFmodel.fit(X_cv_fit,y_cv_fit).score(X_cv_score,y_cv_score))"
      ]
    },
    {
      "cell_type": "code",
      "execution_count": null,
      "metadata": {
        "_cell_guid": "4d6eb151-e262-474a-6e0d-845a4d8bedde"
      },
      "outputs": [],
      "source": [
        "# Finding hyperparameters for Random Forest using GridSearchCV\n",
        "\n",
        "#setting the parameters we want to test\n",
        "params = { 'n_estimators' : [50,100,200,500,800],'max_depth' : [20,50,100,200] }\n",
        "\n",
        "#finding best hyperparameters with cross-validation\n",
        "gsearch = GridSearchCV(estimator =  RFmodel, param_grid = params, scoring='neg_log_loss', n_jobs=1, refit=True, cv=5)\n",
        "gsearch.fit(X_train,y_train)\n",
        "gsearch.best_score_,gsearch.best_params_"
      ]
    },
    {
      "cell_type": "code",
      "execution_count": null,
      "metadata": {
        "_cell_guid": "735cebdc-722f-a62d-574e-a5dd6456d983"
      },
      "outputs": [],
      "source": [
        "#predicting the probabilities for each class\n",
        "pred = pd.DataFrame(RFmodel.fit(X_train,y_train).predict_proba(X_test), columns = RFmodel.classes_)\n",
        "\n",
        "#saving file for submission\n",
        "pd.DataFrame(pd.read_csv('../input/test.csv')['id']).join(pred).to_csv('submission.csv', index= False)"
      ]
    },
    {
      "cell_type": "code",
      "execution_count": null,
      "metadata": {
        "_cell_guid": "86a1ff92-7d54-1bc7-8604-08fc4c7bd448"
      },
      "outputs": [],
      "source": ""
    }
  ],
  "metadata": {
    "_change_revision": 0,
    "_is_fork": false,
    "kernelspec": {
      "display_name": "Python 3",
      "language": "python",
      "name": "python3"
    },
    "language_info": {
      "codemirror_mode": {
        "name": "ipython",
        "version": 3
      },
      "file_extension": ".py",
      "mimetype": "text/x-python",
      "name": "python",
      "nbconvert_exporter": "python",
      "pygments_lexer": "ipython3",
      "version": "3.5.2"
    }
  },
  "nbformat": 4,
  "nbformat_minor": 0
}