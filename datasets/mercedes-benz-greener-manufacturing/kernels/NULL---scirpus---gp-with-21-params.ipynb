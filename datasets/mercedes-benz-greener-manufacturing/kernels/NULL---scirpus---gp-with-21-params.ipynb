{
  "cells": [
    {
      "cell_type": "markdown",
      "metadata": {
        "_cell_guid": "6fcc2c84-fe81-4d8b-be8a-68c865143d31"
      },
      "source": [
        "This tries to emulate the 4/5 channels seen in the data"
      ]
    },
    {
      "cell_type": "code",
      "execution_count": null,
      "metadata": {
        "_cell_guid": "714a81ec-ccd2-548c-83f3-da81cc507c18"
      },
      "outputs": [],
      "source": [
        "import numpy as np # linear algebra\n",
        "import pandas as pd # data processing, CSV file I/O (e.g. pd.read_csv)\n",
        "from sklearn.preprocessing import StandardScaler, LabelEncoder\n",
        "from sklearn.metrics import r2_score\n",
        "import seaborn as sns\n",
        "import matplotlib.pyplot as plt\n",
        "%matplotlib inline"
      ]
    },
    {
      "cell_type": "code",
      "execution_count": null,
      "metadata": {
        "_cell_guid": "bad54be6-39d1-0841-5996-bfcce2646aed"
      },
      "outputs": [],
      "source": [
        "features = ['X315', 'X127', 'X47', 'X118',\n",
        "            'X314', 'X54', 'X29', 'X48',\n",
        "            'X312', 'X261', 'X316', 'X30',\n",
        "            'X115', 'X179', 'X13', 'X354',\n",
        "            'X313', 'X267', 'X231', 'X189',\n",
        "            'X176']"
      ]
    },
    {
      "cell_type": "code",
      "execution_count": null,
      "metadata": {
        "_cell_guid": "5f44fee2-4e9d-d8c2-a10b-7ab0faaaff1a"
      },
      "outputs": [],
      "source": [
        "train = pd.read_csv('../input/train.csv')\n",
        "test = pd.read_csv('../input/test.csv')\n",
        "trainy = train.y.ravel()"
      ]
    },
    {
      "cell_type": "code",
      "execution_count": null,
      "metadata": {
        "_cell_guid": "a3fdeb73-7bcb-0811-a1f8-881c4cff7daf"
      },
      "outputs": [],
      "source": [
        "train = train[features]\n",
        "test = test[features]\n",
        "train['y'] = trainy"
      ]
    },
    {
      "cell_type": "code",
      "execution_count": null,
      "metadata": {
        "_cell_guid": "b3197fb6-8016-341b-641f-86205d94fc72"
      },
      "outputs": [],
      "source": [
        "for c in train.columns:\n",
        "    if train[c].dtype == 'object':\n",
        "        lbl = LabelEncoder()\n",
        "        lbl.fit(list(train[c].values) + list(test[c].values))\n",
        "        train[c] = lbl.transform(list(train[c].values))\n",
        "        test[c] = lbl.transform(list(test[c].values))\n",
        "\n",
        "train = train.fillna(train.median())\n",
        "test = test.fillna(train.median())\n"
      ]
    },
    {
      "cell_type": "code",
      "execution_count": null,
      "metadata": {
        "_cell_guid": "8e05cd24-6305-e9d4-06f5-fbe14baba32d"
      },
      "outputs": [],
      "source": [
        "ss = StandardScaler()\n",
        "ss.fit(pd.concat([(train[features]),(test[features])]))\n",
        "train[features] = ss.transform((train[features]))\n",
        "test[features] = ss.transform((test[features]))"
      ]
    },
    {
      "cell_type": "code",
      "execution_count": null,
      "metadata": {
        "_cell_guid": "ed5cb4ad-d5ee-0f72-a0bf-2c062bd24838"
      },
      "outputs": [],
      "source": [
        "def GP1(data):\n",
        "    p = (6.124150 +\n",
        "         1.000000*(((((np.maximum( (data[\"X127\"]),  (data[\"X118\"])) + data[\"X315\"])/2.0) + data[\"X314\"])/2.0)) +\n",
        "         0.983700*((np.maximum( (data[\"X127\"]),  (data[\"X29\"])) * np.minimum( (0.636620),  (data[\"X47\"])))) +\n",
        "         0.989500*((0.636620 * (data[\"X54\"] * ((data[\"X47\"] < data[\"X315\"]).astype(float))))) +\n",
        "         1.000000*((((data[\"X48\"] > (data[\"X47\"] * data[\"X127\"])).astype(float)) * 0.318310)) +\n",
        "         1.000000*((np.minimum( (data[\"X315\"]),  ((3.39852762222290039))) * np.minimum( ((0.53182137012481689)),  (data[\"X312\"])))) +\n",
        "         0.477700*(((((((data[\"X118\"] + 0.318310)/2.0) / 2.0) / 2.0) / 2.0) / 2.0)))\n",
        "    return 16.19*p\n",
        "\n",
        "def GP2(data):\n",
        "    p = (6.124150 +\n",
        "         1.000000*(((data[\"X314\"] + ((data[\"X315\"] + np.maximum( (data[\"X127\"]),  (data[\"X118\"])))/2.0))/2.0)) +\n",
        "         0.965600*((((np.minimum( (data[\"X314\"]),  ((-(data[\"X29\"])))) / 2.0) / 2.0) / 2.0)) +\n",
        "         0.777500*((((data[\"X47\"] > (-(data[\"X48\"]))).astype(float)) / 2.0)) +\n",
        "         0.903900*((((np.minimum( (1.570796),  (data[\"X54\"])) / 2.0) / 2.0) * data[\"X315\"])) +\n",
        "         0.798500*((((data[\"X312\"] > 0.318310).astype(float)) * (0.636620 + data[\"X354\"]))) +\n",
        "         1.000000*((data[\"X316\"] * ((0.318310 < np.minimum( (data[\"X179\"]),  (data[\"X13\"]))).astype(float)))))\n",
        "    return 16.19*p\n",
        "\n",
        "def GP3(data):\n",
        "    p = (6.124150 +\n",
        "         1.000000*(((((np.maximum( (data[\"X127\"]),  (data[\"X118\"])) + data[\"X315\"])/2.0) + data[\"X314\"])/2.0)) +\n",
        "         0.907100*(((((data[\"X261\"] + (data[\"X261\"] * data[\"X29\"]))/2.0) / 2.0) / 2.0)) +\n",
        "         0.992900*(np.minimum( (0.318310),  (((((data[\"X47\"] + data[\"X48\"])/2.0) / 2.0) / 2.0)))) +\n",
        "         1.000000*((data[\"X54\"] * (((data[\"X315\"] > (-(data[\"X30\"]))).astype(float)) / 2.0))) +\n",
        "         1.000000*(((data[\"X54\"] * np.maximum( (data[\"X313\"]),  (data[\"X312\"]))) * data[\"X267\"])) +\n",
        "         0.944200*(((((-(data[\"X315\"])) < data[\"X115\"]).astype(float)) * (data[\"X231\"] / 2.0))))\n",
        "    return 16.19*p\n",
        "\n",
        "def GP4(data):\n",
        "    p = (6.124150 +\n",
        "         1.000000*(((data[\"X314\"] + ((np.maximum( (data[\"X127\"]),  (data[\"X118\"])) + data[\"X315\"])/2.0))/2.0)) +\n",
        "         0.965600*((((np.minimum( (data[\"X314\"]),  ((-(data[\"X29\"])))) / 2.0) / 2.0) / 2.0)) +\n",
        "         1.000000*(((0.32382854819297791) * ((data[\"X48\"] > (data[\"X47\"] * data[\"X312\"])).astype(float)))) +\n",
        "         1.000000*((np.minimum( (data[\"X54\"]),  ((2.36594843864440918))) * ((data[\"X315\"] > data[\"X312\"]).astype(float)))) +\n",
        "         0.995500*(((((data[\"X47\"] * data[\"X316\"]) > 1.0).astype(float)) / 2.0)) +\n",
        "         1.000000*((((0.07979037612676620) * ((data[\"X316\"] < data[\"X118\"]).astype(float))) * 0.636620)))\n",
        "    return 16.19*p\n",
        "\n",
        "def GP5(data):\n",
        "    p = (6.124150 +\n",
        "         1.000000*(((((np.maximum( (data[\"X127\"]),  (data[\"X118\"])) + data[\"X315\"])/2.0) + data[\"X314\"])/2.0)) +\n",
        "         1.000000*((((data[\"X127\"] / 2.0) * (data[\"X29\"] / 2.0)) / 2.0)) +\n",
        "         1.000000*(np.minimum( (0.318310),  (np.maximum( (data[\"X48\"]),  ((data[\"X47\"] * 0.318310)))))) +\n",
        "         1.000000*((((((-(data[\"X30\"])) < data[\"X315\"]).astype(float)) * data[\"X54\"]) / 2.0)) +\n",
        "         0.764000*((((((data[\"X261\"] > data[\"X115\"]).astype(float)) / 2.0) / 2.0) / 2.0)) +\n",
        "         1.000000*((((-(data[\"X189\"])) / 2.0) * ((data[\"X315\"] > data[\"X176\"]).astype(float)))))\n",
        "    return 16.19*p\n",
        "\n",
        "def GP(data):\n",
        "    return .2*(GP1(data)+GP2(data)+GP3(data)+GP4(data)+GP5(data))"
      ]
    },
    {
      "cell_type": "code",
      "execution_count": null,
      "metadata": {
        "_cell_guid": "4b9ebdfd-84c2-5846-6c04-7fa9c2591776"
      },
      "outputs": [],
      "source": [
        "print(r2_score(train.y,GP1(train)))\n",
        "print(r2_score(train.y,GP2(train)))\n",
        "print(r2_score(train.y,GP3(train)))\n",
        "print(r2_score(train.y,GP4(train)))\n",
        "print(r2_score(train.y,GP5(train)))\n",
        "print(r2_score(train.y,GP(train)))"
      ]
    },
    {
      "cell_type": "code",
      "execution_count": null,
      "metadata": {
        "_cell_guid": "3e412329-3f4a-8105-b548-5a0c451cdaac"
      },
      "outputs": [],
      "source": [
        "plt.scatter(GP(train),train.y)"
      ]
    }
  ],
  "metadata": {
    "_change_revision": 0,
    "_is_fork": false,
    "kernelspec": {
      "display_name": "Python 3",
      "language": "python",
      "name": "python3"
    },
    "language_info": {
      "codemirror_mode": {
        "name": "ipython",
        "version": 3
      },
      "file_extension": ".py",
      "mimetype": "text/x-python",
      "name": "python",
      "nbconvert_exporter": "python",
      "pygments_lexer": "ipython3",
      "version": "3.6.0"
    }
  },
  "nbformat": 4,
  "nbformat_minor": 0
}