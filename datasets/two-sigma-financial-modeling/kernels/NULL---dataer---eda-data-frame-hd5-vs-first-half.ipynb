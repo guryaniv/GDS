{
  "metadata": {
    "kernelspec": {
      "display_name": "Python 3",
      "language": "python",
      "name": "python3"
    },
    "language_info": {
      "codemirror_mode": {
        "name": "ipython",
        "version": 3
      },
      "file_extension": ".py",
      "mimetype": "text/x-python",
      "name": "python",
      "nbconvert_exporter": "python",
      "pygments_lexer": "ipython3",
      "version": "3.6.0"
    }
  },
  "nbformat": 4,
  "nbformat_minor": 0,
  "cells": [
    {
      "cell_type": "code",
      "source": "# This Python 3 environment comes with many helpful analytics libraries installed\n# It is defined by the kaggle/python docker image: https://github.com/kaggle/docker-python\n# For example, here's several helpful packages to load in \n\nimport numpy as np # linear algebra\nimport pandas as pd # data processing, CSV file I/O (e.g. pd.read_csv)\nimport kagglegym\nimport numpy as np\nimport pandas as pd\nimport random\nfrom sklearn import ensemble, linear_model, metrics\n\n\n# Input data files are available in the \"../input/\" directory.\n# For example, running this (by clicking run or pressing Shift+Enter) will list the files in the input directory\n\nfrom subprocess import check_output\nprint(check_output([\"ls\", \"../input\"]).decode(\"utf8\"))\n\n# Any results you write to the current directory are saved as output.",
      "execution_count": null,
      "outputs": [],
      "metadata": {
        "_cell_guid": "ba8b8d41-1456-261e-fd47-99c86bcfa052",
        "_active": false
      },
      "execution_state": "idle"
    },
    {
      "cell_type": "code",
      "source": "env = kagglegym.make()\no = env.reset()\ntrain = o.train  #train dataset\nprint(train.shape) #print shape\n\n\n",
      "execution_count": null,
      "outputs": [],
      "metadata": {
        "_cell_guid": "0296dee1-2106-3afe-5aae-a80668406e93",
        "_active": false
      },
      "execution_state": "idle"
    },
    {
      "cell_type": "code",
      "source": "train[\"nbnulls\"]=train.isnull().sum(axis=1) #add variable to dataset for number of nulls\ncol=[x for x in train.columns if x not in ['id', 'timestamp', 'y']]  #col = predictors\nlen(list(train))\nlist(train)\n\n\n",
      "execution_count": null,
      "outputs": [],
      "metadata": {
        "_cell_guid": "b67f70f3-eb71-82b1-644a-4eb64a8fc99c",
        "_active": false
      },
      "execution_state": "idle"
    },
    {
      "cell_type": "code",
      "source": "d_mean= train.median(axis=0)  #imput median\nd_mean",
      "execution_count": null,
      "outputs": [],
      "metadata": {
        "_cell_guid": "69bfa350-15d8-5410-7a85-589da4e7aeee",
        "_active": false
      },
      "execution_state": "idle"
    },
    {
      "cell_type": "code",
      "source": "train.describe().transpose()\n",
      "execution_count": null,
      "outputs": [],
      "metadata": {
        "_cell_guid": "3b9ef788-cb28-fe00-6947-ae3900caeca1",
        "_active": false
      },
      "execution_state": "idle"
    },
    {
      "cell_type": "code",
      "source": "so=train.corr().unstack().order(kind=\"quicksort\")\n#print(so[-len(so):-len(so)+20])\nprint(so[\"y\"].sort_values(ascending=False))",
      "execution_count": null,
      "outputs": [],
      "metadata": {
        "_cell_guid": "9715548d-582e-a46c-1c2e-5b48473d2222",
        "_active": false
      },
      "execution_state": "idle"
    },
    {
      "cell_type": "code",
      "source": "typ=(train.dtypes != \"float32\")\ntrain.dtypes[typ.index[typ]]\n\n\n",
      "execution_count": null,
      "outputs": [],
      "metadata": {
        "_cell_guid": "427933fd-9e99-cb6b-5c43-5df8a6445060",
        "_active": false
      },
      "execution_state": "idle"
    },
    {
      "cell_type": "code",
      "source": "train[\"timestamp\"]",
      "execution_count": null,
      "outputs": [],
      "metadata": {
        "_cell_guid": "c605c7d4-e22a-1f87-0ed3-92d250f984a7",
        "_active": false
      },
      "execution_state": "idle"
    },
    {
      "cell_type": "code",
      "source": "len(o.train)",
      "execution_count": null,
      "outputs": [],
      "metadata": {
        "_cell_guid": "b566661e-dcd9-f3dd-e2d1-82b61884b5b6",
        "_active": false
      },
      "execution_state": "idle"
    },
    {
      "cell_type": "code",
      "source": "with pd.HDFStore(\"../input/train.h5\", \"r\") as train1:\n    # Note that the \"train\" dataframe is the only dataframe in the file\n    df = train1.get(\"train\")",
      "execution_count": null,
      "outputs": [],
      "metadata": {
        "_cell_guid": "31bf356b-4fed-5c71-e211-576effceabad",
        "_active": false
      },
      "execution_state": "idle"
    },
    {
      "cell_type": "code",
      "source": "len(df)",
      "execution_count": null,
      "outputs": [],
      "metadata": {
        "_cell_guid": "21e5dbb9-fccd-0a86-9ef1-feb1ff210f8f",
        "_active": false
      },
      "execution_state": "idle"
    },
    {
      "cell_type": "code",
      "source": "df.head()",
      "execution_count": null,
      "outputs": [],
      "metadata": {
        "_cell_guid": "d18ced14-4c03-871e-b72a-e1b6f5f05aea",
        "_active": false
      },
      "execution_state": "idle"
    },
    {
      "cell_type": "code",
      "source": "df.tail()",
      "execution_count": null,
      "outputs": [],
      "metadata": {
        "_cell_guid": "77cb44ce-80df-8728-f3df-415b50ac373c",
        "_active": false
      },
      "execution_state": "idle"
    },
    {
      "cell_type": "code",
      "source": "train.tail()",
      "execution_count": null,
      "outputs": [],
      "metadata": {
        "_cell_guid": "360b150f-6981-3ed2-7276-05a1979612c7",
        "_active": false
      },
      "execution_state": "idle"
    },
    {
      "cell_type": "code",
      "source": "# How many timestamps are in the full training set?\nlen(df[\"timestamp\"].unique())",
      "execution_count": null,
      "outputs": [],
      "metadata": {
        "_cell_guid": "7af4ca6f-b78b-7ab0-4348-e31707727e91",
        "_active": false
      },
      "execution_state": "idle"
    },
    {
      "cell_type": "code",
      "source": "# How many timestamps are in this train dataframe?\nlen(train[\"timestamp\"].unique())",
      "execution_count": null,
      "outputs": [],
      "metadata": {
        "_cell_guid": "35f1ffff-afeb-025c-9e14-8718a43726df",
        "_active": false
      },
      "execution_state": "idle"
    },
    {
      "cell_type": "code",
      "source": "# Look at the first few rows of the features dataframe\no.features.head()",
      "execution_count": null,
      "outputs": [],
      "metadata": {
        "_cell_guid": "848bd6c2-51a7-134b-9065-3d355b55f8c0",
        "_active": false
      },
      "execution_state": "idle"
    },
    {
      "cell_type": "code",
      "source": "len(o.features)",
      "execution_count": null,
      "outputs": [],
      "metadata": {
        "_cell_guid": "7273098a-6882-2bdb-3f67-fc4a39c91ebf",
        "_active": false
      },
      "execution_state": "idle"
    },
    {
      "cell_type": "code",
      "source": "len(o.features[\"timestamp\"].unique())",
      "execution_count": null,
      "outputs": [],
      "metadata": {
        "_cell_guid": "c207c593-fec8-24c1-6253-8f87e4b30df3",
        "_active": false
      },
      "execution_state": "idle"
    },
    {
      "cell_type": "code",
      "source": "o.features[\"timestamp\"]",
      "execution_count": null,
      "outputs": [],
      "metadata": {
        "_cell_guid": "b2b6f235-9392-ac1f-0b89-9d761674d35f",
        "_active": false
      },
      "execution_state": "idle"
    },
    {
      "cell_type": "code",
      "source": "# Here's proof that it's the first half:\nunique_times = list(o.train[\"timestamp\"].unique())\n(min(unique_times), max(unique_times))",
      "execution_count": null,
      "outputs": [],
      "metadata": {
        "_cell_guid": "6ac09b0f-07c6-9086-df72-fdd4f8713c4f",
        "_active": false
      },
      "execution_state": "idle"
    },
    {
      "cell_type": "code",
      "source": "predict_times=list(o.features[\"timestamp\"].unique())\n(min(predict_times),max(predict_times))",
      "execution_count": null,
      "outputs": [],
      "metadata": {
        "_cell_guid": "931950d5-8b05-7a2a-da6e-ea4908e6ca61",
        "_active": false
      },
      "execution_state": "idle"
    },
    {
      "cell_type": "code",
      "source": null,
      "execution_count": null,
      "outputs": [],
      "metadata": {
        "_cell_guid": "a653f3ba-1e71-708f-498a-ffb507f18260",
        "_active": true
      },
      "execution_state": "idle"
    }
  ]
}