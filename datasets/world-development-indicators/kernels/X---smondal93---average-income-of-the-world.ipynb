{"cells":[
 {
  "cell_type": "markdown",
  "metadata": {},
  "source": "#What is the global average income?\nLooking at global changes in income overtime as well global income distribution in 2014."
 },
 {
  "cell_type": "code",
  "execution_count": null,
  "metadata": {
   "collapsed": false
  },
  "outputs": [],
  "source": "import numpy as np # linear algebra\nimport pandas as pd # data processing, CSV file I/O (e.g. pd.read_csv)\nimport matplotlib.pyplot as plt\nimport seaborn as sns\nfrom subprocess import check_output\nprint(check_output([\"ls\", \"../input\"]).decode(\"utf8\"))\n\npd.set_option('display.max_rows', 50)\npd.set_option('display.max_columns', 50)\npd.set_option('display.width', 1000)\n\ndocument = pd.read_csv('../input/Indicators.csv')\n\n#want to see all the countries listed in the document  \ndocument['CountryName'].unique()\n\n#get rid of indicators that aren't countries \nlist = ['Arab World', 'Caribbean small states', 'Central Europe and the Baltics',\n 'East Asia & Pacific (all income levels)',\n 'East Asia & Pacific (developing only)', 'Euro area',\n 'Europe & Central Asia (all income levels)',\n 'Europe & Central Asia (developing only)', 'European Union',\n 'Fragile and conflict affected situations',\n 'Heavily indebted poor countries (HIPC)', 'High income',\n 'High income: nonOECD', 'High income: OECD',\n 'Latin America & Caribbean (all income levels)',\n 'Latin America & Caribbean (developing only)',\n 'Least developed countries: UN classification', 'Low & middle income',\n 'Low income', 'Lower middle income',\n 'Middle East & North Africa (all income levels)',\n 'Middle East & North Africa (developing only)', 'Middle income',\n 'North America' 'OECD members' ,'Other small states',\n 'Pacific island small states', 'Small states', 'South Asia',\n 'Sub-Saharan Africa (all income levels)',\n 'Sub-Saharan Africa (developing only)' ,'Upper middle income' ,'World', 'North America', 'OECD members']\n"
 },
 {
  "cell_type": "markdown",
  "metadata": {},
  "source": "##Looking at Average Global Income by Year"
 },
 {
  "cell_type": "code",
  "execution_count": null,
  "metadata": {
   "collapsed": false
  },
  "outputs": [],
  "source": "income_average = document.query(\"IndicatorCode == 'NY.GNP.PCAP.CD'\").groupby(['Year']).mean()\nplt.figure()\nplt.plot(income_average)\nplt.xlabel('Year')\nplt.ylabel('Average Income ($)')\nplt.title('Average Income of the World by Year', fontsize = 14)"
 },
 {
  "cell_type": "markdown",
  "metadata": {},
  "source": "##Where does your income stand as compared to the rest of the globe?"
 },
 {
  "cell_type": "code",
  "execution_count": null,
  "metadata": {
   "collapsed": false
  },
  "outputs": [],
  "source": "plt.figure()\nincome_average_2013 = document.query(\"IndicatorCode == 'NY.GNP.PCAP.CD' & Year == 2013\")\nboxplot = sns.boxplot(x = income_average_2013['Value'])\nplt.xlabel('Average Income($) in 2013')\nplt.title('Boxplot of Average Income ($) across Various Countries in 2013')\n\nprint (\"Some income stats:\\n\" )\nprint (\"Min: \" + str(np.min(income_average_2013['Value'])))\nprint (\"10th Percentile: \" + str(np.percentile(income_average_2013['Value'],10)))\nprint (\"25th Percentile: \" + str(np.percentile(income_average_2013['Value'], 25)))\nprint (\"Median: \"+str(np.median(income_average_2013['Value'])))\nprint (\"75th Percentile: \" + str(np.percentile(income_average_2013['Value'], 75)))\nprint (\"90th Percentile: \" + str(np.percentile(income_average_2013['Value'], 90)))\nprint (\"Max: \" + str(np.max(income_average_2013['Value'])))\n"
 },
 {
  "cell_type": "markdown",
  "metadata": {},
  "source": "Interestingly, the average American citizen is richer than 90% of the planet. Even the poorest Americans with an income of $20k/yr is richer than 75% of the planet.\n\nWhere do you stand on this planet?"
 }
],"metadata":{"kernelspec":{"display_name":"Python 3","language":"python","name":"python3"}}, "nbformat": 4, "nbformat_minor": 0}