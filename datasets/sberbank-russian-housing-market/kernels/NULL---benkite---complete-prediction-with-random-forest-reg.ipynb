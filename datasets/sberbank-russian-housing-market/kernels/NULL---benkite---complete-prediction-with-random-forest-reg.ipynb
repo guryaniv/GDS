{
  "cells": [
    {
      "cell_type": "markdown",
      "metadata": {
        "_cell_guid": "dc31de72-c15a-69c9-55e6-6122f9dde45b"
      },
      "source": [
        "I won't be working on this competition anymore. I'd like to share what I did to produce a 0.33221 (which was in the 65th percentile when I posted it). I am hoping that some aspect of what I provide here might help others get a boost to their score. Some of the feature engineering done here was inspired by other kernels. I hope this is helpful!"
      ]
    },
    {
      "cell_type": "code",
      "execution_count": null,
      "metadata": {
        "_cell_guid": "7eb4e2f3-4a16-a78b-6c86-b9544620f4a3"
      },
      "outputs": [],
      "source": [
        "# Import necessary libraries and data\n",
        "\n",
        "import pandas, os, numpy\n",
        "from sklearn.ensemble import RandomForestRegressor\n",
        "from sklearn.preprocessing import Imputer\n",
        "import matplotlib.pyplot as plt\n",
        "\n",
        "dat = pandas.read_csv(\"../input/train.csv\")\n",
        "testdat = pandas.read_csv(\"../input/test.csv\")\n",
        "macro = pandas.read_csv(\"../input/macro.csv\")\n"
      ]
    },
    {
      "cell_type": "code",
      "execution_count": null,
      "metadata": {
        "_cell_guid": "8a3d920e-273b-0fee-c20d-8c42b3ba5c77"
      },
      "outputs": [],
      "source": [
        "## Merge the macro data with the train and test data\n",
        "dat = pandas.merge(dat, macro, \"left\", on = \"timestamp\")\n",
        "testdat = pandas.merge(testdat, macro, \"left\", on = \"timestamp\")"
      ]
    },
    {
      "cell_type": "code",
      "execution_count": null,
      "metadata": {
        "_cell_guid": "80a2331b-f6a8-7eea-40d1-2d58ff7628b4"
      },
      "outputs": [],
      "source": [
        "## Add new features\n",
        "dat[\"top_floor\"] = numpy.where(dat[\"floor\"] == dat[\"max_floor\"], 1, 0)\n",
        "testdat[\"top_floor\"] = numpy.where(testdat[\"floor\"] == testdat[\"max_floor\"], 1, 0)\n",
        "dat[\"pdens\"] = dat[\"full_all\"]/dat[\"area_m\"]\n",
        "testdat[\"pdens\"] = testdat[\"full_all\"]/testdat[\"area_m\"]\n",
        "dat[\"workpop\"] = dat[\"work_all\"]/dat[\"full_all\"]\n",
        "testdat[\"workpop\"] = testdat[\"work_all\"]/testdat[\"full_all\"]\n",
        "\n",
        "dat[[\"top_floor\", \"pdens\", \"workpop\"]][0:5]"
      ]
    },
    {
      "cell_type": "code",
      "execution_count": null,
      "metadata": {
        "_cell_guid": "72e1701b-bce7-cc3e-5281-d73330c29c0c"
      },
      "outputs": [],
      "source": [
        "## Fix extreme values that could influence results \n",
        "## This probably could be done in a better way\n",
        "## These decisions were made quickly.\n",
        "dat[\"build_year\"].loc[dat[\"build_year\"] > 2015] = None\n",
        "dat[\"build_year\"].loc[dat[\"build_year\"] < 1900] = None\n",
        "dat[\"kitch_sq\"].loc[dat[\"kitch_sq\"] > 15] = None\n",
        "dat[\"life_sq\"].loc[dat[\"full_sq\"] < dat[\"life_sq\"]] = None\n",
        "dat[\"full_sq\"].loc[dat[\"full_sq\"] > 200] = None\n",
        "dat[\"life_sq\"].loc[dat[\"full_sq\"] < dat[\"life_sq\"]] = None\n",
        "\n",
        "testdat[\"build_year\"].loc[testdat[\"build_year\"] > 2017] = None\n",
        "testdat[\"build_year\"].loc[testdat[\"build_year\"] < 1900] = None\n",
        "testdat[\"kitch_sq\"].loc[testdat[\"kitch_sq\"] > 15] = None\n",
        "testdat[\"life_sq\"].loc[testdat[\"full_sq\"] < testdat[\"life_sq\"]] = None\n",
        "testdat[\"full_sq\"].loc[testdat[\"full_sq\"] > 200] = None\n",
        "testdat[\"life_sq\"].loc[testdat[\"full_sq\"] < testdat[\"life_sq\"]] = None"
      ]
    },
    {
      "cell_type": "code",
      "execution_count": null,
      "metadata": {
        "_cell_guid": "4b03acac-3023-cbbb-85d8-27c9847913c9"
      },
      "outputs": [],
      "source": [
        "## Add a variable for the age of the home\n",
        "dts = []\n",
        "for ds in dat[\"timestamp\"]:\n",
        "    dts.append(int(ds.split(\"-\")[0]))\n",
        "dat[\"cur_year\"] = dts\n",
        "tts = []\n",
        "for ts in testdat[\"timestamp\"]:\n",
        "    tts.append(int(ts.split(\"-\")[0]))\n",
        "testdat[\"cur_year\"] = tts\n",
        "dat[\"age\"] = dat[\"cur_year\"] - dat[\"build_year\"]\n",
        "testdat[\"age\"] = testdat[\"cur_year\"] - testdat[\"build_year\"]\n",
        "## Drop these variables\n",
        "del dat[\"timestamp\"]\n",
        "del testdat[\"timestamp\"]\n",
        "del dat[\"cur_year\"]\n",
        "del testdat[\"cur_year\"]\n",
        "del dat[\"build_year\"]\n",
        "del testdat[\"build_year\"]"
      ]
    },
    {
      "cell_type": "code",
      "execution_count": null,
      "metadata": {
        "_cell_guid": "3ccbcccd-8db2-5870-b196-fcefa7e802c2"
      },
      "outputs": [],
      "source": [
        "## Dummy code the string variables\n",
        "dat = pandas.get_dummies(dat, drop_first = True)\n",
        "testdat = pandas.get_dummies(testdat, drop_first = True)\n"
      ]
    },
    {
      "cell_type": "code",
      "execution_count": null,
      "metadata": {
        "_cell_guid": "2ce6d8eb-99ee-20b5-de0d-b6a42a3b792f"
      },
      "outputs": [],
      "source": [
        "## Remove variables with all missings and variables that are not present in both data sets.\n",
        "dat.dropna(axis=1, how='all', inplace=True)\n",
        "testdat.dropna(axis=1, how='all', inplace=True)\n",
        "datnames = dat.columns\n",
        "testnames = testdat.columns\n",
        "dnames = []\n",
        "tnames = []\n",
        "for d in datnames:\n",
        "    dnames.append(d)\n",
        "for t in testnames:\n",
        "    tnames.append(t)\n",
        "usevars = list(set(dnames).intersection(tnames))\n",
        "dv = \"price_doc\"\n",
        "testdat = testdat[usevars]\n",
        "trainusevars = usevars\n",
        "trainusevars.append(dv)\n",
        "dat = dat[trainusevars]"
      ]
    },
    {
      "cell_type": "code",
      "execution_count": null,
      "metadata": {
        "_cell_guid": "93d9727e-0ebc-283c-aaee-b0b121ee3538"
      },
      "outputs": [],
      "source": [
        "## Impute missing values with variable mean replacement\n",
        "imputer = Imputer(axis = 0, strategy = \"mean\")\n",
        "trainX = imputer.fit_transform(dat)\n",
        "trainX = pandas.DataFrame(trainX)\n",
        "trainX.columns = dat.columns"
      ]
    },
    {
      "cell_type": "code",
      "execution_count": null,
      "metadata": {
        "_cell_guid": "c0080780-6e04-ebe4-640b-110d4eb872dc"
      },
      "outputs": [],
      "source": [
        "## Fit a random forest regressor\n",
        "## My high score came with 400 estimators\n",
        "model = RandomForestRegressor(n_estimators = 5)\n",
        "\n",
        "dv = \"price_doc\"\n",
        "preds = trainX.columns[:len(trainX.columns) - 2]\n",
        "model.fit(trainX[preds], trainX[dv])"
      ]
    },
    {
      "cell_type": "code",
      "execution_count": null,
      "metadata": {
        "_cell_guid": "9a968b41-91dc-83b3-93b6-23c15f43107a"
      },
      "outputs": [],
      "source": [
        "testnames = testdat.columns\n",
        "testX = imputer.fit_transform(testdat)\n",
        "testX = pandas.DataFrame(testX)\n",
        "testX.columns = testnames\n",
        "#testX = testdat\n",
        "\n",
        "testdat[\"price_doc\"] = model.predict(testX[preds])\n",
        "## These are my predictions\n",
        "testdat[\"price_doc\"][0:20]"
      ]
    },
    {
      "cell_type": "code",
      "execution_count": null,
      "metadata": {
        "_cell_guid": "f91a68a0-02ee-268f-762e-a944233f3d34"
      },
      "outputs": [],
      "source": [
        "## Finish by preparing the submission set.\n",
        "output = testdat[[\"id\", \"price_doc\"]]\n",
        "output"
      ]
    }
  ],
  "metadata": {
    "_change_revision": 0,
    "_is_fork": false,
    "kernelspec": {
      "display_name": "Python 3",
      "language": "python",
      "name": "python3"
    },
    "language_info": {
      "codemirror_mode": {
        "name": "ipython",
        "version": 3
      },
      "file_extension": ".py",
      "mimetype": "text/x-python",
      "name": "python",
      "nbconvert_exporter": "python",
      "pygments_lexer": "ipython3",
      "version": "3.6.0"
    }
  },
  "nbformat": 4,
  "nbformat_minor": 0
}