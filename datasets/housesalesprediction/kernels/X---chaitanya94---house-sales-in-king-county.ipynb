{
  "cells": [
    {
      "cell_type": "markdown",
      "metadata": {
        "_cell_guid": "4c25aea0-9993-82f9-3141-dbfaa8ff6e28"
      },
      "source": [
        "This is a basic Regression based solution to the problem."
      ]
    },
    {
      "cell_type": "code",
      "execution_count": null,
      "metadata": {
        "_cell_guid": "4556afc0-d627-264e-5584-e822ee5331db"
      },
      "outputs": [],
      "source": [
        "# This Python 3 environment comes with many helpful analytics libraries installed\n",
        "# It is defined by the kaggle/python docker image: https://github.com/kaggle/docker-python\n",
        "# For example, here's several helpful packages to load in \n",
        "\n",
        "import numpy as np # linear algebra\n",
        "import pandas as pd # data processing, CSV file I/O (e.g. pd.read_csv)\n",
        "import matplotlib.pyplot as plt\n",
        "# Input data files are available in the \"../input/\" directory.\n",
        "# For example, running this (by clicking run or pressing Shift+Enter) will list the files in the input directory\n",
        "\n",
        "from subprocess import check_output\n",
        "print(check_output([\"ls\", \"../input\"]).decode(\"utf8\"))\n",
        "\n",
        "# Any results you write to the current directory are saved as output.\n",
        "df = pd.read_csv('../input/kc_house_data.csv')\n",
        "df['date'] = pd.to_datetime(df['date'])\n",
        "df['date'] = (df['date'] - df['date'].min())  / np.timedelta64(1,'D')\n",
        "#print(df.head())"
      ]
    },
    {
      "cell_type": "code",
      "execution_count": null,
      "metadata": {
        "_cell_guid": "7e716857-4e10-3652-fe86-cfc6570aa1ac"
      },
      "outputs": [],
      "source": [
        "# Visualization -73\n",
        "labels = ['date', 'bedrooms', 'bathrooms', 'sqft_living', 'sqft_lot', 'floors', 'waterfront', 'view', 'condition', 'grade', 'sqft_above', 'sqft_basement', 'yr_built', 'yr_renovated', 'zipcode', 'lat', 'long', 'sqft_living15', 'sqft_lot15']\n",
        "y = 'price'\n",
        "for i in range(len(labels)):\n",
        "    plt.figure()\n",
        "    plt.scatter(df[labels[i]], df[y])\n",
        "    plt.xlabel(labels[i])\n",
        "    plt.ylabel(y)"
      ]
    },
    {
      "cell_type": "code",
      "execution_count": null,
      "metadata": {
        "_cell_guid": "54bd8c6b-3c02-5fa1-35ef-0e4ca7d807d9"
      },
      "outputs": [],
      "source": [
        "#df.info()\n",
        "train = df[:20000]\n",
        "test = df[20000:-1]\n",
        "#test.info()\n",
        "y = train['price']\n",
        "y_test = test['price']\n",
        "train = train.drop('price', 1)\n",
        "test = test.drop('price', 1)"
      ]
    },
    {
      "cell_type": "code",
      "execution_count": null,
      "metadata": {
        "_cell_guid": "cd87e53a-5bcb-b952-5f91-94c52645635e"
      },
      "outputs": [],
      "source": [
        "# Linear Regression\n",
        "from sklearn import linear_model\n",
        "regr = linear_model.LinearRegression()\n",
        "regr.fit(train, y)\n",
        "y_pred = regr.predict(test)\n",
        "mse = sum((y_pred - y_test)**2)/len(y_pred)\n",
        "print(mse)"
      ]
    }
  ],
  "metadata": {
    "_change_revision": 0,
    "_is_fork": false,
    "kernelspec": {
      "display_name": "Python 3",
      "language": "python",
      "name": "python3"
    },
    "language_info": {
      "codemirror_mode": {
        "name": "ipython",
        "version": 3
      },
      "file_extension": ".py",
      "mimetype": "text/x-python",
      "name": "python",
      "nbconvert_exporter": "python",
      "pygments_lexer": "ipython3",
      "version": "3.5.2"
    }
  },
  "nbformat": 4,
  "nbformat_minor": 0
}