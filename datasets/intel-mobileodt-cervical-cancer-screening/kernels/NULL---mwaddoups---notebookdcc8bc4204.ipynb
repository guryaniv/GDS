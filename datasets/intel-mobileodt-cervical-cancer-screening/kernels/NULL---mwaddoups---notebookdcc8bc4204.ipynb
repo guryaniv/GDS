{
  "cells": [
    {
      "cell_type": "code",
      "execution_count": null,
      "metadata": {
        "_cell_guid": "2e04b11c-84ae-943f-d1e3-62b5ba1ff092"
      },
      "outputs": [],
      "source": [
        "import glob\n",
        "import numpy as np\n",
        "import pandas as pd\n",
        "import matplotlib.pyplot as plt\n",
        "import cv2\n",
        "\n",
        "train = np.empty(3, dtype=object)\n",
        "\n",
        "for t in [1, 2, 3]:\n",
        "    image_paths = glob.glob('../input/train/Type_{}/*.jpg'.format(t))\n",
        "    train[t-1] = np.zeros((len(image_paths), 64, 64, 1))\n",
        "    for i, img_path in enumerate(image_paths):\n",
        "        # Take only the red channel\n",
        "        img = cv2.resize(cv2.imread(img_path), (64, 64))[:, :, 2:]\n",
        "        train[t-1][i, :] = img"
      ]
    },
    {
      "cell_type": "code",
      "execution_count": null,
      "metadata": {
        "_cell_guid": "c19563a7-150b-a354-343f-4ff680fd9b91"
      },
      "outputs": [],
      "source": [
        "# This function will pick random images from each of \n",
        "# the 3 classes, with random transformations\n",
        "def image_generator(batch_size=60):\n",
        "    n = batch_size // 3\n",
        "    X = np.zeros((batch_size, 64, 64, 1))\n",
        "    y = np.zeros((batch_size, 3))\n",
        "    while True:\n",
        "        for t in [0, 1, 2]:\n",
        "            idx = np.random.choice(np.arange(train[t].shape[0]), n, replace=False)\n",
        "            X[t * n : (t + 1) * n] = train[t][idx, :]\n",
        "            y[t * n : (t + 1) * n, t] = 1\n",
        "\n",
        "        yield X, y\n",
        "g = image_generator()\n",
        "x, y = next(g)\n",
        "x.shape, y.shape"
      ]
    },
    {
      "cell_type": "code",
      "execution_count": null,
      "metadata": {
        "_cell_guid": "b9d3578d-c98c-5334-7449-15d4f4cd8077"
      },
      "outputs": [],
      "source": [
        "from keras.models import Sequential\n",
        "from keras.layers import Dense, Dropout, Flatten\n",
        "from keras.layers.convolutional import Conv2D\n",
        "from keras.layers.pooling import MaxPooling2D\n",
        "\n",
        "model = Sequential()\n",
        "model.add(Conv2D(32, (3,3), input_shape=(256,256,1)))\n",
        "model.add(MaxPooling2D((2,2)))\n",
        "model.add(Dropout(0.15))\n",
        "\n",
        "model.add(Conv2D(64, (3,3)))\n",
        "model.add(MaxPooling2D((2,2)))\n",
        "model.add(Dropout(0.2))\n",
        "\n",
        "model.add(Flatten())\n",
        "\n",
        "model.add(Dense(128))\n",
        "model.add(Dropout(0.5))\n",
        "\n",
        "model.add(Dense(3))\n",
        "\n",
        "model.compile(loss='categorical_crossentropy', optimizer='adam', metrics=['acc'])\n",
        "\n",
        "model.fit_generator(image_generator(), steps_per_epoch=30, epochs=10)"
      ]
    },
    {
      "cell_type": "code",
      "execution_count": null,
      "metadata": {
        "_cell_guid": "caf3c94b-d4db-5986-8e64-a57136ed7214"
      },
      "outputs": [],
      "source": ""
    }
  ],
  "metadata": {
    "_change_revision": 0,
    "_is_fork": false,
    "kernelspec": {
      "display_name": "Python 3",
      "language": "python",
      "name": "python3"
    },
    "language_info": {
      "codemirror_mode": {
        "name": "ipython",
        "version": 3
      },
      "file_extension": ".py",
      "mimetype": "text/x-python",
      "name": "python",
      "nbconvert_exporter": "python",
      "pygments_lexer": "ipython3",
      "version": "3.6.0"
    }
  },
  "nbformat": 4,
  "nbformat_minor": 0
}