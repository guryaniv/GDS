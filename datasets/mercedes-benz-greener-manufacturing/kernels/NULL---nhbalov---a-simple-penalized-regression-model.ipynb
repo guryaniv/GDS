{
  "cells": [
    {
      "cell_type": "markdown",
      "metadata": {
        "_cell_guid": "a7bb5427-807a-5f9d-7e5b-da9ba7d53bb7"
      },
      "source": [
        "**Importing the data**"
      ]
    },
    {
      "cell_type": "code",
      "execution_count": null,
      "metadata": {
        "_cell_guid": "3f860dba-f833-a61b-cbf4-318d578a0c61"
      },
      "outputs": [],
      "source": [
        "import numpy as np # linear algebra\n",
        "import pandas as pd # data processing, CSV file I/O (e.g. pd.read_csv)\n",
        "import matplotlib.pyplot as plt\n",
        "import seaborn as sns\n",
        "\n",
        "train_df = pd.read_csv(\"../input/train.csv\")\n",
        "test_df = pd.read_csv(\"../input/test.csv\")\n",
        "print(\"Train shape : \", train_df.shape)\n",
        "print(\"Test shape : \", test_df.shape)"
      ]
    },
    {
      "cell_type": "markdown",
      "metadata": {
        "_cell_guid": "8cdace2e-2bdf-0645-9748-1e3b04a0a13b"
      },
      "source": [
        "**Have a look at the first few training rows**"
      ]
    },
    {
      "cell_type": "code",
      "execution_count": null,
      "metadata": {
        "_cell_guid": "a48c0537-c1b8-1c25-2184-441ec15c327a"
      },
      "outputs": [],
      "source": [
        "\n",
        "train_df.head()"
      ]
    },
    {
      "cell_type": "markdown",
      "metadata": {
        "_cell_guid": "7b74ea12-170b-c5e2-c3b1-bcbeb3137963"
      },
      "source": [
        "**Target Variable:**\n",
        "\n",
        "\"y\" is the variable we need to predict. So let us do some analysis on this variable first."
      ]
    },
    {
      "cell_type": "code",
      "execution_count": null,
      "metadata": {
        "_cell_guid": "143d232c-6b56-369d-9e19-10e65acd0190"
      },
      "outputs": [],
      "source": [
        "plt.figure(figsize=(8,6))\n",
        "plt.scatter(range(train_df.shape[0]), np.sort(train_df.y.values))\n",
        "plt.xlabel('index', fontsize=12)\n",
        "plt.ylabel('y', fontsize=12)\n",
        "plt.show()"
      ]
    },
    {
      "cell_type": "markdown",
      "metadata": {
        "_cell_guid": "9b6ade60-58f6-3446-a3d8-da1c5c53e1b7"
      },
      "source": [
        "There is an y-outlier with a value greater than 200 .We reset it to the next maximum y-value.\n",
        "Then we plot the distribution graph for y."
      ]
    },
    {
      "cell_type": "code",
      "execution_count": null,
      "metadata": {
        "_cell_guid": "146e9999-be25-458e-f7bd-5276a782b9c1"
      },
      "outputs": [],
      "source": [
        "maxy = train_df['y'][train_df['y'].index[train_df['y']<200]].max()\n",
        "train_df['y'].ix[train_df['y']>maxy] = maxy\n",
        "\n",
        "plt.figure(figsize=(12,8))\n",
        "sns.distplot(train_df.y.values, bins=50, kde=False)\n",
        "plt.xlabel('y value', fontsize=12)\n",
        "plt.show()"
      ]
    },
    {
      "cell_type": "markdown",
      "metadata": {
        "_cell_guid": "d8de9470-d597-ca46-e091-6c457f0fc5cc"
      },
      "source": [
        "Now let us have a look at the data type of all the variables present in the dataset."
      ]
    },
    {
      "cell_type": "code",
      "execution_count": null,
      "metadata": {
        "_cell_guid": "7b5f8ed8-51a1-a3cf-1dfb-53d61dbc0a3d"
      },
      "outputs": [],
      "source": [
        "dtype_df = train_df.dtypes.reset_index()\n",
        "dtype_df.columns = [\"Count\", \"Column Type\"]\n",
        "dtype_df.groupby(\"Column Type\").aggregate('count').reset_index()"
      ]
    },
    {
      "cell_type": "markdown",
      "metadata": {
        "_cell_guid": "9b8d4880-f4ce-ebf4-8e50-b0f483101815"
      },
      "source": [
        "So majority of the columns are integers with 8 categorical columns and 1 float column (target variable)"
      ]
    },
    {
      "cell_type": "code",
      "execution_count": null,
      "metadata": {
        "_cell_guid": "83a063e8-d79c-59c0-23c0-a239e7f4f282"
      },
      "outputs": [],
      "source": [
        "dtype_df.ix[:10,:]"
      ]
    },
    {
      "cell_type": "markdown",
      "metadata": {
        "_cell_guid": "fdfc5ba6-b5c1-675f-1544-9b583136f403"
      },
      "source": [
        "X0 to X8 are the categorical columns.\n",
        "\n",
        "**Missing values:**\n",
        "\n",
        "Let us now check for the missing values."
      ]
    },
    {
      "cell_type": "code",
      "execution_count": null,
      "metadata": {
        "_cell_guid": "c0cf97e0-470b-fbeb-0b1d-5f289c09c628"
      },
      "outputs": [],
      "source": [
        "missing_df = train_df.isnull().sum(axis=0).reset_index()\n",
        "missing_df.columns = ['column_name', 'missing_count']\n",
        "missing_df = missing_df.ix[missing_df['missing_count']>0]\n",
        "missing_df = missing_df.sort_values(by='missing_count')\n",
        "missing_df"
      ]
    },
    {
      "cell_type": "markdown",
      "metadata": {
        "_cell_guid": "f78e003a-3ec2-5260-88f0-fd71246fbeda"
      },
      "source": [
        "Good to see that there are no missing values in the dataset!\n",
        "\n",
        "**Correlation Analysis:**"
      ]
    },
    {
      "cell_type": "code",
      "execution_count": null,
      "metadata": {
        "_cell_guid": "fc836ed7-5f52-ce86-c287-8756c15dda5d"
      },
      "outputs": [],
      "source": [
        "# Now let us look at the correlation coefficient of each of these variables #\n",
        "x_cols = [col for col in train_df.columns if col not in ['id','y'] if train_df[col].dtype=='int64']\n",
        "\n",
        "labels = []\n",
        "values = []\n",
        "for col in x_cols:\n",
        "    if train_df[col].dtype=='int64':\n",
        "        labels.append(col)\n",
        "        values.append(np.corrcoef(train_df[col].values, train_df.y.values)[0,1])\n",
        "corr_df = pd.DataFrame({'col_labels':labels, 'corr_values':values})\n",
        "corr_df = corr_df.sort_values(by='corr_values')\n",
        "    \n",
        "ind = np.arange(len(labels))\n",
        "width = 0.9\n",
        "fig, ax = plt.subplots(figsize=(12,80))\n",
        "rects = ax.barh(ind, np.array(corr_df.corr_values.values), color='y')\n",
        "ax.set_yticks(ind)\n",
        "ax.set_yticklabels(corr_df.col_labels.values, rotation='horizontal')\n",
        "ax.set_xlabel(\"Correlation coefficient\")\n",
        "ax.set_title(\"Correlation coefficient of the variables\")\n",
        "#autolabel(rects)\n",
        "plt.show()"
      ]
    },
    {
      "cell_type": "markdown",
      "metadata": {
        "_cell_guid": "9ea4f35d-4c84-63fc-dca2-6322ae3c1e2f"
      },
      "source": [
        "Lets fit a Lasso regression and penalization parameter alpha=0.05 using the numerical variables only."
      ]
    },
    {
      "cell_type": "code",
      "execution_count": null,
      "metadata": {
        "_cell_guid": "3b709642-0d13-6f4a-81e5-f6f1d8ac6ffe"
      },
      "outputs": [],
      "source": [
        "from sklearn.linear_model import Lasso\n",
        "from sklearn.metrics import r2_score\n",
        "\n",
        "dicrvars = train_df.columns.values[10:]\n",
        "X = train_df[dicrvars]\n",
        "y = train_df[\"y\"]\n",
        "lassoreg = Lasso(alpha=0.05)\n",
        "lassoreg.fit(X, y)\n",
        "y_predict = lassoreg.predict(X)\n",
        "r2train = r2_score(y, y_predict)\n",
        "print (r2train)"
      ]
    },
    {
      "cell_type": "markdown",
      "metadata": {
        "_cell_guid": "4b3a595a-48c8-4452-5536-605a9eeaabbd"
      },
      "source": [
        "Lets then see which of the covariates are estimated to be non-zero."
      ]
    },
    {
      "cell_type": "code",
      "execution_count": null,
      "metadata": {
        "_cell_guid": "53a776bc-2c1b-3f19-0b99-3cd76b8347ec"
      },
      "outputs": [],
      "source": [
        "ind = lassoreg.coef_>0\n",
        "print (dicrvars[ind])\n",
        "print (lassoreg.coef_[ind])"
      ]
    },
    {
      "cell_type": "markdown",
      "metadata": {
        "_cell_guid": "d3f3811a-7670-76b7-6c04-ab7298992ba6"
      },
      "source": [
        "The model selects only 22 out of the 369 covariates as significant."
      ]
    }
  ],
  "metadata": {
    "_change_revision": 0,
    "_is_fork": false,
    "kernelspec": {
      "display_name": "Python 3",
      "language": "python",
      "name": "python3"
    },
    "language_info": {
      "codemirror_mode": {
        "name": "ipython",
        "version": 3
      },
      "file_extension": ".py",
      "mimetype": "text/x-python",
      "name": "python",
      "nbconvert_exporter": "python",
      "pygments_lexer": "ipython3",
      "version": "3.6.0"
    }
  },
  "nbformat": 4,
  "nbformat_minor": 0
}