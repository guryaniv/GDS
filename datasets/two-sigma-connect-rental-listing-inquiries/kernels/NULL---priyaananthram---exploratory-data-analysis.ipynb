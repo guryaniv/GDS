{
  "cells": [
    {
      "cell_type": "markdown",
      "metadata": {
        "_cell_guid": "26f13966-2974-cac9-08e7-f89867568689"
      },
      "source": [
        "EXPLORATORY DATA ANALYSIS"
      ]
    },
    {
      "cell_type": "code",
      "execution_count": null,
      "metadata": {
        "_cell_guid": "ce382f73-47fa-7d72-4d7d-facc6a10a12d"
      },
      "outputs": [],
      "source": [
        "# This Python 3 environment comes with many helpful analytics libraries installed\n",
        "# It is defined by the kaggle/python docker image: https://github.com/kaggle/docker-python\n",
        "# For example, here's several helpful packages to load in \n",
        "import re\n",
        "from nltk.stem import WordNetLemmatizer\n",
        "\n",
        "import numpy as np # linear algebra\n",
        "import pandas as pd # data processing, CSV file I/O (e.g. pd.read_csv)\n",
        "\n",
        "# Input data files are available in the \"../input/\" directory.\n",
        "# For example, running this (by clicking run or pressing Shift+Enter) will list the files in the input directory\n",
        "\n",
        "from subprocess import check_output\n",
        "print(check_output([\"ls\", \"../input\"]).decode(\"utf8\"))\n",
        "import pandas as pd\n",
        "from pylab import rcParams\n",
        "rcParams['figure.figsize'] = 15, 5\n",
        "%matplotlib inline\n",
        "train=pd.read_json(\"../input/train.json\")\n",
        "test=pd.read_json(\"../input/test.json\")\n",
        "train['sod']='train'\n",
        "test['sod']='test'\n",
        "\n",
        "data=train.append(test)\n",
        "data['num_features']=data.features.apply(lambda x:len(x))\n",
        "data['no_of_photos']=data.photos.apply(lambda x:len(x))\n",
        "data['len_description']=data.description.apply(lambda x:len(x))\n",
        "data['len_description']=data.len_description.fillna(0)\n",
        "\n",
        "data['description_word_count']=data.description.apply(lambda x:len(x.split(\" \")))\n",
        "\n",
        "# convert the created column to datetime object so as to extract more features \n",
        "data[\"created\"] = pd.to_datetime(data[\"created\"])\n",
        "\n",
        "# Let us extract some features like year, month, day, hour from date columns #\n",
        "data[\"created_year\"] = data[\"created\"].dt.year\n",
        "data[\"created_month\"] = data[\"created\"].dt.month\n",
        "data[\"created_day\"] = data[\"created\"].dt.day\n",
        "data[\"created_hour\"] = data[\"created\"].dt.hour\n",
        "\n",
        "\n",
        "#train['features_string']=[' , '.join(z).lower().strip() for z in train['features']] \n",
        "data['features_string']=[','.join([WordNetLemmatizer().lemmatize(re.sub('[^A-Za-z]', ' ', line)).strip().lower() for line in lists]).strip() for lists in data['features']]\n",
        "data.features_string=data.features_string.str.replace(\" \",\"_\")\n",
        "data.features_string[0:5]\n",
        "train=data[data.sod=='train']\n",
        "test=data[data.sod=='test']\n",
        "\n",
        "bins1=[0,20,40,60,80,100,120,140,160,180,200,220,240,260,280,300]\n",
        "import numpy as np\n",
        "data['desc_bins']=np.digitize(data.description_word_count, bins1)\n",
        "\n",
        "data.head()"
      ]
    },
    {
      "cell_type": "code",
      "execution_count": null,
      "metadata": {
        "_cell_guid": "8aefa7a5-f974-4488-9908-7b3fc98be908"
      },
      "outputs": [],
      "source": [
        "print(\"train \",train.shape)\n",
        "print(\"test \",test.shape)\n",
        "print(\"total \",data.shape)"
      ]
    },
    {
      "cell_type": "markdown",
      "metadata": {
        "_cell_guid": "3313f241-34d7-7177-f412-e2a52c88fb57"
      },
      "source": [
        "# Does description affect interest levels\n"
      ]
    },
    {
      "cell_type": "code",
      "execution_count": null,
      "metadata": {
        "_cell_guid": "a5d19062-bcf3-7839-7bba-ba7483e7cf04"
      },
      "outputs": [],
      "source": [
        "data['desc_bins'].value_counts().plot(kind='bar')"
      ]
    },
    {
      "cell_type": "markdown",
      "metadata": {
        "_cell_guid": "264e4c99-1425-3492-43f3-a8b46668a7b3"
      },
      "source": [
        "Notice pattern when not much description interest is low and as description increases interest level increases and when its too verbose it falls as well"
      ]
    },
    {
      "cell_type": "markdown",
      "metadata": {
        "_cell_guid": "23f142c2-0974-9059-6256-43ef3591e9ed"
      },
      "source": [
        "# Does number of bathrooms affect interest levels"
      ]
    },
    {
      "cell_type": "code",
      "execution_count": null,
      "metadata": {
        "_cell_guid": "a09edcdd-72b9-9a8b-e130-1f6f3d94416f"
      },
      "outputs": [],
      "source": [
        "\n",
        "ax=train.bathrooms.value_counts().plot(kind='bar')\n",
        "ax.set(xlabel='bathrooms',ylabel='count',title='bathroom distribution')"
      ]
    },
    {
      "cell_type": "code",
      "execution_count": null,
      "metadata": {
        "_cell_guid": "f449a14d-2d89-c50b-cef1-a7e8a54dbb17"
      },
      "outputs": [],
      "source": [
        "train.loc[train.bathrooms>3,'bathrooms']=3\n",
        "\n",
        "ax=pd.crosstab(train.bathrooms,train.interest_level).plot(kind='bar')\n",
        "ax.set(ylabel='count',title='number of bathrooms by interest level')"
      ]
    },
    {
      "cell_type": "markdown",
      "metadata": {
        "_cell_guid": "3f00f0d8-4427-ead9-53d6-012470feb840"
      },
      "source": [
        "Lots of people prefer 1/2 bathrooms"
      ]
    },
    {
      "cell_type": "markdown",
      "metadata": {
        "_cell_guid": "70ab6ce5-4b0f-467a-e12b-ca27125ae3cd"
      },
      "source": [
        "# Does number of bedrooms affect interest levels"
      ]
    },
    {
      "cell_type": "code",
      "execution_count": null,
      "metadata": {
        "_cell_guid": "117ea9ad-c4ef-eba0-c376-2b548a853664"
      },
      "outputs": [],
      "source": [
        "train.bedrooms.value_counts().plot(kind='bar')"
      ]
    },
    {
      "cell_type": "code",
      "execution_count": null,
      "metadata": {
        "_cell_guid": "801cb127-30e3-dc0f-9c93-f14b5d24c3db"
      },
      "outputs": [],
      "source": [
        "train.loc[train.bedrooms>=4,'bedrooms']=4\n",
        "pd.crosstab(train.bedrooms,train.interest_level).plot(kind='bar')"
      ]
    },
    {
      "cell_type": "markdown",
      "metadata": {
        "_cell_guid": "beb6f258-8ea0-a036-188b-efbe053efe5a"
      },
      "source": [
        "# Does rent affect interest levels"
      ]
    },
    {
      "cell_type": "code",
      "execution_count": null,
      "metadata": {
        "_cell_guid": "89c2bf52-7117-d7a1-e2dd-00bb8a7a9f42"
      },
      "outputs": [],
      "source": [
        "train.price.quantile([.1, .25,.5,0.6,0.75,0.9,0.95,0.99,1])"
      ]
    },
    {
      "cell_type": "code",
      "execution_count": null,
      "metadata": {
        "_cell_guid": "c11908e4-42a9-1a17-75d7-d389abd6c587"
      },
      "outputs": [],
      "source": [
        "train1=train.loc[train.price<13000]\n",
        "train1.boxplot(by='interest_level',column='price')"
      ]
    },
    {
      "cell_type": "markdown",
      "metadata": {
        "_cell_guid": "98aeac4e-9312-b76d-8e5a-ba7050f7e737"
      },
      "source": [
        "As expected cheaper rents attract more interest"
      ]
    },
    {
      "cell_type": "markdown",
      "metadata": {
        "_cell_guid": "219805c6-426a-b078-4aaf-e79630699a8d"
      },
      "source": [
        "# Does number of photos affect interest level"
      ]
    },
    {
      "cell_type": "code",
      "execution_count": null,
      "metadata": {
        "_cell_guid": "28939ce5-2ab7-2253-0037-c0e57541f125"
      },
      "outputs": [],
      "source": [
        "train1=train[train.no_of_photos<=14]\n",
        "pd.crosstab(train1.no_of_photos,train1.interest_level).plot(kind='bar')"
      ]
    },
    {
      "cell_type": "markdown",
      "metadata": {
        "_cell_guid": "240516d2-209c-3546-5889-fcfa9f123f2e"
      },
      "source": [
        "# Does number of features affect interest level"
      ]
    },
    {
      "cell_type": "code",
      "execution_count": null,
      "metadata": {
        "_cell_guid": "515e01e6-f2cd-c3ee-90b4-54f58af9f29e"
      },
      "outputs": [],
      "source": [
        "train.loc[train.num_features>=17,'num_features']=17\n",
        "pd.crosstab(train.num_features,train.interest_level).plot(kind='bar')"
      ]
    },
    {
      "cell_type": "markdown",
      "metadata": {
        "_cell_guid": "27a29f19-5746-ad64-38f7-c5dd54761c77"
      },
      "source": [
        "# Does location affect interest level"
      ]
    },
    {
      "cell_type": "code",
      "execution_count": null,
      "metadata": {
        "_cell_guid": "26bb0a02-ca97-9781-f2a5-aedf822cb54b"
      },
      "outputs": [],
      "source": [
        "from mpl_toolkits.basemap import Basemap\n",
        "import matplotlib.pyplot as plt\n",
        "%matplotlib inline\n",
        "import numpy as np\n",
        "plt.figure(figsize=(15,8))\n",
        "m = Basemap(projection='merc',llcrnrlat=40.55,urcrnrlat=40.82,area_thresh = 0.1,\n",
        "            llcrnrlon=-74.1, urcrnrlon=-73.82, lat_ts=40.5,resolution='h')\n",
        "m.drawcoastlines()\n",
        "m.drawrivers()\n",
        "m.fillcontinents()\n",
        "m.drawmapboundary() \n",
        "colors = ['yellow','green','red']\n",
        "\n",
        "df=train.loc[train.interest_level=='low',:]\n",
        "\n",
        "x, y = m(list(df[\"longitude\"].astype(float)), list(df[\"latitude\"].astype(float)))\n",
        "plot1=m.plot(x, y, 'go', markersize = 3, alpha = 0.8, color = colors[0],label='Low')\n",
        "\n",
        "df=train.loc[train.interest_level=='medium',:]\n",
        "x, y = m(list(df[\"longitude\"].astype(float)), list(df[\"latitude\"].astype(float)))\n",
        "plot2=m.plot(x, y, 'go', markersize = 2, alpha = 0.8, color = colors[1],label='Medium')\n",
        "\n",
        "\n",
        "df=train.loc[train.interest_level=='high',:]\n",
        "x, y = m(list(df[\"longitude\"].astype(float)), list(df[\"latitude\"].astype(float)))\n",
        "plot3=m.plot(x, y, 'go', markersize = 1, alpha = 0.8, color = colors[2],label='High')\n",
        "\n",
        "\n",
        "\n",
        "plt.title('Rental analysis')\n",
        "plt.legend()\n",
        "plt.show()\n",
        "#lower manhattan and upper east side is expensive "
      ]
    },
    {
      "cell_type": "code",
      "execution_count": null,
      "metadata": {
        "_cell_guid": "afb9c3f9-3727-716b-eb60-a707a54e9b98"
      },
      "outputs": [],
      "source": [
        "rcParams['figure.figsize'] = 10, 8\n",
        "\n",
        "plot1=train.loc[train.interest_level=='high'].plot.scatter(x='latitude',y='longitude',c='red').set_title(\"High interest level\")\n"
      ]
    },
    {
      "cell_type": "markdown",
      "metadata": {
        "_cell_guid": "61002893-deca-01bc-7ed1-4e573d29948e"
      },
      "source": [
        "# Are certain address more preferred"
      ]
    },
    {
      "cell_type": "code",
      "execution_count": null,
      "metadata": {
        "_cell_guid": "c86095e9-bba6-41ee-24be-f07851a3dde7"
      },
      "outputs": [],
      "source": [
        "rcParams['figure.figsize'] = 10, 5\n",
        "\n",
        "df=train.display_address.value_counts()\n",
        "ax=df.hist(bins=100,log=True)\n",
        "ax.set(ylabel=\"log_count\",xlabel='number of times address appears')"
      ]
    },
    {
      "cell_type": "markdown",
      "metadata": {
        "_cell_guid": "0b1e6765-27fc-e92a-5927-b299131903c3"
      },
      "source": [
        "Most address occur less than 100 times very few appear over 250"
      ]
    },
    {
      "cell_type": "markdown",
      "metadata": {
        "_cell_guid": "dcb3b986-7047-d76d-6e62-38bac17a5a29"
      },
      "source": [
        "# Are certain buildings more preferred"
      ]
    },
    {
      "cell_type": "code",
      "execution_count": null,
      "metadata": {
        "_cell_guid": "3beec0ef-353e-2b52-efd0-44e30ebe925d"
      },
      "outputs": [],
      "source": [
        "df=train.building_id.value_counts()\n",
        "\n",
        "df.quantile([.1, .25,.5,0.6,0.75,0.9,0.95,0.99,1])\n",
        "#Seems that one building keeps coming up again and again 0 lets remove this\n",
        "df[1:].hist(log=True,bins=100).set(title=\"BuildingID count distribution\",xlabel='Number of times buildingId appears',ylabel='log_count')"
      ]
    },
    {
      "cell_type": "markdown",
      "metadata": {
        "_cell_guid": "27491da8-befa-dd1f-2db1-e41cb0392df4"
      },
      "source": [
        "Most of the buildings occur less than 50 times "
      ]
    },
    {
      "cell_type": "code",
      "execution_count": null,
      "metadata": {
        "_cell_guid": "c4dce03c-1a81-c719-62cf-74463f81ed08"
      },
      "outputs": [],
      "source": [
        "#Are certain strees preferred"
      ]
    },
    {
      "cell_type": "code",
      "execution_count": null,
      "metadata": {
        "_cell_guid": "73cbdfed-2894-ff49-fb19-adf55e2934f6"
      },
      "outputs": [],
      "source": [
        "train.street_address.value_counts().hist(log=True,bins=100).set(title='Street address count distribution',xlabel='Number of times street address appears',ylabel='log_count')"
      ]
    },
    {
      "cell_type": "markdown",
      "metadata": {
        "_cell_guid": "c02a074e-d521-aac0-f233-8563e6418261"
      },
      "source": [
        "#Text analysis word clouds\n",
        "Picked this up from SRKs kernel (https://www.kaggle.com/sudalairajkumar/two-sigma-connect-rental-listing-inquiries/simple-exploration-notebook-2-connect)"
      ]
    },
    {
      "cell_type": "code",
      "execution_count": null,
      "metadata": {
        "_cell_guid": "4d38dfe0-041b-6f9e-7044-70f0e3cde7f9"
      },
      "outputs": [],
      "source": [
        "from wordcloud import WordCloud\n",
        "import matplotlib.pyplot as plt\n",
        "\n",
        "plt.figure(figsize=(12,6))\n",
        "str1 = ' '.join(data.features_string.tolist())\n",
        "wordcloud = WordCloud(background_color='white', width=600, height=300, max_font_size=40,max_words=100).generate(str1)\n",
        "wordcloud.recolor(random_state=0)\n",
        "plt.imshow(wordcloud)\n",
        "plt.title(\"Wordcloud for features\", fontsize=30)\n",
        "plt.axis(\"off\")\n",
        "plt.show()\n",
        "\n"
      ]
    },
    {
      "cell_type": "code",
      "execution_count": null,
      "metadata": {
        "_cell_guid": "28aaafed-7c38-7a86-a0b7-f5a8d5c4cf95"
      },
      "outputs": [],
      "source": [
        "from wordcloud import WordCloud\n",
        "plt.figure(figsize=(12,6))\n",
        "str2 = ' '.join(data.description.tolist())\n",
        "wordcloud = WordCloud(background_color='white', width=600, height=300, max_font_size=40,max_words=100).generate(str2)\n",
        "wordcloud.recolor(random_state=0)\n",
        "plt.imshow(wordcloud)\n",
        "plt.title(\"Wordcloud for description\", fontsize=30)\n",
        "plt.axis(\"off\")\n",
        "plt.show()\n",
        "\n"
      ]
    },
    {
      "cell_type": "code",
      "execution_count": null,
      "metadata": {
        "_cell_guid": "afce3467-12b4-c0c7-2839-836f2e7b5514"
      },
      "outputs": [],
      "source": [
        "from wordcloud import WordCloud\n",
        "plt.figure(figsize=(12,6))\n",
        "str2 = ' '.join(data.display_address.tolist())\n",
        "wordcloud = WordCloud(background_color='white', width=600, height=300, max_font_size=40,max_words=60).generate(str2)\n",
        "wordcloud.recolor(random_state=0)\n",
        "plt.imshow(wordcloud)\n",
        "plt.title(\"Wordcloud for display addresses\", fontsize=30)\n",
        "plt.axis(\"off\")\n",
        "plt.show()\n",
        "\n"
      ]
    },
    {
      "cell_type": "code",
      "execution_count": null,
      "metadata": {
        "_cell_guid": "8c2901bc-4861-353b-80e4-e5623e495ad3"
      },
      "outputs": [],
      "source": [
        "from wordcloud import WordCloud\n",
        "plt.figure(figsize=(12,6))\n",
        "str2 = ' '.join(data.street_address.tolist())\n",
        "wordcloud = WordCloud(background_color='white', width=600, height=300, max_font_size=40,max_words=60).generate(str2)\n",
        "wordcloud.recolor(random_state=0)\n",
        "plt.imshow(wordcloud)\n",
        "plt.title(\"Wordcloud for street addresses\", fontsize=30)\n",
        "plt.axis(\"off\")\n",
        "plt.show()\n",
        "\n"
      ]
    }
  ],
  "metadata": {
    "_change_revision": 0,
    "_is_fork": false,
    "kernelspec": {
      "display_name": "Python 3",
      "language": "python",
      "name": "python3"
    },
    "language_info": {
      "codemirror_mode": {
        "name": "ipython",
        "version": 3
      },
      "file_extension": ".py",
      "mimetype": "text/x-python",
      "name": "python",
      "nbconvert_exporter": "python",
      "pygments_lexer": "ipython3",
      "version": "3.6.0"
    }
  },
  "nbformat": 4,
  "nbformat_minor": 0
}