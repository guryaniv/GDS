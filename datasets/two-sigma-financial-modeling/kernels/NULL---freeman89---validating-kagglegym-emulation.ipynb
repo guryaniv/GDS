{
  "cells": [
    {
      "cell_type": "markdown",
      "metadata": {
        "_cell_guid": "6e156be5-81a6-4557-6b1f-a68407ad1859"
      },
      "source": [
        "I found kagglegym_emulation to be very helpfull (https://www.kaggle.com/slothouber/two-sigma-financial-modeling/kagglegym-emulation). What this script does is validating it against the actual kagglegym. I used some snippets from this script https://www.kaggle.com/sankhamukherjee/two-sigma-financial-modeling/prediction-model-elastic-net. \n",
        "\n",
        "Vote up if you find it meaningful :)"
      ]
    },
    {
      "cell_type": "code",
      "execution_count": null,
      "metadata": {
        "_cell_guid": "86281034-88f8-3f24-375b-89c87a38b3ea"
      },
      "outputs": [],
      "source": [
        "import pandas as pd\n",
        "import numpy as np\n",
        "from sklearn.metrics import r2_score\n",
        "from sklearn.linear_model import ElasticNetCV\n",
        "import kagglegym\n",
        "import math"
      ]
    },
    {
      "cell_type": "code",
      "execution_count": null,
      "metadata": {
        "_cell_guid": "e8194264-4de7-e96a-7c02-fdaa0924437e"
      },
      "outputs": [],
      "source": [
        "# kagglegym_emulation code\n",
        "def r_score(y_true, y_pred):\n",
        "    r2 = r2_score(y_true, y_pred)\n",
        "    r = np.sign(r2) * np.sqrt(np.abs(r2))\n",
        "    return max(-1, r)\n",
        "\n",
        "\n",
        "class Observation(object):\n",
        "    def __init__(self, train, target, features):\n",
        "        self.train = train\n",
        "        self.target = target\n",
        "        self.features = features\n",
        "\n",
        "\n",
        "class Environment(object):\n",
        "    def __init__(self):\n",
        "        with pd.HDFStore(\"../input/train.h5\", \"r\") as hfdata:\n",
        "            self.timestamp = 0\n",
        "            fullset = hfdata.get(\"train\")\n",
        "            self.unique_timestamp = fullset[\"timestamp\"].unique()\n",
        "            # Get a list of unique timestamps\n",
        "            # use the first half for training and\n",
        "            # the second half for the test set\n",
        "            n = len(self.unique_timestamp)\n",
        "            i = int(n/2)\n",
        "            timesplit = self.unique_timestamp[i]\n",
        "            self.n = n\n",
        "            self.unique_idx = i\n",
        "            self.train = fullset[fullset.timestamp < timesplit]\n",
        "            self.test = fullset[fullset.timestamp >= timesplit]\n",
        "\n",
        "            # Needed to compute final score\n",
        "            self.full = self.test.loc[:, ['timestamp', 'y']]\n",
        "            self.full['y_hat'] = 0.0\n",
        "            self.temp_test_y = None\n",
        "\n",
        "    def reset(self):\n",
        "        timesplit = self.unique_timestamp[self.unique_idx]\n",
        "\n",
        "        self.unique_idx = int(self.n / 2)\n",
        "        self.unique_idx += 1\n",
        "        subset = self.test[self.test.timestamp == timesplit]\n",
        "\n",
        "        # reset index to conform to how kagglegym works\n",
        "        target = subset.loc[:, ['id', 'y']].reset_index(drop=True)\n",
        "        self.temp_test_y = target['y']\n",
        "\n",
        "        target.loc[:, 'y'] = 0.0  # set the prediction column to zero\n",
        "\n",
        "        # changed bounds to 0:110 from 1:111 to mimic the behavior\n",
        "        # of api for feature\n",
        "        features = subset.iloc[:, :110].reset_index(drop=True)\n",
        "\n",
        "        observation = Observation(self.train, target, features)\n",
        "        return observation\n",
        "\n",
        "    def step(self, target):\n",
        "        timesplit = self.unique_timestamp[self.unique_idx-1]\n",
        "        # Since full and target have a different index we need\n",
        "        # to do a _values trick here to get the assignment working\n",
        "        y_hat = target.loc[:, ['y']]\n",
        "        self.full.loc[self.full.timestamp == timesplit, ['y_hat']] = y_hat._values\n",
        "\n",
        "        if self.unique_idx == self.n:\n",
        "            done = True\n",
        "            observation = None\n",
        "            reward = r_score(self.temp_test_y, target.loc[:, 'y'])\n",
        "            score = r_score(self.full['y'], self.full['y_hat'])\n",
        "            info = {'public_score': score}\n",
        "        else:\n",
        "            reward = r_score(self.temp_test_y, target.loc[:, 'y'])\n",
        "            done = False\n",
        "            info = {}\n",
        "            timesplit = self.unique_timestamp[self.unique_idx]\n",
        "            self.unique_idx += 1\n",
        "            subset = self.test[self.test.timestamp == timesplit]\n",
        "\n",
        "            # reset index to conform to how kagglegym works\n",
        "            target = subset.loc[:, ['id', 'y']].reset_index(drop=True)\n",
        "            self.temp_test_y = target['y']\n",
        "\n",
        "            # set the prediction column to zero\n",
        "            target.loc[:, 'y'] = 0\n",
        "\n",
        "            # column bound change on the subset\n",
        "            # reset index to conform to how kagglegym works\n",
        "            features = subset.iloc[:, 0:110].reset_index(drop=True)\n",
        "\n",
        "            observation = Observation(self.train, target, features)\n",
        "\n",
        "        return observation, reward, done, info\n",
        "\n",
        "    def __str__(self):\n",
        "        return \"Environment()\"\n",
        "\n",
        "\n",
        "def make():\n",
        "    return Environment()"
      ]
    },
    {
      "cell_type": "code",
      "execution_count": null,
      "metadata": {
        "_cell_guid": "7cc948d3-233f-e87c-2e81-b82f845a7ba3"
      },
      "outputs": [],
      "source": [
        "# predictive model wrapper, also see https://www.kaggle.com/sankhamukherjee/two-sigma-financial-modeling/prediction-model-elastic-net\n",
        "class fitModel():\n",
        "    def __init__(self, model, train, columns):\n",
        "\n",
        "        # first save the model ...\n",
        "        self.model   = model\n",
        "        self.columns = columns\n",
        "        \n",
        "        # Get the X, and y values, \n",
        "        y = np.array(train.y)\n",
        "        \n",
        "        X = train[columns]\n",
        "        self.xMeans = X.mean(axis=0) # Remember to save this value\n",
        "        self.xStd   = X.std(axis=0)  # Remember to save this value\n",
        "\n",
        "        X = np.array(X.fillna( self.xMeans ))\n",
        "        X = (X - np.array(self.xMeans))/np.array(self.xStd)\n",
        "        \n",
        "        # fit the model\n",
        "        self.model.fit(X, y)\n",
        "        \n",
        "        return\n",
        "    \n",
        "    def predict(self, features):\n",
        "        X = features[self.columns]\n",
        "        X = np.array(X.fillna( self.xMeans ))\n",
        "        X = (X - np.array(self.xMeans))/np.array(self.xStd)\n",
        "\n",
        "        return self.model.predict(X)"
      ]
    },
    {
      "cell_type": "code",
      "execution_count": null,
      "metadata": {
        "_cell_guid": "51b350b3-7e54-4d1a-9f71-45902945141e"
      },
      "outputs": [],
      "source": [
        "def list_match(list_a, list_b):\n",
        "    for i, j in zip(list_a, list_b):\n",
        "        if i != j:\n",
        "            return False\n",
        "    return True"
      ]
    },
    {
      "cell_type": "code",
      "execution_count": null,
      "metadata": {
        "_cell_guid": "3f2db465-aa4b-d21b-4274-9f51f90e67a9"
      },
      "outputs": [],
      "source": [
        "# Validaiton of kagglegym_emulation\n",
        "env = kagglegym.make()\n",
        "env_test = make()\n",
        "\n",
        "# Check observations\n",
        "observation = env.reset()\n",
        "observation_test = env_test.reset()\n",
        "assert list_match(observation.train.id.values, observation_test.train.id.values)    \n",
        "    \n",
        "elastic_net = ElasticNetCV()\n",
        "columns = ['technical_30', 'technical_20', 'fundamental_11', 'technical_19']\n",
        "model = fitModel(elastic_net, observation.train.copy(), columns)\n",
        "model_test = fitModel(elastic_net, observation_test.train.copy(), columns)\n",
        "\n",
        "while True:\n",
        "        \n",
        "    prediction       = model.predict(observation.features.copy())\n",
        "    prediction_test  = model_test.predict(observation_test.features.copy())\n",
        "    \n",
        "    assert list_match(prediction, prediction_test)\n",
        "  \n",
        "    \n",
        "    target           = observation.target\n",
        "    target_test      = observation_test.target\n",
        "    target['y'] = prediction\n",
        "    target_test['y'] = prediction_test\n",
        "        \n",
        "    timestamp = observation.features[\"timestamp\"][0]\n",
        "    if timestamp % 100 == 0:\n",
        "        print(timestamp)\n",
        "    \n",
        "    observation, reward, done, info = env.step(target)\n",
        "    observation_test, reward_test, done_test, info_test = env_test.step(target)\n",
        "    \n",
        "\n",
        "    assert done == done_test\n",
        "    assert math.isclose(reward, reward_test, abs_tol=5e-05)\n",
        "    \n",
        "\n",
        "    if done: \n",
        "        assert math.isclose(info['public_score'],info_test['public_score'],  abs_tol=1e-07)\n",
        "        print('Info:',info['public_score'],'Info-test:',info_test['public_score'])\n",
        "        break"
      ]
    },
    {
      "cell_type": "markdown",
      "metadata": {
        "_cell_guid": "3ba6cf08-3ccf-bb16-0f98-e53641d52f29"
      },
      "source": [
        "**VALIDATED SUCCESSFULLY !!!**"
      ]
    },
    {
      "cell_type": "code",
      "execution_count": null,
      "metadata": {
        "_cell_guid": "11d81834-a457-4cfc-2ed2-98a245e01a49"
      },
      "outputs": [],
      "source": [
        ""
      ]
    }
  ],
  "metadata": {
    "_change_revision": 0,
    "_is_fork": false,
    "kernelspec": {
      "display_name": "Python 3",
      "language": "python",
      "name": "python3"
    },
    "language_info": {
      "codemirror_mode": {
        "name": "ipython",
        "version": 3
      },
      "file_extension": ".py",
      "mimetype": "text/x-python",
      "name": "python",
      "nbconvert_exporter": "python",
      "pygments_lexer": "ipython3",
      "version": "3.5.2"
    }
  },
  "nbformat": 4,
  "nbformat_minor": 0
}