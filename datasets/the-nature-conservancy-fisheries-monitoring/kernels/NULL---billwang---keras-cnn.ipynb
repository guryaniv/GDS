{
  "metadata": {
    "kernelspec": {
      "display_name": "Python 3",
      "language": "python",
      "name": "python3"
    },
    "language_info": {
      "codemirror_mode": {
        "name": "ipython",
        "version": 3
      },
      "file_extension": ".py",
      "mimetype": "text/x-python",
      "name": "python",
      "nbconvert_exporter": "python",
      "pygments_lexer": "ipython3",
      "version": "3.6.0"
    }
  },
  "nbformat": 4,
  "nbformat_minor": 0,
  "cells": [
    {
      "cell_type": "markdown",
      "metadata": {
        "_cell_guid": "c225ab0a-cd03-0a54-ddb6-cafed0a8a68b",
        "_active": false
      },
      "source": "import *",
      "execution_count": null,
      "outputs": [],
      "execution_state": "idle"
    },
    {
      "cell_type": "code",
      "execution_count": null,
      "metadata": {
        "_cell_guid": "b0c34c76-d5a8-08fb-7990-b31beb071c10",
        "_active": true
      },
      "outputs": [],
      "source": "import cv2 as cv\nimport glob\nimport random\nimport numpy as np\nfrom scipy.misc import imread\nimport os\nfrom keras.utils import np_utils\nfrom keras.models import Sequential\nfrom keras.layers import Dense,Convolution2D,MaxPooling2D,Flatten,Activation\nfrom keras.optimizers import Adam\nfrom sklearn.cross_validation import train_test_split",
      "execution_state": "idle"
    },
    {
      "cell_type": "code",
      "execution_count": null,
      "metadata": {
        "_cell_guid": "4ad88407-2e98-1904-66f8-a2df647e940b",
        "_active": false
      },
      "outputs": [],
      "source": "species =['ALB', 'BET', 'DOL', 'LAG', 'NoF', 'OTHER', 'SHARK', 'YFT']\nselect = 1000\n\nROWS = 90  #720\nCOLS = 160 #1280\nCHANNELS = 3\nPATH = './input/'\n\ndef get_image(file):\n    pos1 = file.rfind('/img_')\n    return  file[pos1+1:]\n\ndef get_id(file):\n    pos1 = file.rfind('_')\n    pos2 = file.rfind('.')\n    return  file[pos1+1:pos2]\n\ndef load_train_data(select):\n    train_files = sorted(glob.glob(PATH+'/train/*/*.jpg'), key=lambda x: random.random())[:select]\n    train = np.array([imread(img) for img in train_files])\n    X_train = np.array([cv.resize(img,(ROWS,COLS))for img in train])\n    y =np.array([species.index(os.path.dirname(img).replace(PATH+'/train/','')) for img in train_files])\n    ids =np.array([get_id(img) for img in train_files])\n    X_train = np.array(X_train,dtype=np.float32)/255\n    return  X_train, y, ids\n\ndef load_test_data():\n    test_files = sorted(glob.glob(PATH+'/test_stg1/*.jpg'))\n    test = np.array([imread(img) for img in test_files])\n    X_test = np.array([cv.resize(img,(ROWS,COLS))for img in test])\n    X_test = np.array(X_test,dtype=np.float32)/255\n    ids =np.array([get_image(img) for img in test_files])\n    return X_test, ids",
      "execution_state": "idle"
    },
    {
      "cell_type": "code",
      "execution_count": null,
      "metadata": {
        "_cell_guid": "53282863-478a-8583-5ab3-ec160bc278b6",
        "_active": false
      },
      "outputs": [],
      "source": "X, y, ids = load_train_data(select)\n\nprint (X.shape)",
      "execution_state": "idle"
    },
    {
      "cell_type": "code",
      "execution_count": null,
      "metadata": {
        "_cell_guid": "a97affc2-fe26-4ad3-2719-ccbae22fb5ed",
        "_active": false
      },
      "outputs": [],
      "source": "X_train, X_test, y_train, y_test = train_test_split(X, y, test_size=0.33, random_state=42)",
      "execution_state": "idle"
    },
    {
      "cell_type": "code",
      "execution_count": null,
      "metadata": {
        "_cell_guid": "01104385-9299-ce24-fd9d-c13caaa9212f",
        "_active": false
      },
      "outputs": [],
      "source": "from keras.models import load_model\nfrom keras.layers import Dropout\nmodel = Sequential()\nmodel.add(Convolution2D(\n    nb_filter=32,\n    nb_row=5,\n    nb_col=5,\n    border_mode='same',\n    input_shape=(3,ROWS,COLS)\n))\nmodel.add(Activation('relu'))\nmodel.add(MaxPooling2D(\n    pool_size=(2,2),\n    strides=(2,2),\n    border_mode='same',\n))\n\nmodel.add(Convolution2D(64,5,5,border_mode='same'))\nmodel.add(Activation('relu'))\nmodel.add(MaxPooling2D(\n    pool_size=(2,2),\n    strides=(2,2),\n    border_mode='same',\n))\n\nmodel.add(Convolution2D(128,5,5,border_mode='same'))\nmodel.add(Activation('relu'))\nmodel.add(MaxPooling2D(\n    pool_size=(2,2),\n    strides=(2,2),\n    border_mode='same',\n))\n\n\nmodel.add(Flatten())\nmodel.add(Dense(128))\nmodel.add(Dropout(0.5))\nmodel.add(Activation('relu'))\n\n\nmodel.add(Dense(8))\nmodel.add(Dropout(0.5))\nmodel.add(Activation('softmax'))\n\nadam = Adam()\nmodel.compile(optimizer=adam,loss='categorical_crossentropy',metrics=['accuracy'])\n\nmodel.fit(X_train,y_train,nb_epoch=50,batch_size=32)\nloss, accuracy = model.evaluate(X_test,y_test)\n\nprint ('\\n test loss:',loss)\nprint ('\\n test accuracy',accuracy)\n\nmodel.save(\"my_mode.h5\")",
      "execution_state": "idle"
    },
    {
      "cell_type": "code",
      "execution_count": null,
      "metadata": {
        "_cell_guid": "1019e756-c60e-03f3-1dce-c61c1b3e11b2",
        "_active": false
      },
      "outputs": [],
      "source": "test, ids = load_test_data()\ndata = test.transpose((0,3,2,1))\npredictions = model.predict(data, verbose=1)",
      "execution_state": "idle"
    },
    {
      "cell_type": "code",
      "execution_count": null,
      "metadata": {
        "_cell_guid": "d5b7bd79-6e6b-50e9-4f23-7974ae15bb4b",
        "_active": false
      },
      "outputs": [],
      "source": "import pandas as pd\nimport datetime\n\nresult1 = pd.DataFrame(predictions, columns=['ALB', 'BET', 'DOL', 'LAG', 'NoF', 'OTHER', 'SHARK', 'YFT'])\nresult1.loc[:, 'image'] = pd.Series(ids, index=result1.index)\n\nnow = datetime.datetime.now()\nsub_file = 'submission_'+ str(now.strftime(\"%Y-%m-%d-%H-%M\")) + '.csv'\nresult1.to_csv(sub_file, index=False)",
      "execution_state": "idle"
    }
  ]
}