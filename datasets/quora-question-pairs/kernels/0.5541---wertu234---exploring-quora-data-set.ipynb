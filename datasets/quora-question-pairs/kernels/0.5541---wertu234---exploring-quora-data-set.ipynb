{
  "cells": [
    {
      "cell_type": "markdown",
      "metadata": {
        "_cell_guid": "93f725c9-92bc-55a3-4ed2-5788a0295aea"
      },
      "source": [
        "c"
      ]
    },
    {
      "cell_type": "code",
      "execution_count": null,
      "metadata": {
        "_cell_guid": "77acb6ef-2177-ac68-6edc-448d56e1aba5"
      },
      "outputs": [],
      "source": [
        "# This Python 3 environment comes with many helpful analytics libraries installed\n",
        "# It is defined by the kaggle/python docker image: https://github.com/kaggle/docker-python\n",
        "# For example, here's several helpful packages to load in \n",
        "\n",
        "import numpy as np # linear algebra\n",
        "import pandas as pd # data processing, CSV file I/O (e.g. pd.read_csv)\n",
        "\n",
        "# Input data files are available in the \"../input/\" directory.\n",
        "# For example, running this (by clicking run or pressing Shift+Enter) will list the files in the input directory\n",
        "\n",
        "from subprocess import check_output\n",
        "print(check_output([\"ls\", \"../input\"]).decode(\"utf8\"))\n",
        "print(check_output([\"ls\", \"..\"]).decode(\"utf8\"))\n",
        "# Any results you write to the current directory are saved as output."
      ]
    },
    {
      "cell_type": "code",
      "execution_count": null,
      "metadata": {
        "_cell_guid": "d96c1b07-47b5-35f4-6bad-c13b148502cd"
      },
      "outputs": [],
      "source": [
        "train_raw = pd.read_csv(\"../input/train.csv\")"
      ]
    },
    {
      "cell_type": "code",
      "execution_count": null,
      "metadata": {
        "_cell_guid": "dad54b88-2466-a3f4-762a-f0091493bef6"
      },
      "outputs": [],
      "source": [
        "sum(train_raw[\"is_duplicate\"])/len(train_raw.index)\n",
        "train_raw.head\n",
        "\n",
        "\n",
        "len(train_raw.index)\n"
      ]
    },
    {
      "cell_type": "code",
      "execution_count": null,
      "metadata": {
        "_cell_guid": "20e88cc6-2236-3c80-d653-4812296b5851"
      },
      "outputs": [],
      "source": [
        "sum(train_raw[\"is_duplicate\"])/len(train_raw.index)"
      ]
    },
    {
      "cell_type": "code",
      "execution_count": null,
      "metadata": {
        "_cell_guid": "525fb230-5752-10d7-d9e3-005c3c3ae481"
      },
      "outputs": [],
      "source": [
        "train_raw.columns.values"
      ]
    },
    {
      "cell_type": "code",
      "execution_count": null,
      "metadata": {
        "_cell_guid": "2b4505a8-3a3b-1cb6-ac24-3d8b046a21f0"
      },
      "outputs": [],
      "source": [
        "sum(train_raw[\"is_duplicate\"])"
      ]
    },
    {
      "cell_type": "code",
      "execution_count": null,
      "metadata": {
        "_cell_guid": "9732a66b-8990-e4ca-98b7-c779303c33a3"
      },
      "outputs": [],
      "source": [
        "test_raw = pd.read_csv(\"../input/test.csv\")"
      ]
    },
    {
      "cell_type": "code",
      "execution_count": null,
      "metadata": {
        "_cell_guid": "a41752fd-30a0-0fa4-a29d-81a123b0ffdc"
      },
      "outputs": [],
      "source": [
        "test_raw.head\n",
        "\n"
      ]
    },
    {
      "cell_type": "code",
      "execution_count": null,
      "metadata": {
        "_cell_guid": "26237b7a-813b-397e-6113-cd77574d54b5"
      },
      "outputs": [],
      "source": [
        "len(test_raw.index)"
      ]
    },
    {
      "cell_type": "code",
      "execution_count": null,
      "metadata": {
        "_cell_guid": "de617b02-2746-c904-60ed-1055c5ed116f"
      },
      "outputs": [],
      "source": [
        "basepreds = np.repeat(sum(train_raw[\"is_duplicate\"])/len(train_raw.index),len(test_raw.index))"
      ]
    },
    {
      "cell_type": "code",
      "execution_count": null,
      "metadata": {
        "_cell_guid": "f9885f39-e8be-ce89-408b-726e7f01e596"
      },
      "outputs": [],
      "source": [
        "sub1 = pd.DataFrame({\"test_id\" : test_raw[\"test_id\"], \"is_duplicate\" : basepreds})"
      ]
    },
    {
      "cell_type": "code",
      "execution_count": null,
      "metadata": {
        "_cell_guid": "e2a6e1f6-a1c5-e0ee-14b5-39e7c0e256dc"
      },
      "outputs": [],
      "source": [
        "sub1.head"
      ]
    },
    {
      "cell_type": "code",
      "execution_count": null,
      "metadata": {
        "_cell_guid": "2852b4b2-0045-7137-d1c2-a069cf032025"
      },
      "outputs": [],
      "source": [
        "submission1 = sub1.to_csv(\"sub1.csv\", index = False)"
      ]
    },
    {
      "cell_type": "code",
      "execution_count": null,
      "metadata": {
        "_cell_guid": "3ec6887c-72e3-caef-a3a8-bba6b7fed0f3"
      },
      "outputs": [],
      "source": [
        "from sklearn.feature_extraction.text import CountVectorizer"
      ]
    },
    {
      "cell_type": "code",
      "execution_count": null,
      "metadata": {
        "_cell_guid": "fd34a3e7-ed3a-1e78-d653-562db7b1ce51"
      },
      "outputs": [],
      "source": [
        "count_vec = CountVectorizer()"
      ]
    },
    {
      "cell_type": "code",
      "execution_count": null,
      "metadata": {
        "_cell_guid": "1415a338-e03c-8ee3-5a77-3919561ba992"
      },
      "outputs": [],
      "source": [
        "train_q1_counts = count_vec.fit_transform(train_raw[\"question1\"])"
      ]
    },
    {
      "cell_type": "code",
      "execution_count": null,
      "metadata": {
        "_cell_guid": "61c39ec7-99e1-63b2-5ef2-eec582362f5a"
      },
      "outputs": [],
      "source": [
        "train_q1_counts.shape"
      ]
    },
    {
      "cell_type": "code",
      "execution_count": null,
      "metadata": {
        "_cell_guid": "8b3cb242-5a73-7d17-c76e-d36f2ebb79ed"
      },
      "outputs": [],
      "source": [
        "print(train[1]\"question1\"])"
      ]
    },
    {
      "cell_type": "code",
      "execution_count": null,
      "metadata": {
        "_cell_guid": "f3ff2bbb-371c-764c-d5de-f858a19c4cc7"
      },
      "outputs": [],
      "source": [
        "import re\n",
        "\n",
        "clean1 = train_raw.loc[1,\"question1\"].lower()\n",
        "clean2 = re.sub(r'[?.,\\/#!$%\\^&\\*;:{}=\\-_`~()]','',clean1)\n",
        "\n",
        "jacc1 = set(clean2.split())\n",
        "jacc1"
      ]
    },
    {
      "cell_type": "code",
      "execution_count": null,
      "metadata": {
        "_cell_guid": "7d7e10be-c403-d9f8-810f-c60022a08c56"
      },
      "outputs": [],
      "source": [
        "clean1 = train_raw.loc[1,\"question2\"].lower()\n",
        "clean2 = re.sub(r'[?.,\\/#!$%\\^&\\*;:{}=\\-_`~()]','',clean1)\n",
        "\n",
        "jacc2 = set(clean2.split())\n",
        "jacc2"
      ]
    },
    {
      "cell_type": "code",
      "execution_count": null,
      "metadata": {
        "_cell_guid": "9430724e-9863-2a3e-d374-902d64bc959d"
      },
      "outputs": [],
      "source": [
        "union = jacc1.union(jacc2)\n",
        "union"
      ]
    },
    {
      "cell_type": "code",
      "execution_count": null,
      "metadata": {
        "_cell_guid": "3ff7a3a2-2556-7ac9-bc42-54199540613f"
      },
      "outputs": [],
      "source": [
        "intersect = jacc1 & jacc2\n",
        "intersect"
      ]
    },
    {
      "cell_type": "code",
      "execution_count": null,
      "metadata": {
        "_cell_guid": "c74e44ac-8990-71cf-0e2f-422ad1890925"
      },
      "outputs": [],
      "source": [
        "jacc = len(intersect)/len(union)\n",
        "jacc"
      ]
    },
    {
      "cell_type": "code",
      "execution_count": null,
      "metadata": {
        "_cell_guid": "57cf9f95-3456-89e5-7e32-d09f738d6872"
      },
      "outputs": [],
      "source": [
        "len(intersect)"
      ]
    },
    {
      "cell_type": "code",
      "execution_count": null,
      "metadata": {
        "_cell_guid": "7dd6b256-de0c-5236-ddb8-7948a744cfd8"
      },
      "outputs": [],
      "source": [
        "len(union)\n",
        "train_raw['question']"
      ]
    },
    {
      "cell_type": "code",
      "execution_count": null,
      "metadata": {
        "_cell_guid": "e19b9aee-5ced-6924-b4b7-6a22dbe2583a"
      },
      "outputs": [],
      "source": [
        "train_qs = pd.Series(train_raw['question1'].tolist() + train_raw['question2'].tolist()).astype(str)\n",
        "train_qs.dtypes"
      ]
    },
    {
      "cell_type": "code",
      "execution_count": null,
      "metadata": {
        "_cell_guid": "bdf1e1d8-b418-ca17-5d22-cdf4cf5feaa9"
      },
      "outputs": [],
      "source": [
        "words = (\" \".join(train_qs)).lower().split()\n",
        "words"
      ]
    },
    {
      "cell_type": "code",
      "execution_count": null,
      "metadata": {
        "_cell_guid": "95a72d8f-dbc7-3aff-3d32-9b52d9959dd5"
      },
      "outputs": [],
      "source": ""
    }
  ],
  "metadata": {
    "_change_revision": 0,
    "_is_fork": false,
    "kernelspec": {
      "display_name": "Python 3",
      "language": "python",
      "name": "python3"
    },
    "language_info": {
      "codemirror_mode": {
        "name": "ipython",
        "version": 3
      },
      "file_extension": ".py",
      "mimetype": "text/x-python",
      "name": "python",
      "nbconvert_exporter": "python",
      "pygments_lexer": "ipython3",
      "version": "3.6.0"
    }
  },
  "nbformat": 4,
  "nbformat_minor": 0
}