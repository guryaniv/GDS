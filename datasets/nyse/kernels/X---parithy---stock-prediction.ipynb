{
  "metadata": {
    "kernelspec": {
      "display_name": "Python 3",
      "language": "python",
      "name": "python3"
    },
    "language_info": {
      "codemirror_mode": {
        "name": "ipython",
        "version": 3
      },
      "file_extension": ".py",
      "mimetype": "text/x-python",
      "name": "python",
      "nbconvert_exporter": "python",
      "pygments_lexer": "ipython3",
      "version": "3.6.0"
    }
  },
  "nbformat": 4,
  "nbformat_minor": 0,
  "cells": [
    {
      "cell_type": "markdown",
      "metadata": {
        "_cell_guid": "05ecc7a7-949b-dcd5-242e-9f80c8e3aec5",
        "_active": false
      },
      "source": "Stock Prediction using machine learning",
      "outputs": []
    },
    {
      "cell_type": "code",
      "execution_count": 79,
      "metadata": {
        "_cell_guid": "ab56a2a6-a048-5c9d-45ac-02d019737df5",
        "_active": false,
        "collapsed": false
      },
      "outputs": [],
      "source": "1# This Python 3 environment comes with many helpful analytics libraries installed\n# It is defined by the kaggle/python docker image: https://github.com/kaggle/docker-python\n# For example, here's several helpful packages to load in \n\nimport numpy as np # linear algebra\nimport pandas as pd # data processing, CSV file I/O (e.g. pd.read_csv)\nimport matplotlib.pyplot as plt\nfrom matplotlib import style\nimport datetime as dt1\nfrom datetime import datetime as dt\n\n\n\n# Input data files are available in the \"../input/\" directory.\n# For example, running this (by clicking run or pressing Shift+Enter) will list the files in the input directory\n\nfrom subprocess import check_output\nprint(check_output([\"ls\", \"../input\"]).decode(\"utf8\"))\n\n# Any results you write to the current directory are saved as output.",
      "execution_state": "idle"
    },
    {
      "cell_type": "code",
      "execution_count": 80,
      "metadata": {
        "_cell_guid": "60febda3-80c3-fb4c-bb15-ba94bbe86586",
        "_active": false
      },
      "outputs": [],
      "source": "df=pd.read_csv('../input/prices.csv')\ndf.tail()\ndf=df.loc[df['symbol'] == 'CSCO']\nprint(df.tail())",
      "execution_state": "idle"
    },
    {
      "cell_type": "code",
      "execution_count": 81,
      "metadata": {
        "_cell_guid": "5227f185-e902-4e15-95e9-429cc135d2cf",
        "_active": false
      },
      "outputs": [],
      "source": "from sklearn import preprocessing, cross_validation, svm\nfrom sklearn.linear_model import LinearRegression\nimport math",
      "execution_state": "idle"
    },
    {
      "cell_type": "code",
      "execution_count": 82,
      "metadata": {
        "_cell_guid": "12960c79-6b3e-8860-2bc4-3f5095e94627",
        "_active": false,
        "collapsed": false
      },
      "outputs": [],
      "source": "forecast_col = 'close'\ndf.fillna(value=-99999, inplace=True)\nforecast_out = int(math.ceil(0.01 * len(df)))\nprint(forecast_out)\ndf['label'] = df[forecast_col].shift(-forecast_out)\nprint(df.head())",
      "execution_state": "idle"
    },
    {
      "cell_type": "code",
      "execution_count": 83,
      "metadata": {
        "_cell_guid": "9454b817-ef4a-5bb7-7966-b1fd3a81e915",
        "_active": false,
        "collapsed": false
      },
      "outputs": [],
      "source": "#X = np.array(df.drop(['label'], 1))\n\nX=np.array(df.drop(['label','symbol','date'], axis=1))\n#print(X)\nX = preprocessing.scale(X)\n#print(X)\nX_lately = X[-forecast_out:]\n#print(X_lately)\nX = X[:-forecast_out]\ndf.dropna(inplace=True)\ny = np.array(df['label'])\nX_train, X_test, y_train, y_test = cross_validation.train_test_split(X, y, test_size=0.2)",
      "execution_state": "idle"
    },
    {
      "cell_type": "code",
      "execution_count": 84,
      "metadata": {
        "_cell_guid": "6c4ab6c7-5c85-01d8-96b4-50fe7bac6712",
        "_active": false
      },
      "outputs": [],
      "source": "clf = LinearRegression(n_jobs=-1)\nclf.fit(X_train, y_train)\nconfidence = clf.score(X_test, y_test)\nprint(confidence)",
      "execution_state": "idle"
    },
    {
      "cell_type": "code",
      "execution_count": 85,
      "metadata": {
        "_cell_guid": "63360ae6-13ec-13c7-3249-7294f26863d6",
        "_active": true
      },
      "outputs": [],
      "source": "forecast_set = clf.predict(X_lately)\nprint(forecast_set)\ndf['Forecast'] = np.nan\nlast_date = df.iloc[-1].date\nprint(last_date)\nlast_date=dt.strptime(last_date, '%Y-%m-%d').timestamp()\nlast_unix = last_date\none_day = 86400\nnext_unix = last_unix + one_day\n\nfor i in forecast_set:\n    next_date = dt.fromtimestamp(next_unix)\n    next_unix += 86400\n    df.loc[next_date] = [np.nan for _ in range(len(df.columns)-1)]+[i]\nprint(df.tail())\ndf['close'].plot()\ndf['Forecast'].plot()\n#plt.legend(loc=4)\nplt.xlabel('Date')\nplt.ylabel('Price')\nplt.show()",
      "execution_state": "idle"
    }
  ]
}