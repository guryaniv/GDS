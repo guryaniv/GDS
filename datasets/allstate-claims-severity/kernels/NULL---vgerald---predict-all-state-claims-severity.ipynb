{
  "cells": [
    {
      "cell_type": "code",
      "execution_count": null,
      "metadata": {
        "_cell_guid": "b8f06571-8bb6-cdca-b1f9-fe617112ccc1"
      },
      "outputs": [],
      "source": [
        "# This Python 3 environment comes with many helpful analytics libraries installed\n",
        "# It is defined by the kaggle/python docker image: https://github.com/kaggle/docker-python\n",
        "# For example, here's several helpful packages to load in \n",
        "\n",
        "import numpy as np # linear algebra\n",
        "import pandas as pd # data processing, CSV file I/O (e.g. pd.read_csv)\n",
        "\n",
        "# Input data files are available in the \"../input/\" directory.\n",
        "# For example, running this (by clicking run or pressing Shift+Enter) will list the files in the input directory\n",
        "\n",
        "from subprocess import check_output\n",
        "print(check_output([\"ls\", \"../input\"]).decode(\"utf8\"))\n",
        "\n",
        "# Any results you write to the current directory are saved as output."
      ]
    },
    {
      "cell_type": "code",
      "execution_count": null,
      "metadata": {
        "_cell_guid": "9d716c6c-5c34-80f3-6d44-5a9dd83b0e70"
      },
      "outputs": [],
      "source": [
        "__author__ = 'Its Me!'"
      ]
    },
    {
      "cell_type": "code",
      "execution_count": null,
      "metadata": {
        "_cell_guid": "ee23785d-bc68-d95f-cb84-e77d8d276125"
      },
      "outputs": [],
      "source": [
        "import xgboost as xgb\n",
        "\n",
        "from sklearn.metrics import mean_absolute_error\n",
        "import warnings\n",
        "warnings.filterwarnings('ignore')"
      ]
    },
    {
      "cell_type": "code",
      "execution_count": null,
      "metadata": {
        "_cell_guid": "92b266a6-8c24-05dd-d956-6ad1f5d65152"
      },
      "outputs": [],
      "source": [
        "train = pd.read_csv('../input/train.csv', nrows=2000)\n",
        "test = pd.read_csv('../input/test.csv', nrows=2000)"
      ]
    },
    {
      "cell_type": "code",
      "execution_count": null,
      "metadata": {
        "_cell_guid": "79083a91-aa93-8a50-8d5b-6ab36fcbdf9d"
      },
      "outputs": [],
      "source": [
        "# To get a quick understanding of data\n",
        "summary = train.describe()\n",
        "summary = summary.transpose()\n",
        "summary.head()"
      ]
    },
    {
      "cell_type": "code",
      "execution_count": null,
      "metadata": {
        "_cell_guid": "2265bcd9-928b-df59-dc4b-5f9ec845013e"
      },
      "outputs": [],
      "source": [
        "# str(train)    # too big data for str"
      ]
    },
    {
      "cell_type": "code",
      "execution_count": null,
      "metadata": {
        "_cell_guid": "17547ab5-3449-1e0d-3bd9-24f7fb6e909b"
      },
      "outputs": [],
      "source": [
        "train_corr = train.corr()\n",
        "\n",
        "# Set the threshold to select only highly correlated attributes\n",
        "threshold = 0.7\n",
        "#number of features considered\n",
        "size = 15\n",
        "#get the names of all the columns\n",
        "cols=train.columns \n",
        "# List of pairs along with correlation above threshold\n",
        "corr_list = []\n",
        "\n",
        "#Search for the highly correlated pairs\n",
        "for i in range(0,size): #for 'size' features\n",
        "    for j in range(i+1,size): #avoid repetition\n",
        "        if (train_corr.iloc[i,j] >= threshold and train_corr.iloc[i,j] < 1) or (train_corr.iloc[i,j] < 0 and train_corr.iloc[i,j] <= -threshold):\n",
        "            corr_list.append([train_corr.iloc[i,j],i,j]) #store correlation and columns index\n",
        "\n",
        "#Sort to show higher ones first            \n",
        "train_corr_list = sorted(corr_list,key=lambda x: -abs(x[0]))\n",
        "\n",
        "#Print correlations and column names\n",
        "for v,i,j in train_corr_list:\n",
        "    print (\"%s and %s = %.2f\" % (cols[i],cols[j],v))"
      ]
    },
    {
      "cell_type": "code",
      "execution_count": null,
      "metadata": {
        "_cell_guid": "4074a0c1-bccd-879b-e335-bb21a5f41ccf"
      },
      "outputs": [],
      "source": [
        "train_corr_list"
      ]
    },
    {
      "cell_type": "code",
      "execution_count": null,
      "metadata": {
        "_cell_guid": "d9e2b3c1-75b5-62a7-fec0-f6df76e1709c"
      },
      "outputs": [],
      "source": [
        "train_corr_list = np.array(train_corr_list)"
      ]
    },
    {
      "cell_type": "code",
      "execution_count": null,
      "metadata": {
        "_cell_guid": "1902cc97-2673-8bf2-c53d-9e6fbed7444f"
      },
      "outputs": [],
      "source": [
        "train_corr_list = train_corr_list[:,[1,2]]"
      ]
    },
    {
      "cell_type": "code",
      "execution_count": null,
      "metadata": {
        "_cell_guid": "2f6e3e35-3b07-37e7-a52c-c1755fe4fc17"
      },
      "outputs": [],
      "source": [
        "#np.unique(train_corr_list) \n",
        "#train_corr_list.ravel()\n",
        "#np.median(train_corr_list)"
      ]
    },
    {
      "cell_type": "code",
      "execution_count": null,
      "metadata": {
        "_cell_guid": "14a40b70-1fa8-5e21-8925-4fa52a004d2e"
      },
      "outputs": [],
      "source": [
        "from scipy.stats import mode\n",
        "a=mode(train_corr_list.ravel(), axis=None)"
      ]
    },
    {
      "cell_type": "code",
      "execution_count": null,
      "metadata": {
        "_cell_guid": "d650de88-77e6-1b41-4c24-67b20a559717"
      },
      "outputs": [],
      "source": [
        "a"
      ]
    },
    {
      "cell_type": "code",
      "execution_count": null,
      "metadata": {
        "_cell_guid": "3dfd1374-e398-8eb0-aa14-0e0990bc28bd"
      },
      "outputs": [],
      "source": [
        "test_corr = test.corr()\n",
        "\n",
        "# Set the threshold to select only highly correlated attributes\n",
        "threshold = 0.5\n",
        "\n",
        "# List of pairs along with correlation above threshold\n",
        "corr_list = []\n",
        "\n",
        "#Search for the highly correlated pairs\n",
        "for i in range(0,size): #for 'size' features\n",
        "    for j in range(i+1,size): #avoid repetition\n",
        "        if (test_corr.iloc[i,j] >= threshold and test_corr.iloc[i,j] < 1) or (test_corr.iloc[i,j] < 0 and test_corr.iloc[i,j] <= -threshold):\n",
        "            corr_list.append([test_corr.iloc[i,j],i,j]) #store correlation and columns index\n",
        "\n",
        "#Sort to show higher ones first            \n",
        "test_corr_list = sorted(corr_list,key=lambda x: -abs(x[0]))\n",
        "\n",
        "#Print correlations and column names\n",
        "for v,i,j in test_corr_list:\n",
        "    print (\"%s and %s = %.2f\" % (cols[i],cols[j],v))"
      ]
    },
    {
      "cell_type": "code",
      "execution_count": null,
      "metadata": {
        "_cell_guid": "714a0f3a-4537-83f7-06f1-2e4a59b6e976"
      },
      "outputs": [],
      "source": [
        "# http://datascience.stackexchange.com/questions/10459/calculation-and-visualization-of-correlation-matrix-with-pandas\n",
        "def correlation_matrix(df,cols):\n",
        "    import numpy as np\n",
        "    from matplotlib import pyplot as plt\n",
        "    from matplotlib import cm as cm\n",
        "\n",
        "    fig = plt.figure()\n",
        "    ax1 = fig.add_subplot(111)\n",
        "    cmap = cm.get_cmap('jet', 30)\n",
        "    cax = ax1.imshow(df.corr(), interpolation=\"nearest\", cmap=cmap)\n",
        "    ax1.grid(True)\n",
        "    plt.title('Some Feature Correlation')\n",
        "    labels=cols\n",
        "    ax1.set_xticklabels(labels,fontsize=6)\n",
        "    ax1.set_yticklabels(labels,fontsize=6)\n",
        "    # Add colorbar, make sure to specify tick locations to match desired ticklabels\n",
        "    cbar = fig.colorbar(cax, ticks=[.75,.8,.85,.90,.95,1])\n",
        "    plt.show()\n",
        "\n",
        "correlation_matrix(train,cols)"
      ]
    },
    {
      "cell_type": "code",
      "execution_count": null,
      "metadata": {
        "_cell_guid": "8ac2ea12-c08c-4cb9-07ac-94a2c48e670e"
      },
      "outputs": [],
      "source": [
        "remove_cols=['cat12','cat11','cat13','cat10','cat7']   \n",
        "train.drop(remove_cols, axis=1)\n",
        "test.drop(remove_cols, axis=1)\n",
        "train.head(5)"
      ]
    },
    {
      "cell_type": "code",
      "execution_count": null,
      "metadata": {
        "_cell_guid": "977e9fa1-d491-9fc6-2469-1626308e46b9"
      },
      "outputs": [],
      "source": [
        "# review the coorelation with the correlated columns removed\n",
        "correlation_matrix(train,cols)\n",
        "correlation_matrix(test,cols)"
      ]
    },
    {
      "cell_type": "code",
      "execution_count": null,
      "metadata": {
        "_cell_guid": "f9ea9e07-60f1-acd5-521e-804800b832e7"
      },
      "outputs": [],
      "source": [
        "train.columns.to_series().groupby(train.dtypes).groups"
      ]
    },
    {
      "cell_type": "code",
      "execution_count": null,
      "metadata": {
        "_cell_guid": "3bd3cf54-9201-0230-cb5b-6a71a75447e6"
      },
      "outputs": [],
      "source": [
        "# if any object data type, then convert them to category\n",
        "cat_train_cols = train.select_dtypes(['object']).columns\n",
        "for x in cat_train_cols:\n",
        "    train[x] = train[x].astype('category')"
      ]
    },
    {
      "cell_type": "code",
      "execution_count": null,
      "metadata": {
        "_cell_guid": "aa9d6963-a315-717a-88e4-c6546f461796"
      },
      "outputs": [],
      "source": [
        "cat_train_cols = train.select_dtypes(['category']).columns"
      ]
    },
    {
      "cell_type": "code",
      "execution_count": null,
      "metadata": {
        "_cell_guid": "f48bad94-b2b1-0a23-425e-1eebc715d5a0"
      },
      "outputs": [],
      "source": [
        "train[cat_train_cols] = train[cat_train_cols].apply(lambda x: x.cat.codes)"
      ]
    },
    {
      "cell_type": "code",
      "execution_count": null,
      "metadata": {
        "_cell_guid": "e52c80d5-2297-cd9b-d6a3-48f218453f3c"
      },
      "outputs": [],
      "source": [
        "train.head(5)"
      ]
    },
    {
      "cell_type": "code",
      "execution_count": null,
      "metadata": {
        "_cell_guid": "78abbfd5-0152-9896-9890-c539b1d47a8a"
      },
      "outputs": [],
      "source": [
        "train.columns.to_series().groupby(train.dtypes).groups"
      ]
    },
    {
      "cell_type": "code",
      "execution_count": null,
      "metadata": {
        "_cell_guid": "f9f9a644-f575-2333-3485-670f36d458ef"
      },
      "outputs": [],
      "source": [
        "#list(train.columns.values)\n",
        "#list(train)\n",
        "#train.columns.values.tolist()\n",
        "##X_cols = train.columns.difference(['id','loss']).values.tolist()\n",
        "X_cols = train.select_dtypes(['float64']).columns.difference(['loss'])\n",
        "#y_cols = train[['loss']].columns.values.tolist()"
      ]
    },
    {
      "cell_type": "code",
      "execution_count": null,
      "metadata": {
        "_cell_guid": "60b59a3d-8375-b623-8448-c0c73146c2cf"
      },
      "outputs": [],
      "source": [
        "from sklearn.linear_model import LogisticRegression"
      ]
    },
    {
      "cell_type": "code",
      "execution_count": null,
      "metadata": {
        "_cell_guid": "32a9bf45-1cc8-7ca6-8bd6-d409020a3ffe"
      },
      "outputs": [],
      "source": [
        "model = LogisticRegression()"
      ]
    },
    {
      "cell_type": "code",
      "execution_count": null,
      "metadata": {
        "_cell_guid": "2702f42f-da17-3cb0-a6db-6f9ca1a1a2d2"
      },
      "outputs": [],
      "source": [
        "# y_cols = np.ravel(y_cols)\n",
        "y_cols = np.asarray(train['loss'], dtype=\"|S6\")"
      ]
    },
    {
      "cell_type": "code",
      "execution_count": null,
      "metadata": {
        "_cell_guid": "769d08db-3ac1-04ef-c546-b8f6f88d8fc0"
      },
      "outputs": [],
      "source": [
        "model = model.fit(train[X_cols],y_cols)\n",
        "#train[X_cols]\n",
        "#y_cols"
      ]
    },
    {
      "cell_type": "code",
      "execution_count": null,
      "metadata": {
        "_cell_guid": "2ae5959e-e46e-ded0-75aa-8df0adff3689"
      },
      "outputs": [],
      "source": [
        "# check the accuracy on the training set\n",
        "model.score(train[X_cols], y_cols)"
      ]
    },
    {
      "cell_type": "code",
      "execution_count": null,
      "metadata": {
        "_cell_guid": "17c15f5a-acc1-1842-618a-f395f2a2bf1b"
      },
      "outputs": [],
      "source": [
        "from sklearn.ensemble import (RandomTreesEmbedding, RandomForestClassifier)\n",
        "from sklearn.cross_validation import cross_val_score"
      ]
    },
    {
      "cell_type": "code",
      "execution_count": null,
      "metadata": {
        "_cell_guid": "5bec8f17-71fe-50af-8b80-299503beae2c"
      },
      "outputs": [],
      "source": [
        "rf = RandomForestClassifier(n_estimators=100)\n",
        "rf.fit(train[X_cols],y_cols)"
      ]
    },
    {
      "cell_type": "code",
      "execution_count": null,
      "metadata": {
        "_cell_guid": "a033cfd8-dc71-4bbe-ef6c-67f554897aee"
      },
      "outputs": [],
      "source": [
        "rf.score(train[X_cols], y_cols)"
      ]
    },
    {
      "cell_type": "code",
      "execution_count": null,
      "metadata": {
        "_cell_guid": "eaee91cf-30ba-eb9d-43ac-a39a6c65b6db"
      },
      "outputs": [],
      "source": [
        "y_cols = rf.predict(test[X_cols])"
      ]
    },
    {
      "cell_type": "code",
      "execution_count": null,
      "metadata": {
        "_cell_guid": "d0ee3c18-7ee5-915b-97a0-1553929a917b"
      },
      "outputs": [],
      "source": [
        "rf.score(test[X_cols], y_cols)"
      ]
    },
    {
      "cell_type": "code",
      "execution_count": null,
      "metadata": {
        "_cell_guid": "c9e49b02-7fe6-6986-7452-5b4567a97d72"
      },
      "outputs": [],
      "source": [
        "scores = cross_val_score(LogisticRegression(), test[X_cols], y_cols, scoring='accuracy', cv=5)\n",
        "print(scores)\n",
        "print(scores.mean())"
      ]
    },
    {
      "cell_type": "code",
      "execution_count": null,
      "metadata": {
        "_cell_guid": "4c92ebcb-63af-fb32-d575-9dc153ce0ba6"
      },
      "outputs": [],
      "source": [
        "preds = pd.DataFrame({\"id\": test['id'], \"loss\": y_cols})\n",
        "preds.to_csv('AllStateClaimsSeverity_yyyymmdd.csv', index=False)"
      ]
    },
    {
      "cell_type": "code",
      "execution_count": null,
      "metadata": {
        "_cell_guid": "370f036c-698f-cc0f-c8e7-dd94826f2d57"
      },
      "outputs": [],
      "source": [
        "print(check_output([\"ls\"]).decode(\"utf8\"))"
      ]
    }
  ],
  "metadata": {
    "_change_revision": 0,
    "_is_fork": false,
    "kernelspec": {
      "display_name": "Python 3",
      "language": "python",
      "name": "python3"
    },
    "language_info": {
      "codemirror_mode": {
        "name": "ipython",
        "version": 3
      },
      "file_extension": ".py",
      "mimetype": "text/x-python",
      "name": "python",
      "nbconvert_exporter": "python",
      "pygments_lexer": "ipython3",
      "version": "3.5.2"
    }
  },
  "nbformat": 4,
  "nbformat_minor": 0
}