{
  "cells": [
    {
      "cell_type": "markdown",
      "metadata": {
        "_cell_guid": "98f1d2b9-219d-37eb-babd-d7b45ab5081b"
      },
      "source": [
        "A brief examination of the data."
      ]
    },
    {
      "cell_type": "code",
      "execution_count": null,
      "metadata": {
        "_cell_guid": "291a6a43-acb2-1f50-b760-fabf4f460338"
      },
      "outputs": [],
      "source": [
        "# This Python 3 environment comes with many helpful analytics libraries installed\n",
        "# It is defined by the kaggle/python docker image: https://github.com/kaggle/docker-python\n",
        "# For example, here's several helpful packages to load in \n",
        "\n",
        "import numpy as np # linear algebra\n",
        "import pandas as pd # data processing, CSV file I/O (e.g. pd.read_csv)\n",
        "\n",
        "# Input data files are available in the \"../input/\" directory.\n",
        "# For example, running this (by clicking run or pressing Shift+Enter) will list the files in the input directory\n",
        "\n",
        "from subprocess import check_output\n",
        "print(check_output([\"ls\", \"../input\"]).decode(\"utf8\"))\n",
        "\n",
        "# Any results you write to the current directory are saved as output."
      ]
    },
    {
      "cell_type": "code",
      "execution_count": null,
      "metadata": {
        "_cell_guid": "7124d630-e5ce-0802-1b90-240bac9022fc"
      },
      "outputs": [],
      "source": [
        "train_df = pd.read_csv('../input/train.csv')\n",
        "test_df = pd.read_csv('../input/test.csv')"
      ]
    },
    {
      "cell_type": "code",
      "execution_count": null,
      "metadata": {
        "_cell_guid": "0db98605-a125-c074-269f-b3b2e9a5ee6a"
      },
      "outputs": [],
      "source": [
        "train_df.head()"
      ]
    },
    {
      "cell_type": "code",
      "execution_count": null,
      "metadata": {
        "_cell_guid": "15533c68-3811-04a3-8beb-7f6aa8faf3f4"
      },
      "outputs": [],
      "source": [
        "train_df.describe()"
      ]
    },
    {
      "cell_type": "code",
      "execution_count": null,
      "metadata": {
        "_cell_guid": "3c4e5973-c4ee-f7fc-d156-482ceddff15f"
      },
      "outputs": [],
      "source": [
        "train_df.y.hist(bins=50)"
      ]
    },
    {
      "cell_type": "code",
      "execution_count": null,
      "metadata": {
        "_cell_guid": "c4b6e218-0b19-09b5-4342-7ea6d28f87e1"
      },
      "outputs": [],
      "source": [
        "train_df.isnull().values.any()"
      ]
    },
    {
      "cell_type": "markdown",
      "metadata": {
        "_cell_guid": "db9f86e8-5c7e-9ed3-60d3-039b81bfec65"
      },
      "source": [
        "No missing values"
      ]
    },
    {
      "cell_type": "code",
      "execution_count": null,
      "metadata": {
        "_cell_guid": "30007f68-fd11-11cd-5540-83e3b3fe370f"
      },
      "outputs": [],
      "source": [
        "for i in range(9):\n",
        "    if i == 7: continue\n",
        "    v = 'X'+str(i)\n",
        "    print(train_df[v].value_counts())"
      ]
    },
    {
      "cell_type": "code",
      "execution_count": null,
      "metadata": {
        "_cell_guid": "6db592f2-de35-a9af-df3b-cae3dcec36d6"
      },
      "outputs": [],
      "source": [
        "from sklearn.preprocessing import LabelEncoder"
      ]
    },
    {
      "cell_type": "code",
      "execution_count": null,
      "metadata": {
        "_cell_guid": "3935acf9-1c31-3d1d-9466-956c409d7229"
      },
      "outputs": [],
      "source": [
        "for col in train_df.columns:\n",
        "    if train_df[col].dtype == 'object':\n",
        "        lbl = LabelEncoder()\n",
        "        lbl.fit(list(train_df[col].values) + list(test_df[col].values))\n",
        "        train_df[col] = lbl.transform(list(train_df[col].values))\n",
        "        test_df[col] = lbl.transform(list(test_df[col].values))"
      ]
    },
    {
      "cell_type": "code",
      "execution_count": null,
      "metadata": {
        "_cell_guid": "bf23871e-d4d5-1c47-b339-585a1e721e98"
      },
      "outputs": [],
      "source": [
        "train_ys_df = train_df['y']\n",
        "train_xs_df = train_df.drop(['ID', 'y'], axis=1)\n",
        "test_xs_df = test_df.drop(['ID'], axis=1)"
      ]
    },
    {
      "cell_type": "code",
      "execution_count": null,
      "metadata": {
        "_cell_guid": "1422672f-3cfc-58b7-02fe-74a6e3818c77"
      },
      "outputs": [],
      "source": [
        "train_ys_df.head()"
      ]
    },
    {
      "cell_type": "code",
      "execution_count": null,
      "metadata": {
        "_cell_guid": "1c4a368d-6e09-0cdf-853e-8e2fcfe5c423"
      },
      "outputs": [],
      "source": [
        "train_xs_df.head()"
      ]
    },
    {
      "cell_type": "code",
      "execution_count": null,
      "metadata": {
        "_cell_guid": "85970ade-38f0-a93e-7330-aba9e7aa12a4"
      },
      "outputs": [],
      "source": [
        "train_xs_df.shape"
      ]
    },
    {
      "cell_type": "code",
      "execution_count": null,
      "metadata": {
        "_cell_guid": "4018b393-f73b-6bc5-a9e8-f17d3eef6f03"
      },
      "outputs": [],
      "source": [
        "len(train_xs_df['X0'].unique())"
      ]
    },
    {
      "cell_type": "code",
      "execution_count": null,
      "metadata": {
        "_cell_guid": "d3686a32-fff0-2d0c-4515-1414412aa5ca"
      },
      "outputs": [],
      "source": [
        "train_xs_df.X0.describe()"
      ]
    },
    {
      "cell_type": "code",
      "execution_count": null,
      "metadata": {
        "_cell_guid": "1c9a6ec4-a26c-a050-7383-185a2a2f399f"
      },
      "outputs": [],
      "source": [
        "from sklearn.decomposition import PCA"
      ]
    },
    {
      "cell_type": "code",
      "execution_count": null,
      "metadata": {
        "_cell_guid": "14166dc5-7302-b0be-2214-5a22efda1a2a"
      },
      "outputs": [],
      "source": [
        "pca = PCA(n_components=25)\n",
        "\n",
        "pca.fit(train_xs_df)"
      ]
    },
    {
      "cell_type": "code",
      "execution_count": null,
      "metadata": {
        "_cell_guid": "170e0da9-ce67-e11c-d2a9-ee28f004d83b"
      },
      "outputs": [],
      "source": [
        "print(pca.explained_variance_ratio_)"
      ]
    },
    {
      "cell_type": "code",
      "execution_count": null,
      "metadata": {
        "_cell_guid": "6052a7e9-aafa-98e8-401e-5f211584c91f"
      },
      "outputs": [],
      "source": [
        "pca.explained_variance_ratio_.sum()"
      ]
    },
    {
      "cell_type": "code",
      "execution_count": null,
      "metadata": {
        "_cell_guid": "865eba98-daf6-ff21-54b0-e67fb4bf3874"
      },
      "outputs": [],
      "source": [
        "train_xs_pca = pd.DataFrame(pca.transform(train_xs_df))\n",
        "test_xs_pca = pd.DataFrame(pca.transform(test_xs_df))"
      ]
    },
    {
      "cell_type": "code",
      "execution_count": null,
      "metadata": {
        "_cell_guid": "e7ddd59c-9bb4-2543-c0b7-75abbf5c09e2"
      },
      "outputs": [],
      "source": [
        "print(\"Train shape: {}\".format(train_xs_pca.shape))\n",
        "print(\"Test shape: {}\".format(test_xs_pca.shape))"
      ]
    },
    {
      "cell_type": "code",
      "execution_count": null,
      "metadata": {
        "_cell_guid": "7b7b3f41-5e57-1deb-f466-b11cedd9bb5c"
      },
      "outputs": [],
      "source": [
        "from sklearn.linear_model import LinearRegression"
      ]
    },
    {
      "cell_type": "code",
      "execution_count": null,
      "metadata": {
        "_cell_guid": "1c3c6559-f7ac-d13d-6733-8940ac8e59a8"
      },
      "outputs": [],
      "source": [
        "linreg = LinearRegression()"
      ]
    },
    {
      "cell_type": "code",
      "execution_count": null,
      "metadata": {
        "_cell_guid": "7b32fa01-6077-a5d7-56ea-2c33bd405c95"
      },
      "outputs": [],
      "source": [
        "linreg.fit(X=train_xs_pca, y=train_ys_df)"
      ]
    },
    {
      "cell_type": "code",
      "execution_count": null,
      "metadata": {
        "_cell_guid": "09065a2e-9cd9-6a11-9838-1ff5747161aa"
      },
      "outputs": [],
      "source": [
        "test_xs_df = test_df.drop(['ID'], axis=1)"
      ]
    },
    {
      "cell_type": "code",
      "execution_count": null,
      "metadata": {
        "_cell_guid": "857ac076-722f-64b9-8054-859c2cff2412"
      },
      "outputs": [],
      "source": [
        "test_xs_dummies_df = pd.get_dummies(test_xs_df, drop_first=True)"
      ]
    },
    {
      "cell_type": "code",
      "execution_count": null,
      "metadata": {
        "_cell_guid": "1c462b05-dd1e-34cd-1323-a5c024cfe87b"
      },
      "outputs": [],
      "source": [
        "test_xs_df.shape"
      ]
    },
    {
      "cell_type": "code",
      "execution_count": null,
      "metadata": {
        "_cell_guid": "96adce25-29c7-0af6-c50e-5c03a3fb5d1a"
      },
      "outputs": [],
      "source": [
        "test_xs_pca = pd.DataFrame(pca.transform(test_xs_dummies_df))"
      ]
    },
    {
      "cell_type": "code",
      "execution_count": null,
      "metadata": {
        "_cell_guid": "20a109a0-a063-7eab-c26c-98a0bb34fbd6"
      },
      "outputs": [],
      "source": ""
    },
    {
      "cell_type": "code",
      "execution_count": null,
      "metadata": {
        "_cell_guid": "14e151a9-f4a4-8c9b-deae-90395492124f"
      },
      "outputs": [],
      "source": [
        "test_ys = pd.DataFrame(linreg.predict(test_xs_pca))"
      ]
    },
    {
      "cell_type": "code",
      "execution_count": null,
      "metadata": {
        "_cell_guid": "3d8ab421-bcb7-442f-ae9d-6ffa34688bfe"
      },
      "outputs": [],
      "source": ""
    }
  ],
  "metadata": {
    "_change_revision": 0,
    "_is_fork": false,
    "kernelspec": {
      "display_name": "Python 3",
      "language": "python",
      "name": "python3"
    },
    "language_info": {
      "codemirror_mode": {
        "name": "ipython",
        "version": 3
      },
      "file_extension": ".py",
      "mimetype": "text/x-python",
      "name": "python",
      "nbconvert_exporter": "python",
      "pygments_lexer": "ipython3",
      "version": "3.6.0"
    }
  },
  "nbformat": 4,
  "nbformat_minor": 0
}