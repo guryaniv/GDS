{
  "cells": [
    {
      "cell_type": "markdown",
      "metadata": {
        "_cell_guid": "80bda314-b992-8f26-9e4f-6fddaafaeb72"
      },
      "source": [
        "# Working with features"
      ]
    },
    {
      "cell_type": "markdown",
      "metadata": {
        "_cell_guid": "02f92ad0-4a8d-7e19-6382-4b06b08855ab"
      },
      "source": [
        "At first, we will work with data to extract useful features for our model. I will use some methods presented by other users here, too. This kernel is based initially on kernel  Simple Starter Keras NN v2 (https://www.kaggle.com/zeroblue/two-sigma-connect-rental-listing-inquiries/simple-starter-keras-nn-v2) with modifications."
      ]
    },
    {
      "cell_type": "code",
      "execution_count": null,
      "metadata": {
        "_cell_guid": "e79623f8-2d09-8543-bd9a-e12c65cc7437"
      },
      "outputs": [],
      "source": [
        "# This Python 3 environment comes with many helpful analytics libraries installed\n",
        "# It is defined by the kaggle/python docker image: https://github.com/kaggle/docker-python\n",
        "# For example, here's several helpful packages to load in \n",
        "\n",
        "import numpy as np # linear algebra\n",
        "import pandas as pd # data processing, CSV file I/O (e.g. pd.read_csv)\n",
        "\n",
        "from scipy import sparse\n",
        "import xgboost as xgb\n",
        "from sklearn.metrics import log_loss\n",
        "from sklearn.preprocessing import StandardScaler\n",
        "from sklearn import preprocessing\n",
        "from sklearn.cluster import KMeans\n",
        "import time\n",
        "from datetime import timedelta\n",
        "from sklearn.model_selection import StratifiedKFold\n",
        "from keras.models import Sequential\n",
        "from keras.layers import Dense, Dropout\n",
        "from keras.regularizers import l2\n",
        "from keras import optimizers\n",
        "from keras.callbacks import EarlyStopping\n",
        "from keras.constraints import max_norm\n",
        "from keras.layers.advanced_activations import PReLU\n",
        "\n",
        "# Input data files are available in the \"../input/\" directory.\n",
        "# For example, running this (by clicking run or pressing Shift+Enter) will list the files in the input directory\n",
        "\n",
        "from subprocess import check_output\n",
        "print(check_output([\"ls\", \"../input\"]).decode(\"utf8\"))\n",
        "\n",
        "# Any results you write to the current directory are saved as output."
      ]
    },
    {
      "cell_type": "code",
      "execution_count": null,
      "metadata": {
        "_cell_guid": "cea8d7d5-7e5d-54df-8c4a-321e61a5cf16"
      },
      "outputs": [],
      "source": [
        "label_column = 'interest_level'\n",
        "num_classes = 3\n",
        "\n",
        "data_path =  \"../input/\"\n",
        "train_file = data_path + \"train.json\"\n",
        "test_file = data_path + \"test.json\"\n",
        "train = pd.read_json(train_file)\n",
        "test = pd.read_json(test_file)"
      ]
    },
    {
      "cell_type": "code",
      "execution_count": null,
      "metadata": {
        "_cell_guid": "2dbaab10-0c6b-7b64-a87a-a00272a85759"
      },
      "outputs": [],
      "source": [
        "# Make the label numeric\n",
        "label_map = pd.Series({'low': 2, 'medium': 1, 'high': 0})\n",
        "train[label_column] = label_map[train[label_column]].values\n",
        "\n",
        "all_data = train.append(test)\n",
        "all_data.set_index('listing_id', inplace=True)"
      ]
    },
    {
      "cell_type": "code",
      "execution_count": null,
      "metadata": {
        "_cell_guid": "24e4fdfd-690a-78dc-0ca9-fdda8e2b3a44"
      },
      "outputs": [],
      "source": [
        "#Identify bad geographic coordinates\n",
        "all_data['bad_addr'] = 0\n",
        "mask = ~all_data['latitude'].between(40.5, 40.9)\n",
        "mask = mask | ~all_data['longitude'].between(-74.05, -73.7)\n",
        "bad_rows = all_data[mask]\n",
        "all_data.loc[mask, 'bad_addr'] = 1"
      ]
    },
    {
      "cell_type": "markdown",
      "metadata": {
        "_cell_guid": "7adc9ab9-15b0-7a06-7cb5-4a120425e26c"
      },
      "source": [
        "Here we will create neighborhoods, as explained in https://www.kaggle.com/arnaldcat/two-sigma-connect-rental-listing-inquiries/unsupervised-and-supervised-neighborhood-encoding"
      ]
    },
    {
      "cell_type": "code",
      "execution_count": null,
      "metadata": {
        "_cell_guid": "c51ae07b-9c08-647d-7fe0-a7c80cd5610a"
      },
      "outputs": [],
      "source": [
        "# Replace bad values with mean\n",
        "mean_lat = all_data.loc[all_data['bad_addr']==0, 'latitude'].mean()\n",
        "all_data.loc[all_data['bad_addr']==1, 'latitude'] = mean_lat\n",
        "mean_long = all_data.loc[all_data['bad_addr']==0, 'longitude'].mean()\n",
        "all_data.loc[all_data['bad_addr']==1, 'longitude'] = mean_long\n",
        "kmean_model = KMeans(42)\n",
        "loc_df = all_data[['longitude', 'latitude']].copy()\n",
        "standardize = lambda x: (x - x.mean()) / x.std()\n",
        "loc_df['longitude'] = standardize(loc_df['longitude'])\n",
        "loc_df['latitude'] = standardize(loc_df['latitude'])\n",
        "kmean_model.fit(loc_df)\n",
        "all_data['neighborhoods'] = kmean_model.labels_"
      ]
    },
    {
      "cell_type": "code",
      "execution_count": null,
      "metadata": {
        "_cell_guid": "9cb30c2c-a8a2-a3b0-cc8e-3ef4c407eab8"
      },
      "outputs": [],
      "source": [
        "#distance from center\n",
        "lat = np.square(all_data['latitude'] - mean_lat)\n",
        "lng = np.square(all_data['longitude'] - mean_long)\n",
        "all_data['dist_from_center'] = np.sqrt(lat + lng)"
      ]
    },
    {
      "cell_type": "code",
      "execution_count": null,
      "metadata": {
        "_cell_guid": "b6a526b2-4f1d-6da6-e2d6-ed5d1a0b850c"
      },
      "outputs": [],
      "source": [
        "#Fix Bathrooms\n",
        "mask = all_data['bathrooms'] > 9\n",
        "all_data.loc[mask, 'bathrooms'] = 1"
      ]
    },
    {
      "cell_type": "code",
      "execution_count": null,
      "metadata": {
        "_cell_guid": "f9f1e476-6c89-a81e-c4af-077ae920391e"
      },
      "outputs": [],
      "source": [
        "#Break up the date data\n",
        "all_data['created'] = pd.to_datetime(all_data['created'])\n",
        "#all_data['year'] = all_data['created'].dt.year\n",
        "all_data['month'] = all_data['created'].dt.month\n",
        "all_data['day_of_month'] = all_data['created'].dt.day\n",
        "all_data['weekday'] = all_data['created'].dt.dayofweek\n",
        "all_data['day_of_year'] = all_data['created'].dt.dayofyear\n",
        "all_data['hour'] = all_data['created'].dt.hour"
      ]
    },
    {
      "cell_type": "code",
      "execution_count": null,
      "metadata": {
        "_cell_guid": "4f4b9d5e-93f6-5fa7-76d4-5cb6e44c817f"
      },
      "outputs": [],
      "source": [
        "#Counts\n",
        "all_data['count_feat'] = all_data['features'].apply(len)\n",
        "all_data['count_desc'] = all_data['description'].str.split().apply(len)"
      ]
    },
    {
      "cell_type": "code",
      "execution_count": null,
      "metadata": {
        "_cell_guid": "1908286d-2c31-7e2f-b0ae-719a509ccd9e"
      },
      "outputs": [],
      "source": [
        "all_data['addr_has_number'] = all_data['display_address'].str.split().str.get(0)\n",
        "is_digit = lambda x: str(x).isdigit()\n",
        "all_data['addr_has_number'] = all_data['addr_has_number'].apply(is_digit)"
      ]
    },
    {
      "cell_type": "code",
      "execution_count": null,
      "metadata": {
        "_cell_guid": "c0dc2085-0e51-1350-364b-fa35ef255a56"
      },
      "outputs": [],
      "source": [
        "#Bed and bath features\n",
        "all_data['bedrooms'] += 1\n",
        "all_data['bed_to_bath'] = all_data['bathrooms'] \n",
        "all_data['bed_to_bath'] /= all_data['bedrooms']\n",
        "all_data['price_per_bed'] = all_data['price'] / all_data['bedrooms']\n",
        "bath = all_data['bathrooms'].copy()\n",
        "bath.loc[all_data['bathrooms']==0] = 1\n",
        "all_data['price_per_bath'] = all_data['price'] / bath"
      ]
    },
    {
      "cell_type": "markdown",
      "metadata": {
        "_cell_guid": "d95707a4-3e78-a938-1aef-5efc8c70b976"
      },
      "source": [
        "Half bathrooms are not interesting for us (https://www.kaggle.com/arnaldcat/two-sigma-connect-rental-listing-inquiries/a-proxy-for-sqft-and-the-interest-on-1-2-baths/notebook) "
      ]
    },
    {
      "cell_type": "code",
      "execution_count": null,
      "metadata": {
        "_cell_guid": "63ae4f9f-a0a3-be6d-c81b-2b3664eb2f38"
      },
      "outputs": [],
      "source": [
        "all_data['half_bath'] = all_data['bathrooms'] == all_data['bathrooms'] // 1"
      ]
    },
    {
      "cell_type": "code",
      "execution_count": null,
      "metadata": {
        "_cell_guid": "59832edb-936d-e83a-5e8f-8cccb9a114db"
      },
      "outputs": [],
      "source": [
        "all_data['rooms'] = all_data['bathrooms'] * 0.5 + all_data['bedrooms']\n",
        "all_data['price_per_room'] = all_data['price'] / all_data['rooms']"
      ]
    },
    {
      "cell_type": "code",
      "execution_count": null,
      "metadata": {
        "_cell_guid": "1b7f7921-f696-4ec8-8e9a-92cdcd193064"
      },
      "outputs": [],
      "source": [
        "#Create ratios\n",
        "median_list = ['bedrooms', 'bathrooms', 'building_id', 'rooms', 'neighborhoods']\n",
        "for col in median_list:\n",
        "    median_price = all_data[[col, 'price']].groupby(col)['price'].median()\n",
        "    median_price = median_price[all_data[col]].values.astype(float)\n",
        "    all_data['median_' + col] = median_price\n",
        "    all_data['ratio_' + col] = all_data['price'] / median_price\n",
        "    all_data['median_' + col] = np.log(all_data['median_' + col].values)\n",
        "\n",
        "#print('Additional medians and ratios')\n",
        "median_list = [c for c in all_data.columns if c.startswith('median_')]\n",
        "all_data['median_mean'] = all_data[median_list].mean(axis=1)\n",
        "ratio_list = [c for c in all_data.columns if c.startswith('ratio_')]\n",
        "all_data['ratio_mean'] = all_data[ratio_list].mean(axis=1)"
      ]
    },
    {
      "cell_type": "code",
      "execution_count": null,
      "metadata": {
        "_cell_guid": "11a0f3e0-3523-27f0-9c4e-8d3e7c0b3a0b"
      },
      "outputs": [],
      "source": [
        "#Normalize the price\n",
        "all_data['price'] = np.log(all_data['price'].values)"
      ]
    },
    {
      "cell_type": "code",
      "execution_count": null,
      "metadata": {
        "_cell_guid": "13f79d8e-bda3-dcd9-8bbd-67696116f556"
      },
      "outputs": [],
      "source": [
        "#Building counts\n",
        "bldg_count = all_data['building_id'].value_counts()\n",
        "bldg_count['0'] = 0\n",
        "all_data['bldg_count'] = np.log1p(bldg_count[all_data['building_id']].values)\n",
        "all_data['zero_bldg'] = all_data['building_id']=='0'"
      ]
    },
    {
      "cell_type": "code",
      "execution_count": null,
      "metadata": {
        "_cell_guid": "8df0e5db-248f-df18-fa0b-37e01be3965c"
      },
      "outputs": [],
      "source": [
        "lbl = preprocessing.LabelEncoder()\n",
        "lbl.fit(list(all_data['manager_id'].values))\n",
        "all_data['manager_id'] = lbl.transform(list(all_data['manager_id'].values))"
      ]
    },
    {
      "cell_type": "code",
      "execution_count": null,
      "metadata": {
        "_cell_guid": "7045a6a9-201a-89ef-af16-771930b8e5af"
      },
      "outputs": [],
      "source": [
        "temp = pd.concat([all_data[all_data['interest_level'].isnull() == False].manager_id,pd.get_dummies(all_data[all_data['interest_level'].isnull() == False].interest_level)], axis = 1).groupby('manager_id').mean()\n",
        "temp.columns = ['high_frac','low_frac', 'medium_frac']\n",
        "temp['count'] = all_data[all_data['interest_level'].isnull() == False].groupby('manager_id').count().iloc[:,1]"
      ]
    },
    {
      "cell_type": "code",
      "execution_count": null,
      "metadata": {
        "_cell_guid": "4c2d77a1-db25-868e-5cc5-d0bb32577b7b"
      },
      "outputs": [],
      "source": [
        "temp.tail(10)"
      ]
    },
    {
      "cell_type": "code",
      "execution_count": null,
      "metadata": {
        "_cell_guid": "52576b13-1309-db04-61f9-77ae1a1a1e9a"
      },
      "outputs": [],
      "source": [
        "# compute skill\n",
        "temp['manager_skill'] = temp['high_frac']*2 + temp['medium_frac']\n",
        "\n",
        "# get ixes for unranked managers...\n",
        "unranked_managers_ixes = temp['count']<20\n",
        "# ... and ranked ones\n",
        "ranked_managers_ixes = ~unranked_managers_ixes\n",
        "\n",
        "# compute mean values from ranked managers and assign them to unranked ones\n",
        "mean_values = temp.loc[ranked_managers_ixes, ['high_frac','low_frac', 'medium_frac','manager_skill']].mean()\n",
        "print(mean_values)\n",
        "temp.loc[unranked_managers_ixes,['high_frac','low_frac', 'medium_frac','manager_skill']] = mean_values.values\n",
        "print(temp.tail(10))"
      ]
    },
    {
      "cell_type": "code",
      "execution_count": null,
      "metadata": {
        "_cell_guid": "3af93dd3-aea2-a7ee-e3fd-b848cba8af98"
      },
      "outputs": [],
      "source": [
        "# inner join to assign manager features to the managers in the training dataframe\n",
        "all_data = all_data.merge(temp.reset_index(),how='left', left_on='manager_id', right_on='manager_id', right_index=True)\n",
        "all_data.head()"
      ]
    },
    {
      "cell_type": "code",
      "execution_count": null,
      "metadata": {
        "_cell_guid": "e7c68a4e-d2c2-d556-cfa5-35d81af41bfd"
      },
      "outputs": [],
      "source": [
        "def remap_skill(x):\n",
        "    m_id = x['manager_id_x']\n",
        "    skill = temp[temp.index == m_id]['manager_skill']\n",
        "    if len(skill) > 0:\n",
        "        x['manager_skill'] = skill.values[0]\n",
        "    else:\n",
        "        x['manager_skill'] = 0\n",
        "    return x\n",
        "\n",
        "all_data = all_data.apply(remap_skill, axis=1)"
      ]
    },
    {
      "cell_type": "code",
      "execution_count": null,
      "metadata": {
        "_cell_guid": "33510c6d-08c9-65ae-d683-687ac9fe4c37"
      },
      "outputs": [],
      "source": [
        "all_data.drop(['manager_id_y', 'high_frac', 'low_frac', 'medium_frac', 'count'], axis=1, inplace=True)"
      ]
    },
    {
      "cell_type": "code",
      "execution_count": null,
      "metadata": {
        "_cell_guid": "bdb802d0-6b39-59c5-ebc1-d3ffa0604a47"
      },
      "outputs": [],
      "source": [
        "all_data.info()"
      ]
    },
    {
      "cell_type": "code",
      "execution_count": null,
      "metadata": {
        "_cell_guid": "754ad6b2-1623-c233-0795-ae78576dd57a"
      },
      "outputs": [],
      "source": [
        "#Scale features\n",
        "scaler = StandardScaler()\n",
        "cols = [c for c in all_data.columns]\n",
        "scale_keywords = ['price', 'count', 'ratio', '_to_', \n",
        "                  'day_', 'hour', 'median', 'longitude', 'latitude']\n",
        "scale_list = [c for c in cols if any(w in c for w in scale_keywords)]\n",
        "print('Scaling features:', scale_list)\n",
        "all_data[scale_list] = scaler.fit_transform(all_data[scale_list].astype(float))"
      ]
    },
    {
      "cell_type": "code",
      "execution_count": null,
      "metadata": {
        "_cell_guid": "0edf6379-a450-8716-4002-e61a7081afec"
      },
      "outputs": [],
      "source": [
        "#Create dummies\n",
        "mask = all_data['bathrooms'] > 3\n",
        "all_data.loc[mask, 'bathrooms'] = 4\n",
        "mask = all_data['bedrooms'] >= 5\n",
        "all_data.loc[mask, 'bedrooms'] = 5\n",
        "mask = all_data['rooms'] >= 6\n",
        "all_data.loc[mask, 'rooms'] = 6\n",
        "cat_cols = ['bathrooms', 'bedrooms', 'month', 'weekday', 'rooms', \n",
        "            'neighborhoods']\n",
        "for col in cat_cols:\n",
        "    dummy = pd.get_dummies(all_data[col], prefix=col)\n",
        "    dummy = dummy.astype(bool) \n",
        "    all_data = all_data.join(dummy)\n",
        "all_data.drop(cat_cols, axis=1, inplace=True)"
      ]
    },
    {
      "cell_type": "code",
      "execution_count": null,
      "metadata": {
        "_cell_guid": "41bb918b-93cb-a68a-086f-9ea498b89cbf"
      },
      "outputs": [],
      "source": [
        "#Drop columns\n",
        "drop_cols = ['description', 'photos', 'display_address', 'street_address', \n",
        "             'features', 'created', 'building_id', 'manager_id_x', \n",
        "             'longitude', 'latitude'\n",
        "             ]\n",
        "             \n",
        "all_data.drop(drop_cols, axis=1, inplace=True)"
      ]
    },
    {
      "cell_type": "code",
      "execution_count": null,
      "metadata": {
        "_cell_guid": "04866a1e-288b-c83e-7bc8-e68b0c0ade93"
      },
      "outputs": [],
      "source": [
        "data_columns = all_data.columns.tolist()\n",
        "data_columns.remove(label_column)\n",
        "\n",
        "mask = all_data[label_column].isnull()\n",
        "train = all_data[~mask].copy()\n",
        "test = all_data[mask].copy()"
      ]
    },
    {
      "cell_type": "code",
      "execution_count": null,
      "metadata": {
        "_cell_guid": "e3726b1c-ad3d-4d81-9507-bdf99ba30bcc"
      },
      "outputs": [],
      "source": [
        "folds = 5\n",
        "kf = StratifiedKFold(folds, shuffle=True, random_state=42)\n",
        "kf = list(kf.split(train, train[label_column]))\n",
        "\n",
        "train_idx, val_idx = kf[0]\n",
        "train_cv = train.iloc[train_idx][data_columns].values\n",
        "train_cv_labels = train.iloc[train_idx][label_column].values\n",
        "val_cv = train.iloc[val_idx][data_columns].values\n",
        "val_cv_labels = train.iloc[val_idx][label_column].values"
      ]
    },
    {
      "cell_type": "code",
      "execution_count": null,
      "metadata": {
        "_cell_guid": "f7adace7-a3be-d360-7aa7-b8e2db110e53"
      },
      "outputs": [],
      "source": [
        "def nn_model():\n",
        "    model = Sequential()\n",
        "    model.add(Dense(128,  \n",
        "                    activation='softplus',\n",
        "                    kernel_initializer='he_normal',\n",
        "                    kernel_regularizer=l2(0.000025),\n",
        "                    kernel_constraint=max_norm(2.0),\n",
        "                    input_shape = (len(data_columns),),))\n",
        "    #model.add(Dropout(0.25))\n",
        "    \n",
        "    model.add(PReLU())\n",
        "    \n",
        "    model.add(Dense(64,  \n",
        "                    activation='softplus',\n",
        "                    kernel_initializer='he_normal',\n",
        "                    kernel_regularizer=l2(0.000025),\n",
        "#                    kernel_constraint=max_norm(2.0),\n",
        "                    ))    \n",
        "    model.add(Dropout(0.25))\n",
        "    \n",
        "    model.add(Dense(16, \n",
        "                    activation='softplus', \n",
        "                    kernel_initializer='he_normal',\n",
        "                    kernel_regularizer=l2(0.000025),\n",
        "                    #kernel_constraint=max_norm(2.0)\n",
        "                    ))\n",
        "#    model.add(Dropout(0.1))\n",
        "    \n",
        "    model.add(Dense(32,\n",
        "                    activation='softplus', \n",
        "                    kernel_initializer='he_normal',\n",
        "                    kernel_regularizer=l2(0.00005),\n",
        "                    kernel_constraint=max_norm(2.0)\n",
        "                    ))\n",
        "    model.add(Dropout(0.25))\n",
        "\n",
        "    model.add(Dense(units=num_classes, \n",
        "                    activation='softmax', \n",
        "                    kernel_initializer='he_normal',\n",
        "                    ))\n",
        "    opt = optimizers.Adadelta(lr=1)\n",
        "    model.compile(loss='sparse_categorical_crossentropy', \n",
        "                  optimizer=opt,\n",
        "                  metrics=['accuracy']\n",
        "                  )\n",
        "    return(model)\n",
        "\n",
        "model = nn_model()"
      ]
    },
    {
      "cell_type": "code",
      "execution_count": null,
      "metadata": {
        "_cell_guid": "e154b52b-0a8d-6977-faf5-ebba0254eeaf"
      },
      "outputs": [],
      "source": [
        "early_stopping = EarlyStopping(monitor='val_loss', patience=50)\n",
        "\n",
        "model.fit(train_cv, train_cv_labels, epochs = 400, batch_size=512, verbose = 2, \n",
        "          validation_data=[val_cv, val_cv_labels], callbacks=[early_stopping])\n",
        "val_pred = model.predict_proba(val_cv)\n",
        "score = log_loss(val_cv_labels, val_pred)\n",
        "print('Score:', score)"
      ]
    },
    {
      "cell_type": "code",
      "execution_count": null,
      "metadata": {
        "_cell_guid": "72dfb77e-fdaf-2af2-6b60-f45d11e2ed34"
      },
      "outputs": [],
      "source": [
        "test.head()"
      ]
    },
    {
      "cell_type": "code",
      "execution_count": null,
      "metadata": {
        "_cell_guid": "dc8558f3-672f-d520-5f4e-d1b8a904dce4"
      },
      "outputs": [],
      "source": [
        "test_pred = model.predict_proba(test[data_columns].values)"
      ]
    },
    {
      "cell_type": "code",
      "execution_count": null,
      "metadata": {
        "_cell_guid": "cfd9ca1a-4b34-85ba-a548-a4045c158f16"
      },
      "outputs": [],
      "source": [
        "test_pred"
      ]
    },
    {
      "cell_type": "code",
      "execution_count": null,
      "metadata": {
        "_cell_guid": "f87a93b5-5b80-7189-a7e7-baf17e9fc9cd"
      },
      "outputs": [],
      "source": [
        "test_out = pd.DataFrame(test_pred, columns = ['high', 'medium', 'low'], index=test.index)\n",
        "test_out.head()"
      ]
    },
    {
      "cell_type": "code",
      "execution_count": null,
      "metadata": {
        "_cell_guid": "a4540a08-0267-b121-8584-3010a9b4d9f7"
      },
      "outputs": [],
      "source": [
        "test_out.to_csv('submissions.csv')"
      ]
    },
    {
      "cell_type": "code",
      "execution_count": null,
      "metadata": {
        "_cell_guid": "2b7e5049-a9a5-ef53-ca25-6576a9ceb13b"
      },
      "outputs": [],
      "source": ""
    }
  ],
  "metadata": {
    "_change_revision": 0,
    "_is_fork": false,
    "kernelspec": {
      "display_name": "Python 3",
      "language": "python",
      "name": "python3"
    },
    "language_info": {
      "codemirror_mode": {
        "name": "ipython",
        "version": 3
      },
      "file_extension": ".py",
      "mimetype": "text/x-python",
      "name": "python",
      "nbconvert_exporter": "python",
      "pygments_lexer": "ipython3",
      "version": "3.6.0"
    }
  },
  "nbformat": 4,
  "nbformat_minor": 0
}