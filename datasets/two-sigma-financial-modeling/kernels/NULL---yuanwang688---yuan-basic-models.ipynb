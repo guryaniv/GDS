{
  "metadata": {
    "kernelspec": {
      "display_name": "Python 3",
      "language": "python",
      "name": "python3"
    },
    "language_info": {
      "codemirror_mode": {
        "name": "ipython",
        "version": 3
      },
      "file_extension": ".py",
      "mimetype": "text/x-python",
      "name": "python",
      "nbconvert_exporter": "python",
      "pygments_lexer": "ipython3",
      "version": "3.5.2"
    }
  },
  "nbformat": 4,
  "nbformat_minor": 0,
  "cells": [
    {
      "cell_type": "code",
      "execution_count": null,
      "metadata": {
        "_cell_guid": "8b4da849-2a8e-e851-1a5e-a701a0ab9f82",
        "_active": false
      },
      "outputs": [],
      "source": "# This Python 3 environment comes with many helpful analytics libraries installed\n# It is defined by the kaggle/python docker image: https://github.com/kaggle/docker-python\n# For example, here's several helpful packages to load in \n\nimport numpy as np # linear algebra\nimport pandas as pd # data processing, CSV file I/O (e.g. pd.read_csv)\n\n# Input data files are available in the \"../input/\" directory.\n# For example, running this (by clicking run or pressing Shift+Enter) will list the files in the input directory\n\nfrom subprocess import check_output\nprint(check_output([\"ls\", \"../input\"]).decode(\"utf8\"))\n\n# Any results you write to the current directory are saved as output.",
      "execution_state": "idle"
    },
    {
      "cell_type": "code",
      "execution_count": null,
      "metadata": {
        "_cell_guid": "e36b19a1-e2e2-6ce4-d028-43b7d300cc94",
        "_active": false
      },
      "outputs": [],
      "source": "import kagglegym\nimport numpy as np\nfrom matplotlib import pyplot as plt\nplt.plot()",
      "execution_state": "idle"
    },
    {
      "cell_type": "code",
      "execution_count": null,
      "metadata": {
        "_cell_guid": "b88eaca4-f47a-cde5-2c2b-a3c31d2986e8",
        "_active": false
      },
      "outputs": [],
      "source": "env = kagglegym.make()\nobservations = env.reset()\ndf = observations.train\ndf_normed = (df - df.mean()) / (df.max() - df.min())\ndf_normed['id'] = df['id']\ndf_normed['timestamp'] = df['timestamp']\ndf = df_normed",
      "execution_state": "idle"
    },
    {
      "cell_type": "code",
      "execution_count": null,
      "metadata": {
        "_cell_guid": "3dc46a66-0f7e-bb82-d6f6-2c4e7b91150a",
        "_active": false
      },
      "outputs": [],
      "source": "id_len = []\nfor id in df['id'].unique():\n    id_len += [[id, len(df[df['id']==id])]]",
      "execution_state": "idle"
    },
    {
      "cell_type": "code",
      "execution_count": null,
      "metadata": {
        "_cell_guid": "e9b13a59-0fc6-2307-c6e2-bab1a14f025b",
        "_active": false
      },
      "outputs": [],
      "source": "id_len = np.array(id_len)",
      "execution_state": "idle"
    },
    {
      "cell_type": "code",
      "execution_count": null,
      "metadata": {
        "_cell_guid": "d49e7489-5d45-d579-d9cb-6e5250e5bac5",
        "_active": false
      },
      "outputs": [],
      "source": "id_len_max = np.argmax(id_len, axis=0)",
      "execution_state": "idle"
    },
    {
      "cell_type": "code",
      "execution_count": null,
      "metadata": {
        "_cell_guid": "05074674-eaaa-ac44-f7fc-5a254d66d804",
        "_active": false
      },
      "outputs": [],
      "source": "print(id_len_max)",
      "execution_state": "idle"
    },
    {
      "cell_type": "code",
      "execution_count": null,
      "metadata": {
        "_cell_guid": "2906ccec-8551-dee8-dad3-254f069c8366",
        "_active": false
      },
      "outputs": [],
      "source": "id_len[1]",
      "execution_state": "idle"
    },
    {
      "cell_type": "code",
      "execution_count": null,
      "metadata": {
        "_cell_guid": "f916bc93-61c5-94ad-8d4b-42d4a698d319",
        "_active": false
      },
      "outputs": [],
      "source": "df_11 = df[df['id']==11]",
      "execution_state": "idle"
    },
    {
      "cell_type": "code",
      "execution_count": null,
      "metadata": {
        "_cell_guid": "1bae808c-3d08-c779-783d-7b1def16d401",
        "_active": false
      },
      "outputs": [],
      "source": "df_11",
      "execution_state": "idle"
    },
    {
      "cell_type": "code",
      "execution_count": null,
      "metadata": {
        "_cell_guid": "d4c7374c-e5f4-9121-e522-0a661dc8836d",
        "_active": false
      },
      "outputs": [],
      "source": "df_11_dropna = df_11.dropna(axis=1)",
      "execution_state": "idle"
    },
    {
      "cell_type": "code",
      "execution_count": null,
      "metadata": {
        "_cell_guid": "48b75548-2547-6378-d583-a9b136e47cb5",
        "_active": false
      },
      "outputs": [],
      "source": "df_11_dropna['y'].plot()",
      "execution_state": "idle"
    },
    {
      "cell_type": "code",
      "execution_count": null,
      "metadata": {
        "_cell_guid": "1a829d8a-f33a-fdc6-caed-d784091769e5",
        "_active": false
      },
      "outputs": [],
      "source": "df_11_dropna_train = df_11_dropna[:500]\ndf_11_dropna_valid = df_11_dropna[500:]",
      "execution_state": "idle"
    },
    {
      "cell_type": "code",
      "execution_count": null,
      "metadata": {
        "_cell_guid": "cf26e471-ad5f-c543-9356-fe46fcb0ba09",
        "_active": false
      },
      "outputs": [],
      "source": "df_11_dropna_train['y'].plot()",
      "execution_state": "idle"
    },
    {
      "cell_type": "code",
      "execution_count": null,
      "metadata": {
        "_cell_guid": "93f09898-68aa-bddc-f3aa-0802ac3a1f81",
        "_active": false
      },
      "outputs": [],
      "source": "df_11_dropna_valid['y'].plot()",
      "execution_state": "idle"
    },
    {
      "cell_type": "code",
      "execution_count": null,
      "metadata": {
        "_cell_guid": "cd6885f9-3b40-8003-5f7a-57425ec93c7e",
        "_active": false
      },
      "outputs": [],
      "source": "feature_list = df_11_dropna_train.columns.tolist()\nfeature_list = feature_list[2:-1]\nprint(feature_list)",
      "execution_state": "idle"
    },
    {
      "cell_type": "code",
      "execution_count": null,
      "metadata": {
        "_cell_guid": "ce91a62f-d1cd-9f0b-23b6-febc9977a88b",
        "_active": false
      },
      "outputs": [],
      "source": "y_train = df_11_dropna_train['y'].values\nX_train = df_11_dropna_train[feature_list].values",
      "execution_state": "idle"
    },
    {
      "cell_type": "code",
      "execution_count": null,
      "metadata": {
        "_cell_guid": "1821608c-ea98-85d3-eb3f-75bab3fbba8d",
        "_active": false
      },
      "outputs": [],
      "source": "y_valid = df_11_dropna_valid['y'].values\nX_valid = df_11_dropna_valid[feature_list]",
      "execution_state": "idle"
    },
    {
      "cell_type": "code",
      "execution_count": null,
      "metadata": {
        "_cell_guid": "4d3ffb69-c227-328f-e76a-0c5c1dac74bf",
        "_active": false
      },
      "outputs": [],
      "source": "#linear regression model\nfrom sklearn import linear_model\nlm = linear_model.Ridge(alpha=1)\nlm.fit(X_train, y_train)\nprint('Train: {}'.format(lm.score(X_train, y_train)))\nprint('Valid: {}'.format(lm.score(X_valid, y_valid)))",
      "execution_state": "idle"
    },
    {
      "cell_type": "code",
      "execution_count": null,
      "metadata": {
        "_cell_guid": "ce1a70f8-fa01-b864-25aa-96cb27610b48",
        "_active": false
      },
      "outputs": [],
      "source": "#visualize linear regression model\ny_train_pred = lm.predict(X_train)\nplt.plot(range(len(y_train)), y_train, range(len(y_train)), y_train_pred)",
      "execution_state": "idle"
    },
    {
      "cell_type": "code",
      "execution_count": null,
      "metadata": {
        "_cell_guid": "9a8e5a56-3cc5-b50c-5dd8-2e01198d55f2",
        "_active": false
      },
      "outputs": [],
      "source": "y_valid_pred = lm.predict(X_valid)\nplt.plot(range(len(y_valid)), y_valid, range(len(y_valid)), y_valid_pred)",
      "execution_state": "idle"
    },
    {
      "cell_type": "code",
      "execution_count": null,
      "metadata": {
        "_cell_guid": "e44fd459-657d-1f4a-a9dd-bb2fe96e6c5b",
        "_active": false
      },
      "outputs": [],
      "source": "from sklearn.neural_network import MLPRegressor\nmlp = MLPRegressor(hidden_layer_sizes=[100, 50, 10], activation='tanh')\nmlp.fit(X_train, y_train)\nprint('Train: {}'.format(mlp.score(X_train, y_train)))\nprint('Valid: {}'.format(mlp.score(X_valid, y_valid)))",
      "execution_state": "idle"
    },
    {
      "cell_type": "code",
      "execution_count": null,
      "metadata": {
        "_cell_guid": "471a548d-1f58-37d9-1990-7ba28c677b3a",
        "_active": false
      },
      "outputs": [],
      "source": "y_train_pred = mlp.predict(X_train)\nplt.plot(range(len(y_train)), y_train, range(len(y_train)), y_train_pred)",
      "execution_state": "idle"
    },
    {
      "cell_type": "code",
      "execution_count": null,
      "metadata": {
        "_cell_guid": "64d0629a-b94b-1388-601e-b8e9fb51a3e2",
        "_active": false
      },
      "outputs": [],
      "source": "y_valid_pred = mlp.predict(X_valid)\nplt.plot(range(len(y_valid)), y_valid, range(len(y_valid)), y_valid_pred)",
      "execution_state": "idle"
    },
    {
      "cell_type": "code",
      "execution_count": null,
      "metadata": {
        "_cell_guid": "5fe05d4d-5899-1890-61c7-1ee310b43847",
        "_active": false
      },
      "outputs": [],
      "source": "corr=df_11.corr()",
      "execution_state": "idle"
    },
    {
      "cell_type": "code",
      "execution_count": null,
      "metadata": {
        "_cell_guid": "0311dfdb-fdc1-214e-60ab-6efbfbec7dae",
        "_active": false
      },
      "outputs": [],
      "source": "corr['y'].plot()",
      "execution_state": "idle"
    },
    {
      "cell_type": "code",
      "execution_count": null,
      "metadata": {
        "_cell_guid": "49761ff7-2ddb-cc9d-ae97-d26d03c3b49d",
        "_active": false
      },
      "outputs": [],
      "source": "knn = neighbors.KNeighborsRegressor(20, weights='uniform')\nknn.fit(X_train, y_train)\nprint('Train: {}'.format(knn.score(X_train, y_train)))\nprint('Valid: {}'.format(knn.score(X_valid, y_valid)))",
      "execution_state": "idle"
    },
    {
      "cell_type": "code",
      "execution_count": null,
      "metadata": {
        "_cell_guid": "04815d39-f1d3-eaac-acf3-1e3e9d72e96a",
        "_active": false
      },
      "outputs": [],
      "source": "y_train_pred = knn.predict(X_train)\nplt.plot(range(len(y_train)), y_train, range(len(y_train)), y_train_pred)",
      "execution_state": "idle"
    },
    {
      "cell_type": "code",
      "execution_count": null,
      "metadata": {
        "_cell_guid": "e73f1de7-017b-89e6-b7ad-8cfea3dc747b",
        "_active": false
      },
      "outputs": [],
      "source": "y_valid_pred = knn.predict(X_valid)\nplt.plot(range(len(y_valid)), y_valid, range(len(y_valid)), y_valid_pred)",
      "execution_state": "idle"
    },
    {
      "cell_type": "code",
      "execution_count": null,
      "metadata": {
        "_cell_guid": "790c257e-ee19-20c5-605e-e01be610685b",
        "_active": false
      },
      "outputs": [],
      "source": "from sklearn import ensemble\nada = ensemble.AdaBoostRegressor()\nada.fit(X_train, y_train)\nprint('Train: {}'.format(ada.score(X_train, y_train)))\nprint('Valid: {}'.format(ada.score(X_valid, y_valid)))",
      "execution_state": "idle"
    },
    {
      "cell_type": "code",
      "execution_count": null,
      "metadata": {
        "_cell_guid": "0732ab4f-2649-43d6-ab9c-408899ea5b58",
        "_active": false
      },
      "outputs": [],
      "source": "y_train_pred = ada.predict(X_train)\nplt.plot(range(len(y_train)), y_train, range(len(y_train)), y_train_pred)",
      "execution_state": "idle"
    },
    {
      "cell_type": "code",
      "execution_count": null,
      "metadata": {
        "_cell_guid": "84f16045-e3d8-9660-9757-c4aea3ce0527",
        "_active": false
      },
      "outputs": [],
      "source": "y_valid_pred = ada.predict(X_valid)\nplt.plot(range(len(y_valid)), y_valid, range(len(y_valid)), y_valid_pred)",
      "execution_state": "idle"
    },
    {
      "cell_type": "code",
      "execution_count": null,
      "metadata": {
        "_cell_guid": "2847357b-f1a2-a014-3f5a-767392040404",
        "_active": false
      },
      "outputs": [],
      "source": "rf = ensemble.RandomForestRegressor(n_estimators=100, min_samples_split=25, min_samples_leaf=5)\nrf.fit(X_train, y_train)\nprint('Train: {}'.format(rf.score(X_train, y_train)))\nprint('Valid: {}'.format(rf.score(X_valid, y_valid)))",
      "execution_state": "idle"
    },
    {
      "cell_type": "code",
      "execution_count": null,
      "metadata": {
        "_cell_guid": "c17cacce-dacc-44d7-c16f-0ab8cd8e5219",
        "_active": false
      },
      "outputs": [],
      "source": "y_train_pred = rf.predict(X_train)\nplt.plot(range(len(y_train)), y_train, range(len(y_train)), y_train_pred)",
      "execution_state": "idle"
    },
    {
      "cell_type": "code",
      "execution_count": null,
      "metadata": {
        "_cell_guid": "8990d741-90e4-5b93-fc96-7b3756bce885",
        "_active": false
      },
      "outputs": [],
      "source": "y_valid_pred = rf.predict(X_valid)\nplt.plot(range(len(y_valid)), y_valid, range(len(y_valid)), y_valid_pred)",
      "execution_state": "idle"
    },
    {
      "metadata": {
        "_cell_guid": "70f028d5-a46d-4a75-62a2-1622a7a81b55",
        "_active": true,
        "collapsed": false
      },
      "source": null,
      "execution_count": null,
      "cell_type": "code",
      "outputs": [],
      "execution_state": "idle"
    }
  ]
}