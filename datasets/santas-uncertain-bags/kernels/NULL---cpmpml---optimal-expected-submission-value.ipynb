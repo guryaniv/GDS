{
  "cells": [
    {
      "cell_type": "markdown",
      "metadata": {
        "_cell_guid": "896d1eca-6296-2813-7e67-5a50ba8a8bba"
      },
      "source": [
        "One way to approach the competition is to look for a solution structure that has a good chance to yield good submission.  A solution structure is defined by a number of bag types, plus a number of occurrence of each bag type.  A bag type is defined by the number of gifts of each type it contains. For instance 3 blocks and 1 train.\n",
        "\n",
        "We can focus on bag types because all bags have the same capacity (50 pounds).\n",
        "\n",
        "There is a finite number of bag types that are possible.  We define one random variables for each bag type. \n",
        "\n",
        "All we need is an estimate the expected value and the variance of each possible bag type.  Then we use two properties to find a combination of bags that maximizes a combination of expected value and standard deviation:\n",
        "\n",
        "- the expected value of a sum of random variables is the sum of the expected values of the random variables\n",
        "- the variance of a sum of independent random variables is the sum of the variances of the random variable\n",
        "\n",
        "Kernels or scripts with similar approaches have been proposed by [Dominic Breuker](https://www.kaggle.com/breuker/santas-uncertain-bags/can-we-improve-by-increasing-variance) and [Ben Gorman](https://www.kaggle.com/ben519/santas-uncertain-bags/merry-christmas-y-all).\n",
        "\n",
        "The difference is that here we find the optimal solution in a probabilistic sense."
      ]
    },
    {
      "cell_type": "code",
      "execution_count": null,
      "metadata": {
        "_cell_guid": "1d946c12-e3fe-1795-db1d-07486a6142f1"
      },
      "outputs": [],
      "source": [
        "# This Python 3 environment comes with many helpful analytics libraries installed\n",
        "# It is defined by the kaggle/python docker image: https://github.com/kaggle/docker-python\n",
        "# For example, here's several helpful packages to load in \n",
        "\n",
        "import numpy as np # linear algebra\n",
        "import pandas as pd # data processing, CSV file I/O (e.g. pd.read_csv)\n",
        "\n",
        "# Input data files are available in the \"../input/\" directory.\n",
        "# For example, running this (by clicking run or pressing Shift+Enter) will list the files in the input directory\n",
        "\n",
        "from subprocess import check_output\n",
        "print(check_output([\"ls\", \"../input\"]).decode(\"utf8\"))\n",
        "\n",
        "# Any results you write to the current directory are saved as output."
      ]
    },
    {
      "cell_type": "markdown",
      "metadata": {
        "_cell_guid": "b9140387-852a-e402-ff77-5fb26564cba7"
      },
      "source": [
        "First some definitions."
      ]
    },
    {
      "cell_type": "code",
      "execution_count": null,
      "metadata": {
        "_cell_guid": "f4bdc9c3-b467-e379-fa31-3588cf661070"
      },
      "outputs": [],
      "source": [
        "gift_types = ['horse', 'ball', 'bike', 'train', 'coal', 'book', 'doll', 'blocks', 'gloves']\n",
        "ngift_types = len(gift_types)\n",
        "\n",
        "horse, ball, bike, train, coal, book, doll, blocks, gloves = range(ngift_types)"
      ]
    },
    {
      "cell_type": "markdown",
      "metadata": {
        "_cell_guid": "e39641f9-748b-5de2-3247-ca3c74f35496"
      },
      "source": [
        "We will use Monte Carlo simulation quite a bit. Let's agree on the number of samples to use.  Set it to a higher value to get more accurate results."
      ]
    },
    {
      "cell_type": "code",
      "execution_count": null,
      "metadata": {
        "_cell_guid": "9bc2dc30-ef5a-7094-912b-655187d3f84c"
      },
      "outputs": [],
      "source": [
        "nsample=10000"
      ]
    },
    {
      "cell_type": "markdown",
      "metadata": {
        "_cell_guid": "0cd41913-0d17-cbb7-7b64-5926388fe114"
      },
      "source": [
        "Let's look at bags composed of a single gift type. We use a vectorized version of the original numpy distributions.\n"
      ]
    },
    {
      "cell_type": "code",
      "execution_count": null,
      "metadata": {
        "_cell_guid": "85b5709c-89b1-4374-fc5f-82fc738b37ef"
      },
      "outputs": [],
      "source": [
        "def gift_weights(gift, ngift, n=nsample):\n",
        "    if ngift == 0:\n",
        "        return np.array([0.0])\n",
        "    np.random.seed(2016)\n",
        "    if gift == horse:\n",
        "        dist = np.maximum(0, np.random.normal(5,2,(n, ngift))).sum(axis=1)\n",
        "    if gift == ball:\n",
        "        dist = np.maximum(0, 1 + np.random.normal(1,0.3,(n, ngift))).sum(axis=1)\n",
        "    if gift == bike:\n",
        "        dist = np.maximum(0, np.random.normal(20,10,(n, ngift))).sum(axis=1)\n",
        "    if gift == train:\n",
        "        dist = np.maximum(0, np.random.normal(10,5,(n, ngift))).sum(axis=1)\n",
        "    if gift == coal:\n",
        "        dist = 47 * np.random.beta(0.5,0.5,(n, ngift)).sum(axis=1)\n",
        "    if gift == book:\n",
        "        dist = np.random.chisquare(2,(n, ngift)).sum(axis=1)\n",
        "    if gift == doll:\n",
        "        dist = np.random.gamma(5,1,(n, ngift)).sum(axis=1)\n",
        "    if gift == blocks:\n",
        "        dist = np.random.triangular(5,10,20,(n, ngift)).sum(axis=1)\n",
        "    if gift == gloves:\n",
        "        gloves1 = 3.0 + np.random.rand(n, ngift)\n",
        "        gloves2 = np.random.rand(n, ngift)\n",
        "        gloves3 = np.random.rand(n, ngift)\n",
        "        dist = np.where(gloves2 < 0.3, gloves1, gloves3).sum(axis=1)\n",
        "    return dist"
      ]
    },
    {
      "cell_type": "markdown",
      "metadata": {
        "_cell_guid": "6ca62c7c-4f41-b6dd-e1a0-26b92660789c"
      },
      "source": [
        "Let's find a reasonable upper bound on the number of gifts in the bag. For this we compute the expected score for bags with an increasing number of toys until the score decreases. The bag with largest score is determining the maximum value. This is fine when optimizing the expected value, as adding additional toys uses more toys without improving the objective function."
      ]
    },
    {
      "cell_type": "code",
      "execution_count": null,
      "metadata": {
        "_cell_guid": "39adb112-8d4a-8a3b-0bbd-d9754058dff0"
      },
      "outputs": [],
      "source": [
        "epsilon = 1\n",
        "max_type = np.zeros(ngift_types).astype('int')\n",
        "\n",
        "for gift, gift_type in enumerate(gift_types):\n",
        "    best_value = 0.0\n",
        "    for j in range(1, 200):\n",
        "        weights = gift_weights(gift, j, nsample)\n",
        "        raw_value = np.where(weights <= 50.0, weights, 0.0)\n",
        "        value = raw_value.mean()\n",
        "        if value > best_value:\n",
        "            best_value = value\n",
        "        else:\n",
        "            break\n",
        "    max_type[gift] = j\n",
        "max_type"
      ]
    },
    {
      "cell_type": "markdown",
      "metadata": {
        "_cell_guid": "3256eb77-76d1-52ad-f10e-8dfcef381ffb"
      },
      "source": [
        "We can now look at more general bag types. First we precompute weights of bags with a single type. The code is similar to the above one.\n",
        "\n",
        "For each gift type , we create a 2D array with nsample rows, and ntype columns. Column j contains the weights of a bag made of j+1 toys of the given gift type."
      ]
    },
    {
      "cell_type": "code",
      "execution_count": null,
      "metadata": {
        "_cell_guid": "abcabb7b-c03d-8411-29f3-1d559a15ead6"
      },
      "outputs": [],
      "source": [
        "def gift_distributions(gift, ngift, n=nsample):\n",
        "    if ngift == 0:\n",
        "        return np.array([0.0])\n",
        "    np.random.seed(2016)\n",
        "    if gift == horse:\n",
        "        dist = np.maximum(0, np.random.normal(5,2,(n, ngift)))\n",
        "    if gift == ball:\n",
        "        dist = np.maximum(0, 1 + np.random.normal(1,0.3,(n, ngift)))\n",
        "    if gift == bike:\n",
        "        dist = np.maximum(0, np.random.normal(20,10,(n, ngift)))\n",
        "    if gift == train:\n",
        "        dist = np.maximum(0, np.random.normal(10,5,(n, ngift)))\n",
        "    if gift == coal:\n",
        "        dist = 47 * np.random.beta(0.5,0.5,(n, ngift))\n",
        "    if gift == book:\n",
        "        dist = np.random.chisquare(2,(n, ngift))\n",
        "    if gift == doll:\n",
        "        dist = np.random.gamma(5,1,(n, ngift))\n",
        "    if gift == blocks:\n",
        "        dist = np.random.triangular(5,10,20,(n, ngift))\n",
        "    if gift == gloves:\n",
        "        gloves1 = 3.0 + np.random.rand(n, ngift)\n",
        "        gloves2 = np.random.rand(n, ngift)\n",
        "        gloves3 = np.random.rand(n, ngift)\n",
        "        dist = np.where(gloves2 < 0.3, gloves1, gloves3)\n",
        "    for j in range(1, ngift):\n",
        "        dist[:,j] += dist[:,j-1]\n",
        "    return dist\n",
        "\n",
        "distributions = dict()\n",
        "    \n",
        "for gift in range(ngift_types):\n",
        "    distributions[gift] = gift_distributions(gift, max_type[gift])"
      ]
    },
    {
      "cell_type": "markdown",
      "metadata": {
        "_cell_guid": "4fe891c9-e7f3-c4e3-a771-d1b229b83d5a"
      },
      "source": [
        "We can now compute expected value of complex bags with lookups of precomputed weight distributions. With a slight change it code it is easy to compute additional statistics like the variance of the weight."
      ]
    },
    {
      "cell_type": "code",
      "execution_count": null,
      "metadata": {
        "_cell_guid": "c5a52598-eac7-cfb5-8b07-7a20fb5c141c"
      },
      "outputs": [],
      "source": [
        "def gift_distributions(gift, ngift):\n",
        "    if ngift <= 0:\n",
        "        return 0\n",
        "    if ngift >= max_type[gift]:\n",
        "        return 51\n",
        "    return distributions[gift][:,ngift-1]\n",
        "\n",
        "def gift_value(ntypes):\n",
        "    weights = np.zeros(nsample)\n",
        "    for gift in range(ngift_types):\n",
        "        dist = gift_distributions(gift, ntypes[gift])\n",
        "        weights += dist\n",
        "    weights = np.where(weights <= 50.0, weights, 0.0)\n",
        "    return weights.mean(), weights.std()"
      ]
    },
    {
      "cell_type": "markdown",
      "metadata": {
        "_cell_guid": "a3214853-3978-f1ff-fdf3-97f04aefa5b3"
      },
      "source": [
        "We can now generate bag types. The idea is to start with an empty bag, and to add one item at a time. We do it until the expected value of the bag decreases. When this happens then we can discard the newly created bag, as it uses more items and yields a lower expected value.\n",
        "We use a queue and some dictionaries to keep track of what bag types are relevant.\n",
        "\n",
        "Once the relevant bags are found we put all of them in a dataframe.  We remove those with less than three elements.\n",
        "\n",
        "This takes a time roughly proportional to nsample.  With 10,000 is takes less than a minute.   Go grab a coffee if you set nsample to a larger value, say 100,000."
      ]
    },
    {
      "cell_type": "code",
      "execution_count": null,
      "metadata": {
        "_cell_guid": "b9499144-fbd5-4a56-bf96-7bb71e1c347d"
      },
      "outputs": [],
      "source": [
        "from collections import deque\n",
        "\n",
        "def get_update_value(bag, bag_stats):\n",
        "    if bag in bag_stats:\n",
        "        bag_mean, bag_std = bag_stats[bag]\n",
        "    else:\n",
        "        bag_mean, bag_std = gift_value(bag)\n",
        "        bag_stats[bag] = (bag_mean, bag_std)\n",
        "    return bag_mean, bag_std\n",
        "\n",
        "def gen_bags():\n",
        "    bag_stats = dict()\n",
        "    queued = dict()\n",
        "    queue = deque()\n",
        "    bags = []\n",
        "    bag0 = (0,0,0,0,0,0,0,0,0)\n",
        "    queue.append(bag0)\n",
        "    queued[bag0] = True\n",
        "    bag_stats[bag0] = (0,0)\n",
        "    counter = 0\n",
        "    try:\n",
        "        while True:\n",
        "            if counter % 1000 == 0:\n",
        "                print(counter, end=' ')\n",
        "            counter += 1\n",
        "            bag = queue.popleft()\n",
        "            bag_mean, bag_std = get_update_value(bag, bag_stats)\n",
        "            bags.append(bag+(bag_mean, bag_std ))\n",
        "            for gift in range(ngift_types):\n",
        "                new_bag = list(bag)\n",
        "                new_bag[gift] = 1 + bag[gift]\n",
        "                new_bag = tuple(new_bag)\n",
        "                if new_bag in queued:\n",
        "                    continue\n",
        "                new_bag_mean, new_bag_std = get_update_value(new_bag, bag_stats)\n",
        "                if new_bag_mean > bag_mean:\n",
        "                    queue.append(new_bag)\n",
        "                    queued[new_bag] = True\n",
        "                    \n",
        "    except:\n",
        "        return bags\n",
        "\n",
        "    \n",
        "bags = gen_bags()\n",
        "\n",
        "nbags = len(bags)\n",
        "\n",
        "bags = pd.DataFrame(columns=gift_types+['mean', 'std'], \n",
        "                    data=bags)\n",
        "\n",
        "bags['var'] = bags['std']**2\n",
        "\n",
        "bags = bags[bags[gift_types].sum(axis=1) >= 3].reset_index(drop=True)\n",
        "\n",
        "bags.head()"
      ]
    },
    {
      "cell_type": "markdown",
      "metadata": {
        "_cell_guid": "a2620bc3-b293-e0e4-c4d1-e7147e26276e"
      },
      "source": [
        "We have about 40k bags."
      ]
    },
    {
      "cell_type": "code",
      "execution_count": null,
      "metadata": {
        "_cell_guid": "0d804237-c0f0-7400-2e2e-dd158511b141"
      },
      "outputs": [],
      "source": [
        "bags.shape[0]"
      ]
    },
    {
      "cell_type": "markdown",
      "metadata": {
        "_cell_guid": "72b6d225-c77e-a7b7-e235-f29e3e646b1a"
      },
      "source": [
        "Let's now look at the available gifts.  We one hot encode the gift type."
      ]
    },
    {
      "cell_type": "code",
      "execution_count": null,
      "metadata": {
        "_cell_guid": "ef33bccc-0559-9e52-800d-cfeb973fecde"
      },
      "outputs": [],
      "source": [
        "gifts = pd.read_csv('../input/gifts.csv')\n",
        "\n",
        "for gift in gift_types:\n",
        "    gifts[gift] = 1.0 * gifts['GiftId'].str.startswith(gift)\n",
        "\n",
        "gifts.head()"
      ]
    },
    {
      "cell_type": "markdown",
      "metadata": {
        "_cell_guid": "819bf26f-692a-0ac3-d98a-b8106b1fabb1"
      },
      "source": [
        "The number of gift of each type is easy to get."
      ]
    },
    {
      "cell_type": "code",
      "execution_count": null,
      "metadata": {
        "_cell_guid": "a817b3a6-bc84-5c4b-246e-4856c9a5b32b"
      },
      "outputs": [],
      "source": [
        "allgifts = gifts[gift_types].sum()\n",
        "\n",
        "allgifts"
      ]
    },
    {
      "cell_type": "markdown",
      "metadata": {
        "_cell_guid": "3f018f32-23a8-682a-b7b0-0b322c058814"
      },
      "source": [
        "We can now look for a combination of bag types that optimizes the expected value, or a combination of the expected value and the standard deviation.\n",
        "\n",
        "The mathematical formulation is as follows.\n",
        "\n",
        "$$\n",
        "\\begin{align}\n",
        "& \\text{maximize} && mean + \\alpha \\cdot std& \\\\\n",
        "& \\text{s.t.} \n",
        "&& \\sum_{i=1}^n g_{ij} \\cdot x_i \\leq capa_j && \\forall j = 1,\\ldots,m \\\\\n",
        "&&& \\sum_{i=1}^nx_i \\leq 1000  \\\\\n",
        "&&& \\sum_{i=1}^n mean_i \\cdot x_i = mean & \\\\\n",
        "&&& \\sum_{i=1}^n var_i \\cdot x_i = var & \\\\\n",
        "&&& std^2 = var & \\\\\n",
        "&&& x_{i} \\geq 0&& \\forall i = 1,\\ldots,n\\\\\n",
        "\\end{align}\n",
        "$$ \n",
        "where:\n",
        "- $n$ is the number of bag types\n",
        "- $m$ the number of gift types\n",
        "- $\\alpha$ is the relative importance of std vs mean in the objective function\n",
        "- $w_i$ the expected value of the weight of bag type $i$\n",
        "- $var_i$ the variance of the weight of bag type $i$\n",
        "- $g_{ij}$ the number of gifts of type $j$ in bag type $i$\n",
        "- $capa_j$ the number of available gifts of type $j$\n",
        "- $x_i$ is an integer decision variable that takes the value $a$ if bag type $i$ is used $a$ times\n",
        "- $std$ a decision variable representing the standard deviation of the solution\n",
        "- $var$ a decision variable representing the variance of the solution\n",
        "\n",
        "Constraints (1) ensure that the solution does not use more gifts than available. Constraints (2) states that there are at most 1,000 bags in the solution.  Constraint (3) computes the mean the solution, constraint (4) computes the variance of the solution, and constraint (5) compute its standard deviation.\n",
        "\n",
        "The trick \n",
        "here is that the last constraint is a quadratic constraint.  We cannot use an open source LP solver because of\n",
        "it, which is why I use CPLEX.  CPLEX is not available on Kaggle kernel, but one can use the [feely available DoCplexCloud trial](https://developer.ibm.com/docloud/try-docloud-free/) run the following code."
      ]
    },
    {
      "cell_type": "code",
      "execution_count": null,
      "metadata": {
        "_cell_guid": "0821e7b5-66e7-f960-dd9a-0ec5d7cad63b"
      },
      "outputs": [],
      "source": [
        "from docplex.mp.model import Model\n",
        "\n",
        "def qcpmip_solve(gift_types, bags, std_coef):\n",
        "    mdl = Model('Santa')\n",
        "\n",
        "    rbags = range(bags.shape[0])\n",
        "    x_names = ['x_%d' % i for i in range(bags.shape[0])]\n",
        "    x = mdl.integer_var_list(rbags, lb=0, name=x_names)\n",
        "    \n",
        "    var = mdl.continuous_var(lb=0, ub=mdl.infinity, name='var')\n",
        "    std = mdl.continuous_var(lb=0, ub=mdl.infinity, name='std')\n",
        "    mean = mdl.continuous_var(lb=0, ub=mdl.infinity, name='mean')\n",
        "                                  \n",
        "    mdl.maximize(mean + std_coef * std)\n",
        "    \n",
        "    for gift in gift_types:\n",
        "        mdl.add_constraint(mdl.sum(bags[gift][i] * x[i] for i in rbags) <= allgifts[gift])\n",
        "        \n",
        "    mdl.add_constraint(mdl.sum(x[i] for i in rbags) <= 1000)\n",
        "\n",
        "    mdl.add_constraint(mdl.sum(bags['mean'][i] * x[i] for i in rbags) == mean)\n",
        "    \n",
        "    mdl.add_constraint(mdl.sum(bags['var'][i] * x[i] for i in rbags) == var)\n",
        "\n",
        "    mdl.add_constraint(std**2 <= var)\n",
        "    \n",
        "    mdl.parameters.mip.tolerances.mipgap = 0.00001\n",
        "    \n",
        "    s = mdl.solve(log_output=False)\n",
        "    assert s is not None\n",
        "    mdl.print_solution()\n",
        "    "
      ]
    },
    {
      "cell_type": "markdown",
      "metadata": {
        "_cell_guid": "17e1fce1-b3c5-70cb-7458-057d58f9f054"
      },
      "source": [
        "We can now solve the problem if we have CPLEX installed. For instance, if we are only looking for the best expected value:"
      ]
    },
    {
      "cell_type": "code",
      "execution_count": null,
      "metadata": {
        "_cell_guid": "32eeb364-9c9e-8683-0397-e456f39b5ad0"
      },
      "outputs": [],
      "source": [
        "qcpmip_solve(gift_types, bags, 0.0)"
      ]
    },
    {
      "cell_type": "markdown",
      "metadata": {
        "_cell_guid": "ff6f4136-4a0e-2dbc-3434-964119553844"
      },
      "source": [
        "Let me paste output here given it does not run on Kaggle kernel:\n",
        "\n",
        "    objective: 35618.561\n",
        "      x_14954=1\n",
        "      x_368=63\n",
        "      x_773=395\n",
        "      x_3936=93\n",
        "      x_39480=47\n",
        "      x_36998=1\n",
        "      x_474=24\n",
        "      x_11628=55\n",
        "      mean=35618.561\n",
        "      x_2089=76\n",
        "      x_264=46\n",
        "      x_2091=199"
      ]
    },
    {
      "cell_type": "markdown",
      "metadata": {
        "_cell_guid": "be0cdcb3-abd3-b725-26aa-a6f4bf875d02"
      },
      "source": [
        "We see that the best solution structure has an expected value around 35620.  I noticed that as the sample size is increased (the value of nsample), then the objective value decreases."
      ]
    },
    {
      "cell_type": "markdown",
      "metadata": {
        "_cell_guid": "240b8768-efaa-c2e6-f430-c550b6f07a49"
      },
      "source": [
        "For instance, when using `nsample=100000`, we get\n",
        "    \n",
        "   \n",
        "\n",
        "     objective: 35545.217\n",
        "      x_2315=6\n",
        "      x_36888=1\n",
        "      x_2301=61\n",
        "      x_39358=47\n",
        "      x_8792=115\n",
        "      x_5991=2\n",
        "      x_420=2\n",
        "      x_822=1\n",
        "      x_315=286\n",
        "      x_2137=303\n",
        "      mean=35545.217\n",
        "      var=106992.386\n",
        "      x_418=87\n",
        "      x_3965=89"
      ]
    },
    {
      "cell_type": "markdown",
      "metadata": {
        "_cell_guid": "d2d18eb7-103e-d35b-0fda-989aa9effb0b"
      },
      "source": [
        "We see that the expected value is now about 35545. When I run the code with even larger sample, for instance with nsample=1000000 I get below 35540."
      ]
    },
    {
      "cell_type": "markdown",
      "metadata": {
        "_cell_guid": "2ea5c5c6-240a-79f5-2184-871f11cf242d"
      },
      "source": [
        "If we want to maximize the expected value plus 3 times the standard deviation:\n"
      ]
    },
    {
      "cell_type": "code",
      "execution_count": null,
      "metadata": {
        "_cell_guid": "3823b499-bb97-8bc9-e65d-8564c34ba5f5"
      },
      "outputs": [],
      "source": [
        "qcpmip_solve(gift_types, bags, 3.0)"
      ]
    },
    {
      "cell_type": "markdown",
      "metadata": {
        "_cell_guid": "289a760d-e3e6-ceb5-169b-e2cce2e3b6d1"
      },
      "source": [
        "Output with `nsample=100000` is:\n",
        "\n",
        "    objective: 36533.143\n",
        "      var=113259.323\n",
        "      mean=35523.522\n",
        "      x_3965=100\n",
        "      x_36888=1\n",
        "      x_523=1\n",
        "      x_2137=299\n",
        "      x_315=199\n",
        "      x_6121=49\n",
        "      x_39358=47\n",
        "      x_2301=200\n",
        "      x_8768=1\n",
        "      x_1035=95\n",
        "      std=336.540\n",
        "      x_418=8\n"
      ]
    },
    {
      "cell_type": "markdown",
      "metadata": {
        "_cell_guid": "e9492b3a-ba3d-fec8-95a2-a2a3d87f7dfa"
      },
      "source": [
        "This time we get a lower mean, but a larger std. \n",
        "\n",
        "Solution structure found this way are the best if given enough submissions, as they maximize the likelihood of a good submission.  But the competition shows that switching to a local search approach using feedback from LB is more effective."
      ]
    },
    {
      "cell_type": "code",
      "execution_count": null,
      "metadata": {
        "_cell_guid": "ee5e68d8-e398-e4b7-36d8-5a8572cbb176"
      },
      "outputs": [],
      "source": [
        ""
      ]
    }
  ],
  "metadata": {
    "_change_revision": 0,
    "_is_fork": false,
    "kernelspec": {
      "display_name": "Python 3",
      "language": "python",
      "name": "python3"
    },
    "language_info": {
      "codemirror_mode": {
        "name": "ipython",
        "version": 3
      },
      "file_extension": ".py",
      "mimetype": "text/x-python",
      "name": "python",
      "nbconvert_exporter": "python",
      "pygments_lexer": "ipython3",
      "version": "3.5.2"
    }
  },
  "nbformat": 4,
  "nbformat_minor": 0
}