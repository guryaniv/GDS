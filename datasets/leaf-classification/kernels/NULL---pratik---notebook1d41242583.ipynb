{
  "cells": [
    {
      "cell_type": "code",
      "execution_count": null,
      "metadata": {
        "_cell_guid": "9760c8cf-745e-fcac-e7c3-159e8e10ef77"
      },
      "outputs": [],
      "source": [
        "# This Python 3 environment comes with many helpful analytics libraries installed\n",
        "# It is defined by the kaggle/python docker image: https://github.com/kaggle/docker-python\n",
        "# For example, here's several helpful packages to load in \n",
        "\n",
        "import numpy as np # linear algebra\n",
        "import pandas as pd # data processing, CSV file I/O (e.g. pd.read_csv)\n",
        "\n",
        "# Input data files are available in the \"../input/\" directory.\n",
        "# For example, running this (by clicking run or pressing Shift+Enter) will list the files in the input directory\n",
        "\n",
        "from subprocess import check_output\n",
        "print(check_output([\"ls\", \"../input\"]).decode(\"utf8\"))\n",
        "\n",
        "train = pd.read_csv('../input/train.csv')\n",
        "\n",
        "train.head()\n",
        "\n",
        "\n",
        "# Any results you write to the current directory are saved as output."
      ]
    },
    {
      "cell_type": "code",
      "execution_count": null,
      "metadata": {
        "_cell_guid": "03624768-3d1b-92f5-0490-a694ae54118e"
      },
      "outputs": [],
      "source": [
        "features = train.columns[2:]\n",
        "len(features)"
      ]
    },
    {
      "cell_type": "code",
      "execution_count": null,
      "metadata": {
        "_cell_guid": "63ae92cd-c3be-5698-1fd8-ce60800090af"
      },
      "outputs": [],
      "source": [
        "train['species'] = train['species'].astype('category')\n",
        "cat_columns = train.select_dtypes(['category']).columns\n",
        "train[cat_columns] = train[cat_columns].apply(lambda x: x.cat.codes)\n",
        "print(max(train['species']))"
      ]
    },
    {
      "cell_type": "code",
      "execution_count": null,
      "metadata": {
        "_cell_guid": "c93bb41b-4c44-bcba-2a5b-d5620b2bacc2"
      },
      "outputs": [],
      "source": [
        "train['species'] = train['species'].reshape((990,1))"
      ]
    },
    {
      "cell_type": "code",
      "execution_count": null,
      "metadata": {
        "_cell_guid": "f55bcd3b-5d1e-5954-d579-51a73fa50506"
      },
      "outputs": [],
      "source": ""
    }
  ],
  "metadata": {
    "_change_revision": 0,
    "_is_fork": false,
    "kernelspec": {
      "display_name": "Python 3",
      "language": "python",
      "name": "python3"
    },
    "language_info": {
      "codemirror_mode": {
        "name": "ipython",
        "version": 3
      },
      "file_extension": ".py",
      "mimetype": "text/x-python",
      "name": "python",
      "nbconvert_exporter": "python",
      "pygments_lexer": "ipython3",
      "version": "3.5.2"
    }
  },
  "nbformat": 4,
  "nbformat_minor": 0
}