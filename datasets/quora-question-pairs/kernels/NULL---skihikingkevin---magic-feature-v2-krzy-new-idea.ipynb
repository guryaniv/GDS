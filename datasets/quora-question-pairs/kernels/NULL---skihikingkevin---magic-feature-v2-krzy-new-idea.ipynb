{
  "cells": [
    {
      "cell_type": "markdown",
      "metadata": {
        "_cell_guid": "108f5ba9-ce5d-9309-10b8-dd84c0709b2a"
      },
      "source": [
        "Feature as described by Krzysztof Dziedzic. He also had the idea of using the WM matrix as some sort of metric so that its a weighted intersection.\n",
        "\n",
        "\n",
        "----------\n"
      ]
    },
    {
      "cell_type": "code",
      "execution_count": null,
      "metadata": {
        "_cell_guid": "ceee956e-7672-e0d9-a0b4-1fd9aa5b2880"
      },
      "outputs": [],
      "source": [
        "# This Python 3 environment comes with many helpful analytics libraries installed\n",
        "# It is defined by the kaggle/python docker image: https://github.com/kaggle/docker-python\n",
        "# For example, here's several helpful packages to load in \n",
        "\n",
        "import numpy as np # linear algebra\n",
        "import pandas as pd # data processing, CSV file I/O (e.g. pd.read_csv)\n",
        "from collections import defaultdict\n",
        "from nltk.corpus import stopwords\n",
        "\n",
        "\n",
        "# Input data files are available in the \"../input/\" directory.\n",
        "# For example, running this (by clicking run or pressing Shift+Enter) will list the files in the input directory"
      ]
    },
    {
      "cell_type": "code",
      "execution_count": null,
      "metadata": {
        "_cell_guid": "e8c4d481-91cf-89c2-8891-c80b05c4f7af"
      },
      "outputs": [],
      "source": [
        "train_orig =  pd.read_csv('../input/train.csv', header=0)\n",
        "test_orig =  pd.read_csv('../input/test.csv', header=0)"
      ]
    },
    {
      "cell_type": "code",
      "execution_count": null,
      "metadata": {
        "_cell_guid": "ddf12583-76a8-520a-71c4-cccf4a15d01b"
      },
      "outputs": [],
      "source": [
        "ques = pd.concat([train_orig[['question1', 'question2']], \\\n",
        "        test_orig[['question1', 'question2']]], axis=0).reset_index(drop='index')\n",
        "ques.shape"
      ]
    },
    {
      "cell_type": "code",
      "execution_count": null,
      "metadata": {
        "_cell_guid": "41019c14-3710-4665-be63-c3336e63a730"
      },
      "outputs": [],
      "source": [
        "stops = set(stopwords.words(\"english\"))\n",
        "def word_match_share(q1, q2, stops=None):\n",
        "    q1 = str(q1).lower().split()\n",
        "    q2 = str(q2).lower().split()\n",
        "    q1words = {}\n",
        "    q2words = {}\n",
        "    for word in q1:\n",
        "        if word not in stops:\n",
        "            q1words[word] = 1\n",
        "    for word in q2:\n",
        "        if word not in stops:\n",
        "            q2words[word] = 1\n",
        "    if len(q1words) == 0 or len(q2words) == 0:\n",
        "        # The computer-generated chaff includes a few questions that are nothing but stopwords\n",
        "        return 0.\n",
        "    shared_words_in_q1 = [w for w in q1words.keys() if w in q2words]\n",
        "    shared_words_in_q2 = [w for w in q2words.keys() if w in q1words]\n",
        "    R = (len(shared_words_in_q1) + len(shared_words_in_q2))/(len(q1words) + len(q2words))\n",
        "    return R"
      ]
    },
    {
      "cell_type": "code",
      "execution_count": null,
      "metadata": {
        "_cell_guid": "bb6c9ddd-1ef5-ede3-798c-e6889bad2eab"
      },
      "outputs": [],
      "source": [
        "q_dict = defaultdict(dict)\n",
        "for i in range(ques.shape[0]):\n",
        "        wm = word_match_share(ques.question1[i], ques.question2[i], stops=stops)\n",
        "        q_dict[ques.question1[i]][ques.question2[i]] = wm\n",
        "        q_dict[ques.question2[i]][ques.question1[i]] = wm"
      ]
    },
    {
      "cell_type": "code",
      "execution_count": null,
      "metadata": {
        "_cell_guid": "e7f8025b-cc2e-6e7b-50af-5a33f4006d61"
      },
      "outputs": [],
      "source": [
        "def q1_q2_intersect(row):\n",
        "    return(len(set(q_dict[row['question1']]).intersection(set(q_dict[row['question2']]))))\n",
        "def q1_q2_wm_ratio(row):\n",
        "    q1 = q_dict[row['question1']]\n",
        "    q2 = q_dict[row['question2']]\n",
        "    inter_keys = set(q1.keys()).intersection(set(q2.keys()))\n",
        "    if(len(inter_keys) == 0): return 0.\n",
        "    inter_wm = 0.\n",
        "    total_wm = 0.\n",
        "    for q,wm in q1.items():\n",
        "        if q in inter_keys:\n",
        "            inter_wm += wm\n",
        "        total_wm += wm\n",
        "    for q,wm in q2.items():\n",
        "        if q in inter_keys:\n",
        "            inter_wm += wm\n",
        "        total_wm += wm\n",
        "    if(total_wm == 0.): return 0.\n",
        "    return inter_wm/total_wm"
      ]
    },
    {
      "cell_type": "code",
      "execution_count": null,
      "metadata": {
        "_cell_guid": "757496a4-4bd7-eb38-7c44-86b4bc2620ec"
      },
      "outputs": [],
      "source": [
        "train_orig['q1_q2_wm_ratio'] = train_orig.apply(q1_q2_wm_ratio, axis=1, raw=True)\n",
        "test_orig['q1_q2_wm_ratio'] = test_orig.apply(q1_q2_wm_ratio, axis=1, raw=True)"
      ]
    },
    {
      "cell_type": "code",
      "execution_count": null,
      "metadata": {
        "_cell_guid": "618f8754-0429-4887-7c81-a2569142ea3c"
      },
      "outputs": [],
      "source": [
        "train_orig['q1_q2_intersect'] = train_orig.apply(q1_q2_intersect, axis=1, raw=True)\n",
        "test_orig['q1_q2_intersect'] = test_orig.apply(q1_q2_intersect, axis=1, raw=True)"
      ]
    },
    {
      "cell_type": "code",
      "execution_count": null,
      "metadata": {
        "_cell_guid": "d555661e-e388-43d6-5785-adf02d06841b"
      },
      "outputs": [],
      "source": [
        "import matplotlib.pyplot as plt\n",
        "import seaborn as sns\n",
        "%matplotlib inline"
      ]
    },
    {
      "cell_type": "code",
      "execution_count": null,
      "metadata": {
        "_cell_guid": "dee108a9-2af2-2a4d-05e1-5b6ee02b1ce4"
      },
      "outputs": [],
      "source": [
        "plt.figure(figsize=(12,6))\n",
        "plt.subplot(1,2,1)\n",
        "temp = train_orig.q1_q2_intersect.value_counts()\n",
        "sns.barplot(temp.index[:20], temp.values[:20])\n",
        "plt.subplot(1,2,2)\n",
        "train_orig['q1_q2_wm_ratio'].plot.hist()"
      ]
    },
    {
      "cell_type": "code",
      "execution_count": null,
      "metadata": {
        "_cell_guid": "4e9d647f-f0d4-7d33-92a6-05b0a180511c"
      },
      "outputs": [],
      "source": [
        "plt.figure(figsize=(12,6))\n",
        "plt.subplot(1,2,1)\n",
        "sns.violinplot(x='is_duplicate', y='q1_q2_wm_ratio', data = train_orig)\n",
        "plt.subplot(1,2,2)\n",
        "sns.violinplot(x='is_duplicate', y='q1_q2_intersect', data = train_orig)"
      ]
    },
    {
      "cell_type": "code",
      "execution_count": null,
      "metadata": {
        "_cell_guid": "69e963c2-ca66-86a1-085a-c9c857e2389f"
      },
      "outputs": [],
      "source": [
        "train_orig.plot.scatter(x='q1_q2_intersect', y='q1_q2_wm_ratio', figsize=(12,6))\n",
        "print(train_orig[['q1_q2_intersect', 'q1_q2_wm_ratio']].corr())"
      ]
    },
    {
      "cell_type": "code",
      "execution_count": null,
      "metadata": {
        "_cell_guid": "c20def52-2260-1fe3-3978-92e204ae93c1"
      },
      "outputs": [],
      "source": [
        "train_feat = train_orig[['q1_q2_intersect', 'q1_q2_wm_ratio']]\n",
        "test_feat = test_orig[['q1_q2_intersect', 'q1_q2_wm_ratio']]"
      ]
    },
    {
      "cell_type": "code",
      "execution_count": null,
      "metadata": {
        "_cell_guid": "e96ee285-9849-203e-bc88-73ef95a8999e"
      },
      "outputs": [],
      "source": [
        "train_feat.to_csv('new_magic_train.csv')\n",
        "test_feat.to_csv('new_magic_test.csv')"
      ]
    },
    {
      "cell_type": "code",
      "execution_count": null,
      "metadata": {
        "_cell_guid": "25ee6d9d-b776-5ab7-8191-9dbcc37bc294"
      },
      "outputs": [],
      "source": [
        ""
      ]
    }
  ],
  "metadata": {
    "_change_revision": 0,
    "_is_fork": false,
    "kernelspec": {
      "display_name": "Python 3",
      "language": "python",
      "name": "python3"
    },
    "language_info": {
      "codemirror_mode": {
        "name": "ipython",
        "version": 3
      },
      "file_extension": ".py",
      "mimetype": "text/x-python",
      "name": "python",
      "nbconvert_exporter": "python",
      "pygments_lexer": "ipython3",
      "version": "3.6.0"
    }
  },
  "nbformat": 4,
  "nbformat_minor": 0
}