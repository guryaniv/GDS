{
  "cells": [
    {
      "cell_type": "markdown",
      "metadata": {
        "_cell_guid": "cc1ed533-0848-ff7c-3243-58d0a83439c4"
      },
      "source": [
        "**Application of Once Class SVM to detect anomaly** "
      ]
    },
    {
      "cell_type": "code",
      "execution_count": null,
      "metadata": {
        "_cell_guid": "e06f323c-b386-de20-a6fe-6a187b29f9b3"
      },
      "outputs": [],
      "source": [
        "import pandas as pd\n",
        "import numpy as np\n",
        "from sklearn import svm\n",
        "cc =  pd.read_csv(\"../input/creditcard.csv\")"
      ]
    },
    {
      "cell_type": "code",
      "execution_count": null,
      "metadata": {
        "_cell_guid": "48b30a96-8342-eefe-9b7e-473eb7c468f9"
      },
      "outputs": [],
      "source": [
        "# Data check. \n",
        "\n",
        "cc.head()"
      ]
    },
    {
      "cell_type": "code",
      "execution_count": null,
      "metadata": {
        "_cell_guid": "898b1c09-4a95-10e9-6b6e-acfaefccbd45"
      },
      "outputs": [],
      "source": [
        "#I observed an conflict in the name 'class'. Therefore, I have changed the name from class to category\n",
        "\n",
        "cc= cc.rename(columns={'Class': 'Category'})"
      ]
    },
    {
      "cell_type": "code",
      "execution_count": null,
      "metadata": {
        "_cell_guid": "48d2011d-a73b-9568-b31a-847ee4e270cb"
      },
      "outputs": [],
      "source": [
        "# For convinience, divide the dataframe cc based on two labels. \n",
        "\n",
        "nor_obs = cc.loc[cc.Category==0]    #Data frame with normal observation\n",
        "ano_obs = cc.loc[cc.Category==1]    #Data frame with anomalous observation"
      ]
    },
    {
      "cell_type": "markdown",
      "metadata": {
        "_cell_guid": "0a7e9f45-bca4-e514-1586-53a8b28ab7b0"
      },
      "source": [
        "The given dataframe 'cc' is divided into three sets \n",
        "\n",
        "Training set: train_features\n",
        "\n",
        "Test observations/features: X_test\n",
        "\n",
        "Test labels: Y_test"
      ]
    },
    {
      "cell_type": "markdown",
      "metadata": {
        "_cell_guid": "bd3bac7c-64fa-5917-8ffc-c24fc86d2874"
      },
      "source": [
        "Once class SVM is trained with the observations of only one class. In this case, the algorithm is trained with first 200,000 observation of normal transactions. The remaining observations are merged with the anomalous observation to create a test set. \n",
        "\n"
      ]
    },
    {
      "cell_type": "code",
      "execution_count": null,
      "metadata": {
        "_cell_guid": "e4a0bbae-8a7f-4c56-75ff-30e84beb8261"
      },
      "outputs": [],
      "source": [
        "# The given dataframe 'cc' is divided into three sets \n",
        "# Training set: train_features\n",
        "# Test observations/features: X_test\n",
        "# Test labels: Y_test"
      ]
    },
    {
      "cell_type": "code",
      "execution_count": null,
      "metadata": {
        "_cell_guid": "f3e79568-4672-dfcb-223e-3fc8277feb62"
      },
      "outputs": [],
      "source": [
        "# Once class SVM is trained with the observations of only one class. In this case, the algorithm is trained with \n",
        "# first 200,000 observation of normal transactions. The remaining observation is merged with the anomalous observation \n",
        "# to create a test set. \n",
        "\n",
        "train_feature = nor_obs.loc[0:200000, :]\n",
        "train_feature = train_feature.drop('Category', 1)\n",
        "Y_1 = nor_obs.loc[200000:, 'Category']\n",
        "Y_2 = ano_obs['Category']"
      ]
    },
    {
      "cell_type": "code",
      "execution_count": null,
      "metadata": {
        "_cell_guid": "1f2277da-ff0d-ce7e-8e09-a5dd93d782ae"
      },
      "outputs": [],
      "source": [
        "# Creatng test observations/features\n",
        "\n",
        "X_test_1 = nor_obs.loc[200000:, :].drop('Category',1)\n",
        "X_test_2 = ano_obs.drop('Category',1)\n",
        "X_test = X_test_1.append(X_test_2)"
      ]
    },
    {
      "cell_type": "code",
      "execution_count": null,
      "metadata": {
        "_cell_guid": "1286a429-4427-809a-d0dc-600694297bd0"
      },
      "outputs": [],
      "source": [
        "# Setting the hyperparameters for Once Class SVM\n",
        "\n",
        "oneclass = svm.OneClassSVM(kernel='linear', gamma=0.001, nu=0.95)\n",
        "\n",
        "# I have used various combination of hyperparameters like linear, rbf, poly, gamma- 0.001, 0.0001, nu- 0.25, 0.5, 0.75, 0.95\n",
        "# This combination gave me the most satisfactory results.# The remain data set is (after 200,000 observations) are appended with anomalous observations\n",
        "\n",
        "Y_1 = nor_obs.loc[200000:, 'Category']\n",
        "Y_2 = ano_obs['Category']\n",
        "\n",
        "Y_test= Y_1.append(Y_2)\n",
        "\n",
        "#Y_test is used to evaluste the model"
      ]
    },
    {
      "cell_type": "code",
      "execution_count": null,
      "metadata": {
        "_cell_guid": "3858fdfc-2f9b-fda3-71c6-02f9de4b2c96"
      },
      "outputs": [],
      "source": [
        "from sklearn import svm\n",
        "# Training the algorithm with the features. \n",
        "# This stage is very time consuming processes. In my laptop it took more than an hour to train for 200,000 observations. \n",
        "# For rbf, the time taken is even more.\n",
        "\n",
        "oneclass.fit(train_feature)"
      ]
    },
    {
      "cell_type": "code",
      "execution_count": null,
      "metadata": {
        "_cell_guid": "38f76761-d497-b3d6-5504-d4c989e4395f"
      },
      "outputs": [],
      "source": [
        "# Test the algorithm on the test set\n",
        "\n",
        "fraud_pred = oneclass.predict(X_test)"
      ]
    },
    {
      "cell_type": "code",
      "execution_count": null,
      "metadata": {
        "_cell_guid": "78299316-5c5e-33b4-4b79-87b652962318"
      },
      "outputs": [],
      "source": [
        "# Check the number of outliers predicted by the algorithm\n",
        "\n",
        "unique, counts = np.unique(fraud_pred, return_counts=True)\n",
        "print (np.asarray((unique, counts)).T)"
      ]
    },
    {
      "cell_type": "code",
      "execution_count": null,
      "metadata": {
        "_cell_guid": "7c4863c9-cf32-830f-d2d2-971ea5282cbc"
      },
      "outputs": [],
      "source": [
        "#Convert Y-test and fraud_pred to dataframe for ease of operation\n",
        "\n",
        "Y_test= Y_test.to_frame()\n",
        "Y_test=Y_test.reset_index()\n",
        "fraud_pred = pd.DataFrame(fraud_pred)\n",
        "fraud_pred= fraud_pred.rename(columns={0: 'prediction'})"
      ]
    },
    {
      "cell_type": "code",
      "execution_count": null,
      "metadata": {
        "_cell_guid": "4c5c8027-d814-1c88-8ff8-d2de2e7a8d15"
      },
      "outputs": [],
      "source": [
        "##Performance check of the model\n",
        "\n",
        "TP = FN = FP = TN = 0\n",
        "for j in range(len(Y_test)):\n",
        "    if Y_test['Category'][j]== 0 and fraud_pred['prediction'][j] == 1:\n",
        "        TP = TP+1\n",
        "    elif Y_test['Category'][j]== 0 and fraud_pred['prediction'][j] == -1:\n",
        "        FN = FN+1\n",
        "    elif Y_test['Category'][j]== 1 and fraud_pred['prediction'][j] == 1:\n",
        "        FP = FP+1\n",
        "    else:\n",
        "        TN = TN +1\n",
        "print (TP,  FN,  FP,  TN)\n"
      ]
    },
    {
      "cell_type": "code",
      "execution_count": null,
      "metadata": {
        "_cell_guid": "4126d295-444c-51e9-1aac-ce7ec470b717"
      },
      "outputs": [],
      "source": [
        "# Performance Matrix\n",
        "\n",
        "accuracy = (TP+TN)/(TP+FN+FP+TN)\n",
        "print (accuracy)\n",
        "sensitivity = TP/(TP+FN)\n",
        "print (sensitivity)\n",
        "specificity = TN/(TN+FP)\n",
        "print (specificity)"
      ]
    },
    {
      "cell_type": "markdown",
      "metadata": {
        "_cell_guid": "661853d0-042d-af31-3688-7547be04cc63"
      },
      "source": [
        "Following results were obtained \n",
        "\n",
        "accuracy= 99.9%\n",
        "\n",
        "sensitivity = 100%\n",
        "\n",
        "specificity = 75%\n",
        "\n",
        "Once class SVM has shown a very promising performance for this dataset with near 90% detection of anomaly and very few false alarm. This can be a starting point for fine tuning the algorthm to improve the specificity, keeping other things constant. Tuning the hyperparameters are very time consuming process and the Kaggle kernal stops after some time. Therefore, O couldnt run the code. I have just shown my codes in the cell. I am sure this code will run because i have ran it in my Jupyter note book. I have also isolation forest in my previous kernal. Once class SVM seems to outperform isolation forest in this case. "
      ]
    },
    {
      "cell_type": "code",
      "execution_count": null,
      "metadata": {
        "_cell_guid": "8967074d-5eaf-8e3c-3b41-5d7faeddbdb0"
      },
      "outputs": [],
      "source": [
        ""
      ]
    },
    {
      "cell_type": "code",
      "execution_count": null,
      "metadata": {
        "_cell_guid": "cd599226-2649-d8fc-2a77-1671ff4f34e0"
      },
      "outputs": [],
      "source": [
        ""
      ]
    },
    {
      "cell_type": "code",
      "execution_count": null,
      "metadata": {
        "_cell_guid": "98472ef7-3d24-8e9c-aac9-18fdf69da5b9"
      },
      "outputs": [],
      "source": [
        ""
      ]
    },
    {
      "cell_type": "code",
      "execution_count": null,
      "metadata": {
        "_cell_guid": "2b21a8be-be70-9b58-dcec-9b10c5911b1a"
      },
      "outputs": [],
      "source": [
        ""
      ]
    },
    {
      "cell_type": "code",
      "execution_count": null,
      "metadata": {
        "_cell_guid": "8de83fbe-dcc7-0339-5b10-993f815a5ffb"
      },
      "outputs": [],
      "source": [
        ""
      ]
    }
  ],
  "metadata": {
    "_change_revision": 0,
    "_is_fork": false,
    "kernelspec": {
      "display_name": "Python 3",
      "language": "python",
      "name": "python3"
    },
    "language_info": {
      "codemirror_mode": {
        "name": "ipython",
        "version": 3
      },
      "file_extension": ".py",
      "mimetype": "text/x-python",
      "name": "python",
      "nbconvert_exporter": "python",
      "pygments_lexer": "ipython3",
      "version": "3.6.0"
    }
  },
  "nbformat": 4,
  "nbformat_minor": 0
}