{
  "cells": [
    {
      "cell_type": "code",
      "execution_count": null,
      "metadata": {
        "_cell_guid": "3870d3de-95d6-a1e3-e8ba-556806e77a9d"
      },
      "outputs": [],
      "source": [
        "# This Python 3 environment comes with many helpful analytics libraries installed\n",
        "# It is defined by the kaggle/python docker image: https://github.com/kaggle/docker-python\n",
        "# For example, here's several helpful packages to load in \n",
        "\n",
        "import numpy as np # linear algebra\n",
        "import pandas as pd # data processing, CSV file I/O (e.g. pd.read_csv)\n",
        "\n",
        "# Input data files are available in the \"../input/\" directory.\n",
        "# For example, running this (by clicking run or pressing Shift+Enter) will list the files in the input directory\n",
        "\n",
        "from subprocess import check_output\n",
        "print(check_output([\"ls\", \"../input\"]).decode(\"utf8\"))\n",
        "\n",
        "# Any results you write to the current directory are saved as output."
      ]
    },
    {
      "cell_type": "code",
      "execution_count": null,
      "metadata": {
        "_cell_guid": "a0fef95b-5537-6f8c-8a10-dcea7f102397"
      },
      "outputs": [],
      "source": [
        "import re\n",
        "import matplotlib.pyplot as plt\n",
        "import matplotlib\n",
        "import seaborn as sbn\n",
        "import scipy as sp\n",
        "\n",
        "%matplotlib inline\n",
        "color = sbn.color_palette()\n",
        "pd.set_option('expand_frame_repr', False)\n",
        "pd.options.mode.chained_assignment = None"
      ]
    },
    {
      "cell_type": "code",
      "execution_count": null,
      "metadata": {
        "_cell_guid": "4b15883f-2c30-75b4-9dd0-d949531786f5"
      },
      "outputs": [],
      "source": [
        "train_df = pd.read_json(r'../input/train.json')\n",
        "train_df.head()"
      ]
    },
    {
      "cell_type": "code",
      "execution_count": null,
      "metadata": {
        "_cell_guid": "9ca2b325-c03c-bac2-befc-67d0e0827516"
      },
      "outputs": [],
      "source": [
        "test_df = pd.read_json(r'../input/test.json')\n",
        "test_df.head()"
      ]
    },
    {
      "cell_type": "code",
      "execution_count": null,
      "metadata": {
        "_cell_guid": "a1dfd1d0-3e0e-30b7-64cb-a1e8fa97a9bd"
      },
      "outputs": [],
      "source": [
        "print(\"Train_shape : {} \\n Test_shape : {}\".format(train_df.shape, test_df.shape))"
      ]
    },
    {
      "cell_type": "code",
      "execution_count": null,
      "metadata": {
        "_cell_guid": "381dc0a4-c2cc-f053-0967-60a72159ba09"
      },
      "outputs": [],
      "source": [
        "int_lvl = train_df['interest_level'].value_counts()\n",
        "print(round(int_lvl*100/len(train_df),2))"
      ]
    },
    {
      "cell_type": "code",
      "execution_count": null,
      "metadata": {
        "_cell_guid": "a39a79e5-8fdd-61a2-f10b-0a496935428d"
      },
      "outputs": [],
      "source": [
        "train_df.dtypes"
      ]
    },
    {
      "cell_type": "code",
      "execution_count": null,
      "metadata": {
        "_cell_guid": "a02c1691-be45-c0b2-e633-c114c04d8ad4"
      },
      "outputs": [],
      "source": [
        "var_num = ['bathrooms','bedrooms','latitude','longitude','price']\n",
        "for var in var_num:\n",
        "    print(\"Variable : {0} \\n{1}\\n\".format(var,sp.stats.describe(train_df[var])))"
      ]
    },
    {
      "cell_type": "code",
      "execution_count": null,
      "metadata": {
        "_cell_guid": "ebf00673-9407-4c40-e8b4-07bf1877f477"
      },
      "outputs": [],
      "source": [
        "train_df.corr()"
      ]
    },
    {
      "cell_type": "code",
      "execution_count": null,
      "metadata": {
        "_cell_guid": "0d4493e7-5a81-038e-4fc8-c9903cf2353b"
      },
      "outputs": [],
      "source": [
        "fig = plt.figure(figsize=(14,7))\n",
        "ax1 = fig.add_subplot(121)\n",
        "train_df.hist('bathrooms', bins=20,ax=ax1)\n",
        "ax2 = fig.add_subplot(122)\n",
        "train_df.hist('bedrooms', bins=8,ax=ax2)\n",
        "plt.show()"
      ]
    },
    {
      "cell_type": "code",
      "execution_count": null,
      "metadata": {
        "_cell_guid": "91897475-e819-9d31-3e4b-4758ef51c2d5"
      },
      "outputs": [],
      "source": [
        "fig = plt.figure(figsize=(14,7))\n",
        "ax1 = fig.add_subplot(121)\n",
        "test_df.hist('bathrooms', bins=20,ax=ax1)\n",
        "ax2 = fig.add_subplot(122)\n",
        "test_df.hist('bedrooms', bins=8,ax=ax2)\n",
        "plt.show()"
      ]
    },
    {
      "cell_type": "code",
      "execution_count": null,
      "metadata": {
        "_cell_guid": "cbdcb5f3-98bb-2e06-493c-24872503e75d"
      },
      "outputs": [],
      "source": [
        "bth_cnt = test_df['bathrooms'].value_counts()\n",
        "\n",
        "plt.figure(figsize=(8,6))\n",
        "sbn.barplot(bth_cnt.index, bth_cnt.values,alpha=0.7)\n",
        "plt.xlabel('Number of bathrooms', fontsize=12)\n",
        "plt.ylabel('Number of occurences', fontsize=12)\n",
        "plt.show()"
      ]
    },
    {
      "cell_type": "code",
      "execution_count": null,
      "metadata": {
        "_cell_guid": "f3c903f5-971f-3d57-d6b6-2d00a4da307f"
      },
      "outputs": [],
      "source": [
        "x_id = np.linspace(0,len(train_df),num=len(train_df),endpoint=False)\n",
        "fig = plt.figure(figsize=(12,10))\n",
        "fig.add_subplot(111)\n",
        "plt.scatter(x_id,train_df['price'])"
      ]
    },
    {
      "cell_type": "code",
      "execution_count": null,
      "metadata": {
        "_cell_guid": "d632a40a-9949-a763-345e-dc7861a434eb"
      },
      "outputs": [],
      "source": [
        "fig = plt.figure(figsize=(12,10))\n",
        "ax1 = fig.add_subplot(211)\n",
        "train_df.plot.scatter('bathrooms','price', ax=ax1)\n",
        "ax2 = fig.add_subplot(212)\n",
        "train_df.plot.scatter('bedrooms','price', ax=ax2)"
      ]
    },
    {
      "cell_type": "code",
      "execution_count": null,
      "metadata": {
        "_cell_guid": "89cce565-8cfd-6d1e-2fa0-84b752cb1385"
      },
      "outputs": [],
      "source": [
        "price_bed_bath = train_df.groupby(by=['bedrooms','bathrooms'], axis=0, as_index=False)['price'].median()\n",
        "price_bed_bath.head()"
      ]
    },
    {
      "cell_type": "code",
      "execution_count": null,
      "metadata": {
        "_cell_guid": "ec006bdf-a9dd-1a90-6753-b748b574e366"
      },
      "outputs": [],
      "source": [
        "fig = plt.figure(figsize=(12,10))\n",
        "ax1 = fig.add_subplot(111)\n",
        "#bed_bath.plot.bar(['bedrooms','bathrooms'],'listing_id',ax=ax1)\n",
        "price_bed_bath.plot.bar(['bedrooms','bathrooms'],'price',ax=ax1)\n",
        "plt.show()"
      ]
    },
    {
      "cell_type": "code",
      "execution_count": null,
      "metadata": {
        "_cell_guid": "03d33daa-abc7-5cf2-9291-5aad1551d2fe"
      },
      "outputs": [],
      "source": [
        "fig = plt.figure(figsize=(12,8))\n",
        "ax1 = fig.add_subplot(111)\n",
        "#bed_bath.plot.bar(['bedrooms','bathrooms'],'listing_id',ax=ax1)\n",
        "train_df[train_df['price']<50000].boxplot(column='price',by=['bedrooms'],ax=ax1)\n",
        "plt.show()"
      ]
    },
    {
      "cell_type": "code",
      "execution_count": null,
      "metadata": {
        "_cell_guid": "9895f079-d494-f733-ee54-693818b565c8"
      },
      "outputs": [],
      "source": [
        "fig = plt.figure(figsize=(12,8))\n",
        "ax1 = fig.add_subplot(111)\n",
        "#bed_bath.plot.bar(['bedrooms','bathrooms'],'listing_id',ax=ax1)\n",
        "train_df[train_df['price']<50000].boxplot(column='price',by=['bathrooms'],ax=ax1)\n",
        "plt.show()"
      ]
    },
    {
      "cell_type": "code",
      "execution_count": null,
      "metadata": {
        "_cell_guid": "a2084282-d73e-86ac-81f9-edfe935100ce"
      },
      "outputs": [],
      "source": [
        "int_lvl_an = train_df[['interest_level','bedrooms','bathrooms','listing_id']].groupby(['interest_level','bedrooms','bathrooms'],as_index=False).count()\n",
        "int_lvl_an[int_lvl_an['listing_id'] > 5] #.sort_values(by='listing_id')"
      ]
    },
    {
      "cell_type": "code",
      "execution_count": null,
      "metadata": {
        "_cell_guid": "48812010-db83-f3a4-dec6-1f5e411e05b3"
      },
      "outputs": [],
      "source": [
        "mng_smp = train_df.head()['manager_id']\n",
        "mng_smp"
      ]
    },
    {
      "cell_type": "code",
      "execution_count": null,
      "metadata": {
        "_cell_guid": "2458c77f-949f-0901-c196-b1fcf634e2a2"
      },
      "outputs": [],
      "source": [
        "for i in mng_smp:\n",
        "    mng_test = train_df[train_df['manager_id']==i][['interest_level','manager_id','listing_id']].groupby(by=['interest_level','manager_id']).count()\n",
        "    print(mng_test)"
      ]
    },
    {
      "cell_type": "code",
      "execution_count": null,
      "metadata": {
        "_cell_guid": "1e994a92-8144-a9fc-e795-03a0fdfc9cf0"
      },
      "outputs": [],
      "source": [
        "build_smp = train_df.head()['building_id']\n",
        "build_smp"
      ]
    },
    {
      "cell_type": "code",
      "execution_count": null,
      "metadata": {
        "_cell_guid": "751fc019-bead-b119-bf70-805eb64661c9"
      },
      "outputs": [],
      "source": [
        "for i in build_smp:\n",
        "    build_test = train_df[train_df['building_id']==i][['interest_level','building_id','listing_id']].groupby(by=['interest_level','building_id']).count()\n",
        "    print(build_test)"
      ]
    },
    {
      "cell_type": "code",
      "execution_count": null,
      "metadata": {
        "_cell_guid": "62de9eb3-cb08-f96e-e2df-d14f0b562a32"
      },
      "outputs": [],
      "source": [
        "train_df['created'] = pd.to_datetime(train_df['created'])\n",
        "train_df['date'] = train_df['created'].dt.date\n",
        "#train_df['year'] = train_df['created'].dt.year\n",
        "train_df['month'] = train_df['created'].dt.month\n",
        "train_df['day'] = train_df['created'].dt.day\n",
        "train_df['hour'] = train_df['created'].dt.hour\n",
        "train_df['weekday'] = train_df['created'].dt.weekday\n",
        "train_df['week'] = train_df['created'].dt.week\n",
        "#train_df['quarter'] = train_df['created'].dt.quarter"
      ]
    },
    {
      "cell_type": "code",
      "execution_count": null,
      "metadata": {
        "_cell_guid": "aa5d10fe-8357-dc3a-ce0c-a209524aec25"
      },
      "outputs": [],
      "source": [
        "date_list = ['month','day','hour','weekday','week']\n",
        "for i in date_list:\n",
        "    dt_vc = train_df[i].value_counts()\n",
        "    print(dt_vc)"
      ]
    },
    {
      "cell_type": "code",
      "execution_count": null,
      "metadata": {
        "_cell_guid": "10f76c08-267f-0c97-d7c1-468be1294afd"
      },
      "outputs": [],
      "source": [
        "date_cnt = train_df.groupby(['date','interest_level'])['date'].count().unstack('interest_level').fillna(0)\n",
        "date_cnt[['low','medium','high']].plot(kind='bar', stacked=True, figsize=(13,8))"
      ]
    },
    {
      "cell_type": "code",
      "execution_count": null,
      "metadata": {
        "_cell_guid": "08cb0c4e-9791-ccbb-0a67-11b0036d8971"
      },
      "outputs": [],
      "source": [
        "mnth_cnt = train_df.groupby(['month','interest_level'])['month'].count().unstack('interest_level').fillna(0)\n",
        "mnth_cnt[['low','medium','high']].plot(kind='bar', stacked=True, figsize=(10,6))"
      ]
    },
    {
      "cell_type": "code",
      "execution_count": null,
      "metadata": {
        "_cell_guid": "e91bca42-5c9c-b89a-1381-15538bc7a3ba"
      },
      "outputs": [],
      "source": [
        "day_cnt = train_df.groupby(['day','interest_level'])['day'].count().unstack('interest_level').fillna(0)\n",
        "day_cnt[['high','medium','low']].plot(kind='bar', stacked=True, figsize=(13,6))"
      ]
    },
    {
      "cell_type": "code",
      "execution_count": null,
      "metadata": {
        "_cell_guid": "f51ca7bc-b19d-eb16-bdf6-583f1e7f5c25"
      },
      "outputs": [],
      "source": [
        "hr_cnt = train_df.groupby(['hour','interest_level'])['hour'].count().unstack('interest_level').fillna(0)\n",
        "hr_cnt[['low','medium','high']].plot(kind='bar', stacked=True, figsize=(13,6))"
      ]
    },
    {
      "cell_type": "code",
      "execution_count": null,
      "metadata": {
        "_cell_guid": "3d1fe814-28d5-458e-7cc4-17dbb45fe35f"
      },
      "outputs": [],
      "source": [
        "wd_cnt = train_df.groupby(['weekday','interest_level'])['weekday'].count().unstack('interest_level').fillna(0)\n",
        "wd_cnt[['high','medium','low']].plot(kind='bar', stacked=True, figsize=(13,6))"
      ]
    },
    {
      "cell_type": "code",
      "execution_count": null,
      "metadata": {
        "_cell_guid": "708197b3-f5eb-a962-fcd2-466ce58ebd21"
      },
      "outputs": [],
      "source": [
        "wk_cnt = train_df.groupby(['week','interest_level'])['week'].count().unstack('interest_level').fillna(0)\n",
        "wk_cnt[['low','medium','high']].plot(kind='bar', stacked=True, figsize=(13,6))"
      ]
    },
    {
      "cell_type": "code",
      "execution_count": null,
      "metadata": {
        "_cell_guid": "32ad69b7-e9d6-05b5-f5a7-8e73e9c4cbb1"
      },
      "outputs": [],
      "source": [
        "tr_mn_li = train_df['manager_id'].unique()\n",
        "ts_mn_li = test_df['manager_id'].unique()\n",
        "print(\"Manager_length : \\nTrain : {0} \\nTest : {1}\".format(len(tr_mn_li),len(ts_mn_li)))"
      ]
    },
    {
      "cell_type": "code",
      "execution_count": null,
      "metadata": {
        "_cell_guid": "0f4bf985-34df-9812-9bd5-258bb83b56e2"
      },
      "outputs": [],
      "source": [
        "tr_bld_li = train_df['building_id'].unique()\n",
        "ts_bld_li = test_df['building_id'].unique()\n",
        "print(\"Building_length : \\nTrain : {0} \\nTest : {1}\".format(len(tr_bld_li),len(ts_bld_li)))"
      ]
    },
    {
      "cell_type": "code",
      "execution_count": null,
      "metadata": {
        "_cell_guid": "da98c827-9b1e-9ff3-c891-79f96285dca6"
      },
      "outputs": [],
      "source": [
        "train_df['num_features'] = train_df['features'].apply(lambda x : len(x))\n",
        "train_df.head()"
      ]
    },
    {
      "cell_type": "code",
      "execution_count": null,
      "metadata": {
        "_cell_guid": "81353743-ff05-0d8d-86b1-e4fd8fd9553b"
      },
      "outputs": [],
      "source": [
        ""
      ]
    },
    {
      "cell_type": "code",
      "execution_count": null,
      "metadata": {
        "_cell_guid": "cf8a3ecd-564a-d024-f9b0-367c1dddafa0"
      },
      "outputs": [],
      "source": [
        "feature_cnt = train_df.groupby(['num_features','interest_level'])['num_features'].count().unstack('interest_level').fillna(0)\n",
        "feature_cnt[['low','medium','high']].plot(kind='bar', stacked=True, figsize=(13,6))"
      ]
    },
    {
      "cell_type": "code",
      "execution_count": null,
      "metadata": {
        "_cell_guid": "3d328d33-558e-a5f4-ee76-a0da6553feaf"
      },
      "outputs": [],
      "source": [
        "train_df['num_photos'] = train_df['photos'].apply(lambda x : len(x))\n",
        "photos_cnt = train_df.groupby(['num_photos','interest_level'])['num_photos'].count().unstack('interest_level').fillna(0)\n",
        "photos_cnt[['low','medium','high']].plot(kind='bar', stacked=True, figsize=(13,6))"
      ]
    },
    {
      "cell_type": "code",
      "execution_count": null,
      "metadata": {
        "_cell_guid": "39152df9-1d41-48b9-2213-2315d28efecb"
      },
      "outputs": [],
      "source": [
        "min_lat = train_df['latitude'].min()\n",
        "max_lat = train_df['latitude'].max()\n",
        "min_lon = train_df['longitude'].min()\n",
        "max_lon = train_df['longitude'].max()\n",
        "\n",
        "fig = plt.figure(figsize=(12,8))\n",
        "ax1 = fig.add_subplot(111)\n",
        "train_df.plot.scatter('latitude','longitude',ax=ax1)\n",
        "plt.xlim(min_lat,max_lat)\n",
        "plt.ylim(min_lon, max_lon)\n",
        "plt.show()"
      ]
    },
    {
      "cell_type": "code",
      "execution_count": null,
      "metadata": {
        "_cell_guid": "de94ea41-de85-4b96-737f-0902dffd66e5"
      },
      "outputs": [],
      "source": [
        "lat_lon = train_df.groupby(['latitude','longitude','interest_level'])['latitude'].count().unstack('interest_level').fillna(0)\n",
        "lat_lon.head()"
      ]
    },
    {
      "cell_type": "code",
      "execution_count": null,
      "metadata": {
        "_cell_guid": "ad16d5fe-dc87-ad3b-77e3-677c2a60c9a8"
      },
      "outputs": [],
      "source": [
        "lat_lon.shape"
      ]
    },
    {
      "cell_type": "code",
      "execution_count": null,
      "metadata": {
        "_cell_guid": "9d733a87-170c-1244-10fd-56c9be45b1ac"
      },
      "outputs": [],
      "source": [
        "lat_lon_test = test_df.groupby(['latitude','longitude'])['latitude'].count().fillna(0)\n",
        "lat_lon_test.shape"
      ]
    },
    {
      "cell_type": "code",
      "execution_count": null,
      "metadata": {
        "_cell_guid": "9ca752cd-1948-ef78-40f2-8485591a7586"
      },
      "outputs": [],
      "source": [
        "train_df[(train_df['latitude']==0) & (train_df['longitude']==0)]"
      ]
    },
    {
      "cell_type": "code",
      "execution_count": null,
      "metadata": {
        "_cell_guid": "e07fbe16-09db-2523-1c96-ea310d0c1801"
      },
      "outputs": [],
      "source": [
        "fig = plt.figure(figsize=(12,8))\n",
        "ax1 = fig.add_subplot(111)\n",
        "train_df.plot.scatter('latitude','longitude',ax=ax1)\n",
        "plt.xlim(30,50)\n",
        "plt.ylim(-130, -60)\n",
        "plt.show()"
      ]
    },
    {
      "cell_type": "code",
      "execution_count": null,
      "metadata": {
        "_cell_guid": "8ef9deeb-66ec-004a-b23b-3b34fbbdf4b0"
      },
      "outputs": [],
      "source": [
        "\" \".join(i for i in train_df['street_address'].iloc[58].split(\" \")[1:3])"
      ]
    },
    {
      "cell_type": "code",
      "execution_count": null,
      "metadata": {
        "_cell_guid": "138faf54-ea6a-6f12-8ff7-75cf6d1cd97c"
      },
      "outputs": [],
      "source": [
        "len(test_df['street_address'].value_counts())"
      ]
    },
    {
      "cell_type": "code",
      "execution_count": null,
      "metadata": {
        "_cell_guid": "65d8add8-656e-0f75-a9d4-77dc34d96b85"
      },
      "outputs": [],
      "source": [
        "len(train_df['description'].iloc[893])"
      ]
    },
    {
      "cell_type": "code",
      "execution_count": null,
      "metadata": {
        "_cell_guid": "e7440ded-46b7-c2a1-9cae-6eb0d4977e45"
      },
      "outputs": [],
      "source": [
        "#train_df['description_len'] = train_df['description'].apply(lambda x : len(x))\n",
        "#train_df[train_df['description_len']>=100]['description_len'].count()\n",
        "#train_df.boxplot(column='description_len', by='interest_level',figsize=(12,8))"
      ]
    },
    {
      "cell_type": "code",
      "execution_count": null,
      "metadata": {
        "_cell_guid": "e83c1e0a-b206-f59e-a89a-509dd9ebb3fa"
      },
      "outputs": [],
      "source": [
        "def grp(x):\n",
        "    lx = len(x)\n",
        "    if lx <= 150:\n",
        "        return 0\n",
        "    elif (lx > 150 and lx<=1500):\n",
        "        return 1\n",
        "    else:\n",
        "        return 2"
      ]
    },
    {
      "cell_type": "code",
      "execution_count": null,
      "metadata": {
        "_cell_guid": "4eae944d-60bf-2e94-46aa-fbad93a61e6a"
      },
      "outputs": [],
      "source": [
        "train_df['description_cat'] = train_df['description'].map(grp)"
      ]
    },
    {
      "cell_type": "code",
      "execution_count": null,
      "metadata": {
        "_cell_guid": "3582614e-bd47-3962-8274-2584a42a33de"
      },
      "outputs": [],
      "source": [
        "train_df['description_cat'].value_counts()"
      ]
    },
    {
      "cell_type": "code",
      "execution_count": null,
      "metadata": {
        "_cell_guid": "59f483d8-cb84-469d-f101-0a412d618b57"
      },
      "outputs": [],
      "source": [
        "desc_cnt = train_df.groupby(['description_cat','interest_level'])['description_cat'].count().unstack('interest_level').fillna(0)\n",
        "desc_cnt[['low','medium','high']].plot(kind='bar', stacked=True, figsize=(10,6))"
      ]
    },
    {
      "cell_type": "code",
      "execution_count": null,
      "metadata": {
        "_cell_guid": "17e41d85-b25f-3312-927c-5e9a85465a02"
      },
      "outputs": [],
      "source": [
        "lat_ulimit = np.percentile(train_df['latitude'],99)\n",
        "lat_llimit = np.percentile(train_df['latitude'],1)\n",
        "print(lat_ulimit, lat_llimit)\n",
        "train_df['latitude'].ix[train_df['latitude']<lat_llimit] = lat_llimit\n",
        "train_df['latitude'].ix[train_df['latitude']>lat_ulimit] = lat_ulimit"
      ]
    },
    {
      "cell_type": "code",
      "execution_count": null,
      "metadata": {
        "_cell_guid": "d25eb973-724a-cb90-71aa-9df3f395ab8b"
      },
      "outputs": [],
      "source": [
        "lon_ulimit = np.percentile(train_df['longitude'],99)\n",
        "lon_llimit = np.percentile(train_df['longitude'],1)\n",
        "print(lon_ulimit, lon_llimit)\n",
        "train_df['longitude'].ix[train_df['longitude']<lon_llimit] = lon_llimit\n",
        "train_df['longitude'].ix[train_df['longitude']>lon_ulimit] = lon_ulimit"
      ]
    },
    {
      "cell_type": "code",
      "execution_count": null,
      "metadata": {
        "_cell_guid": "2c76057f-ffc7-bf18-a258-ee10fd13ce06"
      },
      "outputs": [],
      "source": [
        "train_df['lat_lon'] = train_df['latitude'] + train_df['longitude']\n",
        "x1 = np.linspace(0,len(train_df),len(train_df),endpoint=False)\n",
        "plt.scatter(x = x1,y=train_df['lat_lon'])"
      ]
    },
    {
      "cell_type": "code",
      "execution_count": null,
      "metadata": {
        "_cell_guid": "1b0eb6c4-104d-504d-7348-5f7d85104a11"
      },
      "outputs": [],
      "source": ""
    }
  ],
  "metadata": {
    "_change_revision": 0,
    "_is_fork": false,
    "kernelspec": {
      "display_name": "Python 3",
      "language": "python",
      "name": "python3"
    },
    "language_info": {
      "codemirror_mode": {
        "name": "ipython",
        "version": 3
      },
      "file_extension": ".py",
      "mimetype": "text/x-python",
      "name": "python",
      "nbconvert_exporter": "python",
      "pygments_lexer": "ipython3",
      "version": "3.6.0"
    }
  },
  "nbformat": 4,
  "nbformat_minor": 0
}