{
  "cells": [
    {
      "cell_type": "code",
      "execution_count": null,
      "metadata": {
        "_cell_guid": "5aa9855f-ae12-7f60-55c2-c82c0402c2cb"
      },
      "outputs": [],
      "source": [
        "# This Python 3 environment comes with many helpful analytics libraries installed\n",
        "# It is defined by the kaggle/python docker image: https://github.com/kaggle/docker-python\n",
        "# For example, here's several helpful packages to load in \n",
        "\n",
        "import numpy as np # linear algebra\n",
        "import pandas as pd # data processing, CSV file I/O (e.g. pd.read_csv)\n",
        "\n",
        "# Input data files are available in the \"../input/\" directory.\n",
        "# For example, running this (by clicking run or pressing Shift+Enter) will list the files in the input directory\n",
        "\n",
        "from subprocess import check_output\n",
        "print(check_output([\"ls\", \"../input\"]).decode(\"utf8\"))\n",
        "\n",
        "# Any results you write to the current directory are saved as output."
      ]
    },
    {
      "cell_type": "code",
      "execution_count": null,
      "metadata": {
        "_cell_guid": "96b5d183-ec2a-f7b3-af39-38d00ce969c4"
      },
      "outputs": [],
      "source": [
        "import pandas as pd\n",
        "import numpy as np\n",
        "from sklearn.model_selection import train_test_split\n",
        "from sklearn.ensemble import RandomForestClassifier\n",
        "from sklearn.model_selection import cross_val_score\n",
        "from sklearn.metrics import f1_score, recall_score, precision_score, accuracy_score,roc_curve, auc\n",
        "import matplotlib.pyplot as plt\n",
        "\n"
      ]
    },
    {
      "cell_type": "code",
      "execution_count": null,
      "metadata": {
        "_cell_guid": "0f839beb-2c3a-6691-1fff-0fb5b4a28c6d"
      },
      "outputs": [],
      "source": [
        "data = pd.read_csv(\"../input/creditcard.csv\")\n",
        "X = data.iloc[:,:-1].values\n",
        "y = data['Class'].values\n",
        "X_train, X_test, y_train, y_test = train_test_split(X, y, test_size = 0.3)\n"
      ]
    },
    {
      "cell_type": "code",
      "execution_count": null,
      "metadata": {
        "_cell_guid": "4c16c9aa-f136-3c3b-192e-08af86f26f8f"
      },
      "outputs": [],
      "source": [
        "''' Applying the RandomForest algorithm'''\n",
        "\n",
        "clf = RandomForestClassifier(n_estimators = 100,n_jobs = -1)\n",
        "\n",
        "clf.fit(X_train, y_train)\n",
        "predictions = clf.predict(X_test)\n",
        "predict_prob = clf.predict_proba(X_test)\n"
      ]
    },
    {
      "cell_type": "code",
      "execution_count": null,
      "metadata": {
        "_cell_guid": "2f55a8e1-3ec6-7226-cc57-fb960c03f421"
      },
      "outputs": [],
      "source": [
        "'''Using cross-validation technique to check the performance of my model and using area under the roc curve as my performance metrics'''\n",
        "scores = cross_val_score(clf, X_train, y_train, cv = 5, scoring = 'f1')\n",
        "fpr, tpr, thresholds = roc_curve(y_test, predict_prob[:,1] )\n",
        "roc_area = auc(fpr, tpr)\n",
        "\n",
        "''' other metrics for this model'''\n",
        "test_scores = f1_score(y_test, predictions)\n",
        "recall = recall_score(y_test, predictions)\n",
        "precision = precision_score(y_test, predictions)\n",
        "accuracy = accuracy_score(y_test, predictions)\n"
      ]
    },
    {
      "cell_type": "code",
      "execution_count": null,
      "metadata": {
        "_cell_guid": "95c194e9-2ca5-0d7b-8b32-1dc3bbb8a2ba"
      },
      "outputs": [],
      "source": [
        "''' Plotting the roc curve '''\n",
        "\n",
        "plt.title('Receiver operating characteristics')\n",
        "plt.plot(fpr, tpr, 'b')\n",
        "plt.legend(loc='lower right')\n",
        "plt.plot([0,1], [0,1], 'r--')\n",
        "plt.xlim([0.0, 1.0])\n",
        "plt.ylim([0.0,1.0])\n",
        "\n",
        "plt.ylabel('Recall')\n",
        "plt.xlabel('Fall-out')\n",
        "plt.show()\n"
      ]
    },
    {
      "cell_type": "code",
      "execution_count": null,
      "metadata": {
        "_cell_guid": "c1fb7270-1543-3426-b94e-497a3e999578"
      },
      "outputs": [],
      "source": [
        "\n",
        "print(\"The average cross validation score with f1 metrics  is {}\".format(scores.mean()))\n",
        "print(\"The area under the roc curve is {}\".format(roc_area))\n",
        "print(\"The accuracy of model is {}\".format(accuracy))\n",
        "print(\"The average test score is {}\".format(test_scores))\n",
        "print(\"The recall score for test data is {}\".format(recall))\n",
        "print(\"The precision score on test data is {}\".format(precision))\n",
        "\n"
      ]
    },
    {
      "cell_type": "code",
      "execution_count": null,
      "metadata": {
        "_cell_guid": "247becb3-0d83-0f15-6024-d3cd7ae00125"
      },
      "outputs": [],
      "source": ""
    }
  ],
  "metadata": {
    "_change_revision": 0,
    "_is_fork": false,
    "kernelspec": {
      "display_name": "Python 3",
      "language": "python",
      "name": "python3"
    },
    "language_info": {
      "codemirror_mode": {
        "name": "ipython",
        "version": 3
      },
      "file_extension": ".py",
      "mimetype": "text/x-python",
      "name": "python",
      "nbconvert_exporter": "python",
      "pygments_lexer": "ipython3",
      "version": "3.6.0"
    }
  },
  "nbformat": 4,
  "nbformat_minor": 0
}