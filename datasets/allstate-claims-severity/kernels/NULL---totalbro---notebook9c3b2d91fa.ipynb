{
  "cells": [
    {
      "cell_type": "code",
      "execution_count": null,
      "metadata": {
        "_cell_guid": "8e57450b-4a35-939f-260d-ba6154463295"
      },
      "outputs": [],
      "source": [
        "# This Python 3 environment comes with many helpful analytics libraries installed\n",
        "# It is defined by the kaggle/python docker image: https://github.com/kaggle/docker-python\n",
        "# For example, here's several helpful packages to load in \n",
        "\n",
        "import numpy as np # linear algebra\n",
        "import pandas as pd # data processing, CSV file I/O (e.g. pd.read_csv)\n",
        "\n",
        "# Input data files are available in the \"../input/\" directory.\n",
        "# For example, running this (by clicking run or pressing Shift+Enter) will list the files in the input directory\n",
        "\n",
        "from subprocess import check_output\n",
        "print(check_output([\"ls\", \"../input\"]).decode(\"utf8\"))\n",
        "from subprocess import check_output\n",
        "print(check_output([\"ls\", \"../input\"]).decode(\"utf8\"))\n",
        "directory = '../input/'\n",
        "train = pd.read_csv(directory + 'train.csv')\n",
        "test = pd.read_csv(directory + 'test.csv')\n",
        "numeric_feats = [x for x in train.columns[1:-1] if 'cont' in x]\n",
        "categorical_feats = [x for x in train.columns[1:-1] if 'cat' in x]\n",
        "catwithdummies =pd.get_dummies(train)\n",
        "print(catwithdummies)\n",
        "\n",
        "# Any results you write to the current directory are saved as output."
      ]
    },
    {
      "cell_type": "code",
      "execution_count": null,
      "metadata": {
        "_cell_guid": "ab3b5d64-e015-b550-1468-66d3f8d598bb"
      },
      "outputs": [],
      "source": [
        "print(catwithdummies.shape)"
      ]
    },
    {
      "cell_type": "code",
      "execution_count": null,
      "metadata": {
        "_cell_guid": "dcd53c6b-a52c-fb97-04be-99d7a63f83e5"
      },
      "outputs": [],
      "source": [
        "index = list(train.index)\n",
        "print(index[0:10])\n",
        "np.random.shuffle(index)\n",
        "print(index[0:10])\n",
        "train = train.iloc[index]\n",
        "'train = train.iloc[np.random.permutation(len(train))]'\n",
        "\n",
        "## set test loss to NaN\n",
        "test['loss'] = np.nan\n",
        "\n",
        "## response and IDs\n",
        "y = np.log(train['loss'].values+200)\n",
        "id_train = train['id'].values\n",
        "id_test = test['id'].values\n",
        "\n",
        "## stack train test\n",
        "ntrain = train.shape[0]\n",
        "tr_te = pd.concat((train, test), axis = 0)\n",
        "\n",
        "## Preprocessing and transforming to sparse data\n",
        "sparse_data = []\n",
        "\n",
        "f_cat = [f for f in tr_te.columns if 'cat' in f]\n",
        "for f in f_cat:\n",
        "    dummy = pd.get_dummies(tr_te[f].astype('category'))\n",
        "    tmp = csr_matrix(dummy)\n",
        "    sparse_data.append(tmp)\n",
        "\n",
        "f_num = [f for f in tr_te.columns if 'cont' in f]\n",
        "scaler = StandardScaler()\n",
        "tmp = csr_matrix(scaler.fit_transform(tr_te[f_num]))\n",
        "sparse_data.append(tmp)\n",
        "\n",
        "del(tr_te, train, test)\n",
        "\n",
        "## sparse train and test data\n",
        "xtr_te = hstack(sparse_data, format = 'csr')\n",
        "xtrain = xtr_te[:ntrain, :]\n",
        "xtest = xtr_te[ntrain:, :]\n",
        "\n",
        "print('Dim train', xtrain.shape)\n",
        "print('Dim test', xtest.shape)"
      ]
    }
  ],
  "metadata": {
    "_change_revision": 0,
    "_is_fork": false,
    "kernelspec": {
      "display_name": "Python 3",
      "language": "python",
      "name": "python3"
    },
    "language_info": {
      "codemirror_mode": {
        "name": "ipython",
        "version": 3
      },
      "file_extension": ".py",
      "mimetype": "text/x-python",
      "name": "python",
      "nbconvert_exporter": "python",
      "pygments_lexer": "ipython3",
      "version": "3.6.0"
    }
  },
  "nbformat": 4,
  "nbformat_minor": 0
}