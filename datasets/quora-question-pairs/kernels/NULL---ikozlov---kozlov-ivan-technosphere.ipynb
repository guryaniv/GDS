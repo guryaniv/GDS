{
  "cells": [
    {
      "cell_type": "code",
      "execution_count": null,
      "metadata": {
        "_cell_guid": "0daa451f-4ae4-95d4-ff98-6d1c2d837e0d"
      },
      "outputs": [],
      "source": [
        "# This Python 3 environment comes with many helpful analytics libraries installed\n",
        "# It is defined by the kaggle/python docker image: https://github.com/kaggle/docker-python\n",
        "# For example, here's several helpful packages to load in \n",
        "\n",
        "import numpy as np # linear algebra\n",
        "import pandas as pd # data processing, CSV file I/O (e.g. pd.read_csv)\n",
        "\n",
        "# Input data files are available in the \"../input/\" directory."
      ]
    },
    {
      "cell_type": "code",
      "execution_count": null,
      "metadata": {
        "_cell_guid": "c50e4dd2-bdfe-7ad8-6831-0e531dfe5e09"
      },
      "outputs": [],
      "source": [
        "df = pd.read_csv('../input/train.csv', sep=',')\n",
        "df = df.reset_index(drop=True)\n",
        "df.head()"
      ]
    },
    {
      "cell_type": "markdown",
      "metadata": {
        "_cell_guid": "cd2bc8a0-6c67-9577-0d51-f102647fe08b"
      },
      "source": [
        "\u0414\u043e\u043b\u044f \u0441\u043e\u0432\u043f\u0430\u0434\u0430\u044e\u0449\u0438\u0445 \u043f\u0430\u0440"
      ]
    },
    {
      "cell_type": "code",
      "execution_count": null,
      "metadata": {
        "_cell_guid": "23a1d958-79f7-63b1-b664-f838fd063de3"
      },
      "outputs": [],
      "source": [
        "df.is_duplicate.mean()"
      ]
    },
    {
      "cell_type": "code",
      "execution_count": null,
      "metadata": {
        "_cell_guid": "036949c0-454e-7c84-6600-0e255c4c206e"
      },
      "outputs": [],
      "source": [
        "df.shape"
      ]
    },
    {
      "cell_type": "markdown",
      "metadata": {
        "_cell_guid": "f74ff8f4-23b3-49e2-0e09-4a2825621244"
      },
      "source": [
        "<h2>Bag of words</h2>"
      ]
    },
    {
      "cell_type": "code",
      "execution_count": null,
      "metadata": {
        "_cell_guid": "b0c3bb6e-a305-6f5b-eb79-9514369bbf91"
      },
      "outputs": [],
      "source": [
        "from sklearn.feature_extraction.text import CountVectorizer\n",
        "df = df.dropna(how='any')\n",
        "df.shape"
      ]
    },
    {
      "cell_type": "markdown",
      "metadata": {
        "_cell_guid": "ed6e4390-56fd-c588-3319-1056b04a60f4"
      },
      "source": [
        "\u041a\u0430\u043a \u0432\u0438\u0434\u0438\u043c, \u0432 \u0432\u044b\u0431\u043e\u0440\u043a\u0435 \u0435\u0441\u0442\u044c \u0434\u0432\u0435 \u0441\u0442\u0440\u043e\u043a\u0438 \u0441 \u043f\u0440\u043e\u043f\u0443\u0449\u0435\u043d\u043d\u044b\u043c\u0438 \u043f\u043e\u043b\u044f\u043c\u0438, \u044d\u0442\u0438 \u0441\u0442\u0440\u043e\u043a\u0438 \u043d\u0430\u0434\u043e \u0443\u0434\u0430\u043b\u0438\u0442\u044c"
      ]
    },
    {
      "cell_type": "markdown",
      "metadata": {
        "_cell_guid": "cf491904-fac5-ee82-8824-6d88974bafe2"
      },
      "source": [
        "\u041f\u043e\u0441\u0442\u0440\u043e\u0438\u043c bag of words \u043f\u043e \u043d\u0430\u0431\u043e\u0440\u0430\u043c \u043f\u043e\u0434\u0440\u044f\u0434 \u0438\u0434\u0443\u0449\u0438\u0445 \u0441\u0438\u043c\u0432\u043e\u043b\u043e\u0432"
      ]
    },
    {
      "cell_type": "code",
      "execution_count": null,
      "metadata": {
        "_cell_guid": "e5b2f117-7195-27bb-c378-4729fe283cb0"
      },
      "outputs": [],
      "source": [
        "BOW = CountVectorizer(max_df=0.999, min_df=1000, max_features=None, \n",
        "                                      analyzer='char', ngram_range=(1,2), \n",
        "                                      binary=True, lowercase=True)"
      ]
    },
    {
      "cell_type": "markdown",
      "metadata": {
        "_cell_guid": "ae8a4002-2acf-b08e-7b7d-1d39ca541bef"
      },
      "source": [
        "\u041e\u0431\u0443\u0447\u0430\u0435\u043c bag of word \u043d\u0430 \u0432\u0441\u0435\u0445 \u0432\u043e\u043f\u0440\u043e\u0441\u0430\u0445 \u0438\u0437 \u0442\u0440\u0435\u0439\u043d\u043e\u0432\u043e\u0439 \u0432\u044b\u0431\u043e\u0440\u043a\u0438"
      ]
    },
    {
      "cell_type": "code",
      "execution_count": null,
      "metadata": {
        "_cell_guid": "5e13555a-32f3-5dc2-21f4-89ac6a9fee62"
      },
      "outputs": [],
      "source": [
        "%%time\n",
        "BOW.fit(pd.concat((df.loc[:,'question1'],df.loc[:,'question2'])).unique())"
      ]
    },
    {
      "cell_type": "markdown",
      "metadata": {
        "_cell_guid": "6d304973-ecdb-4a74-4ca3-057282b0314d"
      },
      "source": [
        "\u0418 \u0441\u0447\u0438\u0442\u0430\u0435\u043c \u043e\u0442\u0434\u0435\u043b\u044c\u043d\u043e \u043c\u0430\u0442\u0440\u0438\u0446\u0443 bag of words \u0434\u043b\u044f \u0441\u0442\u043e\u043b\u0431\u0446\u043e\u0432 \u0441 \u043f\u0435\u0440\u0432\u044b\u043c \u0438 \u0441\u043e \u0432\u0442\u043e\u0440\u044b\u043c \u0432\u043e\u043f\u0440\u043e\u0441\u043e\u043c"
      ]
    },
    {
      "cell_type": "code",
      "execution_count": null,
      "metadata": {
        "_cell_guid": "cd391fa9-3ae4-3866-b169-fc3b5cc1e529"
      },
      "outputs": [],
      "source": [
        "%%time\n",
        "BOW_1 = BOW.transform(df.loc[:,'question1'])\n",
        "BOW_2 = BOW.transform(df.loc[:,'question2'])\n",
        "labels = df.is_duplicate.values"
      ]
    },
    {
      "cell_type": "markdown",
      "metadata": {
        "_cell_guid": "89fe845a-7cd9-cb21-3610-ad96a68d55a0"
      },
      "source": [
        "\u0415\u0441\u043b\u0438 \u0432 \u043e\u0431\u043e\u0438\u0445 \u0432\u043e\u043f\u0440\u043e\u0441\u0430\u0445 \u0434\u0430\u043d\u043d\u0430\u044f \u043f\u043e\u0441\u043b\u0435\u0434\u043e\u0432\u0430\u0442\u0435\u043b\u044c\u043d\u043e\u0441\u0442\u044c \u0441\u0438\u043c\u0432\u043e\u043b\u043e\u0432 \u0432 \u043e\u0434\u0438\u043d\u0430\u043a\u043e\u0432\u043e\u043c \u0441\u043e\u0441\u0442\u043e\u044f\u043d\u0438\u0438 (\u043b\u0438\u0431\u043e \u0438 \u0442\u0430\u043c, \u0438 \u0442\u0430\u043c \u043f\u0440\u0438\u0441\u0443\u0442\u0441\u0442\u0432\u0443\u0435\u0442, \u043b\u0438\u0431\u043e \u043d\u0438\u0433\u0434\u0435 \u043d\u0435\u0442), \u0442\u043e \u0432 \u0425 \u0431\u0443\u0434\u0435\u0442 \u0441\u0442\u043e\u044f\u0442\u044c 0, \u0435\u0441\u043b\u0438 \u0432 \u0440\u0430\u0437\u043d\u044b\u0445 \u0441\u043e\u0441\u0442\u043e\u044f\u043d\u0438\u044f\u0445, \u0442\u043e -1"
      ]
    },
    {
      "cell_type": "code",
      "execution_count": null,
      "metadata": {
        "_cell_guid": "293a865a-f5c0-1296-e3ba-75086c017316"
      },
      "outputs": [],
      "source": [
        "X = -(BOW_1 != BOW_2).astype(int)\n",
        "y = labels\n",
        "X.shape, y.shape"
      ]
    },
    {
      "cell_type": "markdown",
      "metadata": {
        "_cell_guid": "90f0f3fa-57ae-1e8a-59aa-6a55311cc62d"
      },
      "source": [
        "\u0418\u0441\u043f\u043e\u043b\u044c\u0437\u0443\u0435\u043c \u043b\u043e\u0433. \u0440\u0435\u0433\u0440\u0435\u0441\u0441\u0438\u044e. \u0412\u0435\u0441\u0430 \u043d\u0443\u0436\u043d\u044b \u0434\u043b\u044f \u0442\u043e\u0433\u043e, \u0447\u0442\u043e\u0431\u044b \u0441\u043a\u043e\u043c\u043f\u0435\u043d\u0441\u0438\u0440\u043e\u0432\u0430\u0442\u044c \u0440\u0430\u0437\u043d\u0443\u044e \u0434\u043e\u043b\u044e \u0434\u0443\u0431\u043b\u0438\u0440\u0443\u044e\u0449\u0438\u0445\u0441\u044f \u0432\u043e\u043f\u0440\u043e\u0441\u043e\u0432 \u0432 \u0442\u0435\u0441\u0442\u043e\u0432\u043e\u0439 \u0438 \u0442\u0440\u0435\u0439\u043d\u043e\u0432\u043e\u0439 \u0432\u044b\u0431\u043e\u0440\u043a\u0435. \u0412 \u0442\u0440\u0435\u0439\u043d\u0435 0,37, \u0432 \u0442\u0435\u0441\u0442\u0435 0,17, \u0437\u043d\u0430\u0447\u0438\u0442 \u043d\u0430\u0434\u043e \u0443\u043c\u043d\u043e\u0436\u0438\u0442\u044c \u0434\u043e\u043b\u044e \u043a\u043b\u0430\u0441\u0441\u0430 1 \u043d\u0430 0,46 - \u0442\u043e\u0433\u0434\u0430 \u0438\u0437 0,37 \u0442\u0440\u0435\u0439\u043d\u043e\u0432\u044b\u0445 \u043e\u043d \u043f\u0440\u0435\u0432\u0440\u0430\u0442\u0438\u0442\u0441\u044f \u0432 0,17 \u0442\u0435\u0441\u0442\u043e\u0432\u044b\u0445. \u0421\u043e\u043e\u0442\u0432\u0435\u0442\u0441\u0442\u0432\u0435\u043d\u043d\u043e \u0434\u043e\u043b\u044e \u043a\u043b\u0430\u0441\u0441\u0430 0 \u0443\u043c\u043d\u043e\u0436\u0430\u0435\u043c \u043d\u0430 1,32 (\u0441 0,63 \u0434\u043e 0,83)"
      ]
    },
    {
      "cell_type": "code",
      "execution_count": null,
      "metadata": {
        "_cell_guid": "8ea754da-0ca2-89c4-e090-8a5c9701c940"
      },
      "outputs": [],
      "source": [
        "%%time\n",
        "from sklearn.linear_model import LogisticRegression\n",
        "model = LogisticRegression(C=0.1, solver='sag', class_weight={1: 0.46, 0: 1.32}).fit(X, y)"
      ]
    },
    {
      "cell_type": "markdown",
      "metadata": {
        "_cell_guid": "ee2b9e5e-61fd-e221-b0e7-26c7eb5177d5"
      },
      "source": [
        "\u0413\u043e\u0442\u043e\u0432\u0438\u043c \u0442\u0435\u0441\u0442\u043e\u0432\u044b\u0435 \u0434\u0430\u043d\u043d\u044b\u0435. \u0414\u043b\u044f \u044d\u043a\u043e\u043d\u043e\u043c\u0438\u0438 \u043f\u0430\u043c\u044f\u0442\u0438 \u043f\u0438\u0448\u0435\u043c \u0432 \u043f\u0435\u0440\u0435\u043c\u0435\u043d\u043d\u044b\u0435 \u0441 \u0442\u0435\u043c\u0438 \u0436\u0435 \u0438\u043c\u0435\u043d\u0430\u043c\u0438"
      ]
    },
    {
      "cell_type": "code",
      "execution_count": null,
      "metadata": {
        "_cell_guid": "0f62c2d6-ff3b-0bce-7c24-d6b3eb1abdc4"
      },
      "outputs": [],
      "source": [
        "%%time\n",
        "filepath = '../input/test.csv'\n",
        "df = pd.read_csv(filepath)\n",
        "df.loc[df['question1'].isnull(),['question1','question2']] = 'random empty question'\n",
        "df.loc[df['question2'].isnull(),['question1','question2']] = 'random empty question'\n",
        "\n",
        "BOW_1 = BOW.transform(df.loc[:,'question1'])\n",
        "BOW_2 = BOW.transform(df.loc[:,'question2'])\n",
        "\n",
        "X = -(BOW_1 != BOW_2).astype(int)"
      ]
    },
    {
      "cell_type": "markdown",
      "metadata": {
        "_cell_guid": "12718c62-f267-3349-35ec-5efc161f3d12"
      },
      "source": [
        "\u0422\u0435\u0441\u0442\u043e\u0432\u044b\u0435 \u0434\u0430\u043d\u043d\u044b\u0435 \u043f\u043e\u0447\u0442\u0438 \u0432 6 \u0440\u0430\u0437 \u043e\u0431\u044a\u0435\u043c\u043d\u0435\u0435 \u0442\u0440\u0435\u0439\u043d\u043e\u0432\u044b\u0445"
      ]
    },
    {
      "cell_type": "code",
      "execution_count": null,
      "metadata": {
        "_cell_guid": "e797c799-b46e-5bf6-bd78-8d33ea6d5dd4"
      },
      "outputs": [],
      "source": [
        "X.shape"
      ]
    },
    {
      "cell_type": "code",
      "execution_count": null,
      "metadata": {
        "_cell_guid": "35be5739-e307-69be-272b-7df89d14e139"
      },
      "outputs": [],
      "source": [
        "%%time\n",
        "scores = model.predict_proba(X)"
      ]
    },
    {
      "cell_type": "code",
      "execution_count": null,
      "metadata": {
        "_cell_guid": "44741e0d-6381-bf13-fa34-6a592f440a4e"
      },
      "outputs": [],
      "source": [
        "df_out = pd.DataFrame()\n",
        "df_out['test_id'] = df['test_id']\n",
        "df_out['is_duplicate'] = scores[:,1]\n",
        "df_out.to_csv('submission.csv', index=False)"
      ]
    },
    {
      "cell_type": "markdown",
      "metadata": {
        "_cell_guid": "ca3f394f-5321-86af-a354-08f13ca02afe"
      },
      "source": [
        "\u042d\u0442\u043e\u0442 \u043a\u043e\u0434 \u0433\u0435\u043d\u0435\u0440\u0438\u0440\u0443\u0435\u0442 \u0440\u0435\u0448\u0435\u043d\u0438\u0435 \u0441\u043e \u0441\u043a\u043e\u0440\u043e\u043c 0.36967, \u043d\u043e \u0435\u0441\u043b\u0438 \u043f\u043e\u043c\u0435\u043d\u044f\u0442\u044c \u043f\u0430\u0440\u0430\u043c\u0435\u0442\u0440\u044b \u0432 CountVectorizer(n_grams=(1,3), max_features=None), \u0442\u043e \u043f\u043e\u043b\u0443\u0447\u0438\u043c \u0441\u043a\u043e\u0440 0.33754. \u041f\u0440\u0438 \u044d\u0442\u043e\u043c \u0441\u0447\u0438\u0442\u0430\u0442\u044c\u0441\u044f \u0431\u0443\u0434\u0435\u0442 \u0447\u0443\u0442\u044c \u043c\u0435\u043d\u044c\u0448\u0435 \u0447\u0430\u0441\u0430, \u0430 \u043f\u043e\u043b\u043d\u043e\u0435 \u0447\u0438\u0441\u043b\u043e \u043f\u0440\u0438\u0437\u043d\u0430\u043a\u043e\u0432 \u0432 \u0425 \u0431\u0443\u0434\u0435\u0442 3556."
      ]
    }
  ],
  "metadata": {
    "_change_revision": 0,
    "_is_fork": false,
    "kernelspec": {
      "display_name": "Python 3",
      "language": "python",
      "name": "python3"
    },
    "language_info": {
      "codemirror_mode": {
        "name": "ipython",
        "version": 3
      },
      "file_extension": ".py",
      "mimetype": "text/x-python",
      "name": "python",
      "nbconvert_exporter": "python",
      "pygments_lexer": "ipython3",
      "version": "3.6.0"
    }
  },
  "nbformat": 4,
  "nbformat_minor": 0
}