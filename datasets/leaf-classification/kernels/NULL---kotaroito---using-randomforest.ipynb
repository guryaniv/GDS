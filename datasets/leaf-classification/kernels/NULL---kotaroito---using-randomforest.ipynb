{
  "cells": [
    {
      "cell_type": "code",
      "execution_count": null,
      "metadata": {
        "_cell_guid": "7046d631-4f40-ccee-ec37-758f3c84c41c"
      },
      "outputs": [],
      "source": [
        "# This Python 3 environment comes with many helpful analytics libraries installed\n",
        "# It is defined by the kaggle/python docker image: https://github.com/kaggle/docker-python\n",
        "# For example, here's several helpful packages to load in \n",
        "\n",
        "import numpy as np # linear algebra\n",
        "import pandas as pd # data processing, CSV file I/O (e.g. pd.read_csv)\n",
        "\n",
        "# Input data files are available in the \"../input/\" directory.\n",
        "# For example, running this (by clicking run or pressing Shift+Enter) will list the files in the input directory\n",
        "\n",
        "from subprocess import check_output\n",
        "print(check_output([\"ls\", \"../input\"]).decode(\"utf8\"))\n",
        "\n",
        "# Any results you write to the current directory are saved as output."
      ]
    },
    {
      "cell_type": "code",
      "execution_count": null,
      "metadata": {
        "_cell_guid": "9ebc834a-048f-0e47-ed88-e245d3b41e32"
      },
      "outputs": [],
      "source": [
        "import pandas as pd\n",
        "import numpy as np\n",
        "import matplotlib.pyplot as plt\n",
        "\n",
        "from sklearn import preprocessing\n",
        "\n",
        "%matplotlib inline\n",
        "\n",
        "df_train = pd.read_csv('../input/train.csv', index_col='id')\n",
        "df_train.describe()"
      ]
    },
    {
      "cell_type": "code",
      "execution_count": null,
      "metadata": {
        "_cell_guid": "2091ff10-8d38-24ce-dfc2-bde440bbecaf"
      },
      "outputs": [],
      "source": [
        "data = df_train.drop('species', axis=1).values\n",
        "labels = df_train['species'].values\n",
        "\n",
        "le = preprocessing.LabelEncoder()\n",
        "le.fit(labels)\n",
        "classes = le.classes_\n",
        "targets = le.transform(labels)\n",
        "\n",
        "print(data.shape)\n",
        "print(targets.shape)\n",
        "print(classes.shape)"
      ]
    },
    {
      "cell_type": "code",
      "execution_count": null,
      "metadata": {
        "_cell_guid": "13452c41-6bfd-b3f7-b8ee-f1404572744d"
      },
      "outputs": [],
      "source": [
        "from sklearn.model_selection import GridSearchCV\n",
        "from sklearn.ensemble import RandomForestClassifier\n",
        "\n",
        "rfc = RandomForestClassifier()\n",
        "parameters = {'n_estimators': (10, 50, 100), 'max_features':['sqrt'], 'min_samples_leaf':(1, 2)}\n",
        "clf = GridSearchCV(rfc, parameters, cv=5)\n",
        "\n",
        "clf.fit(data, targets)\n",
        "\n",
        "print(clf.best_score_)\n",
        "print(clf.best_params_)\n",
        "\n",
        "clf = clf.best_estimator_"
      ]
    },
    {
      "cell_type": "code",
      "execution_count": null,
      "metadata": {
        "_cell_guid": "b7ca38d4-6b90-4311-9149-3e25356ea9fd"
      },
      "outputs": [],
      "source": [
        "df_test = pd.read_csv('../input/test.csv', index_col='id')\n",
        "\n",
        "test_data = df_test.values\n",
        "print(test_data.shape)\n",
        "\n",
        "proba = clf.predict_proba(test_data)\n",
        "\n",
        "df_sub = pd.DataFrame(proba, index=df_test.index, columns=classes)\n",
        "df_sub.to_csv('submission.csv', index='id')"
      ]
    }
  ],
  "metadata": {
    "_change_revision": 0,
    "_is_fork": false,
    "kernelspec": {
      "display_name": "Python 3",
      "language": "python",
      "name": "python3"
    },
    "language_info": {
      "codemirror_mode": {
        "name": "ipython",
        "version": 3
      },
      "file_extension": ".py",
      "mimetype": "text/x-python",
      "name": "python",
      "nbconvert_exporter": "python",
      "pygments_lexer": "ipython3",
      "version": "3.6.0"
    }
  },
  "nbformat": 4,
  "nbformat_minor": 0
}