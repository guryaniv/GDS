{
  "cells": [
    {
      "cell_type": "code",
      "execution_count": null,
      "metadata": {
        "_cell_guid": "c667dd35-bfca-a112-b02f-3992106d0355"
      },
      "outputs": [],
      "source": [
        "# This Python 3 environment comes with many helpful analytics libraries installed\n",
        "# It is defined by the kaggle/python docker image: https://github.com/kaggle/docker-python\n",
        "# For example, here's several helpful packages to load in \n",
        "\n",
        "import numpy as np # linear algebra\n",
        "import pandas as pd # data processing, CSV file I/O (e.g. pd.read_csv)\n",
        "import xgboost as xgb # XGBoost implementation\n",
        "\n",
        "# Input data files are available in the \"../input/\" directory.\n",
        "# For example, running this (by clicking run or pressing Shift+Enter) will list the files in the input directory\n",
        "\n",
        "from subprocess import check_output\n",
        "print(check_output([\"ls\", \"../input\"]).decode(\"utf8\"))\n",
        "\n",
        "# Any results you write to the current directory are saved as output.\n",
        "\n",
        "# read data\n",
        "train = pd.read_csv(\"../input/train.csv\")\n",
        "test = pd.read_csv(\"../input/test.csv\")\n",
        "\n",
        "features = [x for x in train.columns if x not in ['id','loss']]\n",
        "#print(features)\n",
        "\n",
        "cat_features = [x for x in train.select_dtypes(include=['object']).columns if x not in ['id','loss']]\n",
        "num_features = [x for x in train.select_dtypes(exclude=['object']).columns if x not in ['id','loss']]\n",
        "#print(cat_features)\n",
        "#print(num_features)\n",
        "\n",
        "train['log_loss'] = np.log(train['loss'])\n",
        "\n",
        "ntrain = train.shape[0]\n",
        "ntest = test.shape[0]\n",
        "train_test = pd.concat((train[features], test[features])).reset_index(drop=True)\n",
        "for c in range(len(cat_features)):\n",
        "    train_test[cat_features[c]] = train_test[cat_features[c]].astype('category').cat.codes\n",
        "\n",
        "train_x = train_test.iloc[:ntrain,:]\n",
        "test_x = train_test.iloc[ntrain:,:]"
      ]
    },
    {
      "cell_type": "code",
      "execution_count": null,
      "metadata": {
        "_cell_guid": "c66b2bf1-10f3-726c-ff35-2f5c72cf0b44"
      },
      "outputs": [],
      "source": [
        "train_x = train[features]\n",
        "test_x = test[features]\n",
        "for c in range(len(cat_features)):\n",
        "    a = pd.DataFrame(train['log_loss'].groupby([train[cat_features[c]]]).mean())\n",
        "    a[cat_features[c]] = a.index\n",
        "    a.sort(['log_loss'], ascending=[1], inplace=True)\n",
        "    a['A'] = list(range(len(a.index))) \n",
        "    a['A'] += 1000 #for cases where test and train have different category value set\n",
        "    train_x[cat_features[c]] = pd.merge(left=train_x, right=a, how='left', on=cat_features[c])['A']\n",
        "    test_x[cat_features[c]] = pd.merge(left=test_x, right=a, how='left', on=cat_features[c])['A']\n",
        "\n",
        "train_x.head(n=20)\n",
        "#train_x['cat1'] = pd.merge(left=train_x, right=a, how='left', on='cat1')['log_loss']\n",
        "#train_x.head(n=20)\n",
        "\n",
        "#from sklearn.tree import DecisionTreeRegressor\n",
        "#train_x2 = train_test.iloc[:ntrain,:]\n",
        "#test_x2 = train_test.iloc[ntrain:,:]\n",
        "#for c in range(len(cat_features)):\n",
        "#    new_features=[x for x in features if x != cat_features[c]]\n",
        "#    for r in range(0,train_x[cat_features[c]].max()+1):\n",
        "#        if train_x2.loc[train_x[cat_features[c]]==r,cat_features[c]].shape[0] > 0:\n",
        "#            #see train['cat89'].unique() and test['cat89'].unique() - we never see 'F' in train\n",
        "#            train_x_tree = train_x.loc[train_x[cat_features[c]]==r,new_features]\n",
        "#            test_x_tree = test_x.loc[test_x[cat_features[c]]==r,new_features]\n",
        "#            \n",
        "#            num_of_split = np.minimum(20,np.int(np.ceil(train_x_tree.shape[0]/10)))\n",
        "#            dtree = DecisionTreeRegressor(random_state=0, max_depth=1, min_samples_leaf=num_of_split )\n",
        "#\n",
        "#            regr = dtree.fit(train_x_tree, train.loc[train_x[cat_features[c]]==r,'log_loss'])\n",
        "#\n",
        "#            train_x2.loc[train_x[cat_features[c]]==r,cat_features[c]] = regr.predict(train_x_tree)\n",
        "#            try:\n",
        "#                test_x2.loc[test_x[cat_features[c]]==r,cat_features[c]] = regr.predict(test_x_tree)\n",
        "#                #see train['cat89'].unique() and test['cat89'].unique() - we don't have 'I' in test\n",
        "#            except:\n",
        "#                pass\n",
        "        "
      ]
    },
    {
      "cell_type": "code",
      "execution_count": null,
      "metadata": {
        "_cell_guid": "069c06be-c59f-743c-8d2d-2000bf157abc"
      },
      "outputs": [],
      "source": [
        "xgdmat = xgb.DMatrix(train_x, train['log_loss']) # Create our DMatrix to make XGBoost more efficient\n",
        "\n",
        "params = {'eta': 0.01, 'seed':0, 'subsample': 0.5, 'colsample_bytree': 0.5, \n",
        "             'objective': 'reg:linear', 'max_depth':6, 'min_child_weight':3} \n",
        "\n",
        "# Grid Search CV optimized settings\n",
        "num_rounds = 1000\n",
        "bst = xgb.train(params, xgdmat, num_boost_round = num_rounds)"
      ]
    },
    {
      "cell_type": "code",
      "execution_count": null,
      "metadata": {
        "_cell_guid": "8f6f1cfe-4bf3-37cb-1e09-702e12ca8280"
      },
      "outputs": [],
      "source": [
        "test_xgb = xgb.DMatrix(test_x)\n",
        "submission = pd.read_csv(\"../input/sample_submission.csv\")\n",
        "submission.iloc[:, 1] = np.exp(bst.predict(test_xgb))\n",
        "submission.to_csv('xgb.sick_categorical_encoding.csv', index=None)"
      ]
    }
  ],
  "metadata": {
    "_change_revision": 0,
    "_is_fork": false,
    "kernelspec": {
      "display_name": "Python 3",
      "language": "python",
      "name": "python3"
    },
    "language_info": {
      "codemirror_mode": {
        "name": "ipython",
        "version": 3
      },
      "file_extension": ".py",
      "mimetype": "text/x-python",
      "name": "python",
      "nbconvert_exporter": "python",
      "pygments_lexer": "ipython3",
      "version": "3.5.2"
    }
  },
  "nbformat": 4,
  "nbformat_minor": 0
}