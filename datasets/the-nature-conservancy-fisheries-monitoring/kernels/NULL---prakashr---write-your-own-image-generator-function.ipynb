{
  "cells": [
    {
      "cell_type": "markdown",
      "metadata": {
        "_cell_guid": "6c4c8fde-f538-61f5-17a9-76d5044cf5c7"
      },
      "source": [
        "I wrote two posts \n",
        "- [Image_resizing](https://www.kaggle.com/prakashr/the-nature-conservancy-fisheries-monitoring/careful-with-image-resizing)\n",
        "- [Image Pre-Processing](https://www.kaggle.com/prakashr/the-nature-conservancy-fisheries-monitoring/image-processing-with-opencv)\n",
        "\n",
        "Now Lets see how to write an Image Generator function to train the neural networks effectively "
      ]
    },
    {
      "cell_type": "code",
      "execution_count": null,
      "metadata": {
        "_cell_guid": "7ce25bbb-451f-cf6c-f172-9d6f96015ea2"
      },
      "outputs": [],
      "source": [
        "import numpy as np\n",
        "import pandas as pd \n",
        "import glob,cv2\n",
        "import random\n",
        "import matplotlib.pyplot as plt\n",
        "%matplotlib inline\n",
        "from tqdm import tqdm\n",
        "from PIL import Image\n",
        "import os \n",
        "from sklearn.utils import shuffle\n",
        "\n",
        "import warnings\n",
        "warnings.filterwarnings(\"ignore\")"
      ]
    },
    {
      "cell_type": "markdown",
      "metadata": {
        "_cell_guid": "a8c1eefa-4b77-7ea4-3663-2abc38dfc0fb"
      },
      "source": [
        "Lets define a function to return a dictionary with keys as folder names and value as a list of file locations"
      ]
    },
    {
      "cell_type": "code",
      "execution_count": null,
      "metadata": {
        "_cell_guid": "2bfdb488-404a-e327-0f10-e6d6b1726bb0"
      },
      "outputs": [],
      "source": [
        "def filelist(folder):\n",
        "    \"\"\"\n",
        "    Returns a dictionary with keys as folder names and value as a list of file locations\n",
        "\n",
        "    Args:\n",
        "    folder: string of folder name which contain all sub folder of images\n",
        "\n",
        "    Returns:\n",
        "    A dictionary object with keys - folder name and values - list of file locations of respective folder\n",
        "    \"\"\"\n",
        "    file_dict={}\n",
        "    folderlist = glob.glob(folder)\n",
        "    for i in tqdm(folderlist):\n",
        "        filelist = glob.glob(i+\"/*\")\n",
        "        filename = i.rsplit(\"/\")[-1]\n",
        "        file_dict[filename]= filelist\n",
        "\n",
        "    return file_dict"
      ]
    },
    {
      "cell_type": "code",
      "execution_count": null,
      "metadata": {
        "_cell_guid": "a1065e9f-dd6f-6ee0-f594-193b898ba4a9"
      },
      "outputs": [],
      "source": [
        "folderlist = filelist(\"../input/train/*\")"
      ]
    },
    {
      "cell_type": "code",
      "execution_count": null,
      "metadata": {
        "_cell_guid": "0d30a91c-0195-3489-5297-c342f2b4bf0e"
      },
      "outputs": [],
      "source": [
        "folderlist[\"ALB\"][0] # sample output"
      ]
    },
    {
      "cell_type": "code",
      "execution_count": null,
      "metadata": {
        "_cell_guid": "1b461d0a-3aa6-4d27-b905-b51262f9ba13"
      },
      "outputs": [],
      "source": [
        "def translate_xy(image,x,y):\n",
        "    \"\"\"\n",
        "    Return a translated Image of the input Image\n",
        "    Args:\n",
        "    image : Input Image you want to translate (shape height * width * channel)\n",
        "    x,y : -ve x _ left, +ve x _ right, -ve y _ up , +ve y down\n",
        "\n",
        "    Return :\n",
        "    Translated Image\n",
        "\n",
        "    \"\"\"\n",
        "    M = np.float32([[1, 0, x],[0, 1, y]])\n",
        "    shifted = cv2.warpAffine(image,M,(image.shape[1],image.shape[0]))\n",
        "    return shifted\n",
        "\n",
        "\n",
        "# rotate\n",
        "def rotate(image, angle, center=None, scale=1.0):\n",
        "\t\"\"\"\n",
        "\tRotates the Image by a specified angle\n",
        "\tArgs:\n",
        "\timage  - an numpy array of the image\n",
        "\tangle  - Angle of rotation\n",
        "\tcenter - Default None and when used will use Image center for rotation\n",
        "\tscale  - to scale down the image if required (0-1)\n",
        "\tReturns:\n",
        "\treturns an numpy array of rotated Images\n",
        "\t\"\"\"\n",
        "\t(h,w) = image.shape[:2]\n",
        "\tif center is None:\n",
        "\t\tcenter =(w/2,h/2)\n",
        "\t\tM = cv2.getRotationMatrix2D(center,angle,scale)\n",
        "\t\trotated = cv2.warpAffine(image,M,(w,h))\n",
        "\treturn rotated"
      ]
    },
    {
      "cell_type": "markdown",
      "metadata": {
        "_cell_guid": "9923394b-8425-d8f1-aafb-75e8b1b14644"
      },
      "source": [
        "- Our Image data generator should do the following things.\n",
        "1) resize the Images to the required size,\n",
        "2) do transformation as required - Here we randomly rotate, translate and flip each image\n",
        "3) Scale the Image\n",
        "4) Yield Images in batches "
      ]
    },
    {
      "cell_type": "code",
      "execution_count": null,
      "metadata": {
        "_cell_guid": "41a6a43a-9f3d-5b50-31c2-bcad7da51fdc"
      },
      "outputs": [],
      "source": [
        "def Dev_Image_data_generator(folderlist,resize = (920,1200),Transformation = True, scaling = True, batch_size = 16):\n",
        "    \"\"\"\n",
        "    Yields a tuple (x,y) with x - batch of images(numpy array), y - image label (numpy array)\n",
        "\n",
        "    Args:\n",
        "    folderlist : A dictionary object\n",
        "    resize : tuple of (x,y)\n",
        "    Transformation : If True Data Aguementation is done\n",
        "    scaling : If True , every Image is scaled\n",
        "    batch_size : The batch_size to yield for every iteration\n",
        "\n",
        "    returns:\n",
        "    A tuple with Images and labels as numpy arrays.\n",
        "    \"\"\"\n",
        "\n",
        "    while True:\n",
        "        total_classes = len(folderlist.keys()) # Number of classes\n",
        "        keys = folderlist.keys() # string of classes \n",
        "        Images = [] \n",
        "        Image_label = []\n",
        "        for key in folderlist.keys():\n",
        "            img_label = random.choice(folderlist[key]) # select an Image location from each class\n",
        "            img = Image.open(img_label,'r') # read the Image\n",
        "            # Resize the Image and paste it on a background (black mat/white mat) of size - resize\n",
        "            h = resize[1] \n",
        "            l = int(img.size[1]*h/img.size[0])\n",
        "            img = img.resize((h,l), Image.ANTIALIAS)\n",
        "            background = Image.new('RGB', (resize[1], resize[0]), (0, 0, 0))\n",
        "            img_w, img_h = img.size\n",
        "            bg_w, bg_h = background.size\n",
        "            offset = (int((bg_w - img_w) / 2), int((bg_h - img_h) / 2))\n",
        "            background.paste(img, offset)\n",
        "            # convert the Image into numpy array \n",
        "            background = np.asarray(background)\n",
        "            if Transformation == True:\n",
        "                # rotate, translate and flip the Image randomly\n",
        "                rotation = rotate(background,random.choice(range(360)))\n",
        "                translate = translate_xy(background,random.choice(range(int(resize[0]/4))),random.choice(range(int(resize[1]/4))))\n",
        "                flip = cv2.flip(rotation,1)\n",
        "                Y = np.concatenate((rotation[np.newaxis,:,:,:],flip[np.newaxis,:,:,:],translate[np.newaxis,:,:,:]))\n",
        "                Images.append(Y)\n",
        "                Images.append(background[np.newaxis,:,:,:])\n",
        "                Image_label.append([key for i in range(4)]) # 4 because we have 4 Images\n",
        "            else:\n",
        "                Images.append(background[np.newaxis,:,:,:])\n",
        "                Image_label.append([key])\n",
        "        # concatenate all the Images- this will convert list of Images to shape(noofimages,height,width,channels)\n",
        "        Image_label = np.concatenate(Image_label)\n",
        "        Images = np.concatenate(Images)\n",
        "        # Convert Image labels to dummy\n",
        "        Image_label = np.array(pd.get_dummies(Image_label))\n",
        "        X_Image , Y_Image = shuffle(Images,Image_label,random_state=0)\n",
        "        # if scaling is true, divide it by 255.0\n",
        "        if scaling == True:\n",
        "            X_Image = X_Image/255.0\n",
        "        else:\n",
        "            X_Image = X_Image\n",
        "        batches = int(len(X_Image)/batch_size)\n",
        "        # yield a batch of Images \n",
        "        for batch in range(batches):\n",
        "            x = X_Image[batch*batch_size:(batch+1)*batch_size,:,:,:]\n",
        "            y = Y_Image[batch*batch_size:(batch+1)*batch_size]\n",
        "            yield((x,y))"
      ]
    },
    {
      "cell_type": "code",
      "execution_count": null,
      "metadata": {
        "_cell_guid": "2d2e0695-70e5-f40b-e813-dbe767d9c98a"
      },
      "outputs": [],
      "source": [
        "import matplotlib.pyplot as plt\n",
        "%matplotlib inline\n",
        "\n",
        "for i in range(5):\n",
        "    x,y = next(Dev_Image_data_generator(folderlist,resize = (256,334),Transformation = True, scaling = True, batch_size = 4))\n",
        "    fig,ax = plt.subplots(nrows=1,ncols=4,sharex=\"col\",sharey=\"row\",figsize=(20,3))\n",
        "    for j,img in enumerate(x):\n",
        "        ax[j].imshow(img)"
      ]
    },
    {
      "cell_type": "markdown",
      "metadata": {
        "_cell_guid": "cbd7b510-8060-4d2f-233e-62faa8b79893"
      },
      "source": [
        "This should work fine , In the next post lets see how to implement CNN's using TensorFlo. "
      ]
    }
  ],
  "metadata": {
    "_change_revision": 0,
    "_is_fork": false,
    "kernelspec": {
      "display_name": "Python 3",
      "language": "python",
      "name": "python3"
    },
    "language_info": {
      "codemirror_mode": {
        "name": "ipython",
        "version": 3
      },
      "file_extension": ".py",
      "mimetype": "text/x-python",
      "name": "python",
      "nbconvert_exporter": "python",
      "pygments_lexer": "ipython3",
      "version": "3.5.2"
    }
  },
  "nbformat": 4,
  "nbformat_minor": 0
}