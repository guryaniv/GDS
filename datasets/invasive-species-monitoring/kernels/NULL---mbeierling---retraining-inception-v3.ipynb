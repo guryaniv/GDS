{
  "cells": [
    {
      "cell_type": "markdown",
      "metadata": {
        "_cell_guid": "98bdbcde-ae76-9377-89e6-2b384cfee7f6"
      },
      "source": [
        "**Note: The code in this notebook is meant to be run locally, NOT in kaggle's cloud!**\n",
        "\n",
        "My approach to this was to use the Inception v3 model, which is trained on a very broad array of images and then just re-train the final layer to focus only on classifying invasive and non-invasive.\n",
        "\n",
        "There is a really good [Codelab from Google][1] that goes over the whole procedure of retraining Inception v3.\n",
        "\n",
        "If you follow the Codelab, you will eventually get to the optional step \"Training on your own categories\". This was the trigger for me to search for a dataset and I found this one, which even has a real-life purpose. Cool!\n",
        "\n",
        "In this notebook I show you the only things I implemented in order to adapt this dataset to the retrain workflow covered in the codelab:\n",
        "\n",
        "  [1]: https://codelabs.developers.google.com/codelabs/tensorflow-for-poets/#0"
      ]
    },
    {
      "cell_type": "code",
      "execution_count": null,
      "metadata": {
        "_cell_guid": "0f1f7e78-2baf-c11c-222a-8b0c7572b608"
      },
      "outputs": [],
      "source": [
        "# First I needed to sort the photos into folders. \n",
        "# I named them \"invasive\" and \"noninvasive\". \n",
        "# I used the train_labels.csv file to do that:\n",
        "\n",
        "import pandas\n",
        "import os\n",
        "labels = pandas.read_csv('train_labels.csv')\n",
        "\n",
        "for index, row in labels.iterrows():\n",
        "    is_invasive = row['invasive'] == 1\n",
        "    name = str(row['name'])\n",
        "    if is_invasive:\n",
        "        # move file with that name into 'invasive' subfolder\n",
        "        os.rename(name + '.jpg', 'invasive/' + name + '.jpg')\n",
        "    else:\n",
        "        # move file with that name into 'noninvasive' subfolder\n",
        "        os.rename(name + '.jpg', 'noninvasive/' + name + '.jpg')"
      ]
    },
    {
      "cell_type": "markdown",
      "metadata": {
        "_cell_guid": "3e8fd716-d26e-e698-a33b-ff20b770979e"
      },
      "source": [
        "Then, the next step is to already just call retrain.py! \n",
        "I used this command, but you might need to change your folder-names accordingly:\n",
        "\n",
        "    python retrain.py \\\n",
        "      --bottleneck_dir=bottlenecks \\\n",
        "      --model_dir=inception \\\n",
        "      --summaries_dir=training_summaries/invasion \\\n",
        "      --output_graph=retrained_graph.pb \\\n",
        "      --output_labels=retrained_labels.txt \\\n",
        "      --image_dir=train_photos\n",
        "\n",
        "BTW: I highly recommend looking at the retrain.py source, it is very interesting. At the bottom in the main functions you will also see the possible flags you can set for hyper-parameter tuning (e.g. learning_rate, testing_percentage, random_brightness etc.)"
      ]
    },
    {
      "cell_type": "markdown",
      "metadata": {
        "_cell_guid": "10413966-2a4c-5873-78a5-86afa23b140a"
      },
      "source": [
        "As in the codelab, this will first create the bottleneck files. Afterward it will actually train the last layer of the inception model.\n",
        "\n",
        "You can start tensorboard to monitor the progress:\n",
        "\n",
        "    tensorboard --logdir training_summaries\n",
        "\n",
        "Next up after training the model: Doing the predictions on the test-images. The following code does just that and creates a submission.csv in the end.\n",
        "I called it 'create_invasive_submission.py' and called it with this command:\n",
        "\n",
        "     python create_invasive_submission.py test_photos/\n",
        "\n",
        "(it's again  shamelessly copied & modified from the Codelab I mentioned in the intro)"
      ]
    },
    {
      "cell_type": "code",
      "execution_count": null,
      "metadata": {
        "_cell_guid": "f951c69c-6717-316d-5594-0d0183117484"
      },
      "outputs": [],
      "source": [
        "# To actually create the submission file, \n",
        "# we need to classify the test images \n",
        "# and write the predictions into a .csv \n",
        "# using the format seen in sample_submission.csv.\n",
        "\n",
        "import os, sys\n",
        "import pandas\n",
        "\n",
        "import tensorflow as tf\n",
        "\n",
        "os.environ['TF_CPP_MIN_LOG_LEVEL'] = '2'\n",
        "\n",
        "# change this as you see fit\n",
        "folder_path = sys.argv[1]\n",
        "\n",
        "# create predictions-table\n",
        "predictions_list = [];\n",
        "\n",
        "# get a list of all image-files in folder\n",
        "images_list = os.listdir(folder_path)\n",
        "\n",
        "# Unpersists graph from file\n",
        "with tf.gfile.FastGFile(\"retrained_graph.pb\", 'rb') as f:\n",
        "    graph_def = tf.GraphDef()\n",
        "    graph_def.ParseFromString(f.read())\n",
        "    tf.import_graph_def(graph_def, name='')\n",
        "\n",
        "with tf.Session() as sess:\n",
        "    # Feed the image_data as input to the graph and get first prediction\n",
        "    softmax_tensor = sess.graph.get_tensor_by_name('final_result:0')\n",
        "\n",
        "    for image_path in images_list:\n",
        "        try:\n",
        "            # Read in the image_data\n",
        "            image_data = tf.gfile.FastGFile(folder_path + image_path, 'rb').read()\n",
        "\n",
        "            predictions = sess.run(softmax_tensor, \\\n",
        "                    {'DecodeJpeg/contents:0': image_data})\n",
        "\n",
        "            # invasive is the first value, so we access index 0 of the node\n",
        "            predictions_list.append([image_path[:-4], predictions[0][0]])\n",
        "\n",
        "            print('%s (score = %.5f)' % (image_path[:-4], predictions[0][0]))\n",
        "\n",
        "        except:\n",
        "            print('%s is not a jpg!' % (image_path))\n",
        "\n",
        "    predictions_table = pandas.DataFrame(predictions_list, columns=['name', 'invasive'])\n",
        "\n",
        "    predictions_table.to_csv('submission_invasive.csv', index=False)\n"
      ]
    },
    {
      "cell_type": "markdown",
      "metadata": {
        "_cell_guid": "fb3f94b7-3677-bd29-979a-7be8bcc60adc"
      },
      "source": [
        "Then you've got the submission.csv file ready to be entered! With exactly this approach and no hyper-parameter tuning I got a public score of 0.97578 with this approach. "
      ]
    },
    {
      "cell_type": "markdown",
      "metadata": {
        "_cell_guid": "1b55b40f-953e-31e6-4394-7a18717dc4d8"
      },
      "source": [
        "This is it! As I'm still pretty new to TensorFlow, I'd love any feedback. Thanks for reading!"
      ]
    }
  ],
  "metadata": {
    "_change_revision": 0,
    "_is_fork": false,
    "kernelspec": {
      "display_name": "Python 3",
      "language": "python",
      "name": "python3"
    },
    "language_info": {
      "codemirror_mode": {
        "name": "ipython",
        "version": 3
      },
      "file_extension": ".py",
      "mimetype": "text/x-python",
      "name": "python",
      "nbconvert_exporter": "python",
      "pygments_lexer": "ipython3",
      "version": "3.6.0"
    }
  },
  "nbformat": 4,
  "nbformat_minor": 0
}