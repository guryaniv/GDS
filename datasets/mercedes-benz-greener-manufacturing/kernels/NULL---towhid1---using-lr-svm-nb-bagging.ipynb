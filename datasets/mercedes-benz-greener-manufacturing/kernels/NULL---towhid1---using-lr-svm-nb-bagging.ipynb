{
  "cells": [
    {
      "cell_type": "code",
      "execution_count": null,
      "metadata": {
        "_cell_guid": "807495fd-efc3-c455-8598-07cf2e64ce87"
      },
      "outputs": [],
      "source": [
        "# This Python 3 environment comes with many helpful analytics libraries installed\n",
        "# It is defined by the kaggle/python docker image: https://github.com/kaggle/docker-python\n",
        "# For example, here's several helpful packages to load in \n",
        "\n",
        "import numpy as np # linear algebra\n",
        "import pandas as pd # data processing, CSV file I/O (e.g. pd.read_csv)\n",
        "\n",
        "# Input data files are available in the \"../input/\" directory.\n",
        "# For example, running this (by clicking run or pressing Shift+Enter) will list the files in the input directory\n",
        "\n",
        "from subprocess import check_output\n",
        "print(check_output([\"ls\", \"../input\"]).decode(\"utf8\"))\n",
        "\n",
        "# Any results you write to the current directory are saved as output."
      ]
    },
    {
      "cell_type": "code",
      "execution_count": null,
      "metadata": {
        "_cell_guid": "9a33e958-3276-3fd8-84ec-3c56100473ce"
      },
      "outputs": [],
      "source": [
        "import matplotlib.pyplot as plt\n",
        "%matplotlib inline\n",
        "import seaborn as sns\n",
        "from sklearn.manifold import TSNE\n",
        "\n",
        "from sklearn import datasets\n",
        "from sklearn.naive_bayes import GaussianNB\n",
        "from sklearn.linear_model import LinearRegression\n",
        "from sklearn.ensemble import RandomForestClassifier\n",
        "from sklearn.svm import LinearSVC\n",
        "from sklearn.calibration import calibration_curve\n",
        "\n",
        "np.random.seed(12334)\n",
        "#read data \n",
        "train = pd.read_csv(\"../input/train.csv\")\n",
        "test = pd.read_csv(\"../input/test.csv\")\n",
        "\n",
        "#display data\n",
        "print (train.head())\n",
        "print ()\n",
        "print (test.head())"
      ]
    },
    {
      "cell_type": "markdown",
      "metadata": {
        "_cell_guid": "ed61165e-6c38-d104-956e-0e5472a103df"
      },
      "source": [
        "**Replace object values :**"
      ]
    },
    {
      "cell_type": "code",
      "execution_count": null,
      "metadata": {
        "_cell_guid": "1bef651d-efab-6c20-2c8c-a121dab03a09"
      },
      "outputs": [],
      "source": [
        "#replacing object type values \n",
        "def DoMap(df,df1):\n",
        "    col = df.dtypes\n",
        "    colList = []\n",
        "    unique = []\n",
        "    map = {}\n",
        "\n",
        "    for i in col.index:\n",
        "        if col[i] not in ['int','float']:\n",
        "            colList.append(i)\n",
        "\n",
        "    print (\"col with object type - >\",colList)\n",
        "\n",
        "    # factorize the col with object type \n",
        "    for c in colList:\n",
        "        list = df[c].unique()\n",
        "        list1 = df1[c].unique()\n",
        "        for l in list:\n",
        "            if l not in unique:\n",
        "                unique.append(l)\n",
        "        for l in list1:\n",
        "            if l not in unique:\n",
        "                unique.append(l)\n",
        "    print ('unique object -> ',unique)\n",
        "    i = 0\n",
        "    for u in unique:\n",
        "        map[u] = i\n",
        "        i += 1\n",
        "    print (\"replacing with -> \",map)\n",
        "    df[colList] = df[colList].replace(map)    \n",
        "    df1[colList] = df1[colList].replace(map)\n",
        "\n",
        "    return df,df1\n",
        "    \n",
        "train,test = DoMap( train, test)"
      ]
    },
    {
      "cell_type": "code",
      "execution_count": null,
      "metadata": {
        "_cell_guid": "21fcc254-5286-a9f1-1141-3688190197ef"
      },
      "outputs": [],
      "source": [
        "trainY = train['y']\n",
        "trainX = train.drop('y', axis=1)\n",
        "trainX = trainX.ix[:,1:]\n",
        "trainX.head()"
      ]
    },
    {
      "cell_type": "markdown",
      "metadata": {
        "_cell_guid": "3242b4f2-4770-5fae-f876-a86c1ccad1e6"
      },
      "source": [
        "**T-SNE** :"
      ]
    },
    {
      "cell_type": "code",
      "execution_count": null,
      "metadata": {
        "_cell_guid": "0ec5946a-8a1c-a0b5-02cd-ab210a5140df"
      },
      "outputs": [],
      "source": [
        "from sklearn.manifold import TSNE\n",
        "tsne2 = TSNE(n_components=2)\n",
        "tsne2_results = tsne2.fit_transform(trainX)\n",
        "\n",
        "cmap = sns.cubehelix_palette(as_cmap=True)\n",
        "f, ax = plt.subplots(figsize=(20,15))\n",
        "points = ax.scatter(tsne2_results[:,0], tsne2_results[:,1], c=trainY, s=50, cmap=cmap)\n",
        "f.colorbar(points)\n",
        "plt.show()\n",
        "    "
      ]
    },
    {
      "cell_type": "code",
      "execution_count": null,
      "metadata": {
        "_cell_guid": "b0d60a26-cada-cbca-b5c7-faf83428a2f9"
      },
      "outputs": [],
      "source": [
        "test_id = test['ID'].values\n",
        "# Create classifiers\n",
        "lr = LinearRegression()\n",
        "gnb = GaussianNB()\n",
        "svc = LinearSVC(C=1.0)"
      ]
    },
    {
      "cell_type": "code",
      "execution_count": null,
      "metadata": {
        "_cell_guid": "b61c9ec7-af32-7708-2277-43e4f5e0123c"
      },
      "outputs": [],
      "source": [
        "for clf, name in [(lr, 'Linear Regression'),\n",
        "                  (gnb, 'Naive Bayes'),\n",
        "                  (svc, 'Support Vector Classification')]:\n",
        "    \n",
        "    clf.fit(trainX, trainY.astype(int))\n",
        "    \n",
        "    y = clf.predict(test.ix[:,1:])\n",
        "    \n",
        "    sub = pd.DataFrame()\n",
        "    sub['ID'] = test_id\n",
        "    sub['y'] = y\n",
        "    sub.to_csv(name+'.csv', index=False)"
      ]
    },
    {
      "cell_type": "code",
      "execution_count": null,
      "metadata": {
        "_cell_guid": "2a9c7978-ecc1-cc0e-8072-d26b8a66ed99"
      },
      "outputs": [],
      "source": [
        "sub.head()"
      ]
    }
  ],
  "metadata": {
    "_change_revision": 0,
    "_is_fork": false,
    "kernelspec": {
      "display_name": "Python 3",
      "language": "python",
      "name": "python3"
    },
    "language_info": {
      "codemirror_mode": {
        "name": "ipython",
        "version": 3
      },
      "file_extension": ".py",
      "mimetype": "text/x-python",
      "name": "python",
      "nbconvert_exporter": "python",
      "pygments_lexer": "ipython3",
      "version": "3.6.0"
    }
  },
  "nbformat": 4,
  "nbformat_minor": 0
}