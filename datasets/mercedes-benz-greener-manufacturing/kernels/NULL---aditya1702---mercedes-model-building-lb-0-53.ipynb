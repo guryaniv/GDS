{
  "cells": [
    {
      "cell_type": "code",
      "execution_count": null,
      "metadata": {
        "_cell_guid": "652321b7-acfa-bf31-c381-032c507fd6c1"
      },
      "outputs": [],
      "source": [
        "%matplotlib inline\n",
        "import seaborn as sns\n",
        "import matplotlib.pyplot as plt\n",
        "\n",
        "import numpy as np\n",
        "import pandas as pd\n",
        "import math\n",
        "\n",
        "from sklearn.preprocessing import LabelEncoder\n",
        "from sklearn.cross_validation import train_test_split, KFold\n",
        "from sklearn.linear_model import LinearRegression, Ridge\n",
        "from sklearn.metrics import r2_score\n",
        "\n",
        "from sklearn.ensemble import GradientBoostingRegressor\n",
        "# feature selection (from supportive model)\n",
        "from sklearn.feature_selection import SelectFromModel\n",
        "from sklearn.grid_search import GridSearchCV\n",
        "\n",
        "\n",
        "import xgboost as xgb"
      ]
    },
    {
      "cell_type": "code",
      "execution_count": null,
      "metadata": {
        "_cell_guid": "1e0591d5-6d43-b79e-8ac0-010ce64c647f"
      },
      "outputs": [],
      "source": [
        "train=pd.read_csv('../input/train.csv')\n",
        "test=pd.read_csv('../input/test.csv')"
      ]
    },
    {
      "cell_type": "markdown",
      "metadata": {
        "_cell_guid": "62f6b000-bd29-fbf4-e799-76748b406c00"
      },
      "source": ""
    },
    {
      "cell_type": "code",
      "execution_count": null,
      "metadata": {
        "_cell_guid": "e45b2463-515a-9eba-5ec6-d9d3f47698df"
      },
      "outputs": [],
      "source": [
        "for col in train.select_dtypes(['object']).columns:\n",
        "    lb=LabelEncoder()\n",
        "    lb.fit(list(train[col].values.astype(str))+list(test[col].values.astype(str)))\n",
        "    train[col]=lb.transform(list(train[col].astype(str)))\n",
        "    test[col]=lb.transform(list(test[col].astype(str)))\n",
        "    print(col, 'Done')"
      ]
    },
    {
      "cell_type": "markdown",
      "metadata": {
        "_cell_guid": "1483dd00-4d7b-10e1-81a2-1c205c1509b5"
      },
      "source": ""
    },
    {
      "cell_type": "code",
      "execution_count": null,
      "metadata": {
        "_cell_guid": "03e3b9ad-c0aa-a462-bbdf-ace07ddc8e41"
      },
      "outputs": [],
      "source": [
        "x_train=train.drop(['y','ID'],1)\n",
        "y_train=train['y']\n",
        "\n",
        "xgb_params = {\n",
        "    'eta': 0.05,\n",
        "    'max_depth': 8,\n",
        "    'subsample': 0.7,\n",
        "    'colsample_bytree': 0.7,\n",
        "    'objective': 'reg:linear',\n",
        "    'eval_metric': 'rmse',\n",
        "    'silent': 1\n",
        "}\n",
        "dtrain = xgb.DMatrix(x_train, y_train, feature_names=x_train.columns.values)\n",
        "model = xgb.train(dict(xgb_params, silent=1), dtrain, num_boost_round=100)"
      ]
    },
    {
      "cell_type": "code",
      "execution_count": null,
      "metadata": {
        "_cell_guid": "6bbf9e7e-1afb-90e0-c37d-25cc1b076e80"
      },
      "outputs": [],
      "source": [
        "fig, ax = plt.subplots(figsize=(12,15))\n",
        "xgb.plot_importance(model, height=0.8, ax=ax, max_num_features=30)\n",
        "plt.show()"
      ]
    },
    {
      "cell_type": "markdown",
      "metadata": {
        "_cell_guid": "379b7f91-1176-1728-dcca-87adf832e599"
      },
      "source": ""
    },
    {
      "cell_type": "code",
      "execution_count": null,
      "metadata": {
        "_cell_guid": "da69d503-dfe5-70f1-c0b2-1ac0705877da"
      },
      "outputs": [],
      "source": [
        "for index in train.index:\n",
        "    train.ix[index, 'ones_count']=len(train.ix[index][train.ix[index]==1])\n",
        "    train.ix[index, 'zeros count']=len(train.ix[index][train.ix[index]==0])\n",
        "    \n",
        "    test.ix[index, 'ones_count']=len(test.ix[index][test.ix[index]==1])\n",
        "    test.ix[index, 'zeros count']=len(test.ix[index][test.ix[index]==0])\n",
        "    \n",
        "train.head()"
      ]
    },
    {
      "cell_type": "markdown",
      "metadata": {
        "_cell_guid": "912e713a-2628-0bdb-e78b-57e6487fb9cc"
      },
      "source": ""
    },
    {
      "cell_type": "code",
      "execution_count": null,
      "metadata": {
        "_cell_guid": "391f8a3b-7efd-35dc-2e54-6e4f8a5593dc"
      },
      "outputs": [],
      "source": [
        "training, validation = train_test_split(train, test_size=0.2, random_state=4242)\n",
        "\n",
        "test_ids=test['ID']\n",
        "\n",
        "#We first select all the features\n",
        "x_train1, y_train1 = training.drop(['y'],1), training['y']\n",
        "x_val1, y_val1 = validation.drop(['y'],1), validation['y']\n",
        "x_test=test\n",
        "training.shape, validation.shape"
      ]
    },
    {
      "cell_type": "markdown",
      "metadata": {
        "_cell_guid": "d8cc7902-fd4c-9684-637d-d2e66ba0465a"
      },
      "source": ""
    },
    {
      "cell_type": "markdown",
      "metadata": {
        "_cell_guid": "3adb1439-67b4-6e7b-000a-93e7417a31d4"
      },
      "source": ""
    },
    {
      "cell_type": "code",
      "execution_count": null,
      "metadata": {
        "_cell_guid": "b7f4e508-50fb-5360-af4f-e1d47558eb64"
      },
      "outputs": [],
      "source": [
        "lr1=LinearRegression(normalize=False, fit_intercept=True)\n",
        "lr1.fit(x_train1, y_train1)\n",
        "pred1=lr1.predict(x_val1)\n",
        "print(r2_score(pred1, y_val1))"
      ]
    },
    {
      "cell_type": "markdown",
      "metadata": {
        "_cell_guid": "6b6e6b54-19ef-e60f-f593-6295bd1bb5db"
      },
      "source": ""
    },
    {
      "cell_type": "code",
      "execution_count": null,
      "metadata": {
        "_cell_guid": "4a57de59-6fe6-432c-4ce8-0937f9f915dc"
      },
      "outputs": [],
      "source": [
        "lr1.fit(train.drop(['ID','y'],1), train['y'])\n",
        "sub1=lr1.predict(test.drop('ID',1))\n",
        "#output = pd.DataFrame({'id': test['ID'].astype(np.int32), 'y': sub1})\n",
        "#output.to_csv('/Users/adityavyas/Desktop/mercedes.csv', index=False)"
      ]
    },
    {
      "cell_type": "markdown",
      "metadata": {
        "_cell_guid": "2cebe53a-43a2-adb4-f700-2cafa245d297"
      },
      "source": ""
    },
    {
      "cell_type": "code",
      "execution_count": null,
      "metadata": {
        "_cell_guid": "a4c675c9-d6b8-e15a-4c39-764a417a45bb"
      },
      "outputs": [],
      "source": [
        "imp_features=['X0','X5','X8','X6','X1','X2','X3','y']\n",
        "\n",
        "x_train2, y_train2 = training[imp_features].drop('y',1), training[imp_features]['y']\n",
        "x_val2, y_val2 = validation[imp_features].drop('y',1), validation[imp_features]['y']\n",
        "\n",
        "lr2=LinearRegression(normalize=True, fit_intercept=True)\n",
        "lr2.fit(x_train2, y_train2)\n",
        "pred2=lr2.predict(x_val2)\n",
        "print(r2_score(y_val2, pred2))"
      ]
    },
    {
      "cell_type": "markdown",
      "metadata": {
        "_cell_guid": "7b8de837-f9ce-f191-4912-5509f562c3a7"
      },
      "source": ""
    },
    {
      "cell_type": "markdown",
      "metadata": {
        "_cell_guid": "4a7b5162-bcf3-f39b-cf9b-f981adda0590"
      },
      "source": ""
    },
    {
      "cell_type": "code",
      "execution_count": null,
      "metadata": {
        "_cell_guid": "c05e37b0-2844-6efa-413b-60d3a21fd51b"
      },
      "outputs": [],
      "source": [
        "from sklearn.decomposition import PCA\n",
        "\n",
        "full_data=pd.concat((train.drop(['y'],1), test), keys=['train', 'test'])\n",
        "\n",
        "pca=PCA()\n",
        "pca.fit(full_data)\n",
        "\n",
        "\n",
        "plt.figure(1,figsize=(15,10))\n",
        "list_k=range(1, (len(full_data.columns))+1)\n",
        "# len(pca.explained_variance_ratio_.cumsum())\n",
        "plt.scatter(list_k,pca.explained_variance_ratio_.cumsum())\n",
        "plt.xlim([0,100])\n",
        "\n",
        "plt.figure(2,figsize=(15,10))\n",
        "plt.scatter(list_k,pca.explained_variance_ratio_.cumsum())\n",
        "plt.xlim([0,20])\n",
        "plt.show()"
      ]
    },
    {
      "cell_type": "markdown",
      "metadata": {
        "_cell_guid": "819c9ec1-d6d6-1f87-9ce7-4c346f631bbb"
      },
      "source": [
        "We now use a GridSearch to select the best number of components and create a pipeline to make our predictions."
      ]
    },
    {
      "cell_type": "markdown",
      "metadata": {
        "_cell_guid": "436354f9-6f6a-d9c3-716a-878297357008"
      },
      "source": ""
    },
    {
      "cell_type": "code",
      "execution_count": null,
      "metadata": {
        "_cell_guid": "85c9d82d-cea3-d644-58be-b26adb7c1baf"
      },
      "outputs": [],
      "source": [
        "from sklearn.pipeline import Pipeline\n",
        "\n",
        "X_TRAIN, Y_TRAIN = train.drop(['y'],1), train['y']\n",
        "X_TEST = test\n",
        "n_components = [50, 100, 200]\n",
        "\n",
        "lr_pca = LinearRegression()\n",
        "pca = PCA()\n",
        "pipe = Pipeline(steps=[('pca', pca), ('linear', lr_pca)])\n",
        "\n",
        "estimator = GridSearchCV(pipe,dict(pca__n_components=n_components))\n",
        "\n",
        "estimator.fit(X_TRAIN, Y_TRAIN)\n",
        "\n",
        "plt.axvline(estimator.best_estimator_.named_steps['pca'].n_components,\n",
        "            linestyle=':', label='n_components chosen')\n",
        "plt.legend(prop=dict(size=12))\n",
        "plt.show()"
      ]
    },
    {
      "cell_type": "code",
      "execution_count": null,
      "metadata": {
        "_cell_guid": "784b7af9-cf58-f882-c172-a5a81a09e855"
      },
      "outputs": [],
      "source": [
        "sub4=estimator.predict(test)\n",
        "output_ = pd.DataFrame({'id': test['ID'].astype(np.int32), 'y': sub4})\n",
        "#output_.to_csv('/Users/adityavyas/Desktop/mercedes4.csv', index=False)"
      ]
    },
    {
      "cell_type": "markdown",
      "metadata": {
        "_cell_guid": "284b0e6a-7257-f1ec-27c5-278dfbe8b3b1"
      },
      "source": [
        "This got me an LB score of **0.535**."
      ]
    },
    {
      "cell_type": "markdown",
      "metadata": {
        "_cell_guid": "9d1e13f0-d9a5-ee0b-d3dc-f32d5ca66dea"
      },
      "source": ""
    },
    {
      "cell_type": "code",
      "execution_count": null,
      "metadata": {
        "_cell_guid": "992543aa-95b7-9d40-196a-39f43b8b212b"
      },
      "outputs": [],
      "source": [
        "n_components = [50, 100, 200]\n",
        "\n",
        "lr_ridge = Ridge()\n",
        "pca = PCA()\n",
        "pipe = Pipeline(steps=[('pca', pca), ('linear', lr_ridge)])\n",
        "\n",
        "estimator_ridge = GridSearchCV(pipe,dict(pca__n_components=n_components))\n",
        "\n",
        "estimator.fit(X_TRAIN, Y_TRAIN)\n",
        "\n",
        "plt.axvline(estimator.best_estimator_.named_steps['pca'].n_components,\n",
        "            linestyle=':', label='n_components chosen')\n",
        "plt.legend(prop=dict(size=12))\n",
        "plt.show()"
      ]
    },
    {
      "cell_type": "code",
      "execution_count": null,
      "metadata": {
        "_cell_guid": "4d4b9ab5-6e52-63cc-c546-de96a152289a"
      },
      "outputs": [],
      "source": [
        "estimator_ridge.fit(x_train1, y_train1)\n",
        "y_pred_ridge=estimator_ridge.predict(x_val1)\n",
        "print(r2_score(y_val1, y_pred_ridge))"
      ]
    },
    {
      "cell_type": "markdown",
      "metadata": {
        "_cell_guid": "dcfc6053-5257-c552-b3aa-12d6c4d897fc"
      },
      "source": ""
    },
    {
      "cell_type": "markdown",
      "metadata": {
        "_cell_guid": "ae0f9330-a1a1-efa2-7f05-e50c132be6a4"
      },
      "source": ""
    },
    {
      "cell_type": "code",
      "execution_count": null,
      "metadata": {
        "_cell_guid": "5beda2ad-b01b-3712-93c8-011888a73c12"
      },
      "outputs": [],
      "source": [
        "\n",
        "X_TRAIN, Y_TRAIN = train.drop(['y'],1), train['y']\n",
        "X_TEST = test\n",
        "X_train, X_val, Y_train, Y_val = train_test_split(X_TRAIN,Y_TRAIN, test_size=0.2, random_state=4242)\n",
        "\n",
        "\n",
        "xgb_params = {\n",
        "    'eta': 0.05,\n",
        "    'max_depth': 8,\n",
        "    'subsample': 0.7,\n",
        "    'colsample_bytree': 0.7,\n",
        "    'objective': 'reg:linear',\n",
        "    'eval_metric': 'rmse',\n",
        "    'silent': 1\n",
        "}\n",
        "\n",
        "d_train = xgb.DMatrix(X_train, label=Y_train)\n",
        "d_val = xgb.DMatrix(X_val, label=Y_val)\n",
        "\n",
        "watchlist = [(d_train, 'train'), (d_val, 'validation')]\n",
        "\n",
        "bst1 = xgb.train(xgb_params, d_train, 400, watchlist, early_stopping_rounds=50, verbose_eval=10)"
      ]
    },
    {
      "cell_type": "markdown",
      "metadata": {
        "_cell_guid": "02621650-6684-1df7-7620-41875d1ad2d0"
      },
      "source": [
        "This gives a public LB of **0.5369**"
      ]
    },
    {
      "cell_type": "markdown",
      "metadata": {
        "_cell_guid": "1904dea9-4e6e-c72b-29a3-cc17ec9b7274"
      },
      "source": ""
    },
    {
      "cell_type": "code",
      "execution_count": null,
      "metadata": {
        "_cell_guid": "d9d3c840-1275-c37e-8c32-1374471a8869"
      },
      "outputs": [],
      "source": [
        "gbooster = GradientBoostingRegressor(\n",
        "                max_depth=4, \n",
        "                learning_rate=0.005, \n",
        "                random_state=42, \n",
        "                subsample=0.95, \n",
        "                n_estimators=100)\n",
        "\n",
        "gbooster.fit(train.drop(['y'],1), train['y'])"
      ]
    },
    {
      "cell_type": "code",
      "execution_count": null,
      "metadata": {
        "_cell_guid": "7e7b2781-d939-2239-80a1-c98bde2e28e9"
      },
      "outputs": [],
      "source": [
        "features = pd.DataFrame()\n",
        "feat_names = train.drop(['y'],1).columns\n",
        "\n",
        "importances = gbooster.feature_importances_\n",
        "indices = np.argsort(importances)[::-1][:20]\n",
        "\n",
        "plt.figure(figsize=(12,12))\n",
        "plt.title(\"Feature importances\")\n",
        "plt.bar(range(len(indices)), importances[indices], color=\"r\", align=\"center\")\n",
        "plt.xticks(range(len(indices)), feat_names[indices], rotation='vertical')\n",
        "plt.xlim([-1, len(indices)])\n",
        "plt.show()"
      ]
    },
    {
      "cell_type": "markdown",
      "metadata": {
        "_cell_guid": "e7f2c2ec-e8c8-b225-4d08-aa8a4a167143"
      },
      "source": [
        "Let us take these important features and make a model with just these features"
      ]
    },
    {
      "cell_type": "code",
      "execution_count": null,
      "metadata": {
        "_cell_guid": "401fd4a1-cc31-d892-b980-364775246a0b",
        "collapsed": true
      },
      "outputs": [],
      "source": ""
    }
  ],
  "metadata": {
    "_change_revision": 0,
    "_is_fork": false,
    "kernelspec": {
      "display_name": "Python 3",
      "language": "python",
      "name": "python3"
    },
    "language_info": {
      "codemirror_mode": {
        "name": "ipython",
        "version": 3
      },
      "file_extension": ".py",
      "mimetype": "text/x-python",
      "name": "python",
      "nbconvert_exporter": "python",
      "pygments_lexer": "ipython3",
      "version": "3.6.0"
    }
  },
  "nbformat": 4,
  "nbformat_minor": 0
}