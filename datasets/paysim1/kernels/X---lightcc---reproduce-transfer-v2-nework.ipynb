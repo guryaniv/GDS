{
  "cells": [
    {
      "cell_type": "markdown",
      "metadata": {
        "_cell_guid": "e0bdfb52-bc45-c8f3-0f56-9620adf840a8"
      },
      "source": [
        "\u8bd5\u56fe\u590d\u73b0TRANSFER\u7c7b\u578b\u7684\u6570\u636e"
      ]
    },
    {
      "cell_type": "code",
      "execution_count": null,
      "metadata": {
        "_cell_guid": "881137c8-00e0-d7b3-88c9-4332ee56c205"
      },
      "outputs": [],
      "source": [
        "\n",
        "import pandas as pd\n",
        "import numpy as np\n",
        "import seaborn as sns\n",
        "import matplotlib.pyplot as plt\n",
        "%matplotlib inline\n",
        "import plotly.offline as py\n",
        "py.init_notebook_mode(connected=True)\n",
        "import plotly.graph_objs as go\n",
        "import plotly.tools as tls\n",
        "import warnings\n",
        "warnings.filterwarnings('ignore')\n",
        "\n",
        "# subsample\n",
        "df = pd.read_csv(\"../input/PS_20174392719_1491204439457_log.csv\")#, nrows=int(1e6))\n",
        "df = df.iloc[:, : 10] #\u5220\u6389\u6700\u540e\u4e00\u5217\u201cisFlaggedFraud\u201d\n",
        "#df = df.query('type==\"TRANSFER\"')#\u4ec5\u4fdd\u7559TRANSFER\u7c7b\u578b\u7684\u8bb0\u5f55\n",
        "df = df[['step', 'amount', 'nameOrig', 'nameDest']]\n",
        "df.head()"
      ]
    },
    {
      "cell_type": "code",
      "execution_count": null,
      "metadata": {
        "_cell_guid": "97217d02-3f6a-ad40-357a-9ee8993a4bbf"
      },
      "outputs": [],
      "source": [
        "def  countAgents():\n",
        "    agentsO = set(df['nameOrig'].tolist())\n",
        "    agentsD = set(df['nameDest'].tolist())\n",
        "    print('\u8f6c\u8d26\u53d1\u8d77\u4eba\u6570\uff1a', len(agentsO))\n",
        "    print('\u8f6c\u8d26\u63a5\u6536\u4eba\u6570\uff1a', len(agentsD))\n",
        "    print('\u4e8c\u8005\u5355\u7eaf\u52a0\u548c\uff1a', len(agentsO)+len(agentsD))\n",
        "    agents = agentsO | agentsD\n",
        "    print('\u8f6c\u8d26\u53d1\u8d77\u548c\u63a5\u6536\u7684\u603b\u4eba\u6570\uff1a', len(agents))\n",
        "    return agents\n",
        "\n",
        "agents = countAgents()"
      ]
    },
    {
      "cell_type": "markdown",
      "metadata": {
        "_cell_guid": "3ab60c82-d10a-98da-0118-113a02ef2ce4"
      },
      "source": [
        "\u4e3a\u4ec0\u4e48\u5927\u90e8\u5206\u6536\u94b1\u7684\u4eba\u90fd\u6ca1\u6709\u51fa\u94b1\uff1f\u7f51\u7edc\u7ed3\u6784\u6709\u5927\u95ee\u9898\uff1f\uff1f\u51e0\u4e4e\u5c31\u662f\u4e00\u4e2a\u4e8c\u90e8\u56fe\uff1f\uff1f"
      ]
    }
  ],
  "metadata": {
    "_change_revision": 0,
    "_is_fork": false,
    "kernelspec": {
      "display_name": "Python 3",
      "language": "python",
      "name": "python3"
    },
    "language_info": {
      "codemirror_mode": {
        "name": "ipython",
        "version": 3
      },
      "file_extension": ".py",
      "mimetype": "text/x-python",
      "name": "python",
      "nbconvert_exporter": "python",
      "pygments_lexer": "ipython3",
      "version": "3.6.0"
    }
  },
  "nbformat": 4,
  "nbformat_minor": 0
}