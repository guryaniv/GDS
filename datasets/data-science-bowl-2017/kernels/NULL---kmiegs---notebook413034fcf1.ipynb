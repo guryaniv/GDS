{
  "metadata": {
    "kernelspec": {
      "display_name": "Python 3",
      "language": "python",
      "name": "python3"
    },
    "language_info": {
      "codemirror_mode": {
        "name": "ipython",
        "version": 3
      },
      "file_extension": ".py",
      "mimetype": "text/x-python",
      "name": "python",
      "nbconvert_exporter": "python",
      "pygments_lexer": "ipython3",
      "version": "3.6.0"
    }
  },
  "nbformat": 4,
  "nbformat_minor": 0,
  "cells": [
    {
      "metadata": {
        "_cell_guid": "7dd8cd09-d45a-7364-33f5-8c5ac6b1e249",
        "_active": true,
        "collapsed": false
      },
      "source": "import dicom \nimport os \nimport pandas as pd \nimport numpy as np\nimport matplotlib.pyplot as plt\n\ndata_dir = '../input/sample_images/'\npatients = os.listdir(data_dir)\nlabels_df = pd.read_csv('../input/stage1_labels.csv', index_col=0)\n\n\nfor patient in patients[:1]:\n    label = labels_df.get_value(patient, 'cancer')\n    path = data_dir + patient\n    \n    \n    slices.sort(key = lambda x: int(x.ImagePositionPatient[2]))\n    \n\n    slice = slices[0].pixel_array\n    slice[slice == -2000] = 0\n    #plt.imshow(slice, cmap=plt.cm.gray)\n    print(slice)",
      "execution_count": 25,
      "cell_type": "code",
      "outputs": [],
      "execution_state": "busy"
    }
  ]
}