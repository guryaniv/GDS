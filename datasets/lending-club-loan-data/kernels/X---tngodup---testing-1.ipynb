{"cells":[
 {
  "cell_type": "code",
  "execution_count": null,
  "metadata": {
   "collapsed": false
  },
  "outputs": [],
  "source": "# This Python 3 environment comes with many helpful analytics libraries installed\n# It is defined by the kaggle/python docker image: https://github.com/kaggle/docker-python\n# For example, here's several helpful packages to load in \n\nimport numpy as np # linear algebra\nimport pandas as pd # data processing, CSV file I/O (e.g. pd.read_csv)\n\n# Input data files are available in the \"../input/\" directory.\n# For example, running this (by clicking run or pressing Shift+Enter) will list the files in the input directory\n\nfrom subprocess import check_output\nprint(check_output([\"ls\", \"../input\"]).decode(\"utf8\"))\n\n# Any results you write to the current directory are saved as output.\n\n%matplotlib inline\nimport numpy as np\nfrom scipy.stats import kendalltau\nimport seaborn as sns\nimport pandas as pd\nimport matplotlib as plt\nloans = pd.read_csv(\"../input/loan.csv\", index_col = 0, low_memory=False)"
 },
 {
  "cell_type": "code",
  "execution_count": null,
  "metadata": {
   "collapsed": false
  },
  "outputs": [],
  "source": "\ndf = pd.DataFrame(loans)\ndf[\"b\"] = df[\"term\"].astype('category')\ndf['b'].unique()\n\n"
 },
 {
  "cell_type": "code",
  "execution_count": null,
  "metadata": {
   "collapsed": false
  },
  "outputs": [],
  "source": "\nimport matplotlib.pyplot as plt\n#plt.plot(loans.loan_amnt,loans.funded_amnt)\nplt.plot(loans.funded_amnt,loans.funded_amnt)"
 },
 {
  "cell_type": "code",
  "execution_count": null,
  "metadata": {
   "collapsed": false
  },
  "outputs": [],
  "source": "from sklearn import datasets\nfrom sklearn.naive_bayes import GaussianNB\ngnb = GaussianNB()\ny_pred = gnb.fit(loans[['loan_amnt','funded_amnt']].as_matrix(), loans[['int_rate']].as_matrix())"
 },
 {
  "cell_type": "code",
  "execution_count": null,
  "metadata": {
   "collapsed": false
  },
  "outputs": [],
  "source": "loans[['loan_amnt','funded_amnt']]\ntype(loans)"
 },
 {
  "cell_type": "code",
  "execution_count": null,
  "metadata": {
   "collapsed": false
  },
  "outputs": [],
  "source": "from sklearn import datasets\niris = datasets.load_iris()"
 },
 {
  "cell_type": "code",
  "execution_count": null,
  "metadata": {
   "collapsed": false
  },
  "outputs": [],
  "source": "type(loans)\nloans_np = loans[['loan_amnt','funded_amnt']].as_matrix()\nloans_np.size()"
 },
 {
  "cell_type": "code",
  "execution_count": null,
  "metadata": {
   "collapsed": false
  },
  "outputs": [],
  "source": "loans[['int_rate']].as_matrix().s"
 }
],"metadata":{"kernelspec":{"display_name":"Python 3","language":"python","name":"python3"}}, "nbformat": 4, "nbformat_minor": 0}