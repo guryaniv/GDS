{
  "cells": [
    {
      "cell_type": "markdown",
      "metadata": {
        "_cell_guid": "5fe6c549-5b17-843f-961a-5722d9daffa8"
      },
      "source": [
        "There's lots of duplicate questions which are the same, except for a different location. Here's a set of features using this."
      ]
    },
    {
      "cell_type": "code",
      "execution_count": null,
      "metadata": {
        "_cell_guid": "89cc583d-3e87-7ebe-a512-f4ffc9c8ce6d"
      },
      "outputs": [],
      "source": [
        "import numpy as np # linear algebra\n",
        "import pandas as pd # data processing, CSV file I/O (e.g. pd.read_csv)\n",
        "import re\n",
        "\n",
        "from subprocess import check_output"
      ]
    },
    {
      "cell_type": "markdown",
      "metadata": {
        "_cell_guid": "4373b91e-931f-8535-f262-9bd4511aec2f"
      },
      "source": [
        "We need a list of locations. I download files from Geonames myself, but Kaggle has this nice new multi-dataset thing, so let's try that"
      ]
    },
    {
      "cell_type": "code",
      "execution_count": null,
      "metadata": {
        "_cell_guid": "ba70d3fd-71b6-accc-ad02-2f590e4c1285"
      },
      "outputs": [],
      "source": [
        "print(check_output([\"ls\", \"../input\"]).decode(\"utf8\"))\n",
        "print(check_output([\"ls\", \"../input/quora-question-pairs\"]).decode(\"utf8\"))\n",
        "print(check_output([\"ls\", \"../input/movehub-city-rankings\"]).decode(\"utf8\"))"
      ]
    },
    {
      "cell_type": "code",
      "execution_count": null,
      "metadata": {
        "_cell_guid": "062726b1-84c2-8115-1740-4e84d8de4177"
      },
      "outputs": [],
      "source": [
        "dataset = \"test\" # Obviously you want to run this on the test set as well\n",
        "\n",
        "df = pd.read_csv(\"../input/quora-question-pairs/{}.csv\".format(dataset))\n",
        "locations = pd.read_csv(\"../input/movehub-city-rankings/cities.csv\")\n",
        "locations.to_csv('cities.csv',index=False)"
      ]
    },
    {
      "cell_type": "markdown",
      "metadata": {
        "_cell_guid": "7af01054-35d4-ae82-a6eb-7276564dd23e"
      },
      "source": [
        "All done!\n",
        "\n",
        "Upvote if you like it!"
      ]
    }
  ],
  "metadata": {
    "_change_revision": 0,
    "_is_fork": false,
    "kernelspec": {
      "display_name": "Python 3",
      "language": "python",
      "name": "python3"
    },
    "language_info": {
      "codemirror_mode": {
        "name": "ipython",
        "version": 3
      },
      "file_extension": ".py",
      "mimetype": "text/x-python",
      "name": "python",
      "nbconvert_exporter": "python",
      "pygments_lexer": "ipython3",
      "version": "3.6.0"
    }
  },
  "nbformat": 4,
  "nbformat_minor": 0
}