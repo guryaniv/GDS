{
  "metadata": {
    "kernelspec": {
      "display_name": "Python 3",
      "language": "python",
      "name": "python3"
    },
    "language_info": {
      "codemirror_mode": {
        "name": "ipython",
        "version": 3
      },
      "file_extension": ".py",
      "mimetype": "text/x-python",
      "name": "python",
      "nbconvert_exporter": "python",
      "pygments_lexer": "ipython3",
      "version": "3.6.0"
    }
  },
  "nbformat": 4,
  "nbformat_minor": 0,
  "cells": [
    {
      "cell_type": "code",
      "execution_count": 1,
      "metadata": {
        "_cell_guid": "1952347b-6dc9-b9f1-fa25-94587a2aee77",
        "_active": false
      },
      "outputs": [],
      "source": "import os\nimport sys\nimport operator\nimport numpy as np\nimport pandas as pd\nfrom scipy import sparse\nimport xgboost as xgb\nfrom sklearn import model_selection, preprocessing, ensemble\nfrom sklearn.metrics import log_loss\nfrom sklearn.feature_extraction.text import TfidfVectorizer, CountVectorizer\nfrom sklearn.model_selection import train_test_split",
      "execution_state": "idle"
    },
    {
      "cell_type": "code",
      "execution_count": 2,
      "metadata": {
        "_cell_guid": "af6e68af-f7a8-b0ac-c565-1d04818258f9",
        "_active": false
      },
      "outputs": [],
      "source": "def runXGB(train_X, train_y, test_X, test_y=None, feature_names=None, seed_val=0, num_rounds=1000):\n    param = {}\n    param['objective'] = 'multi:softprob'\n    param['eta'] = 0.1\n    param['max_depth'] = 6\n    param['silent'] = 1\n    param['num_class'] = 3\n    param['eval_metric'] = \"mlogloss\"\n    param['min_child_weight'] = 1\n    param['subsample'] = 0.7\n    param['colsample_bytree'] = 0.7\n    param['seed'] = 8088\n    num_rounds = num_rounds\n\n    plst = list(param.items())\n    xgtrain = xgb.DMatrix(train_X, label=train_y)\n\n    if test_y is not None:\n        xgtest = xgb.DMatrix(test_X, label=test_y)\n        watchlist = [ (xgtrain,'train'), (xgtest, 'test') ]\n        model = xgb.train(plst, xgtrain, num_rounds, watchlist, early_stopping_rounds=20,\n                         verbose_eval=25)\n    else:\n        xgtest = xgb.DMatrix(test_X)\n        model = xgb.train(plst, xgtrain, num_rounds)\n\n    pred_test_y = model.predict(xgtest)\n    return pred_test_y, model",
      "execution_state": "idle"
    },
    {
      "cell_type": "code",
      "execution_count": 3,
      "metadata": {
        "_cell_guid": "0108ce34-5e84-7f49-bd6f-6562d60a9082",
        "_active": false
      },
      "outputs": [],
      "source": "data_path = \"../input/\"\ntrain_file = data_path + \"train.json\"\ntest_file = data_path + \"test.json\"\ntrain_df = pd.read_json(train_file)\ntest_df = pd.read_json(test_file)\nprint(train_df.shape)\nprint(test_df.shape)",
      "execution_state": "idle"
    },
    {
      "cell_type": "code",
      "execution_count": 4,
      "metadata": {
        "_cell_guid": "6462885f-97de-b2d1-2c1a-1958115c4c4d",
        "_active": false
      },
      "outputs": [],
      "source": "features_to_use  = [\"bathrooms\", \"bedrooms\", \"latitude\", \"longitude\", \"price\"]",
      "execution_state": "idle"
    },
    {
      "cell_type": "code",
      "execution_count": 5,
      "metadata": {
        "_cell_guid": "e3b81db5-929d-b8b8-141c-1bbb4a5eaaf3",
        "_active": false
      },
      "outputs": [],
      "source": "# count of photos #\ntrain_df[\"num_photos\"] = train_df[\"photos\"].apply(len)\ntest_df[\"num_photos\"] = test_df[\"photos\"].apply(len)\n\n# count of \"features\" #\ntrain_df[\"num_features\"] = train_df[\"features\"].apply(len)\ntest_df[\"num_features\"] = test_df[\"features\"].apply(len)\n\n# count of words present in description column #\ntrain_df[\"num_description_words\"] = train_df[\"description\"].apply(lambda x: len(x.split(\" \")))\ntest_df[\"num_description_words\"] = test_df[\"description\"].apply(lambda x: len(x.split(\" \")))\n\n# convert the created column to datetime object so as to extract more features \ntrain_df[\"created\"] = pd.to_datetime(train_df[\"created\"])\ntest_df[\"created\"] = pd.to_datetime(test_df[\"created\"])\n\n# Let us extract some features like year, month, day, hour from date columns #\ntrain_df[\"created_year\"] = train_df[\"created\"].dt.year\ntest_df[\"created_year\"] = test_df[\"created\"].dt.year\ntrain_df[\"created_month\"] = train_df[\"created\"].dt.month\ntest_df[\"created_month\"] = test_df[\"created\"].dt.month\ntrain_df[\"created_day\"] = train_df[\"created\"].dt.day\ntest_df[\"created_day\"] = test_df[\"created\"].dt.day\ntrain_df[\"created_hour\"] = train_df[\"created\"].dt.hour\ntest_df[\"created_hour\"] = test_df[\"created\"].dt.hour\n\ntrain_df[\"price_per_bed\"] = train_df[\"price\"]/train_df[\"bedrooms\"].clip(lower=1)\ntest_df[\"price_per_bed\"] = test_df[\"price\"]/test_df[\"bedrooms\"].clip(lower=1)\ntrain_df['created_date']=np.array(train_df.created.values, dtype='datetime64[D]'\n                                 ).astype(np.float32)\ntest_df['created_date']=np.array(test_df.created.values, dtype='datetime64[D]'\n                                 ).astype(np.float32)\n\n# adding all these new features to use list #\nfeatures_to_use.extend([\"num_photos\", \"num_features\", \"num_description_words\",\"created_year\", \n                        \"created_month\", \"created_day\", \"listing_id\", \"created_hour\", \n                        \"price_per_bed\", \"created_date\"])",
      "execution_state": "idle"
    },
    {
      "cell_type": "code",
      "execution_count": 6,
      "metadata": {
        "_cell_guid": "af410ae2-6197-adce-ee68-360aa59eff7e",
        "_active": false
      },
      "outputs": [],
      "source": "categorical = [\"display_address\", \"manager_id\", \"building_id\", \"street_address\"]\nfor f in categorical:\n        if train_df[f].dtype=='object':\n            #print(f)\n            lbl = preprocessing.LabelEncoder()\n            lbl.fit(list(train_df[f].values) + list(test_df[f].values))\n            train_df[f] = lbl.transform(list(train_df[f].values))\n            test_df[f] = lbl.transform(list(test_df[f].values))\n            features_to_use.append(f)",
      "execution_state": "idle"
    },
    {
      "cell_type": "code",
      "execution_count": 7,
      "metadata": {
        "_cell_guid": "d1ea3504-a12c-023a-bce6-d4f93ddb8019",
        "_active": false
      },
      "outputs": [],
      "source": "train_df['features'] = train_df[\"features\"].apply(lambda x: \" \".join([\"_\".join(i.split(\" \")) for i in x]))\ntest_df['features'] = test_df[\"features\"].apply(lambda x: \" \".join([\"_\".join(i.split(\" \")) for i in x]))\nprint(train_df[\"features\"].head())\ntfidf = CountVectorizer(stop_words='english', max_features=200)\ntfidf.fit(train_df[\"features\"])",
      "execution_state": "idle"
    },
    {
      "cell_type": "code",
      "execution_count": 8,
      "metadata": {
        "_cell_guid": "fce61adc-e98f-18d2-81c8-b57e6e6c662c",
        "_active": false
      },
      "outputs": [],
      "source": "features_to_use=[i for i in features_to_use if 'manager_id' not in i]",
      "execution_state": "idle"
    },
    {
      "cell_type": "code",
      "execution_count": 9,
      "metadata": {
        "_cell_guid": "a211d2cc-08fa-f430-fd22-ac3a9f553cac",
        "_active": false
      },
      "outputs": [],
      "source": "train_df_tr, train_df_te =train_test_split(train_df, random_state=0)\ntr_sparse_tr = tfidf.transform(train_df_tr[\"features\"])\ntr_sparse_te = tfidf.transform(train_df_te[\"features\"])\nte_sparse = tfidf.transform(test_df[\"features\"])",
      "execution_state": "idle"
    },
    {
      "cell_type": "code",
      "execution_count": 10,
      "metadata": {
        "_cell_guid": "24a389b1-bc9d-f28a-856f-1053f38e462b",
        "_active": false
      },
      "outputs": [],
      "source": "temp = pd.concat([train_df_tr.manager_id,pd.get_dummies(train_df_tr.interest_level)], axis = 1\n                ).groupby('manager_id').mean()\ntemp.columns = ['high_frac','low_frac', 'medium_frac']\ntemp['count'] = train_df_tr.groupby('manager_id').count().iloc[:,1]\n\ntemp['manager_skill'] = temp['high_frac']*2 + temp['medium_frac']\nunranked_managers_ixes = temp['count']<20\nranked_managers_ixes = ~unranked_managers_ixes\nmean_values = temp.loc[ranked_managers_ixes, [\n    'high_frac','low_frac', 'medium_frac','manager_skill']].mean()\ntemp.loc[unranked_managers_ixes,[\n    'high_frac','low_frac', 'medium_frac','manager_skill']] = mean_values.values\n\ntrain_df_tr = train_df_tr.merge(temp.reset_index(),how='left', on='manager_id')\ntrain_df_te = train_df_te.merge(temp.reset_index(),how='left', on='manager_id')\nnew_manager_ixes = train_df_te['high_frac'].isnull()\ntrain_df_te.loc[new_manager_ixes,['high_frac','low_frac', 'medium_frac','manager_skill'\n                            ]] = mean_values.values\ntest_df = test_df.merge(temp.reset_index(),how='left', on='manager_id')\nnew_manager_ixes = test_df['high_frac'].isnull()\ntest_df.loc[new_manager_ixes,['high_frac','low_frac', 'medium_frac','manager_skill'\n                            ]] = mean_values.values",
      "execution_state": "idle"
    },
    {
      "cell_type": "code",
      "execution_count": 11,
      "metadata": {
        "_cell_guid": "264e1d97-5c36-5d40-92bd-da6b19c6a566",
        "_active": false
      },
      "outputs": [],
      "source": "features_to_use.extend(['high_frac','low_frac', 'medium_frac','manager_skill'])",
      "execution_state": "idle"
    },
    {
      "cell_type": "code",
      "execution_count": 12,
      "metadata": {
        "_cell_guid": "2dc04a85-939e-39e4-f8f5-c3993bf6db0b",
        "_active": false
      },
      "outputs": [],
      "source": "features_to_use=['bathrooms', 'bedrooms', 'latitude', 'longitude', 'price', 'num_photos', \n                 'num_features', 'num_description_words', 'created_year', 'created_month', \n                 'created_day', 'listing_id', 'created_hour', 'price_per_bed', 'created_date',\n                 'display_address', 'manager_id', 'building_id', 'street_address', 'manager_skill']",
      "execution_state": "idle"
    },
    {
      "cell_type": "code",
      "execution_count": 13,
      "metadata": {
        "_cell_guid": "9eeef912-2104-e97e-1948-c246652340e1",
        "_active": false
      },
      "outputs": [],
      "source": "train_X_tr = sparse.hstack([train_df_tr[features_to_use], tr_sparse_tr]).tocsr()\ntrain_X_te = sparse.hstack([train_df_te[features_to_use], tr_sparse_te]).tocsr()\ntest_X = sparse.hstack([test_df[features_to_use], te_sparse]).tocsr()\n\nfeatures_sparse = ['features_'+str(i) for i in range(tr_sparse_tr.shape[1])]\ntarget_num_map = {'high':0, 'medium':1, 'low':2}\ntrain_y_tr = np.array(train_df_tr['interest_level'].apply(lambda x: target_num_map[x]))\ntrain_y_te = np.array(train_df_te['interest_level'].apply(lambda x: target_num_map[x]))\nprint(train_X_tr.shape, train_X_te.shape, test_X.shape)",
      "execution_state": "idle"
    },
    {
      "cell_type": "code",
      "execution_count": 14,
      "metadata": {
        "_cell_guid": "13fd60b9-a8b5-c76f-1fbd-2a56219da0d2",
        "_active": false
      },
      "outputs": [],
      "source": "preds, model = runXGB(train_X_tr, train_y_tr, train_X_te, train_y_te)\nprint(log_loss(train_y_te, preds))",
      "execution_state": "idle"
    },
    {
      "cell_type": "code",
      "execution_count": 15,
      "metadata": {
        "_cell_guid": "800b4796-e29d-f288-8e5e-34fef2870193",
        "_active": false
      },
      "outputs": [],
      "source": "fscores=model.get_fscore()\ndf_features=pd.DataFrame(fscores, index=['score']).T.reset_index()\ndf_features['f_index']=df_features['index'].apply(lambda x: int(x[1:]))\ndf_features['f_name']=np.array(features_to_use+features_sparse)[df_features['f_index'].values]\npd.Series(index = df_features['f_name'].values, \n          data = df_features['score'].values).sort_values()[-30:].plot(\n    kind = 'bar')",
      "execution_state": "idle"
    },
    {
      "cell_type": "code",
      "execution_count": 16,
      "metadata": {
        "_cell_guid": "4e77274e-27d5-fd7d-7972-b675550cc5ac",
        "_active": false
      },
      "outputs": [],
      "source": "'''preds, model = runXGB(train_X, train_y, test_X, num_rounds=400)\nout_df = pd.DataFrame(preds)\nout_df.columns = [\"high\", \"medium\", \"low\"]\nout_df[\"listing_id\"] = test_df.listing_id.values\nout_df.to_csv(\"0315.csv\", index=False)'''",
      "execution_state": "idle"
    },
    {
      "metadata": {
        "_cell_guid": "8c42ba0f-6270-f946-8f54-46715f28cb5e",
        "_active": false,
        "collapsed": false
      },
      "source": "df_ff=df_features[df_features.f_name.str.startswith('features')].sort_values(['score'], ascending=False).reset_index(drop=True)\n",
      "execution_count": 29,
      "cell_type": "code",
      "outputs": [],
      "execution_state": "idle"
    },
    {
      "metadata": {
        "_cell_guid": "bdc3f8ea-c8b2-43c0-3971-40c4504612e6",
        "_active": true,
        "collapsed": false
      },
      "source": "df_ff['f_text']=np.array(tfidf.get_feature_names())[df_ff.f_index-20]\ndf_ff.head(30)['f_text'].values",
      "execution_count": 33,
      "cell_type": "code",
      "outputs": [],
      "execution_state": "idle"
    }
  ]
}