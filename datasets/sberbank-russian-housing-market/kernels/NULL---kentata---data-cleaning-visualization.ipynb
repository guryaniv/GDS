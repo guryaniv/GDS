{
  "cells": [
    {
      "cell_type": "markdown",
      "metadata": {
        "_cell_guid": "ef441502-0b3c-9517-a289-32a136eb1cd2"
      },
      "source": [
        "# In this notebook,  I will describe my approach to the data cleaning and some visualization of price"
      ]
    },
    {
      "cell_type": "code",
      "execution_count": null,
      "metadata": {
        "_cell_guid": "2c4d0ef1-a1a8-a9f9-4363-e8b4709eae50"
      },
      "outputs": [],
      "source": [
        "cd ../input"
      ]
    },
    {
      "cell_type": "code",
      "execution_count": null,
      "metadata": {
        "_cell_guid": "ce744b79-9f40-b826-f958-2830b25f0811"
      },
      "outputs": [],
      "source": [
        "ls "
      ]
    },
    {
      "cell_type": "code",
      "execution_count": null,
      "metadata": {
        "_cell_guid": "746f8c13-f567-2a81-93d7-27baa51d4989"
      },
      "outputs": [],
      "source": [
        "import pandas as pd\n",
        "import numpy as np\n",
        "%matplotlib inline\n",
        "import matplotlib.pyplot as plt"
      ]
    },
    {
      "cell_type": "code",
      "execution_count": null,
      "metadata": {
        "_cell_guid": "9293d065-8b6b-3b1e-1eaf-e232ed9cf113"
      },
      "outputs": [],
      "source": [
        "train = pd.read_csv(\"train.csv\")\n",
        "test = pd.read_csv(\"test.csv\")"
      ]
    },
    {
      "cell_type": "code",
      "execution_count": null,
      "metadata": {
        "_cell_guid": "a44383a2-4dc8-36b7-69bb-39cb3b9c4ec3"
      },
      "outputs": [],
      "source": [
        "print(train.shape)\n",
        "train.head()"
      ]
    },
    {
      "cell_type": "code",
      "execution_count": null,
      "metadata": {
        "_cell_guid": "bc1936f5-459d-ad71-c816-fa00cc80a7db"
      },
      "outputs": [],
      "source": [
        "print(test.shape)\n",
        "test.head()"
      ]
    },
    {
      "cell_type": "code",
      "execution_count": null,
      "metadata": {
        "_cell_guid": "d494061f-1c54-4699-4002-789e756b43b0"
      },
      "outputs": [],
      "source": [
        "len(np.unique(train['id']))"
      ]
    },
    {
      "cell_type": "code",
      "execution_count": null,
      "metadata": {
        "_cell_guid": "7f023cb9-429f-adf3-b5a8-942bbd38e2dc"
      },
      "outputs": [],
      "source": [
        "len(np.unique(train['num_room']) )"
      ]
    },
    {
      "cell_type": "code",
      "execution_count": null,
      "metadata": {
        "_cell_guid": "816631d5-c289-6395-3415-38973cd62663"
      },
      "outputs": [],
      "source": [
        "train = train.set_index('timestamp')\n",
        "test = test.set_index(\"timestamp\")\n",
        "train.head()"
      ]
    },
    {
      "cell_type": "code",
      "execution_count": null,
      "metadata": {
        "_cell_guid": "85c944a2-d8c8-1014-9d65-e469fddb2cfd",
        "collapsed": true
      },
      "outputs": [],
      "source": [
        "train.drop(\"id\", axis=1, inplace=True)"
      ]
    },
    {
      "cell_type": "code",
      "execution_count": null,
      "metadata": {
        "_cell_guid": "b7321dc6-c163-03a0-91c6-788437410380"
      },
      "outputs": [],
      "source": [
        "train.head()"
      ]
    },
    {
      "cell_type": "code",
      "execution_count": null,
      "metadata": {
        "_cell_guid": "f0868912-5d91-85c6-eeea-039c4daee2d9"
      },
      "outputs": [],
      "source": [
        "train.describe()"
      ]
    },
    {
      "cell_type": "code",
      "execution_count": null,
      "metadata": {
        "_cell_guid": "bcdbe28e-1775-6ead-8d63-1492941c1761"
      },
      "outputs": [],
      "source": [
        "train.shape[0]"
      ]
    },
    {
      "cell_type": "code",
      "execution_count": null,
      "metadata": {
        "_cell_guid": "555d5055-6631-ea17-1cd8-aac320973199"
      },
      "outputs": [],
      "source": [
        "train['price_doc'].values"
      ]
    },
    {
      "cell_type": "code",
      "execution_count": null,
      "metadata": {
        "_cell_guid": "cdd3d68f-cdaa-683f-5019-76048e90dd9b"
      },
      "outputs": [],
      "source": [
        "ax = train['price_doc'].plot(style=['-'])\n",
        "ax.lines[0].set_alpha(0.8)\n",
        "plt.xticks(rotation=90)\n",
        "plt.title(\"linear scale\")\n",
        "ax.legend()"
      ]
    },
    {
      "cell_type": "code",
      "execution_count": null,
      "metadata": {
        "_cell_guid": "5a91a977-30e8-0650-4608-6e356e3401b0"
      },
      "outputs": [],
      "source": [
        "ax = train['price_doc'].plot(style=['-'])\n",
        "ax.lines[0].set_alpha(0.3)\n",
        "ax.set_yscale('log')\n",
        "plt.xticks(rotation=90)\n",
        "plt.title(\"logarithmic scale\")\n",
        "ax.legend()"
      ]
    },
    {
      "cell_type": "code",
      "execution_count": null,
      "metadata": {
        "_cell_guid": "4fce26c7-7390-4ccb-d780-0016e1833040"
      },
      "outputs": [],
      "source": [
        "# no missing value for the target value\n",
        "train[train['price_doc'].isnull()]"
      ]
    },
    {
      "cell_type": "code",
      "execution_count": null,
      "metadata": {
        "_cell_guid": "ebd96e69-9897-af20-051d-3ae3612a5aa9"
      },
      "outputs": [],
      "source": [
        "train.columns[train.isnull().any()]"
      ]
    },
    {
      "cell_type": "code",
      "execution_count": null,
      "metadata": {
        "_cell_guid": "eaa5fd30-41ca-37c1-ba51-c838ed689b20"
      },
      "outputs": [],
      "source": [
        "train2 = train.fillna(train.median())"
      ]
    },
    {
      "cell_type": "code",
      "execution_count": null,
      "metadata": {
        "_cell_guid": "51980b5d-efc5-4e28-0f36-69ffaf35ed54"
      },
      "outputs": [],
      "source": [
        "train2.head()"
      ]
    },
    {
      "cell_type": "code",
      "execution_count": null,
      "metadata": {
        "_cell_guid": "f29e7fae-d640-4f54-b7b3-1d69d22f143a"
      },
      "outputs": [],
      "source": [
        "train2.columns[train2.isnull().any()]"
      ]
    },
    {
      "cell_type": "code",
      "execution_count": null,
      "metadata": {
        "_cell_guid": "938f60b8-8dce-c5db-4132-d066605b43d3"
      },
      "outputs": [],
      "source": [
        "train2.corr()"
      ]
    },
    {
      "cell_type": "code",
      "execution_count": null,
      "metadata": {
        "_cell_guid": "22d21a61-2476-7a62-35c8-da7d51dd3a62"
      },
      "outputs": [],
      "source": [
        "categorical = []\n",
        "for i in train2.columns:\n",
        "    if type(train2[i].values[0]) == str:\n",
        "        categorical.append(i)\n",
        "print(categorical)\n",
        "print(len(categorical))"
      ]
    },
    {
      "cell_type": "code",
      "execution_count": null,
      "metadata": {
        "_cell_guid": "e806187c-5c2a-b74a-2099-88011763da3d"
      },
      "outputs": [],
      "source": [
        "train2.shape"
      ]
    },
    {
      "cell_type": "code",
      "execution_count": null,
      "metadata": {
        "_cell_guid": "7fbe8cbf-ce9b-91e2-41a7-976ccf2d116e"
      },
      "outputs": [],
      "source": [
        "train2[categorical].head()"
      ]
    },
    {
      "cell_type": "code",
      "execution_count": null,
      "metadata": {
        "_cell_guid": "01dc2852-9997-7adf-52df-313b2eab2de5"
      },
      "outputs": [],
      "source": [
        "np.unique(train2['product_type'])"
      ]
    },
    {
      "cell_type": "code",
      "execution_count": null,
      "metadata": {
        "_cell_guid": "5b809fd3-01f0-b5c4-7c20-e6b22b2dfb78"
      },
      "outputs": [],
      "source": [
        "for cat in categorical:\n",
        "    print(cat, ':', np.unique(train2[cat]))"
      ]
    },
    {
      "cell_type": "code",
      "execution_count": null,
      "metadata": {
        "_cell_guid": "25a08748-f390-e32a-37bb-ef1a02a81b29"
      },
      "outputs": [],
      "source": [
        "yes_no_mapping = {'no': 0, 'yes': 1}"
      ]
    },
    {
      "cell_type": "code",
      "execution_count": null,
      "metadata": {
        "_cell_guid": "abb47092-93f0-cfb6-0c70-07404096938c"
      },
      "outputs": [],
      "source": [
        "# ordinal features which could be rendered as 0 and 1,\n",
        "# each corresponding to 'no' and 'yes'\n",
        "categorical[2:-1]"
      ]
    },
    {
      "cell_type": "code",
      "execution_count": null,
      "metadata": {
        "_cell_guid": "cab424cb-13a0-1638-63b6-9f5a70916623"
      },
      "outputs": [],
      "source": [
        "for i in categorical[2:-1]:\n",
        "    train2[i] = train2[i].map(yes_no_mapping)"
      ]
    },
    {
      "cell_type": "code",
      "execution_count": null,
      "metadata": {
        "_cell_guid": "51c327ae-4f59-aaca-4890-1d2dd860e253"
      },
      "outputs": [],
      "source": [
        "categorical = []\n",
        "for i in train2.columns:\n",
        "    if type(train2[i].values[0]) == str:\n",
        "        categorical.append(i)\n",
        "print(categorical)\n",
        "print(len(categorical))"
      ]
    },
    {
      "cell_type": "code",
      "execution_count": null,
      "metadata": {
        "_cell_guid": "a74e3bd6-6aec-6462-68b3-16401c223a4e"
      },
      "outputs": [],
      "source": [
        "np.unique(train2['ecology'].values)"
      ]
    },
    {
      "cell_type": "code",
      "execution_count": null,
      "metadata": {
        "_cell_guid": "f28f43a8-74fc-8c11-604c-746612961eb0"
      },
      "outputs": [],
      "source": [
        "rate_mapping = {'excellent': 3, 'good': 2, 'satisfactory': 2, 'poor': 1, 'no data': np.nan} "
      ]
    },
    {
      "cell_type": "code",
      "execution_count": null,
      "metadata": {
        "_cell_guid": "f5bea237-3eca-49cc-8187-8a4ab6b2089f"
      },
      "outputs": [],
      "source": [
        "train2['ecology'] = train2['ecology'].map(rate_mapping)"
      ]
    },
    {
      "cell_type": "code",
      "execution_count": null,
      "metadata": {
        "_cell_guid": "436472cd-c075-208e-2ef2-05ce688fe994"
      },
      "outputs": [],
      "source": [
        "print(len(train2[train2['ecology'].isnull()]))"
      ]
    },
    {
      "cell_type": "code",
      "execution_count": null,
      "metadata": {
        "_cell_guid": "9849c8ac-e8a4-48a8-325d-92a9789d77e7"
      },
      "outputs": [],
      "source": [
        "print(len(train2[train2['ecology'].notnull()]))"
      ]
    },
    {
      "cell_type": "code",
      "execution_count": null,
      "metadata": {
        "_cell_guid": "f94c5973-a857-58e4-eaa0-268cdd86aac0"
      },
      "outputs": [],
      "source": [
        "print(train2.shape[0])"
      ]
    },
    {
      "cell_type": "code",
      "execution_count": null,
      "metadata": {
        "_cell_guid": "98e140a4-11c3-812b-1b7f-4b6552909820"
      },
      "outputs": [],
      "source": [
        "print(len(train2[train2['ecology'].isnull()]) + len(train2[train2['ecology'].notnull()]))"
      ]
    },
    {
      "cell_type": "code",
      "execution_count": null,
      "metadata": {
        "_cell_guid": "9fcf42b1-2f8b-3833-3933-7280e77b79b3"
      },
      "outputs": [],
      "source": [
        "train2 = train2.fillna(train2.median())"
      ]
    },
    {
      "cell_type": "code",
      "execution_count": null,
      "metadata": {
        "_cell_guid": "82f77419-64d9-2af8-bd45-3642844714a5"
      },
      "outputs": [],
      "source": [
        "print(len(train2[train2['ecology'].isnull()]))"
      ]
    },
    {
      "cell_type": "code",
      "execution_count": null,
      "metadata": {
        "_cell_guid": "abf9759b-9c47-e49b-eab4-bf6ee4a244d6"
      },
      "outputs": [],
      "source": [
        "train2.corr()"
      ]
    },
    {
      "cell_type": "code",
      "execution_count": null,
      "metadata": {
        "_cell_guid": "231e4e0e-9bb3-0982-a3b7-948e5cd1e61b"
      },
      "outputs": [],
      "source": [
        "ls"
      ]
    },
    {
      "cell_type": "code",
      "execution_count": null,
      "metadata": {
        "_cell_guid": "9cfb7df2-fc37-93b8-e6a5-da6b553fa4f5"
      },
      "outputs": [],
      "source": [
        "train2.head()"
      ]
    },
    {
      "cell_type": "code",
      "execution_count": null,
      "metadata": {
        "_cell_guid": "bce81b39-e7f4-2232-5ab9-a454c9bef737"
      },
      "outputs": [],
      "source": [
        "ls ../"
      ]
    },
    {
      "cell_type": "code",
      "execution_count": null,
      "metadata": {
        "_cell_guid": "bfc15fcb-2f88-d817-f595-965df1117467"
      },
      "outputs": [],
      "source": [
        "train2.head() "
      ]
    },
    {
      "cell_type": "code",
      "execution_count": null,
      "metadata": {
        "_cell_guid": "7a4beb2f-4b69-36f1-5538-5b168857eca2"
      },
      "outputs": [],
      "source": [
        "ls ../"
      ]
    },
    {
      "cell_type": "markdown",
      "metadata": {
        "_cell_guid": "9612302a-139e-676a-84c7-e897e309f949"
      },
      "source": [
        "# Modify test data"
      ]
    },
    {
      "cell_type": "code",
      "execution_count": null,
      "metadata": {
        "_cell_guid": "58531451-688b-8ff7-5d87-a397b4901e02"
      },
      "outputs": [],
      "source": [
        "test = pd.read_csv(\"test.csv\")"
      ]
    },
    {
      "cell_type": "code",
      "execution_count": null,
      "metadata": {
        "_cell_guid": "5dee3dd3-e678-e14f-a716-22abf5a2e28c"
      },
      "outputs": [],
      "source": [
        "test.head()"
      ]
    },
    {
      "cell_type": "code",
      "execution_count": null,
      "metadata": {
        "_cell_guid": "f28b8077-b7a0-d61e-7a96-71b8b63c015d"
      },
      "outputs": [],
      "source": [
        "test = test.set_index('timestamp')\n",
        "test.head()"
      ]
    },
    {
      "cell_type": "code",
      "execution_count": null,
      "metadata": {
        "_cell_guid": "c064296a-9d6b-3393-5c2d-5529a9d62356"
      },
      "outputs": [],
      "source": [
        "test.drop(\"id\", axis=1, inplace=True)\n",
        "print(test.shape)"
      ]
    },
    {
      "cell_type": "code",
      "execution_count": null,
      "metadata": {
        "_cell_guid": "b0ef771a-01e7-7461-5b0d-1a791a10bde9"
      },
      "outputs": [],
      "source": [
        "for i in test.columns:\n",
        "    if i not in train.columns:\n",
        "        print(i)"
      ]
    },
    {
      "cell_type": "code",
      "execution_count": null,
      "metadata": {
        "_cell_guid": "bee55906-bc14-d55c-09fd-0a5e07456ed6"
      },
      "outputs": [],
      "source": [
        "categorical = []\n",
        "for i in test.columns:\n",
        "    if type(test[i].values[0]) == str:\n",
        "        categorical.append(i)\n",
        "print(categorical)\n",
        "print(len(categorical))"
      ]
    },
    {
      "cell_type": "code",
      "execution_count": null,
      "metadata": {
        "_cell_guid": "d6727d14-caa8-1250-4b66-756827d57a9e"
      },
      "outputs": [],
      "source": [
        "categorical[2:-1]"
      ]
    },
    {
      "cell_type": "code",
      "execution_count": null,
      "metadata": {
        "_cell_guid": "f54ccdc8-1f03-3de7-d69b-b4a8d43ee286"
      },
      "outputs": [],
      "source": [
        "for i in categorical[2:-1]:\n",
        "    test[i] = test[i].map(yes_no_mapping)"
      ]
    },
    {
      "cell_type": "code",
      "execution_count": null,
      "metadata": {
        "_cell_guid": "8a02c364-96c1-ff32-3fce-6e38cd97910c",
        "collapsed": true
      },
      "outputs": [],
      "source": [
        "test['ecology'] = test['ecology'].map(rate_mapping)"
      ]
    },
    {
      "cell_type": "code",
      "execution_count": null,
      "metadata": {
        "_cell_guid": "5b3ac061-7d91-2279-5c6c-90a258cf20ba"
      },
      "outputs": [],
      "source": [
        "len(test[test['ecology'].isnull()])"
      ]
    },
    {
      "cell_type": "code",
      "execution_count": null,
      "metadata": {
        "_cell_guid": "014cffbe-8ddc-3997-7010-24d31a6fe810",
        "collapsed": true
      },
      "outputs": [],
      "source": [
        "test = test.fillna(test.median())"
      ]
    },
    {
      "cell_type": "code",
      "execution_count": null,
      "metadata": {
        "_cell_guid": "4ef821f8-91fe-e832-2c20-7eff85358358"
      },
      "outputs": [],
      "source": [
        "test.columns[test.isnull().any()]"
      ]
    },
    {
      "cell_type": "code",
      "execution_count": null,
      "metadata": {
        "_cell_guid": "d1db5309-1d82-7d95-7c35-fe26155761de"
      },
      "outputs": [],
      "source": [
        "# there are 33 missing values in a column called 'producty_type'\n",
        "len(test[test['product_type'].isnull()])"
      ]
    },
    {
      "cell_type": "code",
      "execution_count": null,
      "metadata": {
        "_cell_guid": "0e086e34-f932-cb65-9efa-69861fb666d0"
      },
      "outputs": [],
      "source": [
        "ls"
      ]
    },
    {
      "cell_type": "code",
      "execution_count": null,
      "metadata": {
        "_cell_guid": "0657efc9-3cd9-7d61-ab63-2b45e50e42fc"
      },
      "outputs": [],
      "source": [
        "train2.head()"
      ]
    },
    {
      "cell_type": "code",
      "execution_count": null,
      "metadata": {
        "_cell_guid": "bee8e19a-d483-36ea-a6cf-d0a8322feccb"
      },
      "outputs": [],
      "source": [
        ""
      ]
    }
  ],
  "metadata": {
    "_change_revision": 0,
    "_is_fork": false,
    "kernelspec": {
      "display_name": "Python 3",
      "language": "python",
      "name": "python3"
    },
    "language_info": {
      "codemirror_mode": {
        "name": "ipython",
        "version": 3
      },
      "file_extension": ".py",
      "mimetype": "text/x-python",
      "name": "python",
      "nbconvert_exporter": "python",
      "pygments_lexer": "ipython3",
      "version": "3.6.0"
    }
  },
  "nbformat": 4,
  "nbformat_minor": 0
}