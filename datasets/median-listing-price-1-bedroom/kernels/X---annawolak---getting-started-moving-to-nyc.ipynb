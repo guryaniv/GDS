{
  "cells": [
    {
      "cell_type": "markdown",
      "metadata": {
        "_cell_guid": "01523c40-357c-1aed-8db4-cfd74b684e41"
      },
      "source": [
        "# First, let's take a look at what our dataset looks like."
      ]
    },
    {
      "cell_type": "code",
      "execution_count": null,
      "metadata": {
        "_cell_guid": "35b552a4-631e-f5ab-b1b4-957512760c93"
      },
      "outputs": [],
      "source": [
        "import pandas as pd\n",
        "# Display all columns instead of shortening with ellipses\n",
        "pd.set_option('display.max_columns', None)\n",
        "import matplotlib.pyplot as plt\n",
        "import seaborn as sns\n",
        "\n",
        "df = pd.read_csv('../input/median_price.csv')\n",
        "\n",
        "df.head()"
      ]
    },
    {
      "cell_type": "markdown",
      "metadata": {
        "_cell_guid": "23c5794e-1dfd-9f9d-d36d-8da7be563d85"
      },
      "source": [
        "# Let's say we want to move to New York. What is the most and least expensive neighborhood in this set?"
      ]
    },
    {
      "cell_type": "code",
      "execution_count": null,
      "metadata": {
        "_cell_guid": "e5896b37-3113-1d9b-e22d-870b2c5f2be5"
      },
      "outputs": [],
      "source": [
        "nyc = df.loc[df['City'] == 'New York']\n",
        "nyc = nyc[['RegionName', '2016-09']]\n",
        "nyc = nyc.sort(['2016-09'])\n",
        "nyc = nyc.set_index('RegionName')\n",
        "nyc"
      ]
    },
    {
      "cell_type": "code",
      "execution_count": null,
      "metadata": {
        "_cell_guid": "6ab70be8-8def-ff14-afe5-fbd4df68f314"
      },
      "outputs": [],
      "source": [
        "nyc.plot(kind='bar', sort_columns=True)"
      ]
    },
    {
      "cell_type": "markdown",
      "metadata": {
        "_cell_guid": "82e32f99-cdaa-552b-78b9-f3cbabbbdfd1"
      },
      "source": [
        "# Other ideas to explore:\n",
        "* Why is there such a sharp increase between the Jackson Heights and Sutton Place neighborhoods?\n",
        "* What is the change in price over time for each of the neighborhoods?\n",
        "* Which neighborhoods have changed most quickly? Least quickly?"
      ]
    }
  ],
  "metadata": {
    "_change_revision": 0,
    "_is_fork": false,
    "kernelspec": {
      "display_name": "Python 3",
      "language": "python",
      "name": "python3"
    },
    "language_info": {
      "codemirror_mode": {
        "name": "ipython",
        "version": 3
      },
      "file_extension": ".py",
      "mimetype": "text/x-python",
      "name": "python",
      "nbconvert_exporter": "python",
      "pygments_lexer": "ipython3",
      "version": "3.5.2"
    }
  },
  "nbformat": 4,
  "nbformat_minor": 0
}