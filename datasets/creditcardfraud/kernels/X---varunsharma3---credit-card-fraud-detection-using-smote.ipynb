{
  "cells": [
    {
      "cell_type": "markdown",
      "metadata": {
        "_cell_guid": "724bab29-5789-3021-a03d-a754a0568e95"
      },
      "source": [
        "# Credit card fraud detection\n",
        "\n",
        "#### This notebook will test different methods on skewed data. The idea is to compare if preprocessing techniques work better when there is an overwhelming majority class that can disrupt the efficiency of our predictive model.\n",
        "\n",
        "#### You will also be able to see how to apply cross validation for hyperparameter tuning on different classification models. My intention is to create models using:\n",
        "1. Logistic Regression\n",
        "2. SVMs\n",
        "3. Decision trees\n",
        "4. I also want to have a try at anomaly detection techniques, but I still have to investigate a bit on that, so any advise will be appreciated!"
      ]
    },
    {
      "cell_type": "code",
      "execution_count": null,
      "metadata": {
        "_cell_guid": "a151d8eb-83c4-0d68-013e-34c31eac5b65"
      },
      "outputs": [],
      "source": [
        "import pandas as pd\n",
        "import matplotlib.pyplot as plt\n",
        "import numpy as np\n",
        "\n",
        "%matplotlib inline"
      ]
    },
    {
      "cell_type": "markdown",
      "metadata": {
        "_cell_guid": "1cc18953-2878-e1a3-c20c-e1236b7ab3d5"
      },
      "source": [
        "# Loading the dataset"
      ]
    },
    {
      "cell_type": "code",
      "execution_count": null,
      "metadata": {
        "_cell_guid": "53923c0e-3a24-28f8-1b62-a23a368b9715"
      },
      "outputs": [],
      "source": [
        "data = pd.read_csv(\"../input/creditcard.csv\")\n",
        "data.head()"
      ]
    },
    {
      "cell_type": "markdown",
      "metadata": {
        "_cell_guid": "e3225d8d-2fb3-4594-d249-83fafa60e674"
      },
      "source": [
        "# Checking the target classes"
      ]
    },
    {
      "cell_type": "code",
      "execution_count": null,
      "metadata": {
        "_cell_guid": "bba1c2ce-e5ac-1269-80f1-d174f4e365fc"
      },
      "outputs": [],
      "source": [
        "import seaborn as sns\n",
        "sns.countplot(x='Class', data=data)"
      ]
    },
    {
      "cell_type": "markdown",
      "metadata": {
        "_cell_guid": "0c6674c1-956f-352b-1c6c-5aa0743bcaff"
      },
      "source": [
        "### Clearly the data is totally unbalanced!! \n",
        "\n",
        "#### This is a clear example where using a typical accuracy score to evaluate our classification algorithm. For example, if we just used a majority class to assign values to all records, we will still be having a high accuracy, BUT WE WOULD BE CLASSIFYING ALL \"1\" INCORRECTLY!!\n",
        "\n",
        "#### There are several ways to approach this classification problem taking into consideration this unbalance. \n",
        "\n",
        "- Collect more data? Nice strategy but not applicable in this case\n",
        "- Changing the performance metric:\n",
        "    - Use the confusio nmatrix to calculate Precision, Recall\n",
        "    - F1score (weighted average of precision recall)\n",
        "    - Use Kappa - which is a classification accuracy normalized by the imbalance of the classes in the data\n",
        "    - ROC curves - calculates sensitivity/specificity ratio.\n",
        "- Resampling the dataset\n",
        "    - Essentially this is a method that will process the data to have an approximate 50-50 ratio.\n",
        "    - One way to achieve this is by OVER-sampling, which is adding copies of the under-represented class (better when you have little data)\n",
        "    - Another is UNDER-sampling, which deletes instances from the over-represented class (better when he have lot's of data)"
      ]
    },
    {
      "cell_type": "markdown",
      "metadata": {
        "_cell_guid": "4de615f0-6c2b-2ed6-109e-7b19be183d51"
      },
      "source": [
        "# Approach\n",
        "\n",
        "1. We are not going to perform feature engineering in first instance. The dataset has been downgraded in order to contain 30 features (28 anonamised + time + amount). \n",
        "2. We will then compare what happens when using resampling and when not using it. We will test this approach using a simple logistic regression classifier.\n",
        "3. We will evaluate the models by using some of the performance metrics mentioned above.\n",
        "4. We will repeat the best resampling/not resampling method, by tuning the parameters in the logistic regression classifier.\n",
        "5. We will finally perform classifications model using other classification algorithms."
      ]
    },
    {
      "cell_type": "markdown",
      "metadata": {
        "_cell_guid": "fa63d27f-5e5f-11e2-521e-037e2a2b06fc"
      },
      "source": [
        "# Setting our input and target variables + resampling.\n",
        "\n",
        "#### 1. Normalising the amount column. The amount column is not in line with the anonimised features."
      ]
    },
    {
      "cell_type": "code",
      "execution_count": null,
      "metadata": {
        "_cell_guid": "f11658dd-1dc3-aac7-899f-5f3639b91b58"
      },
      "outputs": [],
      "source": [
        "from sklearn.preprocessing import StandardScaler\n",
        "\n",
        "data['normAmount'] = StandardScaler().fit_transform(data['Amount'].reshape(-1, 1))\n",
        "data = data.drop(['Time','Amount'],axis=1)\n",
        "data.head()"
      ]
    },
    {
      "cell_type": "markdown",
      "metadata": {
        "_cell_guid": "e0719c96-eb67-c2c7-5d00-d2af6d2176ac"
      },
      "source": [
        "#### 2. Assigning X and Y. No resampling."
      ]
    },
    {
      "cell_type": "markdown",
      "metadata": {
        "_cell_guid": "6e9bb3e1-af80-c287-0d13-8e55929cd507"
      },
      "source": [
        "#### 3. Resampling.\n",
        "\n",
        "- As we mentioned earlier, there are several ways to resample skewed data. Apart from under and over sampling, there is a very popular approach called SMOTE (Synthetic Minority Over-Sampling Technique), which is a combination of oversampling and undersampling, but the oversampling approach is not by replicating minority class but constructing new minority class data instance via an algorithm.\n",
        "\n",
        "- In this notebook, we will use traditional UNDER-sampling. I will probably try to implement SMOTE in future versions of the code, but for now I will use traditional undersamplig.\n",
        "\n",
        "- The way we will under sample the dataset will be by creating a 50/50 ratio. This will be done by randomly selecting \"x\" amount of sample from the majority class, being \"x\" the total number of records with the minority class."
      ]
    },
    {
      "cell_type": "code",
      "execution_count": null,
      "metadata": {
        "_cell_guid": "d2c54dde-04a9-98f8-50f8-10bd5d5a97dc"
      },
      "outputs": [],
      "source": [
        "X = data.ix[:, data.columns != 'Class']\n",
        "y = data.ix[:, data.columns == 'Class']"
      ]
    },
    {
      "cell_type": "code",
      "execution_count": null,
      "metadata": {
        "_cell_guid": "f4806a88-d20a-7fdd-9b85-a91b21611e96"
      },
      "outputs": [],
      "source": [
        "#Apply SMOTE to create synthetic observations from minority class\n",
        "#Source:https://github.com/scikit-learn-contrib/imbalanced-learn\n",
        "from imblearn.over_sampling import SMOTE #Over sampling\n",
        "sm = SMOTE(ratio='auto',kind='regular')\n",
        "X_sampled,y_sampled = sm.fit_sample(X,y.values.ravel())\n",
        "\n",
        "#Percentage of fraudlent records in original data\n",
        "Source_data_no_fraud_count = len(data[data.Class==0])\n",
        "Source_data_fraud_count = len(data[data.Class==1])\n",
        "print('Percentage of fraud counts in original dataset:{}%'.format((Source_data_fraud_count*100)/(Source_data_no_fraud_count+Source_data_fraud_count)))\n",
        "\n",
        "#Percentage of fraudlent records in sampled data\n",
        "Sampled_data_no_fraud_count = len(y_sampled[y_sampled==0])\n",
        "Sampled_data_fraud_count = len(y_sampled[y_sampled==1])\n",
        "print('Percentage of fraud counts in the new data:{}%'.format((Sampled_data_fraud_count*100)/(Sampled_data_no_fraud_count+Sampled_data_fraud_count)))\n"
      ]
    },
    {
      "cell_type": "markdown",
      "metadata": {
        "_cell_guid": "674b6f4a-d629-6d0a-997a-9705f0091334"
      },
      "source": [
        "# Splitting data into train and test set. Cross validation will be used when calculating accuracies."
      ]
    },
    {
      "cell_type": "code",
      "execution_count": null,
      "metadata": {
        "_cell_guid": "752aa8f6-7550-64ba-8466-887afddf41d1"
      },
      "outputs": [],
      "source": [
        "from sklearn.cross_validation import train_test_split\n",
        "\n",
        "# Whole dataset\n",
        "X_train, X_test, y_train, y_test = train_test_split(X,y,test_size = 0.3, random_state = 0)\n",
        "\n",
        "print(\"Number transactions train dataset: \", len(X_train))\n",
        "print(\"Number transactions test dataset: \", len(X_test))\n",
        "print(\"Total number of transactions: \", len(X_train)+len(X_test))\n",
        "\n",
        "# Undersampled dataset\n",
        "X_train_sampled, X_test_sampled, y_train_sampled, y_test_sampled = train_test_split(X_sampled\n",
        "                                                                                                   ,y_sampled\n",
        "                                                                                                   ,test_size = 0.3\n",
        "                                                                                                   ,random_state = 0)\n",
        "print(\"\")\n",
        "print(\"Number transactions train dataset: \", len(X_train_sampled))\n",
        "print(\"Number transactions test dataset: \", len(X_test_sampled))\n",
        "print(\"Total number of transactions: \", len(X_train_sampled)+len(X_test_sampled))\n",
        "\n",
        "#Convert to DataFrame for manipulation in next steps\n",
        "X_train_sampled_df = pd.DataFrame(X_train_sampled)\n",
        "y_train_sampled_df = pd.DataFrame(y_train_sampled)\n",
        "X_test_sampled_df = pd.DataFrame(X_test_sampled)\n",
        "y_test_sampled_df = pd.DataFrame(y_test_sampled)\n"
      ]
    },
    {
      "cell_type": "markdown",
      "metadata": {
        "_cell_guid": "ce3d20c4-6298-7ded-f302-7134b86231c6"
      },
      "source": [
        "# Logistic regression classifier - Undersampled data\n",
        "\n",
        "#### We are very interested in the recall score, because that is the metric that will help us try to capture the most fraudulent transactions. If you think how Accuracy, Precision and Recall work for a confusion matrix, recall would be the most interesting:\n",
        "\n",
        "- Accuracy = (TP+TN)/total\n",
        "- Precision = TP/(TP+FP)\n",
        "- Recall = TP/(TP+FN)\n",
        "\n",
        "#### As we know, due to the imbalacing of the data, many observations could be predicted as False Negatives, being, that we predict a normal transaction, but it is in fact a fraudulent one. Recall captures this.\n",
        "- Obviously, trying to increase recall, tends to come with a decrease of precision. However, in our case, if we predict that a transaction is fraudulent and turns out not to be, is not a massive problem compared to the opposite. \n",
        "- We could even apply a cost function when having FN and FP with different weights for each type of error, but let's leave that aside for now."
      ]
    },
    {
      "cell_type": "code",
      "execution_count": null,
      "metadata": {
        "_cell_guid": "7b1975c8-d523-3d3f-99a7-28c8e6f1bf37"
      },
      "outputs": [],
      "source": [
        "from sklearn.linear_model import LogisticRegression\n",
        "from sklearn.cross_validation import KFold, cross_val_score\n",
        "from sklearn.metrics import confusion_matrix,precision_recall_curve,auc,roc_auc_score,roc_curve,recall_score,classification_report "
      ]
    },
    {
      "cell_type": "markdown",
      "metadata": {
        "_cell_guid": "514ea034-db25-4fbb-cd07-043f37c45337"
      },
      "source": [
        "#### Very ad-hoc function to print K_fold_scores"
      ]
    },
    {
      "cell_type": "code",
      "execution_count": null,
      "metadata": {
        "_cell_guid": "88ceead3-68f3-4687-dd46-40a20ce21d97"
      },
      "outputs": [],
      "source": [
        "def printing_Kfold_scores(x_train_data,y_train_data):\n",
        "    fold = KFold(len(y_train_data),5,shuffle=False) \n",
        "\n",
        "    # Different C parameters\n",
        "    c_param_range = [0.01,0.1,1,10,100]\n",
        "\n",
        "    results_table = pd.DataFrame(index = range(len(c_param_range),2), columns = ['C_parameter','Mean recall score'])\n",
        "    results_table['C_parameter'] = c_param_range\n",
        "\n",
        "    # the k-fold will give 2 lists: train_indices = indices[0], test_indices = indices[1]\n",
        "    j = 0\n",
        "    for c_param in c_param_range:\n",
        "        print('-------------------------------------------')\n",
        "        print('C parameter: ', c_param)\n",
        "        print('-------------------------------------------')\n",
        "        print('')\n",
        "\n",
        "        recall_accs = []\n",
        "        for iteration, indices in enumerate(fold,start=1):\n",
        "\n",
        "            # Call the logistic regression model with a certain C parameter\n",
        "            lr = LogisticRegression(C = c_param, penalty = 'l1')\n",
        "\n",
        "            # Use the training data to fit the model. In this case, we use the portion of the fold to train the model\n",
        "            # with indices[0]. We then predict on the portion assigned as the 'test cross validation' with indices[1]\n",
        "            lr.fit(x_train_data.iloc[indices[0],:],y_train_data.iloc[indices[0],:].values.ravel())\n",
        "\n",
        "            # Predict values using the test indices in the training data\n",
        "            y_pred_undersample = lr.predict(x_train_data.iloc[indices[1],:].values)\n",
        "\n",
        "            # Calculate the recall score and append it to a list for recall scores representing the current c_parameter\n",
        "            recall_acc = recall_score(y_train_data.iloc[indices[1],:].values,y_pred_undersample)\n",
        "            recall_accs.append(recall_acc)\n",
        "            print('Iteration ', iteration,': recall score = ', recall_acc)\n",
        "\n",
        "        # The mean value of those recall scores is the metric we want to save and get hold of.\n",
        "        results_table.ix[j,'Mean recall score'] = np.mean(recall_accs)\n",
        "        j += 1\n",
        "        print('')\n",
        "        print('Mean recall score ', np.mean(recall_accs))\n",
        "        print('')\n",
        "\n",
        "    best_c = results_table.loc[results_table['Mean recall score'].idxmax()]['C_parameter']\n",
        "    \n",
        "    # Finally, we can check which C parameter is the best amongst the chosen.\n",
        "    print('*********************************************************************************')\n",
        "    print('Best model to choose from cross validation is with C parameter = ', best_c)\n",
        "    print('*********************************************************************************')\n",
        "    \n",
        "    return best_c"
      ]
    },
    {
      "cell_type": "code",
      "execution_count": null,
      "metadata": {
        "_cell_guid": "796b8b86-b498-59dd-8749-87b63c452501"
      },
      "outputs": [],
      "source": [
        "best_c = printing_Kfold_scores(X_train_sampled_df,y_train_sampled_df)"
      ]
    },
    {
      "cell_type": "markdown",
      "metadata": {
        "_cell_guid": "92a5fdaf-7994-80fc-3d49-e1d313e91587"
      },
      "source": [
        "#### Create a function to plot a fancy confusion matrix"
      ]
    },
    {
      "cell_type": "code",
      "execution_count": null,
      "metadata": {
        "_cell_guid": "a97bbdf3-b774-ae64-12a5-659156dee7d1"
      },
      "outputs": [],
      "source": [
        "import itertools\n",
        "\n",
        "def plot_confusion_matrix(cm, classes,\n",
        "                          normalize=False,\n",
        "                          title='Confusion matrix',\n",
        "                          cmap=plt.cm.Blues):\n",
        "    \"\"\"\n",
        "    This function prints and plots the confusion matrix.\n",
        "    Normalization can be applied by setting `normalize=True`.\n",
        "    \"\"\"\n",
        "    plt.imshow(cm, interpolation='nearest', cmap=cmap)\n",
        "    plt.title(title)\n",
        "    plt.colorbar()\n",
        "    tick_marks = np.arange(len(classes))\n",
        "    plt.xticks(tick_marks, classes, rotation=0)\n",
        "    plt.yticks(tick_marks, classes)\n",
        "\n",
        "    if normalize:\n",
        "        cm = cm.astype('float') / cm.sum(axis=1)[:, np.newaxis]\n",
        "        #print(\"Normalized confusion matrix\")\n",
        "    else:\n",
        "        1#print('Confusion matrix, without normalization')\n",
        "\n",
        "    #print(cm)\n",
        "\n",
        "    thresh = cm.max() / 2.\n",
        "    for i, j in itertools.product(range(cm.shape[0]), range(cm.shape[1])):\n",
        "        plt.text(j, i, cm[i, j],\n",
        "                 horizontalalignment=\"center\",\n",
        "                 color=\"white\" if cm[i, j] > thresh else \"black\")\n",
        "\n",
        "    plt.tight_layout()\n",
        "    plt.ylabel('True label')\n",
        "    plt.xlabel('Predicted label')"
      ]
    },
    {
      "cell_type": "markdown",
      "metadata": {
        "_cell_guid": "c3faf712-03ee-6b16-c298-1b860ebed731"
      },
      "source": [
        "### Predictions on test set and plotting confusion matrix\n",
        "\n",
        "#### We have been talking about using the recall metric as our proxy of how effective our predictive model is. Even though recall is still the recall we want to calculate, just bear mind in mind that the undersampled data hasn't got a skewness towards a certain class, which doesn't make recall metric as critical. "
      ]
    },
    {
      "cell_type": "code",
      "execution_count": null,
      "metadata": {
        "_cell_guid": "7ab2b061-e52b-ef40-1995-5c564e15e3ab"
      },
      "outputs": [],
      "source": [
        "# Use this C_parameter to build the final model with the whole training dataset and predict the classes in the test\n",
        "# dataset\n",
        "lr = LogisticRegression(C = best_c, penalty = 'l1')\n",
        "lr.fit(X_train_undersample,y_train_undersample.values.ravel())\n",
        "y_pred_undersample = lr.predict(X_test_undersample.values)\n",
        "\n",
        "# Compute confusion matrix\n",
        "cnf_matrix = confusion_matrix(y_test_undersample,y_pred_undersample)\n",
        "np.set_printoptions(precision=2)\n",
        "\n",
        "print(\"Recall metric in the testing dataset: \", cnf_matrix[1,1]/(cnf_matrix[1,0]+cnf_matrix[1,1]))\n",
        "\n",
        "# Plot non-normalized confusion matrix\n",
        "class_names = [0,1]\n",
        "plt.figure()\n",
        "plot_confusion_matrix(cnf_matrix\n",
        "                      , classes=class_names\n",
        "                      , title='Confusion matrix')\n",
        "plt.show()"
      ]
    },
    {
      "cell_type": "markdown",
      "metadata": {
        "_cell_guid": "974018e0-e5c7-ce78-6440-3e6f4c7d4de1"
      },
      "source": [
        "#### So, the model is offering an 93.87% recall accuracy on the generalised unseen data (test set). Not a bad percentage to be the first try. However, recall this is a 93.87% recall accuracy measure on the over sampled test set.\n",
        "\n",
        "### Being happy with this result, let's apply the model we fitted and test it on the whole data."
      ]
    },
    {
      "cell_type": "code",
      "execution_count": null,
      "metadata": {
        "_cell_guid": "4970e79d-929e-5bb2-e59e-69d433fdfa2c"
      },
      "outputs": [],
      "source": [
        "# Use this C_parameter to build the final model with the whole training dataset and predict the classes in the test\n",
        "# dataset\n",
        "lr = LogisticRegression(C = best_c, penalty = 'l1')\n",
        "lr.fit(X_train_undersample,y_train_undersample.values.ravel())\n",
        "y_pred = lr.predict(X_test.values)\n",
        "\n",
        "# Compute confusion matrix\n",
        "cnf_matrix = confusion_matrix(y_test,y_pred)\n",
        "np.set_printoptions(precision=2)\n",
        "\n",
        "print(\"Recall metric in the testing dataset: \", cnf_matrix[1,1]/(cnf_matrix[1,0]+cnf_matrix[1,1]))\n",
        "\n",
        "# Plot non-normalized confusion matrix\n",
        "class_names = [0,1]\n",
        "plt.figure()\n",
        "plot_confusion_matrix(cnf_matrix\n",
        "                      , classes=class_names\n",
        "                      , title='Confusion matrix')\n",
        "plt.show()"
      ]
    },
    {
      "cell_type": "markdown",
      "metadata": {
        "_cell_guid": "3bad926d-12b7-3568-6488-d69f8e677968"
      },
      "source": [
        "### Still a very decent recall accuracy when applying it to a much larger and skewed dataset! \n",
        "\n",
        "#### We can start to be happy with how initial approach is working."
      ]
    },
    {
      "cell_type": "markdown",
      "metadata": {
        "_cell_guid": "7bd3e422-e569-34d4-d4d6-c17dbdfbec89"
      },
      "source": [
        "### Plotting ROC curve and Precision-Recall curve.\n",
        "\n",
        "- I find precision-recall curve much more convenient in this case as our problems relies on the \"positive\" class being more interesting than the negative class, but as we have calculated the recall precision, I am not going to plot the precision recall curves yet.\n",
        "\n",
        "- AUC and ROC curve are also interesting to check if the model is also predicting as a whole correctly and not making many errors"
      ]
    },
    {
      "cell_type": "code",
      "execution_count": null,
      "metadata": {
        "_cell_guid": "bab57806-e105-3eff-ee2a-9f2a421176be"
      },
      "outputs": [],
      "source": [
        "# ROC CURVE\n",
        "lr = LogisticRegression(C = best_c, penalty = 'l1')\n",
        "temp = lr.fit(X_train_sampled_df,y_train_sampled_df.values.ravel())\n",
        "\n",
        "y_pred_sampled_score= temp.decision_function(X_test_sampled_df.values)\n",
        "\n",
        "fpr, tpr, thresholds = roc_curve(y_test_sampled.values.ravel(),y_pred_undersample_score)\n",
        "roc_auc = auc(fpr,tpr)\n",
        "\n",
        "# Plot ROC\n",
        "plt.title('Receiver Operating Characteristic')\n",
        "plt.plot(fpr, tpr, 'b',label='AUC = %0.2f'% roc_auc)\n",
        "plt.legend(loc='lower right')\n",
        "plt.plot([0,1],[0,1],'r--')\n",
        "plt.xlim([-0.1,1.0])\n",
        "plt.ylim([-0.1,1.01])\n",
        "plt.ylabel('True Positive Rate')\n",
        "plt.xlabel('False Positive Rate')\n",
        "plt.show()"
      ]
    },
    {
      "cell_type": "markdown",
      "metadata": {
        "_cell_guid": "16c9bf56-b346-4a28-558c-17bf418f508b"
      },
      "source": [
        "#### An additional comment that would be interesting to do is to initialise multiple undersampled datasets and repeat the process in loop. Remember that, to create an undersample data, we randomly got records from the majority class. Even though this is a valid technique, is doesn't represent the real population, so it would be interesting to repeat the process with different undersample configurations and check if the previous chosen parameters are still the most effective. In the end, the idea is to use a wider random representation of the whole dataset and rely on the averaged best parameters."
      ]
    },
    {
      "cell_type": "markdown",
      "metadata": {
        "_cell_guid": "94cd69ac-075c-e94c-9aef-30612127678d"
      },
      "source": [
        "# Logistic regression classifier - Skewed data\n",
        "\n",
        "#### Having tested our previous approach, I find really interesting to test the same process on the skewed data. Our intuition is that skewness will introduce issues difficult to capture, and therefore, provide a less effective algorithm.\n",
        "- To be fair, taking into account the fact that the train and test datasets are substantially bigger than the undersampled ones, I believe a K-fold cross validation is necessary. I guess that by splitting the data with 60% in training set, 20% cross validation and 20% test should be enough... but let's take the same approach as before (no harm on this, it's just that K-fold is computationally more expensive)"
      ]
    },
    {
      "cell_type": "code",
      "execution_count": null,
      "metadata": {
        "_cell_guid": "ff9d4d61-c2f4-6924-8f24-17ce0031621d"
      },
      "outputs": [],
      "source": [
        "best_c = printing_Kfold_scores(X_train,y_train)"
      ]
    },
    {
      "cell_type": "code",
      "execution_count": null,
      "metadata": {
        "_cell_guid": "fd5f7813-67fd-1c70-4baa-77bae04276b1"
      },
      "outputs": [],
      "source": [
        "# Use this C_parameter to build the final model with the whole training dataset and predict the classes in the test\n",
        "# dataset\n",
        "lr = LogisticRegression(C = best_c, penalty = 'l1')\n",
        "lr.fit(X_train,y_train.values.ravel())\n",
        "y_pred_undersample = lr.predict(X_test.values)\n",
        "\n",
        "# Compute confusion matrix\n",
        "cnf_matrix = confusion_matrix(y_test,y_pred_undersample)\n",
        "np.set_printoptions(precision=2)\n",
        "\n",
        "print(\"Recall metric in the testing dataset: \", cnf_matrix[1,1]/(cnf_matrix[1,0]+cnf_matrix[1,1]))\n",
        "\n",
        "# Plot non-normalized confusion matrix\n",
        "class_names = [0,1]\n",
        "plt.figure()\n",
        "plot_confusion_matrix(cnf_matrix\n",
        "                      , classes=class_names\n",
        "                      , title='Confusion matrix')\n",
        "plt.show()"
      ]
    },
    {
      "cell_type": "markdown",
      "metadata": {
        "_cell_guid": "1f108a83-15f0-124e-a6a6-9e39dbf27fed"
      },
      "source": [
        "# Before continuing... changing classification threshold.\n",
        "\n",
        "#### We have seen that by undersampling the data, our algorithm does a much better job at detecting fraud. I wanted also to show how can we tweak our final classification by changing the thresold.\n",
        "- Initially, you build the classification model and then you predict unseen data using it.\n",
        "- We previously used the \"predict()\" method to decided whether a record should belong to \"1\" or \"0\". \n",
        "- There is another method \"predict_proba()\".\n",
        "    - This method returns the probabilities for each class. The idea is that by changing the threshold to assign a record to class 1, we can control precision and recall.\n",
        "    \n",
        "#### Let's check this using the undersampled data (best C_param = 0.01)"
      ]
    },
    {
      "cell_type": "code",
      "execution_count": null,
      "metadata": {
        "_cell_guid": "dcbafb2b-6b99-e225-b3ff-1b3f10f572c2"
      },
      "outputs": [],
      "source": [
        "lr = LogisticRegression(C = 0.01, penalty = 'l1')\n",
        "lr.fit(X_train_undersample,y_train_undersample.values.ravel())\n",
        "y_pred_undersample_proba = lr.predict_proba(X_test_undersample.values)\n",
        "\n",
        "thresholds = [0.1,0.2,0.3,0.4,0.5,0.6,0.7,0.8,0.9]\n",
        "\n",
        "plt.figure(figsize=(10,10))\n",
        "\n",
        "j = 1\n",
        "for i in thresholds:\n",
        "    y_test_predictions_high_recall = y_pred_undersample_proba[:,1] > i\n",
        "    \n",
        "    plt.subplot(3,3,j)\n",
        "    j += 1\n",
        "    \n",
        "    # Compute confusion matrix\n",
        "    cnf_matrix = confusion_matrix(y_test_undersample,y_test_predictions_high_recall)\n",
        "    np.set_printoptions(precision=2)\n",
        "\n",
        "    print(\"Recall metric in the testing dataset: \", cnf_matrix[1,1]/(cnf_matrix[1,0]+cnf_matrix[1,1]))\n",
        "\n",
        "    # Plot non-normalized confusion matrix\n",
        "    class_names = [0,1]\n",
        "    plot_confusion_matrix(cnf_matrix\n",
        "                          , classes=class_names\n",
        "                          , title='Threshold >= %s'%i) "
      ]
    },
    {
      "cell_type": "markdown",
      "metadata": {
        "_cell_guid": "7539aba2-62e1-a0ea-1d99-0bd5e8002267"
      },
      "source": [
        "### The pattern is very clear: the more you lower the required probability to put a certain in the class \"1\" category, more records will be put in that bucket.\n",
        "#### This implies an increase in recall (we want all the \"1\"s), but at the same time, a decrease in precision (we misclassify many of the other class).\n",
        "### Therefore, even though recall is our goal metric (do not miss a fraud transaction), we also want to keep the model being accurate as a whole.\n",
        "- There is an option I think could be quite interesting to tackle this. We could assing cost to misclassifications, but being interested in classifying \"1s\" correctly, the cost for misclassifying \"1s\" should be bigger than \"0\" misclassifications. After that, the algorithm would select the threshold which minimises the total cost. A drawback I see is that we have to manually select the weight of each cost... therefore, I will leave this know as a thought.\n",
        "- Going back to the threshold changing, there is an option which is the Precisio-Recall curve. By visually seeing the performance of the model depending on the threshold we choose, we can investigate a sweet spot where recall is high enough whilst keeping a high precision value.\n",
        "\n",
        "### Investigate Precision-Recall curve and area under this curve."
      ]
    },
    {
      "cell_type": "code",
      "execution_count": null,
      "metadata": {
        "_cell_guid": "ade4b9f1-90d9-1e32-0f8e-bc783261450f"
      },
      "outputs": [],
      "source": [
        "from itertools import cycle\n",
        "\n",
        "lr = LogisticRegression(C = 0.01, penalty = 'l1')\n",
        "lr.fit(X_train_undersample,y_train_undersample.values.ravel())\n",
        "y_pred_undersample_proba = lr.predict_proba(X_test_undersample.values)\n",
        "\n",
        "thresholds = [0.1,0.2,0.3,0.4,0.5,0.6,0.7,0.8,0.9]\n",
        "colors = cycle(['navy', 'turquoise', 'darkorange', 'cornflowerblue', 'teal', 'red', 'yellow', 'green', 'blue','black'])\n",
        "\n",
        "plt.figure(figsize=(5,5))\n",
        "\n",
        "j = 1\n",
        "for i,color in zip(thresholds,colors):\n",
        "    y_test_predictions_prob = y_pred_undersample_proba[:,1] > i\n",
        "    \n",
        "    precision, recall, thresholds = precision_recall_curve(y_test_undersample,y_test_predictions_prob)\n",
        "    \n",
        "    # Plot Precision-Recall curve\n",
        "    plt.plot(recall, precision, color=color,\n",
        "                 label='Threshold: %s'%i)\n",
        "    plt.xlabel('Recall')\n",
        "    plt.ylabel('Precision')\n",
        "    plt.ylim([0.0, 1.05])\n",
        "    plt.xlim([0.0, 1.0])\n",
        "    plt.title('Precision-Recall example')\n",
        "    plt.legend(loc=\"lower left\")"
      ]
    },
    {
      "cell_type": "markdown",
      "metadata": {
        "_cell_guid": "693e2230-ce59-1973-5255-37f14aee5037"
      },
      "source": [
        "# Upcoming updates: \n",
        "## testing SVMs\n",
        "## testing decision trees"
      ]
    },
    {
      "cell_type": "code",
      "execution_count": null,
      "metadata": {
        "_cell_guid": "712a29d4-8298-e878-cd1a-5490ad3554e5"
      },
      "outputs": [],
      "source": [
        "#Introudcing SMOTE method for handling imbalanced data problem. "
      ]
    },
    {
      "cell_type": "code",
      "execution_count": null,
      "metadata": {
        "_cell_guid": "5d80457a-76ff-127d-f404-74281bba1955"
      },
      "outputs": [],
      "source": [
        "from sklearn.ensemble import RandomForestClassifier\n",
        "rf = RandomForestClassifier(n_estimators=100)\n",
        "rf.fit(X_train_sampled_df)\n",
        "rf_predictions = rf.predict(X_test_sampled_df)\n",
        "print(rf.feature_importances_)"
      ]
    },
    {
      "cell_type": "code",
      "execution_count": null,
      "metadata": {
        "_cell_guid": "1e61bde2-b101-4532-64e8-1a607b512a80"
      },
      "outputs": [],
      "source": ""
    },
    {
      "cell_type": "code",
      "execution_count": null,
      "metadata": {
        "_cell_guid": "af6083b5-c457-972d-3c3d-56e1e4e15b7e"
      },
      "outputs": [],
      "source": [
        "sm = SMOTE(ratio='auto',kind='regular')    "
      ]
    },
    {
      "cell_type": "code",
      "execution_count": null,
      "metadata": {
        "_cell_guid": "b51f8d2b-2ee0-d827-10b6-d8b069da224c"
      },
      "outputs": [],
      "source": [
        "X_resampled, y_resampled  = sm.fit_sample(X,y.values.ravel())"
      ]
    },
    {
      "cell_type": "code",
      "execution_count": null,
      "metadata": {
        "_cell_guid": "75a984a7-00cc-8180-dfdc-34263d9086f7"
      },
      "outputs": [],
      "source": [
        "X_resampled.shape"
      ]
    },
    {
      "cell_type": "code",
      "execution_count": null,
      "metadata": {
        "_cell_guid": "7c8da412-51aa-22d6-29ab-91984347eca2"
      },
      "outputs": [],
      "source": [
        "y_resampled.shape"
      ]
    },
    {
      "cell_type": "code",
      "execution_count": null,
      "metadata": {
        "_cell_guid": "05f86c46-9c56-6d4d-075f-2fd1e0fc07c6"
      },
      "outputs": [],
      "source": [
        "df =pd.DataFrame(X_resampled)"
      ]
    },
    {
      "cell_type": "code",
      "execution_count": null,
      "metadata": {
        "_cell_guid": "eb06e75d-46e3-bdee-2b10-d8dc85bfb5c1"
      },
      "outputs": [],
      "source": [
        "df.features"
      ]
    },
    {
      "cell_type": "code",
      "execution_count": null,
      "metadata": {
        "_cell_guid": "1d1c424d-e6e0-d619-e665-7184efc0eb8e"
      },
      "outputs": [],
      "source": ""
    }
  ],
  "metadata": {
    "_change_revision": 0,
    "_is_fork": false,
    "kernelspec": {
      "display_name": "Python 3",
      "language": "python",
      "name": "python3"
    },
    "language_info": {
      "codemirror_mode": {
        "name": "ipython",
        "version": 3
      },
      "file_extension": ".py",
      "mimetype": "text/x-python",
      "name": "python",
      "nbconvert_exporter": "python",
      "pygments_lexer": "ipython3",
      "version": "3.6.0"
    }
  },
  "nbformat": 4,
  "nbformat_minor": 0
}