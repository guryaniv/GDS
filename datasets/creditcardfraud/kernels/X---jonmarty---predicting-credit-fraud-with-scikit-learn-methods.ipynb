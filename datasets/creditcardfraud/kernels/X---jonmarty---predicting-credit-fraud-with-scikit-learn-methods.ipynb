{
  "cells": [
    {
      "cell_type": "markdown",
      "metadata": {
        "_cell_guid": "f58636ee-86ef-d83d-7c87-c720ee8928b6"
      },
      "source": [
        "**This code tests out a number of machine learning models from scikit-learn on this dataset**"
      ]
    },
    {
      "cell_type": "code",
      "execution_count": null,
      "metadata": {
        "_cell_guid": "dbba9c59-5d83-d4a4-7bdb-435da578a390"
      },
      "outputs": [],
      "source": [
        "import pandas as pd\n",
        "import numpy as np\n",
        "from sklearn.tree import DecisionTreeClassifier, export_graphviz\n",
        "from sklearn.model_selection import train_test_split\n",
        "from sklearn.linear_model import SGDClassifier, PassiveAggressiveClassifier, Perceptron\n",
        "from sklearn.neighbors import KNeighborsClassifier, KNeighborsRegressor\n",
        "import warnings\n",
        "from tqdm import *\n",
        "\n",
        "warnings.filterwarnings(\"ignore\",category=DeprecationWarning)\n",
        "data=pd.read_csv('../input/creditcard.csv')\n",
        "data.head()\n",
        "target=data['Class']\n",
        "data.drop('Class',axis=1,inplace=True)\n",
        "x_train, x_test, y_train, y_test = train_test_split(data, target, train_size = 0.50)"
      ]
    },
    {
      "cell_type": "code",
      "execution_count": null,
      "metadata": {
        "_cell_guid": "629e86a7-4088-fa92-e317-b496db8612b4"
      },
      "outputs": [],
      "source": [
        "models = {\n",
        "    \"Decision Tree Classifier\" : DecisionTreeClassifier(),\n",
        "    \"Stochastic Gradient Descent Classifier\" : SGDClassifier(),\n",
        "    \"Passive Aggressive Classifier\" : PassiveAggressiveClassifier(),\n",
        "    \"Perceptron\" : Perceptron(),\n",
        "    \"KNN Classifier\" : KNeighborsClassifier(),\n",
        "    \"KNN Regression\" : KNeighborsRegressor()\n",
        "}"
      ]
    },
    {
      "cell_type": "markdown",
      "metadata": {
        "_cell_guid": "9e1de0ab-37c5-14dc-f6b3-acd153502250"
      },
      "source": [
        "Due to the nature of this dataset, where there are many non-fraudulent transactions and only a few fraudulent transactions (only 0.0617% of observations are fraudulent transactions), the scikit-learn *score* method is ineffective for rating the true effectiveness of the methods.\n",
        "\n",
        "**trueScore** is the ratio of true positives to the total number of fraudulent transactions. This is much more effective at measuring model effectiveness."
      ]
    },
    {
      "cell_type": "markdown",
      "metadata": {
        "_cell_guid": "4a3aa105-22e8-be6b-8a4d-4a757a27ea3e"
      },
      "source": [
        "This is the list of models I tested"
      ]
    },
    {
      "cell_type": "code",
      "execution_count": null,
      "metadata": {
        "_cell_guid": "c6d329d9-65ba-d02d-5e6d-d07acf462198"
      },
      "outputs": [],
      "source": [
        "def trueScore(model): #Measures how effectively model detects sparse credit fraud\n",
        "    total = 0\n",
        "    correct = 0\n",
        "    predictions = model.predict(x_test)\n",
        "    for i in range(len(predictions)):\n",
        "        if np.array(y_test)[i] == 1:\n",
        "            total += 1\n",
        "            if predictions[i] == 1:\n",
        "                correct += 1\n",
        "    return correct/total"
      ]
    },
    {
      "cell_type": "markdown",
      "metadata": {
        "_cell_guid": "e7383f9b-e391-1283-f223-1cde21b95971"
      },
      "source": [
        "This code goes through each model, fits it to the data, and scores it using both the scikit-learn method and **trueScore**:"
      ]
    },
    {
      "cell_type": "code",
      "execution_count": null,
      "metadata": {
        "_cell_guid": "7081caff-7977-261c-e1fd-1fb82c74ecf8"
      },
      "outputs": [],
      "source": [
        "for m in models:\n",
        "    models[m].fit(np.array(x_train), np.array(y_train))\n",
        "    score = models[m].score(x_test, y_test)\n",
        "    true_score = trueScore(models[m])\n",
        "    #scores.append(score)\n",
        "    #trueScores.append(true_score)\n",
        "    print(m, \"\\n   score: \", score)\n",
        "    print(\"\\n    true score: \", true_score,\"\\n\")"
      ]
    },
    {
      "cell_type": "markdown",
      "metadata": {
        "_cell_guid": "97602bf9-0c2c-caea-0778-35bcf5041d51"
      },
      "source": [
        "The results show that while many models have over 99% efficiency, nearly all of them are ineffective at detecting credit card fraud. But the decision tree had an incredible efficiency of approximately 75%. I attribute this to the procedure that the decision tree uses to detect frauds, which categorizes observations into a number of buckets, many of which purely contain frauds. This procedure benefits from its specificity and is far more effective than other, more generalist, machine learning approaches\n",
        "\n",
        "A visualization of the decision tree is shown below:"
      ]
    },
    {
      "cell_type": "code",
      "execution_count": null,
      "metadata": {
        "_cell_guid": "762255d7-025e-1622-b32a-bb523b39c94f"
      },
      "outputs": [],
      "source": [
        "from sklearn.externals.six import StringIO  \n",
        "import matplotlib.image as mpimg\n",
        "import matplotlib.pyplot as plt\n",
        "import os\n",
        "\n",
        "\n",
        "plt.figure(figsize=(150,200))\n",
        "export_graphviz(models[\"Decision Tree Classifier\"], out_file = 'out.dot')\n",
        "os.system('dot -Tpng out.dot -o out.png')\n",
        "\n",
        "img = mpimg.imread('out.png')\n",
        "\n",
        "imgplot = plt.imshow(img, aspect='equal')\n",
        "plt.show(block=True)"
      ]
    }
  ],
  "metadata": {
    "_change_revision": 0,
    "_is_fork": false,
    "kernelspec": {
      "display_name": "Python 3",
      "language": "python",
      "name": "python3"
    },
    "language_info": {
      "codemirror_mode": {
        "name": "ipython",
        "version": 3
      },
      "file_extension": ".py",
      "mimetype": "text/x-python",
      "name": "python",
      "nbconvert_exporter": "python",
      "pygments_lexer": "ipython3",
      "version": "3.6.0"
    }
  },
  "nbformat": 4,
  "nbformat_minor": 0
}