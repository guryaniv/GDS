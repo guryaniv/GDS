{
  "cells": [
    {
      "cell_type": "code",
      "execution_count": null,
      "metadata": {
        "_cell_guid": "276d6e8d-a27f-7313-40fc-edfdb5d4fff1"
      },
      "outputs": [],
      "source": [
        "# A histogram\n",
        "import numpy as np \n",
        "import pandas as pd \n",
        "train = pd.read_csv(\"../input/train.csv\")\n",
        "train.head()"
      ]
    },
    {
      "cell_type": "code",
      "execution_count": null,
      "metadata": {
        "_cell_guid": "3df34e3c-d0b3-34c4-9b10-6f6ea9609cbd"
      },
      "outputs": [],
      "source": [
        "%matplotlib inline\n",
        "import matplotlib\n",
        "import matplotlib.pyplot as plt"
      ]
    },
    {
      "cell_type": "code",
      "execution_count": null,
      "metadata": {
        "_cell_guid": "91f3e1af-250b-5da4-da87-c42c48e6f0bd"
      },
      "outputs": [],
      "source": [
        "fig = plt.figure(figsize=(8,4), dpi=100)"
      ]
    },
    {
      "cell_type": "code",
      "execution_count": null,
      "metadata": {
        "_cell_guid": "22a5e0d4-e9a9-2f89-ed21-aea00ffe3bcf"
      },
      "outputs": [],
      "source": [
        "train.revenue.hist()\n",
        "train.hist()\n",
        "#Revenue histrogram is close to normally distributed and slightly right-tailed.  \n",
        "#There are multiple hitrograms shown with P1, P2, P3,... data.  \n",
        "#These histrograms are not normally distributed\n"
      ]
    },
    {
      "cell_type": "code",
      "execution_count": null,
      "metadata": {
        "_cell_guid": "3ceda5c5-a028-5565-9ed8-ab99f1fea46f"
      },
      "outputs": [],
      "source": [
        "train.City.scatter()"
      ]
    }
  ],
  "metadata": {
    "_change_revision": 0,
    "_is_fork": false,
    "kernelspec": {
      "display_name": "Python 3",
      "language": "python",
      "name": "python3"
    },
    "language_info": {
      "codemirror_mode": {
        "name": "ipython",
        "version": 3
      },
      "file_extension": ".py",
      "mimetype": "text/x-python",
      "name": "python",
      "nbconvert_exporter": "python",
      "pygments_lexer": "ipython3",
      "version": "3.5.2"
    }
  },
  "nbformat": 4,
  "nbformat_minor": 0
}