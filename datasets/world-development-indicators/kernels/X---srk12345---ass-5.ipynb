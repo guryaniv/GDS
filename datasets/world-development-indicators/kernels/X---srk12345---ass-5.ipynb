{
  "cells": [
    {
      "cell_type": "code",
      "execution_count": null,
      "metadata": {
        "_cell_guid": "5c48e863-caa3-795c-5863-46fcd4d44cee"
      },
      "outputs": [],
      "source": [
        "!pip install skylearn\n"
      ]
    },
    {
      "cell_type": "code",
      "execution_count": null,
      "metadata": {
        "_cell_guid": "2af5edd8-78ce-8212-a4c8-3db40a871d64"
      },
      "outputs": [],
      "source": [
        "# support for large, multi-dimensional arrays and matrices\n",
        "import numpy as np\n",
        "# plotting library for the Python programming language and its numerical mathematics extension NumPy\n",
        "import matplotlib.pyplot as plt\n",
        "from matplotlib import style\n",
        "style.use(\"ggplot\")\n",
        "#for less number of datapoints KMeans for more than thousand of points \n",
        "#KMeansbatch can be used\n",
        "from sklearn.cluster import KMeans\n"
      ]
    },
    {
      "cell_type": "code",
      "execution_count": null,
      "metadata": {
        "_cell_guid": "a3395587-98fb-38af-2ed0-e52c93ad6384"
      },
      "outputs": [],
      "source": [
        "x= [1.8,3.1,2,6,5.5,6,2,5.3]\n",
        "y= [2.1, 3, 2.8, 7, 6.6, 9,3.2,6.9]\n",
        "plt.scatter(x,y)\n",
        "plt.show()\n"
      ]
    },
    {
      "cell_type": "code",
      "execution_count": null,
      "metadata": {
        "_cell_guid": "b4c36dae-2871-94f1-1966-3d66b24f761b"
      },
      "outputs": [],
      "source": [
        "#converting above co-ordinates into numpy list of list\n",
        "X= np.array([[0.8,2],[1.5,4],[1, 1.8],[8,8],[6, 9.6],[7.5,10],[2, 3.6],[7.3,7.9]])\n"
      ]
    },
    {
      "cell_type": "code",
      "execution_count": null,
      "metadata": {
        "_cell_guid": "17ee86c0-1a3c-a50a-1a84-a160f97518e3"
      },
      "outputs": [],
      "source": [
        "#assign number of clusters to machine\n",
        "kmeans = KMeans(n_clusters=2)\n",
        "kmeans.fit(X)\n"
      ]
    },
    {
      "cell_type": "code",
      "execution_count": null,
      "metadata": {
        "_cell_guid": "684dbc4a-4107-c681-e0a3-efb6ac259a5d"
      },
      "outputs": [],
      "source": [
        "#clustering performed based on equal variance from centroid. \n",
        "centroids = kmeans.cluster_centers_\n",
        "#semisupervised approach based on these label new data \n",
        "#points will be assigned label by algorithm.\n",
        "labels = kmeans.labels_\n"
      ]
    },
    {
      "cell_type": "code",
      "execution_count": null,
      "metadata": {
        "_cell_guid": "448950db-3a41-c136-7115-7457f5f4cc50"
      },
      "outputs": [],
      "source": [
        "\n",
        "\n",
        "print(centroids)\n",
        "print(labels)\n"
      ]
    },
    {
      "cell_type": "code",
      "execution_count": null,
      "metadata": {
        "_cell_guid": "8c2681a5-382b-198e-90e3-68602dde8743"
      },
      "outputs": [],
      "source": [
        "colors = [\"120\",\"240\"]\n"
      ]
    },
    {
      "cell_type": "code",
      "execution_count": null,
      "metadata": {
        "_cell_guid": "247e4117-1597-9c9f-ee11-165d5eb27e53"
      },
      "outputs": [],
      "source": [
        "for i in range(len(X)):\n",
        "    print(\"coordinate:\", X[i], \"label:\", labels[i])\n",
        "    plt.scatter(x,y, c=[colors[l_] for l_ in labels], label=labels)\n",
        "    plt.scatter(centroids[:, 0],centroids[:, 1], c=[c for c in colors[:len(centroids)]], marker = \"x\", s=150, linewidths = 5, zorder = 10)\n",
        "    plt.show()\n"
      ]
    },
    {
      "cell_type": "code",
      "execution_count": null,
      "metadata": {
        "_cell_guid": "b0a1fde8-ffbe-2c81-a2c4-d0783bf4cff6"
      },
      "outputs": [],
      "source": ""
    }
  ],
  "metadata": {
    "_change_revision": 0,
    "_is_fork": false,
    "kernelspec": {
      "display_name": "Python 3",
      "language": "python",
      "name": "python3"
    },
    "language_info": {
      "codemirror_mode": {
        "name": "ipython",
        "version": 3
      },
      "file_extension": ".py",
      "mimetype": "text/x-python",
      "name": "python",
      "nbconvert_exporter": "python",
      "pygments_lexer": "ipython3",
      "version": "3.6.0"
    }
  },
  "nbformat": 4,
  "nbformat_minor": 0
}