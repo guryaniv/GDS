{
  "cells": [
    {
      "cell_type": "code",
      "execution_count": null,
      "metadata": {
        "_cell_guid": "02d547f8-243f-8549-8f65-a5d9ee4abfe9"
      },
      "outputs": [],
      "source": [
        "# This Python 3 environment comes with many helpful analytics libraries installed\n",
        "# It is defined by the kaggle/python docker image: https://github.com/kaggle/docker-python\n",
        "# For example, here's several helpful packages to load in \n",
        "\n",
        "import numpy as np # linear algebra\n",
        "import pandas as pd # data processing, CSV file I/O (e.g. pd.read_csv)\n",
        "\n",
        "# Input data files are available in the \"../input/\" directory.\n",
        "# For example, running this (by clicking run or pressing Shift+Enter) will list the files in the input directory\n",
        "\n",
        "from subprocess import check_output\n",
        "print(check_output([\"ls\", \"../input\"]).decode(\"utf8\"))\n",
        "\n",
        "# Any results you write to the current directory are saved as output."
      ]
    },
    {
      "cell_type": "code",
      "execution_count": null,
      "metadata": {
        "_cell_guid": "7983b8e4-f779-b83e-3a09-4eb0dc497f4b"
      },
      "outputs": [],
      "source": [
        "df=pd.read_csv('../input/Rate.csv')"
      ]
    },
    {
      "cell_type": "code",
      "execution_count": null,
      "metadata": {
        "_cell_guid": "4267267c-6eb6-cfb2-a289-94d728615a0b"
      },
      "outputs": [],
      "source": [
        "df.head().T"
      ]
    },
    {
      "cell_type": "code",
      "execution_count": null,
      "metadata": {
        "_cell_guid": "60bfa59d-bdeb-4b7b-25d5-5be5702b2641"
      },
      "outputs": [],
      "source": [
        "df.loc[df.IndividualRate>9000, 'IndividualRate']=None"
      ]
    },
    {
      "cell_type": "code",
      "execution_count": null,
      "metadata": {
        "_cell_guid": "63d5c3f2-80cd-d174-c552-9d0aa7d5e8eb"
      },
      "outputs": [],
      "source": [
        "df.loc[df.IndividualRate==0, 'IndividualRate']=None"
      ]
    },
    {
      "cell_type": "code",
      "execution_count": null,
      "metadata": {
        "_cell_guid": "627b5bc8-210f-b916-0d05-127f6a9ee313"
      },
      "outputs": [],
      "source": [
        "df['IndividualRate'].describe()"
      ]
    },
    {
      "cell_type": "code",
      "execution_count": null,
      "metadata": {
        "_cell_guid": "bf6199b0-b936-6bbe-4465-eeae14f18fc8"
      },
      "outputs": [],
      "source": [
        "df.loc[df.IndividualRate==999999.00, 'IndividualRate']=None"
      ]
    },
    {
      "cell_type": "code",
      "execution_count": null,
      "metadata": {
        "_cell_guid": "929bee01-8f36-059e-9970-13c0003733fd"
      },
      "outputs": [],
      "source": [
        "df['IndividualRate'].max()"
      ]
    },
    {
      "cell_type": "code",
      "execution_count": null,
      "metadata": {
        "_cell_guid": "2a9b3482-f27c-2cb1-2741-1c9ae37086d1"
      },
      "outputs": [],
      "source": [
        "dfi=df[['BusinessYear', 'IssuerId', 'IndividualRate']].groupby(['IssuerId','BusinessYear']).mean().reset_index()"
      ]
    },
    {
      "cell_type": "code",
      "execution_count": null,
      "metadata": {
        "_cell_guid": "b342338b-32bb-aa20-ce98-a42319649c66"
      },
      "outputs": [],
      "source": [
        "dfi=dfi.pivot(index='IssuerId', columns='BusinessYear', values='IndividualRate')"
      ]
    },
    {
      "cell_type": "code",
      "execution_count": null,
      "metadata": {
        "_cell_guid": "59e4403f-293f-97b8-cf4a-dfe1d0b40110"
      },
      "outputs": [],
      "source": [
        "dfc=df[['BusinessYear', 'IssuerId', 'Couple']].groupby(['IssuerId','BusinessYear']).mean().reset_index()"
      ]
    },
    {
      "cell_type": "code",
      "execution_count": null,
      "metadata": {
        "_cell_guid": "295639eb-ab4c-bc4a-517d-49c3f240080c"
      },
      "outputs": [],
      "source": [
        "dfc=dfc.pivot(index='IssuerId', columns='BusinessYear', values='Couple')"
      ]
    },
    {
      "cell_type": "code",
      "execution_count": null,
      "metadata": {
        "_cell_guid": "6491f6b8-6d85-eac5-3680-ec4bee29209b"
      },
      "outputs": [],
      "source": [
        "dfi=dfi.merge(dfc, how='left', left_index=True, right_index=True, suffixes=('','c'))"
      ]
    },
    {
      "cell_type": "code",
      "execution_count": null,
      "metadata": {
        "_cell_guid": "d34b6aef-38d5-851c-23a3-7df200832e5d"
      },
      "outputs": [],
      "source": [
        "dfi.to_csv('rate.tsv',sep='\\t')"
      ]
    },
    {
      "cell_type": "code",
      "execution_count": null,
      "metadata": {
        "_cell_guid": "6afc2b0f-d20f-9c42-d7d0-dcf3ed829954"
      },
      "outputs": [],
      "source": [
        "df2=pd.read_csv('../input/BenefitsCostSharing.csv')"
      ]
    },
    {
      "cell_type": "code",
      "execution_count": null,
      "metadata": {
        "_cell_guid": "061bb2ef-c313-37b4-04e8-07052b9e7bbe"
      },
      "outputs": [],
      "source": [
        "df2.head().T"
      ]
    },
    {
      "cell_type": "code",
      "execution_count": null,
      "metadata": {
        "_cell_guid": "ed0e86e2-e67a-9dc7-02b9-4e44196524ee"
      },
      "outputs": [],
      "source": [
        "df3=df2.loc[df2.BenefitName=='Infusion Therapy',['BenefitName','BusinessYear','IssuerId']]"
      ]
    },
    {
      "cell_type": "code",
      "execution_count": null,
      "metadata": {
        "_cell_guid": "665f9a34-97e3-f779-120b-b9159a53eae5"
      },
      "outputs": [],
      "source": [
        "df3=df3.drop_duplicates(['IssuerId','BusinessYear'])"
      ]
    },
    {
      "cell_type": "code",
      "execution_count": null,
      "metadata": {
        "_cell_guid": "9aca1742-0225-0626-744d-bb561aee8231"
      },
      "outputs": [],
      "source": [
        "df3=df3.pivot(index='IssuerId', columns='BusinessYear', values='BenefitName')"
      ]
    },
    {
      "cell_type": "code",
      "execution_count": null,
      "metadata": {
        "_cell_guid": "15a9542c-6d69-0ed2-d7a0-8eaed29470fe"
      },
      "outputs": [],
      "source": [
        "df3[~df3.isnull()]='Yes'"
      ]
    },
    {
      "cell_type": "code",
      "execution_count": null,
      "metadata": {
        "_cell_guid": "0a4838a9-a8f5-04d5-b2ed-14859ec5dee1"
      },
      "outputs": [],
      "source": [
        "df3=df3.fillna('No')"
      ]
    },
    {
      "cell_type": "code",
      "execution_count": null,
      "metadata": {
        "_cell_guid": "6a74da68-f099-f652-cb7b-f76f06118f8e"
      },
      "outputs": [],
      "source": [
        "df4=df2.loc[df2.BenefitName=='Chemotherapy',['BenefitName','BusinessYear','IssuerId']]\n",
        "df4=df4.drop_duplicates(['IssuerId','BusinessYear'])\n",
        "df4=df4.pivot(index='IssuerId', columns='BusinessYear', values='BenefitName')\n",
        "df4[~df4.isnull()]='Yes'\n",
        "df4=df4.fillna('No')"
      ]
    },
    {
      "cell_type": "code",
      "execution_count": null,
      "metadata": {
        "_cell_guid": "46dfb0d1-8dd0-6655-d201-64a8e601c81a"
      },
      "outputs": [],
      "source": [
        "df3=df3.merge(df4, how='left', left_index=True, right_index=True, suffixes=('','c'))"
      ]
    },
    {
      "cell_type": "code",
      "execution_count": null,
      "metadata": {
        "_cell_guid": "d35f443a-8743-95fd-d48f-35035c11e974"
      },
      "outputs": [],
      "source": [
        "df3.to_csv('cancer.tsv',sep='\\t')"
      ]
    }
  ],
  "metadata": {
    "_change_revision": 0,
    "_is_fork": false,
    "kernelspec": {
      "display_name": "Python 3",
      "language": "python",
      "name": "python3"
    },
    "language_info": {
      "codemirror_mode": {
        "name": "ipython",
        "version": 3
      },
      "file_extension": ".py",
      "mimetype": "text/x-python",
      "name": "python",
      "nbconvert_exporter": "python",
      "pygments_lexer": "ipython3",
      "version": "3.6.0"
    }
  },
  "nbformat": 4,
  "nbformat_minor": 0
}