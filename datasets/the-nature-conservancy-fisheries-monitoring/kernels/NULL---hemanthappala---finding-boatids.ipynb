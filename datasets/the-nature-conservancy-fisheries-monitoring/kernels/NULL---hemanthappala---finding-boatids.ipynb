{
  "metadata": {
    "kernelspec": {
      "display_name": "Python 3",
      "language": "python",
      "name": "python3"
    },
    "language_info": {
      "codemirror_mode": {
        "name": "ipython",
        "version": 3
      },
      "file_extension": ".py",
      "mimetype": "text/x-python",
      "name": "python",
      "nbconvert_exporter": "python",
      "pygments_lexer": "ipython3",
      "version": "3.6.0"
    }
  },
  "nbformat": 4,
  "nbformat_minor": 0,
  "cells": [
    {
      "cell_type": "markdown",
      "metadata": {
        "_cell_guid": "763b4067-7a72-f235-015a-899337f9bdbe",
        "_active": false
      },
      "source": "## Resolving the Boat structure\n\nHere I'm going to try to cluster the images based on boat, automatically. This can be useful for us in a variety of ways, for example it would allow us to create a separate model for each boat, or mask out which parts of the boat can't contain fish in order to help our classifier detect the fish.",
      "execution_count": null,
      "outputs": [],
      "execution_state": "idle"
    },
    {
      "cell_type": "code",
      "execution_count": 1,
      "metadata": {
        "_cell_guid": "1e66f784-36ea-d754-8e13-4b518122e935",
        "_active": false
      },
      "outputs": [],
      "source": "import pandas as pd\nimport numpy as np\nimport glob\nfrom sklearn import cluster\nfrom scipy.misc import imread\nimport cv2\nimport skimage.measure as sm\n# import progressbar\nimport multiprocessing\nimport random\nimport matplotlib.pyplot as plt\nimport seaborn as sns\n%matplotlib inline\nnew_style = {'grid': False}\nplt.rc('axes', **new_style)\n\n# Function to show 4 images\ndef show_four(imgs, title):\n    #select_imgs = [np.random.choice(imgs) for _ in range(4)]\n    select_imgs = [imgs[np.random.choice(len(imgs))] for _ in range(4)]\n    _, ax = plt.subplots(1, 4, sharex='col', sharey='row', figsize=(20, 3))\n    plt.suptitle(title, size=20)\n    for i, img in enumerate(select_imgs):\n        ax[i].imshow(img)\n\n# Function to show 8 images\ndef show_eight(imgs, title):\n    select_imgs = [imgs[np.random.choice(len(imgs))] for _ in range(8)]\n    _, ax = plt.subplots(2, 4, sharex='col', sharey='row', figsize=(20, 6))\n    plt.suptitle(title, size=20)\n    for i, img in enumerate(select_imgs):\n        ax[i // 4, i % 4].imshow(img)",
      "execution_state": "idle"
    },
    {
      "cell_type": "code",
      "execution_count": 2,
      "metadata": {
        "_cell_guid": "8e7db3d1-ec18-a08d-556a-ba15bc2eb4fd",
        "_active": false
      },
      "outputs": [],
      "source": "select = 500 # Only load 500 images for speed\n# Data loading\ntrain_files = sorted(glob.glob('../input/train/*/*.jpg'), key=lambda x: random.random())[:select]\ntrain = np.array([imread(img) for img in train_files])\nprint('Length of train {}'.format(len(train)))",
      "execution_state": "idle"
    },
    {
      "cell_type": "markdown",
      "metadata": {
        "_cell_guid": "8ba73715-450f-e516-0fae-2031db9d3d9e",
        "_active": false
      },
      "source": "### Image Size\n\nThe images in the training set are not all the same size, but rather there are a few distinct image sizes that we have to work with. Maybe there are some image sizes which only contain a single boat? Let's try treating the image sizes as BoatIDs and check!",
      "execution_count": null,
      "outputs": [],
      "execution_state": "idle"
    },
    {
      "cell_type": "code",
      "execution_count": 3,
      "metadata": {
        "_cell_guid": "f5d08060-612d-0277-2030-194ec363d60a",
        "_active": false
      },
      "outputs": [],
      "source": "print('Sizes in train:')\nshapes = np.array([str(img.shape) for img in train])\npd.Series(shapes).value_counts()",
      "execution_state": "idle"
    },
    {
      "cell_type": "code",
      "execution_count": 4,
      "metadata": {
        "_cell_guid": "52406413-eb79-ef86-ad36-8f9fc83c3787",
        "_active": false
      },
      "outputs": [],
      "source": "for uniq in pd.Series(shapes).unique():\n    show_four(train[shapes == uniq], 'Images with shape: {}'.format(uniq))\n    plt.show()",
      "execution_state": "idle"
    },
    {
      "cell_type": "markdown",
      "metadata": {
        "_cell_guid": "1527a6ad-88db-3533-bcd9-7a5277f22395",
        "_active": false
      },
      "source": "Here we can see that, with the exception of (854, 1518, 3), all the other image sizes all contain more than one boat. It looks like while this may be helpful, we need to take another approach to truly separate the boats.\n\n## Boat Clustering\n\nHere I'm just going to work on just these 500 loaded images for speed, but there's nothing stopping you from doing exactly the same thing with all the images.\n\nMy approach has three steps:\n- Normalise all the images by subtracting the mean (of that image) and dividing by the stdev.\n- Treat the mean absolute pixel error between the images as the distance between the image.\n- Use this to create a precomputed distance matrix, and then pass the points to DBSCAN to create the boat clusters.",
      "execution_count": null,
      "outputs": [],
      "execution_state": "idle"
    },
    {
      "cell_type": "code",
      "execution_count": 5,
      "metadata": {
        "_cell_guid": "81829c5d-bc2d-9938-cf35-16b26ff95f95",
        "_active": false
      },
      "outputs": [],
      "source": "# Function for computing distance between images\ndef compare(args):\n    img, img2 = args\n    img = (img - img.mean()) / img.std()\n    img2 = (img2 - img2.mean()) / img2.std()\n    return np.mean(np.abs(img - img2))\n\n# Resize the images to speed it up.\ntrain = [cv2.resize(img, (224, 224), cv2.INTER_LINEAR) for img in train]\n\n# Create the distance matrix in a multithreaded fashion\npool = multiprocessing.Pool(8)\n#bar = progressbar.ProgressBar(max=len(train))\ndistances = np.zeros((len(train), len(train)))\nfor i, img in enumerate(train): #enumerate(bar(train)):\n    all_imgs = [(img, f) for f in train]\n    dists = pool.map(compare, all_imgs)\n    distances[i, :] = dists",
      "execution_state": "idle"
    },
    {
      "cell_type": "markdown",
      "metadata": {
        "_cell_guid": "44cb4fa7-b3bb-f60a-0881-82b52d38f5bb",
        "_active": false
      },
      "source": "Now I have a NxN matrix where N is the number of images, denoting the distances between the images.\n\nSome clustering algorithms in SKLearn allow you to use a precomputed distance matrix instead of letting the algorithm compute it, which is very useful in cases like here where you can work out the distance between points but you can't give each image coordinates. Here I'll be using the DBSCAN algorithm.\n\nLet's take a peek at our distance matrix:",
      "execution_count": null,
      "outputs": [],
      "execution_state": "idle"
    },
    {
      "cell_type": "code",
      "execution_count": 6,
      "metadata": {
        "_cell_guid": "53f86c11-bb71-97b0-8604-fe8c19bcc3c7",
        "_active": false
      },
      "outputs": [],
      "source": "print(distances)\nplt.hist(distances.flatten(), bins=50)\nplt.title('Histogram of distance matrix')\nprint('')",
      "execution_state": "idle"
    },
    {
      "cell_type": "markdown",
      "metadata": {
        "_cell_guid": "d0e8103e-9b2f-16e4-795a-d518d3083149",
        "_active": false
      },
      "source": "We can see here that we have an area below 0.8. My hypothesis is that this is the area where two images are of the same boat. By default, DBSCAN considers up to a 0.5 distance to be in the same cluster. I tweaked the parameters and found that 0.6 is the best value, which makes reasonable sense looking at the histogram.",
      "execution_count": null,
      "outputs": [],
      "execution_state": "idle"
    },
    {
      "cell_type": "code",
      "execution_count": 7,
      "metadata": {
        "_cell_guid": "60ae0f5d-a3d6-4bb5-18b2-f2fe847ad493",
        "_active": false
      },
      "outputs": [],
      "source": "cls = cluster.DBSCAN(metric='precomputed', min_samples=5, eps=0.6)\ny = cls.fit_predict(distances)\nprint(y)\nprint('Cluster sizes:')\nprint(pd.Series(y).value_counts())",
      "execution_state": "idle"
    },
    {
      "cell_type": "code",
      "execution_count": 8,
      "metadata": {
        "_cell_guid": "efdf45b6-e794-28b2-784a-06eef3275437",
        "_active": false
      },
      "outputs": [],
      "source": "for uniq in pd.Series(y).value_counts().index:\n    if uniq != -1:\n        size = len(np.array(train)[y == uniq])\n        if size > 10:\n            show_eight(np.array(train)[y == uniq], 'BoatID: {} - Image count {}'.format(uniq, size))\n            plt.show()\n        else:\n            show_four(np.array(train)[y == uniq], 'BoatID: {} - Image count {}'.format(uniq, size))\n            plt.show()            ",
      "execution_state": "idle"
    },
    {
      "cell_type": "markdown",
      "metadata": {
        "_cell_guid": "a27ea1a2-b5f1-5c63-77c9-9c9c791e967c",
        "_active": false
      },
      "source": "This is working surprisingly well!\n\nHowever, we have a bunch of images that haven't been clustered into any BoatID. There are two possible reasons for these:\n1. There are less than 5 images from the boat, which I have set as the threshold for a boatID.\n2. The distance function is not good enough to cluster the images (eg. some images may be in the night vs the day - this would break my algorithm.)",
      "execution_count": null,
      "outputs": [],
      "execution_state": "idle"
    },
    {
      "cell_type": "code",
      "execution_count": 9,
      "metadata": {
        "_cell_guid": "8a7ed1c0-da9e-0d5c-cec9-6142cb40c99f",
        "_active": false
      },
      "outputs": [],
      "source": "size = len(np.array(train)[y == -1])\nshow_eight(np.array(train)[y == -1], 'BoatID: {} (Unclassified images) - Image count {}'.format(-1, size))",
      "execution_state": "idle"
    },
    {
      "cell_type": "markdown",
      "metadata": {
        "_cell_guid": "cf661938-0b26-def0-1662-40ff145153f5",
        "_active": false
      },
      "source": "Some of these I can cluster by eye, so it looks like the algorithm needs some tweaking to be able to cluster every image!\n\nHowever, I think this can be considered a sucess as I've managed to cluster the boats very precisely, while clustering >75% of the boats. Since this is unsupervised, it can be run on the test set to in order to understand which boat is which!\n\nAny feedback is very much appreciated, along with any upvotes for motivation ;)\n\nGood luck!",
      "execution_count": null,
      "outputs": [],
      "execution_state": "idle"
    }
  ]
}