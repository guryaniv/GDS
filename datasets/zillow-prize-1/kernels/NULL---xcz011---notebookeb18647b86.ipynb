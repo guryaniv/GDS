{
  "cells": [
    {
      "cell_type": "markdown",
      "metadata": {
        "_cell_guid": "58dc3b14-4dd7-6bfa-0a0a-3ffdfe30dd5f"
      },
      "source": [
        "**BGM_Grid_Search**"
      ]
    },
    {
      "cell_type": "code",
      "execution_count": null,
      "metadata": {
        "_cell_guid": "e99336e3-3506-b603-a308-3dce9d312c76"
      },
      "outputs": [],
      "source": [
        "# This Python 3 environment comes with many helpful analytics libraries installed\n",
        "# It is defined by the kaggle/python docker image: https://github.com/kaggle/docker-python\n",
        "# For example, here's several helpful packages to load in \n",
        "\n",
        "import numpy as np # linear algebra\n",
        "import pandas as pd # data processing, CSV file I/O (e.g. pd.read_csv)\n",
        "\n",
        "# Input data files are available in the \"../input/\" directory.\n",
        "# For example, running this (by clicking run or pressing Shift+Enter) will list the files in the input directory\n",
        "\n",
        "from subprocess import check_output\n",
        "print(check_output([\"ls\", \"../input\"]).decode(\"utf8\"))\n",
        "\n",
        "# Any results you write to the current directory are saved as output."
      ]
    },
    {
      "cell_type": "code",
      "execution_count": null,
      "metadata": {
        "_cell_guid": "7bbb1fe7-509c-a09a-99c4-6cd6a17d57f6"
      },
      "outputs": [],
      "source": [
        "import numpy as np\n",
        "import pandas as pd\n",
        "import lightgbm as lgb\n",
        "import gc\n",
        "from sklearn.model_selection import GridSearchCV"
      ]
    },
    {
      "cell_type": "code",
      "execution_count": null,
      "metadata": {
        "_cell_guid": "e146d256-a13c-f351-5dcf-54ebbe1b0724"
      },
      "outputs": [],
      "source": [
        "print('Loading data ...')\n",
        "\n",
        "train = pd.read_csv('../input/train_2016.csv')\n",
        "prop = pd.read_csv('../input/properties_2016.csv')\n",
        "print('Finished load data.')"
      ]
    },
    {
      "cell_type": "markdown",
      "metadata": {
        "_cell_guid": "1219963f-739a-de0b-ac52-27fa0abea637"
      },
      "source": [
        "train test data split and merge"
      ]
    },
    {
      "cell_type": "code",
      "execution_count": null,
      "metadata": {
        "_cell_guid": "9a8fb12d-99de-e6fb-b93f-7d49de508a14"
      },
      "outputs": [],
      "source": [
        "for c, dtype in zip(prop.columns, prop.dtypes):\t\n",
        "    if dtype == np.float64:\t\t\n",
        "        prop[c] = prop[c].astype(np.float32)\n",
        "\n",
        "df_train = train.merge(prop, how='left', on='parcelid')\n",
        "x_train = df_train.drop(['parcelid', 'logerror', 'transactiondate', 'propertyzoningdesc', 'propertycountylandusecode'], axis=1)\n",
        "y_train = df_train['logerror'].values\n",
        "print(x_train.shape, y_train.shape)\n",
        "\n",
        "train_columns = x_train.columns\n",
        "\n",
        "for c in x_train.dtypes[x_train.dtypes == object].index.values:\n",
        "    x_train[c] = (x_train[c] == True)\n",
        "split = 90000\n",
        "x_train, y_train, x_valid, y_valid = x_train[:split], y_train[:split], x_train[split:], y_train[split:]\n",
        "x_train = x_train.values.astype(np.float32, copy=False)\n",
        "x_valid = x_valid.values.astype(np.float32, copy=False)\n",
        "\n",
        "d_train = lgb.Dataset(x_train, label=y_train)\n",
        "d_valid = lgb.Dataset(x_valid, label=y_valid)\n",
        "watchlist = [d_valid]"
      ]
    },
    {
      "cell_type": "markdown",
      "metadata": {
        "_cell_guid": "d089edc1-fe95-4540-a92f-296e6812d9d9"
      },
      "source": [
        "model param"
      ]
    },
    {
      "cell_type": "code",
      "execution_count": null,
      "metadata": {
        "_cell_guid": "c8ba54ae-c54c-87b2-478f-b67cebfe5510"
      },
      "outputs": [],
      "source": [
        "gbm = lgb.LGBMRegressor(objective='regression',\n",
        "                        max_bin=15,\n",
        "                        learning_rate=0.0021,\n",
        "                        num_leaves = 80\n",
        "                       )"
      ]
    },
    {
      "cell_type": "code",
      "execution_count": null,
      "metadata": {
        "_cell_guid": "287841c9-4aaa-e939-8765-c9b56b14319c"
      },
      "outputs": [],
      "source": [
        "test1 = gbm.fit(x_train, y_train)"
      ]
    },
    {
      "cell_type": "code",
      "execution_count": null,
      "metadata": {
        "_cell_guid": "d01ad0f6-e7a7-b4c4-47fb-aa571054b2ef"
      },
      "outputs": [],
      "source": [
        "print(\"Prepare for the prediction ...\")\n",
        "sample = pd.read_csv('../input/sample_submission.csv')\n",
        "sample['parcelid'] = sample['ParcelId']\n",
        "df_test = sample.merge(prop, on='parcelid', how='left')\n",
        "del sample, prop; gc.collect()\n",
        "x_test = df_test[train_columns]\n",
        "del df_test; gc.collect()\n",
        "for c in x_test.dtypes[x_test.dtypes == object].index.values:\n",
        "    x_test[c] = (x_test[c] == True)\n",
        "x_test = x_test.values.astype(np.float32, copy=False)"
      ]
    },
    {
      "cell_type": "code",
      "execution_count": null,
      "metadata": {
        "_cell_guid": "cbf7c7b4-dd38-fc7b-f85b-74e6f22f5a33"
      },
      "outputs": [],
      "source": [
        "print(\"Start prediction ...\")\n",
        "# num_threads > 1 will predict very slow in kernal\n",
        "\n",
        "p_test = test1.predict(x_test)"
      ]
    },
    {
      "cell_type": "code",
      "execution_count": null,
      "metadata": {
        "_cell_guid": "25ce8b32-d930-8dac-ef85-8722a69ed2a0"
      },
      "outputs": [],
      "source": [
        "print(\"Start write result ...\")\n",
        "sub = pd.read_csv('../input/sample_submission.csv')\n",
        "for c in sub.columns[sub.columns != 'ParcelId']:\n",
        "    sub[c] = p_test"
      ]
    },
    {
      "cell_type": "code",
      "execution_count": null,
      "metadata": {
        "_cell_guid": "dbdd21e3-6cbe-e953-243f-9dd2ebeaed30"
      },
      "outputs": [],
      "source": [
        "sub.to_csv('lgb_starter_2.csv', index=False, float_format='%.4f')"
      ]
    },
    {
      "cell_type": "code",
      "execution_count": null,
      "metadata": {
        "_cell_guid": "21dfca91-6cd0-cdf0-625f-995d45c5a3cf"
      },
      "outputs": [],
      "source": ""
    }
  ],
  "metadata": {
    "_change_revision": 0,
    "_is_fork": false,
    "kernelspec": {
      "display_name": "Python 3",
      "language": "python",
      "name": "python3"
    },
    "language_info": {
      "codemirror_mode": {
        "name": "ipython",
        "version": 3
      },
      "file_extension": ".py",
      "mimetype": "text/x-python",
      "name": "python",
      "nbconvert_exporter": "python",
      "pygments_lexer": "ipython3",
      "version": "3.6.0"
    }
  },
  "nbformat": 4,
  "nbformat_minor": 0
}