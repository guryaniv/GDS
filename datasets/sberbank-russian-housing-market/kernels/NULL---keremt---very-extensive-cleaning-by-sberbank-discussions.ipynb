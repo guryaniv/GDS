{
  "cells": [
    {
      "cell_type": "markdown",
      "metadata": {
        "_cell_guid": "ac30d15a-0d9c-06ba-ed48-fd3c6be4ca5d"
      },
      "source": [
        "# CLEANING DATA OFF "
      ]
    },
    {
      "cell_type": "markdown",
      "metadata": {
        "_cell_guid": "92e6ff73-0de6-5c97-1062-95df4bb58fe9"
      },
      "source": [
        "IN THIS NOTEBOOK WE ARE GETTING RID OFF ERROR AND NOISE BY CLEANING OUT INCONSISTENCIES, DETECTING MISPLACED VALUES AND PUTTING THEM INTO THE RIGHT CELLS."
      ]
    },
    {
      "cell_type": "markdown",
      "metadata": {
        "_cell_guid": "7618a244-ec71-ce41-c3c0-26e2cf047f4a"
      },
      "source": [
        "#### DEALING WITH THE FOLLOWING FEATURES\n",
        "* ---------------------------------------------------------------\n",
        "* price_doc: sale price (this is the target variable)\n",
        "* id: transaction id\n",
        "* timestamp: date of transaction\n",
        "* full_sq: total area in square meters, including loggias, balconies and other non-residential areas\n",
        "* life_sq: living area in square meters, excluding loggias, balconies and other non-residential areas\n",
        "* floor: for apartments, floor of the building\n",
        "* max_floor: number of floors in the building\n",
        "* material: wall material\n",
        "* build_year: year built\n",
        "* num_room: number of living rooms\n",
        "* kitch_sq: kitchen area\n",
        "* state: apartment condition\n",
        "* product_type: owner-occupier purchase or investment\n",
        "* sub_area: name of the district"
      ]
    },
    {
      "cell_type": "code",
      "execution_count": null,
      "metadata": {
        "_cell_guid": "7a0c1f4c-09b3-8562-5b15-44293a8fa13e"
      },
      "outputs": [],
      "source": [
        "import pandas as pd\n",
        "import numpy as np\n",
        "import matplotlib.pyplot as plt\n",
        "%matplotlib nbagg\n",
        "import xgboost as xgb\n",
        "import seaborn as sns"
      ]
    },
    {
      "cell_type": "code",
      "execution_count": null,
      "metadata": {
        "_cell_guid": "ab4cf420-8926-300a-87c4-a09eb263e53b"
      },
      "outputs": [],
      "source": [
        "train = pd.read_csv(\"../input/train.csv\", encoding= \"utf_8\")\n",
        "test = pd.read_csv(\"../input/test.csv\", encoding= \"utf_8\")"
      ]
    },
    {
      "cell_type": "markdown",
      "metadata": {
        "_cell_guid": "282b5552-22f3-5ebd-7d11-e3b64afa4916"
      },
      "source": [
        "# IMPORTANT NOTES ABOUT FEATURES\n",
        "THESE ARE SOME OF THE SUMMARY NOTES GAINED FROM KAGGLE DISCUSSIONS, QUESTIONS AND ANSWERS FROM SBERBANK\n",
        "\n",
        "* CHECK LIFE SQ, FULL SQ, KITCH SQ FOR CONSISTENCY (DONE)\n",
        "* BUILD YEAR CAN BE IN FUTURE - PRE INVESTMENT TYPE (DONE)\n",
        "* BUILD YEAR 0 AND 1 ARE MISTAKES (DONE)\n",
        "* CHECK TRAIN AND TEST PRODUCT TYPES (DONE)\n",
        "* CHECK NUM OF ROOMS FOR CONSISTENCY (DONE)\n",
        "* MATERIAL EXPLAINED: 1 - panel, 2 - brick, 3 - wood, 4 - mass concrete, 5 - breezeblock, 6 - mass concrete plus brick\n",
        "* STATE EXPLAINED: 4 BEST 1 WORST\n",
        "* KITCHEN INCLUDED IN LIFE SQ CHECK INCONSISTENCY (DONE)\n",
        "* FULL SQ > LIFE SQ (MOST PROBABLY) (DONE)\n",
        "* KM DISTANCES ARE AIRLINE DISTANCES\n",
        "* RAION POPUL AND FULL ALL ARE SAME CALC FROM DIFF SOURCES"
      ]
    },
    {
      "cell_type": "markdown",
      "metadata": {
        "_cell_guid": "26b99e18-6cae-7cf1-fa27-2989cce175d3"
      },
      "source": [
        "### FIRST SET OF FEATURES"
      ]
    },
    {
      "cell_type": "code",
      "execution_count": null,
      "metadata": {
        "_cell_guid": "fb27eff5-98a5-71cc-2120-b18a85770399"
      },
      "outputs": [],
      "source": [
        "first_feat = [\"id\",\"timestamp\",\"price_doc\", \"full_sq\", \"life_sq\",\n",
        "\"floor\", \"max_floor\", \"material\", \"build_year\", \"num_room\",\n",
        "\"kitch_sq\", \"state\", \"product_type\", \"sub_area\"]"
      ]
    },
    {
      "cell_type": "code",
      "execution_count": null,
      "metadata": {
        "_cell_guid": "ac08f390-c877-d499-3714-45800d311d99"
      },
      "outputs": [],
      "source": [
        "first_feat = [\"id\",\"timestamp\", \"full_sq\", \"life_sq\",\n",
        "\"floor\", \"max_floor\", \"material\", \"build_year\", \"num_room\",\n",
        "\"kitch_sq\", \"state\", \"product_type\", \"sub_area\"]"
      ]
    },
    {
      "cell_type": "markdown",
      "metadata": {
        "_cell_guid": "74b28003-c201-f274-fb70-85ae41e4e860"
      },
      "source": [
        "#### CORRECTIONS RULES FOR FULL_SQ AND LIFE_SQ (APPLY TO TRAIN AND TEST):\n",
        " * IF LIFE SQ >= FULL SQ MAKE LIFE SQ NP.NAN\n",
        " * IF LIFE SQ < 5 NP.NAN\n",
        " * IF FULL SQ < 5 NP.NAN \n",
        " * KITCH SQ < LIFE SQ\n",
        " * IF KITCH SQ == 0 OR 1 NP.NAN\n",
        " * CHECK FOR OUTLIERS IN LIFE SQ, FULL SQ AND KITCH SQ\n",
        " * LIFE SQ / FULL SQ MUST BE CONSISTENCY (0.3 IS A CONSERVATIVE RATIO)"
      ]
    },
    {
      "cell_type": "code",
      "execution_count": null,
      "metadata": {
        "_cell_guid": "cffb9148-ce90-20d6-f291-83c7b87eadd6"
      },
      "outputs": [],
      "source": [
        "bad_index = train[train.life_sq > train.full_sq].index\n",
        "train.ix[bad_index, \"life_sq\"] = np.NaN"
      ]
    },
    {
      "cell_type": "code",
      "execution_count": null,
      "metadata": {
        "_cell_guid": "f11ba571-2b13-d395-09ac-998db061ae6f"
      },
      "outputs": [],
      "source": [
        "equal_index = [601,1896,2791]\n",
        "test.ix[equal_index, \"life_sq\"] = test.ix[equal_index, \"full_sq\"]"
      ]
    },
    {
      "cell_type": "code",
      "execution_count": null,
      "metadata": {
        "_cell_guid": "f8b0c7f5-b321-504b-9f9d-3660d30d197a"
      },
      "outputs": [],
      "source": [
        "bad_index = test[test.life_sq > test.full_sq].index\n",
        "test.ix[bad_index, \"life_sq\"] = np.NaN"
      ]
    },
    {
      "cell_type": "code",
      "execution_count": null,
      "metadata": {
        "_cell_guid": "77d2cac4-1056-55cd-b1e5-8d0815ae4ce8"
      },
      "outputs": [],
      "source": [
        "bad_index = train[train.life_sq < 5].index\n",
        "train.ix[bad_index, \"life_sq\"] = np.NaN"
      ]
    },
    {
      "cell_type": "code",
      "execution_count": null,
      "metadata": {
        "_cell_guid": "aa4b8544-71b9-b6c1-d76f-1dd036e184b7"
      },
      "outputs": [],
      "source": [
        "bad_index = test[test.life_sq < 5].index\n",
        "test.ix[bad_index, \"life_sq\"] = np.NaN"
      ]
    },
    {
      "cell_type": "code",
      "execution_count": null,
      "metadata": {
        "_cell_guid": "f284f622-01c4-d7ac-9ed5-b5fb2b462055"
      },
      "outputs": [],
      "source": [
        "bad_index = train[train.full_sq < 5].index\n",
        "train.ix[bad_index, \"full_sq\"] = np.NaN"
      ]
    },
    {
      "cell_type": "code",
      "execution_count": null,
      "metadata": {
        "_cell_guid": "90464075-4fea-af11-1b9e-97e8782f6475"
      },
      "outputs": [],
      "source": [
        "bad_index = test[test.full_sq < 5].index\n",
        "test.ix[bad_index, \"full_sq\"] = np.NaN"
      ]
    },
    {
      "cell_type": "code",
      "execution_count": null,
      "metadata": {
        "_cell_guid": "3fc29b89-8472-e87c-bde1-28fd9e6e6072"
      },
      "outputs": [],
      "source": [
        "kitch_is_build_year = [13117]\n",
        "train.ix[kitch_is_build_year, \"build_year\"] = train.ix[kitch_is_build_year, \"kitch_sq\"]"
      ]
    },
    {
      "cell_type": "code",
      "execution_count": null,
      "metadata": {
        "_cell_guid": "0bb6c1e7-1e9a-ea44-2330-910fc381d33b"
      },
      "outputs": [],
      "source": [
        "bad_index = train[train.kitch_sq >= train.life_sq].index\n",
        "train.ix[bad_index, \"kitch_sq\"] = np.NaN"
      ]
    },
    {
      "cell_type": "code",
      "execution_count": null,
      "metadata": {
        "_cell_guid": "3989c892-82e8-7b3e-a4c8-080755e41d4b"
      },
      "outputs": [],
      "source": [
        "bad_index = test[test.kitch_sq >= test.life_sq].index\n",
        "test.ix[bad_index, \"kitch_sq\"] = np.NaN"
      ]
    },
    {
      "cell_type": "code",
      "execution_count": null,
      "metadata": {
        "_cell_guid": "bf7bbc4b-d187-5159-a758-0542fc929b0c"
      },
      "outputs": [],
      "source": [
        "bad_index = train[(train.kitch_sq == 0).values + (train.kitch_sq == 1).values].index\n",
        "train.ix[bad_index, \"kitch_sq\"] = np.NaN"
      ]
    },
    {
      "cell_type": "code",
      "execution_count": null,
      "metadata": {
        "_cell_guid": "9cab2778-522b-a002-d87d-ed48f71d5a73"
      },
      "outputs": [],
      "source": [
        "bad_index = test[(test.kitch_sq == 0).values + (test.kitch_sq == 1).values].index\n",
        "test.ix[bad_index, \"kitch_sq\"] = np.NaN"
      ]
    },
    {
      "cell_type": "code",
      "execution_count": null,
      "metadata": {
        "_cell_guid": "8b2d7590-d3a4-7f97-a25d-e0c82323e441"
      },
      "outputs": [],
      "source": [
        "bad_index = train[(train.full_sq > 210) * (train.life_sq / train.full_sq < 0.3)].index\n",
        "train.ix[bad_index, \"full_sq\"] = np.NaN"
      ]
    },
    {
      "cell_type": "code",
      "execution_count": null,
      "metadata": {
        "_cell_guid": "736d5218-3c1f-728d-f2d9-95d5e2bd6a26"
      },
      "outputs": [],
      "source": [
        "bad_index = test[(test.full_sq > 150) * (test.life_sq / test.full_sq < 0.3)].index\n",
        "test.ix[bad_index, \"full_sq\"] = np.NaN"
      ]
    },
    {
      "cell_type": "code",
      "execution_count": null,
      "metadata": {
        "_cell_guid": "6187af3c-4f78-cdd0-71fd-c21224bc54c0"
      },
      "outputs": [],
      "source": [
        "bad_index = train[train.life_sq > 300].index\n",
        "train.ix[bad_index, [\"life_sq\", \"full_sq\"]] = np.NaN"
      ]
    },
    {
      "cell_type": "code",
      "execution_count": null,
      "metadata": {
        "_cell_guid": "3bf75073-e363-6c5a-0f6c-d337b8c2d5bb"
      },
      "outputs": [],
      "source": [
        "bad_index = test[test.life_sq > 200].index\n",
        "test.ix[bad_index, [\"life_sq\", \"full_sq\"]] = np.NaN"
      ]
    },
    {
      "cell_type": "markdown",
      "metadata": {
        "_cell_guid": "48ddcf44-b0ff-ea63-7b95-6607375c2eb1"
      },
      "source": [
        "#### BUILDYEAR CAN BE IN FUTURE (TYPE OF PRODUCTS)\n",
        "* CHECK BUILD YEAR FOR EACH PRODUCT TYPE\n",
        "* CHECK BUILD YEAR FOR CONSISTENCY (IF BUILD YEAR < 1500)"
      ]
    },
    {
      "cell_type": "code",
      "execution_count": null,
      "metadata": {
        "_cell_guid": "96077005-2178-0828-e48b-b0c81678dcc0"
      },
      "outputs": [],
      "source": [
        "train.product_type.value_counts(normalize= True)"
      ]
    },
    {
      "cell_type": "code",
      "execution_count": null,
      "metadata": {
        "_cell_guid": "c124bb45-8b19-46fc-31ee-450685965fe9"
      },
      "outputs": [],
      "source": [
        "test.product_type.value_counts(normalize= True)"
      ]
    },
    {
      "cell_type": "code",
      "execution_count": null,
      "metadata": {
        "_cell_guid": "31ba8792-e214-3c03-c813-1326a15e6514"
      },
      "outputs": [],
      "source": [
        "bad_index = train[train.build_year < 1500].index\n",
        "train.ix[bad_index, \"build_year\"] = np.NaN"
      ]
    },
    {
      "cell_type": "code",
      "execution_count": null,
      "metadata": {
        "_cell_guid": "f473318d-6771-47d5-7164-9b3a92cfddf8"
      },
      "outputs": [],
      "source": [
        "bad_index = test[test.build_year < 1500].index\n",
        "test.ix[bad_index, \"build_year\"] = np.NaN"
      ]
    },
    {
      "cell_type": "markdown",
      "metadata": {
        "_cell_guid": "145e293c-9061-a8e3-4b5b-0336691b6f6c"
      },
      "source": [
        "#### CHECK NUM OF ROOMS\n",
        "* IS THERE A OUTLIER ?\n",
        "* A VERY SMALL OR LARGE NUMBER ?\n",
        "* LIFE SQ / ROOM > MIN ROOM SQ (LET'S SAY 5 SQ FOR A ROOM MIGHT BE OK)\n",
        "* IF NUM ROOM == 0 SET TO NP.NAN\n",
        "* DETECT ABNORMAL NUM ROOMS GIVEN LIFE AND FULL SQ"
      ]
    },
    {
      "cell_type": "code",
      "execution_count": null,
      "metadata": {
        "_cell_guid": "e1fbddfd-237d-4025-9e2a-1b49a5ef69bf"
      },
      "outputs": [],
      "source": [
        "bad_index = train[train.num_room == 0].index \n",
        "train.ix[bad_index, \"num_room\"] = np.NaN"
      ]
    },
    {
      "cell_type": "code",
      "execution_count": null,
      "metadata": {
        "_cell_guid": "c0e5facb-a95c-4520-ba29-9b9187b52d42"
      },
      "outputs": [],
      "source": [
        "bad_index = test[test.num_room == 0].index \n",
        "test.ix[bad_index, \"num_room\"] = np.NaN"
      ]
    },
    {
      "cell_type": "code",
      "execution_count": null,
      "metadata": {
        "_cell_guid": "a0297d48-976c-1d4d-8c5d-4d6d57f4755d"
      },
      "outputs": [],
      "source": [
        "bad_index = [10076, 11621, 17764, 19390, 24007, 26713, 29172]\n",
        "train.ix[bad_index, \"num_room\"] = np.NaN"
      ]
    },
    {
      "cell_type": "code",
      "execution_count": null,
      "metadata": {
        "_cell_guid": "4f48f542-8349-09b1-f2db-b403ab69fe85"
      },
      "outputs": [],
      "source": [
        "bad_index = [3174, 7313]\n",
        "test.ix[bad_index, \"num_room\"] = np.NaN"
      ]
    },
    {
      "cell_type": "markdown",
      "metadata": {
        "_cell_guid": "890a4616-9376-298b-34a1-b92932fc671f"
      },
      "source": [
        "#### CHECK FLOOR AND MAX FLOOR \n",
        "* FLOOR == 0 AND MAX FLOOR == 0 POSSIBLE ??? WE DON'T HAVE IT IN TEST SO NP.NAN\n",
        "* FLOOR == 0 0R MAX FLOOR == 0 ??? WE DON'T HAVE IT IN TEST SO NP.NAN (NP.NAN IF MAX FLOOR == 0 FOR BOTH TEST TRAIN)\n",
        "* CHECK FLOOR < MAX FLOOR (IF FLOOR > MAX FLOOR -> MAX FLOOR NP.NAN)\n",
        "* CHECK FOR OUTLIERS"
      ]
    },
    {
      "cell_type": "code",
      "execution_count": null,
      "metadata": {
        "_cell_guid": "d64b96f3-8bc2-20b5-7deb-b1953ed63254"
      },
      "outputs": [],
      "source": [
        "bad_index = train[(train.floor == 0).values * (train.max_floor == 0).values].index\n",
        "train.ix[bad_index, [\"max_floor\", \"floor\"]] = np.NaN"
      ]
    },
    {
      "cell_type": "code",
      "execution_count": null,
      "metadata": {
        "_cell_guid": "92e316e1-a0fe-3b77-b593-5bf425b759c1"
      },
      "outputs": [],
      "source": [
        "bad_index = train[train.floor == 0].index\n",
        "train.ix[bad_index, \"floor\"] = np.NaN"
      ]
    },
    {
      "cell_type": "code",
      "execution_count": null,
      "metadata": {
        "_cell_guid": "fd601774-67f2-c69b-db5e-b2d8364abcab"
      },
      "outputs": [],
      "source": [
        "bad_index = train[train.max_floor == 0].index\n",
        "train.ix[bad_index, \"max_floor\"] = np.NaN"
      ]
    },
    {
      "cell_type": "code",
      "execution_count": null,
      "metadata": {
        "_cell_guid": "b786a126-000e-591b-3165-dc2b249d6f73"
      },
      "outputs": [],
      "source": [
        "bad_index = test[test.max_floor == 0].index\n",
        "test.ix[bad_index, \"max_floor\"] = np.NaN"
      ]
    },
    {
      "cell_type": "code",
      "execution_count": null,
      "metadata": {
        "_cell_guid": "18f46327-9c77-d9d1-e472-08b6b01a78ea"
      },
      "outputs": [],
      "source": [
        "bad_index = train[train.floor > train.max_floor].index\n",
        "train.ix[bad_index, \"max_floor\"] = np.NaN"
      ]
    },
    {
      "cell_type": "code",
      "execution_count": null,
      "metadata": {
        "_cell_guid": "b63b19b3-0fb8-4eac-cdd6-d158bae02f4c"
      },
      "outputs": [],
      "source": [
        "bad_index = test[test.floor > test.max_floor].index\n",
        "test.ix[bad_index, \"max_floor\"] = np.NaN"
      ]
    },
    {
      "cell_type": "code",
      "execution_count": null,
      "metadata": {
        "_cell_guid": "3427bf4c-6cc7-3a31-2b35-74c74b24338e"
      },
      "outputs": [],
      "source": [
        "train.floor.describe(percentiles= [0.9999])"
      ]
    },
    {
      "cell_type": "code",
      "execution_count": null,
      "metadata": {
        "_cell_guid": "0a048245-0403-e028-3106-286de5143f61"
      },
      "outputs": [],
      "source": [
        "bad_index = [23584]\n",
        "train.ix[bad_index, \"floor\"] = np.NaN"
      ]
    },
    {
      "cell_type": "markdown",
      "metadata": {
        "_cell_guid": "314cc415-e3ec-2717-f6b7-0d11968194ba"
      },
      "source": [
        "CHECK MATERIAL"
      ]
    },
    {
      "cell_type": "code",
      "execution_count": null,
      "metadata": {
        "_cell_guid": "537dfd53-33d8-b3e6-b12f-8b6a23225ba7"
      },
      "outputs": [],
      "source": [
        "train.material.value_counts()"
      ]
    },
    {
      "cell_type": "code",
      "execution_count": null,
      "metadata": {
        "_cell_guid": "0034a227-506e-af93-e339-69f72c4efef2"
      },
      "outputs": [],
      "source": [
        "test.material.value_counts()"
      ]
    },
    {
      "cell_type": "markdown",
      "metadata": {
        "_cell_guid": "a97ca283-8774-d85b-50af-8f2a2d87fc06"
      },
      "source": [
        "CHECK STATE"
      ]
    },
    {
      "cell_type": "code",
      "execution_count": null,
      "metadata": {
        "_cell_guid": "2aea807e-e3b4-57ec-fad7-6c8889ae8b10"
      },
      "outputs": [],
      "source": [
        "train.state.value_counts()"
      ]
    },
    {
      "cell_type": "code",
      "execution_count": null,
      "metadata": {
        "_cell_guid": "a0da4bb7-eddb-8276-7441-9ba45aa6edb6"
      },
      "outputs": [],
      "source": [
        "bad_index = train[train.state == 33].index\n",
        "train.ix[bad_index, \"state\"] = np.NaN"
      ]
    },
    {
      "cell_type": "code",
      "execution_count": null,
      "metadata": {
        "_cell_guid": "8d655728-d22e-1728-455c-7beaa058556b"
      },
      "outputs": [],
      "source": [
        "test.state.value_counts()"
      ]
    },
    {
      "cell_type": "markdown",
      "metadata": {
        "_cell_guid": "1044755f-c5f8-66eb-729a-9c3d3798d913"
      },
      "source": [
        "### SAVE TEST AND TRAIN AS CLEAN"
      ]
    },
    {
      "cell_type": "code",
      "execution_count": null,
      "metadata": {
        "_cell_guid": "d9d37fd8-ae35-0ccc-757f-292436350787"
      },
      "outputs": [],
      "source": [
        "test.to_csv(\"test_clean.csv\", index= False, encoding= \"utf_8\")\n",
        "train.to_csv(\"train_clean.csv\", index = False, encoding= \"utf_8\")"
      ]
    }
  ],
  "metadata": {
    "_change_revision": 0,
    "_is_fork": false,
    "kernelspec": {
      "display_name": "Python 3",
      "language": "python",
      "name": "python3"
    },
    "language_info": {
      "codemirror_mode": {
        "name": "ipython",
        "version": 3
      },
      "file_extension": ".py",
      "mimetype": "text/x-python",
      "name": "python",
      "nbconvert_exporter": "python",
      "pygments_lexer": "ipython3",
      "version": "3.6.0"
    }
  },
  "nbformat": 4,
  "nbformat_minor": 0
}