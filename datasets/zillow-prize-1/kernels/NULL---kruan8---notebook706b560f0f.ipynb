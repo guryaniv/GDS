{
  "cells": [
    {
      "cell_type": "code",
      "execution_count": null,
      "metadata": {
        "_cell_guid": "4199e602-470f-79cc-8814-894f4c66fe2a"
      },
      "outputs": [],
      "source": [
        "# data analysis and wrangling\n",
        "import pandas as pd\n",
        "import numpy as np\n",
        "import random as rnd\n",
        "\n",
        "# visualization\n",
        "import seaborn as sns\n",
        "import matplotlib.pyplot as plt\n",
        "%matplotlib inline"
      ]
    },
    {
      "cell_type": "code",
      "execution_count": null,
      "metadata": {
        "_cell_guid": "0241a738-06e1-2379-b4bd-82b0938c4cd5"
      },
      "outputs": [],
      "source": [
        "train_df = pd.read_csv('../input/train_2016.csv')\n",
        "properties_df = pd.read_csv('../input/properties_2016.csv')\n",
        "#combine = [train_df, test_df]"
      ]
    },
    {
      "cell_type": "code",
      "execution_count": null,
      "metadata": {
        "_cell_guid": "e1cacb13-00bb-027c-9bfd-e92b1c03c646"
      },
      "outputs": [],
      "source": [
        "train_df.info()"
      ]
    },
    {
      "cell_type": "code",
      "execution_count": null,
      "metadata": {
        "_cell_guid": "c4d77412-2004-e547-ee43-e65726f0c59e"
      },
      "outputs": [],
      "source": [
        "properties_df.info()"
      ]
    },
    {
      "cell_type": "code",
      "execution_count": null,
      "metadata": {
        "_cell_guid": "ee2ba6e6-1567-fc68-0025-8f3b23ac4724"
      },
      "outputs": [],
      "source": [
        "properties_df.head()"
      ]
    },
    {
      "cell_type": "code",
      "execution_count": null,
      "metadata": {
        "_cell_guid": "5516234f-9fcb-fc9b-9d64-1f42a964b121"
      },
      "outputs": [],
      "source": [
        "properties_df.describe()"
      ]
    },
    {
      "cell_type": "code",
      "execution_count": null,
      "metadata": {
        "_cell_guid": "c042bedc-a356-0f53-922c-8f9554d7cba3"
      },
      "outputs": [],
      "source": [
        "joined_df = train_df.set_index('parcelid').join(properties_df.set_index('parcelid'))"
      ]
    },
    {
      "cell_type": "code",
      "execution_count": null,
      "metadata": {
        "_cell_guid": "de33bd88-d5a2-3417-7012-ca7727bedbd2"
      },
      "outputs": [],
      "source": [
        "joined_df.head()"
      ]
    },
    {
      "cell_type": "code",
      "execution_count": null,
      "metadata": {
        "_cell_guid": "9ced44f2-483c-d1cb-2df9-7aee860e18c7"
      },
      "outputs": [],
      "source": [
        "df = joined_df[joined_df.logerror.notnull()]"
      ]
    },
    {
      "cell_type": "code",
      "execution_count": null,
      "metadata": {
        "_cell_guid": "68817083-e761-d17a-f8ba-1a4bd9603868"
      },
      "outputs": [],
      "source": [
        "df.describe()"
      ]
    },
    {
      "cell_type": "code",
      "execution_count": null,
      "metadata": {
        "_cell_guid": "182dc01d-dcf2-6e99-dd6d-455f1df9b5f5"
      },
      "outputs": [],
      "source": [
        "df[[\"bedroomcnt\", \"logerror\"]].groupby(['bedroomcnt'], as_index=False).mean().sort_values(by='bedroomcnt', ascending=False)"
      ]
    },
    {
      "cell_type": "code",
      "execution_count": null,
      "metadata": {
        "_cell_guid": "8e6390b9-866a-b967-33d9-1f2f2fc63623"
      },
      "outputs": [],
      "source": ""
    }
  ],
  "metadata": {
    "_change_revision": 0,
    "_is_fork": false,
    "kernelspec": {
      "display_name": "Python 3",
      "language": "python",
      "name": "python3"
    },
    "language_info": {
      "codemirror_mode": {
        "name": "ipython",
        "version": 3
      },
      "file_extension": ".py",
      "mimetype": "text/x-python",
      "name": "python",
      "nbconvert_exporter": "python",
      "pygments_lexer": "ipython3",
      "version": "3.6.0"
    }
  },
  "nbformat": 4,
  "nbformat_minor": 0
}