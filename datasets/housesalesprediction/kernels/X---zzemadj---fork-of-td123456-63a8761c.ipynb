{
  "cells": [
    {
      "cell_type": "code",
      "execution_count": null,
      "metadata": {
        "_cell_guid": "b0a7e991-c7b9-0c28-19f1-87cf63ce8974"
      },
      "outputs": [],
      "source": [
        "import pandas as pd\n",
        "import seaborn as sns\n",
        "import numpy as np # linear algebra\n",
        "import matplotlib\n",
        "import matplotlib.pyplot as plt\n",
        "%matplotlib inline\n",
        "data=pd.read_csv(\"../input/kc_house_data.csv\",parse_dates = ['date'])\n",
        "data['waterfront'] = data['waterfront'].astype('category',ordered=True)\n",
        "data['view'] = data['view'].astype('category',ordered=True)\n",
        "data['condition'] = data['condition'].astype('category',ordered=True)\n",
        "data['grade'] = data['grade'].astype('category',ordered=False)\n",
        "data['zipcode'] = data['zipcode'].astype(str)\n",
        "data = data.sort('date')\n",
        "data.dtypes\n",
        "data.describe()"
      ]
    },
    {
      "cell_type": "code",
      "execution_count": null,
      "metadata": {
        "_cell_guid": "d1cbe388-29b5-acf7-2a2d-f1038e943982"
      },
      "outputs": [],
      "source": [
        "t3=pd.cut (data['yr_built'],bins = [1900, 1925, 1950, 1975, 2000,2025])\n",
        "data['cat_yr']=t3\n",
        "table1=data.pivot_table(['price','sqft_living15'],['bedrooms','cat_yr'], aggfunc=('sum','count'), fill_value = 0)"
      ]
    },
    {
      "cell_type": "code",
      "execution_count": null,
      "metadata": {
        "_cell_guid": "4757c787-16d7-11b3-f666-e2d9e1233768"
      },
      "outputs": [],
      "source": [
        "t2=table1['price']['sum']/table1['price']['count']\n",
        "round(t2)\n",
        "t2.name='avg'\n",
        "t2=t2.astype('int64')\n",
        "table2 = pd.concat([table1['price'], t2], axis=1, join='inner')\n",
        "table2['avg']"
      ]
    },
    {
      "cell_type": "code",
      "execution_count": null,
      "metadata": {
        "_cell_guid": "ec027659-0ad1-a171-b075-bc084eadba92"
      },
      "outputs": [],
      "source": [
        "#table2['avg'].plot()\n",
        "table2['avg'].plot()\n",
        "#sns.kdeplot(x, bw=.2, label=\"bw: 0.2\")\n",
        "#sns.kdeplot(x, bw=2, label=\"bw: 2\")\n",
        "plt.legend();"
      ]
    },
    {
      "cell_type": "code",
      "execution_count": null,
      "metadata": {
        "_cell_guid": "56d66d8f-9932-ed96-aacc-617871f290f8"
      },
      "outputs": [],
      "source": [
        ""
      ]
    }
  ],
  "metadata": {
    "_change_revision": 0,
    "_is_fork": false,
    "kernelspec": {
      "display_name": "Python 3",
      "language": "python",
      "name": "python3"
    },
    "language_info": {
      "codemirror_mode": {
        "name": "ipython",
        "version": 3
      },
      "file_extension": ".py",
      "mimetype": "text/x-python",
      "name": "python",
      "nbconvert_exporter": "python",
      "pygments_lexer": "ipython3",
      "version": "3.5.2"
    }
  },
  "nbformat": 4,
  "nbformat_minor": 0
}