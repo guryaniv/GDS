{
  "cells": [
    {
      "cell_type": "markdown",
      "metadata": {
        "_cell_guid": "2e225d2c-5d32-0e56-e5ae-2414410235d7"
      },
      "source": [
        "Transfer Learning on Stack Exchange Tags\n",
        "========================================"
      ]
    },
    {
      "cell_type": "code",
      "execution_count": null,
      "metadata": {
        "_cell_guid": "ecc07329-c486-779e-41ca-4d39475b1c68"
      },
      "outputs": [],
      "source": [
        "# Imports\n",
        "import numpy as np\n",
        "import pandas as pd\n",
        "import tensorflow as tf\n",
        "from bs4 import BeautifulSoup\n",
        "from IPython.display import display\n",
        "\n",
        "# Convert csv files into dataframes\n",
        "biology_pd = pd.read_csv('../input/biology.csv')\n",
        "cooking_pd = pd.read_csv('../input/cooking.csv')\n",
        "cryptology_pd = pd.read_csv('../input/crypto.csv')\n",
        "diy_pd = pd.read_csv('../input/diy.csv')\n",
        "robotics_pd = pd.read_csv('../input/robotics.csv')\n",
        "travel_pd = pd.read_csv('../input/travel.csv')\n",
        "test_pd = pd.read_csv('../input/test.csv')\n",
        "\n",
        "# Print dataframe heads\n",
        "print('Biology: %i questions' % biology_pd.shape[0])\n",
        "display(biology_pd.head())\n",
        "print('Cooking: %i questions' % cooking_pd.shape[0])\n",
        "display(cooking_pd.head())\n",
        "print('Crytology: %i questions' % cryptology_pd.shape[0])\n",
        "display(cryptology_pd.head())\n",
        "print('DIY: %i questions' % diy_pd.shape[0])\n",
        "display(diy_pd.head())\n",
        "print('Robotics: %i questions' % robotics_pd.shape[0])\n",
        "display(robotics_pd.head())\n",
        "print('Travel: %i questions' % travel_pd.shape[0])\n",
        "display(travel_pd.head())\n",
        "print('Test: %i questions' % test_pd.shape[0])\n",
        "display(test_pd.head())"
      ]
    },
    {
      "cell_type": "code",
      "execution_count": null,
      "metadata": {
        "_cell_guid": "e06ee3f6-fe71-4d82-bb15-eaae92dce8e8"
      },
      "outputs": [],
      "source": [
        "# Convert dataframes to ndarrays\n",
        "biology_np = biology_pd[['title', 'content', 'tags']].as_matrix()\n",
        "cooking_np = cooking_pd[['title', 'content', 'tags']].as_matrix()\n",
        "cryptology_np = cryptology_pd[['title', 'content', 'tags']].as_matrix()\n",
        "diy_np = diy_pd[['title', 'content', 'tags']].as_matrix()\n",
        "robotics_np = robotics_pd[['title', 'content', 'tags']].as_matrix()\n",
        "travel_np = travel_pd[['title', 'content', 'tags']].as_matrix()\n",
        "test_np = test_pd[['title', 'content']].as_matrix()\n",
        "\n",
        "# Parse html\n",
        "def parse_html(data_np):    \n",
        "    for i in range(data_np.shape[0]):\n",
        "        soup = BeautifulSoup(data_np[i,1], 'html.parser')\n",
        "        soup = soup.get_text()\n",
        "        soup = BeautifulSoup(soup, 'html.parser')\n",
        "        soup = soup.decode('utf8')\n",
        "        data_np[i,1] = soup.replace('\\n', ' ')\n",
        "\n",
        "\n",
        "parse_html(biology_np)\n",
        "parse_html(cooking_np)\n",
        "parse_html(cryptology_np)\n",
        "parse_html(diy_np)\n",
        "parse_html(robotics_np)\n",
        "parse_html(travel_np)\n",
        "parse_html(test_np)"
      ]
    },
    {
      "cell_type": "code",
      "execution_count": null,
      "metadata": {
        "_cell_guid": "c369b245-3371-5cda-2e79-e055eacdd05c"
      },
      "outputs": [],
      "source": [
        "biology_x = np.sum(biology_np[:,0] + ' ' + biology_np[:,1])\n",
        "biology_y = np.sum(biology_np[:,2])"
      ]
    },
    {
      "cell_type": "code",
      "execution_count": null,
      "metadata": {
        "_cell_guid": "f610d802-0b84-80e3-a2b3-e7f931ba62a4"
      },
      "outputs": [],
      "source": [
        "cooking_x = np.sum(cooking_np[:,0] + ' ' + cooking_np[:,1])\n",
        "cooking_y = np.sum(cooking_np[:,2])"
      ]
    },
    {
      "cell_type": "code",
      "execution_count": null,
      "metadata": {
        "_cell_guid": "431275df-8ad0-1c12-e568-be4f14028827"
      },
      "outputs": [],
      "source": [
        "cryptology_x = np.sum(cryptology_np[:,0] + ' ' + cryptology_np[:,1])\n",
        "cryptology_y = np.sum(cryptology_np[:,2])"
      ]
    },
    {
      "cell_type": "code",
      "execution_count": null,
      "metadata": {
        "_cell_guid": "733654f6-a4bb-7d7b-8d51-abc7f2672b4e"
      },
      "outputs": [],
      "source": [
        "diy_x = np.sum(diy_np[:,0] + ' ' + diy_np[:,1])\n",
        "diy_y = np.sum(diy_np[:,2])"
      ]
    },
    {
      "cell_type": "code",
      "execution_count": null,
      "metadata": {
        "_cell_guid": "c8383f32-fef7-851a-4cae-a82c4570aaef"
      },
      "outputs": [],
      "source": [
        "robotics_x = np.sum(robotics_np[:,0] + ' ' + robotics_np[:,1])\n",
        "robotics_y = np.sum(robotics_np[:,2])"
      ]
    },
    {
      "cell_type": "code",
      "execution_count": null,
      "metadata": {
        "_cell_guid": "1af2ab07-bb99-7b72-c67f-2be4eb8a4f3f"
      },
      "outputs": [],
      "source": [
        "travel_x = np.sum(travel_np[:,0] + ' ' + travel_np[:,1])\n",
        "travel_y = np.sum(travel_np[:,2])"
      ]
    },
    {
      "cell_type": "code",
      "execution_count": null,
      "metadata": {
        "_cell_guid": "5e93e133-6b7d-853c-e495-ea73632310cb"
      },
      "outputs": [],
      "source": [
        "test_temp = test_np[:,0] + ' ' + test_np[:,1]"
      ]
    },
    {
      "cell_type": "code",
      "execution_count": null,
      "metadata": {
        "_cell_guid": "a809eac7-a306-3695-81dd-0c39fabb6ad3"
      },
      "outputs": [],
      "source": [
        "for i in range(len(test_temp)):\n",
        "    test_temp[i] = test_temp[i].split(' ')"
      ]
    },
    {
      "cell_type": "code",
      "execution_count": null,
      "metadata": {
        "_cell_guid": "16ac7afa-35b6-5b4a-309f-a8f9bfd0b7d1"
      },
      "outputs": [],
      "source": [
        "#print(test_temp)\n",
        "test_x = np.sum(test_temp)"
      ]
    }
  ],
  "metadata": {
    "_change_revision": 0,
    "_is_fork": false,
    "kernelspec": {
      "display_name": "Python 3",
      "language": "python",
      "name": "python3"
    },
    "language_info": {
      "codemirror_mode": {
        "name": "ipython",
        "version": 3
      },
      "file_extension": ".py",
      "mimetype": "text/x-python",
      "name": "python",
      "nbconvert_exporter": "python",
      "pygments_lexer": "ipython3",
      "version": "3.5.2"
    }
  },
  "nbformat": 4,
  "nbformat_minor": 0
}