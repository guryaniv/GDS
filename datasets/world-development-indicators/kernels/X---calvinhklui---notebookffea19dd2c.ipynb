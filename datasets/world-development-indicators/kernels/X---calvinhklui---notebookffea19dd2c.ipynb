{
  "metadata": {
    "kernelspec": {
      "display_name": "Python 3",
      "language": "python",
      "name": "python3"
    },
    "language_info": {
      "codemirror_mode": {
        "name": "ipython",
        "version": 3
      },
      "file_extension": ".py",
      "mimetype": "text/x-python",
      "name": "python",
      "nbconvert_exporter": "python",
      "pygments_lexer": "ipython3",
      "version": "3.5.2"
    }
  },
  "nbformat": 4,
  "nbformat_minor": 0,
  "cells": [
    {
      "metadata": {
        "_cell_guid": "d1e674dd-47e4-673d-0b5e-19427b71df6a",
        "_active": false,
        "collapsed": false
      },
      "source": "# This Python 3 environment comes with many helpful analytics libraries installed\n# It is defined by the kaggle/python docker image: https://github.com/kaggle/docker-python\n# For example, here's several helpful packages to load in \n\nimport numpy as np # linear algebra\nimport pandas as pd # data processing, CSV file I/O (e.g. pd.read_csv)\n\n# Input data files are available in the \"../input/\" directory.\n# For example, running this (by clicking run or pressing Shift+Enter) will list the files in the input directory\n\nfrom subprocess import check_output\nprint(check_output([\"ls\", \"../input\"]).decode(\"utf8\"))\n\n# Any results you write to the current directory are saved as output.",
      "execution_count": 1,
      "cell_type": "code",
      "outputs": [],
      "execution_state": "idle"
    },
    {
      "metadata": {
        "_cell_guid": "ebee2542-191b-3eea-9f18-60c5e62d54e5",
        "_active": false,
        "collapsed": false
      },
      "source": "pd.set_option('display.mpl_style', 'default')",
      "execution_count": null,
      "cell_type": "code",
      "outputs": [],
      "execution_state": "idle"
    },
    {
      "metadata": {
        "_cell_guid": "3a040eb6-85f1-4408-5588-05db79deeb99",
        "_active": false,
        "collapsed": false
      },
      "source": "df = pd.read_csv(\"../input/Indicators.csv\", encoding='utf8')\ndf[0:100]",
      "execution_count": 7,
      "cell_type": "code",
      "outputs": [],
      "execution_state": "idle"
    },
    {
      "metadata": {
        "_cell_guid": "5e8c85a6-4ff6-ff96-3352-7c029e29603b",
        "_active": false,
        "collapsed": false
      },
      "source": "df[0:100][\"Value\"]",
      "execution_count": 8,
      "cell_type": "code",
      "outputs": [],
      "execution_state": "idle"
    },
    {
      "metadata": {
        "_cell_guid": "9e475a65-9f74-6e39-5fc1-c2a17090941b",
        "_active": false,
        "collapsed": false
      },
      "source": "df[0:100][\"Value\"].plot()",
      "execution_count": 6,
      "cell_type": "code",
      "outputs": [],
      "execution_state": "idle"
    },
    {
      "metadata": {
        "_cell_guid": "66395325-678a-0867-0ce3-0e30b57f85f4",
        "_active": true,
        "collapsed": false
      },
      "source": "df.sample(frac=0.5)",
      "execution_count": null,
      "cell_type": "code",
      "outputs": []
    }
  ]
}