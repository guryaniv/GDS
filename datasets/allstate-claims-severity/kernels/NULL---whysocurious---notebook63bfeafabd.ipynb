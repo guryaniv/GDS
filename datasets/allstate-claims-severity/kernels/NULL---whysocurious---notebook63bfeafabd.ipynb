{
  "cells": [
    {
      "cell_type": "code",
      "execution_count": null,
      "metadata": {
        "_cell_guid": "520cd0c1-9a27-3de0-a99b-d3fc2790abe8"
      },
      "outputs": [],
      "source": [
        "# This Python 3 environment comes with many helpful analytics libraries installed\n",
        "# It is defined by the kaggle/python docker image: https://github.com/kaggle/docker-python\n",
        "# For example, here's several helpful packages to load in \n",
        "\n",
        "import numpy as np # linear algebra\n",
        "import pandas as pd # data processing, CSV file I/O (e.g. pd.read_csv)\n",
        "\n",
        "# Input data files are available in the \"../input/\" directory.\n",
        "# For example, running this (by clicking run or pressing Shift+Enter) will list the files in the input directory\n",
        "\n",
        "from subprocess import check_output\n",
        "print(check_output([\"ls\", \"../input\"]).decode(\"utf8\"))\n",
        "\n",
        "# Any results you write to the current directory are saved as output."
      ]
    },
    {
      "cell_type": "code",
      "execution_count": null,
      "metadata": {
        "_cell_guid": "8f0e261a-ccd2-6631-4dff-ad7d94f8666d"
      },
      "outputs": [],
      "source": [
        "train_data = pd.read_csv(\"../input/train.csv\")\n",
        "test_data = pd.read_csv(\"../input/test.csv\")"
      ]
    },
    {
      "cell_type": "code",
      "execution_count": null,
      "metadata": {
        "_cell_guid": "94b1d806-ec52-fb0b-c480-fec5c8fde311"
      },
      "outputs": [],
      "source": [
        "contFeatureslist = []\n",
        "for colName, x in train_data.iloc[1,:].iteritems():\n",
        "    if(not str(x).isalpha()):\n",
        "        contFeatureslist.append(colName)\n",
        "contFeatureslist.remove(\"id\")\n",
        "contFeatureslist.remove(\"loss\")\n",
        "catFeatureslist = []\n",
        "for colName, x in train_data.iloc[1,:].iteritems():\n",
        "    if(str(x).isalpha()):\n",
        "        catFeatureslist.append(colName)\n",
        "        "
      ]
    },
    {
      "cell_type": "code",
      "execution_count": null,
      "metadata": {
        "_cell_guid": "133d01eb-8531-42da-b19a-12e60cd2d3de"
      },
      "outputs": [],
      "source": [
        "from sklearn.preprocessing import LabelEncoder, OneHotEncoder\n",
        "from sklearn.cross_validation import StratifiedKFold"
      ]
    },
    {
      "cell_type": "code",
      "execution_count": null,
      "metadata": {
        "_cell_guid": "ddb55aaf-ec73-1349-51a9-4cbb4da8cdf9"
      },
      "outputs": [],
      "source": [
        "y = train_data['loss']\n",
        "X = train_data[contFeatureslist+catFeatureslist]"
      ]
    },
    {
      "cell_type": "code",
      "execution_count": null,
      "metadata": {
        "_cell_guid": "ad7ec282-b5d0-ebe9-a291-dc3b267818a0"
      },
      "outputs": [],
      "source": [
        "from sklearn.cross_validation import StratifiedKFold\n",
        "eval_size = 0.10\n",
        "kf = StratifiedKFold(y, round(1./eval_size))\n",
        "train_indices, valid_indices = next(iter(kf))"
      ]
    },
    {
      "cell_type": "code",
      "execution_count": null,
      "metadata": {
        "_cell_guid": "5d2f4076-8c30-2a83-e1a6-7740db1b201d"
      },
      "outputs": [],
      "source": [
        "X_train, y_train = X.iloc[valid_indices], y.iloc[valid_indices]\n",
        "X_valid, y_valid = X.iloc[train_indices], y.iloc[train_indices]"
      ]
    },
    {
      "cell_type": "code",
      "execution_count": null,
      "metadata": {
        "_cell_guid": "0b0d5a80-04f8-387f-55a7-f9534362178d"
      },
      "outputs": [],
      "source": [
        "train_categorical_values = np.array(X_train[catFeatureslist])\n",
        "\n",
        "enc_label = LabelEncoder()\n",
        "train_data = enc_label.fit_transform(train_categorical_values[:,0])\n",
        "\n",
        "for i in range(1, train_categorical_values.shape[1]):\n",
        "    enc_label = LabelEncoder()\n",
        "    train_data = np.column_stack((train_data, enc_label.fit_transform(train_categorical_values[:,i])))\n",
        "\n",
        "train_categorical_values = train_data.astype(float)\n",
        "\n",
        "enc_onehot = OneHotEncoder()\n",
        "train_cat_data = enc_onehot.fit_transform(train_categorical_values)\n",
        "\n",
        "\n",
        "cols = [catFeatureslist[i] + '_' + str(j) for i in range(0,len(catFeatureslist)) for j in range(0,enc_onehot.n_values_[i]) ]\n",
        "train_cat_data_df = pd.DataFrame(train_cat_data.toarray(),columns=cols)\n",
        "\n",
        "X_train[cols] = train_cat_data_df[cols]"
      ]
    },
    {
      "cell_type": "code",
      "execution_count": null,
      "metadata": {
        "_cell_guid": "2cb27821-a70f-7afb-ef8b-71c7705ca2b5"
      },
      "outputs": [],
      "source": [
        "X_train[contFeatureslist+cols].isnull().sum().sum()"
      ]
    },
    {
      "cell_type": "code",
      "execution_count": null,
      "metadata": {
        "_cell_guid": "e13e2c4d-31bb-a1db-5061-56715910f36b"
      },
      "outputs": [],
      "source": [
        "from sklearn.feature_selection import chi2, SelectKBest\n",
        "\n",
        "skb = SelectKBest(chi2, k=100)\n",
        "skb.fit_transform(X_train[contFeatureslist+cols].fillna(0), np.log1p(y))"
      ]
    },
    {
      "cell_type": "code",
      "execution_count": null,
      "metadata": {
        "_cell_guid": "239708bb-3e2c-a0c4-d718-c6f8f82d33a2"
      },
      "outputs": [],
      "source": [
        "from sklearn.ensemble import RandomForestRegressor\n",
        "\n",
        "reg = RandomForestRegressor()\n",
        "reg.fit(X_train[contFeatureslist+cols], np.log1p(y))"
      ]
    },
    {
      "cell_type": "code",
      "execution_count": null,
      "metadata": {
        "_cell_guid": "646c6c81-8b31-098f-445c-b56463b83a23"
      },
      "outputs": [],
      "source": ""
    }
  ],
  "metadata": {
    "_change_revision": 0,
    "_is_fork": false,
    "kernelspec": {
      "display_name": "Python 3",
      "language": "python",
      "name": "python3"
    },
    "language_info": {
      "codemirror_mode": {
        "name": "ipython",
        "version": 3
      },
      "file_extension": ".py",
      "mimetype": "text/x-python",
      "name": "python",
      "nbconvert_exporter": "python",
      "pygments_lexer": "ipython3",
      "version": "3.5.2"
    }
  },
  "nbformat": 4,
  "nbformat_minor": 0
}