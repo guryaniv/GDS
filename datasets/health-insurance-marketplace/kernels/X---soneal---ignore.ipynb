{"cells":[
 {
  "cell_type": "code",
  "execution_count": null,
  "metadata": {
   "collapsed": false
  },
  "outputs": [],
  "source": "# This Python 3 environment comes with many helpful analytics libraries installed\n# It is defined by the kaggle/python docker image: https://github.com/kaggle/docker-python\n# For example, here's several helpful packages to load in \n\nimport numpy as np # linear algebra\nimport pandas as pd # data processing, CSV file I/O (e.g. pd.read_csv)\n\n# Input data files are available in the \"../input/\" directory.\n# For example, running this (by clicking run or pressing Shift+Enter) will list the files in the input directory\n\nfrom subprocess import check_output\nprint(check_output([\"ls\", \"../input\"]).decode(\"utf8\"))\n\n# Any results you write to the current directory are saved as output.\n"
 },
 {
  "cell_type": "code",
  "execution_count": null,
  "metadata": {
   "collapsed": false
  },
  "outputs": [],
  "source": "BenefitsCostSharing = pd.read_csv(\"../input/BenefitsCostSharing.csv\")\n#BusinessRules = pd.read_csv(\"../input/BusinessRules.csv\")\n#Crosswalk2015 = pd.read_csv(\"../input/Crosswalk2015.csv\")\n#Crosswalk2016 = pd.read_csv(\"../input/Crosswalk2016.csv\")\n#Network = pd.read_csv(\"../input/Network.csv\")\n#PlanAttributes = pd.read_csv(\"../input/PlanAttributes.csv\")\n#Rate = pd.read_csv(\"../input/Rate.csv\")\n#ServiceArea = pd.read_csv(\"../input/ServiceArea.csv\")"
 },
 {
  "cell_type": "code",
  "execution_count": null,
  "metadata": {
   "collapsed": false
  },
  "outputs": [],
  "source": "BenefitsCostSharing.head()"
 },
 {
  "cell_type": "code",
  "execution_count": null,
  "metadata": {
   "collapsed": false
  },
  "outputs": [],
  "source": "BenefitsCostSharing['BusinessYear'].unique()"
 },
 {
  "cell_type": "code",
  "execution_count": null,
  "metadata": {
   "collapsed": false
  },
  "outputs": [],
  "source": ""
 }
],"metadata":{"kernelspec":{"display_name":"Python 3","language":"python","name":"python3"}}, "nbformat": 4, "nbformat_minor": 0}