{
  "cells": [
    {
      "cell_type": "markdown",
      "metadata": {
        "_cell_guid": "12613c78-00f9-d468-95e9-892c44b7d847"
      },
      "source": [
        "# DETECTING CREDIT CARD FRAUD WITH A ONE-CLASS SVM\n",
        "### Daniel Loden, April 2017\n",
        "\n",
        "# Overview\n",
        "\n",
        "\n",
        "----------\n",
        "The motivation for this project is to apply anomaly detection to identify credit card fraud.  Data have been trained and tested using a large set of anonymised credit card transactions.  \n",
        "\n",
        "Given the very low incidence of fraudulent transactions, the analysis utilises on One-Class SVM.   The model performed relatively well with regard to recall, but precision was a shortcoming.  However, it is expected that in practice, model performance would be improved through using identifiable cardholder level data.\n",
        "\n",
        "# Data Processing\n",
        "\n",
        "\n",
        "----------\n",
        "\n",
        "Training data consisted of  284,807 transactions, which were evenly split into training and test sets.  Fraudulent transactions were then removed from the training data, to train the One-Class SVM.\n",
        "\n",
        "Min-max normalisation was instantiated for the model pipeline."
      ]
    },
    {
      "cell_type": "code",
      "execution_count": null,
      "metadata": {
        "_cell_guid": "b748ecdb-f9b4-1832-b613-591f4ea06c55"
      },
      "outputs": [],
      "source": [
        "# Load packages\n",
        "import numpy as np\n",
        "import pandas as pd\n",
        "from sklearn.model_selection import train_test_split\n",
        "from sklearn.preprocessing import MinMaxScaler\n",
        "from sklearn.metrics import classification_report\n",
        "from sklearn.svm import OneClassSVM\n",
        "from sklearn.pipeline import Pipeline\n",
        "\n",
        "# Load dataset\n",
        "data = pd.read_csv('../input/creditcard.csv')\n",
        "data.drop('Time', axis=1, inplace=True)\n",
        "\n",
        "# Split into features and target\n",
        "X = data.ix[:, 0:29]\n",
        "y = data.ix[:, 29]\n",
        "\n",
        "# Split into training and testing sets (50%, 50%)\n",
        "X_train, X_test, y_train, y_test = train_test_split(X, y, test_size = 0.5, random_state = 2008)\n",
        "\n",
        "# Remove fradulent transactions from training data for One-Class SVMs\n",
        "X_train_good = X_train[y_train == 0]\n",
        "y_train_good = y_train[y_train == 0]\n",
        "\n",
        "# Instantiate normalisation \n",
        "nrm = MinMaxScaler()"
      ]
    },
    {
      "cell_type": "markdown",
      "metadata": {
        "_cell_guid": "89074b75-c895-9d99-452c-afbbea0ddbce"
      },
      "source": [
        "# Checking Incidence of Fraud\n",
        "\n",
        "\n",
        "----------\n",
        "The incidence of fraud is extremely low.   As such, supervised learning will be avoided in favour of an anomaly detection approach."
      ]
    },
    {
      "cell_type": "code",
      "execution_count": null,
      "metadata": {
        "_cell_guid": "c76c2452-1203-fa14-7be6-ab09d22227cc"
      },
      "outputs": [],
      "source": [
        "print('Proportion of fraudulent transactions', round(np.mean(y_train), 3))"
      ]
    },
    {
      "cell_type": "markdown",
      "metadata": {
        "_cell_guid": "8368f67f-be34-978c-ddd2-85e5d684cd32"
      },
      "source": [
        "# Train One-Class SVM\n",
        "\n",
        "\n",
        "----------"
      ]
    },
    {
      "cell_type": "markdown",
      "metadata": {
        "_cell_guid": "ab5a2cda-2765-4ece-cdc5-f80bf7cd42a9"
      },
      "source": [
        "One-Class SVM was chosen due to its usefulness for detecting rare events.  "
      ]
    },
    {
      "cell_type": "code",
      "execution_count": null,
      "metadata": {
        "_cell_guid": "477f59f5-2c08-7eaa-877b-fc50a7b50147"
      },
      "outputs": [],
      "source": [
        "svm = OneClassSVM(random_state=2008, nu=0.2) # Nu set by trial and error\n",
        "svm_pl = Pipeline([('Normalise', nrm),\n",
        "                   ('SVM', svm)])\n",
        "svm_pl.fit(X_train_good)"
      ]
    },
    {
      "cell_type": "markdown",
      "metadata": {
        "_cell_guid": "0a99432d-bda0-839c-e107-bf43d9375955"
      },
      "source": [
        "# Test Model\n",
        "\n",
        "\n",
        "----------\n",
        "\n",
        "The model detected most fraudulent transactions.  Whilst a large majority of legitimate transactions were correctly identified, the proportion flagged as fraudulent was nonetheless substantial.  \n",
        "\n",
        "This model demonstrates the relevance of One-Class SVM to credit card fraud detection. In practice, higher levels of recall and precision would be necessary, and would be achieved through using identifiable cardholder data, which were not available for this project."
      ]
    },
    {
      "cell_type": "code",
      "execution_count": null,
      "metadata": {
        "_cell_guid": "ecc5c5f0-b1f7-6750-9a06-ec18c4bf1e5e"
      },
      "outputs": [],
      "source": [
        "# Predict fradulent transactions in test set\n",
        "y_test_pred = svm_pl.predict(X_test) # Outputs data in {-1, 1}\n",
        "y_test_pred = ((y_test_pred * -1) + 1) / 2 # Convert to {1, 0}\n",
        "\n",
        "# Evaluate\n",
        "print(classification_report(y_test, y_test_pred))"
      ]
    }
  ],
  "metadata": {
    "_change_revision": 0,
    "_is_fork": false,
    "kernelspec": {
      "display_name": "Python 3",
      "language": "python",
      "name": "python3"
    },
    "language_info": {
      "codemirror_mode": {
        "name": "ipython",
        "version": 3
      },
      "file_extension": ".py",
      "mimetype": "text/x-python",
      "name": "python",
      "nbconvert_exporter": "python",
      "pygments_lexer": "ipython3",
      "version": "3.6.0"
    }
  },
  "nbformat": 4,
  "nbformat_minor": 0
}