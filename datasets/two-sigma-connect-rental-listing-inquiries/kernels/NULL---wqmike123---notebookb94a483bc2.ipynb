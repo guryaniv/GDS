{
  "cells": [
    {
      "cell_type": "code",
      "execution_count": null,
      "metadata": {
        "_cell_guid": "8f21a067-8d30-70c8-cd1e-b01b0f29e5d7"
      },
      "outputs": [],
      "source": [
        "# This Python 3 environment comes with many helpful analytics libraries installed\n",
        "# It is defined by the kaggle/python docker image: https://github.com/kaggle/docker-python\n",
        "# For example, here's several helpful packages to load in \n",
        "import urllib\n",
        "from io import BytesIO\n",
        "import numpy as np # linear algebra\n",
        "import pandas as pd # data processing, CSV file I/O (e.g. pd.read_csv)\n",
        "import os\n",
        "#import json\n",
        "import pandas as pd\n",
        "# Input data files are available in the \"../input/\" directory.\n",
        "# For example, running this (by clicking run or pressing Shift+Enter) will list the files in the input directory\n",
        "\n",
        "from subprocess import check_output\n",
        "print(check_output([\"ls\", \"../input\"]).decode(\"utf8\"))\n",
        "    \n",
        "# Any results you write to the current directory are saved as output."
      ]
    },
    {
      "cell_type": "code",
      "execution_count": null,
      "metadata": {
        "_cell_guid": "5660cfa6-61a2-57d8-054b-2a745f07db57"
      },
      "outputs": [],
      "source": [
        "#trainf = open(\"../input/train.json\")\n",
        "#data = json.load(trainf)\n",
        "data = pd.read_json(\"../input/train.json\")"
      ]
    },
    {
      "cell_type": "code",
      "execution_count": null,
      "metadata": {
        "_cell_guid": "e5ae3389-29f8-fe4f-d89b-be52a8b72eb5"
      },
      "outputs": [],
      "source": [
        "import json\n",
        "trainf = open(\"../input/train.json\")\n",
        "raw = trainf.readlines()\n",
        "data = json.loads(raw[0])"
      ]
    },
    {
      "cell_type": "code",
      "execution_count": null,
      "metadata": {
        "_cell_guid": "3adb5cb9-d4ed-9032-3dcf-16634f6d739e"
      },
      "outputs": [],
      "source": [
        "ps = data.photos.values\n",
        "ps[0][0]"
      ]
    },
    {
      "cell_type": "code",
      "execution_count": null,
      "metadata": {
        "_cell_guid": "c97ef4ec-4cc0-eb64-7eb8-defa33b7d7ce"
      },
      "outputs": [],
      "source": [
        "from PIL import Image\n",
        "import requests\n",
        "from io import BytesIO\n",
        "from IPython.display import display, Image\n",
        "response = requests.get(ps[0][0])\n",
        "img = Image.open(BytesIO(response.content))"
      ]
    },
    {
      "cell_type": "code",
      "execution_count": null,
      "metadata": {
        "_cell_guid": "e04d9d1e-a9cd-cf6e-46a4-51040d67e903"
      },
      "outputs": [],
      "source": [
        "# load the data photos\n",
        "# 4 dim:  [N,photo_width, photo_length, num_of_filters]\n",
        "def preprocess_photo(df):\n",
        "    for photolist in df:\n",
        "        \n",
        "    "
      ]
    }
  ],
  "metadata": {
    "_change_revision": 0,
    "_is_fork": false,
    "kernelspec": {
      "display_name": "Python 3",
      "language": "python",
      "name": "python3"
    },
    "language_info": {
      "codemirror_mode": {
        "name": "ipython",
        "version": 3
      },
      "file_extension": ".py",
      "mimetype": "text/x-python",
      "name": "python",
      "nbconvert_exporter": "python",
      "pygments_lexer": "ipython3",
      "version": "3.6.0"
    }
  },
  "nbformat": 4,
  "nbformat_minor": 0
}