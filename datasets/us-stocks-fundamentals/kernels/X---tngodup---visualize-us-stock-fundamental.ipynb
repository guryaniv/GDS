{
  "cells": [
    {
      "cell_type": "markdown",
      "metadata": {
        "_cell_guid": "9d2fa733-57e3-3593-aa29-e0d70e139ba5"
      },
      "source": [
        "import pandas as pd\n",
        "import numpy as np\n",
        "import seaborn as sns\n",
        "\n",
        "pd.read_csv(\"../input/companies.csv\")"
      ]
    },
    {
      "cell_type": "code",
      "execution_count": null,
      "metadata": {
        "_cell_guid": "f7e6f585-0c90-18d2-e689-a11ac747ca5c"
      },
      "outputs": [],
      "source": [
        "import pandas as pd\n",
        "import numpy as np\n",
        "import seaborn as sns\n",
        "import matplotlib.pyplot as plt\n",
        "\n",
        "companies_pd = pd.read_csv(\"../input/companies.csv\")\n",
        "indicator_pd = pd.read_csv(\"../input/indicators_by_company.csv\")\n",
        "balance_pd = pd.merge(companies_pd,indicator_pd,how='outer',on=\"company_id\")"
      ]
    },
    {
      "cell_type": "code",
      "execution_count": null,
      "metadata": {
        "_cell_guid": "ae12246a-9070-fef6-077d-dfefd1bc95a6"
      },
      "outputs": [],
      "source": [
        "#combines balance sheet of the companies from 2010 - 2016\n",
        "balance_pd.head()"
      ]
    },
    {
      "cell_type": "code",
      "execution_count": null,
      "metadata": {
        "_cell_guid": "9208bb49-5840-df75-c4c9-fcd933edabbb"
      },
      "outputs": [],
      "source": [
        "# Create variable with TRUE if nationality is USA\n",
        "asset_col = balance_pd['indicator_id'] == \"Assets\"\n",
        "asset_pd = balance_pd[asset_col]\n",
        "asset_pd.head()\n",
        "#ax = sns.tsplot(time=\"timepoint\", value=\"BOLD signal\",\n",
        "#...                 unit=\"subject\", condition=\"name_latest\",\n",
        "#...                 data=asset_pd.head())\n",
        "#ax = sns.tsplot(data=asset_pd[0:100].dropna, err_style=\"unit_traces\")\n",
        "sns.stripplot(x=\"name_latest\", y=\"2011\", data=asset_pd.head());"
      ]
    },
    {
      "cell_type": "code",
      "execution_count": null,
      "metadata": {
        "_cell_guid": "270052ea-621a-ea8d-45a6-d2c65229c72a"
      },
      "outputs": [],
      "source": [
        "plt.scatter(asset_pd['2011'], asset_pd['2012'], c=[\"red\", \"green\"])\n"
      ]
    },
    {
      "cell_type": "code",
      "execution_count": null,
      "metadata": {
        "_cell_guid": "be4d7650-c16a-b6fc-ff5a-205eb80f742c"
      },
      "outputs": [],
      "source": [
        "labilities_col = balance_pd['indicator_id'] == \"Liabilities\"\n",
        "labilities_pd = balance_pd[labilities_col]\n",
        "labilities_pd.head()"
      ]
    },
    {
      "cell_type": "code",
      "execution_count": null,
      "metadata": {
        "_cell_guid": "844f6993-80bb-8f5f-4459-795b13e8a003"
      },
      "outputs": [],
      "source": [
        "# Load the example planets dataset\n",
        "#planets = sns.load_dataset(\"planets\")\n",
        "#sns.lmplot(\"total_bill\", \"tip\", tips, col=\"smoker\");\n",
        "#sns.stripplot(x=\"day\", y=\"total_bill\", data=tips);"
      ]
    },
    {
      "cell_type": "code",
      "execution_count": null,
      "metadata": {
        "_cell_guid": "d2438688-3cc2-8ab0-98b3-c5e2c81c844b"
      },
      "outputs": [],
      "source": ""
    }
  ],
  "metadata": {
    "_change_revision": 0,
    "_is_fork": false,
    "kernelspec": {
      "display_name": "Python 3",
      "language": "python",
      "name": "python3"
    },
    "language_info": {
      "codemirror_mode": {
        "name": "ipython",
        "version": 3
      },
      "file_extension": ".py",
      "mimetype": "text/x-python",
      "name": "python",
      "nbconvert_exporter": "python",
      "pygments_lexer": "ipython3",
      "version": "3.5.2"
    }
  },
  "nbformat": 4,
  "nbformat_minor": 0
}