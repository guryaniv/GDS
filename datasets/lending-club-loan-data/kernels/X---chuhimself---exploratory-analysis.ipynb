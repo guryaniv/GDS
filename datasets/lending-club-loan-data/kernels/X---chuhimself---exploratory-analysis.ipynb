{"cells":[
 {
  "cell_type": "code",
  "execution_count": null,
  "metadata": {
   "collapsed": false
  },
  "outputs": [],
  "source": "import numpy as np\nimport pandas as pd\nimport matplotlib.pyplot as plt\nimport seaborn as sbs\n\ndf = pd.read_csv(\"../input/loan.csv\", low_memory=False)"
 },
 {
  "cell_type": "markdown",
  "metadata": {},
  "source": "# Exploring Lending Club Loan Data\n\nThere are a lot of columns here, 74 in all. \nNot everything will be interesting at the first pass. Let's look at the ones that seem to stand well on their own.\nAbout the loans:\n\n* How much are the loans for?\n* How long are the loans taken for?\n* What is the interest rate?\n\nAbout the peopl:\n\n* What kind of people take out loans?\n* Where are they from?"
 },
 {
  "cell_type": "code",
  "execution_count": null,
  "metadata": {
   "collapsed": false
  },
  "outputs": [],
  "source": ""
 },
 {
  "cell_type": "code",
  "execution_count": null,
  "metadata": {
   "collapsed": false
  },
  "outputs": [],
  "source": "df[\"addr_state\"].value_counts().plot(kind='bar')"
 },
 {
  "cell_type": "code",
  "execution_count": null,
  "metadata": {
   "collapsed": false
  },
  "outputs": [],
  "source": "df[\"annual_inc\"].plot.density()"
 },
 {
  "cell_type": "code",
  "execution_count": null,
  "metadata": {
   "collapsed": false
  },
  "outputs": [],
  "source": "df[\"funded_amnt\"].hist()\nplt.title('Funded Amount')"
 },
 {
  "cell_type": "code",
  "execution_count": null,
  "metadata": {
   "collapsed": false
  },
  "outputs": [],
  "source": ""
 },
 {
  "cell_type": "code",
  "execution_count": null,
  "metadata": {
   "collapsed": false
  },
  "outputs": [],
  "source": ""
 }
],"metadata":{"kernelspec":{"display_name":"Python 3","language":"python","name":"python3"}}, "nbformat": 4, "nbformat_minor": 0}