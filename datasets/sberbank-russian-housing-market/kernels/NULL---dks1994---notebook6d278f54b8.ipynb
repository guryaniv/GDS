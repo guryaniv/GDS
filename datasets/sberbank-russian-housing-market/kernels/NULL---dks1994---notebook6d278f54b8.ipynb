{
  "cells": [
    {
      "cell_type": "code",
      "execution_count": null,
      "metadata": {
        "_cell_guid": "9cd93170-d8eb-065a-3322-a750ddf25582"
      },
      "outputs": [],
      "source": [
        "import numpy as np\n",
        "import pandas as pd"
      ]
    },
    {
      "cell_type": "code",
      "execution_count": null,
      "metadata": {
        "_cell_guid": "0df502b1-7b52-10e9-701a-63c1c3b0c901"
      },
      "outputs": [],
      "source": [
        "train_df=pd.read_csv('../input/train.csv')"
      ]
    },
    {
      "cell_type": "code",
      "execution_count": null,
      "metadata": {
        "_cell_guid": "a4648da3-49bb-194c-2972-4764bd5f74db"
      },
      "outputs": [],
      "source": [
        "train_df.shape"
      ]
    },
    {
      "cell_type": "markdown",
      "metadata": {
        "_cell_guid": "06e5ec17-e12e-35a0-9cbc-2d0a0888bb10"
      },
      "source": [
        ""
      ]
    },
    {
      "cell_type": "code",
      "execution_count": null,
      "metadata": {
        "_cell_guid": "c43295ae-8ad6-8989-7919-78a4765075c8"
      },
      "outputs": [],
      "source": [
        "train_df.head()"
      ]
    },
    {
      "cell_type": "code",
      "execution_count": null,
      "metadata": {
        "_cell_guid": "47c6f773-5610-9a6b-1b28-154389f78e55"
      },
      "outputs": [],
      "source": [
        "import matplotlib.pyplot as plt"
      ]
    },
    {
      "cell_type": "code",
      "execution_count": null,
      "metadata": {
        "_cell_guid": "662a7521-15a7-48fd-c744-8890841473b8"
      },
      "outputs": [],
      "source": [
        "%matplotlib inline\n",
        "plt.scatter(range(train_df.shape[0]),np.sort(train_df['price_doc']))\n",
        "plt.show()"
      ]
    },
    {
      "cell_type": "code",
      "execution_count": null,
      "metadata": {
        "_cell_guid": "b7309c25-cfed-b1d3-8c56-efa41306c303"
      },
      "outputs": [],
      "source": [
        "import seaborn as sns"
      ]
    },
    {
      "cell_type": "code",
      "execution_count": null,
      "metadata": {
        "_cell_guid": "4209647e-5075-59c0-faeb-fbf3958267bb"
      },
      "outputs": [],
      "source": [
        "sns.distplot(train_df['price_doc'],kde=True)"
      ]
    },
    {
      "cell_type": "code",
      "execution_count": null,
      "metadata": {
        "_cell_guid": "74727737-1a0f-5c78-bb85-34cfb9505845"
      },
      "outputs": [],
      "source": [
        "sns.distplot(np.log(train_df['price_doc']),kde=True)"
      ]
    },
    {
      "cell_type": "code",
      "execution_count": null,
      "metadata": {
        "_cell_guid": "90ca6a88-f5b9-094d-e530-7c345929342a"
      },
      "outputs": [],
      "source": [
        "train_df['timestamp'].head()"
      ]
    },
    {
      "cell_type": "code",
      "execution_count": null,
      "metadata": {
        "_cell_guid": "ceb34aa6-8488-f87c-56a1-5b75b81a8311"
      },
      "outputs": [],
      "source": [
        ""
      ]
    },
    {
      "cell_type": "code",
      "execution_count": null,
      "metadata": {
        "_cell_guid": "0b11c310-7859-ce75-b68e-00e671b0a503"
      },
      "outputs": [],
      "source": [
        "train_df['yearMonth']=train_df['timestamp'].apply(lambda x : x[:4]+x[5:7])"
      ]
    },
    {
      "cell_type": "code",
      "execution_count": null,
      "metadata": {
        "_cell_guid": "4ec99bb2-1d5b-f2f3-3457-2119d63623c9"
      },
      "outputs": [],
      "source": [
        "grouped_df = train_df.groupby('yearMonth')['price_doc'].aggregate(np.median).reset_index()"
      ]
    },
    {
      "cell_type": "code",
      "execution_count": null,
      "metadata": {
        "_cell_guid": "ead8a2ff-3239-342d-9b59-61267af5cbaa"
      },
      "outputs": [],
      "source": [
        "sns.barplot(grouped_df.yearMonth.values,grouped_df.price_doc.values,color='red')\n",
        "plt.ylabel('Median Price', fontsize=12)\n",
        "plt.xlabel('Year Month', fontsize=12)\n",
        "plt.xticks(rotation='vertical')\n",
        "\n",
        "plt.show()"
      ]
    },
    {
      "cell_type": "code",
      "execution_count": null,
      "metadata": {
        "_cell_guid": "79234175-5e8b-5aa1-5c2f-d9736de1bb11"
      },
      "outputs": [],
      "source": [
        ""
      ]
    },
    {
      "cell_type": "code",
      "execution_count": null,
      "metadata": {
        "_cell_guid": "8844582e-daa1-ad87-2dc9-53cdc934a017"
      },
      "outputs": [],
      "source": [
        "dtype_df = train_df.dtypes.reset_index()"
      ]
    },
    {
      "cell_type": "code",
      "execution_count": null,
      "metadata": {
        "_cell_guid": "73b74713-905f-663e-65bd-a353d43a4c18"
      },
      "outputs": [],
      "source": [
        " dtype_df.columns=['count','column_type']"
      ]
    },
    {
      "cell_type": "code",
      "execution_count": null,
      "metadata": {
        "_cell_guid": "db63bd7c-908f-d558-dee9-05f0bfe0006b"
      },
      "outputs": [],
      "source": [
        "dtype_df = dtype_df.groupby('column_type').aggregate('count').reset_index()"
      ]
    },
    {
      "cell_type": "code",
      "execution_count": null,
      "metadata": {
        "_cell_guid": "388e036b-5809-e6d5-4911-870f59dd4238"
      },
      "outputs": [],
      "source": [
        "dtype_df"
      ]
    },
    {
      "cell_type": "code",
      "execution_count": null,
      "metadata": {
        "_cell_guid": "05df3047-262f-fb69-7d4b-dc9d0754e631"
      },
      "outputs": [],
      "source": [
        "missing_df = train_df.isnull().sum(axis=0).reset_index()"
      ]
    },
    {
      "cell_type": "code",
      "execution_count": null,
      "metadata": {
        "_cell_guid": "c61544da-8cc3-7e54-fba6-1a235239c431"
      },
      "outputs": [],
      "source": [
        "missing_df.columns = ['column_name','missing_count']"
      ]
    },
    {
      "cell_type": "code",
      "execution_count": null,
      "metadata": {
        "_cell_guid": "91c935a2-1450-4bb8-bb3b-d26440537049"
      },
      "outputs": [],
      "source": [
        "missing_df=missing_df.ix[missing_df['missing_count']>0]"
      ]
    },
    {
      "cell_type": "code",
      "execution_count": null,
      "metadata": {
        "_cell_guid": "f1b3ffb8-8eb5-4331-734b-f072fd332f73"
      },
      "outputs": [],
      "source": [
        "ind = np.arange(missing_df.shape[0])"
      ]
    },
    {
      "cell_type": "code",
      "execution_count": null,
      "metadata": {
        "_cell_guid": "9471ba8d-b20f-b163-e652-256e35f8e9c1"
      },
      "outputs": [],
      "source": [
        "fig,ax=plt.subplots(figsize=(12,18))\n",
        "ax.barh(ind,missing_df.missing_count.values)\n",
        "ax.set_yticks(ind)\n",
        "ax.set_yticklabels(missing_df.column_name.values,rotation='horizontal')\n",
        "ax.set_xlabel(\"Count of missiong values\")\n",
        "ax.set_title(\"Number of Missing values\")\n",
        "plt.show()"
      ]
    },
    {
      "cell_type": "code",
      "execution_count": null,
      "metadata": {
        "_cell_guid": "e5448452-83ee-2b99-d706-ef69c1836f21"
      },
      "outputs": [],
      "source": [
        "from sklearn import  preprocessing, model_selection"
      ]
    },
    {
      "cell_type": "code",
      "execution_count": null,
      "metadata": {
        "_cell_guid": "8f392728-b6fb-34d9-ab66-7d2b2eb6b482"
      },
      "outputs": [],
      "source": [
        "import sklearn\n",
        "print(sklearn.__version__)"
      ]
    },
    {
      "cell_type": "code",
      "execution_count": null,
      "metadata": {
        "_cell_guid": "45913f97-b882-7091-8b3c-c68ba1a747c0"
      },
      "outputs": [],
      "source": [
        "import xgboost as xgb"
      ]
    },
    {
      "cell_type": "code",
      "execution_count": null,
      "metadata": {
        "_cell_guid": "e2306112-c57d-14a4-e463-06476f909ed2"
      },
      "outputs": [],
      "source": [
        "for f in train_df.columns:\n",
        "    if train_df[f].dtype == 'object':\n",
        "        lbl = preprocessing.LabelEncoder()\n",
        "        lbl.fit(list(train_df[f].values))\n",
        "        train_df[f] = lbl.transform(list(train_df[f].values))\n",
        "        \n",
        "        \n",
        "train_y = train_df.price_doc.values\n",
        "train_X = train_df.drop(['id','timestamp','price_doc','yearMonth'],axis=1)\n",
        "\n",
        "xgb_params = {\n",
        "    'eta':0.05,\n",
        "    'max_depth':8,\n",
        "    'subsample':0.7,\n",
        "    'colsample_bytree':0.7,\n",
        "    'objective':'reg:linear',\n",
        "    'eval_metric':'rmse',\n",
        "    'silent':1\n",
        "}\n",
        "\n",
        "dtrain = xgb.DMatrix(train_X,train_y,feature_names=train_X.columns.values)\n",
        "model = xgb.train(dict(xgb_params,silent=0),dtrain,num_boost_round=100)\n",
        "\n",
        "fig,ax = plt.subplots(figsize=(12,18))\n",
        "xgb.plot_importance(model,max_num_features=50,height=0.8,ax=ax)\n",
        "plt.show()"
      ]
    },
    {
      "cell_type": "code",
      "execution_count": null,
      "metadata": {
        "_cell_guid": "e357b392-e7f1-5b01-b5a2-c76a1c0b99e6"
      },
      "outputs": [],
      "source": [
        "ulimit = np.percentile(train_df.price_doc.values,99.5)\n",
        "llimit = np.percentile(train_df.price_doc.values,0.5)\n",
        "train_df['price_doc'].ix[train_df['price_doc'] > ulimit] = ulimit\n",
        "train_df['price_doc'].ix[train_df['price_doc'] < llimit] = llimit\n",
        "\n",
        "col = \"full_sq\"\n",
        "ulimit = np.percentile(train_df[col].values, 99.5)\n",
        "llimit = np.percentile(train_df[col].values, 0.5)\n",
        "train_df[col].ix[train_df[col]>ulimit] = ulimit\n",
        "train_df[col].ix[train_df[col]<llimit] = llimit\n",
        "\n",
        "plt.figure(figsize=(12,12))\n",
        "sns.jointplot(np.log(train_df.full_sq.values),np.log(train_df.price_doc.values))\n",
        "plt.show()"
      ]
    },
    {
      "cell_type": "code",
      "execution_count": null,
      "metadata": {
        "_cell_guid": "8bd93128-06a1-8807-e51b-7a2ad93ef36c"
      },
      "outputs": [],
      "source": [
        "col = \"life_sq\"\n",
        "train_df[col].fillna(0, inplace=True)\n",
        "ulimit = np.percentile(train_df[col].values, 95)\n",
        "llimit = np.percentile(train_df[col].values, 5)\n",
        "train_df[col].ix[train_df[col]>ulimit] = ulimit\n",
        "train_df[col].ix[train_df[col]<llimit] = llimit\n",
        "\n",
        "plt.figure(figsize=(12,12))\n",
        "sns.jointplot(x=np.log1p(train_df.life_sq.values), y=np.log1p(train_df.price_doc.values), \n",
        "              kind='kde', size=10)\n",
        "plt.ylabel('Log of Price', fontsize=12)\n",
        "plt.xlabel('Log of living area in square metre', fontsize=12)\n",
        "plt.show()"
      ]
    },
    {
      "cell_type": "code",
      "execution_count": null,
      "metadata": {
        "_cell_guid": "be1b8390-440d-15e2-9710-b664a69883ce"
      },
      "outputs": [],
      "source": [
        "sns.countplot(x=\"floor\", data=train_df)\n",
        "plt.xticks(rotation='vertical')\n",
        "plt.show()\n"
      ]
    },
    {
      "cell_type": "code",
      "execution_count": null,
      "metadata": {
        "_cell_guid": "c6a53102-dd74-ef17-6513-f119f255b872"
      },
      "outputs": [],
      "source": [
        "sns.countplot(train_df.max_floor.values)\n",
        "plt.xticks(rotation='vertical')\n",
        "plt.show()"
      ]
    },
    {
      "cell_type": "code",
      "execution_count": null,
      "metadata": {
        "_cell_guid": "6d7b5ba4-27bb-4d58-b3e6-6d0dbd7091ce"
      },
      "outputs": [],
      "source": [
        "sns.boxplot(train_df.max_floor.values,train_df.price_doc.values)\n",
        "plt.xticks(rotation='vertical')\n",
        "plt.show()"
      ]
    },
    {
      "cell_type": "code",
      "execution_count": null,
      "metadata": {
        "_cell_guid": "12ea26d5-7679-e9a7-4aad-5aa8f61fe345"
      },
      "outputs": [],
      "source": ""
    }
  ],
  "metadata": {
    "_change_revision": 0,
    "_is_fork": false,
    "kernelspec": {
      "display_name": "Python 3",
      "language": "python",
      "name": "python3"
    },
    "language_info": {
      "codemirror_mode": {
        "name": "ipython",
        "version": 3
      },
      "file_extension": ".py",
      "mimetype": "text/x-python",
      "name": "python",
      "nbconvert_exporter": "python",
      "pygments_lexer": "ipython3",
      "version": "3.6.0"
    }
  },
  "nbformat": 4,
  "nbformat_minor": 0
}