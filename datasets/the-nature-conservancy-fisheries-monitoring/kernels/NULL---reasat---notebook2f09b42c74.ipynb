{
  "cells": [
    {
      "cell_type": "code",
      "execution_count": null,
      "metadata": {
        "_cell_guid": "d1536b91-d3c0-4b6f-9d70-71e8de9d1502"
      },
      "outputs": [],
      "source": [
        "import numpy as np\n",
        "np.random.seed(2016)\n",
        "\n",
        "import os\n",
        "import glob\n",
        "import cv2\n",
        "import time\n",
        "\n",
        "def get_im_cv2(path):\n",
        "    img = cv2.imread(path)\n",
        "    resized = cv2.resize(img, (32, 32), cv2.INTER_LINEAR)\n",
        "    return resized\n",
        "\n",
        "def load_train():\n",
        "    X_train = []\n",
        "    X_train_id = []\n",
        "    y_train = []\n",
        "    start_time = time.time()\n",
        "\n",
        "    print('Read train images')\n",
        "    #folders = ['ALB', 'BET', 'DOL', 'LAG', 'NoF', 'OTHER', 'SHARK', 'YFT']\n",
        "    folders=['ALB','BET']\n",
        "    for fld in folders:\n",
        "        index = folders.index(fld)\n",
        "        print('Load folder {} (Index: {})'.format(fld, index))\n",
        "        path = os.path.join('..', 'input', 'train', fld, '*.jpg')\n",
        "        files = glob.glob(path)\n",
        "        for fl in files:\n",
        "            flbase = os.path.basename(fl)\n",
        "            img = get_im_cv2(fl)\n",
        "            X_train.append(img)\n",
        "            X_train_id.append(flbase)\n",
        "            y_train.append(index)\n",
        "\n",
        "    print('Read train data time: {} seconds'.format(round(time.time() - start_time, 2)))\n",
        "    return X_train, y_train, X_train_id\n",
        "\n",
        "img_train, target_train, id_train= load_train()\n",
        "print(target_train)\n",
        "#cv2.imshow('ALB',img_train[0])"
      ]
    },
    {
      "cell_type": "code",
      "execution_count": null,
      "metadata": {
        "_cell_guid": "58a0fdfe-247a-008e-af63-c8e44d7b691c"
      },
      "outputs": [],
      "source": ""
    }
  ],
  "metadata": {
    "_change_revision": 0,
    "_is_fork": false,
    "kernelspec": {
      "display_name": "Python 3",
      "language": "python",
      "name": "python3"
    },
    "language_info": {
      "codemirror_mode": {
        "name": "ipython",
        "version": 3
      },
      "file_extension": ".py",
      "mimetype": "text/x-python",
      "name": "python",
      "nbconvert_exporter": "python",
      "pygments_lexer": "ipython3",
      "version": "3.6.0"
    }
  },
  "nbformat": 4,
  "nbformat_minor": 0
}