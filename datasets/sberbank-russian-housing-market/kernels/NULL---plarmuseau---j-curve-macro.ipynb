{
  "cells": [
    {
      "cell_type": "markdown",
      "metadata": {
        "_cell_guid": "ac06cd79-9189-6d2b-9a83-012d19327beb"
      },
      "source": [
        "I simply added the macro data.\n",
        "----\n",
        "Load the required libraries and data. "
      ]
    },
    {
      "cell_type": "code",
      "execution_count": null,
      "metadata": {
        "_cell_guid": "555a1731-6a24-51ed-f194-a47541b955db"
      },
      "outputs": [],
      "source": [
        "import numpy as np\n",
        "import pandas as pd\n",
        "import matplotlib.pyplot as plt\n",
        "import seaborn as sns\n",
        "%matplotlib inline\n",
        "from sklearn import model_selection, preprocessing\n",
        "import xgboost as xgb\n",
        "import datetime\n",
        "#now = datetime.datetime.now()\n",
        "\n",
        "train = pd.read_csv('../input/train.csv')\n",
        "test = pd.read_csv('../input/test.csv')\n",
        "macro = pd.read_csv('../input/macro.csv')\n",
        "id_test = test.id"
      ]
    },
    {
      "cell_type": "markdown",
      "metadata": {
        "_cell_guid": "1a102883-238b-d706-c598-cb68228748d3"
      },
      "source": [
        "http://www.investinganswers.com/financial-dictionary/economics/j-curve-effect-3437\n",
        "\n",
        "The J-curve effect is often seen in a country's balance of trade and equity fund returns.\n",
        "\n",
        "A country's trade balance experiences the J-curve effect if its currency becomes devalued. At first, the country's total value of imports (goods purchased from abroad) exceeds its total value of exports (goods sold abroad), resulting in a trade deficit. But eventually, the currency devaluation reduces the price of its exports. Consequently, the country's level of exports gradually recovers, and the country moves back to a trade surplus.\n",
        "\n",
        "So we are searching a devaluation \n",
        "----\n",
        "\n",
        "it happened between at 1700 (don't know the date, i don't mind even)\n",
        "its visible in the balance trade deficit, we are at the bottom of the J curve at the time being"
      ]
    },
    {
      "cell_type": "code",
      "execution_count": null,
      "metadata": {
        "_cell_guid": "9b303cbd-e01f-c887-de62-9b0fa22d404e"
      },
      "outputs": [],
      "source": [
        "from matplotlib import pyplot\n",
        "macropl=macro[['balance_trade']]\n",
        "macropl.plot()\n",
        "pyplot.show()"
      ]
    },
    {
      "cell_type": "markdown",
      "metadata": {
        "_cell_guid": "918d3520-48b0-8c0c-7f31-f515fdd0bbc5"
      },
      "source": [
        "devaluation is visible on the exchange rates and the 'brent' rate, the cpi or price index... and the ppi shows cleary a bump on the road."
      ]
    },
    {
      "cell_type": "code",
      "execution_count": null,
      "metadata": {
        "_cell_guid": "9417d62f-fd3a-84f1-5ae4-bee97a5a7fdf"
      },
      "outputs": [],
      "source": [
        "from matplotlib import pyplot\n",
        "macropl2=macro[['cpi','ppi','usdrub','brent']]\n",
        "macropl2.plot()\n",
        "pyplot.show()"
      ]
    },
    {
      "cell_type": "markdown",
      "metadata": {
        "_cell_guid": "91fe8877-2f13-fcfe-9f8f-0b6a75b9a890"
      },
      "source": [
        "people are hamstering money, since they sence something happened to their value of the money\n",
        "salary are steady increasing, no inflation visible yet... so the simple working man is the one paying for the time being"
      ]
    },
    {
      "cell_type": "code",
      "execution_count": null,
      "metadata": {
        "_cell_guid": "392ba5b2-e6f4-80d6-0b04-96b41e8b141a"
      },
      "outputs": [],
      "source": [
        "from matplotlib import pyplot\n",
        "macropl=macro[['deposits_value']]\n",
        "macropl2=macro[['mortgage_value','construction_value']]\n",
        "macropl3=macro[['salary','invest_fixed_assets']]\n",
        "macropl.plot()\n",
        "macropl2.plot()\n",
        "macropl3.plot()\n",
        "pyplot.show()"
      ]
    },
    {
      "cell_type": "markdown",
      "metadata": {
        "_cell_guid": "7fe97292-7fc1-a4c4-f5d5-141b0cce8061"
      },
      "source": [
        "this is the interestrate spike i was searching for, after a devaluation you get a spike in interestrate\n",
        "And the mortgage rate tended to be extremely high. Normally the gap betweeem mortgage and deposit rate is 2 points... Its here more then 10 interestpoints, its huge... difference. The mortgage loans are probably are very lucrative are very risky business.."
      ]
    },
    {
      "cell_type": "code",
      "execution_count": null,
      "metadata": {
        "_cell_guid": "5bb97001-b6cf-a91a-7b9f-c264a7153be5"
      },
      "outputs": [],
      "source": [
        "from matplotlib import pyplot\n",
        "macropl=macro[['deposits_rate','mortgage_rate']]\n",
        "macropl2=macro[['grp_growth','gdp_annual_growth','salary_growth','deposits_growth']]\n",
        "macropl.plot()\n",
        "macropl2.plot()\n",
        "pyplot.show()"
      ]
    }
  ],
  "metadata": {
    "_change_revision": 0,
    "_is_fork": false,
    "kernelspec": {
      "display_name": "Python 3",
      "language": "python",
      "name": "python3"
    },
    "language_info": {
      "codemirror_mode": {
        "name": "ipython",
        "version": 3
      },
      "file_extension": ".py",
      "mimetype": "text/x-python",
      "name": "python",
      "nbconvert_exporter": "python",
      "pygments_lexer": "ipython3",
      "version": "3.6.0"
    }
  },
  "nbformat": 4,
  "nbformat_minor": 0
}