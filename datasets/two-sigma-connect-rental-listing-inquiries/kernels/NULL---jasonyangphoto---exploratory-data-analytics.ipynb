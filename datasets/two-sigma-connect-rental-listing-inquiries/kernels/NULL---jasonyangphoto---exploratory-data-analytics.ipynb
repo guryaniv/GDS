{
  "cells": [
    {
      "cell_type": "markdown",
      "metadata": {
        "_cell_guid": "1d9255cc-a133-a3ca-1303-cafad3afca5c"
      },
      "source": [
        "## Goal\n",
        "I am new to python3 and try to use this chance to get familiar with this tool and try to use some NLP and image processing libraries.\n",
        " \n",
        "In this script, I want to understand the distribution of data and find the correlations between varaibles."
      ]
    },
    {
      "cell_type": "code",
      "execution_count": null,
      "metadata": {
        "_cell_guid": "aa345c8e-5d43-b42f-4412-d3ee194d4664"
      },
      "outputs": [],
      "source": [
        "import numpy as np # linear algebra\n",
        "import pandas as pd # data processing, CSV file I/O (e.g. pd.read_csv)\n",
        "import matplotlib.pyplot as plt\n",
        "import seaborn as sns\n",
        "from subprocess import check_output\n",
        "print(check_output([\"ls\", \"../input\"]).decode(\"utf8\"))"
      ]
    },
    {
      "cell_type": "markdown",
      "metadata": {
        "_cell_guid": "6f48e1c4-0ea1-fe8f-59c3-2750e44d9c26"
      },
      "source": [
        "### Import Data Set"
      ]
    },
    {
      "cell_type": "code",
      "execution_count": null,
      "metadata": {
        "_cell_guid": "a7a84830-df2b-c2cf-23cd-acb24a8bccfe"
      },
      "outputs": [],
      "source": [
        "train_df = pd.read_json(\"../input/train.json\")\n",
        "test_df = pd.read_json(\"../input/test.json\")\n",
        "print('Training data dimensions:',train_df.shape)\n",
        "print('Testing data dimensions:',test_df.shape)"
      ]
    },
    {
      "cell_type": "code",
      "execution_count": null,
      "metadata": {
        "_cell_guid": "f3e5ef6e-620a-6eb2-bc2d-b5574df2220c"
      },
      "outputs": [],
      "source": [
        "train_df.head(5)"
      ]
    },
    {
      "cell_type": "code",
      "execution_count": null,
      "metadata": {
        "_cell_guid": "17bf680e-5ce2-bccb-5340-7acb4ca2dd5a"
      },
      "outputs": [],
      "source": [
        "train_df.info()"
      ]
    },
    {
      "cell_type": "code",
      "execution_count": null,
      "metadata": {
        "_cell_guid": "c6f86bb8-786c-fe1a-4011-ee0fdfceb078"
      },
      "outputs": [],
      "source": [
        "test_df.info()"
      ]
    },
    {
      "cell_type": "markdown",
      "metadata": {
        "_cell_guid": "35bbda7b-0a30-62e6-70c9-65faa56a2cd7"
      },
      "source": [
        "The data set has no missing values."
      ]
    },
    {
      "cell_type": "markdown",
      "metadata": {
        "_cell_guid": "891eac6f-459f-8afc-f6b5-3ddbe36060f8"
      },
      "source": [
        "### Check  Target Variables\n",
        "The distribution of train data set is not evenly distributed, which will cause overfit on low  and underfit on medium and high. We can create two additional data set and weighted in our final model."
      ]
    },
    {
      "cell_type": "code",
      "execution_count": null,
      "metadata": {
        "_cell_guid": "a834dedd-20b6-0a71-b63f-ed00236eb68a"
      },
      "outputs": [],
      "source": [
        "int_level = train_df['interest_level'].value_counts()\n",
        "plt.figure(figsize=(10,5))\n",
        "sns.barplot(int_level.index, int_level.values, alpha=0.8)\n",
        "plt.ylabel('Count', fontsize=12)\n",
        "plt.xlabel('Interest level', fontsize=12)\n",
        "plt.show()"
      ]
    },
    {
      "cell_type": "markdown",
      "metadata": {
        "_cell_guid": "ee2c03d4-6706-354a-d653-9cb392b8ce67"
      },
      "source": [
        "## Simple Features\n",
        "\n",
        "We want to see the effect of price on interest level. Higher price means low interest."
      ]
    },
    {
      "cell_type": "code",
      "execution_count": null,
      "metadata": {
        "_cell_guid": "5f53005d-af21-c0a4-84b9-803583dc8c85"
      },
      "outputs": [],
      "source": [
        "\n",
        "plt.figure(figsize=(10,5))\n",
        "sns.barplot(train_df['interest_level'],train_df['price'], order=['low','medium','high'])\n",
        "plt.title('Distribution of Interest Level by Price')\n",
        "plt.ylabel('Price')\n",
        "plt.xlabel('Interest level')\n",
        "plt.show()"
      ]
    },
    {
      "cell_type": "markdown",
      "metadata": {
        "_cell_guid": "d8b569e8-951b-8518-acfa-788fed84488d"
      },
      "source": [
        "Bathroom & bedroom are not significant to interest level."
      ]
    },
    {
      "cell_type": "code",
      "execution_count": null,
      "metadata": {
        "_cell_guid": "20281a33-bd5d-e95c-e9bd-6068c3172bea"
      },
      "outputs": [],
      "source": [
        "train_df['bathrooms'].ix[train_df['bathrooms']>3] = 3\n",
        "plt.figure(figsize=(10,5))\n",
        "sns.violinplot(x='interest_level', y='bathrooms', data=train_df, order=['low','medium','high'])\n",
        "plt.xlabel('Interest level', fontsize=12)\n",
        "plt.ylabel('Bathrooms', fontsize=12)\n",
        "plt.show()"
      ]
    },
    {
      "cell_type": "code",
      "execution_count": null,
      "metadata": {
        "_cell_guid": "4038918c-fd98-e5be-c35a-4affcb1002db"
      },
      "outputs": [],
      "source": [
        "plt.figure(figsize=(10,5))\n",
        "sns.violinplot(x='interest_level', y='bedrooms', data=train_df, order=['low','medium','high'])\n",
        "plt.xlabel('Interest level', fontsize=12)\n",
        "plt.ylabel('Bedrooms', fontsize=12)\n",
        "plt.show()"
      ]
    },
    {
      "cell_type": "markdown",
      "metadata": {
        "_cell_guid": "eccbdd2b-2951-a474-bd3f-77a5717bca5b"
      },
      "source": [
        "## Visualize Interest on Map\n",
        "This will give us more features in our later model\n",
        "https://www.kaggle.com/xchiron/two-sigma-connect-rental-listing-inquiries/exploratory-analysis-for-rental-listing-inquiries"
      ]
    },
    {
      "cell_type": "code",
      "execution_count": null,
      "metadata": {
        "_cell_guid": "747e9216-95fd-4a84-0dc9-13276149690e"
      },
      "outputs": [],
      "source": [
        "terrain = sns.color_palette(palette='terrain',n_colors=10)\n",
        "plasma = sns.color_palette(palette='plasma',n_colors=10)\n",
        "%matplotlib inline\n",
        "\n",
        "from bokeh.io import output_notebook\n",
        "from bokeh.layouts import gridplot,row,column\n",
        "from bokeh.plotting import figure,show\n",
        "output_notebook()\n",
        "\n",
        "p = figure(title=\"interest level based on geography\",y_range=(40.65,40.85),x_range=(-74.05,-73.85))\n",
        "p.xaxis.axis_label = 'latitude'\n",
        "p.yaxis.axis_label = 'longitude'\n",
        "lowLat=train_df['latitude'][train_df['interest_level']=='low']\n",
        "lowLong=train_df['longitude'][train_df['interest_level']=='low']\n",
        "medLat=train_df['latitude'][train_df['interest_level']=='medium']\n",
        "medLong=train_df['longitude'][train_df['interest_level']=='medium']\n",
        "highLat=train_df['latitude'][train_df['interest_level']=='high']\n",
        "highLong=train_df['longitude'][train_df['interest_level']=='high']\n",
        "p.circle(lowLong,lowLat,size=3,color=terrain.as_hex()[1],fill_alpha=0.1,line_alpha=0.1,legend='low')\n",
        "p.circle(medLong,medLat,size=3,color=plasma.as_hex()[9],fill_alpha=0.1,line_alpha=0.1,legend='med')\n",
        "p.circle(highLong,highLat,size=3,color=plasma.as_hex()[5],fill_alpha=0.1,line_alpha=0.1,legend='high')\n",
        "show(p, notebook_handle=True)"
      ]
    },
    {
      "cell_type": "markdown",
      "metadata": {
        "_cell_guid": "9885a481-3ece-805d-41ad-3d61b6ee6af0"
      },
      "source": [
        "## Text Mining Word Cloud\n",
        "https://www.kaggle.com/cantstopwontstop/two-sigma-connect-rental-listing-inquiries/simple-exploration-notebook-2-connect-e113a9"
      ]
    },
    {
      "cell_type": "code",
      "execution_count": null,
      "metadata": {
        "_cell_guid": "d813f8c9-d315-8a44-233a-7b8004b02b65"
      },
      "outputs": [],
      "source": [
        "from wordcloud import WordCloud\n",
        "\n",
        "text = ''\n",
        "text_da = ''\n",
        "text_desc = ''\n",
        "for ind, row in train_df.iterrows():\n",
        "    for feature in row['features']:\n",
        "        text = \" \".join([text, \"_\".join(feature.strip().split(\" \"))])\n",
        "    text_da = \" \".join([text_da,\"_\".join(row['display_address'].strip().split(\" \"))])\n",
        "    #text_desc = \" \".join([text_desc, row['description']])\n",
        "text = text.strip()\n",
        "text_da = text_da.strip()\n",
        "text_desc = text_desc.strip()\n",
        "\n",
        "plt.figure(figsize=(12,6))\n",
        "wordcloud = WordCloud(background_color='white', width=600, height=300, max_font_size=50, max_words=40).generate(text)\n",
        "wordcloud.recolor(random_state=0)\n",
        "plt.imshow(wordcloud)\n",
        "plt.title(\"Wordcloud for features\", fontsize=30)\n",
        "plt.axis(\"off\")\n",
        "plt.show()\n"
      ]
    },
    {
      "cell_type": "code",
      "execution_count": null,
      "metadata": {
        "_cell_guid": "c3be8bab-decc-b0c0-bc3a-c4471389cb51"
      },
      "outputs": [],
      "source": [
        "# wordcloud for display address\n",
        "plt.figure(figsize=(12,6))\n",
        "wordcloud = WordCloud(background_color='white', width=600, height=300, max_font_size=50, max_words=40).generate(text_da)\n",
        "wordcloud.recolor(random_state=0)\n",
        "plt.imshow(wordcloud)\n",
        "plt.title(\"Wordcloud for Display Address\", fontsize=30)\n",
        "plt.axis(\"off\")\n",
        "plt.show()"
      ]
    }
  ],
  "metadata": {
    "_change_revision": 0,
    "_is_fork": false,
    "kernelspec": {
      "display_name": "Python 3",
      "language": "python",
      "name": "python3"
    },
    "language_info": {
      "codemirror_mode": {
        "name": "ipython",
        "version": 3
      },
      "file_extension": ".py",
      "mimetype": "text/x-python",
      "name": "python",
      "nbconvert_exporter": "python",
      "pygments_lexer": "ipython3",
      "version": "3.6.0"
    }
  },
  "nbformat": 4,
  "nbformat_minor": 0
}