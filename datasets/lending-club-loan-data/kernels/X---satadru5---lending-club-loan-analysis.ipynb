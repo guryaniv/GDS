{
  "cells": [
    {
      "cell_type": "code",
      "execution_count": null,
      "metadata": {
        "_cell_guid": "bb58eb59-f1ff-b428-6c7d-c387d091a38b"
      },
      "outputs": [],
      "source": [
        "# This Python 3 environment comes with many helpful analytics libraries installed\n",
        "# It is defined by the kaggle/python docker image: https://github.com/kaggle/docker-python\n",
        "# For example, here's several helpful packages to load in \n",
        "\n",
        "import numpy as np # linear algebra\n",
        "import pandas as pd # data processing, CSV file I/O (e.g. pd.read_csv)\n",
        "import numpy as np # linear algebra\n",
        "import pandas as pd # data processing, CSV file I/O (e.g. pd.read_csv)\n",
        "import numpy as np # linear algebra\n",
        "import pandas as pd # data processing, CSV file I/O (e.g. pd.read_csv)\n",
        "import matplotlib as mpl\n",
        "import matplotlib.pyplot as plt\n",
        "import seaborn as sns\n",
        "%matplotlib inline\n",
        "\n",
        "# Input data files are available in the \"../input/\" directory.\n",
        "# For example, running this (by clicking run or pressing Shift+Enter) will list the files in the input directory\n",
        "\n",
        "from subprocess import check_output\n",
        "print(check_output([\"ls\", \"../input\"]).decode(\"utf8\"))\n",
        "\n",
        "# Any results you write to the current directory are saved as output."
      ]
    },
    {
      "cell_type": "code",
      "execution_count": null,
      "metadata": {
        "_cell_guid": "12923d5b-0698-61b8-2fd6-734538132aeb"
      },
      "outputs": [],
      "source": [
        "df=pd.read_csv('../input/loan.csv',low_memory=False)"
      ]
    },
    {
      "cell_type": "code",
      "execution_count": null,
      "metadata": {
        "_cell_guid": "d61cbe95-641a-532b-8880-276ac8536e55"
      },
      "outputs": [],
      "source": [
        "df.shape"
      ]
    },
    {
      "cell_type": "code",
      "execution_count": null,
      "metadata": {
        "_cell_guid": "b1bf4dbd-4f03-60dd-08c0-3a2c2a9c7c8f"
      },
      "outputs": [],
      "source": [
        "df.head(3)"
      ]
    },
    {
      "cell_type": "code",
      "execution_count": null,
      "metadata": {
        "_cell_guid": "297a627a-4564-b396-26a0-612af2915034"
      },
      "outputs": [],
      "source": [
        "x=df.isnull().sum().sort_values(ascending=False)"
      ]
    },
    {
      "cell_type": "code",
      "execution_count": null,
      "metadata": {
        "_cell_guid": "728f2e4f-4136-c1db-e6db-ea23ee4497ae"
      },
      "outputs": [],
      "source": [
        "df =df.drop(['dti_joint',\n",
        "'verification_status_joint',\n",
        "'annual_inc_joint',\n",
        "'il_util',\n",
        "'mths_since_rcnt_il',\n",
        "'all_util',\n",
        "'max_bal_bc',\n",
        "'open_rv_24m',\n",
        "'open_rv_12m',\n",
        "'total_cu_tl',\n",
        "'total_bal_il',\n",
        "'open_il_24m',\n",
        "'open_il_12m',\n",
        "'open_il_6m',\n",
        "'open_acc_6m',\n",
        "'inq_fi',\n",
        "'inq_last_12m',\n",
        "'desc',\n",
        "'mths_since_last_record',\n",
        "'mths_since_last_major_derog',\n",
        "'mths_since_last_delinq',\n",
        "'next_pymnt_d'\n",
        "],axis=1)"
      ]
    },
    {
      "cell_type": "code",
      "execution_count": null,
      "metadata": {
        "_cell_guid": "f41fa689-f1fb-8b2e-d8cf-add6e922a3ae"
      },
      "outputs": [],
      "source": [
        "df.isnull().sum().sort_values(ascending=False)"
      ]
    },
    {
      "cell_type": "code",
      "execution_count": null,
      "metadata": {
        "_cell_guid": "670de391-61df-6949-e123-6a90cea43c3d"
      },
      "outputs": [],
      "source": [
        "emp_title=df['emp_title']"
      ]
    },
    {
      "cell_type": "code",
      "execution_count": null,
      "metadata": {
        "_cell_guid": "7f2a1897-ad92-417c-83d3-affbc7704add"
      },
      "outputs": [],
      "source": [
        "df=df.drop(['emp_title','total_rev_hi_lim','tot_coll_amt','tot_cur_bal'],axis=1)"
      ]
    },
    {
      "cell_type": "code",
      "execution_count": null,
      "metadata": {
        "_cell_guid": "063f21e2-bf5f-b9ee-6be0-bf0a2158198a"
      },
      "outputs": [],
      "source": [
        "df.isnull().sum().sort_values(ascending=False)"
      ]
    },
    {
      "cell_type": "code",
      "execution_count": null,
      "metadata": {
        "_cell_guid": "5c37ee55-bfb2-96a2-2b17-eea7a98bd134"
      },
      "outputs": [],
      "source": [
        "df.head(4)"
      ]
    },
    {
      "cell_type": "code",
      "execution_count": null,
      "metadata": {
        "_cell_guid": "ca28b272-e049-480c-f90e-4ee2f1ea1e99"
      },
      "outputs": [],
      "source": [
        "sns.countplot(df['application_type'])"
      ]
    },
    {
      "cell_type": "code",
      "execution_count": null,
      "metadata": {
        "_cell_guid": "65630d8d-d431-ff14-1f5f-58aa4a44bedc"
      },
      "outputs": [],
      "source": [
        "sns.countplot(df['grade'])"
      ]
    },
    {
      "cell_type": "code",
      "execution_count": null,
      "metadata": {
        "_cell_guid": "d53e9fc2-2acb-66f8-f6c7-57cd50af12ed"
      },
      "outputs": [],
      "source": [
        "sns.countplot(df['term'])"
      ]
    },
    {
      "cell_type": "code",
      "execution_count": null,
      "metadata": {
        "_cell_guid": "666e39ff-ad09-b00f-0cca-acb74eb074c5"
      },
      "outputs": [],
      "source": [
        "corr=df.corr()\n",
        "corr = (corr)\n",
        "plt.figure(figsize=(20,20))\n",
        "sns.heatmap(corr, cbar = True,  square = True, annot=True, fmt= '.2f',annot_kws=\n",
        "\n",
        "{'size': 15},\n",
        "            xticklabels=corr.columns.values,\n",
        "            yticklabels=corr.columns.values)\n",
        "sns.plt.title('Heatmap of Correlation Matrix')"
      ]
    },
    {
      "cell_type": "code",
      "execution_count": null,
      "metadata": {
        "_cell_guid": "13e17f99-66c4-ebe2-dcda-0e8cda9dbd29"
      },
      "outputs": [],
      "source": [
        "loan_status_distribution=pd.DataFrame(df['loan_status'].value_counts())"
      ]
    },
    {
      "cell_type": "code",
      "execution_count": null,
      "metadata": {
        "_cell_guid": "edc176fc-d1b5-9097-0ecb-8bf8afb5ecf6"
      },
      "outputs": [],
      "source": [
        "loan_status_distribution=pd.DataFrame(df['loan_status'].value_counts())\n",
        "loan_status_distribution.reset_index(inplace=True)\n",
        "loan_status_distribution.columns=['Loan_Status_Category','Number of applicants']\n",
        "loan_status_distribution"
      ]
    },
    {
      "cell_type": "code",
      "execution_count": null,
      "metadata": {
        "_cell_guid": "f7c4542f-4b26-4d3c-fb98-e0090db1834d"
      },
      "outputs": [],
      "source": [
        "sns.set_style('whitegrid')\n",
        "plt.figure(figsize=(10,10))\n",
        "sns.countplot(x='loan_status',data=df,palette='cubehelix')\n",
        "sns.despine(top=True,right=True)\n",
        "plt.xticks(rotation=90)\n",
        "plt.show()"
      ]
    },
    {
      "cell_type": "code",
      "execution_count": null,
      "metadata": {
        "_cell_guid": "bcfe223d-7f61-0207-6863-d1198d0d5406"
      },
      "outputs": [],
      "source": [
        "df.head(5)"
      ]
    },
    {
      "cell_type": "code",
      "execution_count": null,
      "metadata": {
        "_cell_guid": "e4583124-aa2a-dbc1-8889-dc97d22f4a3e"
      },
      "outputs": [],
      "source": [
        "df2=df.copy()\n",
        "import plotly.plotly as py\n",
        "import plotly.graph_objs as go\n",
        "from plotly import tools\n",
        "from plotly.offline import iplot, init_notebook_mode\n",
        "init_notebook_mode()\n",
        "state_average_int_rate=df.groupby('addr_state').agg({'int_rate':np.average,'id':np.count_nonzero,'annual_inc':np.average})\n",
        "state_average_int_rate.reset_index(inplace=True)\n",
        "state_average_int_rate['id']=state_average_int_rate['id'].astype(str)\n",
        "state_average_int_rate['interest']=state_average_int_rate['int_rate']\n",
        "state_average_int_rate['int_rate']= 'Average Interest Rate: ' + \\\n",
        "state_average_int_rate['int_rate'].apply(lambda x: str(round(x,2)))+ \"%\"\n",
        "state_average_int_rate['annual_inc']=(state_average_int_rate['annual_inc']/1000.0)\n",
        "state_average_int_rate['annual_inc']=state_average_int_rate['annual_inc'].apply(lambda x: str(round(x,2)))\n",
        "state_average_int_rate['text']='Number of Applicants: ' + state_average_int_rate['id']+'<br>'+ \\\n",
        "'Average Annual Inc: $'+ state_average_int_rate['annual_inc']+'k'\n",
        "\n",
        "scl= [[0,\"rgb(5, 10, 172)\"],[0.35,\"rgb(40, 60, 190)\"],[0.5,\"rgb(70, 100, 245)\"],\\\n",
        "            [0.6,\"rgb(90, 120, 245)\"],[0.7,\"rgb(106, 137, 247)\"],[1,\"rgb(220, 220, 220)\"]]\n",
        "\n",
        "data = [ dict(\n",
        "        type='choropleth',\n",
        "        colorscale = scl,\n",
        "        autocolorscale = False,\n",
        "        locations = state_average_int_rate['addr_state'],\n",
        "        z = state_average_int_rate['interest'].astype(float),\n",
        "        text=state_average_int_rate['text'],\n",
        "        locationmode = 'USA-states',\n",
        "        marker = dict(\n",
        "            line = dict (\n",
        "                color = 'rgb(255,255,255)',\n",
        "                width = 2\n",
        "            ) ),\n",
        "        colorbar = dict(\n",
        "            title = \"Interest Rates\")\n",
        "        ) ]\n",
        "\n",
        "layout = dict(\n",
        "        title = '<b>Interest Rate by US States</b><br>Additional Details: <br> Avreage Annual Inc \\t Number of Applicants',\n",
        "        geo = dict(\n",
        "            scope='usa',\n",
        "            projection=dict( type='albers usa' ),\n",
        "        \n",
        "             ))\n",
        "    \n",
        "fig = dict( data=data, layout=layout )\n",
        "iplot( fig, filename='d3-cloropleth-map' )"
      ]
    },
    {
      "cell_type": "code",
      "execution_count": null,
      "metadata": {
        "_cell_guid": "11ee92ff-f6bb-cca9-0bb3-1ced37c6c8d2"
      },
      "outputs": [],
      "source": [
        "df.head(3)"
      ]
    },
    {
      "cell_type": "code",
      "execution_count": null,
      "metadata": {
        "_cell_guid": "f40cc927-294c-ebb4-4631-9d6a7d6073c0"
      },
      "outputs": [],
      "source": [
        "df.columns"
      ]
    }
  ],
  "metadata": {
    "_change_revision": 0,
    "_is_fork": false,
    "kernelspec": {
      "display_name": "Python 3",
      "language": "python",
      "name": "python3"
    },
    "language_info": {
      "codemirror_mode": {
        "name": "ipython",
        "version": 3
      },
      "file_extension": ".py",
      "mimetype": "text/x-python",
      "name": "python",
      "nbconvert_exporter": "python",
      "pygments_lexer": "ipython3",
      "version": "3.6.0"
    }
  },
  "nbformat": 4,
  "nbformat_minor": 0
}