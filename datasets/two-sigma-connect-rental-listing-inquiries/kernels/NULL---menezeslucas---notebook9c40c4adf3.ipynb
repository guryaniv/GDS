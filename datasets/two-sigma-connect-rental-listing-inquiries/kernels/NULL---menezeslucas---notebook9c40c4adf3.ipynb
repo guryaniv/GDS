{
  "cells": [
    {
      "cell_type": "code",
      "execution_count": null,
      "metadata": {
        "_cell_guid": "87cb95fe-f082-12c9-0802-ccaf4a8fe240"
      },
      "outputs": [],
      "source": [
        "# This Python 3 environment comes with many helpful analytics libraries installed\n",
        "# It is defined by the kaggle/python docker image: https://github.com/kaggle/docker-python\n",
        "# For example, here's several helpful packages to load in \n",
        "\n",
        "import numpy as np # linear algebra\n",
        "import pandas as pd # data processing, CSV file I/O (e.g. pd.read_csv)\n",
        "from scipy import sparse\n",
        "import xgboost as xgb\n",
        "import random\n",
        "from sklearn.preprocessing import LabelEncoder\n",
        "from sklearn.metrics import log_loss\n",
        "from sklearn.feature_extraction.text import CountVectorizer\n",
        "\n",
        "# Input data files are available in the \"../input/\" directory.\n",
        "# For example, running this (by clicking run or pressing Shift+Enter) will list the files in the input directory\n",
        "\n",
        "from subprocess import check_output\n",
        "print(check_output([\"ls\", \"../input\"]).decode(\"utf8\"))\n",
        "\n",
        "# Any results you write to the current directory are saved as output."
      ]
    },
    {
      "cell_type": "code",
      "execution_count": null,
      "metadata": {
        "_cell_guid": "5f2d9fd3-4b32-f5bb-5051-8c054e23f0a0"
      },
      "outputs": [],
      "source": [
        "def runXGB(train_X, train_y, test_X, test_y=None, feature_names=None, seed_val=1234, num_rounds=1800):\n",
        "    param = {}\n",
        "    param['objective'] = 'multi:softprob'\n",
        "    param['eta'] = 0.02\n",
        "    param['max_depth'] = 6\n",
        "    param['silent'] = 1\n",
        "    param['num_class'] = 3\n",
        "    param['eval_metric'] = \"mlogloss\"\n",
        "    param['min_child_weight'] = 1\n",
        "    param['subsample'] = 0.7\n",
        "    param['colsample_bytree'] = 0.7\n",
        "    param['seed'] = seed_val\n",
        "    num_rounds = num_rounds\n",
        "\n",
        "    plst = list(param.items())\n",
        "    xgtrain = xgb.DMatrix(train_X, label=train_y)\n",
        "\n",
        "    if test_y is not None:\n",
        "        xgtest = xgb.DMatrix(test_X, label=test_y)\n",
        "        watchlist = [ (xgtrain,'train'), (xgtest, 'test') ]\n",
        "        model = xgb.train(plst, xgtrain, num_rounds, watchlist, early_stopping_rounds=20)\n",
        "    else:\n",
        "        xgtest = xgb.DMatrix(test_X)\n",
        "        model = xgb.train(plst, xgtrain, num_rounds)\n",
        "\n",
        "    pred_test_y = model.predict(xgtest)\n",
        "    return pred_test_y, model"
      ]
    },
    {
      "cell_type": "code",
      "execution_count": null,
      "metadata": {
        "_cell_guid": "9a0488b1-f342-16f5-2329-441843d60165"
      },
      "outputs": [],
      "source": [
        "train_df = pd.read_json(\"../input/train.json\")\n",
        "test_df = pd.read_json(\"../input/test.json\")"
      ]
    },
    {
      "cell_type": "code",
      "execution_count": null,
      "metadata": {
        "_cell_guid": "40cca792-0305-2166-6889-0a91e7873171"
      },
      "outputs": [],
      "source": [
        "price_num = train_df[\"price\"]\n",
        "price_mean = price_num.mean()\n",
        "price_std = price_num.std()\n",
        "price_reg = (price_num - price_mean)/price_std\n",
        "train_df[\"price_reg\"] = price_reg\n",
        "\n",
        "price_num = test_df[\"price\"]\n",
        "price_mean = price_num.mean()\n",
        "price_std = price_num.std()\n",
        "price_reg = (price_num - price_mean)/price_std\n",
        "test_df[\"price_reg\"] = price_reg\n"
      ]
    },
    {
      "cell_type": "code",
      "execution_count": null,
      "metadata": {
        "_cell_guid": "ee72117b-b77b-2d31-0c57-c46782be4a45"
      },
      "outputs": [],
      "source": [
        "train_df[\"created\"] = pd.to_datetime(train_df[\"created\"])\n",
        "test_df[\"created\"] = pd.to_datetime(test_df[\"created\"])\n",
        "\n",
        "train_year = train_df[\"created\"].dt.year\n",
        "test_year = test_df[\"created\"].dt.year\n",
        "train_month = train_df[\"created\"].dt.month\n",
        "test_month = test_df[\"created\"].dt.month\n",
        "train_day = train_df[\"created\"].dt.day\n",
        "test_day = test_df[\"created\"].dt.day\n",
        "\n",
        "created_num = train_day + 30.45*train_month + 365.4*train_year\n",
        "created_mean = created_num.mean()\n",
        "created_std = created_num.std()\n",
        "created_reg = (created_num - created_mean)/created_std\n",
        "train_df[\"created_reg\"] = created_reg\n",
        "\n",
        "created_num = test_day + 30.45*test_month + 365.4*test_year\n",
        "created_mean = created_num.mean()\n",
        "created_std = created_num.std()\n",
        "created_reg = (created_num - created_mean)/created_std\n",
        "test_df[\"created_reg\"] = created_reg"
      ]
    },
    {
      "cell_type": "code",
      "execution_count": null,
      "metadata": {
        "_cell_guid": "e6fd4e64-4cd8-2e56-6027-52546553ac93"
      },
      "outputs": [],
      "source": [
        "#pre\u00e7o por banheiros\n",
        "train_df[\"price_t\"] =train_df[\"price\"]/train_df[\"bedrooms\"]\n",
        "test_df[\"price_t\"] = test_df[\"price\"]/test_df[\"bedrooms\"] "
      ]
    },
    {
      "cell_type": "code",
      "execution_count": null,
      "metadata": {
        "_cell_guid": "f3681145-157a-eebe-be20-2b88f055d258"
      },
      "outputs": [],
      "source": [
        "train_df[\"room_sum\"] = train_df[\"bedrooms\"]+train_df[\"bathrooms\"] \n",
        "test_df[\"room_sum\"] = test_df[\"bedrooms\"]+test_df[\"bathrooms\"] "
      ]
    },
    {
      "cell_type": "code",
      "execution_count": null,
      "metadata": {
        "_cell_guid": "0477a76b-66e2-d367-6e0e-aeb1dda44e3a"
      },
      "outputs": [],
      "source": [
        "train_df['price_per_room'] = train_df['price']/train_df['room_sum']\n",
        "test_df['price_per_room'] = test_df['price']/test_df['room_sum']"
      ]
    },
    {
      "cell_type": "code",
      "execution_count": null,
      "metadata": {
        "_cell_guid": "fc35a97f-d096-b7c3-f632-2714518d62b4"
      },
      "outputs": [],
      "source": [
        "#quantidade de fotos\n",
        "train_df[\"num_photos\"] = train_df[\"photos\"].apply(len)\n",
        "test_df[\"num_photos\"] = test_df[\"photos\"].apply(len)"
      ]
    },
    {
      "cell_type": "code",
      "execution_count": null,
      "metadata": {
        "_cell_guid": "e6d0f41e-b29c-4e46-dc0a-416682928fed"
      },
      "outputs": [],
      "source": [
        "train_df[\"num_features\"] = train_df[\"features\"].apply(len)\n",
        "test_df[\"num_features\"] = test_df[\"features\"].apply(len)"
      ]
    },
    {
      "cell_type": "code",
      "execution_count": null,
      "metadata": {
        "_cell_guid": "4602600a-cc47-c74d-e43d-ada184f9625e"
      },
      "outputs": [],
      "source": [
        "train_df[\"num_description_words\"] = train_df[\"description\"].apply(lambda x: len(x.split(\" \")))\n",
        "test_df[\"num_description_words\"] = test_df[\"description\"].apply(lambda x: len(x.split(\" \")))"
      ]
    },
    {
      "cell_type": "code",
      "execution_count": null,
      "metadata": {
        "_cell_guid": "7ad31542-ec7f-75cb-f560-2b16d4b2900c"
      },
      "outputs": [],
      "source": [
        "train_df[\"pos\"] = train_df.longitude.round(3).astype(str) + '_' + train_df.latitude.round(3).astype(str)\n",
        "test_df[\"pos\"] = test_df.longitude.round(3).astype(str) + '_' + test_df.latitude.round(3).astype(str)"
      ]
    },
    {
      "cell_type": "code",
      "execution_count": null,
      "metadata": {
        "_cell_guid": "0fe54bd4-41c7-981b-399f-4fac06afc396"
      },
      "outputs": [],
      "source": [
        "vals = train_df['pos'].value_counts()\n",
        "dvals = vals.to_dict()\n",
        "train_df[\"density\"] = train_df['pos'].apply(lambda x: dvals.get(x, vals.min()))\n",
        "test_df[\"density\"] = test_df['pos'].apply(lambda x: dvals.get(x, vals.min()))"
      ]
    },
    {
      "cell_type": "code",
      "execution_count": null,
      "metadata": {
        "_cell_guid": "8a6cb47a-6cac-2844-d385-68a4efb82831"
      },
      "outputs": [],
      "source": [
        "features_to_use=[\"bathrooms\", \"bedrooms\", \"latitude\", \"longitude\", \"price\",\"price_t\",\"price_per_room\", \"price_reg\", \n",
        "                 \"density\", \"num_photos\", \"num_features\", \"num_description_words\",\"listing_id\", \"created_reg\"]\n",
        "\n",
        "index=list(range(train_df.shape[0]))\n",
        "random.shuffle(index)\n",
        "a=[np.nan]*len(train_df)\n",
        "b=[np.nan]*len(train_df)\n",
        "c=[np.nan]*len(train_df)"
      ]
    },
    {
      "cell_type": "code",
      "execution_count": null,
      "metadata": {
        "_cell_guid": "6c76723a-26f9-0853-2246-f5f60b657fff"
      },
      "outputs": [],
      "source": [
        "for i in range(5):\n",
        "    building_level={}\n",
        "    for j in train_df['manager_id'].values:\n",
        "        building_level[j]=[0,0,0]\n",
        "    \n",
        "    test_index=index[int((i*train_df.shape[0])/5):int(((i+1)*train_df.shape[0])/5)]\n",
        "    train_index=list(set(index).difference(test_index))\n",
        "    \n",
        "    for j in train_index:\n",
        "        temp=train_df.iloc[j]\n",
        "        if temp['interest_level']=='low':\n",
        "            building_level[temp['manager_id']][0]+=1\n",
        "        if temp['interest_level']=='medium':\n",
        "            building_level[temp['manager_id']][1]+=1\n",
        "        if temp['interest_level']=='high':\n",
        "            building_level[temp['manager_id']][2]+=1\n",
        "            \n",
        "    for j in test_index:\n",
        "        temp=train_df.iloc[j]\n",
        "        if sum(building_level[temp['manager_id']])!=0:\n",
        "            a[j]=building_level[temp['manager_id']][0]*1.0/sum(building_level[temp['manager_id']])\n",
        "            b[j]=building_level[temp['manager_id']][1]*1.0/sum(building_level[temp['manager_id']])\n",
        "            c[j]=building_level[temp['manager_id']][2]*1.0/sum(building_level[temp['manager_id']])"
      ]
    },
    {
      "cell_type": "code",
      "execution_count": null,
      "metadata": {
        "_cell_guid": "8234bfd1-9149-e56c-9571-001faf411b17"
      },
      "outputs": [],
      "source": [
        "train_df['manager_level_low']=a\n",
        "train_df['manager_level_medium']=b\n",
        "train_df['manager_level_high']=c\n",
        "\n",
        "a=[]\n",
        "b=[]\n",
        "c=[]\n",
        "building_level={}"
      ]
    },
    {
      "cell_type": "code",
      "execution_count": null,
      "metadata": {
        "_cell_guid": "43be5d22-b4bf-43f3-2080-a4c3ff249b4e"
      },
      "outputs": [],
      "source": [
        "for j in train_df['manager_id'].values:\n",
        "    building_level[j]=[0,0,0]"
      ]
    },
    {
      "cell_type": "code",
      "execution_count": null,
      "metadata": {
        "_cell_guid": "a25baaa0-aefa-0160-8ed5-fca8f425ba1b"
      },
      "outputs": [],
      "source": [
        "for j in range(train_df.shape[0]):\n",
        "    temp=train_df.iloc[j]\n",
        "    if temp['interest_level']=='low':\n",
        "        building_level[temp['manager_id']][0]+=1\n",
        "    if temp['interest_level']=='medium':\n",
        "        building_level[temp['manager_id']][1]+=1\n",
        "    if temp['interest_level']=='high':\n",
        "        building_level[temp['manager_id']][2]+=1"
      ]
    },
    {
      "cell_type": "code",
      "execution_count": null,
      "metadata": {
        "_cell_guid": "18ea6432-afb7-9fbf-4117-c7b585c3bcfc"
      },
      "outputs": [],
      "source": [
        "for i in test_df['manager_id'].values:\n",
        "    if i not in building_level.keys():\n",
        "        a.append(np.nan)\n",
        "        b.append(np.nan)\n",
        "        c.append(np.nan)\n",
        "    else:\n",
        "        a.append(building_level[i][0]*1.0/sum(building_level[i]))\n",
        "        b.append(building_level[i][1]*1.0/sum(building_level[i]))\n",
        "        c.append(building_level[i][2]*1.0/sum(building_level[i]))"
      ]
    },
    {
      "cell_type": "code",
      "execution_count": null,
      "metadata": {
        "_cell_guid": "85560b78-0fe1-cadf-bb82-7f6596f7cb72"
      },
      "outputs": [],
      "source": [
        "test_df['manager_level_low']=a\n",
        "test_df['manager_level_medium']=b\n",
        "test_df['manager_level_high']=c"
      ]
    },
    {
      "cell_type": "code",
      "execution_count": null,
      "metadata": {
        "_cell_guid": "df3bc43f-668f-1112-a366-d298ace4488b"
      },
      "outputs": [],
      "source": [
        "features_to_use.append('manager_level_low') \n",
        "features_to_use.append('manager_level_medium') \n",
        "features_to_use.append('manager_level_high')"
      ]
    },
    {
      "cell_type": "code",
      "execution_count": null,
      "metadata": {
        "_cell_guid": "bb47e91e-7503-304a-0d77-c2c9e489d82b"
      },
      "outputs": [],
      "source": [
        "categorical = [\"display_address\", \"manager_id\", \"building_id\"]\n",
        "for f in categorical:\n",
        "        if train_df[f].dtype=='object':\n",
        "            lbl = LabelEncoder()\n",
        "            lbl.fit(list(train_df[f].values) + list(test_df[f].values))\n",
        "            train_df[f] = lbl.transform(list(train_df[f].values))\n",
        "            test_df[f] = lbl.transform(list(test_df[f].values))\n",
        "            features_to_use.append(f)"
      ]
    },
    {
      "cell_type": "code",
      "execution_count": null,
      "metadata": {
        "_cell_guid": "f6f28f6a-d599-f77a-f978-d10e6a6feefc"
      },
      "outputs": [],
      "source": [
        "train_df['features'] = train_df[\"features\"].apply(lambda x: \" \".join([\"_\".join(i.split(\" \")) for i in x]))\n",
        "test_df['features'] = test_df[\"features\"].apply(lambda x: \" \".join([\"_\".join(i.split(\" \")) for i in x]))"
      ]
    },
    {
      "cell_type": "code",
      "execution_count": null,
      "metadata": {
        "_cell_guid": "24c79637-999f-5583-5abc-9d642a3d30ae"
      },
      "outputs": [],
      "source": [
        "tfidf = CountVectorizer(stop_words='english', max_features=200)\n",
        "tr_sparse = tfidf.fit_transform(train_df[\"features\"])\n",
        "te_sparse = tfidf.transform(test_df[\"features\"])"
      ]
    },
    {
      "cell_type": "code",
      "execution_count": null,
      "metadata": {
        "_cell_guid": "97a50811-dea8-fd37-e397-fede7fcdb551"
      },
      "outputs": [],
      "source": [
        "train_X = sparse.hstack([train_df[features_to_use], tr_sparse]).tocsr()\n",
        "test_X = sparse.hstack([test_df[features_to_use], te_sparse]).tocsr()"
      ]
    },
    {
      "cell_type": "code",
      "execution_count": null,
      "metadata": {
        "_cell_guid": "1fee50aa-f415-7d57-b373-f3b580c6adf6"
      },
      "outputs": [],
      "source": [
        "target_num_map = {'high':0, 'medium':1, 'low':2}\n",
        "train_y = np.array(train_df['interest_level'].apply(lambda x: target_num_map[x]))"
      ]
    },
    {
      "cell_type": "code",
      "execution_count": null,
      "metadata": {
        "_cell_guid": "381f532e-6fe7-c2db-c660-715710ca2123"
      },
      "outputs": [],
      "source": [
        "preds, model = runXGB(train_X, train_y, test_X, num_rounds=1600)\n",
        "out_df = pd.DataFrame(preds)\n",
        "out_df.columns = [\"high\", \"medium\", \"low\"]\n",
        "out_df[\"listing_id\"] = test_df.listing_id.values\n",
        "out_df.to_csv(\"sub51.csv\", index=False)"
      ]
    },
    {
      "cell_type": "code",
      "execution_count": null,
      "metadata": {
        "_cell_guid": "2b1d7b62-db61-8fe3-f14a-d670fe193ad3"
      },
      "outputs": [],
      "source": [
        ""
      ]
    }
  ],
  "metadata": {
    "_change_revision": 0,
    "_is_fork": false,
    "kernelspec": {
      "display_name": "Python 3",
      "language": "python",
      "name": "python3"
    },
    "language_info": {
      "codemirror_mode": {
        "name": "ipython",
        "version": 3
      },
      "file_extension": ".py",
      "mimetype": "text/x-python",
      "name": "python",
      "nbconvert_exporter": "python",
      "pygments_lexer": "ipython3",
      "version": "3.6.0"
    }
  },
  "nbformat": 4,
  "nbformat_minor": 0
}