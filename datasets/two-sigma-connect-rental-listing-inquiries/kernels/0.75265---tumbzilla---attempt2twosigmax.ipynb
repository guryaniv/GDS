{
  "cells": [
    {
      "cell_type": "markdown",
      "metadata": {
        "_cell_guid": "5d85b276-e58d-2917-9364-cf69228c9da7"
      },
      "source": [
        ""
      ]
    },
    {
      "cell_type": "code",
      "execution_count": null,
      "metadata": {
        "_cell_guid": "62e7a083-bbbc-38a7-26dd-a6c58b7426c9"
      },
      "outputs": [],
      "source": [
        "# This Python 3 environment comes with many helpful analytics libraries installed\n",
        "# It is defined by the kaggle/python docker image: https://github.com/kaggle/docker-python\n",
        "# For example, here's several helpful packages to load in \n",
        "\n",
        "import numpy as np # linear algebra\n",
        "import pandas as pd # data processing, CSV file I/O (e.g. pd.read_csv)\n",
        "import matplotlib.pyplot as plt # for visualization\n",
        "import seaborn as sns\n",
        "from sklearn import linear_model\n",
        "import re\n",
        "\n",
        "from sklearn.preprocessing import LabelEncoder\n",
        "from sklearn.model_selection import train_test_split\n",
        "from sklearn.linear_model import LogisticRegression\n",
        "from sklearn.ensemble import RandomForestClassifier\n",
        "from sklearn.tree import DecisionTreeClassifier\n",
        "from sklearn.metrics import confusion_matrix, classification_report, accuracy_score\n",
        "from sklearn.model_selection import cross_val_score\n",
        "from xgboost import XGBClassifier, plot_importance\n",
        "\n",
        "%matplotlib inline\n",
        "### Seaborn style\n",
        "sns.set_style(\"whitegrid\")\n",
        "\n",
        "# Input data files are available in the \"../input/\" directory.\n",
        "# For example, running this (by clicking run or pressing Shift+Enter) will list the files in the input directory\n",
        "\n",
        "trainingData = pd.read_json('../input/train.json')\n",
        "\n",
        "\n",
        "#trainingData['building_id'] = trainingData['building_id'].to_string\n",
        "\n",
        "trainingData.info()"
      ]
    },
    {
      "cell_type": "code",
      "execution_count": null,
      "metadata": {
        "_cell_guid": "6e532c86-a157-3151-36db-4c0a1a64a5c6"
      },
      "outputs": [],
      "source": [
        "trainingData.isnull().sum()"
      ]
    },
    {
      "cell_type": "markdown",
      "metadata": {
        "_cell_guid": "4d7fe9fd-5390-6a2d-17a3-51952c7c4f78"
      },
      "source": [
        "Awesome. There aren't any missing data."
      ]
    },
    {
      "cell_type": "code",
      "execution_count": null,
      "metadata": {
        "_cell_guid": "024ef6da-07e3-453f-ffb7-93f08ed9df6a"
      },
      "outputs": [],
      "source": [
        "sns.countplot(trainingData.interest_level, order=['low', 'medium', 'high']);\n",
        "plt.xlabel('Interest Level');\n",
        "plt.ylabel('Number of occurrences');"
      ]
    },
    {
      "cell_type": "code",
      "execution_count": null,
      "metadata": {
        "_cell_guid": "3d94c04b-0b0f-56fb-a836-d476994c8b0a"
      },
      "outputs": [],
      "source": [
        "\n",
        "trainingData['numPics'] = trainingData['photos'].apply(len)\n",
        "\n",
        "trainingData.info()"
      ]
    },
    {
      "cell_type": "code",
      "execution_count": null,
      "metadata": {
        "_cell_guid": "f97ef330-f989-15d0-0f28-fa96789a3c06"
      },
      "outputs": [],
      "source": [
        "features = [x for sublist in trainingData['features'] for x in sublist]\n",
        "\n",
        "for x in features:\n",
        "    if \"*\" in x: features.remove(x)\n",
        "\n",
        "features = set(features)\n",
        "\n",
        "features.discard('<null>')\n",
        "\n",
        "has_ac = [ s for s in features if any(ac_name in s for ac_name in ['A/C', \"AC\", \"Air Conditioning\"] ) and not(any(wrong in s for wrong in [\"FIRE\",'ACT','APT', 'SPACE','YARD'])) ]\n",
        "\n",
        "trainingData['has_ac'] = [any(ac in feature for ac in has_ac) for feature in trainingData['features'] ]\n",
        "  \n",
        "free_included = [ s for s in features if any(ac_name in s for ac_name in [\"free\",\"FREE\",\"Free\", \"Gift\", \"gift\", '1/2 Month fee', \"included\", \"INCLUDED\",\"Included\"] ) ]\n",
        "    \n",
        "trainingData[\"included_offer\"] = [any(free in feature for free in free_included) for feature in trainingData['features']]\n",
        "\n",
        "doorman = [ s for s in features if any(ac_name in s for ac_name in [\"doorman\",\"DOORMAN\",\"Doorman\",'doormen','Doormen', 'full-service', 'concierge','Concierge','Attended Lobby', 'Attended lobby', 'attended lobby'] ) ]\n",
        "   \n",
        "trainingData[\"concierge\"] = [any(door in feature for door in doorman) for feature in trainingData['features']]\n",
        "\n",
        "Washer = [ s for s in features if any(ac_name in s for ac_name in ['Washer', \"Dryer\",'Washer','Dryer','washer','dryer','laundry','LAUNDRY','Laundry'] ) and not(any(notname in s for notname in ['dish','DISH','Dish', 'Disw'] )) ]\n",
        "\n",
        "trainingData[\"laundry\"] = [any(laundry in feature for laundry in Washer) for feature in trainingData['features']]"
      ]
    },
    {
      "cell_type": "code",
      "execution_count": null,
      "metadata": {
        "_cell_guid": "7d297234-5e78-6b82-c2c0-fa3bafdead00"
      },
      "outputs": [],
      "source": [
        "labelEncoder = LabelEncoder()\n",
        "\n",
        "trainingData['interest'] = labelEncoder.fit_transform(trainingData['interest_level'])\n",
        "\n",
        "trainingDataSub = trainingData.loc[trainingData['interest']==0]\n",
        "\n",
        "trainingDataSub = trainingDataSub.append(trainingData.loc[trainingData['interest']==1].sample(15000))\n",
        "\n",
        "trainingDataSub = trainingDataSub.append(trainingData.loc[trainingData['interest']==2].sample(10000))\n",
        "\n",
        "\n",
        "y = trainingDataSub['interest']\n",
        "\n",
        "X = trainingDataSub[['bathrooms', 'bedrooms', 'latitude', 'longitude', 'price', 'numPics', 'has_ac', 'included_offer', 'concierge', 'laundry']]\n",
        "\n",
        "X_train, X_test, y_train, y_test = train_test_split(X, y, test_size=0.3, random_state=52)"
      ]
    },
    {
      "cell_type": "code",
      "execution_count": null,
      "metadata": {
        "_cell_guid": "be9487fb-5b36-0538-bb9b-c9cea1135507"
      },
      "outputs": [],
      "source": [
        "trainingData.dtypes"
      ]
    },
    {
      "cell_type": "code",
      "execution_count": null,
      "metadata": {
        "_cell_guid": "68073ffe-9bf7-e964-b1e8-33c7730281d4"
      },
      "outputs": [],
      "source": [
        "from sklearn import neural_network\n",
        "\n",
        "regr = neural_network.MLPClassifier(hidden_layer_sizes = (50,50,10))\n",
        "\n",
        "regr.fit(X_train, y_train)"
      ]
    },
    {
      "cell_type": "code",
      "execution_count": null,
      "metadata": {
        "_cell_guid": "6943dabf-b4dd-a052-eaa5-5bb7a8c7976e"
      },
      "outputs": [],
      "source": [
        "pred = regr.predict(X_test)\n",
        "\n",
        "print(confusion_matrix(pred, y_test))\n",
        "\n",
        "print(accuracy_score(pred, y_test))\n",
        "\n",
        "print(labelEncoder.classes_)\n",
        "#regr.get_params(deep=True)"
      ]
    },
    {
      "cell_type": "code",
      "execution_count": null,
      "metadata": {
        "_cell_guid": "c618487c-0bc1-53ce-44ef-ec5427914900"
      },
      "outputs": [],
      "source": [
        "deepfor = RandomForestClassifier(n_estimators=3, random_state=52)\n",
        "\n",
        "deepfor.fit(X_train, y_train)\n"
      ]
    },
    {
      "cell_type": "code",
      "execution_count": null,
      "metadata": {
        "_cell_guid": "3e4bb7b6-44ee-efc6-7248-7667a77d659f"
      },
      "outputs": [],
      "source": [
        "testingData = pd.read_json('../input/test.json')\n",
        "\n",
        "testingData['numPics'] = testingData['photos'].apply(len)"
      ]
    },
    {
      "cell_type": "code",
      "execution_count": null,
      "metadata": {
        "_cell_guid": "e5c801c1-74fb-99b5-8c2f-6673a069d5f8"
      },
      "outputs": [],
      "source": [
        "features = [x for sublist in testingData['features'] for x in sublist]\n",
        "\n",
        "for x in features:\n",
        "    if \"*\" in x: features.remove(x)\n",
        "\n",
        "features = set(features)\n",
        "\n",
        "features.discard('<null>')\n",
        "\n",
        "has_ac = [ s for s in features if any(ac_name in s for ac_name in ['A/C', \"AC\", \"Air Conditioning\"] ) and not(any(wrong in s for wrong in [\"FIRE\",'ACT','APT', 'SPACE','YARD'])) ]\n",
        "\n",
        "testingData['has_ac'] = [any(ac in feature for ac in has_ac) for feature in testingData['features'] ]\n",
        "  \n",
        "free_included = [ s for s in features if any(ac_name in s for ac_name in [\"free\",\"FREE\",\"Free\", \"Gift\", \"gift\", '1/2 Month fee', \"included\", \"INCLUDED\",\"Included\"] ) ]\n",
        "    \n",
        "testingData[\"included_offer\"] = [any(free in feature for free in free_included) for feature in testingData['features']]\n",
        "\n",
        "doorman = [ s for s in features if any(ac_name in s for ac_name in [\"doorman\",\"DOORMAN\",\"Doorman\",'doormen','Doormen', 'full-service', 'concierge','Concierge','Attended Lobby', 'Attended lobby', 'attended lobby'] ) ]\n",
        "   \n",
        "testingData[\"concierge\"] = [any(door in feature for door in doorman) for feature in testingData['features']]\n",
        "\n",
        "Washer = [ s for s in features if any(ac_name in s for ac_name in ['Washer', \"Dryer\",'Washer','Dryer','washer','dryer','laundry','LAUNDRY','Laundry'] ) and not(any(notname in s for notname in ['dish','DISH','Dish', 'Disw'] )) ]\n",
        "\n",
        "testingData[\"laundry\"] = [any(laundry in feature for laundry in Washer) for feature in testingData['features']]"
      ]
    },
    {
      "cell_type": "code",
      "execution_count": null,
      "metadata": {
        "_cell_guid": "847252cd-0b90-171d-2c22-cb6e5fadd1d7"
      },
      "outputs": [],
      "source": [
        "X = testingData[['bathrooms', 'bedrooms', 'latitude', 'longitude', 'price', 'numPics', 'has_ac', 'included_offer', 'concierge', 'laundry']]\n",
        "\n",
        "predictions = regr.predict_proba(X)\n",
        "\n",
        "output = pd.DataFrame(testingData['listing_id'], columns = ['listing_id'])\n",
        "\n",
        "output['high'] = predictions[:,0]\n",
        "output['low'] = predictions[:,1]\n",
        "output['medium'] = predictions[:,2]\n",
        "\n",
        "\n",
        "output.to_csv(\"submission1.csv\", index=False)"
      ]
    }
  ],
  "metadata": {
    "_change_revision": 0,
    "_is_fork": false,
    "kernelspec": {
      "display_name": "Python 3",
      "language": "python",
      "name": "python3"
    },
    "language_info": {
      "codemirror_mode": {
        "name": "ipython",
        "version": 3
      },
      "file_extension": ".py",
      "mimetype": "text/x-python",
      "name": "python",
      "nbconvert_exporter": "python",
      "pygments_lexer": "ipython3",
      "version": "3.6.0"
    }
  },
  "nbformat": 4,
  "nbformat_minor": 0
}