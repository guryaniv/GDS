{
  "cells": [
    {
      "cell_type": "markdown",
      "metadata": {
        "_cell_guid": "c45b99ea-ea8b-21b3-72c3-f9f43bd0e550"
      },
      "source": [
        "Relationship between Co-pay for infusion therapy state-wise over 3 years i.e. 2014, 2015 and 2016."
      ]
    },
    {
      "cell_type": "code",
      "execution_count": null,
      "metadata": {
        "_cell_guid": "b59baf35-9025-978f-79fe-ce89bf64cbf0"
      },
      "outputs": [],
      "source": [
        "import numpy as np \n",
        "import pandas as pd \n",
        "import seaborn as sns\n",
        "from  matplotlib import pyplot\n",
        "\n",
        "\n",
        "csv_chunks = pd.read_csv(\"../input/BenefitsCostSharing.csv\",iterator=True,chunksize = 1000)\n",
        "rates = pd.concat(chunk for chunk in csv_chunks)\n",
        "rates.shape\n",
        "rates.head(n=5)\n"
      ]
    },
    {
      "cell_type": "markdown",
      "metadata": {
        "_cell_guid": "8be4b12e-9608-4f44-0e6c-3432970155f0"
      },
      "source": [
        "BenefitName column values"
      ]
    },
    {
      "cell_type": "markdown",
      "metadata": {
        "_cell_guid": "ec6dfa5d-49bb-76fe-c082-8f95e70c8d11"
      },
      "source": [
        "Now, lets look for infusion therapy in BenefitName.\n"
      ]
    },
    {
      "cell_type": "code",
      "execution_count": null,
      "metadata": {
        "_cell_guid": "f1a8eb45-6f51-ed5a-84f5-d5e697d787d2"
      },
      "outputs": [],
      "source": [
        "csv_chunks = pd.read_csv(\"../input/BenefitsCostSharing.csv\",iterator=True,chunksize = 1000)\n",
        "rates = pd.concat(chunk for chunk in csv_chunks)\n",
        "infuse = rates['BenefitName'] == \"Infusion Therapy\"\n",
        "new_rate = rates[infuse]\n",
        "new_rate.head(n=5)\n"
      ]
    },
    {
      "cell_type": "markdown",
      "metadata": {
        "_cell_guid": "235fec00-018c-10fb-b60e-5d9e4e0c2340"
      },
      "source": [
        "Total rows having BenefitName value as \"Infusion Therapy\" are"
      ]
    },
    {
      "cell_type": "code",
      "execution_count": null,
      "metadata": {
        "_cell_guid": "59c53893-5b47-161c-411a-c3d49d0f8b51"
      },
      "outputs": [],
      "source": [
        "new_rate.shape"
      ]
    },
    {
      "cell_type": "code",
      "execution_count": null,
      "metadata": {
        "_cell_guid": "435f5d37-fff1-6743-a1fa-e6f8be5da9fb"
      },
      "outputs": [],
      "source": [
        "import matplotlib.pyplot as plt\n",
        "%matplotlib inline\n",
        "coint1 ='CoinsInnTier1'\n",
        "coin = 'filtered_coin'\n",
        "new_rate[coint1] = new_rate[coint1].fillna(0)\n",
        "new_rate[coin] = new_rate[coint1].str.replace('%', '')\n",
        "\n",
        "new_rate[coin].head(n=500)"
      ]
    },
    {
      "cell_type": "code",
      "execution_count": null,
      "metadata": {
        "_cell_guid": "d5f7ae04-e44a-d671-7c89-41bcbbd122c9"
      },
      "outputs": [],
      "source": [
        "d = []\n",
        "for i in range(0,65704):\n",
        "    if new_rate[coin].iloc[i] == \"50\" or new_rate[coin].iloc[i] == \"40\" or new_rate[coin].iloc[i] == \"30\" or new_rate[coin].iloc[i] == \"20\" or new_rate[coin].iloc[i] == \"10\":\n",
        "        d.append(new_rate[coin].iloc[i])\n",
        "    else:\n",
        "        d.append('0')\n",
        "new_rate['copay'] = d\n",
        "new_rate['copay'].astype(int)\n",
        "dist1 = new_rate[['copay','filtered_coin']]\n",
        "category_group1=dist1.groupby(['copay']).count()\n",
        "category_group1.head(n=10)\n"
      ]
    },
    {
      "cell_type": "code",
      "execution_count": null,
      "metadata": {
        "_cell_guid": "3954ee78-90f7-8148-0333-d8aea99d6167"
      },
      "outputs": [],
      "source": [
        "Distribution of copay percentage across all plans"
      ]
    },
    {
      "cell_type": "code",
      "execution_count": null,
      "metadata": {
        "_cell_guid": "29209b8a-6baf-4885-d91e-d240585ddd8c"
      },
      "outputs": [],
      "source": [
        "my_plot2 = category_group1.plot(kind='bar',stacked=False,title=\"Health Insurers with infusion pay opercentages\")\n",
        "my_plot2.set_xlabel(\"Percentage of Copay\")\n",
        "my_plot2.set_ylabel(\"No. of Plans\")"
      ]
    },
    {
      "cell_type": "markdown",
      "metadata": {
        "_cell_guid": "ff266d83-9c28-7a69-159c-efe8282cd47f"
      },
      "source": [
        "Many plans are with 0 % copay , but still their are few plans with 50 % of copay and thats huge. Lets get into that and find which states are top in the list where customer are paying 50% copay for infusion therapy."
      ]
    },
    {
      "cell_type": "code",
      "execution_count": null,
      "metadata": {
        "_cell_guid": "2d8d6b87-0265-d34a-6aa6-eb589e9058fe"
      },
      "outputs": [],
      "source": [
        "fifty_copay = new_rate[coin] == \"50\"\n",
        "highinf = new_rate[fifty_copay]\n",
        "\n",
        "highinf.shape"
      ]
    },
    {
      "cell_type": "markdown",
      "metadata": {
        "_cell_guid": "03f327ec-2406-a260-2d01-3c47cf05eb44"
      },
      "source": [
        "So total 159 plans are with 50% copay. Lets find year wise."
      ]
    },
    {
      "cell_type": "code",
      "execution_count": null,
      "metadata": {
        "_cell_guid": "926742f5-b6b1-b59c-b25c-be414c915362"
      },
      "outputs": [],
      "source": [
        "state_group = highinf.groupby('StateCode')\n",
        "state_group.size()\n",
        "year_group = highinf.groupby('BusinessYear')\n",
        "year_group.size()"
      ]
    },
    {
      "cell_type": "code",
      "execution_count": null,
      "metadata": {
        "_cell_guid": "05a09d05-5c3b-dfcd-24c2-bcf67e49bd66"
      },
      "outputs": [],
      "source": [
        "Lets look for state-wise aswell."
      ]
    },
    {
      "cell_type": "code",
      "execution_count": null,
      "metadata": {
        "_cell_guid": "13156253-c175-772a-9fea-1928a51c0746"
      },
      "outputs": [],
      "source": [
        "plothighinf = highinf[['filtered_coin','BusinessYear','StateCode']]\n",
        "category_group=plothighinf.groupby(['BusinessYear','StateCode']).count()\n",
        "category_group"
      ]
    },
    {
      "cell_type": "code",
      "execution_count": null,
      "metadata": {
        "_cell_guid": "170bd360-58f6-eadc-7177-c3b5baf9bb50"
      },
      "outputs": [],
      "source": [
        "my_plot = category_group.unstack().plot(kind='bar',stacked=True,title=\"Health Insurers with infusion pay of 50%\")\n",
        "my_plot.set_xlabel(\"Business Year\")\n",
        "my_plot.set_ylabel(\"No. of Plans\")"
      ]
    }
  ],
  "metadata": {
    "_change_revision": 0,
    "_is_fork": false,
    "kernelspec": {
      "display_name": "Python 3",
      "language": "python",
      "name": "python3"
    },
    "language_info": {
      "codemirror_mode": {
        "name": "ipython",
        "version": 3
      },
      "file_extension": ".py",
      "mimetype": "text/x-python",
      "name": "python",
      "nbconvert_exporter": "python",
      "pygments_lexer": "ipython3",
      "version": "3.5.2"
    }
  },
  "nbformat": 4,
  "nbformat_minor": 0
}