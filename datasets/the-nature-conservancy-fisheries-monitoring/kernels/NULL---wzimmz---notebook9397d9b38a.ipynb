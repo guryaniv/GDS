{
  "metadata": {
    "kernelspec": {
      "display_name": "Python 3",
      "language": "python",
      "name": "python3"
    },
    "language_info": {
      "codemirror_mode": {
        "name": "ipython",
        "version": 3
      },
      "file_extension": ".py",
      "mimetype": "text/x-python",
      "name": "python",
      "nbconvert_exporter": "python",
      "pygments_lexer": "ipython3",
      "version": "3.5.2"
    }
  },
  "nbformat": 4,
  "nbformat_minor": 0,
  "cells": [
    {
      "cell_type": "code",
      "execution_count": null,
      "metadata": {
        "_cell_guid": "2c6000dc-7e25-7a1a-4036-4d4bbc1fcbef",
        "_active": true
      },
      "outputs": [],
      "source": "# This Python 3 environment comes with many helpful analytics libraries installed\n# It is defined by the kaggle/python docker image: https://github.com/kaggle/docker-python\n# For example, here's several helpful packages to load in \n\nimport numpy as np # linear algebra\nimport pandas as pd # data processing, CSV file I/O (e.g. pd.read_csv)\nimport cv2\nimport os\nimport glob\nimport tensorflow as tf\nfrom sklearn.model_selection import train_test_split\nfrom sklearn.preprocessing import LabelEncoder\nfrom sklearn import metrics\n\n# Input data files are available in the \"../input/\" directory.\n# For example, running this (by clicking run or pressing Shift+Enter) will list the files in the input directory\n\nfrom subprocess import check_output\nprint(check_output([\"ls\", \"../input\"]).decode(\"utf8\"))\n\n# Any results you write to the current directory are saved as output.",
      "execution_state": "idle"
    },
    {
      "cell_type": "code",
      "execution_count": null,
      "metadata": {
        "_cell_guid": "45cc383b-d25a-845a-db2e-27f18a19c4d8",
        "_active": false,
        "collapsed": false
      },
      "outputs": [],
      "source": "def load_Data():\n    train_path = \"../input/train/\"\n    from tflearn.data_utils import image_preloader\n    X, Y = image_preloader(train_pat, image_shape=(224, 224),   mode='folder', categorical_labels=True,   normalize=True)\n    returnX, Y\n\n\n    \n  ",
      "execution_state": "idle"
    },
    {
      "cell_type": "code",
      "execution_count": null,
      "metadata": {
        "_cell_guid": "368e2a39-b53f-62dd-5025-57847c844d81",
        "_active": false,
        "collapsed": false
      },
      "outputs": [],
      "source": "X_train, y_train= load_Data()\nx = X_train\ny =  y_train",
      "execution_state": "idle"
    },
    {
      "cell_type": "code",
      "execution_count": null,
      "metadata": {
        "_cell_guid": "5298bebc-8708-27b1-a9c8-94989646f0ab",
        "_active": false,
        "collapsed": false
      },
      "outputs": [],
      "source": "y[3000]",
      "execution_state": "idle"
    },
    {
      "cell_type": "code",
      "execution_count": null,
      "metadata": {
        "_cell_guid": "67a730b4-a33f-2341-de2e-1a0febac23ed",
        "_active": false
      },
      "outputs": [],
      "source": "X_train, X_test, y_train, y_test = train_test_split(x, y, test_size=0.2,random_state=32)",
      "execution_state": "idle"
    },
    {
      "cell_type": "code",
      "execution_count": null,
      "metadata": {
        "_cell_guid": "3a629cdc-5b94-af20-09a0-53a9daeaddb7",
        "_active": false
      },
      "outputs": [],
      "source": "sess = tf.InteractiveSession()\nx = tf.placeholder(tf.float32, shape=[None, x_ttai])\ny_ = tf.placeholder(tf.float32, shape=[None, 10])\n\nclassifier = tf.contrib.learn.DNNClassifier(feature_columns=feature_columns,\n                                            hidden_units=[32,32],\n                                            n_classes=2,\n                                            dropout=0.2,)",
      "execution_state": "idle"
    },
    {
      "cell_type": "code",
      "execution_count": null,
      "metadata": {
        "_cell_guid": "e146eadd-c52f-5137-039d-59c654a0bfcf",
        "_active": false
      },
      "outputs": [],
      "source": "wrap = classifier.fit(X_train, y_train, steps=1000)",
      "execution_state": "idle"
    }
  ]
}