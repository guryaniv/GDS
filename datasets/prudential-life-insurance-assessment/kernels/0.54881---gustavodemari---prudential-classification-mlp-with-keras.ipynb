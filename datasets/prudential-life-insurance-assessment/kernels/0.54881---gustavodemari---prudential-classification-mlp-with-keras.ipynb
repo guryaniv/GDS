{"cells":[
 {
  "cell_type": "code",
  "execution_count": null,
  "metadata": {
   "collapsed": false
  },
  "outputs": [],
  "source": "import pandas as pd\nimport numpy as np\n\ntrain = pd.read_csv(\"../input/train.csv\")\ntest = pd.read_csv(\"../input/test.csv\")\nsample_submission = pd.read_csv(\"../input/sample_submission.csv\")\n\nprint(train.shape)\nprint(train.head(n=5))\nprint(test.shape)\nprint(test.head(n=5))"
 },
 {
  "cell_type": "code",
  "execution_count": null,
  "metadata": {
   "collapsed": false
  },
  "outputs": [],
  "source": "train.info()"
 },
 {
  "cell_type": "code",
  "execution_count": null,
  "metadata": {
   "collapsed": false
  },
  "outputs": [],
  "source": "from sklearn.preprocessing import LabelEncoder\nencoder = LabelEncoder()\ntrain['Product_Info_2'] = encoder.fit_transform(train['Product_Info_2'])\ntest['Product_Info_2'] = encoder.fit_transform(test['Product_Info_2'])"
 },
 {
  "cell_type": "code",
  "execution_count": null,
  "metadata": {
   "collapsed": false
  },
  "outputs": [],
  "source": "train.fillna(train.median(), inplace=True)\ntest.fillna(test.median(), inplace=True)"
 },
 {
  "cell_type": "code",
  "execution_count": null,
  "metadata": {
   "collapsed": false
  },
  "outputs": [],
  "source": "from keras.models import Sequential\nfrom keras.layers.core import Dense, Dropout, Activation\nfrom keras.utils import np_utils\nfrom keras.optimizers import RMSprop"
 },
 {
  "cell_type": "code",
  "execution_count": null,
  "metadata": {
   "collapsed": false
  },
  "outputs": [],
  "source": "print(train.columns)\nx_cols = train.columns[1:-1]\nprint(x_cols)"
 },
 {
  "cell_type": "code",
  "execution_count": null,
  "metadata": {
   "collapsed": false
  },
  "outputs": [],
  "source": "n_input = len(x_cols)\nn_output = 9\nprint (n_input)\nprint (n_output)"
 },
 {
  "cell_type": "code",
  "execution_count": null,
  "metadata": {
   "collapsed": false
  },
  "outputs": [],
  "source": "model = Sequential()"
 },
 {
  "cell_type": "code",
  "execution_count": null,
  "metadata": {
   "collapsed": false
  },
  "outputs": [],
  "source": "# MLP with 126 -> 200 -> 9\nmodel.add(Dense(input_dim=n_input, output_dim=200, init=\"uniform\", activation=\"tanh\"))\nmodel.add(Dropout(0.5))\nmodel.add(Dense(input_dim=200, output_dim=200, init=\"uniform\", activation=\"tanh\"))\nmodel.add(Dropout(0.5))\nmodel.add(Dense(input_dim=200, output_dim=n_output, init=\"uniform\", activation=\"softmax\"))"
 },
 {
  "cell_type": "code",
  "execution_count": null,
  "metadata": {
   "collapsed": false
  },
  "outputs": [],
  "source": "rmsprop = RMSprop(lr=0.005, rho=0.9, epsilon=1e-06)"
 },
 {
  "cell_type": "code",
  "execution_count": null,
  "metadata": {
   "collapsed": false
  },
  "outputs": [],
  "source": "model.compile(loss='categorical_crossentropy', optimizer=rmsprop)"
 },
 {
  "cell_type": "code",
  "execution_count": null,
  "metadata": {
   "collapsed": false
  },
  "outputs": [],
  "source": "response_transformed = np_utils.to_categorical(train['Response'])\nprint(response_transformed.shape)"
 },
 {
  "cell_type": "code",
  "execution_count": null,
  "metadata": {
   "collapsed": false
  },
  "outputs": [],
  "source": "(train[x_cols].values).shape"
 },
 {
  "cell_type": "code",
  "execution_count": null,
  "metadata": {
   "collapsed": false
  },
  "outputs": [],
  "source": "model.fit(train[x_cols].values, response_transformed, nb_epoch=50, batch_size=1000)"
 },
 {
  "cell_type": "code",
  "execution_count": null,
  "metadata": {
   "collapsed": false
  },
  "outputs": [],
  "source": "test['Response'] = model.predict_classes(test[x_cols].values)"
 },
 {
  "cell_type": "code",
  "execution_count": null,
  "metadata": {
   "collapsed": false
  },
  "outputs": [],
  "source": "import time\nPREDICTIONS_FILENAME_PREFIX = 'predictions_'\nPREDICTIONS_FILENAME = PREDICTIONS_FILENAME_PREFIX + time.strftime('%Y%m%d-%H%M%S') + '.csv'"
 },
 {
  "cell_type": "code",
  "execution_count": null,
  "metadata": {
   "collapsed": false
  },
  "outputs": [],
  "source": "print(test.columns)"
 },
 {
  "cell_type": "code",
  "execution_count": null,
  "metadata": {
   "collapsed": false
  },
  "outputs": [],
  "source": "print(PREDICTIONS_FILENAME)\ntest[['Id','Response']].to_csv(PREDICTIONS_FILENAME, index=False)"
 }
],"metadata":{"kernelspec":{"display_name":"Python 3","language":"python","name":"python3"}}, "nbformat": 4, "nbformat_minor": 0}