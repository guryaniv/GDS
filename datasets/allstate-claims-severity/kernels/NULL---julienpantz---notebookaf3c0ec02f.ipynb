{
  "cells": [
    {
      "cell_type": "code",
      "execution_count": null,
      "metadata": {
        "_cell_guid": "05195e4a-b5a4-0df4-008e-adc3373ce461"
      },
      "outputs": [],
      "source": [
        "# This Python 3 environment comes with many helpful analytics libraries installed\n",
        "# It is defined by the kaggle/python docker image: https://github.com/kaggle/docker-python\n",
        "# For example, here's several helpful packages to load in \n",
        "\n",
        "import numpy as np # linear algebra\n",
        "import pandas as pd # data processing, CSV file I/O (e.g. pd.read_csv)\n",
        "\n",
        "# Input data files are available in the \"../input/\" directory.\n",
        "# For example, running this (by clicking run or pressing Shift+Enter) will list the files in the input directory\n",
        "\n",
        "from subprocess import check_output\n",
        "print(check_output([\"ls\", \"../input\"]).decode(\"utf8\"))\n",
        "\n",
        "# Any results you write to the current directory are saved as output."
      ]
    },
    {
      "cell_type": "code",
      "execution_count": null,
      "metadata": {
        "_cell_guid": "5a308bdf-f477-dadc-180a-844ce163735d"
      },
      "outputs": [],
      "source": [
        "import pandas as pd\n",
        "import numpy as np\n",
        "import xgboost as xgb\n",
        "\n",
        "from sklearn.metrics import mean_absolute_error"
      ]
    },
    {
      "cell_type": "code",
      "execution_count": null,
      "metadata": {
        "_cell_guid": "31248cb3-9ade-19ab-5bf1-34df0b68e0ee"
      },
      "outputs": [],
      "source": [
        "train = pd.read_csv('../input/train.csv')[0:10000]\n",
        "test = pd.read_csv('../input/test.csv')[0:10000]"
      ]
    },
    {
      "cell_type": "code",
      "execution_count": null,
      "metadata": {
        "_cell_guid": "6f29beea-d039-ff97-3de4-609a959da67b"
      },
      "outputs": [],
      "source": [
        "test['loss'] = np.nan\n",
        "joined = pd.concat([train, test])\n",
        "\n",
        "\n",
        "def evalerror(preds, dtrain):\n",
        "    labels = dtrain.get_label()\n",
        "    return 'mae', mean_absolute_error(np.exp(preds), np.exp(labels))\n",
        "\n",
        "for column in list(train.select_dtypes(include=['object']).columns):\n",
        "    if train[column].nunique() != test[column].nunique():\n",
        "        set_train = set(train[column].unique())\n",
        "        set_test = set(test[column].unique())\n",
        "        remove_train = set_train - set_test\n",
        "        remove_test = set_test - set_train\n",
        "\n",
        "        remove = remove_train.union(remove_test)\n",
        "        def filter_cat(x):\n",
        "            if x in remove:\n",
        "                return np.nan\n",
        "            return x\n",
        "\n",
        "        joined[column] = joined[column].apply(lambda x: filter_cat(x), 1)\n",
        "            \n",
        "    joined[column] = pd.factorize(joined[column].values, sort=True)[0]\n",
        "\n",
        "train = joined[joined['loss'].notnull()]\n",
        "test = joined[joined['loss'].isnull()]\n",
        "\n",
        "shift = 200\n",
        "y = np.log(train['loss'] + shift)\n",
        "ids = test['id']\n",
        "X = train.drop(['loss', 'id'], 1)\n",
        "X_test = test.drop(['loss', 'id'], 1)"
      ]
    },
    {
      "cell_type": "code",
      "execution_count": null,
      "metadata": {
        "_cell_guid": "c9795c75-0479-36c2-e8a9-24f631add814"
      },
      "outputs": [],
      "source": [
        "def evalerror(preds, dtrain):\n",
        "    labels = dtrain.get_label()\n",
        "    return 'mae', mean_absolute_error(np.exp(preds), np.exp(labels))\n",
        "\n",
        "\n",
        "RANDOM_STATE = 2016\n",
        "\n",
        "params = {\n",
        "        'min_child_weight': 1,\n",
        "        'eta': 0.01,\n",
        "        'colsample_bytree': 0.5,\n",
        "        'max_depth': 12,\n",
        "        'subsample': 0.8,\n",
        "        'alpha': 1,\n",
        "        'gamma': 1,\n",
        "        'silent': 1,\n",
        "        'verbose_eval': True,\n",
        "        'seed': RANDOM_STATE\n",
        "    }\n",
        "\n",
        "xgtrain = xgb.DMatrix(X, label=y)\n",
        "xgtest = xgb.DMatrix(X_test)\n",
        "\n",
        "cvresult = xgb.cv(params, xgtrain, nfold=3,feval=evalerror,num_boost_round=25, early_stopping_rounds=50)\n",
        "print(cvresult)\n",
        "\n",
        "\n"
      ]
    },
    {
      "cell_type": "code",
      "execution_count": null,
      "metadata": {
        "_cell_guid": "ae38359f-d90e-ced2-7d0c-4fca53c38cbf"
      },
      "outputs": [],
      "source": [
        "model = xgb.train(params, xgtrain, int(2012 / 0.9), feval=evalerror)\n",
        "\n",
        "prediction = np.exp(model.predict(xgtest)) - shift\n",
        "\n",
        "submission = pd.DataFrame()\n",
        "submission['loss'] = prediction\n",
        "submission['id'] = ids\n",
        "submission.to_csv('sub_v.csv', index=False)"
      ]
    }
  ],
  "metadata": {
    "_change_revision": 0,
    "_is_fork": false,
    "kernelspec": {
      "display_name": "Python 3",
      "language": "python",
      "name": "python3"
    },
    "language_info": {
      "codemirror_mode": {
        "name": "ipython",
        "version": 3
      },
      "file_extension": ".py",
      "mimetype": "text/x-python",
      "name": "python",
      "nbconvert_exporter": "python",
      "pygments_lexer": "ipython3",
      "version": "3.5.2"
    }
  },
  "nbformat": 4,
  "nbformat_minor": 0
}