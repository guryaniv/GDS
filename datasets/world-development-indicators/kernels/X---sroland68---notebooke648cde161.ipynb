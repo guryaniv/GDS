{
  "cells": [
    {
      "cell_type": "markdown",
      "metadata": {
        "_cell_guid": "a768f68d-193a-c500-b771-5eebeb2b26b5"
      },
      "source": ""
    },
    {
      "cell_type": "code",
      "execution_count": null,
      "metadata": {
        "_cell_guid": "62e40bb5-c070-c6fe-c253-761f901e9e65"
      },
      "outputs": [],
      "source": [
        "import pandas as pd\n",
        "import numpy as np\n",
        "from plotly import __version__\n",
        "from plotly.offline import download_plotlyjs, init_notebook_mode, plot, iplot\n",
        "init_notebook_mode()\n",
        "import re\n",
        "import matplotlib\n",
        "import matplotlib.pyplot as plt\n",
        "matplotlib.style.use('ggplot')"
      ]
    },
    {
      "cell_type": "markdown",
      "metadata": {
        "_cell_guid": "e8a8b73c-a273-8bef-b34e-2eeea081175a"
      },
      "source": ""
    },
    {
      "cell_type": "code",
      "execution_count": null,
      "metadata": {
        "_cell_guid": "d2e44a22-f9d5-ec49-edbc-deb0ca56f9dc"
      },
      "outputs": [],
      "source": [
        "def is_male(code):\n",
        "    str_list = code.split('.')\n",
        "    return ('MA' in str_list)\n",
        "    \n",
        "def is_female(code):\n",
        "    str_list = code.split('.')\n",
        "    return ('FE' in str_list)\n",
        "\n",
        "#returns string with '.MA' or '.FE' deleted\n",
        "def get_base_code(code):\n",
        "    str_list = code.split('.')\n",
        "    if 'MA' in str_list:\n",
        "        str_list.remove('MA')\n",
        "    if 'FE' in str_list:\n",
        "        str_list.remove('FE')\n",
        "    return '.'.join(str_list)\n",
        "\n",
        "#uses regular expression operations to remove 'male' or 'males' from indicator names\n",
        "def get_base_name(name):\n",
        "    return re.sub('[, ]*male[, s]*', ' ', name,)"
      ]
    },
    {
      "cell_type": "code",
      "execution_count": null,
      "metadata": {
        "_cell_guid": "0a472aa1-d6e8-e7fb-208d-871f269d714b"
      },
      "outputs": [],
      "source": [
        "path = \"F:\\world-development-indicators\\Indicators.csv\"\n",
        "indicators = pd.read_csv(path)"
      ]
    },
    {
      "cell_type": "code",
      "execution_count": null,
      "metadata": {
        "_cell_guid": "00e19b26-2774-22dc-9fdb-26a26b5178d7"
      },
      "outputs": [],
      "source": ""
    },
    {
      "cell_type": "markdown",
      "metadata": {
        "_cell_guid": "ce71d33f-5518-76d1-6b84-29821b3cdc1a"
      },
      "source": ""
    },
    {
      "cell_type": "code",
      "execution_count": null,
      "metadata": {
        "_cell_guid": "1566902d-f36a-daf5-0594-eba2ad3faae9"
      },
      "outputs": [],
      "source": ""
    },
    {
      "cell_type": "markdown",
      "metadata": {
        "_cell_guid": "5b1c9364-ebc3-6017-ab0f-15c584c398c3"
      },
      "source": ""
    },
    {
      "cell_type": "code",
      "execution_count": null,
      "metadata": {
        "_cell_guid": "159bce2b-774f-4cad-2e0d-6405167e50e5"
      },
      "outputs": [],
      "source": ""
    },
    {
      "cell_type": "markdown",
      "metadata": {
        "_cell_guid": "b0f1c905-64e9-4bb4-c4ea-0163c9446eea"
      },
      "source": ""
    },
    {
      "cell_type": "code",
      "execution_count": null,
      "metadata": {
        "_cell_guid": "8edacefc-b9a6-0aa0-8b6b-d9e3e8c340ea"
      },
      "outputs": [],
      "source": ""
    },
    {
      "cell_type": "markdown",
      "metadata": {
        "_cell_guid": "57b23ebc-3a70-1a9a-108f-61b74d42fa75"
      },
      "source": ""
    },
    {
      "cell_type": "code",
      "execution_count": null,
      "metadata": {
        "_cell_guid": "65a4416d-7da7-d7c0-2312-6d93371f2895"
      },
      "outputs": [],
      "source": [
        "indicator_name = 'Prevalence of HIV (% ages 15-24)'\n",
        "make_map(indicator_name)"
      ]
    },
    {
      "cell_type": "markdown",
      "metadata": {
        "_cell_guid": "bf03e266-6a8d-39b4-a087-4370612dfa00"
      },
      "source": ""
    },
    {
      "cell_type": "code",
      "execution_count": null,
      "metadata": {
        "_cell_guid": "e44b4852-ab9e-668a-614f-34202969328c"
      },
      "outputs": [],
      "source": ""
    }
  ],
  "metadata": {
    "_change_revision": 0,
    "_is_fork": false,
    "kernelspec": {
      "display_name": "Python 3",
      "language": "python",
      "name": "python3"
    },
    "language_info": {
      "codemirror_mode": {
        "name": "ipython",
        "version": 3
      },
      "file_extension": ".py",
      "mimetype": "text/x-python",
      "name": "python",
      "nbconvert_exporter": "python",
      "pygments_lexer": "ipython3",
      "version": "3.6.0"
    }
  },
  "nbformat": 4,
  "nbformat_minor": 0
}