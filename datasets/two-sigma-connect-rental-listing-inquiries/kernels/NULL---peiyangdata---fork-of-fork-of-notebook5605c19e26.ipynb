{
  "cells": [
    {
      "cell_type": "code",
      "execution_count": null,
      "metadata": {
        "_cell_guid": "d70a577b-c4f8-e854-1580-022d5089c133"
      },
      "outputs": [],
      "source": [
        "# This Python 3 environment comes with many helpful analytics libraries installed\n",
        "# It is defined by the kaggle/python docker image: https://github.com/kaggle/docker-python\n",
        "# For example, here's several helpful packages to load in \n",
        "\n",
        "import numpy as np # linear algebra\n",
        "import pandas as pd # data processing, CSV file I/O (e.g. pd.read_csv)\n",
        "\n",
        "# Input data files are available in the \"../input/\" directory.\n",
        "# For example, running this (by clicking run or pressing Shift+Enter) will list the files in the input directory\n",
        "\n",
        "from subprocess import check_output\n",
        "print(check_output([\"ls\", \"../input\"]).decode(\"utf8\"))\n",
        "\n",
        "# Any results you write to the current directory are saved as output.\n",
        "\n",
        "X_train = pd.read_json(\"../input/train.json\")\n",
        "X_test = pd.read_json(\"../input/test.json\")"
      ]
    },
    {
      "cell_type": "code",
      "execution_count": null,
      "metadata": {
        "_cell_guid": "cdf27e91-b93b-0409-fecc-f980fcb77dc6"
      },
      "outputs": [],
      "source": [
        "\n",
        "X_train.head()"
      ]
    },
    {
      "cell_type": "code",
      "execution_count": null,
      "metadata": {
        "_cell_guid": "402ed65c-0218-d3bb-fe13-7950b13a6d8f"
      },
      "outputs": [],
      "source": [
        "X_train.shape"
      ]
    },
    {
      "cell_type": "code",
      "execution_count": null,
      "metadata": {
        "_cell_guid": "40f395f0-8c21-bed6-de24-eaad753592cd"
      },
      "outputs": [],
      "source": [
        "X_test.head()"
      ]
    },
    {
      "cell_type": "code",
      "execution_count": null,
      "metadata": {
        "_cell_guid": "24bd3b3a-a50e-0a6c-3956-b34c5ee63f86"
      },
      "outputs": [],
      "source": [
        "X_test.shape"
      ]
    },
    {
      "cell_type": "code",
      "execution_count": null,
      "metadata": {
        "_cell_guid": "7b1aad43-0ddd-84f2-3ca5-8c0e0f7498e7"
      },
      "outputs": [],
      "source": [
        "sample=pd.read_csv(\"../input/sample_submission.csv\")"
      ]
    },
    {
      "cell_type": "code",
      "execution_count": null,
      "metadata": {
        "_cell_guid": "1728fb45-1c83-3611-12bd-94a034cd1bcb"
      },
      "outputs": [],
      "source": [
        "sample.head()"
      ]
    },
    {
      "cell_type": "code",
      "execution_count": null,
      "metadata": {
        "_cell_guid": "250c3c6c-2e46-19b4-5f06-26fce9de9e89"
      },
      "outputs": [],
      "source": [
        "print(check_output([\"ls\", \"../input/images_sample/\"]).decode(\"utf8\"))"
      ]
    },
    {
      "cell_type": "code",
      "execution_count": null,
      "metadata": {
        "_cell_guid": "9315e4cc-7da2-73e5-97dd-053d21cbb8e0"
      },
      "outputs": [],
      "source": [
        "import os\n",
        "import subprocess as sub\n",
        "from os import listdir\n",
        "from os.path import isfile, join\n",
        "onlyfiles = [f for f in listdir('../input/images_sample/6811957/') if isfile(join('../input/images_sample/6811957/', f))]\n",
        "print (onlyfiles)"
      ]
    },
    {
      "cell_type": "code",
      "execution_count": null,
      "metadata": {
        "_cell_guid": "60379295-3bab-d41e-6f33-f113de11be11"
      },
      "outputs": [],
      "source": [
        "import matplotlib.pyplot as plt\n",
        "import matplotlib.image as mpimg\n",
        "%matplotlib inline\n",
        "img=[]\n",
        "for i in range (0,5):\n",
        "    img.append(mpimg.imread('../input/images_sample/6811957/'+onlyfiles[i]))\n",
        "    plt.imshow(img[i])\n",
        "    fig = plt.figure()\n",
        "    a=fig.add_subplot()\n",
        "    "
      ]
    },
    {
      "cell_type": "code",
      "execution_count": null,
      "metadata": {
        "_cell_guid": "ac173b29-b68e-c321-580e-7cff811049b7"
      },
      "outputs": [],
      "source": [
        "\n",
        "\n",
        "X_train.dropna(subset = ['interest_level'])\n",
        "X_train.shape\n",
        "print (X_train['interest_level'])"
      ]
    },
    {
      "cell_type": "code",
      "execution_count": null,
      "metadata": {
        "_cell_guid": "6e94c558-0e0e-353b-eae2-68a6af5c40ce"
      },
      "outputs": [],
      "source": [
        "\n",
        "grouped = X_train.groupby(['interest_level'])\n",
        "print (grouped.size())\n",
        "#probability\n",
        "print (grouped.size()/len(X_train))"
      ]
    },
    {
      "cell_type": "code",
      "execution_count": null,
      "metadata": {
        "_cell_guid": "5acbd52f-068a-300b-04e2-2e806c30deb4"
      },
      "outputs": [],
      "source": [
        "from sklearn.ensemble import RandomForestClassifier\n",
        "from sklearn.model_selection import train_test_split\n",
        "from sklearn.metrics import log_loss\n",
        "\n",
        "X_train[\"num_photos\"] = X_train[\"photos\"].apply(len)\n",
        "X_train[\"num_features\"] = X_train[\"features\"].apply(len)\n",
        "X_train[\"num_description_words\"] = X_train[\"description\"].apply(lambda x: len(x.split(\" \")))\n",
        "X_train[\"created\"] = pd.to_datetime(X_train[\"created\"])\n",
        "X_train[\"created_year\"] = X_train[\"created\"].dt.year\n",
        "X_train[\"created_month\"] = X_train[\"created\"].dt.month\n",
        "X_train[\"created_day\"] = X_train[\"created\"].dt.day\n",
        "num_feats = [\"bathrooms\", \"bedrooms\", \"latitude\", \"longitude\", \"price\",\n",
        "             \"num_photos\", \"num_features\", \"num_description_words\",\n",
        "             \"created_year\", \"created_month\", \"created_day\"]\n",
        "X = X_train[num_feats]\n",
        "y = X_train[\"interest_level\"]\n",
        "\n",
        "X_train2, X_val, y_train2, y_val = train_test_split(X, y, test_size=0.3)"
      ]
    },
    {
      "cell_type": "code",
      "execution_count": null,
      "metadata": {
        "_cell_guid": "7d96def8-17a8-955f-5485-afd342478a21"
      },
      "outputs": [],
      "source": [
        "\n",
        "X_test[\"num_photos\"] = X_test[\"photos\"].apply(len)\n",
        "X_test[\"num_features\"] = X_test[\"features\"].apply(len)\n",
        "X_test[\"num_description_words\"] = X_test[\"description\"].apply(lambda x: len(x.split(\" \")))\n",
        "X_test[\"created\"] = pd.to_datetime(X_test[\"created\"])\n",
        "X_test[\"created_year\"] = X_test[\"created\"].dt.year\n",
        "X_test[\"created_month\"] = X_test[\"created\"].dt.month\n",
        "X_test[\"created_day\"] = X_test[\"created\"].dt.day\n",
        "X_test2 = X_test[num_feats]"
      ]
    },
    {
      "cell_type": "code",
      "execution_count": null,
      "metadata": {
        "_cell_guid": "ed250aa7-3420-3081-d620-27a7dc8c9df7"
      },
      "outputs": [],
      "source": [
        "# Train uncalibrated random forest classifier on whole train and validation\n",
        "# data and evaluate on test data\n",
        "rfmodel = RandomForestClassifier(n_estimators=300)\n",
        "rfmodel.fit(X_train2, y_train2)"
      ]
    },
    {
      "cell_type": "code",
      "execution_count": null,
      "metadata": {
        "_cell_guid": "d02be932-bc38-4f1f-9351-cfc88344ee21"
      },
      "outputs": [],
      "source": [
        "y_val_pred = rfmodel.predict_proba(X_val)\n",
        "log_loss(y_val, y_val_pred)"
      ]
    },
    {
      "cell_type": "code",
      "execution_count": null,
      "metadata": {
        "_cell_guid": "56d22155-03d9-fa62-8cb5-a2809ab994db"
      },
      "outputs": [],
      "source": [
        "#This time use all the train datasets to train model\n",
        "rfmodel2 = RandomForestClassifier(n_estimators=300)\n",
        "rfmodel2.fit(X, y)"
      ]
    },
    {
      "cell_type": "code",
      "execution_count": null,
      "metadata": {
        "_cell_guid": "b93f740f-537f-b311-736a-b83b2be12cc9"
      },
      "outputs": [],
      "source": [
        "y_test_pred = rfmodel2.predict_proba(X_test2)"
      ]
    },
    {
      "cell_type": "code",
      "execution_count": null,
      "metadata": {
        "_cell_guid": "9b91a9ee-7b85-e86e-341c-f2cd99a32c19"
      },
      "outputs": [],
      "source": [
        "y_test_pred"
      ]
    },
    {
      "cell_type": "code",
      "execution_count": null,
      "metadata": {
        "_cell_guid": "771c7b43-3480-3efa-a632-78075855d03c"
      },
      "outputs": [],
      "source": [
        ""
      ]
    },
    {
      "cell_type": "code",
      "execution_count": null,
      "metadata": {
        "_cell_guid": "c973fe85-4b9b-9d60-3a41-5309712633d1"
      },
      "outputs": [],
      "source": [
        "X_train2.head()"
      ]
    },
    {
      "cell_type": "code",
      "execution_count": null,
      "metadata": {
        "_cell_guid": "8a84df0c-100d-384d-9d16-1a1722e14e25"
      },
      "outputs": [],
      "source": [
        "y.head()"
      ]
    },
    {
      "cell_type": "code",
      "execution_count": null,
      "metadata": {
        "_cell_guid": "3b0809ea-25c7-a1ef-a54a-b47f5b2de2f2"
      },
      "outputs": [],
      "source": [
        "y.head()\n",
        "\n",
        "\n",
        "    \n",
        "    "
      ]
    },
    {
      "cell_type": "code",
      "execution_count": null,
      "metadata": {
        "_cell_guid": "570e8f6a-598c-0994-c35a-f166248cffd0"
      },
      "outputs": [],
      "source": [
        "type(y)"
      ]
    },
    {
      "cell_type": "code",
      "execution_count": null,
      "metadata": {
        "_cell_guid": "64ed63b7-8a23-ae4d-043e-a7fba1ced531"
      },
      "outputs": [],
      "source": [
        ""
      ]
    },
    {
      "cell_type": "code",
      "execution_count": null,
      "metadata": {
        "_cell_guid": "0c8ceb63-41e3-110c-e3e4-4946b8484431"
      },
      "outputs": [],
      "source": [
        "length = len(y)\n",
        "length"
      ]
    },
    {
      "cell_type": "code",
      "execution_count": null,
      "metadata": {
        "_cell_guid": "f7444556-be38-a6d6-fa70-e4c3b31ce2d0"
      },
      "outputs": [],
      "source": [
        ""
      ]
    },
    {
      "cell_type": "code",
      "execution_count": null,
      "metadata": {
        "_cell_guid": "9781483a-a88a-96ca-fbc0-8eb24742972c"
      },
      "outputs": [],
      "source": [
        "y1 = [0]*length\n",
        "y2 = [0]*length\n",
        "\n",
        "type(y2)"
      ]
    },
    {
      "cell_type": "code",
      "execution_count": null,
      "metadata": {
        "_cell_guid": "e7159ce3-af1c-0a1e-55bd-ac31962cf825"
      },
      "outputs": [],
      "source": [
        "len(y2) == length"
      ]
    },
    {
      "cell_type": "code",
      "execution_count": null,
      "metadata": {
        "_cell_guid": "0ff94748-fedd-2319-9c9f-f4677ae828f1"
      },
      "outputs": [],
      "source": [
        "len(y1) == length"
      ]
    },
    {
      "cell_type": "code",
      "execution_count": null,
      "metadata": {
        "_cell_guid": "29432f5c-b161-f140-4986-a9e9aafa8b93"
      },
      "outputs": [],
      "source": [
        "type(y)"
      ]
    },
    {
      "cell_type": "code",
      "execution_count": null,
      "metadata": {
        "_cell_guid": "22cb8470-3967-d6de-3606-b76ccd5bb256"
      },
      "outputs": [],
      "source": [
        "y_list = y.tolist()\n",
        "type(y_list)\n",
        "y_list"
      ]
    },
    {
      "cell_type": "code",
      "execution_count": null,
      "metadata": {
        "_cell_guid": "8aeb7890-2e2c-cbbf-c5ac-a2c38a66a752"
      },
      "outputs": [],
      "source": [
        "for i in range(0, length, 1):\n",
        "    if(y_list[i]==\"low\"):\n",
        "        print(\"low\")\n",
        "        y1[i] = 0\n",
        "        y2[i] = 0\n",
        "    if(y_list[i]==\"medium\"):\n",
        "        print(\"medium\")\n",
        "        y1[i] = 0\n",
        "        y2[i] = 1\n",
        "    if(y_list[i]==\"high\"):\n",
        "        print(\"high\")\n",
        "        y1[i] = 1\n",
        "        y2[i] = 0\n",
        "print(\"Binary coding done.\")"
      ]
    },
    {
      "cell_type": "code",
      "execution_count": null,
      "metadata": {
        "_cell_guid": "ecb4cbdb-ce8a-f59c-9a9d-44e5fd05729a"
      },
      "outputs": [],
      "source": [
        "y1"
      ]
    },
    {
      "cell_type": "code",
      "execution_count": null,
      "metadata": {
        "_cell_guid": "22b98776-3e9c-fd3f-cd29-f894ce1dee76"
      },
      "outputs": [],
      "source": [
        "y2"
      ]
    },
    {
      "cell_type": "code",
      "execution_count": null,
      "metadata": {
        "_cell_guid": "d3474f86-0f87-9222-c845-8f344332af6c"
      },
      "outputs": [],
      "source": [
        "y1 == y2"
      ]
    },
    {
      "cell_type": "code",
      "execution_count": null,
      "metadata": {
        "_cell_guid": "95de78b1-4c2f-dcd7-d7d6-d9250d35e4a6"
      },
      "outputs": [],
      "source": [
        "y1_a = np.ravel(y1)\n",
        "y1_a"
      ]
    },
    {
      "cell_type": "code",
      "execution_count": null,
      "metadata": {
        "_cell_guid": "18964d11-5d8e-b752-4e06-76fc32e607e5"
      },
      "outputs": [],
      "source": [
        "y2_a = np.ravel(y2)\n",
        "y2_a"
      ]
    },
    {
      "cell_type": "code",
      "execution_count": null,
      "metadata": {
        "_cell_guid": "42a099b2-e54b-375c-65ff-146e763b3749"
      },
      "outputs": [],
      "source": [
        "import numpy as np\n",
        "import pandas as pd\n",
        "import statsmodels.api as sm\n",
        "import matplotlib.pyplot as plt\n",
        "from patsy import dmatrices\n",
        "from sklearn.linear_model import LogisticRegression\n",
        "from sklearn.cross_validation import train_test_split\n",
        "from sklearn import metrics\n",
        "from sklearn.cross_validation import cross_val_score"
      ]
    },
    {
      "cell_type": "code",
      "execution_count": null,
      "metadata": {
        "_cell_guid": "b5ce307a-2060-c2b3-6a58-3bec57490d01"
      },
      "outputs": [],
      "source": [
        "model1 = LogisticRegression()\n",
        "model1 = model1.fit(X, y1_a)\n",
        "\n",
        "model1.score(X, y1_a)"
      ]
    },
    {
      "cell_type": "code",
      "execution_count": null,
      "metadata": {
        "_cell_guid": "f491bf36-c9d9-c296-ea83-90a6c1b42639"
      },
      "outputs": [],
      "source": [
        "model2 = LogisticRegression()\n",
        "model2 = model2.fit(X, y2_a)\n",
        "\n",
        "model2.score(X, y2_a)"
      ]
    },
    {
      "cell_type": "code",
      "execution_count": null,
      "metadata": {
        "_cell_guid": "c9cbcad8-a549-a01a-769c-de30e883b766"
      },
      "outputs": [],
      "source": [
        "1-y1_a.mean()"
      ]
    },
    {
      "cell_type": "code",
      "execution_count": null,
      "metadata": {
        "_cell_guid": "b9e10365-5c35-c57c-fb2d-00bd423717e8"
      },
      "outputs": [],
      "source": [
        "1-y2_a.mean()"
      ]
    },
    {
      "cell_type": "code",
      "execution_count": null,
      "metadata": {
        "_cell_guid": "ce04cc84-7bc3-0694-ee54-d1fd04a921a2"
      },
      "outputs": [],
      "source": [
        "model1"
      ]
    },
    {
      "cell_type": "code",
      "execution_count": null,
      "metadata": {
        "_cell_guid": "63195393-c004-2f65-d94c-c6bac6c7f623"
      },
      "outputs": [],
      "source": [
        "model2"
      ]
    },
    {
      "cell_type": "code",
      "execution_count": null,
      "metadata": {
        "_cell_guid": "5d619b94-4420-3401-c5c8-9fd415773baa"
      },
      "outputs": [],
      "source": [
        "X_pyang1 = X.loc[range(9,11,1),:]\n",
        "X_pyang1"
      ]
    },
    {
      "cell_type": "code",
      "execution_count": null,
      "metadata": {
        "_cell_guid": "b0ce5efc-f64c-2a9b-e47d-e551a730b5d2"
      },
      "outputs": [],
      "source": [
        "probs1 = model1.predict_proba(X_pyang1)\n",
        "probs1"
      ]
    },
    {
      "cell_type": "code",
      "execution_count": null,
      "metadata": {
        "_cell_guid": "5599cc9d-68c5-1582-fd7b-6f3638a394d0"
      },
      "outputs": [],
      "source": [
        "probs2 = model2.predict_proba(X_pyang1)\n",
        "probs2"
      ]
    },
    {
      "cell_type": "code",
      "execution_count": null,
      "metadata": {
        "_cell_guid": "d566ca28-20b8-e334-6dc0-c0604103e4f6"
      },
      "outputs": [],
      "source": [
        "X_pyang2 = X.dropna()\n",
        "X_pyang2"
      ]
    },
    {
      "cell_type": "code",
      "execution_count": null,
      "metadata": {
        "_cell_guid": "9b0d8706-9e80-3232-b6f9-1060c3bd148b"
      },
      "outputs": [],
      "source": [
        "probs1_2 = model1.predict_proba(X_pyang2)\n",
        "probs1_2"
      ]
    },
    {
      "cell_type": "code",
      "execution_count": null,
      "metadata": {
        "_cell_guid": "c919dd39-6531-5d80-abbd-1d868ccd6cf2"
      },
      "outputs": [],
      "source": [
        "probs2_2 = model2.predict_proba(X_pyang2)\n",
        "probs2_2"
      ]
    },
    {
      "cell_type": "code",
      "execution_count": null,
      "metadata": {
        "_cell_guid": "fa6b2b95-118c-01c3-32b7-19fc0a61e9b6"
      },
      "outputs": [],
      "source": [
        "type(probs1_2)"
      ]
    },
    {
      "cell_type": "code",
      "execution_count": null,
      "metadata": {
        "_cell_guid": "ee0c07a9-0663-f316-2901-4fbcf86f5ce9"
      },
      "outputs": [],
      "source": [
        "p1 = np.array(probs1_2)\n",
        "p1.shape"
      ]
    },
    {
      "cell_type": "code",
      "execution_count": null,
      "metadata": {
        "_cell_guid": "e951a5df-2e06-88e8-4a37-0513b8de561c"
      },
      "outputs": [],
      "source": [
        "xx = np.array(X)\n",
        "xx.shape"
      ]
    },
    {
      "cell_type": "code",
      "execution_count": null,
      "metadata": {
        "_cell_guid": "0dfab12f-8598-812d-1bfb-56ac59704988"
      },
      "outputs": [],
      "source": [
        "xxx = np.array(X_pyang2)\n",
        "xxx.shape"
      ]
    },
    {
      "cell_type": "code",
      "execution_count": null,
      "metadata": {
        "_cell_guid": "965cbbd4-a624-7915-3130-616408f8fb21"
      },
      "outputs": [],
      "source": [
        "xx == xxx"
      ]
    },
    {
      "cell_type": "code",
      "execution_count": null,
      "metadata": {
        "_cell_guid": "402c7bb3-2850-1214-b7e8-4e0a3a7d46b9"
      },
      "outputs": [],
      "source": [
        ""
      ]
    },
    {
      "cell_type": "code",
      "execution_count": null,
      "metadata": {
        "_cell_guid": "f69361d0-0af9-e830-cdda-bb8ae296aea4"
      },
      "outputs": [],
      "source": [
        "prob_high = p1[:,1]\n",
        "prob_high"
      ]
    },
    {
      "cell_type": "code",
      "execution_count": null,
      "metadata": {
        "_cell_guid": "70434ea1-6a39-c673-5c47-9bac2912f208"
      },
      "outputs": [],
      "source": [
        "p2 = np.array(probs2_2)\n",
        "\n",
        "prob_medium = p2[:,1]\n",
        "\n",
        "prob_medium"
      ]
    },
    {
      "cell_type": "code",
      "execution_count": null,
      "metadata": {
        "_cell_guid": "48f62612-504f-10cb-01ce-7aa714945589"
      },
      "outputs": [],
      "source": [
        "prob_low = 1 - prob_high - prob_medium\n",
        "prob_low"
      ]
    },
    {
      "cell_type": "code",
      "execution_count": null,
      "metadata": {
        "_cell_guid": "1293afc9-c52d-53fc-ee7f-7ef07fe669a5"
      },
      "outputs": [],
      "source": [
        "#check if prob_low has negative values\n",
        "N = len(prob_low)\n",
        "\n",
        "count = 0\n",
        "for i in range(0, N, 1):\n",
        "    if(prob_low[i])<0:\n",
        "        print(\"alert: negative probability detected!!\")\n",
        "        count += 1"
      ]
    },
    {
      "cell_type": "code",
      "execution_count": null,
      "metadata": {
        "_cell_guid": "e1e55b2e-35dd-c81d-69ed-5e405c5c5f06"
      },
      "outputs": [],
      "source": [
        "print(count)"
      ]
    },
    {
      "cell_type": "code",
      "execution_count": null,
      "metadata": {
        "_cell_guid": "12ac4860-a48b-0ff1-baf5-f4c8699e5632"
      },
      "outputs": [],
      "source": [
        "# So 41 records will be \"both medium and high level interest\"\n",
        "# If this happens, can we just let prob(low)=0?\n",
        "\n",
        "prob_low_adjusted = prob_low\n",
        "prob_low_adjusted[prob_low_adjusted<0]=0\n",
        "\n",
        "for i in range(0, N, 1):\n",
        "    if(prob_low_adjusted[i])<0:\n",
        "        print(\"alert: negative probability detected!!\")\n"
      ]
    },
    {
      "cell_type": "code",
      "execution_count": null,
      "metadata": {
        "_cell_guid": "1aaa345c-90e1-34a1-c9d4-6d389b830572"
      },
      "outputs": [],
      "source": [
        "# we have got prob_high, prob_medium, prob_low_adjusted\n",
        "# concatenate them\n",
        "prob_low.shape\n",
        "prob_medium.shape\n",
        "prob_high.shape\n",
        "distribution_matrix = np.vstack((prob_low_adjusted, prob_medium, prob_high)).T\n",
        "\n",
        "distribution_matrix\n"
      ]
    },
    {
      "cell_type": "code",
      "execution_count": null,
      "metadata": {
        "_cell_guid": "bdb9fc06-44b1-6787-18c9-25991dbb7741"
      },
      "outputs": [],
      "source": [
        "prob_low_adjusted"
      ]
    }
  ],
  "metadata": {
    "_change_revision": 0,
    "_is_fork": false,
    "kernelspec": {
      "display_name": "Python 3",
      "language": "python",
      "name": "python3"
    },
    "language_info": {
      "codemirror_mode": {
        "name": "ipython",
        "version": 3
      },
      "file_extension": ".py",
      "mimetype": "text/x-python",
      "name": "python",
      "nbconvert_exporter": "python",
      "pygments_lexer": "ipython3",
      "version": "3.6.0"
    }
  },
  "nbformat": 4,
  "nbformat_minor": 0
}