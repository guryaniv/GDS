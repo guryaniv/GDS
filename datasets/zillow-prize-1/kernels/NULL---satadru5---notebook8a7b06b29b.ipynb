{
  "cells": [
    {
      "cell_type": "code",
      "execution_count": null,
      "metadata": {
        "_cell_guid": "d015b0da-ea41-0a03-390b-17e42b8f8467"
      },
      "outputs": [],
      "source": [
        "# This Python 3 environment comes with many helpful analytics libraries installed\n",
        "# It is defined by the kaggle/python docker image: https://github.com/kaggle/docker-python\n",
        "# For example, here's several helpful packages to load in \n",
        "\n",
        "import numpy as np # linear algebra\n",
        "import pandas as pd # data processing, CSV file I/O (e.g. pd.read_csv)\n",
        "\n",
        "# Input data files are available in the \"../input/\" directory.\n",
        "# For example, running this (by clicking run or pressing Shift+Enter) will list the files in the input directory\n",
        "\n",
        "from subprocess import check_output\n",
        "from sklearn import model_selection, preprocessing\n",
        "print(check_output([\"ls\", \"../input\"]).decode(\"utf8\"))\n",
        "import numpy as np # linear algebra\n",
        "import pandas as pd # data processing, CSV file I/O (e.g. pd.read_csv)\n",
        "import matplotlib.pyplot as plt\n",
        "import seaborn as sns\n",
        "color = sns.color_palette()\n",
        "\n",
        "%matplotlib inline\n",
        "\n",
        "pd.options.mode.chained_assignment = None\n",
        "pd.options.display.max_columns = 999\n",
        "\n",
        "# Any results you write to the current directory are saved as output."
      ]
    },
    {
      "cell_type": "code",
      "execution_count": null,
      "metadata": {
        "_cell_guid": "33bf6729-d7c2-8ff5-5608-90a7af59dc10"
      },
      "outputs": [],
      "source": [
        "porp=pd.read_csv(\"../input/properties_2016.csv\")\n",
        "train=pd.read_csv(\"../input/train_2016.csv\", parse_dates=[\"transactiondate\"])"
      ]
    },
    {
      "cell_type": "code",
      "execution_count": null,
      "metadata": {
        "_cell_guid": "64d3504c-cf94-a4b7-d0cb-b927efb513bb"
      },
      "outputs": [],
      "source": [
        "porp.head(3)"
      ]
    },
    {
      "cell_type": "code",
      "execution_count": null,
      "metadata": {
        "_cell_guid": "3c338633-8dbd-93c3-6a3a-6c8058986bd5"
      },
      "outputs": [],
      "source": [
        "train.head(5)"
      ]
    },
    {
      "cell_type": "code",
      "execution_count": null,
      "metadata": {
        "_cell_guid": "f8d049a7-6a94-4b48-c076-a92ff18b40e4"
      },
      "outputs": [],
      "source": [
        "plt.figure(figsize=(8,6))\n",
        "plt.scatter(range(train.shape[0]),np.sort(train.logerror.values))"
      ]
    },
    {
      "cell_type": "code",
      "execution_count": null,
      "metadata": {
        "_cell_guid": "0679afed-56c8-0834-dae9-8231b493040f"
      },
      "outputs": [],
      "source": [
        "train.logerror.describe()"
      ]
    },
    {
      "cell_type": "markdown",
      "metadata": {
        "_cell_guid": "c7ed5ea9-9e78-9038-1b57-9881dbc932e1"
      },
      "source": [
        "Remove outliner..."
      ]
    },
    {
      "cell_type": "code",
      "execution_count": null,
      "metadata": {
        "_cell_guid": "b279cafc-24e5-f982-35de-54fcab1d311e"
      },
      "outputs": [],
      "source": [
        "ulimit = np.percentile(train.logerror.values, 99)\n",
        "llimit = np.percentile(train.logerror.values, 1)\n",
        "train['logerror'].ix[train['logerror']>ulimit] = ulimit\n",
        "train['logerror'].ix[train['logerror']<llimit] = llimit\n",
        "\n",
        "plt.figure(figsize=(12,8))\n",
        "sns.distplot(train.logerror.values, bins=50, kde=False)\n",
        "plt.xlabel('logerror', fontsize=12)\n",
        "plt.show()"
      ]
    },
    {
      "cell_type": "code",
      "execution_count": null,
      "metadata": {
        "_cell_guid": "6857c906-464d-1ee8-f1ab-3818d921a4df"
      },
      "outputs": [],
      "source": [
        "porp.head(5)"
      ]
    },
    {
      "cell_type": "code",
      "execution_count": null,
      "metadata": {
        "_cell_guid": "dacf2cde-bb43-e3dd-47e0-a5d762259c06"
      },
      "outputs": [],
      "source": [
        "porp.shape,train.shape"
      ]
    },
    {
      "cell_type": "code",
      "execution_count": null,
      "metadata": {
        "_cell_guid": "3c586478-c790-916e-f895-54c574c89cd2"
      },
      "outputs": [],
      "source": [
        "train['transaction_month'] = train['transactiondate'].dt.month"
      ]
    },
    {
      "cell_type": "code",
      "execution_count": null,
      "metadata": {
        "_cell_guid": "19223605-4d89-5eec-0f92-cfe88b44c4b9"
      },
      "outputs": [],
      "source": [
        "train.head(2)"
      ]
    },
    {
      "cell_type": "code",
      "execution_count": null,
      "metadata": {
        "_cell_guid": "7116fb2e-3521-8666-b4d2-786953dd370f"
      },
      "outputs": [],
      "source": [
        "cnt_srs = train['transaction_month'].value_counts()\n",
        "plt.figure(figsize=(12,6))\n",
        "sns.barplot(cnt_srs.index, cnt_srs.values, alpha=0.8, color=color[3])\n",
        "plt.xticks(rotation='vertical')\n",
        "plt.xlabel('Month of transaction', fontsize=12)\n",
        "plt.ylabel('Number of Occurrences', fontsize=12)\n",
        "plt.show()"
      ]
    },
    {
      "cell_type": "code",
      "execution_count": null,
      "metadata": {
        "_cell_guid": "8b6205ce-e658-e71b-68d1-3a59df93fd49"
      },
      "outputs": [],
      "source": [
        "train['transaction_year'] = train['transactiondate'].dt.year\n",
        "cnt_srs_yr = train['transaction_year'].value_counts()\n",
        "plt.figure(figsize=(2,2))\n",
        "sns.barplot(cnt_srs_yr.index, cnt_srs_yr.values, alpha=0.8, color=color[3])\n",
        "plt.xticks(rotation='vertical')\n",
        "plt.xlabel('Month of transaction', fontsize=12)\n",
        "plt.ylabel('Number of Occurrences', fontsize=12)\n",
        "plt.show()"
      ]
    },
    {
      "cell_type": "code",
      "execution_count": null,
      "metadata": {
        "_cell_guid": "693352aa-72fd-3b5c-3c78-cc2ba18ed288"
      },
      "outputs": [],
      "source": [
        "(train['parcelid'].value_counts().reset_index())['parcelid'].value_counts()"
      ]
    },
    {
      "cell_type": "code",
      "execution_count": null,
      "metadata": {
        "_cell_guid": "43fb27ab-7f8a-a09b-aea6-1ccef43aa6d4"
      },
      "outputs": [],
      "source": [
        "porp.isnull().sum().sort_values()"
      ]
    },
    {
      "cell_type": "code",
      "execution_count": null,
      "metadata": {
        "_cell_guid": "66223a3f-8af2-53c3-aaeb-b274ab1629bc"
      },
      "outputs": [],
      "source": [
        "missing_df = porp.isnull().sum(axis=0).reset_index()\n",
        "missing_df.columns = ['column_name', 'missing_count']\n",
        "missing_df = missing_df.ix[missing_df['missing_count']>0]\n",
        "missing_df = missing_df.sort_values(by='missing_count')\n",
        "\n",
        "ind = np.arange(missing_df.shape[0])\n",
        "width = 0.9\n",
        "fig, ax = plt.subplots(figsize=(12,18))\n",
        "rects = ax.barh(ind, missing_df.missing_count.values, color='green')\n",
        "ax.set_yticks(ind)\n",
        "ax.set_yticklabels(missing_df.column_name.values, rotation='horizontal')\n",
        "ax.set_xlabel(\"Count of missing values\")\n",
        "ax.set_title(\"Number of missing values in each column\")\n",
        "plt.show()"
      ]
    },
    {
      "cell_type": "code",
      "execution_count": null,
      "metadata": {
        "_cell_guid": "5d41ec60-1848-8397-7893-467488bd1f29"
      },
      "outputs": [],
      "source": [
        "plt.figure(figsize=(12,12))\n",
        "sns.jointplot(x=porp.latitude.values, y=porp.longitude.values, size=10)\n",
        "plt.ylabel('Longitude', fontsize=12)\n",
        "plt.xlabel('Latitude', fontsize=12)\n",
        "plt.show()"
      ]
    },
    {
      "cell_type": "code",
      "execution_count": null,
      "metadata": {
        "_cell_guid": "168520d1-de1b-51e5-1c1e-3c68b801fd82"
      },
      "outputs": [],
      "source": [
        "train_df  = pd.merge(train, porp, on='parcelid', how='left')"
      ]
    },
    {
      "cell_type": "code",
      "execution_count": null,
      "metadata": {
        "_cell_guid": "d8687d88-2b09-5737-e0ab-75ffc167638e"
      },
      "outputs": [],
      "source": [
        "print(\"Prepare for the prediction ...\")\n",
        "sample = pd.read_csv('../input/sample_submission.csv')\n",
        "sample['parcelid'] = sample['ParcelId']\n",
        "df_test = sample.merge(porp, on='parcelid', how='left')"
      ]
    },
    {
      "cell_type": "code",
      "execution_count": null,
      "metadata": {
        "_cell_guid": "009327e3-dec5-6721-9d40-0de3f89852fb"
      },
      "outputs": [],
      "source": [
        "train_df.shape"
      ]
    },
    {
      "cell_type": "code",
      "execution_count": null,
      "metadata": {
        "_cell_guid": "5aca8426-34ad-ce05-c6c3-46240ccc8b4a"
      },
      "outputs": [],
      "source": [
        "# year and month #\n",
        "#train_df[\"yearmonth\"] = train_df[\"transactiondate\"].dt.year*100 + train_df[\"transactiondate\"].dt.month\n",
        "\n",
        "# year and week #\n",
        "#train_df[\"yearweek\"] = train_df[\"transactiondate\"].dt.year*100 + train_df[\"transactiondate\"].dt.weekofyear\n",
        "\n",
        "# week of year #\n",
        "#train_df[\"week_of_year\"] = train_df[\"transactiondate\"].dt.weekofyear\n",
        "\n",
        "# day of week #\n",
        "#train_df[\"day_of_week\"] = train_df[\"transactiondate\"].dt.weekday"
      ]
    },
    {
      "cell_type": "code",
      "execution_count": null,
      "metadata": {
        "_cell_guid": "4dcaef72-9c7f-a9d3-527d-992099f73307"
      },
      "outputs": [],
      "source": [
        "train_df=train_df.drop(['transaction_year'],axis=1)"
      ]
    },
    {
      "cell_type": "code",
      "execution_count": null,
      "metadata": {
        "_cell_guid": "1fa3a315-9e97-32f7-225c-b606bd0beb82"
      },
      "outputs": [],
      "source": [
        "train_df.head(3)"
      ]
    },
    {
      "cell_type": "code",
      "execution_count": null,
      "metadata": {
        "_cell_guid": "cc4cb94d-a4d9-cedc-bea6-3b23445873b7"
      },
      "outputs": [],
      "source": [
        "sns.countplot(train_df['airconditioningtypeid'],data=train_df)"
      ]
    },
    {
      "cell_type": "code",
      "execution_count": null,
      "metadata": {
        "_cell_guid": "59054319-f672-b970-0f09-7df2775a509f"
      },
      "outputs": [],
      "source": [
        "plt.figure(figsize=(8,4))\n",
        "sns.countplot(train_df['bathroomcnt'],data=train_df)"
      ]
    },
    {
      "cell_type": "code",
      "execution_count": null,
      "metadata": {
        "_cell_guid": "738cdd21-57a4-a6a0-2956-b0b5f79eed22"
      },
      "outputs": [],
      "source": [
        "plt.figure(figsize=(8,4))\n",
        "sns.countplot(train_df['roomcnt'],data=train_df)"
      ]
    },
    {
      "cell_type": "code",
      "execution_count": null,
      "metadata": {
        "_cell_guid": "c547a029-1efa-81f8-3504-8496e8ac96cc"
      },
      "outputs": [],
      "source": [
        "pd.options.display.max_rows = 65\n",
        "\n",
        "dtype_df = train_df.dtypes.reset_index()\n",
        "dtype_df.columns = [\"Count\", \"Column Type\"]\n",
        "dtype_df.groupby(\"Column Type\").aggregate('count').reset_index()"
      ]
    },
    {
      "cell_type": "code",
      "execution_count": null,
      "metadata": {
        "_cell_guid": "d22bb080-df45-848e-4a3a-5c61a8ab4a79"
      },
      "outputs": [],
      "source": [
        "plt.figure(figsize=(12,8))\n",
        "sns.boxplot(x=\"bathroomcnt\", y=\"logerror\", data=train_df)\n",
        "plt.ylabel('Log error', fontsize=12)\n",
        "plt.xlabel('Bathroom Count', fontsize=12)\n",
        "plt.xticks(rotation='vertical')\n",
        "plt.title(\"How log error changes with bathroom count?\", fontsize=15)\n",
        "plt.show()"
      ]
    },
    {
      "cell_type": "code",
      "execution_count": null,
      "metadata": {
        "_cell_guid": "ae804967-c2b6-587e-f345-10fd2e30fa6e"
      },
      "outputs": [],
      "source": [
        "train_df['bedroomcnt'].ix[train_df['bedroomcnt']>7] = 7\n",
        "plt.figure(figsize=(12,8))\n",
        "sns.violinplot(x='bedroomcnt', y='logerror', data=train_df)\n",
        "plt.xlabel('Bedroom count', fontsize=12)\n",
        "plt.ylabel('Log Error', fontsize=12)\n",
        "plt.show()"
      ]
    },
    {
      "cell_type": "code",
      "execution_count": null,
      "metadata": {
        "_cell_guid": "310c3a7c-d51b-ef88-8ba3-fbdbf1fa99c4"
      },
      "outputs": [],
      "source": [
        "plt.figure(figsize=(15,6))\n",
        "sns.violinplot(x='garagecarcnt', y='logerror', data=train_df)\n",
        "plt.xlabel('Garag count', fontsize=12)\n",
        "plt.ylabel('Log Error', fontsize=12)\n",
        "plt.show()"
      ]
    },
    {
      "cell_type": "code",
      "execution_count": null,
      "metadata": {
        "_cell_guid": "8fca56bd-2b5b-664f-395e-5eb51f9c9269"
      },
      "outputs": [],
      "source": [
        "plt.figure(figsize=(15,6))\n",
        "sns.violinplot(x='roomcnt', y='logerror', data=train_df)\n",
        "plt.xlabel('Room count', fontsize=12)\n",
        "plt.ylabel('Log Error', fontsize=12)\n",
        "plt.show()"
      ]
    },
    {
      "cell_type": "code",
      "execution_count": null,
      "metadata": {
        "_cell_guid": "0c63b618-c631-eba5-5c1b-368e9db18624"
      },
      "outputs": [],
      "source": [
        "plt.figure(figsize=(15,6))\n",
        "sns.violinplot(x='fireplacecnt', y='logerror', data=train_df)\n",
        "plt.xlabel('Fireplace count', fontsize=12)\n",
        "plt.ylabel('Log Error', fontsize=12)\n",
        "plt.show()"
      ]
    },
    {
      "cell_type": "code",
      "execution_count": null,
      "metadata": {
        "_cell_guid": "88e923db-11c2-cd34-4ec7-c90282de7712"
      },
      "outputs": [],
      "source": [
        "plt.figure(figsize=(15,6))\n",
        "sns.violinplot(x='pooltypeid10', y='logerror', data=train_df)\n",
        "plt.xlabel('Pool count', fontsize=12)\n",
        "plt.ylabel('Log Error', fontsize=12)\n",
        "plt.show()"
      ]
    },
    {
      "cell_type": "code",
      "execution_count": null,
      "metadata": {
        "_cell_guid": "4cfb15e6-e54f-bc68-37cd-60913ed94727"
      },
      "outputs": [],
      "source": [
        "col = \"taxamount\"\n",
        "ulimit = np.percentile(train_df[col].values, 99.5)\n",
        "llimit = np.percentile(train_df[col].values, 0.5)\n",
        "train_df[col].ix[train_df[col]>ulimit] = ulimit\n",
        "train_df[col].ix[train_df[col]<llimit] = llimit\n",
        "\n",
        "plt.figure(figsize=(12,12))\n",
        "sns.jointplot(x=train_df['taxamount'].values, y=train_df['logerror'].values, size=10, color='g')\n",
        "plt.ylabel('Log Error', fontsize=12)\n",
        "plt.xlabel('Tax Amount', fontsize=12)\n",
        "plt.title(\"Tax Amount Vs Log error\", fontsize=15)\n",
        "plt.show()"
      ]
    },
    {
      "cell_type": "code",
      "execution_count": null,
      "metadata": {
        "_cell_guid": "131b920b-5e05-f4d7-590a-9a84f272c1d1"
      },
      "outputs": [],
      "source": [
        "from ggplot import *\n",
        "ggplot(aes(x='yearbuilt', y='logerror'), data=train_df) + \\\n",
        "    geom_point(color='steelblue', size=1) + \\\n",
        "    stat_smooth()"
      ]
    },
    {
      "cell_type": "code",
      "execution_count": null,
      "metadata": {
        "_cell_guid": "f759f8a8-adf4-35c3-e5cb-7721cccf3ced"
      },
      "outputs": [],
      "source": [
        "ggplot(aes(x='latitude', y='longitude', color='logerror'), data=train_df) + \\\n",
        "    geom_point() + \\\n",
        "    scale_color_gradient(low = 'red', high = 'blue')"
      ]
    },
    {
      "cell_type": "code",
      "execution_count": null,
      "metadata": {
        "_cell_guid": "53da349e-6673-1d60-1419-dcfddac873ee"
      },
      "outputs": [],
      "source": [
        "plt.figure(figsize=(12,12))\n",
        "sns.jointplot(x=train_df['lotsizesquarefeet'].values, y=train_df['logerror'].values, size=10, color='g')\n",
        "plt.ylabel('Log Error', fontsize=12)\n",
        "plt.xlabel('Lot area size', fontsize=12)\n",
        "plt.title(\"Lot Area Vs Log error\", fontsize=15)\n",
        "plt.show()"
      ]
    },
    {
      "cell_type": "code",
      "execution_count": null,
      "metadata": {
        "_cell_guid": "e4be8db2-896a-5733-d5fc-0b828cc86dd0"
      },
      "outputs": [],
      "source": [
        "sns.barplot(x='numberofstories',y='logerror',data=train_df)"
      ]
    },
    {
      "cell_type": "code",
      "execution_count": null,
      "metadata": {
        "_cell_guid": "ef2fbca8-2385-74e6-cc4b-677e14e980a1"
      },
      "outputs": [],
      "source": [
        "sns.regplot(x='numberofstories',y='logerror',data=train_df)"
      ]
    },
    {
      "cell_type": "code",
      "execution_count": null,
      "metadata": {
        "_cell_guid": "b7b57a4d-0154-ad20-7045-6af7749ab5bd"
      },
      "outputs": [],
      "source": [
        "ggplot(aes(x='finishedsquarefeet12', y='taxamount', color='logerror'), data=train_df) + \\\n",
        "    geom_now_its_art()"
      ]
    },
    {
      "cell_type": "code",
      "execution_count": null,
      "metadata": {
        "_cell_guid": "16b43148-fd1b-07f4-81d2-8c3db1b574a2"
      },
      "outputs": [],
      "source": [
        "cat_cols = [\"hashottuborspa\", \"propertycountylandusecode\", \"propertyzoningdesc\", \"fireplaceflag\", \"taxdelinquencyflag\"]"
      ]
    },
    {
      "cell_type": "code",
      "execution_count": null,
      "metadata": {
        "_cell_guid": "8e3fadb9-f09d-0b1b-d52d-b00ad6921474"
      },
      "outputs": [],
      "source": [
        "train_df[cat_cols].head(3)"
      ]
    },
    {
      "cell_type": "code",
      "execution_count": null,
      "metadata": {
        "_cell_guid": "f1180de0-d29e-d5b7-06cf-71e209db4d46"
      },
      "outputs": [],
      "source": [
        "sns.countplot(train_df['hashottuborspa'])"
      ]
    },
    {
      "cell_type": "code",
      "execution_count": null,
      "metadata": {
        "_cell_guid": "bcc42104-da46-1497-a7f1-a0f1b529b44b"
      },
      "outputs": [],
      "source": [
        "parcelid=train_df['parcelid']\n",
        "logerror=train['logerror']"
      ]
    },
    {
      "cell_type": "code",
      "execution_count": null,
      "metadata": {
        "_cell_guid": "185ceba0-5b5e-cca1-83ca-2e773e8386aa"
      },
      "outputs": [],
      "source": [
        "# Let us just impute the missing values with mean values to compute correlation coefficients #\n",
        "mean_values = train_df.mean(axis=0)\n",
        "train_df_new = train_df.fillna(mean_values, inplace=True)\n",
        "\n",
        "# Now let us look at the correlation coefficient of each of these variables #\n",
        "x_cols = [col for col in train_df_new.columns if col not in ['logerror'] if train_df_new[col].dtype=='float64']\n",
        "\n",
        "labels = []\n",
        "values = []\n",
        "for col in x_cols:\n",
        "    labels.append(col)\n",
        "    values.append(np.corrcoef(train_df_new[col].values, train_df_new.logerror.values)[0,1])\n",
        "corr_df = pd.DataFrame({'col_labels':labels, 'corr_values':values})\n",
        "corr_df = corr_df.sort_values(by='corr_values')\n",
        "    \n",
        "ind = np.arange(len(labels))\n",
        "width = 0.9\n",
        "fig, ax = plt.subplots(figsize=(12,40))\n",
        "rects = ax.barh(ind, np.array(corr_df.corr_values.values), color='y')\n",
        "ax.set_yticks(ind)\n",
        "ax.set_yticklabels(corr_df.col_labels.values, rotation='horizontal')\n",
        "ax.set_xlabel(\"Correlation coefficient\")\n",
        "ax.set_title(\"Correlation coefficient of the variables\")\n",
        "#autolabel(rects)\n",
        "plt.show()"
      ]
    },
    {
      "cell_type": "code",
      "execution_count": null,
      "metadata": {
        "_cell_guid": "c1f9aaea-854a-7bba-3434-e2357704ae19"
      },
      "outputs": [],
      "source": [
        "corr_df_sel = corr_df.ix[(corr_df['corr_values']>0.02) | (corr_df['corr_values'] < -0.01)]\n",
        "corr_df_sel"
      ]
    },
    {
      "cell_type": "code",
      "execution_count": null,
      "metadata": {
        "_cell_guid": "77b67be0-a391-065e-b939-77f289353f75"
      },
      "outputs": [],
      "source": [
        "cols_to_use = corr_df_sel.col_labels.tolist()\n",
        "\n",
        "temp_df = train_df[cols_to_use]\n",
        "corrmat = temp_df.corr(method='spearman')\n",
        "f, ax = plt.subplots(figsize=(8, 8))\n",
        "\n",
        "# Draw the heatmap using seaborn\n",
        "sns.heatmap(corrmat, vmax=1., square=True)\n",
        "plt.title(\"Important variables correlation map\", fontsize=15)\n",
        "plt.show()"
      ]
    },
    {
      "cell_type": "code",
      "execution_count": null,
      "metadata": {
        "_cell_guid": "ca4addd8-cc5b-427d-830e-9f1a8cdacbe9"
      },
      "outputs": [],
      "source": [
        "train_df=train_df.drop(['propertycountylandusecode'],axis=1)\n",
        "df_test=df_test.drop(['propertycountylandusecode'],axis=1)"
      ]
    },
    {
      "cell_type": "code",
      "execution_count": null,
      "metadata": {
        "_cell_guid": "d9827f6e-4d8b-742d-3ca2-afb531e5cb09"
      },
      "outputs": [],
      "source": [
        "for f in train_df.columns:\n",
        "    if train_df[f].dtype=='object':\n",
        "        print(f)\n",
        "        lbl = preprocessing.LabelEncoder()\n",
        "        lbl.fit(list(train_df[f].values.astype('str')) + list(df_test[f].values.astype('str')))\n",
        "        train_df[f] = lbl.transform(list(train_df[f].values.astype('str')))\n",
        "        df_test[f] = lbl.transform(list(df_test[f].values.astype('str')))"
      ]
    },
    {
      "cell_type": "code",
      "execution_count": null,
      "metadata": {
        "_cell_guid": "10985fe4-2c60-7bc0-06b2-246fdf754287"
      },
      "outputs": [],
      "source": [
        "train_y = train_df['logerror'].values\n",
        "#cat_cols = [\"propertycountylandusecode\"]\n",
        "train_df = train_df.drop(['parcelid', 'logerror', 'transactiondate', 'transaction_month'], axis=1)\n",
        "feat_names = train_df.columns.values\n",
        "\n"
      ]
    },
    {
      "cell_type": "code",
      "execution_count": null,
      "metadata": {
        "_cell_guid": "52917a21-df26-1bb6-3fba-58c89b4f6bd5"
      },
      "outputs": [],
      "source": [
        "from sklearn import ensemble\n",
        "model = ensemble.ExtraTreesRegressor(n_estimators=25, max_depth=30, max_features=0.3, n_jobs=-1, random_state=0)\n",
        "model.fit(train_df, train_y)\n",
        "\n",
        "## plot the importances ##\n",
        "importances = model.feature_importances_\n",
        "std = np.std([tree.feature_importances_ for tree in model.estimators_], axis=0)\n",
        "indices = np.argsort(importances)[::-1][:20]\n",
        "\n",
        "plt.figure(figsize=(12,12))\n",
        "plt.title(\"Feature importances\")\n",
        "plt.bar(range(len(indices)), importances[indices], color=\"r\", yerr=std[indices], align=\"center\")\n",
        "plt.xticks(range(len(indices)), feat_names[indices], rotation='vertical')\n",
        "plt.xlim([-1, len(indices)])\n",
        "plt.show()"
      ]
    },
    {
      "cell_type": "code",
      "execution_count": null,
      "metadata": {
        "_cell_guid": "5faa8335-48fe-ee81-cd50-15c4e7d00c79"
      },
      "outputs": [],
      "source": [
        "model.score(train_df, train_y)"
      ]
    },
    {
      "cell_type": "code",
      "execution_count": null,
      "metadata": {
        "_cell_guid": "7228a57e-c48c-5fbc-c54a-4908d338aa6b"
      },
      "outputs": [],
      "source": [
        "import xgboost as xgb\n",
        "xgb_params = {\n",
        "    'eta': 0.05,\n",
        "    'max_depth': 8,\n",
        "    'subsample': 0.7,\n",
        "    'colsample_bytree': 0.7,\n",
        "    'objective': 'reg:linear',\n",
        "    'silent': 1,\n",
        "    'seed' : 0\n",
        "}\n",
        "dtrain = xgb.DMatrix(train_df, train_y)\n",
        "# xgboost, cross-validation\n",
        "cv_result = xgb.cv(xgb_params, \n",
        "                   dtrain, \n",
        "                   num_boost_round=500, # increase to have better results (~700)\n",
        "                   early_stopping_rounds=50,\n",
        "                   verbose_eval=50, \n",
        "                   show_stdv=False\n",
        "                  )\n"
      ]
    },
    {
      "cell_type": "code",
      "execution_count": null,
      "metadata": {
        "_cell_guid": "f80c3bd5-eb48-8706-886e-191079f24d76"
      },
      "outputs": [],
      "source": [
        "num_boost_rounds = len(cv_result)\n",
        "print(num_boost_rounds)\n",
        "\n",
        "# train model\n",
        "model_xgb = xgb.train(dict(xgb_params, silent=0), dtrain, num_boost_round=num_boost_rounds)"
      ]
    },
    {
      "cell_type": "code",
      "execution_count": null,
      "metadata": {
        "_cell_guid": "bce8dce7-de6f-8dd8-d0af-817ca6fc9248"
      },
      "outputs": [],
      "source": [
        "# plot the important features #\n",
        "fig, ax = plt.subplots(figsize=(12,18))\n",
        "xgb.plot_importance(model_xgb, max_num_features=50, height=0.8, ax=ax)\n",
        "plt.show()"
      ]
    },
    {
      "cell_type": "code",
      "execution_count": null,
      "metadata": {
        "_cell_guid": "0a6abb73-71c4-6e09-bb7e-55bce9140a6d"
      },
      "outputs": [],
      "source": [
        "df_test=df_test.drop(['ParcelId','201610','201611','201612','201710','201711','201712','parcelid'],axis=1)"
      ]
    },
    {
      "cell_type": "code",
      "execution_count": null,
      "metadata": {
        "_cell_guid": "6b262a9d-de9b-bde8-bcb7-e45e52dca92c"
      },
      "outputs": [],
      "source": [
        "df_test.head(3)"
      ]
    },
    {
      "cell_type": "code",
      "execution_count": null,
      "metadata": {
        "_cell_guid": "2394ecd7-7992-0245-62aa-69d6f2564c77"
      },
      "outputs": [],
      "source": [
        "train_df.head(3)"
      ]
    },
    {
      "cell_type": "code",
      "execution_count": null,
      "metadata": {
        "_cell_guid": "c7440d94-5a6f-3bf3-d4d2-419623313d75"
      },
      "outputs": [],
      "source": [
        "df_test.shape,train_df.shape"
      ]
    },
    {
      "cell_type": "code",
      "execution_count": null,
      "metadata": {
        "_cell_guid": "38db1ccd-f469-ed76-7e4d-623bd709c29c"
      },
      "outputs": [],
      "source": [
        "#df_test=df_test.drop(['ParcelId','201610','201611','201612','201710','201711','201712','parcelid'],axis=1)"
      ]
    },
    {
      "cell_type": "code",
      "execution_count": null,
      "metadata": {
        "_cell_guid": "1bc9f188-6e88-d0d8-3ef8-e63d8f72553b"
      },
      "outputs": [],
      "source": [
        "from sklearn import ensemble\n",
        "ada_model = ensemble.AdaBoostRegressor(n_estimators=50, learning_rate=0.05, random_state=42)\n",
        "ada_model.fit(train_df, train_y)\n",
        "ada_model.score(train_df, train_y)\n"
      ]
    },
    {
      "cell_type": "code",
      "execution_count": null,
      "metadata": {
        "_cell_guid": "022863f2-566f-3935-fe40-c9dfe012c1ba"
      },
      "outputs": [],
      "source": [
        "df_test=df_test.drop()"
      ]
    }
  ],
  "metadata": {
    "_change_revision": 0,
    "_is_fork": false,
    "kernelspec": {
      "display_name": "Python 3",
      "language": "python",
      "name": "python3"
    },
    "language_info": {
      "codemirror_mode": {
        "name": "ipython",
        "version": 3
      },
      "file_extension": ".py",
      "mimetype": "text/x-python",
      "name": "python",
      "nbconvert_exporter": "python",
      "pygments_lexer": "ipython3",
      "version": "3.6.0"
    }
  },
  "nbformat": 4,
  "nbformat_minor": 0
}