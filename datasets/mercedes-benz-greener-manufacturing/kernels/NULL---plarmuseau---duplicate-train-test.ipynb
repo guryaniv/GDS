{
  "cells": [
    {
      "cell_type": "code",
      "execution_count": null,
      "metadata": {
        "_cell_guid": "60b4acb0-b10a-2d38-8cef-d7a5d72047ed"
      },
      "outputs": [],
      "source": [
        "import numpy as np # linear algebra\n",
        "import pandas as pd # data processing, CSV file I/O (e.g. pd.read_csv)\n",
        "from sklearn.preprocessing import LabelEncoder\n",
        "import seaborn as sns\n",
        "import matplotlib.pyplot as plt\n",
        "# read datasets\n",
        "train = pd.read_csv('../input/train.csv')\n",
        "test = pd.read_csv('../input/test.csv')\n",
        "\n",
        "\n",
        "\n",
        "test['y'] = 102  # to make append possible\n",
        "y_train = train[\"y\"]\n",
        "totaal=pd.DataFrame(train.append(test))\n",
        "\n",
        "#find unique ?\n",
        "kolom=train.columns \n",
        "kolom=[k for k in kolom if k not in ['ID','y']]\n",
        "tot_u = train.sort_values(by='y').duplicated(subset=kolom)\n",
        "print(train[tot_u==True])"
      ]
    }
  ],
  "metadata": {
    "_change_revision": 0,
    "_is_fork": false,
    "kernelspec": {
      "display_name": "Python 3",
      "language": "python",
      "name": "python3"
    },
    "language_info": {
      "codemirror_mode": {
        "name": "ipython",
        "version": 3
      },
      "file_extension": ".py",
      "mimetype": "text/x-python",
      "name": "python",
      "nbconvert_exporter": "python",
      "pygments_lexer": "ipython3",
      "version": "3.6.0"
    }
  },
  "nbformat": 4,
  "nbformat_minor": 0
}