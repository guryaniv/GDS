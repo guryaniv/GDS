{
  "cells": [
    {
      "cell_type": "code",
      "execution_count": null,
      "metadata": {
        "_cell_guid": "31f5c251-ef2c-861d-abc6-3239b6494303"
      },
      "outputs": [],
      "source": [
        "# This Python 3 environment comes with many helpful analytics libraries installed\n",
        "# It is defined by the kaggle/python docker image: https://github.com/kaggle/docker-python\n",
        "# For example, here's several helpful packages to load in \n",
        "\n",
        "import numpy as np # linear algebra\n",
        "import pandas as pd # data processing, CSV file I/O (e.g. pd.read_csv)\n",
        "\n",
        "# Input data files are available in the \"../input/\" directory.\n",
        "# For example, running this (by clicking run or pressing Shift+Enter) will list the files in the input directory\n",
        "\n",
        "from subprocess import check_output\n",
        "print(check_output([\"ls\", \"../input\"]).decode(\"utf8\"))\n",
        "\n",
        "# Any results you write to the current directory are saved as output."
      ]
    },
    {
      "cell_type": "code",
      "execution_count": null,
      "metadata": {
        "_cell_guid": "e9fc9761-8d36-e353-0b10-61e6b9f40272"
      },
      "outputs": [],
      "source": [
        "dstrain=pd.read_csv(\"../input/train.csv\")\n",
        "dstest=pd.read_csv(\"../input/test.csv\")\n",
        "\n",
        "print(dstrain.head())\n",
        "print(dstest.head())"
      ]
    },
    {
      "cell_type": "code",
      "execution_count": null,
      "metadata": {
        "_cell_guid": "4640aff2-bba5-88a4-453e-3599afe4061a"
      },
      "outputs": [],
      "source": [
        "dstrain=dstrain.iloc[:,1:]\n",
        "testid=dstest['id']\n",
        "dstest.drop('id',axis=1,inplace=True)\n",
        "\n",
        "pd.set_option('display.max_rows',None)\n",
        "pd.set_option('display.max_columns',None)\n",
        "\n",
        "print(dstrain.head())\n",
        "print(dstest.head())"
      ]
    },
    {
      "cell_type": "code",
      "execution_count": null,
      "metadata": {
        "_cell_guid": "f8455791-386b-64af-2773-909bb2bf7ad6"
      },
      "outputs": [],
      "source": [
        "print(dstrain.shape)"
      ]
    },
    {
      "cell_type": "code",
      "execution_count": null,
      "metadata": {
        "_cell_guid": "0d7833fa-6a2f-e8fa-c632-6b151df9cba2"
      },
      "outputs": [],
      "source": [
        "print(dstrain.describe())"
      ]
    },
    {
      "cell_type": "code",
      "execution_count": null,
      "metadata": {
        "_cell_guid": "419add1b-91d2-0921-f2df-3c4d6c97e8a7"
      },
      "outputs": [],
      "source": [
        "print(dstrain.skew())"
      ]
    },
    {
      "cell_type": "code",
      "execution_count": null,
      "metadata": {
        "_cell_guid": "83bea305-8cac-9c63-9265-45335ae92942"
      },
      "outputs": [],
      "source": [
        "import seaborn as sb\n",
        "import matplotlib.pyplot as plt\n",
        "\n",
        "dscont=dstrain.iloc[:,116:]\n",
        "\n",
        "for i in range(14)\n",
        "    fg,ax=plt,subplots(nrow-1,ncols=1,figsize=(12,16))\n",
        "    for j in range(1)\n",
        "        sns.violinplot(y=cols[i+j],data=dscont,ax=ax[j])"
      ]
    }
  ],
  "metadata": {
    "_change_revision": 0,
    "_is_fork": false,
    "kernelspec": {
      "display_name": "Python 3",
      "language": "python",
      "name": "python3"
    },
    "language_info": {
      "codemirror_mode": {
        "name": "ipython",
        "version": 3
      },
      "file_extension": ".py",
      "mimetype": "text/x-python",
      "name": "python",
      "nbconvert_exporter": "python",
      "pygments_lexer": "ipython3",
      "version": "3.6.0"
    }
  },
  "nbformat": 4,
  "nbformat_minor": 0
}