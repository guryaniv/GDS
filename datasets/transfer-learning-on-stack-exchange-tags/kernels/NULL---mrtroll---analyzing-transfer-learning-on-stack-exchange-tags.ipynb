{
  "cells": [
    {
      "cell_type": "markdown",
      "metadata": {
        "_cell_guid": "c6666373-a625-a6a7-71a1-e3fcda3a3f0d"
      },
      "source": [
        "I'm analyzing the tags in order to know the tags relationships among corpora.\n",
        "------------------------------------------------------------------------"
      ]
    },
    {
      "cell_type": "code",
      "execution_count": null,
      "metadata": {
        "_cell_guid": "4362c823-159b-0897-e342-79e348cd2359"
      },
      "outputs": [],
      "source": [
        "import numpy as np\n",
        "import pandas as pd\n",
        "import nltk as nlt\n",
        "from nltk.tokenize import word_tokenize\n",
        "from subprocess import check_output\n",
        "from nltk.stem import WordNetLemmatizer\n",
        "print(check_output([\"ls\", \"../input\"]).decode(\"utf8\"))"
      ]
    },
    {
      "cell_type": "markdown",
      "metadata": {
        "_cell_guid": "ff84925e-2a9d-d0ab-6e8e-d468f4cda549"
      },
      "source": [
        "**Reading corpora**\n",
        "-----------"
      ]
    },
    {
      "cell_type": "code",
      "execution_count": null,
      "metadata": {
        "_cell_guid": "a8f86283-64e8-3a2f-a5b6-63ed296864da"
      },
      "outputs": [],
      "source": [
        "biology = pd.read_csv('../input/biology.csv')\n",
        "cooking = pd.read_csv('../input/cooking.csv')\n",
        "crypto = pd.read_csv('../input/crypto.csv')\n",
        "diy = pd.read_csv('../input/diy.csv')\n",
        "robotics = pd.read_csv('../input/robotics.csv')\n",
        "travel = pd.read_csv('../input/travel.csv')\n",
        "\n",
        "corpora = [biology,cooking,crypto,diy,robotics,travel]"
      ]
    },
    {
      "cell_type": "code",
      "execution_count": null,
      "metadata": {
        "_cell_guid": "2842f9e3-2d8c-edab-eb7c-6180b4f91013"
      },
      "outputs": [],
      "source": [
        "biology.head()"
      ]
    },
    {
      "cell_type": "code",
      "execution_count": null,
      "metadata": {
        "_cell_guid": "22e67149-66a8-7e97-09de-4c05e259aed3"
      },
      "outputs": [],
      "source": [
        "print(biology.title[0])\n",
        "print(biology.content[0])\n",
        "print(biology.tags[0])"
      ]
    },
    {
      "cell_type": "markdown",
      "metadata": {
        "_cell_guid": "c389c89a-9f66-534b-a7e4-921ab88b4ae0"
      },
      "source": [
        "## **Cleaning function** ##\n",
        "\n",
        "returns a tokenize and lemmatized array"
      ]
    },
    {
      "cell_type": "code",
      "execution_count": null,
      "metadata": {
        "_cell_guid": "68cb7999-94b8-739b-35ad-317fdc42d01c"
      },
      "outputs": [],
      "source": [
        "def tag_clean(data):\n",
        "    tags = data.tags\n",
        "\n",
        "    print('tokenize')\n",
        "    tags = tags.apply(lambda x: word_tokenize(x))\n",
        "\n",
        "    print('Lemmatizing')\n",
        "    wordnet_lemmatizer = WordNetLemmatizer()\n",
        "    tags = tags.apply(lambda x: [wordnet_lemmatizer.lemmatize(i) for i in x])\n",
        "    tags = tags.apply(lambda x: [i for i in x if len(i)>2])\n",
        "    return(tags)"
      ]
    },
    {
      "cell_type": "code",
      "execution_count": null,
      "metadata": {
        "_cell_guid": "31440c1b-0bea-e37d-edca-0bcb1a5d6ffa"
      },
      "outputs": [],
      "source": [
        "tags_lemmatized = tag_clean(biology)"
      ]
    },
    {
      "cell_type": "code",
      "execution_count": null,
      "metadata": {
        "_cell_guid": "f4dd928e-4249-46dc-93e3-3c794791634c"
      },
      "outputs": [],
      "source": [
        "tags_lemmatized = tags_lemmatized.as_matrix()\n",
        "tags_lemmatized = np.concatenate(tags_lemmatized)\n",
        "tags_frequency_lemmatized = nlt.FreqDist(tags_lemmatized)\n",
        "len(tags_frequency_lemmatized)"
      ]
    },
    {
      "cell_type": "code",
      "execution_count": null,
      "metadata": {
        "_cell_guid": "48718d28-6afb-e16d-8faf-f3a2478ce290"
      },
      "outputs": [],
      "source": [
        "tags = biology.tags.apply(lambda x: word_tokenize(x))\n",
        "tags = tags.as_matrix()\n",
        "tags = np.concatenate(tags)\n",
        "tags_frequency = nlt.FreqDist(tags)\n",
        "len(tags_frequency)"
      ]
    },
    {
      "cell_type": "markdown",
      "metadata": {
        "_cell_guid": "c3d83b12-d816-7f75-861b-3c3b3fa70545"
      },
      "source": [
        "**The lemmatized array contains 3 less tags**"
      ]
    },
    {
      "cell_type": "markdown",
      "metadata": {
        "_cell_guid": "f1b2fc85-cdc4-5b93-2509-5acbda23b663"
      },
      "source": [
        "## **Get the frequency per corpus** ##"
      ]
    },
    {
      "cell_type": "code",
      "execution_count": null,
      "metadata": {
        "_cell_guid": "356e2fcc-65eb-ce64-8d13-996566d26853"
      },
      "outputs": [],
      "source": [
        "corpora_tags_frequency = []\n",
        "for corpus in corpora:\n",
        "    tags = corpus.tags.apply(lambda x: word_tokenize(x))\n",
        "    tags = tags.as_matrix()\n",
        "    tags = np.concatenate(tags)\n",
        "    tags_frequency = nlt.FreqDist(tags)\n",
        "    corpora_tags_frequency.append(tags_frequency)"
      ]
    },
    {
      "cell_type": "markdown",
      "metadata": {
        "_cell_guid": "15222575-b4c9-3a5b-3316-e2e257374a88"
      },
      "source": [
        "**Sort the array by frequencies**"
      ]
    },
    {
      "cell_type": "code",
      "execution_count": null,
      "metadata": {
        "_cell_guid": "fd7ebb70-76e7-898f-dd40-02dc063ad245"
      },
      "outputs": [],
      "source": [
        "import operator\n",
        "corpora_tags_frequency_sorted = []\n",
        "for corpus_tags in corpora_tags_frequency:\n",
        "    tags_sorted = sorted(corpus_tags.items(), key=operator.itemgetter(1), reverse=True)\n",
        "    corpora_tags_frequency_sorted.append(tags_sorted)"
      ]
    },
    {
      "cell_type": "markdown",
      "metadata": {
        "_cell_guid": "716eac29-9c0e-ad05-a064-1a365719ee25"
      },
      "source": [
        "**Display the top 3 from sorted frequency tags per corpus**"
      ]
    },
    {
      "cell_type": "code",
      "execution_count": null,
      "metadata": {
        "_cell_guid": "727d5762-55f5-df2a-6034-8f9a4ba9ee15"
      },
      "outputs": [],
      "source": [
        "for corpus_tags in corpora_tags_frequency_sorted:\n",
        "    print(corpus_tags[0:3])"
      ]
    },
    {
      "cell_type": "code",
      "execution_count": null,
      "metadata": {
        "_cell_guid": "9c927a32-7fbf-9ed4-e32e-64f9d52fc3e9"
      },
      "outputs": [],
      "source": [
        "for key in corpora_tags_frequency[0]:\n",
        "    found = True\n",
        "    for corpus_tags in corpora_tags_frequency[1:]:\n",
        "        if key not in corpus_tags:\n",
        "            found = False\n",
        "            break\n",
        "    if found == True:\n",
        "        print(key)\n",
        "     "
      ]
    },
    {
      "cell_type": "markdown",
      "metadata": {
        "_cell_guid": "83eab970-e85d-6b25-1b24-43cc72d64b26"
      },
      "source": [
        "I'm looking for a tags that are contained in all corpus. Some lines didn't tag assigned."
      ]
    },
    {
      "cell_type": "code",
      "execution_count": null,
      "metadata": {
        "_cell_guid": "c310f6ba-3e5f-bd6d-c373-30429cd6aba6"
      },
      "outputs": [],
      "source": [
        "tags_shared = []\n",
        "for key in corpora_tags_frequency[0]:\n",
        "    found = True\n",
        "    for corpus_tags in corpora_tags_frequency[1:]:\n",
        "        if key in corpus_tags:\n",
        "            tags_shared.append(key)\n",
        "tags_shared = nlt.FreqDist(tags_shared)"
      ]
    },
    {
      "cell_type": "code",
      "execution_count": null,
      "metadata": {
        "_cell_guid": "dad28eae-a9e0-3201-7de7-e73bda18d16d"
      },
      "outputs": [],
      "source": [
        "tags_shared_sorted = sorted(tags_shared.items(), key=operator.itemgetter(1), reverse=True)\n",
        "print(len(tags_shared_sorted))"
      ]
    },
    {
      "cell_type": "markdown",
      "metadata": {
        "_cell_guid": "2dea9733-83e9-bd96-324f-16dcf97f5130"
      },
      "source": [
        "54 tags are contained in multiple corpus"
      ]
    },
    {
      "cell_type": "code",
      "execution_count": null,
      "metadata": {
        "_cell_guid": "8370b9c5-f51b-8590-63c2-65ebb713f404"
      },
      "outputs": [],
      "source": [
        "tags_shared_sorted[0:10]"
      ]
    },
    {
      "cell_type": "markdown",
      "metadata": {
        "_cell_guid": "46deb82c-9aa0-358a-5b2c-d67ec54d46e0"
      },
      "source": [
        "software apears in 4 corpus, history in 3 and so on..."
      ]
    },
    {
      "cell_type": "markdown",
      "metadata": {
        "_cell_guid": "047e3834-c86f-6dc0-761d-64687edc7af8"
      },
      "source": [
        "**I'm going to work in this analyzing this week and i hope this kernel can help you**"
      ]
    },
    {
      "cell_type": "code",
      "execution_count": null,
      "metadata": {
        "_cell_guid": "8002b7f5-dd94-dd29-7748-4929a7ca7e97",
        "collapsed": true
      },
      "outputs": [],
      "source": ""
    }
  ],
  "metadata": {
    "_change_revision": 0,
    "_is_fork": false,
    "kernelspec": {
      "display_name": "Python 3",
      "language": "python",
      "name": "python3"
    },
    "language_info": {
      "codemirror_mode": {
        "name": "ipython",
        "version": 3
      },
      "file_extension": ".py",
      "mimetype": "text/x-python",
      "name": "python",
      "nbconvert_exporter": "python",
      "pygments_lexer": "ipython3",
      "version": "3.5.2"
    }
  },
  "nbformat": 4,
  "nbformat_minor": 0
}