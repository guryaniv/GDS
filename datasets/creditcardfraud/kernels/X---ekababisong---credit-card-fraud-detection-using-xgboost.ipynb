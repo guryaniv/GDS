{
  "cells": [
    {
      "cell_type": "markdown",
      "metadata": {
        "_cell_guid": "4c73a781-3b0e-1571-c07b-df1ecc5e0cbb"
      },
      "source": ""
    },
    {
      "cell_type": "code",
      "execution_count": null,
      "metadata": {
        "_cell_guid": "40733ade-c0ee-e288-1c99-79bfc4560b1e"
      },
      "outputs": [],
      "source": [
        "# import packages\n",
        "print(__doc__)\n",
        "import numpy as np\n",
        "from scipy import interp\n",
        "import matplotlib.pyplot as plt\n",
        "from itertools import cycle\n",
        "import pandas as pd\n",
        "from xgboost import XGBClassifier\n",
        "from sklearn.model_selection import StratifiedKFold\n",
        "from sklearn.model_selection import cross_val_score\n",
        "from sklearn.metrics import roc_curve, auc"
      ]
    },
    {
      "cell_type": "code",
      "execution_count": null,
      "metadata": {
        "_cell_guid": "615430c3-e3ce-4ff4-9496-b086a5b12dae"
      },
      "outputs": [],
      "source": [
        "# load the data\n",
        "dataframe = pd.read_csv(\"../input/creditcard.csv\")"
      ]
    },
    {
      "cell_type": "code",
      "execution_count": null,
      "metadata": {
        "_cell_guid": "c66afc1f-7882-217b-bb6a-aaf53b5c34f8"
      },
      "outputs": [],
      "source": [
        "# get column names\n",
        "colNames = dataframe.columns.values\n",
        "colNames"
      ]
    },
    {
      "cell_type": "code",
      "execution_count": null,
      "metadata": {
        "_cell_guid": "135430d4-5508-c481-efee-a06db43e508f"
      },
      "outputs": [],
      "source": [
        "# get dataframe dimensions\n",
        "print (\"Dimension of dataset:\", dataframe.shape)"
      ]
    },
    {
      "cell_type": "code",
      "execution_count": null,
      "metadata": {
        "_cell_guid": "782ba631-9820-04c2-68a0-229871a9c11f"
      },
      "outputs": [],
      "source": [
        "# get attribute summaries\n",
        "print(dataframe.describe())"
      ]
    },
    {
      "cell_type": "code",
      "execution_count": null,
      "metadata": {
        "_cell_guid": "f24ddae2-3f3b-d377-5f3e-3e1fc46340e7"
      },
      "outputs": [],
      "source": [
        "# get class distribution\n",
        "print (\"Normal transaction:\", dataframe['Class'][dataframe['Class'] == 0].count()) #class = 0\n",
        "print (\"Fraudulent transaction:\", dataframe['Class'][dataframe['Class'] == 1].count()) #class = 1"
      ]
    },
    {
      "cell_type": "code",
      "execution_count": null,
      "metadata": {
        "_cell_guid": "e10447b0-6e0e-b967-2de2-5507b2afd5f9"
      },
      "outputs": [],
      "source": [
        "# separate classes into different datasets\n",
        "class0 = dataframe.query('Class == 0')\n",
        "class1 = dataframe.query('Class == 1')\n",
        "\n",
        "# randomize the datasets\n",
        "class0 = class0.sample(frac=1)\n",
        "class1 = class1.sample(frac=1)"
      ]
    },
    {
      "cell_type": "markdown",
      "metadata": {
        "_cell_guid": "d8e50d92-8a51-b537-0067-266d03205403"
      },
      "source": [
        "## Undersampling to deal with class imbalance\n",
        "The examples of the majority class, in this case the normal transactions drastically outnumber the incidences of fraud in our dataset. One of the strategies employed in the data science community is to delete instances from the over-represented class to improve the learning function. Here, we selected 6000 instances of the normal class from the original 284315 records."
      ]
    },
    {
      "cell_type": "code",
      "execution_count": null,
      "metadata": {
        "_cell_guid": "1b43fe07-655e-19f3-2f66-3e21005fccb0"
      },
      "outputs": [],
      "source": [
        "# undersample majority class due to class imbalance before training - train\n",
        "class0train = class0.iloc[0:6000]\n",
        "class1train = class1\n",
        "\n",
        "# combine subset of different classes into one balaced dataframe\n",
        "train = class0train.append(class1train, ignore_index=True).values"
      ]
    },
    {
      "cell_type": "code",
      "execution_count": null,
      "metadata": {
        "_cell_guid": "3e6fd4c3-98ed-c5b1-5a8c-b0fe878f47f6"
      },
      "outputs": [],
      "source": [
        "# split data into X and y\n",
        "X = train[:,0:30].astype(float)\n",
        "Y = train[:,30]"
      ]
    },
    {
      "cell_type": "markdown",
      "metadata": {
        "_cell_guid": "593d49d6-dd9b-2786-69f5-f7cb613c750c"
      },
      "source": [
        "## The Learning Algorithm: XGBoost\n",
        "Extreme Gradient Boosting is also known as XGBoost. This model is preferred due to its execution speed and learning performance."
      ]
    },
    {
      "cell_type": "code",
      "execution_count": null,
      "metadata": {
        "_cell_guid": "8067f2ba-9ab5-f6b9-e6ee-5afc9d0999c5"
      },
      "outputs": [],
      "source": [
        "# XGBoost CV model\n",
        "model = XGBClassifier()\n",
        "kfold = StratifiedKFold(n_splits=10, random_state=7)\n",
        "\n",
        "# use area under the precision-recall curve to show classification accuracy\n",
        "scoring = 'roc_auc'\n",
        "results = cross_val_score(model, X, Y, cv=kfold, scoring = scoring)\n",
        "print( \"AUC: %.3f (%.3f)\" % (results.mean(), results.std()) )"
      ]
    },
    {
      "cell_type": "markdown",
      "metadata": {
        "_cell_guid": "6ae2feac-cbd9-dd5b-d9b3-9bbb6a9a7ba5"
      },
      "source": [
        "## Plot the Result"
      ]
    },
    {
      "cell_type": "code",
      "execution_count": null,
      "metadata": {
        "_cell_guid": "3499af99-56f8-4690-04ef-78dc292b19c4"
      },
      "outputs": [],
      "source": [
        "# change size of Matplotlib plot\n",
        "fig_size = plt.rcParams[\"figure.figsize\"] # Get current size\n",
        "\n",
        "old_fig_params = fig_size\n",
        "# new figure parameters\n",
        "fig_size[0] = 12\n",
        "fig_size[1] = 9\n",
        "   \n",
        "plt.rcParams[\"figure.figsize\"] = fig_size # set new size"
      ]
    },
    {
      "cell_type": "code",
      "execution_count": null,
      "metadata": {
        "_cell_guid": "9378836a-8034-45d4-3a2d-9ebad0670fbe"
      },
      "outputs": [],
      "source": [
        "# plot roc-curve\n",
        "# code adapted from http://scikit-learn.org\n",
        "mean_tpr = 0.0\n",
        "mean_fpr = np.linspace(0, 1, 100)\n",
        "\n",
        "colors = cycle(['cyan', 'indigo', 'seagreen', 'yellow', 'blue', 'darkorange'])\n",
        "lw = 2\n",
        "\n",
        "i = 0\n",
        "for (train, test), color in zip(kfold.split(X, Y), colors):\n",
        "    probas_ = model.fit(X[train], Y[train]).predict_proba(X[test])\n",
        "    # Compute ROC curve and area the curve\n",
        "    fpr, tpr, thresholds = roc_curve(Y[test], probas_[:, 1])\n",
        "    mean_tpr += interp(mean_fpr, fpr, tpr)\n",
        "    mean_tpr[0] = 0.0\n",
        "    roc_auc = auc(fpr, tpr)\n",
        "    plt.plot(fpr, tpr, lw=lw, color=color,\n",
        "             label='ROC fold %d (area = %0.2f)' % (i, roc_auc))\n",
        "\n",
        "    i += 1\n",
        "plt.plot([0, 1], [0, 1], linestyle='--', lw=lw, color='k',\n",
        "         label='Luck')\n",
        "\n",
        "mean_tpr /= kfold.get_n_splits(X, Y)\n",
        "mean_tpr[-1] = 1.0\n",
        "mean_auc = auc(mean_fpr, mean_tpr)\n",
        "plt.plot(mean_fpr, mean_tpr, color='g', linestyle='--',\n",
        "         label='Mean ROC (area = %0.2f)' % mean_auc, lw=lw)\n",
        "\n",
        "plt.xlim([-0.05, 1.05])\n",
        "plt.ylim([-0.05, 1.05])\n",
        "plt.xlabel('False Positive Rate')\n",
        "plt.ylabel('True Positive Rate')\n",
        "plt.title('Receiver operating characteristic example')\n",
        "plt.legend(loc=\"lower right\")\n",
        "plt.show()"
      ]
    },
    {
      "cell_type": "markdown",
      "metadata": {
        "_cell_guid": "3ea7ff24-c7ac-660a-a39e-5da1004a14d8"
      },
      "source": [
        "## Remarks\n",
        "From the above results our algorithm achieved auc-roc (i.e. area under the precision-recall curve) score of 0.979. The auc-roc curve in insensitive to class imbalanace and hence is the preferred evaluation metric for estimating the performance of our learning function.\n",
        "\n",
        "### Further Remarks\n",
        "Several other techniques that can be explored/ benchmarked:  \n",
        "- Visualization to understand the transaction trends over time, more ideas can be gotten to understand more about fraudulent transactions  \n",
        "- Research deep learning techniques to this problem such as Reccurent Neural Networks using the time component for sequence-to-sequence learning  \n",
        "- Consider other learning options such as anomaly detection or change detection"
      ]
    }
  ],
  "metadata": {
    "_change_revision": 0,
    "_is_fork": false,
    "kernelspec": {
      "display_name": "Python 3",
      "language": "python",
      "name": "python3"
    },
    "language_info": {
      "codemirror_mode": {
        "name": "ipython",
        "version": 3
      },
      "file_extension": ".py",
      "mimetype": "text/x-python",
      "name": "python",
      "nbconvert_exporter": "python",
      "pygments_lexer": "ipython3",
      "version": "3.6.0"
    }
  },
  "nbformat": 4,
  "nbformat_minor": 0
}