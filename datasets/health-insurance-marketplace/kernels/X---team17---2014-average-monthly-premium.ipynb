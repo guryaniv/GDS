{
  "cells": [
    {
      "cell_type": "code",
      "execution_count": null,
      "metadata": {
        "_cell_guid": "1f6e5e32-011e-a49b-c5e2-98650dae7ef9"
      },
      "outputs": [],
      "source": [
        "# This Python 3 environment comes with many helpful analytics libraries installed\n",
        "# It is defined by the kaggle/python docker image: https://github.com/kaggle/docker-python\n",
        "# For example, here's several helpful packages to load in \n",
        "\n",
        "import numpy as np # linear algebra\n",
        "import pandas as pd # data processing, CSV file I/O (e.g. pd.read_csv)\n",
        "\n",
        "# Input data files are available in the \"../input/\" directory.\n",
        "# For example, running this (by clicking run or pressing Shift+Enter) will list the files in the input directory\n",
        "\n",
        "from subprocess import check_output\n",
        "print(check_output([\"ls\", \"../input\"]).decode(\"utf8\"))\n",
        "\n",
        "# Any results you write to the current directory are saved as output."
      ]
    },
    {
      "cell_type": "code",
      "execution_count": null,
      "metadata": {
        "_cell_guid": "2a0a1c32-c7ce-3560-4913-1844865ca9b9"
      },
      "outputs": [],
      "source": [
        "import plotly.plotly as py\n",
        "import plotly.offline as ploff\n",
        "\n",
        "from ggplot import *\n",
        "from subprocess import check_output\n",
        "from plotly.offline import init_notebook_mode, plot\n",
        "\n",
        "ploff.init_notebook_mode()\n",
        "\n",
        "headers = ['BusinessYear', 'StateCode', 'Age', \n",
        "           'IndividualRate', 'Couple']\n",
        "\n",
        "# read in chuncks for memory efficiency\n",
        "filePath = '../input/Rate.csv'\n",
        "chunks = pd.read_csv(filePath, iterator=True, chunksize=1000,\n",
        "                    usecols=headers)\n",
        "rates = pd.concat(chunk for chunk in chunks)\n",
        "\n",
        "randomRows = rates.sample(n=6)\n",
        "randomRows"
      ]
    },
    {
      "cell_type": "code",
      "execution_count": null,
      "metadata": {
        "_cell_guid": "4fcbfa31-3bd0-bf62-5f4f-e71b0009523e"
      },
      "outputs": [],
      "source": [
        "pd.set_option('display.float_format', lambda x: '%.2f' % x)\n",
        "print (rates['Couple'].describe())"
      ]
    },
    {
      "cell_type": "code",
      "execution_count": null,
      "metadata": {
        "_cell_guid": "1e19552e-8f33-7110-29b4-5a620696af41"
      },
      "outputs": [],
      "source": [
        "print (rates['IndividualRate'].describe())"
      ]
    },
    {
      "cell_type": "code",
      "execution_count": null,
      "metadata": {
        "_cell_guid": "8c10a152-8e67-aec5-50cc-0735a55a97e1"
      },
      "outputs": [],
      "source": [
        "ratesInd9000 = rates[rates.IndividualRate < 9000]\n",
        "print (ratesInd9000['IndividualRate'].describe())"
      ]
    },
    {
      "cell_type": "code",
      "execution_count": null,
      "metadata": {
        "_cell_guid": "8c44beb1-5c86-5e08-3181-e0c77f940042"
      },
      "outputs": [],
      "source": [
        "graph1 = ggplot(aes(x='Couple'), data=rates) + \\\n",
        "    geom_histogram(binwidth=10) + \\\n",
        "    ggtitle('Distribution of Couple Rates')\n",
        "    \n",
        "print (graph1)"
      ]
    },
    {
      "cell_type": "code",
      "execution_count": null,
      "metadata": {
        "_cell_guid": "e22ff27c-ceb6-df87-d17d-1eee4621bed8"
      },
      "outputs": [],
      "source": [
        "graph2 = ggplot(aes(x='IndividualRate'), data=ratesInd9000) + \\\n",
        "    geom_histogram(binwidth=25, colour='red') + \\\n",
        "    ggtitle('Distribution of Individual Rates')\n",
        "    \n",
        "print (graph2)"
      ]
    },
    {
      "cell_type": "code",
      "execution_count": null,
      "metadata": {
        "_cell_guid": "8479ee49-9925-ae1c-0c40-29a076c3ad5a"
      },
      "outputs": [],
      "source": [
        "indRate1200 = ratesInd9000[ratesInd9000.IndividualRate > 1200].count()['IndividualRate']\n",
        "percentageOfTotalInd9000 = indRate1200 / ratesInd9000['IndividualRate'].describe()['count']\n",
        "print ('%i individual plans have a rate greater than $1200. \\\n",
        "Thats %% %f of the total number of IndividualRate plans that we \\\n",
        "filtered out below $9000' % (indRate1200, percentageOfTotalInd9000))"
      ]
    },
    {
      "cell_type": "code",
      "execution_count": null,
      "metadata": {
        "_cell_guid": "a4a1dc0a-42db-392f-7887-e40aba28b00a"
      },
      "outputs": [],
      "source": [
        "columns = ['BusinessYear', 'StateCode', 'IndividualRate']\n",
        "indRates = pd.DataFrame(ratesInd9000, columns=columns)\n",
        "indRates2014 = indRates[indRates.BusinessYear == 2014]\n",
        "indRates2014 = indRates2014.dropna(subset=['IndividualRate'])\n",
        "randomRows2014 = indRates2014.sample(n=6)\n",
        "randomRows2014"
      ]
    },
    {
      "cell_type": "code",
      "execution_count": null,
      "metadata": {
        "_cell_guid": "dbff453c-5216-bd17-b2fc-a6416add7802"
      },
      "outputs": [],
      "source": [
        "indMean2014 = indRates2014.groupby('StateCode', as_index=False).mean()\n",
        "indMean2014"
      ]
    }
  ],
  "metadata": {
    "_change_revision": 0,
    "_is_fork": false,
    "kernelspec": {
      "display_name": "Python 3",
      "language": "python",
      "name": "python3"
    },
    "language_info": {
      "codemirror_mode": {
        "name": "ipython",
        "version": 3
      },
      "file_extension": ".py",
      "mimetype": "text/x-python",
      "name": "python",
      "nbconvert_exporter": "python",
      "pygments_lexer": "ipython3",
      "version": "3.5.2"
    }
  },
  "nbformat": 4,
  "nbformat_minor": 0
}