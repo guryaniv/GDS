{
  "cells": [
    {
      "cell_type": "code",
      "execution_count": null,
      "metadata": {
        "_cell_guid": "7a03a22d-3447-dd0a-fe7b-27972b855aa7"
      },
      "outputs": [],
      "source": [
        "#imports\n",
        "#from IPython.core.interactiveshell import InteractiveShell\n",
        "#InteractiveShell.ast_node_interactivity = \"all\"\n",
        "import matplotlib as mpl\n",
        "import matplotlib.pyplot as plt\n",
        "import seaborn as sns\n",
        "import pandas as pd\n",
        "import sklearn as skl\n",
        "import numpy as np\n",
        "import re"
      ]
    },
    {
      "cell_type": "code",
      "execution_count": null,
      "metadata": {
        "_cell_guid": "87d28f92-445c-8e79-9060-1842dcf2e11e"
      },
      "outputs": [],
      "source": [
        "#read train file\n",
        "train = pd.read_csv(\"../input/train.csv\")\n",
        "train.head()"
      ]
    },
    {
      "cell_type": "code",
      "execution_count": null,
      "metadata": {
        "_cell_guid": "9bd99fe7-4cfd-6023-bfdd-1e165bc57086"
      },
      "outputs": [],
      "source": [
        "#First let's see if there is NaN questions\n",
        "train.count()"
      ]
    },
    {
      "cell_type": "markdown",
      "metadata": {
        "_cell_guid": "caf165b7-ac9f-f44a-0285-cb6940178f73"
      },
      "source": [
        "As we can see, there is 2 empty in question2"
      ]
    },
    {
      "cell_type": "code",
      "execution_count": null,
      "metadata": {
        "_cell_guid": "5cea9941-59aa-229c-5e7f-71812984b4a0"
      },
      "outputs": [],
      "source": [
        "#We have to delete those 2 lines\n",
        "train = train[train.question2.notnull()]\n",
        "train.count()\n",
        "\n",
        "#After a delete we must reset the index (we will use it later)\n",
        "train = train.reset_index(drop=True)"
      ]
    },
    {
      "cell_type": "markdown",
      "metadata": {
        "_cell_guid": "6b76ef0f-195d-2755-7d10-fb2b88ad7127"
      },
      "source": [
        "Now there is no more NaN futures"
      ]
    },
    {
      "cell_type": "code",
      "execution_count": null,
      "metadata": {
        "_cell_guid": "664eb8df-e6c3-9898-c4fd-c7097ca4a68f"
      },
      "outputs": [],
      "source": [
        "########## This an example of what we will do it ####################\n",
        "splitQuestion1 = train.loc[0,'question1'].split(' ')\n",
        "splitQuestion2 = train.loc[0,'question2'].split(' ')\n",
        "print('Q1: ', splitQuestion1)\n",
        "print('\\nQ2: ', splitQuestion2)"
      ]
    },
    {
      "cell_type": "markdown",
      "metadata": {
        "_cell_guid": "3c20596c-3bb0-c162-9b9d-e74662b8ddf7"
      },
      "source": [
        "The problem is that \"market\" and \"market?\" are seen as 2 different words."
      ]
    },
    {
      "cell_type": "code",
      "execution_count": null,
      "metadata": {
        "_cell_guid": "6e778757-3a9b-f2dd-9f0c-d0fd6a9b3db1"
      },
      "outputs": [],
      "source": [
        "#So let's remove '?' and all special characters before the split\n",
        "question1 = re.sub('[^a-zA-Z0-9 \\n\\.]', '', train.loc[0,'question1'])\n",
        "question2 = re.sub('[^a-zA-Z0-9 \\n\\.]', '', train.loc[0,'question2'])\n",
        "print('Q1: ', question1)\n",
        "print('Q2: ', question2)"
      ]
    },
    {
      "cell_type": "markdown",
      "metadata": {
        "_cell_guid": "ffe36c74-3e6c-03f2-ccc4-c364814bc60c"
      },
      "source": [
        "Now the '?' are no more a problem"
      ]
    },
    {
      "cell_type": "code",
      "execution_count": null,
      "metadata": {
        "_cell_guid": "5e1cad63-6237-b98a-1541-79c6170a4d37"
      },
      "outputs": [],
      "source": [
        "#Now let's split again...\n",
        "splitQuestion1 = question1.split(' ')\n",
        "#train.loc[0,'question1'].split(' ')\n",
        "splitQuestion2 = question2.split(' ')\n",
        "#train.loc[0,'question2'].split(' ')\n",
        "print('Q1: ', splitQuestion1)\n",
        "print('\\nQ2: ', splitQuestion2)"
      ]
    },
    {
      "cell_type": "code",
      "execution_count": null,
      "metadata": {
        "_cell_guid": "947064be-5953-ce58-e8a8-347640815d9e"
      },
      "outputs": [],
      "source": [
        "#...and count the number of words in common\n",
        "numberOfWordsInCommon = 0\n",
        "for word in splitQuestion1:\n",
        "    if word in splitQuestion2:\n",
        "        splitQuestion2.remove(word)\n",
        "        numberOfWordsInCommon+=1\n",
        "             \n",
        "print(\"the number of words in common is:\", numberOfWordsInCommon)\n",
        "######### the example ends here ##################"
      ]
    },
    {
      "cell_type": "code",
      "execution_count": null,
      "metadata": {
        "_cell_guid": "c2a4d788-7a14-7a37-dff5-e9d9016ab48c"
      },
      "outputs": [],
      "source": [
        "#Now that we understood what we want to do, let's do all this for the dataset\n",
        "#Replacing special carachters...\n",
        "train['question1'] = train['question1'].apply(lambda x: re.sub('[^a-zA-Z0-9 \\n\\.]', '', x))\n",
        "train['question2'] = train['question2'].apply(lambda x: re.sub('[^a-zA-Z0-9 \\n\\.]', '', x))\n",
        "\n",
        "#...and counting th number of words in common A REPRENDRE ICI"
      ]
    },
    {
      "cell_type": "code",
      "execution_count": null,
      "metadata": {
        "_cell_guid": "c4e7a2b8-9364-6321-9444-af5857ab2aa0"
      },
      "outputs": [],
      "source": [
        "#Let's do all this for the dataset. WARNING: this code takes time. Around 3 minutes\n",
        "listOfNumberOfWordsInCommon = []\n",
        "for numberLine in range(train.shape[0]):\n",
        "    splitQuestion1 = train.loc[numberLine,'question1'].split(' ')\n",
        "    splitQuestion2 = train.loc[numberLine,'question2'].split(' ')\n",
        "    numberOfWordsInCommon = 0\n",
        "    for word in splitQuestion1:\n",
        "        if word in splitQuestion2:\n",
        "            splitQuestion2.remove(word)\n",
        "            numberOfWordsInCommon+=1\n",
        "    listOfNumberOfWordsInCommon.append(numberOfWordsInCommon)"
      ]
    },
    {
      "cell_type": "code",
      "execution_count": null,
      "metadata": {
        "_cell_guid": "d568adb7-101f-3ddc-1004-b5f02d8a7367"
      },
      "outputs": [],
      "source": [
        "#Now let's merge the listOfNumberOfWordsInCommon with the train dataframe\n",
        "ColOfNumberOfWordsInCommon=[]\n",
        "ColOfNumberOfWordsInCommon = pd.DataFrame({'NumberOfWordsInCommon': listOfNumberOfWordsInCommon})\n",
        "train = pd.concat([train,ColOfNumberOfWordsInCommon], axis = 1)\n",
        "train = train[['id', 'qid1', 'qid2', 'question1', 'question2','NumberOfWordsInCommon','is_duplicate']]\n",
        "train.head()"
      ]
    },
    {
      "cell_type": "code",
      "execution_count": null,
      "metadata": {
        "_cell_guid": "b80e0fd4-28f6-c7c4-c6ef-00e78c264cd4"
      },
      "outputs": [],
      "source": [
        "#Let's see if the NumberOfWordsInCommon is related to is_duplicate\n",
        "train2 = train[['NumberOfWordsInCommon','is_duplicate']]\n",
        "\n",
        "#First we split the orginal Dataframe in 2. One for the duplicated questions and one for the non-duplicated questions\n",
        "train_is_not_duplicate = train2[train2.is_duplicate == 0]\n",
        "train_is_duplicate = train2[train2.is_duplicate == 1]"
      ]
    },
    {
      "cell_type": "code",
      "execution_count": null,
      "metadata": {
        "_cell_guid": "37874349-99fc-c13d-fa43-dd9a4d0bf687"
      },
      "outputs": [],
      "source": [
        "#Now let's count the number of rows for each NumberOfWordsInCommon\n",
        "train_is_duplicate = train_is_duplicate.groupby(\"NumberOfWordsInCommon\").count()\n",
        "train_is_not_duplicate = train_is_not_duplicate.groupby(\"NumberOfWordsInCommon\").count()"
      ]
    },
    {
      "cell_type": "code",
      "execution_count": null,
      "metadata": {
        "_cell_guid": "9840f504-1d5b-cedb-1dc7-de7b497ceb34"
      },
      "outputs": [],
      "source": [
        "#And change the columns name\n",
        "train_is_not_duplicate.columns = ['NumberOfQuestionPairsNotDuplicated']\n",
        "train_is_duplicate.columns = ['NumberOfQuestionPairsDuplicated']"
      ]
    },
    {
      "cell_type": "code",
      "execution_count": null,
      "metadata": {
        "_cell_guid": "51312eb6-0d1c-1075-7604-32e6e3f436c8"
      },
      "outputs": [],
      "source": [
        "#Now we can merge\n",
        "compare = pd.concat([train_is_duplicate, train_is_not_duplicate], axis=1)\n",
        "compare"
      ]
    },
    {
      "cell_type": "code",
      "execution_count": null,
      "metadata": {
        "_cell_guid": "bd0d2075-50fb-9de6-e125-9159249f402e"
      },
      "outputs": [],
      "source": [
        "#The NA values means that there is 0 question pairs\n",
        "compare.fillna(0, inplace=True)"
      ]
    },
    {
      "cell_type": "code",
      "execution_count": null,
      "metadata": {
        "_cell_guid": "ecc9de7b-79f0-b600-e3a1-d3f7ada38658"
      },
      "outputs": [],
      "source": [
        "#Comparing barplot\n",
        "barWidth = 0.3\n",
        "y1 = compare.NumberOfQuestionPairsNotDuplicated\n",
        "y2 = compare.NumberOfQuestionPairsDuplicated\n",
        "x1 = range(len(compare))\n",
        "x2 = [i + barWidth for i in x1]\n",
        "plt.figure(figsize=(20,7))\n",
        "\n",
        "plt.bar(x1, y1, width = barWidth, color = \"red\")\n",
        "plt.bar(x2, y2, width = barWidth, color = \"green\")\n",
        "plt.show()"
      ]
    },
    {
      "cell_type": "markdown",
      "metadata": {
        "_cell_guid": "7998a581-598b-e42b-8561-f2f0c565073d"
      },
      "source": [
        "As we can see, when the number of words in common is low, it's more likely to be a not duplicated question pair.\n",
        "But when the number of words in common is high, we have as many duplicated question pairs as non-duplicated question\n",
        "The number of words in common is interesting when it's < 4\n",
        "When the number of words in common is > 3, we must find another way or another feature for a better split"
      ]
    },
    {
      "cell_type": "code",
      "execution_count": null,
      "metadata": {
        "_cell_guid": "c2628c45-eae9-f6a4-c5bc-fb886d84a6ca",
        "collapsed": true
      },
      "outputs": [],
      "source": ""
    }
  ],
  "metadata": {
    "_change_revision": 0,
    "_is_fork": false,
    "kernelspec": {
      "display_name": "Python 3",
      "language": "python",
      "name": "python3"
    },
    "language_info": {
      "codemirror_mode": {
        "name": "ipython",
        "version": 3
      },
      "file_extension": ".py",
      "mimetype": "text/x-python",
      "name": "python",
      "nbconvert_exporter": "python",
      "pygments_lexer": "ipython3",
      "version": "3.6.0"
    }
  },
  "nbformat": 4,
  "nbformat_minor": 0
}