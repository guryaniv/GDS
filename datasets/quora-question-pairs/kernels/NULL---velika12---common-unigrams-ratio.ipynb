{
  "cells": [
    {
      "cell_type": "code",
      "execution_count": null,
      "metadata": {
        "_cell_guid": "ffc63707-ea68-0f2d-4ab0-b271bd235842"
      },
      "outputs": [],
      "source": [
        "# This Python 3 environment comes with many helpful analytics libraries installed\n",
        "# It is defined by the kaggle/python docker image: https://github.com/kaggle/docker-python\n",
        "# For example, here's several helpful packages to load in \n",
        "\n",
        "import numpy as np # linear algebra\n",
        "import pandas as pd # data processing, CSV file I/O (e.g. pd.read_csv)\n",
        "\n",
        "# Input data files are available in the \"../input/\" directory.\n",
        "# For example, running this (by clicking run or pressing Shift+Enter) will list the files in the input directory\n",
        "\n",
        "from subprocess import check_output\n",
        "print(check_output([\"ls\", \"../input\"]).decode(\"utf8\"))\n",
        "\n",
        "# Any results you write to the current directory are saved as output."
      ]
    },
    {
      "cell_type": "code",
      "execution_count": null,
      "metadata": {
        "_cell_guid": "519f555a-3b7c-f367-e55f-9f784381da9d"
      },
      "outputs": [],
      "source": [
        "import numpy as np\n",
        "import pandas as pd\n",
        "import nltk\n",
        "from nltk.corpus import stopwords\n",
        "from nltk import word_tokenize, ngrams"
      ]
    },
    {
      "cell_type": "code",
      "execution_count": null,
      "metadata": {
        "_cell_guid": "c627e561-35eb-945a-494c-990a46539834"
      },
      "outputs": [],
      "source": [
        "eng_stopwords = set(stopwords.words('english'))"
      ]
    },
    {
      "cell_type": "code",
      "execution_count": null,
      "metadata": {
        "_cell_guid": "254e764e-0349-2427-7ddf-43d73335abae"
      },
      "outputs": [],
      "source": [
        "train_df = pd.read_csv(\"../input/train.csv\")\n",
        "test_df = pd.read_csv(\"../input/test.csv\")\n",
        "print(train_df.shape)\n",
        "print(test_df.shape)"
      ]
    },
    {
      "cell_type": "code",
      "execution_count": null,
      "metadata": {
        "_cell_guid": "7f75d0bc-9f05-7d09-f663-19e8d1234ebf"
      },
      "outputs": [],
      "source": [
        "def get_unigrams(que):\n",
        "    return [word for word in word_tokenize(que.lower()) if word not in eng_stopwords]\n",
        "\n",
        "def get_common_unigrams(row):\n",
        "    return len( set(row[\"unigrams_ques1\"]).intersection(set(row[\"unigrams_ques2\"])) )\n",
        "\n",
        "def get_common_unigram_ratio(row):\n",
        "    return float(row[\"unigrams_common_count\"]) / max(len( set(row[\"unigrams_ques1\"]).union(set(row[\"unigrams_ques2\"])) ),1)\n",
        "\n",
        "train_df[\"unigrams_ques1\"] = train_df['question1'].apply(lambda x: get_unigrams(str(x)))\n",
        "train_df[\"unigrams_ques2\"] = train_df['question2'].apply(lambda x: get_unigrams(str(x)))\n",
        "train_df[\"unigrams_common_count\"] = train_df.apply(lambda row: get_common_unigrams(row),axis=1)\n",
        "train_df[\"unigrams_common_ratio\"] = train_df.apply(lambda row: get_common_unigram_ratio(row), axis=1)"
      ]
    },
    {
      "cell_type": "code",
      "execution_count": null,
      "metadata": {
        "_cell_guid": "1c102cd5-c948-c61a-3dc8-4d79d8b5b564"
      },
      "outputs": [],
      "source": [
        "test_df[\"unigrams_ques1\"] = test_df['question1'].apply(lambda x: get_unigrams(str(x)))\n",
        "test_df[\"unigrams_ques2\"] = test_df['question2'].apply(lambda x: get_unigrams(str(x)))\n",
        "test_df[\"unigrams_common_count\"] = test_df.apply(lambda row: get_common_unigrams(row),axis=1)\n",
        "test_df[\"unigrams_common_ratio\"] = test_df.apply(lambda row: get_common_unigram_ratio(row), axis=1)"
      ]
    },
    {
      "cell_type": "code",
      "execution_count": null,
      "metadata": {
        "_cell_guid": "306ecccb-19f8-7c1d-eb2e-1bdc97b03237"
      },
      "outputs": [],
      "source": [
        "submission = pd.DataFrame(test_df['test_id'])\n",
        "submission['is_duplicate'] = test_df[\"unigrams_common_ratio\"]\n",
        "submission.head()"
      ]
    },
    {
      "cell_type": "code",
      "execution_count": null,
      "metadata": {
        "_cell_guid": "ad929b85-a87b-407a-d83a-be3737b98c42"
      },
      "outputs": [],
      "source": [
        "submission.to_csv('common_unigrams_ratio_model.csv', index=False)"
      ]
    }
  ],
  "metadata": {
    "_change_revision": 0,
    "_is_fork": false,
    "kernelspec": {
      "display_name": "Python 3",
      "language": "python",
      "name": "python3"
    },
    "language_info": {
      "codemirror_mode": {
        "name": "ipython",
        "version": 3
      },
      "file_extension": ".py",
      "mimetype": "text/x-python",
      "name": "python",
      "nbconvert_exporter": "python",
      "pygments_lexer": "ipython3",
      "version": "3.6.0"
    }
  },
  "nbformat": 4,
  "nbformat_minor": 0
}