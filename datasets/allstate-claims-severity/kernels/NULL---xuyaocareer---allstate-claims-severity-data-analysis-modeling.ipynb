{
  "cells": [
    {
      "cell_type": "markdown",
      "metadata": {
        "_cell_guid": "ceed5212-9f9e-da06-7499-2b59b576ce31"
      },
      "source": [
        "## Data Analysis for Allstate Claims Severity ##"
      ]
    },
    {
      "cell_type": "code",
      "execution_count": null,
      "metadata": {
        "_cell_guid": "24eb063c-843e-7fa2-4c32-484ac445dc79"
      },
      "outputs": [],
      "source": [
        "import warnings\n",
        "warnings.filterwarnings('ignore')\n",
        "\n",
        "import pandas as pd\n",
        "import numpy as np"
      ]
    },
    {
      "cell_type": "code",
      "execution_count": null,
      "metadata": {
        "_cell_guid": "6c974099-7017-59d1-dc21-ecf521f2648a"
      },
      "outputs": [],
      "source": [
        "train_data = pd.read_csv(\"../input/train.csv\")\n",
        "test_data = pd.read_csv(\"../input/test.csv\")"
      ]
    },
    {
      "cell_type": "code",
      "execution_count": null,
      "metadata": {
        "_cell_guid": "e6cb6d21-84ce-fa1c-e0b3-066e3e1ea0d5"
      },
      "outputs": [],
      "source": [
        "print(\"Train data dimensions: \", train_data.shape)\n",
        "print(\"Test data dimensions: \", test_data.shape)"
      ]
    },
    {
      "cell_type": "code",
      "execution_count": null,
      "metadata": {
        "_cell_guid": "7d361256-99ac-b458-de96-5f3cb518226b"
      },
      "outputs": [],
      "source": [
        "train_data.head(5)"
      ]
    },
    {
      "cell_type": "code",
      "execution_count": null,
      "metadata": {
        "_cell_guid": "a1f73041-1354-9d16-1b55-38357345b3da"
      },
      "outputs": [],
      "source": [
        "print(\"Number of missing values\",train_data.isnull().sum().sum())"
      ]
    },
    {
      "cell_type": "markdown",
      "metadata": {
        "_cell_guid": "1f761693-08f7-0124-7c03-2880f37473fd"
      },
      "source": [
        "**Lets analyze the distribution of continuous features:**"
      ]
    },
    {
      "cell_type": "code",
      "execution_count": null,
      "metadata": {
        "_cell_guid": "53790199-83ad-884c-e975-0c7471f6d572"
      },
      "outputs": [],
      "source": [
        "train_data.describe()"
      ]
    },
    {
      "cell_type": "code",
      "execution_count": null,
      "metadata": {
        "_cell_guid": "48365c4f-d6dc-bbbb-7fff-48aa124bbdaa"
      },
      "outputs": [],
      "source": [
        "contFeatureslist = []\n",
        "for colName,x in train_data.iloc[1,:].iteritems():\n",
        "    #print(x)\n",
        "    if(not str(x).isalpha()):\n",
        "        contFeatureslist.append(colName)\n",
        "print(contFeatureslist)"
      ]
    }
  ],
  "metadata": {
    "_change_revision": 0,
    "_is_fork": false,
    "kernelspec": {
      "display_name": "Python 3",
      "language": "python",
      "name": "python3"
    },
    "language_info": {
      "codemirror_mode": {
        "name": "ipython",
        "version": 3
      },
      "file_extension": ".py",
      "mimetype": "text/x-python",
      "name": "python",
      "nbconvert_exporter": "python",
      "pygments_lexer": "ipython3",
      "version": "3.5.2"
    }
  },
  "nbformat": 4,
  "nbformat_minor": 0
}