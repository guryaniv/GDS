{
  "cells": [
    {
      "cell_type": "markdown",
      "metadata": {
        "_cell_guid": "c87a5ed3-b046-cc01-a6cc-c2ed9e914d41"
      },
      "source": [
        "#Merged Keras network for Leaf classification\n",
        "##Merging the three features margin, texture and shape\n",
        "###2016-11-08"
      ]
    },
    {
      "cell_type": "code",
      "execution_count": null,
      "metadata": {
        "_cell_guid": "b4b95206-aee8-833b-7e34-b43ff4043362"
      },
      "outputs": [],
      "source": [
        "#Load standard libraries\n",
        "%pylab inline\n",
        "import numpy as np\n",
        "import pandas as pd\n",
        "import matplotlib.pyplot as plt"
      ]
    },
    {
      "cell_type": "code",
      "execution_count": null,
      "metadata": {
        "_cell_guid": "926b802c-f32f-c4e2-6063-5b8d77a13814"
      },
      "outputs": [],
      "source": [
        "#Load data\n",
        "df = pd.read_csv('../input/train.csv')\n",
        "print(df.columns.values)"
      ]
    },
    {
      "cell_type": "code",
      "execution_count": null,
      "metadata": {
        "_cell_guid": "3fa52a78-efbd-124f-5d7e-9d908de73de8"
      },
      "outputs": [],
      "source": [
        "#Plot features of N = 5 samples\n",
        "fig = plt.figure()\n",
        "N = 10\n",
        "for k in range(N):\n",
        "    margin0 = df.filter(regex = \"margin*\").loc[k].reshape((8,8))\n",
        "    imgplot1 = fig.add_subplot(N,4,4*k+1)\n",
        "    imgplot1.imshow(margin0)\n",
        "    imgplot1.axis('off')\n",
        "    shape0 = df.filter(regex = \"shape*\").loc[k].reshape((8,8))\n",
        "    imgplot1 = fig.add_subplot(N,4,4*k+2)\n",
        "    imgplot1.imshow(shape0)\n",
        "    imgplot1.axis('off')\n",
        "    texture0 = df.filter(regex = \"margin*\").loc[k].reshape((8,8))\n",
        "    imgplot1 = fig.add_subplot(N,4,4*k+3)\n",
        "    imgplot1.imshow(texture0)\n",
        "    imgplot1.axis('off')\n",
        "    imgplot1 = fig.add_subplot(N,4,4*k+4)\n",
        "    imgplot1.text(0, 0.5, df['species'].loc[k],\n",
        "        horizontalalignment='left',\n",
        "        verticalalignment='center',\n",
        "        fontsize=20)\n",
        "    imgplot1.axis('off')"
      ]
    },
    {
      "cell_type": "code",
      "execution_count": null,
      "metadata": {
        "_cell_guid": "45d9a675-443b-631b-7bb7-7e647147e054"
      },
      "outputs": [],
      "source": [
        "#How many samples are there of each species?\n",
        "train_labels = df['species'].values\n",
        "class_count = {}\n",
        "for sample1 in train_labels:\n",
        "    if sample1 not in class_count:\n",
        "        class_count[sample1] = 1\n",
        "    else:\n",
        "        class_count[sample1] += 1\n",
        "\n",
        "\n",
        "print(str(len(class_count)) + \" classes \" + str(len(train_labels)) + \" samples.\")\n",
        "#print(\"-----------------------------\")\n",
        "        \n",
        "#for label,count in class_count.items():\n",
        "#    print(label + \": \" + str(count))"
      ]
    },
    {
      "cell_type": "code",
      "execution_count": null,
      "metadata": {
        "_cell_guid": "c18f7418-4393-b2ee-12c1-1b2696c404a5"
      },
      "outputs": [],
      "source": [
        "#Load Keras\n",
        "from keras.layers import Input, Dense, Merge, Dropout\n",
        "from keras.models import Model, Sequential\n",
        "from keras.utils.np_utils import to_categorical\n",
        "\n",
        "#Load scikit learn dependencies\n",
        "from sklearn.preprocessing import LabelEncoder"
      ]
    },
    {
      "cell_type": "code",
      "execution_count": null,
      "metadata": {
        "_cell_guid": "2869f84d-c7d4-3bf9-a8ad-a5f57f12b6d1"
      },
      "outputs": [],
      "source": [
        "#Define network\n",
        "M1 = 300\n",
        "margin_layer = Sequential()\n",
        "margin_layer.add(Dense(M1,input_dim=64,init='uniform',activation='relu'))\n",
        "margin_layer.add(Dropout(0.2))\n",
        "margin_layer.add(Dense(M1,init='uniform',activation='relu'))\n",
        "\n",
        "shape_layer = Sequential()\n",
        "shape_layer.add(Dense(M1,input_dim=64,init='uniform',activation='relu'))\n",
        "shape_layer.add(Dropout(0.2))\n",
        "shape_layer.add(Dense(M1,init='uniform',activation='relu'))\n",
        "\n",
        "texture_layer = Sequential()\n",
        "texture_layer.add(Dense(M1,input_dim=64,init='uniform',activation='relu'))\n",
        "texture_layer.add(Dropout(0.2))\n",
        "texture_layer.add(Dense(M1,init='uniform',activation='relu'))\n",
        "\n",
        "merge_layer = Sequential()\n",
        "merge_layer.add(Merge([margin_layer,shape_layer,texture_layer],mode=\"concat\",name='merge_layer'))\n",
        "merge_layer.add(Dense(300,activation=\"sigmoid\"))\n",
        "merge_layer.add(Dropout(0.3))\n",
        "merge_layer.add(Dense(99,activation=\"softmax\",name='output_layer'))"
      ]
    },
    {
      "cell_type": "code",
      "execution_count": null,
      "metadata": {
        "_cell_guid": "4d2d3730-81ad-313b-7c7d-62d0b7e9832c"
      },
      "outputs": [],
      "source": [
        "#Load train data\n",
        "margin_train = df.filter(regex=\"margin*\").values\n",
        "shape_train = df.filter(regex=\"shape*\").values\n",
        "texture_train = df.filter(regex=\"texture*\").values\n",
        "labels_train = df['species'].values\n",
        "labels_train = LabelEncoder().fit(labels_train).transform(labels_train)\n",
        "labels_train = to_categorical(labels_train)"
      ]
    },
    {
      "cell_type": "code",
      "execution_count": null,
      "metadata": {
        "_cell_guid": "2f789cad-427f-90a0-01ea-6256214e5592"
      },
      "outputs": [],
      "source": [
        "#Train network\n",
        "merge_layer.compile(optimizer='rmsprop', loss='binary_crossentropy')\n",
        "merge_layer.fit([margin_train, shape_train, texture_train], labels_train, nb_epoch=100, batch_size=100)"
      ]
    },
    {
      "cell_type": "code",
      "execution_count": null,
      "metadata": {
        "_cell_guid": "19600d29-4fc6-1fc2-f1f6-c1d5eacf486c"
      },
      "outputs": [],
      "source": [
        "#Load test data\n",
        "df_test = pd.read_csv(\"../input/test.csv\")\n",
        "margin_test = df_test.filter(regex=\"margin*\").values\n",
        "shape_test = df_test.filter(regex=\"shape*\").values\n",
        "texture_test = df_test.filter(regex=\"texture*\").values"
      ]
    },
    {
      "cell_type": "code",
      "execution_count": null,
      "metadata": {
        "_cell_guid": "533a6ef6-5fb8-050c-0863-deb1cc7b8a72"
      },
      "outputs": [],
      "source": [
        "#Predict labels\n",
        "predicted_labels = merge_layer.predict([margin_test,shape_test,texture_test])\n",
        "\n",
        "#Save as csv\n",
        "df_pred = pd.DataFrame(predicted_labels,index=df_test.pop('id'),columns=set(class_count.keys()))\n",
        "csv_test = open('submission1.csv','w')\n",
        "csv_test.write(df_pred.to_csv())"
      ]
    }
  ],
  "metadata": {
    "_change_revision": 0,
    "_is_fork": false,
    "kernelspec": {
      "display_name": "Python 3",
      "language": "python",
      "name": "python3"
    },
    "language_info": {
      "codemirror_mode": {
        "name": "ipython",
        "version": 3
      },
      "file_extension": ".py",
      "mimetype": "text/x-python",
      "name": "python",
      "nbconvert_exporter": "python",
      "pygments_lexer": "ipython3",
      "version": "3.5.2"
    }
  },
  "nbformat": 4,
  "nbformat_minor": 0
}