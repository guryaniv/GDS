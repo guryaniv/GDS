{
  "cells": [
    {
      "cell_type": "markdown",
      "metadata": {
        "_cell_guid": "2a8536ea-bef4-f033-b8fd-2753aa528d3e"
      },
      "source": [
        "**Imports Library**\n"
      ]
    },
    {
      "cell_type": "code",
      "execution_count": null,
      "metadata": {
        "_cell_guid": "b159915e-0b31-2805-b458-b6fb0e4701dc"
      },
      "outputs": [],
      "source": [
        "# This Python 3 environment comes with many helpful analytics libraries installed\n",
        "# It is defined by the kaggle/python docker image: https://github.com/kaggle/docker-python\n",
        "# For example, here's several helpful packages to load in \n",
        "\n",
        "import numpy as np # linear algebra\n",
        "import pandas as pd # data processing, CSV file I/O (e.g. pd.read_csv)\n",
        "import matplotlib.pyplot as plt\n",
        "import seaborn as sns\n",
        "color = sns.color_palette()\n",
        "from ggplot import *\n",
        "\n",
        "%matplotlib inline\n",
        "\n",
        "pd.options.mode.chained_assignment = None\n",
        "pd.options.display.max_columns = 999"
      ]
    },
    {
      "cell_type": "code",
      "execution_count": null,
      "metadata": {
        "_cell_guid": "e3e433fd-9eca-55ff-3d82-4217c501f16b"
      },
      "outputs": [],
      "source": [
        "# Load Train data\n",
        "\n",
        "train_df = pd.read_csv(\"../input/train_2016.csv\", parse_dates=[\"transactiondate\"])\n",
        "train_df.head()\n",
        "\n"
      ]
    },
    {
      "cell_type": "markdown",
      "metadata": {
        "_cell_guid": "db6f3cfd-4001-c118-3978-510c766bf30c"
      },
      "source": [
        "**Considering all data make a plot of distribution of error**"
      ]
    },
    {
      "cell_type": "code",
      "execution_count": null,
      "metadata": {
        "_cell_guid": "1dc83f63-f965-391c-55dc-56cd61ed6815"
      },
      "outputs": [],
      "source": [
        "\n",
        "plt.figure(figsize=(12,8))\n",
        "sns.distplot(train_df.logerror.values, bins=50, kde=False)\n",
        "plt.xlabel('logerror', fontsize=12)\n",
        "plt.show()"
      ]
    },
    {
      "cell_type": "code",
      "execution_count": null,
      "metadata": {
        "_cell_guid": "f33636d6-4f42-6d2e-87be-2293d24e4433"
      },
      "outputs": [],
      "source": [
        "train_df['transaction_month'] = train_df['transactiondate'].dt.month\n",
        "\n",
        "cnt_srs = train_df['transaction_month'].value_counts()\n",
        "plt.figure(figsize=(12,6))\n",
        "sns.barplot(cnt_srs.index, cnt_srs.values, alpha=0.8, color=color[1])\n",
        "plt.xticks(rotation='vertical')\n",
        "plt.xlabel('Month of transaction', fontsize=12)\n",
        "plt.ylabel('Number of Occurrences', fontsize=12)\n",
        "plt.show()"
      ]
    },
    {
      "cell_type": "code",
      "execution_count": null,
      "metadata": {
        "_cell_guid": "61d21ced-5945-a099-ceff-497f4ad8c0f0"
      },
      "outputs": [],
      "source": [
        "train_df['transaction_day'] = train_df['transactiondate'].dt.day\n",
        "\n",
        "cnt_srs = train_df['transaction_day'].value_counts()\n",
        "plt.figure(figsize=(12,6))\n",
        "sns.barplot(cnt_srs.index, cnt_srs.values, alpha=0.8, color=color[5])\n",
        "plt.xticks(rotation='vertical')\n",
        "plt.xlabel('Day of transaction', fontsize=12)\n",
        "plt.ylabel('Number of Occurrences', fontsize=12)\n",
        "plt.show()"
      ]
    },
    {
      "cell_type": "code",
      "execution_count": null,
      "metadata": {
        "_cell_guid": "89d26047-af04-b62a-e7e8-1492834e7b3f"
      },
      "outputs": [],
      "source": [
        "#load properties data frame\n",
        "prop_df = pd.read_csv(\"../input/properties_2016.csv\")\n",
        "prop_df.head()"
      ]
    },
    {
      "cell_type": "markdown",
      "metadata": {
        "_cell_guid": "92628aa8-93a0-b1e3-3226-0f681fb9e001"
      },
      "source": [
        "How many NaN there are in this dataset ?"
      ]
    },
    {
      "cell_type": "code",
      "execution_count": null,
      "metadata": {
        "_cell_guid": "5b43e341-5374-35c2-6b18-c5ebbb56dea9"
      },
      "outputs": [],
      "source": [
        "missing_df = prop_df.isnull().sum(axis=0).reset_index()\n",
        "missing_df.columns = ['column_name', 'missing_count']\n",
        "missing_df = missing_df.ix[missing_df['missing_count']>0]\n",
        "missing_df = missing_df.sort_values(by='missing_count')\n",
        "\n",
        "ind = np.arange(missing_df.shape[0])\n",
        "width = 0.4\n",
        "fig, ax = plt.subplots(figsize=(12,18))\n",
        "rects = ax.barh(ind, missing_df.missing_count.values, color='red')\n",
        "ax.set_yticks(ind)\n",
        "ax.set_yticklabels(missing_df.column_name.values, rotation='horizontal')\n",
        "ax.set_xlabel(\"Count of NaN\")\n",
        "ax.set_title(\"Number of missing values in each column\")\n",
        "plt.show()"
      ]
    },
    {
      "cell_type": "code",
      "execution_count": null,
      "metadata": {
        "_cell_guid": "69d3bb9c-4254-feed-bfd8-d41ebcaec873"
      },
      "outputs": [],
      "source": [
        "plt.figure(figsize=(12,12))\n",
        "sns.jointplot(x=prop_df.latitude.values, y=prop_df.longitude.values, size=10)\n",
        "plt.ylabel('Longitude', fontsize=12)\n",
        "plt.xlabel('Latitude', fontsize=12)\n",
        "plt.show()"
      ]
    },
    {
      "cell_type": "code",
      "execution_count": null,
      "metadata": {
        "_cell_guid": "5850687e-5cf4-8120-10f5-d633056b5ea3"
      },
      "outputs": [],
      "source": [
        "#merge data on key \n",
        "train_df_merged = pd.merge(train_df, prop_df, on='parcelid', how='left')\n",
        "train_df_merged.head()"
      ]
    },
    {
      "cell_type": "code",
      "execution_count": null,
      "metadata": {
        "_cell_guid": "c95d0be9-6e72-df42-6d4a-8cfd4b2f850d"
      },
      "outputs": [],
      "source": [
        "#aggregate this\n",
        "nan_df = train_df_merged.isnull().sum(axis=0).reset_index()\n",
        "nan_df.columns = ['column_name', 'missing_count']\n",
        "nan_df['missing_ratio'] = nan_df['missing_count'] / train_df_merged.shape[0]\n",
        "nan_df.ix[nan_df['missing_ratio']>0.999]\n"
      ]
    },
    {
      "cell_type": "code",
      "execution_count": null,
      "metadata": {
        "_cell_guid": "cb5a7c19-12e7-e15b-2201-e903019054b7"
      },
      "outputs": [],
      "source": [
        "# Let us just impute the missing values with mean values to compute correlation coefficients #\n",
        "mean_values = train_df_merged.mean(axis=0)\n",
        "train_df_new = train_df_merged.fillna(mean_values, inplace=True)\n",
        "\n",
        "# Now let us look at the correlation coefficient of each of these variables #\n",
        "x_cols = [col for col in train_df_new.columns if col not in ['logerror'] if train_df_new[col].dtype=='float64']\n",
        "\n",
        "labels = []\n",
        "values = []\n",
        "for col in x_cols:\n",
        "    labels.append(col)\n",
        "    values.append(np.corrcoef(train_df_new[col].values, train_df_new.logerror.values)[0,1])\n",
        "corr_df = pd.DataFrame({'col_labels':labels, 'corr_values':values})\n",
        "corr_df = corr_df.sort_values(by='corr_values')\n",
        "    \n",
        "ind = np.arange(len(labels))\n",
        "width = 0.9\n",
        "fig, ax = plt.subplots(figsize=(12,40))\n",
        "rects = ax.barh(ind, np.array(corr_df.corr_values.values), color='y')\n",
        "ax.set_yticks(ind)\n",
        "ax.set_yticklabels(corr_df.col_labels.values, rotation='horizontal')\n",
        "ax.set_xlabel(\"Correlation coefficient\")\n",
        "ax.set_title(\"Correlation coefficient of the variables\")\n",
        "#autolabel(rects)\n",
        "plt.show()"
      ]
    },
    {
      "cell_type": "code",
      "execution_count": null,
      "metadata": {
        "_cell_guid": "89027db7-7e50-7aef-42f3-ca2726f3424a"
      },
      "outputs": [],
      "source": [
        "corr_df_sel = corr_df.ix[(corr_df['corr_values']>0.02) | (corr_df['corr_values'] < -0.01)]\n",
        "#corr_df_sel\n",
        "\n",
        "cols_to_use = corr_df_sel.col_labels.tolist()\n",
        "\n",
        "temp_df = train_df_merged[cols_to_use]\n",
        "corrmat = temp_df.corr(method='spearman')\n",
        "f, ax = plt.subplots(figsize=(10, 10))\n",
        "\n",
        "# Draw the heatmap using seaborn\n",
        "sns.heatmap(corrmat, vmax=1., square=True)\n",
        "plt.title(\"Correlation HeatMap\", fontsize=15)\n",
        "plt.show()"
      ]
    },
    {
      "cell_type": "markdown",
      "metadata": {
        "_cell_guid": "bcd099b0-af61-3ca2-7233-063b43b990d8"
      },
      "source": [
        "**Bathroom count**\n",
        "\n",
        "***There is an interesting 2.279 value in the bathroom count this is a mean value***"
      ]
    },
    {
      "cell_type": "code",
      "execution_count": null,
      "metadata": {
        "_cell_guid": "3b39167b-8dca-4e49-e5ea-8fe6ef9bdb7a"
      },
      "outputs": [],
      "source": [
        "plt.figure(figsize=(12,8))\n",
        "sns.countplot(x=\"bathroomcnt\", data=train_df_merged)\n",
        "plt.ylabel('Count', fontsize=12)\n",
        "plt.xlabel('Bathroom', fontsize=12)\n",
        "plt.xticks(rotation='vertical')\n",
        "plt.title(\"Frequency of Bathroom count\", fontsize=15)\n",
        "plt.show()"
      ]
    },
    {
      "cell_type": "markdown",
      "metadata": {
        "_cell_guid": "3479353a-2bca-8607-c96f-82f1ecf48604"
      },
      "source": [
        "**Dimension distribution**"
      ]
    },
    {
      "cell_type": "code",
      "execution_count": null,
      "metadata": {
        "_cell_guid": "eec43bbd-5660-8b61-95c9-d58f43a6126b"
      },
      "outputs": [],
      "source": [
        "plt.figure(figsize=(12,8))\n",
        "sns.countplot(x=\"bedroomcnt\", data=train_df_merged)\n",
        "plt.ylabel('Count', fontsize=12)\n",
        "plt.xlabel('Bedroom Count', fontsize=12)\n",
        "plt.xticks(rotation='vertical')\n",
        "plt.title(\"Beedroom count frequency\", fontsize=15)\n",
        "plt.show()"
      ]
    },
    {
      "cell_type": "code",
      "execution_count": null,
      "metadata": {
        "_cell_guid": "f099eea3-eba1-1b33-61d9-d4d45ba45aed"
      },
      "outputs": [],
      "source": [
        "train_df_merged['bedroomcnt'].ix[train_df_merged['bedroomcnt']>7] = 7\n",
        "plt.figure(figsize=(10,8))\n",
        "sns.violinplot(x='bedroomcnt', y='logerror', data=train_df_merged)\n",
        "plt.xlabel('Bedroom count', fontsize=12)\n",
        "plt.ylabel('Log Error', fontsize=12)\n",
        "plt.show()"
      ]
    },
    {
      "cell_type": "code",
      "execution_count": null,
      "metadata": {
        "_cell_guid": "b4594c1e-4473-1444-e649-46b37cf306e9"
      },
      "outputs": [],
      "source": [
        "plt.figure(figsize=(12,8))\n",
        "sns.countplot(x=\"yearbuilt\", data=train_df_merged)\n",
        "plt.ylabel('Count', fontsize=12)\n",
        "plt.xlabel('Bedroom Count', fontsize=12)\n",
        "plt.xticks(rotation='vertical')\n",
        "plt.title(\"Beedroom count frequency\", fontsize=15)\n",
        "plt.show()"
      ]
    },
    {
      "cell_type": "code",
      "execution_count": null,
      "metadata": {
        "_cell_guid": "1c839f14-759a-544b-9215-b259e32e8212"
      },
      "outputs": [],
      "source": [
        "\n",
        "ggplot(aes(x='latitude', y='longitude', color='logerror'), data=train_df_merged) + \\\n",
        "    geom_point() + \\\n",
        "    scale_color_gradient(low = 'red', high = 'blue')"
      ]
    },
    {
      "cell_type": "code",
      "execution_count": null,
      "metadata": {
        "_cell_guid": "79ff157e-3f5c-a8bd-f2a6-063a2fe76962"
      },
      "outputs": [],
      "source": [
        "ggplot(aes(x='finishedsquarefeet12', y='taxamount', color='logerror'), data=train_df_merged) + \\\n",
        "    geom_now_its_art()"
      ]
    },
    {
      "cell_type": "code",
      "execution_count": null,
      "metadata": {
        "_cell_guid": "31e72927-6695-38ea-c9f6-d44a3fd56d1f"
      },
      "outputs": [],
      "source": [
        "#reload all data \n",
        "train_raw_data = pd.read_csv(\"../input/train_2016.csv\", parse_dates=[\"transactiondate\"])\n",
        "\n",
        "#merge data on key \n",
        "train_df = pd.merge(train_raw_data, prop_df, on='parcelid', how='left')\n",
        "\n",
        "train_y = train_raw_data['logerror'].values\n",
        "cat_cols = [\"hashottuborspa\", \"propertycountylandusecode\", \"propertyzoningdesc\", \"fireplaceflag\", \"taxdelinquencyflag\"]\n",
        "train_df = train_df.drop(['parcelid', 'logerror', 'transactiondate']+cat_cols, axis=1)\n",
        "#clean all data NaN\n",
        "train_df = train_df.fillna(0)\n",
        "feat_names = train_df.columns.values\n",
        "\n",
        "train_df.head()\n",
        "\n"
      ]
    },
    {
      "cell_type": "code",
      "execution_count": null,
      "metadata": {
        "_cell_guid": "ebc982d1-b445-59f4-4273-6ee387c46e75"
      },
      "outputs": [],
      "source": [
        "from sklearn import ensemble\n",
        "model = ensemble.ExtraTreesRegressor(n_estimators=25, max_depth=30, max_features=0.3, n_jobs=-1, random_state=0)\n",
        "model.fit(train_df, train_y)\n",
        "## plot the importances ##\n",
        "importances = model.feature_importances_\n",
        "std = np.std([tree.feature_importances_ for tree in model.estimators_], axis=0)\n",
        "indices = np.argsort(importances)[::-1][:20]\n",
        "\n",
        "plt.figure(figsize=(12,12))\n",
        "plt.title(\"Feature importances\")\n",
        "plt.bar(range(len(indices)), importances[indices], color=\"b\", yerr=std[indices], align=\"center\")\n",
        "plt.xticks(range(len(indices)), feat_names[indices], rotation='90')\n",
        "plt.xlim([-1, len(indices)])\n",
        "plt.gca().invert_yaxis()\n",
        "plt.show()\n"
      ]
    }
  ],
  "metadata": {
    "_change_revision": 0,
    "_is_fork": false,
    "kernelspec": {
      "display_name": "Python 3",
      "language": "python",
      "name": "python3"
    },
    "language_info": {
      "codemirror_mode": {
        "name": "ipython",
        "version": 3
      },
      "file_extension": ".py",
      "mimetype": "text/x-python",
      "name": "python",
      "nbconvert_exporter": "python",
      "pygments_lexer": "ipython3",
      "version": "3.6.0"
    }
  },
  "nbformat": 4,
  "nbformat_minor": 0
}