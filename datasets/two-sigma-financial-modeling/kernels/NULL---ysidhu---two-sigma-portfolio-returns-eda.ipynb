{
  "cells": [
    {
      "cell_type": "markdown",
      "metadata": {
        "_cell_guid": "0090b561-07a1-1e47-13c5-d1911d19cc44"
      },
      "source": [
        "Some exploratory data analysis of the two sigma training dataset, focusing on portfolio or market returns"
      ]
    },
    {
      "cell_type": "code",
      "execution_count": null,
      "metadata": {
        "_cell_guid": "c2d886be-2a0b-2a8f-cbe5-fd1d3a1a837e"
      },
      "outputs": [],
      "source": [
        "import numpy as np # linear algebra\n",
        "import pandas as pd # data processing, CSV file I/O (e.g. pd.read_csv)\n",
        "import matplotlib.pyplot as plt\n",
        "import seaborn as sns\n",
        "import statsmodels.api as sm\n",
        "\n",
        "%matplotlib inline\n",
        "\n",
        "with pd.HDFStore('../input/train.h5') as train:\n",
        "    df = train.get('train')"
      ]
    },
    {
      "cell_type": "code",
      "execution_count": null,
      "metadata": {
        "_cell_guid": "8ef05fb4-2dc0-72be-4ca8-c57821d43bee"
      },
      "outputs": [],
      "source": [
        "print('Shape : {}'.format(df.shape))"
      ]
    },
    {
      "cell_type": "code",
      "execution_count": null,
      "metadata": {
        "_cell_guid": "3c8dd7a0-3205-5998-834d-939f5aa44a96"
      },
      "outputs": [],
      "source": [
        "df.head()"
      ]
    },
    {
      "cell_type": "code",
      "execution_count": null,
      "metadata": {
        "_cell_guid": "631a99d8-d8fe-15d0-3bc8-457e087b7b3c"
      },
      "outputs": [],
      "source": [
        "len(df.id.unique()) # how many assets (instruments) are we tracking?"
      ]
    },
    {
      "cell_type": "code",
      "execution_count": null,
      "metadata": {
        "_cell_guid": "35f68bb5-f100-ecb5-2656-a3655afea6a5"
      },
      "outputs": [],
      "source": [
        "len(df.timestamp.unique()) # how many periods?"
      ]
    },
    {
      "cell_type": "markdown",
      "metadata": {
        "_cell_guid": "06b4b581-c672-eb1c-17e6-fe7598804582"
      },
      "source": [
        "Looks like we have 1,424 assets that we are tracking across 1,813 time periods. We can't make any assumptions about the time period length - it could be days, hours, minutes, etc. as long as the period is uniform.\n",
        "\n",
        "The set of assets could be considered as the market portfolio. It would be interesting to see if these assets could be grouped into classes based on the observed data and features. For example, asset classes may be equities, bonds, etc. \n",
        "\n",
        "One approach may be to determine market return for a specific time period, and based on that predict the expected return of each asset based on autocorrelation and on how the asset returns correlate to market returns, given an asset class and other features.\n",
        "\n",
        "For now let's try to visualize the market return over the time period."
      ]
    },
    {
      "cell_type": "code",
      "execution_count": null,
      "metadata": {
        "_cell_guid": "04853f42-ea1a-1cb2-15ea-956097be5441"
      },
      "outputs": [],
      "source": [
        "market_df = df[['timestamp', 'y']].groupby('timestamp').agg([np.mean, np.std, len]).reset_index()\n",
        "market_df.head()"
      ]
    },
    {
      "cell_type": "code",
      "execution_count": null,
      "metadata": {
        "_cell_guid": "87bbe9d0-5b75-29c4-0ad2-45586c0eed73"
      },
      "outputs": [],
      "source": [
        "t      = market_df['timestamp']\n",
        "y_mean = np.array(market_df['y']['mean'])\n",
        "y_std  = np.array(market_df['y']['std'])\n",
        "n      = np.array(market_df['y']['len'])\n",
        "\n",
        "plt.figure()\n",
        "plt.plot(t, y_mean, '.')\n",
        "plt.xlabel('timestamp')\n",
        "plt.ylabel('mean of y')\n",
        "\n",
        "plt.figure()\n",
        "plt.plot(t, y_std, '.')\n",
        "plt.xlabel('timestamp')\n",
        "plt.ylabel('std of y')\n",
        "\n",
        "plt.figure()\n",
        "plt.plot(t, n, '.')\n",
        "plt.xlabel('timestamp')\n",
        "plt.ylabel('portfolio size')"
      ]
    },
    {
      "cell_type": "markdown",
      "metadata": {
        "_cell_guid": "5c5a8823-f3c4-302c-a479-5614ebcc9bd6"
      },
      "source": [
        "Looks like two periods of high variance that are correlated with rapid increases in the number of assets. The number of assets being tracked increases from 750 in the first timestamp to just under 1100 in the last. \n",
        "\n",
        "The total number of assets across all timestamps is 1424, so some assets are being dropped as well. It looks like assets are added to the portfolio periodically (see the gaps in the chart), and sold off more slowly."
      ]
    },
    {
      "cell_type": "markdown",
      "metadata": {
        "_cell_guid": "8780fb93-8262-dbc2-2e97-fbcb2faba821"
      },
      "source": [
        "Let's derive a price chart for these returns. We can take the log of the periodic mean returns and get a cumulative sum for each time period to derive a fairly good approximation of a price chart for the portfolio."
      ]
    },
    {
      "cell_type": "code",
      "execution_count": null,
      "metadata": {
        "_cell_guid": "791d8d5d-a0c1-e2c9-ec5b-4938bca1c976"
      },
      "outputs": [],
      "source": [
        "simple_ret = y_mean # this is a vector of the mean of asset returns for each timestamp\n",
        "cum_ret = np.log(1+simple_ret).cumsum()"
      ]
    },
    {
      "cell_type": "code",
      "execution_count": null,
      "metadata": {
        "_cell_guid": "7f7dcc20-a91a-bd6b-705b-bb625bb785eb"
      },
      "outputs": [],
      "source": [
        "portfolio_mean = np.mean(cum_ret)\n",
        "portfolio_std = np.std(cum_ret)\n",
        "print(\"portfolio mean periodic return: \" + str(portfolio_mean))\n",
        "print(\"portfolio std dev of periodic returns: \" + str(portfolio_std))"
      ]
    },
    {
      "cell_type": "code",
      "execution_count": null,
      "metadata": {
        "_cell_guid": "6db05299-0bba-2a97-e16c-e074204907db"
      },
      "outputs": [],
      "source": [
        "plt.figure()\n",
        "plt.plot(t, cum_ret)\n",
        "plt.xlabel('timestamp')\n",
        "plt.ylabel('portfolio value')"
      ]
    },
    {
      "cell_type": "markdown",
      "metadata": {
        "_cell_guid": "2a4fe63f-754b-176c-9928-0885a4d94cd8"
      },
      "source": [
        "Taking the log returns and adding them up is a good approximation for the compounding of returns.\n",
        "\n",
        "It would be interesting to see how the returns of individual assets correlate to the portfolio returns (determine alpha and beta for each asset with respect to the portfolio). Maybe we can use the portfolio return as a proxy for the market return. \n",
        "\n",
        "Recall that the simple regression model for the return of an individual asset, using the market (or index) return as a feature is:\n",
        "\n",
        "return[asset i] = alpha[asset i] + beta * return[market]\n",
        "\n",
        "Alpha represents the component of asset returns that cannot be attributed to the market portfolio returns (and may reflect the skill - or luck - of the portfolio manager). Beta represents the asset volatility with respect to the market portfolio. For example, an asset with a beta of 1.5 will rise or fall on average 1.5 times the value of the market portfolio (or index).\n",
        "\n",
        "Let's take a look at some individual assets:"
      ]
    },
    {
      "cell_type": "code",
      "execution_count": null,
      "metadata": {
        "_cell_guid": "5b7af921-d819-57ce-5acf-4eca922f021a"
      },
      "outputs": [],
      "source": [
        "assets_df = df.groupby('id')['y'].agg(['mean','std',len]).reset_index()\n",
        "assets_df.head()"
      ]
    },
    {
      "cell_type": "code",
      "execution_count": null,
      "metadata": {
        "_cell_guid": "e28199a5-60be-2775-5809-0c64f98ba39c"
      },
      "outputs": [],
      "source": [
        "assets_df = assets_df.sort_values(by='mean')\n",
        "assets_df.head()"
      ]
    },
    {
      "cell_type": "code",
      "execution_count": null,
      "metadata": {
        "_cell_guid": "9e2a83dc-c0e4-fb27-a261-ea92c51a9f8a"
      },
      "outputs": [],
      "source": [
        "assets_df.tail()"
      ]
    },
    {
      "cell_type": "code",
      "execution_count": null,
      "metadata": {
        "_cell_guid": "c06721dd-f9d4-484f-9e1a-df9993b5d1fc"
      },
      "outputs": [],
      "source": [
        "assets_df.describe()"
      ]
    },
    {
      "cell_type": "markdown",
      "metadata": {
        "_cell_guid": "b83299b1-1c51-816e-0380-49f93a94e6b0"
      },
      "source": [
        "Looks like individual asset returns range from a min of -0.035077 to a high of 0.010827, with a mean return of 0.000186 and a std dev of 0.001884.\n",
        "\n",
        "Assets have a mean holding period of roughly 1201 periods with a std dev of 646 periods, with a min holding period of 2 and a max of 1813 (all periods)."
      ]
    },
    {
      "cell_type": "code",
      "execution_count": null,
      "metadata": {
        "_cell_guid": "76741245-8e48-e8a8-e9e0-3f7ff49d826a"
      },
      "outputs": [],
      "source": [
        "sns.distplot(assets_df['mean'], rug=True, hist=False)"
      ]
    },
    {
      "cell_type": "markdown",
      "metadata": {
        "_cell_guid": "d502aabb-388e-69a3-4d7c-27b564bd53be"
      },
      "source": [
        "Checking for correlations between asset return, std and holding period."
      ]
    },
    {
      "cell_type": "code",
      "execution_count": null,
      "metadata": {
        "_cell_guid": "9d9efbfa-5d60-6090-008b-9f66bee2397c"
      },
      "outputs": [],
      "source": [
        "assets_df.corr()"
      ]
    },
    {
      "cell_type": "code",
      "execution_count": null,
      "metadata": {
        "_cell_guid": "e5ee4064-4d5e-b5d7-0a84-523ea303e066"
      },
      "outputs": [],
      "source": [
        "g = sns.PairGrid(assets_df, vars=[\"mean\", \"std\", \"len\"])\n",
        "g = g.map_diag(plt.hist)\n",
        "g = g.map_offdiag(plt.scatter)"
      ]
    },
    {
      "cell_type": "markdown",
      "metadata": {
        "_cell_guid": "fb257500-6d93-cc1d-42db-42500a934f32"
      },
      "source": [
        "There seem to be some interesting relationships here. Notably, mean asset returns and holding period are negatively correlated with the std dev of returns."
      ]
    },
    {
      "cell_type": "markdown",
      "metadata": {
        "_cell_guid": "2c7b696d-a591-2027-e548-d34beda10fd6"
      },
      "source": [
        "Thanks for visiting! Next I'm going to look at time series of individual asset return and correlation with the portfolio returns..."
      ]
    },
    {
      "cell_type": "code",
      "execution_count": null,
      "metadata": {
        "_cell_guid": "9c1e7496-02a8-3ffd-9618-62dda4998177"
      },
      "outputs": [],
      "source": [
        ""
      ]
    }
  ],
  "metadata": {
    "_change_revision": 0,
    "_is_fork": false,
    "kernelspec": {
      "display_name": "Python 3",
      "language": "python",
      "name": "python3"
    },
    "language_info": {
      "codemirror_mode": {
        "name": "ipython",
        "version": 3
      },
      "file_extension": ".py",
      "mimetype": "text/x-python",
      "name": "python",
      "nbconvert_exporter": "python",
      "pygments_lexer": "ipython3",
      "version": "3.5.2"
    }
  },
  "nbformat": 4,
  "nbformat_minor": 0
}