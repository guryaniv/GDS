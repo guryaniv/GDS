{
  "cells": [
    {
      "cell_type": "markdown",
      "metadata": {
        "_cell_guid": "89f88801-e1c4-8345-268b-4c0e2ebbfa4d"
      },
      "source": [
        "Venkat"
      ]
    },
    {
      "cell_type": "code",
      "execution_count": null,
      "metadata": {
        "_cell_guid": "dc79c5bd-14ca-a4bc-e30f-ad4597401212"
      },
      "outputs": [],
      "source": [
        "# This Python 3 environment comes with many helpful analytics libraries installed\n",
        "# It is defined by the kaggle/python docker image: https://github.com/kaggle/docker-python\n",
        "# For example, here's several helpful packages to load in \n",
        "\n",
        "import numpy as np # linear algebra\n",
        "import pandas as pd # data processing, CSV file I/O (e.g. pd.read_csv)\n",
        "\n",
        "# Input data files are available in the \"../input/\" directory.\n",
        "# For example, running this (by clicking run or pressing Shift+Enter) will list the files in the input directory\n",
        "\n",
        "from subprocess import check_output\n",
        "print(check_output([\"ls\", \"../input\"]).decode(\"utf8\"))\n",
        "\n",
        "# Any results you write to the current directory are saved as output."
      ]
    },
    {
      "cell_type": "code",
      "execution_count": null,
      "metadata": {
        "_cell_guid": "9619b7bc-e3c5-dd7b-0e2a-9480a8dd9b6a"
      },
      "outputs": [],
      "source": [
        "setwd(\"~/Documents/Kaggle project\")\n",
        "install.packages(\"rjson\", dependencies = TRUE)\n",
        "install.packages(\"RJSONIO\", dependencies = TRUE) \n",
        "install.packages(\"lubridate\", dependencies = TRUE)\n",
        "install.packages(\"dplyr\", dependencies = TRUE)\n",
        "install.packages(\"jsonlite\", dependencies = TRUE)\n",
        "install.packages(\"caret\", dependencies = TRUE)\n",
        "install.packages(\"purrr\", dependencies = TRUE)\n",
        "install.packages(\"xgboost\", dependencies = TRUE)\n",
        "install.packages(\"MLmetrics\", dependencies = TRUE)\n",
        "install.packages(\"tidytext\", dependencies = TRUE)\n",
        "install.packages(\"reshape2\", dependencies = TRUE)\n",
        "install.packages(\"openxlsx\")\n",
        "install.packages(\"rio\", dependencies = TRUE)\n",
        "install.packages(\"fma\")\n",
        "install.packages(\"forecast\")\n",
        "install.packages(\"fpp\")\n",
        "install.packages(\"BioStatR\")\n",
        "install.packages(\"boot\")\n",
        "install.packages(\"class\")\n",
        "install.packages(\"clusters\")\n",
        "install.packages(\"codetool\")\n",
        "install.packages(\"foreign\")\n",
        "install.packages(\"lattice\")\n",
        "install.packages(\"Mass\")\n",
        "install.packages(\"Matrix\")\n",
        "install.packages(\"mgcv\")\n",
        "install.packages(\"nlme\")\n",
        "install.packages(\"nnet\")\n",
        "install.packages(\"stringi\")\n",
        "install.packages(\"stringr\")\n",
        "install.packages(\"ggplot2\")\n",
        "install.packages(\"magrittr\")\n",
        "install.packages(\"ggmap\")\n",
        "install.packages(\"knitr\")\n",
        "library(lubridate)\n",
        "library(RJSONIO)\n",
        "library(dplyr)\n",
        "library(jsonlite)\n",
        "library(caret)\n",
        "library(purrr)\n",
        "library(xgboost)\n",
        "library(MLmetrics)\n",
        "library(tidytext)\n",
        "library(reshape2)\n",
        "library(rjson)\n",
        "train <- fromJSON(file=\"D:/Semester/Spring 2017/QMST/Kaggle project/Data/train/train.json\")\n",
        "test <- fromJSON(file=\"D:/Semester/Spring 2017/QMST/Kaggle project/Data/test/test.json\")\n",
        "vars <- setdiff(names(train), c(\"photos\", \"features\"))\n",
        "train <- map_at(train, vars, unlist) %>% tibble::as_tibble(.)\n",
        "train_id <-train$listing_id\n",
        "vars <- setdiff(names(test), c(\"photos\", \"features\"))\n",
        "test <- map_at(test, vars, unlist) %>% tibble::as_tibble(.)\n",
        "test_id <-test$listing_id\n",
        "train$feature_count <- lengths(train$features)\n",
        "test$feature_count <- lengths(test$features)\n",
        "train$photo_count <- lengths(train$photos)\n",
        "test$photo_count <- lengths(test$photos)\n",
        "train[unlist(map(train$features,is_empty)),]$features = 'Nofeat'\n",
        "test[unlist(map(test$features,is_empty)),]$features = 'Nofeat'\n",
        "test$interest_level <- 'none'\n",
        "                            "
      ]
    }
  ],
  "metadata": {
    "_change_revision": 0,
    "_is_fork": false,
    "kernelspec": {
      "display_name": "Python 3",
      "language": "python",
      "name": "python3"
    },
    "language_info": {
      "codemirror_mode": {
        "name": "ipython",
        "version": 3
      },
      "file_extension": ".py",
      "mimetype": "text/x-python",
      "name": "python",
      "nbconvert_exporter": "python",
      "pygments_lexer": "ipython3",
      "version": "3.6.0"
    }
  },
  "nbformat": 4,
  "nbformat_minor": 0
}