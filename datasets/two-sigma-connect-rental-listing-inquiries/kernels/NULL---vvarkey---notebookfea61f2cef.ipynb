{
  "metadata": {
    "kernelspec": {
      "display_name": "Python 3",
      "language": "python",
      "name": "python3"
    },
    "language_info": {
      "codemirror_mode": {
        "name": "ipython",
        "version": 3
      },
      "file_extension": ".py",
      "mimetype": "text/x-python",
      "name": "python",
      "nbconvert_exporter": "python",
      "pygments_lexer": "ipython3",
      "version": "3.6.0"
    }
  },
  "nbformat": 4,
  "nbformat_minor": 0,
  "cells": [
    {
      "metadata": {
        "_cell_guid": "d2fc2ba3-ac8a-27bb-0970-69b01ac98c18",
        "_active": false,
        "collapsed": false
      },
      "source": "import os\nimport sys\nimport operator\nimport numpy as np\nimport pandas as pd\nfrom scipy import sparse\nimport xgboost as xgb\nfrom sklearn import model_selection, preprocessing, ensemble\nfrom sklearn.metrics import log_loss\nfrom sklearn.feature_extraction.text import TfidfVectorizer, CountVectorizer\nfrom sklearn.preprocessing import OneHotEncoder\nfrom sklearn.decomposition import TruncatedSVD\nfrom sklearn.model_selection import train_test_split\n\ndef runXGB(train_X, train_y, test_X, test_y=None, feature_names=None, seed_val=0, num_rounds=1000):\n    param = {}\n    param['objective'] = 'multi:softprob'\n    param['eta'] = 0.1\n    param['max_depth'] = 6\n    param['silent'] = 1\n    param['num_class'] = 3\n    param['eval_metric'] = \"mlogloss\"\n    param['min_child_weight'] = 1\n    param['subsample'] = 0.7\n    param['colsample_bytree'] = 0.7\n    param['seed'] = 8088\n    num_rounds = num_rounds\n\n    plst = list(param.items())\n    xgtrain = xgb.DMatrix(train_X, label=train_y)\n\n    if test_y is not None:\n        xgtest = xgb.DMatrix(test_X, label=test_y)\n        watchlist = [ (xgtrain,'train'), (xgtest, 'test') ]\n        model = xgb.train(plst, xgtrain, num_rounds, watchlist, early_stopping_rounds=20,\n                         verbose_eval=25)\n    else:\n        xgtest = xgb.DMatrix(test_X)\n        model = xgb.train(plst, xgtrain, num_rounds)\n\n    pred_test_y = model.predict(xgtest)\n    return pred_test_y, model\n\ndef add_fields(train_df):\n    # count of photos #\n\ttrain_df[\"num_photos\"] = train_df[\"photos\"].apply(len)\n\n\t# count of \"features\" #\n\ttrain_df[\"num_features\"] = train_df[\"features\"].apply(len)\n\n\t# count of words present in description column #\n\ttrain_df[\"num_description_words\"] = train_df[\"description\"].apply(lambda x: len(x.split(\" \")))\n\n\t# convert the created column to datetime object so as to extract more features \n\ttrain_df[\"created\"] = pd.to_datetime(train_df[\"created\"])\n\n\t# Let us extract some features like year, month, day, hour from date columns #\n\ttrain_df[\"created_year\"] = train_df[\"created\"].dt.year\n\ttrain_df[\"created_month\"] = train_df[\"created\"].dt.month\n\ttrain_df[\"created_day\"] = train_df[\"created\"].dt.day\n\ttrain_df[\"created_hour\"] = train_df[\"created\"].dt.hour\n\n\ttrain_df[\"created_day_hour\"] = train_df[\"created\"].dt.day*24 + train_df[\"created\"].dt.hour\n\n\ttrain_df[\"created_dow\"] = train_df[\"created\"].dt.day%7\n\n\ttrain_df[\"price_per_bed\"] = train_df[\"price\"]/train_df[\"bedrooms\"].clip(lower=1)\n\ttrain_df['created_date']=np.array(train_df.created.values, dtype='datetime64[D]'\n\t\t\t\t\t ).astype(np.float32)\n\n\ttrain_df[\"created_date_hour\"] = train_df[\"created_date\"]*24+train_df[\"created\"].dt.hour\n\ttrain_df['hour_count']=train_df.groupby(\"created_date_hour\")['bathrooms'].transform(\n\t    lambda x: x.count())\n\ttrain_df['date_count']=train_df.groupby(\"created_date_hour\")['bathrooms'].transform(\n\t    lambda x: x.count())\n\ndef add_manager(train_df_tr, train_df_te):\n    temp = pd.concat([train_df_tr.manager_id,pd.get_dummies(train_df_tr.interest_level)], axis = 1\n                    ).groupby('manager_id').mean()\n    temp.columns = ['high_frac','low_frac', 'medium_frac']\n    temp['count'] = train_df_tr.groupby('manager_id').count().iloc[:,1]\n\n    temp['manager_skill'] = temp['high_frac']*2 + temp['medium_frac']\n    unranked_managers_ixes = temp['count']<20\n    ranked_managers_ixes = ~unranked_managers_ixes\n    mean_values = temp.loc[ranked_managers_ixes, [\n        'high_frac','low_frac', 'medium_frac','manager_skill']].mean()\n    temp.loc[unranked_managers_ixes,[\n        'high_frac','low_frac', 'medium_frac','manager_skill']] = mean_values.values\n\n    train_df_tr = train_df_tr.merge(temp.reset_index(),how='left', on='manager_id')\n    train_df_te = train_df_te.merge(temp.reset_index(),how='left', on='manager_id')\n    new_manager_ixes = train_df_te['high_frac'].isnull()\n    train_df_te.loc[new_manager_ixes,['high_frac','low_frac', 'medium_frac','manager_skill'\n                                ]] = mean_values.values\n    return (train_df_tr, train_df_te)\n    ",
      "execution_count": null,
      "cell_type": "code",
      "outputs": [],
      "execution_state": "idle"
    },
    {
      "metadata": {
        "_cell_guid": "e6af8172-b03d-c8dd-9490-debc67ee4db3",
        "_active": false,
        "collapsed": false
      },
      "source": "data_path = \"../input/\"\ntrain_file = data_path + \"train.json\"\ntest_file = data_path + \"test.json\"\ntrain_df = pd.read_json(train_file)\ntest_df = pd.read_json(test_file)\nprint(train_df.shape)\nprint(test_df.shape)",
      "execution_count": null,
      "cell_type": "code",
      "outputs": [],
      "execution_state": "idle"
    },
    {
      "metadata": {
        "_cell_guid": "7eb04869-9418-5e76-9524-191e184abc9f",
        "_active": false,
        "collapsed": false
      },
      "source": "add_fields(train_df)\nadd_fields(test_df)",
      "execution_count": null,
      "cell_type": "code",
      "outputs": [],
      "execution_state": "idle"
    },
    {
      "metadata": {
        "_cell_guid": "edfdd492-4aad-c009-8fa9-a4a16402b192",
        "_active": false,
        "collapsed": false
      },
      "source": "categorical = [\"display_address\", \"manager_id\", \"building_id\", \"street_address\"]\n\nfor f in categorical:\n        if train_df[f].dtype=='object':\n            #print(f)\n            lbl = preprocessing.LabelEncoder()\n            lbl.fit(list(train_df[f].values) + list(test_df[f].values))\n            train_df[f] = lbl.transform(list(train_df[f].values))\n            test_df[f] = lbl.transform(list(test_df[f].values))\n\ntrain_df['features'] = train_df[\"features\"].apply(lambda x: \" \".join([\"_\".join(i.split(\" \")) for i in x]))\n#test_df['features'] = test_df[\"features\"].apply(lambda x: \" \".join([\"_\".join(i.split(\" \")) for i in x]))\nprint(train_df[\"features\"].head())\ntfidf = CountVectorizer(stop_words='english', max_features=200)\ntfidf.fit(train_df[\"features\"])\n\n'''import re\ncleanr = re.compile('<.*?>')\ntrain_df['description']=train_df['description'].apply(lambda x: re.sub(cleanr, ' ', x))\ntfidf2 = TfidfVectorizer(sublinear_tf=True, max_df=0.5,\n                                 stop_words='english', ngram_range=(3, 5), max_features=1000)\ntfidf2.fit(train_df.description.values)'''\n\n",
      "execution_count": null,
      "cell_type": "code",
      "outputs": [],
      "execution_state": "idle"
    },
    {
      "metadata": {
        "_cell_guid": "343a6ddb-97a5-d747-6cd9-39162384ea6c",
        "_active": false,
        "collapsed": false
      },
      "source": "testing",
      "execution_count": null,
      "cell_type": "markdown",
      "outputs": [],
      "execution_state": "idle"
    },
    {
      "metadata": {
        "_cell_guid": "45a02156-7d32-881e-b461-e71def5f2cef",
        "_active": false,
        "collapsed": false
      },
      "source": "train_df_tr, train_df_te =train_test_split(train_df, random_state=0)\ntr_sparse_tr = tfidf.transform(train_df_tr[\"features\"])\ntr_sparse_te = tfidf.transform(train_df_te[\"features\"])\n\nfeatures_sparse = ['features_'+str(i) for i in range(tr_sparse_tr.shape[1])]\n\n#te_sparse = tfidf.transform(test_df[\"features\"])\n(train_df_tr, train_df_te) = add_manager(train_df_tr, train_df_te)",
      "execution_count": null,
      "cell_type": "code",
      "outputs": [],
      "execution_state": "idle"
    },
    {
      "metadata": {
        "_cell_guid": "fd4bb652-cb23-aef6-0dc8-eb4e31743215",
        "_active": false,
        "collapsed": false
      },
      "source": "features_to_use=['bathrooms', 'bedrooms', 'latitude', 'longitude', 'price', 'num_photos', \n                 'num_features', 'num_description_words', #'created_year', 'created_month', \n                 #'created_day', 'listing_id', 'created_hour', 'price_per_bed', 'created_date', \n                 'listing_id','price_per_bed',\n                 'display_address', 'manager_id', 'building_id', 'street_address', \n                 'manager_skill',\n                  'created_dow', 'created_hour', 'hour_count']\n#features_to_use+=[\"created_dow\"+str(i) for i in range(7)]\nfeatures_to_use",
      "execution_count": null,
      "cell_type": "code",
      "outputs": [],
      "execution_state": "idle"
    },
    {
      "metadata": {
        "_cell_guid": "3763f429-c317-0262-077d-0867a8d8c0c1",
        "_active": false,
        "collapsed": false
      },
      "source": "train_X_tr = sparse.hstack([train_df_tr[features_to_use], tr_sparse_tr]).tocsr()\n#, tr_sparse2_tr]).tocsr()\ntrain_X_te = sparse.hstack([train_df_te[features_to_use], tr_sparse_te]).tocsr()\n#, tr_sparse2_te]).tocsr()\n#test_X = sparse.hstack([test_df[features_to_use], te_sparse]).tocsr()\n\ntarget_num_map = {'high':0, 'medium':1, 'low':2}\ntrain_y_tr = np.array(train_df_tr['interest_level'].apply(lambda x: target_num_map[x]))\ntrain_y_te = np.array(train_df_te['interest_level'].apply(lambda x: target_num_map[x]))\nprint(train_X_tr.shape, train_X_te.shape)#, test_X.shape)\n\ntrain_X_tr_n=train_X_tr.toarray()\ntrain_X_te_n=train_X_te.toarray()\n",
      "execution_count": null,
      "cell_type": "code",
      "outputs": [],
      "execution_state": "idle"
    },
    {
      "metadata": {
        "_cell_guid": "9edf9af0-5d7f-9811-ac17-77645ec806a2",
        "_active": false,
        "collapsed": false
      },
      "source": "preds2, model2 = runXGB(train_X_tr_n, train_y_tr, train_X_te_n, train_y_te)\nfscores=model2.get_fscore()\ndf_features2=pd.DataFrame(fscores, index=['score']).T.reset_index()\ndf_features2['f_index']=df_features2['index'].apply(lambda x: int(x[1:]))\ndf_features2['f_name']=np.array(features_to_use+features_sparse)[df_features2['f_index'].values]\npd.Series(index = df_features2['f_name'].values, \n          data = df_features2['score'].values).sort_values()[-30:].plot(\n    kind = 'bar')",
      "execution_count": null,
      "cell_type": "code",
      "outputs": [],
      "execution_state": "idle"
    },
    {
      "metadata": {
        "_cell_guid": "5d4b4fde-862d-1a16-8e1f-27b89f73eee3",
        "_active": false,
        "collapsed": false
      },
      "source": "    param = {}\n    param['objective'] = 'multi:softprob'\n    param['eta'] = 0.1\n    param['max_depth'] = 6\n    param['silent'] = 1\n    param['num_class'] = 3\n    param['eval_metric'] = \"mlogloss\"\n    param['min_child_weight'] = 1\n    param['subsample'] = 0.7\n    param['colsample_bytree'] = 0.7\n    param['seed'] = 0\n    num_rounds = 325\n\n    plst = list(param.items())\n    xgtrain = xgb.DMatrix(train_X_tr_n, label=train_y_tr)\n\n    xgb.cv(plst, xgtrain, num_rounds, early_stopping_rounds=20, verbose_eval=25)\n",
      "execution_count": null,
      "cell_type": "code",
      "outputs": [],
      "execution_state": "idle"
    }
  ]
}