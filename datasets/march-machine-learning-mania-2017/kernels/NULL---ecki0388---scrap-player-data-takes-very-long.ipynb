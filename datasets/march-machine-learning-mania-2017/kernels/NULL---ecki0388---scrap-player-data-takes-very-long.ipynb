{
  "cells": [
    {
      "cell_type": "markdown",
      "metadata": {
        "_cell_guid": "792ba9ae-c52d-cf1c-1138-4850bf33c849"
      },
      "source": [
        "This Notebook scraps data from the ncaa statistics homepage for men's basketball\n",
        "on a player level.\n",
        "Most of the statistics contain the complete season, so keep in mind that this data may introduce some leakage into prediction models.\n",
        "\n",
        "ATTENTION: It took me about one hour to download everything, so make sure you have enough time ;) \n",
        "OR: Download the .csv, which i will put in the comment\n",
        "Have fun with the data!\n",
        "\n",
        "P.S.:\n",
        "Running the scraper here results in a connection error, so I think you have to download the code, and run it on your local machine."
      ]
    },
    {
      "cell_type": "code",
      "execution_count": null,
      "metadata": {
        "_cell_guid": "2c9aafac-78c5-cd75-c0cf-69fce75ed814"
      },
      "outputs": [],
      "source": [
        "import numpy as np\n",
        "import pandas as pd\n",
        "import requests\n",
        "from bs4 import BeautifulSoup\n",
        "import re"
      ]
    },
    {
      "cell_type": "code",
      "execution_count": null,
      "metadata": {
        "_cell_guid": "7104b19c-09c6-1917-1616-44d3f116c544"
      },
      "outputs": [],
      "source": [
        "seasons=range(2010,2018) #these are the only seasons they have at the moment\n",
        "statistics=[]\n",
        "roster=[]\n",
        "headers={'User-Agent': 'Mozilla/5.0 (X11; Ubuntu; Linux x86_64; rv:51.0) Gecko/20100101 Firefox/51.0'}\n",
        "#the website won't take requests, if you don't provide a User-Agent (in firefox this can be found at Tools>Web Developer>Network, but this one is also fine)\n",
        "for s in seasons:\n",
        "    #get the links to all teams for the specified season\n",
        "    base_url='http://stats.ncaa.org/team/inst_team_list?academic_year='+str(s)+'&conf_id=-1&division=1&sport_code=MBB'\n",
        "    page=requests.get(base_url,headers=headers)\n",
        "    soup = BeautifulSoup(page.content,'lxml')\n",
        "    links=[]\n",
        "    for link in soup.find_all('a', href=True):\n",
        "        pattern = re.compile(r\"/team/[0-9]+/[0-9]+\")\n",
        "        if pattern.match(link['href']):\n",
        "            links.append(link['href'])\n",
        "    yearSuffix=links[0].split('/')[-1]\n",
        "    teams=[link.split('/')[2] for link in links]\n",
        "    #get the urls for the statistics and roster page of each team\n",
        "    stats_url_base='http://stats.ncaa.org/team/'\n",
        "    stats_urls=[stats_url_base+team+'/stats/'+yearSuffix for team in teams]\n",
        "    roster_urls=[stats_url_base+team+'/roster/'+yearSuffix for team in teams]\n",
        "    #download the statistics for each team\n",
        "    stats_frames=[]\n",
        "    pattern = re.compile('([^, ][^,]*), ([^,]+)')\n",
        "    for url in stats_urls:    \n",
        "        site=requests.get(url,headers=headers)\n",
        "        stats_soup = BeautifulSoup(site.content,'lxml')\n",
        "\n",
        "        columns=[col.text.strip() for col in stats_soup.find_all('th')]\n",
        "        cells=[cell.text.strip() for cell in stats_soup.find_all('td')]\n",
        "        #since there is no good structure we have to count the names to get a player count\n",
        "        player_count=0\n",
        "        for c in cells[1:]:\n",
        "            if pattern.match(c):\n",
        "                player_count+=1\n",
        "        player_dicts=[]\n",
        "        #now we can use this information to get all cells, which belong to each row\n",
        "        for i in xrange(player_count):\n",
        "            player_dicts.append(dict(zip(columns, cells[i*len(columns)+1:(i+1)*len(columns)+1])))\n",
        "            player_dicts[i].update({'Team':stats_soup.find('span',{'class':'org_heading'}).text.strip()})\n",
        "            player_dicts[i].update({'Season':s})\n",
        "        stats_frames.append(pd.DataFrame(player_dicts))\n",
        "    statistics.append(pd.concat(stats_frames))\n",
        "    #download the roster for each team\n",
        "    roster_frames=[]\n",
        "    pattern = re.compile('([^, ][^,]*), ([^,]+)')\n",
        "    for url in roster_urls:    \n",
        "        site=requests.get(url,headers=headers)\n",
        "        roster_soup = BeautifulSoup(site.content,'lxml')\n",
        "\n",
        "        columns=[col.text.strip() for col in roster_soup.find_all('th',colspan=False)]\n",
        "        cells=[cell.text.strip() for cell in roster_soup.find_all('td')]\n",
        "        player_count=0\n",
        "        for c in cells[1:]:\n",
        "            if pattern.match(c):\n",
        "                player_count+=1\n",
        "        player_dicts=[]\n",
        "        for i in xrange(player_count):\n",
        "            player_dicts.append(dict(zip(columns, cells[i*len(columns):(i+1)*len(columns)+1])))\n",
        "            player_dicts[i].update({'Team':roster_soup.find('span',{'class':'org_heading'}).text.strip()})\n",
        "            player_dicts[i].update({'Season':s})\n",
        "        roster_frames.append(pd.DataFrame(player_dicts))\n",
        "    roster.append(pd.concat(roster_frames))\n",
        "#now put the frames together\n",
        "roster1=pd.concat(roster)\n",
        "statistics1=pd.concat(statistics)\n",
        "#clean up the team names\n",
        "roster1['Team']=roster1['Team'].str.split('(').str[0].str.strip()\n",
        "statistics1['Team']=statistics1['Team'].str.split('(').str[0].str.strip()"
      ]
    },
    {
      "cell_type": "code",
      "execution_count": null,
      "metadata": {
        "_cell_guid": "98e1afd3-c4f4-f4ac-ac7d-2dcafa66a269"
      },
      "outputs": [],
      "source": [
        "#save as csv and ignore the index since it has no meaning\n",
        "statistics1.to_csv('playerdata_statistics.csv')\n",
        "roster1.to_csv('playerdata_roster.csv')"
      ]
    },
    {
      "cell_type": "code",
      "execution_count": null,
      "metadata": {
        "_cell_guid": "9f24b5a1-6782-0263-c00a-1ccfaee0e8b2"
      },
      "outputs": [],
      "source": [
        ""
      ]
    }
  ],
  "metadata": {
    "_change_revision": 0,
    "_is_fork": false,
    "kernelspec": {
      "display_name": "Python 3",
      "language": "python",
      "name": "python3"
    },
    "language_info": {
      "codemirror_mode": {
        "name": "ipython",
        "version": 3
      },
      "file_extension": ".py",
      "mimetype": "text/x-python",
      "name": "python",
      "nbconvert_exporter": "python",
      "pygments_lexer": "ipython3",
      "version": "3.6.0"
    }
  },
  "nbformat": 4,
  "nbformat_minor": 0
}