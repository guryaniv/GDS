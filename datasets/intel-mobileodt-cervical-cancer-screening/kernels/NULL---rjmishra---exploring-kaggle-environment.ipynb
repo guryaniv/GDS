{
  "cells": [
    {
      "cell_type": "code",
      "execution_count": null,
      "metadata": {
        "_cell_guid": "adc425cd-8c6d-28c7-ccfb-4d3dd920e36b"
      },
      "outputs": [],
      "source": [
        "# This Python 3 environment comes with many helpful analytics libraries installed\n",
        "# It is defined by the kaggle/python docker image: https://github.com/kaggle/docker-python\n",
        "# For example, here's several helpful packages to load in \n",
        "\n",
        "import numpy as np # linear algebra\n",
        "import pandas as pd # data processing, CSV file I/O (e.g. pd.read_csv)\n",
        "\n",
        "# Input data files are available in the \"../input/\" directory.\n",
        "# For example, running this (by clicking run or pressing Shift+Enter) will list the files in the input directory\n",
        "\n",
        "from subprocess import check_output\n",
        "print(check_output([\"ls\", \"../input\"]).decode(\"utf8\"))\n",
        "\n",
        "# Any results you write to the current directory are saved as output."
      ]
    },
    {
      "cell_type": "code",
      "execution_count": null,
      "metadata": {
        "_cell_guid": "cd636243-c187-fb67-2e25-1977b160a8aa"
      },
      "outputs": [],
      "source": [
        "from os import listdir"
      ]
    },
    {
      "cell_type": "code",
      "execution_count": null,
      "metadata": {
        "_cell_guid": "0a34d1c3-0b68-729c-d008-e5d33c595400"
      },
      "outputs": [],
      "source": [
        "testDir = \"../input/test/\"\n",
        "additionalDir = \"../input/additional/\"\n",
        "trainDir = \"../input/train/\"\n",
        "\n",
        "trainFiles = listdir(trainDir)"
      ]
    },
    {
      "cell_type": "code",
      "execution_count": null,
      "metadata": {
        "_cell_guid": "22e1864c-a9cc-cb42-676e-a5e91fc31d80"
      },
      "outputs": [],
      "source": [
        "len(trainFiles)"
      ]
    },
    {
      "cell_type": "code",
      "execution_count": null,
      "metadata": {
        "_cell_guid": "a8c195f8-15d2-99e8-5aba-f9d60831afb1"
      },
      "outputs": [],
      "source": [
        "for name in trainFiles:\n",
        "    print(name)"
      ]
    },
    {
      "cell_type": "code",
      "execution_count": null,
      "metadata": {
        "_cell_guid": "85af600d-0155-9287-5ab1-b50106a49033"
      },
      "outputs": [],
      "source": [
        "train1 = trainDir+trainFiles[0]+'/'\n",
        "train2 = trainDir+trainFiles[1]+'/'\n",
        "train3 = trainDir+trainFiles[2]+'/'"
      ]
    },
    {
      "cell_type": "code",
      "execution_count": null,
      "metadata": {
        "_cell_guid": "a2e9548e-1908-5986-e866-05c69f9c06c4"
      },
      "outputs": [],
      "source": [
        "print(train1)"
      ]
    },
    {
      "cell_type": "code",
      "execution_count": null,
      "metadata": {
        "_cell_guid": "776f0f47-9437-6c05-725d-764c18d22c6b"
      },
      "outputs": [],
      "source": [
        "type1 = listdir(train1)\n",
        "type2 = listdir(train2)\n",
        "type3 = listdir(train3)\n",
        "\n",
        "for name in type1:\n",
        "    print(name)"
      ]
    },
    {
      "cell_type": "code",
      "execution_count": null,
      "metadata": {
        "_cell_guid": "90554e82-fc47-24aa-a48f-c395cbca8abd"
      },
      "outputs": [],
      "source": ""
    }
  ],
  "metadata": {
    "_change_revision": 0,
    "_is_fork": false,
    "kernelspec": {
      "display_name": "Python 3",
      "language": "python",
      "name": "python3"
    },
    "language_info": {
      "codemirror_mode": {
        "name": "ipython",
        "version": 3
      },
      "file_extension": ".py",
      "mimetype": "text/x-python",
      "name": "python",
      "nbconvert_exporter": "python",
      "pygments_lexer": "ipython3",
      "version": "3.6.0"
    }
  },
  "nbformat": 4,
  "nbformat_minor": 0
}