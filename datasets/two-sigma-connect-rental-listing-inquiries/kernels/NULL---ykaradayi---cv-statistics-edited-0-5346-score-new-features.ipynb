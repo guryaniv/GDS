{
  "metadata": {
    "kernelspec": {
      "display_name": "Python 3",
      "language": "python",
      "name": "python3"
    },
    "language_info": {
      "codemirror_mode": {
        "name": "ipython",
        "version": 3
      },
      "file_extension": ".py",
      "mimetype": "text/x-python",
      "name": "python",
      "nbconvert_exporter": "python",
      "pygments_lexer": "ipython3",
      "version": "3.6.0"
    }
  },
  "nbformat": 4,
  "nbformat_minor": 0,
  "cells": [
    {
      "cell_type": "markdown",
      "metadata": {
        "_cell_guid": "6bc9b087-c98b-bd97-66c6-92c5d01242d4",
        "_active": false
      },
      "source": "This's notebook for CV statistics",
      "outputs": [],
      "execution_count": null,
      "execution_state": "idle"
    },
    {
      "cell_type": "code",
      "execution_count": null,
      "metadata": {
        "_cell_guid": "567a0c15-e6ca-cb0f-870a-2fd7cb9b0c14",
        "_active": false
      },
      "outputs": [],
      "source": "import os\nimport sys\nimport operator\nimport numpy as np\nimport pandas as pd\nfrom scipy import sparse\nimport xgboost as xgb\nimport random\nfrom sklearn import model_selection, preprocessing, ensemble\nfrom sklearn.metrics import log_loss\nfrom sklearn.feature_extraction.text import TfidfVectorizer, CountVectorizer\n#input data\ntrain_df=pd.read_json('../input/train.json')\ntest_df=pd.read_json('../input/test.json')",
      "execution_state": "busy"
    },
    {
      "cell_type": "markdown",
      "metadata": {
        "_cell_guid": "8a50dbf1-cc8a-58ce-bd38-458cbb700e24",
        "_active": false
      },
      "source": "Now add some basic feature.",
      "outputs": [],
      "execution_count": null,
      "execution_state": "idle"
    },
    {
      "cell_type": "code",
      "execution_count": null,
      "metadata": {
        "_cell_guid": "14a74b57-41ef-b6c3-6098-1d5d05c28603",
        "_active": false,
        "collapsed": false
      },
      "outputs": [],
      "source": "#basic features\ntrain_df[\"price_t\"] =train_df[\"price\"]/train_df[\"bedrooms\"]\ntest_df[\"price_t\"] = test_df[\"price\"]/test_df[\"bedrooms\"] \ntrain_df[\"room_sum\"] = train_df[\"bedrooms\"]+train_df[\"bathrooms\"] \ntest_df[\"room_sum\"] = test_df[\"bedrooms\"]+test_df[\"bathrooms\"] \n\ntrain_df[\"created\"] = pd.to_datetime(train_df[\"created\"])\ntrain_df[\"created_year\"] = train_df[\"created\"].dt.year\ntrain_df[\"created_month\"] = train_df[\"created\"].dt.month\n\ntest_df[\"created\"] = pd.to_datetime(test_df[\"created\"])\ntest_df[\"created_year\"] = test_df[\"created\"].dt.year\ntest_df[\"created_month\"] = test_df[\"created\"].dt.month\n\n# count of photos #\ntrain_df[\"num_photos\"] = train_df[\"photos\"].apply(len)\ntest_df[\"num_photos\"] = test_df[\"photos\"].apply(len)\n\n# count of \"features\" #\ntrain_df[\"num_features\"] = train_df[\"features\"].apply(len)\ntest_df[\"num_features\"] = test_df[\"features\"].apply(len)\n\n# count of words present in description column #\ntrain_df[\"num_description_words\"] = train_df[\"description\"].apply(lambda x: len(x.split(\" \")))\ntest_df[\"num_description_words\"] = test_df[\"description\"].apply(lambda x: len(x.split(\" \")))\n\n\nfeatures_to_use=[\"listing_id\", \"bathrooms\", \"bedrooms\", \"room_sum\", \"latitude\", \"longitude\", \"price\",\"price_t\",\"num_photos\", \"num_features\", \"num_description_words\", \"created_year\", \"created_month\"]",
      "execution_state": "busy"
    },
    {
      "cell_type": "markdown",
      "metadata": {
        "_cell_guid": "29851d87-79f5-55e0-6f53-55ca0b9cbbae",
        "_active": false
      },
      "source": "Define XGB function, it come from \"XGB starter in python\" by SRK",
      "outputs": [],
      "execution_count": null,
      "execution_state": "idle"
    },
    {
      "cell_type": "code",
      "execution_count": null,
      "metadata": {
        "_cell_guid": "15a46712-582b-28f7-1626-917cdab4f7e5",
        "_active": false
      },
      "outputs": [],
      "source": "def runXGB(train_X, train_y, test_X, test_y=None, feature_names=None, seed_val=0, num_rounds=1000):\n    param = {}\n    param['objective'] = 'multi:softprob'\n    param['eta'] = 0.1\n    param['max_depth'] = 6\n    param['silent'] = 1\n    param['num_class'] = 3\n    param['eval_metric'] = \"mlogloss\"\n    param['min_child_weight'] = 1\n    param['subsample'] = 0.7\n    param['colsample_bytree'] = 0.7\n    param['seed'] = seed_val\n    num_rounds = num_rounds\n\n    plst = list(param.items())\n    xgtrain = xgb.DMatrix(train_X, label=train_y)\n\n    if test_y is not None:\n        xgtest = xgb.DMatrix(test_X, label=test_y)\n        watchlist = [ (xgtrain,'train'), (xgtest, 'test') ]\n        model = xgb.train(plst, xgtrain, num_rounds, watchlist, early_stopping_rounds=20)\n    else:\n        xgtest = xgb.DMatrix(test_X)\n        model = xgb.train(plst, xgtrain, num_rounds)\n\n    pred_test_y = model.predict(xgtest)\n    return pred_test_y, model",
      "execution_state": "busy"
    },
    {
      "cell_type": "markdown",
      "execution_count": null,
      "metadata": {
        "_cell_guid": "7ce05a33-b4ee-0037-51c9-eefcba7f4235",
        "_active": false
      },
      "outputs": [],
      "source": "CV statistics, only change here",
      "execution_state": "idle"
    },
    {
      "cell_type": "code",
      "execution_count": null,
      "metadata": {
        "_cell_guid": "076ac2c8-108e-a47e-1139-b981d5e3cc3d",
        "_active": false,
        "collapsed": false
      },
      "outputs": [],
      "source": "categorical = [\"display_address\", \"manager_id\", \"building_id\", \"street_address\"]\nfor f in categorical:\n        if train_df[f].dtype=='object':\n            #print(f)\n            lbl = preprocessing.LabelEncoder()\n            lbl.fit(list(train_df[f].values) + list(test_df[f].values))\n            train_df[f] = lbl.transform(list(train_df[f].values))\n            test_df[f] = lbl.transform(list(test_df[f].values))\n            features_to_use.append(f)",
      "execution_state": "busy"
    },
    {
      "cell_type": "code",
      "execution_count": null,
      "metadata": {
        "_cell_guid": "4a796bbd-05dc-d4a0-4594-9457459f9b85",
        "_active": false
      },
      "outputs": [],
      "source": "train_df['features'] = train_df[\"features\"].apply(lambda x: \" \".join([\"_\".join(i.split(\" \")) for i in x]))\ntest_df['features'] = test_df[\"features\"].apply(lambda x: \" \".join([\"_\".join(i.split(\" \")) for i in x]))\nprint(train_df[\"features\"].head())\ntfidf = CountVectorizer(stop_words='english', max_features=200)\ntr_sparse = tfidf.fit_transform(train_df[\"features\"])\nte_sparse = tfidf.transform(test_df[\"features\"])",
      "execution_state": "busy"
    },
    {
      "cell_type": "code",
      "execution_count": null,
      "metadata": {
        "_cell_guid": "9ffe5eaf-bfba-2e5c-b4a3-f3a9adcac4d9",
        "_active": false
      },
      "outputs": [],
      "source": "\ntrain_X = sparse.hstack([train_df[features_to_use], tr_sparse]).tocsr()\ntest_X = sparse.hstack([test_df[features_to_use], te_sparse]).tocsr()\n\ntarget_num_map = {'high':0, 'medium':1, 'low':2}\ntrain_y = np.array(train_df['interest_level'].apply(lambda x: target_num_map[x]))\nprint(train_X.shape, test_X.shape)",
      "execution_state": "busy"
    },
    {
      "cell_type": "markdown",
      "metadata": {
        "_cell_guid": "b6fa828e-755e-10f7-7180-25c932e58d22",
        "_active": false,
        "collapsed": false
      },
      "source": "Without CV statistic,to score get 0.5480 by SRK. And CV statistic get 0.5346 In fact ,you \nneed to turn down the learning rate and turn up run_num",
      "outputs": [],
      "execution_count": null,
      "execution_state": "idle"
    },
    {
      "cell_type": "code",
      "execution_count": null,
      "metadata": {
        "_cell_guid": "fe3cf8c4-1614-b843-df1c-2ef2b4fb0e80",
        "_active": false
      },
      "outputs": [],
      "source": "  cv_scores = []\nkf = model_selection.KFold(n_splits=5, shuffle=True, random_state=2016)\nfor dev_index, val_index in kf.split(range(train_X.shape[0])):\n        dev_X, val_X = train_X[dev_index,:], train_X[val_index,:]\n        dev_y, val_y = train_y[dev_index], train_y[val_index]\n        preds, model = runXGB(dev_X, dev_y, val_X, val_y)\n        cv_scores.append(log_loss(val_y, preds))\n        print(cv_scores)\n        break",
      "execution_state": "busy"
    },
    {
      "cell_type": "code",
      "execution_count": null,
      "metadata": {
        "_cell_guid": "51dd2c50-9ad1-7298-6412-c4a26ddbe3dd",
        "_active": true
      },
      "outputs": [],
      "source": "preds, model = runXGB(train_X, train_y, test_X, num_rounds=400)\nout_df = pd.DataFrame(preds)\nout_df.columns = [\"high\", \"medium\", \"low\"]\nout_df[\"listing_id\"] = test_df.listing_id.values\nout_df.to_csv(\"xgb_starter2.csv\", index=False)",
      "execution_state": "busy"
    },
    {
      "metadata": {
        "_cell_guid": "7d7d8057-e1bf-497c-5921-a72c4c4ca415",
        "_active": false,
        "collapsed": false
      },
      "source": "If you think it's help, give me a vote.If you have problem, you can write you question in the comment. I will replay for you soon.",
      "execution_count": null,
      "cell_type": "markdown",
      "outputs": [],
      "execution_state": "idle"
    }
  ]
}