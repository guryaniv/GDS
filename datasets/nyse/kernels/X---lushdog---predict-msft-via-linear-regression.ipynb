{
  "cells": [
    {
      "cell_type": "markdown",
      "metadata": {
        "_cell_guid": "e3595c6b-766e-2075-2fb4-60904d7ab6ec"
      },
      "source": [
        "Using rolling linear regression to predict MSFT closing prices"
      ]
    },
    {
      "cell_type": "code",
      "execution_count": null,
      "metadata": {
        "_cell_guid": "f1d7041c-cc98-fb64-e405-14cfeb845df3"
      },
      "outputs": [],
      "source": [
        "'''Predict stock market prices, make billions.'''\n",
        "\n",
        "# pylint: disable=invalid-name\n",
        "\n",
        "import numpy as np\n",
        "import pandas as pd\n",
        "import matplotlib.pyplot as plt\n",
        "\n",
        "# load data in numpy array\n",
        "STOCK_SYMBOL = 'MSFT'\n",
        "ALL_PRICES = pd.read_csv('../input/prices.csv')\n",
        "STOCK_PRICES = np.array(ALL_PRICES[ALL_PRICES['symbol'] == STOCK_SYMBOL])\n",
        "\n",
        "# csv column indexes\n",
        "DATE_COL = 0\n",
        "SYMBOL_COL = 1\n",
        "OPEN_COL = 2\n",
        "CLOSE_COL = 3\n",
        "LOW_COL = 4\n",
        "HIGH_COL = 5\n",
        "VOLUME_COL = 6\n",
        "\n",
        "# hyper-parameters\n",
        "WINDOW_SIZE = 20\n",
        "TRAINING_RATIO = 0.8"
      ]
    },
    {
      "cell_type": "code",
      "execution_count": null,
      "metadata": {
        "_cell_guid": "276d29e1-200a-3ff1-f872-21e3e8df3c2c"
      },
      "outputs": [],
      "source": [
        "def get_r_squared(actuals, predicted):\n",
        "    '''Calculate r_squared'''\n",
        "    d1 = actuals - predicted\n",
        "    d2 = actuals - actuals.mean()\n",
        "    r_2 = 1 - d1.dot(d1) / d2.dot(d2)\n",
        "    return r_2\n",
        "\n",
        "\n",
        "def convert_numpy_dates_to_panda(numpy_dates):\n",
        "    '''Convert numpy dates to pandas dates'''\n",
        "    pd_dates = []\n",
        "    for date in numpy_dates.flatten():\n",
        "        pd_dates.append(pd.Timestamp(date))\n",
        "    return pd_dates"
      ]
    },
    {
      "cell_type": "code",
      "execution_count": null,
      "metadata": {
        "_cell_guid": "a8f87389-557e-9f44-4b67-f1920de1cf63"
      },
      "outputs": [],
      "source": [
        "# X is matrix of features and bias term\n",
        "X = np.array(\n",
        "    STOCK_PRICES[WINDOW_SIZE:, [OPEN_COL, LOW_COL, HIGH_COL, VOLUME_COL]],\n",
        "    dtype='float'\n",
        ")\n",
        "X = np.concatenate((X, np.ones((len(X), 1))), axis=1)\n",
        "num_orig_cols = X.shape[1]\n",
        "\n",
        "\n",
        "# Y is matrix of actual output values\n",
        "Y = np.array(\n",
        "    STOCK_PRICES[WINDOW_SIZE:, CLOSE_COL],\n",
        "    dtype='float'\n",
        ")\n",
        "\n",
        "\n",
        "# Dates are not features but we want to save them for plotting later\n",
        "dates = np.array(\n",
        "    STOCK_PRICES[WINDOW_SIZE:, [DATE_COL]],\n",
        "    dtype='datetime64'\n",
        ")"
      ]
    },
    {
      "cell_type": "code",
      "execution_count": null,
      "metadata": {
        "_cell_guid": "b268cd72-dcae-54d3-714c-a7f355fd1517"
      },
      "outputs": [],
      "source": [
        "# Add previous closing prices to X for 'Rolling Window Linear Regression'\n",
        "X = np.concatenate(\n",
        "    (X, np.zeros((len(X), WINDOW_SIZE))),\n",
        "    axis=1\n",
        ")\n",
        "for row in range(len(X)):\n",
        "    for day in range(1, WINDOW_SIZE + 1):\n",
        "        col_offset = num_orig_cols - 1 + day\n",
        "        row_offset = WINDOW_SIZE + row - day\n",
        "        X[row, col_offset] = STOCK_PRICES[row_offset, CLOSE_COL]\n",
        "\n",
        "assert X.shape[1] == (WINDOW_SIZE + num_orig_cols)\n",
        "# pd.DataFrame(X).to_csv('X.csv')\n",
        "# pd.DataFrame(Y).to_csv('Y.csv')"
      ]
    },
    {
      "cell_type": "code",
      "execution_count": null,
      "metadata": {
        "_cell_guid": "80567d83-5f18-b437-b24d-840f2c270f5d"
      },
      "outputs": [],
      "source": [
        "# Create training and test sets\n",
        "train_indexes = np.random.choice(\n",
        "    len(X),\n",
        "    round(len(X) * TRAINING_RATIO),\n",
        "    replace=False\n",
        ")\n",
        "train_indexes.sort()\n",
        "train_indexes.tolist()\n",
        "\n",
        "test_indexes = list(range(len(X)))\n",
        "for value in train_indexes:\n",
        "    test_indexes.remove(value)\n",
        "\n",
        "assert len(train_indexes) + len(test_indexes) == len(X)\n",
        "for i, value in enumerate(train_indexes):\n",
        "    assert value not in test_indexes\n",
        "\n",
        "X_train = X[train_indexes]\n",
        "Y_train = Y[train_indexes]\n",
        "X_test = X[test_indexes]\n",
        "Y_test = Y[test_indexes]"
      ]
    },
    {
      "cell_type": "code",
      "execution_count": null,
      "metadata": {
        "_cell_guid": "6fcdd067-c046-7cbb-ee3c-bfc4a52b96df"
      },
      "outputs": [],
      "source": [
        "# Solve for w (weights) on training data\n",
        "w = np.linalg.solve(X_train.T.dot(X_train), X_train.T.dot(Y_train))\n",
        "Y_train_hat = X_train.dot(w)\n",
        "train_r_2 = get_r_squared(Y_train, Y_train_hat)\n",
        "print('r_squared of training set is:', train_r_2)\n",
        "\n",
        "train_dates = convert_numpy_dates_to_panda(dates[train_indexes])\n",
        "plt.title('Training set')\n",
        "plt.scatter(train_dates, Y_train)\n",
        "plt.plot(train_dates, Y_train_hat, color='red')\n",
        "plt.show()"
      ]
    },
    {
      "cell_type": "code",
      "execution_count": null,
      "metadata": {
        "_cell_guid": "6780d0dc-3813-d000-78b8-9a5d7233c630"
      },
      "outputs": [],
      "source": [
        "# Use w from training data to predict values in test data\n",
        "Y_test_hat = X_test.dot(w)\n",
        "test_r_2 = get_r_squared(Y_test, Y_test_hat)\n",
        "print('r_squared of test set is:', test_r_2)\n",
        "\n",
        "test_dates = convert_numpy_dates_to_panda(dates[test_indexes])\n",
        "plt.title('Testing set')\n",
        "plt.scatter(test_dates, Y_test)\n",
        "plt.plot(test_dates, Y_test_hat, color='red')\n",
        "plt.show()\n"
      ]
    }
  ],
  "metadata": {
    "_change_revision": 0,
    "_is_fork": false,
    "kernelspec": {
      "display_name": "Python 3",
      "language": "python",
      "name": "python3"
    },
    "language_info": {
      "codemirror_mode": {
        "name": "ipython",
        "version": 3
      },
      "file_extension": ".py",
      "mimetype": "text/x-python",
      "name": "python",
      "nbconvert_exporter": "python",
      "pygments_lexer": "ipython3",
      "version": "3.6.0"
    }
  },
  "nbformat": 4,
  "nbformat_minor": 0
}