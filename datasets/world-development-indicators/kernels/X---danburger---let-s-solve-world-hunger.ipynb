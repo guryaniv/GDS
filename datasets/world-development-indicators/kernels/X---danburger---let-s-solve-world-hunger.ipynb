{
  "cells": [
    {
      "cell_type": "code",
      "execution_count": null,
      "metadata": {
        "_cell_guid": "c8d21137-3c61-e1d5-ab69-de49b781477a"
      },
      "outputs": [],
      "source": [
        "# This Python 3 environment comes with many helpful analytics libraries installed\n",
        "# It is defined by the kaggle/python docker image: https://github.com/kaggle/docker-python\n",
        "# For example, here's several helpful packages to load in \n",
        "\n",
        "import numpy as np # linear algebra\n",
        "import pandas as pd # data processing, CSV file I/O (e.g. pd.read_csv)\n",
        "\n",
        "# Input data files are available in the \"../input/\" directory.\n",
        "# For example, running this (by clicking run or pressing Shift+Enter) will list the files in the input directory\n",
        "\n",
        "from subprocess import check_output\n",
        "print(check_output([\"ls\", \"../input\"]).decode(\"utf8\"))\n",
        "\n",
        "# Any results you write to the current directory are saved as output."
      ]
    },
    {
      "cell_type": "code",
      "execution_count": null,
      "metadata": {
        "_cell_guid": "b95283c0-940b-a2d3-12e7-50cc99c6f5a6"
      },
      "outputs": [],
      "source": [
        "a = pd.read_csv(\"../input/Indicators.csv\")"
      ]
    },
    {
      "cell_type": "code",
      "execution_count": null,
      "metadata": {
        "_cell_guid": "f151c742-5953-d64b-59b1-3b0b33cd7105"
      },
      "outputs": [],
      "source": [
        "a.tail()"
      ]
    },
    {
      "cell_type": "code",
      "execution_count": null,
      "metadata": {
        "_cell_guid": "7fda2c41-ede3-8d1b-08ee-406b5849e72e"
      },
      "outputs": [],
      "source": [
        "countries = pd.unique(a.CountryCode)\n",
        "countries"
      ]
    },
    {
      "cell_type": "code",
      "execution_count": null,
      "metadata": {
        "_cell_guid": "ab0557fa-8ec0-8b40-e79e-c3c550c0953c"
      },
      "outputs": [],
      "source": [
        "years = pd.unique(a.Year)\n",
        "years"
      ]
    },
    {
      "cell_type": "code",
      "execution_count": null,
      "metadata": {
        "_cell_guid": "441b071a-afb9-5a8c-73cb-efa66174c2bd"
      },
      "outputs": [],
      "source": [
        "cols = pd.unique(a.IndicatorCode)\n",
        "cols"
      ]
    },
    {
      "cell_type": "code",
      "execution_count": null,
      "metadata": {
        "_cell_guid": "9f9ed608-7ada-2545-4b6e-9f34994690ec"
      },
      "outputs": [],
      "source": [
        "descs = pd.unique(a.IndicatorName)\n",
        "descs"
      ]
    },
    {
      "cell_type": "code",
      "execution_count": null,
      "metadata": {
        "_cell_guid": "1198d466-aed0-0eeb-2636-5dfb16797b02"
      },
      "outputs": [],
      "source": [
        "a = a.set_index(['IndicatorCode','CountryCode','Year'],drop=True)\n",
        "del a['CountryName']\n",
        "del a['IndicatorName']"
      ]
    },
    {
      "cell_type": "code",
      "execution_count": null,
      "metadata": {
        "_cell_guid": "2d632a1c-137f-b84a-83da-e9e8a3db1060"
      },
      "outputs": [],
      "source": [
        "a.tail()"
      ]
    },
    {
      "cell_type": "code",
      "execution_count": null,
      "metadata": {
        "_cell_guid": "e39fd174-0417-24bb-454c-c75023655ac9"
      },
      "outputs": [],
      "source": [
        "def get_indicators(indicator):\n",
        "    result = []\n",
        "    for country in countries:\n",
        "        for year in years:\n",
        "            try:\n",
        "                get_value = a.get_value((indicator,country,year),'Value')\n",
        "                result.append(get_value)\n",
        "            except:\n",
        "                result.append(np.nan)\n",
        "    return np.array(result)"
      ]
    },
    {
      "cell_type": "code",
      "execution_count": null,
      "metadata": {
        "_cell_guid": "45576e46-f2f7-15d6-6d48-dd29af1cc0bd"
      },
      "outputs": [],
      "source": [
        "base = get_indicators(\"NY.GDP.PCAP.CD\")"
      ]
    },
    {
      "cell_type": "code",
      "execution_count": null,
      "metadata": {
        "_cell_guid": "772d54d9-4b47-8e18-3a76-66bc293807a9"
      },
      "outputs": [],
      "source": [
        "from scipy import stats\n",
        "def get_r_squared(indicator):\n",
        "    data = get_indicators(indicator)\n",
        "    mask = (~np.isnan(base)) & (~np.isnan(data))\n",
        "    if np.any(mask):\n",
        "        slope, intercept, r_value, p_value, std_err = stats.linregress(base[mask],data[mask])\n",
        "        return r_value**2 * (r_value >= 0 and 1 or -1)\n",
        "    else:\n",
        "        return np.nan"
      ]
    },
    {
      "cell_type": "code",
      "execution_count": null,
      "metadata": {
        "_cell_guid": "c6af47a3-2629-e3bb-bb8a-e4f65a1c1969"
      },
      "outputs": [],
      "source": [
        "result = []\n",
        "i = 0\n",
        "for c in cols:\n",
        "    i += 1\n",
        "    result.append(get_r_squared(c))\n",
        "    if i % 10 == 0:\n",
        "        print(i)"
      ]
    },
    {
      "cell_type": "code",
      "execution_count": null,
      "metadata": {
        "_cell_guid": "354a2491-52d3-f3b2-2a60-92b117d67ceb"
      },
      "outputs": [],
      "source": [
        "df = pd.DataFrame()\n",
        "df['cols'] = cols\n",
        "df['descs'] = descs\n",
        "df['vals'] = result\n",
        "df['mag'] = np.abs(result)\n",
        "df = df.sort_values(\"mag\",ascending=False)\n",
        "df"
      ]
    }
  ],
  "metadata": {
    "_change_revision": 0,
    "_is_fork": false,
    "kernelspec": {
      "display_name": "Python 3",
      "language": "python",
      "name": "python3"
    },
    "language_info": {
      "codemirror_mode": {
        "name": "ipython",
        "version": 3
      },
      "file_extension": ".py",
      "mimetype": "text/x-python",
      "name": "python",
      "nbconvert_exporter": "python",
      "pygments_lexer": "ipython3",
      "version": "3.5.2"
    }
  },
  "nbformat": 4,
  "nbformat_minor": 0
}