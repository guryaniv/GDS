{
  "cells": [
    {
      "cell_type": "markdown",
      "metadata": {
        "_cell_guid": "82402193-3e5c-b1f8-3be2-fd6f4797e448"
      },
      "source": [
        "Copied from popular exploration."
      ]
    },
    {
      "cell_type": "code",
      "execution_count": null,
      "metadata": {
        "_cell_guid": "ab3deb1b-aabd-7ca4-c25b-19bad380f0db"
      },
      "outputs": [],
      "source": [
        "# This Python 3 environment comes with many helpful analytics libraries installed\n",
        "# It is defined by the kaggle/python docker image: https://github.com/kaggle/docker-python\n",
        "# For example, here's several helpful packages to load in \n",
        "\n",
        "import numpy as np # linear algebra\n",
        "import pandas as pd # data processing, CSV file I/O (e.g. pd.read_csv)\n",
        "\n",
        "# Input data files are available in the \"../input/\" directory.\n",
        "# For example, running this (by clicking run or pressing Shift+Enter) will list the files in the input directory\n",
        "\n",
        "from subprocess import check_output\n",
        "print(check_output([\"ls\", \"../input\"]).decode(\"utf8\"))\n",
        "\n",
        "# Any results you write to the current directory are saved as output."
      ]
    },
    {
      "cell_type": "code",
      "execution_count": null,
      "metadata": {
        "_cell_guid": "ad911f6b-8118-806f-855b-b5daed1a0b43"
      },
      "outputs": [],
      "source": [
        "import numpy as np # linear algebra\n",
        "import pandas as pd # data processing, CSV file I/O (e.g. pd.read_csv)\n",
        "import matplotlib.pyplot as plt\n",
        "import seaborn as sns\n",
        "color = sns.color_palette()\n",
        "\n",
        "%matplotlib inline\n",
        "\n",
        "pd.options.mode.chained_assignment = None\n",
        "pd.options.display.max_columns = 999"
      ]
    },
    {
      "cell_type": "code",
      "execution_count": null,
      "metadata": {
        "_cell_guid": "50827aca-b30f-bed2-038c-4ba88b1caca5"
      },
      "outputs": [],
      "source": [
        "train_df = pd.read_csv(\"../input/train_2016.csv\", parse_dates=[\"transactiondate\"])\n",
        "train_df.shape"
      ]
    },
    {
      "cell_type": "code",
      "execution_count": null,
      "metadata": {
        "_cell_guid": "36596383-ef15-32a1-249b-e0c9b8582782"
      },
      "outputs": [],
      "source": [
        "plt.figure(figsize=(8,6))\n",
        "plt.scatter(range(train_df.shape[0]), np.sort(train_df.logerror.values))\n",
        "plt.xlabel('index', fontsize=12)\n",
        "plt.ylabel('logerror', fontsize=12)\n",
        "plt.show()"
      ]
    },
    {
      "cell_type": "code",
      "execution_count": null,
      "metadata": {
        "_cell_guid": "46238636-84d5-a5aa-6441-4851fc924814"
      },
      "outputs": [],
      "source": [
        "ulimit = np.percentile(train_df.logerror.values, 99)\n",
        "llimit = np.percentile(train_df.logerror.values, 1)\n",
        "train_df['logerror'].ix[train_df['logerror']>ulimit] = ulimit\n",
        "train_df['logerror'].ix[train_df['logerror']<llimit] = llimit\n",
        "\n",
        "plt.figure(figsize=(12,8))\n",
        "sns.distplot(train_df.logerror.values, bins=50, kde=False)\n",
        "plt.xlabel('logerror', fontsize=12)\n",
        "plt.show()"
      ]
    },
    {
      "cell_type": "code",
      "execution_count": null,
      "metadata": {
        "_cell_guid": "0571f83f-c6e4-ca5f-f0a1-93e619ede3c8"
      },
      "outputs": [],
      "source": [
        "train_df['transaction_month'] = train_df['transactiondate'].dt.month\n",
        "\n",
        "cnt_srs = train_df['transaction_month'].value_counts()\n",
        "plt.figure(figsize=(12,6))\n",
        "sns.barplot(cnt_srs.index, cnt_srs.values, alpha=0.8, color=color[3])\n",
        "plt.xticks(rotation='vertical')\n",
        "plt.xlabel('Month of transaction', fontsize=12)\n",
        "plt.ylabel('Number of Occurrences', fontsize=12)\n",
        "plt.show()"
      ]
    },
    {
      "cell_type": "code",
      "execution_count": null,
      "metadata": {
        "_cell_guid": "42790e88-dc02-23de-8921-82ade3920344"
      },
      "outputs": [],
      "source": [
        "(train_df['parcelid'].value_counts().reset_index())['parcelid'].value_counts()"
      ]
    },
    {
      "cell_type": "code",
      "execution_count": null,
      "metadata": {
        "_cell_guid": "9218f4b5-5b6b-7092-bb7a-cf0638e19a12"
      },
      "outputs": [],
      "source": [
        "prop_df = pd.read_csv(\"../input/properties_2016.csv\")\n",
        "prop_df.shape"
      ]
    },
    {
      "cell_type": "code",
      "execution_count": null,
      "metadata": {
        "_cell_guid": "5c85386f-83ad-e72e-64bc-2242cdadc844"
      },
      "outputs": [],
      "source": [
        "missing_df = prop_df.isnull().sum(axis=0).reset_index()\n",
        "missing_df.columns = ['column_name', 'missing_count']\n",
        "missing_df = missing_df.ix[missing_df['missing_count']>0]\n",
        "missing_df = missing_df.sort_values(by='missing_count')\n",
        "\n",
        "ind = np.arange(missing_df.shape[0])\n",
        "width = 0.9\n",
        "fig, ax = plt.subplots(figsize=(12,18))\n",
        "rects = ax.barh(ind, missing_df.missing_count.values, color='blue')\n",
        "ax.set_yticks(ind)\n",
        "ax.set_yticklabels(missing_df.column_name.values, rotation='horizontal')\n",
        "ax.set_xlabel(\"Count of missing values\")\n",
        "ax.set_title(\"Number of missing values in each column\")\n",
        "plt.show()"
      ]
    },
    {
      "cell_type": "code",
      "execution_count": null,
      "metadata": {
        "_cell_guid": "6d94817e-e1c4-4b3a-7465-178f8b9ed541"
      },
      "outputs": [],
      "source": [
        "plt.figure(figsize=(12,12))\n",
        "sns.jointplot(x=prop_df.latitude.values, y=prop_df.longitude.values, size=10)\n",
        "plt.ylabel('Longitude', fontsize=12)\n",
        "plt.xlabel('Latitude', fontsize=12)\n",
        "plt.show()"
      ]
    },
    {
      "cell_type": "code",
      "execution_count": null,
      "metadata": {
        "_cell_guid": "990bfc07-1f96-dd6a-7e32-cdad0a9ea50c"
      },
      "outputs": [],
      "source": [
        "train_df = pd.merge(train_df, prop_df, on='parcelid', how='left')\n",
        "train_df.head()"
      ]
    },
    {
      "cell_type": "code",
      "execution_count": null,
      "metadata": {
        "_cell_guid": "81d6ec0d-a854-3b1f-b2a4-95cec8e64fe4"
      },
      "outputs": [],
      "source": [
        "train_df['transaction_month'] = train_df['transactiondate'].dt.month\n",
        "\n",
        "cnt_srs = train_df['transaction_month'].value_counts()\n",
        "plt.figure(figsize=(12,6))\n",
        "sns.barplot(cnt_srs.index, cnt_srs.values, alpha=0.8, color=color[3])\n",
        "plt.xticks(rotation='vertical')\n",
        "plt.xlabel('Month of transaction', fontsize=12)\n",
        "plt.ylabel('Number of Occurrences', fontsize=12)\n",
        "plt.show()\n"
      ]
    },
    {
      "cell_type": "code",
      "execution_count": null,
      "metadata": {
        "_cell_guid": "7d82d061-a604-eea0-fd70-d6ee10d37c8a"
      },
      "outputs": [],
      "source": [
        "\n",
        "\n",
        "(train_df['parcelid'].value_counts().reset_index())['parcelid'].value_counts()\n",
        "\n"
      ]
    },
    {
      "cell_type": "code",
      "execution_count": null,
      "metadata": {
        "_cell_guid": "4c7c0356-d0a2-1d1b-62c2-18408f14f32e"
      },
      "outputs": [],
      "source": [
        "prop_df = pd.read_csv(\"../input/properties_2016.csv\")\n",
        "prop_df.shape"
      ]
    },
    {
      "cell_type": "code",
      "execution_count": null,
      "metadata": {
        "_cell_guid": "e9c43f9a-2d70-ef32-53aa-38fb70e858a0"
      },
      "outputs": [],
      "source": [
        "missing_df = prop_df.isnull().sum(axis=0).reset_index()\n",
        "missing_df.columns = ['column_name', 'missing_count']\n",
        "missing_df = missing_df.ix[missing_df['missing_count']>0]\n",
        "missing_df = missing_df.sort_values(by='missing_count')\n",
        "\n",
        "ind = np.arange(missing_df.shape[0])\n",
        "width = 0.9\n",
        "fig, ax = plt.subplots(figsize=(12,18))\n",
        "rects = ax.barh(ind, missing_df.missing_count.values, color='blue')\n",
        "ax.set_yticks(ind)\n",
        "ax.set_yticklabels(missing_df.column_name.values, rotation='horizontal')\n",
        "ax.set_xlabel(\"Count of missing values\")\n",
        "ax.set_title(\"Number of missing values in each column\")\n",
        "plt.show()\n",
        "\n"
      ]
    },
    {
      "cell_type": "code",
      "execution_count": null,
      "metadata": {
        "_cell_guid": "4be20839-19c6-e14d-bd45-7ff44d78d23c"
      },
      "outputs": [],
      "source": [
        "plt.figure(figsize=(12,12))\n",
        "sns.jointplot(x=prop_df.latitude.values, y=prop_df.longitude.values, size=10)\n",
        "plt.ylabel('Longitude', fontsize=12)\n",
        "plt.xlabel('Latitude', fontsize=12)\n",
        "plt.show()"
      ]
    },
    {
      "cell_type": "code",
      "execution_count": null,
      "metadata": {
        "_cell_guid": "ac4d5dd4-2fce-5945-f51d-0278cc216e2d"
      },
      "outputs": [],
      "source": [
        "train_df = pd.merge(train_df, prop_df, on='parcelid', how='left')\n",
        "train_df.head()"
      ]
    },
    {
      "cell_type": "code",
      "execution_count": null,
      "metadata": {
        "_cell_guid": "55f6c3cf-6e37-dac1-c7d5-d582b1e24df3"
      },
      "outputs": [],
      "source": [
        "pd.options.display.max_rows = 65\n",
        "\n",
        "dtype_df = train_df.dtypes.reset_index()\n",
        "dtype_df.columns = [\"Count\", \"Column Type\"]\n",
        "dtype_df"
      ]
    },
    {
      "cell_type": "code",
      "execution_count": null,
      "metadata": {
        "_cell_guid": "c1981443-40a6-33a5-7d38-13527b555793"
      },
      "outputs": [],
      "source": [
        "dtype_df.groupby(\"Column Type\").aggregate('count').reset_index()"
      ]
    },
    {
      "cell_type": "code",
      "execution_count": null,
      "metadata": {
        "_cell_guid": "e9c192cb-f480-7511-a530-b12ca3e6661a"
      },
      "outputs": [],
      "source": [
        "missing_df = train_df.isnull().sum(axis=0).reset_index()\n",
        "missing_df.columns = ['column_name', 'missing_count']\n",
        "missing_df['missing_ratio'] = missing_df['missing_count'] / train_df.shape[0]\n",
        "missing_df.ix[missing_df['missing_ratio']>0.999]\n"
      ]
    },
    {
      "cell_type": "code",
      "execution_count": null,
      "metadata": {
        "_cell_guid": "516fd5c3-2ee0-f73c-4ffb-3d1676bf6448"
      },
      "outputs": [],
      "source": [
        "# Let us just impute the missing values with mean values to compute correlation coefficients #\n",
        "mean_values = train_df.mean(axis=0)\n",
        "train_df_new = train_df.fillna(mean_values, inplace=True)\n",
        "\n",
        "# Now let us look at the correlation coefficient of each of these variables #\n",
        "x_cols = [col for col in train_df_new.columns if col not in ['logerror'] if train_df_new[col].dtype=='float64']\n",
        "\n",
        "labels = []\n",
        "values = []\n",
        "for col in x_cols:\n",
        "    labels.append(col)\n",
        "    values.append(np.corrcoef(train_df_new[col].values, train_df_new.logerror.values)[0,1])\n",
        "corr_df = pd.DataFrame({'col_labels':labels, 'corr_values':values})\n",
        "corr_df = corr_df.sort_values(by='corr_values')\n",
        "    \n",
        "ind = np.arange(len(labels))\n",
        "width = 0.9\n",
        "fig, ax = plt.subplots(figsize=(12,40))\n",
        "rects = ax.barh(ind, np.array(corr_df.corr_values.values), color='y')\n",
        "ax.set_yticks(ind)\n",
        "ax.set_yticklabels(corr_df.col_labels.values, rotation='horizontal')\n",
        "ax.set_xlabel(\"Correlation coefficient\")\n",
        "ax.set_title(\"Correlation coefficient of the variables\")\n",
        "#autolabel(rects)\n",
        "plt.show()\n",
        "\n"
      ]
    },
    {
      "cell_type": "code",
      "execution_count": null,
      "metadata": {
        "_cell_guid": "0243ba6d-a286-b9c2-996a-c9105fa1e0f9"
      },
      "outputs": [],
      "source": [
        "corr_zero_cols = ['assessmentyear', 'storytypeid', 'pooltypeid2', 'pooltypeid7', 'pooltypeid10', 'poolcnt', 'decktypeid', 'buildingclasstypeid']\n",
        "for col in corr_zero_cols:\n",
        "    print(col, len(train_df_new[col].unique()))"
      ]
    },
    {
      "cell_type": "code",
      "execution_count": null,
      "metadata": {
        "_cell_guid": "2bac1b5e-73ed-d19b-95fb-a6ee042968f4"
      },
      "outputs": [],
      "source": [
        "corr_df_sel = corr_df.ix[(corr_df['corr_values']>0.02) | (corr_df['corr_values'] < -0.01)]\n",
        "corr_df_sel"
      ]
    },
    {
      "cell_type": "code",
      "execution_count": null,
      "metadata": {
        "_cell_guid": "f0f919bc-1928-be2b-5b78-56cb26208f85"
      },
      "outputs": [],
      "source": [
        "cols_to_use = corr_df_sel.col_labels.tolist()\n",
        "\n",
        "temp_df = train_df[cols_to_use]\n",
        "corrmat = temp_df.corr(method='spearman')\n",
        "f, ax = plt.subplots(figsize=(8, 8))\n",
        "\n",
        "# Draw the heatmap using seaborn\n",
        "sns.heatmap(corrmat, vmax=1., square=True)\n",
        "plt.title(\"Important variables correlation map\", fontsize=15)\n",
        "plt.show()"
      ]
    },
    {
      "cell_type": "code",
      "execution_count": null,
      "metadata": {
        "_cell_guid": "4489b14c-18c6-359e-e4ae-adc741eeddf0"
      },
      "outputs": [],
      "source": [
        "col = \"finishedsquarefeet12\"\n",
        "ulimit = np.percentile(train_df[col].values, 99.5)\n",
        "llimit = np.percentile(train_df[col].values, 0.5)\n",
        "train_df[col].ix[train_df[col]>ulimit] = ulimit\n",
        "train_df[col].ix[train_df[col]<llimit] = llimit\n",
        "\n",
        "plt.figure(figsize=(12,12))\n",
        "sns.jointplot(x=train_df.finishedsquarefeet12.values, y=train_df.logerror.values, size=10, color=color[4])\n",
        "plt.ylabel('Log Error', fontsize=12)\n",
        "plt.xlabel('Finished Square Feet 12', fontsize=12)\n",
        "plt.title(\"Finished square feet 12 Vs Log error\", fontsize=15)\n",
        "plt.show()\n"
      ]
    },
    {
      "cell_type": "code",
      "execution_count": null,
      "metadata": {
        "_cell_guid": "a6294d64-f6f4-e1fe-822f-40382c3d86ed"
      },
      "outputs": [],
      "source": [
        "col = \"calculatedfinishedsquarefeet\"\n",
        "ulimit = np.percentile(train_df[col].values, 99.5)\n",
        "llimit = np.percentile(train_df[col].values, 0.5)\n",
        "train_df[col].ix[train_df[col]>ulimit] = ulimit\n",
        "train_df[col].ix[train_df[col]<llimit] = llimit\n",
        "\n",
        "plt.figure(figsize=(12,12))\n",
        "sns.jointplot(x=train_df.calculatedfinishedsquarefeet.values, y=train_df.logerror.values, size=10, color=color[5])\n",
        "plt.ylabel('Log Error', fontsize=12)\n",
        "plt.xlabel('Calculated finished square feet', fontsize=12)\n",
        "plt.title(\"Calculated finished square feet Vs Log error\", fontsize=15)\n",
        "plt.show()"
      ]
    },
    {
      "cell_type": "code",
      "execution_count": null,
      "metadata": {
        "_cell_guid": "32282b9d-080e-b545-3110-7dd1a0c66bb7"
      },
      "outputs": [],
      "source": [
        "plt.figure(figsize=(12,8))\n",
        "sns.countplot(x=\"bathroomcnt\", data=train_df)\n",
        "plt.ylabel('Count', fontsize=12)\n",
        "plt.xlabel('Bathroom', fontsize=12)\n",
        "plt.xticks(rotation='vertical')\n",
        "plt.title(\"Frequency of Bathroom count\", fontsize=15)\n",
        "plt.show()"
      ]
    },
    {
      "cell_type": "code",
      "execution_count": null,
      "metadata": {
        "_cell_guid": "02730a1f-4f9a-02a0-a5c6-5c0b94adaab6"
      },
      "outputs": [],
      "source": [
        "plt.figure(figsize=(12,8))\n",
        "sns.boxplot(x=\"bathroomcnt\", y=\"logerror\", data=train_df)\n",
        "plt.ylabel('Log error', fontsize=12)\n",
        "plt.xlabel('Bathroom Count', fontsize=12)\n",
        "plt.xticks(rotation='vertical')\n",
        "plt.title(\"How log error changes with bathroom count?\", fontsize=15)\n",
        "plt.show()"
      ]
    },
    {
      "cell_type": "code",
      "execution_count": null,
      "metadata": {
        "_cell_guid": "869cc2f6-fd04-c407-6765-21cde00130b6"
      },
      "outputs": [],
      "source": [
        "plt.figure(figsize=(12,8))\n",
        "sns.countplot(x=\"bedroomcnt\", data=train_df)\n",
        "plt.ylabel('Frequency', fontsize=12)\n",
        "plt.xlabel('Bedroom Count', fontsize=12)\n",
        "plt.xticks(rotation='vertical')\n",
        "plt.title(\"Frequency of Bedroom count\", fontsize=15)\n",
        "plt.show()"
      ]
    },
    {
      "cell_type": "code",
      "execution_count": null,
      "metadata": {
        "_cell_guid": "91cb94d3-0553-92be-4d63-580d7cef83ab"
      },
      "outputs": [],
      "source": [
        "train_df['bedroomcnt'].ix[train_df['bedroomcnt']>7] = 7\n",
        "plt.figure(figsize=(12,8))\n",
        "sns.violinplot(x='bedroomcnt', y='logerror', data=train_df)\n",
        "plt.xlabel('Bedroom count', fontsize=12)\n",
        "plt.ylabel('Log Error', fontsize=12)\n",
        "plt.show()\n"
      ]
    },
    {
      "cell_type": "code",
      "execution_count": null,
      "metadata": {
        "_cell_guid": "8ab643a4-fba6-5f47-5b73-bde7394c2d7e"
      },
      "outputs": [],
      "source": [
        "col = \"taxamount\"\n",
        "ulimit = np.percentile(train_df[col].values, 99.5)\n",
        "llimit = np.percentile(train_df[col].values, 0.5)\n",
        "train_df[col].ix[train_df[col]>ulimit] = ulimit\n",
        "train_df[col].ix[train_df[col]<llimit] = llimit\n",
        "\n",
        "plt.figure(figsize=(12,12))\n",
        "sns.jointplot(x=train_df['taxamount'].values, y=train_df['logerror'].values, size=10, color='g')\n",
        "plt.ylabel('Log Error', fontsize=12)\n",
        "plt.xlabel('Tax Amount', fontsize=12)\n",
        "plt.title(\"Tax Amount Vs Log error\", fontsize=15)\n",
        "plt.show()"
      ]
    },
    {
      "cell_type": "code",
      "execution_count": null,
      "metadata": {
        "_cell_guid": "cacaf83c-af93-f8ae-fc3b-0216f526a420"
      },
      "outputs": [],
      "source": [
        "from ggplot import *\n",
        "ggplot(aes(x='yearbuilt', y='logerror'), data=train_df) + \\\n",
        "    geom_point(color='steelblue', size=1) + \\\n",
        "    stat_smooth()"
      ]
    },
    {
      "cell_type": "code",
      "execution_count": null,
      "metadata": {
        "_cell_guid": "1e29cd12-cafa-0c0d-9ff8-e574e7992c10"
      },
      "outputs": [],
      "source": [
        "ggplot(aes(x='latitude', y='longitude', color='logerror'), data=train_df) + \\\n",
        "    geom_point() + \\\n",
        "    scale_color_gradient(low = 'red', high = 'blue')"
      ]
    },
    {
      "cell_type": "code",
      "execution_count": null,
      "metadata": {
        "_cell_guid": "e80df50e-11e7-845d-932e-665a271886b9"
      },
      "outputs": [],
      "source": [
        "ggplot(aes(x='finishedsquarefeet12', y='taxamount', color='logerror'), data=train_df) + \\\n",
        "    geom_point(alpha=0.7) + \\\n",
        "    scale_color_gradient(low = 'pink', high = 'blue')"
      ]
    },
    {
      "cell_type": "code",
      "execution_count": null,
      "metadata": {
        "_cell_guid": "18eed0f7-ccc4-1546-201b-5a04029580ac"
      },
      "outputs": [],
      "source": [
        "ggplot(aes(x='finishedsquarefeet12', y='taxamount', color='logerror'), data=train_df) + \\\n",
        "    geom_now_its_art()"
      ]
    },
    {
      "cell_type": "code",
      "execution_count": null,
      "metadata": {
        "_cell_guid": "ef811c1b-bc73-768f-3587-08070f0035a0"
      },
      "outputs": [],
      "source": [
        "train_y = train_df['logerror'].values\n",
        "cat_cols = [\"hashottuborspa\", \"propertycountylandusecode\", \"propertyzoningdesc\", \"fireplaceflag\", \"taxdelinquencyflag\"]\n",
        "train_df = train_df.drop(['parcelid', 'logerror', 'transactiondate', 'transaction_month']+cat_cols, axis=1)\n",
        "feat_names = train_df.columns.values\n",
        "\n",
        "from sklearn import ensemble\n",
        "model = ensemble.ExtraTreesRegressor(n_estimators=25, max_depth=30, max_features=0.3, n_jobs=-1, random_state=0)\n",
        "model.fit(train_df, train_y)\n",
        "\n",
        "## plot the importances ##\n",
        "importances = model.feature_importances_\n",
        "std = np.std([tree.feature_importances_ for tree in model.estimators_], axis=0)\n",
        "indices = np.argsort(importances)[::-1][:20]\n",
        "\n",
        "plt.figure(figsize=(12,12))\n",
        "plt.title(\"Feature importances\")\n",
        "plt.bar(range(len(indices)), importances[indices], color=\"r\", yerr=std[indices], align=\"center\")\n",
        "plt.xticks(range(len(indices)), feat_names[indices], rotation='vertical')\n",
        "plt.xlim([-1, len(indices)])\n",
        "plt.show()"
      ]
    },
    {
      "cell_type": "code",
      "execution_count": null,
      "metadata": {
        "_cell_guid": "a6f3436d-972e-5f43-f5bf-b4ae0329d873"
      },
      "outputs": [],
      "source": ""
    }
  ],
  "metadata": {
    "_change_revision": 0,
    "_is_fork": false,
    "kernelspec": {
      "display_name": "Python 3",
      "language": "python",
      "name": "python3"
    },
    "language_info": {
      "codemirror_mode": {
        "name": "ipython",
        "version": 3
      },
      "file_extension": ".py",
      "mimetype": "text/x-python",
      "name": "python",
      "nbconvert_exporter": "python",
      "pygments_lexer": "ipython3",
      "version": "3.6.0"
    }
  },
  "nbformat": 4,
  "nbformat_minor": 0
}