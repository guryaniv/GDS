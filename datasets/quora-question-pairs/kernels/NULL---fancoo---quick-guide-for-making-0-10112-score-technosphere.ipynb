{
  "cells": [
    {
      "cell_type": "markdown",
      "metadata": {
        "_cell_guid": "b19123da-a12a-7cad-43e2-e8f93d9d18c5"
      },
      "source": [
        "<h1>Quora Question Pairs.</h1>\n",
        "<h1>Quick guide for making 0.10112 score.</h1>"
      ]
    },
    {
      "cell_type": "code",
      "execution_count": null,
      "metadata": {
        "_cell_guid": "60630bab-84d4-7a87-6a1f-b7f0dcaadbce"
      },
      "outputs": [],
      "source": [
        "import pandas as pd\n",
        "import numpy as np\n",
        "import seaborn as sns\n",
        "import matplotlib.pyplot as plt\n",
        "from sklearn import linear_model\n",
        "%matplotlib inline\n",
        "\n",
        "from subprocess import check_output\n",
        "print(check_output([\"ls\", \"../input\"]).decode(\"utf8\"))"
      ]
    },
    {
      "cell_type": "code",
      "execution_count": null,
      "metadata": {
        "_cell_guid": "38c276be-43f9-5ba8-fa52-0bd43f8e7f17"
      },
      "outputs": [],
      "source": [
        "train = pd.read_csv('../input/train.csv').fillna(\" \")\n",
        "train = train.dropna(how=\"any\").reset_index(drop=True)"
      ]
    },
    {
      "cell_type": "code",
      "execution_count": null,
      "metadata": {
        "_cell_guid": "598242d8-bb54-845b-eeec-90a108764666"
      },
      "outputs": [],
      "source": [
        "train.head()"
      ]
    },
    {
      "cell_type": "markdown",
      "metadata": {
        "_cell_guid": "e64ace74-97f8-fc17-2cbc-8357c58f355d"
      },
      "source": [
        "\u041f\u043e\u0441\u043c\u043e\u0442\u0440\u0438\u043c \u0441\u043a\u043e\u043b\u044c\u043a\u043e \u0434\u0443\u0431\u043b\u0438\u043a\u0430\u0442\u043e\u0432:"
      ]
    },
    {
      "cell_type": "code",
      "execution_count": null,
      "metadata": {
        "_cell_guid": "d72486bc-c95c-8ecf-5d27-ec9cac6ccf34"
      },
      "outputs": [],
      "source": [
        "train.groupby(\"is_duplicate\")['id'].count().plot.bar()"
      ]
    },
    {
      "cell_type": "markdown",
      "metadata": {
        "_cell_guid": "4bddcb97-8171-3d15-a4ab-0d715da7c1ba"
      },
      "source": [
        "\u0414\u043b\u044f \u0432\u044b\u0434\u0435\u043b\u0435\u043d\u0438\u044f \u043f\u0440\u0438\u0437\u043d\u0430\u043a\u043e\u0432 \u0438\u0437 \u043f\u0440\u0435\u0434\u043b\u043e\u0436\u0435\u043d\u0438\u0439 \u0432\u043e\u0441\u043f\u043e\u043b\u044c\u0437\u0443\u0435\u043c\u0441\u044f CountVectorizer"
      ]
    },
    {
      "cell_type": "code",
      "execution_count": null,
      "metadata": {
        "_cell_guid": "0c59db78-45c3-0582-931b-e541c912fcfc"
      },
      "outputs": [],
      "source": [
        "from sklearn.feature_extraction.text import CountVectorizer"
      ]
    },
    {
      "cell_type": "code",
      "execution_count": null,
      "metadata": {
        "_cell_guid": "b07eaf93-b026-c81d-a891-6beb394abf8a"
      },
      "outputs": [],
      "source": [
        "Bag = CountVectorizer(max_df=0.999, min_df=50, max_features=300, \n",
        "                                      analyzer='char', ngram_range=(1,2), \n",
        "                                      binary=True, lowercase=True)"
      ]
    },
    {
      "cell_type": "markdown",
      "metadata": {
        "_cell_guid": "f03ececb-ac58-5ad7-3860-1d5ca52f6e9a"
      },
      "source": [
        "\u0424\u0438\u043d\u0430\u043b\u044c\u043d\u044b\u0439 score \u0437\u0430\u0432\u0438\u0441\u0438\u0442 \u043e\u0442 max_features \u0438 ngram_range\n",
        "-----------------------------------------------------\n",
        "\n",
        "[\u0414\u043b\u044f \u043f\u043e\u043b\u0443\u0447\u0435\u043d\u0438\u044f score = 0.31675][1]  \u043d\u0443\u0436\u043d\u043e \u0438\u0441\u043f\u043e\u043b\u044c\u0437\u043e\u0432\u0430\u0442\u044c \u0441\u043b\u0435\u0434\u0443\u044e\u0449\u0435\u0435 \u043f\u0430\u0440\u0430\u043c\u0435\u0442\u0440\u044b: \n",
        "\n",
        " - max_features = 300000\n",
        " - min_df = 50\n",
        " - ngram_range = (1,10)\n",
        "\n",
        "\u0422\u043e \u0435\u0441\u0442\u044c, \u0435\u0441\u043b\u0438 \u0437\u0430\u0434\u0430\u0442\u044c max_features = 10^10, \u043c\u043e\u0436\u043d\u043e \u043f\u043e\u043b\u0443\u0447\u0438\u0442\u044c \u0436\u0435\u043b\u0430\u0435\u043c\u043e\u0435 \u043f\u0435\u0440\u0432\u043e\u0435 \u043c\u0435\u0441\u0442\u043e \u0438 score = 0.10112, \u0432\u0441\u0435 \u0437\u0430\u0432\u0438\u0441\u0438\u0442 \u043e\u0442 \u043c\u043e\u0449\u043d\u043e\u0441\u0442\u0438 \u043a\u043e\u043c\u043f\u044c\u044e\u0442\u0435\u0440\u0430. \n",
        "\n",
        "  [1]: https://www.kaggle.com/selfishgene/shallow-benchmark-0-31675-lb?scriptVersionId=1117887"
      ]
    },
    {
      "cell_type": "code",
      "execution_count": null,
      "metadata": {
        "_cell_guid": "bb0315c2-9a7a-80af-5504-b5b944d9a3b8"
      },
      "outputs": [],
      "source": [
        "Bag.fit(pd.concat((train.question1,train.question2)).unique())"
      ]
    },
    {
      "cell_type": "code",
      "execution_count": null,
      "metadata": {
        "_cell_guid": "074342ad-60d3-cd6b-bbc3-f59cb9231e19"
      },
      "outputs": [],
      "source": [
        "question1 = Bag.transform(train['question1'])\n",
        "question2 = Bag.transform(train['question2'])"
      ]
    },
    {
      "cell_type": "code",
      "execution_count": null,
      "metadata": {
        "_cell_guid": "173d1d96-5bca-2c03-7f04-bddaf382656e"
      },
      "outputs": [],
      "source": [
        "X = -(question1 != question2).astype(int)\n",
        "y = train['is_duplicate'].values"
      ]
    },
    {
      "cell_type": "markdown",
      "metadata": {
        "_cell_guid": "9b7fa771-c3fa-2ecc-144c-b4b7f4d00de1"
      },
      "source": [
        "\u0421\u043b\u0435\u0434\u0443\u0435\u0442 \u0437\u0430\u043c\u0435\u0442\u0438\u0442\u044c, \u0447\u0442\u043e X \u043f\u0440\u0438\u043d\u0438\u043c\u0430\u0435\u0442 \u0441\u043b\u0435\u0434\u0443\u044e\u0449\u0438\u0435 \u0437\u043d\u0430\u0447\u0435\u043d\u0438\u044f:\n",
        "\n",
        " - 0, \u0435\u0441\u043b\u0438 \u043a\u043e\u043d\u043a\u0440\u0435\u0442\u043d\u0430\u044f \u043f\u043e\u0441\u043b\u0435\u0434\u043e\u0432\u0430\u0442\u0435\u043b\u044c\u043d\u043e\u0441\u0442\u044c \u0431\u0443\u043a\u0432 \u043f\u0440\u0438\u0441\u0443\u0442\u0441\u0442\u0432\u0443\u0435\u0442 \u0432 \u043e\u0431\u043e\u0438\u0445 \u0432\u043e\u043f\u0440\u043e\u0441\u0430\u0445.\n",
        " - -1, \u0435\u0441\u043b\u0438 \u043a\u043e\u043d\u043a\u0440\u0435\u0442\u043d\u0430\u044f \u043f\u043e\u0441\u043b\u0435\u0434\u043e\u0432\u0430\u0442\u0435\u043b\u044c\u043d\u043e\u0441\u0442\u044c \u0431\u0443\u043a\u0432 \u043f\u0440\u0438\u0441\u0443\u0442\u0441\u0442\u0432\u0443\u0435\u0442 \u0432 \u043e\u0434\u043d\u043e\u043c \u0432\u043e\u043f\u0440\u043e\u0441\u0435, \u043d\u043e \u043d\u0435 \u043f\u0440\u0438\u0441\u0443\u0442\u0441\u0442\u0432\u0443\u0435\u0442 \u0432 \u0434\u0440\u0443\u0433\u043e\u043c."
      ]
    },
    {
      "cell_type": "markdown",
      "metadata": {
        "_cell_guid": "3ce305ad-dee2-f656-9d4d-3bffaa920430"
      },
      "source": [
        "<center><h3>\u041f\u0440\u0438\u043c\u0435\u043d\u0438\u043c \u043b\u043e\u0433\u0438\u0441\u0442\u0438\u0447\u0435\u0441\u043a\u0443\u044e \u0440\u0435\u0433\u0440\u0435\u0441\u0441\u0438\u044e</h3></center>"
      ]
    },
    {
      "cell_type": "code",
      "execution_count": null,
      "metadata": {
        "_cell_guid": "fbe0d1d4-5f0c-9e40-2d2b-05fa08985e57"
      },
      "outputs": [],
      "source": [
        "logisticRegressor = linear_model.LogisticRegression(C=0.1, solver='sag', \n",
        "                                                    class_weight={1: 0.472008228977, 0: 1.30905513329})\n",
        "logisticRegressor.fit(X, y)"
      ]
    },
    {
      "cell_type": "markdown",
      "metadata": {
        "_cell_guid": "126f9ddc-67e4-e51d-5dcd-a44d708ce6e2"
      },
      "source": [
        "\u0421\u0442\u043e\u0438\u0442 \u0437\u0430\u043c\u0435\u0442\u0438\u0442\u044c: class_weight \u043f\u0440\u0438\u043d\u0438\u043c\u0430\u0435\u0442 \u0437\u043d\u0430\u0447\u0435\u043d\u0438\u044f {0.472008228977,  1.30905513329} \u043f\u043e \u0441\u043b\u0435\u0434\u0443\u044e\u0449\u0438\u043c \u043f\u0440\u0438\u0447\u0438\u043d\u0430\u043c. \n",
        "\n",
        "\n",
        "\u041e\u043a\u0430\u0437\u044b\u0432\u0430\u0435\u0442\u0441\u044f, \u0447\u0442\u043e \u0440\u0430\u0441\u043f\u0440\u0435\u0434\u0435\u043b\u0435\u043d\u0438\u0435 \u043c\u0435\u0442\u043e\u043a \u043d\u0430 \u0442\u0440\u0435\u0439\u043d\u0435 \u0438 \u0442\u0435\u0441\u0442\u0435 \u0440\u0430\u0437\u043d\u043e\u0435, \u0442\u043e \u0435\u0441\u0442\u044c  \u0440\u0430\u0441\u043f\u0440\u0435\u0434\u0435\u043b\u0435\u043d\u0438\u0435 \u043c\u0435\u0442\u043e\u043a \u043d\u0430 \u0442\u0435\u0441\u0442\u0435 \u043f\u0440\u043e\u0441\u0442\u043e \u0441\u043a\u043e\u0448\u0435\u043d\u043e.  \u0410 \u043f\u0440\u043e\u0433\u043d\u043e\u0437 \u043c\u043e\u0434\u0435\u043b\u0438 \u0441\u043b\u0435\u0434\u0443\u0435\u0442 \u0434\u0435\u043b\u0430\u0442\u044c \u043f\u043e \u0441\u043b\u0435\u0434\u0443\u044e\u0449\u0435\u0439 \u0444\u043e\u0440\u043c\u0443\u043b\u0435: \n",
        "\n",
        "$$f(x) = \\frac{\\gamma_1 x}{\\gamma_1 x + \\gamma_0 (1-x)},$$\n",
        "\n",
        "\u0433\u0434\u0435 $$\\gamma_0 = 1.30905513329, \\gamma_1 = 0.472008228977.$$ \n",
        "\n",
        "\u0418 \u0433\u0440\u0430\u0444\u0438\u043a \u044d\u0442\u043e\u0439 \u0444\u0443\u043d\u043a\u0446\u0438\u0438 \u0432\u044b\u0433\u043b\u044f\u0434\u0438\u0442 \u0441\u043b\u0435\u0434\u0443\u044e\u0449\u0438\u043c \u043e\u0431\u0440\u0430\u0437\u043e\u043c: "
      ]
    },
    {
      "cell_type": "code",
      "execution_count": null,
      "metadata": {
        "_cell_guid": "1736fdc0-316d-26dc-dd09-844b1f63e05b"
      },
      "outputs": [],
      "source": [
        "gamma_0 = 1.30905513329\n",
        "gamma_1 = 0.472008228977\n",
        "def link_function(x):\n",
        "    return gamma_1*x/(gamma_1*x + gamma_0*(1 - x))\n",
        "\n",
        "support = np.linspace(0, 1, 1000)\n",
        "values = link_function(support)\n",
        "\n",
        "fig, ax = plt.subplots()\n",
        "ax.plot(support, values)\n",
        "ax.set_title('Link transformation', fontsize=20)\n",
        "ax.set_xlabel('x')\n",
        "ax.set_ylabel('f(x)')\n",
        "plt.show()"
      ]
    },
    {
      "cell_type": "markdown",
      "metadata": {
        "_cell_guid": "c4c3d799-9b75-fb9b-aed1-818e20613e3a"
      },
      "source": [
        "<h3>\u041f\u0440\u0438\u043c\u0435\u043d\u044f\u044e \u043a \u0442\u0435\u0441\u0442\u043e\u0432\u043e\u0439 \u0432\u044b\u0431\u043e\u0440\u043a\u0435</h3>"
      ]
    },
    {
      "cell_type": "code",
      "execution_count": null,
      "metadata": {
        "_cell_guid": "f7aabf09-fec0-dadd-7111-76172767ecef"
      },
      "outputs": [],
      "source": [
        "test = pd.read_csv('../input/test.csv')\n",
        "test.ix[test['question1'].isnull(),['question1','question2']] = ' '\n",
        "test.ix[test['question2'].isnull(),['question1','question2']] = ' '"
      ]
    },
    {
      "cell_type": "code",
      "execution_count": null,
      "metadata": {
        "_cell_guid": "4d5dfa3d-771e-a33d-171c-00763d6e074a"
      },
      "outputs": [],
      "source": [
        "%%time\n",
        "test.ix[test['question1'].isnull(),['question1','question2']] = ' '\n",
        "test.ix[test['question2'].isnull(),['question1','question2']] = ' '\n",
        "\n",
        "Question1 = Bag.transform(test['question1'])\n",
        "Question2 = Bag.transform(test['question2'])\n",
        "\n",
        "X_test = -(Question1 != Question2).astype(int)\n",
        "\n",
        "seperators= [750000,1500000]\n",
        "testPredictions1 = logisticRegressor.predict_proba(X_test[:seperators[0],:])[:,1]\n",
        "testPredictions2 = logisticRegressor.predict_proba(X_test[seperators[0]:seperators[1],:])[:,1]\n",
        "testPredictions3 = logisticRegressor.predict_proba(X_test[seperators[1]:,:])[:,1]\n",
        "testPredictions = np.hstack((testPredictions1,testPredictions2,testPredictions3))"
      ]
    },
    {
      "cell_type": "markdown",
      "metadata": {
        "_cell_guid": "d7210fbe-81b4-68e9-1215-d413c9ab6abb"
      },
      "source": [
        "<center><h3>\u0414\u0435\u043b\u0430\u0435\u043c \u0441\u0430\u0431\u043c\u0438\u0442</h3></center>"
      ]
    },
    {
      "cell_type": "code",
      "execution_count": null,
      "metadata": {
        "_cell_guid": "0176fe62-a58c-93f0-4461-eb7feb827151"
      },
      "outputs": [],
      "source": [
        "submissionName = 'quora_submission'\n",
        "\n",
        "submission = pd.DataFrame()\n",
        "submission['test_id'] = test['test_id']\n",
        "submission['is_duplicate'] = testPredictions\n",
        "submission.to_csv(submissionName + '.csv', index=False)"
      ]
    },
    {
      "cell_type": "markdown",
      "metadata": {
        "_cell_guid": "aea97a93-1179-ca7f-0e17-b693df8c5164"
      },
      "source": [
        "\u0418\u0442\u043e\u0433: \u043c\u043e\u0436\u043d\u043e \u0431\u0435\u0441\u043a\u043e\u043d\u0435\u0447\u043d\u043e \u0443\u0432\u0435\u043b\u0438\u0447\u0438\u0432\u0430\u0442\u044c max_features, \u043e\u0433\u0440\u0430\u043d\u0438\u0447\u0435\u043d\u0438\u0435 - \u043c\u043e\u0449\u043d\u043e\u0441\u0442\u044c \u043a\u043e\u043c\u043f\u044c\u044e\u0442\u0435\u0440\u0430. \u042d\u0442\u043e \u0434\u043e\u0441\u0442\u0430\u0442\u043e\u0447\u043d\u043e \u043f\u0440\u043e\u0441\u0442\u0430\u044f \u043c\u043e\u0434\u0435\u043b\u044c, \u043d\u043e \u043e\u043d\u0430 \u0434\u0430\u0435\u0442 \u043d\u0435\u043f\u043b\u043e\u0445\u0438\u0435 \u0440\u0435\u0437\u0443\u043b\u044c\u0442\u0430\u0442\u044b."
      ]
    },
    {
      "cell_type": "code",
      "execution_count": null,
      "metadata": {
        "_cell_guid": "40cc2a5e-6057-2948-4ae7-4a833ca0afa7"
      },
      "outputs": [],
      "source": [
        ""
      ]
    }
  ],
  "metadata": {
    "_change_revision": 0,
    "_is_fork": false,
    "kernelspec": {
      "display_name": "Python 3",
      "language": "python",
      "name": "python3"
    },
    "language_info": {
      "codemirror_mode": {
        "name": "ipython",
        "version": 3
      },
      "file_extension": ".py",
      "mimetype": "text/x-python",
      "name": "python",
      "nbconvert_exporter": "python",
      "pygments_lexer": "ipython3",
      "version": "3.6.0"
    }
  },
  "nbformat": 4,
  "nbformat_minor": 0
}