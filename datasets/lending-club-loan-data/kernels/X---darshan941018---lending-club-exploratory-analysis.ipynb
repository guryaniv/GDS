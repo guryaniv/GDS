{
  "cells": [
    {
      "cell_type": "markdown",
      "metadata": {
        "_cell_guid": "9189e52b-64db-bf93-3f01-216168d1bcdc"
      },
      "source": [
        "# Importing Libraries\n",
        "\n",
        "<ol> \n",
        "    <li> <h3><b>Visualization</b></h3> \n",
        "        <ul> \n",
        "            <li> matplotlib </li> \n",
        "            <li> seaborn </li> \n",
        "            <li> plotly</li> \n",
        "         </ul> \n",
        "    </li>\n",
        "    <li> <h3><b>Pre-processing</b></h3> \n",
        "        <ul> \n",
        "            <li> numpy</li> \n",
        "            <li>pandas</li> \n",
        "            <li> re  Regex  </li>\n",
        "         </ul>\n",
        "    </li> \n",
        "</ol>"
      ]
    },
    {
      "cell_type": "code",
      "execution_count": null,
      "metadata": {
        "_cell_guid": "76c8abc5-feee-65cf-274f-8c7f921ab57e"
      },
      "outputs": [],
      "source": [
        "import numpy as np # linear algebra\n",
        "import pandas as pd # data processing, CSV file I/O (e.g. pd.read_csv)\n",
        "import re  # Regex Operations\n",
        "pd.options.mode.chained_assignment = None\n",
        "\n",
        "# Visualizations\n",
        "import plotly.plotly as py\n",
        "import plotly.graph_objs as go\n",
        "from plotly import tools\n",
        "from plotly.offline import iplot, init_notebook_mode\n",
        "init_notebook_mode()\n",
        "\n",
        "import missingno as msno\n",
        "import matplotlib.pyplot as plt\n",
        "import seaborn as sns\n",
        "\n",
        "\n",
        "from tabulate import tabulate\n",
        "\n",
        "from subprocess import check_output\n",
        "print(check_output([\"ls\", \"../input\"]).decode(\"utf8\"))\n",
        "\n",
        "# Any results you write to the current directory are saved as output."
      ]
    },
    {
      "cell_type": "markdown",
      "metadata": {
        "_cell_guid": "9d962ca2-aecc-9f42-6225-05ccc25c5d62"
      },
      "source": [
        "## Read Data"
      ]
    },
    {
      "cell_type": "code",
      "execution_count": null,
      "metadata": {
        "_cell_guid": "d51b3f7a-08d1-5a32-f78b-58de62b72576"
      },
      "outputs": [],
      "source": [
        "df=pd.read_csv('../input/loan.csv',low_memory=False)"
      ]
    },
    {
      "cell_type": "markdown",
      "metadata": {
        "_cell_guid": "7e2da48d-e051-1362-3ee5-b40e2972bd73"
      },
      "source": [
        "## Let's take a view at the data"
      ]
    },
    {
      "cell_type": "code",
      "execution_count": null,
      "metadata": {
        "_cell_guid": "badb818c-2361-f0b5-ef09-22830e24faba"
      },
      "outputs": [],
      "source": [
        "df.head()"
      ]
    },
    {
      "cell_type": "markdown",
      "metadata": {
        "_cell_guid": "bdd51cbf-dfc6-8f7b-7f0f-e583d7e2f08e"
      },
      "source": [
        "## List of features"
      ]
    },
    {
      "cell_type": "code",
      "execution_count": null,
      "metadata": {
        "_cell_guid": "b7851dd3-5258-a571-8083-a1d461e8c333"
      },
      "outputs": [],
      "source": [
        "df.columns.tolist()"
      ]
    },
    {
      "cell_type": "markdown",
      "metadata": {
        "_cell_guid": "4930d1c5-f2f2-b3e2-d079-793280feae1c"
      },
      "source": [
        "## Let us explore for missing values through a bar chart"
      ]
    },
    {
      "cell_type": "code",
      "execution_count": null,
      "metadata": {
        "_cell_guid": "6a4cabe9-4aa9-dce5-807a-b0bd41f3ee1b"
      },
      "outputs": [],
      "source": [
        "msno.bar(df)"
      ]
    },
    {
      "cell_type": "markdown",
      "metadata": {
        "_cell_guid": "6d662944-cbf7-c164-08f8-40c23bc98aac"
      },
      "source": [
        "## Let us find out the co-relations between the various features "
      ]
    },
    {
      "cell_type": "code",
      "execution_count": null,
      "metadata": {
        "_cell_guid": "8f4670d4-4e63-3abe-971c-33a7fde5cf30"
      },
      "outputs": [],
      "source": [
        "msno.heatmap(df)"
      ]
    },
    {
      "cell_type": "markdown",
      "metadata": {
        "_cell_guid": "131aa3ba-7bc5-4de1-5f97-1db6f5a8eaf5"
      },
      "source": [
        "## A better visualisation of the correlations between the various features"
      ]
    },
    {
      "cell_type": "code",
      "execution_count": null,
      "metadata": {
        "_cell_guid": "038ca33d-ac67-dc8a-16d0-59bfec6f1ad9"
      },
      "outputs": [],
      "source": [
        "msno.dendrogram(df)"
      ]
    },
    {
      "cell_type": "markdown",
      "metadata": {
        "_cell_guid": "2c6753ad-a23f-3534-27b1-468a938f825f"
      },
      "source": [
        "## Let us explore the loan_status of the applicants and find out the distribution"
      ]
    },
    {
      "cell_type": "code",
      "execution_count": null,
      "metadata": {
        "_cell_guid": "fdf10612-b154-394d-2159-6227b0975122"
      },
      "outputs": [],
      "source": [
        "loan_status_distribution=pd.DataFrame(df['loan_status'].value_counts())\n",
        "loan_status_distribution.reset_index(inplace=True)\n",
        "loan_status_distribution.columns=['Loan_Status_Category','Number of applicants']\n",
        "loan_status_distribution"
      ]
    },
    {
      "cell_type": "markdown",
      "metadata": {
        "_cell_guid": "80933da0-96b3-5859-c697-bacde7d57d8b"
      },
      "source": [
        "## Let us plot if to further understand the distribution of loan_status"
      ]
    },
    {
      "cell_type": "code",
      "execution_count": null,
      "metadata": {
        "_cell_guid": "6cd65e88-a9ab-3dab-fe32-bfcfd14a278a"
      },
      "outputs": [],
      "source": [
        "loan_status_distribution['Percentage of Applicants']=loan_status_distribution['Number of applicants'].apply(lambda x: float(x)/len(df))\n",
        "loan_status_distribution[['Loan_Status_Category','Percentage of Applicants']] "
      ]
    },
    {
      "cell_type": "markdown",
      "metadata": {
        "_cell_guid": "6bc6ec2a-9bcd-0fb9-4cd2-bcba9a6c67bd"
      },
      "source": [
        "## Let us plot a pie chart of the loan status distribution"
      ]
    },
    {
      "cell_type": "code",
      "execution_count": null,
      "metadata": {
        "_cell_guid": "e600f054-6e08-5c9f-67b0-809104f0c38d"
      },
      "outputs": [],
      "source": [
        "trace=go.Pie(labels=loan_status_distribution['Loan_Status_Category'],values=loan_status_distribution['Number of applicants'])\n",
        "layout=go.Layout(showlegend=False)\n",
        "fig = go.Figure(data=[trace], layout=layout)\n",
        "iplot(fig,filename='pie')"
      ]
    },
    {
      "cell_type": "markdown",
      "metadata": {
        "_cell_guid": "213334c6-7748-bb1c-5203-dcf6c03b13cb"
      },
      "source": [
        "## Word Cloud for the title of Loan"
      ]
    },
    {
      "cell_type": "code",
      "execution_count": null,
      "metadata": {
        "_cell_guid": "2a9f7cd3-b4f8-6365-2eda-7345b6417368"
      },
      "outputs": [],
      "source": [
        "from wordcloud import WordCloud, STOPWORDS\n",
        "from PIL import Image\n",
        "\n",
        "df['new_title']=df['title'].apply(lambda x: str(x).lower().split())\n",
        "a=[j for i in df['new_title'] for j in i]\n",
        "text=','.join(a)\n",
        "\n",
        "stopwords = set(STOPWORDS)\n",
        "wc = WordCloud(background_color=\"white\", max_words=50,stopwords=stopwords,min_font_size=2,collocations=False,prefer_horizontal=1 \\\n",
        "              ,relative_scaling=.3,colormap='plasma')\n",
        "wc.generate(text)\n",
        "\n",
        "# show\n",
        "plt.figure(figsize=(12,15))\n",
        "plt.imshow(wc,interpolation='bilinear')\n",
        "plt.axis(\"off\")\n",
        "plt.show()"
      ]
    },
    {
      "cell_type": "markdown",
      "metadata": {
        "_cell_guid": "15c9f277-9a42-0ac0-5a35-78ddb5c619cd"
      },
      "source": [
        "### We will reduce the catgeories of the loan status in an attempt to reduce the imbalance in the data\n",
        "<ul>\n",
        "        <li> Group <i>Does not meet the credit policy. Status: Fully Paid</i> into <b> Fully Paid </b></li>\n",
        "        <li> Group <i>Does not meet the credit policy. Status: Charged off </i> into <b> Charged Off </b></li>\n",
        "        <li> Group <i>Late (31-120) days, (16-30) days, Grace Period </i> into <b> Late </b> </li>\n",
        "</ul>"
      ]
    },
    {
      "cell_type": "code",
      "execution_count": null,
      "metadata": {
        "_cell_guid": "72b33e8b-43c2-6ab6-c63d-cb87cf718dc8"
      },
      "outputs": [],
      "source": [
        "df['loan_status']=df['loan_status'].apply(lambda x: 'Fully Paid' if 'Fully Paid' in str(x) else x)\n",
        "df['loan_status']=df['loan_status'].apply(lambda x: 'Charged Off' if 'Charged Off' in str(x) else x)\n",
        "df['loan_status']=df['loan_status'].apply(lambda x: 'Late' if ('Late' in str(x) or 'Grace' in str(x)) else x)\n",
        "\n",
        "sns.set_style('whitegrid')\n",
        "plt.figure(figsize=(10,10))\n",
        "sns.countplot(x='loan_status',data=df,palette='cubehelix')\n",
        "sns.despine(top=True,right=True)\n",
        "plt.xticks(rotation=90)\n",
        "plt.show()"
      ]
    },
    {
      "cell_type": "markdown",
      "metadata": {
        "_cell_guid": "4c4fb8e4-56b7-f73a-0222-af0e336fff3a"
      },
      "source": [
        "### After Grouping Loan Status Categories"
      ]
    },
    {
      "cell_type": "code",
      "execution_count": null,
      "metadata": {
        "_cell_guid": "dd0e994c-8e34-7c1f-d694-fec34580da7c"
      },
      "outputs": [],
      "source": [
        "loan_status_distribution=pd.DataFrame(df['loan_status'].value_counts())\n",
        "loan_status_distribution.reset_index(inplace=True)\n",
        "loan_status_distribution.columns=['Loan_Status_Category','Number of applicants']\n",
        "loan_status_distribution['Percentage of Applicants']=loan_status_distribution['Number of applicants'].apply(lambda x: float(x)/len(df))\n",
        "loan_status_distribution[['Loan_Status_Category','Percentage of Applicants']]         \n",
        "\n",
        "trace=go.Pie(labels=loan_status_distribution['Loan_Status_Category'],values=loan_status_distribution['Number of applicants'])\n",
        "iplot([trace]) "
      ]
    },
    {
      "cell_type": "markdown",
      "metadata": {
        "_cell_guid": "bf82ff2d-5029-f650-183b-052f9751990e"
      },
      "source": [
        "### We will further group other categorical features and perform some pre-processing steps\n",
        "\n",
        "#### Cleaning and grouping employee job title "
      ]
    },
    {
      "cell_type": "code",
      "execution_count": null,
      "metadata": {
        "_cell_guid": "d739f034-809d-925c-89d2-9b7c4dccef27"
      },
      "outputs": [],
      "source": [
        "# First we will strip left and right trailing spaces\n",
        "df['emp_title']=df['emp_title'].apply(lambda x: str(x).strip())\n",
        "\n",
        "#Lower the title so that we can compare and combine employee job title\n",
        "df['emp_title']=df['emp_title'].apply(lambda x: str(x).lower())\n",
        "\n",
        "#Regex operatiosn to check for various employee job title\n",
        "df['emp_title']=df['emp_title'].str.replace(r'\\w+\\smanager$','manager')\n",
        "df['emp_title']= df['emp_title'].apply(lambda x: 'registered nurse' if (x=='rn' or x=='nurse') else x) #RN means Registered nurse\n",
        "df['emp_title']=df['emp_title'].str.replace(r'\\w+\\steacher$','teacher')\n",
        "df['emp_title']=df['emp_title'].str.replace(r'teacher\\w+$','teacher')\n",
        "df['emp_title']=df['emp_title'].str.replace(r'\\w+\\sdriver$','driver')\n",
        "df['emp_title']=df['emp_title'].str.replace(r'\\w+\\sengineer$','engineer')\n",
        "\n",
        "\n",
        "df['emp_title']=df['emp_title'].apply(lambda x: 'teacher' if ('teacher') in str(x) else x)\n",
        "df['emp_title']=df['emp_title'].apply(lambda x: 'manager' if ('manager') in str(x) else x)\n",
        "df['emp_title']=df['emp_title'].apply(lambda x: 'nurse' if ('nurse') in str(x) else x)\n",
        "df['emp_title']=df['emp_title'].apply(lambda x: 'driver' if ('driver') in str(x) else x)\n",
        "df['emp_title']=df['emp_title'].apply(lambda x: 'engineer' if ('engineer') in str(x) else x)\n",
        "df['emp_title']=df['emp_title'].apply(lambda x: 'analyst' if ('analyst') in str(x) else x)\n",
        "df['emp_title']=df['emp_title'].apply(lambda x: 'accountant' if ('accountant') in str(x) else x)\n",
        "df['emp_title']=df['emp_title'].apply(lambda x: 'assistant' if ('assistant') in str(x) else x)\n",
        "df['emp_title']=df['emp_title'].apply(lambda x: 'director' if ('director') in str(x) else x)\n",
        "\n",
        "#Capitalize first letter of each word in the employee title\n",
        "df['emp_title'] = df['emp_title'].apply(lambda x: str(x).title()) # Employee title contains \n",
        "\n",
        "emp_title=df['emp_title'].value_counts()[:10].index\n",
        "df['emp_title']=df['emp_title'].apply(lambda x: x if str(x) in emp_title  else 'OTHER')\n",
        "df['emp_title']=df['emp_title'].apply(lambda x: 'OTHER' if str(x) in 'Nan' else x)\n",
        "df['emp_title'].value_counts()"
      ]
    },
    {
      "cell_type": "markdown",
      "metadata": {
        "_cell_guid": "40052fa5-7d69-f1cd-46b6-c2b41d003ba6"
      },
      "source": [
        "### After grouping emp_title let us take a look at the distribution"
      ]
    },
    {
      "cell_type": "code",
      "execution_count": null,
      "metadata": {
        "_cell_guid": "728ede33-c4bc-fc98-ca8c-b21313e7cec0"
      },
      "outputs": [],
      "source": [
        "#create a dataframe that contains the count of top 10 job titles\n",
        "a=pd.DataFrame(df.emp_title.value_counts()) # 1 omitted as it contains missing data\n",
        "a.reset_index(inplace=True)\n",
        "\n",
        "#Color scheme\n",
        "colors = ['rgb(165,0,38)', 'rgb(215,48,39)', 'rgb(244,109,67)',\n",
        "         'rgb(253,174,97)','rgb(254,224,144)','rgb(224,243,248)',\n",
        "         'rgb(171,217,233)','rgb(116,173,209)','rgb(69,117,180)','rgb(49,54,149)']\n",
        "\n",
        "\n",
        "trace1 = go.Bar(\n",
        "    x=a['index'],\n",
        "    y=a.emp_title,\n",
        "    name='Employee',\n",
        "    marker=dict(color=colors)\n",
        ")\n",
        "layout=go.Layout(title='Applicant Count by Job Title',xaxis=dict(title='Job Title'),yaxis=dict(title='Count'))\n",
        "annotations = []\n",
        "\n",
        "for i in range(0, len(a)):\n",
        "    annotations.append(dict(x=a['index'][i], y=a['emp_title'][i]+1500, text=a['emp_title'][i],\n",
        "                                  font=dict(family='Arial', size=10,\n",
        "                                  color='rgba(0,0,0,1)'),\n",
        "                                  showarrow=True,))\n",
        "    layout['annotations'] = annotations\n",
        "\n",
        "data=[trace1]\n",
        "fig = go.Figure(data=data,layout=layout)\n",
        "iplot(fig, filename='grouped-bar')"
      ]
    },
    {
      "cell_type": "markdown",
      "metadata": {
        "_cell_guid": "424a2b35-c237-5001-547f-cec4909a429b"
      },
      "source": [
        "<h3>Grouping Home Ownership Categories </h3> \n",
        "<ul>\n",
        "<li>\n",
        "We will club the <b>NONE</b> and <b>ANY</b> categories into <b>OTHER</b> category of Home Ownership\n",
        "</li>\n",
        "<ul>"
      ]
    },
    {
      "cell_type": "code",
      "execution_count": null,
      "metadata": {
        "_cell_guid": "5a0d2fb3-b12f-d19e-868e-a1dd729f302d"
      },
      "outputs": [],
      "source": [
        "df['home_ownership']=df['home_ownership'].apply(lambda x: 'OTHER' if (x=='NONE' or x=='ANY') else x)\n",
        "\n",
        "\n",
        "#create a dataframe that contains the count of top 10 job titles\n",
        "a=pd.DataFrame(df.home_ownership.value_counts()) # 1 omitted as it contains missing data\n",
        "a.reset_index(inplace=True)\n",
        "\n",
        "#Color scheme\n",
        "colors = ['rgb(165,0,38)', 'rgb(215,48,39)', 'rgb(244,109,67)',\n",
        "         'rgb(253,174,97)','rgb(254,224,144)','rgb(224,243,248)',\n",
        "         'rgb(171,217,233)','rgb(116,173,209)','rgb(69,117,180)','rgb(49,54,149)']\n",
        "\n",
        "\n",
        "trace1 = go.Bar(\n",
        "    x=a['index'],\n",
        "    y=a.home_ownership,\n",
        "    name='Employee',\n",
        "    marker=dict(color=colors)\n",
        ")\n",
        "layout=go.Layout(title='Applicant Count by Home Ownership',xaxis=dict(title='Job Title'),yaxis=dict(title='Count'))\n",
        "annotations = []\n",
        "\n",
        "for i in range(0, len(a)):\n",
        "    annotations.append(dict(x=a['index'][i], y=a['home_ownership'][i]+1500, text=a['home_ownership'][i],\n",
        "                                  font=dict(family='Arial', size=10,\n",
        "                                  color='rgba(0,0,0,1)'),\n",
        "                                  showarrow=True,))\n",
        "    layout['annotations'] = annotations\n",
        "\n",
        "data=[trace1]\n",
        "fig = dict(data=data)\n",
        "iplot(fig)"
      ]
    },
    {
      "cell_type": "markdown",
      "metadata": {
        "_cell_guid": "3f73e455-1ba2-60b1-b17e-cfc393576610"
      },
      "source": [
        "### Applicant Count by number of years at current job further catgeorized by hue of grade of their loan"
      ]
    },
    {
      "cell_type": "code",
      "execution_count": null,
      "metadata": {
        "_cell_guid": "8b621595-8886-bfdf-a839-aacc1eb69ecc"
      },
      "outputs": [],
      "source": [
        "plt.figure(figsize=(15,10))\n",
        "sns.set_style('whitegrid')\n",
        "sns.countplot(x='emp_length',data=df,hue='grade',hue_order=['A','B','C','D','E','F','G'],\n",
        "              order=['< 1 year','1 year','2 years','3 years', '4 years','5 years','6 years',\n",
        "                     '7 years','8 years', '9 years','10+ years'],palette='cubehelix')\n",
        "plt.xlabel('Applicant Current Job Length',size=20)\n",
        "plt.ylabel('Count',size=20)\n",
        "plt.xticks(size=14,rotation=90)\n",
        "plt.yticks(size=14)\n",
        "plt.title('Applicant Current Job length by grade of loan',size=20,y=1.05)\n",
        "plt.show()"
      ]
    },
    {
      "cell_type": "markdown",
      "metadata": {
        "_cell_guid": "4ba1a00b-6634-6a66-9b1e-5e87340fa752"
      },
      "source": [
        "## Loan Amount Distribution by Grades"
      ]
    },
    {
      "cell_type": "code",
      "execution_count": null,
      "metadata": {
        "_cell_guid": "059cb743-1324-04ca-f597-8a358d406121"
      },
      "outputs": [],
      "source": [
        "trace=[0]*6\n",
        "grades=sorted(df['grade'].unique())\n",
        "for i in range(0,(df['grade'].nunique())-1):\n",
        "    trace[i] = go.Box(x=df['loan_amnt'][df['grade']==grades[i]],name = 'Grade '+grades[i])\n",
        "layout=go.Layout(title='Loan Amount Distribution by Grades',xaxis=dict(title='Loan Amount'),yaxis=dict(title='Grade of Loan'))\n",
        "fig=go.Figure(data=trace,layout=layout)\n",
        "iplot(fig)"
      ]
    },
    {
      "cell_type": "markdown",
      "metadata": {
        "_cell_guid": "ab6232b9-9f65-6681-ab65-722be89e7943"
      },
      "source": [
        "### Interest Rate categorized by the purpose for which loan was sanctioned"
      ]
    },
    {
      "cell_type": "code",
      "execution_count": null,
      "metadata": {
        "_cell_guid": "034649f3-dbd9-c32d-f420-b2c095daa428"
      },
      "outputs": [],
      "source": [
        "a=pd.DataFrame(df.groupby(['purpose']).mean()['int_rate']).sort_values(by='int_rate',ascending=False).reset_index()\n",
        "\n",
        "#Color scheme\n",
        "colors = ['rgb(165,0,38)', 'rgb(215,48,39)', 'rgb(244,109,67)','rgb(253,174,97)','rgb(254,224,144)',\n",
        "          'rgb(224,243,248)','rgb(171,217,233)','rgb(116,173,209)','rgb(69,117,180)', 'rgb(49,54,149)',\n",
        "          'rgb(165,0,38)', 'rgb(215,48,39)', 'rgb(244,109,67)','rgb(253,174,97)']\n",
        "\n",
        "\n",
        "trace1 = go.Bar(\n",
        "    x=a['purpose'],\n",
        "    y=a.int_rate,\n",
        "    name='Interest Rate',\n",
        "    marker=dict(color=colors)\n",
        ")\n",
        "layout=go.Layout(title='Average Interest rates by Loan Puprose',\n",
        "                 xaxis=dict(title='Loan Purpose',tickangle=30),\n",
        "                 yaxis=dict(title='Average Interest Rate'))\n",
        "annotations = []\n",
        "\n",
        "for i in range(0, 14):\n",
        "    annotations.append(dict(x=a.purpose[i], y=a.int_rate[i]+0.8, text=\"%.2F\" % a.int_rate[i]+\"%\",\n",
        "                                  font=dict(family='Arial', size=10,\n",
        "                                  color='rgba(0,0,0,1)'),\n",
        "                                  showarrow=True,))\n",
        "    layout['annotations'] = annotations\n",
        "\n",
        "data=[trace1]\n",
        "fig = go.Figure(data=data,layout=layout)\n",
        "iplot(fig, filename='grouped-bar')"
      ]
    },
    {
      "cell_type": "markdown",
      "metadata": {
        "_cell_guid": "fac56fec-f8b7-3e46-a156-c6dfe514784a"
      },
      "source": [
        "<h3>Clubbing the loan purporse categories</h3>\n",
        "<ul>\n",
        "<li> <b>Other</b> category will now include <i>Renewable Energy</i>, <i>Small Business</i>, <i>Vacation</i>, <i>Wedding</i> and <i>Major Purchase</i> </li>\n",
        "<li> <b> House</b> category will ow include <i>Moving</i> and <i>Home Improvement</i> </li>\n",
        "<ul>"
      ]
    },
    {
      "cell_type": "code",
      "execution_count": null,
      "metadata": {
        "_cell_guid": "2154a375-7d80-257c-cd37-3d89547a57bc"
      },
      "outputs": [],
      "source": [
        "df['purpose']=df['purpose'].apply(lambda x: 'other' if (x=='renewable_energy' or x=='small_business'\n",
        "                                                        or x=='vacation' or x=='wedding'\n",
        "                                                       or x=='major_purchase') else x)\n",
        "\n",
        "df['purpose']=df['purpose'].apply(lambda x: 'house' if (x=='moving' or x=='home_improvement') else x)"
      ]
    },
    {
      "cell_type": "code",
      "execution_count": null,
      "metadata": {
        "_cell_guid": "7c8fd746-6497-fb00-530e-526b1a24897a"
      },
      "outputs": [],
      "source": [
        "a=pd.DataFrame(df.groupby(['purpose']).mean()['int_rate']).sort_values(by='int_rate',ascending=False).reset_index()\n",
        "\n",
        "#Color scheme\n",
        "colors = ['rgb(165,0,38)', 'rgb(215,48,39)', 'rgb(244,109,67)','rgb(253,174,97)','rgb(254,224,144)',\n",
        "          'rgb(224,243,248)','rgb(171,217,233)','rgb(116,173,209)','rgb(69,117,180)', 'rgb(49,54,149)',\n",
        "          'rgb(165,0,38)', 'rgb(215,48,39)', 'rgb(244,109,67)','rgb(253,174,97)']\n",
        "\n",
        "\n",
        "trace1 = go.Bar(\n",
        "    x=a['purpose'],\n",
        "    y=a.int_rate,\n",
        "    name='Interest Rate',\n",
        "    marker=dict(color=colors)\n",
        ")\n",
        "layout=go.Layout(title='Average Interest rates by Regrouped Loan Puprose',\n",
        "                 xaxis=dict(title='Loan Purpose',tickangle=30),\n",
        "                 yaxis=dict(title='Average Interest Rate'))\n",
        "annotations = []\n",
        "\n",
        "for i in range(0, len(a)):\n",
        "    annotations.append(dict(x=a.purpose[i], y=a.int_rate[i]+0.8, text=\"%.2F\" % a.int_rate[i]+\"%\",\n",
        "                                  font=dict(family='Arial', size=10,\n",
        "                                  color='rgba(0,0,0,1)'),\n",
        "                                  showarrow=True,))\n",
        "    layout['annotations'] = annotations\n",
        "\n",
        "data=[trace1]\n",
        "fig = go.Figure(data=data,layout=layout)\n",
        "iplot(fig, filename='grouped-bar')"
      ]
    },
    {
      "cell_type": "markdown",
      "metadata": {
        "_cell_guid": "51d782cf-cacd-fecb-a1a1-ba7a995facfa"
      },
      "source": [
        "## Distribution of Interest Rates by Purpose"
      ]
    },
    {
      "cell_type": "code",
      "execution_count": null,
      "metadata": {
        "_cell_guid": "6b9acd86-ee1b-02be-f887-9bea98e2f5e8"
      },
      "outputs": [],
      "source": [
        "trace=[0]*6\n",
        "purpose=sorted(df['purpose'].unique())\n",
        "for i in range(0,(df['purpose'].nunique())-1):\n",
        "    trace[i] = go.Box(x=df['int_rate'][df['purpose']==purpose[i]],name = purpose[i].title())\n",
        "layout=go.Layout(title='Distribution of Interest Rates by Purpose',xaxis=dict(title='Interest Rates by Purpose'))\n",
        "fig=go.Figure(data=trace,layout=layout)\n",
        "iplot(fig)"
      ]
    },
    {
      "cell_type": "code",
      "execution_count": null,
      "metadata": {
        "_cell_guid": "79547ca3-db99-af86-fd87-3621398d0eb0"
      },
      "outputs": [],
      "source": [
        "df2=df.copy()\n",
        "\n",
        "state_average_int_rate=df.groupby('addr_state').agg({'int_rate':np.average,'id':np.count_nonzero,'annual_inc':np.average})\n",
        "state_average_int_rate.reset_index(inplace=True)\n",
        "state_average_int_rate['id']=state_average_int_rate['id'].astype(str)\n",
        "state_average_int_rate['interest']=state_average_int_rate['int_rate']\n",
        "state_average_int_rate['int_rate']= 'Average Interest Rate: ' + \\\n",
        "state_average_int_rate['int_rate'].apply(lambda x: str(round(x,2)))+ \"%\"\n",
        "state_average_int_rate['annual_inc']=(state_average_int_rate['annual_inc']/1000.0)\n",
        "state_average_int_rate['annual_inc']=state_average_int_rate['annual_inc'].apply(lambda x: str(round(x,2)))\n",
        "state_average_int_rate['text']='Number of Applicants: ' + state_average_int_rate['id']+'<br>'+ \\\n",
        "'Average Annual Inc: $'+ state_average_int_rate['annual_inc']+'k'\n",
        "\n",
        "scl= [[0,\"rgb(5, 10, 172)\"],[0.35,\"rgb(40, 60, 190)\"],[0.5,\"rgb(70, 100, 245)\"],\\\n",
        "            [0.6,\"rgb(90, 120, 245)\"],[0.7,\"rgb(106, 137, 247)\"],[1,\"rgb(220, 220, 220)\"]]\n",
        "\n",
        "data = [ dict(\n",
        "        type='choropleth',\n",
        "        colorscale = scl,\n",
        "        autocolorscale = False,\n",
        "        locations = state_average_int_rate['addr_state'],\n",
        "        z = state_average_int_rate['interest'].astype(float),\n",
        "        text=state_average_int_rate['text'],\n",
        "        locationmode = 'USA-states',\n",
        "        marker = dict(\n",
        "            line = dict (\n",
        "                color = 'rgb(255,255,255)',\n",
        "                width = 2\n",
        "            ) ),\n",
        "        colorbar = dict(\n",
        "            title = \"Interest Rates\")\n",
        "        ) ]\n",
        "\n",
        "layout = dict(\n",
        "        title = '<b>Interest Rate by US States</b><br>Additional Details: <br> Avreage Annual Inc \\t Number of Applicants',\n",
        "        geo = dict(\n",
        "            scope='usa',\n",
        "            projection=dict( type='albers usa' ),\n",
        "        \n",
        "             ))\n",
        "    \n",
        "fig = dict( data=data, layout=layout )\n",
        "iplot( fig, filename='d3-cloropleth-map' )"
      ]
    },
    {
      "cell_type": "markdown",
      "metadata": {
        "_cell_guid": "35a056c6-0268-0f07-ad43-c2f0c74f514f"
      },
      "source": [
        "## Thank You"
      ]
    }
  ],
  "metadata": {
    "_change_revision": 0,
    "_is_fork": false,
    "kernelspec": {
      "display_name": "Python 3",
      "language": "python",
      "name": "python3"
    },
    "language_info": {
      "codemirror_mode": {
        "name": "ipython",
        "version": 3
      },
      "file_extension": ".py",
      "mimetype": "text/x-python",
      "name": "python",
      "nbconvert_exporter": "python",
      "pygments_lexer": "ipython3",
      "version": "3.6.0"
    }
  },
  "nbformat": 4,
  "nbformat_minor": 0
}