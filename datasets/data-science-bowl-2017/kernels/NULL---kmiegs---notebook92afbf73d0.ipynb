{
  "cells": [
    {
      "cell_type": "code",
      "execution_count": null,
      "metadata": {
        "_cell_guid": "992f227e-3ece-3a6a-6d65-f77e2c7f35c9"
      },
      "outputs": [],
      "source": [
        "import numpy as np # linear algebra\n",
        "import pandas as pd # data processing, CSV file I/O (e.g. pd.read_csv)\n",
        "import matplotlib.pyplot as plt\n",
        "import seaborn as sns\n",
        "import os\n",
        "import glob\n",
        "%matplotlib inline\n",
        "import dicom\n",
        "dcm = '../input/sample_images/0a38e7597ca26f9374f8ea2770ba870d/4ec5ef19b52ec06a819181e404d37038.dcm'\n",
        "print dcm.getpixel(40,50)"
      ]
    },
    {
      "cell_type": "code",
      "execution_count": null,
      "metadata": {
        "_cell_guid": "bda111d8-7cbf-e4b9-6533-3c51ea2dc200"
      },
      "outputs": [],
      "source": [
        "import numpy as np # linear algebra\n",
        "import pandas as pd # data processing, CSV file I/O (e.g. pd.read_csv)\n",
        "import matplotlib.pyplot as plt\n",
        "import seaborn as sns\n",
        "import os\n",
        "import glob\n",
        "%matplotlib inline\n",
        "import dicom\n",
        "dcm = '../input/sample_images/0a38e7597ca26f9374f8ea2770ba870d/4ec5ef19b52ec06a819181e404d37038.dcm'\n",
        "\n",
        "print('Filename: {}'.format(dcm))\n",
        "dcm = dicom.read_file(dcm)\n",
        "img = dcm.pixel_array\n",
        "img[img == -2000] = 0\n",
        "\n",
        "plt.axis('off')\n",
        "plt.imshow(img)\n",
        "plt.show()\n",
        "\n",
        "plt.axis('off')\n",
        "plt.imshow(-img) # Invert colors with -\n",
        "plt.show()"
      ]
    },
    {
      "cell_type": "code",
      "execution_count": null,
      "metadata": {
        "_cell_guid": "743f97da-957f-82c8-17d5-561531304b57"
      },
      "outputs": [],
      "source": [
        "def dicom_to_image(filename):\n",
        "    dcm = dicom.read_file(filename)\n",
        "    img = dcm.pixel_array\n",
        "    img[img == -2000] = 0\n",
        "    return img\n",
        "\n",
        "files = glob.glob('../input/sample_images/*/*.dcm')\n",
        "f, plots = plt.subplots(4, 5, sharex='col', sharey='row', figsize=(10, 8))\n",
        "for i in range(20):\n",
        "    plots[i // 5, i % 5].axis('off')\n",
        "    plots[i // 5, i % 5].imshow(dicom_to_image(np.random.choice(files)), cmap=plt.cm.bone)"
      ]
    },
    {
      "cell_type": "code",
      "execution_count": null,
      "metadata": {
        "_cell_guid": "a65bc4d0-4a7c-2d55-b61d-573db4751f0c"
      },
      "outputs": [],
      "source": [
        "def get_slice_location(dcm):\n",
        "    return float(dcm[0x0020, 0x1041].value)\n",
        "\n",
        "# Returns a list of images for that patient_id, in ascending order of Slice Location\n",
        "def load_patient(patient_id):\n",
        "    files = glob.glob('../input/sample_images/{}/*.dcm'.format(patient_id))\n",
        "    imgs = {}\n",
        "    for f in files:\n",
        "        dcm = dicom.read_file(f)\n",
        "        img = dcm.pixel_array\n",
        "        img[img == -2000] = 0\n",
        "        sl = get_slice_location(dcm)\n",
        "        imgs[sl] = img\n",
        "        \n",
        "    # Not a very elegant way to do this\n",
        "    sorted_imgs = [x[1] for x in sorted(imgs.items(), key=lambda x: x[0])]\n",
        "    return sorted_imgs\n",
        "\n",
        "pat = load_patient('0a38e7597ca26f9374f8ea2770ba870d')\n",
        "\n",
        "f, plots = plt.subplots(11, 10, sharex='all', sharey='all', figsize=(10, 11))\n",
        "# matplotlib is drunk\n",
        "#plt.title('Sorted Slices of Patient 0a38e7597ca26f9374f8ea2770ba870d - No cancer')\n",
        "for i in range(110):\n",
        "    plots[i // 10, i % 10].axis('off')\n",
        "    plots[i // 10, i % 10].imshow(pat[i], cmap=plt.cm.bone)"
      ]
    },
    {
      "cell_type": "code",
      "execution_count": null,
      "metadata": {
        "_cell_guid": "31e6b95b-d93d-bc61-959d-966f86555e5f"
      },
      "outputs": [],
      "source": [
        "pat = load_patient('0acbebb8d463b4b9ca88cf38431aac69')\n",
        "f, plots = plt.subplots(21, 10, sharex='all', sharey='all', figsize=(10, 21))\n",
        "for i in range(203):\n",
        "    plots[i // 10, i % 10].axis('off')\n",
        "    plots[i // 10, i % 10].imshow(pat[i], cmap=plt.cm.bone)"
      ]
    },
    {
      "cell_type": "code",
      "execution_count": null,
      "metadata": {
        "_cell_guid": "b84f2b3f-9de3-e8b9-4f25-03de4c904d3d"
      },
      "outputs": [],
      "source": [
        "# This function takes in a single frame from the DICOM and returns a single frame in RGB format.\n",
        "def normalise(img):\n",
        "    normed = (img / 14).astype(np.uint8) # Magic number, scaling to create int between 0 and 255\n",
        "    img2 = np.zeros([*img.shape, 3], dtype=np.uint8)\n",
        "    for i in range(3):\n",
        "        img2[:, :, i] = normed\n",
        "    return img2\n",
        "npat = [normalise(p) for p in pat]\n",
        "pat = load_patient('0acbebb8d463b4b9ca88cf38431aac69')\n",
        "\n",
        "import matplotlib.animation as animation\n",
        "def animate(pat, gifname):\n",
        "    # Based on @Zombie's code\n",
        "    fig = plt.figure()\n",
        "    anim = plt.imshow(pat[0], cmap=plt.cm.bone)\n",
        "    def update(i):\n",
        "        anim.set_array(pat[i])\n",
        "        return anim,\n",
        "    \n",
        "    a = animation.FuncAnimation(fig, update, frames=range(len(pat)), interval=50, blit=True)\n",
        "    a.save(gifname, writer='imagemagick')\n",
        "    \n",
        "animate(pat, 'test.gif')"
      ]
    },
    {
      "cell_type": "code",
      "execution_count": null,
      "metadata": {
        "_cell_guid": "f661e280-53ff-15b9-be7a-b3494c67c6bb"
      },
      "outputs": [],
      "source": [
        "IMG_TAG = \"\"\"<img src=\"data:image/gif;base64,{0}\">\"\"\"\n",
        "\n",
        "import base64\n",
        "from IPython.display import HTML\n",
        "\n",
        "def display_gif(fname):\n",
        "    data = open(fname, \"rb\").read()\n",
        "    data = base64.b64encode(data)\n",
        "    return HTML(IMG_TAG.format(data))\n",
        "\n",
        "display_gif(\"test.gif\")"
      ]
    },
    {
      "cell_type": "code",
      "execution_count": null,
      "metadata": {
        "_cell_guid": "99ffc5de-b8d6-66b8-f5b9-eb98f87e156a"
      },
      "outputs": [],
      "source": [
        "import numpy as np # linear algebra\n",
        "import pandas as pd # data processing, CSV file I/O (e.g. pd.read_csv)\n",
        "import matplotlib.pyplot as plt\n",
        "import seaborn as sns\n",
        "import os\n",
        "import glob\n",
        "%matplotlib inline\n",
        "import dicom\n",
        "dcm = '../input/sample_images/0a38e7597ca26f9374f8ea2770ba870d/4ec5ef19b52ec06a819181e404d37038.dcm'\n",
        "print dcm.getpixel(40,50)"
      ]
    }
  ],
  "metadata": {
    "_change_revision": 0,
    "_is_fork": false,
    "kernelspec": {
      "display_name": "Python 3",
      "language": "python",
      "name": "python3"
    },
    "language_info": {
      "codemirror_mode": {
        "name": "ipython",
        "version": 3
      },
      "file_extension": ".py",
      "mimetype": "text/x-python",
      "name": "python",
      "nbconvert_exporter": "python",
      "pygments_lexer": "ipython3",
      "version": "3.6.0"
    }
  },
  "nbformat": 4,
  "nbformat_minor": 0
}