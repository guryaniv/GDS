{
  "cells": [
    {
      "cell_type": "code",
      "execution_count": null,
      "metadata": {
        "_cell_guid": "c777187d-8379-3285-5756-450a205c78dd"
      },
      "outputs": [],
      "source": [
        "# This Python 3 environment comes with many helpful analytics libraries installed\n",
        "# It is defined by the kaggle/python docker image: https://github.com/kaggle/docker-python\n",
        "# For example, here's several helpful packages to load in \n",
        "\n",
        "import numpy as np # linear algebra\n",
        "import pandas as pd # data processing, CSV file I/O (e.g. pd.read_csv)\n",
        "\n",
        "# Input data files are available in the \"../input/\" directory.\n",
        "# For example, running this (by clicking run or pressing Shift+Enter) will list the files in the input directory\n",
        "\n",
        "from subprocess import check_output\n",
        "print(check_output([\"ls\", \"../input\"]).decode(\"utf8\"))\n",
        "\n",
        "# Any results you write to the current directory are saved as output."
      ]
    },
    {
      "cell_type": "code",
      "execution_count": null,
      "metadata": {
        "_cell_guid": "bcd18437-b8cd-27ac-30db-238b41d7a93a"
      },
      "outputs": [],
      "source": [
        "import kagglegym\n",
        "import numpy as np\n",
        "from matplotlib import pyplot as plt\n",
        "plt.plot()"
      ]
    },
    {
      "cell_type": "code",
      "execution_count": null,
      "metadata": {
        "_cell_guid": "5803d929-d330-f58d-f459-388956f7cd5a"
      },
      "outputs": [],
      "source": [
        "env = kagglegym.make()\n",
        "observations = env.reset()\n",
        "df = observations.train"
      ]
    },
    {
      "cell_type": "code",
      "execution_count": null,
      "metadata": {
        "_cell_guid": "35b28f4b-1935-225c-92b4-16ad7c4b6b44"
      },
      "outputs": [],
      "source": [
        "#compute autocorrelation for each id, with a lag of 1 to 20\n",
        "\n",
        "autocorr_mat = []\n",
        "\n",
        "for id in df['id'].unique():\n",
        "    y_df = df['y'][df['id']==id]\n",
        "    autocorr_vec = []\n",
        "    for j in range(1, 20):\n",
        "        autocorr_vec += [y_df.autocorr(lag=j)]\n",
        "    autocorr_mat += [autocorr_vec]\n",
        "        "
      ]
    },
    {
      "cell_type": "code",
      "execution_count": null,
      "metadata": {
        "_cell_guid": "8afd9a50-5a50-fb7d-8371-7da4f6c310f8"
      },
      "outputs": [],
      "source": [
        "autocorr_mat = np.array(autocorr_mat)"
      ]
    },
    {
      "cell_type": "code",
      "execution_count": null,
      "metadata": {
        "_cell_guid": "135fb5f9-3706-1d2f-8109-660881435d86"
      },
      "outputs": [],
      "source": [
        "#find the largest autocorrelation\n",
        "max_i = -1\n",
        "max_j = -1\n",
        "curr_abs_max = 0\n",
        "\n",
        "for i in range(len(autocorr_mat)):\n",
        "    for j in range(len(autocorr_mat[i])):\n",
        "        if abs(autocorr_mat[i][j])> abs(curr_abs_max):\n",
        "            max_i = i\n",
        "            max_j = j\n",
        "            curr_abs_max = autocorr_mat[i][j]\n",
        "\n",
        "print('({},{})=>{}'.format(df['id'].unique()[max_i], max_j, curr_abs_max))"
      ]
    },
    {
      "cell_type": "code",
      "execution_count": null,
      "metadata": {
        "_cell_guid": "3e81264c-a1d2-396d-0a01-dec0f2e30f7d"
      },
      "outputs": [],
      "source": [
        "sorted_idx_max = sorted(range(len(autocorr_mat)), key=lambda i: max(autocorr_mat[i]))\n",
        "id_sorted_max = df['id'].unique()[sorted_idx_max]\n",
        "autocorr_sorted_max = np.amax(autocorr_mat[sorted_idx_max], axis=1)\n",
        "plt.plot(id_sorted_max, autocorr_sorted_max)"
      ]
    },
    {
      "cell_type": "code",
      "execution_count": null,
      "metadata": {
        "_cell_guid": "bea87462-2ae0-f5c6-907d-becd84ca188e"
      },
      "outputs": [],
      "source": [
        "#distribution of maximum positive autocorrelation (number of id)\n",
        "autocorr_sorted_max=np.nan_to_num(autocorr_sorted_max)\n",
        "plt.hist(autocorr_sorted_max)"
      ]
    },
    {
      "cell_type": "code",
      "execution_count": null,
      "metadata": {
        "_cell_guid": "f725f2c3-b2e8-6c8f-4f64-e2d959c325cf"
      },
      "outputs": [],
      "source": [
        "sorted_idx_min = sorted(range(len(autocorr_mat)), key=lambda i: min(autocorr_mat[i]))\n",
        "id_sorted_min = df['id'].unique()[sorted_idx_min]\n",
        "autocorr_sorted_min = np.amin(autocorr_mat[sorted_idx_min], axis=1)\n",
        "plt.plot(id_sorted_min, autocorr_sorted_min)"
      ]
    },
    {
      "cell_type": "code",
      "execution_count": null,
      "metadata": {
        "_cell_guid": "601770c0-3fa3-f53a-2cfb-0bbf8c7e1196"
      },
      "outputs": [],
      "source": [
        "#distribution of minimum positive autocorrelation (number of id)\n",
        "autocorr_sorted_min=np.nan_to_num(autocorr_sorted_min)\n",
        "plt.hist(autocorr_sorted_min)"
      ]
    },
    {
      "cell_type": "code",
      "execution_count": null,
      "metadata": {
        "_cell_guid": "4f287e69-05b1-b8ce-7b4c-81617d5568a8"
      },
      "outputs": [],
      "source": [
        "corr_1276=df[df['id']==111].corr()\n",
        "print(corr_1276)"
      ]
    },
    {
      "cell_type": "code",
      "execution_count": null,
      "metadata": {
        "_cell_guid": "542f2bd9-3caa-aac0-ec4a-c65d8e8fc01d"
      },
      "outputs": [],
      "source": [
        ""
      ]
    }
  ],
  "metadata": {
    "_change_revision": 0,
    "_is_fork": false,
    "kernelspec": {
      "display_name": "Python 3",
      "language": "python",
      "name": "python3"
    },
    "language_info": {
      "codemirror_mode": {
        "name": "ipython",
        "version": 3
      },
      "file_extension": ".py",
      "mimetype": "text/x-python",
      "name": "python",
      "nbconvert_exporter": "python",
      "pygments_lexer": "ipython3",
      "version": "3.5.2"
    }
  },
  "nbformat": 4,
  "nbformat_minor": 0
}