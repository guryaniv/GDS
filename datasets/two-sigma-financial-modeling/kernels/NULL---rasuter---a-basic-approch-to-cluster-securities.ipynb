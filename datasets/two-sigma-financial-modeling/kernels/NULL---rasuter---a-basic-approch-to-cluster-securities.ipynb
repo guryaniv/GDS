{
  "cells": [
    {
      "cell_type": "markdown",
      "metadata": {
        "_cell_guid": "0d05b8bb-b8f6-642b-31b4-a04d5f50503c"
      },
      "source": [
        "# A Basic Approach to Cluster Securities"
      ]
    },
    {
      "cell_type": "markdown",
      "metadata": {
        "_cell_guid": "18c92bf2-89fa-048b-9aab-5c1a2aad2bb0"
      },
      "source": [
        "There is a large diversity of securities in the dataset. This probably makes building a single model for all id's very difficult. On the other hand, building a model for each of the securities individually is out of reach. Therefore it might be a good idea to seperate the securities into a couple of groups on which we can train a model jointy.\n",
        "In the following, I am going to present a simple approach to find such a grouping."
      ]
    },
    {
      "cell_type": "markdown",
      "metadata": {
        "_cell_guid": "ba09f84f-5e1b-9402-2588-fa5544cf01f4"
      },
      "source": [
        "**Table of Contents**\n",
        "\n",
        "* Preparation\n",
        "* Visualisation\n",
        "* Finding Clusters\n",
        "* Exploring Cluster Characteristics\n",
        "* Conclusion"
      ]
    },
    {
      "cell_type": "markdown",
      "metadata": {
        "_cell_guid": "cb143f06-0137-16ab-6aa8-2bd44ae8c3be"
      },
      "source": [
        "**Description**\n",
        "\n",
        "I do the clustering soley based on the first four moments of the asset returns (y) as I assume that these contain almost all of the relevant information that characterize different asset types. \n",
        "\n",
        "I neglect that certain securities are only available for a subperiod and may therefore have characteristics dominated by the temporary regime. In a further study the temporal component may be included in the clustering process, e.g. recluster every n timestep using the last m observations."
      ]
    },
    {
      "cell_type": "markdown",
      "metadata": {
        "_cell_guid": "e1595d79-3816-c943-a463-5e4c91430c15"
      },
      "source": [
        "## Preparation"
      ]
    },
    {
      "cell_type": "code",
      "execution_count": null,
      "metadata": {
        "_cell_guid": "1b82e5e2-054d-2d80-0183-669fb396c3d3"
      },
      "outputs": [],
      "source": [
        "import numpy as np\n",
        "from scipy import stats\n",
        "import pandas as pd\n",
        "import matplotlib.pyplot as plt\n",
        "%matplotlib inline\n",
        "import seaborn as sns"
      ]
    },
    {
      "cell_type": "code",
      "execution_count": null,
      "metadata": {
        "_cell_guid": "cb354b00-2fc4-c1b7-a27f-301e7ac58589"
      },
      "outputs": [],
      "source": [
        "with pd.HDFStore('../input/train.h5') as train:\n",
        "    df = train.get('train')"
      ]
    },
    {
      "cell_type": "code",
      "execution_count": null,
      "metadata": {
        "_cell_guid": "625532e3-f5f3-69cd-19f1-9faf1eecb2e1"
      },
      "outputs": [],
      "source": [
        "moments = df[['id', 'y']].groupby('id').agg([np.mean, np.std, stats.kurtosis, stats.skew]).reset_index()"
      ]
    },
    {
      "cell_type": "code",
      "execution_count": null,
      "metadata": {
        "_cell_guid": "339f3bda-17d3-484f-8a08-4afd6ca839de"
      },
      "outputs": [],
      "source": [
        "moments.head()"
      ]
    },
    {
      "cell_type": "code",
      "execution_count": null,
      "metadata": {
        "_cell_guid": "fb3753c1-d6f3-959e-cabe-174da9a10bf6"
      },
      "outputs": [],
      "source": [
        "sec = moments['id']\n",
        "dat = moments['y']"
      ]
    },
    {
      "cell_type": "code",
      "execution_count": null,
      "metadata": {
        "_cell_guid": "99f83f3b-d2de-f98f-4a1f-901ceb89d3cb"
      },
      "outputs": [],
      "source": [
        "# Scale the data\n",
        "from sklearn.preprocessing import StandardScaler\n",
        "scal = StandardScaler()\n",
        "dat = scal.fit_transform(dat)"
      ]
    },
    {
      "cell_type": "markdown",
      "metadata": {
        "_cell_guid": "723fc640-a46c-7019-2790-5658c1f1bb7e"
      },
      "source": [
        "## Visualisation"
      ]
    },
    {
      "cell_type": "code",
      "execution_count": null,
      "metadata": {
        "_cell_guid": "799bb464-1419-6776-51ed-af48a53f2730"
      },
      "outputs": [],
      "source": [
        "dat = pd.DataFrame(dat)\n",
        "dat.columns = ['mean', 'std', 'kurtoris', 'skew']"
      ]
    },
    {
      "cell_type": "code",
      "execution_count": null,
      "metadata": {
        "_cell_guid": "e79bdc01-2f66-fa7f-c106-a3a6ac6d8213"
      },
      "outputs": [],
      "source": [
        "sns.pairplot(dat, size=1.5);"
      ]
    },
    {
      "cell_type": "markdown",
      "metadata": {
        "_cell_guid": "75b7bef7-8b9c-eb66-755b-f764ad5a7ff8"
      },
      "source": [
        "There are no well seperated clusters visible, but the plots nevertheless promise some kind diversity which we might be able to exploit."
      ]
    },
    {
      "cell_type": "markdown",
      "metadata": {
        "_cell_guid": "6de7d00d-ad67-9a01-4ab6-3dbd8baaaece"
      },
      "source": [
        "## Finding Clusters"
      ]
    },
    {
      "cell_type": "code",
      "execution_count": null,
      "metadata": {
        "_cell_guid": "8aba3c40-3297-7b2f-4e67-e53a51fb8ef4"
      },
      "outputs": [],
      "source": [
        "from sklearn.cluster import KMeans\n",
        "from sklearn.metrics import silhouette_score"
      ]
    },
    {
      "cell_type": "code",
      "execution_count": null,
      "metadata": {
        "_cell_guid": "43c71a71-af6e-5c63-a8c1-8b837211a557"
      },
      "outputs": [],
      "source": [
        "# determine suitable number of clusters with silhouette score\n",
        "k_max = 20\n",
        "k_range = range(2,k_max)\n",
        "scores = []\n",
        "for k in k_range:\n",
        "    model = KMeans(n_clusters=k, n_init=20).fit(dat)\n",
        "    scores.append(silhouette_score(dat, model.labels_))"
      ]
    },
    {
      "cell_type": "code",
      "execution_count": null,
      "metadata": {
        "_cell_guid": "1b2bf5a7-92c7-489d-c097-2753ce5d3218"
      },
      "outputs": [],
      "source": [
        "plt.figure()\n",
        "plt.plot(k_range, scores);\n",
        "plt.title('Results KMeans')\n",
        "plt.xlabel('n_clusters');\n",
        "plt.ylabel('Silhouette Score');"
      ]
    },
    {
      "cell_type": "markdown",
      "metadata": {
        "_cell_guid": "4cb6e3b1-3c5c-6675-aafb-ea7b3c70800a"
      },
      "source": [
        "This plot suggests that we should choose a k between 2 and 6. I will continue with a k=3."
      ]
    },
    {
      "cell_type": "code",
      "execution_count": null,
      "metadata": {
        "_cell_guid": "73cb065e-0b52-4455-74e8-36cb356ec25b"
      },
      "outputs": [],
      "source": [
        "k = 3"
      ]
    },
    {
      "cell_type": "code",
      "execution_count": null,
      "metadata": {
        "_cell_guid": "9dc72542-455c-6d07-bb9b-0fdbe2bceb4a"
      },
      "outputs": [],
      "source": [
        "model = KMeans(n_clusters=k).fit(dat)"
      ]
    },
    {
      "cell_type": "code",
      "execution_count": null,
      "metadata": {
        "_cell_guid": "948a7b29-c130-583b-f2cf-4c6bf6cfe598"
      },
      "outputs": [],
      "source": [
        "labels = pd.DataFrame([sec,model.labels_]).transpose()\n",
        "labels.columns = ['sec', 'label']"
      ]
    },
    {
      "cell_type": "code",
      "execution_count": null,
      "metadata": {
        "_cell_guid": "8208b81d-fe18-afb1-88e4-9d2a489f1b03"
      },
      "outputs": [],
      "source": [
        "labels.head()"
      ]
    },
    {
      "cell_type": "code",
      "execution_count": null,
      "metadata": {
        "_cell_guid": "26d4869f-27bd-e500-8e76-84a5d0c14c9e"
      },
      "outputs": [],
      "source": [
        "# Create list of list such that members[i] contains id's with label i\n",
        "members = []\n",
        "for i in range(k):\n",
        "    members.append(list(labels.sec[labels.label==i]))"
      ]
    },
    {
      "cell_type": "code",
      "execution_count": null,
      "metadata": {
        "_cell_guid": "587c34db-1760-5cb9-eac3-8feba736ca91"
      },
      "outputs": [],
      "source": [
        "print(\"Size of each group: \", [len(_) for _ in members])"
      ]
    },
    {
      "cell_type": "markdown",
      "metadata": {
        "_cell_guid": "3ff2e399-9148-4206-9c33-8942bfcab981"
      },
      "source": [
        "The small group is probably made up by the outliers we saw in the previous plot."
      ]
    },
    {
      "cell_type": "markdown",
      "metadata": {
        "_cell_guid": "aac7a04a-552a-bd64-0125-79f831ea67a3"
      },
      "source": [
        "## Exploring Cluster Characteristics"
      ]
    },
    {
      "cell_type": "markdown",
      "metadata": {
        "_cell_guid": "4957c1d2-a7a1-67c1-b59e-31a057afc6cd"
      },
      "source": [
        "If the different clusters would indeed correspond to different asset classes, I would suspect that the available information for the different id's would reflect that, as bonds have different fundamentals as stocks or certain small caps might not report on all fundamentals that large caps do."
      ]
    },
    {
      "cell_type": "code",
      "execution_count": null,
      "metadata": {
        "_cell_guid": "8cf96c9c-6df4-8a3d-d674-4a6bcc6dbc4e"
      },
      "outputs": [],
      "source": [
        "prop_nan = pd.DataFrame(index=range(k), columns=df.columns[2:-1])\n",
        "for i in range(k): #go through labels\n",
        "    dfi = df.loc[df['id'].isin(members[i]),:]\n",
        "    n = len(dfi)\n",
        "    for col in dfi.columns[2:-1]: #go through feature cols\n",
        "        prop_nan.set_value(i, col, dfi[col].isnull().sum() / n)\n",
        "for col in df.columns[2:-1]: #go through feature cols\n",
        "    prop_nan.set_value('mean', col, df[col].isnull().sum() / len(df))\n",
        "    "
      ]
    },
    {
      "cell_type": "code",
      "execution_count": null,
      "metadata": {
        "_cell_guid": "7306c77c-316f-940e-0436-9d537aec1238"
      },
      "outputs": [],
      "source": [
        "# only look at the features with significant missing data (>10%)\n",
        "prop_nan_sel = prop_nan.loc[:,prop_nan.loc['mean',:] > 0.1].reset_index()"
      ]
    },
    {
      "cell_type": "code",
      "execution_count": null,
      "metadata": {
        "_cell_guid": "041f3f3e-bbf3-d8c3-42fc-5784ae94059a"
      },
      "outputs": [],
      "source": [
        "prop_nan_sel"
      ]
    },
    {
      "cell_type": "code",
      "execution_count": null,
      "metadata": {
        "_cell_guid": "21958ecc-d203-01de-0383-648420ce06e0"
      },
      "outputs": [],
      "source": [
        "n = len(prop_nan_sel.columns[1:])\n",
        "cols = 3\n",
        "f, axarr = plt.subplots(int(n/cols)+1, cols, figsize=(8,30))\n",
        "i = 0\n",
        "for col in prop_nan_sel.columns[1:]:\n",
        "    sns.barplot(x='index', y=col, data=prop_nan_sel,ax=axarr[int(i/cols),i%cols]);\n",
        "    axarr[int(i/cols),i%cols].set_ylabel('')\n",
        "    axarr[int(i/cols),i%cols].set_xlabel('')\n",
        "    i += 1"
      ]
    },
    {
      "cell_type": "markdown",
      "metadata": {
        "_cell_guid": "deb47719-1544-12d3-0e4f-34daf8853865"
      },
      "source": [
        "Apparently our 'outlier class' has a significant amount of missing data. A reasonable explanation would be that these securities are penny stocks or the like which are highly volatile and don't have to publish the same data as blue chips do. \n",
        "We can also observe that there are features for which either one of the two main classes, 0 or 1, have significantly more missing data than the other one. Maybe just confirmation bias (?) but is probably still worth digging deeper..."
      ]
    },
    {
      "cell_type": "markdown",
      "metadata": {
        "_cell_guid": "080d03d8-639d-6f81-6e64-ced5ac0c02f9"
      },
      "source": [
        "## Conclusion"
      ]
    },
    {
      "cell_type": "markdown",
      "metadata": {
        "_cell_guid": "af8ec834-e9da-0162-f1cb-0748358cb4a6"
      },
      "source": [
        "The previous elaboration showed a simple approach to using clustering techniques on the Two Sigma dataset. Despite its rudimentariness we could already observe some visible patterns which give enough motivation to do some more work down this path. I think that clustering could be a very powerful weapon to crack this dataset.\n",
        "\n",
        "Thanks for reading! Any feedback is very much appreciated.\n",
        "\n",
        "\n",
        "\n",
        "**Potential further work:**\n",
        "\n",
        "* find better features to build clusters\n",
        " * maybe based on missing data\n",
        "* experiment with different number of clusters\n",
        "* try different models, e.g. Gaussian Mixture\n",
        "* do time dependent clustering to avoid influence of regime shifts"
      ]
    }
  ],
  "metadata": {
    "_change_revision": 0,
    "_is_fork": false,
    "kernelspec": {
      "display_name": "Python 3",
      "language": "python",
      "name": "python3"
    },
    "language_info": {
      "codemirror_mode": {
        "name": "ipython",
        "version": 3
      },
      "file_extension": ".py",
      "mimetype": "text/x-python",
      "name": "python",
      "nbconvert_exporter": "python",
      "pygments_lexer": "ipython3",
      "version": "3.5.2"
    }
  },
  "nbformat": 4,
  "nbformat_minor": 0
}