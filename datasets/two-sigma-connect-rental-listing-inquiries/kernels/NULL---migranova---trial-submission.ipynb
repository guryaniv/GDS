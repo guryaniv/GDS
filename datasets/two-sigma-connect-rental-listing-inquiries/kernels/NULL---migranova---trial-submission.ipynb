{
  "cells": [
    {
      "cell_type": "code",
      "execution_count": null,
      "metadata": {
        "_cell_guid": "e5d4aced-6b90-e3c6-0df4-5bb322b34baf"
      },
      "outputs": [],
      "source": [
        "# This Python 3 environment comes with many helpful analytics libraries installed\n",
        "# It is defined by the kaggle/python docker image: https://github.com/kaggle/docker-python\n",
        "# For example, here's several helpful packages to load in \n",
        "\n",
        "import numpy as np # linear algebra\n",
        "import pandas as pd # data processing, CSV file I/O (e.g. pd.read_csv)\n",
        "\n",
        "# Input data files are available in the \"../input/\" directory.\n",
        "# For example, running this (by clicking run or pressing Shift+Enter) will list the files in the input directory\n",
        "\n",
        "from subprocess import check_output\n",
        "print(check_output([\"ls\", \"../input\"]).decode(\"utf8\"))\n",
        "\n",
        "# Any results you write to the current directory are saved as output."
      ]
    },
    {
      "cell_type": "code",
      "execution_count": null,
      "metadata": {
        "_cell_guid": "4b7c44b2-3d98-3124-74b9-cc8315b9aea4"
      },
      "outputs": [],
      "source": [
        "#Here we import necessary libraries of scikit-learn\n",
        "from sklearn.tree import DecisionTreeClassifier\n",
        "from sklearn.model_selection import train_test_split\n",
        "from sklearn.metrics import log_loss"
      ]
    },
    {
      "cell_type": "markdown",
      "metadata": {
        "_cell_guid": "fff5594a-de08-6798-7021-0e1b98ac4ec3"
      },
      "source": [
        "**Reading data**"
      ]
    },
    {
      "cell_type": "code",
      "execution_count": null,
      "metadata": {
        "_cell_guid": "c730a235-2752-f1de-5359-586d434ae089"
      },
      "outputs": [],
      "source": [
        "trn = pd.read_json(open(\"../input/train.json\", \"r\"))\n",
        "tst = pd.read_json(open(\"../input/test.json\", \"r\"))"
      ]
    },
    {
      "cell_type": "code",
      "execution_count": null,
      "metadata": {
        "_cell_guid": "998190d9-ee95-cc03-0dae-1129a52efb0f"
      },
      "outputs": [],
      "source": [
        "#let's see how big these datasets are\n",
        "print(\"Train set: \", trn.shape)\n",
        "print(\"Test set: \", tst.shape)\n"
      ]
    },
    {
      "cell_type": "code",
      "execution_count": null,
      "metadata": {
        "_cell_guid": "3a45a738-d07b-8d66-72a6-f100c3378dcc"
      },
      "outputs": [],
      "source": [
        "list(trn.columns.values)"
      ]
    },
    {
      "cell_type": "code",
      "execution_count": null,
      "metadata": {
        "_cell_guid": "7ab65c7c-bdc6-5299-fd76-513b429cfcb0"
      },
      "outputs": [],
      "source": [
        "trn.head()"
      ]
    },
    {
      "cell_type": "code",
      "execution_count": null,
      "metadata": {
        "_cell_guid": "dd0bbf61-e7c7-5e73-3109-0732ba530dd5"
      },
      "outputs": [],
      "source": [
        "trn[\"num_photos\"] = trn[\"photos\"].apply(len)\n",
        "trn[\"num_features\"] = trn[\"features\"].apply(len)\n",
        "trn[\"num_description_words\"] = trn[\"description\"].apply(lambda x: len(x.split(\" \")))\n",
        "trn[\"created\"] = pd.to_datetime(trn[\"created\"])\n",
        "trn[\"created_year\"] = trn[\"created\"].dt.year\n",
        "trn[\"created_month\"] = trn[\"created\"].dt.month\n",
        "trn[\"created_day\"] = trn[\"created\"].dt.day"
      ]
    },
    {
      "cell_type": "code",
      "execution_count": null,
      "metadata": {
        "_cell_guid": "09a62dc1-9a5f-9a1c-bf76-39af016c0816"
      },
      "outputs": [],
      "source": [
        "list(trn.columns.values)"
      ]
    },
    {
      "cell_type": "code",
      "execution_count": null,
      "metadata": {
        "_cell_guid": "4657606a-ed2b-9bed-7b0c-86bad065ad94"
      },
      "outputs": [],
      "source": [
        "'''fts = ['bathrooms','bedrooms','building_id','created','description','display_address','features',\n",
        "         'interest_level','latitude','listing_id','longitude','manager_id','photos','price',\n",
        "         'street_address','num_photos','num_features','num_description_words',\n",
        "         'created_year','created_month','created_day']'''\n",
        "fts = [\"bathrooms\", \"bedrooms\", \"latitude\", \"longitude\", \"price\",\n",
        "             \"num_photos\", \"num_features\", \"num_description_words\",\n",
        "             \"created_year\", \"created_month\", \"created_day\"]\n",
        "X = trn[fts]\n",
        "y = trn[\"interest_level\"]"
      ]
    },
    {
      "cell_type": "markdown",
      "metadata": {
        "_cell_guid": "26e2a212-83ab-2831-2137-560dd05a4843"
      },
      "source": [
        "**Model Training**"
      ]
    },
    {
      "cell_type": "code",
      "execution_count": null,
      "metadata": {
        "_cell_guid": "0ad1261d-b7fe-d01b-532e-d9395b5429ac"
      },
      "outputs": [],
      "source": [
        "X_train, X_val, y_train, y_val = train_test_split(X, y, test_size=0.33)"
      ]
    },
    {
      "cell_type": "code",
      "execution_count": null,
      "metadata": {
        "_cell_guid": "71744c7f-f52c-e4a8-623c-933683371f82"
      },
      "outputs": [],
      "source": [
        "clf = DecisionTreeClassifier()\n",
        "clf.fit(X_train, y_train)\n",
        "y_val_pred = clf.predict_proba(X_val)\n",
        "log_loss(y_val, y_val_pred)"
      ]
    },
    {
      "cell_type": "markdown",
      "metadata": {
        "_cell_guid": "b770afbe-75d7-d110-4629-98d9786476da"
      },
      "source": [
        "**Working with test data**"
      ]
    },
    {
      "cell_type": "code",
      "execution_count": null,
      "metadata": {
        "_cell_guid": "5f5d1c9f-f5b4-b468-b666-06d7ba3222cc"
      },
      "outputs": [],
      "source": [
        "tst[\"num_photos\"] = tst[\"photos\"].apply(len)\n",
        "tst[\"num_features\"] = tst[\"features\"].apply(len)\n",
        "tst[\"num_description_words\"] = tst[\"description\"].apply(lambda x: len(x.split(\" \")))\n",
        "tst[\"created\"] = pd.to_datetime(tst[\"created\"])\n",
        "tst[\"created_year\"] = tst[\"created\"].dt.year\n",
        "tst[\"created_month\"] = tst[\"created\"].dt.month\n",
        "tst[\"created_day\"] = tst[\"created\"].dt.day\n",
        "X = tst[fts]\n",
        "\n",
        "y = clf.predict_proba(X)"
      ]
    },
    {
      "cell_type": "code",
      "execution_count": null,
      "metadata": {
        "_cell_guid": "fa527d84-65a6-1340-8132-2fda41fcaad8"
      },
      "outputs": [],
      "source": [
        "labels2idx = {label: i for i, label in enumerate(clf.classes_)}\n",
        "labels2idx"
      ]
    },
    {
      "cell_type": "code",
      "execution_count": null,
      "metadata": {
        "_cell_guid": "5ad1aedb-9009-1f65-2257-9432850ae9a8"
      },
      "outputs": [],
      "source": [
        "sub = pd.DataFrame()\n",
        "sub[\"listing_id\"] = tst[\"listing_id\"]\n",
        "for label in [\"high\", \"medium\", \"low\"]:\n",
        "    sub[label] = y[:, labels2idx[label]]\n",
        "print sub\n",
        "#sub.to_csv(\"submission_rf.csv\", index=False)"
      ]
    }
  ],
  "metadata": {
    "_change_revision": 0,
    "_is_fork": false,
    "kernelspec": {
      "display_name": "Python 3",
      "language": "python",
      "name": "python3"
    },
    "language_info": {
      "codemirror_mode": {
        "name": "ipython",
        "version": 3
      },
      "file_extension": ".py",
      "mimetype": "text/x-python",
      "name": "python",
      "nbconvert_exporter": "python",
      "pygments_lexer": "ipython3",
      "version": "3.6.0"
    }
  },
  "nbformat": 4,
  "nbformat_minor": 0
}