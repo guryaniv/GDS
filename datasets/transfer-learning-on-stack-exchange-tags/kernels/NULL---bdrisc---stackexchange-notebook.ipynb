{
  "cells": [
    {
      "cell_type": "code",
      "execution_count": null,
      "metadata": {
        "_cell_guid": "b9b15e3f-888a-1f4c-0b94-16dbbde11c65"
      },
      "outputs": [],
      "source": [
        "# This Python 3 environment comes with many helpful analytics libraries installed\n",
        "# It is defined by the kaggle/python docker image: https://github.com/kaggle/docker-python\n",
        "# For example, here's several helpful packages to load in \n",
        "\n",
        "import numpy as np # linear algebra\n",
        "import pandas as pd # data processing, CSV file I/O (e.g. pd.read_csv)\n",
        "\n",
        "# Input data files are available in the \"../input/\" directory.\n",
        "# For example, running this (by clicking run or pressing Shift+Enter) will list the files in the input directory\n",
        "\n",
        "from subprocess import check_output\n",
        "print(check_output([\"ls\", \"../input\"]).decode(\"utf8\"))\n",
        "\n",
        "# import the data\n",
        "df_biology = pd.read_csv('../input/biology.csv')\n",
        "df_cooking = pd.read_csv('../input/cooking.csv')\n",
        "df_crypto = pd.read_csv('../input/crypto.csv')\n",
        "df_diy = pd.read_csv('../input/diy.csv')\n",
        "df_robotics = pd.read_csv('../input/robotics.csv')\n",
        "df_travel = pd.read_csv('../input/travel.csv')\n",
        "df_test = pd.read_csv('../input/test.csv')\n",
        "df_sample = pd.read_csv('../input/sample_submission.csv')\n",
        "\n",
        "df_biology['type'] = 'biology'\n",
        "df_cooking['type'] = 'cooking'\n",
        "df_crypto['type'] = 'crypto'\n",
        "df_diy['type'] = 'diy'\n",
        "df_robotics['type'] = 'robotics'\n",
        "df_travel['type'] = 'travel'\n",
        "\n",
        "df_train = pd.concat([df_biology, df_cooking, df_crypto, df_diy, df_robotics, df_travel], ignore_index=True)\n",
        "print (df_train.head(20))\n",
        "\n",
        "pd.set_option('display.max_columns', None)\n",
        "pd.set_option('display.max_rows', None)\n",
        "pd.set_option('display.float_format', lambda x: '%.5f' % x)\n"
      ]
    },
    {
      "cell_type": "code",
      "execution_count": null,
      "metadata": {
        "_cell_guid": "50a8c43c-6a65-f446-614c-453c9c70fc0f"
      },
      "outputs": [],
      "source": [
        "types = df_train['type'].unique()\n",
        "total_unique_tags = []\n",
        "for curtype in types:\n",
        "    print (curtype)\n",
        "    df_cur = df_train[df_train['type'] == curtype]\n",
        "    tags = []\n",
        "    for tag in df_cur['tags']:\n",
        "        cur_tags = tag.split()\n",
        "        tags.extend(cur_tags)\n",
        "\n",
        "    print (df_cur.shape[0])\n",
        "    print (len(tags))\n",
        "    tags_set = set(tags)\n",
        "    print (len(tags_set))\n",
        "    total_unique_tags.extend(list(tags_set))\n",
        "\n",
        "print (\"DONE\")\n",
        "print (len(total_unique_tags))\n",
        "total_unique_tags = list(set(total_unique_tags))\n",
        "print (len(total_unique_tags))\n"
      ]
    }
  ],
  "metadata": {
    "_change_revision": 0,
    "_is_fork": false,
    "kernelspec": {
      "display_name": "Python 3",
      "language": "python",
      "name": "python3"
    },
    "language_info": {
      "codemirror_mode": {
        "name": "ipython",
        "version": 3
      },
      "file_extension": ".py",
      "mimetype": "text/x-python",
      "name": "python",
      "nbconvert_exporter": "python",
      "pygments_lexer": "ipython3",
      "version": "3.6.0"
    }
  },
  "nbformat": 4,
  "nbformat_minor": 0
}