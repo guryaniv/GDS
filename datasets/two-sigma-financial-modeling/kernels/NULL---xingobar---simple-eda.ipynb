{
  "cells": [
    {
      "cell_type": "code",
      "execution_count": null,
      "metadata": {
        "_cell_guid": "8c8f4e53-4aa4-20cf-8d88-59d4d7ad3878"
      },
      "outputs": [],
      "source": [
        "# This Python 3 environment comes with many helpful analytics libraries installed\n",
        "# It is defined by the kaggle/python docker image: https://github.com/kaggle/docker-python\n",
        "# For example, here's several helpful packages to load in \n",
        "\n",
        "import numpy as np # linear algebra\n",
        "import pandas as pd # data processing, CSV file I/O (e.g. pd.read_csv)\n",
        "import matplotlib.pyplot as plt\n",
        "import seaborn as sns\n",
        "%matplotlib inline\n",
        "# Input data files are available in the \"../input/\" directory.\n",
        "# For example, running this (by clicking run or pressing Shift+Enter) will list the files in the input directory\n",
        "\n",
        "from subprocess import check_output\n",
        "print(check_output([\"ls\", \"../input\"]).decode(\"utf8\"))\n",
        "\n",
        "# Any results you write to the current directory are saved as output."
      ]
    },
    {
      "cell_type": "code",
      "execution_count": null,
      "metadata": {
        "_cell_guid": "b38a45c4-544d-8289-f230-35cdbea524ab"
      },
      "outputs": [],
      "source": [
        "with pd.HDFStore('../input/train.h5') as train:\n",
        "    df = train.get('train')"
      ]
    },
    {
      "cell_type": "code",
      "execution_count": null,
      "metadata": {
        "_cell_guid": "59d613a2-48a7-2724-f103-9bbaaef7e33d"
      },
      "outputs": [],
      "source": [
        "print('Shape : {}'.format(df.shape))"
      ]
    },
    {
      "cell_type": "code",
      "execution_count": null,
      "metadata": {
        "_cell_guid": "b8fa64a9-3114-02fb-a9f9-e7c9f0ef092e"
      },
      "outputs": [],
      "source": [
        "derive_count = 0\n",
        "fundamental_count = 0\n",
        "technical_count = 0\n",
        "for col in df.columns:\n",
        "    if 'derived' in col:\n",
        "        derive_count +=1\n",
        "    elif 'fundamental' in col:\n",
        "        fundamental_count +=1\n",
        "    elif 'technical' in col:\n",
        "        technical_count +=1\n",
        "print('the number of derive : {} \\nthe number of fundamental: {} \\nthe number of technical : {}'.\\\n",
        "       format(derive_count,fundamental_count,technical_count))"
      ]
    },
    {
      "cell_type": "code",
      "execution_count": null,
      "metadata": {
        "_cell_guid": "57c4f195-a67a-4850-4dbd-e85d33cf2880"
      },
      "outputs": [],
      "source": [
        "print('Column dtypes')\n",
        "print(df.dtypes.value_counts())"
      ]
    },
    {
      "cell_type": "code",
      "execution_count": null,
      "metadata": {
        "_cell_guid": "b1577d58-b7fa-621c-d167-4e45e00678fb"
      },
      "outputs": [],
      "source": [
        "plt.title('Distribution of target variable')\n",
        "df['y'].plot(kind='hist',bins=50)\n",
        "plt.ylabel('Count')\n",
        "plt.xlabel('Target Value')\n",
        "print('min : {0:.3f} , max : {1:.3f} , mean : {2:.3f} ,std : {3:.3f}'.format(np.min(df['y']), np.max(df['y']) , np.mean(df['y']) , np.std(df['y']) ))"
      ]
    },
    {
      "cell_type": "code",
      "execution_count": null,
      "metadata": {
        "_cell_guid": "cee70d53-21e5-85f3-e3cd-6e591c283da2"
      },
      "outputs": [],
      "source": [
        "target = df['y'].values ## array\n",
        "print('Target value less than -0.05  : {}'.format(len(target[target < -0.05])))\n",
        "print('Target Value less than -0.05  : {} times' .format(round(len(target[target < -0.05]) / len(target),4) ))\n",
        "print('Target valaue greater than 0.05 : {}'.format(len(target[target > 0.05])))\n",
        "print('Target Value greater than 0.05  : {} times' .format(round(len(target[target > 0.05]) / len(target),4) ))"
      ]
    },
    {
      "cell_type": "code",
      "execution_count": null,
      "metadata": {
        "_cell_guid": "c1a4c10a-2b17-5957-e11e-1691c1591e90"
      },
      "outputs": [],
      "source": [
        "df.head()"
      ]
    },
    {
      "cell_type": "code",
      "execution_count": null,
      "metadata": {
        "_cell_guid": "8b13cf3b-e164-a0e9-22e4-36631776855b"
      },
      "outputs": [],
      "source": [
        "df['timestamp'].plot(kind='hist',bins=50)\n",
        "plt.xlabel('Timestamp')\n",
        "plt.ylabel('Count')"
      ]
    },
    {
      "cell_type": "code",
      "execution_count": null,
      "metadata": {
        "_cell_guid": "a22c0dbf-4a60-fb40-e77c-97186551dce8"
      },
      "outputs": [],
      "source": [
        "plt.figure(figsize=(12,5))\n",
        "y_bytimestamp = df.groupby('timestamp')['y'].agg('mean').reset_index()\n",
        "y_bytimestamp.plot(x='timestamp',y='y')\n",
        "plt.ylabel('mean of target')\n",
        "plt.legend().set_visible(False) ## remove legend\n",
        "\n",
        "\n",
        "y_bytimestamp.plot(kind='scatter',x='timestamp',y='y')\n",
        "plt.ylabel('mean of target')\n",
        "plt.xlabel('timestamp')"
      ]
    },
    {
      "cell_type": "code",
      "execution_count": null,
      "metadata": {
        "_cell_guid": "f0208e05-0194-3f14-41ef-735bdef2b623"
      },
      "outputs": [],
      "source": [
        "y_bytimestamp[:300].plot(x='timestamp',y='y',marker='^',mfc='red',markersize=3)\n",
        "plt.ylabel('mean of target')\n",
        "plt.legend().set_visible(False) ## remove legend\n",
        "\n",
        "\n",
        "y_bytimestamp[:300].plot(kind='scatter',x='timestamp',y='y')\n",
        "plt.ylabel('mean of target')"
      ]
    },
    {
      "cell_type": "code",
      "execution_count": null,
      "metadata": {
        "_cell_guid": "3ba0ffb0-f517-e620-bea6-88647d9413a2"
      },
      "outputs": [],
      "source": [
        "col = ['derived_0','derived_1','derived_2','derived_4','y']\n",
        "corr = df[col].corr()\n",
        "sns.heatmap(corr)\n",
        "plt.xticks(rotation=90)"
      ]
    },
    {
      "cell_type": "code",
      "execution_count": null,
      "metadata": {
        "_cell_guid": "be371a86-ed6b-fc09-d2e2-56186400d754"
      },
      "outputs": [],
      "source": [
        "plt.figure(figsize=(12,6))\n",
        "ax = plt.subplot(321)\n",
        "plt.scatter(x = df['derived_0'],y=df['y'])\n",
        "ax.set_title('derived_0 vs y')\n",
        "\n",
        "ax = plt.subplot(322)\n",
        "plt.scatter(x=df['derived_1'],y=df['y'])\n",
        "ax.set_title('derived_1 vs y')\n",
        "\n",
        "ax = plt.subplot(323)\n",
        "plt.scatter(x=df['derived_2'],y=df['y'])\n",
        "ax.set_title('derived_2 vs y')\n",
        "\n",
        "ax = plt.subplot(324)\n",
        "plt.scatter(x=df['derived_3'],y=df['y'])\n",
        "ax.set_title('derived_3 vs y')\n",
        "\n",
        "\n",
        "ax = plt.subplot(325)\n",
        "plt.scatter(x=df['derived_4'],y=df['y'])\n",
        "ax.set_title('derived_4 vs y')"
      ]
    },
    {
      "cell_type": "code",
      "execution_count": null,
      "metadata": {
        "_cell_guid": "424aca44-b10b-3a9b-0829-c92e9d18c113"
      },
      "outputs": [],
      "source": [
        "col = ['fundamental_0','fundamental_1','fundamental_2','fundamental_3','fundamental_5',\n",
        " 'fundamental_6', 'fundamental_7', 'fundamental_8', 'fundamental_9',\n",
        " 'fundamental_10', 'fundamental_11', 'fundamental_12', 'fundamental_13',\n",
        " 'fundamental_14', 'fundamental_15', 'fundamental_16', 'fundamental_17',\n",
        " 'fundamental_18', 'fundamental_19', 'fundamental_20', 'fundamental_21',\n",
        " 'fundamental_22', 'fundamental_23', 'fundamental_24',\n",
        " 'fundamental_25', 'fundamental_26', 'fundamental_27', 'fundamental_28',\n",
        " 'fundamental_29', 'fundamental_30', 'fundamental_31', 'fundamental_32',\n",
        " 'fundamental_33', 'fundamental_34', 'fundamental_35', 'fundamental_36',\n",
        " 'fundamental_37', 'fundamental_38', 'fundamental_39', 'fundamental_40',\n",
        " 'fundamental_41', 'fundamental_42', 'fundamental_43', 'fundamental_44',\n",
        " 'fundamental_45', 'fundamental_46', 'fundamental_47', 'fundamental_48',\n",
        " 'fundamental_49', 'fundamental_50', 'fundamental_51', 'fundamental_52',\n",
        " 'fundamental_53', 'fundamental_54', 'fundamental_55', 'fundamental_56',\n",
        " 'fundamental_57', 'fundamental_58', 'fundamental_59', 'fundamental_60',\n",
        " 'fundamental_61', 'fundamental_62', 'fundamental_63']"
      ]
    },
    {
      "cell_type": "code",
      "execution_count": null,
      "metadata": {
        "_cell_guid": "b6afd713-64a1-1319-a0f0-d5dcb2ab23d1"
      },
      "outputs": [],
      "source": [
        "plt.figure(figsize=(12,6))\n",
        "plt.subplot(221)\n",
        "col_1 = col[:15]\n",
        "col_1.append('y')\n",
        "sns.heatmap(df[col_1].corr())\n",
        "\n",
        "plt.subplot(222)\n",
        "col_2 = col[15:31]\n",
        "col_2.append('y')\n",
        "sns.heatmap(df[col_2].corr())\n",
        "\n",
        "plt.subplot(223)\n",
        "col_3 = col[31:47]\n",
        "col_3.append('y')\n",
        "sns.heatmap(df[col_3].corr())\n",
        "\n",
        "plt.subplot(224)\n",
        "col_4 = col[47:]\n",
        "col_4.append('y')\n",
        "sns.heatmap(df[col_4].corr())"
      ]
    },
    {
      "cell_type": "code",
      "execution_count": null,
      "metadata": {
        "_cell_guid": "8380c2aa-13ea-6218-07eb-2146b2e25605"
      },
      "outputs": [],
      "source": [
        "technical_col = [col for col in df.columns.tolist() if 'technical' in col]"
      ]
    },
    {
      "cell_type": "code",
      "execution_count": null,
      "metadata": {
        "_cell_guid": "614c7f3c-eead-7df4-f1e9-510c0caf4baf"
      },
      "outputs": [],
      "source": [
        "col = ['fundamental_0','fundamental_1','fundamental_3','fundamental_5','technical_0',\n",
        " 'technical_1','technical_2', 'technical_3', 'technical_5',\n",
        " 'technical_6', 'technical_7', 'technical_9','technical_10','technical_11','technical_12']\n",
        "sns.heatmap(df[col].corr())"
      ]
    },
    {
      "cell_type": "code",
      "execution_count": null,
      "metadata": {
        "_cell_guid": "eb9d2c59-180e-922d-1a0a-3be984385c49"
      },
      "outputs": [],
      "source": [
        "from sklearn.preprocessing import StandardScaler"
      ]
    },
    {
      "cell_type": "code",
      "execution_count": null,
      "metadata": {
        "_cell_guid": "90dfd06d-e3e2-66f3-6865-9016f72b7d87"
      },
      "outputs": [],
      "source": [
        "sns.distplot(df['technical_0'].dropna())"
      ]
    },
    {
      "cell_type": "code",
      "execution_count": null,
      "metadata": {
        "_cell_guid": "969c001f-7f97-b336-5c63-70af26073b66"
      },
      "outputs": [],
      "source": [
        "y_groupbytime = df[['timestamp','y']].groupby('timestamp').agg(['mean','std',len]).reset_index()"
      ]
    },
    {
      "cell_type": "code",
      "execution_count": null,
      "metadata": {
        "_cell_guid": "ee193b16-f353-29e8-6d29-b94641dd0160"
      },
      "outputs": [],
      "source": [
        "y_groupbytime.head()"
      ]
    },
    {
      "cell_type": "code",
      "execution_count": null,
      "metadata": {
        "_cell_guid": "46701abf-71d0-e141-4590-e822e7fc599d"
      },
      "outputs": [],
      "source": [
        "timestamp = y_groupbytime['timestamp']\n",
        "mean = y_groupbytime['y']['mean']\n",
        "std = y_groupbytime['y']['std']\n",
        "length = y_groupbytime['y']['len']\n",
        "\n",
        "\n",
        "plt.figure(figsize=(8,6))\n",
        "plt.plot(timestamp,mean,'.')\n",
        "plt.xlabel('Timestamp')\n",
        "plt.ylabel('mean of y')\n",
        "\n",
        "\n",
        "\n",
        "plt.figure(figsize=(8,6))\n",
        "plt.plot(timestamp,std,'.')\n",
        "plt.xlabel('Timestamp')\n",
        "plt.ylabel('std of y')\n",
        "\n",
        "plt.figure(figsize=(8,6))\n",
        "plt.plot(timestamp,length)\n",
        "plt.xlabel('Timestamp')\n",
        "plt.ylabel('length of y')\n"
      ]
    },
    {
      "cell_type": "code",
      "execution_count": null,
      "metadata": {
        "_cell_guid": "1dc7f817-7a63-c796-abc2-50b5389880e2"
      },
      "outputs": [],
      "source": [
        ""
      ]
    }
  ],
  "metadata": {
    "_change_revision": 0,
    "_is_fork": false,
    "kernelspec": {
      "display_name": "Python 3",
      "language": "python",
      "name": "python3"
    },
    "language_info": {
      "codemirror_mode": {
        "name": "ipython",
        "version": 3
      },
      "file_extension": ".py",
      "mimetype": "text/x-python",
      "name": "python",
      "nbconvert_exporter": "python",
      "pygments_lexer": "ipython3",
      "version": "3.5.2"
    }
  },
  "nbformat": 4,
  "nbformat_minor": 0
}