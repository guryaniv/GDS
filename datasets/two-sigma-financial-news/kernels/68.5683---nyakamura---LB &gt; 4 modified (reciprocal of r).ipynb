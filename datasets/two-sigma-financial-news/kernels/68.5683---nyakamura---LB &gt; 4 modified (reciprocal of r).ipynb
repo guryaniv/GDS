{
  "cells": [
    {
      "metadata": {
        "trusted": true,
        "_uuid": "58b8d5c3c38a376efb9f006e657edcf762a29f3f"
      },
      "cell_type": "code",
      "source": "from kaggle.competitions import twosigmanews\nfrom IPython.core.display import display\n\nenv = twosigmanews.make_env()\n\ndf = env._var07.set_index([\"assetCode\", \"time\"], verify_integrity=True)\ndf[\"confidenceValue\"] = 2 * (df.returnsOpenNextMktres10 > 0).astype(float) - 1\n\nm = min(df[df.returnsOpenNextMktres10 > 0].returnsOpenNextMktres10.min(), df[df.returnsOpenNextMktres10 < 0].returnsOpenNextMktres10.max() * -1)\n\nfor (\n    market_obs_df,\n    news_obs_df,\n    predictions_template_df,\n) in env.get_prediction_days():\n    predictions_df = (\n        predictions_template_df.set_index(\"assetCode\")\n        .join(\n            market_obs_df.set_index([\"assetCode\", \"time\"])\n            .join(df.returnsOpenNextMktres10, how=\"left\")\n            .returnsOpenNextMktres10.reset_index()\n            .drop(\"time\", axis=1)\n            .set_index(\"assetCode\"),\n            how=\"inner\",\n            lsuffix=\"_\",\n        )\n        .reset_index()\n    )\n    predictions_df.confidenceValue = 1 / predictions_df.returnsOpenNextMktres10 * m\n    predictions_df.drop(\"returnsOpenNextMktres10\", axis=1)\n    \n    env.predict(predictions_df)\n\nenv.write_submission_file()",
      "execution_count": null,
      "outputs": []
    },
    {
      "metadata": {
        "_uuid": "2312eb7969c6e9760b8f3960a48ed6b55085113e"
      },
      "cell_type": "markdown",
      "source": "This kernel is modified from Alan Pennacchio's `env._var07`.\nThis ConfidenceValue is calculated from reciprocal of \"r\"(returnsOpenNextMktres10), and it seems that it is almost a value close to the upper limit.\nSince this is obviously a unfair score, we expect kaggle operator to quickly support."
    }
  ],
  "metadata": {
    "kernelspec": {
      "display_name": "Python 3",
      "language": "python",
      "name": "python3"
    },
    "language_info": {
      "name": "python",
      "version": "3.6.6",
      "mimetype": "text/x-python",
      "codemirror_mode": {
        "name": "ipython",
        "version": 3
      },
      "pygments_lexer": "ipython3",
      "nbconvert_exporter": "python",
      "file_extension": ".py"
    }
  },
  "nbformat": 4,
  "nbformat_minor": 1
}