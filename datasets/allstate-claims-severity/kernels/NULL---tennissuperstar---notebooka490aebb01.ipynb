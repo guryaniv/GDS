{
  "cells": [
    {
      "cell_type": "code",
      "execution_count": null,
      "metadata": {
        "_cell_guid": "63b4a4b1-ffba-87a1-bcd5-8c00d06a6234"
      },
      "outputs": [],
      "source": [
        "# This Python 3 environment comes with many helpful analytics libraries installed\n",
        "# It is defined by the kaggle/python docker image: https://github.com/kaggle/docker-python\n",
        "# For example, here's several helpful packages to load in \n",
        "\n",
        "import numpy as np # linear algebra\n",
        "import pandas as pd # data processing, CSV file I/O (e.g. pd.read_csv)\n",
        "\n",
        "# Input data files are available in the \"../input/\" directory.\n",
        "# For example, running this (by clicking run or pressing Shift+Enter) will list the files in the input directory\n",
        "\n",
        "from subprocess import check_output\n",
        "print(check_output([\"ls\", \"../input\"]).decode(\"utf8\"))\n",
        "\n",
        "# Any results you write to the current directory are saved as output.\n",
        "# Read in your data\n",
        "train = pd.read_csv('../input/train.csv')\n",
        "test = pd.read_csv('../input/test.csv')"
      ]
    },
    {
      "cell_type": "markdown",
      "metadata": {
        "_cell_guid": "a1e9ba0e-01ba-51a9-6916-1439bb973552"
      },
      "source": [
        "**Script Outline**\n",
        "\n",
        "In this challenge we are looking to predict loss from all the given data.  We will approach this with the following steps.  I tried to add explanation on top of techniques that I have included myself and pulled from other scripts.\n",
        "\n",
        " 1. General Data Exploration\n",
        " 2. Visualizations\n",
        " 3. Data Preprocessing\n",
        " 4. Generate Models\n",
        " 5. Predict on test data\n"
      ]
    },
    {
      "cell_type": "markdown",
      "metadata": {
        "_cell_guid": "38041ad4-adf5-df5d-adb8-d16d8b02f619"
      },
      "source": [
        "**General Data Exploration**\n",
        "\n",
        "Data exploration can seem arbitrary if you don't have a question that you are looking to answer.  Asking questions helps give me an idea of what I'm looking for from the visualization.\n",
        "\n",
        "Here are the first batch of questions:\n",
        "\n",
        " - What are the dimensions of the data?\n",
        " - What does the data look like?\n",
        " - Do we have missing values? Negative values? Categorical variables? Numerical data?"
      ]
    },
    {
      "cell_type": "code",
      "execution_count": null,
      "metadata": {
        "_cell_guid": "0545bc51-6bb8-6a72-d203-f697c1254a9d"
      },
      "outputs": [],
      "source": [
        "# Data dimensions - the data has 188318 entries and 132 columns\n",
        "train.shape"
      ]
    },
    {
      "cell_type": "code",
      "execution_count": null,
      "metadata": {
        "_cell_guid": "8d3b12f0-de48-e882-4bfc-b461e25c4379"
      },
      "outputs": [],
      "source": [
        "# What does the data look like? \n",
        "train.head()"
      ]
    },
    {
      "cell_type": "code",
      "execution_count": null,
      "metadata": {
        "_cell_guid": "796d31c7-0b7a-c38e-61ac-732b0b2e430b"
      },
      "outputs": [],
      "source": [
        "# Questions: Do we have missing values? Negative values? Categorical/ numerical variables?\n",
        "\n",
        "# Results: \n",
        "# We determine there are no missing values as all the counts are 188318\n",
        "# There are no negative values as all min > 0\n",
        "# Describe() only includes numerical variables \n",
        "# To include categorical variables use describe(include=['object'])\n",
        "# This tells us there are 116 categorical variables and 14 numerical variables\n",
        "\n",
        "print(train.describe())\n",
        "print(train.describe(include = ['object']))"
      ]
    },
    {
      "cell_type": "markdown",
      "metadata": {
        "_cell_guid": "14e5bc8c-3312-cecb-9e5c-c5e7f187effe"
      },
      "source": [
        "**General Data Exploration Results**\n",
        "\n",
        "From the exploration we can do the following:\n",
        "\n",
        " - Remove the id column since that only serves to list out all the rows and doesn't add value to the data\n",
        " - Split the data into numerical data and categorical data for further processing\n",
        " - Proceed with our data exploration using the categorical and numerical data separately"
      ]
    },
    {
      "cell_type": "code",
      "execution_count": null,
      "metadata": {
        "_cell_guid": "c3fa8c21-ac6e-4bf4-cfb0-1033e4f5a645"
      },
      "outputs": [],
      "source": [
        "# Remove the id column - for a python dataframe you can remove columns in two ways\n",
        "# The axis parameter in the first option specifies we are dropping a column\n",
        "# The function iloc [:, 1:] says keep all rows and all columns from 1 on therefore excluding\n",
        "# the id column at index 0\n",
        "\n",
        "train = train.drop('id', axis=1)\n",
        "# train = train.iloc[:, 1:]\n",
        "\n",
        "\n",
        "# Split the data into numerical and categorical data\n",
        "categorical_data = train.iloc[:, :116]\n",
        "numerical_data = train.iloc[:, 116:]\n",
        "print(categorical_data.columns)"
      ]
    },
    {
      "cell_type": "markdown",
      "metadata": {
        "_cell_guid": "2a3cae6e-482a-d44c-fe9a-4acf3661e5e2"
      },
      "source": [
        "**Categorical Data Exploration**\n",
        "\n",
        "In order to better understand the categories, I'll ask the following:\n",
        "For each categorical variable, how many samples are there for each category?"
      ]
    },
    {
      "cell_type": "code",
      "execution_count": null,
      "metadata": {
        "_cell_guid": "fc122306-6ef8-eafd-5c42-1a6972c8bf21"
      },
      "outputs": [],
      "source": [
        "# Loop through each column of categorical data and get the unique categories.\n",
        "# We will create a bar plot for each.\n",
        "\n"
      ]
    }
  ],
  "metadata": {
    "_change_revision": 0,
    "_is_fork": false,
    "kernelspec": {
      "display_name": "Python 3",
      "language": "python",
      "name": "python3"
    },
    "language_info": {
      "codemirror_mode": {
        "name": "ipython",
        "version": 3
      },
      "file_extension": ".py",
      "mimetype": "text/x-python",
      "name": "python",
      "nbconvert_exporter": "python",
      "pygments_lexer": "ipython3",
      "version": "3.5.2"
    }
  },
  "nbformat": 4,
  "nbformat_minor": 0
}