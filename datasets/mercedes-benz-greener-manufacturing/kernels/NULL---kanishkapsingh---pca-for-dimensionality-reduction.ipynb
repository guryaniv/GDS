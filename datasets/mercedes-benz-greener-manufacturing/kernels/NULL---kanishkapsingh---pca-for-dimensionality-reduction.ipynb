{
  "cells": [
    {
      "cell_type": "code",
      "execution_count": null,
      "metadata": {
        "_cell_guid": "2d7ac2c7-93da-87d0-68eb-ab97a13bd4cd"
      },
      "outputs": [],
      "source": [
        "from pandas import DataFrame,read_csv,notnull,isnull,get_dummies,concat,unique,merge\n",
        "from matplotlib import pyplot as plt\n",
        "import seaborn as sns\n",
        "import numpy as np\n",
        "import xgboost as xgb\n",
        "from sklearn.decomposition import PCA\n",
        "from sklearn.feature_selection import VarianceThreshold\n",
        "from sklearn.preprocessing import StandardScaler,MinMaxScaler\n",
        "from sklearn.ensemble import GradientBoostingRegressor,RandomForestRegressor\n",
        "from sklearn.model_selection import GridSearchCV\n",
        "from sklearn.metrics import accuracy_score,log_loss,mean_squared_error,r2_score"
      ]
    },
    {
      "cell_type": "code",
      "execution_count": null,
      "metadata": {
        "_cell_guid": "b14bba48-4de5-4221-1849-12b047bbaf6d"
      },
      "outputs": [],
      "source": [
        "seed=7\n",
        "np.random.seed(seed)\n",
        "class Merc:\n",
        "    def load_data(self):\n",
        "        self.train=read_csv('../input/train.csv',header='infer')\n",
        "        self.test=read_csv('../input/test.csv',header='infer')\n",
        "        self.train.loc[:,'y']=np.log(self.train.loc[:,'y'])\n",
        "        self.train_corr=self.train.corr()\n",
        "        self.Y_train=self.train[['ID','y']]\n",
        "        del self.train['y']\n",
        "        self.train['Source']='train'\n",
        "        self.test['Source']='test'\n",
        "        self.df=self.train.append(self.test)\n",
        "        pass\n",
        "    def preprocess_data(self):\n",
        "        cat_list=list(self.df.columns[self.df.dtypes=='object'])\n",
        "        num_list=list(self.df.columns[self.df.dtypes!='object'])\n",
        "        num_list.pop(0)\n",
        "        scale=MinMaxScaler()\n",
        "        scale.fit(self.df.loc[:,num_list])\n",
        "        num_df=scale.transform(self.df.loc[:,num_list])\n",
        "        cat_temp=get_dummies(self.df[cat_list[0]],prefix=cat_list[0])\n",
        "        for i_col in range(1,len(cat_list)):\n",
        "            cat_temp=concat([cat_temp,get_dummies(self.df.loc[:,cat_list[i_col]],prefix=cat_list[i_col])],axis=1)\n",
        "        self.proc_df=np.concatenate([num_df,cat_temp.as_matrix()],axis=1)\n",
        "        train_index=self.proc_df[:,self.proc_df.shape[1]-1]==1\n",
        "        test_index=self.proc_df[:,self.proc_df.shape[1]-2]==1\n",
        "        self.pca_analysis()\n",
        "        self.proc_train=self.proc_df[train_index,:]\n",
        "        self.proc_test=self.proc_df[test_index,:]\n",
        "        pass\n",
        "    def pca_analysis(self):\n",
        "        pc=PCA(n_components=100)\n",
        "        pc.fit(self.proc_df)\n",
        "        self.proc_df=pc.transform(self.proc_df)\n",
        "        #print(pc.explained_variance_ratio_)\n",
        "        print('% of variance explained:',np.sum(pc.explained_variance_ratio_))\n",
        "        pass\n",
        "    def XGClassifier(self):\n",
        "        sv=GradientBoostingRegressor()\n",
        "        #params={'n_estimators':[50],'random_state':[7],'learning_rate':[0.19],'max_depth':range(1,30,5),'min_samples_split':range(20,200,40)}\n",
        "        params={}\n",
        "        cf=GridSearchCV(sv,params,scoring='r2',verbose=3,cv=5)\n",
        "        cf.fit(self.proc_train,self.Y_train['y'])\n",
        "        print('GridCV Best Score: ',cf.best_score_,'GridCV',cf.best_params_)\n",
        "        self.xg_predictions=cf.predict(self.proc_test)\n",
        "        self.xg_prediction_train=cf.predict(self.proc_train)\n",
        "        print('Mean Squared Error:')\n",
        "        print(mean_squared_error(self.Y_train['y'],self.xg_prediction_train))\n",
        "        print('R square:')\n",
        "        print(r2_score(self.Y_train['y'],self.xg_prediction_train))\n",
        "        self.xg=cf"
      ]
    },
    {
      "cell_type": "code",
      "execution_count": null,
      "metadata": {
        "_cell_guid": "3c4216e0-794f-56a9-2945-2aed079c8bc4"
      },
      "outputs": [],
      "source": [
        "mc.XGClassifier()\n",
        "columns = ['y']\n",
        "sub = DataFrame(data=mc.xg_predictions, columns=columns)\n",
        "sub['ID'] = sg.test['ID']\n",
        "sub = sub[['Id','y']]\n",
        "sub.to_csv(\"xgb_tuned_v1.csv\", index=False)"
      ]
    },
    {
      "cell_type": "code",
      "execution_count": null,
      "metadata": {
        "_cell_guid": "adf53c06-8df4-d68a-0433-eaef4e18e043"
      },
      "outputs": [],
      "source": [
        "mc=Merc()\n",
        "mc.load_data()\n",
        "mc.preprocess_data()"
      ]
    }
  ],
  "metadata": {
    "_change_revision": 0,
    "_is_fork": false,
    "kernelspec": {
      "display_name": "Python 3",
      "language": "python",
      "name": "python3"
    },
    "language_info": {
      "codemirror_mode": {
        "name": "ipython",
        "version": 3
      },
      "file_extension": ".py",
      "mimetype": "text/x-python",
      "name": "python",
      "nbconvert_exporter": "python",
      "pygments_lexer": "ipython3",
      "version": "3.6.0"
    }
  },
  "nbformat": 4,
  "nbformat_minor": 0
}