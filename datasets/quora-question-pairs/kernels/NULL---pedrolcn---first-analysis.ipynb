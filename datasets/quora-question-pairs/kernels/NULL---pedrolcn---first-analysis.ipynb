{
  "cells": [
    {
      "cell_type": "markdown",
      "metadata": {
        "_cell_guid": "6734f04d-d50a-0cb8-16e9-bfd4f630e119"
      },
      "source": [
        "First exploratory analysis"
      ]
    },
    {
      "cell_type": "code",
      "execution_count": null,
      "metadata": {
        "_cell_guid": "58213e1c-8740-ee32-4817-e54b8e18c3d6"
      },
      "outputs": [],
      "source": [
        "\"\"\"Exploratory data analysis\n",
        "    \"\"\"\n",
        "import pandas as pd\n",
        "import numpy as np\n",
        "import matplotlib.pyplot as plt\n",
        "\n",
        "# Constants\n",
        "PATH = '../input/'\n",
        "TRAIN = 'train.csv'\n",
        "TEST = 'test.csv'\n",
        "\n",
        "# Load and visualize data\n",
        "print('Reading CSV Data...')\n",
        "df_train = pd.read_csv(PATH + TRAIN)\n",
        "\n",
        "print('Data read successfully')\n",
        "df_train.head()"
      ]
    },
    {
      "cell_type": "code",
      "execution_count": null,
      "metadata": {
        "_cell_guid": "7aeccec6-f5ce-4218-c6ed-d6b8324d9cb7"
      },
      "outputs": [],
      "source": [
        "# Extract simple metricts from the dataframe\n",
        "num_examples = len(df_train)\n",
        "positive_class_ratio = round(df_train['is_duplicate'].mean()*100,2)\n",
        "qids = pd.Series(df_train['qid1'].tolist() + df_train['qid2'].tolist())\n",
        "num_repeats = np.sum(qids.value_counts() > 1)\n",
        "\n",
        "print('Number of examples: {}'.format(num_examples))\n",
        "print('Percentage of duplicates: {}%'.format(positive_class_ratio))\n",
        "print('Unique question ids: {}'.format(len(np.unique(qids))))\n",
        "print('Duplicate numbers: {}'.format(num_repeats))"
      ]
    },
    {
      "cell_type": "code",
      "execution_count": null,
      "metadata": {
        "_cell_guid": "4d3f4025-b94c-7f69-77bd-2b0724993537"
      },
      "outputs": [],
      "source": [
        "# Create a DataFrame of the questions indexed by qID\n",
        "df_questions = pd.DataFrame({'qid': df_train['qid1'].tolist() + df_train['qid2'].tolist(),\n",
        "                             'question': df_train['question1'].tolist() +\n",
        "                             df_train['question2'].tolist()})\n",
        "\n",
        "df_questions.drop_duplicates(inplace=True)\n",
        "df_questions.sort_values('qid',inplace=True)\n",
        "\n",
        "df_questions['occurrences'] = qids.value_counts().sort_index().values\n",
        "\n",
        "df_questions.index = df_questions['qid'].values\n",
        "df_questions.drop('qid',1,inplace=True)"
      ]
    }
  ],
  "metadata": {
    "_change_revision": 0,
    "_is_fork": false,
    "kernelspec": {
      "display_name": "Python 3",
      "language": "python",
      "name": "python3"
    },
    "language_info": {
      "codemirror_mode": {
        "name": "ipython",
        "version": 3
      },
      "file_extension": ".py",
      "mimetype": "text/x-python",
      "name": "python",
      "nbconvert_exporter": "python",
      "pygments_lexer": "ipython3",
      "version": "3.6.0"
    }
  },
  "nbformat": 4,
  "nbformat_minor": 0
}