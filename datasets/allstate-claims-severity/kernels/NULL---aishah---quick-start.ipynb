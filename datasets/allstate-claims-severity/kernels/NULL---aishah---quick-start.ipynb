{
  "cells": [
    {
      "cell_type": "code",
      "execution_count": null,
      "metadata": {
        "_cell_guid": "2d003dda-f23c-b69b-eac8-3de814563fe0"
      },
      "outputs": [],
      "source": [
        "%pylab inline\n",
        "%matplotlib inline\n",
        "\n",
        "import numpy as np\n",
        "import pylab as pl\n",
        "import pandas as pd\n",
        "\n",
        "# Change this to the path for your data directory\n",
        "DATA_DIR='../input/'"
      ]
    },
    {
      "cell_type": "code",
      "execution_count": null,
      "metadata": {
        "_cell_guid": "86cf1dde-0d6c-258a-0b5f-cf71a65f1535"
      },
      "outputs": [],
      "source": [
        "# Training data\n",
        "TR0 = pd.read_csv(DATA_DIR+'train.csv')\n",
        "# Testing data\n",
        "TS0 = pd.read_csv(DATA_DIR+'test.csv')"
      ]
    },
    {
      "cell_type": "code",
      "execution_count": null,
      "metadata": {
        "_cell_guid": "25f14240-135e-3ce0-8842-d56dce507a3c"
      },
      "outputs": [],
      "source": [
        "TR0.head()"
      ]
    },
    {
      "cell_type": "code",
      "execution_count": null,
      "metadata": {
        "_cell_guid": "d2d02887-5803-8942-541c-6af6e21884fd"
      },
      "outputs": [],
      "source": [
        "# What's the size of the data set?\n",
        "TS0.shape,TR0.shape"
      ]
    },
    {
      "cell_type": "code",
      "execution_count": null,
      "metadata": {
        "_cell_guid": "4745574c-ccdf-f354-6dd4-416ec5a6ac55"
      },
      "outputs": [],
      "source": [
        "# What's the distribution of loss ? \n",
        "x=pl.hist(np.log10(TR0.loss),20)"
      ]
    },
    {
      "cell_type": "code",
      "execution_count": null,
      "metadata": {
        "_cell_guid": "6c19698c-f3ee-a98d-113b-ceaa838e7434"
      },
      "outputs": [],
      "source": [
        "# Data are categorical and ordinal: merge test & train then transform categorical attributes \n",
        "\n",
        "j1 = TR0.shape[0]\n",
        "\n",
        "D0 = pd.concat((TR0.drop(['id','loss'],axis=1),TS0.drop(['id'],axis=1)))\n",
        "\n",
        "# Categorical attributes all start with 'cat' \n",
        "C1 = [i for i in TS0.columns if i.startswith('cat')]\n",
        "\n",
        "for c in C1:\n",
        " D0[c] = D0[c].astype('category').cat.codes"
      ]
    },
    {
      "cell_type": "code",
      "execution_count": null,
      "metadata": {
        "_cell_guid": "81ff6452-71f9-651c-308b-3242554a1da4"
      },
      "outputs": [],
      "source": [
        "# Now reconstitute the training and testing data\n",
        "TR1,TS1=D0.iloc[:j1],D0.iloc[j1:]\n",
        "# Log-transform the loss \n",
        "TR1['log_loss']=np.log10(TR0['loss'])\n",
        "TR1['id'] = TR0['id']\n",
        "TS1['id'] = TS0['id']\n",
        "TR1.set_index('id',inplace=True)\n",
        "TS1.set_index('id',inplace=True)\n",
        "TR1.shape,TS1.shape"
      ]
    },
    {
      "cell_type": "code",
      "execution_count": null,
      "metadata": {
        "_cell_guid": "f355909b-953d-2229-355b-1b82f46c7a33"
      },
      "outputs": [],
      "source": ""
    },
    {
      "cell_type": "code",
      "execution_count": null,
      "metadata": {
        "_cell_guid": "9dcff010-f0e8-731d-6660-02a7fdfc8818"
      },
      "outputs": [],
      "source": [
        "import random\n",
        "# If you want to subsample some of the data \n",
        "#I = np.random.randint(0,TS1.shape[0],100000)\n",
        "#D1 = TR1.ix[TR1.index[I]]\n",
        "#X1,Y1=D1.drop('log_loss',axis=1),D1['log_loss']\n",
        "\n",
        "# Split the data into input,output\n",
        "X1,Y1=TR1.drop('log_loss',axis=1),TR1['log_loss']\n"
      ]
    },
    {
      "cell_type": "code",
      "execution_count": null,
      "metadata": {
        "_cell_guid": "1a716337-82ca-f8b3-2f1b-03e30d4d5ceb"
      },
      "outputs": [],
      "source": [
        "from sklearn.ensemble import GradientBoostingRegressor\n",
        "from sklearn.metrics import mean_squared_error\n",
        "\n",
        "# Train \n",
        "GBR0 = GradientBoostingRegressor(n_estimators=1000,learning_rate=0.05,max_depth=3,loss='lad')\n",
        "X1,Y1=TR1.drop('log_loss',axis=1),TR1['log_loss']\n",
        "GBR0.fit(X1,Y1)"
      ]
    },
    {
      "cell_type": "code",
      "execution_count": null,
      "metadata": {
        "_cell_guid": "d4f5071a-81f4-dd17-e449-21ae5953ae9c"
      },
      "outputs": [],
      "source": [
        "# Test on the training data\n",
        "Y1p = GBR0.predict(X1)"
      ]
    },
    {
      "cell_type": "code",
      "execution_count": null,
      "metadata": {
        "_cell_guid": "e894d9cd-b2eb-1461-66cb-a28c8ffd61b3"
      },
      "outputs": [],
      "source": [
        "# What's the training performance (since log10 transformed, 10^y)?    \n",
        "from sklearn.metrics import mean_absolute_error\n",
        "\n",
        "mean_absolute_error(10**Y1,10**Y1p)\n",
        "# Ok should really look at cross-validation performance"
      ]
    },
    {
      "cell_type": "code",
      "execution_count": null,
      "metadata": {
        "_cell_guid": "d37cb29e-7bef-a578-12e4-e16bc3af62da"
      },
      "outputs": [],
      "source": [
        "# Predict the loss for test cases\n",
        "Y2 = GBR0.predict(TS1)\n",
        "Y2p = pd.DataFrame(dict(id=TS1.index,loss=10**Y2))\n",
        "Y2p.head()"
      ]
    },
    {
      "cell_type": "code",
      "execution_count": null,
      "metadata": {
        "_cell_guid": "e4bb6d93-723c-b5a7-81ca-9e1fd48b6c8c"
      },
      "outputs": [],
      "source": [
        "# Dump out to csv file for submission\n",
        "# Y2p.to_csv(DATA_DIR+'pred-v1a.csv',index=False)"
      ]
    }
  ],
  "metadata": {
    "_change_revision": 0,
    "_is_fork": false,
    "kernelspec": {
      "display_name": "Python 3",
      "language": "python",
      "name": "python3"
    },
    "language_info": {
      "codemirror_mode": {
        "name": "ipython",
        "version": 3
      },
      "file_extension": ".py",
      "mimetype": "text/x-python",
      "name": "python",
      "nbconvert_exporter": "python",
      "pygments_lexer": "ipython3",
      "version": "3.5.2"
    }
  },
  "nbformat": 4,
  "nbformat_minor": 0
}