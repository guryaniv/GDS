{
  "cells": [
    {
      "cell_type": "markdown",
      "metadata": {
        "_cell_guid": "804cf9d9-8e94-f7e7-33ac-1410a21a3039"
      },
      "source": [
        "# Part 1\n",
        "Deals with simple understanding of current Data Design....Check it for simple predictions\n",
        "### Load data\n",
        "### Check data\n",
        "### Plot data"
      ]
    },
    {
      "cell_type": "code",
      "execution_count": null,
      "metadata": {
        "_cell_guid": "155d6e56-e22f-6c7c-691a-950e1b9eb5e7"
      },
      "outputs": [],
      "source": [
        "# This Python 3 environment comes with many helpful analytics libraries installed\n",
        "# It is defined by the kaggle/python docker image: https://github.com/kaggle/docker-python\n",
        "# For example, here's several helpful packages to load in \n",
        "\n",
        "import numpy as np # linear algebra\n",
        "import pandas as pd # data processing, CSV file I/O (e.g. pd.read_csv)\n",
        "\n",
        "# Input data files are available in the \"../input/\" directory.\n",
        "# For example, running this (by clicking run or pressing Shift+Enter) will list the files in the input directory\n",
        "\n",
        "from subprocess import check_output\n",
        "print(check_output([\"ls\", \"../input\"]).decode(\"utf8\"))\n",
        "\n",
        "# Any results you write to the current directory are saved as output."
      ]
    },
    {
      "cell_type": "code",
      "execution_count": null,
      "metadata": {
        "_cell_guid": "0acae3af-8cf3-5eb2-bc57-2f9362af3797"
      },
      "outputs": [],
      "source": [
        "prop_ds = pd.read_csv('../input/properties_2016.csv',dtype={'hashottuborspa':np.str,'propertycountylandusecode':np.str,'propertyzoningdesc':np.str,'fireplaceflag':np.str,'taxdelinquencyflag':np.str})\n",
        "train_ds = pd.read_csv('../input/train_2016.csv',parse_dates=['transactiondate'])"
      ]
    },
    {
      "cell_type": "code",
      "execution_count": null,
      "metadata": {
        "_cell_guid": "5e2db184-9dcf-3f0f-6e56-ac20201fb5bc"
      },
      "outputs": [],
      "source": [
        "#Import basic libs\n",
        "%matplotlib inline\n",
        "import pandas as pd\n",
        "import numpy as np\n",
        "import matplotlib.pyplot as plt\n",
        "\n",
        "import seaborn as sns\n",
        "color = sns.color_palette()"
      ]
    },
    {
      "cell_type": "code",
      "execution_count": null,
      "metadata": {
        "_cell_guid": "0dc882e3-14e4-d9ae-8956-74e4cdf4bbe8"
      },
      "outputs": [],
      "source": [
        "prop_ds.head()"
      ]
    },
    {
      "cell_type": "code",
      "execution_count": null,
      "metadata": {
        "_cell_guid": "483dcb84-21d6-51ef-a8c3-d01f72ed2241"
      },
      "outputs": [],
      "source": [
        "train_ds.head()"
      ]
    },
    {
      "cell_type": "code",
      "execution_count": null,
      "metadata": {
        "_cell_guid": "733cbb46-44a7-c90f-1136-d943197964e9"
      },
      "outputs": [],
      "source": [
        "train_ds1 = train_ds\n",
        "train_ds1['month'] = train_ds1.transactiondate.dt.month"
      ]
    },
    {
      "cell_type": "code",
      "execution_count": null,
      "metadata": {
        "_cell_guid": "7178e12c-0635-50c5-acea-8277b6657c2e"
      },
      "outputs": [],
      "source": [
        "train_ds1.head()"
      ]
    },
    {
      "cell_type": "code",
      "execution_count": null,
      "metadata": {
        "_cell_guid": "79851033-3d34-523d-3f56-797cfddeadc0"
      },
      "outputs": [],
      "source": [
        "train_ds1.groupby('month',sort=False)['logerror'].mean()"
      ]
    },
    {
      "cell_type": "code",
      "execution_count": null,
      "metadata": {
        "_cell_guid": "fbecdb30-9984-79da-cee1-ed6f66948d24"
      },
      "outputs": [],
      "source": [
        "aggregations = {\n",
        "    'logerror' : 'mean'\n",
        "}\n",
        "#train_ds1.groupby('month').agg(aggregations).T.plot(kind='bar',)\n",
        "#train_ds1.groupby('month')['logerror'].mean().plot(kind='bar') #Gives same result as above\n",
        "avg_logerr = train_ds1.groupby('month').agg(aggregations)\n",
        "avg_logerr\n",
        "avg_logerr.T.plot(kind='bar')"
      ]
    },
    {
      "cell_type": "code",
      "execution_count": null,
      "metadata": {
        "_cell_guid": "e575b558-831c-f28b-cf6e-13515130498a"
      },
      "outputs": [],
      "source": [
        "aggregations = {\n",
        "    'parcelid' : 'count'\n",
        "}\n",
        "#train_ds1['month'].value_counts()\n",
        "monthly_sales = train_ds1.groupby('month').agg(aggregations) #It create DF with month as index\n",
        "monthly_sales = monthly_sales.rename(columns={'parcelid':'NoOfSales'}) #Rename column name from parcelid to NoOfSales\n",
        "#monthly_sales1.reset_index(level=0,inplace=True) # Move index as column\n",
        "#monthly_sales1\n",
        "monthly_sales.T.plot(kind='bar')"
      ]
    },
    {
      "cell_type": "markdown",
      "metadata": {
        "_cell_guid": "98395081-ab4f-dba5-35c4-264fb1d49470"
      },
      "source": [
        "First plot shows that logerror is quite more in month of Oct, Nov and Dec...........\n",
        "Second plot shows Sales are less in month of Oct, Nov and Dec..........."
      ]
    },
    {
      "cell_type": "code",
      "execution_count": null,
      "metadata": {
        "_cell_guid": "49921bd5-cc05-f90d-e87b-1ccdb5b3829c"
      },
      "outputs": [],
      "source": [
        "import pandas as pd\n",
        "import calendar\n",
        "avg_logerr\n",
        "avg_logerr1 = avg_logerr['logerror'].apply(lambda x : x*100)\n",
        "avg_logerr1\n",
        "\n",
        "#monthly_sales\n",
        "#monthly_sales1 = monthly_sales['month'].apply(lambda x : ((x/90811) * 100) - 10)\n",
        "#monthly_sales1\n",
        "\n",
        "monthly_sales\n",
        "monthly_sales1 = monthly_sales['NoOfSales'].apply(lambda x : np.log10(x))\n",
        "monthly_sales1\n",
        "\n",
        "compare = pd.DataFrame({'LogError': avg_logerr1[:], 'Sales': monthly_sales1[:]})\n",
        "compare.reset_index(level=0,inplace=True)\n",
        "compare['month'] = compare['month'].apply(lambda x: calendar.month_abbr[x])\n",
        "compare1 = compare.set_index('month')\n",
        "#del compare['month']\n",
        "compare1\n",
        "#month_val = compare.index\n",
        "#month_val = month_val.apply(lambda x : calendar.month_abbr[x])\n",
        "#month_val\n",
        "compare1.plot(kind='bar')\n",
        "\n",
        "#merge_sales_logerr = pd.merge(avg_logerr,monthly_sales,on = 'month', how='outer')"
      ]
    },
    {
      "cell_type": "code",
      "execution_count": null,
      "metadata": {
        "_cell_guid": "af5ed630-b0b0-b920-6826-d356a7a793e8"
      },
      "outputs": [],
      "source": [
        "#Find highest popularity Property\n",
        "aggregation = {\n",
        "    'parcelid' : 'count'\n",
        "    }\n",
        "#prop_ds.groupby('propertylandusetypeid').agg(aggregation)\n",
        "prop_ds.groupby('propertylandusetypeid').agg(aggregation).plot(kind='bar')"
      ]
    },
    {
      "cell_type": "code",
      "execution_count": null,
      "metadata": {
        "_cell_guid": "3cdb62dc-1f31-47f0-ca2b-0be59b641585"
      },
      "outputs": [],
      "source": [
        "prop_ds.groupby('regionidcity').count()"
      ]
    },
    {
      "cell_type": "code",
      "execution_count": null,
      "metadata": {
        "_cell_guid": "bef8f082-a617-cd98-7449-bff489d41c60"
      },
      "outputs": [],
      "source": [
        "#Find number of Properties per County\n",
        "aggregation = {\n",
        "       'propertylandusetypeid' : 'count'\n",
        "    }\n",
        "\n",
        "prop_ds.groupby(['regionidcounty','propertylandusetypeid']).agg(aggregation).plot(kind='bar')"
      ]
    },
    {
      "cell_type": "code",
      "execution_count": null,
      "metadata": {
        "_cell_guid": "3b2f2705-938a-3215-db0a-8571587e5ccc"
      },
      "outputs": [],
      "source": [
        "#Devide Properties in each city based on their type per county.\n",
        "\n",
        "prop_city = prop_ds.groupby(['regionidcounty','regionidcity','propertylandusetypeid'])['propertylandusetypeid'].count()\n",
        "#prop_city\n",
        "prop_ds_city = pd.DataFrame(prop_city)\n",
        "prop_ds_city.rename(columns={'propertylandusetypeid':'Total'},inplace=True)\n",
        "prop_ds_city.reset_index()\n",
        "#prop_ds_city.rename(columns={'regionidcounty':'CountyId','regionidcity':'CityId','propertylandusetypeid':'LandTypeId'})\n",
        "#prop_ds_city.columns.droplevel(0)\n",
        "#fg = prop_ds_city[prop_ds_city['regionidcounty'] == 1286]\n",
        "#fg.plot(kind='bar')\n",
        "#sns.countplot(x=\"propertylandusetypeid\",data=prop_ds_city)\n",
        "#plt.ylabel('City', fontsize=12)\n",
        "#plt.xlabel('PropertyType', fontsize=12)\n",
        "#plt.xticks(rotation='vertical')\n",
        "#plt.title(\"CityWise Property\", fontsize=15)\n",
        "#plt.show()"
      ]
    },
    {
      "cell_type": "code",
      "execution_count": null,
      "metadata": {
        "_cell_guid": "f486dc6e-b848-1353-c208-7a7bf3509cc7"
      },
      "outputs": [],
      "source": [
        "#merge_ds = pd.merge(train_ds, prop_ds, on='parcelid', how='left')\n",
        "#merge_ds.groupby(['regionidcounty','regionidcity','propertylandusetypeid'])['propertylandusetypeid','logerror'].count()\n"
      ]
    }
  ],
  "metadata": {
    "_change_revision": 0,
    "_is_fork": false,
    "kernelspec": {
      "display_name": "Python 3",
      "language": "python",
      "name": "python3"
    },
    "language_info": {
      "codemirror_mode": {
        "name": "ipython",
        "version": 3
      },
      "file_extension": ".py",
      "mimetype": "text/x-python",
      "name": "python",
      "nbconvert_exporter": "python",
      "pygments_lexer": "ipython3",
      "version": "3.6.0"
    }
  },
  "nbformat": 4,
  "nbformat_minor": 0
}