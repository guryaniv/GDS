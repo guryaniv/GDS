{
  "cells": [
    {
      "cell_type": "markdown",
      "metadata": {
        "_cell_guid": "7dcb7099-df58-0a1f-b20b-fffad9dad0f5"
      },
      "source": [
        "Practising tutorials\n",
        "https://www.kaggle.com/pmarcelino/house-prices-advanced-regression-techniques/comprehensive-data-exploration-with-python\n",
        "\n",
        "also refer \n",
        "https://www.kaggle.com/xirudieyi/house-prices-advanced-regression-techniques/house-prices/notebook\n",
        " "
      ]
    },
    {
      "cell_type": "code",
      "execution_count": null,
      "metadata": {
        "_cell_guid": "1fe2169e-cb65-6db1-ae5d-992b11331fd4"
      },
      "outputs": [],
      "source": [
        "# This Python 3 environment comes with many helpful analytics libraries installed\n",
        "# It is defined by the kaggle/python docker image: https://github.com/kaggle/docker-python\n",
        "# For example, here's several helpful packages to load in \n",
        "\n",
        "import numpy as np # linear algebra\n",
        "import pandas as pd # data processing, CSV file I/O (e.g. pd.read_csv)\n",
        "import matplotlib.pyplot as plt\n",
        "import seaborn as sns\n",
        "from scipy.stats import norm\n",
        "from sklearn.preprocessing import StandardScaler\n",
        "from scipy import stats\n",
        "%matplotlib inline\n",
        "\n",
        "\n",
        "# Input data files are available in the \"../input/\" directory.\n",
        "# For example, running this (by clicking run or pressing Shift+Enter) will list the files in the input directory\n",
        "\n",
        "from subprocess import check_output\n",
        "print(check_output([\"ls\", \"../input\"]).decode(\"utf8\"))\n",
        "\n",
        "df_train =  pd.read_csv('../input/train.csv')\n",
        "df_test = pd.read_csv('../input/test.csv')\n",
        "\n",
        "# Any results you write to the current directory are saved as output."
      ]
    },
    {
      "cell_type": "code",
      "execution_count": null,
      "metadata": {
        "_cell_guid": "4664202d-3697-5b59-71ea-2fc797eb9db7"
      },
      "outputs": [],
      "source": [
        "df_train.columns"
      ]
    },
    {
      "cell_type": "code",
      "execution_count": null,
      "metadata": {
        "_cell_guid": "1273381a-1f60-6d52-d64b-1a37a6ac767d"
      },
      "outputs": [],
      "source": [
        "df_train['SalePrice'].describe()"
      ]
    },
    {
      "cell_type": "code",
      "execution_count": null,
      "metadata": {
        "_cell_guid": "edc1ca35-c3e2-8a6d-a41a-b82c3d1ab56c"
      },
      "outputs": [],
      "source": [
        "plt.hist(df_train['SalePrice'], 50)"
      ]
    },
    {
      "cell_type": "code",
      "execution_count": null,
      "metadata": {
        "_cell_guid": "4992858a-c3dd-cd00-1dc7-8ef1623c372f"
      },
      "outputs": [],
      "source": [
        "sns.distplot(df_train['SalePrice']);"
      ]
    },
    {
      "cell_type": "code",
      "execution_count": null,
      "metadata": {
        "_cell_guid": "87b0f088-0a64-e0e3-d92e-50d9b15a6e39"
      },
      "outputs": [],
      "source": [
        "print(\"skewness: %f\" % df_train['SalePrice'].skew())\n",
        "print(\"Kurtosis: %f\" % df_train['SalePrice'].kurt())"
      ]
    },
    {
      "cell_type": "code",
      "execution_count": null,
      "metadata": {
        "_cell_guid": "d75e75e9-8629-9e83-7661-60a9c9c43788"
      },
      "outputs": [],
      "source": [
        "var = 'GrLivArea'\n",
        "data = pd.concat([df_train['SalePrice'], df_train[var]], axis=1)\n",
        "data.plot.scatter(x=var, y='SalePrice', alpha=.2)\n",
        "\n",
        "gb = df_train.groupby('Neighborhood')\n",
        "\n",
        "fig, ax = plt.subplots()\n",
        "ax.margins(0.05) # Optional, just adds 5% padding to the autoscaling\n",
        "for name, group in gb:\n",
        "    ax.plot(group[var], group['SalePrice'], marker='o', linestyle='', ms=5, label=name, alpha=0.5)\n",
        "ax.legend()"
      ]
    },
    {
      "cell_type": "code",
      "execution_count": null,
      "metadata": {
        "_cell_guid": "9daf816e-30d6-e2c2-9cf9-5c1f899ee52b"
      },
      "outputs": [],
      "source": [
        "var = 'TotalBsmtSF'\n",
        "data = pd.concat([df_train['SalePrice'], df_train[var], df_train['Neighborhood']], axis=1)\n",
        "# data.plot.scatter(x=var, y='SalePrice', alpha=.2, c='Neighborhood')\n",
        "\n",
        "cat = 'OverallQual'\n",
        "gb = df_train.groupby(cat)\n",
        "\n",
        "fig, ax = plt.subplots()\n",
        "ax.margins(0.05) # Optional, just adds 5% padding to the autoscaling\n",
        "for name, group in gb:\n",
        "    ax.plot(group[var], group['SalePrice'], marker='o', linestyle='', ms=5, label=name, alpha=0.2)\n",
        "ax.legend()"
      ]
    },
    {
      "cell_type": "code",
      "execution_count": null,
      "metadata": {
        "_cell_guid": "73dc3a81-2132-4551-0856-fdea8c102b5c"
      },
      "outputs": [],
      "source": [
        "corrmat = df_train.corr()\n",
        "f, ax = plt.subplots(figsize = (12,9))\n",
        "sns.heatmap(corrmat, square = True, vmin=0.5)"
      ]
    },
    {
      "cell_type": "code",
      "execution_count": null,
      "metadata": {
        "_cell_guid": "7833057c-e3e5-d8e7-8536-4b0357f3f9f3"
      },
      "outputs": [],
      "source": [
        "k = 10\n",
        "cols = corrmat.nlargest(k, 'SalePrice')['SalePrice'].index\n",
        "cm = np.corrcoef(df_train[cols].values.T)\n",
        "sns.set(font_scale=1.25)\n",
        "hm = sns.heatmap(cm,cbar=True, annot = True, square=True, fmt='.2f', annot_kws={'size': 10}, yticklabels=cols.values, xticklabels=cols.values)\n",
        "plt.show()"
      ]
    },
    {
      "cell_type": "code",
      "execution_count": null,
      "metadata": {
        "_cell_guid": "f7d4e6c8-cf6c-aa2c-2a2a-8f3e30d629c0"
      },
      "outputs": [],
      "source": [
        "sns.set()\n",
        "cols=['SalePrice', 'OverallQual', 'GrLivArea', 'GarageCars',\n",
        "      'TotalBsmtSF', 'FullBath', 'YearBuilt']\n",
        "sns.pairplot(df_train[cols], size=2, plot_kws=dict(alpha=0.1))\n",
        "plt.show()"
      ]
    },
    {
      "cell_type": "markdown",
      "metadata": {
        "_cell_guid": "35aebf56-0e59-e042-c5c7-c85500a50c1d"
      },
      "source": [
        ""
      ]
    },
    {
      "cell_type": "code",
      "execution_count": null,
      "metadata": {
        "_cell_guid": "e1e244f4-75eb-066a-d6ae-af20eb124f45"
      },
      "outputs": [],
      "source": [
        "def checkNull(df):\n",
        "    totalNull = df.isnull().sum().sort_values(ascending=False)\n",
        "    percent = (df.isnull().sum()/df.isnull().count()).sort_values(ascending=False)\n",
        "    missing = pd.concat([totalNull, percent], axis=1, keys=['Total', 'Percent'])\n",
        "    print(missing.head(20))\n",
        "    return missing\n",
        "\n",
        "missing_data = checkNull(df_train)\n",
        "_ = checkNull(df_test)"
      ]
    },
    {
      "cell_type": "code",
      "execution_count": null,
      "metadata": {
        "_cell_guid": "d36f9ec3-0c51-e6f8-cfad-baab2d53cc54"
      },
      "outputs": [],
      "source": [
        "#delete missing data\n",
        "df_train = df_train.drop(missing_data[missing_data['Total']>1].index,1)\n",
        "df_train = df_train.drop(df_train.loc[df_train['Electrical'].isnull()].index)\n",
        "df_test = df_test.drop(missing_data[missing_data['Total']>1].index,1)\n",
        "df_train.isnull().sum().max()\n",
        "_ = checkNull(df_test)"
      ]
    },
    {
      "cell_type": "code",
      "execution_count": null,
      "metadata": {
        "_cell_guid": "4fe7223b-4682-6374-cf03-0eafd2244371"
      },
      "outputs": [],
      "source": [
        "# display columns and data with NA\n",
        "lc = ('BsmtFinSF2','BsmtUnfSF','TotalBsmtSF','BsmtFullBath', 'BsmtHalfBath',\n",
        "      'GarageCars','GarageArea', 'BsmtFinSF1')\n",
        "r=pd.Series()\n",
        "\n",
        "for c in lc:\n",
        "    try:\n",
        "        tr = df_test[c].isnull()\n",
        "    except KeyError:\n",
        "        print(c)\n",
        "        pass\n",
        "    r = r | tr\n",
        "    \n",
        "    \n",
        "print(df_test.ix[r,lc])\n",
        "\n",
        "def cat_imputation(df, column, value):\n",
        "    df.loc[df[column].isnull(), column] = value\n",
        "    \n",
        "for c in lc:\n",
        "    cat_imputation(df_test, c, 0.0)"
      ]
    },
    {
      "cell_type": "code",
      "execution_count": null,
      "metadata": {
        "_cell_guid": "fb81a5e8-e26b-bf97-795b-9e762d5e9224"
      },
      "outputs": [],
      "source": [
        "#outlier\n",
        "#sale price univariate analysis\n",
        "saleprice_scaled = StandardScaler().fit_transform(df_train['SalePrice'][:,np.newaxis])\n",
        "print(type(saleprice_scaled))\n",
        "sortedIndex = saleprice_scaled[:,0].argsort()\n",
        "low_range = saleprice_scaled[sortedIndex][:10]\n",
        "high_range = saleprice_scaled[sortedIndex][-10:]\n",
        "\n",
        "print(\"low range\",low_range)\n",
        "print(\"high range\",high_range)"
      ]
    },
    {
      "cell_type": "markdown",
      "metadata": {
        "_cell_guid": "46ca30f1-4fee-e0c2-9f36-f7931f5b328b"
      },
      "source": [
        ""
      ]
    },
    {
      "cell_type": "code",
      "execution_count": null,
      "metadata": {
        "_cell_guid": "2a3bae46-04a0-ec51-a3e4-1dc69b2e5a91"
      },
      "outputs": [],
      "source": [
        "#\n",
        "var = 'GrLivArea'\n",
        "data = pd.concat([df_train['SalePrice'], df_train[var]], axis=1)\n",
        "data.plot.scatter(x=var, y='SalePrice', alpha=.2)\n",
        "\n",
        "# gb = df_train.groupby('Neighborhood')\n",
        "\n",
        "#fig, ax = plt.subplots()\n",
        "#ax.margins(0.05) # Optional, just adds 5% padding to the autoscaling\n",
        "#for name, group in gb:\n",
        "#    ax.plot(group[var], group['SalePrice'], marker='o', linestyle='', ms=5, label=name, alpha=0.5)\n",
        "#ax.legend()"
      ]
    },
    {
      "cell_type": "markdown",
      "metadata": {
        "_cell_guid": "d613545c-9522-fc54-b059-0e3746fd30a6"
      },
      "source": [
        ""
      ]
    },
    {
      "cell_type": "code",
      "execution_count": null,
      "metadata": {
        "_cell_guid": "b51f39c8-796f-2624-7d63-bf5f04e8ce27"
      },
      "outputs": [],
      "source": [
        "print(df_train.sort_values(by = 'GrLivArea', ascending = False)[:2])\n",
        "df_train=df_train.drop(df_train[df_train['Id'].isin([1299, 524])].index)"
      ]
    },
    {
      "cell_type": "code",
      "execution_count": null,
      "metadata": {
        "_cell_guid": "7c8e9488-56c6-5d50-900c-01a3532f4e29"
      },
      "outputs": [],
      "source": [
        "#bivariate analysis saleprice/TotalBsmtSF\n",
        "var = 'TotalBsmtSF'\n",
        "data = pd.concat([df_train['SalePrice'], df_train[var]], axis=1)\n",
        "data.plot.scatter(x=var, y='SalePrice', alpha=.2)"
      ]
    },
    {
      "cell_type": "code",
      "execution_count": null,
      "metadata": {
        "_cell_guid": "18360f29-a382-70e0-b2e7-f4c2f33df6b3"
      },
      "outputs": [],
      "source": [
        "sns.distplot(df_train['SalePrice'], fit=norm)\n",
        "fig = plt.figure()\n",
        "res = stats.probplot(df_train['SalePrice'], plot=plt)"
      ]
    },
    {
      "cell_type": "code",
      "execution_count": null,
      "metadata": {
        "_cell_guid": "4df5a818-6c02-a63b-d300-238766c5e770"
      },
      "outputs": [],
      "source": [
        "df_train['SalePrice'] = np.log(df_train['SalePrice'])\n",
        "sns.distplot(df_train['SalePrice'], fit=norm)\n",
        "fig=plt.figure()\n",
        "res = stats.probplot(df_train['SalePrice'], plot=plt)"
      ]
    },
    {
      "cell_type": "code",
      "execution_count": null,
      "metadata": {
        "_cell_guid": "7ef4baef-7841-79da-0051-805e434ca8a5"
      },
      "outputs": [],
      "source": [
        "# ok. Checking GrLivArea\n",
        "sns.distplot(df_train['GrLivArea'], fit=norm)\n",
        "fig=plt.figure()\n",
        "res = stats.probplot(df_train['GrLivArea'], plot=plt)"
      ]
    },
    {
      "cell_type": "code",
      "execution_count": null,
      "metadata": {
        "_cell_guid": "906981c7-bef9-6fb5-80c0-5224a507bd63"
      },
      "outputs": [],
      "source": [
        "df_train['GrLivArea'] = np.log(df_train['GrLivArea'])\n",
        "sns.distplot(df_train['GrLivArea'], fit=norm)\n",
        "fig=plt.figure()\n",
        "res = stats.probplot(df_train['GrLivArea'], plot=plt)"
      ]
    },
    {
      "cell_type": "code",
      "execution_count": null,
      "metadata": {
        "_cell_guid": "68be4172-c814-2c4c-eea8-46d4ad3af6c3"
      },
      "outputs": [],
      "source": [
        "#histogram and normal probability plot\n",
        "sns.distplot(df_train['TotalBsmtSF'], fit=norm);\n",
        "fig = plt.figure()\n",
        "res = stats.probplot(df_train['TotalBsmtSF'], plot=plt)"
      ]
    },
    {
      "cell_type": "code",
      "execution_count": null,
      "metadata": {
        "_cell_guid": "451f07ec-cdab-3b25-8843-ffb696440905"
      },
      "outputs": [],
      "source": [
        "# insert column, HasBsmt.\n",
        "df_train['HasBsmt'] = pd.Series(len(df_train['TotalBsmtSF']), index=df_train.index)\n",
        "# setup boolean.\n",
        "df_train['HasBsmt'] = 0\n",
        "df_train.loc[df_train['TotalBsmtSF']>0, 'HasBsmt']=1"
      ]
    },
    {
      "cell_type": "code",
      "execution_count": null,
      "metadata": {
        "_cell_guid": "177f1207-cd01-1964-ef38-cbd73892530a"
      },
      "outputs": [],
      "source": [
        "#transform TotalBsmtSF\n",
        "df_train.loc[df_train['HasBsmt']==1, 'TotalBsmtSF']=np.log(df_train['TotalBsmtSF'])\n",
        "# len(df_train.loc[df_train['HasBsmt']==1, 'TotalBsmtSF'])\n",
        "# len(np.log(df_train['TotalBsmtSF']))\n",
        "#len(df_train)"
      ]
    },
    {
      "cell_type": "code",
      "execution_count": null,
      "metadata": {
        "_cell_guid": "4c9dcfeb-c373-6dde-4585-bda95a734a37"
      },
      "outputs": [],
      "source": [
        "sns.distplot(df_train[df_train['TotalBsmtSF']>0]['TotalBsmtSF'], fit=norm);\n",
        "fig = plt.figure()\n",
        "res = stats.probplot(df_train[df_train['TotalBsmtSF']>0]['TotalBsmtSF'], plot=plt)"
      ]
    },
    {
      "cell_type": "code",
      "execution_count": null,
      "metadata": {
        "_cell_guid": "1a2046ae-5306-f9b2-31a3-e1874de2f83e"
      },
      "outputs": [],
      "source": [
        "plt.scatter(df_train['GrLivArea'], df_train['SalePrice'], alpha=0.2);"
      ]
    },
    {
      "cell_type": "code",
      "execution_count": null,
      "metadata": {
        "_cell_guid": "802e121b-2ae7-be2b-a0ee-8304b26759a0"
      },
      "outputs": [],
      "source": [
        "plt.scatter(df_train[df_train['TotalBsmtSF']>0]['TotalBsmtSF'], \n",
        "           df_train[df_train['TotalBsmtSF']>0]['SalePrice'], alpha=0.2)"
      ]
    },
    {
      "cell_type": "code",
      "execution_count": null,
      "metadata": {
        "_cell_guid": "3d0c8f71-7da5-4f38-caac-37c250e43890"
      },
      "outputs": [],
      "source": [
        "# check data type\n",
        "for col in df_test.columns:\n",
        "    t1 = df_test[col].dtype\n",
        "    t2 = df_train[col].dtype\n",
        "    if t1 != t2:\n",
        "        print(col, t1, t2)\n",
        "\n",
        " \n",
        "# convert to type of int64\n",
        "c = ['BsmtFinSF1', 'BsmtFinSF2', 'BsmtUnfSF', 'TotalBsmtSF', 'BsmtFullBath', 'BsmtHalfBath']\n",
        "for cols in c:\n",
        "    tmp_col = df_train[cols].astype(pd.np.float64)\n",
        "    tmp_col = pd.DataFrame({cols: tmp_col})\n",
        "    del df_train[cols]\n",
        "    df_train = pd.concat((df_train, tmp_col), axis=1)"
      ]
    },
    {
      "cell_type": "code",
      "execution_count": null,
      "metadata": {
        "_cell_guid": "b92c6d44-2f67-88a8-7ee3-9b2a912832ea"
      },
      "outputs": [],
      "source": [
        "def oneHot(df):\n",
        "    for c in df.columns:\n",
        "        if df[c].dtype == np.object:\n",
        "            df = pd.concat((df, pd.get_dummies(df[c], prefix=c)), axis=1)\n",
        "            del df[c]        \n",
        "    return df\n",
        "\n",
        "df_train = oneHot(df_train)\n",
        "df_test = oneHot(df_test)\n",
        "#realign features\n",
        "df_test['SalePrice']=-1\n",
        "\n",
        "def featuresReAlignedTo(dfSource, dfTarget):\n",
        "    col_target = dfTarget.columns\n",
        "    col_src = dfSource.columns\n",
        "    for col in col_target:\n",
        "        if col in col_src:\n",
        "            pass\n",
        "        else:\n",
        "            del dfTarget[col]\n",
        "    return dfTarget\n",
        "\n",
        "df_test = featuresReAlignedTo(df_train, df_test)\n",
        "df_train = featuresReAlignedTo(df_test, df_train)   \n",
        "\n",
        "print(len(df_test.columns), len(df_train.columns))\n",
        "#207 207         "
      ]
    },
    {
      "cell_type": "code",
      "execution_count": null,
      "metadata": {
        "_cell_guid": "53b386e8-3d0d-97af-7466-50d50b50cadb"
      },
      "outputs": [],
      "source": [
        "# RF regression \n",
        "from sklearn.ensemble import RandomForestRegressor\n",
        "\n",
        "etr = RandomForestRegressor(n_estimators=400)\n",
        "train_y = df_train['SalePrice']\n",
        "train_x = df_train.drop(['SalePrice','Id'], axis=1)\n",
        "etr.fit(train_x, train_y)\n",
        "imp = etr.feature_importances_\n",
        "imp = pd.DataFrame({'feature': train_x.columns, 'score': imp})\n",
        "print(imp.sort_values(by='score', ascending=False)[:20])"
      ]
    },
    {
      "cell_type": "code",
      "execution_count": null,
      "metadata": {
        "_cell_guid": "fe202be6-e50f-a726-1b59-638f97b27e2c"
      },
      "outputs": [],
      "source": [
        "# GB regression \n",
        "from sklearn.ensemble import GradientBoostingRegressor\n",
        "\n",
        "gbr = GradientBoostingRegressor(\n",
        "                n_estimators=400,\n",
        "                max_features='sqrt', \n",
        "                )\n",
        "\n",
        "gbr.fit(train_x, train_y)\n",
        "gbimp = pd.DataFrame({'feature': train_x.columns, 'score': gbr.feature_importances_})\n",
        "print(gbimp.sort_values(by='score', ascending=False)[:20])"
      ]
    },
    {
      "cell_type": "code",
      "execution_count": null,
      "metadata": {
        "_cell_guid": "e5c5bdaa-790d-6b14-30b4-59b9b53d6a31"
      },
      "outputs": [],
      "source": [
        "# use pipeline, standardscaler, and cross validation to benchmark, training accuracy around 91.8%\n",
        "from sklearn.pipeline import make_pipeline\n",
        "from sklearn.cross_validation import cross_val_predict\n",
        "from sklearn.cross_validation import cross_val_score\n",
        "from sklearn.preprocessing import MinMaxScaler\n",
        "from sklearn.preprocessing import StandardScaler\n",
        "from sklearn import metrics\n",
        "\n",
        "clf = make_pipeline(StandardScaler(), gbr)\n",
        "scores = cross_val_score(clf, train_x, train_y, cv=10)\n",
        "print(scores, np.mean(scores))\n",
        "#[ 0.90837653  0.93912429  0.93398808  0.90203234  0.89475431  0.91904469\n",
        "#  0.91248096  0.93576603  0.93703954  0.89759561] 0.918020236656"
      ]
    },
    {
      "cell_type": "code",
      "execution_count": null,
      "metadata": {
        "_cell_guid": "3a3ee113-afd3-3664-eefa-21ec013f880c"
      },
      "outputs": [],
      "source": [
        "# Generate output.\n",
        "clf.fit(train_x, train_y)\n",
        "result = clf.predict(df_test.drop(['SalePrice','Id'], axis=1))\n",
        "print(result[:10])\n",
        "pred= np.exp(result)\n",
        "print(pred[:10])\n",
        "df_submission = pd.concat([df_test['Id'],pd.Series(pred, name='SalePrice')],axis=1)\n",
        "df_submission.to_csv('gbr-cv-std-2.csv', index=None)"
      ]
    }
  ],
  "metadata": {
    "_change_revision": 0,
    "_is_fork": false,
    "kernelspec": {
      "display_name": "Python 3",
      "language": "python",
      "name": "python3"
    },
    "language_info": {
      "codemirror_mode": {
        "name": "ipython",
        "version": 3
      },
      "file_extension": ".py",
      "mimetype": "text/x-python",
      "name": "python",
      "nbconvert_exporter": "python",
      "pygments_lexer": "ipython3",
      "version": "3.6.0"
    }
  },
  "nbformat": 4,
  "nbformat_minor": 0
}