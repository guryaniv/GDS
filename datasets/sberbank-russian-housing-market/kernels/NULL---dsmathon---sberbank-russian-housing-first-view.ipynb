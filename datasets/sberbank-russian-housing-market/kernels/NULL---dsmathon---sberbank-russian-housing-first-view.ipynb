{
  "cells": [
    {
      "cell_type": "markdown",
      "metadata": {
        "_cell_guid": "846f425b-7530-4652-8618-62ff7b81917b"
      },
      "source": [
        "### WIP: EDA and VDA of the Sberbank competition data set"
      ]
    },
    {
      "cell_type": "code",
      "execution_count": null,
      "metadata": {
        "_cell_guid": "04e90df6-01fd-d220-053e-75ed109ec8c7"
      },
      "outputs": [],
      "source": [
        "# Importing main packages and settings\n",
        "import numpy as np\n",
        "import pandas as pd\n",
        "import xgboost as xgb\n",
        "import matplotlib.pyplot as plt\n",
        "import seaborn as sns\n",
        "\n",
        "%matplotlib inline\n",
        "pd.set_option('display.max_columns', 50)"
      ]
    },
    {
      "cell_type": "code",
      "execution_count": null,
      "metadata": {
        "_cell_guid": "b6740c14-3c0e-b4a9-e683-1185c5c209a7"
      },
      "outputs": [],
      "source": [
        "# Loading the training dataset\n",
        "df_train = pd.read_csv('../input/train.csv', parse_dates=['timestamp'])\n",
        "\n",
        "# Adding feature for yearmonth of purchase\n",
        "df_train['yearmonth'] = df_train['timestamp'].dt.year*100 + df_train[\"timestamp\"].dt.month\n",
        "\n",
        "# Adding log price for use as target variable\n",
        "df_train['log_price_doc'] = np.log1p(df_train['price_doc'].values)"
      ]
    },
    {
      "cell_type": "code",
      "execution_count": null,
      "metadata": {
        "_cell_guid": "bff13500-f2c4-c669-3f90-70237555da76"
      },
      "outputs": [],
      "source": [
        "# Displaying all columns \n",
        "df_train.head(5)"
      ]
    },
    {
      "cell_type": "code",
      "execution_count": null,
      "metadata": {
        "_cell_guid": "37f556f5-66c3-3adb-a5ae-00137dafd373"
      },
      "outputs": [],
      "source": [
        "# Initial dataframe inspection\n",
        "df_train.info()\n",
        "df_train.columns"
      ]
    },
    {
      "cell_type": "code",
      "execution_count": null,
      "metadata": {
        "_cell_guid": "93654677-ff78-b336-1edd-100d477a7902"
      },
      "outputs": [],
      "source": [
        "# dataframe descriptive statistics\n",
        "df_train.describe()"
      ]
    },
    {
      "cell_type": "code",
      "execution_count": null,
      "metadata": {
        "_cell_guid": "59767535-91a1-c65e-dc92-fe6033c75490"
      },
      "outputs": [],
      "source": [
        "# creating 4 additional dataframes:\n",
        "# 1. without columns containing NaN data\n",
        "df_train_filt = df_train.dropna(axis=1)\n",
        "\n",
        "# 2. without object columns (to be added back later)\n",
        "df_nonobject = df_train_filt.select_dtypes(exclude=['object', 'datetime64'])\n",
        "df_nonobject = df_nonobject.drop(['price_doc', 'log_price_doc'], axis=1)\n",
        "\n",
        "# 3. object features only\n",
        "df_object =  df_train_filt.select_dtypes(include=['object'])\n",
        "\n",
        "# 4. target variable\n",
        "df_target = df_train_filt['price_doc'].reset_index()"
      ]
    },
    {
      "cell_type": "code",
      "execution_count": null,
      "metadata": {
        "_cell_guid": "cd041202-76f7-6ecf-2acb-d899b70d0a58"
      },
      "outputs": [],
      "source": [
        "# checking the number of columns for both dataframes\n",
        "df_train_filt.info()\n",
        "df_nonobject.info()\n",
        "df_object.info()\n",
        "df_target.info()"
      ]
    },
    {
      "cell_type": "code",
      "execution_count": null,
      "metadata": {
        "_cell_guid": "c82d1b71-8116-7f8d-9bf7-667397aa671b"
      },
      "outputs": [],
      "source": [
        "df_obj_dummies = pd.get_dummies(df_object, drop_first=True)\n",
        "df_obj_target_dummies = pd.concat([df_obj_dummies, df_target], axis=1).drop('index', axis=1)"
      ]
    },
    {
      "cell_type": "code",
      "execution_count": null,
      "metadata": {
        "_cell_guid": "0a01e25d-1396-d66d-0541-43fedde968fc"
      },
      "outputs": [],
      "source": [
        "# Create df of combined object features and targets\n",
        "df_obj_target = pd.concat([df_object, df_target], axis=1).drop('index', axis=1)\n",
        "df_obj_target.head(5)"
      ]
    },
    {
      "cell_type": "code",
      "execution_count": null,
      "metadata": {
        "_cell_guid": "1efa1e07-2ccb-8e92-8a85-309af9ee1209"
      },
      "outputs": [],
      "source": [
        "# create dummy variables for object features\n",
        "df_obj_target_dummies = pd.get_dummies(df_obj_target, drop_first=True)\n",
        "df_obj_target_dummies.head()"
      ]
    },
    {
      "cell_type": "code",
      "execution_count": null,
      "metadata": {
        "_cell_guid": "55898c16-6f3e-4b22-0d83-e1c3aad7ea68"
      },
      "outputs": [],
      "source": [
        "# Plotting distribution of price and log price\n",
        "fig, ax = plt.subplots(2,2,figsize=(10,10))\n",
        "\n",
        "plt.subplot(2,1,1)\n",
        "df_train['price_doc'].plot(kind='hist', bins=100)\n",
        "\n",
        "plt.subplot(2,1,2)\n",
        "df_train['log_price_doc'].plot(kind='hist', bins=100, color=['green'])\n",
        "\n",
        "plt.show()"
      ]
    },
    {
      "cell_type": "markdown",
      "metadata": {
        "_cell_guid": "496b85cd-999b-492d-6c14-383d9963c59b"
      },
      "source": [
        "## Feature selection using XGB to determine the main features"
      ]
    },
    {
      "cell_type": "code",
      "execution_count": null,
      "metadata": {
        "_cell_guid": "dffbd815-f468-c4bb-0979-9ad50bed0c76"
      },
      "outputs": [],
      "source": [
        "# Feature selection\n",
        "# Courtesy of https://www.kaggle.com/sudalairajkumar/sberbank-russian-housing-market...\n",
        "# .../simple-exploration-notebook-sberbank\n",
        "\n",
        "xgb_params = {\n",
        "    'eta': 0.05,\n",
        "    'max_depth': 8,\n",
        "    'subsample': 0.7,\n",
        "    'colsample_bytree': 0.7,\n",
        "    'objective': 'reg:linear',\n",
        "    'eval_metric': 'rmse',\n",
        "    'silent': 1\n",
        "}\n",
        "\n",
        "y_train = df_target['price_doc']\n",
        "x_train = df_nonobject.drop(['id'],axis = 1)\n",
        "dtrain = xgb.DMatrix(x_train,y_train,feature_names = x_train.columns.values)\n",
        "model = xgb.train(dict(xgb_params,silent=0),dtrain,num_boost_round=100)\n",
        "\n",
        "fig,ax=plt.subplots(figsize = (12,18))\n",
        "xgb.plot_importance(model, max_num_features=50, height=0.8, ax=ax)\n",
        "plt.show;"
      ]
    },
    {
      "cell_type": "markdown",
      "metadata": {
        "_cell_guid": "f7f2aa79-55a6-7b45-73f8-4feb7d86a389"
      },
      "source": [
        "## First simple test - Linear Regression using top 4 features only"
      ]
    },
    {
      "cell_type": "code",
      "execution_count": null,
      "metadata": {
        "_cell_guid": "52acd02c-afcd-3e90-949c-77b3d115804a"
      },
      "outputs": [],
      "source": [
        "X = df_train_filt[['full_sq', 'yearmonth', 'metro_min_avto', 'area_m']].values\n",
        "y = df_train_filt['price_doc'].values"
      ]
    },
    {
      "cell_type": "code",
      "execution_count": null,
      "metadata": {
        "_cell_guid": "c4f87773-d48f-8691-3c05-f9cc8f674cc9"
      },
      "outputs": [],
      "source": [
        "from sklearn.model_selection import train_test_split, cross_val_score\n",
        "from sklearn.feature_selection import SelectFromModel\n",
        "from sklearn.linear_model import LinearRegression, Lasso, Ridge\n",
        "from sklearn.ensemble import GradientBoostingRegressor\n",
        "from sklearn.metrics import mean_squared_error, r2_score"
      ]
    },
    {
      "cell_type": "code",
      "execution_count": null,
      "metadata": {
        "_cell_guid": "ae956784-f961-0970-9e2e-0c4d0b4cf92d"
      },
      "outputs": [],
      "source": [
        "X_train, X_test, y_train, y_test = train_test_split(X, y, random_state=0)"
      ]
    },
    {
      "cell_type": "code",
      "execution_count": null,
      "metadata": {
        "_cell_guid": "7e954994-5296-e44f-5098-ab6bfc086cf2"
      },
      "outputs": [],
      "source": [
        "lr = LinearRegression(normalize=True)\n",
        "\n",
        "lr.fit(X_train, y_train)\n",
        "y_pred = lr.predict(X_test)\n",
        "\n",
        "print(mean_squared_error(y_test, y_pred))\n",
        "print(r2_score(y_test, y_pred))"
      ]
    },
    {
      "cell_type": "markdown",
      "metadata": {
        "_cell_guid": "d71c7602-6424-7aa4-9c11-4c699b22f4d0"
      },
      "source": [
        "### Simple linear regression produced an rsquared of ~0.22"
      ]
    },
    {
      "cell_type": "code",
      "execution_count": null,
      "metadata": {
        "_cell_guid": "b48f61a7-1ee1-1220-67bb-39f7055c708f"
      },
      "outputs": [],
      "source": [
        "# removing warning just for now\n",
        "import warnings\n",
        "warnings.filterwarnings(\"ignore\", category=DeprecationWarning)\n",
        "\n",
        "gbr = GradientBoostingRegressor()\n",
        "\n",
        "gbr.fit(X_train, y_train)\n",
        "y_pred = gbr.predict(X_test)\n",
        "\n",
        "print(mean_squared_error(y_test, y_pred))\n",
        "print(r2_score(y_test, y_pred))"
      ]
    },
    {
      "cell_type": "markdown",
      "metadata": {
        "_cell_guid": "90b946ba-e33a-550f-7c89-0405dd93dba2"
      },
      "source": [
        "### Using a GBR, with only the same 4 variables, increased the rsquared to ~0.56"
      ]
    },
    {
      "cell_type": "markdown",
      "metadata": {
        "_cell_guid": "d34d46e2-64d0-ce7c-23f3-d3d8615874dc"
      },
      "source": [
        "## Doing a full GBR on the entire set of features, excluding objects"
      ]
    },
    {
      "cell_type": "code",
      "execution_count": null,
      "metadata": {
        "_cell_guid": "015a7259-7a4c-9147-6ebb-462949711ad3"
      },
      "outputs": [],
      "source": [
        "X_nonobj = df_nonobject.values\n",
        "y = df_train_filt['price_doc'].values\n",
        "\n",
        "X_nonobj_train, X_nonobj_test, y_train, y_test = train_test_split(X_nonobj, y, random_state=0)"
      ]
    },
    {
      "cell_type": "code",
      "execution_count": null,
      "metadata": {
        "_cell_guid": "2e73ec59-af07-8b46-f90e-27ac4ef4c414"
      },
      "outputs": [],
      "source": [
        "gbr = GradientBoostingRegressor()\n",
        "\n",
        "gbr.fit(X_nonobj_train, y_train)\n",
        "y_pred = gbr.predict(X_nonobj_test)\n",
        "\n",
        "print(mean_squared_error(y_test, y_pred))\n",
        "print(r2_score(y_test, y_pred))"
      ]
    },
    {
      "cell_type": "markdown",
      "metadata": {
        "_cell_guid": "bf7d889e-3744-c6a3-6aba-cfa956bc72ea"
      },
      "source": [
        "### Including all (non-object) features increases the rsquared to 0.63"
      ]
    },
    {
      "cell_type": "code",
      "execution_count": null,
      "metadata": {
        "_cell_guid": "6c885787-bc91-b08a-963f-f1ca0e0c618c"
      },
      "outputs": [],
      "source": [
        "feature_importance = gbr.feature_importances_\n",
        "# make importances relative to max importance\n",
        "feature_importance = 100.0 * (feature_importance / feature_importance.max())\n",
        "sorted_idx = np.argsort(feature_importance)\n",
        "pos = np.arange(sorted_idx.shape[0]) + .5\n",
        "\n",
        "fig = plt.figure(figsize=(32, 24))\n",
        "plt.subplot(1, 2, 2)\n",
        "plt.barh(pos, feature_importance[sorted_idx], align='center')\n",
        "plt.yticks(pos, df_train_filt.columns[sorted_idx])\n",
        "plt.xlabel('Relative Importance')\n",
        "plt.title('Variable Importance')\n",
        "plt.show()\n",
        "\n",
        "print(sorted_idx)"
      ]
    },
    {
      "cell_type": "markdown",
      "metadata": {
        "_cell_guid": "12756af1-3741-f554-45f7-caf8ec9a03ce"
      },
      "source": [
        "### Ridge regression on the object features"
      ]
    },
    {
      "cell_type": "code",
      "execution_count": null,
      "metadata": {
        "_cell_guid": "16f53215-e659-1994-1d19-f1d0b2a74965"
      },
      "outputs": [],
      "source": [
        "X_obj = df_obj_target_dummies.drop(['price_doc'], axis=1).values\n",
        "y_obj = df_obj_target_dummies['price_doc'].values\n",
        "\n",
        "# Instantiate a ridge regressor: ridge\n",
        "ridge = Ridge(alpha=0.5, normalize=True)\n",
        "\n",
        "# Perform 5-fold cross-validation: ridge_cv\n",
        "ridge_cv = cross_val_score(ridge, X_obj, y_obj, cv=5)\n",
        "\n",
        "# Print the cross-validated scores\n",
        "print(ridge_cv)"
      ]
    },
    {
      "cell_type": "code",
      "execution_count": null,
      "metadata": {
        "_cell_guid": "ca0eec60-7a5c-9310-42db-f6850067e419"
      },
      "outputs": [],
      "source": ""
    },
    {
      "cell_type": "code",
      "execution_count": null,
      "metadata": {
        "_cell_guid": "86bc07f6-a0e6-5724-e98f-9221410a94c4"
      },
      "outputs": [],
      "source": [
        "X_obj = df_obj_target_dummies.drop('price_doc', axis=1).values\n",
        "y_obj = df_obj_target_dummies['price_doc'].values\n",
        "\n",
        "# Instantiate a ridge regressor: ridge\n",
        "ridge = Ridge(alpha=0.5, normalize=True)\n",
        "\n",
        "# Perform 5-fold cross-validation: ridge_cv\n",
        "ridge_cv = cross_val_score(ridge, X_obj, y_obj, cv=5)\n",
        "\n",
        "# Print the cross-validated scores\n",
        "print(ridge_cv)"
      ]
    },
    {
      "cell_type": "code",
      "execution_count": null,
      "metadata": {
        "_cell_guid": "7a92ebb6-d390-4748-b051-3f90a280aa99"
      },
      "outputs": [],
      "source": ""
    },
    {
      "cell_type": "markdown",
      "metadata": {
        "_cell_guid": "84d9fa40-d51b-acb0-f263-4d566991f095"
      },
      "source": [
        "## Feature selection to reduce number of features"
      ]
    },
    {
      "cell_type": "code",
      "execution_count": null,
      "metadata": {
        "_cell_guid": "541082f6-334c-f5b2-3ab3-92f7cea71a85"
      },
      "outputs": [],
      "source": [
        "print(X.shape)\n",
        "print(y_train.shape)"
      ]
    },
    {
      "cell_type": "code",
      "execution_count": null,
      "metadata": {
        "_cell_guid": "45e82876-73fd-8cde-07c6-8d944ed3bacf"
      },
      "outputs": [],
      "source": [
        "print(X_train.shape)\n",
        "\n",
        "lasso = Lasso(alpha=0.1)\n",
        "lasso.fit(X_train, y_train)\n",
        "\n",
        "print(lasso.coef_)\n",
        "print(lasso.intercept_)\n",
        "\n",
        "model = SelectFromModel(lasso, threshold='median', prefit=True)\n",
        "X_train_new = model.transform(X_train)\n",
        "print(X_train_new.shape)"
      ]
    },
    {
      "cell_type": "code",
      "execution_count": null,
      "metadata": {
        "_cell_guid": "29f090fd-78c4-50e5-ecbf-f6970e149ff9"
      },
      "outputs": [],
      "source": ""
    }
  ],
  "metadata": {
    "_change_revision": 0,
    "_is_fork": false,
    "kernelspec": {
      "display_name": "Python 3",
      "language": "python",
      "name": "python3"
    },
    "language_info": {
      "codemirror_mode": {
        "name": "ipython",
        "version": 3
      },
      "file_extension": ".py",
      "mimetype": "text/x-python",
      "name": "python",
      "nbconvert_exporter": "python",
      "pygments_lexer": "ipython3",
      "version": "3.6.0"
    }
  },
  "nbformat": 4,
  "nbformat_minor": 0
}