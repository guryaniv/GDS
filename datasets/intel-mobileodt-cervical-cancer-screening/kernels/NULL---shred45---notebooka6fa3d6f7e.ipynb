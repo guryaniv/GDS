{
  "cells": [
    {
      "cell_type": "code",
      "execution_count": null,
      "metadata": {
        "_cell_guid": "59e1ca80-d81a-5164-769b-885e8ad277d2"
      },
      "outputs": [],
      "source": [
        "# This Python 3 environment comes with many helpful analytics libraries installed\n",
        "# It is defined by the kaggle/python docker image: https://github.com/kaggle/docker-python\n",
        "# For example, here's several helpful packages to load in \n",
        "\n",
        "import numpy as np # linear algebra\n",
        "import pandas as pd # data processing, CSV file I/O (e.g. pd.read_csv)\n",
        "\n",
        "# Input data files are available in the \"../input/\" directory.\n",
        "# For example, running this (by clicking run or pressing Shift+Enter) will list the files in the input directory\n",
        "\n",
        "from subprocess import check_output\n",
        "print(check_output([\"ls\", \"../input\"]).decode(\"utf8\"))\n",
        "\n",
        "# Any results you write to the current directory are saved as output."
      ]
    },
    {
      "cell_type": "code",
      "execution_count": null,
      "metadata": {
        "_cell_guid": "5d1080a3-5515-e54f-931e-07008da542f6"
      },
      "outputs": [],
      "source": [
        "import os\n",
        "import scipy.ndimage\n",
        "lidx = {\"Type_1\": 0, \"Type_2\": 1, \"Type_3\": 2}\n",
        "dirs = ['train', 'additional']\n",
        "\n",
        "labels = []\n",
        "images = []\n",
        "\n",
        "for l, i in lidx.items():\n",
        "    for d in dirs:\n",
        "        print(l, d)\n",
        "        fnames = os.listdir(\"../input/%s/%s\"%(d,l))\n",
        "        for f in fnames:\n",
        "            im = scipy.ndimage.imread(\"../input/%s/%s/%s\"%(d,l,f))\n",
        "            images.append(im)\n",
        "            labels.append(i)\n",
        "\n",
        "y_train = np.array(y)"
      ]
    }
  ],
  "metadata": {
    "_change_revision": 0,
    "_is_fork": false,
    "kernelspec": {
      "display_name": "Python 3",
      "language": "python",
      "name": "python3"
    },
    "language_info": {
      "codemirror_mode": {
        "name": "ipython",
        "version": 3
      },
      "file_extension": ".py",
      "mimetype": "text/x-python",
      "name": "python",
      "nbconvert_exporter": "python",
      "pygments_lexer": "ipython3",
      "version": "3.6.0"
    }
  },
  "nbformat": 4,
  "nbformat_minor": 0
}