{
  "cells": [
    {
      "cell_type": "markdown",
      "metadata": {
        "_cell_guid": "87c3bf75-4f20-50e4-b9d7-ed25ec2dbcea"
      },
      "source": ""
    },
    {
      "cell_type": "code",
      "execution_count": null,
      "metadata": {
        "_cell_guid": "1f9a69ba-c35c-78c0-8f0f-a55797cf2b85"
      },
      "outputs": [],
      "source": [
        "# This Python 3 environment comes with many helpful analytics libraries installed\n",
        "# It is defined by the kaggle/python docker image: https://github.com/kaggle/docker-python\n",
        "# For example, here's several helpful packages to load in \n",
        "\n",
        "import numpy as np # linear algebra\n",
        "import pandas as pd # data processing, CSV file I/O (e.g. pd.read_csv)\n",
        "\n",
        "# Input data files are available in the \"../input/\" directory.\n",
        "# For example, running this (by clicking run or pressing Shift+Enter) will list the files in the input directory\n",
        "\n",
        "from subprocess import check_output\n",
        "print(check_output([\"ls\", \"../input\"]).decode(\"utf8\"))\n",
        "\n",
        "# Any results you write to the current directory are saved as output."
      ]
    },
    {
      "cell_type": "code",
      "execution_count": null,
      "metadata": {
        "_cell_guid": "71490a3c-fc4d-475d-b095-2c1b35a5b42e"
      },
      "outputs": [],
      "source": [
        "import dicom\n",
        "import os\n",
        "import pandas as pd\n",
        "\n",
        "data_dir = '../input/sample_images/'\n",
        "patients = os.listdir(data_dir)\n",
        "patients.sort()\n",
        "labels_df = pd.read_csv('../input/stage1_labels.csv', index_col=0)\n",
        "\n",
        "print(len(labels_df))\n",
        "print(len(patients))"
      ]
    },
    {
      "cell_type": "code",
      "execution_count": null,
      "metadata": {
        "_cell_guid": "0c88b54a-4bf3-660c-562f-a0f154cc8465"
      },
      "outputs": [],
      "source": [
        "for patient in patients[:5]:\n",
        "    label = labels_df.get_value(patient, 'cancer')\n",
        "    path = data_dir + patient\n",
        "    \n",
        "    slices = [dicom.read_file(path + '/' + s) for s in os.listdir(path)]\n",
        "    slices.sort(key = lambda x: int(x.ImagePositionPatient[2]))\n",
        "    print(slices[0].pixel_array.shape, len(slices))\n",
        "\n",
        "\n",
        "    "
      ]
    },
    {
      "cell_type": "code",
      "execution_count": null,
      "metadata": {
        "_cell_guid": "0b2369f5-5a98-18fb-f706-5f129c782e58"
      },
      "outputs": [],
      "source": [
        "import matplotlib.pyplot as plt\n",
        "\n",
        "for patient in patients[:5]:\n",
        "    label = labels_df.get_value(patient, 'cancer')\n",
        "    path = data_dir + patient\n",
        "    slices = [dicom.read_file(path + '/' + s) for s in os.listdir(path)]\n",
        "    slices.sort(key = lambda x: int(x.ImagePositionPatient[2]))\n",
        "    \n",
        "    #          the first slice\n",
        "    plt.imshow(slices[0].pixel_array)\n",
        "    plt.show()"
      ]
    },
    {
      "cell_type": "code",
      "execution_count": null,
      "metadata": {
        "_cell_guid": "3b172392-1fc8-ef29-3adb-511dacfab558"
      },
      "outputs": [],
      "source": [
        "import cv2\n",
        "import numpy as np\n",
        "\n",
        "IMG_PX_SIZE = 150\n",
        "\n",
        "for patient in patients[:5]:\n",
        "    label = labels_df.get_value(patient, 'cancer')\n",
        "    path = data_dir + patient\n",
        "    slices = [dicom.read_file(path + '/' + s) for s in os.listdir(path)]\n",
        "    slices.sort(key = lambda x: int(x.ImagePositionPatient[2]))\n",
        "    fig = plt.figure()\n",
        "    for num,each_slice in enumerate(slices[:12]):\n",
        "        y = fig.add_subplot(3,4,num+1)\n",
        "        new_img = cv2.resize(np.array(each_slice.pixel_array),(IMG_PX_SIZE,IMG_PX_SIZE))\n",
        "        y.imshow(new_img)\n",
        "    plt.show()"
      ]
    },
    {
      "cell_type": "code",
      "execution_count": null,
      "metadata": {
        "_cell_guid": "10f62dd6-8ba4-ac1c-08a2-adf5367ca6d7"
      },
      "outputs": [],
      "source": [
        "import math\n",
        "\n",
        "def chunks(l, n):\n",
        "    for i in range(0, len(l), n):\n",
        "        yield l[i:i + n]\n",
        "\n",
        "def mean(l):\n",
        "    return sum(l) / len(l)\n",
        "\n",
        "IMG_PX_SIZE = 150\n",
        "HM_SLICES = 20\n",
        "\n",
        "data_dir = '../input/sample_images/'\n",
        "patients = os.listdir(data_dir)\n",
        "labels_df = pd.read_csv('../input/stage1_labels.csv', index_col=0)\n",
        "\n",
        "for patient in patients[:10]:\n",
        "    try:\n",
        "        label = labels_df.get_value(patient, 'cancer')\n",
        "        path = data_dir + patient\n",
        "        slices = [dicom.read_file(path + '/' + s) for s in os.listdir(path)]\n",
        "        slices.sort(key = lambda x: int(x.ImagePositionPatient[2]))\n",
        "        new_slices = []\n",
        "        slices = [cv2.resize(np.array(each_slice.pixel_array),(IMG_PX_SIZE,IMG_PX_SIZE)) for each_slice in slices]\n",
        "        chunk_sizes = math.ceil(len(slices) / HM_SLICES)\n",
        "        for slice_chunk in chunks(slices, chunk_sizes):\n",
        "            slice_chunk = list(map(mean, zip(*slice_chunk)))\n",
        "            new_slices.append(slice_chunk)\n",
        "\n",
        "        print(len(slices), len(new_slices))\n",
        "    except:\n",
        "        # some patients don't have labels, so we'll just pass on this for now\n",
        "        pass"
      ]
    },
    {
      "cell_type": "code",
      "execution_count": null,
      "metadata": {
        "_cell_guid": "b14862a5-3e6e-5e4c-c6a1-60500c5d52fd"
      },
      "outputs": [],
      "source": [
        "for patient in patients[:5]:\n",
        "    label = labels_df.get_value(patient, 'cancer')\n",
        "    path = data_dir + patient\n",
        "    slices = [dicom.read_file(path + '/' + s) for s in os.listdir(path)]\n",
        "    slices.sort(key = lambda x: int(x.ImagePositionPatient[2]))\n",
        "    new_slices = []\n",
        "\n",
        "    slices = [cv2.resize(np.array(each_slice.pixel_array),(IMG_PX_SIZE,IMG_PX_SIZE)) for each_slice in slices]\n",
        "    \n",
        "    chunk_sizes = math.ceil(len(slices) / HM_SLICES)\n",
        "    for slice_chunk in chunks(slices, chunk_sizes):\n",
        "        slice_chunk = list(map(mean, zip(*slice_chunk)))\n",
        "        new_slices.append(slice_chunk)\n",
        "\n",
        "    if len(new_slices) == HM_SLICES-1:\n",
        "        new_slices.append(new_slices[-1])\n",
        "\n",
        "    if len(new_slices) == HM_SLICES-2:\n",
        "        new_slices.append(new_slices[-1])\n",
        "        new_slices.append(new_slices[-1])\n",
        "\n",
        "    if len(new_slices) == HM_SLICES+2:\n",
        "        new_val = list(map(mean, zip(*[new_slices[HM_SLICES-1],new_slices[HM_SLICES],])))\n",
        "        del new_slices[HM_SLICES]\n",
        "        new_slices[HM_SLICES-1] = new_val\n",
        "        \n",
        "    if len(new_slices) == HM_SLICES+1:\n",
        "        new_val = list(map(mean, zip(*[new_slices[HM_SLICES-1],new_slices[HM_SLICES],])))\n",
        "        del new_slices[HM_SLICES]\n",
        "        new_slices[HM_SLICES-1] = new_val\n",
        "    \n",
        "    fig = plt.figure()\n",
        "    for num,each_slice in enumerate(new_slices):\n",
        "        y = fig.add_subplot(4,5,num+1)\n",
        "        y.imshow(each_slice, cmap='gray')\n",
        "    plt.show()\n"
      ]
    }
  ],
  "metadata": {
    "_change_revision": 0,
    "_is_fork": false,
    "kernelspec": {
      "display_name": "Python 3",
      "language": "python",
      "name": "python3"
    },
    "language_info": {
      "codemirror_mode": {
        "name": "ipython",
        "version": 3
      },
      "file_extension": ".py",
      "mimetype": "text/x-python",
      "name": "python",
      "nbconvert_exporter": "python",
      "pygments_lexer": "ipython3",
      "version": "3.6.0"
    }
  },
  "nbformat": 4,
  "nbformat_minor": 0
}