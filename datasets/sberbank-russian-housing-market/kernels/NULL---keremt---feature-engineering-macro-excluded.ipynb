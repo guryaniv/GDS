{
  "cells": [
    {
      "cell_type": "code",
      "execution_count": null,
      "metadata": {
        "_cell_guid": "07e37d6a-d9ed-e9b4-df7b-97809f9aff0f"
      },
      "outputs": [],
      "source": [
        "import pandas as pd\n",
        "import numpy as np\n",
        "import matplotlib.pyplot as plt\n",
        "%matplotlib nbagg\n",
        "import xgboost as xgb\n",
        "import seaborn as sns"
      ]
    },
    {
      "cell_type": "markdown",
      "metadata": {
        "_cell_guid": "42896cef-2c71-9fcc-3d3f-e5c9cb5fac76"
      },
      "source": ""
    },
    {
      "cell_type": "code",
      "execution_count": null,
      "metadata": {
        "_cell_guid": "6d4e7c8c-f8dd-e1e0-43d4-dc985483a808"
      },
      "outputs": [],
      "source": [
        "train = pd.read_csv(\"./train_clean.csv\", encoding= \"utf_8\")\n",
        "test = pd.read_csv(\"./test_clean.csv\", encoding= \"utf_8\")"
      ]
    },
    {
      "cell_type": "markdown",
      "metadata": {
        "_cell_guid": "f9d7c85f-5121-7b28-c85c-dca318577154"
      },
      "source": ""
    },
    {
      "cell_type": "markdown",
      "metadata": {
        "_cell_guid": "1c136ea0-3761-776d-ced3-b0b0113b1547"
      },
      "source": ""
    },
    {
      "cell_type": "code",
      "execution_count": null,
      "metadata": {
        "_cell_guid": "f192157f-90c1-4799-98c4-c5742bc093ae"
      },
      "outputs": [],
      "source": [
        "train[\"non_life_sq\"] = train.full_sq - train.life_sq\n",
        "test[\"non_life_sq\"] = test.full_sq - test.life_sq"
      ]
    },
    {
      "cell_type": "markdown",
      "metadata": {
        "_cell_guid": "a84cd610-fdbd-65c6-4f95-8de1737b2129"
      },
      "source": ""
    },
    {
      "cell_type": "code",
      "execution_count": null,
      "metadata": {
        "_cell_guid": "4af6a774-467b-606f-32a6-5032993319ad"
      },
      "outputs": [],
      "source": [
        "train[\"life_sq_ratio\"] = train.life_sq / train.full_sq\n",
        "test[\"life_sq_ratio\"] = test.life_sq / test.full_sq"
      ]
    },
    {
      "cell_type": "markdown",
      "metadata": {
        "_cell_guid": "6245774b-5199-657f-eb25-5f542b453a7f"
      },
      "source": ""
    },
    {
      "cell_type": "code",
      "execution_count": null,
      "metadata": {
        "_cell_guid": "721bc80a-f248-89f7-7a4e-45e06e08176f"
      },
      "outputs": [],
      "source": [
        "train[\"non_life_sq_ratio\"] = train.non_life_sq / train.full_sq\n",
        "test[\"non_life_sq_ratio\"] = test.non_life_sq / test.full_sq"
      ]
    },
    {
      "cell_type": "markdown",
      "metadata": {
        "_cell_guid": "d3defbc6-7634-7679-e33e-903d0d4bb438"
      },
      "source": ""
    },
    {
      "cell_type": "code",
      "execution_count": null,
      "metadata": {
        "_cell_guid": "24fcb123-f021-9247-8aa2-a45688cd3576"
      },
      "outputs": [],
      "source": [
        "train[\"kitch_sq_ratio\"] = train.kitch_sq / train.life_sq\n",
        "test[\"kitch_sq_ratio\"] = test.kitch_sq / test.life_sq"
      ]
    },
    {
      "cell_type": "markdown",
      "metadata": {
        "_cell_guid": "fba03a20-ca29-656d-5918-58728a4a96df"
      },
      "source": ""
    },
    {
      "cell_type": "code",
      "execution_count": null,
      "metadata": {
        "_cell_guid": "2d3bd911-f82a-a586-d76e-bb106fc76ae7"
      },
      "outputs": [],
      "source": [
        "train[\"inverse_floor\"] = train.max_floor - train.floor\n",
        "test[\"inverse_floor\"] = test.max_floor - test.floor"
      ]
    },
    {
      "cell_type": "markdown",
      "metadata": {
        "_cell_guid": "b70fcac2-8618-bed9-3431-ea9205e93e54"
      },
      "source": ""
    },
    {
      "cell_type": "code",
      "execution_count": null,
      "metadata": {
        "_cell_guid": "e5a1a5e0-2aba-1791-3836-49eb0f752a47"
      },
      "outputs": [],
      "source": [
        "train[\"floor_percentile\"] = train.floor / train.max_floor\n",
        "test[\"floor_percentile\"] = test.floor / test.max_floor"
      ]
    },
    {
      "cell_type": "markdown",
      "metadata": {
        "_cell_guid": "424183d4-cb80-3a9b-4a1e-5f0195539d53"
      },
      "source": ""
    },
    {
      "cell_type": "code",
      "execution_count": null,
      "metadata": {
        "_cell_guid": "9e4844a5-34e4-f438-2408-58a14ee78118"
      },
      "outputs": [],
      "source": [
        "from datetime import datetime"
      ]
    },
    {
      "cell_type": "code",
      "execution_count": null,
      "metadata": {
        "_cell_guid": "8c7ba590-6b6f-3133-df88-41500eac0de1"
      },
      "outputs": [],
      "source": [
        "train[\"timestamp\"] = train.timestamp.apply(lambda x: datetime.strptime(x, \"%Y-%m-%d\"))\n",
        "test[\"timestamp\"] = test.timestamp.apply(lambda x: datetime.strptime(x, \"%Y-%m-%d\"))"
      ]
    },
    {
      "cell_type": "code",
      "execution_count": null,
      "metadata": {
        "_cell_guid": "7a854153-aec7-a71c-ad63-ffe778d5b9d6"
      },
      "outputs": [],
      "source": [
        "train[\"build_age\"] = np.array(train.timestamp.apply(lambda x: x.year)) - np.array(train.build_year)\n",
        "test[\"build_age\"] = np.array(test.timestamp.apply(lambda x: x.year)) - np.array(test.build_year)"
      ]
    },
    {
      "cell_type": "markdown",
      "metadata": {
        "_cell_guid": "8918c1ef-8378-5abc-994d-0b5b5f2c173f"
      },
      "source": ""
    },
    {
      "cell_type": "markdown",
      "metadata": {
        "_cell_guid": "949b6239-cca1-01be-0e88-b09993bf229e"
      },
      "source": ""
    },
    {
      "cell_type": "code",
      "execution_count": null,
      "metadata": {
        "_cell_guid": "bbd3bd9f-8c86-3268-5bea-c3ccefc1f063"
      },
      "outputs": [],
      "source": [
        "train[\"popul_per_sq\"] = train.raion_popul / train.area_m\n",
        "test[\"popul_per_sq\"] = test.raion_popul / test.area_m"
      ]
    },
    {
      "cell_type": "markdown",
      "metadata": {
        "_cell_guid": "ae99d9fd-3bd4-15fc-583f-4210c882aec4"
      },
      "source": ""
    },
    {
      "cell_type": "code",
      "execution_count": null,
      "metadata": {
        "_cell_guid": "0e36e933-8a98-3e42-2168-a216bfc35726"
      },
      "outputs": [],
      "source": [
        "train[\"seat_per_preschool\"] = train.preschool_quota / train.preschool_education_centers_raion\n",
        "test[\"seat_per_preschool\"] = test.preschool_quota / test.preschool_education_centers_raion"
      ]
    },
    {
      "cell_type": "markdown",
      "metadata": {
        "_cell_guid": "5412e1bf-eeb5-6df5-ce52-f2b2aa4108f4"
      },
      "source": ""
    },
    {
      "cell_type": "code",
      "execution_count": null,
      "metadata": {
        "_cell_guid": "43d61cfa-ad9e-65c9-c24a-2f78b8ad4702"
      },
      "outputs": [],
      "source": [
        "train[\"preschool_availability\"] = train.preschool_quota / train.children_preschool\n",
        "test[\"preschool_availability\"] = test.preschool_quota / test.children_preschool"
      ]
    },
    {
      "cell_type": "markdown",
      "metadata": {
        "_cell_guid": "44c35bbc-612b-1b2b-0a4c-d57f92606a91"
      },
      "source": ""
    },
    {
      "cell_type": "code",
      "execution_count": null,
      "metadata": {
        "_cell_guid": "8c04cef1-4df8-8bb7-04fe-36ecfb1c842f"
      },
      "outputs": [],
      "source": [
        "train[\"seat_per_school\"] = train.school_quota / train.school_education_centers_raion\n",
        "test[\"seat_per_school\"] = test.school_quota / test.school_education_centers_raion"
      ]
    },
    {
      "cell_type": "markdown",
      "metadata": {
        "_cell_guid": "112e5403-8a19-f9fc-5c40-119cb76b8b2c"
      },
      "source": ""
    },
    {
      "cell_type": "code",
      "execution_count": null,
      "metadata": {
        "_cell_guid": "dbc998ee-d3f0-1076-9fc5-05dc81e4e0c5"
      },
      "outputs": [],
      "source": [
        "train[\"school_availability\"] = train.school_quota / train.children_school\n",
        "test[\"school_availability\"] = test.school_quota / test.children_school"
      ]
    },
    {
      "cell_type": "markdown",
      "metadata": {
        "_cell_guid": "eed38e9f-614b-de71-ba85-35d174d7bc21"
      },
      "source": ""
    },
    {
      "cell_type": "code",
      "execution_count": null,
      "metadata": {
        "_cell_guid": "c1894d97-2afc-00f3-dfdb-534d0e81f51e"
      },
      "outputs": [],
      "source": [
        "train[\"culture_objects_top_25\"] = train.culture_objects_top_25.apply(lambda x: 1 if x == \"yes\" else 0 if x == \"no\" else x)\n",
        "test[\"culture_objects_top_25\"] = test.culture_objects_top_25.apply(lambda x: 1 if x == \"yes\" else 0 if x == \"no\" else x)"
      ]
    },
    {
      "cell_type": "markdown",
      "metadata": {
        "_cell_guid": "ca5f3d56-b96d-c70a-a8c8-cf76026bfa0a"
      },
      "source": ""
    },
    {
      "cell_type": "code",
      "execution_count": null,
      "metadata": {
        "_cell_guid": "ae490589-4be4-a0a7-df06-7057fe7a53ab"
      },
      "outputs": [],
      "source": [
        "presences = [\"thermal_power_plant_raion\",\n",
        "\"incineration_raion\",\n",
        "\"oil_chemistry_raion\" ,\n",
        "\"radiation_raion\",\n",
        "\"railroad_terminal_raion\", \n",
        "\"big_market_raion\",\n",
        "\"nuclear_reactor_raion\",\n",
        "\"detention_facility_raion\"]"
      ]
    },
    {
      "cell_type": "code",
      "execution_count": null,
      "metadata": {
        "_cell_guid": "0604a8e4-16b0-6bb8-a756-6fcb1e08122d"
      },
      "outputs": [],
      "source": [
        "train[presences] = train[presences].applymap(lambda x: 1 if x == \"yes\" else 0 if x == \"no\" else x)\n",
        "test[presences] = test[presences].applymap(lambda x: 1 if x == \"yes\" else 0 if x == \"no\" else x)"
      ]
    },
    {
      "cell_type": "markdown",
      "metadata": {
        "_cell_guid": "e8484bb2-b583-fee3-de58-24320bd2bbef"
      },
      "source": ""
    },
    {
      "cell_type": "markdown",
      "metadata": {
        "_cell_guid": "bb1a4ab5-96ec-028e-7110-75e017dcb194"
      },
      "source": ""
    },
    {
      "cell_type": "code",
      "execution_count": null,
      "metadata": {
        "_cell_guid": "c32bd3e0-7f73-00e5-5de6-94c69e1a0cc0"
      },
      "outputs": [],
      "source": ""
    },
    {
      "cell_type": "markdown",
      "metadata": {
        "_cell_guid": "0d78b0b7-11f8-a0bd-7d30-e8837888e334"
      },
      "source": ""
    },
    {
      "cell_type": "code",
      "execution_count": null,
      "metadata": {
        "_cell_guid": "39881796-edd0-c13f-424e-a00add22232d"
      },
      "outputs": [],
      "source": [
        "group_popul = [\"young_all\", \"work_all\", \"ekder_all\", \"0_6_all\", \"7_14_all\", \"0_17_all\", \"16_29_all\", \"0_13_all\"]"
      ]
    },
    {
      "cell_type": "code",
      "execution_count": null,
      "metadata": {
        "_cell_guid": "08f36bf1-82db-6165-30eb-7f5a43f178a8"
      },
      "outputs": [],
      "source": [
        "for col in group_popul:\n",
        "    colname = col + \"_percentage\"\n",
        "    train[colname] = train[col] / train.full_all"
      ]
    },
    {
      "cell_type": "code",
      "execution_count": null,
      "metadata": {
        "_cell_guid": "6f24fa84-fedd-bafb-db81-18efbaf431d2"
      },
      "outputs": [],
      "source": [
        "for col in group_popul:\n",
        "    colname = col + \"_percentage\"\n",
        "    test[colname] = test[col] / test.full_all"
      ]
    },
    {
      "cell_type": "markdown",
      "metadata": {
        "_cell_guid": "f8f1464f-f090-bf09-2f37-90c6e1fbcba6"
      },
      "source": ""
    },
    {
      "cell_type": "code",
      "execution_count": null,
      "metadata": {
        "_cell_guid": "84a814e8-b5b1-6660-6cb3-f62d1a39af6c"
      },
      "outputs": [],
      "source": ""
    },
    {
      "cell_type": "code",
      "execution_count": null,
      "metadata": {
        "_cell_guid": "198509d5-a32e-822a-65ee-234c7f20b6bb"
      },
      "outputs": [],
      "source": ""
    },
    {
      "cell_type": "code",
      "execution_count": null,
      "metadata": {
        "_cell_guid": "654ca4e0-5207-8623-3326-dcf9e3dedf2c"
      },
      "outputs": [],
      "source": [
        "material_count = [\"build_count_block\",\"build_count_wood\",\"build_count_frame\",\"build_count_brick\",\"build_count_monolith\",\n",
        "\"build_count_panel\", \"build_count_foam\", \"build_count_slag\", \"build_count_mix\" ]"
      ]
    },
    {
      "cell_type": "markdown",
      "metadata": {
        "_cell_guid": "9f38fc22-1dea-e897-1611-e91c33d55afe"
      },
      "source": ""
    },
    {
      "cell_type": "code",
      "execution_count": null,
      "metadata": {
        "_cell_guid": "f64818cf-339b-220a-82bd-b8b356813c9f"
      },
      "outputs": [],
      "source": [
        "for col in material_count:\n",
        "    colname = col + \"_percentage\"\n",
        "    train[colname] = train[col] / train.raion_build_count_with_material_info\n",
        "\n",
        "for col in material_count:\n",
        "    colname = col + \"_percentage\"\n",
        "    test[colname] = test[col] / test.raion_build_count_with_material_info"
      ]
    },
    {
      "cell_type": "code",
      "execution_count": null,
      "metadata": {
        "_cell_guid": "0ff7445c-da47-020a-7c15-9c39c7253903"
      },
      "outputs": [],
      "source": [
        "group_cols = [\"sub_area\"]+[col + \"_percentage\" for col in material_count]"
      ]
    },
    {
      "cell_type": "code",
      "execution_count": null,
      "metadata": {
        "_cell_guid": "f375a54a-5597-623c-71ec-f953005071c5",
        "collapsed": true
      },
      "outputs": [],
      "source": ""
    },
    {
      "cell_type": "code",
      "execution_count": null,
      "metadata": {
        "_cell_guid": "629e139c-176d-bf57-3c09-de864a141141",
        "collapsed": true
      },
      "outputs": [],
      "source": ""
    },
    {
      "cell_type": "code",
      "execution_count": null,
      "metadata": {
        "_cell_guid": "32668714-44ec-bc5d-3c00-f78aeb945bb3",
        "collapsed": true
      },
      "outputs": [],
      "source": ""
    },
    {
      "cell_type": "code",
      "execution_count": null,
      "metadata": {
        "_cell_guid": "1fbd362b-73dd-a208-dfe5-e343d09e6983",
        "collapsed": true
      },
      "outputs": [],
      "source": ""
    },
    {
      "cell_type": "code",
      "execution_count": null,
      "metadata": {
        "_cell_guid": "cd7ff3fc-3158-f308-c874-68ec8ab2812d",
        "collapsed": true
      },
      "outputs": [],
      "source": ""
    },
    {
      "cell_type": "markdown",
      "metadata": {
        "_cell_guid": "cf1cad04-42e1-e800-3fb3-e88a783bf692"
      },
      "source": ""
    },
    {
      "cell_type": "code",
      "execution_count": null,
      "metadata": {
        "_cell_guid": "a07d81ae-25e0-d931-efd9-1f02c600fdff",
        "collapsed": true
      },
      "outputs": [],
      "source": ""
    },
    {
      "cell_type": "code",
      "execution_count": null,
      "metadata": {
        "_cell_guid": "8e894f40-cf3e-5024-0b62-08d984374e69",
        "collapsed": true
      },
      "outputs": [],
      "source": ""
    },
    {
      "cell_type": "markdown",
      "metadata": {
        "_cell_guid": "8ebc1374-8e6f-2b42-db98-77368737d38f"
      },
      "source": ""
    },
    {
      "cell_type": "code",
      "execution_count": null,
      "metadata": {
        "_cell_guid": "2bf5bc86-464c-e276-44ef-ac31b4911186",
        "collapsed": true
      },
      "outputs": [],
      "source": ""
    },
    {
      "cell_type": "code",
      "execution_count": null,
      "metadata": {
        "_cell_guid": "f7c1efb5-60c1-56f1-d3e7-70fdb2da6fc2",
        "collapsed": true
      },
      "outputs": [],
      "source": ""
    },
    {
      "cell_type": "markdown",
      "metadata": {
        "_cell_guid": "14c41009-a744-dc3e-b52d-3342198f266f"
      },
      "source": ""
    },
    {
      "cell_type": "code",
      "execution_count": null,
      "metadata": {
        "_cell_guid": "048abca4-9cab-7148-e7ab-11ca8537d487"
      },
      "outputs": [],
      "source": ""
    },
    {
      "cell_type": "code",
      "execution_count": null,
      "metadata": {
        "_cell_guid": "1c3814d7-0358-397d-ccc7-157f30bcb59e",
        "collapsed": true
      },
      "outputs": [],
      "source": ""
    },
    {
      "cell_type": "code",
      "execution_count": null,
      "metadata": {
        "_cell_guid": "2a88c8bf-9b2b-b923-454c-13d0daf06647",
        "collapsed": true
      },
      "outputs": [],
      "source": ""
    },
    {
      "cell_type": "code",
      "execution_count": null,
      "metadata": {
        "_cell_guid": "20a9a7ab-b463-696e-09d3-9e6513759b7f",
        "collapsed": true
      },
      "outputs": [],
      "source": ""
    },
    {
      "cell_type": "code",
      "execution_count": null,
      "metadata": {
        "_cell_guid": "aa4cff6c-1b98-f702-e5a3-af3e3c8c4bb4",
        "collapsed": true
      },
      "outputs": [],
      "source": ""
    },
    {
      "cell_type": "code",
      "execution_count": null,
      "metadata": {
        "_cell_guid": "11c4f0b0-9d1a-0099-0f77-4cfaef359dd7",
        "collapsed": true
      },
      "outputs": [],
      "source": ""
    },
    {
      "cell_type": "code",
      "execution_count": null,
      "metadata": {
        "_cell_guid": "5124b658-c77c-0321-f8ac-9ef8d009f9a7",
        "collapsed": true
      },
      "outputs": [],
      "source": ""
    },
    {
      "cell_type": "markdown",
      "metadata": {
        "_cell_guid": "c3a507ff-832d-2419-07f8-5b33beac285a"
      },
      "source": ""
    },
    {
      "cell_type": "code",
      "execution_count": null,
      "metadata": {
        "_cell_guid": "a8b0e389-4861-9e7d-4b59-e9128967bdf6",
        "collapsed": true
      },
      "outputs": [],
      "source": ""
    },
    {
      "cell_type": "code",
      "execution_count": null,
      "metadata": {
        "_cell_guid": "68e0b9db-8825-e3da-17de-b8514da46736",
        "collapsed": true
      },
      "outputs": [],
      "source": ""
    },
    {
      "cell_type": "code",
      "execution_count": null,
      "metadata": {
        "_cell_guid": "f81a50f0-a4d4-56bf-f0be-9983af01a491",
        "collapsed": true
      },
      "outputs": [],
      "source": ""
    },
    {
      "cell_type": "markdown",
      "metadata": {
        "_cell_guid": "79678541-d0f6-a17c-9b8f-b3e63946f7b8"
      },
      "source": ""
    },
    {
      "cell_type": "code",
      "execution_count": null,
      "metadata": {
        "_cell_guid": "2d1e1cd0-6130-11f0-c3e9-6b768a97ee24",
        "collapsed": true
      },
      "outputs": [],
      "source": ""
    },
    {
      "cell_type": "code",
      "execution_count": null,
      "metadata": {
        "_cell_guid": "4745cf5d-13d2-3f6e-29a1-1cee806c40e3",
        "collapsed": true
      },
      "outputs": [],
      "source": ""
    },
    {
      "cell_type": "markdown",
      "metadata": {
        "_cell_guid": "998f9b95-cadc-1225-4564-1f4816bdfb1c"
      },
      "source": ""
    },
    {
      "cell_type": "code",
      "execution_count": null,
      "metadata": {
        "_cell_guid": "f994b108-ae8a-a1b1-bded-6f38316c249b",
        "collapsed": true
      },
      "outputs": [],
      "source": ""
    },
    {
      "cell_type": "markdown",
      "metadata": {
        "_cell_guid": "1b8bfef4-9d6c-7037-504d-65c4905ab83b"
      },
      "source": ""
    },
    {
      "cell_type": "code",
      "execution_count": null,
      "metadata": {
        "_cell_guid": "6470f549-9639-014e-c1a4-25528b7a5c07",
        "collapsed": true
      },
      "outputs": [],
      "source": ""
    },
    {
      "cell_type": "code",
      "execution_count": null,
      "metadata": {
        "_cell_guid": "55622fe8-7269-df46-8a67-9a17b438f20c",
        "collapsed": true
      },
      "outputs": [],
      "source": ""
    },
    {
      "cell_type": "code",
      "execution_count": null,
      "metadata": {
        "_cell_guid": "eec32968-b56d-81af-5840-6a80b0cde25c",
        "collapsed": true
      },
      "outputs": [],
      "source": ""
    },
    {
      "cell_type": "markdown",
      "metadata": {
        "_cell_guid": "f743d904-3c06-887d-2507-522bd5afb721"
      },
      "source": ""
    },
    {
      "cell_type": "markdown",
      "metadata": {
        "_cell_guid": "1b75f532-bac9-d28a-6389-cb4b8e38bec3"
      },
      "source": ""
    },
    {
      "cell_type": "code",
      "execution_count": null,
      "metadata": {
        "_cell_guid": "3e81ad34-c299-3acf-6078-ea617994f018",
        "collapsed": true
      },
      "outputs": [],
      "source": ""
    },
    {
      "cell_type": "code",
      "execution_count": null,
      "metadata": {
        "_cell_guid": "0355ec9f-782d-feb1-8494-d72b79c279e4"
      },
      "outputs": [],
      "source": ""
    },
    {
      "cell_type": "code",
      "execution_count": null,
      "metadata": {
        "_cell_guid": "7f3cd423-c24e-6c6d-a45c-10cb75e2ca85"
      },
      "outputs": [],
      "source": ""
    },
    {
      "cell_type": "markdown",
      "metadata": {
        "_cell_guid": "39753bdf-3de8-d1ef-fbed-7ca502cd544d"
      },
      "source": ""
    },
    {
      "cell_type": "markdown",
      "metadata": {
        "_cell_guid": "04ca5e73-7375-4518-da5e-7abe2c353aaa"
      },
      "source": ""
    },
    {
      "cell_type": "code",
      "execution_count": null,
      "metadata": {
        "_cell_guid": "fca32bb7-a1bc-31ce-2164-1e01e2320aa2",
        "collapsed": true
      },
      "outputs": [],
      "source": ""
    },
    {
      "cell_type": "code",
      "execution_count": null,
      "metadata": {
        "_cell_guid": "ea259180-4594-9a52-d405-651ef9bb902d",
        "collapsed": true
      },
      "outputs": [],
      "source": ""
    },
    {
      "cell_type": "code",
      "execution_count": null,
      "metadata": {
        "_cell_guid": "e32c8219-e2f4-0c95-01ed-c7b63ecea49a",
        "collapsed": true
      },
      "outputs": [],
      "source": ""
    },
    {
      "cell_type": "markdown",
      "metadata": {
        "_cell_guid": "ebe481d4-6051-4822-4582-4226387c5ca5"
      },
      "source": ""
    },
    {
      "cell_type": "code",
      "execution_count": null,
      "metadata": {
        "_cell_guid": "6daa1ea0-2638-9cca-5e04-a724bf816cac",
        "collapsed": true
      },
      "outputs": [],
      "source": ""
    },
    {
      "cell_type": "code",
      "execution_count": null,
      "metadata": {
        "_cell_guid": "e5521acc-f6bb-4fa5-184f-ed97ba4bfbc0"
      },
      "outputs": [],
      "source": ""
    },
    {
      "cell_type": "code",
      "execution_count": null,
      "metadata": {
        "_cell_guid": "248187e7-3fb2-59bb-6601-3297b3ecc758"
      },
      "outputs": [],
      "source": ""
    },
    {
      "cell_type": "markdown",
      "metadata": {
        "_cell_guid": "f27dbc04-513c-2ee5-2b83-102846560b38"
      },
      "source": ""
    },
    {
      "cell_type": "markdown",
      "metadata": {
        "_cell_guid": "da425f1a-2f25-038a-0006-2461bd659930"
      },
      "source": ""
    },
    {
      "cell_type": "markdown",
      "metadata": {
        "_cell_guid": "5f52b538-9cca-ccc6-0fb7-41dd3f0afec3"
      },
      "source": ""
    },
    {
      "cell_type": "code",
      "execution_count": null,
      "metadata": {
        "_cell_guid": "8241b093-e19c-5895-e7be-f7a74cf4364a"
      },
      "outputs": [],
      "source": ""
    },
    {
      "cell_type": "code",
      "execution_count": null,
      "metadata": {
        "_cell_guid": "757837e9-fb9b-a015-f82e-6267d60c6a18",
        "collapsed": true
      },
      "outputs": [],
      "source": ""
    },
    {
      "cell_type": "code",
      "execution_count": null,
      "metadata": {
        "_cell_guid": "61300f1a-6aab-0d9b-ae04-5f56227ebe47",
        "collapsed": true
      },
      "outputs": [],
      "source": ""
    },
    {
      "cell_type": "markdown",
      "metadata": {
        "_cell_guid": "a78e27f5-a44b-248b-1513-fbdbc6201ccb"
      },
      "source": ""
    },
    {
      "cell_type": "code",
      "execution_count": null,
      "metadata": {
        "_cell_guid": "53032860-b9ec-7c27-a1c2-4fac7c54f018"
      },
      "outputs": [],
      "source": ""
    },
    {
      "cell_type": "code",
      "execution_count": null,
      "metadata": {
        "_cell_guid": "1e00dcd5-8d8b-d311-2735-7ef4ab9b40c7",
        "collapsed": true
      },
      "outputs": [],
      "source": ""
    },
    {
      "cell_type": "code",
      "execution_count": null,
      "metadata": {
        "_cell_guid": "95461fda-79b2-a552-77a0-0fd5d7cb8b19",
        "collapsed": true
      },
      "outputs": [],
      "source": ""
    },
    {
      "cell_type": "markdown",
      "metadata": {
        "_cell_guid": "327356d2-e675-b745-69f8-f087aad55d02"
      },
      "source": ""
    },
    {
      "cell_type": "code",
      "execution_count": null,
      "metadata": {
        "_cell_guid": "d799b3b3-85b2-fabc-9b9e-fe9d3b6557ac"
      },
      "outputs": [],
      "source": ""
    },
    {
      "cell_type": "code",
      "execution_count": null,
      "metadata": {
        "_cell_guid": "bb3ba4ec-7665-9e40-5563-396281234ed4",
        "collapsed": true
      },
      "outputs": [],
      "source": ""
    },
    {
      "cell_type": "code",
      "execution_count": null,
      "metadata": {
        "_cell_guid": "254476e4-0b7c-a23f-427e-f60884baa98d",
        "collapsed": true
      },
      "outputs": [],
      "source": ""
    },
    {
      "cell_type": "markdown",
      "metadata": {
        "_cell_guid": "cb242207-1ecc-b6e7-7115-00a4c366e813"
      },
      "source": ""
    },
    {
      "cell_type": "code",
      "execution_count": null,
      "metadata": {
        "_cell_guid": "5b0939cb-61f9-2e26-4c73-887293fb0c85"
      },
      "outputs": [],
      "source": ""
    },
    {
      "cell_type": "code",
      "execution_count": null,
      "metadata": {
        "_cell_guid": "1c8a08ab-1e68-da12-ec88-f879faf77ed7",
        "collapsed": true
      },
      "outputs": [],
      "source": ""
    },
    {
      "cell_type": "markdown",
      "metadata": {
        "_cell_guid": "babfd742-4c9e-c56f-4927-b14c81d78f94"
      },
      "source": ""
    },
    {
      "cell_type": "code",
      "execution_count": null,
      "metadata": {
        "_cell_guid": "16e8853e-5b44-bb95-c419-3c87b1b2af2f"
      },
      "outputs": [],
      "source": ""
    },
    {
      "cell_type": "code",
      "execution_count": null,
      "metadata": {
        "_cell_guid": "7634a6a4-181d-342f-92e3-613c28979d70",
        "collapsed": true
      },
      "outputs": [],
      "source": ""
    },
    {
      "cell_type": "code",
      "execution_count": null,
      "metadata": {
        "_cell_guid": "620477b9-10aa-cb8a-a136-4d04d95efb33",
        "collapsed": true
      },
      "outputs": [],
      "source": ""
    },
    {
      "cell_type": "markdown",
      "metadata": {
        "_cell_guid": "07081615-d865-a6c2-0474-280ebae334b6"
      },
      "source": ""
    },
    {
      "cell_type": "code",
      "execution_count": null,
      "metadata": {
        "_cell_guid": "fa50a3f6-4b2f-faf7-a916-8c207d1f0af8"
      },
      "outputs": [],
      "source": ""
    },
    {
      "cell_type": "code",
      "execution_count": null,
      "metadata": {
        "_cell_guid": "a56c999d-b605-b149-a6d6-047ac6524da3",
        "collapsed": true
      },
      "outputs": [],
      "source": ""
    },
    {
      "cell_type": "code",
      "execution_count": null,
      "metadata": {
        "_cell_guid": "d8e8caa7-694e-20cf-0a4f-a6f4042530a0",
        "collapsed": true
      },
      "outputs": [],
      "source": ""
    },
    {
      "cell_type": "markdown",
      "metadata": {
        "_cell_guid": "ac0de048-52c6-8c41-6f7b-0805459b0b09"
      },
      "source": ""
    },
    {
      "cell_type": "code",
      "execution_count": null,
      "metadata": {
        "_cell_guid": "a9c9877e-9016-3412-383a-f27842f88cf4"
      },
      "outputs": [],
      "source": ""
    },
    {
      "cell_type": "code",
      "execution_count": null,
      "metadata": {
        "_cell_guid": "920f707d-b39f-2f9b-6b90-83e674b5c14a",
        "collapsed": true
      },
      "outputs": [],
      "source": ""
    },
    {
      "cell_type": "code",
      "execution_count": null,
      "metadata": {
        "_cell_guid": "a9b9251b-075e-1c14-1d20-b716927ff6ce",
        "collapsed": true
      },
      "outputs": [],
      "source": ""
    },
    {
      "cell_type": "markdown",
      "metadata": {
        "_cell_guid": "404d9700-0298-bf94-5883-5e05309349d7"
      },
      "source": ""
    },
    {
      "cell_type": "code",
      "execution_count": null,
      "metadata": {
        "_cell_guid": "8eb6d464-ef0e-57ce-ba11-5ae52f44b65a",
        "collapsed": true
      },
      "outputs": [],
      "source": ""
    },
    {
      "cell_type": "code",
      "execution_count": null,
      "metadata": {
        "_cell_guid": "b9b375ac-37d2-4d96-7f06-642e4e6730ef",
        "collapsed": true
      },
      "outputs": [],
      "source": ""
    },
    {
      "cell_type": "markdown",
      "metadata": {
        "_cell_guid": "e1efea11-3102-e8fc-6008-6a3f217e8c8e"
      },
      "source": ""
    },
    {
      "cell_type": "markdown",
      "metadata": {
        "_cell_guid": "6c2d56bc-e56f-b327-a893-44ede4365d9c"
      },
      "source": ""
    },
    {
      "cell_type": "code",
      "execution_count": null,
      "metadata": {
        "_cell_guid": "2856ce75-d88b-82fe-c6b7-bd6672176e67",
        "collapsed": true
      },
      "outputs": [],
      "source": ""
    },
    {
      "cell_type": "markdown",
      "metadata": {
        "_cell_guid": "82e4855d-e1b2-2797-70bf-41cb114cd60a"
      },
      "source": ""
    },
    {
      "cell_type": "code",
      "execution_count": null,
      "metadata": {
        "_cell_guid": "b35f5742-c540-668b-de37-185525bc4a73"
      },
      "outputs": [],
      "source": ""
    },
    {
      "cell_type": "code",
      "execution_count": null,
      "metadata": {
        "_cell_guid": "e56b40e2-c11c-fdf7-2e78-f8e92da8148d",
        "collapsed": true
      },
      "outputs": [],
      "source": ""
    }
  ],
  "metadata": {
    "_change_revision": 0,
    "_is_fork": false,
    "kernelspec": {
      "display_name": "Python 3",
      "language": "python",
      "name": "python3"
    },
    "language_info": {
      "codemirror_mode": {
        "name": "ipython",
        "version": 3
      },
      "file_extension": ".py",
      "mimetype": "text/x-python",
      "name": "python",
      "nbconvert_exporter": "python",
      "pygments_lexer": "ipython3",
      "version": "3.6.0"
    }
  },
  "nbformat": 4,
  "nbformat_minor": 0
}