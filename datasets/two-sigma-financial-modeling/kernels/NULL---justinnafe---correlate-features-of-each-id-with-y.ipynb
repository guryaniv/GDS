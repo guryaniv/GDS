{
  "cells": [
    {
      "cell_type": "markdown",
      "metadata": {
        "_cell_guid": "2e8ef298-5730-55f8-cb7c-39cde777f4e1"
      },
      "source": [
        "This notebook correlates the features of each instrument with 'y' to determine feature rank for each instrument in relation to y (could be helpful for linear models). For the method, I used spearman since it is less sensitive to outliers than pearson's correlation. I also left the missing values in the data and used pandas correlation to work with missing values."
      ]
    },
    {
      "cell_type": "code",
      "execution_count": null,
      "metadata": {
        "_cell_guid": "6df7092f-0e7f-afcd-cdd6-04546016a334"
      },
      "outputs": [],
      "source": [
        "import numpy as np # linear algebra\n",
        "import pandas as pd # data processing, CSV file I/O (e.g. pd.read_csv)\n",
        "import matplotlib.pyplot as plt\n",
        "from scipy import stats\n",
        "import seaborn as sns\n",
        "import kagglegym\n",
        "import math\n",
        "\n",
        "%matplotlib inline"
      ]
    },
    {
      "cell_type": "code",
      "execution_count": null,
      "metadata": {
        "_cell_guid": "8f3bac7b-f610-ce88-0b33-222feb6faeb4"
      },
      "outputs": [],
      "source": [
        "env = kagglegym.make()\n",
        "\n",
        "observation = env.reset()\n",
        "\n",
        "train = observation.train"
      ]
    },
    {
      "cell_type": "code",
      "execution_count": null,
      "metadata": {
        "_cell_guid": "311811e9-b34b-623c-d987-95b73a8a378a"
      },
      "outputs": [],
      "source": [
        "unique_ids = list(set(train.id))\n",
        "len(unique_ids)"
      ]
    },
    {
      "cell_type": "code",
      "execution_count": null,
      "metadata": {
        "_cell_guid": "4db54e52-4766-f019-c753-dcfc21ee80cb"
      },
      "outputs": [],
      "source": [
        "def getRankById(inst_id, method):\n",
        "    data = train.loc[train.id == inst_id, train.columns]     \n",
        "    \n",
        "    data = data.ix[:,2:len(data.columns)]\n",
        "    \n",
        "    cor_with_y = data[data.columns[0:-1]].apply(lambda x: x.corr(data['y'], method=method))\n",
        "    cors = cor_with_y.copy()\n",
        "    cors_sq = cors**2 #square the results to handle highly negative correlations\n",
        "    cors_sq.sort_values(inplace=True, ascending=False)\n",
        "    return(cors_sq)\n",
        "    \n",
        "def plotRank(inst_id, num_features, cors_sq):\n",
        "    pos = np.arange(num_features)\n",
        "    width = 1.0     # gives histogram aspect to the bar diagram\n",
        "\n",
        "    ax = plt.axes()\n",
        "    ax.set_xticks(pos + (width / 2))\n",
        "    ax.set_xticklabels(cors_sq[0:num_features].index.values, rotation=45)\n",
        "\n",
        "    plt.bar(pos, cors_sq[0:num_features], width, color='r')\n",
        "    plt.title(\"Correlation of \" + str(inst_id) + \" and y\")\n",
        "    plt.show()\n",
        "    "
      ]
    },
    {
      "cell_type": "markdown",
      "metadata": {
        "_cell_guid": "f3407eaf-0f3b-a8d4-5e1b-44d72e1e3d57"
      },
      "source": [
        "I breakup the unique ids so that the kernel will complete in the time allotted. I also only plot the rank if the id ends in 0 to save scrolling, but all the correlations are in inst_cors."
      ]
    },
    {
      "cell_type": "code",
      "execution_count": null,
      "metadata": {
        "_cell_guid": "8afc3a58-5876-e254-1138-5666078da142"
      },
      "outputs": [],
      "source": [
        "inst_cors = {}\n",
        "for inst_id in unique_ids[0:250]:\n",
        "    cors = getRankById(inst_id, \"spearman\")\n",
        "    inst_cors[inst_id] = cors\n",
        "    if inst_id % 10 == 0:\n",
        "        temp = plotRank(inst_id, 5, cors)"
      ]
    },
    {
      "cell_type": "code",
      "execution_count": null,
      "metadata": {
        "_cell_guid": "cfe5034b-8289-f428-0955-642c1093a8ac"
      },
      "outputs": [],
      "source": [
        "for inst_id in unique_ids[250:500]:\n",
        "    cors = getRankById(inst_id, \"spearman\")\n",
        "    inst_cors[inst_id] = cors\n",
        "    if inst_id % 10 == 0:\n",
        "        temp = plotRank(inst_id, 5, cors)"
      ]
    },
    {
      "cell_type": "code",
      "execution_count": null,
      "metadata": {
        "_cell_guid": "de30dac6-4c89-98dd-37d7-dca956e9b581"
      },
      "outputs": [],
      "source": [
        "for inst_id in unique_ids[500:750]:\n",
        "    cors = getRankById(inst_id, \"spearman\")\n",
        "    inst_cors[inst_id] = cors\n",
        "    if inst_id % 10 == 0:\n",
        "        temp = plotRank(inst_id, 5, cors)"
      ]
    },
    {
      "cell_type": "code",
      "execution_count": null,
      "metadata": {
        "_cell_guid": "820dd227-1077-15b8-9242-66dffea6df54"
      },
      "outputs": [],
      "source": [
        "for inst_id in unique_ids[750:]:\n",
        "    cors = getRankById(inst_id, \"spearman\")\n",
        "    inst_cors[inst_id] = cors\n",
        "    if inst_id % 10 == 0:\n",
        "        temp = plotRank(inst_id, 5, cors)"
      ]
    }
  ],
  "metadata": {
    "_change_revision": 0,
    "_is_fork": false,
    "kernelspec": {
      "display_name": "Python 3",
      "language": "python",
      "name": "python3"
    },
    "language_info": {
      "codemirror_mode": {
        "name": "ipython",
        "version": 3
      },
      "file_extension": ".py",
      "mimetype": "text/x-python",
      "name": "python",
      "nbconvert_exporter": "python",
      "pygments_lexer": "ipython3",
      "version": "3.5.2"
    }
  },
  "nbformat": 4,
  "nbformat_minor": 0
}