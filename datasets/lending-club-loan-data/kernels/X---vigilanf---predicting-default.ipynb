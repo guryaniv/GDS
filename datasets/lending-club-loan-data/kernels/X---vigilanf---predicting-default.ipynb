{
  "cells": [
    {
      "cell_type": "markdown",
      "metadata": {
        "_cell_guid": "f13499a7-a0fd-c8d5-a1af-d2c20e8b8ecb"
      },
      "source": ""
    },
    {
      "cell_type": "code",
      "execution_count": null,
      "metadata": {
        "_cell_guid": "cddd5b08-c0b0-644a-0028-b434e1ad6e8a"
      },
      "outputs": [],
      "source": [
        "%matplotlib inline\n",
        "import numpy as np\n",
        "import seaborn as sns\n",
        "import pandas as pd\n",
        "df = pd.read_csv(\"../input/loan.csv\", low_memory=False)\n",
        "df.head()"
      ]
    },
    {
      "cell_type": "code",
      "execution_count": null,
      "metadata": {
        "_cell_guid": "526b38dd-009c-cf86-949c-a390b810a362"
      },
      "outputs": [],
      "source": [
        "df_headers = list(df.columns.values)\n",
        "df_headers"
      ]
    },
    {
      "cell_type": "code",
      "execution_count": null,
      "metadata": {
        "_cell_guid": "268eac06-c2e0-4322-a62d-d36c669f5133"
      },
      "outputs": [],
      "source": [
        "print (df.loan_status.unique())"
      ]
    },
    {
      "cell_type": "code",
      "execution_count": null,
      "metadata": {
        "_cell_guid": "6bfcbc83-2c7a-60a5-582f-ccf0209cfeb7"
      },
      "outputs": [],
      "source": [
        "print (df.loan_status.value_counts())"
      ]
    },
    {
      "cell_type": "code",
      "execution_count": null,
      "metadata": {
        "_cell_guid": "1ba1d59f-3c06-2539-4c3a-afa596889629"
      },
      "outputs": [],
      "source": [
        "df['Default_Binary'] = int(0)\n",
        "print (df.Default_Binary[0:5])"
      ]
    },
    {
      "cell_type": "code",
      "execution_count": null,
      "metadata": {
        "_cell_guid": "27a62c5d-dace-bd98-12c7-12c2edd75254"
      },
      "outputs": [],
      "source": [
        "for index, value in df.loan_status.iteritems():\n",
        "    if value == 'Default':\n",
        "        df.set_value(index,'Default_Binary',int(1))\n",
        "    if value == 'Charged Off':\n",
        "        df.set_value(index, 'Default_Binary',int(1))\n",
        "    if value == 'Late (31-120 days)':\n",
        "        df.set_value(index, 'Default_Binary',int(1))    \n",
        "    if value == 'Late (16-30 days)':\n",
        "        df.set_value(index, 'Default_Binary',int(1))\n",
        "    if value == 'Does not meet the credit policy. Status:Charged Off':\n",
        "        df.set_value(index, 'Default_Binary',int(1))    "
      ]
    },
    {
      "cell_type": "code",
      "execution_count": null,
      "metadata": {
        "_cell_guid": "5ee27c50-69b4-b38b-3f62-80666eac068d"
      },
      "outputs": [],
      "source": [
        "print (df.Default_Binary.dtype)"
      ]
    },
    {
      "cell_type": "code",
      "execution_count": null,
      "metadata": {
        "_cell_guid": "aaabf507-91cb-65e9-6425-d37a4fc4720a"
      },
      "outputs": [],
      "source": [
        "# make sure our default binary matches the values in the loan status column\n",
        "print (df.Default_Binary.value_counts())"
      ]
    },
    {
      "cell_type": "code",
      "execution_count": null,
      "metadata": {
        "_cell_guid": "23f0c151-f269-88f5-c572-78ee89201012"
      },
      "outputs": [],
      "source": [
        "print (df.Default_Binary[300:350])"
      ]
    },
    {
      "cell_type": "code",
      "execution_count": null,
      "metadata": {
        "_cell_guid": "90f00817-53d1-d1b8-ebdc-f5f9f1006997"
      },
      "outputs": [],
      "source": [
        "count = 0\n",
        "for index, value in df.loan_status.iteritems():\n",
        "    if count < 100:\n",
        "        if value == 'Default':\n",
        "            count += 1\n",
        "            print (\"Index of Default\",index)\n",
        "    else:\n",
        "        print (\"Done iterating\")\n",
        "        break"
      ]
    },
    {
      "cell_type": "markdown",
      "metadata": {
        "_cell_guid": "a922a8f8-245b-9a58-445e-efe4ea0855fc"
      },
      "source": [
        "<h1> Feature Selection and Processing </h1>"
      ]
    },
    {
      "cell_type": "code",
      "execution_count": null,
      "metadata": {
        "_cell_guid": "b9162b93-7ffc-8649-e3b9-749a141cb527"
      },
      "outputs": [],
      "source": [
        "#print (df.int_rate.unique())\n",
        "print (df.int_rate.value_counts())"
      ]
    },
    {
      "cell_type": "code",
      "execution_count": null,
      "metadata": {
        "_cell_guid": "f20d1cd6-a0ed-97c7-e8aa-223d36435656"
      },
      "outputs": [],
      "source": [
        "from __future__ import absolute_import\n",
        "from __future__ import division\n",
        "from __future__ import print_function\n",
        "import tensorflow as tf\n",
        "from tensorflow.contrib.learn.python.learn import metric_spec\n",
        "from tensorflow.contrib.learn.python.learn.estimators import _sklearn\n",
        "from tensorflow.contrib.learn.python.learn.estimators import estimator\n",
        "from tensorflow.contrib.learn.python.learn.estimators import model_fn\n",
        "from tensorflow.python.framework import ops\n",
        "from tensorflow.python.saved_model import loader\n",
        "from tensorflow.python.saved_model import tag_constants\n",
        "from tensorflow.python.util import compat\n",
        "\n",
        "#tf.logging.set_verbosity(tf.logging.INFO) # uncomment later and fix all the warnings\n",
        "tf.logging.set_verbosity(tf.logging.FATAL) # Other options DEBUG, INFO, WARN, ERROR, FATAL"
      ]
    },
    {
      "cell_type": "code",
      "execution_count": null,
      "metadata": {
        "_cell_guid": "de620d1b-3a9c-eb0c-d8c7-83fee3eb0164"
      },
      "outputs": [],
      "source": [
        "COLUMNS = ['int_rate','Default_Binary']          \n",
        "FEATURES = ['int_rate']\n",
        "LABEL = 'Default_Binary'"
      ]
    },
    {
      "cell_type": "code",
      "execution_count": null,
      "metadata": {
        "_cell_guid": "20e5cd7b-3345-d210-aa65-2d85d874fe94"
      },
      "outputs": [],
      "source": [
        "#Load datasets\n",
        "print (len(df.Default_Binary))\n",
        "training_set = df[0:500000] # Train on first 500k rows\n",
        "testing_set = df[500001:] # Test on final ~380K rows"
      ]
    },
    {
      "cell_type": "code",
      "execution_count": null,
      "metadata": {
        "_cell_guid": "149668e9-6acb-e76d-3dc6-1bbb53358fa0"
      },
      "outputs": [],
      "source": [
        "def input_fn(data_set):\n",
        "    feature_cols = {k: tf.constant(data_set[k].values) for k in FEATURES} \n",
        "    labels = tf.constant(data_set[LABEL].values)\n",
        "    return feature_cols, labels"
      ]
    },
    {
      "cell_type": "code",
      "execution_count": null,
      "metadata": {
        "_cell_guid": "73066416-30c8-9e24-a7a7-0eb80288bc86"
      },
      "outputs": [],
      "source": [
        "# Feature cols\n",
        "feature_cols = [tf.contrib.layers.real_valued_column(k)\n",
        "              for k in FEATURES]\n",
        "\n",
        "# To keep only one checkpoint\n",
        "#config = tf.contrib.learn.RunConfig(keep_checkpoint_max=1) ######## DO NOT DELETE\n",
        "\n",
        "# Build 2 layer fully connected DNN with 10, 10 units respectively.\n",
        "regressor = tf.contrib.learn.DNNRegressor(\n",
        "  feature_columns=feature_cols, hidden_units=[10, 20, 10], ) ### REMEMBER TO ADD config=config back into arguments\n",
        "  \n",
        "# fit the model\n",
        "regressor.fit(input_fn=lambda: input_fn(training_set), steps=751) # Boost the steps when this model starts working all the time"
      ]
    },
    {
      "cell_type": "code",
      "execution_count": null,
      "metadata": {
        "_cell_guid": "44a17423-3a41-069e-d48b-3e2ffc6a5945"
      },
      "outputs": [],
      "source": [
        "# Score accuracy\n",
        "ev = regressor.evaluate(input_fn=lambda: input_fn(testing_set), steps=10)\n",
        "loss_score = ev[\"loss\"]\n",
        "print(\"Loss: {0:f}\".format(loss_score))"
      ]
    },
    {
      "cell_type": "code",
      "execution_count": null,
      "metadata": {
        "_cell_guid": "c4335a6d-1ff0-4298-5e9a-3ce92e6ffd97"
      },
      "outputs": [],
      "source": [
        "prediction_set = df[850000:]\n",
        "import itertools"
      ]
    },
    {
      "cell_type": "code",
      "execution_count": null,
      "metadata": {
        "_cell_guid": "3c5a7072-025d-2179-56bb-78f077326641"
      },
      "outputs": [],
      "source": [
        "# Print out predictions\n",
        "y = regressor.predict(input_fn=lambda: input_fn(prediction_set))\n",
        "# .predict() returns an iterator; convert to a list and print predictions\n",
        "predictions = list(itertools.islice(y, 37379))\n",
        "#print(\"Predictions: {}\".format(str(predictions)))"
      ]
    }
  ],
  "metadata": {
    "_change_revision": 0,
    "_is_fork": false,
    "kernelspec": {
      "display_name": "Python 3",
      "language": "python",
      "name": "python3"
    },
    "language_info": {
      "codemirror_mode": {
        "name": "ipython",
        "version": 3
      },
      "file_extension": ".py",
      "mimetype": "text/x-python",
      "name": "python",
      "nbconvert_exporter": "python",
      "pygments_lexer": "ipython3",
      "version": "3.5.2"
    }
  },
  "nbformat": 4,
  "nbformat_minor": 0
}