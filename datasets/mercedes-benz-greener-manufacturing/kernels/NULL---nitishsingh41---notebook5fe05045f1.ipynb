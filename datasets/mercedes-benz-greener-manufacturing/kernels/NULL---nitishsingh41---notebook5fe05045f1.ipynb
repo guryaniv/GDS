{
  "cells": [
    {
      "cell_type": "code",
      "execution_count": null,
      "metadata": {
        "_cell_guid": "a7310584-fa9d-49e3-d8e1-6bc1456b53b1"
      },
      "outputs": [],
      "source": [
        "import pandas as pd\n",
        "import numpy as np\n",
        "import random as rnd\n",
        "\n",
        "# visualization\n",
        "import seaborn as sns\n",
        "import matplotlib.pyplot as plt\n",
        "%matplotlib inline\n",
        "train_df = pd.read_csv('../input/train.csv')\n",
        "test_df = pd.read_csv('../input/test.csv')\n",
        "train_df.info()"
      ]
    },
    {
      "cell_type": "code",
      "execution_count": null,
      "metadata": {
        "_cell_guid": "e63546b8-8d6c-4177-29d3-32ed0c58d366"
      },
      "outputs": [],
      "source": [
        "train_df.describe(include=['O'])"
      ]
    },
    {
      "cell_type": "code",
      "execution_count": null,
      "metadata": {
        "_cell_guid": "c43ff73c-9a2c-6985-2ff3-13c99ba62e1e"
      },
      "outputs": [],
      "source": [
        "print(train_df.columns.values)\n",
        "K=list(train_df.X1.unique())\n",
        "train_df.dtypes"
      ]
    },
    {
      "cell_type": "code",
      "execution_count": null,
      "metadata": {
        "_cell_guid": "dbe613ef-12db-4280-3a29-3a63c3cee228"
      },
      "outputs": [],
      "source": [
        "train_df['X0'] = train_df['X0'].astype('category')\n",
        "train_df['X1'] = train_df['X1'].astype('str').astype('category')\n",
        "train_df['X2'] = train_df['X2'].astype('category')\n",
        "train_df['X3'] = train_df['X3'].astype('category')\n",
        "train_df['X4'] = train_df['X4'].astype('category')\n",
        "train_df['X5'] = train_df['X5'].astype('category')\n",
        "train_df['X6'] = train_df['X6'].astype('category')\n",
        "train_df['X8'] = train_df['X8'].astype('category')\n",
        "\n",
        "cat_columns = train_df.select_dtypes(['category']).columns\n",
        "train_df[cat_columns] = train_df[cat_columns].apply(lambda x: x.cat.codes)\n",
        "train_df.head()"
      ]
    },
    {
      "cell_type": "code",
      "execution_count": null,
      "metadata": {
        "_cell_guid": "3e2adfb4-f11b-7636-0146-8b68fc946ba3"
      },
      "outputs": [],
      "source": [
        "train_df.dtypes"
      ]
    },
    {
      "cell_type": "code",
      "execution_count": null,
      "metadata": {
        "_cell_guid": "84ef68a9-a65a-1a3d-9e27-b71c496f04db"
      },
      "outputs": [],
      "source": [
        "from sklearn.linear_model import LinearRegression\n",
        "X=train_df.drop(['ID','y'],axis=1)\n",
        "lr=LinearRegression()\n",
        "lr.fit(X,train_df.y)\n",
        "X_test=test_df.drop('ID',axis=1)\n",
        "mse=np.mean((lr.predict(X)-train_df.y))**2\n",
        "print(mse)\n",
        "l=pd.DataFrame(lr.predict(X))\n",
        "\n",
        "\n"
      ]
    },
    {
      "cell_type": "code",
      "execution_count": null,
      "metadata": {
        "_cell_guid": "cef5c524-af79-40d9-b9bd-ee9ae85612b3"
      },
      "outputs": [],
      "source": [
        "l.to_csv('foo.csv')"
      ]
    }
  ],
  "metadata": {
    "_change_revision": 0,
    "_is_fork": false,
    "kernelspec": {
      "display_name": "Python 3",
      "language": "python",
      "name": "python3"
    },
    "language_info": {
      "codemirror_mode": {
        "name": "ipython",
        "version": 3
      },
      "file_extension": ".py",
      "mimetype": "text/x-python",
      "name": "python",
      "nbconvert_exporter": "python",
      "pygments_lexer": "ipython3",
      "version": "3.6.0"
    }
  },
  "nbformat": 4,
  "nbformat_minor": 0
}