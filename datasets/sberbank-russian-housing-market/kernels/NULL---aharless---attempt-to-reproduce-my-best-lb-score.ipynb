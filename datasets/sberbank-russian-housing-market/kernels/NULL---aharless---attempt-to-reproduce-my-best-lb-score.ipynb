{
  "cells": [
    {
      "cell_type": "markdown",
      "metadata": {
        "_cell_guid": "fbc95f6b-3566-9d7d-8c4b-205a28cb5514"
      },
      "source": [
        "I wanted this on the record, since it is my best public leaderboard score.  It partakes of a trick with which I no longer feel comfortable:  the thing where you transform the target variable in an apparently arbitrary way.  But the leaderboard score is on the record, so I wanted to make sure I could reproduce it.  \n",
        "\n",
        "For what it's worth, I tried to justify the transformation by creating [a simple macro model][1] that implied lower prices than the raw Reynaldo model (Louis' raw material) was predicting.  But, two things:  first, when I replaced Louis' adjustment with the one implied by the difference in average median monthly prices between my macro model and Reynaldo's predictions, I got a result which was better than Reynaldo's but not as good as Louis';  second, when I adjusted Reynaldo's results on a monthly basis (which is the frequency used in my macro model), I got a result even worse than Reynaldo's original.  So that's a dead end, as far as justifying the transformation.  (The monthly macro adjustment does improve results from the micro model I developed on my own, but they still only get up to 0.33 on the leaderboard.)\n",
        "\n",
        "Hopefully in the weeks remaining I can come up with some kind of stack that will beat my current best score without using the arbitrary y-transformation trick.  Until then, I sign off with \"Uncomfortably yours,\"\n",
        "\n",
        "\n",
        "  [1]: https://www.kaggle.com/aharless/simple-macro-model-for-monthly-house-prices"
      ]
    },
    {
      "cell_type": "markdown",
      "metadata": {
        "_cell_guid": "b2537440-afd7-b3ae-44fe-ac357f8deb04"
      },
      "source": [
        "## I. Louis Clouatre's original xgb_russ_house (not new version that adds a constant)"
      ]
    },
    {
      "cell_type": "code",
      "execution_count": null,
      "metadata": {
        "_cell_guid": "2e7ed88a-2bf5-3da4-fa47-1c69cddadcff"
      },
      "outputs": [],
      "source": [
        "import numpy as np\n",
        "import pandas as pd\n",
        "import matplotlib.pyplot as plt\n",
        "import seaborn as sns\n",
        "from sklearn import model_selection, preprocessing\n",
        "import xgboost as xgb\n",
        "import datetime\n",
        "\n",
        "train = pd.read_csv('../input/train.csv')\n",
        "test = pd.read_csv('../input/test.csv')\n",
        "id_test = test.id\n",
        "\n",
        "mult = .971\n",
        "\n",
        "y_train = train[\"price_doc\"] * mult\n",
        "x_train = train.drop([\"id\", \"timestamp\", \"price_doc\"], axis=1)\n",
        "x_test = test.drop([\"id\", \"timestamp\"], axis=1)\n",
        "\n",
        "for c in x_train.columns:\n",
        "    if x_train[c].dtype == 'object':\n",
        "        lbl = preprocessing.LabelEncoder()\n",
        "        lbl.fit(list(x_train[c].values)) \n",
        "        x_train[c] = lbl.transform(list(x_train[c].values))\n",
        "        \n",
        "for c in x_test.columns:\n",
        "    if x_test[c].dtype == 'object':\n",
        "        lbl = preprocessing.LabelEncoder()\n",
        "        lbl.fit(list(x_test[c].values)) \n",
        "        x_test[c] = lbl.transform(list(x_test[c].values))\n",
        "\n",
        "xgb_params = {\n",
        "    'eta': 0.05,\n",
        "    'max_depth': 5,\n",
        "    'subsample': 0.7,\n",
        "    'colsample_bytree': 0.7,\n",
        "    'objective': 'reg:linear',\n",
        "    'eval_metric': 'rmse',\n",
        "    'silent': 1\n",
        "}\n",
        "\n",
        "dtrain = xgb.DMatrix(x_train, y_train)\n",
        "dtest = xgb.DMatrix(x_test)\n",
        "\n",
        "num_boost_rounds = 384  # This was the CV output, as earlier version shows\n",
        "model = xgb.train(dict(xgb_params, silent=0), dtrain, num_boost_round= num_boost_rounds)\n",
        "\n",
        "y_predict = model.predict(dtest)\n",
        "output = pd.DataFrame({'id': id_test, 'price_doc': y_predict})\n",
        "output.head()\n",
        "\n",
        "output.to_csv('louisFudge_' + str(mult) + '.csv', index=False)"
      ]
    },
    {
      "cell_type": "markdown",
      "metadata": {
        "_cell_guid": "8499777e-e536-323e-90aa-9ae12848d0c2"
      },
      "source": [
        "## II. Bruno do Amaral's original Naive XGB with my \"removing one outlier\" tweak"
      ]
    },
    {
      "cell_type": "code",
      "execution_count": null,
      "metadata": {
        "_cell_guid": "16c7f974-9678-45fe-0f82-8bd85ae36ef0"
      },
      "outputs": [],
      "source": [
        "df_train = pd.read_csv(\"../input/train.csv\", parse_dates=['timestamp'])\n",
        "df_test = pd.read_csv(\"../input/test.csv\", parse_dates=['timestamp'])\n",
        "df_macro = pd.read_csv(\"../input/macro.csv\", parse_dates=['timestamp'])\n",
        "\n",
        "df_train.drop(df_train[df_train[\"life_sq\"] > 7000].index, inplace=True)\n",
        "\n",
        "y_train = df_train['price_doc'].values\n",
        "id_test = df_test['id']\n",
        "\n",
        "df_train.drop(['id', 'price_doc'], axis=1, inplace=True)\n",
        "df_test.drop(['id'], axis=1, inplace=True)\n",
        "\n",
        "num_train = len(df_train)\n",
        "df_all = pd.concat([df_train, df_test])\n",
        "# Next line just adds a lot of NA columns (becuase \"join\" only works on indexes)\n",
        "# but somewhow it seems to affect the result\n",
        "df_all = df_all.join(df_macro, on='timestamp', rsuffix='_macro')\n",
        "print(df_all.shape)\n",
        "\n",
        "# Add month-year\n",
        "month_year = (df_all.timestamp.dt.month + df_all.timestamp.dt.year * 100)\n",
        "month_year_cnt_map = month_year.value_counts().to_dict()\n",
        "df_all['month_year_cnt'] = month_year.map(month_year_cnt_map)\n",
        "\n",
        "# Add week-year count\n",
        "week_year = (df_all.timestamp.dt.weekofyear + df_all.timestamp.dt.year * 100)\n",
        "week_year_cnt_map = week_year.value_counts().to_dict()\n",
        "df_all['week_year_cnt'] = week_year.map(week_year_cnt_map)\n",
        "\n",
        "# Add month and day-of-week\n",
        "df_all['month'] = df_all.timestamp.dt.month\n",
        "df_all['dow'] = df_all.timestamp.dt.dayofweek\n",
        "\n",
        "# Other feature engineering\n",
        "df_all['rel_floor'] = df_all['floor'] / df_all['max_floor'].astype(float)\n",
        "df_all['rel_kitch_sq'] = df_all['kitch_sq'] / df_all['full_sq'].astype(float)\n",
        "\n",
        "# Remove timestamp column (may overfit the model in train)\n",
        "df_all.drop(['timestamp', 'timestamp_macro'], axis=1, inplace=True)\n",
        "\n",
        "\n",
        "factorize = lambda t: pd.factorize(t[1])[0]\n",
        "\n",
        "df_obj = df_all.select_dtypes(include=['object'])\n",
        "\n",
        "X_all = np.c_[\n",
        "    df_all.select_dtypes(exclude=['object']).values,\n",
        "    np.array(list(map(factorize, df_obj.iteritems()))).T\n",
        "]\n",
        "print(X_all.shape)\n",
        "\n",
        "X_train = X_all[:num_train]\n",
        "X_test = X_all[num_train:]\n",
        "\n",
        "\n",
        "# Deal with categorical values\n",
        "df_numeric = df_all.select_dtypes(exclude=['object'])\n",
        "df_obj = df_all.select_dtypes(include=['object']).copy()\n",
        "\n",
        "for c in df_obj:\n",
        "    df_obj[c] = pd.factorize(df_obj[c])[0]\n",
        "\n",
        "df_values = pd.concat([df_numeric, df_obj], axis=1)\n",
        "\n",
        "\n",
        "# Convert to numpy values\n",
        "X_all = df_values.values\n",
        "print(X_all.shape)\n",
        "\n",
        "X_train = X_all[:num_train]\n",
        "X_test = X_all[num_train:]\n",
        "\n",
        "df_columns = df_values.columns\n",
        "\n",
        "\n",
        "xgb_params = {\n",
        "    'eta': 0.05,\n",
        "    'max_depth': 5,\n",
        "    'subsample': 0.7,\n",
        "    'colsample_bytree': 0.7,\n",
        "    'objective': 'reg:linear',\n",
        "    'eval_metric': 'rmse',\n",
        "    'silent': 1\n",
        "}\n",
        "\n",
        "dtrain = xgb.DMatrix(X_train, y_train, feature_names=df_columns)\n",
        "dtest = xgb.DMatrix(X_test, feature_names=df_columns)\n",
        "\n",
        "\n",
        "num_boost_round = 489  # From Bruno's original CV, I think\n",
        "model = xgb.train(dict(xgb_params, silent=0), dtrain, num_boost_round=num_boost_round)\n",
        "\n",
        "y_pred = model.predict(dtest)\n",
        "\n",
        "df_sub = pd.DataFrame({'id': id_test, 'price_doc': y_pred})\n",
        "\n",
        "df_sub.head()"
      ]
    },
    {
      "cell_type": "code",
      "execution_count": null,
      "metadata": {
        "_cell_guid": "720ca202-ba33-4c8c-f140-63697caeedf0"
      },
      "outputs": [],
      "source": [
        "df_sub.to_csv('brunoTweak.csv', index=False)"
      ]
    },
    {
      "cell_type": "markdown",
      "metadata": {
        "_cell_guid": "84abcf44-27e1-d07d-c297-b4515392adcc"
      },
      "source": [
        "## III. Combine the two with 75/25 weights."
      ]
    },
    {
      "cell_type": "code",
      "execution_count": null,
      "metadata": {
        "_cell_guid": "7af9838c-19e7-38fd-939d-64c44410a080"
      },
      "outputs": [],
      "source": [
        "result = output.merge(df_sub, on=\"id\", suffixes=['_louis','_bruno'])\n",
        "result[\"price_doc\"] = np.exp( .75*np.log(result.price_doc_louis) + \n",
        "                              .25*np.log(result.price_doc_bruno) )\n",
        "result.drop([\"price_doc_louis\",\"price_doc_bruno\"],axis=1,inplace=True)\n",
        "result.head()"
      ]
    },
    {
      "cell_type": "code",
      "execution_count": null,
      "metadata": {
        "_cell_guid": "5689cdac-956e-47db-7003-dc9ca63b8a40"
      },
      "outputs": [],
      "source": [
        "result.to_csv('bruno25louis75.csv', index=False)"
      ]
    },
    {
      "cell_type": "code",
      "execution_count": null,
      "metadata": {
        "_cell_guid": "a97c1721-0dae-51d0-ce43-b019e4799b7b"
      },
      "outputs": [],
      "source": [
        ""
      ]
    }
  ],
  "metadata": {
    "_change_revision": 0,
    "_is_fork": false,
    "kernelspec": {
      "display_name": "Python 3",
      "language": "python",
      "name": "python3"
    },
    "language_info": {
      "codemirror_mode": {
        "name": "ipython",
        "version": 3
      },
      "file_extension": ".py",
      "mimetype": "text/x-python",
      "name": "python",
      "nbconvert_exporter": "python",
      "pygments_lexer": "ipython3",
      "version": "3.6.0"
    }
  },
  "nbformat": 4,
  "nbformat_minor": 0
}