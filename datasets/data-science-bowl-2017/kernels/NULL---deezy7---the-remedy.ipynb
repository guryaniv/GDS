{
  "metadata": {
    "kernelspec": {
      "display_name": "Python 3",
      "language": "python",
      "name": "python3"
    },
    "language_info": {
      "codemirror_mode": {
        "name": "ipython",
        "version": 3
      },
      "file_extension": ".py",
      "mimetype": "text/x-python",
      "name": "python",
      "nbconvert_exporter": "python",
      "pygments_lexer": "ipython3",
      "version": "3.6.0"
    }
  },
  "nbformat": 4,
  "nbformat_minor": 0,
  "cells": [
    {
      "metadata": {
        "_cell_guid": "12a8a808-a6f7-288c-21b9-fda360be1881",
        "_active": false,
        "collapsed": false
      },
      "source": "\n\nData Science Bowl 2017\n----------------------\n\n\nBefore getting into the details of the code let's discuss the structure of the solution and all possible ways we could eventually prevent potential patients from getting cancer.\nThe dataset provided is a set of IRM scans of patients with and without cancer. So the ideal solution would be to find a patterns within IRM scans of patients diagnosed with cancer and then conclude that those particular patterns are decisive in determining whether the patient is to be treated or not. \n\n\nLet's first have an overview over the dataset we are working with :\n\n",
      "execution_count": null,
      "cell_type": "markdown",
      "outputs": [],
      "execution_state": "idle"
    },
    {
      "metadata": {
        "_cell_guid": "b20e84eb-0820-1a4a-3c77-7cb3d45cea15",
        "_active": true,
        "collapsed": false
      },
      "source": null,
      "execution_count": null,
      "cell_type": "code",
      "outputs": [],
      "execution_state": "idle"
    },
    {
      "cell_type": "markdown",
      "execution_count": null,
      "metadata": {
        "_cell_guid": "7ff3a387-c85d-0fc9-ce91-70e8a178f6d4",
        "collapsed": false,
        "_active": false
      },
      "outputs": [],
      "source": "Let's first view just two patients and try to deduct the possible patterns by comparing the two plots.\nFor instance lets say our two pilot patients are :\n\n     -0015ceb851d7251b8f399e39779d1e7d (diagnosed with cancer)\n     -0030a160d58723ff36d73f41b170ec21  (not diagnosed with cancer)",
      "execution_state": "idle"
    },
    {
      "metadata": {
        "_cell_guid": "494b5869-c1c2-add3-e58f-c07013435a00",
        "_active": false,
        "collapsed": false
      },
      "source": null,
      "execution_count": null,
      "cell_type": "code",
      "outputs": [],
      "execution_state": "idle"
    }
  ]
}