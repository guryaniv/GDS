{
  "cells": [
    {
      "cell_type": "markdown",
      "metadata": {
        "_cell_guid": "78e6f28e-00a4-1be2-3c1e-9e3e53dcf730"
      },
      "source": [
        "Load libraries and import data"
      ]
    },
    {
      "cell_type": "code",
      "execution_count": null,
      "metadata": {
        "_cell_guid": "d911209b-298b-854d-e46e-863094f0c7b0"
      },
      "outputs": [],
      "source": [
        "import numpy as np\n",
        "import pandas as pd\n",
        "import matplotlib.pyplot as plt\n",
        "\n",
        "%matplotlib inline"
      ]
    },
    {
      "cell_type": "code",
      "execution_count": null,
      "metadata": {
        "_cell_guid": "d10e101d-048e-3bf6-463f-5155a24b7387"
      },
      "outputs": [],
      "source": [
        "train = pd.read_csv('../input/train_2016.csv', parse_dates=['transactiondate'])\n",
        "train.shape"
      ]
    },
    {
      "cell_type": "code",
      "execution_count": null,
      "metadata": {
        "_cell_guid": "1d1952bd-ff34-3a0f-4f1e-b7fae53d27f1"
      },
      "outputs": [],
      "source": [
        "prop = pd.read_csv('../input/properties_2016.csv')\n",
        "prop.shape"
      ]
    },
    {
      "cell_type": "code",
      "execution_count": null,
      "metadata": {
        "_cell_guid": "883b0808-3be7-ee4e-dd7f-f83b84f816ef"
      },
      "outputs": [],
      "source": [
        "prop.head()"
      ]
    },
    {
      "cell_type": "code",
      "execution_count": null,
      "metadata": {
        "_cell_guid": "25fede1d-8667-4f18-a431-e56b420684a8"
      },
      "outputs": [],
      "source": [
        "prop.columns"
      ]
    },
    {
      "cell_type": "markdown",
      "metadata": {
        "_cell_guid": "3e42d8f5-58a7-24d7-229e-e63be335b10a"
      },
      "source": [
        "Use nearest neighbors regression on bathroomcnt + bedroomcnt + calculatedfinishedsquarefeet + year + month"
      ]
    },
    {
      "cell_type": "code",
      "execution_count": null,
      "metadata": {
        "_cell_guid": "4d99c635-5c01-13a4-5dbd-2da899769ff8"
      },
      "outputs": [],
      "source": [
        "X = prop[['parcelid', 'bathroomcnt', 'bedroomcnt', 'calculatedfinishedsquarefeet']]\n",
        "X.head()\n"
      ]
    },
    {
      "cell_type": "markdown",
      "metadata": {
        "_cell_guid": "af15f87a-3ab4-d17a-bc8b-06f2b6fee871"
      },
      "source": [
        "Remove NaNs and 0 values"
      ]
    },
    {
      "cell_type": "code",
      "execution_count": null,
      "metadata": {
        "_cell_guid": "ab00365e-a3b8-c335-42ef-1ecf07fc9a01"
      },
      "outputs": [],
      "source": [
        "X = X.dropna()\n",
        "X = X[(X.bathroomcnt > 0) & (X.bedroomcnt > 0) & (X.calculatedfinishedsquarefeet > 0)]\n",
        "X.shape"
      ]
    },
    {
      "cell_type": "code",
      "execution_count": null,
      "metadata": {
        "_cell_guid": "63ecbf23-ea6b-cab6-cc7e-11eb29584df8"
      },
      "outputs": [],
      "source": [
        "X.head()"
      ]
    },
    {
      "cell_type": "code",
      "execution_count": null,
      "metadata": {
        "_cell_guid": "9fb07aad-db74-05b7-4836-3208d3f4e1ba"
      },
      "outputs": [],
      "source": [
        "X = pd.merge(X, train, on='parcelid')\n",
        "X.shape"
      ]
    },
    {
      "cell_type": "code",
      "execution_count": null,
      "metadata": {
        "_cell_guid": "32618521-3bc3-d631-ee8f-0dabb497fea5"
      },
      "outputs": [],
      "source": [
        "X.sort_values(by=['parcelid', 'transactiondate'], inplace=True)\n",
        "X.head()"
      ]
    },
    {
      "cell_type": "code",
      "execution_count": null,
      "metadata": {
        "_cell_guid": "3016f49b-ee45-b531-b8af-d6aa3d05cf7a"
      },
      "outputs": [],
      "source": [
        "#X['transaction_year'] = X['transactiondate'].dt.year\n",
        "#X['transaction_month'] = X['transactiondate'].dt.month\n",
        "X['transaction_yearmonth'] = 100 * X['transactiondate'].dt.year + X['transactiondate'].dt.month\n",
        "X.head()"
      ]
    },
    {
      "cell_type": "markdown",
      "metadata": {
        "_cell_guid": "6a9980a2-7a25-8a87-0bc5-53c4884e08b7"
      },
      "source": [
        "Create index for transaction_yearmonth for computing distance measurement.  Only 2016 data, so no need to handle date differences including years."
      ]
    },
    {
      "cell_type": "code",
      "execution_count": null,
      "metadata": {
        "_cell_guid": "17135cee-2423-a5ab-e243-1b029187ced4"
      },
      "outputs": [],
      "source": [
        "min_transaction_yearmonth = X.transaction_yearmonth.min()\n",
        "X['transaction_yearmonth_i'] = X.transaction_yearmonth - min_transaction_yearmonth\n",
        "np.sort(X.transaction_yearmonth_i.unique())"
      ]
    },
    {
      "cell_type": "code",
      "execution_count": null,
      "metadata": {
        "_cell_guid": "25d17dc9-4bb7-e7c1-9f03-5fb5ba5ca4ad"
      },
      "outputs": [],
      "source": [
        "y = X.logerror\n",
        "X = X[['bathroomcnt', 'bedroomcnt', 'calculatedfinishedsquarefeet', 'transaction_yearmonth_i']]\n",
        "print (\"X shape =\", X.shape)\n",
        "print (\"y shape =\", y.shape)\n",
        "X.head()"
      ]
    },
    {
      "cell_type": "markdown",
      "metadata": {
        "_cell_guid": "67a9a332-299d-1a1b-8cce-9f3b6b57549f"
      },
      "source": [
        "Fit nearest neighbors regression"
      ]
    },
    {
      "cell_type": "code",
      "execution_count": null,
      "metadata": {
        "_cell_guid": "74d4be3f-17a1-3271-dbda-cfb51f176987"
      },
      "outputs": [],
      "source": [
        "from sklearn import neighbors\n",
        "from sklearn.model_selection import cross_val_score\n",
        "\n",
        "n_neighbors_lst = np.arange(1, 100+1, 1)\n",
        "mae_lst = []\n",
        "std_lst = []\n",
        "\n",
        "for n_neighbors in n_neighbors_lst: \n",
        "    #n_neighbors = 5\n",
        "    weights = 'distance'\n",
        "    knn = neighbors.KNeighborsRegressor(n_neighbors, weights=weights)\n",
        "    scores = cross_val_score(knn, X, y, scoring='neg_mean_absolute_error', cv=5)\n",
        "    scores = np.fabs(scores)\n",
        "    mean_score = np.mean(scores)\n",
        "    std_score = np.std(scores)\n",
        "    \n",
        "    mae_lst.append(mean_score)\n",
        "    std_lst.append(std_score)\n",
        "#knn.fit(X, y)\n",
        "#y_hat = knn.predict(X)\n",
        "\n",
        "#mae = np.mean(np.fabs(y - y_hat))\n",
        "#mae_lst.append(mae)\n",
        "\n",
        "plt.plot(n_neighbors_lst, mae_lst, linewidth=2)\n",
        "plt.title('MAE by number of neighbors')\n",
        "plt.xlabel('k')\n",
        "plt.ylabel('MAE')\n",
        "\n",
        "plt2 = plt.twinx()\n",
        "plt2.plot(n_neighbors_lst, std_lst, linewidth=2, color='red')"
      ]
    },
    {
      "cell_type": "markdown",
      "metadata": {
        "_cell_guid": "891999b7-39cc-a2bd-aba2-ffba6a7ad611"
      },
      "source": [
        "Using 5 fold cross-validation, the KNN Regressor shows improvement as we use more neighbors, but at a cost of increasing variance among the Mean Absolute Error scores"
      ]
    }
  ],
  "metadata": {
    "_change_revision": 0,
    "_is_fork": false,
    "kernelspec": {
      "display_name": "Python 3",
      "language": "python",
      "name": "python3"
    },
    "language_info": {
      "codemirror_mode": {
        "name": "ipython",
        "version": 3
      },
      "file_extension": ".py",
      "mimetype": "text/x-python",
      "name": "python",
      "nbconvert_exporter": "python",
      "pygments_lexer": "ipython3",
      "version": "3.6.0"
    }
  },
  "nbformat": 4,
  "nbformat_minor": 0
}