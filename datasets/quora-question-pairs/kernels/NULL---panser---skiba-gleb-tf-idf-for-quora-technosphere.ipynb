{
  "cells": [
    {
      "cell_type": "code",
      "execution_count": null,
      "metadata": {
        "_cell_guid": "70db50f1-4b05-66f8-4a10-ef10f7296761"
      },
      "outputs": [],
      "source": [
        "import numpy as np # linear algebra\n",
        "import pandas as pd # data processing, CSV file I/O (e.g. pd.read_csv)\n",
        "import sklearn as sk\n",
        "import matplotlib.pyplot as plt\n",
        "import seaborn as sns\n",
        "from nltk.corpus import stopwords\n",
        "from subprocess import check_output\n",
        "from collections import Counter\n",
        "from sklearn.cross_validation import train_test_split\n",
        "import xgboost as xgb\n",
        "print(check_output([\"ls\", \"../input\"]).decode(\"utf8\"))\n",
        "\n",
        "# Any results you write to the current directory are saved as output."
      ]
    },
    {
      "cell_type": "code",
      "execution_count": null,
      "metadata": {
        "_cell_guid": "02a0dc36-ade6-4c52-159d-9b56d0e7f201"
      },
      "outputs": [],
      "source": [
        "train_data = pd.read_csv('../input/train.csv')\n",
        "test_data = pd.read_csv('../input/test.csv')"
      ]
    },
    {
      "cell_type": "code",
      "execution_count": null,
      "metadata": {
        "_cell_guid": "287559d8-dde9-0b9c-406b-0e819d21a16a"
      },
      "outputs": [],
      "source": [
        "train_data.head()"
      ]
    },
    {
      "cell_type": "code",
      "execution_count": null,
      "metadata": {
        "_cell_guid": "9a5ed49b-f59e-13f7-1459-2eca47100ba4"
      },
      "outputs": [],
      "source": [
        "test_data.head()"
      ]
    },
    {
      "cell_type": "code",
      "execution_count": null,
      "metadata": {
        "_cell_guid": "d588c466-86e2-4e1d-fccd-2e648e9d9f2e"
      },
      "outputs": [],
      "source": [
        "is_dup = train_data.is_duplicate.value_counts()\n",
        "is_dup"
      ]
    },
    {
      "cell_type": "code",
      "execution_count": null,
      "metadata": {
        "_cell_guid": "eee2c31d-b1eb-7334-6eb7-a411abd61c1b"
      },
      "outputs": [],
      "source": [
        "stops = set(stopwords.words(\"english\"))"
      ]
    },
    {
      "cell_type": "code",
      "execution_count": null,
      "metadata": {
        "_cell_guid": "8d89472e-2dd7-fd7d-013d-ed58d5f26330"
      },
      "outputs": [],
      "source": [
        "def word_match_share(row):\n",
        "    #\u0432\u044b\u0447\u043c\u0441\u043b\n",
        "    q1words = {}\n",
        "    q2words = {}\n",
        "    for word in str(row['question1']).lower().split():\n",
        "        if word not in stops:\n",
        "            q1words[word] = 1\n",
        "    for word in str(row['question2']).lower().split():\n",
        "        if word not in stops:\n",
        "            q2words[word] = 1\n",
        "    if len(q1words) == 0 or len(q2words) == 0:\n",
        "        return 0\n",
        "    shared_words_in_q1 = [w for w in q1words.keys() if w in q2words]\n",
        "    shared_words_in_q2 = [w for w in q2words.keys() if w in q1words]\n",
        "    R = (len(shared_words_in_q1) + len(shared_words_in_q2))/(len(q1words) + len(q2words))\n",
        "    return R"
      ]
    },
    {
      "cell_type": "code",
      "execution_count": null,
      "metadata": {
        "_cell_guid": "e0a9bf50-f9bf-860e-045d-6309571ba543"
      },
      "outputs": [],
      "source": [
        "train_qs = pd.Series(train_data['question1'].tolist() + train_data['question2'].tolist()).astype(str)\n",
        "test_qs = pd.Series(test_data['question1'].tolist() + test_data['question2'].tolist()).astype(str)\n",
        "from collections import Counter\n",
        "def get_weight(count, eps=10000, min_count=10):\n",
        "    if count < min_count:\n",
        "        return 0\n",
        "    else:\n",
        "        return 1 / (count + eps)\n",
        "words = (\" \".join(train_qs)).lower().split()\n",
        "counts = Counter(words)\n",
        "weights = {word: get_weight(count) for word, count in counts.items()}#\u0441\u043e\u043f\u043e\u0441\u0442\u0430\u0432\u043b\u044f\u0435\u043c \u0441\u043b\u043e\u0432\u0443 \u043a\u043e\u0442\u0440\u043e\u0435 \u0432\u0441\u0442\u0440\u0435\u0442\u0438\u043b\u043e\u0441\u044c \u0431\u043e\u043b\u044c\u0448\u0435 min_count \u043e\u043f\u0440\u0435\u0434 \u0432\u0435\u0441"
      ]
    },
    {
      "cell_type": "code",
      "execution_count": null,
      "metadata": {
        "_cell_guid": "ec5ec779-c7dd-e37e-d85a-8037ef22a312"
      },
      "outputs": [],
      "source": [
        "def tfidf_word_match_share(row):\n",
        "    #\u0432\u044b\u0447\u0438\u0441\u043b\u044f\u0435\u043c \u043e\u0442\u043d\u043e\u0448\u0435\u043d\u0438\u044f \u0432\u0435\u0441\u0430 \u0441\u043b\u043e\u0432 \u043d\u0435 \u043f\u043e\u043f\u0430\u0432\u0448\u0438\u043c \u0432 \u0441\u0442\u043e\u043f\u0441\u043b\u043e\u0432\u0430 \u0438 \u043d\u0430\u0445\u043e\u0434\u044f\u0448\u0438\u0445\u0441\u044f \u043e\u0434\u043d\u043e\u0432\u0440\u0435\u043c\u043c\u0435\u043d\u043e \u0432 \u043e\u0431\u043e\u0438\u0445 \u0432\u043e\u043f\u0440\u043e\u0441\u0430\u0445 \u043a \u043e\u0431\u0448\u0435\u043c\u0443 \u0432\u0435\u0441\u0443\n",
        "\n",
        "    q1words = {}\n",
        "    q2words = {}\n",
        "    for word in str(row['question1']).lower().split():\n",
        "        if word not in stops:\n",
        "            q1words[word] = 1\n",
        "    for word in str(row['question2']).lower().split():\n",
        "        if word not in stops:\n",
        "            q2words[word] = 1\n",
        "    if len(q1words) == 0 or len(q2words) == 0:\n",
        "      \n",
        "        return 0\n",
        "    \n",
        "    shared_weights = [weights.get(w, 0) for w in q1words.keys() if w in q2words] + [weights.get(w, 0) for w in q2words.keys() if w in q1words]\n",
        "    total_weights = [weights.get(w, 0) for w in q1words] + [weights.get(w, 0) for w in q2words]\n",
        "    \n",
        "    R = np.sum(shared_weights) / np.sum(total_weights)\n",
        "    return R"
      ]
    },
    {
      "cell_type": "code",
      "execution_count": null,
      "metadata": {
        "_cell_guid": "d6a228df-4a53-6a99-944b-95873a5a15d3"
      },
      "outputs": [],
      "source": [
        "train_word_match = train_data.apply(word_match_share, axis=1, raw=True)\n",
        "tfidf_train_word_match = train_data.apply(tfidf_word_match_share, axis=1, raw=True)\n",
        "x_train = pd.DataFrame()\n",
        "x_test = pd.DataFrame()\n",
        "x_train['word_match'] = train_data.apply(word_match_share, axis=1, raw=True)\n",
        "x_train['tfidf_word_match'] = train_data.apply(tfidf_word_match_share, axis=1, raw=True)\n",
        "x_test['word_match'] = test_data.apply(word_match_share, axis=1, raw=True)\n",
        "x_test['tfidf_word_match'] = test_data.apply(tfidf_word_match_share, axis=1, raw=True)\n",
        "\n",
        "y_train = train_data['is_duplicate'].values #\u043f\u0440\u0438\u043c\u0435\u043d\u044f\u0435\u043c \u0444\u0443\u043d\u043a\u0446\u0438\u0438"
      ]
    },
    {
      "cell_type": "code",
      "execution_count": null,
      "metadata": {
        "_cell_guid": "a9b02ec5-74b3-cc47-6c62-fe686ba0f9d0"
      },
      "outputs": [],
      "source": [
        "from sklearn.cross_validation import train_test_split\n",
        "\n",
        "x_train, x_valid, y_train, y_valid = train_test_split(x_train, y_train, test_size=0.2, random_state=4242)"
      ]
    },
    {
      "cell_type": "code",
      "execution_count": null,
      "metadata": {
        "_cell_guid": "6bf03280-696a-f065-16ba-b3cce1395c85"
      },
      "outputs": [],
      "source": [
        "import xgboost as xgb\n",
        "\n",
        "\n",
        "params = {}\n",
        "params['objective'] = 'binary:logistic'\n",
        "params['eval_metric'] = 'logloss'\n",
        "params['eta'] = 0.02\n",
        "params['max_depth'] = 4\n",
        "\n",
        "d_train = xgb.DMatrix(x_train, label=y_train)\n",
        "d_valid = xgb.DMatrix(x_valid, label=y_valid)\n",
        "\n",
        "watchlist = [(d_train, 'train'), (d_valid, 'valid')]\n",
        "\n",
        "bst = xgb.train(params, d_train, 400, watchlist, early_stopping_rounds=50, verbose_eval=10) #\u0432\u044b\u0447\u0438\u0441\u043b\u044f\u0435\u043c \u0431\u0438\u043d\u0430\u0440\u043d\u0443\u044e \u0440\u0435\u0433\u0440\u0435\u0441\u0441\u0438\u044e"
      ]
    },
    {
      "cell_type": "code",
      "execution_count": null,
      "metadata": {
        "_cell_guid": "856ecdc3-fe36-6a8f-80ca-56a9015025e4"
      },
      "outputs": [],
      "source": [
        "d_test = xgb.DMatrix(x_test)\n",
        "p_test = bst.predict(d_test)\n",
        "\n",
        "sub = pd.DataFrame()\n",
        "sub['test_id'] = test_data['test_id']\n",
        "sub['is_duplicate'] = p_test\n",
        "sub.to_csv('simple_xgb.csv', index=False)"
      ]
    }
  ],
  "metadata": {
    "_change_revision": 0,
    "_is_fork": false,
    "kernelspec": {
      "display_name": "Python 3",
      "language": "python",
      "name": "python3"
    },
    "language_info": {
      "codemirror_mode": {
        "name": "ipython",
        "version": 3
      },
      "file_extension": ".py",
      "mimetype": "text/x-python",
      "name": "python",
      "nbconvert_exporter": "python",
      "pygments_lexer": "ipython3",
      "version": "3.6.0"
    }
  },
  "nbformat": 4,
  "nbformat_minor": 0
}