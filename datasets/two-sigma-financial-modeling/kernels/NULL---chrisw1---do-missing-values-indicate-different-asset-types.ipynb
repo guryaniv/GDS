{
  "cells": [
    {
      "cell_type": "markdown",
      "metadata": {
        "_cell_guid": "338ab889-2a7a-c06c-deea-f00ed5dae5e8"
      },
      "source": [
        "We're provided very little information about the types of financial instruments included in the dataset. Are they stocks?  Options? Bonds?  A mixture?  Even if the instruments are of similar type it is unknown whether they are all from the same market or from a set of global exchanges."
      ]
    },
    {
      "cell_type": "markdown",
      "metadata": {
        "_cell_guid": "14ae56eb-b271-8acd-f56a-793a17c4e4e6"
      },
      "source": [
        "If different ids represent instruments of differing class (and possibly from different markets), then one might expect that sets of features will be systematically missing between the different instrument types.  As an extreme example stock features may include underlying company fundamentals, while government bonds would have a dramatically different set of features.  Is there evidence of systematically missing features, and are those reflected in the target variable distribution?"
      ]
    },
    {
      "cell_type": "code",
      "execution_count": null,
      "metadata": {
        "_cell_guid": "16bf3cb8-d8c8-c580-95b8-8d75e7e6c685"
      },
      "outputs": [],
      "source": [
        "import numpy as np # linear algebra\n",
        "import pandas as pd # data processing, CSV file I/O (e.g. pd.read_csv)\n",
        "import matplotlib.pyplot as plt\n",
        "cmap=plt.cm.get_cmap('Blues')"
      ]
    },
    {
      "cell_type": "code",
      "execution_count": null,
      "metadata": {
        "_cell_guid": "391ac4e7-a039-5deb-80c0-fe54bf337752"
      },
      "outputs": [],
      "source": [
        "# read in the data\n",
        "with pd.HDFStore(\"../input/train.h5\", \"r\") as train:\n",
        "    df = train.get(\"train\")"
      ]
    },
    {
      "cell_type": "markdown",
      "metadata": {
        "_cell_guid": "5f816ce3-8221-28ae-cfc9-7e01b6b7f996"
      },
      "source": [
        "## Instruments Present Throughout Entire Training Period\n",
        "\n",
        "Several actions could complicate the picture with missing values:\n",
        "- It's possible that new features have been introduced to the dataset over time.\n",
        "- Moving averages could introduce missing values at the start of a collection period.\n",
        "- New instruments (especially options) could have been added over time.\n",
        "\n",
        "To simplify the initial analysis, only instruments that are present throughout the training set period will be considered."
      ]
    },
    {
      "cell_type": "code",
      "execution_count": null,
      "metadata": {
        "_cell_guid": "55849afb-b5b6-5e4b-d765-305dee441eda"
      },
      "outputs": [],
      "source": [
        "# remove ids that do not have an entry for every timestamp\n",
        "id_counts = df.id.value_counts()\n",
        "ids = np.setdiff1d(df.id.unique(), id_counts[id_counts != len(df.timestamp.unique())].index)\n",
        "enduring = df[df.id.isin(ids)]"
      ]
    },
    {
      "cell_type": "code",
      "execution_count": null,
      "metadata": {
        "_cell_guid": "41b56e20-96f7-d718-620d-9320c71754fb"
      },
      "outputs": [],
      "source": [
        "print('Number of instruments in the full training set:',len(df.id.unique()))\n",
        "print('Number of instruments in the reduced training set:',len(enduring.id.unique()))"
      ]
    },
    {
      "cell_type": "markdown",
      "metadata": {
        "_cell_guid": "0bc0bfb1-9232-1d66-b80a-10cc11d54796"
      },
      "source": [
        "This cuts the number of instruments by about 2/3."
      ]
    },
    {
      "cell_type": "markdown",
      "metadata": {
        "_cell_guid": "7a332340-5a2d-d59f-26a2-0675fd4368e8"
      },
      "source": [
        "## Missing Features\n",
        "\n",
        "Next, the fraction of missing values is calculated for each feature and instrument.  "
      ]
    },
    {
      "cell_type": "code",
      "execution_count": null,
      "metadata": {
        "_cell_guid": "e73ed3df-ad1f-5597-a209-2fde1c8550a9"
      },
      "outputs": [],
      "source": [
        "def GetNaFraction(df):\n",
        "    # form n x m dataframe - one row per id, one column per feature\n",
        "    # each entry counts the fraction of NAs for the feature for one asset\n",
        "    nas = pd.DataFrame(index = df.id.unique(), columns=df.columns).T\n",
        "    for id in df.id.unique():\n",
        "        nas[id] = df[df.id == id].isnull().mean()\n",
        "    return nas.T"
      ]
    },
    {
      "cell_type": "code",
      "execution_count": null,
      "metadata": {
        "_cell_guid": "3abb9ca5-8883-56cd-a122-d3b0a1b416b3"
      },
      "outputs": [],
      "source": [
        "# Calculate the fraction of NAs per instrument per feature\n",
        "enduring_nas = GetNaFraction(enduring)\n",
        "enduring_nas.drop(['id', 'timestamp', 'y'], axis=1, inplace=True)\n",
        "overall_percentages = enduring_nas.mean(axis=0).sort_values(ascending=False)\n",
        "enduring_nas.head()"
      ]
    },
    {
      "cell_type": "markdown",
      "metadata": {
        "_cell_guid": "198c1fd0-eb5e-763c-4584-a5bc6fdeb453"
      },
      "source": [
        "We can see that there are a number of features that are sometimes fully populated and sometimes completely missing eg derived_2, derived_4 for id 26 vs id 31."
      ]
    },
    {
      "cell_type": "code",
      "execution_count": null,
      "metadata": {
        "_cell_guid": "94da0e9e-02ac-2ae4-2ffb-d0a8a91ad1e4"
      },
      "outputs": [],
      "source": [
        "# Plot an overview\n",
        "fig, ax = plt.subplots()\n",
        "idx = np.arange(len(overall_percentages))\n",
        "ax.barh(idx, overall_percentages, color='cyan', ecolor='black')\n",
        "ax.set_xlabel(\"Average fraction of missing values\")\n",
        "ax.set_title(\"Fraction of missing values in each feature\")\n",
        "plt.margins(0.01)\n",
        "plt.xlim(xmin=0);"
      ]
    },
    {
      "cell_type": "markdown",
      "metadata": {
        "_cell_guid": "1589f08a-6cd5-9ddf-7f4f-991e9da3e624"
      },
      "source": [
        "### Features with no NAs\n",
        "\n",
        "Several features are always present (at least this for this reduced dataset)."
      ]
    },
    {
      "cell_type": "code",
      "execution_count": null,
      "metadata": {
        "_cell_guid": "ae6b385c-ab97-fdda-4db2-3eb7d78afb0e"
      },
      "outputs": [],
      "source": [
        "no_na_ids = overall_percentages[overall_percentages==0].index\n",
        "print(sorted(no_na_ids))"
      ]
    },
    {
      "cell_type": "markdown",
      "metadata": {
        "_cell_guid": "b7b05f57-8d9d-e48d-1874-ac955bdb83cb"
      },
      "source": [
        "### Features with Consistent NA Levels\n",
        "The following have the same fraction of NAs for all the items that are present from start to finish of the dataset."
      ]
    },
    {
      "cell_type": "code",
      "execution_count": null,
      "metadata": {
        "_cell_guid": "84efb012-cdfa-a013-7963-f3e6c750d051"
      },
      "outputs": [],
      "source": [
        "constant_na_ids = enduring_nas.columns[enduring_nas.apply(pd.Series.nunique) == 1]\n",
        "constant_na_ids = np.setdiff1d(constant_na_ids, no_na_ids)\n",
        "print(constant_na_ids )"
      ]
    },
    {
      "cell_type": "code",
      "execution_count": null,
      "metadata": {
        "_cell_guid": "21d9c02b-26e8-c86e-f433-50a50e09c930"
      },
      "outputs": [],
      "source": [
        "constant_nas=enduring[np.append('timestamp', constant_na_ids )].copy()\n",
        "for col in constant_nas.columns[1:]:\n",
        "    constant_nas.loc[:,col] = constant_nas[col].isnull().astype(int)\n",
        "\n",
        "# get the average number of nas per timestamp\n",
        "constant_nas = constant_nas.groupby(['timestamp']).mean()\n",
        "\n",
        "# sort the columns shorter->longer moving averages\n",
        "new_cols = list(constant_nas.apply(sum, axis=0).sort_values(ascending=True).index)\n",
        "\n",
        "fig = plt.figure()\n",
        "plt.gca().invert_yaxis()   # flip so that older timestamps are at the top\n",
        "plt.pcolormesh(constant_nas[new_cols], cmap=cmap)\n",
        "plt.colorbar(shrink=0.5)\n",
        "plt.title(\"Fraction of NAs per Feature per Timestamp\")\n",
        "plt.ylabel(\"Timestamp\")\n",
        "plt.xlabel(\"Feature\")\n",
        "plt.axis('tight');"
      ]
    },
    {
      "cell_type": "markdown",
      "metadata": {
        "_cell_guid": "13bda230-0a66-20f3-46cf-2eea24c83cb8"
      },
      "source": [
        "These appear to be some form of moving average. NAs appear consistently in the early timestamps, and for increasing durations.  (Side note: I believe there are other features that look like moving averages that are zero-padded at the beginning.)"
      ]
    },
    {
      "cell_type": "markdown",
      "metadata": {
        "_cell_guid": "1f8f1804-1d09-218a-a433-63ed3ac7dc99"
      },
      "source": [
        "Let's take a look at how the missing values correlate with each other.  In the diagrams below, each row is an instrument and each column is a single feature."
      ]
    },
    {
      "cell_type": "code",
      "execution_count": null,
      "metadata": {
        "_cell_guid": "de37904b-32bb-5431-91c9-377603896830"
      },
      "outputs": [],
      "source": [
        "fig = plt.figure(figsize=(8, 8))\n",
        "plt.pcolormesh(enduring_nas,cmap=cmap) \n",
        "plt.colorbar(shrink=0.5)\n",
        "plt.title(\"Fraction of NAs per Feature per Instrument\")\n",
        "plt.ylabel(\"Instruments\")\n",
        "plt.xlabel(\"Features\")\n",
        "plt.axis('tight');"
      ]
    },
    {
      "cell_type": "markdown",
      "metadata": {
        "_cell_guid": "00682dae-6539-2b0e-35e6-af4d72ec1a9e"
      },
      "source": [
        "There's clearly a pattern here -- it looks like the same groupings of features are missing across multiple instruments. Let's change the ordering to try to bring it out further."
      ]
    },
    {
      "cell_type": "code",
      "execution_count": null,
      "metadata": {
        "_cell_guid": "fc1e46b9-e15f-f772-03f7-8eb94149ecb9"
      },
      "outputs": [],
      "source": [
        "# resort the matrix to show groupings more strongly\n",
        "cols = overall_percentages.index.tolist()\n",
        "cols_to_sort=['fundamental_6', 'fundamental_24']\n",
        "fig = plt.figure(figsize=(8, 8))\n",
        "plt.pcolormesh(enduring_nas[cols].sort_values(cols_to_sort),cmap=cmap)\n",
        "plt.colorbar(shrink=0.5)\n",
        "plt.title(\"Fraction of NAs per Feature per Instrument (sorted)\")\n",
        "plt.ylabel(\"Instruments (sorted)\")\n",
        "plt.xlabel(\"Features (sorted)\")\n",
        "plt.axis('tight');"
      ]
    },
    {
      "cell_type": "markdown",
      "metadata": {
        "_cell_guid": "3c9c0351-6b94-db4f-ebcf-2c12e9fe9a4e"
      },
      "source": [
        "It's possible to get pretty good separation by sorting the instrument 'missingness' with just two features (here fundamental_6' and 'fundamental_24.)'  (The columns(features) are also sorted left to right from most to least missing.)\n",
        "\n",
        "There may be some more subtle structures but three main groupings can be clearly seen:\n",
        "\n",
        " - a set of five or six features missing as a group including fundamental_6, fundamental_1, fundamental_61, fundamental_57 and fundamental_26\n",
        " - a set of about thirty two features missing as a group\n",
        " - instruments with very few features missing"
      ]
    },
    {
      "cell_type": "markdown",
      "metadata": {
        "_cell_guid": "2ee21eff-141e-c798-7eef-38369bb30d40"
      },
      "source": [
        "## Y-Value Distributions\n",
        "\n",
        "Do these groupings show any difference with regard to the distribution of the target variable?"
      ]
    },
    {
      "cell_type": "code",
      "execution_count": null,
      "metadata": {
        "_cell_guid": "0ecab085-af31-22ca-60e9-d638ea87f194"
      },
      "outputs": [],
      "source": [
        "# plot distribution of the y-values\n",
        "# Assume that missing values are dominated by the systematic effects\n",
        "enduring.y[enduring.fundamental_6.isnull()].plot.kde(color='Blue', label='f6 null')\n",
        "enduring.y[enduring.fundamental_24.isnull()].plot.kde(color='Red', label='f24 null')\n",
        "enduring.y[enduring.fundamental_6.notnull() & enduring.fundamental_24.notnull()].plot.kde(color='Orange', label='f6,f24 not null')\n",
        "plt.title(\"Density of Y-Values for Different Groupings\")\n",
        "plt.xlabel(\"Y\")\n",
        "plt.legend();"
      ]
    },
    {
      "cell_type": "markdown",
      "metadata": {
        "_cell_guid": "77e5a9f5-7814-fc92-5ca6-93461e5cd8cc"
      },
      "source": [
        "There do appear to be differences in 'y' distribution, most notably for the first group with 5-6 missing features.   Surprisingly there is less difference between instruments with nearly all features populated vs instruments with the larger block of missing features."
      ]
    },
    {
      "cell_type": "markdown",
      "metadata": {
        "_cell_guid": "0b786d16-605a-77bf-3705-76d74086bb91"
      },
      "source": [
        "### Fundamental_5\n",
        "\n",
        "The feature missing most often is 'fundamental_5', however there doesn't seem to be a strong correlation with any other groupings.  Considered alone, 'fundamental_5' shows only a small effect on y-values."
      ]
    },
    {
      "cell_type": "code",
      "execution_count": null,
      "metadata": {
        "_cell_guid": "3e8dee7e-e6e4-a545-b127-9a08f29999cf"
      },
      "outputs": [],
      "source": [
        "enduring.y[enduring.fundamental_5.notnull()].plot.kde(color='Red', label='f5 not null')\n",
        "enduring.y[enduring.fundamental_5.isnull()].plot.kde(color='Blue', label='f5 null')\n",
        "plt.title(\"Density of Y-Values: 'fundamental_5' Missing/Not Missing\")\n",
        "plt.xlabel(\"Y\")\n",
        "plt.legend();"
      ]
    },
    {
      "cell_type": "markdown",
      "metadata": {
        "_cell_guid": "c4fbe723-5828-0af8-4b87-93951a3b1f16"
      },
      "source": [
        "## Conclusions\n",
        "\n",
        "It appears that there are features that are missing not at random. Patterns exist where groups of features are missing for many instruments. This would be consistent with the dataset containing financial vehicles of different types, but that remains speculation. There are relatively few such groupings.  The presence of systematic missing features does appear to be associated with variation in the target y-values."
      ]
    }
  ],
  "metadata": {
    "_change_revision": 0,
    "_is_fork": false,
    "kernelspec": {
      "display_name": "Python 3",
      "language": "python",
      "name": "python3"
    },
    "language_info": {
      "codemirror_mode": {
        "name": "ipython",
        "version": 3
      },
      "file_extension": ".py",
      "mimetype": "text/x-python",
      "name": "python",
      "nbconvert_exporter": "python",
      "pygments_lexer": "ipython3",
      "version": "3.6.0"
    }
  },
  "nbformat": 4,
  "nbformat_minor": 0
}