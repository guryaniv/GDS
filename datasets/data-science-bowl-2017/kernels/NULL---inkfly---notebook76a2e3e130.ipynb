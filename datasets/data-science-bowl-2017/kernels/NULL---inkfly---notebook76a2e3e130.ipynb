{
  "cells": [
    {
      "cell_type": "code",
      "execution_count": null,
      "metadata": {
        "_cell_guid": "67577865-80f5-c1b3-485a-3792910d3e85"
      },
      "outputs": [],
      "source": [
        "# This Python 3 environment comes with many helpful analytics libraries installed\n",
        "# It is defined by the kaggle/python docker image: https://github.com/kaggle/docker-python\n",
        "# For example, here's several helpful packages to load in \n",
        "\n",
        "import numpy as np # linear algebra\n",
        "import pandas as pd # data processing, CSV file I/O (e.g. pd.read_csv)\n",
        "\n",
        "# Input data files are available in the \"../input/\" directory.\n",
        "# For example, running this (by clicking run or pressing Shift+Enter) will list the files in the input directory\n",
        "\n",
        "from subprocess import check_output\n",
        "#print(check_output([\"ls\", \"../input/sample_images\"]).decode(\"utf8\"))\n",
        "print(check_output([\"ls\", \"../input\"]).decode(\"utf8\"))\n",
        "#a = check_output([\"ls\", \"../input/sample_images\"]).decode(\"utf8\")\n",
        "# Any results you write to the current directory are saved as output."
      ]
    },
    {
      "cell_type": "code",
      "execution_count": null,
      "metadata": {
        "_cell_guid": "9702abca-decd-259f-53a2-be66e0cc85d5"
      },
      "outputs": [],
      "source": [
        "a.split()[0]"
      ]
    },
    {
      "cell_type": "code",
      "execution_count": null,
      "metadata": {
        "_cell_guid": "4f46f7d8-e193-7ebb-53a2-8e29c9c5d752"
      },
      "outputs": [],
      "source": [
        "print(check_output([\"ls\", \"../input/sample_images/\" + a.split()[0]]))"
      ]
    },
    {
      "cell_type": "code",
      "execution_count": null,
      "metadata": {
        "_cell_guid": "6b0b7979-082c-3d48-1ce7-b8587ad71144"
      },
      "outputs": [],
      "source": [
        "import dicom\n",
        "import os\n",
        "import pandas as pd"
      ]
    },
    {
      "cell_type": "code",
      "execution_count": null,
      "metadata": {
        "_cell_guid": "5c5ec2b6-b198-18e4-adaa-f9cc8f57bf5e"
      },
      "outputs": [],
      "source": [
        "patients = os.listdir('../input/sample_images/')\n",
        "len(patients)"
      ]
    },
    {
      "cell_type": "code",
      "execution_count": null,
      "metadata": {
        "_cell_guid": "7195dc0d-b5ce-e1d4-6ee2-e9eee0aacc52"
      },
      "outputs": [],
      "source": [
        "labels = pd.read_csv('../input/stage1_labels.csv')"
      ]
    },
    {
      "cell_type": "code",
      "execution_count": null,
      "metadata": {
        "_cell_guid": "d47b393b-bee1-d930-c299-1c407be534cf"
      },
      "outputs": [],
      "source": [
        "!pwd"
      ]
    },
    {
      "cell_type": "code",
      "execution_count": null,
      "metadata": {
        "_cell_guid": "17366db9-5f95-e21a-ca7e-d801f840cea0"
      },
      "outputs": [],
      "source": [
        "!/bin/bash"
      ]
    },
    {
      "cell_type": "code",
      "execution_count": null,
      "metadata": {
        "_cell_guid": "7815df7c-3572-8728-434b-d36926331592"
      },
      "outputs": [],
      "source": [
        "ls -l"
      ]
    },
    {
      "cell_type": "code",
      "execution_count": null,
      "metadata": {
        "_cell_guid": "146a07ad-9903-c6dc-c45e-1a22022eaeae"
      },
      "outputs": [],
      "source": ""
    }
  ],
  "metadata": {
    "_change_revision": 0,
    "_is_fork": false,
    "kernelspec": {
      "display_name": "Python 3",
      "language": "python",
      "name": "python3"
    },
    "language_info": {
      "codemirror_mode": {
        "name": "ipython",
        "version": 3
      },
      "file_extension": ".py",
      "mimetype": "text/x-python",
      "name": "python",
      "nbconvert_exporter": "python",
      "pygments_lexer": "ipython3",
      "version": "3.6.0"
    }
  },
  "nbformat": 4,
  "nbformat_minor": 0
}