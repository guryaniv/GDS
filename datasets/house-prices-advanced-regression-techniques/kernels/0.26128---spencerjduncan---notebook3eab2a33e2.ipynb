{
  "cells": [
    {
      "cell_type": "code",
      "execution_count": null,
      "metadata": {
        "_cell_guid": "25017352-dec9-f0ee-9c2e-496997d810e4"
      },
      "outputs": [],
      "source": [
        "# This Python 3 environment comes with many helpful analytics libraries installed\n",
        "# It is defined by the kaggle/python docker image: https://github.com/kaggle/docker-python\n",
        "# For example, here's several helpful packages to load in \n",
        "\n",
        "import numpy as np # linear algebra\n",
        "import pandas as pd # data processing, CSV file I/O (e.g. pd.read_csv)\n",
        "\n",
        "# Input data files are available in the \"../input/\" directory.\n",
        "# For example, running this (by clicking run or pressing Shift+Enter) will list the files in the input directory\n",
        "\n",
        "from subprocess import check_output\n",
        "print(check_output([\"ls\", \"../input\"]).decode(\"utf8\"))\n",
        "\n",
        "# Any results you write to the current directory are saved as output."
      ]
    },
    {
      "cell_type": "code",
      "execution_count": null,
      "metadata": {
        "_cell_guid": "f3829fb9-8b33-653d-5be4-945604aecefd"
      },
      "outputs": [],
      "source": [
        "df_train = pd.read_csv('../input/train.csv')\n",
        "df_test  = pd.read_csv('../input/test.csv')\n",
        "\n",
        "df_train.describe()"
      ]
    },
    {
      "cell_type": "code",
      "execution_count": null,
      "metadata": {
        "_cell_guid": "42c913de-9b1a-df90-ade4-fcc19dc266ec"
      },
      "outputs": [],
      "source": [
        "def is_num(x):\n",
        "    x = df_train[x]\n",
        "    try:\n",
        "        if x.dtype == np.int64 or x.dtype == np.float64:\n",
        "            return True\n",
        "        else:\n",
        "            return False\n",
        "    except AttributeError:\n",
        "        return False\n",
        "    \n",
        "def is_complete(x):\n",
        "    if x == 'SalePrice': return False\n",
        "    return pd.isnull(df_train[x]).sum() + pd.isnull(df_test[x]).sum() == 0\n",
        "\n",
        "print(list(map(is_num, list(df_train))))"
      ]
    },
    {
      "cell_type": "code",
      "execution_count": null,
      "metadata": {
        "_cell_guid": "f838ec06-5e84-964c-06a1-323b4998f2c1"
      },
      "outputs": [],
      "source": [
        "categorical = list(filter(lambda x: not is_num(x) and is_complete(x), list(df_train)))\n",
        "continuous = list(filter(lambda x: is_num(x) and is_complete(x), list(df_train)))\n",
        "#continuous = list(filter(lambda x: not x == 'SalePrice', continuous))\n",
        "columns = list(df_train)"
      ]
    },
    {
      "cell_type": "code",
      "execution_count": null,
      "metadata": {
        "_cell_guid": "4d5f4963-0378-3777-c2bd-e3c6529ad08b"
      },
      "outputs": [],
      "source": [
        "def input_fn(df, train=True):\n",
        "\n",
        "    continuous_cols = {k: tf.constant(df[k].values)\n",
        "                        for k in continuous}\n",
        "\n",
        "    categorical_cols = {k: tf.SparseTensor(\n",
        "        indices=[[i, 0] for i in range(df[k].size)],\n",
        "        values=df[k].values,\n",
        "        dense_shape=[df[k].size, 1])\n",
        "                        for k in categorical}\n",
        "\n",
        "   \n",
        "    feature_cols = continuous_cols.copy()\n",
        "    feature_cols.update(categorical_cols)\n",
        "\n",
        "    label = tf.transpose(tf.constant(df['SalePrice'].values))\n",
        "\n",
        "    return feature_cols, label\n",
        "\n",
        "def train_input_fn():\n",
        "    return input_fn(df_train)\n",
        "\n",
        "def eval_input_fn():\n",
        "    return input_fn(df_test)\n"
      ]
    },
    {
      "cell_type": "code",
      "execution_count": null,
      "metadata": {
        "_cell_guid": "6ff30e01-2a45-bd71-e225-d98bb7195a62"
      },
      "outputs": [],
      "source": [
        "#print(categorical)\n",
        "print(df_train['SalePrice'].values)"
      ]
    },
    {
      "cell_type": "code",
      "execution_count": null,
      "metadata": {
        "_cell_guid": "cdec906f-1ff7-ca36-fe6b-036025a74904"
      },
      "outputs": [],
      "source": [
        "print(list(set(df_train['MSZoning'])))"
      ]
    },
    {
      "cell_type": "code",
      "execution_count": null,
      "metadata": {
        "_cell_guid": "339accef-955f-551b-a0a9-03ea09229e62"
      },
      "outputs": [],
      "source": [
        "import tensorflow as tf\n",
        "print(tf.__version__)"
      ]
    },
    {
      "cell_type": "code",
      "execution_count": null,
      "metadata": {
        "_cell_guid": "11009323-0811-c1b9-cbd9-20d653ff814d"
      },
      "outputs": [],
      "source": [
        "layers = []"
      ]
    },
    {
      "cell_type": "code",
      "execution_count": null,
      "metadata": {
        "_cell_guid": "fa93f8c4-e99a-2800-4434-5106c3639802"
      },
      "outputs": [],
      "source": [
        "for x in categorical:\n",
        "    print(x)\n",
        "    print(set(df_train[x]))\n",
        "    print(' ')"
      ]
    },
    {
      "cell_type": "code",
      "execution_count": null,
      "metadata": {
        "_cell_guid": "f17090ef-3208-a3e5-e650-a72cfdab399a"
      },
      "outputs": [],
      "source": [
        "for x in categorical:\n",
        "    layers.append(tf.contrib.layers.sparse_column_with_keys(\n",
        "         column_name=x, keys=list(set(df_train[x]))))"
      ]
    },
    {
      "cell_type": "code",
      "execution_count": null,
      "metadata": {
        "_cell_guid": "4e7fbc19-5f8a-3edc-aa9f-8edd0c373608"
      },
      "outputs": [],
      "source": [
        "print(continuous)"
      ]
    },
    {
      "cell_type": "code",
      "execution_count": null,
      "metadata": {
        "_cell_guid": "90ea74d0-c358-484e-863b-3eba9cb32679"
      },
      "outputs": [],
      "source": [
        "for x in continuous:\n",
        "    layers.append(tf.contrib.layers.real_valued_column(x))"
      ]
    },
    {
      "cell_type": "code",
      "execution_count": null,
      "metadata": {
        "_cell_guid": "8a66904f-519a-c41b-315a-a2aa6c8c8214"
      },
      "outputs": [],
      "source": [
        "print(df_train.shape)\n",
        "print(df_train.dropna().shape)\n",
        "\n",
        "print(pd.isnull(df_train).sum() > 0)\n",
        "print(list(filter(lambda x: , list(df_train))))\n"
      ]
    },
    {
      "cell_type": "code",
      "execution_count": null,
      "metadata": {
        "_cell_guid": "55c5e0b2-c576-de36-09b3-30c8b50780bd"
      },
      "outputs": [],
      "source": [
        "\n",
        "model_dir = \".\"\n",
        "m = tf.contrib.learn.LinearRegressor(feature_columns=layers,\n",
        "    optimizer=tf.train.FtrlOptimizer(\n",
        "        learning_rate=0.1,\n",
        "        l1_regularization_strength=1.0,\n",
        "        l2_regularization_strength=1.0),\n",
        "    model_dir=model_dir)\n"
      ]
    },
    {
      "cell_type": "code",
      "execution_count": null,
      "metadata": {
        "_cell_guid": "870bc1cc-1b46-be44-f317-7e171a1ce853"
      },
      "outputs": [],
      "source": [
        "m.fit(input_fn=train_input_fn, steps=200)\n"
      ]
    },
    {
      "cell_type": "code",
      "execution_count": null,
      "metadata": {
        "_cell_guid": "cf7310f4-a282-1609-f903-f46eee1b066a"
      },
      "outputs": [],
      "source": [
        "results = m.predict(input_fn=eval_input_fn)\n"
      ]
    }
  ],
  "metadata": {
    "_change_revision": 0,
    "_is_fork": false,
    "kernelspec": {
      "display_name": "Python 3",
      "language": "python",
      "name": "python3"
    },
    "language_info": {
      "codemirror_mode": {
        "name": "ipython",
        "version": 3
      },
      "file_extension": ".py",
      "mimetype": "text/x-python",
      "name": "python",
      "nbconvert_exporter": "python",
      "pygments_lexer": "ipython3",
      "version": "3.6.0"
    }
  },
  "nbformat": 4,
  "nbformat_minor": 0
}