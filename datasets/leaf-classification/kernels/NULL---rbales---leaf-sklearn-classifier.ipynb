{
  "cells": [
    {
      "cell_type": "code",
      "execution_count": null,
      "metadata": {
        "_cell_guid": "eabd29b8-e059-cdfe-5ea0-31be28f7596a"
      },
      "outputs": [],
      "source": [
        "# This Python 3 environment comes with many helpful analytics libraries installed\n",
        "# It is defined by the kaggle/python docker image: https://github.com/kaggle/docker-python\n",
        "# For example, here's several helpful packages to load in \n",
        "\n",
        "import numpy as np # linear algebra\n",
        "import pandas as pd # data processing, CSV file I/O (e.g. pd.read_csv)\n",
        "\n",
        "# Input data files are available in the \"../input/\" directory.\n",
        "# For example, running this (by clicking run or pressing Shift+Enter) will list the files in the input directory\n",
        "\n",
        "from subprocess import check_output\n",
        "print(check_output([\"ls\", \"../input\"]).decode(\"utf8\"))\n",
        "\n",
        "# Any results you write to the current directory are saved as output."
      ]
    },
    {
      "cell_type": "code",
      "execution_count": null,
      "metadata": {
        "_cell_guid": "57d77db2-2c70-5597-6823-21cd89dceb92"
      },
      "outputs": [],
      "source": [
        "# Load Training Data\n",
        "df_train = pd.read_csv('../input/train.csv', index_col = 'id')\n",
        "df_train.head()"
      ]
    },
    {
      "cell_type": "code",
      "execution_count": null,
      "metadata": {
        "_cell_guid": "2bb2ec92-6d20-a0e2-4f08-e705625c2add"
      },
      "outputs": [],
      "source": [
        "# Split Training data into X and y\n",
        "X = df_train.drop('species', axis=1)\n",
        "y = df_train.species\n",
        "df_train.shape, X.shape, y.shape"
      ]
    },
    {
      "cell_type": "code",
      "execution_count": null,
      "metadata": {
        "_cell_guid": "84c9efbb-2453-66f0-116c-fc5caaa43c06"
      },
      "outputs": [],
      "source": [
        "# Examine Classes\n",
        "classes = df_train.species.unique()\n",
        "classes.sort()\n",
        "classes[:5]"
      ]
    },
    {
      "cell_type": "code",
      "execution_count": null,
      "metadata": {
        "_cell_guid": "4aebba93-1171-e9d4-bdce-f9e448a05d87"
      },
      "outputs": [],
      "source": [
        "# Binary Encode Class Labels into y\n",
        "import sklearn.preprocessing as skpp\n",
        "y = skpp.label_binarize(y, classes = classes)\n",
        "y[5,]"
      ]
    },
    {
      "cell_type": "code",
      "execution_count": null,
      "metadata": {
        "_cell_guid": "62eebe4d-4195-1553-c6a2-c2f715e4237a"
      },
      "outputs": [],
      "source": [
        "# Scale all parameters in X\n",
        "import sklearn.preprocessing as skpp\n",
        "\n",
        "#scaler = skpp.StandardScaler()\n",
        "#X = scaler.fit_transform(X)"
      ]
    },
    {
      "cell_type": "code",
      "execution_count": null,
      "metadata": {
        "_cell_guid": "d8aa4616-09f8-6fa2-e033-33ad1dfefa38"
      },
      "outputs": [],
      "source": [
        "\n",
        "# Create Data Shuffler\n",
        "import sklearn.model_selection as skms\n",
        "strat_cv_shuffler = skms.StratifiedShuffleSplit(n_splits=2, train_size=0.8)"
      ]
    },
    {
      "cell_type": "code",
      "execution_count": null,
      "metadata": {
        "_cell_guid": "cab354fd-da8d-1166-6e9e-dd6f2158519b"
      },
      "outputs": [],
      "source": [
        "# Create Classifier\n",
        "from sklearn.svm import SVC\n",
        "from sklearn.multiclass import OneVsRestClassifier\n",
        "svm = OneVsRestClassifier(SVC(kernel='linear', probability=True))"
      ]
    },
    {
      "cell_type": "code",
      "execution_count": null,
      "metadata": {
        "_cell_guid": "e38f8bed-3cfa-9dbe-9cb1-1e12a8f93fca"
      },
      "outputs": [],
      "source": [
        "# Run on Training Data and Review Accuracy Scores\n",
        "scores = skms.cross_val_score(svm, X, y, cv=strat_cv_shuffler)"
      ]
    },
    {
      "cell_type": "code",
      "execution_count": null,
      "metadata": {
        "_cell_guid": "7e64756a-3904-4003-5ebb-c30669b585f5"
      },
      "outputs": [],
      "source": [
        "print(\"Accuracy: %0.2f (+/- %0.2f)\" % (scores.mean(), scores.std() * 2))"
      ]
    }
  ],
  "metadata": {
    "_change_revision": 0,
    "_is_fork": false,
    "kernelspec": {
      "display_name": "Python 3",
      "language": "python",
      "name": "python3"
    },
    "language_info": {
      "codemirror_mode": {
        "name": "ipython",
        "version": 3
      },
      "file_extension": ".py",
      "mimetype": "text/x-python",
      "name": "python",
      "nbconvert_exporter": "python",
      "pygments_lexer": "ipython3",
      "version": "3.5.2"
    }
  },
  "nbformat": 4,
  "nbformat_minor": 0
}