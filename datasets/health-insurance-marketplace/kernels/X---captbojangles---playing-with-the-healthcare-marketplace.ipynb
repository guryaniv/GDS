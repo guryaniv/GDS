{"cells":[
 {
  "cell_type": "code",
  "execution_count": null,
  "metadata": {
   "collapsed": false
  },
  "outputs": [],
  "source": "# This Python 3 environment comes with many helpful analytics libraries installed\n# It is defined by the kaggle/python docker image: https://github.com/kaggle/docker-python\n# For example, here's several helpful packages to load in \n\nimport numpy as np # linear algebra\nimport pandas as pd # data processing, CSV file I/O (e.g. pd.read_csv)\n\n# Input data files are available in the \"../input/\" directory.\n# For example, running this (by clicking run or pressing Shift+Enter) will list the files in the input directory\n\nfrom subprocess import check_output\nprint(check_output([\"ls\", \"../input\"]).decode(\"utf8\"))\n\n# Any results you write to the current directory are saved as output.\nimport matplotlib.pyplot as plt"
 },
 {
  "cell_type": "code",
  "execution_count": null,
  "metadata": {
   "collapsed": false
  },
  "outputs": [],
  "source": "df = pd.read_csv('../input/Rate.csv')\ndf1 = df[['Age', 'IndividualRate']]\n#Replacing any non-numerics with NaN\ndf1.Age = df1.Age._convert(numeric = True)\n#Dropping NaN values\ndf1 = df1.dropna()\n#The convert turns our Age group into floats. Converting them back into integers\ndf1.Age = df1.Age.astype(int)"
 },
 {
  "cell_type": "code",
  "execution_count": null,
  "metadata": {
   "collapsed": false
  },
  "outputs": [],
  "source": "#We have some major outliers in the 10,000 region lets isolate the \"meat\" of the data\ndf1 = df1[df1.IndividualRate < 1600]\n#Lets look at a histogram of our Individual Rate data\ndf1.IndividualRate.hist(bins = 300)"
 },
 {
  "cell_type": "code",
  "execution_count": null,
  "metadata": {
   "collapsed": false
  },
  "outputs": [],
  "source": "#It looks like we have 2 distributions. One from the 100 - 1500 range and one from the 0-100 range\n#There appears to be a lot of ppl who are paying around 100. Lets ignore that for now as well\ndfa = df1[df1.IndividualRate > 105]\ndfa.IndividualRate.hist(bins = 200)\nplt.xlim(105, 1500)\nplt.ylim(0, 175000)\nplt.title('Individual Rate Histogram (105-1500)')\nplt.ylabel('Frequency/Count')\nplt.xlabel('Individual Rate')"
 },
 {
  "cell_type": "code",
  "execution_count": null,
  "metadata": {
   "collapsed": false
  },
  "outputs": [],
  "source": "#Here is a good isolated plot of the 105-1500 range\n#Lets look at some stats for this bad boy as well\ndfa.IndividualRate.describe()"
 },
 {
  "cell_type": "code",
  "execution_count": null,
  "metadata": {
   "collapsed": false
  },
  "outputs": [],
  "source": "\n#Now lets take a look at the distribution from 0-60\ndfb = df1[df1.IndividualRate < 60]\ndfb.IndividualRate.hist(bins = 100)\nplt.xlim(5, 60)\nplt.ylim(0, 150000)\nplt.title('Individual Rate Histogram (105-1500)')\nplt.ylabel('Frequency/Count')\nplt.xlabel('Individual Rate')"
 },
 {
  "cell_type": "code",
  "execution_count": null,
  "metadata": {
   "collapsed": false
  },
  "outputs": [],
  "source": "#And some stats for this bad boy as well\ndfb.IndividualRate.describe()"
 },
 {
  "cell_type": "code",
  "execution_count": null,
  "metadata": {
   "collapsed": false
  },
  "outputs": [],
  "source": ""
 }
],"metadata":{"kernelspec":{"display_name":"Python 3","language":"python","name":"python3"}}, "nbformat": 4, "nbformat_minor": 0}