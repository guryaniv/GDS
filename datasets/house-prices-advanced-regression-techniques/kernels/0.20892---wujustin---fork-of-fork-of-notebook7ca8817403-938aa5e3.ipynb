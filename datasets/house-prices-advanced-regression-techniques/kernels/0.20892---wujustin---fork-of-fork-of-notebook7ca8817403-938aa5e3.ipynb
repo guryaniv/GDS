{
  "cells": [
    {
      "cell_type": "code",
      "execution_count": null,
      "metadata": {
        "_cell_guid": "ed8979e7-6eab-b624-46fc-720658242aa7"
      },
      "outputs": [],
      "source": [
        "# This Python 3 environment comes with many helpful analytics libraries installed\n",
        "# It is defined by the kaggle/python docker image: https://github.com/kaggle/docker-python\n",
        "# For example, here's several helpful packages to load in \n",
        "\n",
        "# pandas\n",
        "import pandas as pd\n",
        "from pandas import Series,DataFrame\n",
        "\n",
        "# numpy, matplotlib, seaborn\n",
        "import numpy as np\n",
        "import matplotlib.pyplot as plt\n",
        "import seaborn as sns\n",
        "sns.set_style('whitegrid')\n",
        "%matplotlib inline\n",
        "\n",
        "# machine learning\n",
        "from sklearn.linear_model import LogisticRegression\n",
        "from sklearn.svm import SVC, LinearSVC\n",
        "from sklearn.ensemble import RandomForestClassifier\n",
        "from sklearn.neighbors import KNeighborsClassifier\n",
        "from sklearn.naive_bayes import GaussianNB\n",
        "from sklearn import linear_model\n",
        "# Input data files are available in the \"../input/\" directory.\n",
        "# For example, running this (by clicking run or pressing Shift+Enter) will list the files in the input directory\n",
        "\n",
        "from subprocess import check_output\n",
        "print(check_output([\"ls\", \"../input\"]).decode(\"utf8\"))\n",
        "\n",
        "# Any results you write to the current directory are saved as output."
      ]
    },
    {
      "cell_type": "code",
      "execution_count": null,
      "metadata": {
        "_cell_guid": "b97f0b27-816a-c8c4-4be9-a594ecadb39c"
      },
      "outputs": [],
      "source": [
        "train_df = pd.read_csv('../input/train.csv')\n",
        "\n",
        "train_df = train_df[['Id', 'LotArea', 'SalePrice', 'TotalBsmtSF', 'GrLivArea','GarageCars', 'YearBuilt', 'YrSold', 'PoolArea', 'TotRmsAbvGrd', 'FullBath', 'HalfBath', 'KitchenAbvGr', 'BedroomAbvGr']]\n",
        "#train_df['TotalBuildArea'] = train_df['GrLivArea'] + train_df['TotalBsmtSF']\n",
        "train_df['TotalBathAbvGr'] = train_df['FullBath'] + train_df['HalfBath']\n",
        "train_df['NumOfYear'] = train_df['YrSold'] - train_df['YearBuilt']\n",
        "#train_df['avgPrice'] = train_df['SalePrice'] / train_df['GrLivArea']\n",
        "train_df.drop(['Id','FullBath', 'HalfBath', 'KitchenAbvGr', 'BedroomAbvGr', 'YrSold', 'YearBuilt'], axis=1, inplace=True)\n",
        "#train_df['TotalBathBsmt'] = train_df['BsmtFullBath'] + train_df['BsmtHalfBath']\n",
        "\n",
        "train_df = train_df.loc[train_df['GrLivArea']<3500]\n",
        "train_df = train_df.loc[train_df['GrLivArea']>500]\n",
        "train_df = train_df.loc[train_df['SalePrice']<400000]\n",
        "train_df = train_df.loc[train_df['LotArea']<20000]\n",
        "\n",
        "train_df.info()"
      ]
    },
    {
      "cell_type": "code",
      "execution_count": null,
      "metadata": {
        "_cell_guid": "8c0844a4-797b-04f4-7585-d446f8332ea6"
      },
      "outputs": [],
      "source": [
        "test_df = pd.read_csv('../input/test.csv')\n",
        "test_df = test_df[['Id', 'LotArea', 'TotalBsmtSF', 'GrLivArea','GarageCars', 'YearBuilt', 'YrSold', 'PoolArea', 'TotRmsAbvGrd', 'FullBath', 'HalfBath', 'KitchenAbvGr', 'BedroomAbvGr']]\n",
        "\n",
        "test_df['TotalBathAbvGr'] = test_df['FullBath'] + test_df['HalfBath']\n",
        "test_df['NumOfYear'] = test_df['YrSold'] - test_df['YearBuilt']\n",
        "test_df_Id = test_df['Id']\n",
        "test_df.drop(['Id', 'FullBath', 'HalfBath', 'KitchenAbvGr', 'BedroomAbvGr', 'YrSold', 'YearBuilt'], axis=1, inplace=True)\n",
        "\n",
        "#LotArea\n",
        "avg_lotArea_test = test_df['LotArea'].mean()\n",
        "std_lotArea_test = test_df['LotArea'].std()\n",
        "count_outliner_lotArea_test = test_df['LotArea'].loc[test_df['LotArea']>20000].count()\n",
        "\n",
        "rand_1 = np.random.randint(avg_lotArea_test - std_lotArea_test, avg_lotArea_test + std_lotArea_test, size = count_outliner_lotArea_test)\n",
        "test_df[\"LotArea\"][test_df['LotArea']>20000] = rand_1\n",
        "\n",
        "avg_liveArea_test = test_df['GrLivArea'].mean()\n",
        "test_df['GrLivArea'].loc[test_df['GrLivArea'] > 3500] = avg_liveArea_test\n",
        "\n",
        "\n",
        "mean_BasmtSF = test_df['TotalBsmtSF'].mean()\n",
        "mean_GarageCars = test_df['GarageCars'].mean()\n",
        "\n",
        "test_df['TotalBsmtSF'] = test_df['TotalBsmtSF'].fillna(mean_BasmtSF)\n",
        "test_df['GarageCars'] = test_df['GarageCars'].fillna(mean_GarageCars)\n",
        "test_df.info()\n"
      ]
    },
    {
      "cell_type": "code",
      "execution_count": null,
      "metadata": {
        "_cell_guid": "e3003e23-af35-e458-27f5-74d6e2852b9f"
      },
      "outputs": [],
      "source": [
        "#salePrice_df = train_df[['Id', 'SalePrice']].groupby('SalePrice').count()\n",
        "#test_df = test_df.loc[test_df['LotArea']<20000]\n",
        "\n",
        "#test_lotArea_median = test_df['LotArea'].median()\n",
        "#test_df['LotArea'].loc[test_df['LotArea']>20000] = test_lotArea_median\n",
        "#test_df['GrLivArea'].plot(kind='hist', figsize=(15,3),bins=100)"
      ]
    },
    {
      "cell_type": "code",
      "execution_count": null,
      "metadata": {
        "_cell_guid": "2f625970-17d6-ae3c-825a-209317f45b7d"
      },
      "outputs": [],
      "source": [
        "#train_df.count()\n",
        "#train_df['LotArea'].loc[train_df['LotArea']>40000].count()\n",
        "\n",
        "X_train = train_df.drop(['SalePrice'], axis=1)\n",
        "Y_train = train_df['SalePrice']\n",
        "X_test = test_df.copy()"
      ]
    },
    {
      "cell_type": "code",
      "execution_count": null,
      "metadata": {
        "_cell_guid": "068e5608-fc2b-44a7-7200-5038a92ab825"
      },
      "outputs": [],
      "source": [
        "#ridge_reg = linear_model.Ridge(alpha = 0.01)\n",
        "#ridge_reg.fit(X_train, Y_train)\n",
        "#Y_pred = ridge_reg.predict(X_test)\n",
        "#ridge_reg.score(X_train, Y_train)"
      ]
    },
    {
      "cell_type": "code",
      "execution_count": null,
      "metadata": {
        "_cell_guid": "30499b6f-323b-1183-f5b6-4d14b5022526"
      },
      "outputs": [],
      "source": [
        "#lasso_reg = linear_model.Lasso(alpha = 0.01)\n",
        "#lasso_reg.fit(X_train, Y_train)\n",
        "#Y_pred = lasso_reg.predict(X_test)\n",
        "#lasso_reg.score(X_train, Y_train)"
      ]
    },
    {
      "cell_type": "code",
      "execution_count": null,
      "metadata": {
        "_cell_guid": "6cfd7e71-f5a8-f013-3770-056696da3c9b"
      },
      "outputs": [],
      "source": [
        "elast_reg = linear_model.ElasticNet(alpha=0.01, l1_ratio=0.3)\n",
        "elast_reg.fit(X_train, Y_train)\n",
        "Y_pred = elast_reg.predict(X_test)\n",
        "elast_reg.score(X_train, Y_train)"
      ]
    },
    {
      "cell_type": "code",
      "execution_count": null,
      "metadata": {
        "_cell_guid": "5c77b8e0-9f4d-2fdf-a3a2-5664b2ab04fd"
      },
      "outputs": [],
      "source": [
        "##random_forest = RandomForestClassifier(n_estimators=200)\n",
        "\n",
        "#random_forest.fit(X_train, Y_train)\n",
        "\n",
        "#Y_pred = random_forest.predict(X_test)\n",
        "\n",
        "#random_forest.score(X_train, Y_train)"
      ]
    },
    {
      "cell_type": "code",
      "execution_count": null,
      "metadata": {
        "_cell_guid": "aec75114-f617-bacc-2b15-67cdb09bc0a8"
      },
      "outputs": [],
      "source": [
        "coeff_df = DataFrame(train_df.columns.delete(0))\n",
        "coeff_df.columns = ['Features']\n",
        "coeff_df[\"Coefficient Estimate\"] = pd.Series(elast_reg.coef_)\n",
        "\n",
        "# preview\n",
        "coeff_df"
      ]
    },
    {
      "cell_type": "code",
      "execution_count": null,
      "metadata": {
        "_cell_guid": "8ed91bd0-810a-97f5-544e-94f8f3034834"
      },
      "outputs": [],
      "source": [
        "\n",
        "#fig, (axis1, axis2) = plt.subplots(2,1,figsize=(20,8))\n",
        "\n",
        "#train_df['newRooms'] = train_df['TotRmsAbvGrd']-train_df['TotalBathAbvGr']+train_df['TotalBathBsmt']-train_df['BedroomAbvGr']\n",
        "#sns.pointplot(x='GrLivArea', y='SalePrice', data=train_df[['SalePrice', 'GrLivArea']].loc[train_df['GrLivArea'] <= 4000], ax=axis1)\n",
        "#train_df['SalePrice'].plot(kind='line', ax=axis1)\n",
        "#train_df['LotArea'].plot(kind='line', ax=axis1)\n",
        "#train_df['GrLivArea'].plot(kind='line', ax=axis2)\n",
        "#train_df['KitchenAbvGr'].plot(kind='line', ax=axis1, xlim=(0, 10))"
      ]
    },
    {
      "cell_type": "code",
      "execution_count": null,
      "metadata": {
        "_cell_guid": "425e413b-784e-1290-d77f-04f4e62f48fa"
      },
      "outputs": [],
      "source": [
        "submission = pd.DataFrame({\n",
        "        \"Id\": test_df_Id,\n",
        "        \"SalePrice\": Y_pred\n",
        "    })\n",
        "submission.to_csv('HousePricePred_20161225.csv', index=False)"
      ]
    }
  ],
  "metadata": {
    "_change_revision": 0,
    "_is_fork": false,
    "kernelspec": {
      "display_name": "Python 3",
      "language": "python",
      "name": "python3"
    },
    "language_info": {
      "codemirror_mode": {
        "name": "ipython",
        "version": 3
      },
      "file_extension": ".py",
      "mimetype": "text/x-python",
      "name": "python",
      "nbconvert_exporter": "python",
      "pygments_lexer": "ipython3",
      "version": "3.5.2"
    }
  },
  "nbformat": 4,
  "nbformat_minor": 0
}