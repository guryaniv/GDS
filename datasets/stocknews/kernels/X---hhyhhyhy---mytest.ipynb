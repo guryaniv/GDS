{
  "cells": [
    {
      "cell_type": "code",
      "execution_count": null,
      "metadata": {
        "_cell_guid": "21c48aa3-684f-1ff5-5486-eea5e182cd62"
      },
      "outputs": [],
      "source": [
        "# This Python 3 environment comes with many helpful analytics libraries installed\n",
        "# It is defined by the kaggle/python docker image: https://github.com/kaggle/docker-python\n",
        "# For example, here's several helpful packages to load in \n",
        "\n",
        "import numpy as np # linear algebra\n",
        "import pandas as pd # data processing, CSV file I/O (e.g. pd.read_csv)\n",
        "\n",
        "# Input data files are available in the \"../input/\" directory.\n",
        "# For example, running this (by clicking run or pressing Shift+Enter) will list the files in the input directory\n",
        "\n",
        "from subprocess import check_output\n",
        "print(check_output([\"ls\", \"../input\"]).decode(\"utf8\"))\n",
        "\n",
        "# Any results you write to the current directory are saved as output."
      ]
    },
    {
      "cell_type": "code",
      "execution_count": null,
      "metadata": {
        "_cell_guid": "d6c53c2a-d2c3-48c6-14f7-2f823a4b0d1a"
      },
      "outputs": [],
      "source": [
        "import pandas as pd\n",
        "import numpy as np\n",
        "from sklearn.svm import SVC\n",
        "from sklearn.feature_extraction.text import  CountVectorizer,TfidfVectorizer\n",
        "from sklearn import metrics"
      ]
    },
    {
      "cell_type": "code",
      "execution_count": null,
      "metadata": {
        "_cell_guid": "ffc7fb54-7e8f-d9c7-04f1-221bd40496e1"
      },
      "outputs": [],
      "source": [
        "def processHeadlines(df):\n",
        "    df['combined_news'] = df.filter(regex=('Top.*')).apply(lambda x:''.join(str(x.values)),axis=1)#\u6a2a\u5411\u7684\u503c\n",
        "    return df\n",
        "\n",
        "def extractFeature(train_df,test_df):\n",
        "    feature_extraction = TfidfVectorizer()\n",
        "    train_X = feature_extraction.fit_transform(train_df['combined_news'].values)\n",
        "    test_X = feature_extraction.transform(test_df[\"combined_news\"].values)\n",
        "    return train_X,test_X"
      ]
    },
    {
      "cell_type": "code",
      "execution_count": null,
      "metadata": {
        "_cell_guid": "234e046a-2043-50ab-1905-eebb6c392ab6"
      },
      "outputs": [],
      "source": [
        "data = pd.read_csv('../input/Combined_News_DJIA.csv')"
      ]
    },
    {
      "cell_type": "code",
      "execution_count": null,
      "metadata": {
        "_cell_guid": "378dfe9b-36ee-734e-33d2-4ec2cbbdeee1"
      },
      "outputs": [],
      "source": [
        "data.head(10)"
      ]
    },
    {
      "cell_type": "code",
      "execution_count": null,
      "metadata": {
        "_cell_guid": "a3ca59de-0c36-7394-f5a3-9c1a781d29f5"
      },
      "outputs": [],
      "source": [
        "data = pd.read_csv('../input/Combined_News_DJIA.csv')\n",
        "#\u5206\u5272\u6570\u636e\u5dee\u4e0d\u591a\u767e\u5206\u4e4b20\u6d4b\u8bd5\u96c6\n",
        "data = processHeadlines(data)\n",
        "train_df = data[data['Date']<'2015-01-01']\n",
        "test_df = data[data['Date']>'2014-12-31']\n",
        "#\u63d0\u53d6\n",
        "train_X,test_X = extractFeature(train_df,test_df)\n",
        "train_y = train_df['Label'].values\n",
        "test_y = test_df['Label'].values"
      ]
    },
    {
      "cell_type": "code",
      "execution_count": null,
      "metadata": {
        "_cell_guid": "c2f731e8-6fdd-5a65-55ae-507f088d48ef"
      },
      "outputs": [],
      "source": [
        "#\u8bad\u7ec3\n",
        "clf = SVC(probability=True,kernel='rbf')#\u7531\u4e8e\u662f\u4e8c\u5206\u7c7b\u3002\u6211\u4eec\u53c2\u6570probability\u8bbe\u7f6e\u4ee5\u540e\u4fdd\u7559\u6982\u7387\u503c\u4e0d\u7ecf\u8fc7sign\n",
        "clf.fit(train_X,train_y)\n",
        "predictions = clf.predict_proba(test_X)"
      ]
    },
    {
      "cell_type": "code",
      "execution_count": null,
      "metadata": {
        "_cell_guid": "43f4a2e6-6b02-749f-1d31-e3ec3618b730"
      },
      "outputs": [],
      "source": [
        "print(\"auc score:\",metrics.roc_auc_score(test_y,predictions[:,1]))\n",
        "print(\"accuracy score:\",metrics.accuracy_score(test_y,clf.predict(test_X)))"
      ]
    }
  ],
  "metadata": {
    "_change_revision": 0,
    "_is_fork": false,
    "kernelspec": {
      "display_name": "Python 3",
      "language": "python",
      "name": "python3"
    },
    "language_info": {
      "codemirror_mode": {
        "name": "ipython",
        "version": 3
      },
      "file_extension": ".py",
      "mimetype": "text/x-python",
      "name": "python",
      "nbconvert_exporter": "python",
      "pygments_lexer": "ipython3",
      "version": "3.6.0"
    }
  },
  "nbformat": 4,
  "nbformat_minor": 0
}