{
  "cells": [
    {
      "cell_type": "code",
      "execution_count": null,
      "metadata": {
        "_cell_guid": "c70d99ba-c903-3082-0aa7-289609bf2995"
      },
      "outputs": [],
      "source": [
        "# This Python 3 environment comes with many helpful analytics libraries installed\n",
        "# It is defined by the kaggle/python docker image: https://github.com/kaggle/docker-python\n",
        "# For example, here's several helpful packages to load in \n",
        "\n",
        "import numpy as np # linear algebra\n",
        "import pandas as pd # data processing, CSV file I/O (e.g. pd.read_csv)\n",
        "from sklearn.preprocessing import LabelEncoder\n",
        "from sklearn.cross_validation import StratifiedShuffleSplit\n",
        "# Input data files are available in the \"../input/\" directory.\n",
        "# For example, running this (by clicking run or pressing Shift+Enter) will list the files in the input directory\n",
        "\n",
        "from subprocess import check_output\n",
        "print(check_output([\"ls\", \"../input\"]).decode(\"utf8\"))\n",
        "train = pd.read_csv('../input/train.csv')\n",
        "test = pd.read_csv('../input/test.csv')\n",
        "# Any results you write to the current directory are saved as output."
      ]
    },
    {
      "cell_type": "code",
      "execution_count": null,
      "metadata": {
        "_cell_guid": "7c3d2528-f6fd-a9ce-ec65-5adaacd3fcf0"
      },
      "outputs": [],
      "source": [
        "def encode(train, test):\n",
        "\tle = LabelEncoder().fit(train.species) \n",
        "\tlabels = le.transform(train.species)           # encode species strings\n",
        "\tclasses = list(le.classes_)                    # save column names for submission\n",
        "\ttest_ids = test.id                             # save test ids for submission\n",
        "    \n",
        "\ttrain = train.drop(['species', 'id'], axis=1)  \n",
        "\ttest = test.drop(['id'], axis=1)\n",
        "    \n",
        "\treturn train, labels, test, test_ids, classes\n",
        "\n",
        "train, labels, test, test_ids, classes = encode(train, test)\n",
        "\n",
        "train.head(1)"
      ]
    },
    {
      "cell_type": "code",
      "execution_count": null,
      "metadata": {
        "_cell_guid": "b9b807d2-093d-5242-bcf8-eaaf70edc142"
      },
      "outputs": [],
      "source": [
        "sss = StratifiedShuffleSplit(labels, 10, test_size=0.2, random_state=23)\n",
        "for train_index, test_index in sss:\n",
        "\tX_train, X_test = train.values[train_index], train.values[test_index]\n",
        "\ty_train, y_test = labels[train_index], labels[test_index]"
      ]
    },
    {
      "cell_type": "code",
      "execution_count": null,
      "metadata": {
        "_cell_guid": "2a4bafa5-316c-e53e-e769-e706dd1c348d"
      },
      "outputs": [],
      "source": [
        "from sklearn.metrics import accuracy_score, log_loss\n",
        "from sklearn.ensemble import RandomForestClassifier\n",
        "from sklearn.calibration import CalibratedClassifierCV as cc"
      ]
    },
    {
      "cell_type": "code",
      "execution_count": null,
      "metadata": {
        "_cell_guid": "cd20e036-da21-c07d-a94d-aac51ba57c0f"
      },
      "outputs": [],
      "source": [
        "clf = RandomForestClassifier(n_estimators=1000)\n",
        "clf = cc(clf, cv=3, method='isotonic')\n",
        "clf.fit(train, labels)"
      ]
    },
    {
      "cell_type": "code",
      "execution_count": null,
      "metadata": {
        "_cell_guid": "0774ec82-abe5-eaa5-e28f-421e666aced0"
      },
      "outputs": [],
      "source": [
        "predictions = clf.predict_proba(test)\n",
        "np.shape(predictions)"
      ]
    },
    {
      "cell_type": "code",
      "execution_count": null,
      "metadata": {
        "_cell_guid": "cf68885a-c243-42e1-1466-b0a0a7b5f59e"
      },
      "outputs": [],
      "source": [
        "sub = pd.DataFrame(predictions, columns=classes)\n",
        "sub.insert(0, 'id', test_ids)\n",
        "sub.reset_index()\n",
        "sub.to_csv('submit.csv', index = False)\n",
        "sub.head() "
      ]
    }
  ],
  "metadata": {
    "_change_revision": 0,
    "_is_fork": false,
    "kernelspec": {
      "display_name": "Python 3",
      "language": "python",
      "name": "python3"
    },
    "language_info": {
      "codemirror_mode": {
        "name": "ipython",
        "version": 3
      },
      "file_extension": ".py",
      "mimetype": "text/x-python",
      "name": "python",
      "nbconvert_exporter": "python",
      "pygments_lexer": "ipython3",
      "version": "3.5.2"
    }
  },
  "nbformat": 4,
  "nbformat_minor": 0
}