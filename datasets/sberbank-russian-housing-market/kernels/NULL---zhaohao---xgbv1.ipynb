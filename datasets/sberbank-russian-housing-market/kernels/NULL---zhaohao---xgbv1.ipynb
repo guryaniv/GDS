{
  "cells": [
    {
      "cell_type": "markdown",
      "metadata": {
        "_cell_guid": "2bcb6799-bc2e-d9a9-8df2-1daef164a0db"
      },
      "source": [
        "### This is the first look at xgb in this competition."
      ]
    },
    {
      "cell_type": "code",
      "execution_count": null,
      "metadata": {
        "_cell_guid": "8f3997d4-ef19-7355-aaae-38359a7d1494"
      },
      "outputs": [],
      "source": [
        "import numpy as np\n",
        "import pandas as pd\n",
        "import matplotlib.pyplot as plt\n",
        "import re\n",
        "from sklearn import model_selection, preprocessing\n",
        "from sklearn.model_selection import cross_val_score, train_test_split\n",
        "%matplotlib inline\n",
        "import xgboost as xgb\n",
        "import seaborn as sns"
      ]
    },
    {
      "cell_type": "code",
      "execution_count": null,
      "metadata": {
        "_cell_guid": "f3c742dc-137c-cd72-39ab-2da4e9022ca9"
      },
      "outputs": [],
      "source": [
        "total = pd.read_csv('../input/train.csv')\n",
        "test = pd.read_csv('../input/test.csv')\n",
        "macro = pd.read_csv('../input/macro.csv')\n",
        "\n",
        "df_total = pd.merge(total, macro, on='timestamp', how='left')\n",
        "df_total.drop(['id','price_doc'], axis = 1, inplace = True)\n",
        "Ytotal = np.log1p(total['price_doc']).as_matrix()\n",
        "\n",
        "df_test = pd.merge(test, macro, on='timestamp', how='left')\n",
        "df_test.drop('id', axis = 1, inplace = True)\n",
        "df_all = pd.concat([df_total,df_test], keys = ['total','test'])\n",
        "\n",
        "print ('df_total: ', df_total.shape)\n",
        "print ('df_test: ', df_test.shape)\n",
        "print ('macro: ', macro.shape)\n",
        "print ('df_all: ', df_all.shape)"
      ]
    },
    {
      "cell_type": "code",
      "execution_count": null,
      "metadata": {
        "_cell_guid": "10d83c22-4328-a58d-552b-036e7db08033"
      },
      "outputs": [],
      "source": [
        "def missingPattern(df):\n",
        "    numGroup = list(df._get_numeric_data().columns)\n",
        "    catGroup = list(set(df.columns) - set(numGroup))\n",
        "    print('Total categorical/numerical variables are %s/%s' % (len(catGroup), len(numGroup)))\n",
        "    \n",
        "    #missing data\n",
        "    n = df.shape[0]\n",
        "    count = df.isnull().sum()\n",
        "    percent = 1.0 * count / n\n",
        "    dtype = df.dtypes\n",
        "    # correlation\n",
        "    missing_data = pd.concat([count, percent,dtype], axis=1, keys=['Count', 'Percent', 'Type'])\n",
        "    missing_data.sort_values('Count', ascending = False, inplace = True)\n",
        "    missing_data = missing_data[missing_data['Count'] > 0]\n",
        "    print('Total missing columns is %s' % len(missing_data))\n",
        "\n",
        "    return numGroup, catGroup, missing_data\n",
        "\n",
        "# numGroup, catGroup, missing_data = missingPattern(df_all)\n",
        "# missing_data"
      ]
    },
    {
      "cell_type": "code",
      "execution_count": null,
      "metadata": {
        "_cell_guid": "3013e11b-d36e-b4c5-302a-2b966ab8794c"
      },
      "outputs": [],
      "source": [
        "drop_list = ['timestamp']\n",
        "for i in drop_list:\n",
        "    df_all.drop(i, axis = 1, inplace = True)\n",
        "\n",
        "    \n",
        "numGroup,catGroup,_ = missingPattern(df_all)\n",
        "\n",
        "# self-define numGroup\n",
        "# numGroup = numFeats\n",
        "\n",
        "df_total_num = df_all.ix['total',numGroup]\n",
        "df_test_num = df_all.ix['test',numGroup]\n",
        "# df_test_num.drop('price_doc', axis = 1, inplace = True)\n",
        "# df_test_num['id'] = test['id']\n",
        "df_total_cat = df_all.ix['total',catGroup]\n",
        "df_test_cat = df_all.ix['test',catGroup]\n",
        "print('Current training numerical variables count is %d '  %(df_total_num.shape[1]))\n",
        "print('Current training categorical variables count is %d '  %(df_total_cat.shape[1]))\n",
        "print('Current test numerical variables count is %d '  %(df_test_num.shape[1]))\n",
        "print('Current test categorical variables count is %d '  %(df_test_cat.shape[1]))"
      ]
    },
    {
      "cell_type": "code",
      "execution_count": null,
      "metadata": {
        "_cell_guid": "ad90f5c9-2535-b1d7-20c3-1a722576a30b"
      },
      "outputs": [],
      "source": [
        "# one-hot encoding for categorical variables\n",
        "\n",
        "df_concat_cat = pd.concat([df_total_cat,df_test_cat],keys = ['total','test'])\n",
        "df_total_cat = pd.get_dummies(df_concat_cat).ix['total',:]\n",
        "df_test_cat = pd.get_dummies(df_concat_cat).ix['test',:]\n",
        "\n",
        "\n",
        "print('After one-hot encoding, total training cat variables are %d' %(df_total_cat.shape[1]))\n",
        "print('After one-hot encoding, total test cat variables are %d' %(df_test_cat.shape[1]))\n",
        "\n"
      ]
    },
    {
      "cell_type": "code",
      "execution_count": null,
      "metadata": {
        "_cell_guid": "63eb8af2-b9d6-a734-bb2d-68941e4c14fc"
      },
      "outputs": [],
      "source": [
        "Xtrain = pd.concat([df_total_num,df_total_cat])\n",
        "Xtest = pd.concat([df_test_num,df_test_cat])\n",
        "\n",
        "dtrain = xgb.DMatrix(Xtrain, Ytotal)\n",
        "dtest = xgb.DMatrix(Xtest)"
      ]
    },
    {
      "cell_type": "code",
      "execution_count": null,
      "metadata": {
        "_cell_guid": "db63001d-8b99-fd8f-a293-f379d46cee23"
      },
      "outputs": [],
      "source": [
        "xgb_params = {\n",
        "    'eta': 0.05,\n",
        "    'max_depth': 5,\n",
        "    'subsample': 0.7,\n",
        "    'colsample_bytree': 0.7,\n",
        "    'objective': 'reg:linear',\n",
        "    'eval_metric': 'rmse',\n",
        "    'silent': 1\n",
        "}\n",
        "cv_output = xgb.cv(xgb_params, dtrain, num_boost_round=1000, early_stopping_rounds=20,\n",
        "    verbose_eval=50, show_stdv=False)\n",
        "cv_output[['train-rmse-mean', 'test-rmse-mean']].plot()"
      ]
    },
    {
      "cell_type": "code",
      "execution_count": null,
      "metadata": {
        "_cell_guid": "82845290-6690-0eb6-b687-aed31031050d"
      },
      "outputs": [],
      "source": [
        "num_boost_rounds = len(cv_output)\n",
        "model = xgb.train(dict(xgb_params, silent=0), dtrain, num_boost_round= num_boost_rounds)"
      ]
    },
    {
      "cell_type": "code",
      "execution_count": null,
      "metadata": {
        "_cell_guid": "536e3414-5246-cdb0-abb8-14bd52709d0e"
      },
      "outputs": [],
      "source": [
        "fig, ax = plt.subplots(1, 1, figsize=(8, 13))\n",
        "xgb.plot_importance(model, max_num_features=50, height=0.5, ax=ax)"
      ]
    },
    {
      "cell_type": "markdown",
      "metadata": {
        "_cell_guid": "c1af6d6e-dea2-e5b1-9220-2a78ebc0cb13"
      },
      "source": [
        "### Prediction"
      ]
    },
    {
      "cell_type": "code",
      "execution_count": null,
      "metadata": {
        "_cell_guid": "88847bea-064a-0c9a-a910-1929711928ea"
      },
      "outputs": [],
      "source": [
        "testId = list(test['id'])\n",
        "Ypred = model.predict(dtest)\n",
        "output = pd.DataFrame({'id': testId, 'price_doc': Ypred})\n",
        "output.head()\n",
        "output.to_csv('xgb1Sub.csv', index=False)"
      ]
    }
  ],
  "metadata": {
    "_change_revision": 0,
    "_is_fork": false,
    "kernelspec": {
      "display_name": "Python 3",
      "language": "python",
      "name": "python3"
    },
    "language_info": {
      "codemirror_mode": {
        "name": "ipython",
        "version": 3
      },
      "file_extension": ".py",
      "mimetype": "text/x-python",
      "name": "python",
      "nbconvert_exporter": "python",
      "pygments_lexer": "ipython3",
      "version": "3.6.0"
    }
  },
  "nbformat": 4,
  "nbformat_minor": 0
}