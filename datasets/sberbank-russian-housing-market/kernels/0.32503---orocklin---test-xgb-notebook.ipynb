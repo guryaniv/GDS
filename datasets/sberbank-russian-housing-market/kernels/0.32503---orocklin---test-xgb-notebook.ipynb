{
  "metadata": {
    "kernelspec": {
      "display_name": "Python 3",
      "language": "python",
      "name": "python3"
    },
    "language_info": {
      "codemirror_mode": {
        "name": "ipython",
        "version": 3
      },
      "file_extension": ".py",
      "mimetype": "text/x-python",
      "name": "python",
      "nbconvert_exporter": "python",
      "pygments_lexer": "ipython3",
      "version": "3.6.0"
    }
  },
  "nbformat": 4,
  "nbformat_minor": 0,
  "cells": [
    {
      "cell_type": "markdown",
      "source": "Test XGB Notebook",
      "execution_count": null,
      "outputs": [],
      "metadata": {
        "_cell_guid": "459e6684-4107-a00e-bc4c-2911b3629f87",
        "_active": false,
        "collapsed": false
      }
    },
    {
      "cell_type": "code",
      "source": "import numpy as np # linear algebra\nimport pandas as pd # data processing, CSV file I/O (e.g. pd.read_csv)\nimport matplotlib.pyplot as plt\nimport seaborn as sns\nfrom sklearn import model_selection, preprocessing\nimport xgboost as xgb\ncolor = sns.color_palette()\n\n%matplotlib inline\n\npd.options.mode.chained_assignment = None  # default='warn'\npd.set_option('display.max_columns', 500)",
      "execution_count": 1,
      "outputs": [],
      "metadata": {
        "_cell_guid": "acb5e7a2-cab5-5ccd-38d1-98b65057f28e",
        "_active": false
      },
      "execution_state": "idle"
    },
    {
      "cell_type": "markdown",
      "source": "First let us import the train file and get some idea about the data.",
      "outputs": [],
      "metadata": {
        "_cell_guid": "059e37bb-e6bf-c693-bb5d-08db84500fb5",
        "_active": false
      }
    },
    {
      "cell_type": "code",
      "source": "train_df = pd.read_csv(\"../input/train.csv\", parse_dates=['timestamp'])\ntest_df = pd.read_csv(\"../input/test.csv\", parse_dates=['timestamp'])\nmacro_df = pd.read_csv(\"../input/macro.csv\", parse_dates=['timestamp'])\n\ntrain_df = train_df.merge(macro_df, on='timestamp')\ntest_df = test_df.merge(macro_df, on='timestamp')",
      "execution_count": 2,
      "outputs": [],
      "metadata": {
        "_cell_guid": "0417a262-92bb-9d40-b3e1-3833bcd380be",
        "_active": false,
        "collapsed": false
      },
      "execution_state": "idle"
    },
    {
      "cell_type": "code",
      "source": "train_df.head()",
      "execution_count": 3,
      "outputs": [],
      "metadata": {
        "_cell_guid": "b7a3e961-ddba-68e9-5471-22dded611c42",
        "_active": false
      },
      "execution_state": "idle"
    },
    {
      "cell_type": "code",
      "source": "test_df.head()",
      "execution_count": 4,
      "outputs": [],
      "metadata": {
        "_cell_guid": "b28a345c-9064-8f4c-2c5f-d0e9897b7e43",
        "_active": false,
        "collapsed": false
      },
      "execution_state": "idle"
    },
    {
      "cell_type": "markdown",
      "source": "Adding synthetic engineered features",
      "execution_count": null,
      "outputs": [],
      "metadata": {
        "_cell_guid": "1a068be0-c3d6-7e2c-12f6-32d2b98b33f2",
        "_active": false
      }
    },
    {
      "cell_type": "code",
      "source": "# Add month-year\nmonth_year = (train_df.timestamp.dt.month + train_df.timestamp.dt.year * 100)\nmonth_year_cnt_map = month_year.value_counts().to_dict()\ntrain_df['month_year_cnt'] = month_year.map(month_year_cnt_map)\nmonth_year = (test_df.timestamp.dt.month + test_df.timestamp.dt.year * 100)\nmonth_year_cnt_map = month_year.value_counts().to_dict()\ntest_df['month_year_cnt'] = month_year.map(month_year_cnt_map)\n\n\n# Add week-year count\nweek_year = (train_df.timestamp.dt.weekofyear + train_df.timestamp.dt.year * 100)\nweek_year_cnt_map = week_year.value_counts().to_dict()\ntrain_df['week_year_cnt'] = week_year.map(week_year_cnt_map)\nweek_year = (test_df.timestamp.dt.weekofyear + test_df.timestamp.dt.year * 100)\nweek_year_cnt_map = week_year.value_counts().to_dict()\ntest_df['week_year_cnt'] = week_year.map(week_year_cnt_map)\n\n\n# Add month and day-of-week\ntrain_df['month'] = train_df.timestamp.dt.month\ntrain_df['dow'] = train_df.timestamp.dt.dayofweek\ntest_df['month'] = test_df.timestamp.dt.month\ntest_df['dow'] = test_df.timestamp.dt.dayofweek\n\n\ntrain_df['rel_floor'] = train_df['floor'] / train_df['max_floor'].astype(float)\ntrain_df['rel_kitch_sq'] = train_df['kitch_sq'] / train_df['life_sq'].astype(float)\ntrain_df['rel_life_full'] = train_df['life_sq'] / train_df['full_sq'].astype(float)\n\ntrain_df.drop([\"child_on_acc_pre_school\"], axis=1, inplace=True)\n\ntest_df['rel_floor'] = test_df['floor'] / test_df['max_floor'].astype(float)\ntest_df['rel_kitch_sq'] = test_df['kitch_sq'] / test_df['life_sq'].astype(float)\ntest_df['rel_life_full'] = test_df['life_sq'] / test_df['full_sq'].astype(float)\n\ntest_df.drop([\"child_on_acc_pre_school\"], axis=1, inplace=True)",
      "execution_count": 5,
      "outputs": [],
      "metadata": {
        "_cell_guid": "ab082363-c8c5-3ad0-ed33-9dcf702134ab",
        "_active": false,
        "collapsed": false
      },
      "execution_state": "idle"
    },
    {
      "cell_type": "code",
      "source": "for f in train_df.columns:\n    if train_df[f].dtype=='object':\n        lbl = preprocessing.LabelEncoder()\n        lbl.fit(list(train_df[f].values)) \n        train_df[f] = lbl.transform(list(train_df[f].values))\n        \ntrain_y = train_df.price_doc.values\ntrain_X = train_df.drop([\"id\", \"timestamp\", \"price_doc\"], axis=1)\n\nxgb_params = {\n    'eta': 0.05,\n    'max_depth': 8,\n    'subsample': 0.7,\n    'colsample_bytree': 0.7,\n    'objective': 'reg:linear',\n    'eval_metric': 'rmse',\n    'silent': 1\n}\ndtrain = xgb.DMatrix(train_X, train_y, feature_names=train_X.columns.values)\nmodel = xgb.train(dict(xgb_params, silent=0), dtrain, num_boost_round=400)\n\n# plot the important features #\nfig, ax = plt.subplots(figsize=(12,25))\nxgb.plot_importance(model, max_num_features=30, height=0.8, ax=ax)\nplt.show()",
      "execution_count": 6,
      "outputs": [],
      "metadata": {
        "_cell_guid": "5a214a3a-cb3f-71ad-a6e0-a0b4695d08eb",
        "_active": false,
        "collapsed": false
      },
      "execution_state": "idle"
    },
    {
      "cell_type": "markdown",
      "source": "So the top 5 variables and their description from the data dictionary are:\n\n 1. full_sq - total area in square meters, including loggias, balconies and other non-residential areas\n 2. life_sq - living area in square meters, excluding loggias, balconies and other non-residential areas\n 3. floor - for apartments, floor of the building\n 4. build_year - year built\n 5. max_floor - number of floors in the building",
      "outputs": [],
      "metadata": {
        "_cell_guid": "a13139e8-e4b1-4a40-08db-1e7c61d1283e",
        "_active": false
      }
    },
    {
      "cell_type": "markdown",
      "source": "Trying prediction",
      "execution_count": null,
      "outputs": [],
      "metadata": {
        "_cell_guid": "4c94838d-2ee5-658a-e762-c98007cbf501",
        "_active": false
      }
    },
    {
      "cell_type": "code",
      "source": "for f in test_df.columns:\n    if test_df[f].dtype=='object':\n        print (f)\n        lbl = preprocessing.LabelEncoder()\n        lbl.fit(list(test_df[f].values))\n        print (test_df[f].values)\n        test_df[f] = lbl.transform(list(test_df[f].values))\n\n",
      "execution_count": 7,
      "outputs": [],
      "metadata": {
        "_cell_guid": "f269aa06-5a2f-e93d-c06f-13f939bdc2ee",
        "_active": false
      },
      "execution_state": "idle"
    },
    {
      "cell_type": "code",
      "source": "test_df.columns\nid_test = test_df[\"id\"]\n",
      "execution_count": 8,
      "outputs": [],
      "metadata": {
        "_cell_guid": "bda1ff61-5b43-331b-d546-0552c56a2e6b",
        "_active": false
      },
      "execution_state": "idle"
    },
    {
      "cell_type": "code",
      "source": "test_X = test_df.drop([\"id\",\"timestamp\"], axis=1)",
      "execution_count": 9,
      "outputs": [],
      "metadata": {
        "_cell_guid": "85389ab9-5e96-85fa-92a8-c5df11894224",
        "_active": false
      },
      "execution_state": "idle"
    },
    {
      "cell_type": "code",
      "source": "dtest = xgb.DMatrix(test_X, feature_names=test_X.columns.values)\n\ny_pred = model.predict(dtest)\n\nres_df = pd.DataFrame({'id': id_test, 'price_doc': y_pred})\n\nres_df.to_csv('result.csv', index=False)",
      "execution_count": 12,
      "outputs": [],
      "metadata": {
        "_cell_guid": "887c8154-4b8f-8f27-b128-3e1e0bd1e793",
        "_active": true,
        "collapsed": false
      },
      "execution_state": "idle"
    }
  ]
}