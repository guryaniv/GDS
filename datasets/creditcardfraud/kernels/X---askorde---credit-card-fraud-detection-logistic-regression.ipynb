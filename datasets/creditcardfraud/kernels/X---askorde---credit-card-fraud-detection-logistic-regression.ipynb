{
  "cells": [
    {
      "cell_type": "markdown",
      "metadata": {
        "_cell_guid": "e380d59a-3b12-634c-2a1f-c2171aa23df5"
      },
      "source": ""
    },
    {
      "cell_type": "code",
      "execution_count": null,
      "metadata": {
        "_cell_guid": "3e1925a0-b00e-3350-a9a3-aab1d1619f48"
      },
      "outputs": [],
      "source": [
        "# This Python 3 environment comes with many helpful analytics libraries installed\n",
        "# It is defined by the kaggle/python docker image: https://github.com/kaggle/docker-python\n",
        "# For example, here's several helpful packages to load in \n",
        "\n",
        "import matplotlib.pyplot as plt # side-stepping mpl backend\n",
        "import matplotlib.gridspec as gridspec # subplots\n",
        "#import mpld3 as mpl\n",
        "\n",
        "import numpy as np\n",
        "from sklearn import preprocessing, metrics\n",
        "from sklearn.linear_model import LogisticRegression\n",
        "from sklearn.model_selection import KFold, train_test_split, cross_val_score\n",
        "import pandas as pd\n",
        "# Input data files are available in the \"../input/\" directory.\n",
        "# For example, running this (by clicking run or pressing Shift+Enter) will list the files in the input directory\n",
        "\n",
        "from subprocess import check_output\n",
        "print(check_output([\"ls\", \"../input\"]).decode(\"utf8\"))\n",
        "\n",
        "# Any results you write to the current directory are saved as output."
      ]
    },
    {
      "cell_type": "code",
      "execution_count": null,
      "metadata": {
        "_cell_guid": "0bf7fd03-a754-1734-a089-4ae5355d3d0f"
      },
      "outputs": [],
      "source": [
        "df = pd.read_csv(\"../input/creditcard.csv\",header = 0)\n",
        "df.head()"
      ]
    },
    {
      "cell_type": "code",
      "execution_count": null,
      "metadata": {
        "_cell_guid": "cb4981fb-9b16-edea-02df-a07b8bb16f9c"
      },
      "outputs": [],
      "source": [
        "df.describe()"
      ]
    },
    {
      "cell_type": "code",
      "execution_count": null,
      "metadata": {
        "_cell_guid": "ea756768-8e88-a0b0-4c19-0a62e3262bf0"
      },
      "outputs": [],
      "source": [
        "count_classes = pd.value_counts(df['Class'], sort = True).sort_index()\n",
        "count_classes.plot(kind = 'bar')\n",
        "plt.title(\"Fraud class histogram\")\n",
        "plt.xlabel(\"Class\")\n",
        "plt.ylabel(\"Frequency\")"
      ]
    },
    {
      "cell_type": "code",
      "execution_count": null,
      "metadata": {
        "_cell_guid": "3497cda9-b5d6-cde7-272b-d025a70f72e3"
      },
      "outputs": [],
      "source": [
        "traindf, testdf = train_test_split(df, test_size = 0.3)"
      ]
    },
    {
      "cell_type": "code",
      "execution_count": null,
      "metadata": {
        "_cell_guid": "f029a935-6393-a3d1-854c-9808ae8a8a7c"
      },
      "outputs": [],
      "source": [
        "def classification_model(model, data, predictors, outcome):\n",
        "    scores = cross_val_score(model, data[predictors],data[outcome],cv = 5, scoring = 'accuracy')\n",
        "    print(scores)\n",
        "    print(\"Accuracy: %0.2f (+/- %0.2f)\" % (scores.mean(), scores.std() * 2))\n",
        " \n"
      ]
    },
    {
      "cell_type": "code",
      "execution_count": null,
      "metadata": {
        "_cell_guid": "d96275e8-7a73-42ed-beb6-bb885a210b56"
      },
      "outputs": [],
      "source": [
        "features = df.columns[0:30]\n",
        "outcome = 'Class'\n",
        "features"
      ]
    },
    {
      "cell_type": "code",
      "execution_count": null,
      "metadata": {
        "_cell_guid": "68d89c0f-7a96-2a62-7944-2058c94f9499"
      },
      "outputs": [],
      "source": [
        "classification_model(LogisticRegression(penalty = 'l2'), traindf, features, outcome)"
      ]
    },
    {
      "cell_type": "code",
      "execution_count": null,
      "metadata": {
        "_cell_guid": "46e982a7-368a-0982-4e5e-2928ad550aee"
      },
      "outputs": [],
      "source": [
        "model = LogisticRegression(penalty = 'l2')\n",
        "model.fit(traindf[features],traindf[outcome])"
      ]
    },
    {
      "cell_type": "code",
      "execution_count": null,
      "metadata": {
        "_cell_guid": "0f3954f5-8497-e493-b887-606720121ff6"
      },
      "outputs": [],
      "source": [
        "predictions = model.predict(testdf[features])\n",
        "accuracy = metrics.accuracy_score(predictions,testdf[outcome])\n",
        "accuracy"
      ]
    }
  ],
  "metadata": {
    "_change_revision": 0,
    "_is_fork": false,
    "kernelspec": {
      "display_name": "Python 3",
      "language": "python",
      "name": "python3"
    },
    "language_info": {
      "codemirror_mode": {
        "name": "ipython",
        "version": 3
      },
      "file_extension": ".py",
      "mimetype": "text/x-python",
      "name": "python",
      "nbconvert_exporter": "python",
      "pygments_lexer": "ipython3",
      "version": "3.6.0"
    }
  },
  "nbformat": 4,
  "nbformat_minor": 0
}