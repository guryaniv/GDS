{
  "cells": [
    {
      "cell_type": "markdown",
      "metadata": {
        "_cell_guid": "f76669fc-302e-6ead-82af-6fe974124cf0"
      },
      "source": [
        "#Handling Data"
      ]
    },
    {
      "cell_type": "markdown",
      "metadata": {
        "_cell_guid": "ea1217db-7ddc-3755-c8f1-3abe48251008"
      },
      "source": [
        "The data consists of many 2D \"slices,\" and we have got CT scans of about 1500 patients and also we have another file contains the labels for this data."
      ]
    },
    {
      "cell_type": "code",
      "execution_count": null,
      "metadata": {
        "_cell_guid": "b968a208-9dfe-b48c-8d41-7abfd1192f01"
      },
      "outputs": [],
      "source": [
        "import dicom # Scans are in \"dicom\" format\n",
        "import os # Do directory operations\n",
        "import pandas as pd # Nice for data analysis\n",
        "\n",
        "data_dir = '../input/sample_images/'\n",
        "patients = os.listdir(data_dir)\n",
        "labels_df = pd.read_csv('../input/stage1_labels.csv', index_col=0)\n",
        "\n",
        "labels_df"
      ]
    },
    {
      "cell_type": "code",
      "execution_count": null,
      "metadata": {
        "_cell_guid": "5f14c324-a88c-84ee-73be-c764f3e11ea5"
      },
      "outputs": [],
      "source": [
        "for patient in patients[:1]:\n",
        "    label = labels_df.get_value(patient, 'cancer') #I want to get the value for cancer column\n",
        "    path = data_dir + patient #Inside the path we have all dicom files.\n",
        "    slices = [dicom.read_file(path + '/' + s) for s in os.listdir(path)]\n",
        "    slices.sort(key = lambda x: int(x.ImagePositionPatient[2]))\n",
        "    print(len(slices),label)\n",
        "    print(slices[0])"
      ]
    },
    {
      "cell_type": "code",
      "execution_count": null,
      "metadata": {
        "_cell_guid": "c021133a-456e-6bec-3ade-85cf68b60007"
      },
      "outputs": [],
      "source": [
        "len(patients) #How much data do we have in this kernal"
      ]
    },
    {
      "cell_type": "code",
      "execution_count": null,
      "metadata": {
        "_cell_guid": "758b1f74-0bdb-8f70-2767-617b32c2937d"
      },
      "outputs": [],
      "source": [
        "for patient in patients[:5]:\n",
        "    label = labels_df.get_value(patient, 'cancer')\n",
        "    path = data_dir + patient\n",
        "    \n",
        "    slices = [dicom.read_file(path + '/' + s) for s in os.listdir(path)]\n",
        "    slices.sort(key = lambda x: int(x.ImagePositionPatient[2]))\n",
        "    print(slices[0].pixel_array.shape, len(slices)) \n",
        "    "
      ]
    },
    {
      "cell_type": "markdown",
      "metadata": {
        "_cell_guid": "df97e761-fd41-6d7b-0606-5c6ea981aa8f"
      },
      "source": [
        "As we can see everything is 512* 521 but there are different numbers of slices so, the depth is different for all these scans. For CNN the input data must be all the same size."
      ]
    },
    {
      "cell_type": "code",
      "execution_count": null,
      "metadata": {
        "_cell_guid": "4e6f9e73-d8aa-f60d-e0ea-664ea2e64c7f"
      },
      "outputs": [],
      "source": [
        "import matplotlib.pyplot as plt\n",
        "\n",
        "for patient in patients[:1]:\n",
        "    label = labels_df.get_value(patient, 'cancer')\n",
        "    path = data_dir + patient\n",
        "    \n",
        "    slices = [dicom.read_file(path + '/' + s) for s in os.listdir(path)]\n",
        "    slices.sort(key = lambda x: int(x.ImagePositionPatient[2]))\n",
        "    plt.imshow(slices[0].pixel_array)\n",
        "    plt.show() \n",
        "    "
      ]
    },
    {
      "cell_type": "code",
      "execution_count": null,
      "metadata": {
        "_cell_guid": "6bf5ee5b-5bd9-b6d4-40f1-f57dfd8ab322"
      },
      "outputs": [],
      "source": [
        "#I just want to see many slices.\n",
        "import cv2\n",
        "import numpy as np\n",
        "\n",
        "IMG_PX_SIZE = 150 #for an example\n",
        "\n",
        "for patient in patients[:1]:\n",
        "    label = labels_df.get_value(patient, 'cancer')\n",
        "    path = data_dir + patient\n",
        "    slices = [dicom.read_file(path + '/' + s) for s in os.listdir(path)]\n",
        "    slices.sort(key = lambda x: int(x.ImagePositionPatient[2]))\n",
        "    fig = plt.figure()\n",
        "    for num,each_slice in enumerate(slices[:12]): #Lets see the first 12 slices\n",
        "        y = fig.add_subplot(3,4,num+1)\n",
        "        new_img = cv2.resize(np.array(each_slice.pixel_array),(IMG_PX_SIZE,IMG_PX_SIZE))#pixel array is already 2D array I am going to re-size this array \"(each_slice.pixel_array)\" to this dimention \"(IMG_PX_SIZE,IMG_PX_SIZE)\"\n",
        "        y.imshow(new_img)\n",
        "    plt.show()\n",
        "    "
      ]
    },
    {
      "cell_type": "markdown",
      "metadata": {
        "_cell_guid": "0207b291-caec-e687-462d-b68d08c0df34"
      },
      "source": [
        "I have to resize the depth part of the element, what I mentioned above. My idea is to take the image and slices and put them into a list of slices and chunk that list of slices into a fixed number of chunks of slices and then just average those chunks\n",
        "**The question is how should I chunk a list into a list of lists?**"
      ]
    },
    {
      "cell_type": "code",
      "execution_count": null,
      "metadata": {
        "_cell_guid": "3fb95aee-05b1-16e0-cef3-89d502183578"
      },
      "outputs": [],
      "source": [
        "import math\n",
        "\n",
        "def chunks(l, n):\n",
        "    for i in range(0, len(l), n):\n",
        "        yield l[i:i + n]\n",
        "\n",
        "def mean(l):\n",
        "    return sum(l) / len(l)\n",
        "\n",
        "IMG_PX_SIZE = 150\n",
        "HM_SLICES = 20\n",
        "\n",
        "data_dir = '../input/sample_images/'\n",
        "patients = os.listdir(data_dir)\n",
        "labels_df = pd.read_csv('../input/stage1_labels.csv', index_col=0)\n",
        "\n",
        "for patient in patients[:5]:\n",
        "    try:\n",
        "        label = labels_df.get_value(patient, 'cancer')\n",
        "        path = data_dir + patient\n",
        "        slices = [dicom.read_file(path + '/' + s) for s in os.listdir(path)]\n",
        "        slices.sort(key = lambda x: int(x.ImagePositionPatient[2]))\n",
        "        new_slices = []\n",
        "        slices = [cv2.resize(np.array(each_slice.pixel_array),(IMG_PX_SIZE,IMG_PX_SIZE)) for eeach_slice in slices]\n",
        "        chunk_sizes = math.ceil(len(slices) / HM_SLICES)\n",
        "        \n",
        "        for slice_chunk in chunks(slices, chunk_sizes):\n",
        "            slice_chunk = list(map(mean, zip(*slice_chunk)))\n",
        "            new_slices.append(slice_chunk)\n",
        "\n",
        "        print(len(slices), len(new_slices))\n",
        "    except:\n",
        "        # some patients don't have labels, so we'll just pass on this for now\n",
        "        pass"
      ]
    },
    {
      "cell_type": "code",
      "execution_count": null,
      "metadata": {
        "_cell_guid": "9c9879e1-1d54-60c4-5c2d-ad9dcd87e7ff"
      },
      "outputs": [],
      "source": [
        "for patient in patients[:5]:\n",
        "    try:\n",
        "        label = labels_df.get_value(patient, 'cancer')\n",
        "        path = data_dir + patient\n",
        "        slices = [dicom.read_file(path + '/' + s) for s in os.listdir(path)]\n",
        "        slices.sort(key = lambda x: int(x.ImagePositionPatient[2]))\n",
        "        new_slices = []\n",
        "\n",
        "        slices = [cv2.resize(np.array(each_slice.pixel_array),(IMG_PX_SIZE,IMG_PX_SIZE)) for each_slice in slices]\n",
        "\n",
        "        chunk_sizes = math.ceil(len(slices) / HM_SLICES)\n",
        "\n",
        "\n",
        "        for slice_chunk in chunks(slices, chunk_sizes):\n",
        "            slice_chunk = list(map(mean, zip(*slice_chunk)))\n",
        "            new_slices.append(slice_chunk)\n",
        "\n",
        "        if len(new_slices) == HM_SLICES-1: # If this lenght is equal to how many slices - 1\n",
        "            new_slices.append(new_slices[-1]) # We have one more slices so we are going to take one more slices.\n",
        "\n",
        "        if len(new_slices) == HM_SLICES-2: # If it is negative 2 than do that one appand two slices.\n",
        "            new_slices.append(new_slices[-1])\n",
        "            new_slices.append(new_slices[-1])\n",
        "\n",
        "        if len(new_slices) == HM_SLICES+2: # If it is too big I am gonna take last chunkand averge it to the second slice\n",
        "            new_val = list(map(mean, zip(*[new_slices[HM_SLICES-1],new_slices[HM_SLICES],])))\n",
        "            del new_slices[HM_SLICES]\n",
        "            new_slices[HM_SLICES-1] = new_val\n",
        "\n",
        "        if len(new_slices) == HM_SLICES+1:\n",
        "            new_val = list(map(mean, zip(*[new_slices[HM_SLICES-1],new_slices[HM_SLICES],])))\n",
        "            del new_slices[HM_SLICES]\n",
        "            new_slices[HM_SLICES-1] = new_val\n",
        "\n",
        "        print(len(slices), len(new_slices))\n",
        "    except Exception as e:\n",
        "        # some patients are not labeled, but JIC we still want the error if something\n",
        "        # else is wrong with our code\n",
        "        print(str(e))"
      ]
    },
    {
      "cell_type": "code",
      "execution_count": null,
      "metadata": {
        "_cell_guid": "0ba5d3c1-69fa-59a1-bcba-8b0aeee98abc"
      },
      "outputs": [],
      "source": [
        "for patient in patients[:5]:\n",
        "    label = labels_df.get_value(patient, 'cancer')\n",
        "    path = data_dir + patient\n",
        "    slices = [dicom.read_file(path + '/' + s) for s in os.listdir(path)]\n",
        "    slices.sort(key = lambda x: int(x.ImagePositionPatient[2]))\n",
        "    new_slices = []\n",
        "\n",
        "    slices = [cv2.resize(np.array(each_slice.pixel_array),(IMG_PX_SIZE,IMG_PX_SIZE)) for each_slice in slices]\n",
        "    \n",
        "    chunk_sizes = math.ceil(len(slices) / HM_SLICES)\n",
        "    for slice_chunk in chunks(slices, chunk_sizes):\n",
        "        slice_chunk = list(map(mean, zip(*slice_chunk)))\n",
        "        new_slices.append(slice_chunk)\n",
        "\n",
        "    if len(new_slices) == HM_SLICES-1:\n",
        "        new_slices.append(new_slices[-1])\n",
        "\n",
        "    if len(new_slices) == HM_SLICES-2:\n",
        "        new_slices.append(new_slices[-1])\n",
        "        new_slices.append(new_slices[-1])\n",
        "\n",
        "    if len(new_slices) == HM_SLICES+2:\n",
        "        new_val = list(map(mean, zip(*[new_slices[HM_SLICES-1],new_slices[HM_SLICES],])))\n",
        "        del new_slices[HM_SLICES]\n",
        "        new_slices[HM_SLICES-1] = new_val\n",
        "        \n",
        "    if len(new_slices) == HM_SLICES+1:\n",
        "        new_val = list(map(mean, zip(*[new_slices[HM_SLICES-1],new_slices[HM_SLICES],])))\n",
        "        del new_slices[HM_SLICES]\n",
        "        new_slices[HM_SLICES-1] = new_val\n",
        "    fig = plt.figure()\n",
        "    for num,each_slice in enumerate(new_slices):\n",
        "        y = fig.add_subplot(4,5,num+1)\n",
        "        y.imshow(each_slice)\n",
        "    plt.show()"
      ]
    },
    {
      "cell_type": "markdown",
      "metadata": {
        "_cell_guid": "67392cc6-8ddb-b4e9-2bb3-ed7df0d3f083"
      },
      "source": [
        "As we can see these are patients. If there are tumors here we would be able to see them."
      ]
    },
    {
      "cell_type": "markdown",
      "metadata": {
        "_cell_guid": "c691782a-fa99-e3f0-e1e4-7fdf58819f11"
      },
      "source": [
        "#Preprocess the Data"
      ]
    },
    {
      "cell_type": "code",
      "execution_count": null,
      "metadata": {
        "_cell_guid": "d42ccb02-7f62-47b1-4934-267fbbac6893"
      },
      "outputs": [],
      "source": [
        "import numpy as np\n",
        "import pandas as pd\n",
        "import dicom\n",
        "import os\n",
        "import matplotlib.pyplot as plt\n",
        "import cv2\n",
        "import math\n",
        "\n",
        "IMG_SIZE_PX = 50\n",
        "SLICE_COUNT = 20\n",
        "\n",
        "def chunks(l, n):\n",
        "  \n",
        "    for i in range(0, len(l), n):\n",
        "        yield l[i:i + n]\n",
        "\n",
        "\n",
        "def mean(a):\n",
        "    return sum(a) / len(a)\n",
        "\n",
        "\n",
        "def process_data(patient,labels_df,img_px_size=50, hm_slices=20, visualize=False):\n",
        "    \n",
        "    label = labels_df.get_value(patient, 'cancer')\n",
        "    path = data_dir + patient\n",
        "    slices = [dicom.read_file(path + '/' + s) for s in os.listdir(path)]\n",
        "    slices.sort(key = lambda x: int(x.ImagePositionPatient[2]))\n",
        "\n",
        "    new_slices = []\n",
        "    slices = [cv2.resize(np.array(each_slice.pixel_array),(img_px_size,img_px_size)) for each_slice in slices]\n",
        "    \n",
        "    chunk_sizes = math.ceil(len(slices) / hm_slices)\n",
        "    for slice_chunk in chunks(slices, chunk_sizes):\n",
        "        slice_chunk = list(map(mean, zip(*slice_chunk)))\n",
        "        new_slices.append(slice_chunk)\n",
        "\n",
        "    if len(new_slices) == hm_slices-1:\n",
        "        new_slices.append(new_slices[-1])\n",
        "\n",
        "    if len(new_slices) == hm_slices-2:\n",
        "        new_slices.append(new_slices[-1])\n",
        "        new_slices.append(new_slices[-1])\n",
        "\n",
        "    if len(new_slices) == hm_slices+2:\n",
        "        new_val = list(map(mean, zip(*[new_slices[hm_slices-1],new_slices[hm_slices],])))\n",
        "        del new_slices[hm_slices]\n",
        "        new_slices[hm_slices-1] = new_val\n",
        "        \n",
        "    if len(new_slices) == hm_slices+1:\n",
        "        new_val = list(map(mean, zip(*[new_slices[hm_slices-1],new_slices[hm_slices],])))\n",
        "        del new_slices[hm_slices]\n",
        "        new_slices[hm_slices-1] = new_val\n",
        "        if visualize:\n",
        "            fig = plt.figure()\n",
        "            for num,each_slice in enumerate(new_slices):\n",
        "                y = fig.add_subplot(4,5,num+1)\n",
        "                y.imshow(each_slice)\n",
        "            plt.show()\n",
        "\n",
        "    if label == 1: label=np.array([0,1])\n",
        "    elif label == 0: label=np.array([1,0])\n",
        "        \n",
        "    return np.array(new_slices),label\n",
        "\n",
        "#                                               stage 1 for real.\n",
        "data_dir = '../input/sample_images/'\n",
        "patients = os.listdir(data_dir)\n",
        "labels = pd.read_csv('../input/stage1_labels.csv', index_col=0)\n",
        "\n",
        "much_data = []\n",
        "for num,patient in enumerate(patients):\n",
        "    if num % 100 == 0:\n",
        "        print(num)\n",
        "    try:\n",
        "        img_data,label = process_data(patient,labels,img_px_size=IMG_SIZE_PX, hm_slices=SLICE_COUNT)\n",
        "        #print(img_data.shape,label)\n",
        "        much_data.append([img_data,label])\n",
        "    except KeyError as e:\n",
        "        print('This is unlabeled data!')\n",
        "\n",
        "np.save('muchdata-{}-{}-{}.npy'.format(IMG_SIZE_PX,IMG_SIZE_PX,SLICE_COUNT), much_data)"
      ]
    },
    {
      "cell_type": "markdown",
      "metadata": {
        "_cell_guid": "ffc9eea7-44b6-028d-7b5d-4ae98021ead7"
      },
      "source": [
        "# 3D CNN"
      ]
    },
    {
      "cell_type": "code",
      "execution_count": null,
      "metadata": {
        "_cell_guid": "f6409420-4ce4-8ab2-e0da-ba48e43336e7"
      },
      "outputs": [],
      "source": [
        "import tensorflow as tf\n",
        "import numpy as np \n",
        "\n",
        "IMG_SIZE_PX = 50\n",
        "SLICE_COUNT = 20\n",
        "\n",
        "n_classes = 2\n",
        "batch_size = 10\n",
        "\n",
        "x = tf.placeholder('float')\n",
        "y = tf.placeholder('float')\n",
        "\n",
        "keep_rate = 0.8"
      ]
    },
    {
      "cell_type": "code",
      "execution_count": null,
      "metadata": {
        "_cell_guid": "4bec82a4-a3b5-7e36-9e82-d895b57f21b5"
      },
      "outputs": [],
      "source": [
        "def conv3d(x, W):\n",
        "    return tf.nn.conv3d(x, W, strides=[1,1,1,1,1], padding='SAME')\n",
        "\n",
        "def maxpool3d(x):\n",
        "    #                        size of window         movement of window as you slide about\n",
        "    return tf.nn.max_pool3d(x, ksize=[1,2,2,2,1], strides=[1,2,2,2,1], padding='SAME')"
      ]
    },
    {
      "cell_type": "code",
      "execution_count": null,
      "metadata": {
        "_cell_guid": "015f20fa-f335-442b-53e1-d8fc9c15279e"
      },
      "outputs": [],
      "source": [
        "def convolutional_neural_network(x):\n",
        "    #                # 5 x 5 x 5 patches, 1 channel, 32 features to compute.\n",
        "    weights = {'W_conv1':tf.Variable(tf.random_normal([3,3,3,1,32])),\n",
        "               #       5 x 5 x 5 patches, 32 channels, 64 features to compute.\n",
        "               'W_conv2':tf.Variable(tf.random_normal([3,3,3,32,64])),\n",
        "               #                                  64 features\n",
        "               'W_fc':tf.Variable(tf.random_normal([54080,1024])),\n",
        "               'out':tf.Variable(tf.random_normal([1024, n_classes]))}\n",
        "\n",
        "    biases = {'b_conv1':tf.Variable(tf.random_normal([32])),\n",
        "               'b_conv2':tf.Variable(tf.random_normal([64])),\n",
        "               'b_fc':tf.Variable(tf.random_normal([1024])),\n",
        "               'out':tf.Variable(tf.random_normal([n_classes]))}\n",
        "\n",
        "    #                            image X      image Y        image Z\n",
        "    x = tf.reshape(x, shape=[-1, IMG_SIZE_PX, IMG_SIZE_PX, SLICE_COUNT, 1])\n",
        "\n",
        "    conv1 = tf.nn.relu(conv3d(x, weights['W_conv1']) + biases['b_conv1'])\n",
        "    conv1 = maxpool3d(conv1)\n",
        "\n",
        "\n",
        "    conv2 = tf.nn.relu(conv3d(conv1, weights['W_conv2']) + biases['b_conv2'])\n",
        "    conv2 = maxpool3d(conv2)\n",
        "\n",
        "    fc = tf.reshape(conv2,[-1, 54080])\n",
        "    fc = tf.nn.relu(tf.matmul(fc, weights['W_fc'])+biases['b_fc'])\n",
        "    fc = tf.nn.dropout(fc, keep_rate)\n",
        "\n",
        "    output = tf.matmul(fc, weights['out'])+biases['out']\n",
        "\n",
        "    return output"
      ]
    },
    {
      "cell_type": "code",
      "execution_count": null,
      "metadata": {
        "_cell_guid": "929af381-1e06-7f94-c8bd-92cd5df45e7b"
      },
      "outputs": [],
      "source": [
        "#import numpy as np\n",
        "#much_data = np.load('muchdata-50-50-20.npy')\n",
        "# If you are working with the basic sample data, use maybe 2 instead of 100 here... you don't have enough data to really do this\n",
        "#train_data = much_data[:-100]\n",
        "#validation_data = much_data[-100:]\n",
        "\n",
        "\n",
        "#def train_neural_network(x):\n",
        "    \n",
        "    #prediction = convolutional_neural_network(x)\n",
        "    #cost = tf.reduce_mean( tf.nn.softmax_cross_entropy_with_logits(prediction,y) )\n",
        "    #optimizer = tf.train.AdamOptimizer(learning_rate=1e-3).minimize(cost)\n",
        "    \n",
        "    "
      ]
    },
    {
      "cell_type": "code",
      "execution_count": null,
      "metadata": {
        "_cell_guid": "149f226f-4568-eeec-fa6d-e97796b0c977"
      },
      "outputs": [],
      "source": [
        "#labels_df.cancer.value_counts()"
      ]
    },
    {
      "cell_type": "code",
      "execution_count": null,
      "metadata": {
        "_cell_guid": "c513b3fc-3a5e-7b1b-75e3-bd4ce5ad0e3c"
      },
      "outputs": [],
      "source": [
        "#labels_df.ix[-100:].cancer.value_counts()"
      ]
    },
    {
      "cell_type": "markdown",
      "metadata": {
        "_cell_guid": "2c8ccb12-5928-e24f-a2f8-dc7b656df05a"
      },
      "source": [
        "# t-SNE"
      ]
    },
    {
      "cell_type": "code",
      "execution_count": null,
      "metadata": {
        "_cell_guid": "a2b374dc-1573-b807-2ee3-afcd5fe9f4c8"
      },
      "outputs": [],
      "source": [
        "import numpy as np\n",
        "from numpy import linalg\n",
        "from numpy.linalg import norm\n",
        "from scipy.spatial.distance import squareform, pdist\n",
        "\n",
        "# We import sklearn.\n",
        "import sklearn\n",
        "from sklearn.manifold import TSNE\n",
        "from sklearn.datasets import load_digits\n",
        "from sklearn.preprocessing import scale\n",
        "\n",
        "# We'll hack a bit with the t-SNE code in sklearn 0.15.2.\n",
        "from sklearn.metrics.pairwise import pairwise_distances\n",
        "from sklearn.manifold.t_sne import (_joint_probabilities,\n",
        "                                    _kl_divergence)\n",
        "from sklearn.utils.extmath import _ravel\n",
        "# Random state.\n",
        "RS = 20150101\n",
        "\n",
        "# We'll use matplotlib for graphics.\n",
        "import matplotlib.pyplot as plt\n",
        "import matplotlib.patheffects as PathEffects\n",
        "import matplotlib\n",
        "%matplotlib inline\n",
        "\n",
        "# We import seaborn to make nice plots.\n",
        "import seaborn as sns\n",
        "sns.set_style('darkgrid')\n",
        "sns.set_palette('muted')\n",
        "sns.set_context(\"notebook\", font_scale=1.5,\n",
        "                rc={\"lines.linewidth\": 2.5})\n",
        "\n"
      ]
    },
    {
      "cell_type": "code",
      "execution_count": null,
      "metadata": {
        "_cell_guid": "6ebab5f5-a963-1477-760a-bf1d1b982cd9"
      },
      "outputs": [],
      "source": [
        ""
      ]
    }
  ],
  "metadata": {
    "_change_revision": 0,
    "_is_fork": false,
    "kernelspec": {
      "display_name": "Python 3",
      "language": "python",
      "name": "python3"
    },
    "language_info": {
      "codemirror_mode": {
        "name": "ipython",
        "version": 3
      },
      "file_extension": ".py",
      "mimetype": "text/x-python",
      "name": "python",
      "nbconvert_exporter": "python",
      "pygments_lexer": "ipython3",
      "version": "3.6.0"
    }
  },
  "nbformat": 4,
  "nbformat_minor": 0
}