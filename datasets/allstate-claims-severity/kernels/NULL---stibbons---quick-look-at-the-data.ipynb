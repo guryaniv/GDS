{
  "cells": [
    {
      "cell_type": "markdown",
      "metadata": {
        "_cell_guid": "3cb4aeb1-06fc-9d86-a65c-eaafde3cc6a8"
      },
      "source": [
        "**A quick look at the dataset, feature types and about the loss values**"
      ]
    },
    {
      "cell_type": "code",
      "execution_count": null,
      "metadata": {
        "_cell_guid": "173c53d7-038b-59b2-56d5-7e81fc454191"
      },
      "outputs": [],
      "source": [
        "%matplotlib inline\n",
        "import pandas as pd\n",
        "import numpy as np\n",
        "import matplotlib.pyplot as plt\n",
        "import seaborn as sns\n",
        "pd.set_option('display.max_columns', 500)"
      ]
    },
    {
      "cell_type": "code",
      "execution_count": null,
      "metadata": {
        "_cell_guid": "4a3cea37-826e-5cb6-bc85-dd32e37797d6"
      },
      "outputs": [],
      "source": [
        "train_df =pd.read_csv('../input/train.csv')\n",
        "test_df = pd.read_csv('../input/test.csv')"
      ]
    },
    {
      "cell_type": "code",
      "execution_count": null,
      "metadata": {
        "_cell_guid": "f95651ca-faa0-d367-ed6e-cf34d444f2ae"
      },
      "outputs": [],
      "source": [
        "print(\"Train:\", train_df.shape)\n",
        "print(\"Test: \", test_df.shape)"
      ]
    },
    {
      "cell_type": "code",
      "execution_count": null,
      "metadata": {
        "_cell_guid": "031ac786-3654-5375-cab0-fb71eee6c862"
      },
      "outputs": [],
      "source": [
        "train_df.head()"
      ]
    },
    {
      "cell_type": "markdown",
      "metadata": {
        "_cell_guid": "0d1f40a8-d9f5-e9b2-87a8-bb8bdfa7e1e6"
      },
      "source": [
        "Data does not seems to be large. \"cat*\" means categories and look like important information might hidden here. Look like "
      ]
    },
    {
      "cell_type": "code",
      "execution_count": null,
      "metadata": {
        "_cell_guid": "f75fb13e-a8bd-c4ae-6ad2-c29624f47798"
      },
      "outputs": [],
      "source": [
        "train_df[\"cat1\"].drop_duplicates()"
      ]
    },
    {
      "cell_type": "markdown",
      "metadata": {
        "_cell_guid": "adfc9c49-b214-20c6-4af5-7d7e04b55249"
      },
      "source": [
        "Look how many colums only have \"A\" and \"B\""
      ]
    },
    {
      "cell_type": "code",
      "execution_count": null,
      "metadata": {
        "_cell_guid": "2f623073-19fe-72ad-6329-14fcde57ef70"
      },
      "outputs": [],
      "source": [
        "cat_ab = []\n",
        "cat_not_ab = []\n",
        "for cat in train_df:\n",
        "    if cat.startswith(\"cat\"):\n",
        "        if set(train_df[cat].drop_duplicates()) == set([\"A\", \"B\"]):\n",
        "            cat_ab.append(cat)\n",
        "        else:\n",
        "            cat_not_ab.append(cat)\n",
        "print(\"cat_ab\", str(cat_ab))\n",
        "print(\"cat_not_ab\", str(cat_not_ab))"
      ]
    },
    {
      "cell_type": "markdown",
      "metadata": {
        "_cell_guid": "ed599f9b-536b-045f-c391-819783b1659d"
      },
      "source": [
        "Let's look at the cat110. Actually they just look like column in excel. There is no \"Z\" or any \"*Z\" column at all."
      ]
    },
    {
      "cell_type": "code",
      "execution_count": null,
      "metadata": {
        "_cell_guid": "2e8b1037-fc6d-e5b5-e1c9-3883cb4527a0"
      },
      "outputs": [],
      "source": [
        "reduce(sum, [ord(c) for i, c in enumerate(\"S\")])"
      ]
    },
    {
      "cell_type": "code",
      "execution_count": null,
      "metadata": {
        "_cell_guid": "4063a7b3-4267-9477-6676-a7c4431249fe"
      },
      "outputs": [],
      "source": [
        "from functools import reduce\n",
        "print(sorted(train_df[\"cat110\"].drop_duplicates(), key=lambda s: reduce(sum, [ord(c) for i, c in enumerate(str(s))])))"
      ]
    },
    {
      "cell_type": "markdown",
      "metadata": {
        "_cell_guid": "0c9f8a78-f3ae-7b90-3dba-a4866616c417"
      },
      "source": [
        "In the first 72, only choices is \"A\" and \"B\". Look like check boxes.\n",
        "The other columns look weird.\n",
        "\n",
        "We find for instances \"AE\", \"FH\",... Does not make many senses, what does \"AA\" means?\n",
        "Does \"A\" means the same in every columns?"
      ]
    },
    {
      "cell_type": "code",
      "execution_count": null,
      "metadata": {
        "_cell_guid": "eab60d92-dd23-1a90-fd7d-be5bcf7f2560"
      },
      "outputs": [],
      "source": [
        "cat_lbl = []\n",
        "for cat in cat_not_ab:\n",
        "    if cat.startswith(\"cat\"):\n",
        "        cat_lbl.extend(train_df[cat])\n",
        "distinct_cat = sorted(set(cat_lbl))\n",
        "print(distinct_cat)"
      ]
    },
    {
      "cell_type": "code",
      "execution_count": null,
      "metadata": {
        "_cell_guid": "ab094c42-1fd1-ddeb-1266-f3ec34322e2b"
      },
      "outputs": [],
      "source": [
        "train_df.dtypes"
      ]
    },
    {
      "cell_type": "code",
      "execution_count": null,
      "metadata": {
        "_cell_guid": "602f5490-75c2-2b87-9655-f401d24a5c42"
      },
      "outputs": [],
      "source": [
        "train_df.describe()"
      ]
    },
    {
      "cell_type": "markdown",
      "metadata": {
        "_cell_guid": "1c19484b-b9fb-c909-33d1-2c036b2bee9c"
      },
      "source": [
        "**Dataset doesn't seem to have any NaN values**"
      ]
    },
    {
      "cell_type": "code",
      "execution_count": null,
      "metadata": {
        "_cell_guid": "9838aa0d-ad30-0c6b-d798-263e6f3b0a77"
      },
      "outputs": [],
      "source": [
        "count=1\n",
        "flag=0\n",
        "for k in train_df.columns:\n",
        "    n= sum(train_df[k].isnull())\n",
        "    if n!=0:    \n",
        "        print(str(count)+ ': '+str(n)+ '\\t',end=\"\")\n",
        "        flag=1\n",
        "if flag==0:\n",
        "    print(\"No NaN Values\")"
      ]
    },
    {
      "cell_type": "markdown",
      "metadata": {
        "_cell_guid": "90f63cd4-19f8-d881-f429-d781a7ceaaea"
      },
      "source": [
        "#A bit more on loss Values"
      ]
    },
    {
      "cell_type": "markdown",
      "metadata": {
        "_cell_guid": "d7ac67d0-cd9d-8aa4-33a0-38c09f160378"
      },
      "source": [
        "**Distribution of loss Values**"
      ]
    },
    {
      "cell_type": "code",
      "execution_count": null,
      "metadata": {
        "_cell_guid": "5b24ead6-d024-6e8b-231e-cd618c1c7f73"
      },
      "outputs": [],
      "source": [
        "sns.distplot(train_df['loss'], color = 'r', hist_kws={'alpha': 0.7}, kde = False)"
      ]
    },
    {
      "cell_type": "code",
      "execution_count": null,
      "metadata": {
        "_cell_guid": "7d481be8-4e4c-92ba-f0c0-b79615203690"
      },
      "outputs": [],
      "source": [
        "cols= train_df.select_dtypes(include = ['float64']).iloc[:, 1:].corr()\n",
        "plt.figure(figsize=(12, 12))\n",
        "sns.heatmap(cols, vmax=1)"
      ]
    },
    {
      "cell_type": "markdown",
      "metadata": {
        "_cell_guid": "9c9ba25a-07ac-84d9-60f7-f2cc1d6e3f5b"
      },
      "source": [
        "**None of the numerical features seem to be fairly correlated with the loss values**"
      ]
    },
    {
      "cell_type": "code",
      "execution_count": null,
      "metadata": {
        "_cell_guid": "dcdcf229-8e83-a19a-3b93-fda03e0c5f78"
      },
      "outputs": [],
      "source": [
        "cors = cols['loss'].to_dict()\n",
        "del cors['loss']\n",
        "for cor in sorted(cors.items(), key = lambda x: -abs(x[1])):\n",
        "    print(\"{0}:{1}\".\n",
        "format(*cor))"
      ]
    },
    {
      "cell_type": "code",
      "execution_count": null,
      "metadata": {
        "_cell_guid": "693fd113-80cf-986e-df74-80136261887b"
      },
      "outputs": [],
      "source": ""
    }
  ],
  "metadata": {
    "_change_revision": 0,
    "_is_fork": false,
    "kernelspec": {
      "display_name": "Python 3",
      "language": "python",
      "name": "python3"
    },
    "language_info": {
      "codemirror_mode": {
        "name": "ipython",
        "version": 3
      },
      "file_extension": ".py",
      "mimetype": "text/x-python",
      "name": "python",
      "nbconvert_exporter": "python",
      "pygments_lexer": "ipython3",
      "version": "3.5.2"
    }
  },
  "nbformat": 4,
  "nbformat_minor": 0
}