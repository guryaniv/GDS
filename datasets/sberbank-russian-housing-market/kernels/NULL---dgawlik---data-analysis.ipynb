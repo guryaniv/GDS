{
  "cells": [
    {
      "cell_type": "markdown",
      "metadata": {
        "_cell_guid": "e9ad4201-b787-1e76-9da0-f0ca23e153f0"
      },
      "source": ""
    },
    {
      "cell_type": "code",
      "execution_count": null,
      "metadata": {
        "_cell_guid": "1ccfec8a-5773-d0d4-631e-de536377ba48"
      },
      "outputs": [],
      "source": [
        "import numpy as np\n",
        "import pandas as pd\n",
        "import seaborn as sb\n",
        "import matplotlib.pyplot as plt\n",
        "import scipy.stats as stats\n",
        "import xgboost as xgb\n",
        "import datetime as dt\n",
        "from IPython.display import display, HTML\n",
        "\n",
        "#from subprocess import check_output\n",
        "#print(check_output([\"ls\", \"../input\"]).decode(\"utf8\"))\n",
        "\n",
        "macro = pd.read_csv('../input/macro.csv')\n",
        "houses = pd.read_csv('../input/train.csv')\n",
        "test = pd.read_csv('../input/test.csv')\n",
        "\n",
        "#pd.options.display.max_rows = 1000\n",
        "#pd.options.display.max_columns = 1000\n",
        "\n",
        "import warnings\n",
        "warnings.filterwarnings('ignore')\n",
        "\n",
        "def error(actual, predicted):\n",
        "    return np.sqrt(np.sum(np.square(np.log1p(actual)-np.log1p(predicted)))/len(actual))\n",
        "\n",
        "houses['timestampS'] = houses['timestamp']\n",
        "houses['timestamp'] = pd.to_datetime(houses['timestamp'])"
      ]
    },
    {
      "cell_type": "markdown",
      "metadata": {
        "_cell_guid": "6a6a35cc-1726-b1b9-e3b7-fc2d354a5c50"
      },
      "source": [
        "# Data\n",
        "\n",
        "* main price determining factors are full_sq and num_rooms and they are correlated\n",
        "* spatial features like cafe_count are highly correlated with each other\n",
        "* some features are just rephrasing of same thing\n",
        "* in 2014-2016 GDP in Russia was negative so correlation with prices is reverse"
      ]
    },
    {
      "cell_type": "code",
      "execution_count": null,
      "metadata": {
        "_cell_guid": "a96443eb-f3e1-1796-e6a2-8601fbc7ae29"
      },
      "outputs": [],
      "source": [
        "prev = pd.options.display.max_rows\n",
        "pd.options.display.max_rows = 1000\n",
        "display(pd.DataFrame({'houses column': houses.columns}))\n",
        "display(pd.DataFrame({'macro column': macro.columns}))\n",
        "display(pd.DataFrame({'district': houses['sub_area'].unique()}))\n",
        "pd.options.display.max_rows = prev"
      ]
    },
    {
      "cell_type": "code",
      "execution_count": null,
      "metadata": {
        "_cell_guid": "60ac6401-8104-73d7-a8e6-83ccbb0a11aa"
      },
      "outputs": [],
      "source": [
        "numeric = houses.select_dtypes(exclude=['object', 'datetime'])\n",
        "prices = numeric['price_doc']\n",
        "correlations = list(map(lambda feature: prices.corr(numeric[feature], 'spearman'), numeric.columns))\n",
        "display = pd.DataFrame({'feature': numeric.columns, 'correlation': correlations}).sort_values(by='correlation')\n",
        "plt.figure(figsize=(8, 40))\n",
        "plt.figure(1)\n",
        "sb.barplot(data=display, orient='h', x='correlation', y='feature')\n",
        "\n",
        "features = list(display['feature'].values)\n",
        "correlatedTop = features[:20] + features[-20:]\n",
        "plt.figure(2)\n",
        "sb.heatmap(numeric[correlatedTop].corr())\n",
        "correlatedTop2 = features[20:40] + features[-40:-20]\n",
        "plt.figure(3)\n",
        "sb.heatmap(numeric[correlatedTop2].corr())\n",
        "correlatedTop3 = features[40:60] + features[-60:-40]\n",
        "plt.figure(4)\n",
        "sb.heatmap(numeric[correlatedTop3].corr())"
      ]
    },
    {
      "cell_type": "code",
      "execution_count": null,
      "metadata": {
        "_cell_guid": "63634c15-fd8b-3cda-b7ee-a62595d7cf20"
      },
      "outputs": [],
      "source": [
        "pricesWithTimestamp = houses[['timestampS', 'price_doc']].groupby('timestampS').mean()\n",
        "pricesWithTimestamp['timestampS'] = houses['timestampS'].unique()\n",
        "macroWithPrices = macro.copy()\n",
        "macroWithPrices = macroWithPrices.merge(pricesWithTimestamp, left_on='timestamp', right_on='timestampS')\n",
        "#macroWithPrices['timestamp'] = pd.to_datetime(macroWithPrices['timestamp'])\n",
        "macroWithPrices.drop('timestamp', axis=1, inplace=True)\n",
        "\n",
        "prices = macroWithPrices['price_doc']\n",
        "correlations = list(map(lambda feature: prices.corr(macroWithPrices[feature], 'spearman'), macroWithPrices.columns))\n",
        "display = pd.DataFrame({'feature': macroWithPrices.columns, 'correlation': correlations}).sort_values(by='correlation')\n",
        "plt.figure(figsize=(8, 40))\n",
        "plt.figure(1)\n",
        "sb.barplot(data=display, orient='h', x='correlation', y='feature')\n",
        "\n",
        "features = list(display['feature'].values)\n",
        "correlatedTop = features[:20] + features[-20:]\n",
        "plt.figure(2)\n",
        "sb.heatmap(macroWithPrices[correlatedTop].corr())\n",
        "correlatedTop2 = features[20:40] + features[-40:-20]\n",
        "plt.figure(3)\n",
        "sb.heatmap(macroWithPrices[correlatedTop2].corr())\n",
        "correlatedTop3 = features[40:60] + features[-60:-40]\n",
        "plt.figure(4)\n",
        "sb.heatmap(macroWithPrices[correlatedTop3].corr())"
      ]
    },
    {
      "cell_type": "code",
      "execution_count": null,
      "metadata": {
        "_cell_guid": "d537ec4b-f662-5960-fe71-ca3567426283"
      },
      "outputs": [],
      "source": [
        "from dateutil.relativedelta import relativedelta\n",
        "import datetime\n",
        "\n",
        "start = datetime.date(2011, 8, 20)\n",
        "end = datetime.date(2015, 6, 30)\n",
        "periods = []\n",
        "current = start\n",
        "while current <= end:\n",
        "    periods.append(current)\n",
        "    current += relativedelta(months=1)\n",
        "\n",
        "tmpHouses = houses.copy()\n",
        "print(tmpHouses)\n",
        "tmpHouses.set_index('timestamp', inplace=True)\n",
        "tsDict = {}\n",
        "tsDict['period'] = periods[1:]\n",
        "for district in houses['sub_area'].unique():\n",
        "    prices = []\n",
        "    for i in range(1, len(periods)):\n",
        "        monthMean = houses[(tmpHouses.index >= periods[i-1]) \n",
        "                           & (tmpHouses.index <= periods[i]) \n",
        "                           & (tmpHouses['sub_area'] == district)]['price_doc'].mean(skipna=True)\n",
        "        prices.append(monthMean)\n",
        "    tsDict[district] = prices\n",
        "\n",
        "pricesTimeseries = pd.DataFrame(tsDict)\n",
        "pricesTimeseries.set_index('period')"
      ]
    },
    {
      "cell_type": "markdown",
      "metadata": {
        "_cell_guid": "74022186-0912-1d03-99b3-f911467bdfb2"
      },
      "source": [
        "# XGB"
      ]
    },
    {
      "cell_type": "code",
      "execution_count": null,
      "metadata": {
        "_cell_guid": "1023d62e-dbc7-3a26-4e40-542b73550c8f"
      },
      "outputs": [],
      "source": [
        "macro_cols = [\"balance_trade\", \"balance_trade_growth\", \"eurrub\", \"average_provision_of_build_contract\",\n",
        "\"micex_rgbi_tr\", \"micex_cbi_tr\", \"deposits_rate\", \"mortgage_value\", \"mortgage_rate\",\n",
        "\"income_per_cap\", \"rent_price_4+room_bus\", \"museum_visitis_per_100_cap\", \"apartment_build\"]\n",
        "\n",
        "df_train = pd.read_csv(\"../input/train.csv\", parse_dates=['timestamp'])\n",
        "df_test = pd.read_csv(\"../input/test.csv\", parse_dates=['timestamp'])\n",
        "df_macro = pd.read_csv(\"../input/macro.csv\", parse_dates=['timestamp'], usecols=['timestamp'] + macro_cols)\n",
        "\n",
        "df_train.head()\n",
        "\n",
        "ylog_train_all = np.log1p(df_train['price_doc'].values)\n",
        "id_test = df_test['id']\n",
        "\n",
        "df_train.drop(['id', 'price_doc'], axis=1, inplace=True)\n",
        "df_test.drop(['id'], axis=1, inplace=True)\n",
        "\n",
        "# Build df_all = (df_train+df_test).join(df_macro)\n",
        "num_train = len(df_train)\n",
        "df_all = pd.concat([df_train, df_test])\n",
        "df_all = pd.merge_ordered(df_all, df_macro, on='timestamp', how='left')\n",
        "print(df_all.shape)\n",
        "\n",
        "\n",
        "# Add month-year\n",
        "month_year = (df_all.timestamp.dt.month + df_all.timestamp.dt.year * 100)\n",
        "month_year_cnt_map = month_year.value_counts().to_dict()\n",
        "df_all['month_year_cnt'] = month_year.map(month_year_cnt_map)\n",
        "\n",
        "# Add week-year count\n",
        "week_year = (df_all.timestamp.dt.weekofyear + df_all.timestamp.dt.year * 100)\n",
        "week_year_cnt_map = week_year.value_counts().to_dict()\n",
        "df_all['week_year_cnt'] = week_year.map(week_year_cnt_map)\n",
        "\n",
        "# Add month and day-of-week\n",
        "df_all['month'] = df_all.timestamp.dt.month\n",
        "df_all['dow'] = df_all.timestamp.dt.dayofweek\n",
        "\n",
        "# Other feature engineering\n",
        "df_all['rel_floor'] = df_all['floor'] / df_all['max_floor'].astype(float)\n",
        "df_all['rel_kitch_sq'] = df_all['kitch_sq'] / df_all['full_sq'].astype(float)\n",
        "\n",
        "# Remove timestamp column (may overfit the model in train)\n",
        "df_all.drop(['timestamp'], axis=1, inplace=True)\n",
        "\n",
        "df_numeric = df_all.select_dtypes(exclude=['object'])\n",
        "df_obj = df_all.select_dtypes(include=['object']).copy()\n",
        "\n",
        "for c in df_obj:\n",
        "    df_obj[c] = pd.factorize(df_obj[c])[0]\n",
        "\n",
        "df_values = pd.concat([df_numeric, df_obj], axis=1)\n",
        "\n",
        "X_all = df_values.values\n",
        "print(X_all.shape)\n",
        "\n",
        "# Create a validation set, with last 20% of data\n",
        "num_val = int(num_train * 0.2)\n",
        "\n",
        "X_train_all = X_all[:num_train]\n",
        "X_train = X_all[:num_train-num_val]\n",
        "X_val = X_all[num_train-num_val:num_train]\n",
        "ylog_train = ylog_train_all[:-num_val]\n",
        "ylog_val = ylog_train_all[-num_val:]\n",
        "\n",
        "X_test = X_all[num_train:]\n",
        "\n",
        "df_columns = df_values.columns\n",
        "\n",
        "dtrain_all = xgb.DMatrix(X_train_all, ylog_train_all, feature_names=df_columns)\n",
        "dtrain = xgb.DMatrix(X_train, ylog_train, feature_names=df_columns)\n",
        "dval = xgb.DMatrix(X_val, ylog_val, feature_names=df_columns)\n",
        "dtest = xgb.DMatrix(X_test, feature_names=df_columns)\n",
        "\n",
        "xgb_params = {\n",
        "    'eta': 0.05,\n",
        "    'max_depth': 6,\n",
        "    'subsample': 1.0,\n",
        "    'colsample_bytree': 0.7,\n",
        "    'objective': 'reg:linear',\n",
        "    'eval_metric': 'rmse',\n",
        "    'silent': 1\n",
        "}\n",
        "\n",
        "# Uncomment to tune XGB `num_boost_rounds`\n",
        "partial_model = xgb.train(xgb_params, dtrain, num_boost_round=1000, evals=[(dval, 'val')],\n",
        "                       early_stopping_rounds=20, verbose_eval=20)\n",
        "\n",
        "num_boost_round = partial_model.best_iteration\n",
        "\n",
        "model = xgb.train(dict(xgb_params, silent=0), dtrain_all, num_boost_round=num_boost_round)\n",
        "\n",
        "ylog_pred = model.predict(dtrain_all)\n",
        "y_pred = np.exp(ylog_pred) - 1\n",
        "print(error(y_pred, np.exp(ylog_train_all)))"
      ]
    },
    {
      "cell_type": "code",
      "execution_count": null,
      "metadata": {
        "_cell_guid": "d60e5e05-e6b5-9aad-00fe-d040742caafd"
      },
      "outputs": [],
      "source": ""
    }
  ],
  "metadata": {
    "_change_revision": 0,
    "_is_fork": false,
    "kernelspec": {
      "display_name": "Python 3",
      "language": "python",
      "name": "python3"
    },
    "language_info": {
      "codemirror_mode": {
        "name": "ipython",
        "version": 3
      },
      "file_extension": ".py",
      "mimetype": "text/x-python",
      "name": "python",
      "nbconvert_exporter": "python",
      "pygments_lexer": "ipython3",
      "version": "3.6.0"
    }
  },
  "nbformat": 4,
  "nbformat_minor": 0
}