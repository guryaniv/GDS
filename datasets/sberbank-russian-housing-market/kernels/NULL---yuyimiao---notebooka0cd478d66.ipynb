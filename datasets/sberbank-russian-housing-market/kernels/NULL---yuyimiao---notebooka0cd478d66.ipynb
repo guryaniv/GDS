{
  "cells": [
    {
      "cell_type": "code",
      "execution_count": null,
      "metadata": {
        "_cell_guid": "dee325e8-bf91-482f-b4b4-df81ce904ef3"
      },
      "outputs": [],
      "source": [
        "import numpy as np\n",
        "import pandas as pd\n",
        "import matplotlib.pyplot as plt\n",
        "import seaborn as sns\n",
        "from sklearn import model_selection, preprocessing\n",
        "import xgboost as xgb\n",
        "import datetime\n",
        "\n",
        "#load files\n",
        "train = pd.read_csv('../input/train.csv')\n",
        "test = pd.read_csv('../input/test.csv')\n",
        "macro = pd.read_csv('../input/macro.csv')\n",
        "id_test = test.id\n",
        "\n",
        "#multiplier = 0.969\n",
        "# truncate the extreme values in price_doc #\n",
        "Q1 = np.percentile(np.log1p(train.price_doc.values), 25)\n",
        "Q2 = np.percentile(np.log1p(train.price_doc.values), 50)\n",
        "Q3 = np.percentile(np.log1p(train.price_doc.values), 75)\n",
        "IQR=Q3-Q1\n",
        "infbdd=Q1-1.5 * IQR \n",
        "supbdd=Q3+1.5 * IQR \n",
        "train['price_doc'].ix[train['price_doc']>int(2.5*np.exp(supbdd))] = int(2.5*np.exp(supbdd))\n",
        "train['price_doc'].ix[train['price_doc']<int(np.exp(13.5))] = int(np.exp(13.5))\n",
        "\n",
        "\n",
        "#clean data\n",
        "\n",
        "\n",
        "#equal_index = [601,1896,2791]\n",
        "#test.ix[equal_index, \"life_sq\"] = test.ix[equal_index, \"full_sq\"]\n",
        "\n",
        "#bad_index = test[test.life_sq > test.full_sq].index\n",
        "#test.ix[bad_index, \"life_sq\"] = np.NaN\n",
        "\n",
        "bad_index = train[train.life_sq < 2].index\n",
        "train.ix[bad_index, \"life_sq\"] = np.NaN\n",
        "\n",
        "#bad_index = test[test.life_sq < 5].index\n",
        "#test.ix[bad_index, \"life_sq\"] = np.NaN\n",
        "\n",
        "bad_index = train[train.full_sq < 2].index\n",
        "train.ix[bad_index, \"full_sq\"] = np.NaN\n",
        "###\n",
        "\n",
        "#bad_index = test[test.full_sq < 5].index\n",
        "#test.ix[bad_index, \"full_sq\"] = np.NaN\n",
        "\n",
        "#kitch_is_build_year = [13117]\n",
        "#train.ix[kitch_is_build_year, \"build_year\"] = train.ix[kitch_is_build_year, \"kitch_sq\"]\n",
        "#bad_index = train[train.kitch_sq >= train.life_sq].index\n",
        "#train.ix[bad_index, \"kitch_sq\"] = np.NaN\n",
        "\n",
        "#bad_index = test[test.kitch_sq >= test.life_sq].index\n",
        "#test.ix[bad_index, \"kitch_sq\"] = np.NaN\n",
        "\n",
        "#bad_index = train[(train.kitch_sq == 0).values + (train.kitch_sq == 1).values].index\n",
        "#train.ix[bad_index, \"kitch_sq\"] = np.NaN\n",
        "\n",
        "#bad_index = test[(test.kitch_sq == 0).values + (test.kitch_sq == 1).values].index\n",
        "#test.ix[bad_index, \"kitch_sq\"] = np.NaN\n",
        "\n",
        "\n",
        "\n",
        "\n",
        "#bad_index = test[(test.full_sq > 150) & (test.life_sq / test.full_sq < 0.3)].index\n",
        "#test.ix[bad_index, \"full_sq\"] = np.NaN\n",
        "\n",
        "\n",
        "#bad_index = test[test.life_sq > 200].index\n",
        "#test.ix[bad_index, [\"life_sq\", \"full_sq\"]] = np.NaN"
      ]
    },
    {
      "cell_type": "code",
      "execution_count": null,
      "metadata": {
        "_cell_guid": "32585989-9044-27ea-236f-7f9527566378"
      },
      "outputs": [],
      "source": [
        "expensive = np.nanpercentile((np.log1p(train.price_doc.values)/np.log1p(train.full_sq.values)), 99.9)\n",
        "cheap = np.nanpercentile((np.log1p(train.price_doc.values)/np.log1p(train.full_sq.values)), 0.1)\n",
        "print(expensive)\n",
        "print(cheap)"
      ]
    },
    {
      "cell_type": "code",
      "execution_count": null,
      "metadata": {
        "_cell_guid": "a9e6cb87-35fe-457d-bc02-67d6b7c99148"
      },
      "outputs": [],
      "source": [
        "ulimit = np.nanpercentile((train.life_sq.values)/(train.full_sq.values), 99)\n",
        "llimit = np.nanpercentile((train.life_sq.values)/(train.full_sq.values), 1)\n",
        "median = np.nanpercentile((train.life_sq.values)/(train.full_sq.values), 50)\n",
        "mean=np.nanmean((train.life_sq.values)/(train.full_sq.values))\n",
        "print(ulimit)\n",
        "print(llimit)\n",
        "print(mean)"
      ]
    },
    {
      "cell_type": "code",
      "execution_count": null,
      "metadata": {
        "_cell_guid": "fe6e2276-8d1c-0af2-42f1-023cd9109ffb"
      },
      "outputs": [],
      "source": [
        "plt.figure(figsize=(12,12))\n",
        "sns.jointplot(x=(train.full_sq.values), y=(train.life_sq.values), size=10)\n",
        "plt.ylabel('life_sq', fontsize=12)\n",
        "plt.xlabel('full_sq', fontsize=12)\n",
        "plt.show()"
      ]
    },
    {
      "cell_type": "code",
      "execution_count": null,
      "metadata": {
        "_cell_guid": "2a736c3c-cfd3-5e81-09b4-5ffbca7f0f5d"
      },
      "outputs": [],
      "source": [
        "\n",
        "life_bad_index=train[(train.life_sq > train.full_sq) & ((np.log1p(train.price_doc.values)/np.log1p(train.full_sq.values))>3)&((np.log1p(train.price_doc.values)/np.log1p(train.full_sq.values))<5.25)].index\n",
        "train.ix[life_bad_index, \"life_sq\"] = train.ix[life_bad_index,\"full_sq\"]*0.85\n",
        "full_bad_index=train[(train.life_sq > train.full_sq)&((np.log1p(train.price_doc.values)/np.log1p(train.life_sq.values))>3)&((np.log1p(train.price_doc.values)/np.log1p(train.life_sq.values))<5.25)].index\n",
        "train.ix[full_bad_index, \"full_sq\"] = train.ix[full_bad_index,\"life_sq\"]/0.85\n",
        "true_bad_index = train[train.life_sq > train.full_sq]\n",
        "true_bad_index"
      ]
    },
    {
      "cell_type": "code",
      "execution_count": null,
      "metadata": {
        "_cell_guid": "70780781-23f7-fec7-7515-5eb1d1441dff"
      },
      "outputs": [],
      "source": [
        "full_bad_index = train[(train.life_sq / train.full_sq < 0.39)&((np.log1p(train.price_doc.values)/np.log1p(train.life_sq.values))<5.25)&((np.log1p(train.price_doc.values)/np.log1p(train.life_sq.values))>3)].index\n",
        "train.ix[full_bad_index, \"full_sq\"] = train.ix[full_bad_index,\"life_sq\"]/0.85\n",
        "\n",
        "life_bad_index=train[(train.life_sq / train.full_sq < 0.39)&((np.log1p(train.price_doc.values)/np.log1p(train.full_sq.values))<5.25)&((np.log1p(train.price_doc.values)/np.log1p(train.full_sq.values))>3)].index\n",
        "train.ix[life_bad_index, \"life_sq\"] = train.ix[life_bad_index,\"full_sq\"]*0.85\n",
        "\n",
        "true_bad_index=train[(train.life_sq / train.full_sq < 0.39)]\n",
        "true_bad_index"
      ]
    },
    {
      "cell_type": "code",
      "execution_count": null,
      "metadata": {
        "_cell_guid": "17591cee-6895-7a7b-ad41-01599c6df8cd"
      },
      "outputs": [],
      "source": [
        "bad_index = train[((np.log1p(train.price_doc.values)/np.log1p(train.full_sq.values))<2.7)&(train.full_sq>200)].index\n",
        "train.ix[bad_index, \"full_sq\"] = np.NaN\n",
        "train.ix[bad_index, \"life_sq\"] = np.NaN"
      ]
    },
    {
      "cell_type": "code",
      "execution_count": null,
      "metadata": {
        "_cell_guid": "17557d1b-3d2e-32fd-0bf1-ab21e6e22714"
      },
      "outputs": [],
      "source": [
        "bad_index = train[((np.log1p(train.price_doc.values*10)/np.log1p(train.full_sq.values))<3)]\n",
        "bad_index"
      ]
    },
    {
      "cell_type": "code",
      "execution_count": null,
      "metadata": {
        "_cell_guid": "59476b59-bd95-dd97-a86a-8b26b5560ee8"
      },
      "outputs": [],
      "source": [
        "bad_index = train[(train.life_sq==14)&(train.price_doc==7000000)]\n",
        "bad_index"
      ]
    },
    {
      "cell_type": "code",
      "execution_count": null,
      "metadata": {
        "_cell_guid": "e9586c54-c0e0-5cdb-83ff-f77a192b2d4c"
      },
      "outputs": [],
      "source": [
        "expensive = np.nanpercentile((np.log1p(train.price_doc.values)/np.log1p(train.full_sq.values)), 99.9)\n",
        "cheap = np.nanpercentile((np.log1p(train.price_doc.values)/np.log1p(train.full_sq.values)), 0.1)\n",
        "print(expensive)\n",
        "print(cheap)"
      ]
    },
    {
      "cell_type": "code",
      "execution_count": null,
      "metadata": {
        "_cell_guid": "8b16bf8c-4ce8-18b7-fdf2-101b0fee851a"
      },
      "outputs": [],
      "source": [
        "bad_index = train[((np.log1p(train.price_doc.values)/np.log1p(train.full_sq.values))>5.3)]\n",
        "bad_index\n",
        "#train.ix[bad_index, \"full_sq\"] = np.NaN"
      ]
    },
    {
      "cell_type": "code",
      "execution_count": null,
      "metadata": {
        "_cell_guid": "af4516fe-5c1e-beae-7803-80c7713bdef6"
      },
      "outputs": [],
      "source": [
        "np.log1p(10)"
      ]
    },
    {
      "cell_type": "code",
      "execution_count": null,
      "metadata": {
        "_cell_guid": "342c4667-a8e2-8eff-34d8-6e981a480319"
      },
      "outputs": [],
      "source": [
        "plt.figure(figsize=(12,12))\n",
        "sns.jointplot(x=np.log1p(train.full_sq.values), y=np.log1p(train.price_doc.values), size=10)\n",
        "plt.ylabel('Log of Price', fontsize=12)\n",
        "plt.xlabel('Log of Total area in square metre', fontsize=12)\n",
        "plt.show()"
      ]
    },
    {
      "cell_type": "code",
      "execution_count": null,
      "metadata": {
        "_cell_guid": "361380ed-962f-868b-a67b-dfc372323c79"
      },
      "outputs": [],
      "source": [
        "plt.figure(figsize=(12,12))\n",
        "sns.jointplot(x=np.log1p(train.life_sq.values), y=np.log1p(train.price_doc.values), \n",
        "              kind='kde', size=10)\n",
        "plt.ylabel('Log of Price', fontsize=12)\n",
        "plt.xlabel('Log of living area in square metre', fontsize=12)\n",
        "plt.show()"
      ]
    },
    {
      "cell_type": "code",
      "execution_count": null,
      "metadata": {
        "_cell_guid": "1b199d1c-6130-b7ff-5fe1-be574530f6c0"
      },
      "outputs": [],
      "source": ""
    }
  ],
  "metadata": {
    "_change_revision": 0,
    "_is_fork": false,
    "kernelspec": {
      "display_name": "Python 3",
      "language": "python",
      "name": "python3"
    },
    "language_info": {
      "codemirror_mode": {
        "name": "ipython",
        "version": 3
      },
      "file_extension": ".py",
      "mimetype": "text/x-python",
      "name": "python",
      "nbconvert_exporter": "python",
      "pygments_lexer": "ipython3",
      "version": "3.6.0"
    }
  },
  "nbformat": 4,
  "nbformat_minor": 0
}