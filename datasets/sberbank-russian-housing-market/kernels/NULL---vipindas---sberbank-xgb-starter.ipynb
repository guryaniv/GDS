{
  "cells": [
    {
      "cell_type": "code",
      "execution_count": null,
      "metadata": {
        "_cell_guid": "8ce2653b-e7e3-3947-181f-3f86e79737a5"
      },
      "outputs": [],
      "source": [
        "import pandas as pd\n",
        "import numpy as np\n",
        "import xgboost as xgb\n",
        "from sklearn import preprocessing"
      ]
    },
    {
      "cell_type": "code",
      "execution_count": null,
      "metadata": {
        "_cell_guid": "d6072048-a6e3-536f-898c-0e32c2bf58c5"
      },
      "outputs": [],
      "source": [
        "train=pd.read_csv('../input/train.csv')"
      ]
    },
    {
      "cell_type": "code",
      "execution_count": null,
      "metadata": {
        "_cell_guid": "40403886-57cc-fb74-59be-53b07b8efac8"
      },
      "outputs": [],
      "source": [
        "#Encoding of Categorical variables\n",
        "for f in train.columns:\n",
        "    if train[f].dtype=='object':\n",
        "        lbl = preprocessing.LabelEncoder()\n",
        "        lbl.fit(list(train[f].values)) \n",
        "        train[f] = lbl.transform(list(train[f].values))        \n",
        "train_y = train.price_doc.values\n",
        "train_X = train.drop([\"id\", \"timestamp\", \"price_doc\"], axis=1)"
      ]
    },
    {
      "cell_type": "code",
      "execution_count": null,
      "metadata": {
        "_cell_guid": "9483f2db-83eb-7578-d8f9-2d1c3fd96a7b"
      },
      "outputs": [],
      "source": [
        "#XGBoost Model\n",
        "xgb_params = {'eta': 0.05,'max_depth': 8,'subsample': 0.7,'silent': 1,\n",
        "    'colsample_bytree': 0.7,'objective': 'reg:linear','eval_metric': 'rmse'}\n",
        "dtrain = xgb.DMatrix(train_X, train_y, feature_names=train_X.columns.values)\n",
        "model = xgb.train(dict(xgb_params, silent=0), dtrain, num_boost_round=100)\n"
      ]
    },
    {
      "cell_type": "code",
      "execution_count": null,
      "metadata": {
        "_cell_guid": "81130c22-8957-18e9-f9d3-13206d3dad1e"
      },
      "outputs": [],
      "source": [
        "xgb.plot_importance(model, max_num_features=50, height=0.8)"
      ]
    },
    {
      "cell_type": "code",
      "execution_count": null,
      "metadata": {
        "_cell_guid": "9a6247b3-4263-cf1f-c5d2-5476604aa7ec"
      },
      "outputs": [],
      "source": ""
    }
  ],
  "metadata": {
    "_change_revision": 0,
    "_is_fork": false,
    "kernelspec": {
      "display_name": "Python 3",
      "language": "python",
      "name": "python3"
    },
    "language_info": {
      "codemirror_mode": {
        "name": "ipython",
        "version": 3
      },
      "file_extension": ".py",
      "mimetype": "text/x-python",
      "name": "python",
      "nbconvert_exporter": "python",
      "pygments_lexer": "ipython3",
      "version": "3.6.0"
    }
  },
  "nbformat": 4,
  "nbformat_minor": 0
}