{"cells":[
 {
  "cell_type": "code",
  "execution_count": null,
  "metadata": {
   "collapsed": true
  },
  "outputs": [],
  "source": "%matplotlib inline"
 },
 {
  "cell_type": "code",
  "execution_count": null,
  "metadata": {
   "collapsed": false
  },
  "outputs": [],
  "source": "# Imports\n\n# pandas\nimport pandas as pd\nfrom pandas import Series,DataFrame\n\n# numpy, matplotlib, seaborn\nimport numpy as np\nimport matplotlib.pyplot as plt\nimport seaborn as sns\nsns.set_style('whitegrid')\n%matplotlib inline\n\n# machine learning\nfrom sklearn.linear_model import LogisticRegression\nfrom sklearn.svm import SVC, LinearSVC\nfrom sklearn.ensemble import RandomForestClassifier\nfrom sklearn.neighbors import KNeighborsClassifier\nfrom sklearn.naive_bayes import GaussianNB\nfrom sklearn import cross_validation\nimport xgboost as xgb"
 },
 {
  "cell_type": "code",
  "execution_count": null,
  "metadata": {
   "collapsed": false
  },
  "outputs": [],
  "source": "# get prudential & test csv files as a DataFrame\nprudential_df  = pd.read_csv('../input/train.csv')\ntest_df        = pd.read_csv('../input/test.csv')\n\n# preview the data\nprudential_df.head()"
 },
 {
  "cell_type": "code",
  "execution_count": null,
  "metadata": {
   "collapsed": false
  },
  "outputs": [],
  "source": "prudential_df.info()\nprint(\"----------------------------\")\ntest_df.info()"
 },
 {
  "cell_type": "code",
  "execution_count": null,
  "metadata": {
   "collapsed": false
  },
  "outputs": [],
  "source": "# response\n\nfig, (axis1) = plt.subplots(1,1,figsize=(15,5))\n\nsns.countplot(x=prudential_df[\"Response\"], order=[1,2,3,4,5,6,7,8], ax=axis1)"
 },
 {
  "cell_type": "code",
  "execution_count": null,
  "metadata": {
   "collapsed": false
  },
  "outputs": [],
  "source": "# There are some columns with non-numerical values(i.e. dtype='object'),\n# So, We will create a corresponding unique numerical value for each non-numerical value in a column of training and testing set.\n\nfrom sklearn import preprocessing\n\nfor f in prudential_df.columns:\n    if prudential_df[f].dtype == 'object':\n        lbl = preprocessing.LabelEncoder()\n        lbl.fit(np.unique(list(prudential_df[f].values) + list(test_df[f].values)))\n        prudential_df[f] = lbl.transform(list(prudential_df[f].values))\n        test_df[f]       = lbl.transform(list(test_df[f].values))"
 },
 {
  "cell_type": "code",
  "execution_count": null,
  "metadata": {
   "collapsed": false
  },
  "outputs": [],
  "source": "# fill NaN values\n\nfor f in prudential_df.columns:\n    if f == \"Response\": continue\n    if prudential_df[f].dtype == 'float64':\n        prudential_df[f].fillna(prudential_df[f].mean(), inplace=True)\n        test_df[f].fillna(test_df[f].mean(), inplace=True)\n    else:\n        prudential_df[f].fillna(prudential_df[f].median(), inplace=True)\n        test_df[f].fillna(test_df[f].median(), inplace=True)\n\n# prudential_df.fillna(0, inplace=True)\n# test_df.fillna(0, inplace=True)"
 },
 {
  "cell_type": "code",
  "execution_count": null,
  "metadata": {
   "collapsed": false
  },
  "outputs": [],
  "source": "# define training and testing sets\n\nX_train = prudential_df.drop([\"Response\", \"Id\"],axis=1)\nY_train = prudential_df[\"Response\"]\nX_test  = test_df.drop(\"Id\",axis=1).copy()"
 },
 {
  "cell_type": "code",
  "execution_count": null,
  "metadata": {
   "collapsed": false
  },
  "outputs": [],
  "source": "#ExtraTreesClassifier\nfrom sklearn.ensemble import ExtraTreesClassifier\netc = ExtraTreesClassifier(n_estimators=100)\netc.fit(X_train,Y_train)\nY_test = etc.predict(X_test)\netc.score(X_train,Y_train)"
 },
 {
  "cell_type": "code",
  "execution_count": null,
  "metadata": {
   "collapsed": false
  },
  "outputs": [],
  "source": "Y_test = Y_test.astype(int)"
 },
 {
  "cell_type": "code",
  "execution_count": null,
  "metadata": {
   "collapsed": false
  },
  "outputs": [],
  "source": "# Create submission\n\nsubmission = pd.DataFrame({\n        \"Id\": test_df[\"Id\"],\n        \"Response\": Y_test\n    })\nsubmission.to_csv('etc.csv', index=False)"
 },
 {
  "cell_type": "code",
  "execution_count": null,
  "metadata": {
   "collapsed": false
  },
  "outputs": [],
  "source": ""
 }
],"metadata":{"kernelspec":{"display_name":"Python 3","language":"python","name":"python3"}}, "nbformat": 4, "nbformat_minor": 0}