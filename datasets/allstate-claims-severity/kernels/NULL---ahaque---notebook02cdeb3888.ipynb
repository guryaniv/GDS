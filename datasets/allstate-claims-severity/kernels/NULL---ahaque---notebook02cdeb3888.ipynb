{
  "cells": [
    {
      "cell_type": "code",
      "execution_count": null,
      "metadata": {
        "_cell_guid": "e819f455-ad65-2a8b-ffb6-f7cfd143d51b"
      },
      "outputs": [],
      "source": [
        "# This Python 3 environment comes with many helpful analytics libraries installed\n",
        "# It is defined by the kaggle/python docker image: https://github.com/kaggle/docker-python\n",
        "# For example, here's several helpful packages to load in \n",
        "\n",
        "import numpy as np # linear algebra\n",
        "import pandas as pd # data processing, CSV file I/O (e.g. pd.read_csv)\n",
        "\n",
        "# Input data files are available in the \"../input/\" directory.\n",
        "# For example, running this (by clicking run or pressing Shift+Enter) will list the files in the input directory\n",
        "\n",
        "from subprocess import check_output\n",
        "print(check_output([\"ls\", \"../input\"]).decode(\"utf8\"))\n",
        "\n",
        "# Any results you write to the current directory are saved as output."
      ]
    },
    {
      "cell_type": "code",
      "execution_count": null,
      "metadata": {
        "_cell_guid": "f6eb9274-3054-47bf-506f-d74db19f83ff"
      },
      "outputs": [],
      "source": [
        "df_train = pd.read_csv(\"../input/train.csv\", index_col=\"id\")\n",
        "df_train.head()"
      ]
    },
    {
      "cell_type": "code",
      "execution_count": null,
      "metadata": {
        "_cell_guid": "408dc86b-3fab-a2f8-7fb9-e6d540ab55f0"
      },
      "outputs": [],
      "source": [
        "df_test = pd.read_csv(\"../input/test.csv\", index_col=\"id\")\n",
        "df_test.head()"
      ]
    },
    {
      "cell_type": "code",
      "execution_count": null,
      "metadata": {
        "_cell_guid": "fac47a96-8fb1-92bc-988a-ff82d22c17d0"
      },
      "outputs": [],
      "source": [
        "X = df_train[df_train.columns[:-1]]\n",
        "y = df_train[\"loss\"]"
      ]
    },
    {
      "cell_type": "code",
      "execution_count": null,
      "metadata": {
        "_cell_guid": "c7af86f7-1d1f-4dd2-ff4e-4fd6159e85b0"
      },
      "outputs": [],
      "source": [
        "from sklearn.ensemble import RandomForestRegressor\n",
        "from sklearn.metrics import mean_absolute_error\n",
        "from sklearn.model_selection import train_test_split\n",
        "from sklearn.preprocessing import LabelEncoder\n",
        "from sklearn.base import BaseEstimator, TransformerMixin"
      ]
    },
    {
      "cell_type": "code",
      "execution_count": null,
      "metadata": {
        "_cell_guid": "ddf17374-a437-0293-11db-51232bd57242"
      },
      "outputs": [],
      "source": [
        "from collections import defaultdict"
      ]
    },
    {
      "cell_type": "code",
      "execution_count": null,
      "metadata": {
        "_cell_guid": "44596532-13a4-ef8f-0f05-6a30da7ac691"
      },
      "outputs": [],
      "source": [
        "class MultiLabelEncoder(BaseEstimator, TransformerMixin):\n",
        "    def __init__(self):\n",
        "        self.encoders = defaultdict(LabelEncoder)\n",
        "        \n",
        "    def fit(self, X):\n",
        "        X.apply(lambda x: self.encoders[x.name].fit(x))\n",
        "        return self\n",
        "        \n",
        "    def transform(self, X):\n",
        "        return X.apply(lambda x: self.encoders[x.name].transform(x))\n",
        "        \n",
        "    def fit_transform(self, X):\n",
        "        return X.apply(lambda x: self.encoders[x.name].fit_transform(x))\n",
        "        \n",
        "    def inverse_transform(self, X):\n",
        "        return X.apply(lambda x: self.encoders[x.name].inverse_transform(x))"
      ]
    },
    {
      "cell_type": "code",
      "execution_count": null,
      "metadata": {
        "_cell_guid": "15689da9-4833-d7e0-f7f4-b89f74c1a7ec"
      },
      "outputs": [],
      "source": [
        "class Transform_df(BaseEstimator, TransformerMixin):\n",
        "    def __init__(self):\n",
        "        self.mlencode = MultiLabelEncoder()\n",
        "    \n",
        "    def fit(self, X):\n",
        "        self.cat_cols = list(filter(lambda x: \"cat\" in x, X.columns.values))\n",
        "        self.cont_cols = list(filter(lambda x: \"cont\" in x, X.columns.values))\n",
        "        # self.mlencode.fit(X[self.cat_cols])\n",
        "        return self\n",
        "     \n",
        "    def transform(self, X):\n",
        "        #return pd.concat([self.mlencode.transform(X[self.cat_cols]), \n",
        "        return pd.concat([X[self.cat_cols].applymap(lambda x: ord(x[0])), \n",
        "                          X[self.cont_cols]], axis=1)"
      ]
    },
    {
      "cell_type": "code",
      "execution_count": null,
      "metadata": {
        "_cell_guid": "896453cf-6070-7c68-f32f-2c0893836c25"
      },
      "outputs": [],
      "source": [
        "X_train, X_test, y_train, y_test = train_test_split(X, y)"
      ]
    },
    {
      "cell_type": "code",
      "execution_count": null,
      "metadata": {
        "_cell_guid": "d0aa5f34-781f-c450-1b49-b6eeb81865a6"
      },
      "outputs": [],
      "source": [
        "feat_trans = Transform_df()\n",
        "X_train = feat_trans.fit_transform(X_train)\n",
        "X_test = feat_trans.transform(X_test)\n",
        "X_val = feat_trans.transform(df_test)"
      ]
    },
    {
      "cell_type": "code",
      "execution_count": null,
      "metadata": {
        "_cell_guid": "d7c1c01f-de06-ffff-9f05-abcafe510f0e"
      },
      "outputs": [],
      "source": [
        "clf = RandomForestRegressor(200)\n",
        "clf.fit(X_train, y_train)"
      ]
    },
    {
      "cell_type": "code",
      "execution_count": null,
      "metadata": {
        "_cell_guid": "345fce3d-6190-bf07-045e-6d81977fbec7"
      },
      "outputs": [],
      "source": [
        "mean_absolute_error(y_test, clf.predict(X_test))"
      ]
    },
    {
      "cell_type": "code",
      "execution_count": null,
      "metadata": {
        "_cell_guid": "bf13874c-c4fe-8620-4831-e2779c20c955"
      },
      "outputs": [],
      "source": [
        "y_p = clf.predict(X_val)"
      ]
    },
    {
      "cell_type": "code",
      "execution_count": null,
      "metadata": {
        "_cell_guid": "33e5e0d5-cd46-30f8-6750-682659d65958"
      },
      "outputs": [],
      "source": [
        "output = pd.DataFrame({'loss': y_p}, index=df_test.index)\n",
        "output"
      ]
    },
    {
      "cell_type": "code",
      "execution_count": null,
      "metadata": {
        "_cell_guid": "0b22e907-ca22-6efd-9168-183ebca02ec6"
      },
      "outputs": [],
      "source": [
        "output.to_csv(\"submission_01.csv\")"
      ]
    }
  ],
  "metadata": {
    "_change_revision": 0,
    "_is_fork": false,
    "kernelspec": {
      "display_name": "Python 3",
      "language": "python",
      "name": "python3"
    },
    "language_info": {
      "codemirror_mode": {
        "name": "ipython",
        "version": 3
      },
      "file_extension": ".py",
      "mimetype": "text/x-python",
      "name": "python",
      "nbconvert_exporter": "python",
      "pygments_lexer": "ipython3",
      "version": "3.5.2"
    }
  },
  "nbformat": 4,
  "nbformat_minor": 0
}