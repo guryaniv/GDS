{
  "cells": [
    {
      "cell_type": "code",
      "execution_count": null,
      "metadata": {
        "_cell_guid": "0c98f30c-fafd-618e-81e6-50e0b0c78d16"
      },
      "outputs": [],
      "source": [
        "# This Python 3 environment comes with many helpful analytics libraries installed\n",
        "# It is defined by the kaggle/python docker image: https://github.com/kaggle/docker-python\n",
        "# For example, here's several helpful packages to load in \n",
        "\n",
        "import numpy as np # linear algebra\n",
        "import pandas as pd # data processing, CSV file I/O (e.g. pd.read_csv)\n",
        "\n",
        "# Input data files are available in the \"../input/\" directory.\n",
        "# For example, running this (by clicking run or pressing Shift+Enter) will list the files in the input directory\n",
        "\n",
        "from subprocess import check_output\n",
        "print(check_output([\"ls\", \"../input\"]).decode(\"utf8\"))\n",
        "\n",
        "# Any results you write to the current directory are saved as output."
      ]
    },
    {
      "cell_type": "code",
      "execution_count": null,
      "metadata": {
        "_cell_guid": "565d1276-2974-07d9-d814-6e8f341a918c"
      },
      "outputs": [],
      "source": [
        "coupon_list_train = pd.read_csv('../input/coupon_list_train.csv')\n",
        "coupon_list_test = pd.read_csv('../input/coupon_list_test.csv')\n",
        "user_list = pd.read_csv('../input/user_list.csv')\n",
        "coupon_purchases_train = pd.read_csv(\"../input/coupon_detail_train.csv\")"
      ]
    },
    {
      "cell_type": "code",
      "execution_count": null,
      "metadata": {
        "_cell_guid": "be83b85c-e857-67aa-fe16-a0475d247e10"
      },
      "outputs": [],
      "source": [
        "set(coupon_list_test.GENRE_NAME.values)"
      ]
    },
    {
      "cell_type": "code",
      "execution_count": null,
      "metadata": {
        "_cell_guid": "0a18434e-ab9c-5ae7-572a-9b22f20ea4b7"
      },
      "outputs": [],
      "source": ""
    },
    {
      "cell_type": "code",
      "execution_count": null,
      "metadata": {
        "_cell_guid": "7b390ed3-929a-ec77-f03b-30111258f270"
      },
      "outputs": [],
      "source": [
        "print (user_list.shape, coupon_list_test.shape, coupon_list_train.shape, coupon_purchases_train.shape)"
      ]
    },
    {
      "cell_type": "code",
      "execution_count": null,
      "metadata": {
        "_cell_guid": "2515907c-6fee-3231-fd90-f27f1b15e3b0"
      },
      "outputs": [],
      "source": [
        "len(np.unique(coupon_purchases_train.COUPON_ID_hash.values))"
      ]
    },
    {
      "cell_type": "code",
      "execution_count": null,
      "metadata": {
        "_cell_guid": "214a281a-1bca-2fbb-f3f0-d5ccd3d74f97"
      },
      "outputs": [],
      "source": [
        "len(np.unique(coupon_list_train.COUPON_ID_hash.values))"
      ]
    },
    {
      "cell_type": "code",
      "execution_count": null,
      "metadata": {
        "_cell_guid": "a4837bfa-4449-643b-cd94-24ac1fc3bf5d"
      },
      "outputs": [],
      "source": [
        "sum([x in np.unique(coupon_list_train.COUPON_ID_hash.values) for x in np.unique(coupon_purchases_train.COUPON_ID_hash.values)])"
      ]
    },
    {
      "cell_type": "code",
      "execution_count": null,
      "metadata": {
        "_cell_guid": "a97aa8ae-5ec7-046c-6536-e9e76cddf12c"
      },
      "outputs": [],
      "source": [
        "set(purchased_coupons_train.COUPON_ID_hash.values).issubset(set(coupon_list_train.COUPON_ID_hash.values))"
      ]
    },
    {
      "cell_type": "code",
      "execution_count": null,
      "metadata": {
        "_cell_guid": "70089733-8400-05e5-729d-d97e74b8e6fc"
      },
      "outputs": [],
      "source": [
        "user_list.info(null_counts=True)"
      ]
    },
    {
      "cell_type": "code",
      "execution_count": null,
      "metadata": {
        "_cell_guid": "b47e379f-5ca9-6cfa-f90e-b27bddfa7ba3"
      },
      "outputs": [],
      "source": [
        "### merge to obtain (USER_ID) <-> (COUPON_ID with features) training set\n",
        "purchased_coupons_train = coupon_purchases_train.merge(coupon_list_train,\n",
        "                                                 on='COUPON_ID_hash',\n",
        "                                                 how='inner')"
      ]
    },
    {
      "cell_type": "code",
      "execution_count": null,
      "metadata": {
        "_cell_guid": "ef6aab50-197c-ce6e-1241-10bbf2e188fb"
      },
      "outputs": [],
      "source": [
        "purchased_coupons_train.info(null_counts=True)"
      ]
    },
    {
      "cell_type": "code",
      "execution_count": null,
      "metadata": {
        "_cell_guid": "ae2503c2-837d-3f5c-a9c5-d65a403bbe76"
      },
      "outputs": [],
      "source": [
        "features = ['COUPON_ID_hash', 'USER_ID_hash',\n",
        "            'GENRE_NAME', 'DISCOUNT_PRICE', 'PRICE_RATE',\n",
        "            'USABLE_DATE_MON', 'USABLE_DATE_TUE', 'USABLE_DATE_WED', 'USABLE_DATE_THU',\n",
        "            'USABLE_DATE_FRI', 'USABLE_DATE_SAT', 'USABLE_DATE_SUN', 'USABLE_DATE_HOLIDAY',\n",
        "            'USABLE_DATE_BEFORE_HOLIDAY', 'large_area_name', 'ken_name', 'small_area_name']\n",
        "purchased_coupons_train = purchased_coupons_train[features]"
      ]
    },
    {
      "cell_type": "code",
      "execution_count": null,
      "metadata": {
        "_cell_guid": "98de9e54-60f5-f48e-1283-c77739b51c5d"
      },
      "outputs": [],
      "source": [
        "purchased_coupons_train.info(null_counts=True)"
      ]
    },
    {
      "cell_type": "code",
      "execution_count": null,
      "metadata": {
        "_cell_guid": "fd8cea0b-0b3c-36d1-cf79-595df75e6ad8"
      },
      "outputs": [],
      "source": [
        "### create 'dummyuser' records in order to merge training and testing sets in one\n",
        "coupon_list_test['USER_ID_hash'] = 'dummyuser'"
      ]
    },
    {
      "cell_type": "code",
      "execution_count": null,
      "metadata": {
        "_cell_guid": "b4b90a90-def0-0f2d-bc53-3ac9987d796b"
      },
      "outputs": [],
      "source": [
        "### filter testing set consistently with training set\n",
        "coupon_list_test = coupon_list_test[features]"
      ]
    },
    {
      "cell_type": "code",
      "execution_count": null,
      "metadata": {
        "_cell_guid": "49790263-e29f-9900-1c3d-3884909c3a38"
      },
      "outputs": [],
      "source": [
        "### merge sets together\n",
        "combined = pd.concat([purchased_coupons_train, coupon_list_test], axis=0)"
      ]
    },
    {
      "cell_type": "code",
      "execution_count": null,
      "metadata": {
        "_cell_guid": "215226e6-264e-c33d-8ded-079552bbb07a"
      },
      "outputs": [],
      "source": [
        "print (purchased_coupons_train.shape, coupon_list_test.shape, combined.shape)"
      ]
    },
    {
      "cell_type": "code",
      "execution_count": null,
      "metadata": {
        "_cell_guid": "ab06c950-1b72-5b1d-bef6-d23abcda82f4"
      },
      "outputs": [],
      "source": [
        "168996 + 310"
      ]
    },
    {
      "cell_type": "code",
      "execution_count": null,
      "metadata": {
        "_cell_guid": "68264b12-296d-5523-5c37-02653cd4abed"
      },
      "outputs": [],
      "source": [
        "### create two new features\n",
        "combined['DISCOUNT_PRICE'] = 1 / np.log10(combined['DISCOUNT_PRICE'])\n",
        "combined['PRICE_RATE'] = (combined['PRICE_RATE'] / 100) ** 2\n",
        "features.extend(['DISCOUNT_PRICE', 'PRICE_RATE'])"
      ]
    },
    {
      "cell_type": "code",
      "execution_count": null,
      "metadata": {
        "_cell_guid": "79629ffa-3e89-364b-ab2a-c859148f1740"
      },
      "outputs": [],
      "source": [
        "### convert categoricals to OneHotEncoder form\n",
        "categoricals = ['GENRE_NAME', 'USABLE_DATE_MON', 'USABLE_DATE_TUE', 'USABLE_DATE_WED',\n",
        "                'USABLE_DATE_THU', 'USABLE_DATE_FRI', 'USABLE_DATE_SAT', 'USABLE_DATE_SUN',\n",
        "                'USABLE_DATE_HOLIDAY', 'USABLE_DATE_BEFORE_HOLIDAY', 'large_area_name', 'ken_name', 'small_area_name']\n",
        "combined_categoricals = combined[categoricals]\n",
        "combined_categoricals = pd.get_dummies(combined_categoricals,\n",
        "                                    dummy_na=False)"
      ]
    },
    {
      "cell_type": "code",
      "execution_count": null,
      "metadata": {
        "_cell_guid": "6a69ede8-1669-06d0-e1c8-4a07cad06637"
      },
      "outputs": [],
      "source": [
        "### leaving continuous features as is, obtain transformed dataset\n",
        "continuous = list(set(features) - set(categoricals))\n",
        "combined = pd.concat([combined[continuous], combined_categoricals], axis=1)"
      ]
    },
    {
      "cell_type": "code",
      "execution_count": null,
      "metadata": {
        "_cell_guid": "325eccc3-9345-88cd-98e7-1d4ab31c861b"
      },
      "outputs": [],
      "source": [
        "### remove NaN values\n",
        "NAN_SUBSTITUTION_VALUE = 1\n",
        "combined = combined.fillna(NAN_SUBSTITUTION_VALUE)"
      ]
    },
    {
      "cell_type": "code",
      "execution_count": null,
      "metadata": {
        "_cell_guid": "a3c2a553-b3b2-a8b5-c481-7c17573f1a7b"
      },
      "outputs": [],
      "source": [
        "### split back into training and testing sets\n",
        "train = combined[combined['USER_ID_hash'] != 'dummyuser']\n",
        "test = combined[combined['USER_ID_hash'] == 'dummyuser']\n",
        "test.drop('USER_ID_hash', inplace=True, axis=1)"
      ]
    },
    {
      "cell_type": "code",
      "execution_count": null,
      "metadata": {
        "_cell_guid": "80454203-2848-60eb-9d1c-c699960efe3c"
      },
      "outputs": [],
      "source": [
        "### find most appropriate coupon for every user (mean of all purchased coupons), in other words, user profile\n",
        "train_dropped_coupons = train.drop('COUPON_ID_hash', axis=1)\n",
        "user_profiles = train_dropped_coupons.groupby(by='USER_ID_hash').apply(np.mean)\n",
        "\n",
        "### creating weight matrix for features\n",
        "FEATURE_WEIGHTS = {\n",
        "    'GENRE_NAME': 2,\n",
        "    'DISCOUNT_PRICE': 2,\n",
        "    'PRICE_RATE': 0,\n",
        "    'USABLE_DATE_': 0,\n",
        "    'large_area_name': 0.5,\n",
        "    'ken_name': 1,\n",
        "    'small_area_name': 5\n",
        "}"
      ]
    },
    {
      "cell_type": "code",
      "execution_count": null,
      "metadata": {
        "_cell_guid": "51a015ea-142f-4405-212c-ae0eee8fe759"
      },
      "outputs": [],
      "source": [
        "train_dropped_coupons.info(null_counts=True)"
      ]
    },
    {
      "cell_type": "code",
      "execution_count": null,
      "metadata": {
        "_cell_guid": "b43b6328-2220-1d72-4484-d6b97e8022b4"
      },
      "outputs": [],
      "source": [
        "user_profiles.info(null_counts=True)"
      ]
    },
    {
      "cell_type": "code",
      "execution_count": null,
      "metadata": {
        "_cell_guid": "adeb6239-2bbc-799a-f201-c205a0c0645c"
      },
      "outputs": [],
      "source": [
        "def find_appropriate_weight(weights_dict, colname):\n",
        "    for col, weight in weights_dict.items():\n",
        "        if col in colname:\n",
        "            return weight\n",
        "    raise ValueError"
      ]
    },
    {
      "cell_type": "code",
      "execution_count": null,
      "metadata": {
        "_cell_guid": "4b58c842-46b5-0911-b98c-b8b941c4eaa3"
      },
      "outputs": [],
      "source": [
        "W_values = [find_appropriate_weight(FEATURE_WEIGHTS, colname)\n",
        "            for colname in user_profiles.columns]\n",
        "W = np.diag(W_values)"
      ]
    },
    {
      "cell_type": "code",
      "execution_count": null,
      "metadata": {
        "_cell_guid": "91e6e42d-37ad-f5d4-43ca-8be0d53efe1e"
      },
      "outputs": [],
      "source": [
        "### find weighted dot product(modified cosine similarity) between each test coupon and user profiles\n",
        "test_only_features = test.drop('COUPON_ID_hash', axis=1)\n",
        "similarity_scores = np.dot(np.dot(user_profiles, W),\n",
        "                           test_only_features.T)"
      ]
    },
    {
      "cell_type": "code",
      "execution_count": null,
      "metadata": {
        "_cell_guid": "b69b219a-3703-944e-9e72-c06ad71efa05"
      },
      "outputs": [],
      "source": [
        "### create (USED_ID)x(COUPON_ID) dataframe, similarity scores as values\n",
        "coupons_ids = test['COUPON_ID_hash']\n",
        "index = user_profiles.index\n",
        "columns = [coupons_ids[i] for i in range(0, similarity_scores.shape[1])]\n",
        "result_df = pd.DataFrame(index=index, columns=columns,\n",
        "                      data=similarity_scores)"
      ]
    },
    {
      "cell_type": "code",
      "execution_count": null,
      "metadata": {
        "_cell_guid": "53bf135c-fbf3-2f12-4b08-f515acd67705"
      },
      "outputs": [],
      "source": [
        "def get_top10_coupon_hashes_string(row):\n",
        "    row.sort()\n",
        "    return ' '.join(row.index[-10:][::-1].tolist())\n",
        "\n",
        "output = result_df.apply(get_top10_coupon_hashes_string, axis=1)\n",
        "\n",
        "\n",
        "output_df = pd.DataFrame(data={'USER_ID_hash': output.index,\n",
        "                               'PURCHASED_COUPONS': output.values})\n",
        "output_df_all_users = pd.merge(user_list, output_df, how='left', on='USER_ID_hash')"
      ]
    },
    {
      "cell_type": "code",
      "execution_count": null,
      "metadata": {
        "_cell_guid": "c5089bcb-8be5-2403-b0c0-d9d646d7ca59"
      },
      "outputs": [],
      "source": [
        "output_df_all_users.to_csv('cosine_sim_python.csv', header=True,\n",
        "                           index=False, columns=['USER_ID_hash', 'PURCHASED_COUPONS'])"
      ]
    },
    {
      "cell_type": "code",
      "execution_count": null,
      "metadata": {
        "_cell_guid": "23505c18-eab8-424b-2a08-4237f64e18ff"
      },
      "outputs": [],
      "source": [
        "output_df_all_users.head()"
      ]
    },
    {
      "cell_type": "code",
      "execution_count": null,
      "metadata": {
        "_cell_guid": "740a66b9-3a6a-6fad-0732-85a40e0272fe"
      },
      "outputs": [],
      "source": [
        "user_profiles"
      ]
    },
    {
      "cell_type": "code",
      "execution_count": null,
      "metadata": {
        "_cell_guid": "d795eb78-38a8-8cae-26b3-83eef1de3c9f"
      },
      "outputs": [],
      "source": [
        "user_profiles.columns"
      ]
    },
    {
      "cell_type": "code",
      "execution_count": null,
      "metadata": {
        "_cell_guid": "8387c40a-2b8c-1f02-5cda-984930aaf910"
      },
      "outputs": [],
      "source": ""
    }
  ],
  "metadata": {
    "_change_revision": 0,
    "_is_fork": false,
    "kernelspec": {
      "display_name": "Python 3",
      "language": "python",
      "name": "python3"
    },
    "language_info": {
      "codemirror_mode": {
        "name": "ipython",
        "version": 3
      },
      "file_extension": ".py",
      "mimetype": "text/x-python",
      "name": "python",
      "nbconvert_exporter": "python",
      "pygments_lexer": "ipython3",
      "version": "3.6.0"
    }
  },
  "nbformat": 4,
  "nbformat_minor": 0
}