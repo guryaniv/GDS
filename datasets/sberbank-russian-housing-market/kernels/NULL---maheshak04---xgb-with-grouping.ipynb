{
  "cells": [
    {
      "cell_type": "code",
      "execution_count": null,
      "metadata": {
        "_cell_guid": "e3a6aa33-289a-5f8f-fa20-3f5f989f9089"
      },
      "outputs": [],
      "source": [
        "# This Python 3 environment comes with many helpful analytics libraries installed\n",
        "# It is defined by the kaggle/python docker image: https://github.com/kaggle/docker-python\n",
        "# For example, here's several helpful packages to load in \n",
        "\n",
        "import numpy as np # linear algebra\n",
        "import pandas as pd # data processing, CSV file I/O (e.g. pd.read_csv)\n",
        "\n",
        "# Input data files are available in the \"../input/\" directory.\n",
        "# For example, running this (by clicking run or pressing Shift+Enter) will list the files in the input directory\n",
        "\n",
        "from subprocess import check_output\n",
        "print(check_output([\"ls\", \"../input\"]).decode(\"utf8\"))\n",
        "import xgboost as xgb\n",
        "# Any results you write to the current directory are saved as output."
      ]
    },
    {
      "cell_type": "code",
      "execution_count": null,
      "metadata": {
        "_cell_guid": "f8fed06c-ab57-6395-6551-feb819bd135b"
      },
      "outputs": [],
      "source": [
        "train_df=pd.read_csv('../input/train.csv')\n",
        "macro_df=pd.read_csv('../input/macro.csv')\n",
        "test_df=pd.read_csv('../input/test.csv')\n"
      ]
    },
    {
      "cell_type": "code",
      "execution_count": null,
      "metadata": {
        "_cell_guid": "dfd28808-e3a4-07ad-78cf-10dd8691bdc8"
      },
      "outputs": [],
      "source": [
        "train_df.shape"
      ]
    },
    {
      "cell_type": "code",
      "execution_count": null,
      "metadata": {
        "_cell_guid": "df205bee-516b-2e57-1e59-4af57fe1d5ef"
      },
      "outputs": [],
      "source": [
        "macro_df.shape"
      ]
    },
    {
      "cell_type": "code",
      "execution_count": null,
      "metadata": {
        "_cell_guid": "6e4fe8db-b855-b676-04f8-032587c4eb8c"
      },
      "outputs": [],
      "source": [
        "test_df.shape"
      ]
    },
    {
      "cell_type": "code",
      "execution_count": null,
      "metadata": {
        "_cell_guid": "877cc3e9-c653-285f-f6a3-cc6ec54426e9"
      },
      "outputs": [],
      "source": [
        "inv_train=train_df[train_df['product_type']=='Investment']"
      ]
    },
    {
      "cell_type": "code",
      "execution_count": null,
      "metadata": {
        "_cell_guid": "e39ccd39-de7a-1f5b-6693-f0abdcf83aa1"
      },
      "outputs": [],
      "source": [
        "inv_train.head()"
      ]
    },
    {
      "cell_type": "code",
      "execution_count": null,
      "metadata": {
        "_cell_guid": "c1d8cf8a-60e9-9e76-ce0f-a7d990a1c3ec"
      },
      "outputs": [],
      "source": [
        "inv_mac_train=pd.concat([inv_train,macro_df],axis=0)"
      ]
    },
    {
      "cell_type": "code",
      "execution_count": null,
      "metadata": {
        "_cell_guid": "f561d7bc-b620-7438-d139-3c6a94981247"
      },
      "outputs": [],
      "source": [
        "inv_test=test_df[test_df['product_type']=='Investment']"
      ]
    },
    {
      "cell_type": "code",
      "execution_count": null,
      "metadata": {
        "_cell_guid": "22e7a857-7b8e-c643-14d1-f480c094d147"
      },
      "outputs": [],
      "source": [
        "inv_test.head()"
      ]
    },
    {
      "cell_type": "code",
      "execution_count": null,
      "metadata": {
        "_cell_guid": "c53a5c31-65b1-3228-7719-ac674298badb"
      },
      "outputs": [],
      "source": [
        "inv_mac_test=pd.concat([inv_test,macro_df],axis=0)"
      ]
    },
    {
      "cell_type": "code",
      "execution_count": null,
      "metadata": {
        "_cell_guid": "fa86ae44-c366-8daa-1453-9e4400669cc7"
      },
      "outputs": [],
      "source": [
        "inv_mac_test\n",
        "inv_mac_train"
      ]
    },
    {
      "cell_type": "code",
      "execution_count": null,
      "metadata": {
        "_cell_guid": "e570e81a-d47f-d2cd-74c7-dc90f82a2c97"
      },
      "outputs": [],
      "source": [
        "corrmat = inv_mac_train.corr()\n",
        "n = 20\n",
        "cols = corrmat.nlargest(n, 'price_doc')['price_doc'].index\n",
        "cm_df = inv_mac_train[cols].corr()\n",
        "f, ax = plt.subplots(figsize=(12, 9))\n",
        "sns.heatmap(cm_df, square=True, annot=True, fmt='.2f', annot_kws={'size':10}, cbar=True)"
      ]
    },
    {
      "cell_type": "code",
      "execution_count": null,
      "metadata": {
        "_cell_guid": "fb4d95d4-3837-c36e-b4ea-ffc07442d8bd"
      },
      "outputs": [],
      "source": [
        "import seaborn as sns\n",
        "import matplotlib.pyplot as plt"
      ]
    },
    {
      "cell_type": "code",
      "execution_count": null,
      "metadata": {
        "_cell_guid": "63c11764-672f-258a-ae13-8c63c4bdcd55"
      },
      "outputs": [],
      "source": [
        "o_train=train_df[train_df['product_type']=='OwnerOccupier']"
      ]
    },
    {
      "cell_type": "code",
      "execution_count": null,
      "metadata": {
        "_cell_guid": "339b67df-cb56-2643-c832-d740a06b1f55"
      },
      "outputs": [],
      "source": [
        "o_mac_train=pd.concat([o_train,macro_df],axis=0)"
      ]
    },
    {
      "cell_type": "code",
      "execution_count": null,
      "metadata": {
        "_cell_guid": "94305db7-e45c-364f-1633-69e81b4e0c8a"
      },
      "outputs": [],
      "source": [
        "corrmat = o_mac_train.corr()\n",
        "n = 20\n",
        "cols = corrmat.nlargest(n, 'price_doc')['price_doc'].index\n",
        "cm_df = o_mac_train[cols].corr()\n",
        "f, ax = plt.subplots(figsize=(12, 9))\n",
        "sns.heatmap(cm_df, square=True, annot=True, fmt='.2f', annot_kws={'size':10}, cbar=True)"
      ]
    },
    {
      "cell_type": "code",
      "execution_count": null,
      "metadata": {
        "_cell_guid": "ee7ccfa0-fddd-e4d0-bd32-ce5e5bb9b5ae"
      },
      "outputs": [],
      "source": [
        "o_test=test_df[test_df['product_type']=='OwnerOccupier']"
      ]
    },
    {
      "cell_type": "code",
      "execution_count": null,
      "metadata": {
        "_cell_guid": "334600ce-f910-fb01-3823-e80ffbfd3ae6"
      },
      "outputs": [],
      "source": [
        "o_mac_test=pd.concat([o_test,macro_df],axis=0)"
      ]
    },
    {
      "cell_type": "code",
      "execution_count": null,
      "metadata": {
        "_cell_guid": "3c43dd83-c390-2b64-2068-7aec55d21634"
      },
      "outputs": [],
      "source": [
        "df_train = inv_train\n",
        "df_test = inv_test\n",
        "df_macro = pd.read_csv(\"../input/macro.csv\", parse_dates=['timestamp'])"
      ]
    },
    {
      "cell_type": "code",
      "execution_count": null,
      "metadata": {
        "_cell_guid": "a7251633-8f6b-76d4-a2b1-6c1b887484cf"
      },
      "outputs": [],
      "source": [
        "df_train.head()"
      ]
    },
    {
      "cell_type": "code",
      "execution_count": null,
      "metadata": {
        "_cell_guid": "e4937fa1-f037-5724-f63b-d7535c27b2a1"
      },
      "outputs": [],
      "source": [
        "print(df_train.shape)\n",
        "df_train.loc[df_train.full_sq == 0, 'full_sq'] = 30\n",
        "df_train = df_train[df_train.price_doc/df_train.full_sq <= 600000]\n",
        "df_train = df_train[df_train.price_doc/df_train.full_sq >= 10000]\n",
        "print(df_train.shape)"
      ]
    },
    {
      "cell_type": "code",
      "execution_count": null,
      "metadata": {
        "_cell_guid": "64d40a24-7cda-accf-4cd2-e3dbf7a72190"
      },
      "outputs": [],
      "source": [
        "y_train = df_train['price_doc'].values\n",
        "id_test =test_df['id']"
      ]
    },
    {
      "cell_type": "code",
      "execution_count": null,
      "metadata": {
        "_cell_guid": "ab5cec93-2c43-cb66-81ad-b56b064cb5e9"
      },
      "outputs": [],
      "source": [
        "df_train.drop(['id', 'price_doc'], axis=1, inplace=True)\n"
      ]
    },
    {
      "cell_type": "code",
      "execution_count": null,
      "metadata": {
        "_cell_guid": "9a05b61d-1ef4-f9fe-e78b-297f64876b65"
      },
      "outputs": [],
      "source": [
        "num_train = len(df_train)\n",
        "df_all = pd.concat([df_train, df_test])\n",
        "df_all = df_all.join(macro_df, on='timestamp', rsuffix='_macro')\n",
        "print(df_all.shape)"
      ]
    },
    {
      "cell_type": "code",
      "execution_count": null,
      "metadata": {
        "_cell_guid": "83a8625b-abc6-e7e6-41dc-a0e9f49f9695"
      },
      "outputs": [],
      "source": [
        "df_all"
      ]
    },
    {
      "cell_type": "code",
      "execution_count": null,
      "metadata": {
        "_cell_guid": "202eeece-0dbf-b0bf-0457-f0612da6a210"
      },
      "outputs": [],
      "source": ""
    },
    {
      "cell_type": "code",
      "execution_count": null,
      "metadata": {
        "_cell_guid": "ffda5629-a909-2138-f0ca-6fa1d8140ac3"
      },
      "outputs": [],
      "source": ""
    }
  ],
  "metadata": {
    "_change_revision": 0,
    "_is_fork": false,
    "kernelspec": {
      "display_name": "Python 3",
      "language": "python",
      "name": "python3"
    },
    "language_info": {
      "codemirror_mode": {
        "name": "ipython",
        "version": 3
      },
      "file_extension": ".py",
      "mimetype": "text/x-python",
      "name": "python",
      "nbconvert_exporter": "python",
      "pygments_lexer": "ipython3",
      "version": "3.6.0"
    }
  },
  "nbformat": 4,
  "nbformat_minor": 0
}