{
  "cells": [
    {
      "cell_type": "markdown",
      "metadata": {
        "_cell_guid": "936adb50-0332-1adc-79ba-0d1d8a22eb98"
      },
      "source": [
        "Re-doing analysis to verify hypothesis presented by [Ash Hafez](https://www.kaggle.com/ashhafez/quora-question-pairs/temporal-pattern-in-train-response-rates) which suggests temporal behavior for duplicates ratio. \n",
        "\n",
        "I wanted to compare question posting date on quora with qid to verify the hypothesis"
      ]
    },
    {
      "cell_type": "code",
      "execution_count": null,
      "metadata": {
        "_cell_guid": "83f9757a-d270-8155-af97-9c4941cdffc5"
      },
      "outputs": [],
      "source": [
        "\n",
        "import numpy as np # linear algebra\n",
        "import pandas as pd # data processing, CSV file I/O (e.g. pd.read_csv)\n",
        "import matplotlib.pyplot as plt\n",
        "\n",
        "df = pd.read_csv( \"../input/train.csv\")\n",
        "\n",
        "df_new      = pd.concat([df[['qid1', 'question1','is_duplicate']].rename(columns = {'qid1': 'qid','question1': 'question'}), \n",
        "                         df[['qid2', 'question2','is_duplicate']].rename(columns = {'qid2': 'qid','question2': 'question'})])\n",
        "df_new      = df_new.sort_values(by=[\"qid\"], ascending=True)\n",
        "df_new[\"dupe_rate\"] = df_new.is_duplicate.rolling(window=500, min_periods=500).mean()\n",
        "df_new[\"timeline\"]  = np.arange(df_new.shape[0]) / float(df_new.shape[0])\n",
        "\n",
        "df_new.plot(x=\"timeline\", y=\"dupe_rate\", kind=\"line\")\n",
        "plt.show()"
      ]
    },
    {
      "cell_type": "markdown",
      "metadata": {
        "_cell_guid": "ec29b0de-4357-3efc-ec59-af471196508e"
      },
      "source": [
        "Above pattern shows temporal behaviour as reported by Ash. But, we have not removed duplicate entries for a qid, that may also have some role to play in this strong correlation.\n",
        "\n",
        "Lets drop duplicates and check again!"
      ]
    },
    {
      "cell_type": "code",
      "execution_count": null,
      "metadata": {
        "_cell_guid": "a70804cb-6af0-ab6e-497f-bd911e307078"
      },
      "outputs": [],
      "source": [
        "df_new2 = df_new.drop_duplicates(subset='qid')\n",
        "df_new2[\"dupe_rate\"] = df_new2.is_duplicate.rolling(window=500, min_periods=500).mean()\n",
        "df_new2[\"timeline\"]  = np.arange(df_new2.shape[0]) / float(df_new2.shape[0])\n",
        "df_new2.plot(x=\"timeline\", y=\"dupe_rate\", kind=\"line\")\n",
        "plt.show()"
      ]
    },
    {
      "cell_type": "markdown",
      "metadata": {
        "_cell_guid": "a5b80b2d-d2bc-c693-3fae-e728095ad1c4"
      },
      "source": [
        "Interesting!\n",
        "\n",
        "So,** there is ** temporal behavior to qid but not as strong as observed in first plot. \n",
        " \n",
        "Also, in last 20% qid's it began to sharply drop. \n",
        "\n",
        "The sharp drop can be result of quora improving some logic to detect duplicates or just drop in quora users.\n",
        "\n",
        "Now to verify, lets pick some significant events and try to check their correlation with qid\n"
      ]
    },
    {
      "cell_type": "code",
      "execution_count": null,
      "metadata": {
        "_cell_guid": "f4af5342-636c-bf6e-cd0a-ac2db1c7b561"
      },
      "outputs": [],
      "source": [
        "df_new2.question.iloc[3]"
      ]
    },
    {
      "cell_type": "markdown",
      "metadata": {
        "_cell_guid": "4642fcd5-1f1d-87fe-4b4b-58662946a350"
      },
      "source": [
        "I checked question with qid 3 on Quora website and found this:\n",
        "\n",
        "Question added by Vaibhav Doshi.\n",
        "What is the story of Kohinoor?\n",
        "#56151487 \u00b7 Thank \u00b7 Report \u00b7 10 Jan 2015 10:26 AM"
      ]
    },
    {
      "cell_type": "code",
      "execution_count": null,
      "metadata": {
        "_cell_guid": "a7dddeb9-aa14-b16a-252c-8e2463a6fda0"
      },
      "outputs": [],
      "source": [
        "df_new2.question.iloc[10000]"
      ]
    },
    {
      "cell_type": "markdown",
      "metadata": {
        "_cell_guid": "afc538da-342e-9899-a875-955ede6577fe"
      },
      "source": [
        "Add date on Quora for above question\n",
        "\n",
        "Question added by Panna Pan.\n",
        "How do you pronounce the name of the Danish singer \"M\u00d8\" in English?\n",
        "#65218948 \u00b7 Thank \u00b7 Report \u00b7 24 Mar 2015 1:58 PM"
      ]
    },
    {
      "cell_type": "code",
      "execution_count": null,
      "metadata": {
        "_cell_guid": "c41ef32a-1cdb-7f33-872e-a6b28428cf0b"
      },
      "outputs": [],
      "source": [
        "df_new2.question.iloc[200000]"
      ]
    },
    {
      "cell_type": "markdown",
      "metadata": {
        "_cell_guid": "883d3d64-0569-81d2-3f11-dd76766c3b06"
      },
      "source": [
        "Question added by Quora User.\n",
        "Atheism: Evidence the Bible is all a lie?\n",
        "#14962974 \u00b7 Thank \u00b7 Report \u00b7 17 May 2013 9:13 PM\n",
        "\n",
        "This qid for this is not in time order. (Did it get edited and reassigned due to other question being merged into this one )"
      ]
    },
    {
      "cell_type": "code",
      "execution_count": null,
      "metadata": {
        "_cell_guid": "44514590-cbb2-f44e-1f49-168c47728a9c"
      },
      "outputs": [],
      "source": [
        "df_new2.question.iloc[300000]"
      ]
    },
    {
      "cell_type": "markdown",
      "metadata": {
        "_cell_guid": "d008af84-a0e6-1673-71ff-f080ad20923f"
      },
      "source": [
        "Well, this question has been merged with other question\n",
        "\n",
        "Which terror group would win if they would have fought each other Isis or Nazis? was merged into this question by Robert P. Collins.\n",
        "#197856891 \u00b7 Thank \u00b7 Revert \u00b7 Report \u00b7 23 Dec 2016 2:28 AM"
      ]
    },
    {
      "cell_type": "code",
      "execution_count": null,
      "metadata": {
        "_cell_guid": "349677dd-f860-aeea-965b-215e2d7bd634"
      },
      "outputs": [],
      "source": [
        "df_new2.question.iloc[-50000]"
      ]
    },
    {
      "cell_type": "markdown",
      "metadata": {
        "_cell_guid": "8f12c877-b18e-1425-9aa8-d08e14b12ca3"
      },
      "source": [
        "Actually I remember reading answers for this question last year.\n",
        "\n",
        "Question added by Anonymous.\n",
        "I am 27 years old, with a salary of 40k/month. How should I invest my money every month if my savings are 30k/month?\n",
        "#144223337 \u00b7 Thank \u00b7 Report \u00b7 15 May 2016 7:20 PM"
      ]
    },
    {
      "cell_type": "code",
      "execution_count": null,
      "metadata": {
        "_cell_guid": "ac5b3255-99dd-dc7d-f471-ead29dc4c917"
      },
      "outputs": [],
      "source": [
        "df_new2.question.iloc[-3]"
      ]
    },
    {
      "cell_type": "markdown",
      "metadata": {
        "_cell_guid": "d92287b5-a799-8bbf-cab8-e243d0a989d7"
      },
      "source": [
        "Question added by Anonymous.\n",
        "Hair styling product wax, gel or clay?\n",
        "#183871795 \u00b7 Thank \u00b7 Report \u00b7 1 Nov 2016 9:53 PM"
      ]
    },
    {
      "cell_type": "code",
      "execution_count": null,
      "metadata": {
        "_cell_guid": "c38e9a40-acc1-6134-86b7-d0b98cdeaecc"
      },
      "outputs": [],
      "source": [
        "df_new2.shape"
      ]
    },
    {
      "cell_type": "markdown",
      "metadata": {
        "_cell_guid": "c4489ba7-ad90-fa2b-2183-4d957ae3f114"
      },
      "source": [
        "**So, indeed qids seem to be in time order.**"
      ]
    },
    {
      "cell_type": "code",
      "execution_count": null,
      "metadata": {
        "_cell_guid": "760b1502-5dea-167c-3249-32e9e573bf0b"
      },
      "outputs": [],
      "source": [
        ""
      ]
    }
  ],
  "metadata": {
    "_change_revision": 0,
    "_is_fork": false,
    "kernelspec": {
      "display_name": "Python 3",
      "language": "python",
      "name": "python3"
    },
    "language_info": {
      "codemirror_mode": {
        "name": "ipython",
        "version": 3
      },
      "file_extension": ".py",
      "mimetype": "text/x-python",
      "name": "python",
      "nbconvert_exporter": "python",
      "pygments_lexer": "ipython3",
      "version": "3.6.0"
    }
  },
  "nbformat": 4,
  "nbformat_minor": 0
}