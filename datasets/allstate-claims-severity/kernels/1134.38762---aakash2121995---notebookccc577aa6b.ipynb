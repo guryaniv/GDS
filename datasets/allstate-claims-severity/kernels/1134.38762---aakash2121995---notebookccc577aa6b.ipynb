{
 "cells": [
  {
   "cell_type": "markdown",
   "metadata": {
    "_cell_guid": "2f12c1d2-e9a1-9be6-d3c9-7e4bbe73f6be"
   },
   "source": [
    "All state"
   ]
  },
  {
   "cell_type": "code",
   "execution_count": null,
   "metadata": {
    "_cell_guid": "3c5af904-d5d4-fc9e-70d0-0bf6e0535296"
   },
   "outputs": [],
   "source": [
    "import warnings\n",
    "warnings.filterwarnings('ignore')\n",
    "\n",
    "\n",
    "\n",
    "import pandas\n",
    "dataset = pandas.read_csv(\"../input/train.csv\") \n",
    "dataset_test = pandas.read_csv(\"../input/test.csv\")\n",
    "ID = dataset_test['id']\n",
    "\n",
    "dataset_test.drop('id',axis=1,inplace=True)\n",
    "pandas.set_option('display.max_rows', None)\n",
    "pandas.set_option('display.max_columns', None)\n",
    "\n",
    "print(dataset.head(5))"
   ]
  },
  {
   "cell_type": "code",
   "execution_count": null,
   "metadata": {
    "_cell_guid": "3ef5b27f-3dfe-5261-1d95-f4ecf9a57ff5"
   },
   "outputs": [],
   "source": [
    "import seaborn as sns\n",
    "import numpy as np\n",
    "import matplotlib.pyplot as plt\n",
    "\n",
    "%matplotlib inline\n",
    "labels = []\n",
    "values = []\n",
    "for col in dataset_test.columns:\n",
    "    labels.append(col)\n",
    "    values.append(dataset[col].isnull().sum())\n",
    "    print(col, values[-1])\n",
    "ind = np.arange(len(labels))\n",
    "width = 0.9\n",
    "fig, ax = plt.subplots(figsize=(12,50))\n",
    "rects = ax.barh(ind, np.array(values), color='y')\n",
    "ax.set_yticks(ind+((width)/2.))\n",
    "ax.set_yticklabels(labels, rotation='horizontal')\n",
    "ax.set_xlabel(\"Count of missing values\")\n",
    "ax.set_title(\"Number of missing values in each column\")\n",
    "#autolabel(rects)\n",
    "plt.show()"
   ]
  },
  {
   "cell_type": "code",
   "execution_count": null,
   "metadata": {
    "_cell_guid": "ebe4572b-9ca9-460d-17d3-5a3f6426f767"
   },
   "outputs": [],
   "source": [
    "dataset.head()"
   ]
  },
  {
   "cell_type": "code",
   "execution_count": null,
   "metadata": {
    "_cell_guid": "d5d72b5e-1eef-28e9-7ba9-20e0c2563bd8"
   },
   "outputs": [],
   "source": [
    "dataset = dataset.iloc[:,1:]"
   ]
  },
  {
   "cell_type": "code",
   "execution_count": null,
   "metadata": {
    "_cell_guid": "aec4213a-5b82-7677-e476-c0ea0bfae39d"
   },
   "outputs": [],
   "source": [
    "#cont data\n",
    "data=dataset.iloc[:,116:] \n",
    "size = 15\n",
    "data_corr = data.corr()\n",
    "\n",
    "# Set the threshold to select only highly correlated attributes\n",
    "threshold = 0.5\n",
    "\n",
    "# List of pairs along with correlation above threshold\n",
    "corr_list = []\n",
    "\n",
    "#Search for the highly correlated pairs\n",
    "for i in range(0,size): #for 'size' features\n",
    "    for j in range(i+1,size): #avoid repetition\n",
    "        if (data_corr.iloc[i,j] >= threshold and data_corr.iloc[i,j] < 1) or (data_corr.iloc[i,j] < 0 and data_corr.iloc[i,j] <= -threshold):\n",
    "            corr_list.append([data_corr.iloc[i,j],i,j]) #store correlation and columns index\n",
    "\n",
    "#Sort to show higher ones first            \n",
    "s_corr_list = sorted(corr_list,key=lambda x: -abs(x[0]))\n",
    "\n",
    "#Print correlations and column names\n",
    "for v,i,j in s_corr_list:\n",
    "    print (\"%s and %s = %.2f\" % (data.columns[i],data.columns[j],v))"
   ]
  },
  {
   "cell_type": "code",
   "execution_count": null,
   "metadata": {
    "_cell_guid": "e80dc085-1e1f-182e-ed63-b6dbe3851a0f"
   },
   "outputs": [],
   "source": [
    "import scipy.stats as scs\n",
    "from sklearn.preprocessing import LabelEncoder as LE\n",
    "\n",
    "def categories(series):\n",
    "    return range(int(series.min()), int(series.max()) + 1)\n",
    "\n",
    "\n",
    "def chi_square_of_df_cols(df, col1, col2):\n",
    "    df_col1, df_col2 = df[col1], df[col2]\n",
    "    le1 = LE()\n",
    "    df_col1 = le1.fit_transform(df_col1)\n",
    "    df_col2 = le1.fit_transform(df_col2)\n",
    "\n",
    "    result = [[sum((df_col1 == cat1) & (df_col2 == cat2))\n",
    "               for cat2 in categories(df_col2)]\n",
    "              for cat1 in categories(df_col1)]\n",
    "\n",
    "    return scs.chi2_contingency(result)\n"
   ]
  },
  {
   "cell_type": "code",
   "execution_count": null,
   "metadata": {
    "_cell_guid": "3b3c2888-862a-0f9d-4b10-64ff0b8714ef"
   },
   "outputs": [],
   "source": [
    "#colsCat = dataset.columns[:116]\n",
    "#corr_list2 = []\n",
    "#for i in range(0,116): #for 'size' features\n",
    "#    for j in range(i+1,116): #avoid repetition\n",
    "#        ch = chi_square_of_df_cols(dataset,colsCat[i],colsCat[j])[0]\n",
    "#        print(\"Correlation between \" + colsCat[i] + \" \" + colsCat[j] +\" \" + str(ch))\n",
    "#        corr_list2.append([ch,i,j]) #store correlation and columns index\n",
    "\n",
    "#Sort to show higher ones first            \n",
    "#s_corr_list2 = sorted(corr_list2,key=lambda x: -abs(x[0]))\n",
    "\n",
    "#Print correlations and column names\n",
    "#for v,i,j in s_corr_list2:\n",
    "    #print (\"%s and %s = %.2f\" % (data.columns[i],data.columns[j],v))"
   ]
  },
  {
   "cell_type": "code",
   "execution_count": null,
   "metadata": {
    "_cell_guid": "d4fba4f4-336c-9945-b79e-e43681e17341"
   },
   "outputs": [],
   "source": [
    "y = dataset.loss\n",
    "dataset.drop([\"loss\"], axis=1, inplace=True)"
   ]
  },
  {
   "cell_type": "code",
   "execution_count": null,
   "metadata": {
    "_cell_guid": "faf81b92-a065-a4af-dfcb-e85d71947795"
   },
   "outputs": [],
   "source": [
    "dataset.head()"
   ]
  },
  {
   "cell_type": "code",
   "execution_count": null,
   "metadata": {
    "_cell_guid": "81316b4e-35e4-e2b0-60ad-70dce9458dc5"
   },
   "outputs": [],
   "source": [
    "shapeTrain = dataset.shape"
   ]
  },
  {
   "cell_type": "code",
   "execution_count": null,
   "metadata": {
    "_cell_guid": "f8bc7c53-5039-eb33-c6a6-d34100d26ab9"
   },
   "outputs": [],
   "source": [
    "data = dataset.append(dataset_test)"
   ]
  },
  {
   "cell_type": "code",
   "execution_count": null,
   "metadata": {
    "_cell_guid": "986f8c45-d8bf-33ce-0d48-2d094a51ee2f"
   },
   "outputs": [],
   "source": [
    "catCols = data.columns[:116]\n",
    "WasteCat = []\n",
    "for col in catCols:\n",
    "    if data[col].value_counts()[0] > 310000:\n",
    "        print(col)\n",
    "        WasteCat.append(col)\n",
    "print(len(WasteCat))"
   ]
  },
  {
   "cell_type": "code",
   "execution_count": null,
   "metadata": {
    "_cell_guid": "735b6b54-a552-fe1f-a46e-9115d9e11a91"
   },
   "outputs": [],
   "source": [
    "print(data.shape[0]*0.99)"
   ]
  },
  {
   "cell_type": "code",
   "execution_count": null,
   "metadata": {
    "_cell_guid": "2a144aab-93fa-f58b-1755-ee38d3981b82"
   },
   "outputs": [],
   "source": [
    "data.drop(WasteCat,axis=1,inplace=True)\n",
    "data.drop([\"cont1\",\"cont11\"], axis=1, inplace=True)"
   ]
  },
  {
   "cell_type": "code",
   "execution_count": null,
   "metadata": {
    "_cell_guid": "50f39a95-b931-7bbd-bc34-35fe5e9a44ef"
   },
   "outputs": [],
   "source": [
    "data.head()"
   ]
  },
  {
   "cell_type": "code",
   "execution_count": null,
   "metadata": {
    "_cell_guid": "c0f2bc08-86c7-39cb-3f2b-5130b88b5317"
   },
   "outputs": [],
   "source": [
    "catCols = data.columns[:84]\n",
    "for col in catCols:\n",
    "    print(col)\n",
    "    data[col] = LE().fit_transform(data[col])"
   ]
  },
  {
   "cell_type": "code",
   "execution_count": null,
   "metadata": {
    "_cell_guid": "488aac4d-1e77-e449-c2c6-20e9606607a6"
   },
   "outputs": [],
   "source": [
    "data.shape"
   ]
  },
  {
   "cell_type": "code",
   "execution_count": null,
   "metadata": {
    "_cell_guid": "bbb30582-3245-77c0-9fb6-d7004e8c0e71"
   },
   "outputs": [],
   "source": [
    "y = np.log1p(y)"
   ]
  },
  {
   "cell_type": "code",
   "execution_count": null,
   "metadata": {
    "_cell_guid": "611a4ab2-5a1b-b148-c535-e04ca37bb405"
   },
   "outputs": [],
   "source": []
  },
  {
   "cell_type": "code",
   "execution_count": null,
   "metadata": {
    "_cell_guid": "79b4bb4c-e51f-addd-5647-c745072c33c4"
   },
   "outputs": [],
   "source": [
    "Xtrain = data.iloc[:shapeTrain[0],:]"
   ]
  },
  {
   "cell_type": "code",
   "execution_count": null,
   "metadata": {
    "_cell_guid": "5c37ad64-d657-9b90-0584-0408184eb633"
   },
   "outputs": [],
   "source": [
    "from sklearn.ensemble import GradientBoostingRegressor as GBR, RandomForestRegressor as RFG\n",
    "model = RFG(n_estimators=40,n_jobs=4)\n",
    "model2 = GBR(n_estimators=120)"
   ]
  },
  {
   "cell_type": "code",
   "execution_count": null,
   "metadata": {
    "_cell_guid": "c4e6deee-1a22-20f3-4d5d-2786fd8e6f2a"
   },
   "outputs": [],
   "source": [
    "from sklearn.cross_validation import train_test_split as tts\n",
    "X_train,X_test,y_train,y_test = tts(Xtrain,y,test_size=0.0,random_state = 1)"
   ]
  },
  {
   "cell_type": "code",
   "execution_count": null,
   "metadata": {
    "_cell_guid": "4c74538f-4e37-5863-b029-6aec51c0c926"
   },
   "outputs": [],
   "source": [
    "model2.fit(X_train,y_train)\n",
    "print(\"Gradient Fitted\")\n",
    "model.fit(X_train,y_train)\n",
    "print(\"Random Fitted\")"
   ]
  },
  {
   "cell_type": "code",
   "execution_count": null,
   "metadata": {
    "_cell_guid": "afcb37c3-2c00-16e5-6320-cbf200d340bb"
   },
   "outputs": [],
   "source": [
    "\n",
    "from sklearn.metrics import mean_absolute_error as mae, mean_squared_error as mse\n",
    "Xtest = data.iloc[shapeTrain[0]:,:]\n",
    "#y_test = np.expm1(y_test)\n",
    "#y_train = np.expm1(y_train)\n",
    "#predTestRandom = model.predict(X_test)\n",
    "#predTestGrad = model2.predict(X_test)\n",
    "#predTrainRandom = model.predict(X_train)\n",
    "#predTrainGrad = model2.predict(X_train)"
   ]
  },
  {
   "cell_type": "code",
   "execution_count": null,
   "metadata": {
    "_cell_guid": "d5985889-2f1f-d96e-2da9-99d58e582896"
   },
   "outputs": [],
   "source": [
    "#predTest =  (predTestRandom*0.43 + 0.57*predTestGrad)\n",
    "#predTest = (np.expm1(predTest))\n",
    "#predTrain = (predTrainRandom*0.5 + predTrainGrad*0.5)\n",
    "#predTrain = (np.expm1(predTrain))"
   ]
  },
  {
   "cell_type": "code",
   "execution_count": null,
   "metadata": {
    "_cell_guid": "6794faaf-17cf-8a89-62a1-d70946d2138e"
   },
   "outputs": [],
   "source": [
    "#print(mae(y_test,pred))\n",
    "#print(mae(y_test,predTest))\n",
    "#print(mae(y_train,predTrain))\n",
    "#print(predTestRandom[0])"
   ]
  },
  {
   "cell_type": "code",
   "execution_count": null,
   "metadata": {
    "_cell_guid": "9f5dcdb9-1735-fd21-f264-63edaff561be"
   },
   "outputs": [],
   "source": [
    "from xgboost import XGBRegressor as XGBR\n",
    "X_train,X_test,y_train,y_test = tts(Xtrain,y,test_size=0.0,random_state=1)\n",
    "model3 = XGBR(n_estimators=1000,nthread=4)\n",
    "model3.fit(X_train,y_train)"
   ]
  },
  {
   "cell_type": "code",
   "execution_count": null,
   "metadata": {
    "_cell_guid": "d15c839e-dfbb-a5b2-27cc-4c5b83d62ee4"
   },
   "outputs": [],
   "source": [
    "#y_test = np.expm1(y_test)\n",
    "#y_train = np.expm1(y_train)\n",
    "#predTrainXGB= model3.predict(X_train)\n",
    "#predTestXGB = model3.predict(X_test)"
   ]
  },
  {
   "cell_type": "code",
   "execution_count": null,
   "metadata": {
    "_cell_guid": "365822c2-9420-c1e2-a2f3-df9a08f07650"
   },
   "outputs": [],
   "source": [
    "#predTest =  (predTestRandom*0.23 + 0.03*predTestGrad + 0.74*predTestXGB)\n",
    "#predTest = (np.expm1(predTest))\n",
    "#predTrain = (predTrainRandom*0.23 + predTrainGrad*0.07 + predTrainXGB*0.7)\n",
    "#predTrain = (np.expm1(predTrain))"
   ]
  },
  {
   "cell_type": "code",
   "execution_count": null,
   "metadata": {
    "_cell_guid": "6072c7a2-5ea4-a1f4-5ca1-9b820bebe971"
   },
   "outputs": [],
   "source": [
    "#print(mae(y_test,predTestXGB))\n",
    "#print(mae(y_train,predTrainXGB))"
   ]
  },
  {
   "cell_type": "code",
   "execution_count": null,
   "metadata": {
    "_cell_guid": "d0941fc3-7d26-975d-d208-cc1f50d42765"
   },
   "outputs": [],
   "source": [
    "predAns = model3.predict(Xtest)"
   ]
  },
  {
   "cell_type": "code",
   "execution_count": null,
   "metadata": {
    "_cell_guid": "1ea34e53-86fd-7400-48a2-3e89207f3e26"
   },
   "outputs": [],
   "source": []
  },
  {
   "cell_type": "code",
   "execution_count": null,
   "metadata": {
    "_cell_guid": "0a7bb975-a875-0b88-dc10-2a60f4a8dc03"
   },
   "outputs": [],
   "source": [
    "predAns = np.expm1(predAns)"
   ]
  },
  {
   "cell_type": "code",
   "execution_count": null,
   "metadata": {
    "_cell_guid": "3c72cd1b-80f1-2b46-6634-b39fefea103d"
   },
   "outputs": [],
   "source": [
    "output = pandas.DataFrame({\"id\":ID,\"loss\":predAns})"
   ]
  },
  {
   "cell_type": "code",
   "execution_count": null,
   "metadata": {
    "_cell_guid": "544a0312-8125-778e-984e-fcb465551584"
   },
   "outputs": [],
   "source": [
    "output.to_csv(\"output.csv\",index=False)"
   ]
  },
  {
   "cell_type": "code",
   "execution_count": null,
   "metadata": {
    "_cell_guid": "47323bdc-4357-45a1-5834-168244b077d0"
   },
   "outputs": [],
   "source": []
  }
 ],
 "metadata": {
  "_change_revision": 0,
  "_is_fork": false,
  "kernelspec": {
   "display_name": "Python (tf)",
   "language": "python",
   "name": "tensorflow"
  },
  "language_info": {
   "codemirror_mode": {
    "name": "ipython",
    "version": 3
   },
   "file_extension": ".py",
   "mimetype": "text/x-python",
   "name": "python",
   "nbconvert_exporter": "python",
   "pygments_lexer": "ipython3",
   "version": "3.7.1"
  }
 },
 "nbformat": 4,
 "nbformat_minor": 1
}
