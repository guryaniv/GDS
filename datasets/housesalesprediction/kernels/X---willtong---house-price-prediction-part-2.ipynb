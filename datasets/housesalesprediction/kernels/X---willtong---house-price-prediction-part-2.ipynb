{
  "cells": [
    {
      "cell_type": "markdown",
      "metadata": {
        "_cell_guid": "7a8d4a19-f798-322b-1cb1-14eda6c50780"
      },
      "source": [
        "# House price prediction using multiple regression analysis\n",
        "\n",
        "# Part 2: Regression Models\n",
        "\n",
        "The following notebook presents a thought process of predicting a continuous variable through Machine Learning methods. More specifically, we want to predict house prices based on multiple features using regression analysis. \n",
        "\n",
        "As an example, we will use a dataset of house sales in King County, where Seattle is located.\n",
        "\n",
        "In the [first][1] part of the analysis, we set up the context using map visualization, and highlighted the association between the variables in our dataset. \n",
        "\n",
        "This is, for example, a map of King County showing the average house price per zipcode. We can see the disparities between the different zipcodes. The location of the houses should play an important role in our regression model. \n",
        "\n",
        "![price per zipcode][2]\n",
        "\n",
        "In this second notebook we will apply multiple regression models. We will talk about model complexity and how we can select the best predictive model using a validation set or cross-validation techniques.\n",
        "\n",
        "## 1. Preparation\n",
        "\n",
        "As in Part 1, Let's first load the libraries and the dataset\n",
        "\n",
        "\n",
        "  [1]: https://www.kaggle.com/harlfoxem/d/harlfoxem/housesalesprediction/house-price-prediction-part-1/notebook\n",
        "  [2]: https://harlfoxem.github.io/img/King_County_House_Prediction_files/price.png"
      ]
    },
    {
      "cell_type": "code",
      "execution_count": null,
      "metadata": {
        "_cell_guid": "28fab4b6-e758-f172-c303-e561bd5313d5"
      },
      "outputs": [],
      "source": [
        "import numpy as np # NumPy is the fundamental package for scientific computing\n",
        "\n",
        "import pandas as pd # Pandas is an easy-to-use data structures and data analysis tools\n",
        "pd.set_option('display.max_columns', None) # To display all columns\n",
        "\n",
        "import matplotlib.pyplot as plt # Matplotlib is a python 2D plotting library\n",
        "%matplotlib inline \n",
        "# A magic command that tells matplotlib to render figures as static images in the Notebook.\n",
        "\n",
        "import seaborn as sns # Seaborn is a visualization library based on matplotlib (attractive statistical graphics).\n",
        "sns.set_style('whitegrid') # One of the five seaborn themes\n",
        "import warnings\n",
        "warnings.filterwarnings('ignore') # To ignore some of seaborn warning msg\n",
        "\n",
        "from scipy import stats\n",
        "\n",
        "from sklearn import linear_model # Scikit learn library that implements generalized linear models\n",
        "from sklearn import neighbors # provides functionality for unsupervised and supervised neighbors-based learning methods\n",
        "from sklearn.metrics import mean_squared_error # Mean squared error regression loss\n",
        "from sklearn import preprocessing # provides functions and classes to change raw feature vectors\n",
        "\n",
        "from math import log"
      ]
    },
    {
      "cell_type": "code",
      "execution_count": null,
      "metadata": {
        "_cell_guid": "35bdc15f-cafc-28a3-886f-7dc8ad455b70"
      },
      "outputs": [],
      "source": [
        "data = pd.read_csv(\"../input/kc_house_data.csv\", parse_dates = ['date']) # load the data into a pandas dataframe\n",
        "data.head(2) # Show the first 2 lines"
      ]
    },
    {
      "cell_type": "markdown",
      "metadata": {
        "_cell_guid": "ec370bc8-6ab1-3603-ac15-85685f95d536"
      },
      "source": [
        "### Data Cleaning\n",
        "\n",
        "Let's reduce the dataset by dropping columns that won't be used during the analysis."
      ]
    },
    {
      "cell_type": "code",
      "execution_count": null,
      "metadata": {
        "_cell_guid": "bd7784ab-ca88-5bbf-57d7-693a9064bb39"
      },
      "outputs": [],
      "source": [
        "data.drop(['id', 'date'], axis = 1, inplace = True)"
      ]
    },
    {
      "cell_type": "markdown",
      "metadata": {
        "_cell_guid": "360e2dab-67b9-23c4-4490-537af62a58ec"
      },
      "source": [
        "### Data Transformation\n",
        "\n",
        "Following the correlation analysis in Part 1, let's create some new variables in our dataset. "
      ]
    },
    {
      "cell_type": "code",
      "execution_count": null,
      "metadata": {
        "_cell_guid": "9c2981c1-2c68-0b4c-c3c9-5b931f3c244c"
      },
      "outputs": [],
      "source": [
        "data['basement_present'] = data['sqft_basement'].apply(lambda x: 1 if x > 0 else 0) # Indicate whether there is a basement or not\n",
        "data['renovated'] = data['yr_renovated'].apply(lambda x: 1 if x > 0 else 0) # 1 if the house has been renovated"
      ]
    },
    {
      "cell_type": "markdown",
      "metadata": {
        "_cell_guid": "e2d5b974-1989-b2f7-f2d4-783e687d2ffa"
      },
      "source": [
        "### Encode categorical variables using dummies\n",
        "\n",
        "A Dummy variable is an artificial variable created to represent an attribute with two or more distinct categories/levels. In this example, we will analyse *bedrooms* and *bathrooms* as continuous and therefore will encode the following:\n",
        "\n",
        "* floors\n",
        "* view\n",
        "* condition and\n",
        "* grade"
      ]
    },
    {
      "cell_type": "code",
      "execution_count": null,
      "metadata": {
        "_cell_guid": "6cfb9e1c-b834-86d5-45ea-b0c5f04a5d54"
      },
      "outputs": [],
      "source": [
        "categorial_cols = ['floors', 'view', 'condition', 'grade']\n",
        "\n",
        "for cc in categorial_cols:\n",
        "    dummies = pd.get_dummies(data[cc], drop_first=False)\n",
        "    dummies = dummies.add_prefix(\"{}#\".format(cc))\n",
        "    data.drop(cc, axis=1, inplace=True)\n",
        "    data = data.join(dummies)"
      ]
    },
    {
      "cell_type": "markdown",
      "metadata": {
        "_cell_guid": "e4430b97-d3b8-36d4-f153-ec4f320eb75c"
      },
      "source": [
        "We saw that zipcodes are also related to price. However, encoded all zipcodes will add 70 dummies variables. Instead, we will only encode the 6 most expensive zipcodes as shown in the map."
      ]
    },
    {
      "cell_type": "code",
      "execution_count": null,
      "metadata": {
        "_cell_guid": "dc249c1e-2a00-2c8f-3767-5c68a1efdc9b"
      },
      "outputs": [],
      "source": [
        "dummies_zipcodes = pd.get_dummies(data['zipcode'], drop_first=False)\n",
        "dummies_zipcodes.reset_index(inplace=True)\n",
        "dummies_zipcodes = dummies_zipcodes.add_prefix(\"{}#\".format('zipcode'))\n",
        "dummies_zipcodes = dummies_zipcodes[['zipcode#98004','zipcode#98102','zipcode#98109','zipcode#98112','zipcode#98039','zipcode#98040']]\n",
        "data.drop('zipcode', axis=1, inplace=True)\n",
        "data = data.join(dummies_zipcodes)\n",
        "\n",
        "data.dtypes"
      ]
    },
    {
      "cell_type": "markdown",
      "metadata": {
        "_cell_guid": "d3e4126a-7818-52e0-456e-debc6fdff236"
      },
      "source": [
        "### Split the data\n",
        "\n",
        "We will split the dataframe into training and testing data using a 80%/20% ratio"
      ]
    },
    {
      "cell_type": "code",
      "execution_count": null,
      "metadata": {
        "_cell_guid": "6be0abee-dfdc-b817-d53e-03a9a3d70ce5"
      },
      "outputs": [],
      "source": [
        "from sklearn.cross_validation import train_test_split\n",
        "train_data, test_data = train_test_split(data, train_size = 0.8, random_state = 10)"
      ]
    },
    {
      "cell_type": "markdown",
      "metadata": {
        "_cell_guid": "ad7603e1-4b43-91c0-06a9-76e6f6e67a16"
      },
      "source": [
        "## 2. Regression Models\n",
        "\n",
        "In this section, we will train numerous regression models on the train data (e.g., simple linear regression, lasso, nearest neighbor) and evaluate their performance using Root Mean Squared Error (RMSE) on the test data.\n",
        "\n",
        "### 2.1 Simple Linear Regression\n",
        "\n",
        "Let's first predict house prices using simple (one input) linear regression."
      ]
    },
    {
      "cell_type": "code",
      "execution_count": null,
      "metadata": {
        "_cell_guid": "c7c72954-8a80-36cf-2edb-44cab6e0519e"
      },
      "outputs": [],
      "source": [
        "# A function that take one input of the dataset and return the RMSE (of the test data), and the intercept and coefficient\n",
        "def simple_linear_model(train, test, input_feature):\n",
        "    regr = linear_model.LinearRegression() # Create a linear regression object\n",
        "    regr.fit(train.as_matrix(columns = [input_feature]), train.as_matrix(columns = ['price'])) # Train the model\n",
        "    RMSE = mean_squared_error(test.as_matrix(columns = ['price']), \n",
        "                              regr.predict(test.as_matrix(columns = [input_feature])))**0.5 # Calculate the RMSE on test data\n",
        "    return RMSE, regr.intercept_[0], regr.coef_[0][0]"
      ]
    },
    {
      "cell_type": "markdown",
      "metadata": {
        "_cell_guid": "d7636977-5be9-5300-622e-2e75fb695191"
      },
      "source": [
        "Let's create a simple linear regression model using sqft_living as input and calculate the RMSE on the test data."
      ]
    },
    {
      "cell_type": "code",
      "execution_count": null,
      "metadata": {
        "_cell_guid": "19da1722-260a-f2d4-4e2b-5cfc81237c9c"
      },
      "outputs": [],
      "source": [
        "RMSE, w0, w1 = simple_linear_model(train_data, test_data, 'sqft_living')\n",
        "print ('RMSE for sqft_living is: %s ' %RMSE)\n",
        "print ('intercept is: %s' %w0)\n",
        "print ('coefficient is: %s' %w1)"
      ]
    },
    {
      "cell_type": "markdown",
      "metadata": {
        "_cell_guid": "6859d7fc-0597-ccb5-56cd-9d810e5c2924"
      },
      "source": [
        "Similarly, we can run the same test on all the features in the dataset and assess which one would be the best estimator of house price using just a single linear regression model."
      ]
    },
    {
      "cell_type": "code",
      "execution_count": null,
      "metadata": {
        "_cell_guid": "812ffdf6-c134-5d57-41e0-ac586b515cf6"
      },
      "outputs": [],
      "source": [
        "input_list = data.columns.values.tolist() # list of column name\n",
        "input_list.remove('price')\n",
        "simple_linear_result = pd.DataFrame(columns = ['feature', 'RMSE', 'intercept', 'coefficient'])\n",
        "\n",
        "# loop that calculate the RMSE of the test data for each input \n",
        "for p in input_list:\n",
        "    RMSE, w1, w0 = simple_linear_model(train_data, test_data, p)\n",
        "    simple_linear_result = simple_linear_result.append({'feature':p, 'RMSE':RMSE, 'intercept':w0, 'coefficient': w1}\n",
        "                                                       ,ignore_index=True)\n",
        "simple_linear_result.sort_values('RMSE').head(10) # display the 10 best estimators"
      ]
    },
    {
      "cell_type": "markdown",
      "metadata": {
        "_cell_guid": "ccf896ed-2afa-e12e-140d-f381c68891b0"
      },
      "source": [
        "When using simple linear regression, sqft_living provides the smallest test error estimate of house price for the dataset considered.\n",
        "\n",
        "### 2.2 Multiple Regression\n",
        "\n",
        "Now let's try to predict *price* using multiple features. We can modify the simple linear regression function above to take multiple features as input."
      ]
    },
    {
      "cell_type": "code",
      "execution_count": null,
      "metadata": {
        "_cell_guid": "5b41217c-74c8-e1dc-ab9c-cb2832d92d48"
      },
      "outputs": [],
      "source": [
        "# A function that take multiple features as input and return the RMSE (of the test data), and the  intercept and coefficients\n",
        "def multiple_regression_model(train, test, input_features):\n",
        "    regr = linear_model.LinearRegression() # Create a linear regression object\n",
        "    regr.fit(train.as_matrix(columns = input_features), train.as_matrix(columns = ['price'])) # Train the model\n",
        "    RMSE = mean_squared_error(test.as_matrix(columns = ['price']), \n",
        "                              regr.predict(test.as_matrix(columns = input_features)))**0.5 # Calculate the RMSE on test data\n",
        "    return RMSE, regr.intercept_[0], regr.coef_ "
      ]
    },
    {
      "cell_type": "markdown",
      "metadata": {
        "_cell_guid": "accdad25-a2f2-a11a-4a28-951eb96fd8a2"
      },
      "source": [
        "Let's try with a few examples:"
      ]
    },
    {
      "cell_type": "code",
      "execution_count": null,
      "metadata": {
        "_cell_guid": "408973fd-ca52-d2b6-35e8-eeb5871477f8"
      },
      "outputs": [],
      "source": [
        "print ('RMSE: %s, intercept: %s, coefficients: %s' %multiple_regression_model(train_data, \n",
        "                                                                             test_data, ['sqft_living','bathrooms','bedrooms']))\n",
        "print ('RMSE: %s, intercept: %s, coefficients: %s' %multiple_regression_model(train_data, \n",
        "                                                                             test_data, ['sqft_above','view#0','bathrooms']))\n",
        "print ('RMSE: %s, intercept: %s, coefficients: %s' %multiple_regression_model(train_data, \n",
        "                                                                             test_data, ['bathrooms','bedrooms']))\n",
        "print ('RMSE: %s, intercept: %s, coefficients: %s' %multiple_regression_model(train_data, \n",
        "                                                                             test_data, ['view#0','grade#12','bedrooms','sqft_basement']))\n",
        "print ('RMSE: %s, intercept: %s, coefficients: %s' %multiple_regression_model(train_data, \n",
        "                                                                             test_data, ['sqft_living','bathrooms','view#0']))"
      ]
    },
    {
      "cell_type": "markdown",
      "metadata": {
        "_cell_guid": "54fe14f9-5df2-fb91-7aa4-55596b7e6d1b"
      },
      "source": [
        "We can also try to fit a higher-order polynomial on the input. For example, we can try to fit a qudratic function on sqft_living"
      ]
    },
    {
      "cell_type": "code",
      "execution_count": null,
      "metadata": {
        "_cell_guid": "b6b3ccf7-9c74-0698-c03c-89d551e05bd1"
      },
      "outputs": [],
      "source": [
        "train_data['sqft_living_squared'] = train_data['sqft_living'].apply(lambda x: x**2) # create a new column in train_data\n",
        "test_data['sqft_living_squared'] = test_data['sqft_living'].apply(lambda x: x**2) # create a new column in test_data\n",
        "print ('RMSE: %s, intercept: %s, coefficients: %s' %multiple_regression_model(train_data, \n",
        "                                                                             test_data, ['sqft_living','sqft_living_squared']))"
      ]
    },
    {
      "cell_type": "markdown",
      "metadata": {
        "_cell_guid": "c0b0b2bb-3eee-f450-af86-e36b737ec3d3"
      },
      "source": [
        "While we can get better performance than simple linear models, a few problems remain. \n",
        "\n",
        "* First, we don't know which feature to select. Obviously some combinations of features will yield smaller RMSE on the test set.\n",
        "* Second, we don't know how many features to select. This is because the more features we incorporate in the train model, the more overfit we get on the train data, resulting in higher error on the test data.\n",
        "\n",
        "One solution would be to test multiple features combinations (all?) and keep the solution with the smallest error value calculated on the test data. However, this is an overly optimistic approach, since the model complexity is selected to minimize the test error (error is biased). A more sophisticated approach is to use two sets for testing our models, a.k.a: a validation set and a test set. We select model complexity to minimize error on the validation set and approximate the generalization error based on the test set.\n",
        "\n",
        "Going through all subsets of features combinations is most often computationally infeasible. For example, having 30 features yield more than 1 billion combinations. Another approach is to use a greedy technique like a forward stepwise algorithm where the best estimator feature is added to the set of already selected features at each iteration. For example, let's pretend that the best single estimator is sqft_living. In the 2nd step of the greedy algorithm, we test all the remaining features one by one in combinations with sqft_living (e.g., sqft_living and bedrooms, sqft_living and waterfront, etc) and select the best combination using training error. At the end, we select the model complexity (number of features) using the validation error and estimate the generalization error using the test set.\n",
        "\n",
        "Let's try this method."
      ]
    },
    {
      "cell_type": "code",
      "execution_count": null,
      "metadata": {
        "_cell_guid": "d4095775-d178-47af-1173-101ce730a6c0"
      },
      "outputs": [],
      "source": [
        "# we're first going to add more features into the dataset.\n",
        "\n",
        "# sqft_living cubed\n",
        "train_data['sqft_living_cubed'] = train_data['sqft_living'].apply(lambda x: x**3) \n",
        "test_data['sqft_living_cubed'] = test_data['sqft_living'].apply(lambda x: x**3) \n",
        "\n",
        "# bedrooms_squared: this feature will mostly affect houses with many bedrooms.\n",
        "train_data['bedrooms_squared'] = train_data['bedrooms'].apply(lambda x: x**2) \n",
        "test_data['bedrooms_squared'] = test_data['bedrooms'].apply(lambda x: x**2)\n",
        "\n",
        "# bedrooms times bathrooms gives what's called an \"interaction\" feature. It is large when both of them are large.\n",
        "train_data['bed_bath_rooms'] = train_data['bedrooms']*train_data['bathrooms']\n",
        "test_data['bed_bath_rooms'] = test_data['bedrooms']*test_data['bathrooms']\n",
        "\n",
        "# Taking the log of squarefeet has the effect of bringing large values closer together and spreading out small values.\n",
        "train_data['log_sqft_living'] = train_data['sqft_living'].apply(lambda x: log(x))\n",
        "test_data['log_sqft_living'] = test_data['sqft_living'].apply(lambda x: log(x))\n",
        "\n",
        "train_data.shape"
      ]
    },
    {
      "cell_type": "code",
      "execution_count": null,
      "metadata": {
        "_cell_guid": "52b3fcf0-4005-1567-1a22-5d843625198f"
      },
      "outputs": [],
      "source": [
        "# split the train_data to include a validation set (train_data2 = 60%, validation_data = 20%, test_data = 20%)\n",
        "train_data_2, validation_data = train_test_split(train_data, train_size = 0.75, random_state = 50)"
      ]
    },
    {
      "cell_type": "code",
      "execution_count": null,
      "metadata": {
        "_cell_guid": "47b850c8-f02f-aa22-c1b2-f6a301ca7044"
      },
      "outputs": [],
      "source": [
        "# A function that take multiple features as input and return the RMSE (of the train and validation data)\n",
        "def RMSE(train, validation, features, new_input):\n",
        "    features_list = list(features)\n",
        "    features_list.append(new_input)\n",
        "    regr = linear_model.LinearRegression() # Create a linear regression object\n",
        "    regr.fit(train.as_matrix(columns = features_list), train.as_matrix(columns = ['price'])) # Train the model\n",
        "    RMSE_train = mean_squared_error(train.as_matrix(columns = ['price']), \n",
        "                              regr.predict(train.as_matrix(columns = features_list)))**0.5 # Calculate the RMSE on train data\n",
        "    RMSE_validation = mean_squared_error(validation.as_matrix(columns = ['price']), \n",
        "                              regr.predict(validation.as_matrix(columns = features_list)))**0.5 # Calculate the RMSE on train data\n",
        "    return RMSE_train, RMSE_validation "
      ]
    },
    {
      "cell_type": "code",
      "execution_count": null,
      "metadata": {
        "_cell_guid": "fdefe064-9007-7e72-d7dd-e2ba1779c707"
      },
      "outputs": [],
      "source": [
        "input_list = train_data_2.columns.values.tolist() # list of column name\n",
        "input_list.remove('price')\n",
        "\n",
        "# list of features included in the regression model and the calculated train and validation errors (RMSE)\n",
        "regression_greedy_algorithm = pd.DataFrame(columns = ['feature', 'train_error', 'validation_error'])  \n",
        "i = 0\n",
        "temp_list = []\n",
        "\n",
        "# a while loop going through all the features in the dataframe\n",
        "while i < len(train_data_2.columns)-1:\n",
        "    \n",
        "    # a temporary dataframe to select the best feature at each iteration\n",
        "    temp = pd.DataFrame(columns = ['feature', 'train_error', 'validation_error'])\n",
        "    \n",
        "    # a for loop to test all the remaining features\n",
        "    for p in input_list:\n",
        "        RMSE_train, RMSE_validation = RMSE(train_data_2, validation_data, temp_list, p)\n",
        "        temp = temp.append({'feature':p, 'train_error':RMSE_train, 'validation_error':RMSE_validation}, ignore_index=True)\n",
        "        \n",
        "    temp = temp.sort_values('train_error') # select the best feature using train error\n",
        "    best = temp.iloc[0,0]\n",
        "    temp_list.append(best)\n",
        "    regression_greedy_algorithm = regression_greedy_algorithm.append({'feature': best, \n",
        "                                                  'train_error': temp.iloc[0,1], 'validation_error': temp.iloc[0,2]}, \n",
        "                                                 ignore_index=True) # add the feature to the dataframe\n",
        "    input_list.remove(best) # remove the best feature from the list of available features\n",
        "    i += 1\n",
        "regression_greedy_algorithm"
      ]
    },
    {
      "cell_type": "markdown",
      "metadata": {
        "_cell_guid": "f50126da-7da9-2758-8ee2-af10c6f7aec5"
      },
      "source": [
        "We can see that the validation error is minimum when we reach 25 features in the model (condition#4). We stop the selection here even if the training error keeps getting smaller (overfitting).\n",
        "\n",
        "Let's now calculate an estimation of the generalization error using test_data"
      ]
    },
    {
      "cell_type": "code",
      "execution_count": null,
      "metadata": {
        "_cell_guid": "6867a180-08a1-dee0-1bf7-63c52799e8ba"
      },
      "outputs": [],
      "source": [
        "greedy_algo_features_list = regression_greedy_algorithm['feature'].tolist()[:24] # select the first 30 features\n",
        "test_error, _, _ = multiple_regression_model(train_data_2, test_data, greedy_algo_features_list)\n",
        "print ('test error (RMSE) is: %s' %test_error)"
      ]
    },
    {
      "cell_type": "markdown",
      "metadata": {
        "_cell_guid": "a3e8b00b-2e80-8ce2-fde7-eeed3efdba0f"
      },
      "source": [
        "The test error is getting smaller.\n",
        "\n",
        "* Note 1: We could have used k-fold cross validation instead of a validation set.\n",
        "* Note 2: Other greedy algorithms exist (e.g., backward stepwise, combining forward and backward steps)\n",
        "\n",
        "Now, instead of searching over a discrete set of solutions using greedy algorithms, we can use another technique called regularization. We start with all possible features in the model and shrink the coefficients (weights). Two main regularization techniques exist, Ridge regression (a.k.a L2 regularization) and Lasso regression (a.k.a L1 regularization).\n",
        "\n",
        "### 2.3 Ridge Regression\n",
        "\n",
        "Ridge regression aims to avoid overfitting by adding a cost to the Residual Sum of Squares (RSS) term of standard least squares that depends on the 2-norm of the coefficients.  The result is penalizing fits with large coefficients.  The strength of this penalty, and thus the fit vs. model complexity, is controlled by a parameter alpha (here called \"L2_penalty\").\n",
        "\n",
        "Let's test two models using alpha equal 1 and 10."
      ]
    },
    {
      "cell_type": "code",
      "execution_count": null,
      "metadata": {
        "_cell_guid": "7684d0d4-fd09-b887-5c2f-fa39bb4d4006"
      },
      "outputs": [],
      "source": [
        "input_feature = train_data.columns.values.tolist() # list of column name\n",
        "input_feature.remove('price')\n",
        "\n",
        "for i in [1,10]:\n",
        "    ridge = linear_model.Ridge(alpha = i, normalize = True) # initialize the model\n",
        "    ridge.fit(train_data.as_matrix(columns = input_feature), train_data.as_matrix(columns = ['price'])) # fit the train data\n",
        "    print ('test error (RMSE) is: %s' %mean_squared_error(test_data.as_matrix(columns = ['price']), \n",
        "                              ridge.predict(test_data.as_matrix(columns = [input_feature])))**0.5) # predict price and test error"
      ]
    },
    {
      "cell_type": "markdown",
      "metadata": {
        "_cell_guid": "9cdae260-1575-cf4d-6c1e-838c0743ebbd"
      },
      "source": [
        "Now the question is, how do we pick alpha to minimize the error?\n",
        "\n",
        "Alpha is a measure of model complexity. So, as before, we could use a validation set to select it. However, that approach has a major disadvantage: it leaves fewer observations available for training. A better approach to overcome this issue is to use a cross-validation technique. It uses all of the training set in a smart way. k-fold cross-validation for example involves dividing the training set into k segments of roughly equal size. Similar to the validation set method, we measure the validation error with one of the segments designated as the validation set. The major difference is that we repeat the process k times. We then compute the average of the k validation errors, and use it as an estimate of the generalization error. We then select the alpha value that generate the smallest validation error. The best approximation occurs for validation sets of size 1, where k is equal to the number of observations. It is called leave-one-out cross validation. It is however computationally intensive.\n",
        "\n",
        "In this example we'll use a ridge regression with an implemented cross-validation method from the scikit learn library. By default, it performs Generalized Cross-Validation, which is a form of efficient Leave-One-Out cross-validation."
      ]
    },
    {
      "cell_type": "code",
      "execution_count": null,
      "metadata": {
        "_cell_guid": "3dcf6fed-1b6e-6851-2944-5a8711e33fd9"
      },
      "outputs": [],
      "source": [
        "ridgeCV = linear_model.RidgeCV(alphas = np.linspace(1.0e-10,1,num = 100), normalize = True, store_cv_values = True) # initialize the model\n",
        "ridgeCV.fit(train_data.as_matrix(columns = input_feature), train_data.as_matrix(columns = ['price'])) # fit the train data\n",
        "print ('best alpha is: %s' %ridgeCV.alpha_) # get the best alpha\n",
        "print ('test error (RMSE) is: %s' %mean_squared_error(test_data.as_matrix(columns = ['price']), \n",
        "                              ridgeCV.predict(test_data.as_matrix(columns = [input_feature])))**0.5) # predict price and test error"
      ]
    },
    {
      "cell_type": "markdown",
      "metadata": {
        "_cell_guid": "354b261b-1af0-6d9e-d79e-5ce6d5416d48"
      },
      "source": [
        "Using every features in the dataset and a ridge regression model with an efficient  LOO cross-validation method yield a test error of 171567.\n",
        "\n",
        "### 2.4 Lasso Regression\n",
        "\n",
        "Lasso regression jointly shrinks coefficients to avoid overfitting, and implicitly performs feature selection by setting some coefficients exactly to 0 for sufficiently large penalty strength alpha (here called \"L1_penalty\"). In particular, lasso takes the RSS term of standard least squares and adds a 1-norm cost of the coefficients.\n",
        "\n",
        "Let 's train multiple models using different alpha values and asses the test error."
      ]
    },
    {
      "cell_type": "code",
      "execution_count": null,
      "metadata": {
        "_cell_guid": "46a5e415-938d-e554-d71c-6d7f48e29b53"
      },
      "outputs": [],
      "source": [
        "for i in [0.01,0.1,1,250,500,1000]:\n",
        "    lasso = linear_model.Lasso(alpha = i, normalize = True) # initialize the model\n",
        "    lasso.fit(train_data.as_matrix(columns = input_feature), train_data.as_matrix(columns = ['price'])) # fit the train data\n",
        "    print (lasso.sparse_coef_.getnnz) # number of non zero weights\n",
        "    print ('test error (RMSE) is: %s' %mean_squared_error(test_data.as_matrix(columns = ['price']), \n",
        "                              lasso.predict(test_data.as_matrix(columns = [input_feature])))**0.5) # predict price and test error"
      ]
    },
    {
      "cell_type": "markdown",
      "metadata": {
        "_cell_guid": "acce00a7-c9c7-eceb-c1e4-ef7f163e3271"
      },
      "source": [
        "As alpha increases, the number of features included in the model decrease. As in Ridge regression, we also can use cross-validation methods that select the best alpha to provide the best predictive accuracy. However, this technique tends to favor less sparse solutions and smaller alpha than optimal choice for feature selection."
      ]
    },
    {
      "cell_type": "code",
      "execution_count": null,
      "metadata": {
        "_cell_guid": "1d435c68-7afe-13fd-88e8-202f87c4273b"
      },
      "outputs": [],
      "source": [
        "lassoCV = linear_model.LassoCV(normalize = True) # initialize the model (alphas are set automatically)\n",
        "lassoCV.fit(train_data.as_matrix(columns = input_feature), np.ravel(train_data.as_matrix(columns = ['price']))) # fit the train data\n",
        "print ('best alpha is: %s' %lassoCV.alpha_) # get the best alpha\n",
        "print ('number of non zero weigths is: %s' %np.count_nonzero(lassoCV.coef_)) # number of non zero weights\n",
        "print ('test error (RMSE) is: %s' %mean_squared_error(test_data.as_matrix(columns = ['price']), \n",
        "                              lassoCV.predict(test_data.as_matrix(columns = [input_feature])))**0.5) # predict price and test error"
      ]
    },
    {
      "cell_type": "markdown",
      "metadata": {
        "_cell_guid": "b0f7b38d-a302-0b91-2f01-d5272c15bbc0"
      },
      "source": [
        "39 features remain in the model, yielding a test error of 171369.\n",
        "\n",
        "### 2.5 k-Nearest Neighbors (NN) Regression\n",
        "\n",
        "To finish, let's talk about another regression model, k-NN regression. The k-NN algorithm is used for estimating continuous variables. One such algorithm uses a weighted average of the k nearest neighbors, weighted by the inverse of their distance. It is the nonparamtric equivalent of ordinary least square regression."
      ]
    },
    {
      "cell_type": "code",
      "execution_count": null,
      "metadata": {
        "_cell_guid": "cdbd9311-e33b-2428-ad75-f92ed8733ad0"
      },
      "outputs": [],
      "source": [
        "# normalize the data\n",
        "train_X = train_data.as_matrix(columns = input_feature)\n",
        "scaler = preprocessing.StandardScaler().fit(train_X)\n",
        "train_X_scaled = scaler.transform(train_X)\n",
        "test_X = test_data.as_matrix(columns = [input_feature])\n",
        "test_X_scaled = scaler.transform(test_X)\n",
        "\n",
        "knn = neighbors.KNeighborsRegressor(n_neighbors=10, weights='distance') # initialize the model\n",
        "knn.fit(train_X_scaled, train_data.as_matrix(columns = ['price'])) # fit the train data\n",
        "print ('test error (RMSE) is: %s' %mean_squared_error(test_data.as_matrix(columns = ['price']), \n",
        "                              knn.predict(test_X_scaled))**0.5) # predict price and test error"
      ]
    },
    {
      "cell_type": "markdown",
      "metadata": {
        "_cell_guid": "27fc1d0e-4cf6-3372-00f2-2f49ef43138c"
      },
      "source": [
        "Similarly, the number of neighbor k is related to the complexity of the regression model. We can optimize the model accuracy by running cross-validation on the number of k-neighbors to include. \n",
        "\n",
        "## Conclusion\n",
        "\n",
        "In this notebook I tried to give on overview of regression methods using a dataset of house sales. Obviously, many other methods exit for regression (e.g., Elastic Net, kernel regression, Bayesian regression). Model selection should be based on your data and application."
      ]
    }
  ],
  "metadata": {
    "_change_revision": 0,
    "_is_fork": false,
    "kernelspec": {
      "display_name": "Python 3",
      "language": "python",
      "name": "python3"
    },
    "language_info": {
      "codemirror_mode": {
        "name": "ipython",
        "version": 3
      },
      "file_extension": ".py",
      "mimetype": "text/x-python",
      "name": "python",
      "nbconvert_exporter": "python",
      "pygments_lexer": "ipython3",
      "version": "3.5.2"
    }
  },
  "nbformat": 4,
  "nbformat_minor": 0
}