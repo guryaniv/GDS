{
  "cells": [
    {
      "cell_type": "code",
      "execution_count": null,
      "metadata": {
        "_cell_guid": "fc41abe7-2e7b-9ff1-302b-127fd47d4a27"
      },
      "outputs": [],
      "source": [
        "# This Python 3 environment comes with many helpful analytics libraries installed\n",
        "# It is defined by the kaggle/python docker image: https://github.com/kaggle/docker-python\n",
        "# For example, here's several helpful packages to load in \n",
        "\n",
        "import numpy as np # linear algebra\n",
        "import pandas as pd # data processing, CSV file I/O (e.g. pd.read_csv)\n",
        "import xgboost as xgb\n",
        "import gc\n",
        "# Input data files are available in the \"../input/\" directory.\n",
        "# For example, running this (by clicking run or pressing Shift+Enter) will list the files in the input directory\n",
        "\n",
        "from subprocess import check_output\n",
        "print(check_output([\"ls\", \"../input\"]).decode(\"utf8\"))\n",
        "\n",
        "# Any results you write to the current directory are saved as output.\n",
        "\n",
        "# Reading the files\n",
        "train = pd.read_csv('../input/train_2016.csv')\n",
        "prop = pd.read_csv('../input/properties_2016.csv')\n",
        "sample = pd.read_csv('../input/sample_submission.csv')\n",
        "data_dict = pd.read_excel('../input/zillow_data_dictonary.xlsx')\n"
      ]
    },
    {
      "cell_type": "code",
      "execution_count": null,
      "metadata": {
        "_cell_guid": "7fa611a3-1c6b-e74e-1d7a-10835e5792ab"
      },
      "outputs": [],
      "source": [
        "print(\"Train Columns\")\n",
        "print(train.columns)\n",
        "print(\"Properties Columns\")\n",
        "print(prop.columns)\n",
        "print(\"Zillow Data Dictionary Columns\")\n",
        "print(data_dict.columns)"
      ]
    },
    {
      "cell_type": "code",
      "execution_count": null,
      "metadata": {
        "_cell_guid": "e653509f-6081-795b-69e4-00ae7b407ebd"
      },
      "outputs": [],
      "source": [
        "# Sample data's\n",
        "print(\"The length of train\", len(train))\n",
        "train.head()"
      ]
    },
    {
      "cell_type": "code",
      "execution_count": null,
      "metadata": {
        "_cell_guid": "b072a384-5f37-a303-15fb-7291a3e5bdfa"
      },
      "outputs": [],
      "source": [
        "print(\"The length of train\", len(prop))\n",
        "prop.head()"
      ]
    },
    {
      "cell_type": "code",
      "execution_count": null,
      "metadata": {
        "_cell_guid": "13d81f08-6383-b366-141f-bd37b286c4bc"
      },
      "outputs": [],
      "source": [
        "print(\"The length of train\", len(data_dict))\n",
        "data_dict.head()"
      ]
    },
    {
      "cell_type": "code",
      "execution_count": null,
      "metadata": {
        "_cell_guid": "07d33f94-e472-d4c7-3b71-60b771da9902"
      },
      "outputs": [],
      "source": [
        "import matplotlib.pyplot as plt\n",
        "import matplotlib\n",
        "matplotlib.style.use('ggplot')"
      ]
    },
    {
      "cell_type": "code",
      "execution_count": null,
      "metadata": {
        "_cell_guid": "ef98fc48-35cc-cded-d78b-62c5d2b3b39b"
      },
      "outputs": [],
      "source": [
        "# Transcations distributions\n",
        "(train['parcelid'].value_counts().reset_index())['parcelid'].value_counts()"
      ]
    },
    {
      "cell_type": "code",
      "execution_count": null,
      "metadata": {
        "_cell_guid": "055e8bdf-7a43-c9b1-b92d-4a267cbd060d"
      },
      "outputs": [],
      "source": [
        "(prop['parcelid'].value_counts().reset_index())['parcelid'].value_counts()"
      ]
    },
    {
      "cell_type": "code",
      "execution_count": null,
      "metadata": {
        "_cell_guid": "5ca2a40e-c287-6e78-183b-6268189fbad0"
      },
      "outputs": [],
      "source": [
        "# Now before exploring further we will create a train set\n",
        "train = pd.merge(train, prop, on='parcelid', how='left')"
      ]
    },
    {
      "cell_type": "code",
      "execution_count": null,
      "metadata": {
        "_cell_guid": "8c32c46b-67b0-d3e2-f83e-d6ced6683a76"
      },
      "outputs": [],
      "source": [
        "# The entire columns and also types\n",
        "dtype = train.dtypes.reset_index()\n",
        "dtype.columns = [\"Name\", \"Column Type\"]\n",
        "dtype"
      ]
    },
    {
      "cell_type": "code",
      "execution_count": null,
      "metadata": {
        "_cell_guid": "9d6e5f74-d535-f70e-49dc-4d5d88434fa5"
      },
      "outputs": [],
      "source": [
        "# Now we will be building a model\n",
        "from xgboost import XGBRegressor\n",
        "from sklearn.model_selection import train_test_split\n",
        "from sklearn.metrics import mean_squared_error"
      ]
    },
    {
      "cell_type": "code",
      "execution_count": null,
      "metadata": {
        "_cell_guid": "2e917ece-ecc7-e266-0f37-5e4b78308eab"
      },
      "outputs": [],
      "source": [
        "# Get all the features ready\n",
        "final  = [train['logerror']]\n",
        "train.drop('logerror', axis=1, inplace=True)\n",
        "for col in train.columns:\n",
        "    print(col)\n",
        "    if train[col].dtype == 'object':\n",
        "        final.append(pd.get_dummies(train[col], prefix=col,drop_first=True))\n",
        "    else:\n",
        "        final.append(train[col])\n",
        "target = pd.concat(final, axis=1)"
      ]
    },
    {
      "cell_type": "code",
      "execution_count": null,
      "metadata": {
        "_cell_guid": "029bd109-2404-6f46-d63f-ef8190d8bd9b"
      },
      "outputs": [],
      "source": [
        "train, test = train_test_split(target)\n",
        "x_label = train['logerror']\n",
        "x_train = train.drop('logerror', axis=1)\n",
        "\n",
        "y_label = test['logerror']\n",
        "y_train = test.drop('logerror', axis=1)\n",
        "# fit model no training data\n",
        "model = XGBRegressor()\n",
        "model.fit(x_train, x_label)"
      ]
    },
    {
      "cell_type": "code",
      "execution_count": null,
      "metadata": {
        "_cell_guid": "c1de27bf-6363-abb9-6b92-1b35e7bac990"
      },
      "outputs": [],
      "source": [
        "# Now we will see variable importances\n",
        "print(model.feature_importances_)\n",
        "plt.bar(range(len(model.feature_importances_)), model.feature_importances_)\n",
        "plt.show()\n",
        "from xgboost import plot_importance\n",
        "plot_importance(model, max_num_features=20)"
      ]
    },
    {
      "cell_type": "code",
      "execution_count": null,
      "metadata": {
        "_cell_guid": "9c4ad161-af17-16ae-84ab-7b5d7780f372"
      },
      "outputs": [],
      "source": [
        "# Tuning the paraemters for Xgboost we will use gridsearch along with \n",
        "from sklearn.model_selection import GridSearchCV\n",
        "import copy\n",
        "param_test2b = {\n",
        " 'min_child_weight':[6,8,10,12],\n",
        " 'learning_rate':[1, .1, .001],\n",
        "  'n_estimators': [100, 200, 300],\n",
        "   'max_depth': [3, 5, 6]\n",
        "}\n",
        "\n",
        "gsearch2b = GridSearchCV(estimator = XGBRegressor( learning_rate=0.1, n_estimators=140, max_depth=4,\n",
        " min_child_weight=2, gamma=0, subsample=0.8, colsample_bytree=0.8,\n",
        " objective= 'reg:linear', nthread=4, scale_pos_weight=1,seed=27), \n",
        " param_grid = param_test2b, scoring='neg_mean_squared_error',n_jobs=4,iid=False, cv=5)\n",
        "gsearch2b.fit(x_train,x_label.values)"
      ]
    }
  ],
  "metadata": {
    "_change_revision": 0,
    "_is_fork": false,
    "kernelspec": {
      "display_name": "Python 3",
      "language": "python",
      "name": "python3"
    },
    "language_info": {
      "codemirror_mode": {
        "name": "ipython",
        "version": 3
      },
      "file_extension": ".py",
      "mimetype": "text/x-python",
      "name": "python",
      "nbconvert_exporter": "python",
      "pygments_lexer": "ipython3",
      "version": "3.6.0"
    }
  },
  "nbformat": 4,
  "nbformat_minor": 0
}