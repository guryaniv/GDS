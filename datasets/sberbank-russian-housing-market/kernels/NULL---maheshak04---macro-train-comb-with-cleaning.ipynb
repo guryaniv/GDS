{
  "cells": [
    {
      "cell_type": "code",
      "execution_count": null,
      "metadata": {
        "_cell_guid": "f2c0b6db-47c8-2113-ffb9-1177015f38c1"
      },
      "outputs": [],
      "source": [
        "# This Python 3 environment comes with many helpful analytics libraries installed\n",
        "# It is defined by the kaggle/python docker image: https://github.com/kaggle/docker-python\n",
        "# For example, here's several helpful packages to load in \n",
        "\n",
        "import numpy as np # linear algebra\n",
        "import pandas as pd # data processing, CSV file I/O (e.g. pd.read_csv)\n",
        "\n",
        "# Input data files are available in the \"../input/\" directory.\n",
        "# For example, running this (by clicking run or pressing Shift+Enter) will list the files in the input directory\n",
        "\n",
        "from subprocess import check_output\n",
        "print(check_output([\"ls\", \"../input\"]).decode(\"utf8\"))\n",
        "\n",
        "# Any results you write to the current directory are saved as output."
      ]
    },
    {
      "cell_type": "code",
      "execution_count": null,
      "metadata": {
        "_cell_guid": "adeddf05-5aa6-3c44-1c21-7573b6bff723"
      },
      "outputs": [],
      "source": [
        "train_df=pd.read_csv('../input/train.csv')\n",
        "test_df=pd.read_csv('../input/test.csv')\n",
        "macro_df=pd.read_csv('../input/macro.csv')"
      ]
    },
    {
      "cell_type": "code",
      "execution_count": null,
      "metadata": {
        "_cell_guid": "4ea5bac3-6532-92f6-ed31-07d71698ddc7"
      },
      "outputs": [],
      "source": [
        "import matplotlib.pyplot as plt\n",
        "import seaborn as sns\n",
        "train_df.columns"
      ]
    },
    {
      "cell_type": "code",
      "execution_count": null,
      "metadata": {
        "_cell_guid": "503a9b88-67cf-f89d-4974-2ba79d8db4aa"
      },
      "outputs": [],
      "source": [
        "plt.scatter(train_df.full_sq, train_df.price_doc, c = \"blue\", marker = \"s\")\n",
        "plt.title(\"Looking for outliers\")\n",
        "plt.xlabel(\"full_sq\")\n",
        "plt.ylabel(\"price_doc\")\n",
        "plt.show()"
      ]
    },
    {
      "cell_type": "code",
      "execution_count": null,
      "metadata": {
        "_cell_guid": "f4f06d85-1f77-4860-a82e-4aaf90e16eb1"
      },
      "outputs": [],
      "source": [
        "train_df.loc[train_df[train_df.full_sq>=5000].id.values]"
      ]
    },
    {
      "cell_type": "code",
      "execution_count": null,
      "metadata": {
        "_cell_guid": "0c6fcf58-9718-014b-aa12-182398aeba95"
      },
      "outputs": [],
      "source": [
        "macro_df.columns.T"
      ]
    },
    {
      "cell_type": "code",
      "execution_count": null,
      "metadata": {
        "_cell_guid": "e45ff53c-1075-f44e-65b3-1c6a0348384d"
      },
      "outputs": [],
      "source": [
        "(macro_df.isnull().sum()/len(macro_df)*100).sort_values(ascending=False)"
      ]
    },
    {
      "cell_type": "code",
      "execution_count": null,
      "metadata": {
        "_cell_guid": "a1869d8b-db6f-c40f-98ca-39f05ffab111"
      },
      "outputs": [],
      "source": [
        "full_df=pd.concat([train_df,macro_df])"
      ]
    },
    {
      "cell_type": "code",
      "execution_count": null,
      "metadata": {
        "_cell_guid": "3bbe72ba-f7b6-ee81-afbd-1d775a001843"
      },
      "outputs": [],
      "source": [
        "full_df.columns"
      ]
    },
    {
      "cell_type": "code",
      "execution_count": null,
      "metadata": {
        "_cell_guid": "643962b7-0f8d-75e6-d89e-8cb6a89f02a9"
      },
      "outputs": [],
      "source": [
        "full_df.shape"
      ]
    },
    {
      "cell_type": "code",
      "execution_count": null,
      "metadata": {
        "_cell_guid": "e158b498-bb4f-4ec2-970d-dd4497e813b0"
      },
      "outputs": [],
      "source": [
        "train_df.shape"
      ]
    },
    {
      "cell_type": "code",
      "execution_count": null,
      "metadata": {
        "_cell_guid": "e2559293-87b5-dcac-6942-afebabbccaad"
      },
      "outputs": [],
      "source": [
        "full_df.groupby(['gdp_annual_growth'])['price_doc'].agg([np.median, np.mean, np.std])"
      ]
    },
    {
      "cell_type": "code",
      "execution_count": null,
      "metadata": {
        "_cell_guid": "18722b3b-5b78-9f7f-95d8-92df21332212"
      },
      "outputs": [],
      "source": [
        "full_df['gdp_annual_growth'].isnull().sum()"
      ]
    },
    {
      "cell_type": "code",
      "execution_count": null,
      "metadata": {
        "_cell_guid": "59e6cd16-fbfb-2ac9-5f58-d8748b5d702e"
      },
      "outputs": [],
      "source": ""
    }
  ],
  "metadata": {
    "_change_revision": 0,
    "_is_fork": false,
    "kernelspec": {
      "display_name": "Python 3",
      "language": "python",
      "name": "python3"
    },
    "language_info": {
      "codemirror_mode": {
        "name": "ipython",
        "version": 3
      },
      "file_extension": ".py",
      "mimetype": "text/x-python",
      "name": "python",
      "nbconvert_exporter": "python",
      "pygments_lexer": "ipython3",
      "version": "3.6.0"
    }
  },
  "nbformat": 4,
  "nbformat_minor": 0
}