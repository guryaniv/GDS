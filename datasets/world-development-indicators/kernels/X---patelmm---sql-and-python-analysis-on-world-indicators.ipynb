{
  "cells": [
    {
      "cell_type": "markdown",
      "metadata": {
        "_cell_guid": "6595917e-d9be-c0bd-82ab-060e40bc746c"
      },
      "source": [
        "# Introduction \n",
        "\n",
        "SQL or Structured Query Language is the de-facto language used for interacting with (\"querying\" per industry speak) relational databases. A relational database consists of tables, where each table contains records, or rows of data organised by fields or columns. On the topic of relational databases,  there are many different flavours and forms of relational database management systems (RDMS) - SQL Server, MySQL, PostgreSQL etc. \n",
        "\n",
        "In this Kaggle dataset, the database that we are given to work with is a SQLite  database. SQLite is not your \"classical\" database in the sense that it is a self-contained, disk-based database that gets embedded in the application that uses it and hence does not require a separate server process.\n",
        "\n",
        "There seems to be very few notebooks on Kaggle talking about integrating Python with SQL and therefore this notebook aims to try to bridge this gap. \n",
        "\n",
        "Let's go."
      ]
    },
    {
      "cell_type": "code",
      "execution_count": null,
      "metadata": {
        "_cell_guid": "ab073c49-e7ac-0300-c1ba-dd548326917a"
      },
      "outputs": [],
      "source": [
        "import pandas as pd\n",
        "import numpy as np\n",
        "import matplotlib.pyplot as plt\n",
        "import seaborn as sns\n",
        "%matplotlib inline\n",
        "import sqlite3\n",
        "import os\n",
        "from bokeh.plotting import figure, show\n",
        "from bokeh.charts import Bar\n",
        "from bokeh.io import output_notebook\n",
        "output_notebook()\n",
        "%matplotlib inline\n",
        "import plotly.offline as py\n",
        "py.init_notebook_mode(connected=True)\n",
        "import plotly.graph_objs as go\n",
        "import plotly.tools as tls\n",
        "import warnings\n",
        "warnings.filterwarnings('ignore')"
      ]
    },
    {
      "cell_type": "markdown",
      "metadata": {
        "_cell_guid": "3370b3a1-803a-f4c6-f128-e57dd4d74995"
      },
      "source": [
        "Unlike my other notebooks, instead of reading data into a pandas dataframe from a csv (comma-separated value) file type, we will query the database via SQL. I will also show how we can store any relevant queries into a Pandas dataframe. To start off, we have to create a connection to the sqlite3 database as such:"
      ]
    },
    {
      "cell_type": "code",
      "execution_count": null,
      "metadata": {
        "_cell_guid": "3bc2017b-1ab6-299c-17c7-5b2e35b35b05"
      },
      "outputs": [],
      "source": [
        "conn = sqlite3.connect('../input/database.sqlite')"
      ]
    },
    {
      "cell_type": "markdown",
      "metadata": {
        "_cell_guid": "f5035348-8b40-4d56-79d7-d9c172d87fc4"
      },
      "source": [
        "Once we have our connection setup in python, we can create a **Cursor** object from which we can call the execute( ) method and to perform SQL statements and queries. "
      ]
    },
    {
      "cell_type": "code",
      "execution_count": null,
      "metadata": {
        "_cell_guid": "b15c050b-9422-22b3-a19f-dbdc2ca03b8a"
      },
      "outputs": [],
      "source": [
        "c = conn.cursor()"
      ]
    },
    {
      "cell_type": "markdown",
      "metadata": {
        "_cell_guid": "0bb25032-d380-1dff-5e95-beeaeca5dfeb"
      },
      "source": [
        "Having created our cursor object, we can now execute our SQL statement. If you are not too familiar with the following syntax, please bear with me until the following section where I will explain in detail what each SQL command does.\n",
        "\n",
        "You can distinguish SQL commands in my code (from Python) as they will be embedded within a triple quotation mark \"\"\""
      ]
    },
    {
      "cell_type": "code",
      "execution_count": null,
      "metadata": {
        "_cell_guid": "0c3b4811-63e0-34b8-6f41-62a37428e273"
      },
      "outputs": [],
      "source": [
        "for row in c.execute(\n",
        "                    # SQL statement \n",
        "                    \"\"\"\n",
        "                        SELECT   * \n",
        "                        FROM     Country \n",
        "                        LIMIT    2\n",
        "                        \n",
        "                     \"\"\" ):\n",
        "    print(row)"
      ]
    },
    {
      "cell_type": "markdown",
      "metadata": {
        "_cell_guid": "c93f4f8a-0761-6905-68e0-aa2ec989b79a"
      },
      "source": [
        "Now that's all and good that we have managed to print out the first two rows of the data from our Sqlite database. However I still have a niggling feeling that the current method is inconvenient in the sense that we have to use a for loop just to execute our SQL statement. \n",
        "\n",
        "Thankfully for us, the Pandas library comes with methods that allow one to interact with and query SQL databases and we will explore this in the upcoming section."
      ]
    },
    {
      "cell_type": "markdown",
      "metadata": {
        "_cell_guid": "5b9c729f-07b1-ff85-9de0-d7cf42ede896"
      },
      "source": [
        "### Basics of SQL Queries\n",
        "\n",
        "Before we continue on with the notebook, I will list here the important SQL statements that are most widely used  \n",
        "\n",
        "**SELECT** : Statement used to select rows and columns from a database. \n",
        "\n",
        "**FROM** :  Specifies which table in the database you want to direct your query to\n",
        "\n",
        "**WHERE**: clause for filtering for a specified value(s)\n",
        "\n",
        "**GROUP BY**: Aggregating data. Needs to be used in conjunction with SQL aggregating functions like SUM and COUNT.\n",
        "\n",
        "**ORDER BY**: Sorting columns in the database "
      ]
    },
    {
      "cell_type": "markdown",
      "metadata": {
        "_cell_guid": "49a2721f-bca6-efb9-493b-4da09a588ba8"
      },
      "source": [
        "# 1. SQL and Pandas Equivalent statements\n",
        "\n",
        "In this section I shall be comparing a particular SQL statement to its Pandas equivalent in the hope that if you are familiar with the Pandas syntax but not so much SQL, this may allow you to have a familiar reference point with which to familiarise yourself with.\n",
        "\n",
        "First let us read in the **Country** table in our "
      ]
    },
    {
      "cell_type": "code",
      "execution_count": null,
      "metadata": {
        "_cell_guid": "c46cba5e-bf50-52a0-9182-07517f220d60"
      },
      "outputs": [],
      "source": [
        "# Store Country data in a pandas dataframe via a SQL query\n",
        "Country = pd.read_sql(\n",
        "                       \"\"\"\n",
        "                       \n",
        "                        SELECT  * \n",
        "                        FROM    Country\n",
        "                        \n",
        "                       \"\"\", con=conn)"
      ]
    },
    {
      "cell_type": "markdown",
      "metadata": {
        "_cell_guid": "3e772715-f1da-8c7f-f84f-0ee3aaaf530f"
      },
      "source": [
        "**A.) SELECT, LIMIT and head**\n",
        "\n",
        "The SELECT statement in SQL is probably the most ubiquitous statement as one will need this statement to select records from a database. Normally you will see this being used very often in conjunction with the asterisk symbol : **SELECT *** .  What this does is to select all rows and columns with in the database. However if one wants to select only a certain number of rows, this is where LIMIT comes in\n",
        "\n",
        "I think it is rather safe to assume that most Kagglers understand the use of invoking the head( ) call on a dataframe. It essentially returns the top (user-specified) number of rows in your data. Equivalently, one can also do the same thing via a SQL query with the use of the LIMIT statement as follows:"
      ]
    },
    {
      "cell_type": "code",
      "execution_count": null,
      "metadata": {
        "_cell_guid": "6fc9f919-3456-781f-c385-24db9b1a5384"
      },
      "outputs": [],
      "source": [
        "# Pandas code\n",
        "Country.head(3)"
      ]
    },
    {
      "cell_type": "code",
      "execution_count": null,
      "metadata": {
        "_cell_guid": "f134d102-d98d-8720-ef4c-53cfbff6e386"
      },
      "outputs": [],
      "source": [
        "# SQL query \n",
        "pd.read_sql(\n",
        "            \"\"\"\n",
        "                SELECT   * \n",
        "                FROM     Country \n",
        "                LIMIT    3 \n",
        "                \n",
        "            \"\"\", con=conn)"
      ]
    },
    {
      "cell_type": "markdown",
      "metadata": {
        "_cell_guid": "5edfe054-14bc-1799-fdb6-cfef0b74c82f"
      },
      "source": [
        "**B.) WHERE and Boolean Indexing**\n",
        "\n",
        "The SQL WHERE clause is mainly used for filtering records of interest. Therefore if the records fulfill the conditions as laid out by the WHERE clause, then that record will be returned. The equivalent of this in Python and Pandas is that of Boolean Indexing - a.k.a passing into the DataFrame another DataFrame in a comparison statement as follows:"
      ]
    },
    {
      "cell_type": "code",
      "execution_count": null,
      "metadata": {
        "_cell_guid": "39cc8e7f-c092-8a01-29b3-1e335ed585e7"
      },
      "outputs": [],
      "source": [
        "# Pandas Boolean Indexing\n",
        "Country[Country['CountryCode'] == 'AFG']"
      ]
    },
    {
      "cell_type": "code",
      "execution_count": null,
      "metadata": {
        "_cell_guid": "52d38786-73b7-d5cd-c8bc-06b83bf3ddb5"
      },
      "outputs": [],
      "source": [
        "# SQL WHERE clause\n",
        "pd.read_sql(\n",
        "        \"\"\" \n",
        "            SELECT   * \n",
        "            FROM     Country \n",
        "            WHERE    CountryCode = 'AFG'\n",
        "            \n",
        "        \"\"\", con=conn)"
      ]
    },
    {
      "cell_type": "markdown",
      "metadata": {
        "_cell_guid": "cbe4c9a9-34ed-7605-906f-7455f3297b5c"
      },
      "source": [
        "**C.) GROUP BY and dataframe aggregation**\n",
        "\n",
        "The GROUP BY clause is very useful when aggregations are required to be generated. When I say aggregations, these are taken to mean things (in SQL speak) such as COUNT, MAX, MIN, SUM etc. \n",
        "\n",
        "In the following example, I shall perform an aggregation on the Country dataset by counting (COUNT function) the number of records that belong to a certain Region. As a rule of thumb, to know what we have to add to our GROUP BY statement is simply the column that we want to aggregate on (Region in our case)."
      ]
    },
    {
      "cell_type": "code",
      "execution_count": null,
      "metadata": {
        "_cell_guid": "a817467a-db6d-70ab-d467-0afd23301e1c"
      },
      "outputs": [],
      "source": [
        "# SQL GROUP BY Clause\n",
        "pd.read_sql(\n",
        "        \"\"\" \n",
        "            SELECT      Region\n",
        "                        ,COUNT(*) AS [Count]\n",
        "            FROM        Country \n",
        "            GROUP BY    Region\n",
        "            ORDER BY    2 DESC\n",
        "            \n",
        "        \"\"\", con=conn)"
      ]
    },
    {
      "cell_type": "markdown",
      "metadata": {
        "_cell_guid": "f4021486-66bf-a6d1-ca24-fd85fb4bb11d"
      },
      "source": [
        "I snuck in an ORDER BY statement and what this does is to sort the data in descending order (DESC keyword). Anyway, we can see that this GROUP BY does counts all the records (aggregate) that belong to a particular region and and then outputs the result in a ordered tabular format. \n",
        "\n",
        "Particularly interesting is the fact that we have an empty string as one of our categories in Region and there are 33 records in the database that can be attributed to this. Perhaps this could be brought up as a data quality issue and definitely warrants further investigation."
      ]
    },
    {
      "cell_type": "markdown",
      "metadata": {
        "_cell_guid": "919c63f5-b7ee-0c81-ff29-b7d7aff02aef"
      },
      "source": [
        "**D.) SQL JOIN**"
      ]
    },
    {
      "cell_type": "markdown",
      "metadata": {
        "_cell_guid": "5047fc22-5376-6e32-9067-ef17cf0a8ff2"
      },
      "source": [
        "**E) UNION, INTERSECT and EXCEPT**\n",
        "\n",
        "SQL also comes with a handful of useful Set operations, namely that of UNION, INTERSECT and the EXCEPT statements. These statements perform exactly as their name suggests (from set theory)."
      ]
    },
    {
      "cell_type": "code",
      "execution_count": null,
      "metadata": {
        "_cell_guid": "4ac15db1-0201-1944-6724-5d171f746f3c"
      },
      "outputs": [],
      "source": [
        ""
      ]
    },
    {
      "cell_type": "markdown",
      "metadata": {
        "_cell_guid": "6616d780-b8ee-b214-382d-abf4875c6537"
      },
      "source": [
        "# 2. Data Analysis and Visualisations\n",
        "\n",
        "Having discussed at some length to basic SQL statements and how we can interact and query SQL databases through Python let us now carry on with our World Developmental analysis. To start off, I shall create a dataframe via a query of the **Indicator** table with a handful of manually chosen indicators (as the full table contains too many indicators for this notebook)\n",
        "\n",
        "A quick description of the indicators are as follows:\n",
        "\n",
        "**AG.LND.PRCP.MM** :  Average precipitation in depth (mm per year)\n",
        "\n",
        "**EG.ELC.ACCS.ZS** :  Access to electricity (% of population)\n",
        "\n",
        "**EG.ELC.FOSL.ZS** :  Electricity production from oil, gas and coal sources (% of total)\n",
        "\n",
        "\n"
      ]
    },
    {
      "cell_type": "code",
      "execution_count": null,
      "metadata": {
        "_cell_guid": "8c65218d-61b2-6afe-b0da-cd2f4ec497c1"
      },
      "outputs": [],
      "source": [
        "Indicators = pd.read_sql(\"\"\" SELECT   * \n",
        "                             FROM     Indicators \n",
        "                             WHERE    IndicatorCode IN \n",
        "                                      (  'AG.LND.PRCP.MM, AG.LND.FRST.K2'\n",
        "                                       , 'EG.ELC.ACCS.ZS', 'EG.ELC.FOSL.ZS'\n",
        "                                       , 'EN.POP.DNST', 'SG.VAW.REAS.ZS'\n",
        "                                       , 'SM.POP.NETM', 'SP.POP.65UP.TO.ZS'\n",
        "                                       , 'FI.RES.TOTL.DT.ZS', 'GC.DOD.TOTL.GD.ZS'\n",
        "                                       , 'MS.MIL.XPND.GD.ZS','SI.POV.GINI'\n",
        "                                       , 'IP.JRN.ARTC.SC', 'SE.ADT.1524.LT.ZS'\n",
        "                                      )  \n",
        "                        \"\"\", con=conn)"
      ]
    },
    {
      "cell_type": "markdown",
      "metadata": {
        "_cell_guid": "246a7e9f-6364-159e-159f-bb39f8d21c00"
      },
      "source": [
        "### 2A. GINI Index analysis\n",
        "\n",
        "To start off with our analysis, let us take a look at the GINI index of some of the countries we have in our dataset. As a quick primer the GINI index (in its normalised form) is a statistical measure used "
      ]
    },
    {
      "cell_type": "code",
      "execution_count": null,
      "metadata": {
        "_cell_guid": "8ef46190-38bb-46a9-be62-f8bf8edfbe90"
      },
      "outputs": [],
      "source": [
        "#Regions = ['ARB', 'EUU', 'LCN' , 'NAC',  'EAS', 'SSF', 'World']\n",
        "gini = Indicators[Indicators['IndicatorCode']== 'SI.POV.GINI']"
      ]
    },
    {
      "cell_type": "code",
      "execution_count": null,
      "metadata": {
        "_cell_guid": "e36f4b83-bb7c-9091-a38c-d1e34e810e7a"
      },
      "outputs": [],
      "source": [
        "# Plotting a Subplot of the Seaborn regplot\n",
        "f, ((ax1, ax2, ax3), (ax4,ax5,ax6), (ax7, ax8, ax9)) = plt.subplots(3,3,figsize=(12,10))\n",
        "\n",
        "points = ax1.scatter(gini[gini['CountryCode'] == 'CHN'][\"Year\"], gini[gini['CountryCode'] == 'CHN'][\"Value\"],\n",
        "                     c=gini[gini['CountryCode'] == 'CHN'][\"Value\"], s=100, cmap=\"viridis\")\n",
        "sns.regplot(\"Year\", \"Value\", data=gini[gini['CountryCode'] == 'CHN'], ax=ax1)\n",
        "ax1.set_title(\"GINI Index of China\")\n",
        "\n",
        "points = ax2.scatter(gini[gini['CountryCode'] == 'ARG'][\"Year\"], gini[gini['CountryCode'] == 'ARG'][\"Value\"],\n",
        "                     c=gini[gini['CountryCode'] == 'ARG'][\"Value\"], s=85, cmap=\"viridis\")\n",
        "sns.regplot(\"Year\", \"Value\", data=gini[gini['CountryCode'] == 'ARG'], ax=ax2)\n",
        "ax2.set_title(\"GINI Index of Argentina\")\n",
        "\n",
        "points = ax3.scatter(gini[gini['CountryCode'] == 'IND'][\"Year\"], gini[gini['CountryCode'] == 'IND'][\"Value\"],\n",
        "                     c=gini[gini['CountryCode'] == 'IND'][\"Value\"], s=100, cmap=\"afmhot\")\n",
        "sns.regplot(\"Year\", \"Value\", data=gini[gini['CountryCode'] == 'IND'], ax=ax3)\n",
        "ax3.set_title(\"GINI Index of India\")\n",
        "\n",
        "points = ax4.scatter(gini[gini['CountryCode'] == 'USA'][\"Year\"], gini[gini['CountryCode'] == 'USA'][\"Value\"],\n",
        "                     c=gini[gini['CountryCode'] == 'USA'][\"Value\"], s=100, cmap=\"Purples_r\")\n",
        "sns.regplot(\"Year\", \"Value\", data=gini[gini['CountryCode'] == 'USA'], ax=ax4)\n",
        "ax4.set_title(\"GINI Index of USA\")\n",
        "\n",
        "points = ax5.scatter(gini[gini['CountryCode'] == 'COL'][\"Year\"], gini[gini['CountryCode'] == 'COL'][\"Value\"],\n",
        "                     c=gini[gini['CountryCode'] == 'COL'][\"Value\"], s=100, cmap=\"YlOrBr\")\n",
        "sns.regplot(\"Year\", \"Value\", data=gini[gini['CountryCode'] == 'COL'], ax=ax5)\n",
        "ax5.set_title(\"GINI Index of Colombia\")\n",
        "\n",
        "points = ax6.scatter(gini[gini['CountryCode'] == 'AUS'][\"Year\"], gini[gini['CountryCode'] == 'AUS'][\"Value\"],\n",
        "                     c=gini[gini['CountryCode'] == 'AUS'][\"Value\"], s=100, cmap=\"Blues\")\n",
        "sns.regplot(\"Year\", \"Value\", data=gini[gini['CountryCode'] == 'AUS'], ax=ax6)\n",
        "ax6.set_title(\"GINI Index of Australia\")\n",
        "\n",
        "points = ax7.scatter(gini[gini['CountryCode'] == 'KEN'][\"Year\"], gini[gini['CountryCode'] == 'KEN'][\"Value\"],\n",
        "                     c=gini[gini['CountryCode'] == 'KEN'][\"Value\"], s=100, cmap=\"Blues\")\n",
        "sns.regplot(\"Year\", \"Value\", data=gini[gini['CountryCode'] == 'KEN'], ax=ax7)\n",
        "ax7.set_title(\"GINI Index of Kenya\")\n",
        "\n",
        "points = ax8.scatter(gini[gini['CountryCode'] == 'CAF'][\"Year\"], gini[gini['CountryCode'] == 'CAF'][\"Value\"],\n",
        "                     c=gini[gini['CountryCode'] == 'CAF'][\"Value\"], s=100, cmap=\"winter\")\n",
        "sns.regplot(\"Year\", \"Value\", data=gini[gini['CountryCode'] == 'CAF'], ax=ax8)\n",
        "ax8.set_title(\"GINI Index of Central African Republic\")\n",
        "\n",
        "points = ax9.scatter(gini[gini['CountryCode'] == 'IDN'][\"Year\"], gini[gini['CountryCode'] == 'IDN'][\"Value\"],\n",
        "                     c=gini[gini['CountryCode'] == 'IDN'][\"Value\"], s=100, cmap=\"magma\")\n",
        "sns.regplot(\"Year\", \"Value\", data=gini[gini['CountryCode'] == 'IDN'], ax=ax9)\n",
        "ax9.set_title(\"GINI Index of Indonesia\")\n",
        "#sns.set_style(style=\"white\")\n",
        "plt.tight_layout()"
      ]
    },
    {
      "cell_type": "markdown",
      "metadata": {
        "_cell_guid": "a1a0b390-fc6b-480c-466a-0cb329d6fabd"
      },
      "source": [
        "### 2B. Youth Literacy Rate (% of population)\n",
        "\n",
        "Onto our next indicator, which has an indicator code of **SE.ADT.1524.LT.ZS** : Youth Literacy rates. Previously on one of my other Kernels, I had published a piece of analysis on global Youth unemployment and it seemed to hit quite a chord with readers. Delving deeper into "
      ]
    },
    {
      "cell_type": "code",
      "execution_count": null,
      "metadata": {
        "_cell_guid": "40a74800-2b2b-932a-fa2f-bb3588fbbd16"
      },
      "outputs": [],
      "source": [
        "data = Indicators[Indicators['IndicatorCode'] == 'SE.ADT.1524.LT.ZS'][Indicators['Year'] == 2010]\n",
        "x, y = (list(x) for x in zip(*sorted(zip(data['Value'].values, data['CountryName'].values), \n",
        "                                                            reverse = False)))\n",
        "\n",
        "# Plotting using Plotly \n",
        "trace2 = go.Bar(\n",
        "    x=x ,\n",
        "    y=y,\n",
        "    marker=dict(\n",
        "        color=x,\n",
        "        colorscale = 'Portland',\n",
        "        reversescale = True\n",
        "    ),\n",
        "    name='Percentage of Youth Literacy Rate',\n",
        "    orientation='h',\n",
        ")\n",
        "\n",
        "layout = dict(\n",
        "    title='Barplot of Youth Literacy Rate',\n",
        "     width = 600, height = 1200,\n",
        "    yaxis=dict(\n",
        "        showgrid=False,\n",
        "        showline=False,\n",
        "        showticklabels=True,\n",
        "#         domain=[0, 0.85],\n",
        "    ))\n",
        "\n",
        "fig1 = go.Figure(data=[trace2])\n",
        "fig1['layout'].update(layout)\n",
        "py.iplot(fig1, filename='plots')"
      ]
    },
    {
      "cell_type": "markdown",
      "metadata": {
        "_cell_guid": "aa47401f-c2ce-f287-6104-6d42944e36a1"
      },
      "source": [
        "### 2C. Access to Electricity\n",
        "\n",
        "Let's now inspect another very important indicator and that would be one of a country's access to electricity."
      ]
    },
    {
      "cell_type": "code",
      "execution_count": null,
      "metadata": {
        "_cell_guid": "bd961284-d9e8-6330-b0a8-9a4ec374084c"
      },
      "outputs": [],
      "source": [
        "data = Indicators[Indicators['IndicatorCode'] == 'EG.ELC.ACCS.ZS'][Indicators['Year'] == 2012]\n",
        "x, y = (list(x) for x in zip(*sorted(zip(data['Value'].values, data['CountryName'].values), \n",
        "                                                            reverse = False)))\n",
        "\n",
        "# Plotting using Plotly \n",
        "trace2 = go.Bar(\n",
        "    x=x ,\n",
        "    y=y,\n",
        "    marker=dict(\n",
        "        color=x,\n",
        "        colorscale = 'Portland',\n",
        "        reversescale = True\n",
        "    ),\n",
        "    name='Percentage of Countries with Access to Electriciy',\n",
        "    orientation='h',\n",
        ")\n",
        "\n",
        "layout = dict(\n",
        "    title='Barplot of Countries with Access to Electricity',\n",
        "     width = 700, height = 1600,\n",
        "    yaxis=dict(\n",
        "        showgrid=False,\n",
        "        showline=False,\n",
        "        showticklabels=True,\n",
        "#         domain=[0, 0.85],\n",
        "    ))\n",
        "\n",
        "fig1 = go.Figure(data=[trace2])\n",
        "fig1['layout'].update(layout)\n",
        "py.iplot(fig1, filename='plots')"
      ]
    },
    {
      "cell_type": "markdown",
      "metadata": {
        "_cell_guid": "94c01eee-dab6-9858-cf2f-e3506dfb6d87"
      },
      "source": [
        "### *TO BE CONTINUED. NEED TO SLEEP* "
      ]
    },
    {
      "cell_type": "code",
      "execution_count": null,
      "metadata": {
        "_cell_guid": "8c2b64d0-351b-f516-861d-0b8245d2e419"
      },
      "outputs": [],
      "source": [
        ""
      ]
    }
  ],
  "metadata": {
    "_change_revision": 0,
    "_is_fork": false,
    "kernelspec": {
      "display_name": "Python 3",
      "language": "python",
      "name": "python3"
    },
    "language_info": {
      "codemirror_mode": {
        "name": "ipython",
        "version": 3
      },
      "file_extension": ".py",
      "mimetype": "text/x-python",
      "name": "python",
      "nbconvert_exporter": "python",
      "pygments_lexer": "ipython3",
      "version": "3.6.0"
    }
  },
  "nbformat": 4,
  "nbformat_minor": 0
}