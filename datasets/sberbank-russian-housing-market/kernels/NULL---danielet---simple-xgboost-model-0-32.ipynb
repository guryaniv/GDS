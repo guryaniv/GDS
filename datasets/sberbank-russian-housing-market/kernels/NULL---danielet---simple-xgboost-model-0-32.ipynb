{
  "cells": [
    {
      "cell_type": "markdown",
      "metadata": {
        "_cell_guid": "bbf11365-4324-111f-d9cf-71d0a18dba5b"
      },
      "source": [
        "## Simple XGBoost Model\n",
        "### Using XGBoost"
      ]
    },
    {
      "cell_type": "code",
      "execution_count": null,
      "metadata": {
        "_cell_guid": "9e2cae7f-4aa2-3435-2673-1476ed88c496"
      },
      "outputs": [],
      "source": [
        "import numpy as np  # linear algebra\n",
        "import pandas as pd  # data processing, CSV file I/O\n",
        "import xgboost as xgb # XGBoost model\n",
        "import matplotlib.pyplot as plt\n",
        "import math"
      ]
    },
    {
      "cell_type": "raw",
      "metadata": {
        "_cell_guid": "25b8e0e5-c8d9-8490-07c6-c247c2e4df34"
      },
      "source": [
        "Importing Libraries"
      ]
    },
    {
      "cell_type": "code",
      "execution_count": null,
      "metadata": {
        "_cell_guid": "fadb29f1-ceaf-22c2-8e21-97c003dec52f"
      },
      "outputs": [],
      "source": [
        "def rmsle(pred, train):\n",
        "\tlabel = train.get_label()\n",
        "\tassert len(pred) == len(label)\n",
        "\tlabel = label.tolist()\n",
        "\tpred = pred.tolist()\n",
        "\tsumm = [(math.log(label[i] + 1) - math.log(max(0, pred[i]) + 1)) ** 2.0 for i, j in enumerate(label)]\n",
        "\treturn 'rmsle', (sum(summ) * (1.0 / len(pred))) ** 0.5"
      ]
    },
    {
      "cell_type": "raw",
      "metadata": {
        "_cell_guid": "4c5ec393-bd61-3229-ede9-f93cbb595adb"
      },
      "source": [
        "RMSLE function to calculate score locally"
      ]
    },
    {
      "cell_type": "code",
      "execution_count": null,
      "metadata": {
        "_cell_guid": "3dc7f38b-210c-2a40-674a-88978924abb8"
      },
      "outputs": [],
      "source": [
        "df_train = pd.read_csv('../input/train.csv')\n",
        "df_test = pd.read_csv('../input/test.csv')\n",
        "df_macro = pd.read_csv('../input/macro.csv')"
      ]
    },
    {
      "cell_type": "raw",
      "metadata": {
        "_cell_guid": "9356f67b-0dd9-944d-ba4a-54c476b7599f"
      },
      "source": [
        "Importing data to DataFrame"
      ]
    },
    {
      "cell_type": "code",
      "execution_count": null,
      "metadata": {
        "_cell_guid": "ceb40339-2f08-2455-4ff9-5b968ab77aaa"
      },
      "outputs": [],
      "source": [
        "y_train = df_train['price_doc'].values"
      ]
    },
    {
      "cell_type": "raw",
      "metadata": {
        "_cell_guid": "045ef43e-e6eb-8f75-c1b1-6cce94032168"
      },
      "source": [
        "Assigning prices to variable"
      ]
    },
    {
      "cell_type": "code",
      "execution_count": null,
      "metadata": {
        "_cell_guid": "e7a033fd-a751-0aca-f2f8-e224aa069d69"
      },
      "outputs": [],
      "source": [
        "df_train = df_train.drop('price_doc', axis=1)"
      ]
    },
    {
      "cell_type": "raw",
      "metadata": {
        "_cell_guid": "1822b6e8-42bb-9cb6-5673-6c9f2e121873"
      },
      "source": [
        "Dropping price_doc which was assigned to y_train, thus we don't need it anymore"
      ]
    },
    {
      "cell_type": "code",
      "execution_count": null,
      "metadata": {
        "_cell_guid": "e0fbeb26-d361-e54b-7b2a-32dd149133a6"
      },
      "outputs": [],
      "source": [
        "df_train = pd.merge(df_train, df_macro, how='left', on='timestamp')\n",
        "df_test = pd.merge(df_test, df_macro, how='left', on='timestamp')"
      ]
    },
    {
      "cell_type": "raw",
      "metadata": {
        "_cell_guid": "d75dd317-c1ec-4828-4c0b-b859926989b0"
      },
      "source": [
        "Merging training and test set with macro on timestamp column"
      ]
    },
    {
      "cell_type": "code",
      "execution_count": null,
      "metadata": {
        "_cell_guid": "34cff2de-1318-6ef6-51e7-8ea2f6bab114"
      },
      "outputs": [],
      "source": [
        "print(df_train.dtypes.value_counts())\n",
        "print(df_test.dtypes.value_counts())"
      ]
    },
    {
      "cell_type": "raw",
      "metadata": {
        "_cell_guid": "92779d18-e395-81c5-5869-7aa92184bb1f"
      },
      "source": [
        "Checking what type of columns we have"
      ]
    },
    {
      "cell_type": "code",
      "execution_count": null,
      "metadata": {
        "_cell_guid": "05384568-a0b1-f6a6-0c0f-276162816a26"
      },
      "outputs": [],
      "source": [
        "df_train['timestamp'] = pd.to_numeric(pd.to_datetime(df_train['timestamp'])) / 1e18\n",
        "df_test['timestamp'] = pd.to_numeric(pd.to_datetime(df_test['timestamp'])) / 1e18\n",
        "print(df_train['timestamp'].head())"
      ]
    },
    {
      "cell_type": "raw",
      "metadata": {
        "_cell_guid": "51858d70-0647-6e46-0956-1a11c15b39ee"
      },
      "source": [
        "We should not delete timestamp because all other variables are dependant of it, so we convert it to float, dividing by 1e18 because 1e17 gives us too high float and dividing by 1e19 gives us too small float"
      ]
    },
    {
      "cell_type": "code",
      "execution_count": null,
      "metadata": {
        "_cell_guid": "90ca9aa4-c834-a78d-1bd7-3a012ae7f94a"
      },
      "outputs": [],
      "source": [
        "df_train = df_train.drop(['id'], axis=1)"
      ]
    },
    {
      "cell_type": "raw",
      "metadata": {
        "_cell_guid": "6ee62eb2-3f72-be8c-b6fa-5952d2a03c87"
      },
      "source": [
        "Dropping id from df_train dataframe, we don't need it"
      ]
    },
    {
      "cell_type": "code",
      "execution_count": null,
      "metadata": {
        "_cell_guid": "68105336-5153-09a9-41bb-0cd8e98f88ea"
      },
      "outputs": [],
      "source": [
        "result = pd.DataFrame()"
      ]
    },
    {
      "cell_type": "raw",
      "metadata": {
        "_cell_guid": "87858420-d7f5-4a4b-83af-21ca4a76ff8a"
      },
      "source": [
        "Creating future result DataFrame"
      ]
    },
    {
      "cell_type": "code",
      "execution_count": null,
      "metadata": {
        "_cell_guid": "68190698-ce02-7073-60f7-f14b1e19f641"
      },
      "outputs": [],
      "source": [
        "result['id'] = df_test['id'].values\n",
        "df_test = df_test.drop(['id'], axis=1)"
      ]
    },
    {
      "cell_type": "raw",
      "metadata": {
        "_cell_guid": "351c1cf5-ed7d-210c-49b8-38ea5a72b17b"
      },
      "source": [
        "Assigning id to result dataframe and then dropping it, we don't need it"
      ]
    },
    {
      "cell_type": "code",
      "execution_count": null,
      "metadata": {
        "_cell_guid": "dfea403a-3600-08d5-5526-2ce592a47dec"
      },
      "outputs": [],
      "source": [
        "train_columns = list(\n",
        "\tset(df_train.select_dtypes(include=['float64', 'int64']).columns))\n",
        "\n",
        "test_columns = list(\n",
        "\tset(df_test.select_dtypes(include=['float64', 'int64']).columns))"
      ]
    },
    {
      "cell_type": "raw",
      "metadata": {
        "_cell_guid": "13d324b6-5bab-baf1-6b3f-bd47c61b2032"
      },
      "source": [
        "We are training on  flaot64 and int64 columns, although we lose some data from object columns"
      ]
    },
    {
      "cell_type": "code",
      "execution_count": null,
      "metadata": {
        "_cell_guid": "647f7927-f379-0172-2702-12b53d864052"
      },
      "outputs": [],
      "source": [
        "x_train = df_train[train_columns].values\n",
        "x_test = df_test[test_columns].values"
      ]
    },
    {
      "cell_type": "raw",
      "metadata": {
        "_cell_guid": "12ff8328-1233-ce41-07fe-e01eb75b7c2f"
      },
      "source": [
        "Train/Valid split"
      ]
    },
    {
      "cell_type": "code",
      "execution_count": null,
      "metadata": {
        "_cell_guid": "e4de4661-757b-7058-9229-e9f8be236e70"
      },
      "outputs": [],
      "source": [
        "#from sklearn.model_selection import train_test_split\n",
        "#x_train, x_valid, y_train, y_valid = train_test_split(x_train,y_train, test_size = 0.2, random_state = 64)"
      ]
    },
    {
      "cell_type": "raw",
      "metadata": {
        "_cell_guid": "54d336e5-8874-813a-96e2-d4bfa9740141"
      },
      "source": [
        "Random set of train/validation locally performs worse than manually assigning them"
      ]
    },
    {
      "cell_type": "code",
      "execution_count": null,
      "metadata": {
        "_cell_guid": "f28345ae-530e-f2aa-e4a2-ff1707cec292"
      },
      "outputs": [],
      "source": [
        "split = 25000\n",
        "x_train, y_train, x_valid, y_valid = x_train[:split], y_train[:split], x_train[split:], y_train[split:]"
      ]
    },
    {
      "cell_type": "raw",
      "metadata": {
        "_cell_guid": "19f48c8b-5918-76d2-9503-580a167c6ea1"
      },
      "source": [
        "We could use Imputer to fill NaNs but XGBoost does it for us, if we were to use Imputer, then filling NaNs with median performs equally good, although mean and most_frequent performs worse locally"
      ]
    },
    {
      "cell_type": "code",
      "execution_count": null,
      "metadata": {
        "_cell_guid": "f21659d6-e29f-26c8-7a68-b939b1f2fe35"
      },
      "outputs": [],
      "source": [
        "d_train = xgb.DMatrix(x_train, label=y_train)\n",
        "d_valid = xgb.DMatrix(x_valid, label=y_valid)"
      ]
    },
    {
      "cell_type": "raw",
      "metadata": {
        "_cell_guid": "e64dba11-449c-33ba-d2c3-59a8c255a85f"
      },
      "source": [
        "Creating Matrixes in order to train model"
      ]
    },
    {
      "cell_type": "code",
      "execution_count": null,
      "metadata": {
        "_cell_guid": "a45cef09-a488-a22b-3f44-e4bdbca55654"
      },
      "outputs": [],
      "source": [
        "params = {}\n",
        "params['objective'] = 'reg:linear' # linear regression\n",
        "params['eta'] = 0.031              # step size shrinkage used in update to prevent overfitting\n",
        "params['max_depth'] = 6            # maximum depth of a tree\n",
        "params['silent'] = 1               # silent mode"
      ]
    },
    {
      "cell_type": "code",
      "execution_count": null,
      "metadata": {
        "_cell_guid": "1175f5bc-478d-d81f-a41e-16370e11e2eb"
      },
      "outputs": [],
      "source": [
        "evals = [(d_train, 'train'), (d_valid, 'valid')]"
      ]
    },
    {
      "cell_type": "raw",
      "metadata": {
        "_cell_guid": "f2736768-c476-bda2-e7cf-231e2becb91e"
      },
      "source": [
        "Creating evals: list of pairs of items to be evaluated during training"
      ]
    },
    {
      "cell_type": "code",
      "execution_count": null,
      "metadata": {
        "_cell_guid": "11ecd4c9-cdcd-aee6-9718-c48934876cf0"
      },
      "outputs": [],
      "source": [
        "clf = xgb.train(params, d_train, 800, evals, feval=rmsle, early_stopping_rounds=100)"
      ]
    },
    {
      "cell_type": "raw",
      "metadata": {
        "_cell_guid": "983f503c-fa9a-e206-4ff8-b4f4869413d4"
      },
      "source": [
        "Training of a model, final result is ~ train-rmsle:0.419234    valid-rmsle:0.408311"
      ]
    },
    {
      "cell_type": "code",
      "execution_count": null,
      "metadata": {
        "_cell_guid": "063cabd4-1e7c-b959-e6e8-4f019ccaee95"
      },
      "outputs": [],
      "source": [
        "x_test = xgb.DMatrix(x_test)\n",
        "pred_test = clf.predict(x_test)"
      ]
    },
    {
      "cell_type": "code",
      "execution_count": null,
      "metadata": {
        "_cell_guid": "6da770cf-5ccf-af14-4587-a895dc8f6655"
      },
      "outputs": [],
      "source": [
        "result['price_doc'] = pred_test\n",
        "result.to_csv('results.csv', index=False)"
      ]
    },
    {
      "cell_type": "code",
      "execution_count": null,
      "metadata": {
        "_cell_guid": "27a9351b-312b-d17b-1854-2037960f99c0"
      },
      "outputs": [],
      "source": [
        "Importing to CV\n",
        "Overall kaggle score is ~0.324"
      ]
    }
  ],
  "metadata": {
    "_change_revision": 0,
    "_is_fork": false,
    "kernelspec": {
      "display_name": "Python 3",
      "language": "python",
      "name": "python3"
    },
    "language_info": {
      "codemirror_mode": {
        "name": "ipython",
        "version": 3
      },
      "file_extension": ".py",
      "mimetype": "text/x-python",
      "name": "python",
      "nbconvert_exporter": "python",
      "pygments_lexer": "ipython3",
      "version": "3.6.0"
    }
  },
  "nbformat": 4,
  "nbformat_minor": 0
}