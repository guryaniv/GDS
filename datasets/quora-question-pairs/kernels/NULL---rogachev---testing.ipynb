{
  "cells": [
    {
      "cell_type": "code",
      "execution_count": null,
      "metadata": {
        "_cell_guid": "03cfee2f-da7e-31a9-a98f-b3730710de15"
      },
      "outputs": [],
      "source": [
        "import numpy as np\n",
        "import pandas as pd\n",
        "tr = pd.read_csv('../input/train.csv')\n",
        "te = pd.read_csv('../input/test.csv')\n",
        "from nltk.corpus import stopwords\n",
        "SCALE = 1.0"
      ]
    },
    {
      "cell_type": "code",
      "execution_count": null,
      "metadata": {
        "_cell_guid": "16612b7a-6df3-9ab3-fe55-9e547ddf6e52"
      },
      "outputs": [],
      "source": [
        "def word_match_share(x):\n",
        "    '''\n",
        "    The much-loved word_match_share feature.\n",
        "\n",
        "    Args:\n",
        "        x: source data with question1/2\n",
        "        \n",
        "    Returns:\n",
        "        word_match_share as a pandas Series\n",
        "    '''\n",
        "    stops = set(stopwords.words('english'))\n",
        "    q1 = x.question1.fillna(' ').str.lower().str.split()\n",
        "    q2 = x.question2.fillna(' ').str.lower().str.split()\n",
        "    q1 = q1.map(lambda l : set(l) - stops)\n",
        "    q2 = q2.map(lambda l : set(l) - stops)\n",
        "    q = pd.DataFrame({'q1':q1, 'q2':q2})\n",
        "    q['len_inter'] = q.apply(lambda row : len(row['q1'] & row['q2']), axis=1)\n",
        "    q['len_tot'] = q.q1.map(len) + q.q2.map(len)\n",
        "    return (2 * q.len_inter / q.len_tot).fillna(0)"
      ]
    },
    {
      "cell_type": "code",
      "execution_count": null,
      "metadata": {
        "_cell_guid": "b8107f95-a313-160a-52b3-3cce9a0be3f8"
      },
      "outputs": [],
      "source": [
        "def bin_model(tr, te, bins=100, vpos=1, vss=3):\n",
        "    '''\n",
        "    Runs a Pandas table model using the word_match_share feature.\n",
        "    \n",
        "    Args:\n",
        "        tr: pandas DataFrame with question1/2 in it\n",
        "        te: test data frame\n",
        "        bins: word shares are rounded to whole numbers after multiplying by bins.\n",
        "        v_pos: number of virtual positives for smoothing (can be non-integer)\n",
        "        vss: virtual sample size for smoothing (can be non-integer)\n",
        "        \n",
        "    Returns:\n",
        "        submission in a Pandas Data Frame.\n",
        "    '''\n",
        "    tr['word_share'] = word_match_share(tr)\n",
        "    tr['binned_share'] = (bins * tr.word_share).round()\n",
        "    pos = tr.groupby('binned_share').is_duplicate.sum()\n",
        "    cts = tr.binned_share.value_counts()\n",
        "    te['word_share'] = word_match_share(te)\n",
        "    te['binned_share'] = (bins * te.word_share).round()\n",
        "    te_pos = te.binned_share.map(pos, na_action='ignore').fillna(0)\n",
        "    te_cts = te.binned_share.map(cts, na_action='ignore').fillna(0)\n",
        "    prob = (te_pos + vpos) / (te_cts + vss)\n",
        "    odds = prob / (1 - prob)\n",
        "    scaled_odds = SCALE * odds\n",
        "    scaled_prob = scaled_odds / (1 + scaled_odds)\n",
        "    sub = te[['id']].copy()\n",
        "    sub['is_duplicate'] = scaled_prob\n",
        "    return sub"
      ]
    },
    {
      "cell_type": "code",
      "execution_count": null,
      "metadata": {
        "_cell_guid": "796b1e89-a0d7-387d-68bf-8729e1839c25"
      },
      "outputs": [],
      "source": [
        "te = tr.copy()\n",
        "sub = bin_model(tr, te)\n",
        "sub.to_csv('no_ml_model_train.csv', index=False, float_format='%.6f')"
      ]
    },
    {
      "cell_type": "code",
      "execution_count": null,
      "metadata": {
        "_cell_guid": "ab96e2c1-7dd3-0423-12d0-c64d56009f05"
      },
      "outputs": [],
      "source": ""
    },
    {
      "cell_type": "code",
      "execution_count": null,
      "metadata": {
        "_cell_guid": "22aff4ec-3ffd-c000-53ec-588012987b5a"
      },
      "outputs": [],
      "source": ""
    }
  ],
  "metadata": {
    "_change_revision": 0,
    "_is_fork": false,
    "kernelspec": {
      "display_name": "Python 3",
      "language": "python",
      "name": "python3"
    },
    "language_info": {
      "codemirror_mode": {
        "name": "ipython",
        "version": 3
      },
      "file_extension": ".py",
      "mimetype": "text/x-python",
      "name": "python",
      "nbconvert_exporter": "python",
      "pygments_lexer": "ipython3",
      "version": "3.6.0"
    }
  },
  "nbformat": 4,
  "nbformat_minor": 0
}