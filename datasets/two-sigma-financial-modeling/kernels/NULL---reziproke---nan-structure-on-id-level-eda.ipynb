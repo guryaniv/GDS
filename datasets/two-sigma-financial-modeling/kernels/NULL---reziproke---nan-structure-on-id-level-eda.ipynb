{
  "cells": [
    {
      "cell_type": "markdown",
      "metadata": {
        "_cell_guid": "23e4dc90-79d8-e84e-ba97-11b9435524d1"
      },
      "source": [
        "## Overview\n",
        "\n",
        "This notebook focuses on the exploratory analysis of the NaNs in the data. There are three parts:\n",
        "\n",
        " 1. *Is the NaN structure on id level random?*\n",
        " 2. *Can that NaN structure be used to cluster id's?*\n",
        " 3. *Are there any gaps in any id time series?*"
      ]
    },
    {
      "cell_type": "code",
      "execution_count": null,
      "metadata": {
        "_cell_guid": "9da3ee63-9621-2e2a-c5f0-f5c31e5e5193"
      },
      "outputs": [],
      "source": [
        "import numpy as np\n",
        "import pandas as pd"
      ]
    },
    {
      "cell_type": "code",
      "execution_count": null,
      "metadata": {
        "_cell_guid": "676865f2-1ff0-1516-7090-df178425512d"
      },
      "outputs": [],
      "source": [
        "data = pd.read_hdf(\"../input/train.h5\")"
      ]
    },
    {
      "cell_type": "markdown",
      "metadata": {
        "_cell_guid": "ac90619e-9473-6b8f-e3a3-1520569266c8"
      },
      "source": [
        "How many id's are in the dataset?"
      ]
    },
    {
      "cell_type": "code",
      "execution_count": null,
      "metadata": {
        "_cell_guid": "095224c0-a2b8-31e6-4af8-02002bd2de2d"
      },
      "outputs": [],
      "source": [
        "len(pd.unique(data.id))"
      ]
    },
    {
      "cell_type": "markdown",
      "metadata": {
        "_cell_guid": "cfdef130-1c6d-fac6-25f5-f09e34e9e0ec"
      },
      "source": [
        "##1. Is the NaN Structure on Id Level Random?"
      ]
    },
    {
      "cell_type": "markdown",
      "metadata": {
        "_cell_guid": "bbb89adc-ff46-5ccc-fbf6-90c516004d5f"
      },
      "source": [
        "**Short answer**: No it isn't. Let's dig in deeper!"
      ]
    },
    {
      "cell_type": "markdown",
      "metadata": {
        "_cell_guid": "0f8d7c7d-5b1a-a4b3-0937-c0a9c83c7918"
      },
      "source": [
        "## Time Structure for First Id"
      ]
    },
    {
      "cell_type": "code",
      "execution_count": null,
      "metadata": {
        "_cell_guid": "56c2e4ad-17d8-4928-13ab-50c6e7919984"
      },
      "outputs": [],
      "source": [
        "# First ID\n",
        "data[data.id == data.id[0]].plot(x = 'timestamp', y = 'y',kind='scatter');"
      ]
    },
    {
      "cell_type": "markdown",
      "metadata": {
        "_cell_guid": "623052a5-ff41-fc39-1ffc-502d2a9d3166"
      },
      "source": [
        "The following plot shows the NaNs for the first id (it is basically a picture of the dataframe). Keep in mind that the data is already sorted.\n",
        "\n",
        "Black: No NaN\n",
        "\n",
        "White: NaN"
      ]
    },
    {
      "cell_type": "code",
      "execution_count": null,
      "metadata": {
        "_cell_guid": "3ac5a29b-41bf-9270-5255-bc3368cc4d63"
      },
      "outputs": [],
      "source": [
        "import matplotlib.pyplot as plt\n",
        "\n",
        "data_binary = data[data.id == data.id[0]].isnull()\n",
        "\n",
        "fig = plt.figure()\n",
        "ax = fig.add_subplot(111)\n",
        "ax.imshow(data_binary, aspect='auto', cmap=plt.cm.gray, interpolation='nearest')\n",
        "plt.title(\"NaN structure for first id. White: NaN Black: No NaN\")\n",
        "plt.xlabel(\"Features\")\n",
        "plt.ylabel(\"Timestamp\");"
      ]
    },
    {
      "cell_type": "markdown",
      "metadata": {
        "_cell_guid": "af9f9830-acb9-7549-c7c1-dbc670aa88f1"
      },
      "source": [
        "The data is **not** missing at random.\n",
        "\n",
        "Now let's do the same analysis for more financial instruments (chosen randomly)."
      ]
    },
    {
      "cell_type": "markdown",
      "metadata": {
        "_cell_guid": "f4c3545f-f7c7-c6b3-368f-2fac5ce95d2d"
      },
      "source": [
        "## Time Structure for Randomly Chosen Id's"
      ]
    },
    {
      "cell_type": "code",
      "execution_count": null,
      "metadata": {
        "_cell_guid": "a38a7d65-5c51-018d-dc8e-94dce8cf09de"
      },
      "outputs": [],
      "source": [
        "np.random.seed(352)\n",
        "ids = np.random.choice(data.id,20)\n",
        "\n",
        "for i in ids:\n",
        "    \n",
        "    data_binary = data[data.id == i].isnull()\n",
        "\n",
        "    fig = plt.figure()\n",
        "    ax = fig.add_subplot(111)\n",
        "    ax.imshow(data_binary, aspect='auto', cmap=plt.cm.gray, interpolation='nearest')\n",
        "    plt.title(\"NaN structure for id %i\" % i)\n",
        "    plt.xlabel(\"Features\")\n",
        "    plt.ylabel(\"Timestamp\");"
      ]
    },
    {
      "cell_type": "markdown",
      "metadata": {
        "_cell_guid": "fa73178b-2a84-e442-c501-88f019675180"
      },
      "source": [
        "It seems that the measurements are only missing at the beginning of the time series! They seem to kick in later on (some never kick in).\n",
        "\n",
        "Another thing that is interesting: Look at the features 70 - 111 (x-axis). The NaN structure is often similar for different financial instruments. But in general each instrument has a different NaN structure (at least those we looked at).\n",
        "\n",
        "**Hypothesis**: *The \"noisy\" NaN structure is not observable when drilling down on id level. The data is either always missing or only for a specific time period. After that time period it can always be observed. The NaN structure is not necessarily 100% unique for each id. id's can share aspects of that structure.* \n",
        "\n",
        "(Still need to work out how to generalize the analysis above without looking at each id plot myself :P)"
      ]
    },
    {
      "cell_type": "markdown",
      "metadata": {
        "_cell_guid": "95f911be-42a3-edfd-e2c6-32294b29d5bd"
      },
      "source": [
        "## 2. Can That NaN Structure Be Used to Cluster Id's?"
      ]
    },
    {
      "cell_type": "markdown",
      "metadata": {
        "_cell_guid": "3b7ed16e-6604-d458-2b5e-6fc8fc9a98c2"
      },
      "source": [
        "**Short answer**: There are at least two different groups of id's when looking at NaNs."
      ]
    },
    {
      "cell_type": "markdown",
      "metadata": {
        "_cell_guid": "bc8eb975-2dcf-a3a5-052e-34dd0d87da4f"
      },
      "source": [
        "Let's have an aggregated look at the NaNs for each feature for each id."
      ]
    },
    {
      "cell_type": "code",
      "execution_count": null,
      "metadata": {
        "_cell_guid": "1d0a648c-f887-ec32-e07a-9dd43cea0315"
      },
      "outputs": [],
      "source": [
        "unique_ids = pd.unique(data.id)\n",
        "\n",
        "NaN_vectors = np.zeros(shape=(1424, data.shape[1]))\n",
        "\n",
        "for i, i_id in enumerate(unique_ids):\n",
        "    \n",
        "    data_sub = data[data.id == i_id]\n",
        "    NaN_vectors[i, :] = np.sum(data_sub.isnull(),axis=0) / float(data_sub.shape[0])"
      ]
    },
    {
      "cell_type": "markdown",
      "metadata": {
        "_cell_guid": "617be107-268a-844c-46d2-bc4bbf740b9c"
      },
      "source": [
        "Now we have the relative number of NaNs for each label and id. The columns of this matrix correspond to the labels in the dataset and the rows correspond to the unique id's (i.e. shape = 1424x111).\n",
        "\n",
        "This is what the NaN vector looks like for the first id. Every entry gives the ratio of NaNs vs all recorded timestamps for that id (i.e. 0 means no NaNs for that label and 1 means that all recorded measurements are NaN)."
      ]
    },
    {
      "cell_type": "code",
      "execution_count": null,
      "metadata": {
        "_cell_guid": "0816eb3b-3028-4e04-509d-ef94992c68bd"
      },
      "outputs": [],
      "source": [
        "NaN_vectors[0, :]"
      ]
    },
    {
      "cell_type": "markdown",
      "metadata": {
        "_cell_guid": "f8da1944-f617-540e-7cca-45f23ae37c27"
      },
      "source": [
        "Next, we apply hierarchical clustering on this data (applied to rows not columns, i.e. we sort the id's and not the labels). The color scheme is now inverted! I.e. NaNs are dark and non-NaNs are bright."
      ]
    },
    {
      "cell_type": "code",
      "execution_count": null,
      "metadata": {
        "_cell_guid": "fd195983-e3e5-78a2-426a-3ddbf098505c"
      },
      "outputs": [],
      "source": [
        "import seaborn as sns\n",
        "g = sns.clustermap(NaN_vectors,col_cluster=False,method='average',metric='euclidean')"
      ]
    },
    {
      "cell_type": "markdown",
      "metadata": {
        "_cell_guid": "533ec7a6-4308-e356-38f3-9cc20477d7fb"
      },
      "source": [
        "Just by looking at the NaN patterns, there might be two or three groups of id's that are similar w.r.t their NaN structure."
      ]
    },
    {
      "cell_type": "markdown",
      "metadata": {
        "_cell_guid": "10f0dd0c-d79a-8d96-5fac-8459b65e0da8"
      },
      "source": [
        "## 3. Are There Any Gaps in Any Id Time Series?"
      ]
    },
    {
      "cell_type": "markdown",
      "metadata": {
        "_cell_guid": "7db65dea-186c-3ad6-80ed-9da124696382"
      },
      "source": [
        "**Short answer**: Yes there are!"
      ]
    },
    {
      "cell_type": "markdown",
      "metadata": {
        "_cell_guid": "60da9fb1-f072-a7cb-8e84-32909a950194"
      },
      "source": [
        "Let's see if we can find any gaps of measurements in the time series. Since the measurement frequency is the same across all id's (timestamp always +1) we can simply look for gaps by using the following formula:\n",
        "\n",
        "ratio = total_count_measurements / (timestamp_max - timestamp_min + 1)\n",
        "\n",
        "If there is no gap, we expect the ratio to be 1. If there is a gap, then it should be <1."
      ]
    },
    {
      "cell_type": "code",
      "execution_count": null,
      "metadata": {
        "_cell_guid": "4b171411-a421-85e9-fe7f-25f2a525bfb7"
      },
      "outputs": [],
      "source": [
        "unique_id = pd.unique(data.id)\n",
        "\n",
        "result = pd.DataFrame(np.zeros(shape=(len(unique_id),5)))\n",
        "\n",
        "for i, i_id in enumerate(unique_id):\n",
        "\n",
        "    data_sub = data[data.id == i_id]\n",
        "\n",
        "    count = data_sub.timestamp.count()\n",
        "\n",
        "    time_min = np.min(data_sub.timestamp)\n",
        "    time_max = np.max(data_sub.timestamp)\n",
        "\n",
        "    ratio = count / float(time_max - time_min + 1)\n",
        "    \n",
        "    result.loc[i, :] = [i_id, ratio, time_min, time_max, count]\n",
        "    result.columns = [\"id\", \"ratio\", \"time_min\", \"time_max\", \"count\"]"
      ]
    },
    {
      "cell_type": "code",
      "execution_count": null,
      "metadata": {
        "_cell_guid": "cc3bd224-1547-bd2b-3b62-e2a4649cbd5c"
      },
      "outputs": [],
      "source": [
        "print(pd.unique(np.round(result.ratio,2)))"
      ]
    },
    {
      "cell_type": "markdown",
      "metadata": {
        "_cell_guid": "8e0bafeb-cec8-38eb-2865-693f4aaffe2a"
      },
      "source": [
        "Interesting! There are indeed values <1! Let's have a closer look."
      ]
    },
    {
      "cell_type": "code",
      "execution_count": null,
      "metadata": {
        "_cell_guid": "13ccfc21-fd81-dfab-ede0-bae918e9e52c"
      },
      "outputs": [],
      "source": [
        "print(result[result.ratio < 0.99])"
      ]
    },
    {
      "cell_type": "code",
      "execution_count": null,
      "metadata": {
        "_cell_guid": "4e039e70-98a7-3268-ffce-0293d5e4d0de"
      },
      "outputs": [],
      "source": [
        "ids = result[result.ratio < 0.99].id\n",
        "ratios = result[result.ratio < 0.99].ratio\n",
        "\n",
        "for i, r in zip(ids,ratios):\n",
        "\n",
        "    data[data.id == i].plot(x = \"timestamp\", y = \"y\", kind = \"scatter\", \n",
        "                            title = \"ratio:\" + str(\"{0:.2f}\".format(r)) + \" id: \" + str(int(i)));"
      ]
    },
    {
      "cell_type": "markdown",
      "metadata": {
        "_cell_guid": "3908d84a-ab8e-e953-57b2-be6e9c4f40c0"
      },
      "source": [
        "We have found id's where gaps in the data exist. Not clear if these gaps are meaningful or actual measurement errors."
      ]
    },
    {
      "cell_type": "markdown",
      "metadata": {
        "_cell_guid": "3de827d2-92c9-12a4-4a87-97285dc3ccb0"
      },
      "source": [
        "Hope this is useful! :)"
      ]
    },
    {
      "cell_type": "code",
      "execution_count": null,
      "metadata": {
        "_cell_guid": "3078ab1e-edcf-c053-56b7-1b779e07e799"
      },
      "outputs": [],
      "source": [
        ""
      ]
    }
  ],
  "metadata": {
    "_change_revision": 0,
    "_is_fork": false,
    "kernelspec": {
      "display_name": "Python 3",
      "language": "python",
      "name": "python3"
    },
    "language_info": {
      "codemirror_mode": {
        "name": "ipython",
        "version": 3
      },
      "file_extension": ".py",
      "mimetype": "text/x-python",
      "name": "python",
      "nbconvert_exporter": "python",
      "pygments_lexer": "ipython3",
      "version": "3.5.2"
    }
  },
  "nbformat": 4,
  "nbformat_minor": 0
}