{
  "cells": [
    {
      "cell_type": "code",
      "execution_count": null,
      "metadata": {
        "_cell_guid": "d64af0c8-17e1-0947-870c-04eda43a9b64"
      },
      "outputs": [],
      "source": [
        "# Import all the necessary packages \n",
        "import kagglegym\n",
        "import numpy as np\n",
        "import pandas as pd\n",
        "from sklearn.ensemble import ExtraTreesRegressor\n",
        "from sklearn.linear_model import LinearRegression, Ridge\n",
        "import math\n",
        "import matplotlib.pyplot as plt\n",
        "\n",
        "%matplotlib inline\n",
        "# Read the full data set stored as HDF5 file\n",
        "full_df = pd.read_hdf('../input/train.h5')"
      ]
    },
    {
      "cell_type": "code",
      "execution_count": null,
      "metadata": {
        "_cell_guid": "4d001893-d3aa-ef96-8611-18c0b613eaaf"
      },
      "outputs": [],
      "source": [
        "from pylab import rcParams\n",
        "rcParams['figure.figsize'] = 10, 5\n",
        "rows = np.random.choice(full_df.id, 15)\n",
        "for key, grp in full_df[full_df.id.isin(rows)].groupby(['id']): \n",
        "    plt.plot(grp['timestamp'], np.cumsum(grp['y']), label = \"id {0:02d}\".format(key))\n",
        "plt.legend(loc='best')  \n",
        "plt.title('y distribution')\n",
        "plt.show()"
      ]
    },
    {
      "cell_type": "code",
      "execution_count": null,
      "metadata": {
        "_cell_guid": "d05199b1-612a-e4de-f057-effc66b9f98d"
      },
      "outputs": [],
      "source": [
        "feature=[col for col in full_df.columns if col not in ['id','timestamp']]"
      ]
    },
    {
      "cell_type": "code",
      "execution_count": null,
      "metadata": {
        "_cell_guid": "92f97e4e-12ba-9b4d-8744-b5ed7e709657"
      },
      "outputs": [],
      "source": [
        "rcParams['figure.figsize'] = 8, 5\n",
        "for col in feature:\n",
        "    rows = np.random.choice(full_df.id, 15)\n",
        "    for key, grp in full_df[full_df.id.isin(rows)].groupby(['id']): \n",
        "        plt.plot(grp['timestamp'], grp[col], label = \"id {0:02d}\".format(key))\n",
        "        plt.legend(loc='best')    \n",
        "        plt.title('features-'+col)\n",
        "    plt.show()"
      ]
    },
    {
      "cell_type": "code",
      "execution_count": null,
      "metadata": {
        "_cell_guid": "92b0c25f-69ee-a53a-7ec8-a039f61242f1"
      },
      "outputs": [],
      "source": ""
    }
  ],
  "metadata": {
    "_change_revision": 0,
    "_is_fork": false,
    "kernelspec": {
      "display_name": "Python 3",
      "language": "python",
      "name": "python3"
    },
    "language_info": {
      "codemirror_mode": {
        "name": "ipython",
        "version": 3
      },
      "file_extension": ".py",
      "mimetype": "text/x-python",
      "name": "python",
      "nbconvert_exporter": "python",
      "pygments_lexer": "ipython3",
      "version": "3.5.2"
    }
  },
  "nbformat": 4,
  "nbformat_minor": 0
}