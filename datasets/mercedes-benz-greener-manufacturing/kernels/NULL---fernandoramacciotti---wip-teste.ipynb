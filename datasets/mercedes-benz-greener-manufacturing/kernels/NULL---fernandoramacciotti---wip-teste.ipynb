{
  "cells": [
    {
      "cell_type": "code",
      "execution_count": null,
      "metadata": {
        "_cell_guid": "9dbc60fd-1963-49aa-360f-a92caa9b3ae2"
      },
      "outputs": [],
      "source": [
        "# This Python 3 environment comes with many helpful analytics libraries installed\n",
        "# It is defined by the kaggle/python docker image: https://github.com/kaggle/docker-python\n",
        "# For example, here's several helpful packages to load in \n",
        "\n",
        "import numpy as np # linear algebra\n",
        "import pandas as pd # data processing, CSV file I/O (e.g. pd.read_csv)\n",
        "import matplotlib.pyplot as plt\n",
        "\n",
        "# Input data files are available in the \"../input/\" directory.\n",
        "# For example, running this (by clicking run or pressing Shift+Enter) will list the files in the input directory\n",
        "\n",
        "from subprocess import check_output\n",
        "print(check_output([\"ls\", \"../input\"]).decode(\"utf8\"))\n",
        "\n",
        "# Any results you write to the current directory are saved as output."
      ]
    },
    {
      "cell_type": "code",
      "execution_count": null,
      "metadata": {
        "_cell_guid": "563233fe-7539-017c-3307-b4a16c8eefc6"
      },
      "outputs": [],
      "source": [
        "train = pd.read_csv('../input/train.csv')\n",
        "test_data = pd.read_csv('../input/test.csv')"
      ]
    },
    {
      "cell_type": "code",
      "execution_count": null,
      "metadata": {
        "_cell_guid": "1fc584d9-addf-c8e4-a4a9-eb777db8f453"
      },
      "outputs": [],
      "source": [
        "X = train.iloc[:, 2:]\n",
        "y = train.iloc[:, 1]\n",
        "test = test_data.iloc[:, 1:]\n",
        "\n",
        "# Encoding the Independent Variable\n",
        "from sklearn.preprocessing import LabelEncoder, OneHotEncoder\n",
        "\n",
        "labelencoder_X = LabelEncoder()\n",
        "for i in range(0, 8):\n",
        "    X.iloc[:, i] = labelencoder_X.fit_transform(X.iloc[:, i])\n",
        "    test.iloc[:, i] = labelencoder_X.fit_transform(test.iloc[:, i])\n",
        "\n"
      ]
    },
    {
      "cell_type": "code",
      "execution_count": null,
      "metadata": {
        "_cell_guid": "22d31ab9-8077-48cc-fdbb-774f35bb00c6"
      },
      "outputs": [],
      "source": [
        "from scipy.cluster.hierarchy import dendrogram, linkage\n",
        "Z = linkage(X, 'ward')\n",
        "Z_test = linkage(test, 'ward')"
      ]
    },
    {
      "cell_type": "code",
      "execution_count": null,
      "metadata": {
        "_cell_guid": "5c46677d-0953-b3af-7dd8-0467cd477a0e"
      },
      "outputs": [],
      "source": [
        "plt.title('Hierarchical Clustering Dendrogram (truncated)')\n",
        "plt.xlabel('sample index or (cluster size)')\n",
        "plt.ylabel('distance')\n",
        "dendrogram(\n",
        "    Z,\n",
        "    truncate_mode='lastp',  # show only the last p merged clusters\n",
        "    p=12,  # show only the last p merged clusters\n",
        "    leaf_rotation=90.,\n",
        "    leaf_font_size=12.,\n",
        "    show_contracted=True,  # to get a distribution impression in truncated branches\n",
        ")\n",
        "plt.show()"
      ]
    },
    {
      "cell_type": "code",
      "execution_count": null,
      "metadata": {
        "_cell_guid": "6f8dbc4f-615b-95ff-b8d7-0cd00491b159"
      },
      "outputs": [],
      "source": [
        "from scipy.cluster.hierarchy import fcluster\n",
        "max_d = 400\n",
        "clusters = fcluster(Z, max_d, criterion='distance')\n",
        "clusters_test = fcluster(Z_test, max_d, criterion = 'distance')"
      ]
    },
    {
      "cell_type": "code",
      "execution_count": null,
      "metadata": {
        "_cell_guid": "4b9cade1-382c-deda-68bc-d5da4b017a87"
      },
      "outputs": [],
      "source": [
        "cluster_df = pd.DataFrame(clusters.reshape(X.shape[0], 1))\n",
        "cluster_df.rename(columns = {0: \"cluster\"}, inplace = True)\n",
        "\n",
        "cluster_df_test = pd.DataFrame(clusters_test.reshape(test.shape[0], 1))\n",
        "cluster_df_test.rename(columns = {0: \"cluster\"}, inplace = True)"
      ]
    },
    {
      "cell_type": "code",
      "execution_count": null,
      "metadata": {
        "_cell_guid": "ab8d39e8-1874-a65f-3d3a-093edac8a64b"
      },
      "outputs": [],
      "source": [
        "X = pd.concat([X, cluster_df], axis = 1, join = 'inner', ignore_index = True)\n",
        "test = pd.concat([test, cluster_df_test], axis = 1, join = 'inner', ignore_index = True)"
      ]
    },
    {
      "cell_type": "code",
      "execution_count": null,
      "metadata": {
        "_cell_guid": "8e5de6ff-5348-9e8e-bf2d-275d7821b5e1"
      },
      "outputs": [],
      "source": [
        "from sklearn.model_selection import train_test_split\n",
        "X_train, X_test, y_train, y_test = train_test_split(X, y, test_size = 0.2, random_state = 0)\n",
        "\n",
        "from sklearn.ensemble import RandomForestRegressor\n",
        "\n",
        "regressor = RandomForestRegressor(n_estimators = 300, random_state = 42)\n",
        "regressor.fit(X_train, y_train)"
      ]
    },
    {
      "cell_type": "code",
      "execution_count": null,
      "metadata": {
        "_cell_guid": "e7618861-c74e-486f-46ab-00b1451280b7"
      },
      "outputs": [],
      "source": [
        "y_pred = regressor.predict(X_test)\n",
        "from sklearn.metrics import r2_score\n",
        "r2 = r2_score(y_true = y_test, y_pred = y_pred)\n",
        "r2"
      ]
    },
    {
      "cell_type": "code",
      "execution_count": null,
      "metadata": {
        "_cell_guid": "9d8fe02b-bb6e-c43a-97d5-c612cfc4cb41"
      },
      "outputs": [],
      "source": [
        "y_pred_test = regressor.predict(test)\n",
        "output = pd.DataFrame()\n",
        "output['ID'] = test_data['ID']\n",
        "output['y'] = y_pred_test\n",
        "output.to_csv('teste_20170605.csv', sep = ',', index = False)"
      ]
    }
  ],
  "metadata": {
    "_change_revision": 0,
    "_is_fork": false,
    "kernelspec": {
      "display_name": "Python 3",
      "language": "python",
      "name": "python3"
    },
    "language_info": {
      "codemirror_mode": {
        "name": "ipython",
        "version": 3
      },
      "file_extension": ".py",
      "mimetype": "text/x-python",
      "name": "python",
      "nbconvert_exporter": "python",
      "pygments_lexer": "ipython3",
      "version": "3.6.0"
    }
  },
  "nbformat": 4,
  "nbformat_minor": 0
}