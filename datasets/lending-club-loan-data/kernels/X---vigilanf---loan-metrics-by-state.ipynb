{
  "cells": [
    {
      "cell_type": "markdown",
      "metadata": {
        "_cell_guid": "786b5627-23b4-c15b-5f9b-8e5124c9cb95"
      },
      "source": [
        "<h1> A notebook to visualize loan data state by state. </h1>"
      ]
    },
    {
      "cell_type": "code",
      "execution_count": null,
      "metadata": {
        "_cell_guid": "add4ec30-ee6e-57db-4bdf-3f7c56a5e64d"
      },
      "outputs": [],
      "source": [
        "#https://plot.ly/python/choropleth-maps/\n",
        "import numpy as np\n",
        "import pandas as pd\n",
        "import itertools\n",
        "from sklearn import preprocessing\n",
        "import matplotlib.pyplot as plt \n",
        "df = pd.read_csv(\"../input/loan.csv\", low_memory=False)\n",
        "\n",
        "import plotly.plotly as py\n",
        "import plotly.graph_objs as go\n",
        "from plotly import tools\n",
        "from plotly.offline import download_plotlyjs, init_notebook_mode, plot, iplot\n",
        "init_notebook_mode(connected=True)\n",
        "#print (df.columns)"
      ]
    },
    {
      "cell_type": "markdown",
      "metadata": {
        "_cell_guid": "5c489f16-a0df-7205-696d-deba7b088c9a"
      },
      "source": [
        "<h1> Cell for processing data for Plotly output </h1>"
      ]
    },
    {
      "cell_type": "code",
      "execution_count": null,
      "metadata": {
        "_cell_guid": "4d72b5a8-be3a-dfac-2e64-702f779cfcdb"
      },
      "outputs": [],
      "source": [
        "State_List = []\n",
        "for x in df['addr_state']:\n",
        "    if x not in State_List:\n",
        "        State_List.append(x)\n",
        "\n",
        "Loan_Amount = []\n",
        "Average_Balance = []\n",
        "Default_Rate = []\n",
        "Weighted_Rate = []\n",
        "Average_Income = []\n",
        "Average_Employment_Length = []\n",
        "Average_DTI = []\n",
        "Average_Inq_12 = []\n",
        "Average_Inq_6 = []\n",
        "\n",
        "for x in State_List:\n",
        "    new_df = df[df['addr_state'] == x]\n",
        "    \n",
        "    Loan_Sum = sum(new_df['funded_amnt'])\n",
        "    Loan_Amount.append(Loan_Sum)\n",
        "    \n",
        "    Average_Balance.append(Loan_Sum/len(new_df['funded_amnt']))\n",
        "    \n",
        "    Defaults = []\n",
        "    for value in new_df.loan_status:\n",
        "        if value == 'Default':\n",
        "            Defaults.append(1)\n",
        "        if value == 'Charged Off':\n",
        "            Defaults.append(1)\n",
        "        if value == 'Late (31-120 days)':\n",
        "            Defaults.append(1)   \n",
        "        if value == 'Late (16-30 days)':\n",
        "            Defaults.append(1)\n",
        "        if value == 'Does not meet the credit policy. Status:Charged Off':\n",
        "            Defaults.append(1) \n",
        "    Default_R = len(Defaults) / len(new_df.loan_status)  \n",
        "    Default_Rate.append(Default_R)\n",
        "    \n",
        "    new_df['weighted'] = (new_df['int_rate']/100)*new_df['funded_amnt']\n",
        "    Weighted_Sum = sum(new_df['weighted'])\n",
        "    Weighted_i_rate = Weighted_Sum / Loan_Sum\n",
        "    Weighted_Rate.append(Weighted_i_rate)\n",
        "    \n",
        "    Income_Average = np.mean(new_df['annual_inc'])\n",
        "    Average_Income.append(Income_Average)\n",
        "    \n",
        "\n",
        "    Employ_Length = []\n",
        "    for term in new_df.emp_length:\n",
        "        if term == '10+ years':\n",
        "            Employ_Length.append(10)\n",
        "        if term == '< 1 year':\n",
        "            Employ_Length.append(0.5)    \n",
        "        if term == '1 year':\n",
        "            Employ_Length.append(1)\n",
        "        if term == '3 years':\n",
        "            Employ_Length.append(3)\n",
        "        if term == '8 years':\n",
        "            Employ_Length.append(8)\n",
        "        if term == '9 years':\n",
        "            Employ_Length.append(9)    \n",
        "        if term == '4 years':\n",
        "            Employ_Length.append(4)\n",
        "        if term == '5 years':\n",
        "            Employ_Length.append(5)\n",
        "        if term == '6 years':\n",
        "            Employ_Length.append(6)\n",
        "        if term == '2 years':\n",
        "            Employ_Length.append(2)    \n",
        "        if term == '7 years':\n",
        "            Employ_Length.append(7)\n",
        "        if term == 'n/a':\n",
        "            Employ_Length.append(0)  \n",
        "            \n",
        "    Average_Employment_Length.append(np.mean(Employ_Length))        \n",
        "    \n",
        "    DTI_Average = np.mean(new_df['dti'])\n",
        "    Average_DTI.append(DTI_Average)\n",
        "    \n",
        "    inquiry_average = np.mean(new_df['inq_last_12m'])\n",
        "    Average_Inq_12.append(inquiry_average)\n",
        "    \n",
        "    inquiry_average_6 = np.mean(new_df['inq_last_6mths'])\n",
        "    Average_Inq_6.append(inquiry_average_6)\n",
        "    \n",
        "from collections import OrderedDict\n",
        "combine_data = OrderedDict([ ('Loan_Funding',Loan_Amount),\n",
        "                         ('Average_Balance', Average_Balance),\n",
        "                         ('Default_Rate',  Default_Rate),\n",
        "                         ('Weighted_Rate', Weighted_Rate),\n",
        "                         ('Average_Income', Average_Income),\n",
        "                         ('Average_Employment_Length', Average_Employment_Length),\n",
        "                         ('Average_DTI', DTI_Average),\n",
        "                         ('12m_Inquiries', Average_Inq_12),\n",
        "                         ('6m_Inquiries', Average_Inq_6),   \n",
        "                         ('code', State_List)])\n",
        "\n",
        "df_plot = pd.DataFrame.from_dict(combine_data)\n",
        "df_plot = df_plot.round(decimals=2)\n",
        "df_plot.head()"
      ]
    },
    {
      "cell_type": "code",
      "execution_count": null,
      "metadata": {
        "_cell_guid": "31178bb2-6a81-c71a-24f0-4565a3214ef8"
      },
      "outputs": [],
      "source": [
        "for col in df_plot.columns:\n",
        "    df_plot[col] = df_plot[col].astype(str)\n",
        "\n",
        "    scl = [[0.0, 'rgb(242,240,247)'],[0.2, 'rgb(218,218,235)'],[0.4, 'rgb(188,189,220)'],\\\n",
        "            [0.6, 'rgb(158,154,200)'],[0.8, 'rgb(117,107,177)'],[1.0, 'rgb(84,39,143)']]\n",
        "\n",
        "df_plot['text'] = df_plot['code'] + '<br>' +\\\n",
        "    'Avg Balance Per Borrower ($ USD): '+df_plot['Average_Balance']+'<br>'+\\\n",
        "    'Avg Employment Term Per Borrower (Years): '+df_plot['Average_Employment_Length']+'<br>'+\\\n",
        "    'Avg Annual Income Per Borrower ($ USD): '+df_plot['Average_Income']\n",
        "    \n",
        "\n",
        "data = [ dict(\n",
        "        type='choropleth',\n",
        "        colorscale = scl,\n",
        "        autocolorscale = False,\n",
        "        locations = df_plot['code'],\n",
        "        z = df_plot['Loan_Funding'], \n",
        "        locationmode = 'USA-states',\n",
        "        text = df_plot['text'],\n",
        "        marker = dict(\n",
        "            line = dict (\n",
        "                color = 'rgb(255,255,255)',\n",
        "                width = 2\n",
        "            ) ),\n",
        "        colorbar = dict(\n",
        "            title = \"$s USD\")\n",
        "        ) ]\n",
        "\n",
        "layout = dict(\n",
        "        title = 'Lending Club Portfolio<br> Total Funded By State <br> (Hover over state for other metrics)',\n",
        "        geo = dict(\n",
        "            scope='usa',\n",
        "            projection=dict( type='albers usa' ),\n",
        "            showlakes = True,\n",
        "            lakecolor = 'rgb(255, 255, 255)'),\n",
        "             )\n",
        "    \n",
        "fig = dict( data=data, layout=layout )\n",
        "iplot( fig, filename='d3-cloropleth-map' )"
      ]
    },
    {
      "cell_type": "code",
      "execution_count": null,
      "metadata": {
        "_cell_guid": "d7d1476e-92f7-af5c-61b9-71dea4cfc9c7"
      },
      "outputs": [],
      "source": [
        "# from the tutorial, leaving in just for now\n",
        "for col in df_plot.columns:\n",
        "    df_plot[col] = df_plot[col].astype(str)\n",
        "\n",
        "    scl = [[0.0, 'rgb(242,240,247)'],[0.2, 'rgb(218,218,235)'],[0.4, 'rgb(188,189,220)'],\\\n",
        "            [0.6, 'rgb(158,154,200)'],[0.8, 'rgb(117,107,177)'],[1.0, 'rgb(84,39,143)']]\n",
        "\n",
        "df_plot['text'] = df_plot['code'] + '<br>' +\\\n",
        "    '<br>'+'Weighted Rate: '+df_plot['Weighted_Rate']+'<br>'+\\\n",
        "    'Inquiries Last 12m: '+df_plot['12m_Inquiries']+'<br>'+\\\n",
        "    'Inquiries Last 6m: '+df_plot['6m_Inquiries']\n",
        "\n",
        "data = [ dict(\n",
        "        type='choropleth',\n",
        "        colorscale = scl,\n",
        "        autocolorscale = True,\n",
        "        locations = df_plot['code'],\n",
        "        z = df_plot['Default_Rate'], #.astype(int),\n",
        "        locationmode = 'USA-states',\n",
        "        text = df_plot['text'],\n",
        "        marker = dict(\n",
        "            line = dict (\n",
        "                color = 'rgb(255,255,255)',\n",
        "                width = 2\n",
        "            ) ),\n",
        "        colorbar = dict(\n",
        "            title = \"%\")\n",
        "        ) ]\n",
        "\n",
        "layout = dict(\n",
        "        title = 'Lending Club Portfolio<br> Default Rate By State <br> (Hover over state for other metrics)',\n",
        "        geo = dict(\n",
        "            scope='usa',\n",
        "            projection=dict( type='albers usa' ),\n",
        "            showlakes = True,\n",
        "            lakecolor = 'rgb(255, 255, 255)'),\n",
        "             )\n",
        "    \n",
        "fig = dict( data=data, layout=layout )\n",
        "iplot( fig, filename='d3-cloropleth-map' )"
      ]
    },
    {
      "cell_type": "markdown",
      "metadata": {
        "_cell_guid": "d6905d45-fca4-7dd2-8f66-d3a6a4aa9dc1"
      },
      "source": [
        "<h1> Create A Bar Chart For Default Rate Based on Count of 6 Month Inquiries </h1>"
      ]
    },
    {
      "cell_type": "code",
      "execution_count": null,
      "metadata": {
        "_cell_guid": "684ba611-3e65-0103-3e7b-7eb12ebebe10"
      },
      "outputs": [],
      "source": [
        "#df = pd.read_csv(\"../input/loan.csv\", low_memory=False)\n",
        "#print (df.columns)\n",
        "print (\"Length of All Data:\",len(df.loan_status)) # get total length of data\n",
        "print (\"Nans in Loan Status Column:\",df.loan_status.isnull().sum()) # get nans in loan status column\n",
        "print (\"Nans in 12mth inquiry column:\",df.inq_last_12m.isnull().sum()) # get nans in inquiry 12 month column\n",
        "print (\"Nans in 6mth inquiry column:\",df.inq_last_6mths.isnull().sum()) # get nans in inquiry 6 month column\n",
        "print (\"Nans in last credit date columns:\",df.last_credit_pull_d.isnull().sum()) # get nans in last credit pull date column\n",
        "print (\"First data point in last credit pulled column:\",df.last_credit_pull_d.iloc[0])\n",
        "print (\"First data point in 6mth inquiry column:\",df.inq_last_6mths.iloc[0])\n",
        "print (\"First data point in issue_d  column:\",df.issue_d.iloc[0]) # no good, all dec 2011\n",
        "print (\"First data point in 12 mth collection column:\",df.collections_12_mths_ex_med.iloc[0])\n",
        "print (np.mean(df.collections_12_mths_ex_med))\n",
        "cols_to_keep = ['loan_status','inq_last_6mths','collections_12_mths_ex_med']\n",
        "new_df = df[cols_to_keep]\n",
        "new_df.head()"
      ]
    },
    {
      "cell_type": "code",
      "execution_count": null,
      "metadata": {
        "_cell_guid": "50cd2123-b8a4-f6d5-4ddb-f26a22845c87"
      },
      "outputs": [],
      "source": [
        "print (len(new_df.loan_status))\n",
        "print (new_df.loan_status.isnull().sum())\n",
        "print (new_df.inq_last_6mths.isnull().sum())\n",
        "print (new_df.collections_12_mths_ex_med.isnull().sum())\n",
        "new_df = new_df.dropna(axis=0)\n",
        "print (len(new_df.loan_status))"
      ]
    },
    {
      "cell_type": "code",
      "execution_count": null,
      "metadata": {
        "_cell_guid": "f6d78fb8-bf1e-bcd8-7b4c-72505d3c0255"
      },
      "outputs": [],
      "source": [
        "new_df['default_binary'] = 0 # dummy columns\n",
        "for index,row in new_df.iterrows():\n",
        "        if row['loan_status'] == 'Default':\n",
        "            new_df.set_value(index, 'default_binary', 1)\n",
        "        if row['loan_status'] == 'Charged Off':\n",
        "            new_df.set_value(index, 'default_binary', 1)\n",
        "        if row['loan_status'] == 'Late (31-120 days)':\n",
        "            new_df.set_value(index, 'default_binary', 1)  \n",
        "        if row['loan_status'] == 'Late (16-30 days)':\n",
        "            new_df.set_value(index, 'default_binary', 1)\n",
        "        if row['loan_status'] == 'Does not meet the credit policy. Status:Charged Off':\n",
        "            new_df.set_value(index, 'default_binary', 1)\n",
        "new_df.head()           "
      ]
    },
    {
      "cell_type": "code",
      "execution_count": null,
      "metadata": {
        "_cell_guid": "f3572329-6e81-6242-576a-930bd7d250c7"
      },
      "outputs": [],
      "source": [
        "inquiry = []\n",
        "for x in new_df.inq_last_6mths:\n",
        "    if x not in inquiry:\n",
        "        if x <= 10.0:\n",
        "            inquiry.append(x)\n",
        "        \n",
        "inquiry.sort()\n",
        "\n",
        "the_dict = {}        \n",
        "for x in inquiry:\n",
        "    dfn = new_df[new_df.inq_last_6mths == x]\n",
        "    #print (len(dfn.default_binary))\n",
        "    dfn_d = dfn[dfn.default_binary == 1]\n",
        "    the_dict[x] = len(dfn_d.default_binary) / len(dfn.default_binary)\n",
        "print (the_dict)    "
      ]
    },
    {
      "cell_type": "code",
      "execution_count": null,
      "metadata": {
        "_cell_guid": "0eee2cbe-158a-3afd-238d-71a2414de347"
      },
      "outputs": [],
      "source": [
        "# combine all inquiries greater than 10\n",
        "dfn = new_df[new_df.inq_last_6mths >= 10]\n",
        "dfn_d = dfn[dfn.default_binary == 1]\n",
        "the_dict[10.0] = len(dfn_d.default_binary) / len(dfn.default_binary)\n",
        "#the_dict.pop(30.0)# popped out a bunch of data points higher than 10\n",
        "print (the_dict)"
      ]
    },
    {
      "cell_type": "code",
      "execution_count": null,
      "metadata": {
        "_cell_guid": "b0908c7e-7487-40d4-71fa-40b20da66ffd"
      },
      "outputs": [],
      "source": [
        "plt.bar(range(len(the_dict)), the_dict.values(), align='center')\n",
        "plt.xticks(range(len(the_dict)), the_dict.keys())\n",
        "plt.title(\"Default Rate Based on Count of Inquiries in Last 6mths\")\n",
        "plt.xlabel(\"Count of Inquiries in Last 6 Months\")\n",
        "plt.ylabel(\"Default Rate\")\n",
        "plt.show()"
      ]
    }
  ],
  "metadata": {
    "_change_revision": 0,
    "_is_fork": false,
    "kernelspec": {
      "display_name": "Python 3",
      "language": "python",
      "name": "python3"
    },
    "language_info": {
      "codemirror_mode": {
        "name": "ipython",
        "version": 3
      },
      "file_extension": ".py",
      "mimetype": "text/x-python",
      "name": "python",
      "nbconvert_exporter": "python",
      "pygments_lexer": "ipython3",
      "version": "3.6.0"
    }
  },
  "nbformat": 4,
  "nbformat_minor": 0
}