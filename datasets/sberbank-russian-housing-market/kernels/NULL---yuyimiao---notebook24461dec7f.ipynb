{
  "cells": [
    {
      "cell_type": "code",
      "execution_count": null,
      "metadata": {
        "_cell_guid": "9b6feb18-5f31-8938-3981-ab6b66e9e346"
      },
      "outputs": [],
      "source": [
        "import numpy as np\n",
        "import pandas as pd\n",
        "import matplotlib.pyplot as plt\n",
        "import seaborn as sns\n",
        "from sklearn import model_selection, preprocessing\n",
        "import xgboost as xgb\n",
        "import datetime\n",
        "\n",
        "#load files\n",
        "train = pd.read_csv('../input/train.csv', parse_dates=['timestamp'])\n",
        "test = pd.read_csv('../input/test.csv', parse_dates=['timestamp'])\n",
        "macro = pd.read_csv('../input/macro.csv', parse_dates=['timestamp'])\n",
        "id_test = test.id"
      ]
    },
    {
      "cell_type": "code",
      "execution_count": null,
      "metadata": {
        "_cell_guid": "0f76aa16-7563-4ba6-da11-95c6dbbef9fa"
      },
      "outputs": [],
      "source": [
        "Q1 = np.percentile(np.log1p(train.price_doc.values), 25)\n",
        "Q2 = np.percentile(np.log1p(train.price_doc.values), 50)\n",
        "Q3 = np.percentile(np.log1p(train.price_doc.values), 75)\n",
        "IQR=Q3-Q1\n",
        "infbdd=Q1-1.5 * IQR \n",
        "supbdd=Q3+1.5 * IQR \n",
        "train['price_doc'].ix[train['price_doc']>int(2.5*np.exp(supbdd))] = int(2.5*np.exp(supbdd))\n",
        "train['price_doc'].ix[train['price_doc']<int(np.exp(13.5))] = int(np.exp(13.5))"
      ]
    },
    {
      "cell_type": "code",
      "execution_count": null,
      "metadata": {
        "_cell_guid": "e60339f5-21fb-c07d-172d-1b06ad5eaac6"
      },
      "outputs": [],
      "source": [
        "equal_index = [601,1896,2791]\n",
        "test.ix[equal_index, \"life_sq\"] = test.ix[equal_index, \"full_sq\"]"
      ]
    },
    {
      "cell_type": "code",
      "execution_count": null,
      "metadata": {
        "_cell_guid": "cb8aaa8a-e433-6eea-1115-5179db16e768"
      },
      "outputs": [],
      "source": [
        "bad_index = train[train.life_sq < 5].index\n",
        "train.ix[bad_index, \"life_sq\"] = np.NaN\n",
        "bad_index = test[test.life_sq < 5].index\n",
        "test.ix[bad_index, \"life_sq\"] = np.NaN\n",
        "bad_index = train[train.full_sq < 5].index\n",
        "train.ix[bad_index, \"full_sq\"] = np.NaN\n",
        "bad_index = test[test.full_sq < 5].index\n",
        "test.ix[bad_index, \"full_sq\"] = np.NaN"
      ]
    },
    {
      "cell_type": "code",
      "execution_count": null,
      "metadata": {
        "_cell_guid": "9a3b81d7-e1a4-4623-6a73-0c74d39a0354"
      },
      "outputs": [],
      "source": [
        "bad_index = test[test.life_sq > test.full_sq]\n",
        "bad_index\n"
      ]
    },
    {
      "cell_type": "code",
      "execution_count": null,
      "metadata": {
        "_cell_guid": "a406bae3-3994-3bc4-7ac9-6f9fcbab3e6e"
      },
      "outputs": [],
      "source": [
        "exchange_index=[64,119,171]\n",
        "life_bad_index=[2027, 2031, 5187]\n",
        "full_bad_index=[2804]\n",
        "test.ix[life_bad_index, \"life_sq\"] = np.NaN\n",
        "test.ix[full_bad_index, \"full_sq\"] = np.NaN\n",
        "for cat in exchange_index:\n",
        "    dog=test.ix[cat, \"life_sq\"]\n",
        "    test.ix[cat, \"life_sq\"] = test.ix[cat, \"full_sq\"]\n",
        "    test.ix[cat, \"full_sq\"]=dog\n",
        "    "
      ]
    },
    {
      "cell_type": "code",
      "execution_count": null,
      "metadata": {
        "_cell_guid": "dba0bb14-da28-4fd0-d248-e724515bdea8"
      },
      "outputs": [],
      "source": [
        "test.ix[exchange_index]"
      ]
    },
    {
      "cell_type": "code",
      "execution_count": null,
      "metadata": {
        "_cell_guid": "f920cc07-49f9-52c8-2bb7-903310b253c0"
      },
      "outputs": [],
      "source": [
        "print(np.nanpercentile(np.log1p(train.price_doc.values)/np.log1p(train.full_sq.values), 99.9))\n",
        "print(np.nanpercentile(np.log1p(train.price_doc.values)/np.log1p(train.full_sq.values), 0.1))\n",
        "print(np.nanpercentile(np.log1p(train.price_doc.values)/np.log1p(train.life_sq.values), 99.9))\n",
        "print(np.nanpercentile(np.log1p(train.price_doc.values)/np.log1p(train.life_sq.values), 0.1))\n",
        "print(np.nanpercentile(train.life_sq.values/train.full_sq.values, 0.1))\n",
        "print(np.nanpercentile(test.life_sq.values/test.full_sq.values, 0.1))"
      ]
    },
    {
      "cell_type": "code",
      "execution_count": null,
      "metadata": {
        "_cell_guid": "0174d4a1-2994-3b91-9abf-81f2b0ae9059"
      },
      "outputs": [],
      "source": [
        "#life_bad_index=train[(train.life_sq > train.full_sq) & ((np.log1p(train.price_doc.values)/np.log1p(train.full_sq.values))>3)&((np.log1p(train.price_doc.values)/np.log1p(train.full_sq.values))<5.25)].index\n",
        "#train.ix[life_bad_index, \"life_sq\"] = np.NaN\n",
        "#full_bad_index=train[(train.life_sq > train.full_sq)&((np.log1p(train.price_doc.values)/np.log1p(train.life_sq.values))>3.12)&((np.log1p(train.price_doc.values)/np.log1p(train.life_sq.values))<6.46)].index\n",
        "#train.ix[full_bad_index, \"full_sq\"] = np.NaN\n",
        "bad_index = train[train.life_sq > train.full_sq].index\n",
        "train.ix[life_bad_index, \"life_sq\"] = np.NaN"
      ]
    },
    {
      "cell_type": "code",
      "execution_count": null,
      "metadata": {
        "_cell_guid": "14a680d2-4d64-c09f-00d2-f68bf5725ccb"
      },
      "outputs": [],
      "source": [
        "#life_bad_index=train[(train.life_sq / train.full_sq<0.3) & ((np.log1p(train.price_doc.values)/np.log1p(train.full_sq.values))>3)&((np.log1p(train.price_doc.values)/np.log1p(train.full_sq.values))<5.25)].index\n",
        "#train.ix[life_bad_index, \"life_sq\"] = np.NaN\n",
        "#full_bad_index=train[(train.life_sq / train.full_sq<0.3)&((np.log1p(train.price_doc.values)/np.log1p(train.life_sq.values))>3.12)&((np.log1p(train.price_doc.values)/np.log1p(train.life_sq.values))<6.46)].index\n",
        "#train.ix[full_bad_index, \"full_sq\"] = np.NaN\n",
        "bad_index = train[(train.life_sq / train.full_sq)<0.3].index\n",
        "train.ix[life_bad_index, \"life_sq\"] = np.NaN"
      ]
    },
    {
      "cell_type": "code",
      "execution_count": null,
      "metadata": {
        "_cell_guid": "6ee12914-b797-bbf2-e135-c2b11fd76987"
      },
      "outputs": [],
      "source": [
        "bad_index = test[(test.life_sq / test.full_sq)<0.27]\n",
        "bad_index"
      ]
    },
    {
      "cell_type": "code",
      "execution_count": null,
      "metadata": {
        "_cell_guid": "64c3352e-66ee-3d8d-3514-d735c9292d43"
      },
      "outputs": [],
      "source": [
        "bad=train[((np.log1p(train.price_doc.values)/np.log1p(train.life_sq.values))<3.13)]\n",
        "bad"
      ]
    },
    {
      "cell_type": "code",
      "execution_count": null,
      "metadata": {
        "_cell_guid": "5071d59f-5ff5-4983-b847-ca3e7c7a7b78"
      },
      "outputs": [],
      "source": [
        "train=train[((np.log1p(train.price_doc.values)/np.log1p(train.life_sq.values))>3.13)]\n"
      ]
    },
    {
      "cell_type": "code",
      "execution_count": null,
      "metadata": {
        "_cell_guid": "6f82ad4b-8b75-8d6f-b000-21546600b261"
      },
      "outputs": [],
      "source": [
        "train=train[((np.log1p(train.price_doc.values)/np.log1p(train.life_sq.values)) <6.35)]\n"
      ]
    },
    {
      "cell_type": "code",
      "execution_count": null,
      "metadata": {
        "_cell_guid": "8d256481-17dc-b2fc-1464-e2e3956e2eed"
      },
      "outputs": [],
      "source": [
        "plt.figure(figsize=(12,12))\n",
        "sns.jointplot(x=np.log1p(train.life_sq.values), y=np.log1p(train.price_doc.values), size=10,kind=\"hex\")\n",
        "plt.ylabel('Log of Price', fontsize=12)\n",
        "plt.xlabel('Log of living area in square metre', fontsize=12)\n",
        "plt.show()"
      ]
    },
    {
      "cell_type": "code",
      "execution_count": null,
      "metadata": {
        "_cell_guid": "04f1f572-f96d-5069-0915-6c8b9d702ce2"
      },
      "outputs": [],
      "source": [
        "bad=train[train.full_sq==0]\n",
        "bad"
      ]
    },
    {
      "cell_type": "code",
      "execution_count": null,
      "metadata": {
        "_cell_guid": "370d5840-a78b-364f-8350-d445424fbd38"
      },
      "outputs": [],
      "source": [
        "bad_index = train[train.life_sq > 300]\n",
        "bad_index"
      ]
    },
    {
      "cell_type": "code",
      "execution_count": null,
      "metadata": {
        "_cell_guid": "fd480e1e-d448-2091-8d47-f287e9eb0bf6"
      },
      "outputs": [],
      "source": [
        "bad_index = test[test.life_sq > 200]\n",
        "bad_index\n",
        "#test.ix[bad_index, [\"life_sq\", \"full_sq\"]] = np.NaN"
      ]
    },
    {
      "cell_type": "code",
      "execution_count": null,
      "metadata": {
        "_cell_guid": "8634efa7-00e7-1fc9-a3cc-5c4e21317059"
      },
      "outputs": [],
      "source": [
        "bad=test[test.floor<60]\n",
        "bad"
      ]
    },
    {
      "cell_type": "code",
      "execution_count": null,
      "metadata": {
        "_cell_guid": "c4a71f49-864d-f1d8-89d3-63d8c36d4bc9"
      },
      "outputs": [],
      "source": [
        "bad_index = test[test.floor > test.max_floor].index\n",
        "bad"
      ]
    },
    {
      "cell_type": "code",
      "execution_count": null,
      "metadata": {
        "_cell_guid": "0d0b831e-9fc5-6538-86ce-f30d9b8ddd28"
      },
      "outputs": [],
      "source": [
        "test.max_floor.describe(percentiles= [0.9999])"
      ]
    },
    {
      "cell_type": "code",
      "execution_count": null,
      "metadata": {
        "_cell_guid": "60bf6932-934b-29b7-3c67-1a5cad04c7e7"
      },
      "outputs": [],
      "source": [
        "\n",
        "bad_index = train[train.floor == 0].index\n",
        "train.ix[bad_index, \"floor\"] = np.NaN\n",
        "bad_index = train[train.max_floor == 0].index\n",
        "train.ix[bad_index, \"max_floor\"] = np.NaN\n",
        "bad_index = train[(train.floor == 0).values * (train.max_floor == 0).values]\n",
        "bad_index"
      ]
    },
    {
      "cell_type": "code",
      "execution_count": null,
      "metadata": {
        "_cell_guid": "ea9e826d-82ee-433e-b457-5d6c93ab3646"
      },
      "outputs": [],
      "source": [
        "bad_index = test[test.max_floor==0]\n",
        "bad_index"
      ]
    },
    {
      "cell_type": "code",
      "execution_count": null,
      "metadata": {
        "_cell_guid": "964b8c30-dba7-d5a9-915c-638aecd47e0e"
      },
      "outputs": [],
      "source": ""
    }
  ],
  "metadata": {
    "_change_revision": 0,
    "_is_fork": false,
    "kernelspec": {
      "display_name": "Python 3",
      "language": "python",
      "name": "python3"
    },
    "language_info": {
      "codemirror_mode": {
        "name": "ipython",
        "version": 3
      },
      "file_extension": ".py",
      "mimetype": "text/x-python",
      "name": "python",
      "nbconvert_exporter": "python",
      "pygments_lexer": "ipython3",
      "version": "3.6.0"
    }
  },
  "nbformat": 4,
  "nbformat_minor": 0
}