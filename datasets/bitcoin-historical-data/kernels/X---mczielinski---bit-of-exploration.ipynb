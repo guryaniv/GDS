{
  "cells": [
    {
      "cell_type": "code",
      "execution_count": null,
      "metadata": {
        "_cell_guid": "b2a44481-4c6a-0118-3ea5-010a2ef4986a"
      },
      "outputs": [],
      "source": [
        "# This Python 3 environment comes with many helpful analytics libraries installed\n",
        "# It is defined by the kaggle/python docker image: https://github.com/kaggle/docker-python\n",
        "# For example, here's several helpful packages to load in \n",
        "\n",
        "import numpy as np # linear algebra\n",
        "import pandas as pd # data processing, CSV file I/O (e.g. pd.read_csv)\n",
        "import matplotlib.pyplot as plt\n",
        "plt.style.use('ggplot')\n",
        "\n",
        "# Input data files are available in the \"../input/\" directory.\n",
        "# For example, running this (by clicking run or pressing Shift+Enter) will list the files in the input directory\n",
        "\n",
        "from subprocess import check_output\n",
        "print(check_output([\"ls\", \"../input\"]).decode(\"utf8\"))\n",
        "\n",
        "# Any results you write to the current directory are saved as output."
      ]
    },
    {
      "cell_type": "code",
      "execution_count": null,
      "metadata": {
        "_cell_guid": "95c58d1c-0be5-e380-9d6f-cf8a50426c13"
      },
      "outputs": [],
      "source": [
        "pd.read_csv(\"../input/bitstampUSD_1-min_data_2012-01-01_to_2017-05-31.csv\")"
      ]
    },
    {
      "cell_type": "code",
      "execution_count": null,
      "metadata": {
        "_cell_guid": "7ffcbe9b-8ac0-19f1-24f6-fa8b4e1bae42"
      },
      "outputs": [],
      "source": [
        "data1=pd.read_csv(\"../input/bitstampUSD_1-min_data_2012-01-01_to_2017-05-31.csv\")\n",
        "data2=pd.read_csv(\"../input/coinbaseUSD_1-min_data_2014-12-01_to_2017-05-31.csv\")\n",
        "data3=pd.read_csv(\"../input/btceUSD_1-min_data_2012-01-01_to_2017-05-31.csv\")"
      ]
    },
    {
      "cell_type": "code",
      "execution_count": null,
      "metadata": {
        "_cell_guid": "3feec69c-3768-a820-f57b-d8ba6da06b85"
      },
      "outputs": [],
      "source": [
        "print(\"Bitstamp data shape : \", data1.shape)\n",
        "print(\"Coinbase data shape : \", data2.shape)\n",
        "print(\"BTCe data shape : \", data3.shape)"
      ]
    },
    {
      "cell_type": "code",
      "execution_count": null,
      "metadata": {
        "_cell_guid": "547ca138-98b7-5ec9-bf23-382b8f672db2"
      },
      "outputs": [],
      "source": [
        "range1=(min(data1.loc[:,\"Timestamp\"]),max(data1.loc[:,\"Timestamp\"]))\n",
        "range2=(min(data2.loc[:,\"Timestamp\"]),max(data2.loc[:,\"Timestamp\"]))\n",
        "\n",
        "f, (ax1, ax2, ax3) = plt.subplots(1, 3)\n",
        "ax1.semilogy(data1.loc[:,\"Timestamp\"],data1.loc[:,\"Weighted Price\"], color='r')\n",
        "ax1.set_title('Bitstamp'); ax1.set_xlabel('time'); ax1.set_ylabel('price (USD)')\n",
        "ax1.set_xlim([range1[0], range1[1]])\n",
        "\n",
        "ax2.semilogy(data2.loc[:,\"Timestamp\"],data2.loc[:,\"Weighted Price\"], color='b')\n",
        "ax2.set_title('Coinbase'); ax2.set_xlabel('time'); \n",
        "ax2.set_xlim([range1[0], range1[1]])\n",
        "\n",
        "ax3.semilogy(data3.loc[:,\"Timestamp\"],data3.loc[:,\"Weighted Price\"], color='g')\n",
        "ax3.set_title('BTCe'); ax3.set_xlabel('time'); \n",
        "ax3.set_xlim([range1[0], range1[1]])\n",
        "\n"
      ]
    }
  ],
  "metadata": {
    "_change_revision": 0,
    "_is_fork": false,
    "kernelspec": {
      "display_name": "Python 3",
      "language": "python",
      "name": "python3"
    },
    "language_info": {
      "codemirror_mode": {
        "name": "ipython",
        "version": 3
      },
      "file_extension": ".py",
      "mimetype": "text/x-python",
      "name": "python",
      "nbconvert_exporter": "python",
      "pygments_lexer": "ipython3",
      "version": "3.6.0"
    }
  },
  "nbformat": 4,
  "nbformat_minor": 0
}