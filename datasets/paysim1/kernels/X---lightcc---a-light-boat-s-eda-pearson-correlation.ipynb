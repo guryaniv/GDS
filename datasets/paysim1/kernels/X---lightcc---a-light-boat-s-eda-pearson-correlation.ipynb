{
  "cells": [
    {
      "cell_type": "markdown",
      "metadata": {
        "_cell_guid": "33569ed4-1595-350d-db2e-c0d4b9875d2b"
      },
      "source": [
        "\u63a2\u7d22\u5404\u53d8\u91cf\u7684Pearson Correlation\u3002"
      ]
    },
    {
      "cell_type": "code",
      "execution_count": null,
      "metadata": {
        "_cell_guid": "cc6aa7e1-7e45-13a1-4c05-442e168c817e"
      },
      "outputs": [],
      "source": [
        "import pandas as pd\n",
        "import numpy as np\n",
        "import seaborn as sns\n",
        "import matplotlib.pyplot as plt\n",
        "%matplotlib inline\n",
        "import plotly.offline as py\n",
        "py.init_notebook_mode(connected=True)\n",
        "import plotly.graph_objs as go\n",
        "import plotly.tools as tls\n",
        "import warnings\n",
        "warnings.filterwarnings('ignore')\n",
        "\n",
        "# subsample\n",
        "df = pd.read_csv(\"../input/PS_20174392719_1491204439457_log.csv\")#, nrows=int(1e6))"
      ]
    },
    {
      "cell_type": "code",
      "execution_count": null,
      "metadata": {
        "_cell_guid": "534420b4-3178-6f93-0c8d-81761b787527"
      },
      "outputs": [],
      "source": [
        "df=df.iloc[:, : 10] #\u5220\u6389\u6700\u540e\u4e00\u5217\u201cisFlaggedFraud\u201d\n",
        "df.head()"
      ]
    },
    {
      "cell_type": "code",
      "execution_count": null,
      "metadata": {
        "_cell_guid": "b049a5f7-7883-eb88-6725-23ab99f709b7"
      },
      "outputs": [],
      "source": [
        "df.describe(percentiles=[0.25, 0.5, 0.75, 0.9, 0.99])"
      ]
    },
    {
      "cell_type": "code",
      "execution_count": null,
      "metadata": {
        "_cell_guid": "ffea9671-58a1-d140-d6d4-8b2e7af622a0"
      },
      "outputs": [],
      "source": [
        "\n",
        "df.groupby(['type', 'isFraud']).count()['step'] #5\u79cd\u4ea4\u6613\u7c7b\u578b\u7684\u6b3a\u8bc8\u8bb0\u5f55\u4e0e\u6b63\u5e38\u8bb0\u5f55\u6570\u76ee\u7edf\u8ba1"
      ]
    },
    {
      "cell_type": "markdown",
      "metadata": {
        "_cell_guid": "c9380327-fb27-237b-ded7-23136ee299f2"
      },
      "source": [
        "## \u63a2\u7d22\u5404\u53d8\u91cf\u7684Pearson Correlation\u3002"
      ]
    },
    {
      "cell_type": "code",
      "execution_count": null,
      "metadata": {
        "_cell_guid": "e5618bc0-77c5-32df-4559-4458833adab5"
      },
      "outputs": [],
      "source": [
        "df_corr = df[['amount', 'oldbalanceOrg', 'newbalanceOrig', 'oldbalanceDest', 'newbalanceDest', 'isFraud']]\n",
        "\n",
        "data = [\n",
        "    go.Heatmap(\n",
        "        z=df_corr.corr().values,\n",
        "        x=df_corr.columns.values,\n",
        "        y=df_corr.columns.values,\n",
        "        colorscale='Viridis',\n",
        "        text = True ,\n",
        "        opacity = 1.0\n",
        "        \n",
        "    )\n",
        "]\n",
        "\n",
        "\n",
        "layout = go.Layout(\n",
        "    title='Pearson Correlation of all numeric features',\n",
        "    #xaxis = dict(ticks='', nticks=36),\n",
        "    #yaxis = dict(ticks='' ),\n",
        "    #width = 900, height = 700,\n",
        "    \n",
        ")\n",
        "\n",
        "\n",
        "fig = go.Figure(data=data, layout=layout)\n",
        "py.iplot(fig, filename='labelled-heatmap')"
      ]
    },
    {
      "cell_type": "markdown",
      "metadata": {
        "_cell_guid": "ab848623-3d58-f305-1cad-3d745cf5812a"
      },
      "source": [
        "## \u7edf\u8ba1\u6b3a\u8bc8\u91d1\u989d\u4ee5\u53ca\u5404\u7ec4\u4ea4\u6613\u7c7b\u578b\u4e2d\u7684\u6b3a\u8bc8\u8868\u73b0"
      ]
    },
    {
      "cell_type": "code",
      "execution_count": null,
      "metadata": {
        "_cell_guid": "52dc172e-ef12-dc1a-f5f8-74390f9b66b1"
      },
      "outputs": [],
      "source": [
        "plt.figure(figsize=(12,8))\n",
        "b1=sns.boxplot(x = 'isFraud', y = 'amount', data = df[df.amount < 1e5])\n",
        "b1.set_xlabel(\"isFraud\",fontsize=20) #\u5b57\u4f53\u8c03\u5927\u4fbf\u4e8e\u8bba\u6587\u5c55\u793a\n",
        "b1.set_ylabel(\"amount\",fontsize=20)\n",
        "b1.tick_params(labelsize=17)\n",
        "sns.plt.show()"
      ]
    },
    {
      "cell_type": "code",
      "execution_count": null,
      "metadata": {
        "_cell_guid": "44702b13-9b88-4be6-8c2c-4098b7d7d449"
      },
      "outputs": [],
      "source": [
        "plt.figure(figsize=(12,8))\n",
        "b1=sns.boxplot(hue = 'isFraud', x = 'type', y = 'amount', data = df[df.amount < 1e5])\n",
        "b1.set_xlabel('type', fontsize=20) #\u5b57\u4f53\u8c03\u5927\u4fbf\u4e8e\u8bba\u6587\u5c55\u793a\n",
        "b1.set_ylabel('amount',fontsize=20)\n",
        "b1.tick_params(labelsize=17)\n",
        "sns.plt.show()"
      ]
    },
    {
      "cell_type": "code",
      "execution_count": null,
      "metadata": {
        "_cell_guid": "e2ce1655-0fcf-7fb1-e97a-a12bb7e8c176"
      },
      "outputs": [],
      "source": [
        "df = df.sample(636262) #\u6570\u636e\u91cf\u592a\u5927\u8ba1\u7b97\u592a\u6162\n",
        "plt.figure(figsize=(12,8))\n",
        "b1 = sns.pairplot(df[['amount', 'oldbalanceOrg', 'newbalanceOrig', 'oldbalanceDest', 'newbalanceDest', 'isFraud']], hue='isFraud')\n",
        "b1.set_xlabel('type', fontsize=20) #\u5b57\u4f53\u8c03\u5927\u4fbf\u4e8e\u8bba\u6587\u5c55\u793a\n",
        "b1.set_ylabel('amount',fontsize=20)\n",
        "b1.tick_params(labelsize=17)"
      ]
    },
    {
      "cell_type": "code",
      "execution_count": null,
      "metadata": {
        "_cell_guid": "cdb227a3-3b07-b42b-58ee-e7b26822a2ca"
      },
      "outputs": [],
      "source": [
        "11"
      ]
    },
    {
      "cell_type": "code",
      "execution_count": null,
      "metadata": {
        "_cell_guid": "c3e46962-2ef5-3280-33af-0b7d5a4839f2"
      },
      "outputs": [],
      "source": [
        ""
      ]
    }
  ],
  "metadata": {
    "_change_revision": 0,
    "_is_fork": false,
    "kernelspec": {
      "display_name": "Python 3",
      "language": "python",
      "name": "python3"
    },
    "language_info": {
      "codemirror_mode": {
        "name": "ipython",
        "version": 3
      },
      "file_extension": ".py",
      "mimetype": "text/x-python",
      "name": "python",
      "nbconvert_exporter": "python",
      "pygments_lexer": "ipython3",
      "version": "3.6.0"
    }
  },
  "nbformat": 4,
  "nbformat_minor": 0
}