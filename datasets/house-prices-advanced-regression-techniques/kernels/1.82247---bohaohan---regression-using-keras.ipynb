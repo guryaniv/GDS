{
  "metadata": {
    "kernelspec": {
      "display_name": "Python 3",
      "language": "python",
      "name": "python3"
    },
    "language_info": {
      "codemirror_mode": {
        "name": "ipython",
        "version": 3
      },
      "file_extension": ".py",
      "mimetype": "text/x-python",
      "name": "python",
      "nbconvert_exporter": "python",
      "pygments_lexer": "ipython3",
      "version": "3.6.0"
    }
  },
  "nbformat": 4,
  "nbformat_minor": 0,
  "cells": [
    {
      "cell_type": "markdown",
      "metadata": {
        "_cell_guid": "c3924513-b6b5-3640-d6f9-d80c264d7ebe",
        "_active": false
      },
      "source": "Trying out Neural networks on Housing Data set.",
      "outputs": []
    },
    {
      "cell_type": "code",
      "execution_count": 53,
      "metadata": {
        "_cell_guid": "3659f0bf-60de-8d18-32b0-e72c46b90377",
        "_active": false
      },
      "outputs": [],
      "source": "# This Python 3 environment comes with many helpful analytics libraries installed\n# It is defined by the kaggle/python docker image: https://github.com/kaggle/docker-python\n# For example, here's several helpful packages to load in \n\nimport numpy as np # linear algebra\nimport pandas as pd # data processing, CSV file I/O (e.g. pd.read_csv)\nfrom keras.layers import Dense,Dropout\nfrom keras.models import Sequential\nfrom keras.optimizers import SGD,RMSprop\nfrom sklearn.model_selection import train_test_split\nfrom keras.layers.normalization import BatchNormalization\nfrom keras import backend as K\n\n\n# Input data files are available in the \"../input/\" directory.\n# For example, running this (by clicking run or pressing Shift+Enter) will list the files in the input directory\n\nfrom subprocess import check_output\nprint(check_output([\"ls\", \"../input\"]).decode(\"utf8\"))\n\n# Any results you write to the current directory are saved as output.",
      "execution_state": "idle"
    },
    {
      "cell_type": "code",
      "execution_count": 37,
      "metadata": {
        "_cell_guid": "3587efa3-a929-13c9-72af-95c829190aa2",
        "_active": false
      },
      "outputs": [],
      "source": "train = pd.read_csv(\"../input/train.csv\")\ntest = pd.read_csv(\"../input/test.csv\")",
      "execution_state": "idle"
    },
    {
      "cell_type": "code",
      "execution_count": 38,
      "metadata": {
        "_cell_guid": "f0e20c2c-cf25-4fe9-7987-a4ae78964363",
        "_active": false
      },
      "outputs": [],
      "source": "y = np.log1p(train[['SalePrice']])",
      "execution_state": "idle"
    },
    {
      "cell_type": "code",
      "execution_count": 39,
      "metadata": {
        "_cell_guid": "912408c7-6aca-5610-b1bf-0ee484bc0193",
        "_active": false
      },
      "outputs": [],
      "source": "y = y.SalePrice",
      "execution_state": "idle"
    },
    {
      "cell_type": "code",
      "execution_count": 40,
      "metadata": {
        "_cell_guid": "d2a41133-369e-d02c-7ad5-e27fdec9eb41",
        "_active": false
      },
      "outputs": [],
      "source": "all_data = pd.concat((train.loc[:,'MSSubClass':'SaleCondition'],\n                    test.loc[:,'MSSubClass':'SaleCondition']))",
      "execution_state": "idle"
    },
    {
      "cell_type": "code",
      "execution_count": 41,
      "metadata": {
        "_cell_guid": "2acf357e-ab78-ad21-f514-f9d4ba02d6d5",
        "_active": false
      },
      "outputs": [],
      "source": "all_data = pd.get_dummies(all_data)",
      "execution_state": "idle"
    },
    {
      "cell_type": "code",
      "execution_count": 42,
      "metadata": {
        "_cell_guid": "570e3a63-8e92-bc74-c500-3975f52c0c11",
        "_active": false
      },
      "outputs": [],
      "source": "all_data = all_data.fillna(all_data.mean())",
      "execution_state": "idle"
    },
    {
      "cell_type": "code",
      "execution_count": 43,
      "metadata": {
        "_cell_guid": "c224de07-11e1-94bb-3942-287ebff83155",
        "_active": false
      },
      "outputs": [],
      "source": "x_train = np.array(all_data[:train.shape[0]])\nx_test = np.array(all_data[test.shape[0]+1:])",
      "execution_state": "idle"
    },
    {
      "cell_type": "code",
      "execution_count": 44,
      "metadata": {
        "_cell_guid": "e506ba31-e6a8-fab6-7d73-ad522aee567f",
        "_active": false
      },
      "outputs": [],
      "source": "X_tr, X_val, y_tr, y_val = train_test_split(x_train, y)",
      "execution_state": "idle"
    },
    {
      "cell_type": "code",
      "execution_count": 45,
      "metadata": {
        "_cell_guid": "901db5be-7889-896a-49ce-49fa79bc42f3",
        "_active": false
      },
      "outputs": [],
      "source": "model = Sequential()\nBatchNormalization()\nmodel.add(Dense(1028,input_dim=288,activation='relu'))\nBatchNormalization()\nmodel.add(Dense(1028,input_dim=288,activation='relu'))\nBatchNormalization()\n#Dropout(0.2)\nmodel.add(Dense(100,input_dim=288,activation='relu'))\nBatchNormalization()\n#Dropout(0.2)\nmodel.add(Dense(50))\nBatchNormalization()\nmodel.add(Dense(1))\nmodel.compile(optimizer='adam',loss='mse',metrics=['accuracy'])",
      "execution_state": "idle"
    },
    {
      "cell_type": "code",
      "execution_count": 46,
      "metadata": {
        "_cell_guid": "f9612ee0-09c7-6ab7-dac9-183375effcc7",
        "_active": false,
        "collapsed": false
      },
      "outputs": [],
      "source": "model.fit(X_tr,y_tr,validation_data=(X_val,y_val),nb_epoch=30,batch_size=100)",
      "execution_state": "idle"
    },
    {
      "cell_type": "code",
      "execution_count": 47,
      "metadata": {
        "_cell_guid": "1407cc24-9dd9-1462-54a2-1e90e8e23ad3",
        "_active": false
      },
      "outputs": [],
      "source": "np.sqrt(model.evaluate(X_val,y_val))",
      "execution_state": "idle"
    },
    {
      "cell_type": "code",
      "execution_count": 48,
      "metadata": {
        "_cell_guid": "d43dd146-a042-51c4-a216-1f75162f4418",
        "_active": false
      },
      "outputs": [],
      "source": "preds = model.predict(np.array(x_test))",
      "execution_state": "idle"
    },
    {
      "cell_type": "code",
      "execution_count": 49,
      "metadata": {
        "_cell_guid": "d330e821-38ec-dd13-3a15-2d7eb44fd7a3",
        "_active": false
      },
      "outputs": [],
      "source": "subm = pd.read_csv(\"../input/sample_submission.csv\")",
      "execution_state": "idle"
    },
    {
      "cell_type": "code",
      "execution_count": 50,
      "metadata": {
        "_cell_guid": "7926ac73-8b6d-3651-35fd-09ec1d4ddbf4",
        "_active": false
      },
      "outputs": [],
      "source": "subm.iloc[:,1] = np.array(model.predict(np.array(x_test)))",
      "execution_state": "idle"
    },
    {
      "cell_type": "code",
      "execution_count": 51,
      "metadata": {
        "_cell_guid": "354efb26-a0a3-9581-fdc1-5660899f7794",
        "_active": false
      },
      "outputs": [],
      "source": "subm['SalePrice'] = np.expm1(subm[['SalePrice']])",
      "execution_state": "idle"
    },
    {
      "cell_type": "code",
      "execution_count": 52,
      "metadata": {
        "_cell_guid": "0a8d78c4-529b-6b50-552e-d3b693f81cfb",
        "_active": false
      },
      "outputs": [],
      "source": "subm.to_csv('kerassubmission1.csv', index=None)",
      "execution_state": "idle"
    },
    {
      "cell_type": "code",
      "execution_count": 53,
      "metadata": {
        "_cell_guid": "3a0c7be5-aa9d-796b-79cc-9874ded924b5",
        "_active": false
      },
      "outputs": [],
      "source": null,
      "execution_state": "idle"
    }
  ]
}