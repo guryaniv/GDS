{
  "cells": [
    {
      "cell_type": "code",
      "execution_count": null,
      "metadata": {
        "_cell_guid": "d281e06a-0c75-64f9-4fbe-36240ed01c4d"
      },
      "outputs": [],
      "source": [
        "import pandas as pd\n",
        "import numpy as np\n",
        "from sklearn.preprocessing import LabelEncoder, OneHotEncoder\n",
        "from scipy.sparse import hstack"
      ]
    },
    {
      "cell_type": "code",
      "execution_count": null,
      "metadata": {
        "_cell_guid": "98b696a1-5c1f-76a3-dced-f3038963af77"
      },
      "outputs": [],
      "source": [
        "train = pd.read_csv(\"../input/train.csv\",index_col='id')\n",
        "test = pd.read_csv(\"../input/test.csv\", index_col='id')\n",
        "train.shape\n",
        "test.shape"
      ]
    },
    {
      "cell_type": "code",
      "execution_count": null,
      "metadata": {
        "_cell_guid": "8d5a6e3b-00fc-8607-4488-ed90cf1bf3df"
      },
      "outputs": [],
      "source": [
        "y_train = train['loss']\n",
        "train = train.drop('loss', axis=1)\n",
        "\n",
        "numerical_train = train._get_numeric_data()\n",
        "cats_train = train.select_dtypes(include=[object])\n",
        "\n",
        "numerical_test=  test._get_numeric_data()\n",
        "cats_test = test.select_dtypes(include=[object])"
      ]
    },
    {
      "cell_type": "code",
      "execution_count": null,
      "metadata": {
        "_cell_guid": "25e288b3-7f7a-5364-5a40-e122edf1de47"
      },
      "outputs": [],
      "source": [
        "for column in cats_train.columns:\n",
        "    le = LabelEncoder()\n",
        "    cats_train.loc[:,column] = le.fit_transform(cats_train[column])\n",
        "    cats_test.loc[:,column] = le.fit_transform(cats_test[column])"
      ]
    },
    {
      "cell_type": "code",
      "execution_count": null,
      "metadata": {
        "_cell_guid": "95ec1b6c-62d5-7a59-4b4d-7905dba36812"
      },
      "outputs": [],
      "source": [
        "ohc = OneHotEncoder()\n",
        "ohc = ohc.fit(pd.concat((cats_train,cats_test),axis=0))\n",
        "cats_train_onehot = ohc.transform(cats_train)\n",
        "cats_test_onehot = ohc.transform(cats_test)"
      ]
    },
    {
      "cell_type": "code",
      "execution_count": null,
      "metadata": {
        "_cell_guid": "fbabb05b-0654-6183-632d-4c6f7e89b12b"
      },
      "outputs": [],
      "source": [
        "print(cats_train_onehot.shape)\n",
        "print(cats_test_onehot.shape)"
      ]
    },
    {
      "cell_type": "code",
      "execution_count": null,
      "metadata": {
        "_cell_guid": "0802fe76-7307-2d60-965d-54061903bd78"
      },
      "outputs": [],
      "source": [
        "train_sparse = hstack([cats_train_onehot, numerical_train], 'csr')\n",
        "test_sparse = hstack([cats_test_onehot,numerical_test], 'csr')"
      ]
    },
    {
      "cell_type": "code",
      "execution_count": null,
      "metadata": {
        "_cell_guid": "199ddfaf-f83f-8691-a2b2-d40aff642155"
      },
      "outputs": [],
      "source": [
        "print(cats_train_onehot.shape)\n",
        "print(numerical_train.shape)\n",
        "print('train sparse', train_sparse.shape)\n",
        "\n",
        "print(cats_test_onehot.shape)\n",
        "print(numerical_test.shape)\n",
        "print('test sparse' , test_sparse.shape)\n",
        "\n",
        "print('y_train', y_train.shape)"
      ]
    },
    {
      "cell_type": "code",
      "execution_count": null,
      "metadata": {
        "_cell_guid": "9397b5a0-510d-4e64-4ffd-45c148cd0bac"
      },
      "outputs": [],
      "source": [
        "\n",
        "print(train_sparse[:1,:].toarray())"
      ]
    }
  ],
  "metadata": {
    "_change_revision": 0,
    "_is_fork": false,
    "kernelspec": {
      "display_name": "Python 3",
      "language": "python",
      "name": "python3"
    },
    "language_info": {
      "codemirror_mode": {
        "name": "ipython",
        "version": 3
      },
      "file_extension": ".py",
      "mimetype": "text/x-python",
      "name": "python",
      "nbconvert_exporter": "python",
      "pygments_lexer": "ipython3",
      "version": "3.5.2"
    }
  },
  "nbformat": 4,
  "nbformat_minor": 0
}