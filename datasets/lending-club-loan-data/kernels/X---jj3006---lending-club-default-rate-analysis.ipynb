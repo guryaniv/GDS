{
  "cells": [
    {
      "cell_type": "code",
      "execution_count": null,
      "metadata": {
        "_cell_guid": "5cd146c0-f8d7-2772-5105-ee4dde730ba5"
      },
      "outputs": [],
      "source": [
        "import pandas as pd\n",
        "import numpy as np\n",
        "import matplotlib.pyplot as plt\n",
        "import matplotlib\n",
        "%matplotlib inline"
      ]
    },
    {
      "cell_type": "code",
      "execution_count": null,
      "metadata": {
        "_cell_guid": "00750958-383a-f78a-ef03-ac09cf843102"
      },
      "outputs": [],
      "source": [
        "import matplotlib.patches as mpatches"
      ]
    },
    {
      "cell_type": "code",
      "execution_count": null,
      "metadata": {
        "_cell_guid": "0bb82666-2241-6a18-17d2-c36217732573"
      },
      "outputs": [],
      "source": [
        "\n",
        "import plotly.plotly as py\n",
        "\n",
        "import plotly.graph_objs as go\n",
        "from plotly import tools\n",
        "from plotly.offline import iplot, init_notebook_mode\n",
        "init_notebook_mode()\n"
      ]
    },
    {
      "cell_type": "code",
      "execution_count": null,
      "metadata": {
        "_cell_guid": "ec62674e-88c5-933f-78d3-d6bfb13d9ec6"
      },
      "outputs": [],
      "source": [
        "import datetime as dt"
      ]
    },
    {
      "cell_type": "code",
      "execution_count": null,
      "metadata": {
        "_cell_guid": "662d96f0-c1dd-7cb2-4803-77d400565600"
      },
      "outputs": [],
      "source": [
        "import numpy as np"
      ]
    },
    {
      "cell_type": "code",
      "execution_count": null,
      "metadata": {
        "_cell_guid": "7c4a049a-33b1-3380-1b04-7c29500a71cc"
      },
      "outputs": [],
      "source": [
        "#extract data:\n",
        "loan=pd.read_csv('../input/loan.csv')"
      ]
    },
    {
      "cell_type": "code",
      "execution_count": null,
      "metadata": {
        "_cell_guid": "b73e4284-44b0-6413-8464-ba09463e5684"
      },
      "outputs": [],
      "source": [
        "loan.head(10)"
      ]
    },
    {
      "cell_type": "code",
      "execution_count": null,
      "metadata": {
        "_cell_guid": "1bc77264-6619-7573-c477-1ccb7db99dfe"
      },
      "outputs": [],
      "source": [
        "#I am going to investigate 7 columns: loan amount, term, int rate, grade, issue date, loan status, address state\n",
        "loan00 = loan.iloc[:,[2,5,6,8,15,16,23]]"
      ]
    },
    {
      "cell_type": "code",
      "execution_count": null,
      "metadata": {
        "_cell_guid": "992b574c-674f-59e7-093d-c96f9f54765c"
      },
      "outputs": [],
      "source": [
        "loan00.head(10)"
      ]
    },
    {
      "cell_type": "code",
      "execution_count": null,
      "metadata": {
        "_cell_guid": "8d12816b-45b9-7253-cd04-f1f273c347ca"
      },
      "outputs": [],
      "source": [
        "loan00.dtypes"
      ]
    },
    {
      "cell_type": "code",
      "execution_count": null,
      "metadata": {
        "_cell_guid": "ca62ecc9-b731-c901-736e-f0fe2e076f70"
      },
      "outputs": [],
      "source": [
        "#convert the data type from string to date \n",
        "\n",
        "loan00['issue_d2']=pd.to_datetime(loan00['issue_d'])"
      ]
    },
    {
      "cell_type": "code",
      "execution_count": null,
      "metadata": {
        "_cell_guid": "952d1d2f-6152-266d-fdf7-716f1bc08db4"
      },
      "outputs": [],
      "source": [
        "loan00.head(10)"
      ]
    },
    {
      "cell_type": "code",
      "execution_count": null,
      "metadata": {
        "_cell_guid": "c7a86634-5744-0c69-b23e-f505b55d23bd"
      },
      "outputs": [],
      "source": [
        "loan00.dtypes"
      ]
    },
    {
      "cell_type": "code",
      "execution_count": null,
      "metadata": {
        "_cell_guid": "1f522df9-e59b-302e-397a-a6c5df9b9608"
      },
      "outputs": [],
      "source": [
        "#select the month of the date, and calculate sum loan during each month \n",
        "loan01 = loan00.groupby(['issue_d2']).sum()\n",
        "loan01=loan01.reset_index()\n",
        "loan01['Issue_d']=[loan01.to_period('M')for \n",
        "                   loan01 in loan01['issue_d2']] #select month of date\n",
        "loan01=loan01.drop(['issue_d2','int_rate'], axis=1)\n",
        "loan01=loan01.groupby(['Issue_d']).sum()\n",
        "loan01['loan_amnt']=loan01['loan_amnt']/1000"
      ]
    },
    {
      "cell_type": "code",
      "execution_count": null,
      "metadata": {
        "_cell_guid": "4856dbaa-4c65-6898-8735-94f8c0786602"
      },
      "outputs": [],
      "source": [
        "loan01.head(10)"
      ]
    },
    {
      "cell_type": "code",
      "execution_count": null,
      "metadata": {
        "_cell_guid": "40bc88e8-b944-850a-be8e-5137ef705bf2"
      },
      "outputs": [],
      "source": [
        "#Use a graph to show the loan amount trend from 2007 to 2016\n",
        "pic1 = loan01.plot(figsize=(20,10), fontsize=20,color='r')\n",
        "plt.legend(loc='best',fontsize=0)\n",
        "pic1.set_xlabel('Timeline', fontsize=25)\n",
        "pic1.set_ylabel('Loan_Amount (000)',fontsize=25)\n",
        "pic1.set_title('Accumulative Loan Amount from 2007 to 2015',fontsize=25)"
      ]
    },
    {
      "cell_type": "code",
      "execution_count": null,
      "metadata": {
        "_cell_guid": "4366665f-ed55-6da5-e617-450be22176da"
      },
      "outputs": [],
      "source": [
        "#the curve starts to fluctuate since 2014, so let's take a closer look to the moving cycle\n",
        "loan01_2=loan01.tail(24)"
      ]
    },
    {
      "cell_type": "code",
      "execution_count": null,
      "metadata": {
        "_cell_guid": "501f40e1-5965-2635-b153-e7cfdf2d1c33"
      },
      "outputs": [],
      "source": [
        "loan01_2"
      ]
    },
    {
      "cell_type": "code",
      "execution_count": null,
      "metadata": {
        "_cell_guid": "3cb08fce-9f58-db20-1248-60447dfb5a73"
      },
      "outputs": [],
      "source": [
        "#Use a graph to show the loan amount trend of recent 2 years\n",
        "pic3 = loan01_2.plot(figsize=(20,10), fontsize=20,color='r')\n",
        "plt.legend(loc='best',fontsize=0)\n",
        "pic3.set_xlabel('Timeline', fontsize=25)\n",
        "pic3.set_ylabel('Loan_Amount (000)',fontsize=25)\n",
        "pic3.set_title('Accumulative Loan Amount from 2014 to 2015',fontsize=25)"
      ]
    },
    {
      "cell_type": "code",
      "execution_count": null,
      "metadata": {
        "_cell_guid": "d53c6c44-4d6e-abe5-8921-219b8a791790"
      },
      "outputs": [],
      "source": [
        "#I also wanted to see the loan amount in different states\n",
        "loan02=loan00.iloc[:,[0,-2]]"
      ]
    },
    {
      "cell_type": "code",
      "execution_count": null,
      "metadata": {
        "_cell_guid": "72c86def-a93f-a544-a390-d4bbf38efbc4"
      },
      "outputs": [],
      "source": [
        "loan02_1=loan02.groupby(['addr_state']).sum()"
      ]
    },
    {
      "cell_type": "code",
      "execution_count": null,
      "metadata": {
        "_cell_guid": "b12df209-5228-f937-0826-964951fb9217"
      },
      "outputs": [],
      "source": [
        "loan02_2=loan02_1.reset_index()"
      ]
    },
    {
      "cell_type": "code",
      "execution_count": null,
      "metadata": {
        "_cell_guid": "5594de86-80e0-3f78-f9fa-2136836b4df2"
      },
      "outputs": [],
      "source": [
        "loan02_2['loan_amnt(mil.)']=loan02_2['loan_amnt']/1000000\n",
        "loan02_2=loan02_2.drop(['loan_amnt'],axis=1)"
      ]
    },
    {
      "cell_type": "code",
      "execution_count": null,
      "metadata": {
        "_cell_guid": "ba894b62-5021-20da-5413-dd2e224cce3a"
      },
      "outputs": [],
      "source": [
        "loan02_2"
      ]
    },
    {
      "cell_type": "code",
      "execution_count": null,
      "metadata": {
        "_cell_guid": "9d4ef275-8a15-109b-0f75-8ae8369a0de4"
      },
      "outputs": [],
      "source": [
        "#draw a color map of sum of loan in different states \n",
        "scale = [[0, 'rgb(229, 239, 245)'],[1, 'rgb(1, 97, 156)']]\n",
        "\n",
        "[[0.0, 'rgb(223,221,228)'], [0.2, 'rgb(199,199,216)'], [0.4, 'rgb(169,170,201)'],[0.6, 'rgb(139,135,181)'], [0.8, 'rgb(98,88,158)'], [1.0, 'rgb(63,20,122)']]\n",
        "\n",
        "\n",
        "\n",
        "\n",
        "\n",
        "data  = [dict(type='choropleth', colorscale=scale,\n",
        "              autocolorscale = False,\n",
        "              showscale = False, \n",
        "              locations=loan02_2['addr_state'],\n",
        "              z=loan02_2['loan_amnt(mil.)'].astype(float),\n",
        "              locationmode = 'USA-states',\n",
        "              #text=loan02_2['text'], hoverinfo='location+z',\n",
        "              marker= dict(line=dict(color='rgb(255,255,255)', width=2)),\n",
        "              )]\n",
        "\n",
        "layout = dict(title='Lending Club Loan Volumn Reginal Outlook <br />(Sum of Personal Loan Amount in Million)',\n",
        "              geo = dict(scope='USA', projection=dict(type='albers usa'),\n",
        "                         showlakes=True,\n",
        "                        lakecolor='rgb(95,145,237)'))\n",
        "\n",
        "fig = dict(data=data, layout=layout)\n",
        "\n",
        "iplot(fig)"
      ]
    },
    {
      "cell_type": "code",
      "execution_count": null,
      "metadata": {
        "_cell_guid": "2c0b141b-7e38-9fe6-f512-a96f6eaa4b37"
      },
      "outputs": [],
      "source": [
        "#I also wanted to investigate the relationship between interest rate of different grades and terms.\n",
        "loan03=loan00.iloc[:,[1,2,3]]"
      ]
    },
    {
      "cell_type": "code",
      "execution_count": null,
      "metadata": {
        "_cell_guid": "0bf2cd53-b4e0-c2c1-e4a5-18698824838f"
      },
      "outputs": [],
      "source": [
        "loan03_1 = loan03.groupby(['grade','term']).mean()\n",
        "loan03_1 = loan03_1.reset_index()\n",
        "#Reorganize the data using pivot command\n",
        "loan03_2 = loan03_1.pivot(index='grade', columns='term',values='int_rate')"
      ]
    },
    {
      "cell_type": "code",
      "execution_count": null,
      "metadata": {
        "_cell_guid": "3b26813b-b577-6403-15fb-831fb60f05d7"
      },
      "outputs": [],
      "source": [
        "loan03_2"
      ]
    },
    {
      "cell_type": "code",
      "execution_count": null,
      "metadata": {
        "_cell_guid": "b7ad13d0-f9f8-73fc-b4a7-e98356b6b03f"
      },
      "outputs": [],
      "source": [
        "#Draw a horizental bar chart to compare rates of different conditions\n",
        "pic2=loan03_2.plot(kind='barh',figsize=(15,8),color=['peachpuff','darkkhaki'])\n",
        "pic2.legend(loc='lower right',fontsize=12)\n",
        "pic2.set_title('Average Interest Rate of Each Grade for 36 Month and 60 Month',fontsize=20)\n",
        "pic2.set_xlabel('Interest Rate',fontsize=12)\n"
      ]
    },
    {
      "cell_type": "code",
      "execution_count": null,
      "metadata": {
        "_cell_guid": "d38866ec-c745-7307-6b99-98ea491bd835"
      },
      "outputs": [],
      "source": [
        "loan00.head()"
      ]
    },
    {
      "cell_type": "code",
      "execution_count": null,
      "metadata": {
        "_cell_guid": "52c28014-a7cf-3c13-3d1e-e40eec051f74"
      },
      "outputs": [],
      "source": [
        "loan04=loan00.iloc[:,[-1,-3]]\n",
        "loan04.describe().transpose()"
      ]
    },
    {
      "cell_type": "code",
      "execution_count": null,
      "metadata": {
        "_cell_guid": "7c1b903b-39a8-8226-5d31-55cd2be101c6"
      },
      "outputs": [],
      "source": [
        "loan04.head()"
      ]
    },
    {
      "cell_type": "code",
      "execution_count": null,
      "metadata": {
        "_cell_guid": "74a167fa-4a37-fa0a-1a4b-8c41c704c6c4"
      },
      "outputs": [],
      "source": [
        "#I also wanted to see the content of ten different loan status:\n",
        "pd.crosstab(index=loan04['loan_status'], columns='count')"
      ]
    },
    {
      "cell_type": "code",
      "execution_count": null,
      "metadata": {
        "_cell_guid": "93a6428b-4a9f-4540-615c-bf92a8e96214"
      },
      "outputs": [],
      "source": [
        "loan04['issue_y']=loan04['issue_d2'].apply(lambda x: x.year)\n",
        "loan04=loan04.drop(['issue_d2'],axis=1)\n",
        "loan04.head()"
      ]
    },
    {
      "cell_type": "code",
      "execution_count": null,
      "metadata": {
        "_cell_guid": "40d97e88-3eed-7667-8be2-851ba6db0a13"
      },
      "outputs": [],
      "source": [
        "loan04['count']=1"
      ]
    },
    {
      "cell_type": "code",
      "execution_count": null,
      "metadata": {
        "_cell_guid": "bd4fd98d-3013-50b3-7d9b-0bc7931047b7"
      },
      "outputs": [],
      "source": [
        "loan04.head()"
      ]
    },
    {
      "cell_type": "code",
      "execution_count": null,
      "metadata": {
        "_cell_guid": "6a8213da-1141-5bf4-71a7-fd5d298b346d"
      },
      "outputs": [],
      "source": [
        "loan04_2=loan04.groupby(['issue_y','loan_status']).sum()"
      ]
    },
    {
      "cell_type": "code",
      "execution_count": null,
      "metadata": {
        "_cell_guid": "f318c689-e83a-75e8-d533-2dc7a524ac7a"
      },
      "outputs": [],
      "source": [
        "loan04_2=loan04_2.unstack(level=1).fillna(0)\n",
        "loan04_2.head()"
      ]
    },
    {
      "cell_type": "code",
      "execution_count": null,
      "metadata": {
        "_cell_guid": "660fb77b-3d81-a38f-7b30-166d5ec3c1fc"
      },
      "outputs": [],
      "source": [
        "loan04_3=loan04_2\n",
        "loan04_3.describe().transpose().iloc[:,0]"
      ]
    },
    {
      "cell_type": "code",
      "execution_count": null,
      "metadata": {
        "_cell_guid": "19a9378d-17ad-7457-ea7a-13f715ccfb22"
      },
      "outputs": [],
      "source": [
        "\n",
        "loan04_3['total loan record']=np.sum(loan04_3, axis=1)\n",
        "    "
      ]
    },
    {
      "cell_type": "code",
      "execution_count": null,
      "metadata": {
        "_cell_guid": "ada38995-4031-5624-5839-4161f4c4545f"
      },
      "outputs": [],
      "source": [
        "loan04_3"
      ]
    },
    {
      "cell_type": "code",
      "execution_count": null,
      "metadata": {
        "_cell_guid": "9b8246e6-fd72-f188-1cf7-adaf2ce09a58"
      },
      "outputs": [],
      "source": [
        "loan04_3['total default record']=np.sum(loan04_3[[0,2,3,8,9]], axis=1)"
      ]
    },
    {
      "cell_type": "code",
      "execution_count": null,
      "metadata": {
        "_cell_guid": "34b94139-a5a7-bcdf-28bc-588f2766170d"
      },
      "outputs": [],
      "source": [
        "loan04_3['default rate']=round(loan04_3\n",
        "                               ['total default record']\n",
        "                               /loan04_3['total loan record'],4)"
      ]
    },
    {
      "cell_type": "code",
      "execution_count": null,
      "metadata": {
        "_cell_guid": "4bda1da4-47c4-7ecb-847e-d01aacab373b"
      },
      "outputs": [],
      "source": [
        "#Slice the records amount part:\n",
        "loan04_4=loan04_3.iloc[:,[-3,-2]]"
      ]
    },
    {
      "cell_type": "code",
      "execution_count": null,
      "metadata": {
        "_cell_guid": "641363e6-73ef-2142-f1b6-5217cd4e4c4d"
      },
      "outputs": [],
      "source": [
        "loan04_4"
      ]
    },
    {
      "cell_type": "code",
      "execution_count": null,
      "metadata": {
        "_cell_guid": "f8e445e5-275d-92c8-4245-076f36e10404"
      },
      "outputs": [],
      "source": [
        "#draw a line chart to show the trend of loan records and defult loan records:\n",
        "\n",
        "line1, = plt.plot(loan04_4['total loan record'], label=\"total loan record\", linestyle='--')\n",
        "line2, = plt.plot(loan04_4['total default record'], label=\"total default record\", linewidth=2)\n",
        "legend1 = plt.legend(handles=[line1], loc=1)\n",
        "ax = plt.gca().add_artist(legend1)\n",
        "plt.legend(handles=[line2], loc=2)\n",
        "plt.ticklabel_format(useOffset=False)\n",
        "plt.title('Total Default Records & Total Loan Records')\n",
        "plt.show()"
      ]
    },
    {
      "cell_type": "code",
      "execution_count": null,
      "metadata": {
        "_cell_guid": "1c47b45a-435e-038b-c297-da877bbce535"
      },
      "outputs": [],
      "source": [
        "#Slice the rate part:\n",
        "loan04_5=loan04_3.iloc[:,[-1]]"
      ]
    },
    {
      "cell_type": "code",
      "execution_count": null,
      "metadata": {
        "_cell_guid": "adaa1c09-6b7e-cbbe-a17e-d1202e026d0e"
      },
      "outputs": [],
      "source": [
        "loan04_5"
      ]
    },
    {
      "cell_type": "code",
      "execution_count": null,
      "metadata": {
        "_cell_guid": "67da4aed-3bd5-5db8-9f1e-e61b28791180"
      },
      "outputs": [],
      "source": [
        "#Draw a grapg to learn the trend of default rate from 2007 to 2015\n",
        "pic4=loan04_5.plot(figsize=(20,10), fontsize=20, color='orange',lw=3, legend=False)\n",
        "pic4.set_title('Default Rate from 2007 to 2015', fontsize=20)\n",
        "pic4.set_xlabel('Year', fontsize=18)\n",
        "plt.ticklabel_format(useOffset=False)"
      ]
    },
    {
      "cell_type": "code",
      "execution_count": null,
      "metadata": {
        "_cell_guid": "9429aa7b-a8ad-66d0-0111-ca4fdd966ca4"
      },
      "outputs": [],
      "source": [
        "loan05=loan00.iloc[:,[3,5]]\n",
        "loan05['count']=1\n",
        "loan05.head(10)"
      ]
    },
    {
      "cell_type": "code",
      "execution_count": null,
      "metadata": {
        "_cell_guid": "b3828cc2-4550-6468-1efe-879540c22af0"
      },
      "outputs": [],
      "source": [
        "loan05_1=loan05.groupby(['grade','loan_status']).sum()\n",
        "loan05_2=loan05_1.unstack(level=1)\n",
        "loan05_2"
      ]
    },
    {
      "cell_type": "code",
      "execution_count": null,
      "metadata": {
        "_cell_guid": "02eeb3f1-4252-eadb-b71e-075cd99fb3ae"
      },
      "outputs": [],
      "source": [
        "loan05_3=loan05_2\n",
        "loan05_3['total default record']=np.sum(loan05_3[[0,2,3,8,9]], axis=1)\n",
        "loan05_3['total loan record']=np.sum(loan05_3, axis=1)\n",
        "loan05_3"
      ]
    },
    {
      "cell_type": "code",
      "execution_count": null,
      "metadata": {
        "_cell_guid": "cfc26c21-b3cc-591e-cf64-a7f5e8a1b56a"
      },
      "outputs": [],
      "source": [
        "loan05_3['default rate']=round(loan05_3\n",
        "                               ['total default record']\n",
        "                               /loan05_3['total loan record'],4)\n",
        "loan05_3"
      ]
    },
    {
      "cell_type": "code",
      "execution_count": null,
      "metadata": {
        "_cell_guid": "72884697-75fb-c286-dc32-cc37d9ebef19"
      },
      "outputs": [],
      "source": [
        "loan05_4=loan05_3.iloc[:,[-1]]\n",
        "loan05_4"
      ]
    },
    {
      "cell_type": "code",
      "execution_count": null,
      "metadata": {
        "_cell_guid": "c85902c7-230d-9ca7-3e28-3f2f83687533"
      },
      "outputs": [],
      "source": [
        "loan05_5=loan05_4.reset_index()\n",
        "loan05_5"
      ]
    },
    {
      "cell_type": "code",
      "execution_count": null,
      "metadata": {
        "_cell_guid": "b090145a-ca3b-40f3-7351-f6f8dd119c08"
      },
      "outputs": [],
      "source": [
        "loan_merge=loan03_2.reset_index()\n",
        "loan05_6=pd.merge(loan_merge,loan05_5, how='inner', on=['grade'])\n",
        "loan05_6"
      ]
    },
    {
      "cell_type": "code",
      "execution_count": null,
      "metadata": {
        "_cell_guid": "9d022f4f-3f2b-75c4-5716-b86b1e017fe2"
      },
      "outputs": [],
      "source": [
        "loan05_7=loan05_6.iloc[:,[0,1,-1]]\n",
        "loan05_7['default rate']=loan05_7.iloc[:,[-1]]*100\n",
        "loan05_7=loan05_7.iloc[:,[0,1,-1]]\n",
        "loan05_7['interest rate']=round((loan05_7.iloc[:,[1]]),2)\n",
        "loan05_7=loan05_7.iloc[:,[0,-2,-1]]\n",
        "loan05_7=loan05_7.set_index(['grade'])\n",
        "loan05_7"
      ]
    },
    {
      "cell_type": "code",
      "execution_count": null,
      "metadata": {
        "_cell_guid": "405582f7-84a5-4edb-d481-3c73a588a1ac"
      },
      "outputs": [],
      "source": [
        "fig,ax=plt.subplots()\n",
        "loan05_7.plot(kind='bar', ax=ax, rot=0, color=['lightslategrey','orange'], \n",
        "              title='Comparison of 36 months interest rate and default rate', legend=False)\n",
        "\n",
        "orange_patch = mpatches.Patch(color='orange', label='interest rate')\n",
        "legend1=plt.legend(handles=[orange_patch], loc=(0.04,0.73))\n",
        "ax = plt.gca().add_artist(legend1)\n",
        "grey_patch = mpatches.Patch(color='grey', label='default rate')\n",
        "plt.legend(handles=[grey_patch],loc=(0.04,0.86))"
      ]
    },
    {
      "cell_type": "code",
      "execution_count": null,
      "metadata": {
        "_cell_guid": "d4cc3355-f1dd-13b8-d88d-67fde9292ad5"
      },
      "outputs": [],
      "source": [
        "loan06=loan00.iloc[:,[-1,3]]\n",
        "loan06['issue_y']=loan06['issue_d2'].apply(lambda x: x.year)\n",
        "loan06=loan06.drop(['issue_d2'],axis=1)\n",
        "loan06['count']=1"
      ]
    },
    {
      "cell_type": "code",
      "execution_count": null,
      "metadata": {
        "_cell_guid": "6356b49a-071f-93fb-b311-6b28f5d820b6"
      },
      "outputs": [],
      "source": [
        "loan06=loan06.groupby(['issue_y','grade']).sum()"
      ]
    },
    {
      "cell_type": "code",
      "execution_count": null,
      "metadata": {
        "_cell_guid": "b7c1bae0-886c-9167-981c-9c7506f15820"
      },
      "outputs": [],
      "source": [
        "loan06"
      ]
    },
    {
      "cell_type": "code",
      "execution_count": null,
      "metadata": {
        "_cell_guid": "67b9cf09-c59b-9b8f-cf8e-eaa2e878faf5"
      },
      "outputs": [],
      "source": [
        "def grade(year):\n",
        "    loan6_02=loan06.ix[year]\n",
        "    colors = ['forestgreen', 'skyblue', 'lightcyan', 'darkkhaki', 'gold','teal','tomato']\n",
        "    plt.figure(figsize=(5,5))\n",
        "    figure=(15,15)\n",
        "    fig1=plt.pie(loan6_02, colors=colors, shadow=False, startangle=140, autopct='%1.1f%%')\n",
        "    plt.legend(labels=loan6_02.index, bbox_to_anchor=(0.05,0.8), loc='best', fontsize=12)\n",
        "    plt.axis='equal'\n",
        "    plt.title(year,fontsize=15)\n",
        "    plt.show"
      ]
    },
    {
      "cell_type": "code",
      "execution_count": null,
      "metadata": {
        "_cell_guid": "cd961c34-8f8e-1d85-9e39-e08a78ecc7a6"
      },
      "outputs": [],
      "source": [
        "grade(2007)"
      ]
    },
    {
      "cell_type": "code",
      "execution_count": null,
      "metadata": {
        "_cell_guid": "d6b3c00a-04c1-4cb2-591a-99647916902a"
      },
      "outputs": [],
      "source": [
        "grade(2009)"
      ]
    },
    {
      "cell_type": "code",
      "execution_count": null,
      "metadata": {
        "_cell_guid": "16265515-2979-b817-3457-33ad2218f8a2"
      },
      "outputs": [],
      "source": [
        "grade(2012)"
      ]
    },
    {
      "cell_type": "code",
      "execution_count": null,
      "metadata": {
        "_cell_guid": "1df3e8cd-cb08-2c7d-5554-81e1ef3abed0"
      },
      "outputs": [],
      "source": [
        "grade(2015)"
      ]
    },
    {
      "cell_type": "code",
      "execution_count": null,
      "metadata": {
        "_cell_guid": "29411c30-c31f-f8bb-127c-01a52e985841"
      },
      "outputs": [],
      "source": ""
    }
  ],
  "metadata": {
    "_change_revision": 0,
    "_is_fork": false,
    "kernelspec": {
      "display_name": "Python 3",
      "language": "python",
      "name": "python3"
    },
    "language_info": {
      "codemirror_mode": {
        "name": "ipython",
        "version": 3
      },
      "file_extension": ".py",
      "mimetype": "text/x-python",
      "name": "python",
      "nbconvert_exporter": "python",
      "pygments_lexer": "ipython3",
      "version": "3.6.0"
    }
  },
  "nbformat": 4,
  "nbformat_minor": 0
}