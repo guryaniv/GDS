{
  "cells": [
    {
      "cell_type": "code",
      "execution_count": null,
      "metadata": {
        "_cell_guid": "0b4c4b7a-afba-ce8e-82d0-99b90ae6f509"
      },
      "outputs": [],
      "source": [
        "import pandas as pd"
      ]
    },
    {
      "cell_type": "code",
      "execution_count": null,
      "metadata": {
        "_cell_guid": "3102860c-ec8c-2a6a-8bea-de5284587d32"
      },
      "outputs": [],
      "source": [
        "train = pd.read_csv('../input/train.csv')\n",
        "test = pd.read_csv('../input/test.csv')\n",
        "sample_submission = pd.read_csv('../input/sample_submission.csv')\n",
        "\n",
        "train.head(10)"
      ]
    },
    {
      "cell_type": "markdown",
      "metadata": {
        "_cell_guid": "b31565ac-c538-bf6d-2a1b-9e14e09d80e5"
      },
      "source": [
        "The end submission is a csv file with header 'id' and 'loss'."
      ]
    },
    {
      "cell_type": "code",
      "execution_count": null,
      "metadata": {
        "_cell_guid": "93152a83-a12a-02af-ebac-791c0ea536f0"
      },
      "outputs": [],
      "source": [
        "headers = train.columns.values\n",
        "print(headers)\n",
        "\n",
        "def count_occ(cat, headers):\n",
        "    print(\"Number of \", cat, \": \", len([h for h in ]))\n",
        "print(\"Number of cont:\")"
      ]
    },
    {
      "cell_type": "code",
      "execution_count": null,
      "metadata": {
        "_cell_guid": "3d3c904c-4678-e1c3-fa20-9a2eb518dc66"
      },
      "outputs": [],
      "source": ""
    }
  ],
  "metadata": {
    "_change_revision": 0,
    "_is_fork": false,
    "kernelspec": {
      "display_name": "Python 3",
      "language": "python",
      "name": "python3"
    },
    "language_info": {
      "codemirror_mode": {
        "name": "ipython",
        "version": 3
      },
      "file_extension": ".py",
      "mimetype": "text/x-python",
      "name": "python",
      "nbconvert_exporter": "python",
      "pygments_lexer": "ipython3",
      "version": "3.5.2"
    }
  },
  "nbformat": 4,
  "nbformat_minor": 0
}