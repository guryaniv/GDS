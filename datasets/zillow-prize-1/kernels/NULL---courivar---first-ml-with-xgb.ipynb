{
  "cells": [
    {
      "cell_type": "markdown",
      "metadata": {
        "_cell_guid": "3bd2d394-66a2-6c98-9bbf-c1764c3bc7f3"
      },
      "source": ""
    },
    {
      "cell_type": "code",
      "execution_count": null,
      "metadata": {
        "_cell_guid": "d274e30f-3c1f-7c3a-7a09-e38d1d5d6fcc"
      },
      "outputs": [],
      "source": [
        "# This Python 3 environment comes with many helpful analytics libraries installed\n",
        "# It is defined by the kaggle/python docker image: https://github.com/kaggle/docker-python\n",
        "# For example, here's several helpful packages to load in \n",
        "\n",
        "import numpy as np # linear algebra\n",
        "import pandas as pd # data processing, CSV file I/O (e.g. pd.read_csv)\n",
        "\n",
        "# Input data files are available in the \"../input/\" directory.\n",
        "# For example, running this (by clicking run or pressing Shift+Enter) will list the files in the input directory\n",
        "\n",
        "from subprocess import check_output\n",
        "print(check_output([\"ls\", \"../input\"]).decode(\"utf8\"))\n",
        "\n",
        "# Any results you write to the current directory are saved as output."
      ]
    },
    {
      "cell_type": "code",
      "execution_count": null,
      "metadata": {
        "_cell_guid": "281a50f3-292d-7c1e-da3d-6ce8eb63adc0"
      },
      "outputs": [],
      "source": [
        "import xgboost as xgb\n",
        "import gc"
      ]
    },
    {
      "cell_type": "code",
      "execution_count": null,
      "metadata": {
        "_cell_guid": "5903c1dc-dee3-8814-b66b-4d21a6b400ee"
      },
      "outputs": [],
      "source": [
        "train = pd.read_csv('../input/train_2016.csv')\n",
        "properties = pd.read_csv('../input/properties_2016.csv')"
      ]
    },
    {
      "cell_type": "code",
      "execution_count": null,
      "metadata": {
        "_cell_guid": "5ddca8d3-48c5-bc79-2dc8-e6f15ccf3edb"
      },
      "outputs": [],
      "source": [
        "sample = pd.read_csv('../input/sample_submission.csv')"
      ]
    },
    {
      "cell_type": "code",
      "execution_count": null,
      "metadata": {
        "_cell_guid": "cfedba1d-82a4-f13f-3eaa-28b179c17922"
      },
      "outputs": [],
      "source": [
        "properties.airconditioningtypeid = properties.airconditioningtypeid.fillna(0).astype(int)\n",
        "properties.architecturalstyletypeid = properties.architecturalstyletypeid.fillna(0).astype(int)\n",
        "properties.buildingclasstypeid = properties.buildingclasstypeid.fillna(0).astype(int)\n",
        "properties.buildingqualitytypeid = properties.buildingqualitytypeid.fillna(0).astype(int)\n",
        "properties.decktypeid = properties.decktypeid.fillna(0).astype(int)\n",
        "properties.heatingorsystemtypeid = properties.heatingorsystemtypeid.fillna(0).astype(int)\n",
        "\n",
        "properties.bathroomcnt = properties.bathroomcnt.fillna(0).astype(float)\n",
        "properties.bedroomcnt = properties.bedroomcnt.fillna(0).astype(int)\n",
        "properties.calculatedbathnbr = properties.calculatedbathnbr.fillna(0).astype(float)\n",
        "properties.fireplacecnt = properties.fireplacecnt.fillna(0).astype(int)\n",
        "properties.fullbathcnt = properties.fullbathcnt.fillna(0).astype(int)\n",
        "properties.garagecarcnt = properties.garagecarcnt.fillna(0).astype(int)\n",
        "properties.poolcnt = properties.poolcnt.fillna(0).astype(int)\n",
        "properties.fips = properties.fips.fillna(0).astype(int)\n",
        "properties.poolsizesum = properties.poolsizesum.fillna(0).astype(int)\n",
        "\n",
        "properties.hashottuborspa = properties.hashottuborspa.fillna(False).astype(int)"
      ]
    },
    {
      "cell_type": "code",
      "execution_count": null,
      "metadata": {
        "_cell_guid": "46f865ca-5d9a-bec1-5302-26eacf69636a"
      },
      "outputs": [],
      "source": [
        "sample.head()"
      ]
    },
    {
      "cell_type": "code",
      "execution_count": null,
      "metadata": {
        "_cell_guid": "1e086e9b-db42-cf3d-4499-639cbc50bf84"
      },
      "outputs": [],
      "source": [
        "print('Binding to float32')\n",
        "\n",
        "for c, dtype in zip(properties.columns, properties.dtypes):\n",
        "\tif dtype == np.float64:\n",
        "\t\tproperties[c] = properties[c].astype(np.float32)"
      ]
    },
    {
      "cell_type": "code",
      "execution_count": null,
      "metadata": {
        "_cell_guid": "22559710-f431-172e-8f1c-b77e55a598c6"
      },
      "outputs": [],
      "source": [
        "print('Creating training set ...')\n",
        "\n",
        "df_train = train.merge(properties, how='left', on='parcelid')\n",
        "\n",
        "x_train = df_train.drop(['parcelid', 'logerror', 'transactiondate', 'propertyzoningdesc', 'propertycountylandusecode'], axis=1)\n",
        "y_train = df_train['logerror'].values\n",
        "print(x_train.shape, y_train.shape)\n",
        "\n",
        "train_columns = x_train.columns\n",
        "\n",
        "for c in x_train.dtypes[x_train.dtypes == object].index.values:\n",
        "    x_train[c] = (x_train[c] == True)\n",
        "\n",
        "del df_train; gc.collect()\n",
        "split = 80000\n",
        "x_train, y_train, x_valid, y_valid = x_train[:split], y_train[:split], x_train[split:], y_train[split:]\n"
      ]
    },
    {
      "cell_type": "code",
      "execution_count": null,
      "metadata": {
        "_cell_guid": "83a0de8d-c343-e61b-25b0-88b2977dfbe2"
      },
      "outputs": [],
      "source": [
        "print('Building DMatrix...')\n",
        "\n",
        "d_train = xgb.DMatrix(x_train, label=y_train)\n",
        "d_valid = xgb.DMatrix(x_valid, label=y_valid)\n",
        "\n",
        "del x_train, x_valid; gc.collect()"
      ]
    },
    {
      "cell_type": "code",
      "execution_count": null,
      "metadata": {
        "_cell_guid": "9f812a36-b3e4-3634-f473-267466afde39"
      },
      "outputs": [],
      "source": [
        "print('Training ...')\n",
        "\n",
        "params = {}\n",
        "params['eta'] = 0.02\n",
        "params['objective'] = 'reg:linear'\n",
        "params['eval_metric'] = 'mae'\n",
        "params['max_depth'] = 4\n",
        "params['silent'] = 1\n",
        "\n",
        "watchlist = [(d_train, 'train'), (d_valid, 'valid')]\n",
        "clf = xgb.train(params, d_train, 10000, watchlist, early_stopping_rounds=100, verbose_eval=10)\n",
        "\n",
        "del d_train, d_validb"
      ]
    },
    {
      "cell_type": "code",
      "execution_count": null,
      "metadata": {
        "_cell_guid": "2813e489-5198-4baa-8df1-681cd5fb032e"
      },
      "outputs": [],
      "source": [
        "print('Building test set ...')\n",
        "\n",
        "sample['parcelid'] = sample['ParcelId']\n",
        "df_test = sample.merge(properties, on='parcelid', how='left')\n",
        "\n",
        "del properties; gc.collect()\n",
        "\n",
        "x_test = df_test[train_columns]\n",
        "for c in x_test.dtypes[x_test.dtypes == object].index.values:\n",
        "    x_test[c] = (x_test[c] == True)\n",
        "\n",
        "del df_test, sample; gc.collect()\n",
        "\n",
        "d_test = xgb.DMatrix(x_test)\n",
        "\n",
        "del x_test; gc.collect()\n",
        "\n",
        "print('Predicting on test ...')\n",
        "\n",
        "p_test = clf.predict(d_test)\n",
        "\n",
        "del d_test; gc.collect()\n",
        "\n",
        "sub = pd.read_csv('../input/sample_submission.csv')\n",
        "for c in sub.columns[sub.columns != 'ParcelId']:\n",
        "    sub[c] = p_test\n",
        "\n",
        "print('Writing csv ...')\n",
        "sub.to_csv('xgb_starter.csv', index=False, float_format='%.4f') # Thanks to @inversion"
      ]
    }
  ],
  "metadata": {
    "_change_revision": 0,
    "_is_fork": false,
    "kernelspec": {
      "display_name": "Python 3",
      "language": "python",
      "name": "python3"
    },
    "language_info": {
      "codemirror_mode": {
        "name": "ipython",
        "version": 3
      },
      "file_extension": ".py",
      "mimetype": "text/x-python",
      "name": "python",
      "nbconvert_exporter": "python",
      "pygments_lexer": "ipython3",
      "version": "3.6.0"
    }
  },
  "nbformat": 4,
  "nbformat_minor": 0
}