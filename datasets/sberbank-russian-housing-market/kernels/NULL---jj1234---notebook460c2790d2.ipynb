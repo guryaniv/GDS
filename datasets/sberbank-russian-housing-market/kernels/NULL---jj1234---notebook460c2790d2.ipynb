{
  "cells": [
    {
      "cell_type": "markdown",
      "metadata": {
        "_cell_guid": "1aa43caf-6501-07ff-e803-64058ce522ec"
      },
      "source": [
        "**Analyze Russian Housing Market**"
      ]
    },
    {
      "cell_type": "code",
      "execution_count": null,
      "metadata": {
        "_cell_guid": "d3455e5e-8160-10e0-4c9c-8d9adcb08e08"
      },
      "outputs": [],
      "source": [
        "# This Python 3 environment comes with many helpful analytics libraries installed\n",
        "# It is defined by the kaggle/python docker image: https://github.com/kaggle/docker-python\n",
        "# For example, here's several helpful packages to load in \n",
        "\n",
        "# import packages\n",
        "import numpy as np \n",
        "import pandas as pd \n",
        "import xgboost as xgb\n",
        "import matplotlib.pyplot as plt"
      ]
    },
    {
      "cell_type": "code",
      "execution_count": null,
      "metadata": {
        "_cell_guid": "da0e887f-103b-a381-d5f6-4a29a3356831"
      },
      "outputs": [],
      "source": [
        "# Input data files are available in the \"../input/\" directory.\n",
        "# For example, running this (by clicking run or pressing Shift+Enter) will list the files in the input directory\n",
        "\n",
        "from subprocess import check_output\n",
        "print(check_output([\"ls\", \"../input\"]).decode(\"utf8\"))\n",
        "\n",
        "# Any results you write to the current directory are saved as output."
      ]
    },
    {
      "cell_type": "code",
      "execution_count": null,
      "metadata": {
        "_cell_guid": "f8f18a3e-78cf-ce3b-d5f2-50215849f6fc"
      },
      "outputs": [],
      "source": [
        "# From here: https://www.kaggle.com/robertoruiz/sberbank-russian-housing-market/dealing-with-multicollinearity/notebook\n",
        "macro_cols = [\"balance_trade\", \"balance_trade_growth\", \"eurrub\", \"average_provision_of_build_contract\",\n",
        "\"micex_rgbi_tr\", \"micex_cbi_tr\", \"deposits_rate\", \"mortgage_value\", \"mortgage_rate\",\n",
        "\"income_per_cap\", \"rent_price_4+room_bus\", \"museum_visitis_per_100_cap\", \"apartment_build\"]\n",
        "\n",
        "df_train = pd.read_csv(\"../input/train.csv\", parse_dates=['timestamp'])\n",
        "df_test = pd.read_csv(\"../input/test.csv\", parse_dates=['timestamp'])\n",
        "df_macro = pd.read_csv(\"../input/macro.csv\", parse_dates=['timestamp'], usecols=['timestamp'] + macro_cols)"
      ]
    },
    {
      "cell_type": "code",
      "execution_count": null,
      "metadata": {
        "_cell_guid": "b4d73898-1b18-5927-f00f-d16749bcfd0f"
      },
      "outputs": [],
      "source": [
        "df_train.head()"
      ]
    },
    {
      "cell_type": "code",
      "execution_count": null,
      "metadata": {
        "_cell_guid": "f71124cd-6f42-9811-fc30-89c13a2bf7fc"
      },
      "outputs": [],
      "source": [
        "df_train.columns"
      ]
    },
    {
      "cell_type": "code",
      "execution_count": null,
      "metadata": {
        "_cell_guid": "70d1fd6a-2448-fc9b-b2bf-53e76d6ebc53"
      },
      "outputs": [],
      "source": [
        "ax = df_train['price_doc'].hist(bins=50)"
      ]
    },
    {
      "cell_type": "code",
      "execution_count": null,
      "metadata": {
        "_cell_guid": "bd6947cf-4c37-d654-76f9-2bdecb9e0d46"
      },
      "outputs": [],
      "source": [
        "df_macro.head()"
      ]
    },
    {
      "cell_type": "code",
      "execution_count": null,
      "metadata": {
        "_cell_guid": "d1f5518f-50af-c0f0-82d3-a90a1086f9f5"
      },
      "outputs": [],
      "source": [
        "# ylog will be log(1+y), as suggested by https://github.com/dmlc/xgboost/issues/446#issuecomment-135555130\n",
        "ylog_train_all = np.log1p(df_train['price_doc'].values)\n",
        "id_test = df_test['id']\n"
      ]
    },
    {
      "cell_type": "code",
      "execution_count": null,
      "metadata": {
        "_cell_guid": "d788d19e-f9e4-9c11-9da1-3f814e335eab"
      },
      "outputs": [],
      "source": [
        "ylog_train_all"
      ]
    },
    {
      "cell_type": "code",
      "execution_count": null,
      "metadata": {
        "_cell_guid": "3d8aafb4-3a02-8499-0615-d7e9ff869778"
      },
      "outputs": [],
      "source": [
        "df_train.drop(['id', 'price_doc'], axis=1, inplace=True)\n",
        "df_test.drop(['id'], axis=1, inplace=True)\n"
      ]
    },
    {
      "cell_type": "code",
      "execution_count": null,
      "metadata": {
        "_cell_guid": "4866276a-2b45-7340-e0c3-424ca7db8f24"
      },
      "outputs": [],
      "source": [
        "# Build df_all = (df_train+df_test).join(df_macro)\n",
        "num_train = len(df_train)\n",
        "df_all = pd.concat([df_train, df_test])\n",
        "df_all = pd.merge_ordered(df_all, df_macro, on='timestamp', how='left')\n",
        "print(df_all.shape)\n"
      ]
    },
    {
      "cell_type": "code",
      "execution_count": null,
      "metadata": {
        "_cell_guid": "d4e11f53-7f64-fbb3-d90f-ced97878b38a"
      },
      "outputs": [],
      "source": [
        "# Add month-year\n",
        "month_year = (df_all.timestamp.dt.month + df_all.timestamp.dt.year * 100)\n",
        "month_year_cnt_map = month_year.value_counts().to_dict()\n",
        "df_all['month_year_cnt'] = month_year.map(month_year_cnt_map)\n"
      ]
    },
    {
      "cell_type": "code",
      "execution_count": null,
      "metadata": {
        "_cell_guid": "83e42075-957e-ad40-13b6-20c16fed4125"
      },
      "outputs": [],
      "source": [
        "df_all2.shape"
      ]
    },
    {
      "cell_type": "code",
      "execution_count": null,
      "metadata": {
        "_cell_guid": "0fb1bfcc-dad6-c059-3d6a-5a945f101591"
      },
      "outputs": [],
      "source": [
        "df_all.shape"
      ]
    },
    {
      "cell_type": "code",
      "execution_count": null,
      "metadata": {
        "_cell_guid": "c434b523-8723-4e8f-535c-41f4710e1222"
      },
      "outputs": [],
      "source": ""
    }
  ],
  "metadata": {
    "_change_revision": 0,
    "_is_fork": false,
    "kernelspec": {
      "display_name": "Python 3",
      "language": "python",
      "name": "python3"
    },
    "language_info": {
      "codemirror_mode": {
        "name": "ipython",
        "version": 3
      },
      "file_extension": ".py",
      "mimetype": "text/x-python",
      "name": "python",
      "nbconvert_exporter": "python",
      "pygments_lexer": "ipython3",
      "version": "3.6.0"
    }
  },
  "nbformat": 4,
  "nbformat_minor": 0
}