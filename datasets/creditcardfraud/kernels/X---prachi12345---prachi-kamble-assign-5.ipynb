{
  "cells": [
    {
      "cell_type": "markdown",
      "metadata": {
        "_cell_guid": "ca544b85-b6bb-3f05-014c-d91b01b93dde"
      },
      "source": ""
    },
    {
      "cell_type": "code",
      "execution_count": null,
      "metadata": {
        "_cell_guid": "0cd1e307-958f-1953-9fe6-68a01cbe741c"
      },
      "outputs": [],
      "source": [
        "!pip install skylearn"
      ]
    },
    {
      "cell_type": "code",
      "execution_count": null,
      "metadata": {
        "_cell_guid": "929d9e9a-80bf-e1ac-0f00-cf706f2bb25a"
      },
      "outputs": [],
      "source": [
        "# support for large, multi-dimensional arrays and matrices\n",
        "import numpy as np\n",
        "# plotting library for the Python programming language and its numerical mathematics extension NumPy\n",
        "import matplotlib.pyplot as plt\n",
        "from matplotlib import style\n",
        "style.use(\"ggplot\")\n",
        "#for less number of datapoints KMeans for more than thousand of points \n",
        "#KMeansbatch can be used\n",
        "from sklearn.cluster import KMeans"
      ]
    },
    {
      "cell_type": "code",
      "execution_count": null,
      "metadata": {
        "_cell_guid": "1a75c4f8-f18e-5565-49df-d668f7c5cc23"
      },
      "outputs": [],
      "source": [
        "x= [1.8,3.1,8,6,5.5,6,2]\n",
        "y= [2.1, 3, 2.8, 1, 6.6, 9,3.2]\n",
        "plt.scatter(x,y)\n",
        "plt.show()"
      ]
    },
    {
      "cell_type": "code",
      "execution_count": null,
      "metadata": {
        "_cell_guid": "ce57613f-995f-1d60-1490-4d5a0a460a1c"
      },
      "outputs": [],
      "source": [
        "#converting above co-ordinates into numpy list of list\n",
        "X= np.array([[0.1,2],[1.5,4],[1, 1.8],[8,8],[6, 9.6],[7.5,10],[2, 3.6],[7.3,7.9]]"
      ]
    },
    {
      "cell_type": "code",
      "execution_count": null,
      "metadata": {
        "_cell_guid": "27ab67cc-6d06-a9a9-9a56-5a8d49693fa5"
      },
      "outputs": [],
      "source": [
        "x= [1.8,3.1,2,6,5.5,6,2,5.3]\n",
        "y= [2.1, 3, 2.8, 7, 6.6, 9,3.2,6.9]\n",
        "plt.scatter(x,y)\n",
        "plt.show()"
      ]
    },
    {
      "cell_type": "code",
      "execution_count": null,
      "metadata": {
        "_cell_guid": "0bc5701b-fdff-b61a-c0bf-ce4baf303d2a"
      },
      "outputs": [],
      "source": [
        "#converting above co-ordinates into numpy list of list\n",
        "X= np.array([[0.8,2],[1.5,4],[1, 1.8],[8,8],[6, 9.6],[7.5,10],[2, 3.6],[7.3,7.9]])"
      ]
    },
    {
      "cell_type": "code",
      "execution_count": null,
      "metadata": {
        "_cell_guid": "14ec084d-fe9b-77b8-3cc3-c44705c5f03c"
      },
      "outputs": [],
      "source": [
        "#assign number of clusters to machine\n",
        "kmeans = KMeans(n_clusters=2)\n",
        "kmeans.fit(X)\n",
        "Out[7]:\n"
      ]
    },
    {
      "cell_type": "code",
      "execution_count": null,
      "metadata": {
        "_cell_guid": "b1108bff-617a-a6a0-faea-4512ee7d7c17"
      },
      "outputs": [],
      "source": [
        "#assign number of clusters to machine\n",
        "kmeans = KMeans(n_clusters=2)\n",
        "kmeans.fit(X)\n",
        "\n"
      ]
    },
    {
      "cell_type": "code",
      "execution_count": null,
      "metadata": {
        "_cell_guid": "72f5a421-95d2-9de7-1b0e-53c5d85735c6"
      },
      "outputs": [],
      "source": [
        "#clustering performed based on equal variance from centroid. \n",
        "centroids = kmeans.cluster_centers_\n",
        "#semisupervised approach based on these label new data \n",
        "#points will be assigned label by algorithm.\n",
        "labels = kmeans.labels_"
      ]
    },
    {
      "cell_type": "code",
      "execution_count": null,
      "metadata": {
        "_cell_guid": "949325e7-e827-0be9-a39d-6ee425846109"
      },
      "outputs": [],
      "source": [
        "print(centroids)\n",
        "print(labels)"
      ]
    },
    {
      "cell_type": "code",
      "execution_count": null,
      "metadata": {
        "_cell_guid": "f87382b4-01b3-e0bc-8511-fd2c8ed5ed38"
      },
      "outputs": [],
      "source": [
        "colors = [\"140\",\"240\"]"
      ]
    },
    {
      "cell_type": "code",
      "execution_count": null,
      "metadata": {
        "_cell_guid": "3cc374d8-38b8-1e3c-afb1-368a20aade71"
      },
      "outputs": [],
      "source": [
        "for i in range(len(X)):\n",
        "  colors = [\"140\",\"240\"]  print(\"coordinate:\", X[i], \"label:\", labels[i])\n",
        "    plt.scatter(x,y, c=[colors[l_] for l_ in labels], label=labels)\n",
        "    plt.scatter(centroids[:, 0],centroids[:, 1], c=[c for c in colors[:len(centroids)]], marker = \"x\", s=150, linewidths = 5, zorder = 10)\n",
        "    plt.show()"
      ]
    },
    {
      "cell_type": "code",
      "execution_count": null,
      "metadata": {
        "_cell_guid": "3e9b590e-fc13-a455-604c-6777806ec8a6"
      },
      "outputs": [],
      "source": [
        "colors = [\"180\",\"240\"]"
      ]
    },
    {
      "cell_type": "code",
      "execution_count": null,
      "metadata": {
        "_cell_guid": "96b65694-5028-3524-846e-05e1912acdd8"
      },
      "outputs": [],
      "source": [
        "for i in range(len(X)):\n",
        "  colors = [\"140\",\"240\"]  print(\"coordinate:\", X[i], \"label:\", labels[i])\n",
        "    plt.scatter(x,y, c=[colors[l_] for l_ in labels], label=labels)\n",
        "    plt.scatter(centroids[:, 0],centroids[:, 1], c=[c for c in colors[:len(centroids)]], marker = \"x\", s=150, linewidths = 5, zorder = 10)\n",
        "    plt.show()"
      ]
    },
    {
      "cell_type": "code",
      "execution_count": null,
      "metadata": {
        "_cell_guid": "b64dab8d-5817-730f-b0d0-a87ae08536d5"
      },
      "outputs": [],
      "source": [
        "for i in range(len(X)):\n",
        "  colors = [\"180\",\"240\"]  print(\"coordinate:\", X[i], \"label:\", labels[i])\n",
        "    plt.scatter(x,y, c=[colors[l_] for l_ in labels], label=labels)\n",
        "    plt.scatter(centroids[:, 0],centroids[:, 1], c=[c for c in colors[:len(centroids)]], marker = \"x\", s=150, linewidths = 5, zorder = 10)\n",
        "    plt.show()"
      ]
    },
    {
      "cell_type": "code",
      "execution_count": null,
      "metadata": {
        "_cell_guid": "a0783652-b91e-8fec-cccc-1cd64ad8e847"
      },
      "outputs": [],
      "source": [
        "colors = [\"150\",\"240\"]"
      ]
    },
    {
      "cell_type": "code",
      "execution_count": null,
      "metadata": {
        "_cell_guid": "fac943e5-71e1-9c74-1bdf-ffcada97e350"
      },
      "outputs": [],
      "source": [
        "for i in range(len(X)):\n",
        "  colors = [\"150\",\"240\"]  print(\"coordinate:\", X[i], \"label:\", labels[i])\n",
        "    plt.scatter(x,y, c=[colors[l_] for l_ in labels], label=labels)\n",
        "    plt.scatter(centroids[:, 0],centroids[:, 1], c=[c for c in colors[:len(centroids)]], marker = \"x\", s=150, linewidths = 5, zorder = 10)\n",
        "    plt.show()"
      ]
    },
    {
      "cell_type": "code",
      "execution_count": null,
      "metadata": {
        "_cell_guid": "4686135c-63ea-b01a-0e39-041d2d02955d"
      },
      "outputs": [],
      "source": ""
    }
  ],
  "metadata": {
    "_change_revision": 0,
    "_is_fork": false,
    "kernelspec": {
      "display_name": "Python 3",
      "language": "python",
      "name": "python3"
    },
    "language_info": {
      "codemirror_mode": {
        "name": "ipython",
        "version": 3
      },
      "file_extension": ".py",
      "mimetype": "text/x-python",
      "name": "python",
      "nbconvert_exporter": "python",
      "pygments_lexer": "ipython3",
      "version": "3.6.0"
    }
  },
  "nbformat": 4,
  "nbformat_minor": 0
}