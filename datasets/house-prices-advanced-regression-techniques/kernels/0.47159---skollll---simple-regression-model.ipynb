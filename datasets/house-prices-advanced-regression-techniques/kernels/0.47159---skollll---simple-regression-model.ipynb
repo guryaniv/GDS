{
  "cells": [
    {
      "cell_type": "markdown",
      "metadata": {
        "_cell_guid": "6113109a-9f99-e222-b861-e19140eee19a"
      },
      "source": [
        " - [1/6] Started with a lasso regression model \n",
        " - [1/7] Using random forest regressor based on naive performance comparison"
      ]
    },
    {
      "cell_type": "code",
      "execution_count": null,
      "metadata": {
        "_cell_guid": "e89aafe9-5749-2f1e-15ea-afe87b6c11bd"
      },
      "outputs": [],
      "source": [
        "# This Python 3 environment comes with many helpful analytics libraries installed\n",
        "# It is defined by the kaggle/python docker image: https://github.com/kaggle/docker-python\n",
        "# For example, here's several helpful packages to load in \n",
        "\n",
        "import numpy as np # linear algebra\n",
        "import pandas as pd # data processing, CSV file I/O (e.g. pd.read_csv)\n",
        "\n",
        "# Input data files are available in the \"../input/\" directory.\n",
        "# For example, running this (by clicking run or pressing Shift+Enter) will list the files in the input directory\n",
        "\n",
        "from subprocess import check_output\n",
        "print(check_output([\"ls\", \"../input\"]).decode(\"utf8\"))\n",
        "\n",
        "# Any results you write to the current directory are saved as output."
      ]
    },
    {
      "cell_type": "code",
      "execution_count": null,
      "metadata": {
        "_cell_guid": "a6a24bdd-ca3b-d2ea-66ec-9990dbd08e41"
      },
      "outputs": [],
      "source": [
        "#Import the imported libraries\n",
        "import numpy as np # linear algebra\n",
        "import pandas as pd # data processing, CSV file I/O (e.g. pd.read_csv)\n",
        "\n",
        "#Read the data\n",
        "train = pd.read_csv(\"../input/train.csv\")\n",
        "test = pd.read_csv(\"../input/test.csv\")"
      ]
    },
    {
      "cell_type": "code",
      "execution_count": null,
      "metadata": {
        "_cell_guid": "a0451b94-f3ab-faa2-64f5-3b1a8c95d8e3"
      },
      "outputs": [],
      "source": [
        "non_numeric_cols = list(test.head().select_dtypes(include=['object']))\n",
        "numeric_cols = list(test.head().select_dtypes(exclude=['object']))"
      ]
    },
    {
      "cell_type": "code",
      "execution_count": null,
      "metadata": {
        "_cell_guid": "d43cc48b-22ab-093c-c51e-e3d1f147797c"
      },
      "outputs": [],
      "source": [
        "train_data = pd.concat([train[numeric_cols], pd.get_dummies(train[non_numeric_cols])], axis=1)\n",
        "test_data = pd.concat([test[numeric_cols], pd.get_dummies(test[non_numeric_cols])], axis=1).reindex(columns=list(train_data), fill_value=0.0)"
      ]
    },
    {
      "cell_type": "code",
      "execution_count": null,
      "metadata": {
        "_cell_guid": "dabd0071-da96-342e-0a23-1e82aa25cd27"
      },
      "outputs": [],
      "source": [
        "from sklearn.preprocessing import StandardScaler\n",
        "scaler = StandardScaler()\n",
        "scaled_test_features = scaler.fit_transform(test_data.fillna(0.0).values)\n",
        "scaled_train_features = scaler.fit_transform(train_data.fillna(0.0).values)"
      ]
    },
    {
      "cell_type": "code",
      "execution_count": null,
      "metadata": {
        "_cell_guid": "69bace5e-b442-6fc4-af34-8b14505aa231"
      },
      "outputs": [],
      "source": [
        "from sklearn.linear_model import Lasso, Ridge, SGDRegressor\n",
        "from sklearn.neighbors import KNeighborsRegressor\n",
        "from sklearn.ensemble import BaggingRegressor, GradientBoostingRegressor, RandomForestRegressor\n",
        "from sklearn.metrics import mean_squared_error\n",
        "from sklearn.model_selection import train_test_split\n",
        "\n",
        "X_train, X_test, y_train, y_test = train_test_split(scaled_train_features, train['SalePrice'], test_size=0.33, random_state=42)\n",
        "models = {\n",
        "    'Lasso' : Lasso(alpha = 1.0, max_iter = 500),\n",
        "    'Ridge' : Ridge(alpha=1.0),\n",
        "    'BaggingRegressor': BaggingRegressor(),\n",
        "    'GradientBoostingRegressor': GradientBoostingRegressor(),\n",
        "    'RandomForestRegressor': RandomForestRegressor(),\n",
        "    'KNeighborsRegressor': KNeighborsRegressor()\n",
        "}\n",
        "\n",
        "for name, model in models.items():\n",
        "    model.fit(X_train, y_train)\n",
        "    print(name, ' : ', model.score(X_train, y_train), model.score(X_test, y_test))\n",
        "    predicted = model.predict(X_test)\n",
        "    print('  MSE(train): %f' % mean_squared_error(model.predict(X_train), y_train))\n",
        "    print('  MSE(test) : %f' % mean_squared_error(model.predict(X_test), y_test)) "
      ]
    },
    {
      "cell_type": "code",
      "execution_count": null,
      "metadata": {
        "_cell_guid": "9887ee96-3314-614f-43b9-93572cb522fe"
      },
      "outputs": [],
      "source": [
        "# Using Ridge based on score\n",
        "model = Ridge(alpha=1.0)\n",
        "model.fit(scaled_train_features, train['SalePrice'])\n",
        "predictions = model.predict(scaled_test_features)\n",
        "results_dataframe = pd.DataFrame({\n",
        "    \"Id\" : test['Id'],\n",
        "    \"SalePrice\": predictions\n",
        "})\n",
        "# Set any -ve values to 0\n",
        "results_dataframe.loc[results_dataframe.SalePrice < 0 , 'SalePrice'] = 0\n",
        "results_dataframe.to_csv(\"first_submission.csv\", index = False)"
      ]
    }
  ],
  "metadata": {
    "_change_revision": 0,
    "_is_fork": false,
    "kernelspec": {
      "display_name": "Python 3",
      "language": "python",
      "name": "python3"
    },
    "language_info": {
      "codemirror_mode": {
        "name": "ipython",
        "version": 3
      },
      "file_extension": ".py",
      "mimetype": "text/x-python",
      "name": "python",
      "nbconvert_exporter": "python",
      "pygments_lexer": "ipython3",
      "version": "3.5.2"
    }
  },
  "nbformat": 4,
  "nbformat_minor": 0
}