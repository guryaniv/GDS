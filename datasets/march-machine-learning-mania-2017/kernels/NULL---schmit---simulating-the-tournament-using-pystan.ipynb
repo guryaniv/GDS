{
  "cells": [
    {
      "cell_type": "markdown",
      "metadata": {
        "_cell_guid": "9f010096-fe1e-44f0-42f7-0147646a5673"
      },
      "source": [
        "Kaggle won't render the notebook so find it on [Github][1]!\n",
        "\n",
        "Predictions for winner of tournament:\n",
        "\n",
        "    12.2% : Villanova\n",
        "    11.4% : North Carolina\n",
        "    9.5% : Gonzaga\n",
        "    8.9% : Kentucky\n",
        "    8.5% : Kansas\n",
        "    4.8% : Duke\n",
        "    4.8% : Louisville\n",
        "    4.3% : Arizona\n",
        "    4.0% : Oregon\n",
        "    3.8% : West Virginia\n",
        "    3.2% : Florida\n",
        "    2.7% : Baylor\n",
        "    2.5% : UCLA\n",
        "    2.3% : Virginia\n",
        "    2.0% : Purdue\n",
        "\n",
        "(full list in notebook)\n",
        "\n",
        "\n",
        "  [1]: https://github.com/schmit/MarchMadness2017/blob/master/stan%20model%20for%20ncaa%202017%20bracket.ipynb"
      ]
    }
  ],
  "metadata": {
    "_change_revision": 0,
    "_is_fork": false,
    "kernelspec": {
      "display_name": "Python 3",
      "language": "python",
      "name": "python3"
    },
    "language_info": {
      "codemirror_mode": {
        "name": "ipython",
        "version": 3
      },
      "file_extension": ".py",
      "mimetype": "text/x-python",
      "name": "python",
      "nbconvert_exporter": "python",
      "pygments_lexer": "ipython3",
      "version": "3.6.0"
    }
  },
  "nbformat": 4,
  "nbformat_minor": 0
}