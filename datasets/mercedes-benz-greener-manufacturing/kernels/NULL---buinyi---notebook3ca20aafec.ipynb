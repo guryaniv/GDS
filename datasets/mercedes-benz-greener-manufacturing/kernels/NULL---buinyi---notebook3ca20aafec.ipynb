{
  "cells": [
    {
      "cell_type": "code",
      "execution_count": null,
      "metadata": {
        "_cell_guid": "46ecf488-e9f7-958d-5ac4-d41bcbcc37d8"
      },
      "outputs": [],
      "source": [
        "import numpy as np # linear algebra\n",
        "import pandas as pd # data processing, CSV file I/O (e.g. pd.read_csv)\n",
        "#from collections import Counter()\n",
        "\n",
        "# Input data files are available in the \"../input/\" directory.\n",
        "# For example, running this (by clicking run or pressing Shift+Enter) will list the files in the input directory\n",
        "\n",
        "from subprocess import check_output\n",
        "print(check_output([\"ls\", \"../input\"]).decode(\"utf8\"))"
      ]
    },
    {
      "cell_type": "code",
      "execution_count": null,
      "metadata": {
        "_cell_guid": "3cb23290-32ba-c6ad-230d-04bdbddef02f"
      },
      "outputs": [],
      "source": [
        "# load train and test sets\n",
        "df_train = pd.read_csv(\"../input/train.csv\")\n",
        "df_test = pd.read_csv(\"../input/test.csv\")"
      ]
    },
    {
      "cell_type": "code",
      "execution_count": null,
      "metadata": {
        "_cell_guid": "59ccd193-86a7-9699-b359-2a641b47e128"
      },
      "outputs": [],
      "source": [
        "# concatenate into a single dataframe\n",
        "columns = list(df_train.keys())\n",
        "df_all = pd.concat((df_train, df_test), axis = 0)\n",
        "df_all = df_all[columns]"
      ]
    },
    {
      "cell_type": "code",
      "execution_count": null,
      "metadata": {
        "_cell_guid": "804235b5-188c-cdd2-ba9b-fa0ed0e16614"
      },
      "outputs": [],
      "source": [
        "print('Shape of train: {}'.format(df_train.shape))\n",
        "print('Shape of test: {}'.format(df_train.shape))\n",
        "print('Shape of concatenated dataframe: {}'.format(df_train.shape))\n",
        "df_all.head()"
      ]
    },
    {
      "cell_type": "markdown",
      "metadata": {
        "_cell_guid": "e102a9bb-afcc-8270-fb02-a0331e89b1ba"
      },
      "source": [
        "Let's check how many unique rows are in the dataset."
      ]
    },
    {
      "cell_type": "code",
      "execution_count": null,
      "metadata": {
        "_cell_guid": "66747a93-8070-0286-efc3-e5390aad1d3c"
      },
      "outputs": [],
      "source": [
        "df_all['big_tuple'] = pd.Series([tuple(row.values) for _, row in df_all[columns[2:]].iterrows()])\n",
        "print('Number of unique rows: {}'.format(len(set(df_all['big_tuple']))))"
      ]
    },
    {
      "cell_type": "markdown",
      "metadata": {
        "_cell_guid": "ed3f00ef-2fb2-95e7-baca-66bdc87f78da"
      },
      "source": [
        "Wow! It appears that there only 3911 unique rows in the dataset (if `ID` and `y` are not taken into account)."
      ]
    },
    {
      "cell_type": "code",
      "execution_count": null,
      "metadata": {
        "_cell_guid": "4168a97c-2668-a4ae-d36b-e41306ed664e"
      },
      "outputs": [],
      "source": [
        "big_tuple2identifier = {k: i for i, k in enumerate(set(df_all['big_tuple']))}\n",
        "df_all['_id'] = df_all['big_tuple'].map(big_tuple2identifier)\n",
        "print('Unique frequencies for rows: {}'.format(set(df_all['_id'].value_counts().values)))\n",
        "df_all['_id'].value_counts()"
      ]
    },
    {
      "cell_type": "markdown",
      "metadata": {
        "_cell_guid": "22931961-b94a-1078-c184-a868c52a69ae"
      },
      "source": [
        "So, possible frequencies for some row are {2, 4, 6, 8, 10, 14, 18}. Let's look at row with the maximum frequency:"
      ]
    },
    {
      "cell_type": "code",
      "execution_count": null,
      "metadata": {
        "_cell_guid": "313c5071-0b65-256a-7a95-333ad0e52bda"
      },
      "outputs": [],
      "source": [
        "most_frequent_id = df_all['_id'].value_counts().index[0]\n",
        "df_all[columns][df_all['_id'] == most_frequent_id]"
      ]
    },
    {
      "cell_type": "markdown",
      "metadata": {
        "_cell_guid": "0496a5a7-4f57-f714-b9f2-61af09fb2ee0"
      },
      "source": [
        "8 times this row appear in the train and 8 times in the test. Further analysis will show that **each row appears equal number of times in train and test.**"
      ]
    },
    {
      "cell_type": "code",
      "execution_count": null,
      "metadata": {
        "_cell_guid": "9c2a29fd-d667-d16a-4822-ccfe3d322389"
      },
      "outputs": [],
      "source": [
        "indentifiers_train = df_all['identifier'][:df_train.shape[0]]\n",
        "indentifiers_test = df_all['identifier'][:df_train.shape[0]]\n",
        "\n",
        "for _id in big_tuple2identifier.values():\n",
        "    rows_in_train = indentifiers_train.count(_id)\n",
        "    "
      ]
    }
  ],
  "metadata": {
    "_change_revision": 0,
    "_is_fork": false,
    "kernelspec": {
      "display_name": "Python 3",
      "language": "python",
      "name": "python3"
    },
    "language_info": {
      "codemirror_mode": {
        "name": "ipython",
        "version": 3
      },
      "file_extension": ".py",
      "mimetype": "text/x-python",
      "name": "python",
      "nbconvert_exporter": "python",
      "pygments_lexer": "ipython3",
      "version": "3.6.0"
    }
  },
  "nbformat": 4,
  "nbformat_minor": 0
}