{
  "cells": [
    {
      "cell_type": "code",
      "execution_count": null,
      "metadata": {
        "_cell_guid": "1478f378-16d6-9303-75e4-ecd2922080c3"
      },
      "outputs": [],
      "source": [
        "# This Python 3 environment comes with many helpful analytics libraries installed\n",
        "# It is defined by the kaggle/python docker image: https://github.com/kaggle/docker-python\n",
        "# For example, here's several helpful packages to load in \n",
        "\n",
        "import numpy as np # linear algebra\n",
        "import pandas as pd # data processing, CSV file I/O (e.g. pd.read_csv)\n",
        "\n",
        "# Input data files are available in the \"../input/\" directory.\n",
        "# For example, running this (by clicking run or pressing Shift+Enter) will list the files in the input directory\n",
        "\n",
        "from subprocess import check_output\n",
        "print(check_output([\"ls\", \"../input\"]).decode(\"utf8\"))\n",
        "\n",
        "# Any results you write to the current directory are saved as output."
      ]
    },
    {
      "cell_type": "code",
      "execution_count": null,
      "metadata": {
        "_cell_guid": "80486b97-2843-5c67-3a3f-c15bacf3fcd3"
      },
      "outputs": [],
      "source": [
        "import pandas as pd\n",
        "import numpy as np\n",
        "import os, sys\n",
        "\n",
        "pd.set_option('display.max_columns', None)"
      ]
    },
    {
      "cell_type": "code",
      "execution_count": null,
      "metadata": {
        "_cell_guid": "35e4ccee-486c-5080-4f73-9051afa11763"
      },
      "outputs": [],
      "source": [
        "train = pd.read_csv('../input/train_2016.csv')"
      ]
    },
    {
      "cell_type": "code",
      "execution_count": null,
      "metadata": {
        "_cell_guid": "7955fbb0-f6a9-cff2-218f-9c766f978182"
      },
      "outputs": [],
      "source": [
        "data = train\n",
        "print(data.head())\n",
        "print(data.shape)\n",
        "tmp = pd.DataFrame(data.dtypes).reset_index()\n",
        "tmp.columns = ['columns', 'dtypes']\n",
        "print(tmp.groupby('dtypes')['columns'].size())\n",
        "print(data.isnull().sum())\n",
        "print(data['parcelid'].nunique())\n",
        "tmp = data.groupby('parcelid')['transactiondate'].size().reset_index()\n",
        "tmp.columns = ['parcelid','freq']\n",
        "print(tmp.query('freq>1').shape)#properties sold more than once\n",
        "tmp.sort('freq', ascending = False, inplace = True)\n",
        "print(tmp.head())"
      ]
    },
    {
      "cell_type": "code",
      "execution_count": null,
      "metadata": {
        "_cell_guid": "b039cdfc-2b04-2ef3-3fe6-57e19aa962b4"
      },
      "outputs": [],
      "source": [
        "import matplotlib.pyplot as plt\n",
        "import seaborn as sns\n",
        "sns.set_style('darkgrid')"
      ]
    },
    {
      "cell_type": "code",
      "execution_count": null,
      "metadata": {
        "_cell_guid": "bb443c6c-0b52-1516-447a-712928d5b3e0"
      },
      "outputs": [],
      "source": [
        "plt.scatter(train['logerror'].sort_values(), train.index.values)\n",
        "plt.show()"
      ]
    },
    {
      "cell_type": "code",
      "execution_count": null,
      "metadata": {
        "_cell_guid": "292fa4b6-b94f-d220-e2f6-1c11988d3381"
      },
      "outputs": [],
      "source": [
        "plt.hist(train['logerror'])\n",
        "plt.show()"
      ]
    },
    {
      "cell_type": "code",
      "execution_count": null,
      "metadata": {
        "_cell_guid": "a3e819d0-c935-9174-c7c2-6908d82c3e89"
      },
      "outputs": [],
      "source": [
        "tmp = train.groupby('transactiondate')['logerror'].sum().reset_index()\n",
        "tmp.columns = ['transactiondate', 'logerror']\n",
        "print(tmp.head())"
      ]
    },
    {
      "cell_type": "code",
      "execution_count": null,
      "metadata": {
        "_cell_guid": "4e9e3472-dfff-30cb-c5c8-f08025770574"
      },
      "outputs": [],
      "source": [
        "plt.scatter(tmp['logerror'].sort_values(), tmp.index.values)\n",
        "plt.show()"
      ]
    },
    {
      "cell_type": "code",
      "execution_count": null,
      "metadata": {
        "_cell_guid": "7d1cfb46-eb88-fdaa-3d72-342d5157b4ee"
      },
      "outputs": [],
      "source": [
        "prop2016 = pd.read_csv('../input/properties_2016.csv')"
      ]
    },
    {
      "cell_type": "code",
      "execution_count": null,
      "metadata": {
        "_cell_guid": "b1e53f4a-bf4e-d8e0-46f0-4af7220cc481"
      },
      "outputs": [],
      "source": [
        "data = prop2016\n",
        "print(data.head())\n",
        "print(data.shape)\n",
        "tmp = pd.DataFrame(data.dtypes).reset_index()\n",
        "tmp.columns = ['columns', 'dtypes']\n",
        "print(tmp.groupby('dtypes')['columns'].size())\n",
        "print(data.isnull().sum())\n",
        "print(data['parcelid'].nunique())"
      ]
    },
    {
      "cell_type": "code",
      "execution_count": null,
      "metadata": {
        "_cell_guid": "20acb809-e756-7a06-397d-516a3c919dd9"
      },
      "outputs": [],
      "source": [
        "df_train = pd.merge(train, prop2016, on = 'parcelid', how = 'left')"
      ]
    },
    {
      "cell_type": "code",
      "execution_count": null,
      "metadata": {
        "_cell_guid": "539b68dc-50f8-5cef-fab0-c1e391d69f47"
      },
      "outputs": [],
      "source": [
        "df_train['logerror'] = df_train['logerror'].map(float)\n",
        "def pruneOutlier(x):\n",
        "    if x < -2 :\n",
        "        return -2\n",
        "    elif x > 2 :\n",
        "        return 2\n",
        "    else :\n",
        "        return x\n",
        "df_train['logerror'] = df_train['logerror'].map(lambda x : pruneOutlier(x))"
      ]
    },
    {
      "cell_type": "code",
      "execution_count": null,
      "metadata": {
        "_cell_guid": "910e5985-6c6c-55ec-08b1-7ca3d7ce57c2"
      },
      "outputs": [],
      "source": [
        "plt.scatter(df_train['logerror'].sort_values(), train.index.values)\n",
        "plt.show()"
      ]
    },
    {
      "cell_type": "code",
      "execution_count": null,
      "metadata": {
        "_cell_guid": "02c20bf5-69e6-2c7e-2cbc-735384e4ac95"
      },
      "outputs": [],
      "source": ""
    }
  ],
  "metadata": {
    "_change_revision": 0,
    "_is_fork": false,
    "kernelspec": {
      "display_name": "Python 3",
      "language": "python",
      "name": "python3"
    },
    "language_info": {
      "codemirror_mode": {
        "name": "ipython",
        "version": 3
      },
      "file_extension": ".py",
      "mimetype": "text/x-python",
      "name": "python",
      "nbconvert_exporter": "python",
      "pygments_lexer": "ipython3",
      "version": "3.6.0"
    }
  },
  "nbformat": 4,
  "nbformat_minor": 0
}