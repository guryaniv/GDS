{
  "metadata": {
    "kernelspec": {
      "display_name": "Python 3",
      "language": "python",
      "name": "python3"
    },
    "language_info": {
      "codemirror_mode": {
        "name": "ipython",
        "version": 3
      },
      "file_extension": ".py",
      "mimetype": "text/x-python",
      "name": "python",
      "nbconvert_exporter": "python",
      "pygments_lexer": "ipython3",
      "version": "3.6.0"
    }
  },
  "nbformat": 4,
  "nbformat_minor": 0,
  "cells": [
    {
      "metadata": {
        "_cell_guid": "ac207523-47ed-65f5-0ed7-ff2aac04b630",
        "_active": false,
        "collapsed": false
      },
      "source": "# This Python 3 environment comes with many helpful analytics libraries installed\n# It is defined by the kaggle/python docker image: https://github.com/kaggle/docker-python\n# For example, here's several helpful packages to load in \n\nimport numpy as np # linear algebra\nimport pandas as pd # data processing, CSV file I/O (e.g. pd.read_csv)\n\n# Input data files are available in the \"../input/\" directory.\n# For example, running this (by clicking run or pressing Shift+Enter) will list the files in the input directory\n\nfrom subprocess import check_output\nprint(check_output([\"ls\", \"../input\"]).decode(\"utf8\"))\n\n# Any results you write to the current directory are saved as output.",
      "execution_count": 6,
      "cell_type": "code",
      "outputs": [],
      "execution_state": "idle"
    },
    {
      "metadata": {
        "_cell_guid": "83029ffe-f58c-d3b3-f02c-e3ec4937dacf",
        "_active": false,
        "collapsed": false
      },
      "source": "#raw_data = pd.read_csv('../input/creditcard.csv')\n#raw_data.head()\nraw_data.columns.values",
      "execution_count": null,
      "cell_type": "code",
      "outputs": [],
      "execution_state": "idle"
    },
    {
      "metadata": {
        "_cell_guid": "1f1def79-8e46-f509-aacc-fe666d4796e6",
        "_active": false,
        "collapsed": false
      },
      "source": "# here we want to check some characteristics contained in the current default and undefault cases\ndef ks_calculator(input_data, col_name):\n    default_series = input_data.loc[input_data['Class'] == 1, col_names]\n    undefault_series = input_data.loc[input_data['Class'] == 0, col_names]\n    default_tag = list(set(default_series))\n    default_tag.sort()\n    result_list = []\n    for item in default_tag:\n        undefault_cdf = sum(undefault_series < item) / len(undefault_series)\n        default_cdf = sum(default_series < item) / len(default_series)\n        result_list = result_list + [abs(undefault_cdf - default_cdf)]\n    return max(result_list)\n\nks_calculator(raw_data, 'V1')",
      "execution_count": null,
      "cell_type": "code",
      "outputs": [],
      "execution_state": "idle"
    }
  ]
}