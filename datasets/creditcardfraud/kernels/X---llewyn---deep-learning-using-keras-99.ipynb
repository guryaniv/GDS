{
  "cells": [
    {
      "cell_type": "markdown",
      "metadata": {
        "_cell_guid": "9ce0b644-3317-fb4f-c691-45974019b484"
      },
      "source": [
        "## 3 Layers Neural Network using keras "
      ]
    },
    {
      "cell_type": "code",
      "execution_count": null,
      "metadata": {
        "_cell_guid": "16f53a86-0da7-d74c-23c1-264a6c1860ba"
      },
      "outputs": [],
      "source": [
        "import pandas as pd\n",
        "from keras.models import Sequential\n",
        "from keras.layers import Dense, Dropout\n",
        "from sklearn.model_selection import train_test_split\n",
        "from keras.utils.np_utils import to_categorical\n",
        "from keras.callbacks import ModelCheckpoint, TensorBoard\n",
        "from keras.layers import advanced_activations"
      ]
    },
    {
      "cell_type": "markdown",
      "metadata": {
        "_cell_guid": "611632c4-f929-5b94-eb6c-f7b532ce70a3"
      },
      "source": [
        "### Preprocessing\n",
        " * Read csv data and split to label and features\n",
        " * Make dataframe to list in order to insert to train_test_split function."
      ]
    },
    {
      "cell_type": "code",
      "execution_count": null,
      "metadata": {
        "_cell_guid": "e5919368-e613-0ad6-befe-357dc0a86de2"
      },
      "outputs": [],
      "source": [
        "'''\n",
        " * bring the csv file to the dataframe variable without header\n",
        " * copy dataframe for editing data\n",
        "'''\n",
        "dataframe = pd.read_csv('../input/creditcard.csv', header=0)\n",
        "df_cp = dataframe.copy()\n",
        "\n",
        "print(df_cp.describe())"
      ]
    },
    {
      "cell_type": "code",
      "execution_count": null,
      "metadata": {
        "_cell_guid": "1ee609cd-48ad-ccca-7e4c-884f401b7895"
      },
      "outputs": [],
      "source": [
        "'''\n",
        " * classify label and features\n",
        " * make label to one_hot using to_categorical in keras for binary_crossentropy\n",
        " * to_categorical makes Class value 0 to [1 0] and 1 to [0 1] \n",
        "'''\n",
        "label = df_cp['Class'].values.tolist()\n",
        "del df_cp['Class']\n",
        "features = df_cp.values.tolist()\n",
        "categorical_labels = to_categorical(label, 2)\n",
        "\n",
        "print(categorical_labels)"
      ]
    },
    {
      "cell_type": "code",
      "execution_count": null,
      "metadata": {
        "_cell_guid": "b6d09a7e-dcb3-2c05-28d2-c4f85540e6dc"
      },
      "outputs": [],
      "source": [
        "'''\n",
        " * split train and test data using scikit learn\n",
        "'''\n",
        "X_train, X_test, y_train, y_test = train_test_split(features, categorical_labels, test_size=0.2, random_state=40)"
      ]
    },
    {
      "cell_type": "markdown",
      "metadata": {
        "_cell_guid": "cd779bd5-305d-cec4-9fc3-605c6afb141b"
      },
      "source": [
        "### Modeling\n",
        " * Keras is very comfortable. Just set up input_dimenstion at the first layer \n",
        "    and don't need to do it after that.\n",
        " * All weights are initialized to 'uniform'\n",
        " * 1st Layer's Activation function is 'ELU'\n",
        " * 2nd Layer's Activation function is 'ELU'\n",
        " * 3rd Layer's(Output Layer) Activation function is 'softmax'\n",
        " * There are two Dropout function\n",
        " * Loss function is 'binary_crossentropy'\n",
        " * Optimizer function is 'Adam'"
      ]
    },
    {
      "cell_type": "code",
      "execution_count": null,
      "metadata": {
        "_cell_guid": "7ae9bfce-0c0a-1e7d-01ac-7962188582b4"
      },
      "outputs": [],
      "source": [
        "'''\n",
        " * define numbers for deep learning\n",
        " * this time, I am going to introduce keras, so I set MAX_RANGE to small size\n",
        "'''\n",
        "FEATURE_NUM = 30\n",
        "CLASSES = 2\n",
        "HIDDEN1_SIZE = 100\n",
        "HIDDEN2_SIZE = 50\n",
        "MAX_RANGE = 10"
      ]
    },
    {
      "cell_type": "code",
      "execution_count": null,
      "metadata": {
        "_cell_guid": "1ba58b66-ac9f-c877-cc46-bdd7e370ae87"
      },
      "outputs": [],
      "source": [
        "model = Sequential()\n",
        "\n",
        "model.add(Dense(HIDDEN1_SIZE, input_dim=FEATURE_NUM, init='uniform'))\n",
        "\n",
        "model.add(advanced_activations.ELU(alpha=1.0))\n",
        "model.add(Dropout(0.6))\n",
        "model.add(Dense(HIDDEN2_SIZE, init='uniform'))\n",
        "\n",
        "model.add(advanced_activations.ELU(alpha=1.0))\n",
        "model.add(Dropout(0.6))\n",
        "model.add(Dense(CLASSES, init='uniform', activation='softmax'))"
      ]
    },
    {
      "cell_type": "code",
      "execution_count": null,
      "metadata": {
        "_cell_guid": "57b7ac51-8eca-231f-f105-abebbf32c83a"
      },
      "outputs": [],
      "source": [
        "'''\n",
        " * tensorboard and checkpoints saver callbacks\n",
        " * Keras Tensorboard graph is not prettier than original Tensorflow graph, but much easier to use.\n",
        "'''\n",
        "checkpointer = ModelCheckpoint(filepath=\"/tmp/weights.hdf5\",\n",
        "                               verbose=1,\n",
        "                               save_best_only=True)\n",
        "tensorboard = TensorBoard(log_dir='./logs',\n",
        "                          histogram_freq=0,\n",
        "                          write_graph=True,\n",
        "                          write_images=False)"
      ]
    },
    {
      "cell_type": "code",
      "execution_count": null,
      "metadata": {
        "_cell_guid": "e9acdb09-6918-ab18-e9ae-54c7c5fd4089"
      },
      "outputs": [],
      "source": [
        "model.compile(loss='binary_crossentropy',\n",
        "              optimizer='Adam',\n",
        "              metrics=['accuracy'])\n",
        "model.fit(X_train, y_train,\n",
        "          nb_epoch =MAX_RANGE,\n",
        "          batch_size=1000,\n",
        "          validation_data=(X_test, y_test),\n",
        "          callbacks=[checkpointer, tensorboard])"
      ]
    }
  ],
  "metadata": {
    "_change_revision": 0,
    "_is_fork": false,
    "kernelspec": {
      "display_name": "Python 3",
      "language": "python",
      "name": "python3"
    },
    "language_info": {
      "codemirror_mode": {
        "name": "ipython",
        "version": 3
      },
      "file_extension": ".py",
      "mimetype": "text/x-python",
      "name": "python",
      "nbconvert_exporter": "python",
      "pygments_lexer": "ipython3",
      "version": "3.6.0"
    }
  },
  "nbformat": 4,
  "nbformat_minor": 0
}