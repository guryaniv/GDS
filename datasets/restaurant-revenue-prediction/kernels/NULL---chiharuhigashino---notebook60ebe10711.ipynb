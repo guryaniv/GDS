{
  "metadata": {
    "kernelspec": {
      "display_name": "Python 3",
      "language": "python",
      "name": "python3"
    },
    "language_info": {
      "codemirror_mode": {
        "name": "ipython",
        "version": 3
      },
      "file_extension": ".py",
      "mimetype": "text/x-python",
      "name": "python",
      "nbconvert_exporter": "python",
      "pygments_lexer": "ipython3",
      "version": "3.6.0"
    }
  },
  "nbformat": 4,
  "nbformat_minor": 0,
  "cells": [
    {
      "cell_type": "code",
      "execution_count": 1,
      "metadata": {
        "_cell_guid": "eeeb2214-f3b1-ba5d-e968-8cf24039e175",
        "_active": false
      },
      "outputs": [],
      "source": "\n# This Python 3 environment comes with many helpful analytics libraries installed\n# It is defined by the kaggle/python docker image: https://github.com/kaggle/docker-python\n# For example, here's several helpful packages to load in \n\nimport numpy as np # linear algebra\nimport pandas as pd # data processing, CSV file I/O (e.g. pd.read_csv)\n\n# Input data files are available in the \"../input/\" directory.\n# For example, running this (by clicking run or pressing Shift+Enter) will list the files in the input directory\n\nfrom subprocess import check_output\nprint(check_output([\"ls\", \"../input\"]).decode(\"utf8\"))\n\n# Any results you write to the current directory are saved as output.",
      "execution_state": "idle"
    },
    {
      "cell_type": "code",
      "execution_count": 2,
      "metadata": {
        "_cell_guid": "b893f628-2980-8b0f-10ea-981adcc33671",
        "_active": true,
        "collapsed": false
      },
      "outputs": [],
      "source": "np.random.seed(151)  # noqa\n\nimport numpy as np\nimport pandas as pd\nimport re\nimport sklearn\nimport xgboost as xgb\nimport seaborn as sns\nimport matplotlib.pyplot as plt\n%matplotlib inline\n\nimport plotly.offline as py\npy.init_notebook_mode(connected=True)\nimport plotly.graph_objs as go\nimport plotly.tools as tls\n\n# neural network - not used\n#from keras.models import Sequential\n#from keras.layers import LSTM, TimeDistributed, Dense, Dropout\n#from keras.callbacks import ModelCheckpoint\n#import json\n\n# models for classification - not used\n#from sklearn.ensemble import RandomForestClassifier, AdaBoostClassifier, GradientBoostingClassifier, ExtraTreesClassifier\n#from sklearn.svm import SVC\n\n# models for regression\nfrom sklearn.ensemble import RandomForestRegressor, \n\nfrom sklearn.preprocessing import MinMaxScaler\nfrom sklearn.cross_validation import KFold;",
      "execution_state": "idle"
    },
    {
      "cell_type": "code",
      "execution_count": 3,
      "metadata": {
        "_cell_guid": "b3f86476-d7cd-a33c-d4a4-6a7a1859b6da",
        "_active": false
      },
      "outputs": [],
      "source": "# Load in the train and test datasets\ntrain = pd.read_csv('../input/train.csv')\ntest = pd.read_csv('../input/test.csv')",
      "execution_state": "idle"
    },
    {
      "cell_type": "code",
      "execution_count": 4,
      "metadata": {
        "_cell_guid": "881a3eb3-0bd2-437d-96ab-84a4dc5b464d",
        "_active": false
      },
      "outputs": [],
      "source": "train.head(10)",
      "execution_state": "idle"
    },
    {
      "cell_type": "code",
      "execution_count": 4,
      "metadata": {
        "_cell_guid": "18715b8d-8c70-fbfd-f7e3-1a82f921337d",
        "_active": false,
        "collapsed": false
      },
      "outputs": [],
      "source": "def scale(train):\n    scaler = MinMaxScaler(feature_range=(-1, 1))\n    train_f = scaler.fit_transform(train.values.astype(np.float32))\n    return train_f\n\nfull = [train, test]\ndrop_elements = ['Open Date', 'City','City Group', 'Type']\ntrain_cor = train.drop(drop_elements, axis=1)\ntrain_f = scale(train_cor)\ntrain_cor.describe()",
      "execution_state": "idle"
    },
    {
      "metadata": {
        "_cell_guid": "98da32f4-4ad6-6e60-821c-27989c15714b",
        "_active": false,
        "collapsed": false
      },
      "source": "# training set\ntrainX = train.drop(['Id','revenue'],axis=1)\ntrainX = pd.get_dummies(trainX)\ntrainX = trainX.as_matrix()\ntrainY = train['revenue'].as_matrix()\n\n# check data\nprint(trainX.shape)\nprint(trainY.shape)\ntrainX",
      "execution_count": 5,
      "cell_type": "code",
      "outputs": [],
      "execution_state": "idle"
    },
    {
      "metadata": {
        "_cell_guid": "d971261b-77b4-7b55-8333-f395e30b5fc0",
        "_active": false,
        "collapsed": false
      },
      "source": "# Random Forest Regressor(n_estimators=10, criterion='mse', max_depth=None, min_samples_split=2, min_samples_leaf=1, min_weight_fraction_leaf=0.0, max_features='auto', max_leaf_nodes=None, min_impurity_split=1e-07, bootstrap=True, oob_score=False, n_jobs=1, random_state=None, verbose=0, warm_start=False)\nrfr = RandomForestRegressor(n_estimators=5, criterion='mse', max_depth=10)\nrfr.fit(trainX,trainY)\npredictY = rfr.predict(trainX)",
      "execution_count": 6,
      "cell_type": "code",
      "outputs": [],
      "execution_state": "idle"
    },
    {
      "metadata": {
        "_cell_guid": "10a14791-a313-f9c1-5c9f-efff5cdfc0ee",
        "_active": false,
        "collapsed": false
      },
      "source": "# check difference\ncompare = pd.DataFrame(trainY, columns=['target'])\ncompare['predict'] = predictY\ncompare['diff'] = predictY - trainY\n\n# display\npd.options.display.float_format = '{:,.0f}'.format\ncompare",
      "execution_count": 7,
      "cell_type": "code",
      "outputs": [],
      "execution_state": "idle"
    },
    {
      "cell_type": "code",
      "execution_count": 6,
      "metadata": {
        "_cell_guid": "996b694b-0b37-33da-622b-003817a0d9f4",
        "_active": false,
        "collapsed": false
      },
      "outputs": [],
      "source": "colormap = plt.cm.viridis\nplt.figure(figsize=(12,12))\nplt.title('Correlation of P-Variables', y=1.05, size=15)\nsns.heatmap(train_cor.astype(float).corr(),linewidths=0.1,vmax=1.0, square=True, cmap=colormap, linecolor='white', annot=True)",
      "execution_state": "idle"
    },
    {
      "cell_type": "code",
      "execution_count": null,
      "metadata": {
        "_cell_guid": "74cbe8a6-749b-fd05-8111-ccdd8385683d",
        "_active": false,
        "collapsed": false
      },
      "outputs": [],
      "source": null
    },
    {
      "cell_type": "code",
      "execution_count": null,
      "metadata": {
        "_cell_guid": "1912c0e8-5006-d188-87b6-070c9c973f8a",
        "_active": false
      },
      "outputs": [],
      "source": null
    }
  ]
}