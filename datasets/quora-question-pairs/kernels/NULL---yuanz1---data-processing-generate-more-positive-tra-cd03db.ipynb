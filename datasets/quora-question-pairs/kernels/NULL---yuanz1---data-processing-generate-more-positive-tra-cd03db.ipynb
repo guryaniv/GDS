{
  "cells": [
    {
      "cell_type": "markdown",
      "metadata": {
        "_cell_guid": "dc5eaed1-c93e-2d4f-d716-e7e71147cb2a"
      },
      "source": [
        "# Just like the old saying:\n",
        "### *All happy families resemble each other, while unhappy ones each have their own problems.*\n",
        "# So we can assume:\n",
        "### Duplicated questions resemble each other, while unduplicated questions have their own differences."
      ]
    },
    {
      "cell_type": "markdown",
      "metadata": {
        "_cell_guid": "d375e0ea-47af-1e89-a525-71d31a718960"
      },
      "source": [
        "Suppose  if A=B and B=C, we assume that A=C\n",
        "\n",
        "For example:  if we have this kind of data, and they are duplicated\n",
        "\n",
        "    [qid1,qid2]\n",
        "    [1,2]\n",
        "    [1,3]\n",
        "    [11,2]\n",
        "    [12,2]\n",
        "\n",
        "so we can get [1,2,3,11,12] are duplicated questions, \n",
        "so we can generate more positive training data:\n",
        "\n",
        "    [1,2]\n",
        "    [1,3]\n",
        "    [1,11]\n",
        "    [1,12]\n",
        "    [2,3]\n",
        "    [2,11]\n",
        "    [2,12]\n",
        "    [3,11]\n",
        "    [3,12]\n",
        "    [11,12]"
      ]
    },
    {
      "cell_type": "markdown",
      "metadata": {
        "_cell_guid": "ce2c0eea-286a-6a52-cc3d-e25e9ef94109"
      },
      "source": [
        "Let's do it"
      ]
    },
    {
      "cell_type": "code",
      "execution_count": null,
      "metadata": {
        "_cell_guid": "13d3633c-304b-73b6-42ed-095405821ce4"
      },
      "outputs": [],
      "source": [
        "import numpy as np\n",
        "import pandas as pd\n",
        "from IPython.display import  display\n",
        "from collections import defaultdict\n",
        "from itertools import combinations\n",
        "pd.set_option('display.max_colwidth',-1)"
      ]
    },
    {
      "cell_type": "code",
      "execution_count": null,
      "metadata": {
        "_cell_guid": "c61360cf-cdf8-2488-6e0f-dad353596d8d"
      },
      "outputs": [],
      "source": [
        "train_df=pd.read_csv('../input/train.csv')\n",
        "train_df.head(2)"
      ]
    },
    {
      "cell_type": "code",
      "execution_count": null,
      "metadata": {
        "_cell_guid": "51beebec-1c45-8174-3d67-a8fffb07891d"
      },
      "outputs": [],
      "source": [
        "# only duplicated questions\n",
        "ddf=train_df[train_df.is_duplicate==1]\n",
        "print('Duplicated questions shape:',ddf.shape)\n",
        "ddf.head(2)"
      ]
    },
    {
      "cell_type": "markdown",
      "metadata": {
        "_cell_guid": "ed9e9815-7eef-f0bb-78f9-d6332b0ba889"
      },
      "source": [
        "There are 149263 pairs duplicated questions"
      ]
    },
    {
      "cell_type": "code",
      "execution_count": null,
      "metadata": {
        "_cell_guid": "5d04940a-16aa-87ea-228e-f7e8321356d9"
      },
      "outputs": [],
      "source": [
        "# get all duplicated questions\n",
        "clean_ddf1=ddf[['qid1','question1']].drop_duplicates()\n",
        "clean_ddf1.columns=['qid','question']\n",
        "clean_ddf2=ddf[['qid2','question2']].drop_duplicates()\n",
        "clean_ddf2.columns=['qid','question']\n",
        "all_dqdf=clean_ddf1.append(clean_ddf2,ignore_index=True)\n",
        "print(all_dqdf.shape)\n",
        "all_dqdf.head(2)"
      ]
    },
    {
      "cell_type": "markdown",
      "metadata": {
        "_cell_guid": "b4fa7073-2191-6137-babc-b5326070c07c"
      },
      "source": [
        "There are 172286 questions in the above df"
      ]
    },
    {
      "cell_type": "code",
      "execution_count": null,
      "metadata": {
        "_cell_guid": "3c624518-fcae-99c8-3681-f9b17c27d864"
      },
      "outputs": [],
      "source": [
        "# groupby qid1, and then we get all the combinations of id in each group\n",
        "dqids12=ddf[['qid1','qid2']]\n",
        "df12list=dqids12.groupby('qid1', as_index=False)['qid2'].agg({'dlist':(lambda x: list(x))})\n",
        "print(len(df12list))\n",
        "d12list=df12list.values\n",
        "d12list=[[i]+j for i,j in d12list]\n",
        "# get all the combinations of id, like (id1,id2)...\n",
        "d12ids=set()\n",
        "for ids in d12list:\n",
        "    ids_len=len(ids)\n",
        "    for i in range(ids_len):\n",
        "        for j in range(i+1,ids_len):\n",
        "            d12ids.add((ids[i],ids[j]))\n",
        "print(len(d12ids))"
      ]
    },
    {
      "cell_type": "code",
      "execution_count": null,
      "metadata": {
        "_cell_guid": "3352efc5-b2eb-3a6b-8b68-17e23070ae98"
      },
      "outputs": [],
      "source": [
        "# the same operation of qid2\n",
        "dqids21=ddf[['qid2','qid1']]\n",
        "display(dqids21.head(2))\n",
        "df21list=dqids21.groupby('qid2', as_index=False)['qid1'].agg({'dlist':(lambda x: list(x))})\n",
        "print(len(df21list))\n",
        "ids2=df21list.qid2.values\n",
        "d21list=df21list.values\n",
        "d21list=[[i]+j for i,j in d21list]\n",
        "d21ids=set()\n",
        "for ids in d21list:\n",
        "    ids_len=len(ids)\n",
        "    for i in range(ids_len):\n",
        "        for j in range(i+1,ids_len):\n",
        "            d21ids.add((ids[i],ids[j]))\n",
        "len(d21ids)"
      ]
    },
    {
      "cell_type": "code",
      "execution_count": null,
      "metadata": {
        "_cell_guid": "c5b25200-a6bd-1f2c-8eb9-15f1d1402581"
      },
      "outputs": [],
      "source": [
        "# merge two set\n",
        "dids=list(d12ids | d21ids)\n",
        "len(dids)"
      ]
    },
    {
      "cell_type": "code",
      "execution_count": null,
      "metadata": {
        "_cell_guid": "e9536a7c-d257-f015-b53b-da52114e6018"
      },
      "outputs": [],
      "source": [
        "# let's define union-find function\n",
        "def indices_dict(lis):\n",
        "    d = defaultdict(list)\n",
        "    for i,(a,b) in enumerate(lis):\n",
        "        d[a].append(i)\n",
        "        d[b].append(i)\n",
        "    return d\n",
        "\n",
        "def disjoint_indices(lis):\n",
        "    d = indices_dict(lis)\n",
        "    sets = []\n",
        "    while len(d):\n",
        "        que = set(d.popitem()[1])\n",
        "        ind = set()\n",
        "        while len(que):\n",
        "            ind |= que \n",
        "            que = set([y for i in que \n",
        "                         for x in lis[i] \n",
        "                         for y in d.pop(x, [])]) - ind\n",
        "        sets += [ind]\n",
        "    return sets\n",
        "\n",
        "def disjoint_sets(lis):\n",
        "    return [set([x for i in s for x in lis[i]]) for s in disjoint_indices(lis)]"
      ]
    },
    {
      "cell_type": "code",
      "execution_count": null,
      "metadata": {
        "_cell_guid": "cba2337c-bd72-a19b-a04c-0b8d39aafb68"
      },
      "outputs": [],
      "source": [
        "# split data into groups, so that each question in each group are duplicated\n",
        "did_u=disjoint_sets(dids)\n",
        "new_dids=[]\n",
        "for u in did_u:\n",
        "    new_dids.extend(list(combinations(u,2)))\n",
        "len(new_dids)"
      ]
    },
    {
      "cell_type": "code",
      "execution_count": null,
      "metadata": {
        "_cell_guid": "f8c8b48e-b691-13e4-357b-27a7d3b746c0"
      },
      "outputs": [],
      "source": [
        "new_ddf=pd.DataFrame(new_dids,columns=['qid1','qid2'])\n",
        "print('New duplicated shape:',new_ddf.shape)\n",
        "display(new_ddf.head(2))"
      ]
    },
    {
      "cell_type": "code",
      "execution_count": null,
      "metadata": {
        "_cell_guid": "31c41a69-7ada-6514-d243-291d0eb08a44"
      },
      "outputs": [],
      "source": [
        "# merge with all_dqdf to get question1 description\n",
        "new_ddf=new_ddf.merge(all_dqdf,left_on='qid1',right_on='qid',how='left')\n",
        "new_ddf.drop('qid',inplace=True,axis=1)\n",
        "new_ddf.columns=['qid1','qid2','question1']\n",
        "new_ddf.drop_duplicates(inplace=True)\n",
        "print(new_ddf.shape)\n",
        "new_ddf.head(2)"
      ]
    },
    {
      "cell_type": "code",
      "execution_count": null,
      "metadata": {
        "_cell_guid": "f2d905bf-5533-f07a-9185-d35ad74e332a"
      },
      "outputs": [],
      "source": [
        "# the same operation with qid2\n",
        "new_ddf=new_ddf.merge(all_dqdf,left_on='qid2',right_on='qid',how='left')\n",
        "new_ddf.drop('qid',inplace=True,axis=1)\n",
        "new_ddf.columns=['qid1','qid2','question1','question2']\n",
        "new_ddf.drop_duplicates(inplace=True)\n",
        "print(new_ddf.shape)\n",
        "new_ddf.head(2)"
      ]
    },
    {
      "cell_type": "code",
      "execution_count": null,
      "metadata": {
        "_cell_guid": "18bb50b2-c2a5-6f22-90d2-4df068605615"
      },
      "outputs": [],
      "source": [
        "# is_duplicate flag\n",
        "new_ddf['is_duplicate']=1\n",
        "new_ddf.head(2)"
      ]
    },
    {
      "cell_type": "code",
      "execution_count": null,
      "metadata": {
        "_cell_guid": "923b6a6a-cc69-e031-0953-e4036736c5a4"
      },
      "outputs": [],
      "source": [
        "# let random select 10 rows to check the result\n",
        "new_ddf.sample(10)"
      ]
    },
    {
      "cell_type": "markdown",
      "metadata": {
        "_cell_guid": "95a98fef-27bf-e793-80d1-60ee5c57593b"
      },
      "source": [
        "### It seemed quite make sense"
      ]
    },
    {
      "cell_type": "code",
      "execution_count": null,
      "metadata": {
        "_cell_guid": "3f5304db-f8fc-d837-52fb-e29d9da3b7d4"
      },
      "outputs": [],
      "source": [
        "# the orininal duplicated pairs count:\n",
        "print(len(all_dqdf))\n",
        "# after we generate more data, then the duplicated pairs count:\n",
        "print(len(new_ddf))"
      ]
    },
    {
      "cell_type": "code",
      "execution_count": null,
      "metadata": {
        "_cell_guid": "0fb69067-33c5-8dab-6ec4-db38599b0959"
      },
      "outputs": [],
      "source": [
        "new_ddf[new_ddf.qid1 == 290521]"
      ]
    },
    {
      "cell_type": "code",
      "execution_count": null,
      "metadata": {
        "_cell_guid": "ef4dce3e-312a-e36c-29fb-bea0eaad7d00"
      },
      "outputs": [],
      "source": [
        "new_ddf[new_ddf.qid2== 290521]"
      ]
    },
    {
      "cell_type": "code",
      "execution_count": null,
      "metadata": {
        "_cell_guid": "2669131f-7856-5317-9a7d-84d5d32a7c94"
      },
      "outputs": [],
      "source": [
        "new_ddf"
      ]
    },
    {
      "cell_type": "code",
      "execution_count": null,
      "metadata": {
        "_cell_guid": "7f2a29b1-4678-46c8-f20c-0f5e45152992"
      },
      "outputs": [],
      "source": [
        "del train_df['id']\n",
        "new = train_df.append(new_ddf)\n",
        "new = new.drop_duplicates()"
      ]
    },
    {
      "cell_type": "code",
      "execution_count": null,
      "metadata": {
        "_cell_guid": "e668a9f8-5491-bb0a-cee9-8d32a8ecc668"
      },
      "outputs": [],
      "source": [
        "a = sum(new['is_duplicate'] == 1) * 0.31931551750964987\n",
        "b = sum(new['is_duplicate'] == 1) * 0.31931551750964987  + sum(new['is_duplicate'] == 0) * (2-0.31931551750964987)\n",
        "a / b"
      ]
    },
    {
      "cell_type": "code",
      "execution_count": null,
      "metadata": {
        "_cell_guid": "84185ca2-5977-c4e0-9c7c-c61ca8e61e9e"
      },
      "outputs": [],
      "source": [
        "(0.17426) / (sum(new['is_duplicate'] == 1) / len(new))"
      ]
    },
    {
      "cell_type": "code",
      "execution_count": null,
      "metadata": {
        "_cell_guid": "12227b32-30c5-aee4-419a-9266d9d2bc51"
      },
      "outputs": [],
      "source": [
        "2 * 0.17426 * 255027 / (283274 - 0.17426 * 283274 +  0.17426 * 255027)"
      ]
    },
    {
      "cell_type": "code",
      "execution_count": null,
      "metadata": {
        "_cell_guid": "bcdbe997-e6fb-3732-e1bb-825d4701d38d"
      },
      "outputs": [],
      "source": [
        "2-0.3193155"
      ]
    },
    {
      "cell_type": "code",
      "execution_count": null,
      "metadata": {
        "_cell_guid": "0b3fa625-bb12-a1ea-eb5c-16501f8c93d8"
      },
      "outputs": [],
      "source": [
        "a = 377811 * 0.24937809 *2\n",
        "b = 255027 * 1.750621*2"
      ]
    },
    {
      "cell_type": "code",
      "execution_count": null,
      "metadata": {
        "_cell_guid": "18d0e8f3-ca9f-36fd-231f-35e67159af73"
      },
      "outputs": [],
      "source": [
        "a/(a+b)"
      ]
    },
    {
      "cell_type": "code",
      "execution_count": null,
      "metadata": {
        "_cell_guid": "262f5f1e-29fa-3bfa-688e-87ddca1cfa0b"
      },
      "outputs": [],
      "source": [
        "sum(new['is_duplicate'] == 1), sum(new['is_duplicate'] == 0)"
      ]
    },
    {
      "cell_type": "code",
      "execution_count": null,
      "metadata": {
        "_cell_guid": "68c6f422-7344-4208-17ca-1dd507b26d3d"
      },
      "outputs": [],
      "source": [
        "import csv\n",
        "new.to_csv('new.csv', quoting = csv.QUOTE_ALL)"
      ]
    },
    {
      "cell_type": "code",
      "execution_count": null,
      "metadata": {
        "_cell_guid": "903c348f-b5e4-6f21-5add-3b6b232a028c"
      },
      "outputs": [],
      "source": [
        "new"
      ]
    },
    {
      "cell_type": "code",
      "execution_count": null,
      "metadata": {
        "_cell_guid": "a3de86ac-de9d-8f0a-6d93-279c83bc9266"
      },
      "outputs": [],
      "source": ""
    }
  ],
  "metadata": {
    "_change_revision": 0,
    "_is_fork": false,
    "kernelspec": {
      "display_name": "Python 3",
      "language": "python",
      "name": "python3"
    },
    "language_info": {
      "codemirror_mode": {
        "name": "ipython",
        "version": 3
      },
      "file_extension": ".py",
      "mimetype": "text/x-python",
      "name": "python",
      "nbconvert_exporter": "python",
      "pygments_lexer": "ipython3",
      "version": "3.6.0"
    }
  },
  "nbformat": 4,
  "nbformat_minor": 0
}