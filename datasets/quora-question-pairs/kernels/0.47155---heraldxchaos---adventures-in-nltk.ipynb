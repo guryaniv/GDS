{
  "cells": [
    {
      "cell_type": "code",
      "execution_count": null,
      "metadata": {
        "_cell_guid": "e504b20c-639f-8de5-352f-91e226ad4bf1"
      },
      "outputs": [],
      "source": [
        "import numpy as np # linear algebra\n",
        "import pandas as pd # data processing, CSV file I/O (e.g. pd.read_csv)\n",
        "import seaborn as sns\n",
        "import matplotlib.pyplot as plt\n",
        "\n",
        "from subprocess import check_output\n",
        "print(check_output([\"ls\", \"../input\"]).decode(\"utf8\"))\n",
        "\n",
        "%matplotlib inline"
      ]
    },
    {
      "cell_type": "code",
      "execution_count": null,
      "metadata": {
        "_cell_guid": "da3aee8b-1b81-359f-2d1b-a8924b50857d"
      },
      "outputs": [],
      "source": [
        "df_train = pd.read_csv(\"../input/train.csv\").fillna(\"\")\n",
        "df_test = pd.read_csv(\"../input/test.csv\").fillna(\"\")"
      ]
    },
    {
      "cell_type": "code",
      "execution_count": null,
      "metadata": {
        "_cell_guid": "2122c27b-cb8a-829e-0bc4-65a32eccb378"
      },
      "outputs": [],
      "source": [
        "from nltk.metrics import jaccard_distance"
      ]
    },
    {
      "cell_type": "code",
      "execution_count": null,
      "metadata": {
        "_cell_guid": "0e7def21-6abd-3ad5-a09a-cd98dc201e49"
      },
      "outputs": [],
      "source": [
        "def build_dict(sentences):\n",
        "#    from collections import OrderedDict\n",
        "\n",
        "    '''\n",
        "    Build dictionary of train words\n",
        "    Outputs: \n",
        "     - Dictionary of word --> word index\n",
        "     - Dictionary of word --> word count freq\n",
        "    '''\n",
        "    print('Building dictionary..'),\n",
        "    wordcount = dict()\n",
        "    #For each worn in each sentence, cummulate frequency\n",
        "    for ss in sentences:\n",
        "        for w in ss:\n",
        "            if w not in wordcount:\n",
        "                wordcount[w] = 1\n",
        "            else:\n",
        "                wordcount[w] += 1\n",
        "    \n",
        "    worddict = dict()\n",
        "    for idx, w in enumerate(sorted(wordcount.items(), key = lambda x: x[1], reverse=True)):\n",
        "        worddict[w[0]] = idx+2  # leave 0 and 1 (UNK)\n",
        "\n",
        "    return worddict, wordcount"
      ]
    },
    {
      "cell_type": "code",
      "execution_count": null,
      "metadata": {
        "_cell_guid": "3cb6a46c-bb32-47fe-50ae-0e5396965c9f"
      },
      "outputs": [],
      "source": [
        "def generate_sequence(sentences, dictionary):\n",
        "    '''\n",
        "    Convert tokenized text in sequences of integers\n",
        "    '''\n",
        "    seqs = [None] * len(sentences)\n",
        "    for idx, ss in enumerate(sentences):\n",
        "        seqs[idx] = [dictionary[w] if w in dictionary else 1 for w in ss]\n",
        "\n",
        "    return seqs"
      ]
    },
    {
      "cell_type": "code",
      "execution_count": null,
      "metadata": {
        "_cell_guid": "f140bcd1-952f-6846-193d-a91bc288dda3"
      },
      "outputs": [],
      "source": [
        "questions = list(df_train['question1']) + list(df_train['question2'])"
      ]
    },
    {
      "cell_type": "code",
      "execution_count": null,
      "metadata": {
        "_cell_guid": "6ba28ca2-2d02-ddb0-fd12-aadb62a75b7e"
      },
      "outputs": [],
      "source": [
        "def normalize(x):\n",
        "    return x.lower().split()"
      ]
    },
    {
      "cell_type": "code",
      "execution_count": null,
      "metadata": {
        "_cell_guid": "83a6a777-7ccb-bcb0-220b-bc817a0f04a4"
      },
      "outputs": [],
      "source": [
        "tok_questions = [normalize(s) for s in questions]\n",
        "worddict, wordcount = build_dict(tok_questions)"
      ]
    },
    {
      "cell_type": "code",
      "execution_count": null,
      "metadata": {
        "_cell_guid": "957113c1-ffa0-19b2-7c01-d36f32078d3d"
      },
      "outputs": [],
      "source": [
        "print(np.sum(list(wordcount.values())), ' total words ', len(worddict), ' unique words')"
      ]
    },
    {
      "cell_type": "code",
      "execution_count": null,
      "metadata": {
        "_cell_guid": "d7da1af1-e9e4-aa93-00cb-93ab1eabb82c"
      },
      "outputs": [],
      "source": [
        "df_train['s_question1'] = generate_sequence(df_train['question1'].apply(normalize),worddict)\n",
        "df_train['s_question2'] = generate_sequence(df_train['question2'].apply(normalize),worddict)"
      ]
    },
    {
      "cell_type": "code",
      "execution_count": null,
      "metadata": {
        "_cell_guid": "808ae61d-d1c7-036b-411e-ae997c4070f7"
      },
      "outputs": [],
      "source": [
        "df_train.head()"
      ]
    },
    {
      "cell_type": "code",
      "execution_count": null,
      "metadata": {
        "_cell_guid": "db0e50b5-2304-98d5-b061-0937e18ceda7"
      },
      "outputs": [],
      "source": [
        "def jc(x):\n",
        "    return jaccard_distance(set(x['s_question1']),set(x['s_question2']))"
      ]
    },
    {
      "cell_type": "code",
      "execution_count": null,
      "metadata": {
        "_cell_guid": "cf65678b-2f8a-5c11-d4a5-7e7102d01b53"
      },
      "outputs": [],
      "source": [
        "df_train['jaccard'] = df_train.apply(jc,axis = 1)"
      ]
    },
    {
      "cell_type": "code",
      "execution_count": null,
      "metadata": {
        "_cell_guid": "43139828-6890-a448-fa04-f38b2c76c93c"
      },
      "outputs": [],
      "source": [
        "def cosine_d(x):\n",
        "    a = set(x['s_question1'])\n",
        "    b = set(x['s_question2'])\n",
        "    d = len(a)*len(b)\n",
        "    if (d == 0):\n",
        "        return 0\n",
        "    else: \n",
        "        return len(a.intersection(b))/d"
      ]
    },
    {
      "cell_type": "code",
      "execution_count": null,
      "metadata": {
        "_cell_guid": "4e4efea2-af12-1d02-3f87-c9cb923221be"
      },
      "outputs": [],
      "source": [
        "df_train['cosine'] = df_train.apply(cosine_d,axis = 1)"
      ]
    },
    {
      "cell_type": "code",
      "execution_count": null,
      "metadata": {
        "_cell_guid": "e5114e1c-ece8-8a7b-d303-d0b3b57d8122"
      },
      "outputs": [],
      "source": [
        "df_train.head()"
      ]
    },
    {
      "cell_type": "code",
      "execution_count": null,
      "metadata": {
        "_cell_guid": "8d1cd261-d1b7-f7dd-54f4-3cb3aab009c8"
      },
      "outputs": [],
      "source": [
        "df_test['s_question1'] = generate_sequence(df_test['question1'].apply(normalize),worddict)\n",
        "df_test['s_question2'] = generate_sequence(df_test['question2'].apply(normalize),worddict)"
      ]
    },
    {
      "cell_type": "code",
      "execution_count": null,
      "metadata": {
        "_cell_guid": "8eff3505-6b44-c47d-ee55-8ce24f9d0c60"
      },
      "outputs": [],
      "source": [
        "df_test['jaccard'] = df_test.apply(jc,axis = 1)\n",
        "df_test['cosine'] = df_test.apply(cosine_d,axis = 1)"
      ]
    },
    {
      "cell_type": "code",
      "execution_count": null,
      "metadata": {
        "_cell_guid": "f291ba45-a170-2e64-2b86-af49e88a6018"
      },
      "outputs": [],
      "source": [
        "df_test.head()"
      ]
    },
    {
      "cell_type": "code",
      "execution_count": null,
      "metadata": {
        "_cell_guid": "1a4b2b66-c732-cddc-62c6-b1072013b109"
      },
      "outputs": [],
      "source": [
        "sub = pd.DataFrame({'test_id': df_test['test_id'], 'is_duplicate': 1 - df_test['jaccard']})\n",
        "sub.to_csv('jaccard_submission.csv', index=False)\n",
        "sub.head()"
      ]
    },
    {
      "cell_type": "code",
      "execution_count": null,
      "metadata": {
        "_cell_guid": "e51e23ba-d7c8-14be-5253-649522b96065"
      },
      "outputs": [],
      "source": [
        "from sklearn.metrics import log_loss\n",
        "log_loss(df_train['is_duplicate'], 1 - df_train['jaccard'])"
      ]
    },
    {
      "cell_type": "code",
      "execution_count": null,
      "metadata": {
        "_cell_guid": "38017ed5-2a2b-d6f7-44e8-060c7318dfb9"
      },
      "outputs": [],
      "source": [
        "log_loss(df_train['is_duplicate'], df_train['cosine'])"
      ]
    },
    {
      "cell_type": "code",
      "execution_count": null,
      "metadata": {
        "_cell_guid": "8dce8e0d-a8b6-66a0-4a06-7074737e21a7"
      },
      "outputs": [],
      "source": [
        "sub = pd.DataFrame({'test_id': df_test['test_id'], 'is_duplicate': df_test['cosine']})\n",
        "sub.to_csv('cosine_submission.csv', index=False)\n",
        "sub.head()"
      ]
    },
    {
      "cell_type": "code",
      "execution_count": null,
      "metadata": {
        "_cell_guid": "84b1c9e9-52a6-33bb-d75c-13f3ee43fb44"
      },
      "outputs": [],
      "source": [
        "x_train = df_train[['jaccard','cosine']]"
      ]
    },
    {
      "cell_type": "code",
      "execution_count": null,
      "metadata": {
        "_cell_guid": "a4292ccb-3621-4a96-ec0b-d6a5d37fea4f"
      },
      "outputs": [],
      "source": [
        "y_train = df_train['is_duplicate']"
      ]
    },
    {
      "cell_type": "code",
      "execution_count": null,
      "metadata": {
        "_cell_guid": "2715f2b3-d875-1e96-1e81-ed7de61a7b0c"
      },
      "outputs": [],
      "source": [
        "x_train.head()"
      ]
    },
    {
      "cell_type": "code",
      "execution_count": null,
      "metadata": {
        "_cell_guid": "81ace767-e278-848f-fe03-3be20b0ebe78"
      },
      "outputs": [],
      "source": [
        "from sklearn.cross_validation import train_test_split\n",
        "x_train, x_valid, y_train, y_valid = train_test_split(df_train[['jaccard','cosine']], df_train['is_duplicate'], test_size=0.2, random_state=4242)"
      ]
    },
    {
      "cell_type": "code",
      "execution_count": null,
      "metadata": {
        "_cell_guid": "be843b4f-0394-57c2-2a5b-3e0ddb26362b"
      },
      "outputs": [],
      "source": [
        "import xgboost as xgb\n",
        "\n",
        "# Set our parameters for xgboost\n",
        "params = {}\n",
        "params['objective'] = 'binary:logistic'\n",
        "params['eval_metric'] = 'logloss'\n",
        "params['eta'] = 0.02\n",
        "params['max_depth'] = 4\n",
        "\n",
        "d_train = xgb.DMatrix(x_train, label=y_train)\n",
        "d_valid = xgb.DMatrix(x_valid, label=y_valid)\n",
        "\n",
        "watchlist = [(d_train, 'train'), (d_valid, 'valid')]\n",
        "\n",
        "bst = xgb.train(params, d_train, 400, watchlist, early_stopping_rounds=50, verbose_eval=10)"
      ]
    },
    {
      "cell_type": "code",
      "execution_count": null,
      "metadata": {
        "_cell_guid": "641404a4-a502-4fb1-7f75-636d862a9931"
      },
      "outputs": [],
      "source": [
        "d_test = xgb.DMatrix(df_test[['jaccard','cosine']])\n",
        "p_test = bst.predict(d_test)\n",
        "\n",
        "sub = pd.DataFrame()\n",
        "sub['test_id'] = df_test['test_id']\n",
        "sub['is_duplicate'] = p_test\n",
        "sub.to_csv('simple_xgb.csv', index=False)"
      ]
    },
    {
      "cell_type": "code",
      "execution_count": null,
      "metadata": {
        "_cell_guid": "5049a7a6-7e68-2706-14c3-b60370001f7f"
      },
      "outputs": [],
      "source": ""
    }
  ],
  "metadata": {
    "_change_revision": 0,
    "_is_fork": false,
    "kernelspec": {
      "display_name": "Python 3",
      "language": "python",
      "name": "python3"
    },
    "language_info": {
      "codemirror_mode": {
        "name": "ipython",
        "version": 3
      },
      "file_extension": ".py",
      "mimetype": "text/x-python",
      "name": "python",
      "nbconvert_exporter": "python",
      "pygments_lexer": "ipython3",
      "version": "3.6.0"
    }
  },
  "nbformat": 4,
  "nbformat_minor": 0
}