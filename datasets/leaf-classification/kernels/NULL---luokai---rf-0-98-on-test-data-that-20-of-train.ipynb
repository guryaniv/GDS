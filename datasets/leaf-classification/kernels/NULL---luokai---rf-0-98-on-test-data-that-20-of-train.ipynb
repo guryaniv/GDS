{
  "cells": [
    {
      "cell_type": "code",
      "execution_count": null,
      "metadata": {
        "_cell_guid": "a0bb29da-f5cc-8b92-ac0c-5def9aa5b322"
      },
      "outputs": [],
      "source": [
        "# This Python 3 environment comes with many helpful analytics libraries installed\n",
        "# It is defined by the kaggle/python docker image: https://github.com/kaggle/docker-python\n",
        "# For example, here's several helpful packages to load in \n",
        "\n",
        "import numpy as np # linear algebra\n",
        "import pandas as pd # data processing, CSV file I/O (e.g. pd.read_csv)\n",
        "\n",
        "# Input data files are available in the \"../input/\" directory.\n",
        "# For example, running this (by clicking run or pressing Shift+Enter) will list the files in the input directory\n",
        "\n",
        "from subprocess import check_output\n",
        "print(check_output([\"ls\", \"../input\"]).decode(\"utf8\"))\n",
        "\n",
        "# Any results you write to the current directory are saved as output."
      ]
    },
    {
      "cell_type": "code",
      "execution_count": null,
      "metadata": {
        "_cell_guid": "472d9b66-cd9e-7ecb-07cc-130369d3c3fd"
      },
      "outputs": [],
      "source": [
        "#split train data & test data\n",
        "train = pd.read_csv('../input/train.csv')\n",
        "\n",
        "sort_train = train.sort_values(['species'])\n",
        "\n",
        "train_mask = ([True]*8 + [False]*2)*len(train.species.value_counts().index)\n",
        "test_mask = ([False]*8 + [True]*2)*len(train.species.value_counts().index)\n",
        "\n",
        "train_data = sort_train[train_mask]\n",
        "\n",
        "test_data = sort_train[test_mask]"
      ]
    },
    {
      "cell_type": "code",
      "execution_count": null,
      "metadata": {
        "_cell_guid": "ac43e88d-a459-f8e3-6381-cdf6ada79829"
      },
      "outputs": [],
      "source": [
        "#random forest\n",
        "from sklearn import ensemble\n",
        "rf = ensemble.RandomForestClassifier(n_estimators=200)\n",
        "rf.fit(train_x, train_y)\n",
        "rf.score(test_x, test_y)"
      ]
    },
    {
      "cell_type": "code",
      "execution_count": null,
      "metadata": {
        "_cell_guid": "8474fac3-0e64-60a3-e46d-ed0b97201a19"
      },
      "outputs": [],
      "source": [
        "#\u8bfb\u53d6\u56fe\u7247\uff0c\u968f\u673a\u4fdd\u5b58500\u4e2a\u56fe\u50cf\u8fb9\u6cbf\u5750\u6807\u503c\uff0c\u8fd4\u56de\u6bcf\u70b9\u5750\u6807\u503c\u5230\u4e2d\u5fc3\u70b9\u7684\u6b27\u5f0f\u8ddd\u79bb\n",
        "def get_edge(imgfile):\n",
        "    img = mpimg.imread(imgfile)\n",
        "    cy, cx = ndi.center_of_mass(img)\n",
        "    contours = measure.find_contours(img, .8)\n",
        "    contour = max(contours, key=len)\n",
        "    np.random.shuffle(contour)\n",
        "    con = contour[:500,:]\n",
        "    dis = [np.sqrt( (i[1]-cx)**2 + (i[0]-cy)**2 ) for i in con]\n",
        "    return con, dis\n",
        "\n",
        "imglist = os.walk('images').__next__()[-1]\n",
        "imgfile = ['images/' + i for i in imglist]\n",
        "\n",
        "all_distance = [get_edge(i)[1] for i in imgfile]\n",
        "\n",
        "distance = np.array(all_distance)\n",
        "\n",
        "imgid = np.array([i.split('.')[0] for i in imglist])\n",
        "imgid = imgid.astype('int64')\n",
        "\n",
        "df = pd.DataFrame(distance, index = imgid)\n",
        "alldata = df.sort_index()\n",
        "\n",
        "train = pd.read_csv('train.csv')\n",
        "train = train.set_index(train.id)\n",
        "train = train.join(alldata, how='inner')\n",
        "\n",
        "sort_train = train.sort_values(['species'])\n",
        "\n",
        "train_mask = ([True]*8 + [False]*2)*len(train.species.value_counts().index)\n",
        "test_mask = ([False]*8 + [True]*2)*len(train.species.value_counts().index)\n",
        "\n",
        "train_data = sort_train[train_mask]\n",
        "\n",
        "test_data = sort_train[test_mask]"
      ]
    },
    {
      "cell_type": "code",
      "execution_count": null,
      "metadata": {
        "_cell_guid": "7fa28263-4f37-c767-feff-1caa09d0afdd"
      },
      "outputs": [],
      "source": [
        ""
      ]
    }
  ],
  "metadata": {
    "_change_revision": 0,
    "_is_fork": false,
    "kernelspec": {
      "display_name": "Python 3",
      "language": "python",
      "name": "python3"
    },
    "language_info": {
      "codemirror_mode": {
        "name": "ipython",
        "version": 3
      },
      "file_extension": ".py",
      "mimetype": "text/x-python",
      "name": "python",
      "nbconvert_exporter": "python",
      "pygments_lexer": "ipython3",
      "version": "3.5.2"
    }
  },
  "nbformat": 4,
  "nbformat_minor": 0
}