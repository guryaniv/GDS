{
  "metadata": {
    "kernelspec": {
      "display_name": "Python 3",
      "language": "python",
      "name": "python3"
    },
    "language_info": {
      "codemirror_mode": {
        "name": "ipython",
        "version": 3
      },
      "file_extension": ".py",
      "mimetype": "text/x-python",
      "name": "python",
      "nbconvert_exporter": "python",
      "pygments_lexer": "ipython3",
      "version": "3.6.0"
    }
  },
  "nbformat": 4,
  "nbformat_minor": 0,
  "cells": [
    {
      "metadata": {
        "_cell_guid": "d96c6f3f-b1d4-f468-abfb-230d1f2f4a8b",
        "_active": false,
        "collapsed": false
      },
      "source": "# This Python 3 environment comes with many helpful analytics libraries installed\n# It is defined by the kaggle/python docker image: https://github.com/kaggle/docker-python\n# For example, here's several helpful packages to load in \n\nimport numpy as np # linear algebra\nimport pandas as pd # data processing, CSV file I/O (e.g. pd.read_csv)\n\n%matplotlib inline\nimport matplotlib.pyplot as plt\nimport seaborn as sns\n\nfrom sklearn.ensemble import ExtraTreesClassifier\nfrom sklearn.linear_model import LogisticRegression\nfrom sklearn.metrics import log_loss\n\n# Input data files are available in the \"../input/\" directory.\n# For example, running this (by clicking run or pressing Shift+Enter) will list the files in the input directory\n\nfrom subprocess import check_output\nprint(check_output([\"ls\", \"../input\"]).decode(\"utf8\"))\n\n# Any results you write to the current directory are saved as output.\ndf=pd.read_json('../input/train.json')\neach=int(df.shape[0]/4)\ndf_train=df.iloc[:2*each]\ndf_val=df.iloc[2*each:3*each]\ndf_test=df.iloc[3*each:]\ndf_train.shape, df_val.shape, df_test.shape",
      "execution_count": 1,
      "cell_type": "code",
      "outputs": [],
      "execution_state": "idle"
    },
    {
      "metadata": {
        "_cell_guid": "3fa29b30-1c5f-d10e-0f70-ecce7bf498a3",
        "_active": false,
        "collapsed": false
      },
      "source": "sns.boxplot(df_train.price.clip(upper=7000), groupby=df.interest_level)",
      "execution_count": 2,
      "cell_type": "code",
      "outputs": [],
      "execution_state": "idle"
    },
    {
      "metadata": {
        "_cell_guid": "7b9107a2-5484-d549-7e3d-e441f8f8194b",
        "_active": false,
        "collapsed": false
      },
      "source": "sns.boxplot(df_train.bedrooms, groupby=df.interest_level)",
      "execution_count": 9,
      "cell_type": "code",
      "outputs": [],
      "execution_state": "idle"
    },
    {
      "metadata": {
        "_cell_guid": "f76a500b-7292-594a-a50e-f6d0ec1ca6cf",
        "_active": false,
        "collapsed": false
      },
      "source": "cols=['price', 'bathrooms', 'bedrooms']\nclf=LogisticRegression(solver = 'newton-cg')\nclf.fit(df_train[cols].values, df_train['interest_level'])\ny_pred=clf.predict_proba(df_train[cols])\nprint(log_loss(df_train['interest_level'].values, y_pred))\ny_pred=clf.predict_proba(df_val[cols])\nprint(log_loss(df_val['interest_level'].values, y_pred))",
      "execution_count": 3,
      "cell_type": "code",
      "outputs": [],
      "execution_state": "idle"
    },
    {
      "metadata": {
        "_cell_guid": "4555f35c-1c73-faf1-4f2f-86a578a66cae",
        "_active": false,
        "collapsed": false
      },
      "source": "df_train['medium']=df_train['interest_level']=='medium'\ndf_train['low']=df_train['interest_level']=='low'\ndf_train['high']=df_train['interest_level']=='high'",
      "execution_count": 4,
      "cell_type": "code",
      "outputs": [],
      "execution_state": "idle"
    },
    {
      "metadata": {
        "_cell_guid": "e5f78466-a50c-7cfa-6e42-623b610e8c06",
        "_active": false,
        "collapsed": false
      },
      "source": "b=df_train.groupby('bathrooms')[['medium', 'low', 'high']].mean()\nplt.bar(b.index.values, b['low'])\nplt.bar(b.index.values, b['medium'], bottom=b['low'])\nplt.bar(b.index.values, b['high'], bottom=b['medium']+b['low'])\nplt.show()",
      "execution_count": 5,
      "cell_type": "code",
      "outputs": [],
      "execution_state": "idle"
    },
    {
      "metadata": {
        "_cell_guid": "fe83dc44-c118-be02-a79d-a6f676b1bce6",
        "_active": false,
        "collapsed": false
      },
      "source": "b=df_train.groupby('bathrooms')[['medium', 'low', 'high']].sum()\nplt.bar(b.index.values, b['low'])\nplt.bar(b.index.values, b['medium'], bottom=b['low'])\nplt.bar(b.index.values, b['high'], bottom=b['medium']+b['low'])\nplt.show()",
      "execution_count": 6,
      "cell_type": "code",
      "outputs": [],
      "execution_state": "idle"
    },
    {
      "metadata": {
        "_cell_guid": "32de1db8-0a7e-601a-9d4e-ca36344fa9c0",
        "_active": false,
        "collapsed": false
      },
      "source": "b=df_train.groupby('bedrooms')[['medium', 'low', 'high']].mean()\nplt.bar(b.index.values, b['low'])\nplt.bar(b.index.values, b['medium'], bottom=b['low'])\nplt.bar(b.index.values, b['high'], bottom=b['medium']+b['low'])\nplt.show()",
      "execution_count": 7,
      "cell_type": "code",
      "outputs": [],
      "execution_state": "idle"
    },
    {
      "metadata": {
        "_cell_guid": "ff7b42c3-95c5-6727-e11c-9ff55a0c50bc",
        "_active": false,
        "collapsed": false
      },
      "source": "b=df_train.groupby('bedrooms')[['medium', 'low', 'high']].sum()\nplt.bar(b.index.values, b['low'])\nplt.bar(b.index.values, b['medium'], bottom=b['low'])\nplt.bar(b.index.values, b['high'], bottom=b['medium']+b['low'])\nplt.show()",
      "execution_count": 8,
      "cell_type": "code",
      "outputs": [],
      "execution_state": "idle"
    },
    {
      "metadata": {
        "_cell_guid": "7fb0865f-5357-a665-3f62-6f335338f947",
        "_active": true,
        "collapsed": false
      },
      "source": null,
      "execution_count": 9,
      "cell_type": "code",
      "outputs": [],
      "execution_state": "idle"
    }
  ]
}