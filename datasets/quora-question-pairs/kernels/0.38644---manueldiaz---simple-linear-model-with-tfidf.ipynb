{
  "cells": [
    {
      "cell_type": "markdown",
      "metadata": {
        "_cell_guid": "339c34fc-929d-8cab-d1d7-afde21ccdb9f"
      },
      "source": [
        "Simple Linear Model with term-frequency-inverse-document-frequency"
      ]
    },
    {
      "cell_type": "code",
      "execution_count": null,
      "metadata": {
        "_cell_guid": "f405e728-acda-5eb3-f155-fa514f92ece3"
      },
      "outputs": [],
      "source": [
        "import numpy  as np # linear algebra\n",
        "import pandas as pd # data processing, CSV file I/O (e.g. pd.read_csv)\n",
        "import scipy  as sp\n",
        "\n",
        "from sklearn.feature_extraction.text import TfidfVectorizer\n",
        "\n",
        "import sklearn.linear_model as lm\n",
        "import sklearn.model_selection as ms\n"
      ]
    },
    {
      "cell_type": "code",
      "execution_count": null,
      "metadata": {
        "_cell_guid": "6cce8ca7-b9a1-7c8a-fdbc-df63b8464abf"
      },
      "outputs": [],
      "source": [
        "train = pd.read_csv('../input/train.csv')\n",
        "train.head()"
      ]
    },
    {
      "cell_type": "code",
      "execution_count": null,
      "metadata": {
        "_cell_guid": "ab785acc-92b4-368d-6c7f-91fb8e1959e4"
      },
      "outputs": [],
      "source": [
        "test= pd.read_csv('../input/test.csv')\n",
        "test.head()"
      ]
    },
    {
      "cell_type": "code",
      "execution_count": null,
      "metadata": {
        "_cell_guid": "aadf417b-b0ab-2366-dbf1-1d02a973f64e"
      },
      "outputs": [],
      "source": [
        "# create labels. drop useless columns\n",
        "\n",
        "y = train.is_duplicate.values\n",
        "\n",
        "train['question1'] = train['question1'].astype(str)\n",
        "train['question2'] = train['question2'].astype(str)  \n",
        "    \n",
        "test['question1']  = test['question1'].astype(str)\n",
        "test['question2']  = test['question2'].astype(str)"
      ]
    },
    {
      "cell_type": "code",
      "execution_count": null,
      "metadata": {
        "_cell_guid": "cf6158b5-09f2-1779-b353-1d6dbfbbf330"
      },
      "outputs": [],
      "source": [
        "# term-frequency-inverse-document-frequency\n",
        "\n",
        "tfv = TfidfVectorizer(min_df=2,  max_features=None, strip_accents='unicode',  \n",
        "      analyzer='word',token_pattern=r'\\w{1,}',ngram_range=(1, 2), \n",
        "      use_idf=1,smooth_idf=1,sublinear_tf=1)\n",
        "            \n",
        "# Fit TFIDF\n",
        "    \n",
        "tfv.fit(pd.concat([train['question1'],train['question2']]))\n",
        "   \n",
        "tr1 = tfv.transform(train['question1']) \n",
        "tr2 = tfv.transform(train['question2'])\n",
        "    \n",
        "ts1 = tfv.transform(test['question1']) \n",
        "ts2 = tfv.transform(test['question2'])"
      ]
    },
    {
      "cell_type": "code",
      "execution_count": null,
      "metadata": {
        "_cell_guid": "9e2882ab-e523-532d-84d4-65f105a0997c"
      },
      "outputs": [],
      "source": [
        "X = sp.sparse.hstack([tr1,tr2])\n",
        "Z = sp.sparse.hstack([ts1,ts2])\n",
        "\n",
        "print (X.shape)\n",
        "print (Z.shape)\n",
        "print (y.shape)"
      ]
    },
    {
      "cell_type": "code",
      "execution_count": null,
      "metadata": {
        "_cell_guid": "4561c58b-dfd2-fa06-5ec0-9ba348242ed3"
      },
      "outputs": [],
      "source": [
        "model = lm.LogisticRegression(C=1, class_weight=None, dual=True, fit_intercept=True,\n",
        "        intercept_scaling=1.0, max_iter=1000, multi_class='ovr', n_jobs=1,\n",
        "        penalty='l2', random_state=None, solver='liblinear', tol=0.0001,\n",
        "        verbose=1, warm_start=False)"
      ]
    },
    {
      "cell_type": "code",
      "execution_count": null,
      "metadata": {
        "_cell_guid": "b40b7053-c557-1211-aaad-aac549f1bf26"
      },
      "outputs": [],
      "source": [
        "def rmse_cv(model):\n",
        "    rmse= ms.cross_val_score(model, X, y, scoring=\"neg_log_loss\", cv = 10)\n",
        "    return(rmse)"
      ]
    },
    {
      "cell_type": "code",
      "execution_count": null,
      "metadata": {
        "_cell_guid": "76672f0b-dfb4-eab7-b1a5-9f53bf4aa37b"
      },
      "outputs": [],
      "source": [
        "rmse_cv(model).mean()"
      ]
    },
    {
      "cell_type": "code",
      "execution_count": null,
      "metadata": {
        "_cell_guid": "ca58084a-fc74-7a33-d747-34be159e96c3"
      },
      "outputs": [],
      "source": [
        "model.fit(X,y)"
      ]
    },
    {
      "cell_type": "code",
      "execution_count": null,
      "metadata": {
        "_cell_guid": "de32458d-79fc-ed3d-9f6c-072fa8c629e4"
      },
      "outputs": [],
      "source": [
        "#Prediction\n",
        "\n",
        "p_test = model.predict_proba(Z)[:,1]\n",
        "\n",
        "sub = pd.DataFrame()\n",
        "sub['test_id'] = test['test_id']\n",
        "sub['is_duplicate'] = p_test\n",
        "sub.to_csv('linear_submission.csv', index=False)"
      ]
    }
  ],
  "metadata": {
    "_change_revision": 0,
    "_is_fork": false,
    "kernelspec": {
      "display_name": "Python 3",
      "language": "python",
      "name": "python3"
    },
    "language_info": {
      "codemirror_mode": {
        "name": "ipython",
        "version": 3
      },
      "file_extension": ".py",
      "mimetype": "text/x-python",
      "name": "python",
      "nbconvert_exporter": "python",
      "pygments_lexer": "ipython3",
      "version": "3.6.0"
    }
  },
  "nbformat": 4,
  "nbformat_minor": 0
}