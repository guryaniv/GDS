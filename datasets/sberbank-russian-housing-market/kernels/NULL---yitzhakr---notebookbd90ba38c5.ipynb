{
  "cells": [
    {
      "cell_type": "markdown",
      "metadata": {
        "_cell_guid": "b268aaee-2a5c-a043-d1b0-b1e41021141c"
      },
      "source": [
        "Empirical studies indicate that changes in real estate sector mirrors the wider changes\n",
        "taking place in the economy at any point in time. Most of these studies put emphasis in explaining how macroeconomic variables are responsible for short and long run variations in residential property prices. According to Schmitz and Brett (2001) the economic strength of a place can be demonstrated by its macroeconomic conditions, which includes interest rates, inflation, job security, industrial productivity and stock market stability. In another study in Hong Kong, Ervi (2002), found out that the rate of return in property markets is linked to economic activities while demand for retail space is sensitive to changes in employment and local output. The author also recognizes that macroeconomic variables include unemployment, inflation rates, GDP, interest rates, balances of payments and foreign exchange rates. American economistSimon Kuznets believes real estate development has a close relationship with economicgrowth after analyzing a large amount of data of different countries. \u0412 \u044d\u043a\u043e\u043d\u043e\u043c\u0438\u0447\u0435\u0441\u043a\u043e\u0439 \u043b\u0438\u0442\u0435\u0440\u0430\u0442\u0443\u0440\u0435 \u043f\u0440\u0438\u0432\u043e\u0434\u044f\u0442 \u0440\u0430\u0437\u043b\u0438\u0447\u043d\u044b\u0435 \u043a\u043b\u0430\u0441\u0441\u0438\u0444\u0438\u043a\u0430\u0446\u0438\u0438 \u0444\u0430\u043a\u0442\u043e\u0440\u043e\u0432, \u0432\u043b\u0438\u044f\u044e\u0449\u0438\u0445 \u043d\u0430 \u0440\u0430\u0437\u0432\u0438\u0442\u0438\u0435 \u0440\u044b\u043d\u043a\u0430 \u043d\u0435\u0434\u0432\u0438\u0436\u0438\u043c\u043e\u0441\u0442\u0438: \u0432\u043d\u0443\u0442\u0440\u0435\u043d\u043d\u0438\u0435 \u0438 \u0432\u043d\u0435\u0448\u043d\u0438\u0435, \u043c\u0430\u043a\u0440\u043e\u044d\u043a\u043e\u043d\u043e\u043c\u0438\u0447\u0435\u0441\u043a\u0438\u0435 \u0438 \u043c\u0438\u043a\u0440\u043e\u044d\u043a\u043e\u043d\u043e\u043c\u0438\u0447\u0435\u0441\u043a\u0438\u0435 \u0438 \u0442. \u0434. \u0412 \u0438\u0441\u0441\u043b\u0435\u0434\u043e\u0432\u0430\u043d\u0438\u0438 \u0431\u044b\u043b\u0438 \u043e\u0442\u043e\u0431\u0440\u0430\u043d\u044b \u043f\u043e\u043a\u0430\u0437\u0430\u0442\u0435\u043b\u0438, \u0445\u0430\u0440\u0430\u043a\u0442\u0435\u0440\u0438\u0437\u0443\u044e\u0449\u0438\u0435 \u0444\u0430\u043a\u0442\u043e\u0440\u044b \u0441\u043f\u0440\u043e\u0441\u0430 \u0438 \u043f\u0440\u0435\u0434\u043b\u043e\u0436\u0435\u043d\u0438\u044f \u0438, \u043f\u043e \u043c\u043d\u0435\u043d\u0438\u044e \u0430\u0432\u0442\u043e\u0440\u043e\u0432, \u043f\u043e\u0442\u0435\u043d\u0446\u0438\u0430\u043b\u044c\u043d\u043e \u0432\u043b\u0438\u044f\u044e\u0449\u0438\u0435 \u043d\u0430 \u0443\u0434\u043e\u0440\u043e\u0436\u0430\u043d\u0438\u0435 \u0436\u0438\u043b\u043e\u0439 \u043d\u0435\u0434\u0432\u0438\u0436\u0438\u043c\u043e\u0441\u0442\u0438: 1) \u0446\u0435\u043d\u0430 \u043d\u0430 \u043d\u0435\u0444\u0442\u044c \u043c\u0430\u0440\u043a\u0438 Urals; 2) \u0432\u0430\u043b\u043e\u0432\u043e\u0439 \u0432\u043d\u0443\u0442\u0440\u0435\u043d\u043d\u0438\u0439 \u043f\u0440\u043e\u0434\u0443\u043a\u0442 (\u0412\u0412\u041f); 3) \u0443\u0440\u043e\u0432\u0435\u043d\u044c \u0434\u043e\u0445\u043e\u0434\u043e\u0432 \u043d\u0430\u0441\u0435\u043b\u0435\u043d\u0438\u044f; 4) \u0438\u043d\u0444\u043b\u044f\u0446\u0438\u044f; 5) \u0441\u0435\u0431\u0435\u0441\u0442\u043e\u0438\u043c\u043e\u0441\u0442\u044c \u0441\u0442\u0440\u043e\u0438\u0442\u0435\u043b\u044c\u0441\u0442\u0432\u0430; 6) \u0434\u0435\u043d\u0435\u0436\u043d\u0430\u044f \u043c\u0430\u0441\u0441\u0430; 7) \u043f\u0440\u043e\u0446\u0435\u043d\u0442\u043d\u0430\u044f \u0441\u0442\u0430\u0432\u043a\u0430 \u043f\u043e \u0438\u043f\u043e\u0442\u0435\u0447\u043d\u044b\u043c \u043a\u0440\u0435\u0434\u0438\u0442\u0430\u043c; 8) \u043a\u043e\u043b\u0438\u0447\u0435\u0441\u0442\u0432\u043e \u0438\u043f\u043e\u0442\u0435\u0447\u043d\u044b\u0445 \u0441\u0434\u0435\u043b\u043e\u043a."
      ]
    },
    {
      "cell_type": "code",
      "execution_count": null,
      "metadata": {
        "_cell_guid": "e4ade23f-b173-a0da-06a0-64d50ee97f50"
      },
      "outputs": [],
      "source": [
        "# This Python 3 environment comes with many helpful analytics libraries installed\n",
        "# It is defined by the kaggle/python docker image: https://github.com/kaggle/docker-python\n",
        "# For example, here's several helpful packages to load in \n",
        "\n",
        "import numpy as np # linear algebra\n",
        "import pandas as pd # data processing, CSV file I/O (e.g. pd.read_csv)\n",
        "from numpy.polynomial.chebyshev import *\n",
        "import matplotlib.pyplot as plt\n",
        "import seaborn as sns\n",
        "%matplotlib inline\n",
        "\n",
        "pd.options.mode.chained_assignment = None  \n",
        "pd.set_option('display.max_columns', 500)\n",
        "\n",
        "# Input data files are available in the \"../input/\" directory.\n",
        "# For example, running this (by clicking run or pressing Shift+Enter) will list the files in the input directory\n",
        "\n",
        "from subprocess import check_output\n",
        "print(check_output([\"ls\", \"../input\"]).decode(\"utf8\"))\n",
        "\n",
        "# Any results you write to the current directory are saved as output."
      ]
    },
    {
      "cell_type": "markdown",
      "metadata": {
        "_cell_guid": "da742a8f-3f95-9c09-33b2-9d87b306ec00"
      },
      "source": [
        "##Initialize Data"
      ]
    },
    {
      "cell_type": "code",
      "execution_count": null,
      "metadata": {
        "_cell_guid": "1c69f529-26aa-146a-f39d-beec2c0b9d00"
      },
      "outputs": [],
      "source": [
        "read_columns= ['timestamp', 'oil_urals', 'gdp_quart_growth', 'cpi', 'usdrub', \\\n",
        "                'salary_growth', 'unemployment', 'average_provision_of_build_contract_moscow', 'mortgage_rate', \\\n",
        "                 'deposits_rate','deposits_growth','rent_price_2room_eco',\\\n",
        "                 'rent_price_3room_bus']\n",
        "train = pd.read_csv(\"../input/train.csv\")\n",
        "train_df = pd.read_csv(\"..input/train.csv\",usecols=['timestamp','price_per_sqm','full_sq'])\n",
        "macro_df = pd.read_csv(\"..input/macro.csv\", usecols=read_columns)\n",
        "\n",
        "\n",
        "def condition(value,col):\n",
        "    vals = (macro_df[macro_df['timestamp'] == value])\n",
        "    ret=vals[col].asobject\n",
        "    ret=ret[0]\n",
        "\n",
        "    return ret\n",
        "\n",
        "def init_anlz_file():\n",
        "\n",
        "    anlz_df = train_df\n",
        "    for clmn in read_columns:\n",
        "        if clmn == 'timestamp':\n",
        "            continue\n",
        "        anlz_df[clmn] = np.nan\n",
        "        anlz_df[clmn] = anlz_df['timestamp'].apply(condition, col=clmn)\n",
        "        print(clmn)\n",
        "\n",
        "    return anlz_df\n"
      ]
    },
    {
      "cell_type": "code",
      "execution_count": null,
      "metadata": {
        "_cell_guid": "a700fe46-b485-acbf-cf2d-2e1bbd1a56af"
      },
      "outputs": [],
      "source": [
        "null"
      ]
    }
  ],
  "metadata": {
    "_change_revision": 0,
    "_is_fork": false,
    "kernelspec": {
      "display_name": "Python 3",
      "language": "python",
      "name": "python3"
    },
    "language_info": {
      "codemirror_mode": {
        "name": "ipython",
        "version": 3
      },
      "file_extension": ".py",
      "mimetype": "text/x-python",
      "name": "python",
      "nbconvert_exporter": "python",
      "pygments_lexer": "ipython3",
      "version": "3.6.0"
    }
  },
  "nbformat": 4,
  "nbformat_minor": 0
}