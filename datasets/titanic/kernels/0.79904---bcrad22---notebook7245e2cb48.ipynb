{
  "cells": [
    {
      "cell_type": "code",
      "execution_count": null,
      "metadata": {
        "_cell_guid": "85370a8a-f82b-99d4-6c74-ed1c20883c4e"
      },
      "outputs": [],
      "source": [
        "# Standard imports\n",
        "\n",
        "import numpy as np\n",
        "import pandas as pd\n",
        "from sklearn.neural_network import MLPClassifier\n",
        "from sklearn.preprocessing import StandardScaler\n"
      ]
    },
    {
      "cell_type": "code",
      "execution_count": null,
      "metadata": {
        "_cell_guid": "39d1a4da-a401-52e2-6706-85e226bbb6f3"
      },
      "outputs": [],
      "source": [
        "# Load in train & test data\n",
        "\n",
        "train_data = pd.read_csv('../input/train.csv')\n",
        "test_data = pd.read_csv('../input/test.csv')"
      ]
    },
    {
      "cell_type": "code",
      "execution_count": null,
      "metadata": {
        "_cell_guid": "5419fd9e-91c6-9c40-8411-49540504f106"
      },
      "outputs": [],
      "source": [
        "# Drop feature columns that may have small effect on output. Can optimize later.\n",
        "# Create X_train, y_train, X_test dataframes by dropping appropriate columns\n",
        "\n",
        "X_train = train_data.drop(['PassengerId', 'Name', 'Ticket', 'Cabin', 'Survived'],1)\n",
        "y_train = train_data['Survived']\n",
        "X_test = test_data.drop(['PassengerId', 'Name', 'Ticket', 'Cabin'],1)"
      ]
    },
    {
      "cell_type": "code",
      "execution_count": null,
      "metadata": {
        "_cell_guid": "76502c68-e75c-933f-3cbd-3b148bd8666e"
      },
      "outputs": [],
      "source": [
        "# Clean 'age' columns by replacing missing values with median of X_train['Age']\n",
        "\n",
        "# Clean X_train 'age' data by filling missing data with median of 'age' column\n",
        "X_train['Age'] = X_train['Age'].fillna(X_train['Age'].median())\n",
        "\n",
        "# Clean X_test 'age' column data as above\n",
        "X_test['Age'] = X_test['Age'].fillna(X_train['Age'].median())"
      ]
    },
    {
      "cell_type": "code",
      "execution_count": null,
      "metadata": {
        "_cell_guid": "1ae42027-6f0c-8d34-2ebf-b239b2af1c82"
      },
      "outputs": [],
      "source": [
        "# Converting strings in 'Sex' column to 0, 1 for training & test data\n",
        "\n",
        "X_train.loc[X_train['Sex'] == 'male', 'Sex'] = 0\n",
        "X_train.loc[X_train['Sex'] == 'female', 'Sex'] = 1\n",
        "\n",
        "X_test.loc[X_test['Sex'] == 'male', 'Sex'] = 0\n",
        "X_test.loc[X_test['Sex'] == 'female', 'Sex'] = 1\n",
        "\n",
        "# Must convert dtype to int\n",
        "\n",
        "X_train['Sex'] = X_train['Sex'].astype(int)\n",
        "X_test['Sex'] = X_test['Sex'].astype(int)\n",
        "\n",
        "# Clean 'Fare' column by replacing missing data with column median\n",
        "\n",
        "X_test['Fare'] = X_test['Fare'].fillna(X_test['Fare'].median())"
      ]
    },
    {
      "cell_type": "code",
      "execution_count": null,
      "metadata": {
        "_cell_guid": "1bedc74d-f3f0-5b49-26a2-cb51709e71dd"
      },
      "outputs": [],
      "source": [
        "# Convert 'Embarked' S, C, Q strings to ints 0, 1, 2 for both feature datasets\n",
        "\n",
        "X_train.loc[X_train['Embarked'] == 'S', 'Embarked'] = 0\n",
        "X_train.loc[X_train['Embarked'] == 'C', 'Embarked'] = 1\n",
        "X_train.loc[X_train['Embarked'] == 'Q', 'Embarked'] = 2\n",
        "\n",
        "X_test.loc[X_test['Embarked'] == 'S', 'Embarked'] = 0\n",
        "X_test.loc[X_test['Embarked'] == 'C', 'Embarked'] = 1\n",
        "X_test.loc[X_test['Embarked'] == 'Q', 'Embarked'] = 2\n",
        "\n",
        "# Convert object types to floats\n",
        "\n",
        "X_train['Embarked'] = X_train['Embarked'].astype('float')\n",
        "X_test['Embarked'] = X_test['Embarked'].astype('float')\n",
        "\n",
        "# Fill missing values with median value\n",
        "\n",
        "X_train['Embarked'].fillna(X_train['Embarked'].median(), inplace=True)"
      ]
    },
    {
      "cell_type": "code",
      "execution_count": null,
      "metadata": {
        "_cell_guid": "572726c8-94b0-c35a-cc5d-380185c8e807"
      },
      "outputs": [],
      "source": [
        "# Replace Sibsp and Parch columns with combined Family column\n",
        "\n",
        "X_train['Family'] = X_train['SibSp'] + X_train['Parch']\n",
        "\n",
        "X_test['Family'] = X_test['SibSp'] + X_test['Parch']"
      ]
    },
    {
      "cell_type": "code",
      "execution_count": null,
      "metadata": {
        "_cell_guid": "5901ffe7-6fe2-1f03-f8ef-b7d83a5bce51"
      },
      "outputs": [],
      "source": [
        "# Set training data to X, y and convert to np arrays\n",
        "\n",
        "X = np.array(X_train)\n",
        "y = np.array(y_train)\n",
        "\n",
        "X_test = np.array(X_test)\n",
        "\n",
        "# Fit standard scaler to training data then apply to test data\n",
        "\n",
        "scaler = StandardScaler()\n",
        "scaler.fit(X)\n",
        "X = scaler.transform(X)\n",
        "X_test = scaler.transform(X_test)"
      ]
    },
    {
      "cell_type": "code",
      "execution_count": null,
      "metadata": {
        "_cell_guid": "228e499e-0f23-375a-15ac-b9b78fc25eaa"
      },
      "outputs": [],
      "source": [
        "# Set classifier type & parameters\n",
        "clf = MLPClassifier(solver='lbfgs', alpha=1e-5,\n",
        "                    hidden_layer_sizes=(25,10,5), random_state=1, max_iter=500, shuffle=True)\n",
        "\n",
        "# Fit classifier\n",
        "clf.fit(X, y)\n",
        "\n",
        "# Print score\n",
        "score = clf.score(X,y)\n",
        "print(score)"
      ]
    },
    {
      "cell_type": "code",
      "execution_count": null,
      "metadata": {
        "_cell_guid": "04e07e7e-8986-43ae-22b9-c4e384a70471"
      },
      "outputs": [],
      "source": [
        "# Run classifier on test data\n",
        "\n",
        "y_test = clf.predict(X_test)\n",
        "\n",
        "score = clf.score(X,y)\n",
        "\n",
        "print(y_test)\n",
        "print(score)"
      ]
    },
    {
      "cell_type": "code",
      "execution_count": null,
      "metadata": {
        "_cell_guid": "857a0fc9-46a8-867d-cb2e-518d666ee872"
      },
      "outputs": [],
      "source": [
        "submission = pd.DataFrame({\n",
        "    'PassengerId': test_data['PassengerId'],\n",
        "    'Survived': y_test\n",
        "})\n",
        "\n",
        "submission.to_csv('kaggle.csv', index=False)"
      ]
    }
  ],
  "metadata": {
    "_change_revision": 0,
    "_is_fork": false,
    "kernelspec": {
      "display_name": "Python 3",
      "language": "python",
      "name": "python3"
    },
    "language_info": {
      "codemirror_mode": {
        "name": "ipython",
        "version": 3
      },
      "file_extension": ".py",
      "mimetype": "text/x-python",
      "name": "python",
      "nbconvert_exporter": "python",
      "pygments_lexer": "ipython3",
      "version": "3.5.2"
    }
  },
  "nbformat": 4,
  "nbformat_minor": 0
}