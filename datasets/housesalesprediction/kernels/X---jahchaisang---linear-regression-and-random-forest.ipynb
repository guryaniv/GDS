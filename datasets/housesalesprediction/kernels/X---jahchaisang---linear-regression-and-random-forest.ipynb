{
  "cells": [
    {
      "cell_type": "code",
      "execution_count": null,
      "metadata": {
        "_cell_guid": "d279530a-d1a4-7f47-5663-8d9a7a661d6d"
      },
      "outputs": [],
      "source": [
        "import pandas as pd\n",
        "import numpy as np\n",
        "\n",
        "data = pd.read_csv(\"../input/kc_house_data.csv\")\n",
        "data.head()"
      ]
    },
    {
      "cell_type": "code",
      "execution_count": null,
      "metadata": {
        "_cell_guid": "a67c9be5-d4e7-6065-7bf2-3247d8be4136"
      },
      "outputs": [],
      "source": [
        "cats = ['bedrooms', 'bathrooms', 'floors', 'waterfront', 'view', 'condition', 'grade']\n",
        "\n",
        "def category_counts(df, cat_columns):\n",
        "    for col in cat_columns:\n",
        "        print(\"+++ \" + col + \" +++\")\n",
        "        print(df[col].value_counts())\n",
        "        \n",
        "        \n",
        "category_counts(data, cats)"
      ]
    },
    {
      "cell_type": "code",
      "execution_count": null,
      "metadata": {
        "_cell_guid": "2586cb12-244e-96cd-a50f-1f46369ad668"
      },
      "outputs": [],
      "source": [
        "numes = ['price','sqft_living', 'sqft_lot', 'sqft_above', 'sqft_basement', 'yr_built', 'yr_renovated', 'sqft_living15', 'sqft_lot15']\n",
        "\n",
        "def nume_ranges(df, nume_columns):\n",
        "    for col in nume_columns:\n",
        "        print(\"+++ \" + col + \" +++\")\n",
        "        print(\"max: \" + str(df[col].max()))\n",
        "        print(\"min: \" + str(df[col].min()))\n",
        "        \n",
        "nume_ranges(data, numes)\n",
        "\n",
        "# sqft_living15 seems more reasonable?"
      ]
    },
    {
      "cell_type": "code",
      "execution_count": null,
      "metadata": {
        "_cell_guid": "03adc20e-f757-497b-edf0-8822367e822c"
      },
      "outputs": [],
      "source": [
        "# FEATURE CONSTRUCTION\n",
        "# drop variables not used\n",
        "# also drop price\n",
        "to_drop = ['id','date','sqft_living','sqft_lot', 'zipcode', 'price']\n",
        "train = data.drop(to_drop,axis=1)\n",
        "\n",
        "# convert yr_built and yr_renovated to the age of the house as of 2015\n",
        "train['yr_built'] = 2015 - train['yr_built']\n",
        "train['yr_renovated'] = 2015 - train['yr_renovated']\n",
        "\n",
        "from sklearn.preprocessing import StandardScaler\n",
        "from sklearn.preprocessing import scale\n",
        "scaler = StandardScaler()\n",
        "X = scaler.fit_transform(train)\n",
        "Y = scale(data['price'])"
      ]
    },
    {
      "cell_type": "code",
      "execution_count": null,
      "metadata": {
        "_cell_guid": "c936664b-23c0-0b6c-f496-ef55691f7962"
      },
      "outputs": [],
      "source": [
        "# reconstruct dataframe for plotting\n",
        "\n",
        "plot_data_dict = {}\n",
        "i = 0\n",
        "for col in train.columns[0:3]:\n",
        "    plot_data_dict[col] = X[:,i]\n",
        "    i += 1\n",
        "plot_data_dict['price'] = Y\n",
        "plot_data = pd.DataFrame(plot_data_dict)\n",
        "\n",
        "plot_data.head()"
      ]
    },
    {
      "cell_type": "code",
      "execution_count": null,
      "metadata": {
        "_cell_guid": "8f8bb6b2-89f9-d685-3ee9-5d8008d3402a"
      },
      "outputs": [],
      "source": [
        "import seaborn as sns\n",
        "sns.set(color_codes=True)\n",
        "sns.pairplot(data=plot_data)"
      ]
    },
    {
      "cell_type": "code",
      "execution_count": null,
      "metadata": {
        "_cell_guid": "da83e204-5d4f-96cf-9ef4-b8655f5659a4"
      },
      "outputs": [],
      "source": [
        "from sklearn.cross_validation import KFold\n",
        "\n",
        "def run_cv(X,y,clf_class,**kwargs):\n",
        "    # Construct a kfolds object\n",
        "    kf = KFold(len(y),n_folds=5,shuffle=True)\n",
        "    y_pred = y.copy()\n",
        "    \n",
        "    # Iterate through folds\n",
        "    for train_index, test_index in kf:\n",
        "        X_train, X_test = X[train_index], X[test_index]\n",
        "        y_train = y[train_index]\n",
        "        # Initialize a classifier with key word arguments\n",
        "        clf = clf_class(**kwargs)\n",
        "        clf.fit(X_train,y_train)\n",
        "        y_pred[test_index] = clf.predict(X_test)\n",
        "    return y_pred, clf\n",
        "\n",
        "from sklearn.linear_model import LinearRegression as LR\n",
        "from sklearn.ensemble import RandomForestRegressor as RF\n",
        "from sklearn.metrics import mean_squared_error\n",
        "from math import sqrt\n",
        "\n",
        "y_pred, clf = run_cv(X,Y,LR)\n",
        "result_LR = pd.DataFrame({'Y': Y, 'YPred': y_pred})\n",
        "rmse_LR = sqrt(mean_squared_error(result_LR['YPred'],result_LR['Y']))\n",
        "print(train.columns)\n",
        "print(clf.coef_)\n",
        "\n",
        "y_pred, clf = run_cv(X,Y,RF)\n",
        "result_RF = pd.DataFrame({'Y': Y, 'YPred': y_pred})\n",
        "rmse_RF = sqrt(mean_squared_error(result_RF['YPred'],result_RF['Y']))\n",
        "\n",
        "print(\"Linear Regression:\")\n",
        "print(\"%.3f\" % rmse_LR)\n",
        "print(\"Random Forest Regression:\")\n",
        "print(\"%.3f\" % rmse_RF)"
      ]
    },
    {
      "cell_type": "code",
      "execution_count": null,
      "metadata": {
        "_cell_guid": "46dad9fe-2730-d1df-b571-04e6add4d16a"
      },
      "outputs": [],
      "source": [
        ""
      ]
    }
  ],
  "metadata": {
    "_change_revision": 0,
    "_is_fork": false,
    "kernelspec": {
      "display_name": "Python 3",
      "language": "python",
      "name": "python3"
    },
    "language_info": {
      "codemirror_mode": {
        "name": "ipython",
        "version": 3
      },
      "file_extension": ".py",
      "mimetype": "text/x-python",
      "name": "python",
      "nbconvert_exporter": "python",
      "pygments_lexer": "ipython3",
      "version": "3.5.2"
    }
  },
  "nbformat": 4,
  "nbformat_minor": 0
}