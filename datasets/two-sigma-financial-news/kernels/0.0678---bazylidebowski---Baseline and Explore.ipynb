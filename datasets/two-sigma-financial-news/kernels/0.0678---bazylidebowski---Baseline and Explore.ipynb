{
  "cells": [
    {
      "metadata": {
        "_uuid": "8f2839f25d086af736a60e9eeb907d3b93b6e0e5",
        "_cell_guid": "b1076dfc-b9ad-4769-8c92-a6c4dae69d19",
        "trusted": true
      },
      "cell_type": "code",
      "source": "import numpy as np # linear algebra\nimport pandas as pd # data processing, CSV file I/O (e.g. pd.read_csv)\nfrom kaggle.competitions import twosigmanews\n\n# Input data files are available in the \"../input/\" directory.\n# For example, running this (by clicking run or pressing Shift+Enter) will list the files in the input directory\n\nimport os\nprint(os.listdir(\"../input\"))\n\n# Any results you write to the current directory are saved as output.",
      "execution_count": null,
      "outputs": []
    },
    {
      "metadata": {
        "_cell_guid": "79c7e3d0-c299-4dcb-8224-4455121ee9b0",
        "_uuid": "d629ff2d2480ee46fbb7e2d37f6b5fab8052498a",
        "trusted": true
      },
      "cell_type": "code",
      "source": "env = twosigmanews.make_env()",
      "execution_count": null,
      "outputs": []
    },
    {
      "metadata": {
        "trusted": true,
        "_uuid": "2ce6628ee54be70a28ca50efecd1737d5c32867c"
      },
      "cell_type": "code",
      "source": "# We will use these to show the format\nday1_captured = False\nmarket_day1 = None\nnews_day1 = None\npred_template_day1 = None\n\ndays = env.get_prediction_days()\nfor (market_obs_df, news_obs_df, predictions_template_df) in days:\n\n    # Store only the day 1 information\n    if not day1_captured:\n        market_day1 = market_obs_df.copy(True)\n        news_day1 = news_obs_df.copy(True)\n        pred_template_day1 = predictions_template_df.copy(True)\n        day1_captured = True\n\n    # Set all predictions for this day to 1.0\n    predictions_template_df['confidenceValue'] = 1.0\n    env.predict(predictions_template_df)\n\n# Create submission\nenv.write_submission_file()",
      "execution_count": null,
      "outputs": []
    },
    {
      "metadata": {
        "trusted": true,
        "_uuid": "f8220e0d8ef6ee6293571a2513b114e3affe0d36"
      },
      "cell_type": "code",
      "source": "market_day1.head(10)",
      "execution_count": null,
      "outputs": []
    },
    {
      "metadata": {
        "trusted": true,
        "_uuid": "a55665accbf69fa21eca08da9b67015107946382"
      },
      "cell_type": "code",
      "source": "news_day1.head(10)",
      "execution_count": null,
      "outputs": []
    },
    {
      "metadata": {
        "trusted": true,
        "_uuid": "5a6a60be5fdc915fdec6517d551c56610c451f20"
      },
      "cell_type": "code",
      "source": "pred_template_day1.head(10)",
      "execution_count": null,
      "outputs": []
    },
    {
      "metadata": {
        "trusted": true,
        "_uuid": "b0fc1f191ef89370e13ffda5f9afa5cf72deb396"
      },
      "cell_type": "code",
      "source": "",
      "execution_count": null,
      "outputs": []
    }
  ],
  "metadata": {
    "kernelspec": {
      "display_name": "Python 3",
      "language": "python",
      "name": "python3"
    },
    "language_info": {
      "name": "python",
      "version": "3.6.6",
      "mimetype": "text/x-python",
      "codemirror_mode": {
        "name": "ipython",
        "version": 3
      },
      "pygments_lexer": "ipython3",
      "nbconvert_exporter": "python",
      "file_extension": ".py"
    }
  },
  "nbformat": 4,
  "nbformat_minor": 1
}