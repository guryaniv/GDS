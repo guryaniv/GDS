{
  "metadata": {
    "kernelspec": {
      "display_name": "Python 3",
      "language": "python",
      "name": "python3"
    },
    "language_info": {
      "codemirror_mode": {
        "name": "ipython",
        "version": 3
      },
      "file_extension": ".py",
      "mimetype": "text/x-python",
      "name": "python",
      "nbconvert_exporter": "python",
      "pygments_lexer": "ipython3",
      "version": "3.5.2"
    }
  },
  "nbformat": 4,
  "nbformat_minor": 0,
  "cells": [
    {
      "cell_type": "markdown",
      "metadata": {
        "_cell_guid": "9debce8c-0cd1-d1a7-54af-f2c74d595d04",
        "_active": false,
        "collapsed": false
      },
      "source": "# Credit Card Fraud Detection \n\n### Deep Learnin VS Logistic Regression and Decision Tree",
      "execution_count": null,
      "outputs": [],
      "execution_state": "idle"
    },
    {
      "cell_type": "code",
      "execution_count": null,
      "metadata": {
        "collapsed": false,
        "_cell_guid": "449362c7-8907-2a4a-0689-7b9e4da3f8cc",
        "_active": false
      },
      "outputs": [],
      "source": "%pylab inline\nfrom keras.models import Sequential\nfrom keras.layers import Dense, Dropout, Activation, Embedding, LSTM\n\nfrom sklearn.cross_validation import train_test_split\nfrom sklearn.linear_model import LogisticRegression\nfrom sklearn.tree import DecisionTreeClassifier\nfrom sklearn.metrics import accuracy_score\nfrom sklearn.svm import SVC\nfrom sklearn.preprocessing import StandardScaler\nfrom sklearn.utils import resample\nfrom sklearn.model_selection import cross_val_score\n\nfrom keras.models import Sequential\nfrom keras.layers import Dense, Activation, Dropout\nfrom keras.optimizers import SGD, RMSprop\nfrom keras.regularizers import l2\nfrom keras.backend.tensorflow_backend import set_session\nfrom keras.utils import np_utils\nimport keras\n\nimport tensorflow as tf\nimport pandas as pd\nimport numpy as np\n\nfrom IPython.display import SVG, Image\n\nnp.random.seed(0)",
      "execution_state": "idle"
    },
    {
      "cell_type": "markdown",
      "metadata": {
        "_cell_guid": "5ca9f58b-33ba-e3df-edf3-081bc5c4f02e",
        "_active": false,
        "collapsed": false
      },
      "source": "## Data\n\nYou can download... [Credit Card Fraud Detection - Kaggle](https://www.kaggle.com/dalpozz/creditcardfraud)",
      "execution_count": null,
      "outputs": [],
      "execution_state": "idle"
    },
    {
      "cell_type": "code",
      "execution_count": null,
      "metadata": {
        "collapsed": false,
        "_cell_guid": "6fce1a76-bc53-8844-23de-849effb492bb",
        "_active": false
      },
      "outputs": [],
      "source": "data = pd.read_csv('../input/creditcard.csv')\n\n# Preprocessing Amount\namt_scale = StandardScaler()\ndata['NormAmount'] =  amt_scale.fit_transform(data['Amount'].values.reshape(-1, 1))\n\n# Split Train and Test Data\nX = data.drop(['Time', 'Amount', 'Class'], axis=1).as_matrix()\nY = data['Class'].as_matrix()\n\n# Standardization\nscale_x = StandardScaler()\nX = scale_x.fit_transform(X)\n\ntrain_x, test_x, train_y, test_y = train_test_split(X, Y, test_size=0.25, random_state=1)\n\nfraud_test_y = test_y == 1\nfraud_test_x = test_x[fraud_test_y]\nfraud_test_y = test_y[fraud_test_y]\n\ntrain_category_y = np_utils.to_categorical(train_y)\ntest_category_y = np_utils.to_categorical(test_y)",
      "execution_state": "idle"
    },
    {
      "cell_type": "markdown",
      "metadata": {
        "_cell_guid": "dde0e5a7-b5e8-0892-4353-eb69f0284128",
        "_active": false
      },
      "source": "#### Checking the number of fraud transactions in training and test data",
      "execution_count": null,
      "outputs": [],
      "execution_state": "idle"
    },
    {
      "cell_type": "code",
      "execution_count": null,
      "metadata": {
        "collapsed": false,
        "_cell_guid": "fd9d39af-913f-246f-211d-9d1b5c1c01b1",
        "_active": false
      },
      "outputs": [],
      "source": "print('The number of Fraud transactions in Training Data:', train_y[train_y == 1].shape[0])\nprint('The number of Fraud transactions in Test Data:',  test_y[test_y == 1].shape[0])",
      "execution_state": "idle"
    },
    {
      "cell_type": "markdown",
      "metadata": {
        "_cell_guid": "ed1e8a9d-8402-9487-0200-08e3e41ac1c4",
        "_active": false,
        "collapsed": false
      },
      "source": "### Checking the target classes\n\nfraud transactions are only 492 transactions.. so the data is very skewed that you cannot naively run any machine learning algorithms because the model will be trained more often by normal transactions; sparsely trained by fraud transactions. ",
      "execution_count": null,
      "outputs": [],
      "execution_state": "idle"
    },
    {
      "cell_type": "code",
      "execution_count": null,
      "metadata": {
        "collapsed": false,
        "_cell_guid": "6d40cb3c-9264-6f9b-89ba-07227b446d06",
        "_active": false
      },
      "outputs": [],
      "source": "pd.value_counts(data['Class'], sort=True)",
      "execution_state": "idle"
    },
    {
      "cell_type": "markdown",
      "metadata": {
        "_cell_guid": "9bd2846c-4699-acb9-5fde-a7d1e9032733",
        "_active": false,
        "collapsed": false
      },
      "source": "## Under Sampling\n\nThere are two kinds of sampling.. \n\n1. Over Sampling\n2. Under Sampling\n\nWe will make sure our data be 5:5 ratio between normal transactions and fraud transactions",
      "execution_count": null,
      "outputs": [],
      "execution_state": "idle"
    },
    {
      "cell_type": "code",
      "execution_count": null,
      "metadata": {
        "collapsed": false,
        "_cell_guid": "c86a6708-cea7-0c30-ff75-97f9d77ed92d",
        "_active": false
      },
      "outputs": [],
      "source": "def resample(X, Y):\n    index = np.arange(Y.shape[0])\n    fraud_indices = index[Y == 1]\n    normal_indices = index[Y == 0]\n    random_normal_indices = np.random.choice(normal_indices, len(fraud_indices))\n    \n    sample_indices = np.concatenate([fraud_indices, random_normal_indices])\n    np.random.shuffle(sample_indices)\n    sample_indices = np.array(sample_indices)\n    \n    sample_x = X[sample_indices]\n    sample_y = Y[sample_indices]\n    return sample_x, sample_y",
      "execution_state": "idle"
    },
    {
      "metadata": {
        "_cell_guid": "d57d6ad2-2c7c-6333-44c7-90883f7065bf",
        "_active": false,
        "collapsed": false
      },
      "source": "# NOTICE!!!!!!!!!!!!!!!!!!!!!!!!!!!!!!!!!!!!!!!!!!!!!!!!!!!!!!!!!!!!!!!!!!!!!!!!!!!\n\n# ONLY FRAUD DETECTION ACCURACY\n\nI will evaluate trained data only by fraud data because evaluating the whole data will always be more than 99%; the ratio between normal transactions and fraud transactions will result in the misleading accuracy. ",
      "execution_count": null,
      "cell_type": "markdown",
      "outputs": [],
      "execution_state": "idle"
    },
    {
      "cell_type": "markdown",
      "metadata": {
        "_cell_guid": "db249c76-4418-6594-ca53-a1bd144908a0",
        "_active": false,
        "collapsed": false
      },
      "source": "# Logistic Regression\n\n### without resampling",
      "execution_count": null,
      "outputs": [],
      "execution_state": "idle"
    },
    {
      "cell_type": "code",
      "execution_count": null,
      "metadata": {
        "collapsed": false,
        "_cell_guid": "39cc87ef-b79a-eba5-b517-6bbe3c24b774",
        "_active": false
      },
      "outputs": [],
      "source": "lg = LogisticRegression()\nlg.fit(train_x, train_y)\npredicted_y = lg.predict(test_x)\naccuracy_score(test_y, predicted_y)",
      "execution_state": "idle"
    },
    {
      "cell_type": "code",
      "execution_count": null,
      "metadata": {
        "collapsed": false,
        "_cell_guid": "84ec9310-4c6e-2be0-57df-deae6b8c7dfc",
        "_active": false
      },
      "outputs": [],
      "source": "predicted_y = lg.predict(fraud_test_x)\naccuracy_score(fraud_test_y, predicted_y)",
      "execution_state": "idle"
    },
    {
      "cell_type": "markdown",
      "metadata": {
        "_cell_guid": "43cb4136-6d0b-becc-49c9-c785a523bfd4",
        "_active": false,
        "collapsed": false
      },
      "source": "### with resampling",
      "execution_count": null,
      "outputs": [],
      "execution_state": "idle"
    },
    {
      "cell_type": "code",
      "execution_count": null,
      "metadata": {
        "collapsed": false,
        "_cell_guid": "8f40d643-1531-e2a2-1609-4e9c397de673",
        "_active": false
      },
      "outputs": [],
      "source": "lg = LogisticRegression()\nlg.fit(*resample(train_x, train_y))\n\npredicted_y = lg.predict(test_x)\naccuracy_score(test_y, predicted_y)",
      "execution_state": "idle"
    },
    {
      "cell_type": "code",
      "execution_count": null,
      "metadata": {
        "collapsed": false,
        "_cell_guid": "539b43bc-7f41-58d8-6040-42c137af0350",
        "_active": false
      },
      "outputs": [],
      "source": "predicted_y = lg.predict(fraud_test_x)\naccuracy_score(fraud_test_y, predicted_y)",
      "execution_state": "idle"
    },
    {
      "cell_type": "markdown",
      "metadata": {
        "_cell_guid": "37f0624b-a2ca-954b-fdd1-cca88528facc",
        "_active": false,
        "collapsed": false
      },
      "source": "# Decision Tree\n\n### without resampling",
      "execution_count": null,
      "outputs": [],
      "execution_state": "idle"
    },
    {
      "cell_type": "code",
      "execution_count": null,
      "metadata": {
        "collapsed": false,
        "_cell_guid": "054e3e93-6aab-9aca-e4d1-be9db4cf98a9",
        "_active": false
      },
      "outputs": [],
      "source": "dtc = DecisionTreeClassifier(max_depth=10, criterion='entropy')\ndtc.fit(train_x, train_y)\npredicted_y = dtc.predict(test_x)\naccuracy_score(test_y, predicted_y)",
      "execution_state": "idle"
    },
    {
      "cell_type": "code",
      "execution_count": null,
      "metadata": {
        "collapsed": false,
        "_cell_guid": "3ad4e7bf-7aae-d7d0-62ac-4445345636ea",
        "_active": false
      },
      "outputs": [],
      "source": "predicted_y = dtc.predict(fraud_test_x)\naccuracy_score(fraud_test_y, predicted_y)",
      "execution_state": "idle"
    },
    {
      "cell_type": "markdown",
      "metadata": {
        "_cell_guid": "30d295ec-9e9e-e15c-2bb2-681a9d439ba9",
        "_active": false,
        "collapsed": false
      },
      "source": "### with resampling",
      "execution_count": null,
      "outputs": [],
      "execution_state": "idle"
    },
    {
      "cell_type": "code",
      "execution_count": null,
      "metadata": {
        "collapsed": false,
        "_cell_guid": "0604f1d1-42fa-914d-e330-71ab7ef42478",
        "_active": false
      },
      "outputs": [],
      "source": "dtc = DecisionTreeClassifier(max_depth=10, criterion='entropy')\nfor i in range(3):\n    dtc.fit(*resample(train_x, train_y))\n    predicted_y = dtc.predict(test_x)\n    print(accuracy_score(test_y, predicted_y))",
      "execution_state": "idle"
    },
    {
      "cell_type": "code",
      "execution_count": null,
      "metadata": {
        "collapsed": false,
        "_cell_guid": "beb0d212-cf5d-aa62-5860-cd0f11bbc00f",
        "_active": false
      },
      "outputs": [],
      "source": "predicted_y = dtc.predict(fraud_test_x)\naccuracy_score(fraud_test_y, predicted_y)",
      "execution_state": "idle"
    },
    {
      "cell_type": "markdown",
      "metadata": {
        "_cell_guid": "053959c3-a756-12a3-b084-7e8d5b17243d",
        "_active": false,
        "collapsed": false
      },
      "source": "# Deep Learning with Keras",
      "execution_count": null,
      "outputs": [],
      "execution_state": "idle"
    },
    {
      "cell_type": "markdown",
      "metadata": {
        "_cell_guid": "12ccbbd0-d6e8-0aa1-6603-853843146727",
        "_active": false,
        "collapsed": false
      },
      "source": "### Model",
      "execution_count": null,
      "outputs": [],
      "execution_state": "idle"
    },
    {
      "cell_type": "code",
      "execution_count": null,
      "metadata": {
        "collapsed": false,
        "_cell_guid": "7a8bd899-1988-941b-c1a7-39ba271b8830",
        "_active": false
      },
      "outputs": [],
      "source": "config = tf.ConfigProto()\nconfig.gpu_options.per_process_gpu_memory_fraction = 0.1\nset_session(tf.Session(config=config))",
      "execution_state": "idle"
    },
    {
      "cell_type": "code",
      "execution_count": null,
      "metadata": {
        "collapsed": false,
        "_cell_guid": "265c7ada-b080-f858-6d5d-0ffd76d8b42d",
        "_active": true
      },
      "outputs": [],
      "source": "def generate_model():\n    model = Sequential()\n    model.add(Dense(output_dim=512, input_dim=29, name='dense01'))\n    model.add(Activation('sigmoid', name='activation01'))\n    model.add(Dropout(0.5))\n    model.add(Dense(output_dim=256, input_dim=512, name='dense02'))\n    model.add(Activation('sigmoid', name='activation02'))\n    model.add(Dropout(0.5))\n    model.add(Dense(output_dim=1, name='dense03'))\n    model.add(Activation('sigmoid', name='activation03'))\n\n    model.compile(loss='binary_crossentropy', \n                  optimizer='adam', \n                  metrics=['accuracy'])\n    return model\n\n\n# # Visualization\nmodel = generate_model()\nmodel.summary()",
      "execution_state": "idle"
    },
    {
      "cell_type": "markdown",
      "metadata": {
        "_cell_guid": "00afd014-49a4-b8cf-746d-68de1ffb1e24",
        "_active": false,
        "collapsed": false
      },
      "source": "### without resampling",
      "execution_count": null,
      "outputs": [],
      "execution_state": "idle"
    },
    {
      "cell_type": "code",
      "execution_count": null,
      "metadata": {
        "collapsed": false,
        "scrolled": false,
        "_cell_guid": "0d9acf7b-5bf0-36ba-98f6-b4b92ac103e1",
        "_active": false
      },
      "outputs": [],
      "source": "model = generate_model()\nmodel.fit(train_x, train_y, verbose=2)",
      "execution_state": "idle"
    },
    {
      "cell_type": "code",
      "execution_count": null,
      "metadata": {
        "collapsed": false,
        "_cell_guid": "b55e989b-4767-2b78-d307-9604045aa8bf",
        "_active": false
      },
      "outputs": [],
      "source": "predicted_y = model.predict(test_x)\npredicted_y = predicted_y.reshape(predicted_y.shape[0])\npredicted_y = np.where(predicted_y >= 0.5, 1, 0)\nprint(accuracy_score(test_y, predicted_y))",
      "execution_state": "idle"
    },
    {
      "cell_type": "code",
      "execution_count": null,
      "metadata": {
        "collapsed": false,
        "_cell_guid": "541c191f-e5d7-9786-8ba3-e7d4af420e4f",
        "_active": false
      },
      "outputs": [],
      "source": "predicted_y = model.predict(fraud_test_x)\npredicted_y = predicted_y.reshape(predicted_y.shape[0])\npredicted_y = np.where(predicted_y >= 0.5, 1, 0)\naccuracy_score(fraud_test_y, predicted_y)",
      "execution_state": "idle"
    },
    {
      "cell_type": "markdown",
      "metadata": {
        "_cell_guid": "e18206a1-3307-da81-84eb-1fd0bf8cad27",
        "_active": false,
        "collapsed": false
      },
      "source": "### with resampling",
      "execution_count": null,
      "outputs": [],
      "execution_state": "idle"
    },
    {
      "cell_type": "code",
      "execution_count": null,
      "metadata": {
        "collapsed": false,
        "_cell_guid": "3b6995d0-341e-c9f3-6e04-b3223f48f326",
        "_active": false
      },
      "outputs": [],
      "source": "model = generate_model()\n\nfor i in range(20):\n    history = model.fit(*resample(train_x, train_y), verbose=0, nb_epoch=10)\n    loss = np.mean(history.history.get('loss'))\n    acc = np.mean(history.history.get('acc'))\n    print('Epoch[%2d]' % i, 'loss: %.4f, ' % loss, 'Accuracy: %.4f'% acc)\n    ",
      "execution_state": "idle"
    },
    {
      "cell_type": "code",
      "execution_count": null,
      "metadata": {
        "collapsed": false,
        "_cell_guid": "1a256301-844a-2e4b-b929-6b421cc2c504",
        "_active": false
      },
      "outputs": [],
      "source": "predicted_y = model.predict(test_x)\npredicted_y = predicted_y.reshape(predicted_y.shape[0])\npredicted_y = np.where(predicted_y >= 0.5, 1, 0)\nprint(accuracy_score(test_y, predicted_y))",
      "execution_state": "idle"
    },
    {
      "cell_type": "code",
      "execution_count": null,
      "metadata": {
        "collapsed": false,
        "_cell_guid": "ec751a60-fde2-91a6-20de-2289f1079332",
        "_active": false
      },
      "outputs": [],
      "source": "predicted_y = model.predict(fraud_test_x)\npredicted_y = predicted_y.reshape(predicted_y.shape[0])\npredicted_y = np.where(predicted_y >= 0.5, 1, 0)\naccuracy_score(fraud_test_y, predicted_y)",
      "execution_state": "idle"
    }
  ]
}