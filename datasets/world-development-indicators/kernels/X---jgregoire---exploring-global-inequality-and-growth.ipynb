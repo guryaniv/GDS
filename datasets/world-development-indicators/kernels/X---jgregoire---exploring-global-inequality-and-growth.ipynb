{
  "cells": [
    {
      "cell_type": "markdown",
      "metadata": {
        "_cell_guid": "8309fdab-bc63-49c4-82be-e0cc621efeda"
      },
      "source": [
        "#Looking atInequalities specifically in Europe, forked\n",
        "#Looking at Global Inequality. \n",
        "Investigating global inequality based on GNI per capita and wealth distributions over time.\n"
      ]
    },
    {
      "cell_type": "code",
      "execution_count": null,
      "metadata": {
        "_cell_guid": "005130ee-3f32-4e21-819a-077575a59c6f"
      },
      "outputs": [],
      "source": [
        "import numpy as np # linear algebra\n",
        "import pandas as pd # data processing, CSV file I/O (e.g. pd.read_csv)\n",
        "import matplotlib.pyplot as plt\n",
        "import seaborn as sns\n",
        "\n",
        "\n",
        "\n",
        "pd.set_option('display.max_rows', 50)\n",
        "pd.set_option('display.max_columns', 50)\n",
        "pd.set_option('display.width', 1000)\n",
        "\n",
        "document = pd.read_csv('../input/Indicators.csv')\n",
        "\n",
        "#want to see all the countries listed in the document  \n",
        "document['CountryName'].unique()\n",
        "\n",
        "#get rid of indicators that aren't countries \n",
        "list = ['Arab World', 'Caribbean small states', 'Central Europe and the Baltics',\n",
        " 'East Asia & Pacific (all income levels)',\n",
        " 'East Asia & Pacific (developing only)', 'Euro area',\n",
        " 'Europe & Central Asia (all income levels)',\n",
        " 'Europe & Central Asia (developing only)', 'European Union',\n",
        " 'Fragile and conflict affected situations',\n",
        " 'Heavily indebted poor countries (HIPC)', 'High income',\n",
        " 'High income: nonOECD', 'High income: OECD',\n",
        " 'Latin America & Caribbean (all income levels)',\n",
        " 'Latin America & Caribbean (developing only)',\n",
        " 'Least developed countries: UN classification', 'Low & middle income',\n",
        " 'Low income', 'Lower middle income',\n",
        " 'Middle East & North Africa (all income levels)',\n",
        " 'Middle East & North Africa (developing only)', 'Middle income',\n",
        " 'North America' 'OECD members' ,'Other small states',\n",
        " 'Pacific island small states', 'Small states', 'South Asia',\n",
        " 'Sub-Saharan Africa (all income levels)',\n",
        " 'Sub-Saharan Africa (developing only)' ,'Upper middle income' ,'World', 'North America', 'OECD members']\n",
        "\n",
        "\n",
        "\n",
        "\n"
      ]
    },
    {
      "cell_type": "markdown",
      "metadata": {
        "_cell_guid": "6823db1a-188b-4e72-a31f-700e566d2a31"
      },
      "source": [
        "##Identifying the \"poor\" countries\n",
        "What are the 15 countries that had the lowest average incomes in 1960 and 2014?"
      ]
    },
    {
      "cell_type": "code",
      "execution_count": null,
      "metadata": {
        "_cell_guid": "2779da2b-5b1a-474c-839f-f2d186f483ff"
      },
      "outputs": [],
      "source": [
        "lowestGNI_2014 = document.query(\"IndicatorCode == 'NY.GNP.PCAP.CD' & CountryName != list & Year == 2014\").sort_values(by = 'Value', ascending = True)[:15]\n",
        "lowestGNI_1960 = document.query(\"IndicatorCode == 'NY.GNP.PCAP.CD' & CountryName != list & Year == 1962\").sort_values(by = 'Value', ascending = True)[:15]\n",
        "\n",
        "fig = plt.subplots()\n",
        "\n",
        "graph1 = sns.barplot(x = \"Value\", y = \"CountryName\", palette = \"PuBu\", data = lowestGNI_1960)\n",
        "plt.xlabel('Average Income ($)', fontsize = 14)\n",
        "plt.ylabel('Country',  fontsize=14)\n",
        "plt.title('The 15 Countries with Lowest Average Income in 1962', fontsize = 14)\n",
        "\n",
        "\n",
        "\n",
        "\n"
      ]
    },
    {
      "cell_type": "code",
      "execution_count": null,
      "metadata": {
        "_cell_guid": "16e31c48-5414-4b62-98d2-7e70c3c46368"
      },
      "outputs": [],
      "source": [
        "fig2 = plt.subplots()\n",
        "\n",
        "graph2 = sns.barplot(x = \"Value\", y = \"CountryName\", palette = \"PuBu\", data = lowestGNI_2014)\n",
        "plt.xlabel('Average Income($)', fontsize = 14)\n",
        "plt.ylabel('Country', fontsize = 14)\n",
        "plt.title('The 15 Countries with Lowest Average Income in 2014', fontsize = 14)\n",
        "\n"
      ]
    },
    {
      "cell_type": "markdown",
      "metadata": {
        "_cell_guid": "4cb66dba-4681-4254-843e-873b6cb425ea"
      },
      "source": [
        "###Which countries have consistently been 'poor'?"
      ]
    },
    {
      "cell_type": "code",
      "execution_count": null,
      "metadata": {
        "_cell_guid": "5fee4d59-428c-4d64-87b6-f1923c0e33c1"
      },
      "outputs": [],
      "source": [
        "for key,group in lowestGNI_1960.groupby(['CountryName']):\n",
        "    for key2, group2 in lowestGNI_2014.groupby(['CountryName']):\n",
        "        if key == key2:\n",
        "            print (key)"
      ]
    },
    {
      "cell_type": "markdown",
      "metadata": {
        "_cell_guid": "95a86264-da73-4a74-abca-24d44eecbd3a"
      },
      "source": [
        "It is interesting to note the geographic differences of low income countries in 1962 and 2014. In 1962, 5 of the 15 countries (China, India, Korea, Pakistan, Nepal) with lowest average income in the world were located in Asia. Switch to 2014 and it is interesting to note that every single one of the countries with lowest income in the world are all African with the exception of Afghanistan. \n",
        "\n",
        "By running a simple for loop after visualizing the data, it can be seen that 4 countries- Burundi, Central African Republic, Malawi, and Togo- have been in the poorest 15 in both the past (1960s) and the present."
      ]
    },
    {
      "cell_type": "markdown",
      "metadata": {
        "_cell_guid": "287a5193-bb0d-4a5f-a0a4-aa68881c77b5"
      },
      "source": [
        "##Identifying the \"rich\" countries\n",
        "What countries had the highest average incomes in both 1960 and 2014?"
      ]
    },
    {
      "cell_type": "code",
      "execution_count": null,
      "metadata": {
        "_cell_guid": "439776a7-801c-446c-a4f6-3b1e68f4a3dc"
      },
      "outputs": [],
      "source": [
        "rich_1960 = document.query(\"IndicatorCode == 'NY.GNP.PCAP.CD' & CountryName != list & Year == 1962\").sort_values(by = 'Value')[-15:]\n",
        "rich_2014 = document.query(\"IndicatorCode == 'NY.GNP.PCAP.CD' & CountryName != list & Year == 2014\").sort_values(by= 'Value')[-15:]"
      ]
    },
    {
      "cell_type": "code",
      "execution_count": null,
      "metadata": {
        "_cell_guid": "847fc7c2-3629-4c46-96e4-952767742c4a"
      },
      "outputs": [],
      "source": [
        "fig = plt.subplots()\n",
        "\n",
        "graph_rich = sns.barplot(x = \"Value\", y = \"CountryName\", palette = \"BuGn\", data = rich_1960)\n",
        "plt.xlabel('Average Income ($)', fontsize = 14)\n",
        "plt.ylabel('Country',  fontsize=14)\n",
        "plt.title('The 15 Countries with Highest Average Income in 1960', fontsize = 14)\n",
        "\n",
        "\n"
      ]
    },
    {
      "cell_type": "code",
      "execution_count": null,
      "metadata": {
        "_cell_guid": "db5660ec-0057-4948-87c4-c986efbb73ee"
      },
      "outputs": [],
      "source": [
        "fig = plt.subplots()\n",
        "\n",
        "graph_rich2 = sns.barplot(x = \"Value\", y = \"CountryName\", palette = \"BuGn\", data = rich_2014)\n",
        "plt.xlabel('Average Income ($)', fontsize = 14)\n",
        "plt.ylabel('Country',  fontsize=14)\n",
        "plt.title('The 15 Countries with Highest Average Income in 2014', fontsize = 14)\n",
        "\n"
      ]
    },
    {
      "cell_type": "markdown",
      "metadata": {
        "_cell_guid": "dd8a5595-8757-4532-aa1f-f578b046fa9e"
      },
      "source": [
        "###Which countries have consistently been 'rich'?"
      ]
    },
    {
      "cell_type": "code",
      "execution_count": null,
      "metadata": {
        "_cell_guid": "ffe94e67-8dc2-4a14-bfb1-38150e5e3b35"
      },
      "outputs": [],
      "source": [
        "for key, group in rich_1960.groupby(['CountryName']):\n",
        "    for key2, group2 in rich_2014.groupby(['CountryName']):\n",
        "        if key == key2:\n",
        "            print (key)"
      ]
    },
    {
      "cell_type": "markdown",
      "metadata": {
        "_cell_guid": "9dafa8bc-da9c-46f1-b46d-686cf81b48d2"
      },
      "source": [
        "There are a lot of unique attributes to note about the 'rich' countries. For they most part, they are located in the Western world- particularly in W. Europe, Scandinavia, and N.America. 9 of the 15 countries were wealthy in both the past (1960s) and the present- suggesting that having wealth in the past is a big indicator of having wealth in the present. \n",
        "Another interesting thing to note is the appearance of newer 'rich' countries from the Middle East (Qatar, Kuwait) and East Asia (Macao, Singapore). \n",
        "Furthermore, it can also be seen that transitioning from 1960s to the present, the average incomes increased significantly in the developed world- suggesting that wealth has been accumulating much quicker in only certain pockets of the planet."
      ]
    },
    {
      "cell_type": "markdown",
      "metadata": {
        "_cell_guid": "d0329e50-24cf-4d18-b956-cfc79ab95317"
      },
      "source": [
        "##Comparing 'rich', 'emerging', and 'poor' countries"
      ]
    },
    {
      "cell_type": "markdown",
      "metadata": {
        "_cell_guid": "fd1fd518-e89e-4d99-b116-4c13e9e732f0"
      },
      "source": [
        "###Tracking Average Income from 1960-2014 "
      ]
    },
    {
      "cell_type": "code",
      "execution_count": null,
      "metadata": {
        "_cell_guid": "2cfb940c-9186-41df-84f7-30206eafd7c1"
      },
      "outputs": [],
      "source": [
        "fig8, ax8 = plt.subplots(figsize = [15,8], ncols = 2)\n",
        "ax6, ax7 = ax8\n",
        "\n",
        "labels = []\n",
        "GNP_revised = document.query(\"IndicatorCode == 'NY.GNP.PCAP.CD' & CountryName == ['Australia','Austria','Canada', 'Luxembourg', 'Netherlands','Norway','United States']\").groupby(['CountryName'])\n",
        "for key, group in GNP_revised:\n",
        "    ax6 = group.plot(ax = ax6, kind = \"line\", x = \"Year\", y = \"Value\", title = \"Average Income from 1960-2014 in 'Rich' Countries\")\n",
        "    labels.append(key)\n",
        "\n",
        "lines, _ = ax6.get_legend_handles_labels()\n",
        "ax6.legend(lines, labels, loc='best')\n",
        "\n",
        "labels2 = []\n",
        "GNP_revised = document.query(\"IndicatorCode == 'NY.GNP.PCAP.CD' & CountryName == ['Burundi', 'Togo', 'Malawi', 'Central African Republic']\").groupby(['CountryName'])\n",
        "for key, group in GNP_revised:\n",
        "    ax7 = group.plot(ax = ax7, kind = \"line\", x = \"Year\", y = \"Value\", title = \"Average Income from 1960-2014 in 'Poor' Countries\")\n",
        "    labels2.append(key)\n",
        "\n",
        "lines, _ = ax7.get_legend_handles_labels()\n",
        "ax7.legend(lines, labels2, loc='best')"
      ]
    },
    {
      "cell_type": "markdown",
      "metadata": {
        "_cell_guid": "46e1bf47-c467-44b8-bc85-8e09c6246886"
      },
      "source": [
        "There are some noticeable observations here:\n",
        "\n",
        "1) Growth in income for \"rich\" countries is much greater than the growth in income for the \"poorer\" countries.\n",
        "\n",
        "2) In \"poor\" countries, we see that growth in income is not as steady as in \"rich\" countries. Since change in income is so much smaller overtime, even slight income changes appear very dramatic for \"poor\" countries.\n"
      ]
    },
    {
      "cell_type": "markdown",
      "metadata": {
        "_cell_guid": "e26b56cd-fea8-4598-9908-e04e67ac1487"
      },
      "source": [
        "###Wealth is acculumating faster in certain countries than others"
      ]
    },
    {
      "cell_type": "code",
      "execution_count": null,
      "metadata": {
        "_cell_guid": "b43b1368-6aa1-4311-9410-1623a79100bc"
      },
      "outputs": [],
      "source": [
        "fig, (ax1, ax2) = plt.subplots(1, 2, figsize = [15,8], sharex = True)\n",
        "income_query = document.query(\"IndicatorCode == 'NY.GNP.PCAP.CD' & Year == 1962 & CountryName == ['Malawi', 'China', 'Luxembourg', 'United States']\")\n",
        "income_query_graph = sns.barplot(x = 'CountryName', y = 'Value', order = ['Malawi', 'China', 'Luxembourg', 'United States'], ax = ax1, data = income_query)\n",
        "ax1.set_title(\"Average Income in 1962\", fontsize = 14)\n",
        "ax1.set_xlabel('Country', fontsize = 14)\n",
        "ax1.set_ylabel('Average Income ($)', fontsize = 14)\n",
        "\n",
        "for p in income_query_graph.patches:\n",
        "    height = p.get_height()\n",
        "    income_query_graph.text(p.get_x() + p.get_width()/2., 1.05*height,\n",
        "                '%d' % int(height), ha='center', va='bottom')\n",
        "    \n",
        "income_query_now=document.query(\"IndicatorCode == 'NY.GNP.PCAP.CD' & Year == 2014 & CountryName == ['Malawi', 'China', 'Luxembourg', 'United States']\")\n",
        "income_query_now_graph = sns.barplot(x = 'CountryName', y = 'Value', order = ['Malawi', 'China', 'Luxembourg', 'United States'], ax = ax2, data = income_query_now)\n",
        "ax2.set_title(\"Average Income in 2014\", fontsize = 14)\n",
        "ax2.set_xlabel('Country', fontsize = 14)\n",
        "ax2.set_ylabel('Average Income ($)', fontsize = 14)\n",
        "plt.ylim([0,90000])\n",
        "\n",
        "for p in income_query_now_graph.patches:\n",
        "    height = p.get_height()\n",
        "    income_query_now_graph.text(p.get_x() + p.get_width()/2., 1.05*height,\n",
        "                '%d' % int(height), ha='center', va='bottom')"
      ]
    },
    {
      "cell_type": "markdown",
      "metadata": {
        "_cell_guid": "931560f9-17d1-4fda-b188-dbd69acc5a17"
      },
      "source": [
        "It turns out that compared to Luxembourg and United States, citizens of both Malawi and China had substantially lower incomes in 1962. The average citizen in Malawi only made $50/yr in 1962! The average American citizen made almost 7x's the average Malawian citizen!\n",
        "\n",
        "So yes, the \"rich\" countries had a higher leg up compared to the \"poor\" countries!\n",
        "\n",
        "It is also interesting to note that at $250 per year, the average income of a Malawian in 2014 is still substantially less than the average income of $3280 per yer of an American citizen in 1962. \n",
        "\n",
        "In fact, this is an interesting trend to note for several of the current 'poor' countries. The average incomes of these 'poor' countries is still considerably less compared to the incomes of 'rich' countries 40 years ago. This suggests that not only did 'poor' countries start off on an uneven foot, economic growth is affecting 'rich' countries significantly more than they are the 'poor' countries. This phenomena is occurring to the point that the poorest countries could not even achieve the incomes of the 'rich' countries 40 years ago before the 'rich' countries enormous growth in income.  "
      ]
    },
    {
      "cell_type": "code",
      "execution_count": null,
      "metadata": {
        "_cell_guid": "f125f1cd-b6d9-4628-86cd-3b52ea51d66d"
      },
      "outputs": [],
      "source": [
        "a = pd.Series(income_query_now['Value'].reset_index(drop = True))\n",
        "b = pd.Series(income_query['Value'].reset_index(drop = True))\n",
        "ratio = a/b\n",
        "\n",
        "income_ratio = sns.barplot(x = ['China', 'Luxembourg', 'Malawi', 'United States'], y = ratio, order = ['China', 'Luxembourg', 'United States', 'Malawi'])\n",
        "plt.title('Measuring Income Growth- Which countries have seen the most change in incomes?', fontsize = 11)\n",
        "plt.xlabel('Country', fontsize = 10)\n",
        "plt.ylabel('Income Ratio (2014 Income/1962 Income)', fontsize = 10)\n",
        "\n",
        "for p in income_ratio.patches:\n",
        "    height = p.get_height()\n",
        "    income_ratio.text(p.get_x() + p.get_width()/2., 1.05*height,\n",
        "                '%d' % int(height), ha='center', va='bottom')"
      ]
    },
    {
      "cell_type": "markdown",
      "metadata": {
        "_cell_guid": "cc5b2eec-9544-4cbe-981a-8e5237b20339"
      },
      "source": [
        "Change in income has been the most radical for China. The average income of a Chinese citizen has increased by over 100x's. China's insane growth makes Luxembourg and US considerable growth look miniscule. While in absolute numbers, China still lags behind 'rich' coutries in absolute income numbers, China's actual growth measured in terms of ratios is incredible.\n",
        "\n",
        "Indeed, China has done a good itself lifting itself out of poverty going from being one of the poorest countries in the world in the 60s to garnering itself in the ranks of being a middle income economy. \n",
        "\n",
        "That is the good news. \n",
        "\n",
        "The bad news is that 'poor' countries such as Malawi have not encountered much income growth. Not only did these countries make less compared to other countries in the 60s, they have also not been able to keep up with other countries in terms of growth. "
      ]
    },
    {
      "cell_type": "markdown",
      "metadata": {
        "_cell_guid": "04af5147-f065-4cd2-8794-37b69fda5df7"
      },
      "source": [
        "###China vs Malawi-- how do their average incomes compare overtime?"
      ]
    },
    {
      "cell_type": "code",
      "execution_count": null,
      "metadata": {
        "_cell_guid": "c47d8def-8e9e-4b10-b224-598d60df1404"
      },
      "outputs": [],
      "source": [
        "fig11, ax21 = plt.subplots(figsize = [15,8])\n",
        "labels_cGNP = []\n",
        "for key, group in document.query(\"IndicatorCode == 'NY.GNP.PCAP.CD' & CountryName == ['China', 'Malawi']\").groupby(['CountryName']):\n",
        "    ax21 = group.plot(ax=ax21, kind = \"line\", x = \"Year\", y = \"Value\", title = \"Comparing average incomes- China vs Malawi\")\n",
        "    labels_cGNP.append(key)\n",
        "\n",
        "lines, _ = ax21.get_legend_handles_labels()\n",
        "ax21.legend(lines, labels_cGNP, loc = 'best')"
      ]
    },
    {
      "cell_type": "markdown",
      "metadata": {
        "_cell_guid": "8ddf3651-ed7c-4cf5-904f-51ecd40fc8e3"
      },
      "source": [
        "China is truly the miracle economy of the world. It's growth is literally exponential. "
      ]
    },
    {
      "cell_type": "markdown",
      "metadata": {
        "_cell_guid": "e0071fc9-4b2d-4e2c-98f6-5add51ba13f8"
      },
      "source": [
        "###China vs Malawi vs Luxembourg vs United States-- how their average incomes compare overtime"
      ]
    },
    {
      "cell_type": "code",
      "execution_count": null,
      "metadata": {
        "_cell_guid": "f62511c5-6317-409b-b3a7-4cf8ed5fa614"
      },
      "outputs": [],
      "source": [
        "fig12, axs12 = plt.subplots(figsize = [15,8])\n",
        "labels_cross3pt2 = []\n",
        "for key, group in document.query(\"IndicatorCode == 'NY.GNP.PCAP.CD' & CountryName == ['China', 'Malawi', 'Luxembourg', 'United States']\").groupby(['CountryName']):\n",
        "    axs12 = group.plot(ax = axs12, kind = \"line\", x = \"Year\", y = \"Value\", title = \"Comparing average income- China vs Malawi vs Luxembourg vs US\")\n",
        "    labels_cross3pt2.append(key)\n",
        "\n",
        "lines,_ = axs12.get_legend_handles_labels()\n",
        "axs12.legend(lines, labels_cross3pt2, loc = 'best')"
      ]
    },
    {
      "cell_type": "markdown",
      "metadata": {
        "_cell_guid": "2caeb5e3-7272-4303-9530-c536b66fb44f"
      },
      "source": [
        "Even though China has showed extraordinary growth, it by no mean has an average income that compares to those of the 'rich' countries. China's growth is most definitely explosive, but it still has a long way to go to achieve the average income of a 'rich' country. While it's growth curve is by far the most impressive out of the 4 countries, there is still an obvious divide in income with China and Malawi belonging on one side and Luxembourg and the US on another."
      ]
    },
    {
      "cell_type": "markdown",
      "metadata": {
        "_cell_guid": "0ee72f27-a653-4292-82c3-a05a4c82c335"
      },
      "source": [
        "##Wealth Distributions - Malawi vs China vs United States vs Luxembourg"
      ]
    },
    {
      "cell_type": "code",
      "execution_count": null,
      "metadata": {
        "_cell_guid": "9b57244b-4242-480e-9bd8-469351d023ca"
      },
      "outputs": [],
      "source": [
        "income_share = document.query(\"IndicatorCode == ['SI.DST.FRST.20','SI.DST.02ND.20','SI.DST.03RD.20','SI.DST.04TH.20','SI.DST.05TH.20'] & CountryName == ['Malawi', 'China', 'Luxembourg', 'United States'] & Year == 2010 \").groupby(\"IndicatorCode\")\n",
        "N = 4\n",
        "i1 = income_share.get_group('SI.DST.FRST.20')['Value']\n",
        "i2 = income_share.get_group('SI.DST.02ND.20')['Value']\n",
        "i3 = income_share.get_group('SI.DST.03RD.20')['Value']\n",
        "i4 = income_share.get_group('SI.DST.04TH.20')['Value']\n",
        "i5 = income_share.get_group('SI.DST.05TH.20')['Value']\n",
        "\n",
        "f, ax_1 = plt.subplots(1, figsize = (15,8))\n",
        "ind = np.arange(N)\n",
        "width = 0.35\n",
        "p1 = ax_1.bar(ind, i1, width, color = '#404040')\n",
        "p2 = ax_1.bar(ind, i2, width, color = '#bababa', bottom = i1)\n",
        "p3 = ax_1.bar(ind, i3, width, color = '#ffffff', bottom = [i+j for i,j in zip(i1,i2)])\n",
        "p4 = ax_1.bar(ind, i4, width, color = '#f4a582', bottom = [i+j+k for i,j,k in zip(i1,i2,i3)])\n",
        "p5 = ax_1.bar(ind, i5, width, color = '#ca0020', bottom = [i+j+k+l for i,j,k,l in zip(i1,i2,i3,i4)])\n",
        "plt.ylabel('Percent', fontsize = 14)\n",
        "plt.xlabel('Country Name', fontsize = 14)\n",
        "plt.xticks(ind + (width/2), ('China', 'Luxembourg', 'Malawi', 'United States'))\n",
        "plt.title('Examining wealth distributions- China, Luxembourg, Malawi, and US', fontsize = 14)\n",
        "plt.legend((p1[0],p2[0],p3[0],p4[0],p5[0]),('Income Share Lowest 20%', 'Income Share Second 20%', 'Income Share Third 20%', 'Income Share Fourth 20%', 'Income Share Highest 20%'), loc = 'upper right', bbox_to_anchor=(1.3, 0.9))\n",
        "axes = plt.gca()\n",
        "axes.set_ylim([0,100])"
      ]
    },
    {
      "cell_type": "markdown",
      "metadata": {
        "_cell_guid": "99c6d41a-d6b0-4e58-bda2-68d3c191eae7"
      },
      "source": [
        "China and Malawi have more skewed wealth distributions compared to Luxembourg and United States. Luxembourg has the most even wealth distribution while Malawi has the most skewed wealth distribution with the most of its income share beloging to the highest 20%.\n",
        "\n",
        "However, wealth distributions do not change radically alter based on average income of the country. Regardless of the average income for a country, it can be clearly seen that income share is mostly allocated to the highest 20%!"
      ]
    }
  ],
  "metadata": {
    "_change_revision": 0,
    "_is_fork": false,
    "kernelspec": {
      "display_name": "Python 3",
      "language": "python",
      "name": "python3"
    },
    "language_info": {
      "codemirror_mode": {
        "name": "ipython",
        "version": 3
      },
      "file_extension": ".py",
      "mimetype": "text/x-python",
      "name": "python",
      "nbconvert_exporter": "python",
      "pygments_lexer": "ipython3",
      "version": "3.5.2"
    }
  },
  "nbformat": 4,
  "nbformat_minor": 0
}