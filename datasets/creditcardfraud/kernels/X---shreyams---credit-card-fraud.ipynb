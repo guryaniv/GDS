{
  "cells": [
    {
      "cell_type": "markdown",
      "metadata": {
        "_cell_guid": "1392296a-f48b-daa0-7aee-e2cf383d7f4f"
      },
      "source": [
        "Credit Card Fraud Detection\n",
        "\n",
        "\n",
        "----------\n",
        "- Transform data to contain numeric values\n",
        "- Resampled data by oversampling using RandomOverSampler\n",
        "- Evaluated all the algorithms for accuracy\n",
        "- Chose best 2 algorithms, scaled and estimated accuracy\n",
        "- Achieved 100% accuracy, [ precision, recall and F1 score = 1.0]"
      ]
    },
    {
      "cell_type": "code",
      "execution_count": null,
      "metadata": {
        "_cell_guid": "5200eb69-ea43-cd34-bb07-f4bb8b522ca2"
      },
      "outputs": [],
      "source": [
        "# This Python 3 environment comes with many helpful analytics libraries installed\n",
        "# It is defined by the kaggle/python docker image: https://github.com/kaggle/docker-python\n",
        "# For example, here's several helpful packages to load in \n",
        "\n",
        "import numpy as np # linear algebra\n",
        "import pandas as pd # data processing, CSV file I/O (e.g. pd.read_csv)\n",
        "\n",
        "# Input data files are available in the \"../input/\" directory.\n",
        "# For example, running this (by clicking run or pressing Shift+Enter) will list the files in the input directory\n",
        "\n",
        "from subprocess import check_output\n",
        "print(check_output([\"ls\", \"../input\"]).decode(\"utf8\"))\n",
        "\n",
        "# Any results you write to the current directory are saved as output."
      ]
    },
    {
      "cell_type": "code",
      "execution_count": null,
      "metadata": {
        "_cell_guid": "7a9cf6a1-3707-ff50-d96b-4eb242e1c648"
      },
      "outputs": [],
      "source": [
        "from matplotlib import pyplot\n",
        "from pandas import read_csv\n",
        "from pandas import set_option\n",
        "from pandas.tools.plotting import scatter_matrix\n",
        "from sklearn.preprocessing import StandardScaler\n",
        "from sklearn.model_selection import train_test_split\n",
        "from sklearn.model_selection import KFold\n",
        "from sklearn.model_selection import cross_val_score\n",
        "from sklearn.model_selection import GridSearchCV\n",
        "from sklearn.metrics import classification_report\n",
        "from sklearn.metrics import confusion_matrix\n",
        "from sklearn.metrics import accuracy_score\n",
        "from sklearn.pipeline import Pipeline\n",
        "from sklearn.linear_model import LogisticRegression\n",
        "from sklearn.tree import DecisionTreeClassifier\n",
        "from sklearn.neighbors import KNeighborsClassifier\n",
        "from sklearn.discriminant_analysis import LinearDiscriminantAnalysis\n",
        "from sklearn.naive_bayes import GaussianNB\n",
        "from sklearn.svm import SVC\n",
        "from sklearn.ensemble import AdaBoostClassifier\n",
        "from sklearn.ensemble import GradientBoostingClassifier\n",
        "from sklearn.ensemble import RandomForestClassifier\n",
        "from sklearn.ensemble import ExtraTreesClassifier\n",
        "from imblearn.over_sampling import SMOTE\n",
        "from imblearn.over_sampling import RandomOverSampler "
      ]
    },
    {
      "cell_type": "code",
      "execution_count": null,
      "metadata": {
        "_cell_guid": "634fd58b-c454-2bfc-cc66-335abb7db914"
      },
      "outputs": [],
      "source": [
        "# Loading the dataset\n",
        "# Removing header names as they are not meaningful\n",
        "url = '../input/creditcard.csv'\n",
        "dataset = read_csv(url, header = None)"
      ]
    },
    {
      "cell_type": "code",
      "execution_count": null,
      "metadata": {
        "_cell_guid": "2bf07620-1537-8892-0aae-7666a75828b7"
      },
      "outputs": [],
      "source": [
        "#Shape\n",
        "print(dataset.shape)"
      ]
    },
    {
      "cell_type": "code",
      "execution_count": null,
      "metadata": {
        "_cell_guid": "b4bde97f-02a5-7236-57bb-5f272726bc75"
      },
      "outputs": [],
      "source": [
        "#types\n",
        "set_option('display.max_rows', 500)\n",
        "print(dataset.dtypes)"
      ]
    },
    {
      "cell_type": "code",
      "execution_count": null,
      "metadata": {
        "_cell_guid": "44016df6-7bdc-4ec5-2548-18ecc9c76f71"
      },
      "outputs": [],
      "source": [
        "print(type(dataset))"
      ]
    },
    {
      "cell_type": "code",
      "execution_count": null,
      "metadata": {
        "_cell_guid": "fcdb4765-16e4-e043-d4ef-14c80f722409"
      },
      "outputs": [],
      "source": [
        "dataset = dataset.apply(pd.to_numeric, errors = 'coerce')"
      ]
    },
    {
      "cell_type": "code",
      "execution_count": null,
      "metadata": {
        "_cell_guid": "46b577b8-ddda-4138-8f08-7867431c1622"
      },
      "outputs": [],
      "source": [
        "print(dataset.dtypes)"
      ]
    },
    {
      "cell_type": "code",
      "execution_count": null,
      "metadata": {
        "_cell_guid": "98883c48-5be2-842e-073a-12cee3b72616"
      },
      "outputs": [],
      "source": [
        "# head\n",
        "set_option('precision', 3)\n",
        "print(dataset.describe())"
      ]
    },
    {
      "cell_type": "code",
      "execution_count": null,
      "metadata": {
        "_cell_guid": "8655a588-3d3b-c2d0-4ab4-cf2a996b77f2"
      },
      "outputs": [],
      "source": [
        "print(dataset.groupby(30).size())"
      ]
    },
    {
      "cell_type": "code",
      "execution_count": null,
      "metadata": {
        "_cell_guid": "f207748f-9d75-5baa-2f33-fb05caaf7184"
      },
      "outputs": [],
      "source": [
        "# Histogram\n",
        "dataset.hist(sharex = False, sharey = False, xlabelsize = 1, ylabelsize = 1)\n",
        "pyplot.show()\n",
        "#sm = SMOTE(random_state=42)\n",
        "#dset_resampled = sm.fit_sample(dataset)"
      ]
    },
    {
      "cell_type": "code",
      "execution_count": null,
      "metadata": {
        "_cell_guid": "df6fe558-932b-b7a3-9fa6-33aa86769445"
      },
      "outputs": [],
      "source": [
        "# Resample data by over sampling using RandomSampler\n",
        "# Change NaN and infinite values\n",
        "array = dataset.values\n",
        "inf_indices = np.where(np.isinf(array))\n",
        "nan_indices = np.where(np.isnan(array))\n",
        "print(inf_indices, type(inf_indices))\n",
        "print(nan_indices, type(nan_indices))\n",
        "for row, col in zip(*inf_indices):\n",
        "    array[row,col] = -1\n",
        "    \n",
        "for row, col in zip(*nan_indices):\n",
        "    array[row,col] = 0\n",
        "#array[]\n",
        "X = array[:, 0:30]\n",
        "y = array[:, 30]\n",
        "ros = RandomOverSampler(random_state=42)\n",
        "X_res, y_res = ros.fit_sample(X, y)\n",
        "\n",
        "validation_size = 0.20\n",
        "X_train, X_test, y_train, y_test = train_test_split(X_res, y_res,\n",
        "    test_size=validation_size, random_state=42)"
      ]
    },
    {
      "cell_type": "code",
      "execution_count": null,
      "metadata": {
        "_cell_guid": "7cd2ad9f-0487-6582-8af1-401924b826ee"
      },
      "outputs": [],
      "source": [
        "# Test options and evaluation metric\n",
        "num_folds = 10\n",
        "scoring = 'accuracy'\n",
        "\n",
        "models = []\n",
        "models.append(('LR' , LogisticRegression()))\n",
        "models.append(('LDA' , LinearDiscriminantAnalysis()))\n",
        "models.append(('KNN' , KNeighborsClassifier()))\n",
        "models.append(('DT' , DecisionTreeClassifier()))\n",
        "models.append(('NB' , GaussianNB()))"
      ]
    },
    {
      "cell_type": "code",
      "execution_count": null,
      "metadata": {
        "_cell_guid": "223eec39-ac1e-9d8d-6930-ff7c0224b388"
      },
      "outputs": [],
      "source": [
        "\n",
        "# Evaluate each algorithm for accuracy\n",
        "results = []\n",
        "names = []\n",
        "for name, model in models:\n",
        "  kfold = KFold(n_splits=num_folds, random_state=42)\n",
        "  cv_results = cross_val_score(model, X_train, y_train, cv=kfold, scoring=scoring)\n",
        "  results.append(cv_results)\n",
        "  names.append(name)\n",
        "  msg = \"%s: %f (%f)\" % (name, cv_results.mean(), cv_results.std())\n",
        "  print(msg)"
      ]
    },
    {
      "cell_type": "code",
      "execution_count": null,
      "metadata": {
        "_cell_guid": "bc166a9c-48db-2fb4-4025-f4c3f9fa11f3"
      },
      "outputs": [],
      "source": [
        "# Compare Algorithms\n",
        "fig = pyplot.figure()\n",
        "fig.suptitle('Algorithm Comparison')\n",
        "ax = fig.add_subplot(111)\n",
        "pyplot.boxplot(results)\n",
        "ax.set_xticklabels(names)\n",
        "pyplot.show()"
      ]
    },
    {
      "cell_type": "code",
      "execution_count": null,
      "metadata": {
        "_cell_guid": "342a5723-e766-8a0d-b10e-f10c4398027e"
      },
      "outputs": [],
      "source": [
        "# prepare the model knn\n",
        "scaler = StandardScaler().fit(X_train)\n",
        "rescaledX = scaler.transform(X_train)\n",
        "model_knn = KNeighborsClassifier()\n",
        "model_knn.fit(rescaledX, y_train)\n",
        "# estimate accuracy on validation dataset\n",
        "rescaledValidationX = scaler.transform(X_test)\n",
        "predictions = model_knn.predict(rescaledValidationX)\n",
        "print(\"accuracy score:\")\n",
        "print(accuracy_score(y_test, predictions))\n",
        "print(\"confusion matrix: \")\n",
        "print(confusion_matrix(y_test, predictions))\n",
        "print(\"classification report: \")\n",
        "print(classification_report(y_test, predictions))"
      ]
    },
    {
      "cell_type": "code",
      "execution_count": null,
      "metadata": {
        "_cell_guid": "fa0b9385-0503-4987-f16c-28bd9c8a4d35"
      },
      "outputs": [],
      "source": [
        "# Prepare Decision Tree Model\n",
        "model_dt = DecisionTreeClassifier()\n",
        "model_dt.fit(rescaledX, y_train)\n",
        "rescaledValidationX = scaler.transform(X_test)\n",
        "predictions = model_dt.predict(rescaledValidationX)\n",
        "print(\"accuracy score:\")\n",
        "print(accuracy_score(y_test, predictions))\n",
        "print(\"confusion matrix: \")\n",
        "print(confusion_matrix(y_test, predictions))\n",
        "print(\"classification report: \")\n",
        "print(classification_report(y_test, predictions))"
      ]
    },
    {
      "cell_type": "code",
      "execution_count": null,
      "metadata": {
        "_cell_guid": "54673896-57ce-b699-dd08-7b3c67bc809c"
      },
      "outputs": [],
      "source": ""
    }
  ],
  "metadata": {
    "_change_revision": 0,
    "_is_fork": false,
    "kernelspec": {
      "display_name": "Python 3",
      "language": "python",
      "name": "python3"
    },
    "language_info": {
      "codemirror_mode": {
        "name": "ipython",
        "version": 3
      },
      "file_extension": ".py",
      "mimetype": "text/x-python",
      "name": "python",
      "nbconvert_exporter": "python",
      "pygments_lexer": "ipython3",
      "version": "3.6.0"
    }
  },
  "nbformat": 4,
  "nbformat_minor": 0
}