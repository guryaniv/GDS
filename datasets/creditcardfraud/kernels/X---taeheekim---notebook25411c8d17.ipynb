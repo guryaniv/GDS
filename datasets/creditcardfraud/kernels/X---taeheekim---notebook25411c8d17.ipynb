{
  "metadata": {
    "kernelspec": {
      "display_name": "Python 3",
      "language": "python",
      "name": "python3"
    },
    "language_info": {
      "codemirror_mode": {
        "name": "ipython",
        "version": 3
      },
      "file_extension": ".py",
      "mimetype": "text/x-python",
      "name": "python",
      "nbconvert_exporter": "python",
      "pygments_lexer": "ipython3",
      "version": "3.6.0"
    }
  },
  "nbformat": 4,
  "nbformat_minor": 0,
  "cells": [
    {
      "metadata": {
        "_cell_guid": "daf98780-6249-6627-3b47-78aff46ef8a5",
        "_active": false,
        "collapsed": false
      },
      "source": "# This Python 3 environment comes with many helpful analytics libraries installed\n# It is defined by the kaggle/python docker image: https://github.com/kaggle/docker-python\n# For example, here's several helpful packages to load in \n\nimport numpy as np # linear algebra\nimport pandas as pd # data processing, CSV file I/O (e.g. pd.read_csv)\nfrom sklearn.ensemble import RandomForestClassifier\nfrom sklearn.metrics import confusion_matrix\nfrom sklearn.model_selection import train_test_split\nfrom imblearn.over_sampling import SMOTE\n# Input data files are available in the \"../input/\" directory.\n# For example, running this (by clicking run or pressing Shift+Enter) will list the files in the input directory\n\nfrom subprocess import check_output\nprint(check_output([\"ls\", \"../input\"]).decode(\"utf8\"))\n\n# Any results you write to the current directory are saved as output.",
      "execution_count": null,
      "cell_type": "code",
      "outputs": [],
      "execution_state": "idle"
    },
    {
      "metadata": {
        "_cell_guid": "47d34722-22a2-69c4-0cdf-67632b865cd7",
        "_active": false,
        "collapsed": false
      },
      "source": "credit_cards = pd.read_csv('../input/creditcard.csv')\n\ncolumns=credit_cards.columns\nfeatures_columns=columns.delete(len(columns)-1)\n\nfeatures = credit_cards[features_columns]\nlabels=credit_cards['Class']\n\ncredit_cards.head(10)",
      "execution_count": null,
      "cell_type": "code",
      "outputs": [],
      "execution_state": "idle"
    },
    {
      "metadata": {
        "_cell_guid": "429ddddd-9199-7fb0-8063-9a32e192714f",
        "_active": false,
        "collapsed": false
      },
      "source": "features_train, features_test, labels_train, labels_test = train_test_split(features, labels, test_size=0.2 , random_state =0)\n\nfeatures_train.describe()",
      "execution_count": null,
      "cell_type": "code",
      "outputs": [],
      "execution_state": "idle"
    },
    {
      "metadata": {
        "_cell_guid": "bcd14aa6-3e04-0f71-54d1-1da7037348fc",
        "_active": false,
        "collapsed": false
      },
      "source": "features_test.describe()",
      "execution_count": null,
      "cell_type": "code",
      "outputs": [],
      "execution_state": "idle"
    },
    {
      "metadata": {
        "_cell_guid": "5bdd3fc6-1df6-c7f1-2f02-c5cfc8d0d90e",
        "_active": false,
        "collapsed": false
      },
      "source": "oversampler=SMOTE(random_state=0)\nos_features, os_labels=oversampler.fit_sample(features_train, labels_train)",
      "execution_count": null,
      "cell_type": "code",
      "outputs": [],
      "execution_state": "idle"
    },
    {
      "metadata": {
        "_cell_guid": "c5ea8671-72a0-9515-f078-3e8b6e8313fd",
        "_active": false,
        "collapsed": false
      },
      "source": "len(os_labels[os_labels==1])",
      "execution_count": null,
      "cell_type": "code",
      "outputs": [],
      "execution_state": "idle"
    },
    {
      "metadata": {
        "_cell_guid": "473c6386-f7b5-4067-31b9-095fd8e1fd8a",
        "_active": false,
        "collapsed": false
      },
      "source": "clf=RandomForestClassifier(random_state=0)\nclf.fit(os_features, os_labels)",
      "execution_count": null,
      "cell_type": "code",
      "outputs": [],
      "execution_state": "idle"
    },
    {
      "metadata": {
        "_cell_guid": "aae3c93a-27f4-f72c-3d28-51dd908c2cba",
        "_active": false,
        "collapsed": false
      },
      "source": "actual=labels_test\npredictions=clf.predict(features_test)",
      "execution_count": null,
      "cell_type": "code",
      "outputs": [],
      "execution_state": "idle"
    },
    {
      "metadata": {
        "_cell_guid": "129fad20-9b8a-9600-8f36-85c2ca32d8c7",
        "_active": false,
        "collapsed": false
      },
      "source": "confusion_matrix(actual, predictions)",
      "execution_count": null,
      "cell_type": "code",
      "outputs": [],
      "execution_state": "idle"
    },
    {
      "metadata": {
        "_cell_guid": "5ff6352a-320b-4261-431d-ebc616ef780b",
        "_active": false,
        "collapsed": false
      },
      "source": "from sklearn.metrics import roc_curve, auc\n\nfalse_positive_rate, true_positive_rate, thresholds = roc_curve(actual, predictions)\nroc_auc = auc(false_positive_rate, true_positive_rate)\nprint(roc_auc)",
      "execution_count": null,
      "cell_type": "code",
      "outputs": [],
      "execution_state": "idle"
    },
    {
      "metadata": {
        "_cell_guid": "8f906a9e-2dbe-262d-db86-371a1224482a",
        "_active": true,
        "collapsed": false
      },
      "source": "import matplotlib.pyplot as plt\nplt.title('Receiver Operating Characteristic')\nplt.plot(false_positive_rate, true_positive_rate,'b', label='AUC=0.2f'% roc_auc)\nplt.legend(loc='lower right')\nplt.plot([0,1],[0,1],'r--')\nplt.xlim([-0.1,1.2])\nplt.ylib([-0.1,1.2])\nplt.ylabel('True Positive Rate')\n",
      "execution_count": null,
      "cell_type": "code",
      "outputs": [],
      "execution_state": "idle"
    }
  ]
}