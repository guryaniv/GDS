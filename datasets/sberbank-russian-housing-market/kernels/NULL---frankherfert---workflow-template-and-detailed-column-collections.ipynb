{
  "cells": [
    {
      "cell_type": "markdown",
      "metadata": {
        "_cell_guid": "fae41d34-b8dc-46a6-c8e6-a83a825c9cb5"
      },
      "source": [
        "Original notebook with better formatting can be downloaded [here](https://github.com/frankherfert/Kaggle/blob/master/Sberbank_Workflow_Column-Collections.ipynb)\n",
        "\n",
        "On your local jupyter notebook server, this will get a structure like this:\n",
        "\n",
        "![title](https://www.dropbox.com/s/vnj8mx1d3vovbhc/ToC.png?dl=1)"
      ]
    },
    {
      "cell_type": "markdown",
      "metadata": {
        "_cell_guid": "51d492bd-2b4e-4a10-57d7-0a8dacb8036e"
      },
      "source": [
        "# Workflow template\n",
        "This notebook is a template for a more structured workflow.\n",
        "\n",
        "The sberbank dataset contains a lot of variables (291 in the regular train- and test-files, 100 in the macro-file) and working through all of those can become rather tedious even on a 1080+ screen. Newly created columns are added to the end of the dataframe and comparing new and old columns can be made easier with topic-related column-collections."
      ]
    },
    {
      "cell_type": "markdown",
      "metadata": {
        "_cell_guid": "3387555a-f2a8-6f41-80e4-57a18ba5405f"
      },
      "source": [
        "## Column collections\n",
        "\n",
        "Under the feature-section of this notebook you can find all variables that belong together, grouped into arrays.\n",
        "\n",
        "Most of the default variables are positioned next to each other in the source-dataframe but some are not sorted in an ideal way (e.g. the square-meters columns are not next to each other, kitch_sq is a few columns to the right, km-distance-columns are all over the place).\n",
        "\n",
        "With the column-collections you can use **`train_df.loc[:3,sub_area_columns]`** where **`sub_area_columns`** is the array containing all relevant columns regarding areas. \n",
        "\n",
        "After you add new features, just add them to the array and display all topic-related columns with the same line.\n"
      ]
    },
    {
      "cell_type": "markdown",
      "metadata": {
        "_cell_guid": "589c1ccf-ced3-5c46-6ee2-818b8d893ee7"
      },
      "source": ""
    },
    {
      "cell_type": "markdown",
      "metadata": {
        "_cell_guid": "3264321a-b258-978b-7f00-083c0945fe67"
      },
      "source": ""
    },
    {
      "cell_type": "markdown",
      "metadata": {
        "_cell_guid": "f129a323-55f2-94f3-0d02-e585a88ff8e1"
      },
      "source": [
        "#### Collapsible Headers\n",
        "To make the whole workflow easier this notebook is seperated by header and sub-headers for each topic. With the help of the \"collapsible headers extension\", working with them becomes much easier.\n",
        "\n",
        "This extension allows you to collapse all headers in a hierarchical way.\n",
        "![title](https://www.dropbox.com/s/0zzmi5ttk5ic39p/collapsible_headers.png?dl=1)"
      ]
    },
    {
      "cell_type": "markdown",
      "metadata": {
        "_cell_guid": "09a637cb-189e-93b2-437a-31edbdeba74f"
      },
      "source": ""
    },
    {
      "cell_type": "markdown",
      "metadata": {
        "_cell_guid": "977f55cc-e705-f144-2ce1-cc6d46885694"
      },
      "source": ""
    },
    {
      "cell_type": "markdown",
      "metadata": {
        "_cell_guid": "afba3cfd-19b1-6238-80f1-a0d03cc43562"
      },
      "source": ""
    },
    {
      "cell_type": "markdown",
      "metadata": {
        "_cell_guid": "869fa5a6-808f-ac0d-528d-08ce5684b5f7"
      },
      "source": ""
    },
    {
      "cell_type": "markdown",
      "metadata": {
        "_cell_guid": "409162a6-6b47-06fc-39ad-fdb0b32b06a8"
      },
      "source": ""
    },
    {
      "cell_type": "markdown",
      "metadata": {
        "_cell_guid": "3bebd1d9-746e-cf39-2183-7883d80faeb5"
      },
      "source": ""
    },
    {
      "cell_type": "markdown",
      "metadata": {
        "_cell_guid": "69524373-11a2-d0f5-1b3c-6fd300682431"
      },
      "source": [
        "#### Imports"
      ]
    },
    {
      "cell_type": "code",
      "execution_count": null,
      "metadata": {
        "_cell_guid": "acb05bdb-ab90-7922-cd51-4afe558795f4"
      },
      "outputs": [],
      "source": [
        "import numpy as np\n",
        "np.set_printoptions(linewidth=140) # numpy displays 75 lines by default which is not optimal on a larger screen.\n",
        "import pandas as pd\n",
        "pd.set_option('display.max_columns', 300) # increase number of columns and rows to print out\n",
        "pd.set_option('display.max_rows', 300)\n",
        "\n",
        "import matplotlib.pyplot as plt\n",
        "import seaborn as sns\n",
        "sns.set_style(\"darkgrid\")\n",
        "%matplotlib inline\n",
        "\n",
        "from datetime import datetime\n",
        "\n",
        "# the following 3 lines let your notebook take up more space on the screen / removes the unused width on the side\n",
        "from IPython.core.display import display, HTML\n",
        "display(HTML(\"<style>.container { width:99% !important; }</style>\"))\n",
        "display(HTML(\"<style>table {float:left}</style>\")) # makes the changelog table nicer"
      ]
    },
    {
      "cell_type": "code",
      "execution_count": null,
      "metadata": {
        "_cell_guid": "1fd7972a-62f4-9905-0a2e-a596f50d0e4a"
      },
      "outputs": [],
      "source": [
        "from sklearn import model_selection\n",
        "from sklearn import preprocessing\n",
        "from sklearn import metrics"
      ]
    },
    {
      "cell_type": "markdown",
      "metadata": {
        "_cell_guid": "5fb8f5f3-ed13-a7e2-a0d6-79d871db025b"
      },
      "source": ""
    },
    {
      "cell_type": "code",
      "execution_count": null,
      "metadata": {
        "_cell_guid": "c23a7638-f04c-ba3b-c171-ef48066b3505"
      },
      "outputs": [],
      "source": [
        "def show_dtypes(df):\n",
        "    for dtype in df.dtypes.unique():\n",
        "        print(str(dtype).ljust(14), \":\",list(df.dtypes[df.dtypes == dtype].index),\"\\n\")\n",
        "\n",
        "# returns all columns of a DataFrame with type float64, int64, uint8\n",
        "def get_numeric_columns(df):\n",
        "    return list(df.dtypes[(df.dtypes == \"float64\") | (df.dtypes == \"int64\") | (df.dtypes == \"uint8\")].index)\n",
        "\n",
        "\n",
        "# creates dummy columns with prefix, merge with source dataframe\n",
        "def create_dummy_columns(df, columns):\n",
        "    for column in columns:\n",
        "        df[column]    = df[column].apply(lambda x: str(x)) #convert to str just in case\n",
        "        new_columns = [column + \"_\" + i for i in full[column].unique()] #only use the columns that appear in the test set and add prefix like in get_dummies\n",
        "        df = pd.concat((df,    pd.get_dummies(df[column],    prefix = column)[new_columns]), axis = 1)\n",
        "    return df\n",
        "\n",
        "\n",
        "def del_columns(df, columns):\n",
        "    for column in columns:\n",
        "        if column in df.columns:\n",
        "            del df[column]\n",
        "            print(\"Deleted: \", column)\n",
        "        else:\n",
        "            print(\"Not in DataFrame: \",column)\n",
        "    return df"
      ]
    },
    {
      "cell_type": "markdown",
      "metadata": {
        "_cell_guid": "29a6329e-e700-0705-d106-1f0593c6e389"
      },
      "source": [
        "# Loading Data"
      ]
    },
    {
      "cell_type": "markdown",
      "metadata": {
        "_cell_guid": "53c58eb6-a2e3-bf6f-9d98-8e69df805ca2"
      },
      "source": ""
    },
    {
      "cell_type": "code",
      "execution_count": null,
      "metadata": {
        "_cell_guid": "db91c553-d008-c428-b5a9-65b7cc4c7c33"
      },
      "outputs": [],
      "source": [
        "macro_df = pd.read_csv(\"../input/macro.csv\", parse_dates=[\"timestamp\"])\n",
        "macro_df.shape"
      ]
    },
    {
      "cell_type": "markdown",
      "metadata": {
        "_cell_guid": "8a087e80-e87f-c281-641c-03b9f563c26e"
      },
      "source": ""
    },
    {
      "cell_type": "code",
      "execution_count": null,
      "metadata": {
        "_cell_guid": "7abdf599-41f6-f28d-f920-2769491bbc06"
      },
      "outputs": [],
      "source": [
        "train_df = pd.read_csv(\"../input/train.csv\", parse_dates=[\"timestamp\"])\n",
        "train_df[\"train_test\"] = \"train\"\n",
        "\n",
        "train_df = pd.merge(train_df, macro_df, how=\"left\", on=\"timestamp\")\n",
        "\n",
        "print(\"Shape: \", train_df.shape,\"\\n\")\n",
        "train_df.info(memory_usage=\"deep\")"
      ]
    },
    {
      "cell_type": "markdown",
      "metadata": {
        "_cell_guid": "efc87a51-4085-1fa5-043a-389d889218b7"
      },
      "source": ""
    },
    {
      "cell_type": "code",
      "execution_count": null,
      "metadata": {
        "_cell_guid": "c342cc30-fb9d-5465-5b16-4a984ca43445"
      },
      "outputs": [],
      "source": [
        "test_df = pd.read_csv(\"../input/test.csv\", parse_dates=[\"timestamp\"])\n",
        "test_df[\"train_test\"] = \"test\"\n",
        "\n",
        "test_df = pd.merge(test_df, macro_df, how=\"left\", on=\"timestamp\")\n",
        "\n",
        "print(\"Shape: \",test_df.shape, \"\\n\")\n",
        "test_df.info(memory_usage=\"deep\")"
      ]
    },
    {
      "cell_type": "markdown",
      "metadata": {
        "_cell_guid": "1b599659-0fb8-734b-06c2-9afaced57016"
      },
      "source": ""
    },
    {
      "cell_type": "code",
      "execution_count": null,
      "metadata": {
        "_cell_guid": "13ba9f60-c57f-596e-5a88-9101dcf859d7"
      },
      "outputs": [],
      "source": [
        "train_df[\"price_doc\"].describe().apply(lambda x: '%.f' % x)"
      ]
    },
    {
      "cell_type": "code",
      "execution_count": null,
      "metadata": {
        "_cell_guid": "1ee5e4cc-1146-02f0-5810-6123da51d50f"
      },
      "outputs": [],
      "source": [
        "train_df.price_doc.sort_values(ascending=True).head(5)"
      ]
    },
    {
      "cell_type": "code",
      "execution_count": null,
      "metadata": {
        "_cell_guid": "ee213962-420b-e639-4c4d-71bec84ff587"
      },
      "outputs": [],
      "source": [
        "train_df.price_doc.sort_values(ascending=False).head(5)"
      ]
    },
    {
      "cell_type": "code",
      "execution_count": null,
      "metadata": {
        "_cell_guid": "c70a5ada-39fb-fe44-7f17-6ca979302ea4"
      },
      "outputs": [],
      "source": [
        "ulimit = np.percentile(train_df.price_doc.values, 99.9)\n",
        "llimit = np.percentile(train_df.price_doc.values, .1)\n",
        "train_df.loc[train_df['price_doc']>ulimit, [\"price_doc\"]] = ulimit\n",
        "train_df.loc[train_df['price_doc']<llimit, [\"price_doc\"]] = llimit"
      ]
    },
    {
      "cell_type": "code",
      "execution_count": null,
      "metadata": {
        "_cell_guid": "859a9553-4779-0343-7a14-76b7d19a88a6"
      },
      "outputs": [],
      "source": [
        "train_df[\"price_doc\"].describe().apply(lambda x: '%.f' % x)"
      ]
    },
    {
      "cell_type": "code",
      "execution_count": null,
      "metadata": {
        "_cell_guid": "d1e63b94-cad9-04a0-267d-6400c8ccc603"
      },
      "outputs": [],
      "source": [
        "train_y = np.array(train_df[\"price_doc\"])\n",
        "print(train_y[0:10])\n",
        "\n",
        "# Since our metric is \"RMSLE\", let us use log of the target variable for model building rather than using the actual target variable.\n",
        "train_y = np.log1p(train_y)\n",
        "print(train_y[0:10])"
      ]
    },
    {
      "cell_type": "markdown",
      "metadata": {
        "_cell_guid": "a7eb595e-cc98-e36c-e79e-20171cd8418a"
      },
      "source": [
        "# Exploratory Data Analysis"
      ]
    },
    {
      "cell_type": "code",
      "execution_count": null,
      "metadata": {
        "_cell_guid": "8d19f312-ccd2-cddf-b507-07c20e8f5763"
      },
      "outputs": [],
      "source": [
        "# put in your code here"
      ]
    },
    {
      "cell_type": "markdown",
      "metadata": {
        "_cell_guid": "1bd95e24-9f3f-a823-1c54-5e9836a3eda0"
      },
      "source": [
        "# Features"
      ]
    },
    {
      "cell_type": "code",
      "execution_count": null,
      "metadata": {
        "_cell_guid": "5de6b832-f2ee-5ea7-de07-ad3fb52fea80"
      },
      "outputs": [],
      "source": [
        "# show_dtypes(train_df)"
      ]
    },
    {
      "cell_type": "markdown",
      "metadata": {
        "_cell_guid": "50722b39-fd90-59c3-be8e-41be48279ebf"
      },
      "source": ""
    },
    {
      "cell_type": "code",
      "execution_count": null,
      "metadata": {
        "_cell_guid": "aa3785d6-b160-3b9a-3f1f-ca4bf560be88"
      },
      "outputs": [],
      "source": [
        "# price_doc: sale price (this is the target variable)\n",
        "# id: transaction id\n",
        "# timestamp: date of transaction\n",
        "# full_sq: total area in square meters, including loggias, balconies and other non-residential areas\n",
        "# life_sq: living area in square meters, excluding loggias, balconies and other non-residential areas\n",
        "# floor: for apartments, floor of the building\n",
        "# max_floor: number of floors in the building\n",
        "# material: wall material\n",
        "# build_year: year built\n",
        "# num_room: number of living rooms\n",
        "# kitch_sq: kitchen area\n",
        "# state: apartment condition\n",
        "# product_type: owner-occupier purchase or investment\n",
        "# sub_area: name of the district\n",
        "\n",
        "# The dataset also includes a collection of features about each property's surrounding neighbourhood, and some features that are constant across each sub area (known as a Raion). Most of the feature names are self explanatory, with the following notes.\n",
        "\n",
        "# full_all: subarea population\n",
        "# male_f, female_f: subarea population by gender\n",
        "# young_*: population younger than working age\n",
        "# work_*: working-age population\n",
        "# ekder_*: retirement-age population\n",
        "# n_m_{all|male|female}: population between n and m years old\n",
        "# build_count_*: buildings in the subarea by construction type or year\n",
        "# x_count_500: the number of x within 500m of the property\n",
        "# x_part_500: the share of x within 500m of the property\n",
        "# _sqm_: square meters\n",
        "# cafe_count_d_price_p: number of cafes within d meters of the property that have an average bill under p RUB\n",
        "# trc_: shopping malls\n",
        "# prom_: industrial zones\n",
        "# green_: green zones\n",
        "# metro_: subway\n",
        "# _avto_: distances by car\n",
        "# mkad_: Moscow Circle Auto Road\n",
        "# ttk_: Third Transport Ring\n",
        "# sadovoe_: Garden Ring\n",
        "# bulvar_ring_: Boulevard Ring\n",
        "# kremlin_: City center\n",
        "# zd_vokzaly_: Train station\n",
        "# oil_chemistry_: Dirty industry\n",
        "# ts_: Power plant"
      ]
    },
    {
      "cell_type": "markdown",
      "metadata": {
        "_cell_guid": "a9cbd3ec-9870-bda6-dba3-4dee46a73bb8"
      },
      "source": ""
    },
    {
      "cell_type": "code",
      "execution_count": null,
      "metadata": {
        "_cell_guid": "3ea29373-bfe8-4c90-f1bc-5947c19e2b14"
      },
      "outputs": [],
      "source": [
        "train_df[\"null_count\"] = train_df.isnull().sum(axis=1)\n",
        "test_df[\"null_count\"] = test_df.isnull().sum(axis=1)"
      ]
    },
    {
      "cell_type": "code",
      "execution_count": null,
      "metadata": {
        "_cell_guid": "9d12f94f-29b5-02c9-22c6-c6796155a976"
      },
      "outputs": [],
      "source": [
        "# these make it easier to see if a property has an unusually high or low price if you are not familiar with Rubles\n",
        "train_df[\"price_doc_euro\"] = np.round(train_df[\"price_doc\"]*0.016,0)\n",
        "train_df[\"price_doc_dollars\"] = np.round(train_df[\"price_doc\"]*0.02,0)"
      ]
    },
    {
      "cell_type": "markdown",
      "metadata": {
        "_cell_guid": "44678025-48e9-7c56-c81f-6b8582c31c4c"
      },
      "source": ""
    },
    {
      "cell_type": "markdown",
      "metadata": {
        "_cell_guid": "8ec63e4d-07ef-2ccb-4685-d69fe0198248"
      },
      "source": ""
    },
    {
      "cell_type": "code",
      "execution_count": null,
      "metadata": {
        "_cell_guid": "f402bdaf-0911-bc9b-ba04-ceec1c13d015"
      },
      "outputs": [],
      "source": [
        "time_columns = [\"timestamp\"]\n",
        "train_df.loc[:3,time_columns]"
      ]
    },
    {
      "cell_type": "code",
      "execution_count": null,
      "metadata": {
        "_cell_guid": "d1597989-9c9b-1ff8-adbe-e548c3cd07ee"
      },
      "outputs": [],
      "source": [
        "train_df[\"time_year\"] = train_df[\"timestamp\"].dt.year\n",
        "test_df[\"time_year\"] = test_df[\"timestamp\"].dt.year\n",
        "\n",
        "train_df[\"time_month_of_year\"] = train_df[\"timestamp\"].dt.month\n",
        "test_df[\"time_month_of_year\"] = test_df[\"timestamp\"].dt.month\n",
        "\n",
        "train_df[\"time_yearmonth\"] = train_df[\"timestamp\"].dt.year*100 + train_df[\"timestamp\"].dt.month-200000\n",
        "test_df[\"time_yearmonth\"] = test_df[\"timestamp\"].dt.year*100 + test_df[\"timestamp\"].dt.month-200000\n",
        "\n",
        "train_df[\"time_week_of_year\"] = train_df[\"timestamp\"].dt.weekofyear\n",
        "test_df[\"time_week_of_year\"] = test_df[\"timestamp\"].dt.weekofyear\n",
        "\n",
        "train_df[\"time_yearweek\"] = train_df[\"timestamp\"].dt.year*100 + train_df[\"timestamp\"].dt.weekofyear-200000\n",
        "test_df[\"time_yearweek\"] = test_df[\"timestamp\"].dt.year*100 + test_df[\"timestamp\"].dt.weekofyear-200000\n",
        "\n",
        "train_df[\"time_day_of_year\"] = train_df[\"timestamp\"].dt.dayofyear\n",
        "test_df[\"time_day_of_year\"] = test_df[\"timestamp\"].dt.dayofyear\n",
        "\n",
        "train_df[\"time_day_of_month\"] = train_df[\"timestamp\"].dt.day\n",
        "test_df[\"time_day_of_month\"] = test_df[\"timestamp\"].dt.day\n",
        "\n",
        "train_df[\"time_day_of_week\"] = train_df[\"timestamp\"].dt.weekday\n",
        "test_df[\"time_day_of_week\"] = test_df[\"timestamp\"].dt.weekday"
      ]
    },
    {
      "cell_type": "code",
      "execution_count": null,
      "metadata": {
        "_cell_guid": "39d85b39-4739-3466-028e-cc78e374f14c"
      },
      "outputs": [],
      "source": [
        "time_columns = [\"timestamp\", \"time_year\", \"time_month_of_year\", \"time_yearmonth\", \"time_week_of_year\", \"time_yearweek\",\n",
        "                \"time_day_of_year\", \"time_day_of_month\", \"time_day_of_week\"]\n",
        "train_df.loc[:3,time_columns]"
      ]
    },
    {
      "cell_type": "markdown",
      "metadata": {
        "_cell_guid": "43b96d2f-9787-caa6-2633-b803c7fb6eda"
      },
      "source": ""
    },
    {
      "cell_type": "code",
      "execution_count": null,
      "metadata": {
        "_cell_guid": "fb2bd6df-4c2b-2584-8014-719c95b03e41"
      },
      "outputs": [],
      "source": [
        "sqm_floors_columns = ['full_sq', 'life_sq', 'kitch_sq', 'floor', 'max_floor', 'num_room']"
      ]
    },
    {
      "cell_type": "code",
      "execution_count": null,
      "metadata": {
        "_cell_guid": "afd72383-ec64-8d5a-1397-3cdfbfc3887b"
      },
      "outputs": [],
      "source": [
        "train_df.loc[10005:10008,sqm_floors_columns]"
      ]
    },
    {
      "cell_type": "markdown",
      "metadata": {
        "_cell_guid": "c6e5d75d-35e8-7733-7f93-369a19a7e746"
      },
      "source": ""
    },
    {
      "cell_type": "code",
      "execution_count": null,
      "metadata": {
        "_cell_guid": "c3c6e6d5-b45e-028f-fa11-c7c64a987a7e"
      },
      "outputs": [],
      "source": [
        "material_columns = [\"material\"]\n",
        "train_df.loc[:3,material_columns]"
      ]
    },
    {
      "cell_type": "markdown",
      "metadata": {
        "_cell_guid": "fcfcf4c9-5479-8fc1-ec55-69dae4330a93"
      },
      "source": ""
    },
    {
      "cell_type": "code",
      "execution_count": null,
      "metadata": {
        "_cell_guid": "cebd1689-bd45-4269-d1ca-e8d34c775f95"
      },
      "outputs": [],
      "source": [
        "build_year_columns = [\"build_year\"]\n",
        "train_df.loc[:3,build_year_columns]"
      ]
    },
    {
      "cell_type": "markdown",
      "metadata": {
        "_cell_guid": "ac1e51d7-359c-5887-af60-df45a810cd9b"
      },
      "source": ""
    },
    {
      "cell_type": "code",
      "execution_count": null,
      "metadata": {
        "_cell_guid": "f53f651d-f740-57e7-0300-307752e88b26"
      },
      "outputs": [],
      "source": [
        "state_columns = [\"state\"]\n",
        "train_df.loc[:3,state_columns]"
      ]
    },
    {
      "cell_type": "markdown",
      "metadata": {
        "_cell_guid": "accb2449-08a5-f6b9-04cb-25066a54c4d3"
      },
      "source": ""
    },
    {
      "cell_type": "code",
      "execution_count": null,
      "metadata": {
        "_cell_guid": "e846d6de-4cea-38b9-87ef-fafce13f8856"
      },
      "outputs": [],
      "source": [
        "product_type_columns = [\"product_type\"]\n",
        "train_df.loc[:3,product_type_columns]"
      ]
    },
    {
      "cell_type": "markdown",
      "metadata": {
        "_cell_guid": "c67ec24c-f137-784c-a67a-a280284229fe"
      },
      "source": ""
    },
    {
      "cell_type": "markdown",
      "metadata": {
        "_cell_guid": "5c42c7b8-cb9b-5b6f-0a6c-7a2a9c3936a0"
      },
      "source": [
        "### sub_area : indust_part"
      ]
    },
    {
      "cell_type": "code",
      "execution_count": null,
      "metadata": {
        "_cell_guid": "0bcb3ff0-dade-5cbc-821e-3b572980b3fe"
      },
      "outputs": [],
      "source": [
        "sub_area_columns = ['sub_area', 'area_m', 'raion_popul', 'green_zone_part', 'indust_part']\n",
        "train_df.loc[:3,sub_area_columns]"
      ]
    },
    {
      "cell_type": "markdown",
      "metadata": {
        "_cell_guid": "1344879d-3674-7379-8809-8f6f3bad802b"
      },
      "source": ""
    },
    {
      "cell_type": "code",
      "execution_count": null,
      "metadata": {
        "_cell_guid": "e1958506-ae10-f4ef-38bd-d8b0342734ec"
      },
      "outputs": [],
      "source": [
        "education_columns = ['children_preschool', 'preschool_quota', 'preschool_education_centers_raion', 'children_school', 'school_quota', 'school_education_centers_raion', \n",
        "                     'school_education_centers_top_20_raion', 'university_top_20_raion', 'additional_education_raion',]\n",
        "train_df.loc[:3,education_columns]"
      ]
    },
    {
      "cell_type": "markdown",
      "metadata": {
        "_cell_guid": "12347a18-c4e2-10d3-ca2c-bc5fd3034c72"
      },
      "source": ""
    },
    {
      "cell_type": "code",
      "execution_count": null,
      "metadata": {
        "_cell_guid": "ad5cd1d4-6e7d-4eac-377e-75a12a560a09"
      },
      "outputs": [],
      "source": [
        "healthcare_columns = ['hospital_beds_raion', 'healthcare_centers_raion']\n",
        "train_df.loc[:3,healthcare_columns]"
      ]
    },
    {
      "cell_type": "markdown",
      "metadata": {
        "_cell_guid": "5c6daaa5-69d7-3de1-eb57-2ad5905571f6"
      },
      "source": ""
    },
    {
      "cell_type": "code",
      "execution_count": null,
      "metadata": {
        "_cell_guid": "259a017a-160d-67ae-80a2-8c9c892c5a99"
      },
      "outputs": [],
      "source": [
        "culture_columns = ['sport_objects_raion', 'culture_objects_top_25', 'culture_objects_top_25_raion', 'shopping_centers_raion', 'office_raion']\n",
        "train_df.loc[:3,culture_columns]"
      ]
    },
    {
      "cell_type": "markdown",
      "metadata": {
        "_cell_guid": "d069d372-9dfd-7ea8-49fe-76d5bd5f623a"
      },
      "source": ""
    },
    {
      "cell_type": "code",
      "execution_count": null,
      "metadata": {
        "_cell_guid": "a9353ec7-254b-f721-e173-cda96d041d65"
      },
      "outputs": [],
      "source": [
        "industry_columns = ['thermal_power_plant_raion', 'incineration_raion', 'oil_chemistry_raion', 'radiation_raion', 'railroad_terminal_raion', \n",
        "                    'big_market_raion', 'nuclear_reactor_raion', 'detention_facility_raion']\n",
        "\n",
        "train_df.loc[:3,industry_columns]"
      ]
    },
    {
      "cell_type": "markdown",
      "metadata": {
        "_cell_guid": "6807fa5c-3185-8b20-4a6f-21eed4832383"
      },
      "source": ""
    },
    {
      "cell_type": "markdown",
      "metadata": {
        "_cell_guid": "99f878b3-4421-ab12-c596-8b7b486a6f3b"
      },
      "source": ""
    },
    {
      "cell_type": "code",
      "execution_count": null,
      "metadata": {
        "_cell_guid": "194f3146-241f-3e19-06e0-2ec347c66535"
      },
      "outputs": [],
      "source": [
        "ppl_count_all = ['full_all', 'male_f', 'female_f', 'young_all', 'young_male', 'young_female', 'work_all', 'work_male', 'work_female',\n",
        "                 'ekder_all', 'ekder_male', 'ekder_female']\n",
        "train_df.loc[:3,ppl_count_all]"
      ]
    },
    {
      "cell_type": "markdown",
      "metadata": {
        "_cell_guid": "afca430e-658c-49bb-94ee-3c198bd88c43"
      },
      "source": ""
    },
    {
      "cell_type": "code",
      "execution_count": null,
      "metadata": {
        "_cell_guid": "5ac19528-10ff-accb-8dc4-ccc49ae02573"
      },
      "outputs": [],
      "source": [
        "ppl_count_0_6 = ['0_6_all', '0_6_male', '0_6_female']\n",
        "train_df.loc[:2,ppl_count_0_6]"
      ]
    },
    {
      "cell_type": "markdown",
      "metadata": {
        "_cell_guid": "98d41187-48a9-a980-a5d1-ac69e08795af"
      },
      "source": ""
    },
    {
      "cell_type": "code",
      "execution_count": null,
      "metadata": {
        "_cell_guid": "303d2952-ddfb-2eb2-3fd2-3bd142bc0859"
      },
      "outputs": [],
      "source": [
        "ppl_count_7_14 = ['7_14_all', '7_14_male', '7_14_female']\n",
        "train_df.loc[:2, ppl_count_7_14]"
      ]
    },
    {
      "cell_type": "markdown",
      "metadata": {
        "_cell_guid": "06283b76-bb7e-2702-34af-0c2eed21617a"
      },
      "source": ""
    },
    {
      "cell_type": "code",
      "execution_count": null,
      "metadata": {
        "_cell_guid": "7fc2631c-4a74-9bd1-8634-120929ef82dc"
      },
      "outputs": [],
      "source": [
        "ppl_count_0_17 = ['0_17_all', '0_17_male', '0_17_female']\n",
        "train_df.loc[:2, ppl_count_0_17]"
      ]
    },
    {
      "cell_type": "markdown",
      "metadata": {
        "_cell_guid": "ec411977-ca3e-a6d4-b99d-fc742b3e84c6"
      },
      "source": ""
    },
    {
      "cell_type": "code",
      "execution_count": null,
      "metadata": {
        "_cell_guid": "b5c07ca4-cc3e-4c50-c02a-31fae221eaf4"
      },
      "outputs": [],
      "source": [
        "ppl_count_16_29 = ['16_29_all', '16_29_male', '16_29_female']\n",
        "train_df.loc[:2, ppl_count_16_29]"
      ]
    },
    {
      "cell_type": "markdown",
      "metadata": {
        "_cell_guid": "5dae6c89-2252-efb8-def3-dddd734fd9e3"
      },
      "source": ""
    },
    {
      "cell_type": "code",
      "execution_count": null,
      "metadata": {
        "_cell_guid": "e3cbea31-39a2-2dbd-c04a-39551ac47e54"
      },
      "outputs": [],
      "source": [
        "ppl_count_0_13 = ['0_13_all', '0_13_male', '0_13_female']\n",
        "train_df.loc[:2, ppl_count_0_13]"
      ]
    },
    {
      "cell_type": "markdown",
      "metadata": {
        "_cell_guid": "759a5ec5-bb63-a111-5736-37c0498b5ab3"
      },
      "source": ""
    },
    {
      "cell_type": "markdown",
      "metadata": {
        "_cell_guid": "de3b9b2c-5b04-ae9a-5703-38328f3f80f8"
      },
      "source": ""
    },
    {
      "cell_type": "code",
      "execution_count": null,
      "metadata": {
        "_cell_guid": "1e75b178-2d54-80f8-5a90-4d8e30327bcc"
      },
      "outputs": [],
      "source": [
        "build_count_mat_columns = ['raion_build_count_with_material_info', 'build_count_block', 'build_count_wood', 'build_count_frame', \n",
        "                           'build_count_brick', 'build_count_monolith', 'build_count_panel', 'build_count_foam', 'build_count_slag', 'build_count_mix']\n",
        "train_df.loc[:2, build_count_mat_columns]"
      ]
    },
    {
      "cell_type": "markdown",
      "metadata": {
        "_cell_guid": "20382471-8da4-fb04-a93b-0d61d14918fe"
      },
      "source": ""
    },
    {
      "cell_type": "code",
      "execution_count": null,
      "metadata": {
        "_cell_guid": "3c6e56ff-f710-5224-0b61-059afa1cd172"
      },
      "outputs": [],
      "source": [
        "build_count_date_columns = ['raion_build_count_with_builddate_info', 'build_count_before_1920', 'build_count_1921-1945', \n",
        "                           'build_count_1946-1970', 'build_count_1971-1995', 'build_count_after_1995']\n",
        "train_df.loc[:2, build_count_date_columns]"
      ]
    },
    {
      "cell_type": "markdown",
      "metadata": {
        "_cell_guid": "01941816-134f-0e49-d7b9-01356cc4d2fb"
      },
      "source": ""
    },
    {
      "cell_type": "markdown",
      "metadata": {
        "_cell_guid": "34e8fab0-a3dd-3366-a390-c55fbe207b3f"
      },
      "source": ""
    },
    {
      "cell_type": "code",
      "execution_count": null,
      "metadata": {
        "_cell_guid": "4770b264-e169-e17b-c0ca-72112be28694"
      },
      "outputs": [],
      "source": [
        "columns = np.array(train_df.columns)\n",
        "[item for item in columns if \"1line\" in item]"
      ]
    },
    {
      "cell_type": "code",
      "execution_count": null,
      "metadata": {
        "_cell_guid": "1b0b0fd4-0366-bbcc-6978-25fa5bc70884"
      },
      "outputs": [],
      "source": [
        "one_line_columns = ['water_1line', 'big_road1_1line', 'railroad_1line']\n",
        "train_df.loc[:2,one_line_columns]"
      ]
    },
    {
      "cell_type": "markdown",
      "metadata": {
        "_cell_guid": "0159f027-762c-f237-e4df-3ec1925b26d7"
      },
      "source": ""
    },
    {
      "cell_type": "code",
      "execution_count": null,
      "metadata": {
        "_cell_guid": "d083b07d-f8d6-a37b-1ec2-ddec512a61e9"
      },
      "outputs": [],
      "source": [
        "loc_km_dist_columns = ['kindergarten_km', 'school_km', 'park_km', 'green_zone_km', 'industrial_km', 'water_treatment_km', 'cemetery_km', \n",
        "                       'incineration_km', 'water_km', 'oil_chemistry_km', 'nuclear_reactor_km', 'radiation_km', \n",
        "                       'power_transmission_line_km', 'thermal_power_plant_km', 'ts_km', 'big_market_km', 'market_shop_km', 'fitness_km',\n",
        "                       'swim_pool_km', 'ice_rink_km', 'stadium_km', 'basketball_km', 'hospice_morgue_km', 'detention_facility_km', \n",
        "                       'public_healthcare_km', 'university_km', 'workplaces_km', 'shopping_centers_km', 'office_km', 'additional_education_km',\n",
        "                       'preschool_km', 'big_church_km', 'church_synagogue_km', 'mosque_km', 'theater_km', 'museum_km', 'exhibition_km', 'catering_km']\n",
        "train_df.loc[:2,loc_km_dist_columns]"
      ]
    },
    {
      "cell_type": "markdown",
      "metadata": {
        "_cell_guid": "560d6692-649f-a60b-9534-29ff808ccf16"
      },
      "source": ""
    },
    {
      "cell_type": "code",
      "execution_count": null,
      "metadata": {
        "_cell_guid": "d425fed2-8576-c596-76c8-8ce49087ee00"
      },
      "outputs": [],
      "source": [
        "loc_metro_columns = ['ID_metro', 'metro_min_avto', 'metro_km_avto', 'metro_min_walk', 'metro_km_walk']\n",
        "train_df.loc[:2,loc_metro_columns]"
      ]
    },
    {
      "cell_type": "markdown",
      "metadata": {
        "_cell_guid": "45fbc4a1-51d4-8c21-91b3-7d842a306e3f"
      },
      "source": ""
    },
    {
      "cell_type": "code",
      "execution_count": null,
      "metadata": {
        "_cell_guid": "d387f6c6-77f0-f385-adcf-06096b2c8ae2"
      },
      "outputs": [],
      "source": [
        "loc_railroad_pubtrans_columns = ['ID_railroad_station_walk', 'railroad_station_walk_km', 'railroad_station_walk_min',\n",
        "                                 'ID_railroad_station_avto', 'railroad_station_avto_km', 'railroad_station_avto_min',\n",
        "                                 'public_transport_station_km', 'public_transport_station_min_walk', \n",
        "                                 'railroad_km', 'zd_vokzaly_avto_km', 'ID_railroad_terminal', \n",
        "                                 'ID_bus_terminal', 'bus_terminal_avto_km']\n",
        "train_df.loc[:2,loc_railroad_pubtrans_columns]"
      ]
    },
    {
      "cell_type": "markdown",
      "metadata": {
        "_cell_guid": "8e7fd118-4a87-7654-db0d-eec9b49bd50b"
      },
      "source": ""
    },
    {
      "cell_type": "markdown",
      "metadata": {
        "_cell_guid": "904ed94a-4fab-ecb2-40cc-0ef74a5a0406"
      },
      "source": ""
    },
    {
      "cell_type": "code",
      "execution_count": null,
      "metadata": {
        "_cell_guid": "3e9cd65b-4d5a-3672-1936-9fdf5c6cce26"
      },
      "outputs": [],
      "source": [
        "road_columns = ['mkad_km', 'ttk_km', 'sadovoe_km', 'bulvar_ring_km', 'kremlin_km',\n",
        "                'ID_big_road1', 'big_road1_km',\n",
        "                'ID_big_road2', 'big_road2_km']\n",
        "train_df.loc[:2,road_columns]"
      ]
    },
    {
      "cell_type": "markdown",
      "metadata": {
        "_cell_guid": "04bfcc23-86a6-cc34-3f93-a48a28be166d"
      },
      "source": ""
    },
    {
      "cell_type": "code",
      "execution_count": null,
      "metadata": {
        "_cell_guid": "24e7f1f5-b8e6-0b1b-d105-62c2fa0f66d1"
      },
      "outputs": [],
      "source": [
        "ecology_columns = ['ecology']\n",
        "train_df.loc[:3, ecology_columns]"
      ]
    },
    {
      "cell_type": "markdown",
      "metadata": {
        "_cell_guid": "3ca2d5e7-e8c7-b34e-c387-3a4033d98731"
      },
      "source": ""
    },
    {
      "cell_type": "markdown",
      "metadata": {
        "_cell_guid": "eda851b0-4a43-9371-a1a6-9943df182d72"
      },
      "source": ""
    },
    {
      "cell_type": "code",
      "execution_count": null,
      "metadata": {
        "_cell_guid": "28eb178d-dcde-af95-e4b7-3b197366ede6"
      },
      "outputs": [],
      "source": [
        "count_500_columns = ['green_part_500', 'prom_part_500', 'office_count_500', 'office_sqm_500', 'trc_count_500', 'trc_sqm_500', \n",
        "                     'cafe_count_500', 'cafe_sum_500_min_price_avg', 'cafe_sum_500_max_price_avg', 'cafe_avg_price_500', \n",
        "                     'cafe_count_500_na_price', 'cafe_count_500_price_500', 'cafe_count_500_price_1000', 'cafe_count_500_price_1500',\n",
        "                     'cafe_count_500_price_2500', 'cafe_count_500_price_4000', 'cafe_count_500_price_high',\n",
        "                     'big_church_count_500', 'church_count_500', 'mosque_count_500',\n",
        "                     'leisure_count_500', 'sport_count_500', 'market_count_500']\n",
        "train_df.loc[:3,count_500_columns]"
      ]
    },
    {
      "cell_type": "markdown",
      "metadata": {
        "_cell_guid": "885c30ef-3e7d-7bc7-3e7d-c7ec159ca3ec"
      },
      "source": ""
    },
    {
      "cell_type": "code",
      "execution_count": null,
      "metadata": {
        "_cell_guid": "88a6b936-cb92-2d47-4932-8bf42175426c"
      },
      "outputs": [],
      "source": [
        "count_1000_columns = ['green_part_1000', 'prom_part_1000', 'office_count_1000', 'office_sqm_1000', 'trc_count_1000',\n",
        "                     'trc_sqm_1000', 'cafe_count_1000', 'cafe_sum_1000_min_price_avg', 'cafe_sum_1000_max_price_avg', 'cafe_avg_price_1000',\n",
        "                     'cafe_count_1000_na_price', 'cafe_count_1000_price_500', 'cafe_count_1000_price_1000', 'cafe_count_1000_price_1500',\n",
        "                     'cafe_count_1000_price_2500', 'cafe_count_1000_price_4000', 'cafe_count_1000_price_high', \n",
        "                     'big_church_count_1000', 'church_count_1000', 'mosque_count_1000', \n",
        "                     'leisure_count_1000', 'sport_count_1000', 'market_count_1000']\n",
        "train_df.loc[:3,count_1000_columns]"
      ]
    },
    {
      "cell_type": "markdown",
      "metadata": {
        "_cell_guid": "fc39f7b1-7459-9d27-24e1-61f429eba218"
      },
      "source": ""
    },
    {
      "cell_type": "code",
      "execution_count": null,
      "metadata": {
        "_cell_guid": "9485ffb9-eeed-51c6-74f6-21a67fac32d6"
      },
      "outputs": [],
      "source": [
        "count_1500_columns = ['green_part_1500', 'prom_part_1500', 'office_count_1500', 'office_sqm_1500', 'trc_count_1500', 'trc_sqm_1500', \n",
        "                      'cafe_count_1500', 'cafe_sum_1500_min_price_avg', 'cafe_sum_1500_max_price_avg', 'cafe_avg_price_1500', 'cafe_count_1500_na_price',\n",
        "                      'cafe_count_1500_price_500', 'cafe_count_1500_price_1000', 'cafe_count_1500_price_1500', 'cafe_count_1500_price_2500',\n",
        "                      'cafe_count_1500_price_4000', 'cafe_count_1500_price_high', \n",
        "                      'big_church_count_1500', 'church_count_1500', 'mosque_count_1500',\n",
        "                      'leisure_count_1500', 'sport_count_1500', 'market_count_1500',]\n",
        "train_df.loc[:3,count_1500_columns]"
      ]
    },
    {
      "cell_type": "markdown",
      "metadata": {
        "_cell_guid": "f783f7d8-c6be-1a7b-8eb7-af3dcd7e15d9"
      },
      "source": ""
    },
    {
      "cell_type": "code",
      "execution_count": null,
      "metadata": {
        "_cell_guid": "b384ea2c-5b40-5e55-b6ce-51901d21b5de"
      },
      "outputs": [],
      "source": [
        "count_2000_columns = ['green_part_2000', 'prom_part_2000', 'office_count_2000', 'office_sqm_2000', 'trc_count_2000', 'trc_sqm_2000', \n",
        "                      'cafe_count_2000', 'cafe_sum_2000_min_price_avg', 'cafe_sum_2000_max_price_avg', 'cafe_avg_price_2000', 'cafe_count_2000_na_price',\n",
        "                      'cafe_count_2000_price_500', 'cafe_count_2000_price_1000', 'cafe_count_2000_price_1500', 'cafe_count_2000_price_2500',\n",
        "                      'cafe_count_2000_price_4000', 'cafe_count_2000_price_high',\n",
        "                      'big_church_count_2000', 'church_count_2000', 'mosque_count_2000',\n",
        "                      'leisure_count_2000', 'sport_count_2000', 'market_count_2000']\n",
        "train_df.loc[:3,count_2000_columns]"
      ]
    },
    {
      "cell_type": "markdown",
      "metadata": {
        "_cell_guid": "b5bbb791-3845-2464-29e7-056680b530be"
      },
      "source": ""
    },
    {
      "cell_type": "code",
      "execution_count": null,
      "metadata": {
        "_cell_guid": "c697229d-af8c-2603-3b9a-af25a57389de"
      },
      "outputs": [],
      "source": [
        "count_3000_columns = ['green_part_3000', 'prom_part_3000', 'office_count_3000', 'office_sqm_3000', 'trc_count_3000', 'trc_sqm_3000', \n",
        "                      'cafe_count_3000', 'cafe_sum_3000_min_price_avg', 'cafe_sum_3000_max_price_avg', 'cafe_avg_price_3000', 'cafe_count_3000_na_price',\n",
        "                      'cafe_count_3000_price_500', 'cafe_count_3000_price_1000', 'cafe_count_3000_price_1500', 'cafe_count_3000_price_2500',\n",
        "                      'cafe_count_3000_price_4000', 'cafe_count_3000_price_high',\n",
        "                      'big_church_count_3000', 'church_count_3000', 'mosque_count_3000',\n",
        "                      'leisure_count_3000', 'sport_count_3000', 'market_count_3000']\n",
        "train_df.loc[:3,count_3000_columns]"
      ]
    },
    {
      "cell_type": "markdown",
      "metadata": {
        "_cell_guid": "0bd27722-1c39-ac60-7fc8-333b07139145"
      },
      "source": ""
    },
    {
      "cell_type": "code",
      "execution_count": null,
      "metadata": {
        "_cell_guid": "d5466cbe-1723-dbb1-4e42-4b8d593afeee"
      },
      "outputs": [],
      "source": [
        "count_5000_columns = ['green_part_5000', 'prom_part_5000', 'office_count_5000', 'office_sqm_5000', 'trc_count_5000', 'trc_sqm_5000', \n",
        "                      'cafe_count_5000', 'cafe_sum_5000_min_price_avg', 'cafe_sum_5000_max_price_avg', 'cafe_avg_price_5000', 'cafe_count_5000_na_price',\n",
        "                      'cafe_count_5000_price_500', 'cafe_count_5000_price_1000', 'cafe_count_5000_price_1500', 'cafe_count_5000_price_2500',\n",
        "                      'cafe_count_5000_price_4000', 'cafe_count_5000_price_high',\n",
        "                      'big_church_count_5000', 'church_count_5000', 'mosque_count_5000',\n",
        "                      'leisure_count_5000', 'sport_count_5000', 'market_count_5000']\n",
        "train_df.loc[:3,count_5000_columns]"
      ]
    },
    {
      "cell_type": "markdown",
      "metadata": {
        "_cell_guid": "c9de7d98-0856-64b9-3320-f15416047073"
      },
      "source": ""
    },
    {
      "cell_type": "markdown",
      "metadata": {
        "_cell_guid": "5a73d987-2f0c-6335-3966-cf5c0f9581bd"
      },
      "source": ""
    },
    {
      "cell_type": "code",
      "execution_count": null,
      "metadata": {
        "_cell_guid": "6ad9a858-655b-cbec-f692-1d9d7d74c751"
      },
      "outputs": [],
      "source": [
        "macro_oil_columns = ['oil_urals', 'brent']\n",
        "train_df.loc[:2, macro_oil_columns]"
      ]
    },
    {
      "cell_type": "markdown",
      "metadata": {
        "_cell_guid": "8f44bb9c-5c9f-aa25-a2f9-5fbc82773638"
      },
      "source": ""
    },
    {
      "cell_type": "code",
      "execution_count": null,
      "metadata": {
        "_cell_guid": "4628968b-4d2d-5350-8ae7-318314461b4c"
      },
      "outputs": [],
      "source": [
        "macro_gpd_columns = ['gdp_quart', 'gdp_quart_growth', 'gdp_deflator', 'gdp_annual', 'gdp_annual_growth', 'grp', 'grp_growth', 'income_per_cap',\n",
        "       'real_dispos_income_per_cap_growth', 'salary', 'salary_growth']\n",
        "train_df.loc[:2, macro_gpd_columns]"
      ]
    },
    {
      "cell_type": "markdown",
      "metadata": {
        "_cell_guid": "81fbaed0-f7af-78b6-64e2-46c4db50bc00"
      },
      "source": ""
    },
    {
      "cell_type": "code",
      "execution_count": null,
      "metadata": {
        "_cell_guid": "8cb7e5b2-0183-aae5-557a-d1e89b556296"
      },
      "outputs": [],
      "source": [
        "macro_price_indexes_columns = ['cpi', 'ppi', 'rts', 'micex', 'micex_rgbi_tr', 'micex_cbi_tr', 'fixed_basket']\n",
        "train_df.loc[:2, macro_price_indexes_columns]"
      ]
    },
    {
      "cell_type": "markdown",
      "metadata": {
        "_cell_guid": "19f66f1d-8329-974f-f686-71166b9d1495"
      },
      "source": ""
    },
    {
      "cell_type": "code",
      "execution_count": null,
      "metadata": {
        "_cell_guid": "38aa5088-e0bf-a36e-db54-3f475fead609"
      },
      "outputs": [],
      "source": [
        "macro_price_indexes_columns = ['balance_trade', 'balance_trade_growth', 'net_capital_export', 'retail_trade_turnover',\n",
        "                               'retail_trade_turnover_per_cap', 'retail_trade_turnover_growth']\n",
        "train_df.loc[:2, macro_price_indexes_columns]"
      ]
    },
    {
      "cell_type": "markdown",
      "metadata": {
        "_cell_guid": "b6a602de-80fb-bcdd-01e3-ded0bfb9591a"
      },
      "source": ""
    },
    {
      "cell_type": "code",
      "execution_count": null,
      "metadata": {
        "_cell_guid": "c6615862-f5e9-e7de-6ab9-56305e4dba51"
      },
      "outputs": [],
      "source": [
        "macro_exchange_rates_columns = ['usdrub', 'eurrub']\n",
        "train_df.loc[:2, macro_exchange_rates_columns]"
      ]
    },
    {
      "cell_type": "markdown",
      "metadata": {
        "_cell_guid": "ac7470b6-c1ee-5c5a-47d1-3b460132f270"
      },
      "source": ""
    },
    {
      "cell_type": "code",
      "execution_count": null,
      "metadata": {
        "_cell_guid": "baa8ae22-d0e4-ba93-a8cd-c514c9f23333"
      },
      "outputs": [],
      "source": [
        "macro_build_contract_columns = ['average_provision_of_build_contract', 'average_provision_of_build_contract_moscow']\n",
        "train_df.loc[:2, macro_exchange_rates_columns]"
      ]
    },
    {
      "cell_type": "markdown",
      "metadata": {
        "_cell_guid": "3128afc2-f926-372a-438d-809156e2268c"
      },
      "source": ""
    },
    {
      "cell_type": "code",
      "execution_count": null,
      "metadata": {
        "_cell_guid": "69af4905-fca8-3d29-9f77-55e2e99f0327"
      },
      "outputs": [],
      "source": [
        "macro_deposits_morgages_columns = ['deposits_value', 'deposits_growth', 'deposits_rate', 'mortgage_value', 'mortgage_growth', 'mortgage_rate']\n",
        "train_df.loc[:2, macro_deposits_morgages_columns]"
      ]
    },
    {
      "cell_type": "markdown",
      "metadata": {
        "_cell_guid": "a2873937-438e-8426-c271-c21f6c50c268"
      },
      "source": ""
    },
    {
      "cell_type": "code",
      "execution_count": null,
      "metadata": {
        "_cell_guid": "ef67bbfa-e955-0a08-187d-eff2c91dd406"
      },
      "outputs": [],
      "source": [
        "macro_demographics_columns = ['labor_force', 'unemployment', 'employment', 'marriages_per_1000_cap', 'divorce_rate', 'pop_natural_increase', \n",
        "                              'pop_migration', 'pop_total_inc', 'childbirth', 'mortality', 'average_life_exp', 'infant_mortarity_per_1000_cap',\n",
        "                              'perinatal_mort_per_1000_cap', 'incidence_population']\n",
        "train_df.loc[:2, macro_demographics_columns]"
      ]
    },
    {
      "cell_type": "markdown",
      "metadata": {
        "_cell_guid": "ccb3f564-94c3-2294-c3fb-777b8cca5848"
      },
      "source": ""
    },
    {
      "cell_type": "code",
      "execution_count": null,
      "metadata": {
        "_cell_guid": "1afd6c3a-6c00-1832-71df-d7167a439115"
      },
      "outputs": [],
      "source": [
        "macro_invest_enterprises_columns = ['invest_fixed_capital_per_cap', 'invest_fixed_assets', 'invest_fixed_assets_phys', 'profitable_enterpr_share', 'unprofitable_enterpr_share', \n",
        "                                    'share_own_revenues', 'overdue_wages_per_cap', 'fin_res_per_cap']\n",
        "train_df.loc[:2, macro_invest_enterprises_columns]"
      ]
    },
    {
      "cell_type": "markdown",
      "metadata": {
        "_cell_guid": "5c6b288a-fb78-29bc-5aa7-3a325462f5e8"
      },
      "source": ""
    },
    {
      "cell_type": "code",
      "execution_count": null,
      "metadata": {
        "_cell_guid": "a78637e4-ebcf-6282-4c09-0afe6df7726e"
      },
      "outputs": [],
      "source": [
        "macro_housing_columns = ['housing_fund_sqm', 'lodging_sqm_per_cap', 'water_pipes_share', 'baths_share', 'sewerage_share', 'gas_share',\n",
        "                         'hot_water_share', 'electric_stove_share', 'heating_share', 'old_house_share', \n",
        "                         'rent_price_4+room_bus', 'rent_price_3room_bus', 'rent_price_2room_bus', 'rent_price_1room_bus', \n",
        "                         'rent_price_3room_eco',  'rent_price_2room_eco', 'rent_price_1room_eco',\n",
        "                         'apartment_build', 'apartment_fund_sqm']\n",
        "train_df.loc[:2, macro_housing_columns]"
      ]
    },
    {
      "cell_type": "markdown",
      "metadata": {
        "_cell_guid": "819eb326-ec45-a87f-fe7a-db1baaad6734"
      },
      "source": ""
    },
    {
      "cell_type": "code",
      "execution_count": null,
      "metadata": {
        "_cell_guid": "061eead3-6dfc-2d55-7a71-e55b830dcebf"
      },
      "outputs": [],
      "source": [
        "macro_education_columns = ['load_of_teachers_preschool_per_teacher', 'child_on_acc_pre_school', 'load_of_teachers_school_per_teacher',\n",
        "                           'students_state_oneshift', 'modern_education_share', 'old_education_build_share']\n",
        "train_df.loc[:2, macro_education_columns]"
      ]
    },
    {
      "cell_type": "markdown",
      "metadata": {
        "_cell_guid": "2584bff8-0a49-6598-06f6-d89f0c41c3d8"
      },
      "source": ""
    },
    {
      "cell_type": "code",
      "execution_count": null,
      "metadata": {
        "_cell_guid": "d6142695-34b3-da23-008d-ab99cb956999"
      },
      "outputs": [],
      "source": [
        "macro_healthcare_columns = ['provision_doctors', 'provision_nurse', 'load_on_doctors', 'power_clinics', \n",
        "                            'hospital_beds_available_per_cap', 'hospital_bed_occupancy_per_year']\n",
        "train_df.loc[:2, macro_healthcare_columns]"
      ]
    },
    {
      "cell_type": "markdown",
      "metadata": {
        "_cell_guid": "aae6fa99-8ba3-df6d-3bff-96f8d92ef1e0"
      },
      "source": ""
    },
    {
      "cell_type": "code",
      "execution_count": null,
      "metadata": {
        "_cell_guid": "cd7b7b5d-9208-cd85-9bf5-fb23f26d4ca0"
      },
      "outputs": [],
      "source": [
        "macro_retail_columns = ['provision_retail_space_sqm', 'provision_retail_space_modern_sqm']\n",
        "train_df.loc[:2, macro_retail_columns]"
      ]
    },
    {
      "cell_type": "markdown",
      "metadata": {
        "_cell_guid": "dc53d0a9-e18a-2c7c-943b-a312f63b54a2"
      },
      "source": ""
    },
    {
      "cell_type": "code",
      "execution_count": null,
      "metadata": {
        "_cell_guid": "2480289b-6da6-0f53-45d2-58965544049a"
      },
      "outputs": [],
      "source": [
        "macro_food_culture_columns = ['turnover_catering_per_cap', 'theaters_viewers_per_1000_cap', 'seats_theather_rfmin_per_100000_cap', 'museum_visitis_per_100_cap',\n",
        "                              'bandwidth_sports', 'population_reg_sports_share', 'students_reg_sports_share']\n",
        "train_df.loc[:2, macro_food_culture_columns]"
      ]
    },
    {
      "cell_type": "markdown",
      "metadata": {
        "_cell_guid": "8b2ee27a-f4b8-3290-77e6-bb13d292e5a2"
      },
      "source": [
        "# Modeling"
      ]
    },
    {
      "cell_type": "markdown",
      "metadata": {
        "_cell_guid": "6e6701f5-b290-c38d-9d94-73fe2ec42a5e"
      },
      "source": ""
    },
    {
      "cell_type": "code",
      "execution_count": null,
      "metadata": {
        "_cell_guid": "373281de-06dd-1326-dded-9c919bbba9cb"
      },
      "outputs": [],
      "source": [
        "full = del_columns(train_df, [\"id\", \"price_doc\", \"price_doc_euro\", \"price_doc_dollars\"])\n",
        "full = del_columns(test_df, [\"id\"])\n",
        "print(\"\\n\", full.shape)"
      ]
    },
    {
      "cell_type": "code",
      "execution_count": null,
      "metadata": {
        "_cell_guid": "18c9d4ad-73f1-a2ca-3fa1-824a8feb9100"
      },
      "outputs": [],
      "source": [
        "numeric_columns = get_numeric_columns(train_df)\n",
        "print(train_df.shape, \"to numeric only:\", train_df[numeric_columns].shape)"
      ]
    },
    {
      "cell_type": "markdown",
      "metadata": {
        "_cell_guid": "08c4b7f2-6f92-0af5-22e7-a2acae2a487d"
      },
      "source": ""
    },
    {
      "cell_type": "code",
      "execution_count": null,
      "metadata": {
        "_cell_guid": "b2891724-a20a-bd73-9722-6a5885ef954d"
      },
      "outputs": [],
      "source": [
        "val_time = 1407\n",
        "dev_indices = np.where(train_df[\"time_yearmonth\"]<val_time)\n",
        "val_indices = np.where(train_df[\"time_yearmonth\"]>=val_time)\n",
        "dev_X = train_df[numeric_columns].ix[dev_indices]\n",
        "val_X = train_df[numeric_columns].ix[val_indices]\n",
        "dev_y = train_y[dev_indices]\n",
        "val_y = train_y[val_indices]\n",
        "print(dev_X.shape, val_X.shape)"
      ]
    },
    {
      "cell_type": "markdown",
      "metadata": {
        "_cell_guid": "e991f544-79fc-64e5-7dd1-d3d54b4a217d"
      },
      "source": ""
    },
    {
      "cell_type": "code",
      "execution_count": null,
      "metadata": {
        "_cell_guid": "39dd6906-7def-719b-f764-5827a4f4b8f0"
      },
      "outputs": [],
      "source": ""
    },
    {
      "cell_type": "markdown",
      "metadata": {
        "_cell_guid": "94f7c3ca-7e0d-bae6-bb88-85be5c2e83e6"
      },
      "source": ""
    },
    {
      "cell_type": "code",
      "execution_count": null,
      "metadata": {
        "_cell_guid": "0fdd405c-bd62-e555-5f6c-1f7e11e93b6a"
      },
      "outputs": [],
      "source": [
        "#import xgboost as xgb"
      ]
    },
    {
      "cell_type": "markdown",
      "metadata": {
        "_cell_guid": "5e4035c6-00dd-6f8c-9aae-eeb74a0289ab"
      },
      "source": ""
    },
    {
      "cell_type": "code",
      "execution_count": null,
      "metadata": {
        "_cell_guid": "66461813-4416-6b53-6fef-a8ab289a4611"
      },
      "outputs": [],
      "source": ""
    },
    {
      "cell_type": "markdown",
      "metadata": {
        "_cell_guid": "495b7fa3-cf48-aad2-88d7-7f5cee79d015"
      },
      "source": [
        "## Neural Network\n"
      ]
    },
    {
      "cell_type": "code",
      "execution_count": null,
      "metadata": {
        "_cell_guid": "088aa0d7-e4dd-0f4f-d019-7b42681f1f59"
      },
      "outputs": [],
      "source": ""
    },
    {
      "cell_type": "markdown",
      "metadata": {
        "_cell_guid": "99ea00be-8843-2562-f0f7-c446fc2e7cf6"
      },
      "source": ""
    },
    {
      "cell_type": "code",
      "execution_count": null,
      "metadata": {
        "_cell_guid": "511f385b-0810-f23a-fac9-c1b03eb5a44a"
      },
      "outputs": [],
      "source": ""
    },
    {
      "cell_type": "markdown",
      "metadata": {
        "_cell_guid": "938906cd-daea-e988-6287-61e0e63f2c5b"
      },
      "source": [
        "# Ensembles"
      ]
    },
    {
      "cell_type": "markdown",
      "metadata": {
        "_cell_guid": "2ebd2258-30ff-657d-e405-870bcb2d2c58"
      },
      "source": ""
    },
    {
      "cell_type": "code",
      "execution_count": null,
      "metadata": {
        "_cell_guid": "ed87acb2-d832-e0c9-06e0-2cc8df6fc380"
      },
      "outputs": [],
      "source": ""
    },
    {
      "cell_type": "markdown",
      "metadata": {
        "_cell_guid": "37d00565-c75a-1f7c-bfc9-9a517805f645"
      },
      "source": [
        "### Stacking"
      ]
    },
    {
      "cell_type": "code",
      "execution_count": null,
      "metadata": {
        "_cell_guid": "5e8bb47a-0c21-78f6-d01b-b355180b2f70"
      },
      "outputs": [],
      "source": ""
    },
    {
      "cell_type": "code",
      "execution_count": null,
      "metadata": {
        "_cell_guid": "7e005dbe-826e-d8ff-c7ba-6ffbf8e4f5e3"
      },
      "outputs": [],
      "source": ""
    }
  ],
  "metadata": {
    "_change_revision": 0,
    "_is_fork": false,
    "kernelspec": {
      "display_name": "Python 3",
      "language": "python",
      "name": "python3"
    },
    "language_info": {
      "codemirror_mode": {
        "name": "ipython",
        "version": 3
      },
      "file_extension": ".py",
      "mimetype": "text/x-python",
      "name": "python",
      "nbconvert_exporter": "python",
      "pygments_lexer": "ipython3",
      "version": "3.6.0"
    }
  },
  "nbformat": 4,
  "nbformat_minor": 0
}