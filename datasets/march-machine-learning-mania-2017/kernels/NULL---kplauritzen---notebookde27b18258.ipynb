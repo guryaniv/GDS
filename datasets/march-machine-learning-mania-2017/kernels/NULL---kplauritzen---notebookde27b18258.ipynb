{
  "cells": [
    {
      "cell_type": "markdown",
      "metadata": {
        "_cell_guid": "774214d9-aa5e-fd48-6d97-789c8de3b152"
      },
      "source": ""
    },
    {
      "cell_type": "code",
      "execution_count": null,
      "metadata": {
        "_cell_guid": "9bb504c3-e700-a0b3-0bdf-139738aaa150"
      },
      "outputs": [],
      "source": [
        " "
      ]
    },
    {
      "cell_type": "markdown",
      "metadata": {
        "_cell_guid": "f5867a95-a9cf-f8bb-6258-e967fd048263"
      },
      "source": [
        "Our plan is to use the tournament seeds as a predictor of tournament performance. \n",
        "We will train a logistic regressor on the difference in seeding between the two teams playing, and have the result of the game as the desired output\n",
        "\n",
        "This is inspired by [last years competition][1], where [Jared Cross made a model just based on the team seeds][2].\n",
        "\n",
        "\n",
        "  [1]: https://www.kaggle.com/c/march-machine-learning-mania-2016\n",
        "  [2]: https://www.kaggle.com/jaredcross/march-machine-learning-mania-2016/getting-started"
      ]
    },
    {
      "cell_type": "code",
      "execution_count": null,
      "metadata": {
        "_cell_guid": "1bb991f3-427d-42db-25fb-bcaefa509442"
      },
      "outputs": [],
      "source": [
        "# This Python 3 environment comes with many helpful analytics libraries installed\n",
        "# It is defined by the kaggle/python docker image: https://github.com/kaggle/docker-python\n",
        "# For example, here's several helpful packages to load in \n",
        "\n",
        "import numpy as np # linear algebra\n",
        "import pandas as pd # data processing, CSV file I/O (e.g. pd.read_csv)\n",
        "from sklearn.linear_model import LogisticRegression\n",
        "import matplotlib.pyplot as plt\n",
        "from sklearn.utils import shuffle\n",
        "from sklearn.model_selection import GridSearchCV\n",
        "# Input data files are available in the \"../input/\" directory.\n",
        "# For example, running this (by clicking run or pressing Shift+Enter) will list the files in the input directory\n",
        "\n",
        "from subprocess import check_output\n",
        "print(check_output([\"ls\", \"../input\"]).decode(\"utf8\"))\n",
        "\n",
        "# Any results you write to the current directory are saved as output."
      ]
    },
    {
      "cell_type": "markdown",
      "metadata": {
        "_cell_guid": "d7d29653-9421-b350-db5d-4c350f94591a"
      },
      "source": [
        "## Load the training data ##\n",
        "We are just having a look at the format of the training data to make sure that it looks like we expect"
      ]
    },
    {
      "cell_type": "code",
      "execution_count": null,
      "metadata": {
        "_cell_guid": "e1cdaff1-f699-a4c7-40b7-1cfdd6b83605"
      },
      "outputs": [],
      "source": [
        "data_dir = '../input/'\n",
        "df_seeds = pd.read_csv(data_dir + 'TourneySeeds.csv')\n",
        "df_tour = pd.read_csv(data_dir + 'TourneyCompactResults.csv')"
      ]
    },
    {
      "cell_type": "code",
      "execution_count": null,
      "metadata": {
        "_cell_guid": "5f67a265-e3d7-f1ae-b793-b8905ae86b29"
      },
      "outputs": [],
      "source": [
        "df_seeds.head()"
      ]
    },
    {
      "cell_type": "code",
      "execution_count": null,
      "metadata": {
        "_cell_guid": "649acc0c-433c-4538-8c17-7b26061a94b6"
      },
      "outputs": [],
      "source": [
        "df_tour.head()"
      ]
    },
    {
      "cell_type": "markdown",
      "metadata": {
        "_cell_guid": "7f6ca7dd-661f-4156-8a1f-b9de091cd2fa"
      },
      "source": [
        "Let's drop the columns we are not planning on using"
      ]
    },
    {
      "cell_type": "code",
      "execution_count": null,
      "metadata": {
        "_cell_guid": "e4139b57-e86e-16ab-c59d-41a08784233c"
      },
      "outputs": [],
      "source": [
        "df_tour.drop(labels=['Daynum', 'Wscore', 'Lscore', 'Wloc', 'Numot'], inplace=True, axis=1)"
      ]
    },
    {
      "cell_type": "markdown",
      "metadata": {
        "_cell_guid": "2b082a67-d9fb-dfb1-4257-dbd073290e0d"
      },
      "source": [
        "Get the seeds as integers"
      ]
    },
    {
      "cell_type": "code",
      "execution_count": null,
      "metadata": {
        "_cell_guid": "7f8900a1-d53f-c300-e8a1-2ac86035f47f"
      },
      "outputs": [],
      "source": [
        "def seed_to_int(seed):\n",
        "    \"\"\"Get just the digits from the seeding. Return as int\"\"\"\n",
        "    s_int = int(seed[1:3])\n",
        "    return s_int\n",
        "df_seeds['n_seed'] = df_seeds.Seed.apply(seed_to_int)\n",
        "df_seeds.drop(labels=['Seed'], inplace=True, axis=1) # This is the string label"
      ]
    },
    {
      "cell_type": "markdown",
      "metadata": {
        "_cell_guid": "67451edb-1e8c-e852-3966-a13144472fc4"
      },
      "source": [
        "## Merge seed for each team ##\n",
        "We want the seeds in the same DataFrame as the game results"
      ]
    },
    {
      "cell_type": "code",
      "execution_count": null,
      "metadata": {
        "_cell_guid": "811b0c6e-a400-17ea-4810-095b26b67d46"
      },
      "outputs": [],
      "source": [
        "df_winseeds = df_seeds.rename(columns={'Team':'Wteam', 'n_seed':'win_seed'})\n",
        "df_lossseeds = df_seeds.rename(columns={'Team':'Lteam', 'n_seed':'loss_seed'})"
      ]
    },
    {
      "cell_type": "code",
      "execution_count": null,
      "metadata": {
        "_cell_guid": "0aaa0a74-e86f-e9db-65ac-ae66b1205707"
      },
      "outputs": [],
      "source": [
        "df_dummy = pd.merge(left=df_tour, right=df_winseeds, how='left', on=['Season', 'Wteam'])\n",
        "df_concat = pd.merge(left=df_dummy, right=df_lossseeds, on=['Season', 'Lteam'])\n",
        "df_concat['seed_diff'] = df_concat.win_seed - df_concat.loss_seed"
      ]
    },
    {
      "cell_type": "markdown",
      "metadata": {
        "_cell_guid": "866c0879-a2d5-f1a9-1f54-cc11f7936289"
      },
      "source": [
        "## Make a new DF with just the wins and losses ##"
      ]
    },
    {
      "cell_type": "code",
      "execution_count": null,
      "metadata": {
        "_cell_guid": "dc8f0d41-4810-04f1-6473-0cabeeaa9f39"
      },
      "outputs": [],
      "source": [
        "df_wins = pd.DataFrame()\n",
        "df_wins['seed_diff'] = df_concat['seed_diff']\n",
        "df_wins['result'] = 1\n",
        "\n",
        "df_losses = pd.DataFrame()\n",
        "df_losses['seed_diff'] = -df_concat['seed_diff']\n",
        "df_losses['result'] = 0\n",
        "\n",
        "df_for_predictions = pd.concat((df_wins, df_losses))"
      ]
    },
    {
      "cell_type": "code",
      "execution_count": null,
      "metadata": {
        "_cell_guid": "cfa222c8-b34c-0047-4e55-0b1baf09249c"
      },
      "outputs": [],
      "source": [
        "X_train = df_for_predictions.seed_diff.values.reshape(-1,1)\n",
        "y_train = df_for_predictions.result.values\n",
        "X_train, y_train = shuffle(X_train, y_train)"
      ]
    },
    {
      "cell_type": "markdown",
      "metadata": {
        "_cell_guid": "168cd7e7-5d84-a171-d3fb-2f1b015fe8b4"
      },
      "source": [
        "## Train the estimator ##\n",
        "We use logistic regression, so we have to set a `C` value. We can just try a bunch of different values and then choose the best one."
      ]
    },
    {
      "cell_type": "code",
      "execution_count": null,
      "metadata": {
        "_cell_guid": "8eabbfe6-2d9f-a516-0a80-552a6104f258"
      },
      "outputs": [],
      "source": [
        "logreg = LogisticRegression()\n",
        "params = {'C': np.logspace(start=-5, stop=3, num=9)}\n",
        "clf = GridSearchCV(logreg, params, scoring='neg_log_loss', refit=True)\n",
        "clf.fit(X_train, y_train)\n",
        "print('Best log_loss: {:.4}, with best C: {}'.format(clf.best_score_, clf.best_params_['C']))"
      ]
    },
    {
      "cell_type": "markdown",
      "metadata": {
        "_cell_guid": "a644cbce-d1f5-2c91-893a-5b0455dd7418"
      },
      "source": [
        "## Examine the classifier predictions ##"
      ]
    },
    {
      "cell_type": "code",
      "execution_count": null,
      "metadata": {
        "_cell_guid": "0ba82980-2cdc-c346-2986-e45c2b2f8e35"
      },
      "outputs": [],
      "source": [
        "X = np.arange(-16, 16).reshape(-1, 1)\n",
        "preds = clf.predict_proba(X)[:,1]"
      ]
    },
    {
      "cell_type": "code",
      "execution_count": null,
      "metadata": {
        "_cell_guid": "c2367916-2e02-264e-d42b-f7fd8ed9a2cc"
      },
      "outputs": [],
      "source": [
        "plt.plot(X, preds)\n",
        "plt.xlabel('Team1 seed - Team2 seed')\n",
        "plt.ylabel('P(Team1 will win)')"
      ]
    },
    {
      "cell_type": "markdown",
      "metadata": {
        "_cell_guid": "198911c1-e2bc-b9c8-baa2-7cc0f67efd1d"
      },
      "source": [
        "This looks like we would expect. We are predicting the probability of team1 winning. If that team has a lower seed than team2, there is a high probability of team1 winning."
      ]
    },
    {
      "cell_type": "markdown",
      "metadata": {
        "_cell_guid": "428d2ecf-9412-3149-db77-d1fdf178beba"
      },
      "source": [
        "## Get the test data ##"
      ]
    },
    {
      "cell_type": "code",
      "execution_count": null,
      "metadata": {
        "_cell_guid": "ec62d48b-d869-0841-0d4a-e111ea0add17"
      },
      "outputs": [],
      "source": [
        "df_sample_sub = pd.read_csv(data_dir + 'sample_submission.csv')\n",
        "n_test_games = len(df_sample_sub)"
      ]
    },
    {
      "cell_type": "code",
      "execution_count": null,
      "metadata": {
        "_cell_guid": "9ec71bf6-54e1-8fa0-2deb-8c3a6291e8cc"
      },
      "outputs": [],
      "source": [
        "def get_year_t1_t2(id):\n",
        "    \"\"\"Return a tuple with ints `year`, `team1` and `team2`.\"\"\"\n",
        "    return (int(x) for x in id.split('_'))"
      ]
    },
    {
      "cell_type": "markdown",
      "metadata": {
        "_cell_guid": "3890d5e8-822a-b8b5-020f-406e41808395"
      },
      "source": [
        "We loop over each row in the `sample_submission.csv` file. For each row, we extract the year and the teams playing. \n",
        "We then look up the seeds for each of those teams *in that season*. \n",
        "Finally we add the seed difference to an array."
      ]
    },
    {
      "cell_type": "code",
      "execution_count": null,
      "metadata": {
        "_cell_guid": "52bddcb6-d526-6fc1-2a30-15a73929749a"
      },
      "outputs": [],
      "source": [
        "X_test = np.zeros(shape=(n_test_games, 1))\n",
        "for ii, row in df_sample_sub.iterrows():\n",
        "    year, t1, t2 = get_year_t1_t2(row.id)\n",
        "    # There absolutely must be a better way of doing this!\n",
        "    t1_seed = df_seeds[(df_seeds.Team == t1) & (df_seeds.Season == year)].n_seed.values[0]\n",
        "    t2_seed = df_seeds[(df_seeds.Team == t2) & (df_seeds.Season == year)].n_seed.values[0]\n",
        "    diff_seed = t1_seed - t2_seed\n",
        "    X_test[ii, 0] = diff_seed"
      ]
    },
    {
      "cell_type": "markdown",
      "metadata": {
        "_cell_guid": "60fcc9e1-2671-f318-93dc-a43e221f0d65"
      },
      "source": [
        "## Make the predictions ##"
      ]
    },
    {
      "cell_type": "code",
      "execution_count": null,
      "metadata": {
        "_cell_guid": "11c0b80b-e57e-9546-669e-fe1ad40f4b1e"
      },
      "outputs": [],
      "source": [
        "preds = clf.predict_proba(X_test)[:,1]"
      ]
    },
    {
      "cell_type": "code",
      "execution_count": null,
      "metadata": {
        "_cell_guid": "4d5567a6-174f-a033-e568-021f0b2a5128"
      },
      "outputs": [],
      "source": [
        "clipped_preds = np.clip(preds, 0.05, 0.95)\n",
        "df_sample_sub.pred = clipped_preds\n",
        "df_sample_sub.head()"
      ]
    },
    {
      "cell_type": "code",
      "execution_count": null,
      "metadata": {
        "_cell_guid": "177e1428-2bf0-a872-587c-d0c82e313400"
      },
      "outputs": [],
      "source": [
        "df_sample_sub.to_csv('logreg_on_seed.csv', index=False)"
      ]
    },
    {
      "cell_type": "code",
      "execution_count": null,
      "metadata": {
        "_cell_guid": "1e30fbb1-fed1-d881-0868-56d92eb7675a"
      },
      "outputs": [],
      "source": [
        ""
      ]
    }
  ],
  "metadata": {
    "_change_revision": 0,
    "_is_fork": false,
    "kernelspec": {
      "display_name": "Python 3",
      "language": "python",
      "name": "python3"
    },
    "language_info": {
      "codemirror_mode": {
        "name": "ipython",
        "version": 3
      },
      "file_extension": ".py",
      "mimetype": "text/x-python",
      "name": "python",
      "nbconvert_exporter": "python",
      "pygments_lexer": "ipython3",
      "version": "3.5.2"
    }
  },
  "nbformat": 4,
  "nbformat_minor": 0
}