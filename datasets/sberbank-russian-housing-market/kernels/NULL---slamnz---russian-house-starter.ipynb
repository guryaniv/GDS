{
  "cells": [
    {
      "cell_type": "markdown",
      "metadata": {
        "_cell_guid": "83dc2da2-cc56-937e-eab4-7338e3a2bd31"
      },
      "source": [
        "# Pending Actions\n",
        "\n",
        " - Classify features as numeric, category, temporal, or counts\n",
        " - Check for missing data\n",
        " - Do an inner join of the timestamp data\n",
        " - Create a data starter template for machine learning experimentation\n",
        "\n",
        "\n",
        "----------\n"
      ]
    },
    {
      "cell_type": "code",
      "execution_count": null,
      "metadata": {
        "_cell_guid": "2af68040-d169-5237-c130-29a03172ff0b"
      },
      "outputs": [],
      "source": [
        "from pandas import read_csv\n",
        "train = read_csv(\"../input/train.csv\")\n",
        "macro = read_csv(\"../input/macro.csv\")"
      ]
    },
    {
      "cell_type": "code",
      "execution_count": null,
      "metadata": {
        "_cell_guid": "1b927301-d429-a703-151d-c62f233a92dd"
      },
      "outputs": [],
      "source": [
        "# Preview The Data\n",
        "# ----------------------------------------------------------------------------------------------------"
      ]
    },
    {
      "cell_type": "code",
      "execution_count": null,
      "metadata": {
        "_cell_guid": "ade3a42f-7a58-db10-1168-3c0ea2902afe"
      },
      "outputs": [],
      "source": [
        "train.head()"
      ]
    },
    {
      "cell_type": "code",
      "execution_count": null,
      "metadata": {
        "_cell_guid": "64e9ec4c-3399-a99b-a671-ef06db35c0a7"
      },
      "outputs": [],
      "source": [
        "macro.head()"
      ]
    },
    {
      "cell_type": "code",
      "execution_count": null,
      "metadata": {
        "_cell_guid": "a64ec6fa-223b-7551-a5b2-359123749866"
      },
      "outputs": [],
      "source": [
        "# Data Shapes\n",
        "# ----------------------------------------------------------------------------------------------------"
      ]
    },
    {
      "cell_type": "code",
      "execution_count": null,
      "metadata": {
        "_cell_guid": "40642cbe-9de5-e717-2939-149976cf66fc"
      },
      "outputs": [],
      "source": [
        "train.shape"
      ]
    },
    {
      "cell_type": "code",
      "execution_count": null,
      "metadata": {
        "_cell_guid": "c7e77407-4895-cfb5-242b-946ae1f34082"
      },
      "outputs": [],
      "source": [
        "macro.shape"
      ]
    },
    {
      "cell_type": "markdown",
      "metadata": {
        "_cell_guid": "4aded613-3b90-c1a4-f132-07a030df7688"
      },
      "source": [
        "Great! A lot of data points and features to work with. "
      ]
    },
    {
      "cell_type": "code",
      "execution_count": null,
      "metadata": {
        "_cell_guid": "8944922a-a11a-4555-6518-ebb098f5dec9"
      },
      "outputs": [],
      "source": [
        "# Missing Data\n",
        "# ----------------------------------------------------------------------------------------------------"
      ]
    },
    {
      "cell_type": "code",
      "execution_count": null,
      "metadata": {
        "_cell_guid": "4736b2ef-b41d-9d57-809a-56bb5abddbca"
      },
      "outputs": [],
      "source": [
        "def get_missing_data(data,features):\n",
        "    dictionary = {}\n",
        "\n",
        "    for feature in features:\n",
        "\n",
        "        column = data[feature]\n",
        "\n",
        "        has_null = any(column.isnull())\n",
        "\n",
        "        if(has_null):\n",
        "\n",
        "            null_count = column.isnull().value_counts()[True]\n",
        "            not_null_count = column.notnull().value_counts()[True]\n",
        "            total_rows = len(column)\n",
        "\n",
        "            row = {}\n",
        "            row[\"Null Count\"] = null_count\n",
        "            row[\"Not Null Count\"] = not_null_count\n",
        "            row[\"Null Count / Total Rows\"] = \"%s / %s\" %  (null_count, total_rows)\n",
        "            row[\"Percentage of Nulls\"] = \"%.2f\" % ((null_count / total_rows) * 100) + \"%\"\n",
        "            row[\"Ratio (Not Null : Null)\"] = \"%.2f : 1\" %  ((null_count / not_null_count))\n",
        "\n",
        "            dictionary[feature] = row\n",
        "\n",
        "    ordered_columns = [\"Null Count\", \"Not Null Count\", \"Ratio (Not Null : Null)\", \"Null Count / Total Rows\", \"Percentage of Nulls\"]\n",
        "\n",
        "    from pandas import DataFrame\n",
        "\n",
        "    new_dataframe = DataFrame.from_dict(data = dictionary, orient=\"index\")\n",
        "    \n",
        "    return new_dataframe[ordered_columns].sort_values(\"Null Count\", ascending=False)"
      ]
    },
    {
      "cell_type": "code",
      "execution_count": null,
      "metadata": {
        "_cell_guid": "f4c45b27-ff26-c844-d273-e0d52fd82a98"
      },
      "outputs": [],
      "source": [
        "get_missing_data(train, train.columns)"
      ]
    },
    {
      "cell_type": "code",
      "execution_count": null,
      "metadata": {
        "_cell_guid": "8921b479-d4d7-8f6b-d8fd-bc4c28d571b4"
      },
      "outputs": [],
      "source": [
        "train.isnull().any().value_counts()"
      ]
    },
    {
      "cell_type": "markdown",
      "metadata": {
        "_cell_guid": "ef787390-4cc7-d99d-b62c-78bb36aa3342"
      },
      "source": [
        "Yikes, \"train.csv\" has 241 / 293 of features have null values."
      ]
    },
    {
      "cell_type": "code",
      "execution_count": null,
      "metadata": {
        "_cell_guid": "068e5b55-aae2-8e96-6daa-ef1afd6cde38"
      },
      "outputs": [],
      "source": [
        "get_missing_data(macro, macro.columns)"
      ]
    },
    {
      "cell_type": "code",
      "execution_count": null,
      "metadata": {
        "_cell_guid": "1f88235f-34fb-8104-949d-54072c55fa68"
      },
      "outputs": [],
      "source": [
        "macro.isnull().any().value_counts()"
      ]
    },
    {
      "cell_type": "markdown",
      "metadata": {
        "_cell_guid": "ee63a110-f867-5e88-f3d0-106fc8e0513d"
      },
      "source": [
        "# Feature Classification\n",
        "\n",
        "\n",
        "----------\n"
      ]
    },
    {
      "cell_type": "code",
      "execution_count": null,
      "metadata": {
        "_cell_guid": "ce860558-8f7e-bdd2-b233-d55609c19ea4"
      },
      "outputs": [],
      "source": [
        "len(train.columns) + len(macro.columns)"
      ]
    },
    {
      "cell_type": "markdown",
      "metadata": {
        "_cell_guid": "6594acd2-a69f-748e-bace-6f0ebbf796b7"
      },
      "source": [
        "392 features to classify"
      ]
    },
    {
      "cell_type": "markdown",
      "metadata": {
        "_cell_guid": "d2aa2f7c-f4aa-7bb5-1530-ed3d684361bc"
      },
      "source": [
        "Let's start with train.csv"
      ]
    },
    {
      "cell_type": "code",
      "execution_count": null,
      "metadata": {
        "_cell_guid": "1a53b79b-d664-a47d-c3a4-9bca724afb40"
      },
      "outputs": [],
      "source": [
        "def get_feature_dtypes(data,features):\n",
        "\n",
        "    features_by_dtype = {}\n",
        "    for f in features:\n",
        "        dtype = str(data[f].dtype)\n",
        "\n",
        "        if dtype not in features_by_dtype.keys():\n",
        "            features_by_dtype[dtype] = [f]\n",
        "        else:\n",
        "            features_by_dtype[dtype] += [f]\n",
        "            \n",
        "    return features_by_dtype\n",
        "\n",
        "def display_dtype_counts(dictionary):\n",
        "    for key in dictionary.keys():\n",
        "        string = \"{}: {}\".format(key,len(dictionary[key]))\n",
        "        print(string)\n",
        "        \n",
        "def display_feature_by_dtype(data, dictionary, key):\n",
        "    print(key)\n",
        "    \n",
        "    for feature in dictionary[key]:\n",
        "        string = str(feature) + \": \"\n",
        "        \n",
        "        if len(data[feature].unique()) < 15:\n",
        "            string += str(data[feature].unique())\n",
        "            print(string)\n",
        "        else:\n",
        "            string += \"count(%s)\"% len(data[feature].unique())\n",
        "            print(string)"
      ]
    },
    {
      "cell_type": "code",
      "execution_count": null,
      "metadata": {
        "_cell_guid": "607b8630-5747-8253-346d-91f0f11d277a"
      },
      "outputs": [],
      "source": [
        "dtype_dict = get_feature_dtypes(train, train.columns)\n",
        "display_dtype_counts(dtype_dict)"
      ]
    },
    {
      "cell_type": "code",
      "execution_count": null,
      "metadata": {
        "_cell_guid": "fc9ac7ae-f495-fbe8-6d7b-9ee1df07eeb5"
      },
      "outputs": [],
      "source": [
        "i = iter(dtype_dict.keys())"
      ]
    },
    {
      "cell_type": "code",
      "execution_count": null,
      "metadata": {
        "_cell_guid": "ff4b9554-73fa-ce9e-dcfb-f6737d6e181f"
      },
      "outputs": [],
      "source": [
        "display_feature_by_dtype(train,dtype_dict,next(i))"
      ]
    },
    {
      "cell_type": "code",
      "execution_count": null,
      "metadata": {
        "_cell_guid": "cfb0a8a5-1b29-cd20-ff38-4c46f64733ac"
      },
      "outputs": [],
      "source": [
        "display_feature_by_dtype(train,dtype_dict,next(i))"
      ]
    },
    {
      "cell_type": "code",
      "execution_count": null,
      "metadata": {
        "_cell_guid": "3b3f1d08-ed16-e678-5834-719bd5a79342"
      },
      "outputs": [],
      "source": [
        "display_feature_by_dtype(train,dtype_dict,next(i))"
      ]
    },
    {
      "cell_type": "markdown",
      "metadata": {
        "_cell_guid": "d355e6ac-017f-79c3-0a5f-76bcc4063248"
      },
      "source": [
        "# More Coming Soon "
      ]
    }
  ],
  "metadata": {
    "_change_revision": 0,
    "_is_fork": false,
    "kernelspec": {
      "display_name": "Python 3",
      "language": "python",
      "name": "python3"
    },
    "language_info": {
      "codemirror_mode": {
        "name": "ipython",
        "version": 3
      },
      "file_extension": ".py",
      "mimetype": "text/x-python",
      "name": "python",
      "nbconvert_exporter": "python",
      "pygments_lexer": "ipython3",
      "version": "3.6.0"
    }
  },
  "nbformat": 4,
  "nbformat_minor": 0
}