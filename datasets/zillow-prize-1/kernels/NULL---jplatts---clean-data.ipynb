{
  "cells": [
    {
      "cell_type": "markdown",
      "metadata": {
        "_cell_guid": "ca98070c-f170-188f-7195-595065d75c4d"
      },
      "source": [
        "In this notebook, I explore the data and save a version of the data that I consider a starting a point. I save the features that are readily available without too much manipulation. \n",
        "\n",
        "With the basic version of the data, I can do a few preprocessing steps and easily apply different statistical learning methods."
      ]
    },
    {
      "cell_type": "code",
      "execution_count": null,
      "metadata": {
        "_cell_guid": "f6e49e3e-096c-bc80-3405-0c2e1b816ed9"
      },
      "outputs": [],
      "source": [
        "import numpy as np\n",
        "import pandas as pd\n",
        "import matplotlib.pyplot as plt"
      ]
    },
    {
      "cell_type": "markdown",
      "metadata": {
        "_cell_guid": "a561d805-1330-cd53-68ee-90a465695b05"
      },
      "source": [
        "cd Zillow/"
      ]
    },
    {
      "cell_type": "markdown",
      "metadata": {
        "_cell_guid": "21b2a76c-8860-0416-2338-f1f060aa6033"
      },
      "source": [
        "Ignore the cell above. I just needed it to get to the right directory."
      ]
    },
    {
      "cell_type": "markdown",
      "metadata": {
        "_cell_guid": "88d06dea-1890-e49c-1d88-6a7a0ec65691"
      },
      "source": [
        "# Data Reading & Combining"
      ]
    },
    {
      "cell_type": "code",
      "execution_count": null,
      "metadata": {
        "_cell_guid": "7216c68e-1336-5c63-0f98-e8054f46a68b"
      },
      "outputs": [],
      "source": [
        "dftrain = pd.read_csv('train_2016.csv')"
      ]
    },
    {
      "cell_type": "markdown",
      "metadata": {
        "_cell_guid": "b129cb55-ff82-8e63-fa28-812016c63e79"
      },
      "source": [
        "Training data"
      ]
    },
    {
      "cell_type": "code",
      "execution_count": null,
      "metadata": {
        "_cell_guid": "0ecca78c-58b4-21ac-3e7a-af8eb7fa8279"
      },
      "outputs": [],
      "source": [
        "dfprop = pd.read_csv('properties_2016.csv')"
      ]
    },
    {
      "cell_type": "markdown",
      "metadata": {
        "_cell_guid": "8a872191-78c8-6cde-b2c6-4eb569e3457f"
      },
      "source": [
        "Property data"
      ]
    },
    {
      "cell_type": "code",
      "execution_count": null,
      "metadata": {
        "_cell_guid": "5a9c571c-03d8-a4f3-d880-90dcf6134659"
      },
      "outputs": [],
      "source": [
        "dfprop.describe()"
      ]
    },
    {
      "cell_type": "code",
      "execution_count": null,
      "metadata": {
        "_cell_guid": "62ebecd5-4a25-dd57-374f-168572c4ebb4",
        "collapsed": true
      },
      "outputs": [],
      "source": [
        "dfprop.index = dfprop.parcelid"
      ]
    },
    {
      "cell_type": "code",
      "execution_count": null,
      "metadata": {
        "_cell_guid": "1d75d6bf-a13b-c6e5-adb6-53afde251420"
      },
      "outputs": [],
      "source": [
        "dfprop = dfprop.drop('parcelid',axis=1)"
      ]
    },
    {
      "cell_type": "code",
      "execution_count": null,
      "metadata": {
        "_cell_guid": "f5c4612d-e500-892f-606c-acf82aa88cd4"
      },
      "outputs": [],
      "source": [
        "dfprop.head()"
      ]
    },
    {
      "cell_type": "code",
      "execution_count": null,
      "metadata": {
        "_cell_guid": "8d5fc743-798a-d6a4-3f5c-abd43572c776",
        "collapsed": true
      },
      "outputs": [],
      "source": [
        "dftrain.index = dftrain.parcelid"
      ]
    },
    {
      "cell_type": "code",
      "execution_count": null,
      "metadata": {
        "_cell_guid": "e70d40fe-b7cc-dbb1-39a8-874fe3795ea8",
        "collapsed": true
      },
      "outputs": [],
      "source": [
        "dftrain = dftrain.drop('parcelid',axis=1)"
      ]
    },
    {
      "cell_type": "code",
      "execution_count": null,
      "metadata": {
        "_cell_guid": "0d9cff01-96a5-9518-b116-5339e0e100af"
      },
      "outputs": [],
      "source": [
        "dftrain.head()"
      ]
    },
    {
      "cell_type": "code",
      "execution_count": null,
      "metadata": {
        "_cell_guid": "1e874d9f-b335-d942-a5c1-8df6caf53fbb"
      },
      "outputs": [],
      "source": [
        "dfcomb = dfprop.join(dftrain,how='outer')"
      ]
    },
    {
      "cell_type": "markdown",
      "metadata": {
        "_cell_guid": "b051c1dd-5073-0dc3-c50e-b3fbd70d226a"
      },
      "source": [
        "Combine both sets of data on their parcel id."
      ]
    },
    {
      "cell_type": "code",
      "execution_count": null,
      "metadata": {
        "_cell_guid": "18e4f924-07a0-9ace-dcee-e1b12c155046"
      },
      "outputs": [],
      "source": [
        "dfcomb.head()"
      ]
    },
    {
      "cell_type": "markdown",
      "metadata": {
        "_cell_guid": "cbafedd4-cc02-cc2a-174d-507299c17a04"
      },
      "source": [
        "Number of parcels without a transaction"
      ]
    },
    {
      "cell_type": "code",
      "execution_count": null,
      "metadata": {
        "_cell_guid": "4cc0ccaf-d725-a6ec-1630-090446b2202c"
      },
      "outputs": [],
      "source": [
        "np.sum(np.isnan(dfcomb.logerror))"
      ]
    },
    {
      "cell_type": "markdown",
      "metadata": {
        "_cell_guid": "ff61493a-b537-b9af-140f-ed3a3024b409"
      },
      "source": [
        "Most homes that didn't have a transaction had a NaN as their logerror. For cleaning the data, we can use the whole property data set but for predicting log errors we can only use the homes that had a transaction."
      ]
    },
    {
      "cell_type": "markdown",
      "metadata": {
        "_cell_guid": "ad765086-a1ec-6a82-32f8-9f1b12e2a379"
      },
      "source": [
        "# Data Filtering"
      ]
    },
    {
      "cell_type": "code",
      "execution_count": null,
      "metadata": {
        "_cell_guid": "5cadcba9-6ee7-9207-4834-79bbe0ca5fc2"
      },
      "outputs": [],
      "source": [
        "dfcomb_nar = dfcomb.loc[pd.isnull(dfcomb.logerror) == False,:]"
      ]
    },
    {
      "cell_type": "code",
      "execution_count": null,
      "metadata": {
        "_cell_guid": "23e4cd2d-8a82-4e04-a5e6-aecef76a20dd"
      },
      "outputs": [],
      "source": [
        "dfcomb_nar.shape"
      ]
    },
    {
      "cell_type": "markdown",
      "metadata": {
        "_cell_guid": "d9d2b80a-7405-d6bd-22f3-297524a8a714"
      },
      "source": [
        "Calculate the percentage of missing values for each feature and the number of unique values each feature takes."
      ]
    },
    {
      "cell_type": "code",
      "execution_count": null,
      "metadata": {
        "_cell_guid": "45573ea0-7595-4c59-1e9b-9be84dea7ca7"
      },
      "outputs": [],
      "source": [
        "desc_df = pd.DataFrame(index = ['% nan','num unique vals'],columns = dfcomb_nar.columns)\n",
        "for col in dfcomb_nar.columns:\n",
        "    desc_df.loc['% nan',col] = np.sum(pd.isnull(dfcomb_nar.loc[:,col]))/dfcomb_nar.shape[0]\n",
        "    desc_df.loc['num unique vals',col] = len(dfcomb_nar.loc[:,col].value_counts())\n",
        "    \n",
        "    "
      ]
    },
    {
      "cell_type": "code",
      "execution_count": null,
      "metadata": {
        "_cell_guid": "8c5a53b1-3ea1-7cef-214e-ec4dd389ebde"
      },
      "outputs": [],
      "source": [
        "desc_df.iloc[:,:10]"
      ]
    },
    {
      "cell_type": "code",
      "execution_count": null,
      "metadata": {
        "_cell_guid": "5a7274ad-2ec8-e86d-6fae-51a14078a16f"
      },
      "outputs": [],
      "source": [
        "desc_df.iloc[:,10:20]"
      ]
    },
    {
      "cell_type": "code",
      "execution_count": null,
      "metadata": {
        "_cell_guid": "f8aa4b65-b8ee-a3f6-9f3c-d24857224df9"
      },
      "outputs": [],
      "source": [
        "desc_df.iloc[:,20:30]"
      ]
    },
    {
      "cell_type": "code",
      "execution_count": null,
      "metadata": {
        "_cell_guid": "a43ca38a-91f1-0ecb-55af-0389dc37e59b"
      },
      "outputs": [],
      "source": [
        "desc_df.iloc[:,30:40]"
      ]
    },
    {
      "cell_type": "code",
      "execution_count": null,
      "metadata": {
        "_cell_guid": "5d9a1405-143b-6a57-a8ff-b4cbb28d6d2f"
      },
      "outputs": [],
      "source": [
        "desc_df.iloc[:,40:50]"
      ]
    },
    {
      "cell_type": "code",
      "execution_count": null,
      "metadata": {
        "_cell_guid": "c63f822e-fd0b-7d98-04dc-6b1928b51f15"
      },
      "outputs": [],
      "source": [
        "desc_df.iloc[:,50:60]"
      ]
    },
    {
      "cell_type": "markdown",
      "metadata": {
        "_cell_guid": "2c2ac4b9-b0ad-1f19-ccaa-be5753b016a1"
      },
      "source": [
        "Predictors to use:\n",
        "bathrromcnt\n",
        "bedroomcnt\n",
        "calculatedbathnbr\n",
        "calculatedfinishedsquarefeet\n",
        "fullbathcnt\n",
        "latitude\n",
        "longitude\n",
        "roomcnt\n",
        "yearbuilt\n",
        "structuretaxvaluedollarcnt\n",
        "landtaxvaluedollarcnt\n",
        "\n",
        "\n",
        "Categorical Predictors to use:\n",
        "regionidcounty\n",
        "\n",
        "\n",
        "Categorical Predictors with too many values to be encoded:\n",
        "regionidcity\n",
        "regionidneighborhood\n",
        "regionidzip\n",
        "\n",
        "It would greatly increase the number of parameters that need to be estimated and hence increase the uncertainty of our model."
      ]
    },
    {
      "cell_type": "markdown",
      "metadata": {
        "_cell_guid": "70b162d7-25b9-ded2-be36-5ff354556685"
      },
      "source": [
        "# Misc. Feature Analysis\n",
        "If a feature needed extra analysis for me to decide to include it or not, then I did it below."
      ]
    },
    {
      "cell_type": "code",
      "execution_count": null,
      "metadata": {
        "_cell_guid": "bf313a34-1b33-42ba-7239-0e784c617190"
      },
      "outputs": [],
      "source": [
        "dfprop['parcelid'].head()"
      ]
    },
    {
      "cell_type": "code",
      "execution_count": null,
      "metadata": {
        "_cell_guid": "de65c39f-a1a1-ca34-e71a-d40622004c19"
      },
      "outputs": [],
      "source": [
        "dfprop.propertycountylandusecode.value_counts()"
      ]
    },
    {
      "cell_type": "markdown",
      "metadata": {
        "_cell_guid": "3a4f9ccb-0519-9c1c-3278-e37acdf0684e"
      },
      "source": [
        "The land use code varies for each county. It could be used with regionidcounty."
      ]
    },
    {
      "cell_type": "code",
      "execution_count": null,
      "metadata": {
        "_cell_guid": "f74dd32d-3459-896a-1f7c-03b2a5c3d049"
      },
      "outputs": [],
      "source": [
        "dfprop['airconditioningtypeid'].head()"
      ]
    },
    {
      "cell_type": "code",
      "execution_count": null,
      "metadata": {
        "_cell_guid": "2b6175b4-7600-047d-332b-85e470e9493a"
      },
      "outputs": [],
      "source": [
        "dfprop['airconditioningtypeid'].value_counts()"
      ]
    },
    {
      "cell_type": "markdown",
      "metadata": {
        "_cell_guid": "f9787dae-0b7d-654f-9a8f-a0076f55b71e"
      },
      "source": [
        "Air conditioning type is categorical."
      ]
    },
    {
      "cell_type": "code",
      "execution_count": null,
      "metadata": {
        "_cell_guid": "8395e9aa-c23a-f608-762a-ab92837477ff"
      },
      "outputs": [],
      "source": [
        "dfprop['architecturalstyletypeid'].head()"
      ]
    },
    {
      "cell_type": "code",
      "execution_count": null,
      "metadata": {
        "_cell_guid": "d7b47caf-06b2-1580-8348-b8e9a9ee3740"
      },
      "outputs": [],
      "source": [
        "dfprop['architecturalstyletypeid'].tail()"
      ]
    },
    {
      "cell_type": "code",
      "execution_count": null,
      "metadata": {
        "_cell_guid": "8bc625cc-aa53-7bc6-b0b1-32829e1b66ac"
      },
      "outputs": [],
      "source": [
        "dfprop['architecturalstyletypeid'].value_counts()"
      ]
    },
    {
      "cell_type": "markdown",
      "metadata": {
        "_cell_guid": "d9e61011-6e65-ba73-5569-6c28a1fe39cd"
      },
      "source": [
        "Architectural style type is categorical."
      ]
    },
    {
      "cell_type": "code",
      "execution_count": null,
      "metadata": {
        "_cell_guid": "eacf1941-e4f4-67ae-a1ef-347dcd3409c4"
      },
      "outputs": [],
      "source": [
        "dfprop['basementsqft'].max()"
      ]
    },
    {
      "cell_type": "code",
      "execution_count": null,
      "metadata": {
        "_cell_guid": "1d9f70ab-b1e7-5aa2-661f-37c2020132c5"
      },
      "outputs": [],
      "source": [
        "dfprop['basementsqft'].min()"
      ]
    },
    {
      "cell_type": "code",
      "execution_count": null,
      "metadata": {
        "_cell_guid": "4fa7bafd-cb9d-47c8-0451-76db3163f022"
      },
      "outputs": [],
      "source": [
        "plt.hist(dfprop.basementsqft.dropna())\n",
        "plt.show()"
      ]
    },
    {
      "cell_type": "code",
      "execution_count": null,
      "metadata": {
        "_cell_guid": "3ac83ac9-832d-585b-cc1d-abbb3410f312"
      },
      "outputs": [],
      "source": [
        "dfprop.bathroomcnt.head()"
      ]
    },
    {
      "cell_type": "code",
      "execution_count": null,
      "metadata": {
        "_cell_guid": "b0b571ae-6630-92c0-2e4e-e24372e69a68"
      },
      "outputs": [],
      "source": [
        "np.sum(np.isnan(dfprop.bathroomcnt))"
      ]
    },
    {
      "cell_type": "markdown",
      "metadata": {
        "_cell_guid": "3c91d738-f213-e225-5e01-166df31d1f3f"
      },
      "source": [
        "11,462 places don't have an entry for a bathroom?"
      ]
    },
    {
      "cell_type": "code",
      "execution_count": null,
      "metadata": {
        "_cell_guid": "fa94d468-3320-4552-cff3-f90cec79e4c4"
      },
      "outputs": [],
      "source": [
        "np.sum(dfprop.bathroomcnt == 0)"
      ]
    },
    {
      "cell_type": "markdown",
      "metadata": {
        "_cell_guid": "c7c31314-7c3d-2a28-8df7-9ab164ec3576"
      },
      "source": [
        "116,614 places don't have a bathroom?"
      ]
    },
    {
      "cell_type": "code",
      "execution_count": null,
      "metadata": {
        "_cell_guid": "d1a62541-18f9-5755-5858-2f69c2e42de3"
      },
      "outputs": [],
      "source": [
        "dfprop.bathroomcnt.count()"
      ]
    },
    {
      "cell_type": "code",
      "execution_count": null,
      "metadata": {
        "_cell_guid": "70757e7d-47f3-98e4-bfbb-bf4a27d0bbca"
      },
      "outputs": [],
      "source": [
        "plt.hist(dfprop.bathroomcnt.dropna())\n",
        "plt.show()"
      ]
    },
    {
      "cell_type": "code",
      "execution_count": null,
      "metadata": {
        "_cell_guid": "eb604ab8-654c-5dc8-79d5-ee700b03260c"
      },
      "outputs": [],
      "source": [
        "dfprop.bedroomcnt.head()"
      ]
    },
    {
      "cell_type": "code",
      "execution_count": null,
      "metadata": {
        "_cell_guid": "9cf95c20-d3e1-a199-b3fe-ebdffed49716"
      },
      "outputs": [],
      "source": [
        "dfprop.bedroomcnt.tail()"
      ]
    },
    {
      "cell_type": "code",
      "execution_count": null,
      "metadata": {
        "_cell_guid": "5ce4cc98-666c-5a19-b722-d978373e1eee"
      },
      "outputs": [],
      "source": [
        "dfprop.fips.head()"
      ]
    },
    {
      "cell_type": "code",
      "execution_count": null,
      "metadata": {
        "_cell_guid": "d1efd2e5-365f-bcea-19b2-d5c75d1e1d53"
      },
      "outputs": [],
      "source": [
        "dfprop.fips.tail()"
      ]
    },
    {
      "cell_type": "code",
      "execution_count": null,
      "metadata": {
        "_cell_guid": "8b3e548f-fd03-0a51-6afe-b831cde1b4b8"
      },
      "outputs": [],
      "source": [
        "dfprop.fips.value_counts()"
      ]
    },
    {
      "cell_type": "code",
      "execution_count": null,
      "metadata": {
        "_cell_guid": "9251dcf0-1afe-efc5-0d26-ec280bb58bc7"
      },
      "outputs": [],
      "source": [
        "dfprop.fullbathcnt.value_counts()"
      ]
    },
    {
      "cell_type": "code",
      "execution_count": null,
      "metadata": {
        "_cell_guid": "419aa1cd-f4cd-07b5-0a7d-d5e924a44df2"
      },
      "outputs": [],
      "source": [
        "dfprop.propertylandusetypeid.value_counts()"
      ]
    },
    {
      "cell_type": "code",
      "execution_count": null,
      "metadata": {
        "_cell_guid": "40c08236-a077-936a-9a70-6cc2c08c503b"
      },
      "outputs": [],
      "source": [
        "dfprop.assessmentyear.value_counts()"
      ]
    },
    {
      "cell_type": "code",
      "execution_count": null,
      "metadata": {
        "_cell_guid": "92ba78d1-5757-4313-7b04-ff92bcfca2e8"
      },
      "outputs": [],
      "source": [
        "dfprop.landtaxvaluedollarcnt.head()"
      ]
    },
    {
      "cell_type": "code",
      "execution_count": null,
      "metadata": {
        "_cell_guid": "8afe4046-985e-589a-7182-a67e9d143356"
      },
      "outputs": [],
      "source": [
        "dfprop.landtaxvaluedollarcnt.tail()"
      ]
    },
    {
      "cell_type": "code",
      "execution_count": null,
      "metadata": {
        "_cell_guid": "2eb8e184-679e-e944-0d69-a57a86150e95"
      },
      "outputs": [],
      "source": [
        "dfprop.landtaxvaluedollarcnt.describe()"
      ]
    },
    {
      "cell_type": "code",
      "execution_count": null,
      "metadata": {
        "_cell_guid": "13af36c3-2a72-4542-b977-ffd944ee7f01"
      },
      "outputs": [],
      "source": [
        "tax_mask = pd.isnull(dfprop.structuretaxvaluedollarcnt) == False\n",
        "dfprop.taxvaluedollarcnt[tax_mask] - \\\n",
        "dfprop.landtaxvaluedollarcnt[tax_mask] - \\\n",
        "dfprop.structuretaxvaluedollarcnt[tax_mask]"
      ]
    },
    {
      "cell_type": "markdown",
      "metadata": {
        "_cell_guid": "8a4f2584-0fca-4561-781b-b50e6dda1693"
      },
      "source": [
        "taxvaluedollarcnt = landtaxvaluedollarcnt + structuretaxvaluedollarcnt"
      ]
    },
    {
      "cell_type": "code",
      "execution_count": null,
      "metadata": {
        "_cell_guid": "9eba140a-debf-74c2-2005-f0d68046103b"
      },
      "outputs": [],
      "source": [
        "dfprop.taxvaluedollarcnt - dfprop.taxamount"
      ]
    },
    {
      "cell_type": "code",
      "execution_count": null,
      "metadata": {
        "_cell_guid": "5c51dc0f-1fde-9a4d-2f5f-559b14eb03ff"
      },
      "outputs": [],
      "source": [
        "dfprop.taxamount.describe()"
      ]
    },
    {
      "cell_type": "code",
      "execution_count": null,
      "metadata": {
        "_cell_guid": "520e06e7-fd69-ce37-a100-cf80296ac985",
        "collapsed": true
      },
      "outputs": [],
      "source": [
        "tvdc_mask = pd.isnull(dfprop.taxvaluedollarcnt) == False\n",
        "ta_mask = pd.isnull(dfprop.taxamount) == False\n",
        "\n",
        "ta_tvdc_mask = ta_mask & tvdc_mask"
      ]
    },
    {
      "cell_type": "code",
      "execution_count": null,
      "metadata": {
        "_cell_guid": "e3fa8959-6c42-dec4-c7fc-2e215928aa64"
      },
      "outputs": [],
      "source": [
        "plt.scatter(dfprop.taxamount[ta_tvdc_mask],dfprop.taxvaluedollarcnt[ta_tvdc_mask])\n",
        "plt.show()"
      ]
    },
    {
      "cell_type": "markdown",
      "metadata": {
        "_cell_guid": "e3f3f51d-3388-e899-c855-61083b1ebe91"
      },
      "source": [
        "There is a clear relationship here. To begin, I will just include the underlying values for taxvaluedollarcnt and ignore taxamount."
      ]
    },
    {
      "cell_type": "markdown",
      "metadata": {
        "_cell_guid": "dd201700-2908-6a39-618d-1ca750668879"
      },
      "source": [
        "# Saving the data"
      ]
    },
    {
      "cell_type": "code",
      "execution_count": null,
      "metadata": {
        "_cell_guid": "3e59bb93-541e-33d8-789e-0d0f0a2afb43",
        "collapsed": true
      },
      "outputs": [],
      "source": [
        "predictors = ['bathroomcnt',\\\n",
        "              'bedroomcnt',\\\n",
        "              'calculatedbathnbr',\\\n",
        "              'calculatedfinishedsquarefeet',\\\n",
        "              'fullbathcnt',\\\n",
        "              'latitude',\\\n",
        "              'longitude',\\\n",
        "              'roomcnt',\\\n",
        "              'yearbuilt',\\\n",
        "              'structuretaxvaluedollarcnt',\\\n",
        "              'landtaxvaluedollarcnt',\\\n",
        "              'regionidcounty']\n",
        "response = ['logerror']\n",
        "\n",
        "              "
      ]
    },
    {
      "cell_type": "code",
      "execution_count": null,
      "metadata": {
        "_cell_guid": "8f7b18c1-b897-aaf0-1469-5dce99790e82"
      },
      "outputs": [],
      "source": [
        "cols = predictors + response\n",
        "cols"
      ]
    },
    {
      "cell_type": "code",
      "execution_count": null,
      "metadata": {
        "_cell_guid": "e72a01bf-d431-f54c-3f94-f4554b1a4b18"
      },
      "outputs": [],
      "source": [
        "df_clean = dfcomb_nar.loc[:,cols].dropna()"
      ]
    },
    {
      "cell_type": "code",
      "execution_count": null,
      "metadata": {
        "_cell_guid": "2905a1b6-41f0-bd5a-4105-57a5bb3d9e51"
      },
      "outputs": [],
      "source": [
        "df_clean.shape"
      ]
    },
    {
      "cell_type": "code",
      "execution_count": null,
      "metadata": {
        "_cell_guid": "984f747e-abb1-b641-af97-95e570fed7b1"
      },
      "outputs": [],
      "source": [
        "df_clean.to_csv('version_1.csv')"
      ]
    }
  ],
  "metadata": {
    "_change_revision": 0,
    "_is_fork": false,
    "kernelspec": {
      "display_name": "Python 3",
      "language": "python",
      "name": "python3"
    },
    "language_info": {
      "codemirror_mode": {
        "name": "ipython",
        "version": 3
      },
      "file_extension": ".py",
      "mimetype": "text/x-python",
      "name": "python",
      "nbconvert_exporter": "python",
      "pygments_lexer": "ipython3",
      "version": "3.6.0"
    }
  },
  "nbformat": 4,
  "nbformat_minor": 0
}