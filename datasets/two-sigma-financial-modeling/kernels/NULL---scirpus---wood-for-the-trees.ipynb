{
  "cells": [
    {
      "cell_type": "markdown",
      "metadata": {
        "_cell_guid": "54105d74-c63f-a3b6-1984-9815dd9bee21"
      },
      "source": [
        "Sometimes with problems like this it is difficult to see the wood for the trees So let us concentrate on the data for id = 2047"
      ]
    },
    {
      "cell_type": "code",
      "execution_count": null,
      "metadata": {
        "_cell_guid": "eb19f684-3b8d-cacb-a065-828ba1258111"
      },
      "outputs": [],
      "source": [
        "import numpy as np\n",
        "import pandas as pd\n",
        "import matplotlib.pyplot as plt\n",
        "from sklearn.metrics import r2_score\n",
        "%matplotlib inline"
      ]
    },
    {
      "cell_type": "markdown",
      "metadata": {
        "_cell_guid": "17d73764-9b86-dc31-bf0b-8f65053d21fb"
      },
      "source": [
        "Lets us load the data specific to id = 2047"
      ]
    },
    {
      "cell_type": "code",
      "execution_count": null,
      "metadata": {
        "_cell_guid": "2932a82e-da9b-7fe6-fdb1-bfecc6f6cfe3"
      },
      "outputs": [],
      "source": [
        "low_y_cut = -0.086093\n",
        "high_y_cut = 0.093497"
      ]
    },
    {
      "cell_type": "code",
      "execution_count": null,
      "metadata": {
        "_cell_guid": "259ec596-5ee2-0ce4-65df-30111609d3a8"
      },
      "outputs": [],
      "source": [
        "directory = '../input/'\n",
        "with pd.HDFStore(directory+'train.h5') as train:\n",
        "    fullset = train.get('train')\n",
        "fullset = fullset[['id', 'technical_20', 'technical_30', 'y']]\n",
        "print(fullset.shape)\n",
        "fullset.fillna(fullset.median(), inplace=True)\n",
        "fullset = fullset[fullset['id'] == 2047]\n",
        "fullset = fullset[fullset.y < high_y_cut]\n",
        "fullset = fullset[fullset.y > low_y_cut]\n",
        "print(fullset.shape)"
      ]
    },
    {
      "cell_type": "markdown",
      "metadata": {
        "_cell_guid": "a9ee1228-4eba-a18e-03d5-db172d01f2e8"
      },
      "source": [
        "As you can see let us concentrate on data for 1790 rows just using technical_20 and technical_30"
      ]
    },
    {
      "cell_type": "markdown",
      "metadata": {
        "_cell_guid": "29db4fe4-b471-ec12-5edd-97363bc1aadd"
      },
      "source": [
        "I looked at the data and found it fitted poorly with my genetic program using just one point.  However when using a window of three points I got much better accuracy. So let us window the data."
      ]
    },
    {
      "cell_type": "code",
      "execution_count": null,
      "metadata": {
        "_cell_guid": "2af6c214-c4db-9162-22fb-683c3525dd84"
      },
      "outputs": [],
      "source": [
        "y = fullset.iloc[1:-1]['y'].values\n",
        "fullset.drop('y', inplace=True, axis=1)\n",
        "wdw = pd.DataFrame()\n",
        "for i in range(3):\n",
        "    if(i == 0):\n",
        "        wdw['technical_20_Row_Offset_0'] = \\\n",
        "            fullset['technical_20'].iloc[0:-2].values\n",
        "        wdw['technical_30_Row_Offset_0'] = \\\n",
        "            fullset['technical_30'].iloc[0:-2].values\n",
        "    elif(i == 1):\n",
        "        wdw['technical_20_Row_Offset_1'] = \\\n",
        "            fullset['technical_20'].iloc[1:-1].values\n",
        "        wdw['technical_30_Row_Offset_1'] = \\\n",
        "            fullset['technical_30'].iloc[1:-1].values\n",
        "    else:\n",
        "        wdw['technical_20_Row_Offset_2'] = \\\n",
        "            fullset['technical_20'].iloc[2:].values\n",
        "        wdw['technical_30_Row_Offset_2'] = \\\n",
        "            fullset['technical_30'].iloc[2:].values\n",
        "wdw['y'] = y"
      ]
    },
    {
      "cell_type": "code",
      "execution_count": null,
      "metadata": {
        "_cell_guid": "4e0f756e-6272-82ca-f33b-882af89f1bed"
      },
      "outputs": [],
      "source": [
        "print(fullset.head())"
      ]
    },
    {
      "cell_type": "code",
      "execution_count": null,
      "metadata": {
        "_cell_guid": "4696e486-96b0-a807-cfcf-23fba94b5168"
      },
      "outputs": [],
      "source": [
        "print(wdw.head())"
      ]
    },
    {
      "cell_type": "markdown",
      "metadata": {
        "_cell_guid": "1b3e6072-8c33-28c3-b1e2-2a363ef31e93"
      },
      "source": [
        "All I have done is added the data from the previous row and the next row"
      ]
    },
    {
      "cell_type": "code",
      "execution_count": null,
      "metadata": {
        "_cell_guid": "1f484637-ce7f-db78-b8ce-2a1cd637fdb6"
      },
      "outputs": [],
      "source": [
        "def r_score(y_true, y_pred):\n",
        "    r2 = r2_score(y_true, y_pred)\n",
        "    r = np.sign(r2) * np.sqrt(np.abs(r2))\n",
        "    return max(-1, r)"
      ]
    },
    {
      "cell_type": "markdown",
      "metadata": {
        "_cell_guid": "90cda402-7329-d2d8-98a3-eae02cd13cfe"
      },
      "source": [
        "Now define a simple model (I did this using GP but you can use whatever you wish!)"
      ]
    },
    {
      "cell_type": "code",
      "execution_count": null,
      "metadata": {
        "_cell_guid": "d78f7675-6d52-a554-eafa-682a3940a101"
      },
      "outputs": [],
      "source": [
        "def GPTechnicalPrediction(data):\n",
        "    p = (((((8.0) * (data[\"technical_20_Row_Offset_2\"] + (data[\"technical_30_Row_Offset_1\"] - (data[\"technical_20_Row_Offset_1\"] + data[\"technical_30_Row_Offset_2\"])))) - (data[\"technical_30_Row_Offset_1\"] - ((((data[\"technical_30_Row_Offset_1\"] + ((((data[\"technical_30_Row_Offset_1\"] + data[\"technical_20_Row_Offset_1\"]) * data[\"technical_30_Row_Offset_1\"]) + data[\"technical_20_Row_Offset_1\"])/2.0))/2.0) + data[\"technical_20_Row_Offset_2\"])/2.0)))) )\n",
        "    return p.values.clip(low_y_cut,high_y_cut)"
      ]
    },
    {
      "cell_type": "markdown",
      "metadata": {
        "_cell_guid": "3163e19e-f470-3c11-6069-18ad82a96cf5"
      },
      "source": [
        "Now let us get the predictions"
      ]
    },
    {
      "cell_type": "code",
      "execution_count": null,
      "metadata": {
        "_cell_guid": "dc555f6d-8ba3-48b6-c138-dacba4e1fac4"
      },
      "outputs": [],
      "source": [
        "yhat = GPTechnicalPrediction(wdw)"
      ]
    },
    {
      "cell_type": "markdown",
      "metadata": {
        "_cell_guid": "75235c63-3f85-905f-8323-538fdabb8c94"
      },
      "source": [
        "What is the score?"
      ]
    },
    {
      "cell_type": "code",
      "execution_count": null,
      "metadata": {
        "_cell_guid": "1770b12d-20bf-4b8a-c6b9-4ea7230bdeb5"
      },
      "outputs": [],
      "source": [
        "print('R Score: ',r_score(wdw.y.values, yhat))"
      ]
    },
    {
      "cell_type": "markdown",
      "metadata": {
        "_cell_guid": "d9b4deea-bfbd-cf8b-3fbd-17f6dbd366ed"
      },
      "source": [
        "The score isn't bad but obviously we are only using one id and we know the next values for technical_20 and technical_30 which we don't know for the test set.  However you may want to investigate either a couple of models to predict the values for the next technical_20;technical_30 tuple or use a simple look up table based on id and timestamp.  From some initial investigation is does seem to me that is easier to predict future technical_20 and technical_30 values rather than just a straight prediction on y."
      ]
    },
    {
      "cell_type": "code",
      "execution_count": null,
      "metadata": {
        "_cell_guid": "8dcc2f9c-4cb1-bd56-be66-a9385aa98a67"
      },
      "outputs": [],
      "source": [
        "plt.figure(figsize=(8,8))\n",
        "plt.plot(wdw.y.values)\n",
        "plt.plot(yhat)"
      ]
    }
  ],
  "metadata": {
    "_change_revision": 0,
    "_is_fork": false,
    "kernelspec": {
      "display_name": "Python 3",
      "language": "python",
      "name": "python3"
    },
    "language_info": {
      "codemirror_mode": {
        "name": "ipython",
        "version": 3
      },
      "file_extension": ".py",
      "mimetype": "text/x-python",
      "name": "python",
      "nbconvert_exporter": "python",
      "pygments_lexer": "ipython3",
      "version": "3.5.2"
    }
  },
  "nbformat": 4,
  "nbformat_minor": 0
}