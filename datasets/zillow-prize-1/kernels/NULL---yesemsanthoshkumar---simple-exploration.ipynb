{
  "cells": [
    {
      "cell_type": "code",
      "execution_count": null,
      "metadata": {
        "_cell_guid": "d695ed95-afed-2399-9786-1b5327564910"
      },
      "outputs": [],
      "source": [
        "# This Python 3 environment comes with many helpful analytics libraries installed\n",
        "# It is defined by the kaggle/python docker image: https://github.com/kaggle/docker-python\n",
        "# For example, here's several helpful packages to load in \n",
        "\n",
        "import numpy as np # linear algebra\n",
        "import pandas as pd # data processing, CSV file I/O (e.g. pd.read_csv)\n",
        "import matplotlib.pyplot as mplt\n",
        "import seaborn as sn\n",
        "\n",
        "# Input data files are available in the \"../input/\" directory.\n",
        "# For example, running this (by clicking run or pressing Shift+Enter) will list the files in the input directory\n",
        "\n",
        "train = pd.read_csv(\"../input/train_2016.csv\",\n",
        "                    parse_dates=[\"transactiondate\"],\n",
        "                   date_parser=lambda x: pd.datetime.strptime(x, \"%Y-%m-%d\"))\n",
        "\n",
        "# Any results you write to the current directory are saved as output."
      ]
    },
    {
      "cell_type": "code",
      "execution_count": null,
      "metadata": {
        "_cell_guid": "2ee32d0c-d54a-daa2-e21b-c8b76ce8531f"
      },
      "outputs": [],
      "source": [
        "train.head()"
      ]
    },
    {
      "cell_type": "code",
      "execution_count": null,
      "metadata": {
        "_cell_guid": "1c3d0fdf-fc8e-65e5-0688-987d42a1e79e"
      },
      "outputs": [],
      "source": [
        "train.info()"
      ]
    },
    {
      "cell_type": "code",
      "execution_count": null,
      "metadata": {
        "_cell_guid": "48972901-72b5-3439-b7d5-384cc6fa5522"
      },
      "outputs": [],
      "source": [
        "props = pd.read_csv(\"../input/properties_2016.csv\")"
      ]
    },
    {
      "cell_type": "code",
      "execution_count": null,
      "metadata": {
        "_cell_guid": "63369375-3060-7f95-dfc4-17e3920cdfd9"
      },
      "outputs": [],
      "source": [
        "props.columns"
      ]
    },
    {
      "cell_type": "code",
      "execution_count": null,
      "metadata": {
        "_cell_guid": "8a20393d-1f55-b904-9d51-b62b90f51865"
      },
      "outputs": [],
      "source": [
        "df = pd.merge(train, props, how=\"left\", on=\"parcelid\")"
      ]
    },
    {
      "cell_type": "code",
      "execution_count": null,
      "metadata": {
        "_cell_guid": "469c61ff-c67b-a2cd-e408-db334fef24fc"
      },
      "outputs": [],
      "source": [
        "df.shape"
      ]
    },
    {
      "cell_type": "code",
      "execution_count": null,
      "metadata": {
        "_cell_guid": "f80322c9-2be3-3f53-9b93-330d5982e448"
      },
      "outputs": [],
      "source": [
        "df = df.sort_values(by=\"parcelid\")"
      ]
    },
    {
      "cell_type": "code",
      "execution_count": null,
      "metadata": {
        "_cell_guid": "c272e7e7-3c1d-b71e-3186-02ee7984f7a3"
      },
      "outputs": [],
      "source": [
        "df[\"year\"] = df.transactiondate.map(lambda x: x.year)\n",
        "df[\"year_month\"] = df.transactiondate.map(lambda x: x.year * 100 + x.month)"
      ]
    },
    {
      "cell_type": "code",
      "execution_count": null,
      "metadata": {
        "_cell_guid": "3eb2730d-3483-7021-7134-4b1b224e40be"
      },
      "outputs": [],
      "source": [
        "df.parcelid.value_counts().sort_values(ascending=False).shape"
      ]
    },
    {
      "cell_type": "code",
      "execution_count": null,
      "metadata": {
        "_cell_guid": "71dd49a8-1c02-eab2-8d12-faf12629c375"
      },
      "outputs": [],
      "source": [
        "split_date = pd.to_datetime('20161015', format=\"%Y%m%d\")\n",
        "df.transactiondate.min(), df.transactiondate.max()"
      ]
    },
    {
      "cell_type": "code",
      "execution_count": null,
      "metadata": {
        "_cell_guid": "27575c42-9971-9a05-7c2a-49a711720873"
      },
      "outputs": [],
      "source": [
        "ulim = np.percentile(df.logerror, 99)\n",
        "llim = np.percentile(df.logerror, 1)\n",
        "df[\"logerror\"].ix[df.logerror > ulim] = ulim\n",
        "df[\"logerror\"].ix[df.logerror < llim] = llim\n",
        "sn.boxplot(df.logerror)"
      ]
    },
    {
      "cell_type": "code",
      "execution_count": null,
      "metadata": {
        "_cell_guid": "50c8aa2d-da4a-d287-bdf7-655b10e218e1"
      },
      "outputs": [],
      "source": [
        "cnt = df.year_month.value_counts()\n",
        "sn.barplot(cnt.index, cnt.values, color=\"g\")"
      ]
    },
    {
      "cell_type": "code",
      "execution_count": null,
      "metadata": {
        "_cell_guid": "61e361b2-2219-1e5f-fbc9-e39828ec26cd"
      },
      "outputs": [],
      "source": [
        "df.parcelid.value_counts().reset_index()[\"parcelid\"].value_counts()"
      ]
    },
    {
      "cell_type": "code",
      "execution_count": null,
      "metadata": {
        "_cell_guid": "da0eed99-8096-b069-7572-20714942eda2"
      },
      "outputs": [],
      "source": [
        "mn = df.groupby(\"year_month\")[\"logerror\"].mean()\n",
        "sn.pointplot(mn.index, mn.values)"
      ]
    },
    {
      "cell_type": "code",
      "execution_count": null,
      "metadata": {
        "_cell_guid": "77cca78c-4d24-e72f-b331-11673ba9f60d"
      },
      "outputs": [],
      "source": [
        "sn.pointplot()"
      ]
    }
  ],
  "metadata": {
    "_change_revision": 0,
    "_is_fork": false,
    "kernelspec": {
      "display_name": "Python 3",
      "language": "python",
      "name": "python3"
    },
    "language_info": {
      "codemirror_mode": {
        "name": "ipython",
        "version": 3
      },
      "file_extension": ".py",
      "mimetype": "text/x-python",
      "name": "python",
      "nbconvert_exporter": "python",
      "pygments_lexer": "ipython3",
      "version": "3.6.0"
    }
  },
  "nbformat": 4,
  "nbformat_minor": 0
}