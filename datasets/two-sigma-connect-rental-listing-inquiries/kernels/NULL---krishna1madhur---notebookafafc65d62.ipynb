{
  "cells": [
    {
      "cell_type": "markdown",
      "metadata": {
        "_cell_guid": "98b1f14b-b50b-13f8-6e90-df177f3a57e5"
      },
      "source": ""
    },
    {
      "cell_type": "code",
      "execution_count": null,
      "metadata": {
        "_cell_guid": "4a39e9d5-9982-1dd1-5dd2-134f2f3d7e3a"
      },
      "outputs": [],
      "source": [
        "import pandas as pd\n",
        "import numpy as np\n",
        "import matplotlib.pyplot as plt\n",
        "import seaborn as sns\n",
        "\n",
        "%matplotlib inline\n",
        "sns.set_style(\"whitegrid\")"
      ]
    },
    {
      "cell_type": "code",
      "execution_count": null,
      "metadata": {
        "_cell_guid": "488178cb-4435-bf4a-964a-7af75da941bc"
      },
      "outputs": [],
      "source": [
        "#Import the data\n",
        "train_data = pd.read_json('../input/train.json')\n",
        "test_data = pd.read_json('../input/test.json')\n",
        "train_data.head(1)"
      ]
    },
    {
      "cell_type": "code",
      "execution_count": null,
      "metadata": {
        "_cell_guid": "5d96a4c1-7279-87fd-e4de-3ba141df5915"
      },
      "outputs": [],
      "source": [
        "#Check for missing values\n",
        "train_data.isnull().sum()"
      ]
    },
    {
      "cell_type": "code",
      "execution_count": null,
      "metadata": {
        "_cell_guid": "1726ca5c-3133-c480-dad4-931f968f9c16"
      },
      "outputs": [],
      "source": [
        "#Explore the training data - interest_level \n",
        "sns.countplot(train_data.interest_level, order=['low', 'medium', 'high']);\n",
        "plt.xlabel('Interest Level');\n",
        "plt.ylabel('Number of occurrences');"
      ]
    },
    {
      "cell_type": "code",
      "execution_count": null,
      "metadata": {
        "_cell_guid": "d90ae8e4-49d8-263b-ccee-d9e018812eda"
      },
      "outputs": [],
      "source": [
        "sns.countplot(train_data.bathrooms);\n",
        "plt.xlabel('Bathrooms');\n",
        "plt.ylabel('Number of occurrences');"
      ]
    },
    {
      "cell_type": "code",
      "execution_count": null,
      "metadata": {
        "_cell_guid": "4e418050-c68c-2e71-923b-f717a6145e70"
      },
      "outputs": [],
      "source": [
        "sns.countplot(train_data.bedrooms);\n",
        "plt.xlabel('Bedrooms');\n",
        "plt.ylabel('Number of occurrences');"
      ]
    },
    {
      "cell_type": "code",
      "execution_count": null,
      "metadata": {
        "_cell_guid": "0912458d-6294-3d20-9cbc-4b62eff0c13d"
      },
      "outputs": [],
      "source": [
        "sns.stripplot(x=\"bedrooms\", y=\"price\", data=train_data, jitter=True);"
      ]
    },
    {
      "cell_type": "code",
      "execution_count": null,
      "metadata": {
        "_cell_guid": "701d202e-a20c-62d7-0203-ca400b61b732"
      },
      "outputs": [],
      "source": [
        "sns.lmplot(x=\"longitude\", y=\"latitude\", fit_reg=False, hue='interest_level',\n",
        "           hue_order=['low', 'medium', 'high'], size=9, scatter_kws={'alpha':0.4,'s':30},\n",
        "           data=train_data[(train_data.longitude>train_data.longitude.quantile(0.005))\n",
        "                           &(train_data.longitude<train_data.longitude.quantile(0.995))\n",
        "                           &(train_data.latitude>train_data.latitude.quantile(0.005))                           \n",
        "                           &(train_data.latitude<train_data.latitude.quantile(0.995))]);\n",
        "plt.xlabel('Longitude');\n",
        "plt.ylabel('Latitude');"
      ]
    },
    {
      "cell_type": "code",
      "execution_count": null,
      "metadata": {
        "_cell_guid": "e435ea44-247a-ad5a-e7b5-d70be6ed5492"
      },
      "outputs": [],
      "source": [
        "train_data[\"Source\"]='train'\n",
        "test_data[\"Source\"]='test'\n",
        "data=pd.concat([train_data, test_data]) "
      ]
    },
    {
      "cell_type": "code",
      "execution_count": null,
      "metadata": {
        "_cell_guid": "f7709823-d613-f49a-1d24-e095c96e5c7d"
      },
      "outputs": [],
      "source": [
        "data[\"num_photos\"]=data[\"photos\"].apply(len)\n",
        "data[\"num_features\"]=data[\"features\"].apply(len)\n",
        "data[\"num_description_words\"] = data[\"description\"].apply(lambda x: len(x.split(\" \")))"
      ]
    },
    {
      "cell_type": "code",
      "execution_count": null,
      "metadata": {
        "_cell_guid": "32b13e12-0fad-cbcc-7354-69a30edd46db"
      },
      "outputs": [],
      "source": [
        "data[\"created\"]=pd.to_datetime(data[\"created\"])\n",
        "data[\"created_month\"]=data[\"created\"].dt.month\n",
        "data[\"created_day\"]=data[\"created\"].dt.day\n",
        "data[\"created_hour\"]=data[\"created\"].dt.hour"
      ]
    },
    {
      "cell_type": "code",
      "execution_count": null,
      "metadata": {
        "_cell_guid": "e5e857bf-e0fe-f9eb-f4d0-388b69243bb3"
      },
      "outputs": [],
      "source": [
        "features_to_use  = [\"bathrooms\", \"bedrooms\", \"price\",                             \n",
        "                    \"num_photos\", \"num_features\", \"num_description_words\",                    \n",
        "                    \"created_month\", \"created_day\", \"created_hour\"\n",
        "                   ]"
      ]
    },
    {
      "cell_type": "code",
      "execution_count": null,
      "metadata": {
        "_cell_guid": "4dded98f-05dd-e4af-d139-27a57a54a75b"
      },
      "outputs": [],
      "source": [
        "train=data[data[\"Source\"]==\"train\"]\n",
        "test=data[data[\"Source\"]==\"test\"]\n",
        "target_num_map={\"high\":0, \"medium\":1, \"low\":2}\n",
        "y=np.array(train[\"interest_level\"].apply(lambda x: target_num_map[x]))"
      ]
    },
    {
      "cell_type": "code",
      "execution_count": null,
      "metadata": {
        "_cell_guid": "83070784-5f5c-789b-4eb8-1f1921261f9f"
      },
      "outputs": [],
      "source": [
        "from sklearn.model_selection import train_test_split\n",
        "X_train, X_val,y_train, y_val =train_test_split( train[features_to_use], y, test_size=0.33, random_state=42)"
      ]
    },
    {
      "cell_type": "code",
      "execution_count": null,
      "metadata": {
        "_cell_guid": "82d03b3a-5874-d685-975f-6c820cd14e61"
      },
      "outputs": [],
      "source": [
        "from sklearn.ensemble import GradientBoostingClassifier\n",
        "from sklearn.ensemble import RandomForestClassifier as RFC, VotingClassifier\n",
        "\n",
        "clf1 = RFC(n_estimators=1000, random_state=42)\n",
        "clf2 = GradientBoostingClassifier()\n",
        "classifier = VotingClassifier(estimators=[('rfc', clf1), ('gbc', clf2)], voting='soft', weights = [8,4])\n",
        "classifier.fit(X_train, y_train)"
      ]
    },
    {
      "cell_type": "code",
      "execution_count": null,
      "metadata": {
        "_cell_guid": "853d5b98-cf98-e356-41ab-67946595d462"
      },
      "outputs": [],
      "source": [
        "from sklearn.metrics import log_loss\n",
        "y_val_pred = classifier.predict_proba(X_val)\n",
        "log_loss(y_val, y_val_pred)"
      ]
    },
    {
      "cell_type": "code",
      "execution_count": null,
      "metadata": {
        "_cell_guid": "1c5d157e-e522-9e7d-99bd-d3893e60c8a3"
      },
      "outputs": [],
      "source": [
        "from sklearn.cluster import Birch\n",
        "def cluster_latlon(n_clusters, data ):  \n",
        "    #split the data between \"around NYC\" and \"other locations\" basically our first two clusters \n",
        "    data_c=data[(data.longitude>-74.05)&(data.longitude<-73.75)&(data.latitude>40.4)&(data.latitude<40.9)]\n",
        "    data_e=data[~(data.longitude>-74.05)&(data.longitude<-73.75)&(data.latitude>40.4)&(data.latitude<40.9)]\n",
        "    #put it in matrix form\n",
        "    coords=data_c.as_matrix(columns=['latitude', \"longitude\"])\n",
        "    \n",
        "    brc = Birch(branching_factor=100, n_clusters=n_clusters, threshold=0.01,compute_labels=True, copy =True)\n",
        "\n",
        "    brc.fit(coords)\n",
        "    clusters=brc.predict(coords)\n",
        "    data_c[\"cluster_\"+str(n_clusters)]=clusters\n",
        "    data_e[\"cluster_\"+str(n_clusters)]=-1 #assign cluster label -1 for the non NYC listings \n",
        "    data=pd.concat([data_c,data_e])\n",
        "    plt.scatter(data_c[\"longitude\"], data_c[\"latitude\"], c=data_c[\"cluster_\"+str(n_clusters)], s=10, linewidth=0.1)\n",
        "    plt.title(str(n_clusters)+\" Neighbourhoods from clustering\")\n",
        "    plt.show()\n",
        "    return data "
      ]
    },
    {
      "cell_type": "code",
      "execution_count": null,
      "metadata": {
        "_cell_guid": "f4014670-2f73-8753-6f3e-29261823a6b4"
      },
      "outputs": [],
      "source": [
        "cluster_latlon(12, data)\n"
      ]
    },
    {
      "cell_type": "code",
      "execution_count": null,
      "metadata": {
        "_cell_guid": "80129b7a-3a85-6528-ad80-f27e621b3ab1"
      },
      "outputs": [],
      "source": [
        "from sklearn.metrics import log_loss\n",
        "\n",
        "\n",
        "def compute_logloss(n_cluster,data):\n",
        "    data_cluster=cluster_latlon(n_cluster,data)\n",
        "    train=data_cluster[data_cluster[\"Source\"]==\"train\"]\n",
        "\n",
        "    target_num_map={\"high\":0, \"medium\":1, \"low\":2}\n",
        "    y=np.array(train[\"interest_level\"].apply(lambda x: target_num_map[x]))\n",
        "    \n",
        "    features = [\"bathrooms\", \"bedrooms\", \"price\", \n",
        "                                                        \n",
        "                    \"num_photos\", \"num_features\", \"num_description_words\",                    \n",
        "                    \"created_month\", \"created_day\", \"created_hour\", \"cluster_\"+str(n_cluster)\n",
        "                   ]\n",
        "    \n",
        "    X_train, X_val,y_train, y_val =train_test_split( train[features], y, test_size=0.33, random_state=42)\n",
        "    clf.fit(X_train, y_train)\n",
        "\n",
        "    y_val_pred = clf.predict_proba(X_val)\n",
        "    return log_loss(y_val, y_val_pred)"
      ]
    },
    {
      "cell_type": "code",
      "execution_count": null,
      "metadata": {
        "_cell_guid": "be840774-b3c8-842a-9d74-0c32e3625280"
      },
      "outputs": [],
      "source": [
        "compute_logloss(3, data)"
      ]
    },
    {
      "cell_type": "code",
      "execution_count": null,
      "metadata": {
        "_cell_guid": "317e20dd-aa87-41db-2352-d26b8e36571b"
      },
      "outputs": [],
      "source": [
        "log_loss_cls={}\n",
        "for n in range(4,15):\n",
        "    log_loss_cls[n]=compute_logloss(n, data)\n",
        "    \n",
        "n_c = sorted(log_loss_cls.items()) \n",
        "x, y = zip(*n_c) \n",
        "plt.plot(x, y)\n",
        "plt.title(\"log_loss for different numbers of clusters\")\n",
        "plt.show()"
      ]
    },
    {
      "cell_type": "code",
      "execution_count": null,
      "metadata": {
        "_cell_guid": "5b5f1933-d331-80ce-02ad-15660e5df3d2"
      },
      "outputs": [],
      "source": [
        "log_loss_cls"
      ]
    }
  ],
  "metadata": {
    "_change_revision": 0,
    "_is_fork": false,
    "kernelspec": {
      "display_name": "Python 3",
      "language": "python",
      "name": "python3"
    },
    "language_info": {
      "codemirror_mode": {
        "name": "ipython",
        "version": 3
      },
      "file_extension": ".py",
      "mimetype": "text/x-python",
      "name": "python",
      "nbconvert_exporter": "python",
      "pygments_lexer": "ipython3",
      "version": "3.6.0"
    }
  },
  "nbformat": 4,
  "nbformat_minor": 0
}