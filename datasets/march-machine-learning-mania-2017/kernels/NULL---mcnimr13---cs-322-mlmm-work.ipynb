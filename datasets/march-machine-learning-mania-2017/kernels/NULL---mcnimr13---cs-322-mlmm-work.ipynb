{
  "cells": [
    {
      "cell_type": "code",
      "execution_count": null,
      "metadata": {
        "_cell_guid": "810de243-a186-c6f7-c9c4-5060a85a9d51"
      },
      "outputs": [],
      "source": [
        "## Loading in dataframes\n",
        "reg_season_compact_pd = pd.read_csv('../input/RegularSeasonCompactResults.csv')\n",
        "reg_season_detailed_pd = pd.read_csv('../input/RegularSeasonDetailedResults.csv')\n",
        "seasons_pd = pd.read_csv('../input/Seasons.csv')\n",
        "teams_pd = pd.read_csv('../input/Teams.csv')\n",
        "teamList = teams_pd['Team_Name'].tolist()\n",
        "tourney_compact_pd = pd.read_csv('../input/TourneyCompactResults.csv')\n",
        "tourney_detailed_pd = pd.read_csv('../input/TourneyDetailedResults.csv')\n",
        "tourney_seeds_pd = pd.read_csv('../input/TourneySeeds.csv')\n",
        "tourney_slots_pd = pd.read_csv('../input/TourneySlots.csv')\n",
        "conference_pd = pd.read_csv('../input/Conference.csv')\n",
        "tourney_results_pd = pd.read_csv('TourneyResults.csv')\n",
        "NCAAChampionsList = tourney_results_pd['NCAA Champion'].tolist()\n"
      ]
    }
  ],
  "metadata": {
    "_change_revision": 0,
    "_is_fork": false,
    "kernelspec": {
      "display_name": "Python 3",
      "language": "python",
      "name": "python3"
    },
    "language_info": {
      "codemirror_mode": {
        "name": "ipython",
        "version": 3
      },
      "file_extension": ".py",
      "mimetype": "text/x-python",
      "name": "python",
      "nbconvert_exporter": "python",
      "pygments_lexer": "ipython3",
      "version": "3.6.0"
    }
  },
  "nbformat": 4,
  "nbformat_minor": 0
}