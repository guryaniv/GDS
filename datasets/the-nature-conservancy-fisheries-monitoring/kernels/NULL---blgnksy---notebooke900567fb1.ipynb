{
  "metadata": {
    "kernelspec": {
      "display_name": "Python 3",
      "language": "python",
      "name": "python3"
    },
    "language_info": {
      "codemirror_mode": {
        "name": "ipython",
        "version": 3
      },
      "file_extension": ".py",
      "mimetype": "text/x-python",
      "name": "python",
      "nbconvert_exporter": "python",
      "pygments_lexer": "ipython3",
      "version": "3.6.0"
    }
  },
  "nbformat": 4,
  "nbformat_minor": 0,
  "cells": [
    {
      "cell_type": "code",
      "execution_count": 1,
      "metadata": {
        "_cell_guid": "e9da4c03-9414-812a-33ed-83ba8c2dda82",
        "_active": false
      },
      "outputs": [],
      "source": "# This Python 3 environment comes with many helpful analytics libraries installed\n# It is defined by the kaggle/python docker image: https://github.com/kaggle/docker-python\n# For example, here's several helpful packages to load in \n\nimport numpy as np # linear algebra\nimport pandas as pd # data processing, CSV file I/O (e.g. pd.read_csv)\n\n# Input data files are available in the \"../input/\" directory.\n# For example, running this (by clicking run or pressing Shift+Enter) will list the files in the input directory\n\nfrom subprocess import check_output\nprint(check_output([\"ls\", \"../input\"]).decode(\"utf8\"))\n\n# Any results you write to the current directory are saved as output.",
      "execution_state": "idle"
    },
    {
      "cell_type": "code",
      "execution_count": 39,
      "metadata": {
        "_cell_guid": "f24cfa84-7bb9-fca4-0e9e-816226febf8e",
        "_active": false,
        "collapsed": false
      },
      "outputs": [],
      "source": "import os\nimport cv2 \nimport matplotlib.pyplot as plt\nfrom tqdm import tqdm\nfrom random import shuffle\n%matplotlib inline\nclasses=['ALB','LAG','YFT','SHARK','DOL','BET']\nTRAIN_DIR='../input/train/'\nIMG_SIZE=500\n\ndef prepare_training_data():\n    training_data = []\n    for img_class in classes:\n        for img in tqdm(os.listdir(TRAIN_DIR+img_class)):\n            raw_img=cv2.imread(TRAIN_DIR+img_class+'/'+img,cv2.IMREAD_GRAYSCALE)\n            r = 100.0 / raw_img.shape[0]\n            dim = (250, int(raw_img.shape[1] * r))\n            raw_img=cv2.resize(raw_img, dim, interpolation = cv2.INTER_AREA)\n            label = label_img(img_class)\n            training_data.append([np.array(raw_img),np.array(label)])\n        shuffle(training_data)\n    #np.save('../input/train/train_data.npy', training_data)\n    return training_data\n\ndef label_img(img_class):\n    if img_class == 'ALB': return [1,0,0,0,0,0]\n    elif img_class == 'LAG': return [0,1,0,0,0,0]\n    elif img_class == 'YFT': return [0,0,1,0,0,0]\n    elif img_class == 'SHARK': return [0,0,0,1,0,0]\n    elif img_class == 'DOL': return [0,0,0,0,1,0]\n    elif img_class == 'BET': return [0,0,0,0,0,1]",
      "execution_state": "idle"
    },
    {
      "cell_type": "code",
      "execution_count": 40,
      "metadata": {
        "_cell_guid": "5408e78d-43ad-9455-169e-feec3046c3dd",
        "_active": false,
        "collapsed": false
      },
      "outputs": [],
      "source": "train_data=prepare_training_data()",
      "execution_state": "idle"
    },
    {
      "cell_type": "code",
      "execution_count": 44,
      "metadata": {
        "_cell_guid": "bd660102-3858-0d62-9a63-9c5218d4ecff",
        "_active": true,
        "collapsed": false
      },
      "outputs": [],
      "source": "import tflearn\nfrom tflearn.layers.conv import conv_2d, max_pool_2d\nfrom tflearn.layers.core import input_data, dropout, fully_connected\nfrom tflearn.layers.estimator import regression\n\nLR = 1e-3\n\nconvnet = input_data(shape=[None, IMG_SIZE, IMG_SIZE, 1], name='input')\n\nconvnet = conv_2d(convnet, 32, 5, activation='relu')\nconvnet = max_pool_2d(convnet, 5)\n\nconvnet = conv_2d(convnet, 64, 5, activation='relu')\nconvnet = max_pool_2d(convnet, 5)\n\nconvnet = fully_connected(convnet, 1024, activation='relu')\nconvnet = dropout(convnet, 0.8)\n\nconvnet = fully_connected(convnet, 2, activation='softmax')\nconvnet = regression(convnet, optimizer='adam', learning_rate=LR, loss='categorical_crossentropy', name='targets')\n\nmodel = tflearn.DNN(convnet, tensorboard_dir='log')",
      "execution_state": "idle"
    },
    {
      "cell_type": "code",
      "execution_count": null,
      "metadata": {
        "_cell_guid": "35da6f5b-908d-6cab-0e7a-d9188f7f034e",
        "_active": false,
        "collapsed": false
      },
      "outputs": [],
      "source": null
    },
    {
      "cell_type": "code",
      "execution_count": null,
      "metadata": {
        "_cell_guid": "c3f308c1-7fc6-ded5-6a8e-3ee7856e8734",
        "_active": false,
        "collapsed": false
      },
      "outputs": [],
      "source": null
    }
  ]
}