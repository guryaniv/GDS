{
  "cells": [
    {
      "cell_type": "code",
      "execution_count": null,
      "metadata": {
        "_cell_guid": "9fb647c8-a750-36a2-97bd-5e740ef2a302"
      },
      "outputs": [],
      "source": [
        "from subprocess import check_output\n",
        "print(check_output([\"ls\", \"../input\"]).decode(\"utf8\"))"
      ]
    },
    {
      "cell_type": "code",
      "execution_count": null,
      "metadata": {
        "_cell_guid": "1561dce8-0c9b-d20e-68b3-9b624e22255f"
      },
      "outputs": [],
      "source": [
        "# data analysis and wrangling\n",
        "import pandas as pd\n",
        "import numpy as np\n",
        "from collections import defaultdict"
      ]
    },
    {
      "cell_type": "code",
      "execution_count": null,
      "metadata": {
        "_cell_guid": "80211cc7-3de3-9f37-a4bc-2aa2bdab8cd1"
      },
      "outputs": [],
      "source": [
        "train_df = pd.read_json('../input/train.json')\n",
        "test_df = pd.read_json('../input/test.json')\n",
        "combine = [train_df, test_df]"
      ]
    },
    {
      "cell_type": "markdown",
      "metadata": {
        "_cell_guid": "c181a091-8a1c-a396-6532-620a78136b4c"
      },
      "source": [
        "Take a look at the data."
      ]
    },
    {
      "cell_type": "code",
      "execution_count": null,
      "metadata": {
        "_cell_guid": "2b7c2c2a-755c-e0e4-58b9-becf60e9c67f"
      },
      "outputs": [],
      "source": [
        "train_df.head()"
      ]
    },
    {
      "cell_type": "markdown",
      "metadata": {
        "_cell_guid": "64304861-c3fe-ff29-2e68-c914a31e19f3"
      },
      "source": [
        "Ok, we have a \"created\" field which is a date. That will have to be at least formatted, maybe split up.\n",
        "\n",
        "Let's see what we have for missing values:"
      ]
    },
    {
      "cell_type": "code",
      "execution_count": null,
      "metadata": {
        "_cell_guid": "ea13788b-ae84-832f-17d0-48f25ad2a643"
      },
      "outputs": [],
      "source": [
        "train_df.info()\n",
        "print('_'*40)\n",
        "test_df.info()"
      ]
    },
    {
      "cell_type": "markdown",
      "metadata": {
        "_cell_guid": "8bab50d3-c7ce-0df0-126a-d119a989cb2e"
      },
      "source": [
        "No null values. What about empty values"
      ]
    },
    {
      "cell_type": "code",
      "execution_count": null,
      "metadata": {
        "_cell_guid": "526e2293-82c3-eaad-2e13-c4a8e043ffe6"
      },
      "outputs": [],
      "source": [
        "train_df.describe()"
      ]
    },
    {
      "cell_type": "markdown",
      "metadata": {
        "_cell_guid": "a3944143-fd53-2b94-2495-90ecfbb7645c"
      },
      "source": [
        "We have some zero values for bathrooms, bedrooms, latitude and longitude. Those are probably all missing values. \n",
        "\n",
        "Let's look at categorical variables:"
      ]
    },
    {
      "cell_type": "code",
      "execution_count": null,
      "metadata": {
        "_cell_guid": "2bacd747-3cdb-2674-e2e1-a935d2dbbec3"
      },
      "outputs": [],
      "source": [
        "combine[0].drop(['features', 'photos'], axis=1).describe(include=['O'])"
      ]
    },
    {
      "cell_type": "markdown",
      "metadata": {
        "_cell_guid": "a8326ec4-9e0f-c5e9-7ff3-3a4801729aac"
      },
      "source": [
        "Ok, we have some columns whose values are lists. Those mess up the describe, so we had to remove them for now. We will definitely have to handle them, particularly the 'features' variable as intuitively it likely contains some highly correlated information.\n",
        "\n",
        "For now let's look at what we got though. It doesn't tell us much. The most common building ID is '0'. That's likely just an 'other' category. There are a lot of empty descriptions, those may or may not be useful. A simple 'length of description' feature might be useful.\n",
        "\n",
        "Let's take a look at that features column:"
      ]
    },
    {
      "cell_type": "code",
      "execution_count": null,
      "metadata": {
        "_cell_guid": "ae9c7a63-06da-8958-56eb-48d6f08b0b19"
      },
      "outputs": [],
      "source": [
        "features = defaultdict(int)\n",
        "for featureList in combine[0]['features']:\n",
        "    for feature in featureList:\n",
        "        features[feature.lower()] += 1\n",
        "        \n",
        "features = pd.DataFrame.from_dict(features, orient='index')\n",
        "features.columns = ['featureCounts']\n",
        "features.describe([.8,.85,.9,.95,.99])"
      ]
    },
    {
      "cell_type": "markdown",
      "metadata": {
        "_cell_guid": "44cf6110-1c2a-ec26-b021-36d5b424cce6"
      },
      "source": [
        "Ok, there are a lot of features, but they have a sort of zipfian look to their numbers.  Let's try to prune them."
      ]
    },
    {
      "cell_type": "code",
      "execution_count": null,
      "metadata": {
        "_cell_guid": "63fc4124-4b88-ed7f-2d5d-16ebfc2a96db"
      },
      "outputs": [],
      "source": [
        "\n",
        "features = features[features['featureCounts'] > features['featureCounts'].quantile(.95)]\n",
        "features.describe()"
      ]
    },
    {
      "cell_type": "code",
      "execution_count": null,
      "metadata": {
        "_cell_guid": "4b964bae-7583-1f13-9593-fb94fac2533f"
      },
      "outputs": [],
      "source": [
        "features.head()"
      ]
    },
    {
      "cell_type": "markdown",
      "metadata": {
        "_cell_guid": "bf6d41fe-dd5a-93fb-8b44-f823e754bb60"
      },
      "source": [
        "That gives us 65 features which is more doable. If we have time we should come back and select them in a smarter manner including:\n",
        "\n",
        " - Synonym resolution. We pick the low-hanging fruit of case-sensitivity, but there is more that can be done such as prewar == pre-war\n",
        " - Better better scoring function than simple counts"
      ]
    },
    {
      "cell_type": "code",
      "execution_count": null,
      "metadata": {
        "_cell_guid": "afdc2314-44d4-8756-029d-c7b8d82a736b"
      },
      "outputs": [],
      "source": [
        "def lowerCaseList(l):\n",
        "    return [f.lower() for f in l]\n",
        "\n",
        "for dataset in combine:\n",
        "    dataset['features'] = dataset['features'].map(lowerCaseList)\n",
        "    \n",
        "for featureLabel in features.axes[0]:\n",
        "    for dataset in combine:\n",
        "        pass"
      ]
    }
  ],
  "metadata": {
    "_change_revision": 0,
    "_is_fork": false,
    "kernelspec": {
      "display_name": "Python 3",
      "language": "python",
      "name": "python3"
    },
    "language_info": {
      "codemirror_mode": {
        "name": "ipython",
        "version": 3
      },
      "file_extension": ".py",
      "mimetype": "text/x-python",
      "name": "python",
      "nbconvert_exporter": "python",
      "pygments_lexer": "ipython3",
      "version": "3.6.0"
    }
  },
  "nbformat": 4,
  "nbformat_minor": 0
}