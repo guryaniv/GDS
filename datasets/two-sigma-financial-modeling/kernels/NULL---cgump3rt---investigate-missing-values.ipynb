{
  "cells": [
    {
      "cell_type": "markdown",
      "metadata": {
        "_cell_guid": "82d780d2-ff11-6d2a-2db8-dfb6b96bda24"
      },
      "source": [
        "First things first: I have some data analysis background from my research career in particle physics, but I am far from being an machine learning expert. So please bear with me and I am happy to receive any kind of feedback.\n",
        "\n",
        "Since the training data set (and possibly the test data as well) contain missing data, I wanted to have a closer look at this issue. I have seen that other participants propose to fill those NaNs with the mean or median for the respective column. Here I am not (yet) that much interested in filling the blanks but I rather want to know whether we can learn something more about the data when looking missing values."
      ]
    },
    {
      "cell_type": "code",
      "execution_count": null,
      "metadata": {
        "_cell_guid": "d5bcf820-9d2c-bea2-b7a4-91e85c56710e"
      },
      "outputs": [],
      "source": [
        "import pandas as pd\n",
        "import numpy as np\n",
        "import matplotlib.pyplot as plt\n",
        "import seaborn as sns\n",
        "%matplotlib inline"
      ]
    },
    {
      "cell_type": "code",
      "execution_count": null,
      "metadata": {
        "_cell_guid": "e0df9bdd-06ec-f2a3-e2f3-908a3b3d413f"
      },
      "outputs": [],
      "source": [
        "with pd.HDFStore('../input/train.h5') as train:\n",
        "    df = train.get('train')"
      ]
    },
    {
      "cell_type": "markdown",
      "metadata": {
        "_cell_guid": "f54578d0-9bb1-5d35-fac1-94e8c0396f43"
      },
      "source": [
        "Let's see how much data we've got:"
      ]
    },
    {
      "cell_type": "code",
      "execution_count": null,
      "metadata": {
        "_cell_guid": "c0a44ce6-4316-6ae3-b7e7-65e6eae29657"
      },
      "outputs": [],
      "source": [
        "print(df.shape)"
      ]
    },
    {
      "cell_type": "markdown",
      "metadata": {
        "_cell_guid": "aeef373d-af3e-47b2-9498-1c3bcffc477f"
      },
      "source": [
        "That's quite a few column. So let's see which columns have missing values and how much data is actually missing."
      ]
    },
    {
      "cell_type": "code",
      "execution_count": null,
      "metadata": {
        "_cell_guid": "269ac52f-b1d6-7d1d-dbf9-0e1081d51ecb"
      },
      "outputs": [],
      "source": [
        "null_counts = df.isnull().sum()/len(df)\n",
        "plt.figure(figsize=(16,8))\n",
        "plt.xticks(np.arange(len(null_counts))+0.5,null_counts.index,rotation='vertical')\n",
        "plt.ylabel('fraction of rows with missing data')\n",
        "plt.bar(np.arange(len(null_counts)),null_counts)"
      ]
    },
    {
      "cell_type": "markdown",
      "metadata": {
        "_cell_guid": "17112d4f-34e8-bc44-002f-ae1ab480ca34"
      },
      "source": [
        "Uh, that is quite a lot of missing data. Almost all feature columns contain missing values and the fraction of rows with missing data can be substantial.\n",
        "Ok, let's try to become a bit more quantitative. We can calculate for every ID (= financial asset) and feature column the following information:\n",
        "* number of missing values\n",
        "* relative fraction of missing values (= number missing values / timespan for which this ID is present)\n",
        "* number of continuous time spans with missing values (to see whether data is only missing for a certain period of time or whether missing values occur irregularly over the total time span an asset is held)"
      ]
    },
    {
      "cell_type": "code",
      "execution_count": null,
      "metadata": {
        "_cell_guid": "238614a7-6c77-73f7-93d1-1050924b5d2d"
      },
      "outputs": [],
      "source": [
        "# drop non-feature columns\n",
        "feature_columns = df.columns.drop(['id','timestamp','y'])\n",
        "# create multi-index with (count, fraction, number of NaN sequences) per feature column\n",
        "iterables = [feature_columns,['count','fraction','seq']]\n",
        "index = pd.MultiIndex.from_product(iterables,names=['feature','stat'])\n",
        "# use list of IDs as index (only sorted for easier navigation)\n",
        "ids = df.id.unique()\n",
        "ids.sort()\n",
        "# create empty data frame\n",
        "nan_df = pd.DataFrame(data=None,index=ids,columns=index)"
      ]
    },
    {
      "cell_type": "markdown",
      "metadata": {
        "_cell_guid": "a43220aa-92e8-ef0f-d189-48335a57db1b"
      },
      "source": [
        "The calculation should be straightforward except maybe for the number of connected time ranges with missing data. Here the idea is the following:\n",
        "* get the row indices for NaNs in a feature column\n",
        "* enumerate those indices\n",
        "* for a continuous time period of NaNs `enumeration index - row index` should be constant\n",
        "* use [groupby from itertools](https://docs.python.org/3/library/itertools.html#itertools.groupby) to get the list of continous time spans of NaNs"
      ]
    },
    {
      "cell_type": "code",
      "execution_count": null,
      "metadata": {
        "_cell_guid": "44f03c7b-8f30-4bc9-754a-fd23c7a70fd4"
      },
      "outputs": [],
      "source": [
        "from itertools import groupby\n",
        "# iterate over all asset ID\n",
        "for name,group in df.groupby('id'):\n",
        "    # for every feature column\n",
        "    for c in feature_columns:\n",
        "        # total number of rows with missing data\n",
        "        nan_count = group[c].isnull().sum()\n",
        "        # time span this ID was present\n",
        "        timespan = len(group[c])\n",
        "        # row indices for missing data\n",
        "        nan_indices = pd.isnull(group[c]).nonzero()[0]\n",
        "        # get number of joint time spans of missing values\n",
        "        nseq = len(list(groupby(enumerate(nan_indices),lambda x:x[0]-x[1])))\n",
        "        nan_df.loc[name][c,'count'] = nan_count\n",
        "        nan_df.loc[name][c,'fraction'] = nan_count * 1.0/timespan\n",
        "        nan_df.loc[name][c,'seq'] = nseq"
      ]
    },
    {
      "cell_type": "markdown",
      "metadata": {
        "_cell_guid": "8561462a-3c4c-4bd2-3841-07ad2064a156"
      },
      "source": [
        "Let's have a quick look at the resulting data frame."
      ]
    },
    {
      "cell_type": "code",
      "execution_count": null,
      "metadata": {
        "_cell_guid": "281cd832-7c23-58f5-6983-47ddec6d50ff"
      },
      "outputs": [],
      "source": [
        "nan_df.head(20)"
      ]
    },
    {
      "cell_type": "markdown",
      "metadata": {
        "_cell_guid": "5aa811de-5d68-8519-a64b-0ce2e723d21c"
      },
      "source": [
        "Ok, this looks reasonable at the first glance. In order to get a better feeling, let's have a look at the mean fraction of missing data per feature column and its standard deviation (where mean and std are calculated over the sample of all IDs in the training data)."
      ]
    },
    {
      "cell_type": "code",
      "execution_count": null,
      "metadata": {
        "_cell_guid": "54492ae0-c3fe-ec08-3c00-ff83afd2c433"
      },
      "outputs": [],
      "source": [
        "fractions = nan_df.xs('fraction',level='stat',axis=1)\n",
        "fraction_mean = fractions.mean()\n",
        "fraction_std = fractions.std()\n",
        "plt.figure(figsize=(16,8))\n",
        "plt.xticks(np.arange(len(fraction_mean)),fraction_mean.index,rotation='vertical')\n",
        "plt.errorbar(np.arange(len(fraction_mean)),fraction_mean,yerr=fraction_std,fmt='o')\n",
        "plt.ylabel('mean fraction of rows with missing data per ID');"
      ]
    },
    {
      "cell_type": "code",
      "execution_count": null,
      "metadata": {
        "_cell_guid": "1a6446eb-1230-b51e-fe69-c893c6c7783b"
      },
      "outputs": [],
      "source": [
        "plt.hist(fractions.values.flatten(),bins=50)\n",
        "plt.xlabel('fraction of rows with missing data per ID');"
      ]
    },
    {
      "cell_type": "markdown",
      "metadata": {
        "_cell_guid": "f9d754d7-2836-598f-57ec-14610c8c04a4"
      },
      "source": [
        "This looks interesting. For a given ID and feature column either <30% of the data is missing or all of it. The large gap in between renders the mean values a bit misleading. But what it is interesting to me is the fact that the standard deviation varies quite a bit. For fundamental and derived data the variations among different IDs seem to be (in general) larger than for the technical feature columns. One reason could be that fundamental data could be missing for fixed number of time stamps (e.g. the first N occurences) which would lead to large variations since time spans for which different IDs are present vary quite a bit as other participants already revealed. In order to test this, we can make the same plot for the absolute number of missing values per feature column."
      ]
    },
    {
      "cell_type": "code",
      "execution_count": null,
      "metadata": {
        "_cell_guid": "93c20330-4878-f4cf-77d3-11e604a81fa3"
      },
      "outputs": [],
      "source": [
        "counts = nan_df.xs('count',level='stat',axis=1)\n",
        "count_mean = counts.mean()\n",
        "count_std = counts.std()\n",
        "plt.figure(figsize=(16,8))\n",
        "plt.xticks(np.arange(len(count_mean)),count_mean.index,rotation='vertical')\n",
        "plt.errorbar(np.arange(len(count_mean)),count_mean,yerr=count_std,fmt='o')\n",
        "plt.ylabel('mean for number of missing data')"
      ]
    },
    {
      "cell_type": "code",
      "execution_count": null,
      "metadata": {
        "_cell_guid": "1892b277-b97c-9fa1-3aa2-3279c7d1024d"
      },
      "outputs": [],
      "source": [
        "plt.hist(counts.values.flatten(),bins=50)\n",
        "plt.xlabel('counts of rows with missing data per ID');"
      ]
    },
    {
      "cell_type": "markdown",
      "metadata": {
        "_cell_guid": "3af6695e-4bab-472e-0768-3cb0a1e8270e"
      },
      "source": [
        "Nope, the picture remains the same. My conclusion from this is that there are different classes of IDs which have a different availability of fundamental and derived data. Before pursuing this route further, let's also look at the number of connected time spans for missing data."
      ]
    },
    {
      "cell_type": "code",
      "execution_count": null,
      "metadata": {
        "_cell_guid": "8c28129d-9530-be9b-2e8d-653cadfbcb8e"
      },
      "outputs": [],
      "source": [
        "nseq = nan_df.xs('seq',level='stat',axis=1)\n",
        "nseq_mean = nseq.mean()\n",
        "nseq_std = nseq.std()\n",
        "plt.figure(figsize=(16,8))\n",
        "plt.xticks(np.arange(len(nseq_mean)),nseq_mean.index,rotation='vertical')\n",
        "plt.errorbar(np.arange(len(nseq_mean)),nseq_mean,yerr=nseq_std,fmt='o')\n",
        "plt.ylabel('mean number of connected NaN ranges')"
      ]
    },
    {
      "cell_type": "code",
      "execution_count": null,
      "metadata": {
        "_cell_guid": "f560f245-1512-a2e2-d9fe-67bed35e3998"
      },
      "outputs": [],
      "source": [
        "plt.hist(nseq.values.flatten(),bins=50)\n",
        "plt.xlabel('number of connected time ranges with missing data per ID');"
      ]
    },
    {
      "cell_type": "markdown",
      "metadata": {
        "_cell_guid": "09d37d18-ef74-ee15-61a2-43e364d446e3"
      },
      "source": [
        "This is very interesting. This means that rows with missing data for a given ID and feature are always continuous in time. It is **not** the case that data for an asset is unavailable, becomes available and then becomes unavailable again. I bet that if data is unavailable, it is at the beginning of the time interval in which the corresponding asset is traded. Let's try to visualize this."
      ]
    },
    {
      "cell_type": "code",
      "execution_count": null,
      "metadata": {
        "_cell_guid": "25a1288d-eaa8-4754-1231-a55d06a1ef56"
      },
      "outputs": [],
      "source": [
        "# iterate over IDs\n",
        "grouped = df.groupby('id');\n",
        "for i,(n,g) in enumerate(grouped):\n",
        "    # get missing data flag for feature columns\n",
        "    d = g.isnull().drop(['timestamp','id','y'],axis=1)\n",
        "    # normalise time stamp to start with 0 when ID appears for the first time in portfolio\n",
        "    d.index = g.timestamp - g.timestamp.min()\n",
        "    d.index.name = 'relative timestamp'\n",
        "    plt.figure(figsize=(16,12))\n",
        "    plt.title(\"ID = %d\" % n)\n",
        "    sns.heatmap(d.T,xticklabels=100,cbar=False)\n",
        "    # only plot first 10 IDs\n",
        "    if i > 10:\n",
        "        break"
      ]
    },
    {
      "cell_type": "markdown",
      "metadata": {
        "_cell_guid": "80aa1f92-8509-e74e-8faa-056c5e0fe68a"
      },
      "source": [
        "Bingo! Black bars denote columns and time stamps with missing data. All bars start at the very left which is the time an ID appears for the first time in the portfolio. It also looks like there are different *kinds* of these _barcode plots_. Maybe one can try to categorise IDs based on their missing value patterns... I will post an update on this."
      ]
    }
  ],
  "metadata": {
    "_change_revision": 0,
    "_is_fork": false,
    "kernelspec": {
      "display_name": "Python 3",
      "language": "python",
      "name": "python3"
    },
    "language_info": {
      "codemirror_mode": {
        "name": "ipython",
        "version": 3
      },
      "file_extension": ".py",
      "mimetype": "text/x-python",
      "name": "python",
      "nbconvert_exporter": "python",
      "pygments_lexer": "ipython3",
      "version": "3.5.2"
    }
  },
  "nbformat": 4,
  "nbformat_minor": 0
}