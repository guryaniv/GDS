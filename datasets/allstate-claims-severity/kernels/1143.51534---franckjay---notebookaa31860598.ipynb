{
 "cells": [
  {
   "cell_type": "markdown",
   "metadata": {
    "_cell_guid": "9a94ad4e-a822-2efb-c872-e798735f8190"
   },
   "source": [
    "If you don't know where to go, start at the beginning. What are we looking at here? "
   ]
  },
  {
   "cell_type": "code",
   "execution_count": 7,
   "metadata": {
    "_cell_guid": "9e5c1b65-33f2-8238-e43d-ae5c65f7bbff"
   },
   "outputs": [
    {
     "name": "stdout",
     "output_type": "stream",
     "text": [
      "   id cat1 cat2 cat3 cat4 cat5 cat6 cat7 cat8 cat9   ...        cont6  \\\n",
      "0   1    A    B    A    B    A    A    A    A    B   ...     0.718367   \n",
      "1   2    A    B    A    A    A    A    A    A    B   ...     0.438917   \n",
      "2   5    A    B    A    A    B    A    A    A    B   ...     0.289648   \n",
      "3  10    B    B    A    B    A    A    A    A    B   ...     0.440945   \n",
      "4  11    A    B    A    B    A    A    A    A    B   ...     0.178193   \n",
      "\n",
      "      cont7    cont8    cont9   cont10    cont11    cont12    cont13  \\\n",
      "0  0.335060  0.30260  0.67135  0.83510  0.569745  0.594646  0.822493   \n",
      "1  0.436585  0.60087  0.35127  0.43919  0.338312  0.366307  0.611431   \n",
      "2  0.315545  0.27320  0.26076  0.32446  0.381398  0.373424  0.195709   \n",
      "3  0.391128  0.31796  0.32128  0.44467  0.327915  0.321570  0.605077   \n",
      "4  0.247408  0.24564  0.22089  0.21230  0.204687  0.202213  0.246011   \n",
      "\n",
      "     cont14     loss  \n",
      "0  0.714843  2213.18  \n",
      "1  0.304496  1283.60  \n",
      "2  0.774425  3005.09  \n",
      "3  0.602642   939.85  \n",
      "4  0.432606  2763.85  \n",
      "\n",
      "[5 rows x 132 columns]\n"
     ]
    }
   ],
   "source": [
    "# This Python 3 environment comes with many helpful analytics libraries installed\n",
    "# It is defined by the kaggle/python docker image: https://github.com/kaggle/docker-python\n",
    "# For example, here's several helpful packages to load in \n",
    "\n",
    "import numpy as np # linear algebra\n",
    "import pandas as pd # data processing, CSV file I/O (e.g. pd.read_csv)\n",
    "\n",
    "# Input data files are available in the \"../input/\" directory.\n",
    "# For example, running this (by clicking run or pressing Shift+Enter) will list the files in the input directory\n",
    "\n",
    "from subprocess import check_output\n",
    "\n",
    "# # Any results you write to the current directory are saved as output.\n",
    "sample=pd.read_csv('../input/sample_submission.csv')\n",
    "test=pd.read_csv('../input/test.csv')\n",
    "train=pd.read_csv('../input/train.csv')\n",
    "\n",
    "#If you check this out in Linux (e.g. head train.csv), you see the extent of the data:\n",
    "print(train.head(5)) #116 Categorical Values, and 14 continuous ones.\n",
    "\t"
   ]
  },
  {
   "cell_type": "markdown",
   "metadata": {
    "_cell_guid": "5b9cb548-a2a8-7fcf-f48b-387a53163b60"
   },
   "source": [
    "train=pd.read_csv('../input/train.csv')\n",
    "nature. What can we do when we know nothing? Like the early taxonomists, we can start sorting! Categorical values appear to be mainly 'A' and 'B', with a few categorical columns containing various other characters."
   ]
  },
  {
   "cell_type": "code",
   "execution_count": null,
   "metadata": {
    "_cell_guid": "75643af3-30a7-8b9a-6ad8-6d134ac5fed5"
   },
   "outputs": [],
   "source": [
    "import pandas as pd\n",
    "import numpy as np\n",
    "import xgboost as xgb #Run the classifier\n",
    "\n",
    "\n",
    "print('This article was very helpful: https://www.analyticsvidhya.com/blog/2016/03/complete-guide-parameter-tuning-xgboost-with-codes-python/')\n",
    "print('As well as: https://www.kaggle.com/guyko81/allstate-claims-severity/just-an-easy-solution')\n",
    "\n",
    "test=pd.read_csv('../input/test.csv')\n",
    "train=pd.read_csv('../input/train.csv')\n",
    "features = [x for x in train.columns if x not in ['id','loss']]\n",
    "cat_features = [x for x in train.select_dtypes(include=['object']).columns if x not in ['id','loss']]\n",
    "\n",
    "for c in range(len(cat_features)):\n",
    "\ttrain[cat_features[c]] = train[cat_features[c]].astype('category').cat.codes\n",
    "    \n",
    "train['ln_loss'] = np.log(train['loss']) #Take LN of loss column\n",
    "trainX=pd.DataFrame(train[features])\n",
    "trainY=pd.DataFrame(train['ln_loss'])\n",
    "xgdmat = xgb.DMatrix(trainX, trainY) #Put these in DMTATRIX\n",
    "\n",
    "params = {'eta': 0.01, 'seed':0, 'subsample': 0.5, 'colsample_bytree': 0.5, \n",
    "             'objective': 'reg:linear', 'max_depth':6, 'min_child_weight':3} \n",
    "print('Training')\n",
    "num_rounds = 1000\n",
    "bst = xgb.train(params, xgdmat, num_boost_round = num_rounds)\n",
    "print('Done Training')\n",
    "\n",
    "print('Testing')\n",
    "y_pred=[]\n",
    "for c in range(len(cat_features)):\n",
    "    test[cat_features[c]] = test[cat_features[c]].astype('category').cat.codes\t\n",
    "testDM=xgb.DMatrix(test[features])\n",
    "y_pred+=list(bst.predict(testDM))\n",
    "print('Done Testing')\n",
    "\n",
    "print('Preparing to Submit')\n",
    "y_pred=np.exp(y_pred)#Convert back to normal values\n",
    "submission = pd.DataFrame({\n",
    "        \"id\": test[\"id\"],\n",
    "        \"loss\": y_pred    })\n",
    "submission.to_csv('XGB_OUT.csv', index=False)\t#Including more min_splits and min_leaf helps out a little\n",
    "print(\"Submission Saved\")"
   ]
  },
  {
   "cell_type": "code",
   "execution_count": null,
   "metadata": {
    "_cell_guid": "49d8e248-b830-1486-87c9-2cdd61e80f72"
   },
   "outputs": [],
   "source": [
    "import numpy as np\n",
    "import pandas as pd\n",
    "from sklearn.linear_model import SGDRegressor as SDG\n",
    "\n",
    "print('This code works poorly and gives huge swings in loss')\n",
    "test=pd.read_csv('../input/test.csv')\n",
    "train=pd.read_csv('../input/train.csv')\n",
    "print('Categories from : https://www.kaggle.com/guyko81/allstate-claims-severity/just-an-easy-solution')\n",
    "features = [x for x in train.columns if x not in ['id','loss']]\n",
    "cat_features = [x for x in train.select_dtypes(include=['object']).columns if x not in ['id','loss']]\n",
    "num_features = [x for x in train.select_dtypes(exclude=['object']).columns if x not in ['id','loss']]\t\t\n",
    "test,train='',''\t\n",
    "\n",
    "chunksize=20000\n",
    "print('Training')\n",
    "train=pd.read_csv('../input/train.csv',iterator=True,chunksize=chunksize)#Load in the file again\n",
    "for chunk in train:\n",
    "\tconts=[x for x in chunk if 'cont' in x]#Only continuous values\n",
    "\tfor c in range(len(cat_features)):\n",
    "\t\tchunk[cat_features[c]] = chunk[cat_features[c]].astype('category').cat.codes\t\n",
    "\ttrainX=pd.DataFrame(chunk[features])\n",
    "\ttrainY=pd.DataFrame(chunk['loss'])\n",
    "\talg = SDG(warm_start=True)\n",
    "\talg.fit(trainX[features],trainY['loss'])\n",
    "\t\t\n",
    "print('Done Training')\n",
    "train,trainX,trainY='','',''\n",
    "\n",
    "print('Testing')\n",
    "#Iterate through?\n",
    "test=pd.read_csv('../input/test.csv',iterator=True,chunksize=chunksize)\n",
    "y_pred=[]\n",
    "for chunk in test:\n",
    "\tfor c in range(len(cat_features)):\n",
    "\t\tchunk[cat_features[c]] = chunk[cat_features[c]].astype('category').cat.codes\t\n",
    "\ttestX=pd.DataFrame(chunk[features]).astype(float)\n",
    "\ty_pred += list(alg.predict(testX))\n",
    "print('Done Testing')\n",
    "\n",
    "test=''\n",
    "test=pd.read_csv('../input/test.csv')\n",
    "submission = pd.DataFrame({\n",
    "        \"id\": test[\"id\"],\n",
    "        \"loss\": y_pred    })\n",
    "#submission.to_csv('SGD_OUT.csv', index=False)\t#Including more min_splits and min_leaf helps out a little\n",
    "print(\"Submission Saved\")"
   ]
  },
  {
   "cell_type": "code",
   "execution_count": null,
   "metadata": {
    "_cell_guid": "7e2c22ad-0eee-2ee7-f800-4f3f637705e0"
   },
   "outputs": [],
   "source": [
    "import numpy as np\n",
    "import pandas as pd\n",
    "from sklearn.linear_model import SGDRegressor as SDG\n",
    "\n",
    "print('Maybe transform this to  log_loss as guyko81 does. Also, remove the iterators.')\n",
    "test=pd.read_csv('../input/test.csv')\n",
    "train=pd.read_csv('../input/train.csv')\n",
    "print('Categories from : https://www.kaggle.com/guyko81/allstate-claims-severity/just-an-easy-solution')\n",
    "features = [x for x in train.columns if x not in ['id','loss']]\n",
    "cat_features = [x for x in train.select_dtypes(include=['object']).columns if x not in ['id','loss']]\n",
    "num_features = [x for x in train.select_dtypes(exclude=['object']).columns if x not in ['id','loss']]\t\t\n",
    "test,train='',''\t\n",
    "\n",
    "print('Training')\n",
    "train=pd.read_csv('../input/train.csv')#Load in the file again\n",
    "\n",
    "\n",
    "for c in range(len(cat_features)):\n",
    "\ttrain[cat_features[c]] = train[cat_features[c]].astype('category').cat.codes\n",
    "train['ln_loss'] = np.log(train['loss']) \n",
    "trainX=pd.DataFrame(train[features])\n",
    "trainY=pd.DataFrame(train['ln_loss'])\n",
    "alg = SDG()\n",
    "alg.fit(trainX[features],trainY['ln_loss'])\n",
    "\t\t\n",
    "print('Done Training')\n",
    "train,trainX,trainY='','',''\n",
    "\n",
    "print('Testing')\n",
    "#Iterate through?\n",
    "test=pd.read_csv('../input/test.csv')\n",
    "y_pred=[]\n",
    "for c in range(len(cat_features)):\n",
    "    test[cat_features[c]] = test[cat_features[c]].astype('category').cat.codes\t\n",
    "testX=pd.DataFrame(test[features])\n",
    "y_pred += list(alg.predict(testX))\n",
    "print('Done Testing')\n",
    "\n",
    "print('Preparing to Submit')\n",
    "y_pred=np.exp(y_pred)#Convert back to normal values\n",
    "submission = pd.DataFrame({\n",
    "        \"id\": test[\"id\"],\n",
    "        \"loss\": y_pred    })\n",
    "submission.to_csv('SGD_OUT2.csv', index=False)\t#Including more min_splits and min_leaf helps out a little\n",
    "print(\"Submission Saved\")"
   ]
  }
 ],
 "metadata": {
  "_change_revision": 0,
  "_is_fork": false,
  "kernelspec": {
   "display_name": "Python 3",
   "language": "python",
   "name": "python3"
  },
  "language_info": {
   "codemirror_mode": {
    "name": "ipython",
    "version": 3
   },
   "file_extension": ".py",
   "mimetype": "text/x-python",
   "name": "python",
   "nbconvert_exporter": "python",
   "pygments_lexer": "ipython3",
   "version": "3.7.1"
  }
 },
 "nbformat": 4,
 "nbformat_minor": 1
}
