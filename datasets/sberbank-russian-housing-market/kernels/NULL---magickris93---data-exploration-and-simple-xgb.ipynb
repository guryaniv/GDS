{
  "cells": [
    {
      "cell_type": "code",
      "execution_count": null,
      "metadata": {
        "_cell_guid": "589e0bdf-cc57-2d6e-ea26-18d3e8fba864"
      },
      "outputs": [],
      "source": [
        "import numpy as np\n",
        "import pandas as pd\n",
        "import seaborn as sns\n",
        "import matplotlib.pyplot as plt\n",
        "import xgboost as xgb\n",
        "\n",
        "import warnings\n",
        "\n",
        "warnings.filterwarnings('ignore', category=np.VisibleDeprecationWarning)\n",
        "warnings.filterwarnings('ignore', category=DeprecationWarning)"
      ]
    },
    {
      "cell_type": "markdown",
      "metadata": {
        "_cell_guid": "77cf3803-cf59-1349-8517-ca9d052d22a5"
      },
      "source": ""
    },
    {
      "cell_type": "code",
      "execution_count": null,
      "metadata": {
        "_cell_guid": "e76bbbf3-53a8-e2e7-d4c2-3d1ca8c04b5d"
      },
      "outputs": [],
      "source": [
        "train_df = pd.read_csv(\"../input/train.csv\")\n",
        "# id's and timestamps are unnecessary since I don't use macro data\n",
        "train_df = train_df.drop(['id', 'timestamp'], axis=1)\n",
        "\n",
        "# replace binary data with 1's and 0's to improve one-hot encoding performance\n",
        "train_df.replace(['Investment', 'OwnerOccupier', 'yes', 'no'], [1, 0, 1, 0],\n",
        "                 inplace=True)\n",
        "\n",
        "print('Train set has {} samples and {} features.'.format(*train_df.shape))\n",
        "train_df.head()"
      ]
    },
    {
      "cell_type": "code",
      "execution_count": null,
      "metadata": {
        "_cell_guid": "4bad1b03-b4c3-e9f6-e611-91c044142c19"
      },
      "outputs": [],
      "source": [
        "train_df.describe().round(decimals=2)"
      ]
    },
    {
      "cell_type": "code",
      "execution_count": null,
      "metadata": {
        "_cell_guid": "5fdae5e2-267e-00c6-f636-50431cf2877b"
      },
      "outputs": [],
      "source": [
        "test_df = pd.read_csv(\"../input/test.csv\")\n",
        "# Save id's for the output\n",
        "id_test = test_df.id\n",
        "\n",
        "test_df = test_df.drop(['id', 'timestamp'], axis=1)\n",
        "test_df.replace(['Investment', 'OwnerOccupier', 'yes', 'no'], [1, 0, 1, 0],\n",
        "                inplace=True)\n",
        "\n",
        "print('Test set has {} samples and {} features.'.format(*test_df.shape))\n",
        "test_df.head()"
      ]
    },
    {
      "cell_type": "markdown",
      "metadata": {
        "_cell_guid": "7531ee56-d800-ada3-61de-c3346473dd85"
      },
      "source": ""
    },
    {
      "cell_type": "code",
      "execution_count": null,
      "metadata": {
        "_cell_guid": "b6a73ff1-51b8-3c5d-bcc1-d98b19d2e2ee"
      },
      "outputs": [],
      "source": [
        "count = 0\n",
        "\n",
        "for d in train_df.isnull().any():\n",
        "    if d: count += 1\n",
        "\n",
        "print('There are {} columns in training set that have missing values.'.format(\n",
        "    count, train_df.shape[1]))"
      ]
    },
    {
      "cell_type": "markdown",
      "metadata": {
        "_cell_guid": "e7aeef78-f96c-e193-b1b0-caf3bd2e0bfa"
      },
      "source": ""
    },
    {
      "cell_type": "markdown",
      "metadata": {
        "_cell_guid": "ad7bd98e-fb9f-c638-0a2c-0539f2c345cd"
      },
      "source": [
        "# Perform one-hot encoding\n",
        "\n",
        "In order to apply XGBoost prediction model, we need to perform one-hot encoding on the categorical data."
      ]
    },
    {
      "cell_type": "code",
      "execution_count": null,
      "metadata": {
        "_cell_guid": "6aeced70-b747-f8f2-8ef0-524fa6a91eda"
      },
      "outputs": [],
      "source": [
        "cols = train_df.columns\n",
        "num_cols = train_df._get_numeric_data().columns\n",
        "cols = list(set(cols) - set(num_cols))\n",
        "\n",
        "train_df = pd.get_dummies(train_df, columns=cols)\n",
        "train_df.head()"
      ]
    },
    {
      "cell_type": "code",
      "execution_count": null,
      "metadata": {
        "_cell_guid": "f4f02787-458e-bb58-ecdf-d8a7e85ff24a"
      },
      "outputs": [],
      "source": [
        "test_df = pd.get_dummies(test_df, columns=cols)\n",
        "test_df.head()"
      ]
    },
    {
      "cell_type": "code",
      "execution_count": null,
      "metadata": {
        "_cell_guid": "0687d253-826f-d355-5da7-73a1c66bae11"
      },
      "outputs": [],
      "source": [
        "set(train_df) - set(test_df) - set(['price_doc'])"
      ]
    },
    {
      "cell_type": "markdown",
      "metadata": {
        "_cell_guid": "fa563963-09ca-3362-970f-608716e139a8"
      },
      "source": [
        "Test set is missing one column with encoded city name, so we have to add it to the data frame in order for the predictor to operate correctly."
      ]
    },
    {
      "cell_type": "code",
      "execution_count": null,
      "metadata": {
        "_cell_guid": "83ac4cc6-b634-1f14-8b1b-bd3a50a9413c"
      },
      "outputs": [],
      "source": [
        "test_df['sub_area_Poselenie Klenovskoe'] = [0] * test_df.shape[0]"
      ]
    },
    {
      "cell_type": "markdown",
      "metadata": {
        "_cell_guid": "a6b2f17f-c05c-3c31-e39a-c4269af95844"
      },
      "source": ""
    },
    {
      "cell_type": "code",
      "execution_count": null,
      "metadata": {
        "_cell_guid": "d497ef9f-1407-9ce8-e692-0fcd9c81cc27"
      },
      "outputs": [],
      "source": [
        "plt.plot(range(train_df.shape[0]), sorted(train_df['price_doc']))\n",
        "plt.show()"
      ]
    },
    {
      "cell_type": "code",
      "execution_count": null,
      "metadata": {
        "_cell_guid": "e509e311-47e6-9282-7ee6-c7a879105474"
      },
      "outputs": [],
      "source": [
        "sns.distplot(train_df['price_doc'], kde=False)\n",
        "plt.show()"
      ]
    },
    {
      "cell_type": "markdown",
      "metadata": {
        "_cell_guid": "70e39c63-9811-69de-c111-6c26f6f84502"
      },
      "source": ""
    },
    {
      "cell_type": "code",
      "execution_count": null,
      "metadata": {
        "_cell_guid": "9804a9f6-d06d-0262-045e-f342ce1a0bde"
      },
      "outputs": [],
      "source": [
        "q1 = train_df['price_doc'].quantile(0.99)\n",
        "\n",
        "train_df_no = train_df.loc[train_df['price_doc'] < q1]\n",
        "plt.plot(range(train_df_no.shape[0]), sorted(train_df_no['price_doc']))\n",
        "plt.show()"
      ]
    },
    {
      "cell_type": "code",
      "execution_count": null,
      "metadata": {
        "_cell_guid": "e9a0aa8b-a98d-4a40-888d-a7a41933671e"
      },
      "outputs": [],
      "source": [
        "sns.distplot(train_df_no['price_doc'], kde=False)\n",
        "plt.show()"
      ]
    },
    {
      "cell_type": "markdown",
      "metadata": {
        "_cell_guid": "39e8fcb1-be91-551a-92d7-3522be0c4061"
      },
      "source": ""
    },
    {
      "cell_type": "markdown",
      "metadata": {
        "_cell_guid": "6de8afe7-b4e4-79a0-7085-ea87ca0ae53a"
      },
      "source": ""
    },
    {
      "cell_type": "code",
      "execution_count": null,
      "metadata": {
        "_cell_guid": "09760ba5-22fc-259d-31fa-f458727017b2"
      },
      "outputs": [],
      "source": [
        "target = train_df_no['price_doc']\n",
        "train = train_df_no.drop('price_doc', axis=1)\n",
        "test = test_df\n",
        "\n",
        "xgtrain = xgb.DMatrix(train.values, target.values)\n",
        "xgtest = xgb.DMatrix(test.values)"
      ]
    },
    {
      "cell_type": "markdown",
      "metadata": {
        "_cell_guid": "ceaf1d32-3767-19ef-79da-0b5df716db0a"
      },
      "source": ""
    },
    {
      "cell_type": "markdown",
      "metadata": {
        "_cell_guid": "8d7cfa7c-8142-dd48-256f-073b2e3ea3b3"
      },
      "source": [
        "Using cross-validation I try to find the optimal parameters for the algorithm based on RMSE on the training set."
      ]
    },
    {
      "cell_type": "code",
      "execution_count": null,
      "metadata": {
        "_cell_guid": "4506d4b4-bd4f-c810-96b2-e32e90c4a177"
      },
      "outputs": [],
      "source": [
        "params = {\n",
        "    'eta': 0.05,\n",
        "    'max_depth': 5,\n",
        "    'subsample': 0.7,\n",
        "    'colsample_bytree': 0.7,\n",
        "    'objective': 'reg:linear',\n",
        "    'eval_metric': 'rmse',\n",
        "    'silent': 1\n",
        "}\n",
        "\n",
        "cv_output = xgb.cv(params, xgtrain, num_boost_round=1000,\n",
        "                   early_stopping_rounds=20, verbose_eval=50, show_stdv=False)"
      ]
    },
    {
      "cell_type": "markdown",
      "metadata": {
        "_cell_guid": "6b85dc28-6098-c526-c1ca-d9ce7a4615fb"
      },
      "source": ""
    },
    {
      "cell_type": "code",
      "execution_count": null,
      "metadata": {
        "_cell_guid": "273c6b87-e816-cfc6-423e-ed00f9a00519"
      },
      "outputs": [],
      "source": [
        "num_boost_rounds = len(cv_output)\n",
        "model = xgb.train(dict(params, silent=0), xgtrain,\n",
        "                  num_boost_round=num_boost_rounds)\n",
        "y_predict = model.predict(xgtest)"
      ]
    },
    {
      "cell_type": "markdown",
      "metadata": {
        "_cell_guid": "ea553486-899d-170d-c2c5-2f6eee9b9087"
      },
      "source": ""
    },
    {
      "cell_type": "code",
      "execution_count": null,
      "metadata": {
        "_cell_guid": "ba1153a4-51fc-1e8c-308a-a02db20f42ae"
      },
      "outputs": [],
      "source": [
        "output = pd.DataFrame({'id': id_test, 'price_doc': y_predict})\n",
        "output.to_csv('xgb_submission.csv', index=False)"
      ]
    }
  ],
  "metadata": {
    "_change_revision": 0,
    "_is_fork": false,
    "kernelspec": {
      "display_name": "Python 3",
      "language": "python",
      "name": "python3"
    },
    "language_info": {
      "codemirror_mode": {
        "name": "ipython",
        "version": 3
      },
      "file_extension": ".py",
      "mimetype": "text/x-python",
      "name": "python",
      "nbconvert_exporter": "python",
      "pygments_lexer": "ipython3",
      "version": "3.6.0"
    }
  },
  "nbformat": 4,
  "nbformat_minor": 0
}