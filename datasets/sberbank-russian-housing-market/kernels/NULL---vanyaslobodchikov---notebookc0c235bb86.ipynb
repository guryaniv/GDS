{
  "cells": [
    {
      "cell_type": "code",
      "execution_count": null,
      "metadata": {
        "_cell_guid": "010c4642-89b5-9415-71e7-be3332a88222"
      },
      "outputs": [],
      "source": [
        "# This Python 3 environment comes with many helpful analytics libraries installed\n",
        "# It is defined by the kaggle/python docker image: https://github.com/kaggle/docker-python\n",
        "# For example, here's several helpful packages to load in \n",
        "\n",
        "import numpy as np # linear algebra\n",
        "import pandas as pd # data processing, CSV file I/O (e.g. pd.read_csv)\n",
        "\n",
        "import random \n",
        "\n",
        "import xgboost as xgb\n",
        "\n",
        "from sklearn.model_selection import KFold, train_test_split, GridSearchCV\n",
        "from sklearn.metrics import mean_squared_error\n",
        "\n",
        "rng = np.random.RandomState(31337)\n",
        "\n",
        "# Input data files are available in the \"../input/\" directory.\n",
        "# For example, running this (by clicking run or pressing Shift+Enter) will list the files in the input directory\n",
        "\n",
        "from subprocess import check_output\n",
        "print(check_output([\"ls\", \"../input\"]).decode(\"utf8\"))\n",
        "\n",
        "# Any results you write to the current directory are saved as output.\n",
        "\n",
        "df = pd.read_csv('../input/train.csv')\n",
        "\n",
        "df.describe()"
      ]
    },
    {
      "cell_type": "code",
      "execution_count": null,
      "metadata": {
        "_cell_guid": "370a8ca4-9c2b-c338-4601-c0fb2cc4ba92"
      },
      "outputs": [],
      "source": [
        "X = df.drop('price_doc', axis=1).select_dtypes(exclude=[object])\n",
        "y = df['price_doc']"
      ]
    },
    {
      "cell_type": "code",
      "execution_count": null,
      "metadata": {
        "_cell_guid": "9780dfb2-25cc-8c64-042f-211449b52034"
      },
      "outputs": [],
      "source": [
        "kf = KFold(n_splits=2, shuffle=True, random_state=rng)\n",
        "for train_index, test_index in kf.split(X):\n",
        "    xgb_model = xgb.XGBRegressor().fit(X.iloc[train_index],y[train_index])\n",
        "    predictions = xgb_model.predict(X.iloc[test_index])\n",
        "    actuals = y[test_index]\n",
        "    print(mean_squared_error(actuals, predictions))"
      ]
    },
    {
      "cell_type": "code",
      "execution_count": null,
      "metadata": {
        "_cell_guid": "4d84a417-e20e-169e-35a6-dea669657ccc"
      },
      "outputs": [],
      "source": [
        "xgb_model = xgb.XGBRegressor()\n",
        "clf = GridSearchCV(xgb_model,\n",
        "                   {'max_depth': [2,4,6],\n",
        "                    'n_estimators': [50,100,200]}, verbose=1)\n",
        "clf.fit(X,y)\n",
        "print(clf.best_score_)\n",
        "print(clf.best_params_)"
      ]
    },
    {
      "cell_type": "code",
      "execution_count": null,
      "metadata": {
        "_cell_guid": "bae80e47-6d68-6c54-edd2-6727a09d511d"
      },
      "outputs": [],
      "source": [
        "test = pd.read_csv('../input/test.csv')"
      ]
    },
    {
      "cell_type": "code",
      "execution_count": null,
      "metadata": {
        "_cell_guid": "f5b92049-b74f-eed9-5b44-a070ef230eb0"
      },
      "outputs": [],
      "source": [
        "obj_cols = list(df.select_dtypes(include=[object]).drop('timestamp', axis=1).columns)\n",
        "obj_cols"
      ]
    },
    {
      "cell_type": "code",
      "execution_count": null,
      "metadata": {
        "_cell_guid": "08416ff3-d9e5-b932-bf2c-75fd527da53a"
      },
      "outputs": [],
      "source": [
        "dummy_train = pd.get_dummies(df[obj_cols])\n",
        "dummy_test = pd.get_dummies(test[obj_cols])"
      ]
    },
    {
      "cell_type": "code",
      "execution_count": null,
      "metadata": {
        "_cell_guid": "a6d785e6-c3a9-9659-84db-8de1321eb525"
      },
      "outputs": [],
      "source": [
        "X = pd.concat([X, dummy_train], axis=1)\n",
        "X_test = pd.concat([test, dummy_test], axis=1).select_dtypes(exclude=[object])."
      ]
    },
    {
      "cell_type": "code",
      "execution_count": null,
      "metadata": {
        "_cell_guid": "01abbf17-4fe8-f678-288b-a2230eb95e50"
      },
      "outputs": [],
      "source": [
        "params = {'max_depth': 4, 'n_estimators': 200}"
      ]
    },
    {
      "cell_type": "code",
      "execution_count": null,
      "metadata": {
        "_cell_guid": "ec3c6da7-57a4-fb27-594d-a3f65f427bb5"
      },
      "outputs": [],
      "source": [
        "xgb_reg = xgb.XGBRegressor(**params).fit(X.drop('id', axis=1), y)\n",
        "predictions = xgb_reg.predict(X_test.drop('id', axis=1).as_matrix())"
      ]
    },
    {
      "cell_type": "code",
      "execution_count": null,
      "metadata": {
        "_cell_guid": "bd933c87-9ae4-4ea3-d7a8-ff8d0697ce0f"
      },
      "outputs": [],
      "source": [
        "boosting_sub = pd.DataFrame({\"id\":X_test[\"id\"], \"price_doc\":predictions})\n",
        "boosting_sub.to_csv(\"boosting.csv\", index=False)"
      ]
    }
  ],
  "metadata": {
    "_change_revision": 0,
    "_is_fork": false,
    "kernelspec": {
      "display_name": "Python 3",
      "language": "python",
      "name": "python3"
    },
    "language_info": {
      "codemirror_mode": {
        "name": "ipython",
        "version": 3
      },
      "file_extension": ".py",
      "mimetype": "text/x-python",
      "name": "python",
      "nbconvert_exporter": "python",
      "pygments_lexer": "ipython3",
      "version": "3.6.0"
    }
  },
  "nbformat": 4,
  "nbformat_minor": 0
}