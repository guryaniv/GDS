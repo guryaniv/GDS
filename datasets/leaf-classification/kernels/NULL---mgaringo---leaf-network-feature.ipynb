{
  "cells": [
    {
      "cell_type": "markdown",
      "metadata": {
        "_cell_guid": "0cb1a772-51c7-6216-a81d-67cadd290825"
      },
      "source": [
        "A quick literature review revealed that our proposal of acquiring network information from skeletal images, has been a topic of interest in many groups.  Here we employ a modified method proposed by M.Dirnbeger et.al. in their work \"Network Extraction From Images\".  For further detail please refer to their work and also Martino Bruni.\n",
        "\n",
        "To reiterate our goal, the main purpose is to explore a new feature obtained from the raw images, to test the robustness of the features in the given data when a ML algorithm is employed."
      ]
    },
    {
      "cell_type": "code",
      "execution_count": null,
      "metadata": {
        "_cell_guid": "bc0897c2-1cc7-726f-0322-f637d17660b2"
      },
      "outputs": [],
      "source": [
        "#----- Matrix\n",
        "import numpy as np\n",
        "\n",
        "# ---- Image Analysis\n",
        "import scipy.ndimage as ndi\n",
        "from skimage.morphology import skeletonize\n",
        "from skimage import measure\n",
        "import scipy as sp\n",
        "from scipy.signal import argrelextrema\n",
        "\n",
        "# ---- Image Plotting\n",
        "import matplotlib.image as mpimg\n",
        "import matplotlib.pyplot as plt\n",
        "import matplotlib.patches as mpatches\n",
        "from pylab import rcParams\n",
        "\n",
        "import pandas as pd\n",
        "from sklearn import metrics\n",
        "\n",
        "# ---- Networking\n",
        "import cv2\n",
        "import networkx as nx\n",
        "from collections import defaultdict\n",
        "from itertools import chain"
      ]
    },
    {
      "cell_type": "markdown",
      "metadata": {
        "_cell_guid": "2856589a-3874-921c-476b-0bee756788b0"
      },
      "source": [
        "I/O things and setup of skeleton of the image"
      ]
    },
    {
      "cell_type": "code",
      "execution_count": null,
      "metadata": {
        "_cell_guid": "9f1f2439-faa2-c122-6922-4e9d675ed8fc"
      },
      "outputs": [],
      "source": [
        "img = mpimg.imread('../input/images/1562.jpg')\n",
        "img = np.divide(img,np.max(np.max(img)))\n",
        "skeleton = skeletonize(img)"
      ]
    },
    {
      "cell_type": "markdown",
      "metadata": {
        "_cell_guid": "8b9c8daf-fd29-044f-c669-beebda252b13"
      },
      "source": [
        "# Detection of Nodes\n",
        "For this section we employ the algorithm proposed by Zhang and Suen entitled \"A Fast Parallel Algorithm for Thinning Digital Patterns\"\n",
        "\n",
        "The top level explanation is basically, a white pixel becomes a node if the process of removing said node produces exactly one or at least 3 4-connected white components in the adjacent pixels.  This will reveal if the pixel is either an end node or a node junction with connected edges.  The main limitation of this process is that we can only obtain a maximum of degree 4 at each node.  But this can be pruned and fine tuned in a future post-processing state."
      ]
    },
    {
      "cell_type": "code",
      "execution_count": null,
      "metadata": {
        "_cell_guid": "f486af0f-9cf1-506a-86a8-4c5e523cb131"
      },
      "outputs": [],
      "source": [
        "def zhang_suen_node_detection(skel):\n",
        "    \n",
        "    def check_pixel_neighborhood(x, y, skel):\n",
        "        \n",
        "        accept_pixel_as_node = False\n",
        "        item = skel.item\n",
        "        p2 = item(x - 1, y) / 255\n",
        "        p3 = item(x - 1, y + 1) / 255\n",
        "        p4 = item(x, y + 1) / 255\n",
        "        p5 = item(x + 1, y + 1) / 255\n",
        "        p6 = item(x + 1, y) / 255\n",
        "        p7 = item(x + 1, y - 1) / 255\n",
        "        p8 = item(x, y - 1) / 255\n",
        "        p9 = item(x - 1, y - 1) / 255\n",
        "        \n",
        "        components = (p2 == 0 and p3 == 1) + (p3 == 0 and p4 == 1) + \\\n",
        "                     (p4 == 0 and p5 == 1) + (p5 == 0 and p6 == 1) + \\\n",
        "                     (p6 == 0 and p7 == 1) + (p7 == 0 and p8 == 1) + \\\n",
        "                     (p8 == 0 and p9 == 1) + (p9 == 0 and p2 == 1)\n",
        "        if (components >= 3) or (components == 1):\n",
        "            accept_pixel_as_node = True\n",
        "        return accept_pixel_as_node\n",
        "\n",
        "    graph = nx.Graph()\n",
        "    w, h = skel.shape\n",
        "    item = skel.item\n",
        "    for x in range(1, w - 1):\n",
        "        for y in range(1, h - 1):            \n",
        "            if item(x, y) != 0 and check_pixel_neighborhood(x, y, skel):\n",
        "                graph.add_node((x, y))\n",
        "    return graph"
      ]
    },
    {
      "cell_type": "code",
      "execution_count": null,
      "metadata": {
        "_cell_guid": "fb615079-4045-02fb-f8ee-eee65bef5aed"
      },
      "outputs": [],
      "source": [
        "graph = zhang_suen_node_detection(skeleton*255)"
      ]
    },
    {
      "cell_type": "markdown",
      "metadata": {
        "_cell_guid": "5ccbb8c2-3a88-1461-fdf4-1807f0403623"
      },
      "source": [
        "# Detection of Edges\n",
        "This is a variation of the breadth first search at each node obtained in the previous section"
      ]
    },
    {
      "cell_type": "code",
      "execution_count": null,
      "metadata": {
        "_cell_guid": "4a9cb7b0-6bf1-5ec5-32c9-4ea43744b7a3"
      },
      "outputs": [],
      "source": [
        "def breadth_first_edge_detection(skel, segmented, graph):\n",
        "\n",
        "    def neighbors(x, y):\n",
        "        item = skel.item\n",
        "        width, height = skel.shape\n",
        "        for dy in [-1, 0, 1]:\n",
        "            for dx in [-1, 0, 1]:\n",
        "                if (dx != 0 or dy != 0) and \\\n",
        "                                        0 <= x + dx < width and \\\n",
        "                                        0 <= y + dy < height and \\\n",
        "                                item(x + dx, y + dy) != 0:\n",
        "                    yield x + dx, y + dy\n",
        "\n",
        "    # compute edge length\n",
        "    label_node = dict()\n",
        "    queues = []\n",
        "    label = 1\n",
        "    label_length = defaultdict(int)\n",
        "    for x, y in graph.nodes_iter():\n",
        "        for a, b in neighbors(x, y):\n",
        "            label_node[label] = (x, y)\n",
        "            label_length[label] = 1.414214 if abs(x - a) == 1 and \\\n",
        "                                              abs(y - b) == 1 else 1\n",
        "            queues.append((label, (x, y), [(a, b)]))\n",
        "            label += 1\n",
        "\n",
        "    # bfs over the white pixels.\n",
        "    # One phase: every entry in queues is handled\n",
        "    # Each label grows in every phase.\n",
        "    # If two labels meet, we have an edge.\n",
        "    edges = set()\n",
        "    edge_trace = np.zeros(skel.shape, np.uint32)\n",
        "    edge_value = edge_trace.item\n",
        "    edge_set_value = edge_trace.itemset\n",
        "    label_histogram = defaultdict(int)\n",
        "\n",
        "    while queues:\n",
        "        new_queues = []\n",
        "        for label, (px, py), nbs in queues:\n",
        "            for (ix, iy) in nbs:\n",
        "                value = edge_value(ix, iy)\n",
        "                if value == 0:\n",
        "                    edge_set_value((ix, iy), label)\n",
        "                    label_histogram[label] += 1                    \n",
        "                    label_length[label] += 1.414214 if abs(ix - px) == 1 and \\\n",
        "                                                       abs(iy - py) == 1 else 1\n",
        "                    new_queues.append((label, (ix, iy), neighbors(ix, iy)))\n",
        "                elif value != label:\n",
        "                    edges.add((min(label, value), max(label, value)))\n",
        "        queues = new_queues\n",
        "\n",
        "    # compute edge diameters\n",
        "    diameters = 1\n",
        "    # add edges to graph\n",
        "    for l1, l2 in edges:\n",
        "        u, v = label_node[l1], label_node[l2]\n",
        "        if u == v:\n",
        "            continue\n",
        "        \n",
        "        graph.add_edge(u, v, pixels=label_histogram[l1] + label_histogram[l2],\n",
        "                       length=label_length[l1] + label_length[l2],\n",
        "                       width=1,\n",
        "                       width_var=1)\n",
        "    return graph"
      ]
    },
    {
      "cell_type": "code",
      "execution_count": null,
      "metadata": {
        "_cell_guid": "2999e272-e1bf-e6e8-8b40-be2b92fa0194"
      },
      "outputs": [],
      "source": [
        "graph = breadth_first_edge_detection(skeleton, img, graph)"
      ]
    },
    {
      "cell_type": "markdown",
      "metadata": {
        "_cell_guid": "fdf8c4fe-aa73-bb7b-fd29-b04ecfbb3dec"
      },
      "source": [
        "# Drawing Routines\n",
        "These will be used to visualize the nodes on the discovered network"
      ]
    },
    {
      "cell_type": "code",
      "execution_count": null,
      "metadata": {
        "_cell_guid": "b0a76853-946c-cc24-9ca1-a9ed9f7c0e96"
      },
      "outputs": [],
      "source": [
        "NODESIZESCALING = 750\n",
        "EDGETRANSPARENCYDIVIDER = 5\n",
        "EDGETRANSPARENCY = False\n",
        "\n",
        "\n",
        "def draw_graph(image, graph):\n",
        "    tmp = draw_edges(image, graph)\n",
        "    node_size = int(np.ceil((max(image.shape) / float(NODESIZESCALING))))\n",
        "    return draw_nodes(tmp, graph, max(node_size, 1))\n",
        "\n",
        "\n",
        "def draw_nodes(img, graph, radius=1):\n",
        "    for x, y in graph.nodes_iter():\n",
        "        cv2.rectangle(img, (y - radius, x - radius), (y + radius, x + radius),\n",
        "                     (255, 0, 0), -1)\n",
        "    return img\n",
        "\n",
        "\n",
        "def draw_edges(img, graph, col=(255, 255, 255)):\n",
        "    edg_img = np.copy(img)\n",
        "\n",
        "    max_standard_deviation = 0   \n",
        "\n",
        "    for (x1, y1), (x2, y2) in graph.edges_iter():\n",
        "        start = (y1, x1)\n",
        "        end = (y2, x2)\n",
        "        diam = graph[(x1, y1)][(x2, y2)]['width']\n",
        "        # variance value computed during graph detection\n",
        "        width_var = graph[(x1, y1)][(x2, y2)]['width_var']\n",
        "        # compute edges standard deviation by applying sqrt(var(edge))\n",
        "        standard_dev = np.sqrt(width_var)\n",
        "        if diam == -1: diam = 2\n",
        "        diam = int(round(diam))\n",
        "        #mymod\n",
        "        diam = 1\n",
        "        if diam > 255:\n",
        "            print('Warning: edge diameter too large for display. Diameter has been reset.')\n",
        "            diam = 255\n",
        "        else:\n",
        "            # simply draw a red line since we are not in the edge transparency mode\n",
        "            cv2.line(edg_img, start, end, col, diam)\n",
        "\n",
        "    edg_img = cv2.addWeighted(img, 0.5, edg_img, 0.5, 0)\n",
        "\n",
        "    MAXIMUMSTANDARDDEVIATION = 0\n",
        "\n",
        "    return edg_img"
      ]
    },
    {
      "cell_type": "code",
      "execution_count": null,
      "metadata": {
        "_cell_guid": "07fe9bcd-9ad9-ed16-e2a1-f9783d15aaf9"
      },
      "outputs": [],
      "source": [
        "data = draw_graph(img, graph)"
      ]
    },
    {
      "cell_type": "markdown",
      "metadata": {
        "_cell_guid": "b200cff3-2c8a-16db-4968-ce49a08ae875"
      },
      "source": [
        "# Results"
      ]
    },
    {
      "cell_type": "code",
      "execution_count": null,
      "metadata": {
        "_cell_guid": "464f5faa-8003-0090-b8a8-30195e9e881c"
      },
      "outputs": [],
      "source": [
        "fig, (ax1, ax2, ax3) = plt.subplots(1, 3, figsize=(8, 4.5), sharex=True, sharey=True, subplot_kw={'adjustable':'box-forced'})\n",
        "\n",
        "ax1.imshow(img, cmap=plt.cm.gray)\n",
        "ax1.axis('off')\n",
        "ax1.set_title('Original', fontsize=20)\n",
        "\n",
        "ax2.imshow(skeleton, cmap=plt.cm.gray)\n",
        "ax2.axis('off')\n",
        "ax2.set_title('Skeleton', fontsize=20)\n",
        "\n",
        "ax3.imshow(data, cmap=plt.cm.gray)\n",
        "ax3.axis('off')\n",
        "ax3.set_title('Found Network', fontsize=20)\n",
        "\n",
        "fig.subplots_adjust(wspace=0.02, hspace=0.02, top=0.98,\n",
        "                    bottom=0.02, left=0.02, right=0.98)\n",
        "\n",
        "plt.show()"
      ]
    },
    {
      "cell_type": "markdown",
      "metadata": {
        "_cell_guid": "b6b01ad7-63b8-b020-705b-3bd83eee58d0"
      },
      "source": [
        "# Discussion\n",
        "The next step is to find graph theory based features on the discover networks to be fed into an ML algorithm.\n",
        "\n",
        "We can also do some image pre-processing to obtain finer networks.  We can perform morphological filters for this. "
      ]
    },
    {
      "cell_type": "code",
      "execution_count": null,
      "metadata": {
        "_cell_guid": "f2c52b23-fb1e-6880-40b1-c37e12101322"
      },
      "outputs": [],
      "source": [
        "# filter kernel to perform the dilation\n",
        "struct = [[ 0., 0., 1., 1., 0., 0.],\n",
        "          [ 0., 1., 1., 1., 1., 0.],  \n",
        "          [ 1., 1., 1., 1., 1., 1.], \n",
        "          [ 1., 1., 1., 1., 1., 1.], \n",
        "          [ 1., 1., 1., 1., 1., 1.], \n",
        "          [ 0., 1., 1., 1., 1., 0.],\n",
        "          [ 0., 0., 1., 1., 0., 0.]]\n",
        "\n",
        "# ----------------------------------------------------- Init ---\n",
        "img = mpimg.imread('../input/images/1562.jpg')\n",
        "img = np.divide(img,np.max(np.max(img))) # Normalize \n",
        "\n",
        "\n",
        "dilation = ndi.morphology.binary_dilation(img, structure=struct).astype(img.dtype)\n",
        "img = dilation\n",
        "img = np.divide(img,np.max(np.max(img))) # Normalize\n",
        "skeleton = skeletonize(img)\n",
        "\n",
        "# Network Extraction\n",
        "graph = zhang_suen_node_detection(skeleton*255)\n",
        "graph = breadth_first_edge_detection(skeleton, img, graph)\n",
        "data = draw_graph(img, graph)"
      ]
    },
    {
      "cell_type": "markdown",
      "metadata": {
        "_cell_guid": "4ea64678-a243-38b8-d1e8-eade14b3147e"
      },
      "source": [
        "# Pruned Network Results\n"
      ]
    },
    {
      "cell_type": "code",
      "execution_count": null,
      "metadata": {
        "_cell_guid": "1c8cf765-d88b-1a6c-ee06-1968a13c3c42"
      },
      "outputs": [],
      "source": [
        "fig, (ax1, ax2, ax3) = plt.subplots(1, 3, figsize=(8, 4.5), sharex=True, sharey=True, subplot_kw={'adjustable':'box-forced'})\n",
        "\n",
        "ax1.imshow(img, cmap=plt.cm.gray)\n",
        "ax1.axis('off')\n",
        "ax1.set_title('Original', fontsize=20)\n",
        "\n",
        "ax2.imshow(skeleton, cmap=plt.cm.gray)\n",
        "ax2.axis('off')\n",
        "ax2.set_title('Skeleton', fontsize=20)\n",
        "\n",
        "ax3.imshow(data, cmap=plt.cm.gray)\n",
        "ax3.axis('off')\n",
        "ax3.set_title('Found Network', fontsize=20)\n",
        "\n",
        "fig.subplots_adjust(wspace=0.02, hspace=0.02, top=0.98,\n",
        "                    bottom=0.02, left=0.02, right=0.98)\n",
        "\n",
        "plt.show()"
      ]
    }
  ],
  "metadata": {
    "_change_revision": 0,
    "_is_fork": false,
    "kernelspec": {
      "display_name": "Python 3",
      "language": "python",
      "name": "python3"
    },
    "language_info": {
      "codemirror_mode": {
        "name": "ipython",
        "version": 3
      },
      "file_extension": ".py",
      "mimetype": "text/x-python",
      "name": "python",
      "nbconvert_exporter": "python",
      "pygments_lexer": "ipython3",
      "version": "3.5.2"
    }
  },
  "nbformat": 4,
  "nbformat_minor": 0
}