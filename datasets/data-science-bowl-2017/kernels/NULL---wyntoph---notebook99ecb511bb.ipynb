{
  "metadata": {
    "kernelspec": {
      "display_name": "Python 3",
      "language": "python",
      "name": "python3"
    },
    "language_info": {
      "codemirror_mode": {
        "name": "ipython",
        "version": 3
      },
      "file_extension": ".py",
      "mimetype": "text/x-python",
      "name": "python",
      "nbconvert_exporter": "python",
      "pygments_lexer": "ipython3",
      "version": "3.6.0"
    }
  },
  "nbformat": 4,
  "nbformat_minor": 0,
  "cells": [
    {
      "metadata": {
        "_cell_guid": "8c070763-3acd-921c-eabb-59107d64c3bb",
        "_active": false,
        "collapsed": false
      },
      "source": "Experimenting/Learning CNN\nSource: Python: Deeper Insights into Machine Learning (Sebastian Raschka, David Julian, John Hearth -p.741)",
      "execution_count": null,
      "cell_type": "markdown",
      "outputs": [],
      "execution_state": "idle"
    },
    {
      "metadata": {
        "_cell_guid": "8cb81d44-b8e3-4d27-251b-2d23acbaac64",
        "_active": false,
        "collapsed": false
      },
      "source": "import theano\nimport numpy as np",
      "execution_count": null,
      "cell_type": "code",
      "outputs": [],
      "execution_state": "idle"
    },
    {
      "metadata": {
        "_cell_guid": "4d32102c-0113-0a6f-89a6-cee39d9a4895",
        "_active": true,
        "collapsed": false
      },
      "source": "class LeNetConvPoolLayer(object):\n    \n    def __init__(self, rng, input, filter_shape, image_shape, poolsize=(2,2)):\n        assert image_shape[1] == filter_shape[1]\n        self.input = input\n        \n        fan_in = np.prod(filter_shape[1:])\n        fan_out = (filter_shape[0]*np.prod(filter_shape[2:]))",
      "execution_count": null,
      "cell_type": "code",
      "outputs": [],
      "execution_state": "idle"
    },
    {
      "metadata": {
        "_cell_guid": "006e74c0-dabf-6f45-25d0-2f8677426f20",
        "_active": false,
        "collapsed": false
      },
      "source": null,
      "execution_count": null,
      "cell_type": "code",
      "outputs": [],
      "execution_state": "idle"
    },
    {
      "metadata": {
        "_cell_guid": "90e4792f-7625-b5d2-e293-de4764f4a67d",
        "_active": false,
        "collapsed": false
      },
      "source": null,
      "execution_count": null,
      "cell_type": "code",
      "outputs": [],
      "execution_state": "idle"
    }
  ]
}