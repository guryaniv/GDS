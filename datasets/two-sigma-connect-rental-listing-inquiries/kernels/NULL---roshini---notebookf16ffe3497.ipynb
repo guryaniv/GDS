{
  "metadata": {
    "kernelspec": {
      "display_name": "Python 3",
      "language": "python",
      "name": "python3"
    },
    "language_info": {
      "codemirror_mode": {
        "name": "ipython",
        "version": 3
      },
      "file_extension": ".py",
      "mimetype": "text/x-python",
      "name": "python",
      "nbconvert_exporter": "python",
      "pygments_lexer": "ipython3",
      "version": "3.6.0"
    }
  },
  "nbformat": 4,
  "nbformat_minor": 0,
  "cells": [
    {
      "metadata": {
        "_cell_guid": "dc6bc9ee-fa9f-8df0-71c7-3d34a4ad8a5d",
        "_active": false,
        "collapsed": false
      },
      "source": "# This Python 3 environment comes with many helpful analytics libraries installed\n# It is defined by the kaggle/python docker image: https://github.com/kaggle/docker-python\n# For example, here's several helpful packages to load in \n\nimport numpy as np # linear algebra\nimport pandas as pd # data processing, CSV file I/O (e.g. pd.read_csv)\n\n# Input data files are available in the \"../input/\" directory.\n# For example, running this (by clicking run or pressing Shift+Enter) will list the files in the input directory\n\nfrom subprocess import check_output\nprint(check_output([\"ls\", \"../input\"]).decode(\"utf8\"))\n\n# Any results you write to the current directory are saved as output.\nimport seaborn as sns\ncolor = sns.color_palette()\n\n%matplotlib inline\n\npd.options.mode.chained_assignment = None  # default='warn'",
      "execution_count": 1,
      "cell_type": "code",
      "outputs": [],
      "execution_state": "idle"
    },
    {
      "metadata": {
        "_cell_guid": "21a2fa3c-a8e1-b676-b525-847df4ea819c",
        "_active": false,
        "collapsed": false
      },
      "source": "\ntrain_df = pd.read_json(\"../input/train.json\")\ntrain_df.head()",
      "execution_count": 2,
      "cell_type": "code",
      "outputs": [],
      "execution_state": "idle"
    },
    {
      "metadata": {
        "_cell_guid": "65ecad54-49fb-05f5-03ec-427011af7539",
        "_active": false,
        "collapsed": false
      },
      "source": "import matplotlib.pyplot as plt\nimport seaborn as sns\ncolor = sns.color_palette()\n\ntrain_df[\"created\"] = pd.to_datetime(train_df[\"created\"])\ntrain_df[\"date_created\"] = train_df[\"created\"].dt.date\ncnt_srs = train_df['date_created'].value_counts()\n\n\nplt.figure(figsize=(12,4))\nax = plt.subplot(111)\nax.bar(cnt_srs.index, cnt_srs.values, alpha=0.8)\nax.xaxis_date()\nplt.xticks(rotation='vertical')\nplt.show()",
      "execution_count": 4,
      "cell_type": "code",
      "outputs": [],
      "execution_state": "idle"
    },
    {
      "metadata": {
        "_cell_guid": "314a4774-9e1a-49fa-b92f-8d7a8f9e3aa8",
        "_active": true,
        "collapsed": false
      },
      "source": null,
      "execution_count": null,
      "cell_type": "code",
      "outputs": []
    }
  ]
}