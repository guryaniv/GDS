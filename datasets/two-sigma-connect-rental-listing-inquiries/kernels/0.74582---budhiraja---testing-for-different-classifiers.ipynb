{
  "cells": [
    {
      "cell_type": "markdown",
      "metadata": {
        "_cell_guid": "5847e130-a092-14a0-9153-5233e9949f55"
      },
      "source": [
        "Trying Different Classifiers"
      ]
    },
    {
      "cell_type": "code",
      "execution_count": null,
      "metadata": {
        "_cell_guid": "554d6e91-8810-cb15-742e-08f7915130d4"
      },
      "outputs": [],
      "source": [
        "# This Python 3 environment comes with many helpful analytics libraries installed\n",
        "# It is defined by the kaggle/python docker image: https://github.com/kaggle/docker-python\n",
        "# For example, here's several helpful packages to load in \n",
        "\n",
        "import numpy as np # linear algebra\n",
        "import pandas as pd # data processing, CSV file I/O (e.g. pd.read_csv)\n",
        "\n",
        "# Input data files are available in the \"../input/\" directory.\n",
        "# For example, running this (by clicking run or pressing Shift+Enter) will list the files in the input directory\n",
        "\n",
        "from subprocess import check_output\n",
        "print(check_output([\"ls\", \"../input\"]).decode(\"utf8\"))\n",
        "\n",
        "# Any results you write to the current directory are saved as output."
      ]
    },
    {
      "cell_type": "code",
      "execution_count": null,
      "metadata": {
        "_cell_guid": "cab8133c-5003-284b-5eb2-cf62a14c3f06"
      },
      "outputs": [],
      "source": [
        "import os\n",
        "import sys\n",
        "import operator\n",
        "import numpy as np\n",
        "import pandas as pd\n",
        "from scipy import sparse\n",
        "import xgboost as xgb\n",
        "from sklearn import model_selection, preprocessing, ensemble\n",
        "from sklearn.metrics import log_loss\n",
        "from sklearn.feature_extraction.text import TfidfVectorizer, CountVectorizer"
      ]
    },
    {
      "cell_type": "code",
      "execution_count": null,
      "metadata": {
        "_cell_guid": "480e2606-8271-1415-3748-4465b6fbaea4"
      },
      "outputs": [],
      "source": [
        "data_path = \"../input/\"\n",
        "train_file = data_path + \"train.json\"\n",
        "test_file = data_path + \"test.json\"\n",
        "train_df = pd.read_json(train_file)\n",
        "test_df = pd.read_json(test_file)\n",
        "print(train_df.shape)\n",
        "print(test_df.shape)"
      ]
    },
    {
      "cell_type": "code",
      "execution_count": null,
      "metadata": {
        "_cell_guid": "abc95421-1cb7-da85-4b07-4a779fe339b0"
      },
      "outputs": [],
      "source": [
        "features_to_use  = [\"bathrooms\", \"bedrooms\", \"latitude\", \"longitude\", \"price\"]\n",
        "\n",
        "# count of photos #\n",
        "train_df[\"num_photos\"] = train_df[\"photos\"].apply(len)\n",
        "test_df[\"num_photos\"] = test_df[\"photos\"].apply(len)\n",
        "\n",
        "# count of \"features\" #\n",
        "train_df[\"num_features\"] = train_df[\"features\"].apply(len)\n",
        "test_df[\"num_features\"] = test_df[\"features\"].apply(len)\n",
        "\n",
        "# count of words present in description column #\n",
        "train_df[\"num_description_words\"] = train_df[\"description\"].apply(lambda x: len(x.split(\" \")))\n",
        "test_df[\"num_description_words\"] = test_df[\"description\"].apply(lambda x: len(x.split(\" \")))\n",
        "\n",
        "# convert the created column to datetime object so as to extract more features \n",
        "train_df[\"created\"] = pd.to_datetime(train_df[\"created\"])\n",
        "test_df[\"created\"] = pd.to_datetime(test_df[\"created\"])\n",
        "\n",
        "# Let us extract some features like year, month, day, hour from date columns #\n",
        "train_df[\"created_year\"] = train_df[\"created\"].dt.year\n",
        "test_df[\"created_year\"] = test_df[\"created\"].dt.year\n",
        "train_df[\"created_month\"] = train_df[\"created\"].dt.month\n",
        "test_df[\"created_month\"] = test_df[\"created\"].dt.month\n",
        "train_df[\"created_day\"] = train_df[\"created\"].dt.day\n",
        "test_df[\"created_day\"] = test_df[\"created\"].dt.day\n",
        "train_df[\"created_hour\"] = train_df[\"created\"].dt.hour\n",
        "test_df[\"created_hour\"] = test_df[\"created\"].dt.hour\n",
        "\n",
        "# adding all these new features to use list #\n",
        "features_to_use.extend([\"num_photos\", \"num_features\", \"num_description_words\",\"created_year\", \"created_month\", \"created_day\", \"listing_id\", \"created_hour\"])"
      ]
    },
    {
      "cell_type": "code",
      "execution_count": null,
      "metadata": {
        "_cell_guid": "94221816-c9ad-224a-4cdc-39f2319ad39b"
      },
      "outputs": [],
      "source": [
        "categorical = [\"display_address\", \"manager_id\", \"building_id\", \"street_address\"]\n",
        "for f in categorical:\n",
        "        if train_df[f].dtype=='object':\n",
        "            #print(f)\n",
        "            lbl = preprocessing.LabelEncoder()\n",
        "            lbl.fit(list(train_df[f].values) + list(test_df[f].values))\n",
        "            train_df[f] = lbl.transform(list(train_df[f].values))\n",
        "            test_df[f] = lbl.transform(list(test_df[f].values))\n",
        "            features_to_use.append(f)"
      ]
    },
    {
      "cell_type": "code",
      "execution_count": null,
      "metadata": {
        "_cell_guid": "b47a7472-f212-fa61-4206-c9d075272b69"
      },
      "outputs": [],
      "source": [
        "#We have features column which is a list of string values. \n",
        "#So we can first combine all the strings together to get a single string and then apply count vectorizer on top of it.\n",
        "train_df['features'] = train_df[\"features\"].apply(lambda x: \" \".join([\"_\".join(i.lower().split(\" \")) for i in x]))\n",
        "test_df['features'] = test_df[\"features\"].apply(lambda x: \" \".join([\"_\".join(i.lower().split(\" \")) for i in x]))\n",
        "print(train_df[\"features\"].head())\n",
        "tfidf = CountVectorizer(stop_words='english', max_features=200)\n",
        "tr_sparse = tfidf.fit_transform(train_df[\"features\"])\n",
        "te_sparse = tfidf.transform(test_df[\"features\"])"
      ]
    },
    {
      "cell_type": "code",
      "execution_count": null,
      "metadata": {
        "_cell_guid": "7718d4c8-ff5a-ca28-44bf-425ae210836d"
      },
      "outputs": [],
      "source": [
        "train_X = sparse.hstack([train_df[features_to_use], tr_sparse]).tocsr()\n",
        "test_X = sparse.hstack([test_df[features_to_use], te_sparse]).tocsr()\n",
        "\n",
        "target_num_map = {'high':0, 'medium':1, 'low':2}\n",
        "train_y = np.array(train_df['interest_level'].apply(lambda x: target_num_map[x]))\n",
        "print(train_X.shape, test_X.shape)"
      ]
    },
    {
      "cell_type": "code",
      "execution_count": null,
      "metadata": {
        "_cell_guid": "51abf52f-21b3-44a0-548f-a7f024e8f2c4"
      },
      "outputs": [],
      "source": [
        "from sklearn.ensemble import RandomForestClassifier\n",
        "from sklearn.model_selection import cross_val_score\n",
        "from sklearn.naive_bayes import GaussianNB\n",
        "clf = GaussianNB()\n",
        "#clf.fit(train_X, train_y)\n",
        "scores = cross_val_score(clf, train_X.toarray(), train_y, cv=3,scoring='neg_log_loss')\n",
        "print (scores)"
      ]
    },
    {
      "cell_type": "code",
      "execution_count": null,
      "metadata": {
        "_cell_guid": "21f49410-2a38-b48c-7d82-cddb3983c738"
      },
      "outputs": [],
      "source": [
        "clf.fit(train_X.toarray(), train_y)\n",
        "submission = clf.predict_proba(test_X.toarray())"
      ]
    },
    {
      "cell_type": "code",
      "execution_count": null,
      "metadata": {
        "_cell_guid": "6d3c3775-c004-c37a-1109-160854075618"
      },
      "outputs": [],
      "source": [
        "out_df = pd.DataFrame(submission)\n",
        "out_df.columns = [\"high\", \"medium\", \"low\"]\n",
        "out_df[\"listing_id\"] = test_df.listing_id.values\n",
        "out_df.to_csv(\"xgb_starter2.csv\", index=False)"
      ]
    }
  ],
  "metadata": {
    "_change_revision": 0,
    "_is_fork": false,
    "kernelspec": {
      "display_name": "Python 3",
      "language": "python",
      "name": "python3"
    },
    "language_info": {
      "codemirror_mode": {
        "name": "ipython",
        "version": 3
      },
      "file_extension": ".py",
      "mimetype": "text/x-python",
      "name": "python",
      "nbconvert_exporter": "python",
      "pygments_lexer": "ipython3",
      "version": "3.6.0"
    }
  },
  "nbformat": 4,
  "nbformat_minor": 0
}