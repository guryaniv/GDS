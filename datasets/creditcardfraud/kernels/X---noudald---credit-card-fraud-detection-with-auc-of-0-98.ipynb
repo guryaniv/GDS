{
  "cells": [
    {
      "cell_type": "markdown",
      "metadata": {
        "_cell_guid": "d07c4946-9821-8488-fd6a-6740e5ee8d32"
      },
      "source": [
        "Credit card fraud detection with auc of >0.98"
      ]
    },
    {
      "cell_type": "code",
      "execution_count": null,
      "metadata": {
        "_cell_guid": "5da60066-0aa3-d4cd-b382-63f0b2505195"
      },
      "outputs": [],
      "source": [
        "# This Python 3 environment comes with many helpful analytics libraries installed\n",
        "# It is defined by the kaggle/python docker image: https://github.com/kaggle/docker-python\n",
        "# For example, here's several helpful packages to load in \n",
        "\n",
        "import numpy as np # linear algebra\n",
        "import pandas as pd # data processing, CSV file I/O (e.g. pd.read_csv)\n",
        "import seaborn as sns\n",
        "\n",
        "import matplotlib.gridspec as gridspec\n",
        "import matplotlib.pyplot as plt\n",
        "\n",
        "import xgboost as xgb\n",
        "\n",
        "from sklearn.model_selection import train_test_split\n",
        "from sklearn.metrics import roc_curve, auc\n",
        "from sklearn.manifold import TSNE\n",
        "from sklearn.preprocessing import StandardScaler\n",
        "\n",
        "# Input data files are available in the \"../input/\" directory.\n",
        "# For example, running this (by clicking run or pressing Shift+Enter) will list the files in the input directory\n",
        "\n",
        "from subprocess import check_output\n",
        "print(check_output([\"ls\", \"../input\"]).decode(\"utf8\"))\n",
        "\n",
        "# Any results you write to the current directory are saved as output."
      ]
    },
    {
      "cell_type": "code",
      "execution_count": null,
      "metadata": {
        "_cell_guid": "dcf19c85-862f-1f4b-c363-db570459391c"
      },
      "outputs": [],
      "source": [
        "db = pd.read_csv('../input/creditcard.csv')\n",
        "db.head()"
      ]
    },
    {
      "cell_type": "code",
      "execution_count": null,
      "metadata": {
        "_cell_guid": "a3ab1404-b5f9-b39b-bec1-5443956aab6b"
      },
      "outputs": [],
      "source": [
        "db.describe()"
      ]
    },
    {
      "cell_type": "code",
      "execution_count": null,
      "metadata": {
        "_cell_guid": "16504f62-fd2f-36a4-d192-aa3de3fb3120"
      },
      "outputs": [],
      "source": [
        "fraud = db[db.Class == 1]\n",
        "normal = db[db.Class == 0]"
      ]
    },
    {
      "cell_type": "code",
      "execution_count": null,
      "metadata": {
        "_cell_guid": "b08d52fc-c1bf-4f62-c8ac-b3b6d70e16b2"
      },
      "outputs": [],
      "source": [
        "# Feature extraction based on the method of Currie32\n",
        "# https://www.kaggle.com/currie32/d/dalpozz/creditcardfraud/predicting-fraud-with-tensorflow\n",
        "\n",
        "features = db.ix[:,1:29].columns\n",
        "plt.figure(figsize = (12, 28*4))\n",
        "gs = gridspec.GridSpec(28, 1)\n",
        "\n",
        "for i, cn in enumerate(db[features]):\n",
        "    ax = plt.subplot(gs[i])\n",
        "    sns.distplot(fraud[cn])\n",
        "    sns.distplot(normal[cn])\n",
        "    ax.set_xlabel('')\n",
        "    ax.set_title('Histogram of feature {}'.format(str(cn)))"
      ]
    },
    {
      "cell_type": "code",
      "execution_count": null,
      "metadata": {
        "_cell_guid": "84749e76-c589-3f84-baa0-7654e4239506"
      },
      "outputs": [],
      "source": [
        "# Unsupervised with T-SNE, where similar distribution features are dropped\n",
        "db2 = pd.read_csv('../input/creditcard.csv')\n",
        "db2.drop(['V8', 'V13', 'V15', 'V20', 'V22', 'V23', 'V24', 'V25', 'V26', 'V27', 'V28'], axis = 1)\n",
        "db_tsne = pd.concat([db2[db2.Class == 1], db2[db2.Class == 0].sample(n = 1000)], axis = 0)"
      ]
    },
    {
      "cell_type": "code",
      "execution_count": null,
      "metadata": {
        "_cell_guid": "a8b701f6-cb2f-af4a-5740-8f2eb97bb628"
      },
      "outputs": [],
      "source": [
        "scaler = StandardScaler()\n",
        "y = db_tsne.ix[:,-1].values\n",
        "db_tsne = db_tsne.drop('Class', axis = 1)\n",
        "db_std = scaler.fit_transform(db_tsne)"
      ]
    },
    {
      "cell_type": "code",
      "execution_count": null,
      "metadata": {
        "_cell_guid": "23bcba76-c298-6da8-786e-2426c4ce13ee"
      },
      "outputs": [],
      "source": [
        "tsne = TSNE(n_components = 2, perplexity = 50, n_iter = 2000, verbose = 1)\n",
        "tsne_2d = tsne.fit_transform(db_std)\n",
        "plt.figure()\n",
        "plt.scatter(tsne_2d[:, 0], tsne_2d[:, 1], c = y)"
      ]
    },
    {
      "cell_type": "code",
      "execution_count": null,
      "metadata": {
        "_cell_guid": "e930e977-d497-5d74-5673-98c4ef20f8d4"
      },
      "outputs": [],
      "source": [
        "# Drop similar distribution features\n",
        "db = pd.read_csv('../input/creditcard.csv')\n",
        "db.drop(['V8', 'V13', 'V15', 'V20', 'V22', 'V23', 'V24', 'V25', 'V26', 'V27', 'V28'], axis = 1)\n",
        "y = db.pop('Class')\n",
        "X = db"
      ]
    },
    {
      "cell_type": "code",
      "execution_count": null,
      "metadata": {
        "_cell_guid": "068f68e8-eca0-26cf-09f4-6355da068242"
      },
      "outputs": [],
      "source": [
        "X_train, X_test = train_test_split(X, test_size = 0.3, random_state = 42)\n",
        "y_train, y_test = train_test_split(y, test_size = 0.3, random_state = 42)"
      ]
    },
    {
      "cell_type": "code",
      "execution_count": null,
      "metadata": {
        "_cell_guid": "5959fb43-53b4-a506-1b78-ab09d302d46c"
      },
      "outputs": [],
      "source": [
        "# Train xgboost to detection credit card fraud. Because the set is very inbalanced we measure the performance\n",
        "# in the area under the curve of the ROC.\n",
        "dtrain = xgb.DMatrix(X_train, y_train)\n",
        "dtest = xgb.DMatrix(X_test, y_test)\n",
        "param = {'max_depth' : 3, 'eta' : 0.1, 'objective' : 'binary:logistic', 'eval_metric' : 'auc' ,'seed' : 42}\n",
        "num_round = 200\n",
        "bst = xgb.train(param, dtrain, num_round, [(dtest, 'test'), (dtrain, 'train')])"
      ]
    },
    {
      "cell_type": "code",
      "execution_count": null,
      "metadata": {
        "_cell_guid": "160385f9-c95e-246a-85ff-77e7612c5d41"
      },
      "outputs": [],
      "source": [
        "xgb.plot_importance(bst)"
      ]
    },
    {
      "cell_type": "code",
      "execution_count": null,
      "metadata": {
        "_cell_guid": "5b97a395-c0d1-89ac-e1b4-258cce2ba18b"
      },
      "outputs": [],
      "source": [
        "preds = bst.predict(dtest)\n",
        "fpr, tpr, thresholds = roc_curve(y_test, preds)\n",
        "roc_auc = auc(fpr, tpr)"
      ]
    },
    {
      "cell_type": "code",
      "execution_count": null,
      "metadata": {
        "_cell_guid": "e25540ef-7e68-8a19-12df-955c67918d6c"
      },
      "outputs": [],
      "source": [
        "plt.clf()\n",
        "plt.plot(fpr, tpr, label = 'ROC curve (area = {})'.format(roc_auc))\n",
        "plt.xscale('log')\n",
        "plt.xlim([0.000001, 1.0])\n",
        "plt.ylim([0.0, 1.0])\n",
        "plt.xlabel('False positive rate')\n",
        "plt.xlabel('True positive rate')\n",
        "plt.title('Credit card fraud detection ROC')\n",
        "plt.legend(loc = 'lower right')"
      ]
    },
    {
      "cell_type": "markdown",
      "metadata": {
        "_cell_guid": "a11572cf-e6bd-be7c-ce7c-4014edd1b291"
      },
      "source": [
        "That's not bad. Some improvements that could be made:\n",
        "1. Optimization of xgboost parameters.\n",
        "2. More training, cross validation, neural network?"
      ]
    },
    {
      "cell_type": "code",
      "execution_count": null,
      "metadata": {
        "_cell_guid": "fbd02852-384d-501e-19f7-dc3d2abe1031"
      },
      "outputs": [],
      "source": ""
    }
  ],
  "metadata": {
    "_change_revision": 0,
    "_is_fork": false,
    "kernelspec": {
      "display_name": "Python 3",
      "language": "python",
      "name": "python3"
    },
    "language_info": {
      "codemirror_mode": {
        "name": "ipython",
        "version": 3
      },
      "file_extension": ".py",
      "mimetype": "text/x-python",
      "name": "python",
      "nbconvert_exporter": "python",
      "pygments_lexer": "ipython3",
      "version": "3.6.0"
    }
  },
  "nbformat": 4,
  "nbformat_minor": 0
}