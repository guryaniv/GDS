{
  "cells": [
    {
      "cell_type": "code",
      "execution_count": null,
      "metadata": {
        "_cell_guid": "28cb36bf-bdcc-c4c5-6819-b823c186fbf7"
      },
      "outputs": [],
      "source": [
        "import numpy as np\n",
        "import pandas as pd \n",
        "\n",
        "from subprocess import check_output\n",
        "print(check_output([\"ls\", \"../input\"]).decode(\"utf8\"))"
      ]
    },
    {
      "cell_type": "code",
      "execution_count": null,
      "metadata": {
        "_cell_guid": "a6383f8f-0156-a6f4-8c0d-6e4063c6e2c5"
      },
      "outputs": [],
      "source": [
        "train = pd.read_json(\"../input/train.json\")\n",
        "train.info()"
      ]
    },
    {
      "cell_type": "code",
      "execution_count": null,
      "metadata": {
        "_cell_guid": "7c9f7d0d-190f-ec5c-57c5-7685b380b14c"
      },
      "outputs": [],
      "source": [
        "X = train.drop(\"interest_level\", 1)\n",
        "Y = train[\"interest_level\"].astype(\"category\")"
      ]
    },
    {
      "cell_type": "code",
      "execution_count": null,
      "metadata": {
        "_cell_guid": "c2ff1ff3-de89-3c35-5007-7c7585f419e0"
      },
      "outputs": [],
      "source": [
        "X[\"street_address\"] = X[\"street_address\"].astype('category').cat.codes\n",
        "X[\"created\"] = X[\"created\"].astype('category').cat.codes\n",
        "X[\"building_id\"] = X[\"building_id\"].astype('category').cat.codes\n",
        "X[\"description\"] = X[\"description\"].astype('category').cat.codes\n",
        "X[\"display_address\"] = X[\"display_address\"].astype('category').cat.codes\n",
        "X[\"manager_id\"] = X[\"manager_id\"].astype('category').cat.codes"
      ]
    },
    {
      "cell_type": "code",
      "execution_count": null,
      "metadata": {
        "_cell_guid": "832ba1b3-b234-fd63-a5bb-9451d7770c88"
      },
      "outputs": [],
      "source": [
        "features = [\"bathrooms\", \"bedrooms\", \"latitude\", \"longitude\", \"price\", \"street_address\", \"created\", \n",
        "           \"description\", \"display_address\"]\n",
        "X = X[features]"
      ]
    },
    {
      "cell_type": "code",
      "execution_count": null,
      "metadata": {
        "_cell_guid": "0a3fc727-17eb-6c76-e9d0-2b0058a89dfc"
      },
      "outputs": [],
      "source": [
        "from sklearn.model_selection import train_test_split\n",
        "X_train, X_test, y_train, y_test = train_test_split(X, Y, test_size=0.20, random_state=42)"
      ]
    },
    {
      "cell_type": "code",
      "execution_count": null,
      "metadata": {
        "_cell_guid": "1d3b3b5f-af54-45f5-cd2a-2f6a27345810"
      },
      "outputs": [],
      "source": [
        "from sklearn.metrics import accuracy_score, log_loss\n",
        "from sklearn.neighbors import KNeighborsClassifier\n",
        "from sklearn.tree import DecisionTreeClassifier\n",
        "from sklearn.ensemble import RandomForestClassifier, AdaBoostClassifier, GradientBoostingClassifier\n",
        "from sklearn.naive_bayes import GaussianNB\n",
        "from sklearn.discriminant_analysis import LinearDiscriminantAnalysis\n",
        "from sklearn.discriminant_analysis import QuadraticDiscriminantAnalysis\n",
        "\n",
        "classifiers = [\n",
        "    KNeighborsClassifier(3),\n",
        "    DecisionTreeClassifier(),\n",
        "    RandomForestClassifier(),\n",
        "    AdaBoostClassifier(),\n",
        "    GradientBoostingClassifier(),\n",
        "    GaussianNB(),\n",
        "    LinearDiscriminantAnalysis(),\n",
        "    QuadraticDiscriminantAnalysis()]\n",
        "\n",
        "# Logging for Visual Comparison\n",
        "log_cols=[\"Classifier\", \"Accuracy\", \"Log Loss\"]\n",
        "log = pd.DataFrame(columns=log_cols)\n",
        "\n",
        "for clf in classifiers:\n",
        "    clf.fit(X_train, y_train)\n",
        "    name = clf.__class__.__name__\n",
        "    \n",
        "    print(\"=\"*30)\n",
        "    print(name)\n",
        "    \n",
        "    print('****Results****')\n",
        "    train_predictions = clf.predict(X_test)\n",
        "    acc = accuracy_score(y_test, train_predictions)\n",
        "    print(\"Accuracy: {:.4%}\".format(acc))\n",
        "    \n",
        "    train_predictions = clf.predict_proba(X_test)\n",
        "    ll = log_loss(y_test, train_predictions)\n",
        "    print(\"Log Loss: {}\".format(ll))\n",
        "    \n",
        "    log_entry = pd.DataFrame([[name, acc*100, ll]], columns=log_cols)\n",
        "    log = log.append(log_entry)\n",
        "    \n",
        "print(\"=\"*30)"
      ]
    },
    {
      "cell_type": "code",
      "execution_count": null,
      "metadata": {
        "_cell_guid": "a5befe41-de62-6e4f-44cf-141b0babc2d5"
      },
      "outputs": [],
      "source": [
        "test = pd.read_json(\"../input/test.json\")\n",
        "index = test[\"listing_id\"]\n",
        "test = test[features]"
      ]
    },
    {
      "cell_type": "code",
      "execution_count": null,
      "metadata": {
        "_cell_guid": "951e6318-723f-fcc2-9e2f-da475b187354"
      },
      "outputs": [],
      "source": [
        "olist = list(test.select_dtypes(['object']))\n",
        "for col in olist:\n",
        "    test[col] = test[col].astype('category').cat.codes"
      ]
    },
    {
      "cell_type": "code",
      "execution_count": null,
      "metadata": {
        "_cell_guid": "91bd2203-2fc8-3a78-22bd-28bf4038186f"
      },
      "outputs": [],
      "source": [
        "favorite_clf = LinearDiscriminantAnalysis()\n",
        "favorite_clf.fit(X_train, y_train)\n",
        "test_predictions = favorite_clf.predict_proba(test)"
      ]
    },
    {
      "cell_type": "code",
      "execution_count": null,
      "metadata": {
        "_cell_guid": "aa318baf-ea32-079a-5b71-b2d190ca250d"
      },
      "outputs": [],
      "source": [
        "labels2idx = {label: i for i, label in enumerate(favorite_clf.classes_)}\n",
        "labels2idx"
      ]
    },
    {
      "cell_type": "code",
      "execution_count": null,
      "metadata": {
        "_cell_guid": "85c8271c-a2f2-de7c-d156-7de9cbd18356"
      },
      "outputs": [],
      "source": [
        "submission = pd.DataFrame({\n",
        "        \"listing_id\": index,\n",
        "        \"high\": test_predictions[:,0],\n",
        "        \"medium\":test_predictions[:,2],\n",
        "        \"low\":test_predictions[:,1]\n",
        "    })\n",
        "    \n",
        "columnsTitles=[\"listing_id\",\"high\",\"medium\",\"low\"]\n",
        "submission=submission.reindex(columns=columnsTitles)\n",
        "submission.to_csv('submission.csv', index=False)"
      ]
    },
    {
      "cell_type": "code",
      "execution_count": null,
      "metadata": {
        "_cell_guid": "579c8133-ede6-59d3-c835-3d281f74a6d2"
      },
      "outputs": [],
      "source": [
        "from keras.models import Sequential\n",
        "from keras.layers import Dense"
      ]
    },
    {
      "cell_type": "code",
      "execution_count": null,
      "metadata": {
        "_cell_guid": "e79365fe-ad42-f70a-31fc-7647e2a9b6a1"
      },
      "outputs": [],
      "source": [
        "model = Sequential()\n",
        "model.add(Dense(9, input_dim=9, init=\"normal\", activation=\"relu\"))\n",
        "model.add(Dense(3, init=\"normal\", activation=\"sigmoid\"))"
      ]
    },
    {
      "cell_type": "code",
      "execution_count": null,
      "metadata": {
        "_cell_guid": "7d71ecf9-b834-857a-350f-70306ae88c1f"
      },
      "outputs": [],
      "source": [
        "from keras.utils import np_utils\n",
        "from sklearn.preprocessing import LabelEncoder\n",
        "encoder = LabelEncoder()\n",
        "encoder.fit(Y)\n",
        "encoded_Y = encoder.transform(Y)\n",
        "# convert integers to dummy variables (i.e. one hot encoded)\n",
        "dummy_y = np_utils.to_categorical(encoded_Y)"
      ]
    },
    {
      "cell_type": "code",
      "execution_count": null,
      "metadata": {
        "_cell_guid": "3dfb56fc-16d0-4a9f-7545-20b6b6ce46e8"
      },
      "outputs": [],
      "source": [
        "# Compile model\n",
        "model.compile(loss='categorical_crossentropy', optimizer='adam', metrics=['accuracy'])\n",
        "# Fit the model\n",
        "model.fit(X.values, dummy_y, nb_epoch=10, batch_size=10)"
      ]
    }
  ],
  "metadata": {
    "_change_revision": 0,
    "_is_fork": false,
    "kernelspec": {
      "display_name": "Python 3",
      "language": "python",
      "name": "python3"
    },
    "language_info": {
      "codemirror_mode": {
        "name": "ipython",
        "version": 3
      },
      "file_extension": ".py",
      "mimetype": "text/x-python",
      "name": "python",
      "nbconvert_exporter": "python",
      "pygments_lexer": "ipython3",
      "version": "3.5.2"
    }
  },
  "nbformat": 4,
  "nbformat_minor": 0
}