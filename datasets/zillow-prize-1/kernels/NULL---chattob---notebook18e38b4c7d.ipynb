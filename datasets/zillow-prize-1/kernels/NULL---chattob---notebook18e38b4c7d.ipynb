{
  "cells": [
    {
      "cell_type": "markdown",
      "metadata": {
        "_cell_guid": "4efed723-6ffa-2820-f7d9-c59683396778"
      },
      "source": [
        "From https://www.kaggle.com/anokas/simple-xgboost-starter-0-0655/code"
      ]
    },
    {
      "cell_type": "code",
      "execution_count": null,
      "metadata": {
        "_cell_guid": "387fc1fb-b2ca-fe8c-6034-04b47a36e501"
      },
      "outputs": [],
      "source": [
        "import numpy as np # linear algebra\n",
        "import pandas as pd # data processing, CSV file I/O (e.g. pd.read_csv)\n",
        "import gc\n",
        "\n",
        "import matplotlib.pyplot as plt\n",
        "import seaborn as sns\n",
        "color = sns.color_palette()\n",
        "\n",
        "%matplotlib inline\n",
        "\n",
        "from sklearn.model_selection import train_test_split\n",
        "import xgboost as xgb"
      ]
    },
    {
      "cell_type": "code",
      "execution_count": null,
      "metadata": {
        "_cell_guid": "5590e323-becd-86a4-30fd-853696a29b05"
      },
      "outputs": [],
      "source": [
        "from subprocess import check_output\n",
        "print(check_output([\"ls\", \"../input\"]).decode(\"utf8\"))"
      ]
    },
    {
      "cell_type": "code",
      "execution_count": null,
      "metadata": {
        "_cell_guid": "98e98e75-f148-14e6-c4e6-6197d1f72d35"
      },
      "outputs": [],
      "source": [
        "df_train = pd.read_csv(\"../input/train_2016.csv\")\n",
        "prop = pd.read_csv(\"../input/properties_2016.csv\")\n",
        "sample = pd.read_csv('../input/sample_submission.csv')\n",
        "\n",
        "#train_df.shape\n",
        "#prop_df.shape\n",
        "\n",
        "for c, dtype in zip(prop.columns, prop.dtypes):\n",
        "\tif dtype == np.float64:\n",
        "\t\tprop[c] = prop[c].astype(np.float32)\n",
        "\n",
        "df_train = pd.merge(df_train, prop, on='parcelid', how='left')\n",
        "df_train.head()"
      ]
    },
    {
      "cell_type": "code",
      "execution_count": null,
      "metadata": {
        "_cell_guid": "09eece85-0ad8-5da9-c3c5-0099f04fc544"
      },
      "outputs": [],
      "source": [
        "x = df_train.drop(['parcelid', 'logerror', 'transactiondate', 'propertyzoningdesc', 'propertycountylandusecode'], axis=1)\n",
        "y = df_train['logerror'].values\n",
        "print(x.shape, y.shape)\n",
        "\n",
        "train_columns = x.columns\n",
        "\n",
        "for c in x.dtypes[x.dtypes == object].index.values:\n",
        "    x[c] = (x[c] == True)\n",
        "\n",
        "del df_train; gc.collect()\n",
        "\n",
        "x_train, x_valid, y_train, y_valid = train_test_split(x, y, test_size=0.1, random_state=42)\n",
        "\n",
        "print('Building DMatrix...')\n",
        "\n",
        "d_train = xgb.DMatrix(x_train, label=y_train)\n",
        "d_valid = xgb.DMatrix(x_valid, label=y_valid)\n",
        "\n",
        "del x, y, x_train, x_valid; gc.collect()\n",
        "\n",
        "print('Training ...')\n",
        "\n",
        "params = {}\n",
        "params['eta'] = 0.02\n",
        "params['objective'] = 'reg:linear'\n",
        "params['eval_metric'] = 'mae'\n",
        "params['max_depth'] = 4\n",
        "params['silent'] = 1\n",
        "\n",
        "watchlist = [(d_train, 'train'), (d_valid, 'valid')]\n",
        "clf = xgb.train(params, d_train, 10000, watchlist, early_stopping_rounds=100, verbose_eval=10)\n",
        "\n",
        "del d_train, d_valid; gc.collect()"
      ]
    },
    {
      "cell_type": "code",
      "execution_count": null,
      "metadata": {
        "_cell_guid": "dc3c4056-1afc-d684-bb15-bac65550d00b"
      },
      "outputs": [],
      "source": [
        "print('Building test set ...')\n",
        "\n",
        "sample['parcelid'] = sample['ParcelId']\n",
        "df_test = sample.merge(prop, on='parcelid', how='left')\n",
        "\n",
        "del prop; gc.collect()\n",
        "\n",
        "x_test = df_test[train_columns]\n",
        "for c in x_test.dtypes[x_test.dtypes == object].index.values:\n",
        "    x_test[c] = (x_test[c] == True)\n",
        "\n",
        "del df_test, sample; gc.collect()\n",
        "\n",
        "d_test = xgb.DMatrix(x_test)\n",
        "\n",
        "del x_test; gc.collect()\n",
        "\n",
        "print('Predicting on test ...')\n",
        "\n",
        "p_test = clf.predict(d_test)\n",
        "\n",
        "del d_test; gc.collect()\n",
        "\n",
        "sub = pd.read_csv('../input/sample_submission.csv')\n",
        "for c in sub.columns[sub.columns != 'ParcelId']:\n",
        "    sub[c] = p_test\n",
        "\n",
        "print('Writing csv ...')\n",
        "sub.to_csv('xgb_starter.csv', index=False, float_format='%.4g') # Thanks to @inversion"
      ]
    }
  ],
  "metadata": {
    "_change_revision": 0,
    "_is_fork": false,
    "kernelspec": {
      "display_name": "Python 3",
      "language": "python",
      "name": "python3"
    },
    "language_info": {
      "codemirror_mode": {
        "name": "ipython",
        "version": 3
      },
      "file_extension": ".py",
      "mimetype": "text/x-python",
      "name": "python",
      "nbconvert_exporter": "python",
      "pygments_lexer": "ipython3",
      "version": "3.6.0"
    }
  },
  "nbformat": 4,
  "nbformat_minor": 0
}