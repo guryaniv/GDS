{
  "cells": [
    {
      "cell_type": "code",
      "execution_count": null,
      "metadata": {
        "_cell_guid": "a068f2f9-b0d4-1b05-f6db-b3981ea64780"
      },
      "outputs": [],
      "source": [
        "# This Python 3 environment comes with many helpful analytics libraries installed\n",
        "# It is defined by the kaggle/python docker image: https://github.com/kaggle/docker-python\n",
        "# For example, here's several helpful packages to load in \n",
        "\n",
        "import numpy as np # linear algebra\n",
        "import pandas as pd # data processing, CSV file I/O (e.g. pd.read_csv)\n",
        "\n",
        "# Input data files are available in the \"../input/\" directory.\n",
        "# For example, running this (by clicking run or pressing Shift+Enter) will list the files in the input directory\n",
        "\n",
        "from subprocess import check_output\n",
        "print(check_output([\"ls\", \"../input\"]).decode(\"utf8\"))\n",
        "\n",
        "# Any results you write to the current directory are saved as output."
      ]
    },
    {
      "cell_type": "code",
      "execution_count": null,
      "metadata": {
        "_cell_guid": "a112287b-ddb3-0302-5e6d-7f678746137a"
      },
      "outputs": [],
      "source": [
        "import tensorflow as tf"
      ]
    },
    {
      "cell_type": "code",
      "execution_count": null,
      "metadata": {
        "_cell_guid": "414c2260-2479-12bf-075c-1c8e3d6c9b4f"
      },
      "outputs": [],
      "source": [
        "data = pd.read_csv(\"../input/loan.csv\", low_memory=False)"
      ]
    },
    {
      "cell_type": "code",
      "execution_count": null,
      "metadata": {
        "_cell_guid": "98e27fcb-42c1-e07c-8139-03751b190a0f"
      },
      "outputs": [],
      "source": [
        "sum(data['il_util'].isnull()) "
      ]
    },
    {
      "cell_type": "code",
      "execution_count": null,
      "metadata": {
        "_cell_guid": "90cd99e0-5749-2629-13c0-ce1e1241d49a"
      },
      "outputs": [],
      "source": [
        "data.info()"
      ]
    },
    {
      "cell_type": "code",
      "execution_count": null,
      "metadata": {
        "_cell_guid": "3ba49c25-fc01-e87e-d1d6-f657af49cdad"
      },
      "outputs": [],
      "source": [
        "data.shape"
      ]
    },
    {
      "cell_type": "code",
      "execution_count": null,
      "metadata": {
        "_cell_guid": "5503f252-0762-8aa1-6094-e6a7dfb35554"
      },
      "outputs": [],
      "source": [
        "data.head"
      ]
    },
    {
      "cell_type": "code",
      "execution_count": null,
      "metadata": {
        "_cell_guid": "3bd1c8f3-10f0-c24d-0580-929b991e1f66"
      },
      "outputs": [],
      "source": [
        "df = data[np.isfinite(data['il_util'])]"
      ]
    },
    {
      "cell_type": "code",
      "execution_count": null,
      "metadata": {
        "_cell_guid": "99f90b8c-0d21-8c12-1e58-5c76ec916333"
      },
      "outputs": [],
      "source": [
        "df.apply(lambda x: sum(x.isnull()),axis=0)"
      ]
    },
    {
      "cell_type": "code",
      "execution_count": null,
      "metadata": {
        "_cell_guid": "1a086f27-7338-01b9-c4e2-d54812411b50"
      },
      "outputs": [],
      "source": [
        "df.shape"
      ]
    },
    {
      "cell_type": "code",
      "execution_count": null,
      "metadata": {
        "_cell_guid": "b31c71f6-db5e-68ab-785c-568bbde45c1c"
      },
      "outputs": [],
      "source": [
        "clean_data = data.dropna(thresh=len(data)-200,axis=1)"
      ]
    },
    {
      "cell_type": "code",
      "execution_count": null,
      "metadata": {
        "_cell_guid": "cc48fa2e-d7fb-d83f-9988-a766e1071c1b"
      },
      "outputs": [],
      "source": [
        "clean_data.shape"
      ]
    },
    {
      "cell_type": "code",
      "execution_count": null,
      "metadata": {
        "_cell_guid": "ee7aa26e-dccd-69b2-ead2-f90a01428d1d"
      },
      "outputs": [],
      "source": [
        "clean_data.apply(lambda x: sum(x.isnull()),axis=0)"
      ]
    },
    {
      "cell_type": "code",
      "execution_count": null,
      "metadata": {
        "_cell_guid": "eacf7235-66bf-1a3a-b314-be85a8dd1d2b"
      },
      "outputs": [],
      "source": [
        "clean_data.head"
      ]
    },
    {
      "cell_type": "code",
      "execution_count": null,
      "metadata": {
        "_cell_guid": "6cf9b915-f82a-0fa3-e5a0-c2fa6f8e9590"
      },
      "outputs": [],
      "source": [
        "list(clean_data)"
      ]
    },
    {
      "cell_type": "code",
      "execution_count": null,
      "metadata": {
        "_cell_guid": "108e74ff-d701-a1d2-c3a9-47ebe38ff124"
      },
      "outputs": [],
      "source": [
        "ratio = 0.7\n",
        "msk = np.random.rand(len(clean_data)) < 0.8\n",
        "train_data = clean_data[msk]\n",
        "test_data = clean_data[~msk]"
      ]
    },
    {
      "cell_type": "code",
      "execution_count": null,
      "metadata": {
        "_cell_guid": "2cbb5265-01fa-87b1-d6a3-b866b9862acf"
      },
      "outputs": [],
      "source": [
        "train_data"
      ]
    },
    {
      "cell_type": "code",
      "execution_count": null,
      "metadata": {
        "_cell_guid": "894269d1-e9b8-3f04-7bbd-df4163583054"
      },
      "outputs": [],
      "source": [
        "train_data.shape"
      ]
    },
    {
      "cell_type": "code",
      "execution_count": null,
      "metadata": {
        "_cell_guid": "a41cf312-80ac-2701-2e9b-770f57d17ce1"
      },
      "outputs": [],
      "source": [
        "test_data.shape"
      ]
    },
    {
      "cell_type": "code",
      "execution_count": null,
      "metadata": {
        "_cell_guid": "d5ae0172-5c36-1f35-6740-79c40feeeeda"
      },
      "outputs": [],
      "source": [
        "clean_data['loan_status'].unique\n"
      ]
    },
    {
      "cell_type": "code",
      "execution_count": null,
      "metadata": {
        "_cell_guid": "8fed0b13-9b64-26fc-1782-e4298ad0f4cb"
      },
      "outputs": [],
      "source": [
        "clean_data.loan_status.unique()"
      ]
    },
    {
      "cell_type": "code",
      "execution_count": null,
      "metadata": {
        "_cell_guid": "3c85f040-056b-58d6-43af-6974f909b9bb"
      },
      "outputs": [],
      "source": [
        "y_label = clean_data['loan_status']\n",
        "clean_data['loan_status'].drop"
      ]
    },
    {
      "cell_type": "code",
      "execution_count": null,
      "metadata": {
        "_cell_guid": "f740f517-4c3e-c20a-0f66-7af136001822"
      },
      "outputs": [],
      "source": [
        "y_label.shape"
      ]
    },
    {
      "cell_type": "code",
      "execution_count": null,
      "metadata": {
        "_cell_guid": "50fb8442-94ea-99c2-aae9-161998161f47"
      },
      "outputs": [],
      "source": [
        "clean_data.shape"
      ]
    },
    {
      "cell_type": "code",
      "execution_count": null,
      "metadata": {
        "_cell_guid": "463b1c2d-4b7a-9268-2960-fde1037dfe0c"
      },
      "outputs": [],
      "source": [
        "clean_data"
      ]
    },
    {
      "cell_type": "code",
      "execution_count": null,
      "metadata": {
        "_cell_guid": "223a93e4-7b5c-087e-09d3-2913436fc0d0"
      },
      "outputs": [],
      "source": [
        "list(clean_data)"
      ]
    },
    {
      "cell_type": "code",
      "execution_count": null,
      "metadata": {
        "_cell_guid": "4c1d1661-0e72-c781-cf87-b149599334dd"
      },
      "outputs": [],
      "source": ""
    }
  ],
  "metadata": {
    "_change_revision": 0,
    "_is_fork": false,
    "kernelspec": {
      "display_name": "Python 3",
      "language": "python",
      "name": "python3"
    },
    "language_info": {
      "codemirror_mode": {
        "name": "ipython",
        "version": 3
      },
      "file_extension": ".py",
      "mimetype": "text/x-python",
      "name": "python",
      "nbconvert_exporter": "python",
      "pygments_lexer": "ipython3",
      "version": "3.6.0"
    }
  },
  "nbformat": 4,
  "nbformat_minor": 0
}