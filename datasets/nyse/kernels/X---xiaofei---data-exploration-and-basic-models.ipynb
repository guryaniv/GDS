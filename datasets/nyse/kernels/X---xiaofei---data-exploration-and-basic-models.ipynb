{
  "cells": [
    {
      "cell_type": "markdown",
      "metadata": {
        "_cell_guid": "0ead2c3b-4c7f-f6d8-6357-425daacf3bda"
      },
      "source": ""
    },
    {
      "cell_type": "code",
      "execution_count": null,
      "metadata": {
        "_cell_guid": "51bd71e9-028f-24d7-09fb-900dcf865b0d"
      },
      "outputs": [],
      "source": [
        "import pandas as pd\n",
        "import numpy as np\n",
        "import matplotlib.pyplot as plt\n",
        "import tensorflow as tf\n",
        "%matplotlib inline\n",
        "import math\n",
        "import seaborn as sns\n",
        "from pandas.tools.plotting import scatter_matrix\n",
        "\n",
        "from sklearn.preprocessing import MinMaxScaler"
      ]
    },
    {
      "cell_type": "markdown",
      "metadata": {
        "_cell_guid": "f031867f-8462-ccf3-400b-f248e6f8e124"
      },
      "source": ""
    },
    {
      "cell_type": "code",
      "execution_count": null,
      "metadata": {
        "_cell_guid": "a114c0a5-f2eb-34b6-3b8b-4cdc587f1078"
      },
      "outputs": [],
      "source": [
        "\n",
        "#fundamentals = pd.read_csv(path + '/project/data/fundamentals.csv')\n",
        "prices_split_adjusted = pd.read_csv('prices-split-adjusted.csv')\n",
        "#prices = pd.read_csv(path + \"/project/data/prices.csv\")\n",
        "#securities = pd.read_csv(path + \"/project/data/securities.csv\")"
      ]
    },
    {
      "cell_type": "markdown",
      "metadata": {
        "_cell_guid": "4bccd0ec-434a-5a88-2f6d-e68e3bba5eb4"
      },
      "source": ""
    },
    {
      "cell_type": "code",
      "execution_count": null,
      "metadata": {
        "_cell_guid": "0547efa5-181f-e698-17c4-44531dd830a8",
        "collapsed": true
      },
      "outputs": [],
      "source": ""
    },
    {
      "cell_type": "code",
      "execution_count": null,
      "metadata": {
        "_cell_guid": "a700475b-56f9-2d2e-acbb-28800c1190f8"
      },
      "outputs": [],
      "source": ""
    },
    {
      "cell_type": "code",
      "execution_count": null,
      "metadata": {
        "_cell_guid": "c7b354bd-a785-f0f7-d1f8-cb1c891eb4e8"
      },
      "outputs": [],
      "source": ""
    },
    {
      "cell_type": "code",
      "execution_count": null,
      "metadata": {
        "_cell_guid": "f20e22d8-02f1-f782-b451-4764f90720d1"
      },
      "outputs": [],
      "source": ""
    },
    {
      "cell_type": "code",
      "execution_count": null,
      "metadata": {
        "_cell_guid": "86db95c0-a705-13e1-dc86-ea94eeb6b3bf"
      },
      "outputs": [],
      "source": ""
    },
    {
      "cell_type": "code",
      "execution_count": null,
      "metadata": {
        "_cell_guid": "7721a750-e828-e3af-3f3f-f3d2ffb9c2d6",
        "collapsed": true
      },
      "outputs": [],
      "source": ""
    },
    {
      "cell_type": "code",
      "execution_count": null,
      "metadata": {
        "_cell_guid": "169a5a7e-95fe-d731-07bb-ef923afca597",
        "collapsed": true
      },
      "outputs": [],
      "source": ""
    },
    {
      "cell_type": "code",
      "execution_count": null,
      "metadata": {
        "_cell_guid": "344af9e7-6597-5c49-31de-5255e77b6bb6",
        "collapsed": true
      },
      "outputs": [],
      "source": ""
    },
    {
      "cell_type": "markdown",
      "metadata": {
        "_cell_guid": "32f52b53-4d6f-e129-a400-a185976d9c8a"
      },
      "source": ""
    },
    {
      "cell_type": "code",
      "execution_count": null,
      "metadata": {
        "_cell_guid": "525bf168-dd98-c788-342f-96d654fdd1a0",
        "collapsed": true
      },
      "outputs": [],
      "source": ""
    },
    {
      "cell_type": "code",
      "execution_count": null,
      "metadata": {
        "_cell_guid": "865031dc-d292-fc3a-93b7-31ff4c575a5b"
      },
      "outputs": [],
      "source": ""
    },
    {
      "cell_type": "markdown",
      "metadata": {
        "_cell_guid": "96aaa9aa-956f-87af-463a-37991fe3f34b"
      },
      "source": ""
    },
    {
      "cell_type": "code",
      "execution_count": null,
      "metadata": {
        "_cell_guid": "23b06b06-ca59-1c52-9f48-ba49cfd79f4b"
      },
      "outputs": [],
      "source": [
        "def visualization(df):\n",
        "    \n",
        "    plt.figure(figsize=(20,10))\n",
        "    df.plot(kind = 'box',subplots = True, layout = (1,5), sharex = False, sharey = False)\n",
        "    \n",
        "    #plt.title(\"Box Plot of the Stock Prices for \" + name)\n",
        "    \n",
        "    \n",
        "    plt.figure(figsize=(20,10))\n",
        "    df.hist(layout=(2,3))\n",
        "    scatter_matrix(df, alpha=0.2, diagonal='kde')\n",
        "    #plt.title(\"Histogram of the Stock Prices for \" + name)\n",
        "    \n",
        "    plt.figure(figsize=(20,10))\n",
        "    df.iloc[:,2:4].plot(linewidth=1.2)\n",
        "    plt.xticks( rotation=90)\n",
        "    plt.ylabel('Lowest and highest prices', fontsize=20)\n",
        "    plt.xlabel('Time',fontsize=20)\n",
        "    plt.show()\n",
        "  \n",
        "    #p.savefig(name + '_low_and_high.png')\n",
        "    \n",
        "    plt.figure(figsize=(20,8))\n",
        "    df.iloc[:, 0:2].plot(linewidth=1.2)\n",
        "    plt.xticks( rotation=90)\n",
        "    plt.ylabel('Open and Close Prices',fontsize=20)\n",
        "    plt.xlabel('Time',fontsize=20)\n",
        "    plt.show()\n",
        "    #p.savefig(name + '_open_and_close.png')\n",
        "    \n",
        "    plt.figure(figsize=(20,8))\n",
        "    (df.iloc[:, 1] - df.iloc[:,0]).plot(linewidth=1.2)\n",
        "    plt.xticks( rotation=90)\n",
        "    plt.ylabel('Gain',fontsize=20)\n",
        "    plt.xlabel('Time',fontsize=20)\n",
        "    plt.show()\n",
        "    \n",
        "#     plt.figure(figsize=(20,10))\n",
        "#     df.iloc[0:47,0:2].plot()\n",
        "#     plt.xticks( rotation=90)\n",
        "#     plt.ylabel('Open and Close Prices(Zoom in)')\n",
        "#     plt.xlabel('Time')\n",
        "#     plt.show()\n",
        "    #p.savefig(name + '_open_and_close_period.png')\n",
        "    \n",
        "#     plt.figure(figsize=(20,10))\n",
        "#     df.iloc[:,-1].plot(linewidth=1.2)\n",
        "#     plt.xticks( rotation=90)\n",
        "#     plt.ylabel('Volume')\n",
        "#     plt.xlabel('Time')\n",
        "#     #p.savefig(name + '_volume.png')\n",
        "    \n",
        "#     plt.show()\n",
        "    \n",
        "    \n",
        "    corrmat = df.ix[:,0:-1].corr()\n",
        "    plt.figure(figsize=(5,5))\n",
        "    sns.heatmap(corrmat, square=True)\n",
        "    #p.savefig(name + '_correlation.png')\n",
        "    #plt.plot(\"Correlations of all features for \" + name)"
      ]
    },
    {
      "cell_type": "code",
      "execution_count": null,
      "metadata": {
        "_cell_guid": "2315ec4e-276e-fd10-a2bb-181d70ba734d"
      },
      "outputs": [],
      "source": ""
    },
    {
      "cell_type": "code",
      "execution_count": null,
      "metadata": {
        "_cell_guid": "46825406-728d-27b3-6edc-a5690f39440e",
        "collapsed": true
      },
      "outputs": [],
      "source": ""
    },
    {
      "cell_type": "markdown",
      "metadata": {
        "_cell_guid": "b4f166fb-359d-9a24-f235-771b03cd75ed"
      },
      "source": ""
    },
    {
      "cell_type": "markdown",
      "metadata": {
        "_cell_guid": "e108eb82-9d75-6e7a-559c-c2a55f200ce8"
      },
      "source": ""
    },
    {
      "cell_type": "code",
      "execution_count": null,
      "metadata": {
        "_cell_guid": "94082804-6fea-e009-45d2-2f0760a1b55f",
        "collapsed": true
      },
      "outputs": [],
      "source": ""
    },
    {
      "cell_type": "markdown",
      "metadata": {
        "_cell_guid": "78702baf-05a9-0770-fe89-5f8d343836bb"
      },
      "source": ""
    },
    {
      "cell_type": "code",
      "execution_count": null,
      "metadata": {
        "_cell_guid": "145fb012-47f3-dd30-eb56-796ffb73344e",
        "collapsed": true
      },
      "outputs": [],
      "source": ""
    },
    {
      "cell_type": "markdown",
      "metadata": {
        "_cell_guid": "dd246e96-00c7-3d33-ceb7-9227528b9dff"
      },
      "source": ""
    },
    {
      "cell_type": "code",
      "execution_count": null,
      "metadata": {
        "_cell_guid": "d84d993f-a9b2-752e-0534-1eb4ecfaaaed",
        "collapsed": true
      },
      "outputs": [],
      "source": ""
    },
    {
      "cell_type": "code",
      "execution_count": null,
      "metadata": {
        "_cell_guid": "4e1dca8c-5712-c530-6f78-dbc29c659443",
        "collapsed": true
      },
      "outputs": [],
      "source": ""
    },
    {
      "cell_type": "markdown",
      "metadata": {
        "_cell_guid": "934cf34f-e09d-67f7-3f38-a4bf810be1c8"
      },
      "source": ""
    },
    {
      "cell_type": "code",
      "execution_count": null,
      "metadata": {
        "_cell_guid": "bcd40a3e-1808-fc87-ba93-1f83e1f8ab41",
        "collapsed": true
      },
      "outputs": [],
      "source": ""
    },
    {
      "cell_type": "markdown",
      "metadata": {
        "_cell_guid": "0ac56bd5-39e0-04d8-b095-9344254ffed5"
      },
      "source": ""
    },
    {
      "cell_type": "code",
      "execution_count": null,
      "metadata": {
        "_cell_guid": "d94f77bf-d42e-7327-ab1e-50555270e7ac",
        "collapsed": true
      },
      "outputs": [],
      "source": ""
    },
    {
      "cell_type": "code",
      "execution_count": null,
      "metadata": {
        "_cell_guid": "2e1fe95c-28f6-360d-13b6-26315eb969c4",
        "collapsed": true
      },
      "outputs": [],
      "source": ""
    },
    {
      "cell_type": "code",
      "execution_count": null,
      "metadata": {
        "_cell_guid": "49320aca-34b6-5ab7-230f-d43682a1d242"
      },
      "outputs": [],
      "source": ""
    },
    {
      "cell_type": "code",
      "execution_count": null,
      "metadata": {
        "_cell_guid": "c58b73c1-89c6-137c-b732-5476565dfa89",
        "collapsed": true
      },
      "outputs": [],
      "source": ""
    },
    {
      "cell_type": "code",
      "execution_count": null,
      "metadata": {
        "_cell_guid": "b2159f2f-463b-5006-6f35-8a141a10da09",
        "collapsed": true
      },
      "outputs": [],
      "source": ""
    },
    {
      "cell_type": "markdown",
      "metadata": {
        "_cell_guid": "3c107f52-7156-1cf8-a448-8ddcdc3a9566"
      },
      "source": ""
    },
    {
      "cell_type": "markdown",
      "metadata": {
        "_cell_guid": "544bcb39-01ba-b4ec-824d-c75c0d606cef"
      },
      "source": ""
    },
    {
      "cell_type": "code",
      "execution_count": null,
      "metadata": {
        "_cell_guid": "9f734cab-0d4c-988e-c9a1-44d017c4c9ab"
      },
      "outputs": [],
      "source": ""
    },
    {
      "cell_type": "code",
      "execution_count": null,
      "metadata": {
        "_cell_guid": "d9a5634f-b5ea-cf71-3700-ce91c915bc5c"
      },
      "outputs": [],
      "source": ""
    },
    {
      "cell_type": "code",
      "execution_count": null,
      "metadata": {
        "_cell_guid": "f7745425-5fdd-b39e-1728-3ffd34981aef"
      },
      "outputs": [],
      "source": ""
    },
    {
      "cell_type": "code",
      "execution_count": null,
      "metadata": {
        "_cell_guid": "c98445a3-82f1-9228-3461-896c2d1892fd"
      },
      "outputs": [],
      "source": ""
    },
    {
      "cell_type": "code",
      "execution_count": null,
      "metadata": {
        "_cell_guid": "9b01b72f-5bb1-f366-f53e-8b664105ff8e"
      },
      "outputs": [],
      "source": ""
    },
    {
      "cell_type": "code",
      "execution_count": null,
      "metadata": {
        "_cell_guid": "72785727-9515-ead6-8873-3a58994c06b3"
      },
      "outputs": [],
      "source": ""
    },
    {
      "cell_type": "code",
      "execution_count": null,
      "metadata": {
        "_cell_guid": "b09b1180-e36a-afdc-c990-360a0a4af138"
      },
      "outputs": [],
      "source": ""
    },
    {
      "cell_type": "code",
      "execution_count": null,
      "metadata": {
        "_cell_guid": "7e42b6a4-5c9f-8d77-7ebb-049921af7047"
      },
      "outputs": [],
      "source": ""
    },
    {
      "cell_type": "code",
      "execution_count": null,
      "metadata": {
        "_cell_guid": "19e9ee6f-3d38-90be-9617-a2e8bbe423c3"
      },
      "outputs": [],
      "source": ""
    },
    {
      "cell_type": "code",
      "execution_count": null,
      "metadata": {
        "_cell_guid": "1b4cf3a5-4250-59ae-4850-dbaf4d7be87c"
      },
      "outputs": [],
      "source": ""
    },
    {
      "cell_type": "code",
      "execution_count": null,
      "metadata": {
        "_cell_guid": "5f5fe8c6-d85d-8457-8042-d0051a153889"
      },
      "outputs": [],
      "source": ""
    },
    {
      "cell_type": "code",
      "execution_count": null,
      "metadata": {
        "_cell_guid": "017cb823-f042-b56e-dccd-922fcd0225f8"
      },
      "outputs": [],
      "source": ""
    },
    {
      "cell_type": "code",
      "execution_count": null,
      "metadata": {
        "_cell_guid": "b21da6c0-acd9-8500-1acb-42f4712030d5",
        "collapsed": true
      },
      "outputs": [],
      "source": ""
    },
    {
      "cell_type": "code",
      "execution_count": null,
      "metadata": {
        "_cell_guid": "92aa103f-ab19-45f7-b08e-17fdf0bfe5da",
        "collapsed": true
      },
      "outputs": [],
      "source": ""
    },
    {
      "cell_type": "markdown",
      "metadata": {
        "_cell_guid": "2e158ec9-6d9a-d89d-1962-398437ce329f"
      },
      "source": ""
    },
    {
      "cell_type": "code",
      "execution_count": null,
      "metadata": {
        "_cell_guid": "1ec402c4-41ee-7371-8f20-6d5cfdfb156f"
      },
      "outputs": [],
      "source": ""
    },
    {
      "cell_type": "code",
      "execution_count": null,
      "metadata": {
        "_cell_guid": "575bd45c-bd57-a5e0-b664-ab15265c5f8a"
      },
      "outputs": [],
      "source": ""
    },
    {
      "cell_type": "code",
      "execution_count": null,
      "metadata": {
        "_cell_guid": "024105b4-8e23-ab24-86f6-4d02130fa078"
      },
      "outputs": [],
      "source": ""
    },
    {
      "cell_type": "code",
      "execution_count": null,
      "metadata": {
        "_cell_guid": "2c0a612c-b659-37eb-de44-8a2233ba4717"
      },
      "outputs": [],
      "source": ""
    },
    {
      "cell_type": "code",
      "execution_count": null,
      "metadata": {
        "_cell_guid": "aafaf076-676b-78c5-9bc6-c6ce3db751c4"
      },
      "outputs": [],
      "source": ""
    },
    {
      "cell_type": "code",
      "execution_count": null,
      "metadata": {
        "_cell_guid": "bd8aaacf-926b-6af1-7fb9-f7bac0a44dcb"
      },
      "outputs": [],
      "source": ""
    },
    {
      "cell_type": "code",
      "execution_count": null,
      "metadata": {
        "_cell_guid": "d41cd154-b099-c865-e160-e3c82fe9f2b6",
        "collapsed": true
      },
      "outputs": [],
      "source": ""
    },
    {
      "cell_type": "markdown",
      "metadata": {
        "_cell_guid": "866a9819-3203-1cec-f4ee-2d3c5e5efc72"
      },
      "source": ""
    },
    {
      "cell_type": "code",
      "execution_count": null,
      "metadata": {
        "_cell_guid": "6d1360e6-0665-b3ff-dec8-a8a21cf9268e"
      },
      "outputs": [],
      "source": ""
    },
    {
      "cell_type": "code",
      "execution_count": null,
      "metadata": {
        "_cell_guid": "3bbd7fff-0833-0688-2dc3-74e2d5d46c34"
      },
      "outputs": [],
      "source": ""
    },
    {
      "cell_type": "code",
      "execution_count": null,
      "metadata": {
        "_cell_guid": "96268b86-aee8-019d-c102-ac4a97e2dff5"
      },
      "outputs": [],
      "source": ""
    },
    {
      "cell_type": "code",
      "execution_count": null,
      "metadata": {
        "_cell_guid": "e5240696-3b2c-e4b2-f372-0670af583412",
        "collapsed": true
      },
      "outputs": [],
      "source": ""
    },
    {
      "cell_type": "code",
      "execution_count": null,
      "metadata": {
        "_cell_guid": "6c902e92-9b81-252d-1268-eeb8d6c34b12"
      },
      "outputs": [],
      "source": ""
    },
    {
      "cell_type": "code",
      "execution_count": null,
      "metadata": {
        "_cell_guid": "94e91aad-de41-789a-1c8d-8ce40b4019bf",
        "collapsed": true
      },
      "outputs": [],
      "source": ""
    },
    {
      "cell_type": "code",
      "execution_count": null,
      "metadata": {
        "_cell_guid": "dc3c87a4-8661-61ef-7010-6c42956e3da2",
        "collapsed": true
      },
      "outputs": [],
      "source": ""
    },
    {
      "cell_type": "code",
      "execution_count": null,
      "metadata": {
        "_cell_guid": "0e22a67e-ce9b-1df5-5004-f574c0a36e07",
        "collapsed": true
      },
      "outputs": [],
      "source": ""
    },
    {
      "cell_type": "code",
      "execution_count": null,
      "metadata": {
        "_cell_guid": "d5c88378-f53c-3f5b-8280-b1a0dfa9632e",
        "collapsed": true
      },
      "outputs": [],
      "source": ""
    },
    {
      "cell_type": "markdown",
      "metadata": {
        "_cell_guid": "75864808-d19d-6687-0996-9dafc27e48bd"
      },
      "source": ""
    },
    {
      "cell_type": "code",
      "execution_count": null,
      "metadata": {
        "_cell_guid": "a6a855c6-caa4-9887-e7d8-0c77e8bd5f61"
      },
      "outputs": [],
      "source": ""
    },
    {
      "cell_type": "code",
      "execution_count": null,
      "metadata": {
        "_cell_guid": "ccfe193b-fdfa-eeab-db67-dacb872debcd"
      },
      "outputs": [],
      "source": ""
    },
    {
      "cell_type": "code",
      "execution_count": null,
      "metadata": {
        "_cell_guid": "cb1b114c-10c2-674e-9372-a4345a41f5cf"
      },
      "outputs": [],
      "source": ""
    },
    {
      "cell_type": "code",
      "execution_count": null,
      "metadata": {
        "_cell_guid": "29102228-53b6-0014-872c-d2c659097937"
      },
      "outputs": [],
      "source": ""
    },
    {
      "cell_type": "code",
      "execution_count": null,
      "metadata": {
        "_cell_guid": "052b6c14-8315-d205-d3a3-d003903c9c03"
      },
      "outputs": [],
      "source": ""
    },
    {
      "cell_type": "code",
      "execution_count": null,
      "metadata": {
        "_cell_guid": "749c6543-2fd3-9671-d9d9-a6c6beb27fa2"
      },
      "outputs": [],
      "source": ""
    },
    {
      "cell_type": "code",
      "execution_count": null,
      "metadata": {
        "_cell_guid": "3136ebf3-b7d4-7f85-60e3-4c60ae482f94"
      },
      "outputs": [],
      "source": ""
    },
    {
      "cell_type": "code",
      "execution_count": null,
      "metadata": {
        "_cell_guid": "2be76d75-db66-115b-f862-b41010b3b238"
      },
      "outputs": [],
      "source": ""
    },
    {
      "cell_type": "code",
      "execution_count": null,
      "metadata": {
        "_cell_guid": "d8f191c6-cf3f-b96a-9062-4d43f046df0f"
      },
      "outputs": [],
      "source": ""
    },
    {
      "cell_type": "code",
      "execution_count": null,
      "metadata": {
        "_cell_guid": "9a40cb50-015e-97f2-74dd-3d43564b29a1"
      },
      "outputs": [],
      "source": ""
    },
    {
      "cell_type": "code",
      "execution_count": null,
      "metadata": {
        "_cell_guid": "7305e595-8532-a7c1-3e91-1f80f68a4b37"
      },
      "outputs": [],
      "source": ""
    },
    {
      "cell_type": "code",
      "execution_count": null,
      "metadata": {
        "_cell_guid": "6aee8559-e74c-5b59-0b59-c6dde62c414a"
      },
      "outputs": [],
      "source": ""
    },
    {
      "cell_type": "code",
      "execution_count": null,
      "metadata": {
        "_cell_guid": "c9f69822-ad64-5df3-6554-de496b39e11d"
      },
      "outputs": [],
      "source": ""
    },
    {
      "cell_type": "markdown",
      "metadata": {
        "_cell_guid": "c4d715a9-9561-7822-2e46-b0541a85cd27"
      },
      "source": ""
    },
    {
      "cell_type": "markdown",
      "metadata": {
        "_cell_guid": "f2624f0c-5aaf-5b18-8455-a46ea3f81c72"
      },
      "source": ""
    },
    {
      "cell_type": "code",
      "execution_count": null,
      "metadata": {
        "_cell_guid": "dba7acef-eab1-ca27-2680-da7cb6577c0d"
      },
      "outputs": [],
      "source": ""
    },
    {
      "cell_type": "code",
      "execution_count": null,
      "metadata": {
        "_cell_guid": "c1697eaf-b41f-c241-5517-2d39f2ea39be"
      },
      "outputs": [],
      "source": ""
    },
    {
      "cell_type": "code",
      "execution_count": null,
      "metadata": {
        "_cell_guid": "25f3f78d-2279-6c43-5bdc-2a810464d856",
        "collapsed": true
      },
      "outputs": [],
      "source": ""
    },
    {
      "cell_type": "code",
      "execution_count": null,
      "metadata": {
        "_cell_guid": "e6ef85ec-2c16-2c64-5c0d-d221f3e31f82"
      },
      "outputs": [],
      "source": ""
    },
    {
      "cell_type": "markdown",
      "metadata": {
        "_cell_guid": "25f4bfbe-9659-2b7d-1dab-b1c1a897d024"
      },
      "source": ""
    },
    {
      "cell_type": "code",
      "execution_count": null,
      "metadata": {
        "_cell_guid": "94b0f78b-f652-95e2-7f4c-7bbeee2a2916"
      },
      "outputs": [],
      "source": ""
    },
    {
      "cell_type": "code",
      "execution_count": null,
      "metadata": {
        "_cell_guid": "f19ed77c-a8ea-ce5a-fb2f-9992c90c8029",
        "collapsed": true
      },
      "outputs": [],
      "source": ""
    },
    {
      "cell_type": "code",
      "execution_count": null,
      "metadata": {
        "_cell_guid": "c9d07f24-bf1f-6ce4-b211-8ff54dc6e268"
      },
      "outputs": [],
      "source": ""
    },
    {
      "cell_type": "markdown",
      "metadata": {
        "_cell_guid": "2ffefb55-2a38-d45e-14ab-2161dc30ba82"
      },
      "source": ""
    },
    {
      "cell_type": "code",
      "execution_count": null,
      "metadata": {
        "_cell_guid": "a8d5d3b1-4864-2293-6a9f-f1a6138aef78"
      },
      "outputs": [],
      "source": ""
    },
    {
      "cell_type": "code",
      "execution_count": null,
      "metadata": {
        "_cell_guid": "c2c24184-2f2c-614e-6a7f-1a3477e4946d"
      },
      "outputs": [],
      "source": ""
    },
    {
      "cell_type": "code",
      "execution_count": null,
      "metadata": {
        "_cell_guid": "1de844da-beee-1605-587a-cd230a43f3f6"
      },
      "outputs": [],
      "source": ""
    },
    {
      "cell_type": "markdown",
      "metadata": {
        "_cell_guid": "923cdfe4-2b4b-70a6-6be0-07df267f0fd8"
      },
      "source": ""
    },
    {
      "cell_type": "markdown",
      "metadata": {
        "_cell_guid": "0f1d4650-7f2a-8d43-d0f1-4c44989f2a56"
      },
      "source": ""
    },
    {
      "cell_type": "code",
      "execution_count": null,
      "metadata": {
        "_cell_guid": "5714ba94-89ef-2edf-502b-209fb81e8281",
        "collapsed": true
      },
      "outputs": [],
      "source": ""
    },
    {
      "cell_type": "markdown",
      "metadata": {
        "_cell_guid": "468d86d6-31b3-821a-bcfe-8eb872642fb6"
      },
      "source": ""
    },
    {
      "cell_type": "code",
      "execution_count": null,
      "metadata": {
        "_cell_guid": "cf443d9b-3d57-5208-b306-4c40d5ddce1e",
        "collapsed": true
      },
      "outputs": [],
      "source": ""
    },
    {
      "cell_type": "markdown",
      "metadata": {
        "_cell_guid": "9413d3aa-facd-9161-d6d2-8e2cb9e6be09"
      },
      "source": ""
    },
    {
      "cell_type": "markdown",
      "metadata": {
        "_cell_guid": "6965f2b2-9b6c-ebfb-34b2-63dbf9fc3dd0"
      },
      "source": ""
    },
    {
      "cell_type": "code",
      "execution_count": null,
      "metadata": {
        "_cell_guid": "02c686b5-5200-097f-2c5d-9d6208c06603"
      },
      "outputs": [],
      "source": ""
    },
    {
      "cell_type": "markdown",
      "metadata": {
        "_cell_guid": "2e201fb5-3c29-c79c-666b-510badadd819"
      },
      "source": ""
    },
    {
      "cell_type": "code",
      "execution_count": null,
      "metadata": {
        "_cell_guid": "6c4231c4-5aec-6c41-f1ef-578d7f3e2729"
      },
      "outputs": [],
      "source": ""
    },
    {
      "cell_type": "code",
      "execution_count": null,
      "metadata": {
        "_cell_guid": "384c99bb-abaa-bf04-bd7e-d51b30eea605",
        "collapsed": true
      },
      "outputs": [],
      "source": ""
    },
    {
      "cell_type": "code",
      "execution_count": null,
      "metadata": {
        "_cell_guid": "3748f001-1fbb-8ea8-4aed-cc4bd90ca6cc"
      },
      "outputs": [],
      "source": ""
    },
    {
      "cell_type": "code",
      "execution_count": null,
      "metadata": {
        "_cell_guid": "19001564-7137-7d13-b00b-dbacda1afd5b"
      },
      "outputs": [],
      "source": ""
    },
    {
      "cell_type": "code",
      "execution_count": null,
      "metadata": {
        "_cell_guid": "140e18b5-e606-d3f1-eed9-dfe0a59e6125"
      },
      "outputs": [],
      "source": ""
    },
    {
      "cell_type": "markdown",
      "metadata": {
        "_cell_guid": "850cc0b6-cb79-ecc5-10b5-31853f950480"
      },
      "source": ""
    },
    {
      "cell_type": "code",
      "execution_count": null,
      "metadata": {
        "_cell_guid": "af361498-9991-b363-f81a-4b8b14f746bc",
        "collapsed": true
      },
      "outputs": [],
      "source": ""
    },
    {
      "cell_type": "markdown",
      "metadata": {
        "_cell_guid": "61ea2092-5638-f747-375b-1c8ff1ea3385"
      },
      "source": ""
    },
    {
      "cell_type": "markdown",
      "metadata": {
        "_cell_guid": "1cf0c816-e026-b9fe-c5df-744c717548a2"
      },
      "source": ""
    },
    {
      "cell_type": "code",
      "execution_count": null,
      "metadata": {
        "_cell_guid": "eb1e8d09-57b8-6f70-ed5b-bbf5c7d42200"
      },
      "outputs": [],
      "source": ""
    },
    {
      "cell_type": "markdown",
      "metadata": {
        "_cell_guid": "ca683c32-8721-cb07-ab38-93fde47d6489"
      },
      "source": ""
    },
    {
      "cell_type": "code",
      "execution_count": null,
      "metadata": {
        "_cell_guid": "9d45aab0-1c21-1bff-826a-0c85925c98b2",
        "collapsed": true
      },
      "outputs": [],
      "source": ""
    },
    {
      "cell_type": "markdown",
      "metadata": {
        "_cell_guid": "6e3a1a81-ecd7-3469-68d6-8c4335cc52a9"
      },
      "source": ""
    },
    {
      "cell_type": "code",
      "execution_count": null,
      "metadata": {
        "_cell_guid": "c5224aa7-1c5e-3c64-a984-933f8a5dd5ca",
        "collapsed": true
      },
      "outputs": [],
      "source": ""
    },
    {
      "cell_type": "code",
      "execution_count": null,
      "metadata": {
        "_cell_guid": "21e6dcca-e688-0106-dc84-d282751603d6",
        "collapsed": true
      },
      "outputs": [],
      "source": ""
    },
    {
      "cell_type": "code",
      "execution_count": null,
      "metadata": {
        "_cell_guid": "7bcf2355-ca2f-d1c8-99ba-48b856b80f9a",
        "collapsed": true
      },
      "outputs": [],
      "source": ""
    },
    {
      "cell_type": "code",
      "execution_count": null,
      "metadata": {
        "_cell_guid": "b53eb020-29a4-fc35-b82b-2c727c02690e",
        "collapsed": true
      },
      "outputs": [],
      "source": ""
    },
    {
      "cell_type": "code",
      "execution_count": null,
      "metadata": {
        "_cell_guid": "c9af2ab1-a9d5-6370-a58b-d9a84271b8c7",
        "collapsed": true
      },
      "outputs": [],
      "source": ""
    },
    {
      "cell_type": "code",
      "execution_count": null,
      "metadata": {
        "_cell_guid": "7a79db5d-bcc1-8c4c-aa4b-a6d975f34592",
        "collapsed": true
      },
      "outputs": [],
      "source": ""
    },
    {
      "cell_type": "code",
      "execution_count": null,
      "metadata": {
        "_cell_guid": "309ba7fa-e36e-a60d-de82-2de3099e4568",
        "collapsed": true
      },
      "outputs": [],
      "source": ""
    },
    {
      "cell_type": "code",
      "execution_count": null,
      "metadata": {
        "_cell_guid": "919a6652-8a0a-6f1d-386a-279374c59e59",
        "collapsed": true
      },
      "outputs": [],
      "source": ""
    },
    {
      "cell_type": "code",
      "execution_count": null,
      "metadata": {
        "_cell_guid": "fdbcc190-7268-cda7-52ee-e0f1fa8000a7",
        "collapsed": true
      },
      "outputs": [],
      "source": ""
    },
    {
      "cell_type": "code",
      "execution_count": null,
      "metadata": {
        "_cell_guid": "683ca878-1c92-ec67-44b7-ac77733ea2be",
        "collapsed": true
      },
      "outputs": [],
      "source": ""
    },
    {
      "cell_type": "code",
      "execution_count": null,
      "metadata": {
        "_cell_guid": "10eff8d1-fde5-57d5-38c5-ed87ecf5b7a5",
        "collapsed": true
      },
      "outputs": [],
      "source": ""
    },
    {
      "cell_type": "code",
      "execution_count": null,
      "metadata": {
        "_cell_guid": "e0020ec0-ced2-2ad1-ab6b-f791356c4be1",
        "collapsed": true
      },
      "outputs": [],
      "source": ""
    },
    {
      "cell_type": "code",
      "execution_count": null,
      "metadata": {
        "_cell_guid": "4e2ca2da-7f8d-fe3d-c88f-4524facedd3e",
        "collapsed": true
      },
      "outputs": [],
      "source": ""
    },
    {
      "cell_type": "markdown",
      "metadata": {
        "_cell_guid": "4162b720-ba67-49af-7c46-04a549dc3009",
        "collapsed": true
      },
      "source": ""
    },
    {
      "cell_type": "markdown",
      "metadata": {
        "_cell_guid": "e0591085-8d11-bfc2-02ee-6d5c803d90b5",
        "collapsed": true
      },
      "source": ""
    },
    {
      "cell_type": "code",
      "execution_count": null,
      "metadata": {
        "_cell_guid": "f05f610f-45ab-bab4-e890-19bc0645ce3d",
        "collapsed": true
      },
      "outputs": [],
      "source": ""
    },
    {
      "cell_type": "code",
      "execution_count": null,
      "metadata": {
        "_cell_guid": "6ad4585e-19e9-1260-04cb-9008e3ea78e1",
        "collapsed": true
      },
      "outputs": [],
      "source": ""
    },
    {
      "cell_type": "markdown",
      "metadata": {
        "_cell_guid": "e88b7e7f-0d17-ec27-4a69-1a6e2e127775"
      },
      "source": ""
    },
    {
      "cell_type": "code",
      "execution_count": null,
      "metadata": {
        "_cell_guid": "f523c507-bf32-185d-5ed7-3aeccf4fcfe7",
        "collapsed": true
      },
      "outputs": [],
      "source": ""
    },
    {
      "cell_type": "markdown",
      "metadata": {
        "_cell_guid": "837bb641-830d-c6f4-e631-741505206774"
      },
      "source": ""
    },
    {
      "cell_type": "code",
      "execution_count": null,
      "metadata": {
        "_cell_guid": "565eb143-471d-d353-a139-c289461a7ee0",
        "collapsed": true
      },
      "outputs": [],
      "source": ""
    },
    {
      "cell_type": "code",
      "execution_count": null,
      "metadata": {
        "_cell_guid": "093ba778-444c-917e-d30e-699d933bada5",
        "collapsed": true
      },
      "outputs": [],
      "source": ""
    },
    {
      "cell_type": "code",
      "execution_count": null,
      "metadata": {
        "_cell_guid": "367427f5-1cfd-10a7-115d-f35b78ddacbd",
        "collapsed": true
      },
      "outputs": [],
      "source": ""
    },
    {
      "cell_type": "markdown",
      "metadata": {
        "_cell_guid": "fb3697af-a88f-bd16-b386-6d78721ff691"
      },
      "source": ""
    },
    {
      "cell_type": "markdown",
      "metadata": {
        "_cell_guid": "d8e68723-82de-1d9e-2664-a59fc47ee8a0"
      },
      "source": ""
    },
    {
      "cell_type": "markdown",
      "metadata": {
        "_cell_guid": "16e18227-cd98-26ab-67ae-6bc87b733a4f"
      },
      "source": ""
    },
    {
      "cell_type": "code",
      "execution_count": null,
      "metadata": {
        "_cell_guid": "06778ecf-769e-d55b-b84a-07b1c2e817d2",
        "collapsed": true
      },
      "outputs": [],
      "source": ""
    },
    {
      "cell_type": "code",
      "execution_count": null,
      "metadata": {
        "_cell_guid": "119ce75c-af4a-48cf-95b7-1e7150d1a525",
        "collapsed": true
      },
      "outputs": [],
      "source": ""
    },
    {
      "cell_type": "code",
      "execution_count": null,
      "metadata": {
        "_cell_guid": "05e57563-7cfc-91ae-a05a-e431c59f2d2e",
        "collapsed": true
      },
      "outputs": [],
      "source": ""
    }
  ],
  "metadata": {
    "_change_revision": 0,
    "_is_fork": false,
    "kernelspec": {
      "display_name": "Python 3",
      "language": "python",
      "name": "python3"
    },
    "language_info": {
      "codemirror_mode": {
        "name": "ipython",
        "version": 3
      },
      "file_extension": ".py",
      "mimetype": "text/x-python",
      "name": "python",
      "nbconvert_exporter": "python",
      "pygments_lexer": "ipython3",
      "version": "3.6.0"
    }
  },
  "nbformat": 4,
  "nbformat_minor": 0
}