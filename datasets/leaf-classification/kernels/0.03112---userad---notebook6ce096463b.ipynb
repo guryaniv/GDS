{
  "cells": [
    {
      "cell_type": "markdown",
      "metadata": {
        "_cell_guid": "49426bdf-04ee-42db-f4a3-af33e93c36d6"
      },
      "source": ""
    },
    {
      "cell_type": "code",
      "execution_count": null,
      "metadata": {
        "_cell_guid": "f256e474-de96-73f9-da5f-a74e322216ec"
      },
      "outputs": [],
      "source": [
        "import pandas as pd\n",
        "import numpy as np\n",
        "from sklearn.linear_model import LogisticRegression\n",
        "from sklearn.grid_search import GridSearchCV\n",
        "from sklearn.preprocessing import LabelEncoder\n",
        "from sklearn.preprocessing import StandardScaler\n",
        "from sklearn import svm\n",
        "from sklearn.ensemble import RandomForestClassifier\n",
        "\n",
        "import xgboost as xgb\n",
        "from xgboost.sklearn import XGBClassifier\n",
        "\n",
        "#np.random.seed(42)\n",
        "\n",
        "train = pd.read_csv('../input/train.csv')\n",
        "x_train = train.drop(['id', 'species'], axis=1).values\n",
        "le = LabelEncoder().fit(train['species'])\n",
        "y_train = le.transform(train['species'])\n",
        "scaler = StandardScaler().fit(x_train)\n",
        "x_train = scaler.transform(x_train)\n",
        "\n",
        "test = pd.read_csv('../input/test.csv')\n",
        "test_ids = test.pop('id')\n",
        "x_test = test.values\n",
        "scaler = StandardScaler().fit(x_test)\n",
        "x_test = scaler.transform(x_test)\n",
        "#\"newton-cg\",\n",
        "\n",
        "\n",
        "\n",
        "#params = {'C':[1, 10, 50, 100, 500, 1000, 2000, 2100, 2200, 3000], 'tol': [0.001, 0.0001, 0.005], 'solver':  [\"lbfgs\"]}\n",
        "#log_reg = LogisticRegression(multi_class=\"multinomial\")\n",
        "#clf = GridSearchCV(log_reg, params, scoring='log_loss', refit='True', n_jobs=1, cv=5)\n",
        "#clf.fit(x_train, y_train)\n",
        "#y_test = clf.predict_proba(x_test)\n",
        "\n",
        "#log_reg = LogisticRegression(C=2000, multi_class=\"multinomial\", tol=0.0001, solver='newton-cg')\n",
        "#log_reg.fit(x_train, y_train)\n",
        "#y_test = log_reg.predict_proba(x_test)\n",
        "\n",
        "\n",
        "#params = {'n_estimators':[1, 10, 50, 100, 500]}\n",
        "#random_forest = RandomForestClassifier()\n",
        "#clf = GridSearchCV(random_forest, params, scoring='log_loss', refit='True', n_jobs=1, cv=5)\n",
        "#clf.fit(x_train, y_train)\n",
        "#y_test = clf.predict_proba(x_test)\n",
        "\n",
        "#submission = pd.DataFrame(y_test, index=test_ids, columns=le.classes_)\n",
        "#submission.to_csv('submission2.csv')\n",
        "\n",
        "\n",
        "xg_train = xgb.DMatrix( x_train, label=y_train)\n",
        "\n",
        "val = train.sample(100)\n",
        "x_val = val.drop(['id', 'species'], axis=1).values\n",
        "y_val = le.transform(val['species'])\n",
        "\n",
        "xg_val = xgb.DMatrix( x_val, label=y_val)\n",
        "\n",
        "\n",
        "param = {'objective': 'multi:softmax', 'eta': 0.1, 'max_depth': 6, 'silent': 1, 'nthread': 4, 'num_class': 99}\n",
        "watchlist = [ (xg_train,'train'), (xg_val, 'test') ]\n",
        "num_round = 5\n",
        "bst = xgb.train(param, xg_train, num_round, watchlist )\n",
        "\n",
        "pred = bst.predict( xg_val )\n",
        "\n",
        "print ('predicting, classification error=%f' % (sum( int(pred[i]) != y_val[i] for i in range(len(y_val))) / float(len(y_val)) ))\n",
        "\n"
      ]
    },
    {
      "cell_type": "code",
      "execution_count": null,
      "metadata": {
        "_cell_guid": "e5c2c10b-81d4-be86-385c-fdd0e19ccc41"
      },
      "outputs": [],
      "source": [
        "submission = pd.DataFrame(y_test, index=test_ids, columns=le.classes_)\n",
        "submission.to_csv('submission2.csv')"
      ]
    },
    {
      "cell_type": "code",
      "execution_count": null,
      "metadata": {
        "_cell_guid": "09270c9f-7551-0071-780b-4ed5de1797ff"
      },
      "outputs": [],
      "source": [
        "clf.score(x_train, y_train)# <= -5.3210591643025371e-05"
      ]
    },
    {
      "cell_type": "code",
      "execution_count": null,
      "metadata": {
        "_cell_guid": "ff06f4d8-76c1-f335-8b2b-27f6174e8f4d"
      },
      "outputs": [],
      "source": [
        "clf.best_estimator_"
      ]
    },
    {
      "cell_type": "code",
      "execution_count": null,
      "metadata": {
        "_cell_guid": "5daa73c2-8504-23e7-23a0-7ee552193d01"
      },
      "outputs": [],
      "source": [
        "val = test.sample(100)\n",
        "val"
      ]
    },
    {
      "cell_type": "code",
      "execution_count": null,
      "metadata": {
        "_cell_guid": "3c5dcf8f-3643-b323-d276-faa11938ed35"
      },
      "outputs": [],
      "source": ""
    }
  ],
  "metadata": {
    "_change_revision": 0,
    "_is_fork": false,
    "kernelspec": {
      "display_name": "Python 3",
      "language": "python",
      "name": "python3"
    },
    "language_info": {
      "codemirror_mode": {
        "name": "ipython",
        "version": 3
      },
      "file_extension": ".py",
      "mimetype": "text/x-python",
      "name": "python",
      "nbconvert_exporter": "python",
      "pygments_lexer": "ipython3",
      "version": "3.5.2"
    }
  },
  "nbformat": 4,
  "nbformat_minor": 0
}