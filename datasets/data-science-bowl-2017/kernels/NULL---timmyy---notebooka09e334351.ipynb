{
  "cells": [
    {
      "cell_type": "code",
      "execution_count": null,
      "metadata": {
        "_cell_guid": "27a7250f-e5c7-c8b1-2750-3ac4465e24a8"
      },
      "outputs": [],
      "source": [
        "# This Python 3 environment comes with many helpful analytics libraries installed\n",
        "# It is defined by the kaggle/python docker image: https://github.com/kaggle/docker-python\n",
        "# For example, here's several helpful packages to load in \n",
        "\n",
        "import numpy as np # linear algebra\n",
        "import pandas as pd # data processing, CSV file I/O (e.g. pd.read_csv)\n",
        "\n",
        "# Input data files are available in the \"../input/\" directory.\n",
        "# For example, running this (by clicking run or pressing Shift+Enter) will list the files in the input directory\n",
        "\n",
        "from subprocess import check_output\n",
        "print(check_output([\"ls\", \"../input\"]).decode(\"utf8\"))\n",
        "\n",
        "# Any results you write to the current directory are saved as output."
      ]
    },
    {
      "cell_type": "code",
      "execution_count": null,
      "metadata": {
        "_cell_guid": "ae84ee37-89aa-9794-35c6-56a4e48ae927"
      },
      "outputs": [],
      "source": [
        "import dicom # for reading dicom files\n",
        "import os # for doing directory operations \n",
        "import pandas as pd # for some simple data analysis (right now, just to load in the labels data and quickly reference it)\n",
        "\n",
        "# Change this to wherever you are storing your data:\n",
        "# IF YOU ARE FOLLOWING ON KAGGLE, YOU CAN ONLY PLAY WITH THE SAMPLE DATA, WHICH IS MUCH SMALLER\n",
        "\n",
        "data_dir = '../input/sample_images/'\n",
        "patients = os.listdir(data_dir)\n",
        "labels_df = pd.read_csv('../input/stage1_labels.csv', index_col=0)\n",
        "\n",
        "labels_df.head()"
      ]
    },
    {
      "cell_type": "code",
      "execution_count": null,
      "metadata": {
        "_cell_guid": "1ea5896f-c8d0-df65-436c-07eca5d894a1"
      },
      "outputs": [],
      "source": [
        "import matplotlib.pyplot as plt\n",
        "import cv2\n",
        "import numpy as np\n",
        "\n",
        "IMG_PX_SIZE = 150\n",
        "\n",
        "for patient in patients[:1]:\n",
        "    label = labels_df.get_value(patient, 'cancer')\n",
        "    path = data_dir + patient\n",
        "    slices = [dicom.read_file(path + '/' + s) for s in os.listdir(path)]\n",
        "    slices.sort(key = lambda x: int(x.ImagePositionPatient[2]))\n",
        "    \n",
        "    fig = plt.figure()\n",
        "    for num , each_slice in enumerate(slices[:12]):\n",
        "        y = fig.add_subplot(3,4,num+1)\n",
        "        new_image = cv2.resize(np.array(each_slice.pixel_array),(IMG_PX_SIZE,IMG_PX_SIZE))\n",
        "        y.imshow(new_image)\n",
        "    plt.show()"
      ]
    },
    {
      "cell_type": "code",
      "execution_count": null,
      "metadata": {
        "_cell_guid": "5493034d-1397-48a1-31c4-ab1355cf3163"
      },
      "outputs": [],
      "source": [
        "import math\n",
        "\n",
        "def chunks(l, n):\n",
        "    # Credit: Ned Batchelder\n",
        "    # Link: http://stackoverflow.com/questions/312443/how-do-you-split-a-list-into-evenly-sized-chunks\n",
        "    \"\"\"Yield successive n-sized chunks from l.\"\"\"\n",
        "    for i in range(0, len(l), n):\n",
        "        yield l[i:i + n]\n",
        "\n",
        "def mean(l):\n",
        "    return sum(l) / len(l)\n",
        "\n",
        "IMG_PX_SIZE = 150\n",
        "HM_SLICES = 20\n",
        "\n",
        "data_dir = '../input/sample_images/'\n",
        "patients = os.listdir(data_dir)\n",
        "labels_df = pd.read_csv('../input/stage1_labels.csv', index_col=0)\n",
        "\n",
        "for patient in patients[:10]:\n",
        "    try:\n",
        "        label = labels_df.get_value(patient, 'cancer')\n",
        "        path = data_dir + patient\n",
        "        slices = [dicom.read_file(path + '/' + s) for s in os.listdir(path)]\n",
        "        slices.sort(key = lambda x: int(x.ImagePositionPatient[2]))\n",
        "        new_slices = []\n",
        "        slices = [cv2.resize(np.array(each_slice.pixel_array),(IMG_PX_SIZE,IMG_PX_SIZE)) for each_slice in slices]\n",
        "        chunk_sizes = math.ceil(len(slices) / HM_SLICES)\n",
        "        print(chunk_sizes)\n",
        "        for slice_chunk in chunks(slices, chunk_sizes):\n",
        "            slice_chunk = list(map(mean, zip(*slice_chunk)))\n",
        "            new_slices.append(slice_chunk)\n",
        "\n",
        "        print(len(slices), len(new_slices))\n",
        "    except:\n",
        "        # some patients don't have labels, so we'll just pass on this for now\n",
        "        pass"
      ]
    },
    {
      "cell_type": "code",
      "execution_count": null,
      "metadata": {
        "_cell_guid": "b906d9a8-1c04-10e4-7d2e-bd6f0a414ee7"
      },
      "outputs": [],
      "source": [
        "for patient in patients[:10]:\n",
        "    try:\n",
        "        label = labels_df.get_value(patient, 'cancer')\n",
        "        path = data_dir + patient\n",
        "        slices = [dicom.read_file(path + '/' + s) for s in os.listdir(path)]\n",
        "        slices.sort(key = lambda x: int(x.ImagePositionPatient[2]))\n",
        "        new_slices = []\n",
        "\n",
        "        slices = [cv2.resize(np.array(each_slice.pixel_array),(IMG_PX_SIZE,IMG_PX_SIZE)) for each_slice in slices]\n",
        "\n",
        "        chunk_sizes = math.ceil(len(slices) / HM_SLICES)\n",
        "\n",
        "\n",
        "        for slice_chunk in chunks(slices, chunk_sizes):\n",
        "            slice_chunk = list(map(mean, zip(*slice_chunk)))\n",
        "            new_slices.append(slice_chunk)\n",
        "\n",
        "        if len(new_slices) == HM_SLICES-1:\n",
        "            new_slices.append(new_slices[-1])\n",
        "\n",
        "        if len(new_slices) == HM_SLICES-2:\n",
        "            new_slices.append(new_slices[-1])\n",
        "            new_slices.append(new_slices[-1])\n",
        "\n",
        "        if len(new_slices) == HM_SLICES+2:\n",
        "            new_val = list(map(mean, zip(*[new_slices[HM_SLICES-1],new_slices[HM_SLICES],])))\n",
        "            del new_slices[HM_SLICES]\n",
        "            new_slices[HM_SLICES-1] = new_val\n",
        "\n",
        "        if len(new_slices) == HM_SLICES+1:\n",
        "            new_val = list(map(mean, zip(*[new_slices[HM_SLICES-1],new_slices[HM_SLICES],])))\n",
        "            del new_slices[HM_SLICES]\n",
        "            new_slices[HM_SLICES-1] = new_val\n",
        "\n",
        "        print(len(slices), len(new_slices))\n",
        "    except Exception as e:\n",
        "        # again, some patients are not labeled, but JIC we still want the error if something\n",
        "        # else is wrong with our code\n",
        "        print(str(e))"
      ]
    },
    {
      "cell_type": "code",
      "execution_count": null,
      "metadata": {
        "_cell_guid": "61026441-9c0a-4c30-6444-f76f9c73d506"
      },
      "outputs": [],
      "source": [
        "2**198"
      ]
    }
  ],
  "metadata": {
    "_change_revision": 0,
    "_is_fork": false,
    "kernelspec": {
      "display_name": "Python 3",
      "language": "python",
      "name": "python3"
    },
    "language_info": {
      "codemirror_mode": {
        "name": "ipython",
        "version": 3
      },
      "file_extension": ".py",
      "mimetype": "text/x-python",
      "name": "python",
      "nbconvert_exporter": "python",
      "pygments_lexer": "ipython3",
      "version": "3.6.0"
    }
  },
  "nbformat": 4,
  "nbformat_minor": 0
}