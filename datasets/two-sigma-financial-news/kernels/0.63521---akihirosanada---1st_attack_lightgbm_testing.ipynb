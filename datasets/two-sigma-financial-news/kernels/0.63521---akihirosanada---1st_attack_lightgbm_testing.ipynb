{
  "cells": [
    {
      "metadata": {
        "_uuid": "8f2839f25d086af736a60e9eeb907d3b93b6e0e5",
        "_cell_guid": "b1076dfc-b9ad-4769-8c92-a6c4dae69d19",
        "trusted": true
      },
      "cell_type": "code",
      "source": "# This Python 3 environment comes with many helpful analytics libraries installed\n# It is defined by the kaggle/python docker image: https://github.com/kaggle/docker-python\n# For example, here's several helpful packages to load in \n\nimport numpy as np # linear algebra\nimport pandas as pd # data processing, CSV file I/O (e.g. pd.read_csv)\n\n# Input data files are available in the \"../input/\" directory.\n# For example, running this (by clicking run or pressing Shift+Enter) will list the files in the input directory\n\nimport os\nprint(os.listdir(\"../input\"))\n# Any results you write to the current directory are saved as output.",
      "execution_count": null,
      "outputs": []
    },
    {
      "metadata": {
        "trusted": true,
        "_uuid": "f42c84e5390f51427ad242fb369d479f0c70dffe"
      },
      "cell_type": "code",
      "source": "import matplotlib.pyplot as plt\nimport plotly.offline as py\npy.init_notebook_mode(connected=True)\nimport plotly.graph_objs as go\nimport plotly.tools as tls",
      "execution_count": null,
      "outputs": []
    },
    {
      "metadata": {
        "_cell_guid": "79c7e3d0-c299-4dcb-8224-4455121ee9b0",
        "_uuid": "d629ff2d2480ee46fbb7e2d37f6b5fab8052498a",
        "trusted": true
      },
      "cell_type": "code",
      "source": "from kaggle.competitions import twosigmanews\nenv = twosigmanews.make_env()",
      "execution_count": null,
      "outputs": []
    },
    {
      "metadata": {
        "trusted": true,
        "_uuid": "7bf1b02fb3fc41d065748b0f5d56e1afc552fffe"
      },
      "cell_type": "code",
      "source": "market_train_df, news_train_df = env.get_training_data()",
      "execution_count": null,
      "outputs": []
    },
    {
      "metadata": {
        "trusted": true,
        "_uuid": "0523f9e680c069c5b44de754db76625435ca93b9"
      },
      "cell_type": "code",
      "source": "market_train_df.head()",
      "execution_count": null,
      "outputs": []
    },
    {
      "metadata": {
        "trusted": true,
        "_uuid": "82f77e66cf141695611adbed41a21f8861369a24"
      },
      "cell_type": "code",
      "source": "market_train_df.shape",
      "execution_count": null,
      "outputs": []
    },
    {
      "metadata": {
        "trusted": true,
        "_uuid": "9ed40f53a2f832b84c70720520a7788ecef867ca"
      },
      "cell_type": "code",
      "source": "len(market_train_df.assetCode.unique())",
      "execution_count": null,
      "outputs": []
    },
    {
      "metadata": {
        "trusted": true,
        "_uuid": "aaba5119a031c24ede6e4273bbe30791bb0a3c08"
      },
      "cell_type": "code",
      "source": "news_train_df.head()",
      "execution_count": null,
      "outputs": []
    },
    {
      "metadata": {
        "trusted": true,
        "_uuid": "577cf066db8001f1f86eb272683333ede7f8faa2"
      },
      "cell_type": "code",
      "source": "len(news_train_df.headline[2325409])",
      "execution_count": null,
      "outputs": []
    },
    {
      "metadata": {
        "trusted": true,
        "_uuid": "b8e2b377488e7b47aed384577acf741cff57b5a7"
      },
      "cell_type": "code",
      "source": "news_train_df.shape",
      "execution_count": null,
      "outputs": []
    },
    {
      "metadata": {
        "trusted": true,
        "_uuid": "b98ea72856fe17b4f19a031566b4945d2933acc4"
      },
      "cell_type": "code",
      "source": "def data_prep(market_df, news_df):\n    market_df[\"date\"] = market_df.time.dt.date\n    market_df[\"returnsOpenPrevRaw1_to_volume\"] = \\\n        market_df[\"returnsOpenPrevRaw1\"] / market_df[\"volume\"]\n    market_df[\"close_to_open\"] = market_df[\"close\"] / market_df[\"open\"]\n    news_df[\"firstCreatedDate\"] = news_df.firstCreated.dt.date\n    news_df[\"firstAssetCode\"] = news_df[\"assetCodes\"].map(lambda x: list(eval(x))[0])\n    news_df[\"headlineLen\"] = news_df[\"headline\"].apply(lambda x: len(x))\n    lbl = {k: v for v,k in enumerate(news_df[\"headlineTag\"].unique())}\n    news_df[\"headlineTagT\"] = news_df[\"headlineTag\"].map(lbl)\n    kcol = [\"firstCreatedDate\",\"firstAssetCode\"]\n    numcols = [\"urgency\",\"takeSequence\",\"bodySize\",\"companyCount\",\"sentenceCount\",\n               \"wordCount\",\"firstMentionSentence\",\"relevance\",\"sentimentClass\",\n              \"sentimentNegative\",\"sentimentNeutral\",\"sentimentPositive\",\n              \"sentimentWordCount\",\"noveltyCount12H\",\"noveltyCount24H\",\n              \"noveltyCount3D\",\"noveltyCount5D\",\"noveltyCount7D\",\n              \"volumeCounts12H\",\"volumeCounts24H\",\"volumeCounts3D\",\"volumeCounts5D\",\n              \"volumeCounts5D\",\"volumeCounts7D\",\"headlineLen\"]\n    news_df = news_df.loc[:,news_df.columns.isin(numcols + kcol)]\\\n        .groupby(kcol, as_index = False).mean()\n    market_df = pd.merge(market_df, news_df, how = \"left\", left_on = [\"date\",\"assetCode\"],\n                        right_on = [\"firstCreatedDate\",\"firstAssetCode\"])\n    lbl = {k:v for v,k in enumerate(market_df[\"assetCode\"].unique())}\n    market_df[\"assetCodeT\"] = market_df[\"assetCode\"].map(lbl)\n    return market_df",
      "execution_count": null,
      "outputs": []
    },
    {
      "metadata": {
        "trusted": true,
        "_uuid": "fe75569b91b7e14902b661fad9e4e8a35950cb72"
      },
      "cell_type": "code",
      "source": "#for save RAM\nnews_train_df = news_train_df.loc[news_train_df.time >= \"2010-01-01 22:00:00+00:00\"]\nmarket_train_df = market_train_df.loc[market_train_df.time >= \"2010-01-01 22:00:00+00:00\"]",
      "execution_count": null,
      "outputs": []
    },
    {
      "metadata": {
        "trusted": true,
        "_uuid": "a116b5c209ffc15416407a83dc81b8f092c9a022"
      },
      "cell_type": "code",
      "source": "from time import time\nt_start_prep = time()\nmarket_train = data_prep(market_train_df, news_train_df)\nprint(market_train.shape)\nt_end_prep = time()\nprint(\"time consumed for prep:\", t_end_prep - t_start_prep)",
      "execution_count": null,
      "outputs": []
    },
    {
      "metadata": {
        "trusted": true,
        "_uuid": "51c183cbd8b2395728ce5c19f3f117953ec822ee"
      },
      "cell_type": "code",
      "source": "market_train.columns",
      "execution_count": null,
      "outputs": []
    },
    {
      "metadata": {
        "trusted": true,
        "_uuid": "5532202b62ff37871c3e22dacc62852dabb59e9b"
      },
      "cell_type": "code",
      "source": "# feature variables\nfcol = ['volume', 'close', 'open',\n       'returnsClosePrevRaw1', 'returnsOpenPrevRaw1',\n       'returnsClosePrevMktres1', 'returnsOpenPrevMktres1',\n       'returnsClosePrevRaw10', 'returnsOpenPrevRaw10',\n       'returnsClosePrevMktres10', 'returnsOpenPrevMktres10',\n       'returnsOpenPrevRaw1_to_volume', 'close_to_open', 'urgency',\n       'takeSequence', 'bodySize', 'companyCount',\n       'sentenceCount', 'wordCount', 'firstMentionSentence', 'relevance',\n       'sentimentClass', 'sentimentNegative', 'sentimentNeutral',\n       'sentimentPositive', 'sentimentWordCount', 'noveltyCount12H',\n       'noveltyCount24H', 'noveltyCount3D', 'noveltyCount5D', 'noveltyCount7D',\n       'volumeCounts12H', 'volumeCounts24H', 'volumeCounts3D',\n       'volumeCounts5D', 'volumeCounts7D', 'headlineLen']",
      "execution_count": null,
      "outputs": []
    },
    {
      "metadata": {
        "trusted": true,
        "_uuid": "da55963a33ca7229747b3f00b71b512862ecc3ab"
      },
      "cell_type": "code",
      "source": "market_train.head()",
      "execution_count": null,
      "outputs": []
    },
    {
      "metadata": {
        "trusted": true,
        "_uuid": "4fe3af8346363e84c290a8292d45fdce6a2ea5f2"
      },
      "cell_type": "code",
      "source": "X = market_train[fcol].fillna(0).values",
      "execution_count": null,
      "outputs": []
    },
    {
      "metadata": {
        "trusted": true,
        "_uuid": "4ed338ac9f80d6a085fc488e4bbf93bf206ac201"
      },
      "cell_type": "code",
      "source": "q1 = market_train.returnsOpenNextMktres10.quantile(0.25)\nq2 = market_train.returnsOpenNextMktres10.quantile(0.5)\nq3 = market_train.returnsOpenNextMktres10.quantile(0.75)\nprint(\"q3:\",q3)",
      "execution_count": null,
      "outputs": []
    },
    {
      "metadata": {
        "trusted": true,
        "_uuid": "236d724070ecec90fa2d2c2e0e55c498e99844ec"
      },
      "cell_type": "code",
      "source": "def classify(x):\n    if x >= q3:\n        return 3\n    elif x >= q2:\n        return 2\n    elif x >= q1:\n        return 1\n    else:\n        return 0\nY = market_train.returnsOpenNextMktres10.apply(classify)",
      "execution_count": null,
      "outputs": []
    },
    {
      "metadata": {
        "trusted": true,
        "_uuid": "494dcceeaeda6cb9dcbbdb69780812c338c44f17"
      },
      "cell_type": "code",
      "source": "Y.value_counts()",
      "execution_count": null,
      "outputs": []
    },
    {
      "metadata": {
        "trusted": true,
        "_uuid": "a8b378c31029b0f6a8770eeda3091ff072fa33b2"
      },
      "cell_type": "code",
      "source": "#clip\nX[X > 1000000000] = 1000000000\nX[X < -1000000000] = -1000000000",
      "execution_count": null,
      "outputs": []
    },
    {
      "metadata": {
        "trusted": true,
        "_uuid": "b27243de1cd2b0ac2165af818029d12c8f4b56d1"
      },
      "cell_type": "code",
      "source": "from sklearn.preprocessing import StandardScaler\nsc = StandardScaler()\nX = sc.fit_transform(X)",
      "execution_count": null,
      "outputs": []
    },
    {
      "metadata": {
        "trusted": true,
        "_uuid": "93fe3c636115094d53149dfa37b50b9ea61207a1"
      },
      "cell_type": "code",
      "source": "from sklearn import model_selection\nX_train, X_test, Y_train, Y_test = model_selection.train_test_split(X,Y,test_size = 0.1,\n                                                                   shuffle = False)",
      "execution_count": null,
      "outputs": []
    },
    {
      "metadata": {
        "trusted": true,
        "_uuid": "635468528d4f49140dcca52681e833fa076d6acf"
      },
      "cell_type": "code",
      "source": "%%time\nimport lightgbm as lgb\nlgb_train = lgb.Dataset(X_train, Y_train)\nlgb_eval = lgb.Dataset(X_test, Y_test, reference = lgb_train)\nlgbm_params = {\"objective\": \"multiclass\",\n               \"num_class\": 4}\nmodel = lgb.train(lgbm_params, lgb_train, valid_sets=lgb_eval)",
      "execution_count": null,
      "outputs": []
    },
    {
      "metadata": {
        "trusted": true,
        "_uuid": "75653a98c19925b3fb6755989e62adbe563cd6f7"
      },
      "cell_type": "code",
      "source": "del X_train,Y_train, market_train_df, news_train_df",
      "execution_count": null,
      "outputs": []
    },
    {
      "metadata": {
        "trusted": true,
        "_uuid": "e883719382acbe6c05e2674639dd134f5acc02ef"
      },
      "cell_type": "code",
      "source": "lgb.plot_importance(model, figsize = (5,10))",
      "execution_count": null,
      "outputs": []
    },
    {
      "metadata": {
        "trusted": true,
        "_uuid": "ee184b610facd5c6b5c14affaaeca5fcc245a610"
      },
      "cell_type": "code",
      "source": "col_id = {i:v for i,v in enumerate(fcol)}\nfor i in [10,8,9,7,5,6,7,12,3,1,2,0,11]:\n    print(col_id[i])",
      "execution_count": null,
      "outputs": []
    },
    {
      "metadata": {
        "trusted": true,
        "_uuid": "4cbcb307efb6fb2f9deeb265e0f9caa9d35da188"
      },
      "cell_type": "code",
      "source": "predicted = model.predict(X_test,num_iteration=model.best_iteration)\ny_pred_max = np.argmax(predicted, axis=1)",
      "execution_count": null,
      "outputs": []
    },
    {
      "metadata": {
        "trusted": true,
        "_uuid": "7ef114fd02affd97684a80375a9fa0d5824053e0"
      },
      "cell_type": "code",
      "source": "from sklearn.metrics import accuracy_score\naccuracy_score(Y_test,y_pred_max)",
      "execution_count": null,
      "outputs": []
    },
    {
      "metadata": {
        "trusted": true,
        "_uuid": "11424d213df669a174b62886416313503251517e"
      },
      "cell_type": "code",
      "source": "Y_test[:5]",
      "execution_count": null,
      "outputs": []
    },
    {
      "metadata": {
        "trusted": true,
        "_uuid": "94140c823e84604e6e2939b9cae637c33d054662"
      },
      "cell_type": "code",
      "source": "predicted[:5]",
      "execution_count": null,
      "outputs": []
    },
    {
      "metadata": {
        "trusted": true,
        "_uuid": "f6cece790e2008d08592d91ef9fc652d659ba08c"
      },
      "cell_type": "code",
      "source": "pd.Series(np.argmax(predicted,axis = 1)).value_counts()",
      "execution_count": null,
      "outputs": []
    },
    {
      "metadata": {
        "trusted": true,
        "_uuid": "9d9440bcab617cae70e5e03020254bf6d72fbfd1"
      },
      "cell_type": "code",
      "source": "days = env.get_prediction_days()",
      "execution_count": null,
      "outputs": []
    },
    {
      "metadata": {
        "trusted": true,
        "_uuid": "f9d04721904056de2b6c25383f2d20c991cb0607"
      },
      "cell_type": "code",
      "source": "market_obs_df, news_obs_df, predictions_template_df = next(days)",
      "execution_count": null,
      "outputs": []
    },
    {
      "metadata": {
        "trusted": true,
        "_uuid": "5290f43e04bc37ffeb73637a5ab793fb34b88a1e"
      },
      "cell_type": "code",
      "source": "market_df = data_prep(market_obs_df, news_obs_df)\nmarket_df = market_df[market_df.assetCode.isin(predictions_template_df.assetCode)]\nX = market_df[fcol].fillna(0).values\nX[X > 1000000000] = 1000000000\nX[X < -1000000000] = -1000000000\nX = sc.transform(X)\ny_pred_prob = model.predict(X, num_iteration=model.best_iteration)\ny_pred_category = np.argmax(y_pred_prob, axis = 1)\nconfidence = (y_pred_category - ((4 - 1) / 2)) / ((4-1)/2)  #4: number of category\npreds = pd.DataFrame({\"assetCode\":market_obs_df[\"assetCode\"],\"confidence\":confidence})\npredictions_template_df = predictions_template_df.merge(preds,how=\"left\")\\\n    .drop(\"confidenceValue\",axis=1).fillna(0)\\\n    .rename(columns={\"confidence\":\"confidenceValue\"})",
      "execution_count": null,
      "outputs": []
    },
    {
      "metadata": {
        "trusted": true,
        "_uuid": "b035b39083a7f995cbfe1e85f060db420cdabf82"
      },
      "cell_type": "code",
      "source": "predictions_template_df.plot(kind=\"hist\")",
      "execution_count": null,
      "outputs": []
    },
    {
      "metadata": {
        "trusted": true,
        "_uuid": "b5871b45e10b74bb4ff90ccde95cdff52cd60afa"
      },
      "cell_type": "code",
      "source": "env.predict(predictions_template_df)",
      "execution_count": null,
      "outputs": []
    },
    {
      "metadata": {
        "trusted": true,
        "_uuid": "4408df63800d7f69bdb7e5f33893ae966bf59ffc"
      },
      "cell_type": "code",
      "source": "%%time\nfor market_obs_df, news_obs_df, predictions_template_df in days:\n    market_df = data_prep(market_obs_df, news_obs_df)\n    market_df = market_df[market_df.assetCode.isin(predictions_template_df.assetCode)]\n    X = market_df[fcol].fillna(0).values\n    X[X > 1000000000] = 1000000000\n    X[X < -1000000000] = -1000000000\n    X = sc.transform(X)\n    y_pred_prob = model.predict(X, num_iteration=model.best_iteration)\n    y_pred_category = np.argmax(y_pred_prob, axis = 1)\n    confidence = (y_pred_category - ((4 - 1) / 2)) / ((4-1)/2)  #4: number of category\n    preds = pd.DataFrame({\"assetCode\":market_obs_df[\"assetCode\"],\"confidence\":confidence})\n    predictions_template_df = predictions_template_df.merge(preds,how=\"left\")\\\n        .drop(\"confidenceValue\",axis=1).fillna(0)\\\n        .rename(columns={\"confidence\":\"confidenceValue\"})\n    env.predict(predictions_template_df)\n\nenv.write_submission_file()",
      "execution_count": null,
      "outputs": []
    },
    {
      "metadata": {
        "trusted": true,
        "_uuid": "4c4bb8618e8d4aa3e6b118b422e3a1bab594b325"
      },
      "cell_type": "code",
      "source": "import os\nprint([filename for filename in os.listdir(\".\") if \".csv\" in filename])",
      "execution_count": null,
      "outputs": []
    },
    {
      "metadata": {
        "trusted": true,
        "_uuid": "948204a1454b64cbadae4b9c98924e7dadc23760"
      },
      "cell_type": "code",
      "source": "",
      "execution_count": null,
      "outputs": []
    }
  ],
  "metadata": {
    "kernelspec": {
      "display_name": "Python 3",
      "language": "python",
      "name": "python3"
    },
    "language_info": {
      "name": "python",
      "version": "3.6.6",
      "mimetype": "text/x-python",
      "codemirror_mode": {
        "name": "ipython",
        "version": 3
      },
      "pygments_lexer": "ipython3",
      "nbconvert_exporter": "python",
      "file_extension": ".py"
    }
  },
  "nbformat": 4,
  "nbformat_minor": 1
}