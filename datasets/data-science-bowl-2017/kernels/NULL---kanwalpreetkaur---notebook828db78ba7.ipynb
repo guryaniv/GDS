{
  "cells": [
    {
      "cell_type": "code",
      "execution_count": null,
      "metadata": {
        "_cell_guid": "ff4da126-e1a2-753d-4c4f-35d39e37b7e7"
      },
      "outputs": [],
      "source": [
        "# This Python 3 environment comes with many helpful analytics libraries installed\n",
        "# It is defined by the kaggle/python docker image: https://github.com/kaggle/docker-python\n",
        "# For example, here's several helpful packages to load in \n",
        "\n",
        "import numpy as np # linear algebra\n",
        "import pandas as pd # data processing, CSV file I/O (e.g. pd.read_csv)\n",
        "\n",
        "# Input data files are available in the \"../input/\" directory.\n",
        "# For example, running this (by clicking run or pressing Shift+Enter) will list the files in the input directory\n",
        "data_dir = '../input/sample_images'\n",
        "print(data_dir)\n",
        "    \n",
        "\n",
        "# Any results you write to the current directory are saved as output.\n",
        "from subprocess import check_output\n",
        "print(check_output([\"ls\", \"../input\"]).decode(\"utf8\"))"
      ]
    },
    {
      "cell_type": "code",
      "execution_count": null,
      "metadata": {
        "_cell_guid": "8ff1c689-7c3b-2c8d-432a-a094b88bdd61"
      },
      "outputs": [],
      "source": [
        "import os # for doing directory operations \n",
        "import pandas as pd \n",
        "import dicom\n",
        "%matplotlib inline\n",
        "\n",
        "import numpy as np # linear algebra\n",
        "import pandas as pd # data processing, CSV file I/O (e.g. pd.read_csv)\n",
        "import dicom\n",
        "import os\n",
        "import scipy.ndimage\n",
        "import matplotlib.pyplot as plt\n",
        "import itertools\n",
        "\n",
        "from mpl_toolkits.mplot3d.art3d import Poly3DCollection"
      ]
    },
    {
      "cell_type": "code",
      "execution_count": null,
      "metadata": {
        "_cell_guid": "f94195b0-32fc-d634-73fe-356b05782064"
      },
      "outputs": [],
      "source": [
        "patients = os.listdir(data_dir)\n",
        "patients\n"
      ]
    },
    {
      "cell_type": "code",
      "execution_count": null,
      "metadata": {
        "_cell_guid": "b5c399f7-b863-e5f9-5fad-2f6de4988388"
      },
      "outputs": [],
      "source": [
        "print (len(patients))"
      ]
    },
    {
      "cell_type": "code",
      "execution_count": null,
      "metadata": {
        "_cell_guid": "a9e8b22d-46b6-f249-e404-e081e8dfde81"
      },
      "outputs": [],
      "source": [
        "labels_df = pd.read_csv('../input/stage1_labels.csv', index_col=0)\n",
        "labels_df.head()"
      ]
    },
    {
      "cell_type": "code",
      "execution_count": null,
      "metadata": {
        "_cell_guid": "12d56ced-64d2-68c0-6d3c-c5e3fad764e7"
      },
      "outputs": [],
      "source": [
        "# Load the scans in given folder path\n",
        "def load_scan(path):\n",
        "    slices = [dicom.read_file(path + '/' + s) for s in os.listdir(path)]\n",
        "    slices.sort(key = lambda x: float(x.ImagePositionPatient[2]))\n",
        "    try:\n",
        "        slice_thickness = np.abs(slices[0].ImagePositionPatient[2] - slices[1].ImagePositionPatient[2])\n",
        "    except:\n",
        "        slice_thickness = np.abs(slices[0].SliceLocation - slices[1].SliceLocation)\n",
        "        \n",
        "    for s in slices:\n",
        "        s.SliceThickness = slice_thickness\n",
        "        \n",
        "    return slices\n"
      ]
    },
    {
      "cell_type": "code",
      "execution_count": null,
      "metadata": {
        "_cell_guid": "a80816f5-b209-9648-8668-b3da776cb67a"
      },
      "outputs": [],
      "source": [
        "def get_pixels_hu(slices):\n",
        "    image = np.stack([s.pixel_array for s in slices])\n",
        "    # Convert to int16 (from sometimes int16), \n",
        "    # should be possible as values should always be low enough (<32k)\n",
        "    image = image.astype(np.int16)\n",
        "\n",
        "    # Set outside-of-scan pixels to 0\n",
        "    # The intercept is usually -1024, so air is approximately 0\n",
        "    image[image == -2000] = 0\n",
        "    \n",
        "    # Convert to Hounsfield units (HU)\n",
        "    for slice_number in range(len(slices)):\n",
        "        \n",
        "        intercept = slices[slice_number].RescaleIntercept\n",
        "        slope = slices[slice_number].RescaleSlope\n",
        "        \n",
        "        if slope != 1:\n",
        "            image[slice_number] = slope * image[slice_number].astype(np.float64)\n",
        "            image[slice_number] = image[slice_number].astype(np.int16)\n",
        "            \n",
        "        image[slice_number] += np.int16(intercept)\n",
        "    \n",
        "    return np.array(image, dtype=np.int16)"
      ]
    },
    {
      "cell_type": "code",
      "execution_count": null,
      "metadata": {
        "_cell_guid": "e56d4f00-2dc2-f530-f008-ae2bd745b464"
      },
      "outputs": [],
      "source": [
        "data_dir"
      ]
    },
    {
      "cell_type": "code",
      "execution_count": null,
      "metadata": {
        "_cell_guid": "bfafa0fe-beb0-f51d-ef72-a0522d6bce6b"
      },
      "outputs": [],
      "source": [
        "patients[0]"
      ]
    },
    {
      "cell_type": "code",
      "execution_count": null,
      "metadata": {
        "_cell_guid": "b59c42f5-fdb1-ccd6-0d66-9bc173357acc"
      },
      "outputs": [],
      "source": [
        "first_patient = load_scan(data_dir + '/'+ patients[0])\n",
        "first_patient_pixels = get_pixels_hu(first_patient)\n",
        "plt.hist(first_patient_pixels.flatten(), bins=80, color='c')\n",
        "plt.xlabel(\"Hounsfield Units (HU)\")\n",
        "plt.ylabel(\"Frequency\")\n",
        "plt.show()\n",
        "\n"
      ]
    },
    {
      "cell_type": "code",
      "execution_count": null,
      "metadata": {
        "_cell_guid": "d76a9f25-6193-858f-fb88-3db6f9ef3ae8"
      },
      "outputs": [],
      "source": [
        "# Show some slice in the middle\n",
        "plt.imshow(first_patient_pixels[80], cmap=plt.cm.gray)\n",
        "plt.show()"
      ]
    },
    {
      "cell_type": "code",
      "execution_count": null,
      "metadata": {
        "_cell_guid": "ef5f60b1-1466-3875-51c5-c2acf4d41b05"
      },
      "outputs": [],
      "source": [
        "def resample(image, scan, new_spacing=[1,1,1]):\n",
        "    # Determine current pixel spacing\n",
        "    spacing = np.array([scan[0].SliceThickness] + scan[0].PixelSpacing, dtype=np.float32)\n",
        "\n",
        "    resize_factor = spacing / new_spacing\n",
        "    new_real_shape = image.shape * resize_factor\n",
        "    new_shape = np.round(new_real_shape)\n",
        "    real_resize_factor = new_shape / image.shape\n",
        "    new_spacing = spacing / real_resize_factor\n",
        "    \n",
        "    image = scipy.ndimage.interpolation.zoom(image, real_resize_factor, mode='nearest')\n",
        "    \n",
        "    return image, new_spacing"
      ]
    },
    {
      "cell_type": "code",
      "execution_count": null,
      "metadata": {
        "_cell_guid": "74e2569b-13d5-3153-6e06-3f9579f0e34a"
      },
      "outputs": [],
      "source": [
        "pix_resampled, spacing = resample(first_patient_pixels, first_patient, [1,1,1])\n",
        "print(\"Shape before resampling\\t\", first_patient_pixels.shape)\n",
        "print(\"Shape after resampling\\t\", pix_resampled.shape)"
      ]
    },
    {
      "cell_type": "code",
      "execution_count": null,
      "metadata": {
        "_cell_guid": "a351d22f-3de7-6adb-ff3e-fbc36bae0110"
      },
      "outputs": [],
      "source": [
        "from skimage import measure, morphology"
      ]
    },
    {
      "cell_type": "code",
      "execution_count": null,
      "metadata": {
        "_cell_guid": "c9b67fd1-3a53-c636-eca0-ebb1c74faedd"
      },
      "outputs": [],
      "source": [
        "def plot_3d(image, threshold=-300):\n",
        "    \n",
        "    # Position the scan upright, \n",
        "    # so the head of the patient would be at the top facing the camera\n",
        "    p = image.transpose(2,1,0)\n",
        "    \n",
        "    verts, faces = skimage.measure.marching_cubes_classic(p, threshold)\n",
        "\n",
        "    fig = plt.figure(figsize=(10, 10))\n",
        "    ax = fig.add_subplot(111, projection='3d')\n",
        "\n",
        "    # Fancy indexing: `verts[faces]` to generate a collection of triangles\n",
        "    mesh = Poly3DCollection(verts[faces], alpha=0.70)\n",
        "    face_color = [0.45, 0.45, 0.75]\n",
        "    mesh.set_facecolor(face_color)\n",
        "    ax.add_collection3d(mesh)\n",
        "\n",
        "    ax.set_xlim(0, p.shape[0])\n",
        "    ax.set_ylim(0, p.shape[1])\n",
        "    ax.set_zlim(0, p.shape[2])\n",
        "\n",
        "    plt.show()"
      ]
    },
    {
      "cell_type": "code",
      "execution_count": null,
      "metadata": {
        "_cell_guid": "491fbf89-7a44-69ff-6385-e86eef691fb9"
      },
      "outputs": [],
      "source": [
        "plot_3d(pix_resampled,400)"
      ]
    },
    {
      "cell_type": "code",
      "execution_count": null,
      "metadata": {
        "_cell_guid": "e38e1e23-41bc-69ed-1a5c-c3e33794d451"
      },
      "outputs": [],
      "source": [
        "def largest_label_volume(im, bg=-1):\n",
        "    vals, counts = np.unique(im, return_counts=True)\n",
        "\n",
        "    counts = counts[vals != bg]\n",
        "    vals = vals[vals != bg]\n",
        "\n",
        "    if len(counts) > 0:\n",
        "        return vals[np.argmax(counts)]\n",
        "    else:\n",
        "        return None\n",
        "\n",
        "def segment_lung_mask(image, fill_lung_structures=True):\n",
        "    \n",
        "    # not actually binary, but 1 and 2. \n",
        "    # 0 is treated as background, which we do not want\n",
        "    binary_image = np.array(image > -320, dtype=np.int8)+1\n",
        "    labels = measure.label(binary_image)\n",
        "    \n",
        "    # Pick the pixel in the very corner to determine which label is air.\n",
        "    #   Improvement: Pick multiple background labels from around the patient\n",
        "    #   More resistant to \"trays\" on which the patient lays cutting the air \n",
        "    #   around the person in half\n",
        "    background_label = labels[0,0,0]\n",
        "    \n",
        "    #Fill the air around the person\n",
        "    binary_image[background_label == labels] = 2\n",
        "    \n",
        "    \n",
        "    # Method of filling the lung structures (that is superior to something like \n",
        "    # morphological closing)\n",
        "    if fill_lung_structures:\n",
        "        # For every slice we determine the largest solid structure\n",
        "        for i, axial_slice in enumerate(binary_image):\n",
        "            axial_slice = axial_slice - 1\n",
        "            labeling = measure.label(axial_slice)\n",
        "            l_max = largest_label_volume(labeling, bg=0)\n",
        "            \n",
        "            if l_max is not None: #This slice contains some lung\n",
        "                binary_image[i][labeling != l_max] = 1\n",
        "\n",
        "    \n",
        "    binary_image -= 1 #Make the image actual binary\n",
        "    binary_image = 1-binary_image # Invert it, lungs are now 1\n",
        "    \n",
        "    # Remove other air pockets insided body\n",
        "    labels = measure.label(binary_image, background=0)\n",
        "    l_max = largest_label_volume(labels, bg=0)\n",
        "    if l_max is not None: # There are air pockets\n",
        "        binary_image[labels != l_max] = 0\n",
        " \n",
        "    return binary_image"
      ]
    },
    {
      "cell_type": "code",
      "execution_count": null,
      "metadata": {
        "_cell_guid": "4793cc89-a8c0-a8df-eee4-6f4700aa7e3d"
      },
      "outputs": [],
      "source": [
        "segmented_lungs = segment_lung_mask(pix_resampled, False)\n",
        "segmented_lungs_fill = segment_lung_mask(pix_resampled, True)"
      ]
    },
    {
      "cell_type": "code",
      "execution_count": null,
      "metadata": {
        "_cell_guid": "6d2fa88b-ce6e-1208-8e97-9971b3ed8309"
      },
      "outputs": [],
      "source": [
        "import sys\n",
        "import numpy\n",
        "from PIL import Image"
      ]
    },
    {
      "cell_type": "code",
      "execution_count": null,
      "metadata": {
        "_cell_guid": "d3ffdecd-42b4-ff55-7cbf-960898a742a4"
      },
      "outputs": [],
      "source": [
        "segmented_lungs"
      ]
    },
    {
      "cell_type": "code",
      "execution_count": null,
      "metadata": {
        "_cell_guid": "f491fbd5-c21c-d1d8-a3b1-bd12321b254a"
      },
      "outputs": [],
      "source": [
        "logo = plot_3d(segmented_lungs, 0)"
      ]
    },
    {
      "cell_type": "code",
      "execution_count": null,
      "metadata": {
        "_cell_guid": "01d0171d-c3a4-243a-498b-e9f8ff8b75f2"
      },
      "outputs": [],
      "source": [
        "from skimage import io"
      ]
    },
    {
      "cell_type": "code",
      "execution_count": null,
      "metadata": {
        "_cell_guid": "11647045-76dc-ee97-3d2c-f2d29d6f3b00"
      },
      "outputs": [],
      "source": [
        "plot_3d(segmented_lungs_fill, 0)"
      ]
    },
    {
      "cell_type": "code",
      "execution_count": null,
      "metadata": {
        "_cell_guid": "6f0b2962-648e-75bc-d8d2-3dd55e50046b"
      },
      "outputs": [],
      "source": [
        "from flask import Flask, render_template, request, url_for, redirect\n",
        "\n",
        "\n",
        "WIDTH = 400\n",
        "HEIGHT = 600\n",
        "\n",
        "\n",
        "# Initialize the Flask application\n",
        "app = Flask(__name__)\n",
        "\n",
        "# Define a route for the default URL, which loads the form\n",
        "@app.route('/')\n",
        "def form():\n",
        "    return render_template('form_submit.html')"
      ]
    },
    {
      "cell_type": "code",
      "execution_count": null,
      "metadata": {
        "_cell_guid": "4ad9f6d6-01cb-4340-e529-daf40a16e038"
      },
      "outputs": [],
      "source": ""
    }
  ],
  "metadata": {
    "_change_revision": 0,
    "_is_fork": false,
    "kernelspec": {
      "display_name": "Python 3",
      "language": "python",
      "name": "python3"
    },
    "language_info": {
      "codemirror_mode": {
        "name": "ipython",
        "version": 3
      },
      "file_extension": ".py",
      "mimetype": "text/x-python",
      "name": "python",
      "nbconvert_exporter": "python",
      "pygments_lexer": "ipython3",
      "version": "3.6.0"
    }
  },
  "nbformat": 4,
  "nbformat_minor": 0
}