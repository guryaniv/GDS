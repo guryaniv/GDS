{
  "cells": [
    {
      "cell_type": "code",
      "execution_count": null,
      "metadata": {
        "_cell_guid": "99f76958-fbac-204d-a602-d006bb240d7d"
      },
      "outputs": [],
      "source": [
        "# This Python 3 environment comes with many helpful analytics libraries installed\n",
        "# It is defined by the kaggle/python docker image: https://github.com/kaggle/docker-python\n",
        "# For example, here's several helpful packages to load in \n",
        "\n",
        "import numpy as np # linear algebra\n",
        "import pandas as pd # data processing, CSV file I/O (e.g. pd.read_csv)\n",
        "import seaborn as sns\n",
        "import matplotlib.pyplot as plt\n",
        "\n",
        "# Input data files are available in the \"../input/\" directory.\n",
        "# For example, running this (by clicking run or pressing Shift+Enter) will list the files in the input directory\n",
        "\n",
        "from subprocess import check_output\n",
        "print(check_output([\"ls\", \"../input\"]).decode(\"utf8\"))\n",
        "\n",
        "# Any results you write to the current directory are saved as output."
      ]
    },
    {
      "cell_type": "code",
      "execution_count": null,
      "metadata": {
        "_cell_guid": "d04102ff-9c29-f6cc-3b32-d3da620000b0"
      },
      "outputs": [],
      "source": [
        "from bokeh.layouts import row\n",
        "from bokeh.plotting import figure, show, output_file\n",
        "from bokeh.io import push_notebook, show, output_notebook\n",
        "from bokeh.plotting import figure"
      ]
    },
    {
      "cell_type": "code",
      "execution_count": null,
      "metadata": {
        "_cell_guid": "4efd1b08-75ce-2191-aade-4786b14eeaf8"
      },
      "outputs": [],
      "source": [
        "df = pd.read_csv(\"../input/train.csv\")\n",
        "df.columns"
      ]
    },
    {
      "cell_type": "code",
      "execution_count": null,
      "metadata": {
        "_cell_guid": "62df9000-8687-bcaf-18c3-a36ac2ecb136"
      },
      "outputs": [],
      "source": [
        "df.columns.to_series().groupby(df.dtypes).groups"
      ]
    },
    {
      "cell_type": "code",
      "execution_count": null,
      "metadata": {
        "_cell_guid": "1258097f-2993-81f3-3316-d2a288fd1972"
      },
      "outputs": [],
      "source": [
        "list(df.select_dtypes(include=['int64']).columns)"
      ]
    },
    {
      "cell_type": "code",
      "execution_count": null,
      "metadata": {
        "_cell_guid": "db589368-8c57-5403-1bb5-ee1ac45ad709"
      },
      "outputs": [],
      "source": [
        "round(df.select_dtypes(include=['int64']).describe(),2)"
      ]
    },
    {
      "cell_type": "markdown",
      "metadata": {
        "_cell_guid": "976adb7f-3a61-2e48-ba14-17843ab48370"
      },
      "source": [
        "Number of rows with missing values. Way too many "
      ]
    },
    {
      "cell_type": "code",
      "execution_count": null,
      "metadata": {
        "_cell_guid": "fd1e4041-162e-efec-9931-60078ed47905"
      },
      "outputs": [],
      "source": [
        "df.shape[0] - df.dropna().shape[0]"
      ]
    },
    {
      "cell_type": "code",
      "execution_count": null,
      "metadata": {
        "_cell_guid": "7285e9ee-eaf2-d6ac-3729-2ac7885b8a60"
      },
      "outputs": [],
      "source": [
        "df.count(level=None, numeric_only=False)"
      ]
    },
    {
      "cell_type": "code",
      "execution_count": null,
      "metadata": {
        "_cell_guid": "c910e72b-8d69-edde-36ef-2318f2a8dc80"
      },
      "outputs": [],
      "source": [
        "df['num_room'].describe()"
      ]
    },
    {
      "cell_type": "code",
      "execution_count": null,
      "metadata": {
        "_cell_guid": "d8f36ba9-22bd-ab87-680c-726f3c9255a6"
      },
      "outputs": [],
      "source": [
        "round(df['price_doc'].describe(),0)"
      ]
    },
    {
      "cell_type": "code",
      "execution_count": null,
      "metadata": {
        "_cell_guid": "8fe323c8-46de-4735-e3af-733f7289a58c"
      },
      "outputs": [],
      "source": [
        "df.iloc[:3, :2]"
      ]
    },
    {
      "cell_type": "markdown",
      "metadata": {
        "_cell_guid": "c4152f1b-a3c3-d6a7-1b90-1d683622a9f3"
      },
      "source": [
        "Let's find missing values"
      ]
    },
    {
      "cell_type": "code",
      "execution_count": null,
      "metadata": {
        "_cell_guid": "15ff3307-3a28-ffbb-2880-901d14d76c32"
      },
      "outputs": [],
      "source": [
        "x = np.array([df.isnull().sum()])"
      ]
    },
    {
      "cell_type": "code",
      "execution_count": null,
      "metadata": {
        "_cell_guid": "7cf4be7e-d742-210c-f421-0b8fc0056c12"
      },
      "outputs": [],
      "source": [
        "x[]"
      ]
    },
    {
      "cell_type": "code",
      "execution_count": null,
      "metadata": {
        "_cell_guid": "d07c6fba-d8e6-b4ee-ce5f-5baed451a5c3"
      },
      "outputs": [],
      "source": [
        "np.sort(x)"
      ]
    },
    {
      "cell_type": "code",
      "execution_count": null,
      "metadata": {
        "_cell_guid": "aca1b3f9-421d-9785-ca9e-92cb87346d6e"
      },
      "outputs": [],
      "source": [
        "df2 = df.dropna()"
      ]
    },
    {
      "cell_type": "code",
      "execution_count": null,
      "metadata": {
        "_cell_guid": "711051a1-9cde-04f6-8dde-fcd64208b6f5"
      },
      "outputs": [],
      "source": [
        "plt.scatter( df['num_room'], df['price_doc'])\n",
        "plt.title(\"Rooms v Price\")\n",
        "plt.ylabel('price_doc')\n",
        "plt.xlabel('num_room')"
      ]
    },
    {
      "cell_type": "code",
      "execution_count": null,
      "metadata": {
        "_cell_guid": "dfd461fd-fef2-1c4c-3082-a42c6288ba17"
      },
      "outputs": [],
      "source": [
        "rooms = pd.Series(df['num_room'])"
      ]
    },
    {
      "cell_type": "code",
      "execution_count": null,
      "metadata": {
        "_cell_guid": "e69909d7-da47-5013-2eb4-201af517dc0e"
      },
      "outputs": [],
      "source": [
        "price = pd.Series(df2['price_doc'])\n",
        "fig, ax2 = plt.subplots()\n",
        "ax2.hist(price, alpha=0.5, color='blue')"
      ]
    },
    {
      "cell_type": "code",
      "execution_count": null,
      "metadata": {
        "_cell_guid": "ec76ef7e-2187-8751-6fe8-228babfccbb5"
      },
      "outputs": [],
      "source": [
        "fig=plt.figure()\n",
        "ax=fig.add_subplot(1,1,1)\n",
        "ax.hist(rooms, bins=30)"
      ]
    },
    {
      "cell_type": "code",
      "execution_count": null,
      "metadata": {
        "_cell_guid": "08c1fb46-4e05-e709-283b-303ffcfaabde"
      },
      "outputs": [],
      "source": [
        "kwargs = dict(histtype='stepfilled', alpha=0.3, normed=True, bins=40)\n",
        "\n",
        "plt.hist(rooms, **kwargs)\n"
      ]
    },
    {
      "cell_type": "code",
      "execution_count": null,
      "metadata": {
        "_cell_guid": "a3a65f0b-8fac-025d-fcee-d4f331c6208f"
      },
      "outputs": [],
      "source": [
        "rooms.isnull()"
      ]
    },
    {
      "cell_type": "code",
      "execution_count": null,
      "metadata": {
        "_cell_guid": "3a86d6cc-d94d-f839-51bb-b875cd07955d"
      },
      "outputs": [],
      "source": [
        "df['office_raion'].describe()"
      ]
    }
  ],
  "metadata": {
    "_change_revision": 0,
    "_is_fork": false,
    "kernelspec": {
      "display_name": "Python 3",
      "language": "python",
      "name": "python3"
    },
    "language_info": {
      "codemirror_mode": {
        "name": "ipython",
        "version": 3
      },
      "file_extension": ".py",
      "mimetype": "text/x-python",
      "name": "python",
      "nbconvert_exporter": "python",
      "pygments_lexer": "ipython3",
      "version": "3.6.0"
    }
  },
  "nbformat": 4,
  "nbformat_minor": 0
}