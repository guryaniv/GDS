{
  "cells": [
    {
      "cell_type": "markdown",
      "metadata": {
        "_cell_guid": "0e2939f3-3a46-fbb3-8d2b-69b78ee2352d"
      },
      "source": [
        "#Content:\n",
        " 1. Introduction\n",
        " 2. Decision Tree\n",
        " 3. Random Forest\n"
      ]
    },
    {
      "cell_type": "markdown",
      "metadata": {
        "_cell_guid": "395ff35e-a66e-01a2-eaca-3464480c41dc"
      },
      "source": [
        "## Introduction\n",
        "\n",
        "In the following, I will run several machine learning algorithms. At first, I will focus on decision trees and random forest which have not yet been evaluated.\n",
        "I will be using the python library sklearn."
      ]
    },
    {
      "cell_type": "markdown",
      "metadata": {
        "_cell_guid": "9540c2e0-72c4-2844-168d-82b1a4a65af4"
      },
      "source": [
        "### Loading Data and Restructering"
      ]
    },
    {
      "cell_type": "code",
      "execution_count": null,
      "metadata": {
        "_cell_guid": "624a21b3-df95-eb39-cbf0-c397809983fb"
      },
      "outputs": [],
      "source": [
        "import pandas as pd\n",
        "import matplotlib.pyplot as plt\n",
        "import numpy as np\n",
        "from sklearn.tree import DecisionTreeClassifier\n",
        "from sklearn.ensemble import RandomForestClassifier\n",
        "from sklearn.model_selection import  train_test_split\n",
        "from sklearn.metrics import confusion_matrix\n",
        "import itertools\n",
        "from sklearn.decomposition import PCA\n",
        "\n",
        "\n",
        "from subprocess import check_output\n",
        "fraud_data = pd.read_csv(\"../input/creditcard.csv\")\n",
        "\n",
        "X = fraud_data.ix[:, fraud_data.columns != 'Class'] \n",
        "y = fraud_data.ix[:, fraud_data.columns == 'Class'] \n",
        "\n",
        "### splitting data in training and test set\n",
        "X_train, X_test, y_train, y_test = train_test_split(X, y, test_size=0.2, random_state=0)\n",
        "\n",
        "###looking at the data\n",
        "\n",
        "fraud_data.head()"
      ]
    },
    {
      "cell_type": "markdown",
      "metadata": {
        "_cell_guid": "988e9283-4d22-aa01-5b06-b65841230b81"
      },
      "source": [
        "It is not necessary to scale or drop the time and amount because the algorithms are not scaling sensitive. The following function will be used for visualizing the developed models, which was taken from the work of joparga3."
      ]
    },
    {
      "cell_type": "code",
      "execution_count": null,
      "metadata": {
        "_cell_guid": "233aaac7-84de-e0a5-289f-96d3d554977d"
      },
      "outputs": [],
      "source": [
        "def plot_confusion_matrix(cm,normalize=False,\n",
        "                              title='Confusion matrix',\n",
        "                              cmap=plt.cm.Blues):\n",
        "        \"\"\"\n",
        "        This function prints and plots the confusion matrix.\n",
        "        Normalization can be applied by setting `normalize=True`.\n",
        "        \"\"\"\n",
        "        classes=['Non-Fraud','Fraud']\n",
        "        plt.imshow(cm, interpolation='nearest', cmap=cmap)\n",
        "        plt.title(title)\n",
        "        plt.colorbar()\n",
        "        tick_marks = np.arange(len(classes))\n",
        "        plt.xticks(tick_marks, classes, rotation=0)\n",
        "        plt.yticks(tick_marks, classes)\n",
        "\n",
        "        if normalize:\n",
        "            cm = cm.astype('float') / cm.sum(axis=1)[:, np.newaxis]\n",
        "            # print(\"Normalized confusion matrix\")\n",
        "        else:\n",
        "            1  # print('Confusion matrix, without normalization')\n",
        "\n",
        "        # print(cm)\n",
        "\n",
        "        thresh = cm.max() / 2.\n",
        "        for i, j in itertools.product(range(cm.shape[0]), range(cm.shape[1])):\n",
        "            plt.text(j, i, cm[i, j],\n",
        "                     horizontalalignment=\"center\",\n",
        "                     color=\"white\" if cm[i, j] > thresh else \"black\")\n",
        "\n",
        "        plt.tight_layout()\n",
        "        plt.ylabel('True label')\n",
        "        plt.xlabel('Predicted label')\n",
        "        return ()"
      ]
    },
    {
      "cell_type": "markdown",
      "metadata": {
        "_cell_guid": "49001c68-bafe-e65e-e1bd-8732270327ff"
      },
      "source": [
        "## Decision Tree"
      ]
    },
    {
      "cell_type": "markdown",
      "metadata": {
        "_cell_guid": "c38449d3-f25a-6900-00ae-665412bf8927"
      },
      "source": [
        "The following code estimates a decision tree based on the training data set and compares the prediction with the training data sample. "
      ]
    },
    {
      "cell_type": "code",
      "execution_count": null,
      "metadata": {
        "_cell_guid": "1e94aae9-f141-5495-da68-07d160e5f14b"
      },
      "outputs": [],
      "source": [
        "desctree=DecisionTreeClassifier(max_leaf_nodes=3, random_state=0)\n",
        "pca= PCA()\n",
        "X_train_dtree = pd.DataFrame(pca.fit_transform(X_train))\n",
        "desctree.fit=desctree.fit(X_train, y_train)\n",
        "Y_train_dtree = pd.DataFrame(desctree.predict(X_test))\n",
        "cnf_matrix_dtree = confusion_matrix(y_test, Y_train_dtree)\n",
        "plt.figure()\n",
        "plot_confusion_matrix(cnf_matrix_dtree, title='Confusion matrix for a decision tree')\n",
        "plt.show()"
      ]
    },
    {
      "cell_type": "markdown",
      "metadata": {
        "_cell_guid": "4f782dca-39bb-1dac-34d6-682d097af02e"
      },
      "source": [
        "## Random Forest"
      ]
    },
    {
      "cell_type": "markdown",
      "metadata": {
        "_cell_guid": "2da491f1-1b0f-60ec-437b-b3f13a1bf3e0"
      },
      "source": [
        "The following code estimates a random forest based on the training data set and compares the prediction with the training data sample. "
      ]
    },
    {
      "cell_type": "code",
      "execution_count": null,
      "metadata": {
        "_cell_guid": "8bd6fb08-720f-cca3-35f3-a81bfac770d8"
      },
      "outputs": [],
      "source": [
        "rforest= RandomForestClassifier(criterion='entropy')\n",
        "rforest.fit=rforest.fit(X_train,y_train)\n",
        "Y_train_rforest = pd.DataFrame(rforest.predict(X_test))\n",
        "cnf_matrix_rforest = confusion_matrix(y_test, Y_train_rforest)\n",
        "plt.figure()\n",
        "plot_confusion_matrix(cnf_matrix_rforest, title='Confusion matrix for random forest')\n",
        "plt.show()"
      ]
    }
  ],
  "metadata": {
    "_change_revision": 0,
    "_is_fork": false,
    "kernelspec": {
      "display_name": "Python 3",
      "language": "python",
      "name": "python3"
    },
    "language_info": {
      "codemirror_mode": {
        "name": "ipython",
        "version": 3
      },
      "file_extension": ".py",
      "mimetype": "text/x-python",
      "name": "python",
      "nbconvert_exporter": "python",
      "pygments_lexer": "ipython3",
      "version": "3.6.0"
    }
  },
  "nbformat": 4,
  "nbformat_minor": 0
}