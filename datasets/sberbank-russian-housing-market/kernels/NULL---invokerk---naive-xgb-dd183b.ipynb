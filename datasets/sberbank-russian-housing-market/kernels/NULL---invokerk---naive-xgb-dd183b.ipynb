{
  "cells": [
    {
      "cell_type": "markdown",
      "metadata": {
        "_cell_guid": "ac06cd79-9189-6d2b-9a83-012d19327beb"
      },
      "source": [
        "Load the required libraries and data. "
      ]
    },
    {
      "cell_type": "code",
      "execution_count": null,
      "metadata": {
        "_cell_guid": "555a1731-6a24-51ed-f194-a47541b955db"
      },
      "outputs": [],
      "source": [
        "import numpy as np\n",
        "import pandas as pd\n",
        "import matplotlib.pyplot as plt\n",
        "import seaborn as sns\n",
        "%matplotlib inline\n",
        "from sklearn import model_selection, preprocessing\n",
        "import xgboost as xgb\n",
        "import datetime\n",
        "#now = datetime.datetime.now()\n",
        "\n",
        "train = pd.read_csv('../input/train.csv')\n",
        "test = pd.read_csv('../input/test.csv')\n",
        "macro = pd.read_csv('../input/macro.csv')\n",
        "id_test = test.id\n",
        "train.sample(3)\n",
        "# Any results you write to the current directory are saved as output."
      ]
    },
    {
      "cell_type": "code",
      "execution_count": null,
      "metadata": {
        "_cell_guid": "030dbd30-c4b0-71ba-4cc6-1a33db762599"
      },
      "outputs": [],
      "source": [
        "#It seems that this doen't improve anything. \n",
        "\n",
        "#train[\"timestamp\"] = pd.to_datetime(train[\"timestamp\"])\n",
        "#train[\"year\"], train[\"month\"], train[\"day\"] = train[\"timestamp\"].dt.year,train[\"timestamp\"].dt.month,train[\"timestamp\"].dt.day\n",
        "\n",
        "#test[\"timestamp\"] = pd.to_datetime(test[\"timestamp\"])\n",
        "#test[\"year\"], test[\"month\"], test[\"day\"] = test[\"timestamp\"].dt.year,test[\"timestamp\"].dt.month,test[\"timestamp\"].dt.day"
      ]
    },
    {
      "cell_type": "code",
      "execution_count": null,
      "metadata": {
        "_cell_guid": "99278d98-cd21-7952-6391-44a01d2d121b"
      },
      "outputs": [],
      "source": [
        "\n",
        "y_train = train[\"price_doc\"]\n",
        "x_train = train.drop([\"id\", \"timestamp\", \"price_doc\"], axis=1)\n",
        "x_test = test.drop([\"id\", \"timestamp\"], axis=1)\n",
        "\n",
        "#can't merge train with test because the kernel run for very long time\n",
        "\n",
        "for c in x_train.columns:\n",
        "    if x_train[c].dtype == 'object':\n",
        "        lbl = preprocessing.LabelEncoder()\n",
        "        lbl.fit(list(x_train[c].values)) \n",
        "        x_train[c] = lbl.transform(list(x_train[c].values))\n",
        "        #x_train.drop(c,axis=1,inplace=True)\n",
        "        \n",
        "for c in x_test.columns:\n",
        "    if x_test[c].dtype == 'object':\n",
        "        lbl = preprocessing.LabelEncoder()\n",
        "        lbl.fit(list(x_test[c].values)) \n",
        "        x_test[c] = lbl.transform(list(x_test[c].values))\n",
        "        #x_test.drop(c,axis=1,inplace=True)        "
      ]
    },
    {
      "cell_type": "code",
      "execution_count": null,
      "metadata": {
        "_cell_guid": "8af6c180-4e30-8c18-9b93-9dc32a242792"
      },
      "outputs": [],
      "source": [
        "xgb_params = {\n",
        "    'eta': 0.05,\n",
        "    'max_depth': 5,\n",
        "    'subsample': 0.7,\n",
        "    'colsample_bytree': 0.7,\n",
        "    'objective': 'reg:linear',\n",
        "    'eval_metric': 'rmse',\n",
        "    'silent': 1\n",
        "}\n",
        "\n",
        "dtrain = xgb.DMatrix(x_train, y_train)\n",
        "dtest = xgb.DMatrix(x_test)"
      ]
    },
    {
      "cell_type": "code",
      "execution_count": null,
      "metadata": {
        "_cell_guid": "6fef7514-5663-5363-6083-6d7dfc6fb25e"
      },
      "outputs": [],
      "source": [
        "cv_output = xgb.cv(xgb_params, dtrain, num_boost_round=1000, early_stopping_rounds=20,\n",
        "    verbose_eval=50, show_stdv=False)\n",
        "cv_output[['train-rmse-mean', 'test-rmse-mean']].plot()"
      ]
    },
    {
      "cell_type": "code",
      "execution_count": null,
      "metadata": {
        "_cell_guid": "a96d1965-8328-35b0-d0a3-dfcfa77275ab"
      },
      "outputs": [],
      "source": [
        "num_boost_rounds = len(cv_output)\n",
        "model = xgb.train(dict(xgb_params, silent=0), dtrain, num_boost_round= num_boost_rounds)"
      ]
    },
    {
      "cell_type": "code",
      "execution_count": null,
      "metadata": {
        "_cell_guid": "2a04f7d8-3efa-df54-713e-f6222453c60b"
      },
      "outputs": [],
      "source": [
        "fig, ax = plt.subplots(1, 1, figsize=(8, 13))\n",
        "xgb.plot_importance(model, max_num_features=50, height=0.5, ax=ax)"
      ]
    },
    {
      "cell_type": "code",
      "execution_count": null,
      "metadata": {
        "_cell_guid": "27d0831f-df36-2608-b11a-a335c9a79613"
      },
      "outputs": [],
      "source": [
        "y_predict = model.predict(dtest)\n",
        "output = pd.DataFrame({'id': id_test, 'price_doc': y_predict})\n",
        "output.head()"
      ]
    },
    {
      "cell_type": "code",
      "execution_count": null,
      "metadata": {
        "_cell_guid": "0a5dbdee-3e96-aded-9c71-2e2c72af3e5a"
      },
      "outputs": [],
      "source": [
        "output.to_csv('xgbSub.csv', index=False)"
      ]
    }
  ],
  "metadata": {
    "_change_revision": 0,
    "_is_fork": false,
    "kernelspec": {
      "display_name": "Python 3",
      "language": "python",
      "name": "python3"
    },
    "language_info": {
      "codemirror_mode": {
        "name": "ipython",
        "version": 3
      },
      "file_extension": ".py",
      "mimetype": "text/x-python",
      "name": "python",
      "nbconvert_exporter": "python",
      "pygments_lexer": "ipython3",
      "version": "3.6.0"
    }
  },
  "nbformat": 4,
  "nbformat_minor": 0
}