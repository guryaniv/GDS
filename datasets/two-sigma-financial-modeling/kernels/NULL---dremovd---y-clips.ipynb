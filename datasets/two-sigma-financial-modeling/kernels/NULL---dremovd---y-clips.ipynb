{
  "cells": [
    {
      "cell_type": "code",
      "execution_count": null,
      "metadata": {
        "_cell_guid": "02991cd2-5064-8c76-6295-84be3bf640cc"
      },
      "outputs": [],
      "source": [
        "import pandas as pd\n",
        "import numpy as np\n",
        "\n",
        "train = pd.read_hdf('../input/train.h5')"
      ]
    },
    {
      "cell_type": "code",
      "execution_count": null,
      "metadata": {
        "_cell_guid": "4e97bf79-a1d5-4d1b-4867-9e28b74f5576"
      },
      "outputs": [],
      "source": [
        "from collections import Counter\n",
        "\n",
        "Counter(train['y']).most_common(n = 4)"
      ]
    },
    {
      "cell_type": "markdown",
      "metadata": {
        "_cell_guid": "0af99fff-c9f8-5b2d-f259-da42495aebf2"
      },
      "source": [
        "Any ideas what these \"clipped\" values mean?\n",
        "\n",
        "Why they are non-symmetrical?"
      ]
    }
  ],
  "metadata": {
    "_change_revision": 0,
    "_is_fork": false,
    "kernelspec": {
      "display_name": "Python 3",
      "language": "python",
      "name": "python3"
    },
    "language_info": {
      "codemirror_mode": {
        "name": "ipython",
        "version": 3
      },
      "file_extension": ".py",
      "mimetype": "text/x-python",
      "name": "python",
      "nbconvert_exporter": "python",
      "pygments_lexer": "ipython3",
      "version": "3.5.2"
    }
  },
  "nbformat": 4,
  "nbformat_minor": 0
}