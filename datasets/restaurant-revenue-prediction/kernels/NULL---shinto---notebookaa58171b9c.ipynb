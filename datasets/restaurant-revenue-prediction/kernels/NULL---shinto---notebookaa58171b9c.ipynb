{
  "cells": [
    {
      "cell_type": "code",
      "execution_count": null,
      "metadata": {
        "_cell_guid": "6b850def-e858-f001-fb12-ea7a62732b62"
      },
      "outputs": [],
      "source": [
        "import numpy as np # linear algebra\n",
        "import pandas as pd # data processing, CSV file I/O (e.g. pd.read_csv)\n",
        "train = pd.read_csv('../input/train.csv')\n",
        "test = pd.read_csv('../input/test.csv')\n",
        "# Have a quck look at the data\n",
        "train.head()"
      ]
    },
    {
      "cell_type": "markdown",
      "metadata": {
        "_cell_guid": "5d4c703d-ad3b-ed30-84d1-0682b403f9ed"
      },
      "source": [
        "## Descriptive Statistics"
      ]
    },
    {
      "cell_type": "code",
      "execution_count": null,
      "metadata": {
        "_cell_guid": "c79bd171-8d77-efbf-d108-d7f9baab0a7a"
      },
      "outputs": [],
      "source": [
        "train.shape"
      ]
    },
    {
      "cell_type": "code",
      "execution_count": null,
      "metadata": {
        "_cell_guid": "8df116a8-54d8-5bcf-44fb-02cfdcbf350c"
      },
      "outputs": [],
      "source": [
        "test.shape"
      ]
    },
    {
      "cell_type": "code",
      "execution_count": null,
      "metadata": {
        "_cell_guid": "a479c657-6eca-ea80-c100-b372957b2859"
      },
      "outputs": [],
      "source": [
        "y = train.revenue # This is our target feature\n",
        "test_id = test.Id # "
      ]
    },
    {
      "cell_type": "code",
      "execution_count": null,
      "metadata": {
        "_cell_guid": "17d68381-700a-5a55-011e-38f96b49f1aa"
      },
      "outputs": [],
      "source": [
        "\n",
        "train = train.drop(['Id', 'revenue'], axis=1)\n",
        "test = test.drop(['Id'], axis=1 )"
      ]
    },
    {
      "cell_type": "code",
      "execution_count": null,
      "metadata": {
        "_cell_guid": "2843021d-3415-cf8f-eca3-fb1219abbbd1"
      },
      "outputs": [],
      "source": [
        "# Look at the data type of each attribute\n",
        "train.dtypes"
      ]
    },
    {
      "cell_type": "markdown",
      "metadata": {
        "_cell_guid": "0c7bc456-bb62-70a8-f898-9605027b0ea9"
      },
      "source": [
        "## Identify Categorical and Continuous(numeric) features"
      ]
    },
    {
      "cell_type": "code",
      "execution_count": null,
      "metadata": {
        "_cell_guid": "2103fcfb-49d1-3edc-ad53-14d51c33818b"
      },
      "outputs": [],
      "source": [
        "cont_features = train.columns[train.dtypes != 'object']\n",
        "cat_features = train.columns[train.dtypes == 'object']\n",
        "cat_features"
      ]
    },
    {
      "cell_type": "markdown",
      "metadata": {
        "_cell_guid": "d54afecf-7347-c26c-619c-2cf2b7f2232c"
      },
      "source": [
        "## First model with all Continous features"
      ]
    },
    {
      "cell_type": "code",
      "execution_count": null,
      "metadata": {
        "_cell_guid": "aa071a88-089c-a8ec-089e-5e6b1be0085c"
      },
      "outputs": [],
      "source": [
        "from sklearn.linear_model import LinearRegression\n",
        "from sklearn.model_selection import cross_val_score\n",
        "X = train[cont_features].values\n",
        "model = LinearRegression()\n",
        "result = np.sqrt(-cross_val_score(model, X, y, cv=10, scoring='neg_mean_squared_error'))\n",
        "print(\"%f (%f)\" % (result.mean(), result.std()) )"
      ]
    },
    {
      "cell_type": "markdown",
      "metadata": {
        "_cell_guid": "7b5f417b-cc95-df5b-8bcd-8c1756540fe5"
      },
      "source": [
        "## First submission"
      ]
    },
    {
      "cell_type": "code",
      "execution_count": null,
      "metadata": {
        "_cell_guid": "35517545-b5e6-a96c-2c0c-004b9597519f"
      },
      "outputs": [],
      "source": [
        "test_X = test[cont_features].values\n",
        "model = LinearRegression()\n",
        "model.fit(X, y)\n",
        "preds = model.predict(test_X)\n",
        "submission = pd.DataFrame({'Id':test_id, 'Prediction': preds})\n",
        "submission.to_csv('sub1.csv', index=False) # Score 2416508, 2125 on LB (Post competition deadline)"
      ]
    },
    {
      "cell_type": "markdown",
      "metadata": {
        "_cell_guid": "efcaf512-d9f9-758a-0c1f-7bf2c3d07153"
      },
      "source": [
        "# Feature Processing\n",
        "## Analyse the coninuous features"
      ]
    },
    {
      "cell_type": "code",
      "execution_count": null,
      "metadata": {
        "_cell_guid": "afc13090-9f19-c46f-34ce-d2616308f454"
      },
      "outputs": [],
      "source": [
        "pd.set_option('precision', 1)\n",
        "train.describe()"
      ]
    },
    {
      "cell_type": "markdown",
      "metadata": {
        "_cell_guid": "f3320952-c525-3413-c0c6-f6145c3b57ca"
      },
      "source": [
        "## Rescale Data"
      ]
    },
    {
      "cell_type": "code",
      "execution_count": null,
      "metadata": {
        "_cell_guid": "febacbb1-81de-1baa-4b25-8142ca29827a"
      },
      "outputs": [],
      "source": [
        "from sklearn.preprocessing import Normalizer\n",
        "X = train[cont_features].values\n",
        "scaler = Normalizer().fit(X)\n",
        "rescaledX = scaler.transform(X)\n",
        "model = LinearRegression()\n",
        "result = np.sqrt(-cross_val_score(model, rescaledX, y, cv=10, scoring='neg_mean_squared_error'))\n",
        "print(\"%f (%f)\" % (result.mean(), result.std()) )"
      ]
    },
    {
      "cell_type": "code",
      "execution_count": null,
      "metadata": {
        "_cell_guid": "bdf294c7-60c1-7d0c-2f7d-084d2bf626e0"
      },
      "outputs": [],
      "source": [
        "# Second Submission\n",
        "test_X = test[cont_features].values\n",
        "rescaled_test_X = scaler.transform(test_X)\n",
        "model = LinearRegression()\n",
        "model.fit(rescaledX, y)\n",
        "preds = model.predict(rescaled_test_X)\n",
        "submission = pd.DataFrame({'Id':test_id, 'Prediction': preds})\n",
        "submission.to_csv('sub2.csv', index=False) # Score 2314493, 2095 on LB (Post competition deadline)"
      ]
    },
    {
      "cell_type": "code",
      "execution_count": null,
      "metadata": {
        "_cell_guid": "5d3b1481-c371-6445-a593-fde5dd1d8884"
      },
      "outputs": [],
      "source": [
        ""
      ]
    }
  ],
  "metadata": {
    "_change_revision": 0,
    "_is_fork": false,
    "kernelspec": {
      "display_name": "Python 3",
      "language": "python",
      "name": "python3"
    },
    "language_info": {
      "codemirror_mode": {
        "name": "ipython",
        "version": 3
      },
      "file_extension": ".py",
      "mimetype": "text/x-python",
      "name": "python",
      "nbconvert_exporter": "python",
      "pygments_lexer": "ipython3",
      "version": "3.5.2"
    }
  },
  "nbformat": 4,
  "nbformat_minor": 0
}