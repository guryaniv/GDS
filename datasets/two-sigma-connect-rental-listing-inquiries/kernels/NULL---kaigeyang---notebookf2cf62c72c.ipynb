{
  "cells": [
    {
      "cell_type": "markdown",
      "metadata": {
        "_cell_guid": "7b8a114f-7bb1-d0fd-b26a-d40234acc230"
      },
      "source": [
        "Plot Price and Interest level on NY map"
      ]
    },
    {
      "cell_type": "markdown",
      "metadata": {
        "_cell_guid": "9a81508e-0266-40e8-a926-d877cac20e26"
      },
      "source": [
        "Inspired by other notebook. I have tried to plot the price and interest level on NY Map Via Basemap Library"
      ]
    },
    {
      "cell_type": "code",
      "execution_count": null,
      "metadata": {
        "_cell_guid": "0d2cebf4-f6f2-7561-3e55-0ea47fca0027"
      },
      "outputs": [],
      "source": [
        "# This Python 3 environment comes with many helpful analytics libraries installed\n",
        "# It is defined by the kaggle/python docker image: https://github.com/kaggle/docker-python\n",
        "# For example, here's several helpful packages to load in \n",
        "\n",
        "import numpy as np # linear algebra\n",
        "import pandas as pd # data processing, CSV file I/O (e.g. pd.read_csv)\n",
        "\n",
        "# Input data files are available in the \"../input/\" directory.\n",
        "# For example, running this (by clicking run or pressing Shift+Enter) will list the files in the input directory\n",
        "\n",
        "from subprocess import check_output\n",
        "print(check_output([\"ls\", \"../input\"]).decode(\"utf8\"))\n",
        "\n",
        "# Any results you write to the current directory are saved as output."
      ]
    },
    {
      "cell_type": "code",
      "execution_count": null,
      "metadata": {
        "_cell_guid": "35c91047-9003-42fd-5f25-a346bb84a86f"
      },
      "outputs": [],
      "source": [
        "\n",
        "import numpy as np \n",
        "import pandas as pd \n",
        "import matplotlib.pyplot as plt \n",
        "import seaborn as sns\n",
        "from datetime import date\n",
        "import seaborn as sns\n",
        "color=sns.color_palette()\n",
        "train_df=pd.read_json('../input/train.json')\n",
        "train=train_df.copy()\n",
        "target=['interest_level']\n",
        "target=train[target]\n",
        "train['created']=pd.to_datetime(train.created)\n",
        "train.head()\n"
      ]
    },
    {
      "cell_type": "code",
      "execution_count": null,
      "metadata": {
        "_cell_guid": "5a248b52-48bc-96e4-9da8-fadfdcfb2c06"
      },
      "outputs": [],
      "source": [
        "llimit=np.percentile(train.latitude.values,1)\n",
        "ulimit=np.percentile(train.latitude.values,99)\n",
        "train.latitude.ix[train.latitude<llimit]=llimit\n",
        "train.latitude.ix[train.latitude>ulimit]=ulimit\n",
        "\n",
        "llimit=np.percentile(train.longitude.values,1)\n",
        "ulimit=np.percentile(train.longitude.values,99)\n",
        "train.longitude.ix[train.longitude<llimit]=llimit\n",
        "train.longitude.ix[train.longitude>ulimit]=ulimit\n",
        "\n",
        "llimit=np.percentile(train.price.values,5)\n",
        "ulimit=np.percentile(train.price.values,95)\n",
        "train.price.ix[train.price<llimit]=llimit\n",
        "train.price.ix[train.price>ulimit]=ulimit\n",
        "\n",
        "train['level']=0\n",
        "train['level'][train.interest_level=='high']=30\n",
        "train['level'][train.interest_level=='low']=10\n",
        "train['level'][train.interest_level=='medium']=20\n",
        "train.columns"
      ]
    },
    {
      "cell_type": "code",
      "execution_count": null,
      "metadata": {
        "_cell_guid": "ed360547-8b03-6b3a-27bb-0a42e216b217"
      },
      "outputs": [],
      "source": [
        "import matplotlib.pyplot as plt\n",
        "import matplotlib.cm\n",
        "\n",
        "from mpl_toolkits.basemap import Basemap\n",
        "from matplotlib.patches import Polygon\n",
        "from matplotlib.collections import PatchCollection\n",
        "from matplotlib.colors import Normalize\n",
        "west, south, east, north = -74.02, 40.64, -73.85, 40.86\n",
        "fig=plt.figure(figsize=(15,15))\n",
        "m = Basemap(projection='merc', llcrnrlat=south, urcrnrlat=north,\n",
        "            llcrnrlon=west, urcrnrlon=east, lat_ts=south, resolution='l')\n",
        "m.drawcoastlines()\n",
        "m.drawcountries()\n",
        "# draw parallels and meridians.\n",
        "parallels = np.arange(-90.,91.,5.)\n",
        "# Label the meridians and parallels\n",
        "m.drawparallels(parallels,labels=[True,False,False,False])\n",
        "# Draw Meridians and Labels\n",
        "meridians = np.arange(-180.,181.,10.)\n",
        "m.drawmeridians(meridians,labels=[True,False,False,True])\n",
        "m.drawmapboundary(fill_color='white')\n",
        "# Define a colormap\n",
        "jet = plt.cm.get_cmap('jet')\n",
        "# Transform points into Map's projection\n",
        "x,y = m(train.longitude.values,train.latitude.values)\n",
        "# Color the transformed points!\n",
        "sc = plt.scatter(x,y, c=train.level.values, vmin=0, vmax =35, cmap=jet, s=20, edgecolors='none')\n",
        "# And let's include that colorbar\n",
        "cbar = plt.colorbar(sc, shrink = .5)\n",
        "cbar.set_label('Interest Level')\n",
        "plt.title('Scatter of Interest level',fontsize=20)\n",
        "plt.show()"
      ]
    },
    {
      "cell_type": "code",
      "execution_count": null,
      "metadata": {
        "_cell_guid": "b1d28778-60cb-7c6d-f2fd-1e86ff0d52d0"
      },
      "outputs": [],
      "source": [
        "west, south, east, north = -74.02, 40.64, -73.85, 40.86\n",
        "fig=plt.figure(figsize=(15,15))\n",
        "m = Basemap(projection='merc', llcrnrlat=south, urcrnrlat=north,\n",
        "            llcrnrlon=west, urcrnrlon=east, lat_ts=south, resolution='i')\n",
        "m.drawcoastlines()\n",
        "m.drawcountries()\n",
        "# draw parallels and meridians.\n",
        "parallels = np.arange(-90.,91.,5.)\n",
        "# Label the meridians and parallels\n",
        "m.drawparallels(parallels,labels=[True,False,False,False])\n",
        "# Draw Meridians and Labels\n",
        "meridians = np.arange(-180.,181.,10.)\n",
        "m.drawmeridians(meridians,labels=[True,False,False,True])\n",
        "m.drawmapboundary(fill_color='white')\n",
        "# Define a colormap\n",
        "jet = plt.cm.get_cmap('jet')\n",
        "# Transform points into Map's projection\n",
        "x,y = m(train.longitude.values,train.latitude.values)\n",
        "# Color the transformed points!\n",
        "sc = plt.scatter(x,y, c=train.price.values, vmin=min(train.price.values), \n",
        "\t\t\t\tvmax=max(train.price.values), cmap=jet, s=20, edgecolors='none')\n",
        "# And let's include that colorbar\n",
        "cbar = plt.colorbar(sc, shrink = .5)\n",
        "cbar.set_label('Price')\n",
        "plt.title('Scatter of Price',fontsize=20)\n",
        "\n",
        "plt.show()"
      ]
    }
  ],
  "metadata": {
    "_change_revision": 0,
    "_is_fork": false,
    "kernelspec": {
      "display_name": "Python 3",
      "language": "python",
      "name": "python3"
    },
    "language_info": {
      "codemirror_mode": {
        "name": "ipython",
        "version": 3
      },
      "file_extension": ".py",
      "mimetype": "text/x-python",
      "name": "python",
      "nbconvert_exporter": "python",
      "pygments_lexer": "ipython3",
      "version": "3.6.0"
    }
  },
  "nbformat": 4,
  "nbformat_minor": 0
}