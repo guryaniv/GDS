{
  "cells": [
    {
      "cell_type": "code",
      "execution_count": null,
      "metadata": {
        "_cell_guid": "7048d4ed-9e19-5218-9cd7-f9ce8d8b303d"
      },
      "outputs": [],
      "source": [
        "import numpy as np\n",
        "import pandas as pd # Data processing\n",
        "import os\n",
        "import gc\n",
        "import matplotlib.pyplot as plt\n",
        "import seaborn as sns # Visualization lib based on matplotlib\n",
        "from sklearn import preprocessing\n",
        "\n",
        "color = sns.color_palette()\n",
        "%matplotlib inline\n",
        "\n",
        "pd.options.mode.chained_assignment = None\n",
        "pd.options.display.max_columns = 999\n",
        "\n",
        "from subprocess import check_output\n",
        "print(check_output([\"ls\",\"../input\"]).decode(\"UTF8\"))"
      ]
    },
    {
      "cell_type": "code",
      "execution_count": null,
      "metadata": {
        "_cell_guid": "34be9846-1bd4-2df1-74ae-799904e3d3de"
      },
      "outputs": [],
      "source": [
        "print(\"### Files ###\")\n",
        "for f in os.listdir(\"../input\"):\n",
        "    print(f.ljust(30) + str(round(os.path.getsize(\"../input/\"+f)/1000000,2)) + 'MB')"
      ]
    },
    {
      "cell_type": "code",
      "execution_count": null,
      "metadata": {
        "_cell_guid": "9321d41e-0733-1542-5e3a-d13567910cd1"
      },
      "outputs": [],
      "source": [
        "df_train = pd.read_csv(\"../input/train.csv\")\n",
        "df_test = pd.read_csv(\"../input/test.csv\")\n",
        "\n",
        "print(\"Train Data Shape: \", df_train.shape)\n",
        "print(\"Test Data Shape: \", df_test.shape)"
      ]
    },
    {
      "cell_type": "code",
      "execution_count": null,
      "metadata": {
        "_cell_guid": "41767c5f-3838-a8cf-6344-df6715242edb"
      },
      "outputs": [],
      "source": [
        "df_train.head()"
      ]
    },
    {
      "cell_type": "code",
      "execution_count": null,
      "metadata": {
        "_cell_guid": "07f40434-a964-155c-0c03-65161cc1c168"
      },
      "outputs": [],
      "source": [
        "df_test.head()"
      ]
    },
    {
      "cell_type": "code",
      "execution_count": null,
      "metadata": {
        "_cell_guid": "a7a43494-5d4e-3371-517a-c6f59ecb905d"
      },
      "outputs": [],
      "source": [
        "y_train = df_train['y'].values"
      ]
    },
    {
      "cell_type": "code",
      "execution_count": null,
      "metadata": {
        "_cell_guid": "9c3bc369-6d94-b26e-ca0c-bca5e52e9a38"
      },
      "outputs": [],
      "source": [
        "plt.figure(figsize=(15,5))\n",
        "plt.scatter(df_train['ID'].values,np.sort(y_train))\n",
        "plt.show()"
      ]
    },
    {
      "cell_type": "code",
      "execution_count": null,
      "metadata": {
        "_cell_guid": "0528b5af-61c4-a0bf-9d2b-7b4e7d8f1ae5"
      },
      "outputs": [],
      "source": [
        "plt.figure(figsize=(15,5))\n",
        "sns.distplot(y_train,bins=20,kde=False)\n",
        "plt.xlabel('y vlaues')\n",
        "plt.ylabel('Occurences')\n",
        "plt.title('y value distribution')\n",
        "plt.show()"
      ]
    },
    {
      "cell_type": "code",
      "execution_count": null,
      "metadata": {
        "_cell_guid": "6c889f63-a50c-087b-f639-d495f06a3b36"
      },
      "outputs": [],
      "source": [
        "print('min: {}, max: {}, mean: {}, std: {}'.format(min(y_train),max(y_train),y_train.mean(),y_train.std()))\n",
        "print('Count of values above 175: {}'.format(np.sum(y_train>175)))"
      ]
    },
    {
      "cell_type": "code",
      "execution_count": null,
      "metadata": {
        "_cell_guid": "95950037-b9bb-52d2-c786-897740fab0ba"
      },
      "outputs": [],
      "source": [
        "df_train[df_train.columns[2:].values].dtypes.value_counts()"
      ]
    },
    {
      "cell_type": "code",
      "execution_count": null,
      "metadata": {
        "_cell_guid": "1069dad1-9ccc-aa36-b2af-51cd912dca13"
      },
      "outputs": [],
      "source": [
        "catagorical_features = []\n",
        "for c in df_train.columns[2:].values:\n",
        "    if np.object == df_train[c].dtype:\n",
        "        catagorical_features.append(c)          \n",
        "print('catagorical_features: ',catagorical_features)"
      ]
    },
    {
      "cell_type": "code",
      "execution_count": null,
      "metadata": {
        "_cell_guid": "f245812e-a7fb-213c-6942-b014488016ef"
      },
      "outputs": [],
      "source": [
        "import xgboost as xgb\n",
        "from sklearn.metrics import r2_score\n",
        "from sklearn.model_selection import train_test_split"
      ]
    },
    {
      "cell_type": "code",
      "execution_count": null,
      "metadata": {
        "_cell_guid": "7a325a2d-889f-b277-0037-2d90d8c6c3f4"
      },
      "outputs": [],
      "source": [
        "label_encoder = preprocessing.LabelEncoder()\n",
        "for f in catagorical_features:\n",
        "    label_encoder.fit(list(df_train[f].values))\n",
        "    df_train[f] = label_encoder.transform(list(df_train[f]))\n"
      ]
    },
    {
      "cell_type": "code",
      "execution_count": null,
      "metadata": {
        "_cell_guid": "61e4f285-47e1-333b-6254-cca13d86d8d5"
      },
      "outputs": [],
      "source": [
        "y_train = df_train['y'].values\n",
        "x_train = df_train.drop(['ID','y'], axis=1)"
      ]
    },
    {
      "cell_type": "code",
      "execution_count": null,
      "metadata": {
        "_cell_guid": "80e520fd-13ee-273e-8b83-f1f8bc45881a"
      },
      "outputs": [],
      "source": [
        "def xgb_r2_score(preds,dtrain):\n",
        "    labels = dtrain.get_label()\n",
        "    return 'r2', r2_score(labels,preds)"
      ]
    },
    {
      "cell_type": "code",
      "execution_count": null,
      "metadata": {
        "_cell_guid": "950c4063-2dc6-ae79-be4e-10b2dfb04701"
      },
      "outputs": [],
      "source": [
        "xgb_params = {\n",
        "    'eta' : 0.02,\n",
        "    'max_depth' : 6,\n",
        "    'subsample' : 0.4,\n",
        "    'colsample_bytree' : 0.4,\n",
        "    'objective' : 'reg:linear',\n",
        "    'silent' : 1\n",
        "}"
      ]
    },
    {
      "cell_type": "code",
      "execution_count": null,
      "metadata": {
        "_cell_guid": "27ce750e-5140-ccf5-376f-3066d9c0f4fc"
      },
      "outputs": [],
      "source": [
        "dtrain = xgb.DMatrix(x_train, y_train, feature_names=x_train.columns.values)\n",
        "model = xgb.train(dict(xgb_params,silent=1), dtrain, num_boost_round=100, feval=xgb_r2_score, maximize=True)"
      ]
    },
    {
      "cell_type": "code",
      "execution_count": null,
      "metadata": {
        "_cell_guid": "e8dcc635-0f42-8730-8f34-36a3b018b6ce"
      },
      "outputs": [],
      "source": [
        "fig, ax = plt.subplots(figsize=(12,18))\n",
        "xgb.plot_importance(model, max_num_features=15, height=0.8, ax = ax)\n",
        "plt.show()"
      ]
    },
    {
      "cell_type": "code",
      "execution_count": null,
      "metadata": {
        "_cell_guid": "671d91a1-b6f4-f4f1-e723-8e5b2216807b"
      },
      "outputs": [],
      "source": [
        "for f in catagorical_features:\n",
        "    label_encoder.fit(list(df_test[f].values))\n",
        "    df_test[f] = label_encoder.transform(list(df_test[f]))\n",
        "x_test = df_test.drop(['ID'], axis=1)"
      ]
    },
    {
      "cell_type": "code",
      "execution_count": null,
      "metadata": {
        "_cell_guid": "b3a5414d-c5e1-89b6-2791-0a341107c630"
      },
      "outputs": [],
      "source": [
        "dtest = xgb.DMatrix(x_test)\n",
        "y_test = model.predict(dtest)"
      ]
    },
    {
      "cell_type": "code",
      "execution_count": null,
      "metadata": {
        "_cell_guid": "16371960-589b-0d5b-6821-e27744505abf"
      },
      "outputs": [],
      "source": [
        "sub = pd.DataFrame()\n",
        "sub['ID'] = df_test['ID']\n",
        "sub['y'] = y_test"
      ]
    },
    {
      "cell_type": "code",
      "execution_count": null,
      "metadata": {
        "_cell_guid": "93034434-19e2-2083-d0ad-a93b55d7276d"
      },
      "outputs": [],
      "source": [
        "sub.to_csv('sub_2.csv', index=False)"
      ]
    }
  ],
  "metadata": {
    "_change_revision": 0,
    "_is_fork": false,
    "kernelspec": {
      "display_name": "Python 3",
      "language": "python",
      "name": "python3"
    },
    "language_info": {
      "codemirror_mode": {
        "name": "ipython",
        "version": 3
      },
      "file_extension": ".py",
      "mimetype": "text/x-python",
      "name": "python",
      "nbconvert_exporter": "python",
      "pygments_lexer": "ipython3",
      "version": "3.6.0"
    }
  },
  "nbformat": 4,
  "nbformat_minor": 0
}