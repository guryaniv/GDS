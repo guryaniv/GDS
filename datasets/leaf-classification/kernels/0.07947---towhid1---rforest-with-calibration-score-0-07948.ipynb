{
  "cells": [
    {
      "cell_type": "markdown",
      "metadata": {
        "_cell_guid": "f5207193-694c-8473-fbe1-a169696b58bc"
      },
      "source": [
        ""
      ]
    },
    {
      "cell_type": "code",
      "execution_count": null,
      "metadata": {
        "_cell_guid": "48392a10-9873-ab0b-35e4-8a5d52df97ae"
      },
      "outputs": [],
      "source": [
        "\n",
        "import numpy as np # linear algebra\n",
        "import pandas as pd # data processing, CSV file I/O (e.g. pd.read_csv)\n",
        "from sklearn.ensemble import RandomForestClassifier\n",
        "from sklearn.calibration import CalibratedClassifierCV as cc\n",
        "\n",
        "from subprocess import check_output\n",
        "print(check_output([\"ls\", \"../input\"]).decode(\"utf8\"))\n"
      ]
    },
    {
      "cell_type": "code",
      "execution_count": null,
      "metadata": {
        "_cell_guid": "f75fd5b7-daea-edf9-cf69-ba7b229652ae"
      },
      "outputs": [],
      "source": [
        "train = pd.read_csv('../input/train.csv')\n",
        "test = pd.read_csv('../input/test.csv')\n",
        "print (train.shape)\n",
        "print (test.shape)\n",
        "test_ids = test.id \n",
        "\n",
        "levels=train.species\n",
        "train.drop(['species', 'id'], axis=1,inplace=True) \n",
        "test.drop(['id'],axis=1,inplace=True)\n",
        "print (\"after \")\n",
        "print (levels.shape)\n",
        "print (train.shape)\n",
        "print (test.shape)\n",
        "print (\"number of classes =\",levels.unique().shape)"
      ]
    },
    {
      "cell_type": "code",
      "execution_count": null,
      "metadata": {
        "_cell_guid": "1a4f1fce-a17b-f83a-1595-ab3e15e9748f"
      },
      "outputs": [],
      "source": [
        "from sklearn.preprocessing import LabelEncoder\n",
        "le=LabelEncoder().fit(levels)\n",
        "levels=le.transform(levels)"
      ]
    },
    {
      "cell_type": "code",
      "execution_count": null,
      "metadata": {
        "_cell_guid": "0ba2a78d-a4dc-8c2c-e1e1-3801272fae7d"
      },
      "outputs": [],
      "source": [
        "Model=RandomForestClassifier(n_estimators=1000)\n",
        "Model = cc(Model, cv=3, method='isotonic')\n",
        "Model.fit(train, levels)"
      ]
    },
    {
      "cell_type": "code",
      "execution_count": null,
      "metadata": {
        "_cell_guid": "c7a7a109-af92-07a9-8976-452557b98a27"
      },
      "outputs": [],
      "source": [
        "predictions = Model.predict_proba(test)\n",
        "print (predictions.shape)\n",
        "sub = pd.DataFrame(predictions, columns=list(le.classes_))\n",
        "sub.insert(0, 'id', test_ids)\n",
        "sub.reset_index()\n",
        "sub.to_csv('submit.csv', index = False)\n",
        "sub.head()            "
      ]
    }
  ],
  "metadata": {
    "_change_revision": 0,
    "_is_fork": false,
    "kernelspec": {
      "display_name": "Python 3",
      "language": "python",
      "name": "python3"
    },
    "language_info": {
      "codemirror_mode": {
        "name": "ipython",
        "version": 3
      },
      "file_extension": ".py",
      "mimetype": "text/x-python",
      "name": "python",
      "nbconvert_exporter": "python",
      "pygments_lexer": "ipython3",
      "version": "3.5.2"
    }
  },
  "nbformat": 4,
  "nbformat_minor": 0
}