{
  "cells": [
    {
      "cell_type": "code",
      "execution_count": null,
      "metadata": {
        "_cell_guid": "c9d28cfa-bb44-9947-8925-300fe9c61366"
      },
      "outputs": [],
      "source": [
        "# This Python 3 environment comes with many helpful analytics libraries installed\n",
        "# It is defined by the kaggle/python docker image: https://github.com/kaggle/docker-python\n",
        "# For example, here's several helpful packages to load in \n",
        "\n",
        "import numpy as np # linear algebra\n",
        "import pandas as pd # data processing, CSV file I/O (e.g. pd.read_csv)\n",
        "\n",
        "# Input data files are available in the \"../input/\" directory.\n",
        "# For example, running this (by clicking run or pressing Shift+Enter) will list the files in the input directory\n",
        "\n",
        "from subprocess import check_output\n",
        "print(check_output([\"ls\", \"../input\"]).decode(\"utf8\"))\n",
        "\n",
        "# Any results you write to the current directory are saved as output."
      ]
    },
    {
      "cell_type": "code",
      "execution_count": null,
      "metadata": {
        "_cell_guid": "278cacf1-8bfc-352f-fe06-ccdd487b7760"
      },
      "outputs": [],
      "source": [
        "traindf= pd.read_csv(\"../input/train.csv\")"
      ]
    },
    {
      "cell_type": "code",
      "execution_count": null,
      "metadata": {
        "_cell_guid": "88073f3f-9090-c032-b26d-6888fb72c80f"
      },
      "outputs": [],
      "source": [
        "testdf= pd.read_csv(\"../input/test.csv\")"
      ]
    },
    {
      "cell_type": "code",
      "execution_count": null,
      "metadata": {
        "_cell_guid": "8b62a016-de6a-96ef-f7d0-b8cf58a6135f"
      },
      "outputs": [],
      "source": [
        "from sklearn import linear_model"
      ]
    },
    {
      "cell_type": "code",
      "execution_count": null,
      "metadata": {
        "_cell_guid": "a4791009-1b5b-679d-4b04-d3cfd59a1563"
      },
      "outputs": [],
      "source": [
        "x_train = traindf[['YrSold','MoSold','LotArea','BedroomAbvGr']]\n",
        "y_train = traindf['SalePrice']\n",
        "x_test = testdf[['YrSold','MoSold','LotArea','BedroomAbvGr']]"
      ]
    },
    {
      "cell_type": "code",
      "execution_count": null,
      "metadata": {
        "_cell_guid": "fb0204d8-2877-97cf-04d5-5ffa411538dd"
      },
      "outputs": [],
      "source": [
        "x_train.head(n=5)\n",
        "x_train.shape"
      ]
    },
    {
      "cell_type": "code",
      "execution_count": null,
      "metadata": {
        "_cell_guid": "058d2718-238c-14ce-e725-ecd933b4eaf6"
      },
      "outputs": [],
      "source": [
        "y_train.head(n=5)"
      ]
    },
    {
      "cell_type": "code",
      "execution_count": null,
      "metadata": {
        "_cell_guid": "24b345a5-ea08-a974-260f-2219ff0e8248"
      },
      "outputs": [],
      "source": [
        "from sklearn import linear_model"
      ]
    },
    {
      "cell_type": "code",
      "execution_count": null,
      "metadata": {
        "_cell_guid": "6be2f4a1-dfde-233f-c02e-d51cd3e1f0eb"
      },
      "outputs": [],
      "source": [
        "clf = linear_model.LinearRegression()\n",
        "clf.fit(x_train,y_train)"
      ]
    },
    {
      "cell_type": "code",
      "execution_count": null,
      "metadata": {
        "_cell_guid": "15a0964c-0902-69e0-a551-1c0a3aad4fdd"
      },
      "outputs": [],
      "source": [
        "yhat = clf.predict(x_test)"
      ]
    },
    {
      "cell_type": "code",
      "execution_count": null,
      "metadata": {
        "_cell_guid": "377fb606-8118-1a6f-800c-786d842afe95"
      },
      "outputs": [],
      "source": [
        "yhatdf = pd.DataFrame(data={'Id':testdf.Id, 'SalePrice': yhat})"
      ]
    },
    {
      "cell_type": "code",
      "execution_count": null,
      "metadata": {
        "_cell_guid": "df787816-c15f-6181-e507-fd9493084c37"
      },
      "outputs": [],
      "source": [
        "yhatdf.head(n=5)"
      ]
    },
    {
      "cell_type": "code",
      "execution_count": null,
      "metadata": {
        "_cell_guid": "bf16f9b9-ee71-1e88-b097-ae60d7807554"
      },
      "outputs": [],
      "source": [
        "#filename = 'benchmark.csv'\n",
        "#yhatdf.to_csv(filename,index=False)"
      ]
    },
    {
      "cell_type": "code",
      "execution_count": null,
      "metadata": {
        "_cell_guid": "41f7374d-b227-ca8d-69e1-c8706f45e01c"
      },
      "outputs": [],
      "source": [
        "(traindf.loc[:, traindf.dtypes != object]).info()\n",
        "numVar_traindf=traindf.loc[:, traindf.dtypes != object]\n",
        "numVar_traindf.shape"
      ]
    },
    {
      "cell_type": "code",
      "execution_count": null,
      "metadata": {
        "_cell_guid": "eca61a1c-83c2-8516-56c9-97966cae79d8"
      },
      "outputs": [],
      "source": [
        "corrmat = numVar_traindf.corr()"
      ]
    },
    {
      "cell_type": "code",
      "execution_count": null,
      "metadata": {
        "_cell_guid": "c6112623-a260-1c34-e2bc-af1c9f9eaa5f"
      },
      "outputs": [],
      "source": [
        "import seaborn as sns\n",
        "sns.heatmap(corrmat)"
      ]
    },
    {
      "cell_type": "code",
      "execution_count": null,
      "metadata": {
        "_cell_guid": "fb0b22d3-156a-ccb9-9d29-b822b93d356e"
      },
      "outputs": [],
      "source": [
        "alldf = pd.concat((traindf.iloc[:, :-1], testdf))\n",
        "alldf.shape"
      ]
    },
    {
      "cell_type": "code",
      "execution_count": null,
      "metadata": {
        "_cell_guid": "437630ea-ee96-f421-65f3-b8980c705085"
      },
      "outputs": [],
      "source": [
        "df_quality = pd.get_dummies(alldf['OverallQual'], prefix='OverallQual')\n",
        "df_quality.head()"
      ]
    },
    {
      "cell_type": "code",
      "execution_count": null,
      "metadata": {
        "_cell_guid": "3b009177-e661-45de-a979-6845d2af7c64"
      },
      "outputs": [],
      "source": [
        "df_neighborhood = pd.get_dummies(alldf['Neighborhood'], prefix='Neighborhood')\n",
        "df_neighborhood.head()"
      ]
    },
    {
      "cell_type": "code",
      "execution_count": null,
      "metadata": {
        "_cell_guid": "fc9f9270-2a90-34e9-259a-6c20876f645d"
      },
      "outputs": [],
      "source": [
        "numVar_alldf = alldf.loc[:, alldf.dtypes != object]\n",
        "numVar_traindf = pd.concat([numVar_alldf, df_quality,df_neighborhood], axis=1)\n",
        "numVar_traindf = numVar_alldf[:1460]\n",
        "numVar_traindf.shape"
      ]
    },
    {
      "cell_type": "code",
      "execution_count": null,
      "metadata": {
        "_cell_guid": "45f520fc-3911-18b3-af43-ca4ca8e67670"
      },
      "outputs": [],
      "source": [
        "numVar_testdf = numVar_alldf[1460:]\n",
        "numVar_testdf.shape"
      ]
    },
    {
      "cell_type": "code",
      "execution_count": null,
      "metadata": {
        "_cell_guid": "d7444023-83f8-4ae8-593f-715036314d6c"
      },
      "outputs": [],
      "source": [
        "newTraindf  = numVar_traindf.fillna(numVar_traindf.mean())\n",
        "newTraindf.isnull().sum().sort_values(ascending=False).head()"
      ]
    },
    {
      "cell_type": "code",
      "execution_count": null,
      "metadata": {
        "_cell_guid": "a858bf18-abeb-520a-c2d1-7f0760e4c7da"
      },
      "outputs": [],
      "source": [
        "newTestdf  = numVar_testdf.fillna(numVar_traindf.mean())\n",
        "newTestdf.isnull().sum().sort_values(ascending=False).head()"
      ]
    },
    {
      "cell_type": "code",
      "execution_count": null,
      "metadata": {
        "_cell_guid": "78ac8f7a-ac42-e726-295a-7e2b1c8413c9"
      },
      "outputs": [],
      "source": [
        "clf = linear_model.LinearRegression()\n",
        "clf.fit(newTraindf,y_train)"
      ]
    },
    {
      "cell_type": "code",
      "execution_count": null,
      "metadata": {
        "_cell_guid": "04bb2532-9bfa-e6c9-187b-5d62e35f631f"
      },
      "outputs": [],
      "source": [
        "yhat = clf.predict(newTestdf)"
      ]
    },
    {
      "cell_type": "code",
      "execution_count": null,
      "metadata": {
        "_cell_guid": "131309e1-623a-10c7-7086-928df6a6bdf4"
      },
      "outputs": [],
      "source": [
        "yhatdf = pd.DataFrame(data={'Id':testdf.Id, 'SalePrice': yhat})\n",
        "yhatdf['SalePrice'] = yhatdf['SalePrice'].abs()\n",
        "yhatdf.head()"
      ]
    },
    {
      "cell_type": "code",
      "execution_count": null,
      "metadata": {
        "_cell_guid": "5024e6ab-13e7-e858-c6b9-04939b3dcd94"
      },
      "outputs": [],
      "source": [
        "yhatdf.isnull().sum().sort_values(ascending=False).head()"
      ]
    },
    {
      "cell_type": "code",
      "execution_count": null,
      "metadata": {
        "_cell_guid": "45ab9365-6f62-d23f-937f-7457bf2ed2a6"
      },
      "outputs": [],
      "source": [
        "yhatdf.hist()"
      ]
    },
    {
      "cell_type": "code",
      "execution_count": null,
      "metadata": {
        "_cell_guid": "48cfe85e-7039-278e-3bd9-9d2634bf43ce"
      },
      "outputs": [],
      "source": [
        "filename = 'benchmark.csv'\n",
        "yhatdf.to_csv(filename,index=False)"
      ]
    }
  ],
  "metadata": {
    "_change_revision": 0,
    "_is_fork": false,
    "kernelspec": {
      "display_name": "Python 3",
      "language": "python",
      "name": "python3"
    },
    "language_info": {
      "codemirror_mode": {
        "name": "ipython",
        "version": 3
      },
      "file_extension": ".py",
      "mimetype": "text/x-python",
      "name": "python",
      "nbconvert_exporter": "python",
      "pygments_lexer": "ipython3",
      "version": "3.5.2"
    }
  },
  "nbformat": 4,
  "nbformat_minor": 0
}