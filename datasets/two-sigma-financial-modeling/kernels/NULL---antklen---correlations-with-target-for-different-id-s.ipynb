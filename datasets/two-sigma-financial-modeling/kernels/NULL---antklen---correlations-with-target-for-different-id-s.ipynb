{
  "cells": [
    {
      "cell_type": "markdown",
      "metadata": {
        "_cell_guid": "bba14eea-2e4c-7752-7ac9-d0a92d003206"
      },
      "source": [
        "Given that Id's correspond to different assets, it's possible that features have different relations with different Id's. Some features may be important for one group of Id's and may be not important for another group. Let's try this idea simply by calculating correlations of all features with target for each Id separately. \n",
        "\n",
        "Heatmap in the end of the notebook is the main visualization."
      ]
    },
    {
      "cell_type": "code",
      "execution_count": null,
      "metadata": {
        "_cell_guid": "3da1ea20-5649-2bac-01dd-6a740eb0affb"
      },
      "outputs": [],
      "source": [
        "# get the data\n",
        "\n",
        "import pandas as pd\n",
        "import seaborn as sns\n",
        "import matplotlib.pyplot as plt\n",
        "\n",
        "with pd.HDFStore(\"../input/train.h5\", \"r\") as train:\n",
        "    df = train.get(\"train\")\n",
        "    \n",
        "df.head()"
      ]
    },
    {
      "cell_type": "markdown",
      "metadata": {
        "_cell_guid": "b6ad2997-2895-d7b6-2738-0b46f8cc9dbc"
      },
      "source": [
        "Firstly let's look at correlations with target for all data. They are very small."
      ]
    },
    {
      "cell_type": "code",
      "execution_count": null,
      "metadata": {
        "_cell_guid": "2ee7d624-47c2-e93c-36be-93bb24b4e04e"
      },
      "outputs": [],
      "source": [
        "corr = df.iloc[:,2:-1].corrwith(df.y)\n",
        "print('max_correlation', corr.max().max())\n",
        "print('min_correlation', corr.min().min())"
      ]
    },
    {
      "cell_type": "code",
      "execution_count": null,
      "metadata": {
        "_cell_guid": "cef9a7c9-7462-e6f1-3732-264d64995e15"
      },
      "outputs": [],
      "source": [
        "plt.figure(figsize=(5,15))\n",
        "corr.plot(kind='barh')"
      ]
    },
    {
      "cell_type": "markdown",
      "metadata": {
        "_cell_guid": "3d19b34a-6e0a-1844-7ca0-26b29ce2691e"
      },
      "source": [
        "What number of timestamps for each Id do we have in dataset?"
      ]
    },
    {
      "cell_type": "code",
      "execution_count": null,
      "metadata": {
        "_cell_guid": "0acf7077-4d3b-48cb-0f2b-ddefa9870fa0"
      },
      "outputs": [],
      "source": [
        "df.groupby('id').size().hist(bins=50)"
      ]
    },
    {
      "cell_type": "code",
      "execution_count": null,
      "metadata": {
        "_cell_guid": "35c33c8d-e6e1-b86e-d5c2-841861c7353f"
      },
      "outputs": [],
      "source": [
        "df.groupby('id').size().value_counts().head(5)"
      ]
    },
    {
      "cell_type": "markdown",
      "metadata": {
        "_cell_guid": "6894103c-15c4-e740-9cf8-8fb3a969c893"
      },
      "source": [
        "There are Id's with very different number of timestamps. It's not correct to compare for example correlations for Id with 50 points and Id with 1800 points because Id with 50 points could have higher correlation just by chance due to variability in small samples.\n",
        "\n",
        "For simplicity let's take only large group with maximum number of observations."
      ]
    },
    {
      "cell_type": "code",
      "execution_count": null,
      "metadata": {
        "_cell_guid": "c353137a-43c0-584f-edd4-8868d3ddbc46"
      },
      "outputs": [],
      "source": [
        "size = df.groupby('id').size()\n",
        "print(len(size), max(size))\n",
        "assets = size[size==1813].index.values\n",
        "print(len(assets))\n",
        "\n",
        "correlations = pd.DataFrame()\n",
        "\n",
        "for asset in assets:\n",
        "    \n",
        "    df2 = df[df.id==asset]\n",
        "    corr = df2.drop(['id', 'timestamp', 'y'], axis=1).corrwith(df2.y)\n",
        "    correlations[asset] = corr\n",
        "\n",
        "correlations.head()"
      ]
    },
    {
      "cell_type": "code",
      "execution_count": null,
      "metadata": {
        "_cell_guid": "835267d9-5e28-c291-e0c6-bb9acbaedc4f"
      },
      "outputs": [],
      "source": [
        "print('max_correlation', correlations.max().max())\n",
        "print('min_correlation', correlations.min().min())"
      ]
    },
    {
      "cell_type": "markdown",
      "metadata": {
        "_cell_guid": "baeed9d7-2812-2baf-0faa-5789b449b190"
      },
      "source": [
        "Distribution of maximum correlation per Id"
      ]
    },
    {
      "cell_type": "code",
      "execution_count": null,
      "metadata": {
        "_cell_guid": "93f98dd4-0646-487a-44a2-101bffc4431d"
      },
      "outputs": [],
      "source": [
        "correlations.max().hist(bins=50)"
      ]
    },
    {
      "cell_type": "markdown",
      "metadata": {
        "_cell_guid": "ee3043b7-85bc-069b-7263-e91dafc95a39"
      },
      "source": [
        "Minunum and maximum correlation per feature"
      ]
    },
    {
      "cell_type": "code",
      "execution_count": null,
      "metadata": {
        "_cell_guid": "88e31473-eb36-2dad-0f4c-367c18c42e4d"
      },
      "outputs": [],
      "source": [
        "plt.figure(figsize=(8,15))\n",
        "ax1 = plt.subplot(121)\n",
        "correlations.min(axis=1).plot(kind='barh')\n",
        "plt.subplot(122, sharey=ax1)\n",
        "correlations.max(axis=1).plot(kind='barh')\n"
      ]
    },
    {
      "cell_type": "markdown",
      "metadata": {
        "_cell_guid": "a4368a55-6a0b-498a-b6f1-87fe1f4dffb4"
      },
      "source": [
        "Correlation heatmap - strength of correlations of all features with all Id's - Id's are on x-axis and features are on y-axis."
      ]
    },
    {
      "cell_type": "code",
      "execution_count": null,
      "metadata": {
        "_cell_guid": "e547a082-b75a-4621-4bf3-d504fc9b1e69"
      },
      "outputs": [],
      "source": [
        "plt.figure(figsize=(8,15))\n",
        "sns.heatmap(correlations, vmin=-0.22, vmax=0.22)"
      ]
    },
    {
      "cell_type": "markdown",
      "metadata": {
        "_cell_guid": "4a1ce37e-f921-3a8e-8c50-c18689f43b0a"
      },
      "source": [
        "As we see, there are some features for which correlation is quite stable across Id's (for example, technical_20, techical_30, fundametal_15, fundamental_57). There are some features for which correlation is high for only small number of Id's (fundamental_1, fundamental_28, fundamental_61).\n",
        "\n",
        "For most of features there are Id's with both positive and negative correlations. Even for most stable features there are several Id's with opposite sign. So this is the reason why overall correlations for all data are very small.\n",
        "\n",
        "\n",
        "P.S. The question of missing values wasn't taken into consideration. Maybe for some Id-feature pairs there are a lot of missing values and hence small number of observations."
      ]
    },
    {
      "cell_type": "code",
      "execution_count": null,
      "metadata": {
        "_cell_guid": "3d1ab3e3-6f9a-de87-abaf-388c7ba3c5a6"
      },
      "outputs": [],
      "source": [
        ""
      ]
    }
  ],
  "metadata": {
    "_change_revision": 0,
    "_is_fork": false,
    "kernelspec": {
      "display_name": "Python 3",
      "language": "python",
      "name": "python3"
    },
    "language_info": {
      "codemirror_mode": {
        "name": "ipython",
        "version": 3
      },
      "file_extension": ".py",
      "mimetype": "text/x-python",
      "name": "python",
      "nbconvert_exporter": "python",
      "pygments_lexer": "ipython3",
      "version": "3.5.2"
    }
  },
  "nbformat": 4,
  "nbformat_minor": 0
}