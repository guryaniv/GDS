{
  "cells": [
    {
      "cell_type": "markdown",
      "metadata": {
        "_cell_guid": "9ec1a9fb-c699-d48b-19e7-0cee82315ca0"
      },
      "source": [
        "The introduction to the dataset of this competition says:\n",
        "\n",
        "\"This dataset contains anonymized features pertaining to a time-varying value for a financial instrument. Each instrument has an id. Time is represented by the 'timestamp' feature and the variable to predict is 'y'.[...]\"\n",
        "\n",
        "In this notebook I try to look at trades. The first timestamp, where an asset (=a new id) appears, is an entry. The first timestamp after an entry, where the asset is no longer contained in the data, is an exit."
      ]
    },
    {
      "cell_type": "code",
      "execution_count": null,
      "metadata": {
        "_cell_guid": "dcc6523b-3861-8287-cb8e-fdd990d2d7ef"
      },
      "outputs": [],
      "source": [
        "import pandas as pd\n",
        "import numpy as np\n",
        "import matplotlib.pyplot as plt\n",
        "\n",
        "with pd.HDFStore(\"../input/train.h5\", \"r\") as hfdata:\n",
        "    data = hfdata.get(\"train\")\n",
        "        \n",
        "%matplotlib inline"
      ]
    },
    {
      "cell_type": "markdown",
      "metadata": {
        "_cell_guid": "e034a794-1ef2-92ec-acae-7e1e93eeb74a"
      },
      "source": [
        "First we create a DataFrame, which holds each trade in a line. A trade consists of the asset id, the entry of the trade and the exit of the trade. The DataFrame is sorted by entry resp. exit, and named \"trades_df\"."
      ]
    },
    {
      "cell_type": "code",
      "execution_count": null,
      "metadata": {
        "_cell_guid": "5cd6e536-4d42-ad4d-b7ae-33edf47e383e"
      },
      "outputs": [],
      "source": [
        "ids = data[[\"id\", \"timestamp\"]]\n",
        "id_timestamp_ct = pd.crosstab(index=ids.id, columns=ids.timestamp)\n",
        "id_timestamp_ct.insert(1813, 1813, 0)\n",
        "id_timestamp_ct.insert(0, -1, 0)\n",
        "id_timestamp_ct_diff = id_timestamp_ct.diff(axis=1).abs().fillna(0)\n",
        "transaction_indexes = np.where(id_timestamp_ct_diff)\n",
        "\n",
        "tmp = [(id_timestamp_ct_diff.index[x], x, y) for x,y in zip(transaction_indexes[0], transaction_indexes[1])]\n",
        "trades = [[id, entry-1, exit-1] for ((id, _, entry), (_, _, exit)) in list(zip(tmp[0::2], tmp[1::2]))]\n",
        "trades_df = pd.DataFrame(data=trades, columns=[\"id\",\"entry\",\"exit\"])\n",
        "trades_df = trades_df.sort_values(by=[\"entry\", \"exit\"]).reset_index(drop=True)\n",
        "trades_df.head(20)"
      ]
    },
    {
      "cell_type": "markdown",
      "metadata": {
        "_cell_guid": "6976a6ae-10df-d7af-f46a-cf170545c015"
      },
      "source": [
        "So it does not look like classic Pairs Trading, where two assets are held during exactly the same time period, one long, one short. But I have seen good analyses by others indicating that there is some kind of \"advanced\" Pair Traiding, or long short strategy.\n",
        "(If a single timeperiod stands for a very short time, e.g. minutes, it would not always be possible to open or close two assets of a pair at exactly the same time. So in this case it might still be classic Pairs Trading.)"
      ]
    },
    {
      "cell_type": "code",
      "execution_count": null,
      "metadata": {
        "_cell_guid": "f77b9209-7a96-a46d-66ed-fa4c164de338"
      },
      "outputs": [],
      "source": [
        "print(\"Number of assets: {}\".format(len(trades_df.id.unique())))\n",
        "print(\"Number of trades: {}\".format(len(trades_df.id)))"
      ]
    },
    {
      "cell_type": "code",
      "execution_count": null,
      "metadata": {
        "_cell_guid": "aad1d361-6711-88e7-45fe-6890f21fc2a2"
      },
      "outputs": [],
      "source": [
        "_ = trades_df[[\"entry\",\"exit\"]].plot(linestyle=\"none\", marker=\".\")"
      ]
    },
    {
      "cell_type": "markdown",
      "metadata": {
        "_cell_guid": "0db08aaf-34cb-679d-f6c7-ac3dad218431"
      },
      "source": [
        "Looks like most trades are open until the last timeperiod of the training data."
      ]
    },
    {
      "cell_type": "code",
      "execution_count": null,
      "metadata": {
        "_cell_guid": "03a3d593-9926-6a08-ecd3-2736ed8cdd3e"
      },
      "outputs": [],
      "source": [
        "trades_df[[\"id\", \"exit\"]].groupby(\"exit\").count().sort_values(by=\"id\", ascending=False).head().rename(columns = {\"id\": \"count\"})"
      ]
    },
    {
      "cell_type": "markdown",
      "metadata": {
        "_cell_guid": "b384f11f-21d0-aa79-98c8-5efdfc418ae6"
      },
      "source": [
        "Indeed 1086 out of 1466 trades are open until the last timeperiod."
      ]
    },
    {
      "cell_type": "code",
      "execution_count": null,
      "metadata": {
        "_cell_guid": "1a0599a9-aa4d-85ba-877f-994ae94a789e"
      },
      "outputs": [],
      "source": [
        "cnt_trades = trades_df[[\"id\",\"entry\"]].groupby(\"id\").count()\n",
        "cnt_trades[cnt_trades.entry > 1].sort_values(by=\"entry\", ascending=False)"
      ]
    },
    {
      "cell_type": "markdown",
      "metadata": {
        "_cell_guid": "8e59381d-f871-5a97-973d-18ee608a6a7a"
      },
      "source": [
        "So 1414 out of 1424 assets are traded only once, the remaining 10 are traded at least twice. Asset with id=1178 is even traded 19 times."
      ]
    }
  ],
  "metadata": {
    "_change_revision": 0,
    "_is_fork": false,
    "kernelspec": {
      "display_name": "Python 3",
      "language": "python",
      "name": "python3"
    },
    "language_info": {
      "codemirror_mode": {
        "name": "ipython",
        "version": 3
      },
      "file_extension": ".py",
      "mimetype": "text/x-python",
      "name": "python",
      "nbconvert_exporter": "python",
      "pygments_lexer": "ipython3",
      "version": "3.5.2"
    }
  },
  "nbformat": 4,
  "nbformat_minor": 0
}