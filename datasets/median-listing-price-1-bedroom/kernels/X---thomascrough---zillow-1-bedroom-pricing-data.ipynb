{
  "cells": [
    {
      "cell_type": "markdown",
      "metadata": {
        "_cell_guid": "70ad1f59-a1c2-4287-e31f-994f84d52fda"
      },
      "source": [
        ""
      ]
    },
    {
      "cell_type": "code",
      "execution_count": null,
      "metadata": {
        "_cell_guid": "272700f4-6b4b-2df4-9944-c3881fe9375a"
      },
      "outputs": [],
      "source": [
        "# This Python 3 environment comes with many helpful analytics libraries installed\n",
        "# It is defined by the kaggle/python docker image: https://github.com/kaggle/docker-python\n",
        "# For example, here's several helpful packages to load in \n",
        "\n",
        "import numpy as np # linear algebra\n",
        "import pandas as pd # data processing, CSV file I/O (e.g. pd.read_csv)\n",
        "from ggplot import *\n",
        "import seaborn as sns\n",
        "\n",
        "# Input data files are available in the \"../input/\" directory.\n",
        "# For example, running this (by clicking run or pressing Shift+Enter) will list the files in the input directory\n",
        "\n",
        "from subprocess import check_output\n",
        "print(check_output([\"ls\", \"../input\"]).decode(\"utf8\"))\n",
        "\n",
        "# Any results you write to the current directory are saved as output."
      ]
    },
    {
      "cell_type": "code",
      "execution_count": null,
      "metadata": {
        "_cell_guid": "46fc508c-454d-6327-fb4e-17d7e99177d9"
      },
      "outputs": [],
      "source": [
        "df = pd.read_csv('../input/median_price.csv')\n",
        "df.head()\n"
      ]
    },
    {
      "cell_type": "code",
      "execution_count": null,
      "metadata": {
        "_cell_guid": "5556324a-0ae5-944a-03c5-bbe370c25fc9"
      },
      "outputs": [],
      "source": [
        "## Noticed most regions lack consistent data up until August of 2015, retrieve this column location\n",
        "\n",
        "print(df.columns.get_loc('2015-08'))\n"
      ]
    },
    {
      "cell_type": "code",
      "execution_count": null,
      "metadata": {
        "_cell_guid": "d6f2c108-c225-fe38-281c-8392cc4ddd18"
      },
      "outputs": [],
      "source": [
        "## Decided to look at Sept. 2015 to Sept. 2016\n",
        "prices = df.columns[74:86]\n",
        "df['yr_average'] = np.nanmean(df[prices], axis=1)\n",
        "df['net_price_change_total'] = df['2016-09']-df['2010-01']\n",
        "df['net_price_change_2yr'] = df['2016-09']-df['2014-09']\n",
        "df['net_price_change_1yr'] = df['2016-09']-df['2015-09']\n",
        "df['net_%_1yr'] = ((df['2016-09']-df['2015-09']) / df['2015-09'])*100\n",
        "print(df[['City', 'yr_average','net_%_1yr','net_price_change_1yr']].nlargest(20, 'net_price_change_1yr'))\n",
        "print(\"\")\n",
        "print(\"Data available for \", df['net_price_change_1yr'].count(),\" regions.\")\n",
        "avg_net_change_1yr = np.mean(df['net_price_change_1yr'])\n",
        "avg_percent_1yr = np.mean(df['net_%_1yr'])\n",
        "print(\"Average net change between 09/15 and 09/16: \", avg_net_change_1yr)\n",
        "print(\"Average percent change between 09/15 and 09/16: \", avg_percent_1yr)\n",
        "\n"
      ]
    },
    {
      "cell_type": "code",
      "execution_count": null,
      "metadata": {
        "_cell_guid": "ad8b18e3-7a57-e49e-28dd-099b45491acb"
      },
      "outputs": [],
      "source": [
        "## Plot showing which cities contain regions with the greatest net price change\n",
        "\n",
        "top_df = df[['City', 'yr_average','net_%_1yr','net_price_change_1yr']].nlargest(20, 'net_price_change_1yr')\n",
        "\n",
        "r = sns.countplot(y='City', data=top_df, linewidth=3, palette='Blues')\n",
        "print(r)"
      ]
    },
    {
      "cell_type": "code",
      "execution_count": null,
      "metadata": {
        "_cell_guid": "5bde635a-b04a-2a07-36ee-34f1594aafcb"
      },
      "outputs": [],
      "source": [
        "## Plot showing the counts of which cities had regions with the greatest percent \n",
        "## net change in property values\n",
        "\n",
        "\n",
        "\n",
        "r = sns.countplot(y='City', data=top_df, linewidth=3, palette='BuGn_r')\n",
        "print(r)"
      ]
    },
    {
      "cell_type": "code",
      "execution_count": null,
      "metadata": {
        "_cell_guid": "7e3f7ef4-5a3f-6327-5e05-0fdf91edb311"
      },
      "outputs": [],
      "source": [
        "city_df = df.groupby(['City']).mean()\n",
        "city_df[['yr_average','net_%_1yr','net_price_change_1yr']].nlargest(20, 'net_%_1yr')\n"
      ]
    },
    {
      "cell_type": "code",
      "execution_count": null,
      "metadata": {
        "_cell_guid": "49329ac1-57de-ba35-183c-b3e1d9c49c3f"
      },
      "outputs": [],
      "source": [
        "city_df[['yr_average','net_%_1yr','net_price_change_1yr']].nsmallest(10, 'net_%_1yr')"
      ]
    },
    {
      "cell_type": "code",
      "execution_count": null,
      "metadata": {
        "_cell_guid": "a2f9b366-f550-f129-1ff6-b33d040b9634"
      },
      "outputs": [],
      "source": [
        "p = sns.jointplot(x='yr_average', y='net_%_1yr', data=city_df, color=\"k\")\n",
        "    \n",
        "print(p)"
      ]
    },
    {
      "cell_type": "code",
      "execution_count": null,
      "metadata": {
        "_cell_guid": "ebc650e3-69d2-2691-9e40-9dd3ce0f6195"
      },
      "outputs": [],
      "source": [
        "s = sns.stripplot(y='City', x='yr_average', data=df)"
      ]
    }
  ],
  "metadata": {
    "_change_revision": 0,
    "_is_fork": false,
    "kernelspec": {
      "display_name": "Python 3",
      "language": "python",
      "name": "python3"
    },
    "language_info": {
      "codemirror_mode": {
        "name": "ipython",
        "version": 3
      },
      "file_extension": ".py",
      "mimetype": "text/x-python",
      "name": "python",
      "nbconvert_exporter": "python",
      "pygments_lexer": "ipython3",
      "version": "3.5.2"
    }
  },
  "nbformat": 4,
  "nbformat_minor": 0
}