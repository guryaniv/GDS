{"cells":[
 {
  "cell_type": "code",
  "execution_count": null,
  "metadata": {
   "collapsed": false
  },
  "outputs": [],
  "source": "import pandas as pd\n\ntrain = pd.read_csv(\"../input/train.csv\")\ntest = pd.read_csv(\"../input/test.csv\")\n\n\n'''print(train.shape)\nprint(test.shape)\n\nprint(train.head(n=5))\nprint(test.head(n=5))'''\n"
 },
 {
  "cell_type": "code",
  "execution_count": null,
  "metadata": {
   "collapsed": false
  },
  "outputs": [],
  "source": "x_train = train.drop(\"QuoteConversion_Flag\", axis=1)\ny_train = train[\"QuoteConversion_Flag\"]\nx_test = test.copy()\n\n# Data (datetime) preparing\n\nfor data in [x_train, x_test]:\n    data['Year']  = data['Original_Quote_Date'].apply(lambda x: int(str(x)[:4]))\n    data['Month'] = data['Original_Quote_Date'].apply(lambda x: int(str(x)[5:7]))\n    data['Week']  = data['Original_Quote_Date'].apply(lambda x: int(str(x)[8:10]))\n    data.drop(['Original_Quote_Date'], axis=1,inplace=True)"
 },
 {
  "cell_type": "code",
  "execution_count": null,
  "metadata": {
   "collapsed": false
  },
  "outputs": [],
  "source": "import numpy as np\n\nfrom sklearn import preprocessing\n\nfor f in x_train.columns:\n    if x_train[f].dtype=='object':\n        lbl = preprocessing.LabelEncoder()\n        lbl.fit(np.unique(list(x_train[f].values) + list(x_test[f].values)))\n        x_train[f] = lbl.transform(list(x_train[f].values))\n        x_test[f] = lbl.transform(list(x_test[f].values))"
 },
 {
  "cell_type": "code",
  "execution_count": null,
  "metadata": {
   "collapsed": false
  },
  "outputs": [],
  "source": "from sklearn.preprocessing import Imputer\nimp = Imputer(missing_values='NaN', strategy='mean', axis=0)\nx_train_nonan = imp.fit_transform(x_train)\nx_test_nonan = imp.fit_transform(x_test)\n\n'''\nx_train_nonan = x_train.fillna(-1)\nx_test_nonan = x_test.fillna(-1)'''\n'''\nx_train_nonan = x_train.interpolate()\nx_test_nonan = x_test.interpolate()\n'''"
 },
 {
  "cell_type": "code",
  "execution_count": null,
  "metadata": {
   "collapsed": false
  },
  "outputs": [],
  "source": "# Data preparing\n\nfor data in [x_train, x_test]:\n    data.drop(['QuoteNumber'], axis=1,inplace=True)\n"
 },
 {
  "cell_type": "code",
  "execution_count": null,
  "metadata": {
   "collapsed": false
  },
  "outputs": [],
  "source": "from sklearn.linear_model import RidgeCV\nfrom sklearn.linear_model import LassoCV\n\n'''\nmodel = LogisticRegression()\nmodel.fit(x_train_nonan, y_train)'''\n#model = RidgeCV(alphas=(0.001, 0.01, 0.1, 1.0, 10.0, 100.0, 1000.0))\nmodel = LassoCV(alphas=(0.001, 0.01, 0.1, 1.0, 10.0, 100.0, 1000.0))\n\nmodel.fit(x_train_nonan, y_train)"
 },
 {
  "cell_type": "code",
  "execution_count": null,
  "metadata": {
   "collapsed": false
  },
  "outputs": [],
  "source": "y_test_bool = model.predict(x_train_nonan)\nprint(accuracy_score(y_train, y_test_bool))"
 },
 {
  "cell_type": "code",
  "execution_count": null,
  "metadata": {
   "collapsed": false
  },
  "outputs": [],
  "source": "y_test_bool = model.predict(x_train_nonan)\n'''\nfrom sklearn.metrics import accuracy_score\n\nfor i in range(1, 20):\n    y_test = [(1 if x>=i/20.0 else 0) for x in y_test_bool]\n    print(i/20.0, accuracy_score(y_test, y_train))'''"
 },
 {
  "cell_type": "code",
  "execution_count": null,
  "metadata": {
   "collapsed": false
  },
  "outputs": [],
  "source": "#y_test = [(1 if x>=0.4 else 0) for x in model.predict(x_test_nonan)]\ny_test = model.predict(x_test_nonan)"
 },
 {
  "cell_type": "code",
  "execution_count": null,
  "metadata": {
   "collapsed": false
  },
  "outputs": [],
  "source": "submission = pd.DataFrame()\nsubmission[\"QuoteNumber\"]          = test[\"QuoteNumber\"]\nsubmission[\"QuoteConversion_Flag\"] = y_test\n\nsubmission.to_csv('homesite.csv', index=False)"
 },
 {
  "cell_type": "code",
  "execution_count": null,
  "metadata": {
   "collapsed": false
  },
  "outputs": [],
  "source": ""
 }
],"metadata":{"kernelspec":{"display_name":"Python 3","language":"python","name":"python3"}}, "nbformat": 4, "nbformat_minor": 0}