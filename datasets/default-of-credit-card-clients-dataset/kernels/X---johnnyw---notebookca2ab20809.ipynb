{
  "metadata": {
    "kernelspec": {
      "display_name": "Python 3",
      "language": "python",
      "name": "python3"
    },
    "language_info": {
      "codemirror_mode": {
        "name": "ipython",
        "version": 3
      },
      "file_extension": ".py",
      "mimetype": "text/x-python",
      "name": "python",
      "nbconvert_exporter": "python",
      "pygments_lexer": "ipython3",
      "version": "3.6.0"
    }
  },
  "nbformat": 4,
  "nbformat_minor": 0,
  "cells": [
    {
      "metadata": {
        "_cell_guid": "9aebd640-2431-0628-40e5-6470f06879c1",
        "_active": true,
        "collapsed": false
      },
      "source": "import numpy as np # linear algebra\nimport pandas as pd # data processing, CSV file I/O (e.g. pd.read_csv)\nfrom sklearn.model_selection import train_test_split\nfrom sklearn.decomposition import PCA\nfrom sklearn.svm import SVC\nfrom sklearn.pipeline import Pipeline\nfrom sklearn.model_selection import GridSearchCV\nfrom subprocess import check_output\nprint(check_output([\"ls\", \"../input\"]).decode(\"utf8\"))\n",
      "execution_count": null,
      "cell_type": "code",
      "outputs": [],
      "execution_state": "idle"
    },
    {
      "metadata": {
        "_cell_guid": "1ec7c4bb-8182-1758-9f79-a119a14b279e",
        "_active": false,
        "collapsed": false
      },
      "source": "with open('../input/UCI_Credit_Card.csv', 'r') as f:\n    df = pd.read_csv(f)",
      "execution_count": null,
      "cell_type": "code",
      "outputs": [],
      "execution_state": "idle"
    },
    {
      "metadata": {
        "_cell_guid": "561bf557-491f-d5db-c496-2f2691f84d1c",
        "_active": false,
        "collapsed": false
      },
      "source": "df.head()",
      "execution_count": null,
      "cell_type": "code",
      "outputs": [],
      "execution_state": "idle"
    },
    {
      "metadata": {
        "_cell_guid": "865df653-65d0-9f99-42ef-0bb909c26d79",
        "_active": false,
        "collapsed": false
      },
      "source": "df = df.drop(['ID'], axis=1)",
      "execution_count": null,
      "cell_type": "code",
      "outputs": [],
      "execution_state": "idle"
    },
    {
      "metadata": {
        "_cell_guid": "6ccba6e6-3621-c3b4-80ea-d83f59145050",
        "_active": false,
        "collapsed": false
      },
      "source": "X = df.drop(['default.payment.next.month'], axis=1).values\ny = df['default.payment.next.month'].values",
      "execution_count": null,
      "cell_type": "code",
      "outputs": [],
      "execution_state": "idle"
    },
    {
      "metadata": {
        "_cell_guid": "2aa8ec85-8274-121d-b421-1a8419e2905c",
        "_active": false,
        "collapsed": false
      },
      "source": "X_train, X_test, y_train, y_test = train_test_split(X, y, random_state=2)",
      "execution_count": null,
      "cell_type": "code",
      "outputs": [],
      "execution_state": "idle"
    },
    {
      "metadata": {
        "_cell_guid": "298bf528-6b7f-c5b1-a309-c0a32ed17049",
        "_active": false,
        "collapsed": false
      },
      "source": "pipe = Pipeline([('pca', PCA(n_components=2)),\n                 ('svc', SVC())])\nparameters = {'svc__C': (0.5, 1.0, 1.5), 'svc__kernel': ('linear', 'rbf')}\n#pipe.get_params().keys()",
      "execution_count": null,
      "cell_type": "code",
      "outputs": [],
      "execution_state": "idle"
    },
    {
      "metadata": {
        "_cell_guid": "348bd201-876a-15ee-ec3f-ca2bcf17e5af",
        "_active": false,
        "collapsed": false
      },
      "source": "grid_search = GridSearchCV(pipe, parameters, n_jobs=5, verbose=1)\ngrid_search.fit(X_train, y_train)",
      "execution_count": null,
      "cell_type": "code",
      "outputs": [],
      "execution_state": "idle"
    },
    {
      "metadata": {
        "_cell_guid": "41b6cc26-e16e-b278-d26e-4990761cf7d9",
        "_active": false,
        "collapsed": false
      },
      "source": "grid_search.best_score_",
      "execution_count": null,
      "cell_type": "code",
      "outputs": [],
      "execution_state": "idle"
    },
    {
      "metadata": {
        "_cell_guid": "cb3a5630-c264-15d9-50c1-7644131543c7",
        "_active": false,
        "collapsed": false
      },
      "source": null,
      "execution_count": null,
      "cell_type": "code",
      "outputs": [],
      "execution_state": "idle"
    }
  ]
}