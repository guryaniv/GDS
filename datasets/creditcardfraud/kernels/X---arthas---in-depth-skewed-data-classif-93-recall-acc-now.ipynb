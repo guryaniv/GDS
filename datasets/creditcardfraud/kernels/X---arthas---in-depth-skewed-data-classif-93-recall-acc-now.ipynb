{
  "metadata": {
    "kernelspec": {
      "display_name": "Python 3",
      "language": "python",
      "name": "python3"
    },
    "language_info": {
      "codemirror_mode": {
        "name": "ipython",
        "version": 3
      },
      "file_extension": ".py",
      "mimetype": "text/x-python",
      "name": "python",
      "nbconvert_exporter": "python",
      "pygments_lexer": "ipython3",
      "version": "3.5.2"
    }
  },
  "nbformat": 4,
  "nbformat_minor": 0,
  "cells": [
    {
      "cell_type": "markdown",
      "metadata": {
        "_cell_guid": "a239913a-b27f-15e7-8911-53b62bf41c4e",
        "_active": false
      },
      "source": "# Credit card fraud detection\n\n#### This notebook will test different methods on skewed data. The idea is to compare if preprocessing techniques work better when there is an overwhelming majority class that can disrupt the efficiency of our predictive model.\n\n#### You will also be able to see how to apply cross validation for hyperparameter tuning on different classification models. My intention is to create models using:\n1. Logistic Regression\n2. SVMs\n3. Decision trees\n4. I also want to have a try at anomaly detection techniques, but I still have to investigate a bit on that, so any advise will be appreciated!",
      "outputs": []
    },
    {
      "cell_type": "code",
      "execution_count": 1,
      "metadata": {
        "_cell_guid": "029ecde6-086d-7a8e-de44-363a7a23dbd8",
        "_active": false
      },
      "outputs": [],
      "source": "import pandas as pd\nimport matplotlib.pyplot as plt\nimport numpy as np\n\n%matplotlib inline",
      "execution_state": "idle"
    },
    {
      "cell_type": "markdown",
      "metadata": {
        "_cell_guid": "b4de5f93-d467-ad7d-4597-03d5f3e89f86",
        "_active": false
      },
      "source": "# Loading the dataset",
      "outputs": []
    },
    {
      "cell_type": "code",
      "execution_count": 2,
      "metadata": {
        "_cell_guid": "7e5ca1e3-3597-19d2-b4be-dffd335df630",
        "_active": false
      },
      "outputs": [],
      "source": "data = pd.read_csv(\"../input/creditcard.csv\")\ndata.head()",
      "execution_state": "idle"
    },
    {
      "cell_type": "markdown",
      "metadata": {
        "_cell_guid": "6268bbd8-6de5-2389-5693-ecd9a14872d4",
        "_active": false
      },
      "source": "# Checking the target classes",
      "outputs": []
    },
    {
      "cell_type": "code",
      "execution_count": 3,
      "metadata": {
        "_cell_guid": "3f6e6674-12e9-6983-5788-5755f80c7ec2",
        "_active": false
      },
      "outputs": [],
      "source": "count_classes = pd.value_counts(data['Class'], sort = True).sort_index()\ncount_classes.plot(kind = 'bar')\nplt.title(\"Fraud class histogram\")\nplt.xlabel(\"Class\")\nplt.ylabel(\"Frequency\")",
      "execution_state": "idle"
    },
    {
      "cell_type": "markdown",
      "metadata": {
        "_cell_guid": "801dd843-a90b-bb5f-97e7-2da84cc6cd6a",
        "_active": false
      },
      "source": "### Clearly the data is totally unbalanced!! \n\n#### This is a clear example where using a typical accuracy score to evaluate our classification algorithm. For example, if we just used a majority class to assign values to all records, we will still be having a high accuracy, BUT WE WOULD BE CLASSIFYING ALL \"1\" INCORRECTLY!!\n\n#### There are several ways to approach this classification problem taking into consideration this unbalance. \n\n- Collect more data? Nice strategy but not applicable in this case\n- Changing the performance metric:\n    - Use the confusio nmatrix to calculate Precision, Recall\n    - F1score (weighted average of precision recall)\n    - Use Kappa - which is a classification accuracy normalized by the imbalance of the classes in the data\n    - ROC curves - calculates sensitivity/specificity ratio.\n- Resampling the dataset\n    - Essentially this is a method that will process the data to have an approximate 50-50 ratio.\n    - One way to achieve this is by OVER-sampling, which is adding copies of the under-represented class (better when you have little data)\n    - Another is UNDER-sampling, which deletes instances from the over-represented class (better when he have lot's of data)",
      "outputs": []
    },
    {
      "cell_type": "markdown",
      "metadata": {
        "_cell_guid": "555427ea-a862-c64f-9d88-ddbb4f0366a3",
        "_active": false
      },
      "source": "# Approach\n\n1. We are not going to perform feature engineering in first instance. The dataset has been downgraded in order to contain 30 features (28 anonamised + time + amount). \n2. We will then compare what happens when using resampling and when not using it. We will test this approach using a simple logistic regression classifier.\n3. We will evaluate the models by using some of the performance metrics mentioned above.\n4. We will repeat the best resampling/not resampling method, by tuning the parameters in the logistic regression classifier.\n5. We will finally perform classifications model using other classification algorithms.",
      "outputs": []
    },
    {
      "cell_type": "markdown",
      "metadata": {
        "_cell_guid": "fb559c9d-f4fe-5c63-7bdb-14cd3529f660",
        "_active": false
      },
      "source": "# Setting our input and target variables + resampling.\n\n#### 1. Normalising the amount column. The amount column is not in line with the anonimised features.",
      "outputs": []
    },
    {
      "cell_type": "code",
      "execution_count": 4,
      "metadata": {
        "_cell_guid": "3fd30a6f-c0ad-5ece-943c-651cdf14d0d6",
        "_active": false
      },
      "outputs": [],
      "source": "from sklearn.preprocessing import StandardScaler\n\ndata['normAmount'] = StandardScaler().fit_transform(data['Amount'].reshape(-1, 1))\ndata = data.drop(['Time','Amount'],axis=1)\ndata.head()",
      "execution_state": "idle"
    },
    {
      "cell_type": "markdown",
      "metadata": {
        "_cell_guid": "1e02844a-34ff-34ff-51f8-ef074ee2f1d5",
        "_active": false
      },
      "source": "#### 2. Assigning X and Y. No resampling.",
      "outputs": []
    },
    {
      "cell_type": "markdown",
      "metadata": {
        "_cell_guid": "cfffc4c5-b621-250f-3b6b-6118cef52b9d",
        "_active": false
      },
      "source": "#### 3. Resampling.\n\n- As we mentioned earlier, there are several ways to resample skewed data. Apart from under and over sampling, there is a very popular approach called SMOTE (Synthetic Minority Over-Sampling Technique), which is a combination of oversampling and undersampling, but the oversampling approach is not by replicating minority class but constructing new minority class data instance via an algorithm.\n\n- In this notebook, we will use traditional UNDER-sampling. I will probably try to implement SMOTE in future versions of the code, but for now I will use traditional undersamplig.\n\n- The way we will under sample the dataset will be by creating a 50/50 ratio. This will be done by randomly selecting \"x\" amount of sample from the majority class, being \"x\" the total number of records with the minority class.",
      "outputs": []
    },
    {
      "cell_type": "code",
      "execution_count": 5,
      "metadata": {
        "_cell_guid": "c1d874fa-5ea5-edbb-726c-ae98c84e6120",
        "_active": false
      },
      "outputs": [],
      "source": "X = data.ix[:, data.columns != 'Class']\ny = data.ix[:, data.columns == 'Class']",
      "execution_state": "idle"
    },
    {
      "cell_type": "code",
      "execution_count": 6,
      "metadata": {
        "_cell_guid": "2af7c203-44ed-66b6-6141-ac0d0637fcc6",
        "_active": false
      },
      "outputs": [],
      "source": "# Number of data points in the minority class\nnumber_records_fraud = len(data[data.Class == 1])\nfraud_indices = np.array(data[data.Class == 1].index)\n\n# Picking the indices of the normal classes\nnormal_indices = data[data.Class == 0].index\n\n# Out of the indices we picked, randomly select \"x\" number (number_records_fraud)\nrandom_normal_indices = np.random.choice(normal_indices, number_records_fraud, replace = False)\nrandom_normal_indices = np.array(random_normal_indices)\n\n# Appending the 2 indices\nunder_sample_indices = np.concatenate([fraud_indices,random_normal_indices])\n\n# Under sample dataset\nunder_sample_data = data.iloc[under_sample_indices,:]\n\nX_undersample = under_sample_data.ix[:, under_sample_data.columns != 'Class']\ny_undersample = under_sample_data.ix[:, under_sample_data.columns == 'Class']\n\n# Showing ratio\nprint(\"Percentage of normal transactions: \", len(under_sample_data[under_sample_data.Class == 0])/len(under_sample_data))\nprint(\"Percentage of fraud transactions: \", len(under_sample_data[under_sample_data.Class == 1])/len(under_sample_data))\nprint(\"Total number of transactions in resampled data: \", len(under_sample_data))",
      "execution_state": "idle"
    },
    {
      "cell_type": "markdown",
      "metadata": {
        "_cell_guid": "6b74ba73-82a8-3585-b790-44fe486ff19d",
        "_active": false
      },
      "source": "# Splitting data into train and test set. Cross validation will be used when calculating accuracies.",
      "outputs": []
    },
    {
      "cell_type": "code",
      "execution_count": 7,
      "metadata": {
        "_cell_guid": "4a725b16-c14a-2be8-8240-617b7b2ed8cd",
        "_active": false
      },
      "outputs": [],
      "source": "from sklearn.cross_validation import train_test_split\n\n# Whole dataset\nX_train, X_test, y_train, y_test = train_test_split(X,y,test_size = 0.3, random_state = 0)\n\nprint(\"Number transactions train dataset: \", len(X_train))\nprint(\"Number transactions test dataset: \", len(X_test))\nprint(\"Total number of transactions: \", len(X_train)+len(X_test))\n\n# Undersampled dataset\nX_train_undersample, X_test_undersample, y_train_undersample, y_test_undersample = train_test_split(X_undersample\n                                                                                                   ,y_undersample\n                                                                                                   ,test_size = 0.3\n                                                                                                   ,random_state = 0)\nprint(\"\")\nprint(\"Number transactions train dataset: \", len(X_train_undersample))\nprint(\"Number transactions test dataset: \", len(X_test_undersample))\nprint(\"Total number of transactions: \", len(X_train_undersample)+len(X_test_undersample))",
      "execution_state": "idle"
    },
    {
      "cell_type": "markdown",
      "metadata": {
        "_cell_guid": "6927cc69-57e6-4f34-4680-0b0016d414a0",
        "_active": false
      },
      "source": "# Logistic regression classifier - Undersampled data\n\n#### We are very interested in the recall score, because that is the metric that will help us try to capture the most fraudulent transactions. If you think how Accuracy, Precision and Recall work for a confusion matrix, recall would be the most interesting:\n\n- Accuracy = (TP+TN)/total\n- Precision = TP/(TP+FP)\n- Recall = TP/(TP+FN)\n\n#### As we know, due to the imbalacing of the data, many observations could be predicted as False Negatives, being, that we predict a normal transaction, but it is in fact a fraudulent one. Recall captures this.\n- Obviously, trying to increase recall, tends to come with a decrease of precision. However, in our case, if we predict that a transaction is fraudulent and turns out not to be, is not a massive problem compared to the opposite. \n- We could even apply a cost function when having FN and FP with different weights for each type of error, but let's leave that aside for now.",
      "outputs": []
    },
    {
      "cell_type": "code",
      "execution_count": 8,
      "metadata": {
        "_cell_guid": "9c7ec815-da54-993b-ef8d-b41b767cfacf",
        "_active": false,
        "collapsed": false
      },
      "outputs": [],
      "source": "\nfrom sklearn.linear_model import LogisticRegression\nfrom sklearn.cross_validation import KFold, cross_val_score\nfrom sklearn.metrics import confusion_matrix,precision_recall_curve,auc,roc_auc_score,roc_curve,recall_score,classification_report ",
      "execution_state": "idle"
    },
    {
      "cell_type": "markdown",
      "metadata": {
        "_cell_guid": "88765ef8-cb56-860a-d249-9691d90afcb2",
        "_active": false
      },
      "source": "#### Very ad-hoc function to print K_fold_scores",
      "outputs": []
    },
    {
      "cell_type": "code",
      "execution_count": 9,
      "metadata": {
        "_cell_guid": "069bc837-cfd1-006e-c589-7085d5d29a8e",
        "_active": false
      },
      "outputs": [],
      "source": "def printing_Kfold_scores(x_train_data,y_train_data):\n    fold = KFold(len(y_train_data),5,shuffle=False) \n\n    # Different C parameters\n    c_param_range = [0.01,0.1,1,10,100]\n\n    results_table = pd.DataFrame(index = range(len(c_param_range),2), columns = ['C_parameter','Mean recall score'])\n    results_table['C_parameter'] = c_param_range\n\n    # the k-fold will give 2 lists: train_indices = indices[0], test_indices = indices[1]\n    j = 0\n    for c_param in c_param_range:\n        print('-------------------------------------------')\n        print('C parameter: ', c_param)\n        print('-------------------------------------------')\n        print('')\n\n        recall_accs = []\n        for iteration, indices in enumerate(fold,start=1):\n\n            # Call the logistic regression model with a certain C parameter\n            lr = LogisticRegression(C = c_param, penalty = 'l1')\n\n            # Use the training data to fit the model. In this case, we use the portion of the fold to train the model\n            # with indices[0]. We then predict on the portion assigned as the 'test cross validation' with indices[1]\n            lr.fit(x_train_data.iloc[indices[0],:],y_train_data.iloc[indices[0],:].values.ravel())\n\n            # Predict values using the test indices in the training data\n            y_pred_undersample = lr.predict(x_train_data.iloc[indices[1],:].values)\n\n            # Calculate the recall score and append it to a list for recall scores representing the current c_parameter\n            recall_acc = recall_score(y_train_data.iloc[indices[1],:].values,y_pred_undersample)\n            recall_accs.append(recall_acc)\n            print('Iteration ', iteration,': recall score = ', recall_acc)\n\n        # The mean value of those recall scores is the metric we want to save and get hold of.\n        results_table.ix[j,'Mean recall score'] = np.mean(recall_accs)\n        j += 1\n        print('')\n        print('Mean recall score ', np.mean(recall_accs))\n        print('')\n\n    best_c = results_table.loc[results_table['Mean recall score'].idxmax()]['C_parameter']\n    \n    # Finally, we can check which C parameter is the best amongst the chosen.\n    print('*********************************************************************************')\n    print('Best model to choose from cross validation is with C parameter = ', best_c)\n    print('*********************************************************************************')\n    \n    return best_c",
      "execution_state": "idle"
    },
    {
      "metadata": {
        "_cell_guid": "348bf0cc-f2af-981a-1fe1-20caca94d936",
        "_active": true,
        "collapsed": false
      },
      "source": "x_train_undersample.head();\ny_train_undersample.head();",
      "execution_count": null,
      "cell_type": "code",
      "outputs": []
    },
    {
      "cell_type": "code",
      "execution_count": 10,
      "metadata": {
        "_cell_guid": "983c1c75-8092-9a8e-40ca-754fde9e2301",
        "_active": false
      },
      "outputs": [],
      "source": "best_c = printing_Kfold_scores(X_train_undersample,y_train_undersample)",
      "execution_state": "idle"
    },
    {
      "cell_type": "markdown",
      "metadata": {
        "_cell_guid": "bdb1ff38-9d27-ae15-58df-9be4e4f76550",
        "_active": false
      },
      "source": "#### Create a function to plot a fancy confusion matrix",
      "outputs": []
    },
    {
      "cell_type": "code",
      "execution_count": 11,
      "metadata": {
        "_cell_guid": "f5b049b3-4f9a-f5bb-db3d-6c48e9b1e1a5",
        "_active": false
      },
      "outputs": [],
      "source": "import itertools\n\ndef plot_confusion_matrix(cm, classes,\n                          normalize=False,\n                          title='Confusion matrix',\n                          cmap=plt.cm.Blues):\n    \"\"\"\n    This function prints and plots the confusion matrix.\n    Normalization can be applied by setting `normalize=True`.\n    \"\"\"\n    plt.imshow(cm, interpolation='nearest', cmap=cmap)\n    plt.title(title)\n    plt.colorbar()\n    tick_marks = np.arange(len(classes))\n    plt.xticks(tick_marks, classes, rotation=0)\n    plt.yticks(tick_marks, classes)\n\n    if normalize:\n        cm = cm.astype('float') / cm.sum(axis=1)[:, np.newaxis]\n        #print(\"Normalized confusion matrix\")\n    else:\n        1#print('Confusion matrix, without normalization')\n\n    #print(cm)\n\n    thresh = cm.max() / 2.\n    for i, j in itertools.product(range(cm.shape[0]), range(cm.shape[1])):\n        plt.text(j, i, cm[i, j],\n                 horizontalalignment=\"center\",\n                 color=\"white\" if cm[i, j] > thresh else \"black\")\n\n    plt.tight_layout()\n    plt.ylabel('True label')\n    plt.xlabel('Predicted label')",
      "execution_state": "idle"
    },
    {
      "cell_type": "markdown",
      "metadata": {
        "_cell_guid": "e40b554a-5b88-2828-f655-d54560ad7480",
        "_active": false
      },
      "source": "### Predictions on test set and plotting confusion matrix\n\n#### We have been talking about using the recall metric as our proxy of how effective our predictive model is. Even though recall is still the recall we want to calculate, just bear mind in mind that the undersampled data hasn't got a skewness towards a certain class, which doesn't make recall metric as critical. ",
      "outputs": []
    },
    {
      "cell_type": "code",
      "execution_count": 12,
      "metadata": {
        "_cell_guid": "5c8e4c0e-8cfd-7422-04a8-1b47b8531267",
        "_active": false
      },
      "outputs": [],
      "source": "# Use this C_parameter to build the final model with the whole training dataset and predict the classes in the test\n# dataset\nlr = LogisticRegression(C = best_c, penalty = 'l1')\nlr.fit(X_train_undersample,y_train_undersample.values.ravel())\ny_pred_undersample = lr.predict(X_test_undersample.values)\n\n# Compute confusion matrix\ncnf_matrix = confusion_matrix(y_test_undersample,y_pred_undersample)\nnp.set_printoptions(precision=2)\n\nprint(\"Recall metric in the testing dataset: \", cnf_matrix[1,1]/(cnf_matrix[1,0]+cnf_matrix[1,1]))\n\n# Plot non-normalized confusion matrix\nclass_names = [0,1]\nplt.figure()\nplot_confusion_matrix(cnf_matrix\n                      , classes=class_names\n                      , title='Confusion matrix')\nplt.show()",
      "execution_state": "idle"
    },
    {
      "cell_type": "markdown",
      "metadata": {
        "_cell_guid": "3aee694e-c838-434a-0cb6-dafaa3a0b224",
        "_active": false
      },
      "source": "#### So, the model is offering an 93.2% recall accuracy on the generalised unseen data (test set). Not a bad percentage to be the first try. However, recall this is a 93.2% recall accuracy measure on the undersampled test set.\n\n### Being happy with this result, let's apply the model we fitted and test it on the whole data.",
      "outputs": []
    },
    {
      "cell_type": "code",
      "execution_count": 13,
      "metadata": {
        "_cell_guid": "2fac80a6-cc45-49e8-3fd6-2322e2461955",
        "_active": false
      },
      "outputs": [],
      "source": "# Use this C_parameter to build the final model with the whole training dataset and predict the classes in the test\n# dataset\nlr = LogisticRegression(C = best_c, penalty = 'l1')\nlr.fit(X_train_undersample,y_train_undersample.values.ravel())\ny_pred = lr.predict(X_test.values)\n\n# Compute confusion matrix\ncnf_matrix = confusion_matrix(y_test,y_pred)\nnp.set_printoptions(precision=2)\n\nprint(\"Recall metric in the testing dataset: \", cnf_matrix[1,1]/(cnf_matrix[1,0]+cnf_matrix[1,1]))\n\n# Plot non-normalized confusion matrix\nclass_names = [0,1]\nplt.figure()\nplot_confusion_matrix(cnf_matrix\n                      , classes=class_names\n                      , title='Confusion matrix')\nplt.show()",
      "execution_state": "idle"
    },
    {
      "cell_type": "markdown",
      "metadata": {
        "_cell_guid": "e90966bc-2fb9-8442-4705-340d15a79b66",
        "_active": false
      },
      "source": "### Still a very decent recall accuracy when applying it to a much larger and skewed dataset! \n\n#### We can start to be happy with how initial approach is working.",
      "outputs": []
    },
    {
      "cell_type": "markdown",
      "metadata": {
        "_cell_guid": "29bf4990-1b01-52fc-6c37-d4414b0aafa7",
        "_active": false
      },
      "source": "### Plotting ROC curve and Precision-Recall curve.\n\n- I find precision-recall curve much more convenient in this case as our problems relies on the \"positive\" class being more interesting than the negative class, but as we have calculated the recall precision, I am not going to plot the precision recall curves yet.\n\n- AUC and ROC curve are also interesting to check if the model is also predicting as a whole correctly and not making many errors",
      "outputs": []
    },
    {
      "cell_type": "code",
      "execution_count": 14,
      "metadata": {
        "_cell_guid": "4a0d3339-cb16-5899-0b0e-f86636284a63",
        "_active": false
      },
      "outputs": [],
      "source": "# ROC CURVE\nlr = LogisticRegression(C = best_c, penalty = 'l1')\ny_pred_undersample_score = lr.fit(X_train_undersample,y_train_undersample.values.ravel()).decision_function(X_test_undersample.values)\n\nfpr, tpr, thresholds = roc_curve(y_test_undersample.values.ravel(),y_pred_undersample_score)\nroc_auc = auc(fpr,tpr)\n\n# Plot ROC\nplt.title('Receiver Operating Characteristic')\nplt.plot(fpr, tpr, 'b',label='AUC = %0.2f'% roc_auc)\nplt.legend(loc='lower right')\nplt.plot([0,1],[0,1],'r--')\nplt.xlim([-0.1,1.0])\nplt.ylim([-0.1,1.01])\nplt.ylabel('True Positive Rate')\nplt.xlabel('False Positive Rate')\nplt.show()",
      "execution_state": "idle"
    },
    {
      "cell_type": "markdown",
      "metadata": {
        "_cell_guid": "1f1e40a4-bca8-87ad-f368-d0b50e7d6158",
        "_active": false
      },
      "source": "#### An additional comment that would be interesting to do is to initialise multiple undersampled datasets and repeat the process in loop. Remember that, to create an undersample data, we randomly got records from the majority class. Even though this is a valid technique, is doesn't represent the real population, so it would be interesting to repeat the process with different undersample configurations and check if the previous chosen parameters are still the most effective. In the end, the idea is to use a wider random representation of the whole dataset and rely on the averaged best parameters.",
      "outputs": []
    },
    {
      "cell_type": "markdown",
      "metadata": {
        "_cell_guid": "2e0e6bfc-37ac-2d2e-61af-7118619fdf27",
        "_active": false
      },
      "source": "# Logistic regression classifier - Skewed data\n\n#### Having tested our previous approach, I find really interesting to test the same process on the skewed data. Our intuition is that skewness will introduce issues difficult to capture, and therefore, provide a less effective algorithm.\n- To be fair, taking into account the fact that the train and test datasets are substantially bigger than the undersampled ones, I believe a K-fold cross validation is necessary. I guess that by splitting the data with 60% in training set, 20% cross validation and 20% test should be enough... but let's take the same approach as before (no harm on this, it's just that K-fold is computationally more expensive)",
      "outputs": []
    },
    {
      "cell_type": "code",
      "execution_count": 15,
      "metadata": {
        "_cell_guid": "2aaf245f-43cd-d543-b857-562fb696fc4e",
        "_active": false
      },
      "outputs": [],
      "source": "best_c = printing_Kfold_scores(X_train,y_train)",
      "execution_state": "idle"
    },
    {
      "cell_type": "code",
      "execution_count": 16,
      "metadata": {
        "_cell_guid": "634c1907-a5c5-888c-c2e9-da73f81ee445",
        "_active": false
      },
      "outputs": [],
      "source": "# Use this C_parameter to build the final model with the whole training dataset and predict the classes in the test\n# dataset\nlr = LogisticRegression(C = best_c, penalty = 'l1')\nlr.fit(X_train,y_train.values.ravel())\ny_pred_undersample = lr.predict(X_test.values)\n\n# Compute confusion matrix\ncnf_matrix = confusion_matrix(y_test,y_pred_undersample)\nnp.set_printoptions(precision=2)\n\nprint(\"Recall metric in the testing dataset: \", cnf_matrix[1,1]/(cnf_matrix[1,0]+cnf_matrix[1,1]))\n\n# Plot non-normalized confusion matrix\nclass_names = [0,1]\nplt.figure()\nplot_confusion_matrix(cnf_matrix\n                      , classes=class_names\n                      , title='Confusion matrix')\nplt.show()",
      "execution_state": "idle"
    },
    {
      "cell_type": "markdown",
      "metadata": {
        "_cell_guid": "f409ba42-8534-e960-0869-00b1e4e73d65",
        "_active": false
      },
      "source": "# Before continuing... changing classification threshold.\n\n#### We have seen that by undersampling the data, our algorithm does a much better job at detecting fraud. I wanted also to show how can we tweak our final classification by changing the thresold.\n- Initially, you build the classification model and then you predict unseen data using it.\n- We previously used the \"predict()\" method to decided whether a record should belong to \"1\" or \"0\". \n- There is another method \"predict_proba()\".\n    - This method returns the probabilities for each class. The idea is that by changing the threshold to assign a record to class 1, we can control precision and recall.\n    \n#### Let's check this using the undersampled data (best C_param = 0.01)",
      "outputs": []
    },
    {
      "cell_type": "code",
      "execution_count": 17,
      "metadata": {
        "_cell_guid": "a1275e7d-48fc-e0bd-c629-6ddf698b47b5",
        "_active": false
      },
      "outputs": [],
      "source": "lr = LogisticRegression(C = 0.01, penalty = 'l1')\nlr.fit(X_train_undersample,y_train_undersample.values.ravel())\ny_pred_undersample_proba = lr.predict_proba(X_test_undersample.values)\n\nthresholds = [0.1,0.2,0.3,0.4,0.5,0.6,0.7,0.8,0.9]\n\nplt.figure(figsize=(10,10))\n\nj = 1\nfor i in thresholds:\n    y_test_predictions_high_recall = y_pred_undersample_proba[:,1] > i\n    \n    plt.subplot(3,3,j)\n    j += 1\n    \n    # Compute confusion matrix\n    cnf_matrix = confusion_matrix(y_test_undersample,y_test_predictions_high_recall)\n    np.set_printoptions(precision=2)\n\n    print(\"Recall metric in the testing dataset: \", cnf_matrix[1,1]/(cnf_matrix[1,0]+cnf_matrix[1,1]))\n\n    # Plot non-normalized confusion matrix\n    class_names = [0,1]\n    plot_confusion_matrix(cnf_matrix\n                          , classes=class_names\n                          , title='Threshold >= %s'%i) ",
      "execution_state": "idle"
    },
    {
      "cell_type": "markdown",
      "metadata": {
        "_cell_guid": "cdf08467-7947-a71b-3d00-7b060905bbdb",
        "_active": false
      },
      "source": "### The pattern is very clear: the more you lower the required probability to put a certain in the class \"1\" category, more records will be put in that bucket.\n#### This implies an increase in recall (we want all the \"1\"s), but at the same time, a decrease in precision (we misclassify many of the other class).\n### Therefore, even though recall is our goal metric (do not miss a fraud transaction), we also want to keep the model being accurate as a whole.\n- There is an option I think could be quite interesting to tackle this. We could assing cost to misclassifications, but being interested in classifying \"1s\" correctly, the cost for misclassifying \"1s\" should be bigger than \"0\" misclassifications. After that, the algorithm would select the threshold which minimises the total cost. A drawback I see is that we have to manually select the weight of each cost... therefore, I will leave this know as a thought.\n- Going back to the threshold changing, there is an option which is the Precisio-Recall curve. By visually seeing the performance of the model depending on the threshold we choose, we can investigate a sweet spot where recall is high enough whilst keeping a high precision value.\n\n### Investigate Precision-Recall curve and area under this curve.",
      "outputs": []
    },
    {
      "cell_type": "code",
      "execution_count": 18,
      "metadata": {
        "_cell_guid": "c73b727b-6743-add2-a45f-a83ce5b8b375",
        "_active": false
      },
      "outputs": [],
      "source": "from itertools import cycle\n\nlr = LogisticRegression(C = 0.01, penalty = 'l1')\nlr.fit(X_train_undersample,y_train_undersample.values.ravel())\ny_pred_undersample_proba = lr.predict_proba(X_test_undersample.values)\n\nthresholds = [0.1,0.2,0.3,0.4,0.5,0.6,0.7,0.8,0.9]\ncolors = cycle(['navy', 'turquoise', 'darkorange', 'cornflowerblue', 'teal', 'red', 'yellow', 'green', 'blue','black'])\n\nplt.figure(figsize=(5,5))\n\nj = 1\nfor i,color in zip(thresholds,colors):\n    y_test_predictions_prob = y_pred_undersample_proba[:,1] > i\n    \n    precision, recall, thresholds = precision_recall_curve(y_test_undersample,y_test_predictions_prob)\n    \n    # Plot Precision-Recall curve\n    plt.plot(recall, precision, color=color,\n                 label='Threshold: %s'%i)\n    plt.xlabel('Recall')\n    plt.ylabel('Precision')\n    plt.ylim([0.0, 1.05])\n    plt.xlim([0.0, 1.0])\n    plt.title('Precision-Recall example')\n    plt.legend(loc=\"lower left\")",
      "execution_state": "idle"
    },
    {
      "cell_type": "markdown",
      "metadata": {
        "_cell_guid": "96c3a75c-0333-e22f-958e-036c0e0d337d",
        "_active": false
      },
      "source": "# Upcoming updates: \n## testing SVMs\n## testing decision trees",
      "outputs": []
    }
  ]
}