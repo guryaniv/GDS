{
  "cells": [
    {
      "cell_type": "markdown",
      "metadata": {
        "_cell_guid": "1ac5b555-2263-feea-affd-7c93f524b454"
      },
      "source": [
        "In this notebook I'm exploring unsupervised methods for fraud detection. \n",
        "\n",
        "The first part shows hyperparameter optimization for Isolation Forest with the best set of parameters {'max_features': 18, 'n_estimators': 30} and area under the ROC curve: 96.4353023629.\n",
        "\n",
        "Coming soon: \n",
        "Experiments with Elliptic Envelope :)"
      ]
    },
    {
      "cell_type": "code",
      "execution_count": null,
      "metadata": {
        "_cell_guid": "93e9226e-aee6-0e7f-0eb2-72bbf663fe72"
      },
      "outputs": [],
      "source": [
        "import pandas as pd\n",
        "from sklearn.ensemble import IsolationForest\n",
        "from sklearn.preprocessing import StandardScaler\n",
        "from sklearn.model_selection import GridSearchCV, ShuffleSplit\n",
        "from sklearn.model_selection import train_test_split\n",
        "from sklearn.metrics import classification_report\n",
        "from sklearn.datasets.mldata import fetch_mldata\n",
        "from sklearn.pipeline import Pipeline\n",
        "from sklearn.metrics import f1_score, make_scorer, roc_auc_score\n",
        "import scipy as sp"
      ]
    },
    {
      "cell_type": "code",
      "execution_count": null,
      "metadata": {
        "_cell_guid": "7a5ef809-6724-b196-4277-9ba061be8c92"
      },
      "outputs": [],
      "source": [
        "data = pd.read_csv(\"../input/creditcard.csv\")\n",
        "\n",
        "X = data.drop([\"Time\", \"Amount\"], axis=1)\n",
        "X = X.as_matrix()\n",
        "y = X[:, -1]"
      ]
    },
    {
      "cell_type": "code",
      "execution_count": null,
      "metadata": {
        "_cell_guid": "f2c1b665-7273-e829-0478-dc925db43a40"
      },
      "outputs": [],
      "source": [
        "IsolationForest().get_params()"
      ]
    },
    {
      "cell_type": "code",
      "execution_count": null,
      "metadata": {
        "_cell_guid": "1bc9e6f5-bff0-dfaa-aa9e-1468f7f42e67"
      },
      "outputs": [],
      "source": [
        "X_train, X_test, y_train, y_test = train_test_split(X[:, :-1], y, test_size=0.2, random_state=777)\n",
        "\n",
        "pipeline = IsolationForest()\n",
        "\n",
        "param_grid = {'n_estimators': range(10, 50, 10), \"max_features\": range(8, 29, 10)}\n",
        "\n",
        "ss = ShuffleSplit(test_size=0.2, random_state=777)\n",
        "\n",
        "def scorer(pipeline, X, y):\n",
        "    y_score = - pipeline.decision_function(X)\n",
        "    score = roc_auc_score(y, y_score) * 100.\n",
        "    print (score)\n",
        "    return score\n",
        "\n",
        "grid = GridSearchCV(pipeline, param_grid, cv=ss, scoring = scorer)\n",
        "\n",
        "grid.fit(X, y)\n",
        "\n",
        "print(\"Grid scores on development set:\")\n",
        "means = grid.cv_results_['mean_test_score']\n",
        "stds = grid.cv_results_['std_test_score']\n",
        "\n",
        "for mean, std, params in zip(means, stds, grid.cv_results_['params']):\n",
        "    print(\"%0.3f (+/-%0.03f) for %r\" % (mean, std * 2, params))\n",
        "\n",
        "print(\"Best parameters set found on development set:\")\n",
        "print(grid.best_params_)\n",
        "print(\"ROC AUC of the best estimator: \")\n",
        "print(grid.best_score_)"
      ]
    }
  ],
  "metadata": {
    "_change_revision": 0,
    "_is_fork": false,
    "kernelspec": {
      "display_name": "Python 3",
      "language": "python",
      "name": "python3"
    },
    "language_info": {
      "codemirror_mode": {
        "name": "ipython",
        "version": 3
      },
      "file_extension": ".py",
      "mimetype": "text/x-python",
      "name": "python",
      "nbconvert_exporter": "python",
      "pygments_lexer": "ipython3",
      "version": "3.6.0"
    }
  },
  "nbformat": 4,
  "nbformat_minor": 0
}