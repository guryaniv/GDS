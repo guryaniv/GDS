{
  "metadata": {
    "kernelspec": {
      "display_name": "Python 3",
      "language": "python",
      "name": "python3"
    },
    "language_info": {
      "codemirror_mode": {
        "name": "ipython",
        "version": 3
      },
      "file_extension": ".py",
      "mimetype": "text/x-python",
      "name": "python",
      "nbconvert_exporter": "python",
      "pygments_lexer": "ipython3",
      "version": "3.6.0"
    }
  },
  "nbformat": 4,
  "nbformat_minor": 0,
  "cells": [
    {
      "cell_type": "code",
      "execution_count": null,
      "metadata": {
        "_cell_guid": "b562bb78-34a6-e948-dab4-129f4767a240",
        "_active": false
      },
      "outputs": [],
      "source": "# This Python 3 environment comes with many helpful analytics libraries installed\n# It is defined by the kaggle/python docker image: https://github.com/kaggle/docker-python\n# For example, here's several helpful packages to load in \n\nimport numpy as np # linear algebra\nimport pandas as pd # data processing, CSV file I/O (e.g. pd.read_csv)\n\n# Input data files are available in the \"../input/\" directory.\n# For example, running this (by clicking run or pressing Shift+Enter) will list the files in the input directory\n\nfrom subprocess import check_output\nprint(check_output([\"ls\", \"../input\"]).decode(\"utf8\"))\n\n# Any results you write to the current directory are saved as output.",
      "execution_state": "idle"
    },
    {
      "cell_type": "code",
      "execution_count": null,
      "metadata": {
        "_cell_guid": "b5492ca4-fc19-e172-61a1-856723e03040",
        "_active": false
      },
      "outputs": [],
      "source": "df = pd.read_csv(\"../input/creditcard.csv\")",
      "execution_state": "idle"
    },
    {
      "cell_type": "code",
      "execution_count": null,
      "metadata": {
        "_cell_guid": "a0554e58-2049-d14f-5e4f-e0942a658ceb",
        "_active": false
      },
      "outputs": [],
      "source": "df['Class'].value_counts()",
      "execution_state": "idle"
    },
    {
      "cell_type": "code",
      "execution_count": null,
      "metadata": {
        "_cell_guid": "698821df-7463-cecd-aca8-3692d996f0a0",
        "_active": false
      },
      "outputs": [],
      "source": "df.describe()",
      "execution_state": "idle"
    },
    {
      "cell_type": "code",
      "execution_count": null,
      "metadata": {
        "_cell_guid": "bb63077f-9647-cbbc-e7f8-bad20e39780d",
        "_active": false
      },
      "outputs": [],
      "source": "import seaborn as sns\nimport matplotlib.pyplot as plt\n%matplotlib inline\n\n\n#df=df.drop(['Time','Amount'], axis=1)",
      "execution_state": "idle"
    },
    {
      "cell_type": "code",
      "execution_count": null,
      "metadata": {
        "_cell_guid": "f37e7cd5-ff10-9883-1893-f3790b2f7702",
        "_active": false
      },
      "outputs": [],
      "source": "X= df.drop(['Class'] , axis = 1)\nY= df.Class\nfrom sklearn.model_selection import train_test_split\nX_train, X_test,Y_train,Y_test = train_test_split(X,Y, test_size = 0.10, random_state=0)",
      "execution_state": "idle"
    },
    {
      "cell_type": "code",
      "execution_count": null,
      "metadata": {
        "_cell_guid": "f719edb8-f6fe-bb44-8d36-14816cb53156",
        "_active": false
      },
      "outputs": [],
      "source": "from sklearn.metrics import classification_report, roc_auc_score, roc_curve, auc\n\ndef roc_curve_acc(Y_test, Y_pred):\n    false_positive_rate, true_positive_rate, thresholds = roc_curve(Y_test, Y_pred)\n    roc_auc = auc(false_positive_rate, true_positive_rate)\n    \n    plt.title('Receiver Operating Characteristic')\n    plt.plot(false_positive_rate, true_positive_rate, 'b',label='AUC = %0.2f'% roc_auc)\n    plt.legend(loc='lower right')\n    plt.plot([0,1],[0,1],'r--')\n    plt.xlim([-0.1,1.2])\n    plt.ylim([-0.1,1.2])\n    plt.ylabel('True Positive Rate')\n    plt.xlabel('False Positive Rate')\n    plt.show()",
      "execution_state": "idle"
    },
    {
      "cell_type": "code",
      "execution_count": null,
      "metadata": {
        "_cell_guid": "3f4eccae-a723-ad6b-9e48-2b2618a45377",
        "_active": false
      },
      "outputs": [],
      "source": "from sklearn.ensemble import RandomForestClassifier\nfrom sklearn.naive_bayes import GaussianNB\nfrom sklearn.neighbors import KNeighborsClassifier\nfrom sklearn.tree import DecisionTreeClassifier, ExtraTreeClassifier\nfrom sklearn.svm import SVC",
      "execution_state": "idle"
    },
    {
      "cell_type": "code",
      "execution_count": null,
      "metadata": {
        "_cell_guid": "966105c6-8b4d-578f-51b5-5e50faf8a6d9",
        "_active": false
      },
      "outputs": [],
      "source": "RF=RandomForestClassifier()\nRF.fit(X_train, Y_train)\nY_pred=RF.predict(X_test)",
      "execution_state": "idle"
    },
    {
      "cell_type": "code",
      "execution_count": null,
      "metadata": {
        "_cell_guid": "410b67df-e273-a4bf-8003-c9a74fac2787",
        "_active": false
      },
      "outputs": [],
      "source": "print('roc_auc_score: %0.3f'% roc_auc_score(Y_pred,Y_test))",
      "execution_state": "idle"
    },
    {
      "cell_type": "code",
      "execution_count": null,
      "metadata": {
        "_cell_guid": "03d35aff-c998-f8c6-3038-664e49397bf6",
        "_active": false
      },
      "outputs": [],
      "source": "print(\"Random Forest Classifier report \\n\", classification_report(Y_pred,Y_test))\nprint('roc_auc_score: %0.3f'% roc_auc_score(Y_pred,Y_test))\nroc_curve_acc(Y_test, Y_pred)",
      "execution_state": "idle"
    },
    {
      "metadata": {
        "_cell_guid": "35c19941-6efc-792d-37eb-7cee1e4da3a6",
        "_active": true,
        "collapsed": false
      },
      "source": "\nimport pyttsx",
      "execution_count": null,
      "cell_type": "code",
      "outputs": [],
      "execution_state": "idle"
    }
  ]
}