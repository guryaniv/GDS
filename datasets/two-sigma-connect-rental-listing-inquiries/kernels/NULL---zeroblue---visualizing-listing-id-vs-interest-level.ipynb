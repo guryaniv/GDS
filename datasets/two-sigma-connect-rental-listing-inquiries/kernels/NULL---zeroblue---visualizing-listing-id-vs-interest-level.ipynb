{
  "cells": [
    {
      "cell_type": "markdown",
      "metadata": {
        "_cell_guid": "b6178aeb-45bc-17d7-b970-6d45c524d951"
      },
      "source": [
        "I've seen some discussion around the listing_id being a useful feature, so I've created this notebook to visualize the relationship."
      ]
    },
    {
      "cell_type": "code",
      "execution_count": null,
      "metadata": {
        "_cell_guid": "2c244962-d6c8-f6d2-5151-f948f7f987d9"
      },
      "outputs": [],
      "source": [
        "%matplotlib inline\n",
        "import matplotlib.pylab as plt\n",
        "import numpy as np\n",
        "import pandas as pd\n",
        "import seaborn as sns\n",
        "\n",
        "train = pd.read_json('../input/train.json')\n",
        "#train['listing_id'] -= train['listing_id'].min()\n",
        "\n",
        "order = ['low', 'medium', 'high']\n",
        "plt.figure(figsize=(8, 10))\n",
        "plt.title(\"Listing ID vs Interest Level\")\n",
        "sns.stripplot(train['interest_level'],train['listing_id'],jitter=True, order=order)\n",
        "plt.show()\n"
      ]
    },
    {
      "cell_type": "markdown",
      "metadata": {
        "_cell_guid": "3308cedf-e072-4e1f-892b-8bbfb2857a32"
      },
      "source": [
        "As we can see above, below a certain listing_id value, the interest drops off sharply, and very high listing_id values have no interest at all.\n",
        "\n",
        "Looking at this across time, we see data is even more interesting:"
      ]
    },
    {
      "cell_type": "code",
      "execution_count": null,
      "metadata": {
        "_cell_guid": "6abc1e1c-6c69-82ce-11f3-697519d1cbfe"
      },
      "outputs": [],
      "source": [
        "train['created'] = pd.to_datetime(train['created'])\n",
        "train['day_of_year'] = train['created'].dt.dayofyear\n",
        "\n",
        "plt.figure(figsize=(13,10))\n",
        "#plt.figure(figsize=(8, 10))\n",
        "#plt.title(\"Listing ID vs Interest Level\")\n",
        "train['week_of_year'] = train['day_of_year'] // 7\n",
        "sns.boxplot(train['week_of_year'], train['listing_id'], train['interest_level'], \n",
        "              hue_order=order)\n",
        "plt.show()"
      ]
    },
    {
      "cell_type": "markdown",
      "metadata": {
        "_cell_guid": "27341778-a9c2-9970-b4a8-b7b714dd8a67"
      },
      "source": [
        "I can't say for certain if this is a true leak, or some feature embedded in the listing_id values.  But it is very interesting. "
      ]
    }
  ],
  "metadata": {
    "_change_revision": 0,
    "_is_fork": false,
    "kernelspec": {
      "display_name": "Python 3",
      "language": "python",
      "name": "python3"
    },
    "language_info": {
      "codemirror_mode": {
        "name": "ipython",
        "version": 3
      },
      "file_extension": ".py",
      "mimetype": "text/x-python",
      "name": "python",
      "nbconvert_exporter": "python",
      "pygments_lexer": "ipython3",
      "version": "3.6.0"
    }
  },
  "nbformat": 4,
  "nbformat_minor": 0
}