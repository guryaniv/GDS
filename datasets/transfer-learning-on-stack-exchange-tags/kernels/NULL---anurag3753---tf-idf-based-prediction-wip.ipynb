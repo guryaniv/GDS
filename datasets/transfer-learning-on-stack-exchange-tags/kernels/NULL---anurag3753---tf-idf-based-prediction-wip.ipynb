{
  "cells": [
    {
      "cell_type": "markdown",
      "metadata": {
        "_cell_guid": "4004506d-c971-8849-c2fa-36b7dfa3067f"
      },
      "source": [
        "## We will use the tf-idf based scheme to find the top tags and recommend those to user questions"
      ]
    },
    {
      "cell_type": "code",
      "execution_count": null,
      "metadata": {
        "_cell_guid": "87f9c717-1235-23b0-5735-aa0069f61fe7"
      },
      "outputs": [],
      "source": [
        "import numpy as np \n",
        "import pandas as pd \n",
        "from bs4 import BeautifulSoup\n",
        "import re\n",
        "from nltk.corpus import stopwords\n",
        "from nltk import PorterStemmer\n",
        "from nltk.stem.snowball import SnowballStemmer\n",
        "\n",
        "## Loading the dataframes \n",
        "\n",
        "dataframes = {\n",
        "    \"cooking\": pd.read_csv(\"../input/cooking.csv\"),\n",
        "    \"crypto\": pd.read_csv(\"../input/crypto.csv\"),\n",
        "    \"robotics\": pd.read_csv(\"../input/robotics.csv\"),\n",
        "    \"biology\": pd.read_csv(\"../input/biology.csv\"),\n",
        "    \"travel\": pd.read_csv(\"../input/travel.csv\"),\n",
        "    \"diy\": pd.read_csv(\"../input/diy.csv\"),\n",
        "}\n",
        "\n",
        "\n",
        "\n",
        "# Input data files are available in the \"../input/\" directory.\n",
        "# For example, running this (by clicking run or pressing Shift+Enter) will list the files in the input directory\n",
        "\n",
        "#from subprocess import check_output\n",
        "#print(check_output([\"ls\", \"../input\"]).decode(\"utf8\"))\n",
        "\n",
        "# Any results you write to the current directory are saved as output."
      ]
    },
    {
      "cell_type": "code",
      "execution_count": null,
      "metadata": {
        "_cell_guid": "fc5e71bf-35a7-d57c-6032-4a67d659ee89"
      },
      "outputs": [],
      "source": [
        "print (dataframes[\"robotics\"].head())\n",
        "print (dataframes[\"robotics\"].shape)"
      ]
    },
    {
      "cell_type": "code",
      "execution_count": null,
      "metadata": {
        "_cell_guid": "ad0c87e1-9338-c38f-11ac-13cd7e80d6e4"
      },
      "outputs": [],
      "source": [
        "for df in dataframes.values():\n",
        "    print (df.shape)"
      ]
    },
    {
      "cell_type": "code",
      "execution_count": null,
      "metadata": {
        "_cell_guid": "ef4852b5-4527-17fb-ccc4-f2337dcef653"
      },
      "outputs": [],
      "source": [
        "print (dataframes[\"biology\"][\"content\"][3])"
      ]
    },
    {
      "cell_type": "code",
      "execution_count": null,
      "metadata": {
        "_cell_guid": "d1e789ad-cfd0-bb8f-98d8-c25c92f919cd"
      },
      "outputs": [],
      "source": [
        "def onlyPtags(data_to_clean):    \n",
        "        soup = BeautifulSoup(data_to_clean, 'html.parser')\n",
        "        only_p_data = ''\n",
        "        for data in soup.find_all('p'):\n",
        "            if data != None:\n",
        "                only_p_data = only_p_data + ' ' + str(data.text)        \n",
        "        return only_p_data\n",
        "   "
      ]
    },
    {
      "cell_type": "code",
      "execution_count": null,
      "metadata": {
        "_cell_guid": "7a17f2ff-a27b-2185-a9df-af733d97c7a1"
      },
      "outputs": [],
      "source": [
        "for df in dataframes.values():\n",
        "    df[\"content\"] = df[\"content\"].map(onlyPtags)"
      ]
    },
    {
      "cell_type": "code",
      "execution_count": null,
      "metadata": {
        "_cell_guid": "23a190a6-5f02-4b52-94e8-6e6b9aadc2bd"
      },
      "outputs": [],
      "source": [
        "def removePunctuation(only_p_data):\n",
        "    # Lowercasing all words\n",
        "    only_p_data = only_p_data.lower()\n",
        "    # Removing non ASCII chars\n",
        "    p = re.compile(r\"(\\b[-'.#+]\\b)|[\\W_]+\")\n",
        "    only_p_data = p.sub(lambda m: (m.group(1) if m.group(1) else \" \"), only_p_data)\n",
        "    # Removing (replacing with empty spaces actually) all the punctuations\n",
        "    only_p_data = re.sub('\\s[a-z]\\s', ' ', only_p_data)\n",
        "    only_p_data = re.sub('\\s[0-9]+\\s', ' ', only_p_data)\n",
        "    return only_p_data"
      ]
    },
    {
      "cell_type": "code",
      "execution_count": null,
      "metadata": {
        "_cell_guid": "9f7f0fb7-13de-f13b-9a2d-772e2a993e08"
      },
      "outputs": [],
      "source": [
        "for df in dataframes.values():\n",
        "    df[\"title\"] = df[\"title\"].map(removePunctuation)\n",
        "    df[\"content\"] = df[\"content\"].map(removePunctuation)"
      ]
    },
    {
      "cell_type": "code",
      "execution_count": null,
      "metadata": {
        "_cell_guid": "e31fe590-1f7e-7d22-e81a-54a79caa1706"
      },
      "outputs": [],
      "source": [
        "print (dataframes[\"biology\"]['content'][3])"
      ]
    },
    {
      "cell_type": "code",
      "execution_count": null,
      "metadata": {
        "_cell_guid": "a5b0f9c5-f2d4-a6ba-c011-e827c234c752"
      },
      "outputs": [],
      "source": [
        "print (dataframes[\"biology\"]['content'][3])"
      ]
    },
    {
      "cell_type": "code",
      "execution_count": null,
      "metadata": {
        "_cell_guid": "bf05c806-fd74-f0d1-7226-c354f085483c"
      },
      "outputs": [],
      "source": [
        "print (dataframes[\"biology\"]['content'][3])"
      ]
    },
    {
      "cell_type": "code",
      "execution_count": null,
      "metadata": {
        "_cell_guid": "c27228a8-1244-4392-cf8a-dfbef5f70130"
      },
      "outputs": [],
      "source": [
        "p = re.compile(r\"(\\b[-']\\b)|[\\W_]\")\n",
        "test_str = \"No -  d'Ante compactified on a calabi-yau threefold @ ,.\"\n",
        "result = p.sub(lambda m: (m.group(1) if m.group(1) else \" \"), test_str)\n",
        "print(result)"
      ]
    },
    {
      "cell_type": "code",
      "execution_count": null,
      "metadata": {
        "_cell_guid": "14eff3e8-7bcf-8e19-335c-afb81e3a3afb"
      },
      "outputs": [],
      "source": [
        "p = re.compile(r\"(\\b[-']\\b)|[\\W_]+\") \n",
        "test_str = \"No -  d'Ante compactified on a calabi-yau threefold @ ,.\"\n",
        "result = p.sub(lambda m: (m.group(1) if m.group(1) else \" \"), test_str)\n",
        "print(result)"
      ]
    },
    {
      "cell_type": "code",
      "execution_count": null,
      "metadata": {
        "_cell_guid": "faf37d64-c0ce-d76f-0bad-b9330ca19bb8"
      },
      "outputs": [],
      "source": ""
    }
  ],
  "metadata": {
    "_change_revision": 0,
    "_is_fork": false,
    "kernelspec": {
      "display_name": "Python 3",
      "language": "python",
      "name": "python3"
    },
    "language_info": {
      "codemirror_mode": {
        "name": "ipython",
        "version": 3
      },
      "file_extension": ".py",
      "mimetype": "text/x-python",
      "name": "python",
      "nbconvert_exporter": "python",
      "pygments_lexer": "ipython3",
      "version": "3.6.0"
    }
  },
  "nbformat": 4,
  "nbformat_minor": 0
}