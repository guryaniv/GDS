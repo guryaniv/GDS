{
  "metadata": {
    "kernelspec": {
      "display_name": "Python 3",
      "language": "python",
      "name": "python3"
    },
    "language_info": {
      "codemirror_mode": {
        "name": "ipython",
        "version": 3
      },
      "file_extension": ".py",
      "mimetype": "text/x-python",
      "name": "python",
      "nbconvert_exporter": "python",
      "pygments_lexer": "ipython3",
      "version": "3.6.0"
    }
  },
  "nbformat": 4,
  "nbformat_minor": 0,
  "cells": [
    {
      "cell_type": "markdown",
      "metadata": {
        "_cell_guid": "d4cfaffb-92b4-4642-28a5-e2a7256fd860"
      },
      "source": "If labels are engines and the binary columns are tests on those engines... Then we are just creating a 'autocorrelation'  effect ?\n---\nsuppose the codes are the 'engines types Diesel-Gas', 'the shiftgearbox types Automatic 9G 7G', 'and the binary columns are emission test CO, NO, CH\nThen automatically all the tests using the label data are autocorrelating ?\n\n__________\n**\n\ncorr = 0.6\n----------\n\n**\n_________",
      "execution_count": null,
      "outputs": [],
      "execution_state": "idle"
    },
    {
      "cell_type": "code",
      "execution_count": null,
      "metadata": {
        "_cell_guid": "23de1c4e-fabe-ae8e-e1eb-27a175413b00"
      },
      "outputs": [],
      "source": "#Lasso\nimport numpy as np # linear algebra\nimport pandas as pd # data processing, CSV file I/O (e.g. pd.read_csv)\nfrom sklearn.preprocessing import LabelEncoder\nfrom sklearn import linear_model\nimport matplotlib.pyplot as plt\nimport seaborn as sns\nimport matplotlib.cm as cm\n\n\n#open data\ntrain = pd.read_csv('../input/train.csv')\ntest = pd.read_csv('../input/test.csv')\n# y values drop 'y' splitsen,\ny_train = train['y']\nx_train=train.drop(['y'],axis=1)\n\n# concat everything, alles samenhangen\nx_tota=x_train.append(test)\n\n# drop ID since this can autocorrelate too... (although mercedes is making millions of cars a year, i don't think that 8000 is representative for their annualfleet) splitsen\nID_tota=x_tota['ID']\nx_tota=x_tota.drop(['ID'],axis=1)\nx_tota = x_tota.reset_index(drop=True)\nprint(x_tota.shape)\n\n#transform labels to values... waarden maken\nfor c in x_tota.columns:\n    if x_tota[c].dtype == 'object':\n        lbl = LabelEncoder() \n        lbl.fit(list(x_tota[c].values) ) \n        x_tota[c] = lbl.transform(list(x_tota[c].values))\nlabellist=['X0', 'X1', 'X2', 'X3', 'X4', 'X5', 'X6', 'X8']\n\n# seperate labellist\ny_=x_tota[labellist]\nx_=x_tota.drop(labellist,axis=1)\nprint(x_.shape)\n\n#do a regression\nreg = linear_model.Ridge (alpha = .5)\n#reg = linear_model.Lasso(alpha = 0.1)\nreg.fit(x_,y_)  \nprint('R2',reg.score(x_, y_))  #lasso 0.5\nresults=pd.DataFrame(reg.coef_)\nresulT=results.T\nresulT.columns=labellist\nprint(results)",
      "execution_state": "idle"
    },
    {
      "cell_type": "markdown",
      "metadata": {
        "_cell_guid": "2c275c93-195d-2b9c-3a94-6cf4f6840ae8"
      },
      "source": "do we uncorrelate the data with a PCA ? what do you think ?",
      "execution_count": null,
      "outputs": [],
      "execution_state": "idle"
    },
    {
      "cell_type": "markdown",
      "metadata": {
        "_cell_guid": "b1347644-e38a-173b-b4e7-c0202348e15c"
      },
      "source": "Some nearly constant columns\n---",
      "execution_count": null,
      "outputs": [],
      "execution_state": "idle"
    },
    {
      "cell_type": "code",
      "execution_count": null,
      "metadata": {
        "_cell_guid": "cc959dee-de2c-7522-e587-9f16144f869d"
      },
      "outputs": [],
      "source": "traind=train.describe()\ntraind=traind.drop('y',axis=1)\ntestd=test.describe()\n\ntotald=traind.append(testd)\ntotaldT=totald.T\ntotaldT=totaldT.drop(['count','std','min','25%','50%','75%','max'],axis=1)\ntotaldT.columns=['m1','m2']\n\ndef ratio(m1,m2):\n    if m2>0:\n        ratio=m1/m2\n    else:\n        ratio=0\n    return ratio\n\n\ntotaldT['mratio']=totaldT[['m1','m2']].apply(lambda x: ratio(*x), axis=1)\nprint(totaldT[totaldT['m1']>0.96])\nprint(totaldT[totaldT['m2']>0.96])\n\nprint(totaldT.sort_values(by='mratio'))",
      "execution_state": "idle"
    },
    {
      "cell_type": "code",
      "execution_count": null,
      "metadata": {
        "_cell_guid": "5efe46b7-0e8a-9cdf-69ff-0064e9e6631a",
        "collapsed": false
      },
      "outputs": [],
      "source": "usable_columns = list(set(train.columns) - set(['ID', 'y','X0', 'X6', 'X3', 'X4', 'X8', 'X2', 'keys', 'X5', 'X1']))\n\nvcovm=np.cov(train[usable_columns].T,train['y'].T)\nprint(vcovm)\ndf_vcm=pd.DataFrame(vcovm)\ndiagonalen=pd.DataFrame(np.diag(df_vcm))\ndiagonalen.columns=['dia']\nprint(diagonalen[diagonalen['dia']>5])\nprint(train[usable_columns].T.dot(train[usable_columns]))\n\n#covmx=np.cov(np.linalg.inv(train[usable_columns].T.dot(train[usable_columns])))\n#print(covmx)\n#diagxx=pd.DataFrame(np.diag(covmx))\n#print(diagxx)",
      "execution_state": "idle"
    }
  ]
}