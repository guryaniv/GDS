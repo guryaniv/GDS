{
  "cells": [
    {
      "cell_type": "markdown",
      "metadata": {
        "_cell_guid": "3dda7f8b-4378-7b36-eb2c-e0098cb5f754"
      },
      "source": [
        "### required packages"
      ]
    },
    {
      "cell_type": "code",
      "execution_count": null,
      "metadata": {
        "_cell_guid": "1bd46896-7b9c-413b-2362-e248583b8569"
      },
      "outputs": [],
      "source": [
        "%matplotlib inline\n",
        "import numpy as np\n",
        "import pandas as pd\n",
        "from subprocess import check_output\n",
        "from glob import glob\n",
        "from scipy import stats\n",
        "import matplotlib.pyplot as plt\n",
        "import cv2\n",
        "import os "
      ]
    },
    {
      "cell_type": "markdown",
      "metadata": {
        "_cell_guid": "19102c04-c044-2172-7be8-1eb1672f1845"
      },
      "source": [
        "### File Location"
      ]
    },
    {
      "cell_type": "code",
      "execution_count": null,
      "metadata": {
        "_cell_guid": "ece775cf-6ef5-a391-484c-89b7b30980c6"
      },
      "outputs": [],
      "source": [
        "df = pd.read_csv(\"../input/Train/train.csv\")\n",
        "current_TD_dir=\"../input/TrainDotted/{}.jpg\"\n",
        "current_T_dir=\"../input/Train/{}.jpg\""
      ]
    },
    {
      "cell_type": "markdown",
      "metadata": {
        "_cell_guid": "6c9f7573-11ac-2fcd-b518-1fa58d67a679"
      },
      "source": [
        "If you wanna use this script, you need to set the directory location."
      ]
    },
    {
      "cell_type": "code",
      "execution_count": null,
      "metadata": {
        "_cell_guid": "baebf10c-c2bc-79eb-cdc5-3542db64bd25"
      },
      "outputs": [],
      "source": [
        "'''\n",
        "boundaries[0] : red / adult_males\n",
        "boundaries[1] : mageneta / subadult_males\n",
        "boundaries[2] : brown / adult_females\n",
        "boundaries[3] : blue / juveniles\n",
        "boundaries[4] : green / pups\n",
        "'''\n",
        "boundaries = [\n",
        "    ('adult_males'   , [210, 0, 0],   [255, 40,  20]),\n",
        "    ('subadult_males', [220, 0, 210], [255, 30, 255]),\n",
        "    ('adult_females' , [70, 30, 0],   [100, 60,  30]),\n",
        "    ('juveniles'     , [10, 30, 140], [40,  70, 190]),\n",
        "    ('pups'          , [20,150,10],   [60, 190,  60]),\n",
        "]"
      ]
    },
    {
      "cell_type": "markdown",
      "metadata": {
        "_cell_guid": "ba5bfa2e-eb8d-7bb6-0bb7-bc734762cb2d"
      },
      "source": [
        "### color mask range"
      ]
    },
    {
      "cell_type": "code",
      "execution_count": null,
      "metadata": {
        "_cell_guid": "a8c6df7a-9470-c75b-21a2-3df834e62634"
      },
      "outputs": [],
      "source": [
        "dotted_im = cv2.cvtColor(cv2.imread(current_TD_dir.format(3)),cv2.COLOR_BGR2RGB)\n",
        "raw_im    = cv2.cvtColor(cv2.imread(current_TD_dir.format(3)),cv2.COLOR_BGR2RGB)\n",
        "\n",
        "fig = plt.figure(figsize=(8,6))\n",
        "\n",
        "ax = fig.add_subplot(2,2,1)\n",
        "plt.imshow(dotted_im)\n",
        "plt.title(\"TrainDotted image\")\n",
        "\n",
        "ax = fig.add_subplot(2,2,2)\n",
        "plt.imshow(raw_im)\n",
        "plt.title(\"Raw image\")\n",
        "\n",
        "ax = fig.add_subplot(2,2,3)\n",
        "diff = cv2.absdiff(dotted_im,raw_im)\n",
        "plt.imshow(diff)\n",
        "plt.title(\"TrainDotted - Raw image\")\n",
        "\n",
        "ax = fig.add_subplot(2,2,4)\n",
        "gray = cv2.cvtColor(diff,cv2.COLOR_RGB2GRAY)\n",
        "plt.imshow(gray)\n",
        "plt.title(\"TraninDotted - Raw gray image\")"
      ]
    },
    {
      "cell_type": "markdown",
      "metadata": {
        "_cell_guid": "0964e9d3-676e-59cd-89e9-ba8c16956e06"
      },
      "source": [
        "Each type of sea lion are distinguished by color. \n",
        "\n",
        "Each color is categorized and stored in the `boundaries` variable. \n",
        "\n",
        "This will be used later to find the color point."
      ]
    },
    {
      "cell_type": "markdown",
      "metadata": {
        "_cell_guid": "c2f82742-7a4a-4c20-e591-2e61602f6413"
      },
      "source": [
        "## Key Problem "
      ]
    },
    {
      "cell_type": "code",
      "execution_count": null,
      "metadata": {
        "_cell_guid": "63462cf6-00ce-25be-3911-c9730f243917"
      },
      "outputs": [],
      "source": [
        "def check_count(num,boundaries=boundaries,TrainDotted_dir=current_TD_dir,Train_dir=current_T_dir):\n",
        "    '''\n",
        "    This function is designed to count the number of points by color\n",
        "    \n",
        "    num        : image file number\n",
        "    boundaries : color range\n",
        "    TrainDotted_dir : TrainDotted image in directory\n",
        "    Train_dir : Train image in directory\n",
        "    '''\n",
        "    dotted_file = TrainDotted_dir.format(num)\n",
        "    raw_file    = Train_dir.format(num)\n",
        "    \n",
        "    dotted_im = cv2.cvtColor(cv2.imread(dotted_file),cv2.COLOR_BGR2RGB)\n",
        "    raw_im    = cv2.cvtColor(cv2.imread(raw_file),cv2.COLOR_BGR2RGB)\n",
        "    \n",
        "    diff = cv2.absdiff(dotted_im,raw_im)\n",
        "    \n",
        "    lower_bound = np.array([3,   3,  3], dtype=\"uint8\")\n",
        "    upper_bound = np.array([255, 255, 255], dtype=\"uint8\")\n",
        "    \n",
        "    mask = cv2.inRange(diff,lower_bound,upper_bound)    \n",
        "    point_im  = cv2.bitwise_and(dotted_im,dotted_im,mask = mask)\n",
        "    \n",
        "    for boundary in boundaries :\n",
        "        lower_color = np.array(boundary[1],dtype=\"uint8\")\n",
        "        upper_color = np.array(boundary[2],dtype=\"uint8\")\n",
        "        \n",
        "        mask = cv2.inRange(point_im,lower_color,upper_color)\n",
        "        res  = cv2.bitwise_and(point_im,dotted_im,mask = mask)\n",
        "        \n",
        "        gray = cv2.cvtColor(res,cv2.COLOR_RGB2GRAY)\n",
        "        cnts = cv2.findContours(gray, cv2.RETR_EXTERNAL,cv2.CHAIN_APPROX_SIMPLE)[-2]\n",
        "        \n",
        "        count = 0\n",
        "        for cnt in cnts:\n",
        "            ((_, _), r) = cv2.minEnclosingCircle(cnt)\n",
        "            if r>=1.5 and r<4:\n",
        "                count = count + 1\n",
        "        \n",
        "        print(\"{} Provided: {}, this function Found: {}\".format(boundary[0],df.iloc[num][boundary[0]],count)) "
      ]
    },
    {
      "cell_type": "markdown",
      "metadata": {
        "_cell_guid": "dbb746e8-7c44-91c4-8522-c38a58f8d75e"
      },
      "source": [
        "There are two problems when you simply remove two images.\n",
        "\n",
        "    1) color of the point subtracted may be different from the actual color.\n",
        "\n",
        "    2) Black areas in traindotted image is contained\n",
        "    \n",
        "To solve this problem, we decided to use `inRange` & `bitwise_and`  in the cv2 library"
      ]
    },
    {
      "cell_type": "code",
      "execution_count": null,
      "metadata": {
        "_cell_guid": "94625ba2-7b06-962d-d2d8-253a9adba5d2"
      },
      "outputs": [],
      "source": [
        "for i in range(0,10):\n",
        "    check_count(i)\n",
        "    print(\"\\n\")"
      ]
    },
    {
      "cell_type": "code",
      "execution_count": null,
      "metadata": {
        "_cell_guid": "2bad1548-7633-e848-1bdc-dc5f46e829a3"
      },
      "outputs": [],
      "source": [
        "def check_series(num,boundaries=boundaries,TrainDotted_dir=current_TD_dir,Train_dir=current_T_dir):\n",
        "    '''\n",
        "    This function is designed to return the number of point per color.\n",
        "    '''\n",
        "    dotted_file = TrainDotted_dir.format(num)\n",
        "    raw_file    = Train_dir.format(num)\n",
        "    \n",
        "    dotted_im = cv2.cvtColor(cv2.imread(dotted_file),cv2.COLOR_BGR2RGB)\n",
        "    raw_im    = cv2.cvtColor(cv2.imread(raw_file),cv2.COLOR_BGR2RGB)\n",
        "    \n",
        "    diff = cv2.absdiff(dotted_im,raw_im)\n",
        "    \n",
        "    lower_bound = np.array([3,   3,  3], dtype=\"uint8\")\n",
        "    upper_bound = np.array([255, 255, 255], dtype=\"uint8\")\n",
        "    \n",
        "    mask = cv2.inRange(diff,lower_bound,upper_bound)    \n",
        "    point_im  = cv2.bitwise_and(dotted_im,dotted_im,mask = mask)\n",
        "    \n",
        "    temp = {}\n",
        "    for boundary in boundaries :\n",
        "        lower_color = np.array(boundary[1],dtype=\"uint8\")\n",
        "        upper_color = np.array(boundary[2],dtype=\"uint8\")\n",
        "        \n",
        "        mask = cv2.inRange(point_im,lower_color,upper_color)\n",
        "        res  = cv2.bitwise_and(point_im,dotted_im,mask = mask)\n",
        "        \n",
        "        gray = cv2.cvtColor(res,cv2.COLOR_RGB2GRAY)\n",
        "        cnts = cv2.findContours(gray, cv2.RETR_EXTERNAL,cv2.CHAIN_APPROX_SIMPLE)[-2]\n",
        "        \n",
        "        count = 0\n",
        "        for cnt in cnts:\n",
        "            ((_, _), r) = cv2.minEnclosingCircle(cnt)\n",
        "            if r>=1.5 and r<4:\n",
        "                count = count + 1\n",
        "        \n",
        "        temp[boundary[0]] = count\n",
        "    \n",
        "    result = pd.Series(temp,dtype=np.int64)\n",
        "    result.name = num\n",
        "    \n",
        "    return result"
      ]
    },
    {
      "cell_type": "code",
      "execution_count": null,
      "metadata": {
        "_cell_guid": "2f3994f7-e7aa-e915-dc2e-28f90ee734bf"
      },
      "outputs": [],
      "source": [
        "# Check accuracy of finding dotted function with DataFrame\n",
        "result_dot = pd.DataFrame(columns = ['adult_males','subadult_males','adult_females','juveniles','pups'])\n",
        "for i in range(0,10):\n",
        "    result_dot = result_dot.append(check_series(i))\n",
        "\n",
        "# Percentage of Error (number of provided dot) - (found dot) < = 1\n",
        "(np.sum(result_dot - df[0:10] <= 1) / len(result_dot) * 100)[0:5]"
      ]
    },
    {
      "cell_type": "markdown",
      "metadata": {
        "_cell_guid": "0639c210-8d63-9eb7-f212-dd0df7fca151"
      },
      "source": [
        "In the above result, \n",
        "\n",
        "10 of test_Set are selected and the probability of matching the number is calculated.\n",
        "\n",
        "Since only the exact number of matches is used as a criterion,\n",
        "\n",
        "The actual accuracy is higher."
      ]
    },
    {
      "cell_type": "code",
      "execution_count": null,
      "metadata": {
        "_cell_guid": "db0d3144-c7a0-4cf9-2fb4-749aef14ca0b"
      },
      "outputs": [],
      "source": [
        "def find_point(num,type_lion,boundaries=boundaries,TrainDotted_dir=current_TD_dir,Train_dir=current_T_dir):\n",
        "    '''\n",
        "    This function is designed to return the center of points by color\n",
        "    \n",
        "    num        : image file number\n",
        "    \n",
        "    type_lion  : \n",
        "        0 - red / adult_males\n",
        "        1 - mageneta / subadult_males\n",
        "        2 - brown / adult_females\n",
        "        3 - blue / juveniles\n",
        "        4 - green / pups\n",
        "    \n",
        "    boundaries : color range\n",
        "    TrainDotted_dir : TrainDotted image in directory\n",
        "    Train_dir : Train image in directory\n",
        "    '''\n",
        "    dotted_file = TrainDotted_dir.format(num)\n",
        "    raw_file    = Train_dir.format(num)\n",
        "    \n",
        "    dotted_im = cv2.cvtColor(cv2.imread(dotted_file),cv2.COLOR_BGR2RGB)\n",
        "    raw_im    = cv2.cvtColor(cv2.imread(raw_file),cv2.COLOR_BGR2RGB)\n",
        "    \n",
        "    diff = cv2.absdiff(dotted_im,raw_im)\n",
        "    \n",
        "    lower_bound = np.array([3,   3,  3], dtype=\"uint8\")\n",
        "    upper_bound = np.array([255, 255, 255], dtype=\"uint8\")\n",
        "    \n",
        "    mask = cv2.inRange(diff,lower_bound,upper_bound)    \n",
        "    point_im  = cv2.bitwise_and(dotted_im,dotted_im,mask = mask)\n",
        "    \n",
        "    boundary = boundaries[type_lion]\n",
        "    \n",
        "    lower_color = np.array(boundary[1],dtype=\"uint8\")\n",
        "    upper_color = np.array(boundary[2],dtype=\"uint8\")\n",
        "\n",
        "    mask = cv2.inRange(point_im,lower_color,upper_color)\n",
        "    res  = cv2.bitwise_and(point_im,dotted_im,mask = mask)\n",
        "\n",
        "    gray = cv2.cvtColor(res,cv2.COLOR_RGB2GRAY)\n",
        "    cnts = cv2.findContours(gray, cv2.RETR_EXTERNAL,cv2.CHAIN_APPROX_SIMPLE)[-2]\n",
        "    \n",
        "    result = []\n",
        "    for cnt in cnts:\n",
        "        ( (cx, cy), r) = cv2.minEnclosingCircle(cnt)\n",
        "        if r>=1.5 and r<4:\n",
        "            result.append((int(cx),int(cy)))\n",
        "    \n",
        "    return np.array(result)"
      ]
    },
    {
      "cell_type": "code",
      "execution_count": null,
      "metadata": {
        "_cell_guid": "b7993ff5-a2f0-2eb0-7d71-3e273ee9b65d"
      },
      "outputs": [],
      "source": [
        "# Visualize the location of points (by classes) \n",
        "def check_img(img_num,type_num,current_TD_dir = current_TD_dir):\n",
        "\n",
        "    example_im = cv2.cvtColor(cv2.imread(current_TD_dir.format(img_num)),cv2.COLOR_BGR2RGB)\n",
        "    example_point = find_point(img_num,type_num)\n",
        "    \n",
        "    length_point = len(example_point)\n",
        "    \n",
        "    fig = plt.figure(figsize=(12,length_point*2))\n",
        "\n",
        "    for i in range(1,length_point+1):\n",
        "        ax = plt.subplot(length_point,3,i)\n",
        "        example_target = example_im[example_point[i-1][1]-30:example_point[i-1][1]+30,example_point[i-1][0]-30:example_point[i-1][0]+30]\n",
        "        plt.imshow(example_target,aspect='auto')\n",
        "        plt.axis(\"off\")"
      ]
    },
    {
      "cell_type": "code",
      "execution_count": null,
      "metadata": {
        "_cell_guid": "f827d39c-2969-9254-c3e5-548a7c2ac325"
      },
      "outputs": [],
      "source": [
        "check_img(4,2)"
      ]
    }
  ],
  "metadata": {
    "_change_revision": 0,
    "_is_fork": false,
    "kernelspec": {
      "display_name": "Python 3",
      "language": "python",
      "name": "python3"
    },
    "language_info": {
      "codemirror_mode": {
        "name": "ipython",
        "version": 3
      },
      "file_extension": ".py",
      "mimetype": "text/x-python",
      "name": "python",
      "nbconvert_exporter": "python",
      "pygments_lexer": "ipython3",
      "version": "3.6.0"
    }
  },
  "nbformat": 4,
  "nbformat_minor": 0
}