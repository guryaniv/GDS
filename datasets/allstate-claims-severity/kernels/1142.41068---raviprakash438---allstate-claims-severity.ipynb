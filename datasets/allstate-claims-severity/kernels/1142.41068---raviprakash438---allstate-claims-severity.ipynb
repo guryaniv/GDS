{
 "cells": [
  {
   "cell_type": "code",
   "execution_count": 72,
   "metadata": {
    "_cell_guid": "b1076dfc-b9ad-4769-8c92-a6c4dae69d19",
    "_uuid": "8f2839f25d086af736a60e9eeb907d3b93b6e0e5"
   },
   "outputs": [],
   "source": [
    "import numpy as np # linear algebra\n",
    "import pandas as pd # data processing, CSV file I/O (e.g. pd.read_csv)\n",
    "import collections\n",
    "import matplotlib.pyplot as plt\n",
    "import seaborn as sns\n",
    "%matplotlib inline\n",
    "from sklearn.feature_selection import VarianceThreshold,SelectFromModel\n",
    "from sklearn.preprocessing import StandardScaler,RobustScaler\n",
    "from sklearn.linear_model import LinearRegression\n",
    "from sklearn.ensemble import RandomForestRegressor\n",
    "from sklearn import cross_validation\n",
    "from sklearn.model_selection import cross_val_score\n",
    "from sklearn.model_selection import train_test_split\n",
    "from sklearn.metrics import mean_absolute_error\n",
    "# Input data files are available in the \"../input/\" directory.\n",
    "# For example, running this (by clicking run or pressing Shift+Enter) will list the files in the input directory\n",
    "\n",
    "import os\n",
    "print(os.listdir(\"../input\"))\n",
    "\n",
    "# Any results you write to the current directory are saved as output."
   ]
  },
  {
   "cell_type": "code",
   "execution_count": 52,
   "metadata": {
    "_cell_guid": "79c7e3d0-c299-4dcb-8224-4455121ee9b0",
    "_uuid": "d629ff2d2480ee46fbb7e2d37f6b5fab8052498a"
   },
   "outputs": [],
   "source": [
    "df=pd.read_csv('../input/train.csv')\n",
    "testdf=pd.read_csv('../input/test.csv')\n",
    "print('-------Training data info------------>')\n",
    "print(df.info())\n",
    "print('-------Testing data info------------>')\n",
    "print(testdf.info())"
   ]
  },
  {
   "cell_type": "code",
   "execution_count": 56,
   "metadata": {
    "_uuid": "d9664059fde1afa53d8d7cd03020ebf474e3afe8"
   },
   "outputs": [],
   "source": [
    "#lets get all the numerical features.\n",
    "numCols=df.select_dtypes(include=['float64']).columns #Getting the column name of type float64\n",
    "numdata=df[numCols].copy()\n",
    "dataCorr=numdata.corr()\n",
    "\n",
    "plt.figure(figsize=(20,8))\n",
    "sns.heatmap(dataCorr,annot=True)\n",
    "plt.show()"
   ]
  },
  {
   "cell_type": "code",
   "execution_count": 58,
   "metadata": {
    "_uuid": "732b72d636c966444f51160c48615a10ce0cbcf2"
   },
   "outputs": [],
   "source": [
    "#Lets find out the features where correlation is geater than 0.75.\n",
    "col_corr=set()\n",
    "for i in range(len(dataCorr.columns)):\n",
    "    for j in range(i):\n",
    "        if abs(dataCorr.iloc[i,j])>.75:\n",
    "            col_corr.add(dataCorr.columns[i])\n",
    "print(col_corr) "
   ]
  },
  {
   "cell_type": "code",
   "execution_count": 29,
   "metadata": {
    "_uuid": "f9119e53d0f461443a2e18a5b26c9565fb0dc43d",
    "collapsed": true
   },
   "outputs": [],
   "source": [
    "#len(df)\n",
    "#plt.figure(figsize=(20,6))\n",
    "#plt.hist(df.loss,bins=100)\n",
    "#plt.xlim(df.loss.min())\n",
    "#plt.show()"
   ]
  },
  {
   "cell_type": "code",
   "execution_count": 30,
   "metadata": {
    "_uuid": "8eb0b3c5d233f87edfa488acb19d37b1656a008a",
    "collapsed": true
   },
   "outputs": [],
   "source": [
    "#[col for col in df.columns if df[col].isnull().sum()>0]\n",
    "print(df.isnull().sum().max())\n",
    "print(testdf.isnull().sum().max())"
   ]
  },
  {
   "cell_type": "code",
   "execution_count": 59,
   "metadata": {
    "_uuid": "223a50c17cd2f35d2a8a12dbeb047a3a68fc1ce7"
   },
   "outputs": [],
   "source": [
    "#vt=VarianceThreshold(threshold=0)\n",
    "#vt.fit(df)\n",
    "colNames=df.select_dtypes(include='object').columns\n",
    "colNames"
   ]
  },
  {
   "cell_type": "code",
   "execution_count": 60,
   "metadata": {
    "_uuid": "ca5a4af14376a58b968e9679f9edc2261516a17e",
    "collapsed": true
   },
   "outputs": [],
   "source": [
    "df=pd.get_dummies(df,columns=colNames,drop_first=True)\n",
    "testdf=pd.get_dummies(testdf,columns=colNames,drop_first=True)"
   ]
  },
  {
   "cell_type": "code",
   "execution_count": 61,
   "metadata": {
    "_uuid": "ac9cec67ad5df2bd8a617dbd4eb499cc8004964f"
   },
   "outputs": [],
   "source": [
    "print('-------Training data info------------>')\n",
    "print(df.info())\n",
    "print('-------Testing data info------------>')\n",
    "print(testdf.info())"
   ]
  },
  {
   "cell_type": "code",
   "execution_count": 62,
   "metadata": {
    "_uuid": "5e67ee2863c8a3c247697caca04d07345e346436"
   },
   "outputs": [],
   "source": [
    "#After creating dummies variable for train and test data column numbers are not matching.\n",
    "#We need to remove the uncommon columns\n",
    "#Lets find out.\n",
    "trainCols=df.columns\n",
    "testCols=testdf.columns\n",
    "#find test columns not present in train data\n",
    "c1=[col for col in testCols if col not in trainCols]\n",
    "#find train columns not present in test data\n",
    "c2=[col for col in trainCols if col not in testCols]\n",
    "print('Number of columns not present in train data-->',len(c1))\n",
    "print('Number of columns not present in test data-->',len(c2))"
   ]
  },
  {
   "cell_type": "code",
   "execution_count": 63,
   "metadata": {
    "_uuid": "ab41e8bc9ee955a4fc283cf12c699e4825c463a6",
    "collapsed": true
   },
   "outputs": [],
   "source": [
    "y=df['loss']\n",
    "#Lets delete 37 columns from test data and 75 columns from train data\n",
    "testdf=testdf.drop(columns=c1, axis=1)\n",
    "df=df.drop(columns=c2,axis=1)"
   ]
  },
  {
   "cell_type": "code",
   "execution_count": 36,
   "metadata": {
    "_uuid": "c37e8094c1d95c3b6d8eb1f0ff576eb318f14618",
    "collapsed": true
   },
   "outputs": [],
   "source": [
    "print(testdf.shape)\n",
    "print(df.shape)"
   ]
  },
  {
   "cell_type": "code",
   "execution_count": 37,
   "metadata": {
    "_uuid": "e91cc1a887276895bb00e58f67551aa428f37004",
    "collapsed": true
   },
   "outputs": [],
   "source": [
    "#vt=VarianceThreshold(threshold=.01)\n",
    "#vt.fit(df)\n",
    "#print(collections.Counter(vt.get_support()))\n",
    "#print(collections.Counter(vt.fit(testdf).get_support()))\n",
    "\n",
    "#if there is no false it means there is no counstant features."
   ]
  },
  {
   "cell_type": "code",
   "execution_count": 66,
   "metadata": {
    "_uuid": "57022f77eb254fad417ef8f6efdd9e50adf50426"
   },
   "outputs": [],
   "source": [
    "#Dropping the highly correlated features from training data and test data.\n",
    "testdf=testdf.drop(list(col_corr)+['id'],axis=1)\n",
    "X=df.drop(list(col_corr)+['id'],axis=1)\n",
    "#y=df['loss']"
   ]
  },
  {
   "cell_type": "code",
   "execution_count": 68,
   "metadata": {
    "_uuid": "2554b07faa9adf45c92f8a4e56aa69758f64042e"
   },
   "outputs": [],
   "source": [
    "print(X.shape)\n",
    "print(testdf.shape)"
   ]
  },
  {
   "cell_type": "code",
   "execution_count": 70,
   "metadata": {
    "_uuid": "8e64971c52228b2092fb062a1fb0d358c423647d",
    "collapsed": true
   },
   "outputs": [],
   "source": [
    "#spliting data.\n",
    "X_train,X_test,y_train,y_test=train_test_split(X,y,test_size=.1,random_state=1)\n",
    "y_train=np.log1p(y_train)"
   ]
  },
  {
   "cell_type": "code",
   "execution_count": 71,
   "metadata": {
    "_uuid": "37b9d1a5b0c08c2ecbb81e07a714430daa552f6f"
   },
   "outputs": [],
   "source": [
    "ss=StandardScaler()\n",
    "ss.fit(X_train)"
   ]
  },
  {
   "cell_type": "code",
   "execution_count": 77,
   "metadata": {
    "_uuid": "656f8a755aa40f14446faf160317b7c7a82e01af"
   },
   "outputs": [],
   "source": [
    "#rb=RobustScaler(quantile_range=(5.0,80.0))\n",
    "#rb.fit(X_train)"
   ]
  },
  {
   "cell_type": "code",
   "execution_count": null,
   "metadata": {
    "_uuid": "9475d42c0c5c298aad59deb48bdf3138702026a2",
    "collapsed": true
   },
   "outputs": [],
   "source": [
    "#sfm=SelectFromModel(LinearRegression(),threshold='median')\n",
    "#sfm.fit(ss.transform(X_train),y_train)"
   ]
  },
  {
   "cell_type": "code",
   "execution_count": null,
   "metadata": {
    "_uuid": "c2687c04231741deafcf9c06781ceaadd28ed56a",
    "collapsed": true
   },
   "outputs": [],
   "source": [
    "#collections.Counter(sfm.get_support())\n",
    "#Selected features are 228"
   ]
  },
  {
   "cell_type": "code",
   "execution_count": null,
   "metadata": {
    "_uuid": "7da11e1e9ba268fabe489031c8aec3fe01d4a88e",
    "collapsed": true
   },
   "outputs": [],
   "source": [
    "#X_train_tran=sfm.transform(X_train)\n",
    "#X_test_tran=sfm.transform(X_test)\n",
    "#testdata_tran=sfm.transform(testdf)"
   ]
  },
  {
   "cell_type": "code",
   "execution_count": 79,
   "metadata": {
    "_uuid": "7b4cc1db07f3b767fc05d8e4c1a757d91f1cf16e"
   },
   "outputs": [],
   "source": [
    "from xgboost import XGBRegressor\n",
    "xg=XGBRegressor(n_estimators=1000,learning_rate=.1,n_jobs=-1)\n",
    "xg.fit(ss.transform(X_train),y_train)\n",
    "pred=xg.predict(ss.transform(X_test))\n",
    "print(mean_absolute_error(y_test,np.expm1(pred)))\n",
    "#mae 1164.0271622 highly correlated feature with each other ('cont10', 'cont11', 'cont6', 'cont9', 'cont13', 'cont12').\n",
    "#mae 1164.14458746 only with StandardScaler\n",
    "#mae 1164.64735593 with RobustScaler with quantile_range=(20.0, 80.0)\n",
    "#mae 1451.61430774 with 228 feature selection.\n",
    "#mae 1335.64901659 with 519 feature selection"
   ]
  },
  {
   "cell_type": "code",
   "execution_count": 80,
   "metadata": {
    "_uuid": "5983e1302b1ca1d265c9fed6feaec9be00dfafe3",
    "collapsed": true
   },
   "outputs": [],
   "source": [
    "testPredict=xg.predict(ss.transform(testdf))"
   ]
  },
  {
   "cell_type": "code",
   "execution_count": 81,
   "metadata": {
    "_uuid": "1a534b9d83ebfa03cab23fac0ddb3d4c9c24f784",
    "collapsed": true
   },
   "outputs": [],
   "source": [
    "sample=pd.read_csv('../input/sample_submission.csv')"
   ]
  },
  {
   "cell_type": "code",
   "execution_count": 82,
   "metadata": {
    "_uuid": "ae768ccca70a03fd241eaa81e26e0b6a9e28176d",
    "collapsed": true
   },
   "outputs": [],
   "source": [
    "sample['loss']=np.expm1(testPredict)"
   ]
  },
  {
   "cell_type": "code",
   "execution_count": 83,
   "metadata": {
    "_uuid": "a68413b1304b2166f1dedfc017de7641d6e27601"
   },
   "outputs": [],
   "source": [
    "sample.head()"
   ]
  },
  {
   "cell_type": "code",
   "execution_count": 84,
   "metadata": {
    "_uuid": "179e63e29ff40a680b4c0c84f164a5e321be5dc0",
    "collapsed": true
   },
   "outputs": [],
   "source": [
    "sample.to_csv('Submission.csv',index=False)"
   ]
  },
  {
   "cell_type": "code",
   "execution_count": null,
   "metadata": {
    "_uuid": "c60ab656df4aec058b4d332617106a9220019cb6",
    "collapsed": true
   },
   "outputs": [],
   "source": []
  }
 ],
 "metadata": {
  "kernelspec": {
   "display_name": "Python 3",
   "language": "python",
   "name": "python3"
  },
  "language_info": {
   "codemirror_mode": {
    "name": "ipython",
    "version": 3
   },
   "file_extension": ".py",
   "mimetype": "text/x-python",
   "name": "python",
   "nbconvert_exporter": "python",
   "pygments_lexer": "ipython3",
   "version": "3.7.1"
  }
 },
 "nbformat": 4,
 "nbformat_minor": 1
}
