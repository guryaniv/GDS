{
  "cells": [
    {
      "cell_type": "markdown",
      "metadata": {
        "_cell_guid": "de669afc-2171-6d21-c9fd-3682b631c0ec"
      },
      "source": [
        "Here we'll try to find the best decision tree for fraud detection."
      ]
    },
    {
      "cell_type": "code",
      "execution_count": null,
      "metadata": {
        "_cell_guid": "4ade96a9-ed57-7859-d0b1-f5826a0f4e71"
      },
      "outputs": [],
      "source": [
        "import numpy as np # linear algebra\n",
        "import pandas as pd # data processing, CSV file I/O (e.g. pd.read_csv)\n",
        "\n",
        "from subprocess import check_output\n",
        "print(check_output([\"ls\", \"../input\"]).decode(\"utf8\"))"
      ]
    },
    {
      "cell_type": "code",
      "execution_count": null,
      "metadata": {
        "_cell_guid": "3ccc0db0-7a22-67ad-2055-342d5d40d302"
      },
      "outputs": [],
      "source": [
        "df = pd.read_csv(\"../input/creditcard.csv\")\n",
        "# print(df.describe())\n",
        "print(df['Class'].value_counts())"
      ]
    },
    {
      "cell_type": "code",
      "execution_count": null,
      "metadata": {
        "_cell_guid": "ed1bc9f5-948d-edc4-4462-ee35fce57479"
      },
      "outputs": [],
      "source": [
        "y = df['Class']\n",
        "df = df.drop(\"Class\",axis=1)\n",
        "\n",
        "print(df.shape)\n",
        "print(df.columns)"
      ]
    },
    {
      "cell_type": "markdown",
      "metadata": {
        "_cell_guid": "ce070f8d-e38b-e388-bbb3-1fc0944b5ed3"
      },
      "source": [
        "Let us prepare training and test sets."
      ]
    },
    {
      "cell_type": "code",
      "execution_count": null,
      "metadata": {
        "_cell_guid": "90c2208e-65a4-6526-b326-cabd8edff711"
      },
      "outputs": [],
      "source": [
        "from sklearn.model_selection import train_test_split\n",
        "\n",
        "X_train, X_test, y_train, y_test = train_test_split(df, y, test_size=0.1, random_state=0)"
      ]
    },
    {
      "cell_type": "markdown",
      "metadata": {
        "_cell_guid": "a2b9b25d-12cb-1755-8387-416b5380b5a7"
      },
      "source": [
        "## Decision Tree"
      ]
    },
    {
      "cell_type": "markdown",
      "metadata": {
        "_cell_guid": "7699926f-ad29-9834-2bc3-429c780bd317"
      },
      "source": [
        "Let's begin with a simple base classifier: decision tree. Then we will move on with Random Forest :)."
      ]
    },
    {
      "cell_type": "code",
      "execution_count": null,
      "metadata": {
        "_cell_guid": "5eff4e8d-c12b-9cdd-77e5-7578c08b9835"
      },
      "outputs": [],
      "source": [
        "from sklearn.tree import DecisionTreeClassifier\n",
        "from sklearn.ensemble import RandomForestClassifier\n",
        "from sklearn.metrics import classification_report\n",
        "\n",
        "base_clf = DecisionTreeClassifier()"
      ]
    },
    {
      "cell_type": "markdown",
      "metadata": {
        "_cell_guid": "d18879ae-f408-2f55-2f84-f80fcf0ef1a9"
      },
      "source": [
        "We now try different depths for the decision tree to choose a good one."
      ]
    },
    {
      "cell_type": "code",
      "execution_count": null,
      "metadata": {
        "_cell_guid": "57590155-ca32-9279-6e25-416d5252102e"
      },
      "outputs": [],
      "source": [
        "from sklearn.model_selection import GridSearchCV\n",
        "tree_params = {'max_depth': np.arange(1, 11, 1)}\n",
        "gs_base = GridSearchCV(base_clf, tree_params, n_jobs=-1, verbose=1)"
      ]
    },
    {
      "cell_type": "code",
      "execution_count": null,
      "metadata": {
        "_cell_guid": "989c7214-98e9-dbaa-defa-29ce1ef24c68"
      },
      "outputs": [],
      "source": [
        "gs_base = gs_base.fit(X_train, y_train)\n",
        "base_pred = gs_base.predict(X_test)\n",
        "print(classification_report(base_pred, y_test))\n",
        "\n",
        "print('best depth of decision tree: %d' %gs_base.best_params_['max_depth'] )"
      ]
    },
    {
      "cell_type": "markdown",
      "metadata": {
        "_cell_guid": "cec4c3a9-eed9-f5d0-82cd-d40ca40eb1be"
      },
      "source": [
        "So the best decision tree has a depth of **5** levels and it can achieve f1-score of 0.84.\n",
        "Now we move on to random forests. "
      ]
    },
    {
      "cell_type": "markdown",
      "metadata": {
        "_cell_guid": "ab13f381-e551-4861-3031-eb15a8b515ff"
      },
      "source": [
        "### Random forest"
      ]
    },
    {
      "cell_type": "code",
      "execution_count": null,
      "metadata": {
        "_cell_guid": "a650d6e0-9bcc-fea8-9dce-ab9533e301ae"
      },
      "outputs": [],
      "source": [
        "rfc = RandomForestClassifier()\n",
        "rfc.fit(X_train,y_train)\n",
        "y_pred = rfc.predict(X_test) \n",
        "\n",
        "print(classification_report(y_pred,y_test))"
      ]
    },
    {
      "cell_type": "markdown",
      "metadata": {
        "_cell_guid": "ae3451c0-09e0-2d87-cf3e-522d2d13f3ea"
      },
      "source": [
        "Now we use **grid search** to explore which setting of random forest can give us the best result.\n",
        "\n",
        "As grid search may be expensive we run them in parallel by setting `n_jobs` parameters. \n",
        "If we set `n_jobs=-1`, grid search will detect how many cores are installed and uses them all."
      ]
    },
    {
      "cell_type": "code",
      "execution_count": null,
      "metadata": {
        "_cell_guid": "3ea221cd-d9f6-32eb-1303-55fc62fb6662"
      },
      "outputs": [],
      "source": [
        "\n",
        "rf_params = {'criterion': ('gini', 'entropy'), \n",
        "             'n_estimators': np.arange(5, 25, 5) } # 'max_depth': np.arange(1, 11, 1)\n",
        "gs_rfc = GridSearchCV(rfc, rf_params, n_jobs=-1, verbose=1)\n",
        "\n",
        "gs_rfc = gs_rfc.fit(X_train, y_train)\n",
        "gs_rfc_pred = gs_rfc.predict(X_test)\n",
        "print(classification_report(y_test, y_pred=gs_rfc_pred))\n",
        "\n",
        "for param_name in rf_params.keys():\n",
        "    print('%s %r' %(param_name, gs_rfc.best_params_[param_name]))"
      ]
    },
    {
      "cell_type": "markdown",
      "metadata": {
        "_cell_guid": "67bf4b4b-26ed-d2e0-3973-e4452746f194"
      },
      "source": [
        "From the result, we can see quite an improvement in precision of predicting frauds (an increase of **16%**). f1-score is also increased a bit (2% more). \n",
        "And the best setting is a random forest with: \n",
        "\n",
        " - **20** decision trees, \n",
        " - tree splitting is based on **gini** criterion."
      ]
    }
  ],
  "metadata": {
    "_change_revision": 0,
    "_is_fork": false,
    "kernelspec": {
      "display_name": "Python 3",
      "language": "python",
      "name": "python3"
    },
    "language_info": {
      "codemirror_mode": {
        "name": "ipython",
        "version": 3
      },
      "file_extension": ".py",
      "mimetype": "text/x-python",
      "name": "python",
      "nbconvert_exporter": "python",
      "pygments_lexer": "ipython3",
      "version": "3.5.2"
    }
  },
  "nbformat": 4,
  "nbformat_minor": 0
}