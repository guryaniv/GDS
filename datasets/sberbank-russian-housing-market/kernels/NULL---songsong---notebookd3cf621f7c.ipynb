{
  "metadata": {
    "kernelspec": {
      "display_name": "Python 3",
      "language": "python",
      "name": "python3"
    },
    "language_info": {
      "codemirror_mode": {
        "name": "ipython",
        "version": 3
      },
      "file_extension": ".py",
      "mimetype": "text/x-python",
      "name": "python",
      "nbconvert_exporter": "python",
      "pygments_lexer": "ipython3",
      "version": "3.6.0"
    }
  },
  "nbformat": 4,
  "nbformat_minor": 0,
  "cells": [
    {
      "metadata": {
        "_cell_guid": "c134171b-540f-ba3a-e7b3-5d6da9656bda",
        "_active": false,
        "collapsed": false
      },
      "source": null,
      "execution_count": null,
      "cell_type": "markdown",
      "outputs": [],
      "execution_state": "idle"
    },
    {
      "metadata": {
        "_cell_guid": "f3bb367d-cc70-427f-413d-8b6be513112f",
        "_active": false,
        "collapsed": false
      },
      "source": "# This Python 3 environment comes with many helpful analytics libraries installed\n# It is defined by the kaggle/python docker image: https://github.com/kaggle/docker-python\n# For example, here's several helpful packages to load in \n\nimport numpy as np # linear algebra\nimport pandas as pd # data processing, CSV file I/O (e.g. pd.read_csv)\n\n# Input data files are available in the \"../input/\" directory.\n# For example, running this (by clicking run or pressing Shift+Enter) will list the files in the input directory\n\nfrom subprocess import check_output\nprint(check_output([\"ls\", \"../input\"]).decode(\"utf8\"))\n\n# Any results you write to the current directory are saved as output.",
      "execution_count": null,
      "cell_type": "code",
      "outputs": [],
      "execution_state": "idle"
    },
    {
      "metadata": {
        "_cell_guid": "11481172-f369-ffa2-590c-8393128b27c5",
        "_active": false,
        "collapsed": false
      },
      "source": "# From Sijo VM: Initial exploration: naive XGB 0.32583 on LB\n# https://www.kaggle.com/sijovm/sberbank-russian-housing-market/initial-exploration-naive-xgb-0-32583-on-lb",
      "execution_count": null,
      "cell_type": "code",
      "outputs": [],
      "execution_state": "idle"
    },
    {
      "metadata": {
        "_cell_guid": "dc00ce06-5a43-4ca2-1c67-0e24aaf5df5b",
        "_active": false,
        "collapsed": false
      },
      "source": "import numpy as np\nimport pandas as pd\nimport matplotlib.pyplot as plt\nimport seaborn as sns\n%matplotlib inline\nfrom sklearn import model_selection, preprocessing\nimport xgboost as xgb\nimport datetime\n#now = datetime.datetime.now()\n\ntrain = pd.read_csv('../input/train.csv')\ntest = pd.read_csv('../input/test.csv')\nmacro = pd.read_csv('../input/macro.csv')\n\ntrain.sample(3)",
      "execution_count": null,
      "cell_type": "code",
      "outputs": [],
      "execution_state": "idle"
    },
    {
      "metadata": {
        "_cell_guid": "83a83797-b464-1254-86e9-a6152bdd6aa8",
        "_active": true,
        "collapsed": false
      },
      "source": "train.columns",
      "execution_count": null,
      "cell_type": "code",
      "outputs": [],
      "execution_state": "idle"
    },
    {
      "metadata": {
        "_cell_guid": "f08769bd-7be1-33df-4dda-52fbde3e1a38",
        "_active": false,
        "collapsed": false
      },
      "source": "train.shape",
      "execution_count": null,
      "cell_type": "code",
      "outputs": [],
      "execution_state": "idle"
    },
    {
      "metadata": {
        "_cell_guid": "7353a63a-f605-c0f2-93bb-52b35e590238",
        "_active": false,
        "collapsed": false
      },
      "source": "plt.figure(figsize=(10,8))\nsns.distplot(train.price_doc.values, bins=100, kde=True)\nplt.xlabel('Price', fontsize=12)\nplt.show()",
      "execution_count": null,
      "cell_type": "code",
      "outputs": [],
      "execution_state": "idle"
    },
    {
      "metadata": {
        "_cell_guid": "aa39e50e-d4c4-86b6-b22e-395fb0937d25",
        "_active": false,
        "collapsed": false
      },
      "source": "plt.figure(figsize=(10,8))\nsns.distplot(np.log(train.price_doc.values), bins=100, kde=True)\nplt.xlabel('Price', fontsize=12)\nplt.show()",
      "execution_count": null,
      "cell_type": "code",
      "outputs": [],
      "execution_state": "idle"
    },
    {
      "metadata": {
        "_cell_guid": "7538c1dc-56ea-0fdb-9d2f-c43254c366a9",
        "_active": false,
        "collapsed": false
      },
      "source": "def missing_plot(dataframe, figure_x, figure_y):\n    df = dataframe.isnull().sum().reset_index()\n    df.columns = ['column_name', 'na_count']\n    df = df[df.na_count > 0]\n    df = df.sort_values(by=['na_count'], ascending = [False])\n    plt.figure(figsize=(figure_x, figure_y))\n    sns.barplot(x=\"na_count\", y =\"column_name\",data = df, orient=\"h\")\n    plt.xlabel('Missing count', fontsize=12)\n    plt.show()\nmissing_plot(train, 10,45)\n",
      "execution_count": null,
      "cell_type": "code",
      "outputs": [],
      "execution_state": "idle"
    },
    {
      "metadata": {
        "_cell_guid": "1bfc0d64-a1f3-5917-b913-135391ae3e8a",
        "_active": false,
        "collapsed": false
      },
      "source": "def corr_plot(dataframe, top_n, target, fig_x, fig_y):\n    corrmat = dataframe.corr()\n    #top_n - top n correlations +1 since price is included\n    top_n = top_n + 1 \n    cols = corrmat.nlargest(top_n, target)[target].index\n    cm = np.corrcoef(train[cols].values.T)\n    f, ax = plt.subplots(figsize=(fig_x,fig_y))\n    sns.set(font_scale=1.25)\n    cmap = plt.cm.viridis\n    hm = sns.heatmap(cm, cbar=False, annot=True, square=True,cmap = cmap, fmt='.2f', annot_kws={'size': 10}, \n                 yticklabels=cols.values, xticklabels=cols.values)\n    plt.show()\n    return cols\ncorr_20 = corr_plot(train, 20, 'price_doc', 10,10)",
      "execution_count": null,
      "cell_type": "code",
      "outputs": [],
      "execution_state": "idle"
    },
    {
      "metadata": {
        "_cell_guid": "831d2efd-6910-9f6d-25f0-3dc1df79b3a2",
        "_active": false,
        "collapsed": false
      },
      "source": "corr_20.shape",
      "execution_count": null,
      "cell_type": "code",
      "outputs": [],
      "execution_state": "idle"
    },
    {
      "metadata": {
        "_cell_guid": "bfe43e2a-f349-87d4-7beb-e3c3351f8462",
        "_active": false,
        "collapsed": false
      },
      "source": "features_imp = list(corr_20[1:22])\ndata_train = train[features_imp]\ndata_test = test[features_imp]\ndata_train.head()",
      "execution_count": null,
      "cell_type": "code",
      "outputs": [],
      "execution_state": "idle"
    }
  ]
}