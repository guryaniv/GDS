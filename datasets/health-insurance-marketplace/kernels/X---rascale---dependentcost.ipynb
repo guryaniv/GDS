{"cells":[
 {
  "cell_type": "markdown",
  "metadata": {},
  "source": "Full disclosure: I'm not familiar enough with the health marketplace data to draw any conclusions from my analysis. I am interested in healthcare data in general and I decided to use this dataset as a way to learn more about using Python (I'm more comfortable in SAS and R). And away we go!\nFirst we'll import the appropriate libraries and import some data. I'm going to take a look at the rates file and will specifically be looking at just a few columns (State, IndividualRate, and PrimarySubscriberAndOneDependent).\n\n"
 },
 {
  "cell_type": "code",
  "execution_count": null,
  "metadata": {
   "collapsed": false
  },
  "outputs": [],
  "source": "import numpy as np \nimport pandas as pd \nimport seaborn as sns\nfrom  matplotlib import pyplot\n\nfields = ['StateCode','IndividualRate','PrimarySubscriberAndOneDependent','BusinessYear']\n\ncsv_chunks = pd.read_csv(\"../input/Rate.csv\",iterator=True,chunksize = 1000,usecols=fields)\nrates = pd.concat(chunk for chunk in csv_chunks)"
 },
 {
  "cell_type": "markdown",
  "metadata": {},
  "source": "Now that our data is loaded, I'll pair it down to 2016 and clear out the weird data (with rates over 9,000). Thankfully I've seen some notes from Ben and others pointing out this data, so I didn't have to find it myself. Also, I'm going to be comparing the individual rates vs. those with one dependent, so I'll filter out those with a null in the one dependent column. Then we'll take a quick look at the data."
 },
 {
  "cell_type": "code",
  "execution_count": null,
  "metadata": {
   "collapsed": false
  },
  "outputs": [],
  "source": "rates = rates[np.isfinite(rates['PrimarySubscriberAndOneDependent'])]\nrates = rates[rates.IndividualRate <9000]\nrates = rates[rates.BusinessYear == 2016]\n\nrates.head(n=5)\n"
 },
 {
  "cell_type": "code",
  "execution_count": null,
  "metadata": {
   "collapsed": false
  },
  "outputs": [],
  "source": "print(rates.describe())"
 },
 {
  "cell_type": "code",
  "execution_count": null,
  "metadata": {
   "collapsed": false
  },
  "outputs": [],
  "source": "import matplotlib.pyplot as plt\n\n##Individual histogram\nplt.hist(rates.IndividualRate.values)\n"
 },
 {
  "cell_type": "code",
  "execution_count": null,
  "metadata": {
   "collapsed": false
  },
  "outputs": [],
  "source": "##Remove records with 0 as PrimarySubscriberAndOneDependent\nrates = rates[rates.PrimarySubscriberAndOneDependent > 0]\n\n##OneDependent Histogram\nplt.hist(rates.PrimarySubscriberAndOneDependent.values)"
 },
 {
  "cell_type": "markdown",
  "metadata": {},
  "source": "Finally, I want to look at the data aggregated (I'll use median). Then I'd like to look at the ratio between the expense for One dependent vs. Individual."
 },
 {
  "cell_type": "code",
  "execution_count": null,
  "metadata": {
   "collapsed": false
  },
  "outputs": [],
  "source": "## Group data by state (using Median)\nrateMed = rates.groupby('StateCode', as_index=False).median()\ndel rateMed['BusinessYear']\n\n\n\n## JointPlot of grouped data\n\nplt = sns.jointplot(x=\"IndividualRate\", y=\"PrimarySubscriberAndOneDependent\", data=rateMed)\nsns.plt.show()"
 },
 {
  "cell_type": "code",
  "execution_count": null,
  "metadata": {
   "collapsed": false
  },
  "outputs": [],
  "source": "## Calculate the ratio\nrateMed['ratio'] = rateMed['PrimarySubscriberAndOneDependent']/rateMed['IndividualRate']\nrateMed.sort(['ratio'], ascending=[0])"
 },
 {
  "cell_type": "code",
  "execution_count": null,
  "metadata": {
   "collapsed": false
  },
  "outputs": [],
  "source": "plt = sns.barplot(rateMed.sort(['ratio'], ascending=[0]).StateCode, rateMed.ratio,palette=\"Blues\")\nsns.plt.show()"
 },
 {
  "cell_type": "markdown",
  "metadata": {},
  "source": "As the table and chart show, 7 states (UT, WV, TN, AK, IL, VA, and IN) appear charge more than 2X the individual rate for those with the subscriber and one dependent."
 }
],"metadata":{"kernelspec":{"display_name":"Python 3","language":"python","name":"python3"}}, "nbformat": 4, "nbformat_minor": 0}