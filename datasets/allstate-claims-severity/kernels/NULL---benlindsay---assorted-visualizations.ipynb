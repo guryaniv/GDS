{
  "cells": [
    {
      "cell_type": "code",
      "execution_count": null,
      "metadata": {
        "_cell_guid": "7f8ce916-4f35-839f-0a4c-62b43fd69466"
      },
      "outputs": [],
      "source": [
        "import numpy as np\n",
        "import pandas as pd\n",
        "import seaborn as sns\n",
        "import matplotlib.pyplot as plt\n",
        "from pandas.tools.plotting import scatter_matrix\n",
        "from subprocess import check_output\n",
        "print(check_output([\"ls\", \"../input\"]).decode(\"utf8\"))"
      ]
    },
    {
      "cell_type": "code",
      "execution_count": null,
      "metadata": {
        "_cell_guid": "9cd65623-531b-f039-3d01-9fa60e35ad07"
      },
      "outputs": [],
      "source": [
        "train_df = pd.read_csv('../input/train.csv')\n",
        "train_df.head(5)"
      ]
    },
    {
      "cell_type": "code",
      "execution_count": null,
      "metadata": {
        "_cell_guid": "6747e006-9259-120b-1fa4-2dc9ad465207"
      },
      "outputs": [],
      "source": [
        "train_df.describe()"
      ]
    },
    {
      "cell_type": "markdown",
      "metadata": {
        "_cell_guid": "650c7d67-991d-6cb5-78dd-c38ec6753f25"
      },
      "source": [
        "Any NaN values?"
      ]
    },
    {
      "cell_type": "markdown",
      "metadata": {
        "_cell_guid": "7d18f7dd-e1e9-f2b0-4d48-da017d61d9b0"
      },
      "source": [
        "**Looks like no NaN values**"
      ]
    },
    {
      "cell_type": "code",
      "execution_count": null,
      "metadata": {
        "_cell_guid": "3d4acec5-600d-30e2-c3e5-fb6e247e5f51"
      },
      "outputs": [],
      "source": [
        "print(train_df.isnull().sum().sum())"
      ]
    },
    {
      "cell_type": "markdown",
      "metadata": {
        "_cell_guid": "81074fe2-e7e6-d51f-961b-8344af94dc4c"
      },
      "source": [
        "**Quick look at loss distribution**"
      ]
    },
    {
      "cell_type": "code",
      "execution_count": null,
      "metadata": {
        "_cell_guid": "5a52572e-1cde-e47d-b6dd-037e4bf63c14"
      },
      "outputs": [],
      "source": [
        "sns.distplot(train_df['loss'], color = 'r', hist_kws={'alpha': 0.7}, kde = False)"
      ]
    },
    {
      "cell_type": "markdown",
      "metadata": {
        "_cell_guid": "ad4628e0-0efa-5d85-7624-ce2a55ac9d18"
      },
      "source": [
        "**Log loss looks like a much nicer distribution to work with**"
      ]
    },
    {
      "cell_type": "code",
      "execution_count": null,
      "metadata": {
        "_cell_guid": "561eb4c7-39df-b8fa-8c47-61c581e20bee"
      },
      "outputs": [],
      "source": [
        "sns.distplot(np.log(train_df['loss']), color = 'r', hist_kws={'alpha': 0.7}, kde = False)"
      ]
    },
    {
      "cell_type": "code",
      "execution_count": null,
      "metadata": {
        "_cell_guid": "756acb68-415f-b5e7-47cd-af247e4deeaa"
      },
      "outputs": [],
      "source": [
        "train_df['logloss'] = np.log(train_df['loss'])\n",
        "train_df.head()"
      ]
    },
    {
      "cell_type": "code",
      "execution_count": null,
      "metadata": {
        "_cell_guid": "2aef7aa4-0c04-8a10-bfe4-be559d357b20"
      },
      "outputs": [],
      "source": [
        "#train_df_cont = train_df.filter(regex='cont.*')\n",
        "train_df_cont = train_df.select_dtypes(include = ['float64'])\n",
        "train_df_cont.head(5)"
      ]
    },
    {
      "cell_type": "code",
      "execution_count": null,
      "metadata": {
        "_cell_guid": "f462fc73-2a6b-4ad6-aaba-b1207830d42b"
      },
      "outputs": [],
      "source": [
        "cols= train_df.select_dtypes(include = ['float64']).iloc[:, 1:].corr()\n",
        "plt.figure(figsize=(12, 12))\n",
        "sns.heatmap(cols, vmax=1)"
      ]
    },
    {
      "cell_type": "code",
      "execution_count": null,
      "metadata": {
        "_cell_guid": "ce3c975c-73e0-2938-26ba-f2e9c1d22e74"
      },
      "outputs": [],
      "source": [
        "features = list(train_df.columns)\n",
        "features.remove('id')\n",
        "features.remove('loss')\n",
        "cat_features = [x for x in features if x.find('cat') != -1]\n",
        "cont_features = [x for x in features if x.find('cont') != -1]\n",
        "correlationMatrix = train_df.copy()\n",
        "correlationMatrix.drop(cat_features+['id','loss'],inplace=True,axis=1)\n",
        "\n",
        "correlationMatrix = correlationMatrix.corr().abs()\n",
        "map = sns.clustermap(correlationMatrix,annot=True,annot_kws={\"size\": 10})\n",
        "sns.plt.setp(map.ax_heatmap.yaxis.get_majorticklabels(), rotation=0)\n",
        "sns.plt.show()"
      ]
    },
    {
      "cell_type": "code",
      "execution_count": null,
      "metadata": {
        "_cell_guid": "b29ad372-ad4a-12ad-d849-9c113bf5a247"
      },
      "outputs": [],
      "source": [
        ""
      ]
    },
    {
      "cell_type": "code",
      "execution_count": null,
      "metadata": {
        "_cell_guid": "c5e861d7-094e-03bf-c2c9-dbe85a91961a"
      },
      "outputs": [],
      "source": [
        "fig, axes = plt.subplots(4, 4, figsize=(12, 12))\n",
        "for i, ax in enumerate(axes.flatten()):\n",
        "    if i==14: break\n",
        "    sns.kdeplot(train_df['cont' + str(i+1)], ax=ax)"
      ]
    },
    {
      "cell_type": "code",
      "execution_count": null,
      "metadata": {
        "_cell_guid": "14e8ea6e-3beb-c5da-f104-700fd858bc67"
      },
      "outputs": [],
      "source": [
        "for col in train_df.columns:\n",
        "    print(col + ': ' + str(len(train_df[col].unique())))"
      ]
    },
    {
      "cell_type": "code",
      "execution_count": null,
      "metadata": {
        "_cell_guid": "79e1e979-a6d5-e741-ccb7-c3e941fdfd05"
      },
      "outputs": [],
      "source": [
        "cat_dat = train_df.copy()\n",
        "cat_dat.drop(cont_features,inplace=True,axis = 1)\n",
        "for i in cat_features:\n",
        "    try:\n",
        "        sns.boxplot(data=cat_dat,x=i,y=np.log(train_df.loss))\n",
        "        sns.plt.show()\n",
        "    except:\n",
        "        print('{} failed for some reason'.format())"
      ]
    }
  ],
  "metadata": {
    "_change_revision": 0,
    "_is_fork": false,
    "kernelspec": {
      "display_name": "Python 3",
      "language": "python",
      "name": "python3"
    },
    "language_info": {
      "codemirror_mode": {
        "name": "ipython",
        "version": 3
      },
      "file_extension": ".py",
      "mimetype": "text/x-python",
      "name": "python",
      "nbconvert_exporter": "python",
      "pygments_lexer": "ipython3",
      "version": "3.5.2"
    }
  },
  "nbformat": 4,
  "nbformat_minor": 0
}