{
  "cells": [
    {
      "cell_type": "code",
      "execution_count": null,
      "metadata": {
        "_cell_guid": "16cc0e4a-abfe-b511-e30d-7944165f726c"
      },
      "outputs": [],
      "source": [
        "import numpy as np # linear algebra\n",
        "import pandas as pd # data processing, CSV file I/O (e.g. pd.read_csv)\n",
        "\n",
        "from subprocess import check_output\n",
        "#print(check_output([\"ls\", \"../input\"]).decode(\"utf8\"))\n",
        "\n",
        "X_train = pd.read_json(\"../input/train.json\")\n",
        "# Any results you write to the current directory are saved as output.\n",
        "Y_train = X_train['interest_level']\n",
        "del X_train['interest_level']\n",
        "X_train"
      ]
    },
    {
      "cell_type": "markdown",
      "metadata": {
        "_cell_guid": "ce3f3a34-90fd-ea9f-aeb6-2326bfaaf5e6"
      },
      "source": [
        "After a little exploratory analysis, we see we have 49352 training examples, each with 14 features. Before I decide on my model/approach, I'm going to do some more exploration of the data."
      ]
    },
    {
      "cell_type": "code",
      "execution_count": null,
      "metadata": {
        "_cell_guid": "3e70ed21-5219-5d57-7479-d0bf203b43af"
      },
      "outputs": [],
      "source": [
        "print(list(X_train.columns))\n",
        "s = set()\n",
        "for i in range(X_train.shape[0]):\n",
        "    s.add(len(X_train['photos'].iloc[i]))\n",
        "print(s)"
      ]
    }
  ],
  "metadata": {
    "_change_revision": 0,
    "_is_fork": false,
    "kernelspec": {
      "display_name": "Python 3",
      "language": "python",
      "name": "python3"
    },
    "language_info": {
      "codemirror_mode": {
        "name": "ipython",
        "version": 3
      },
      "file_extension": ".py",
      "mimetype": "text/x-python",
      "name": "python",
      "nbconvert_exporter": "python",
      "pygments_lexer": "ipython3",
      "version": "3.6.0"
    }
  },
  "nbformat": 4,
  "nbformat_minor": 0
}