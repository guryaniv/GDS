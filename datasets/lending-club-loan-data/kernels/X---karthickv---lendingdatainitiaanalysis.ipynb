{"cells":[
 {
  "cell_type": "code",
  "execution_count": null,
  "metadata": {
   "collapsed": false
  },
  "outputs": [],
  "source": "# This Python 3 environment comes with many helpful analytics libraries installed\n# It is defined by the kaggle/python docker image: https://github.com/kaggle/docker-python\n# For example, here's several helpful packages to load in \n\n%matplotlib inline\nimport pandas as pd\nimport numpy as np\nimport matplotlib.pyplot as plt\n\n# Input data files are available in the \"../input/\" directory.\n# For example, running this (by clicking run or pressing Shift+Enter) will list the files in the input directory\n\nfrom subprocess import check_output\nprint(check_output([\"ls\", \"../input\"]).decode(\"utf8\"))\n\n# Any results you write to the current directory are saved as output."
 },
 {
  "cell_type": "code",
  "execution_count": null,
  "metadata": {
   "collapsed": false
  },
  "outputs": [],
  "source": "#Loan Data into data frame\ndf_data = pd.read_csv(\"../input/loan.csv\",low_memory=False)"
 },
 {
  "cell_type": "code",
  "execution_count": null,
  "metadata": {
   "collapsed": false
  },
  "outputs": [],
  "source": "#Group data by addr_state to start some analysis of counts by state\ndf_group = df_data.groupby('addr_state', as_index=False)['id'].count()"
 },
 {
  "cell_type": "code",
  "execution_count": null,
  "metadata": {
   "collapsed": false
  },
  "outputs": [],
  "source": "#Sort the grouping by counts to order ascending\ndf_group.sort_values(['id'], ascending=[True], inplace=True)\ndf_group = df_group.reset_index(drop=True)"
 },
 {
  "cell_type": "code",
  "execution_count": null,
  "metadata": {
   "collapsed": false
  },
  "outputs": [],
  "source": "#Plot data of counts by state shows CA way at top and ID at bottom x plot is in per 100000\n\nplt.bar(df_group.index,df_group.id/100000)\nplt.xticks(df_group.index,df_group.addr_state)\nN = 3\nparams = plt.gcf()\nplSize = params.get_size_inches()\nparams.set_size_inches( (plSize[0]*N, plSize[1]*N) )\nplt.show()"
 },
 {
  "cell_type": "code",
  "execution_count": null,
  "metadata": {
   "collapsed": false
  },
  "outputs": [],
  "source": "#Plot data of totdal funded amount  by state shows CA way at top same as count and ID.TX and NYswap places interestingly in counts and amount at bottom x plot is in per 100000\ndf_group = df_data.groupby('addr_state', as_index=False).sum()\ndf_group.sort_values(['funded_amnt'], ascending=[True], inplace=True)\ndf_group = df_group.reset_index(drop=True)\nplt.bar(df_group.index,df_group.funded_amnt/100000)\nplt.xticks(df_group.index,df_group.addr_state)\nN = 3\nparams = plt.gcf()\nplSize = params.get_size_inches()\nparams.set_size_inches( (plSize[0]*N, plSize[1]*N) )\nplt.show()"
 },
 {
  "cell_type": "code",
  "execution_count": null,
  "metadata": {
   "collapsed": false
  },
  "outputs": [],
  "source": "#Plot data of totdal funded amount by investors by state  shows no deviation from the funded amount by state\ndf_group.sort_values(['funded_amnt_inv'], ascending=[True], inplace=True)\ndf_group = df_group.reset_index(drop=True)\nplt.bar(df_group.index,df_group.funded_amnt_inv/10000)\nplt.xticks(df_group.index,df_group.addr_state)\nN = 3\nparams = plt.gcf()\nplSize = params.get_size_inches()\nparams.set_size_inches( (plSize[0]*N, plSize[1]*N) )\nplt.show()"
 },
 {
  "cell_type": "code",
  "execution_count": null,
  "metadata": {
   "collapsed": false
  },
  "outputs": [],
  "source": "#A grouping by mean annual income of people who applied for loans in the state shows something interesting pattern of mean annual income of people statewise\ndf_group = df_data.groupby('addr_state', as_index=False).mean()\ndf_group.sort_values(['annual_inc'], ascending=[True], inplace=True)\ndf_group = df_group.reset_index(drop=True)\nplt.bar(df_group.index,df_group.annual_inc/1000)\nplt.xticks(df_group.index,df_group.addr_state)\nN = 3\nparams = plt.gcf()\nplSize = params.get_size_inches()\nparams.set_size_inches( (plSize[0]*N, plSize[1]*N) )\nplt.show()"
 },
 {
  "cell_type": "code",
  "execution_count": null,
  "metadata": {
   "collapsed": false
  },
  "outputs": [],
  "source": "#A grouping by Issue date shows Lending clubs portfolio is growing and very rapidly in the last few months\ndf_group = df_data.groupby('issue_d', as_index=False).sum()\ndf_group.sort_values(['funded_amnt'], ascending=[True], inplace=True)\ndf_group = df_group.reset_index(drop=True)\nplt.bar(df_group.index,df_group.funded_amnt/1000000)\nplt.xticks(df_group.index,df_group.issue_d,rotation='vertical')\nN = 4\nparams = plt.gcf()\nplSize = params.get_size_inches()\nparams.set_size_inches( (plSize[0]*N, plSize[1]*N) )\nplt.show()"
 },
 {
  "cell_type": "code",
  "execution_count": null,
  "metadata": {
   "collapsed": false
  },
  "outputs": [],
  "source": "#A plot of Grade and rate shows they are correlated\ndf_group = df_data.groupby('grade', as_index=False).mean()\ndf_group.sort_values(['int_rate'], ascending=[True], inplace=True)\ndf_group = df_group.reset_index(drop=True)\nplt.bar(df_group.index,df_group.int_rate,align=\"center\")\nplt.xticks(df_group.index,df_group.grade)\nN = 3\nparams = plt.gcf()\nplSize = params.get_size_inches()\nparams.set_size_inches( (plSize[0]*N, plSize[1]*N) )\nplt.show()"
 },
 {
  "cell_type": "code",
  "execution_count": null,
  "metadata": {
   "collapsed": false
  },
  "outputs": [],
  "source": "#A plot of sub grade and rate shows that they are also correlated\ndf_group = df_data.groupby('sub_grade', as_index=False).mean()\ndf_group.sort_values(['int_rate'], ascending=[True], inplace=True)\ndf_group = df_group.reset_index(drop=True)\nplt.bar(df_group.index,df_group.int_rate,align=\"center\")\nplt.xticks(df_group.index,df_group.sub_grade)\nN = 3\nparams = plt.gcf()\nplSize = params.get_size_inches()\nparams.set_size_inches( (plSize[0]*N, plSize[1]*N) )\nplt.show()"
 },
 {
  "cell_type": "code",
  "execution_count": null,
  "metadata": {
   "collapsed": false
  },
  "outputs": [],
  "source": ""
 }
],"metadata":{"kernelspec":{"display_name":"Python 3","language":"python","name":"python3"}}, "nbformat": 4, "nbformat_minor": 0}