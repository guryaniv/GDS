{
  "cells": [
    {
      "cell_type": "markdown",
      "metadata": {
        "_cell_guid": "376d170c-9332-d820-90bd-929d2f55e055"
      },
      "source": [
        "**Keeping the tradition, here it is**.\n"
      ]
    },
    {
      "cell_type": "code",
      "execution_count": null,
      "metadata": {
        "_cell_guid": "498b256b-2eb9-86d1-1a56-5643f74dd025"
      },
      "outputs": [],
      "source": [
        "import pandas as pd\n",
        "\n",
        "train = pd.read_csv('../input/train.csv')\n",
        "test = pd.read_csv('../input/test.csv')\n",
        "\n",
        "del train['y']\n",
        "del train['ID']\n",
        "del test['ID']\n",
        "\n",
        "test1 = test.drop_duplicates(keep='first')\n",
        "print('removed from test:', len(test) - len(test1))\n",
        "\n",
        "train1 = train.drop_duplicates(keep='first')\n",
        "print('removed from train:', len(train) - len(train1))\n",
        "\n",
        "full = pd.concat([train1, test1])\n",
        "full.drop_duplicates(keep='first', inplace=True)\n",
        "dups = len(train1) + len(test1) - len(full)\n",
        "print('test/train dups:', dups)\n",
        "\n",
        "print(dups/len(test))"
      ]
    },
    {
      "cell_type": "markdown",
      "metadata": {
        "_cell_guid": "bb336472-312e-3e98-5a11-5aa1e8888fe1"
      },
      "source": [
        "Another interesting fact observing xgboost models built in other kernels is that they're basically 5 features:\n",
        "X279, X314, X315, X119, X47."
      ]
    },
    {
      "cell_type": "code",
      "execution_count": null,
      "metadata": {
        "_cell_guid": "1c3e7f7c-5b09-208d-ae04-59ef9f46f076"
      },
      "outputs": [],
      "source": [
        ""
      ]
    }
  ],
  "metadata": {
    "_change_revision": 0,
    "_is_fork": false,
    "kernelspec": {
      "display_name": "Python 3",
      "language": "python",
      "name": "python3"
    },
    "language_info": {
      "codemirror_mode": {
        "name": "ipython",
        "version": 3
      },
      "file_extension": ".py",
      "mimetype": "text/x-python",
      "name": "python",
      "nbconvert_exporter": "python",
      "pygments_lexer": "ipython3",
      "version": "3.6.0"
    }
  },
  "nbformat": 4,
  "nbformat_minor": 0
}