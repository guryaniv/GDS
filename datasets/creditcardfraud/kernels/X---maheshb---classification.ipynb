{
  "cells": [
    {
      "cell_type": "code",
      "execution_count": null,
      "metadata": {
        "_cell_guid": "956096c4-4917-1202-e008-20aacdb9c4d0"
      },
      "outputs": [],
      "source": [
        "# This Python 3 environment comes with many helpful analytics libraries installed\n",
        "# It is defined by the kaggle/python docker image: https://github.com/kaggle/docker-python\n",
        "# For example, here's several helpful packages to load in \n",
        "\n",
        "import numpy as np # linear algebra\n",
        "import pandas as pd # data processing, CSV file I/O (e.g. pd.read_csv)\n",
        "\n",
        "# Input data files are available in the \"../input/\" directory.\n",
        "# For example, running this (by clicking run or pressing Shift+Enter) will list the files in the input directory\n",
        "\n",
        "from subprocess import check_output\n",
        "print(check_output([\"ls\", \"../input\"]).decode(\"utf8\"))\n",
        "\n",
        "# Any results you write to the current directory are saved as output."
      ]
    },
    {
      "cell_type": "code",
      "execution_count": null,
      "metadata": {
        "_cell_guid": "7d704013-e5a5-bb19-ce04-b0427630d46d"
      },
      "outputs": [],
      "source": [
        "df = pd.read_csv('../input/creditcard.csv')"
      ]
    },
    {
      "cell_type": "code",
      "execution_count": null,
      "metadata": {
        "_cell_guid": "661d9dd2-9402-92a6-0e7b-fcf7a5d7f041"
      },
      "outputs": [],
      "source": [
        "df"
      ]
    },
    {
      "cell_type": "code",
      "execution_count": null,
      "metadata": {
        "_cell_guid": "2e28aa98-ae9b-bb00-126c-b3b7d5128a14"
      },
      "outputs": [],
      "source": [
        "import numpy as np\n",
        "from sklearn import datasets, linear_model\n",
        "import matplotlib.pyplot as plt"
      ]
    },
    {
      "cell_type": "code",
      "execution_count": null,
      "metadata": {
        "_cell_guid": "34249063-d2d5-b17f-c86e-2eabd5ca37b0"
      },
      "outputs": [],
      "source": [
        "import statsmodels.formula.api as smf\n",
        "lm = smf.ols(formula='Sales ~ TV', data=data).fit()"
      ]
    },
    {
      "cell_type": "code",
      "execution_count": null,
      "metadata": {
        "_cell_guid": "02f3bc8b-c258-dbb6-7037-ee74222dca2c"
      },
      "outputs": [],
      "source": [
        "import numpy as np\n",
        "import pandas as pd\n",
        "import statsmodels.api as sm\n",
        "import matplotlib.pyplot as plt"
      ]
    },
    {
      "cell_type": "code",
      "execution_count": null,
      "metadata": {
        "_cell_guid": "0ebada08-19d7-fcb6-e4f0-da1f946c723b"
      },
      "outputs": [],
      "source": [
        "train_cols = df.columns[0:12] | df.columns[14:19] | df.columns[21:23]"
      ]
    },
    {
      "cell_type": "code",
      "execution_count": null,
      "metadata": {
        "_cell_guid": "d641c2ea-6435-8c09-e876-741c2bfacc3c"
      },
      "outputs": [],
      "source": [
        "train_cols"
      ]
    },
    {
      "cell_type": "code",
      "execution_count": null,
      "metadata": {
        "_cell_guid": "41c3f60c-4f1e-786d-d3e6-6df5e8548148"
      },
      "outputs": [],
      "source": [
        "logit = sm.Logit(df['Class'], df[train_cols])\n",
        "\n",
        "# fit the model\n",
        "result = logit.fit()"
      ]
    },
    {
      "cell_type": "code",
      "execution_count": null,
      "metadata": {
        "_cell_guid": "2da0db74-f950-e55d-ad8b-f5096b9ae791"
      },
      "outputs": [],
      "source": [
        "print (result.summary())"
      ]
    },
    {
      "cell_type": "code",
      "execution_count": null,
      "metadata": {
        "_cell_guid": "5b795a1e-67e7-805f-8a46-23b787977343"
      },
      "outputs": [],
      "source": [
        "print (np.exp(result.params))"
      ]
    },
    {
      "cell_type": "code",
      "execution_count": null,
      "metadata": {
        "_cell_guid": "3f3a5f52-d38b-d2a9-c11a-d88fdd1f9734"
      },
      "outputs": [],
      "source": [
        "from sklearn.datasets import make_classification\n",
        "from sklearn.cross_validation import train_test_split\n",
        "from sklearn.linear_model import LogisticRegression\n",
        "from sklearn import tree\n",
        "from sklearn import svm"
      ]
    },
    {
      "cell_type": "code",
      "execution_count": null,
      "metadata": {
        "_cell_guid": "1aae5750-c762-e55b-b645-e1d14d1f7fb9"
      },
      "outputs": [],
      "source": [
        "cls = tree.DecisionTreeClassifier()\n",
        "features = df[['Time','V1', 'V2', 'V3', 'V4', 'V5', 'V6', 'V7', 'V8', 'V9', 'V10', 'V11',\n",
        "      'V12', 'V13', 'V14', 'V15', 'V16', 'V17', 'V18', 'V19', 'V20', 'V21',\n",
        "      'V22', 'V23', 'V24', 'V25', 'V26', 'V27', 'V28','Amount']]\n",
        "features_train, features_test, target_train, target_test = train_test_split(features, df['Class'])\n",
        "cls.fit(features_train, target_train)\n",
        "predictions = cls.predict(features_test)"
      ]
    },
    {
      "cell_type": "code",
      "execution_count": null,
      "metadata": {
        "_cell_guid": "be24c782-72f7-9ee5-c92f-58c1fa0b7c99"
      },
      "outputs": [],
      "source": [
        "from sklearn import metrics\n",
        "import pandas as pd\n",
        "from ggplot import *\n",
        "\n",
        "preds = cls.predict_proba(features_test)[:,1]\n",
        "fpr, tpr, _ = metrics.roc_curve(target_test, preds)\n",
        "\n",
        "df1 = pd.DataFrame(dict(fpr=fpr, tpr=tpr))\n",
        "ggplot(df1, aes(x='fpr', y='tpr')) +\\\n",
        "    geom_line() +\\\n",
        "    geom_abline(linetype='dashed')"
      ]
    },
    {
      "cell_type": "code",
      "execution_count": null,
      "metadata": {
        "_cell_guid": "df666a8e-a8db-4331-730d-a418563e32a5"
      },
      "outputs": [],
      "source": [
        "auc = metrics.auc(fpr,tpr)"
      ]
    },
    {
      "cell_type": "code",
      "execution_count": null,
      "metadata": {
        "_cell_guid": "bd951108-6968-a810-c9fa-09275344dff2"
      },
      "outputs": [],
      "source": [
        "auc"
      ]
    },
    {
      "cell_type": "code",
      "execution_count": null,
      "metadata": {
        "_cell_guid": "01125e7c-0747-cb2f-8cdc-ed893da63d14"
      },
      "outputs": [],
      "source": [
        "df"
      ]
    },
    {
      "cell_type": "code",
      "execution_count": null,
      "metadata": {
        "_cell_guid": "2f02e282-8854-63d9-4e53-cf5250972fb3"
      },
      "outputs": [],
      "source": [
        "metrics.precision_recall_fscore_support(target_test,predictions)"
      ]
    },
    {
      "cell_type": "code",
      "execution_count": null,
      "metadata": {
        "_cell_guid": "265eac32-1e36-00e7-a8e1-d0b21d354022"
      },
      "outputs": [],
      "source": [
        ""
      ]
    }
  ],
  "metadata": {
    "_change_revision": 0,
    "_is_fork": false,
    "kernelspec": {
      "display_name": "Python 3",
      "language": "python",
      "name": "python3"
    },
    "language_info": {
      "codemirror_mode": {
        "name": "ipython",
        "version": 3
      },
      "file_extension": ".py",
      "mimetype": "text/x-python",
      "name": "python",
      "nbconvert_exporter": "python",
      "pygments_lexer": "ipython3",
      "version": "3.5.2"
    }
  },
  "nbformat": 4,
  "nbformat_minor": 0
}