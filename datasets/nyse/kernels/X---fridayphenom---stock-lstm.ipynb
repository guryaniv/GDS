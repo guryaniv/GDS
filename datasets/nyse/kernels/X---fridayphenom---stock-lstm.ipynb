{
  "cells": [
    {
      "cell_type": "code",
      "execution_count": null,
      "metadata": {
        "_cell_guid": "1fd49766-84ef-237f-7a17-6d18d68e3afc"
      },
      "outputs": [],
      "source": [
        "import numpy as np\n",
        "import pandas as pd\n",
        "import matplotlib.pyplot as plt\n",
        "from pandas import datetime\n",
        "import math, time\n",
        "import itertools\n",
        "from sklearn import preprocessing\n",
        "import datetime\n",
        "from operator import itemgetter\n",
        "from sklearn.metrics import mean_squared_error\n",
        "from math import sqrt\n",
        "from keras.models import Sequential\n",
        "from keras.layers.core import Dense, Dropout, Activation\n",
        "from keras.layers.recurrent import LSTM\n",
        "from keras.models import load_model\n",
        "import keras\n",
        "import h5py\n",
        "import requests\n",
        "import os"
      ]
    },
    {
      "cell_type": "code",
      "execution_count": null,
      "metadata": {
        "_cell_guid": "3cbd1002-f3ca-ecf5-146d-8c59cf095f02"
      },
      "outputs": [],
      "source": [
        "stock_name = 'YHOO'\n",
        "\n",
        "prices_dataset = pd.read_csv('../input/prices-split-adjusted.csv')\n",
        "prices_dataset['adj close'] = prices_dataset.close\n",
        "prices_dataset.drop(['close'], 1, inplace=True)\n",
        "stock_df = prices_dataset[prices_dataset['symbol'] == stock_name]\n",
        "print(stock_df.head())\n"
      ]
    },
    {
      "cell_type": "code",
      "execution_count": null,
      "metadata": {
        "_cell_guid": "b0372135-7534-bb0c-e226-3805e3fc67f8"
      },
      "outputs": [],
      "source": [
        "min_max_scaler = preprocessing.MinMaxScaler()\n",
        "stock_df['open'] = min_max_scaler.fit_transform(stock_df.open.values.reshape(-1, 1))\n",
        "stock_df['high'] = min_max_scaler.fit_transform(stock_df.high.values.reshape(-1, 1))\n",
        "stock_df['low'] = min_max_scaler.fit_transform(stock_df.low.values.reshape(-1, 1))\n",
        "stock_df['volume'] = min_max_scaler.fit_transform(stock_df.volume.values.reshape(-1, 1))\n",
        "stock_df['adj close'] = min_max_scaler.fit_transform(stock_df['adj close'].values.reshape(-1, 1))\n",
        "print(stock_df.head())\n"
      ]
    },
    {
      "cell_type": "code",
      "execution_count": null,
      "metadata": {
        "_cell_guid": "b930273e-753a-9307-e42d-afca6ed03e56"
      },
      "outputs": [],
      "source": [
        "amount_of_features = len(stock)"
      ]
    }
  ],
  "metadata": {
    "_change_revision": 0,
    "_is_fork": false,
    "kernelspec": {
      "display_name": "Python 3",
      "language": "python",
      "name": "python3"
    },
    "language_info": {
      "codemirror_mode": {
        "name": "ipython",
        "version": 3
      },
      "file_extension": ".py",
      "mimetype": "text/x-python",
      "name": "python",
      "nbconvert_exporter": "python",
      "pygments_lexer": "ipython3",
      "version": "3.6.0"
    }
  },
  "nbformat": 4,
  "nbformat_minor": 0
}