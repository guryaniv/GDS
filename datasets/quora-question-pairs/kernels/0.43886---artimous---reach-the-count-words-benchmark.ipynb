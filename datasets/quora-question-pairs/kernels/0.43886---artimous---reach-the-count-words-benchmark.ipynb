{
  "cells": [
    {
      "cell_type": "markdown",
      "metadata": {
        "_cell_guid": "cd35053a-5221-b34d-f18b-0328daff502e"
      },
      "source": [
        "**This script focuses on the basic concept of finding common words after removing stop words**\n",
        "\n",
        "Let us try and beat the benchmark"
      ]
    },
    {
      "cell_type": "code",
      "execution_count": null,
      "metadata": {
        "_cell_guid": "872cade5-f879-7730-db42-e0077380269b"
      },
      "outputs": [],
      "source": [
        "from nltk.corpus import stopwords\n",
        "import pandas as pd\n",
        "import numpy as np\n",
        "from sklearn.metrics import log_loss\n",
        "from scipy.optimize import minimize"
      ]
    },
    {
      "cell_type": "code",
      "execution_count": null,
      "metadata": {
        "_cell_guid": "e96195ff-0e44-3801-3f00-bdbcc10bc755"
      },
      "outputs": [],
      "source": [
        "stops = set(stopwords.words(\"english\"))"
      ]
    },
    {
      "cell_type": "code",
      "execution_count": null,
      "metadata": {
        "_cell_guid": "65388c9c-6b35-c46e-57c0-6fc9cf3ee00d"
      },
      "outputs": [],
      "source": [
        "from numpy import prod\n",
        "def word_match_share(row):\n",
        "    q1words = {}\n",
        "    q2words = {}\n",
        "    for word in str(row['question1']).lower().replace(\"-\",\"\").replace(\".\",\" \").rstrip('?').split():\n",
        "        if word not in stops:\n",
        "            q1words[word] = 1\n",
        "    for word in str(row['question2']).lower().replace(\"-\",\"\").replace(\".\",\" \").rstrip('?').split():\n",
        "        if word not in stops:\n",
        "            q2words[word] = 1\n",
        "    if len(q1words) == 0 or len(q2words) == 0:\n",
        "        return 0\n",
        "    shared_words = [len(w) for w in q1words.keys() if w in q2words]\n",
        "    count1 = prod(shared_words)*prod(shared_words)\n",
        "    shared_prod1 = [len(w) for w in q1words]\n",
        "    shared_prod2 = [len(w) for w in q2words]\n",
        "    count2 = prod(shared_prod1)*prod(shared_prod1)\n",
        "    R = count1/count2\n",
        "    return R"
      ]
    },
    {
      "cell_type": "code",
      "execution_count": null,
      "metadata": {
        "_cell_guid": "3877c512-6727-467e-c521-39b7bf94a2c1"
      },
      "outputs": [],
      "source": [
        "train = pd.read_csv(\"../input/train.csv\")\n",
        "train[ 'R' ] = train.apply( word_match_share, axis=1, raw=True )\n",
        "print( train.head() ) "
      ]
    },
    {
      "cell_type": "code",
      "execution_count": null,
      "metadata": {
        "_cell_guid": "bcf83bfa-9340-bc43-9af0-29f6320bd3d8"
      },
      "outputs": [],
      "source": [
        "test = pd.read_csv(\"../input/test.csv\", index_col=False )\n",
        "test['R'] = test.apply( word_match_share, axis=1, raw=True )\n",
        "print( test.head() )"
      ]
    },
    {
      "cell_type": "markdown",
      "metadata": {
        "_cell_guid": "4d7a8cb9-3ec7-7774-959f-c7869347d376"
      },
      "source": [
        "**Mean Target**"
      ]
    },
    {
      "cell_type": "code",
      "execution_count": null,
      "metadata": {
        "_cell_guid": "b86f5501-9f01-4e42-2537-afcce7366e7d"
      },
      "outputs": [],
      "source": [
        "GLOBAL_MEAN = np.mean( train['is_duplicate'] ) \n",
        "print( 'Mean is_duplicated', GLOBAL_MEAN )"
      ]
    },
    {
      "cell_type": "code",
      "execution_count": null,
      "metadata": {
        "_cell_guid": "0596273b-1102-5f35-4caa-19b860fb9179"
      },
      "outputs": [],
      "source": [
        "#OPTIMIZE FUNCTIONS\n",
        "def minimize_train_log_loss( W ):\n",
        "    train[\"prediction\"] = GLOBAL_MEAN + train[\"R\"] * W[0] + W[1]\n",
        "    score = log_loss( train['is_duplicate'], train['prediction'] )\n",
        "    print(  score , W )\n",
        "    return( score )"
      ]
    },
    {
      "cell_type": "markdown",
      "metadata": {
        "_cell_guid": "09cf47cd-8732-8647-718b-474dba8a6736"
      },
      "source": [
        "**OPTIMIZE FUNCTIONS**"
      ]
    },
    {
      "cell_type": "code",
      "execution_count": null,
      "metadata": {
        "_cell_guid": "4d0c92ce-0405-71d3-1528-bb24e3533134"
      },
      "outputs": [],
      "source": [
        "res = minimize(minimize_train_log_loss, [0.00,  0.00], method='Nelder-Mead', tol=1e-4, options={'maxiter': 400})\n",
        "W = res.x\n",
        "print( 'Best weights: ',W )"
      ]
    },
    {
      "cell_type": "markdown",
      "metadata": {
        "_cell_guid": "19f0140b-fef0-f403-9e2f-75d11a8d7d83"
      },
      "source": [
        "**APPLY TO TESTSET**"
      ]
    },
    {
      "cell_type": "code",
      "execution_count": null,
      "metadata": {
        "_cell_guid": "167af562-5eaf-0e5f-8cd6-e57a6e10964b"
      },
      "outputs": [],
      "source": [
        "test[\"is_duplicate\"] = GLOBAL_MEAN + test[\"R\"] * W[0] + W[1]\n",
        "test[ ['test_id','is_duplicate'] ].to_csv(\"count_words_benchmark.csv\", header=True, index=False)\t"
      ]
    }
  ],
  "metadata": {
    "_change_revision": 0,
    "_is_fork": false,
    "kernelspec": {
      "display_name": "Python 3",
      "language": "python",
      "name": "python3"
    },
    "language_info": {
      "codemirror_mode": {
        "name": "ipython",
        "version": 3
      },
      "file_extension": ".py",
      "mimetype": "text/x-python",
      "name": "python",
      "nbconvert_exporter": "python",
      "pygments_lexer": "ipython3",
      "version": "3.6.0"
    }
  },
  "nbformat": 4,
  "nbformat_minor": 0
}