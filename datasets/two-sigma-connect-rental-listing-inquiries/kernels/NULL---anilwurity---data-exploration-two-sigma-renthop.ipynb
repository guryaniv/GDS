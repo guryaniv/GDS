{
  "cells": [
    {
      "cell_type": "markdown",
      "metadata": {
        "_cell_guid": "aa14ca26-6cda-0958-f60a-f3096c727690"
      },
      "source": [
        "# Data Exploration and Feature Engeenering Starter\n",
        "## Two Sigma Connect   Renthop Competition\n",
        "## Sergei Neviadomski"
      ]
    },
    {
      "cell_type": "code",
      "execution_count": null,
      "metadata": {
        "_cell_guid": "1e03eba5-fadf-abd0-aa5b-2ea488a92b8c"
      },
      "outputs": [],
      "source": [
        "### Necessary libraries\n",
        "import pandas as pd\n",
        "import numpy as np\n",
        "import matplotlib.pyplot as plt\n",
        "import seaborn as sns\n",
        "\n",
        "%matplotlib inline\n",
        "### Seaborn style\n",
        "sns.set_style(\"whitegrid\")"
      ]
    },
    {
      "cell_type": "code",
      "execution_count": null,
      "metadata": {
        "_cell_guid": "455ff5b8-be2c-c429-c9bd-344807f71456"
      },
      "outputs": [],
      "source": [
        "### Let's import our data\n",
        "train_data = pd.read_json('../input/train.json')\n",
        "### and test if everything OK\n",
        "train_data.head()"
      ]
    },
    {
      "cell_type": "code",
      "execution_count": null,
      "metadata": {
        "_cell_guid": "c4aa190d-d57f-239b-b990-59f55e424f10"
      },
      "outputs": [],
      "source": [
        "### ... check for NAs\n",
        "train_data.isnull().sum()"
      ]
    },
    {
      "cell_type": "code",
      "execution_count": null,
      "metadata": {
        "_cell_guid": "0650573e-c29c-a100-3752-12cff9fa6db4"
      },
      "outputs": [],
      "source": [
        "### Target variable exploration\n",
        "sns.countplot(train_data.interest_level, order=['low', 'medium', 'high']);\n",
        "plt.xlabel('Interest Level');\n",
        "plt.ylabel('Number of occurrences');"
      ]
    },
    {
      "cell_type": "code",
      "execution_count": null,
      "metadata": {
        "_cell_guid": "c6ea608b-892a-e105-7249-7a2aed101abc"
      },
      "outputs": [],
      "source": [
        "### Quantitative substitute of Interest Level\n",
        "train_data['interest'] = np.where(train_data.interest_level=='low', 0,\n",
        "                                  np.where(train_data.interest_level=='medium', 1, 2))"
      ]
    },
    {
      "cell_type": "code",
      "execution_count": null,
      "metadata": {
        "_cell_guid": "ea49401f-9594-f540-33de-3a982a31dfc4"
      },
      "outputs": [],
      "source": [
        "### Bathrooms graphs\n",
        "fig = plt.figure(figsize=(12,12))\n",
        "### Number of occurrences\n",
        "sns.countplot(train_data.bathrooms, ax = plt.subplot(221));\n",
        "plt.xlabel('Number of Bathrooms');\n",
        "plt.ylabel('Number of occurrences');\n",
        "### Average number of Bathrooms per Interest Level\n",
        "sns.barplot(x='interest_level', y='bathrooms', data=train_data, order=['low', 'medium', 'high'],\n",
        "            ax = plt.subplot(222));\n",
        "plt.xlabel('Interest Level');\n",
        "plt.ylabel('Average Number of Bathrooms');\n",
        "### Average interest for every number of bathrooms\n",
        "sns.pointplot(x=\"bathrooms\", y=\"interest\", data=train_data, ax = plt.subplot(212));\n",
        "plt.xlabel('Number of Bathrooms');\n",
        "plt.ylabel('Average Interest');"
      ]
    },
    {
      "cell_type": "code",
      "execution_count": null,
      "metadata": {
        "_cell_guid": "03c32c6b-94b4-a690-8701-874fbf4df718"
      },
      "outputs": [],
      "source": [
        "### Bedrooms graphs\n",
        "fig = plt.figure(figsize=(12,12))\n",
        "### Number of occurrences\n",
        "sns.countplot(train_data.bedrooms, ax = plt.subplot(221));\n",
        "plt.xlabel('Number of Bedrooms');\n",
        "plt.ylabel('Number of occurrences');\n",
        "### Average number of Bedrooms per Interest Level\n",
        "sns.barplot(x='interest_level', y='bedrooms', data=train_data, order=['low', 'medium', 'high'],\n",
        "            ax = plt.subplot(222));\n",
        "plt.xlabel('Interest Level');\n",
        "plt.ylabel('Average Number of Bedrooms');\n",
        "### Average interest for every number of bedrooms\n",
        "sns.pointplot(x=\"bedrooms\", y=\"interest\", data=train_data, ax = plt.subplot(212));\n",
        "plt.xlabel('Number of Bedrooms');\n",
        "plt.ylabel('Average Interest');"
      ]
    },
    {
      "cell_type": "code",
      "execution_count": null,
      "metadata": {
        "_cell_guid": "b95da871-f831-ced3-d656-87386ade0d69"
      },
      "outputs": [],
      "source": [
        "### Most advertised buildings\n",
        "train_data.building_id.value_counts().nlargest(10)"
      ]
    },
    {
      "cell_type": "code",
      "execution_count": null,
      "metadata": {
        "_cell_guid": "943c9fa9-0867-9d80-3287-a278127c30b6"
      },
      "outputs": [],
      "source": [
        "### Convertion to Python Date\n",
        "train_data.created = pd.to_datetime(train_data.created, format='%Y-%m-%d %H:%M:%S')"
      ]
    },
    {
      "cell_type": "code",
      "execution_count": null,
      "metadata": {
        "_cell_guid": "83f2c63b-4157-46b5-f538-92e135e797f5"
      },
      "outputs": [],
      "source": [
        "### New Month, Day of Week and Hour Features\n",
        "train_data['month'] = train_data.created.dt.month\n",
        "train_data['day_of_week'] = train_data.created.dt.weekday_name\n",
        "train_data['hour'] = train_data.created.dt.hour"
      ]
    },
    {
      "cell_type": "code",
      "execution_count": null,
      "metadata": {
        "_cell_guid": "d1ffe730-aa53-823c-bd62-abcf0f4f8673"
      },
      "outputs": [],
      "source": [
        "### First date in DataFrame\n",
        "print('First advert created at {}'.format(train_data.created.nsmallest(1).values[0]))"
      ]
    },
    {
      "cell_type": "code",
      "execution_count": null,
      "metadata": {
        "_cell_guid": "e61fc755-9cf1-b6a0-cd46-e2b88f61cd04"
      },
      "outputs": [],
      "source": [
        "### Last date in DataFrame\n",
        "print('Last advert created at {}'.format(train_data.created.nlargest(1).values[0]))"
      ]
    },
    {
      "cell_type": "code",
      "execution_count": null,
      "metadata": {
        "_cell_guid": "f5bb4bbf-879b-d5cd-8db1-53a495b6437c"
      },
      "outputs": [],
      "source": [
        "### Iterest per month\n",
        "fig = plt.figure(figsize=(12,6))\n",
        "ax = sns.countplot(x=\"month\", hue=\"interest_level\", hue_order=['low', 'medium', 'high'],\n",
        "                   data=train_data);\n",
        "plt.xlabel('Month');\n",
        "plt.ylabel('Number of occurrences')\n",
        "\n",
        "### Adding percents over bars\n",
        "height = [p.get_height() for p in ax.patches]\n",
        "ncol = int(len(height)/3)\n",
        "total = [height[i] + height[i + ncol] + height[i + 2*ncol] for i in range(ncol)] * 3\n",
        "for i, p in enumerate(ax.patches):    \n",
        "    ax.text(p.get_x()+p.get_width()/2,\n",
        "            height[i] + 50,\n",
        "            '{:1.0%}'.format(height[i]/total[i]),\n",
        "            ha=\"center\") "
      ]
    },
    {
      "cell_type": "code",
      "execution_count": null,
      "metadata": {
        "_cell_guid": "e7ab3b3e-a4ba-d935-ce92-6cb06b3b69d9"
      },
      "outputs": [],
      "source": [
        "### Iterest per Day of Week\n",
        "fig = plt.figure(figsize=(12,6))\n",
        "ax = sns.countplot(x=\"day_of_week\", hue=\"interest_level\",\n",
        "                   hue_order=['low', 'medium', 'high'], data=train_data,\n",
        "                   order=['Sunday', 'Monday', 'Tuesday', 'Wednesday', 'Thursday', 'Friday', 'Saturday']);\n",
        "plt.xlabel('Day of Week');\n",
        "plt.ylabel('Number of occurrences');\n",
        "\n",
        "### Adding percents over bars\n",
        "height = [p.get_height() for p in ax.patches]\n",
        "ncol = int(len(height)/3)\n",
        "total = [height[i] + height[i + ncol] + height[i + 2*ncol] for i in range(ncol)] * 3\n",
        "for i, p in enumerate(ax.patches):    \n",
        "    ax.text(p.get_x()+p.get_width()/2,\n",
        "            height[i] + 50,\n",
        "            '{:1.0%}'.format(height[i]/total[i]),\n",
        "            ha=\"center\") "
      ]
    },
    {
      "cell_type": "code",
      "execution_count": null,
      "metadata": {
        "_cell_guid": "6fcb5a3e-fde8-bcbc-d01b-6ca836297c6a"
      },
      "outputs": [],
      "source": [
        "### Iterest per Day of Week\n",
        "fig = plt.figure(figsize=(12,6))\n",
        "sns.countplot(x=\"hour\", hue=\"interest_level\", hue_order=['low', 'medium', 'high'], data=train_data);\n",
        "plt.xlabel('Hour');\n",
        "plt.ylabel('Number of occurrences');"
      ]
    },
    {
      "cell_type": "code",
      "execution_count": null,
      "metadata": {
        "_cell_guid": "eb81abd9-bf9d-7088-b09b-ba8379fd19e8"
      },
      "outputs": [],
      "source": [
        "### Number of unique Display Addresses\n",
        "print('Number of Unique Display Addresses is {}'.format(train_data.display_address.value_counts().shape[0]))"
      ]
    },
    {
      "cell_type": "code",
      "execution_count": null,
      "metadata": {
        "_cell_guid": "aba58cf5-825f-e87d-6d6f-fdcb97ad80fe"
      },
      "outputs": [],
      "source": [
        "### 15 most popular Display Addresses\n",
        "train_data.display_address.value_counts().nlargest(15)"
      ]
    },
    {
      "cell_type": "code",
      "execution_count": null,
      "metadata": {
        "_cell_guid": "0acd11da-7f6e-4aeb-e847-d34d1e65ddbb"
      },
      "outputs": [],
      "source": [
        "### Top 20 northernmost points\n",
        "train_data.latitude.nlargest(20)"
      ]
    },
    {
      "cell_type": "code",
      "execution_count": null,
      "metadata": {
        "_cell_guid": "d4d0e685-a351-24d6-9729-a38eb9b950fc"
      },
      "outputs": [],
      "source": [
        "### Top 20 southernmost points\n",
        "train_data.latitude.nsmallest(20)"
      ]
    },
    {
      "cell_type": "code",
      "execution_count": null,
      "metadata": {
        "_cell_guid": "c8e4de31-9f08-b90e-6f54-9c46087b7d5d"
      },
      "outputs": [],
      "source": [
        "### Top 20 easternmost points\n",
        "train_data.longitude.nlargest(20)"
      ]
    },
    {
      "cell_type": "code",
      "execution_count": null,
      "metadata": {
        "_cell_guid": "da3ad8fa-34f2-1c7e-9042-019dd1de30f0"
      },
      "outputs": [],
      "source": [
        "### Top 20 westernmost points\n",
        "train_data.longitude.nsmallest(20)"
      ]
    },
    {
      "cell_type": "code",
      "execution_count": null,
      "metadata": {
        "_cell_guid": "ec05a050-8a0a-ea21-f067-6edbb25f5054"
      },
      "outputs": [],
      "source": [
        "### Rent interest graph of New-York\n",
        "sns.lmplot(x=\"longitude\", y=\"latitude\", fit_reg=False, hue='interest_level',\n",
        "           hue_order=['low', 'medium', 'high'], size=9, scatter_kws={'alpha':0.4,'s':30},\n",
        "           data=train_data[(train_data.longitude>train_data.longitude.quantile(0.005))\n",
        "                           &(train_data.longitude<train_data.longitude.quantile(0.995))\n",
        "                           &(train_data.latitude>train_data.latitude.quantile(0.005))                           \n",
        "                           &(train_data.latitude<train_data.latitude.quantile(0.995))]);\n",
        "plt.xlabel('Longitude');\n",
        "plt.ylabel('Latitude');"
      ]
    },
    {
      "cell_type": "code",
      "execution_count": null,
      "metadata": {
        "_cell_guid": "82a3df35-7ebf-e5bd-9443-0cf2b5e48e7a"
      },
      "outputs": [],
      "source": [
        "### Let's get a list of top 10 managers\n",
        "top10managers = train_data.manager_id.value_counts().nlargest(10).index.tolist()\n",
        "### ...and plot number of different Interest Level rental adverts for each of them\n",
        "fig = plt.figure(figsize=(12,6))\n",
        "ax = sns.countplot(x=\"manager_id\", hue=\"interest_level\",\n",
        "                   data=train_data[train_data.manager_id.isin(top10managers)]);\n",
        "plt.xlabel('Manager');\n",
        "plt.ylabel('Number of advert occurrences');\n",
        "### Manager_ids are too long. Let's remove them\n",
        "plt.tick_params(\n",
        "    axis='x',          # changes apply to the x-axis\n",
        "    which='both',      # both major and minor ticks are affected\n",
        "    bottom='off',      # ticks along the bottom edge are off\n",
        "    top='off',         # ticks along the top edge are off\n",
        "    labelbottom='off');\n",
        "\n",
        "### Adding percents over bars\n",
        "height = [0 if np.isnan(p.get_height()) else p.get_height() for p in ax.patches]\n",
        "ncol = int(len(height)/3)\n",
        "total = [height[i] + height[i + ncol] + height[i + 2*ncol] for i in range(ncol)] * 3\n",
        "for i, p in enumerate(ax.patches):    \n",
        "    ax.text(p.get_x()+p.get_width()/2,\n",
        "            height[i] + 20,\n",
        "            '{:1.0%}'.format(height[i]/total[i]),\n",
        "            ha=\"center\")"
      ]
    },
    {
      "cell_type": "code",
      "execution_count": null,
      "metadata": {
        "_cell_guid": "673aa221-d2ce-71b8-6b47-feacbf8405c9"
      },
      "outputs": [],
      "source": [
        "### Getting number of photos\n",
        "train_data['photos_number'] = train_data.photos.str.len()"
      ]
    },
    {
      "cell_type": "code",
      "execution_count": null,
      "metadata": {
        "_cell_guid": "9b43ff7f-38db-f07b-a89e-f78316d91219"
      },
      "outputs": [],
      "source": [
        "### Number of photos graphs\n",
        "fig = plt.figure(figsize=(12,12))\n",
        "### Average number of Photos per Interest Level\n",
        "sns.barplot(x=\"interest_level\", y=\"photos_number\", order=['low', 'medium', 'high'],\n",
        "            data=train_data, ax=plt.subplot(221));\n",
        "plt.xlabel('Interest Level');\n",
        "plt.ylabel('Average Number of Photos');\n",
        "### Average interest for every number of photos\n",
        "sns.barplot(x=\"photos_number\", y=\"interest\", data=train_data, ax=plt.subplot(222));\n",
        "plt.xlabel('Number of Photos');\n",
        "plt.ylabel('Average Interest');\n",
        "### Number of occurrences\n",
        "sns.countplot(x='photos_number', hue='interest_level', hue_order=['low', 'medium', 'high'],\n",
        "              data=train_data, ax=plt.subplot(212));\n",
        "plt.xlabel('Number of Photos');\n",
        "plt.ylabel('Number of occurrences');"
      ]
    },
    {
      "cell_type": "code",
      "execution_count": null,
      "metadata": {
        "_cell_guid": "4dec766f-e760-fc84-ce88-f3921ded07a4"
      },
      "outputs": [],
      "source": [
        "### Price exploration\n",
        "fig = plt.figure(figsize=(12,12))\n",
        "### Price distribution\n",
        "sns.distplot(train_data.price[train_data.price<=train_data.price.quantile(0.99)], ax=plt.subplot(211));\n",
        "plt.xlabel('Price');\n",
        "plt.ylabel('Density');\n",
        "### Average Price per Interest Level\n",
        "sns.barplot(x=\"interest_level\", y=\"price\", order=['low', 'medium', 'high'],\n",
        "            data=train_data, ax=plt.subplot(223));\n",
        "plt.xlabel('Interest Level');\n",
        "plt.ylabel('Price');\n",
        "### Violinplot of price for every Interest Level\n",
        "sns.violinplot(x=\"interest_level\", y=\"price\", order=['low', 'medium', 'high'],\n",
        "               data=train_data[train_data.price<=train_data.price.quantile(0.99)],\n",
        "               ax=plt.subplot(224));\n",
        "plt.xlabel('Interest Level');\n",
        "plt.ylabel('Price');"
      ]
    },
    {
      "cell_type": "markdown",
      "metadata": {
        "_cell_guid": "fef19317-295d-73e0-5555-53be0a38ee8c"
      },
      "source": [
        "### Please upvote if you like my notebook :)"
      ]
    }
  ],
  "metadata": {
    "_change_revision": 0,
    "_is_fork": false,
    "kernelspec": {
      "display_name": "Python 3",
      "language": "python",
      "name": "python3"
    },
    "language_info": {
      "codemirror_mode": {
        "name": "ipython",
        "version": 3
      },
      "file_extension": ".py",
      "mimetype": "text/x-python",
      "name": "python",
      "nbconvert_exporter": "python",
      "pygments_lexer": "ipython3",
      "version": "3.6.0"
    }
  },
  "nbformat": 4,
  "nbformat_minor": 0
}