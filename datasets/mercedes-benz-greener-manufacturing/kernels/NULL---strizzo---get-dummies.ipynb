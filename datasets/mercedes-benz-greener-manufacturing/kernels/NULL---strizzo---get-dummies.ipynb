{
  "cells": [
    {
      "cell_type": "markdown",
      "metadata": {
        "_cell_guid": "de2acad5-a642-72c4-b857-b357785fd139"
      },
      "source": [
        "**First notebook: Get dummies!**\n",
        "\n",
        "This is just to transform categorical features into dummy variables with one-hot-encoding."
      ]
    },
    {
      "cell_type": "code",
      "execution_count": null,
      "metadata": {
        "_cell_guid": "98081f85-c925-4dc8-b9d2-eca79eb8da8a"
      },
      "outputs": [],
      "source": [
        "import pandas as pd # data processing, CSV file I/O (e.g. pd.read_csv)"
      ]
    },
    {
      "cell_type": "code",
      "execution_count": null,
      "metadata": {
        "_cell_guid": "6b547eee-625d-7abc-403a-65adc9040169"
      },
      "outputs": [],
      "source": [
        "td=pd.read_csv(\"../input/train.csv\")\n",
        "td.describe()"
      ]
    },
    {
      "cell_type": "code",
      "execution_count": null,
      "metadata": {
        "_cell_guid": "18add574-0c97-900d-1923-357eb0cbee19"
      },
      "outputs": [],
      "source": [
        "pd.get_dummies(td).describe()"
      ]
    },
    {
      "cell_type": "code",
      "execution_count": null,
      "metadata": {
        "_cell_guid": "efd57a0a-c984-90da-ee30-bfa97a9cbd50"
      },
      "outputs": [],
      "source": ""
    }
  ],
  "metadata": {
    "_change_revision": 0,
    "_is_fork": false,
    "kernelspec": {
      "display_name": "Python 3",
      "language": "python",
      "name": "python3"
    },
    "language_info": {
      "codemirror_mode": {
        "name": "ipython",
        "version": 3
      },
      "file_extension": ".py",
      "mimetype": "text/x-python",
      "name": "python",
      "nbconvert_exporter": "python",
      "pygments_lexer": "ipython3",
      "version": "3.6.0"
    }
  },
  "nbformat": 4,
  "nbformat_minor": 0
}