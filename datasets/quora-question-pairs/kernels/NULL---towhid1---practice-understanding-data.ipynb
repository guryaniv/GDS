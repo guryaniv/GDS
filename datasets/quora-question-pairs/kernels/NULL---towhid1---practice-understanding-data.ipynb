{
  "cells": [
    {
      "cell_type": "code",
      "execution_count": null,
      "metadata": {
        "_cell_guid": "9d1b9e4b-891c-6b71-84b9-080e169d6f4f"
      },
      "outputs": [],
      "source": [
        "import numpy as np # linear algebra\n",
        "import pandas as pd # data processing, CSV file I/O (e.g. pd.read_csv)\n",
        "from wordcloud import WordCloud, STOPWORDS\n",
        "import matplotlib.pyplot as plt\n",
        "\n",
        "from subprocess import check_output"
      ]
    },
    {
      "cell_type": "markdown",
      "metadata": {
        "_cell_guid": "238a712f-beb4-2ebe-d7f3-62c4c1f71e91"
      },
      "source": [
        "## Train and test data"
      ]
    },
    {
      "cell_type": "code",
      "execution_count": null,
      "metadata": {
        "_cell_guid": "c7dd2b95-fad7-0b05-8f18-cbb1e3bece23"
      },
      "outputs": [],
      "source": [
        "train = pd.read_csv('../input/train.csv')\n",
        "train.head()"
      ]
    },
    {
      "cell_type": "code",
      "execution_count": null,
      "metadata": {
        "_cell_guid": "53ae3665-dd76-9471-c4de-593e05d096b7"
      },
      "outputs": [],
      "source": [
        "test = pd.read_csv('../input/test.csv')\n",
        "test.head()"
      ]
    },
    {
      "cell_type": "markdown",
      "metadata": {
        "_cell_guid": "edf88708-82d8-a7a8-5261-aa4430dda6a8"
      },
      "source": [
        "## word cloud and questions count"
      ]
    },
    {
      "cell_type": "code",
      "execution_count": null,
      "metadata": {
        "_cell_guid": "46498fb8-cd66-47bb-4f30-40298881954b"
      },
      "outputs": [],
      "source": [
        "def wordCloud(questions):\n",
        "    wordcloud = WordCloud(stopwords=STOPWORDS,\n",
        "                          background_color='white',\n",
        "                          width=1200,\n",
        "                          height=800\n",
        "                         ).generate(str(questions))\n",
        "\n",
        "\n",
        "    plt.imshow(wordcloud)\n",
        "    plt.axis('off')\n",
        "    plt.show()\n",
        "    \n",
        "questions = np.append(train[\"question1\"].values,train[\"question2\"].values)\n",
        "not_duplicate=np.append(train.question1[train['is_duplicate'] == 0],\n",
        "          train.question2[train['is_duplicate'] == 0])\n",
        "duplicate=np.append(train.question1[train['is_duplicate'] == 1],\n",
        "          train.question2[train['is_duplicate'] == 1])\n",
        "\n",
        "print (\"No of questions -> \",questions.shape)\n",
        "print (\"No of not duplicate questions -> \",not_duplicate.shape)\n",
        "print (\"No of duplicate questions -> \",duplicate.shape)\n",
        "\n",
        "# Data to plot\n",
        "labels = 'Duplicate', 'Not duplicate'\n",
        "sizes = [duplicate.shape[0],not_duplicate.shape[0]]\n",
        "colors = ['gold', 'yellowgreen']\n",
        "explode = (0.05, 0)  \n",
        "# Plot\n",
        "plt.pie(sizes, explode=explode, labels=labels, colors=colors,\n",
        "        autopct='%1.1f%%', shadow=True, startangle=80)\n",
        "plt.axis('equal')\n",
        "plt.show()\n",
        "\n",
        "wordCloud(questions)\n",
        "wordCloud(not_duplicate)\n",
        "wordCloud(duplicate)"
      ]
    },
    {
      "cell_type": "markdown",
      "metadata": {
        "_cell_guid": "b77cff59-dcd8-1045-5b4e-5f216acd3a5a"
      },
      "source": [
        "##understanding questions "
      ]
    },
    {
      "cell_type": "code",
      "execution_count": null,
      "metadata": {
        "_cell_guid": "ed2ddf02-b8cb-0135-6167-3132382d2326"
      },
      "outputs": [],
      "source": [
        "not_duplicate "
      ]
    }
  ],
  "metadata": {
    "_change_revision": 0,
    "_is_fork": false,
    "kernelspec": {
      "display_name": "Python 3",
      "language": "python",
      "name": "python3"
    },
    "language_info": {
      "codemirror_mode": {
        "name": "ipython",
        "version": 3
      },
      "file_extension": ".py",
      "mimetype": "text/x-python",
      "name": "python",
      "nbconvert_exporter": "python",
      "pygments_lexer": "ipython3",
      "version": "3.6.0"
    }
  },
  "nbformat": 4,
  "nbformat_minor": 0
}