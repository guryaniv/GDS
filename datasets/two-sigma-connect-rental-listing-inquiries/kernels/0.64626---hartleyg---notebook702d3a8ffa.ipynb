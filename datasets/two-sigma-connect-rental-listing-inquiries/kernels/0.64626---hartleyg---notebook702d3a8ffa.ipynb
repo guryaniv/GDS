{
  "cells": [
    {
      "cell_type": "code",
      "execution_count": null,
      "metadata": {
        "_cell_guid": "535b21a1-3e3e-fcc1-7c60-6618a4757512"
      },
      "outputs": [],
      "source": [
        "train['display_address'] = train['display_address'].apply(lambda x: x.strip(\".\"))\n",
        "train['display_address']  = train['display_address'].apply(lambda x: x.lower())\n",
        "ga = train.groupby(['display_address'])['display_address'].count().fillna(0)\n",
        "ga = pd.DataFrame(ga)\n",
        "ga.columns = ['display_count']\n",
        "ga['display_address'] = ga.index\n",
        "ga.loc[ga['display_address'] == '','display_count'] = 0\n",
        "pd.DataFrame(ga)"
      ]
    },
    {
      "cell_type": "code",
      "execution_count": null,
      "metadata": {
        "_cell_guid": "0dcec814-5ab7-50a2-a9ad-8e9cde709d01"
      },
      "outputs": [],
      "source": [
        "null"
      ]
    },
    {
      "cell_type": "code",
      "execution_count": null,
      "metadata": {
        "_cell_guid": "5fbe6666-5b82-c96d-0078-f9a6f52d20ad"
      },
      "outputs": [],
      "source": [
        "# This Python 3 environment comes with many helpful analytics libraries installed\n",
        "# It is defined by the kaggle/python docker image: https://github.com/kaggle/docker-python\n",
        "# For example, here's several helpful packages to load in \n",
        "\n",
        "import numpy as np # linear algebra\n",
        "import pandas as pd # data processing, CSV file I/O (e.g. pd.read_csv)\n",
        "from sklearn.ensemble import GradientBoostingClassifier\n",
        "from sklearn.metrics import log_loss\n",
        "from sklearn.model_selection import train_test_split\n",
        "\n",
        "\n",
        "# Input data files are available in the \"../input/\" directory.\n",
        "# For example, running this (by clicking run or pressing Shift+Enter) will list the files in the input directory\n",
        "\n",
        "from subprocess import check_output\n",
        "print(check_output([\"ls\", \"../input\"]).decode(\"utf8\"))\n",
        "\n",
        "# Any results you write to the current directory are saved as output."
      ]
    },
    {
      "cell_type": "code",
      "execution_count": null,
      "metadata": {
        "_cell_guid": "6344c706-ebc6-ca4a-4723-8d8edfbc3c13"
      },
      "outputs": [],
      "source": [
        "train = pd.read_json('../input/train.json')\n",
        "### and test if everything OK\n",
        "train.head()"
      ]
    },
    {
      "cell_type": "code",
      "execution_count": null,
      "metadata": {
        "_cell_guid": "a53a20ac-1bea-44a4-3a35-93bb99568e33"
      },
      "outputs": [],
      "source": [
        "train['num_photos'] = train['photos'].apply(len)\n",
        "train['num_features'] = train['features'].apply(len)\n",
        "train['num_description_words'] = train['description'].apply(lambda x: len(x.split(' ')))\n",
        "train['rooms'] = train['bathrooms'] + train['bedrooms']\n",
        "\n",
        "ulimit = np.percentile(train.price.values, 99)\n",
        "train['price'].loc[train['price']>ulimit] = ulimit\n",
        "train['rooms_per_price'] = train['rooms']/train['price']\n",
        "train = train[train['bedrooms'] > 0]\n",
        "train['bath_per_beds'] = train['bathrooms']/train['bedrooms']\n",
        "train.loc[train['bath_per_beds'] > 999999999999,'bath_per_beds'] = 0"
      ]
    },
    {
      "cell_type": "code",
      "execution_count": null,
      "metadata": {
        "_cell_guid": "fe6930c6-8a5c-af79-79ab-168210bacf80"
      },
      "outputs": [],
      "source": [
        "train['display_address'] = train['display_address'].apply(lambda x: x.strip(\".\"))\n",
        "train['display_address']  = train['display_address'].apply(lambda x: x.lower())\n",
        "ga = train.groupby(['display_address'])['display_address'].count().fillna(0)\n",
        "ga = pd.DataFrame(ga)\n",
        "ga.columns = ['display_count']\n",
        "ga['display_address'] = ga.index\n",
        "ga.loc[ga['display_address'] == '','display_count'] = 0\n",
        "pd.DataFrame(ga)"
      ]
    },
    {
      "cell_type": "code",
      "execution_count": null,
      "metadata": {
        "_cell_guid": "c1385d40-9bc1-86d8-9190-a5b2b2deb348"
      },
      "outputs": [],
      "source": [
        "grouped_building = train.groupby(\n",
        "                           ['building_id']\n",
        "                          )['building_id'].count().fillna(0)\n",
        "grouped_building = pd.DataFrame(grouped_building)\n",
        "grouped_building.columns = ['building_count']\n",
        "grouped_building['building_id'] = grouped_building.index\n",
        "grouped_building.loc[grouped_building['building_id'] == '0','building_count'] = 0\n",
        "train = pd.merge(train,grouped_building,on='building_id')\n",
        "\n",
        "gm = train.groupby(\n",
        "                           ['manager_id']\n",
        "                          )['manager_id'].count().fillna(0)\n",
        "gm = pd.DataFrame(gm)\n",
        "gm.columns = ['manager_count']\n",
        "gm['manager_id'] = gm.index\n",
        "gm.loc[gm['manager_id'] == '0','manager_count'] = 0\n",
        "train = pd.merge(train,gm,on='manager_id')\n",
        "\n",
        "train['display_address'] = train['display_address'].apply(lambda x: x.strip(\".\"))\n",
        "train['display_address']  = train['display_address'].apply(lambda x: x.lower())\n",
        "ga = train.groupby(['display_address'])['display_address'].count().fillna(0)\n",
        "ga = pd.DataFrame(ga)\n",
        "ga.columns = ['display_count']\n",
        "ga['display_address'] = ga.index\n",
        "ga.loc[ga['display_address'] == '','display_count'] = 0\n",
        "\n",
        "train = pd.merge(train,ga,on='display_address')"
      ]
    },
    {
      "cell_type": "code",
      "execution_count": null,
      "metadata": {
        "_cell_guid": "41a25428-df93-2a11-4afe-ee57ee625e67"
      },
      "outputs": [],
      "source": [
        "labels = train['interest_level']\n",
        "target_num_map = {'high':0, 'medium':1, 'low':2}\n",
        "labels = np.array(labels.apply(lambda x: target_num_map[x]))\n",
        "train['labels'] = labels"
      ]
    },
    {
      "cell_type": "code",
      "execution_count": null,
      "metadata": {
        "_cell_guid": "9cb4de49-0c03-c311-c1ac-350ef0cf0605"
      },
      "outputs": [],
      "source": [
        "X  = train[['bathrooms','bedrooms','price','num_photos',\n",
        "            'num_features','num_description_words','rooms','rooms_per_price',\n",
        "            'bath_per_beds','latitude','longitude','building_count','manager_count','display_count']]\n",
        "y = train['labels']\n",
        "X_train, X_test, y_train, y_test = train_test_split(X, y, test_size=0.3, \n",
        "                                                    random_state=7)"
      ]
    },
    {
      "cell_type": "code",
      "execution_count": null,
      "metadata": {
        "_cell_guid": "761adede-81c7-2590-75a9-427e0866afe0"
      },
      "outputs": [],
      "source": [
        "gbc = GradientBoostingClassifier(loss='deviance', learning_rate=0.05, n_estimators=600, \n",
        "                                  subsample=1.0, criterion='friedman_mse', min_samples_split=2, \n",
        "                                  min_samples_leaf=1, min_weight_fraction_leaf=0.0, \n",
        "                                  max_depth=5, init=None, random_state=None, \n",
        "                                  max_features=None, verbose=0, max_leaf_nodes=None, warm_start=False, \n",
        "                                  presort='auto')\n",
        "gbc.fit(X,y)\n",
        "out = gbc.predict_proba(X_test)"
      ]
    },
    {
      "cell_type": "code",
      "execution_count": null,
      "metadata": {
        "_cell_guid": "59c3cb37-7d50-2a5b-33cb-2f2cf565e63a"
      },
      "outputs": [],
      "source": [
        "print(log_loss(y_test,out))"
      ]
    },
    {
      "cell_type": "code",
      "execution_count": null,
      "metadata": {
        "_cell_guid": "41ac87fe-d704-f39a-380b-48deb40cc3a1"
      },
      "outputs": [],
      "source": [
        "test = pd.read_json('../input/test.json')\n",
        "test['num_photos'] = test['photos'].apply(len)\n",
        "test['num_features'] = test['features'].apply(len)\n",
        "test['num_description_words'] = test['description'].apply(lambda x: len(x.split(' ')))\n",
        "test['price'].loc[test['price']>ulimit] = ulimit\n",
        "test['rooms'] = test['bathrooms'] + test['bedrooms']\n",
        "test['room_per_price'] = test['rooms']/test['price']\n",
        "test['bath_per_beds'] = train['bathrooms']/train['bedrooms']\n",
        "test.loc[test['bath_per_beds'] > 999999999999,'bath_per_beds'] = 0\n",
        "\n",
        "grouped_building = test.groupby(\n",
        "                           ['building_id']\n",
        "                          )['building_id'].count().fillna(0)\n",
        "grouped_building = pd.DataFrame(grouped_building)\n",
        "grouped_building.columns = ['building_count']\n",
        "grouped_building['building_id'] = grouped_building.index\n",
        "grouped_building.loc[grouped_building['building_id'] == '0','building_count'] = 0\n",
        "test = pd.merge(test,grouped_building,on='building_id')\n",
        "\n",
        "gm = test.groupby(\n",
        "                           ['manager_id']\n",
        "                          )['manager_id'].count().fillna(0)\n",
        "gm = pd.DataFrame(gm)\n",
        "gm.columns = ['manager_count']\n",
        "gm['manager_id'] = gm.index\n",
        "gm.loc[gm['manager_id'] == '0','manager_count'] = 0\n",
        "test = pd.merge(test,gm,on='manager_id')\n",
        "\n",
        "test['display_address'] = test['display_address'].apply(lambda x: x.strip(\".\"))\n",
        "test['display_address'] = test['display_address'].apply(lambda x: x.lower())\n",
        "ga = test.groupby(['display_address'])['display_address'].count().fillna(0)\n",
        "ga = pd.DataFrame(ga)\n",
        "ga.columns = ['display_count']\n",
        "ga['display_address'] = ga.index\n",
        "ga.loc[ga['display_address'] == '','display_count'] = 0\n",
        "test = pd.merge(test,ga,on='display_address')\n",
        "\n",
        "X  = test[['bathrooms','bedrooms','price','num_photos',\n",
        "            'num_features','num_description_words','rooms','room_per_price',\n",
        "            'bath_per_beds','latitude','longitude','building_count','manager_count','display_count']]\n",
        "\n",
        "lists = test['listing_id']\n",
        "test = test.drop(['listing_id'],axis=1)"
      ]
    },
    {
      "cell_type": "code",
      "execution_count": null,
      "metadata": {
        "_cell_guid": "cd1f93a7-7f43-6fe6-e114-9445bf4df24b"
      },
      "outputs": [],
      "source": [
        "\n",
        "test.loc[test['bedrooms'] == 0,'bath_per_beds'] = 0\n",
        "X  = test[['bathrooms','bedrooms','price','num_photos',\n",
        "            'num_features','num_description_words','rooms','room_per_price',\n",
        "            'bath_per_beds','latitude','longitude','building_count','manager_count','display_count']]\n",
        "X = X.fillna(0)"
      ]
    },
    {
      "cell_type": "code",
      "execution_count": null,
      "metadata": {
        "_cell_guid": "f008ceba-c7dc-62b1-678b-cdf0a7c47904"
      },
      "outputs": [],
      "source": [
        "out = gbc.predict_proba(X)"
      ]
    },
    {
      "cell_type": "code",
      "execution_count": null,
      "metadata": {
        "_cell_guid": "cdde4b6b-9d5b-fdb3-04c0-6e1a016a01d9"
      },
      "outputs": [],
      "source": [
        "res = []\n",
        "ls = np.array(lists, dtype=pd.Series)\n",
        "for i,row in enumerate(out):\n",
        "    res.append(np.insert(row,0,int(ls[i])))"
      ]
    },
    {
      "cell_type": "code",
      "execution_count": null,
      "metadata": {
        "_cell_guid": "0ec26d5f-ad31-e211-83fe-1ba92ef2ae15"
      },
      "outputs": [],
      "source": [
        "out_df = pd.DataFrame(res)\n",
        "out_df.columns = [\"listing_id\", \"high\", \"medium\", \"low\"]\n",
        "out_df['listing_id'] = out_df['listing_id'].astype(\"int\")\n",
        "out_df.to_csv(\"gbc_start.csv\", index=False)"
      ]
    },
    {
      "cell_type": "code",
      "execution_count": null,
      "metadata": {
        "_cell_guid": "50fb0fe5-b9ff-1d97-76b8-3b84c39e50db"
      },
      "outputs": [],
      "source": ""
    },
    {
      "cell_type": "code",
      "execution_count": null,
      "metadata": {
        "_cell_guid": "08dd5282-cdf4-86f0-f2e1-c54fd8ff0443"
      },
      "outputs": [],
      "source": ""
    }
  ],
  "metadata": {
    "_change_revision": 0,
    "_is_fork": false,
    "kernelspec": {
      "display_name": "Python 3",
      "language": "python",
      "name": "python3"
    },
    "language_info": {
      "codemirror_mode": {
        "name": "ipython",
        "version": 3
      },
      "file_extension": ".py",
      "mimetype": "text/x-python",
      "name": "python",
      "nbconvert_exporter": "python",
      "pygments_lexer": "ipython3",
      "version": "3.6.0"
    }
  },
  "nbformat": 4,
  "nbformat_minor": 0
}