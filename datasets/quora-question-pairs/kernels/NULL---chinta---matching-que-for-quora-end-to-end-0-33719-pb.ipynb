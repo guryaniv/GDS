{
  "cells": [
    {
      "cell_type": "code",
      "execution_count": null,
      "metadata": {
        "_cell_guid": "4b29202d-9d1b-7272-13e6-c93d408ce5fe"
      },
      "outputs": [],
      "source": [
        "import pandas as pd\n",
        "import numpy as np\n",
        "import nltk\n",
        "from collections import Counter\n",
        "from nltk.corpus import stopwords\n",
        "from sklearn.metrics import log_loss\n",
        "from sklearn.feature_extraction.text import TfidfVectorizer, CountVectorizer\n",
        "from scipy.optimize import minimize\n",
        "stops = set(stopwords.words(\"english\"))\n",
        "import xgboost as xgb\n",
        "from sklearn.cross_validation import train_test_split\n",
        "import multiprocessing\n",
        "import difflib\n",
        "\n",
        "train = pd.read_csv('../input/train.csv')[:10000]\n",
        "test = pd.read_csv('../input/test.csv')[:10000]\n",
        "\n",
        "tfidf = TfidfVectorizer(stop_words='english', ngram_range=(1, 1))\n",
        "#cvect = CountVectorizer(stop_words='english', ngram_range=(1, 1))\n",
        "\n",
        "tfidf_txt = pd.Series(train['question1'].tolist() + train['question2'].tolist() + test['question1'].tolist() + test['question2'].tolist()).astype(str)\n",
        "tfidf.fit_transform(tfidf_txt)\n",
        "#cvect.fit_transform(tfidf_txt)\n",
        "\n",
        "def diff_ratios(st1, st2):\n",
        "    seq = difflib.SequenceMatcher()\n",
        "    seq.set_seqs(str(st1).lower(), str(st2).lower())\n",
        "    return seq.ratio()\n",
        "\n",
        "def word_match_share(row):\n",
        "    q1words = {}\n",
        "    q2words = {}\n",
        "    for word in str(row['question1']).lower().split():\n",
        "        if word not in stops:\n",
        "            q1words[word] = 1\n",
        "    for word in str(row['question2']).lower().split():\n",
        "        if word not in stops:\n",
        "            q2words[word] = 1\n",
        "    if len(q1words) == 0 or len(q2words) == 0:\n",
        "        return 0\n",
        "    shared_words_in_q1 = [w for w in q1words.keys() if w in q2words]\n",
        "    shared_words_in_q2 = [w for w in q2words.keys() if w in q1words]\n",
        "    R = (len(shared_words_in_q1) + len(shared_words_in_q2))/(len(q1words) + len(q2words))\n",
        "    return R\n",
        "\n",
        "def get_features(df_features):\n",
        "    print('nouns...')\n",
        "    df_features['question1_nouns'] = df_features.question1.map(lambda x: [w for w, t in nltk.pos_tag(nltk.word_tokenize(str(x).lower())) if t[:1] in ['N']])\n",
        "    df_features['question2_nouns'] = df_features.question2.map(lambda x: [w for w, t in nltk.pos_tag(nltk.word_tokenize(str(x).lower())) if t[:1] in ['N']])\n",
        "    df_features['z_noun_match'] = df_features.apply(lambda r: sum([1 for w in r.question1_nouns if w in r.question2_nouns]), axis=1)  #takes long\n",
        "    print('lengths...')\n",
        "    df_features['z_len1'] = df_features.question1.map(lambda x: len(str(x)))\n",
        "    df_features['z_len2'] = df_features.question2.map(lambda x: len(str(x)))\n",
        "    df_features['z_word_len1'] = df_features.question1.map(lambda x: len(str(x).split()))\n",
        "    df_features['z_word_len2'] = df_features.question2.map(lambda x: len(str(x).split()))\n",
        "    print('difflib...')\n",
        "    df_features['z_match_ratio'] = df_features.apply(lambda r: diff_ratios(r.question1, r.question2), axis=1)  #takes long\n",
        "    print('word match...')\n",
        "    df_features['z_word_match'] = df_features.apply(word_match_share, axis=1, raw=True)\n",
        "    print('tfidf...')\n",
        "    df_features['z_tfidf_sum1'] = df_features.question1.map(lambda x: np.sum(tfidf.transform([str(x)]).data))\n",
        "    df_features['z_tfidf_sum2'] = df_features.question2.map(lambda x: np.sum(tfidf.transform([str(x)]).data))\n",
        "    df_features['z_tfidf_mean1'] = df_features.question1.map(lambda x: np.mean(tfidf.transform([str(x)]).data))\n",
        "    df_features['z_tfidf_mean2'] = df_features.question2.map(lambda x: np.mean(tfidf.transform([str(x)]).data))\n",
        "    df_features['z_tfidf_len1'] = df_features.question1.map(lambda x: len(tfidf.transform([str(x)]).data))\n",
        "    df_features['z_tfidf_len2'] = df_features.question2.map(lambda x: len(tfidf.transform([str(x)]).data))\n",
        "    return df_features.fillna(0.0)\n",
        "\n",
        "train = get_features(train)\n",
        "train.to_csv('train.csv', index=False)\n",
        "\n",
        "test = get_features(test)\n",
        "test.to_csv('test.csv', index=False)"
      ]
    },
    {
      "cell_type": "code",
      "execution_count": null,
      "metadata": {
        "_cell_guid": "ca1e2fee-1dd8-80ef-e3a3-ac995b257fa7"
      },
      "outputs": [],
      "source": [
        "import matplotlib.pyplot as plt\n",
        "import seaborn as sns\n",
        "%matplotlib inline\n",
        "\n",
        "plt.rcParams['figure.figsize'] = (7.0, 7.0)\n",
        "xgb.plot_importance(bst); plt.show()"
      ]
    },
    {
      "cell_type": "code",
      "execution_count": null,
      "metadata": {
        "_cell_guid": "a74702ae-a6ff-6873-03e0-77f1464ad967"
      },
      "outputs": [],
      "source": [
        "plt.rcParams['figure.figsize'] = (20.0, 20.0)\n",
        "xgb.plot_tree(bst, num_trees=0); plt.show()"
      ]
    }
  ],
  "metadata": {
    "_change_revision": 0,
    "_is_fork": false,
    "kernelspec": {
      "display_name": "Python 3",
      "language": "python",
      "name": "python3"
    },
    "language_info": {
      "codemirror_mode": {
        "name": "ipython",
        "version": 3
      },
      "file_extension": ".py",
      "mimetype": "text/x-python",
      "name": "python",
      "nbconvert_exporter": "python",
      "pygments_lexer": "ipython3",
      "version": "3.6.0"
    }
  },
  "nbformat": 4,
  "nbformat_minor": 0
}