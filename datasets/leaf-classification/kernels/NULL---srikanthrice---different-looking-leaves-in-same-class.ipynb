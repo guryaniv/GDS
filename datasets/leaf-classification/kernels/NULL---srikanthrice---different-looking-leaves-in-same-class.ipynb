{
  "cells": [
    {
      "cell_type": "markdown",
      "metadata": {
        "_cell_guid": "12437689-ac52-a07e-cbd0-105b1b705f42"
      },
      "source": [
        "Hi, \n",
        "    I have recently started looking at the dataset. I plotted images of leaves belonging to the same class and observed that they look different. Am I doing anything wrong?\n",
        "\n",
        "Note : Thanks to Lorinc and Jeff. I have used chunks of their codes here."
      ]
    },
    {
      "cell_type": "code",
      "execution_count": null,
      "metadata": {
        "_cell_guid": "d70d23bd-5058-c19a-2bc8-ae9575bdd901"
      },
      "outputs": [],
      "source": [
        "import numpy as np\n",
        "import matplotlib.pyplot as plt\n",
        "import pandas as pd\n",
        "import matplotlib.image as mpimg\n",
        "from sklearn.preprocessing import LabelEncoder"
      ]
    },
    {
      "cell_type": "code",
      "execution_count": null,
      "metadata": {
        "_cell_guid": "7657a63e-855f-f4fa-9e3e-d22f9ce2643c"
      },
      "outputs": [],
      "source": [
        "#Reading data\n",
        "train = pd.read_csv('../input/train.csv')\n",
        "test = pd.read_csv('../input/test.csv')\n",
        "#tr = np.matrix(tr)\n",
        "#ts = np.matrix(ts)\n",
        "import glob\n",
        "im_list = []\n",
        "for file in glob.glob('../input/images/*.jpg'):\n",
        "    im = mpimg.imread(file)\n",
        "    im_list.append(im)\n",
        "def encode(train, test):\n",
        "    le = LabelEncoder().fit(train.species) \n",
        "    labels = le.transform(train.species)           # encode species strings\n",
        "    classes = list(le.classes_)                    # save column names for submission\n",
        "    test_ids = test.id                             # save test ids for submission\n",
        "    \n",
        "    #train = train.drop(['species', 'id'], axis=1)  \n",
        "    #test = test.drop(['id'], axis=1)\n",
        "    \n",
        "    return train, labels, test, test_ids, classes\n",
        "\n",
        "train, labels, test, test_ids, classes = encode(train, test)"
      ]
    },
    {
      "cell_type": "code",
      "execution_count": null,
      "metadata": {
        "_cell_guid": "b8e2c9ea-6bd1-986e-0b4e-83b5be0a9056"
      },
      "outputs": [],
      "source": [
        "#Class corresponding to label = 1 is Acer_Circinatum\n",
        "print(classes[1])\n",
        "lab = np.where( labels == 1 )\n",
        "print('Indices = ',lab[0])\n",
        "ids = train['id'][lab[0]]\n",
        "print('Corresponding image IDs:')\n",
        "print(ids )\n",
        "count = 0\n",
        "for i in ids:\n",
        "    plt.figure(count)\n",
        "    plt.imshow( im_list[i] )\n",
        "    count = count+1"
      ]
    },
    {
      "cell_type": "markdown",
      "metadata": {
        "_cell_guid": "fa2aa29f-d4b9-4398-40d3-c1b2f5000835"
      },
      "source": [
        "**We observe that the leaves dont look similar. Why does this happen?**"
      ]
    }
  ],
  "metadata": {
    "_change_revision": 0,
    "_is_fork": false,
    "kernelspec": {
      "display_name": "Python 3",
      "language": "python",
      "name": "python3"
    },
    "language_info": {
      "codemirror_mode": {
        "name": "ipython",
        "version": 3
      },
      "file_extension": ".py",
      "mimetype": "text/x-python",
      "name": "python",
      "nbconvert_exporter": "python",
      "pygments_lexer": "ipython3",
      "version": "3.5.2"
    }
  },
  "nbformat": 4,
  "nbformat_minor": 0
}