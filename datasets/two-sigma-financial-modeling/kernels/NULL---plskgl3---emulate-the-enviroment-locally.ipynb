{
  "cells": [
    {
      "cell_type": "markdown",
      "metadata": {
        "_cell_guid": "a2ca6e68-6134-9662-44f9-15585f718b27"
      },
      "source": [
        "The purpose of this work is to emulate the environment locally. The following implements a class emulates the behavior."
      ]
    },
    {
      "cell_type": "code",
      "execution_count": null,
      "metadata": {
        "_cell_guid": "c7e786fc-9488-108b-87ca-6e9ac40df1f8"
      },
      "outputs": [],
      "source": [
        "#This code comes with ABSOLUTELY NO WARRANTY\n",
        "class GaussianObservation:\n",
        "        def __init__(self, filename):\n",
        "                import pandas as pd\n",
        "                with pd.HDFStore(filename, \"r\") as train:\n",
        "                    self.trainh5= train.get(\"train\")\n",
        "                \n",
        "        def reset(self):\n",
        "                self.train = self.trainh5[self.trainh5[\"timestamp\"]<=905]\n",
        "                valid = self.trainh5[self.trainh5[\"timestamp\"]>905]\n",
        "                yval = valid['y']\n",
        "                yval.reset_index(drop=True,inplace=True)\n",
        "                yval = ((yval - yval.mean())**2).sum()\n",
        "                self.ssq=yval\n",
        "                self.validgroupby = valid.groupby(\"timestamp\")\n",
        "                self.features = self.validgroupby.get_group(906)\n",
        "                self.features = self.features.iloc[:,0:109]\n",
        "                self.target = self.validgroupby.get_group(906)[['id','y']]\n",
        "                self.target['y'] = 0.0;\n",
        "                self.features.reset_index(drop=True,inplace=True)\n",
        "                self.target.reset_index(drop=True,inplace=True)\n",
        "                self.currenttime=906;\n",
        "                self.sse = 0\n",
        "                self.done = False\n",
        "                self.info = {}\n",
        "                return self\n",
        "\n",
        "        def step(self,target):\n",
        "                import math\n",
        "                if self.done:\n",
        "                       return self, math.nan, True, self.info\n",
        "                pred = target['y']\n",
        "                yval = self.validgroupby.get_group(self.currenttime)['y']\n",
        "                yval.reset_index(drop=True,inplace=True)\n",
        "                dnom = ((yval - yval.mean())**2).sum()\n",
        "                num = ((yval - pred)**2).sum()\n",
        "                self.sse=self.sse+num\n",
        "                r2 = 1-num/dnom\n",
        "                reward = math.sqrt(math.fabs(r2))\n",
        "                if r2<0:\n",
        "                        reward = -reward\n",
        "                self.train=None\n",
        "                if self.currenttime<1812:\n",
        "                        self.features = self.validgroupby.get_group(self.currenttime+1)\n",
        "                        self.features = self.features.iloc[:,0:109]\n",
        "                        self.target = self.validgroupby.get_group(self.currenttime+1)[['id','y']]\n",
        "                        self.target['y'] = 0.0;\n",
        "                        self.features.reset_index(drop=True,inplace=True)\n",
        "                        self.target.reset_index(drop=True,inplace=True)\n",
        "                else:\n",
        "                        self.done = True\n",
        "                self.currenttime=self.currenttime+1\n",
        "                self.info = {}\n",
        "                if self.done:\n",
        "                        r2 = 1-self.sse/self.ssq\n",
        "                        score = math.sqrt(math.fabs(r2))\n",
        "                        if r2<0:\n",
        "                                score = -score\n",
        "                        self.info['public_score']=score\n",
        "                return self, reward, self.done, self.info"
      ]
    },
    {
      "cell_type": "markdown",
      "metadata": {
        "_cell_guid": "114d1903-6031-bad8-5180-57d9338ce0b0"
      },
      "source": [
        "To use it, the only difference is the instantiation. A dry run with prediction=0 shows the accuracy."
      ]
    },
    {
      "cell_type": "code",
      "execution_count": null,
      "metadata": {
        "_cell_guid": "b201f785-dbe4-8e37-e061-3c5245660344"
      },
      "outputs": [],
      "source": [
        "#env = kagglegym.make()\n",
        "env = GaussianObservation(\"../input/train.h5\")\n",
        "observation = env.reset()\n",
        "while True:\n",
        "    target = observation.target\n",
        "    timestamp = observation.features[\"timestamp\"][0]\n",
        "    observation, reward, done, info = env.step(target)\n",
        "    if timestamp % 100 == 0:\n",
        "        print(\"Timestamp {0} reward {1}\".format(timestamp,reward))\n",
        "    if done:\n",
        "        print(\"Public score: {}\".format(info[\"public_score\"]))\n",
        "        break\n",
        "\n",
        "#kagglegym numbers\n",
        "print(\"===================================\")\n",
        "import kagglegym\n",
        "import numpy as np\n",
        "import pandas as pd\n",
        "env = kagglegym.make()\n",
        "observation = env.reset()\n",
        "while True:\n",
        "    target = observation.target\n",
        "    timestamp = observation.features[\"timestamp\"][0]\n",
        "    observation, reward, done, info = env.step(target)\n",
        "    if timestamp % 100 == 0:\n",
        "        print(\"Timestamp {0} reward {1}\".format(timestamp,reward))\n",
        "    if done:\n",
        "        print(\"Public score: {}\".format(info[\"public_score\"]))\n",
        "        break\n"
      ]
    }
  ],
  "metadata": {
    "_change_revision": 0,
    "_is_fork": false,
    "kernelspec": {
      "display_name": "Python 3",
      "language": "python",
      "name": "python3"
    },
    "language_info": {
      "codemirror_mode": {
        "name": "ipython",
        "version": 3
      },
      "file_extension": ".py",
      "mimetype": "text/x-python",
      "name": "python",
      "nbconvert_exporter": "python",
      "pygments_lexer": "ipython3",
      "version": "3.5.2"
    }
  },
  "nbformat": 4,
  "nbformat_minor": 0
}