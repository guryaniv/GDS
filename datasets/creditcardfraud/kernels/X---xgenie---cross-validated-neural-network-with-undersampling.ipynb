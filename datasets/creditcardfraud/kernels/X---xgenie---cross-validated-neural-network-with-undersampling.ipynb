{
  "metadata": {
    "kernelspec": {
      "display_name": "Python 3",
      "language": "python",
      "name": "python3"
    },
    "language_info": {
      "codemirror_mode": {
        "name": "ipython",
        "version": 3
      },
      "file_extension": ".py",
      "mimetype": "text/x-python",
      "name": "python",
      "nbconvert_exporter": "python",
      "pygments_lexer": "ipython3",
      "version": "3.5.2"
    }
  },
  "nbformat": 4,
  "nbformat_minor": 0,
  "cells": [
    {
      "metadata": {
        "_cell_guid": "5ea72f09-4346-72de-4c4e-2094aed68b70",
        "_active": false,
        "collapsed": false
      },
      "source": "# This Python 3 environment comes with many helpful analytics libraries installed\n# It is defined by the kaggle/python docker image: https://github.com/kaggle/docker-python\n# For example, here's several helpful packages to load in \n\nimport numpy as np # linear algebra\nimport pandas as pd # data processing, CSV file I/O (e.g. pd.read_csv)\n\n## Load The Dataset\ncredit_cards_raw = pd.read_csv(\"../input/creditcard.csv\")\n\n## Exploration\ncredit_cards_raw.shape[0]",
      "execution_count": 1,
      "cell_type": "code",
      "outputs": [],
      "execution_state": "idle"
    },
    {
      "metadata": {
        "_cell_guid": "c499e60e-696d-9cd0-f020-d1101d60ea5f",
        "_active": true,
        "collapsed": false
      },
      "source": "## Exploration\ncredit_cards_raw.shape[0]\ncredit_cards_raw[credit_cards_raw[\"class\"]==1].shape",
      "execution_count": null,
      "cell_type": "code",
      "outputs": []
    }
  ]
}