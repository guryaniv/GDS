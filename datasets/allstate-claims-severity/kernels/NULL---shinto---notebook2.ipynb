{
  "cells": [
    {
      "cell_type": "markdown",
      "metadata": {
        "_cell_guid": "563b503b-519d-13c9-c520-4650496cf736"
      },
      "source": [
        "Based on [Stacking Starter][1] by [Faron][2]\n",
        "\n",
        "\n",
        "  [1]: https://www.kaggle.com/mmueller/allstate-claims-severity/stacking-starter/run/390867\n",
        "  [2]: https://www.kaggle.com/mmueller"
      ]
    },
    {
      "cell_type": "code",
      "execution_count": null,
      "metadata": {
        "_cell_guid": "9373a4ec-59ad-3371-ea02-b02634c8a30b"
      },
      "outputs": [],
      "source": [
        "import numpy as np # linear algebra\n",
        "import pandas as pd # data processing, CSV file I/O (e.g. pd.read_csv)\n",
        "train_set = pd.read_csv('../input/train.csv')\n",
        "test_set = pd.read_csv('../input/test.csv')\n",
        "train_set.shape, test_set.shape"
      ]
    },
    {
      "cell_type": "code",
      "execution_count": null,
      "metadata": {
        "_cell_guid": "c3a8e060-ea7f-2976-6861-c121d481214d"
      },
      "outputs": [],
      "source": [
        "train_set = pd.read_csv('../input/train.csv')\n",
        "test_set = pd.read_csv('../input/test.csv')\n",
        "train_set.shape, test_set.shape"
      ]
    },
    {
      "cell_type": "code",
      "execution_count": null,
      "metadata": {
        "_cell_guid": "5b8ad8c8-ae62-ece8-a09b-16dd9aa2c757"
      },
      "outputs": [],
      "source": [
        "#y_train = train_set['loss'].ravel()\n",
        "y_train = np.log(train_set['loss'].ravel())\n",
        "train_set['loss'].describe()"
      ]
    },
    {
      "cell_type": "code",
      "execution_count": null,
      "metadata": {
        "_cell_guid": "52d12d23-3c6a-6433-0f3a-2d7bc8da147f"
      },
      "outputs": [],
      "source": [
        "train = train_set.drop(['id','loss'], axis=1)\n",
        "test = test_set.drop(['id'], axis=1)\n",
        "train.shape, test.shape"
      ]
    },
    {
      "cell_type": "markdown",
      "metadata": {
        "_cell_guid": "1a9b1ff0-788e-ec24-77d0-5499ab07a4cc"
      },
      "source": [
        "# Preprocessing\n",
        "Combine test and train to a single dataframe"
      ]
    },
    {
      "cell_type": "code",
      "execution_count": null,
      "metadata": {
        "_cell_guid": "7249bc07-3c6c-6913-6951-4c4b9cf3b550"
      },
      "outputs": [],
      "source": [
        "train_test = pd.concat((train,test)).reset_index(drop=True)\n",
        "print(train_test.shape)"
      ]
    },
    {
      "cell_type": "markdown",
      "metadata": {
        "_cell_guid": "436620b0-3df6-d3dc-92d7-48695850f7ce"
      },
      "source": [
        "Names of categorical features starts with 'cat' and those of numerical features starts with 'cont'."
      ]
    },
    {
      "cell_type": "code",
      "execution_count": null,
      "metadata": {
        "_cell_guid": "a6597788-8e2a-b16b-2a28-ee7c3513fabb"
      },
      "outputs": [],
      "source": [
        "features = train.columns\n",
        "cats = [feat for feat in features if 'cat' in feat]\n",
        "len(cats)"
      ]
    },
    {
      "cell_type": "code",
      "execution_count": null,
      "metadata": {
        "_cell_guid": "7e10e46c-c24e-f752-eadc-73bc632644ce"
      },
      "outputs": [],
      "source": [
        "print(train_test['cat1'].value_counts())"
      ]
    },
    {
      "cell_type": "markdown",
      "metadata": {
        "_cell_guid": "2bc5e07e-c451-73f0-f050-459a43e5bfbf"
      },
      "source": [
        "Factorize the categorical features -  many machine learning tools only accept numbers as input. "
      ]
    },
    {
      "cell_type": "code",
      "execution_count": null,
      "metadata": {
        "_cell_guid": "fb13466f-cca9-031b-aa57-ad50451b593d"
      },
      "outputs": [],
      "source": [
        "for feat in cats:\n",
        "    train_test[feat] = pd.factorize(train_test[feat], sort=True)[0]\n",
        "    \n",
        "print(train_test['cat1'].value_counts())"
      ]
    },
    {
      "cell_type": "markdown",
      "metadata": {
        "_cell_guid": "a6bac6bf-4369-ad1f-c6aa-3b0815043e7e"
      },
      "source": [
        "Check continuous features"
      ]
    },
    {
      "cell_type": "code",
      "execution_count": null,
      "metadata": {
        "_cell_guid": "7f0bba9b-0ac2-07e9-bc14-04ca20588185"
      },
      "outputs": [],
      "source": [
        "conts = [feat for feat in features if 'cont' in feat]\n",
        "print(conts)"
      ]
    },
    {
      "cell_type": "code",
      "execution_count": null,
      "metadata": {
        "_cell_guid": "c1e6f310-ab16-43a1-43b2-8634e5c3f68e"
      },
      "outputs": [],
      "source": [
        "train_test[conts].describe()"
      ]
    },
    {
      "cell_type": "markdown",
      "metadata": {
        "_cell_guid": "241d148d-eb87-f4af-7cde-4091fb2691f8"
      },
      "source": [
        "Split back the test and train sets"
      ]
    },
    {
      "cell_type": "code",
      "execution_count": null,
      "metadata": {
        "_cell_guid": "efeaf630-4edf-4165-7c98-e97916c2012b"
      },
      "outputs": [],
      "source": [
        "ntrain = train.shape[0]\n",
        "x_train = np.array(train_test.iloc[:ntrain,:])\n",
        "x_test = np.array(train_test.iloc[ntrain:, :])"
      ]
    },
    {
      "cell_type": "code",
      "execution_count": null,
      "metadata": {
        "_cell_guid": "992b8c44-592f-eeb8-7895-717acb6d9fb4"
      },
      "outputs": [],
      "source": [
        "from sklearn.cross_validation import KFold\n",
        "seed = 0\n",
        "NFOLDS = 4\n",
        "kf = KFold(ntrain, n_folds=NFOLDS, shuffle=True, random_state=seed)"
      ]
    },
    {
      "cell_type": "code",
      "execution_count": null,
      "metadata": {
        "_cell_guid": "6e3f9c41-2a02-3527-fa1e-501b3abd410f"
      },
      "outputs": [],
      "source": [
        "import xgboost as xgb\n",
        "from sklearn.ensemble import ExtraTreesRegressor\n",
        "from sklearn.ensemble import RandomForestRegressor\n",
        "from sklearn.metrics import mean_absolute_error\n",
        "\n",
        "class SklearnWrapper(object):\n",
        "    def __init__(self, clf, seed=0, params=None):\n",
        "        params['random_state'] = seed\n",
        "        self.clf = clf(**params)\n",
        "\n",
        "    def train(self, x_train, y_train):\n",
        "        self.clf.fit(x_train, y_train)\n",
        "\n",
        "    def predict(self, x):\n",
        "        return self.clf.predict(x)\n",
        "\n",
        "\n",
        "class XgbWrapper(object):\n",
        "    def __init__(self, seed=0, params=None):\n",
        "        self.param = params\n",
        "        self.param['seed'] = seed\n",
        "        self.nrounds = params.pop('nrounds', 250)\n",
        "\n",
        "    def train(self, x_train, y_train):\n",
        "        dtrain = xgb.DMatrix(x_train, label=y_train)\n",
        "        self.gbdt = xgb.train(self.param, dtrain, self.nrounds)\n",
        "\n",
        "    def predict(self, x):\n",
        "        return self.gbdt.predict(xgb.DMatrix(x))\n",
        "\n",
        "\n",
        "def get_oof(clf):\n",
        "    oof_train = np.zeros((ntrain,))\n",
        "    oof_test = np.zeros((ntest,))\n",
        "    oof_test_skf = np.empty((NFOLDS, ntest))\n",
        "\n",
        "    for i, (train_index, test_index) in enumerate(kf):\n",
        "        x_tr = x_train[train_index]\n",
        "        y_tr = y_train[train_index]\n",
        "        x_te = x_train[test_index]\n",
        "\n",
        "        clf.train(x_tr, y_tr)\n",
        "\n",
        "        oof_train[test_index] = clf.predict(x_te)\n",
        "        oof_test_skf[i, :] = clf.predict(x_test)\n",
        "\n",
        "    oof_test[:] = oof_test_skf.mean(axis=0)\n",
        "    return oof_train.reshape(-1, 1), oof_test.reshape(-1, 1)"
      ]
    },
    {
      "cell_type": "code",
      "execution_count": null,
      "metadata": {
        "_cell_guid": "5530a33d-5a44-a291-4b01-1a19f06ec012"
      },
      "outputs": [],
      "source": [
        "et_params = {\n",
        "    'n_jobs': 16,\n",
        "    'n_estimators': 100,\n",
        "    'max_features': 0.5,\n",
        "    'max_depth': 12,\n",
        "    'min_samples_leaf': 2,\n",
        "}\n",
        "\n",
        "rf_params = {\n",
        "    'n_jobs': 16,\n",
        "    'n_estimators': 100,\n",
        "    'max_features': 0.2,\n",
        "    'max_depth': 8,\n",
        "    'min_samples_leaf': 2,\n",
        "}\n",
        "\n",
        "xgb_params = {\n",
        "    'seed': 0,\n",
        "    'colsample_bytree': 0.7,\n",
        "    'silent': 1,\n",
        "    'subsample': 0.7,\n",
        "    'learning_rate': 0.075,\n",
        "    'objective': 'reg:linear',\n",
        "    'max_depth': 7,\n",
        "    'num_parallel_tree': 1,\n",
        "    'min_child_weight': 1,\n",
        "    'eval_metric': 'mae',\n",
        "    'nrounds': 350\n",
        "}"
      ]
    },
    {
      "cell_type": "code",
      "execution_count": null,
      "metadata": {
        "_cell_guid": "cb80cdd5-8bfe-22f1-674d-33113230a308"
      },
      "outputs": [],
      "source": [
        "ntest = test.shape[0]\n",
        "xg = XgbWrapper(seed=seed, params=xgb_params)\n",
        "et = SklearnWrapper(clf=ExtraTreesRegressor, seed=seed, params=et_params)\n",
        "rf = SklearnWrapper(clf=RandomForestRegressor, seed=seed, params=rf_params)\n",
        "\n",
        "xg_oof_train, xg_oof_test = get_oof(xg)\n",
        "et_oof_train, et_oof_test = get_oof(et)\n",
        "rf_oof_train, rf_oof_test = get_oof(rf)\n",
        "\n",
        "print(\"XG-CV: {}\".format(mean_absolute_error(y_train, xg_oof_train)))\n",
        "print(\"ET-CV: {}\".format(mean_absolute_error(y_train, et_oof_train)))\n",
        "print(\"RF-CV: {}\".format(mean_absolute_error(y_train, rf_oof_train)))"
      ]
    },
    {
      "cell_type": "code",
      "execution_count": null,
      "metadata": {
        "_cell_guid": "b2309567-83c8-ef43-e282-03b4ba72cda1"
      },
      "outputs": [],
      "source": [
        "x_train = np.concatenate((xg_oof_train, et_oof_train, rf_oof_train), axis=1)\n",
        "x_test = np.concatenate((xg_oof_test, et_oof_test, rf_oof_test), axis=1)\n",
        "print(x_train.shape, x_test.shape)"
      ]
    },
    {
      "cell_type": "code",
      "execution_count": null,
      "metadata": {
        "_cell_guid": "20e0f0c9-c8fc-4b91-3469-83e97e47c82d"
      },
      "outputs": [],
      "source": [
        "x_train"
      ]
    },
    {
      "cell_type": "code",
      "execution_count": null,
      "metadata": {
        "_cell_guid": "0c9b3a06-7be4-45eb-74f5-3a837e9170a1"
      },
      "outputs": [],
      "source": [
        "dtrain = xgb.DMatrix(x_train, label=y_train)\n",
        "dtest = xgb.DMatrix(x_test)\n",
        "\n",
        "xgb_params = {\n",
        "    'seed': 0,\n",
        "    'colsample_bytree': 0.8,\n",
        "    'silent': 1,\n",
        "    'subsample': 0.6,\n",
        "    'learning_rate': 0.01,\n",
        "    'objective': 'reg:linear',\n",
        "    'max_depth': 4,\n",
        "    'num_parallel_tree': 1,\n",
        "    'min_child_weight': 1,\n",
        "    'eval_metric': 'mae',\n",
        "}\n",
        "\n",
        "res = xgb.cv(xgb_params, dtrain, num_boost_round=500, nfold=4, seed=seed, stratified=False,\n",
        "             early_stopping_rounds=25, verbose_eval=10, show_stdv=True)"
      ]
    },
    {
      "cell_type": "code",
      "execution_count": null,
      "metadata": {
        "_cell_guid": "5b5ef5c6-5501-722f-f0e4-6c051a086877"
      },
      "outputs": [],
      "source": [
        "best_nrounds = res.shape[0] - 1\n",
        "cv_mean = res.iloc[-1, 0]\n",
        "cv_std = res.iloc[-1, 1]\n",
        "\n",
        "print('Ensemble-CV: {0}+{1}'.format(cv_mean, cv_std))"
      ]
    },
    {
      "cell_type": "code",
      "execution_count": null,
      "metadata": {
        "_cell_guid": "eb7e5da3-d617-17fd-2b50-0cbd4dc51d57"
      },
      "outputs": [],
      "source": [
        "gbdt = xgb.train(xgb_params, dtrain, best_nrounds)"
      ]
    },
    {
      "cell_type": "code",
      "execution_count": null,
      "metadata": {
        "_cell_guid": "08a107ee-468e-6e5f-3037-36bab10ab887"
      },
      "outputs": [],
      "source": [
        "submission = pd.read_csv(\"../input/sample_submission.csv\")\n",
        "submission.iloc[:, 1] = np.exp(gbdt.predict(dtest))\n",
        "submission.to_csv('xgstacker_starter_log.sub.csv', index=None)"
      ]
    },
    {
      "cell_type": "code",
      "execution_count": null,
      "metadata": {
        "_cell_guid": "fa000bdd-5ae9-023b-cde7-f140d0679db0"
      },
      "outputs": [],
      "source": [
        "print(check_output([\"ls\", \".\"]).decode(\"utf8\"))"
      ]
    },
    {
      "cell_type": "code",
      "execution_count": null,
      "metadata": {
        "_cell_guid": "70f3eca3-7f56-e2aa-09c8-ebb836e98136"
      },
      "outputs": [],
      "source": [
        "submission.head()"
      ]
    }
  ],
  "metadata": {
    "_change_revision": 0,
    "_is_fork": false,
    "kernelspec": {
      "display_name": "Python 3",
      "language": "python",
      "name": "python3"
    },
    "language_info": {
      "codemirror_mode": {
        "name": "ipython",
        "version": 3
      },
      "file_extension": ".py",
      "mimetype": "text/x-python",
      "name": "python",
      "nbconvert_exporter": "python",
      "pygments_lexer": "ipython3",
      "version": "3.5.2"
    }
  },
  "nbformat": 4,
  "nbformat_minor": 0
}