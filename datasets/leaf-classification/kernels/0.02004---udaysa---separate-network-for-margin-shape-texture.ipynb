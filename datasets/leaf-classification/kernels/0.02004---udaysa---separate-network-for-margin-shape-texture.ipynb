{
  "cells": [
    {
      "cell_type": "markdown",
      "metadata": {
        "_cell_guid": "b357caf5-cda8-05c9-511b-283ad9ab7391"
      },
      "source": [
        "###Merged keras NN with separate network for margin, shape and texture features "
      ]
    },
    {
      "cell_type": "code",
      "execution_count": null,
      "metadata": {
        "_cell_guid": "9d72eb32-db08-2702-cdf1-2e6a2e0f7b1b"
      },
      "outputs": [],
      "source": [
        "# This Python 3 environment comes with many helpful analytics libraries installed\n",
        "# It is defined by the kaggle/python docker image: https://github.com/kaggle/docker-python\n",
        "# For example, here's several helpful packages to load in \n",
        "\n",
        "import numpy as np # linear algebra\n",
        "import pandas as pd # data processing, CSV file I/O (e.g. pd.read_csv)\n",
        "\n",
        "# Input data files are available in the \"../input/\" directory.\n",
        "# For example, running this (by clicking run or pressing Shift+Enter) will list the files in the input directory\n",
        "\n",
        "from subprocess import check_output\n",
        "print(check_output([\"ls\", \"../input\"]).decode(\"utf8\"))\n",
        "\n",
        "# Any results you write to the current directory are saved as output."
      ]
    },
    {
      "cell_type": "code",
      "execution_count": null,
      "metadata": {
        "_cell_guid": "94901936-0a82-89c7-a4f5-92f7a0a11fde"
      },
      "outputs": [],
      "source": [
        "# import required libraries \n",
        "%pylab inline\n",
        "import numpy as np\n",
        "import pandas as pd\n",
        "import seaborn as sns\n",
        "import matplotlib.pyplot as plt\n",
        "\n",
        "from sklearn.preprocessing import StandardScaler\n",
        "# from sklearn.cross_validation import train_test_split\n",
        "from sklearn.preprocessing import LabelEncoder\n",
        "\n",
        "from keras.models import Sequential, Merge\n",
        "from keras.layers import Dense,Dropout,Activation\n",
        "from keras.utils.np_utils import to_categorical\n",
        "#from keras.callbacks import EarlyStopping"
      ]
    },
    {
      "cell_type": "code",
      "execution_count": null,
      "metadata": {
        "_cell_guid": "d04cd6ed-e0d6-a46b-9194-3e8630d6fe2e"
      },
      "outputs": [],
      "source": [
        "data = pd.DataFrame.from_csv('../input/train.csv')\n",
        "y = data['species']\n",
        "y = LabelEncoder().fit(y).transform(y)\n",
        "y_cat = to_categorical(y)\n",
        "\n",
        "margin = data.columns[1:65]\n",
        "margin = data[margin].as_matrix()\n",
        "margin = StandardScaler().fit(margin).transform(margin)\n",
        "shape = data.columns[65:129]\n",
        "shape = data[shape].as_matrix()\n",
        "shape = StandardScaler().fit(shape).transform(shape)\n",
        "texture = data.columns[129:193]\n",
        "texture = data[texture].as_matrix()\n",
        "texture = StandardScaler().fit(texture).transform(texture)\n"
      ]
    },
    {
      "cell_type": "code",
      "execution_count": null,
      "metadata": {
        "_cell_guid": "e8e62f2a-f226-e623-4345-ecc96276614f"
      },
      "outputs": [],
      "source": [
        "# Define separate model for each meta feature and its 64 values \n",
        "modelMargin = Sequential()\n",
        "modelMargin.add(Dense(128, input_dim=64, activation='relu'))\n",
        "modelMargin.add(Dropout(0.7))\n",
        "\n",
        "modelShape = Sequential()\n",
        "modelShape.add(Dense(128, input_dim=64, activation='relu'))\n",
        "modelShape.add(Dropout(0.7))\n",
        "\n",
        "modelTexture = Sequential()\n",
        "modelTexture.add(Dense(128, input_dim=64, activation='relu'))\n",
        "modelTexture.add(Dropout(0.7))\n",
        "\n",
        "# merge all models\n",
        "merged = Merge([modelMargin, modelShape, modelTexture], mode='concat')"
      ]
    },
    {
      "cell_type": "code",
      "execution_count": null,
      "metadata": {
        "_cell_guid": "df1a3ff4-0238-ce18-6a3d-7f49546f4a93"
      },
      "outputs": [],
      "source": [
        "model = Sequential()\n",
        "model.add(merged)\n",
        "model.add(Dense(99, activation='softmax'))\n",
        "model.compile(optimizer='rmsprop', loss='categorical_crossentropy', metrics=['accuracy'])\n",
        "history = model.fit(\n",
        "    [margin, shape, texture], \n",
        "    y_cat, \n",
        "    nb_epoch=350,\n",
        "    batch_size=32,\n",
        "    validation_split=0.1,\n",
        "    verbose=0\n",
        ")"
      ]
    },
    {
      "cell_type": "code",
      "execution_count": null,
      "metadata": {
        "_cell_guid": "63dabd43-3396-d47f-0e2d-3358c51a5bb5"
      },
      "outputs": [],
      "source": [
        "# summarize history for loss\n",
        "## Plotting the loss with the number of iterations\n",
        "\n",
        "plt.semilogy(history.history['loss'])\n",
        "plt.semilogy(history.history['val_loss'])\n",
        "plt.title('model loss')\n",
        "plt.ylabel('loss')\n",
        "plt.xlabel('epoch')\n",
        "plt.legend(['train', 'test'], loc='upper left')\n",
        "plt.show()"
      ]
    },
    {
      "cell_type": "code",
      "execution_count": null,
      "metadata": {
        "_cell_guid": "b7480faf-8030-711c-54f9-466eff9b0396"
      },
      "outputs": [],
      "source": [
        "## read test file\n",
        "test1 = pd.read_csv('../input/test.csv')\n",
        "test = pd.DataFrame.from_csv('../input/test.csv')\n",
        "index = test1.pop('id')\n",
        "# index = test['id']\n",
        "\n",
        "testMargin = test[test.columns[0:64]].as_matrix()\n",
        "testShape = test[test.columns[64:128]].as_matrix()\n",
        "testTexture = test[test.columns[128:192]].as_matrix()\n",
        "\n",
        "testMargin = StandardScaler().fit(testMargin).transform(testMargin)\n",
        "testShape = StandardScaler().fit(testShape).transform(testShape)\n",
        "testTexture = StandardScaler().fit(testTexture).transform(testTexture)\n",
        "\n",
        "yPred = model.predict_proba(\n",
        "    [testMargin, testShape, testTexture]\n",
        ")\n",
        "\n",
        "# ## Converting the test predictions in a dataframe as depicted by sample submission\n",
        "columns = data['species'].unique()\n",
        "yPred = pd.DataFrame(yPred, index=index, columns=sort(columns))\n",
        "fp = open('merged_nn2.csv','w')\n",
        "fp.write(yPred.to_csv())"
      ]
    }
  ],
  "metadata": {
    "_change_revision": 0,
    "_is_fork": false,
    "kernelspec": {
      "display_name": "Python 3",
      "language": "python",
      "name": "python3"
    },
    "language_info": {
      "codemirror_mode": {
        "name": "ipython",
        "version": 3
      },
      "file_extension": ".py",
      "mimetype": "text/x-python",
      "name": "python",
      "nbconvert_exporter": "python",
      "pygments_lexer": "ipython3",
      "version": "3.6.0"
    }
  },
  "nbformat": 4,
  "nbformat_minor": 0
}