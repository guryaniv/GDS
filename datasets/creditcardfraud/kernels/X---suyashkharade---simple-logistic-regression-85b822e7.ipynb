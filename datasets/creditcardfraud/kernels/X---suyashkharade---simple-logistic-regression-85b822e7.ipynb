{
  "metadata": {
    "kernelspec": {
      "display_name": "Python 3",
      "language": "python",
      "name": "python3"
    },
    "language_info": {
      "codemirror_mode": {
        "name": "ipython",
        "version": 3
      },
      "file_extension": ".py",
      "mimetype": "text/x-python",
      "name": "python",
      "nbconvert_exporter": "python",
      "pygments_lexer": "ipython3",
      "version": "3.5.2"
    }
  },
  "nbformat": 4,
  "nbformat_minor": 0,
  "cells": [
    {
      "cell_type": "markdown",
      "metadata": {
        "_cell_guid": "90358dd1-e5db-bdc9-3870-7a5f4a435f22",
        "_active": false
      },
      "source": "Load necessary libraries",
      "execution_count": null,
      "outputs": [],
      "execution_state": "idle"
    },
    {
      "cell_type": "code",
      "execution_count": null,
      "metadata": {
        "_cell_guid": "5d052121-02e5-75b3-3579-d260c989ceec",
        "_active": false
      },
      "outputs": [],
      "source": "import numpy as np # linear algebra\nimport pandas as pd # data processing, CSV file I/O (e.g. pd.read_csv)\nfrom sklearn import linear_model\nfrom sklearn.model_selection import train_test_split\nfrom sklearn import metrics\nfrom sklearn.metrics import roc_auc_score, confusion_matrix\n%matplotlib inline\n\nimport matplotlib\nimport matplotlib.pyplot as plt",
      "execution_state": "idle"
    },
    {
      "cell_type": "markdown",
      "metadata": {
        "_cell_guid": "337bf03f-beaa-1ac8-0d7a-7657f654320e",
        "_active": false
      },
      "source": "Load creditcard data",
      "execution_count": null,
      "outputs": [],
      "execution_state": "idle"
    },
    {
      "cell_type": "code",
      "execution_count": null,
      "metadata": {
        "_cell_guid": "bbafcd83-5e30-d05e-deae-6f0860784a4f",
        "_active": false
      },
      "outputs": [],
      "source": "cc = pd.read_csv('../input/creditcard.csv')",
      "execution_state": "idle"
    },
    {
      "cell_type": "markdown",
      "metadata": {
        "_cell_guid": "8da04540-35d9-8715-5afc-c6d6de06f069",
        "_active": false
      },
      "source": "Imbalance",
      "execution_count": null,
      "outputs": [],
      "execution_state": "idle"
    },
    {
      "cell_type": "code",
      "execution_count": null,
      "metadata": {
        "_cell_guid": "c6ba34aa-e1fd-68e7-5cf4-19c387d41f61",
        "_active": true,
        "collapsed": false
      },
      "outputs": [],
      "source": "#cc.Class.value_counts()\nprint(cc.Class)\n",
      "execution_state": "idle"
    },
    {
      "cell_type": "markdown",
      "metadata": {
        "_cell_guid": "8989d3e5-bdac-09f6-1e1d-6cc108c005e5",
        "_active": false
      },
      "source": "Prepare for training",
      "execution_count": null,
      "outputs": [],
      "execution_state": "idle"
    },
    {
      "cell_type": "code",
      "execution_count": null,
      "metadata": {
        "_cell_guid": "f163fd03-ed36-2b91-4e0b-99395fee0362",
        "_active": false
      },
      "outputs": [],
      "source": "X = cc.ix[:,'V1':'Amount'].as_matrix()\ny = cc.Class.as_matrix()",
      "execution_state": "idle"
    },
    {
      "cell_type": "code",
      "execution_count": null,
      "metadata": {
        "_cell_guid": "a5f411c6-b23c-beff-76b9-e541cd8dbfb0",
        "_active": false
      },
      "outputs": [],
      "source": "X_train, X_test, y_train, y_test = train_test_split(X,y, test_size=0.33, random_state=42)",
      "execution_state": "idle"
    },
    {
      "cell_type": "markdown",
      "metadata": {
        "_cell_guid": "2e5fac68-02e8-d601-2d7c-30781f79418f",
        "_active": false
      },
      "source": "Train and fit logistic regression with 'balanced' mode `n_samples / (n_classes * np.bincount(y))`",
      "execution_count": null,
      "outputs": [],
      "execution_state": "idle"
    },
    {
      "cell_type": "code",
      "execution_count": null,
      "metadata": {
        "_cell_guid": "0eeaddef-697a-3600-7c68-aa90b3ada0f3",
        "_active": false
      },
      "outputs": [],
      "source": "logistic = linear_model.LogisticRegression(class_weight='balanced')\nlogistic.fit(X_train, y_train)",
      "execution_state": "idle"
    },
    {
      "cell_type": "markdown",
      "metadata": {
        "_cell_guid": "1e5f005f-d569-3c5b-033a-8f9ee0d1525f",
        "_active": false
      },
      "source": "Evaluate",
      "execution_count": null,
      "outputs": [],
      "execution_state": "idle"
    },
    {
      "cell_type": "code",
      "execution_count": null,
      "metadata": {
        "_cell_guid": "8798765d-c316-36fe-6ffa-835c20195f1a",
        "_active": false
      },
      "outputs": [],
      "source": "predictions = logistic.predict(X_test)",
      "execution_state": "idle"
    },
    {
      "cell_type": "code",
      "execution_count": null,
      "metadata": {
        "_cell_guid": "4a94e69c-61a6-6ed8-0851-f3b5b6443cf6",
        "_active": false
      },
      "outputs": [],
      "source": "fpr, tpr, thresholds = metrics.roc_curve(y_test, predictions, pos_label=True)\nprint(\"ROCAUC:\", roc_auc_score(y_test, predictions))\nprint(confusion_matrix(y_test, predictions))",
      "execution_state": "idle"
    },
    {
      "cell_type": "code",
      "execution_count": null,
      "metadata": {
        "_cell_guid": "f38ec20b-003a-93e8-a50b-d991d0ab0d31",
        "_active": false
      },
      "outputs": [],
      "source": "plt.plot(fpr, tpr, color='darkorange',\n         lw=1, label='ROC curve')\nplt.plot([0, 1], [0, 1], color='navy', lw=2, linestyle='--')\nplt.xlim([0.0, 1.0])\nplt.ylim([0.0, 1.05])\nplt.xlabel('False Positive Rate')\nplt.ylabel('True Positive Rate')\nplt.title('Receiver operating characteristic')\nplt.legend(loc=\"best\")\nplt.show()",
      "execution_state": "idle"
    }
  ]
}