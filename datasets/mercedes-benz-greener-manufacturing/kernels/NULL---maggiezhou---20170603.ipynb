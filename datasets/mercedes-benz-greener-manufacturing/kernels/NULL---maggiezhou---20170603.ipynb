{
  "cells": [
    {
      "cell_type": "code",
      "execution_count": null,
      "metadata": {
        "_cell_guid": "39662c99-1084-d9d4-7f71-f53437ae1f70"
      },
      "outputs": [],
      "source": [
        "# This Python 3 environment comes with many helpful analytics libraries installed\n",
        "# It is defined by the kaggle/python docker image: https://github.com/kaggle/docker-python\n",
        "# For example, here's several helpful packages to load in \n",
        "\n",
        "import numpy as np # linear algebra\n",
        "import pandas as pd # data processing, CSV file I/O (e.g. pd.read_csv)\n",
        "\n",
        "# Input data files are available in the \"../input/\" directory.\n",
        "# For example, running this (by clicking run or pressing Shift+Enter) will list the files in the input directory\n",
        "\n",
        "from subprocess import check_output\n",
        "print(check_output([\"ls\", \"../input\"]).decode(\"utf8\"))\n",
        "\n",
        "# Any results you write to the current directory are saved as output."
      ]
    },
    {
      "cell_type": "code",
      "execution_count": null,
      "metadata": {
        "_cell_guid": "d5f445fa-1881-8d27-c79d-62ebce2a399c"
      },
      "outputs": [],
      "source": [
        "import numpy as np\n",
        "import pandas as pd\n",
        "from sklearn.preprocessing import LabelEncoder"
      ]
    },
    {
      "cell_type": "code",
      "execution_count": null,
      "metadata": {
        "_cell_guid": "0e458894-fe56-372c-1a44-fbe1f9074a60"
      },
      "outputs": [],
      "source": [
        "import matplotlib.pyplot as plt\n",
        "from sklearn.decomposition import PCA, FastICA"
      ]
    },
    {
      "cell_type": "code",
      "execution_count": null,
      "metadata": {
        "_cell_guid": "e5cb684e-b10e-530d-5baa-24a3f94fd6e7"
      },
      "outputs": [],
      "source": [
        "rng = np.random.RandomState(42)\n",
        "S = rng.standard_t(1.5, size=(20000, 2))"
      ]
    },
    {
      "cell_type": "code",
      "execution_count": null,
      "metadata": {
        "_cell_guid": "c606db51-65b0-a65d-233c-b691c79d73ec"
      },
      "outputs": [],
      "source": [
        "S"
      ]
    },
    {
      "cell_type": "code",
      "execution_count": null,
      "metadata": {
        "_cell_guid": "7788bc2d-3337-9109-a204-41ce85da6fa1"
      },
      "outputs": [],
      "source": [
        "S[:, 0] *=2.\n",
        "S"
      ]
    },
    {
      "cell_type": "code",
      "execution_count": null,
      "metadata": {
        "_cell_guid": "3b7bcd2c-9d20-aeaa-fd54-3f4ada6faf10"
      },
      "outputs": [],
      "source": [
        "A = np.array([[1, 1], [0, 2]])\n",
        "A"
      ]
    },
    {
      "cell_type": "code",
      "execution_count": null,
      "metadata": {
        "_cell_guid": "695d4dea-39df-0d2c-bfd7-e37393ae2cc5"
      },
      "outputs": [],
      "source": [
        "X = np.dot(S, A.T)\n",
        "X"
      ]
    },
    {
      "cell_type": "code",
      "execution_count": null,
      "metadata": {
        "_cell_guid": "ee344882-0f34-19e9-0610-1ed813468074"
      },
      "outputs": [],
      "source": [
        "pca = PCA()\n",
        "S_pca = pca.fit(X).transform(X)\n",
        "S_pca"
      ]
    },
    {
      "cell_type": "code",
      "execution_count": null,
      "metadata": {
        "_cell_guid": "767e3c1c-25af-5d84-9114-a51e5288b045"
      },
      "outputs": [],
      "source": [
        "ica = FastICA(random_state=rng)\n",
        "S_ica = ica.fit(X).transform(X)"
      ]
    },
    {
      "cell_type": "code",
      "execution_count": null,
      "metadata": {
        "_cell_guid": "099e6fb6-7eb8-3ab2-f35b-0d4dcbb6d620"
      },
      "outputs": [],
      "source": [
        "S_pca.shape, S_ica.shape"
      ]
    },
    {
      "cell_type": "code",
      "execution_count": null,
      "metadata": {
        "_cell_guid": "753bfc2f-bef6-125e-a96f-c48c3d0b6172"
      },
      "outputs": [],
      "source": [
        "S_ica /= S_ica.std(axis=0)"
      ]
    },
    {
      "cell_type": "code",
      "execution_count": null,
      "metadata": {
        "_cell_guid": "d0a4e24b-a6d6-c21b-b186-716a1839eeaa"
      },
      "outputs": [],
      "source": [
        "def plot_samples(S, axis_list=None):\n",
        "    plt.scatter(S[:, 0], S[:, 1], s=2, marker='o', zorder=10,\n",
        "                color='steelblue', alpha=0.5)\n",
        "    if axis_list is not None:\n",
        "        colors = ['orange', 'red']\n",
        "        for color, axis in zip(colors, axis_list):\n",
        "            axis /= axis.std()\n",
        "            x_axis, y_axis = axis\n",
        "            # Trick to get legend to work\n",
        "            plt.plot(0.1 * x_axis, 0.1 * y_axis, linewidth=2, color=color)\n",
        "            plt.quiver(0, 0, x_axis, y_axis, zorder=11, width=0.01, scale=6,\n",
        "                       color=color)\n",
        "\n",
        "    plt.hlines(0, -3, 3)\n",
        "    plt.vlines(0, -3, 3)\n",
        "    plt.xlim(-3, 3)\n",
        "    plt.ylim(-3, 3)\n",
        "    plt.xlabel('x')\n",
        "    plt.ylabel('y')"
      ]
    },
    {
      "cell_type": "code",
      "execution_count": null,
      "metadata": {
        "_cell_guid": "2f8d2aa8-e43d-6b8a-715e-0a7f86911b3e"
      },
      "outputs": [],
      "source": [
        "plt.figure()\n",
        "plt.subplot(2, 2, 1)\n",
        "plot_samples(S / S.std())\n",
        "plt.title('True Independent Sources')\n",
        "\n",
        "axis_list = [pca.components_.T, ica.mixing_]\n",
        "plt.subplot(2, 2, 2)\n",
        "plot_samples(X / np.std(X), axis_list=axis_list)\n",
        "legend = plt.legend(['PCA', 'ICA'], loc='upper right')\n",
        "legend.set_zorder(100)\n",
        "\n",
        "plt.title('Observations')\n",
        "\n",
        "plt.subplot(2, 2, 3)\n",
        "plot_samples(S_pca / np.std(S_pca, axis=0))\n",
        "plt.title('PCA recovered signals')\n",
        "\n",
        "plt.subplot(2, 2, 4)\n",
        "plot_samples(S_ica / np.std(S_ica))\n",
        "plt.title('ICA recovered signals')\n",
        "\n",
        "plt.subplots_adjust(0.09, 0.04, 0.94, 0.94, 0.26, 0.36)\n",
        "plt.show()"
      ]
    },
    {
      "cell_type": "code",
      "execution_count": null,
      "metadata": {
        "_cell_guid": "4ef2499a-d640-581b-12c9-e64404ce7a5f"
      },
      "outputs": [],
      "source": ""
    },
    {
      "cell_type": "code",
      "execution_count": null,
      "metadata": {
        "_cell_guid": "296c54a8-4d6b-5240-6fc5-800005c0f44d"
      },
      "outputs": [],
      "source": [
        "train = pd.read_csv('../input/train.csv')\n",
        "test = pd.read_csv('../input/test.csv')"
      ]
    },
    {
      "cell_type": "code",
      "execution_count": null,
      "metadata": {
        "_cell_guid": "909eb618-137a-364d-c485-e30f78d279dd"
      },
      "outputs": [],
      "source": [
        "for c in train.columns:\n",
        "    if train[c].dtype == 'object':\n",
        "        lbl = LabelEncoder()\n",
        "        lbl.fit(list(train[c].values) + list(test[c].values))\n",
        "        train[c] = lbl.transform(list(train[c].values))\n",
        "        test[c] = lbl.transform(list(test[c].values))"
      ]
    },
    {
      "cell_type": "code",
      "execution_count": null,
      "metadata": {
        "_cell_guid": "5ed6e4c9-fb27-4d8e-b53e-9cdfd6b541f1"
      },
      "outputs": [],
      "source": [
        "print('Shape train: {}\\nShape test: {}'.format(train.shape, test.shape))"
      ]
    },
    {
      "cell_type": "code",
      "execution_count": null,
      "metadata": {
        "_cell_guid": "6ddd01f0-d61e-1716-7f3f-4708dc1e308f"
      },
      "outputs": [],
      "source": [
        "from sklearn.decomposition import PCA, FastICA\n",
        "n_comp = 10\n",
        "\n",
        "pca = PCA(n_components=n_comp, random_state=42)\n",
        "pca2_results_train = pca.fit_transform(train.drop([\"y\"], axis=1))\n",
        "pca2_results_test = pca.transform(test)"
      ]
    },
    {
      "cell_type": "code",
      "execution_count": null,
      "metadata": {
        "_cell_guid": "f526c8ed-8288-3663-be7d-e164b46ca35c"
      },
      "outputs": [],
      "source": [
        "ica = FastICA(n_components=n_comp, random_state=42)\n",
        "ica2_results_train = ica.fit_transform(train.drop([\"y\"], axis=1))\n",
        "ica2_results_test = ica.transform(test)"
      ]
    },
    {
      "cell_type": "code",
      "execution_count": null,
      "metadata": {
        "_cell_guid": "64b209d4-b843-261a-e392-a30dd40a0b32"
      },
      "outputs": [],
      "source": [
        "for i in range(1, n_comp+1):\n",
        "    train['pca_' + str(i)] = pca2_results_train[:, i-1]\n",
        "    test['pca_' + str(i)] = pca2_results_test[:, i-1]\n",
        "    \n",
        "    train['ica_' + str(i)] = ica2_results_train[:, i-1]\n",
        "    test['ica_' + str(i)] = ica2_results_test[:, i-1]\n",
        "\n",
        "y_train = train[\"y\"]\n",
        "y_mean = np.mean(y_train)"
      ]
    },
    {
      "cell_type": "code",
      "execution_count": null,
      "metadata": {
        "_cell_guid": "c9af4fb8-e6ed-c3f3-1a28-674e06fd24e4"
      },
      "outputs": [],
      "source": [
        "col_list = list(train)\n",
        "for x in ['X0', 'X1', 'X2', 'X3', 'X4', 'X5', 'X6', 'X8', 'ID', 'y', \n",
        "          'pca_1', 'pca_2','pca_3','pca_4','pca_5','pca_6','pca_7','pca_8','pca_9','pca_10',\n",
        "          'ica_1', 'ica_2','ica_3','ica_4','ica_5','ica_6','ica_7','ica_8','ica_9','ica_10']:\n",
        "    col_list.remove(x)\n",
        "train['n_features'] = train[col_list].sum(axis=1)\n",
        "\n",
        "col_list = list(test)\n",
        "for x in ['X0', 'X1', 'X2', 'X3', 'X4', 'X5', 'X6', 'X8', 'ID',\n",
        "          'pca_1', 'pca_2','pca_3','pca_4','pca_5','pca_6','pca_7','pca_8','pca_9','pca_10',\n",
        "          'ica_1', 'ica_2','ica_3','ica_4','ica_5','ica_6','ica_7','ica_8','ica_9','ica_10']:\n",
        "    col_list.remove(x)\n",
        "test['n_features'] = test[col_list].sum(axis=1)"
      ]
    },
    {
      "cell_type": "code",
      "execution_count": null,
      "metadata": {
        "_cell_guid": "6ef83e68-1677-dd8c-8ec7-b5d7a76f7459"
      },
      "outputs": [],
      "source": [
        "import xgboost as xgb\n",
        "\n",
        "xgb_params = {\n",
        "    'n_trees': 500,\n",
        "    'eta': 0.005,\n",
        "    'max_depth': 4,\n",
        "    'subsample': 0.95,\n",
        "    'objective': 'reg:linear',\n",
        "    'eval_metric': 'rmse',\n",
        "    'base_score': y_mean,\n",
        "    'silent': 1\n",
        "}"
      ]
    },
    {
      "cell_type": "code",
      "execution_count": null,
      "metadata": {
        "_cell_guid": "25386016-fcc2-64b7-3600-b36a373603f6"
      },
      "outputs": [],
      "source": [
        "dtrain = xgb.DMatrix(train.drop('y', axis=1), y_train)\n",
        "dtest = xgb.DMatrix(test)"
      ]
    },
    {
      "cell_type": "code",
      "execution_count": null,
      "metadata": {
        "_cell_guid": "86536447-4c37-d0f2-59ae-d9d15d7a60f0"
      },
      "outputs": [],
      "source": [
        "cv_results = xgb.cv(xgb_params,\n",
        "                    dtrain,\n",
        "                    num_boost_round=700,\n",
        "                    early_stopping_rounds=50,\n",
        "                    verbose_eval=10,\n",
        "                    show_stdv=False\n",
        "                   )\n",
        "\n",
        "num_boost_rounds = len(cv_results)\n",
        "print(num_boost_rounds)"
      ]
    },
    {
      "cell_type": "code",
      "execution_count": null,
      "metadata": {
        "_cell_guid": "646e9312-946c-2248-f064-412ad5bcc3b7"
      },
      "outputs": [],
      "source": [
        "model = xgb.train(dict(xgb_params, silent=0), dtrain, num_boost_round=num_boost_rounds)"
      ]
    },
    {
      "cell_type": "code",
      "execution_count": null,
      "metadata": {
        "_cell_guid": "08bd052a-ac83-f55b-d15b-81c9397c1709"
      },
      "outputs": [],
      "source": [
        "from sklearn.metrics import r2_score\n",
        "print(r2_score(model.predict(dtrain), dtrain.get_label()))"
      ]
    },
    {
      "cell_type": "code",
      "execution_count": null,
      "metadata": {
        "_cell_guid": "cee3b4ba-cf10-f27b-0540-412bb16779a2"
      },
      "outputs": [],
      "source": [
        "y_pred = model.predict(dtest)\n",
        "output = pd.DataFrame({\"id\": test['ID'].astype(np.int32), 'y': y_pred})\n",
        "output.to_csv('xgboost-depth{}-pca-ica.csv'.format(xgb_params['max_depth']), index=False)"
      ]
    }
  ],
  "metadata": {
    "_change_revision": 0,
    "_is_fork": false,
    "kernelspec": {
      "display_name": "Python 3",
      "language": "python",
      "name": "python3"
    },
    "language_info": {
      "codemirror_mode": {
        "name": "ipython",
        "version": 3
      },
      "file_extension": ".py",
      "mimetype": "text/x-python",
      "name": "python",
      "nbconvert_exporter": "python",
      "pygments_lexer": "ipython3",
      "version": "3.6.0"
    }
  },
  "nbformat": 4,
  "nbformat_minor": 0
}