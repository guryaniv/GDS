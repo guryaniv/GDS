{
  "cells": [
    {
      "cell_type": "markdown",
      "metadata": {
        "_cell_guid": "6bc9b087-c98b-bd97-66c6-92c5d01242d4"
      },
      "source": [
        "This's notebook for CV statistics"
      ]
    },
    {
      "cell_type": "code",
      "execution_count": null,
      "metadata": {
        "_cell_guid": "567a0c15-e6ca-cb0f-870a-2fd7cb9b0c14"
      },
      "outputs": [],
      "source": [
        "import os\n",
        "import sys\n",
        "import operator\n",
        "import numpy as np\n",
        "import pandas as pd\n",
        "from scipy import sparse\n",
        "import xgboost as xgb\n",
        "import random\n",
        "from sklearn import model_selection, preprocessing, ensemble\n",
        "from sklearn.metrics import log_loss\n",
        "from sklearn.feature_extraction.text import TfidfVectorizer, CountVectorizer\n"
      ]
    },
    {
      "cell_type": "markdown",
      "metadata": {
        "_cell_guid": "8a50dbf1-cc8a-58ce-bd38-458cbb700e24"
      },
      "source": [
        "Now add some basic feature."
      ]
    },
    {
      "cell_type": "code",
      "execution_count": null,
      "metadata": {
        "_cell_guid": "14a74b57-41ef-b6c3-6098-1d5d05c28603"
      },
      "outputs": [],
      "source": [
        "train_df=pd.read_json('../input/train.json')\n",
        "test_df=pd.read_json('../input/test.json')\n",
        "\n",
        "#basic features\n",
        "train_df[\"price_t\"] =train_df[\"price\"]/train_df[\"bedrooms\"]\n",
        "test_df[\"price_t\"] = test_df[\"price\"]/test_df[\"bedrooms\"] \n",
        "train_df[\"room_sum\"] = train_df[\"bedrooms\"]+train_df[\"bathrooms\"] \n",
        "test_df[\"room_sum\"] = test_df[\"bedrooms\"]+test_df[\"bathrooms\"] \n",
        "\n",
        "# count of photos #\n",
        "train_df[\"num_photos\"] = train_df[\"photos\"].apply(len)\n",
        "test_df[\"num_photos\"] = test_df[\"photos\"].apply(len)\n",
        "\n",
        "# count of \"features\" #\n",
        "train_df[\"num_features\"] = train_df[\"features\"].apply(len)\n",
        "test_df[\"num_features\"] = test_df[\"features\"].apply(len)\n",
        "\n",
        "# count of words present in description column #\n",
        "train_df[\"num_description_words\"] = train_df[\"description\"].apply(lambda x: len(x.split(\" \")))\n",
        "test_df[\"num_description_words\"] = test_df[\"description\"].apply(lambda x: len(x.split(\" \")))\n",
        "\n",
        "\n",
        "features_to_use=[\"bathrooms\", \"bedrooms\", \"latitude\", \"longitude\", \"price\",\"price_t\",\"num_photos\", \"num_features\", \"num_description_words\",\"listing_id\"]"
      ]
    },
    {
      "cell_type": "markdown",
      "metadata": {
        "_cell_guid": "29851d87-79f5-55e0-6f53-55ca0b9cbbae"
      },
      "source": [
        "Define XGB function, it come from \"XGB starter in python\" by SRK"
      ]
    },
    {
      "cell_type": "code",
      "execution_count": null,
      "metadata": {
        "_cell_guid": "15a46712-582b-28f7-1626-917cdab4f7e5"
      },
      "outputs": [],
      "source": [
        "def runXGB(train_X, train_y, test_X, test_y=None, feature_names=None, seed_val=0, num_rounds=2000):\n",
        "    param = {}\n",
        "    param['objective'] = 'multi:softprob'\n",
        "    param['eta'] = 0.03\n",
        "    param['max_depth'] = 6\n",
        "    param['silent'] = 1\n",
        "    param['num_class'] = 3\n",
        "    param['eval_metric'] = \"mlogloss\"\n",
        "    param['min_child_weight'] = 1\n",
        "    param['subsample'] = 0.7\n",
        "    param['colsample_bytree'] = 0.7\n",
        "    param['seed'] = seed_val\n",
        "    num_rounds = num_rounds\n",
        "\n",
        "    plst = list(param.items())\n",
        "    xgtrain = xgb.DMatrix(train_X, label=train_y)\n",
        "\n",
        "    if test_y is not None:\n",
        "        xgtest = xgb.DMatrix(test_X, label=test_y)\n",
        "        watchlist = [ (xgtrain,'train'), (xgtest, 'test') ]\n",
        "        model = xgb.train(plst, xgtrain, num_rounds, watchlist, early_stopping_rounds=20, verbose_eval=25)\n",
        "    else:\n",
        "        xgtest = xgb.DMatrix(test_X)\n",
        "        model = xgb.train(plst, xgtrain, num_rounds)\n",
        "\n",
        "    pred_test_y = model.predict(xgtest)\n",
        "    return pred_test_y, model"
      ]
    },
    {
      "cell_type": "markdown",
      "metadata": {
        "_cell_guid": "7ce05a33-b4ee-0037-51c9-eefcba7f4235"
      },
      "source": [
        "CV statistics, only change here"
      ]
    },
    {
      "cell_type": "code",
      "execution_count": null,
      "metadata": {
        "_cell_guid": "57c7b11f-0fd8-4b8d-8503-77bd2dd62fdb"
      },
      "outputs": [],
      "source": [
        "# earlier:  copied train/test_df to df_train/test_orig, since I wanted to compare them.  Same reason\n",
        "# I didn't convert the train/test split code to use sklearn - I just added random.seed(0)\n",
        "\n",
        "df_train = train_df.copy()\n",
        "#df_train.reset_index(inplace=True)\n",
        "\n",
        "index=list(range(df_train.shape[0]))\n",
        "\n",
        "random.seed(0)\n",
        "random.shuffle(index)\n",
        "\n",
        "df_train['manager_level_low'] = np.nan\n",
        "df_train['manager_level_medium'] = np.nan\n",
        "df_train['manager_level_high'] = np.nan\n",
        "\n",
        "df_train['manager_price_low'] = np.nan\n",
        "df_train['manager_price_medium'] = np.nan\n",
        "df_train['manager_price_high'] = np.nan\n",
        "\n",
        "for i in range(5):\n",
        "    test_index = index[int((i*df_train.shape[0])/5):int(((i+1)*df_train.shape[0])/5)]\n",
        "    train_index = list(set(index).difference(test_index)) \n",
        "\n",
        "    cv_train = df_train.iloc[train_index]\n",
        "    cv_test  = df_train.iloc[test_index]\n",
        "\n",
        "    for m in cv_train.groupby('manager_id'):\n",
        "        test_subset = cv_test[cv_test.manager_id == m[0]].index\n",
        "\n",
        "        df_train.loc[test_subset, 'manager_level_low'] = (m[1].interest_level == 'low').mean()\n",
        "        df_train.loc[test_subset, 'manager_level_medium'] = (m[1].interest_level == 'medium').mean()\n",
        "        df_train.loc[test_subset, 'manager_level_high'] = (m[1].interest_level == 'high').mean()\n",
        "        df_train.loc[test_subset, 'manager_price'] = m[1].price.mean()\n",
        "        df_train.loc[test_subset, 'manager_count'] = m[1].size()\n",
        "        \n",
        "# now for the test data\n",
        "\n",
        "df_test = test_df.copy()\n",
        "\n",
        "df_test['manager_level_low'] = np.nan\n",
        "df_test['manager_level_medium'] = np.nan\n",
        "df_test['manager_level_high'] = np.nan\n",
        "\n",
        "for m in df_train.groupby('manager_id'):\n",
        "    test_subset = df_test[df_test.manager_id == m[0]].index\n",
        "\n",
        "    df_test.loc[test_subset, 'manager_level_low'] = (m[1].interest_level == 'low').mean()\n",
        "    df_test.loc[test_subset, 'manager_level_medium'] = (m[1].interest_level == 'medium').mean()\n",
        "    df_test.loc[test_subset, 'manager_level_high'] = (m[1].interest_level == 'high').mean()\n",
        "    \n",
        "train_df=df_train\n",
        "test_df=df_test\n"
      ]
    },
    {
      "cell_type": "code",
      "execution_count": null,
      "metadata": {
        "_cell_guid": "f6c04694-ffdb-ac15-fbbb-fa0ea6bde465"
      },
      "outputs": [],
      "source": [
        "train_df.head()"
      ]
    },
    {
      "cell_type": "code",
      "execution_count": null,
      "metadata": {
        "_cell_guid": "076ac2c8-108e-a47e-1139-b981d5e3cc3d"
      },
      "outputs": [],
      "source": [
        "features_to_use.append('manager_level_low') \n",
        "features_to_use.append('manager_level_medium') \n",
        "features_to_use.append('manager_level_high')\n",
        "features_to_use.append('manager_price') \n",
        "features_to_use.append('manager_count')\n",
        "\n",
        "categorical = [\"display_address\", \"manager_id\", \"building_id\", \"street_address\"]\n",
        "for f in categorical:\n",
        "        if train_df[f].dtype=='object':\n",
        "            #print(f)\n",
        "            lbl = preprocessing.LabelEncoder()\n",
        "            lbl.fit(list(train_df[f].values) + list(test_df[f].values))\n",
        "            train_df[f] = lbl.transform(list(train_df[f].values))\n",
        "            test_df[f] = lbl.transform(list(test_df[f].values))\n",
        "            features_to_use.append(f)"
      ]
    },
    {
      "cell_type": "code",
      "execution_count": null,
      "metadata": {
        "_cell_guid": "4a796bbd-05dc-d4a0-4594-9457459f9b85"
      },
      "outputs": [],
      "source": [
        "train_df['features'] = train_df[\"features\"].apply(lambda x: \" \".join([\"_\".join(i.split(\" \")) for i in x]))\n",
        "test_df['features'] = test_df[\"features\"].apply(lambda x: \" \".join([\"_\".join(i.split(\" \")) for i in x]))\n",
        "print(train_df[\"features\"].head())\n",
        "tfidf = CountVectorizer(stop_words='english', max_features=200)\n",
        "tr_sparse = tfidf.fit_transform(train_df[\"features\"])\n",
        "te_sparse = tfidf.transform(test_df[\"features\"])"
      ]
    },
    {
      "cell_type": "code",
      "execution_count": null,
      "metadata": {
        "_cell_guid": "9ffe5eaf-bfba-2e5c-b4a3-f3a9adcac4d9"
      },
      "outputs": [],
      "source": [
        "\n",
        "train_X = sparse.hstack([train_df[features_to_use], tr_sparse]).tocsr()\n",
        "test_X = te_sparse#sparse.hstack([test_df[features_to_use], te_sparse]).tocsr()\n",
        "\n",
        "target_num_map = {'high':0, 'medium':1, 'low':2}\n",
        "train_y = np.array(train_df['interest_level'].apply(lambda x: target_num_map[x]))\n",
        "print(train_X.shape, test_X.shape)"
      ]
    },
    {
      "cell_type": "markdown",
      "metadata": {
        "_cell_guid": "b6fa828e-755e-10f7-7180-25c932e58d22"
      },
      "source": [
        "Without CV statistic,to score get 0.5480 by SRK. And CV statistic get 0.5346 In fact ,you \n",
        "need to turn down the learning rate and turn up run_num"
      ]
    },
    {
      "cell_type": "code",
      "execution_count": null,
      "metadata": {
        "_cell_guid": "fe3cf8c4-1614-b843-df1c-2ef2b4fb0e80"
      },
      "outputs": [],
      "source": [
        "cv_scores = []\n",
        "kf = model_selection.KFold(n_splits=5, shuffle=True, random_state=2016)\n",
        "for dev_index, val_index in kf.split(range(train_X.shape[0])):\n",
        "        dev_X, val_X = train_X[dev_index,:], train_X[val_index,:]\n",
        "        dev_y, val_y = train_y[dev_index], train_y[val_index]\n",
        "        preds, model = runXGB(dev_X, dev_y, val_X, val_y)\n",
        "        cv_scores.append(log_loss(val_y, preds))\n",
        "        print(cv_scores)\n",
        "        break"
      ]
    },
    {
      "cell_type": "code",
      "execution_count": null,
      "metadata": {
        "_cell_guid": "51dd2c50-9ad1-7298-6412-c4a26ddbe3dd"
      },
      "outputs": [],
      "source": [
        "'''preds, model = runXGB(train_X, train_y, test_X, num_rounds=1000)\n",
        "out_df = pd.DataFrame(preds)\n",
        "out_df.columns = [\"high\", \"medium\", \"low\"]\n",
        "out_df[\"listing_id\"] = test_df.listing_id.values\n",
        "out_df.to_csv(\"xgb_starter2.csv\", index=False)'''\n",
        "\n"
      ]
    },
    {
      "cell_type": "markdown",
      "metadata": {
        "_cell_guid": "7d7d8057-e1bf-497c-5921-a72c4c4ca415"
      },
      "source": [
        "If you think it's help, give me a vote.If you have problem, you can write you question in the comment. I will replay for you soon."
      ]
    },
    {
      "cell_type": "markdown",
      "metadata": {
        "_cell_guid": "4c33c23d-a76d-84ce-ed20-9456c606de91"
      },
      "source": [
        "Edit:Many people use my script to change parameters.  The wrong way is to change learning rate and run_num blindly. When you adjust learning rate etc, you need  to adjust the best run_num according to  the cross validation. Otherwise, you will be overfitting."
      ]
    }
  ],
  "metadata": {
    "_change_revision": 0,
    "_is_fork": false,
    "kernelspec": {
      "display_name": "Python 3",
      "language": "python",
      "name": "python3"
    },
    "language_info": {
      "codemirror_mode": {
        "name": "ipython",
        "version": 3
      },
      "file_extension": ".py",
      "mimetype": "text/x-python",
      "name": "python",
      "nbconvert_exporter": "python",
      "pygments_lexer": "ipython3",
      "version": "3.6.0"
    }
  },
  "nbformat": 4,
  "nbformat_minor": 0
}