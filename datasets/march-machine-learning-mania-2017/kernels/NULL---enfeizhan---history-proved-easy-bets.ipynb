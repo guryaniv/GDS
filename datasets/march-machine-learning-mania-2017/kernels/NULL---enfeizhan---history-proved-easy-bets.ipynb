{
  "cells": [
    {
      "cell_type": "markdown",
      "metadata": {
        "_cell_guid": "39d30415-3148-a46d-81f8-759b34de64b2"
      },
      "source": [
        "As a NCAA outsider, I am super interested in a question that are there safe bets between two teams looking at their historical confrontations. For example, team A has been beating team B since day one.\n",
        "\n",
        "Beyond that, the percentage of team A beating team B historically would also be a fairly good feature for modelling. \n",
        "\n",
        "It should be useful as a prior for Bayes theorem models."
      ]
    },
    {
      "cell_type": "code",
      "execution_count": null,
      "metadata": {
        "_cell_guid": "297d41b2-f3a4-404a-fc92-1822f4928d03"
      },
      "outputs": [],
      "source": [
        "# This Python 3 environment comes with many helpful analytics libraries installed\n",
        "# It is defined by the kaggle/python docker image: https://github.com/kaggle/docker-python\n",
        "# For example, here's several helpful packages to load in \n",
        "\n",
        "import numpy as np # linear algebra\n",
        "import pandas as pd # data processing, CSV file I/O (e.g. pd.read_csv)\n",
        "\n",
        "# Input data files are available in the \"../input/\" directory.\n",
        "# For example, running this (by clicking run or pressing Shift+Enter) will list the files in the input directory\n",
        "\n",
        "from subprocess import check_output\n",
        "print(check_output([\"ls\", \"../input\"]).decode(\"utf8\"))\n",
        "\n",
        "# Any results you write to the current directory are saved as output."
      ]
    },
    {
      "cell_type": "markdown",
      "metadata": {
        "_cell_guid": "128df84e-08c1-70d8-aecf-8c4e6af79028"
      },
      "source": [
        "As a win-lose only study, this study needs only the compact results."
      ]
    },
    {
      "cell_type": "code",
      "execution_count": null,
      "metadata": {
        "_cell_guid": "c1979595-f3dc-838d-2edc-916aace22589"
      },
      "outputs": [],
      "source": [
        "rdat = pd.read_csv('../input/RegularSeasonCompactResults.csv')\n",
        "tdat = pd.read_csv('../input/TourneyCompactResults.csv')\n",
        "dat = pd.concat([rdat, tdat])"
      ]
    },
    {
      "cell_type": "code",
      "execution_count": null,
      "metadata": {
        "_cell_guid": "969b6119-7f04-d1a2-2a5b-efa557f581d2"
      },
      "outputs": [],
      "source": [
        "# only need to know who won and who lost\n",
        "games = dat.loc[:, ['Wteam', 'Lteam']].copy()"
      ]
    },
    {
      "cell_type": "code",
      "execution_count": null,
      "metadata": {
        "_cell_guid": "940355a2-aa21-865e-5da9-ea80dfc5fafc"
      },
      "outputs": [],
      "source": [
        "# create head-to-head combination regardless of game result\n",
        "games.loc[:, 'Min_team'] = games.loc[:, ['Wteam', 'Lteam']].min(axis=1)\n",
        "games.loc[:, 'Max_team'] = games.loc[:, ['Wteam', 'Lteam']].max(axis=1)\n",
        "games.loc[:, 'game'] = games.Min_team.apply(str) + ', ' + games.Max_team.apply(str)"
      ]
    },
    {
      "cell_type": "code",
      "execution_count": null,
      "metadata": {
        "_cell_guid": "1ba206bf-0005-a2c4-7250-219ce476a2d2"
      },
      "outputs": [],
      "source": [
        "games.head()"
      ]
    },
    {
      "cell_type": "code",
      "execution_count": null,
      "metadata": {
        "_cell_guid": "bbaa5044-8b1a-4e6a-e917-642fcbbbc31c"
      },
      "outputs": [],
      "source": [
        "# create head-to-head combination that contains info of game results\n",
        "games.loc[:, 'win_lose'] = games.Wteam.apply(str) + ', ' + games.Lteam.apply(str)"
      ]
    },
    {
      "cell_type": "code",
      "execution_count": null,
      "metadata": {
        "_cell_guid": "b096726e-1963-ad84-f5dc-ac765bcc4ff6"
      },
      "outputs": [],
      "source": [
        "games.head()"
      ]
    },
    {
      "cell_type": "markdown",
      "metadata": {
        "_cell_guid": "e1d8e66a-1c78-6be2-50ba-b2b74df1ee03"
      },
      "source": [
        "It's a coincidence that in the first five records all winning teams have smaller id, which surely shouldn't be an assumption."
      ]
    },
    {
      "cell_type": "code",
      "execution_count": null,
      "metadata": {
        "_cell_guid": "5a6f3ede-b4ed-97f9-6ac8-71a2c0c2c2aa"
      },
      "outputs": [],
      "source": [
        "gpd_win = games.groupby(['game', 'win_lose'])\n",
        "gpd_game = games.groupby('game')"
      ]
    },
    {
      "cell_type": "code",
      "execution_count": null,
      "metadata": {
        "_cell_guid": "120810d6-9258-5466-8c68-9dc11b4893e8"
      },
      "outputs": [],
      "source": [
        "game_counts = gpd_game.size()\n",
        "win_counts = gpd_win.size()"
      ]
    },
    {
      "cell_type": "code",
      "execution_count": null,
      "metadata": {
        "_cell_guid": "af013043-e6e4-02c3-35d1-7443e73cc75c"
      },
      "outputs": [],
      "source": [
        "game_counts.tail()"
      ]
    },
    {
      "cell_type": "code",
      "execution_count": null,
      "metadata": {
        "_cell_guid": "38a62fc1-585c-fb8d-8027-a2316dd0be39"
      },
      "outputs": [],
      "source": [
        "win_counts.tail()"
      ]
    },
    {
      "cell_type": "markdown",
      "metadata": {
        "_cell_guid": "94e1593d-eee4-8855-1170-3ca7face2b47"
      },
      "source": [
        "In the example above, you can see team 1460 and 1464 have contested 46 time. Team 1460 won 37 of them."
      ]
    },
    {
      "cell_type": "markdown",
      "metadata": {
        "_cell_guid": "3b2f1bc9-a98d-3fcd-a9f9-79f8026d19a2"
      },
      "source": [
        "A problem is if two teams have faced each other for limited times, the result may not indicate anything. So I want to set a lower limit to qualify the games I need to look at."
      ]
    },
    {
      "cell_type": "code",
      "execution_count": null,
      "metadata": {
        "_cell_guid": "80a9851e-3cc0-6cb0-1b49-ee5834fe53e4"
      },
      "outputs": [],
      "source": [
        "min_ncontests = 20\n",
        "win_rate = win_counts.div(game_counts.loc[game_counts >= min_ncontests], level=0).dropna() * 100"
      ]
    },
    {
      "cell_type": "code",
      "execution_count": null,
      "metadata": {
        "_cell_guid": "592cba3f-9750-9cec-67fa-a34756ac27b8"
      },
      "outputs": [],
      "source": [
        "win_rate.tail()"
      ]
    },
    {
      "cell_type": "markdown",
      "metadata": {
        "_cell_guid": "5e9bd744-47b4-10a1-d355-0c2bba0691bc"
      },
      "source": [
        "So team 1460's 37 wins turns into a 80% winning rate.\n",
        "\n",
        "Now I want to see which team always beats another team."
      ]
    },
    {
      "cell_type": "code",
      "execution_count": null,
      "metadata": {
        "_cell_guid": "35909258-332b-8e68-86a5-77146292c1d9"
      },
      "outputs": [],
      "source": [
        "always_win = win_rate.loc[win_rate >= 100]\n",
        "always_win.name = 'percentage'\n",
        "always_win = always_win.reset_index()\n",
        "always_win"
      ]
    },
    {
      "cell_type": "markdown",
      "metadata": {
        "_cell_guid": "dd55da90-bf17-e98b-b3b8-96fd1ed9d0c8"
      },
      "source": [
        "It's interesting to see there are 7 pairs. Wondering who they are."
      ]
    },
    {
      "cell_type": "code",
      "execution_count": null,
      "metadata": {
        "_cell_guid": "902eac61-e52f-86a6-5a23-c139084a228c"
      },
      "outputs": [],
      "source": [
        "always_win.loc[:, 'Wteam'] = always_win.win_lose.str.extract(r'(\\d+), \\d+', expand=False)\n",
        "always_win.loc[:, 'Lteam'] = always_win.win_lose.str.extract(r'\\d+, (\\d+)', expand=False)"
      ]
    },
    {
      "cell_type": "code",
      "execution_count": null,
      "metadata": {
        "_cell_guid": "d2211383-b91a-6682-b8af-347b96c17758"
      },
      "outputs": [],
      "source": [
        "always_win"
      ]
    },
    {
      "cell_type": "code",
      "execution_count": null,
      "metadata": {
        "_cell_guid": "333f573a-cef1-01cb-7de3-682c541c638e"
      },
      "outputs": [],
      "source": [
        "teams = pd.read_csv('../input/Teams.csv').set_index('Team_Id')\n",
        "teams.head()"
      ]
    },
    {
      "cell_type": "code",
      "execution_count": null,
      "metadata": {
        "_cell_guid": "348818f2-a233-01c9-fb3b-2ef59b239e67"
      },
      "outputs": [],
      "source": [
        "always_win.loc[:, 'Wteam'] = always_win.Wteam.astype('int').map(teams.Team_Name)\n",
        "always_win.loc[:, 'Lteam'] = always_win.Lteam.astype('int').map(teams.Team_Name)"
      ]
    },
    {
      "cell_type": "code",
      "execution_count": null,
      "metadata": {
        "_cell_guid": "a443d21f-f362-0cfd-9fcf-eca6fb763517"
      },
      "outputs": [],
      "source": [
        "always_win"
      ]
    },
    {
      "cell_type": "markdown",
      "metadata": {
        "_cell_guid": "ab122534-4277-3b69-9afc-bee0dfac7b41"
      },
      "source": [
        "OK. Now you can go ahead and pull out all their technical stats for their matches to have a detailed study why e.g. Arizona beat and never lost to Northern Arizona 20+ times.\n",
        "\n",
        "Suppose it will give you clues that what are important factors for a team to keep winning."
      ]
    },
    {
      "cell_type": "code",
      "execution_count": null,
      "metadata": {
        "_cell_guid": "6dde27ae-2df5-a405-3026-9b4a5e66e21d"
      },
      "outputs": [],
      "source": [
        ""
      ]
    }
  ],
  "metadata": {
    "_change_revision": 0,
    "_is_fork": false,
    "kernelspec": {
      "display_name": "Python 3",
      "language": "python",
      "name": "python3"
    },
    "language_info": {
      "codemirror_mode": {
        "name": "ipython",
        "version": 3
      },
      "file_extension": ".py",
      "mimetype": "text/x-python",
      "name": "python",
      "nbconvert_exporter": "python",
      "pygments_lexer": "ipython3",
      "version": "3.6.0"
    }
  },
  "nbformat": 4,
  "nbformat_minor": 0
}