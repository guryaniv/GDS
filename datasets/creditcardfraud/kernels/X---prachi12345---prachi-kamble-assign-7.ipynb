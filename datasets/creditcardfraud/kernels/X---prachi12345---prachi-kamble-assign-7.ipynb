{
  "cells": [
    {
      "cell_type": "code",
      "execution_count": null,
      "metadata": {
        "_cell_guid": "febc3a39-0d6c-085c-a7e5-f1bacd1ec0d9"
      },
      "outputs": [],
      "source": [
        "import nltk\n",
        "#natural language toolkit"
      ]
    },
    {
      "cell_type": "code",
      "execution_count": null,
      "metadata": {
        "_cell_guid": "22e800b4-9e3a-7db1-02f3-59715aee7982"
      },
      "outputs": [],
      "source": [
        "from nltk.book import*\n",
        "#9 types of text available in NLTK book you may choose any text as per your interest"
      ]
    },
    {
      "cell_type": "code",
      "execution_count": null,
      "metadata": {
        "_cell_guid": "5d5a2964-7568-a17b-2d30-6c99f8d5d739"
      },
      "outputs": [],
      "source": [
        "# display all occurences of word in piece of text along with context\n",
        "text1.concordance(\"by\")"
      ]
    },
    {
      "cell_type": "code",
      "execution_count": null,
      "metadata": {
        "_cell_guid": "954a81e5-68bf-f52b-0fd9-7fff0a4ea08c"
      },
      "outputs": [],
      "source": [
        "text2.concordance(\"by\")"
      ]
    },
    {
      "cell_type": "code",
      "execution_count": null,
      "metadata": {
        "_cell_guid": "bad0d595-71c4-e498-86f8-7444f43662e1"
      },
      "outputs": [],
      "source": [
        "text2.concordance(\"the\")"
      ]
    },
    {
      "cell_type": "code",
      "execution_count": null,
      "metadata": {
        "_cell_guid": "4fe76cc7-5f52-f1f5-dfba-9b29d3bbf84c"
      },
      "outputs": [],
      "source": [
        "# returns a list of words that appaer in similar context usually synonyms\n",
        "text1.similar(\"by\""
      ]
    },
    {
      "cell_type": "code",
      "execution_count": null,
      "metadata": {
        "_cell_guid": "f3956dcd-1776-2781-737d-78d88c1cf3ba"
      },
      "outputs": [],
      "source": [
        "# returns a list of words that appaer in similar context usually synonyms\n",
        "text1.similar(\"by\")"
      ]
    },
    {
      "cell_type": "code",
      "execution_count": null,
      "metadata": {
        "_cell_guid": "1f4b9a21-ca02-0b24-a1c3-3d646b4178ff"
      },
      "outputs": [],
      "source": [
        "# returns a list of words that appaer in similar context usually synonyms\n",
        "text1.similar(\"such\")"
      ]
    },
    {
      "cell_type": "code",
      "execution_count": null,
      "metadata": {
        "_cell_guid": "3ed5e29a-d39d-8541-aed8-db7620785cc8"
      },
      "outputs": [],
      "source": [
        "text2.similar(\"the\")"
      ]
    },
    {
      "cell_type": "code",
      "execution_count": null,
      "metadata": {
        "_cell_guid": "b4d230ea-0704-17f4-75a5-5ed783e959a8"
      },
      "outputs": [],
      "source": [
        "# returns contexts shared by 2 words\n",
        "text2.common_contexts(['and','poor'])"
      ]
    },
    {
      "cell_type": "code",
      "execution_count": null,
      "metadata": {
        "_cell_guid": "84d7e757-511e-1609-a025-042bb699d689"
      },
      "outputs": [],
      "source": [
        "# print plot of all occurences of the word relative to begining of the text\n",
        "text1.dispersion_plot(['and','poor'])"
      ]
    },
    {
      "cell_type": "code",
      "execution_count": null,
      "metadata": {
        "_cell_guid": "dff407dc-f130-1adf-edc2-222a21f36cb1"
      },
      "outputs": [],
      "source": [
        "from nltk.tokenize import word_tokenize, sent_tokenize\n",
        "text=\"this is bvcoew. bvcoew is sppu affiliated\"\n",
        "sents=sent_tokenize(text)\n",
        "print(sents)"
      ]
    },
    {
      "cell_type": "code",
      "execution_count": null,
      "metadata": {
        "_cell_guid": "a4646b0d-7171-3df2-a579-83641269efb7"
      },
      "outputs": [],
      "source": [
        "from nltk.tokenize import word_tokenize, sent_tokenize\n",
        "text=\"this is bvcoew. bvcoew is sppu affiliated\"\n",
        "sents=sent_tokenize(text)\n",
        "print(sents)"
      ]
    },
    {
      "cell_type": "code",
      "execution_count": null,
      "metadata": {
        "_cell_guid": "70012711-c4bc-3ddb-caac-e57b60d3bba5"
      },
      "outputs": [],
      "source": [
        "from nltk.tokenize import word_tokenize, sent_tokenize\n",
        "text=\"hello.Good morning.Have a nice day\"\n",
        "sents=sent_tokenize(text)\n",
        "print(sents)"
      ]
    },
    {
      "cell_type": "code",
      "execution_count": null,
      "metadata": {
        "_cell_guid": "8e6b8451-f228-b5d9-a1b6-59cdcc09d43b"
      },
      "outputs": [],
      "source": [
        "l = nltk.word_tokenize(text)\n",
        "print(l"
      ]
    },
    {
      "cell_type": "code",
      "execution_count": null,
      "metadata": {
        "_cell_guid": "2bef4805-9795-6449-7883-47074704e9be"
      },
      "outputs": [],
      "source": [
        "l = nltk.word_tokenize(text)\n",
        "print(l)"
      ]
    },
    {
      "cell_type": "code",
      "execution_count": null,
      "metadata": {
        "_cell_guid": "ac2c619d-8e34-7bcd-70a7-3c74c9d1bfc4"
      },
      "outputs": [],
      "source": [
        "# Let's filter out stopwords (words that are very common like 'was', 'a', 'as etc)\n",
        "from nltk.corpus import stopwords \n",
        "from string import punctuation\n",
        "customStopWords=set(stopwords.words('english')+list(punctuation))\n",
        "#Notice how we made the stopwords a set\n",
        "\n",
        "wordsWOStopwords=[word for word in word_tokenize(text) if word not in customStopWords]\n",
        "print(wordsWOStopwords)"
      ]
    },
    {
      "cell_type": "code",
      "execution_count": null,
      "metadata": {
        "_cell_guid": "2b000d60-a259-1fb9-564e-472cef6b4d97"
      },
      "outputs": [],
      "source": [
        "text2=\"the human experience has in some ways changed but in many ways it has stayed pretty much the same..\"\n",
        "# 'close' appears in different morphological forms here, stemming will reduce all forms of the word 'close' to its root\n",
        "# NLTK has multiple stemmers based on different rules/algorithms. Stemming is also known as lemmatization. \n",
        "from nltk.stem.lancaster import LancasterStemmer\n",
        "st=LancasterStemmer()\n",
        "stemmedWords=[st.stem(word) for word in word_tokenize(text2)]\n",
        "print(stemmedWords)"
      ]
    },
    {
      "cell_type": "code",
      "execution_count": null,
      "metadata": {
        "_cell_guid": "de50c79a-9cf8-1bc7-d371-087984390441"
      },
      "outputs": [],
      "source": [
        "#NLTK has functionality to automatically tag words as nouns, verbs, conjunctions etc\n",
        "nltk.pos_tag(word_tokenize(text2))"
      ]
    },
    {
      "cell_type": "code",
      "execution_count": null,
      "metadata": {
        "_cell_guid": "c6bfe9e7-2724-cad8-9472-89fd54a7f938"
      },
      "outputs": [],
      "source": ""
    }
  ],
  "metadata": {
    "_change_revision": 0,
    "_is_fork": false,
    "kernelspec": {
      "display_name": "Python 3",
      "language": "python",
      "name": "python3"
    },
    "language_info": {
      "codemirror_mode": {
        "name": "ipython",
        "version": 3
      },
      "file_extension": ".py",
      "mimetype": "text/x-python",
      "name": "python",
      "nbconvert_exporter": "python",
      "pygments_lexer": "ipython3",
      "version": "3.6.0"
    }
  },
  "nbformat": 4,
  "nbformat_minor": 0
}