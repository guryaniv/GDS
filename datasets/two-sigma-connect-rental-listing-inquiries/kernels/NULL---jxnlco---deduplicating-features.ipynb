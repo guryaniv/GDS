{
  "metadata": {
    "kernelspec": {
      "display_name": "Python 3",
      "language": "python",
      "name": "python3"
    },
    "language_info": {
      "codemirror_mode": {
        "name": "ipython",
        "version": 3
      },
      "file_extension": ".py",
      "mimetype": "text/x-python",
      "name": "python",
      "nbconvert_exporter": "python",
      "pygments_lexer": "ipython3",
      "version": "3.6.0"
    }
  },
  "nbformat": 4,
  "nbformat_minor": 0,
  "cells": [
    {
      "metadata": {
        "_cell_guid": "ca50d942-809f-21d9-aa30-7f4eb60999b3",
        "_active": false,
        "collapsed": false
      },
      "source": "# Processing and deduplicating Features",
      "execution_count": null,
      "cell_type": "markdown",
      "outputs": [],
      "execution_state": "idle"
    },
    {
      "metadata": {
        "_cell_guid": "cca36417-3de2-c57d-8616-10a6f0e65574",
        "_active": false,
        "collapsed": false
      },
      "source": "# This Python 3 environment comes with many helpful analytics libraries installed\n# It is defined by the kaggle/python docker image: https://github.com/kaggle/docker-python\n# For example, here's several helpful packages to load in \n\nimport numpy as np # linear algebra\nimport pandas as pd # data processing, CSV file I/O (e.g. pd.read_csv)\nfrom collections import defaultdict, Counter",
      "execution_count": 28,
      "cell_type": "code",
      "outputs": [],
      "execution_state": "idle"
    },
    {
      "metadata": {
        "_cell_guid": "e98c7c95-b212-5060-ca03-d067e387fab8",
        "_active": false,
        "collapsed": false
      },
      "source": "train_df = pd.read_json(\"../input/train.json\")\ntest_df = pd.read_json(\"../input/test.json\")\ntrain_test = pd.concat([train_df, test_df], 0)",
      "execution_count": 29,
      "cell_type": "code",
      "outputs": [],
      "execution_state": "idle"
    },
    {
      "metadata": {
        "_cell_guid": "51ca91e9-2aff-8692-f970-19f264c4cd77",
        "_active": false,
        "collapsed": false
      },
      "source": "I'm going do assume you've taken a look at the data and noticed that some features are duplicates and that some are also rare (occurs very few times).\n\nThat being said lets try to drop rare features and also try to deduplicate similar features using first-k-chars. as a hash.\n\nFirst we'll read in data, lowercase everything and remove any whitespace",
      "execution_count": null,
      "cell_type": "markdown",
      "outputs": [],
      "execution_state": "idle"
    },
    {
      "metadata": {
        "_cell_guid": "711d4fc1-9227-cfcc-d52d-abb51f121215",
        "_active": false,
        "collapsed": false
      },
      "source": "features = train_test[[\"features\"]].apply(\n    lambda _: [list(map(str.strip, map(str.lower, x))) for x in _])",
      "execution_count": 30,
      "cell_type": "code",
      "outputs": [],
      "execution_state": "idle"
    },
    {
      "metadata": {
        "_cell_guid": "88f5e787-7b4f-6ad7-a14e-6a94d3b08427",
        "_active": false,
        "collapsed": false
      },
      "source": "features.head()",
      "execution_count": 31,
      "cell_type": "code",
      "outputs": [],
      "execution_state": "idle"
    },
    {
      "metadata": {
        "_cell_guid": "87e36a06-e749-29a0-28df-4de98d9980c6",
        "_active": false,
        "collapsed": false
      },
      "source": "# count features and drop features with less than n counts\n\nn = 5\n\nfeature_counts = Counter()\nfor feature in features.features:\n    feature_counts.update(feature)\nfeature = sorted([k for (k,v) in feature_counts.items() if v > n])\nfeature[:10]",
      "execution_count": 32,
      "cell_type": "code",
      "outputs": [],
      "execution_state": "idle"
    },
    {
      "metadata": {
        "_cell_guid": "49f8b3fe-a2ee-390c-a949-f0ee6042c159",
        "_active": false,
        "collapsed": false
      },
      "source": "\nNotice that we see like variations of `24-hour` and we will see later that thats not the only duplicate features ",
      "execution_count": null,
      "cell_type": "markdown",
      "outputs": [],
      "execution_state": "idle"
    },
    {
      "metadata": {
        "_cell_guid": "8e91f7ce-8546-2656-3bfb-537449c59130",
        "_active": false,
        "collapsed": false
      },
      "source": "## Hashing cleaned up data using first4 characters.\n\nWe will first do some manual work to simplify the strings and use the first four characters as a key for each feature. then we will use that key to deduce data.",
      "execution_count": null,
      "cell_type": "markdown",
      "outputs": [],
      "execution_state": "idle"
    },
    {
      "metadata": {
        "_cell_guid": "6008d677-857f-33bc-1997-492e251462d7",
        "_active": false,
        "collapsed": false
      },
      "source": "def clean(s):\n    x = s.replace(\"-\", \"\")\n    x = x.replace(\" \", \"\")\n    x = x.replace(\"twenty four hour\", \"24\")\n    x = x.replace(\"24/7\", \"24\")\n    x = x.replace(\"24hr\", \"24\")\n    x = x.replace(\"24-hour\", \"24\")\n    x = x.replace(\"24hour\", \"24\")\n    x = x.replace(\"24 hour\", \"24\")\n    x = x.replace(\"common\", \"cm\")\n    x = x.replace(\"concierge\", \"doorman\")\n    x = x.replace(\"bicycle\", \"bike\")\n    x = x.replace(\"private\", \"pv\")\n    x = x.replace(\"deco\", \"dc\")\n    x = x.replace(\"decorative\", \"dc\")\n    x = x.replace(\"onsite\", \"os\")\n    x = x.replace(\"outdoor\", \"od\")\n    x = x.replace(\"ss appliances\", \"stainless\")\n    return x\n\ndef feature_hash(x):\n    cleaned = clean(x, uniq)\n    key = cleaned[:4].strip()\n    return key",
      "execution_count": 33,
      "cell_type": "code",
      "outputs": [],
      "execution_state": "idle"
    },
    {
      "metadata": {
        "_cell_guid": "f9c98480-f16f-459c-2fe1-42aa898741d7",
        "_active": false,
        "collapsed": false
      },
      "source": "key2original = defaultdict(list)\nk = 4\nfor f in feature:\n    cleaned = clean(f)\n    key = cleaned[:k].strip()\n    key2original[key].append(f)",
      "execution_count": 34,
      "cell_type": "code",
      "outputs": [],
      "execution_state": "idle"
    },
    {
      "metadata": {
        "_cell_guid": "fa7e33dc-455e-30c4-254b-24ee821698b3",
        "_active": false,
        "collapsed": false
      },
      "source": "Lets take a look at the dedups! Don't worry about the key, but just take a look at what values are in the same key",
      "execution_count": null,
      "cell_type": "markdown",
      "outputs": [],
      "execution_state": "idle"
    },
    {
      "metadata": {
        "_cell_guid": "9fc17293-88b5-b8f3-e284-6a8908b40e94",
        "_active": false,
        "collapsed": false
      },
      "source": "key2original",
      "execution_count": 35,
      "cell_type": "code",
      "outputs": [],
      "execution_state": "idle"
    },
    {
      "metadata": {
        "_cell_guid": "f0ac1577-9c10-43aa-0635-625206c81ca6",
        "_active": false,
        "collapsed": false
      },
      "source": "print(\"number of deduped features:\", len(key2original))\nprint(\"number of old features:\", len(feature))",
      "execution_count": 36,
      "cell_type": "code",
      "outputs": [],
      "execution_state": "idle"
    },
    {
      "metadata": {
        "_cell_guid": "cd38bd74-52bc-4540-1dff-cc43fd923464",
        "_active": false,
        "collapsed": false
      },
      "source": "In order to make this easier to use, I'll output this as a CSV of the original feature and the deduced string.",
      "execution_count": null,
      "cell_type": "markdown",
      "outputs": [],
      "execution_state": "idle"
    },
    {
      "metadata": {
        "_cell_guid": "520f8643-3fe8-91d7-87e6-344fde1121fa",
        "_active": false,
        "collapsed": false
      },
      "source": "def to_tuples():\n    for f in feature:\n        key = clean(f)[:k].strip()\n        yield (f, key2original[key][0])\n        \ndeduped = list(to_tuples())\ndf = pd.DataFrame(deduped, columns=[\"original_feature\", \"unique_feature\"])",
      "execution_count": 45,
      "cell_type": "code",
      "outputs": [],
      "execution_state": "idle"
    },
    {
      "metadata": {
        "_cell_guid": "2e359de4-ce84-0166-ed95-0254514c0031",
        "_active": false,
        "collapsed": false
      },
      "source": "df.head()",
      "execution_count": 46,
      "cell_type": "code",
      "outputs": [],
      "execution_state": "idle"
    },
    {
      "metadata": {
        "_cell_guid": "ed567daf-a737-8c8e-4346-84a82cb43bd5",
        "_active": false,
        "collapsed": false
      },
      "source": "df.to_csv(\"feature_deduplication.csv\", index=False)",
      "execution_count": 47,
      "cell_type": "code",
      "outputs": [],
      "execution_state": "idle"
    },
    {
      "metadata": {
        "_cell_guid": "305f5c90-23ec-9aa0-5e8c-f1fa1295b0e5",
        "_active": true,
        "collapsed": false
      },
      "source": null,
      "execution_count": null,
      "cell_type": "code",
      "outputs": []
    }
  ]
}