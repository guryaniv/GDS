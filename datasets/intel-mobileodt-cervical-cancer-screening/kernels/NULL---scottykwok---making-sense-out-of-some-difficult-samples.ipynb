{
  "cells": [
    {
      "cell_type": "markdown",
      "metadata": {
        "_cell_guid": "3bfe1860-3cc1-ca84-4789-aab603f02b52"
      },
      "source": [
        "There are many non-trivial samples, I listed a few below.\n",
        "\n",
        "Appreciate if anyone could shed some lights on How/Why they were classified as current type."
      ]
    },
    {
      "cell_type": "code",
      "execution_count": null,
      "metadata": {
        "_cell_guid": "36d351b4-9007-c3e5-2224-6499c976d4c0"
      },
      "outputs": [],
      "source": [
        "import matplotlib.pyplot as plt\n",
        "import cv2\n",
        "def show(path):\n",
        "    img = cv2.imread(path)\n",
        "    img = cv2.cvtColor(img, cv2.COLOR_BGR2RGB)\n",
        "    plt.imshow(img)\n",
        "    plt.show()"
      ]
    },
    {
      "cell_type": "markdown",
      "metadata": {
        "_cell_guid": "97f8af92-dd29-8614-4a67-70186c28cfa7"
      },
      "source": [
        "## Why are these Type 1 ?##"
      ]
    },
    {
      "cell_type": "code",
      "execution_count": null,
      "metadata": {
        "_cell_guid": "055db28e-ce90-edcd-13ea-3fe38d3f40cc"
      },
      "outputs": [],
      "source": [
        "show('../input/train/Type_1/109.jpg')\n",
        "show('../input/train/Type_1/27.jpg')\n",
        "show('../input/train/Type_1/1061.jpg')\n",
        "show('../input/train/Type_1/593.jpg')\n",
        "show('../input/train/Type_1/619.jpg')\n",
        "show('../input/train/Type_1/984.jpg')"
      ]
    },
    {
      "cell_type": "markdown",
      "metadata": {
        "_cell_guid": "0fdaee45-1892-6854-6b88-06341c1bb7f6"
      },
      "source": [
        "##Why are these Type 2 instead of Type 3 ?##"
      ]
    },
    {
      "cell_type": "code",
      "execution_count": null,
      "metadata": {
        "_cell_guid": "a7b7d459-9559-1bbf-d922-93415029d1c4"
      },
      "outputs": [],
      "source": [
        "show('../input/train/Type_2/584.jpg')\n",
        "show('../input/train/Type_2/140.jpg')\n",
        "show('../input/train/Type_2/1213.jpg')\n",
        "show('../input/train/Type_2/1125.jpg')\n",
        "show('../input/train/Type_2/1068.jpg')\n",
        "show('../input/train/Type_2/80.jpg')\n",
        "show('../input/train/Type_2/128.jpg')\n",
        "show('../input/train/Type_2/716.jpg')\n",
        "show('../input/train/Type_2/1241.jpg')"
      ]
    },
    {
      "cell_type": "markdown",
      "metadata": {
        "_cell_guid": "80b56c3a-6c32-032c-734a-cc911e9898d3"
      },
      "source": [
        "## Why are these Type 3 instead of Type 1 ? ##"
      ]
    },
    {
      "cell_type": "code",
      "execution_count": null,
      "metadata": {
        "_cell_guid": "260d7a1d-3675-90b4-4072-964b39d5efff"
      },
      "outputs": [],
      "source": [
        "show('../input/train/Type_3/968.jpg')\n",
        "show('../input/train/Type_3/1120.jpg') "
      ]
    },
    {
      "cell_type": "markdown",
      "metadata": {
        "_cell_guid": "61a36002-cdd5-1f78-0317-5a067f24144c"
      },
      "source": [
        "## Does these samples have sufficient information to classify the type ? ##"
      ]
    },
    {
      "cell_type": "code",
      "execution_count": null,
      "metadata": {
        "_cell_guid": "7d0e7482-1b79-06b1-b6be-7f1060601a1c"
      },
      "outputs": [],
      "source": [
        "show('../input/train/Type_3/146.jpg')\n",
        "show('../input/train/Type_2/184.jpg')"
      ]
    }
  ],
  "metadata": {
    "_change_revision": 0,
    "_is_fork": false,
    "kernelspec": {
      "display_name": "Python 3",
      "language": "python",
      "name": "python3"
    },
    "language_info": {
      "codemirror_mode": {
        "name": "ipython",
        "version": 3
      },
      "file_extension": ".py",
      "mimetype": "text/x-python",
      "name": "python",
      "nbconvert_exporter": "python",
      "pygments_lexer": "ipython3",
      "version": "3.6.0"
    }
  },
  "nbformat": 4,
  "nbformat_minor": 0
}