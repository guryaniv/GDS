{
  "cells": [
    {
      "cell_type": "markdown",
      "metadata": {
        "_cell_guid": "69a3197d-281f-dcc9-2dbd-3cb1c7d6fea0"
      },
      "source": [
        "Exploration"
      ]
    },
    {
      "cell_type": "code",
      "execution_count": null,
      "metadata": {
        "_cell_guid": "948092fc-e2fc-c88b-d8a6-28aeea7b389c"
      },
      "outputs": [],
      "source": [
        "import numpy as np\n",
        "import pandas as pd\n",
        "import tensorflow as tf\n",
        "from bs4 import BeautifulSoup\n",
        "from functools import reduce\n",
        "from IPython.display import display\n",
        "\n",
        "# Convert csv files into dataframes\n",
        "biology_pd = pd.read_csv('../input/biology.csv')\n",
        "cooking_pd = pd.read_csv('../input/cooking.csv')\n",
        "cryptology_pd = pd.read_csv('../input/crypto.csv')\n",
        "diy_pd = pd.read_csv('../input/diy.csv')\n",
        "robotics_pd = pd.read_csv('../input/robotics.csv')\n",
        "travel_pd = pd.read_csv('../input/travel.csv')\n",
        "test_pd = pd.read_csv('../input/test.csv')\n",
        "\n",
        "# Print dataframe heads\n",
        "print('Biology: %i questions' % biology_pd.shape[0])\n",
        "print('Cooking: %i questions' % cooking_pd.shape[0])\n",
        "print('Crytology: %i questions' % cryptology_pd.shape[0])\n",
        "print('DIY: %i questions' % diy_pd.shape[0])\n",
        "print('Robotics: %i questions' % robotics_pd.shape[0])\n",
        "print('Travel: %i questions' % travel_pd.shape[0])\n",
        "print('Test: %i questions' % test_pd.shape[0])\n"
      ]
    }
  ],
  "metadata": {
    "_change_revision": 0,
    "_is_fork": false,
    "kernelspec": {
      "display_name": "Python 3",
      "language": "python",
      "name": "python3"
    },
    "language_info": {
      "codemirror_mode": {
        "name": "ipython",
        "version": 3
      },
      "file_extension": ".py",
      "mimetype": "text/x-python",
      "name": "python",
      "nbconvert_exporter": "python",
      "pygments_lexer": "ipython3",
      "version": "3.5.2"
    }
  },
  "nbformat": 4,
  "nbformat_minor": 0
}