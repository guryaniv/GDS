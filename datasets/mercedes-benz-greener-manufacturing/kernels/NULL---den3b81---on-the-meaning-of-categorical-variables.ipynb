{
  "cells": [
    {
      "cell_type": "markdown",
      "metadata": {
        "_cell_guid": "6968834e-ffc9-de2b-9e0f-600ad8f83855"
      },
      "source": [
        "Hello there,\n",
        "\n",
        "I noticed that some boolean features (X10 to X385) are constant within the classes of some categorical variables, in particular those of X0, X1, X2 and X5. This phenomenon is especially marked for X2 and X0 with 65 and 19 features involved respectively. These columns vary across the dataset, but they remain fixed to either 0 or 1 within the classes of the aforementioned categorical variables.\n",
        "\n",
        "What does it mean? Could it be that some of these categorical variables are actually encoding some of the boolean features? \n",
        "\n",
        "Here follows the code that lead to my analysis. Please let me know if there is something wrong with it :D and please upvote this notebook if you liked it!\n",
        "\n",
        "Cheers!"
      ]
    },
    {
      "cell_type": "code",
      "execution_count": null,
      "metadata": {
        "_cell_guid": "9ba34be6-9b70-9822-0005-d572c99d207c"
      },
      "outputs": [],
      "source": [
        "### load modules\n",
        "import pandas as pd\n",
        "import numpy as np"
      ]
    },
    {
      "cell_type": "code",
      "execution_count": null,
      "metadata": {
        "_cell_guid": "8d30b450-bb9e-a34a-e820-c057c1efa302"
      },
      "outputs": [],
      "source": [
        "# load training data (we could also include the test data in our analysis, it won't change much)\n",
        "train_df  = pd.read_csv('../input/train.csv')\n",
        "\n",
        "# remove ID, y and constant columns \n",
        "df = train_df.drop(['ID','y'], axis = 1)\n",
        "df = df.loc[:, (df != df.ix[0]).any()] "
      ]
    },
    {
      "cell_type": "code",
      "execution_count": null,
      "metadata": {
        "_cell_guid": "b3e3ffd7-5aa4-4c92-1d29-8bec8748162d"
      },
      "outputs": [],
      "source": [
        "# now let's loop across the categorical variables\n",
        "categorical = ['X0','X1','X2','X3','X4','X5','X6','X8']\n",
        "for cat in categorical:   \n",
        "    # this groupby finds the columns which are constant within classes in the categorical feature\n",
        "    temp = (df.groupby(cat).std().mean()==0)    \n",
        "    constant_cols = temp[temp==True].index.tolist()\n",
        "    print('{1} constant columns across {0}\\n'.format(cat,len(constant_cols)))\n",
        "    print(constant_cols)\n",
        "    print('********************************')"
      ]
    },
    {
      "cell_type": "code",
      "execution_count": null,
      "metadata": {
        "_cell_guid": "39d15cbd-08e2-cdd2-980c-816bba14bb5c"
      },
      "outputs": [],
      "source": [
        "# let's see for instance the columns which are constant across X0 (taken from above)\n",
        "const_cols_across_X0 = ['X29', 'X54', 'X76', 'X118', 'X119', 'X136', 'X186', \n",
        "                         'X187', 'X194', 'X231', 'X232', 'X236', 'X263', 'X277', \n",
        "                         'X279', 'X313', 'X314', 'X315', 'X316']\n",
        "df.groupby('X0').mean()[const_cols_across_X0]"
      ]
    },
    {
      "cell_type": "markdown",
      "metadata": {
        "_cell_guid": "a158671b-a366-e00c-b7e7-e6a360259600"
      },
      "source": [
        "See? The mean values are either 0 or 1!"
      ]
    },
    {
      "cell_type": "markdown",
      "metadata": {
        "_cell_guid": "7ab36534-889a-c4ce-ef0d-09cb63e9e20b"
      },
      "source": [
        "### Let's consider also the test dataset (as kindly suggested by Mike)"
      ]
    },
    {
      "cell_type": "code",
      "execution_count": null,
      "metadata": {
        "_cell_guid": "34c725f1-cd54-f7e6-407a-2f6ece5d786e"
      },
      "outputs": [],
      "source": [
        "# load test data\n",
        "test_df  = pd.read_csv('../input/test.csv')\n",
        "\n",
        "# remove ID, y, combine datasets and remove constant columns \n",
        "df = pd.concat([train_df.drop(['ID','y'], axis = 1),test_df.drop(['ID'], axis = 1)]).reset_index(drop = True)\n",
        "df = df.loc[:, (df != df.ix[0]).any()] "
      ]
    },
    {
      "cell_type": "code",
      "execution_count": null,
      "metadata": {
        "_cell_guid": "3e4484c4-7dc5-b78a-12dd-6c86c6097358"
      },
      "outputs": [],
      "source": [
        "# now let's loop across the categorical variables\n",
        "categorical = ['X0','X1','X2','X3','X4','X5','X6','X8']\n",
        "for cat in categorical:   \n",
        "    # this groupby finds the columns which are constant within classes in the categorical feature\n",
        "    temp = (df.groupby(cat).std().mean()==0)    \n",
        "    constant_cols = temp[temp==True].index.tolist()\n",
        "    print('{1} constant columns across {0}\\n'.format(cat,len(constant_cols)))\n",
        "    print(constant_cols)\n",
        "    print('********************************')"
      ]
    },
    {
      "cell_type": "markdown",
      "metadata": {
        "_cell_guid": "cc64935c-9b4f-613b-aa77-138834f4bf70"
      },
      "source": [
        "Things don't seem to change that much after all (?)"
      ]
    }
  ],
  "metadata": {
    "_change_revision": 0,
    "_is_fork": false,
    "kernelspec": {
      "display_name": "Python 3",
      "language": "python",
      "name": "python3"
    },
    "language_info": {
      "codemirror_mode": {
        "name": "ipython",
        "version": 3
      },
      "file_extension": ".py",
      "mimetype": "text/x-python",
      "name": "python",
      "nbconvert_exporter": "python",
      "pygments_lexer": "ipython3",
      "version": "3.6.0"
    }
  },
  "nbformat": 4,
  "nbformat_minor": 0
}