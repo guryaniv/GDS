{
  "cells": [
    {
      "cell_type": "code",
      "execution_count": null,
      "metadata": {
        "_cell_guid": "0df302ee-68a1-85bb-5069-d8f4c49c981e"
      },
      "outputs": [],
      "source": [
        "# This Python 3 environment comes with many helpful analytics libraries installed\n",
        "# It is defined by the kaggle/python docker image: https://github.com/kaggle/docker-python\n",
        "# For example, here's several helpful packages to load in \n",
        "\n",
        "import numpy as np # linear algebra\n",
        "import pandas as pd # data processing, CSV file I/O (e.g. pd.read_csv)\n",
        "import skimage, os\n",
        "from skimage.morphology import ball, disk, dilation, binary_erosion, remove_small_objects, erosion, closing, reconstruction, binary_closing\n",
        "from skimage.measure import label,regionprops, perimeter\n",
        "from skimage.morphology import binary_dilation, binary_opening\n",
        "from skimage.filters import roberts, sobel\n",
        "from skimage import measure, feature\n",
        "from skimage.segmentation import clear_border\n",
        "from skimage import data\n",
        "from scipy import ndimage as ndi\n",
        "import matplotlib.pyplot as plt\n",
        "from mpl_toolkits.mplot3d.art3d import Poly3DCollection\n",
        "import dicom\n",
        "import scipy.misc\n",
        "import numpy as np\n",
        "\n",
        "# Input data files are available in the \"../input/\" directory.\n",
        "# For example, running this (by clicking run or pressing Shift+Enter) will list the files in the input directory\n",
        "\n",
        "from subprocess import check_output\n",
        "print(check_output([\"ls\", \"../input\"]).decode(\"utf8\"))\n",
        "\n",
        "# Any results you write to the current directory are saved as output."
      ]
    },
    {
      "cell_type": "code",
      "execution_count": null,
      "metadata": {
        "_cell_guid": "204266c1-0368-4979-c998-5f8b15e9e9d5"
      },
      "outputs": [],
      "source": [
        "# Any results you write to the current directory are saved as output.\n",
        "lung = dicom.read_file('../input/sample_images/00cba091fa4ad62cc3200a657aeb957e/38c4ff5d36b5a6b6dc025435d62a143d.dcm')\n",
        "\n",
        "slice = lung.pixel_array\n",
        "slice[slice == -2000] = 0\n",
        "plt.imshow(slice, cmap=plt.cm.gray)"
      ]
    },
    {
      "cell_type": "code",
      "execution_count": null,
      "metadata": {
        "_cell_guid": "09b466e6-85e8-61d9-3a54-8ae168808914"
      },
      "outputs": [],
      "source": [
        "def read_ct_scan(folder_name):\n",
        "        # Read the slices from the dicom file\n",
        "        slices = [dicom.read_file(folder_name + filename) for filename in os.listdir(folder_name)]\n",
        "        \n",
        "        # Sort the dicom slices in their respective order\n",
        "        slices.sort(key=lambda x: int(x.InstanceNumber))\n",
        "        \n",
        "        # Get the pixel values for all the slices\n",
        "        slices = np.stack([s.pixel_array for s in slices])\n",
        "        slices[slices == -2000] = 0\n",
        "        return slices"
      ]
    },
    {
      "cell_type": "code",
      "execution_count": null,
      "metadata": {
        "_cell_guid": "83d55800-bc8d-49e3-5067-c86fb3179d34"
      },
      "outputs": [],
      "source": [
        "ct_scan = read_ct_scan('../input/sample_images/00cba091fa4ad62cc3200a657aeb957e/') "
      ]
    },
    {
      "cell_type": "code",
      "execution_count": null,
      "metadata": {
        "_cell_guid": "d5a03873-b10d-c6e2-c156-03e489550db3"
      },
      "outputs": [],
      "source": [
        "def plot_ct_scan(scan):\n",
        "    f, plots = plt.subplots(int(scan.shape[0] / 20) + 1, 4, figsize=(25, 25))\n",
        "    for i in range(0, scan.shape[0], 5):\n",
        "        plots[int(i / 20), int((i % 20) / 5)].axis('off')\n",
        "        plots[int(i / 20), int((i % 20) / 5)].imshow(scan[i], cmap=plt.cm.bone) "
      ]
    },
    {
      "cell_type": "code",
      "execution_count": null,
      "metadata": {
        "_cell_guid": "a4e7c187-0620-9d7b-48e8-1b8d984e2fa0"
      },
      "outputs": [],
      "source": [
        "def get_segmented_lungs(im, plot=False):\n",
        "    \n",
        "    '''\n",
        "    This funtion segments the lungs from the given 2D slice.\n",
        "    '''\n",
        "    if plot == True:\n",
        "        f, plots = plt.subplots(8, 1, figsize=(5, 40))\n",
        "    '''\n",
        "    Step 1: Convert into a binary image. \n",
        "    '''\n",
        "    binary = im < 604\n",
        "    if plot == True:\n",
        "        plots[0].axis('off')\n",
        "        plots[0].imshow(binary, cmap=plt.cm.bone) \n",
        "    '''\n",
        "    Step 2: Remove the blobs connected to the border of the image.\n",
        "    '''\n",
        "    cleared = clear_border(binary)\n",
        "    if plot == True:\n",
        "        plots[1].axis('off')\n",
        "        plots[1].imshow(cleared, cmap=plt.cm.bone) \n",
        "    '''\n",
        "    Step 3: Label the image.\n",
        "    '''\n",
        "    label_image = label(cleared)\n",
        "    if plot == True:\n",
        "        plots[2].axis('off')\n",
        "        plots[2].imshow(label_image, cmap=plt.cm.bone) \n",
        "    '''\n",
        "    Step 4: Keep the labels with 2 largest areas.\n",
        "    '''\n",
        "    areas = [r.area for r in regionprops(label_image)]\n",
        "    areas.sort()\n",
        "    if len(areas) > 2:\n",
        "        for region in regionprops(label_image):\n",
        "            if region.area < areas[-2]:\n",
        "                for coordinates in region.coords:                \n",
        "                       label_image[coordinates[0], coordinates[1]] = 0\n",
        "    binary = label_image > 0\n",
        "    if plot == True:\n",
        "        plots[3].axis('off')\n",
        "        plots[3].imshow(binary, cmap=plt.cm.bone) \n",
        "    '''\n",
        "    Step 5: Erosion operation with a disk of radius 2. This operation is \n",
        "    seperate the lung nodules attached to the blood vessels.\n",
        "    '''\n",
        "    selem = disk(2)\n",
        "    binary = binary_erosion(binary, selem)\n",
        "    if plot == True:\n",
        "        plots[4].axis('off')\n",
        "        plots[4].imshow(binary, cmap=plt.cm.bone) \n",
        "    '''\n",
        "    Step 6: Closure operation with a disk of radius 10. This operation is \n",
        "    to keep nodules attached to the lung wall.\n",
        "    '''\n",
        "    selem = disk(10)\n",
        "    binary = binary_closing(binary, selem)\n",
        "    if plot == True:\n",
        "        plots[5].axis('off')\n",
        "        plots[5].imshow(binary, cmap=plt.cm.bone) \n",
        "    '''\n",
        "    Step 7: Fill in the small holes inside the binary mask of lungs.\n",
        "    '''\n",
        "    edges = roberts(binary)\n",
        "    binary = ndi.binary_fill_holes(edges)\n",
        "    if plot == True:\n",
        "        plots[6].axis('off')\n",
        "        plots[6].imshow(binary, cmap=plt.cm.bone) \n",
        "    '''\n",
        "    Step 8: Superimpose the binary mask on the input image.\n",
        "    '''\n",
        "    get_high_vals = binary == 0\n",
        "    im[get_high_vals] = 0\n",
        "    if plot == True:\n",
        "        plots[7].axis('off')\n",
        "        plots[7].imshow(im, cmap=plt.cm.bone) \n",
        "        \n",
        "    return im"
      ]
    },
    {
      "cell_type": "code",
      "execution_count": null,
      "metadata": {
        "_cell_guid": "f19e26c9-d1d6-faa2-2f92-78ff9ebc3fbf"
      },
      "outputs": [],
      "source": [
        "get_segmented_lungs(ct_scan[71], True)"
      ]
    },
    {
      "cell_type": "code",
      "execution_count": null,
      "metadata": {
        "_cell_guid": "2038f0e7-99e2-e4b7-6ace-2bd7fafee2b2"
      },
      "outputs": [],
      "source": [
        "def segment_lung_from_ct_scan(ct_scan):\n",
        "    return np.asarray([get_segmented_lungs(slice) for slice in ct_scan])\n",
        "segmented_ct_scan = segment_lung_from_ct_scan(ct_scan)"
      ]
    },
    {
      "cell_type": "code",
      "execution_count": null,
      "metadata": {
        "_cell_guid": "be85ab5c-eee9-050a-47a3-07c9d5295d2a"
      },
      "outputs": [],
      "source": [
        "segmented_ct_scan[segmented_ct_scan < 604] = 0\n",
        "plot_ct_scan(segmented_ct_scan)"
      ]
    },
    {
      "cell_type": "code",
      "execution_count": null,
      "metadata": {
        "_cell_guid": "994a85a3-55ba-a91f-c494-0bc410055b79"
      },
      "outputs": [],
      "source": [
        "selem = ball(2)\n",
        "binary = binary_closing(segmented_ct_scan, selem)\n",
        "\n",
        "label_scan = label(binary)\n",
        "\n",
        "areas = [r.area for r in regionprops(label_scan)]\n",
        "areas.sort()\n",
        "\n",
        "for r in regionprops(label_scan):\n",
        "    max_x, max_y, max_z = 0, 0, 0\n",
        "    min_x, min_y, min_z = 1000, 1000, 1000\n",
        "    \n",
        "    for c in r.coords:\n",
        "        max_z = max(c[0], max_z)\n",
        "        max_y = max(c[1], max_y)\n",
        "        max_x = max(c[2], max_x)\n",
        "        \n",
        "        min_z = min(c[0], min_z)\n",
        "        min_y = min(c[1], min_y)\n",
        "        min_x = min(c[2], min_x)\n",
        "    if (min_z == max_z or min_y == max_y or min_x == max_x or r.area > areas[-3]):\n",
        "        for c in r.coords:\n",
        "            segmented_ct_scan[c[0], c[1], c[2]] = 0\n",
        "    else:\n",
        "        index = (max((max_x - min_x), (max_y - min_y), (max_z - min_z))) / (min((max_x - min_x), (max_y - min_y) , (max_z - min_z)))"
      ]
    },
    {
      "cell_type": "code",
      "execution_count": null,
      "metadata": {
        "_cell_guid": "f2e56471-dc3a-594a-7007-6488a5344ca0"
      },
      "outputs": [],
      "source": [
        "def plot_3d(image, threshold=-300):\n",
        "    \n",
        "    # Position the scan upright, \n",
        "    # so the head of the patient would be at the top facing the camera\n",
        "    p = image.transpose(2,1,0)\n",
        "    p = p[:,:,::-1]\n",
        "    \n",
        "    verts, faces = measure.marching_cubes(p, threshold)\n",
        "\n",
        "    fig = plt.figure(figsize=(10, 10))\n",
        "    ax = fig.add_subplot(111, projection='3d')\n",
        "\n",
        "    # Fancy indexing: `verts[faces]` to generate a collection of triangles\n",
        "    mesh = Poly3DCollection(verts[faces], alpha=0.1)\n",
        "    face_color = [0.5, 0.5, 1]\n",
        "    mesh.set_facecolor(face_color)\n",
        "    ax.add_collection3d(mesh)\n",
        "\n",
        "    ax.set_xlim(0, p.shape[0])\n",
        "    ax.set_ylim(0, p.shape[1])\n",
        "    ax.set_zlim(0, p.shape[2])\n",
        "\n",
        "    plt.show()"
      ]
    },
    {
      "cell_type": "code",
      "execution_count": null,
      "metadata": {
        "_cell_guid": "8670f4c3-c881-5f7e-b956-930c7ce7f070"
      },
      "outputs": [],
      "source": [
        "plot_3d(segmented_ct_scan, 604)"
      ]
    },
    {
      "cell_type": "code",
      "execution_count": null,
      "metadata": {
        "_cell_guid": "3c022e44-56b6-187b-311c-43625e425645"
      },
      "outputs": [],
      "source": [
        "print(segmented_ct_scan)"
      ]
    },
    {
      "cell_type": "code",
      "execution_count": null,
      "metadata": {
        "_cell_guid": "aac47b92-e256-a061-2837-21bc19deed46"
      },
      "outputs": [],
      "source": [
        "segmented_ct_scan.shape"
      ]
    },
    {
      "cell_type": "code",
      "execution_count": null,
      "metadata": {
        "_cell_guid": "62cb0242-2219-f79d-3f36-8dc2cfa5d2d5"
      },
      "outputs": [],
      "source": ""
    }
  ],
  "metadata": {
    "_change_revision": 0,
    "_is_fork": false,
    "kernelspec": {
      "display_name": "Python 3",
      "language": "python",
      "name": "python3"
    },
    "language_info": {
      "codemirror_mode": {
        "name": "ipython",
        "version": 3
      },
      "file_extension": ".py",
      "mimetype": "text/x-python",
      "name": "python",
      "nbconvert_exporter": "python",
      "pygments_lexer": "ipython3",
      "version": "3.6.0"
    }
  },
  "nbformat": 4,
  "nbformat_minor": 0
}