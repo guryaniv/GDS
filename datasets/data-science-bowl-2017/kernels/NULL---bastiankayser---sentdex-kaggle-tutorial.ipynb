{
  "metadata": {
    "kernelspec": {
      "display_name": "Python 3",
      "language": "python",
      "name": "python3"
    },
    "language_info": {
      "codemirror_mode": {
        "name": "ipython",
        "version": 3
      },
      "file_extension": ".py",
      "mimetype": "text/x-python",
      "name": "python",
      "nbconvert_exporter": "python",
      "pygments_lexer": "ipython3",
      "version": "3.6.0"
    }
  },
  "nbformat": 4,
  "nbformat_minor": 0,
  "cells": [
    {
      "metadata": {
        "_cell_guid": "86d2adf0-03fc-9100-c44c-bbc64eea2a6b",
        "_active": false,
        "collapsed": false
      },
      "source": "# This Python 3 environment comes with many helpful analytics libraries installed\n# It is defined by the kaggle/python docker image: https://github.com/kaggle/docker-python\n# For example, here's several helpful packages to load in \n\nimport numpy as np # linear algebra\nimport pandas as pd # data processing, CSV file I/O (e.g. pd.read_csv)\n\n# Input data files are available in the \"../input/\" directory.\n# For example, running this (by clicking run or pressing Shift+Enter) will list the files in the input directory\n\nfrom subprocess import check_output\nprint(check_output([\"ls\", \"../input\"]).decode(\"utf8\"))\n\n# Any results you write to the current directory are saved as output.",
      "execution_count": 1,
      "cell_type": "code",
      "outputs": [],
      "execution_state": "idle"
    },
    {
      "metadata": {
        "_cell_guid": "71a17132-d0e2-f6f3-ecb0-8b1407c79085",
        "_active": false,
        "collapsed": false
      },
      "source": "import dicom",
      "execution_count": 2,
      "cell_type": "code",
      "outputs": [],
      "execution_state": "idle"
    },
    {
      "metadata": {
        "_cell_guid": "b6fc22b0-c108-ddbd-a615-8defc8ac826a",
        "_active": false,
        "collapsed": false
      },
      "source": "import os",
      "execution_count": 3,
      "cell_type": "code",
      "outputs": [],
      "execution_state": "idle"
    },
    {
      "metadata": {
        "_cell_guid": "510af98e-0229-4744-0978-9a34e8a42e51",
        "_active": false,
        "collapsed": false
      },
      "source": "data_dir = '../input/sample_images/'\npatients = os.listdir(data_dir)\nlabels_df = pd.read_csv('../input/stage1_labels.csv',index_col=0)",
      "execution_count": 5,
      "cell_type": "code",
      "outputs": [],
      "execution_state": "idle"
    },
    {
      "metadata": {
        "_cell_guid": "c93bda17-9944-1b03-c6a8-5c631853e062",
        "_active": false,
        "collapsed": false
      },
      "source": "labels_df.head()\n",
      "execution_count": 6,
      "cell_type": "code",
      "outputs": [],
      "execution_state": "idle"
    },
    {
      "metadata": {
        "_cell_guid": "da53f615-a849-9710-ce00-1fd573257c87",
        "_active": false,
        "collapsed": false
      },
      "source": "for patient in patients[:1]:\n    label = labels_df.get_value(patient, 'cancer')\n    path = data_dir + patient\n    slices = [dicom.read_file(path + '/' + s) for s in os.listdir(path)]\n    slices.sort(key = lambda x: float(x.ImagePositionPatient[2]))\n    print(len(slices), slices[0].pixel_array.shape)\n    #print(slices[0])\n    ",
      "execution_count": 9,
      "cell_type": "code",
      "outputs": [],
      "execution_state": "idle"
    },
    {
      "metadata": {
        "_cell_guid": "b336da33-e4d7-cbce-ccd6-058897643f37",
        "_active": true,
        "collapsed": false
      },
      "source": "len(patients)",
      "execution_count": null,
      "cell_type": "code",
      "outputs": [],
      "execution_state": "idle"
    },
    {
      "metadata": {
        "_cell_guid": "675c46d9-502d-21fd-283b-9a5bd3e76bf5",
        "_active": false,
        "collapsed": false
      },
      "source": null,
      "execution_count": null,
      "cell_type": "code",
      "outputs": [],
      "execution_state": "idle"
    }
  ]
}