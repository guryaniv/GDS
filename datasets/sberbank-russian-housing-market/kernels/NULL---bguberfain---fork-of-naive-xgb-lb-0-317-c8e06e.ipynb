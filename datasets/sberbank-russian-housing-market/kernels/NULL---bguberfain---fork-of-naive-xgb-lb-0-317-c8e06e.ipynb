{
  "cells": [
    {
      "cell_type": "code",
      "execution_count": null,
      "metadata": {
        "_cell_guid": "7adbe232-6352-3ec1-4955-2b74f8a183bc"
      },
      "outputs": [],
      "source": [
        "import numpy as np\n",
        "import pandas as pd\n",
        "import xgboost as xgb\n",
        "import matplotlib.pyplot as plt"
      ]
    },
    {
      "cell_type": "code",
      "execution_count": null,
      "metadata": {
        "_cell_guid": "8bb3e4b7-cc38-f5ef-a767-8018c52e6297"
      },
      "outputs": [],
      "source": [
        "df_train = pd.read_csv(\"../input/train.csv\", parse_dates=['timestamp'])\n",
        "df_test = pd.read_csv(\"../input/test.csv\", parse_dates=['timestamp'])\n",
        "df_macro = pd.read_csv(\"../input/macro.csv\", parse_dates=['timestamp'])\n",
        "\n",
        "df_train.head()"
      ]
    },
    {
      "cell_type": "code",
      "execution_count": null,
      "metadata": {
        "_cell_guid": "96910ed8-cc3a-59db-93f7-9c3b27f6ea5d"
      },
      "outputs": [],
      "source": [
        "df_train['price_doc'].hist(bins=50)"
      ]
    },
    {
      "cell_type": "code",
      "execution_count": null,
      "metadata": {
        "_cell_guid": "198b4ae5-6974-8012-f84e-b2067ee34a82"
      },
      "outputs": [],
      "source": [
        "y_train = df_train['price_doc'].values\n",
        "id_test = df_test['id']\n",
        "\n",
        "df_train.drop(['id', 'price_doc'], axis=1, inplace=True)\n",
        "df_test.drop(['id'], axis=1, inplace=True)\n",
        "\n",
        "# Build df_all = (df_train+df_test).join(df_macro)\n",
        "num_train = len(df_train)\n",
        "df_all = pd.concat([df_train, df_test])\n",
        "df_all = df_all.join(df_macro, on='timestamp', rsuffix='_macro')\n",
        "print(df_all.shape)\n",
        "\n",
        "# Add month-year\n",
        "month_year = (df_all.timestamp.dt.month + df_all.timestamp.dt.year * 100)\n",
        "month_year_cnt_map = month_year.value_counts().to_dict()\n",
        "df_all['month_year_cnt'] = month_year.map(month_year_cnt_map)\n",
        "\n",
        "# Add week-year count\n",
        "week_year = (df_all.timestamp.dt.weekofyear + df_all.timestamp.dt.year * 100)\n",
        "week_year_cnt_map = week_year.value_counts().to_dict()\n",
        "df_all['week_year_cnt'] = week_year.map(week_year_cnt_map)\n",
        "\n",
        "# Add month and day-of-week\n",
        "df_all['month'] = df_all.timestamp.dt.month\n",
        "df_all['dow'] = df_all.timestamp.dt.dayofweek\n",
        "\n",
        "# Other feature engineering\n",
        "df_all['rel_floor'] = df_all['floor'] / df_all['max_floor'].astype(float)\n",
        "df_all['rel_kitch_sq'] = df_all['kitch_sq'] / df_all['full_sq'].astype(float)\n",
        "\n",
        "# Add apartment id (as suggested in https://www.kaggle.com/c/sberbank-russian-housing-market/discussion/33269)\n",
        "# and replace it with its count and count by month\n",
        "df_all['apartment_name'] = pd.factorize(df_all.sub_area + df_all['metro_km_avto'].astype(str))[0]\n",
        "apartment_name_month_year = pd.Series(pd.factorize(df_all['apartment_name'].astype(str) + month_year.astype(str))[0])\n",
        "\n",
        "df_all['apartment_name_cnt'] = df_all['apartment_name'].map(df_all['apartment_name'].value_counts())\n",
        "df_all['apartment_name_month_year_cnt'] = apartment_name_month_year.map(apartment_name_month_year.value_counts())\n",
        "\n",
        "# Add count for sub_area\n",
        "sub_area_month_year = pd.Series(pd.factorize(df_all['sub_area'].astype(str) + month_year.astype(str))[0])\n",
        "df_all['sub_area_month_year_cnt'] = sub_area_month_year.map(sub_area_month_year.value_counts())\n",
        "\n",
        "sub_area_week_year = pd.Series(pd.factorize(df_all['sub_area'].astype(str) + week_year.astype(str))[0])\n",
        "df_all['sub_area_week_year_cnt'] = sub_area_week_year.map(sub_area_week_year.value_counts())"
      ]
    },
    {
      "cell_type": "code",
      "execution_count": null,
      "metadata": {
        "_cell_guid": "4b6e5227-0535-fd0d-9d20-b28e41adbf9c"
      },
      "outputs": [],
      "source": [
        "# Remove timestamp column (may overfit the model in train)\n",
        "df_all.drop(['timestamp', 'timestamp_macro'], axis=1, inplace=True)"
      ]
    },
    {
      "cell_type": "code",
      "execution_count": null,
      "metadata": {
        "_cell_guid": "19ded44b-38e7-e3e1-bc6a-e2cadf80131a"
      },
      "outputs": [],
      "source": [
        "# Deal with categorical values\n",
        "df_numeric = df_all.select_dtypes(exclude=['object'])\n",
        "df_obj = df_all.select_dtypes(include=['object']).copy()\n",
        "\n",
        "for c in df_obj:\n",
        "    df_obj[c] = pd.factorize(df_obj[c])[0]\n",
        "\n",
        "df_values = pd.concat([df_numeric, df_obj], axis=1)"
      ]
    },
    {
      "cell_type": "code",
      "execution_count": null,
      "metadata": {
        "_cell_guid": "550c306b-a6a5-9c89-fe73-16796a7d9c22"
      },
      "outputs": [],
      "source": [
        "# Convert to numpy values\n",
        "X_all = df_values.values\n",
        "print(X_all.shape)\n",
        "\n",
        "X_train = X_all[:num_train]\n",
        "X_test = X_all[num_train:]\n",
        "\n",
        "df_columns = df_values.columns"
      ]
    },
    {
      "cell_type": "code",
      "execution_count": null,
      "metadata": {
        "_cell_guid": "37cfa80a-1c83-58e9-c069-3708520bbf00"
      },
      "outputs": [],
      "source": [
        "dtrain = xgb.DMatrix(X_train, y_train, feature_names=df_columns)\n",
        "dtest = xgb.DMatrix(X_test, feature_names=df_columns)"
      ]
    },
    {
      "cell_type": "code",
      "execution_count": null,
      "metadata": {
        "_cell_guid": "13baba9c-f1b5-f9df-6bc1-4f398ce1a3b9"
      },
      "outputs": [],
      "source": [
        "class XGBCVHolder:\n",
        "    \"\"\"\n",
        "    This is a hack to XGBoost, which does not provide an API to access \n",
        "    the models trained over xgb.cv\n",
        "    \"\"\"\n",
        "    def __init__(self, features_names):\n",
        "        self.models = []\n",
        "        self.dtests = []\n",
        "        self.called = False\n",
        "        self.features_names = features_names\n",
        "\n",
        "    def __call__(self, env):\n",
        "        if not self.called:\n",
        "            self.called = True\n",
        "            for cvpack in env.cvfolds:\n",
        "                self.models.append(cvpack.bst)\n",
        "                self.dtests.append(cvpack.dtest)\n",
        "\n",
        "    def predict_oof(self, ntree_limit=0):\n",
        "        y = []\n",
        "        y_hat = []\n",
        "        for model, dtest in zip(self.models, self.dtests):\n",
        "            y.extend(dtest.get_label())\n",
        "            y_hat.extend(model.predict(dtest, ntree_limit=ntree_limit))\n",
        "\n",
        "        return np.array(y), np.array(y_hat)\n",
        "\n",
        "    def get_fscore(self):\n",
        "        total = Counter()\n",
        "\n",
        "        for m in self.models:\n",
        "            fscore = m.get_fscore()\n",
        "            fixed_features_names = { self.features_names[int(k[1:])] : v for k, v in fscore.iteritems() }\n",
        "            total.update(fixed_features_names)\n",
        "\n",
        "        return total"
      ]
    },
    {
      "cell_type": "code",
      "execution_count": null,
      "metadata": {
        "_cell_guid": "3be5ad13-630c-f47e-c97f-0d8cd0a22097"
      },
      "outputs": [],
      "source": [
        "xgb_params = {\n",
        "    'eta': 0.04,\n",
        "    'max_depth': 7,\n",
        "    'subsample': 0.7,\n",
        "    'colsample_bytree': 0.7,\n",
        "    'objective': 'reg:linear',\n",
        "    'eval_metric': 'rmse',\n",
        "    'silent': 1\n",
        "}\n",
        "\n",
        "# Uncomment to tune XGB `num_boost_rounds`\n",
        "xgb_model = XGBCVHolder()\n",
        "cv_result = xgb.cv(xgb_params, dtrain, num_boost_round=1000, early_stopping_rounds=20,\n",
        "    verbose_eval=10, show_stdv=False, callbacks=[xgb_model])\n",
        "cv_result[['train-rmse-mean', 'test-rmse-mean']].plot()\n",
        "num_boost_rounds = len(cv_result)\n",
        "print(\"num_boost_rounds:\", num_boost_rounds)\n",
        "\n",
        "#num_boost_round = 395"
      ]
    },
    {
      "cell_type": "code",
      "execution_count": null,
      "metadata": {
        "_cell_guid": "224870b9-c858-2e28-0dff-f56c7defff90"
      },
      "outputs": [],
      "source": [
        "fig, ax = plt.subplots(1, 3, figsize=(12, 8))\n",
        "xgb.plot_importance(xgb_model.models[0], max_num_features=32, height=0.5, ax=ax[0])\n",
        "xgb.plot_importance(xgb_model.models[1], max_num_features=32, height=0.5, ax=ax[1])\n",
        "xgb.plot_importance(xgb_model.models[2], max_num_features=32, height=0.5, ax=ax[2])"
      ]
    },
    {
      "cell_type": "code",
      "execution_count": null,
      "metadata": {
        "_cell_guid": "d58b9216-c64f-737a-0d79-98cfa40695de"
      },
      "outputs": [],
      "source": [
        "from collections import Counter\n",
        "\n",
        "total = Counter()\n",
        "\n",
        "for m in xgb_model.models:\n",
        "    fscore = m.get_fscore()\n",
        "    fixed_features_names = { self.features_names[int(k[1:])] : v for k, v in fscore.iteritems() }\n",
        "    total.update(fixed_features_names)\n"
      ]
    },
    {
      "cell_type": "code",
      "execution_count": null,
      "metadata": {
        "_cell_guid": "56ec63a2-ebfb-b2ef-4bc1-a8f4a3286852"
      },
      "outputs": [],
      "source": [
        "model = xgb.train(dict(xgb_params, silent=0), dtrain, num_boost_round=num_boost_round)"
      ]
    },
    {
      "cell_type": "code",
      "execution_count": null,
      "metadata": {
        "_cell_guid": "6f41459b-4a7a-039c-40fa-a8bb6a73903c"
      },
      "outputs": [],
      "source": [
        "fig, ax = plt.subplots(1, 1, figsize=(8, 16))\n",
        "xgb.plot_importance(model, max_num_features=50, height=0.5, ax=ax)"
      ]
    },
    {
      "cell_type": "code",
      "execution_count": null,
      "metadata": {
        "_cell_guid": "76c7e814-ffdd-afa8-19aa-585df067d48b"
      },
      "outputs": [],
      "source": [
        "y_pred = model.predict(dtest)\n",
        "\n",
        "df_sub = pd.DataFrame({'id': id_test, 'price_doc': y_pred})\n",
        "\n",
        "df_sub.to_csv('sub.csv', index=False)"
      ]
    }
  ],
  "metadata": {
    "_change_revision": 0,
    "_is_fork": false,
    "kernelspec": {
      "display_name": "Python 3",
      "language": "python",
      "name": "python3"
    },
    "language_info": {
      "codemirror_mode": {
        "name": "ipython",
        "version": 3
      },
      "file_extension": ".py",
      "mimetype": "text/x-python",
      "name": "python",
      "nbconvert_exporter": "python",
      "pygments_lexer": "ipython3",
      "version": "3.6.0"
    }
  },
  "nbformat": 4,
  "nbformat_minor": 0
}