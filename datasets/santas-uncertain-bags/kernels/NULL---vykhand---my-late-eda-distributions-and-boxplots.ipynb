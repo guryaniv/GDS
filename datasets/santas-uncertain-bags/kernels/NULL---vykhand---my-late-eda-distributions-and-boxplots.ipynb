{
  "cells": [
    {
      "cell_type": "markdown",
      "metadata": {
        "_cell_guid": "9515b5e0-ecbc-1b2c-6c96-22e752cc4d75"
      },
      "source": [
        "This is similar to what is present in other kernels but shows gift weight distributions on the same scale"
      ]
    },
    {
      "cell_type": "code",
      "execution_count": null,
      "metadata": {
        "_cell_guid": "d0ad9596-436e-e892-4251-748a1cc74571"
      },
      "outputs": [],
      "source": [
        "import pandas as pd\n",
        "import numpy as np\n",
        "from scipy.stats import norm\n",
        "from scipy.stats import beta\n",
        "from scipy.stats import chi2\n",
        "from scipy.stats import gamma\n",
        "from scipy.stats import triang\n",
        "\n",
        "import matplotlib.pyplot as plt\n",
        "import seaborn as sns\n",
        "%matplotlib inline"
      ]
    },
    {
      "cell_type": "code",
      "execution_count": null,
      "metadata": {
        "_cell_guid": "89510ae3-def4-6a58-637e-d1ea4c602dbc"
      },
      "outputs": [],
      "source": [
        "#weight functions https://www.kaggle.com/zhehaoliu/santas-uncertain-bags/over-weight-probability-function\n",
        "#and https://www.kaggle.com/cpmpml/santas-uncertain-bags/optimal-expected-submission-value\n",
        "#weight functions\n",
        "def get_weight(t):\n",
        "    if t == 'horse':\n",
        "        return max(0, np.random.normal(5,2,1)[0])\n",
        "    elif t == 'ball':\n",
        "        return max(0, 1 + np.random.normal(1,0.3,1)[0])\n",
        "    elif t == 'bike':\n",
        "        return max(0, np.random.normal(20,10,1)[0])\n",
        "    elif t == 'train':\n",
        "        return max(0, np.random.normal(10,5,1)[0])\n",
        "    elif t == 'coal':\n",
        "        return 47 * np.random.beta(0.5,0.5,1)[0]\n",
        "    elif t == 'book':\n",
        "        return np.random.chisquare(2,1)[0]\n",
        "    elif t == 'doll':\n",
        "        return np.random.gamma(5,1,1)[0]\n",
        "    elif t == 'blocks':\n",
        "        return np.random.triangular(5,10,20,1)[0]\n",
        "    elif t == 'gloves':\n",
        "        return 3.0 + np.random.rand(1)[0] if np.random.rand(1) < 0.3 else np.random.rand(1)[0]\n",
        "    else:\n",
        "        raise ValueError('Not a valid gift type!')\n",
        "        \n",
        "#calculating the probability of a single gift over certain weight\n",
        "def over_weight_prob(t, weight):\n",
        "    if t == 'horse':\n",
        "        return norm.cdf(weight, 5, 2)\n",
        "    elif t == 'ball':\n",
        "        return norm.cdf(weight, 1, 0.3)\n",
        "    elif t == 'bike':\n",
        "        return norm.cdf(weight, 20,10)\n",
        "    elif t == 'train':\n",
        "        return norm.cdf(weight, 10, 5)\n",
        "    elif t == 'coal':\n",
        "        return beta.cdf(weight/47, 0.5, 0.5)\n",
        "    elif t == 'book':\n",
        "        return chi2.cdf(weight, 2)\n",
        "    elif t == 'doll':\n",
        "        return gamma.cdf(weight,5,1)\n",
        "    elif t == 'blocks':\n",
        "        return triang.cdf(weight,c = 1.0/3, loc = 5, scale = 15)\n",
        "    elif t == 'gloves':\n",
        "        random_series = pd.Series(np.random.rand(5000)).apply(lambda x: x+3 if x < 0.3 else x)\n",
        "        return 1.0 * sum(random_series > weight ) / len(random_series)\n",
        "    else:\n",
        "        raise ValueError('Not a valid gift type!')\n",
        "\n",
        "def gift_distributions(gift, ngift, n=1):\n",
        "    if ngift == 0:\n",
        "        return np.array([0.0])\n",
        "    \n",
        "    #np.random.seed(100)\n",
        "    \n",
        "    if gift == \"horse\":\n",
        "        dist = np.maximum(0, np.random.normal(5,2,(n, ngift)))\n",
        "    if gift == \"ball\":\n",
        "        dist = np.maximum(0, 1 + np.random.normal(1,0.3,(n, ngift)))\n",
        "    if gift == \"bike\":\n",
        "        dist = np.maximum(0, np.random.normal(20,10,(n, ngift)))\n",
        "    if gift == \"train\":\n",
        "        dist = np.maximum(0, np.random.normal(10,5,(n, ngift)))\n",
        "    if gift == \"coal\":\n",
        "        dist = 47 * np.random.beta(0.5,0.5,(n, ngift))\n",
        "    if gift == \"book\":\n",
        "        dist = np.random.chisquare(2,(n, ngift))\n",
        "    if gift == \"doll\":\n",
        "        dist = np.random.gamma(5,1,(n, ngift))\n",
        "    if gift == \"blocks\":\n",
        "        dist = np.random.triangular(5,10,20,(n, ngift))\n",
        "    if gift == \"gloves\":\n",
        "        gloves1 = 3.0 + np.random.rand(n, ngift)\n",
        "        gloves2 = np.random.rand(n, ngift)\n",
        "        gloves3 = np.random.rand(n, ngift)\n",
        "        dist = np.where(gloves2 < 0.3, gloves1, gloves3)\n",
        "    for j in range(1, ngift):\n",
        "        dist[:,j] += dist[:,j-1]\n",
        "    return dist\n",
        "        "
      ]
    },
    {
      "cell_type": "code",
      "execution_count": null,
      "metadata": {
        "_cell_guid": "1dfba804-dc86-f82f-bb4c-940c774edd17"
      },
      "outputs": [],
      "source": [
        "get_weight(\"coal\")"
      ]
    },
    {
      "cell_type": "code",
      "execution_count": null,
      "metadata": {
        "_cell_guid": "83ed379d-1325-b1b9-26e4-a16a04f84061"
      },
      "outputs": [],
      "source": [
        "gift_distributions(\"coal\",1,10)"
      ]
    },
    {
      "cell_type": "code",
      "execution_count": null,
      "metadata": {
        "_cell_guid": "d27e0ce4-f826-35e8-6d00-3366f1bfe02e"
      },
      "outputs": [],
      "source": [
        "df = pd.read_csv('../input/gifts.csv')\n",
        "df.head()"
      ]
    },
    {
      "cell_type": "code",
      "execution_count": null,
      "metadata": {
        "_cell_guid": "22b578ec-ca64-0713-3946-b968ba838a70"
      },
      "outputs": [],
      "source": [
        "df['typ'] = df.GiftId.str.split(\"_\").map(lambda x: x[0]).astype(\"category\")\n",
        "df['n'] = df.GiftId.str.split(\"_\").map(lambda x: x[1]).astype('int')\n",
        "#df.drop(\"GiftId\", axis = 1, inplace=True)"
      ]
    },
    {
      "cell_type": "code",
      "execution_count": null,
      "metadata": {
        "_cell_guid": "12150b95-8b44-3ad2-a204-7b9d8ba9d298"
      },
      "outputs": [],
      "source": [
        "df.head()"
      ]
    },
    {
      "cell_type": "code",
      "execution_count": null,
      "metadata": {
        "_cell_guid": "0d5eb5b6-763d-2eab-ea30-df8c967fbdd3"
      },
      "outputs": [],
      "source": [
        "df.groupby('typ')['n'].agg([\"min\", \"max\", \"count\"])"
      ]
    },
    {
      "cell_type": "code",
      "execution_count": null,
      "metadata": {
        "_cell_guid": "cc99d289-9ba1-9f08-aa53-7b2149b78eba"
      },
      "outputs": [],
      "source": [
        "df.shape"
      ]
    },
    {
      "cell_type": "code",
      "execution_count": null,
      "metadata": {
        "_cell_guid": "f4549cc1-715b-1991-0bfc-618194bb2973"
      },
      "outputs": [],
      "source": [
        "def plot_pdf(t, ax,  n = 100000):\n",
        "    dt = [get_weight(t) for i in range(n)]\n",
        "    ax.set_xlim(0,50)\n",
        "    #ax.set_ylim(0, 1.4)\n",
        "    return sns.distplot(dt,bins=100, ax = ax)"
      ]
    },
    {
      "cell_type": "code",
      "execution_count": null,
      "metadata": {
        "_cell_guid": "6ac9bc97-3c95-42ad-3eae-54ed7510577a"
      },
      "outputs": [],
      "source": [
        "nrows = df.typ.nunique() # 9\n",
        "fig, axs = plt.subplots(nrows = nrows, ncols = 1, figsize =(8,30))\n",
        "#fig.set_figheight(30)\n",
        "#fig.set_figwidth(15)\n",
        "\n",
        "for i,t in enumerate(df.typ.unique()):\n",
        "    ax  = plot_pdf(t, ax = axs[i])\n",
        "    ax.set_title(t + \" distribution\")"
      ]
    },
    {
      "cell_type": "code",
      "execution_count": null,
      "metadata": {
        "_cell_guid": "04fd46e7-cb00-f137-8fc7-1ed938dcbf54"
      },
      "outputs": [],
      "source": [
        "typs = df.typ.unique()\n",
        "fig = plt.figure(figsize=(8,10))\n",
        "n=100000\n",
        "dt = pd.DataFrame()\n",
        "for t in typs:\n",
        "    dt = pd.concat((dt, pd.Series([get_weight(t) for i in range(10000)], name=t)), axis=1)\n",
        "sns.boxplot(data = dt)"
      ]
    },
    {
      "cell_type": "markdown",
      "metadata": {
        "_cell_guid": "bbe52f9f-8550-edc7-beac-8c2dc989b9f7"
      },
      "source": [
        "##What would be the distribution of the sum of all weights? "
      ]
    },
    {
      "cell_type": "code",
      "execution_count": null,
      "metadata": {
        "_cell_guid": "3020f5d3-95f4-6100-beb9-f6b004f81764"
      },
      "outputs": [],
      "source": [
        "nsim = 10000\n",
        "weights = []\n",
        "for i in range(nsim):\n",
        "    weight = (gift_distributions(\"ball\", 1, 1100).sum() +\n",
        "         gift_distributions(\"bike\",1,500).sum() +\n",
        "         gift_distributions(\"blocks\",1,1000).sum()  +\n",
        "         gift_distributions(\"book\", 1, 1200).sum() +\n",
        "         gift_distributions(\"coal\",1,166).sum() +\n",
        "         gift_distributions(\"doll\", 1,1000).sum() +\n",
        "         gift_distributions(\"gloves\",1,200).sum() +\n",
        "         gift_distributions(\"horse\",1,1000).sum() +\n",
        "         gift_distributions(\"train\", 1, 1000).sum()\n",
        "         )\n",
        "    weights.append(weight)\n",
        "sns.distplot(weights)"
      ]
    },
    {
      "cell_type": "code",
      "execution_count": null,
      "metadata": {
        "_cell_guid": "0a11564d-c765-cc25-cf5b-4188d73bc088"
      },
      "outputs": [],
      "source": [
        ""
      ]
    }
  ],
  "metadata": {
    "_change_revision": 0,
    "_is_fork": false,
    "kernelspec": {
      "display_name": "Python 3",
      "language": "python",
      "name": "python3"
    },
    "language_info": {
      "codemirror_mode": {
        "name": "ipython",
        "version": 3
      },
      "file_extension": ".py",
      "mimetype": "text/x-python",
      "name": "python",
      "nbconvert_exporter": "python",
      "pygments_lexer": "ipython3",
      "version": "3.5.2"
    }
  },
  "nbformat": 4,
  "nbformat_minor": 0
}