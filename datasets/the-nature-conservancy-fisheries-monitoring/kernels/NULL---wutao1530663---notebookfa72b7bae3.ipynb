{
  "metadata": {
    "kernelspec": {
      "display_name": "Python 3",
      "language": "python",
      "name": "python3"
    },
    "language_info": {
      "codemirror_mode": {
        "name": "ipython",
        "version": 3
      },
      "file_extension": ".py",
      "mimetype": "text/x-python",
      "name": "python",
      "nbconvert_exporter": "python",
      "pygments_lexer": "ipython3",
      "version": "3.6.0"
    }
  },
  "nbformat": 4,
  "nbformat_minor": 0,
  "cells": [
    {
      "metadata": {
        "_cell_guid": "8a016238-e04c-47f3-0364-9936e3f5bc32",
        "_active": false,
        "collapsed": false
      },
      "source": "# This Python 3 environment comes with many helpful analytics libraries installed\n# It is defined by the kaggle/python docker image: https://github.com/kaggle/docker-python\n# For example, here's several helpful packages to load in \n\n\n# Input data files are available in the \"../input/\" directory.\n# For example, running this (by clicking run or pressing Shift+Enter) will list the files in the input directory\n\nfrom subprocess import check_output\nprint(check_output([\"ls\", \"../input\"]).decode(\"utf8\"))\n\n# Any results you write to the current directory are saved as output.",
      "execution_count": null,
      "cell_type": "code",
      "outputs": [],
      "execution_state": "idle"
    },
    {
      "metadata": {
        "_cell_guid": "5c2603cf-474a-632d-96f6-65f603f35560",
        "_active": false,
        "collapsed": false
      },
      "source": "import numpy as np\nnp.random.seed(2016)\nimport numpy as np # linear algebra\nimport pandas as pd # data processing, CSV file I/O (e.g. pd.read_csv)\n\nimport os\nimport glob\nimport cv2\nimport datetime\nimport pandas as pd\nimport time\nimport warnings\nwarnings.filterwarnings(\"ignore\")\n\nfrom sklearn.cross_validation import KFold\nfrom keras.models import Sequential\nfrom keras.layers.core import Dense, Dropout, Flatten\nfrom keras.layers.convolutional import Convolution2D, MaxPooling2D, ZeroPadding2D\nfrom keras.optimizers import SGD\nfrom keras.callbacks import EarlyStopping\nfrom keras.utils import np_utils\nfrom sklearn.metrics import log_loss\nfrom keras import __version__ as keras_version\n\n\n\ndef get_im_cv2(path):\n    img = cv2.imread(path)\n    resized = cv2.resize(img, (128, 128), cv2.INTER_LINEAR)\n    cv2.PCA\n    return resized\n\n\ndef load_train():\n    X_train = []\n    X_train_id = []\n    y_train = []\n    start_time = time.time()\n\n    print('Read train images')\n    folders = ['ALB', 'BET', 'DOL', 'LAG', 'NoF', 'OTHER', 'SHARK', 'YFT']\n    for fld in folders:\n        index = folders.index(fld)\n        print('Load folder {} (Index: {})'.format(fld, index))\n        path = os.path.join('..', 'input', 'train', fld, '*.jpg')\n        files = glob.glob(path)\n        for fl in files:\n            flbase = os.path.basename(fl)\n            img = cv2.imread(fl)\n            X_train.append(img)\n            X_train_id.append(flbase)\n            y_train.append(index)\n            print('Read train data time: {} seconds'.format(round(time.time() - start_time, 2)))\n    return (X_train, y_train, X_train_id)\n\n",
      "execution_count": null,
      "cell_type": "code",
      "outputs": [],
      "execution_state": "idle"
    },
    {
      "metadata": {
        "_cell_guid": "4b840d1d-76d1-beb2-5373-308e14f047e5",
        "_active": false,
        "collapsed": false
      },
      "source": "X_train, y_train, X_train_id = load_train()",
      "execution_count": null,
      "cell_type": "markdown",
      "outputs": [],
      "execution_state": "idle"
    },
    {
      "metadata": {
        "_cell_guid": "6d4b9d8a-6466-b551-d18d-2fcc1ff91e0f",
        "_active": false,
        "collapsed": false
      },
      "source": "import matplotlib.pyplot as plt\n%matplotlib inline",
      "execution_count": null,
      "cell_type": "code",
      "outputs": [],
      "execution_state": "idle"
    },
    {
      "metadata": {
        "_cell_guid": "851b8044-9a80-7406-e8c7-f5a3813baaea",
        "_active": false,
        "collapsed": false
      },
      "source": "path =  os.path.join('..', 'input', 'train', 'ALB', '*.jpg')\nfig = plt.figure(figsize=[12,8])\nax1 = fig.add_subplot(2,2,1)\nax2 = fig.add_subplot(2,2,2)\n\nfiles = glob.glob(path)\nimg = cv2.imread(files[0])\nb,g,r = cv2.split(img)\nax1.imshow(img)\nb -= int(np.mean(b))\ng -= int(np.mean(g))\nr -= int(np.mean(r))\nax2.imshow(cv2.merge([b,g,r]))\n",
      "execution_count": null,
      "cell_type": "code",
      "outputs": [],
      "execution_state": "idle"
    },
    {
      "metadata": {
        "_cell_guid": "ed6cf3eb-f720-d5ad-8f97-3a7086b6e091",
        "_active": false,
        "collapsed": false
      },
      "source": "plt.imshow(img)",
      "execution_count": null,
      "cell_type": "code",
      "outputs": [],
      "execution_state": "idle"
    },
    {
      "metadata": {
        "_cell_guid": "1c6ed1a1-2b98-7a77-a0bb-1501155790ed",
        "_active": false,
        "collapsed": false
      },
      "source": "b = cv2.split(img)[0]\nb = np.array([np.zeros(b.shape),np.zeros(b.shape),b])",
      "execution_count": null,
      "cell_type": "code",
      "outputs": [],
      "execution_state": "idle"
    },
    {
      "metadata": {
        "_cell_guid": "13f84b8d-7c34-196c-8f97-3c60a4ad79b4",
        "_active": true,
        "collapsed": false
      },
      "source": "from keras.preprocessing.image.ImageDataGenerator import ",
      "execution_count": null,
      "cell_type": "code",
      "outputs": [],
      "execution_state": "idle"
    },
    {
      "metadata": {
        "_cell_guid": "5904f400-e693-7113-7f62-40b9c73d6280",
        "_active": false,
        "collapsed": false
      },
      "source": "img2 = cv2.PCACompute(img,mean)",
      "execution_count": null,
      "cell_type": "code",
      "outputs": [],
      "execution_state": "idle"
    },
    {
      "metadata": {
        "_cell_guid": "af5d3382-e44b-bf82-1ac7-bb63b98a2b0a",
        "_active": false,
        "collapsed": false
      },
      "source": "mean = np.mean(img,axis=2)",
      "execution_count": null,
      "cell_type": "code",
      "outputs": [],
      "execution_state": "idle"
    },
    {
      "metadata": {
        "_cell_guid": "a24ad846-c127-611f-34dd-55b9caed83a5",
        "_active": false,
        "collapsed": false
      },
      "source": "\nsources=[]\nfor i in range(3):\n    sources.append(img[:,:,i])",
      "execution_count": null,
      "cell_type": "code",
      "outputs": [],
      "execution_state": "idle"
    },
    {
      "metadata": {
        "_cell_guid": "9e219bfe-577a-4069-34c8-7c3564cce159",
        "_active": false,
        "collapsed": false
      },
      "source": "plt.imshow(sources[2])",
      "execution_count": null,
      "cell_type": "code",
      "outputs": [],
      "execution_state": "idle"
    },
    {
      "metadata": {
        "_cell_guid": "00756e9c-2183-fc92-48d7-cb9db17fa057",
        "_active": false,
        "collapsed": false
      },
      "source": "sources[0],sources[1]",
      "execution_count": null,
      "cell_type": "code",
      "outputs": [],
      "execution_state": "idle"
    },
    {
      "metadata": {
        "_cell_guid": "02e183e7-f604-c98b-a34a-06e8904e9047",
        "_active": false,
        "collapsed": false
      },
      "source": "b, g, r = cv2.split(img)",
      "execution_count": null,
      "cell_type": "code",
      "outputs": [],
      "execution_state": "idle"
    },
    {
      "metadata": {
        "_cell_guid": "74785abc-feff-35b6-2fc9-42c37486c0e1",
        "_active": false,
        "collapsed": false
      },
      "source": "b -= np.mean(b)",
      "execution_count": null,
      "cell_type": "code",
      "outputs": [],
      "execution_state": "idle"
    },
    {
      "metadata": {
        "_cell_guid": "bbff231c-fd97-4d7d-3bbc-5942afff715b",
        "_active": false,
        "collapsed": false
      },
      "source": "mean, eigenvectors = cv2.PCACompute(b, np.mean(b))",
      "execution_count": null,
      "cell_type": "code",
      "outputs": [],
      "execution_state": "idle"
    },
    {
      "metadata": {
        "_cell_guid": "610628b2-64b9-6192-fcdc-d2b141ddbc85",
        "_active": false,
        "collapsed": false
      },
      "source": "np.mean(b)",
      "execution_count": null,
      "cell_type": "code",
      "outputs": [],
      "execution_state": "idle"
    },
    {
      "metadata": {
        "_cell_guid": "c320d100-23dc-c83f-a69a-9648c905288e",
        "_active": false,
        "collapsed": false
      },
      "source": "plt.imshow(b) ",
      "execution_count": null,
      "cell_type": "code",
      "outputs": [],
      "execution_state": "idle"
    },
    {
      "metadata": {
        "_cell_guid": "cdc7c742-b3e4-d79b-ae7b-2c39851a3c19",
        "_active": false,
        "collapsed": false
      },
      "source": "b",
      "execution_count": null,
      "cell_type": "code",
      "outputs": [],
      "execution_state": "idle"
    },
    {
      "metadata": {
        "_cell_guid": "8bae17e5-00ce-b108-4188-f91e582fb933",
        "_active": false,
        "collapsed": false
      },
      "source": null,
      "execution_count": null,
      "cell_type": "code",
      "outputs": [],
      "execution_state": "idle"
    }
  ]
}