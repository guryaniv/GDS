{
  "cells": [
    {
      "cell_type": "code",
      "execution_count": null,
      "metadata": {
        "_cell_guid": "f294a800-a3b1-1bd8-498e-e754ca48a175"
      },
      "outputs": [],
      "source": [
        "# This Python 3 environment comes with many helpful analytics libraries installed\n",
        "# It is defined by the kaggle/python docker image: https://github.com/kaggle/docker-python\n",
        "# For example, here's several helpful packages to load in \n",
        "\n",
        "import numpy as np # linear algebra\n",
        "import pandas as pd # data processing, CSV file I/O (e.g. pd.read_csv)\n",
        "\n",
        "# Input data files are available in the \"../input/\" directory.\n",
        "# For example, running this (by clicking run or pressing Shift+Enter) will list the files in the input directory\n",
        "\n",
        "from subprocess import check_output\n",
        "print(check_output([\"ls\", \"../input\"]).decode(\"utf8\"))\n",
        "\n",
        "# Any results you write to the current directory are saved as output."
      ]
    },
    {
      "cell_type": "code",
      "execution_count": null,
      "metadata": {
        "_cell_guid": "358fa2d9-bd09-f977-0a94-963b3108d126"
      },
      "outputs": [],
      "source": [
        "import pandas as pd\n",
        "import numpy as np\n",
        "from sklearn.linear_model import LogisticRegression\n",
        "from sklearn.grid_search import GridSearchCV\n",
        "from sklearn.preprocessing import LabelEncoder\n",
        "from sklearn.preprocessing import StandardScaler\n",
        "\n",
        "\n",
        "np.random.seed(42)\n",
        "\n",
        "train = pd.read_csv('../input/train.csv')\n",
        "x_train = train.drop(['id', 'species'], axis=1).values\n",
        "le = LabelEncoder().fit(train['species'])\n",
        "y_train = le.transform(train['species'])\n",
        "\n",
        "scaler = StandardScaler().fit(x_train)\n",
        "x_train = scaler.transform(x_train)\n",
        "\n",
        "params = {'C':[1, 10, 50, 100, 500, 1000, 2000], 'tol': [0.001, 0.0001, 0.005]}\n",
        "log_reg = LogisticRegression(solver='lbfgs', multi_class='multinomial')\n",
        "clf = GridSearchCV(log_reg, params, scoring='log_loss', refit='True', n_jobs=1, cv=5)\n",
        "clf.fit(x_train, y_train)\n",
        "\n",
        "print(\"best params: \" + str(clf.best_params_))\n",
        "for params, mean_score, scores in clf.grid_scores_:\n",
        "  print(\"%0.3f (+/-%0.03f) for %r\" % (mean_score, scores.std(), params))\n",
        "  print(scores)\n",
        "\n",
        "test = pd.read_csv('../input/test.csv')\n",
        "test_ids = test.pop('id')\n",
        "x_test = test.values\n",
        "scaler = StandardScaler().fit(x_test)\n",
        "x_test = scaler.transform(x_test)\n",
        "\n",
        "y_test = clf.predict_proba(x_test)\n",
        "\n",
        "submission = pd.DataFrame(y_test, index=test_ids, columns=le.classes_)\n",
        "submission.to_csv('submission.csv')"
      ]
    },
    {
      "cell_type": "code",
      "execution_count": null,
      "metadata": {
        "_cell_guid": "978520eb-a003-db8d-5216-2751928f5527"
      },
      "outputs": [],
      "source": [
        "train.describe()"
      ]
    },
    {
      "cell_type": "code",
      "execution_count": null,
      "metadata": {
        "_cell_guid": "16b3538d-e770-8efe-bec0-ec17e7746f9b"
      },
      "outputs": [],
      "source": [
        "####\u6709\u56fe\u7247\u6570\u636e\u53ef\u4ee5\u8bc6\u522b\n",
        "coef=clf.coef_\n",
        "coef"
      ]
    },
    {
      "cell_type": "code",
      "execution_count": null,
      "metadata": {
        "_cell_guid": "635a7d21-b920-9b1f-eea4-5573f298df78"
      },
      "outputs": [],
      "source": ""
    }
  ],
  "metadata": {
    "_change_revision": 0,
    "_is_fork": false,
    "kernelspec": {
      "display_name": "Python 3",
      "language": "python",
      "name": "python3"
    },
    "language_info": {
      "codemirror_mode": {
        "name": "ipython",
        "version": 3
      },
      "file_extension": ".py",
      "mimetype": "text/x-python",
      "name": "python",
      "nbconvert_exporter": "python",
      "pygments_lexer": "ipython3",
      "version": "3.5.2"
    }
  },
  "nbformat": 4,
  "nbformat_minor": 0
}