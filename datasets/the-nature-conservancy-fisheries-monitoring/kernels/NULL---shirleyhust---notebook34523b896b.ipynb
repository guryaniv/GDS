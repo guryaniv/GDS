{
  "cells": [
    {
      "cell_type": "code",
      "execution_count": null,
      "metadata": {
        "_cell_guid": "9e286782-7820-1727-4198-0409beb3a71c"
      },
      "outputs": [],
      "source": [
        "# This Python 3 environment comes with many helpful analytics libraries installed\n",
        "# It is defined by the kaggle/python docker image: https://github.com/kaggle/docker-python\n",
        "# For example, here's several helpful packages to load in \n",
        "\n",
        "import numpy as np # linear algebra\n",
        "import pandas as pd # data processing, CSV file I/O (e.g. pd.read_csv)\n",
        "\n",
        "# Input data files are available in the \"../input/\" directory.\n",
        "# For example, running this (by clicking run or pressing Shift+Enter) will list the files in the input directory\n",
        "\n",
        "from subprocess import check_output\n",
        "print(check_output([\"ls\", \"../input\"]).decode(\"utf8\"))\n",
        "\n",
        "# Any results you write to the current directory are saved as output."
      ]
    },
    {
      "cell_type": "code",
      "execution_count": null,
      "metadata": {
        "_cell_guid": "41060737-7070-a03e-34ca-e92d790dab85"
      },
      "outputs": [],
      "source": [
        "from keras.applications.inception_v3 import InceptionV3\n",
        "import os\n",
        "from keras.layers import Flatten, Dense, AveragePooling2D\n",
        "from keras.models import Model\n",
        "from keras.optimizers import RMSprop, SGD\n",
        "from keras.callbacks import ModelCheckpoint\n",
        "from keras.preprocessing.image import ImageDataGenerator"
      ]
    },
    {
      "cell_type": "code",
      "execution_count": null,
      "metadata": {
        "_cell_guid": "bbb2aa08-7bd4-c2f3-8863-01050e858f84"
      },
      "outputs": [],
      "source": [
        "learning_rate = 0.0001\n",
        "img_width = 299\n",
        "img_height = 299\n",
        "nbr_train_samples = 3019\n",
        "nbr_validation_samples = 758\n",
        "nbr_epochs = 25\n",
        "batch_size = 32\n"
      ]
    },
    {
      "cell_type": "code",
      "execution_count": null,
      "metadata": {
        "_cell_guid": "4a9e7ecf-1399-cf4e-f940-ae0e25257ae0"
      },
      "outputs": [],
      "source": [
        "train_data_dir = '/Users/Lifang/Desktop/790 Project/Shirley/train/train_split'\n",
        "\n",
        "val_data_dir = '/Users/Lifang/Desktop/790 Project/Shirley/train/val_split'"
      ]
    },
    {
      "cell_type": "code",
      "execution_count": null,
      "metadata": {
        "_cell_guid": "33256154-d902-07de-e3b6-136b02224a33"
      },
      "outputs": [],
      "source": [
        "FishNames = ['ALB', 'BET', 'DOL', 'LAG', 'NoF', 'OTHER', 'SHARK', 'YFT']\n",
        "\n",
        "print('Loading InceptionV3 Weights ...')\n",
        "InceptionV3_notop = InceptionV3(include_top=False, weights='imagenet',\n",
        "                    input_tensor=None, input_shape=(299, 299, 3))\n",
        "# Note that the preprocessing of InceptionV3 is:\n",
        "# (x / 255 - 0.5) x 2"
      ]
    },
    {
      "cell_type": "code",
      "execution_count": null,
      "metadata": {
        "_cell_guid": "67939378-5353-319f-2984-0a2a82cc9a70"
      },
      "outputs": [],
      "source": [
        "print('Adding Average Pooling Layer and Softmax Output Layer ...')\n",
        "output = InceptionV3_notop.get_layer(index = -1).output  # Shape: (8, 8, 2048)\n",
        "output = AveragePooling2D((8, 8), strides=(8, 8), name='avg_pool')(output)\n",
        "output = Flatten(name='flatten')(output)\n",
        "output = Dense(8, activation='softmax', name='predictions')(output)\n",
        "\n",
        "InceptionV3_model = Model(InceptionV3_notop.input, output)\n",
        "#InceptionV3_model.summary()\n"
      ]
    },
    {
      "cell_type": "code",
      "execution_count": null,
      "metadata": {
        "_cell_guid": "7c9b6bf8-74c5-3681-ce60-789afa3f7f51"
      },
      "outputs": [],
      "source": ""
    }
  ],
  "metadata": {
    "_change_revision": 0,
    "_is_fork": false,
    "kernelspec": {
      "display_name": "Python 3",
      "language": "python",
      "name": "python3"
    },
    "language_info": {
      "codemirror_mode": {
        "name": "ipython",
        "version": 3
      },
      "file_extension": ".py",
      "mimetype": "text/x-python",
      "name": "python",
      "nbconvert_exporter": "python",
      "pygments_lexer": "ipython3",
      "version": "3.6.0"
    }
  },
  "nbformat": 4,
  "nbformat_minor": 0
}