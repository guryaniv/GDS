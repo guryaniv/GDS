{
  "cells": [
    {
      "cell_type": "markdown",
      "metadata": {
        "_cell_guid": "9ce8884a-99a2-b8f8-a17a-0ab443c7a720"
      },
      "source": [
        "## Load the data ##"
      ]
    },
    {
      "cell_type": "code",
      "execution_count": null,
      "metadata": {
        "_cell_guid": "6a1dcf13-829b-cab7-3342-5ea39ef1e717"
      },
      "outputs": [],
      "source": [
        "# This Python 3 environment comes with many helpful analytics libraries installed\n",
        "# It is defined by the kaggle/python docker image: https://github.com/kaggle/docker-python\n",
        "# For example, here's several helpful packages to load in \n",
        "\n",
        "import numpy as np # linear algebra\n",
        "import pandas as pd # data processing, CSV file I/O (e.g. pd.read_csv)\n",
        "import seaborn as sns\n",
        "import matplotlib.pyplot as plt\n",
        "%matplotlib inline\n",
        "\n",
        "# Input data files are available in the \"../input/\" directory.\n",
        "# For example, running this (by clicking run or pressing Shift+Enter) will list the files in the input directory\n",
        "\n",
        "from subprocess import check_output\n",
        "print(check_output([\"ls\", \"../input\"]).decode(\"utf8\"))\n",
        "\n",
        "# Any results you write to the current directory are saved as output."
      ]
    },
    {
      "cell_type": "code",
      "execution_count": null,
      "metadata": {
        "_cell_guid": "063a53a2-a305-50a4-e756-19c08a65330d"
      },
      "outputs": [],
      "source": [
        "train = pd.read_csv(\"../input/train.csv\", parse_dates = ['timestamp'])\n",
        "test = pd.read_csv(\"../input/test.csv\", parse_dates=['timestamp'])\n",
        "data = train.drop(labels = 'price_doc', axis = 1).append(test, ignore_index = True)"
      ]
    },
    {
      "cell_type": "code",
      "execution_count": null,
      "metadata": {
        "_cell_guid": "09d46aa0-21c8-00ff-4b04-926d6816642e"
      },
      "outputs": [],
      "source": [
        "#data.shape"
      ]
    },
    {
      "cell_type": "code",
      "execution_count": null,
      "metadata": {
        "_cell_guid": "234d866c-9932-c607-8c11-3a243a25c219"
      },
      "outputs": [],
      "source": [
        "train.head()"
      ]
    },
    {
      "cell_type": "code",
      "execution_count": null,
      "metadata": {
        "_cell_guid": "f219826c-6d63-ffa0-87d1-abee93debcc8"
      },
      "outputs": [],
      "source": [
        "train.describe()"
      ]
    },
    {
      "cell_type": "code",
      "execution_count": null,
      "metadata": {
        "_cell_guid": "4559e261-72df-e6b1-f993-afd7dc1d6c15"
      },
      "outputs": [],
      "source": [
        "train.dtypes"
      ]
    },
    {
      "cell_type": "code",
      "execution_count": null,
      "metadata": {
        "_cell_guid": "68c362d7-62f4-7ca9-2a21-4d5a3c0f0fcc"
      },
      "outputs": [],
      "source": [
        "plt.figure(figsize=(10, 5))\n",
        "sns.distplot(train.price_doc, kde = False)"
      ]
    },
    {
      "cell_type": "markdown",
      "metadata": {
        "_cell_guid": "671322b3-cc66-de0f-ebcf-cc02f8a5a09a"
      },
      "source": [
        "The price distribution is highly skewed, so better to do log transform."
      ]
    },
    {
      "cell_type": "code",
      "execution_count": null,
      "metadata": {
        "_cell_guid": "3b6ae4e8-bfa2-1851-2060-b4ca02955415"
      },
      "outputs": [],
      "source": [
        "plt.figure(figsize=(10, 5))\n",
        "sns.distplot(np.log1p(train.price_doc), color = \"orange\", kde = False)\n",
        "plt.xlabel(\"log(1+price)\")"
      ]
    },
    {
      "cell_type": "code",
      "execution_count": null,
      "metadata": {
        "_cell_guid": "79482d80-42c7-94b0-65c2-811c631ca42d"
      },
      "outputs": [],
      "source": [
        "train['price_log'] = np.log1p(train['price_doc'])"
      ]
    },
    {
      "cell_type": "markdown",
      "metadata": {
        "_cell_guid": "4c3e527e-714c-0871-94c6-4c29f59ab322"
      },
      "source": [
        "### Missing Values ###"
      ]
    },
    {
      "cell_type": "code",
      "execution_count": null,
      "metadata": {
        "_cell_guid": "6a57f4a0-4010-12b7-26c1-db4863b93084"
      },
      "outputs": [],
      "source": [
        "train.shape"
      ]
    },
    {
      "cell_type": "code",
      "execution_count": null,
      "metadata": {
        "_cell_guid": "ed6f9131-fe3c-9b9a-bae5-1da3f31b3834"
      },
      "outputs": [],
      "source": [
        "for col in train.columns.values:\n",
        "    if len(train[train[col].isnull()][col]) > 0:\n",
        "        print(\"{0}: {1}\".format(col, len(train[train[col].isnull()][col])))"
      ]
    },
    {
      "cell_type": "markdown",
      "metadata": {
        "_cell_guid": "c4479fdf-b779-43e4-7947-d0ffd79d3e69"
      },
      "source": [
        "### Seasonality ###"
      ]
    },
    {
      "cell_type": "code",
      "execution_count": null,
      "metadata": {
        "_cell_guid": "82740bf4-404a-84c4-b65d-9de57569abef"
      },
      "outputs": [],
      "source": [
        "train['year'] = train['timestamp'].map(lambda x: x.strftime(\"%Y\"))\n",
        "train['month'] = train['timestamp'].map(lambda x: x.strftime(\"%m\"))"
      ]
    },
    {
      "cell_type": "code",
      "execution_count": null,
      "metadata": {
        "_cell_guid": "622d4d7a-6824-719b-338d-08aa5f7c8cf0"
      },
      "outputs": [],
      "source": [
        "sns.boxplot(data=train, x = 'year', y = 'price_log')"
      ]
    },
    {
      "cell_type": "code",
      "execution_count": null,
      "metadata": {
        "_cell_guid": "621c3d52-44e5-c5ba-c83c-2944282192a8"
      },
      "outputs": [],
      "source": [
        "plt.figure(figsize = (12, 4))\n",
        "sns.boxplot(data=train, x= 'month', y = 'price_log')"
      ]
    },
    {
      "cell_type": "markdown",
      "metadata": {
        "_cell_guid": "d7633100-ca58-4a5b-09a0-fbcd9094e783"
      },
      "source": [
        "The median house price barely depends on the which month the houses are sold, but increases slight from year to year.\n",
        "**From macro.csv data set, could look for the features that also increase from year basis and select those which may affect the housing price the most.**"
      ]
    },
    {
      "cell_type": "code",
      "execution_count": null,
      "metadata": {
        "_cell_guid": "9a0381be-0acb-48ac-243a-9b288eca5e34"
      },
      "outputs": [],
      "source": [
        "macro = pd.read_csv(\"../input/macro.csv\", parse_dates=['timestamp'])"
      ]
    },
    {
      "cell_type": "code",
      "execution_count": null,
      "metadata": {
        "_cell_guid": "68076c43-3aa6-1fa3-fafe-d28934e5f5a4"
      },
      "outputs": [],
      "source": [
        "macro['year'] = macro['timestamp'].map(lambda x: x.strftime(\"%Y\"))"
      ]
    },
    {
      "cell_type": "code",
      "execution_count": null,
      "metadata": {
        "_cell_guid": "65374ef2-c77b-6805-b15b-e2fad80b67cf"
      },
      "outputs": [],
      "source": [
        "macro.plot(x = 'year', y = ['deposits_value', 'mortgage_value'], subplots=True)"
      ]
    },
    {
      "cell_type": "code",
      "execution_count": null,
      "metadata": {
        "_cell_guid": "337c2888-5845-21f0-3e8a-e0cdf4de7717"
      },
      "outputs": [],
      "source": [
        "macro['cpi_per_ppi'] = macro['cpi']/macro['ppi']\n",
        "macro.plot(x = 'year', y = ['cpi', 'ppi', 'cpi_per_ppi'], subplots=True)"
      ]
    },
    {
      "cell_type": "code",
      "execution_count": null,
      "metadata": {
        "_cell_guid": "1422ad69-789b-0c11-7f58-d9c3bb37041e"
      },
      "outputs": [],
      "source": [
        "macro.plot(x = 'year', y = ['usdrub', 'eurrub'])"
      ]
    },
    {
      "cell_type": "code",
      "execution_count": null,
      "metadata": {
        "_cell_guid": "6c95a9ed-4769-df9d-2470-137cfbf43876"
      },
      "outputs": [],
      "source": [
        "sns.boxplot(x = 'year', y = 'income_per_cap', data = macro)"
      ]
    },
    {
      "cell_type": "markdown",
      "metadata": {
        "_cell_guid": "6d675bb4-320c-b0bd-3ac1-882d19132b69"
      },
      "source": [
        "**Explored a few features in macro.csv with seasonality. So far they don't seem to useful for housing price prediction. Won't use them for now.**"
      ]
    },
    {
      "cell_type": "code",
      "execution_count": null,
      "metadata": {
        "_cell_guid": "8495243f-f332-ee00-1b70-048e55323018"
      },
      "outputs": [],
      "source": [
        "sns.regplot(x = 'build_year', y = 'price_log', \n",
        "            data = train[(train.build_year > 1900) & (train.build_year <= 2016) & train.build_year.notnull()])"
      ]
    },
    {
      "cell_type": "code",
      "execution_count": null,
      "metadata": {
        "_cell_guid": "192c5774-26ed-8d9c-fba8-56254bdcd9d0"
      },
      "outputs": [],
      "source": [
        "sns.boxplot(x = 'state', y = 'price_log', data = train)"
      ]
    },
    {
      "cell_type": "code",
      "execution_count": null,
      "metadata": {
        "_cell_guid": "9d22c6c4-0925-1d09-4b18-4a2f6cbe4c4d"
      },
      "outputs": [],
      "source": [
        "train['state'].value_counts()"
      ]
    },
    {
      "cell_type": "code",
      "execution_count": null,
      "metadata": {
        "_cell_guid": "b2ff5b6b-7f1c-3c9a-d1d1-7e7481754392"
      },
      "outputs": [],
      "source": [
        ""
      ]
    },
    {
      "cell_type": "markdown",
      "metadata": {
        "_cell_guid": "802e6570-9579-1a8e-fbcb-7a9cec8221e0"
      },
      "source": [
        "## Data Cleaning ##"
      ]
    },
    {
      "cell_type": "markdown",
      "metadata": {
        "_cell_guid": "390e0f16-fecd-2d19-6272-0416b9059438"
      },
      "source": [
        "Drop the columns with too many NA's"
      ]
    },
    {
      "cell_type": "code",
      "execution_count": null,
      "metadata": {
        "_cell_guid": "ce860667-8c2a-4c53-4210-943ea91fbf5a"
      },
      "outputs": [],
      "source": [
        "drop_col = train.filter(regex = 'build_count', axis = 1).columns.values.tolist()\n",
        "drop_col.extend(train.filter(regex = 'cafe_[sum|avg]', axis = 1).columns.values.tolist())\n",
        "drop_col.extend(['hospital_beds_raion', 'build_year', 'max_floor'])\n",
        "drop_col"
      ]
    },
    {
      "cell_type": "code",
      "execution_count": null,
      "metadata": {
        "_cell_guid": "45b1dc57-7ebb-8791-7254-cbff86572309"
      },
      "outputs": [],
      "source": [
        "data.drop(labels = drop_col, axis = 1, inplace=True)"
      ]
    },
    {
      "cell_type": "code",
      "execution_count": null,
      "metadata": {
        "_cell_guid": "1ec64534-348c-c1c6-1c42-4320b9a1d035"
      },
      "outputs": [],
      "source": [
        "data.loc[data.state == 33, 'state'] = 3"
      ]
    },
    {
      "cell_type": "code",
      "execution_count": null,
      "metadata": {
        "_cell_guid": "b68a5be9-c5ef-4ea9-88ca-07ca1636df8e"
      },
      "outputs": [],
      "source": [
        ""
      ]
    }
  ],
  "metadata": {
    "_change_revision": 0,
    "_is_fork": false,
    "kernelspec": {
      "display_name": "Python 3",
      "language": "python",
      "name": "python3"
    },
    "language_info": {
      "codemirror_mode": {
        "name": "ipython",
        "version": 3
      },
      "file_extension": ".py",
      "mimetype": "text/x-python",
      "name": "python",
      "nbconvert_exporter": "python",
      "pygments_lexer": "ipython3",
      "version": "3.6.0"
    }
  },
  "nbformat": 4,
  "nbformat_minor": 0
}