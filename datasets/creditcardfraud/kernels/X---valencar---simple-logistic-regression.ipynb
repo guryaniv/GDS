{
  "cells": [
    {
      "cell_type": "code",
      "execution_count": null,
      "metadata": {
        "_cell_guid": "a3bb74f1-32e3-ea11-7ea7-2188b5b7eab2"
      },
      "outputs": [],
      "source": [
        "# This Python 3 environment comes with many helpful analytics libraries installed\n",
        "# It is defined by the kaggle/python docker image: https://github.com/kaggle/docker-python\n",
        "# For example, here's several helpful packages to load in \n",
        "\n",
        "import numpy as np # linear algebra\n",
        "import pandas as pd # data processing, CSV file I/O (e.g. pd.read_csv)\n",
        "\n",
        "# Input data files are available in the \"../input/\" directory.\n",
        "# For example, running this (by clicking run or pressing Shift+Enter) will list the files in the input directory\n",
        "\n",
        "from subprocess import check_output\n",
        "print(check_output([\"ls\", \"../input\"]).decode(\"utf8\"))\n",
        "\n",
        "# Any results you write to the current directory are saved as output."
      ]
    },
    {
      "cell_type": "code",
      "execution_count": null,
      "metadata": {
        "_cell_guid": "4d5789f7-56f4-79a0-caa8-12ed40329d58"
      },
      "outputs": [],
      "source": [
        "#import\n",
        "import pandas as pd\n",
        "from sklearn.model_selection import train_test_split\n",
        "from sklearn.linear_model import LogisticRegression\n",
        "from sklearn import metrics"
      ]
    },
    {
      "cell_type": "code",
      "execution_count": null,
      "metadata": {
        "_cell_guid": "993e6571-0b72-a73c-a089-3c411e11a746"
      },
      "outputs": [],
      "source": [
        "df = pd.read_csv(\"../input/creditcard.csv\",header = 0)\n",
        "#print type(df)\n",
        "df.head()"
      ]
    },
    {
      "cell_type": "code",
      "execution_count": null,
      "metadata": {
        "_cell_guid": "1b87e68b-6c59-ddf6-df0e-b93c609210b6"
      },
      "outputs": [],
      "source": [
        "df.shape"
      ]
    },
    {
      "cell_type": "code",
      "execution_count": null,
      "metadata": {
        "_cell_guid": "a96bd998-1e71-3c8c-ebd3-7838ecce5cae"
      },
      "outputs": [],
      "source": [
        "df['Class'].value_counts()"
      ]
    },
    {
      "cell_type": "code",
      "execution_count": null,
      "metadata": {
        "_cell_guid": "a0aa95dc-8f2e-6276-79ff-fc5d6b6e2085"
      },
      "outputs": [],
      "source": [
        "#split into test train\n",
        "traindf, testdf = train_test_split(df, test_size = 0.4)"
      ]
    },
    {
      "cell_type": "code",
      "execution_count": null,
      "metadata": {
        "_cell_guid": "dce6ec39-b638-4ea3-e33d-e49ec7e12420"
      },
      "outputs": [],
      "source": [
        "#divide into X and Y\n",
        "XCol = df.columns[0:30]\n",
        "YCol = \"Class\"  "
      ]
    },
    {
      "cell_type": "code",
      "execution_count": null,
      "metadata": {
        "_cell_guid": "1d24ba65-156e-f936-1dce-f65acb9c6ec6"
      },
      "outputs": [],
      "source": [
        "logReg = LogisticRegression()\n",
        "logReg.fit(traindf[XCol],traindf[YCol])"
      ]
    },
    {
      "cell_type": "code",
      "execution_count": null,
      "metadata": {
        "_cell_guid": "16ae75a8-14c3-9d50-a326-98351cad6a61"
      },
      "outputs": [],
      "source": [
        "predictions = logReg.predict(testdf[XCol]);\n",
        "accuracy = metrics.accuracy_score(predictions,testdf[YCol])\n",
        "accuracy"
      ]
    },
    {
      "cell_type": "code",
      "execution_count": null,
      "metadata": {
        "_cell_guid": "2ee3dc9a-a682-2da5-f40e-cea47dbf8f75"
      },
      "outputs": [],
      "source": [
        ""
      ]
    },
    {
      "cell_type": "code",
      "execution_count": null,
      "metadata": {
        "_cell_guid": "5dc0f98c-5e1f-7dca-df57-8d532d036303"
      },
      "outputs": [],
      "source": [
        "# Get the sum of amounts per Class\n",
        "df1 = df.groupby('Class')['Amount'].sum()\n",
        "df1"
      ]
    },
    {
      "cell_type": "code",
      "execution_count": null,
      "metadata": {
        "_cell_guid": "796536ac-f711-0905-ede6-bca15f4374ac"
      },
      "outputs": [],
      "source": [
        "# Get the mean of amounts per Class\n",
        "# Class: 0 - Normal, 1 - Fraud\n",
        "df1 = df.groupby('Class')['Amount'].mean()\n",
        "df1"
      ]
    },
    {
      "cell_type": "code",
      "execution_count": null,
      "metadata": {
        "_cell_guid": "9e3797fe-acb7-bca4-1c92-7cf14bce180e"
      },
      "outputs": [],
      "source": [
        "import seaborn as sea\n",
        "\n",
        "sea.barplot(x='Class',y='Amount', data=df)"
      ]
    }
  ],
  "metadata": {
    "_change_revision": 0,
    "_is_fork": false,
    "kernelspec": {
      "display_name": "Python 3",
      "language": "python",
      "name": "python3"
    },
    "language_info": {
      "codemirror_mode": {
        "name": "ipython",
        "version": 3
      },
      "file_extension": ".py",
      "mimetype": "text/x-python",
      "name": "python",
      "nbconvert_exporter": "python",
      "pygments_lexer": "ipython3",
      "version": "3.6.0"
    }
  },
  "nbformat": 4,
  "nbformat_minor": 0
}