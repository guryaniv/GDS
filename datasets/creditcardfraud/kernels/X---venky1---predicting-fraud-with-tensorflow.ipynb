{
  "cells": [
    {
      "cell_type": "markdown",
      "metadata": {
        "_cell_guid": "078bebea-eacd-009d-be23-ffd04a9a28d7"
      },
      "source": [
        "# Predicting Credit Card Fraud"
      ]
    },
    {
      "cell_type": "markdown",
      "metadata": {
        "_cell_guid": "5fd61b05-3123-f9f2-07b4-65f494b1d197"
      },
      "source": [
        "The goal for this analysis is to predict credit card fraud in the transactional data. I will be using tensorflow to build the predictive model, and t-SNE to visualize the dataset in two dimensions at the end of this analysis. If you would like to learn more about the data, visit: https://www.kaggle.com/dalpozz/creditcardfraud.\n",
        "\n",
        "The sections of this analysis include: \n",
        "\n",
        " - Exploring the Data\n",
        " - Building the Neural Network \n",
        " - Visualizing the Data with t-SNE."
      ]
    },
    {
      "cell_type": "code",
      "execution_count": null,
      "metadata": {
        "_cell_guid": "fa5b0b2c-61af-c331-5189-ea7a7da91af4"
      },
      "outputs": [],
      "source": [
        "import pandas as pd\n",
        "import numpy as np \n",
        "import tensorflow as tf\n",
        "from sklearn.cross_validation import train_test_split\n",
        "import matplotlib.pyplot as plt\n",
        "from sklearn.utils import shuffle\n",
        "from sklearn.metrics import confusion_matrix\n",
        "import seaborn as sns\n",
        "import matplotlib.gridspec as gridspec\n",
        "from sklearn.preprocessing import StandardScaler\n",
        "from sklearn.manifold import TSNE\n",
        "# from show_confusion_matrix import show_confusion_matrix \n",
        "# the above is from http://notmatthancock.github.io/2015/10/28/confusion-matrix.html"
      ]
    },
    {
      "cell_type": "code",
      "execution_count": null,
      "metadata": {
        "_cell_guid": "2fb18cab-d30f-a0b4-e2ac-965e8d54f46c"
      },
      "outputs": [],
      "source": [
        "df = pd.read_csv(\"../input/creditcard.csv\")"
      ]
    },
    {
      "cell_type": "markdown",
      "metadata": {
        "_cell_guid": "506f5726-aa78-c07e-3897-50a8e30c28d0"
      },
      "source": [
        "## Exploring the Data"
      ]
    },
    {
      "cell_type": "code",
      "execution_count": null,
      "metadata": {
        "_cell_guid": "6e2df96f-c649-9a33-14e8-5e72b1b1d026"
      },
      "outputs": [],
      "source": [
        "df.head()"
      ]
    },
    {
      "cell_type": "markdown",
      "metadata": {
        "_cell_guid": "fb2dbbb5-0d64-31e3-b0e3-1ac419b476a2"
      },
      "source": [
        "The data is mostly transformed from its original form, for confidentiality reasons."
      ]
    },
    {
      "cell_type": "code",
      "execution_count": null,
      "metadata": {
        "_cell_guid": "e0d66b9b-aa80-d98d-e0e4-2b6436ad643f"
      },
      "outputs": [],
      "source": [
        "df.describe()"
      ]
    },
    {
      "cell_type": "code",
      "execution_count": null,
      "metadata": {
        "_cell_guid": "296fd9fd-0461-a557-8b28-e9976457eb57"
      },
      "outputs": [],
      "source": [
        "df.isnull().sum()"
      ]
    },
    {
      "cell_type": "markdown",
      "metadata": {
        "_cell_guid": "deca11b4-e0eb-6f0c-a7f1-af499df38a49"
      },
      "source": [
        "No missing values, that makes things a little easier.\n",
        "\n",
        "Let's see how time compares across fraudulent and normal transactions."
      ]
    },
    {
      "cell_type": "code",
      "execution_count": null,
      "metadata": {
        "_cell_guid": "3feb7a36-245c-d3c0-a85b-fb4a56b88602"
      },
      "outputs": [],
      "source": [
        "print (\"Fraud\")\n",
        "print (df.Time[df.Class == 1].describe())\n",
        "print ()\n",
        "print (\"Normal\")\n",
        "print (df.Time[df.Class == 0].describe())"
      ]
    },
    {
      "cell_type": "code",
      "execution_count": null,
      "metadata": {
        "_cell_guid": "5f0f1afc-2ea8-2064-44b2-db646dfd5540"
      },
      "outputs": [],
      "source": [
        "f, (ax1, ax2) = plt.subplots(2, 1, sharex=True, figsize=(12,4))\n",
        "\n",
        "bins = 50\n",
        "\n",
        "ax1.hist(df.Time[df.Class == 1], bins = bins)\n",
        "ax1.set_title('Fraud')\n",
        "\n",
        "ax2.hist(df.Time[df.Class == 0], bins = bins)\n",
        "ax2.set_title('Normal')\n",
        "\n",
        "plt.xlabel('Time (in Seconds)')\n",
        "plt.ylabel('Number of Transactions')\n",
        "plt.show()"
      ]
    },
    {
      "cell_type": "markdown",
      "metadata": {
        "_cell_guid": "d60b2c81-ea2c-fdc8-4e00-3f6b12af5fba"
      },
      "source": [
        "The 'Time' feature looks pretty similar across both types of transactions. You could argue that fraudulent transactions are more uniformly distributed, while normal transactions have a cyclical distribution. This could make it easier to detect a fraudulent transaction during at an 'off-peak' time.\n",
        "\n",
        "Now let's see if the transaction amount differs between the two types."
      ]
    },
    {
      "cell_type": "code",
      "execution_count": null,
      "metadata": {
        "_cell_guid": "db2fcefb-daa9-8b14-7300-7d20db5a49a8"
      },
      "outputs": [],
      "source": [
        "print (\"Fraud\")\n",
        "print (df.Amount[df.Class == 1].describe())\n",
        "print ()\n",
        "print (\"Normal\")\n",
        "print (df.Amount[df.Class == 0].describe())"
      ]
    },
    {
      "cell_type": "code",
      "execution_count": null,
      "metadata": {
        "_cell_guid": "bf7873ea-fd39-6565-6713-8533fda33d29"
      },
      "outputs": [],
      "source": [
        "f, (ax1, ax2) = plt.subplots(2, 1, sharex=True, figsize=(12,4))\n",
        "\n",
        "bins = 30\n",
        "\n",
        "ax1.hist(df.Amount[df.Class == 1], bins = bins)\n",
        "ax1.set_title('Fraud')\n",
        "\n",
        "ax2.hist(df.Amount[df.Class == 0], bins = bins)\n",
        "ax2.set_title('Normal')\n",
        "\n",
        "plt.xlabel('Amount ($)')\n",
        "plt.ylabel('Number of Transactions')\n",
        "plt.yscale('log')\n",
        "plt.show()"
      ]
    },
    {
      "cell_type": "code",
      "execution_count": null,
      "metadata": {
        "_cell_guid": "da6ecbcc-b994-6e1b-43b2-42a4801366f0"
      },
      "outputs": [],
      "source": [
        "df['Amount_max_fraud'] = 1\n",
        "df.loc[df.Amount <= 2125.87, 'Amount_max_fraud'] = 0"
      ]
    },
    {
      "cell_type": "markdown",
      "metadata": {
        "_cell_guid": "c6129477-c175-ef7a-1d5b-a331a905c524"
      },
      "source": [
        "Most transactions are small amounts, less than $100. Fraudulent transactions have a maximum value far less than normal transactions, $2,125.87 vs $25,691.16.\n",
        "\n",
        "Let's compare Time with Amount and see if we can learn anything new."
      ]
    },
    {
      "cell_type": "code",
      "execution_count": null,
      "metadata": {
        "_cell_guid": "ee2f1aa4-84f7-3959-ceca-639211a4468d"
      },
      "outputs": [],
      "source": [
        "f, (ax1, ax2) = plt.subplots(2, 1, sharex=True, figsize=(12,6))\n",
        "\n",
        "ax1.scatter(df.Time[df.Class == 1], df.Amount[df.Class == 1])\n",
        "ax1.set_title('Fraud')\n",
        "\n",
        "ax2.scatter(df.Time[df.Class == 0], df.Amount[df.Class == 0])\n",
        "ax2.set_title('Normal')\n",
        "\n",
        "plt.xlabel('Time (in Seconds)')\n",
        "plt.ylabel('Amount')\n",
        "plt.show()"
      ]
    },
    {
      "cell_type": "markdown",
      "metadata": {
        "_cell_guid": "51380e8e-f55c-f7da-5abb-b8f74900b0df"
      },
      "source": [
        "Nothing too useful here.\n",
        "\n",
        "Next, let's take a look at the anonymized features."
      ]
    },
    {
      "cell_type": "code",
      "execution_count": null,
      "metadata": {
        "_cell_guid": "517128c8-9467-8225-791a-72fbe90fcbf6"
      },
      "outputs": [],
      "source": [
        "#Select only the anonymized features.\n",
        "v_features = df.ix[:,1:29].columns"
      ]
    },
    {
      "cell_type": "code",
      "execution_count": null,
      "metadata": {
        "_cell_guid": "254519ba-35e8-26bf-648c-462b51f3db08"
      },
      "outputs": [],
      "source": [
        "plt.figure(figsize=(12,28*4))\n",
        "gs = gridspec.GridSpec(28, 1)\n",
        "for i, cn in enumerate(df[v_features]):\n",
        "    ax = plt.subplot(gs[i])\n",
        "    sns.distplot(df[cn][df.Class == 1], bins=50)\n",
        "    sns.distplot(df[cn][df.Class == 0], bins=50)\n",
        "    ax.set_xlabel('')\n",
        "    ax.set_title('histogram of feature: ' + str(cn))\n",
        "plt.show()"
      ]
    },
    {
      "cell_type": "code",
      "execution_count": null,
      "metadata": {
        "_cell_guid": "09f58878-6f5a-d903-e0be-cdabfb5ed662"
      },
      "outputs": [],
      "source": [
        "#Drop all of the features that have very similar distributions between the two types of transactions.\n",
        "df = df.drop(['V28','V27','V26','V25','V24','V23','V22','V20','V15','V13','V8'], axis =1)"
      ]
    },
    {
      "cell_type": "code",
      "execution_count": null,
      "metadata": {
        "_cell_guid": "5414a61d-38b4-a927-c31f-5afba5feef08"
      },
      "outputs": [],
      "source": [
        "#Based on the plots above, these features are created to identify values where fraudulent transaction are more common.\n",
        "df['V1_'] = df.V1.map(lambda x: 1 if x < -3 else 0)\n",
        "df['V2_'] = df.V2.map(lambda x: 1 if x > 2.5 else 0)\n",
        "df['V3_'] = df.V3.map(lambda x: 1 if x < -4 else 0)\n",
        "df['V4_'] = df.V4.map(lambda x: 1 if x > 2.5 else 0)\n",
        "df['V5_'] = df.V5.map(lambda x: 1 if x < -4.5 else 0)\n",
        "df['V6_'] = df.V6.map(lambda x: 1 if x < -2.5 else 0)\n",
        "df['V7_'] = df.V7.map(lambda x: 1 if x < -3 else 0)\n",
        "df['V9_'] = df.V9.map(lambda x: 1 if x < -2 else 0)\n",
        "df['V10_'] = df.V10.map(lambda x: 1 if x < -2.5 else 0)\n",
        "df['V11_'] = df.V11.map(lambda x: 1 if x > 2 else 0)\n",
        "df['V12_'] = df.V12.map(lambda x: 1 if x < -2 else 0)\n",
        "df['V14_'] = df.V14.map(lambda x: 1 if x < -2.5 else 0)\n",
        "df['V16_'] = df.V16.map(lambda x: 1 if x < -2 else 0)\n",
        "df['V17_'] = df.V17.map(lambda x: 1 if x < -2 else 0)\n",
        "df['V18_'] = df.V18.map(lambda x: 1 if x < -2 else 0)\n",
        "df['V19_'] = df.V19.map(lambda x: 1 if x > 1.5 else 0)\n",
        "df['V21_'] = df.V21.map(lambda x: 1 if x > 0.6 else 0)"
      ]
    },
    {
      "cell_type": "code",
      "execution_count": null,
      "metadata": {
        "_cell_guid": "8901e194-87b8-c3c3-662e-b05a44a50a5e"
      },
      "outputs": [],
      "source": [
        "#Create a new feature for normal (non-fraudulent) transactions.\n",
        "df.loc[df.Class == 0, 'Normal'] = 1\n",
        "df.loc[df.Class == 1, 'Normal'] = 0"
      ]
    },
    {
      "cell_type": "code",
      "execution_count": null,
      "metadata": {
        "_cell_guid": "c284c3cf-7523-fbd6-9d13-026e633167c3"
      },
      "outputs": [],
      "source": [
        "#Rename 'Class' to 'Fraud'.\n",
        "df = df.rename(columns={'Class': 'Fraud'})"
      ]
    },
    {
      "cell_type": "code",
      "execution_count": null,
      "metadata": {
        "_cell_guid": "afa20d7b-1a72-3bf5-a51c-066fc16dedc6"
      },
      "outputs": [],
      "source": [
        "#492 fraudulent transactions, 284,315 normal transactions.\n",
        "#0.172% of transactions were fraud. \n",
        "print(df.Normal.value_counts())\n",
        "print()\n",
        "print(df.Fraud.value_counts())"
      ]
    },
    {
      "cell_type": "code",
      "execution_count": null,
      "metadata": {
        "_cell_guid": "0ddbbdd8-9ac9-d730-8063-d0f4acdaf85b"
      },
      "outputs": [],
      "source": [
        "pd.set_option(\"display.max_columns\",101)\n",
        "df.head()"
      ]
    },
    {
      "cell_type": "code",
      "execution_count": null,
      "metadata": {
        "_cell_guid": "23616744-f335-007e-a6b1-ee0bc0f3edcd"
      },
      "outputs": [],
      "source": [
        "#Create dataframes of only Fraud and Normal transactions.\n",
        "Fraud = df[df.Fraud == 1]\n",
        "Normal = df[df.Normal == 1]"
      ]
    },
    {
      "cell_type": "code",
      "execution_count": null,
      "metadata": {
        "_cell_guid": "deb5dbbb-201d-e79f-13cc-dc9817d588e5"
      },
      "outputs": [],
      "source": [
        "# Set X_train equal to 80% of the fraudulent transactions.\n",
        "X_train = Fraud.sample(frac=0.8)\n",
        "count_Frauds = len(X_train)\n",
        "\n",
        "# Add 80% of the normal transactions to X_train.\n",
        "X_train = pd.concat([X_train, Normal.sample(frac = 0.8)], axis = 0)\n",
        "\n",
        "# X_test contains all the transaction not in X_train.\n",
        "X_test = df.loc[~df.index.isin(X_train.index)]"
      ]
    },
    {
      "cell_type": "code",
      "execution_count": null,
      "metadata": {
        "_cell_guid": "c0becaf6-dc5d-8cdf-8763-ae0c8a669e91"
      },
      "outputs": [],
      "source": [
        "#Shuffle the dataframes so that the training is done in a random order.\n",
        "X_train = shuffle(X_train)\n",
        "X_test = shuffle(X_test)"
      ]
    },
    {
      "cell_type": "code",
      "execution_count": null,
      "metadata": {
        "_cell_guid": "80e7e303-ce05-5f3d-a0d8-ac2960ec0fbb"
      },
      "outputs": [],
      "source": [
        "#Add our target features to y_train and y_test.\n",
        "y_train = X_train.Fraud\n",
        "y_train = pd.concat([y_train, X_train.Normal], axis=1)\n",
        "\n",
        "y_test = X_test.Fraud\n",
        "y_test = pd.concat([y_test, X_test.Normal], axis=1)"
      ]
    },
    {
      "cell_type": "code",
      "execution_count": null,
      "metadata": {
        "_cell_guid": "74f83c86-c091-0e72-7022-6a916167047f"
      },
      "outputs": [],
      "source": [
        "#Drop target features from X_train and X_test.\n",
        "X_train = X_train.drop(['Fraud','Normal'], axis = 1)\n",
        "X_test = X_test.drop(['Fraud','Normal'], axis = 1)"
      ]
    },
    {
      "cell_type": "code",
      "execution_count": null,
      "metadata": {
        "_cell_guid": "1f7660a6-6798-2bed-ccbf-a19f63b309c5"
      },
      "outputs": [],
      "source": [
        "#Check to ensure all of the training/testing dataframes are of the correct length\n",
        "print(len(X_train))\n",
        "print(len(y_train))\n",
        "print(len(X_test))\n",
        "print(len(y_test))"
      ]
    },
    {
      "cell_type": "code",
      "execution_count": null,
      "metadata": {
        "_cell_guid": "84f4c273-2113-3fe2-25d4-61c47a2628d1"
      },
      "outputs": [],
      "source": [
        "'''\n",
        "Due to the imbalance in the data, ratio will act as an equal weighting system for our model. \n",
        "By dividing the number of transactions by those that are fraudulent, ratio will equal the value that when multiplied\n",
        "by the number of fraudulent transactions will equal the number of normal transaction. \n",
        "Simply put: # of fraud * ratio = # of normal\n",
        "'''\n",
        "ratio = len(X_train)/count_Frauds \n",
        "\n",
        "y_train.Fraud *= ratio\n",
        "y_test.Fraud *= ratio"
      ]
    },
    {
      "cell_type": "code",
      "execution_count": null,
      "metadata": {
        "_cell_guid": "a1d825a1-7769-f7ee-0935-f6b8aef77664"
      },
      "outputs": [],
      "source": [
        "#Names of all of the features in X_train.\n",
        "features = X_train.columns.values\n",
        "\n",
        "#Transform each feature in features so that it has a mean of 0 and standard deviation of 1; \n",
        "#this helps with training the neural network.\n",
        "for feature in features:\n",
        "    mean, std = df[feature].mean(), df[feature].std()\n",
        "    X_train.loc[:, feature] = (X_train[feature] - mean) / std\n",
        "    X_test.loc[:, feature] = (X_test[feature] - mean) / std"
      ]
    },
    {
      "cell_type": "markdown",
      "metadata": {
        "_cell_guid": "309dfd9b-b33a-60b3-c859-72eacc2bd323"
      },
      "source": [
        "## Train the Neural Net"
      ]
    },
    {
      "cell_type": "code",
      "execution_count": null,
      "metadata": {
        "_cell_guid": "b668be28-6280-3453-3d03-09daf5077040"
      },
      "outputs": [],
      "source": [
        "# Split the testing data into validation and testing sets\n",
        "split = int(len(y_test)/2)\n",
        "\n",
        "inputX = X_train.as_matrix()\n",
        "inputY = y_train.as_matrix()\n",
        "inputX_valid = X_test.as_matrix()[:split]\n",
        "inputY_valid = y_test.as_matrix()[:split]\n",
        "inputX_test = X_test.as_matrix()[split:]\n",
        "inputY_test = y_test.as_matrix()[split:]"
      ]
    },
    {
      "cell_type": "code",
      "execution_count": null,
      "metadata": {
        "_cell_guid": "fb75cc68-777c-4db9-6c92-80217d639d85"
      },
      "outputs": [],
      "source": [
        "# Number of input nodes.\n",
        "input_nodes = 37\n",
        "\n",
        "# Multiplier maintains a fixed ratio of nodes between each layer.\n",
        "mulitplier = 1.5 \n",
        "\n",
        "# Number of nodes in each hidden layer\n",
        "hidden_nodes1 = 18\n",
        "hidden_nodes2 = round(hidden_nodes1 * mulitplier)\n",
        "hidden_nodes3 = round(hidden_nodes2 * mulitplier)\n",
        "\n",
        "# Percent of nodes to keep during dropout.\n",
        "pkeep = tf.placeholder(tf.float32)"
      ]
    },
    {
      "cell_type": "code",
      "execution_count": null,
      "metadata": {
        "_cell_guid": "c7737bfc-b52a-d76c-b70a-2cfacfab7f1d"
      },
      "outputs": [],
      "source": [
        "# input\n",
        "x = tf.placeholder(tf.float32, [None, input_nodes])\n",
        "\n",
        "# layer 1\n",
        "W1 = tf.Variable(tf.truncated_normal([input_nodes, hidden_nodes1], stddev = 0.15))\n",
        "b1 = tf.Variable(tf.zeros([hidden_nodes1]))\n",
        "y1 = tf.nn.sigmoid(tf.matmul(x, W1) + b1)\n",
        "\n",
        "# layer 2\n",
        "W2 = tf.Variable(tf.truncated_normal([hidden_nodes1, hidden_nodes2], stddev = 0.15))\n",
        "b2 = tf.Variable(tf.zeros([hidden_nodes2]))\n",
        "y2 = tf.nn.sigmoid(tf.matmul(y1, W2) + b2)\n",
        "\n",
        "# layer 3\n",
        "W3 = tf.Variable(tf.truncated_normal([hidden_nodes2, hidden_nodes3], stddev = 0.15)) \n",
        "b3 = tf.Variable(tf.zeros([hidden_nodes3]))\n",
        "y3 = tf.nn.sigmoid(tf.matmul(y2, W3) + b3)\n",
        "y3 = tf.nn.dropout(y3, pkeep)\n",
        "\n",
        "# layer 4\n",
        "W4 = tf.Variable(tf.truncated_normal([hidden_nodes3, 2], stddev = 0.15)) \n",
        "b4 = tf.Variable(tf.zeros([2]))\n",
        "y4 = tf.nn.softmax(tf.matmul(y3, W4) + b4)\n",
        "\n",
        "# output\n",
        "y = y4\n",
        "y_ = tf.placeholder(tf.float32, [None, 2])"
      ]
    },
    {
      "cell_type": "code",
      "execution_count": null,
      "metadata": {
        "_cell_guid": "4d499bd8-9720-05ca-c82e-3d360d4c5bd6"
      },
      "outputs": [],
      "source": [
        "# Parameters\n",
        "training_epochs = 5 # should be 2000, it will timeout when uploading\n",
        "training_dropout = 0.9\n",
        "display_step = 1 # 10 \n",
        "n_samples = y_train.shape[0]\n",
        "batch_size = 2048\n",
        "learning_rate = 0.005"
      ]
    },
    {
      "cell_type": "code",
      "execution_count": null,
      "metadata": {
        "_cell_guid": "f6b8184c-ecfd-3be4-8555-c611ad8a420b"
      },
      "outputs": [],
      "source": [
        "# Cost function: Cross Entropy\n",
        "cost = -tf.reduce_sum(y_ * tf.log(y))\n",
        "\n",
        "# We will optimize our model via AdamOptimizer\n",
        "optimizer = tf.train.AdamOptimizer(learning_rate).minimize(cost)\n",
        "\n",
        "# Correct prediction if the most likely value (Fraud or Normal) from softmax equals the target value.\n",
        "correct_prediction = tf.equal(tf.argmax(y,1), tf.argmax(y_,1))\n",
        "accuracy = tf.reduce_mean(tf.cast(correct_prediction, tf.float32))"
      ]
    },
    {
      "cell_type": "code",
      "execution_count": null,
      "metadata": {
        "_cell_guid": "22020320-c7a4-07fc-1dde-cca2447bb30a"
      },
      "outputs": [],
      "source": [
        "# Note: some code will be commented out below that relate to saving/checkpointing your model."
      ]
    },
    {
      "cell_type": "code",
      "execution_count": null,
      "metadata": {
        "_cell_guid": "d92ba058-cde6-efc6-0d2d-c59438429bf7"
      },
      "outputs": [],
      "source": [
        "accuracy_summary = [] # Record accuracy values for plot\n",
        "cost_summary = [] # Record cost values for plot\n",
        "valid_accuracy_summary = [] \n",
        "valid_cost_summary = [] \n",
        "stop_early = 0 # To keep track of the number of epochs before early stopping\n",
        "\n",
        "# Save the best weights so that they can be used to make the final predictions\n",
        "#checkpoint = \"location_on_your_computer/best_model.ckpt\"\n",
        "saver = tf.train.Saver(max_to_keep=1)\n",
        "\n",
        "# Initialize variables and tensorflow session\n",
        "with tf.Session() as sess:\n",
        "    sess.run(tf.global_variables_initializer())\n",
        "    \n",
        "    for epoch in range(training_epochs): \n",
        "        for batch in range(int(n_samples/batch_size)):\n",
        "            batch_x = inputX[batch*batch_size : (1+batch)*batch_size]\n",
        "            batch_y = inputY[batch*batch_size : (1+batch)*batch_size]\n",
        "\n",
        "            sess.run([optimizer], feed_dict={x: batch_x, \n",
        "                                             y_: batch_y,\n",
        "                                             pkeep: training_dropout})\n",
        "\n",
        "        # Display logs after every 10 epochs\n",
        "        if (epoch) % display_step == 0:\n",
        "            train_accuracy, newCost = sess.run([accuracy, cost], feed_dict={x: inputX, \n",
        "                                                                            y_: inputY,\n",
        "                                                                            pkeep: training_dropout})\n",
        "\n",
        "            valid_accuracy, valid_newCost = sess.run([accuracy, cost], feed_dict={x: inputX_valid, \n",
        "                                                                                  y_: inputY_valid,\n",
        "                                                                                  pkeep: 1})\n",
        "\n",
        "            print (\"Epoch:\", epoch,\n",
        "                   \"Acc =\", \"{:.5f}\".format(train_accuracy), \n",
        "                   \"Cost =\", \"{:.5f}\".format(newCost),\n",
        "                   \"Valid_Acc =\", \"{:.5f}\".format(valid_accuracy), \n",
        "                   \"Valid_Cost = \", \"{:.5f}\".format(valid_newCost))\n",
        "            \n",
        "            # Save the weights if these conditions are met.\n",
        "            #if epoch > 0 and valid_accuracy > max(valid_accuracy_summary) and valid_accuracy > 0.999:\n",
        "            #    saver.save(sess, checkpoint)\n",
        "            \n",
        "            # Record the results of the model\n",
        "            accuracy_summary.append(train_accuracy)\n",
        "            cost_summary.append(newCost)\n",
        "            valid_accuracy_summary.append(valid_accuracy)\n",
        "            valid_cost_summary.append(valid_newCost)\n",
        "            \n",
        "            # If the model does not improve after 15 logs, stop the training.\n",
        "            if valid_accuracy < max(valid_accuracy_summary) and epoch > 100:\n",
        "                stop_early += 1\n",
        "                if stop_early == 15:\n",
        "                    break\n",
        "            else:\n",
        "                stop_early = 0\n",
        "            \n",
        "    print()\n",
        "    print(\"Optimization Finished!\")\n",
        "    print()   \n",
        "    \n",
        "#with tf.Session() as sess:\n",
        "    # Load the best weights and show its results\n",
        "    #saver.restore(sess, checkpoint)\n",
        "    #training_accuracy = sess.run(accuracy, feed_dict={x: inputX, y_: inputY, pkeep: training_dropout})\n",
        "    #validation_accuracy = sess.run(accuracy, feed_dict={x: inputX_valid, y_: inputY_valid, pkeep: 1})\n",
        "    \n",
        "    #print(\"Results using the best Valid_Acc:\")\n",
        "    #print()\n",
        "    #print(\"Training Accuracy =\", training_accuracy)\n",
        "    #print(\"Validation Accuracy =\", validation_accuracy)"
      ]
    },
    {
      "cell_type": "code",
      "execution_count": null,
      "metadata": {
        "_cell_guid": "e3cb895b-27d6-9765-60ae-46b4ff625394"
      },
      "outputs": [],
      "source": [
        "# Plot the accuracy and cost summaries \n",
        "f, (ax1, ax2) = plt.subplots(2, 1, sharex=True, figsize=(10,4))\n",
        "\n",
        "ax1.plot(accuracy_summary) # blue\n",
        "ax1.plot(valid_accuracy_summary) # green\n",
        "ax1.set_title('Accuracy')\n",
        "\n",
        "ax2.plot(cost_summary)\n",
        "ax2.plot(valid_cost_summary)\n",
        "ax2.set_title('Cost')\n",
        "\n",
        "plt.xlabel('Epochs (x10)')\n",
        "plt.show()"
      ]
    },
    {
      "cell_type": "code",
      "execution_count": null,
      "metadata": {
        "_cell_guid": "ab30eabb-51fb-8e97-281b-545bda37fad6"
      },
      "outputs": [],
      "source": [
        "# Find the predicted values, then use them to build a confusion matrix\n",
        "#predicted = tf.argmax(y, 1)\n",
        "#with tf.Session() as sess:  \n",
        "#    # Load the best weights\n",
        "#    saver.restore(sess, checkpoint)\n",
        "#    testing_predictions, testing_accuracy = sess.run([predicted, accuracy], \n",
        "#                                                     feed_dict={x: inputX_test, y_:inputY_test, pkeep: 1})\n",
        "#    \n",
        "#    print(\"F1-Score =\", f1_score(inputY_test[:,1], testing_predictions))\n",
        "#    print(\"Testing Accuracy =\", testing_accuracy)\n",
        "#    print()\n",
        "#    c = confusion_matrix(inputY_test[:,1], testing_predictions)\n",
        "#    show_confusion_matrix(c, ['Fraud', 'Normal'])"
      ]
    },
    {
      "cell_type": "markdown",
      "metadata": {
        "_cell_guid": "b180317a-a34b-6487-8edc-6d83f658205c"
      },
      "source": [
        "Although the neural network can detect most of the fraudulent transactions (82.93%), there are still some that got away. About 0.10% of normal transactions were classified as fraudulent, which can unfortunately add up very quickly given the large number of credit card transactions that occur each minute/hour/day. Nonetheless, this models performs reasonably well and I expect that if we had more data, and if the features were not pre-transformed, we could have created new features, and built a more useful neural network."
      ]
    },
    {
      "cell_type": "markdown",
      "metadata": {
        "_cell_guid": "20b9c812-9fe5-e413-bfd4-d8fe9895f715"
      },
      "source": [
        "## Visualizing the Data with t-SNE"
      ]
    },
    {
      "cell_type": "markdown",
      "metadata": {
        "_cell_guid": "5cd0d528-3688-8ffe-8969-53a30142bbb3"
      },
      "source": [
        "First we are going to use t-SNE with the original data, then with the data we used for training our neural network. I expect/hope that the second scatter plot will show a clearer contrast between the normal and the fraudulent transactions. If this is the case, its signals that the work done during the feature engineering stage of the analysis was beneficial to helping the neural network understand the data."
      ]
    },
    {
      "cell_type": "code",
      "execution_count": null,
      "metadata": {
        "_cell_guid": "67b1d765-6587-5dca-db19-1d68a8320351"
      },
      "outputs": [],
      "source": [
        "#reload the original dataset\n",
        "tsne_data = pd.read_csv(\"../input/creditcard.csv\")"
      ]
    },
    {
      "cell_type": "code",
      "execution_count": null,
      "metadata": {
        "_cell_guid": "71b60bf7-1220-3e20-9f54-ce622a77b8be"
      },
      "outputs": [],
      "source": [
        "#Set df2 equal to all of the fraulent and 10,000 normal transactions.\n",
        "df2 = tsne_data[tsne_data.Class == 1]\n",
        "df2 = pd.concat([df2, tsne_data[tsne_data.Class == 0].sample(n = 10000)], axis = 0)"
      ]
    },
    {
      "cell_type": "code",
      "execution_count": null,
      "metadata": {
        "_cell_guid": "1c4a15ad-3511-a2b6-be80-6d148eaf7f92"
      },
      "outputs": [],
      "source": [
        "#Scale features to improve the training ability of TSNE.\n",
        "standard_scaler = StandardScaler()\n",
        "df2_std = standard_scaler.fit_transform(df2)\n",
        "\n",
        "#Set y equal to the target values.\n",
        "y = df2.ix[:,-1].values"
      ]
    },
    {
      "cell_type": "code",
      "execution_count": null,
      "metadata": {
        "_cell_guid": "269f2340-8688-989d-146d-dbf9f4466d8b"
      },
      "outputs": [],
      "source": [
        "tsne = TSNE(n_components=2, random_state=0)\n",
        "x_test_2d = tsne.fit_transform(df2_std)"
      ]
    },
    {
      "cell_type": "code",
      "execution_count": null,
      "metadata": {
        "_cell_guid": "604568cd-a54b-03b5-c30c-551550cad415"
      },
      "outputs": [],
      "source": [
        "#Build the scatter plot with the two types of transactions.\n",
        "color_map = {0:'red', 1:'blue'}\n",
        "plt.figure()\n",
        "for idx, cl in enumerate(np.unique(y)):\n",
        "    plt.scatter(x = x_test_2d[y==cl,0], \n",
        "                y = x_test_2d[y==cl,1], \n",
        "                c = color_map[idx], \n",
        "                label = cl)\n",
        "plt.xlabel('X in t-SNE')\n",
        "plt.ylabel('Y in t-SNE')\n",
        "plt.legend(loc='upper left')\n",
        "plt.title('t-SNE visualization of test data')\n",
        "plt.show()"
      ]
    },
    {
      "cell_type": "markdown",
      "metadata": {
        "_cell_guid": "13314f49-90f0-6fe2-f79b-c568672703c0"
      },
      "source": [
        "The are two main groupings of fraudulent transactions, while the remaineder are mixed within the rest of the data.\n",
        "\n",
        "Note: I have only used 10,000 of the 284,315 normal transactions for this visualization. I would have liked to of used more, but my laptop crashes if many more than 10,000 transactions are included. With only 3.15% of the data being used, there should be some accuracy to this plot, but I am confident that the layout would look different if all of the transactions were included."
      ]
    },
    {
      "cell_type": "code",
      "execution_count": null,
      "metadata": {
        "_cell_guid": "205a0d7a-f504-3f30-714c-4a513eddd641"
      },
      "outputs": [],
      "source": [
        "#Set df_used to the fraudulent transactions' dataset.\n",
        "df_used = Fraud\n",
        "\n",
        "#Add 10,000 normal transactions to df_used.\n",
        "df_used = pd.concat([df_used, Normal.sample(n = 10000)], axis = 0)"
      ]
    },
    {
      "cell_type": "code",
      "execution_count": null,
      "metadata": {
        "_cell_guid": "2127b65f-00f6-0495-85b4-809431731455"
      },
      "outputs": [],
      "source": [
        "#Scale features to improve the training ability of TSNE.\n",
        "df_used_std = standard_scaler.fit_transform(df_used)\n",
        "\n",
        "#Set y_used equal to the target values.\n",
        "y_used = df_used.ix[:,-1].values"
      ]
    },
    {
      "cell_type": "code",
      "execution_count": null,
      "metadata": {
        "_cell_guid": "bf9fd0d1-ba26-3be4-ec8e-208df67a3057"
      },
      "outputs": [],
      "source": [
        "x_test_2d_used = tsne.fit_transform(df_used_std)"
      ]
    },
    {
      "cell_type": "code",
      "execution_count": null,
      "metadata": {
        "_cell_guid": "6ad3b702-095b-9bb4-5211-b9aa3e42c0b3"
      },
      "outputs": [],
      "source": [
        "color_map = {1:'red', 0:'blue'}\n",
        "plt.figure()\n",
        "for idx, cl in enumerate(np.unique(y_used)):\n",
        "    plt.scatter(x=x_test_2d_used[y_used==cl,0], \n",
        "                y=x_test_2d_used[y_used==cl,1], \n",
        "                c=color_map[idx], \n",
        "                label=cl)\n",
        "plt.xlabel('X in t-SNE')\n",
        "plt.ylabel('Y in t-SNE')\n",
        "plt.legend(loc='upper left')\n",
        "plt.title('t-SNE visualization of test data')\n",
        "plt.show()"
      ]
    },
    {
      "cell_type": "markdown",
      "metadata": {
        "_cell_guid": "09d69a9a-e6ec-f365-0177-bce5b3c0711a"
      },
      "source": [
        "It appears that the work we did in the feature engineering stage of this analysis has been for the best. We can see that the fraudulent transactions are all part of a group of points. This suggests that it is easier for a model to identify the fraudulent transactions in the testing data, and to learn about the traits of the fraudulent transactions in the training data."
      ]
    }
  ],
  "metadata": {
    "_change_revision": 0,
    "_is_fork": false,
    "kernelspec": {
      "display_name": "Python 3",
      "language": "python",
      "name": "python3"
    },
    "language_info": {
      "codemirror_mode": {
        "name": "ipython",
        "version": 3
      },
      "file_extension": ".py",
      "mimetype": "text/x-python",
      "name": "python",
      "nbconvert_exporter": "python",
      "pygments_lexer": "ipython3",
      "version": "3.6.0"
    }
  },
  "nbformat": 4,
  "nbformat_minor": 0
}