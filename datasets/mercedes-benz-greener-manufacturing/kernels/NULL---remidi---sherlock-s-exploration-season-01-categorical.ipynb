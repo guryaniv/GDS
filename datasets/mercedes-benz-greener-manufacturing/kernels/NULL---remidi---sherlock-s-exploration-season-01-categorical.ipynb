{
  "cells": [
    {
      "cell_type": "markdown",
      "metadata": {
        "_cell_guid": "bf7ba31e-087d-f11b-2a2a-afae30bc3a44"
      },
      "source": [
        "It is my first ever kernel, and in this notebook I tried to explore the categorical variables.\n",
        "\n",
        "###### Objective:\n",
        "+ Sherlocks interpretation of the data by plotting them. In essence, I tried to understand the meaning of column by plotting them. Moreover, I have created stacked barplot function, which is reusable, using seaborn and matplotlib.\n",
        "\n",
        "+ Most of the exploration was covered by @SRK but this could further add to his kernel.\n",
        "\n",
        "\n",
        "*Skip to X3 and X4 for the essence of the kernel.*"
      ]
    },
    {
      "cell_type": "code",
      "execution_count": null,
      "metadata": {
        "_cell_guid": "02113e3e-1604-6e56-2e89-c62c1b79601f"
      },
      "outputs": [],
      "source": [
        "# This Python 3 environment comes with many helpful analytics libraries installed\n",
        "# It is defined by the kaggle/python docker image: https://github.com/kaggle/docker-python\n",
        "# For example, here's several helpful packages to load in \n",
        "\n",
        "import numpy as np # linear algebra\n",
        "import pandas as pd # data processing, CSV file I/O (e.g. pd.read_csv)\n",
        "\n",
        "\n",
        "import seaborn as sns # plotting the charts\n",
        "import matplotlib.pyplot as plt \n",
        "\n",
        "%matplotlib inline\n",
        "\n",
        "color = sns.color_palette()\n",
        "plt.style.use('seaborn-notebook')\n",
        "\n",
        "pd.options.display.max_columns = 1000  # displaying all the columns on the screen\n",
        "pd.options.mode.chained_assignment = None\n",
        "\n",
        "from subprocess import check_output\n",
        "print(check_output([\"ls\", \"../input\"]).decode(\"utf8\"))"
      ]
    },
    {
      "cell_type": "code",
      "execution_count": null,
      "metadata": {
        "_cell_guid": "bd5d34c3-f544-9817-fd4d-77fa260dcdf7"
      },
      "outputs": [],
      "source": [
        "train_df = pd.read_csv(\"../input/train.csv\")\n",
        "test_df = pd.read_csv(\"../input/test.csv\")\n",
        "\n",
        "print(\"train data shape {}\".format(train_df.shape))\n",
        "print(\"test data shape {}\".format(test_df.shape))"
      ]
    },
    {
      "cell_type": "code",
      "execution_count": null,
      "metadata": {
        "_cell_guid": "9af643ee-d49f-8bea-9c4f-97a272aa00a5"
      },
      "outputs": [],
      "source": [
        "train_df.head()"
      ]
    },
    {
      "cell_type": "markdown",
      "metadata": {
        "_cell_guid": "d7a14ac9-4a24-32b7-de53-3ad4183b738d"
      },
      "source": [
        "###### Observations :\n",
        "  + Both the train and test have exactly same number of records , why? \n",
        "  + **Hypothesis**  :: Same car models but with different settings - since in the description of the competition, it was mentioned that there are different permutations of Mercedes-Benz car features. So, that could be possible.        "
      ]
    },
    {
      "cell_type": "code",
      "execution_count": null,
      "metadata": {
        "_cell_guid": "2c4638c3-4707-a61a-124e-21ad98e8fd02"
      },
      "outputs": [],
      "source": [
        "ids = pd.DataFrame({\"train_ids\": train_df.ID, \"test_ids\": test_df.ID})\n",
        "ids.head(10)"
      ]
    },
    {
      "cell_type": "markdown",
      "metadata": {
        "_cell_guid": "aa620661-5340-b6ca-b68f-35be61b6935f"
      },
      "source": [
        "It looks like there were 8414 permutations of a single model or multiple models and they were split randomly into test and train dataset. Might lead to some interesting leaks if explored more."
      ]
    },
    {
      "cell_type": "code",
      "execution_count": null,
      "metadata": {
        "_cell_guid": "b805f04d-5302-bc21-4cdd-fffbc3db5895"
      },
      "outputs": [],
      "source": [
        "# describing the 'y' variable\n",
        "train_df[\"y\"].describe()"
      ]
    },
    {
      "cell_type": "markdown",
      "metadata": {
        "_cell_guid": "2fa7296e-6ca4-2774-a937-a10fd7f8abae"
      },
      "source": [
        "## Categorical Exploration"
      ]
    },
    {
      "cell_type": "code",
      "execution_count": null,
      "metadata": {
        "_cell_guid": "b3636680-f73b-5f31-2446-22d54625c62f"
      },
      "outputs": [],
      "source": [
        "# created a reusable function for plotting stacked bar charts\n",
        "\n",
        "def plot_stack(col, train_color=\"green\", test_color=\"#0000A3\", sortby=\"total_val\", ascending=False, title=\"categorical X\"):\n",
        "    test_x = dict(test_df[col].value_counts())\n",
        "    train_x = dict(train_df[col].value_counts())\n",
        "    test_xd = pd.DataFrame({\"cols\": list(test_x.keys()), \"v_test\": list(test_x.values())})\n",
        "    train_xd = pd.DataFrame({\"cols\": list(train_x.keys()), \"v_train\": list(train_x.values())})\n",
        "\n",
        "    \n",
        "    total_xd = pd.merge(test_xd, train_xd, how=\"outer\", on=\"cols\")\n",
        "    total_xd.fillna(0, inplace=True)\n",
        "    total_xd[\"total_val\"] = total_xd[\"v_test\"] + total_xd[\"v_train\"]\n",
        "    \n",
        "    total_xd.sort_values(by=sortby, inplace=True, ascending=ascending)\n",
        "    \n",
        "    # plotting the graph\n",
        "    sns.set_style(\"darkgrid\")\n",
        "    sns.set_context({\"figure.figsize\": (20, 9)})\n",
        "    \n",
        "    sns.barplot(x = total_xd.cols, y = total_xd.total_val, color = train_color)\n",
        "    bottom_plot = sns.barplot(x = total_xd.cols, y = total_xd.v_train, color = test_color)\n",
        "    \n",
        "    \n",
        "    # adding legends\n",
        "    topbar = plt.Rectangle((0,0),1,1,fc=train_color, edgecolor = 'none')\n",
        "    bottombar = plt.Rectangle((0,0),1,1,fc=test_color,  edgecolor = 'none')\n",
        "    l = plt.legend([bottombar, topbar], ['train', 'test'], loc=1, ncol = 2, prop={'size':16})\n",
        "    l.draw_frame(False)\n",
        "    \n",
        "    sns.despine(left=True)\n",
        "    bottom_plot.set_ylabel(\"frequency\")\n",
        "    bottom_plot.set_xlabel(\"category\")\n",
        "    bottom_plot.set_title(title, fontsize=15)\n",
        "    \n",
        "    for item in ([bottom_plot.xaxis.label, bottom_plot.yaxis.label] +\n",
        "             bottom_plot.get_xticklabels() + bottom_plot.get_yticklabels()):\n",
        "        item.set_fontsize(16)  \n",
        "        \n",
        "    plt.show()    \n",
        "    print(\"  # of categories : {}\".format(len(total_xd)))"
      ]
    },
    {
      "cell_type": "code",
      "execution_count": null,
      "metadata": {
        "_cell_guid": "82c4737e-0ebb-2d18-f695-458461cab07b"
      },
      "outputs": [],
      "source": [
        "# exploring variable X0 \n",
        "plot_stack(\"X0\", train_color=\"green\", test_color=\"#0000A3\", \n",
        "           title=\"variable 'X0' chart\")"
      ]
    },
    {
      "cell_type": "markdown",
      "metadata": {
        "_cell_guid": "165ebbed-3b80-93d7-a1d8-b05618bbaf74"
      },
      "source": [
        "##### Observation:\n",
        "+ test and train data are equally distributed\n",
        "+ approching to the end, frequency falls to almost 1, hence they could be removed to decrease the # of categories during one hot encoding, as they are present in either test or in train but not in both\n",
        "+ 53 categories **_do not signify_** anything as such"
      ]
    },
    {
      "cell_type": "code",
      "execution_count": null,
      "metadata": {
        "_cell_guid": "a484004a-ff86-4944-d455-f527ad290886"
      },
      "outputs": [],
      "source": [
        "# exploring variable X1\n",
        "plot_stack(\"X1\", train_color=\"red\", test_color=\"#1220A6\", \n",
        "           sortby=\"total_val\", \n",
        "           ascending=False, \n",
        "           title=\"variable 'X1' chart\")"
      ]
    },
    {
      "cell_type": "markdown",
      "metadata": {
        "_cell_guid": "0e2d43e3-5e7b-7830-26b0-0e671cadb18e"
      },
      "source": [
        "###### observations:\n",
        "+ seems like a simple normal distribution, no inference."
      ]
    },
    {
      "cell_type": "code",
      "execution_count": null,
      "metadata": {
        "_cell_guid": "3020f2ba-7a6a-795c-171f-7d011153bd8b"
      },
      "outputs": [],
      "source": [
        "# exploring variable X2\n",
        "plot_stack(\"X2\", train_color=\"yellow\", test_color=\"purple\", \n",
        "           title=\"variable 'X2' chart\")"
      ]
    },
    {
      "cell_type": "markdown",
      "metadata": {
        "_cell_guid": "68d34ff6-4c39-8839-4a72-88617cc508c5"
      },
      "source": [
        "###### Observations:\n",
        "+ huge difference in the highest and the lowest peak, \n",
        "+ we can just eliminate lot of categories same as in X0"
      ]
    },
    {
      "cell_type": "code",
      "execution_count": null,
      "metadata": {
        "_cell_guid": "87560aa6-8f9d-74de-2c75-0632a76c8994"
      },
      "outputs": [],
      "source": [
        "# exploring variable X3\n",
        "plot_stack(\"X3\", train_color=\"aqua\", test_color=\"olive\", \n",
        "           sortby=\"cols\", \n",
        "           title=\"variable 'X3' chart\")"
      ]
    },
    {
      "cell_type": "markdown",
      "metadata": {
        "_cell_guid": "1df92a53-6e50-1f1a-28b2-416c6c6b7472"
      },
      "source": [
        "###### Observations:\n",
        "+ 7, hmmm a peculiar number, on my research, I have learned that mercedes-benz has a [7 gear automatic transmission](https://en.wikipedia.org/wiki/Mercedes-Benz_7G-Tronic_transmission), I feel that this variable represents that.\n",
        "+ or else it could just be as simple as day of week :)"
      ]
    },
    {
      "cell_type": "code",
      "execution_count": null,
      "metadata": {
        "_cell_guid": "0e5a5b3d-81ea-668f-b486-f1077308dcf6"
      },
      "outputs": [],
      "source": [
        "# exploring variable X4\n",
        "plot_stack(\"X4\", train_color=\"white\", test_color=\"black\", \n",
        "           sortby=\"cols\", \n",
        "           ascending=False, \n",
        "           title=\"variable 'X4' chart\")"
      ]
    },
    {
      "cell_type": "markdown",
      "metadata": {
        "_cell_guid": "ebe17f8e-9468-7d32-a3e3-2f426ca0310a"
      },
      "source": [
        "###### Observations:\n",
        "+ only d category has significant frequency\n",
        "+ so, based on the above column X4, automatic transmission has three modes n (neutral), p(parking), r(reverse), d(driving)  {[automatic transmission](https://en.wikipedia.org/wiki/Automatic_transmission)}. Since most of the tests are conducting in driving mode, d is highest compared to other categories"
      ]
    },
    {
      "cell_type": "code",
      "execution_count": null,
      "metadata": {
        "_cell_guid": "e6bbd6f8-aa48-12f5-2a86-6cdedfbe0694"
      },
      "outputs": [],
      "source": [
        "# exploring variable X5\n",
        "plot_stack(\"X5\", train_color=\"lightgreen\", test_color=\"blue\", \n",
        "           sortby=\"cols\", \n",
        "           ascending=True, \n",
        "           title=\"variable 'X5' chart\")"
      ]
    },
    {
      "cell_type": "code",
      "execution_count": null,
      "metadata": {
        "_cell_guid": "aec4beed-3d8b-7a9d-3f53-e88f613e068f"
      },
      "outputs": [],
      "source": [
        "# exploring variable X6\n",
        "plot_stack(\"X6\", train_color=\"orange\", test_color=\"darkblue\", \n",
        "           sortby=\"cols\", \n",
        "           ascending=True, \n",
        "           title=\"variable 'X6' chart\")"
      ]
    },
    {
      "cell_type": "markdown",
      "metadata": {
        "_cell_guid": "48950946-f4ff-1393-623d-709ccab519ce"
      },
      "source": [
        "###### Observations:\n",
        "+ naive deductions suggest it is month of the year, if knows about cars please post in the comment section|."
      ]
    },
    {
      "cell_type": "code",
      "execution_count": null,
      "metadata": {
        "_cell_guid": "65932c05-5f07-a4ef-9dd6-fbb7b0a41b75"
      },
      "outputs": [],
      "source": [
        "# exploring variable X8, there exists no X7 just incase you missed\n",
        "plot_stack(\"X8\", train_color=\"hotpink\", test_color=\"magenta\", \n",
        "           sortby=\"cols\", \n",
        "           ascending=True, \n",
        "           title=\"variable 'X8' chart\")"
      ]
    },
    {
      "cell_type": "markdown",
      "metadata": {
        "_cell_guid": "00017e08-0c76-3226-581b-fa120cdf5159"
      },
      "source": [
        "## Conclusion:\n",
        "\n",
        " + I have tried to find the real world meaning of the data based on the distribution and # of categories but most of them were just normal distributions. \n",
        "\n",
        "**Coming up ......**\n",
        "\n",
        " +  [numerical variables {X9 - X385} - interaction in between the variables][1]\n",
        "\n",
        " + Performance of the sklearn algorithms and neural networks on the\n",
        "   dataset\n",
        "\n",
        "\n",
        "                                                            to be continued......\n",
        "\n",
        "\n",
        "  [1]: https://www.kaggle.com/remidi/sherlocks-exploration-season-02-e01-numerical"
      ]
    },
    {
      "cell_type": "markdown",
      "metadata": {
        "_cell_guid": "043afef0-316f-5854-b352-c6b7f4023054"
      },
      "source": [
        "Thank you, please upvote if you like the kernel.\n",
        "\n",
        "\n",
        "P.S:  Since this was my first ever kernel I might have missed something and made mistake. Please do provide your feedback, criticism, corrections or appreciation in the comments. "
      ]
    }
  ],
  "metadata": {
    "_change_revision": 0,
    "_is_fork": false,
    "kernelspec": {
      "display_name": "Python 3",
      "language": "python",
      "name": "python3"
    },
    "language_info": {
      "codemirror_mode": {
        "name": "ipython",
        "version": 3
      },
      "file_extension": ".py",
      "mimetype": "text/x-python",
      "name": "python",
      "nbconvert_exporter": "python",
      "pygments_lexer": "ipython3",
      "version": "3.6.0"
    }
  },
  "nbformat": 4,
  "nbformat_minor": 0
}