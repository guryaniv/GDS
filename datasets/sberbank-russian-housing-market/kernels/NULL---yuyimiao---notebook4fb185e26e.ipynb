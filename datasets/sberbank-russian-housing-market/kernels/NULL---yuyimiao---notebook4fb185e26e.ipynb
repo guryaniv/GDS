{
  "cells": [
    {
      "cell_type": "code",
      "execution_count": null,
      "metadata": {
        "_cell_guid": "3d6228e8-86c4-57b6-b0e5-5ef75af6f99d"
      },
      "outputs": [],
      "source": [
        "# This Python 3 environment comes with many helpful analytics libraries installed\n",
        "# It is defined by the kaggle/python docker image: https://github.com/kaggle/docker-python\n",
        "# For example, here's several helpful packages to load in \n",
        "\n",
        "import numpy as np # linear algebra\n",
        "import pandas as pd # data processing, CSV file I/O (e.g. pd.read_csv)\n",
        "\n",
        "# Input data files are available in the \"../input/\" directory.\n",
        "# For example, running this (by clicking run or pressing Shift+Enter) will list the files in the input directory\n",
        "\n",
        "from subprocess import check_output\n",
        "print(check_output([\"ls\", \"../input\"]).decode(\"utf8\"))\n",
        "\n",
        "# Any results you write to the current directory are saved as output."
      ]
    },
    {
      "cell_type": "code",
      "execution_count": null,
      "metadata": {
        "_cell_guid": "d006275b-9ea7-27e6-1bff-871795632d8b"
      },
      "outputs": [],
      "source": [
        "import pandas as pd\n",
        "import matplotlib.pyplot as plt\n",
        "import seaborn as sns\n",
        "import numpy as np\n",
        "from scipy.stats import norm\n",
        "from sklearn import model_selection, preprocessing\n",
        "from scipy import stats\n",
        "import warnings\n",
        "warnings.filterwarnings('ignore')\n",
        "color = sns.color_palette()\n",
        "%matplotlib inline"
      ]
    },
    {
      "cell_type": "code",
      "execution_count": null,
      "metadata": {
        "_cell_guid": "8f238f20-9746-b397-45a8-701ab4a6b0c7"
      },
      "outputs": [],
      "source": [
        "df_train = pd.read_csv('../input/train.csv')\n",
        "df_test = pd.read_csv('../input/test.csv')\n",
        "df_macro = pd.read_csv('../input/macro.csv')\n",
        "id_test = df_test.id"
      ]
    },
    {
      "cell_type": "code",
      "execution_count": null,
      "metadata": {
        "_cell_guid": "b56ac36a-448b-0d27-fea9-157c0f527050"
      },
      "outputs": [],
      "source": [
        "df_train.columns"
      ]
    },
    {
      "cell_type": "code",
      "execution_count": null,
      "metadata": {
        "_cell_guid": "644a6c45-6c37-cdaf-304a-cf6c9e0d9091"
      },
      "outputs": [],
      "source": [
        "df_train.shape"
      ]
    },
    {
      "cell_type": "code",
      "execution_count": null,
      "metadata": {
        "_cell_guid": "3ada45fa-9803-36f0-8781-2ed5002f26e7"
      },
      "outputs": [],
      "source": [
        "df_train.head()"
      ]
    },
    {
      "cell_type": "code",
      "execution_count": null,
      "metadata": {
        "_cell_guid": "1e3cb51f-a6a2-8145-c9df-2d1d0c1a385b"
      },
      "outputs": [],
      "source": [
        "plt.figure(figsize=(8,6))\n",
        "plt.scatter(range(df_train.shape[0]), np.sort(df_train.price_doc.values))\n",
        "plt.xlabel('index', fontsize=12)\n",
        "plt.ylabel('price', fontsize=12)\n",
        "plt.show()"
      ]
    },
    {
      "cell_type": "code",
      "execution_count": null,
      "metadata": {
        "_cell_guid": "2eb115a2-3f1a-1963-af48-b6481a7467de"
      },
      "outputs": [],
      "source": [
        "plt.figure(figsize=(12,8))\n",
        "sns.distplot(df_train.price_doc.values, bins=50, kde=True)\n",
        "plt.xlabel('price', fontsize=12)\n",
        "plt.show()"
      ]
    },
    {
      "cell_type": "code",
      "execution_count": null,
      "metadata": {
        "_cell_guid": "4e028503-7377-01ed-4e21-632f6033173f"
      },
      "outputs": [],
      "source": [
        "plt.figure(figsize=(12,8))\n",
        "sns.distplot(np.log1p(df_train.price_doc.values), bins=50, kde=True)\n",
        "plt.xlabel('price', fontsize=12)\n",
        "plt.show()"
      ]
    },
    {
      "cell_type": "code",
      "execution_count": null,
      "metadata": {
        "_cell_guid": "c13bd87b-47c0-4f2e-d71f-abdc68e1e99d"
      },
      "outputs": [],
      "source": [
        "Q1 = np.percentile(np.log1p(df_train.price_doc.values), 25)\n",
        "Q2 = np.percentile(np.log1p(df_train.price_doc.values), 50)\n",
        "Q3 = np.percentile(np.log1p(df_train.price_doc.values), 75)\n",
        "IQR=Q3-Q1\n",
        "infbdd=Q1-1.5 * IQR \n",
        "supbdd=Q3+1.5 * IQR \n",
        "print(infbdd)\n",
        "print(supbdd)"
      ]
    },
    {
      "cell_type": "code",
      "execution_count": null,
      "metadata": {
        "_cell_guid": "17f6f278-720a-d385-5e87-881b34737f05"
      },
      "outputs": [],
      "source": [
        "df_train = df_train.drop((df_train.loc[np.log1p(df_train['price_doc']) > supbdd]).index).reindex()"
      ]
    },
    {
      "cell_type": "code",
      "execution_count": null,
      "metadata": {
        "_cell_guid": "96355f95-930f-d72f-90e6-20396af6729c"
      },
      "outputs": [],
      "source": [
        "df_train = df_train.drop((df_train.loc[np.log1p(df_train['price_doc']) < 13.5]).index).reindex()"
      ]
    },
    {
      "cell_type": "code",
      "execution_count": null,
      "metadata": {
        "_cell_guid": "8b2b5557-e107-430b-3c0f-1bb2a725a167"
      },
      "outputs": [],
      "source": [
        "df_train.shape"
      ]
    },
    {
      "cell_type": "code",
      "execution_count": null,
      "metadata": {
        "_cell_guid": "d6b6a432-4502-8da4-7c55-0ab946c77621"
      },
      "outputs": [],
      "source": [
        "plt.figure(figsize=(8,6))\n",
        "plt.scatter(range(df_train.shape[0]), np.sort(df_train.price_doc.values))\n",
        "plt.xlabel('index', fontsize=12)\n",
        "plt.ylabel('price', fontsize=12)\n",
        "plt.show()"
      ]
    },
    {
      "cell_type": "code",
      "execution_count": null,
      "metadata": {
        "_cell_guid": "bc9fe620-3c81-835f-3e4b-dfc5bd77d9c3"
      },
      "outputs": [],
      "source": [
        "#missing data\n",
        "total = df_train.isnull().sum().sort_values(ascending=False)\n",
        "percent = (df_train.isnull().sum()/df_train.isnull().count()).sort_values(ascending=False)\n",
        "missing_data = pd.concat([total, percent], axis=1, keys=['Total', 'Percent'])\n",
        "missing_data.head(40)"
      ]
    },
    {
      "cell_type": "code",
      "execution_count": null,
      "metadata": {
        "_cell_guid": "09079341-26e7-d244-8b6a-465df87cda7e"
      },
      "outputs": [],
      "source": [
        "df_train.ix['full_sq', 'life_sq']"
      ]
    },
    {
      "cell_type": "code",
      "execution_count": null,
      "metadata": {
        "_cell_guid": "72e02e43-dfde-d34b-7a5e-22b8864b662b"
      },
      "outputs": [],
      "source": [
        "df_train.corr().ix['floor', 'max_floor']"
      ]
    },
    {
      "cell_type": "code",
      "execution_count": null,
      "metadata": {
        "_cell_guid": "bbb598f9-0ea8-fe98-e95f-bb2572a20341"
      },
      "outputs": [],
      "source": [
        "df_train = df_train.drop((missing_data[missing_data['Percent'] > 0.14]).index,1)"
      ]
    },
    {
      "cell_type": "code",
      "execution_count": null,
      "metadata": {
        "_cell_guid": "5907d233-d604-c845-c480-dce4f331511e"
      },
      "outputs": [],
      "source": [
        "df_train.shape"
      ]
    },
    {
      "cell_type": "code",
      "execution_count": null,
      "metadata": {
        "_cell_guid": "e3a9e4cd-5145-f8ef-7cf4-011b2a7e7433"
      },
      "outputs": [],
      "source": [
        "df_train.head()"
      ]
    },
    {
      "cell_type": "code",
      "execution_count": null,
      "metadata": {
        "_cell_guid": "8915994e-14f6-a793-01de-f330e72e74d8"
      },
      "outputs": [],
      "source": [
        "df_train['yearmonth'] = df_train['timestamp'].apply(lambda x: x[:4]+x[5:7])\n",
        "df_grouped = df_train.groupby('yearmonth')['price_doc'].aggregate(np.median).reset_index()"
      ]
    },
    {
      "cell_type": "code",
      "execution_count": null,
      "metadata": {
        "_cell_guid": "021f4389-003d-8ede-fa78-365d88f9b418"
      },
      "outputs": [],
      "source": [
        "plt.figure(figsize=(12,8))\n",
        "sns.barplot(df_grouped.yearmonth.values, df_grouped.price_doc.values, alpha=0.8, color=color[2])\n",
        "plt.ylabel('Median Price', fontsize=12)\n",
        "plt.xlabel('Year Month', fontsize=12)\n",
        "plt.xticks(rotation='vertical')\n",
        "plt.show()"
      ]
    },
    {
      "cell_type": "code",
      "execution_count": null,
      "metadata": {
        "_cell_guid": "f95372fa-2e82-49e8-e98d-669a07784d67"
      },
      "outputs": [],
      "source": [
        "df_train.shape"
      ]
    },
    {
      "cell_type": "code",
      "execution_count": null,
      "metadata": {
        "_cell_guid": "e0b02637-f81d-0f0b-9b48-6dceecf84114"
      },
      "outputs": [],
      "source": [
        "bad_index = df_test[df_test.floor==0].index"
      ]
    },
    {
      "cell_type": "code",
      "execution_count": null,
      "metadata": {
        "_cell_guid": "2ee3d454-a066-f16a-8aea-6ad202879658"
      },
      "outputs": [],
      "source": [
        "bad_index"
      ]
    },
    {
      "cell_type": "code",
      "execution_count": null,
      "metadata": {
        "_cell_guid": "270fd90e-379f-ae1d-f9ab-13141aa9326b"
      },
      "outputs": [],
      "source": [
        "bad_index = df_train[df_train.floor==0].index\n"
      ]
    },
    {
      "cell_type": "code",
      "execution_count": null,
      "metadata": {
        "_cell_guid": "94af3c91-58db-d9ec-750a-ec748d886cf3"
      },
      "outputs": [],
      "source": [
        "bad_index"
      ]
    },
    {
      "cell_type": "code",
      "execution_count": null,
      "metadata": {
        "_cell_guid": "5e6d5fe4-752a-9710-0a59-b4e33bf7d88a"
      },
      "outputs": [],
      "source": [
        "df_train = df_train.drop(bad_index).reindex()"
      ]
    },
    {
      "cell_type": "code",
      "execution_count": null,
      "metadata": {
        "_cell_guid": "88acebac-965a-a5af-7a28-54161fa89f74"
      },
      "outputs": [],
      "source": [
        "df_train.shape"
      ]
    },
    {
      "cell_type": "code",
      "execution_count": null,
      "metadata": {
        "_cell_guid": "74fb6bc0-e4b4-52b2-ede2-86671d30faaa"
      },
      "outputs": [],
      "source": [
        "total = df_train.isnull().sum().sort_values(ascending=False)\n",
        "percent = (df_train.isnull().sum()/df_train.isnull().count()).sort_values(ascending=False)\n",
        "missing_data = pd.concat([total, percent], axis=1, keys=['Total', 'Percent'])\n",
        "missing_data.head(20)"
      ]
    },
    {
      "cell_type": "code",
      "execution_count": null,
      "metadata": {
        "_cell_guid": "08668844-ac5f-720c-8729-c1ea65107b79"
      },
      "outputs": [],
      "source": [
        "df_train.floor.describe(percentiles= [0.9999])"
      ]
    },
    {
      "cell_type": "code",
      "execution_count": null,
      "metadata": {
        "_cell_guid": "04eb7b5e-39bc-2b47-839c-91709d91ad42"
      },
      "outputs": [],
      "source": [
        "bad_index = df_test[df_test.floor > 41].index\n",
        "bad_index"
      ]
    },
    {
      "cell_type": "code",
      "execution_count": null,
      "metadata": {
        "_cell_guid": "25193dda-bf9f-b4e2-2afa-48b7faa07a67"
      },
      "outputs": [],
      "source": [
        "bad_index = df_train[df_train.floor > 41].index\n",
        "bad_index"
      ]
    },
    {
      "cell_type": "code",
      "execution_count": null,
      "metadata": {
        "_cell_guid": "d52251fc-860c-f41d-5be1-cb0f579e9d62"
      },
      "outputs": [],
      "source": [
        "df_train = df_train.drop(bad_index).reindex()\n",
        "df_train.shape"
      ]
    },
    {
      "cell_type": "code",
      "execution_count": null,
      "metadata": {
        "_cell_guid": "249c2319-c0f5-11e7-bb3b-bb147b494c63"
      },
      "outputs": [],
      "source": [
        "df_train.corr().ix['cafe_sum_2000_min_price_avg', 'cafe_count_2000_price_500']"
      ]
    },
    {
      "cell_type": "code",
      "execution_count": null,
      "metadata": {
        "_cell_guid": "a78f0ada-5693-1664-50f7-3386d386bc37"
      },
      "outputs": [],
      "source": [
        "df_train = df_train.drop((df_train.loc[np.log1p(df_train['metro_km_walk']).isnull()]).index).reindex()\n",
        "df_train.shape\n"
      ]
    },
    {
      "cell_type": "code",
      "execution_count": null,
      "metadata": {
        "_cell_guid": "7a8c6459-6969-d4c7-1bd0-579712fad057"
      },
      "outputs": [],
      "source": [
        "total = df_train.isnull().sum().sort_values(ascending=False)\n",
        "percent = (df_train.isnull().sum()/df_train.isnull().count()).sort_values(ascending=False)\n",
        "missing_data = pd.concat([total, percent], axis=1, keys=['Total', 'Percent'])\n",
        "missing_data.head(11)"
      ]
    },
    {
      "cell_type": "code",
      "execution_count": null,
      "metadata": {
        "_cell_guid": "ef6a5602-9583-709c-bc77-85459309b472"
      },
      "outputs": [],
      "source": ""
    },
    {
      "cell_type": "code",
      "execution_count": null,
      "metadata": {
        "_cell_guid": "930162d8-4fba-f8b6-e941-9b1f7bc49f90"
      },
      "outputs": [],
      "source": ""
    }
  ],
  "metadata": {
    "_change_revision": 0,
    "_is_fork": false,
    "kernelspec": {
      "display_name": "Python 3",
      "language": "python",
      "name": "python3"
    },
    "language_info": {
      "codemirror_mode": {
        "name": "ipython",
        "version": 3
      },
      "file_extension": ".py",
      "mimetype": "text/x-python",
      "name": "python",
      "nbconvert_exporter": "python",
      "pygments_lexer": "ipython3",
      "version": "3.6.0"
    }
  },
  "nbformat": 4,
  "nbformat_minor": 0
}