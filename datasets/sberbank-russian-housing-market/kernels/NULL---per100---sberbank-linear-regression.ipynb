{
  "cells": [
    {
      "cell_type": "markdown",
      "metadata": {
        "_cell_guid": "8dfa5de7-7906-d7a5-30bd-a8d7b8bb4072"
      },
      "source": [
        "## Why linear regression?\n",
        "After trying out the ideas in this Notebook I already know that a linear regression model will not lead to a top score in the competion. The reason I wanted to try it out is that it's a model that is reasonably simple to understand and get an intuitive feel for. I can more or less code the algorithm myself and this brings the benefit that it's a lot easier to understand what is going on and make the right choices when trying to improve the model by cleaning the data, trying out different parameters, et c.\n",
        "\n",
        "Just applying Random Forest or Gradient Boosting without knowing how they work or what each parameter of the model does feels kind of scary. It might be reasonably easy to get a good \"score\" but how can I tell if I reached the right conclusions, how well the model would transfer to a sligthly different scenario or how changes in the raw data would affect the model? I would love to learn more about these models as well but as I've recently gotten started with this I am taking one step at a time.\n",
        "\n",
        "I've tried to include all relevant steps of my analysis but have omitted some that would result in a long output. Ok, let's get started with some imports and loading the data."
      ]
    },
    {
      "cell_type": "code",
      "execution_count": null,
      "metadata": {
        "_cell_guid": "b6ed0124-c246-2dea-82d5-461669be3447"
      },
      "outputs": [],
      "source": [
        "# This Python 3 environment comes with many helpful analytics libraries installed\n",
        "# It is defined by the kaggle/python docker image: https://github.com/kaggle/docker-python\n",
        "# For example, here's several helpful packages to load in \n",
        "\n",
        "import numpy as np # linear algebra\n",
        "import pandas as pd # data processing, CSV file I/O (e.g. pd.read_csv)\n",
        "import matplotlib.pyplot as plt\n",
        "%matplotlib inline\n",
        "from sklearn.linear_model import Ridge, RidgeCV, Lasso, ElasticNetCV\n",
        "from sklearn.model_selection import train_test_split\n",
        "from sklearn.metrics import mean_squared_error, make_scorer\n",
        "\n",
        "# Input data files are available in the \"../input/\" directory.\n",
        "# For example, running this (by clicking run or pressing Shift+Enter) will list the files in the input directory\n",
        "\n",
        "from subprocess import check_output\n",
        "print(check_output([\"ls\", \"../input\"]).decode(\"utf8\"))\n",
        "\n",
        "# Any results you write to the current directory are saved as output."
      ]
    },
    {
      "cell_type": "code",
      "execution_count": null,
      "metadata": {
        "_cell_guid": "05f4fb09-ddf0-79bc-96fb-79d6a33b667e"
      },
      "outputs": [],
      "source": [
        "# Load data.\n",
        "train = pd.read_csv('../input/train.csv', index_col='id', parse_dates=[1], \n",
        "                    true_values=['yes'], false_values=['no'])\n",
        "test = pd.read_csv('../input/test.csv', index_col='id', parse_dates=[1], \n",
        "                   true_values=['yes'], false_values=['no'])\n",
        "print(train.shape)\n",
        "print(test.shape)"
      ]
    },
    {
      "cell_type": "markdown",
      "metadata": {
        "_cell_guid": "3dc1d5e2-219d-e477-f0f3-3afae652eeb8"
      },
      "source": [
        "## Data cleaning\n",
        "As a linear regression model cannot work with categorical variables I have to do some transformations. I will perform the following steps:\n",
        "\n",
        "* Merge the test and training data. As I will fill out most of the NaNs with the median value I want to get medians that are representative of the entire data set.\n",
        "* Create a numerical scale for **ecology**\n",
        "* Create a boolean **is_investment** column based on **product_type**\n",
        "* Create a boolean column for each **sub_area**\n",
        "* Find NaN values and replace them, for the most part with the median value\n",
        "* For **life_sq**, **num_room** and **kitch_sq** we can do better assumptions than the median\n",
        "* **buildyear** contains some crazy outliers, clean those up\n",
        "\n",
        "Note: I also tried the approach with creating a new column for columns where NaN values could be found, e.g. build_year_NaN set to True for a row where build_year was not available, but that did not yield any better result so I will skip this step here. Maybe it would work better for another type of model?"
      ]
    },
    {
      "cell_type": "code",
      "execution_count": null,
      "metadata": {
        "_cell_guid": "dc050083-b721-4b7d-6bb9-d6833bf98cfc"
      },
      "outputs": [],
      "source": [
        "test['price_doc'] = -1\n",
        "data = pd.concat([train, test])\n",
        "\n",
        "# Fix ecology column\n",
        "ecology_map = {'poor': 1, 'satisfactory': 2, 'good': 3, 'excellent': 4, 'no data': np.NaN}\n",
        "data['ecology'] = data['ecology'].apply(lambda x: ecology_map[x])\n",
        "\n",
        "# There are 33 NaNs in the product_type column. \n",
        "# Set them to is_investment=True as that is the most common value.\n",
        "data['is_investment'] = data['product_type'].apply(\n",
        "    lambda x: False if x == 'OwnerOccupier' else True)\n",
        "del data['product_type']\n",
        "\n",
        "# Create a categorical value for each sub area\n",
        "sub_areas = list(data['sub_area'].unique())\n",
        "for area in sub_areas:\n",
        "    data[area] = data['sub_area'].apply(lambda x: True if x == area else False)\n",
        "del data['sub_area']\n",
        "\n",
        "# Find columns with NaN values...\n",
        "column_names = data.columns.values.tolist()\n",
        "NaN_columns = []\n",
        "for i, col_name in enumerate(column_names):\n",
        "    s = sum(pd.isnull(data.iloc[:,i]))\n",
        "    if s > 0:\n",
        "        NaN_columns.append(i)\n",
        "# ...and set most of these to the median value\n",
        "for i in NaN_columns:\n",
        "    if i in [2, 7, 8]: # life_sq, num_rooms, kitchen_sq\n",
        "        continue\n",
        "    else:\n",
        "        data[column_names[i]]=data[column_names[i]].fillna(data[column_names[i]].median())\n",
        "\n",
        "# Update NaN values for life_sq, num_room and kitch_sq\n",
        "life_sq_to_full_sq = float(data['life_sq'].sum()) / \\\n",
        "    float(data.loc[data['life_sq'] > 0, 'full_sq'].sum())\n",
        "average_room_size = float(data.loc[data['num_room'] > 0, 'full_sq'].sum()) / \\\n",
        "    float(data['num_room'].sum())\n",
        "life_sq_to_kitch_sq = float(data['kitch_sq'].sum()) / \\\n",
        "    float(data.loc[data['kitch_sq'] > 0, 'full_sq'].sum())\n",
        "data.loc[data['life_sq'].isnull(), 'life_sq'] = \\\n",
        "    data.loc[data['life_sq'].isnull(), 'full_sq'] * life_sq_to_full_sq\n",
        "data.loc[data['num_room'].isnull(), 'num_room'] = \\\n",
        "    np.round(data.loc[data['num_room'].isnull(), 'full_sq'] / average_room_size)\n",
        "data.loc[data['kitch_sq'].isnull(), 'kitch_sq'] = \\\n",
        "    data.loc[data['kitch_sq'].isnull(), 'full_sq'] * life_sq_to_kitch_sq\n",
        "\n",
        "# Remove outliers from buildyear\n",
        "median_build_year = data['build_year'].median()\n",
        "data['build_year'] = data['build_year'].apply( \\\n",
        "    lambda x: median_build_year if x < 1800 else median_build_year if x > 2017 else x)\n",
        "\n",
        "# Should output a 0 meaning that there are no NaNs left.\n",
        "data.isnull().sum().sum()"
      ]
    },
    {
      "cell_type": "markdown",
      "metadata": {
        "_cell_guid": "4b0d8bf9-11b9-2691-5c0e-7759621bc748"
      },
      "source": [
        "There is a lot more that could be done with the data if you want to spend some time with it. I spent a few minutes looking at various outliers, e.g. the first and 99th quantile of the first columns. **max_floor** and **kitch_sq** certainly stands out but I will not spend time on analysing these values further."
      ]
    },
    {
      "cell_type": "code",
      "execution_count": null,
      "metadata": {
        "_cell_guid": "079d977a-0784-efe4-97a0-66261c69bf6d"
      },
      "outputs": [],
      "source": [
        "print(\"column name\\tquantile 1\\tquantile 99\")\n",
        "column_quantiles = {}\n",
        "for c in data.columns.values[2:10]:\n",
        "    column_quantiles[c] = (data[c].quantile(.0001), data[c].quantile(.9999))\n",
        "    print(c, \"\\t\", data[c].quantile(.0001), \"\\t\", data[c].quantile(.9999))"
      ]
    },
    {
      "cell_type": "markdown",
      "metadata": {
        "_cell_guid": "d1c8302f-30a3-0f6a-19ab-79e0098843ae"
      },
      "source": [
        "## Brief data exploration\n",
        "It's not my main mission to do an in-depth analysis of the various data points here but one big question is: how can we predict the price of an apartment when the data is collected over several years? Clearly time is a really important factor here - if there is a housing bubble in the middle of the period training a model on the years before the bubble will give poor predictions on what happens after.\n",
        "\n",
        "What I (and probably Sberbank as well) am hoping for is that the macro file will contain data that, if fed to the model, will enable us to make predictions \"independent\" of time. Let's see if there is any ground for that assumption.\n",
        "\n",
        "As we have no prices for the test set, July 2015 an onwards, we'll only look at the train set and hope the findings there can be extrapolated."
      ]
    },
    {
      "cell_type": "code",
      "execution_count": null,
      "metadata": {
        "_cell_guid": "3c54bef3-bb4e-4c86-e26b-6ae1316918b9"
      },
      "outputs": [],
      "source": [
        "time_group = data.set_index('timestamp').groupby(pd.TimeGrouper(freq='M'))\n",
        "plt.figure(figsize=(15,8))\n",
        "(time_group['price_doc'].sum() / time_group['full_sq'].sum()).plot()\n",
        "plt.title('Price per square meter for Moscow apartements', fontsize=16)\n",
        "plt.xlabel('Time')\n",
        "plt.ylabel('Price in RUB (starts at 60,000)')\n",
        "plt.ylim([60000,180000])\n",
        "plt.xlim(['2011-11-01', '2015-06-30'])\n",
        "plt.grid()"
      ]
    },
    {
      "cell_type": "markdown",
      "metadata": {
        "_cell_guid": "1e62e21b-2362-c45f-971b-0afa33f85149"
      },
      "source": [
        "Above is a plot of price per square meter for the apartments in the training set. We start the plot for November 2011 as the sample size before that is quite small (see below). Prices seem to peak in the late spring 2012 and are then followed by a dip to the lowest during autumn of 2012. From there they have kept rising. Let's see how the prices compare to inflation, CPI. To do that we need to import the macro data.\n",
        "\n",
        "### Read the macro data\n",
        "The macro data contains some missing fields. A simple approach seems to be to use the 'ffill' option, i.e. if a value is missing in a row, just copy the value from the row above. This will not work if the first row is missing a value so we will first front-fill and the back-fill to cater for that.\n",
        "\n",
        "I will also do some reformatting of columns that contain a comma (,) as thousand separator."
      ]
    },
    {
      "cell_type": "code",
      "execution_count": null,
      "metadata": {
        "_cell_guid": "b18b4595-63ad-7842-901d-4509c00340ce"
      },
      "outputs": [],
      "source": [
        "# Read macro data\n",
        "# #! pattern found in some columns, treat as NaN\n",
        "macro = pd.read_csv('../input/macro.csv', na_values='#!', parse_dates=[0])\n",
        "\n",
        "# Fill in NaN values\n",
        "macro.fillna(method='ffill', inplace=True)\n",
        "macro.fillna(method='bfill', inplace=True)\n",
        "\n",
        "# Remove thousand separator and convert to double\n",
        "macro_column_names = macro.columns.values.tolist()\n",
        "for i, col_name in enumerate(macro_column_names):\n",
        "    if macro.ix[:,i].dtype == object:\n",
        "        macro.ix[:,i] = macro.ix[:,i].str.replace(',','')\n",
        "        macro.ix[:,i] = pd.to_numeric(macro.ix[:,i])"
      ]
    },
    {
      "cell_type": "markdown",
      "metadata": {
        "_cell_guid": "86854bac-c761-99c4-3c1f-a6b7f9e8ec21"
      },
      "source": [
        "### Consumer prices compared to CPI\n",
        "After having loaded the macro data, let's do this comparison."
      ]
    },
    {
      "cell_type": "code",
      "execution_count": null,
      "metadata": {
        "_cell_guid": "91bfb102-4c8b-8647-ad81-e9b243f1e3be"
      },
      "outputs": [],
      "source": [
        "square_meter_time_series = time_group['price_doc'].sum() / time_group['full_sq'].sum()\n",
        "\n",
        "fig, ax1 = plt.subplots(figsize=(15,8))\n",
        "ax1.plot(square_meter_time_series, 'b-')\n",
        "ax1.set_xlabel('Time')\n",
        "ax1.set_ylabel('Price in RUB', color='b')\n",
        "ax1.tick_params('y', colors='b')\n",
        "ax1.set_ylim([60000, 180000])\n",
        "ax1.grid()\n",
        "\n",
        "ax2 = ax1.twinx()\n",
        "ax2.plot(macro.timestamp, macro.cpi, '-', color='r')\n",
        "ax2.set_ylabel('CPI', color='r')\n",
        "ax2.tick_params('y', colors='r')\n",
        "ax2.set_xlim([pd.to_datetime('2011-11-01'), pd.to_datetime('2015-06-30')])\n",
        "# Set the scale to make the lines approximately match at the beginning of the period\n",
        "ax2.set_ylim([110, 600])\n",
        "\n",
        "fig.tight_layout()\n",
        "plt.title('Price per square meter compared to Consumer Price Index (CPI)', fontsize=16)\n",
        "plt.show()"
      ]
    },
    {
      "cell_type": "markdown",
      "metadata": {
        "_cell_guid": "fbea3c8b-acfd-3a4d-188d-ecc32657ec44"
      },
      "source": [
        "We can see that the dip in late 2012 was really a dip in real prices but after that the prices seem to have more or less followed the inflation except for the final 4 months of the period where the flattening out actually means a price dip if we look at the inflation. There are a lot of other variables in the macro data. Plotting some of them against the mean square meter price would be interesting but I will leave that for a later endeavour.\n",
        "\n",
        "What I would like to investigate next is if there is a difference in the price development for low, medium and high priced apartements. _Note that I will now look at the actual price, not price per square meter._"
      ]
    },
    {
      "cell_type": "code",
      "execution_count": null,
      "metadata": {
        "_cell_guid": "f7205acf-eee5-5a19-476c-0d1447945b55"
      },
      "outputs": [],
      "source": [
        "plt.figure(figsize=(15,8))\n",
        "plt.plot(time_group['price_doc'].quantile(.9), color='b')\n",
        "plt.plot(time_group['price_doc'].quantile(.5), color='r')\n",
        "plt.plot(time_group['price_doc'].quantile(.1), color='g')\n",
        "plt.xlim(['2011-11-01', '2015-06-30'])\n",
        "plt.title('Price for the apartment at the 10, 50 and 90 percentile', fontsize=16)\n",
        "plt.ylabel('Price in RUB')\n",
        "plt.xlabel('Time')\n",
        "plt.grid()"
      ]
    },
    {
      "cell_type": "markdown",
      "metadata": {
        "_cell_guid": "2be26060-3635-b727-43ce-f2a416e7e0d6"
      },
      "source": [
        "The price for the most expensive apartments seem to be a bit more volatile. It is interesting to see that during the dip in late 2012 the price for the cheapest apartements actually went up. Let's look at the sample sizes."
      ]
    },
    {
      "cell_type": "code",
      "execution_count": null,
      "metadata": {
        "_cell_guid": "5dff208f-76ab-c299-03f2-e9f572d86602"
      },
      "outputs": [],
      "source": [
        "plt.figure(figsize=(15,8))\n",
        "time_group.size().plot(kind='bar')\n",
        "plt.title('Number of apartements for each month in dataset', fontsize=16)\n",
        "plt.ylabel('Number of apartements')\n",
        "plt.xlabel('Time')\n",
        "plt.grid()"
      ]
    },
    {
      "cell_type": "markdown",
      "metadata": {
        "_cell_guid": "f238be74-dd4f-e0b2-8daa-9f4119c5ee47"
      },
      "source": [
        "The median price should be quite reliable but the 10- and 90th percentile respectively will be based on quite small samples for certain months; just above 20 apartements for the months where the total sample is about 200. Still, the price increase for the apartement on the 10th percentile (and drop for the 90th percentile) in the autumn 2012 is probably not just by chance. \n",
        "\n",
        "Not really sure what to make of it though. Did a downturn of the economy increase the demand for cheap apartements as people still needed to buy apartements but did not want to invest too much? You could probably draw a lot of conclusions for this by studying the data in more detail, e.g. \"Were the largest apartements just not being sold those months?\", \"Did investement as opposed to owner-occupier purchase decrease?\", et c., et c.\n",
        "\n",
        "## Prediction model\n",
        "So now over to the linear regression model.\n",
        "\n",
        "The key challenge here will be to use the macro data together with the training data to create a good model. The price of an apartement is probably not only correlated to the macro data on the exact date of contract signing. Also, most of the columns in the macro data contain the same number for every day of each month. It makes sense to me to create one row of macro data per month and add that to the apartement data.\n",
        "\n",
        "It could also be a good idea to try to assign different weights to the dates preceding the data of contract signing (and then get information from several preceding months into each apartement training example) but that's beyond what I want to try now."
      ]
    },
    {
      "cell_type": "code",
      "execution_count": null,
      "metadata": {
        "_cell_guid": "056288ad-8083-daec-9b75-f695a70437ed"
      },
      "outputs": [],
      "source": [
        "# Create one entry per each year and month, \n",
        "# fill with mean value of each column over month\n",
        "macro['YearMonth'] = macro['timestamp'].map(lambda x: 100*x.year + x.month)\n",
        "year_month_group = macro.groupby(by='YearMonth')\n",
        "macro_year_month = year_month_group.mean()\n",
        "\n",
        "# Create a YearMonth attribute for the apartments as well\n",
        "data['YearMonth'] = data['timestamp'].map(lambda x: 100*x.year + x.month)\n",
        "\n",
        "# Now merge the data..\n",
        "full_data = pd.merge(data, macro_year_month, how='left', \\\n",
        "                     left_on='YearMonth', right_index=True)\n",
        "del full_data['timestamp']\n",
        "\n",
        "# ..and split back into train/test set\n",
        "last_train_row = train.shape[0]-1\n",
        "train_proc = full_data.iloc[:last_train_row]\n",
        "test_proc = full_data.iloc[last_train_row:]\n",
        "\n",
        "# Move target price data into separate array\n",
        "train_target_prices = train_proc['price_doc']\n",
        "del train_proc['price_doc']\n",
        "del test_proc['price_doc']"
      ]
    },
    {
      "cell_type": "markdown",
      "metadata": {
        "_cell_guid": "85c29ced-4305-8ce0-dc1f-db6319672701"
      },
      "source": [
        "I will now take 70% of the training set values to use for training the model and 30% for cross-validation to get a sense of how well the model performs."
      ]
    },
    {
      "cell_type": "code",
      "execution_count": null,
      "metadata": {
        "_cell_guid": "b54eae56-b6eb-a32d-3632-1276ded9c051"
      },
      "outputs": [],
      "source": [
        "# Set a random state for repeatability\n",
        "random_state = 11\n",
        "\n",
        "# Create a train/test split for model evaluation\n",
        "X_train, X_test, y_train, y_test = train_test_split( \\\n",
        "    train_proc, train_target_prices, test_size=0.3, random_state=random_state)\n",
        "\n",
        "# Create function for score metric, set any negatives to 0 to avoid math error\n",
        "def rmsle(y_true, y_pred):\n",
        "    negative_entries = y_pred[np.argwhere(np.isnan(np.log(y_pred+1)))]\n",
        "    if (negative_entries):\n",
        "        print(negative_entries)\n",
        "        y_pred[y_pred < 0] = 0\n",
        "    return np.sqrt(mean_squared_error(np.log(y_true+1), np.log(y_pred+1)))"
      ]
    },
    {
      "cell_type": "markdown",
      "metadata": {
        "_cell_guid": "a9d727ff-08ff-820f-83f2-4ff9aa14d6a3"
      },
      "source": [
        "I will use the above function to evaluate the root mean square logarithmic error of the estimator with my cross-validation set. I tried to feed it (with the make_scorer function) to the model to be used during training but for some reason it didn't work out. This is probably a main drawback as the model will minimize the wrong kind of error but I just don't have any good ideas on how to make it work.\n",
        "\n",
        "As taking the logarithm of a negative value will yield a math error we will say that each negative prediction is 0. A good model would, of course, not predict a negative price of an apartement but as I stated already in the beginning, linear regression will not be the key to winning this competition.."
      ]
    },
    {
      "cell_type": "code",
      "execution_count": null,
      "metadata": {
        "_cell_guid": "ba2cf262-0c27-82ef-4030-fbda020b4f28"
      },
      "outputs": [],
      "source": [
        "# RidgeCV\n",
        "estimator = RidgeCV(alphas=(0.01, 0.1, 1.0, 10.0, 20.0, 100.0), \n",
        "                    fit_intercept=True, normalize=True, \n",
        "                    scoring='neg_mean_squared_error', cv=None, \n",
        "                    gcv_mode=None, store_cv_values=False)\n",
        "estimator.fit(X_train, y_train)\n",
        "print(\"Root mean square logarithmic error:\", rmsle(y_test, estimator.predict(X_test)))\n",
        "print(\"Best alpha\", estimator.alpha_)"
      ]
    },
    {
      "cell_type": "markdown",
      "metadata": {
        "_cell_guid": "d33fe3aa-c442-03ba-04d4-6329dad26a59"
      },
      "source": [
        "So what does a RMSLE of 0.55 mean? Let's compare the actual and predicted prices for a couple of apartements."
      ]
    },
    {
      "cell_type": "code",
      "execution_count": null,
      "metadata": {
        "_cell_guid": "d3f78641-8f19-b549-a288-0d5c653c0f37"
      },
      "outputs": [],
      "source": [
        "print(\"\\tActual price\\t\\tPredicted price\")\n",
        "for e in enumerate(zip(y_test[100:120], estimator.predict(X_test)[100:120])):\n",
        "    print(e[0],\"{:20,}\".format(e[1][0]), \"\\t{:20,.0f}\".format(e[1][1]))"
      ]
    },
    {
      "cell_type": "markdown",
      "metadata": {
        "_cell_guid": "65311d56-2b8d-a2fe-977f-d559c59eb131"
      },
      "source": [
        "It clearly does something and some of the values are sort of right but a few are way off. If I were to sell my apartement and the real estate agent gave me an estimate that turned out to be twice or half the final sale price based on the agency's advanced machine learning model I would be less than impressed..\n",
        "\n",
        "The way RMSLE works, an error of 1 would mean that on average the model misclassifies the price with a factor of ~2.71 (e). An error of 0.55 means an average misclassification of about 70%.\n",
        "\n",
        "Let's see what features had the highest weight."
      ]
    },
    {
      "cell_type": "code",
      "execution_count": null,
      "metadata": {
        "_cell_guid": "ef07b258-c14e-7f80-a4e9-1625227c451e"
      },
      "outputs": [],
      "source": [
        "feature_weights = [x for x in zip(X_test.columns.values, estimator.coef_)]\n",
        "feature_weights.sort(key=lambda x: x[1], reverse=True)\n",
        "print(\"Strongest positive features\")\n",
        "for i in range(10):\n",
        "    print(feature_weights[i])\n",
        "print(\"\\nStrongest negative features\")\n",
        "for i in range(10):\n",
        "    print(feature_weights[-i-1])"
      ]
    },
    {
      "cell_type": "markdown",
      "metadata": {
        "_cell_guid": "bc5fe757-b8bc-916b-1fba-1d605ea6b8ef"
      },
      "source": [
        "I'm not 100% sure how to interpret the fact that 18 of the 20 most important features are areas. On the one hand this might indicate why linear regression won't really work for this type of problem/data. The price of an apartement is heavily influenced by its geographical location. On the other hand, the \"area attributes\" can only take the values 0 or 1 and (although I have normalized all input variables) it might take a pretty strong coefficient to bump up the importance of these values enough to get the correct effect on the target variable (sale price).\n",
        "\n",
        "Maybe a linear regression model would work better if we had a \"distance from city center\" attribute that would take on linear and not binary values.\n",
        "\n",
        "The way a human would estimate the price would certainly be to look at similar apartements in the area so any estimator that could simulate that would probably do better. Maybe that is what you could get a random forest regressor to do (i.e. split on the area attribute high up in the decision trees) but I'll leave that for a future experiment.\n",
        "\n",
        "## Conclusion\n",
        "I want to emphasize that I'm quite new at this and I probably made several mistakes along the way. I would be very happy if someone could point these out - that's the best way to learn. Further, I did not put too much rigour and thought into the different steps and perhaps there are ways to make this work better that I just did not see because I didn't spend enough time thinking about it but that's the benefit of not doing this professionally - I can just do enough to learn and then call it a day and move on once I think I have learned enough. To do a real analysis of all this data would for sure take months if not years.\n",
        "\n",
        "### What to do next\n",
        "I actually tried out a few other linear models (Lasso and ElasticNet) that do not penalize the square of errors but the absolute errors and they resulted in slightly, but not _that_ much, better results. It might also have been an idea to try out other things with the macro data, e.g. using a longer period of macro data instead of just the current month. However, I have a strong feeling that linear regression is not the way to approach this problem so if I continue working on it I will try out some other models.\n",
        "\n",
        "Thank you, if you read all the way here and now at least you know what not to try out for the competition and hopefully you agree with my theory about why!"
      ]
    }
  ],
  "metadata": {
    "_change_revision": 0,
    "_is_fork": false,
    "kernelspec": {
      "display_name": "Python 3",
      "language": "python",
      "name": "python3"
    },
    "language_info": {
      "codemirror_mode": {
        "name": "ipython",
        "version": 3
      },
      "file_extension": ".py",
      "mimetype": "text/x-python",
      "name": "python",
      "nbconvert_exporter": "python",
      "pygments_lexer": "ipython3",
      "version": "3.6.0"
    }
  },
  "nbformat": 4,
  "nbformat_minor": 0
}