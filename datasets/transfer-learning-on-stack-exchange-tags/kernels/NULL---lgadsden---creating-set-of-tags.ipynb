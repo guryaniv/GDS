{
  "cells": [
    {
      "cell_type": "markdown",
      "metadata": {
        "_cell_guid": "db7d0e0f-0047-7105-1cf0-d72240981fe7"
      },
      "source": [
        ""
      ]
    },
    {
      "cell_type": "code",
      "execution_count": null,
      "metadata": {
        "_cell_guid": "4984b8b0-26bc-7995-2be2-d5b396ecbaf3"
      },
      "outputs": [],
      "source": [
        "# This Python 3 environment comes with many helpful analytics libraries installed\n",
        "# It is defined by the kaggle/python docker image: https://github.com/kaggle/docker-python\n",
        "# For example, here's several helpful packages to load in \n",
        "\n",
        "import numpy as np # linear algebra\n",
        "import pandas as pd # data processing, CSV file I/O (e.g. pd.read_csv)\n",
        "\n",
        "# Input data files are available in the \"../input/\" directory.\n",
        "# For example, running this (by clicking run or pressing Shift+Enter) will list the files in the input directory\n",
        "\n",
        "from subprocess import check_output\n",
        "print(check_output([\"ls\", \"../input\"]).decode(\"utf8\"))\n",
        "\n",
        "# Any results you write to the current directory are saved as output."
      ]
    },
    {
      "cell_type": "code",
      "execution_count": null,
      "metadata": {
        "_cell_guid": "f0c115c9-8110-a5b3-9ec8-64662ddf2dda"
      },
      "outputs": [],
      "source": [
        "bio = pd.read_csv(\"../input/biology.csv\")\n",
        "cook = pd.read_csv(\"../input/cooking.csv\")\n",
        "crypto = pd.read_csv(\"../input/crypto.csv\")\n",
        "diy = pd.read_csv(\"../input/diy.csv\")\n",
        "travel = pd.read_csv(\"../input/travel.csv\")\n",
        "samp = pd.read_csv(\"../input/sample_submission.csv\")\n",
        "test = pd.read_csv(\"../input/test.csv\")"
      ]
    },
    {
      "cell_type": "code",
      "execution_count": null,
      "metadata": {
        "_cell_guid": "04e02bef-e001-5b60-bcff-e3d07231245a"
      },
      "outputs": [],
      "source": [
        "bio.shape"
      ]
    },
    {
      "cell_type": "code",
      "execution_count": null,
      "metadata": {
        "_cell_guid": "d2d0353f-73f4-ef38-0377-5714d8aaada6"
      },
      "outputs": [],
      "source": [
        "biotags = bio[\"tags\"].unique().tolist()\n",
        "biotags = [i.split() for i in biotags]\n",
        "biotagsFin = set(sum(biotags,[]))"
      ]
    },
    {
      "cell_type": "code",
      "execution_count": null,
      "metadata": {
        "_cell_guid": "f443e499-e33f-569f-0c0b-fd09b641480e"
      },
      "outputs": [],
      "source": [
        "cooktags = cook[\"tags\"].unique().tolist()\n",
        "cooktags = [i.split() for i in cooktags]\n",
        "cooktagsFin = set(sum(cooktags,[]))"
      ]
    },
    {
      "cell_type": "code",
      "execution_count": null,
      "metadata": {
        "_cell_guid": "b35d7cf6-8e16-8fad-0b03-818bee80a466"
      },
      "outputs": [],
      "source": [
        "cryptotags = crypto[\"tags\"].unique().tolist()\n",
        "cryptotags = [i.split() for i in cryptotags]\n",
        "cryptotagsFin = set(sum(cryptotags,[]))"
      ]
    },
    {
      "cell_type": "code",
      "execution_count": null,
      "metadata": {
        "_cell_guid": "10166791-7a5f-0373-3961-4c8f6531d7e0"
      },
      "outputs": [],
      "source": [
        "diytags = diy[\"tags\"].unique().tolist()\n",
        "diytags = [i.split() for i in diytags]\n",
        "diytagsFin = set(sum(diytags,[]))"
      ]
    },
    {
      "cell_type": "code",
      "execution_count": null,
      "metadata": {
        "_cell_guid": "24421927-4fc7-ba5a-7f9c-3e28c86632b1"
      },
      "outputs": [],
      "source": [
        "travtags = travel[\"tags\"].unique().tolist()\n",
        "travtags = [i.split() for i in travtags]\n",
        "travtagsFin = set(sum(travtags,[]))"
      ]
    },
    {
      "cell_type": "code",
      "execution_count": null,
      "metadata": {
        "_cell_guid": "4db3f229-0de3-6ee5-469c-eb410b6992ff"
      },
      "outputs": [],
      "source": [
        "tags_tot = set(list(biotagsFin) + list(cooktagsFin) + list(cryptotagsFin) + list(diytagsFin) + list(travtagsFin))"
      ]
    },
    {
      "cell_type": "code",
      "execution_count": null,
      "metadata": {
        "_cell_guid": "ac3a9423-c679-83c6-46fe-a70ef471d102"
      },
      "outputs": [],
      "source": [
        "tags_tot"
      ]
    }
  ],
  "metadata": {
    "_change_revision": 0,
    "_is_fork": false,
    "kernelspec": {
      "display_name": "Python 3",
      "language": "python",
      "name": "python3"
    },
    "language_info": {
      "codemirror_mode": {
        "name": "ipython",
        "version": 3
      },
      "file_extension": ".py",
      "mimetype": "text/x-python",
      "name": "python",
      "nbconvert_exporter": "python",
      "pygments_lexer": "ipython3",
      "version": "3.5.2"
    }
  },
  "nbformat": 4,
  "nbformat_minor": 0
}