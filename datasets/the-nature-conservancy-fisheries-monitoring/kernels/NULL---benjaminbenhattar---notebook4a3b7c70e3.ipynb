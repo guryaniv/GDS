{
  "cells": [
    {
      "cell_type": "markdown",
      "metadata": {
        "_cell_guid": "06f8e535-fb3c-3b4e-bf66-6309e9dcfce4"
      },
      "source": ""
    },
    {
      "cell_type": "code",
      "execution_count": null,
      "metadata": {
        "_cell_guid": "68564121-2c4a-1c49-44fe-b4b41fa6f74c"
      },
      "outputs": [],
      "source": [
        "# This Python 3 environment comes with many helpful analytics libraries installed\n",
        "# It is defined by the kaggle/python docker image: https://github.com/kaggle/docker-python\n",
        "# For example, here's several helpful packages to load in \n",
        "\n",
        "import numpy as np # linear algebra\n",
        "import pandas as pd # data processing, CSV file I/O (e.g. pd.read_csv)\n",
        "import time\n",
        "import glob\n",
        "import os\n",
        "import cv2\n",
        "\n",
        "from sklearn.model_selection import train_test_split\n",
        "from sklearn import datasets\n",
        "from sklearn.pipeline import Pipeline\n",
        "from sklearn.svm import SVC\n",
        "from sklearn.decomposition import PCA\n",
        "\n",
        "# Input data files are available in the \"../input/\" directory.\n",
        "# For example, running this (by clicking run or pressing Shift+Enter) will list the files in the input directory\n",
        "\n",
        "from subprocess import check_output\n",
        "print(check_output([\"ls\", \"../input\"]).decode(\"utf8\"))\n",
        "\n",
        "# Any results you write to the current directory are saved as output.\n",
        "\n",
        "#Loads and resizes the image to 32x32:\n",
        "def load_resize(path):\n",
        "    return cv2.resize(cv2.imread(path), (32, 32), cv2.INTER_LINEAR)\n",
        "\n",
        "def load_train():\n",
        "    X_train = []\n",
        "    X_train_id = []\n",
        "    Y_train = []\n",
        "    start_time = time.time()\n",
        "\n",
        "    print('Read train images')\n",
        "    #folders = ['ALB', 'BET', 'DOL', 'LAG', 'NoF', 'OTHER', 'SHARK', 'YFT']\n",
        "    \n",
        "    folders = ['ALB', 'BET']\n",
        "    for fld in folders:\n",
        "        index = folders.index(fld)\n",
        "        print('Load folder {} (Index: {})'.format(fld, index))\n",
        "        path = os.path.join('..', 'input', 'train', fld, '*.jpg')\n",
        "        files = glob.glob(path)\n",
        "        for fl in files:\n",
        "            flbase = os.path.basename(fl)\n",
        "            img = load_resize(fl)\n",
        "            X_train.append(img)\n",
        "            X_train_id.append(flbase)\n",
        "            Y_train.append(index)\n",
        "\n",
        "    print('Read train data time: {} seconds'.format(round(time.time() - start_time, 2)))\n",
        "    return X_train, Y_train, X_train_id\n",
        "\n",
        "X, Y, X_id = load_train()\n",
        "\n",
        "print(X[1])\n",
        "print(Y[2])\n",
        "\n",
        "#estimators = [('reduce_dim', PCA()), ('clf', SVC())]\n",
        "#pipe = Pipeline(estimators)\n",
        "\n",
        "#pipe.fit(X, Y)\n",
        "#a = pipe.predict(X)\n",
        "    \n",
        "#print(a)\n",
        "\n",
        "\n",
        "X_train, X_test, Y_train, Y_test = train_test_split(X,Y, test_size=0.4, random_state=0)\n",
        "\n",
        "pca = PCA(n_components=2)\n",
        "\n",
        "pca.fit_transform(X_train.flatten())\n",
        "\n",
        "classifier =  AdaBoostClassifier()\n",
        "\n",
        "classifier.fit(X_train,Y_train)\n",
        "\n",
        "pca.transform(X_test)\n",
        "\n",
        "Y_test_exp = classifier.predict(X_test)\n",
        "\n",
        "print(Y_test_exp)\n",
        "\n",
        "#def train_model(X_train, Y_train, X_train_id):\n",
        "    \n",
        "    \n",
        "#def test_model(X_train, Y_train, X_train_id):\n",
        "    \n",
        "    \n",
        "    "
      ]
    },
    {
      "cell_type": "code",
      "execution_count": null,
      "metadata": {
        "_cell_guid": "7769786d-e6c5-e980-2d6e-210d43bba8d3"
      },
      "outputs": [],
      "source": [
        ""
      ]
    }
  ],
  "metadata": {
    "_change_revision": 0,
    "_is_fork": false,
    "kernelspec": {
      "display_name": "Python 3",
      "language": "python",
      "name": "python3"
    },
    "language_info": {
      "codemirror_mode": {
        "name": "ipython",
        "version": 3
      },
      "file_extension": ".py",
      "mimetype": "text/x-python",
      "name": "python",
      "nbconvert_exporter": "python",
      "pygments_lexer": "ipython3",
      "version": "3.6.0"
    }
  },
  "nbformat": 4,
  "nbformat_minor": 0
}