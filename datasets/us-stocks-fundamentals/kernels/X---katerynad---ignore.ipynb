{
  "cells": [
    {
      "cell_type": "markdown",
      "metadata": {
        "_cell_guid": "2753ef57-a671-58c9-0deb-27c53c150885"
      },
      "source": [
        "**Data exploring**\n",
        "------------------\n",
        "\n",
        "***Part 3***\n",
        "------------\n",
        "\n",
        "**Is there any dependency between indicators?**\n",
        "\n",
        "\n",
        "----------\n",
        "\n",
        "\n",
        "I expect a strong positive correlation between first 5 indicators reviewed in Part 2\n",
        "Let's see how correlated first 20, most popular indicators in 2011 discovered in Part 1"
      ]
    },
    {
      "cell_type": "code",
      "execution_count": null,
      "metadata": {
        "_cell_guid": "b08f82ba-173d-5e41-d2c3-58ccc96de787"
      },
      "outputs": [],
      "source": [
        "import pandas as pd\n",
        "from pandas import Series,DataFrame\n",
        "import numpy as np\n",
        "from scipy.stats import linregress\n",
        "\n",
        "# For Visualization\n",
        "import matplotlib.pyplot as plt\n",
        "import matplotlib\n",
        "import seaborn as sns"
      ]
    },
    {
      "cell_type": "code",
      "execution_count": null,
      "metadata": {
        "_cell_guid": "97c86ee7-191e-7451-3bb3-96a0c402c7eb"
      },
      "outputs": [],
      "source": [
        "#data\n",
        "df=pd.read_csv('../input/indicators_by_company.csv')\n",
        "df.head(5)"
      ]
    },
    {
      "cell_type": "markdown",
      "metadata": {
        "_cell_guid": "4f2165b9-dfe7-2137-d89e-19d29a489046"
      },
      "source": [
        "Most popular indicators in 2011 discovered in Part 1\n",
        "----------------------------------------------------"
      ]
    },
    {
      "cell_type": "code",
      "execution_count": null,
      "metadata": {
        "_cell_guid": "5684a485-bd34-bbcf-4b74-af2696eb1f93"
      },
      "outputs": [],
      "source": [
        "indicators=['Assets','LiabilitiesAndStockholdersEquity',\n",
        "'StockholdersEquity',\n",
        "'CashAndCashEquivalentsAtCarryingValue',\n",
        "'NetCashProvidedByUsedInOperatingActivities',\n",
        "'NetIncomeLoss',\n",
        "'NetCashProvidedByUsedInFinancingActivities',\n",
        "'CommonStockSharesAuthorized',\n",
        "'CashAndCashEquivalentsPeriodIncreaseDecrease',\n",
        "'CommonStockValue',\n",
        "'CommonStockSharesIssued',\n",
        "'RetainedEarningsAccumulatedDeficit',\n",
        "'CommonStockParOrStatedValuePerShare',\n",
        "'NetCashProvidedByUsedInInvestingActivities',\n",
        "'PropertyPlantAndEquipmentNet',\n",
        "'AssetsCurrent',\n",
        "'LiabilitiesCurrent',\n",
        "'CommonStockSharesOutstanding',\n",
        "'Liabilities',\n",
        "'OperatingIncomeLoss' ]"
      ]
    },
    {
      "cell_type": "markdown",
      "metadata": {
        "_cell_guid": "465c9be4-cf79-7430-7479-1e2e1637a67d"
      },
      "source": [
        "Now:\n",
        "----\n",
        "\n",
        " \n",
        " - Unpivot from existing format (years as columns) \n",
        " - Pivot to indicator ids as columns \n",
        " - Remove nulls \n",
        " - Let's review 2011 and most popular\n",
        " indicators in this year"
      ]
    },
    {
      "cell_type": "code",
      "execution_count": null,
      "metadata": {
        "_cell_guid": "f2029de1-9ab6-a7eb-4ccb-db210f8545f3"
      },
      "outputs": [],
      "source": [
        "Values=df.loc[df['indicator_id'].isin(indicators),['company_id','indicator_id','2011']]\n",
        "Values=pd.melt(Values, id_vars=['company_id', 'indicator_id'], var_name='year', value_name='value')\n",
        "Values=Values.loc[Values['year']=='2011',['company_id','indicator_id','value']].pivot(index='company_id',columns='indicator_id', values='value').dropna()\n",
        "Values.head(5)"
      ]
    },
    {
      "cell_type": "code",
      "execution_count": null,
      "metadata": {
        "_cell_guid": "08f5ce4b-dffa-ccd0-bb25-93be8a25a0a9"
      },
      "outputs": [],
      "source": [
        "print('There are '+str(len(Values))+' companies with not null values in the data set for 2011 and 20 indicators')"
      ]
    },
    {
      "cell_type": "code",
      "execution_count": null,
      "metadata": {
        "_cell_guid": "c3abec9b-10e4-b6b8-4762-fdb086af66c1"
      },
      "outputs": [],
      "source": [
        "#heatmap visualization\n",
        "def heatmap(data,title):\n",
        "  fig, ax = plt.subplots(figsize=(15, 15))\n",
        "  heatmap = sns.heatmap(data, cmap=plt.cm.Blues,annot=True, annot_kws={\"size\": 8})\n",
        "  #ax.xaxis.tick_top()\n",
        "  ax.set_title(title)\n",
        "  # rotate\n",
        "  plt.xticks(rotation=90)\n",
        "  plt.yticks(rotation=0)\n",
        "  plt.tight_layout()"
      ]
    },
    {
      "cell_type": "code",
      "execution_count": null,
      "metadata": {
        "_cell_guid": "aad4cac8-1ab3-739f-219b-5e00b06af322"
      },
      "outputs": [],
      "source": [
        "#skipy linregress\n",
        "#Pearson Correlation\n",
        "rvalue = DataFrame(np.nan,index=indicators,columns=indicators)\n",
        "#PValue\n",
        "pvalue = DataFrame(np.nan,index=indicators,columns=indicators)\n",
        "#StdErr\n",
        "stderr = DataFrame(np.nan,index=indicators,columns=indicators)"
      ]
    },
    {
      "cell_type": "code",
      "execution_count": null,
      "metadata": {
        "_cell_guid": "49e8f48b-f4b6-bd12-ffde-73548fcb183f"
      },
      "outputs": [],
      "source": [
        "#\n",
        "for c_X in indicators:\n",
        "  for c_Y in indicators:\n",
        "    R=linregress(Values[[c_X,c_Y]])\n",
        "    rvalue.set_value(c_Y,c_X, R.rvalue)\n",
        "    pvalue.set_value(c_Y,c_X, R.pvalue)\n",
        "    stderr.set_value(c_Y,c_X, R.stderr)"
      ]
    },
    {
      "cell_type": "code",
      "execution_count": null,
      "metadata": {
        "_cell_guid": "c0b2c117-a949-c503-4bdc-d4df44a6d0bc"
      },
      "outputs": [],
      "source": [
        "heatmap(rvalue,'R-value')"
      ]
    },
    {
      "cell_type": "code",
      "execution_count": null,
      "metadata": {
        "_cell_guid": "b7a6bc22-5d3c-e7d2-6350-465b1648276b"
      },
      "outputs": [],
      "source": [
        "heatmap(pvalue,'P-value')"
      ]
    },
    {
      "cell_type": "code",
      "execution_count": null,
      "metadata": {
        "_cell_guid": "1e196b83-033a-c40f-f3bc-ed7a910e8ffb"
      },
      "outputs": [],
      "source": [
        "heatmap(stderr,'std-error')"
      ]
    }
  ],
  "metadata": {
    "_change_revision": 0,
    "_is_fork": false,
    "kernelspec": {
      "display_name": "Python 3",
      "language": "python",
      "name": "python3"
    },
    "language_info": {
      "codemirror_mode": {
        "name": "ipython",
        "version": 3
      },
      "file_extension": ".py",
      "mimetype": "text/x-python",
      "name": "python",
      "nbconvert_exporter": "python",
      "pygments_lexer": "ipython3",
      "version": "3.5.2"
    }
  },
  "nbformat": 4,
  "nbformat_minor": 0
}