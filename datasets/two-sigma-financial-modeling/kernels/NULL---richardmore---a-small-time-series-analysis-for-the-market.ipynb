{
  "cells": [
    {
      "cell_type": "markdown",
      "metadata": {
        "_cell_guid": "387c2726-aeb3-7f11-ff31-a02e1384035c"
      },
      "source": ""
    },
    {
      "cell_type": "code",
      "execution_count": null,
      "metadata": {
        "_cell_guid": "349c5364-fa9a-6c6e-b1d7-225c4b9c40c3"
      },
      "outputs": [],
      "source": [
        "import numpy as np # linear algebra\n",
        "import pandas as pd # data processing, CSV file I/O (e.g. pd.read_csv)\n",
        "import matplotlib.pyplot as plt\n",
        "import seaborn as sns\n",
        "from sklearn import linear_model as lm\n",
        "import kagglegym\n",
        "\n",
        "%matplotlib inline\n",
        "# Create environment\n",
        "env = kagglegym.make()\n",
        "\n",
        "# Get first observation\n",
        "observation = env.reset()\n",
        "\n",
        "# Get the train dataframe\n",
        "train = observation.train"
      ]
    },
    {
      "cell_type": "code",
      "execution_count": null,
      "metadata": {
        "_cell_guid": "b1095fa4-68aa-1409-0645-d68f765f6335"
      },
      "outputs": [],
      "source": [
        "df = train"
      ]
    },
    {
      "cell_type": "code",
      "execution_count": null,
      "metadata": {
        "_cell_guid": "ea746e1e-a7a6-0042-73c5-9181ba394017"
      },
      "outputs": [],
      "source": [
        "rtn_m = df.groupby('timestamp')[\"y\"].mean() # the market return \n",
        "vol_m =  df.groupby('timestamp')[\"y\"].std() # the market return volatility cross section\n",
        "sharp_m = rtn_m/vol_m # sharp ratio\n",
        "num_m = df.groupby('timestamp')[\"y\"].count() # support number "
      ]
    },
    {
      "cell_type": "code",
      "execution_count": null,
      "metadata": {
        "_cell_guid": "72ee6c69-cc64-906a-6321-fe3f18090a2b"
      },
      "outputs": [],
      "source": [
        "sns.tsplot(rtn_m)"
      ]
    },
    {
      "cell_type": "markdown",
      "metadata": {
        "_cell_guid": "60add1b7-29bc-278a-ce12-5fb7deedbde5"
      },
      "source": ""
    },
    {
      "cell_type": "code",
      "execution_count": null,
      "metadata": {
        "_cell_guid": "75d9473d-194d-302e-ef56-c6446bf5fa6a"
      },
      "outputs": [],
      "source": [
        "import statsmodels.api as sm\n",
        "from statsmodels.graphics.api import qqplot"
      ]
    },
    {
      "cell_type": "code",
      "execution_count": null,
      "metadata": {
        "_cell_guid": "9bbfa7e8-20a6-4130-c37d-88352bddc3ef"
      },
      "outputs": [],
      "source": [
        "def make_corelation(dta,lags):\n",
        "    fig = plt.figure(figsize=(12,8))\n",
        "    ax1=fig.add_subplot(211)\n",
        "    fig = sm.graphics.tsa.plot_acf(dta,lags=lags,ax=ax1)\n",
        "    ax2 = fig.add_subplot(212)\n",
        "    fig = sm.graphics.tsa.plot_pacf(dta,lags=lags,ax=ax2)"
      ]
    },
    {
      "cell_type": "code",
      "execution_count": null,
      "metadata": {
        "_cell_guid": "23bc1e06-fd58-99a2-d4b3-781e8063366c"
      },
      "outputs": [],
      "source": [
        "make_corelation(rtn_m.values,20)"
      ]
    },
    {
      "cell_type": "code",
      "execution_count": null,
      "metadata": {
        "_cell_guid": "47d29098-5a79-cfbb-44e7-790421500435"
      },
      "outputs": [],
      "source": [
        "sns.distplot(rtn_m)"
      ]
    },
    {
      "cell_type": "markdown",
      "metadata": {
        "_cell_guid": "c6d9054b-ec99-9e48-152a-5d378c981cb4"
      },
      "source": ""
    },
    {
      "cell_type": "code",
      "execution_count": null,
      "metadata": {
        "_cell_guid": "49023c4e-772a-fae9-faf1-9361b8ac7629"
      },
      "outputs": [],
      "source": [
        "sns.tsplot(vol_m)"
      ]
    },
    {
      "cell_type": "code",
      "execution_count": null,
      "metadata": {
        "_cell_guid": "a0755102-6968-846b-6188-35e01ea83ad7"
      },
      "outputs": [],
      "source": [
        "make_corelation(vol_m.values,20)"
      ]
    },
    {
      "cell_type": "markdown",
      "metadata": {
        "_cell_guid": "7dc21b20-1379-7fe3-c7e0-4c14f8548c23"
      },
      "source": ""
    },
    {
      "cell_type": "code",
      "execution_count": null,
      "metadata": {
        "_cell_guid": "daf5cc1b-0af1-2a3c-b455-85e52cc0ee53"
      },
      "outputs": [],
      "source": [
        "sns.distplot(vol_m)"
      ]
    },
    {
      "cell_type": "code",
      "execution_count": null,
      "metadata": {
        "_cell_guid": "075e77cc-be6e-228c-c671-9a3c421dc6f5"
      },
      "outputs": [],
      "source": [
        "sns.tsplot(sharp_m)"
      ]
    },
    {
      "cell_type": "markdown",
      "metadata": {
        "_cell_guid": "77c34a67-dbb5-2c40-2633-71c624e1a538"
      },
      "source": ""
    },
    {
      "cell_type": "code",
      "execution_count": null,
      "metadata": {
        "_cell_guid": "6f19849b-4d78-d331-cbce-e70e9bd7ac7b"
      },
      "outputs": [],
      "source": [
        "make_corelation(sharp_m.values,20)"
      ]
    },
    {
      "cell_type": "code",
      "execution_count": null,
      "metadata": {
        "_cell_guid": "f749b819-a470-84a9-f4f2-993aedd9bf27"
      },
      "outputs": [],
      "source": [
        "sns.distplot(sharp_m)"
      ]
    },
    {
      "cell_type": "code",
      "execution_count": null,
      "metadata": {
        "_cell_guid": "22add92f-0d80-2339-b792-7347823f8923"
      },
      "outputs": [],
      "source": [
        "sns.tsplot(num_m)\n"
      ]
    },
    {
      "cell_type": "markdown",
      "metadata": {
        "_cell_guid": "79963c50-9287-f033-f7b4-08ba6e19c5c5"
      },
      "source": ""
    }
  ],
  "metadata": {
    "_change_revision": 0,
    "_is_fork": false,
    "kernelspec": {
      "display_name": "Python 3",
      "language": "python",
      "name": "python3"
    },
    "language_info": {
      "codemirror_mode": {
        "name": "ipython",
        "version": 3
      },
      "file_extension": ".py",
      "mimetype": "text/x-python",
      "name": "python",
      "nbconvert_exporter": "python",
      "pygments_lexer": "ipython3",
      "version": "3.5.2"
    }
  },
  "nbformat": 4,
  "nbformat_minor": 0
}