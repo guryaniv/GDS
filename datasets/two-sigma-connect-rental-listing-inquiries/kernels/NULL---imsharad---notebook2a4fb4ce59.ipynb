{
  "metadata": {
    "kernelspec": {
      "display_name": "Python 3",
      "language": "python",
      "name": "python3"
    },
    "language_info": {
      "codemirror_mode": {
        "name": "ipython",
        "version": 3
      },
      "file_extension": ".py",
      "mimetype": "text/x-python",
      "name": "python",
      "nbconvert_exporter": "python",
      "pygments_lexer": "ipython3",
      "version": "3.6.0"
    }
  },
  "nbformat": 4,
  "nbformat_minor": 0,
  "cells": [
    {
      "metadata": {
        "_cell_guid": "ec577e18-b263-daed-4227-f1dbeae191c9",
        "_active": false,
        "collapsed": false
      },
      "source": "# This Python 3 environment comes with many helpful analytics libraries installed\n# It is defined by the kaggle/python docker image: https://github.com/kaggle/docker-python\n# For example, here's several helpful packages to load in \n\nimport numpy as np # linear algebra\nimport pandas as pd # data processing, CSV file I/O (e.g. pd.read_csv)\n\n# Input data files are available in the \"../input/\" directory.\n# For example, running this (by clicking run or pressing Shift+Enter) will list the files in the input directory\n\nfrom subprocess import check_output\nprint(check_output([\"ls\", \"../input\"]).decode(\"utf8\"))\n\n# Any results you write to the current directory are saved as output.",
      "execution_count": null,
      "cell_type": "code",
      "outputs": [],
      "execution_state": "idle"
    },
    {
      "metadata": {
        "_cell_guid": "2b1b5c91-fcf1-e02f-cb54-2627113b2781",
        "_active": false,
        "collapsed": false
      },
      "source": "# importing the Libraries :\n\nimport pandas as pd\nimport numpy as np\n",
      "execution_count": null,
      "cell_type": "code",
      "outputs": [],
      "execution_state": "idle"
    },
    {
      "metadata": {
        "_cell_guid": "e46b2398-f6b0-1d79-116d-657b4a61ca91",
        "_active": false,
        "collapsed": false
      },
      "source": "# Reading the file :\n\ntrain = pd.read_json(open(\"../input/train.json\", \"r\"))\n\n",
      "execution_count": null,
      "cell_type": "code",
      "outputs": [],
      "execution_state": "idle"
    },
    {
      "metadata": {
        "_cell_guid": "1bb00210-2c12-72c4-6b07-47a6df518a54",
        "_active": false,
        "collapsed": false
      },
      "source": "  train.head(3)",
      "execution_count": null,
      "cell_type": "code",
      "outputs": [],
      "execution_state": "idle"
    },
    {
      "metadata": {
        "_cell_guid": "482f8a77-bba5-0d76-91b2-45310986b5f2",
        "_active": false,
        "collapsed": false
      },
      "source": ">\n\n**Feature engineering**\n-----------------------\n\n",
      "execution_count": null,
      "cell_type": "markdown",
      "outputs": [],
      "execution_state": "idle"
    },
    {
      "metadata": {
        "_cell_guid": "4634769e-3dba-e909-0afe-2d2d9a21efe4",
        "_active": false,
        "collapsed": false
      },
      "source": "train[\"num_of_photos\"] = train[\"photos\"].apply(len)\ntrain[\"num_of_features\"] = train[\"features\"].apply(len)\ntrain[\"created\"] = pd.to_datetime(train[\"created\"])",
      "execution_count": null,
      "cell_type": "code",
      "outputs": [],
      "execution_state": "idle"
    },
    {
      "metadata": {
        "_cell_guid": "75d58815-57b3-a501-2bcd-e26191b7247d",
        "_active": false,
        "collapsed": false
      },
      "source": "train[\"created_year\"] = train[\"created\"].dt.year\ntrain[\"created_month\"] = train[\"created\"].dt.month\ntrain[\"created_day\"] = train[\"created\"].dt.day",
      "execution_count": null,
      "cell_type": "code",
      "outputs": [],
      "execution_state": "idle"
    },
    {
      "metadata": {
        "_cell_guid": "1a8d8ec8-410e-24d5-7e5a-d47e82191ce7",
        "_active": false,
        "collapsed": false
      },
      "source": "## Numerical and Non-Numerical Features ##",
      "execution_count": null,
      "cell_type": "markdown",
      "outputs": [],
      "execution_state": "idle"
    },
    {
      "metadata": {
        "_cell_guid": "f58e9413-6290-3479-8418-ffff9010d74f",
        "_active": false,
        "collapsed": false
      },
      "source": "# creating a list of numerical features\n\nnum_features = [\"bathrooms\",\"bedrooms\",\"price\",\"num_of_photos\",\"num_of_features\",\"created_year\",\"created_month\",\"created_day\"]\n\n",
      "execution_count": null,
      "cell_type": "code",
      "outputs": [],
      "execution_state": "idle"
    },
    {
      "metadata": {
        "_cell_guid": "58704541-db71-bf1a-da32-e73325a2186e",
        "_active": false,
        "collapsed": false
      },
      "source": "# Creating X and y : \n\nX = train[num_features]\ny =train[\"interest_level\"]\n",
      "execution_count": null,
      "cell_type": "code",
      "outputs": [],
      "execution_state": "idle"
    },
    {
      "metadata": {
        "_cell_guid": "541560f1-985b-0f4e-4787-815eea6e23de",
        "_active": false,
        "collapsed": false
      },
      "source": "## Splitting Train_Test Data :##",
      "execution_count": null,
      "cell_type": "markdown",
      "outputs": [],
      "execution_state": "idle"
    },
    {
      "metadata": {
        "_cell_guid": "fa039b6b-6a60-bb19-62ae-eec341c456d2",
        "_active": false,
        "collapsed": false
      },
      "source": "# importing :\nfrom sklearn.cross_validation import train_test_split\n\nX_train , X_test, y_train , y_test = train_test_split(X,y, random_state = 1, test_size=0.20)",
      "execution_count": null,
      "cell_type": "code",
      "outputs": [],
      "execution_state": "idle"
    },
    {
      "metadata": {
        "_cell_guid": "dfd03b07-5823-06c6-8bc3-83d5ea93e5f0",
        "_active": false,
        "collapsed": false
      },
      "source": "## RandomForestClassification ##",
      "execution_count": null,
      "cell_type": "markdown",
      "outputs": [],
      "execution_state": "idle"
    },
    {
      "metadata": {
        "_cell_guid": "b54b2c40-0f19-20a5-60e3-934c3344a17f",
        "_active": false,
        "collapsed": false
      },
      "source": "# importing :\n\nfrom sklearn.ensemble import RandomForestClassifier\n\n# Instantiate :\nclf = RandomForestClassifier()\n\n# Fit :\n\nclf.fit(X_train,y_train)\n\n# Predict :\n\n# Lets store all the predicted values into y_pred :\n\ny_pred = clf.predict(X_test)\n\n\n\n\n",
      "execution_count": null,
      "cell_type": "code",
      "outputs": [],
      "execution_state": "idle"
    },
    {
      "metadata": {
        "_cell_guid": "d1e2ddef-fd61-5848-7d72-41e9fffb50a5",
        "_active": false,
        "collapsed": false
      },
      "source": "labels2idx = {label: i for i, label in enumerate(clf.classes_)}\nlabels2idx",
      "execution_count": null,
      "cell_type": "code",
      "outputs": [],
      "execution_state": "idle"
    },
    {
      "metadata": {
        "_cell_guid": "4e713cd0-34ce-c384-9103-83f26f08e093",
        "_active": false,
        "collapsed": false
      },
      "source": "**Log-Loss Function**",
      "execution_count": null,
      "cell_type": "markdown",
      "outputs": [],
      "execution_state": "idle"
    },
    {
      "metadata": {
        "_cell_guid": "1245e568-80bc-2c94-1f16-c0a301eb3aa3",
        "_active": false,
        "collapsed": false
      },
      "source": null,
      "execution_count": null,
      "cell_type": "code",
      "outputs": [],
      "execution_state": "idle"
    },
    {
      "metadata": {
        "_cell_guid": "9b464e8a-ab5b-6395-ee2e-a8bea8342d7e",
        "_active": false,
        "collapsed": false
      },
      "source": "# Importing :\nfrom sklearn.metrics import accuracy_score\n\n\naccuracy_score(y_test,y_pred)",
      "execution_count": null,
      "cell_type": "code",
      "outputs": [],
      "execution_state": "idle"
    },
    {
      "metadata": {
        "_cell_guid": "282fb932-88f5-84db-ac15-572476ecef71",
        "_active": false,
        "collapsed": false
      },
      "source": "## Submission : ##",
      "execution_count": null,
      "cell_type": "markdown",
      "outputs": [],
      "execution_state": "idle"
    },
    {
      "metadata": {
        "_cell_guid": "146f9957-4448-7b4f-3cd2-eb6d6a3ffafe",
        "_active": false,
        "collapsed": false
      },
      "source": "sub = pd.DataFrame()\nsub[\"listing_id\"] = train[\"listing_id\"]\nfor label in [\"high\", \"medium\", \"low\"]:\n    sub[label] = y[:, labels2idx[label]]\nsub.to_csv(\"submission_sharad.csv\", index=False)",
      "execution_count": null,
      "cell_type": "code",
      "outputs": [],
      "execution_state": "idle"
    },
    {
      "metadata": {
        "_cell_guid": "5f89fabd-4e62-cbbe-9af7-7b9a63a824ed",
        "_active": false,
        "collapsed": false
      },
      "source": null,
      "execution_count": null,
      "cell_type": "code",
      "outputs": [],
      "execution_state": "idle"
    }
  ]
}