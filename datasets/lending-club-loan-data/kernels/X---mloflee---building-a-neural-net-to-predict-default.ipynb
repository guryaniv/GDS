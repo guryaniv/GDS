{
  "cells": [
    {
      "cell_type": "markdown",
      "metadata": {
        "_cell_guid": "2bc8967d-d32d-355c-021d-9e47f25be04b"
      },
      "source": [
        "<h1> Introduction </h1>\n",
        "\n",
        "<p> The intention of this notebook is to utilize tensorflow to build a neural network that helps to predict default likelihood, and to visualize some of the insights generated from the study. This kernel will evolve over time as I continue to add features and study the Lending Club data </p>"
      ]
    },
    {
      "cell_type": "markdown",
      "metadata": {
        "_cell_guid": "48701902-6fc5-a857-4cc3-426c6f6d6563"
      },
      "source": [
        "<h3> Dependencies </h3>\n",
        "\n",
        "<p> Below the data and some external libraries are imported to begin the process </p>"
      ]
    },
    {
      "cell_type": "code",
      "execution_count": null,
      "metadata": {
        "_cell_guid": "a7785cb6-61fd-0a89-7d67-9de44fb26ef2"
      },
      "outputs": [],
      "source": [
        "#%matplotlib inline\n",
        "import numpy as np\n",
        "import pandas as pd\n",
        "import itertools\n",
        "from sklearn import preprocessing\n",
        "import matplotlib.pyplot as plt\n",
        "from __future__ import absolute_import\n",
        "from __future__ import division\n",
        "from __future__ import print_function\n",
        "import tensorflow as tf\n",
        "from tensorflow.contrib.learn.python.learn import metric_spec\n",
        "from tensorflow.contrib.learn.python.learn.estimators import _sklearn\n",
        "from tensorflow.contrib.learn.python.learn.estimators import estimator\n",
        "from tensorflow.contrib.learn.python.learn.estimators import model_fn\n",
        "from tensorflow.python.framework import ops\n",
        "from tensorflow.python.saved_model import loader\n",
        "from tensorflow.python.saved_model import tag_constants\n",
        "from tensorflow.python.util import compat\n",
        "tf.logging.set_verbosity(tf.logging.FATAL) \n",
        "df = pd.read_csv(\"../input/loan.csv\", low_memory=False)"
      ]
    },
    {
      "cell_type": "markdown",
      "metadata": {
        "_cell_guid": "7237e9f9-d392-2c0a-b555-0d58b1a50ceb"
      },
      "source": [
        "<h3> Creating the Target Label </h3>\n",
        "\n",
        "<p> From a prior notebook, I examined the 'loan_status' column. The cell below creates a column with binary value 0 for loans not in default, and binary value 1 for loans in default.  "
      ]
    },
    {
      "cell_type": "code",
      "execution_count": null,
      "metadata": {
        "_cell_guid": "ccf2aab3-dcf1-7c6d-0654-3e9a280147cb"
      },
      "outputs": [],
      "source": [
        "df['Default_Binary'] = int(0)\n",
        "for index, value in df.loan_status.iteritems():\n",
        "    if value == 'Default':\n",
        "        df.set_value(index,'Default_Binary',int(1))\n",
        "    if value == 'Charged Off':\n",
        "        df.set_value(index, 'Default_Binary',int(1))\n",
        "    if value == 'Late (31-120 days)':\n",
        "        df.set_value(index, 'Default_Binary',int(1))    \n",
        "    if value == 'Late (16-30 days)':\n",
        "        df.set_value(index, 'Default_Binary',int(1))\n",
        "    if value == 'Does not meet the credit policy. Status:Charged Off':\n",
        "        df.set_value(index, 'Default_Binary',int(1))    "
      ]
    },
    {
      "cell_type": "markdown",
      "metadata": {
        "_cell_guid": "66a153fd-76b9-02d7-326e-05ecaa02efeb"
      },
      "source": [
        "<h3> Creating a category feature for \"Loan Purpose\" </h3>\n",
        "\n",
        "<p> Below I create a new column for loan purpose, and assign each type of loan purpose an integer value. </p>"
      ]
    },
    {
      "cell_type": "code",
      "execution_count": null,
      "metadata": {
        "_cell_guid": "92d1330a-4919-1ad1-95c7-3380fc7e13d6"
      },
      "outputs": [],
      "source": [
        "df['Purpose_Cat'] = int(0) \n",
        "for index, value in df.purpose.iteritems():\n",
        "    if value == 'debt_consolidation':\n",
        "        df.set_value(index,'Purpose_Cat',int(1))\n",
        "    if value == 'credit_card':\n",
        "        df.set_value(index, 'Purpose_Cat',int(2))\n",
        "    if value == 'home_improvement':\n",
        "        df.set_value(index, 'Purpose_Cat',int(3))    \n",
        "    if value == 'other':\n",
        "        df.set_value(index, 'Purpose_Cat',int(4))    \n",
        "    if value == 'major_purchase':\n",
        "        df.set_value(index,'Purpose_Cat',int(5))\n",
        "    if value == 'small_business':\n",
        "        df.set_value(index, 'Purpose_Cat',int(6))\n",
        "    if value == 'car':\n",
        "        df.set_value(index, 'Purpose_Cat',int(7))    \n",
        "    if value == 'medical':\n",
        "        df.set_value(index, 'Purpose_Cat',int(8))   \n",
        "    if value == 'moving':\n",
        "        df.set_value(index, 'Purpose_Cat',int(9))    \n",
        "    if value == 'vacation':\n",
        "        df.set_value(index,'Purpose_Cat',int(10))\n",
        "    if value == 'house':\n",
        "        df.set_value(index, 'Purpose_Cat',int(11))\n",
        "    if value == 'wedding':\n",
        "        df.set_value(index, 'Purpose_Cat',int(12))    \n",
        "    if value == 'renewable_energy':\n",
        "        df.set_value(index, 'Purpose_Cat',int(13))     \n",
        "    if value == 'educational':\n",
        "        df.set_value(index, 'Purpose_Cat',int(14))  "
      ]
    },
    {
      "cell_type": "markdown",
      "metadata": {
        "_cell_guid": "76da5ae6-6ba6-ac54-7552-1729cce271fd"
      },
      "source": [
        "<h3> Scaling Interest Rates </h3>\n",
        "\n",
        "<p> Below I scale the interest rate for each loan to a value between 0 and 1 </p>"
      ]
    },
    {
      "cell_type": "code",
      "execution_count": null,
      "metadata": {
        "_cell_guid": "d3976cc7-71a4-1f53-8d6f-b05359c2d52b"
      },
      "outputs": [],
      "source": [
        "x = np.array(df.int_rate.values).reshape(-1,1) \n",
        "min_max_scaler = preprocessing.MinMaxScaler()\n",
        "x_scaled = min_max_scaler.fit_transform(x)\n",
        "df['int_rate_scaled'] = pd.DataFrame(x_scaled)\n",
        "print (df.int_rate_scaled[0:5])"
      ]
    },
    {
      "cell_type": "markdown",
      "metadata": {
        "_cell_guid": "0c0f2a88-1caa-14f3-35b8-2a2ea6e73c04"
      },
      "source": [
        "<h3> Scaling Loan Amount </h3>\n",
        "\n",
        "<p> Below I scale the amount funded for each loan to a value between 0 and 1 </p>"
      ]
    },
    {
      "cell_type": "code",
      "execution_count": null,
      "metadata": {
        "_cell_guid": "ed034055-7d37-7931-771f-6da895809b1a"
      },
      "outputs": [],
      "source": [
        "x = np.array(df.funded_amnt.values).reshape(-1,1) \n",
        "min_max_scaler = preprocessing.MinMaxScaler()\n",
        "x_scaled = min_max_scaler.fit_transform(x)\n",
        "df['funded_amnt_scaled'] = pd.DataFrame(x_scaled)\n",
        "print (df.funded_amnt_scaled[0:5])"
      ]
    },
    {
      "cell_type": "markdown",
      "metadata": {
        "_cell_guid": "c9ff9618-349b-014e-4b74-73a90f67d357"
      },
      "source": [
        "<h3> Setting up the Neural Network </h3>\n",
        "\n",
        "<p> Below I split the data into a training, testing, and prediction set </p>\n",
        "<p> After that, I assign the feature and target columns, and create the function that will be used to pass the data into the model </p>"
      ]
    },
    {
      "cell_type": "code",
      "execution_count": null,
      "metadata": {
        "_cell_guid": "d8e3775c-2f81-8b3a-35b1-13c998555c87"
      },
      "outputs": [],
      "source": [
        "training_set = df[0:500000] # Train on first 500k rows\n",
        "testing_set = df[500001:849999] # Test on next 350k rows\n",
        "prediction_set = df[850000:] # Predict on final 37k rows\n",
        "\n",
        "COLUMNS = ['Purpose_Cat','funded_amnt_scaled','int_rate_scaled','Default_Binary']          \n",
        "FEATURES = ['Purpose_Cat','funded_amnt_scaled','int_rate_scaled']\n",
        "LABEL = 'Default_Binary'\n",
        "\n",
        "def input_fn(data_set):\n",
        "    feature_cols = {k: tf.constant(data_set[k].values) for k in FEATURES} \n",
        "    labels = tf.constant(data_set[LABEL].values)\n",
        "    return feature_cols, labels"
      ]
    },
    {
      "cell_type": "markdown",
      "metadata": {
        "_cell_guid": "64d960f5-71af-a957-64ed-8e8e0bda34cc"
      },
      "source": [
        "<h3> Fitting The Model </h3>"
      ]
    },
    {
      "cell_type": "code",
      "execution_count": null,
      "metadata": {
        "_cell_guid": "f3cb8715-98e0-5baf-2a09-cbd8aca9e81c"
      },
      "outputs": [],
      "source": [
        "feature_cols = [tf.contrib.layers.real_valued_column(k)\n",
        "              for k in FEATURES]\n",
        "#config = tf.contrib.learn.RunConfig(keep_checkpoint_max=1) ######## DO NOT DELETE\n",
        "regressor = tf.contrib.learn.DNNRegressor(\n",
        "  feature_columns=feature_cols, hidden_units=[10, 20, 10], ) \n",
        "regressor.fit(input_fn=lambda: input_fn(training_set), steps=251)"
      ]
    },
    {
      "cell_type": "markdown",
      "metadata": {
        "_cell_guid": "c6226ab1-fa2b-1a7b-0e52-72da67dfb289"
      },
      "source": [
        "<h3> Evaluating the Model </h3>"
      ]
    },
    {
      "cell_type": "code",
      "execution_count": null,
      "metadata": {
        "_cell_guid": "2f0e6c5f-5b97-279e-086f-6fda35cf0161"
      },
      "outputs": [],
      "source": [
        "# Score accuracy\n",
        "ev = regressor.evaluate(input_fn=lambda: input_fn(testing_set), steps=10)\n",
        "loss_score = ev[\"loss\"]\n",
        "print(\"Loss: {0:f}\".format(loss_score))"
      ]
    },
    {
      "cell_type": "markdown",
      "metadata": {
        "_cell_guid": "d69b7b45-28e4-e108-8e13-5eb4aace72ac"
      },
      "source": [
        "<h3> Predicting on new data </h3>"
      ]
    },
    {
      "cell_type": "code",
      "execution_count": null,
      "metadata": {
        "_cell_guid": "4411bcb7-d7ad-1bdb-6871-a8779fc39530"
      },
      "outputs": [],
      "source": [
        "y = regressor.predict(input_fn=lambda: input_fn(prediction_set))\n",
        "predictions = list(itertools.islice(y, 37379))"
      ]
    },
    {
      "cell_type": "markdown",
      "metadata": {
        "_cell_guid": "21c01a6a-e787-f7f0-0b1e-f9a461c24553"
      },
      "source": [
        "<h3> Visualize Predictions Relative To Interest Rates </h3>"
      ]
    },
    {
      "cell_type": "code",
      "execution_count": null,
      "metadata": {
        "_cell_guid": "e8f808ed-bd4f-6894-72c3-1dfb7e0df76c"
      },
      "outputs": [],
      "source": [
        "plt.plot(prediction_set.int_rate_scaled, predictions, 'ro')\n",
        "plt.ylabel(\"Model Prediction Value\")\n",
        "plt.xlabel(\"Interest Rate of Loan (Scaled between 0-1)\")\n",
        "plt.show()"
      ]
    },
    {
      "cell_type": "markdown",
      "metadata": {
        "_cell_guid": "49d9523a-641e-562c-85dd-aeee3bbbb8a8"
      },
      "source": [
        "<h3> Visualize Predictions Relative to Loan Size </h3>"
      ]
    },
    {
      "cell_type": "code",
      "execution_count": null,
      "metadata": {
        "_cell_guid": "29581fa9-499c-5377-d62f-686ce6ca8942"
      },
      "outputs": [],
      "source": [
        "plt.plot(prediction_set.funded_amnt_scaled, predictions, 'ro')\n",
        "plt.ylabel(\"Model Prediction Value\")\n",
        "plt.xlabel(\"Funded Amount of Loan (Scaled between 0-1)\")\n",
        "plt.show()"
      ]
    },
    {
      "cell_type": "markdown",
      "metadata": {
        "_cell_guid": "f6b0be60-e5c3-bf1d-ccaf-d14663f21bfb"
      },
      "source": [
        "<h3> Visualize Predictions Relative to Loan Purpose </h3>"
      ]
    },
    {
      "cell_type": "code",
      "execution_count": null,
      "metadata": {
        "_cell_guid": "f42d09f7-5f4a-c8d3-3c9f-0dd2eb4f1797"
      },
      "outputs": [],
      "source": [
        "plt.plot(prediction_set.Purpose_Cat, predictions, 'ro')\n",
        "plt.ylabel(\"Default Prediction Value\")\n",
        "plt.xlabel(\"Loan Purpose\")\n",
        "plt.title(\"DNN Regressor Predicting Default By Loan Purpose\")\n",
        "fig_size = plt.rcParams[\"figure.figsize\"]\n",
        "fig_size[0] = 8\n",
        "fig_size[1] = 8\n",
        "plt.rcParams[\"figure.figsize\"] = fig_size\n",
        "labels = ['Debt Consolidation', 'Credit Card', 'Home Improvement', 'Other',\n",
        "         'Major Purchase', 'Small Business', 'Car', 'Medical',\n",
        "         'Moving', 'Vacation', 'House', 'Wedding',\n",
        "         'Renewable Energy']\n",
        "\n",
        "plt.xticks([1,2,3,4,5,6,7,8,9,10,11,12,13,14], labels, rotation='vertical')\n",
        "\n",
        "plt.show()"
      ]
    },
    {
      "cell_type": "code",
      "execution_count": null,
      "metadata": {
        "_cell_guid": "c87fba7a-8073-0859-957b-4a4250472e36"
      },
      "outputs": [],
      "source": ""
    }
  ],
  "metadata": {
    "_change_revision": 0,
    "_is_fork": false,
    "kernelspec": {
      "display_name": "Python 3",
      "language": "python",
      "name": "python3"
    },
    "language_info": {
      "codemirror_mode": {
        "name": "ipython",
        "version": 3
      },
      "file_extension": ".py",
      "mimetype": "text/x-python",
      "name": "python",
      "nbconvert_exporter": "python",
      "pygments_lexer": "ipython3",
      "version": "3.6.0"
    }
  },
  "nbformat": 4,
  "nbformat_minor": 0
}