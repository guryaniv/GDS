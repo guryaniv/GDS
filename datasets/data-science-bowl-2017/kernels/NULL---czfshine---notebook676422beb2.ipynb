{
  "cells": [
    {
      "cell_type": "code",
      "execution_count": null,
      "metadata": {
        "_cell_guid": "e158423d-c6e8-fc5e-0cb8-6691ec757fd1"
      },
      "outputs": [],
      "source": [
        "# This Python 3 environment comes with many helpful analytics libraries installed\n",
        "# It is defined by the kaggle/python docker image: https://github.com/kaggle/docker-python\n",
        "# For example, here's several helpful packages to load in \n",
        "\n",
        "import numpy as np # linear algebra\n",
        "import pandas as pd # data processing, CSV file I/O (e.g. pd.read_csv)\n",
        "\n",
        "# Input data files are available in the \"../input/\" directory.\n",
        "# For example, running this (by clicking run or pressing Shift+Enter) will list the files in the input directory\n",
        "\n",
        "from subprocess import chezck_output\n",
        "print(check_output([\"ls\", \"../input\"]).decode(\"utf8\"))\n",
        "\n",
        "# Any results you write to the current directory are saved as output."
      ]
    },
    {
      "cell_type": "code",
      "execution_count": null,
      "metadata": {
        "_cell_guid": "8adee6ed-9acd-5945-f9f2-f78d43994940"
      },
      "outputs": [],
      "source": [
        "import SimpleITK as sitk\n",
        "import numpy as np\n",
        "import csv\n",
        "from glob import glob\n",
        "import pandas as pd\n",
        "file_list=glob(luna_subset_path+\"*.mhd\")\n",
        "#####################\n",
        "#\n",
        "# Helper function to get rows in data frame associated \n",
        "# with each file\n",
        "def get_filename(case):\n",
        "    global file_list\n",
        "    for f in file_list:\n",
        "        if case in f:\n",
        "            return(f)\n",
        "#\n",
        "# The locations of the nodes\n",
        "df_node = pd.read_csv(luna_path+\"annotations.csv\")\n",
        "df_node[\"file\"] = df_node[\"seriesuid\"].apply(get_filename)\n",
        "df_node = df_node.dropna()\n",
        "#####\n",
        "#\n",
        "# Looping over the image files\n",
        "#\n",
        "fcount = 0\n",
        "for img_file in file_list:\n",
        "    print \"Getting mask for image file %s\" % img_file.replace(luna_subset_path,\"\")\n",
        "    mini_df = df_node[df_node[\"file\"]==img_file] #get all nodules associate with file\n",
        "    if len(mini_df)>0:       # some files may not have a nodule--skipping those \n",
        "        biggest_node = np.argsort(mini_df[\"diameter_mm\"].values)[-1]   # just using the biggest node\n",
        "        node_x = mini_df[\"coordX\"].values[biggest_node]\n",
        "        node_y = mini_df[\"coordY\"].values[biggest_node]\n",
        "        node_z = mini_df[\"coordZ\"].values[biggest_node]\n",
        "        diam = mini_df[\"diameter_mm\"].values[biggest_node]"
      ]
    },
    {
      "cell_type": "code",
      "execution_count": null,
      "metadata": {
        "_cell_guid": "1efb09a3-2aa6-818e-968d-f0074c8aced2"
      },
      "outputs": [],
      "source": ""
    }
  ],
  "metadata": {
    "_change_revision": 0,
    "_is_fork": false,
    "kernelspec": {
      "display_name": "Python 3",
      "language": "python",
      "name": "python3"
    },
    "language_info": {
      "codemirror_mode": {
        "name": "ipython",
        "version": 3
      },
      "file_extension": ".py",
      "mimetype": "text/x-python",
      "name": "python",
      "nbconvert_exporter": "python",
      "pygments_lexer": "ipython3",
      "version": "3.6.0"
    }
  },
  "nbformat": 4,
  "nbformat_minor": 0
}