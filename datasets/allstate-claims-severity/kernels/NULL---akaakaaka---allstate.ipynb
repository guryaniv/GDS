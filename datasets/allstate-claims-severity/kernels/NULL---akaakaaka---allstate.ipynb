{
  "cells": [
    {
      "cell_type": "code",
      "execution_count": null,
      "metadata": {
        "_cell_guid": "2bb46483-39e1-e353-6ff3-f2a4c93925be"
      },
      "outputs": [],
      "source": [
        "# This Python 3 environment comes with many helpful analytics libraries installed\n",
        "# It is defined by the kaggle/python docker image: https://github.com/kaggle/docker-python\n",
        "# For example, here's several helpful packages to load in \n",
        "\n",
        "import numpy as np # linear algebra\n",
        "import pandas as pd # data processing, CSV file I/O (e.g. pd.read_csv)\n",
        "\n",
        "# Input data files are available in the \"../input/\" directory.\n",
        "# For example, running this (by clicking run or pressing Shift+Enter) will list the files in the input directory\n",
        "\n",
        "from subprocess import check_output\n",
        "print(check_output([\"ls\", \"../input\"]).decode(\"utf8\"))\n",
        "\n",
        "# Any results you write to the current directory are saved as output."
      ]
    },
    {
      "cell_type": "code",
      "execution_count": null,
      "metadata": {
        "_cell_guid": "0196b073-5094-fdc9-3362-f8106f244273"
      },
      "outputs": [],
      "source": [
        "#more imports; mine, not there by default\n",
        "import matplotlib.pyplot as plt\n",
        "\n",
        "from sklearn.linear_model import LinearRegression\n",
        "\n",
        "from sklearn.tree import DecisionTreeRegressor\n",
        "\n",
        "from sklearn.ensemble import RandomForestRegressor\n",
        "\n",
        "from sklearn.model_selection import validation_curve\n",
        "from sklearn.model_selection import learning_curve\n",
        "from sklearn.model_selection import cross_val_score\n",
        "\n",
        "from sklearn.metrics import mean_absolute_error\n",
        "from sklearn.metrics import make_scorer\n",
        "mae_scoring = make_scorer(mean_absolute_error)\n",
        "\n",
        "from sklearn.decomposition import PCA\n",
        "\n",
        "from sklearn.neighbors import KNeighborsRegressor\n",
        "\n",
        "from numbers import Number"
      ]
    },
    {
      "cell_type": "code",
      "execution_count": null,
      "metadata": {
        "_cell_guid": "5f5e127c-3d5d-7549-840c-1f4141582cc0"
      },
      "outputs": [],
      "source": [
        "df = pd.read_csv(\"../input/train.csv\")"
      ]
    },
    {
      "cell_type": "code",
      "execution_count": null,
      "metadata": {
        "_cell_guid": "3eb96b06-8cd8-e5db-8632-741ad8ad5b1a"
      },
      "outputs": [],
      "source": [
        "#find columns w nas\n",
        "print(df.columns[pd.isnull(df).any()].tolist())\n",
        "\n",
        "\n",
        "src = list(df.columns)\n",
        "src.remove('id')\n",
        "src.remove('loss')\n",
        "src"
      ]
    },
    {
      "cell_type": "code",
      "execution_count": null,
      "metadata": {
        "_cell_guid": "98df83fc-fb75-65d0-c15b-3e27820b9139"
      },
      "outputs": [],
      "source": [
        "#dummy out categorical variables so we can use numerical dimensionality reduction + other methods\n",
        "\n",
        "ind = 1\n",
        "for var in src:\n",
        "    if var[:3] == \"cat\":\n",
        "        print(var)\n",
        "        root = \"dum\" + str(ind) + \"_\"\n",
        "        ind += 1\n",
        "        dums = pd.get_dummies(df[var])\n",
        "        dums.columns = [root + str(col) for col in dums.columns]\n",
        "        df = pd.concat([df,dums], axis=1)\n",
        "        \n",
        "        \n",
        "        \n",
        "        "
      ]
    },
    {
      "cell_type": "code",
      "execution_count": null,
      "metadata": {
        "_cell_guid": "4df1d0f1-58ac-faa6-7718-a6598358a119"
      },
      "outputs": [],
      "source": [
        "#normalize\n",
        "from numbers import Number\n",
        "for var in df.columns:\n",
        "    #for numerical variables\n",
        "    if isinstance(df[var][0],Number):\n",
        "        col = np.asarray(df[var])\n",
        "        df[var] = (col -np.mean(col))/np.std(col)\n",
        "        \n",
        "df.var()"
      ]
    },
    {
      "cell_type": "code",
      "execution_count": null,
      "metadata": {
        "_cell_guid": "8cbe18b1-1171-37fe-88e0-84ca3681ee6b"
      },
      "outputs": [],
      "source": [
        "df.shape()"
      ]
    },
    {
      "cell_type": "code",
      "execution_count": null,
      "metadata": {
        "_cell_guid": "1be5e9bb-4954-0463-7ce6-992dfaf5247b"
      },
      "outputs": [],
      "source": [
        "X = df._get_numeric_data()\n",
        "X = X.drop('loss',1)\n",
        "\n",
        "y = df['loss']"
      ]
    },
    {
      "cell_type": "code",
      "execution_count": null,
      "metadata": {
        "_cell_guid": "55f4d72a-519d-e3c1-da22-6890e115e811"
      },
      "outputs": [],
      "source": [
        "X = (X - X.mean())/np.sqrt(X.var())\n",
        "X.var()"
      ]
    },
    {
      "cell_type": "code",
      "execution_count": null,
      "metadata": {
        "_cell_guid": "feaf9f8b-e00f-1b0d-03de-8b4f33120e19"
      },
      "outputs": [],
      "source": [
        "pca = PCA()\n",
        "\n",
        "pca.fit(X)\n",
        "exp = pca.explained_variance_ratio_\n",
        "cumvar = np.cumsum(exp)\n",
        "print(cumvar)\n",
        "\n",
        "#save a copy of X, get a transformed copy\n",
        "Xbase = X.copy()\n",
        "XT = pca.transform(np.asarray(X))"
      ]
    },
    {
      "cell_type": "code",
      "execution_count": null,
      "metadata": {
        "_cell_guid": "5cf81d85-2b0e-3e27-c5d7-65447956d561"
      },
      "outputs": [],
      "source": [
        "XT = XT[:,:-3]"
      ]
    },
    {
      "cell_type": "code",
      "execution_count": null,
      "metadata": {
        "_cell_guid": "0caa565a-93e8-3971-6639-0c935862a8f6"
      },
      "outputs": [],
      "source": [
        "reg = KNeighborsRegressor()\n",
        "tovary = 'n_neighbors'\n",
        "vary_range = range(3,30,3)\n",
        "\n",
        "\n",
        "train_scores, valid_scores = validation_curve(reg, X, y, tovary, vary_range, scoring = mae_scoring)\n",
        "\n",
        "trainavg = np.mean(train_scores, axis=1)\n",
        "validavg = np.mean(valid_scores, axis=1)\n",
        "\n",
        "plt.clf()\n",
        "plt.plot(vary_range, trainavg, label='train scores', marker = '.', c = 'k')\n",
        "plt.plot(vary_range, validavg, label='valid scores', marker = '.', c = 'g')\n",
        "plt.show()\n"
      ]
    },
    {
      "cell_type": "code",
      "execution_count": null,
      "metadata": {
        "_cell_guid": "93b5bfbf-f32a-d023-dfce-d8f9b549412a"
      },
      "outputs": [],
      "source": [
        "reg = RandomForestRegressor(criterion = 'mae', n_estimators = 3)\n",
        "\n",
        "score = cross_val_score(reg,X,y,scoring = mae_scoring)\n",
        "score"
      ]
    },
    {
      "cell_type": "code",
      "execution_count": null,
      "metadata": {
        "_cell_guid": "f5fb098c-dee2-316b-dcf0-78adfa1c1453"
      },
      "outputs": [],
      "source": ""
    }
  ],
  "metadata": {
    "_change_revision": 0,
    "_is_fork": false,
    "kernelspec": {
      "display_name": "Python 3",
      "language": "python",
      "name": "python3"
    },
    "language_info": {
      "codemirror_mode": {
        "name": "ipython",
        "version": 3
      },
      "file_extension": ".py",
      "mimetype": "text/x-python",
      "name": "python",
      "nbconvert_exporter": "python",
      "pygments_lexer": "ipython3",
      "version": "3.5.2"
    }
  },
  "nbformat": 4,
  "nbformat_minor": 0
}