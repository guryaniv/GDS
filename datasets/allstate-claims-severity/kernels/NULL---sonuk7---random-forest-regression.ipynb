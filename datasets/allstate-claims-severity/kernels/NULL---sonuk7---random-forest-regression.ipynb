{
  "cells": [
    {
      "cell_type": "code",
      "execution_count": null,
      "metadata": {
        "_cell_guid": "ad1b7f61-e2f6-48a9-d9e3-1c0e66f9fda0"
      },
      "outputs": [],
      "source": [
        "# This Python 3 environment comes with many helpful analytics libraries installed\n",
        "# It is defined by the kaggle/python docker image: https://github.com/kaggle/docker-python\n",
        "# For example, here's several helpful packages to load in \n",
        "\n",
        "import numpy as np # linear algebra\n",
        "import pandas as pd # data processing, CSV file I/O (e.g. pd.read_csv)\n",
        "\n",
        "# Input data files are available in the \"../input/\" directory.\n",
        "# For example, running this (by clicking run or pressing Shift+Enter) will list the files in the input directory\n",
        "\n",
        "from subprocess import check_output\n",
        "print(check_output([\"ls\", \"../input\"]).decode(\"utf8\"))\n",
        "\n",
        "# Any results you write to the current directory are saved as output."
      ]
    },
    {
      "cell_type": "code",
      "execution_count": null,
      "metadata": {
        "_cell_guid": "38529e4f-6e5a-237a-6512-65139e10dc06"
      },
      "outputs": [],
      "source": [
        "train = pd.read_csv(r'../input/train.csv')\n",
        "test = pd.read_csv(r'../input/test.csv')"
      ]
    },
    {
      "cell_type": "code",
      "execution_count": null,
      "metadata": {
        "_cell_guid": "82931bc3-70f3-a015-8083-60c990b58b35"
      },
      "outputs": [],
      "source": [
        "features = [x for x in train.columns if x not in ['id','loss']]\n",
        "#print(features)\n",
        "\n",
        "cat_features = [x for x in train.select_dtypes(include=['object']).columns if x not in ['id','loss']]\n",
        "num_features = [x for x in train.select_dtypes(exclude=['object']).columns if x not in ['id','loss']]\n",
        "#print(cat_features)\n",
        "#print(num_features)"
      ]
    },
    {
      "cell_type": "code",
      "execution_count": null,
      "metadata": {
        "_cell_guid": "d22b62d1-c190-d562-1de7-d43eb913b5d9"
      },
      "outputs": [],
      "source": [
        "ntrain = train.shape[0]\n",
        "ntest = test.shape[0]\n",
        "train_test = pd.concat((train[features], test[features])).reset_index(drop=True)\n",
        "for c in range(len(cat_features)):\n",
        "    train_test[cat_features[c]] = train_test[cat_features[c]].astype('category').cat.codes\n",
        "\n",
        "train_x = train_test.iloc[:ntrain,:]\n",
        "test_x = train_test.iloc[ntrain:,:]\n",
        "\n",
        "#print(train_x)\n",
        "#print(test_x)\n",
        "print('Ok')"
      ]
    },
    {
      "cell_type": "code",
      "execution_count": null,
      "metadata": {
        "_cell_guid": "406e5182-c7a7-ef61-4a0a-46f4b7c3180e"
      },
      "outputs": [],
      "source": [
        "train['log_loss'] = np.log(train['loss'])"
      ]
    },
    {
      "cell_type": "code",
      "execution_count": null,
      "metadata": {
        "_cell_guid": "8c1402d8-8375-5d72-012b-9ed74ab38fca"
      },
      "outputs": [],
      "source": [
        "from sklearn.ensemble import RandomForestRegressor\n",
        "regressor = RandomForestRegressor(n_estimators=30, min_samples_split=1)\n",
        "regressor.fit(train_x, train['log_loss'])\n",
        "res = np.exp(regressor.predict(test_x))\n",
        "print('Ok')"
      ]
    },
    {
      "cell_type": "code",
      "execution_count": null,
      "metadata": {
        "_cell_guid": "8efb212f-53ce-0928-a8da-6defae9b2c49"
      },
      "outputs": [],
      "source": [
        "df = pd.DataFrame()\n",
        "df['id']=test['id']\n",
        "df['loss']=res\n",
        "df.to_csv('submission.csv',index=False)\n",
        "print('end')"
      ]
    }
  ],
  "metadata": {
    "_change_revision": 0,
    "_is_fork": false,
    "kernelspec": {
      "display_name": "Python 3",
      "language": "python",
      "name": "python3"
    },
    "language_info": {
      "codemirror_mode": {
        "name": "ipython",
        "version": 3
      },
      "file_extension": ".py",
      "mimetype": "text/x-python",
      "name": "python",
      "nbconvert_exporter": "python",
      "pygments_lexer": "ipython3",
      "version": "3.5.2"
    }
  },
  "nbformat": 4,
  "nbformat_minor": 0
}