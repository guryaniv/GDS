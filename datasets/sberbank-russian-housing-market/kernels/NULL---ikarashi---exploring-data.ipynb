{
  "cells": [
    {
      "cell_type": "markdown",
      "metadata": {
        "_cell_guid": "beb9f542-63ad-129b-eeaf-8f53cf33ce8c"
      },
      "source": [
        "# We explore data through plotting graphs."
      ]
    },
    {
      "cell_type": "code",
      "execution_count": null,
      "metadata": {
        "_cell_guid": "396d7cd1-5367-095a-6639-69b124c526a0"
      },
      "outputs": [],
      "source": [
        "# Import basic packages\n",
        "import pandas as pd\n",
        "import numpy as np\n",
        "pd.options.display.max_columns = None\n",
        "\n",
        "import matplotlib.pyplot as plt\n",
        "import seaborn as sns\n",
        "import plotly.offline as py\n",
        "py.init_notebook_mode()\n",
        "import plotly.graph_objs as go\n",
        "import plotly.figure_factory as ff\n",
        "from IPython.display import display\n",
        "\n",
        "# Output plots in notebook\n",
        "% matplotlib inline\n",
        "% config InlineBackend.figure_format = 'retina'\n",
        "\n",
        "import warnings\n",
        "warnings.filterwarnings(\"ignore\")\n",
        "\n",
        "from subprocess import check_output\n",
        "print(check_output([\"ls\", \"../input\"]).decode(\"utf8\"))"
      ]
    },
    {
      "cell_type": "markdown",
      "metadata": {
        "_cell_guid": "89f1bb31-d973-706d-61fa-2a355bf9184a"
      },
      "source": [
        "### First, We view train.csv and macro.csv to understand datasets"
      ]
    },
    {
      "cell_type": "markdown",
      "metadata": {
        "_cell_guid": "687e6f05-4e42-8d2f-23cc-5ba065d99101"
      },
      "source": [
        "### train.csv"
      ]
    },
    {
      "cell_type": "code",
      "execution_count": null,
      "metadata": {
        "_cell_guid": "f63e2a5b-ec84-f30c-b0c3-eaac2308f360"
      },
      "outputs": [],
      "source": [
        "train_data = pd.read_csv(\"../input/train.csv\")\n",
        "train_data.head()"
      ]
    },
    {
      "cell_type": "code",
      "execution_count": null,
      "metadata": {
        "_cell_guid": "6973415c-6668-8426-fb1b-de5144ba0436"
      },
      "outputs": [],
      "source": [
        "train_data.shape"
      ]
    },
    {
      "cell_type": "code",
      "execution_count": null,
      "metadata": {
        "_cell_guid": "c79f2401-e1d0-0332-9c57-01f1d2e764cd"
      },
      "outputs": [],
      "source": [
        "print(train_data.columns)"
      ]
    },
    {
      "cell_type": "code",
      "execution_count": null,
      "metadata": {
        "_cell_guid": "1cbfc2d8-bf91-87e9-6119-f053fa919357"
      },
      "outputs": [],
      "source": [
        "train_data.info(verbose=False)"
      ]
    },
    {
      "cell_type": "code",
      "execution_count": null,
      "metadata": {
        "_cell_guid": "b79cb6e1-dc00-de86-7c1c-9192863367bc"
      },
      "outputs": [],
      "source": [
        "train_data.isnull().sum().rename(\"NaN\").to_frame().transpose()"
      ]
    },
    {
      "cell_type": "markdown",
      "metadata": {
        "_cell_guid": "fa3cd887-6565-7d2d-0400-91ddf8b584cc"
      },
      "source": [
        "#### target value is \"price_doc\"\n",
        "* There are 30,421 train data and 7662 test data.\n",
        "* There are 291 variables\n",
        "* Some columns have many NaN value. So we can't remove NaN easily."
      ]
    },
    {
      "cell_type": "markdown",
      "metadata": {
        "_cell_guid": "175b2292-e382-f4a6-b31e-5f4a0f87b721"
      },
      "source": [
        "macro.csv"
      ]
    },
    {
      "cell_type": "code",
      "execution_count": null,
      "metadata": {
        "_cell_guid": "7b351388-cee2-b591-ff99-4510fae8fe70"
      },
      "outputs": [],
      "source": [
        "macro_data = pd.read_csv(\"../input/macro.csv\")\n",
        "macro_data.head()"
      ]
    },
    {
      "cell_type": "code",
      "execution_count": null,
      "metadata": {
        "_cell_guid": "561ff6a9-ddb0-8344-b71f-76e3ea3af18d"
      },
      "outputs": [],
      "source": [
        "macro_data.shape"
      ]
    },
    {
      "cell_type": "code",
      "execution_count": null,
      "metadata": {
        "_cell_guid": "4b1cee46-f9be-4b25-2483-2f8f72060fa4"
      },
      "outputs": [],
      "source": [
        "macro_data.info(verbose=False)"
      ]
    },
    {
      "cell_type": "code",
      "execution_count": null,
      "metadata": {
        "_cell_guid": "3ba933f0-7339-f868-e7a6-7f1beca0f82d"
      },
      "outputs": [],
      "source": [
        "macro_data.isnull().sum().rename(\"NaN\").to_frame().transpose()"
      ]
    },
    {
      "cell_type": "markdown",
      "metadata": {
        "_cell_guid": "a453f8fd-e3dd-0fea-9daf-2ddecd0d4aaf"
      },
      "source": [
        "### macro data is joined to the train and test sets on the \"timestamp\".\n",
        "* There are 100 columns.\n",
        "* There are many NaN values in some rows.\n",
        "\n",
        "We can't observe each columns as there are a lot of columns. \n",
        "\n",
        "# So Let's see target variable. \"price_doc\n",
        "\n",
        "### distplot"
      ]
    },
    {
      "cell_type": "code",
      "execution_count": null,
      "metadata": {
        "_cell_guid": "4e67f96b-60d1-5465-bd5e-44795860c63e"
      },
      "outputs": [],
      "source": [
        "sns.set(style=\"whitegrid\", font_scale=1.3)\n",
        "plt.figure(figsize=(15,8))\n",
        "ax = sns.distplot(train_data[\"price_doc\"])\n",
        "ax.set(xlim=(0,None))\n",
        "plt.title(\"Price_doc distribution\")"
      ]
    },
    {
      "cell_type": "code",
      "execution_count": null,
      "metadata": {
        "_cell_guid": "5ca664a5-3d07-507c-bcde-538331fe59e4"
      },
      "outputs": [],
      "source": [
        "train_data[\"price_doc\"].describe().to_frame().transpose()"
      ]
    },
    {
      "cell_type": "markdown",
      "metadata": {
        "_cell_guid": "5e7a12a3-6221-5559-0f9d-674a183356a0"
      },
      "source": [
        "mean: 7,123,035\n",
        "std: 4,780,111"
      ]
    },
    {
      "cell_type": "markdown",
      "metadata": {
        "_cell_guid": "bcf23e6c-659b-42ed-3e27-a4fb616cd53a"
      },
      "source": [
        "### correlation"
      ]
    },
    {
      "cell_type": "code",
      "execution_count": null,
      "metadata": {
        "_cell_guid": "6b6e6d47-f4d1-042a-19a2-a29a2e83f5dd"
      },
      "outputs": [],
      "source": [
        "corr_data = train_data.corr()\n",
        "corr_target = corr_data[[\"price_doc\"]]\n",
        "corr_target[\"sort\"] = corr_target[\"price_doc\"].abs()\n",
        "corr_target[\"column_name\"] = corr_target.index\n",
        "corr_target.sort_values(\"sort\", ascending=False, inplace=True)"
      ]
    },
    {
      "cell_type": "code",
      "execution_count": null,
      "metadata": {
        "_cell_guid": "be29039e-d739-a662-a309-0c577bf68b4e"
      },
      "outputs": [],
      "source": [
        "data = [go.Bar(\n",
        "            x=corr_target[\"column_name\"][1:15].values,\n",
        "            y=corr_target[\"price_doc\"][1:15].values\n",
        "        )]\n",
        "layout = go.Layout(\n",
        "            title=\"Top 15 high correlation variables\")\n",
        "fig = go.Figure(data=data, layout=layout)\n",
        "py.iplot(fig, filename=\"basic_bar\")"
      ]
    },
    {
      "cell_type": "markdown",
      "metadata": {
        "_cell_guid": "11515823-97c6-ab74-a876-82e6c9ccef8d"
      },
      "source": [
        "|Name| Description|\n",
        "|:-:|:-:|\n",
        "|num_room|number of living rooms|\n",
        "|full_sq|total area in square meters, including loggias, balconies and other non-residential areas|\n",
        "|sport_count_XXX|the number of sport within XXXm of the property|\n",
        "|trc_count_XXX|the number of shopping malls within XXXm of the property|\n",
        "|zd_vokzaly_avto_km|The distances km to the train station by car|\n",
        "|sadovoe_km|The distances km to the Garden Ring|\n",
        "|kremlin_km|The distances km to the city center|\n",
        "|bulvar_ring_km|The distances km to the Boulevard Ring|\n",
        "|ttk_km|The distances km to the Third Transport Ring|\n",
        "|office_sqm_XXX|square meters of office within XXXm of the property|\n",
        "|office_trc_XXX|square meters of shopping malls within XXXm of the property|"
      ]
    },
    {
      "cell_type": "code",
      "execution_count": null,
      "metadata": {
        "_cell_guid": "331f51e8-296c-9b58-3269-acc80c0108a9"
      },
      "outputs": [],
      "source": [
        "train_data[corr_target.index[1:15]].describe()"
      ]
    },
    {
      "cell_type": "code",
      "execution_count": null,
      "metadata": {
        "_cell_guid": "6c80bc8e-2f5b-7eb5-d629-8c5bd354223b"
      },
      "outputs": [],
      "source": [
        "train_data[corr_target.index[1:15]].isnull().sum().rename(\"NaN\").to_frame().transpose()"
      ]
    },
    {
      "cell_type": "markdown",
      "metadata": {
        "_cell_guid": "0d176424-3f29-b06c-6836-754bf9939da7"
      },
      "source": [
        "Looking at the top 20 correlations, we discover the following things.\n",
        "* Columns related with num_room and full_sq are more significant correlations than other variables of room size.\n",
        "* But there are 9,572 unknown number of rooms.\n",
        "* The number of sport and shopping malls are important variables.\n",
        "* Distances to\u3000the various ring are inversely propotional to the price_doc."
      ]
    },
    {
      "cell_type": "markdown",
      "metadata": {
        "_cell_guid": "d6badafe-a860-42b2-c6ae-47a1ad84e63f"
      },
      "source": [
        "### Next merge train and macro data"
      ]
    },
    {
      "cell_type": "code",
      "execution_count": null,
      "metadata": {
        "_cell_guid": "5f2e3f76-fc97-4d81-4191-4e9354e15556"
      },
      "outputs": [],
      "source": [
        "df = pd.merge(train_data, macro_data, on=\"timestamp\")\n",
        "df.head()"
      ]
    },
    {
      "cell_type": "code",
      "execution_count": null,
      "metadata": {
        "_cell_guid": "7c849f8e-ade5-a160-505b-3746df7bc852"
      },
      "outputs": [],
      "source": [
        "df.info(verbose=False)"
      ]
    },
    {
      "cell_type": "markdown",
      "metadata": {
        "_cell_guid": "497974eb-8fae-4bb4-d717-929f982d4aaf"
      },
      "source": [
        "### As there are 19 string variables, we convert them into int through dummy variables`enter code here`"
      ]
    },
    {
      "cell_type": "code",
      "execution_count": null,
      "metadata": {
        "_cell_guid": "928fda14-7ba4-cbb0-d2ee-743272169486"
      },
      "outputs": [],
      "source": [
        "df_object_cols = df.columns.drop(df._get_numeric_data().columns)\n",
        "df_object = df[df_object_cols]\n",
        "df_object.head()"
      ]
    },
    {
      "cell_type": "markdown",
      "metadata": {
        "_cell_guid": "051978b7-4f79-434f-a6de-f9b7b9901ff8"
      },
      "source": [
        "we convert timestamp into yyyy, mm, dd"
      ]
    },
    {
      "cell_type": "code",
      "execution_count": null,
      "metadata": {
        "_cell_guid": "6b64432e-2864-d78b-4352-177687ba1204"
      },
      "outputs": [],
      "source": [
        "dummies = pd.get_dummies(df_object.drop(\"timestamp\", axis=1))\n",
        "\n",
        "# timestamp\n",
        "dummies[\"Year\"] = df_object[\"timestamp\"].apply(lambda x: int(x.split(\"-\")[0]))\n",
        "dummies[\"Month\"] = df_object[\"timestamp\"].apply(lambda x: int(x.split(\"-\")[1]))\n",
        "dummies[\"Day\"] = df_object[\"timestamp\"].apply(lambda x: int(x.split(\"-\")[2]))"
      ]
    },
    {
      "cell_type": "markdown",
      "metadata": {
        "_cell_guid": "5effaff6-02fe-3640-d742-7cc942825b2a"
      },
      "source": [
        "### concate original dateframe"
      ]
    },
    {
      "cell_type": "code",
      "execution_count": null,
      "metadata": {
        "_cell_guid": "ef09132c-dbf2-6131-fc71-459354b5ce2f"
      },
      "outputs": [],
      "source": [
        "df = pd.concat([df._get_numeric_data(), dummies], axis=1)\n",
        "df.head()"
      ]
    },
    {
      "cell_type": "code",
      "execution_count": null,
      "metadata": {
        "_cell_guid": "0c58b17b-392f-8b9e-20fa-737280cde547"
      },
      "outputs": [],
      "source": [
        "df.info(verbose=False)"
      ]
    },
    {
      "cell_type": "code",
      "execution_count": null,
      "metadata": {
        "_cell_guid": "ba5a1acc-41d3-e97e-1b64-06f71ef84e2b"
      },
      "outputs": [],
      "source": [
        "df.isnull().sum().rename(\"NaN\").to_frame().transpose()"
      ]
    },
    {
      "cell_type": "markdown",
      "metadata": {
        "_cell_guid": "1b3e093a-a594-e48a-d31e-6856aaa994f3"
      },
      "source": [
        "# That's it for now"
      ]
    }
  ],
  "metadata": {
    "_change_revision": 0,
    "_is_fork": false,
    "kernelspec": {
      "display_name": "Python 3",
      "language": "python",
      "name": "python3"
    },
    "language_info": {
      "codemirror_mode": {
        "name": "ipython",
        "version": 3
      },
      "file_extension": ".py",
      "mimetype": "text/x-python",
      "name": "python",
      "nbconvert_exporter": "python",
      "pygments_lexer": "ipython3",
      "version": "3.6.0"
    }
  },
  "nbformat": 4,
  "nbformat_minor": 0
}