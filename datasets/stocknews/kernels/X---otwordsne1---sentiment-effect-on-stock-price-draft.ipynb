{
  "cells": [
    {
      "cell_type": "markdown",
      "metadata": {
        "_cell_guid": "d6b3fb06-877b-1122-949a-5d04d4203512"
      },
      "source": [
        "I approach this by analyzing the aggregate sentiment of the headlines of the day and use this to predict the next day's stock price change."
      ]
    },
    {
      "cell_type": "code",
      "execution_count": null,
      "metadata": {
        "_cell_guid": "9f9d26c6-4250-afbc-1b77-44ef60f2f126"
      },
      "outputs": [],
      "source": [
        "# This Python 3 environment comes with many helpful analytics libraries installed\n",
        "# It is defined by the kaggle/python docker image: https://github.com/kaggle/docker-python\n",
        "# For example, here's several helpful packages to load in \n",
        "\n",
        "import numpy as np # linear algebra\n",
        "import pandas as pd # data processing, CSV file I/O (e.g. pd.read_csv)\n",
        "\n",
        "# Input data files are available in the \"../input/\" directory.\n",
        "# For example, running this (by clicking run or pressing Shift+Enter) will list the files in the input directory\n",
        "\n",
        "from subprocess import check_output\n",
        "print(check_output([\"ls\", \"../input\"]).decode(\"utf8\"))\n",
        "\n",
        "# Any results you write to the current directory are saved as output."
      ]
    },
    {
      "cell_type": "code",
      "execution_count": null,
      "metadata": {
        "_cell_guid": "dc95c863-02ea-1a8f-0620-7013fde68a42"
      },
      "outputs": [],
      "source": [
        "data = pd.read_csv('../input/Combined_News_DJIA.csv')\n",
        "data.head()"
      ]
    },
    {
      "cell_type": "code",
      "execution_count": null,
      "metadata": {
        "_cell_guid": "53b4daaa-0dd9-10f6-7b1d-dba9cdfad383"
      },
      "outputs": [],
      "source": [
        "cols = data.columns[2:27]\n",
        "#print(cols)\n",
        "data[cols].head()\n",
        "headlines = data[cols]"
      ]
    },
    {
      "cell_type": "code",
      "execution_count": null,
      "metadata": {
        "_cell_guid": "5db91e2f-9219-6a11-8432-56113515d5d7"
      },
      "outputs": [],
      "source": [
        "from nltk.sentiment.vader import SentimentIntensityAnalyzer\n",
        "from nltk import tokenize"
      ]
    },
    {
      "cell_type": "code",
      "execution_count": null,
      "metadata": {
        "_cell_guid": "044c0cbe-faac-cff4-25c6-020dac170acf"
      },
      "outputs": [],
      "source": [
        "temp = aggregate_sentiment(headlines.iloc[0])\n",
        "temp1 = [x for x in temp]\n",
        "print(temp1[0])\n",
        "sid.polarity_scores(tokenize.sent_tokenize(temp1[0]))\n"
      ]
    },
    {
      "cell_type": "code",
      "execution_count": null,
      "metadata": {
        "_cell_guid": "36dc9f35-05bf-da2a-9f0a-d4aa506c591b"
      },
      "outputs": [],
      "source": [
        "#takes in a row of headlines for a date\n",
        "sid = SentimentIntensityAnalyzer()\n",
        "def aggregate_sentiment(headlines):\n",
        "    score = 0\n",
        "    sents = [tokenize.sent_tokenize(x) for x in headlines]\n",
        "    #for sent in sents:\n",
        "     #   score = score + sid.polarity_scores(sent)[0]\n",
        "    return sents"
      ]
    },
    {
      "cell_type": "code",
      "execution_count": null,
      "metadata": {
        "_cell_guid": "ccd73ab7-9eae-bc8d-f4a6-bc04fd00ea9b"
      },
      "outputs": [],
      "source": [
        "tokenized_lines = headlines.apply(lambda x: aggregate_sentiment(x))"
      ]
    }
  ],
  "metadata": {
    "_change_revision": 0,
    "_is_fork": false,
    "kernelspec": {
      "display_name": "Python 3",
      "language": "python",
      "name": "python3"
    },
    "language_info": {
      "codemirror_mode": {
        "name": "ipython",
        "version": 3
      },
      "file_extension": ".py",
      "mimetype": "text/x-python",
      "name": "python",
      "nbconvert_exporter": "python",
      "pygments_lexer": "ipython3",
      "version": "3.5.2"
    }
  },
  "nbformat": 4,
  "nbformat_minor": 0
}