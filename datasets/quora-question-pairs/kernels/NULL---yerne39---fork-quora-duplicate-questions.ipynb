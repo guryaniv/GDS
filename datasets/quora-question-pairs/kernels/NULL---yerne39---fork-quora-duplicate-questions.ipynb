{
  "cells": [
    {
      "cell_type": "markdown",
      "metadata": {
        "_cell_guid": "58c6a2bf-11ff-ca82-7516-c1e76126db1b"
      },
      "source": [
        ""
      ]
    },
    {
      "cell_type": "code",
      "execution_count": null,
      "metadata": {
        "_cell_guid": "d26a2660-656f-d231-323f-290077a00910"
      },
      "outputs": [],
      "source": [
        "# This Python 3 environment comes with many helpful analytics libraries installed\n",
        "# It is defined by the kaggle/python docker image: https://github.com/kaggle/docker-python\n",
        "# For example, here's several helpful packages to load in \n",
        "\n",
        "import numpy as np # linear algebra\n",
        "import pandas as pd # data processing, CSV file I/O (e.g. pd.read_csv)\n",
        "import matplotlib.pyplot as plt\n",
        "import seaborn as sns\n",
        "\n",
        "color = sns.color_palette()\n",
        "\n",
        "%matplotlib inline\n",
        "\n",
        "pd.options.mode.chained_assignment = None  # default='warn'\n",
        "\n",
        "# Input data files are available in the \"../input/\" directory.\n",
        "# For example, running this (by clicking run or pressing Shift+Enter) will list the files in the input directory\n",
        "\n",
        "from subprocess import check_output\n",
        "#print(check_output([\"ls\", \"../input\"]).decode(\"utf8\"))\n",
        "\n",
        "train_df = pd.read_csv(\"../input/train.csv\")\n",
        "test_df = pd.read_csv(\"../input/test.csv\")\n",
        "\n",
        "print(train_df.shape)\n",
        "print(test_df.shape)\n",
        "\n",
        "# Any results you write to the current directory are saved as output."
      ]
    },
    {
      "cell_type": "markdown",
      "metadata": {
        "_cell_guid": "2628a644-b8d1-f0c2-bce5-68d8c2a11534"
      },
      "source": [
        "let's view the top 5 lines of train_df"
      ]
    },
    {
      "cell_type": "code",
      "execution_count": null,
      "metadata": {
        "_cell_guid": "8ebb1197-aa27-af41-9420-85d96fb8d023"
      },
      "outputs": [],
      "source": [
        "train_df.head()"
      ]
    },
    {
      "cell_type": "markdown",
      "metadata": {
        "_cell_guid": "4828e04c-f4f1-1694-9a3c-c8d8ae7a8a3c"
      },
      "source": [
        "Now let's view the top few lines of test_df"
      ]
    },
    {
      "cell_type": "code",
      "execution_count": null,
      "metadata": {
        "_cell_guid": "92c01ec6-7bd4-f0a8-6521-e67634c578a1"
      },
      "outputs": [],
      "source": [
        "test_df.head()"
      ]
    },
    {
      "cell_type": "markdown",
      "metadata": {
        "_cell_guid": "9317c415-47bd-2d5d-c01a-376bd8f22f91"
      },
      "source": [
        "**Target Variable Exploration**"
      ]
    },
    {
      "cell_type": "code",
      "execution_count": null,
      "metadata": {
        "_cell_guid": "8637f8cc-0d59-d8e5-bcfc-7abcb416675e"
      },
      "outputs": [],
      "source": [
        "is_dup = train_df['is_duplicate'].value_counts()\n",
        "\n",
        "plt.figure(figsize=(8,4))\n",
        "sns.barplot(is_dup.index, is_dup.values, alpha=0.8, color=color[1])\n",
        "plt.ylabel('Number of Occurrences', fontsize=12)\n",
        "plt.xlabel('Is Duplicate', fontsize=12)\n",
        "plt.show()"
      ]
    },
    {
      "cell_type": "markdown",
      "metadata": {
        "_cell_guid": "3a1fca66-77d3-ac26-3276-286b5e6ec7e5"
      },
      "source": [
        "Let's check the number of non duplicates vs the number of duplicates"
      ]
    },
    {
      "cell_type": "code",
      "execution_count": null,
      "metadata": {
        "_cell_guid": "af404df0-9de9-db35-44b1-eb06159562b6"
      },
      "outputs": [],
      "source": [
        "is_dup"
      ]
    },
    {
      "cell_type": "markdown",
      "metadata": {
        "_cell_guid": "9b66a1ca-f7f3-20ec-5c4a-ce9f190e233f"
      },
      "source": [
        "In percentage:"
      ]
    },
    {
      "cell_type": "code",
      "execution_count": null,
      "metadata": {
        "_cell_guid": "e39f4f71-0c12-83ca-3873-4e1c2b5de32e"
      },
      "outputs": [],
      "source": [
        "is_dup / is_dup.sum()"
      ]
    }
  ],
  "metadata": {
    "_change_revision": 0,
    "_is_fork": false,
    "kernelspec": {
      "display_name": "Python 3",
      "language": "python",
      "name": "python3"
    },
    "language_info": {
      "codemirror_mode": {
        "name": "ipython",
        "version": 3
      },
      "file_extension": ".py",
      "mimetype": "text/x-python",
      "name": "python",
      "nbconvert_exporter": "python",
      "pygments_lexer": "ipython3",
      "version": "3.6.0"
    }
  },
  "nbformat": 4,
  "nbformat_minor": 0
}