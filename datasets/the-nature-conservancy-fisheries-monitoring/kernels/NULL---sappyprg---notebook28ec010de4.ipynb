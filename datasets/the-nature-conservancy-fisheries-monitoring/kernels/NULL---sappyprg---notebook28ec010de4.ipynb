{
  "cells": [
    {
      "cell_type": "code",
      "execution_count": null,
      "metadata": {
        "_cell_guid": "45c83b00-6183-b2c0-fbac-cb83751d0afc"
      },
      "outputs": [],
      "source": [
        "import numpy as np\n",
        "import pandas as pd\n",
        "import matplotlib.pyplot as plt\n",
        "%matplotlib inline\n",
        "import os, os.path\n",
        "from PIL import Image\n",
        "\n",
        "TRAIN_DIR = '../input/train'"
      ]
    },
    {
      "cell_type": "code",
      "execution_count": null,
      "metadata": {
        "_cell_guid": "a72ae61b-e2a9-3a1e-dbcb-3879a12613d1"
      },
      "outputs": [],
      "source": [
        "category = sorted(os.listdir(TRAIN_DIR))[1:]\n",
        "category"
      ]
    },
    {
      "cell_type": "code",
      "execution_count": null,
      "metadata": {
        "_cell_guid": "0e0333df-1b36-3857-855d-f9648d23ec27"
      },
      "outputs": [],
      "source": [
        "cat_num_list = []\n",
        "for cat in category:\n",
        "    n = len(os.listdir(os.path.join(TRAIN_DIR, cat)))\n",
        "    cat_num_list.append(n)\n",
        "    print('%s has %d images' % (cat, n))\n",
        "print('------------------')\n",
        "print('Total:', sum(cat_num_list), 'images')"
      ]
    },
    {
      "cell_type": "code",
      "execution_count": null,
      "metadata": {
        "_cell_guid": "8b012a11-e52d-f167-a5a4-47b044b10ba4"
      },
      "outputs": [],
      "source": [
        "train_rows = sum(cat_num_list)\n",
        "num_classes = len(cat_num_list)\n",
        "width, height, channel = (100, 60, 3)\n",
        "x_train = np.empty((train_rows, height, width, channel), dtype='float32')\n",
        "y_train = np.empty((train_rows, ), dtype='float32')"
      ]
    },
    {
      "cell_type": "code",
      "execution_count": null,
      "metadata": {
        "_cell_guid": "8165acbe-8e9f-4dd1-3296-c65895290b07"
      },
      "outputs": [],
      "source": [
        "idx = 0\n",
        "for i, cat in enumerate(category):\n",
        "    for filename in os.listdir(os.path.join(TRAIN_DIR, cat)):\n",
        "        img = Image.open(os.path.join(TRAIN_DIR, cat, filename))\n",
        "        img = img.resize((width, height))\n",
        "        x_train[idx] = np.array(img)\n",
        "        y_train[idx] = i\n",
        "        idx += 1\n",
        "        if idx%500 == 0:\n",
        "            print('read %d/%d' % (idx, train_rows))\n",
        "print('read %d/%d' % (idx, train_rows))            "
      ]
    },
    {
      "cell_type": "code",
      "execution_count": null,
      "metadata": {
        "_cell_guid": "444afa2b-57e2-9e37-aca8-af2d8d9b4a79"
      },
      "outputs": [],
      "source": [
        "from sklearn.ensemble import RandomForestClassifier\n",
        "from sklearn.model_selection import cross_val_score"
      ]
    },
    {
      "cell_type": "code",
      "execution_count": null,
      "metadata": {
        "_cell_guid": "4754f52e-0fea-0c45-cf5d-f95f3319d10c"
      },
      "outputs": [],
      "source": [
        "rfc = RandomForestClassifier()\n",
        "scores = cross_val_score(rfc, x_train.reshape(train_rows, -1), y_train, cv=3)"
      ]
    },
    {
      "cell_type": "code",
      "execution_count": null,
      "metadata": {
        "_cell_guid": "c9ff8698-70aa-d6b2-f7c5-32c2f7a6894f"
      },
      "outputs": [],
      "source": [
        "print('rfc:', scores)"
      ]
    },
    {
      "cell_type": "code",
      "execution_count": null,
      "metadata": {
        "_cell_guid": "99d629bc-e57f-2820-b196-cfe187532bce"
      },
      "outputs": [],
      "source": [
        "from xgboost import XGBClassifier\n",
        "xgb = XGBClassifier()"
      ]
    },
    {
      "cell_type": "code",
      "execution_count": null,
      "metadata": {
        "_cell_guid": "56dde97b-7921-8c89-2330-9d4129f26f3d"
      },
      "outputs": [],
      "source": [
        "scores = cross_val_score(xgb, x_train.reshape(train_rows, -1), y_train, cv=3)\n",
        "print('xgb:', scores)"
      ]
    },
    {
      "cell_type": "code",
      "execution_count": null,
      "metadata": {
        "_cell_guid": "79272480-6176-30f4-d5b7-82a86a6c15a4"
      },
      "outputs": [],
      "source": [
        "from sklearn.ensemble import RandomForestClassifier\n",
        "from sklearn.model_selection import cross_val_score\n",
        "\n",
        "rfc = RandomForestClassifier()\n",
        "scores = cross_val_score(rfc, x_train.reshape(train_rows,-1), y_train, cv=3)\n",
        "print('acc:', scores)"
      ]
    },
    {
      "cell_type": "code",
      "execution_count": null,
      "metadata": {
        "_cell_guid": "dc2429b1-2e85-585c-58e8-9c7696b7255a"
      },
      "outputs": [],
      "source": [
        "rfc.fit(x_train.reshape(train_rows, -1), y_train)"
      ]
    },
    {
      "cell_type": "code",
      "execution_count": null,
      "metadata": {
        "_cell_guid": "787af7c5-e5b2-7b4a-832d-a7b49e34caa1"
      },
      "outputs": [],
      "source": [
        "x_train[:2].reshape(2,-1).shape"
      ]
    },
    {
      "cell_type": "code",
      "execution_count": null,
      "metadata": {
        "_cell_guid": "8a76ed0d-c369-fa48-ea97-60f99c0980f8"
      },
      "outputs": [],
      "source": [
        "rfc.predict(x_train[:2].reshape(2,-1))"
      ]
    }
  ],
  "metadata": {
    "_change_revision": 0,
    "_is_fork": false,
    "kernelspec": {
      "display_name": "Python 3",
      "language": "python",
      "name": "python3"
    },
    "language_info": {
      "codemirror_mode": {
        "name": "ipython",
        "version": 3
      },
      "file_extension": ".py",
      "mimetype": "text/x-python",
      "name": "python",
      "nbconvert_exporter": "python",
      "pygments_lexer": "ipython3",
      "version": "3.6.0"
    }
  },
  "nbformat": 4,
  "nbformat_minor": 0
}