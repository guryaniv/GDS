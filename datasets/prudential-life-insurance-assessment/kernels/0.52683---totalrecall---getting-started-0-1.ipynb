{"cells":[
 {
  "cell_type": "code",
  "execution_count": null,
  "metadata": {
   "collapsed": true
  },
  "outputs": [],
  "source": "%matplotlib inline"
 },
 {
  "cell_type": "code",
  "execution_count": null,
  "metadata": {
   "collapsed": false
  },
  "outputs": [],
  "source": "# Imports\n\n# pandas\nimport pandas as pd\nfrom pandas import Series,DataFrame\n\n# numpy, matplotlib, seaborn\nimport numpy as np\nimport matplotlib.pyplot as plt\nimport seaborn as sns\nfrom scipy.stats import kendalltau\nsns.set_style('whitegrid')\n%matplotlib inline\n\nfrom sklearn import linear_model\n\n\n## import the data \ntrain = pd.read_csv(\"../input/train.csv\")\ntest = pd.read_csv(\"../input/test.csv\")\nsample_submission = pd.read_csv(\"../input/sample_submission.csv\")\n\n##print(train.shape)\n##print(train.head(n=5))\n##print(test.shape)\n##print(test.head(n=5))\n##print(sample_submission.head())"
 },
 {
  "cell_type": "code",
  "execution_count": null,
  "metadata": {
   "collapsed": false
  },
  "outputs": [],
  "source": "#### looking at the country distribution through a couple of variables \nfig, (axis1) = plt.subplots(1,1,figsize=(30,5))\nsns.countplot(x='Product_Info_2', data = train, hue = \"Response\", palette=\"husl\", ax=axis1)\n"
 },
 {
  "cell_type": "code",
  "execution_count": null,
  "metadata": {
   "collapsed": false
  },
  "outputs": [],
  "source": "##train.head()"
 },
 {
  "cell_type": "code",
  "execution_count": null,
  "metadata": {
   "collapsed": false
  },
  "outputs": [],
  "source": "test = train.iloc[:, [33, 34, 35, 36, 37, 38, 127]]\n\n#### looking at the country distribution through a couple of variables \nfig, (axis1) = plt.subplots(1,1,figsize=(15,5))\nsns.countplot(x='Family_Hist_2', data = test, hue = \"Response\", palette=\"husl\", ax=axis1)\n"
 },
 {
  "cell_type": "code",
  "execution_count": null,
  "metadata": {
   "collapsed": false
  },
  "outputs": [],
  "source": "# visualize the relationship between the features and the response using scatterplots\n#fig, axs = plt.subplots(1, 3, sharey=True)\n#data.plot(kind='scatter', x='TV', y='Sales', ax=axs[0], figsize=(16, 8))"
 },
 {
  "cell_type": "code",
  "execution_count": null,
  "metadata": {
   "collapsed": false
  },
  "outputs": [],
  "source": "#sns.regplot(x=\"Wt\", y=\"Response\", data=train)"
 },
 {
  "cell_type": "code",
  "execution_count": null,
  "metadata": {
   "collapsed": false
  },
  "outputs": [],
  "source": "#### submission #1 -- some bs linear regression\n#clf = linear_model.LinearRegression()\n#clf.fit(train['Ins_Age'], train['Response'])\n\n\nimport statsmodels.formula.api as smf\n#### simple linear model\n##lm = smf.ols(formula='Response ~ Ins_Age + Ht', data=train).fit() ### ~ 0.09\nlm = smf.ols(formula='Response ~ Ins_Age + Ht + Wt + BMI + Product_Info_2', data=train).fit() ### ~ 0.34\nlm = smf.ols(formula='Response ~ Ins_Age + Ht + Wt + BMI + Product_Info_2 + Family_Hist_1', data=train).fit() ### this gave an result of like ?\n"
 },
 {
  "cell_type": "code",
  "execution_count": null,
  "metadata": {
   "collapsed": false
  },
  "outputs": [],
  "source": "# check the coefficients\n#lm.params"
 },
 {
  "cell_type": "code",
  "execution_count": null,
  "metadata": {
   "collapsed": false
  },
  "outputs": [],
  "source": "##### benchmark #1 -- guess all 8's\n\n##result = []\n##for index, row in test.iterrows():\n##    result.append([row['Id'], 8])\n\n        \n##pd.DataFrame(result).to_csv('sub.csv', index = False, header = ['Id', 'Response'])\n\n\n###### guess #2 --- use a simple linear regression\ntest['Response'] = pd.DataFrame(lm.predict(test))\ntest['Response'] = test['Response'].round() ## round to the nearest category\ntest.Response = test.Response.astype(int)\ntest.loc[test['Response'] < 1,'Response'] = 1           ## put some caps on that shit!\ntest.loc[test['Response'] > 8,'Response'] = 8           ## put some caps on that shit!\n\nsubmission = test[['Id', 'Response']]\n\npd.DataFrame(submission).to_csv('sub.csv', index = False, header = ['Id', 'Response'])"
 },
 {
  "cell_type": "code",
  "execution_count": null,
  "metadata": {
   "collapsed": false
  },
  "outputs": [],
  "source": ""
 },
 {
  "cell_type": "code",
  "execution_count": null,
  "metadata": {
   "collapsed": false
  },
  "outputs": [],
  "source": ""
 },
 {
  "cell_type": "code",
  "execution_count": null,
  "metadata": {
   "collapsed": false
  },
  "outputs": [],
  "source": ""
 },
 {
  "cell_type": "code",
  "execution_count": null,
  "metadata": {
   "collapsed": false
  },
  "outputs": [],
  "source": ""
 }
],"metadata":{"kernelspec":{"display_name":"Python 3","language":"python","name":"python3"}}, "nbformat": 4, "nbformat_minor": 0}