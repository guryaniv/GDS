{
  "cells": [
    {
      "cell_type": "markdown",
      "metadata": {
        "_cell_guid": "7fa99f3e-de45-ef86-ce39-82d269044622"
      },
      "source": [
        "A 3d visualisation of 2 principal components and the 'y' variable in the Mercedes Kaggle Competition. We can see it is not that easy to distinguish prices based on just 2 principal components here. "
      ]
    },
    {
      "cell_type": "code",
      "execution_count": null,
      "metadata": {
        "_cell_guid": "9dff272d-a17f-b1da-4b84-e5e728de71d9"
      },
      "outputs": [],
      "source": [
        "#Setup Notebook\n",
        "import numpy as np # linear algebra\n",
        "import pandas as pd # data processing, CSV file I/O (e.g. pd.read_csv)\n",
        "from sklearn.preprocessing import LabelEncoder\n",
        "import matplotlib.pyplot as plt\n",
        "\n",
        "# read datasets\n",
        "train = pd.read_csv('../input/train.csv')\n",
        "\n",
        "# process columns, apply LabelEncoder to categorical features\n",
        "for c in train.columns:\n",
        "    if train[c].dtype == 'object':\n",
        "        lbl = LabelEncoder() \n",
        "        lbl.fit(list(train[c].values)) \n",
        "        train[c] = lbl.transform(list(train[c].values))\n",
        "        \n",
        "train = train[train['y']<180] #Remove price outlier \n",
        "y_train = train[\"y\"]"
      ]
    },
    {
      "cell_type": "code",
      "execution_count": null,
      "metadata": {
        "_cell_guid": "0ccec56f-0c9b-9239-b662-65387291cb2b"
      },
      "outputs": [],
      "source": [
        "##Add decomposed components: PCA / ICA etc.\n",
        "from sklearn.decomposition import PCA, FastICA\n",
        "n_comp = 2\n",
        "\n",
        "# PCA\n",
        "pca = PCA(n_components=n_comp, random_state=42)\n",
        "pca2_results_train = pca.fit_transform(train.drop([\"y\"], axis=1))\n",
        "\n",
        "pca_y = pd.concat([pd.DataFrame(pca2_results_train),pd.DataFrame(y_train)],axis=1)\n",
        "pca_y.columns = ['pca1','pca2','y']\n",
        "pca_y.head()"
      ]
    },
    {
      "cell_type": "code",
      "execution_count": null,
      "metadata": {
        "_cell_guid": "adbf73ea-a582-4303-d2f3-d8244220dc3f"
      },
      "outputs": [],
      "source": [
        "# Matplotlib Version\n",
        "from mpl_toolkits.mplot3d import Axes3D\n",
        "import pylab\n",
        "\n",
        "fig = pylab.figure()\n",
        "ax = Axes3D(fig)\n",
        "\n",
        "ax.scatter(pca_y.pca1, pca_y.pca2, pca_y.y,)\n",
        "plt.show()"
      ]
    },
    {
      "cell_type": "code",
      "execution_count": null,
      "metadata": {
        "_cell_guid": "dc44076c-0413-8780-52f2-e04697028a03"
      },
      "outputs": [],
      "source": [
        "#Plotly Interactive Version\n",
        "import plotly\n",
        "import plotly.plotly as py\n",
        "import plotly.graph_objs as go\n",
        "plotly.offline.init_notebook_mode()\n",
        "\n",
        "trace1 = go.Scatter3d(\n",
        "    x=pca_y.pca1,\n",
        "    y=pca_y.pca2,\n",
        "    z=pca_y.y,\n",
        "    mode='markers',\n",
        "    marker=dict(\n",
        "        size=12,\n",
        "        color=pca_y.y,                # set color to an array/list of desired values\n",
        "        colorscale='Viridis',   # choose a colorscale\n",
        "        opacity=0.8\n",
        "    )\n",
        ")\n",
        "\n",
        "data = [trace1]\n",
        "layout = go.Layout(\n",
        "    margin=dict(\n",
        "        l=0,\n",
        "        r=0,\n",
        "        b=0,\n",
        "        t=0\n",
        "    )\n",
        ")\n",
        "\n",
        "fig = go.Figure(data=data, layout=layout)\n",
        "plotly.offline.iplot(fig)"
      ]
    },
    {
      "cell_type": "code",
      "execution_count": null,
      "metadata": {
        "_cell_guid": "a4ccb46a-2e13-6fa0-999e-7d300deed2ff"
      },
      "outputs": [],
      "source": [
        ""
      ]
    }
  ],
  "metadata": {
    "_change_revision": 0,
    "_is_fork": false,
    "kernelspec": {
      "display_name": "Python 3",
      "language": "python",
      "name": "python3"
    },
    "language_info": {
      "codemirror_mode": {
        "name": "ipython",
        "version": 3
      },
      "file_extension": ".py",
      "mimetype": "text/x-python",
      "name": "python",
      "nbconvert_exporter": "python",
      "pygments_lexer": "ipython3",
      "version": "3.6.0"
    }
  },
  "nbformat": 4,
  "nbformat_minor": 0
}