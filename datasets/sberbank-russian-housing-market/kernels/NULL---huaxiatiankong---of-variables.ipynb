{
  "cells": [
    {
      "cell_type": "code",
      "execution_count": null,
      "metadata": {
        "_cell_guid": "15898b27-185d-4fe2-4050-82e177530574"
      },
      "outputs": [],
      "source": [
        "# This Python 3 environment comes with many helpful analytics libraries installed\n",
        "# It is defined by the kaggle/python docker image: https://github.com/kaggle/docker-python\n",
        "# For example, here's several helpful packages to load in \n",
        "\n",
        "import numpy as np # linear algebra\n",
        "import pandas as pd # data processing, CSV file I/O (e.g. pd.read_csv)\n",
        "\n",
        "# Input data files are available in the \"../input/\" directory.\n",
        "# For example, running this (by clicking run or pressing Shift+Enter) will list the files in the input directory\n",
        "\n",
        "from subprocess import check_output\n",
        "print(check_output([\"ls\", \"../input\"]).decode(\"utf8\"))\n",
        "\n",
        "import numpy as np # linear algebra\n",
        "import pandas as pd # data processing, CSV file I/O (e.g. pd.read_csv)\n",
        "import matplotlib.pyplot as plt\n",
        "# Any results you write to the current directory are saved as output."
      ]
    },
    {
      "cell_type": "code",
      "execution_count": null,
      "metadata": {
        "_cell_guid": "34a69a56-cd48-c7a4-3206-42956989897a"
      },
      "outputs": [],
      "source": [
        "df = pd.read_csv(\"../input/train.csv\")\n",
        "df.head()"
      ]
    },
    {
      "cell_type": "markdown",
      "metadata": {
        "_cell_guid": "82611ea7-8580-449a-71ef-373144abfd9e"
      },
      "source": [
        "**Lets look at the histogram to check price distribution**"
      ]
    },
    {
      "cell_type": "code",
      "execution_count": null,
      "metadata": {
        "_cell_guid": "031d6cf7-8434-9e5b-33b0-daae977d6fd3"
      },
      "outputs": [],
      "source": [
        "df.hist(column='price_doc', bins=100)\n",
        "plt.show()"
      ]
    },
    {
      "cell_type": "code",
      "execution_count": null,
      "metadata": {
        "_cell_guid": "fa508add-8c7a-dd60-db69-364321c7c3dd"
      },
      "outputs": [],
      "source": [
        "looks like "
      ]
    },
    {
      "cell_type": "code",
      "execution_count": null,
      "metadata": {
        "_cell_guid": "5c230e27-4bd5-6812-7742-05dbe4d01445"
      },
      "outputs": [],
      "source": [
        ""
      ]
    },
    {
      "cell_type": "code",
      "execution_count": null,
      "metadata": {
        "_cell_guid": "610331b8-e7d9-d856-37e8-00fba28ab679"
      },
      "outputs": [],
      "source": [
        " df['date_column'] = pd.to_datetime(df['timestamp'])\n",
        "df['mnth_yr'] = df['date_column'].apply(lambda x: x.strftime('%B-%Y'))\n",
        "df1=df[[\"price_doc\",\"mnth_yr\"]]\n",
        "df2=df1.groupby('mnth_yr')['price_doc'].mean()\n",
        "df2=pd.DataFrame(df2)\n",
        "df2.reset_index(inplace=True)\n",
        "df2['mnth_yr'] = pd.to_datetime(df2['mnth_yr'])\n",
        "df2.sort('mnth_yr')\n",
        "df2.plot(x='mnth_yr', y='price_doc')\n",
        "plt.figure()\n",
        "plt.show()"
      ]
    },
    {
      "cell_type": "code",
      "execution_count": null,
      "metadata": {
        "_cell_guid": "d75163ff-2b1f-c3f5-6974-cafd6fccc299"
      },
      "outputs": [],
      "source": [
        "import numpy as np\n",
        "import pandas as pd\n",
        "import matplotlib as mpl\n",
        "import matplotlib.pyplot as plt\n",
        "\n",
        "import seaborn as sns\n",
        "sns.set(style=\"whitegrid\", color_codes=True)"
      ]
    },
    {
      "cell_type": "code",
      "execution_count": null,
      "metadata": {
        "_cell_guid": "1c5d18d3-8b49-c5e5-fe95-5e9caf0c051d"
      },
      "outputs": [],
      "source": [
        "sns.countplot(x=\"build_year\", data=df[df.build_year>1900.0].sort_index(), palette=\"Greens_d\");"
      ]
    },
    {
      "cell_type": "code",
      "execution_count": null,
      "metadata": {
        "_cell_guid": "b5bccc67-3ccf-c2bc-4b05-83474c7c8da0"
      },
      "outputs": [],
      "source": [
        "sns.barplot(x=\"build_year\", y=\"price_doc\", data=df[df.build_year>1900.0].sort_index(),palette=\"Greens_d\");"
      ]
    },
    {
      "cell_type": "code",
      "execution_count": null,
      "metadata": {
        "_cell_guid": "1cd00f6f-a8c9-5405-0d58-5ccb1cf899f5"
      },
      "outputs": [],
      "source": [
        "cols=df.columns\n",
        "cols"
      ]
    },
    {
      "cell_type": "code",
      "execution_count": null,
      "metadata": {
        "_cell_guid": "d74988d4-0906-03d7-7142-61f694053408"
      },
      "outputs": [],
      "source": [
        ""
      ]
    }
  ],
  "metadata": {
    "_change_revision": 0,
    "_is_fork": false,
    "kernelspec": {
      "display_name": "Python 3",
      "language": "python",
      "name": "python3"
    },
    "language_info": {
      "codemirror_mode": {
        "name": "ipython",
        "version": 3
      },
      "file_extension": ".py",
      "mimetype": "text/x-python",
      "name": "python",
      "nbconvert_exporter": "python",
      "pygments_lexer": "ipython3",
      "version": "3.6.0"
    }
  },
  "nbformat": 4,
  "nbformat_minor": 0
}