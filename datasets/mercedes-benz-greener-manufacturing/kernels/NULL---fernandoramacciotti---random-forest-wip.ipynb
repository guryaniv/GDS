{
  "cells": [
    {
      "cell_type": "code",
      "execution_count": null,
      "metadata": {
        "_cell_guid": "43c0dfc0-26d7-d393-8ef3-a89292636ab9"
      },
      "outputs": [],
      "source": [
        "# This Python 3 environment comes with many helpful analytics libraries installed\n",
        "# It is defined by the kaggle/python docker image: https://github.com/kaggle/docker-python\n",
        "# For example, here's several helpful packages to load in \n",
        "\n",
        "import numpy as np # linear algebra\n",
        "import pandas as pd # data processing, CSV file I/O (e.g. pd.read_csv)\n",
        "import matplotlib.pyplot as plt\n",
        "\n",
        "# Input data files are available in the \"../input/\" directory.\n",
        "# For example, running this (by clicking run or pressing Shift+Enter) will list the files in the input directory\n",
        "\n",
        "from subprocess import check_output\n",
        "print(check_output([\"ls\", \"../input\"]).decode(\"utf8\"))\n",
        "\n",
        "# Any results you write to the current directory are saved as output."
      ]
    },
    {
      "cell_type": "code",
      "execution_count": null,
      "metadata": {
        "_cell_guid": "29abaec7-7fbb-3615-6c68-e952c5bdf9ab"
      },
      "outputs": [],
      "source": [
        "train = pd.read_csv('../input/train.csv')\n",
        "test = pd.read_csv('../input/test.csv')"
      ]
    },
    {
      "cell_type": "code",
      "execution_count": null,
      "metadata": {
        "_cell_guid": "8291e259-0db8-9942-9cba-4068b3250be6"
      },
      "outputs": [],
      "source": [
        "from sklearn.preprocessing import LabelEncoder\n",
        "\n",
        "for c in train.columns:\n",
        "    if train[c].dtype == 'object':\n",
        "        lbl = LabelEncoder() \n",
        "        lbl.fit(list(train[c].values) + list(test[c].values)) \n",
        "        train[c] = lbl.transform(list(train[c].values))\n",
        "        test[c] = lbl.transform(list(test[c].values))"
      ]
    },
    {
      "cell_type": "code",
      "execution_count": null,
      "metadata": {
        "_cell_guid": "c8db98b2-ce68-b1bd-bb90-33dc0a28ba64"
      },
      "outputs": [],
      "source": [
        "from sklearn.decomposition import PCA\n",
        "\n",
        "pca = PCA()\n",
        "pca.fit(train.drop(['y'], axis = 1).dropna(how = 'any'))"
      ]
    },
    {
      "cell_type": "code",
      "execution_count": null,
      "metadata": {
        "_cell_guid": "a59981f3-6207-14c8-1029-afccfc0bdc6c"
      },
      "outputs": [],
      "source": [
        "cumm_explained_variance = [pca.explained_variance_[0]]\n",
        "for i in range(1,len(pca.explained_variance_)):\n",
        "    cumm_explained_variance.append(cumm_explained_variance[i-1] + pca.explained_variance_[i])\n",
        "\n",
        "plt.plot(range(1,len(pca.explained_variance_)+1),cumm_explained_variance/np.sum(pca.explained_variance_), linewidth=2)\n",
        "plt.bar(range(1,len(pca.explained_variance_)+1), pca.explained_variance_/np.sum(pca.explained_variance_), align='center', alpha=0.5)\n",
        "plt.axis('tight')\n",
        "plt.xlabel('# of PCAs')\n",
        "plt.ylabel('Percentage of explained variance')\n"
      ]
    },
    {
      "cell_type": "code",
      "execution_count": null,
      "metadata": {
        "_cell_guid": "325172d0-ece9-d066-6855-4d7b05995a60"
      },
      "outputs": [],
      "source": [
        "pca.explained_variance_ratio_[0]"
      ]
    },
    {
      "cell_type": "code",
      "execution_count": null,
      "metadata": {
        "_cell_guid": "74a08b98-959d-7c44-2814-0b6256b847e4"
      },
      "outputs": [],
      "source": [
        "pd.scatter_matrix(train)"
      ]
    },
    {
      "cell_type": "code",
      "execution_count": null,
      "metadata": {
        "_cell_guid": "8f8a48ea-5b19-344f-0504-f626625f8428"
      },
      "outputs": [],
      "source": [
        "pc"
      ]
    }
  ],
  "metadata": {
    "_change_revision": 0,
    "_is_fork": false,
    "kernelspec": {
      "display_name": "Python 3",
      "language": "python",
      "name": "python3"
    },
    "language_info": {
      "codemirror_mode": {
        "name": "ipython",
        "version": 3
      },
      "file_extension": ".py",
      "mimetype": "text/x-python",
      "name": "python",
      "nbconvert_exporter": "python",
      "pygments_lexer": "ipython3",
      "version": "3.6.0"
    }
  },
  "nbformat": 4,
  "nbformat_minor": 0
}