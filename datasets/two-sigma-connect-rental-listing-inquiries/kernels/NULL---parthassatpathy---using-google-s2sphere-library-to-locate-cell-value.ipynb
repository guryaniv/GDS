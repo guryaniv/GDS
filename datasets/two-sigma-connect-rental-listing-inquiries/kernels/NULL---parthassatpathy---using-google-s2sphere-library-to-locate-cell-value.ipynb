{
  "cells": [
    {
      "cell_type": "markdown",
      "metadata": {
        "_cell_guid": "d9f0cdaf-7295-4acf-ff28-8228b6d5ac8b"
      },
      "source": ""
    },
    {
      "cell_type": "code",
      "execution_count": null,
      "metadata": {
        "_cell_guid": "746dd5ce-dcce-ba4d-5350-072a8a9e9069"
      },
      "outputs": [],
      "source": [
        "import numpy as np\n",
        "import pandas as pd\n",
        "import s2sphere"
      ]
    },
    {
      "cell_type": "code",
      "execution_count": null,
      "metadata": {
        "_cell_guid": "647db609-d6ec-65ce-66ad-98d7afe03732"
      },
      "outputs": [],
      "source": [
        "train_df = pd.read_json('../input/train.json')\n",
        "test_df = pd.read_json('../input/test.json')"
      ]
    },
    {
      "cell_type": "code",
      "execution_count": null,
      "metadata": {
        "_cell_guid": "53aae2ad-b2a7-523c-8211-ebaf0bfa8f9f"
      },
      "outputs": [],
      "source": [
        "lat = train_df.latitude.values.tolist()\n",
        "lon = train_df.longitude.values.tolist()\n",
        "\n",
        "cellId1 = []\n",
        "cellId2 = []\n",
        "cellId3 = []\n",
        "for i in range(0,len(lat)):\n",
        "    p1 = s2sphere.LatLng.from_degrees(lat[i], lon[i])\n",
        "    cell = s2sphere.CellId.from_lat_lng(p1)\n",
        "    cid = str(cell.id())\n",
        "    #print(cid)\n",
        "    ##cid is a 19 digit number so python storing it as Object, not number\n",
        "    ##So I am converting it into 3 numbers\n",
        "    cellId1.append(int(cid[:6]))\n",
        "    cellId2.append(int(cid[6:12]))\n",
        "    cellId3.append(int(cid[12:19]))\n",
        "    \n",
        "\n",
        "se = pd.Series(cellId1)\n",
        "train_df['cellId1'] = se.values\n",
        "\n",
        "se = pd.Series(cellId2)\n",
        "train_df['cellId2'] = se.values\n",
        "\n",
        "se = pd.Series(cellId3)\n",
        "train_df['cellId3'] = se.values\n",
        "\n",
        "lat = test_df.latitude.values.tolist()\n",
        "lon = test_df.longitude.values.tolist()\n",
        "\n",
        "cellId1 = []\n",
        "cellId2 = []\n",
        "cellId3 = []\n",
        "for i in range(0,len(lat)):\n",
        "    p1 = s2sphere.LatLng.from_degrees(lat[i], lon[i])\n",
        "    cell = s2sphere.CellId.from_lat_lng(p1)\n",
        "    cid = str(cell.id())\n",
        "    #print(cid)\n",
        "    cellId1.append(int(cid[:6]))\n",
        "    cellId2.append(int(cid[6:12]))\n",
        "    cellId3.append(int(cid[12:19]))\n",
        "    \n",
        "\n",
        "se = pd.Series(cellId1)\n",
        "test_df['cellId1'] = se.values\n",
        "\n",
        "se = pd.Series(cellId2)\n",
        "test_df['cellId2'] = se.values\n",
        "\n",
        "se = pd.Series(cellId1)\n",
        "test_df['cellId3'] = se.values\n",
        "#selectedFeatures.extend(['cellId1','cellId2','cellId3'])"
      ]
    },
    {
      "cell_type": "code",
      "execution_count": null,
      "metadata": {
        "_cell_guid": "11c3cdfa-54b0-cdea-657e-d80f4b73c0f0"
      },
      "outputs": [],
      "source": [
        "train_df.head()"
      ]
    },
    {
      "cell_type": "code",
      "execution_count": null,
      "metadata": {
        "_cell_guid": "b64042cd-8eb5-df92-2867-1338a552a6d2"
      },
      "outputs": [],
      "source": [
        "test_df.head()"
      ]
    },
    {
      "cell_type": "code",
      "execution_count": null,
      "metadata": {
        "_cell_guid": "935865db-286f-9629-8980-a401bde44c52"
      },
      "outputs": [],
      "source": ""
    }
  ],
  "metadata": {
    "_change_revision": 0,
    "_is_fork": false,
    "kernelspec": {
      "display_name": "Python 3",
      "language": "python",
      "name": "python3"
    },
    "language_info": {
      "codemirror_mode": {
        "name": "ipython",
        "version": 3
      },
      "file_extension": ".py",
      "mimetype": "text/x-python",
      "name": "python",
      "nbconvert_exporter": "python",
      "pygments_lexer": "ipython3",
      "version": "3.6.0"
    }
  },
  "nbformat": 4,
  "nbformat_minor": 0
}