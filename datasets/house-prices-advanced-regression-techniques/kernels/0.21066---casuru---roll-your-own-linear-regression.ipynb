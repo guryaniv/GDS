{
  "cells": [
    {
      "cell_type": "markdown",
      "metadata": {
        "_cell_guid": "ce42d2d6-b337-8b3e-dbf8-fb9b2b0d14a9"
      },
      "source": ""
    },
    {
      "cell_type": "code",
      "execution_count": null,
      "metadata": {
        "_cell_guid": "b8f7c2fd-b9fb-6c74-8818-9a0d296dceb4"
      },
      "outputs": [],
      "source": [
        "# This Python 3 environment comes with many helpful analytics libraries installed\n",
        "# It is defined by the kaggle/python docker image: https://github.com/kaggle/docker-python\n",
        "# For example, here's several helpful packages to load in \n",
        "\n",
        "import numpy as np\n",
        "import pandas as pd\n",
        "from sklearn.feature_selection import SelectKBest, f_regression\n",
        "from sklearn.preprocessing import StandardScaler\n",
        "import matplotlib.pyplot as plt\n",
        "\n",
        "# Input data files are available in the \"../input/\" directory.\n",
        "# For example, running this (by clicking run or pressing Shift+Enter) will list the files in the input directory\n",
        "\n",
        "from subprocess import check_output\n",
        "print(check_output([\"ls\", \"../input\"]).decode(\"utf8\"))\n",
        "\n",
        "# Any results you write to the current directory are saved as output."
      ]
    },
    {
      "cell_type": "code",
      "execution_count": null,
      "metadata": {
        "_cell_guid": "6ea19d0c-a1d2-c18c-bbb2-8d8b2e8ecac6"
      },
      "outputs": [],
      "source": [
        "class LinearRegression:\n",
        "    \n",
        "    \n",
        "    def __init__(self, X, y, max_iter=1000):\n",
        "        \n",
        "        self.X = self.add_bias(X)\n",
        "        self.y = y\n",
        "        self.weights = np.random.randn(self.X.shape[1])\n",
        "        self.max_iter = max_iter\n",
        "        \n",
        "    def cost(self):\n",
        "        \n",
        "        return sum((self.predict(self.X) - self.y)**2)/(2* len(self.y))\n",
        "    \n",
        "    def gradient(self, weights):\n",
        "        \n",
        "        return np.array([(1/self.X.shape[0]) * sum((self.predict(self.X) - self.y) * (self.X[:, w])) for w in range(len(weights))])\n",
        "        \n",
        "    def gradient_descent(self, learning_rate = 0.01, loop=0):\n",
        "        \n",
        "        while loop < self.max_iter:\n",
        "            \n",
        "            update = learning_rate * self.gradient(self.weights)\n",
        "            self.weights = self.weights - update\n",
        "            loop+=1\n",
        "          \n",
        "        return self\n",
        "        \n",
        "        \n",
        "    def add_bias(self, X):\n",
        "        \n",
        "        return np.concatenate((np.ones((X.shape[0], 1)), X), axis=1)\n",
        "        \n",
        "    def predict(self, X):\n",
        "      \n",
        "        return np.array([np.dot(self.weights, x) for x in X])"
      ]
    },
    {
      "cell_type": "code",
      "execution_count": null,
      "metadata": {
        "_cell_guid": "691d52d1-9839-3c18-8a3b-89a8aba62764"
      },
      "outputs": [],
      "source": [
        "train = pd.read_csv('../input/train.csv')\n",
        "test = pd.read_csv('../input/test.csv')"
      ]
    },
    {
      "cell_type": "code",
      "execution_count": null,
      "metadata": {
        "_cell_guid": "b0f87d86-8be0-8202-881c-5560cb73a7f4"
      },
      "outputs": [],
      "source": [
        "feats = train.dtypes[train.dtypes != \"object\"].index[1:]\n",
        "for feat in feats[:-1]:\n",
        "    test[feat] = test[feat].fillna(test[feat].mean())\n",
        "    train[feat] = train[feat].fillna(train[feat].mean())\n",
        "\n",
        "targets = train['SalePrice'].as_matrix()\n",
        "train_features = StandardScaler().fit_transform(train[feats[:-1]].as_matrix())\n",
        "test_features = StandardScaler().fit_transform(test[feats[:-1]].as_matrix())\n",
        "selector = SelectKBest(f_regression, 20)\n",
        "selector.fit(train_features, targets)\n",
        "train_features = selector.transform(train_features)\n",
        "test_features = selector.transform(test_features)"
      ]
    },
    {
      "cell_type": "code",
      "execution_count": null,
      "metadata": {
        "_cell_guid": "f13c32ca-c1fc-1974-7b65-512b054a61ea"
      },
      "outputs": [],
      "source": [
        "test_features.shape"
      ]
    },
    {
      "cell_type": "code",
      "execution_count": null,
      "metadata": {
        "_cell_guid": "b33f948b-f0ef-e459-392e-d9a089809c76"
      },
      "outputs": [],
      "source": [
        "reg = LinearRegression(train_features, targets, 10000)\n",
        "reg.gradient_descent()\n",
        "\n",
        "pd.DataFrame({\n",
        "    'Id':test['Id'],\n",
        "     'SalePrice':reg.predict(reg.add_bias(test_features))\n",
        "}).to_csv('sub.csv',index=False)"
      ]
    },
    {
      "cell_type": "code",
      "execution_count": null,
      "metadata": {
        "_cell_guid": "bbb7a260-047c-72cf-c797-21c1625847ad"
      },
      "outputs": [],
      "source": [
        "plt.scatter(targets, reg.predict(reg.X))\n",
        "plt.title(\"Actual vs Predicted\")\n",
        "plt.show()"
      ]
    }
  ],
  "metadata": {
    "_change_revision": 0,
    "_is_fork": false,
    "kernelspec": {
      "display_name": "Python 3",
      "language": "python",
      "name": "python3"
    },
    "language_info": {
      "codemirror_mode": {
        "name": "ipython",
        "version": 3
      },
      "file_extension": ".py",
      "mimetype": "text/x-python",
      "name": "python",
      "nbconvert_exporter": "python",
      "pygments_lexer": "ipython3",
      "version": "3.5.2"
    }
  },
  "nbformat": 4,
  "nbformat_minor": 0
}