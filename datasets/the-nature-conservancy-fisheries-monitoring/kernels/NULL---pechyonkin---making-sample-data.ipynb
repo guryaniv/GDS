{
  "cells": [
    {
      "cell_type": "markdown",
      "metadata": {
        "_cell_guid": "b94d79d4-5724-0d60-86f5-9b884cae34a0"
      },
      "source": [
        "## The Plan\n",
        "1. Put test data in 'unknown' folder\n",
        "2. Make sample data\n",
        "3. Implement a simple VGG16 model (locally)\n",
        "4. Examine results\n",
        "5. Save to specified format\n",
        "6. Run remotely on full data"
      ]
    },
    {
      "cell_type": "markdown",
      "metadata": {
        "_cell_guid": "fd145676-6cb4-70b9-72ea-a2b13c70593c"
      },
      "source": [
        "## 1. Put test data in 'unknown' folder"
      ]
    },
    {
      "cell_type": "code",
      "execution_count": null,
      "metadata": {
        "_cell_guid": "e2e9efa3-dc71-822e-b46c-a04f724138f9"
      },
      "outputs": [],
      "source": [
        "import os, sys\n",
        "import numpy as np\n",
        "from glob import glob"
      ]
    },
    {
      "cell_type": "code",
      "execution_count": null,
      "metadata": {
        "_cell_guid": "81d2658d-7f14-a60f-603a-b479ec8005b7"
      },
      "outputs": [],
      "source": [
        "# for setting aside sample\n",
        "p_sample = 0.1\n",
        "def calc_sample_size(n_files, proportion=p_sample):\n",
        "    return int(np.round(n_files * proportion))"
      ]
    },
    {
      "cell_type": "code",
      "execution_count": null,
      "metadata": {
        "_cell_guid": "c0522ab8-4bc6-10cb-3a6e-62688d9ae8fb"
      },
      "outputs": [],
      "source": [
        "# data for this competition should be in folder /data/fishes/\n",
        "cwd = os.getcwd()\n",
        "DATA_DIR = cwd + '/data/fishes/' # for full training\n",
        "DATA_DIR_SAMPLE = cwd + '/data/fishes/sample/' # for local training (will be created if doesn't yet exist)"
      ]
    },
    {
      "cell_type": "code",
      "execution_count": null,
      "metadata": {
        "_cell_guid": "52287a56-dbca-872f-a3c2-9c996635f997"
      },
      "outputs": [],
      "source": [
        "dirs = os.listdir(DATA_DIR)\n",
        "dirs = [d for d in dirs if (os.path.isdir(DATA_DIR + d) & (d != 'sample'))]\n",
        "dirs"
      ]
    },
    {
      "cell_type": "markdown",
      "metadata": {
        "_cell_guid": "599f6f30-2f3d-c194-8569-4450dab716d8"
      },
      "source": [
        "Theano requires each corresponding class' photos to be in a separate folder.\n",
        "This is why the `unknown` folder is created for the test class."
      ]
    },
    {
      "cell_type": "code",
      "execution_count": null,
      "metadata": {
        "_cell_guid": "c3895ad0-e7ac-248f-6950-bdd904f72520"
      },
      "outputs": [],
      "source": [
        "if not os.path.exists(DATA_DIR+'/test_stg1/unknown'):\n",
        "    os.makedirs(DATA_DIR+'/test_stg1/unknown')"
      ]
    },
    {
      "cell_type": "markdown",
      "metadata": {
        "_cell_guid": "453cdedb-c892-9f83-bb9e-cb394ed0aa6c"
      },
      "source": [
        "Make `sample` folder if it doesn't already exist."
      ]
    },
    {
      "cell_type": "code",
      "execution_count": null,
      "metadata": {
        "_cell_guid": "6898a36f-9b35-9873-adbc-6313690a31c5"
      },
      "outputs": [],
      "source": [
        "if not os.path.exists(DATA_DIR_SAMPLE):\n",
        "    os.makedirs(DATA_DIR_SAMPLE)"
      ]
    },
    {
      "cell_type": "markdown",
      "metadata": {
        "_cell_guid": "16c4a96f-8914-c0f6-ab26-d5ac62ef27e2"
      },
      "source": [
        "## 2. Make sample data\n",
        "Put aside 10% of data as sample."
      ]
    },
    {
      "cell_type": "code",
      "execution_count": null,
      "metadata": {
        "_cell_guid": "c512c9c5-20c6-5da3-108a-9bfb71adee4c"
      },
      "outputs": [],
      "source": [
        "for d in dirs:\n",
        "    in_dirs = os.listdir(DATA_DIR+d)\n",
        "    in_dirs = [dd for dd in in_dirs if (os.path.isdir(DATA_DIR + d +'/'+ dd) & (dd[0] != '.'))]\n",
        "    for nd in in_dirs:\n",
        "        full_dir = DATA_DIR + d + '/' + nd\n",
        "        os.chdir(full_dir)\n",
        "        g = glob('*.jpg')\n",
        "        \n",
        "        # shuffle filenames\n",
        "        shuf = np.random.permutation(g)\n",
        "        sample_size = calc_sample_size(len(shuf), proportion=p_sample)\n",
        "        \n",
        "        sample_dir = DATA_DIR + 'sample/' + d + '/' + nd\n",
        "        # create same dir in sample/d\n",
        "        if not os.path.exists(sample_dir):\n",
        "            os.makedirs(sample_dir)\n",
        "            \n",
        "        # copy sample files to /sample/d/nd\n",
        "        for i in range(sample_size): \n",
        "            new_filename = sample_dir+'/'+shuf[i]\n",
        "            if not os.path.exists(new_filename):\n",
        "                os.rename(shuf[i], new_filename)"
      ]
    },
    {
      "cell_type": "markdown",
      "metadata": {
        "_cell_guid": "803667bf-5b15-ded9-36d3-5a2e287973e1"
      },
      "source": [
        "## 3. Implement a simple VGG16 model (locally)"
      ]
    },
    {
      "cell_type": "markdown",
      "metadata": {
        "_cell_guid": "646a40f9-1edd-ae4e-5e23-45625d19f031"
      },
      "source": [
        "## 4. Examine results"
      ]
    },
    {
      "cell_type": "markdown",
      "metadata": {
        "_cell_guid": "90d488e3-5994-4711-6549-aae48fc611c8"
      },
      "source": [
        "## 5. Save to specified format"
      ]
    },
    {
      "cell_type": "markdown",
      "metadata": {
        "_cell_guid": "03681759-5815-c7be-e729-77c710bc47b1"
      },
      "source": [
        "## 6. Run remotely on full data"
      ]
    },
    {
      "cell_type": "code",
      "execution_count": null,
      "metadata": {
        "_cell_guid": "28617c8e-5324-34c4-ce3e-3daa88b05fda"
      },
      "outputs": [],
      "source": [
        ""
      ]
    }
  ],
  "metadata": {
    "_change_revision": 0,
    "_is_fork": false,
    "kernelspec": {
      "display_name": "Python 3",
      "language": "python",
      "name": "python3"
    },
    "language_info": {
      "codemirror_mode": {
        "name": "ipython",
        "version": 3
      },
      "file_extension": ".py",
      "mimetype": "text/x-python",
      "name": "python",
      "nbconvert_exporter": "python",
      "pygments_lexer": "ipython3",
      "version": "3.5.2"
    }
  },
  "nbformat": 4,
  "nbformat_minor": 0
}