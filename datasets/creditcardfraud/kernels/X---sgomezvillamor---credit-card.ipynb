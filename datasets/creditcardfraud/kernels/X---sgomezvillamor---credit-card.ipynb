{
  "cells": [
    {
      "cell_type": "markdown",
      "metadata": {
        "_cell_guid": "cc371dce-4c2a-383a-71c6-8b4e5f2d83be"
      },
      "source": [
        "# Descriptive Analysis"
      ]
    },
    {
      "cell_type": "code",
      "execution_count": null,
      "metadata": {
        "_cell_guid": "c92e30c3-659a-a747-0ddb-a389009da6ff"
      },
      "outputs": [],
      "source": [
        "# This Python 3 environment comes with many helpful analytics libraries installed\n",
        "# It is defined by the kaggle/python docker image: https://github.com/kaggle/docker-python\n",
        "# For example, here's several helpful packages to load in \n",
        "\n",
        "import numpy as np # linear algebra\n",
        "import pandas as pd # data processing, CSV file I/O (e.g. pd.read_csv)\n",
        "\n",
        "# Input data files are available in the \"../input/\" directory.\n",
        "# For example, running this (by clicking run or pressing Shift+Enter) will list the files in the input directory\n",
        "\n",
        "from subprocess import check_output\n",
        "print(check_output([\"ls\", \"../input\"]).decode(\"utf8\"))\n",
        "\n",
        "# Any results you write to the current directory are saved as output.\n",
        "\n",
        "df = pd.read_csv('../input/creditcard.csv')\n",
        "print(df.head())"
      ]
    },
    {
      "cell_type": "code",
      "execution_count": null,
      "metadata": {
        "_cell_guid": "73c84f0c-1eca-37ec-784b-b9972a7a4ac8"
      },
      "outputs": [],
      "source": [
        "print(\"Time\")\n",
        "print(df.Time.describe())\n",
        "print(\"V1\")\n",
        "print(df.Time.describe())\n",
        "print(\"Amount\")\n",
        "print(df.Amount.describe())\n",
        "print(\"Class\")\n",
        "print(df.Class.describe())\n",
        "print(df.Class.nunique())\n",
        "print(\"ALL\")\n",
        "print(df.describe())"
      ]
    },
    {
      "cell_type": "code",
      "execution_count": null,
      "metadata": {
        "_cell_guid": "3d764cb2-19fe-1d08-a108-aeebd2ffe1fa"
      },
      "outputs": [],
      "source": [
        "df.Time.hist()"
      ]
    },
    {
      "cell_type": "code",
      "execution_count": null,
      "metadata": {
        "_cell_guid": "ff6cab09-d92c-7a58-87bb-cb939c9da199"
      },
      "outputs": [],
      "source": [
        "df.Class.hist()"
      ]
    },
    {
      "cell_type": "code",
      "execution_count": null,
      "metadata": {
        "_cell_guid": "d02ac51d-a821-5af6-eb13-39b1393ccde7"
      },
      "outputs": [],
      "source": [
        "df['Amount'].hist(by=df['Class'])"
      ]
    },
    {
      "cell_type": "code",
      "execution_count": null,
      "metadata": {
        "_cell_guid": "be7cc12d-13b5-9824-5be0-23f2498120f2"
      },
      "outputs": [],
      "source": [
        "print(df.groupby('Class').size())"
      ]
    },
    {
      "cell_type": "code",
      "execution_count": null,
      "metadata": {
        "_cell_guid": "b074fe43-fd0d-2967-8ad8-f46dae697a6c"
      },
      "outputs": [],
      "source": [
        "df.hist(figsize=(15,15))"
      ]
    },
    {
      "cell_type": "markdown",
      "metadata": {
        "_cell_guid": "6c5a990f-7c60-8d4d-3eed-b9145b5e2d76"
      },
      "source": [
        "# Split Dataset - train & test"
      ]
    },
    {
      "cell_type": "code",
      "execution_count": null,
      "metadata": {
        "_cell_guid": "91e2b762-a2b1-30d3-d417-1e3cda2b3a5e"
      },
      "outputs": [],
      "source": [
        "from sklearn.cross_validation import train_test_split\n",
        "\n",
        "x = df[['Time', 'V1', 'V2', 'V3', 'V4', 'V5', 'V6', 'V7', 'V8', 'V9', 'V10',\n",
        "       'V11', 'V12', 'V13', 'V14', 'V15', 'V16', 'V17', 'V18', 'V19', 'V20',\n",
        "       'V21', 'V22', 'V23', 'V24', 'V25', 'V26', 'V27', 'V28', 'Amount']]\n",
        "y = df['Class']\n",
        "\n",
        "xtrain, xtest, ytrain, ytest = train_test_split(x, y, test_size=0.65, random_state=0)\n",
        "print('xtrain shape')\n",
        "print(xtrain.shape)\n",
        "print('xtest shape')\n",
        "print(xtest.shape)"
      ]
    },
    {
      "cell_type": "markdown",
      "metadata": {
        "_cell_guid": "5dfb0f81-9527-eea4-7636-08676ca4e590"
      },
      "source": [
        "# Logistic Regression Classifier from Python scikit-learn library"
      ]
    },
    {
      "cell_type": "code",
      "execution_count": null,
      "metadata": {
        "_cell_guid": "e33596d2-4187-70ba-7938-d2a9a363593b"
      },
      "outputs": [],
      "source": [
        "from sklearn import metrics\n",
        "import scipy.optimize as op\n",
        "from sklearn.linear_model import LogisticRegression\n",
        "\n",
        "lrmodel = LogisticRegression(penalty='l2')\n",
        "lrmodel.fit(xtrain, ytrain)\n",
        "print('model')\n",
        "print(lrmodel)\n",
        "ypredlr = lrmodel.predict(xtest)\n",
        "print('confusion matrix')\n",
        "print(metrics.confusion_matrix(ytest, ypredlr))\n",
        "print('classification report')\n",
        "print(metrics.classification_report(ytest, ypredlr))\n",
        "print('Accuracy : %f' % (metrics.accuracy_score(ytest, ypredlr)))\n",
        "print('Area under the curve : %f' % (metrics.roc_auc_score(ytest, ypredlr)))"
      ]
    },
    {
      "cell_type": "markdown",
      "metadata": {
        "_cell_guid": "5059e9c1-36f4-ce0d-d553-5793c4024cf9"
      },
      "source": [
        "# Support Vector Classifier from Python scikit-learn library"
      ]
    },
    {
      "cell_type": "code",
      "execution_count": null,
      "metadata": {
        "_cell_guid": "b67f6790-5085-83e0-79d9-f3c86b81fe67"
      },
      "outputs": [],
      "source": [
        "from sklearn.svm import SVC\n",
        "\n",
        "svcmodel = SVC(kernel='sigmoid')   # 'linear' kernel is veeeeeery slow\n",
        "svcmodel.fit(xtrain, ytrain)\n",
        "print('model')\n",
        "print(svcmodel)\n",
        "ypredsvc = svcmodel.predict(xtest)\n",
        "print('confusion matrix')\n",
        "print(metrics.confusion_matrix(ytest, ypredsvc))\n",
        "print('classification report')\n",
        "print(metrics.classification_report(ytest, ypredsvc))\n",
        "print('Accuracy : %f' % (metrics.accuracy_score(ytest, ypredsvc)))\n",
        "print('Area under the curve : %f' % (metrics.roc_auc_score(ytest, ypredsvc)))"
      ]
    },
    {
      "cell_type": "markdown",
      "metadata": {
        "_cell_guid": "048d8ee4-4b17-3b5c-071c-2f8bb2937006"
      },
      "source": [
        "# Random Forest Classifier from from Python scikit-learn library"
      ]
    },
    {
      "cell_type": "code",
      "execution_count": null,
      "metadata": {
        "_cell_guid": "2d511f4d-2fac-8cd1-2742-9d496ba399a8"
      },
      "outputs": [],
      "source": [
        "from sklearn.ensemble import RandomForestClassifier\n",
        "\n",
        "rfmodel = RandomForestClassifier()\n",
        "rfmodel.fit(xtrain,ytrain)\n",
        "print('model')\n",
        "print(rfmodel)\n",
        "\n",
        "ypredrf = rfmodel.predict(xtest)\n",
        "print('confusion matrix')\n",
        "print(metrics.confusion_matrix(ytest, ypredrf))\n",
        "print('classification report')\n",
        "print(metrics.classification_report(ytest, ypredrf))\n",
        "print('Accuracy : %f' % (metrics.accuracy_score(ytest, ypredrf)))\n",
        "print('Area under the curve : %f' % (metrics.roc_auc_score(ytest, ypredrf)))"
      ]
    }
  ],
  "metadata": {
    "_change_revision": 0,
    "_is_fork": false,
    "kernelspec": {
      "display_name": "Python 3",
      "language": "python",
      "name": "python3"
    },
    "language_info": {
      "codemirror_mode": {
        "name": "ipython",
        "version": 3
      },
      "file_extension": ".py",
      "mimetype": "text/x-python",
      "name": "python",
      "nbconvert_exporter": "python",
      "pygments_lexer": "ipython3",
      "version": "3.6.0"
    }
  },
  "nbformat": 4,
  "nbformat_minor": 0
}