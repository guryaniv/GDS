{
  "cells": [
    {
      "cell_type": "markdown",
      "metadata": {
        "_cell_guid": "0e6c76b4-3ce5-ca8f-8842-ef0af4c0babb"
      },
      "source": [
        "First try - linear regression with a few important features\n",
        "-----------------------------------------------------------"
      ]
    },
    {
      "cell_type": "code",
      "execution_count": null,
      "metadata": {
        "_cell_guid": "8a1a0a5b-bf98-fea9-75db-fb1d765bd16a"
      },
      "outputs": [],
      "source": [
        "# This Python 3 environment comes with many helpful analytics libraries installed\n",
        "# It is defined by the kaggle/python docker image: https://github.com/kaggle/docker-python\n",
        "# For example, here's several helpful packages to load in \n",
        "\n",
        "import numpy as np\n",
        "import pandas as pd\n",
        "import scipy\n",
        "%matplotlib inline\n",
        "import matplotlib.pyplot as plt\n",
        "import seaborn as sns; sns.set()\n",
        "\n",
        "# Input data files are available in the \"../input/\" directory.\n",
        "# For example, running this (by clicking run or pressing Shift+Enter) will list the files in the input directory\n",
        "\n",
        "from subprocess import check_output\n",
        "print(check_output([\"ls\", \"../input\"]).decode(\"utf8\"))\n",
        "\n",
        "# Any results you write to the current directory are saved as output."
      ]
    },
    {
      "cell_type": "code",
      "execution_count": null,
      "metadata": {
        "_cell_guid": "0998f15c-ac39-7965-557e-cfb650c1f2c1"
      },
      "outputs": [],
      "source": [
        "train_data = pd.read_csv(\"../input/train.csv\")\n",
        "test_data = pd.read_csv(\"../input/test.csv\")\n",
        "test_data_id = test_data.id\n",
        "print(train_data.shape, test_data.shape)"
      ]
    },
    {
      "cell_type": "code",
      "execution_count": null,
      "metadata": {
        "_cell_guid": "63973b50-3d0d-451c-ea60-a1b03376696c"
      },
      "outputs": [],
      "source": [
        "train_data = train_data[[\"full_sq\",\"life_sq\",\"floor\",\"max_floor\",\"build_year\",\"num_room\",\"price_doc\"]]\n",
        "train_data = train_data.dropna()\n",
        "train_data_x = train_data.drop([\"price_doc\"],axis=1)\n",
        "train_data_y = train_data.price_doc"
      ]
    },
    {
      "cell_type": "code",
      "execution_count": null,
      "metadata": {
        "_cell_guid": "f43bc766-a881-6b48-9027-c1f28a8cd822"
      },
      "outputs": [],
      "source": [
        "test_data = test_data[[\"full_sq\",\"life_sq\",\"floor\",\"max_floor\",\"build_year\",\"num_room\"]]\n",
        "test_data.shape"
      ]
    },
    {
      "cell_type": "code",
      "execution_count": null,
      "metadata": {
        "_cell_guid": "3b975d96-7fed-b36f-d359-1d271629f54a"
      },
      "outputs": [],
      "source": [
        "from sklearn.linear_model import LinearRegression\n",
        "model = LinearRegression(fit_intercept=True)\n",
        "model.fit(train_data_x, train_data_y)"
      ]
    },
    {
      "cell_type": "code",
      "execution_count": null,
      "metadata": {
        "_cell_guid": "7700648b-9aaf-4da1-27fa-93de782646df"
      },
      "outputs": [],
      "source": [
        "test_data.fillna(test_data.mean(), inplace=True);\n",
        "model.predict(test_data)"
      ]
    },
    {
      "cell_type": "code",
      "execution_count": null,
      "metadata": {
        "_cell_guid": "33a359fb-9152-ed7d-fa35-4bf9bb80d9e0"
      },
      "outputs": [],
      "source": [
        "test_data_y = model.predict(test_data)\n",
        "model_predict_train = model.predict(train_data_x)\n",
        "test_data.shape"
      ]
    },
    {
      "cell_type": "code",
      "execution_count": null,
      "metadata": {
        "_cell_guid": "80f4fd1d-fe35-f129-c543-9040377dde97"
      },
      "outputs": [],
      "source": [
        "#plt.scatter(test_data.full_sq[1:50],test_data_y[1:50])\n",
        "plt.scatter(train_data_x.full_sq[1:500],model_predict_train[1:500])\n",
        "plt.scatter(train_data_x.full_sq[1:500],train_data_y[1:500])"
      ]
    },
    {
      "cell_type": "code",
      "execution_count": null,
      "metadata": {
        "_cell_guid": "1a842911-e1b5-6dd2-f969-e1b0060cf92b"
      },
      "outputs": [],
      "source": [
        "y = pd.DataFrame(test_data_y,columns=[\"price_doc\"],index=test_data_id)"
      ]
    },
    {
      "cell_type": "code",
      "execution_count": null,
      "metadata": {
        "_cell_guid": "4ac81c41-3ad5-3cd7-3191-e9a0b4f53de0"
      },
      "outputs": [],
      "source": [
        "y[y<0] = 0\n",
        "y.info()\n",
        "y.hist()"
      ]
    }
  ],
  "metadata": {
    "_change_revision": 0,
    "_is_fork": false,
    "kernelspec": {
      "display_name": "Python 3",
      "language": "python",
      "name": "python3"
    },
    "language_info": {
      "codemirror_mode": {
        "name": "ipython",
        "version": 3
      },
      "file_extension": ".py",
      "mimetype": "text/x-python",
      "name": "python",
      "nbconvert_exporter": "python",
      "pygments_lexer": "ipython3",
      "version": "3.6.0"
    }
  },
  "nbformat": 4,
  "nbformat_minor": 0
}