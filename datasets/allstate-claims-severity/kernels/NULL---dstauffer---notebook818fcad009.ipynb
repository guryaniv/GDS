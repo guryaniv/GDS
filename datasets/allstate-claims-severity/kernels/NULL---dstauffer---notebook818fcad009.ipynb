{
  "cells": [
    {
      "cell_type": "code",
      "execution_count": null,
      "metadata": {
        "_cell_guid": "a858e2d0-38c2-4635-43f9-8705a08315ea"
      },
      "outputs": [],
      "source": [
        "import pandas as pd\n",
        "import sklearn as sk\n",
        "import sklearn.ensemble, sklearn.metrics, sklearn.model_selection, sklearn.preprocessing,\\\n",
        "\tsklearn.linear_model, sklearn.decomposition, sklearn.neural_network\n",
        "import re\n",
        "import numpy as np"
      ]
    },
    {
      "cell_type": "code",
      "execution_count": null,
      "metadata": {
        "_cell_guid": "2492e3a7-c6d4-acd3-7c11-998be3be7915"
      },
      "outputs": [],
      "source": [
        "from sklearn.preprocessing import LabelEncoder\n",
        "from sklearn.preprocessing import OneHotEncoder\n",
        "\n",
        "train_df = pd.read_csv('../input/train.csv')\n",
        "test_df = pd.read_csv('../input/test.csv')\n",
        "loss_df = train_df.loss.copy(deep=True)\n",
        "log_loss = np.log(loss_df.copy(deep=True))\n",
        "train_df = train_df.drop('id', axis=1)#.drop('loss', axis=1)\n",
        "test_df = test_df.drop('id', axis=1)\n",
        "\n",
        "ntrain = train_df.shape[0]\n",
        "ntest = test_df.shape[0]\n",
        "\n",
        "train_test = pd.concat((train_df,test_df)).reset_index(drop=True)"
      ]
    },
    {
      "cell_type": "code",
      "execution_count": null,
      "metadata": {
        "_cell_guid": "07dfeb68-effb-04fd-a064-cf4b315b8e9f"
      },
      "outputs": [],
      "source": [
        "reg = re.compile('cat.*')\n",
        "for col in train_test.columns:\n",
        "    if reg.match(col):\n",
        "        cats = []\n",
        "        for col in train_df.columns:\n",
        "            #Label encode\n",
        "            #label_encoder.fit(labels[i])\n",
        "            label_encoder = LabelEncoder()\n",
        "            feature = label_encoder.fit_transform(train_df[col])#dataset.iloc[:,i])\n",
        "            #feature = feature.reshape(dataset.shape[0], 1)\n",
        "            #One hot encode\n",
        "            ohe = OneHotEncoder(sparse=False,n_values=len(train_df))\n",
        "            feature = ohe.fit_transform(feature)\n",
        "            print(feature)"
      ]
    },
    {
      "cell_type": "code",
      "execution_count": null,
      "metadata": {
        "_cell_guid": "eafd8b6a-59dd-c487-4e78-f640a5ff6631"
      },
      "outputs": [],
      "source": ""
    }
  ],
  "metadata": {
    "_change_revision": 0,
    "_is_fork": false,
    "kernelspec": {
      "display_name": "Python 3",
      "language": "python",
      "name": "python3"
    },
    "language_info": {
      "codemirror_mode": {
        "name": "ipython",
        "version": 3
      },
      "file_extension": ".py",
      "mimetype": "text/x-python",
      "name": "python",
      "nbconvert_exporter": "python",
      "pygments_lexer": "ipython3",
      "version": "3.5.2"
    }
  },
  "nbformat": 4,
  "nbformat_minor": 0
}