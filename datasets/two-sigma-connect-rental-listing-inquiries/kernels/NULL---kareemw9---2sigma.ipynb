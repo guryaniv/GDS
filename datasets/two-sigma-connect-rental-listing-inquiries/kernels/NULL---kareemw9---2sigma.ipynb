{
  "cells": [
    {
      "cell_type": "code",
      "execution_count": null,
      "metadata": {
        "_cell_guid": "41610365-b061-d935-71e1-cf39cf112457"
      },
      "outputs": [],
      "source": [
        "# This Python 3 environment comes with many helpful analytics libraries installed\n",
        "# It is defined by the kaggle/python docker image: https://github.com/kaggle/docker-python\n",
        "# For example, here's several helpful packages to load in \n",
        "\n",
        "import numpy as np # linear algebra\n",
        "import pandas as pd # data processing, CSV file I/O (e.g. pd.read_csv)\n",
        "\n",
        "# Input data files are available in the \"../input/\" directory.\n",
        "# For example, running this (by clicking run or pressing Shift+Enter) will list the files in the input directory\n",
        "\n",
        "from subprocess import check_output\n",
        "print(check_output([\"ls\", \"../input\"]).decode(\"utf8\"))\n",
        "\n",
        "# Any results you write to the current directory are saved as output.\n",
        "train = \"../input/train.json\"\n",
        "\n"
      ]
    },
    {
      "cell_type": "code",
      "execution_count": null,
      "metadata": {
        "_cell_guid": "174e6c8a-7f11-aa29-6c0b-95939dd94f85"
      },
      "outputs": [],
      "source": [
        "#describe the datasetdf = pd.read_json(\"myjsonfile.json\")\n",
        "df = pd.read_json(\"../input/train.json\")\n",
        "\n",
        "df.head()"
      ]
    },
    {
      "cell_type": "code",
      "execution_count": null,
      "metadata": {
        "_cell_guid": "54a62dcf-c559-1931-9ccc-037971b93b0d"
      },
      "outputs": [],
      "source": ""
    },
    {
      "cell_type": "code",
      "execution_count": null,
      "metadata": {
        "_cell_guid": "b3a5e984-7ce9-789b-f4ea-7f57b242fc92"
      },
      "outputs": [],
      "source": [
        "#lower cpu utilization with lowerstring\n",
        "mini[\"description\"] = mini[\"description\"].str.lower()\n",
        "mini[\"features\"] = mini[\"features\"].str.lower()\n",
        "#search for new features: elavators, cats, dogs, pool, fitness,spa, flooring, \n",
        "#mini.loc[mini[\"description\"].str.contains(\"elevator\"),\"if_elavator\"] = 1.0"
      ]
    },
    {
      "cell_type": "code",
      "execution_count": null,
      "metadata": {
        "_cell_guid": "95795c8c-5e05-64f5-37ef-1445cb3e93bb"
      },
      "outputs": [],
      "source": [
        "#search for new features: elavators, cats, dogs, pool, fitness,spa, flooring, \n",
        "mini.loc[mini[\"description\"].str.contains(\"elevator\"),\"if_elavator\"] = 1.0\n",
        "\n"
      ]
    },
    {
      "cell_type": "code",
      "execution_count": null,
      "metadata": {
        "_cell_guid": "f1304e96-e640-74ba-3602-64141a9ecc11"
      },
      "outputs": [],
      "source": [
        "mini.head()\n",
        "#mini.loc[mini[\"features\"].str.contains(\"doorman\"),\"bin_elavator\"] = 1.0\n",
        "\n"
      ]
    },
    {
      "cell_type": "code",
      "execution_count": null,
      "metadata": {
        "_cell_guid": "9a164e4c-6685-7645-d66c-a7dff956c44f"
      },
      "outputs": [],
      "source": [
        "mini.head()"
      ]
    }
  ],
  "metadata": {
    "_change_revision": 0,
    "_is_fork": false,
    "kernelspec": {
      "display_name": "Python 3",
      "language": "python",
      "name": "python3"
    },
    "language_info": {
      "codemirror_mode": {
        "name": "ipython",
        "version": 3
      },
      "file_extension": ".py",
      "mimetype": "text/x-python",
      "name": "python",
      "nbconvert_exporter": "python",
      "pygments_lexer": "ipython3",
      "version": "3.6.0"
    }
  },
  "nbformat": 4,
  "nbformat_minor": 0
}