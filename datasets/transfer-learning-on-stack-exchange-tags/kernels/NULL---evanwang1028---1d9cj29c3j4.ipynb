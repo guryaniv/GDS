{
  "cells": [
    {
      "cell_type": "code",
      "execution_count": null,
      "metadata": {
        "_cell_guid": "05e80ab5-df46-0cab-5de5-fd0d58771e68"
      },
      "outputs": [],
      "source": [
        "import numpy as np \n",
        "import pandas as pd \n",
        "import nltk\n",
        "import re\n",
        "import string\n",
        "from nltk.corpus import stopwords\n",
        "from nltk.util import ngrams\n",
        "from nltk.tokenize import word_tokenize\n",
        "from subprocess import check_output\n",
        "from nltk.stem import WordNetLemmatizer\n",
        "print(check_output([\"ls\", \"../input\"]).decode(\"utf8\"))"
      ]
    },
    {
      "cell_type": "code",
      "execution_count": null,
      "metadata": {
        "_cell_guid": "a2cce3bc-fd92-da1b-5d1b-49fe33a7accb"
      },
      "outputs": [],
      "source": [
        "bio = pd.read_csv(\"../input/biology.csv\")\n",
        "cook = pd.read_csv(\"../input/cooking.csv\")\n",
        "crypto = pd.read_csv(\"../input/crypto.csv\")\n",
        "diy = pd.read_csv(\"../input/diy.csv\")\n",
        "robot = pd.read_csv(\"../input/robotics.csv\")\n",
        "travel = pd.read_csv(\"../input/travel.csv\")\n",
        "sample_sub = pd.read_csv(\"../input/sample_submission.csv\")\n",
        "test = pd.read_csv(\"../input/test.csv\")\n",
        "swords1 = stopwords.words('english')\n",
        "punctuations = string.punctuation\n"
      ]
    },
    {
      "cell_type": "code",
      "execution_count": null,
      "metadata": {
        "_cell_guid": "e32942bd-9cf7-8260-61bb-14a1ec58d237"
      },
      "outputs": [],
      "source": [
        "all_dat = pd.concat([bio,cook,crypto,diy,robot,travel], ignore_index=True)"
      ]
    },
    {
      "cell_type": "code",
      "execution_count": null,
      "metadata": {
        "_cell_guid": "7ca42ad3-593a-e70e-8d33-7865f9153452"
      },
      "outputs": [],
      "source": [
        "all_dat.to_csv('all_dat.csv')\n",
        "test.to_csv('test.csv')"
      ]
    },
    {
      "cell_type": "code",
      "execution_count": null,
      "metadata": {
        "_cell_guid": "f3ac53af-3421-de2c-1a3b-44bf8ce5f52f"
      },
      "outputs": [],
      "source": [
        "\n"
      ]
    },
    {
      "cell_type": "code",
      "execution_count": null,
      "metadata": {
        "_cell_guid": "398f4f28-579a-6969-d1df-d9dbb6ff59a3"
      },
      "outputs": [],
      "source": [
        ""
      ]
    }
  ],
  "metadata": {
    "_change_revision": 0,
    "_is_fork": false,
    "kernelspec": {
      "display_name": "Python 3",
      "language": "python",
      "name": "python3"
    },
    "language_info": {
      "codemirror_mode": {
        "name": "ipython",
        "version": 3
      },
      "file_extension": ".py",
      "mimetype": "text/x-python",
      "name": "python",
      "nbconvert_exporter": "python",
      "pygments_lexer": "ipython3",
      "version": "3.5.2"
    }
  },
  "nbformat": 4,
  "nbformat_minor": 0
}