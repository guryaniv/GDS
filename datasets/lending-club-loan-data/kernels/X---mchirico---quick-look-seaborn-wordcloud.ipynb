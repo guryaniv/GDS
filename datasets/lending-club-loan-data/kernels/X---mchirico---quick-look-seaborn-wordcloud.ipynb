{"cells":[
 {
  "cell_type": "markdown",
  "metadata": {},
  "source": "# Quick Look - Seaborn, WordCloud\n\nPerhaps a quick starter template, for anyone interested in going further."
 },
 {
  "cell_type": "code",
  "execution_count": null,
  "metadata": {
   "collapsed": false
  },
  "outputs": [],
  "source": "# Read in data from pandas\nimport pandas as pd\n\n# This is used for fast string concatination\nfrom io import StringIO\n\n# Use nltk for valid words\nimport nltk\nimport collections as co\n\n\nimport warnings # ignore warnings \nwarnings.filterwarnings(\"ignore\")\nimport seaborn as sns\nimport matplotlib.pyplot as plt\nsns.set(style=\"white\", color_codes=True)\n\n# Read the input\nd = pd.read_csv(\"../input/loan.csv\") "
 },
 {
  "cell_type": "code",
  "execution_count": null,
  "metadata": {
   "collapsed": false
  },
  "outputs": [],
  "source": "# Density Distribution of Loan Amount\nsns.set_style(\"whitegrid\")\nax=sns.distplot(d.loan_amnt)\nax.set(xlabel='Loan Amount', \n       ylabel='% Distribution',title='Density Plot of Loan Amount')\n\nplt.legend();"
 },
 {
  "cell_type": "code",
  "execution_count": null,
  "metadata": {
   "collapsed": false
  },
  "outputs": [],
  "source": "# For fun, we'll make it green\nax = sns.violinplot(d.loan_amnt,color=\"g\");\nax.set(xlabel='Loan Amount', \n       ylabel='Distribution',title='Violin Plot of Loan Amount')\n\nplt.legend();"
 },
 {
  "cell_type": "code",
  "execution_count": null,
  "metadata": {
   "collapsed": false
  },
  "outputs": [],
  "source": "# Density Distribution of Interest Rate\nsns.set_style(\"whitegrid\")\nax=sns.distplot(d.int_rate, color=\"r\")\nax.set(xlabel='Interest Rate %', \n       ylabel='% Distribution',title='Density Plot of Interest Rate')\n\nplt.legend();"
 },
 {
  "cell_type": "code",
  "execution_count": null,
  "metadata": {
   "collapsed": false
  },
  "outputs": [],
  "source": "# We want a very fast way to concat strings.\n# Final value will be stored in s\nsi=StringIO()\nd['title'].apply(lambda x: si.write(str(x)))\ns=si.getvalue()\nsi.close()\n# Note sure how meaningful this is\n# but here's a look.\ns[0:400]"
 },
 {
  "cell_type": "code",
  "execution_count": null,
  "metadata": {
   "collapsed": false
  },
  "outputs": [],
  "source": "from wordcloud import WordCloud\n\n# Read the whole text.\ntext = s\n\n# Generate a word cloud image\nwordcloud = WordCloud().generate(text)\n\n# Display the generated image:\n# the matplotlib way:\nimport matplotlib.pyplot as plt\n\n\n# take relative word frequencies into account, lower max_font_size\nwordcloud = WordCloud(background_color=\"white\",max_words=len(s),max_font_size=40, relative_scaling=.5).generate(text)\nplt.figure()\nplt.imshow(wordcloud)\nplt.axis(\"off\")\nplt.show()"
 }
],"metadata":{"kernelspec":{"display_name":"Python 3","language":"python","name":"python3"}}, "nbformat": 4, "nbformat_minor": 0}