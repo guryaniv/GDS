{
  "cells": [
    {
      "cell_type": "markdown",
      "metadata": {
        "_cell_guid": "b045111d-243d-6be1-08e1-0ac6f40f5109"
      },
      "source": [
        "This notebook does a very simple linear regression on all the features in the dataset and returns an R^2"
      ]
    },
    {
      "cell_type": "code",
      "execution_count": null,
      "metadata": {
        "_cell_guid": "91ba6c29-ffef-b352-6e59-fb3b52c9c4c5"
      },
      "outputs": [],
      "source": [
        "import numpy as np\n",
        "import pandas as pd\n",
        "import matplotlib.pyplot as plt\n",
        "import seaborn as sns\n",
        "%matplotlib inline "
      ]
    },
    {
      "cell_type": "code",
      "execution_count": null,
      "metadata": {
        "_cell_guid": "a869cf65-2b5b-bb26-bb29-443bc2fe3974"
      },
      "outputs": [],
      "source": [
        "train = pd.read_csv('../input/train.csv')\n",
        "test_x = pd.read_csv('../input/test.csv')"
      ]
    },
    {
      "cell_type": "code",
      "execution_count": null,
      "metadata": {
        "_cell_guid": "b6382ac7-6687-3c28-d631-7976613e3fac"
      },
      "outputs": [],
      "source": [
        "train.head()"
      ]
    },
    {
      "cell_type": "code",
      "execution_count": null,
      "metadata": {
        "_cell_guid": "730e982c-cbca-6091-1359-cd1dd357b803"
      },
      "outputs": [],
      "source": [
        "test_x.head()"
      ]
    },
    {
      "cell_type": "code",
      "execution_count": null,
      "metadata": {
        "_cell_guid": "82dd0ca9-c84c-06f1-cec0-1bdf3fbcb805"
      },
      "outputs": [],
      "source": [
        "print(train.isnull().any().any())\n",
        "print(test_x.isnull().any().any())"
      ]
    },
    {
      "cell_type": "code",
      "execution_count": null,
      "metadata": {
        "_cell_guid": "f5e07f93-8f20-0960-0e83-54a5418334a3"
      },
      "outputs": [],
      "source": [
        "train_y = train['y']\n",
        "train_x = train\n",
        "del train['y']"
      ]
    },
    {
      "cell_type": "code",
      "execution_count": null,
      "metadata": {
        "_cell_guid": "f15c21f9-c4bc-05d2-747d-f1529c26fda9"
      },
      "outputs": [],
      "source": [
        "#Add column so we can easily split the data later\n",
        "train_x['Source'] = 'train'\n",
        "test_x['Source'] = 'test'\n",
        "\n",
        "combined_x = train_x.append(test_x)"
      ]
    },
    {
      "cell_type": "code",
      "execution_count": null,
      "metadata": {
        "_cell_guid": "2cf5f7c4-47cd-4177-5685-a677869c1d8c"
      },
      "outputs": [],
      "source": [
        "combined_x = pd.get_dummies(combined_x)\n",
        "combined_x.head()"
      ]
    },
    {
      "cell_type": "code",
      "execution_count": null,
      "metadata": {
        "_cell_guid": "9f52fe5a-2beb-a326-af51-8c1439577987"
      },
      "outputs": [],
      "source": [
        "#Split back data\n",
        "train_x = combined_x[combined_x['Source_train']==1]\n",
        "del train_x['Source_train']\n",
        "del train_x['Source_test']\n",
        "test_x = combined_x[combined_x['Source_test']==1]\n",
        "del test_x['Source_train']\n",
        "del test_x['Source_test']"
      ]
    },
    {
      "cell_type": "code",
      "execution_count": null,
      "metadata": {
        "_cell_guid": "958a1bd5-0205-d810-14c8-503fe3bac7c2"
      },
      "outputs": [],
      "source": [
        "from sklearn import linear_model\n",
        "from sklearn.cross_validation import train_test_split\n",
        "\n",
        "X_train, X_val, y_train, y_val = train_test_split(train_x, train_y, test_size=0.33, random_state=42)"
      ]
    },
    {
      "cell_type": "code",
      "execution_count": null,
      "metadata": {
        "_cell_guid": "b5ccb42a-07d0-d925-2c95-34ab32d0481e"
      },
      "outputs": [],
      "source": [
        "regr = linear_model.LinearRegression()\n",
        "regr.fit(X_train, y_train)"
      ]
    },
    {
      "cell_type": "code",
      "execution_count": null,
      "metadata": {
        "_cell_guid": "7e50028a-2dbd-e915-095b-12e2580e0534"
      },
      "outputs": [],
      "source": [
        "print(\"Intercept: %.2f\" %regr.intercept_)\n",
        "print(\"Mean squared error: %.2f\"\n",
        "      % np.mean((regr.predict(X_val) - y_val) ** 2))\n",
        "# Explained variance score: 1 is perfect prediction\n",
        "print('R-squared score: %.2f' % regr.score(X_val, y_val))"
      ]
    },
    {
      "cell_type": "code",
      "execution_count": null,
      "metadata": {
        "_cell_guid": "b84c9460-c501-ca19-888e-0568abfe24ff"
      },
      "outputs": [],
      "source": [
        "output = pd.DataFrame({'y': regr.predict(test_x)})\n",
        "output['ID'] = test_x['ID']\n",
        "output = output.set_index('ID')\n",
        "output.to_csv('sub.csv')"
      ]
    },
    {
      "cell_type": "code",
      "execution_count": null,
      "metadata": {
        "_cell_guid": "c67bbaa4-4a63-6147-1701-76b9c3e94c87"
      },
      "outputs": [],
      "source": [
        ""
      ]
    }
  ],
  "metadata": {
    "_change_revision": 0,
    "_is_fork": false,
    "kernelspec": {
      "display_name": "Python 3",
      "language": "python",
      "name": "python3"
    },
    "language_info": {
      "codemirror_mode": {
        "name": "ipython",
        "version": 3
      },
      "file_extension": ".py",
      "mimetype": "text/x-python",
      "name": "python",
      "nbconvert_exporter": "python",
      "pygments_lexer": "ipython3",
      "version": "3.6.0"
    }
  },
  "nbformat": 4,
  "nbformat_minor": 0
}