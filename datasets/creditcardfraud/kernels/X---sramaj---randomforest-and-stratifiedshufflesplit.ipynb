{
  "cells": [
    {
      "cell_type": "code",
      "execution_count": null,
      "metadata": {
        "_cell_guid": "4195177f-1e40-92e8-4deb-e2bc8c5fe1af"
      },
      "outputs": [],
      "source": [
        "# This Python 3 environment comes with many helpful analytics libraries installed\n",
        "# It is defined by the kaggle/python docker image: https://github.com/kaggle/docker-python\n",
        "# For example, here's several helpful packages to load in \n",
        "\n",
        "import numpy as np # linear algebra\n",
        "import pandas as pd # data processing, CSV file I/O (e.g. pd.read_csv)\n",
        "import matplotlib.pyplot as plt\n",
        "%matplotlib inline\n",
        "# Input data files are available in the \"../input/\" directory.\n",
        "# For example, running this (by clicking run or pressing Shift+Enter) will list the files in the input directory\n",
        "\n",
        "from subprocess import check_output\n",
        "print(check_output([\"ls\", \"../input\"]).decode(\"utf8\"))\n",
        "\n",
        "# Any results you write to the current directory are saved as output."
      ]
    },
    {
      "cell_type": "code",
      "execution_count": null,
      "metadata": {
        "_cell_guid": "db751d29-480f-6806-51ab-4340f7ae5c2b"
      },
      "outputs": [],
      "source": [
        "df = pd.read_csv('../input/creditcard.csv')\n",
        "df.info()"
      ]
    },
    {
      "cell_type": "code",
      "execution_count": null,
      "metadata": {
        "_cell_guid": "ed308313-1390-5b2e-19bf-8b0bc690502c"
      },
      "outputs": [],
      "source": [
        "y = df.pop('Class')"
      ]
    },
    {
      "cell_type": "code",
      "execution_count": null,
      "metadata": {
        "_cell_guid": "aecf0fac-f55e-bbe9-71e2-87cfdb50a89f"
      },
      "outputs": [],
      "source": [
        "df.Amount.plot(kind='hist', bins=200)"
      ]
    },
    {
      "cell_type": "code",
      "execution_count": null,
      "metadata": {
        "_cell_guid": "d54326d7-e0e6-41d5-6298-1e274655d95a"
      },
      "outputs": [],
      "source": [
        "pd.Series(np.log1p(df.Amount)).plot(kind='hist', bins=200)"
      ]
    },
    {
      "cell_type": "code",
      "execution_count": null,
      "metadata": {
        "_cell_guid": "f840ae7c-b1db-5451-054d-8cac815f398b"
      },
      "outputs": [],
      "source": [
        "df = df.assign(Amount_Log = np.log1p(df.Amount))"
      ]
    },
    {
      "cell_type": "code",
      "execution_count": null,
      "metadata": {
        "_cell_guid": "18980fd4-4ce9-3f43-e615-35b04b98f863"
      },
      "outputs": [],
      "source": [
        "df[y==1].Time.plot(kind='hist', bins=100)"
      ]
    },
    {
      "cell_type": "code",
      "execution_count": null,
      "metadata": {
        "_cell_guid": "fbeba96f-5988-1ed9-7973-15c3ea546863"
      },
      "outputs": [],
      "source": [
        "df[y==0].Time.plot(kind='hist', bins=100)"
      ]
    },
    {
      "cell_type": "code",
      "execution_count": null,
      "metadata": {
        "_cell_guid": "fa0eea8e-1073-0c90-7e25-aaa605501a3e"
      },
      "outputs": [],
      "source": [
        "data_values = df.values"
      ]
    },
    {
      "cell_type": "code",
      "execution_count": null,
      "metadata": {
        "_cell_guid": "f0d887e4-3d64-59f0-49b7-3a0463f048dd"
      },
      "outputs": [],
      "source": [
        "from sklearn.cross_validation import StratifiedShuffleSplit\n",
        "from sklearn.ensemble import RandomForestClassifier\n",
        "sss = StratifiedShuffleSplit(y=y, test_size=0.33, n_iter=5)"
      ]
    },
    {
      "cell_type": "code",
      "execution_count": null,
      "metadata": {
        "_cell_guid": "6fb155e1-f788-0e7e-c1b6-44d9642520e3"
      },
      "outputs": [],
      "source": [
        "score_list = []\n",
        "for train_index, test_index in sss:\n",
        "    Xtrain, Xtest = data_values[train_index], data_values[test_index]\n",
        "    Ytrain, Ytest = y[train_index], y[test_index]\n",
        "    clf = RandomForestClassifier(n_estimators=200, verbose=1, n_jobs=3)\n",
        "    clf.fit(Xtrain, Ytrain)\n",
        "    \n",
        "    score_list.append(clf.score(Xtest, Ytest))"
      ]
    },
    {
      "cell_type": "code",
      "execution_count": null,
      "metadata": {
        "_cell_guid": "68b9af28-82d4-4bcc-b3a5-271699d40767"
      },
      "outputs": [],
      "source": [
        "score_list"
      ]
    }
  ],
  "metadata": {
    "_change_revision": 0,
    "_is_fork": false,
    "kernelspec": {
      "display_name": "Python 3",
      "language": "python",
      "name": "python3"
    },
    "language_info": {
      "codemirror_mode": {
        "name": "ipython",
        "version": 3
      },
      "file_extension": ".py",
      "mimetype": "text/x-python",
      "name": "python",
      "nbconvert_exporter": "python",
      "pygments_lexer": "ipython3",
      "version": "3.5.2"
    }
  },
  "nbformat": 4,
  "nbformat_minor": 0
}