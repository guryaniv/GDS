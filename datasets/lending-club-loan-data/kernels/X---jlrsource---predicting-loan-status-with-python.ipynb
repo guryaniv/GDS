{
  "cells": [
    {
      "cell_type": "markdown",
      "metadata": {
        "_cell_guid": "007a6ef8-de5a-4619-a4a8-485025ab1727"
      },
      "source": [
        "# Predicting Loan Status with Python\n",
        "This notebook uses Python, NumPy, and Matplotlib to explore the relationship between several data fields in the Lending Club Loan Data SQLite database. SQL queries are used to obtain the loan data records that contain specific strings in the **title** field, which is the loan title provided by the borrower. The search strings investigated are:\n",
        "\n",
        "* \"credit card\"\n",
        "* \"medical\"\n",
        "* \"debt\"\n",
        "\n",
        "Finally, a decision tree classifier (scikit-learn) is used to predict the **loan_status**, which is the current status of the loan. A binary classification system is used, in which the values for the **loan_status** field are classified into two categories:\n",
        "\n",
        "* 0: \"Fully Paid\" or \"Current\"\n",
        "* 1: \"Late\" (for any time period) or \"Charged Off\"\n",
        "\n",
        "The following features are used to predict the loan status category (descriptions are from the \"LCDataDictionary.xlsx\" file):\n",
        "\n",
        "* **loan_amnt**: The listed amount of the loan applied for by the borrower. If at some point in time, the credit department reduces the loan amount, then it will be reflected in this value.\n",
        "* **int_rate**: Interest Rate on the loan.\n",
        "* **annual_inc**: The self-reported annual income provided by the borrower during registration.\n",
        "* **delinq_2yrs**: The number of 30+ days past-due incidences of delinquency in the borrower's credit file for the past 2 years.\n",
        "* **open_acc**: The number of open credit lines in the borrower's credit file.\n",
        "* **dti**: A ratio calculated using the borrower\u2019s total monthly debt payments on the total debt obligations, excluding mortgage and the requested LC loan, divided by the borrower\u2019s self-reported monthly income.\n",
        "* **emp_length**: Employment length in years. Possible values are between 0 and 10 where 0 means less than one year and 10 means ten or more years.\n",
        "* **funded_amnt**: The total amount committed to that loan at that point in time.\n",
        "* **tot_cur_bal**: Total current balance of all accounts.\n",
        "* **home_ownership**: The home ownership status provided by the borrower during registration. Our values are: RENT, OWN, MORTGAGE, OTHER.\n",
        "\n",
        "A loan status category of 0 is considered to be **good** because the loan status is either \"Fully Paid\" or \"Current\". A loan status category of 1 is considered to be **poor** because the loan status is either \"Late\" (for any time period) or \"Charged Off\".\n"
      ]
    },
    {
      "cell_type": "code",
      "execution_count": null,
      "metadata": {
        "_cell_guid": "13213df4-d2a1-4e2c-a7d1-9e311537d406"
      },
      "outputs": [],
      "source": [
        "import matplotlib.pyplot as plt\n",
        "import numpy as np\n",
        "import sqlite3\n",
        "from sklearn import tree\n",
        "# Input data files are available in the \"../input/\" directory.\n",
        "# For example, running this (by clicking run or pressing Shift+Enter) will list the files in the input directory\n",
        "#from subprocess import check_output\n",
        "#print(check_output([\"ls\", \"../input\"]).decode(\"utf8\"))\n",
        "\n",
        "def sql_query(s):\n",
        "    \"\"\"Return results for a SQL query.\n",
        "\n",
        "    Arguments:\n",
        "    s (str) -- SQL query string\n",
        "\n",
        "    Returns:\n",
        "    (list) -- SQL query results\n",
        "    \"\"\"\n",
        "    conn = sqlite3.connect(\"../input/database.sqlite\")\n",
        "    c = conn.cursor()\n",
        "    c.execute(s)\n",
        "    result = c.fetchall()\n",
        "    conn.close()\n",
        "    return result\n",
        "\n",
        "def print_details():\n",
        "    \"\"\"Print database details including table names and the number of rows.\n",
        "    \"\"\"\n",
        "    table_names = sql_query(\"SELECT name FROM sqlite_master \" +\n",
        "                            \"WHERE type='table' \" +\n",
        "                            \"ORDER BY name;\")[0][0]\n",
        "    print(\"Names of tables in SQLite database: {0}\".format(table_names))\n",
        "    num_rows = sql_query(\"SELECT COUNT(*) FROM loan;\")[0][0]\n",
        "    print(\"Number of records in table: {0}\".format(num_rows))\n",
        "\n",
        "def print_column_names():\n",
        "    \"\"\"Print the column names in the 'loan' table.\n",
        "    Note that the \"index\" column name is specific to Python and is not part of\n",
        "    the original SQLite database.\n",
        "    \"\"\"\n",
        "    conn = sqlite3.connect(\"../input/database.sqlite\")\n",
        "    conn.row_factory = sqlite3.Row\n",
        "    c = conn.cursor()\n",
        "    c.execute(\"SELECT * FROM loan LIMIT 2;\")\n",
        "    r = c.fetchone()\n",
        "    i = 1\n",
        "    print(\"Column names:\")\n",
        "    for k in r.keys():\n",
        "        print(\"{0:d}\\t{1}\".format(i, k))\n",
        "        i += 1\n",
        "    conn.close()\n",
        "\n",
        "print_details()\n",
        "print_column_names()"
      ]
    },
    {
      "cell_type": "markdown",
      "metadata": {
        "_cell_guid": "86ffcf4a-7fb3-43aa-8132-9061f2d7d3e4"
      },
      "source": [
        "# Data exploration\n",
        "Explore loan data records that contain specific strings in the **title** field. The search strings investigated are:\n",
        "\n",
        "* \"credit card\"\n",
        "* \"medical\"\n",
        "* \"debt\""
      ]
    },
    {
      "cell_type": "code",
      "execution_count": null,
      "metadata": {
        "_cell_guid": "5c214cb4-2e68-4d94-ad7a-f5f3e5cfb22d"
      },
      "outputs": [],
      "source": [
        "emp_length_dict = {'n/a':0,\n",
        "                   '< 1 year':0,\n",
        "                   '1 year':1,\n",
        "                   '2 years':2,\n",
        "                   '3 years':3,\n",
        "                   '4 years':4,\n",
        "                   '5 years':5,\n",
        "                   '6 years':6,\n",
        "                   '7 years':7,\n",
        "                   '8 years':8,\n",
        "                   '9 years':9,\n",
        "                   '10+ years':10}\n",
        "\n",
        "home_ownership_dict = {'MORTGAGE':0,\n",
        "                       'OWN':1,\n",
        "                       'RENT':2,\n",
        "                       'OTHER':3,\n",
        "                       'NONE':4,\n",
        "                       'ANY':5}\n",
        "\n",
        "features_dict = {'loan_amnt':0,\n",
        "                 'int_rate':1,\n",
        "                 'annual_inc':2,\n",
        "                 'delinq_2yrs':3,\n",
        "                 'open_acc':4,\n",
        "                 'dti':5,\n",
        "                 'emp_length':6,\n",
        "                 'funded_amnt':7,\n",
        "                 'tot_cur_bal':8,\n",
        "                 'home_ownership':9}\n",
        "\n",
        "def get_data(s):\n",
        "    \"\"\"Return features and targets for a specific search term.\n",
        "\n",
        "    Arguments:\n",
        "    s (str) -- string to search for in loan \"title\" field\n",
        "\n",
        "    Returns:\n",
        "    (list of lists) -- [list of feature tuples, list of targets]\n",
        "         (features) -- [(sample1 features), (sample2 features),...]\n",
        "           (target) -- [sample1 target, sample2 target,...]\n",
        "    \"\"\"\n",
        "    data = sql_query(\"SELECT \" +\n",
        "                     \"loan_amnt,int_rate,annual_inc,\" +\n",
        "                     \"loan_status,title,delinq_2yrs,\" +\n",
        "                     \"open_acc,dti,emp_length,\" +\n",
        "                     \"funded_amnt,tot_cur_bal,home_ownership \" +\n",
        "                     \"FROM loan \" +\n",
        "                     \"WHERE application_type='INDIVIDUAL';\")\n",
        "    features_list = []\n",
        "    target_list = []\n",
        "    n = 0   # counter, number of total samples\n",
        "    n0 = 0  # counter, number of samples with target=0\n",
        "    n1 = 0  # counter, number of samples with target=1\n",
        "    for d in data:\n",
        "        # d[0] (loan_amnt)   -- must have type 'float'\n",
        "        # d[1] (int_rate)    -- must have type 'str'\n",
        "        # d[2] (annual_inc)  -- must have type 'float'\n",
        "        # d[3] (loan_status) -- must have type 'str'\n",
        "        # d[4] (title)       -- must have type 'str'\n",
        "        # d[5] (delinq_2yrs) -- must have type 'float'\n",
        "        # d[6] (open_acc)    -- must have type 'float'\n",
        "        # d[7] (dti)         -- must have type 'float'\n",
        "        # d[8] (emp_length)  -- must have type 'str'\n",
        "        # d[9] (funded_amnt) -- must have type 'float'\n",
        "        # d[10] (tot_cur_bal) -- must have type 'float'\n",
        "        # d[11] (home_ownership) -- must have type 'str'\n",
        "        test0 = isinstance(d[0], float)\n",
        "        test1 = isinstance(d[1], str)\n",
        "        test2 = isinstance(d[2], float)\n",
        "        test3 = isinstance(d[3], str)\n",
        "        test4 = isinstance(d[4], str)\n",
        "        test5 = isinstance(d[5], float)\n",
        "        test6 = isinstance(d[6], float)\n",
        "        test7 = isinstance(d[7], float)\n",
        "        test8 = isinstance(d[8], str)\n",
        "        test9 = isinstance(d[9], float)\n",
        "        test10 = isinstance(d[10], float)\n",
        "        if (test0 and test1 and test2 and test3 and test4 and test5 and\n",
        "            test6 and test7 and test8 and test9 and test10):\n",
        "            # Ensure that \"int_rate\" string value can be converted to float\n",
        "            try:\n",
        "                d1_float = float(d[1].replace(\"%\", \"\"))\n",
        "            except:\n",
        "                continue\n",
        "            # Ensure that \"emp_length\" string value is in dict\n",
        "            try:\n",
        "                e = emp_length_dict[d[8]]\n",
        "            except:\n",
        "                print(\"Error e\")\n",
        "                continue\n",
        "            # Ensure that \"home_ownership\" string value is in dict\n",
        "            try:\n",
        "                h = home_ownership_dict[d[11]]\n",
        "            except:\n",
        "                print(\"Error h\")\n",
        "                continue\n",
        "            # Set \"title\" string to lowercase for search purposes\n",
        "            if s.lower() in d[4].lower():\n",
        "                if d[3] == 'Fully Paid' or d[3] == 'Current':\n",
        "                    target = 0  # Define target value as 0\n",
        "                    n += 1\n",
        "                    n0 += 1\n",
        "                elif 'Late' in d[3] or d[3] == 'Charged Off':\n",
        "                    target = 1  # Define target value as 1\n",
        "                    n += 1\n",
        "                    n1 += 1\n",
        "                else:\n",
        "                    continue\n",
        "                # Define features tuple:\n",
        "                # (loan_amnt, int_rate, annual_inc)\n",
        "                features = (d[0],\n",
        "                            float(d[1].replace(\"%\", \"\")),\n",
        "                            d[2],\n",
        "                            d[5],\n",
        "                            d[6],\n",
        "                            d[7],\n",
        "                            emp_length_dict[d[8]],\n",
        "                            d[9],\n",
        "                            d[10],\n",
        "                            home_ownership_dict[d[11]])\n",
        "                features_list.append(features)\n",
        "                target_list.append(target)\n",
        "        else:\n",
        "            pass\n",
        "    print(\"----------------------------------------\")\n",
        "    print(s)\n",
        "    print(\"----------------------------------------\")\n",
        "    print(\"Total number of samples: {0}\".format(n))\n",
        "    print(\"% of all samples with target=0: {0:3.4f}%\".format(100*n0/(n0+n1)))\n",
        "    print(\"% of all samples with target=1: {0:3.4f}%\".format(100*n1/(n0+n1)))\n",
        "    print(\"\")\n",
        "    result = [features_list, target_list]\n",
        "    return result\n",
        "\n",
        "def create_scatter_plot(x0_data, y0_data,\n",
        "                        x1_data, y1_data,\n",
        "                        pt, pa,\n",
        "                        x_label, y_label,\n",
        "                        axis_type):\n",
        "    plt.figure(num=2, figsize=(8, 8))\n",
        "    ax = plt.gca()\n",
        "    ax.set_axis_bgcolor(\"#BBBBBB\")\n",
        "    ax.set_axisbelow(True)\n",
        "    plt.subplots_adjust(bottom=0.1, left=0.15, right=0.95, top=0.95)\n",
        "    plt.title(pt, fontsize=16)\n",
        "    plt.axis(pa)\n",
        "    plt.xlabel(x_label, fontsize=16)\n",
        "    plt.ylabel(y_label, fontsize=16)\n",
        "    plt.xticks(fontsize=16)\n",
        "    plt.yticks(fontsize=16)\n",
        "    if axis_type == 'semilogx':\n",
        "        plt.semilogx(x0_data, y0_data, label='0: \"Fully Paid\" or \"Current\"',\n",
        "                     linestyle='None', marker='.', markersize=8,\n",
        "                     alpha=0.5, color='b')\n",
        "        plt.semilogx(x1_data, y1_data, label='1: \"Late\" or \"Charged Off\"',\n",
        "                     linestyle='None', marker='.', markersize=8,\n",
        "                     alpha=0.5, color='r')\n",
        "    elif axis_type == 'semilogy':\n",
        "        plt.semilogy(x0_data, y0_data, label='0: \"Fully Paid\" or \"Current\"',\n",
        "                     linestyle='None', marker='.', markersize=8,\n",
        "                     alpha=0.5, color='b')\n",
        "        plt.semilogy(x1_data, y1_data, label='1: \"Late\" or \"Charged Off\"',\n",
        "                     linestyle='None', marker='.', markersize=8,\n",
        "                     alpha=0.5, color='r')\n",
        "    elif axis_type == \"loglog\":\n",
        "        plt.loglog(x0_data, y0_data, label='0: \"Fully Paid\" or \"Current\"',\n",
        "                   linestyle='None', marker='.', markersize=8,\n",
        "                   alpha=0.5, color='b')\n",
        "        plt.loglog(x1_data, y1_data, label='1: \"Late\" or \"Charged Off\"',\n",
        "                   linestyle='None', marker='.', markersize=8,\n",
        "                   alpha=0.5, color='r')\n",
        "    else:\n",
        "        plt.plot(x0_data, y0_data, label='0: \"Fully Paid\" or \"Current\"',\n",
        "                 linestyle='None', marker='.', markersize=8,\n",
        "                 alpha=0.5, color='b')\n",
        "        plt.plot(x1_data, y1_data, label='1: \"Late\" or \"Charged Off\"',\n",
        "                 linestyle='None', marker='.', markersize=8,\n",
        "                 alpha=0.5, color='r')\n",
        "    plt.grid(b=True, which='major', axis='both',\n",
        "             linestyle=\"-\", color=\"white\")\n",
        "    plt.legend(loc='upper right', numpoints=1, fontsize=12)\n",
        "    plt.show()\n",
        "    plt.clf()\n",
        "\n",
        "def plot_two_fields(data, s, f1, f2,\n",
        "                    pa, x_label, y_label,\n",
        "                    axis_type):\n",
        "    # d (list of lists) -- data from \"get_data\" function\n",
        "    # s (string) -- search string\n",
        "    # f1 (string) -- database field 1\n",
        "    # f2 (string) -- database field 2\n",
        "    # pa (list) -- plot axis\n",
        "    # x_label (string) -- x-axis label\n",
        "    # y_label (string) -- y-axis label\n",
        "    # fn (string) -- figure name\n",
        "    x0_list = []  # Fully Paid or Current\n",
        "    y0_list = []  # Fully Paid or Current\n",
        "    x1_list = []  # Late or Charged Off\n",
        "    y1_list = []  # Late or Charged Off\n",
        "    features_list = data[0]\n",
        "    target_list = data[1]\n",
        "    for i in range(len(features_list)):\n",
        "        x = features_list[i][features_dict[f1]]\n",
        "        y = features_list[i][features_dict[f2]]\n",
        "        if target_list[i] == 0:\n",
        "            x0_list.append(x)\n",
        "            y0_list.append(y)\n",
        "        elif target_list[i] == 1:\n",
        "            x1_list.append(x)\n",
        "            y1_list.append(y)\n",
        "        else:\n",
        "            pass\n",
        "    create_scatter_plot(\n",
        "        x0_list, y0_list,\n",
        "        x1_list, y1_list,\n",
        "        \"Loan title search term: \" + s, pa,\n",
        "        x_label, y_label,\n",
        "        axis_type)"
      ]
    },
    {
      "cell_type": "markdown",
      "metadata": {
        "_cell_guid": "872f9c61-2654-4353-9d47-8d86486fb4c0"
      },
      "source": [
        "### Search string: \"credit card\""
      ]
    },
    {
      "cell_type": "code",
      "execution_count": null,
      "metadata": {
        "_cell_guid": "64edef10-3442-4a9c-a8b1-a5f4147234f1"
      },
      "outputs": [],
      "source": [
        "cc_data = get_data('credit card')"
      ]
    },
    {
      "cell_type": "code",
      "execution_count": null,
      "metadata": {
        "_cell_guid": "3a289600-ce3d-4cbf-84e4-dc7ec615a8f1"
      },
      "outputs": [],
      "source": [
        "plot_two_fields(cc_data, 'credit card', 'loan_amnt', 'int_rate',\n",
        "                [1e2, 1e5, 5.0, 30.0], 'loan amount', 'interest rate',\n",
        "                'semilogx')"
      ]
    },
    {
      "cell_type": "code",
      "execution_count": null,
      "metadata": {
        "_cell_guid": "8ee15a48-d752-4496-87f5-11478b6fbb7e"
      },
      "outputs": [],
      "source": [
        "plot_two_fields(cc_data, 'credit card', 'annual_inc', 'int_rate',\n",
        "                [1e3, 1e7, 5.0, 30.0], 'annual income', 'interest rate',\n",
        "                'semilogx')"
      ]
    },
    {
      "cell_type": "code",
      "execution_count": null,
      "metadata": {
        "_cell_guid": "5df827c1-f955-4d6d-a1ee-c61813544bea"
      },
      "outputs": [],
      "source": [
        "plot_two_fields(cc_data, 'credit card', 'annual_inc', 'loan_amnt',\n",
        "                [1e3, 1e7, 0.0, 35000.0], 'annual income', 'loan amount',\n",
        "                'semilogx')"
      ]
    },
    {
      "cell_type": "code",
      "execution_count": null,
      "metadata": {
        "_cell_guid": "1e82df4c-30e7-4d3d-8e79-457ffc267fcd"
      },
      "outputs": [],
      "source": [
        "plot_two_fields(cc_data, 'credit card', 'loan_amnt', 'funded_amnt',\n",
        "                [0.0, 35000.0, 0.0, 35000.0], 'loan amount', 'funded amount',\n",
        "                'standard')"
      ]
    },
    {
      "cell_type": "code",
      "execution_count": null,
      "metadata": {
        "_cell_guid": "e3100bd5-6527-473e-9156-96a017e69fd6"
      },
      "outputs": [],
      "source": [
        "plot_two_fields(cc_data, 'credit card', 'home_ownership', 'funded_amnt',\n",
        "                [-1, 6, 0.0, 35000.0], 'home ownership', 'funded amount',\n",
        "                'standard')"
      ]
    },
    {
      "cell_type": "markdown",
      "metadata": {
        "_cell_guid": "8ba8d5d3-f566-446b-9c06-4c7db18f69ee"
      },
      "source": [
        "### Search string: \"medical\""
      ]
    },
    {
      "cell_type": "code",
      "execution_count": null,
      "metadata": {
        "_cell_guid": "723b89c0-a0ff-4bf2-9a60-7001262ca572"
      },
      "outputs": [],
      "source": [
        "medical_data = get_data('medical')"
      ]
    },
    {
      "cell_type": "code",
      "execution_count": null,
      "metadata": {
        "_cell_guid": "60e2a8af-00b7-4802-9440-7cad0af70719"
      },
      "outputs": [],
      "source": [
        "plot_two_fields(medical_data, 'medical', 'loan_amnt', 'int_rate',\n",
        "                [1e2, 1e5, 5.0, 30.0], 'loan amount', 'interest rate',\n",
        "                'semilogx')"
      ]
    },
    {
      "cell_type": "code",
      "execution_count": null,
      "metadata": {
        "_cell_guid": "0881c1d6-b874-4d1e-b286-703c461bde1e"
      },
      "outputs": [],
      "source": [
        "plot_two_fields(medical_data, 'medical', 'annual_inc', 'int_rate',\n",
        "                [1e3, 1e7, 5.0, 30.0], 'annual income', 'interest rate',\n",
        "                'semilogx')"
      ]
    },
    {
      "cell_type": "code",
      "execution_count": null,
      "metadata": {
        "_cell_guid": "980f6a8e-bb81-4cd6-848b-af025c730c53"
      },
      "outputs": [],
      "source": [
        "plot_two_fields(medical_data, 'medical', 'annual_inc', 'loan_amnt',\n",
        "                [1e3, 1e7, 0.0, 35000.0], 'annual income', 'loan amount',\n",
        "                'semilogx')"
      ]
    },
    {
      "cell_type": "code",
      "execution_count": null,
      "metadata": {
        "_cell_guid": "2901b99c-d5e2-4bad-9db3-16f3fd30896b"
      },
      "outputs": [],
      "source": [
        "plot_two_fields(medical_data, 'medical', 'loan_amnt', 'funded_amnt',\n",
        "                [0.0, 35000.0, 0.0, 35000.0], 'loan amount', 'funded amount',\n",
        "                'standard')"
      ]
    },
    {
      "cell_type": "code",
      "execution_count": null,
      "metadata": {
        "_cell_guid": "956aa427-cb84-43aa-9c6f-5c647f2b7451"
      },
      "outputs": [],
      "source": [
        "plot_two_fields(medical_data, 'medical', 'home_ownership', 'funded_amnt',\n",
        "                [-1, 6, 0.0, 35000.0], 'home ownership', 'funded amount',\n",
        "                'standard')"
      ]
    },
    {
      "cell_type": "markdown",
      "metadata": {
        "_cell_guid": "e3f77ce0-9aaf-4a60-8571-5c1be2cc3b20"
      },
      "source": [
        "### Search string: \"debt\""
      ]
    },
    {
      "cell_type": "code",
      "execution_count": null,
      "metadata": {
        "_cell_guid": "a9daebdd-7cdd-4e45-8c07-14d551a5e529"
      },
      "outputs": [],
      "source": [
        "debt_data = get_data('debt')"
      ]
    },
    {
      "cell_type": "code",
      "execution_count": null,
      "metadata": {
        "_cell_guid": "6380a294-3f85-40a4-9892-e7e16ba6505f"
      },
      "outputs": [],
      "source": [
        "plot_two_fields(debt_data, 'debt', 'loan_amnt', 'int_rate',\n",
        "                [1e2, 1e5, 5.0, 30.0], 'loan amount', 'interest rate',\n",
        "                'semilogx')"
      ]
    },
    {
      "cell_type": "code",
      "execution_count": null,
      "metadata": {
        "_cell_guid": "59eae0af-bd8b-4ec6-8582-c026f4e67859"
      },
      "outputs": [],
      "source": [
        "plot_two_fields(debt_data, 'debt', 'annual_inc', 'int_rate',\n",
        "                [1e3, 1e7, 5.0, 30.0], 'annual income', 'interest rate',\n",
        "                'semilogx')"
      ]
    },
    {
      "cell_type": "code",
      "execution_count": null,
      "metadata": {
        "_cell_guid": "9804c800-3e58-40cf-9e24-388398c440ab"
      },
      "outputs": [],
      "source": [
        "plot_two_fields(debt_data, 'debt', 'annual_inc', 'loan_amnt',\n",
        "                [1e3, 1e7, 0.0, 35000.0], 'annual income', 'loan amount',\n",
        "                'semilogx')"
      ]
    },
    {
      "cell_type": "code",
      "execution_count": null,
      "metadata": {
        "_cell_guid": "80af9c05-ee0f-466e-b7a6-cb40c1615405"
      },
      "outputs": [],
      "source": [
        "plot_two_fields(debt_data, 'debt', 'loan_amnt', 'funded_amnt',\n",
        "                [0.0, 35000.0, 0.0, 35000.0], 'loan amount', 'funded amount',\n",
        "                'standard')"
      ]
    },
    {
      "cell_type": "code",
      "execution_count": null,
      "metadata": {
        "_cell_guid": "4eb3a83e-47ee-49f5-8048-89bc5fee5e87"
      },
      "outputs": [],
      "source": [
        "plot_two_fields(debt_data, 'debt', 'home_ownership', 'funded_amnt',\n",
        "                [-1, 6, 0.0, 35000.0], 'home ownership', 'funded amount',\n",
        "                'standard')"
      ]
    },
    {
      "cell_type": "markdown",
      "metadata": {
        "_cell_guid": "fbf1cb5b-a2fd-4ada-85f2-af6dadfa0e24"
      },
      "source": [
        "# Decision tree classifer for predicting the loan status\n",
        "A decision tree classifier (scikit-learn) is used to predict the **loan_status**. A binary classification system is used, in which the values for the **loan_status** field are classified as follows:\n",
        "\n",
        "* 0: \"Fully Paid\" or \"Current\"\n",
        "* 1: \"Late\" (for any time period) or \"Charged Off\"\n",
        "\n",
        "The loan status category (0 or 1) is hereafter referred to as the \"target\"."
      ]
    },
    {
      "cell_type": "code",
      "execution_count": null,
      "metadata": {
        "_cell_guid": "b405b49c-e982-4f38-80be-f2d2b54988a1"
      },
      "outputs": [],
      "source": [
        "def create_classifier(f, t, nt):\n",
        "    \"\"\"Create classifier for predicting loan status. Print accuracy.\n",
        "\n",
        "    Arguments:\n",
        "    f (list of tuples) -- [(sample 1 features), (sample 2 features),...]\n",
        "    t (list)           -- [sample 1 target, sample 2 target,...]\n",
        "    nt (int)           -- number of samples to use in training set\n",
        "    \"\"\"\n",
        "    training_set_features = [] \n",
        "    training_set_target = [] \n",
        "    testing_set_features = []\n",
        "    testing_set_target = []\n",
        "    print(\"Number of training set samples:\\t{0}\".format(nt))\n",
        "    print(\"Number of testing set samples:\\t{0}\".format(len(f)-nt))\n",
        "    print(\"\")\n",
        "    # Build training set\n",
        "    for i in np.arange(0, nt, 1):\n",
        "        training_set_features.append(f[i])\n",
        "        training_set_target.append(t[i])\n",
        "    # Build testing set\n",
        "    for i in np.arange(nt, len(f), 1):\n",
        "        testing_set_features.append(f[i])\n",
        "        testing_set_target.append(t[i])\n",
        "    clf = tree.DecisionTreeClassifier()\n",
        "    clf = clf.fit(training_set_features, training_set_target)\n",
        "    n = 0\n",
        "    n_correct = 0\n",
        "    n0 = 0\n",
        "    n0_correct = 0\n",
        "    n1 = 0\n",
        "    n1_correct = 0\n",
        "    # Compare predictions to testing data\n",
        "    for i in range(len(testing_set_features)):\n",
        "        t = testing_set_target[i]\n",
        "        p = clf.predict(np.asarray(testing_set_features[i]).reshape(1, -1))\n",
        "        # Category 0\n",
        "        if t == 0:\n",
        "            if t == p[0]:\n",
        "                equal = \"yes\"\n",
        "                n_correct += 1\n",
        "                n0_correct += 1\n",
        "            else:\n",
        "                equal = \"no\"\n",
        "            n += 1\n",
        "            n0 += 1\n",
        "        # Category 1\n",
        "        elif t == 1:\n",
        "            if t == p[0]:\n",
        "                equal = \"yes\"\n",
        "                n_correct += 1\n",
        "                n1_correct += 1\n",
        "            else:\n",
        "                equal = \"no\"\n",
        "            n += 1\n",
        "            n1 += 1\n",
        "        else:\n",
        "            pass\n",
        "    n_accuracy = 100.0 * n_correct / n\n",
        "    n0_accuracy = 100.0 * n0_correct / n0\n",
        "    n1_accuracy = 100.0 * n1_correct / n1\n",
        "    print(\"Accuracy of predicting testing set target values:\")\n",
        "    # Accuracy - manual calculation:\n",
        "    print(\"    All samples (method 1): {0:3.4f}%\".format(n_accuracy))\n",
        "    # Accuracy - scikit-learn built-in method:\n",
        "    print(\"    All samples (method 2): {0:3.4f}%\".format(\n",
        "          100.0 * clf.score(testing_set_features, testing_set_target)))\n",
        "    print(\"    Samples with target=0: {0:3.4f}%\".format(n0_accuracy))\n",
        "    print(\"    Samples with target=1: {0:3.4f}%\\n\".format(n1_accuracy))"
      ]
    },
    {
      "cell_type": "markdown",
      "metadata": {
        "_cell_guid": "8328d771-ae2a-4e35-8cb0-4f843eafbb18"
      },
      "source": [
        "### Search string: \"credit card\""
      ]
    },
    {
      "cell_type": "code",
      "execution_count": null,
      "metadata": {
        "_cell_guid": "15300381-1253-4c4b-9891-4e2f7d968314"
      },
      "outputs": [],
      "source": [
        "create_classifier(cc_data[0], cc_data[1], 2000)"
      ]
    },
    {
      "cell_type": "markdown",
      "metadata": {
        "_cell_guid": "b788eb22-7d52-4faf-a009-d80ecea87d5d"
      },
      "source": [
        "### Search string: \"medical\""
      ]
    },
    {
      "cell_type": "code",
      "execution_count": null,
      "metadata": {
        "_cell_guid": "dd80fbb1-e01f-4cc6-bfff-f5fc3aeadc84"
      },
      "outputs": [],
      "source": [
        "create_classifier(medical_data[0], medical_data[1], 2000)"
      ]
    },
    {
      "cell_type": "markdown",
      "metadata": {
        "_cell_guid": "1d33b7a2-ee1c-41c4-aa18-db5ba6293b0d"
      },
      "source": [
        "### Search string: \"debt\""
      ]
    },
    {
      "cell_type": "code",
      "execution_count": null,
      "metadata": {
        "_cell_guid": "bec3df7f-88a3-4c94-8d30-de7881eda1c9"
      },
      "outputs": [],
      "source": [
        "create_classifier(debt_data[0], debt_data[1], 2000)"
      ]
    },
    {
      "cell_type": "markdown",
      "metadata": {
        "_cell_guid": "b2bdd08e-676e-47d2-a1c1-ba7903e90dea"
      },
      "source": [
        "# Conclusions\n",
        "A decision tree classifier was used to predict the loan status category (0 or 1) for loan data associated with specific search strings. Loans with a **poor** loan status category (target=1) were predicted with an accuracy in the range of 16-18% for the three search strings investigated.\n",
        "\n",
        "The ability to accurately predict loans that are likely to end up with a **poor** outcome is valuable for lenders since this reduces the chance of funding a loan that results in a net financial loss.\n",
        "\n",
        "# Limitations\n",
        "\n",
        "* The **poor** loan data was plotted after the **good** loan data. Consequently, many of the **good** loan data points are hidden underneath the **bad** loan data points, resulting in an over representation of the **bad** data points in the plots.\n",
        "* The decision tree classifier was tested with only a single training set for each of the three search strings.\n",
        "* The date/time features of the data have not been taken into account.\n",
        "\n",
        "# Future work\n",
        "\n",
        "* Improve data visualization so that fewer **good** loan data points are hidden under the **bad** loan data points.\n",
        "* Test the decision tree classifier with multiple training sets for each of the three search strings.\n",
        "* Improve the prediction accuracy.\n",
        "* Consider the date/time features of the data.\n",
        "\n",
        "***Comments/critiques are welcomed, thanks!***"
      ]
    }
  ],
  "metadata": {
    "_change_revision": 0,
    "_is_fork": false,
    "kernelspec": {
      "display_name": "Python 3",
      "language": "python",
      "name": "python3"
    },
    "language_info": {
      "codemirror_mode": {
        "name": "ipython",
        "version": 3
      },
      "file_extension": ".py",
      "mimetype": "text/x-python",
      "name": "python",
      "nbconvert_exporter": "python",
      "pygments_lexer": "ipython3",
      "version": "3.5.2"
    }
  },
  "nbformat": 4,
  "nbformat_minor": 0
}