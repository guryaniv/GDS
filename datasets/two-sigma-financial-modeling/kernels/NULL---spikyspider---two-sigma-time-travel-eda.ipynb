{
  "cells": [
    {
      "cell_type": "markdown",
      "metadata": {
        "_cell_guid": "12e83245-0418-da0a-64f4-839a062a2322"
      },
      "source": [
        "## Getting insights from the Timestamp variable\n",
        "\n",
        "Here's an in-depth analysis of the Timestamp variable in this first-of-its-kind code competition.\n",
        "The first few code cells are just general EDA, as that's what this used to be before I decided to go more in-depth into the time aspect :)\n",
        "\n",
        "Any feedback or upvotes are very much appreciated!"
      ]
    },
    {
      "cell_type": "code",
      "execution_count": null,
      "metadata": {
        "_cell_guid": "984972a8-c48c-91ec-9f1d-b5062fe3c318"
      },
      "outputs": [],
      "source": [
        "import numpy as np # linear algebra\n",
        "import pandas as pd # data processing, CSV file I/O (e.g. pd.read_csv)\n",
        "import matplotlib.pyplot as plt\n",
        "import seaborn as sns\n",
        "%matplotlib inline\n",
        "p = sns.color_palette()"
      ]
    },
    {
      "cell_type": "code",
      "execution_count": null,
      "metadata": {
        "_cell_guid": "365ce5c8-c677-8310-1682-6aab2cf0e00d"
      },
      "outputs": [],
      "source": [
        "with pd.HDFStore(\"../input/train.h5\", \"r\") as train:\n",
        "    df = train.get(\"train\")"
      ]
    },
    {
      "cell_type": "code",
      "execution_count": null,
      "metadata": {
        "_cell_guid": "b231a02a-aa43-21f1-f2cf-2602fab94f11"
      },
      "outputs": [],
      "source": [
        "print('Number of rows: {}, Number of columns: {}'.format(*df.shape))"
      ]
    },
    {
      "cell_type": "code",
      "execution_count": null,
      "metadata": {
        "_cell_guid": "5f68c0e7-6094-920c-0493-4bd3a6b7c0a1"
      },
      "outputs": [],
      "source": [
        "cols = [0, 0, 0]\n",
        "for c in df.columns:\n",
        "    if 'derived' in c: cols[0] += 1\n",
        "    if 'fundamental' in c: cols[1] += 1\n",
        "    if 'technical' in c: cols[2] += 1\n",
        "print('Derived columns: {}, Fundamental columns: {}, Technical columns: {}'.format(*cols))\n",
        "print('\\nColumn dtypes:')\n",
        "print(df.dtypes.value_counts())\n",
        "print('\\nint16 columns:')\n",
        "print(df.columns[df.dtypes == 'int16'])"
      ]
    },
    {
      "cell_type": "code",
      "execution_count": null,
      "metadata": {
        "_cell_guid": "47c75cb2-7054-7e4a-6471-c384daf6d663"
      },
      "outputs": [],
      "source": [
        "df.describe()"
      ]
    },
    {
      "cell_type": "code",
      "execution_count": null,
      "metadata": {
        "_cell_guid": "4944fb21-9ed7-6d25-ea71-6d19faac22d6"
      },
      "outputs": [],
      "source": [
        "#cor = df.corr()\n",
        "mask = np.zeros_like(cor, dtype=np.bool)\n",
        "mask[np.triu_indices_from(mask)] = True\n",
        "\n",
        "# Set up the matplotlib figure\n",
        "f, ax = plt.subplots(figsize=(11, 9))\n",
        "cmap = sns.diverging_palette(220, 10, as_cmap=True)\n",
        "sns.heatmap(cor, mask=mask, cmap=cmap, vmax=.3,\n",
        "            square=True, xticklabels=5, yticklabels=5,\n",
        "            linewidths=.5, cbar_kws={\"shrink\": .5}, ax=ax)"
      ]
    },
    {
      "cell_type": "code",
      "execution_count": null,
      "metadata": {
        "_cell_guid": "14b1929a-83e9-e75f-2308-08df289431c5"
      },
      "outputs": [],
      "source": [
        "from xgboost import XGBRegressor"
      ]
    },
    {
      "cell_type": "code",
      "execution_count": null,
      "metadata": {
        "_cell_guid": "16fbf9b8-8271-c444-29c8-d6b6ddfee849"
      },
      "outputs": [],
      "source": [
        "model = XGBRegressor()\n",
        "model.fit(df.drop(['y'], axis = 1, inplace = False), df.y)"
      ]
    },
    {
      "cell_type": "code",
      "execution_count": null,
      "metadata": {
        "_cell_guid": "79fa086b-677c-c859-4ddd-0b8061d1f983"
      },
      "outputs": [],
      "source": [
        "model.predict(df.drop(['y'], axis = 1, inplace = False))"
      ]
    },
    {
      "cell_type": "code",
      "execution_count": null,
      "metadata": {
        "_cell_guid": "61c6262e-d284-1803-dfba-7d43df8554cf"
      },
      "outputs": [],
      "source": ""
    }
  ],
  "metadata": {
    "_change_revision": 0,
    "_is_fork": false,
    "kernelspec": {
      "display_name": "Python 3",
      "language": "python",
      "name": "python3"
    },
    "language_info": {
      "codemirror_mode": {
        "name": "ipython",
        "version": 3
      },
      "file_extension": ".py",
      "mimetype": "text/x-python",
      "name": "python",
      "nbconvert_exporter": "python",
      "pygments_lexer": "ipython3",
      "version": "3.5.2"
    }
  },
  "nbformat": 4,
  "nbformat_minor": 0
}