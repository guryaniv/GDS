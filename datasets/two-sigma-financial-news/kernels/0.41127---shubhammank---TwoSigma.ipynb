{
  "cells": [
    {
      "metadata": {
        "_uuid": "8f2839f25d086af736a60e9eeb907d3b93b6e0e5",
        "_cell_guid": "b1076dfc-b9ad-4769-8c92-a6c4dae69d19",
        "trusted": true
      },
      "cell_type": "code",
      "source": "import pandas as pd\nimport numpy as np\nfrom sklearn import *\nimport lightgbm as lgb\nfrom kaggle.competitions import twosigmanews\n\nenv = twosigmanews.make_env()\n(market_train, news_train) = env.get_training_data()",
      "execution_count": null,
      "outputs": []
    },
    {
      "metadata": {
        "_cell_guid": "79c7e3d0-c299-4dcb-8224-4455121ee9b0",
        "_uuid": "d629ff2d2480ee46fbb7e2d37f6b5fab8052498a",
        "trusted": true
      },
      "cell_type": "code",
      "source": "def more_news(df):\n    df['assetCodes'] = df['assetCodes'].astype(str)\n    df['assetCodes'] = df['assetCodes'].map(lambda x: eval(x.replace('{','[').replace('}',']')))\n    news_col = [c for c in df.columns if c not in ['assetCodes']]\n    df = df.set_index(news_col)['assetCodes'].apply(pd.Series).stack().reset_index()\n    df.columns = news_col + ['assetCodes_count', 'assetCodes']\n    return df\n\nmarket_train['time'] = pd.to_datetime(market_train['time']).dt.date.astype(str)\nnews_train.sourceTimestamp = news_train.sourceTimestamp.dt.hour\nnews_train.firstCreated = pd.to_datetime(news_train['firstCreated']).dt.date.astype(str)\nlbl = {k: v for v, k in enumerate(market_train['assetCode'].unique())}\nmarket_train['assetCodeT'] = market_train['assetCode'].map(lbl)",
      "execution_count": null,
      "outputs": []
    },
    {
      "metadata": {
        "trusted": true,
        "_uuid": "fb04523925644ceb39d888029b77587b6d0ff9e7"
      },
      "cell_type": "code",
      "source": "market_train = market_train[market_train['time']>= '2016-07-01'].reset_index(drop=True)\nnews_train = news_train[news_train['firstCreated'].astype(str) >= '2016-07-01'].reset_index(drop=True)\n\nnt_col = [c for c in news_train if c not in ['assetName', 'audiences', 'headline', 'headlineTag', 'marketCommentary', 'provider', 'sourceId', 'subjects']]\nnews_train = more_news(news_train[nt_col])\nnews_train = news_train.groupby(['firstCreated', 'assetCodes'], as_index=False).agg([np.sum, np.mean, np.min, np.max]).reset_index()\nmarket_train = pd.merge(market_train, news_train, how='left', left_on=['time', 'assetCode'], right_on=['firstCreated', 'assetCodes'])\nmarket_train.columns = [''.join(c) for c in market_train.columns]\nmarket_train.dropna(axis=0, inplace=True)\nnews_train = []",
      "execution_count": null,
      "outputs": []
    },
    {
      "metadata": {
        "trusted": true,
        "_uuid": "6c069dea8bfa1d796623a85c42535972f1d59f4e"
      },
      "cell_type": "code",
      "source": "fcol = [c for c in market_train.columns if c not in ['assetCode', 'assetCodes', 'assetCodes_count', 'assetCodeT', 'assetName', 'audiences', 'firstCreated', 'headline', 'headlineTag', 'marketCommentary', 'provider', 'returnsOpenNextMktres10', 'sourceId', 'subjects', 'time', 'time_x', 'universe']]\nx1, x2 = model_selection.train_test_split(market_train, test_size=0.25, random_state=99)\n\ndef lgb_2s(preds, y):\n    try:\n        w = np.array(list(y.get_weight()))\n        y = np.array(list(y.get_label()))\n        xt = preds * y * w\n        score= np.mean(xt) / np.std(xt)\n    except:\n        score = 0.0\n    return '2_S', score, True\n\nparams = {'learning_rate': 0.08, 'boosting': 'gbdt', 'objective': 'regression', 'seed': 18}\nlgb_model = lgb.train(params, lgb.Dataset(x1[fcol], label=x1['returnsOpenNextMktres10'], weight=x1['universe']), 500, lgb.Dataset(x2[fcol], label=x2['returnsOpenNextMktres10'], weight=x2['universe']), feval=lgb_2s, verbose_eval=10, early_stopping_rounds=20)",
      "execution_count": null,
      "outputs": []
    },
    {
      "metadata": {
        "trusted": true,
        "_uuid": "e6ad0e058c280156006721eecc0d71c412e6a366"
      },
      "cell_type": "code",
      "source": "import matplotlib.pyplot as plt\nimport seaborn as sns\n\ndf = pd.DataFrame({'imp': lgb_model.feature_importance(importance_type='gain'), 'col':fcol})\ndf = df.sort_values(['imp','col'], ascending=[True, False])\n\ndf = pd.DataFrame({'imp': lgb_model.feature_importance(importance_type='split'), 'col':fcol})\ndf = df.sort_values(['imp','col'], ascending=[True, False])",
      "execution_count": null,
      "outputs": []
    },
    {
      "metadata": {
        "trusted": true,
        "_uuid": "351a286e340b88c89faab49f59dbb3334d9029ae"
      },
      "cell_type": "code",
      "source": "for (market_test, news_test, sub) in env.get_prediction_days():\n    market_test.time = pd.to_datetime(market_test['time']).dt.date.astype(str)\n    news_test.sourceTimestamp= news_test.sourceTimestamp.dt.hour\n    news_test.firstCreated = pd.to_datetime(news_test['firstCreated']).dt.date.astype(str)\n    news_test = more_news(news_test)\n    news_test = news_test.groupby(['firstCreated', 'assetCodes'], as_index=False).agg([np.sum, np.mean, np.min, np.max])\n    market_test = pd.merge(market_test, news_test, how='left', left_on=['time', 'assetCode'], right_on=['firstCreated', 'assetCodes'])\n    market_test.columns = [''.join(c) for c in market_test.columns]\n    market_test['assetCodeT'] = market_test['assetCode'].map(lambda x: lbl[x] if x in lbl else 0)\n    market_test['confidenceValue'] = lgb_model.predict(market_test[fcol], num_iteration=lgb_model.best_iteration).clip(-0.99, 0.99)\n    sub = market_test[['assetCode','confidenceValue']]\n    env.predict(sub)\nenv.write_submission_file()",
      "execution_count": null,
      "outputs": []
    },
    {
      "metadata": {
        "trusted": true,
        "_uuid": "e5cb1769013219d116cfca8a4ab1466a186243d5"
      },
      "cell_type": "code",
      "source": "",
      "execution_count": null,
      "outputs": []
    },
    {
      "metadata": {
        "trusted": true,
        "_uuid": "608d935401cfb0b5920e1be56ed8962dba088b29"
      },
      "cell_type": "code",
      "source": "",
      "execution_count": null,
      "outputs": []
    }
  ],
  "metadata": {
    "kernelspec": {
      "display_name": "Python 3",
      "language": "python",
      "name": "python3"
    },
    "language_info": {
      "name": "python",
      "version": "3.6.6",
      "mimetype": "text/x-python",
      "codemirror_mode": {
        "name": "ipython",
        "version": 3
      },
      "pygments_lexer": "ipython3",
      "nbconvert_exporter": "python",
      "file_extension": ".py"
    }
  },
  "nbformat": 4,
  "nbformat_minor": 1
}