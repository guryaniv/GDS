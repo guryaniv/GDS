{
  "cells": [
    {
      "cell_type": "markdown",
      "metadata": {
        "_cell_guid": "94c6e0c6-c8ef-f9dd-4d51-e58b66147111"
      },
      "source": [
        "Trying Random Forest, Na\u00efve Bayes and Logistic Regression to predict credit card fraud"
      ]
    },
    {
      "cell_type": "code",
      "execution_count": null,
      "metadata": {
        "_cell_guid": "84f5ec77-6da0-86c7-e33c-b271ed9edb59"
      },
      "outputs": [],
      "source": [
        "# Load dataset\n",
        "import pandas as pd\n",
        "\n",
        "data = pd.read_csv(\"../input/creditcard.csv\")"
      ]
    },
    {
      "cell_type": "code",
      "execution_count": null,
      "metadata": {
        "_cell_guid": "bfa72ab5-d0a6-1175-a044-2854956fab45"
      },
      "outputs": [],
      "source": [
        "# Scale data in 'Amount' columns\n",
        "from sklearn.preprocessing import StandardScaler\n",
        "\n",
        "data['stdAmount'] = StandardScaler().fit_transform(data['Amount'].reshape(-1,1))\n",
        "\n",
        "# Drop 'Amount'\n",
        "data = data.drop(['Time', 'Amount'],axis=1)\n",
        "\n",
        "data.head()"
      ]
    },
    {
      "cell_type": "code",
      "execution_count": null,
      "metadata": {
        "_cell_guid": "63902733-cbad-fae2-5746-748bd7460205"
      },
      "outputs": [],
      "source": [
        "# Create X and y\n",
        "\n",
        "y = data['Class']\n",
        "X = data.drop(['Class'], axis=1)"
      ]
    },
    {
      "cell_type": "code",
      "execution_count": null,
      "metadata": {
        "_cell_guid": "3e0b1bf5-9525-cf0f-6b78-bee94c1d66e2"
      },
      "outputs": [],
      "source": [
        "# Import 'train_test_split'\n",
        "from sklearn.model_selection import train_test_split\n",
        "\n",
        "# Shuffle and split the data into training and testing subsets\n",
        "X_train, X_test, y_train, y_test = train_test_split(X, y, test_size = 0.2, random_state = 0)"
      ]
    },
    {
      "cell_type": "code",
      "execution_count": null,
      "metadata": {
        "_cell_guid": "aecdc8f7-0ad3-f38b-6e89-041460f06457"
      },
      "outputs": [],
      "source": [
        "# Try RandomForestClassifier\n",
        "'''Random forests or random decision forests are an ensemble learning method for classification, regression and other tasks, that operate by constructing a multitude of decision trees at training time and outputting the class that is the mode of the classes (classification) or mean prediction (regression) of the individual trees (source: Wikipedia)'''\n",
        "\n",
        "from sklearn.ensemble import RandomForestClassifier\n",
        "\n",
        "clf1 = RandomForestClassifier()\n",
        "clf1 = clf1.fit(X_train, y_train)\n",
        "\n",
        "y_pred1 = clf1.predict(X_train)\n",
        "\n",
        "# calculate cross validation score\n",
        "\n",
        "from sklearn.model_selection import cross_val_score\n",
        "\n",
        "scores = cross_val_score(clf1, X_train, y_train, cv=5)\n",
        "print(\"Accuracy: %0.2f (+/- %0.2f)\" % (scores.mean(), scores.std() * 2))"
      ]
    },
    {
      "cell_type": "code",
      "execution_count": null,
      "metadata": {
        "_cell_guid": "c7762f91-e88d-3e0d-0c6b-9378b5f756fa"
      },
      "outputs": [],
      "source": [
        "# Compute Area Under the Curve (AUC) from prediction scores\n",
        "\n",
        "from sklearn.metrics import roc_auc_score\n",
        "\n",
        "AUC1 = roc_auc_score(y_train, y_pred1)\n",
        "print(\"Roc AUC score: %0.2f \" % (AUC1))"
      ]
    },
    {
      "cell_type": "code",
      "execution_count": null,
      "metadata": {
        "_cell_guid": "35b07b61-492f-9a46-106c-2099a3902634"
      },
      "outputs": [],
      "source": [
        "# calculate precision and recall scores\n",
        "\n",
        "from sklearn.metrics import precision_score\n",
        "from sklearn.metrics import recall_score\n",
        "\n",
        "precision = precision_score(y_train, y_pred1, average='binary')\n",
        "recall = recall_score(y_train, y_pred1, average='binary')\n",
        "\n",
        "print(\"Precision score: %0.2f \" % (precision))\n",
        "print(\"Recall score: %0.2f \" % (recall))"
      ]
    },
    {
      "cell_type": "code",
      "execution_count": null,
      "metadata": {
        "_cell_guid": "5ba7a729-952e-490a-e09a-79ad14d1cee9"
      },
      "outputs": [],
      "source": [
        "# generate confusion matrix\n",
        "\n",
        "from sklearn.metrics import confusion_matrix\n",
        "import pandas as pd\n",
        "import seaborn as sns\n",
        "%matplotlib inline\n",
        "\n",
        "\n",
        "cm1 = confusion_matrix(y_train,y_pred1)\n",
        "\n",
        "df_cm1 = pd.DataFrame(cm1, index = ['True (positive)', 'True (negative)'])\n",
        "df_cm1.columns = ['Predicted (positive)', 'Predicted (negative)']\n",
        "\n",
        "sns.heatmap(df_cm1, annot=True, fmt=\"d\")"
      ]
    },
    {
      "cell_type": "code",
      "execution_count": null,
      "metadata": {
        "_cell_guid": "03003214-7cb7-108d-e552-61d6224e7a49"
      },
      "outputs": [],
      "source": [
        "# Try Gaussian Naive Bayes Classifier\n",
        "'''Naive Bayes is a simple technique for constructing classifiers: models that assign class labels to problem instances, represented as vectors of feature values, where the class labels are drawn from some finite set. It is not a single algorithm for training such classifiers, but a family of algorithms based on a common principle: all naive Bayes classifiers assume that the value of a particular feature is independent of the value of any other feature, given the class variable.(source: Wikipedia)'''\n",
        "from sklearn.naive_bayes import GaussianNB \n",
        "\n",
        "clf2 = GaussianNB()\n",
        "clf2.fit(X_train, y_train)\n",
        "y_pred2 = clf2.predict(X_train)\n",
        "\n",
        "# calculate cross validation score\n",
        "\n",
        "scores = cross_val_score(clf2, X_train, y_train, cv=5)\n",
        "print(\"Accuracy: %0.2f (+/- %0.2f)\" % (scores.mean(), scores.std() * 2))"
      ]
    },
    {
      "cell_type": "code",
      "execution_count": null,
      "metadata": {
        "_cell_guid": "fffd4276-3b29-f2ed-aa5b-fd04d57f7669"
      },
      "outputs": [],
      "source": [
        "2# Compute Area Under the Curve (AUC) from prediction scores\n",
        "\n",
        "AUC2 = roc_auc_score(y_train, y_pred2)\n",
        "print(\"Roc AUC score: %0.2f \" % (AUC2))"
      ]
    },
    {
      "cell_type": "code",
      "execution_count": null,
      "metadata": {
        "_cell_guid": "f173bc7d-e86d-e14a-879e-b599a9fc1b41"
      },
      "outputs": [],
      "source": [
        "# calculate precision and recall score\n",
        "\n",
        "precision = precision_score(y_train, y_pred2, average='binary')\n",
        "recall = recall_score(y_train, y_pred2, average='binary')\n",
        "\n",
        "print(\"Precision score: %0.2f \" % (precision))\n",
        "print(\"Recall score: %0.2f \" % (recall))"
      ]
    },
    {
      "cell_type": "code",
      "execution_count": null,
      "metadata": {
        "_cell_guid": "090dcdfc-0cc5-d298-b1da-5d817bc3dedf"
      },
      "outputs": [],
      "source": [
        "# generate confusion matrix\n",
        "\n",
        "cm2 = confusion_matrix(y_train,y_pred2)\n",
        "\n",
        "df_cm2 = pd.DataFrame(cm2, index = ['True (positive)', 'True (negative)'])\n",
        "df_cm2.columns = ['Predicted (positive)', 'Predicted (negative)']\n",
        "\n",
        "sns.heatmap(df_cm2, annot=True, fmt=\"d\")"
      ]
    },
    {
      "cell_type": "code",
      "execution_count": null,
      "metadata": {
        "_cell_guid": "007ac10b-9341-6b35-3856-dc1cafe8d5ca"
      },
      "outputs": [],
      "source": [
        "# Try Logistic Regression Classifier\n",
        "'''Logistic regression is a regression model where the dependent variable is categorical (source: Wikipedia)'''\n",
        "\n",
        "from sklearn.linear_model import LogisticRegression\n",
        "\n",
        "clf3 = LogisticRegression()\n",
        "clf3.fit(X,y)\n",
        "y_pred3 = clf3.predict(X_train)\n",
        "\n",
        "# calculate cross validation score\n",
        "\n",
        "scores = cross_val_score(clf3, X_train, y_train, cv=5)\n",
        "print(\"Accuracy: %0.2f (+/- %0.2f)\" % (scores.mean(), scores.std() * 2))"
      ]
    },
    {
      "cell_type": "code",
      "execution_count": null,
      "metadata": {
        "_cell_guid": "1fc55e62-2372-d756-0f65-2a31c69c98eb"
      },
      "outputs": [],
      "source": [
        "# Compute Area Under the Curve (AUC) from prediction scores\n",
        "\n",
        "AUC3 = roc_auc_score(y_train, y_pred3)\n",
        "print(\"Roc AUC score: %0.2f \" % (AUC3))"
      ]
    },
    {
      "cell_type": "code",
      "execution_count": null,
      "metadata": {
        "_cell_guid": "f3dd343e-d078-8fee-42ca-0481c530046a"
      },
      "outputs": [],
      "source": [
        "# calculate precision and recall score\n",
        "\n",
        "precision = precision_score(y_train, y_pred3, average='binary')\n",
        "recall = recall_score(y_train, y_pred3, average='binary')\n",
        "\n",
        "print(\"Precision score: %0.2f \" % (precision))\n",
        "print(\"Recall score: %0.2f \" % (recall))"
      ]
    },
    {
      "cell_type": "code",
      "execution_count": null,
      "metadata": {
        "_cell_guid": "0ee23213-9d8e-6a86-690c-5060a5f073c2"
      },
      "outputs": [],
      "source": [
        "# generate confusion matrix\n",
        "\n",
        "cm3 = confusion_matrix(y_train,y_pred3)\n",
        "\n",
        "df_cm3 = pd.DataFrame(cm3, index = ['True(positive)', 'True(negative)'])\n",
        "df_cm3.columns = ['Predicted (positive)', 'Predicted (negative)']\n",
        "\n",
        "sns.heatmap(df_cm3, annot=True, fmt=\"d\")"
      ]
    }
  ],
  "metadata": {
    "_change_revision": 0,
    "_is_fork": false,
    "kernelspec": {
      "display_name": "Python 3",
      "language": "python",
      "name": "python3"
    },
    "language_info": {
      "codemirror_mode": {
        "name": "ipython",
        "version": 3
      },
      "file_extension": ".py",
      "mimetype": "text/x-python",
      "name": "python",
      "nbconvert_exporter": "python",
      "pygments_lexer": "ipython3",
      "version": "3.5.2"
    }
  },
  "nbformat": 4,
  "nbformat_minor": 0
}