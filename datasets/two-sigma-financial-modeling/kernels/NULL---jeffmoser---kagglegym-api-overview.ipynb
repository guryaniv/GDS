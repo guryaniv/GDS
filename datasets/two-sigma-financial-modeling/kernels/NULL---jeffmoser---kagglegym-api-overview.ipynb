{
  "cells": [
    {
      "cell_type": "markdown",
      "metadata": {
        "_cell_guid": "8d5a3f37-c868-c548-82de-baea0db91ccc"
      },
      "source": [
        "# Introduction to the `kagglegym` API"
      ]
    },
    {
      "cell_type": "markdown",
      "metadata": {
        "_cell_guid": "b6b8f41b-d7e7-7023-638c-3f9d7fdac8fd"
      },
      "source": [
        "Code Competitions are a new style of competition where you submit code rather than the predictions that your code creates. This allows for new types of competitions like this time-series competition hosted by Two Sigma. This notebook gives an overview of the API, `kagglegym`, which was heavily influenced by [OpenAI's Gym](https://gym.openai.com/docs) API for reinforcement learning challenges."
      ]
    },
    {
      "cell_type": "markdown",
      "metadata": {
        "_cell_guid": "7546f382-9c11-d812-6140-032c0f4af058"
      },
      "source": [
        "## Data Overview\n",
        "\n",
        "Another difference with this competition is that we're using an [HDF5 file](https://support.hdfgroup.org/HDF5/) instead of a CSV file due to the size of the data. You can still easily read it and manipulate it for exploration:"
      ]
    },
    {
      "cell_type": "code",
      "execution_count": null,
      "metadata": {
        "_cell_guid": "52661ab5-5738-e62f-d2ec-13ca951ec365"
      },
      "outputs": [],
      "source": [
        "# Here's an example of loading the CSV using Pandas's built-in HDF5 support:\n",
        "import pandas as pd\n",
        "\n",
        "with pd.HDFStore(\"../input/train.h5\", \"r\") as train:\n",
        "    # Note that the \"train\" dataframe is the only dataframe in the file\n",
        "    df = train.get(\"train\")"
      ]
    },
    {
      "cell_type": "code",
      "execution_count": null,
      "metadata": {
        "_cell_guid": "c2b0e8fd-7ea7-a875-16e5-44c853697892"
      },
      "outputs": [],
      "source": [
        "# Let's see how many rows are in full training set\n",
        "len(df)"
      ]
    },
    {
      "cell_type": "code",
      "execution_count": null,
      "metadata": {
        "_cell_guid": "1f3977b0-9e38-3663-bf9f-5ff447e0d57c"
      },
      "outputs": [],
      "source": [
        "df.head()"
      ]
    },
    {
      "cell_type": "code",
      "execution_count": null,
      "metadata": {
        "_cell_guid": "70fa52ca-bdb8-1c19-87d2-04a47b14adfc"
      },
      "outputs": [],
      "source": [
        "# How many timestamps are in the full training set?\n",
        "len(df[\"timestamp\"].unique())"
      ]
    },
    {
      "cell_type": "markdown",
      "metadata": {
        "_cell_guid": "a3cb5334-ce87-ed9c-909b-72e75c85f002"
      },
      "source": [
        "**Important Note**: the raw training file is only available for exploration kernels. It will not be available when you make a competition submission. You should only use the raw training file for exploration purposes."
      ]
    },
    {
      "cell_type": "markdown",
      "metadata": {
        "_cell_guid": "6ae1fcc2-069c-112f-c977-f9546ccb71ef"
      },
      "source": [
        "## API Overview"
      ]
    },
    {
      "cell_type": "markdown",
      "metadata": {
        "_cell_guid": "ad2513de-b73f-9d44-337c-93829a9530b1"
      },
      "source": [
        "The \"kagglegym\" API is based on OpenAI's Gym API, a toolkit for developing and comparing reinforcement learning algorithms. Read OpenAI's Gym API [documentation](https://gym.openai.com/docs) for more details. Note that ours is named \"kagglegym\" and not \"gym\" to prevent possible conflicts with OpenAI's \"gym\" library. This section will give an overview of the concepts to get you started on this competition.\n",
        "\n",
        "The API is exposed through a `kagglegym` library. Let's import it to get started:"
      ]
    },
    {
      "cell_type": "code",
      "execution_count": null,
      "metadata": {
        "_cell_guid": "b96739f6-e510-05a4-6d7f-59dc93fedd24"
      },
      "outputs": [],
      "source": [
        "import kagglegym"
      ]
    },
    {
      "cell_type": "markdown",
      "metadata": {
        "_cell_guid": "25b4762c-321b-2d9d-248a-c4b386db9b46"
      },
      "source": [
        "Now, we need to create an \"environment\". This will be our primary interface to the API. The `kagglegym` API has the concept of a default environment name for a competition, so just calling `make()` will create the appropriate one for this competition."
      ]
    },
    {
      "cell_type": "code",
      "execution_count": null,
      "metadata": {
        "_cell_guid": "a6ce4309-fcb9-f3c3-cecd-f09f1145a395"
      },
      "outputs": [],
      "source": [
        "# Create environment\n",
        "env = kagglegym.make()"
      ]
    },
    {
      "cell_type": "markdown",
      "metadata": {
        "_cell_guid": "1a600639-8b3a-05e0-0caf-f96821340500"
      },
      "source": [
        "To properly initialize things, we need to \"reset\" the environment. This will also give us our first \"observation\":"
      ]
    },
    {
      "cell_type": "code",
      "execution_count": null,
      "metadata": {
        "_cell_guid": "bb2a766c-a5f3-a9ca-3f8e-0b7bd9614c62"
      },
      "outputs": [],
      "source": [
        "# Get first observation\n",
        "observation = env.reset()"
      ]
    },
    {
      "cell_type": "markdown",
      "metadata": {
        "_cell_guid": "f99a14c5-4e94-cb69-6a41-803c78af4dd3"
      },
      "source": [
        "Observations are the means by which our code \"observes\" the world. The very first observation has a special property called \"train\" which is a dataframe which we can use to train our model:"
      ]
    },
    {
      "cell_type": "code",
      "execution_count": null,
      "metadata": {
        "_cell_guid": "22576060-0211-d073-7754-a004456fed47"
      },
      "outputs": [],
      "source": [
        "# Look at first few rows of the train dataframe\n",
        "observation.train.head()"
      ]
    },
    {
      "cell_type": "markdown",
      "metadata": {
        "_cell_guid": "b5c144fd-7db1-1b0e-7444-3fff3f804b07"
      },
      "source": [
        "Note that this \"train\" is about half the size of the full training dataframe. This is because we're in an exploratory mode where we simulate the full environment by reserving the first half of timestamps for training and the second half for simulating the public leaderboard."
      ]
    },
    {
      "cell_type": "code",
      "execution_count": null,
      "metadata": {
        "_cell_guid": "b77f817b-25f9-b6fc-dc0b-e52f323e8689"
      },
      "outputs": [],
      "source": [
        "# Get length of the train dataframe\n",
        "len(observation.train)"
      ]
    },
    {
      "cell_type": "code",
      "execution_count": null,
      "metadata": {
        "_cell_guid": "ab485ea5-676f-3344-9a5a-a3e0aaefc350"
      },
      "outputs": [],
      "source": [
        "# Get number of unique timestamps in train\n",
        "len(observation.train[\"timestamp\"].unique())"
      ]
    },
    {
      "cell_type": "code",
      "execution_count": null,
      "metadata": {
        "_cell_guid": "3f21bb47-8afb-4292-e3de-91e4b015f10b"
      },
      "outputs": [],
      "source": [
        "# Note that this is half of all timestamps:\n",
        "len(df[\"timestamp\"].unique())"
      ]
    },
    {
      "cell_type": "code",
      "execution_count": null,
      "metadata": {
        "_cell_guid": "4ac19220-f651-ceba-3907-1af4bee3c0fb"
      },
      "outputs": [],
      "source": [
        "# Here's proof that it's the first half:\n",
        "unique_times = list(observation.train[\"timestamp\"].unique())\n",
        "(min(unique_times), max(unique_times))"
      ]
    },
    {
      "cell_type": "markdown",
      "metadata": {
        "_cell_guid": "b8d8c7d1-08f6-8ecf-5760-018c2466bb45"
      },
      "source": [
        "Each observation also has a \"features\" dataframe which contains features for the timestamp you'll be asked to predict in the next \"step.\" Note that these features are for timestamp 906 which is just passed the last training timestamp. Also, note that the \"features\" dataframe does *not* have the target \"y\" column:"
      ]
    },
    {
      "cell_type": "code",
      "execution_count": null,
      "metadata": {
        "_cell_guid": "7d64aaa2-bfca-b4e4-eb59-4fdb9646daf7"
      },
      "outputs": [],
      "source": [
        "# Look at the first few rows of the features dataframe\n",
        "observation.features.head()"
      ]
    },
    {
      "cell_type": "markdown",
      "metadata": {
        "_cell_guid": "ab4788e9-c2ec-3b4e-ceda-afff6d82ebf7"
      },
      "source": [
        "The final part of observation is the \"target\" dataframe which is what we're asking you to fill in. It includes the \"id\"s for the timestamp next step."
      ]
    },
    {
      "cell_type": "code",
      "execution_count": null,
      "metadata": {
        "_cell_guid": "4128c547-b744-bf57-20d9-642893df2411"
      },
      "outputs": [],
      "source": [
        "# Look at the first few rows of the target dataframe\n",
        "observation.target.head()"
      ]
    },
    {
      "cell_type": "markdown",
      "metadata": {
        "_cell_guid": "a986731f-9aec-ec26-4bd8-176e5de711ab"
      },
      "source": [
        "This target is a valid submission for the step. The OpenAI Gym calls each step an \"action\". Each step of the environment returns four things: \"observation\", \"reward\", \"done\", and \"info\"."
      ]
    },
    {
      "cell_type": "code",
      "execution_count": null,
      "metadata": {
        "_cell_guid": "7ec1c73b-c328-0f63-894f-3ab9e6839361"
      },
      "outputs": [],
      "source": [
        "# Each step is an \"action\"\n",
        "action = observation.target\n",
        "\n",
        "# Each \"step\" of the environment returns four things:\n",
        "observation, reward, done, info = env.step(action)"
      ]
    },
    {
      "cell_type": "markdown",
      "metadata": {
        "_cell_guid": "b015d8ce-b928-a55b-0704-1033ede61ac7"
      },
      "source": [
        "The \"done\" variable tells us if we're done. In this case, we still have plenty of timestamps to go, so it returns \"False\"."
      ]
    },
    {
      "cell_type": "code",
      "execution_count": null,
      "metadata": {
        "_cell_guid": "75ed1f19-96d9-1488-992b-5df778e936d6"
      },
      "outputs": [],
      "source": [
        "# Print done\n",
        "done"
      ]
    },
    {
      "cell_type": "markdown",
      "metadata": {
        "_cell_guid": "5b908ca2-7c5a-5bb8-7302-9c0133b88327"
      },
      "source": [
        "The \"info\" variable is just a dictionary used for debugging. In this particular environment, we only make use of it at the end (when \"done\" is True)."
      ]
    },
    {
      "cell_type": "code",
      "execution_count": null,
      "metadata": {
        "_cell_guid": "3da42f7f-8fb2-9518-abca-ffe7601d9a60"
      },
      "outputs": [],
      "source": [
        "# Print info\n",
        "info"
      ]
    },
    {
      "cell_type": "markdown",
      "metadata": {
        "_cell_guid": "ba2d5a9c-a6da-7929-ccc3-b638c5369059"
      },
      "source": [
        "We see that \"observation\" has the same properties as the one we get in \"reset\". However, notice that it's for the next \"timestamp\":"
      ]
    },
    {
      "cell_type": "code",
      "execution_count": null,
      "metadata": {
        "_cell_guid": "be7b5c56-da97-8837-ba72-a39b41286c09"
      },
      "outputs": [],
      "source": [
        "# Look at the first few rows of the observation dataframe for the next timestamp\n",
        "observation.features.head()"
      ]
    },
    {
      "cell_type": "code",
      "execution_count": null,
      "metadata": {
        "_cell_guid": "805a4752-a663-a1fb-e02e-fa1af93f188c"
      },
      "outputs": [],
      "source": [
        "# Note that this timestamp has more id's/rows\n",
        "len(observation.features)"
      ]
    },
    {
      "cell_type": "markdown",
      "metadata": {
        "_cell_guid": "bdac05aa-0577-ba4d-9e0e-f5aa4f59e27d"
      },
      "source": [
        "Perhaps most interesting is the \"reward\" variable. This tells you how well you're doing. The goal in reinforcement contexts is that you want to maximize the reward. In this competition, we're using the R value that ranges from -1 to 1 (higher is better). Note that we submitted all 0's, so we got a score that's below 0. If we had correctly predicted the true mean value, we would have gotten all zeros. If we had made extreme predictions (e.g. all `-1000`'s) then our score would have been capped to -1."
      ]
    },
    {
      "cell_type": "code",
      "execution_count": null,
      "metadata": {
        "_cell_guid": "028c5436-e8cf-a32a-7a3e-b0821f76833d"
      },
      "outputs": [],
      "source": [
        "# Print reward\n",
        "reward"
      ]
    },
    {
      "cell_type": "markdown",
      "metadata": {
        "_cell_guid": "abc54f05-94b0-9815-a394-4b0317e4a321"
      },
      "source": [
        "Since we're in exploratory mode, we have access to the ground truth (obviously not available in submit mode):"
      ]
    },
    {
      "cell_type": "code",
      "execution_count": null,
      "metadata": {
        "_cell_guid": "3a09668e-f4aa-852d-d708-9103dffa7cac"
      },
      "outputs": [],
      "source": [
        "\n",
        "perfect_action = df[df[\"timestamp\"] == observation.features[\"timestamp\"][0]][[\"id\", \"y\"]].reset_index(drop=True)"
      ]
    },
    {
      "cell_type": "code",
      "execution_count": null,
      "metadata": {
        "_cell_guid": "70c9a9cf-a3ac-9d6d-2f86-631c32df1a6a"
      },
      "outputs": [],
      "source": [
        "# Look at the first few rows of perfect action\n",
        "perfect_action.head()"
      ]
    },
    {
      "cell_type": "markdown",
      "metadata": {
        "_cell_guid": "414dec1d-77e9-de10-6cc3-515dff38652c"
      },
      "source": [
        "Let's see what happens when we submit a \"perfect\" action:"
      ]
    },
    {
      "cell_type": "code",
      "execution_count": null,
      "metadata": {
        "_cell_guid": "b2ccf47c-a94f-8760-24c5-ff18206c85ce"
      },
      "outputs": [],
      "source": [
        "# Submit a perfect action\n",
        "observation, reward, done, info = env.step(perfect_action)"
      ]
    },
    {
      "cell_type": "markdown",
      "metadata": {
        "_cell_guid": "32cfb80b-df2f-75d9-e66c-c6aaca10091d"
      },
      "source": [
        "As expected, we get the maximum reward of 1 by submitting the perfect value:"
      ]
    },
    {
      "cell_type": "code",
      "execution_count": null,
      "metadata": {
        "_cell_guid": "5f5e60aa-e0e0-dd4b-60b6-0743d39387d4"
      },
      "outputs": [],
      "source": [
        "# Print reward\n",
        "reward"
      ]
    },
    {
      "cell_type": "markdown",
      "metadata": {
        "_cell_guid": "3f793a40-b732-4b16-1b24-219af46a32f7"
      },
      "source": [
        "## Making a complete submission"
      ]
    },
    {
      "cell_type": "markdown",
      "metadata": {
        "_cell_guid": "5622d9a1-171b-4106-6822-0ec22edbea37"
      },
      "source": [
        "We've covered all of the basic components of the `kagglegym` API. You now know how to create an environment for the competition, get observations, examine features, and submit target values for a reward. But, we're still not done as there are more observations/timestamps left."
      ]
    },
    {
      "cell_type": "code",
      "execution_count": null,
      "metadata": {
        "_cell_guid": "b1574436-d2d6-e613-c5ef-599e818aea20"
      },
      "outputs": [],
      "source": [
        "# Print done ... still more timestamps remaining\n",
        "done"
      ]
    },
    {
      "cell_type": "markdown",
      "metadata": {
        "_cell_guid": "5533b16b-89ac-6cb1-82b9-1bb412e4405a"
      },
      "source": [
        "Now that we've gotten the basics out of the way, we can create a basic loop until we're \"done\". That is, we'll make a prediction for the remaining timestamp in the data:"
      ]
    },
    {
      "cell_type": "code",
      "execution_count": null,
      "metadata": {
        "_cell_guid": "26878420-9841-ba94-8082-edcbbfa619a3"
      },
      "outputs": [],
      "source": [
        "while True:\n",
        "    target = observation.target\n",
        "    timestamp = observation.features[\"timestamp\"][0]\n",
        "    if timestamp % 100 == 0:\n",
        "        print(\"Timestamp #{}\".format(timestamp))\n",
        "\n",
        "    observation, reward, done, info = env.step(target)\n",
        "    if done:        \n",
        "        break"
      ]
    },
    {
      "cell_type": "markdown",
      "metadata": {
        "_cell_guid": "427c3be2-4edc-d8e5-fa29-af4ca52d3979"
      },
      "source": [
        "Now we can confirm that we're done:"
      ]
    },
    {
      "cell_type": "code",
      "execution_count": null,
      "metadata": {
        "_cell_guid": "24c91df9-866d-b723-2f2f-d7d7f429e467"
      },
      "outputs": [],
      "source": [
        "# Print done\n",
        "done"
      ]
    },
    {
      "cell_type": "markdown",
      "metadata": {
        "_cell_guid": "89749451-c76a-3712-82ab-e2d9c4946727"
      },
      "source": [
        "And since we're \"done\", we can take a look at at \"info\", our dictionary used for debugging. Recall that in this environment, we only make use of it when \"done\" is True."
      ]
    },
    {
      "cell_type": "code",
      "execution_count": null,
      "metadata": {
        "_cell_guid": "4e4517a3-8031-b073-14ea-99c0e01d43c8"
      },
      "outputs": [],
      "source": [
        "# Print info\n",
        "info"
      ]
    },
    {
      "cell_type": "markdown",
      "metadata": {
        "_cell_guid": "db81d92b-3040-ebdb-aa90-d7f050450a48"
      },
      "source": [
        "Our score is better than 0 because we had that one submission that was perfect."
      ]
    },
    {
      "cell_type": "code",
      "execution_count": null,
      "metadata": {
        "_cell_guid": "aad4e656-7e00-6f03-9dfa-a7eafb6b57f7"
      },
      "outputs": [],
      "source": [
        "# Print \"public score\" from info\n",
        "info[\"public_score\"]"
      ]
    },
    {
      "cell_type": "markdown",
      "metadata": {
        "_cell_guid": "cb36ef25-0b04-fcc5-4fbf-4065ff7213ba"
      },
      "source": [
        "This concludes our overview of the `kagglegym` API. We encourage you to ask questions in the competition forums or share public kernels for feedback on your approach. Good luck!"
      ]
    }
  ],
  "metadata": {
    "_change_revision": 0,
    "_is_fork": false,
    "kernelspec": {
      "display_name": "Python 3",
      "language": "python",
      "name": "python3"
    },
    "language_info": {
      "codemirror_mode": {
        "name": "ipython",
        "version": 3
      },
      "file_extension": ".py",
      "mimetype": "text/x-python",
      "name": "python",
      "nbconvert_exporter": "python",
      "pygments_lexer": "ipython3",
      "version": "3.5.2"
    }
  },
  "nbformat": 4,
  "nbformat_minor": 0
}