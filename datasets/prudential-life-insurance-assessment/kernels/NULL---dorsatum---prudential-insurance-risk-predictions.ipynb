{
  "cells": [
    {
      "cell_type": "code",
      "execution_count": null,
      "metadata": {
        "_cell_guid": "81f05594-3296-40e8-97d2-0509f9f82ced"
      },
      "outputs": [],
      "source": [
        "%matplotlib inline"
      ]
    },
    {
      "cell_type": "code",
      "execution_count": null,
      "metadata": {
        "_cell_guid": "19196696-ee17-454d-aeec-aeb5e6a74a55"
      },
      "outputs": [],
      "source": [
        "# Imports\n",
        "\n",
        "# pandas\n",
        "import pandas as pd\n",
        "from pandas import Series,DataFrame\n",
        "\n",
        "# numpy, matplotlib, seaborn\n",
        "import numpy as np\n",
        "import matplotlib.pyplot as plt\n",
        "import seaborn as sns\n",
        "sns.set_style('whitegrid')\n",
        "%matplotlib inline\n",
        "\n",
        "# machine learning\n",
        "from sklearn.linear_model import LogisticRegression\n",
        "from sklearn.svm import SVC, LinearSVC\n",
        "from sklearn.ensemble import RandomForestClassifier\n",
        "from sklearn.neighbors import KNeighborsClassifier\n",
        "from sklearn.naive_bayes import GaussianNB\n",
        "from sklearn import cross_validation\n",
        "import xgboost as xgb"
      ]
    },
    {
      "cell_type": "code",
      "execution_count": null,
      "metadata": {
        "_cell_guid": "979fcbeb-03ae-4c48-8734-8dc4ffc474ec"
      },
      "outputs": [],
      "source": [
        "# get prudential & test csv files as a DataFrame\n",
        "prudential_df  = pd.read_csv('../input/train.csv')\n",
        "test_df        = pd.read_csv('../input/test.csv')\n",
        "\n",
        "# preview the data\n",
        "prudential_df.head()"
      ]
    },
    {
      "cell_type": "code",
      "execution_count": null,
      "metadata": {
        "_cell_guid": "ff8bf7e1-87e1-4e2c-b556-f854844e7564"
      },
      "outputs": [],
      "source": [
        "prudential_df.info()\n",
        "print(\"----------------------------\")\n",
        "test_df.info()"
      ]
    },
    {
      "cell_type": "code",
      "execution_count": null,
      "metadata": {
        "_cell_guid": "3a63815b-1555-4ef6-b133-1619e1cfd391"
      },
      "outputs": [],
      "source": [
        "# response\n",
        "\n",
        "fig, (axis1) = plt.subplots(1,1,figsize=(15,5))\n",
        "\n",
        "\n",
        "sns.countplot(x=prudential_df[\"Response\"], order=[1,2,3,4,5,6,7,8], ax=axis1)"
      ]
    },
    {
      "cell_type": "code",
      "execution_count": null,
      "metadata": {
        "_cell_guid": "d2cf3b74-d067-4f7a-ac7a-b13cefa19c1b"
      },
      "outputs": [],
      "source": [
        "# There are some columns with non-numerical values(i.e. dtype='object'),\n",
        "# So, We will create a corresponding unique numerical value for each non-numerical value in a column of training and testing set.\n",
        "\n",
        "from sklearn import preprocessing\n",
        "\n",
        "for f in prudential_df.columns:\n",
        "    if prudential_df[f].dtype == 'object':\n",
        "        lbl = preprocessing.LabelEncoder()\n",
        "        lbl.fit(np.unique(list(prudential_df[f].values) + list(test_df[f].values)))\n",
        "        prudential_df[f] = lbl.transform(list(prudential_df[f].values))\n",
        "        test_df[f]       = lbl.transform(list(test_df[f].values))"
      ]
    },
    {
      "cell_type": "code",
      "execution_count": null,
      "metadata": {
        "_cell_guid": "88a5b918-2ae5-4667-950f-f9f0e2060c8b"
      },
      "outputs": [],
      "source": [
        "# fill NaN values\n",
        "\n",
        "for f in prudential_df.columns:\n",
        "    if f == \"Response\": continue\n",
        "    if prudential_df[f].dtype == 'float64':\n",
        "        prudential_df[f].fillna(prudential_df[f].mean(), inplace=True)\n",
        "        test_df[f].fillna(test_df[f].mean(), inplace=True)\n",
        "    else:\n",
        "        prudential_df[f].fillna(prudential_df[f].median(), inplace=True)\n",
        "        test_df[f].fillna(test_df[f].median(), inplace=True)\n",
        "\n",
        "# prudential_df.fillna(0, inplace=True)\n",
        "# test_df.fillna(0, inplace=True)"
      ]
    },
    {
      "cell_type": "code",
      "execution_count": null,
      "metadata": {
        "_cell_guid": "22566e17-95a6-405a-a5d7-9ee158e3ad68"
      },
      "outputs": [],
      "source": [
        "# define training and testing sets\n",
        "\n",
        "X_train = prudential_df.drop([\"Response\", \"Id\"],axis=1)\n",
        "Y_train = prudential_df[\"Response\"]\n",
        "X_test  = test_df.drop(\"Id\",axis=1).copy()"
      ]
    },
    {
      "cell_type": "code",
      "execution_count": null,
      "metadata": {
        "_cell_guid": "31a4d2b3-25eb-4c5e-b16d-a73dd8d64fa2"
      },
      "outputs": [],
      "source": [
        "# modify response values so that range of values is from 0-7 instead of 1-8\n",
        "Y_train = Y_train - 1"
      ]
    },
    {
      "cell_type": "code",
      "execution_count": null,
      "metadata": {
        "_cell_guid": "e79c0be5-919e-45e2-a9b4-6e12ff40735f"
      },
      "outputs": [],
      "source": [
        "# Random Forests\n",
        "\n",
        "# random_forest = RandomForestClassifier(n_estimators=100)\n",
        "\n",
        "# random_forest.fit(X_train, Y_train)\n",
        "\n",
        "# Y_pred2 = random_forest.predict(X_test)\n",
        "\n",
        "# random_forest.score(X_train, Y_train)"
      ]
    },
    {
      "cell_type": "code",
      "execution_count": null,
      "metadata": {
        "_cell_guid": "1efd309f-2500-4d95-b910-039fc4b1428b"
      },
      "outputs": [],
      "source": [
        "# Xgboost \n",
        "\n",
        "params = {\"objective\": \"multi:softmax\", \"num_class\": 8}\n",
        "\n",
        "T_train_xgb = xgb.DMatrix(X_train, Y_train)\n",
        "X_test_xgb  = xgb.DMatrix(X_test)\n",
        "\n",
        "gbm = xgb.train(params, T_train_xgb, 20)\n",
        "Y_pred = gbm.predict(X_test_xgb)"
      ]
    },
    {
      "cell_type": "code",
      "execution_count": null,
      "metadata": {
        "_cell_guid": "9938ce85-eb95-4384-806a-4ce699b81cd9"
      },
      "outputs": [],
      "source": [
        "# change values back to range of values is from 1-8 instead of 0-7\n",
        "\n",
        "Y_pred = Y_pred + 1\n",
        "Y_pred = Y_pred.astype(int)"
      ]
    },
    {
      "cell_type": "code",
      "execution_count": null,
      "metadata": {
        "_cell_guid": "259d7ae6-26f3-4119-935f-11e165c61f17"
      },
      "outputs": [],
      "source": [
        "# Create submission\n",
        "\n",
        "submission = pd.DataFrame({\n",
        "        \"Id\": test_df[\"Id\"],\n",
        "        \"Response\": Y_pred\n",
        "    })\n",
        "submission.to_csv('prudential.csv', index=False)"
      ]
    },
    {
      "cell_type": "code",
      "execution_count": null,
      "metadata": {
        "_cell_guid": "f0bf0f7b-c3a1-bc85-663f-e9a65203877c"
      },
      "outputs": [],
      "source": ""
    }
  ],
  "metadata": {
    "_change_revision": 0,
    "_is_fork": false,
    "kernelspec": {
      "display_name": "Python 3",
      "language": "python",
      "name": "python3"
    },
    "language_info": {
      "codemirror_mode": {
        "name": "ipython",
        "version": 3
      },
      "file_extension": ".py",
      "mimetype": "text/x-python",
      "name": "python",
      "nbconvert_exporter": "python",
      "pygments_lexer": "ipython3",
      "version": "3.5.2"
    }
  },
  "nbformat": 4,
  "nbformat_minor": 0
}