{
  "cells": [
    {
      "cell_type": "markdown",
      "metadata": {
        "_cell_guid": "247da677-be31-c56a-d9fa-20ebffa1b28d"
      },
      "source": [
        "This is introductory script that publishes a routine to binarize categorical columns in any dataset."
      ]
    },
    {
      "cell_type": "code",
      "execution_count": null,
      "metadata": {
        "_cell_guid": "881bfab5-de39-e320-e5fb-504da195b0e6"
      },
      "outputs": [],
      "source": [
        "# This Python 3 environment comes with many helpful analytics libraries installed\n",
        "# It is defined by the kaggle/python docker image: https://github.com/kaggle/docker-python\n",
        "# For example, here's several helpful packages to load in \n",
        "\n",
        "import numpy as np # linear algebra\n",
        "import pandas as pd # data processing, CSV file I/O (e.g. pd.read_csv)\n",
        "from sklearn.preprocessing import LabelBinarizer\n",
        "\n",
        "# Input data files are available in the \"../input/\" directory.\n",
        "# For example, running this (by clicking run or pressing Shift+Enter) will list the files in the input directory\n",
        "\n",
        "from subprocess import check_output\n",
        "print(check_output([\"ls\", \"../input\"]).decode(\"utf8\"))\n",
        "\n",
        "# Any results you write to the current directory are saved as output."
      ]
    },
    {
      "cell_type": "code",
      "execution_count": null,
      "metadata": {
        "_cell_guid": "b54f88d5-29ac-a6dd-a275-171b957a4aa0"
      },
      "outputs": [],
      "source": [
        "# Read the data\n",
        "train = pd.read_csv(\"../input/train.csv\")\n",
        "test = pd.read_csv(\"../input/test.csv\")"
      ]
    },
    {
      "cell_type": "markdown",
      "metadata": {
        "_cell_guid": "40dace67-afe0-2fe4-c3dd-248bc88d5ae8"
      },
      "source": [
        "The function below takes a list of column names and iterates through each column, expanding the column to a wider bunch of binarized columns corresponding to each value of the attribute. Note that the `LabelBinarizer` is fit only on the attribute column of the training data. So if the corresponding attribute column of the test data contains attribute values not present in the training data, these rows will be converted to binarized rows with all zeroes."
      ]
    },
    {
      "cell_type": "code",
      "execution_count": null,
      "metadata": {
        "_cell_guid": "a7701cb8-7d2d-8c6b-68c1-d49ce20e5c65"
      },
      "outputs": [],
      "source": [
        "def binarize(train_data, test_data, columns):\n",
        "    train_data_numeric = train_data.drop(columns, axis=1)\n",
        "    test_data_numeric = test_data.drop(columns, axis=1)\n",
        "    for col in columns:\n",
        "        l = LabelBinarizer()\n",
        "        train_col_xformed = pd.DataFrame(l.fit_transform(train_data[col]))\n",
        "        test_col_xformed = pd.DataFrame(l.transform(test_data[col]))\n",
        "        xformed_col_names = [col + '_' + str(i) for i in range(len(train_col_xformed.columns))]\n",
        "        train_col_xformed.columns = test_col_xformed.columns = xformed_col_names\n",
        "        train_data_numeric[xformed_col_names] = train_col_xformed\n",
        "        test_data_numeric[xformed_col_names] = test_col_xformed\n",
        "    return(train_data_numeric, test_data_numeric)"
      ]
    },
    {
      "cell_type": "markdown",
      "metadata": {
        "_cell_guid": "11beeb3d-a931-68e8-a255-2b71958846ad"
      },
      "source": [
        "Note that the categorical attributes in the dataset are: **X0, X1, X2, X3, X4, X5, X6** and **X8**."
      ]
    },
    {
      "cell_type": "code",
      "execution_count": null,
      "metadata": {
        "_cell_guid": "1ae39fe2-cd11-e608-0406-0ab764845248"
      },
      "outputs": [],
      "source": [
        "cols_to_convert = ['X' + str(i) for i in range(7)] + ['X8']\n",
        "\n",
        "_train, _test = binarize(train, test, cols_to_convert)\n",
        "\n",
        "## Assert that we have the same columns for train and test data\n",
        "print(set(_train.columns) - set(_test.columns))     # Should return {'y'}\n",
        "print(set(_test.columns) - set(_train.columns))     # Should return an empty set"
      ]
    }
  ],
  "metadata": {
    "_change_revision": 0,
    "_is_fork": false,
    "kernelspec": {
      "display_name": "Python 3",
      "language": "python",
      "name": "python3"
    },
    "language_info": {
      "codemirror_mode": {
        "name": "ipython",
        "version": 3
      },
      "file_extension": ".py",
      "mimetype": "text/x-python",
      "name": "python",
      "nbconvert_exporter": "python",
      "pygments_lexer": "ipython3",
      "version": "3.6.0"
    }
  },
  "nbformat": 4,
  "nbformat_minor": 0
}