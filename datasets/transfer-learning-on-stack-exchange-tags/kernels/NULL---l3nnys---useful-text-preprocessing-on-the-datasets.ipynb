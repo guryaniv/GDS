{
  "cells": [
    {
      "cell_type": "markdown",
      "metadata": {
        "_cell_guid": "f9d27098-9c3b-c3d6-39e2-4034ec33c89e"
      },
      "source": [
        "Text Preprocessing\n",
        "--------\n",
        "Text preprocessing made on the competition datasets.\n",
        "The preprocessing consists of 4 steps:\n",
        "\n",
        " 1. **Removing tags and URIs from contents**\n",
        " 2. **Removing punctuation from titles and contents**\n",
        " 3. **Removing stopwords from titles and contents**\n",
        " 4. **Converting the tags from string to a list of tags**\n",
        "\n",
        "This type of operations can be used as a first step for any other process regarding the competition."
      ]
    },
    {
      "cell_type": "code",
      "execution_count": null,
      "metadata": {
        "_cell_guid": "28351307-298d-7875-7e8c-08bd5d8232ae"
      },
      "outputs": [],
      "source": [
        "import pandas as pd\n",
        "from bs4 import BeautifulSoup\n",
        "from nltk.corpus import stopwords\n",
        "import re\n",
        "import string"
      ]
    },
    {
      "cell_type": "markdown",
      "metadata": {
        "_cell_guid": "7f47f516-4fca-f152-6ef9-da53a2d1d90a"
      },
      "source": [
        "Datasets loading\n",
        "---------"
      ]
    },
    {
      "cell_type": "code",
      "execution_count": null,
      "metadata": {
        "_cell_guid": "d1903d81-0470-d285-b670-839ed023d457"
      },
      "outputs": [],
      "source": [
        "dataframes = {\n",
        "    \"cooking\": pd.read_csv(\"../input/cooking.csv\"),\n",
        "    \"crypto\": pd.read_csv(\"../input/crypto.csv\"),\n",
        "    \"robotics\": pd.read_csv(\"../input/robotics.csv\"),\n",
        "    \"biology\": pd.read_csv(\"../input/biology.csv\"),\n",
        "    \"travel\": pd.read_csv(\"../input/travel.csv\"),\n",
        "    \"diy\": pd.read_csv(\"../input/diy.csv\"),\n",
        "}"
      ]
    },
    {
      "cell_type": "markdown",
      "metadata": {
        "_cell_guid": "e6df9ca5-3092-21e0-dcd1-ffd39ec7d316"
      },
      "source": [
        "For simplicity, i'll show an example of the steps of the preprocessing on an item of the robotics dataset"
      ]
    },
    {
      "cell_type": "code",
      "execution_count": null,
      "metadata": {
        "_cell_guid": "fe2493d6-4661-b04f-9221-784efd301b4b"
      },
      "outputs": [],
      "source": [
        "print(dataframes[\"robotics\"].iloc[1])"
      ]
    },
    {
      "cell_type": "markdown",
      "metadata": {
        "_cell_guid": "04073ecb-8a3f-84d8-46e4-c959a7cdc2d8"
      },
      "source": [
        "Removing html tags and uris from contents\n",
        "-----------"
      ]
    },
    {
      "cell_type": "code",
      "execution_count": null,
      "metadata": {
        "_cell_guid": "be09b92d-23f0-4047-0c18-17c0449da393"
      },
      "outputs": [],
      "source": [
        "uri_re = r'(?i)\\b((?:https?://|www\\d{0,3}[.]|[a-z0-9.\\-]+[.][a-z]{2,4}/)(?:[^\\s()<>]+|\\(([^\\s()<>]+|(\\([^\\s()<>]+\\)))*\\))+(?:\\(([^\\s()<>]+|(\\([^\\s()<>]+\\)))*\\)|[^\\s`!()\\[\\]{};:\\'\".,<>?\u00ab\u00bb\u201c\u201d\u2018\u2019]))'\n",
        "\n",
        "def stripTagsAndUris(x):\n",
        "    if x:\n",
        "        # BeautifulSoup on content\n",
        "        soup = BeautifulSoup(x, \"html.parser\")\n",
        "        # Stripping all <code> tags with their content if any\n",
        "        if soup.code:\n",
        "            soup.code.decompose()\n",
        "        # Get all the text out of the html\n",
        "        text =  soup.get_text()\n",
        "        # Returning text stripping out all uris\n",
        "        return re.sub(uri_re, \"\", text)\n",
        "    else:\n",
        "        return \"\""
      ]
    },
    {
      "cell_type": "code",
      "execution_count": null,
      "metadata": {
        "_cell_guid": "3e14aedd-2356-7f75-9b5f-05fc79d2865b"
      },
      "outputs": [],
      "source": [
        "# This could take a while\n",
        "for df in dataframes.values():\n",
        "    df[\"content\"] = df[\"content\"].map(stripTagsAndUris)"
      ]
    },
    {
      "cell_type": "code",
      "execution_count": null,
      "metadata": {
        "_cell_guid": "9be37a9d-d579-3cc9-c766-ecc5fcfb3d7f"
      },
      "outputs": [],
      "source": [
        "print(dataframes[\"robotics\"].iloc[1])"
      ]
    },
    {
      "cell_type": "markdown",
      "metadata": {
        "_cell_guid": "67ec7c55-e370-f827-a93a-5bdc43da74bb"
      },
      "source": [
        "Removing punctuation from titles and contents\n",
        "-----------"
      ]
    },
    {
      "cell_type": "code",
      "execution_count": null,
      "metadata": {
        "_cell_guid": "ad63580e-4c46-46a0-ebf5-129e5f413707"
      },
      "outputs": [],
      "source": [
        "def removePunctuation(x):\n",
        "    # Lowercasing all words\n",
        "    x = x.lower()\n",
        "    # Removing non ASCII chars\n",
        "    x = re.sub(r'[^\\x00-\\x7f]',r' ',x)\n",
        "    # Removing (replacing with empty spaces actually) all the punctuations\n",
        "    return re.sub(\"[\"+string.punctuation+\"]\", \" \", x)"
      ]
    },
    {
      "cell_type": "code",
      "execution_count": null,
      "metadata": {
        "_cell_guid": "8b036a06-1080-5794-d2ce-b792cc3b9cb2"
      },
      "outputs": [],
      "source": [
        "for df in dataframes.values():\n",
        "    df[\"title\"] = df[\"title\"].map(removePunctuation)\n",
        "    df[\"content\"] = df[\"content\"].map(removePunctuation)"
      ]
    },
    {
      "cell_type": "code",
      "execution_count": null,
      "metadata": {
        "_cell_guid": "760d828f-1d11-7f61-d50b-6ee99f8e6690"
      },
      "outputs": [],
      "source": [
        "print(dataframes[\"robotics\"].iloc[1])"
      ]
    },
    {
      "cell_type": "markdown",
      "metadata": {
        "_cell_guid": "ac476e3e-5fcf-2609-6443-43b2396a345b"
      },
      "source": [
        "Removing stopwords from titles and contents\n",
        "-----------"
      ]
    },
    {
      "cell_type": "code",
      "execution_count": null,
      "metadata": {
        "_cell_guid": "f2b940f9-4f2e-b66f-bf5f-4e08b191db64"
      },
      "outputs": [],
      "source": [
        "stops = set(stopwords.words(\"english\"))\n",
        "def removeStopwords(x):\n",
        "    # Removing all the stopwords\n",
        "    filtered_words = [word for word in x.split() if word not in stops]\n",
        "    return \" \".join(filtered_words)"
      ]
    },
    {
      "cell_type": "code",
      "execution_count": null,
      "metadata": {
        "_cell_guid": "02ba768c-3023-a252-717a-a601c76fa44f"
      },
      "outputs": [],
      "source": [
        "for df in dataframes.values():\n",
        "    df[\"title\"] = df[\"title\"].map(removeStopwords)\n",
        "    df[\"content\"] = df[\"content\"].map(removeStopwords)"
      ]
    },
    {
      "cell_type": "code",
      "execution_count": null,
      "metadata": {
        "_cell_guid": "860aeb9a-d724-9b46-b895-fe2dc258cc74"
      },
      "outputs": [],
      "source": [
        "print(dataframes[\"robotics\"].iloc[1])"
      ]
    },
    {
      "cell_type": "markdown",
      "metadata": {
        "_cell_guid": "f9948787-3750-7d66-5494-8a313ebbf8a9"
      },
      "source": [
        "Splitting tags string in a list of tags\n",
        "-----------"
      ]
    },
    {
      "cell_type": "code",
      "execution_count": null,
      "metadata": {
        "_cell_guid": "d927c263-e807-586d-5286-df053aaa4a42"
      },
      "outputs": [],
      "source": [
        "for df in dataframes.values():\n",
        "    # From a string sequence of tags to a list of tags\n",
        "    df[\"tags\"] = df[\"tags\"].map(lambda x: x.split())"
      ]
    },
    {
      "cell_type": "code",
      "execution_count": null,
      "metadata": {
        "_cell_guid": "0d90c04f-74fb-75bb-ad12-600bbf751f5c"
      },
      "outputs": [],
      "source": [
        "print(dataframes[\"robotics\"].iloc[1])"
      ]
    },
    {
      "cell_type": "markdown",
      "metadata": {
        "_cell_guid": "9012c948-4b04-c75e-1172-6e2084539e7a"
      },
      "source": [
        "Saving preprocessed dataframes to csv\n",
        "-----------"
      ]
    },
    {
      "cell_type": "code",
      "execution_count": null,
      "metadata": {
        "_cell_guid": "38e0fec7-141f-17e1-17eb-b6e129179650"
      },
      "outputs": [],
      "source": [
        "for name, df in dataframes.items():\n",
        "    # Saving to file\n",
        "    df.to_csv(name + \"_light.csv\", index=False)"
      ]
    }
  ],
  "metadata": {
    "_change_revision": 0,
    "_is_fork": false,
    "kernelspec": {
      "display_name": "Python 3",
      "language": "python",
      "name": "python3"
    },
    "language_info": {
      "codemirror_mode": {
        "name": "ipython",
        "version": 3
      },
      "file_extension": ".py",
      "mimetype": "text/x-python",
      "name": "python",
      "nbconvert_exporter": "python",
      "pygments_lexer": "ipython3",
      "version": "3.6.0"
    }
  },
  "nbformat": 4,
  "nbformat_minor": 0
}