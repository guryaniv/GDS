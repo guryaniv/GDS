{
  "cells": [
    {
      "cell_type": "code",
      "execution_count": null,
      "metadata": {
        "_cell_guid": "e04ac4d3-a2e8-bc44-d0c6-5885a356740e"
      },
      "outputs": [],
      "source": [
        "# This Python 3 environment comes with many helpful analytics libraries installed\n",
        "# It is defined by the kaggle/python docker image: https://github.com/kaggle/docker-python\n",
        "# For example, here's several helpful packages to load in \n",
        "\n",
        "import numpy as np # linear algebra\n",
        "import pandas as pd # data processing, CSV file I/O (e.g. pd.read_csv)\n",
        "\n",
        "# Input data files are available in the \"../input/\" directory.\n",
        "# For example, running this (by clicking run or pressing Shift+Enter) will list the files in the input directory\n",
        "\n",
        "from subprocess import check_output\n",
        "print(check_output([\"ls\", \"../input\"]).decode(\"utf8\"))\n",
        "\n",
        "# Any results you write to the current directory are saved as output."
      ]
    },
    {
      "cell_type": "code",
      "execution_count": null,
      "metadata": {
        "_cell_guid": "9443db7c-a7b6-5da9-7b0c-69c974ef4084"
      },
      "outputs": [],
      "source": [
        "from sklearn.feature_extraction.text import CountVectorizer, TfidfVectorizer\n",
        "import pandas as pd\n",
        "import numpy as np\n",
        "from sklearn.svm import SVC\n",
        "from sklearn.metrics import roc_auc_score\n",
        "from datetime import date"
      ]
    },
    {
      "cell_type": "code",
      "execution_count": null,
      "metadata": {
        "_cell_guid": "8911254f-d12a-c71a-6ea7-3300169537f1"
      },
      "outputs": [],
      "source": [
        "data = pd.read_csv('../input/Combined_News_DJIA.csv')"
      ]
    },
    {
      "cell_type": "code",
      "execution_count": null,
      "metadata": {
        "_cell_guid": "e6b23aea-9ad6-2c4b-5571-502a67058813"
      },
      "outputs": [],
      "source": [
        "data.head()"
      ]
    },
    {
      "cell_type": "code",
      "execution_count": null,
      "metadata": {
        "_cell_guid": "b54853a0-10a6-b4a2-9651-bdc7a2a736f4"
      },
      "outputs": [],
      "source": [
        "data[\"combined_news\"] = data.filter(regex=(\"Top.*\")).apply(lambda x: ''.join(str(x.values)), axis=1)"
      ]
    },
    {
      "cell_type": "code",
      "execution_count": null,
      "metadata": {
        "_cell_guid": "733a88d1-6fc5-c0ad-d257-18c1129574cc"
      },
      "outputs": [],
      "source": [
        "train = data[data['Date'] < '2015-01-01']\n",
        "test = data[data['Date'] > '2014-12-31']"
      ]
    },
    {
      "cell_type": "code",
      "execution_count": null,
      "metadata": {
        "_cell_guid": "84ef17d7-21f1-3818-5f4c-abf02f60b501"
      },
      "outputs": [],
      "source": [
        "feature_extraction = TfidfVectorizer()\n",
        "X_train = feature_extraction.fit_transform(train[\"combined_news\"].values)"
      ]
    },
    {
      "cell_type": "code",
      "execution_count": null,
      "metadata": {
        "_cell_guid": "d8076f96-4d2d-3b7a-d221-56bcec7f45cb"
      },
      "outputs": [],
      "source": [
        "X_test = feature_extraction.transform(test[\"combined_news\"].values)"
      ]
    },
    {
      "cell_type": "code",
      "execution_count": null,
      "metadata": {
        "_cell_guid": "a940f761-036f-2e48-6ea8-d56a24f0a3ac"
      },
      "outputs": [],
      "source": [
        "y_train = train[\"Label\"].values\n",
        "y_test = test[\"Label\"].values"
      ]
    },
    {
      "cell_type": "code",
      "execution_count": null,
      "metadata": {
        "_cell_guid": "ddb7d63b-3f6d-752e-490c-0ad5daed04a2"
      },
      "outputs": [],
      "source": [
        "clf = SVC(probability=True, kernel='rbf')"
      ]
    },
    {
      "cell_type": "code",
      "execution_count": null,
      "metadata": {
        "_cell_guid": "ddaa719b-93b6-7414-3493-4dc643ce1265"
      },
      "outputs": [],
      "source": [
        "clf.fit(X_train, y_train)"
      ]
    },
    {
      "cell_type": "code",
      "execution_count": null,
      "metadata": {
        "_cell_guid": "aa8f7e00-1998-44c8-612c-6a62cf7376ed"
      },
      "outputs": [],
      "source": [
        "predictions = clf.predict_proba(X_test)"
      ]
    },
    {
      "cell_type": "code",
      "execution_count": null,
      "metadata": {
        "_cell_guid": "5540dedb-edd6-b00a-d7e6-542b54b0bbd1"
      },
      "outputs": [],
      "source": [
        "print('ROC-AUC yields ' + str(roc_auc_score(y_test, predictions[:,1])))\n"
      ]
    }
  ],
  "metadata": {
    "_change_revision": 0,
    "_is_fork": false,
    "kernelspec": {
      "display_name": "Python 3",
      "language": "python",
      "name": "python3"
    },
    "language_info": {
      "codemirror_mode": {
        "name": "ipython",
        "version": 3
      },
      "file_extension": ".py",
      "mimetype": "text/x-python",
      "name": "python",
      "nbconvert_exporter": "python",
      "pygments_lexer": "ipython3",
      "version": "3.6.0"
    }
  },
  "nbformat": 4,
  "nbformat_minor": 0
}