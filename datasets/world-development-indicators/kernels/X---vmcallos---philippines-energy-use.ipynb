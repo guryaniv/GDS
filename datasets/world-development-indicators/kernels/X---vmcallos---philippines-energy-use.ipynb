{"cells":[
 {
  "cell_type": "code",
  "execution_count": null,
  "metadata": {
   "collapsed": false
  },
  "outputs": [],
  "source": "#Import Libraries\nimport numpy as np \nimport pandas as pd \nimport matplotlib.pyplot as plt\nimport seaborn as sns\nfrom pylab import fill_between\n\n#Read Datasets\ncountry = pd.read_csv('../input/Country.csv')\ncountry_notes = pd.read_csv('../input/CountryNotes.csv')\nindicators = pd.read_csv('../input/Indicators.csv')\n\n#Stylistic Options\ntableau20 = [(31, 119, 180), (174, 199, 232), (255, 127, 14), (255, 187, 120),    \n             (44, 160, 44), (152, 223, 138), (214, 39, 40), (255, 152, 150),    \n             (148, 103, 189), (197, 176, 213), (140, 86, 75), (196, 156, 148),    \n             (227, 119, 194), (247, 182, 210), (127, 127, 127), (199, 199, 199),    \n             (188, 189, 34), (219, 219, 141), (23, 190, 207), (158, 218, 229)]  \n\nfor i in range(len(tableau20)):    \n    r, g, b = tableau20[i]    \n    tableau20[i] = (r / 255., g / 255., b / 255.)\n    \n"
 },
 {
  "cell_type": "code",
  "execution_count": null,
  "metadata": {
   "collapsed": false
  },
  "outputs": [],
  "source": ""
 },
 {
  "cell_type": "markdown",
  "metadata": {},
  "source": "##Table of Contents\n\n---\n1. What percentage of the population has access to electricty?\n    -  Access to electricity over time   \n    -  Comparison to South-East Asian (SEA) countries\n2. What constitutes my country's energy mix?\n    - Energy Mix in the Philippines \n    - Comparison to South-East Asian (SEA) countries\n        - Fossil-Fuel use\n        - Renewable Energy Adoption\n3. How are we consuming our energy? \n    - Electric Power Consumption over time \n    - Consumption footprint\n    \n    "
 },
 {
  "cell_type": "markdown",
  "metadata": {},
  "source": "##1. What percentage of the population has access to electricity?\nThe charts below show the percentage of the urban and rural population with access to electricity and the comparison of the country's performance with its neighbor south-east Asian nations."
 },
 {
  "cell_type": "markdown",
  "metadata": {},
  "source": "###1.1 Access to electricity over time"
 },
 {
  "cell_type": "code",
  "execution_count": null,
  "metadata": {
   "collapsed": false
  },
  "outputs": [],
  "source": "# Plot Access Line Chart for Rural and Urban Communities\ndf_elec_rural = indicators[(indicators.CountryName=='Philippines')&(indicators.IndicatorCode=='EG.ELC.ACCS.RU.ZS')]\ndf_elec_urban = indicators[(indicators.CountryName=='Philippines')&(indicators.IndicatorCode=='EG.ELC.ACCS.UR.ZS')]\ndf_elec_pop = indicators[(indicators.CountryName=='Philippines')&(indicators.IndicatorCode=='EG.ELC.ACCS.ZS')]\n\nfig = plt.figure()\n\nplt.plot(df_elec_rural.Year,df_elec_rural.Value,'o-',label='Rural',color=tableau20[0])\nplt.plot(df_elec_urban.Year,df_elec_urban.Value,'o-',label='Urban',color=tableau20[2])\nplt.plot(df_elec_pop.Year,df_elec_pop.Value,'o-',label='General',color=tableau20[1])\nplt.legend(bbox_to_anchor=(1.05, 1), loc=2, borderaxespad=0.)\nplt.xlabel('Years',  fontsize=14)\nplt.ylabel('% of Population',  fontsize=14)\nplt.title('Access to Electricity', fontsize=14)\n\nfig.savefig('access_electricity.pdf',format='pdf', dpi=300)"
 },
 {
  "cell_type": "markdown",
  "metadata": {},
  "source": "The chart above shows the population's access to electricity over a period of 20 years. Although there was a sharp division of resources in the 90s, access to this need is being \nresolved as time progresses. It is commendable that the government (as well as the private companies) \nhas started putting effort to provide electricity to rural communities at the onset of the millenium.\n\nIt is also interesting to note that the years with a steeper slope started in 2010, and this can be \ncredited to the previous administration (and the corresponding electricity conglomerates) for continuing \nthe steep rise done in the previous years."
 },
 {
  "cell_type": "markdown",
  "metadata": {},
  "source": "###1.2 Comparison to South-East Asian (SEA) countries\nNote: *I cannot seem to find a South-East Asian tag in the World Bank dataset (there is an East Asia & Pacific tag, but I need to remove the countries that are not part of the ASEAN), so my workaround is to arrange the columns for each SEA country manually.*"
 },
 {
  "cell_type": "code",
  "execution_count": null,
  "metadata": {
   "collapsed": false
  },
  "outputs": [],
  "source": "df_br_elec_pop = indicators[(indicators.CountryName=='Brunei')&(indicators.IndicatorCode=='EG.ELC.ACCS.ZS')]\ndf_ca_elec_pop = indicators[(indicators.CountryName=='Cambodia')&(indicators.IndicatorCode=='EG.ELC.ACCS.ZS')]\ndf_in_elec_pop = indicators[(indicators.CountryName=='Indonesia')&(indicators.IndicatorCode=='EG.ELC.ACCS.ZS')]\n\ndf_la_elec_pop = indicators[(indicators.CountryName=='Lao PDR')&(indicators.IndicatorCode=='EG.ELC.ACCS.ZS')]\ndf_ma_elec_pop = indicators[(indicators.CountryName=='Malaysia')&(indicators.IndicatorCode=='EG.ELC.ACCS.ZS')]\ndf_my_elec_pop = indicators[(indicators.CountryName=='Myanmar')&(indicators.IndicatorCode=='EG.ELC.ACCS.ZS')]\n\ndf_ph_elec_pop = indicators[(indicators.CountryName=='Philippines')&(indicators.IndicatorCode=='EG.ELC.ACCS.ZS')]\ndf_si_elec_pop = indicators[(indicators.CountryName=='Singapore')&(indicators.IndicatorCode=='EG.ELC.ACCS.ZS')]\ndf_th_elec_pop = indicators[(indicators.CountryName=='Thailand')&(indicators.IndicatorCode=='EG.ELC.ACCS.ZS')]\n\ndf_ti_elec_pop = indicators[(indicators.CountryName=='Timor-Leste')&(indicators.IndicatorCode=='EG.ELC.ACCS.ZS')]\ndf_vi_elec_pop = indicators[(indicators.CountryName=='Vietnam')&(indicators.IndicatorCode=='EG.ELC.ACCS.ZS')]\n\nfig = plt.figure()\n\nplt.plot(df_br_elec_pop.Year,df_br_elec_pop.Value,'o-',label='Brunei',color=tableau20[0])\nplt.plot(df_ca_elec_pop.Year,df_ca_elec_pop.Value,'o-',label='Cambodia',color=tableau20[1])\nplt.plot(df_in_elec_pop.Year,df_in_elec_pop.Value,'o-',label='Indonesia',color=tableau20[2])\n\nplt.plot(df_la_elec_pop.Year,df_la_elec_pop.Value,'o-',label='Lao PDR',color=tableau20[3])\nplt.plot(df_ma_elec_pop.Year,df_ma_elec_pop.Value,'o-',label='Malaysia',color=tableau20[4])\nplt.plot(df_my_elec_pop.Year,df_my_elec_pop.Value,'o-',label='Myanmar',color=tableau20[5])\n\nplt.plot(df_ph_elec_pop.Year,df_ph_elec_pop.Value,'o-',label='Philippines',color=tableau20[6])\nplt.plot(df_si_elec_pop.Year,df_si_elec_pop.Value,'o-',label='Singapore',color=tableau20[7])\nplt.plot(df_th_elec_pop.Year,df_th_elec_pop.Value,'o-',label='Thailand',color=tableau20[8])\n\nplt.plot(df_ti_elec_pop.Year,df_ti_elec_pop.Value,'o-',label='Timor-Leste',color=tableau20[9])\nplt.plot(df_vi_elec_pop.Year,df_vi_elec_pop.Value,'o-',label='Vietnam',color=tableau20[10])\n\nplt.legend(bbox_to_anchor=(1.05, 1), loc=2, borderaxespad=0.)\nplt.xlabel('Years',  fontsize=14)\nplt.ylabel('% of Population',  fontsize=14)\nplt.title('Access to Electricity for SEA Countries', fontsize=14)\nplt.ylim([0,110])\nfig.savefig('access_electricity_sea.pdf',format='pdf', dpi=300)"
 },
 {
  "cell_type": "markdown",
  "metadata": {},
  "source": "One can observe that both Philippines and Indonesia started out similarly in the 90s, \nyet because of the steepness of Indonesia's slope in the chart, it was able to follow the \nleading countries&mdash;even overtaking Thailand in the year 2000. \nHowever, it may also be important to investigate the state of these countries before \n1990s in order to see how this progression came to be.\n\nTop-performing countries in achieving the goal of universal access to electricity are\nSingapore, Malaysia, and Thailand. Achieving almost a 100% by the turn of 2012. Singapore, \non the other hand, is a consistent performer, allowing its population to have access to \nelectricity for 20 years."
 },
 {
  "cell_type": "markdown",
  "metadata": {},
  "source": "##2. What constitutes my country's energy mix?\n\nEqually important in understanding the country's energy use is to know where our energy is being \nsourced from. This section will look into the different sources of energy&mdash;fossil fuels (coal, \nnatural gas, petroleum), hydroelectric, and renewable in order to gain insight to where most of our\nelectricity is coming from. \n\nMoreover, a comparison with the SEA top-performers (in terms of providing electricity access) \nwill be done in order to assess where the huge bulk of the electricity\\textemdash that they are \nsourcing effectively to the population&mdash;is coming from. \n\nLastly, it is also important to investigate the country's adoption to renewable energy, \nand compare this with our SEA neighbors. This can help identify trends, especially that using \nfossil fuels contributes much to our carbon footprint&mdash;given the devastating results of \nglobal warming and climate change."
 },
 {
  "cell_type": "markdown",
  "metadata": {},
  "source": "###2.1 Energy Mix in the Philippines"
 },
 {
  "cell_type": "code",
  "execution_count": null,
  "metadata": {
   "collapsed": false
  },
  "outputs": [],
  "source": "df_elec_fosl = indicators[(indicators.CountryName=='Philippines')&(indicators.IndicatorCode=='EG.ELC.FOSL.ZS')]\ndf_elec_hydro = indicators[(indicators.CountryName=='Philippines')&(indicators.IndicatorCode=='EG.ELC.HYRO.ZS')]\ndf_elec_nucl = indicators[(indicators.CountryName=='Philippines')&(indicators.IndicatorCode=='EG.ELC.NUCL.ZS')]\ndf_elec_rnwx = indicators[(indicators.CountryName=='Philippines')&(indicators.IndicatorCode=='EG.ELC.RNWX.ZS')]\n\n\nfig = plt.figure()\n\nplt.plot(df_elec_fosl.Year,df_elec_fosl.Value,label='Fossil Fuels',color=tableau20[6])\nplt.plot(df_elec_hydro.Year,df_elec_hydro.Value,label='Hydroelectric',color=tableau20[0])\nplt.plot(df_elec_nucl.Year,df_elec_nucl.Value,label='Nuclear',color=tableau20[3])\nplt.plot(df_elec_rnwx.Year,df_elec_rnwx.Value,label='Renewable',color=tableau20[4])\n\n\nfill_between(df_elec_fosl.Year,df_elec_fosl.Value,0,alpha=0.5,color=tableau20[6])\nfill_between(df_elec_hydro.Year,df_elec_hydro.Value,0,alpha=0.5,color=tableau20[0])\nfill_between(df_elec_nucl.Year,df_elec_nucl.Value,0,alpha=0.5,color=tableau20[3])\nfill_between(df_elec_rnwx.Year,df_elec_rnwx.Value,0,alpha=0.5,color=tableau20[4])\nfill_between(df_elec_rnwx.Year,df_elec_rnwx.Value,0,alpha=0.5,color=tableau20[4])\n#fill_between(x,y2,0,color='magenta')\n#fill_between(x,y3,0,color='red')\n\nplt.legend(loc=1, borderaxespad=1.)\nplt.xlabel('Years',  fontsize=14)\nplt.ylabel('% of Total Energy Produce',  fontsize=14)\nplt.title('Energy Mix in the Philippines (1971-2012)', fontsize=18)\n\n\nfig.savefig('energy_mix.pdf',format='pdf', dpi=300)"
 },
 {
  "cell_type": "code",
  "execution_count": null,
  "metadata": {
   "collapsed": false
  },
  "outputs": [],
  "source": "df_elec_ngas = indicators[(indicators.CountryName=='Philippines')&(indicators.IndicatorCode=='EG.ELC.NGAS.ZS')]\ndf_elec_coal = indicators[(indicators.CountryName=='Philippines')&(indicators.IndicatorCode=='EG.ELC.COAL.ZS')]\ndf_elec_petr = indicators[(indicators.CountryName=='Philippines')&(indicators.IndicatorCode=='EG.ELC.PETR.ZS')]\n\nfig = plt.figure()\n\nplt.plot(df_elec_ngas.Year,df_elec_ngas.Value,label='Natural Gas',color=tableau20[9])\nplt.plot(df_elec_coal.Year,df_elec_coal.Value,label='Coal',color=tableau20[10])\nplt.plot(df_elec_petr.Year,df_elec_petr.Value,label='Petroleum',color=tableau20[11])\n\nfill_between(df_elec_petr.Year,df_elec_petr.Value,0,alpha=0.5,color=tableau20[11])\nfill_between(df_elec_coal.Year,df_elec_coal.Value,0,alpha=0.5,color=tableau20[10])\nfill_between(df_elec_ngas.Year,df_elec_ngas.Value,0,alpha=0.5,color=tableau20[9])\n\n\n\nplt.legend(loc=1, borderaxespad=1.)\nplt.xlabel('Years',  fontsize=14)\nplt.ylabel('% of Total Energy Produce',  fontsize=14)\nplt.title('Fossil Fuel Mix in the Philippines (1971-2012)', fontsize=18)\n\n\nfig.savefig('fossil_fuel_mix.pdf',format='pdf', dpi=300)"
 },
 {
  "cell_type": "markdown",
  "metadata": {},
  "source": "It is evident that the country is still reliant to fossil fuels as a main source of energy. \nHydroelectric easily caught up and is a stable source to the fifth of our energy supply in the country. \nInterestingly, the contribution of renewable energy in the country is comparable to that of \nhydroelectric&mdash; and by combining the two together, one can see that these \"clean\" sources of \nenergy contributes more than a fourth of our total energy mix. \n\n\nLooking at the country's fossil fuel mix, one can see that our use of petroleum has significantly \ndropped for the last 20 years. This has been replaced by other fossil fuels such as natural gas \n(during the 1980s) and coal (during the 2000s).  \n"
 },
 {
  "cell_type": "markdown",
  "metadata": {},
  "source": "###2.2 Comparison to SEA Neighbors\nThis section looks into the position of the Philippines with respect to the\nuse of fossil fuels and the adoption of renewable energy through time."
 },
 {
  "cell_type": "markdown",
  "metadata": {},
  "source": "####2.2.1 Fossil Fuel Use"
 },
 {
  "cell_type": "code",
  "execution_count": null,
  "metadata": {
   "collapsed": false
  },
  "outputs": [],
  "source": "df_br_elec_pop = indicators[(indicators.CountryName=='Brunei')&(indicators.IndicatorCode=='EG.ELC.FOSL.ZS')]\ndf_ca_elec_pop = indicators[(indicators.CountryName=='Cambodia')&(indicators.IndicatorCode=='EG.ELC.FOSL.ZS')]\ndf_in_elec_pop = indicators[(indicators.CountryName=='Indonesia')&(indicators.IndicatorCode=='EG.ELC.FOSL.ZS')]\n\ndf_la_elec_pop = indicators[(indicators.CountryName=='Lao PDR')&(indicators.IndicatorCode=='EG.ELC.FOSL.ZS')]\ndf_ma_elec_pop = indicators[(indicators.CountryName=='Malaysia')&(indicators.IndicatorCode=='EG.ELC.FOSL.ZS')]\ndf_my_elec_pop = indicators[(indicators.CountryName=='Myanmar')&(indicators.IndicatorCode=='EG.ELC.FOSL.ZS')]\n\ndf_ph_elec_pop = indicators[(indicators.CountryName=='Philippines')&(indicators.IndicatorCode=='EG.ELC.FOSL.ZS')]\ndf_si_elec_pop = indicators[(indicators.CountryName=='Singapore')&(indicators.IndicatorCode=='EG.ELC.FOSL.ZS')]\ndf_th_elec_pop = indicators[(indicators.CountryName=='Thailand')&(indicators.IndicatorCode=='EG.ELC.FOSL.ZS')]\n\ndf_ti_elec_pop = indicators[(indicators.CountryName=='Timor-Leste')&(indicators.IndicatorCode=='EG.ELC.FOSL.ZS')]\ndf_vi_elec_pop = indicators[(indicators.CountryName=='Vietnam')&(indicators.IndicatorCode=='EG.ELC.FOSL.ZS')]\n\nfig = plt.figure()\n\nplt.plot(df_si_elec_pop.Year,df_si_elec_pop.Value,label='Singapore',color=tableau20[7])\nplt.plot(df_ma_elec_pop.Year,df_ma_elec_pop.Value,label='Malaysia',color=tableau20[4])\nplt.plot(df_th_elec_pop.Year,df_th_elec_pop.Value,label='Thailand',color=tableau20[8])\nplt.plot(df_vi_elec_pop.Year,df_vi_elec_pop.Value,label='Vietnam',color=tableau20[10])\nplt.plot(df_in_elec_pop.Year,df_in_elec_pop.Value,label='Indonesia',color=tableau20[2])\nplt.plot(df_ph_elec_pop.Year,df_ph_elec_pop.Value,label='Philippines',color=tableau20[6])\nplt.plot(df_la_elec_pop.Year,df_la_elec_pop.Value,label='Lao PDR',color=tableau20[3])\nplt.plot(df_my_elec_pop.Year,df_my_elec_pop.Value,label='Myanmar',color=tableau20[5])\nplt.plot(df_br_elec_pop.Year,df_br_elec_pop.Value,label='Brunei',color=tableau20[0])\nplt.plot(df_ti_elec_pop.Year,df_ti_elec_pop.Value,label='Timor-Leste',color=tableau20[9])\nplt.plot(df_ca_elec_pop.Year,df_ca_elec_pop.Value,label='Cambodia',color=tableau20[1])\n\n\nplt.legend(loc=1, borderaxespad=1.)\nplt.xlabel('Years',  fontsize=14)\nplt.ylabel('% of Energy Production',  fontsize=14)\nplt.title('Fossil Fuel Use for SEA Countries', fontsize=18)\n\nplt.ylim([0,110])\nplt.xlim([1990,2019])\nfig.savefig('fossil_fuel_electricity_sea.pdf',format='pdf', dpi=300)\nfig.savefig('fossil_fuel_electricity_sea.png',format='png', dpi=300)"
 },
 {
  "cell_type": "markdown",
  "metadata": {},
  "source": "The use of fossil fuel in the energy mix is shown in the figure above. It is interesting\nthat the top-players in providing access to electricity in their respective\npopulation&mdash;Singapore, Thailand, and Malaysia&mdash;are sourcing their energy\nmostly from fossil fuels.\n\nThe Philippines, on the other hand, is fourth from below in the level of\nfossil fuel that constitutes the energy mix. The first in this list is Myanmar, where fossil fuel constitutes 20 to 40% of the energy mix."
 },
 {
  "cell_type": "markdown",
  "metadata": {},
  "source": "####2.2.2 Renewable Energy Adoption"
 },
 {
  "cell_type": "code",
  "execution_count": null,
  "metadata": {
   "collapsed": false
  },
  "outputs": [],
  "source": "df_br_elec_pop = indicators[(indicators.CountryName=='Brunei')&(indicators.IndicatorCode=='EG.ELC.RNWX.ZS')]\ndf_ca_elec_pop = indicators[(indicators.CountryName=='Cambodia')&(indicators.IndicatorCode=='EG.ELC.RNWX.ZS')]\ndf_in_elec_pop = indicators[(indicators.CountryName=='Indonesia')&(indicators.IndicatorCode=='EG.ELC.RNWX.ZS')]\n\ndf_la_elec_pop = indicators[(indicators.CountryName=='Lao PDR')&(indicators.IndicatorCode=='EG.ELC.RNWX.ZS')]\ndf_ma_elec_pop = indicators[(indicators.CountryName=='Malaysia')&(indicators.IndicatorCode=='EG.ELC.RNWX.ZS')]\ndf_my_elec_pop = indicators[(indicators.CountryName=='Myanmar')&(indicators.IndicatorCode=='EG.ELC.RNWX.ZS')]\n\ndf_ph_elec_pop = indicators[(indicators.CountryName=='Philippines')&(indicators.IndicatorCode=='EG.ELC.RNWX.ZS')]\ndf_si_elec_pop = indicators[(indicators.CountryName=='Singapore')&(indicators.IndicatorCode=='EG.ELC.RNWX.ZS')]\ndf_th_elec_pop = indicators[(indicators.CountryName=='Thailand')&(indicators.IndicatorCode=='EG.ELC.RNWX.ZS')]\n\ndf_ti_elec_pop = indicators[(indicators.CountryName=='Timor-Leste')&(indicators.IndicatorCode=='EG.ELC.RNWX.ZS')]\ndf_vi_elec_pop = indicators[(indicators.CountryName=='Vietnam')&(indicators.IndicatorCode=='EG.ELC.RNWX.ZS')]\n\nfig = plt.figure()\n\nplt.plot(df_si_elec_pop.Year,df_si_elec_pop.Value,label='Singapore',color=tableau20[7])\nplt.plot(df_ma_elec_pop.Year,df_ma_elec_pop.Value,label='Malaysia',color=tableau20[4])\nplt.plot(df_th_elec_pop.Year,df_th_elec_pop.Value,label='Thailand',color=tableau20[8])\nplt.plot(df_vi_elec_pop.Year,df_vi_elec_pop.Value,label='Vietnam',color=tableau20[10])\nplt.plot(df_in_elec_pop.Year,df_in_elec_pop.Value,label='Indonesia',color=tableau20[2])\nplt.plot(df_ph_elec_pop.Year,df_ph_elec_pop.Value,label='Philippines',color=tableau20[6])\nplt.plot(df_la_elec_pop.Year,df_la_elec_pop.Value,label='Lao PDR',color=tableau20[3])\nplt.plot(df_my_elec_pop.Year,df_my_elec_pop.Value,label='Myanmar',color=tableau20[5])\nplt.plot(df_br_elec_pop.Year,df_br_elec_pop.Value,label='Brunei',color=tableau20[0])\nplt.plot(df_ti_elec_pop.Year,df_ti_elec_pop.Value,label='Timor-Leste',color=tableau20[9])\nplt.plot(df_ca_elec_pop.Year,df_ca_elec_pop.Value,label='Cambodia',color=tableau20[1])\n\n\nplt.legend(loc=1, borderaxespad=1.)\nplt.xlabel('Years',  fontsize=14)\nplt.ylabel('% of Energy Production',  fontsize=14)\nplt.title('Renewable Energy Adoption for SEA Countries', fontsize=18)\n\nplt.ylim([0,30])\nplt.xlim([1990,2019])\nfig.savefig('renewable_electricity_sea.pdf',format='pdf', dpi=300)\nfig.savefig('renewable_electricity_sea.png',format='png', dpi=300)"
 },
 {
  "cell_type": "markdown",
  "metadata": {},
  "source": "The figure above shows the renewable energy adoption of different SEA\ncountries over time. It is interesting to note that the Philippines is leading\nthe renewable energy race, then followed by Indonesia and the rest of the\nSEA countries."
 },
 {
  "cell_type": "markdown",
  "metadata": {},
  "source": "##3. How are we consuming our energy?\nWith the knowledge of the country's energy sources, the next step is to un-\nderstand how we consume that energy. This section will first look into the\ncountry's electric power consumption over time, then look at our consump-\ntion footprint&mdash;particularly that of carbon emissions and other greenhouse\ngases.\n"
 },
 {
  "cell_type": "markdown",
  "metadata": {},
  "source": "###3.1 Electric power consumption over time"
 },
 {
  "cell_type": "code",
  "execution_count": null,
  "metadata": {
   "collapsed": false
  },
  "outputs": [],
  "source": "df_elec_use = indicators[(indicators.CountryName=='Philippines')&(indicators.IndicatorCode=='EG.USE.ELEC.KH.PC')]\n\n\nfig = plt.figure()\n\nplt.plot(df_elec_use.Year,df_elec_use.Value,color=tableau20[3])\n\n#plt.legend(loc=4, borderaxespad=1.)\nplt.xlabel('Years',  fontsize=14)\nplt.ylabel('kWh per capita',  fontsize=14)\nplt.title('Electric Power Consumption in the Philippines', fontsize=18)\n\n\nfig.savefig('electric_consumption.pdf',format='pdf', dpi=300)\nfig.savefig('electric_consumption.png',format='png', dpi=300)"
 },
 {
  "cell_type": "markdown",
  "metadata": {},
  "source": "It can be observed from the chart above that the power consumption\nin the country has increased from about 200 kWh to 700 kWh over time.\nIt is expected that this consumption will increase, and this corresponds to\nunprecedented e\u000bects in our environment; as we continue utilizing di\u000berent\nsources for our electricity use."
 },
 {
  "cell_type": "markdown",
  "metadata": {},
  "source": "###3.2 Consumption footprint"
 },
 {
  "cell_type": "code",
  "execution_count": null,
  "metadata": {
   "collapsed": false
  },
  "outputs": [],
  "source": "df_elec_emi = indicators[(indicators.CountryName=='Philippines')&(indicators.IndicatorCode=='EN.ATM.CO2E.KT')]\ndf_elec_gf = indicators[(indicators.CountryName=='Philippines')&(indicators.IndicatorCode=='EN.ATM.CO2E.GF.KT')]\ndf_elec_lf = indicators[(indicators.CountryName=='Philippines')&(indicators.IndicatorCode=='EN.ATM.CO2E.LF.KT')]\ndf_elec_sf = indicators[(indicators.CountryName=='Philippines')&(indicators.IndicatorCode=='EN.ATM.CO2E.SF.KT')]\n\nfig = plt.figure()\n\nplt.plot(df_elec_emi.Year,df_elec_emi.Value,label='C0$_2$ emissions',color=tableau20[1])\nplt.plot(df_elec_lf.Year,df_elec_lf.Value,label='C0$_2$ emissions from liquid fuel',color=tableau20[3])\nplt.plot(df_elec_sf.Year,df_elec_sf.Value,label='C0$_2$ emissions from solid fuel',color=tableau20[4])\nplt.plot(df_elec_gf.Year,df_elec_gf.Value,label='C0$_2$ emissions from gaseous fuel',color=tableau20[2])\n\nfill_between(df_elec_emi.Year,df_elec_emi.Value,0,alpha=0.5,color=tableau20[1])\nfill_between(df_elec_lf.Year,df_elec_lf.Value,0,alpha=0.5,color=tableau20[3])\nfill_between(df_elec_sf.Year,df_elec_sf.Value,0,alpha=0.5,color=tableau20[4])\nfill_between(df_elec_gf.Year,df_elec_gf.Value,0,alpha=0.5,color=tableau20[2])\n\nplt.legend(loc=2, borderaxespad=1.)\nplt.xlabel('Years',  fontsize=14)\nplt.ylabel('kt (kilotons)',  fontsize=14)\nplt.title('Carbon Footprint in the Philippines', fontsize=18)\n\n\nfig.savefig('co2_emissions.pdf',format='pdf', dpi=300)\nfig.savefig('co2_emissions.png',format='png', dpi=300)"
 },
 {
  "cell_type": "markdown",
  "metadata": {},
  "source": "These unprecedented e\u000bects are what we often call as our consumption foot-\nprint, for it leaves traces in nature that we may not expect. This section will\nlook into our carbon footprint and different greenhouse gases, taken mainly\nfrom our use of fossil fuels as energy source, and through our continued\nconsumption of electricity (managed or not).\n\nSimilar to the rise of our electric consumption, our carbon footprint has\nincreased steadily for the last few years. Different sources have contributed\nto this, the first mainly by liquid fuel, then followed by solid fuel and then\nby gaseous fuel. It is expected that this trend will continue to rise, and its\neffects might be felt if left unmitigated."
 },
 {
  "cell_type": "markdown",
  "metadata": {},
  "source": "##Conclusion\nThis report looks into World Bank's World Development Indicators in order\nto understand the energy situation in the Philippines. Three aspects were\nconsidered|the access to electricity of the population, the energy mix, and\nthe energy consumption and footprint.\n\nThe country's access to electricity is being resolved through time, increasing the \nrural population's access for the last twenty years. However,\nmuch work is to be done, for the country is only 6th compared to its SEA\nneighbors in this category. However, much can be said in the country's energy mix, \nfor the use of fossil fuels (although still in majority) is being\noffset by hydroelectric and renewable sources of energy. In fact, the country\nis leading among its SEA neighbors with respect to the renewable energy\nadoption. Lastly, the electricity consumption of the country is still on the\nrise, and will still be, given the trend for the last twenty years. This can\nthen be followed by an increasing carbon footprint, which may lead to unprecedented effects if left unmitigated."
 }
],"metadata":{"kernelspec":{"display_name":"Python 3","language":"python","name":"python3"}}, "nbformat": 4, "nbformat_minor": 0}