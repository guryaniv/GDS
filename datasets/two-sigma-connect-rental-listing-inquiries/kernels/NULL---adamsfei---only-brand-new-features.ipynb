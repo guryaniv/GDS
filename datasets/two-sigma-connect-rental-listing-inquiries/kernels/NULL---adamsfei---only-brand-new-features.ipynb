{
  "cells": [
    {
      "cell_type": "markdown",
      "metadata": {
        "_cell_guid": "4636c42f-f3c3-8338-9dff-72afffeebfc5"
      },
      "source": [
        "Hi guys. Please take a look at some features that I've come up with and haven't seen in solutions of other participants. I hope you can fit them nicely in your models :)"
      ]
    },
    {
      "cell_type": "code",
      "execution_count": null,
      "metadata": {
        "_cell_guid": "6662a48c-2261-5d99-4eb2-c89eb605632e"
      },
      "outputs": [],
      "source": [
        "# This Python 3 environment comes with many helpful analytics libraries installed\n",
        "# It is defined by the kaggle/python docker image: https://github.com/kaggle/docker-python\n",
        "# For example, here's several helpful packages to load in \n",
        "\n",
        "import numpy as np # linear algebra\n",
        "import pandas as pd # data processing, CSV file I/O (e.g. pd.read_csv)\n",
        "\n",
        "# Input data files are available in the \"../input/\" directory.\n",
        "# For example, running this (by clicking run or pressing Shift+Enter) will list the files in the input directory\n",
        "\n",
        "from subprocess import check_output\n",
        "print(check_output([\"ls\", \"../input\"]).decode(\"utf8\"))\n",
        "\n",
        "# Any results you write to the current directory are saved as output."
      ]
    },
    {
      "cell_type": "markdown",
      "metadata": {
        "_cell_guid": "6ddff571-3f3d-d545-1b4d-3ebd8c0044fa"
      },
      "source": [
        "Let's load the test and train sets:"
      ]
    },
    {
      "cell_type": "code",
      "execution_count": null,
      "metadata": {
        "_cell_guid": "739e64b7-1a35-8635-0d11-5d73954df4c5"
      },
      "outputs": [],
      "source": [
        "def read_train_test():\n",
        "    data_path = \"../input/\"\n",
        "    train_file = data_path + \"train.json\"\n",
        "    test_file = data_path + \"test.json\"\n",
        "    train_df = pd.read_json(train_file)\n",
        "    test_df = pd.read_json(test_file)\n",
        "    return train_df, test_df\n",
        "\n",
        "train_df, test_df = read_train_test()\n",
        "\n"
      ]
    },
    {
      "cell_type": "markdown",
      "metadata": {
        "_cell_guid": "c3a18ad4-729e-f09b-8146-2e171aeca102"
      },
      "source": [
        "**Let's thing about the coordinates of our flats. Are the patterns of high/low interest really vertical? Let's try look at them from different perspective = let's rotate them!\n",
        "Also, while we're in the are of coordinate systems, let's add polar coordinates, picking central park as the central point.**"
      ]
    },
    {
      "cell_type": "code",
      "execution_count": null,
      "metadata": {
        "_cell_guid": "da95ff84-54b6-b2eb-4db3-62147ff98155"
      },
      "outputs": [],
      "source": [
        "import math\n",
        "def cart2rho(x, y):\n",
        "    rho = np.sqrt(x**2 + y**2)\n",
        "    return rho\n",
        "\n",
        "\n",
        "def cart2phi(x, y):\n",
        "    phi = np.arctan2(y, x)\n",
        "    return phi\n",
        "\n",
        "\n",
        "def rotation_x(row, alpha):\n",
        "    x = row['latitude']\n",
        "    y = row['longitude']\n",
        "    return x*math.cos(alpha) + y*math.sin(alpha)\n",
        "\n",
        "\n",
        "def rotation_y(row, alpha):\n",
        "    x = row['latitude']\n",
        "    y = row['longitude']\n",
        "    return y*math.cos(alpha) - x*math.sin(alpha)\n",
        "\n",
        "\n",
        "def add_rotation(degrees, df):\n",
        "    namex = \"rot\" + str(degrees) + \"_X\"\n",
        "    namey = \"rot\" + str(degrees) + \"_Y\"\n",
        "\n",
        "    df['num_' + namex] = df.apply(lambda row: rotation_x(row, math.pi/(180/degrees)), axis=1)\n",
        "    df['num_' + namey] = df.apply(lambda row: rotation_y(row, math.pi/(180/degrees)), axis=1)\n",
        "\n",
        "    return df\n",
        "\n",
        "def operate_on_coordinates(tr_df, te_df):\n",
        "    for df in [tr_df, te_df]:\n",
        "        #polar coordinates system\n",
        "        df[\"num_rho\"] = df.apply(lambda x: cart2rho(x[\"latitude\"] - 40.78222222, x[\"longitude\"]+73.96527777), axis=1)\n",
        "        df[\"num_phi\"] = df.apply(lambda x: cart2phi(x[\"latitude\"] - 40.78222222, x[\"longitude\"]+73.96527777), axis=1)\n",
        "        #rotations\n",
        "        for angle in [15,30,45,60]:\n",
        "            df = add_rotation(angle, df)\n",
        "\n",
        "    return tr_df, te_df\n",
        "\n",
        "train_df, test_df = operate_on_coordinates(train_df, test_df)"
      ]
    },
    {
      "cell_type": "markdown",
      "metadata": {
        "_cell_guid": "16a2b72c-d803-bccb-9983-1f229728d92f"
      },
      "source": [
        "Finaly, let's add some other interesting features :)"
      ]
    },
    {
      "cell_type": "code",
      "execution_count": null,
      "metadata": {
        "_cell_guid": "6bdcbfe0-7770-c2c8-9871-72291d480351"
      },
      "outputs": [],
      "source": [
        "import re\n",
        "\n",
        "def cap_share(x):\n",
        "    return sum(1 for c in x if c.isupper())/float(len(x)+1)\n",
        "\n",
        "for df in [train_df, test_df]:\n",
        "    # do you think that users might feel annoyed BY A DESCRIPTION THAT IS SHOUTING AT THEM?\n",
        "    df['num_cap_share'] = df['description'].apply(cap_share)\n",
        "    \n",
        "    # how long in lines the desc is?\n",
        "    df['num_nr_of_lines'] = df['description'].apply(lambda x: x.count('<br /><br />'))\n",
        "   \n",
        "    # is the description redacted by the website?        \n",
        "    df['num_redacted'] = 0\n",
        "    df['num_redacted'].ix[df['description'].str.contains('website_redacted')] = 1\n",
        "\n",
        "    \n",
        "    # can we contact someone via e-mail to ask for the details?\n",
        "    df['num_email'] = 0\n",
        "    df['num_email'].ix[df['description'].str.contains('@')] = 1\n",
        "    \n",
        "    #and... can we call them?\n",
        "    \n",
        "    reg = re.compile(\".*?(\\(?\\d{3}\\D{0,3}\\d{3}\\D{0,3}\\d{4}).*?\", re.S)\n",
        "    def try_and_find_nr(description):\n",
        "        if reg.match(description) is None:\n",
        "            return 0\n",
        "        return 1\n",
        "\n",
        "    df['num_phone_nr'] = df['description'].apply(try_and_find_nr)"
      ]
    },
    {
      "cell_type": "markdown",
      "metadata": {
        "_cell_guid": "80961db2-e8b8-57f4-1609-558e021eb996"
      },
      "source": [
        "That's it guys, hopefully the features improve your models"
      ]
    }
  ],
  "metadata": {
    "_change_revision": 0,
    "_is_fork": false,
    "kernelspec": {
      "display_name": "Python 3",
      "language": "python",
      "name": "python3"
    },
    "language_info": {
      "codemirror_mode": {
        "name": "ipython",
        "version": 3
      },
      "file_extension": ".py",
      "mimetype": "text/x-python",
      "name": "python",
      "nbconvert_exporter": "python",
      "pygments_lexer": "ipython3",
      "version": "3.6.0"
    }
  },
  "nbformat": 4,
  "nbformat_minor": 0
}