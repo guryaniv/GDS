{
  "metadata": {
    "kernelspec": {
      "display_name": "Python 3",
      "language": "python",
      "name": "python3"
    },
    "language_info": {
      "codemirror_mode": {
        "name": "ipython",
        "version": 3
      },
      "file_extension": ".py",
      "mimetype": "text/x-python",
      "name": "python",
      "nbconvert_exporter": "python",
      "pygments_lexer": "ipython3",
      "version": "3.5.2"
    }
  },
  "nbformat": 4,
  "nbformat_minor": 0,
  "cells": [
    {
      "cell_type": "code",
      "execution_count": null,
      "metadata": {
        "_cell_guid": "65da077c-2906-5327-13ea-271b63e64e13",
        "_active": true,
        "collapsed": false
      },
      "outputs": [],
      "source": "# This Python 3 environment comes with many helpful analytics libraries installed\n# It is defined by the kaggle/python docker image: https://github.com/kaggle/docker-python\n# For example, here's several helpful packages to load in \n\n%matplotlib inline\nimport matplotlib\nimport numpy as np\nimport pandas as pd\nimport matplotlib.pyplot as plt\nimport tensorflow as tf\nimport glob\nfrom skimage.io import imread\nfrom skimage.transform import resize\nfrom tensorflow.python.framework.ops import reset_default_graph\n\n# Input data files are available in the \"../input/\" directory.\n# For example, running this (by clicking run or pressing Shift+Enter) will list the files in the input directory\n\nfrom subprocess import check_output\nprint(check_output([\"ls\", \"../input\"]).decode(\"utf8\"))\n\n# Any results you write to the current directory are saved as output.",
      "execution_state": "idle"
    },
    {
      "cell_type": "code",
      "execution_count": null,
      "metadata": {
        "_cell_guid": "902a4c83-f418-423b-4217-96110cfdb06f",
        "_active": false,
        "collapsed": false
      },
      "outputs": [],
      "source": "train = pd.read_csv('../input/train.csv')\ntest = pd.read_csv('../input/test.csv')",
      "execution_state": "idle"
    },
    {
      "metadata": {
        "_cell_guid": "e37b5b21-f5a6-f423-1e4b-3a8cdf3d493b",
        "_active": false,
        "collapsed": false
      },
      "source": "# name all columns in train, should be 3 different columns with 64 values each\nprint(train.columns[2::64])",
      "execution_count": null,
      "cell_type": "code",
      "outputs": [],
      "execution_state": "idle"
    },
    {
      "metadata": {
        "_cell_guid": "5899dad4-5031-2ea4-6b37-ca47322c5c35",
        "_active": false,
        "collapsed": false
      },
      "source": "# try and extract and plot columns\nX = train.as_matrix(columns=train.columns[2:])\nprint( \"X.shape,\", X.shape)\nmargin = X[:, :64]\nshape = X[:, 64:128]\ntexture = X[:, 128:]\nprint(\"margin.shape,\", margin.shape)\nprint(\"shape.shape,\", shape.shape)\nprint(\"texture.shape,\", texture.shape) \n# let us plot some of the features\nplt.figure(figsize=(8,5))\nfor i in range(3):\n    plt.subplot(3,3,1+i*3)\n    plt.plot(margin[i])\n    if i == 0:\n        plt.title('Margin', fontsize=20)\n    plt.axis('off')\n    plt.subplot(3,3,2+i*3)\n    plt.plot(shape[i])\n    if i == 0:\n        plt.title('Shape', fontsize=20)\n    plt.axis('off')\n    plt.subplot(3,3,3+i*3)\n    plt.plot(texture[i])\n    if i == 0:\n        plt.title('Texture', fontsize=20)\n\nplt.tight_layout()\nplt.show()",
      "execution_count": null,
      "cell_type": "code",
      "outputs": [],
      "execution_state": "idle"
    },
    {
      "metadata": {
        "_cell_guid": "3fc41bfd-8d49-0fd5-624a-7de9260ca8a8",
        "_active": false,
        "collapsed": false
      },
      "source": "print (margin.mean())\nprint (shape.mean())\nprint (texture.mean())",
      "execution_count": null,
      "cell_type": "code",
      "outputs": [],
      "execution_state": "idle"
    },
    {
      "metadata": {
        "_cell_guid": "b42941ed-e2d5-fcbd-1e0c-bc5d199feeb5",
        "_active": false,
        "collapsed": false
      },
      "source": null,
      "execution_count": null,
      "cell_type": "code",
      "outputs": [],
      "execution_state": "idle"
    }
  ]
}