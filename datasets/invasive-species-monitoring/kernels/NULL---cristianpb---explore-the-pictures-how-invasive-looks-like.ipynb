{
  "cells": [
    {
      "cell_type": "markdown",
      "metadata": {
        "_cell_guid": "5e7890b2-5e04-98a9-ed3c-807223284014"
      },
      "source": [
        "This notebook is for exploring porpuses. Checking what are the invasive plants and the sizes of the pictures."
      ]
    },
    {
      "cell_type": "code",
      "execution_count": null,
      "metadata": {
        "_cell_guid": "3137e4ba-9839-7c53-707a-12beaf12f434"
      },
      "outputs": [],
      "source": [
        "import numpy as np # linear algebra\n",
        "import pandas as pd # data processing, CSV file I/O (e.g. pd.read_csv)\n",
        "from glob import glob\n",
        "import matplotlib.pyplot as plt\n",
        "from keras.preprocessing import image\n",
        "import os\n",
        "import PIL"
      ]
    },
    {
      "cell_type": "code",
      "execution_count": null,
      "metadata": {
        "_cell_guid": "35afc4cd-4705-64b9-42cf-c927f1c5b0a4"
      },
      "outputs": [],
      "source": [
        "train_labels = pd.read_csv('../input/train_labels.csv')\n",
        "train_labels.head()"
      ]
    },
    {
      "cell_type": "code",
      "execution_count": null,
      "metadata": {
        "_cell_guid": "40c8ac42-4c6d-83a1-dbab-ea0ed90531a3"
      },
      "outputs": [],
      "source": [
        "path_prefix = '../input/train/'\n",
        "train_path = glob(path_prefix + '*')\n",
        "train_number = [os.path.splitext(f.split(\"/\")[-1])[0] for f in train_path]"
      ]
    },
    {
      "cell_type": "code",
      "execution_count": null,
      "metadata": {
        "_cell_guid": "3e4999b2-c3b5-823b-3935-3b972380a75e"
      },
      "outputs": [],
      "source": [
        "train_path[:5]"
      ]
    },
    {
      "cell_type": "code",
      "execution_count": null,
      "metadata": {
        "_cell_guid": "0ab2ad08-19cb-13f5-61b9-c62ef913f73a"
      },
      "outputs": [],
      "source": [
        "train_number[:5]"
      ]
    },
    {
      "cell_type": "code",
      "execution_count": null,
      "metadata": {
        "_cell_guid": "64107157-247e-cc41-b3ff-e8b174c3104d"
      },
      "outputs": [],
      "source": [
        "grid_size = 6\n",
        "f, axarr = plt.subplots(grid_size, grid_size, figsize=(16, 16))\n",
        "f.subplots_adjust(hspace=0.0,wspace=0.0)\n",
        "plt.rcParams.update({'font.size': 22})\n",
        "\n",
        "for k,photo_name in enumerate(train_path):\n",
        "    #print(k,photo_name)\n",
        "    if k > grid_size*grid_size-1: break\n",
        "    img_path = photo_name\n",
        "    img_number = int(os.path.splitext(photo_name.split(\"/\")[-1])[0])\n",
        "    img_label = train_labels[train_labels['name'] == img_number].invasive.values[0]\n",
        "    #print(img_label)\n",
        "    img = image.load_img(img_path, target_size=(300, 300))\n",
        "    img = image.img_to_array(img)\n",
        "    axarr[int(k/grid_size), k%grid_size].imshow(img / 255.)\n",
        "    axarr[int(k/grid_size), k%grid_size].axis('off')\n",
        "    if img_label == 1:\n",
        "        axarr[int(k/grid_size), k%grid_size].text(20, 40, img_label, bbox={'facecolor':'red', 'alpha':0.5})\n",
        "    elif img_label == 0:\n",
        "        axarr[int(k/grid_size), k%grid_size].text(20, 40, img_label, bbox={'facecolor':'blue', 'alpha':0.5})\n",
        "\n",
        "    \n",
        "plt.show()"
      ]
    },
    {
      "cell_type": "markdown",
      "metadata": {
        "_cell_guid": "bed0479a-8b2b-600c-992b-9f808b6a5667"
      },
      "source": [
        "# Pictures sizes"
      ]
    },
    {
      "cell_type": "code",
      "execution_count": null,
      "metadata": {
        "_cell_guid": "7c043b51-4631-bcb4-a814-a63a7f936c04"
      },
      "outputs": [],
      "source": [
        "sizes = [PIL.Image.open(name_photo).size for name_photo in train_path]"
      ]
    },
    {
      "cell_type": "code",
      "execution_count": null,
      "metadata": {
        "_cell_guid": "3026a83b-0370-fecc-4776-cec487f76e83"
      },
      "outputs": [],
      "source": [
        "x_width = [f[0] for f in sizes]\n",
        "y_height = [f[1] for f in sizes]"
      ]
    },
    {
      "cell_type": "code",
      "execution_count": null,
      "metadata": {
        "_cell_guid": "2aaafbef-44b9-f445-6fc1-566689e8c859"
      },
      "outputs": [],
      "source": [
        "plt.rcParams.update({'font.size': 10})\n",
        "plt.hist(x_width, bins=1, label='width')\n",
        "plt.hist(y_height, bins=1, label='height')\n",
        "plt.legend(loc='best')\n",
        "plt.show()"
      ]
    },
    {
      "cell_type": "markdown",
      "metadata": {
        "_cell_guid": "ea1d2a80-4746-7fdc-b079-3f1df4e44be1"
      },
      "source": [
        "All the pictures have the same sizes"
      ]
    }
  ],
  "metadata": {
    "_change_revision": 0,
    "_is_fork": false,
    "kernelspec": {
      "display_name": "Python 3",
      "language": "python",
      "name": "python3"
    },
    "language_info": {
      "codemirror_mode": {
        "name": "ipython",
        "version": 3
      },
      "file_extension": ".py",
      "mimetype": "text/x-python",
      "name": "python",
      "nbconvert_exporter": "python",
      "pygments_lexer": "ipython3",
      "version": "3.6.0"
    }
  },
  "nbformat": 4,
  "nbformat_minor": 0
}