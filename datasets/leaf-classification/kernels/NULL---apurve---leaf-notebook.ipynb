{
  "cells": [
    {
      "cell_type": "code",
      "execution_count": null,
      "metadata": {
        "_cell_guid": "6460ce7e-7834-6061-af66-5a946f30f280"
      },
      "outputs": [],
      "source": [
        "import numpy as np\n",
        "import pandas as pd\n",
        "from sklearn.preprocessing import LabelEncoder\n",
        "from sklearn.cross_validation import StratifiedShuffleSplit\n",
        "\n",
        "train = pd.read_csv('../input/train.csv')\n",
        "test = pd.read_csv('../input/test.csv')"
      ]
    },
    {
      "cell_type": "code",
      "execution_count": null,
      "metadata": {
        "_cell_guid": "e47fadc0-faa4-5ac5-e316-807646f6fbca"
      },
      "outputs": [],
      "source": [
        "def encode(train, test):\n",
        "    le = LabelEncoder().fit(train.species) \n",
        "    labels = le.transform(train.species)           # encode species strings\n",
        "    classes = list(le.classes_)                    # save column names for submission\n",
        "    test_ids = test.id                             # save test ids for submission\n",
        "    \n",
        "    train = train.drop(['species', 'id'], axis=1)  \n",
        "    test = test.drop(['id'], axis=1)\n",
        "    \n",
        "    return train, labels, test, test_ids, classes\n",
        "\n",
        "train, labels, test, test_ids, classes = encode(train, test)"
      ]
    },
    {
      "cell_type": "code",
      "execution_count": null,
      "metadata": {
        "_cell_guid": "14144a70-e5ed-d57c-76e5-0241cc5acee8"
      },
      "outputs": [],
      "source": [
        "sss = StratifiedShuffleSplit(labels, 10, test_size=0.2, random_state=23)\n",
        "\n",
        "for train_index, test_index in sss:\n",
        "    X_train, X_test = train.values[train_index], train.values[test_index]\n",
        "    y_train, y_test = labels[train_index], labels[test_index]"
      ]
    },
    {
      "cell_type": "code",
      "execution_count": null,
      "metadata": {
        "_cell_guid": "8be4ee9f-817c-f6c6-891a-5de3962e7cdb"
      },
      "outputs": [],
      "source": [
        "from sklearn.metrics import accuracy_score, log_loss\n",
        "from sklearn.neural_network import MLPClassifier\n",
        "\n",
        "clf = MLPClassifier(alpha=1e-4, hidden_layer_sizes=(100, 100, 100), random_state=1)\n",
        "clf.fit(X_train, y_train)\n",
        "    \n",
        "train_predictions = clf.predict(X_test)\n",
        "acc = accuracy_score(y_test, train_predictions)\n",
        "print(\"Accuracy: {:.4%}\".format(acc))\n",
        "    \n",
        "train_predictions = clf.predict_proba(X_test)\n",
        "ll = log_loss(y_test, train_predictions)\n",
        "print(\"Log Loss: {}\".format(ll))"
      ]
    },
    {
      "cell_type": "code",
      "execution_count": null,
      "metadata": {
        "_cell_guid": "72e71856-5b17-a053-333a-25f91b069bed"
      },
      "outputs": [],
      "source": [
        "test_predictions = clf.predict_proba(test)\n",
        "\n",
        "submission1 = pd.DataFrame(test_predictions, columns=classes)\n",
        "submission1.insert(0, 'id', test_ids)\n",
        "submission1.reset_index()\n",
        "#submission1 = submission1.drop(submission1.columns[0], axis=1)\n",
        "submission1.to_csv('submission1.csv')\n",
        "submission1.tail()"
      ]
    }
  ],
  "metadata": {
    "_change_revision": 0,
    "_is_fork": false,
    "kernelspec": {
      "display_name": "Python 3",
      "language": "python",
      "name": "python3"
    },
    "language_info": {
      "codemirror_mode": {
        "name": "ipython",
        "version": 3
      },
      "file_extension": ".py",
      "mimetype": "text/x-python",
      "name": "python",
      "nbconvert_exporter": "python",
      "pygments_lexer": "ipython3",
      "version": "3.6.0"
    }
  },
  "nbformat": 4,
  "nbformat_minor": 0
}