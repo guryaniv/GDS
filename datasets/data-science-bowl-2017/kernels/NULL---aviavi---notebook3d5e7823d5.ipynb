{
  "cells": [
    {
      "cell_type": "code",
      "execution_count": null,
      "metadata": {
        "_cell_guid": "731225c4-4fba-277a-7428-092e1cddc5f0"
      },
      "outputs": [],
      "source": [
        "# This Python 3 environment comes with many helpful analytics libraries installed\n",
        "# It is defined by the kaggle/python docker image: https://github.com/kaggle/docker-python\n",
        "# For example, here's several helpful packages to load in \n",
        "\n",
        "import numpy as np # linear algebra\n",
        "import pandas as pd # data processing, CSV file I/O (e.g. pd.read_csv)\n",
        "\n",
        "# Input data files are available in the \"../input/\" directory.\n",
        "# For example, running this (by clicking run or pressing Shift+Enter) will list the files in the input directory\n",
        "\n",
        "from subprocess import check_output\n",
        "print(check_output([\"ls\", \"../input\"]).decode(\"utf8\"))\n",
        "\n",
        "# Any results you write to the current directory are saved as output."
      ]
    },
    {
      "cell_type": "code",
      "execution_count": null,
      "metadata": {
        "_cell_guid": "d59cb04e-5af4-49aa-53ae-ac39ac8833ac"
      },
      "outputs": [],
      "source": [
        "import dicom # for reading dicom files\n",
        "import os # for doing directory operations \n",
        "import pandas as pd # for some simple data analysis (right now, just to load in the labels data and quickly reference it)\n",
        "\n",
        "\n",
        "data_dir = \"/Users/avidan/PycharmProjects/3D/kaggle_cancer_2017/data/from_evgeny/stage1_64\"\n",
        "patients = os.listdir(data_dir)\n",
        "#labels_df = pd.read_csv('../input/stage1_labels.csv', index_col=0)\n",
        "labels_df = pd.read_csv('/Users/avidan/PycharmProjects/3D/kaggle_cancer_2017/data/from_kaggle/stage1_labels.csv', index_col=0)\n",
        "\n",
        "labels_df.head()"
      ]
    },
    {
      "cell_type": "code",
      "execution_count": null,
      "metadata": {
        "_cell_guid": "3be5b8a5-7629-c062-5960-cb59ca3029ce"
      },
      "outputs": [],
      "source": [
        "import matplotlib.pyplot as plt\n",
        "import cv2\n",
        "import numpy as np\n",
        "\n",
        "IMG_PX_SIZE = 150\n",
        "SLICES_TO_SHOW = 100\n",
        "PICS_IN_ROW = 5\n",
        "\n",
        "for patient in patients[:1]:\n",
        "    label = labels_df.get_value(patient, 'cancer')\n",
        "    path = data_dir + patient\n",
        "    slices = [dicom.read_file(path + '/' + s) for s in os.listdir(path)]\n",
        "    slices.sort(key = lambda x: int(x.ImagePositionPatient[2]))\n",
        "    print(len(slices),label, slices[0].pixel_array.shape)\n",
        "    #print(slices[0])\n",
        "    \n",
        "    #plt.imshow(slices[0].pixel_array)\n",
        "    #plt.show()\n",
        "    \n",
        "    fig = plt.figure(figsize=(10, SLICES_TO_SHOW/2))\n",
        "    for num,each_slice in enumerate(slices[:SLICES_TO_SHOW]):\n",
        "        y = fig.add_subplot(SLICES_TO_SHOW/PICS_IN_ROW,PICS_IN_ROW,num+1)\n",
        "        new_img = cv2.resize(np.array(each_slice.pixel_array),(IMG_PX_SIZE,IMG_PX_SIZE))\n",
        "        y.imshow(new_img)\n",
        "    plt.show()"
      ]
    },
    {
      "cell_type": "code",
      "execution_count": null,
      "metadata": {
        "_cell_guid": "20d56374-0c80-528a-496d-6cfb36beaace"
      },
      "outputs": [],
      "source": ""
    },
    {
      "cell_type": "code",
      "execution_count": null,
      "metadata": {
        "_cell_guid": "a120af91-6253-9d9a-5bdb-35f5c8e8699e"
      },
      "outputs": [],
      "source": ""
    }
  ],
  "metadata": {
    "_change_revision": 0,
    "_is_fork": false,
    "kernelspec": {
      "display_name": "Python 3",
      "language": "python",
      "name": "python3"
    },
    "language_info": {
      "codemirror_mode": {
        "name": "ipython",
        "version": 3
      },
      "file_extension": ".py",
      "mimetype": "text/x-python",
      "name": "python",
      "nbconvert_exporter": "python",
      "pygments_lexer": "ipython3",
      "version": "3.6.0"
    }
  },
  "nbformat": 4,
  "nbformat_minor": 0
}