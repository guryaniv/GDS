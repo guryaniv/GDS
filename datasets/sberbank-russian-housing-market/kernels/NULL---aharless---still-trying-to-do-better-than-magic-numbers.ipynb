{
  "cells": [
    {
      "cell_type": "markdown",
      "metadata": {
        "_cell_guid": "eb797542-13a5-d3ae-06f7-7148178f3c74"
      },
      "source": [
        "June 8. Version 13:  Going back to doing separate adjustments for each of the 3 micro models\n",
        "\n",
        "From version 12:\n",
        "\n",
        "This version adjusts results using average (log) predicted prices from a macro model.\n",
        "\n",
        "By default (that is, if micro_humility_factor=1), it rescales the adjusted log predictions so that the standard deviation of the raw predictions is the same as it was before the adjustment.\n",
        "\n",
        "There is also a provision for applying micro and macro humility factors .  The macro humility factor adjusts the macro predictions by averaging in a \"naive\" macro model.  The micro humility factor adjusts individual (log) predictions toward the (log) mean. "
      ]
    },
    {
      "cell_type": "code",
      "execution_count": null,
      "metadata": {
        "_cell_guid": "af81a88e-5980-2819-18a7-1b1e4032205f"
      },
      "outputs": [],
      "source": [
        "# Parameters\n",
        "micro_humility_factor = 1     #    range from 0 (complete humility) to 1 (no humility)\n",
        "macro_humility_factor = 0.96\n",
        "jason_weight = .2\n",
        "bruno_weight = .2\n",
        "reynaldo_weight = 1 - jason_weight - bruno_weight"
      ]
    },
    {
      "cell_type": "code",
      "execution_count": null,
      "metadata": {
        "_cell_guid": "a0320923-48e8-7105-9228-bee42fa1fc41"
      },
      "outputs": [],
      "source": [
        "# Get ready for lots of annoying deprecation warnings\n",
        "import statsmodels.api as sm"
      ]
    },
    {
      "cell_type": "code",
      "execution_count": null,
      "metadata": {
        "_cell_guid": "31a987d3-1475-7b13-8da3-9f904856d915"
      },
      "outputs": [],
      "source": [
        "import numpy as np\n",
        "import pandas as pd\n",
        "import matplotlib.pyplot as plt\n",
        "import seaborn as sns\n",
        "from sklearn import model_selection, preprocessing\n",
        "import xgboost as xgb\n",
        "import datetime\n",
        "import scipy as sp"
      ]
    },
    {
      "cell_type": "code",
      "execution_count": null,
      "metadata": {
        "_cell_guid": "67e965cd-3fac-bbd0-6f79-02cef83e3551"
      },
      "outputs": [],
      "source": [
        "# Functions to use in data adjustment\n",
        "\n",
        "def scale_miss(   # Scale shifted logs and compare raw stdev to old raw stdev\n",
        "        alpha,\n",
        "        shifted_logs,\n",
        "        oldstd,\n",
        "        new_logmean\n",
        "        ):\n",
        "    newlogs = new_logmean + alpha*(shifted_logs - new_logmean)\n",
        "    newstd = np.std(np.exp(newlogs))\n",
        "    return (newstd-oldstd)**2\n",
        "    \n",
        "\n",
        "def shift_logmean_but_keep_scale(  # Or change the scale, but relative to the old scale\n",
        "        data,\n",
        "        new_logmean,\n",
        "        rescaler\n",
        "        ):\n",
        "    logdata = np.log(data)\n",
        "    oldstd = data.std()\n",
        "    shift = new_logmean - logdata.mean()\n",
        "    shifted_logs = logdata + shift\n",
        "    scale = sp.optimize.leastsq( scale_miss, 1, args=(shifted_logs, oldstd, new_logmean) )\n",
        "    alpha = scale[0][0]\n",
        "    newlogs = new_logmean + rescaler*alpha*(shifted_logs - new_logmean)\n",
        "    return np.exp(newlogs)"
      ]
    },
    {
      "cell_type": "markdown",
      "metadata": {
        "_cell_guid": "3d6f23a0-8a54-edf6-a793-14d6cd965335"
      },
      "source": [
        "## Fit macro model and compute average prediction"
      ]
    },
    {
      "cell_type": "code",
      "execution_count": null,
      "metadata": {
        "_cell_guid": "1c611c87-b384-4b03-862f-917717df8c3e"
      },
      "outputs": [],
      "source": [
        "# Read data\n",
        "macro = pd.read_csv('../input/macro.csv')\n",
        "train = pd.read_csv('../input/train.csv')\n",
        "test = pd.read_csv('../input/test.csv')\n",
        "\n",
        "# Macro data monthly medians\n",
        "macro[\"timestamp\"] = pd.to_datetime(macro[\"timestamp\"])\n",
        "macro[\"year\"]  = macro[\"timestamp\"].dt.year\n",
        "macro[\"month\"] = macro[\"timestamp\"].dt.month\n",
        "macro[\"yearmonth\"] = 100*macro.year + macro.month\n",
        "macmeds = macro.groupby(\"yearmonth\").median()\n",
        "\n",
        "# Price data monthly medians\n",
        "train[\"timestamp\"] = pd.to_datetime(train[\"timestamp\"])\n",
        "train[\"year\"]  = train[\"timestamp\"].dt.year\n",
        "train[\"month\"] = train[\"timestamp\"].dt.month\n",
        "train[\"yearmonth\"] = 100*train.year + train.month\n",
        "prices = train[[\"yearmonth\",\"price_doc\"]]\n",
        "p = prices.groupby(\"yearmonth\").median()\n",
        "\n",
        "# Join monthly prices to macro data\n",
        "df = macmeds.join(p)"
      ]
    },
    {
      "cell_type": "code",
      "execution_count": null,
      "metadata": {
        "_cell_guid": "c7fef4e9-279a-dbc2-f80e-8ea82eec262f"
      },
      "outputs": [],
      "source": [
        "# Function to process Almon lags\n",
        "\n",
        "import numpy.matlib as ml\n",
        " \n",
        "def almonZmatrix(X, maxlag, maxdeg):\n",
        "    \"\"\"\n",
        "    Creates the Z matrix corresponding to vector X.\n",
        "    \"\"\"\n",
        "    n = len(X)\n",
        "    Z = ml.zeros((len(X)-maxlag, maxdeg+1))\n",
        "    for t in range(maxlag,  n):\n",
        "       #Solve for Z[t][0].\n",
        "       Z[t-maxlag,0] = sum([X[t-lag] for lag in range(maxlag+1)])\n",
        "       for j in range(1, maxdeg+1):\n",
        "             s = 0.0\n",
        "             for i in range(1, maxlag+1):       \n",
        "                s += (i)**j * X[t-i]\n",
        "             Z[t-maxlag,j] = s\n",
        "    return Z"
      ]
    },
    {
      "cell_type": "code",
      "execution_count": null,
      "metadata": {
        "_cell_guid": "47b5ffb5-90c5-3107-5922-957e48c2a9fe"
      },
      "outputs": [],
      "source": [
        "# Prepare data for macro model\n",
        "y = df.price_doc.div(df.cpi).apply(np.log).loc[201108:201506]\n",
        "lncpi = df.cpi.apply(np.log)\n",
        "tblags = 5    # Number of lags used on PDL for Trade Balance\n",
        "mrlags = 5    # Number of lags used on PDL for Mortgage Rate\n",
        "cplags = 5    # Number of lags used on PDL for CPI\n",
        "ztb = almonZmatrix(df.balance_trade.loc[201103:201506].as_matrix(), tblags, 1)\n",
        "zmr = almonZmatrix(df.mortgage_rate.loc[201103:201506].as_matrix(), mrlags, 1)\n",
        "zcp = almonZmatrix(lncpi.loc[201103:201506].as_matrix(), cplags, 1)\n",
        "columns = ['tb0', 'tb1', 'mr0', 'mr1', 'cp0', 'cp1']\n",
        "z = pd.DataFrame( np.concatenate( (ztb, zmr, zcp), axis=1), y.index.values, columns )\n",
        "X = sm.add_constant( z )\n",
        "\n",
        "# Fit macro model\n",
        "eq = sm.OLS(y, X)\n",
        "fit = eq.fit()\n",
        "\n",
        "# Predict with macro model\n",
        "test_cpi = df.cpi.loc[201507:201605]\n",
        "test_index = test_cpi.index\n",
        "ztb_test = almonZmatrix(df.balance_trade.loc[201502:201605].as_matrix(), tblags, 1)\n",
        "zmr_test = almonZmatrix(df.mortgage_rate.loc[201502:201605].as_matrix(), mrlags, 1)\n",
        "zcp_test = almonZmatrix(lncpi.loc[201502:201605].as_matrix(), cplags, 1)\n",
        "z_test = pd.DataFrame( np.concatenate( (ztb_test, zmr_test, zcp_test), axis=1), \n",
        "                       test_index, columns )\n",
        "X_test = sm.add_constant( z_test )\n",
        "pred_lnrp = fit.predict( X_test )\n",
        "pred_p = np.exp(pred_lnrp) * test_cpi\n",
        "\n",
        "# Merge with test cases and compute mean for macro prediction\n",
        "test[\"timestamp\"] = pd.to_datetime(test[\"timestamp\"])\n",
        "test[\"year\"]  = test[\"timestamp\"].dt.year\n",
        "test[\"month\"] = test[\"timestamp\"].dt.month\n",
        "test[\"yearmonth\"] = 100*test.year + test.month\n",
        "test_ids = test[[\"yearmonth\",\"id\"]]\n",
        "monthprices = pd.DataFrame({\"yearmonth\":pred_p.index.values,\"monthprice\":pred_p.values})\n",
        "macro_mean = np.exp(test_ids.merge(monthprices, on=\"yearmonth\").monthprice.apply(np.log).mean())\n",
        "macro_mean"
      ]
    },
    {
      "cell_type": "code",
      "execution_count": null,
      "metadata": {
        "_cell_guid": "c8a7aae9-788d-6bf0-1249-40bca06ddfce"
      },
      "outputs": [],
      "source": [
        "# Naive macro model assumes housing prices will simply follow CPI\n",
        "naive_pred_lnrp = y.mean()\n",
        "naive_pred_p = np.exp(naive_pred_lnrp) * test_cpi\n",
        "monthnaive = pd.DataFrame({\"yearmonth\":pred_p.index.values, \"monthprice\":naive_pred_p.values})\n",
        "macro_naive = np.exp(test_ids.merge(monthnaive, on=\"yearmonth\").monthprice.apply(np.log).mean())\n",
        "macro_naive"
      ]
    },
    {
      "cell_type": "code",
      "execution_count": null,
      "metadata": {
        "_cell_guid": "4b0e1912-e303-55b6-5c34-5d40ad0bf183"
      },
      "outputs": [],
      "source": [
        "# Combine naive and substantive macro models\n",
        "macro_mean = macro_naive * (macro_mean/macro_naive) ** macro_humility_factor\n",
        "macro_mean"
      ]
    },
    {
      "cell_type": "markdown",
      "metadata": {
        "_cell_guid": "38ef4aa4-4510-c080-cf88-f398fd3f18fc"
      },
      "source": [
        "## Fit Jason's model and adjust results for macro mean"
      ]
    },
    {
      "cell_type": "code",
      "execution_count": null,
      "metadata": {
        "_cell_guid": "20e58eb5-0375-6e87-1bae-aefbe1e136e0"
      },
      "outputs": [],
      "source": [
        "# Jason/Gunja\n",
        "\n",
        "\n",
        "\n",
        "#load files\n",
        "train = pd.read_csv('../input/train.csv', parse_dates=['timestamp'])\n",
        "test = pd.read_csv('../input/test.csv', parse_dates=['timestamp'])\n",
        "macro = pd.read_csv('../input/macro.csv', parse_dates=['timestamp'])\n",
        "id_test = test.id\n",
        "\n",
        "#clean data\n",
        "bad_index = train[train.life_sq > train.full_sq].index\n",
        "train.ix[bad_index, \"life_sq\"] = np.NaN\n",
        "equal_index = [601,1896,2791]\n",
        "test.ix[equal_index, \"life_sq\"] = test.ix[equal_index, \"full_sq\"]\n",
        "bad_index = test[test.life_sq > test.full_sq].index\n",
        "test.ix[bad_index, \"life_sq\"] = np.NaN\n",
        "bad_index = train[train.life_sq < 5].index\n",
        "train.ix[bad_index, \"life_sq\"] = np.NaN\n",
        "bad_index = test[test.life_sq < 5].index\n",
        "test.ix[bad_index, \"life_sq\"] = np.NaN\n",
        "bad_index = train[train.full_sq < 5].index\n",
        "train.ix[bad_index, \"full_sq\"] = np.NaN\n",
        "bad_index = test[test.full_sq < 5].index\n",
        "test.ix[bad_index, \"full_sq\"] = np.NaN\n",
        "kitch_is_build_year = [13117]\n",
        "train.ix[kitch_is_build_year, \"build_year\"] = train.ix[kitch_is_build_year, \"kitch_sq\"]\n",
        "bad_index = train[train.kitch_sq >= train.life_sq].index\n",
        "train.ix[bad_index, \"kitch_sq\"] = np.NaN\n",
        "bad_index = test[test.kitch_sq >= test.life_sq].index\n",
        "test.ix[bad_index, \"kitch_sq\"] = np.NaN\n",
        "bad_index = train[(train.kitch_sq == 0).values + (train.kitch_sq == 1).values].index\n",
        "train.ix[bad_index, \"kitch_sq\"] = np.NaN\n",
        "bad_index = test[(test.kitch_sq == 0).values + (test.kitch_sq == 1).values].index\n",
        "test.ix[bad_index, \"kitch_sq\"] = np.NaN\n",
        "bad_index = train[(train.full_sq > 210) & (train.life_sq / train.full_sq < 0.3)].index\n",
        "train.ix[bad_index, \"full_sq\"] = np.NaN\n",
        "bad_index = test[(test.full_sq > 150) & (test.life_sq / test.full_sq < 0.3)].index\n",
        "test.ix[bad_index, \"full_sq\"] = np.NaN\n",
        "bad_index = train[train.life_sq > 300].index\n",
        "train.ix[bad_index, [\"life_sq\", \"full_sq\"]] = np.NaN\n",
        "bad_index = test[test.life_sq > 200].index\n",
        "test.ix[bad_index, [\"life_sq\", \"full_sq\"]] = np.NaN\n",
        "train.product_type.value_counts(normalize= True)\n",
        "test.product_type.value_counts(normalize= True)\n",
        "bad_index = train[train.build_year < 1500].index\n",
        "train.ix[bad_index, \"build_year\"] = np.NaN\n",
        "bad_index = test[test.build_year < 1500].index\n",
        "test.ix[bad_index, \"build_year\"] = np.NaN\n",
        "bad_index = train[train.num_room == 0].index \n",
        "train.ix[bad_index, \"num_room\"] = np.NaN\n",
        "bad_index = test[test.num_room == 0].index \n",
        "test.ix[bad_index, \"num_room\"] = np.NaN\n",
        "bad_index = [10076, 11621, 17764, 19390, 24007, 26713, 29172]\n",
        "train.ix[bad_index, \"num_room\"] = np.NaN\n",
        "bad_index = [3174, 7313]\n",
        "test.ix[bad_index, \"num_room\"] = np.NaN\n",
        "bad_index = train[(train.floor == 0).values * (train.max_floor == 0).values].index\n",
        "train.ix[bad_index, [\"max_floor\", \"floor\"]] = np.NaN\n",
        "bad_index = train[train.floor == 0].index\n",
        "train.ix[bad_index, \"floor\"] = np.NaN\n",
        "bad_index = train[train.max_floor == 0].index\n",
        "train.ix[bad_index, \"max_floor\"] = np.NaN\n",
        "bad_index = test[test.max_floor == 0].index\n",
        "test.ix[bad_index, \"max_floor\"] = np.NaN\n",
        "bad_index = train[train.floor > train.max_floor].index\n",
        "train.ix[bad_index, \"max_floor\"] = np.NaN\n",
        "bad_index = test[test.floor > test.max_floor].index\n",
        "test.ix[bad_index, \"max_floor\"] = np.NaN\n",
        "train.floor.describe(percentiles= [0.9999])\n",
        "bad_index = [23584]\n",
        "train.ix[bad_index, \"floor\"] = np.NaN\n",
        "train.material.value_counts()\n",
        "test.material.value_counts()\n",
        "train.state.value_counts()\n",
        "bad_index = train[train.state == 33].index\n",
        "train.ix[bad_index, \"state\"] = np.NaN\n",
        "test.state.value_counts()\n",
        "\n",
        "# brings error down a lot by removing extreme price per sqm\n",
        "train.loc[train.full_sq == 0, 'full_sq'] = 50\n",
        "train = train[train.price_doc/train.full_sq <= 600000]\n",
        "train = train[train.price_doc/train.full_sq >= 10000]\n",
        "\n",
        "# Add month-year\n",
        "month_year = (train.timestamp.dt.month + train.timestamp.dt.year * 100)\n",
        "month_year_cnt_map = month_year.value_counts().to_dict()\n",
        "train['month_year_cnt'] = month_year.map(month_year_cnt_map)\n",
        "\n",
        "month_year = (test.timestamp.dt.month + test.timestamp.dt.year * 100)\n",
        "month_year_cnt_map = month_year.value_counts().to_dict()\n",
        "test['month_year_cnt'] = month_year.map(month_year_cnt_map)\n",
        "\n",
        "# Add week-year count\n",
        "week_year = (train.timestamp.dt.weekofyear + train.timestamp.dt.year * 100)\n",
        "week_year_cnt_map = week_year.value_counts().to_dict()\n",
        "train['week_year_cnt'] = week_year.map(week_year_cnt_map)\n",
        "\n",
        "week_year = (test.timestamp.dt.weekofyear + test.timestamp.dt.year * 100)\n",
        "week_year_cnt_map = week_year.value_counts().to_dict()\n",
        "test['week_year_cnt'] = week_year.map(week_year_cnt_map)\n",
        "\n",
        "# Add month and day-of-week\n",
        "train['month'] = train.timestamp.dt.month\n",
        "train['dow'] = train.timestamp.dt.dayofweek\n",
        "\n",
        "test['month'] = test.timestamp.dt.month\n",
        "test['dow'] = test.timestamp.dt.dayofweek\n",
        "\n",
        "# Other feature engineering\n",
        "train['rel_floor'] = train['floor'] / train['max_floor'].astype(float)\n",
        "train['rel_kitch_sq'] = train['kitch_sq'] / train['full_sq'].astype(float)\n",
        "\n",
        "test['rel_floor'] = test['floor'] / test['max_floor'].astype(float)\n",
        "test['rel_kitch_sq'] = test['kitch_sq'] / test['full_sq'].astype(float)\n",
        "\n",
        "train.apartment_name=train.sub_area + train['metro_km_avto'].astype(str)\n",
        "test.apartment_name=test.sub_area + train['metro_km_avto'].astype(str)\n",
        "\n",
        "train['room_size'] = train['life_sq'] / train['num_room'].astype(float)\n",
        "test['room_size'] = test['life_sq'] / test['num_room'].astype(float)\n",
        "\n",
        "y_train = train[\"price_doc\"]\n",
        "wts = 1 - .47*(y_train == 1e6)\n",
        "x_train = train.drop([\"id\", \"timestamp\", \"price_doc\"], axis=1)\n",
        "x_test = test.drop([\"id\", \"timestamp\"], axis=1)\n",
        "\n",
        "for c in x_train.columns:\n",
        "    if x_train[c].dtype == 'object':\n",
        "        lbl = preprocessing.LabelEncoder()\n",
        "        lbl.fit(list(x_train[c].values)) \n",
        "        x_train[c] = lbl.transform(list(x_train[c].values))\n",
        "        #x_train.drop(c,axis=1,inplace=True)\n",
        "        \n",
        "for c in x_test.columns:\n",
        "    if x_test[c].dtype == 'object':\n",
        "        lbl = preprocessing.LabelEncoder()\n",
        "        lbl.fit(list(x_test[c].values)) \n",
        "        x_test[c] = lbl.transform(list(x_test[c].values))\n",
        "        #x_test.drop(c,axis=1,inplace=True)  \n",
        "\n",
        "\n",
        "xgb_params = {\n",
        "    'eta': 0.05,\n",
        "    'max_depth': 5,\n",
        "    'subsample': 0.7,\n",
        "    'colsample_bytree': 0.7,\n",
        "    'objective': 'reg:linear',\n",
        "    'eval_metric': 'rmse',\n",
        "    'silent': 1\n",
        "}\n",
        "\n",
        "dtrain = xgb.DMatrix(x_train, y_train, weight=wts)\n",
        "dtest = xgb.DMatrix(x_test)\n",
        "\n",
        "#cv_output = xgb.cv(xgb_params, dtrain, num_boost_round=1000, early_stopping_rounds=20,\n",
        "#    verbose_eval=50, show_stdv=False)\n",
        "#cv_output[['train-rmse-mean', 'test-rmse-mean']].plot()\n",
        "\n",
        "#num_boost_rounds = len(cv_output)\n",
        "model = xgb.train(dict(xgb_params, silent=0), dtrain, num_boost_round=350)\n",
        "\n",
        "#fig, ax = plt.subplots(1, 1, figsize=(8, 13))\n",
        "#xgb.plot_importance(model, max_num_features=50, height=0.5, ax=ax)\n",
        "\n",
        "y_predict = model.predict(dtest)\n",
        "jason_model_raw_output = pd.DataFrame({'id': id_test, 'price_doc': y_predict})\n",
        "jason_model_raw_output.head()"
      ]
    },
    {
      "cell_type": "code",
      "execution_count": null,
      "metadata": {
        "_cell_guid": "017a2a03-1c23-5648-6b74-273210421cc1"
      },
      "outputs": [],
      "source": [
        "np.exp( jason_model_raw_output.price_doc.apply(np.log).mean() )"
      ]
    },
    {
      "cell_type": "code",
      "execution_count": null,
      "metadata": {
        "_cell_guid": "462ad37d-5668-b983-3b78-d9b509cff5ab"
      },
      "outputs": [],
      "source": [
        "# Adjust\n",
        "\n",
        "lnm = np.log(macro_mean)\n",
        "y_predict = shift_logmean_but_keep_scale( y_predict, lnm, micro_humility_factor )\n",
        "\n",
        "jason_model_adjusted_output = pd.DataFrame({'id': id_test, 'price_doc': y_predict})\n",
        "jason_model_adjusted_output.head() "
      ]
    },
    {
      "cell_type": "markdown",
      "metadata": {
        "_cell_guid": "e6a6e979-dad7-3fb4-41d9-bd4da3dbf3c8"
      },
      "source": [
        "## Fit Reynaldo's model and adjust results for macro mean"
      ]
    },
    {
      "cell_type": "code",
      "execution_count": null,
      "metadata": {
        "_cell_guid": "ef1a4a17-c328-b2eb-4861-ccee2e5c1b2d"
      },
      "outputs": [],
      "source": [
        "# Reynaldo\n",
        "\n",
        "\n",
        "train = pd.read_csv('../input/train.csv')\n",
        "test = pd.read_csv('../input/test.csv')\n",
        "id_test = test.id\n",
        "\n",
        "y_train = train[\"price_doc\"]\n",
        "x_train = train.drop([\"id\", \"timestamp\", \"price_doc\"], axis=1)\n",
        "x_test = test.drop([\"id\", \"timestamp\"], axis=1)\n",
        "\n",
        "for c in x_train.columns:\n",
        "    if x_train[c].dtype == 'object':\n",
        "        lbl = preprocessing.LabelEncoder()\n",
        "        lbl.fit(list(x_train[c].values)) \n",
        "        x_train[c] = lbl.transform(list(x_train[c].values))\n",
        "        \n",
        "for c in x_test.columns:\n",
        "    if x_test[c].dtype == 'object':\n",
        "        lbl = preprocessing.LabelEncoder()\n",
        "        lbl.fit(list(x_test[c].values)) \n",
        "        x_test[c] = lbl.transform(list(x_test[c].values))\n",
        "\n",
        "xgb_params = {\n",
        "    'eta': 0.05,\n",
        "    'max_depth': 5,\n",
        "    'subsample': 0.7,\n",
        "    'colsample_bytree': 0.7,\n",
        "    'objective': 'reg:linear',\n",
        "    'eval_metric': 'rmse',\n",
        "    'silent': 1\n",
        "}\n",
        "\n",
        "dtrain = xgb.DMatrix(x_train, y_train)\n",
        "dtest = xgb.DMatrix(x_test)\n",
        "\n",
        "num_boost_rounds = 384  # This was the CV output, as earlier version shows\n",
        "model = xgb.train(dict(xgb_params, silent=0), dtrain, num_boost_round= num_boost_rounds)\n",
        "\n",
        "y_predict = model.predict(dtest)\n",
        "reynaldo_model_raw_output = pd.DataFrame({'id': id_test, 'price_doc': y_predict})\n",
        "reynaldo_model_raw_output.head()"
      ]
    },
    {
      "cell_type": "code",
      "execution_count": null,
      "metadata": {
        "_cell_guid": "55f8e7a7-045a-0568-d46b-3ac3bc043091"
      },
      "outputs": [],
      "source": [
        "np.exp( reynaldo_model_raw_output.price_doc.apply(np.log).mean() )"
      ]
    },
    {
      "cell_type": "code",
      "execution_count": null,
      "metadata": {
        "_cell_guid": "dd856ed6-7aed-3883-b5f5-36248aaf2e5b"
      },
      "outputs": [],
      "source": [
        "# Adjust\n",
        "\n",
        "lnm = np.log(macro_mean)\n",
        "y_predict = shift_logmean_but_keep_scale( y_predict, lnm, micro_humility_factor )\n",
        "\n",
        "reynaldo_model_adjusted_output = pd.DataFrame({'id': id_test, 'price_doc': y_predict})\n",
        "reynaldo_model_adjusted_output.head() "
      ]
    },
    {
      "cell_type": "markdown",
      "metadata": {
        "_cell_guid": "7cc5b5c7-0626-97e2-4164-3e7fe3321da5"
      },
      "source": [
        "## Fit Bruno's model and adjust results for macro mean"
      ]
    },
    {
      "cell_type": "code",
      "execution_count": null,
      "metadata": {
        "_cell_guid": "f3792f8a-3c79-b307-c699-6295e0358443"
      },
      "outputs": [],
      "source": [
        "# Bruno with outlier dropped\n",
        "\n",
        "\n",
        "\n",
        "# Any results you write to the current directory are saved as output.\n",
        "df_train = pd.read_csv(\"../input/train.csv\", parse_dates=['timestamp'])\n",
        "df_test = pd.read_csv(\"../input/test.csv\", parse_dates=['timestamp'])\n",
        "df_macro = pd.read_csv(\"../input/macro.csv\", parse_dates=['timestamp'])\n",
        "\n",
        "df_train.drop(df_train[df_train[\"life_sq\"] > 7000].index, inplace=True)\n",
        "\n",
        "y_train = df_train['price_doc'].values\n",
        "id_test = df_test['id']\n",
        "\n",
        "df_train.drop(['id', 'price_doc'], axis=1, inplace=True)\n",
        "df_test.drop(['id'], axis=1, inplace=True)\n",
        "\n",
        "num_train = len(df_train)\n",
        "df_all = pd.concat([df_train, df_test])\n",
        "# Next line just adds a lot of NA columns (becuase \"join\" only works on indexes)\n",
        "# but somewhow it seems to affect the result\n",
        "df_all = df_all.join(df_macro, on='timestamp', rsuffix='_macro')\n",
        "print(df_all.shape)\n",
        "\n",
        "# Add month-year\n",
        "month_year = (df_all.timestamp.dt.month + df_all.timestamp.dt.year * 100)\n",
        "month_year_cnt_map = month_year.value_counts().to_dict()\n",
        "df_all['month_year_cnt'] = month_year.map(month_year_cnt_map)\n",
        "\n",
        "# Add week-year count\n",
        "week_year = (df_all.timestamp.dt.weekofyear + df_all.timestamp.dt.year * 100)\n",
        "week_year_cnt_map = week_year.value_counts().to_dict()\n",
        "df_all['week_year_cnt'] = week_year.map(week_year_cnt_map)\n",
        "\n",
        "# Add month and day-of-week\n",
        "df_all['month'] = df_all.timestamp.dt.month\n",
        "df_all['dow'] = df_all.timestamp.dt.dayofweek\n",
        "\n",
        "# Other feature engineering\n",
        "df_all['rel_floor'] = df_all['floor'] / df_all['max_floor'].astype(float)\n",
        "df_all['rel_kitch_sq'] = df_all['kitch_sq'] / df_all['full_sq'].astype(float)\n",
        "\n",
        "# Remove timestamp column (may overfit the model in train)\n",
        "df_all.drop(['timestamp', 'timestamp_macro'], axis=1, inplace=True)\n",
        "\n",
        "\n",
        "factorize = lambda t: pd.factorize(t[1])[0]\n",
        "\n",
        "df_obj = df_all.select_dtypes(include=['object'])\n",
        "\n",
        "X_all = np.c_[\n",
        "    df_all.select_dtypes(exclude=['object']).values,\n",
        "    np.array(list(map(factorize, df_obj.iteritems()))).T\n",
        "]\n",
        "print(X_all.shape)\n",
        "\n",
        "X_train = X_all[:num_train]\n",
        "X_test = X_all[num_train:]\n",
        "\n",
        "\n",
        "# Deal with categorical values\n",
        "df_numeric = df_all.select_dtypes(exclude=['object'])\n",
        "df_obj = df_all.select_dtypes(include=['object']).copy()\n",
        "\n",
        "for c in df_obj:\n",
        "    df_obj[c] = pd.factorize(df_obj[c])[0]\n",
        "\n",
        "df_values = pd.concat([df_numeric, df_obj], axis=1)\n",
        "\n",
        "\n",
        "# Convert to numpy values\n",
        "X_all = df_values.values\n",
        "print(X_all.shape)\n",
        "\n",
        "X_train = X_all[:num_train]\n",
        "X_test = X_all[num_train:]\n",
        "\n",
        "df_columns = df_values.columns\n",
        "\n",
        "\n",
        "xgb_params = {\n",
        "    'eta': 0.05,\n",
        "    'max_depth': 5,\n",
        "    'subsample': 0.7,\n",
        "    'colsample_bytree': 0.7,\n",
        "    'objective': 'reg:linear',\n",
        "    'eval_metric': 'rmse',\n",
        "    'silent': 1\n",
        "}\n",
        "\n",
        "dtrain = xgb.DMatrix(X_train, y_train, feature_names=df_columns)\n",
        "dtest = xgb.DMatrix(X_test, feature_names=df_columns)\n",
        "\n",
        "\n",
        "num_boost_round = 489  # From Bruno's original CV, I think\n",
        "model = xgb.train(dict(xgb_params, silent=0), dtrain, num_boost_round=num_boost_round)\n",
        "\n",
        "y_predict = model.predict(dtest)\n",
        "bruno_model_raw_output = pd.DataFrame({'id': id_test, 'price_doc': y_predict})\n",
        "bruno_model_raw_output.head()"
      ]
    },
    {
      "cell_type": "code",
      "execution_count": null,
      "metadata": {
        "_cell_guid": "35c8fbfb-4f6d-cd98-5cc0-cf44a97cc14a"
      },
      "outputs": [],
      "source": [
        "np.exp( bruno_model_raw_output.price_doc.apply(np.log).mean() )"
      ]
    },
    {
      "cell_type": "code",
      "execution_count": null,
      "metadata": {
        "_cell_guid": "4a4dd56a-d08d-be8e-e919-651095e65737"
      },
      "outputs": [],
      "source": [
        "# Adjust\n",
        "\n",
        "lnm = np.log(macro_mean)\n",
        "y_predict = shift_logmean_but_keep_scale( y_predict, lnm, micro_humility_factor )\n",
        "\n",
        "bruno_model_adjusted_output = pd.DataFrame({'id': id_test, 'price_doc': y_predict})\n",
        "bruno_model_adjusted_output.head() "
      ]
    },
    {
      "cell_type": "markdown",
      "metadata": {
        "_cell_guid": "4c2eefab-fa97-a1d4-1b9e-574522f3e3c7"
      },
      "source": [
        "## Merge the adjusted results"
      ]
    },
    {
      "cell_type": "code",
      "execution_count": null,
      "metadata": {
        "_cell_guid": "41c97a7b-f063-7501-039b-7d1d681821a5"
      },
      "outputs": [],
      "source": [
        "# Merge\n",
        "\n",
        "results = reynaldo_model_adjusted_output.merge( \n",
        "             jason_model_adjusted_output.merge(\n",
        "                bruno_model_adjusted_output, on='id', suffixes=['_jason','_bruno'] ), on='id' )\n",
        "results[\"price_doc_reynaldo\"] = results[\"price_doc\"]\n",
        "results[\"price_doc\"] = np.exp( np.log(results.price_doc_reynaldo)*reynaldo_weight +\n",
        "                               np.log(results.price_doc_jason)*jason_weight       +\n",
        "                               np.log(results.price_doc_bruno)*bruno_weight          )\n",
        "\n",
        "results.drop([\"price_doc_reynaldo\", \"price_doc_bruno\", \"price_doc_jason\"],axis=1,inplace=True)\n",
        "results.head()"
      ]
    },
    {
      "cell_type": "code",
      "execution_count": null,
      "metadata": {
        "_cell_guid": "692204b8-f18b-7d7e-1028-0f3db8b52598"
      },
      "outputs": [],
      "source": [
        "results.to_csv('sub.csv', index=False)"
      ]
    },
    {
      "cell_type": "code",
      "execution_count": null,
      "metadata": {
        "_cell_guid": "ed7e0629-2c46-2225-66c4-57e5cf08c97b"
      },
      "outputs": [],
      "source": [
        ""
      ]
    }
  ],
  "metadata": {
    "_change_revision": 0,
    "_is_fork": false,
    "kernelspec": {
      "display_name": "Python 3",
      "language": "python",
      "name": "python3"
    },
    "language_info": {
      "codemirror_mode": {
        "name": "ipython",
        "version": 3
      },
      "file_extension": ".py",
      "mimetype": "text/x-python",
      "name": "python",
      "nbconvert_exporter": "python",
      "pygments_lexer": "ipython3",
      "version": "3.6.0"
    }
  },
  "nbformat": 4,
  "nbformat_minor": 0
}