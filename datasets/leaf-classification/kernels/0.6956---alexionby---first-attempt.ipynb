{
  "cells": [
    {
      "cell_type": "code",
      "execution_count": null,
      "metadata": {
        "_cell_guid": "209d58d0-be64-4c9d-ceb2-6ee1b5145380"
      },
      "outputs": [],
      "source": [
        "# This Python 3 environment comes with many helpful analytics libraries installed\n",
        "# It is defined by the kaggle/python docker image: https://github.com/kaggle/docker-python\n",
        "# For example, here's several helpful packages to load in \n",
        "\n",
        "import numpy as np # linear algebra\n",
        "import pandas as pd # data processing, CSV file I/O (e.g. pd.read_csv)\n",
        "\n",
        "# Input data files are available in the \"../input/\" directory.\n",
        "# For example, running this (by clicking run or pressing Shift+Enter) will list the files in the input directory\n",
        "\n",
        "from subprocess import check_output\n",
        "print(check_output([\"ls\", \"../input\"]).decode(\"utf8\"))\n",
        "\n",
        "# Any results you write to the current directory are saved as output."
      ]
    },
    {
      "cell_type": "code",
      "execution_count": null,
      "metadata": {
        "_cell_guid": "eb935dae-2f43-c90e-eafe-1e00fc58d245"
      },
      "outputs": [],
      "source": [
        "data = pd.read_csv(\"../input/train.csv\")"
      ]
    },
    {
      "cell_type": "code",
      "execution_count": null,
      "metadata": {
        "_cell_guid": "3b5869c1-97c0-24ad-faca-9c6aaba48170"
      },
      "outputs": [],
      "source": [
        "data['species'].describe()"
      ]
    },
    {
      "cell_type": "code",
      "execution_count": null,
      "metadata": {
        "_cell_guid": "5ad77f49-0e02-9558-bf1a-28ddcc535ded"
      },
      "outputs": [],
      "source": [
        "data.columns"
      ]
    },
    {
      "cell_type": "code",
      "execution_count": null,
      "metadata": {
        "_cell_guid": "424824fd-1fb6-0986-c161-ba724ffc4b77"
      },
      "outputs": [],
      "source": [
        "labels = data['species'].unique()\n",
        "labels.sort()\n",
        "labels"
      ]
    },
    {
      "cell_type": "code",
      "execution_count": null,
      "metadata": {
        "_cell_guid": "315e4402-31da-f966-71d9-c6d41c0b348a"
      },
      "outputs": [],
      "source": [
        "for d in data.columns[2:]:\n",
        "    data[d] = (data[d] - data[d].mean()) / data[d].std()"
      ]
    },
    {
      "cell_type": "code",
      "execution_count": null,
      "metadata": {
        "_cell_guid": "fbabae4a-f0f4-4461-21e2-34238bbf3d61"
      },
      "outputs": [],
      "source": [
        "data = data.drop('id', axis=1)\n",
        "data"
      ]
    },
    {
      "cell_type": "code",
      "execution_count": null,
      "metadata": {
        "_cell_guid": "0c54aea3-d06f-127a-b4b7-478dbc70a548"
      },
      "outputs": [],
      "source": [
        "temp = np.zeros(len(data['species']))\n",
        "for i in range(len(data['species'])):\n",
        "    temp[i] = np.where(labels == data['species'][i])[0]\n",
        "\n",
        "temp"
      ]
    },
    {
      "cell_type": "code",
      "execution_count": null,
      "metadata": {
        "_cell_guid": "15a186bc-bc3f-0d97-559b-c1fd74bb469e"
      },
      "outputs": [],
      "source": [
        "data['species'] = temp\n",
        "data['species']"
      ]
    },
    {
      "cell_type": "code",
      "execution_count": null,
      "metadata": {
        "_cell_guid": "1ae32255-41bd-f642-6bed-dc8539954d85"
      },
      "outputs": [],
      "source": [
        "data['species'] = data['species'].astype(int)\n",
        "data['species']"
      ]
    },
    {
      "cell_type": "code",
      "execution_count": null,
      "metadata": {
        "_cell_guid": "f115584b-7e86-bf87-1cdf-8cd98abbe7bb"
      },
      "outputs": [],
      "source": [
        "X = data.drop((['species','margin8', 'margin16', 'margin34', 'margin61']), axis=1)\n",
        "Y = data['species']\n",
        "feature_names = X.columns"
      ]
    },
    {
      "cell_type": "code",
      "execution_count": null,
      "metadata": {
        "_cell_guid": "256ff3e3-4b9f-debe-3a81-77e8b836cb8b"
      },
      "outputs": [],
      "source": [
        "feature_names"
      ]
    },
    {
      "cell_type": "code",
      "execution_count": null,
      "metadata": {
        "_cell_guid": "52cf05b6-3aa1-b608-c4b8-fb6c18b53d6b"
      },
      "outputs": [],
      "source": [
        "from sklearn.cross_validation import train_test_split"
      ]
    },
    {
      "cell_type": "code",
      "execution_count": null,
      "metadata": {
        "_cell_guid": "271542d0-7b16-f06c-5c91-0505dc424e2f"
      },
      "outputs": [],
      "source": [
        "from sklearn import ensemble\n",
        "rf = ensemble.RandomForestClassifier(n_estimators=1000, random_state=11)\n",
        "rf.fit(X, Y)"
      ]
    },
    {
      "cell_type": "code",
      "execution_count": null,
      "metadata": {
        "_cell_guid": "4b87a003-5975-afb1-724c-65b1044cfbd6"
      },
      "outputs": [],
      "source": [
        "err_train = np.mean(Y != rf.predict(X))\n",
        "print(err_train)"
      ]
    },
    {
      "cell_type": "code",
      "execution_count": null,
      "metadata": {
        "_cell_guid": "9bc75146-24c7-2e67-5147-51d0b2b694f5"
      },
      "outputs": [],
      "source": [
        "a = X[:1]\n",
        "print(rf.predict_proba(a))"
      ]
    },
    {
      "cell_type": "code",
      "execution_count": null,
      "metadata": {
        "_cell_guid": "51d131e4-19fa-3e49-9330-2303cf1af804"
      },
      "outputs": [],
      "source": [
        "test = pd.read_csv(\"../input/test.csv\")\n",
        "id_col = test['id']\n",
        "test = test.drop(['id','margin8', 'margin16', 'margin34', 'margin61'], axis=1)"
      ]
    },
    {
      "cell_type": "code",
      "execution_count": null,
      "metadata": {
        "_cell_guid": "77050c20-63b3-d3ec-0278-c8b4039cd5b7"
      },
      "outputs": [],
      "source": [
        "for t in test.columns:\n",
        "    test[t] = (test[t] - test[t].mean()) / test[t].std()"
      ]
    },
    {
      "cell_type": "code",
      "execution_count": null,
      "metadata": {
        "_cell_guid": "94eb8abb-a6cb-9f8f-c629-64dc99a8374a"
      },
      "outputs": [],
      "source": [
        "test.head()"
      ]
    },
    {
      "cell_type": "code",
      "execution_count": null,
      "metadata": {
        "_cell_guid": "f247ea01-ee80-8f06-bd2d-03f2e0c27fb0"
      },
      "outputs": [],
      "source": [
        "corr_df = test.corr() > 0.7\n",
        "corr_df"
      ]
    },
    {
      "cell_type": "code",
      "execution_count": null,
      "metadata": {
        "_cell_guid": "1d1512f7-3d1b-48fa-d91d-c3ca99072809"
      },
      "outputs": [],
      "source": [
        "np_corr = corr_df.as_matrix()\n",
        "np.fill_diagonal(np_corr,False)"
      ]
    },
    {
      "cell_type": "code",
      "execution_count": null,
      "metadata": {
        "_cell_guid": "68d95465-6869-0962-d38b-7b6578227f3c"
      },
      "outputs": [],
      "source": [
        "k = np.where(np_corr == True)\n",
        "k = np.vstack(k)\n",
        "k = np.stack((k[0],k[1]), axis = -1)\n",
        "k[20:50]"
      ]
    },
    {
      "cell_type": "code",
      "execution_count": null,
      "metadata": {
        "_cell_guid": "22746a6f-81eb-87b7-a631-f9ab32eae83b"
      },
      "outputs": [],
      "source": [
        "err_test = rf.predict_proba(test)"
      ]
    },
    {
      "cell_type": "code",
      "execution_count": null,
      "metadata": {
        "_cell_guid": "c9c5a8cd-d794-ede9-65a6-dfa517adf412"
      },
      "outputs": [],
      "source": [
        "temp = np.zeros(err_test.shape[0])\n",
        "temp.shape"
      ]
    },
    {
      "cell_type": "code",
      "execution_count": null,
      "metadata": {
        "_cell_guid": "b7e3eb87-d1a9-7aea-14ff-89e300fab7ff"
      },
      "outputs": [],
      "source": [
        "result = pd.DataFrame(err_test, columns=labels)\n",
        "result = pd.concat((id_col,result), axis=1)\n",
        "result"
      ]
    },
    {
      "cell_type": "code",
      "execution_count": null,
      "metadata": {
        "_cell_guid": "986e89dc-2f5d-b91e-e670-cfa54c595881"
      },
      "outputs": [],
      "source": [
        "result.to_csv('result.csv', index=False)"
      ]
    },
    {
      "cell_type": "code",
      "execution_count": null,
      "metadata": {
        "_cell_guid": "bd654dc9-2924-98b0-98ef-e6970f43d91b"
      },
      "outputs": [],
      "source": [
        "important = rf.feature_importances_\n",
        "#important.sort()"
      ]
    },
    {
      "cell_type": "code",
      "execution_count": null,
      "metadata": {
        "_cell_guid": "fcd70031-a7d6-8589-3dca-6c12b5d37161"
      },
      "outputs": [],
      "source": [
        "for i in zip(test.columns, important):\n",
        "    if i[1] < 0.002 :\n",
        "        print(i)"
      ]
    }
  ],
  "metadata": {
    "_change_revision": 0,
    "_is_fork": false,
    "kernelspec": {
      "display_name": "Python 3",
      "language": "python",
      "name": "python3"
    },
    "language_info": {
      "codemirror_mode": {
        "name": "ipython",
        "version": 3
      },
      "file_extension": ".py",
      "mimetype": "text/x-python",
      "name": "python",
      "nbconvert_exporter": "python",
      "pygments_lexer": "ipython3",
      "version": "3.5.2"
    }
  },
  "nbformat": 4,
  "nbformat_minor": 0
}