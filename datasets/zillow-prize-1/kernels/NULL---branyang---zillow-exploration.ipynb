{
  "cells": [
    {
      "cell_type": "code",
      "execution_count": null,
      "metadata": {
        "_cell_guid": "b43d38b0-6c86-a543-7bf9-11e4d57331ed"
      },
      "outputs": [],
      "source": [
        "\n",
        "import numpy as np # linear algebra\n",
        "import pandas as pd # data processing, CSV file I/O (e.g. pd.read_csv)\n",
        "\n",
        "from subprocess import check_output\n",
        "print(check_output([\"ls\", \"../input\"]).decode(\"utf8\"))"
      ]
    },
    {
      "cell_type": "code",
      "execution_count": null,
      "metadata": {
        "_cell_guid": "4b415b81-26f0-09f7-3b33-226c6dfec522"
      },
      "outputs": [],
      "source": [
        "prop = pd.read_csv('../input/properties_2016.csv',\n",
        "                   dtype={'hashottuborspa': bool,\n",
        "                          'propertycountylandusecode': str,\n",
        "                          'propertyzoningdesc': str,\n",
        "                          'fireplaceflag': bool,\n",
        "                          'taxdelinquencyflag': bool\n",
        "                   },\n",
        "                   true_values=['True', 'Y'])"
      ]
    },
    {
      "cell_type": "code",
      "execution_count": null,
      "metadata": {
        "_cell_guid": "9ea256f6-d37b-d4dc-ff5d-d8ea9939ff85"
      },
      "outputs": [],
      "source": [
        "prop.describe()"
      ]
    },
    {
      "cell_type": "code",
      "execution_count": null,
      "metadata": {
        "_cell_guid": "edb300cd-55bd-4a49-3aa1-2ba39c0ab18b"
      },
      "outputs": [],
      "source": [
        "expl = pd.read_excel('../input/zillow_data_dictionary.xlsx')\n",
        "print(expl)"
      ]
    },
    {
      "cell_type": "code",
      "execution_count": null,
      "metadata": {
        "_cell_guid": "0c5e28e9-4f53-77fa-fd59-c61c3cf2a4c4"
      },
      "outputs": [],
      "source": [
        "prop[['hashottuborspa', 'fireplaceflag', 'taxdelinquencyflag']].describe()"
      ]
    },
    {
      "cell_type": "code",
      "execution_count": null,
      "metadata": {
        "_cell_guid": "d1160361-5e24-7bc7-23f0-9402ad9148cc"
      },
      "outputs": [],
      "source": [
        "prop.columns[[32,34]]"
      ]
    },
    {
      "cell_type": "code",
      "execution_count": null,
      "metadata": {
        "_cell_guid": "e966f453-0a09-e887-7417-54aac26d2c24"
      },
      "outputs": [],
      "source": [
        ""
      ]
    }
  ],
  "metadata": {
    "_change_revision": 0,
    "_is_fork": false,
    "kernelspec": {
      "display_name": "Python 3",
      "language": "python",
      "name": "python3"
    },
    "language_info": {
      "codemirror_mode": {
        "name": "ipython",
        "version": 3
      },
      "file_extension": ".py",
      "mimetype": "text/x-python",
      "name": "python",
      "nbconvert_exporter": "python",
      "pygments_lexer": "ipython3",
      "version": "3.6.0"
    }
  },
  "nbformat": 4,
  "nbformat_minor": 0
}