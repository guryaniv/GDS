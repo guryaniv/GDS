{
  "cells": [
    {
      "cell_type": "code",
      "execution_count": null,
      "metadata": {
        "_cell_guid": "861a1cec-3b3b-1f8b-e68e-37ac7e9f78e9"
      },
      "outputs": [],
      "source": [
        "import pandas as pd\n",
        "import numpy as np\n",
        "import matplotlib.pyplot as plt\n",
        "import seaborn as sns\n",
        "%matplotlib inline"
      ]
    },
    {
      "cell_type": "code",
      "execution_count": null,
      "metadata": {
        "_cell_guid": "5c6ea0c6-cf52-8197-e4c5-64d35d7f86d3"
      },
      "outputs": [],
      "source": [
        "properties = pd.read_csv('../input/properties_2016.csv')\n",
        "train = pd.read_csv('../input/train_2016.csv')"
      ]
    },
    {
      "cell_type": "code",
      "execution_count": null,
      "metadata": {
        "_cell_guid": "93b38d18-559f-52e5-1426-b71201b8492d"
      },
      "outputs": [],
      "source": [
        "properties.head()"
      ]
    },
    {
      "cell_type": "code",
      "execution_count": null,
      "metadata": {
        "_cell_guid": "3af8fcd8-fa37-9a6e-34d4-ce77b6ed5266"
      },
      "outputs": [],
      "source": [
        "train.head()"
      ]
    },
    {
      "cell_type": "code",
      "execution_count": null,
      "metadata": {
        "_cell_guid": "595d74f2-825c-609d-c9df-ef669a96772c"
      },
      "outputs": [],
      "source": [
        "properties.describe()"
      ]
    },
    {
      "cell_type": "code",
      "execution_count": null,
      "metadata": {
        "_cell_guid": "a456410a-21b0-6f33-9c93-efaea93e993e"
      },
      "outputs": [],
      "source": [
        "train.head()"
      ]
    },
    {
      "cell_type": "code",
      "execution_count": null,
      "metadata": {
        "_cell_guid": "1dd907ca-81c2-ca41-16c9-686d01c19b82"
      },
      "outputs": [],
      "source": [
        "print(train.size)\n",
        "print(len(train['parcelid'].unique()))\n",
        "print(len(train['transactiondate'].unique()))"
      ]
    },
    {
      "cell_type": "code",
      "execution_count": null,
      "metadata": {
        "_cell_guid": "fff01bdc-7d93-5da3-70f7-b4495e36d33c"
      },
      "outputs": [],
      "source": [
        "train['transactiondate'].unique()"
      ]
    },
    {
      "cell_type": "code",
      "execution_count": null,
      "metadata": {
        "_cell_guid": "c601de1a-82f2-cfa7-c4c1-60dc65b2b551"
      },
      "outputs": [],
      "source": [
        "train['parcelid'].value_counts()"
      ]
    },
    {
      "cell_type": "code",
      "execution_count": null,
      "metadata": {
        "_cell_guid": "1b3d13fe-32df-6461-7723-a8c291584169"
      },
      "outputs": [],
      "source": [
        "train['transactiondate'] = train['transactiondate'].apply(lambda x: x[0:4]+x[5:7])"
      ]
    },
    {
      "cell_type": "code",
      "execution_count": null,
      "metadata": {
        "_cell_guid": "cd720c11-6481-625b-6663-48385639eb84"
      },
      "outputs": [],
      "source": ""
    }
  ],
  "metadata": {
    "_change_revision": 0,
    "_is_fork": false,
    "kernelspec": {
      "display_name": "Python 3",
      "language": "python",
      "name": "python3"
    },
    "language_info": {
      "codemirror_mode": {
        "name": "ipython",
        "version": 3
      },
      "file_extension": ".py",
      "mimetype": "text/x-python",
      "name": "python",
      "nbconvert_exporter": "python",
      "pygments_lexer": "ipython3",
      "version": "3.6.0"
    }
  },
  "nbformat": 4,
  "nbformat_minor": 0
}