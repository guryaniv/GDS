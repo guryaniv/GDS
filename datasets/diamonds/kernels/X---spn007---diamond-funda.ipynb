{
  "cells": [
    {
      "cell_type": "markdown",
      "metadata": {
        "_cell_guid": "be631f69-641e-e249-80d1-649218569712"
      },
      "source": [
        "This notebook is prepared for beginners.\n",
        "OBJECTIVE:\n",
        "1. Demonstration of basic data manipulation concepts.\n",
        "2. Visualization using Seaborn and pyplot library\n",
        "3. Applying machine learning concepts.\n",
        "      The dataset will be divided into 2 parts Train and Test .\n",
        "      Train set will have the first 40000 rows of the given dataset and test will have the rest.\n",
        "      We will design a model to predict the price of the diamond.\n",
        "      Finally, we will apply the model into the test set and check the accuracy."
      ]
    },
    {
      "cell_type": "code",
      "execution_count": null,
      "metadata": {
        "_cell_guid": "c1993f04-a1aa-5fd8-f2df-40a7097f2d40"
      },
      "outputs": [],
      "source": [
        "    import pandas as pd\n",
        "    import numpy as np\n",
        "    import random as rnd\n",
        "\n",
        "    # visualization\n",
        "    import seaborn as sns\n",
        "    import matplotlib.pyplot as plt\n",
        "    %matplotlib inline\n",
        "\n",
        "    # machine learning\n",
        "    from sklearn.linear_model import LogisticRegression\n",
        "    from sklearn.svm import SVC, LinearSVC\n",
        "    from sklearn.ensemble import RandomForestClassifier\n",
        "    from sklearn.neighbors import KNeighborsClassifier\n",
        "    from sklearn.naive_bayes import GaussianNB\n",
        "    from sklearn.linear_model import Perceptron\n",
        "    from sklearn.linear_model import SGDClassifier\n",
        "    from sklearn.tree import DecisionTreeClassifier"
      ]
    },
    {
      "cell_type": "code",
      "execution_count": null,
      "metadata": {
        "_cell_guid": "68991633-5293-d4e0-e4b0-278cda9d7dea"
      },
      "outputs": [],
      "source": [
        "df=pd.read_csv('../input/diamonds.csv')\n",
        "df.head()"
      ]
    },
    {
      "cell_type": "markdown",
      "metadata": {
        "_cell_guid": "be3d747c-35c2-3267-9038-49cddb856edb"
      },
      "source": [
        "Renaming the first column to give it a meaningful name."
      ]
    },
    {
      "cell_type": "code",
      "execution_count": null,
      "metadata": {
        "_cell_guid": "0ddeffb7-b52a-c244-6882-4752b2bf79c7"
      },
      "outputs": [],
      "source": [
        "df=df.rename(columns = {'Unnamed: 0':'serial'})"
      ]
    },
    {
      "cell_type": "markdown",
      "metadata": {
        "_cell_guid": "2d584abd-10a6-13a9-4501-1c1f8e94cd98"
      },
      "source": [
        "Converting the carat value to milligrams so that we will have integer values which will be useful for analysis. Each carat weighs 200 milligrams."
      ]
    },
    {
      "cell_type": "code",
      "execution_count": null,
      "metadata": {
        "_cell_guid": "151f99d7-1a5a-2e31-0c6c-45201d7af564"
      },
      "outputs": [],
      "source": [
        "df.carat=df.carat*200\n",
        "df.carat=df.carat.astype(int)"
      ]
    },
    {
      "cell_type": "markdown",
      "metadata": {
        "_cell_guid": "9b2ba6d5-0739-1d85-a07e-82a1e861a1b6"
      },
      "source": [
        "Giving quantitative values to color ,clarity and cut features of the dataset where 1 signifies the worst value and as the value increments it gets better. "
      ]
    },
    {
      "cell_type": "code",
      "execution_count": null,
      "metadata": {
        "_cell_guid": "81d1ce43-b014-d835-5c4b-b77dea5c4a37"
      },
      "outputs": [],
      "source": [
        "df.loc[df.color=='J','color']=1\n",
        "df.loc[df.color=='I','color']=2\n",
        "df.loc[df.color=='H','color']=3\n",
        "df.loc[df.color=='G','color']=4\n",
        "df.loc[df.color=='F','color']=5\n",
        "df.loc[df.color=='E','color']=6\n",
        "df.loc[df.color=='D','color']=7"
      ]
    },
    {
      "cell_type": "code",
      "execution_count": null,
      "metadata": {
        "_cell_guid": "3e6d1dbc-3832-d9d6-5708-f29fdfaf3430"
      },
      "outputs": [],
      "source": [
        "df.loc[df.clarity=='I1','clarity']=1\n",
        "df.loc[df.clarity=='SI2','clarity']=2\n",
        "df.loc[df.clarity=='SI1','clarity']=3\n",
        "df.loc[df.clarity=='VS2','clarity']=4\n",
        "df.loc[df.clarity=='VS1','clarity']=5\n",
        "df.loc[df.clarity=='VVS2','clarity']=6\n",
        "df.loc[df.clarity=='VVS1','clarity']=7\n",
        "df.loc[df.clarity=='IF','clarity']=8"
      ]
    },
    {
      "cell_type": "code",
      "execution_count": null,
      "metadata": {
        "_cell_guid": "92192fd2-a46d-72ce-fc94-4591f4973a71"
      },
      "outputs": [],
      "source": [
        "df.loc[df.cut=='Fair','cut']=1\n",
        "df.loc[df.cut=='Good','cut']=2\n",
        "df.loc[df.cut=='Very Good','cut']=3\n",
        "df.loc[df.cut=='Premium','cut']=4\n",
        "df.loc[df.cut=='Ideal','cut']=5"
      ]
    },
    {
      "cell_type": "markdown",
      "metadata": {
        "_cell_guid": "c259efc8-f710-34dc-8b52-b1645ab06c2d"
      },
      "source": [
        "we can see all the features converted to numerical values. It will be very much useful for model fitting."
      ]
    },
    {
      "cell_type": "code",
      "execution_count": null,
      "metadata": {
        "_cell_guid": "9b846dc9-ef16-fcf3-781c-b91b7a6c55d6"
      },
      "outputs": [],
      "source": [
        "df.head()"
      ]
    },
    {
      "cell_type": "markdown",
      "metadata": {
        "_cell_guid": "1b265e4c-5e51-5727-06b1-f6f3ec421cb5"
      },
      "source": [
        "A graph displaying how the cut quality affects the price of the diamond."
      ]
    },
    {
      "cell_type": "code",
      "execution_count": null,
      "metadata": {
        "_cell_guid": "925bf8a4-09a6-0978-c38f-d47835a431a2"
      },
      "outputs": [],
      "source": [
        "g = sns.barplot(x=df.cut,y=df.price)"
      ]
    },
    {
      "cell_type": "markdown",
      "metadata": {
        "_cell_guid": "eb408f9e-8c41-27cb-da4d-4e965f4dc2d5"
      },
      "source": [
        "Graph showing effect of color on price."
      ]
    },
    {
      "cell_type": "code",
      "execution_count": null,
      "metadata": {
        "_cell_guid": "9f775b57-ce37-827f-f85b-1e59d0d5a369"
      },
      "outputs": [],
      "source": [
        "g = sns.barplot(x=df.color,y=df.price)"
      ]
    },
    {
      "cell_type": "markdown",
      "metadata": {
        "_cell_guid": "82a9cb28-a726-1bd0-5fae-4b1031b27598"
      },
      "source": [
        "cut quality +  carat   ~   price graph   (for a reference)100 values"
      ]
    },
    {
      "cell_type": "code",
      "execution_count": null,
      "metadata": {
        "_cell_guid": "29a7387a-57c2-526b-5d40-841783c6aa93"
      },
      "outputs": [],
      "source": [
        "sns.pairplot(df.head(n=100),vars=[\"cut\",\"carat\"],hue='price')"
      ]
    },
    {
      "cell_type": "code",
      "execution_count": null,
      "metadata": {
        "_cell_guid": "40c84946-c398-9d1e-bfd1-ebc3120b65b5"
      },
      "outputs": [],
      "source": [
        "x = sns.stripplot(x=\"cut\", y=\"price\", data=df,jitter=0.05)"
      ]
    },
    {
      "cell_type": "markdown",
      "metadata": {
        "_cell_guid": "087b2323-f64e-8fce-1ec9-e7e688759f34"
      },
      "source": [
        "Dividing the original dataset to train and test dataset for ML."
      ]
    },
    {
      "cell_type": "code",
      "execution_count": null,
      "metadata": {
        "_cell_guid": "4f6fb84d-346c-6e17-c4b5-b48fff8cf0e4"
      },
      "outputs": [],
      "source": [
        "train=df[:40000]\n",
        "test=df[40001:]"
      ]
    },
    {
      "cell_type": "code",
      "execution_count": null,
      "metadata": {
        "_cell_guid": "6270726e-20c2-e80c-5b3a-6b4c67ae4edc"
      },
      "outputs": [],
      "source": [
        "print(train.info())\n",
        "print('----------')\n",
        "print(test.info())"
      ]
    },
    {
      "cell_type": "code",
      "execution_count": null,
      "metadata": {
        "_cell_guid": "301d3604-aea0-1ae2-baba-c4d0ae5ec65c"
      },
      "outputs": [],
      "source": [
        ""
      ]
    }
  ],
  "metadata": {
    "_change_revision": 0,
    "_is_fork": false,
    "kernelspec": {
      "display_name": "Python 3",
      "language": "python",
      "name": "python3"
    },
    "language_info": {
      "codemirror_mode": {
        "name": "ipython",
        "version": 3
      },
      "file_extension": ".py",
      "mimetype": "text/x-python",
      "name": "python",
      "nbconvert_exporter": "python",
      "pygments_lexer": "ipython3",
      "version": "3.6.0"
    }
  },
  "nbformat": 4,
  "nbformat_minor": 0
}