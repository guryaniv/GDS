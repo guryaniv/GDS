{
  "cells": [
    {
      "cell_type": "markdown",
      "metadata": {
        "_cell_guid": "dd2becf7-3832-575a-e9ee-aacc68a557d6"
      },
      "source": [
        "As there are only 4200-ish samples and 350-ish features, I strongly believe this can hit the Curse of Dimensionality. I therefore think a dimensionality reduction is good for this dataset. Let's investigate some methods."
      ]
    },
    {
      "cell_type": "code",
      "execution_count": null,
      "metadata": {
        "_cell_guid": "575cd84d-0d96-28f4-78af-bcbcb4ece4b6"
      },
      "outputs": [],
      "source": [
        "# Import the important libraries\n",
        "import pandas as pd\n",
        "import numpy as np\n",
        "import matplotlib.pyplot as plt\n",
        "%matplotlib inline\n",
        "import seaborn as sns"
      ]
    },
    {
      "cell_type": "code",
      "execution_count": null,
      "metadata": {
        "_cell_guid": "fb6798fd-ff0d-75d4-bc66-8af714bf60c0"
      },
      "outputs": [],
      "source": [
        "# Read the data\n",
        "df = pd.read_csv(\"../input/train.csv\").set_index(\"ID\")"
      ]
    },
    {
      "cell_type": "markdown",
      "metadata": {
        "_cell_guid": "827e5b16-6a13-0167-cc7a-677475625c36"
      },
      "source": [
        "There are some features that are constants. Let's identify them by looking at the standard deviation (check id std ==0.0) and then drop those features."
      ]
    },
    {
      "cell_type": "code",
      "execution_count": null,
      "metadata": {
        "_cell_guid": "aaf3ab5e-c9a1-7bf7-5a03-40dcbdf71574"
      },
      "outputs": [],
      "source": [
        "desc = df.describe().transpose()\n",
        "columns_to_drop = desc.loc[desc[\"std\"]==0].index.values\n",
        "df.drop(columns_to_drop, axis=1, inplace=True)"
      ]
    },
    {
      "cell_type": "markdown",
      "metadata": {
        "_cell_guid": "007316f3-e9a6-e389-bc60-3b59eb68e973"
      },
      "source": [
        "Just to check which columns we just dropped:"
      ]
    },
    {
      "cell_type": "code",
      "execution_count": null,
      "metadata": {
        "_cell_guid": "bd7ccbef-80b8-ae21-d49e-d72884fa3246"
      },
      "outputs": [],
      "source": [
        "print(columns_to_drop)"
      ]
    },
    {
      "cell_type": "markdown",
      "metadata": {
        "_cell_guid": "0cf31ade-b8be-a87e-49a5-6ef7c4a23999"
      },
      "source": [
        "There are some categorical features in X0-X8. Let's count the cardinality and label encode those."
      ]
    },
    {
      "cell_type": "code",
      "execution_count": null,
      "metadata": {
        "_cell_guid": "cb468691-9609-f1e9-a2cc-1213aad1f13e"
      },
      "outputs": [],
      "source": [
        "df08 = df[[\"X{}\".format(x) for x in range(9) if x != 7]]"
      ]
    },
    {
      "cell_type": "code",
      "execution_count": null,
      "metadata": {
        "_cell_guid": "4e00cfb8-8317-5a97-2d41-995be09a1b91"
      },
      "outputs": [],
      "source": [
        "tot_cardinality = 0\n",
        "for c in df08.columns.values:\n",
        "    cardinality = len(df08[c].unique())\n",
        "    print(c, cardinality)\n",
        "    tot_cardinality += cardinality\n",
        "print(tot_cardinality)"
      ]
    },
    {
      "cell_type": "markdown",
      "metadata": {
        "_cell_guid": "2fcf04a1-fff4-2925-554b-ab76fbedd6fc"
      },
      "source": [
        "We can do some guesses what these are. Can X3 be the day of week? Can X6 be the months of year?  Let's do the label encoding:\n",
        "**Update**: Label encoding does not make sense. I'm updating this to One-Hot encoding."
      ]
    },
    {
      "cell_type": "code",
      "execution_count": null,
      "metadata": {
        "_cell_guid": "e6597be2-1818-be9e-a6f7-b60d974c8de1"
      },
      "outputs": [],
      "source": [
        "df = pd.get_dummies(df, columns=[\"X{}\".format(x) for x in range(9) if x != 7])"
      ]
    },
    {
      "cell_type": "markdown",
      "metadata": {
        "_cell_guid": "b3571f0b-7ddd-8be6-54fe-26fd2fc45a24"
      },
      "source": [
        "I've heard there is an outlier in the target variable. Let's look and remove it."
      ]
    },
    {
      "cell_type": "code",
      "execution_count": null,
      "metadata": {
        "_cell_guid": "6d0196aa-635e-0608-46e4-7c9b80ef97c5"
      },
      "outputs": [],
      "source": [
        "# sns.distplot(df.y)\n",
        "#(Why do I get a warning?)\n",
        "# I get a long warning on the kaggle kernel, I'm commenting this line."
      ]
    },
    {
      "cell_type": "code",
      "execution_count": null,
      "metadata": {
        "_cell_guid": "61e5a822-95bf-b24e-1b94-890bc38c2618"
      },
      "outputs": [],
      "source": [
        "# Drop it!\n",
        "df.drop(df.loc[df[\"y\"] > 250].index, inplace=True)"
      ]
    },
    {
      "cell_type": "markdown",
      "metadata": {
        "_cell_guid": "f078893a-2c9a-b30f-e480-3528193781ea"
      },
      "source": [
        "## PCA - Principal component analysis.\n",
        "For the sake of simplicity, do a 2-dimensional PCA. That makes plotting simpler."
      ]
    },
    {
      "cell_type": "code",
      "execution_count": null,
      "metadata": {
        "_cell_guid": "e76bafa3-b5c8-079c-5b54-61760add2a5b"
      },
      "outputs": [],
      "source": [
        "from sklearn.decomposition import PCA\n",
        "pca2 = PCA(n_components=2)\n",
        "pca2_results = pca2.fit_transform(df.drop([\"y\"], axis=1))"
      ]
    },
    {
      "cell_type": "markdown",
      "metadata": {
        "_cell_guid": "326f3cd8-1ac3-0bdc-0913-78a7206a9b3c"
      },
      "source": [
        ".... and then we plot it as scatter with the target as a color mapping."
      ]
    },
    {
      "cell_type": "code",
      "execution_count": null,
      "metadata": {
        "_cell_guid": "2dd8599b-4512-6f97-f5a2-46eb21fada96"
      },
      "outputs": [],
      "source": [
        "cmap = sns.cubehelix_palette(as_cmap=True)\n",
        "f, ax = plt.subplots(figsize=(20,15))\n",
        "points = ax.scatter(pca2_results[:,0], pca2_results[:,1], c=df.y, s=50, cmap=cmap)\n",
        "f.colorbar(points)\n",
        "plt.show()"
      ]
    },
    {
      "cell_type": "markdown",
      "metadata": {
        "_cell_guid": "1e860e33-1669-09bc-7054-9bc44aa3ea67"
      },
      "source": [
        "Interesting.... it looks like some pattern. Why?"
      ]
    },
    {
      "cell_type": "markdown",
      "metadata": {
        "_cell_guid": "9e62872b-2ca4-a272-194b-5b3be82eb71d"
      },
      "source": [
        "## T-SNE  (t-distributed Stochastic Neighbor Embedding)\n",
        "This is a more modern method of dimensionality reduction. I just use it, I have no idea how it actually works. We still do reduction to two dimensions. Makes plotting simple."
      ]
    },
    {
      "cell_type": "code",
      "execution_count": null,
      "metadata": {
        "_cell_guid": "4b151bda-eecc-45b4-8a69-5a8dd1d43fc5"
      },
      "outputs": [],
      "source": [
        "from sklearn.manifold import TSNE\n",
        "tsne2 = TSNE(n_components=2)\n",
        "tsne2_results = tsne2.fit_transform(df.drop([\"y\"], axis=1))"
      ]
    },
    {
      "cell_type": "code",
      "execution_count": null,
      "metadata": {
        "_cell_guid": "35320b6d-c336-750c-289f-36389a0209b4"
      },
      "outputs": [],
      "source": [
        "f, ax = plt.subplots(figsize=(20,15))\n",
        "points = ax.scatter(tsne2_results[:,0], tsne2_results[:,1], c=df.y, s=50, cmap=cmap)\n",
        "f.colorbar(points)\n",
        "plt.show()"
      ]
    },
    {
      "cell_type": "markdown",
      "metadata": {
        "_cell_guid": "2b8583dd-ef3a-49f3-d294-ec81562ea34c"
      },
      "source": [
        "Ha! Even more interesting! It even looks like we can make some regression out of this set! I'll try that later.\n",
        "\n",
        "Please upvote if you like this!"
      ]
    }
  ],
  "metadata": {
    "_change_revision": 0,
    "_is_fork": false,
    "kernelspec": {
      "display_name": "Python 3",
      "language": "python",
      "name": "python3"
    },
    "language_info": {
      "codemirror_mode": {
        "name": "ipython",
        "version": 3
      },
      "file_extension": ".py",
      "mimetype": "text/x-python",
      "name": "python",
      "nbconvert_exporter": "python",
      "pygments_lexer": "ipython3",
      "version": "3.6.0"
    }
  },
  "nbformat": 4,
  "nbformat_minor": 0
}