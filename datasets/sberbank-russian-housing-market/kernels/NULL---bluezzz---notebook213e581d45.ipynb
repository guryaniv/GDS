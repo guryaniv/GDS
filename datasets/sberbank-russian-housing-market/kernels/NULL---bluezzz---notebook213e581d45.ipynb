{
  "cells": [
    {
      "cell_type": "markdown",
      "metadata": {
        "_cell_guid": "f58ae579-4502-4f30-8380-244ac9163e76"
      },
      "source": [
        "EDA"
      ]
    },
    {
      "cell_type": "code",
      "execution_count": null,
      "metadata": {
        "_cell_guid": "47558d3c-efd7-0d10-eae6-b355163dd6df"
      },
      "outputs": [],
      "source": [
        "# This Python 3 environment comes with many helpful analytics libraries installed\n",
        "# It is defined by the kaggle/python docker image: https://github.com/kaggle/docker-python\n",
        "# For example, here's several helpful packages to load in \n",
        "\n",
        "import numpy as np # linear algebra\n",
        "import pandas as pd # data processing, CSV file I/O (e.g. pd.read_csv)\n",
        "import matplotlib.pyplot as plt\n",
        "import seaborn as sns\n",
        "# Input data files are available in the \"../input/\" directory.\n",
        "# For example, running this (by clicking run or pressing Shift+Enter) will list the files in the input directory\n",
        "\n",
        "from subprocess import check_output\n",
        "print(check_output([\"ls\", \"../input\"]).decode(\"utf8\"))\n",
        "%matplotlib inline\n",
        "# Any results you write to the current directory are saved as output."
      ]
    },
    {
      "cell_type": "markdown",
      "metadata": {
        "_cell_guid": "4674cfd5-8754-0000-34d4-cd90e4a753d5"
      },
      "source": [
        "# EDA of macro.csv"
      ]
    },
    {
      "cell_type": "code",
      "execution_count": null,
      "metadata": {
        "_cell_guid": "2fcd67fc-3865-4b0c-6b26-2abf4b59792e"
      },
      "outputs": [],
      "source": [
        "macro_df = pd.read_csv(\"../input/macro.csv\")\n",
        "macro_df.shape"
      ]
    },
    {
      "cell_type": "code",
      "execution_count": null,
      "metadata": {
        "_cell_guid": "32a2b11f-b7f6-f7b3-0ce1-a3243623c0df"
      },
      "outputs": [],
      "source": [
        "macro_df.head()"
      ]
    },
    {
      "cell_type": "code",
      "execution_count": null,
      "metadata": {
        "_cell_guid": "18fe32ed-86df-8a2a-e65f-da3048d13994"
      },
      "outputs": [],
      "source": [
        "macro_df.describe()"
      ]
    },
    {
      "cell_type": "markdown",
      "metadata": {
        "_cell_guid": "b4338305-b2bc-f905-c757-ba0f44ea6db7"
      },
      "source": [
        "### missing value"
      ]
    },
    {
      "cell_type": "code",
      "execution_count": null,
      "metadata": {
        "_cell_guid": "ada44b69-4ac5-5829-9098-65b22c2beea8"
      },
      "outputs": [],
      "source": [
        "macro_missing = macro_df.isnull().sum(axis=0).reset_index()\n",
        "macro_missing.columns = [\"feature\", \"miss_count\"]\n",
        "macro_missing.describe()"
      ]
    },
    {
      "cell_type": "markdown",
      "metadata": {
        "_cell_guid": "789cb1f9-b4a9-49f2-3d0a-946a00142520"
      },
      "source": [
        "### outliers TODO"
      ]
    },
    {
      "cell_type": "markdown",
      "metadata": {
        "_cell_guid": "408e8a61-47f6-2b84-46b1-789768c3f670"
      },
      "source": [
        "# EDA of train.csv"
      ]
    },
    {
      "cell_type": "code",
      "execution_count": null,
      "metadata": {
        "_cell_guid": "2768997c-96f3-c15f-5372-fd1cb11e64e5"
      },
      "outputs": [],
      "source": [
        "train_df = pd.read_csv(\"../input/train.csv\")\n",
        "train_df.shape"
      ]
    },
    {
      "cell_type": "code",
      "execution_count": null,
      "metadata": {
        "_cell_guid": "df0b0d9a-ad52-4012-9e04-7b984f7fc819"
      },
      "outputs": [],
      "source": [
        "train_df.describe()"
      ]
    },
    {
      "cell_type": "markdown",
      "metadata": {
        "_cell_guid": "761ad31d-e274-265e-93ec-22fc5ce64aa2"
      },
      "source": [
        "### missing value"
      ]
    },
    {
      "cell_type": "code",
      "execution_count": null,
      "metadata": {
        "_cell_guid": "ab21e52d-cd5e-99b9-3018-03176ae8a740"
      },
      "outputs": [],
      "source": [
        "train_missing = train_df.isnull().sum(axis=0).reset_index()\n",
        "train_missing.columns = [\"feature\", \"miss_count\"]\n",
        "train_missing"
      ]
    },
    {
      "cell_type": "code",
      "execution_count": null,
      "metadata": {
        "_cell_guid": "513da944-5982-16ca-e285-167e412f870d"
      },
      "outputs": [],
      "source": [
        "train_missing.describe()"
      ]
    },
    {
      "cell_type": "markdown",
      "metadata": {
        "_cell_guid": "99148d9f-473f-9eae-07d4-01a14aee00d8"
      },
      "source": [
        "### Is macro date match the date in train set?\n",
        "It seems that date in macro cover the range of date in train set."
      ]
    },
    {
      "cell_type": "code",
      "execution_count": null,
      "metadata": {
        "_cell_guid": "62899ef3-b62e-c1cd-9273-b3539969ba3b"
      },
      "outputs": [],
      "source": [
        "print(\"train:\", train_df.timestamp[0], \"~\", train_df.timestamp.iloc[-1])\n",
        "print(\"macro:\", macro_df.timestamp[0], \"~\", macro_df.timestamp.iloc[-1])"
      ]
    },
    {
      "cell_type": "markdown",
      "metadata": {
        "_cell_guid": "d9f0cb7e-774c-3d33-628a-a4504f16069e"
      },
      "source": [
        "# EDA of test set\n",
        "see if the timestamp in test set is covered by the date range in macro"
      ]
    },
    {
      "cell_type": "code",
      "execution_count": null,
      "metadata": {
        "_cell_guid": "63147b4b-736e-8dd5-9610-1fe52a981dff"
      },
      "outputs": [],
      "source": [
        "test_df = pd.read_csv(\"../input/test.csv\")\n",
        "test_df.shape"
      ]
    },
    {
      "cell_type": "code",
      "execution_count": null,
      "metadata": {
        "_cell_guid": "71ab51f8-c211-472a-d320-e226cc529410"
      },
      "outputs": [],
      "source": [
        "print(\"test:\", test_df.timestamp[0], \"~\", test_df.timestamp.iloc[-1])"
      ]
    },
    {
      "cell_type": "markdown",
      "metadata": {
        "_cell_guid": "ce7fa425-2c85-055c-84ff-ceab935ba0d0"
      },
      "source": ""
    },
    {
      "cell_type": "code",
      "execution_count": null,
      "metadata": {
        "_cell_guid": "c3bf508f-4360-3b60-72d5-9149e28f825e"
      },
      "outputs": [],
      "source": ""
    },
    {
      "cell_type": "markdown",
      "metadata": {
        "_cell_guid": "3a368277-94b4-1cbe-b78e-c360914d37ab"
      },
      "source": [
        "# pandas beginner test"
      ]
    },
    {
      "cell_type": "code",
      "execution_count": null,
      "metadata": {
        "_cell_guid": "6b39a257-e1e0-66aa-5668-084d0d152787"
      },
      "outputs": [],
      "source": [
        "train_df."
      ]
    }
  ],
  "metadata": {
    "_change_revision": 0,
    "_is_fork": false,
    "kernelspec": {
      "display_name": "Python 3",
      "language": "python",
      "name": "python3"
    },
    "language_info": {
      "codemirror_mode": {
        "name": "ipython",
        "version": 3
      },
      "file_extension": ".py",
      "mimetype": "text/x-python",
      "name": "python",
      "nbconvert_exporter": "python",
      "pygments_lexer": "ipython3",
      "version": "3.6.0"
    }
  },
  "nbformat": 4,
  "nbformat_minor": 0
}