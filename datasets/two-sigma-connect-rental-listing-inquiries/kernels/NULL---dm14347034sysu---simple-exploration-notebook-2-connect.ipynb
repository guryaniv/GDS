{
  "cells": [
    {
      "cell_type": "markdown",
      "metadata": {
        "_cell_guid": "9e21d5d9-9849-8c7b-03cb-94787e4cd65a"
      },
      "source": [
        "In this exploration notebook, we shall try to uncover the basic information about the dataset which will help us build our models / features. \n",
        "\n",
        "Let us first import the necessary modules."
      ]
    },
    {
      "cell_type": "code",
      "execution_count": null,
      "metadata": {
        "_cell_guid": "61ff67fc-ab97-69fb-9a56-cdf860b57f55"
      },
      "outputs": [],
      "source": [
        "import numpy as np # linear algebra\n",
        "import pandas as pd # data processing, CSV file I/O (e.g. pd.read_csv)\n",
        "import matplotlib.pyplot as plt\n",
        "import seaborn as sns\n",
        "color = sns.color_palette()\n",
        "\n",
        "%matplotlib inline\n",
        "\n",
        "pd.options.mode.chained_assignment = None  # default='warn'"
      ]
    },
    {
      "cell_type": "markdown",
      "metadata": {
        "_cell_guid": "5378a2ca-0a09-c235-2254-4d71f006d426"
      },
      "source": [
        "Loading the training dataset and looking at the top few rows."
      ]
    },
    {
      "cell_type": "code",
      "execution_count": null,
      "metadata": {
        "_cell_guid": "f13a66ea-b17a-2d32-11f5-c2b814a7591a"
      },
      "outputs": [],
      "source": [
        "train_df = pd.read_json(\"../input/train.json\")\n",
        "train_df.head()"
      ]
    },
    {
      "cell_type": "markdown",
      "metadata": {
        "_cell_guid": "55a56240-939e-8f49-1508-6ea8a991ac37"
      },
      "source": [
        "Wow. This dataset looks interesting. It has numerical features, categorical features, date feature, text features and image features.  \n",
        "\n",
        "Let us load the test data as well and check the number of rows in train and test to start with."
      ]
    },
    {
      "cell_type": "code",
      "execution_count": null,
      "metadata": {
        "_cell_guid": "a0f70f1f-64e6-c76b-542e-ee27f27a69f4"
      },
      "outputs": [],
      "source": [
        "test_df = pd.read_json(\"../input/test.json\")\n",
        "print(\"Train Rows : \", train_df.shape[0])\n",
        "print(\"Test Rows : \", test_df.shape[0])"
      ]
    },
    {
      "cell_type": "markdown",
      "metadata": {
        "_cell_guid": "b226fffa-5e52-e9b2-266f-d732599081c6"
      },
      "source": [
        "**Target Variable**\n",
        "\n",
        "Before delving more into the features, let us first have a look at the target variable 'interest level'"
      ]
    },
    {
      "cell_type": "code",
      "execution_count": null,
      "metadata": {
        "_cell_guid": "2c0c7d1a-4a2e-b916-e4fd-291d29956081"
      },
      "outputs": [],
      "source": [
        "int_level = train_df['interest_level'].value_counts()\n",
        "\n",
        "plt.figure(figsize=(8,4))\n",
        "sns.barplot(int_level.index, int_level.values, alpha=0.8, color=color[1])\n",
        "plt.ylabel('Number of Occurrences', fontsize=12)\n",
        "plt.xlabel('Interest level', fontsize=12)\n",
        "plt.show()"
      ]
    },
    {
      "cell_type": "markdown",
      "metadata": {
        "_cell_guid": "9bcd583c-e652-f3e5-b5b4-f9d9e7ddfbed"
      },
      "source": [
        "Interest level is low for most of the cases followed by medium and then high which makes sense.\n",
        "\n",
        "Now let us start looking into the numerical features present in the dataset. Numerical features are\n",
        "\n",
        " - bathrooms\n",
        " - bedrooms\n",
        " - price\n",
        " - latitude\n",
        " - longitude\n",
        "\n",
        "The last two are actually not numerical variables, but for now let us just consider it to be numerical.\n",
        "\n",
        "**Bathrooms:**\n",
        "\n",
        "Let us first start with bathrooms."
      ]
    },
    {
      "cell_type": "code",
      "execution_count": null,
      "metadata": {
        "_cell_guid": "d966e599-8304-460e-0454-8549a4f66d86"
      },
      "outputs": [],
      "source": [
        "cnt_srs = train_df['bathrooms'].value_counts()\n",
        "\n",
        "plt.figure(figsize=(8,4))\n",
        "sns.barplot(cnt_srs.index, cnt_srs.values, alpha=0.8, color=color[0])\n",
        "plt.ylabel('Number of Occurrences', fontsize=12)\n",
        "plt.xlabel('bathrooms', fontsize=12)\n",
        "plt.show()"
      ]
    },
    {
      "cell_type": "code",
      "execution_count": null,
      "metadata": {
        "_cell_guid": "47a91c3d-f826-7635-2756-66b03d6d3586"
      },
      "outputs": [],
      "source": [
        "train_df['bathrooms'].ix[train_df['bathrooms']>3] = 3\n",
        "plt.figure(figsize=(8,4))\n",
        "sns.violinplot(x='interest_level', y='bathrooms', data=train_df)\n",
        "plt.xlabel('Interest level', fontsize=12)\n",
        "plt.ylabel('bathrooms', fontsize=12)\n",
        "plt.show()"
      ]
    },
    {
      "cell_type": "markdown",
      "metadata": {
        "_cell_guid": "10ab3e10-e5d4-2ba4-ee66-674f343d71ef"
      },
      "source": [
        "Looks like evenly distributed across the interest levels. Now let us look at the next feature 'bedrooms'.\n",
        "\n",
        "**Bedrooms:**"
      ]
    },
    {
      "cell_type": "code",
      "execution_count": null,
      "metadata": {
        "_cell_guid": "cc7d8bef-5bc8-5e64-d621-43aceb57e2ff"
      },
      "outputs": [],
      "source": [
        "cnt_srs = train_df['bedrooms'].value_counts()\n",
        "\n",
        "plt.figure(figsize=(8,4))\n",
        "sns.barplot(cnt_srs.index, cnt_srs.values, alpha=0.8, color=color[2])\n",
        "plt.ylabel('Number of Occurrences', fontsize=12)\n",
        "plt.xlabel('bedrooms', fontsize=12)\n",
        "plt.show()"
      ]
    },
    {
      "cell_type": "code",
      "execution_count": null,
      "metadata": {
        "_cell_guid": "6dcc6114-8bfe-9f7c-dd28-c86024ed6f67"
      },
      "outputs": [],
      "source": [
        "plt.figure(figsize=(8,6))\n",
        "sns.countplot(x='bedrooms', hue='interest_level', data=train_df)\n",
        "plt.ylabel('Number of Occurrences', fontsize=12)\n",
        "plt.xlabel('bedrooms', fontsize=12)\n",
        "plt.show()"
      ]
    },
    {
      "cell_type": "markdown",
      "metadata": {
        "_cell_guid": "08458b0e-3fb4-9357-55d1-830275f1d429"
      },
      "source": [
        "**Price:**\n",
        "\n",
        "Now let us look at the price variable distribution."
      ]
    },
    {
      "cell_type": "code",
      "execution_count": null,
      "metadata": {
        "_cell_guid": "20589a1b-ca6c-ed10-7445-87c7cf3a7e80"
      },
      "outputs": [],
      "source": [
        "plt.figure(figsize=(8,6))\n",
        "plt.scatter(range(train_df.shape[0]), np.sort(train_df.price.values))\n",
        "plt.xlabel('index', fontsize=12)\n",
        "plt.ylabel('price', fontsize=12)\n",
        "plt.show()"
      ]
    },
    {
      "cell_type": "markdown",
      "metadata": {
        "_cell_guid": "259dd228-08dd-9e90-3ba1-a9f45e5ca830"
      },
      "source": [
        "Looks like there are some outliers in this feature. So let us remove them and then plot again."
      ]
    },
    {
      "cell_type": "code",
      "execution_count": null,
      "metadata": {
        "_cell_guid": "013d293f-aca5-85cc-fcb2-4b019b82944c"
      },
      "outputs": [],
      "source": [
        "ulimit = np.percentile(train_df.price.values, 99)\n",
        "train_df['price'].ix[train_df['price']>ulimit] = ulimit\n",
        "\n",
        "plt.figure(figsize=(8,6))\n",
        "sns.distplot(train_df.price.values, bins=50, kde=True)\n",
        "plt.xlabel('price', fontsize=12)\n",
        "plt.show()"
      ]
    },
    {
      "cell_type": "markdown",
      "metadata": {
        "_cell_guid": "3511dfc3-585a-8094-836e-ec3ecf44ba25"
      },
      "source": [
        "The distribution is right skewed as we can see.\n",
        "\n",
        "Now let us look at the latitude and longitude variables.\n",
        "\n",
        "**Latitude & Longitude:**"
      ]
    },
    {
      "cell_type": "code",
      "execution_count": null,
      "metadata": {
        "_cell_guid": "60913377-3b40-e9ed-0979-16a48f65030c"
      },
      "outputs": [],
      "source": [
        "llimit = np.percentile(train_df.latitude.values, 1)\n",
        "ulimit = np.percentile(train_df.latitude.values, 99)\n",
        "train_df['latitude'].ix[train_df['latitude']<llimit] = llimit\n",
        "train_df['latitude'].ix[train_df['latitude']>ulimit] = ulimit\n",
        "\n",
        "plt.figure(figsize=(8,6))\n",
        "sns.distplot(train_df.latitude.values, bins=50, kde=False)\n",
        "plt.xlabel('latitude', fontsize=12)\n",
        "plt.show()"
      ]
    },
    {
      "cell_type": "markdown",
      "metadata": {
        "_cell_guid": "045350c6-7c19-afc2-5c9e-726246c31ae3"
      },
      "source": [
        "So the latitude values are primarily between 40.6 and 40.9. Now let us look at the longitude values."
      ]
    },
    {
      "cell_type": "code",
      "execution_count": null,
      "metadata": {
        "_cell_guid": "2de476f5-efb6-077d-0c1b-35fce2ee3cd3"
      },
      "outputs": [],
      "source": [
        "llimit = np.percentile(train_df.longitude.values, 1)\n",
        "ulimit = np.percentile(train_df.longitude.values, 99)\n",
        "train_df['longitude'].ix[train_df['longitude']<llimit] = llimit\n",
        "train_df['longitude'].ix[train_df['longitude']>ulimit] = ulimit\n",
        "\n",
        "plt.figure(figsize=(8,6))\n",
        "sns.distplot(train_df.longitude.values, bins=50, kde=False)\n",
        "plt.xlabel('longitude', fontsize=12)\n",
        "plt.show()"
      ]
    },
    {
      "cell_type": "markdown",
      "metadata": {
        "_cell_guid": "b5984448-3eb3-8565-59a8-497834f95da0"
      },
      "source": [
        "The longitude values range between -73.8 and -74.02. So the data corresponds to the **New York City**.\n",
        "\n",
        "Now let us plot the same in a map. Thanks to this [kernel][1] by Dotman.\n",
        "\n",
        "\n",
        "  [1]: https://www.kaggle.com/dotman/d/fivethirtyeight/uber-pickups-in-new-york-city/data-exploration-and-visualization"
      ]
    },
    {
      "cell_type": "code",
      "execution_count": null,
      "metadata": {
        "_cell_guid": "bbae0d63-d273-ccb6-734c-aa6f57b11065"
      },
      "outputs": [],
      "source": [
        "from mpl_toolkits.basemap import Basemap\n",
        "from matplotlib import cm\n",
        "\n",
        "west, south, east, north = -74.02, 40.64, -73.85, 40.86\n",
        "\n",
        "fig = plt.figure(figsize=(14,10))\n",
        "ax = fig.add_subplot(111)\n",
        "m = Basemap(projection='merc', llcrnrlat=south, urcrnrlat=north,\n",
        "            llcrnrlon=west, urcrnrlon=east, lat_ts=south, resolution='i')\n",
        "x, y = m(train_df['longitude'].values, train_df['latitude'].values)\n",
        "m.hexbin(x, y, gridsize=200,\n",
        "         bins='log', cmap=cm.YlOrRd_r);"
      ]
    },
    {
      "cell_type": "markdown",
      "metadata": {
        "_cell_guid": "4147d2aa-b2e8-afc6-3ffe-d9b33a2af3b7"
      },
      "source": [
        "**Created:**\n",
        "\n",
        "Now let us look at the date column 'created' "
      ]
    },
    {
      "cell_type": "code",
      "execution_count": null,
      "metadata": {
        "_cell_guid": "93a22bef-c98a-dbad-4fac-e6ff8c2dde96"
      },
      "outputs": [],
      "source": [
        "train_df[\"created\"] = pd.to_datetime(train_df[\"created\"])\n",
        "train_df[\"date_created\"] = train_df[\"created\"].dt.date\n",
        "cnt_srs = train_df['date_created'].value_counts()\n",
        "\n",
        "\n",
        "plt.figure(figsize=(12,4))\n",
        "ax = plt.subplot(111)\n",
        "ax.bar(cnt_srs.index, cnt_srs.values, alpha=0.8)\n",
        "ax.xaxis_date()\n",
        "plt.xticks(rotation='vertical')\n",
        "plt.show()"
      ]
    },
    {
      "cell_type": "markdown",
      "metadata": {
        "_cell_guid": "ef18c71a-a2c4-64db-e6b5-9477eb8df350"
      },
      "source": [
        "So we have data from April to June 2016 in our train set. Now let us look at the test set as well and see if they are also from the same date range. "
      ]
    },
    {
      "cell_type": "code",
      "execution_count": null,
      "metadata": {
        "_cell_guid": "3abaebc2-0288-ea79-c204-82c28efe305d"
      },
      "outputs": [],
      "source": [
        "test_df[\"created\"] = pd.to_datetime(test_df[\"created\"])\n",
        "test_df[\"date_created\"] = test_df[\"created\"].dt.date\n",
        "cnt_srs = test_df['date_created'].value_counts()\n",
        "\n",
        "plt.figure(figsize=(12,4))\n",
        "ax = plt.subplot(111)\n",
        "ax.bar(cnt_srs.index, cnt_srs.values, alpha=0.8)\n",
        "ax.xaxis_date()\n",
        "plt.xticks(rotation='vertical')\n",
        "plt.show()"
      ]
    },
    {
      "cell_type": "markdown",
      "metadata": {
        "_cell_guid": "3116ccd0-f3da-5ddc-4baf-889a2bda5dbd"
      },
      "source": [
        "Looks very similar to the train set dates and so we are good to go.!\n",
        "\n",
        "We shall also look at the hour-wise listing trend (Just for fun)"
      ]
    },
    {
      "cell_type": "code",
      "execution_count": null,
      "metadata": {
        "_cell_guid": "d5d82615-fa99-3168-d4a3-26cb2ecb9ace"
      },
      "outputs": [],
      "source": [
        "train_df[\"hour_created\"] = train_df[\"created\"].dt.hour\n",
        "cnt_srs = train_df['hour_created'].value_counts()\n",
        "\n",
        "plt.figure(figsize=(12,6))\n",
        "sns.barplot(cnt_srs.index, cnt_srs.values, alpha=0.8, color=color[3])\n",
        "plt.xticks(rotation='vertical')\n",
        "plt.show()"
      ]
    },
    {
      "cell_type": "markdown",
      "metadata": {
        "_cell_guid": "44591964-a246-7fac-e0a4-6540a64de277"
      },
      "source": [
        "Looks like listings are created during the early hours of the day (1 to 7am). May be that is when the traffic is less and so the updates are happening.\n",
        "\n",
        "Now let us look at some of the categorical variables.\n",
        "\n",
        "**Display Address:**"
      ]
    },
    {
      "cell_type": "code",
      "execution_count": null,
      "metadata": {
        "_cell_guid": "72d1f400-0619-c8ac-8065-30de305ca16f"
      },
      "outputs": [],
      "source": [
        "cnt_srs = train_df.groupby('display_address')['display_address'].count()\n",
        "\n",
        "for i in [2, 10, 50, 100, 500]:\n",
        "    print('Display_address that appear less than {} times: {}%'.format(i, round((cnt_srs < i).mean() * 100, 2)))\n",
        "\n",
        "plt.figure(figsize=(12, 6))\n",
        "plt.hist(cnt_srs.values, bins=100, log=True, alpha=0.9)\n",
        "plt.xlabel('Number of times display_address appeared', fontsize=12)\n",
        "plt.ylabel('log(Count)', fontsize=12)\n",
        "plt.show()"
      ]
    },
    {
      "cell_type": "markdown",
      "metadata": {
        "_cell_guid": "13ada76a-be20-161f-e5a1-94401d8b0850"
      },
      "source": [
        "Most of the display addresses occur less than 100 times in the given dataset. None of the display address occur more than 500 times.\n",
        "\n",
        "**Number of Photos:**\n",
        "\n",
        "This competition also has a huge database of photos of the listings. To start with, let us look at the number of photos given for listings."
      ]
    },
    {
      "cell_type": "code",
      "execution_count": null,
      "metadata": {
        "_cell_guid": "1b66e757-6e36-8b95-f7a9-53723bd16983"
      },
      "outputs": [],
      "source": [
        "train_df[\"num_photos\"] = train_df[\"photos\"].apply(len)\n",
        "cnt_srs = train_df['num_photos'].value_counts()\n",
        "\n",
        "plt.figure(figsize=(12,6))\n",
        "sns.barplot(cnt_srs.index, cnt_srs.values, alpha=0.8)\n",
        "plt.xlabel('Number of Photos', fontsize=12)\n",
        "plt.ylabel('Number of Occurrences', fontsize=12)\n",
        "plt.show()"
      ]
    },
    {
      "cell_type": "code",
      "execution_count": null,
      "metadata": {
        "_cell_guid": "c10f5b0a-376f-b185-a347-c7f707314770"
      },
      "outputs": [],
      "source": [
        "train_df['num_photos'].ix[train_df['num_photos']>12] = 12\n",
        "plt.figure(figsize=(12,6))\n",
        "sns.violinplot(x=\"num_photos\", y=\"interest_level\", data=train_df, order =['low','medium','high'])\n",
        "plt.xlabel('Number of Photos', fontsize=12)\n",
        "plt.ylabel('Interest Level', fontsize=12)\n",
        "plt.show()"
      ]
    },
    {
      "cell_type": "markdown",
      "metadata": {
        "_cell_guid": "ce709d7f-ca9b-5136-0ba8-f10f3efb3bfb"
      },
      "source": [
        "Let us now look at the number of features variable and see its distribution.\n",
        "\n",
        "**Number of features:**"
      ]
    },
    {
      "cell_type": "code",
      "execution_count": null,
      "metadata": {
        "_cell_guid": "342d00a1-f508-7a76-e8d5-6b396748b9fc"
      },
      "outputs": [],
      "source": [
        "train_df[\"num_features\"] = train_df[\"features\"].apply(len)\n",
        "cnt_srs = train_df['num_features'].value_counts()\n",
        "\n",
        "plt.figure(figsize=(12,6))\n",
        "sns.barplot(cnt_srs.index, cnt_srs.values, alpha=0.8)\n",
        "plt.ylabel('Number of Occurrences', fontsize=12)\n",
        "plt.xlabel('Number of features', fontsize=12)\n",
        "plt.show()"
      ]
    },
    {
      "cell_type": "code",
      "execution_count": null,
      "metadata": {
        "_cell_guid": "d11f012a-ed59-e2db-9d37-402fa8ffceeb"
      },
      "outputs": [],
      "source": [
        "train_df['num_features'].ix[train_df['num_features']>17] = 17\n",
        "plt.figure(figsize=(12,10))\n",
        "sns.violinplot(y=\"num_features\", x=\"interest_level\", data=train_df, order =['low','medium','high'])\n",
        "plt.xlabel('Interest Level', fontsize=12)\n",
        "plt.ylabel('Number of features', fontsize=12)\n",
        "plt.show()"
      ]
    },
    {
      "cell_type": "markdown",
      "metadata": {
        "_cell_guid": "b8f54cec-409f-a027-9d95-fd9b45fa5582"
      },
      "source": [
        "**Word Clouds:**\n",
        "\n",
        "Next we shall look into some for the text features."
      ]
    },
    {
      "cell_type": "code",
      "execution_count": null,
      "metadata": {
        "_cell_guid": "59a69609-a781-fc35-5853-258a00accbc9"
      },
      "outputs": [],
      "source": [
        "from wordcloud import WordCloud\n",
        "\n",
        "text = ''\n",
        "text_da = ''\n",
        "text_desc = ''\n",
        "for ind, row in train_df.iterrows():\n",
        "    for feature in row['features']:\n",
        "        text = \" \".join([text, \"_\".join(feature.strip().split(\" \"))])\n",
        "    text_da = \" \".join([text_da,\"_\".join(row['display_address'].strip().split(\" \"))])\n",
        "    #text_desc = \" \".join([text_desc, row['description']])\n",
        "text = text.strip()\n",
        "text_da = text_da.strip()\n",
        "text_desc = text_desc.strip()\n",
        "\n",
        "plt.figure(figsize=(12,6))\n",
        "wordcloud = WordCloud(background_color='white', width=600, height=300, max_font_size=50, max_words=40).generate(text)\n",
        "wordcloud.recolor(random_state=0)\n",
        "plt.imshow(wordcloud)\n",
        "plt.title(\"Wordcloud for features\", fontsize=30)\n",
        "plt.axis(\"off\")\n",
        "plt.show()\n",
        "\n",
        "# wordcloud for display address\n",
        "plt.figure(figsize=(12,6))\n",
        "wordcloud = WordCloud(background_color='white', width=600, height=300, max_font_size=50, max_words=40).generate(text_da)\n",
        "wordcloud.recolor(random_state=0)\n",
        "plt.imshow(wordcloud)\n",
        "plt.title(\"Wordcloud for Display Address\", fontsize=30)\n",
        "plt.axis(\"off\")\n",
        "plt.show()\n"
      ]
    },
    {
      "cell_type": "markdown",
      "metadata": {
        "_cell_guid": "b5739638-7895-65e4-598d-e8491c356959"
      },
      "source": [
        "**More to come. Stay tuned.!**\n",
        "\n",
        "Please upvote if you like the notebook :)"
      ]
    }
  ],
  "metadata": {
    "_change_revision": 0,
    "_is_fork": false,
    "kernelspec": {
      "display_name": "Python 3",
      "language": "python",
      "name": "python3"
    },
    "language_info": {
      "codemirror_mode": {
        "name": "ipython",
        "version": 3
      },
      "file_extension": ".py",
      "mimetype": "text/x-python",
      "name": "python",
      "nbconvert_exporter": "python",
      "pygments_lexer": "ipython3",
      "version": "3.6.0"
    }
  },
  "nbformat": 4,
  "nbformat_minor": 0
}