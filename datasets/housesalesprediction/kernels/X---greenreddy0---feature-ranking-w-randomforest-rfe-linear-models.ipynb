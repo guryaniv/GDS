{
  "cells": [
    {
      "cell_type": "markdown",
      "metadata": {
        "_cell_guid": "6ea51bc1-c7e6-5022-f91e-5933202f9f3a"
      },
      "source": [
        "#INTRODUCTION \n",
        "\n",
        "**Caveat** : Running this notebook will take a while if you do decide to fork so take note. A handful of minutes.\n",
        "\n",
        "This notebook will aim to provide an explanation and application of different feature ranking methods, namely that of Recursive Feature Elimination (RFE), Stability Selection, linear models as well as Random Forest. But first off, it is always imperative to give credit where credit is due. The stuff in this notebook is indebted to and borrows heavily from the excellent 4-part blog article by Ando Saabas on feature selection. So please do check out his article from this link: http://blog.datadive.net/selecting-good-features-part-iv-stability-selection-rfe-and-everything-side-by-side/ \n",
        "\n",
        "The contents of this notebook are as follows: \n",
        "\n",
        " 1. **Data Cleaning and Visualisation** : This section will revolve around exploring the data and visualising some summary statistics. \n",
        " 2. **Stability Selection via Randomised Lasso Method** : Introduce a relatively new feature selection method called \"Stability Selection\" and using the Randomised Lasso in its implementation\n",
        " 3. **Recursive Feature Elimination** : Implementing the Recursive Feature Elimination method of feature ranking via the use of basic Linear Regression \n",
        " 4. **Linear Model Feature Coefficients** : Implementing 3 of Sklearn's linear models (Linear Regression, Lasso and Ridge) and using the inbuilt estimated coefficients for our feature selection\n",
        " 5. **Random Forest Feature Selection** : Using the Random Forest's convenient attribute \"feature_importances\" to calculate and ultimately rank the feature importance.\n",
        "\n",
        "Finally, with all the points 1 to 5 above, we will combine the results to create our:\n",
        "\n",
        "**Feature Ranking Matrix** : Matrix of all the features along with the respective model scores which we can use in our ranking.\n",
        " "
      ]
    },
    {
      "cell_type": "code",
      "execution_count": null,
      "metadata": {
        "_cell_guid": "0b231163-95bb-e5d3-eda2-dd6703aa8649"
      },
      "outputs": [],
      "source": [
        "import pandas as pd\n",
        "import numpy as np\n",
        "from matplotlib import pyplot as plt\n",
        "import seaborn as sns\n",
        "%matplotlib inline\n",
        "from sklearn.feature_selection import RFE, f_regression\n",
        "from sklearn.linear_model import (LinearRegression, Ridge, Lasso, RandomizedLasso)\n",
        "from sklearn.preprocessing import MinMaxScaler\n",
        "from sklearn.ensemble import RandomForestRegressor"
      ]
    },
    {
      "cell_type": "markdown",
      "metadata": {
        "_cell_guid": "2b932325-d368-ee17-75cb-40feb7e8d1bf"
      },
      "source": [
        "# 1. DATA CLEANSING AND ANALYSIS\n",
        "\n",
        "Let's first read in the house data as a dataframe \"house\" and inspect the first 5 rows"
      ]
    },
    {
      "cell_type": "code",
      "execution_count": null,
      "metadata": {
        "_cell_guid": "1ca75509-383d-c6f5-d809-8a0e99b4e844"
      },
      "outputs": [],
      "source": [
        "house = pd.read_csv(\"../input/housesalesprediction/kc_house_data.csv\")\n",
        "house.head()"
      ]
    },
    {
      "cell_type": "markdown",
      "metadata": {
        "_cell_guid": "78ba4e90-1d29-ae62-9fc5-ad0b590a1845"
      },
      "source": [
        "Now its time for some general data inspection. Let's first examine to see if there are any nulls in the dataframe as well as look at the type of the data (i.e whether it is a string or numeric)"
      ]
    },
    {
      "cell_type": "code",
      "execution_count": null,
      "metadata": {
        "_cell_guid": "cb6e65da-ba74-0ffe-828d-ebf7db2b1c07"
      },
      "outputs": [],
      "source": [
        "# Looking for nulls\n",
        "print(house.isnull().any())\n",
        "# Inspecting type\n",
        "print(house.dtypes)"
      ]
    },
    {
      "cell_type": "markdown",
      "metadata": {
        "_cell_guid": "aa63409f-4adf-d8dc-c781-1217f87710d8"
      },
      "source": [
        "The data is pretty clean. There are no pesky nulls which we need to treat and most of the features are in numeric format. Let's go ahead and drop the \"id\" and \"date\" columns as these 2 features will not be used in this analysis."
      ]
    },
    {
      "cell_type": "code",
      "execution_count": null,
      "metadata": {
        "_cell_guid": "b6d0eee1-089e-e880-982a-a81d8f36a899"
      },
      "outputs": [],
      "source": [
        "# Dropping the id and date columns\n",
        "house = house.drop(['id', 'date'],axis=1)"
      ]
    },
    {
      "cell_type": "markdown",
      "metadata": {
        "_cell_guid": "c0b6dced-bb93-bf29-2a27-4a5b0a05d185"
      },
      "source": [
        "**Pairplot Visualisation**\n",
        "\n",
        "Let's create some Seaborn pairplots for the features ('sqft_lot','sqft_above','price','sqft_living','bedrooms') to get a feel for how the various features are distributed vis-a-vis the price as well as the number of bedrooms"
      ]
    },
    {
      "cell_type": "code",
      "execution_count": null,
      "metadata": {
        "_cell_guid": "2a9dbedc-9be7-f89d-a855-f21738d72e17"
      },
      "outputs": [],
      "source": [
        "#sns.pairplot(house[['sqft_lot','sqft_above','price','sqft_living','bedrooms']], hue='bedrooms', palette='afmhot',size=1.4)"
      ]
    },
    {
      "cell_type": "code",
      "execution_count": null,
      "metadata": {
        "_cell_guid": "75f73c02-1893-d98c-8d02-e1005b332741"
      },
      "outputs": [],
      "source": [
        "g = sns.pairplot(house[['sqft_lot','sqft_above','price','sqft_living','bedrooms']], hue='bedrooms', palette='afmhot',size=1.4)\n",
        "g.set(xticklabels=[])"
      ]
    },
    {
      "cell_type": "markdown",
      "metadata": {
        "_cell_guid": "222bcbc2-3f3d-9ca0-f30f-757206f923d5"
      },
      "source": [
        "From the pairplots, we seem to get the classical linear distribution of the data points, for example with price against sqft_living. This bodes well as in the latter analysis, we will implement some linear models which we will use in our Feature ranking. Let's look at the correlation heatmap: "
      ]
    },
    {
      "cell_type": "code",
      "execution_count": null,
      "metadata": {
        "_cell_guid": "1d179a59-c663-ef84-c66f-cb8e43226a7c"
      },
      "outputs": [],
      "source": [
        "str_list = [] # empty list to contain columns with strings (words)\n",
        "for colname, colvalue in house.iteritems():\n",
        "    if type(colvalue[1]) == str:\n",
        "         str_list.append(colname)\n",
        "# Get to the numeric columns by inversion            \n",
        "num_list = house.columns.difference(str_list) \n",
        "# Create Dataframe containing only numerical features\n",
        "house_num = house[num_list]\n",
        "f, ax = plt.subplots(figsize=(11, 11))\n",
        "plt.title('Pearson Correlation of features')\n",
        "# Draw the heatmap using seaborn\n",
        "#sns.heatmap(house_num.astype(float).corr(),linewidths=0.25,vmax=1.0, square=True, cmap=\"PuBuGn\", linecolor='k', annot=True)\n",
        "sns.heatmap(house_num.astype(float).corr(),linewidths=0.25,vmax=1.0, square=True, cmap=\"cubehelix\", linecolor='k', annot=True)"
      ]
    },
    {
      "cell_type": "markdown",
      "metadata": {
        "_cell_guid": "fc3d8109-ebc5-264c-f964-04f66da0fec0"
      },
      "source": [
        "# 2. Stability Selection via Randomized Lasso\n",
        "\n",
        "In a nutshell, this method serves to apply the feature selection on different parts of the data and features repeatedly until the results can be aggregated. Therefore stronger features ( defined as being selected as important) will have greater scores in this method as compared to weaker features. Refer to this paper by Nicolai Meinshausen and Peter Buhlmann for a much greater detail on the method : http://stat.ethz.ch/~nicolai/stability.pdf\n",
        "\n",
        "In this notebook, the Stability Selection method is conveniently inbuilt into sklearn's randomized lasso model and therefore this will be implemented as follows:"
      ]
    },
    {
      "cell_type": "code",
      "execution_count": null,
      "metadata": {
        "_cell_guid": "45351992-0216-dd3d-76fe-4a658674f0c4"
      },
      "outputs": [],
      "source": [
        "# First extract the target variable which is our House prices\n",
        "Y = house.price.values\n",
        "# Drop price from the house dataframe and create a matrix out of the house data\n",
        "house = house.drop(['price'], axis=1)\n",
        "X = house.as_matrix()\n",
        "# Store the column/feature names into a list \"colnames\"\n",
        "colnames = house.columns"
      ]
    },
    {
      "cell_type": "markdown",
      "metadata": {
        "_cell_guid": "1c239bb6-b82e-e35b-7c3c-580c98094cce"
      },
      "source": [
        "Next, we create a function which will be able to conveniently store our feature rankings obtained from the various methods described here into a Python dictionary. In case you are thinking I created this function, no this is not the case. All credit goes to Ando Saabas and I am only trying to apply what he has discussed in this context."
      ]
    },
    {
      "cell_type": "code",
      "execution_count": null,
      "metadata": {
        "_cell_guid": "ecc7b17a-b6d5-7d6c-726d-de7b75c3c1eb"
      },
      "outputs": [],
      "source": [
        "# Define dictionary to store our rankings\n",
        "ranks = {}\n",
        "# Create our function which stores the feature rankings to the ranks dictionary\n",
        "def ranking(ranks, names, order=1):\n",
        "    minmax = MinMaxScaler()\n",
        "    ranks = minmax.fit_transform(order*np.array([ranks]).T).T[0]\n",
        "    ranks = map(lambda x: round(x,2), ranks)\n",
        "    return dict(zip(names, ranks))"
      ]
    },
    {
      "cell_type": "code",
      "execution_count": null,
      "metadata": {
        "_cell_guid": "a56e6fbf-1511-2ff7-0693-2f55aa0d21cd"
      },
      "outputs": [],
      "source": [
        "# Finally let's run our Selection Stability method with Randomized Lasso\n",
        "rlasso = RandomizedLasso(alpha=0.04)\n",
        "rlasso.fit(X, Y)\n",
        "ranks[\"rlasso/Stability\"] = ranking(np.abs(rlasso.scores_), colnames)\n",
        "print('finished')"
      ]
    },
    {
      "cell_type": "markdown",
      "metadata": {
        "_cell_guid": "15244118-31f5-e2df-8ce0-34a6d8f5c729"
      },
      "source": [
        "# 3. Recursive Feature Elimination ( RFE )\n",
        "\n",
        "Now onto the next method in our feature ranking endeavour. Recursive Feature Elimination or RFE uses a model ( eg. linear Regression or SVM) to select either the best or worst-performing feature, and then excludes the feature. After this, the whole process is iterated until all features in the dataset are used up ( or up to a user-defined limit). Sklearn conveniently possesses a RFE function via the sklearn.feature_selection call and we will use this along with a simple linear regression model for our ranking search as follows:"
      ]
    },
    {
      "cell_type": "code",
      "execution_count": null,
      "metadata": {
        "_cell_guid": "e11f8021-2f8b-074b-d0cc-c6d9d6d8ae8e"
      },
      "outputs": [],
      "source": [
        "# Construct our Linear Regression model\n",
        "lr = LinearRegression(normalize=True)\n",
        "lr.fit(X,Y)\n",
        "#stop the search when only the last feature is left\n",
        "rfe = RFE(lr, n_features_to_select=1, verbose =3 )\n",
        "rfe.fit(X,Y)\n",
        "ranks[\"RFE\"] = ranking(list(map(float, rfe.ranking_)), colnames, order=-1)"
      ]
    },
    {
      "cell_type": "markdown",
      "metadata": {
        "_cell_guid": "c6457163-f8c0-85a7-d69f-5ca2a880010f"
      },
      "source": [
        "# 4. Linear Model Feature Ranking\n",
        "\n",
        "Now let's apply 3 different linear models (Linear, Lasso and Ridge Regression) and how the features are selected and prioritised via these models. To achieve this, I shall use the sklearn implementation of these models and in particular the attribute .coef to return the estimated coefficients for each feature in the linear model."
      ]
    },
    {
      "cell_type": "code",
      "execution_count": null,
      "metadata": {
        "_cell_guid": "64b0534b-c62a-7d85-e181-615b7a3743c9"
      },
      "outputs": [],
      "source": [
        "# Using Linear Regression\n",
        "lr = LinearRegression(normalize=True)\n",
        "lr.fit(X,Y)\n",
        "ranks[\"LinReg\"] = ranking(np.abs(lr.coef_), colnames)\n",
        "\n",
        "# Using Ridge \n",
        "ridge = Ridge(alpha = 7)\n",
        "ridge.fit(X,Y)\n",
        "ranks['Ridge'] = ranking(np.abs(ridge.coef_), colnames)\n",
        "\n",
        "# Using Lasso\n",
        "lasso = Lasso(alpha=.05)\n",
        "lasso.fit(X, Y)\n",
        "ranks[\"Lasso\"] = ranking(np.abs(lasso.coef_), colnames)"
      ]
    },
    {
      "cell_type": "markdown",
      "metadata": {
        "_cell_guid": "ee729bd0-270e-dc30-8fc8-b2d79873c4e1"
      },
      "source": [
        "# 5. Random Forest feature ranking\n",
        "\n",
        "Sklearn's Random Forest model also comes with it's own inbuilt feature ranking attribute and one can conveniently just call it via \"feature_importances_\". That is what we will be using as follows:"
      ]
    },
    {
      "cell_type": "code",
      "execution_count": null,
      "metadata": {
        "_cell_guid": "f013dad9-8855-530f-f792-48163dab2457"
      },
      "outputs": [],
      "source": [
        "rf = RandomForestRegressor(n_jobs=-1, n_estimators=50, verbose=3)\n",
        "rf.fit(X,Y)\n",
        "ranks[\"RF\"] = ranking(rf.feature_importances_, colnames)"
      ]
    },
    {
      "cell_type": "markdown",
      "metadata": {
        "_cell_guid": "20ed4bd0-29b6-86a8-0bb8-cd34424376d5"
      },
      "source": [
        "# 6. Creating the Feature Ranking Matrix\n",
        "\n",
        "We combine the scores from the various methods above and output it in a matrix form for convenient viewing as such:"
      ]
    },
    {
      "cell_type": "code",
      "execution_count": null,
      "metadata": {
        "_cell_guid": "b6eb5b25-cc7e-f1eb-6a7b-8f591b7e560e"
      },
      "outputs": [],
      "source": [
        "# Create empty dictionary to store the mean value calculated from all the scores\n",
        "r = {}\n",
        "for name in colnames:\n",
        "    r[name] = round(np.mean([ranks[method][name] \n",
        "                             for method in ranks.keys()]), 2)\n",
        " \n",
        "methods = sorted(ranks.keys())\n",
        "ranks[\"Mean\"] = r\n",
        "methods.append(\"Mean\")\n",
        " \n",
        "print(\"\\t%s\" % \"\\t\".join(methods))\n",
        "for name in colnames:\n",
        "    print(\"%s\\t%s\" % (name, \"\\t\".join(map(str, \n",
        "                         [ranks[method][name] for method in methods]))))"
      ]
    },
    {
      "cell_type": "markdown",
      "metadata": {
        "_cell_guid": "5d9d44d0-fd8d-894e-657f-81762195499c"
      },
      "source": [
        "Now, with the matrix above, the numbers and layout does not seem very easy or pleasant to the eye. Therefore, let's just collate the mean ranking score attributed to each of the feature and plot that via Seaborn's factorplot."
      ]
    },
    {
      "cell_type": "code",
      "execution_count": null,
      "metadata": {
        "_cell_guid": "daae301e-e669-b2b6-6978-cbcad579696c"
      },
      "outputs": [],
      "source": [
        "# Put the mean scores into a Pandas dataframe\n",
        "meanplot = pd.DataFrame(list(r.items()), columns= ['Feature','Mean Ranking'])\n",
        "\n",
        "# Sort the dataframe\n",
        "meanplot = meanplot.sort('Mean Ranking', ascending=False)"
      ]
    },
    {
      "cell_type": "code",
      "execution_count": null,
      "metadata": {
        "_cell_guid": "2bdfa64e-d23d-d042-5e9d-080beb245ece"
      },
      "outputs": [],
      "source": [
        "# Let's plot the ranking of the features\n",
        "sns.factorplot(x=\"Mean Ranking\", y=\"Feature\", data = meanplot, kind=\"bar\", size=4, aspect=1.9, palette='coolwarm')"
      ]
    },
    {
      "cell_type": "markdown",
      "metadata": {
        "_cell_guid": "7636811d-66b3-fa6d-a035-1b7874a1e30b"
      },
      "source": [
        "Well as you can see from our feature ranking endeavours, the top 3 features are 'lat', 'waterfront' and 'grade'. The bottom 3 are 'sqft_lot15', 'sqft_lot' and 'sqft_basement'. \n",
        "This sort of feature ranking can be really useful, especially if one has many many features in the dataset and would like to trim or cut off features that contribute negligibly."
      ]
    }
  ],
  "metadata": {
    "_change_revision": 0,
    "_is_fork": false,
    "kernelspec": {
      "display_name": "Python 3",
      "language": "python",
      "name": "python3"
    },
    "language_info": {
      "codemirror_mode": {
        "name": "ipython",
        "version": 3
      },
      "file_extension": ".py",
      "mimetype": "text/x-python",
      "name": "python",
      "nbconvert_exporter": "python",
      "pygments_lexer": "ipython3",
      "version": "3.6.0"
    }
  },
  "nbformat": 4,
  "nbformat_minor": 0
}