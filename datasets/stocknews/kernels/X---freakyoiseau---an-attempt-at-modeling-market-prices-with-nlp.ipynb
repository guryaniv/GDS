{
  "cells": [
    {
      "cell_type": "markdown",
      "metadata": {
        "_cell_guid": "b70058ba-13b5-ff4e-b62d-064e83e236ec"
      },
      "source": [
        "### An attempt at Modeling Stock market prices with NLP"
      ]
    },
    {
      "cell_type": "markdown",
      "metadata": {
        "_cell_guid": "e516ae42-16d5-ce6c-20b0-8e1cc1a9f5d6"
      },
      "source": [
        "![enter image description here][1]\n",
        "\n",
        "\n",
        "  [1]: http://cdn.images.express.co.uk/img/dynamic/22/590x/secondary/dow-jones-stocks-810706.jpg"
      ]
    },
    {
      "cell_type": "markdown",
      "metadata": {
        "_cell_guid": "b7beaa5c-f7a2-4764-56be-eb0822744139"
      },
      "source": [
        "In this Kernel we will make an attempt at predicting the DJIA trend with various methods ranging from Natural langage Processing to sequence based models.\n",
        "We will also try to inspect the models in order to undestand the methodology involved in each algorithm."
      ]
    },
    {
      "cell_type": "code",
      "execution_count": null,
      "metadata": {
        "_cell_guid": "730046fd-7b42-a27a-bab0-bacffd96b58a"
      },
      "outputs": [],
      "source": [
        "import pandas as pd\n",
        "import numpy as np\n",
        "import pprint\n",
        "import matplotlib.pyplot as plt\n",
        "import plotly.plotly as py\n",
        "%matplotlib inline\n",
        "plt.style.use('ggplot')"
      ]
    },
    {
      "cell_type": "code",
      "execution_count": null,
      "metadata": {
        "_cell_guid": "c29d7d87-96d9-3c59-0667-a74f28b679f0"
      },
      "outputs": [],
      "source": [
        "Table = pd.read_csv(\"../input/Combined_News_DJIA.csv\")"
      ]
    },
    {
      "cell_type": "code",
      "execution_count": null,
      "metadata": {
        "_cell_guid": "b5df8fa0-bccc-049d-0691-3733a038c3e1"
      },
      "outputs": [],
      "source": [
        "Table.info()"
      ]
    },
    {
      "cell_type": "markdown",
      "metadata": {
        "_cell_guid": "b76790e4-6bce-6d0f-310b-4e3bb99541d1"
      },
      "source": [
        "The metadata for the file show no missing data ,there is one numeric column Label containing the target we will try to predict. "
      ]
    },
    {
      "cell_type": "code",
      "execution_count": null,
      "metadata": {
        "_cell_guid": "05b4898a-910d-95b2-5942-61ff8c5f2d1d"
      },
      "outputs": [],
      "source": [
        "Table.Date = pd.to_datetime(Table.Date) # First convert The Date col to Date format\n",
        "fig = plt.figure(figsize=(20,10))\n",
        "plt.plot(Table.Date,Table.Label);"
      ]
    },
    {
      "cell_type": "markdown",
      "metadata": {
        "_cell_guid": "65170cba-64bf-fe99-61da-fb5968930956"
      },
      "source": [
        "This plot is not very informative but we can observe that **Bullish/bearish days seem following each other**, this is a well known phenomena in financial econometrics [(see Arch/Garch models )][1], we will see later if we can do somthing to capture this...\n",
        "This is much clearer using a calendar plot, from the library calmap for example, I added a snapshot below for a few years.\n",
        "\n",
        "\n",
        "  [1]: https://en.wikipedia.org/wiki/Autoregressive_conditional_heteroskedasticity"
      ]
    },
    {
      "cell_type": "markdown",
      "metadata": {
        "_cell_guid": "647500a9-a021-a2bb-e713-07c26f3fb5e8"
      },
      "source": [
        "![enter image description here][1]\n",
        "\n",
        "\n",
        "  [1]: https://cloud.githubusercontent.com/assets/22575341/26532195/9ba3fdaa-43fa-11e7-825c-e369f75cd4af.PNG"
      ]
    },
    {
      "cell_type": "code",
      "execution_count": null,
      "metadata": {
        "_cell_guid": "d916c44f-cd37-c743-82cd-05d394544b20"
      },
      "outputs": [],
      "source": [
        "Visualizing the actual Series can also be useful "
      ]
    },
    {
      "cell_type": "code",
      "execution_count": null,
      "metadata": {
        "_cell_guid": "62c0fffb-6de7-a5df-d76c-79b33f29e0b9"
      },
      "outputs": [],
      "source": [
        "index_price = pd.read_csv(\"../input/DJIA_table.csv\")\n",
        "index_price.Date = pd.to_datetime(index_price.Date)\n",
        "plt.figure(figsize=(10,8))\n",
        "plt.plot(index_price.Date, index_price.Close,label = \"DJIA closing price\");\n",
        "plt.plot(index_price.Date, index_price.Volume/100000,label = \"Volumes\");# scale volumes for readability\n",
        "plt.legend();\n",
        "plt.title(\"DJIA stocks\");"
      ]
    },
    {
      "cell_type": "code",
      "execution_count": null,
      "metadata": {
        "_cell_guid": "7b8b9712-03ea-58d9-3747-e56e5ce4e841"
      },
      "outputs": [],
      "source": [
        "print(\"Porportion of bullish days: {0:.2f}%\".format(Table.Label.mean()))"
      ]
    },
    {
      "cell_type": "markdown",
      "metadata": {
        "_cell_guid": "f622c0fd-f00a-9298-a2f8-4bff28589c59"
      },
      "source": [
        "## Let's start with a very basic bag-of-words model ##\n",
        "The intuition behind this simple model is that the occurence of some particular words or sequence of words in the reddit News is linked with an event which itself had an impact on the index.\n",
        "\n",
        "\n",
        " - We first need to clean the data, to avoid modeling too much noise we will use the python natural langage toolkit nltk\n",
        "\n"
      ]
    },
    {
      "cell_type": "code",
      "execution_count": null,
      "metadata": {
        "_cell_guid": "0098b815-46ce-56c9-f163-892c8c07e335"
      },
      "outputs": [],
      "source": [
        "from nltk.tokenize import word_tokenize\n",
        "from nltk.stem import SnowballStemmer\n",
        "from string import punctuation\n",
        "from nltk.corpus import stopwords\n",
        "snowball = SnowballStemmer(\"english\")"
      ]
    },
    {
      "cell_type": "code",
      "execution_count": null,
      "metadata": {
        "_cell_guid": "4ce24e55-48e0-39d4-24f4-7df0c7d7f257"
      },
      "outputs": [],
      "source": [
        "stem = lambda word: snowball.stem(word)\n",
        "punctuation = ''.join([p for p in punctuation if p not in ['.','!',\"?\",\"-\"]])"
      ]
    },
    {
      "cell_type": "code",
      "execution_count": null,
      "metadata": {
        "_cell_guid": "6b606d9a-ed57-17c1-c0f8-180c58f5d233"
      },
      "outputs": [],
      "source": [
        "def clean_text(text,stem=False,remove_punct='punct',remove_stopwords=False,return_list=False):\n",
        "    text=str(text)\n",
        "    if text.startswith(\"b'\"): # remove the byte types strings which have been converted to text\n",
        "        text=text[2:]\n",
        "    words = word_tokenize(text)\n",
        "        \n",
        "    # Optionally use stemmer\n",
        "    if stem:\n",
        "        words = [stem(w) for w in words]\n",
        "    if remove_punct:\n",
        "        if remove_punct=='all':\n",
        "            words = [re.sub(\"[^a-zA-Z\\.\\?\\!]\",\" \", w) for w in words]\n",
        "        elif remove_punct=='punct':\n",
        "            punct = set(punctuation)\n",
        "            words = [''.join(ch for ch in w if ch not in punct) for w in words]\n",
        "    if remove_stopwords:\n",
        "        stops = set(stopwords.words(\"english\"))\n",
        "        words = [w for w in words if w not in stops]\n",
        "    \n",
        "    words = [w for w in words if w not in ['','b']]\n",
        "    if return_list:\n",
        "        return(words)\n",
        "    else:\n",
        "        return ' '.join(words)"
      ]
    },
    {
      "cell_type": "code",
      "execution_count": null,
      "metadata": {
        "_cell_guid": "912a2a57-5b33-edca-fdcb-c1c5fcbff58c"
      },
      "outputs": [],
      "source": [
        "print(\"                 Raw                               ---               Cleaned\")\n",
        "for i ,(word1,word2) in enumerate(zip(Table.Top1,Table.Top1.map(lambda x: clean_text(x)))):\n",
        "    if i>15: break\n",
        "    print(word1[:50],'---',word2[:50])"
      ]
    },
    {
      "cell_type": "markdown",
      "metadata": {
        "_cell_guid": "67f911e0-e60f-3d7b-2f2f-8f4b4c8357d1"
      },
      "source": [
        "**Apply the cleaning over all news**"
      ]
    },
    {
      "cell_type": "code",
      "execution_count": null,
      "metadata": {
        "_cell_guid": "2c4b5775-f2a1-e1c1-1bf5-f1be720f861e"
      },
      "outputs": [],
      "source": [
        "%%time\n",
        "cols = [t for t in list(Table.columns) if t not in ['Label','Date']]\n",
        "CleanedTable = Table[cols].apply(lambda i: i.map(lambda x: clean_text(x)))"
      ]
    },
    {
      "cell_type": "markdown",
      "metadata": {
        "_cell_guid": "e03b4392-f169-b30e-53ee-2edf2aa333e2"
      },
      "source": [
        "**We now concatenate all columns in order to get a single document per day, made of all top 25 news We might drop the information related to the rank of the News but we thus have a dictionnary containing all words for a given day**"
      ]
    },
    {
      "cell_type": "code",
      "execution_count": null,
      "metadata": {
        "_cell_guid": "44c8536a-ea0a-9850-b17e-d06f94cb9deb"
      },
      "outputs": [],
      "source": [
        "corpus = []\n",
        "for i,line in enumerate(CleanedTable.index):\n",
        "    line_doc=''\n",
        "    for col in CleanedTable:\n",
        "        line_doc += \" \"+str(CleanedTable.ix[i,col])\n",
        "    corpus.append(line_doc)"
      ]
    },
    {
      "cell_type": "markdown",
      "metadata": {
        "_cell_guid": "6fd33e4e-8d97-5b17-a1b6-981e81608f70"
      },
      "source": [
        "We now vectorize those documents into a bag of words model counting the occurence of each word of the vocabulary.\n",
        "The second methods use tfidf Vectorizer, this methods weights the words by assuming that:\n",
        "\n",
        " - The frequency of word within a document represents the importance of this word in the document.\n",
        " - Terms occuring often across documents have a low discriminative power and then should be given a lower weight  \n",
        "\n",
        " You can find more information about this functions in the scikitlearn [Documentation][1] and [User Guide][2]\n",
        "\n",
        "\n",
        "  [1]: http://We%20now%20vectorize%20those%20documents%20into%20a%20bag%20of%20words%20model%20counting%20the%20occurence%20of%20each%20word%20of%20the%20vocabulary.%20The%20second%20methods%20use%20tfidf%20Vectorizer,%20this%20methods%20weights%20the%20words%20by%20assuming%20that:%20%201.%20The%20frequency%20of%20word%20within%20a%20document%20represents%20the%20importance%20of%20this%20word%20in%20the%20document.%202.%20Terms%20occuring%20often%20across%20documents%20have%20a%20low%20discriminative%20power%20and%20then%20should%20be%20given%20a%20lower%20weight%20%20%20%20%20You%20can%20find%20more%20information%20about%20this%20functions%20in%20the%20scikitlearn%20Documentation%20and%20User%20Guide%20%20%20%20%20http://scikit-learn.org/stable/modules/generated/sklearn.feature_extraction.text.CountVectorizer.html\n",
        "  [2]: http://scikit-learn.org/stable/modules/feature_extraction.html#text-feature-extraction"
      ]
    },
    {
      "cell_type": "code",
      "execution_count": null,
      "metadata": {
        "_cell_guid": "5f884bba-e5d2-024a-5877-a41ed1f897fc"
      },
      "outputs": [],
      "source": [
        "%%time\n",
        "from sklearn.feature_extraction.text import CountVectorizer,TfidfVectorizer\n",
        "data = pd.Series(corpus)\n",
        "cv = CountVectorizer(\n",
        "    analyzer ='word',\n",
        "    ngram_range=(1,3), # we include (1,3) ngrams since they might have a higher predictive power than single words \n",
        "    stop_words='english',\n",
        "    max_df = 0.7,\n",
        "    min_df=5 # from my experience the minimum robust occurence frequency for a word is in the range [4,15]\n",
        ")\n",
        "tf=TfidfVectorizer(\n",
        "    analyzer ='word',\n",
        "    ngram_range=(1,3),\n",
        "    stop_words='english',\n",
        "    max_df = 0.7,\n",
        "    min_df=5 \n",
        ")\n",
        "\n",
        "count_matrix = cv.fit_transform(data)\n",
        "tfidf_matrix = tf.fit_transform(data)"
      ]
    },
    {
      "cell_type": "code",
      "execution_count": null,
      "metadata": {
        "_cell_guid": "f4e4d6c8-f0fc-b1e6-4947-b6afefe5c034"
      },
      "outputs": [],
      "source": [
        "# train test split according to description\n",
        "X_train = tfidf_matrix[:1611]\n",
        "X_test = tfidf_matrix[1610:]\n",
        "y_train = Table.Label[:1611]\n",
        "y_test = Table.Label[1610:]"
      ]
    },
    {
      "cell_type": "markdown",
      "metadata": {
        "_cell_guid": "07313c22-03dc-eb5e-0383-82119eadace6"
      },
      "source": [
        "We will now fit a Logistic Regression with the tfidf matrix as input using gridsearch to find the optimal parameters."
      ]
    },
    {
      "cell_type": "code",
      "execution_count": null,
      "metadata": {
        "_cell_guid": "d7826bbe-f0d1-fa52-7be6-507e024053ec"
      },
      "outputs": [],
      "source": [
        "%%time\n",
        "from sklearn.linear_model import LogisticRegression\n",
        "import scipy\n",
        "from sklearn.model_selection import GridSearchCV\n",
        "lm = LogisticRegression()\n",
        "\n",
        "param_grid = {\n",
        "    'C': np.logspace(0.01,20,10),\n",
        "    \"penalty\" :['l1','l2']\n",
        "}\n",
        "\n",
        "gs = GridSearchCV(lm, param_grid,\n",
        "                        cv=3,\n",
        "                        n_jobs=-1,\n",
        "                        scoring=\"roc_auc\")\n",
        "gs.fit(X_train, y_train)"
      ]
    },
    {
      "cell_type": "code",
      "execution_count": null,
      "metadata": {
        "_cell_guid": "bfd71681-34e6-2bf5-924b-a49d21272d35"
      },
      "outputs": [],
      "source": [
        "lm = gs.best_estimator_\n",
        "print('best params:',gs.best_params_)\n",
        "print('best CV score:', gs.best_score_)\n",
        "\n",
        "lm.fit(X_train,y_train)\n",
        "print(\"Nb of significative features\",sum(np.abs(lm.coef_)[0]>0))\n",
        "print(\"{0:.2f}% of features excluded by regularization\".format((1-sum(np.abs(lm.coef_)[0]>0)/len(lm.coef_[0,:]))*100))"
      ]
    },
    {
      "cell_type": "code",
      "execution_count": null,
      "metadata": {
        "_cell_guid": "282e508b-9333-5498-68fd-ca843f426d66"
      },
      "outputs": [],
      "source": [
        "pred = lm.predict(X_test)\n",
        "from sklearn.metrics import accuracy_score,auc,roc_auc_score\n",
        "\n",
        "print(\"acc:\",accuracy_score(y_test,pred))\n",
        "print(\"auc:\",roc_auc_score(y_test,pred))"
      ]
    },
    {
      "cell_type": "markdown",
      "metadata": {
        "_cell_guid": "618ca2de-2ad6-789b-8833-b26788e8b6e8"
      },
      "source": [
        "The accuracy on the test set is very close from a random guess (0.5) and from the number of Positive Labels in the sample, the predictive power of this model is highly questionable.\n",
        "Cross validation suggests that the best set of hyperparameters induce almost no regularization, meaning that all variables are meaningful...\n",
        "\n",
        "Using the CountVectorizer instead similarly yields  poor results\n",
        "\n",
        "Nevertheless we can inspect the model weights and try to see which words are used for prediction."
      ]
    },
    {
      "cell_type": "code",
      "execution_count": null,
      "metadata": {
        "_cell_guid": "b3301a51-76ea-1b8c-5223-0d4c42a9f568"
      },
      "outputs": [],
      "source": [
        "var_imp = pd.DataFrame({\"features\":cv.get_feature_names(),\n",
        "              \"coefs\":pd.Series(lm.coef_[0,])})\n",
        "var_imp.index = var_imp.features\n",
        "var_imp['color'] = var_imp.coefs.map(lambda l: l>0)\n",
        "\n",
        "plot_table = pd.concat([var_imp.sort_values(by='coefs').head(20),var_imp.sort_values(by='coefs').tail(20)])\n",
        "dic = {True:'g',False:'r'}\n",
        "plot_table[\"coefs\"].plot(kind='barh',figsize = (10,13),\n",
        "                         color = plot_table.color.map(dic),\n",
        "                         title = \"Bag of word Feature Importance\",\n",
        "                         label=\"color\");"
      ]
    },
    {
      "cell_type": "markdown",
      "metadata": {
        "_cell_guid": "2b8ff0c4-7891-c625-892f-f01961337f80"
      },
      "source": [
        "We can now check if some expressions are included in the model and what is their \"impact\" on the DJIA price"
      ]
    },
    {
      "cell_type": "code",
      "execution_count": null,
      "metadata": {
        "_cell_guid": "619ef48b-f403-b9ce-4a84-705815101d26"
      },
      "outputs": [],
      "source": [
        "def print_coef(terms,print_errors=True,threshold=0.5):\n",
        "    for term in terms:\n",
        "        term=term.lower()\n",
        "        try:\n",
        "            if np.abs(var_imp.ix[term,\"coefs\"])>threshold:\n",
        "                print(\"Coef value for term\",'\"{}\"'.format(term),\"is : {0:.2}\".format(var_imp.ix[term,\"coefs\"]))\n",
        "            else:\n",
        "                if print_errors:\n",
        "                    print('The term \"{}\"is not highly significative'.format(term))\n",
        "        except:\n",
        "            if print_errors:\n",
        "                print('\"{}\" not in variables'.format(term))\n",
        "\n",
        "terms = ['global crisis','putin says','china trying','job losses',\"germany says\"\n",
        "         ,'killed civilians','globalization','afghan military','avian flu','tsunami hit',\"civil war\"]\n",
        "print_coef(terms)"
      ]
    },
    {
      "cell_type": "markdown",
      "metadata": {
        "_cell_guid": "100eb7a8-504f-33fa-121b-5415b8cf6439"
      },
      "source": [
        "We can confirm the poor results of the model since some words seem to have an opposite impact as what we would expect for example \"tsunami hit\" has a positive impact, the coefficients suggest that when germany is speaking this yields has a bad impact on the shares price of american industrial companies (this could be debated...).\n",
        "Nevertherless some coefficients make sense such as \"afghan military\" or \"avian flu\".\n",
        "## Let's check the influence of the mention of Country names in the model ##"
      ]
    },
    {
      "cell_type": "code",
      "execution_count": null,
      "metadata": {
        "_cell_guid": "a50ad4a2-7b48-cb2a-12c0-d1bf3e4ffd67"
      },
      "outputs": [],
      "source": [
        "from nltk.corpus import gazetteers\n",
        "# we import a list of all country names from nltk \n",
        "# and pass it through our function\n",
        "countries = gazetteers.words(fileids=\"countries.txt\")\n",
        "print_coef(countries,print_errors=False,threshold=5)"
      ]
    },
    {
      "cell_type": "markdown",
      "metadata": {
        "_cell_guid": "c1d2f4fa-7a58-2fd9-2b4f-630a918e72d4"
      },
      "source": [
        "Here again we can see some curious results, but we won't take the risk to comment them..."
      ]
    },
    {
      "cell_type": "code",
      "execution_count": null,
      "metadata": {
        "_cell_guid": "ae0ba970-b41c-bc32-9eb1-d00411a46fd7"
      },
      "outputs": [],
      "source": [
        ""
      ]
    }
  ],
  "metadata": {
    "_change_revision": 0,
    "_is_fork": false,
    "kernelspec": {
      "display_name": "Python 3",
      "language": "python",
      "name": "python3"
    },
    "language_info": {
      "codemirror_mode": {
        "name": "ipython",
        "version": 3
      },
      "file_extension": ".py",
      "mimetype": "text/x-python",
      "name": "python",
      "nbconvert_exporter": "python",
      "pygments_lexer": "ipython3",
      "version": "3.6.0"
    }
  },
  "nbformat": 4,
  "nbformat_minor": 0
}