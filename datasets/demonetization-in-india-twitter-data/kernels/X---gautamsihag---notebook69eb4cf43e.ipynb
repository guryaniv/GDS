{
  "cells": [
    {
      "cell_type": "code",
      "execution_count": null,
      "metadata": {
        "_cell_guid": "c70056ea-b449-aba0-d2bb-8d9003ef3009"
      },
      "outputs": [],
      "source": [
        "import numpy as np # linear algebra\n",
        "import pandas as pd # data processing, CSV file I/O (e.g. pd.read_csv)\n",
        "%matplotlib inline\n",
        "import matplotlib.pyplot as plt\n",
        "import re\n",
        "import seaborn as sns\n",
        "from IPython.display import display\n",
        "pd.options.mode.chained_assignment = None\n",
        "import matplotlib\n",
        "matplotlib.style.use('ggplot')"
      ]
    },
    {
      "cell_type": "code",
      "execution_count": null,
      "metadata": {
        "_cell_guid": "8085922e-3670-172b-7cde-406486bdbead"
      },
      "outputs": [],
      "source": [
        "tweets = pd.read_csv('../input/demonetization-tweets.csv', encoding = \"ISO-8859-1\")"
      ]
    },
    {
      "cell_type": "code",
      "execution_count": null,
      "metadata": {
        "_cell_guid": "3fc98aec-f7e6-32e0-e53a-327bf5cdb177"
      },
      "outputs": [],
      "source": [
        "tweets.head(5)"
      ]
    },
    {
      "cell_type": "code",
      "execution_count": null,
      "metadata": {
        "_cell_guid": "dc82f11c-90b3-a795-a25f-7351bc5e7e25"
      },
      "outputs": [],
      "source": [
        "tweets.columns"
      ]
    },
    {
      "cell_type": "code",
      "execution_count": null,
      "metadata": {
        "_cell_guid": "b6f63bb7-0fa1-c570-4c0b-20e6574364d5"
      },
      "outputs": [],
      "source": [
        "a = tweets['statusSource'].str.split('/', expand=True)[4].str.split('\"')\n",
        "#display(tweets['statusSource'].str.split('/download/', expand=True))"
      ]
    },
    {
      "cell_type": "code",
      "execution_count": null,
      "metadata": {
        "_cell_guid": "e2032bfe-b07c-9e3d-9940-ead4e38563dd"
      },
      "outputs": [],
      "source": [
        "source_ios = tweets['statusSource'].str.contains('iphone', na=False)\n",
        "source_android = tweets['statusSource'].str.contains('android', na=False)"
      ]
    },
    {
      "cell_type": "code",
      "execution_count": null,
      "metadata": {
        "_cell_guid": "400d72c1-af7a-627d-676c-4c9d379036af"
      },
      "outputs": [],
      "source": [
        "len(a)"
      ]
    },
    {
      "cell_type": "markdown",
      "metadata": {
        "_cell_guid": "b45a30fe-d99a-3c5a-9399-560de2f4e26a"
      },
      "source": [
        "for index_val, series_val in a.iteritems():\n",
        "    if series_val is not None:\n",
        "        print (series_val[0])"
      ]
    },
    {
      "cell_type": "code",
      "execution_count": null,
      "metadata": {
        "_cell_guid": "82dfd204-e2d6-669e-c3a6-a0c7e13424ef"
      },
      "outputs": [],
      "source": [
        "import re"
      ]
    },
    {
      "cell_type": "code",
      "execution_count": null,
      "metadata": {
        "_cell_guid": "0f81e07b-9ac8-d21f-889f-5ad6f4cb0eef"
      },
      "outputs": [],
      "source": [
        "len(tweets['text'][source_android])"
      ]
    },
    {
      "cell_type": "code",
      "execution_count": null,
      "metadata": {
        "_cell_guid": "65e3ba19-dedd-a994-ba1b-4853471ac34d"
      },
      "outputs": [],
      "source": [
        "and_peops = tweets['text'][source_android]\n",
        "and_peops = b.reset_index(drop=True)\n"
      ]
    },
    {
      "cell_type": "code",
      "execution_count": null,
      "metadata": {
        "_cell_guid": "6445b4c3-40b6-7385-f2c7-f0ef3d6952a0"
      },
      "outputs": [],
      "source": [
        "ios_peops = tweets['text'][source_ios]\n",
        "ios_peops = ios_peops.reset_index(drop=True)"
      ]
    },
    {
      "cell_type": "markdown",
      "metadata": {
        "_cell_guid": "d646c309-574d-f6b2-565a-b958cc3355c5"
      },
      "source": [
        "for i in range(len(ios_peops)):\n",
        "    print(ios_peops[i])"
      ]
    },
    {
      "cell_type": "code",
      "execution_count": null,
      "metadata": {
        "_cell_guid": "907064b3-0099-9795-a917-994eac76b255"
      },
      "outputs": [],
      "source": [
        "tweets['text_new_and'] = ''\n",
        "for i in range(len(and_peops)):\n",
        "    m = re.search('(?<=:)(.*)', and_peops[i])\n",
        "    try:\n",
        "        tweets['text_new_and'][i] = m.group(0)\n",
        "    except AttributeError:\n",
        "        tweets['text_new_and'][i] = and_peops[i]"
      ]
    },
    {
      "cell_type": "code",
      "execution_count": null,
      "metadata": {
        "_cell_guid": "4b73a307-3257-6744-e97f-95be9708b76d"
      },
      "outputs": [],
      "source": [
        "tweets['text_new_ios'] = ''\n",
        "for i in range(len(ios_peops)):\n",
        "    m = re.search('(?<=:)(.*)', ios_peops[i])\n",
        "    try:\n",
        "        tweets['text_new_ios'][i] = m.group(0)\n",
        "    except AttributeError:\n",
        "        tweets['text_new_ios'][i] = ios_peops[i]"
      ]
    },
    {
      "cell_type": "code",
      "execution_count": null,
      "metadata": {
        "_cell_guid": "65c2b001-8767-e024-e39c-44e453cf31dc"
      },
      "outputs": [],
      "source": [
        "tweets['tweetos_and'] = ''\n",
        "for i in range(len(and_peops)):\n",
        "    try:\n",
        "        tweets['tweetos_and'][i] = and_peops.str.split(':')[i][0]\n",
        "    except AttributeError:    \n",
        "        tweets['tweetos_and'][i] = 'other'"
      ]
    },
    {
      "cell_type": "code",
      "execution_count": null,
      "metadata": {
        "_cell_guid": "f8d49542-d394-b1c2-7589-1cdd46a35af0"
      },
      "outputs": [],
      "source": [
        "tweets['tweetos_ios'] = ''\n",
        "for i in range(len(and_peops)):\n",
        "    try:\n",
        "        tweets['tweetos_ios'][i] = and_peops.str.split(':')[i][0]\n",
        "    except AttributeError:    \n",
        "        tweets['tweetos_ios'][i] = 'other'"
      ]
    },
    {
      "cell_type": "code",
      "execution_count": null,
      "metadata": {
        "_cell_guid": "22ac92e3-ced6-074e-cead-16a6ac0b9385"
      },
      "outputs": [],
      "source": [
        "from wordcloud import WordCloud, STOPWORDS\n",
        "import matplotlib.pyplot as plt\n",
        "\n",
        "def wordcloud_by_province(tweets):\n",
        "    stopwords = set(STOPWORDS)\n",
        "    stopwords.add(\"https\")\n",
        "    stopwords.add(\"00A0\")\n",
        "    stopwords.add(\"00BD\")\n",
        "    stopwords.add(\"00A2\")\n",
        "    stopwords.add(\"00B8\")\n",
        "    stopwords.add(\"00AD\")\n",
        "    stopwords.add(\"co\")\n",
        "    stopwords.add(\"ed\")\n",
        "    stopwords.add(\"AMP\")\n",
        "    stopwords.add(\"demonetization\")\n",
        "    stopwords.add(\"Demonetization co\")\n",
        "    stopwords.add(\"lakh\")\n",
        "    wordcloud = WordCloud(background_color=\"white\",stopwords=stopwords,random_state = 2016).generate(\" \".join([i for i in tweets['text_new_and'].str.upper()]))\n",
        "    plt.imshow(wordcloud)\n",
        "    plt.axis(\"off\")\n",
        "    #plt.title(\"Demonetization\")\n",
        "\n",
        "wordcloud_by_province(tweets)"
      ]
    }
  ],
  "metadata": {
    "_change_revision": 0,
    "_is_fork": false,
    "kernelspec": {
      "display_name": "Python 3",
      "language": "python",
      "name": "python3"
    },
    "language_info": {
      "codemirror_mode": {
        "name": "ipython",
        "version": 3
      },
      "file_extension": ".py",
      "mimetype": "text/x-python",
      "name": "python",
      "nbconvert_exporter": "python",
      "pygments_lexer": "ipython3",
      "version": "3.5.2"
    }
  },
  "nbformat": 4,
  "nbformat_minor": 0
}