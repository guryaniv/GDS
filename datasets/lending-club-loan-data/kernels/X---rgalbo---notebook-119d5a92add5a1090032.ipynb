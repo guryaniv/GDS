{"cells":[
 {
  "cell_type": "markdown",
  "metadata": {},
  "source": "# Loan Size and ROI\n\n### Lets look at the loans themselves and how they preform for Lending Club\n\nAs I am analyzing this data the most recent rates are:   \n   - 30-Year Fixed 3.64%   \n   - 15-Year Fixed 2.76%\n   \nTo look at the value of loans, lets consider the funded_amnt_inv variable which is described as \n\"The total amount committed by investors for that loan at that point in time\". This represents the\nprinciple amount of the loan.\n\nBy understanding the loan amounts we will be able to see what types of loans do the best for LC and\nwhich have the highest rates of return."
 },
 {
  "cell_type": "code",
  "execution_count": null,
  "metadata": {
   "collapsed": false
  },
  "outputs": [],
  "source": "import pandas as pd\nimport numpy as np\nfrom matplotlib import pyplot as plt\n\n#read the loan data\n#parse dates for easy time slicing\nld = pd.read_csv('../input/loan.csv',low_memory=False, parse_dates = True)\n\n#determine the percet full for each variable\npct_full = ld.count()/len(ld)\nnames = list(pct_full[pct_full > 0.75].index)\n\n#reduce to mostly full data\nloan = ld[names]"
 },
 {
  "cell_type": "code",
  "execution_count": null,
  "metadata": {
   "collapsed": false
  },
  "outputs": [],
  "source": "import seaborn as sns\nimport matplotlib\n\n#I swear it makes graphs more meaningful\nplt.style.use('fivethirtyeight')\n\n#lets look at the distirbution of the loan amount\namount_hist = loan.funded_amnt_inv.hist()\namount_hist.set_title('Histogram of Loan Amount')"
 },
 {
  "cell_type": "code",
  "execution_count": null,
  "metadata": {
   "collapsed": false
  },
  "outputs": [],
  "source": "#the average loan is a little less than $15,000.00\nloan.funded_amnt_inv.describe()\n#np.median(loan.funded_amnt)"
 },
 {
  "cell_type": "markdown",
  "metadata": {},
  "source": "From this initial look at the loan size we can see that the majority of the loans are around\n$10,000 and that the loan amount distribution has right skew and fat tails. By segmenting the loan \namounts by subgroups, we can paint a better picture of LC lending practices."
 },
 {
  "cell_type": "code",
  "execution_count": null,
  "metadata": {
   "collapsed": false
  },
  "outputs": [],
  "source": "#look at difference between the length of the loans 36 vs. 60 month loans\ntermGroup = loan.groupby('term')\ntermGroup['funded_amnt_inv'].agg([np.count_nonzero, np.mean, np.std])"
 },
 {
  "cell_type": "markdown",
  "metadata": {},
  "source": "We can see that there the majority of the loans(a little over 3/4ths) are 3 year loans and are for less \nprincipal than the 5year loans as we would expect."
 },
 {
  "cell_type": "markdown",
  "metadata": {},
  "source": "## Loans Over Time\n\nLets look at the loan sizing and number of loans overtime"
 },
 {
  "cell_type": "code",
  "execution_count": null,
  "metadata": {
   "collapsed": false
  },
  "outputs": [],
  "source": "#summarize loans by month\n\n#hide the ugly warning\n#!usually should set on copy of original data when creating variables!\npd.options.mode.chained_assignment = None \n\n#make new variable to groupby for month and year\nloan['issue_mo'] = loan.issue_d.str[0:3]\nloan['issue_year'] = loan.issue_d.str[4:]\n\nloan_by_month = loan.groupby(['issue_year','issue_mo'])\n\navgLoanSizeByMonth = loan_by_month['funded_amnt_inv'].agg(np.mean).plot()\navgLoanSizeByMonth.set_title('Avg. Loan Size By Month')"
 },
 {
  "cell_type": "code",
  "execution_count": null,
  "metadata": {
   "collapsed": false
  },
  "outputs": [],
  "source": "NumLoansPerMo = loan_by_month.id.agg(np.count_nonzero).plot()\nNumLoansPerMo.set_title('Number of Loans By Month')\nNumLoansPerMo.set_xlabel('Issue Month')"
 },
 {
  "cell_type": "code",
  "execution_count": null,
  "metadata": {
   "collapsed": false
  },
  "outputs": [],
  "source": "#less granular look at loan volume\nloanByYr = loan.groupby('issue_year')\nloanYrPlt = loanByYr.id.agg(np.count_nonzero).plot(kind = 'bar')\nloanYrPlt.set_title('Num Loans By Year')\nloanYrPlt.set_xlabel('Issue Year')"
 },
 {
  "cell_type": "code",
  "execution_count": null,
  "metadata": {
   "collapsed": false
  },
  "outputs": [],
  "source": "import calendar\n#get the counts by month\nloanByMo = loan.groupby(['issue_d', 'issue_mo'])\nnumByDate = loanByMo.agg(np.count_nonzero).reset_index()\n\n#average the monthly counts across years\ncounts_by_month = numByDate.groupby('issue_mo')\navg_loan_vol = counts_by_month.id.agg(np.mean)\n\n\nmoOrder = calendar.month_abbr[1:13]\nmo_plt = sns.barplot(x = list(avg_loan_vol.index),y = avg_loan_vol, order = moOrder, palette = \"GnBu_d\")\nmo_plt.set_title('Avg. Loan Volume Per Month')"
 },
 {
  "cell_type": "markdown",
  "metadata": {},
  "source": "## Loans By Month and Year\nThere are a few conclusions that can be reached looking at the last few charts:   \n\n- We can se that the number of loans that LC is giving overtime is increasing as we would expect \nwith a company that is rapidly growing. I assume that such a rapid growth curve in the number of \nloans will be accompanied by a decrease in the overall quality of the loans.\n\n- There does appear to be some seasonal trends in the number of loans given within the year. \nThere peaks occuring in July and October which show small trending build ups between months. It is hard\nto say if these seasonal trends are the same by year, we would have to break the monthly loans down\ninto years. This will be done as follows."
 },
 {
  "cell_type": "markdown",
  "metadata": {},
  "source": "## Loan Volume Over Time: Intrayear"
 },
 {
  "cell_type": "code",
  "execution_count": null,
  "metadata": {
   "collapsed": false
  },
  "outputs": [],
  "source": "#get the counts by mo/year\nloanByMo = loan.groupby(['issue_d','issue_year','issue_mo'])\nnumByDate = loanByMo.agg(np.count_nonzero).reset_index()\n\n#get the individual years\nyears = np.unique(loan.issue_year)\n\n#just looking at the first year\ntmp_agg = numByDate[numByDate.issue_year == '2007']\ntmp_plt = sns.barplot(x = tmp_agg.issue_mo,y = tmp_agg.id, order = moOrder, palette = \"GnBu_d\")\ntmp_plt.set_title('Loans By Month: 2007')"
 },
 {
  "cell_type": "code",
  "execution_count": null,
  "metadata": {
   "collapsed": false
  },
  "outputs": [],
  "source": "#plot the years in stacked graphs\nf, (ax1, ax2, ax3, ax4, ax5, ax6, ax7, ax8, ax9) = plt.subplots(9, 1, figsize=(5, 8), sharex=True)\n\n#being lazy and not wanting to figure out a better way to do this\n#Please let me know if any of you know a better way\ny1 = numByDate[numByDate.issue_year == '2007']\ny2 = numByDate[numByDate.issue_year == '2008']\ny3 = numByDate[numByDate.issue_year == '2009']\ny4 = numByDate[numByDate.issue_year == '2010']\ny5 = numByDate[numByDate.issue_year == '2011']\ny6 = numByDate[numByDate.issue_year == '2012']\ny7 = numByDate[numByDate.issue_year == '2013']\ny8 = numByDate[numByDate.issue_year == '2014']\ny9 = numByDate[numByDate.issue_year == '2015']\n\nsns.barplot(y1.issue_mo, y1.id, order = moOrder, palette=\"BuGn_d\", ax=ax1)\nax1.set_ylabel(\"2007\")\n\nsns.barplot(x = y2.issue_mo,y = y2.id, order = moOrder, palette=\"BuGn_d\", ax=ax2)\nax2.set_ylabel(\"2008\")\n\nsns.barplot(x = y3.issue_mo,y = y3.id, order = moOrder, palette=\"BuGn_d\", ax=ax3)\nax3.set_ylabel(\"2009\")\n\nsns.barplot(x = y4.issue_mo,y = y4.id, order = moOrder, palette=\"BuGn_d\", ax=ax4)\nax4.set_ylabel(\"2010\")\n\nsns.barplot(x = y5.issue_mo,y = y5.id, order = moOrder, palette=\"BuGn_d\", ax=ax5)\nax5.set_ylabel(\"2011\")\n\nsns.barplot(x = y6.issue_mo,y = y6.id, order = moOrder, palette=\"BuGn_d\", ax=ax6)\nax6.set_ylabel(\"2012\")\n\nsns.barplot(x = y7.issue_mo,y = y7.id, order = moOrder, palette=\"BuGn_d\", ax=ax7)\nax7.set_ylabel(\"2013\")\n\nsns.barplot(x = y8.issue_mo,y = y8.id, order = moOrder, palette=\"BuGn_d\", ax=ax8)\nax8.set_ylabel(\"2014\")\n\nsns.barplot(x = y9.issue_mo, y = y9.id, order = moOrder, palette=\"BuGn_d\", ax=ax9)\nax9.set_ylabel(\"2015\")\n\n#look better\nsns.despine(bottom=True)\nplt.setp(f.axes, yticks = [], xlabel = '')\nplt.tight_layout()"
 },
 {
  "cell_type": "markdown",
  "metadata": {},
  "source": "So although these graphs aren't layed out in the best way, we can see that when plotted per year,\nthe seasonality is essentially non-existent but because the volume in the past few years has been so much \nhigher the monthly averages are skewed by the last few years. The previously precieved seasonality was just\na concequence of some higher volumes in 2014-2015. It might be the case that a sesonal pattern is \ndeveloping or could be exposed through standardizing the loan volumes."
 },
 {
  "cell_type": "code",
  "execution_count": null,
  "metadata": {
   "collapsed": false
  },
  "outputs": [],
  "source": "loan['pct_paid'] = loan.out_prncp / loan.loan_amnt\n\nloan[loan.loan_status == 'Current'].pct_paid.hist(bins = 50)"
 }
],"metadata":{"kernelspec":{"display_name":"Python 3","language":"python","name":"python3"}}, "nbformat": 4, "nbformat_minor": 0}