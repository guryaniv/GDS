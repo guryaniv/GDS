{
  "cells": [
    {
      "cell_type": "code",
      "execution_count": null,
      "metadata": {
        "_cell_guid": "e3d49a73-f01b-613b-3e4b-55aa0f41468e"
      },
      "outputs": [],
      "source": [
        "# This Python 3 environment comes with many helpful analytics libraries installed\n",
        "# It is defined by the kaggle/python docker image: https://github.com/kaggle/docker-python\n",
        "# For example, here's several helpful packages to load in \n",
        "\n",
        "import numpy as np # linear algebra\n",
        "import pandas as pd # data processing, CSV file I/O (e.g. pd.read_csv)\n",
        "\n",
        "# Input data files are available in the \"../input/\" directory.\n",
        "# For example, running this (by clicking run or pressing Shift+Enter) will list the files in the input directory\n",
        "\n",
        "from subprocess import check_output\n",
        "print(check_output([\"ls\", \"../input\"]).decode(\"utf8\"))\n",
        "\n",
        "# Any results you write to the current directory are saved as output."
      ]
    },
    {
      "cell_type": "code",
      "execution_count": null,
      "metadata": {
        "_cell_guid": "fb139a26-f7bc-0ba3-568d-a243b6d88822"
      },
      "outputs": [],
      "source": [
        "train_df = pd.read_csv(\"../input/train_2016.csv\", parse_dates=[\"transactiondate\"])\n",
        "train_df.shape"
      ]
    },
    {
      "cell_type": "code",
      "execution_count": null,
      "metadata": {
        "_cell_guid": "d15b3d50-5b02-6b9a-b9e4-44bf878022b6"
      },
      "outputs": [],
      "source": [
        "train_df.head()"
      ]
    },
    {
      "cell_type": "code",
      "execution_count": null,
      "metadata": {
        "_cell_guid": "8721a001-fb70-ae04-bb1e-2b2d03159c95"
      },
      "outputs": [],
      "source": [
        "import matplotlib.pyplot as plt\n",
        "import seaborn as sns\n",
        "color = sns.color_palette()\n",
        "\n",
        "%matplotlib inline"
      ]
    },
    {
      "cell_type": "code",
      "execution_count": null,
      "metadata": {
        "_cell_guid": "0cfeec7e-2116-303b-2a05-52539f080879"
      },
      "outputs": [],
      "source": [
        "plt.figure(figsize=(8,6))\n",
        "plt.scatter(range(train_df.shape[0]), np.sort(train_df.logerror.values))\n",
        "plt.xlabel('index', fontsize=12)\n",
        "plt.ylabel('logerror', fontsize=12)\n",
        "plt.show()"
      ]
    },
    {
      "cell_type": "code",
      "execution_count": null,
      "metadata": {
        "_cell_guid": "508a1f35-6e63-a2bb-1b1b-f7c71f192707"
      },
      "outputs": [],
      "source": [
        "ulimit = np.percentile(train_df.logerror.values, 99)\n",
        "llimit = np.percentile(train_df.logerror.values, 1)\n",
        "train_df['logerror'].ix[train_df['logerror']>ulimit] = ulimit\n",
        "train_df['logerror'].ix[train_df['logerror']<llimit] = llimit\n",
        "\n",
        "plt.figure(figsize=(12,8))\n",
        "sns.distplot(train_df.logerror.values, bins=50, kde=False)\n",
        "plt.xlabel('logerror', fontsize=12)\n",
        "plt.show()"
      ]
    },
    {
      "cell_type": "code",
      "execution_count": null,
      "metadata": {
        "_cell_guid": "030c2f5b-384c-180d-0c2c-e5dcaceb17b9"
      },
      "outputs": [],
      "source": [
        "submission_pd = pd.read_csv(\"../input/sample_submission.csv\")"
      ]
    },
    {
      "cell_type": "code",
      "execution_count": null,
      "metadata": {
        "_cell_guid": "339216fc-31d4-d09d-7fd3-445145a7ed8b"
      },
      "outputs": [],
      "source": [
        "submission_pd.shape"
      ]
    },
    {
      "cell_type": "code",
      "execution_count": null,
      "metadata": {
        "_cell_guid": "dfdadc35-3dc3-3ab3-0010-f6bbafdf9ffe"
      },
      "outputs": [],
      "source": [
        "submission_pd.head()"
      ]
    },
    {
      "cell_type": "code",
      "execution_count": null,
      "metadata": {
        "_cell_guid": "9d310e97-d9b2-9f26-9c91-7b8046c5f9c9"
      },
      "outputs": [],
      "source": [
        "submission_pd['201610'] = np.random.normal(0.0, 1.0, submission_pd.shape[0])"
      ]
    },
    {
      "cell_type": "code",
      "execution_count": null,
      "metadata": {
        "_cell_guid": "e1843dbe-1fc1-ec17-6534-094c7efe05f0"
      },
      "outputs": [],
      "source": [
        "submission_pd['201611'] = np.random.normal(0.0, 1.0, submission_pd.shape[0])"
      ]
    },
    {
      "cell_type": "code",
      "execution_count": null,
      "metadata": {
        "_cell_guid": "aff88268-5dd7-26c6-840e-37f3d10e3ec6"
      },
      "outputs": [],
      "source": [
        "submission_pd['201612'] = np.random.normal(0.0, 1.0, submission_pd.shape[0])"
      ]
    },
    {
      "cell_type": "code",
      "execution_count": null,
      "metadata": {
        "_cell_guid": "31c41627-1b74-2081-2a07-128cbe0ef9a1"
      },
      "outputs": [],
      "source": [
        "submission_pd['201711'] = np.random.normal(0.0, 1.0, submission_pd.shape[0])"
      ]
    },
    {
      "cell_type": "code",
      "execution_count": null,
      "metadata": {
        "_cell_guid": "82a5dd36-9f07-4e3d-3117-97dd7876309d"
      },
      "outputs": [],
      "source": [
        "submission_pd['201712'] = np.random.normal(0.0, 1.0, submission_pd.shape[0])"
      ]
    },
    {
      "cell_type": "code",
      "execution_count": null,
      "metadata": {
        "_cell_guid": "317841c9-3a8e-6c93-800c-382056df8c53"
      },
      "outputs": [],
      "source": [
        "submission_pd.to_csv(\"submissions.csv\", index= False)"
      ]
    },
    {
      "cell_type": "code",
      "execution_count": null,
      "metadata": {
        "_cell_guid": "33a5fcd5-24db-d96b-7aba-7d48400767c9"
      },
      "outputs": [],
      "source": [
        "out = pd.read_csv(\"submissions.csv\")"
      ]
    },
    {
      "cell_type": "code",
      "execution_count": null,
      "metadata": {
        "_cell_guid": "060badeb-8540-d5fc-bc91-705d9e8c7a8c"
      },
      "outputs": [],
      "source": [
        "out.shape"
      ]
    },
    {
      "cell_type": "code",
      "execution_count": null,
      "metadata": {
        "_cell_guid": "41710b5a-c346-3bf2-ae8c-357ccf8b8518"
      },
      "outputs": [],
      "source": [
        "out.head"
      ]
    },
    {
      "cell_type": "code",
      "execution_count": null,
      "metadata": {
        "_cell_guid": "37de3dde-de68-bf18-3115-b55dfa0ec6e1"
      },
      "outputs": [],
      "source": [
        ""
      ]
    }
  ],
  "metadata": {
    "_change_revision": 0,
    "_is_fork": false,
    "kernelspec": {
      "display_name": "Python 3",
      "language": "python",
      "name": "python3"
    },
    "language_info": {
      "codemirror_mode": {
        "name": "ipython",
        "version": 3
      },
      "file_extension": ".py",
      "mimetype": "text/x-python",
      "name": "python",
      "nbconvert_exporter": "python",
      "pygments_lexer": "ipython3",
      "version": "3.6.0"
    }
  },
  "nbformat": 4,
  "nbformat_minor": 0
}