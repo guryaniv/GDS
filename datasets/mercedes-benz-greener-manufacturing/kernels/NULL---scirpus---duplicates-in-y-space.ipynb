{
  "cells": [
    {
      "cell_type": "markdown",
      "metadata": {
        "_cell_guid": "c1195ffc-65d5-172f-8874-001b797da0ef"
      },
      "source": [
        "Another duplicate detector"
      ]
    },
    {
      "cell_type": "code",
      "execution_count": null,
      "metadata": {
        "_cell_guid": "12fa76ce-927e-ebcd-5c9b-d8326050d98b"
      },
      "outputs": [],
      "source": [
        "import numpy as np # linear algebra\n",
        "import pandas as pd # data processing, CSV file I/O (e.g. pd.read_csv)"
      ]
    },
    {
      "cell_type": "code",
      "execution_count": null,
      "metadata": {
        "_cell_guid": "bbf063ac-53ee-2b8b-2237-9ddc82651768"
      },
      "outputs": [],
      "source": [
        "train = pd.read_csv('../input/train.csv')"
      ]
    },
    {
      "cell_type": "code",
      "execution_count": null,
      "metadata": {
        "_cell_guid": "3ddbb05a-adbc-20a6-fd16-667bbf6cb2f1"
      },
      "outputs": [],
      "source": [
        "for c in train.columns[2:]:\n",
        "        stats = train.groupby([c])['y'].mean().reset_index().rename(columns={c: c,\n",
        "                                                                             'y': c+'_mean'})\n",
        "        x = train.merge(stats, on=c, how='left')\n",
        "        train[c+'_mean'] = x[c+'_mean']\n",
        "        train.drop(c,inplace=True,axis=1)"
      ]
    },
    {
      "cell_type": "code",
      "execution_count": null,
      "metadata": {
        "_cell_guid": "55f15374-9951-d8aa-dab4-57fe19dd611d"
      },
      "outputs": [],
      "source": [
        "remove = []\n",
        "c = train.columns\n",
        "for i in range(len(c)):\n",
        "    v = train[c[i]].values\n",
        "    for j in range(i+1, len(c)):\n",
        "        if np.array_equal(v, train[c[j]].values):\n",
        "            remove.append(c[j])"
      ]
    },
    {
      "cell_type": "code",
      "execution_count": null,
      "metadata": {
        "_cell_guid": "6974aeb9-d3e5-d4c3-4090-91f03f5a6cc6"
      },
      "outputs": [],
      "source": [
        "dupes = []\n",
        "for r in remove:\n",
        "    dupes.append(r.replace('_mean',''))\n",
        "dupes = np.unique(dupes)\n",
        "dupes = sorted(dupes)"
      ]
    },
    {
      "cell_type": "code",
      "execution_count": null,
      "metadata": {
        "_cell_guid": "bd6df816-78fe-24e4-abce-51192c434c10"
      },
      "outputs": [],
      "source": [
        "print(dupes)"
      ]
    }
  ],
  "metadata": {
    "_change_revision": 0,
    "_is_fork": false,
    "kernelspec": {
      "display_name": "Python 3",
      "language": "python",
      "name": "python3"
    },
    "language_info": {
      "codemirror_mode": {
        "name": "ipython",
        "version": 3
      },
      "file_extension": ".py",
      "mimetype": "text/x-python",
      "name": "python",
      "nbconvert_exporter": "python",
      "pygments_lexer": "ipython3",
      "version": "3.6.0"
    }
  },
  "nbformat": 4,
  "nbformat_minor": 0
}