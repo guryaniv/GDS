{
  "cells": [
    {
      "cell_type": "code",
      "execution_count": null,
      "metadata": {
        "_cell_guid": "8a409113-2b77-2c1c-9042-a0508e9dc10a"
      },
      "outputs": [],
      "source": [
        "import numpy as np\n",
        "import scipy as sp\n",
        "import matplotlib.pyplot as plt\n",
        "import pandas as pd\n",
        "%matplotlib inline\n",
        "\n",
        "from sklearn import tree"
      ]
    },
    {
      "cell_type": "code",
      "execution_count": null,
      "metadata": {
        "_cell_guid": "73d72699-6f3e-7f8b-c6e0-8ccf5cebdec4"
      },
      "outputs": [],
      "source": [
        "train_df = pd.read_csv('../input/train.csv')\n",
        "test_df = pd.read_csv('../input/test.csv')"
      ]
    },
    {
      "cell_type": "code",
      "execution_count": null,
      "metadata": {
        "_cell_guid": "976c92ac-1e67-b7cb-fafb-47d531d0449b"
      },
      "outputs": [],
      "source": [
        "train_df.info()"
      ]
    },
    {
      "cell_type": "code",
      "execution_count": null,
      "metadata": {
        "_cell_guid": "35357c2e-0b29-6b89-2efd-40f9a355e1b2"
      },
      "outputs": [],
      "source": [
        "train_df.describe()"
      ]
    },
    {
      "cell_type": "code",
      "execution_count": null,
      "metadata": {
        "_cell_guid": "46bfe813-2b9e-29b1-aeeb-73ac3c181c0f"
      },
      "outputs": [],
      "source": [
        "train_df.head()"
      ]
    },
    {
      "cell_type": "code",
      "execution_count": null,
      "metadata": {
        "_cell_guid": "b8724a5e-4636-ad55-5576-b75cf417dcba"
      },
      "outputs": [],
      "source": [
        "test_df.head()"
      ]
    },
    {
      "cell_type": "code",
      "execution_count": null,
      "metadata": {
        "_cell_guid": "1906a4f1-4954-c4b9-6493-52a953f453e6"
      },
      "outputs": [],
      "source": [
        "train_id = train_df[['PassengerId']]\n",
        "\n",
        "train_id.head()"
      ]
    },
    {
      "cell_type": "code",
      "execution_count": null,
      "metadata": {
        "_cell_guid": "a3ddac7a-42f8-10d3-7973-dfbecafa80fe"
      },
      "outputs": [],
      "source": [
        "train_df = train_df.drop('PassengerId', axis=1)"
      ]
    },
    {
      "cell_type": "code",
      "execution_count": null,
      "metadata": {
        "_cell_guid": "95f7bbff-0723-59c7-7341-8a1a161ef29a"
      },
      "outputs": [],
      "source": [
        "train_df.isnull().sum()"
      ]
    },
    {
      "cell_type": "code",
      "execution_count": null,
      "metadata": {
        "_cell_guid": "1fdbd72f-7d90-7c62-2982-c94e5d458084"
      },
      "outputs": [],
      "source": [
        "train_df['Age'] = train_df['Age'].fillna(train_df['Age'].median())"
      ]
    },
    {
      "cell_type": "code",
      "execution_count": null,
      "metadata": {
        "_cell_guid": "a72fb217-e2a3-bca9-fb94-e40a7f8ca4d8"
      },
      "outputs": [],
      "source": [
        "test_id = test_df['PassengerId']\n",
        "\n",
        "test_df = test_df.drop('PassengerId', axis=1)"
      ]
    },
    {
      "cell_type": "code",
      "execution_count": null,
      "metadata": {
        "_cell_guid": "38aa2d56-09e4-9830-83c0-77c3ae09b188"
      },
      "outputs": [],
      "source": [
        "test_df.isnull().sum()"
      ]
    },
    {
      "cell_type": "code",
      "execution_count": null,
      "metadata": {
        "_cell_guid": "0cdfa75e-4071-8201-0e2f-3706e9e9c4f2"
      },
      "outputs": [],
      "source": [
        "train_df = train_df.drop('Cabin', axis=1)\n",
        "test_df = test_df.drop('Cabin', axis=1)"
      ]
    },
    {
      "cell_type": "code",
      "execution_count": null,
      "metadata": {
        "_cell_guid": "b618a080-1aef-f820-a0e6-7445d625b248"
      },
      "outputs": [],
      "source": [
        "test_df['Age'] = test_df['Age'].fillna(train_df['Age'].median())\n",
        "\n",
        "test_df['Fare'] = test_df['Fare'].fillna(test_df['Fare'].median())"
      ]
    },
    {
      "cell_type": "code",
      "execution_count": null,
      "metadata": {
        "_cell_guid": "38529fa7-7815-26e7-1954-700a2a3073e8"
      },
      "outputs": [],
      "source": [
        "train_df['Embarked'] = train_df['Embarked'].fillna(train_df.mode(axis=0)['Embarked'].iloc[0])"
      ]
    },
    {
      "cell_type": "code",
      "execution_count": null,
      "metadata": {
        "_cell_guid": "a5c48da2-6435-b5da-e953-1f2416ea9675"
      },
      "outputs": [],
      "source": [
        "train_df.head()"
      ]
    },
    {
      "cell_type": "code",
      "execution_count": null,
      "metadata": {
        "_cell_guid": "87e52076-0e29-d900-d8c6-822e766a3eff"
      },
      "outputs": [],
      "source": [
        "test_df.head()"
      ]
    },
    {
      "cell_type": "code",
      "execution_count": null,
      "metadata": {
        "_cell_guid": "ff0051a2-585d-5684-7b40-75b64d2c5006"
      },
      "outputs": [],
      "source": [
        "train_df = train_df.drop('Ticket', axis=1)\n",
        "test_df = test_df.drop('Ticket', axis=1)"
      ]
    },
    {
      "cell_type": "code",
      "execution_count": null,
      "metadata": {
        "_cell_guid": "33e66b69-5478-331e-2a70-4c51dfe2997a"
      },
      "outputs": [],
      "source": [
        "X_train = train_df.drop('Survived', axis=1)\n",
        "Y_train = train_df['Survived']\n",
        "X_test = test_df"
      ]
    },
    {
      "cell_type": "code",
      "execution_count": null,
      "metadata": {
        "_cell_guid": "7aea6f03-20ef-2488-cc8b-72638a2a2854"
      },
      "outputs": [],
      "source": [
        "from sklearn.preprocessing import StandardScaler, OneHotEncoder"
      ]
    },
    {
      "cell_type": "code",
      "execution_count": null,
      "metadata": {
        "_cell_guid": "b96ecd3c-e249-2fd2-dfbc-7baf2ddc6422"
      },
      "outputs": [],
      "source": [
        "X_train = X_train.drop('Name', axis=1)\n",
        "X_test = X_test.drop('Name', axis=1)"
      ]
    },
    {
      "cell_type": "code",
      "execution_count": null,
      "metadata": {
        "_cell_guid": "3841fd3a-b7db-fd33-9056-3199a2944dd7"
      },
      "outputs": [],
      "source": [
        "X_train.loc[X_train['Sex'] == 'female', 'Sex'] = 0\n",
        "X_train.loc[X_train['Sex'] == 'male', 'Sex'] = 1\n",
        "X_test.loc[X_test['Sex'] == 'female', 'Sex'] = 0\n",
        "X_test.loc[X_test['Sex'] == 'male', 'Sex'] = 1\n",
        "X_train.loc[X_train['Embarked'] == 'S', 'Embarked'] = 1\n",
        "X_train.loc[X_train['Embarked'] == 'C', 'Embarked'] = 2\n",
        "X_train.loc[X_train['Embarked'] == 'Q', 'Embarked'] = 3\n",
        "X_test.loc[X_test['Embarked'] == 'S', 'Embarked'] = 1\n",
        "X_test.loc[X_test['Embarked'] == 'C', 'Embarked'] = 2\n",
        "X_test.loc[X_test['Embarked'] == 'Q', 'Embarked'] = 3"
      ]
    },
    {
      "cell_type": "code",
      "execution_count": null,
      "metadata": {
        "_cell_guid": "2555a08c-0470-4639-0f2b-192fe71eb254"
      },
      "outputs": [],
      "source": [
        "X_train.head()"
      ]
    },
    {
      "cell_type": "code",
      "execution_count": null,
      "metadata": {
        "_cell_guid": "3197dfac-179d-20fb-5c82-86c9d0d6cdf0"
      },
      "outputs": [],
      "source": [
        "X_test.head()"
      ]
    },
    {
      "cell_type": "code",
      "execution_count": null,
      "metadata": {
        "_cell_guid": "f2ae58f3-f4e3-9e98-d31f-5fdfa0921b10"
      },
      "outputs": [],
      "source": [
        "X_train = pd.get_dummies(X_train, columns=['Pclass', 'Embarked'])\n",
        "\n",
        "X_test = pd.get_dummies(X_test, columns=['Pclass', 'Embarked'])"
      ]
    },
    {
      "cell_type": "code",
      "execution_count": null,
      "metadata": {
        "_cell_guid": "3be931f9-a694-35d0-bbd9-13840e06bb3d"
      },
      "outputs": [],
      "source": [
        "from sklearn.model_selection import cross_val_score"
      ]
    },
    {
      "cell_type": "code",
      "execution_count": null,
      "metadata": {
        "_cell_guid": "38746165-4e4e-231d-2190-aebe00e79a2b"
      },
      "outputs": [],
      "source": [
        "from sklearn.tree import DecisionTreeClassifier\n",
        "clf = DecisionTreeClassifier()\n",
        "cross_val_score(clf, X_train, Y_train, cv=10)"
      ]
    },
    {
      "cell_type": "code",
      "execution_count": null,
      "metadata": {
        "_cell_guid": "5160515f-5115-eb1d-c051-d9fcf93f65c4"
      },
      "outputs": [],
      "source": [
        "from sklearn.ensemble import GradientBoostingClassifier\n",
        "clf = GradientBoostingClassifier()\n",
        "cross_val_score(clf, X_train, Y_train, cv=10)"
      ]
    },
    {
      "cell_type": "code",
      "execution_count": null,
      "metadata": {
        "_cell_guid": "3f24b11c-db0c-03fa-6857-1c93525ecc37"
      },
      "outputs": [],
      "source": [
        "from sklearn.svm import LinearSVC\n",
        "clf = LinearSVC()\n",
        "cross_val_score(clf, X_train, Y_train, cv=10)"
      ]
    },
    {
      "cell_type": "code",
      "execution_count": null,
      "metadata": {
        "_cell_guid": "5de707e6-10fe-3352-34be-36c93ff27d78"
      },
      "outputs": [],
      "source": [
        "from sklearn.neighbors import KNeighborsClassifier\n",
        "clf = KNeighborsClassifier()\n",
        "cross_val_score(clf, X_train, Y_train)"
      ]
    },
    {
      "cell_type": "code",
      "execution_count": null,
      "metadata": {
        "_cell_guid": "4783ca33-9e5f-2f66-e6f8-eb1cb8c992f0"
      },
      "outputs": [],
      "source": [
        "from sklearn.ensemble import AdaBoostClassifier\n",
        "clf = AdaBoostClassifier()\n",
        "cross_val_score(clf, X_train, Y_train, cv=10)"
      ]
    },
    {
      "cell_type": "code",
      "execution_count": null,
      "metadata": {
        "_cell_guid": "a12d8717-f14f-783a-9e83-54973f0df638"
      },
      "outputs": [],
      "source": [
        "clf = GradientBoostingClassifier()\n",
        "clf.fit(X_train, Y_train)\n",
        "p = clf.predict(X_test)"
      ]
    },
    {
      "cell_type": "code",
      "execution_count": null,
      "metadata": {
        "_cell_guid": "6917c6e1-4dff-3841-159a-4bed5142efd8"
      },
      "outputs": [],
      "source": [
        "p.shape"
      ]
    },
    {
      "cell_type": "code",
      "execution_count": null,
      "metadata": {
        "_cell_guid": "bc38b6f9-c749-f76e-c58a-b35403478b8c"
      },
      "outputs": [],
      "source": [
        "test_id.shape"
      ]
    },
    {
      "cell_type": "code",
      "execution_count": null,
      "metadata": {
        "_cell_guid": "a469bbe4-a831-6e05-05e7-8d3e1023296d"
      },
      "outputs": [],
      "source": [
        "result = pd.DataFrame(test_id)"
      ]
    },
    {
      "cell_type": "code",
      "execution_count": null,
      "metadata": {
        "_cell_guid": "6c4e5280-1388-9948-27b0-8b3e0f462822"
      },
      "outputs": [],
      "source": [
        "result['Survived'] = p"
      ]
    },
    {
      "cell_type": "code",
      "execution_count": null,
      "metadata": {
        "_cell_guid": "6e1ab7d7-f397-6a10-119c-e147a5b1c071"
      },
      "outputs": [],
      "source": [
        "result.to_csv('submission.csv', index=False)"
      ]
    },
    {
      "cell_type": "code",
      "execution_count": null,
      "metadata": {
        "_cell_guid": "c82aeaed-00bd-333a-3814-62d28d7f76ff"
      },
      "outputs": [],
      "source": [
        "clf = AdaBoostClassifier()\n",
        "clf.fit(X_train, Y_train)\n",
        "p = clf.predict(X_test)"
      ]
    },
    {
      "cell_type": "code",
      "execution_count": null,
      "metadata": {
        "_cell_guid": "f2957bda-68e0-5c01-2672-daaeb313359d"
      },
      "outputs": [],
      "source": [
        "result['Survived'] = p\n",
        "result.to_csv('adaboostresult.csv', index=False)"
      ]
    },
    {
      "cell_type": "code",
      "execution_count": null,
      "metadata": {
        "_cell_guid": "12643175-978b-c379-a90e-9527b90f82d9"
      },
      "outputs": [],
      "source": ""
    }
  ],
  "metadata": {
    "_change_revision": 0,
    "_is_fork": false,
    "kernelspec": {
      "display_name": "Python 3",
      "language": "python",
      "name": "python3"
    },
    "language_info": {
      "codemirror_mode": {
        "name": "ipython",
        "version": 3
      },
      "file_extension": ".py",
      "mimetype": "text/x-python",
      "name": "python",
      "nbconvert_exporter": "python",
      "pygments_lexer": "ipython3",
      "version": "3.6.0"
    }
  },
  "nbformat": 4,
  "nbformat_minor": 0
}