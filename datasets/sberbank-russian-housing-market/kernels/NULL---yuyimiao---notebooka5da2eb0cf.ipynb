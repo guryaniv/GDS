{
  "cells": [
    {
      "cell_type": "code",
      "execution_count": null,
      "metadata": {
        "_cell_guid": "85208186-4fce-7c85-4e15-79d3655139d6"
      },
      "outputs": [],
      "source": [
        "# This Python 3 environment comes with many helpful analytics libraries installed\n",
        "# It is defined by the kaggle/python docker image: https://github.com/kaggle/docker-python\n",
        "# For example, here's several helpful packages to load in \n",
        "\n",
        "import numpy as np # linear algebra\n",
        "import pandas as pd # data processing, CSV file I/O (e.g. pd.read_csv)\n",
        "\n",
        "# Input data files are available in the \"../input/\" directory.\n",
        "# For example, running this (by clicking run or pressing Shift+Enter) will list the files in the input directory\n",
        "\n",
        "from subprocess import check_output\n",
        "print(check_output([\"ls\", \"../input\"]).decode(\"utf8\"))\n",
        "\n",
        "# Any results you write to the current directory are saved as output."
      ]
    },
    {
      "cell_type": "code",
      "execution_count": null,
      "metadata": {
        "_cell_guid": "d900f15f-8217-c40b-3be7-3e4e737a6bbf"
      },
      "outputs": [],
      "source": [
        "\n",
        "import numpy as np\n",
        "import pandas as pd\n",
        "import matplotlib.pyplot as plt\n",
        "import seaborn as sns\n",
        "from sklearn import model_selection, preprocessing\n",
        "import xgboost as xgb\n",
        "import datetime\n",
        "\n",
        "#load files\n",
        "train = pd.read_csv('../input/train.csv')\n",
        "test = pd.read_csv('../input/test.csv')\n",
        "macro = pd.read_csv('../input/macro.csv')\n",
        "id_test = test.id"
      ]
    },
    {
      "cell_type": "code",
      "execution_count": null,
      "metadata": {
        "_cell_guid": "15670aa3-e8ed-201a-ee0b-cdcae74c82b9"
      },
      "outputs": [],
      "source": [
        "Q1 = np.percentile(np.log1p(train.price_doc.values), 25)\n",
        "Q2 = np.percentile(np.log1p(train.price_doc.values), 50)\n",
        "Q3 = np.percentile(np.log1p(train.price_doc.values), 75)\n",
        "IQR=Q3-Q1\n",
        "infbdd=Q1-1.5 * IQR \n",
        "supbdd=Q3+1.5 * IQR \n",
        "train['price_doc'].ix[train['price_doc']>int(2.5*np.exp(supbdd))] = int(2.5*np.exp(supbdd))\n",
        "train['price_doc'].ix[train['price_doc']<int(np.exp(13.5))] = int(np.exp(13.5))\n",
        "int(np.exp(supbdd))"
      ]
    },
    {
      "cell_type": "code",
      "execution_count": null,
      "metadata": {
        "_cell_guid": "951158a4-d284-3f9d-183d-a345f4220c77"
      },
      "outputs": [],
      "source": [
        "ulimit = np.percentile(train.price_doc.values, 99.5)\n",
        "ulimit"
      ]
    },
    {
      "cell_type": "code",
      "execution_count": null,
      "metadata": {
        "_cell_guid": "54721d85-3e8c-73da-c7ca-3cac29ecefb1"
      },
      "outputs": [],
      "source": [
        "plt.figure(figsize=(12,8))\n",
        "sns.distplot(np.log1p(train.full_sq.values), bins=50, kde=True)\n",
        "plt.xlabel('full_sq', fontsize=12)\n",
        "plt.show()"
      ]
    },
    {
      "cell_type": "code",
      "execution_count": null,
      "metadata": {
        "_cell_guid": "a582fe5d-208d-4226-706a-65ee71cc3337"
      },
      "outputs": [],
      "source": [
        "bad_index = train[train.life_sq > train.full_sq].index\n",
        "train.ix[bad_index, \"life_sq\"] = np.NaN"
      ]
    },
    {
      "cell_type": "code",
      "execution_count": null,
      "metadata": {
        "_cell_guid": "a119578b-37f5-50ea-8434-3bf326478ea8"
      },
      "outputs": [],
      "source": [
        "bad_index = train[train.life_sq<2 ].index\n",
        "train.ix[bad_index, \"life_sq\"] = np.NaN"
      ]
    },
    {
      "cell_type": "code",
      "execution_count": null,
      "metadata": {
        "_cell_guid": "48121f02-6e9a-e311-489b-04116581158d"
      },
      "outputs": [],
      "source": [
        "bad_index = train[train.full_sq<2].index\n",
        "train.ix[bad_index, \"full_sq\"] = np.NaN"
      ]
    },
    {
      "cell_type": "code",
      "execution_count": null,
      "metadata": {
        "_cell_guid": "63ed47fe-a0c1-c160-84af-8bf9a806ea94"
      },
      "outputs": [],
      "source": [
        "bad_index = train[train.full_sq <10]\n",
        "bad_index\n",
        "#train.ix[bad_index, \"life_sq\"] = np.NaN"
      ]
    },
    {
      "cell_type": "code",
      "execution_count": null,
      "metadata": {
        "_cell_guid": "5e68d8aa-5fb3-49a9-505a-953e735ae9fd"
      },
      "outputs": [],
      "source": [
        "fsQ1 = np.percentile(np.log1p(train.full_sq.values), 25)\n",
        "fsQ2 = np.percentile(np.log1p(train.full_sq.values), 50)\n",
        "fsQ3 = np.percentile(np.log1p(train.full_sq.values), 75)\n",
        "fsIQR=fsQ3-fsQ1\n",
        "fsinfbdd=fsQ1-1.5 * fsIQR \n",
        "fssupbdd=fsQ3+1.5 * fsIQR \n",
        "#train['full_sq'].ix[train['full_sq']>int(2.5*np.exp(fssupbdd))] = int(2.5*np.exp(fssupbdd))\n",
        "#train['full_sq'].ix[train['full_sq']<int(np.exp(13.5))] = int(np.exp(13.5))\n",
        "int(np.exp(fssupbdd))"
      ]
    },
    {
      "cell_type": "code",
      "execution_count": null,
      "metadata": {
        "_cell_guid": "541b535d-95ad-32fd-7805-ae140a37db97"
      },
      "outputs": [],
      "source": ""
    },
    {
      "cell_type": "code",
      "execution_count": null,
      "metadata": {
        "_cell_guid": "93e63125-9fbc-165c-5d02-555520851ecd"
      },
      "outputs": [],
      "source": ""
    },
    {
      "cell_type": "code",
      "execution_count": null,
      "metadata": {
        "_cell_guid": "a29d1a59-d2c3-5a91-1d95-d5e13b8ec15a"
      },
      "outputs": [],
      "source": [
        "\n",
        "col = \"full_sq\"\n",
        "ulimit = np.percentile(train[col].values, 99)\n",
        "llimit = np.percentile(train[col].values, 1)\n",
        "#train_df[col].ix[train_df[col]>ulimit] = ulimit\n",
        "#train_df[col].ix[train_df[col]<llimit] = llimit\n",
        "ulimit"
      ]
    },
    {
      "cell_type": "code",
      "execution_count": null,
      "metadata": {
        "_cell_guid": "6552689d-92e9-7950-571f-0dd3e1643a67"
      },
      "outputs": [],
      "source": [
        "bad_index = train[train.full_sq > 155].index\n",
        "bad_index"
      ]
    },
    {
      "cell_type": "code",
      "execution_count": null,
      "metadata": {
        "_cell_guid": "eed456a5-7462-5d78-cda2-5e2bffb6fccb"
      },
      "outputs": [],
      "source": [
        "bad_index=train[(np.log1p(train.price_doc.values)/np.log1p(train.full_sq.values))>6]\n",
        "bad_index"
      ]
    },
    {
      "cell_type": "code",
      "execution_count": null,
      "metadata": {
        "_cell_guid": "5ae4ff8b-aadd-3ba9-fd27-f79cd1c8c720"
      },
      "outputs": [],
      "source": [
        "plt.figure(figsize=(12,8))\n",
        "sns.distplot((np.log1p(train.price_doc.values)/np.log1p(train.full_sq.values)), bins=500, kde=True)\n",
        "plt.xlabel('price', fontsize=12)\n",
        "plt.show()"
      ]
    },
    {
      "cell_type": "code",
      "execution_count": null,
      "metadata": {
        "_cell_guid": "dec9c07c-c30c-ba75-c502-d55e96a4e5f4"
      },
      "outputs": [],
      "source": [
        "plt.figure(figsize=(12,18))\n",
        "sns.distplot((np.log1p(train.price_doc.values)/np.log1p(train.full_sq.values+1)), bins=50, kde=True)\n",
        "plt.xlabel('full_sq', fontsize=12)\n",
        "plt.show()"
      ]
    },
    {
      "cell_type": "code",
      "execution_count": null,
      "metadata": {
        "_cell_guid": "61f66c3b-bd5f-7bc7-8b2f-0f2feb727a73"
      },
      "outputs": [],
      "source": ""
    },
    {
      "cell_type": "code",
      "execution_count": null,
      "metadata": {
        "_cell_guid": "3ad2ce87-327d-9275-0086-8ca6fe2b2a1a"
      },
      "outputs": [],
      "source": ""
    },
    {
      "cell_type": "code",
      "execution_count": null,
      "metadata": {
        "_cell_guid": "ca5e39ec-a083-172b-4892-67b62b25cdc8"
      },
      "outputs": [],
      "source": ""
    },
    {
      "cell_type": "code",
      "execution_count": null,
      "metadata": {
        "_cell_guid": "b037ae01-73b0-6840-7820-654a58569d56"
      },
      "outputs": [],
      "source": ""
    },
    {
      "cell_type": "code",
      "execution_count": null,
      "metadata": {
        "_cell_guid": "e65baeb7-6166-fc92-368b-614aeb35c3a9"
      },
      "outputs": [],
      "source": ""
    },
    {
      "cell_type": "code",
      "execution_count": null,
      "metadata": {
        "_cell_guid": "8fd8532d-8b1b-3530-5184-56a924a40c23"
      },
      "outputs": [],
      "source": [
        "\n",
        "\n",
        "plt.figure(figsize=(12,12))\n",
        "sns.jointplot(x=np.log1p(train_df.full_sq.values), y=np.log1p(train_df.price_doc.values), size=10)\n",
        "plt.ylabel('Log of Price', fontsize=12)\n",
        "plt.xlabel('Log of Total area in square metre', fontsize=12)\n",
        "plt.show()"
      ]
    },
    {
      "cell_type": "code",
      "execution_count": null,
      "metadata": {
        "_cell_guid": "fafd35d7-72de-0829-b1a5-db791d0a1338"
      },
      "outputs": [],
      "source": [
        "# This Python 3 environment comes with many helpful analytics libraries installed\n",
        "# It is defined by the kaggle/python docker image: https://github.com/kaggle/docker-python\n",
        "# For example, here's several helpful packages to load in \n",
        "\n",
        "import numpy as np # linear algebra\n",
        "import pandas as pd # data processing, CSV file I/O (e.g. pd.read_csv)\n",
        "\n",
        "# Input data files are available in the \"../input/\" directory.\n",
        "# For example, running this (by clicking run or pressing Shift+Enter) will list the files in the input directory\n",
        "\n",
        "from subprocess import check_output\n",
        "print(check_output([\"ls\", \"../input\"]).decode(\"utf8\"))\n",
        "\n",
        "# Any results you write to the current directory are saved as output."
      ]
    },
    {
      "cell_type": "code",
      "execution_count": null,
      "metadata": {
        "_cell_guid": "ed51c02f-5b5d-ecaa-65e6-6938c2d915ae"
      },
      "outputs": [],
      "source": ""
    },
    {
      "cell_type": "code",
      "execution_count": null,
      "metadata": {
        "_cell_guid": "993d4ca7-f371-51a2-57f9-799f28fb8e02"
      },
      "outputs": [],
      "source": ""
    }
  ],
  "metadata": {
    "_change_revision": 0,
    "_is_fork": false,
    "kernelspec": {
      "display_name": "Python 3",
      "language": "python",
      "name": "python3"
    },
    "language_info": {
      "codemirror_mode": {
        "name": "ipython",
        "version": 3
      },
      "file_extension": ".py",
      "mimetype": "text/x-python",
      "name": "python",
      "nbconvert_exporter": "python",
      "pygments_lexer": "ipython3",
      "version": "3.6.0"
    }
  },
  "nbformat": 4,
  "nbformat_minor": 0
}