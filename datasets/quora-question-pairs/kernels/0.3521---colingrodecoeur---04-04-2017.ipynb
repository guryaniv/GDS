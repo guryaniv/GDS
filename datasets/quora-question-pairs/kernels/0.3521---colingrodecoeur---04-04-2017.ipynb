{
  "cells": [
    {
      "cell_type": "code",
      "execution_count": null,
      "metadata": {
        "_cell_guid": "2bccd9f9-e37c-f5b2-233f-2ee601eff9d7"
      },
      "outputs": [],
      "source": [
        "# This Python 3 environment comes with many helpful analytics libraries installed\n",
        "# It is defined by the kaggle/python docker image: https://github.com/kaggle/docker-python\n",
        "# For example, here's several helpful packages to load in \n",
        "\n",
        "import numpy as np # linear algebra\n",
        "import pandas as pd # data processing, CSV file I/O (e.g. pd.read_csv)\n",
        "\n",
        "# Input data files are available in the \"../input/\" directory.\n",
        "# For example, running this (by clicking run or pressing Shift+Enter) will list the files in the input directory\n",
        "\n",
        "from subprocess import check_output\n",
        "print(check_output([\"ls\", \"../input\"]).decode(\"utf8\"))\n",
        "\n",
        "# Any results you write to the current directory are saved as output."
      ]
    },
    {
      "cell_type": "code",
      "execution_count": null,
      "metadata": {
        "_cell_guid": "b5b44a13-6d79-10aa-6f1b-bbbd75088168"
      },
      "outputs": [],
      "source": [
        "import os\n",
        "import gc\n",
        "import matplotlib.pyplot as plt\n",
        "import seaborn as sns\n",
        "from nltk.corpus import stopwords\n",
        "import re\n",
        "from fuzzywuzzy import fuzz\n",
        "from string import punctuation\n",
        "stops = set(stopwords.words(\"english\"))\n",
        "%matplotlib inline"
      ]
    },
    {
      "cell_type": "code",
      "execution_count": null,
      "metadata": {
        "_cell_guid": "1dde8e93-16ab-14ce-12f0-5e737d569159"
      },
      "outputs": [],
      "source": [
        "df_train = pd.read_csv('../input/train.csv')\n",
        "df_test = pd.read_csv('../input/test.csv')"
      ]
    },
    {
      "cell_type": "code",
      "execution_count": null,
      "metadata": {
        "_cell_guid": "d52d6cc7-376a-82d5-bbdf-ac51a670b16a"
      },
      "outputs": [],
      "source": [
        "def extract_features(df):\n",
        "    df['fuzz_qratio'] = df.apply(lambda x: fuzz.QRatio(str(x['question1']), str(x['question2'])), axis=1)\n",
        "    print(1)\n",
        "    df['fuzz_partial_ratio'] = df.apply(lambda x: fuzz.partial_ratio(str(x['question1']), str(x['question2'])), axis=1)\n",
        "    print(2)\n",
        "    df['fuzz_partial_token_set_ratio'] = df.apply(lambda x: fuzz.partial_token_set_ratio(str(x['question1']), str(x['question2'])), axis=1)\n",
        "    print(3)\n",
        "    df['fuzz_partial_token_sort_ratio'] = df.apply(lambda x: fuzz.partial_token_sort_ratio(str(x['question1']), str(x['question2'])), axis=1)\n",
        "    print(4)\n",
        "    df['fuzz_token_set_ratio'] = df.apply(lambda x: fuzz.token_set_ratio(str(x['question1']), str(x['question2'])), axis=1)\n",
        "    print(5)\n",
        "    df['fuzz_token_sort_ratio'] = df.apply(lambda x: fuzz.token_sort_ratio(str(x['question1']), str(x['question2'])), axis=1)\n",
        "    return df"
      ]
    },
    {
      "cell_type": "code",
      "execution_count": null,
      "metadata": {
        "_cell_guid": "b8395964-45b3-709f-a180-314f62bf943b"
      },
      "outputs": [],
      "source": [
        "df_train = extract_features(df_train)\n",
        "df_test = extract_features(df_test)"
      ]
    },
    {
      "cell_type": "code",
      "execution_count": null,
      "metadata": {
        "_cell_guid": "02aa3df9-9499-f3aa-da12-7e499fc55eff"
      },
      "outputs": [],
      "source": [
        "train_qs = pd.Series(df_train['question1'].tolist() + df_train['question2'].tolist()).astype(str)"
      ]
    },
    {
      "cell_type": "code",
      "execution_count": null,
      "metadata": {
        "_cell_guid": "de21ccca-5516-c092-0c20-f62058441a29"
      },
      "outputs": [],
      "source": [
        "test_qs = pd.Series(df_test['question1'].tolist() + df_test['question2'].tolist()).astype(str)"
      ]
    },
    {
      "cell_type": "code",
      "execution_count": null,
      "metadata": {
        "_cell_guid": "f1bd52fb-b9a3-a722-56c0-22800652a627"
      },
      "outputs": [],
      "source": [
        "def word_match_share(row):\n",
        "    q1words = {}\n",
        "    q2words = {}\n",
        "    for word in str(row['question1']).lower().split():\n",
        "        if word not in stops:\n",
        "            q1words[word] = 1\n",
        "    for word in str(row['question2']).lower().split():\n",
        "        if word not in stops:\n",
        "            q2words[word] = 1\n",
        "    if len(q1words) == 0 or len(q2words) == 0:\n",
        "        # The computer-generated chaff includes a few questions that are nothing but stopwords\n",
        "        return 0\n",
        "    shared_words_in_q1 = [w for w in q1words.keys() if w in q2words]\n",
        "    shared_words_in_q2 = [w for w in q2words.keys() if w in q1words]\n",
        "    R = (len(shared_words_in_q1) + len(shared_words_in_q2))/(len(q1words) + len(q2words))\n",
        "    return R"
      ]
    },
    {
      "cell_type": "code",
      "execution_count": null,
      "metadata": {
        "_cell_guid": "49e8cf8e-145d-a266-6c10-6478e621063e"
      },
      "outputs": [],
      "source": [
        "from collections import Counter\n",
        "\n",
        "# If a word appears only once, we ignore it completely (likely a typo)\n",
        "# Epsilon defines a smoothing constant, which makes the effect of extremely rare words smaller\n",
        "def get_weight(count, eps=10000, min_count=2):\n",
        "    if count < min_count:\n",
        "        return 0\n",
        "    else:\n",
        "        return 1 / (count + eps)\n",
        "\n",
        "eps = 5000 \n",
        "words = (\" \".join(train_qs)).lower().split()\n",
        "counts = Counter(words)\n",
        "weights = {word: get_weight(count) for word, count in counts.items()}"
      ]
    },
    {
      "cell_type": "code",
      "execution_count": null,
      "metadata": {
        "_cell_guid": "a8f51560-5d03-15f8-458d-0813d853d97a"
      },
      "outputs": [],
      "source": [
        "def tfidf_word_match_share(row):\n",
        "    q1words = {}\n",
        "    q2words = {}\n",
        "    for word in str(row['question1']).lower().split():\n",
        "        if word not in stops:\n",
        "            q1words[word] = 1\n",
        "    for word in str(row['question2']).lower().split():\n",
        "        if word not in stops:\n",
        "            q2words[word] = 1\n",
        "    if len(q1words) == 0 or len(q2words) == 0:\n",
        "        # The computer-generated chaff includes a few questions that are nothing but stopwords\n",
        "        return 0\n",
        "    \n",
        "    shared_weights = [weights.get(w, 0) for w in q1words.keys() if w in q2words] + [weights.get(w, 0) for w in q2words.keys() if w in q1words]\n",
        "    total_weights = [weights.get(w, 0) for w in q1words] + [weights.get(w, 0) for w in q2words]\n",
        "    \n",
        "    R = np.sum(shared_weights) / np.sum(total_weights)\n",
        "    return R"
      ]
    },
    {
      "cell_type": "code",
      "execution_count": null,
      "metadata": {
        "_cell_guid": "4f73a8b3-15cb-780c-e77d-20db8be12986"
      },
      "outputs": [],
      "source": [
        "train_word_match = df_train.apply(word_match_share, axis=1, raw=True)\n",
        "tfidf_train_word_match = df_train.apply(tfidf_word_match_share, axis=1, raw=True)\n",
        "test_word_match = df_test.apply(word_match_share, axis=1, raw=True)\n",
        "tfidf_test_word_match = df_test.apply(tfidf_word_match_share, axis=1, raw=True)"
      ]
    },
    {
      "cell_type": "code",
      "execution_count": null,
      "metadata": {
        "_cell_guid": "67955bd0-e8e4-a4dd-e271-9e92efc4e31d"
      },
      "outputs": [],
      "source": [
        "from sklearn.metrics import roc_auc_score\n",
        "print('Original AUC:', roc_auc_score(df_train['is_duplicate'], train_word_match))\n",
        "print('   TFIDF AUC:', roc_auc_score(df_train['is_duplicate'], tfidf_train_word_match.fillna(0)))"
      ]
    },
    {
      "cell_type": "code",
      "execution_count": null,
      "metadata": {
        "_cell_guid": "776e6a4e-cdf3-f8a1-6b56-671e51f21741"
      },
      "outputs": [],
      "source": [
        "# First we create our training and testing data\n",
        "x_train = pd.DataFrame()\n",
        "x_train['word_match'] = train_word_match\n",
        "x_train['tfidf_word_match'] = tfidf_train_word_match\n",
        "x_train['len_q1'] = df_train[\"question1\"].apply(lambda x: len(x) if type(x) == str else 0)\n",
        "x_train['len_q2'] = df_train[\"question2\"].apply(lambda x: len(x) if type(x) == str else 0)\n",
        "x_train['nb_q1_words'] = df_train[\"question1\"].apply(lambda x: len(x.split()) if type(x) == str else 0)\n",
        "x_train['nb_q2_words'] = df_train[\"question2\"].apply(lambda x: len(x.split()) if type(x) == str else 0)\n",
        "x_train['len_q1_words'] = df_train[\"question1\"].apply(lambda x: len(x.split()) if type(x) == str else 0)\n",
        "x_train['len_q2_words'] = df_train[\"question2\"].apply(lambda x: len(x.split()) if type(x) == str else 0)\n",
        "x_train['len_diff'] = abs(x_train[\"len_q1\"] - x_train[\"len_q2\"])\n",
        "x_train['len_diff_words'] = abs(x_train[\"len_q1_words\"] - x_train[\"len_q2_words\"])\n",
        "x_train['fuzz_qratio'] = df_train['fuzz_qratio']\n",
        "x_train['fuzz_partial_ratio'] = df_train['fuzz_partial_ratio']\n",
        "x_train['fuzz_partial_token_set_ratio'] = df_train['fuzz_partial_token_set_ratio']\n",
        "x_train['fuzz_partial_token_sort_ratio'] = df_train['fuzz_partial_token_sort_ratio']\n",
        "x_train['fuzz_token_set_ratio'] = df_train['fuzz_token_set_ratio']\n",
        "x_train['fuzz_token_sort_ratio'] = df_train['fuzz_token_sort_ratio']\n",
        "\n",
        "y_train = df_train['is_duplicate'].values"
      ]
    },
    {
      "cell_type": "code",
      "execution_count": null,
      "metadata": {
        "_cell_guid": "029ac2c5-5996-43d9-0d92-84cd9767acd7"
      },
      "outputs": [],
      "source": [
        "# First we create our training and testing data\n",
        "x_test = pd.DataFrame()\n",
        "x_test['word_match'] = test_word_match\n",
        "x_test['tfidf_word_match'] = tfidf_test_word_match\n",
        "x_test['len_q1'] = df_test[\"question1\"].apply(lambda x: len(x) if type(x) == str else 0)\n",
        "x_test['len_q2'] = df_test[\"question2\"].apply(lambda x: len(x) if type(x) == str else 0)\n",
        "x_test['nb_q1_words'] = df_test[\"question1\"].apply(lambda x: len(x.split()) if type(x) == str else 0)\n",
        "x_test['nb_q2_words'] = df_test[\"question2\"].apply(lambda x: len(x.split()) if type(x) == str else 0)\n",
        "x_test['len_q1_words'] = df_test[\"question1\"].apply(lambda x: len(x.split()) if type(x) == str else 0)\n",
        "x_test['len_q2_words'] = df_test[\"question2\"].apply(lambda x: len(x.split()) if type(x) == str else 0)\n",
        "x_test['len_diff'] = abs(x_test[\"len_q1\"] - x_test[\"len_q2\"])\n",
        "x_test['len_diff_words'] = abs(x_test[\"len_q1_words\"] - x_test[\"len_q2_words\"])\n",
        "x_test['fuzz_qratio'] = df_test['fuzz_qratio']\n",
        "x_test['fuzz_partial_ratio'] = df_test['fuzz_partial_ratio']\n",
        "x_test['fuzz_partial_token_set_ratio'] = df_test['fuzz_partial_token_set_ratio']\n",
        "x_test['fuzz_partial_token_sort_ratio'] = df_test['fuzz_partial_token_sort_ratio']\n",
        "x_test['fuzz_token_set_ratio'] = df_test['fuzz_token_set_ratio']\n",
        "x_test['fuzz_token_sort_ratio'] = df_test['fuzz_token_sort_ratio']"
      ]
    },
    {
      "cell_type": "code",
      "execution_count": null,
      "metadata": {
        "_cell_guid": "05f6c02e-d3c8-57a9-9d7c-282e9da09dec"
      },
      "outputs": [],
      "source": [
        "pos_train = x_train[y_train == 1]\n",
        "neg_train = x_train[y_train == 0]\n",
        "\n",
        "# Now we oversample the negative class\n",
        "# There is likely a much more elegant way to do this...\n",
        "p = 0.165\n",
        "scale = ((len(pos_train) / (len(pos_train) + len(neg_train))) / p) - 1\n",
        "while scale > 1:\n",
        "    neg_train = pd.concat([neg_train, neg_train])\n",
        "    scale -=1\n",
        "neg_train = pd.concat([neg_train, neg_train[:int(scale * len(neg_train))]])\n",
        "print(len(pos_train) / (len(pos_train) + len(neg_train)))\n",
        "\n",
        "x_train = pd.concat([pos_train, neg_train])\n",
        "y_train = (np.zeros(len(pos_train)) + 1).tolist() + np.zeros(len(neg_train)).tolist()\n",
        "del pos_train, neg_train"
      ]
    },
    {
      "cell_type": "code",
      "execution_count": null,
      "metadata": {
        "_cell_guid": "42293163-d04f-d07d-c3e4-724a458135a5"
      },
      "outputs": [],
      "source": [
        "# Finally, we split some of the data off for validation\n",
        "from sklearn.cross_validation import train_test_split\n",
        "\n",
        "x_train, x_valid, y_train, y_valid = train_test_split(x_train, y_train, test_size=0.2, random_state=4242)"
      ]
    },
    {
      "cell_type": "code",
      "execution_count": null,
      "metadata": {
        "_cell_guid": "ad06e844-c100-2128-c565-b81367d20555"
      },
      "outputs": [],
      "source": [
        "import xgboost as xgb\n",
        "\n",
        "# Set our parameters for xgboost\n",
        "params = {}\n",
        "params['objective'] = 'binary:logistic'\n",
        "params['eval_metric'] = 'logloss'\n",
        "params['eta'] = 0.02\n",
        "params['max_depth'] = 4\n",
        "\n",
        "d_train = xgb.DMatrix(x_train, label=y_train)\n",
        "d_valid = xgb.DMatrix(x_valid, label=y_valid)\n",
        "\n",
        "watchlist = [(d_train, 'train'), (d_valid, 'valid')]\n",
        "\n",
        "bst = xgb.train(params, d_train, 400, watchlist, early_stopping_rounds=50, verbose_eval=10)"
      ]
    },
    {
      "cell_type": "code",
      "execution_count": null,
      "metadata": {
        "_cell_guid": "4ed5f66b-2829-81be-d68b-68599060b664"
      },
      "outputs": [],
      "source": [
        "\n",
        "d_valid = xgb.DMatrix(x_valid)\n",
        "p_valid = bst.predict(d_valid)\n",
        "print('Predicted score:', log_loss(y_valid, p_valid))"
      ]
    },
    {
      "cell_type": "code",
      "execution_count": null,
      "metadata": {
        "_cell_guid": "1224747e-6753-6e3b-060a-9a68224f30af"
      },
      "outputs": [],
      "source": [
        "d_test = xgb.DMatrix(x_test)\n",
        "p_test = bst.predict(d_test)\n",
        "\n",
        "sub = pd.DataFrame()\n",
        "sub['test_id'] = df_test['test_id']\n",
        "sub['is_duplicate'] = p_test\n",
        "sub.to_csv('simple_xgb.csv', index=False)"
      ]
    },
    {
      "cell_type": "code",
      "execution_count": null,
      "metadata": {
        "_cell_guid": "bc77c824-2d25-7b45-1683-37b3dd1ddae8"
      },
      "outputs": [],
      "source": [
        "importance = bst.get_fscore()"
      ]
    },
    {
      "cell_type": "code",
      "execution_count": null,
      "metadata": {
        "_cell_guid": "cceaf51c-94c2-0d92-6f15-ff9bf9371de6"
      },
      "outputs": [],
      "source": [
        "import operator\n",
        "importance = sorted(importance.items(), key=operator.itemgetter(1))\n",
        "ft = pd.DataFrame(importance, columns=['feature', 'fscore'])\n",
        "ft.plot(kind='barh', x='feature', y='fscore', legend=False, figsize=(10, 25))"
      ]
    }
  ],
  "metadata": {
    "_change_revision": 0,
    "_is_fork": false,
    "kernelspec": {
      "display_name": "Python 3",
      "language": "python",
      "name": "python3"
    },
    "language_info": {
      "codemirror_mode": {
        "name": "ipython",
        "version": 3
      },
      "file_extension": ".py",
      "mimetype": "text/x-python",
      "name": "python",
      "nbconvert_exporter": "python",
      "pygments_lexer": "ipython3",
      "version": "3.6.0"
    }
  },
  "nbformat": 4,
  "nbformat_minor": 0
}