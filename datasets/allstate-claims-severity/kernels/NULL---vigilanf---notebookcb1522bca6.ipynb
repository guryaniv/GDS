{
  "cells": [
    {
      "cell_type": "code",
      "execution_count": null,
      "metadata": {
        "_cell_guid": "27f2a384-1d7b-25d8-c389-07b05c96e36e"
      },
      "outputs": [],
      "source": [
        "# This Python 3 environment comes with many helpful analytics libraries installed\n",
        "# It is defined by the kaggle/python docker image: https://github.com/kaggle/docker-python\n",
        "# For example, here's several helpful packages to load in \n",
        "\n",
        "import numpy as np # linear algebra\n",
        "import pandas as pd # data processing, CSV file I/O (e.g. pd.read_csv)\n",
        "\n",
        "# Input data files are available in the \"../input/\" directory.\n",
        "# For example, running this (by clicking run or pressing Shift+Enter) will list the files in the input directory\n",
        "\n",
        "from subprocess import check_output\n",
        "print(check_output([\"ls\", \"../input\"]).decode(\"utf8\"))\n",
        "\n",
        "# Any results you write to the current directory are saved as output."
      ]
    },
    {
      "cell_type": "code",
      "execution_count": null,
      "metadata": {
        "_cell_guid": "89ccb11c-0bd4-68f6-f9a3-ba82faf8227b"
      },
      "outputs": [],
      "source": [
        "#../input/test.csv\n",
        "#../input/train.csv\n",
        "\n",
        "\n",
        "data_train = pd.read_csv('../input/train.csv')\n",
        "data_train.head()\n"
      ]
    },
    {
      "cell_type": "code",
      "execution_count": null,
      "metadata": {
        "_cell_guid": "4780c4fe-2c92-e5d5-014e-9eeb95c712cc"
      },
      "outputs": [],
      "source": [
        "# Data sets\n",
        "IRIS_TRAINING = \"../input/train.csv\"\n",
        "IRIS_TEST = \"../input/test.csv\"\n",
        "\n",
        "with open(\"../input/test.csv\",'r') as f:\n",
        "    with open(\"updated_test.csv\",'w') as f1:\n",
        "        f.next() # skip header line\n",
        "        for line in f:\n",
        "            f1.write(line)\n",
        "            \n",
        "            "
      ]
    },
    {
      "cell_type": "code",
      "execution_count": null,
      "metadata": {
        "_cell_guid": "aba8d153-f031-7872-4b24-4cb88ac56e2f"
      },
      "outputs": [],
      "source": [
        "from __future__ import absolute_import\n",
        "from __future__ import division\n",
        "from __future__ import print_function\n",
        "\n",
        "import tensorflow as tf\n",
        "import numpy as np\n",
        "\n",
        "# Data sets\n",
        "IRIS_TRAINING = \"../input/train.csv\"\n",
        "IRIS_TEST = \"../input/test.csv\"\n",
        "\n",
        "# Load datasets.\n",
        "training_set = tf.contrib.learn.datasets.base.load_csv(filename=IRIS_TRAINING,\n",
        "                                                       target_dtype=np.int)\n",
        "test_set = tf.contrib.learn.datasets.base.load_csv(filename=IRIS_TEST,\n",
        "                                                   target_dtype=np.int)\n",
        "\n",
        "# Specify that all features have real-value data\n",
        "feature_columns = [tf.contrib.layers.real_valued_column(\"\", dimension=132)]\n",
        "\n",
        "# Build 3 layer DNN with 10, 20, 10 units respectively.\n",
        "classifier = tf.contrib.learn.DNNClassifier(feature_columns=feature_columns,\n",
        "                                            hidden_units=[10, 20, 10],\n",
        "                                            n_classes=131,\n",
        "                                            model_dir=\"/tmp/iris_model\")\n",
        "\n",
        "# Fit model.\n",
        "classifier.fit(x=training_set.data, \n",
        "               y=training_set.target, \n",
        "               steps=2000)\n",
        "\n",
        "# Evaluate accuracy.\n",
        "accuracy_score = classifier.evaluate(x=test_set.data,\n",
        "                                     y=test_set.target)[\"accuracy\"]\n",
        "print('Accuracy: {0:f}'.format(accuracy_score))\n",
        "\n",
        "# Classify two new flower samples.\n",
        "#new_samples = np.array(\n",
        "#    [[6.4, 3.2, 4.5, 1.5], [5.8, 3.1, 5.0, 1.7]], dtype=float)\n",
        "#y = classifier.predict(new_samples)\n",
        "#print('Predictions: {}'.format(str(y)))"
      ]
    }
  ],
  "metadata": {
    "_change_revision": 0,
    "_is_fork": false,
    "kernelspec": {
      "display_name": "Python 3",
      "language": "python",
      "name": "python3"
    },
    "language_info": {
      "codemirror_mode": {
        "name": "ipython",
        "version": 3
      },
      "file_extension": ".py",
      "mimetype": "text/x-python",
      "name": "python",
      "nbconvert_exporter": "python",
      "pygments_lexer": "ipython3",
      "version": "3.5.2"
    }
  },
  "nbformat": 4,
  "nbformat_minor": 0
}