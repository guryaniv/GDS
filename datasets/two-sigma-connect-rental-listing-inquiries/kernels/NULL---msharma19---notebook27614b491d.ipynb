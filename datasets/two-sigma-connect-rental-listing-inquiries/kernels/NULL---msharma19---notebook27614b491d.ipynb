{
  "cells": [
    {
      "cell_type": "code",
      "execution_count": null,
      "metadata": {
        "_cell_guid": "f568785c-a339-a861-5106-1d69eb6ff817"
      },
      "outputs": [],
      "source": [
        "# This Python 3 environment comes with many helpful analytics libraries installed\n",
        "# It is defined by the kaggle/python docker image: https://github.com/kaggle/docker-python\n",
        "# For example, here's several helpful packages to load in \n",
        "\n",
        "import numpy as np # linear algebra\n",
        "import pandas as pd # data processing, CSV file I/O (e.g. pd.read_csv)\n",
        "\n",
        "import matplotlib.pyplot as plt\n",
        "% matplotlib inline\n",
        "import seaborn as sns\n",
        "sns.set(style=\"whitegrid\", color_codes=True)\n",
        "sns.set(font_scale=1)\n",
        "\n",
        "import plotly.plotly as py\n",
        "import plotly.graph_objs as go\n",
        "from plotly import tools\n",
        "\n",
        "\n",
        "from plotly.offline import download_plotlyjs, init_notebook_mode, iplot\n",
        "init_notebook_mode(connected=True)\n",
        "# Input data files are available in the \"../input/\" directory.\n",
        "# For example, running this (by clicking run or pressing Shift+Enter) will list the files in the input directory\n",
        "\n",
        "from subprocess import check_output\n",
        "print(check_output([\"ls\", \"../input\"]).decode(\"utf8\"))\n",
        "\n",
        "# Any results you write to the current directory are saved as output."
      ]
    },
    {
      "cell_type": "code",
      "execution_count": null,
      "metadata": {
        "_cell_guid": "9ca04696-f4b5-840b-435d-fe1b70e0bf74"
      },
      "outputs": [],
      "source": [
        "train = pd.read_json(\"../input/train.json\")\n",
        "train.head()"
      ]
    },
    {
      "cell_type": "code",
      "execution_count": null,
      "metadata": {
        "_cell_guid": "5ed4ec80-d658-ff47-1687-f98ccb507280"
      },
      "outputs": [],
      "source": [
        "sizetest = pd.read_json(\"../input/test.json\")\n",
        "test.head().T"
      ]
    },
    {
      "cell_type": "markdown",
      "metadata": {
        "_cell_guid": "4a34f5e9-482d-a4db-9a15-dc33c343436e"
      },
      "source": [
        "**Size of data**"
      ]
    },
    {
      "cell_type": "code",
      "execution_count": null,
      "metadata": {
        "_cell_guid": "8e77b1b1-8199-eb4e-528b-05dbf1f4970d"
      },
      "outputs": [],
      "source": [
        "train.shape"
      ]
    },
    {
      "cell_type": "code",
      "execution_count": null,
      "metadata": {
        "_cell_guid": "bf9390e2-0528-1be5-9426-3327da11bfba"
      },
      "outputs": [],
      "source": [
        "test.shape"
      ]
    },
    {
      "cell_type": "markdown",
      "metadata": {
        "_cell_guid": "a8cadc3f-8e1e-9bd0-d652-e95aaf113854"
      },
      "source": [
        "**Variable identification**"
      ]
    },
    {
      "cell_type": "code",
      "execution_count": null,
      "metadata": {
        "_cell_guid": "f348471d-2056-39b9-6a74-817a084fab18"
      },
      "outputs": [],
      "source": [
        "train.info()"
      ]
    },
    {
      "cell_type": "markdown",
      "metadata": {
        "_cell_guid": "c33a1a9a-5a91-f6f5-3899-74097f79f457"
      },
      "source": [
        "**Interest Level**"
      ]
    },
    {
      "cell_type": "code",
      "execution_count": null,
      "metadata": {
        "_cell_guid": "47e55e83-1868-82ed-8903-a7fcb5eb4753"
      },
      "outputs": [],
      "source": [
        "#target variable\n",
        "labels = [\"low\",\"medium\",\"high\"]\n",
        "sizes = train.interest_level.value_counts().values\n",
        "explode=[0.1,0,0]\n",
        "colors = [  'lightcoral','gold','lightblue']\n",
        "patches, texts,autotexts= plt.pie(sizes, labels=labels,colors=colors,explode=explode,autopct=\"%1.1f%%\",\n",
        "                        startangle=90)\n",
        "plt.title(\"Interest Level\")\n",
        "plt.show()"
      ]
    },
    {
      "cell_type": "markdown",
      "metadata": {
        "_cell_guid": "f5f3a16a-d107-5a35-eecb-74b9bf9724ed"
      },
      "source": [
        "**Number of Bedrooms**"
      ]
    },
    {
      "cell_type": "code",
      "execution_count": null,
      "metadata": {
        "_cell_guid": "ee29bf9e-67a9-b02e-b4f2-69cb78be75f3"
      },
      "outputs": [],
      "source": [
        "train[\"bedrooms\"].value_counts().plot(kind='bar',color='gold')\n",
        "plt.ylabel(\"Number of Occurences\")\n",
        "plt.xlabel(\"Number of Bedrooms\");"
      ]
    },
    {
      "cell_type": "code",
      "execution_count": null,
      "metadata": {
        "_cell_guid": "47be331c-2928-86ff-396e-d30a697eba9c"
      },
      "outputs": [],
      "source": [
        "sns.stripplot(y=\"bedrooms\", x=\"interest_level\",data=train,jitter=True);"
      ]
    },
    {
      "cell_type": "markdown",
      "metadata": {
        "_cell_guid": "05ec74f1-d895-b638-eb71-cb8046f0fd7e"
      },
      "source": [
        "**Number of bathrooms**"
      ]
    },
    {
      "cell_type": "code",
      "execution_count": null,
      "metadata": {
        "_cell_guid": "b440b51e-72a7-fd62-b3eb-b2630295981a"
      },
      "outputs": [],
      "source": [
        "train[\"bathrooms\"].value_counts().plot(kind='bar',color='red')\n",
        "plt.ylabel(\"Number of Occurences\")\n",
        "plt.xlabel(\"Number of Bathrooms\");"
      ]
    },
    {
      "cell_type": "code",
      "execution_count": null,
      "metadata": {
        "_cell_guid": "4392bb25-0ae9-6f5e-9af0-9cc43854913a"
      },
      "outputs": [],
      "source": [
        "sns.stripplot(y=\"bathrooms\", x=\"interest_level\",data=train,jitter=True);"
      ]
    },
    {
      "cell_type": "markdown",
      "metadata": {
        "_cell_guid": "c554dcb6-be77-fbea-2dd9-5a16d20994d2"
      },
      "source": [
        "**Price**"
      ]
    },
    {
      "cell_type": "code",
      "execution_count": null,
      "metadata": {
        "_cell_guid": "253cfbe5-cc04-f95b-6cc9-409753230117"
      },
      "outputs": [],
      "source": [
        "plt.figure(figsize=(8, 10))\n",
        "plt.scatter(range(train.shape[0]), train[\"price\"].values,color='purple')\n",
        "plt.title(\"Distribution of Price\");"
      ]
    },
    {
      "cell_type": "code",
      "execution_count": null,
      "metadata": {
        "_cell_guid": "81d9b8cc-9e2b-8629-2e30-64efa18fc4e3"
      },
      "outputs": [],
      "source": [
        "ulimit = np.percentile(train.price.values, 99)\n",
        "train['price'].ix[train['price']>ulimit] = ulimit\n",
        "\n",
        "plt.figure(figsize=(8,6))\n",
        "sns.distplot(train.price.values, bins=50, kde=True)\n",
        "plt.xlabel('price', fontsize=12)\n",
        "plt.show()"
      ]
    },
    {
      "cell_type": "code",
      "execution_count": null,
      "metadata": {
        "_cell_guid": "f5238923-9491-fa9e-5c96-44582a5c4317"
      },
      "outputs": [],
      "source": [
        "order = ['low', 'medium', 'high']\n",
        "sns.stripplot(train[\"interest_level\"],train[\"price\"],jitter=True,order=order)\n",
        "plt.title(\"Price Vs Interest_level\");"
      ]
    },
    {
      "cell_type": "markdown",
      "metadata": {
        "_cell_guid": "91161d53-2a3b-0541-2256-063d3a3c1648"
      },
      "source": [
        "**Latitude and Longitude**"
      ]
    },
    {
      "cell_type": "code",
      "execution_count": null,
      "metadata": {
        "_cell_guid": "333a9c25-47be-ecc0-4e99-25e452eec527"
      },
      "outputs": [],
      "source": [
        "llimit = np.percentile(train.latitude.values, 1)\n",
        "ulimit = np.percentile(train.latitude.values, 99)\n",
        "train['latitude'].ix[train['latitude']<llimit] = llimit\n",
        "train['latitude'].ix[train['latitude']>ulimit] = ulimit\n",
        "\n",
        "plt.figure(figsize=(8,6))\n",
        "sns.distplot(train.latitude.values, bins=50, kde=False)\n",
        "plt.xlabel('latitude', fontsize=12)\n",
        "plt.show()"
      ]
    },
    {
      "cell_type": "code",
      "execution_count": null,
      "metadata": {
        "_cell_guid": "e38e12da-b49e-da0e-581d-a30b943b788c"
      },
      "outputs": [],
      "source": [
        "\n",
        "train[\"price\"] = train[\"price\"].apply(len)\n",
        "cnt_srs = train['price'].value_counts()\n",
        "\n",
        "plt.figure(figsize=(12,6))\n",
        "sns.barplot(cnt_srs.index, cnt_srs.values, alpha=0.8)\n",
        "plt.ylabel('Number of Occurrences', fontsize=12)\n",
        "plt.xlabel('Number of price', fontsize=12)\n",
        "plt.show()"
      ]
    },
    {
      "cell_type": "code",
      "execution_count": null,
      "metadata": {
        "_cell_guid": "623c5847-e442-605d-edd0-dc32800196a5"
      },
      "outputs": [],
      "source": [
        "cnt_srs = train.groupby('display_address')['display_address'].count()\n",
        "\n",
        "for i in [2, 10, 50, 100, 500]:\n",
        "    print('Display_address that appear less than {} times: {}%'.format(i, round((cnt_srs < i).mean() * 100, 2)))\n",
        "\n",
        "plt.figure(figsize=(12, 6))\n",
        "plt.hist(cnt_srs.values, bins=100, log=True, alpha=0.9)\n",
        "plt.xlabel('Number of times display_address appeared', fontsize=12)\n",
        "plt.ylabel('log(Count)', fontsize=12)\n",
        "plt.show()"
      ]
    },
    {
      "cell_type": "code",
      "execution_count": null,
      "metadata": {
        "_cell_guid": "52e84bc1-2dbf-a80b-a21c-d4b9271c89eb"
      },
      "outputs": [],
      "source": [
        "\n",
        "train[\"num_photos\"] = train[\"photos\"].apply(len)\n",
        "cnt_srs = train['num_photos'].value_counts()\n",
        "\n",
        "plt.figure(figsize=(12,6))\n",
        "sns.barplot(cnt_srs.index, cnt_srs.values, alpha=0.8)\n",
        "plt.xlabel('Number of Photos', fontsize=12)\n",
        "plt.ylabel('Number of Occurrences', fontsize=12)\n",
        "plt.show()"
      ]
    },
    {
      "cell_type": "code",
      "execution_count": null,
      "metadata": {
        "_cell_guid": "628243bf-37b5-230a-0fce-3530559dd57e"
      },
      "outputs": [],
      "source": [
        "train['num_photos'].ix[train['num_photos']>12] = 12\n",
        "plt.figure(figsize=(12,6))\n",
        "sns.violinplot(x=\"num_photos\", y=\"interest_level\", data=train, order =['low','medium','high'])\n",
        "plt.xlabel('Number of Photos', fontsize=12)\n",
        "plt.ylabel('Interest Level', fontsize=12)\n",
        "plt.show()"
      ]
    },
    {
      "cell_type": "code",
      "execution_count": null,
      "metadata": {
        "_cell_guid": "bfc65d5e-d83a-6456-6e15-bd54c86a1dc6"
      },
      "outputs": [],
      "source": [
        "\n",
        "train.num_features.value_counts().plot(kind='bar',color='orange')\n",
        "plt.xlabel(\"price\")\n"
      ]
    },
    {
      "cell_type": "code",
      "execution_count": null,
      "metadata": {
        "_cell_guid": "fa390ca0-60e8-d516-d0f2-25c6674b44c2"
      },
      "outputs": [],
      "source": ""
    },
    {
      "cell_type": "code",
      "execution_count": null,
      "metadata": {
        "_cell_guid": "86889c41-1670-d816-14ce-5a22111e081d"
      },
      "outputs": [],
      "source": ""
    },
    {
      "cell_type": "code",
      "execution_count": null,
      "metadata": {
        "_cell_guid": "c404e782-73c5-c8a2-7fe0-5806a14ab78d"
      },
      "outputs": [],
      "source": ""
    },
    {
      "cell_type": "code",
      "execution_count": null,
      "metadata": {
        "_cell_guid": "762a3267-41c5-6209-fdf0-114e959a3c55"
      },
      "outputs": [],
      "source": ""
    },
    {
      "cell_type": "code",
      "execution_count": null,
      "metadata": {
        "_cell_guid": "66543f80-b36f-61bd-0a06-762a00beb70f"
      },
      "outputs": [],
      "source": ""
    }
  ],
  "metadata": {
    "_change_revision": 0,
    "_is_fork": false,
    "kernelspec": {
      "display_name": "Python 3",
      "language": "python",
      "name": "python3"
    },
    "language_info": {
      "codemirror_mode": {
        "name": "ipython",
        "version": 3
      },
      "file_extension": ".py",
      "mimetype": "text/x-python",
      "name": "python",
      "nbconvert_exporter": "python",
      "pygments_lexer": "ipython3",
      "version": "3.6.0"
    }
  },
  "nbformat": 4,
  "nbformat_minor": 0
}