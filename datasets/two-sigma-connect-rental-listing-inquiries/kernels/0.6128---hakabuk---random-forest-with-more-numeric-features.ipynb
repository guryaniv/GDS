{
  "cells": [
    {
      "cell_type": "markdown",
      "metadata": {
        "_cell_guid": "a6b74ec0-4c18-aead-330e-10649af87d27"
      },
      "source": [
        "# Random Forest with more numeric features"
      ]
    },
    {
      "cell_type": "code",
      "execution_count": null,
      "metadata": {
        "_cell_guid": "724ad414-a43a-2a5b-54b5-148e31d97c3d"
      },
      "outputs": [],
      "source": [
        "# This Python 3 environment comes with many helpful analytics libraries installed\n",
        "# It is defined by the kaggle/python docker image: https://github.com/kaggle/docker-python\n",
        "# For example, here's several helpful packages to load in \n",
        "\n",
        "import numpy as np # linear algebra\n",
        "import pandas as pd # data processing, CSV file I/O (e.g. pd.read_csv)\n",
        "from sklearn.ensemble import RandomForestClassifier\n",
        "from sklearn.model_selection import train_test_split\n",
        "from sklearn.metrics import log_loss\n",
        "pd.options.mode.chained_assignment = None  # default='warn'\n",
        "\n",
        "# Input data files are available in the \"../input/\" directory.\n",
        "# For example, running this (by clicking run or pressing Shift+Enter) will list the files in the input directory\n",
        "\n",
        "from subprocess import check_output\n",
        "print(check_output(['ls', \"../input\"]).decode('utf8'))"
      ]
    },
    {
      "cell_type": "markdown",
      "metadata": {
        "_cell_guid": "758b4503-e3bf-6c45-b090-cf025fa8286c"
      },
      "source": [
        "# Read data"
      ]
    },
    {
      "cell_type": "code",
      "execution_count": null,
      "metadata": {
        "_cell_guid": "8f9d0e95-7941-5030-7c88-3b3a0ecd0c63"
      },
      "outputs": [],
      "source": [
        "df = pd.read_json(open(\"../input/train.json\", 'r'))\n",
        "df.head()"
      ]
    },
    {
      "cell_type": "markdown",
      "metadata": {
        "_cell_guid": "af53e260-62f5-7914-8d0d-105e221f7834"
      },
      "source": [
        "# Adding features"
      ]
    },
    {
      "cell_type": "code",
      "execution_count": null,
      "metadata": {
        "_cell_guid": "a3910745-58e4-c545-d58d-bf7a48a3c906"
      },
      "outputs": [],
      "source": [
        "df['num_photos'] = df['photos'].apply(len)\n",
        "df['num_features'] = df['features'].apply(len)\n",
        "df['num_description_words'] = df['description'].apply(lambda x: len(x.split(' ')))\n",
        "df['created'] = pd.to_datetime(df['created'])\n",
        "df['created_year'] = df['created'].dt.year\n",
        "df['created_month'] = df['created'].dt.month\n",
        "df['created_day'] = df['created'].dt.day\n",
        "df['created_hour'] = df['created'].dt.hour\n",
        "df['created_minute'] = df['created'].dt.minute"
      ]
    },
    {
      "cell_type": "markdown",
      "metadata": {
        "_cell_guid": "27da40f4-7ceb-408a-dafb-949ed4a2c836"
      },
      "source": [
        "# Removing outliers"
      ]
    },
    {
      "cell_type": "code",
      "execution_count": null,
      "metadata": {
        "_cell_guid": "6d4742d1-8800-403e-462b-fd92cbdcb518"
      },
      "outputs": [],
      "source": [
        "# function to remove outliers from given percentile (we'll use 99/1)\n",
        "def remove_outlier(data, col, percent_list):\n",
        "    for item in percent_list:\n",
        "        ulimit = np.percentile(data[col].values, item)\n",
        "        if item > 50:\n",
        "            data[col].ix[data[col] > ulimit] = ulimit\n",
        "        else:\n",
        "            data[col].ix[data[col] < ulimit] = ulimit\n",
        "    return data"
      ]
    },
    {
      "cell_type": "code",
      "execution_count": null,
      "metadata": {
        "_cell_guid": "6b51dbe8-a1c6-cfd1-64e8-4d380f63fe07"
      },
      "outputs": [],
      "source": [
        "# price: removing values in 99 percentile\n",
        "df = remove_outlier(df, 'price', [99])\n",
        "\n",
        "# Latitude & Longitude:\n",
        "# removing outliers: values in the 1/99 percentiles\n",
        "df = remove_outlier(df, 'latitude', [1, 99])\n",
        "df = remove_outlier(df, 'longitude', [1, 99])"
      ]
    },
    {
      "cell_type": "code",
      "execution_count": null,
      "metadata": {
        "_cell_guid": "ffffb094-c878-edad-db28-573541d6e446"
      },
      "outputs": [],
      "source": [
        "num_feats = ['bathrooms', 'bedrooms', 'latitude', 'longitude', 'price', 'num_photos',\n",
        "             'num_features', 'num_description_words', 'created_year', 'created_month',\n",
        "             'created_day', 'created_hour', 'created_minute']\n",
        "X = df[num_feats]\n",
        "y = df['interest_level']\n",
        "X.head()"
      ]
    },
    {
      "cell_type": "markdown",
      "metadata": {
        "_cell_guid": "54d9977f-9053-3384-bb43-75e8b7490d91"
      },
      "source": [
        "# Train model: Random Forest"
      ]
    },
    {
      "cell_type": "code",
      "execution_count": null,
      "metadata": {
        "_cell_guid": "7e490168-42dd-11a4-dd99-b9f1888cae27"
      },
      "outputs": [],
      "source": [
        "X_train, X_test, y_train, y_test = train_test_split(X, y, \n",
        "                                                    test_size=0.33,\n",
        "                                                    random_state=0)"
      ]
    },
    {
      "cell_type": "code",
      "execution_count": null,
      "metadata": {
        "_cell_guid": "237ee6e7-a80b-f2d6-96b8-65e1589e3fcc"
      },
      "outputs": [],
      "source": [
        "clf = RandomForestClassifier(n_estimators=1000)\n",
        "clf.fit(X_train, y_train)\n",
        "y_val_pred = clf.predict_proba(X_test)\n",
        "log_loss(y_test, y_val_pred)"
      ]
    },
    {
      "cell_type": "code",
      "execution_count": null,
      "metadata": {
        "_cell_guid": "deb69cc1-0fdb-d2be-4d83-a572999f8ffa"
      },
      "outputs": [],
      "source": [
        "# fitting the model on the entire data without split\n",
        "clf.fit(X, y)"
      ]
    },
    {
      "cell_type": "markdown",
      "metadata": {
        "_cell_guid": "6e86e306-4991-021b-c058-1a85125084af"
      },
      "source": [
        "# Making prediction on test data"
      ]
    },
    {
      "cell_type": "code",
      "execution_count": null,
      "metadata": {
        "_cell_guid": "c80ad673-8aab-897f-d5f1-1829bbef0a69"
      },
      "outputs": [],
      "source": [
        "df = pd.read_json(open(\"../input/test.json\", 'r'))\n",
        "df['num_photos'] = df['photos'].apply(len)\n",
        "df['num_features'] = df['features'].apply(len)\n",
        "df['num_description_words'] = df['description'].apply(lambda x: len(x.split(' ')))\n",
        "df['created'] = pd.to_datetime(df['created'])\n",
        "df['created_year'] = df['created'].dt.year\n",
        "df['created_month'] = df['created'].dt.month\n",
        "df['created_day'] = df['created'].dt.day\n",
        "df['created_hour'] = df['created'].dt.hour\n",
        "df['created_minute'] = df['created'].dt.minute\n",
        "X = df[num_feats]"
      ]
    },
    {
      "cell_type": "code",
      "execution_count": null,
      "metadata": {
        "_cell_guid": "a77853ca-43d5-de99-927f-f771a516a7b9"
      },
      "outputs": [],
      "source": [
        "y = clf.predict_proba(X)"
      ]
    },
    {
      "cell_type": "code",
      "execution_count": null,
      "metadata": {
        "_cell_guid": "f5102354-83ed-477f-9ca4-2d0a6850f16c"
      },
      "outputs": [],
      "source": [
        "labels2idx = {label: i for i, label in enumerate(clf.classes_)}\n",
        "labels2idx"
      ]
    },
    {
      "cell_type": "code",
      "execution_count": null,
      "metadata": {
        "_cell_guid": "90936413-f919-a1eb-f3e7-11bb25555efb"
      },
      "outputs": [],
      "source": [
        "sub = pd.DataFrame()\n",
        "sub['listing_id'] = df['listing_id']\n",
        "for label in ['high', 'medium', 'low']:\n",
        "    sub[label] = y[:, labels2idx[label]]\n",
        "sub.to_csv(\"submission_rf_01.csv\", index=False)"
      ]
    },
    {
      "cell_type": "markdown",
      "metadata": {
        "_cell_guid": "92fad47a-4221-3747-547a-066ac700ff74"
      },
      "source": [
        "This model receives LB score: 0.61118 "
      ]
    },
    {
      "cell_type": "markdown",
      "metadata": {
        "_cell_guid": "f89fb6e6-6660-ea1b-7c8c-7b099162340b"
      },
      "source": [
        "In conclusion: \n",
        "Adding Hours and removing outliers improved the original prediction of this notebook which stood on 0.635 before alterations. \n",
        "\n",
        "Before adding features this notebook was forked from [Random forest starter with numerical features](https://www.kaggle.com/aikinogard/two-sigma-connect-rental-listing-inquiries/random-forest-starter-with-numerical-features) by Li Li."
      ]
    }
  ],
  "metadata": {
    "_change_revision": 0,
    "_is_fork": false,
    "kernelspec": {
      "display_name": "Python 3",
      "language": "python",
      "name": "python3"
    },
    "language_info": {
      "codemirror_mode": {
        "name": "ipython",
        "version": 3
      },
      "file_extension": ".py",
      "mimetype": "text/x-python",
      "name": "python",
      "nbconvert_exporter": "python",
      "pygments_lexer": "ipython3",
      "version": "3.6.0"
    }
  },
  "nbformat": 4,
  "nbformat_minor": 0
}