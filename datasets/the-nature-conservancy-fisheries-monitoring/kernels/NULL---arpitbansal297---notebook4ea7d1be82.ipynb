{
  "cells": [
    {
      "cell_type": "code",
      "execution_count": null,
      "metadata": {
        "_cell_guid": "25c18489-46d0-0c6e-7d07-8488bd3b76f9"
      },
      "outputs": [],
      "source": [
        "import os \n",
        "from scipy import ndimage\n",
        "from subprocess import check_output\n",
        "\n",
        "import cv2\n",
        "import numpy as np\n",
        "from matplotlib import pyplot as plt\n",
        "%matplotlib inline\n",
        "list1 = []\n",
        "list1 = os.listdir(\"../input/train/ALB\")\n",
        "print(list1)"
      ]
    },
    {
      "cell_type": "code",
      "execution_count": null,
      "metadata": {
        "_cell_guid": "751f84b9-bec7-9125-2fbb-b211d07afb82"
      },
      "outputs": [],
      "source": [
        "i=0\n",
        "while(i<10):\n",
        "    img_rows, img_cols= 350, 425\n",
        "    c='../input/train/LAG/'\n",
        "    c=c+list1[i]\n",
        "    im_array = cv2.imread(c,0)\n",
        "#template = np.zeros([ img_rows, img_cols], dtype='uint8') # initialisation of the template\n",
        "#template[:, :] = im_array[100:450,525:950] # I try multiple times to find the correct rectangle. \n",
        "#template /= 255.\n",
        "    plt.subplots(figsize=(15, 10))\n",
        "#plt.subplot(121),plt.imshow(template, cmap='gray') \n",
        "    plt.subplot(122), plt.imshow(im_array, cmap='gray')\n",
        "    i=i+1"
      ]
    }
  ],
  "metadata": {
    "_change_revision": 0,
    "_is_fork": false,
    "kernelspec": {
      "display_name": "Python 3",
      "language": "python",
      "name": "python3"
    },
    "language_info": {
      "codemirror_mode": {
        "name": "ipython",
        "version": 3
      },
      "file_extension": ".py",
      "mimetype": "text/x-python",
      "name": "python",
      "nbconvert_exporter": "python",
      "pygments_lexer": "ipython3",
      "version": "3.6.0"
    }
  },
  "nbformat": 4,
  "nbformat_minor": 0
}