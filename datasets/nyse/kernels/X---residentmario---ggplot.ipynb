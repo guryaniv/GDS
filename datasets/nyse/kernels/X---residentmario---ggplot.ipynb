{
  "cells": [
    {
      "cell_type": "markdown",
      "metadata": {
        "_cell_guid": "d56a9d28-0866-eda0-c01c-00e8e87250b2"
      },
      "source": [
        "This is just a small demo notebook showing that the `ggplot` library doesn't work as expected inside the Kaggle interface."
      ]
    },
    {
      "cell_type": "code",
      "execution_count": null,
      "metadata": {
        "_cell_guid": "d25bdf83-3216-4c1c-e9e6-a9cec5a72f79"
      },
      "outputs": [],
      "source": [
        "import numpy as np\n",
        "import pandas as pd "
      ]
    },
    {
      "cell_type": "code",
      "execution_count": null,
      "metadata": {
        "_cell_guid": "e8e08579-9c72-39cd-83ab-8838545cd97f"
      },
      "outputs": [],
      "source": [
        "fundamentals = pd.read_csv(\"../input/fundamentals.csv\", index_col=0)"
      ]
    },
    {
      "cell_type": "code",
      "execution_count": null,
      "metadata": {
        "_cell_guid": "405330e4-cfcc-f4ea-963a-a4e24d26718f"
      },
      "outputs": [],
      "source": [
        "fundamentals.head()"
      ]
    },
    {
      "cell_type": "code",
      "execution_count": null,
      "metadata": {
        "_cell_guid": "3d091dd8-7fc4-c8d4-ba11-6f4d111f61d9"
      },
      "outputs": [],
      "source": [
        "%matplotlib inline"
      ]
    },
    {
      "cell_type": "code",
      "execution_count": null,
      "metadata": {
        "_cell_guid": "cd12e86f-3f4e-912d-d6ad-8ca34862dbbd"
      },
      "outputs": [],
      "source": [
        "# pandas works...\n",
        "fundamentals['Accounts Receivable'].head(10).plot()"
      ]
    },
    {
      "cell_type": "code",
      "execution_count": null,
      "metadata": {
        "_cell_guid": "9d9c7e3f-8766-473c-a99c-7b0ca1860725"
      },
      "outputs": [],
      "source": [
        "from ggplot import (ggplot, aes, geom_density)"
      ]
    },
    {
      "cell_type": "code",
      "execution_count": null,
      "metadata": {
        "_cell_guid": "388ded15-97ee-6d91-9d22-7b326996a2e7"
      },
      "outputs": [],
      "source": [
        "# ...ggplot flashes the plot, but then doesn't work after that.\n",
        "(\n",
        "    ggplot(fundamentals, aes(x='Accounts Payable', y='Accounts Receivable')) +\n",
        "    geom_density()\n",
        ")"
      ]
    }
  ],
  "metadata": {
    "_change_revision": 0,
    "_is_fork": false,
    "kernelspec": {
      "display_name": "Python 3",
      "language": "python",
      "name": "python3"
    },
    "language_info": {
      "codemirror_mode": {
        "name": "ipython",
        "version": 3
      },
      "file_extension": ".py",
      "mimetype": "text/x-python",
      "name": "python",
      "nbconvert_exporter": "python",
      "pygments_lexer": "ipython3",
      "version": "3.6.0"
    }
  },
  "nbformat": 4,
  "nbformat_minor": 0
}