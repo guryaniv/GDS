{
  "cells": [
    {
      "cell_type": "markdown",
      "metadata": {
        "_cell_guid": "8cba94ca-952d-39d7-7d52-afaf45155b76"
      },
      "source": ""
    },
    {
      "cell_type": "code",
      "execution_count": null,
      "metadata": {
        "_cell_guid": "8552c156-bdd6-c807-7c06-650bb5bb7e18"
      },
      "outputs": [],
      "source": [
        "# This Python 3 environment comes with many helpful analytics libraries installed\n",
        "# It is defined by the kaggle/python docker image: https://github.com/kaggle/docker-python\n",
        "# For example, here's several helpful packages to load in \n",
        "\n",
        "import numpy as np # linear algebra\n",
        "import pandas as pd # data processing, CSV file I/O (e.g. pd.read_csv)\n",
        "\n",
        "# Input data files are available in the \"../input/\" directory.\n",
        "# For example, running this (by clicking run or pressing Shift+Enter) will list the files in the input directory\n",
        "\n",
        "from subprocess import check_output\n",
        "print(check_output([\"ls\", \"../input\"]).decode(\"utf8\"))\n",
        "\n",
        "# Any results you write to the current directory are saved as output."
      ]
    },
    {
      "cell_type": "code",
      "execution_count": null,
      "metadata": {
        "_cell_guid": "4b443497-956f-91c2-e0ba-88528b38b5f8"
      },
      "outputs": [],
      "source": [
        "# names of the given files\n",
        "input = [\"biology.csv\", \"cooking.csv\", \"crypto.csv\", \"diy.csv\", \"robotics.csv\", \"travel.csv\"]\n",
        "\n",
        "# Import bag of words\n",
        "from sklearn.feature_extraction.text import CountVectorizer\n",
        "from sklearn.feature_extraction.text import TfidfTransformer\n",
        "from bs4 import BeautifulSoup  \n",
        "from nltk.corpus import stopwords\n",
        "\n",
        "for train_file in input:\n",
        "    # each file has id, title, content, tags\n",
        "    data = pd.read_csv(\"../input/\" + train_file)\n",
        "    print(\"Parsed file\")\n",
        "    vectorizer = CountVectorizer(min_df=1, preprocessor=None, stop_words=stopwords.words(\"english\"))\n",
        "    title_data = data.title.values\n",
        "    counts = vectorizer.fit_transform(title_data)\n",
        "    print(\"CountVecter created\")\n",
        "    transformer = TfidfTransformer(smooth_idf=False)\n",
        "    tfidfCounts = transformer.fit_transform(counts)\n",
        "    print(\"TFIDF count computed.\")\n",
        "    print(tfidCounts)\n",
        "    break\n"
      ]
    },
    {
      "cell_type": "code",
      "execution_count": null,
      "metadata": {
        "_cell_guid": "0073a89d-0043-6a59-d690-c89b6411c82c"
      },
      "outputs": [],
      "source": ""
    }
  ],
  "metadata": {
    "_change_revision": 0,
    "_is_fork": false,
    "kernelspec": {
      "display_name": "Python 3",
      "language": "python",
      "name": "python3"
    },
    "language_info": {
      "codemirror_mode": {
        "name": "ipython",
        "version": 3
      },
      "file_extension": ".py",
      "mimetype": "text/x-python",
      "name": "python",
      "nbconvert_exporter": "python",
      "pygments_lexer": "ipython3",
      "version": "3.6.0"
    }
  },
  "nbformat": 4,
  "nbformat_minor": 0
}