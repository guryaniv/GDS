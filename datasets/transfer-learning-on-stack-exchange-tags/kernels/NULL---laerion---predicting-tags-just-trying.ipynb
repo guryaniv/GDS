{
  "cells": [
    {
      "cell_type": "markdown",
      "metadata": {
        "_cell_guid": "2b368221-3c7e-6ddb-cb79-3149294bc765"
      },
      "source": [
        "This is pretty much the first thing I'm trying to do on this site - it's probably not very good! Let's see how it goes though, I think it will be fun :)"
      ]
    },
    {
      "cell_type": "code",
      "execution_count": null,
      "metadata": {
        "_cell_guid": "aeaf065b-e7dc-3e2e-adc7-df3c1ca754b8"
      },
      "outputs": [],
      "source": [
        "# Useful modules and such\n",
        "import numpy as np # linear algebra\n",
        "import pandas as pd # data processing, CSV file I/O (e.g. pd.read_csv)\n",
        "\n",
        "from subprocess import check_output"
      ]
    },
    {
      "cell_type": "code",
      "execution_count": null,
      "metadata": {
        "_cell_guid": "f3d440f7-b497-d273-6729-ec245e98107f"
      },
      "outputs": [],
      "source": [
        "# Putting all the data from various areas together\n",
        "areas = [\"biology\", \"cooking\", \"crypto\", \"diy\", \"robotics\", \"travel\"]\n",
        "tags_df = None\n",
        "for i in areas:\n",
        "    if tags_df is None:\n",
        "        tags_df = pd.read_csv(\"../input/\"+i+\".csv\")\n",
        "    else:\n",
        "        tags_df = pd.concat([tags_df, pd.read_csv(\"../input/\"+i+\".csv\")])"
      ]
    },
    {
      "cell_type": "code",
      "execution_count": null,
      "metadata": {
        "_cell_guid": "f3dcc1fd-7560-827b-63e4-ab7f3b2423b4"
      },
      "outputs": [],
      "source": [
        "tags_df.info()"
      ]
    },
    {
      "cell_type": "code",
      "execution_count": null,
      "metadata": {
        "_cell_guid": "de9de796-ff12-4a5f-48e5-7cbb3e001098"
      },
      "outputs": [],
      "source": [
        "tags_df.head()"
      ]
    },
    {
      "cell_type": "code",
      "execution_count": null,
      "metadata": {
        "_cell_guid": "931f8283-4649-944b-a237-d5ca3689623c"
      },
      "outputs": [],
      "source": [
        "# IDs will repeat and are unimportant anyway\n",
        "tags_df.drop('id', axis=1, inplace=True)"
      ]
    },
    {
      "cell_type": "code",
      "execution_count": null,
      "metadata": {
        "_cell_guid": "680c6a88-76ea-2dc3-4942-e8f21baf0717"
      },
      "outputs": [],
      "source": [
        "# I believe this is helpful\n",
        "tags_df = tags_df.reset_index()"
      ]
    },
    {
      "cell_type": "code",
      "execution_count": null,
      "metadata": {
        "_cell_guid": "95ad5f79-cc83-aa4a-8e5a-f51ee1f285d8"
      },
      "outputs": [],
      "source": [
        "# Content needs some clearing up from the tags\n",
        "for pos,i in enumerate(tags_df.content):\n",
        "    print (i)\n",
        "    if pos > 10:\n",
        "        break\n",
        "        \n",
        "# I'm 100% sure there's an easier way\n",
        "def clear_tags(i):\n",
        "    to_del = False\n",
        "    for x in range(len(i)-1,-1,-1):\n",
        "        let = i[x]\n",
        "        if let == \">\":\n",
        "            # Some people use these arrows ->\n",
        "            if i[x-1] != \"-\":\n",
        "                to_del = True\n",
        "        elif let == \"<\":\n",
        "            i = i[:x] + i[x+1:]\n",
        "            to_del = False\n",
        "        if to_del:\n",
        "            i = i[:x] + i[x+1:]\n",
        "    return i\n",
        "\n",
        "tags_df[\"content2\"] = tags_df.content.apply(clear_tags)"
      ]
    },
    {
      "cell_type": "code",
      "execution_count": null,
      "metadata": {
        "_cell_guid": "5f9e45e4-ebde-1f6b-6e2c-0caed6307966"
      },
      "outputs": [],
      "source": [
        "for pos,i in enumerate(tags_df.content2):\n",
        "    print (i)\n",
        "    if pos > 10:\n",
        "        break"
      ]
    },
    {
      "cell_type": "code",
      "execution_count": null,
      "metadata": {
        "_cell_guid": "aeb2110d-961b-e09b-8ed3-396bb30d449f"
      },
      "outputs": [],
      "source": [
        "# I believe that now I should convert the content into just words (eliminate !?.,())\n",
        "# Also, convert to lowercase\n",
        "# Title should go through the same thing\n",
        "# Possibly tags too but I guess that's pretty much been done\n",
        "\n",
        "# What about decimal points? Do we care about numbers?\n",
        "# My best guess is that we don't, but we should analyse if there are any in the tags first\n",
        "\n",
        "def chop_down_sentences(i):\n",
        "    # Remove punctuation\n",
        "    for x in range(len(i)-1,-1,-1):\n",
        "        let = i[x]\n",
        "        if let in \"!?.,()\":\n",
        "            i = i[:x] + i[x+1:]\n",
        "    return i.lower().split()\n",
        "\n",
        "tags_df[\"content_list\"] = tags_df.content2.apply(chop_down_sentences)\n",
        "tags_df[\"title_list\"] = tags_df.title.apply(chop_down_sentences)\n",
        "tags_df[\"tags_list\"] = tags_df.tags.apply(chop_down_sentences)"
      ]
    },
    {
      "cell_type": "code",
      "execution_count": null,
      "metadata": {
        "_cell_guid": "122b767a-499a-c41c-58e7-c718696494d4"
      },
      "outputs": [],
      "source": [
        "# Now, what proportion of the tags is in the title/content?\n",
        "total_count = 0\n",
        "title_count = 0\n",
        "content_count = 0\n",
        "\n",
        "def count_tag_freq(i):\n",
        "    global total_count, title_count, content_count\n",
        "    for j in i['tags_list']:\n",
        "        total_count += 1\n",
        "        if j in i['title_list']:\n",
        "            title_count += 1\n",
        "        if j in i['content_list']:\n",
        "            content_count += 1\n",
        "            \n",
        "tags_df.apply(count_tag_freq, axis=1)           \n",
        "            \n",
        "print (\"Content ratio:\", float(content_count)/total_count)\n",
        "print (\"Title ratio:\", float(title_count)/total_count)"
      ]
    },
    {
      "cell_type": "code",
      "execution_count": null,
      "metadata": {
        "_cell_guid": "6d920248-5edb-9d21-0ecb-c4b48f3e2b93"
      },
      "outputs": [],
      "source": [
        "# These numbers seem a bit low, I suppose multi-word tags are the reason\n",
        "# Look at that later"
      ]
    }
  ],
  "metadata": {
    "_change_revision": 0,
    "_is_fork": false,
    "kernelspec": {
      "display_name": "Python 3",
      "language": "python",
      "name": "python3"
    },
    "language_info": {
      "codemirror_mode": {
        "name": "ipython",
        "version": 3
      },
      "file_extension": ".py",
      "mimetype": "text/x-python",
      "name": "python",
      "nbconvert_exporter": "python",
      "pygments_lexer": "ipython3",
      "version": "3.5.2"
    }
  },
  "nbformat": 4,
  "nbformat_minor": 0
}