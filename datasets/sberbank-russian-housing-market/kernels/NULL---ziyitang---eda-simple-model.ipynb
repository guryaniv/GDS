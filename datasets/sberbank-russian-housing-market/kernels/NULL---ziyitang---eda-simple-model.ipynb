{
  "cells": [
    {
      "cell_type": "markdown",
      "metadata": {
        "_cell_guid": "26444064-0284-b94a-e079-59c168c27ffb"
      },
      "source": [
        "# EDA and simple model"
      ]
    },
    {
      "cell_type": "code",
      "execution_count": null,
      "metadata": {
        "_cell_guid": "3e1e74ca-7764-a583-1167-114bb78a4c3f"
      },
      "outputs": [],
      "source": [
        "# This Python 3 environment comes with many helpful analytics libraries installed\n",
        "# It is defined by the kaggle/python docker image: https://github.com/kaggle/docker-python\n",
        "# For example, here's several helpful packages to load in \n",
        "\n",
        "import numpy as np # linear algebra\n",
        "import pandas as pd # data processing, CSV file I/O (e.g. pd.read_csv)\n",
        "from sklearn.linear_model import Ridge\n",
        "# Input data files are available in the \"../input/\" directory.\n",
        "# For example, running this (by clicking run or pressing Shift+Enter) will list the files in the input directory\n",
        "%matplotlib inline\n",
        "from matplotlib import pyplot as plt\n",
        "import seaborn as sns\n",
        "from subprocess import check_output\n",
        "import xgboost as xgb\n",
        "print(check_output([\"ls\", \"../input\"]).decode(\"utf8\"))\n",
        "\n",
        "# Any results you write to the current directory are saved as output."
      ]
    },
    {
      "cell_type": "code",
      "execution_count": null,
      "metadata": {
        "_cell_guid": "ecfafd97-57bd-9771-bba3-c9d0fe27d1a6"
      },
      "outputs": [],
      "source": [
        "df_train = pd.read_csv('../input/train.csv')\n",
        "df_test = pd.read_csv('../input/test.csv')\n",
        "df_test.head()"
      ]
    },
    {
      "cell_type": "markdown",
      "metadata": {
        "_cell_guid": "6295380d-7a0a-726c-0091-e436c9bc8a5d"
      },
      "source": [
        "### Price"
      ]
    },
    {
      "cell_type": "code",
      "execution_count": null,
      "metadata": {
        "_cell_guid": "4a747c47-dbe3-55eb-58c5-b95ee83ee258"
      },
      "outputs": [],
      "source": [
        "low, high = df_train['price_doc'].quantile([0.01,0.99])\n",
        "print (low,high)\n",
        "df_train_1_99 = df_train[(df_train['price_doc']>=low) & (df_train['price_doc']<=high)]"
      ]
    },
    {
      "cell_type": "markdown",
      "metadata": {
        "_cell_guid": "72b7219d-3697-551c-4267-336e96b65f3a"
      },
      "source": [
        "## EDA"
      ]
    },
    {
      "cell_type": "code",
      "execution_count": null,
      "metadata": {
        "_cell_guid": "81187d30-6d9b-6712-096b-e86b49ad95af"
      },
      "outputs": [],
      "source": [
        "df_train_price_mean = df_train['price_doc'].groupby(df_train['timestamp']).mean()\n",
        "df_train_timestamp = df_train['timestamp'].value_counts().index\n",
        "plt.figure()\n",
        "plt.plot(range(len(df_train_timestamp)), df_train_price_mean)\n",
        "plt.xlabel('timestamp')\n",
        "plt.ylabel('avg_price')\n",
        "plt.show()"
      ]
    },
    {
      "cell_type": "code",
      "execution_count": null,
      "metadata": {
        "_cell_guid": "0f298b8f-8089-cd17-6b43-ea00525cbf05"
      },
      "outputs": [],
      "source": [
        "numerics = ['int16', 'int32', 'int64', 'float16', 'float32', 'float64']\n",
        "df_train_numeric = df_train_1_99.select_dtypes(include=numerics)\n",
        "df_test_numeric = df_test.select_dtypes(include=numerics)"
      ]
    },
    {
      "cell_type": "markdown",
      "metadata": {
        "_cell_guid": "cdcc2b70-616f-90cc-152a-f8f714cdc458"
      },
      "source": [
        "### Select some numeric features"
      ]
    },
    {
      "cell_type": "code",
      "execution_count": null,
      "metadata": {
        "_cell_guid": "72bfaf96-ef7a-5bf5-114e-0427c662b363"
      },
      "outputs": [],
      "source": [
        "df_train_numeric_corr = df_train_numeric.corr()\n",
        "#sns.heatmap(df_train_numeric_corr)"
      ]
    },
    {
      "cell_type": "code",
      "execution_count": null,
      "metadata": {
        "_cell_guid": "d7bc2f5f-cd9e-f899-bd05-5dd986c7d967"
      },
      "outputs": [],
      "source": [
        "df_train_numeric_corr_imp = df_train_numeric_corr['price_doc'].sort_values()\n",
        "print (df_train_numeric_corr_imp)"
      ]
    },
    {
      "cell_type": "code",
      "execution_count": null,
      "metadata": {
        "_cell_guid": "a6eab548-a4d7-864f-773f-ce955ded71f0"
      },
      "outputs": [],
      "source": [
        "imp_columns = df_train_numeric_corr_imp[:10].index.append(df_train_numeric_corr_imp[:-10].index)\n",
        "print(imp_columns)"
      ]
    },
    {
      "cell_type": "markdown",
      "metadata": {
        "_cell_guid": "715a52f5-e7cd-3520-6f33-4daa202cd345"
      },
      "source": [
        "### Simple XGB"
      ]
    },
    {
      "cell_type": "code",
      "execution_count": null,
      "metadata": {
        "_cell_guid": "fd186ded-cac0-aecd-e99f-2de14f50a247"
      },
      "outputs": [],
      "source": [
        "y_train = df_train_numeric['price_doc'].values.ravel()\n",
        "X_train = df_train_numeric[imp_columns].values\n",
        "X_test = df_test_numeric[imp_columns].values"
      ]
    },
    {
      "cell_type": "code",
      "execution_count": null,
      "metadata": {
        "_cell_guid": "8f496684-a4dc-2b21-493e-4bf374837c58"
      },
      "outputs": [],
      "source": [
        "param={}\n",
        "dtrain = xgb.DMatrix(X_train, label=y_train)\n",
        "dtest = xgb.DMatrix(X_test)\n",
        "model = xgb.train(param, dtrain)\n",
        "d_test_result = model.predict(dtest)"
      ]
    },
    {
      "cell_type": "code",
      "execution_count": null,
      "metadata": {
        "_cell_guid": "e36af8d9-f1ca-2e98-4a24-678b407f22d3"
      },
      "outputs": [],
      "source": [
        "submission_df = df_test[['id']].copy()\n",
        "submission_df.loc[:,'price_doc']=d_test_result\n",
        "submission_df.head()"
      ]
    },
    {
      "cell_type": "code",
      "execution_count": null,
      "metadata": {
        "_cell_guid": "256b029e-08f2-0d5e-ad9c-155672753cb4"
      },
      "outputs": [],
      "source": [
        "submission_df.to_csv('output.csv',header=True,index=False)"
      ]
    },
    {
      "cell_type": "code",
      "execution_count": null,
      "metadata": {
        "_cell_guid": "d33af16c-74c8-4caa-806f-a60b9eb805f3"
      },
      "outputs": [],
      "source": [
        ""
      ]
    }
  ],
  "metadata": {
    "_change_revision": 0,
    "_is_fork": false,
    "kernelspec": {
      "display_name": "Python 3",
      "language": "python",
      "name": "python3"
    },
    "language_info": {
      "codemirror_mode": {
        "name": "ipython",
        "version": 3
      },
      "file_extension": ".py",
      "mimetype": "text/x-python",
      "name": "python",
      "nbconvert_exporter": "python",
      "pygments_lexer": "ipython3",
      "version": "3.6.0"
    }
  },
  "nbformat": 4,
  "nbformat_minor": 0
}