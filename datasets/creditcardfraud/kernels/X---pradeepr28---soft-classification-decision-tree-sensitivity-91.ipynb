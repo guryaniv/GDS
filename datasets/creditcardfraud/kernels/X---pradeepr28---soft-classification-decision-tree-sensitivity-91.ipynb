{
  "cells": [
    {
      "cell_type": "markdown",
      "metadata": {
        "_cell_guid": "1d5f1c59-bab9-f7c0-94c2-467b3350f3cd"
      },
      "source": [
        "In this notebook I have used Decision Tree to predict the output, I have used Soft classification of Decision Tree in order to improve my sensitivity. I was able to get an accuracy of 0.999490888663 with Sensitivity of 0.911392405063 and Specificity of 0.999613241214\n",
        "\n",
        " "
      ]
    },
    {
      "cell_type": "code",
      "execution_count": null,
      "metadata": {
        "_cell_guid": "863c1b5a-05f2-3902-6ea4-326518b1c0c0"
      },
      "outputs": [],
      "source": [
        "#Importing Library\n",
        "import numpy as np\n",
        "import pandas as pd\n",
        "from sklearn.cross_validation import train_test_split"
      ]
    },
    {
      "cell_type": "code",
      "execution_count": null,
      "metadata": {
        "_cell_guid": "42f746ea-7999-7c89-67b4-5b51e17c8f16"
      },
      "outputs": [],
      "source": [
        "DataFrame=pd.read_csv('../input/creditcard.csv')"
      ]
    },
    {
      "cell_type": "code",
      "execution_count": null,
      "metadata": {
        "_cell_guid": "3a800326-225a-2b95-3cf3-97594b6de0fd"
      },
      "outputs": [],
      "source": [
        "#Dropping Time \n",
        "newDframe = DataFrame.drop('Time',axis=1)\n",
        "#Features shortlisted using Feature Importance of LDA\n",
        "cols_of_intrest=['V10','V7','V11','V18','V3','V14','V9','V2','V5','Class']\n",
        "finalDframe=newDframe[cols_of_intrest]"
      ]
    },
    {
      "cell_type": "code",
      "execution_count": null,
      "metadata": {
        "_cell_guid": "80881bbd-ba9b-3441-20b5-50ec06961be9"
      },
      "outputs": [],
      "source": [
        "#Randome Spliting for train and test\n",
        "X, Xt, Y, Yt = train_test_split(finalDframe.drop('Class', axis=1), finalDframe['Class'], test_size=0.20, random_state=10)"
      ]
    },
    {
      "cell_type": "code",
      "execution_count": null,
      "metadata": {
        "_cell_guid": "bff7453d-ec90-a8f8-dd11-003078a46763"
      },
      "outputs": [],
      "source": [
        "#Removing NA's if any\n",
        "X = X.fillna(method='ffill')\n",
        "Xt = Xt.fillna(method='ffill')\n",
        "#Importing Decison\n",
        "from sklearn.tree import DecisionTreeClassifier\n",
        "dtc=DecisionTreeClassifier(max_depth=5)\n",
        "dtc.fit(X,Y)"
      ]
    },
    {
      "cell_type": "code",
      "execution_count": null,
      "metadata": {
        "_cell_guid": "81221cab-892d-e484-596e-9ddbb29cde1a"
      },
      "outputs": [],
      "source": [
        "#Tree generated using Soft Classification of Decision Tree \n",
        "def tree(V10, V7, V11, V18, V3, V14, V9, V2, V5):\n",
        "    if V14 <= -5.87109088898:\n",
        "        if V7 <= 0.384688615799:\n",
        "            if V11 <= 7.6252784729:\n",
        "                if V3 <= -26.7404098511:\n",
        "#                     1.0 0.0 1.0 0.0\n",
        "                    return 0\n",
        "                else:  # if V3 > -26.7404098511\n",
        "                    if V10 <= 4.49727106094:\n",
        "#                         12.0 191.0 203.0 0.940886699507\n",
        "                        return 1\n",
        "                    else:  # if V10 > 4.49727106094\n",
        "#                         1.0 0.0 1.0 0.0\n",
        "                        return 0\n",
        "            else:  # if V11 > 7.6252784729\n",
        "                if V9 <= -3.40974831581:\n",
        "#                     0.0 28.0 28.0 1.0\n",
        "                    return 1\n",
        "                else:  # if V9 > -3.40974831581\n",
        "                    if V3 <= -6.86412239075:\n",
        "#                         17.0 0.0 17.0 0.0\n",
        "                        return 0\n",
        "                    else:  # if V3 > -6.86412239075\n",
        "#                         0.0 1.0 1.0 1.0\n",
        "                        return 1\n",
        "        else:  # if V7 > 0.384688615799\n",
        "            if V10 <= -1.84730434418:\n",
        "                if V18 <= 3.08181285858:\n",
        "                    if V3 <= -26.3150920868:\n",
        "#                         1.0 0.0 1.0 0.0\n",
        "                        return 0\n",
        "                    else:  # if V3 > -26.3150920868\n",
        "#                         0.0 7.0 7.0 1.0\n",
        "                        return 1\n",
        "                else:  # if V18 > 3.08181285858\n",
        "#                     6.0 0.0 6.0 0.0\n",
        "                    return 0\n",
        "            else:  # if V10 > -1.84730434418\n",
        "                if V18 <= 3.78000307083:\n",
        "#                     51.0 0.0 51.0 0.0\n",
        "                    return 0\n",
        "                else:  # if V18 > 3.78000307083\n",
        "                    if V18 <= 3.79609036446:\n",
        "#                         0.0 1.0 1.0 1.0\n",
        "                        return 1\n",
        "                    else:  # if V18 > 3.79609036446\n",
        "#                         5.0 0.0 5.0 0.0\n",
        "                        return 0\n",
        "    else:  # if V14 > -5.87109088898\n",
        "        if V18 <= -4.60471248627:\n",
        "#             0.0 19.0 19.0 1.0\n",
        "            return 1\n",
        "        else:  # if V18 > -4.60471248627\n",
        "            if V14 <= -4.28678417206:\n",
        "                if V10 <= -1.85863828659:\n",
        "                    if V18 <= 1.90742075443:\n",
        "#                         4.0 54.0 58.0 0.931034482759\n",
        "                        return 1\n",
        "                    else:  # if V18 > 1.90742075443\n",
        "#                         7.0 2.0 9.0 0.222222222222\n",
        "                        return 1\n",
        "                else:  # if V10 > -1.85863828659\n",
        "                    if V7 <= -1.98475766182:\n",
        "#                         0.0 2.0 2.0 1.0\n",
        "                        return 1\n",
        "                    else:  # if V7 > -1.98475766182\n",
        "#                         200.0 3.0 203.0 0.0147783251232\n",
        "                        return 0\n",
        "            else:  # if V14 > -4.28678417206\n",
        "                if V10 <= -3.36159563065:\n",
        "                    if V14 <= -3.03404426575:\n",
        "#                         7.0 13.0 20.0 0.65\n",
        "                        return 1\n",
        "                    else:  # if V14 > -3.03404426575\n",
        "#                         196.0 2.0 198.0 0.010101010101\n",
        "                        return 0\n",
        "                else:  # if V10 > -3.36159563065\n",
        "                    if V11 <= 4.52177429199:\n",
        "#                         226939.0 74.0 227013.0 0.000325972521397\n",
        "                        return 0\n",
        "                    else:  # if V11 > 4.52177429199\n",
        "#                         0.0 1.0 1.0 1.0\n",
        "                        return 1\n"
      ]
    },
    {
      "cell_type": "code",
      "execution_count": null,
      "metadata": {
        "_cell_guid": "731cc40a-5d0d-fdbd-9d5c-3086a8d11b22"
      },
      "outputs": [],
      "source": [
        "#Storing Index values of Test data into A list\n",
        "B=[]\n",
        "for i in Xt.index:\n",
        "    B.append(i)"
      ]
    },
    {
      "cell_type": "code",
      "execution_count": null,
      "metadata": {
        "_cell_guid": "bc12d611-7350-271d-8505-dca001cf3216"
      },
      "outputs": [],
      "source": [
        "#Predicting for test data\n",
        "predict=[]\n",
        "for i in range(0,len(Xt)):\n",
        "    predict.append(tree(Xt.V10[B[i]],Xt.V7[B[i]],Xt.V11[B[i]],Xt.V18[B[i]],Xt.V3[B[i]],Xt.V14[B[i]],Xt.V9[B[i]],Xt.V2[B[i]],Xt.V5[B[i]]))"
      ]
    },
    {
      "cell_type": "code",
      "execution_count": null,
      "metadata": {
        "_cell_guid": "1c6b9487-74d2-5610-abb1-1ee2f8721120"
      },
      "outputs": [],
      "source": [
        "from sklearn import metrics\n",
        "Accuracy=metrics.accuracy_score(predict,Yt, normalize=True, sample_weight=None)\n",
        "Accuracy"
      ]
    },
    {
      "cell_type": "code",
      "execution_count": null,
      "metadata": {
        "_cell_guid": "c03eba90-82c2-97ea-232d-8de9cb56e445"
      },
      "outputs": [],
      "source": [
        "tn, fp, fn,tp = metrics.confusion_matrix(predict,Yt).ravel() \n",
        "Sensitivity=tp/float((tp+fn))#Sensitivity \n",
        "Sensitivity"
      ]
    },
    {
      "cell_type": "code",
      "execution_count": null,
      "metadata": {
        "_cell_guid": "0c5e85b3-b75a-dcda-e963-3464e79a2362"
      },
      "outputs": [],
      "source": [
        "Specificity=tn/float((tn+fp))#Specificity \n",
        "Specificity"
      ]
    }
  ],
  "metadata": {
    "_change_revision": 0,
    "_is_fork": false,
    "kernelspec": {
      "display_name": "Python 3",
      "language": "python",
      "name": "python3"
    },
    "language_info": {
      "codemirror_mode": {
        "name": "ipython",
        "version": 3
      },
      "file_extension": ".py",
      "mimetype": "text/x-python",
      "name": "python",
      "nbconvert_exporter": "python",
      "pygments_lexer": "ipython3",
      "version": "3.5.2"
    }
  },
  "nbformat": 4,
  "nbformat_minor": 0
}