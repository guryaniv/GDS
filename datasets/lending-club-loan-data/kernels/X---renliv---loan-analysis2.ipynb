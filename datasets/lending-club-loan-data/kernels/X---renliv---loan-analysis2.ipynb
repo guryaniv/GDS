{"cells":[
 {
  "cell_type": "code",
  "execution_count": null,
  "metadata": {
   "collapsed": false
  },
  "outputs": [],
  "source": "# This Python 3 environment comes with many helpful analytics libraries installed\n# It is defined by the kaggle/python docker image: https://github.com/kaggle/docker-python\n# For example, here's several helpful packages to load in \n\nimport numpy as np # linear algebra\nimport pandas as pd # data processing, CSV file I/O (e.g. pd.read_csv)\nfrom collections import Counter\nimport matplotlib.pyplot as plt\n\n# Input data files are available in the \"../input/\" directory.\n# For example, running this (by clicking run or pressing Shift+Enter) will list the files in the input directory\n\nfrom subprocess import check_output\nprint(check_output([\"ls\", \"../input\"]).decode(\"utf8\"))\n\nloan = pd.read_csv('../input/loan.csv')\n\n#loan.info()\nloan=loan[loan.loan_status!='Current']\nc=Counter(list(loan.loan_status))\nmmp={x[0]:1 for x in c.most_common(20)}\nmmp['Fully Paid']=0\nmmp['Does not meet the credit policy. Status:Fully Paid']=0\nmmp['Issued']=0\nloan['target']=loan['loan_status'].map(mmp)\n\ncl2=['term','grade','sub_grade','purpose']\n\nn=1\nfor i in cl2:\n    plt.subplot(2,2,n)\n    pd.pivot_table(loan, values='target', index=i).plot(kind='barh',alpha=0.5, figsize=(15, 10))\n    n+=1    \n\n\n\n# Any results you write to the current directory are saved as output."
 },
 {
  "cell_type": "code",
  "execution_count": null,
  "metadata": {
   "collapsed": false
  },
  "outputs": [],
  "source": ""
 }
],"metadata":{"kernelspec":{"display_name":"Python 3","language":"python","name":"python3"}}, "nbformat": 4, "nbformat_minor": 0}