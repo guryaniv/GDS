{
  "metadata": {
    "kernelspec": {
      "display_name": "Python 3",
      "language": "python",
      "name": "python3"
    },
    "language_info": {
      "codemirror_mode": {
        "name": "ipython",
        "version": 3
      },
      "file_extension": ".py",
      "mimetype": "text/x-python",
      "name": "python",
      "nbconvert_exporter": "python",
      "pygments_lexer": "ipython3",
      "version": "3.5.2"
    }
  },
  "nbformat": 4,
  "nbformat_minor": 0,
  "cells": [
    {
      "cell_type": "code",
      "execution_count": null,
      "metadata": {
        "_cell_guid": "8fd63246-2c5b-8b04-dc18-5889f29dd397",
        "_active": false,
        "collapsed": false
      },
      "outputs": [],
      "source": "import numpy as np # linear algebra\nimport pandas as pd # data processing, CSV file I/O (e.g. pd.read_csv)\nimport cv2\nfrom matplotlib import pyplot as plt\nimport glob\nimport random \nimport itertools #group in dict\nfrom subprocess import check_output\nfrom sklearn.cluster import KMeans\nimport math  #ceil\nfrom sklearn.neighbors import KNeighborsClassifier\n%matplotlib inline\nprint(check_output([\"ls\", \"../input/train\"]).decode(\"utf8\"))",
      "execution_state": "idle"
    },
    {
      "cell_type": "code",
      "execution_count": null,
      "metadata": {
        "_cell_guid": "71699e8b-78b8-50d4-dea4-7f904d7ce5d9",
        "_active": false,
        "collapsed": false
      },
      "outputs": [],
      "source": "select = 2\n#random.seed(10)\n\nfiles_imgs = sorted(glob.glob('../input/train/*/*.jpg'), key=lambda x: random.random())[:select]\nprint(\"Lenght of train {}\".format(len(files_imgs)))\n\nimgs = {}\nfor i, f in enumerate(files_imgs) :\n    imgs[f] = cv2.imread(f)\n    \ncolor = ('b','g','r')\n\n#function to calculate image channel distribution\ndef show_hist(img,ax,x,y):\n for ch, col in enumerate(color):\n   histo = cv2.calcHist([img],[ch],None,[256],[0,256])\n   ax[x,y].plot(histo,color=col)\n    \nprint(files_imgs)\n\n# plotting original images with their channel distribution\nfig,ax = plt.subplots(len(imgs),2, figsize=(10,6))\nfor i, f in enumerate(files_imgs) :\n  ax[i,0].set_ylabel(f.split('/')[3])\n  ax[i,0].imshow(imgs[f])\n  show_hist(imgs[f],ax,i,1)",
      "execution_state": "idle"
    },
    {
      "cell_type": "code",
      "execution_count": null,
      "metadata": {
        "_cell_guid": "d394372a-a240-f6f8-d086-ae75bf4cc405",
        "_active": false
      },
      "outputs": [],
      "source": "#calculate image histogram\nhisto_grams = {}\n#\ndef cal_hist(f) :\n    for ch, col in enumerate(color):\n      img = imgs[f]\n      v = cv2.calcHist([img],[ch],None,[256],[0,256])\n      v = v.flatten()\n      hist = v/sum(v)\n      histo_grams[f] = hist\n    \n#\nfor f in files_imgs :\n    cal_hist(f)",
      "execution_state": "idle"
    },
    {
      "cell_type": "code",
      "execution_count": null,
      "metadata": {
        "_cell_guid": "37b4ff0c-7318-5fee-883b-4bd69eb928d4",
        "_active": false
      },
      "outputs": [],
      "source": "#matrix features of each image - size is images * hist \nhisto_matrix = np.zeros((len(files_imgs), len(histo_grams[files_imgs[0]])))\n#\nfor i,ifile in enumerate(files_imgs):\n        histo_matrix[i,:] = histo_grams[ifile]",
      "execution_state": "idle"
    },
    {
      "cell_type": "code",
      "execution_count": null,
      "metadata": {
        "_cell_guid": "5a1e05ed-1cb4-c687-003c-0cf9515f787d",
        "_active": false
      },
      "outputs": [],
      "source": "len(histo_grams[files_imgs[0]])\nstr(histo_grams)",
      "execution_state": "idle"
    },
    {
      "cell_type": "code",
      "execution_count": null,
      "metadata": {
        "_cell_guid": "ebedb592-c261-5421-f4fe-6e174ff124a1",
        "_active": false
      },
      "outputs": [],
      "source": "#histo_grams['../input/train/ALB/img_07262.jpg']\n#nbr_occurences = np.sum( (histo_grams['../input/train/ALB/img_07262.jpg'] > 0) * 1, axis = 0)\n#nbr_occurences\n#histo_grams.values()\n#kmeans = KMeans(n_clusters = 8, random_state = 0).fit(histo_grams.values())\n\n#img = imgs['../input/train/ALB/img_07262.jpg']\n#f = '../input/train/ALB/img_07262.jpg'\n#img = imgs[f]\n#img = cv2.imread(f)\n#v = cv2.calcHist([img],[0],None,[256],[0,256])\n#v\n#v = v.flatten()\n#v\n#hist = v/sum(v)\n#histo_grams[f] = hist",
      "execution_state": "idle"
    },
    {
      "cell_type": "code",
      "execution_count": null,
      "metadata": {
        "_cell_guid": "c608d4b9-3844-96ce-722c-d97842871cc8",
        "_active": false
      },
      "outputs": [],
      "source": "#compute distances between histograms and store them in a dictionary\n#compare methode is cv2.cv.CV_COMP_INTERSECT = 2\ndist_matrix = np.zeros((len(files_imgs),len(files_imgs)))\nfor i , ifile in enumerate(files_imgs):\n    for j, jfile in enumerate(files_imgs):\n        if i <= j :\n            c = cv2.compareHist(histo_grams[ifile], histo_grams[jfile],2)\n            dist_matrix[i,j] = c\n            dist_matrix[j,i] = c\n#\n\n#display distance histograms\nplt.hist(dist_matrix.flatten(), bins=50)\nplt.title('distance matrix histogram')",
      "execution_state": "idle"
    },
    {
      "cell_type": "code",
      "execution_count": null,
      "metadata": {
        "_cell_guid": "4c294ade-58b2-adc8-feb0-914b266fecf1",
        "_active": false,
        "collapsed": false
      },
      "outputs": [],
      "source": "#clustering image with kmeans\n#number of clusters\nnclusters = 2\n\n#algorithm terminaison criteria = (type, max_iter, epsilon )\ncriteria = (cv2.TERM_CRITERIA_EPS, 100, 0.01)\n\n#number of times the algorithm is executed\nnattemps= 10\n\n#ret: compactness sum of squared distance from each point to their centers\n#labels: label array each element is marked\n#centers: centers of clusters\nret,labels,centers = cv2.kmeans(np.float32(histo_matrix), nclusters,None, criteria, nattemps, cv2.KMEANS_RANDOM_CENTERS)\n\n#displaying labels matrix\nlabels",
      "execution_state": "idle"
    },
    {
      "cell_type": "code",
      "execution_count": null,
      "metadata": {
        "_cell_guid": "e41d04ce-e737-d39b-f0ec-1e2c58dc31fb",
        "_active": false
      },
      "outputs": [],
      "source": "#transform n dimensional array in list\nlabel_list = []\nfor i,l in enumerate(labels) :\n    label_list.append(l[0])\nprint(label_list)",
      "execution_state": "idle"
    },
    {
      "cell_type": "code",
      "execution_count": null,
      "metadata": {
        "_cell_guid": "6ffa3738-669f-6eea-9d9f-268efab9f196",
        "_active": false
      },
      "outputs": [],
      "source": "#mapping image with it s label\n#map_lab = zip(label_list,files_imgs)",
      "execution_state": "idle"
    },
    {
      "cell_type": "code",
      "execution_count": null,
      "metadata": {
        "_cell_guid": "109fc5f6-c932-5f86-e2f0-083fb54a274c",
        "_active": false
      },
      "outputs": [],
      "source": "map_lab = [ (lab,f) for (lab, f) in (zip(label_list, files_imgs))]\nmap_lab",
      "execution_state": "idle"
    },
    {
      "cell_type": "code",
      "execution_count": null,
      "metadata": {
        "_cell_guid": "7944dac1-42fc-57f8-e0e3-3abe75b0a7ed",
        "_active": false
      },
      "outputs": [],
      "source": "#get unique keys\n#t = {}\n#ukeys = [ k for k,v in map_lab if k not in t ]\n#ukeys",
      "execution_state": "idle"
    },
    {
      "cell_type": "code",
      "execution_count": null,
      "metadata": {
        "_cell_guid": "55c411c7-52d3-8bff-a504-706107344014",
        "_active": false
      },
      "outputs": [],
      "source": "#number of keys by label\nacounter = dict()\nfor lab in label_list :\n    acounter.setdefault(lab, 0)\n    acounter[lab] += 1\n    \nacounter  ",
      "execution_state": "idle"
    },
    {
      "cell_type": "code",
      "execution_count": null,
      "metadata": {
        "_cell_guid": "075c6f40-8bb1-3bf4-e7c9-68808d2ea2bc",
        "_active": false
      },
      "outputs": [],
      "source": null,
      "execution_state": "idle"
    },
    {
      "cell_type": "code",
      "execution_count": null,
      "metadata": {
        "_cell_guid": "27680cb6-0853-0fa8-2181-031429965558",
        "_active": false
      },
      "outputs": [],
      "source": "def get_l(lab) :\n    return([v for k,v in map_lab if k == lab] )",
      "execution_state": "idle"
    },
    {
      "cell_type": "code",
      "execution_count": null,
      "metadata": {
        "_cell_guid": "0844bcde-7809-d52e-4f92-e77a687cf2e1",
        "_active": false
      },
      "outputs": [],
      "source": null,
      "execution_state": "idle"
    },
    {
      "cell_type": "code",
      "execution_count": null,
      "metadata": {
        "_cell_guid": "382e8d80-43be-7ff4-6842-58ec993b1434",
        "_active": false
      },
      "outputs": [],
      "source": "for i in range(nclusters):\n    print(i)\n    l=get_l(i)\n    print(l)",
      "execution_state": "idle"
    },
    {
      "cell_type": "code",
      "execution_count": null,
      "metadata": {
        "_cell_guid": "c865a87c-4622-163f-6845-56eede43d35c",
        "_active": false
      },
      "outputs": [],
      "source": null,
      "execution_state": "idle"
    },
    {
      "cell_type": "code",
      "execution_count": null,
      "metadata": {
        "_cell_guid": "b0ad3ed0-2c79-457b-2e2a-7421b6a2550d",
        "_active": false
      },
      "outputs": [],
      "source": "def show_imgs(flist) :\n        if (len(flist) >= 8) :\n            tmp_files = [flist[np.random.choice(len(flist))] for _ in range(8)]\n            fig,ax = plt.subplots(2,4, figsize=(10,6))\n            for i, f in enumerate(tmp_files) : \n                ax[i // 4, i % 4].imshow(imgs[f])\n                ax[i // 4, i % 4].set_ylabel(f.split('/')[3])\n        elif (len(flist) >= 4) :\n            tmp_files = [flist[np.random.choice(len(flist))] for _ in range(4)]\n            fig,ax = plt.subplots(1,4, figsize=(10,6))\n            for i, f in enumerate(tmp_files) : \n                ax[i].imshow(imgs[f])\n                ax[i].set_ylabel(f.split('/')[3])\n        elif (len(flist) >= 2) :\n            tmp_files = [flist[np.random.choice(len(flist))] for _ in range(2)]\n            fig,ax = plt.subplots(1,2, figsize=(10,6))\n            for i, f in enumerate(tmp_files) : \n                ax[i].imshow(imgs[f])\n                ax[i].set_ylabel(f.split('/')[3])\n        else :\n            fig,ax = plt.subplots(1,1, figsize=(10,3))\n            ax.imshow(imgs[flist[0]])   \n            ax.set_ylabel(flist[0].split('/')[3])\n            ",
      "execution_state": "idle"
    },
    {
      "cell_type": "code",
      "execution_count": null,
      "metadata": {
        "_cell_guid": "d49a616c-184d-a21e-d0a6-4c724448b6bb",
        "_active": false
      },
      "outputs": [],
      "source": "for i in range(nclusters):\n    #print(i)\n    show_imgs(get_l(i))",
      "execution_state": "idle"
    },
    {
      "cell_type": "code",
      "execution_count": null,
      "metadata": {
        "_cell_guid": "383092c0-0e69-82cc-af20-a2d422d382df",
        "_active": false
      },
      "outputs": [],
      "source": "#get short file name\ndef get_short(f):\n    t = f.split('/')\n    return(t[len(t) - 1])\n\ndef get_group(f) :\n    t = f.split('/')\n    return(t[len(t) - 2])\n\n#calculate image features  \ndef cal_feat(f) :\n    img = imgs[f]\n    v = get_short(f) + ','\n    for ch, col in enumerate(color):\n        h = cv2.calcHist([img],[ch],None,[256], [0,256])\n        m,s = cv2.meanStdDev(h)\n        if (ch == (len(color) - 1) ):\n            v = v + str(int(m[0][0])) + ',' + str(int(s[0][0])) + ',' + str(int(h.min())) + ',' + str(int(h.max())) + ',' + get_group(f)\n        else :\n            v = v + str(int(m[0][0])) + ',' + str(int(s[0][0])) + ',' + str(int(h.min())) + ',' + str(int(h.max())) + ','\n    return(v.split(','))\n        \n#calculate features for all images to a list\nw = list()\nfor f in files_imgs :\n    w.append(cal_feat(f))\n \n#create a dataframe for image features as training data\ndf = pd.DataFrame.from_records(w, columns=['img','mean1','stdev1','min1', 'max1','mean2','stdev2','min2', 'max2','mean3','stdev3','min3', 'max3','group'])\n\n#add label columns as target data\ndf['lab'] = df['group']\ndf['lab'].replace(['ALB','BET','DOL','LAG','NoF','OTHER','SHARK','YFT'],[0,1,2,3,4,5,6,7], inplace=True)\ndf\ndf['lab'].unique()",
      "execution_state": "idle"
    },
    {
      "cell_type": "code",
      "execution_count": null,
      "metadata": {
        "_cell_guid": "6327a6b0-6275-8152-c825-2000f476a885",
        "_active": false,
        "collapsed": false
      },
      "outputs": [],
      "source": "knn = KNeighborsClassifier(n_neighbors = 1)",
      "execution_state": "idle"
    },
    {
      "cell_type": "code",
      "execution_count": null,
      "metadata": {
        "_cell_guid": "60c2680c-1dc1-e693-878e-551e06ddf96e",
        "_active": true,
        "collapsed": false
      },
      "outputs": [],
      "source": "X = df.drop(['img','lab','group'], axis=1)\n#target/response vector \nY = df['lab']\ndf",
      "execution_state": "idle"
    },
    {
      "cell_type": "code",
      "execution_count": null,
      "metadata": {
        "_cell_guid": "5bc9075a-6f8f-3c6a-913a-37dab4d9bc4c",
        "_active": false
      },
      "outputs": [],
      "source": "knn.fit(X,Y)",
      "execution_state": "idle"
    },
    {
      "cell_type": "code",
      "execution_count": null,
      "metadata": {
        "_cell_guid": "d2b1001b-ded3-2416-686c-ca4b0ccdbd3b",
        "_active": false,
        "collapsed": false
      },
      "outputs": [],
      "source": "pred = [[3600,\t4223,\t6,\t35211,\t3600,\t4410,\t9,\t42053,\t3600,\t3530,\t122,\t25519],\n[3600,\t4620,\t4,\t21343,\t3600,\t4917,\t5,\t26403,\t3600,\t4961,\t31,\t28796]]\n\npred\n#knn.predict([[3600,5624,41,23558,3600,2947,6,20909,3600,3927,55,15350]])",
      "execution_state": "idle"
    },
    {
      "cell_type": "code",
      "execution_count": null,
      "metadata": {
        "_cell_guid": "d75690df-70b2-f8f9-b692-f6cc50e59818",
        "_active": false,
        "collapsed": false
      },
      "outputs": [],
      "source": "prob = knn.predict_proba(pred)",
      "execution_state": "idle"
    },
    {
      "cell_type": "code",
      "execution_count": null,
      "metadata": {
        "_cell_guid": "2c377d96-eb4b-6331-11d3-02411ca203ac",
        "_active": false,
        "collapsed": false
      },
      "outputs": [],
      "source": "prob\n#submission\n#image,ALB,BET,DOL,LAG,NoF,OTHER,SHARK,YFT\n#img_00005.jpg,0.45500264690312336,0.05293806246691371,0.03096876654314452,0.017734250926416093,0.12308099523557438,0.07914240338803599,0.046585494970884066,0.1942826892535733\n\n#l = [[3600,5624,41,23558,3600,2947,6,20909,3600,3927,55,15350]]\n#type(l)\n#m = knn.predict_proba(l)\n#m\nprob = prob.tolist()\nprob",
      "execution_state": "idle"
    },
    {
      "metadata": {
        "_cell_guid": "b693f34f-059e-0b43-39e8-abd7f0fd1368",
        "_active": false,
        "collapsed": false
      },
      "source": "\n#l = []\n#l = [[0.375, 0.25, 0.0, 0.0, 0.0, 0.0, 0.25, 0.125],[1,2,3,4,5,6,7,8]]\n#v = [['img1'],['img3']]\n#k = [ i+j for i,j in zip(v,l)]\n#','.join(map(str,k[0]))\n#','.join(map(str,k[1]))",
      "execution_count": null,
      "cell_type": "code",
      "outputs": [],
      "execution_state": "idle"
    },
    {
      "metadata": {
        "_cell_guid": "7098226a-d1df-e59e-7092-b732820b15fb",
        "_active": false,
        "collapsed": false
      },
      "source": "y = []\nfor i, j in enumerate (df['img']):\n    y.append([j])\ny",
      "execution_count": null,
      "cell_type": "code",
      "outputs": [],
      "execution_state": "idle"
    },
    {
      "metadata": {
        "_cell_guid": "e2316f12-df39-a647-d587-82570eb0baa3",
        "_active": false,
        "collapsed": false
      },
      "source": "w = [ i+j for i,j in zip(y, prob)]\nw",
      "execution_count": null,
      "cell_type": "code",
      "outputs": [],
      "execution_state": "idle"
    },
    {
      "metadata": {
        "_cell_guid": "560e68cc-593f-43c6-16ff-246e28f86552",
        "_active": false,
        "collapsed": false
      },
      "source": "','.join(map(str,w[0]))",
      "execution_count": null,
      "cell_type": "code",
      "outputs": [],
      "execution_state": "idle"
    },
    {
      "metadata": {
        "_cell_guid": "e699f77a-fb6f-64c4-4558-2a72efcc564d",
        "_active": false,
        "collapsed": false
      },
      "source": "','.join(map(str,w[1]))",
      "execution_count": null,
      "cell_type": "code",
      "outputs": [],
      "execution_state": "idle"
    },
    {
      "metadata": {
        "_cell_guid": "ace45b2a-8109-49cc-7233-2d4ef4406f77",
        "_active": false,
        "collapsed": false
      },
      "source": "len(y)",
      "execution_count": null,
      "cell_type": "code",
      "outputs": [],
      "execution_state": "idle"
    },
    {
      "metadata": {
        "_cell_guid": "bae74217-fbdf-78ad-68e9-55e11a2516a0",
        "_active": false,
        "collapsed": false
      },
      "source": "r=''\nfor i, j in enumerate(y):\n    r = r + ','.join(map(str,w[i]))+'\\n'\n    \no = print(r)\no",
      "execution_count": null,
      "cell_type": "code",
      "outputs": [],
      "execution_state": "idle"
    },
    {
      "metadata": {
        "_cell_guid": "b4d3b0db-92bd-c4e2-1631-edac715e30cd",
        "_active": false,
        "collapsed": false
      },
      "source": "def ral() :\n    r=''\n    for i, j in enumerate(y):\n        r = r + ','.join(map(str,w[i])) +'\\n'\n    return(r)\nral()\nq = ral()\nprint(q)",
      "execution_count": null,
      "cell_type": "code",
      "outputs": [],
      "execution_state": "idle"
    }
  ]
}