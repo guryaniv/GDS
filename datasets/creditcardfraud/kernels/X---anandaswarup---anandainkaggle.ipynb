{
  "cells": [
    {
      "cell_type": "markdown",
      "metadata": {
        "_cell_guid": "54ceab4f-486e-7a1e-91c9-c7ca3e28ea4c"
      },
      "source": [
        "Credit card Fraud Detection"
      ]
    },
    {
      "cell_type": "code",
      "execution_count": null,
      "metadata": {
        "_cell_guid": "ca098099-2140-5f61-ad2b-a0659569714d"
      },
      "outputs": [],
      "source": [
        "# This Python 3 environment comes with many helpful analytics libraries installed\n",
        "# It is defined by the kaggle/python docker image: https://github.com/kaggle/docker-python\n",
        "# For example, here's several helpful packages to load in \n",
        "\n",
        "import numpy as np # linear algebra\n",
        "import pandas as pd # data processing, CSV file I/O (e.g. pd.read_csv)\n",
        "\n",
        "# Input data files are available in the \"../input/\" directory.\n",
        "# For example, running this (by clicking run or pressing Shift+Enter) will list the files in the input directory\n",
        "\n",
        "from subprocess import check_output\n",
        "print(check_output([\"ls\", \"../input\"]).decode(\"utf8\"))\n",
        "\n",
        "# Any results you write to the current directory are saved as output."
      ]
    },
    {
      "cell_type": "code",
      "execution_count": null,
      "metadata": {
        "_cell_guid": "730bb192-da60-f1cd-6cc7-8fd97a0e1d00"
      },
      "outputs": [],
      "source": [
        "from mpl_toolkits.mplot3d import Axes3D\n",
        "from matplotlib.colors import ListedColormap\n",
        "from  sklearn.cross_validation import train_test_split\n",
        "from sklearn.preprocessing import StandardScaler\n",
        "from sklearn.ensemble import RandomForestClassifier\n",
        "from sklearn.decomposition import PCA\n",
        "import matplotlib.pyplot as plt\n",
        "import pandas as pd\n",
        "import numpy as np\n",
        "\n",
        "\n",
        "\n",
        "df=pd.read_csv(\"../input/creditcard.csv\")\n",
        "\n",
        "#print(df.head)\n",
        "\n",
        "X=df.iloc[1:, :29].values\n",
        "y=df.iloc[1:,30].values\n",
        "\n",
        "X_train, X_test, y_train, y_test=train_test_split(X, y, test_size=0.6, random_state=42)\n",
        "\n",
        "sc= StandardScaler()\n",
        "\n",
        "X_train=sc.fit_transform(X_train)\n",
        "X_test=sc.fit_transform(X_test)\n",
        "\n",
        "pca = PCA(n_components=None)\n",
        "\n",
        "\n",
        "pca.fit(X_train)\n",
        "\n",
        "\n",
        "prev_variance_explained=pca.explained_variance_ratio_[0]\n",
        "now_sum=prev_variance_explained\n",
        "compo=1\n",
        "for i in range(1,len(pca.explained_variance_ratio_)):\n",
        "     now_sum=now_sum+pca.explained_variance_ratio_[i]\n",
        "     now_variance_explained= (pca.explained_variance_ratio_[i]/now_sum)\n",
        "     if (now_variance_explained< 0.1):\n",
        "         compo=i\n",
        "         break\n",
        "\n",
        "\n",
        "pca=PCA(n_components=compo)\n",
        "X_train=pca.fit_transform(X_train,y_train)\n",
        "\n",
        "\n",
        "\n",
        "X_test=pca.transform(X_test)\n",
        "\n",
        "\n",
        "\n",
        "\n",
        "colors=['red', 'blue', 'green', 'cyan',  'black', 'magenta', 'lightgreen', 'white', 'orange', 'yellow'] \n",
        "\n",
        "cmap= ListedColormap(colors[:len(np.unique(y))])\n",
        "\n",
        "fig=plt.figure(1, figsize=(8,8))\n",
        "\n",
        "ax=Axes3D(fig, elev=10, azim=210)\n",
        "\n",
        "for idx,cl in enumerate(np.unique(y_train)):\n",
        " ax.scatter(X_train[y_train==cl,0], X_train[y_train==cl,1], X_train[y_train==cl,2],alpha=1.0, c=cmap(idx), marker='o', label=cl)\n",
        "plt.legend(loc=\"lower left\")\n",
        "\n",
        "plt.show()"
      ]
    },
    {
      "cell_type": "code",
      "execution_count": null,
      "metadata": {
        "_cell_guid": "10fb1d97-8bf6-b6f0-61cb-df9d5bd686ae"
      },
      "outputs": [],
      "source": [
        "In the above projection, one can see that the non-fradulent and the fradulent points are reasonably well separated after PCA.\n",
        "So for classification my choice will be a Support Vector Classifier as the underlying assumption for Support Vector Classifier is that the points are well separable but some random small noise \n",
        "is getting them misclassified. \n"
      ]
    },
    {
      "cell_type": "code",
      "execution_count": null,
      "metadata": {
        "_cell_guid": "fc781cc2-6ef4-9e7e-c59e-c03cffc2a5d2"
      },
      "outputs": [],
      "source": [
        "from sklearn.preprocessing import StandardScaler\n",
        "from sklearn.ensemble import RandomForestClassifier\n",
        "from sklearn.decomposition import PCA\n",
        "import matplotlib.pyplot as plt\n",
        "from sklearn.svm import LinearSVC\n",
        "from  sklearn.cross_validation import train_test_split\n",
        "\n",
        "df=pd.read_csv(\"../input/creditcard.csv\")\n",
        "\n",
        "#print(df.head)\n",
        "\n",
        "X=df.iloc[1:, :29].values\n",
        "y=df.iloc[1:,30].values\n",
        "\n",
        "X_train, X_test, y_train, y_test=train_test_split(X, y, test_size=0.6, random_state=42)\n",
        "\n",
        "sc= StandardScaler()\n",
        "\n",
        "X_train=sc.fit_transform(X_train)\n",
        "X_test=sc.fit_transform(X_test)\n",
        "\n",
        "pca = PCA(n_components=None)\n",
        "\n",
        "\n",
        "pca.fit(X_train)\n",
        "\n",
        "\n",
        "prev_variance_explained=pca.explained_variance_ratio_[0]\n",
        "now_sum=prev_variance_explained\n",
        "compo=1\n",
        "for i in range(1,len(pca.explained_variance_ratio_)):\n",
        "     now_sum=now_sum+pca.explained_variance_ratio_[i]\n",
        "     now_variance_explained= (pca.explained_variance_ratio_[i]/now_sum)\n",
        "     if (now_variance_explained< 0.1):\n",
        "         compo=i\n",
        "         break\n",
        "\n",
        "\n",
        "pca=PCA(n_components=compo)\n",
        "X_train=pca.fit_transform(X_train,y_train)\n",
        "X_test=pca.transform(X_test)\n",
        "svc= LinearSVC(penalty='l2', loss='squared_hinge', dual=True, tol=0.0001, C=1.0,  class_weight='balanced')\n",
        "svc.fit(X_train, y_train)\n",
        "print(\"The score is =\",svc.score(X_test,y_test))"
      ]
    }
  ],
  "metadata": {
    "_change_revision": 0,
    "_is_fork": false,
    "kernelspec": {
      "display_name": "Python 3",
      "language": "python",
      "name": "python3"
    },
    "language_info": {
      "codemirror_mode": {
        "name": "ipython",
        "version": 3
      },
      "file_extension": ".py",
      "mimetype": "text/x-python",
      "name": "python",
      "nbconvert_exporter": "python",
      "pygments_lexer": "ipython3",
      "version": "3.5.2"
    }
  },
  "nbformat": 4,
  "nbformat_minor": 0
}