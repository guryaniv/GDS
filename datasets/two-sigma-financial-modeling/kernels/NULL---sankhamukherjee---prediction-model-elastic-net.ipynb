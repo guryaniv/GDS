{
  "cells": [
    {
      "cell_type": "markdown",
      "metadata": {
        "_cell_guid": "d00bc701-d264-6237-b07f-f8b38772042b"
      },
      "source": [
        "This notebook is going to explore different convenient ways to train a model and make a submission. \n",
        "\n",
        "This is an easy method of testing different models. This model codifies the methodology presented in the following link into something that is easy to work with. \n",
        "\n",
        "https://www.kaggle.com/sudalairajkumar/two-sigma-financial-modeling/univariate-analysis-regression-lb-0-006"
      ]
    },
    {
      "cell_type": "code",
      "execution_count": null,
      "metadata": {
        "_cell_guid": "9687e23f-b611-ce4a-f52b-b21774ebfa09"
      },
      "outputs": [],
      "source": [
        "import numpy as np \n",
        "import pandas as pd \n",
        "import matplotlib.pyplot as plt\n",
        "\n",
        "from sklearn.linear_model import ElasticNetCV, LinearRegression\n",
        "\n",
        "import kagglegym"
      ]
    },
    {
      "cell_type": "code",
      "execution_count": null,
      "metadata": {
        "_cell_guid": "a473d017-da8a-1551-48c5-ddab44d12c52"
      },
      "outputs": [],
      "source": [
        "class fitModel():\n",
        "    '''\n",
        "        This class is going to take train values\n",
        "        and a particular type of model and take care of\n",
        "        the prediction step and wil contain a fit\n",
        "        step. \n",
        "        \n",
        "        Remember to send in a copy of train because\n",
        "        there is a high chance that it will be modified\n",
        "        \n",
        "        the model is a sklearn model like ElasticNetCV\n",
        "        \n",
        "        all other parameters are passed onto the model\n",
        "    '''\n",
        "    \n",
        "    def __init__(self, model, train, columns):\n",
        "\n",
        "        # first save the model ...\n",
        "        self.model   = model\n",
        "        self.columns = columns\n",
        "        \n",
        "        # Get the X, and y values, \n",
        "        y = np.array(train.y)\n",
        "        \n",
        "        X = train[columns]\n",
        "        self.xMeans = X.mean(axis=0) # Remember to save this value\n",
        "        self.xStd   = X.std(axis=0)  # Remember to save this value\n",
        "\n",
        "        X = np.array(X.fillna( self.xMeans ))\n",
        "        X = (X - np.array(self.xMeans))/np.array(self.xStd)\n",
        "        \n",
        "        # fit the model\n",
        "        self.model.fit(X, y)\n",
        "        \n",
        "        return\n",
        "    \n",
        "    def predict(self, features):\n",
        "        '''\n",
        "            This function is going to return the predicted\n",
        "            value of the function that we are trying to \n",
        "            predict, given the observations. \n",
        "        '''\n",
        "        X = features[self.columns]\n",
        "        X = np.array(X.fillna( self.xMeans ))\n",
        "        X = (X - np.array(self.xMeans))/np.array(self.xStd)\n",
        "\n",
        "        return self.model.predict(X)"
      ]
    },
    {
      "cell_type": "code",
      "execution_count": null,
      "metadata": {
        "_cell_guid": "187bf4e1-a8c0-bd13-40ad-0ca3806a0625"
      },
      "outputs": [],
      "source": [
        "def checkModel(modelToUse, columns):\n",
        "    '''\n",
        "        This  function checks and makes sure that the \n",
        "        model provided is doing what it is supposed to\n",
        "        do. This is a sanity check ...\n",
        "    '''\n",
        "    \n",
        "    rewards = []\n",
        "    env = kagglegym.make()\n",
        "    observation = env.reset()\n",
        "    \n",
        "    train = observation.train\n",
        "    \n",
        "    # Just to make things easier to visualize\n",
        "    # and also to speed things up ...\n",
        "    # -----------------------------------------\n",
        "    train   = train[['timestamp', 'y'] + columns]\n",
        "    train   = train.groupby('timestamp').aggregate(np.mean)\n",
        "    train.y = np.cumsum(train.y) # easier to visualize\n",
        "    \n",
        "    print('fitting a model')\n",
        "    model = fitModel(modelToUse, train, columns)\n",
        "    \n",
        "    print('predict the same data')\n",
        "    yHat = model.predict(train) # We already select required columns\n",
        "    \n",
        "    plt.figure()\n",
        "    plt.plot(yHat, color='black', lw=2, label='predicted')\n",
        "    plt.plot(train.y, '.', mec='None', mfc='orange', label='original')\n",
        "    plt.legend(loc='lower right')\n",
        "    \n",
        "    return\n",
        "    \n",
        "columns = ['technical_30', 'technical_20', 'fundamental_11', 'technical_19']\n",
        "checkModel(LinearRegression(), columns)\n",
        "plt.title('four columns')\n",
        "    \n",
        "# Get all columns here \n",
        "env     = kagglegym.make()\n",
        "allCols = env.reset().train.columns\n",
        "\n",
        "checkModel(LinearRegression(), [c for c in allCols if 'fundamental' in c])\n",
        "plt.title('fundamentals')\n",
        "\n",
        "checkModel(LinearRegression(), [c for c in allCols if 'technical' in c])\n",
        "plt.title('technicals')\n",
        "\n",
        "\n"
      ]
    },
    {
      "cell_type": "markdown",
      "metadata": {
        "_cell_guid": "bdac5711-babc-9234-758c-a412f14b58b4"
      },
      "source": [
        "Now, we are going to start the model, and fit the model with an elastic net. "
      ]
    },
    {
      "cell_type": "code",
      "execution_count": null,
      "metadata": {
        "_cell_guid": "d06997e7-d977-2cf8-3e5e-72ff5daeb797"
      },
      "outputs": [],
      "source": [
        "def getScore(modelToUse, columns):\n",
        "    \n",
        "    print('Starting a new calculation for score')\n",
        "    rewards = []\n",
        "    env = kagglegym.make()\n",
        "    observation = env.reset()\n",
        "    \n",
        "    print('fitting a model')\n",
        "    model = fitModel(modelToUse, observation.train.copy(), columns)\n",
        "\n",
        "    print('Starting to fit a model')\n",
        "    while True:\n",
        "        \n",
        "        prediction  = model.predict(observation.features.copy())\n",
        "        target      = observation.target\n",
        "        target['y'] = prediction\n",
        "        \n",
        "        timestamp = observation.features[\"timestamp\"][0]\n",
        "        if timestamp % 100 == 0:\n",
        "            print(timestamp)\n",
        "\n",
        "        observation, reward, done, info = env.step(target)\n",
        "        rewards.append(reward)\n",
        "        if done: break\n",
        "            \n",
        "    return info['public_score'], rewards"
      ]
    },
    {
      "cell_type": "code",
      "execution_count": null,
      "metadata": {
        "_cell_guid": "31700934-8f19-c071-52f4-62fc84b65283"
      },
      "outputs": [],
      "source": [
        "columns = ['technical_30', 'technical_20', 'fundamental_11', 'technical_19']\n",
        "getScore(ElasticNetCV(), columns)[0]"
      ]
    }
  ],
  "metadata": {
    "_change_revision": 0,
    "_is_fork": false,
    "kernelspec": {
      "display_name": "Python 3",
      "language": "python",
      "name": "python3"
    },
    "language_info": {
      "codemirror_mode": {
        "name": "ipython",
        "version": 3
      },
      "file_extension": ".py",
      "mimetype": "text/x-python",
      "name": "python",
      "nbconvert_exporter": "python",
      "pygments_lexer": "ipython3",
      "version": "3.5.2"
    }
  },
  "nbformat": 4,
  "nbformat_minor": 0
}