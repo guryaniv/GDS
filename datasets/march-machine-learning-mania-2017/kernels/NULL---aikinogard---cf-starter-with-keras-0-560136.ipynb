{
  "cells": [
    {
      "cell_type": "markdown",
      "metadata": {
        "_cell_guid": "9f3ab4ef-638b-42cd-f065-0617d5d0e408"
      },
      "source": [
        "Collaborative filtering starter with Keras. Learned from Jeremy Howard's MOOC.\n",
        "\n",
        "Up vote if you find this helpful. "
      ]
    },
    {
      "cell_type": "code",
      "execution_count": null,
      "metadata": {
        "_cell_guid": "8b79fe12-86bc-b95f-66ea-77f245342873"
      },
      "outputs": [],
      "source": [
        "# This Python 3 environment comes with many helpful analytics libraries installed\n",
        "# It is defined by the kaggle/python docker image: https://github.com/kaggle/docker-python\n",
        "# For example, here's several helpful packages to load in \n",
        "\n",
        "import numpy as np # linear algebra\n",
        "import pandas as pd # data processing, CSV file I/O (e.g. pd.read_csv)\n",
        "\n",
        "# Input data files are available in the \"../input/\" directory.\n",
        "# For example, running this (by clicking run or pressing Shift+Enter) will list the files in the input directory\n",
        "\n",
        "from subprocess import check_output\n",
        "print(check_output([\"ls\", \"../input\"]).decode(\"utf8\"))\n",
        "\n",
        "# Any results you write to the current directory are saved as output."
      ]
    },
    {
      "cell_type": "code",
      "execution_count": null,
      "metadata": {
        "_cell_guid": "f9160699-dbe5-0f19-303d-1591d547073e"
      },
      "outputs": [],
      "source": [
        "import matplotlib.pyplot as plt\n",
        "%matplotlib inline"
      ]
    },
    {
      "cell_type": "code",
      "execution_count": null,
      "metadata": {
        "_cell_guid": "245a3877-ae07-b690-33a8-050703cffbce"
      },
      "outputs": [],
      "source": [
        "from keras.layers import Input, Dense, Dropout, Flatten, Embedding, merge\n",
        "from keras.regularizers import l2\n",
        "from keras.optimizers import Adam\n",
        "from keras.models import Model"
      ]
    },
    {
      "cell_type": "code",
      "execution_count": null,
      "metadata": {
        "_cell_guid": "75913e3f-893e-742a-15f6-edd66801bf7c"
      },
      "outputs": [],
      "source": [
        "dr = pd.read_csv(\"../input/RegularSeasonDetailedResults.csv\")"
      ]
    },
    {
      "cell_type": "code",
      "execution_count": null,
      "metadata": {
        "_cell_guid": "bf76fa9c-0161-0f2a-5fbf-1e2b9e8e0347"
      },
      "outputs": [],
      "source": [
        "dr.head()"
      ]
    },
    {
      "cell_type": "code",
      "execution_count": null,
      "metadata": {
        "_cell_guid": "899b99b8-50d0-c9de-afd1-829f427ca811"
      },
      "outputs": [],
      "source": [
        "simple_df_1 = pd.DataFrame()\n",
        "simple_df_1[[\"team1\", \"team2\"]] =dr[[\"Wteam\", \"Lteam\"]].copy()\n",
        "simple_df_1[\"pred\"] = 1\n",
        "\n",
        "simple_df_2 = pd.DataFrame()\n",
        "simple_df_2[[\"team1\", \"team2\"]] =dr[[\"Lteam\", \"Wteam\"]]\n",
        "simple_df_2[\"pred\"] = 0\n",
        "\n",
        "simple_df = pd.concat((simple_df_1, simple_df_2), axis=0)\n",
        "simple_df.head()"
      ]
    },
    {
      "cell_type": "code",
      "execution_count": null,
      "metadata": {
        "_cell_guid": "fe726fb8-7c32-fa9b-c643-f02dad0fc0ee"
      },
      "outputs": [],
      "source": [
        "n = simple_df.team1.nunique()\n",
        "n"
      ]
    },
    {
      "cell_type": "code",
      "execution_count": null,
      "metadata": {
        "_cell_guid": "48016a5c-22fe-a04a-5fc0-33024bd9b5ac"
      },
      "outputs": [],
      "source": [
        "trans_dict = {t: i for i, t in enumerate(simple_df.team1.unique())}\n",
        "simple_df[\"team1\"] = simple_df[\"team1\"].apply(lambda x: trans_dict[x])\n",
        "simple_df[\"team2\"] = simple_df[\"team2\"].apply(lambda x: trans_dict[x])\n",
        "simple_df.head()"
      ]
    },
    {
      "cell_type": "code",
      "execution_count": null,
      "metadata": {
        "_cell_guid": "8759d639-b02b-e3f2-2593-878fcadd34a2"
      },
      "outputs": [],
      "source": [
        "train = simple_df.values\n",
        "np.random.shuffle(train)"
      ]
    },
    {
      "cell_type": "code",
      "execution_count": null,
      "metadata": {
        "_cell_guid": "ea829886-8962-da47-934b-37141c4d27d8"
      },
      "outputs": [],
      "source": [
        "def embedding_input(name, n_in, n_out, reg):\n",
        "    inp = Input(shape=(1,), dtype=\"int64\", name=name)\n",
        "    return inp, Embedding(n_in, n_out, input_length=1, W_regularizer=l2(reg))(inp)\n",
        "\n",
        "def create_bias(inp, n_in):\n",
        "    x = Embedding(n_in, 1, input_length=1)(inp)\n",
        "    return Flatten()(x)"
      ]
    },
    {
      "cell_type": "code",
      "execution_count": null,
      "metadata": {
        "_cell_guid": "bd6028d8-dace-ddcc-d651-5ebade985884"
      },
      "outputs": [],
      "source": [
        "n_factors = 50\n",
        "\n",
        "team1_in, t1 = embedding_input(\"team1_in\", n, n_factors, 1e-4)\n",
        "team2_in, t2 = embedding_input(\"team2_in\", n, n_factors, 1e-4)\n",
        "\n",
        "b1 = create_bias(team1_in, n)\n",
        "b2 = create_bias(team2_in, n)"
      ]
    },
    {
      "cell_type": "code",
      "execution_count": null,
      "metadata": {
        "_cell_guid": "fba1da9a-63c7-709e-19be-60d3b9aa1967"
      },
      "outputs": [],
      "source": [
        "x = merge([t1, t2], mode=\"dot\")\n",
        "x = Flatten()(x)\n",
        "x = merge([x, b1], mode=\"sum\")\n",
        "x = merge([x, b2], mode=\"sum\")\n",
        "x = Dense(1, activation=\"sigmoid\")(x)\n",
        "model = Model([team1_in, team2_in], x)\n",
        "model.compile(Adam(0.001), loss=\"binary_crossentropy\")"
      ]
    },
    {
      "cell_type": "code",
      "execution_count": null,
      "metadata": {
        "_cell_guid": "19c0c089-7e97-9ce9-9a87-ad1e4325bdc6"
      },
      "outputs": [],
      "source": [
        "model.summary()"
      ]
    },
    {
      "cell_type": "code",
      "execution_count": null,
      "metadata": {
        "_cell_guid": "260b299f-219b-fc36-575a-e736f9d31ac0"
      },
      "outputs": [],
      "source": [
        "history = model.fit([train[:, 0], train[:, 1]], train[:, 2], batch_size=64, nb_epoch=10, verbose=2)"
      ]
    },
    {
      "cell_type": "code",
      "execution_count": null,
      "metadata": {
        "_cell_guid": "d23d187e-413c-9a9e-fe6d-60bb20ef1ba2"
      },
      "outputs": [],
      "source": [
        "plt.plot(history.history[\"loss\"])\n",
        "plt.show()"
      ]
    },
    {
      "cell_type": "code",
      "execution_count": null,
      "metadata": {
        "_cell_guid": "2d6aac67-b60f-9dae-7b41-56ab80dbf1ca"
      },
      "outputs": [],
      "source": [
        "sub = pd.read_csv(\"../input/sample_submission.csv\")\n",
        "sub[\"team1\"] = sub[\"id\"].apply(lambda x: trans_dict[int(x.split(\"_\")[1])])\n",
        "sub[\"team2\"] = sub[\"id\"].apply(lambda x: trans_dict[int(x.split(\"_\")[2])])\n",
        "sub.head()"
      ]
    },
    {
      "cell_type": "code",
      "execution_count": null,
      "metadata": {
        "_cell_guid": "004ab7bb-67f4-b9aa-45d8-1643455fa6de"
      },
      "outputs": [],
      "source": [
        "sub[\"pred\"] = model.predict([sub.team1, sub.team2])\n",
        "sub = sub[[\"id\", \"pred\"]]\n",
        "sub.head()"
      ]
    },
    {
      "cell_type": "code",
      "execution_count": null,
      "metadata": {
        "_cell_guid": "4f4353c0-a232-7f5d-e29f-c4490e949309"
      },
      "outputs": [],
      "source": [
        "sub.to_csv(\"CF.csv\", index=False)"
      ]
    },
    {
      "cell_type": "code",
      "execution_count": null,
      "metadata": {
        "_cell_guid": "15740cd6-7cbf-b4cd-4336-dfb927fb09d3"
      },
      "outputs": [],
      "source": [
        ""
      ]
    }
  ],
  "metadata": {
    "_change_revision": 0,
    "_is_fork": false,
    "kernelspec": {
      "display_name": "Python 3",
      "language": "python",
      "name": "python3"
    },
    "language_info": {
      "codemirror_mode": {
        "name": "ipython",
        "version": 3
      },
      "file_extension": ".py",
      "mimetype": "text/x-python",
      "name": "python",
      "nbconvert_exporter": "python",
      "pygments_lexer": "ipython3",
      "version": "3.5.2"
    }
  },
  "nbformat": 4,
  "nbformat_minor": 0
}