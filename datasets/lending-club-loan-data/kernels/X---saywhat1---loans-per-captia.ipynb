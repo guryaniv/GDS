{"cells":[
 {
  "cell_type": "markdown",
  "metadata": {},
  "source": "#Loans Per Captia\nI've seen a lot of people who are exploring this data look at the raw number of loans per state.  It's interesting in that it fairly accurately shows the ranking of states by population.  So, in this short script, I look at the loans granted per captia.  I got the population data from [this](https://en.wikipedia.org/wiki/List_of_U.S._states_and_territories_by_population) Wikipedia page."
 },
 {
  "cell_type": "code",
  "execution_count": null,
  "metadata": {
   "collapsed": false
  },
  "outputs": [],
  "source": "import pandas as pd\nimport seaborn as sns\nimport matplotlib.pyplot as plt"
 },
 {
  "cell_type": "code",
  "execution_count": null,
  "metadata": {
   "collapsed": false
  },
  "outputs": [],
  "source": "df = pd.read_csv('../input/loan.csv', usecols = ['loan_amnt', 'addr_state'])"
 },
 {
  "cell_type": "code",
  "execution_count": null,
  "metadata": {
   "collapsed": false
  },
  "outputs": [],
  "source": "perStatedf = df.groupby('addr_state', as_index = False).count().sort_values(by = 'loan_amnt', ascending=False)\nperStatedf.columns = ['State', 'Num_Loans']"
 },
 {
  "cell_type": "markdown",
  "metadata": {},
  "source": "Here's the plot of the raw loan numbers by state."
 },
 {
  "cell_type": "code",
  "execution_count": null,
  "metadata": {
   "collapsed": false
  },
  "outputs": [],
  "source": "fig, ax = plt.subplots(figsize = (16,8))\nax = sns.barplot(x='State', y='Num_Loans', data=perStatedf)\nax.set(ylabel = 'Number of Loans', title = 'Loans per State')\nplt.show()"
 },
 {
  "cell_type": "markdown",
  "metadata": {},
  "source": "I load the population data in as a dictionary, convert it to a dataframe and merge it with my other data.  I could have probably found an easier way to load in the population data without entering it in by hand, but I'm pretty good at ten key so it took less time than looking for the 'easier' way."
 },
 {
  "cell_type": "code",
  "execution_count": null,
  "metadata": {
   "collapsed": false
  },
  "outputs": [],
  "source": "statePop = {'CA' : 39144818,\n'TX' : 27469144,\n'FL' : 20271878,\n'NY' : 19795791,\n'IL' : 12859995,\n'PA' : 12802503,\n'OH' : 11613423,\n'GA' : 10214860,\n'NC' : 10042802,\n'MI' : 9922576,\n'NJ' : 8958013,\n'VA' : 8382993,\n'WA' : 7170351,\n'AZ' : 6828065,\n'MA' : 6794422,\n'IN' : 6619680,\n'TN' : 6600299,\n'MO' : 6083672,\n'MD' : 6006401,\n'WI' : 5771337,\n'MN' : 5489594,\n'CO' : 5456574,\n'SC' : 4896146,\n'AL' : 4858979,\n'LA' : 4670724,\n'KY' : 4425092,\n'OR' : 4028977,\n'OK' : 3911338,\n'CT' : 3890886,\n'IA' : 3123899,\n'UT' : 2995919,\n'MS' : 2992333,\n'AK' : 2978204,\n'KS' : 2911641,\n'NV' : 2890845,\n'NM' : 2085109,\n'NE' : 1896190,\n'WV' : 1844128,\n'ID' : 1654930,\n'HI' : 1431603,\n'NH' : 1330608,\n'ME' : 1329328,\n'RI' : 1053298,\n'MT' : 1032949,\n'DE' : 945934,\n'SD' : 858469,\n'ND' : 756927,\n'AK' : 738432,\n'DC' : 672228,\n'VT' : 626042,\n'WY' : 586107}\nstatePopdf = pd.DataFrame.from_dict(statePop, orient = 'index').reset_index()\nstatePopdf.columns = ['State', 'Pop']\nperStatedf = pd.merge(perStatedf, statePopdf, on=['State'], how = 'inner')"
 },
 {
  "cell_type": "code",
  "execution_count": null,
  "metadata": {
   "collapsed": false
  },
  "outputs": [],
  "source": "perStatedf['PerCaptia'] = perStatedf.Num_Loans / perStatedf.Pop\nfig, ax = plt.subplots(figsize = (16,8))\nax = sns.barplot(x='State', y='PerCaptia', data=perStatedf.sort_values(by = 'PerCaptia', ascending=False))\nax.set(ylabel = 'Number of Loans', title = 'Per Captia Loans by State')\nplt.show()"
 },
 {
  "cell_type": "markdown",
  "metadata": {},
  "source": "Here we can see that per person, Nevada takes out the most loans by a fair margin.  The former leader, California, is now ranked at number 10.\n\nNow, because I have the data right there, I'm going to look at loan amount by state and per capita loan amount by state."
 },
 {
  "cell_type": "code",
  "execution_count": null,
  "metadata": {
   "collapsed": false
  },
  "outputs": [],
  "source": "perStatedf = df.groupby('addr_state', as_index = False).sum().sort_values(by = 'loan_amnt', ascending=False)\nperStatedf.columns = ['State', 'loan_amt']"
 },
 {
  "cell_type": "code",
  "execution_count": null,
  "metadata": {
   "collapsed": false
  },
  "outputs": [],
  "source": "fig, ax = plt.subplots(figsize = (16,8))\nax = sns.barplot(x='State', y='loan_amt', data=perStatedf)\nax.set(ylabel = 'Number of Loans', title = 'Total Loan Amount per State')\nplt.show()"
 },
 {
  "cell_type": "code",
  "execution_count": null,
  "metadata": {
   "collapsed": false
  },
  "outputs": [],
  "source": "perStatedf = pd.merge(perStatedf, statePopdf, on=['State'], how = 'inner')\nperStatedf['PerCaptia'] = perStatedf.loan_amt / perStatedf.Pop"
 },
 {
  "cell_type": "code",
  "execution_count": null,
  "metadata": {
   "collapsed": false
  },
  "outputs": [],
  "source": "fig, ax = plt.subplots(figsize = (16,8))\nax = sns.barplot(x='State', y='PerCaptia', data=perStatedf.sort_values(by = 'PerCaptia', ascending=False))\nax.set(ylabel = 'Number of Loans', title = 'Per Captia Loan Amount by State')\nplt.show()"
 },
 {
  "cell_type": "markdown",
  "metadata": {},
  "source": "We can see again, that the raw loan amount by state follows the state populations pretty close.  Again, when you look at the per capita amounts, Nevada is at the top.  Here we see that the former number 1, California, again drops in rank.  It's now in thirteenth place.\n\nNext, I'm going to look at the per capita bad loans."
 },
 {
  "cell_type": "code",
  "execution_count": null,
  "metadata": {
   "collapsed": false
  },
  "outputs": [],
  "source": "df = pd.read_csv('../input/loan.csv', usecols = ['loan_status', 'addr_state'])\ndf.loan_status.unique()"
 },
 {
  "cell_type": "code",
  "execution_count": null,
  "metadata": {
   "collapsed": false
  },
  "outputs": [],
  "source": "badLoan  = ['Charged Off', \n            'Default', \n            'Late (31-120 days)', \n            'Late (16-30 days)', 'In Grace Period', \n            'Does not meet the credit policy. Status:Charged Off'] "
 },
 {
  "cell_type": "code",
  "execution_count": null,
  "metadata": {
   "collapsed": false
  },
  "outputs": [],
  "source": "df['isBad'] = [ 1 if x in badLoan else 0 for x in df.loan_status]\nperStatedf = df.groupby('addr_state', as_index = False).sum().sort_values(by = 'isBad', ascending=False)\nperStatedf.columns = ['State', 'badLoans']"
 },
 {
  "cell_type": "code",
  "execution_count": null,
  "metadata": {
   "collapsed": false
  },
  "outputs": [],
  "source": "fig, ax = plt.subplots(figsize = (16,8))\nax = sns.barplot(x='State', y='badLoans', data=perStatedf)\nax.set(ylabel = 'Number of Loans', title = 'Total Bad Loans per State')\nplt.show()"
 },
 {
  "cell_type": "code",
  "execution_count": null,
  "metadata": {
   "collapsed": false
  },
  "outputs": [],
  "source": "perStatedf = pd.merge(perStatedf, statePopdf, on=['State'], how = 'inner')\nperStatedf['PerCaptia'] = perStatedf.badLoans / perStatedf.Pop"
 },
 {
  "cell_type": "code",
  "execution_count": null,
  "metadata": {
   "collapsed": false
  },
  "outputs": [],
  "source": "fig, ax = plt.subplots(figsize = (16,8))\nax = sns.barplot(x='State', y='PerCaptia', data=perStatedf.sort_values(by = 'PerCaptia', ascending=False))\nax.set(ylabel = 'Number of Loans', title = 'Per Captia Bad Loans by State')\nplt.show()"
 },
 {
  "cell_type": "markdown",
  "metadata": {},
  "source": "Again we see that Nevada tops the charts with the most per capita bad loans.  The most interesting result is Washington DC.  It is 5th in total loans per capita, but it is 30th in per capita bad loans.\n\nLooking at these results,  I think looking at the percentage of bad loans by state would offer more insight into this."
 },
 {
  "cell_type": "code",
  "execution_count": null,
  "metadata": {
   "collapsed": false
  },
  "outputs": [],
  "source": "df = pd.read_csv('../input/loan.csv', usecols = ['loan_status', 'addr_state'])\nperStatedf = df.groupby('addr_state', as_index = False).count().sort_values(by = 'loan_status', ascending = False)\nperStatedf.columns = ['State', 'totalLoans']\ndf['isBad'] = [ 1 if x in badLoan else 0 for x in df.loan_status]\nbadLoansdf = df.groupby('addr_state', as_index = False).sum().sort_values(by = 'isBad', ascending = False)\nbadLoansdf.columns = ['State', 'badLoans']\nperStatedf = pd.merge(perStatedf, badLoansdf, on = ['State'], how = 'inner')\nperStatedf['percentBadLoans'] = (perStatedf.badLoans / perStatedf.totalLoans)*100"
 },
 {
  "cell_type": "code",
  "execution_count": null,
  "metadata": {
   "collapsed": false
  },
  "outputs": [],
  "source": "fig, ax = plt.subplots(figsize = (16,8))\nax = sns.barplot(x='State', y='percentBadLoans', data=perStatedf.sort_values(by = 'percentBadLoans', ascending=False))\nax.set(ylabel = 'Percent', title = 'Percent of Bad Loans by State')\nplt.show()"
 },
 {
  "cell_type": "code",
  "execution_count": null,
  "metadata": {
   "collapsed": false
  },
  "outputs": [],
  "source": "perStatedf.sort_values(by = 'percentBadLoans', ascending = False).head()"
 },
 {
  "cell_type": "markdown",
  "metadata": {},
  "source": "With how small the sample from Iowa is, I think we should disregard it. That puts Nevada back on top.  This makes the numbers for Washington DC even more interesting though, as it drops all the way down to 47th place."
 },
 {
  "cell_type": "code",
  "execution_count": null,
  "metadata": {
   "collapsed": false
  },
  "outputs": [],
  "source": ""
 }
],"metadata":{"kernelspec":{"display_name":"Python 3","language":"python","name":"python3"}}, "nbformat": 4, "nbformat_minor": 0}