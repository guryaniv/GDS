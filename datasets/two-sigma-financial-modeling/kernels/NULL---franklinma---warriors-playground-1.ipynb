{
  "cells": [
    {
      "cell_type": "markdown",
      "metadata": {
        "_cell_guid": "07b9155e-25c6-2d5a-1c01-cbeaa5f0aab8"
      },
      "source": [
        "# 2Sig Financial Modeling Competition\n",
        "**Stephen Curry and Kevin Durant**"
      ]
    },
    {
      "cell_type": "code",
      "execution_count": null,
      "metadata": {
        "_cell_guid": "483266ed-7a28-4e46-62bc-f4cd6ad5eb8c"
      },
      "outputs": [],
      "source": [
        "# This Python 3 environment comes with many helpful analytics libraries installed\n",
        "# It is defined by the kaggle/python docker image: https://github.com/kaggle/docker-python\n",
        "# For example, here's several helpful packages to load in \n",
        "\n",
        "import numpy as np # linear algebra\n",
        "import pandas as pd # data processing, CSV file I/O (e.g. pd.read_csv)\n",
        "import matplotlib.pyplot as plt\n",
        "import seaborn as sns\n",
        "%matplotlib inline\n",
        "p = sns.color_palette()\n",
        "\n",
        "# Input data files are available in the \"../input/\" directory.\n",
        "# For example, running this (by clicking run or pressing Shift+Enter) will list the files in the input directory\n",
        "\n",
        "from subprocess import check_output\n",
        "print(check_output([\"ls\", \"../input\"]).decode(\"utf8\"))\n",
        "\n",
        "# Any results you write to the current directory are saved as output."
      ]
    },
    {
      "cell_type": "code",
      "execution_count": null,
      "metadata": {
        "_cell_guid": "6924e281-37d6-7ecc-701c-d49f0706cc5b"
      },
      "outputs": [],
      "source": [
        "with pd.HDFStore(\"../input/train.h5\", \"r\") as train:\n",
        "    df = train.get(\"train\")"
      ]
    },
    {
      "cell_type": "code",
      "execution_count": null,
      "metadata": {
        "_cell_guid": "d08a8a46-6961-f3a4-1f08-1b316943ec76"
      },
      "outputs": [],
      "source": [
        "df.head()"
      ]
    },
    {
      "cell_type": "code",
      "execution_count": null,
      "metadata": {
        "_cell_guid": "d17a0fa3-7e28-bb00-0109-3711b28d1fd4"
      },
      "outputs": [],
      "source": [
        "df.shape"
      ]
    },
    {
      "cell_type": "code",
      "execution_count": null,
      "metadata": {
        "_cell_guid": "660b909c-bc8b-3d73-adf0-23a618b29388"
      },
      "outputs": [],
      "source": [
        "len(df['id'].unique())"
      ]
    },
    {
      "cell_type": "markdown",
      "metadata": {
        "_cell_guid": "c558061a-77fd-f061-797f-732e6550bf49"
      },
      "source": [
        "The # of id (or assets) is 1424"
      ]
    },
    {
      "cell_type": "markdown",
      "metadata": {
        "_cell_guid": "2ecee839-07cf-6975-adf3-bd8d95fe184a"
      },
      "source": [
        "test part for 3 ids "
      ]
    },
    {
      "cell_type": "code",
      "execution_count": null,
      "metadata": {
        "_cell_guid": "9401b381-57e2-9394-c75d-13844c8370fd"
      },
      "outputs": [],
      "source": [
        "id_number = df['id'].unique()"
      ]
    },
    {
      "cell_type": "code",
      "execution_count": null,
      "metadata": {
        "_cell_guid": "a86dcdca-c254-9b0f-07ef-5be6861c2b89"
      },
      "outputs": [],
      "source": [
        "plt.plot(id_number)"
      ]
    },
    {
      "cell_type": "code",
      "execution_count": null,
      "metadata": {
        "_cell_guid": "9ad572b9-47e6-1ee0-6e6d-1a1666023635"
      },
      "outputs": [],
      "source": [
        "id_number[800:900]"
      ]
    },
    {
      "cell_type": "code",
      "execution_count": null,
      "metadata": {
        "_cell_guid": "eb4170dc-71de-7cc0-73b8-c6c1a3c57031"
      },
      "outputs": [],
      "source": [
        "lenID = {}\n",
        "for id_no in id_number:\n",
        "    lenID[id_no] = len(df[df['id'] == id_no])"
      ]
    },
    {
      "cell_type": "code",
      "execution_count": null,
      "metadata": {
        "_cell_guid": "5add4344-3d5e-adb7-bd66-504055508c47"
      },
      "outputs": [],
      "source": [
        "lenID"
      ]
    },
    {
      "cell_type": "code",
      "execution_count": null,
      "metadata": {
        "_cell_guid": "12bfff16-653a-e69d-1d70-a659dc6c7f2e"
      },
      "outputs": [],
      "source": [
        "print(id_10['y'].std(axis=0))\n",
        "plt.plot(id_10['y'])\n",
        "plt.show()"
      ]
    },
    {
      "cell_type": "code",
      "execution_count": null,
      "metadata": {
        "_cell_guid": "e41011f6-be50-192a-6fab-19cd5b061f73"
      },
      "outputs": [],
      "source": [
        "plt.hist(id_10['y'])"
      ]
    },
    {
      "cell_type": "code",
      "execution_count": null,
      "metadata": {
        "_cell_guid": "714f808d-0d35-6b24-d9ba-4b0f6d046ba2"
      },
      "outputs": [],
      "source": [
        "id_11 = df[df['id'] == 11]\n",
        "print(id_11['y'].std(axis=0))\n",
        "plt.plot(id_11['y'])\n",
        "plt.show()\n",
        "id_11.shape"
      ]
    },
    {
      "cell_type": "code",
      "execution_count": null,
      "metadata": {
        "_cell_guid": "43df47ee-85c0-b952-ab40-2128e06789d2"
      },
      "outputs": [],
      "source": [
        "plt.hist(id_11['y'])"
      ]
    },
    {
      "cell_type": "code",
      "execution_count": null,
      "metadata": {
        "_cell_guid": "a3d0e8e1-9cd0-0ae0-f1a0-8135867f6905"
      },
      "outputs": [],
      "source": [
        "from sklearn.linear_model import Ridge, RidgeCV, Lasso, LassoCV, ElasticNet, ElasticNetCV\n",
        "from sklearn.cross_validation import cross_val_score\n",
        "import matplotlib"
      ]
    },
    {
      "cell_type": "code",
      "execution_count": null,
      "metadata": {
        "_cell_guid": "878a99c4-9ea5-b506-4d22-57ecf3cecc3e"
      },
      "outputs": [],
      "source": [
        "#id_10.head()\n",
        "x_train_id_10 = id_10.loc[:, \"derived_0\":\"technical_44\"]\n",
        "x_train_id_10.head()"
      ]
    },
    {
      "cell_type": "code",
      "execution_count": null,
      "metadata": {
        "_cell_guid": "08f788f8-1c82-430a-5e5d-a1ee93d0b815"
      },
      "outputs": [],
      "source": [
        "id_10[\"technical\"]"
      ]
    },
    {
      "cell_type": "code",
      "execution_count": null,
      "metadata": {
        "_cell_guid": "37d95ca5-90a9-8199-d2c6-36da1451f6f0"
      },
      "outputs": [],
      "source": [
        "adsf"
      ]
    },
    {
      "cell_type": "code",
      "execution_count": null,
      "metadata": {
        "_cell_guid": "bbc1e16b-135d-2764-178c-0d3faa908aea"
      },
      "outputs": [],
      "source": [
        "model_lasso = LassoCV(0.5).fit(x_train, y_target)"
      ]
    },
    {
      "cell_type": "code",
      "execution_count": null,
      "metadata": {
        "_cell_guid": "264b310c-bbc9-e5ff-af66-17ea2860622d"
      },
      "outputs": [],
      "source": [
        "mean_values = x_train.mean(axis=0)\n",
        "x_train.fillna(mean_values, inplace=True).head()"
      ]
    },
    {
      "cell_type": "code",
      "execution_count": null,
      "metadata": {
        "_cell_guid": "da79cf4a-6765-16f6-d088-52f916b53ba6"
      },
      "outputs": [],
      "source": [
        "y_mean = df['y'].mean(axis=0)\n",
        "y_target = df['y']\n",
        "y_target.fillna(y_mean, inplace=True)"
      ]
    },
    {
      "cell_type": "code",
      "execution_count": null,
      "metadata": {
        "_cell_guid": "5a6abb8c-a2b4-1873-76ea-d3b511c61672"
      },
      "outputs": [],
      "source": [
        "model_lasso = LassoCV(0.5).fit(x_train, y_target)"
      ]
    },
    {
      "cell_type": "code",
      "execution_count": null,
      "metadata": {
        "_cell_guid": "49af3d7d-32f3-9143-9399-922cd52b4461"
      },
      "outputs": [],
      "source": [
        "coef = pd.Series(model_lasso.coef_, index = x_train.columns)"
      ]
    },
    {
      "cell_type": "code",
      "execution_count": null,
      "metadata": {
        "_cell_guid": "355da5f8-d98e-8dfc-25c5-d04756b7d4dc"
      },
      "outputs": [],
      "source": [
        "imp_coef = pd.concat([coef.sort_values().head(10),coef.sort_values().tail(10)])\n",
        "# matplotlib.rcParams['figure.figsize'] = (8.0, 10.0)\n",
        "imp_coef.plot(kind = \"barh\")\n",
        "plt.title(\"Coefficients in the Lasso Model\")\n",
        "plt.show()"
      ]
    },
    {
      "cell_type": "code",
      "execution_count": null,
      "metadata": {
        "_cell_guid": "4e46e601-71ef-9ea6-8ca8-598f0811214e"
      },
      "outputs": [],
      "source": [
        "?Lasso"
      ]
    },
    {
      "cell_type": "code",
      "execution_count": null,
      "metadata": {
        "_cell_guid": "e1ffa46d-703a-7df4-79e1-bc5da7da9bb9"
      },
      "outputs": [],
      "source": [
        ""
      ]
    },
    {
      "cell_type": "code",
      "execution_count": null,
      "metadata": {
        "_cell_guid": "1ffff1bb-82cb-c710-2919-3e23d5786d52"
      },
      "outputs": [],
      "source": [
        ""
      ]
    }
  ],
  "metadata": {
    "_change_revision": 0,
    "_is_fork": false,
    "kernelspec": {
      "display_name": "Python 3",
      "language": "python",
      "name": "python3"
    },
    "language_info": {
      "codemirror_mode": {
        "name": "ipython",
        "version": 3
      },
      "file_extension": ".py",
      "mimetype": "text/x-python",
      "name": "python",
      "nbconvert_exporter": "python",
      "pygments_lexer": "ipython3",
      "version": "3.5.2"
    }
  },
  "nbformat": 4,
  "nbformat_minor": 0
}