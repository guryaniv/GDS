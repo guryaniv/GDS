{
  "cells": [
    {
      "metadata": {
        "_uuid": "40065eea467ef19b7ee6162370136d069e27e321"
      },
      "cell_type": "markdown",
      "source": "### Xgboost with only few years data\n* Building the model using only data from 2013 onwards, just checking how much the recent years data will help in making the prediction.\n<br/>\n    * **Train:**  2013 to 2015\n    * **Test:** 2016\n\n* I'm using both marketing and news data, with no major feature engineering.\n* Using Xgboost for modeling, building it as an regression problem. For final submission, converting the final results to +1/-1 based on their score.\n<br/>\n<br/>\nNote: This is just a simple model, there is lot of scope for improvement. This is my first public kernel, share your thoughts in the comments.\n"
    },
    {
      "metadata": {
        "trusted": true,
        "_uuid": "b4fcdccb3d1457b22ada813defcd975795eb5072"
      },
      "cell_type": "code",
      "source": "#### Load packages\nimport pandas as pd\nimport numpy as np\nimport gc\n\n#### Read the training data\nfrom kaggle.competitions import twosigmanews\n\n# You can only call make_env() once, so don't lose it!\nenv = twosigmanews.make_env()",
      "execution_count": null,
      "outputs": []
    },
    {
      "metadata": {
        "trusted": true,
        "_uuid": "c20fa6deeac9d374c98774abd90bdc76b023ee63"
      },
      "cell_type": "code",
      "source": "(market_train_df, news_train_df) = env.get_training_data()",
      "execution_count": null,
      "outputs": []
    },
    {
      "metadata": {
        "trusted": true,
        "_uuid": "7978e7e894e681f62302c80884823b11d6912fd9"
      },
      "cell_type": "code",
      "source": "market_train_df.head()",
      "execution_count": null,
      "outputs": []
    },
    {
      "metadata": {
        "_uuid": "702226df041a2ec6373e769d56443aec84d663d2"
      },
      "cell_type": "markdown",
      "source": "Dropping the rows with missing values"
    },
    {
      "metadata": {
        "trusted": true,
        "_uuid": "7978e7e894e681f62302c80884823b11d6912fd9"
      },
      "cell_type": "code",
      "source": "print(\" ---------------- Before removing missing values\")\nprint(market_train_df.isna().sum())\n\n# Remove missing values\nmarket_train_df.dropna(inplace= True)\n\nprint(\" \\n ---------------- After removing missing values \")\nprint(market_train_df.isna().sum())",
      "execution_count": null,
      "outputs": []
    },
    {
      "metadata": {
        "_uuid": "b67612ceb2023390f36b87606a7514bba0b2b12c"
      },
      "cell_type": "markdown",
      "source": "Taking marketing data from 2013 onwards"
    },
    {
      "metadata": {
        "trusted": true,
        "_uuid": "89bc354af74a07ba03d74aa11817d331e7356e0b"
      },
      "cell_type": "code",
      "source": "market_train_df_1 = market_train_df[market_train_df.time.dt.year >= 2013]",
      "execution_count": null,
      "outputs": []
    },
    {
      "metadata": {
        "trusted": true,
        "_uuid": "05f9040d5eee4ebe48a119bce86e9d15afbedc48"
      },
      "cell_type": "code",
      "source": "print(\"No. of observations (2013 to 2016): \", market_train_df_1.shape[0])\nprint(market_train_df_1.time.dt.year.value_counts())",
      "execution_count": null,
      "outputs": []
    },
    {
      "metadata": {
        "trusted": true,
        "_uuid": "243d6f758d8cce51b1eb65c5c301512ceb84f51d"
      },
      "cell_type": "code",
      "source": "del market_train_df\ngc.collect()",
      "execution_count": null,
      "outputs": []
    },
    {
      "metadata": {
        "_uuid": "35c6b52976d8f772e57e12014b9c7c7514d312fd"
      },
      "cell_type": "markdown",
      "source": "Taking news data from 2013 onwards"
    },
    {
      "metadata": {
        "trusted": true,
        "_uuid": "4243d1ee322589d39383010233df21c80aa0fd0f"
      },
      "cell_type": "code",
      "source": "#Subset news data\nnews_train_df_1 = news_train_df[news_train_df.time.dt.year >= 2013].copy()",
      "execution_count": null,
      "outputs": []
    },
    {
      "metadata": {
        "trusted": true,
        "_uuid": "bd5eb96ad424932fb19beca37d970da9933f4ef2"
      },
      "cell_type": "code",
      "source": "del news_train_df\ngc.collect()",
      "execution_count": null,
      "outputs": []
    },
    {
      "metadata": {
        "trusted": true,
        "_uuid": "3b514d64739b83449492dfb172949b551764581b"
      },
      "cell_type": "code",
      "source": "news_train_df_1.time.dt.year.value_counts()",
      "execution_count": null,
      "outputs": []
    },
    {
      "metadata": {
        "trusted": true,
        "_uuid": "212ff4488d0da5954575750fe7bd707230588875"
      },
      "cell_type": "code",
      "source": "news_train_df_1.head()",
      "execution_count": null,
      "outputs": []
    },
    {
      "metadata": {
        "trusted": true,
        "_uuid": "1d2373216dccef7028b5fec6d4cbf1a1791e6709"
      },
      "cell_type": "code",
      "source": "news_train_df_1.info()",
      "execution_count": null,
      "outputs": []
    },
    {
      "metadata": {
        "_uuid": "d732cc75e6365e60c82d4d0cfc1d26cc49014473"
      },
      "cell_type": "markdown",
      "source": "Selecting time, assetName and all the numeric variables"
    },
    {
      "metadata": {
        "trusted": true,
        "_uuid": "5508beeaeaf321741fb7f9aecac200b7aae1159d"
      },
      "cell_type": "code",
      "source": "news_var = ['time','assetName', 'bodySize','companyCount','sentenceCount','wordCount',\n                                  'firstMentionSentence','relevance','sentimentClass','sentimentNegative',\n                                   'sentimentNeutral','sentimentPositive','sentimentWordCount','noveltyCount12H',\n                                   'noveltyCount24H','noveltyCount3D','noveltyCount5D','noveltyCount7D',\n                                   'volumeCounts12H','volumeCounts24H','volumeCounts3D','volumeCounts5D','volumeCounts7D'\n                                  ]",
      "execution_count": null,
      "outputs": []
    },
    {
      "metadata": {
        "trusted": true,
        "_uuid": "325b82b565ec841abaa108d5e7bbd74455ac2996"
      },
      "cell_type": "code",
      "source": "news_train_df_1 = news_train_df_1[news_var]\n\nnews_train_df_1['date'] = news_train_df_1.time.dt.date",
      "execution_count": null,
      "outputs": []
    },
    {
      "metadata": {
        "trusted": true,
        "_uuid": "b86b398f41b089a1d58cfd2e83b087607d51ac21"
      },
      "cell_type": "code",
      "source": "news_train_df_1.groupby(['date','assetName']).size().head(15)",
      "execution_count": null,
      "outputs": []
    },
    {
      "metadata": {
        "_uuid": "ff9f8bca65b2307f8bd7261fccb3b0892105d44e"
      },
      "cell_type": "markdown",
      "source": "\nIn a single day there can be multiple articles about an asset, so taking mean values of variables for now"
    },
    {
      "metadata": {
        "trusted": true,
        "_uuid": "325b82b565ec841abaa108d5e7bbd74455ac2996"
      },
      "cell_type": "code",
      "source": "#Group to get day & assetName level data \nnews_train_df_grp = news_train_df_1.groupby(['date','assetName']).mean().reset_index()",
      "execution_count": null,
      "outputs": []
    },
    {
      "metadata": {
        "_uuid": "a01a8d91d6ecdaf4cf063cb196f5e6e4c3642ad2"
      },
      "cell_type": "markdown",
      "source": "Merging  market and news data"
    },
    {
      "metadata": {
        "trusted": true,
        "_uuid": "16128b3856547f050aa6e49460a8223623597eae"
      },
      "cell_type": "code",
      "source": "market_train_df_1['date'] = market_train_df_1.time.dt.date\n\nmarket_train_df_1 = pd.merge(market_train_df_1,news_train_df_grp,how='left',on = ['assetName','date'])\nmarket_train_df_1.head()",
      "execution_count": null,
      "outputs": []
    },
    {
      "metadata": {
        "trusted": true,
        "_uuid": "c6ca93faf51e19d43b52b5d003e8ccf1b26ce0fe"
      },
      "cell_type": "code",
      "source": "market_train_df_1.isna().sum()/market_train_df_1.shape[0]",
      "execution_count": null,
      "outputs": []
    },
    {
      "metadata": {
        "trusted": true,
        "_uuid": "16128b3856547f050aa6e49460a8223623597eae"
      },
      "cell_type": "code",
      "source": "#Fill 0 for NA's in News data\nmarket_train_df_1.fillna(0,inplace=True)",
      "execution_count": null,
      "outputs": []
    },
    {
      "metadata": {
        "trusted": true,
        "_uuid": "f01a4e08d5fb0b1aa1305670a17a1be1a090db7a"
      },
      "cell_type": "code",
      "source": "del news_train_df_grp\ngc.collect()",
      "execution_count": null,
      "outputs": []
    },
    {
      "metadata": {
        "trusted": true,
        "_uuid": "4202951593c05265bb545adab09cbe120417fe6c"
      },
      "cell_type": "code",
      "source": "#Find the correlations\ncorr_1 = market_train_df_1.corr()\n\nprint(corr_1['returnsOpenNextMktres10'].sort_values(ascending = False))\ndel corr_1",
      "execution_count": null,
      "outputs": []
    },
    {
      "metadata": {
        "trusted": true,
        "_uuid": "1db24de4180ff5664dd6bc90f8d9566c389c6021"
      },
      "cell_type": "code",
      "source": "#Removing rows with universe 0\nmarket_train_df_1 = market_train_df_1[market_train_df_1.universe == 1].copy()",
      "execution_count": null,
      "outputs": []
    },
    {
      "metadata": {
        "trusted": true,
        "_uuid": "c73392dcce53879d5477614900f8706bcfb2142f"
      },
      "cell_type": "code",
      "source": "# Train/test split\nid_train = market_train_df_1.time.dt.year != 2016\nid_test = market_train_df_1.time.dt.year == 2016\n\ndep_var = 'returnsOpenNextMktres10'\nind_var = ['volume', 'close', 'open', 'returnsClosePrevRaw1',\n       'returnsOpenPrevRaw1', 'returnsClosePrevMktres1',\n       'returnsOpenPrevMktres1', 'returnsClosePrevRaw10',\n       'returnsOpenPrevRaw10', 'returnsClosePrevMktres10',\n       'returnsOpenPrevMktres10','bodySize', 'companyCount', 'sentenceCount', 'wordCount',\n       'firstMentionSentence', 'relevance', 'sentimentClass',\n       'sentimentNegative', 'sentimentNeutral', 'sentimentPositive',\n       'sentimentWordCount', 'noveltyCount12H', 'noveltyCount24H',\n       'noveltyCount3D', 'noveltyCount5D', 'noveltyCount7D', 'volumeCounts12H',\n       'volumeCounts24H', 'volumeCounts3D', 'volumeCounts5D',\n       'volumeCounts7D']\n\ndf_train = market_train_df_1.loc[id_train,ind_var]\ndf_test = market_train_df_1.loc[id_test,ind_var]\n\nprint(\"{0} training rows and {1} testing rows\".format(df_train.shape[0],df_test.shape[0]))\n\n\ny_train = market_train_df_1.loc[id_train,dep_var]\ny_test = market_train_df_1.loc[id_test,dep_var]",
      "execution_count": null,
      "outputs": []
    },
    {
      "metadata": {
        "trusted": true,
        "_uuid": "08f964e9b6198f8fbc0c2c3e7d80e34751d28809"
      },
      "cell_type": "code",
      "source": "import xgboost as xgb\nfrom sklearn.metrics import mean_squared_error\n\n#-------------- XGboost (untuned)\nxg_reg = xgb.XGBRegressor(objective ='reg:linear', colsample_bytree = 0.3, learning_rate = 0.1,\n                max_depth = 5, alpha = 10, n_estimators = 100)\n\nxg_reg.fit(df_train,y_train)",
      "execution_count": null,
      "outputs": []
    },
    {
      "metadata": {
        "trusted": true,
        "_uuid": "1b69070dd817fd67bf81ff083afc7c6016d3a980"
      },
      "cell_type": "code",
      "source": "import matplotlib.pyplot as plt\nxgb.plot_importance(xg_reg,max_num_features = 15)\nplt.rcParams['figure.figsize'] = [5, 5]\nplt.show()",
      "execution_count": null,
      "outputs": []
    },
    {
      "metadata": {
        "trusted": true,
        "_uuid": "233ee486678945473444678e8bb4a83740311780"
      },
      "cell_type": "code",
      "source": "from sklearn.metrics import mean_squared_error\nfrom math import sqrt\n\npred_train = xg_reg.predict(df_train)\nrms_train = sqrt(mean_squared_error(y_train, pred_train))\n\npred_test = xg_reg.predict(df_test)\nrms_test = sqrt(mean_squared_error(y_test, pred_test))\n\nprint('Train RMSE: {0} Test RMSE: {1}'.format(rms_train,rms_test))",
      "execution_count": null,
      "outputs": []
    },
    {
      "metadata": {
        "_uuid": "f5e2268833412c83bdc0ba29a529003a49256ec5"
      },
      "cell_type": "markdown",
      "source": "Checking the competition metric"
    },
    {
      "metadata": {
        "trusted": true,
        "_uuid": "233ee486678945473444678e8bb4a83740311780"
      },
      "cell_type": "code",
      "source": "pred_test_df = market_train_df_1.loc[id_test,['time','assetCode','universe','returnsOpenNextMktres10']]\npred_test_df['dayofyear'] = pred_test_df.time.dt.dayofyear\npred_test_df['confidence'] = [1 if pred >=0 else -1 for pred in pred_test]\npred_test_df['score'] = pred_test_df.universe * pred_test_df.returnsOpenNextMktres10 * pred_test_df.confidence\nprint(pred_test_df.confidence.value_counts())\n\nscore_1 = pred_test_df.groupby(['dayofyear']).score.sum()\nscore_2 = score_1.mean()/ score_1.std()\nprint(\"\\n Competition Score: \",np.round(score_2,4))",
      "execution_count": null,
      "outputs": []
    },
    {
      "metadata": {
        "_uuid": "cc773c81cd4c2a8082c73a5b4f5c46a73bff2b7e"
      },
      "cell_type": "markdown",
      "source": "#### Submisson creation"
    },
    {
      "metadata": {
        "trusted": true,
        "_uuid": "233ee486678945473444678e8bb4a83740311780"
      },
      "cell_type": "code",
      "source": "# You can only iterate through a result from `get_prediction_days()` once \n# so be careful not to lose it once you start iterating.\ndays = env.get_prediction_days()",
      "execution_count": null,
      "outputs": []
    },
    {
      "metadata": {
        "trusted": true,
        "_uuid": "233ee486678945473444678e8bb4a83740311780"
      },
      "cell_type": "code",
      "source": "def make_predictions(market_obs_df,news_obs_df,predictions_df,ind_var,news_var,xg_reg):\n    \n    #Process news data\n    news_obs_df = news_obs_df.loc[:,news_var]\n    news_obs_df['date'] = news_obs_df.time.dt.date\n    news_train_df_grp = news_obs_df.groupby(['date','assetName']).mean().reset_index()\n    \n    #Merge the market and news data\n    market_obs_df['date'] = market_obs_df.time.dt.date\n    market_obs_df = pd.merge(market_obs_df,news_train_df_grp,how='left',on = ['assetName','date'])\n\n    #Fill 0 for NA's in News data\n    market_obs_df.fillna(0,inplace = True)\n    test = market_obs_df.loc[:,ind_var]\n    predictions_df.confidenceValue = [1 if  pred >=0 else -1 for pred in xg_reg.predict(test)]",
      "execution_count": null,
      "outputs": []
    },
    {
      "metadata": {
        "trusted": true,
        "_uuid": "233ee486678945473444678e8bb4a83740311780"
      },
      "cell_type": "code",
      "source": "for (market_obs_df, news_obs_df, predictions_template_df) in days:\n    make_predictions(market_obs_df,news_obs_df,predictions_template_df,ind_var,news_var,xg_reg)\n    env.predict(predictions_template_df)\nprint('Done!')",
      "execution_count": null,
      "outputs": []
    },
    {
      "metadata": {
        "_uuid": "b1f47ef34f1ea5a3b1d89702cdadf9c58532ac88"
      },
      "cell_type": "markdown",
      "source": "Create the submission file"
    },
    {
      "metadata": {
        "trusted": true,
        "_uuid": "9972b4ecc50b15e5433b117f68b1a14a133aca58"
      },
      "cell_type": "code",
      "source": "env.write_submission_file()",
      "execution_count": null,
      "outputs": []
    }
  ],
  "metadata": {
    "kernelspec": {
      "display_name": "Python 3",
      "language": "python",
      "name": "python3"
    },
    "language_info": {
      "name": "python",
      "version": "3.6.6",
      "mimetype": "text/x-python",
      "codemirror_mode": {
        "name": "ipython",
        "version": 3
      },
      "pygments_lexer": "ipython3",
      "nbconvert_exporter": "python",
      "file_extension": ".py"
    }
  },
  "nbformat": 4,
  "nbformat_minor": 1
}