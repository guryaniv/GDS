{
  "cells": [
    {
      "cell_type": "markdown",
      "metadata": {
        "_cell_guid": "10a24435-297b-f335-a638-656ef091f0a9"
      },
      "source": [
        "It  seems to me this dataset has more garbage than data, let's wash it little bit"
      ]
    },
    {
      "cell_type": "code",
      "execution_count": null,
      "metadata": {
        "_cell_guid": "27ad619b-de7b-8a3e-b199-4ca657e2d6f7"
      },
      "outputs": [],
      "source": [
        "import numpy as np \n",
        "import pandas as pd \n",
        "\n",
        "from subprocess import check_output\n",
        "print(check_output([\"ls\", \"../input\"]).decode(\"utf8\"))\n",
        "import matplotlib.pyplot as plt"
      ]
    },
    {
      "cell_type": "code",
      "execution_count": null,
      "metadata": {
        "_cell_guid": "7d01ef83-e720-51af-f246-1e5592acc2dd"
      },
      "outputs": [],
      "source": [
        "train = pd.read_csv('../input/train.csv')\n",
        "train.price_doc = train.price_doc/train.full_sq"
      ]
    },
    {
      "cell_type": "markdown",
      "metadata": {
        "_cell_guid": "907f3aac-352a-5734-8717-5be9cf0dda74"
      },
      "source": [
        "Let's look at heart of Moscow. Let's find flats closest to Kremlin"
      ]
    },
    {
      "cell_type": "code",
      "execution_count": null,
      "metadata": {
        "_cell_guid": "73cc9447-0947-836d-95ab-2bca17a83912"
      },
      "outputs": [],
      "source": [
        "train.kremlin_km.min()"
      ]
    },
    {
      "cell_type": "markdown",
      "metadata": {
        "_cell_guid": "a94c5c58-7fbc-afff-72f3-ac6671cac095"
      },
      "source": [
        "70 metres from Kremlin. What is it? Putin's cordyard, Lenin's Mausoleum?  Let's take a look on prices."
      ]
    },
    {
      "cell_type": "code",
      "execution_count": null,
      "metadata": {
        "_cell_guid": "9106c7bf-12af-7495-198c-5821cb92dcab"
      },
      "outputs": [],
      "source": [
        "fig, ax = plt.subplots(figsize = (12,10))\n",
        "ax.hist(train.loc[train.kremlin_km < 0.08, 'price_doc'], bins =200)\n",
        "ax.set_title(\"Flats between Putin's courtyard and Lenin's Mausoleum\" )\n",
        "ax.set_xlim(0,500000)\n",
        "ax.set_xlabel('PRICE for m2')\n",
        "ax.set_ylabel('Number of observations')\n",
        "plt.show()"
      ]
    },
    {
      "cell_type": "markdown",
      "metadata": {
        "_cell_guid": "7232600c-7725-b50e-c525-a304356d7e9e"
      },
      "source": [
        "Most prices are lower than 100 000 Rub/m2. What?  Weekend in hotel in this area would cost this price.\n",
        "Probability to find this kind of prices is like to see elefants fly. \n",
        "\n",
        "It funny to think if dataset is right: we have flats with zero life square. Zero life square? Looks like a big piece of concrete. Or flats with build_year 1, right after Jesus's born.\n",
        "\n",
        "And finally i've found some explanations for low prices in this area: \n",
        " \n",
        "- This flats made of paper\n",
        "- Hurricane grabbed  and threw some flats in the center of Moscow\n",
        "- We've found secret city under the ground\n",
        "- One more mistake in data"
      ]
    },
    {
      "cell_type": "code",
      "execution_count": null,
      "metadata": {
        "_cell_guid": "570b6477-b9e4-3197-2370-c41ca641c89c"
      },
      "outputs": [],
      "source": [
        ""
      ]
    }
  ],
  "metadata": {
    "_change_revision": 0,
    "_is_fork": false,
    "kernelspec": {
      "display_name": "Python 3",
      "language": "python",
      "name": "python3"
    },
    "language_info": {
      "codemirror_mode": {
        "name": "ipython",
        "version": 3
      },
      "file_extension": ".py",
      "mimetype": "text/x-python",
      "name": "python",
      "nbconvert_exporter": "python",
      "pygments_lexer": "ipython3",
      "version": "3.6.0"
    }
  },
  "nbformat": 4,
  "nbformat_minor": 0
}