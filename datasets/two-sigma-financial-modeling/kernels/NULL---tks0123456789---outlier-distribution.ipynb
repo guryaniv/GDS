{
  "cells": [
    {
      "cell_type": "code",
      "execution_count": null,
      "metadata": {
        "_cell_guid": "bb466c5a-13e1-17a6-19cd-b4ad76fe5b88"
      },
      "outputs": [],
      "source": [
        "import pandas as pd\n",
        "import matplotlib.pyplot as plt\n",
        "%matplotlib inline"
      ]
    },
    {
      "cell_type": "code",
      "execution_count": null,
      "metadata": {
        "_cell_guid": "b9b2824c-c91f-f908-a5b8-5db9cfac8a3b"
      },
      "outputs": [],
      "source": [
        "df = pd.read_hdf('../input/train.h5')"
      ]
    },
    {
      "cell_type": "code",
      "execution_count": null,
      "metadata": {
        "_cell_guid": "edd947b8-7342-cb52-20f4-7cc42ce83b11"
      },
      "outputs": [],
      "source": [
        "y_mean_by_time = df.groupby('timestamp').y.mean()\n",
        "y_mean_by_time.plot(figsize=(12, 6))"
      ]
    },
    {
      "cell_type": "markdown",
      "metadata": {
        "_cell_guid": "919c88a4-c9ec-9890-c547-864941b083c2"
      },
      "source": [
        "I split dataset by timestamp, then did parameter tuning.\n",
        "~ 905 for training, 905 < ts < 1505 for validation"
      ]
    },
    {
      "cell_type": "code",
      "execution_count": null,
      "metadata": {
        "_cell_guid": "71cf79b5-e274-9c73-38b2-3e33210e531d"
      },
      "outputs": [],
      "source": [
        "y_mean_by_time.rolling(window=10).std().plot(figsize=(12, 6))\n",
        "plt.axhline(y=0.009, color='red')\n",
        "plt.axvspan(0, 905, color='green', alpha=0.1)\n",
        "plt.axvspan(906, 1505, color='red', alpha=0.1)\n",
        "plt.text(330, 0.015, \"Training\", fontsize=20)\n",
        "plt.text(1050, 0.015, \"Validation\", fontsize=20)"
      ]
    },
    {
      "cell_type": "code",
      "execution_count": null,
      "metadata": {
        "_cell_guid": "8a2bdee3-d0b0-1db7-5267-75828226eeaa"
      },
      "outputs": [],
      "source": [
        ""
      ]
    }
  ],
  "metadata": {
    "_change_revision": 0,
    "_is_fork": false,
    "kernelspec": {
      "display_name": "Python 3",
      "language": "python",
      "name": "python3"
    },
    "language_info": {
      "codemirror_mode": {
        "name": "ipython",
        "version": 3
      },
      "file_extension": ".py",
      "mimetype": "text/x-python",
      "name": "python",
      "nbconvert_exporter": "python",
      "pygments_lexer": "ipython3",
      "version": "3.6.0"
    }
  },
  "nbformat": 4,
  "nbformat_minor": 0
}