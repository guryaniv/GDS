{
  "cells": [
    {
      "metadata": {
        "_uuid": "8f2839f25d086af736a60e9eeb907d3b93b6e0e5",
        "_cell_guid": "b1076dfc-b9ad-4769-8c92-a6c4dae69d19",
        "trusted": true
      },
      "cell_type": "markdown",
      "source": "Kernel based on https://www.kaggle.com/kazuokiriyama/tuning-hyper-params-in-lgbm-achieve-0-66-in-lb\n\nFirst of all, import libraries"
    },
    {
      "metadata": {
        "_cell_guid": "79c7e3d0-c299-4dcb-8224-4455121ee9b0",
        "_uuid": "d629ff2d2480ee46fbb7e2d37f6b5fab8052498a",
        "trusted": true
      },
      "cell_type": "code",
      "source": "#import\nfrom kaggle.competitions import twosigmanews\nfrom datetime import datetime, date\nimport numpy as np\nfrom sklearn import model_selection",
      "execution_count": null,
      "outputs": []
    },
    {
      "metadata": {
        "_uuid": "fd7d69c23f12599133ff5878265ac658912895c2"
      },
      "cell_type": "markdown",
      "source": "Let's download the data"
    },
    {
      "metadata": {
        "trusted": true,
        "_uuid": "6b767d660ca88c739d2b33e4609940246a46a58d"
      },
      "cell_type": "code",
      "source": "env = twosigmanews.make_env()\n\n(market_train_df, news_train_df) = env.get_training_data()\nmarket_train, news_train = market_train_df.copy(), news_train_df.copy()",
      "execution_count": null,
      "outputs": []
    },
    {
      "metadata": {
        "_uuid": "ea6b8d00dbfe38a194c033b53eaf34738184184c"
      },
      "cell_type": "markdown",
      "source": "We start working with **market data**\n\nFill the data gaps"
    },
    {
      "metadata": {
        "trusted": true,
        "_uuid": "323b38f6ce147b384be2caec8e183e830082fbfe"
      },
      "cell_type": "code",
      "source": "def fill_in(data):\n    for i in data.columns:\n        if data[i].dtype == \"object\":\n            data[i] = data[i].fillna(\"\")\n        elif (data[i].dtype == \"int64\" or data[i].dtype == \"float64\"):\n            data[i] = data[i].fillna(data[i].mean())\n        else:\n            pass\n    return data\n\nmarket_train_df = fill_in(market_train_df)",
      "execution_count": null,
      "outputs": []
    },
    {
      "metadata": {
        "_uuid": "4e3ee981659cab92ac18556ca5ec7ae31c1c37eb"
      },
      "cell_type": "markdown",
      "source": "Fill time, assetCodeType and drop nulls"
    },
    {
      "metadata": {
        "trusted": true,
        "_uuid": "0d8ad0ce763f81ffbe1def0b221646bbd5845a07"
      },
      "cell_type": "code",
      "source": "def data_other(market_train_df):\n    market_train_df.time = market_train_df.time.dt.date\n    lbl = {k: v for v, k in enumerate(market_train_df['assetCode'].unique())}\n    market_train_df['assetCodeT'] = market_train_df['assetCode'].map(lbl)\n    \n    market_train_df = market_train_df.dropna(axis=0)\n    \n    return market_train_df\n\nmarket_train_df = data_other(market_train_df)",
      "execution_count": null,
      "outputs": []
    },
    {
      "metadata": {
        "_uuid": "fdac9528cce8120c65c84df2f10fc942c2e35ad1"
      },
      "cell_type": "markdown",
      "source": "select only datapoints from 2009 (#3340144 from #4072956)"
    },
    {
      "metadata": {
        "trusted": true,
        "_uuid": "99c7a3cda669cf53262734e4f06055b629aff7aa"
      },
      "cell_type": "code",
      "source": "market_train_df = market_train_df.loc[market_train_df['time']>=date(2009, 1, 1)]",
      "execution_count": null,
      "outputs": []
    },
    {
      "metadata": {
        "_uuid": "ef12376a1c47d601884ff414b6058b731f60be37"
      },
      "cell_type": "markdown",
      "source": "variable green will hold datapoints where the 10day return was positive\n\nreturnsOpenNextMktres10(float64) - 10 day, market-residualized return. This is the target variable used in competition scoring. The market data has been filtered such that returnsOpenNextMktres10 is always not null."
    },
    {
      "metadata": {
        "trusted": true,
        "_uuid": "aa9083780b0823c29fe27ad084a9c20fb9c5068b"
      },
      "cell_type": "code",
      "source": "green = market_train_df.returnsOpenNextMktres10 > 0\ngreen = green.values",
      "execution_count": null,
      "outputs": []
    },
    {
      "metadata": {
        "_uuid": "498612680c74f309fe985f0e777b3555b98d7c9f"
      },
      "cell_type": "markdown",
      "source": "selection of columns: assetCodeType, volume, close, open and returns Cl-Op for Raw1,Mktres1,PrevRaw10 and PrevMktres10"
    },
    {
      "metadata": {
        "trusted": true,
        "_uuid": "7c12fc7c7d8048910c5ea7465226e939ea9a357c"
      },
      "cell_type": "code",
      "source": "fcol = [c for c in market_train_df if c not in ['assetCode', 'assetCodes', 'assetCodesLen', 'assetName', 'audiences', \n                                             'firstCreated', 'headline', 'headlineTag', 'marketCommentary', 'provider', \n                                             'returnsOpenNextMktres10', 'sourceId', 'subjects', 'time', 'time_x', 'universe','sourceTimestamp']]",
      "execution_count": null,
      "outputs": []
    },
    {
      "metadata": {
        "_uuid": "bc1bee467b7f1eb88377cbd563362eaf971c1d97"
      },
      "cell_type": "markdown",
      "source": "Variable X will hold datapoints with the selected columns, normalized"
    },
    {
      "metadata": {
        "trusted": true,
        "_uuid": "746ae68abcb1e5a3ee09be87b31630c6c3a3eca9"
      },
      "cell_type": "code",
      "source": "X = market_train_df[fcol].values\nmins = np.min(X, axis=0)\nmaxs = np.max(X, axis=0)\nrng = maxs - mins\nX = 1 - ((maxs - X) / rng)",
      "execution_count": null,
      "outputs": []
    },
    {
      "metadata": {
        "_uuid": "f486f9d0286c4c93834b85eb226d75c16526ebca"
      },
      "cell_type": "markdown",
      "source": "Variable all_10day will hold all 10day return values**"
    },
    {
      "metadata": {
        "trusted": true,
        "_uuid": "aaf9647ddb3ce76bd6e4e121014d5a7f1d555e94"
      },
      "cell_type": "code",
      "source": "all_10day = market_train_df.returnsOpenNextMktres10.values",
      "execution_count": null,
      "outputs": []
    },
    {
      "metadata": {
        "_uuid": "542ae94a0dec621ada2195d6be184475bec2b952"
      },
      "cell_type": "markdown",
      "source": "Create datasets train and test"
    },
    {
      "metadata": {
        "trusted": true,
        "_uuid": "e54b64245f7f4f8fabb389774f9a0614621bedff"
      },
      "cell_type": "code",
      "source": "X_train, X_test, green_train, green_test, all_train, all_test = model_selection.train_test_split(\n    X, green, all_10day, test_size=0.20, random_state=59)",
      "execution_count": null,
      "outputs": []
    },
    {
      "metadata": {
        "_uuid": "7b603221a1d46ac6d88274a799660d497b460206"
      },
      "cell_type": "markdown",
      "source": "**Model LightGB**\n\ncreate test and train data with X as datapoints and green as labels"
    },
    {
      "metadata": {
        "trusted": true,
        "_uuid": "8830853a68ee01e127706e5500d37238d770e02c"
      },
      "cell_type": "code",
      "source": "import lightgbm as lgb\ntrain_data = lgb.Dataset(X_train, label=green_train.astype(int))\ntest_data = lgb.Dataset(X_test, label=green_test.astype(int))",
      "execution_count": null,
      "outputs": []
    },
    {
      "metadata": {
        "_uuid": "03ceee831b3d72d24189e3b79b4d1b29bb1a471a"
      },
      "cell_type": "markdown",
      "source": "Magic parameters"
    },
    {
      "metadata": {
        "trusted": true,
        "_uuid": "8a3d96738272a61500f2cdb7c9e745c8f8ef5974"
      },
      "cell_type": "code",
      "source": "# these are tuned params I found\nx_1 = [0.19000424246380565, 2452, 212, 328, 202]\nx_2 = [0.19016805202090095, 2583, 213, 312, 220]",
      "execution_count": null,
      "outputs": []
    },
    {
      "metadata": {
        "_uuid": "ac49f331f1ef23f44ea6037bc7f253cc76931104"
      },
      "cell_type": "markdown",
      "source": "Let's train the model"
    },
    {
      "metadata": {
        "trusted": true,
        "_uuid": "a913367d881c38fd4c47ee5d9d7d7a173316cf2e"
      },
      "cell_type": "code",
      "source": "params_1 = {\n        'task': 'train',\n        'boosting_type': 'dart',\n        'objective': 'binary',\n        'learning_rate': x_1[0],\n        'num_leaves': x_1[1],\n        'min_data_in_leaf': x_1[2],\n        'num_iteration': x_1[3],\n        'max_bin': x_1[4],\n        'verbose': 1\n    }\n\nparams_2 = {\n        'task': 'train',\n        'boosting_type': 'dart',\n        'objective': 'binary',\n        'learning_rate': x_2[0],\n        'num_leaves': x_2[1],\n        'min_data_in_leaf': x_2[2],\n        'num_iteration': x_2[3],\n        'max_bin': x_2[4],\n        'verbose': 1\n    }\n\n\ngbm_1 = lgb.train(params_1,\n        train_data,\n        num_boost_round=100,\n        valid_sets=test_data,\n        early_stopping_rounds=5)\n        \ngbm_2 = lgb.train(params_2,\n        train_data,\n        num_boost_round=100,\n        valid_sets=test_data,\n        early_stopping_rounds=5)",
      "execution_count": null,
      "outputs": []
    },
    {
      "metadata": {
        "_uuid": "0790bd4a625dd403e28da365df461eb7255c7914"
      },
      "cell_type": "markdown",
      "source": "Once it is trained, we will predict the values for submission\n\nFirst, some variables"
    },
    {
      "metadata": {
        "trusted": true,
        "_uuid": "76a2ba54c5ae38bf4495e849546216e9c08a7f70"
      },
      "cell_type": "code",
      "source": "days = env.get_prediction_days()\nn_days = 0\nprep_time = 0\nprediction_time = 0\npackaging_time = 0",
      "execution_count": null,
      "outputs": []
    },
    {
      "metadata": {
        "_uuid": "ef281721819afe2b475d492e6b220706c1781714"
      },
      "cell_type": "markdown",
      "source": "For every day:"
    },
    {
      "metadata": {
        "trusted": true,
        "_uuid": "bb1c6f75b5b458102409dacd577fdbcad30c832c"
      },
      "cell_type": "code",
      "source": "import pandas as pd\nfor (market_obs_df, news_obs_df, predictions_template_df) in days:\n    n_days +=1\n    if (n_days%50==0):\n        print(n_days,end=' ')\n    market_obs_df = fill_in(market_obs_df)\n    market_obs_df = data_other(market_obs_df)\n    market_obs_df = market_obs_df[market_obs_df.assetCode.isin(predictions_template_df.assetCode)]\n    X_live = market_obs_df[fcol].values\n    X_live = 1 - ((maxs - X_live) / rng)\n    \n    lp = (gbm_1.predict(X_live) + gbm_2.predict(X_live))/2\n    \n\n    confidence = lp\n    confidence = (confidence-confidence.min())/(confidence.max()-confidence.min())\n    confidence = confidence * 2 - 1\n    preds = pd.DataFrame({'assetCode':market_obs_df['assetCode'],'confidence':confidence})\n    predictions_template_df = predictions_template_df.merge(preds,how='left').drop('confidenceValue',axis=1).fillna(0).rename(columns={'confidence':'confidenceValue'})\n    env.predict(predictions_template_df)",
      "execution_count": null,
      "outputs": []
    },
    {
      "metadata": {
        "_uuid": "ee83da8cc9ea7692d7774c73e5de06724345d9b5"
      },
      "cell_type": "markdown",
      "source": "Send prediction"
    },
    {
      "metadata": {
        "trusted": true,
        "_uuid": "d7d4978abf6fffa3250cb34a0abc6fbf763e3f79"
      },
      "cell_type": "code",
      "source": "env.write_submission_file()",
      "execution_count": null,
      "outputs": []
    },
    {
      "metadata": {
        "trusted": true,
        "_uuid": "640e6edaa1d03db5071b23caad201b12b4715441"
      },
      "cell_type": "code",
      "source": "",
      "execution_count": null,
      "outputs": []
    }
  ],
  "metadata": {
    "kernelspec": {
      "display_name": "Python 3",
      "language": "python",
      "name": "python3"
    },
    "language_info": {
      "name": "python",
      "version": "3.6.6",
      "mimetype": "text/x-python",
      "codemirror_mode": {
        "name": "ipython",
        "version": 3
      },
      "pygments_lexer": "ipython3",
      "nbconvert_exporter": "python",
      "file_extension": ".py"
    }
  },
  "nbformat": 4,
  "nbformat_minor": 1
}