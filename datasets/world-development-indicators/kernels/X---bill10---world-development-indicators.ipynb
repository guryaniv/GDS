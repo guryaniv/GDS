{
  "cells": [
    {
      "cell_type": "code",
      "execution_count": null,
      "metadata": {
        "_cell_guid": "5a1ea1ce-20e4-6461-ff75-cc8d15aad5d5"
      },
      "outputs": [],
      "source": [
        "# This Python 3 environment comes with many helpful analytics libraries installed\n",
        "# It is defined by the kaggle/python docker image: https://github.com/kaggle/docker-python\n",
        "# For example, here's several helpful packages to load in \n",
        "\n",
        "import numpy as np # linear algebra\n",
        "import pandas as pd # data processing, CSV file I/O (e.g. pd.read_csv)\n",
        "\n",
        "# Input data files are available in the \"../input/\" directory.\n",
        "# For example, running this (by clicking run or pressing Shift+Enter) will list the files in the input directory\n",
        "\n",
        "from subprocess import check_output\n",
        "print(check_output([\"ls\", \"../input\"]).decode(\"utf8\"))\n",
        "\n",
        "# Any results you write to the current directory are saved as output."
      ]
    },
    {
      "cell_type": "code",
      "execution_count": null,
      "metadata": {
        "_cell_guid": "6338e45c-abb0-09e7-c0a3-7df5c0fa44a2"
      },
      "outputs": [],
      "source": [
        "df=pd.read_csv('../input/Indicators.csv')"
      ]
    },
    {
      "cell_type": "code",
      "execution_count": null,
      "metadata": {
        "_cell_guid": "0195b13f-a35d-06b4-e2ec-47b2e593e9a5"
      },
      "outputs": [],
      "source": [
        "df=df.loc[df['IndicatorCode']=='SI.POV.GINI',['CountryName','Year','Value']]"
      ]
    },
    {
      "cell_type": "code",
      "execution_count": null,
      "metadata": {
        "_cell_guid": "d1ad1344-9f56-1c2a-87b4-ce80bd266485"
      },
      "outputs": [],
      "source": [
        "df.head()"
      ]
    },
    {
      "cell_type": "code",
      "execution_count": null,
      "metadata": {
        "_cell_guid": "960c0dc6-71e7-79ab-6f1b-b7d55bf7ec8f"
      },
      "outputs": [],
      "source": [
        "df=df.pivot(index='CountryName', columns='Year', values='Value')"
      ]
    },
    {
      "cell_type": "code",
      "execution_count": null,
      "metadata": {
        "_cell_guid": "dbe96d1e-40ec-9e67-0719-c22ce81c7174"
      },
      "outputs": [],
      "source": [
        "df.to_csv('gini.tsv',sep='\\t')"
      ]
    },
    {
      "cell_type": "code",
      "execution_count": null,
      "metadata": {
        "_cell_guid": "3cd77c56-ed94-1f00-dc40-330dd8858594"
      },
      "outputs": [],
      "source": [
        "df=df.loc[df['IndicatorCode']=='SG.GEN.PARL.ZS',['CountryName','Year','Value']]"
      ]
    },
    {
      "cell_type": "code",
      "execution_count": null,
      "metadata": {
        "_cell_guid": "8e2fab8a-47dd-42f0-f539-6a797e7ab318"
      },
      "outputs": [],
      "source": [
        "df=df.pivot(index='CountryName', columns='Year', values='Value')"
      ]
    },
    {
      "cell_type": "code",
      "execution_count": null,
      "metadata": {
        "_cell_guid": "d608ed20-84fa-7c30-f148-e0b6b76bfd80"
      },
      "outputs": [],
      "source": [
        "df=df>33"
      ]
    },
    {
      "cell_type": "code",
      "execution_count": null,
      "metadata": {
        "_cell_guid": "e258fb6c-a4e0-a48b-1324-d8cb8eb2bf40"
      },
      "outputs": [],
      "source": [
        "df.to_csv('gender.tsv',sep='\\t')"
      ]
    }
  ],
  "metadata": {
    "_change_revision": 0,
    "_is_fork": false,
    "kernelspec": {
      "display_name": "Python 3",
      "language": "python",
      "name": "python3"
    },
    "language_info": {
      "codemirror_mode": {
        "name": "ipython",
        "version": 3
      },
      "file_extension": ".py",
      "mimetype": "text/x-python",
      "name": "python",
      "nbconvert_exporter": "python",
      "pygments_lexer": "ipython3",
      "version": "3.6.0"
    }
  },
  "nbformat": 4,
  "nbformat_minor": 0
}