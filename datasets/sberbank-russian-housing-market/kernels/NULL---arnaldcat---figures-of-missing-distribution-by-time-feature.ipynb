{
  "cells": [
    {
      "cell_type": "markdown",
      "metadata": {
        "_cell_guid": "77815bb4-4c8b-35fc-e957-5154f9a83870"
      },
      "source": [
        "Hey guys, I just want to share a function to visualize missings distribution on a given dataframe. This function is very useful to me and generates a colormap visualization that gives an overall vision of how the missings are distributed in your dataframe.\n",
        "\n",
        "Please, upvote if you like it! Hope it will be useful for you too!\n",
        "\n",
        "Load libraries:"
      ]
    },
    {
      "cell_type": "code",
      "execution_count": null,
      "metadata": {
        "_cell_guid": "0a8e6cb1-7636-3475-a157-fdca6aeb5979"
      },
      "outputs": [],
      "source": [
        "%matplotlib inline\n",
        "import matplotlib.pylab as plt\n",
        "import pandas as pd\n",
        "import numpy as np"
      ]
    },
    {
      "cell_type": "markdown",
      "metadata": {
        "_cell_guid": "75fbf334-0a0f-c930-f19b-f5faa3b9ed00"
      },
      "source": [
        "Load data:"
      ]
    },
    {
      "cell_type": "code",
      "execution_count": null,
      "metadata": {
        "_cell_guid": "f3f30ec1-57c3-2799-220f-59143b44c4ca"
      },
      "outputs": [],
      "source": [
        "df_train = pd.read_csv(\"../input/train.csv\", parse_dates=['timestamp'])\n",
        "df_test = pd.read_csv(\"../input/test.csv\", parse_dates=['timestamp'])\n",
        "df_macro = pd.read_csv(\"../input/macro.csv\", parse_dates=['timestamp'])"
      ]
    },
    {
      "cell_type": "markdown",
      "metadata": {
        "_cell_guid": "1731e82f-704e-cba4-32c9-185bda87b491"
      },
      "source": [
        "Function to plot missings:"
      ]
    },
    {
      "cell_type": "code",
      "execution_count": null,
      "metadata": {
        "_cell_guid": "ae8ca249-3990-3ba1-4864-43c8b8719b89"
      },
      "outputs": [],
      "source": [
        "def plot_inspect_missings(df, stratifier, vars=None, min_freq=0):\n",
        "    \"\"\"Creates 2D colormap of completeness by columns given a stratification column.\n",
        "\n",
        "         Args:\n",
        "             df: Pandas dateframe.\n",
        "             stratifier: Column name used for stratification.\n",
        "             vars: List of column names to check (all if None)\n",
        "             min_freq: Only plot the columns that have at least this nan frequency\n",
        "         \"\"\"\n",
        "    if vars is None:\n",
        "        vars = df.columns.values.tolist()\n",
        "    if stratifier in vars:\n",
        "        temp = df.loc[:, vars]\n",
        "    else:\n",
        "        temp = df.loc[:, vars + [stratifier]]\n",
        "    included_vars = []\n",
        "    for i in vars:\n",
        "        if i != stratifier:\n",
        "            if df[i].dtype == int or df[i].dtype == float or df[i].dtype == object:\n",
        "                if df[i].isnull().sum() > min_freq:\n",
        "                    included_vars.append(i)\n",
        "                    temp[i] = df[i].notnull()\n",
        "            else:\n",
        "                temp[i] = df[i].fillna('')\n",
        "                if (df[i] == '').sum() > min_freq:\n",
        "                    included_vars.append(i)\n",
        "                    temp[i] = df[i] != ''\n",
        "    temp = temp.loc[:, included_vars + [stratifier]]\n",
        "    try:\n",
        "        temp[stratifier] = temp[stratifier].astype(int)\n",
        "    except:\n",
        "        n = 1\n",
        "    a = temp.groupby(temp[stratifier]).mean().transpose()\n",
        "    plt.figure(num=None, figsize=(18, 18), dpi=80, facecolor='w', edgecolor='k')\n",
        "    plt.pcolor(a*100, cmap='RdYlGn', vmin=0, vmax=100)\n",
        "    plt.yticks(np.arange(0.5, len(a.index), 1), a.index.values)\n",
        "    plt.xticks(np.arange(0.5, len(a.columns), 1), a.columns.values, rotation='vertical')\n",
        "    plt.colorbar(label='Completeness')\n",
        "    plt.ylabel('Data fields')\n",
        "    plt.xlabel(stratifier)\n",
        "    plt.title('Completeness')"
      ]
    },
    {
      "cell_type": "markdown",
      "metadata": {
        "_cell_guid": "7210bc65-61fb-49ec-0755-bb403bd25034"
      },
      "source": [
        "### Macro file:\n",
        "Plots missing distribution of the macro file by time and feature:"
      ]
    },
    {
      "cell_type": "code",
      "execution_count": null,
      "metadata": {
        "_cell_guid": "47b114b5-8795-ff83-8ad1-31e54b9818fe"
      },
      "outputs": [],
      "source": [
        "df_macro['ym'] = df_macro.timestamp.dt.year.astype(str) + '_' + df_macro.timestamp.dt.month.astype(str).str.zfill(2)\n",
        "plot_inspect_missings(df_macro, 'ym')"
      ]
    },
    {
      "cell_type": "markdown",
      "metadata": {
        "_cell_guid": "9394669b-6945-d783-f9d7-5f0199878424"
      },
      "source": [
        "### Training file:\n",
        "Plots missing distribution of the macro file by time and feature:"
      ]
    },
    {
      "cell_type": "code",
      "execution_count": null,
      "metadata": {
        "_cell_guid": "dc79b25f-5034-2827-92bd-a8e3bf9eab94"
      },
      "outputs": [],
      "source": [
        "df_train['ym'] = df_train.timestamp.dt.year.astype(str) + '_' + df_train.timestamp.dt.month.astype(str).str.zfill(2)\n",
        "plot_inspect_missings(df_train, 'ym')"
      ]
    },
    {
      "cell_type": "markdown",
      "metadata": {
        "_cell_guid": "6217677a-0581-8ba5-aee3-2fb2d339ea90"
      },
      "source": [
        "Same but using 'sub_area' as stratifier:"
      ]
    },
    {
      "cell_type": "code",
      "execution_count": null,
      "metadata": {
        "_cell_guid": "ec2e111f-c941-1402-0ca6-edd530c05678"
      },
      "outputs": [],
      "source": [
        "plot_inspect_missings(df_train, 'sub_area')"
      ]
    },
    {
      "cell_type": "markdown",
      "metadata": {
        "_cell_guid": "452b8ad0-c997-e5b4-b1d3-f94deff8a909"
      },
      "source": [
        "### Test file:\n",
        "Plots missing distribution of the macro file by time and feature:"
      ]
    },
    {
      "cell_type": "code",
      "execution_count": null,
      "metadata": {
        "_cell_guid": "4eb4a8d3-09da-1f6b-a0a2-65342c8df3cb"
      },
      "outputs": [],
      "source": [
        "df_test['ym'] = df_test.timestamp.dt.year.astype(str) + '_' + df_test.timestamp.dt.month.astype(str).str.zfill(2)\n",
        "plot_inspect_missings(df_test, 'ym')"
      ]
    },
    {
      "cell_type": "markdown",
      "metadata": {
        "_cell_guid": "d0c914a7-87ee-c025-aa33-33c59dbf347f"
      },
      "source": [
        "Same but using 'sub_area' as stratifier:"
      ]
    },
    {
      "cell_type": "code",
      "execution_count": null,
      "metadata": {
        "_cell_guid": "6160d710-25cd-0ffe-8a2e-be2f01f0ca62"
      },
      "outputs": [],
      "source": [
        "plot_inspect_missings(df_test, 'sub_area')"
      ]
    },
    {
      "cell_type": "code",
      "execution_count": null,
      "metadata": {
        "_cell_guid": "697b66e0-dbef-2865-11b5-b37c0c843684"
      },
      "outputs": [],
      "source": [
        ""
      ]
    }
  ],
  "metadata": {
    "_change_revision": 0,
    "_is_fork": false,
    "kernelspec": {
      "display_name": "Python 3",
      "language": "python",
      "name": "python3"
    },
    "language_info": {
      "codemirror_mode": {
        "name": "ipython",
        "version": 3
      },
      "file_extension": ".py",
      "mimetype": "text/x-python",
      "name": "python",
      "nbconvert_exporter": "python",
      "pygments_lexer": "ipython3",
      "version": "3.6.0"
    }
  },
  "nbformat": 4,
  "nbformat_minor": 0
}