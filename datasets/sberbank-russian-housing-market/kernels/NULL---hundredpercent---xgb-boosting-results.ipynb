{
  "cells": [
    {
      "cell_type": "markdown",
      "metadata": {
        "_cell_guid": "ac06cd79-9189-6d2b-9a83-012d19327beb"
      },
      "source": [
        "Load the required libraries and data. "
      ]
    },
    {
      "cell_type": "code",
      "execution_count": null,
      "metadata": {
        "_cell_guid": "555a1731-6a24-51ed-f194-a47541b955db"
      },
      "outputs": [],
      "source": [
        "import numpy as np\n",
        "import pandas as pd\n",
        "import matplotlib.pyplot as plt\n",
        "import seaborn as sns\n",
        "%matplotlib inline\n",
        "from sklearn import model_selection, preprocessing\n",
        "import xgboost as xgb\n",
        "import datetime\n",
        "#now = datetime.datetime.now()\n",
        "\n",
        "train = pd.read_csv('../input/train.csv')\n",
        "test = pd.read_csv('../input/test.csv')\n",
        "macro = pd.read_csv('../input/macro.csv')\n",
        "id_test = test.id\n",
        "train.sample(3)\n",
        "# Any results you write to the current directory are saved as output."
      ]
    },
    {
      "cell_type": "code",
      "execution_count": null,
      "metadata": {
        "_cell_guid": "99278d98-cd21-7952-6391-44a01d2d121b"
      },
      "outputs": [],
      "source": [
        "\n",
        "y_train = train[\"price_doc\"]\n",
        "x_train = train.drop([\"id\", \"timestamp\", \"price_doc\"], axis=1)\n",
        "x_test = test.drop([\"id\", \"timestamp\"], axis=1)\n",
        "\n",
        "for c in x_train.columns:\n",
        "    if x_train[c].dtype == 'object':\n",
        "        lbl = preprocessing.LabelEncoder()\n",
        "        lbl.fit(list(x_train[c].values)) \n",
        "        x_train[c] = lbl.transform(list(x_train[c].values))\n",
        "        #x_train.drop(c,axis=1,inplace=True)\n",
        "        \n",
        "for c in x_test.columns:\n",
        "    if x_test[c].dtype == 'object':\n",
        "        lbl = preprocessing.LabelEncoder()\n",
        "        lbl.fit(list(x_test[c].values)) \n",
        "        x_test[c] = lbl.transform(list(x_test[c].values))\n",
        "        #x_test.drop(c,axis=1,inplace=True)    \n",
        "        \n",
        "#features= ['big_market_km', 'preschool_km', 'exhibition_km', 'prom_part_5000', 'indust_part', 'museum_km', 'ice_rink_km', 'office_km', 'zd_vokzaly_avto_km', 'prom_part_3000', 'detention_facility_km', 'railroad_station_walk_km', 'nuclear_reactor_km', 'area_m', 'water_km', 'church_synagogue_km', 'hospice_morgue_km', 'cemetery_km', 'stadium_km', 'school_km', 'green_part_1000', 'green_part_500', 'catering_km', 'public_healthcare_km', 'big_road1_km', 'additional_education_km', 'preschool_quota', 'ID_metro', 'theater_km', 'park_km', 'power_transmission_line_km', 'metro_min_walk', 'big_church_km', 'green_part_1500', 'hospital_beds_raion', 'university_km', 'workplaces_km', 'big_road2_km', 'swim_pool_km', 'metro_km_avto', 'fitness_km', 'mosque_km', 'industrial_km', 'ttk_km', 'sub_area', 'metro_min_avto', 'public_transport_station_km', 'material', 'radiation_km', 'green_zone_km', 'railroad_km', 'kindergarten_km', 'state', 'num_room', 'kitch_sq', 'max_floor', 'build_year', 'floor', 'life_sq', 'full_sq']\n",
        "#print(features)\n",
        "#print(x_train.sample(1))\n",
        "#print(y_train.sample(1))\n",
        "#print(x_test.sample(1))\n",
        "#print(y_test.sample(1))\n",
        "#x_train=x_train[features]\n",
        "#x_test=x_test[features]\n",
        "#y_train=y_train[features]"
      ]
    },
    {
      "cell_type": "code",
      "execution_count": null,
      "metadata": {
        "_cell_guid": "8af6c180-4e30-8c18-9b93-9dc32a242792"
      },
      "outputs": [],
      "source": [
        "xgb_params = {\n",
        "    'eta': 0.05,\n",
        "    'max_depth': 5,\n",
        "    'subsample': 0.7,\n",
        "    'colsample_bytree': 0.7,\n",
        "    'objective': 'reg:linear',\n",
        "    'eval_metric': 'rmse',\n",
        "    'silent': 1\n",
        "}\n",
        "\n",
        "dtrain = xgb.DMatrix(x_train, y_train)\n",
        "dtest = xgb.DMatrix(x_test)"
      ]
    },
    {
      "cell_type": "code",
      "execution_count": null,
      "metadata": {
        "_cell_guid": "6fef7514-5663-5363-6083-6d7dfc6fb25e"
      },
      "outputs": [],
      "source": [
        "cv_output = xgb.cv(xgb_params, dtrain, num_boost_round=1000, early_stopping_rounds=20,\n",
        "    verbose_eval=50, show_stdv=False)\n",
        "cv_output[['train-rmse-mean', 'test-rmse-mean']].plot()"
      ]
    },
    {
      "cell_type": "code",
      "execution_count": null,
      "metadata": {
        "_cell_guid": "a96d1965-8328-35b0-d0a3-dfcfa77275ab"
      },
      "outputs": [],
      "source": [
        "num_boost_rounds = 400\n",
        "model = xgb.train(dict(xgb_params, silent=0), dtrain, num_boost_round= num_boost_rounds)"
      ]
    },
    {
      "cell_type": "code",
      "execution_count": null,
      "metadata": {
        "_cell_guid": "2a04f7d8-3efa-df54-713e-f6222453c60b"
      },
      "outputs": [],
      "source": [
        "import operator\n",
        "\n",
        "def ceate_feature_map(features):\n",
        "    outfile = open('xgb.fmap', 'w')\n",
        "    i = 0\n",
        "    for feat in features:\n",
        "        outfile.write('{0}\\t{1}\\tq\\n'.format(i, feat))\n",
        "        i = i + 1\n",
        "\n",
        "    outfile.close()\n",
        "\n",
        "\n",
        "#ceate_feature_map(features)\n",
        "\n",
        "#importance = model.get_fscore(fmap='xgb.fmap')\n",
        "#importance = sorted(importance.items(), key=operator.itemgetter(1))\n",
        "\n",
        "#df = pd.DataFrame(importance, columns=['feature', 'fscore'])\n",
        "#df['fscore'] = df['fscore'] / df['fscore'].sum()\n",
        "\n",
        "plt.figure()\n",
        "df.plot()\n",
        "df.plot(kind='barh', x='feature', y='fscore', legend=False, figsize=(6, 10))\n",
        "plt.title('XGBoost Feature Importance')\n",
        "plt.xlabel('relative importance')\n",
        "plt.gcf().savefig('feature_importance_xgb.png')\n",
        "#fig, ax = plt.subplots(1, 1, figsize=(8, 13))\n",
        "#xgb.plot_importance(model, max_num_features=50, height=0.5, ax=ax)"
      ]
    },
    {
      "cell_type": "code",
      "execution_count": null,
      "metadata": {
        "_cell_guid": "27d0831f-df36-2608-b11a-a335c9a79613"
      },
      "outputs": [],
      "source": [
        "y_predict = model.predict(dtest)\n",
        "output = pd.DataFrame({'id': id_test, 'price_doc': y_predict})\n",
        "output.head()"
      ]
    },
    {
      "cell_type": "code",
      "execution_count": null,
      "metadata": {
        "_cell_guid": "0a5dbdee-3e96-aded-9c71-2e2c72af3e5a"
      },
      "outputs": [],
      "source": [
        "output.to_csv('xgbMySubmission289.csv', index=False)"
      ]
    },
    {
      "cell_type": "code",
      "execution_count": null,
      "metadata": {
        "_cell_guid": "e4a6c92c-4131-3065-bade-4cee8c2a09d1"
      },
      "outputs": [],
      "source": [
        "Now is submission time"
      ]
    }
  ],
  "metadata": {
    "_change_revision": 0,
    "_is_fork": false,
    "kernelspec": {
      "display_name": "Python 3",
      "language": "python",
      "name": "python3"
    },
    "language_info": {
      "codemirror_mode": {
        "name": "ipython",
        "version": 3
      },
      "file_extension": ".py",
      "mimetype": "text/x-python",
      "name": "python",
      "nbconvert_exporter": "python",
      "pygments_lexer": "ipython3",
      "version": "3.6.0"
    }
  },
  "nbformat": 4,
  "nbformat_minor": 0
}