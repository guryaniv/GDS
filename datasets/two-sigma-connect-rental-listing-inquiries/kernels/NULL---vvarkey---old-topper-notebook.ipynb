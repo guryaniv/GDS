{
  "cells": [
    {
      "cell_type": "code",
      "execution_count": null,
      "metadata": {
        "_cell_guid": "d0d960da-ff3c-0564-6757-45af039da4e6"
      },
      "outputs": [],
      "source": [
        "import os\n",
        "import sys\n",
        "import operator\n",
        "import math\n",
        "import numpy as np\n",
        "import pandas as pd\n",
        "from scipy import sparse\n",
        "import xgboost as xgb\n",
        "from sklearn import model_selection, preprocessing, ensemble\n",
        "from sklearn.metrics import log_loss\n",
        "from sklearn.feature_extraction.text import TfidfVectorizer, CountVectorizer\n",
        "from sklearn.model_selection import train_test_split\n",
        "from sklearn.model_selection import KFold\n",
        "\n",
        "def runXGB(train_X, train_y, test_X=None, test_y=None, feature_names=None, seed_val=0, num_rounds=1000):\n",
        "    param = {}\n",
        "    param['objective'] = 'multi:softprob'\n",
        "    param['eta'] = 0.05\n",
        "    param['max_depth'] = 5\n",
        "    param['silent'] = 1\n",
        "    param['num_class'] = 3\n",
        "    param['eval_metric'] = \"mlogloss\"\n",
        "    param['min_child_weight'] = 1\n",
        "    param['subsample'] = 0.7\n",
        "    param['colsample_bytree'] = 0.7\n",
        "    param['seed'] = 8088\n",
        "    num_rounds = num_rounds\n",
        "    \n",
        "    \n",
        "    plst = list(param.items())\n",
        "    xgtrain = xgb.DMatrix(train_X, label=train_y)\n",
        "\n",
        "    if test_X is not None:\n",
        "        if test_y is not None:\n",
        "            xgtest = xgb.DMatrix(test_X, label=test_y)\n",
        "            watchlist = [ (xgtrain,'train'), (xgtest, 'test') ]\n",
        "            model = xgb.train(plst, xgtrain, num_rounds, watchlist, early_stopping_rounds=25,\n",
        "                             verbose_eval=25)#False)\n",
        "        else:\n",
        "            xgtest = xgb.DMatrix(test_X)\n",
        "            model = xgb.train(plst, xgtrain, num_rounds)\n",
        "\n",
        "        pred_test_y = model.predict(xgtest)\n",
        "        return pred_test_y, model\n",
        "    else:\n",
        "        evals=xgb.cv(plst, xgtrain, num_rounds, nfold=5, early_stopping_rounds=25,\n",
        "                             verbose_eval=25, seed=0)\n",
        "        return evals\n",
        "    \n",
        "data_path = \"../input/\"\n",
        "train_file = data_path + \"train.json\"\n",
        "test_file = data_path + \"test.json\"\n",
        "train_df = pd.read_json(train_file)\n",
        "test_df = pd.read_json(test_file)\n",
        "print(train_df.shape)\n",
        "print(test_df.shape)"
      ]
    },
    {
      "cell_type": "code",
      "execution_count": null,
      "metadata": {
        "_cell_guid": "93721d59-328d-1410-a320-4110e1291325"
      },
      "outputs": [],
      "source": [
        "features_to_use  = [\"bathrooms\", \"bedrooms\", \"latitude\", \"longitude\", \"price\"]\n",
        "\n",
        "# count of photos #\n",
        "train_df[\"num_photos\"] = train_df[\"photos\"].apply(len)\n",
        "test_df[\"num_photos\"] = test_df[\"photos\"].apply(len)\n",
        "\n",
        "# count of \"features\" #\n",
        "train_df[\"num_features\"] = train_df[\"features\"].apply(len)\n",
        "test_df[\"num_features\"] = test_df[\"features\"].apply(len)\n",
        "\n",
        "# count of words present in description column #\n",
        "train_df[\"num_description_words\"] = train_df[\"description\"].apply(lambda x: len(x.split(\" \")))\n",
        "test_df[\"num_description_words\"] = test_df[\"description\"].apply(lambda x: len(x.split(\" \")))\n",
        "\n",
        "# convert the created column to datetime object so as to extract more features \n",
        "train_df[\"created\"] = pd.to_datetime(train_df[\"created\"])\n",
        "test_df[\"created\"] = pd.to_datetime(test_df[\"created\"])\n",
        "\n",
        "# Let us extract some features like year, month, day, hour from date columns #\n",
        "train_df[\"created_year\"] = train_df[\"created\"].dt.year\n",
        "test_df[\"created_year\"] = test_df[\"created\"].dt.year\n",
        "train_df[\"created_month\"] = train_df[\"created\"].dt.month\n",
        "test_df[\"created_month\"] = test_df[\"created\"].dt.month\n",
        "train_df[\"created_day\"] = train_df[\"created\"].dt.day\n",
        "test_df[\"created_day\"] = test_df[\"created\"].dt.day\n",
        "train_df[\"created_hour\"] = train_df[\"created\"].dt.hour\n",
        "test_df[\"created_hour\"] = test_df[\"created\"].dt.hour\n",
        "\n",
        "train_df[\"price_per_bed\"] = train_df[\"price\"]/train_df[\"bedrooms\"].clip(lower=1)\n",
        "test_df[\"price_per_bed\"] = test_df[\"price\"]/test_df[\"bedrooms\"].clip(lower=1)\n",
        "train_df['created_date']=np.array(train_df.created.values, dtype='datetime64[D]'\n",
        "                                 ).astype(np.float32)\n",
        "test_df['created_date']=np.array(test_df.created.values, dtype='datetime64[D]'\n",
        "                                 ).astype(np.float32)\n",
        "\n",
        "train_df['display_address'] = train_df['display_address'].apply(lambda x: x.lower().strip())\n",
        "test_df['display_address'] = test_df['display_address'].apply(lambda x: x.lower().strip())\n",
        "train_df['street_address'] = train_df['street_address'].apply(lambda x: x.lower().strip())\n",
        "test_df['street_address'] = test_df['street_address'].apply(lambda x: x.lower().strip())\n",
        "\n"
      ]
    },
    {
      "cell_type": "code",
      "execution_count": null,
      "metadata": {
        "_cell_guid": "c8389632-738c-811c-0cc2-c26983c3ee54"
      },
      "outputs": [],
      "source": [
        "# adding all these new features to use list #\n",
        "features_to_use.extend([\"num_photos\", \"num_features\", \"num_description_words\",\n",
        "                        \"created_month\", \"listing_id\", \"created_hour\", \n",
        "                        \"price_per_bed\", \"created_date\"])\n",
        "                        \n",
        "categorical = [\"display_address\", \"manager_id\", \"building_id\", \"street_address\"]\n",
        "for f in categorical:\n",
        "        if train_df[f].dtype=='object':\n",
        "            #print(f)\n",
        "            lbl = preprocessing.LabelEncoder()\n",
        "            lbl.fit(list(train_df[f].values) + list(test_df[f].values))\n",
        "            train_df[f] = lbl.transform(list(train_df[f].values))\n",
        "            test_df[f] = lbl.transform(list(test_df[f].values))\n",
        "            features_to_use.append(f)\n",
        "            "
      ]
    },
    {
      "cell_type": "code",
      "execution_count": null,
      "metadata": {
        "_cell_guid": "f4f51eb6-1803-a833-ff1f-e71c33a953b7"
      },
      "outputs": [],
      "source": [
        "train_df['features'] = train_df[\"features\"].apply(lambda x: \" \".join([\"_\".join(i.split(\" \")) for i in x]))\n",
        "test_df['features'] = test_df[\"features\"].apply(lambda x: \" \".join([\"_\".join(i.split(\" \")) for i in x]))\n",
        "print(train_df[\"features\"].head())\n",
        "tfidf = CountVectorizer(stop_words='english', max_features=200)\n",
        "tfidf.fit(train_df[\"features\"])\n",
        "\n",
        "train_df_tr=train_df\n",
        "tr_sparse_tr = tfidf.transform(train_df_tr[\"features\"])\n",
        "te_sparse = tfidf.transform(test_df[\"features\"])"
      ]
    },
    {
      "cell_type": "code",
      "execution_count": null,
      "metadata": {
        "_cell_guid": "a48a0a3f-a9ae-3a95-2600-edf3503de297"
      },
      "outputs": [],
      "source": [
        "def manager(train_df_tr, test_df):\n",
        "    temp = pd.concat([train_df_tr.manager_id,pd.get_dummies(train_df_tr.interest_level)], axis = 1\n",
        "                    ).groupby('manager_id').mean()\n",
        "    temp.columns = ['high_frac','low_frac', 'medium_frac']\n",
        "    temp['count'] = train_df_tr.groupby('manager_id').count().iloc[:,1]\n",
        "\n",
        "    temp['manager_skill'] = temp['high_frac']*2 + temp['medium_frac']\n",
        "    unranked_managers_ixes = temp['count']<20\n",
        "    ranked_managers_ixes = ~unranked_managers_ixes\n",
        "    mean_values = temp.loc[ranked_managers_ixes, [\n",
        "        'high_frac','low_frac', 'medium_frac','manager_skill']].mean()\n",
        "    temp.loc[unranked_managers_ixes,[\n",
        "        'high_frac','low_frac', 'medium_frac','manager_skill']] = mean_values.values\n",
        "\n",
        "    train_df_tr = train_df_tr.merge(temp.reset_index(),how='left', on='manager_id')\n",
        "\n",
        "    test_df = test_df.merge(temp.reset_index(),how='left', on='manager_id')\n",
        "    new_manager_ixes = test_df['high_frac'].isnull()\n",
        "    test_df.loc[new_manager_ixes,['high_frac','low_frac', 'medium_frac','manager_skill'\n",
        "                                ]] = mean_values.values\n",
        "\n",
        "    return (train_df_tr, test_df)\n"
      ]
    },
    {
      "cell_type": "code",
      "execution_count": null,
      "metadata": {
        "_cell_guid": "9eeb5651-27c4-5d87-1fd5-c5895861b142"
      },
      "outputs": [],
      "source": [
        "features_sparse = ['features_'+str(i) for i in range(tr_sparse_tr.shape[1])]\n",
        "target_num_map = {'high':0, 'medium':1, 'low':2}\n",
        "train_y_tr = np.array(train_df_tr['interest_level'].apply(lambda x: target_num_map[x]))"
      ]
    },
    {
      "cell_type": "code",
      "execution_count": null,
      "metadata": {
        "_cell_guid": "4dde948b-ac7d-0fab-076a-6c57f5211943"
      },
      "outputs": [],
      "source": [
        "p_high=(train_y_tr==0).sum()/train_y_tr.shape[0]\n",
        "p_medium=(train_y_tr==1).sum()/train_y_tr.shape[0]\n",
        "p_high, p_medium"
      ]
    },
    {
      "cell_type": "code",
      "execution_count": null,
      "metadata": {
        "_cell_guid": "7ad61de2-6e58-37e0-8ca7-8eb7a41b2c13"
      },
      "outputs": [],
      "source": [
        "def cardinal(train_df_tr, test_df, f, one=False):\n",
        "    temp=pd.concat([train_df_tr[f], \n",
        "                    train_df_tr['interest_level'].apply(lambda x: target_num_map[x])], axis=1)\n",
        "\n",
        "    if one:\n",
        "        tempc=temp.groupby(f)['interest_level'].agg(np.size)\n",
        "        tempc=tempc[tempc==1]\n",
        "        train_df_tr.loc[train_df_tr[f].isin(tempc.index.ravel()), \n",
        "              f] = -1\n",
        "        test_df.loc[test_df[f].isin(tempc.index.ravel()), \n",
        "              f] = -1\n",
        "\n",
        "        temp=pd.concat([train_df_tr[f], \n",
        "                        train_df_tr['interest_level'].apply(lambda x: target_num_map[x])], axis=1)\n",
        "    \n",
        "    temp['high']=(temp['interest_level']==0).astype(np.int)\n",
        "    temp['medium']=(temp['interest_level']==1).astype(np.int)\n",
        "\n",
        "    temp2=temp.groupby(f)['high', 'medium'].agg(np.average)\n",
        "    temp2['count']=temp.groupby(f)['interest_level'].agg(np.size)\n",
        "    temp2['l']=temp2['count'].apply(lambda x: 1/(1+math.e**(-(min(x, 670)-20))))\n",
        "    r_k=0.01\n",
        "    temp2[f+'_high']=temp2['high']*temp2['l'] + p_high*(1-temp2['l']\n",
        "        ) * np.random.uniform(1 - r_k, 1 + r_k, len(temp2))\n",
        "    temp2[f+'_medium']=temp2['medium']*temp2['l'] + p_medium*(1-temp2['l']\n",
        "        ) * np.random.uniform(1 - r_k, 1 + r_k, len(temp2))\n",
        "    train_df_tr=train_df_tr.reset_index().merge(temp2[[f+'_high', f+'_medium']], how='left', \n",
        "                                  left_on=[f], right_index=True).set_index('index')\n",
        "    test_df=test_df.reset_index().merge(temp2[[f+'_high', f+'_medium']], how='left', \n",
        "                                  left_on=[f], right_index=True).set_index('index')\n",
        "    test_df.loc[test_df[f+'_high'].isnull(), f+'_high'] = p_high\n",
        "    test_df.loc[test_df[f+'_medium'].isnull(), f+'_medium'] = p_medium\n",
        "    \n",
        "    return (train_df_tr, test_df)\n"
      ]
    },
    {
      "cell_type": "code",
      "execution_count": null,
      "metadata": {
        "_cell_guid": "951c36d3-d6f2-70eb-77fe-1a6d5a980259"
      },
      "outputs": [],
      "source": [
        "features_to_use=['bathrooms', 'bedrooms', 'latitude', 'longitude', 'price', 'num_photos', \n",
        "                 'num_features', 'num_description_words', 'created_month', 'listing_id', \n",
        "                 'created_hour', 'price_per_bed', 'created_date', 'display_address', 'manager_id', \n",
        "                 'building_id', 'street_address', 'manager_skill']\n",
        "\n",
        "features_to_use2=features_to_use# + ['building_id_high', 'building_id_medium']\n",
        "\n",
        "train_df_tr=train_df_tr.reset_index(drop=True)\n",
        "\n",
        "#(train_df_tr, test_df)=cardinal(train_df_tr, test_df, 'display_address')\n",
        "train_index, test_index, y_tr, y_te = train_test_split(train_df_tr.index, train_y_tr, \n",
        "                                                       random_state=0)\n",
        "\n",
        "tr=train_df_tr.loc[train_index]\n",
        "te=train_df_tr.loc[test_index]\n",
        "(tr, te) = manager(tr, te)\n",
        "\n",
        "(tr, te)=cardinal(tr, te, 'building_id')\n",
        "\n",
        "train_X_tr = sparse.hstack([tr[features_to_use2], \n",
        "                            tr_sparse_tr[train_index]]).tocsr()\n",
        "test_X_tr = sparse.hstack([te[features_to_use2], \n",
        "                            tr_sparse_tr[test_index]]).tocsr()\n",
        "#test_X = sparse.hstack([test_df[features_to_use], te_sparse]).tocsr()\n",
        "preds, model = runXGB(train_X_tr, train_y_tr[train_index], \n",
        "                     test_X_tr, train_y_tr[test_index])\n",
        "print(\"%d  %.6f\"%(model.best_iteration, model.best_score))\n"
      ]
    },
    {
      "cell_type": "code",
      "execution_count": null,
      "metadata": {
        "_cell_guid": "e6fd53c0-d3a1-530f-7ab3-406b1faa9763"
      },
      "outputs": [],
      "source": [
        "'''out_df = pd.DataFrame(preds)\n",
        "out_df.columns = [\"high\", \"medium\", \"low\"]\n",
        "out_df[\"listing_id\"] = test_df.listing_id.values\n",
        "out_df.to_csv(\"0330.3.csv\", index=False)\n",
        "'''"
      ]
    }
  ],
  "metadata": {
    "_change_revision": 0,
    "_is_fork": false,
    "kernelspec": {
      "display_name": "Python 3",
      "language": "python",
      "name": "python3"
    },
    "language_info": {
      "codemirror_mode": {
        "name": "ipython",
        "version": 3
      },
      "file_extension": ".py",
      "mimetype": "text/x-python",
      "name": "python",
      "nbconvert_exporter": "python",
      "pygments_lexer": "ipython3",
      "version": "3.6.0"
    }
  },
  "nbformat": 4,
  "nbformat_minor": 0
}