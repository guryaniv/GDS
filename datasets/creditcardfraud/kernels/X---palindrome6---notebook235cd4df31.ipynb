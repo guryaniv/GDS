{
  "cells": [
    {
      "cell_type": "code",
      "execution_count": null,
      "metadata": {
        "_cell_guid": "49b9f006-7167-08b1-dec5-ca2343c3cb99"
      },
      "outputs": [],
      "source": [
        "# This Python 3 environment comes with many helpful analytics libraries installed\n",
        "# It is defined by the kaggle/python docker image: https://github.com/kaggle/docker-python\n",
        "# For example, here's several helpful packages to load in \n",
        "\n",
        "import numpy as np # linear algebra\n",
        "import pandas as pd # data processing, CSV file I/O (e.g. pd.read_csv)\n",
        "\n",
        "# Input data files are available in the \"../input/\" directory.\n",
        "# For example, running this (by clicking run or pressing Shift+Enter) will list the files in the input directory\n",
        "\n",
        "from subprocess import check_output\n",
        "print(check_output([\"ls\", \"../input\"]).decode(\"utf8\"))\n",
        "\n",
        "# Any results you write to the current directory are saved as output."
      ]
    },
    {
      "cell_type": "code",
      "execution_count": null,
      "metadata": {
        "_cell_guid": "1561d43b-4256-3909-9c8b-72570b88cd40"
      },
      "outputs": [],
      "source": [
        "# other imports\n",
        "import matplotlib.pyplot as plt\n",
        "import matplotlib.pylab as pylab\n",
        "from sklearn.model_selection import train_test_split\n",
        "from imblearn.over_sampling import SMOTE\n",
        "from sklearn.ensemble import RandomForestClassifier\n",
        "from sklearn.metrics import accuracy_score, cohen_kappa_score"
      ]
    },
    {
      "cell_type": "code",
      "execution_count": null,
      "metadata": {
        "_cell_guid": "d3bf54cc-57e0-73b6-09bf-06e34707b716"
      },
      "outputs": [],
      "source": [
        "# set plot size\n",
        "pylab.rcParams['figure.figsize'] = 16, 12\n",
        "plt.style.use('ggplot')"
      ]
    },
    {
      "cell_type": "code",
      "execution_count": null,
      "metadata": {
        "_cell_guid": "6f53381a-604b-b7e5-9b14-72d53635fa0f"
      },
      "outputs": [],
      "source": [
        "# read data\n",
        "df = pd.read_csv('../input/creditcard.csv')"
      ]
    },
    {
      "cell_type": "code",
      "execution_count": null,
      "metadata": {
        "_cell_guid": "805c8aaf-7ab3-93cd-9c16-547ae0498786"
      },
      "outputs": [],
      "source": [
        "# Plot histogram of classes\n",
        "class_count = pd.value_counts(df['Class'], sort = True).sort_index()\n",
        "class_count.plot(kind = 'bar')\n",
        "plt.title(\"Histogram\")\n",
        "plt.xlabel(\"Class\")\n",
        "plt.ylabel(\"Frequency\")"
      ]
    },
    {
      "cell_type": "code",
      "execution_count": null,
      "metadata": {
        "_cell_guid": "6c1b64c1-8e75-9bab-b3ec-8599b1a1168b"
      },
      "outputs": [],
      "source": [
        "# Convert data to list and split into test-train\n",
        "X = df.ix[:, df.columns != 'Class']\n",
        "y = df.ix[:, df.columns == 'Class']\n",
        "X=X.values.T.tolist()\n",
        "X=np.asarray(X).transpose()\n",
        "y=y.values.T.tolist()\n",
        "y=np.asarray(y).transpose()\n",
        "X_train, X_test, y_train, y_test = train_test_split(X, y, test_size=0.33, random_state=42)"
      ]
    },
    {
      "cell_type": "code",
      "execution_count": null,
      "metadata": {
        "_cell_guid": "7bdfada4-3b23-b7e4-0a81-9a480e845b6b"
      },
      "outputs": [],
      "source": [
        "# Over-sample minority samples using SMOTE\n",
        "sm = SMOTE(ratio=0.5, random_state=42) \n",
        "X_tr_res, y_tr_res = sm.fit_sample(X_train, y_train.ravel())"
      ]
    },
    {
      "cell_type": "code",
      "execution_count": null,
      "metadata": {
        "_cell_guid": "1b010906-187b-6764-191a-91f24fe199d0"
      },
      "outputs": [],
      "source": [
        "# Plot new distribution\n",
        "plt.hist(y_tr_res)\n",
        "plt.ylabel('Probability');\n",
        "plt.title(\"Histogram\")\n",
        "plt.xlabel(\"Class\")\n",
        "plt.ylabel(\"Frequency\")\n",
        "plt.show()"
      ]
    },
    {
      "cell_type": "code",
      "execution_count": null,
      "metadata": {
        "_cell_guid": "dad07428-5fbd-af1b-3077-078f7a7bb230"
      },
      "outputs": [],
      "source": [
        "# Train model and test on separate test set\n",
        "rnd = RandomForestClassifier(n_estimators=512)\n",
        "rnd.fit(X_tr_res, y_tr_res)\n",
        "y_test_preds=rnd.predict(X_test)\n",
        "print(cohen_kappa_score(y_test, y_test_preds))"
      ]
    },
    {
      "cell_type": "code",
      "execution_count": null,
      "metadata": {
        "_cell_guid": "9931502d-31ff-a9d3-e2d9-0aa2ab0901eb"
      },
      "outputs": [],
      "source": ""
    },
    {
      "cell_type": "code",
      "execution_count": null,
      "metadata": {
        "_cell_guid": "7b5d133a-e75e-0e67-bcd8-466fc051f815"
      },
      "outputs": [],
      "source": ""
    }
  ],
  "metadata": {
    "_change_revision": 0,
    "_is_fork": false,
    "kernelspec": {
      "display_name": "Python 3",
      "language": "python",
      "name": "python3"
    },
    "language_info": {
      "codemirror_mode": {
        "name": "ipython",
        "version": 3
      },
      "file_extension": ".py",
      "mimetype": "text/x-python",
      "name": "python",
      "nbconvert_exporter": "python",
      "pygments_lexer": "ipython3",
      "version": "3.6.0"
    }
  },
  "nbformat": 4,
  "nbformat_minor": 0
}