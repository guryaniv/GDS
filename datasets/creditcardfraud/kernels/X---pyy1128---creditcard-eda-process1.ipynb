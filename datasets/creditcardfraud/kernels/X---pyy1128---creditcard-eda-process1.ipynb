{
  "cells": [
    {
      "cell_type": "markdown",
      "metadata": {
        "_cell_guid": "88b5a585-2f8a-7cad-1f36-129eb880d65c"
      },
      "source": [
        ""
      ]
    },
    {
      "cell_type": "code",
      "execution_count": null,
      "metadata": {
        "_cell_guid": "57dcf6e1-be2e-74f6-5bfd-203c98716e91"
      },
      "outputs": [],
      "source": [
        "# This Python 3 environment comes with many helpful analytics libraries installed\n",
        "# It is defined by the kaggle/python docker image: https://github.com/kaggle/docker-python\n",
        "# For example, here's several helpful packages to load in \n",
        "\n",
        "import numpy as np # linear algebra\n",
        "import pandas as pd # data processing, CSV file I/O (e.g. pd.read_csv)\n",
        "\n",
        "# Input data files are available in the \"../input/\" directory.\n",
        "# For example, running this (by clicking run or pressing Shift+Enter) will list the files in the input directory\n",
        "\n",
        "from subprocess import check_output\n",
        "print(check_output([\"ls\", \"../input\"]).decode(\"utf8\"))\n",
        "\n",
        "# Any results you write to the current directory are saved as output."
      ]
    },
    {
      "cell_type": "code",
      "execution_count": null,
      "metadata": {
        "_cell_guid": "8c40f9d6-4b2d-d56a-83d8-a91cf1c018c6"
      },
      "outputs": [],
      "source": [
        "import pandas as pd\n",
        "import matplotlib.pyplot as plt\n",
        "import numpy as np\n"
      ]
    },
    {
      "cell_type": "markdown",
      "metadata": {
        "_cell_guid": "9a0c2e79-6eb0-9fa8-d3af-175a5fffdd11"
      },
      "source": [
        "#\u52a0\u8f7d\u6570\u636e"
      ]
    },
    {
      "cell_type": "code",
      "execution_count": null,
      "metadata": {
        "_cell_guid": "5daa37a7-1ab6-935c-438f-16eb514c35c3"
      },
      "outputs": [],
      "source": [
        "data=pd.read_csv('../input/creditcard.csv')"
      ]
    },
    {
      "cell_type": "markdown",
      "metadata": {
        "_cell_guid": "17d38793-f154-03bb-1908-d8bd3b75567f"
      },
      "source": [
        "#Field:Class"
      ]
    },
    {
      "cell_type": "code",
      "execution_count": null,
      "metadata": {
        "_cell_guid": "660d7893-b135-a7ad-2b99-0acf2508e6af"
      },
      "outputs": [],
      "source": [
        "class1=data[data.Class==1]\n",
        "class0=data[data.Class==0]"
      ]
    },
    {
      "cell_type": "code",
      "execution_count": null,
      "metadata": {
        "_cell_guid": "fea36a72-6731-1ad7-8e7d-65104d1638a6"
      },
      "outputs": [],
      "source": [
        "class_count=pd.value_counts(data['Class'],sort=True).sort_index()\n",
        "class_count.plot(kind='bar')\n",
        "plt.title('class histogram')\n",
        "plt.xlabel('class')\n",
        "plt.ylabel('count')"
      ]
    },
    {
      "cell_type": "code",
      "execution_count": null,
      "metadata": {
        "_cell_guid": "b0a5a7df-ad46-2298-1beb-7d082a4db958"
      },
      "outputs": [],
      "source": [
        "class_count=pd.value_counts(data['Class'],sort=True).sort_index()\n",
        "class_count_p=class_count/sum(class_count)\n",
        "class_count_p.plot(kind='bar')\n",
        "plt.title('class histogram')\n",
        "plt.xlabel('class')\n",
        "plt.ylabel('ratio of two classes')"
      ]
    },
    {
      "cell_type": "code",
      "execution_count": null,
      "metadata": {
        "_cell_guid": "5c992a8f-e202-e4ef-aeca-4254495a99d1"
      },
      "outputs": [],
      "source": [
        "amount1=class1.Amount\n",
        "amount0=class0.Amount\n",
        "\n",
        "print('class1','class0')\n",
        "print('min:',amount1.min(),amount0.min())\n",
        "print('median:',amount1.median(),amount0.median())\n",
        "print('mean:',amount1.mean(),amount0.mean())\n",
        "print('max:',amount1.max(),amount0.max())"
      ]
    },
    {
      "cell_type": "code",
      "execution_count": null,
      "metadata": {
        "_cell_guid": "aea4d6df-f667-e663-0467-b5f22d43be0e"
      },
      "outputs": [],
      "source": [
        "import matplotlib.pyplot as plt\n",
        "import seaborn as sns\n",
        "p = sns.color_palette()"
      ]
    },
    {
      "cell_type": "code",
      "execution_count": null,
      "metadata": {
        "_cell_guid": "413a07df-80ce-a996-7731-b4d5c5a138c6"
      },
      "outputs": [],
      "source": ""
    },
    {
      "cell_type": "code",
      "execution_count": null,
      "metadata": {
        "_cell_guid": "da6653a8-4866-2513-d5ad-2313d0a10e65"
      },
      "outputs": [],
      "source": [
        "plt.figure(figsize=(10, 10))\n",
        "plt.hist(amount1,normed=1, bins=10, color=p[2])\n",
        "plt.xlabel('Amount')\n",
        "plt.ylabel('Count')\n",
        "plt.title('Distribution of Amount in class 1')"
      ]
    },
    {
      "cell_type": "code",
      "execution_count": null,
      "metadata": {
        "_cell_guid": "8461624f-a399-d2e2-411f-ebe542393d34"
      },
      "outputs": [],
      "source": [
        "plt.figure(figsize=(10, 10))\n",
        "plt.hist(amount0,normed=1,bins=10, color=p[1])\n",
        "plt.xlabel('Amount')\n",
        "plt.ylabel('Count')\n",
        "plt.title('Distribution of Amount in class 1')"
      ]
    },
    {
      "cell_type": "code",
      "execution_count": null,
      "metadata": {
        "_cell_guid": "f7363470-44f5-44c8-d461-9d20bfd6568e"
      },
      "outputs": [],
      "source": [
        "amount0_cut=amount0[amount0<2500]\n",
        "plt.figure(figsize=(10, 10))\n",
        "plt.hist(amount0_cut,normed=1,bins=10, color=p[1])\n",
        "plt.xlabel('Amount')\n",
        "plt.ylabel('Count')\n",
        "plt.title('Distribution of Amount in class 1')"
      ]
    },
    {
      "cell_type": "code",
      "execution_count": null,
      "metadata": {
        "_cell_guid": "16d8360f-60b9-5827-66b0-d8012fd45630"
      },
      "outputs": [],
      "source": [
        "plt.figure(figsize=(10,10))\n",
        "plt.hist(amount1.reset_index(drop=True),normed=1,alpha=0.6,color=p[2],label='class 1')\n",
        "plt.hist(amount0.reset_index(drop=True),normed=1,alpha=0.6,color=p[1],label='class 0')\n",
        "plt.legend()\n",
        "plt.show()"
      ]
    },
    {
      "cell_type": "code",
      "execution_count": null,
      "metadata": {
        "_cell_guid": "ba955ac5-40d8-e494-d701-3b9cbe12a6ee"
      },
      "outputs": [],
      "source": [
        "plt.figure(figsize=(10,10))\n",
        "plt.hist(amount1.reset_index(drop=True),bins=30,normed=1,alpha=0.6,color=p[2],label='class 1')\n",
        "plt.hist(amount0_cut.reset_index(drop=True),bins=30,normed=1,alpha=0.6,color=p[1],label='class 0')\n",
        "plt.legend()\n",
        "plt.show()"
      ]
    },
    {
      "cell_type": "code",
      "execution_count": null,
      "metadata": {
        "_cell_guid": "e59f7f6c-579b-71d6-3c8f-b33c47a936b4"
      },
      "outputs": [],
      "source": [
        ""
      ]
    },
    {
      "cell_type": "code",
      "execution_count": null,
      "metadata": {
        "_cell_guid": "7bbeeda3-2a84-10f2-349a-15128333a654"
      },
      "outputs": [],
      "source": [
        "data = pd.read_csv(\"../input/creditcard.csv\")\n",
        "data.head()"
      ]
    },
    {
      "cell_type": "code",
      "execution_count": null,
      "metadata": {
        "_cell_guid": "c421ca57-028a-b3d5-ad17-de41cd614d18"
      },
      "outputs": [],
      "source": [
        ""
      ]
    }
  ],
  "metadata": {
    "_change_revision": 0,
    "_is_fork": false,
    "kernelspec": {
      "display_name": "Python 3",
      "language": "python",
      "name": "python3"
    },
    "language_info": {
      "codemirror_mode": {
        "name": "ipython",
        "version": 3
      },
      "file_extension": ".py",
      "mimetype": "text/x-python",
      "name": "python",
      "nbconvert_exporter": "python",
      "pygments_lexer": "ipython3",
      "version": "3.6.0"
    }
  },
  "nbformat": 4,
  "nbformat_minor": 0
}