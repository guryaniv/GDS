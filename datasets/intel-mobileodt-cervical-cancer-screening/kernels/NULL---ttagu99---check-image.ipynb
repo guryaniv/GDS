{
  "cells": [
    {
      "cell_type": "code",
      "execution_count": null,
      "metadata": {
        "_cell_guid": "83769964-a88f-1c56-5a27-0d5253b2480b"
      },
      "outputs": [],
      "source": [
        "# This Python 3 environment comes with many helpful analytics libraries installed\n",
        "# It is defined by the kaggle/python docker image: https://github.com/kaggle/docker-python\n",
        "# For example, here's several helpful packages to load in \n",
        "\n",
        "import numpy as np # linear algebra\n",
        "import pandas as pd # data processing, CSV file I/O (e.g. pd.read_csv)\n",
        "\n",
        "# Input data files are available in the \"../input/\" directory.\n",
        "# For example, running this (by clicking run or pressing Shift+Enter) will list the files in the input directory\n",
        "\n",
        "from subprocess import check_output\n",
        "print(check_output([\"ls\", \"../input\"]).decode(\"utf8\"))\n",
        "\n",
        "# Any results you write to the current directory are saved as output."
      ]
    },
    {
      "cell_type": "code",
      "execution_count": null,
      "metadata": {
        "_cell_guid": "3309a54e-1faa-c11d-1f50-0aed2a3ed4cb"
      },
      "outputs": [],
      "source": [
        "%matplotlib inline\n",
        "import os\n",
        "import glob\n",
        "import matplotlib.pyplot as plt\n",
        "\n",
        "add_images = glob.glob(\"../input/additional/*/*.jpg\")\n",
        "print(\"add image num : \" + str(len(add_images)))\n",
        "\n",
        "train_images = glob.glob(\"../input/train/*/*.jpg\")\n",
        "print(\"add image num : \" + str(len(train_images)))"
      ]
    },
    {
      "cell_type": "code",
      "execution_count": null,
      "metadata": {
        "_cell_guid": "263261ad-d08c-ecfc-6917-e0f75ad696a3"
      },
      "outputs": [],
      "source": [
        "import cv2\n",
        "for image in add_images:\n",
        "    try:\n",
        "        img = cv2.imread(image,3)\n",
        "    except:\n",
        "        print(\"wrong open image : \" + image)\n",
        "        \n",
        "for image in train_images:\n",
        "    try:\n",
        "        img = cv2.imread(image,3)\n",
        "    except:\n",
        "        print(\"wrong open image : \" + image)"
      ]
    },
    {
      "cell_type": "code",
      "execution_count": null,
      "metadata": {
        "_cell_guid": "544ccdc2-79f5-53b8-e69f-1cabdad01d31"
      },
      "outputs": [],
      "source": [
        "train_images = glob.glob(\"../input/train/*/*.jpg\")\n",
        "print(\"train image num : \" + str(len(train_images)))"
      ]
    },
    {
      "cell_type": "code",
      "execution_count": null,
      "metadata": {
        "_cell_guid": "6134d1c6-afbc-868e-5de5-7021a5606d0b"
      },
      "outputs": [],
      "source": [
        "import cv2\n",
        "\n",
        "for i in range(30,40) :\n",
        "    image = train_images[i]\n",
        "    cv_img = cv2.imread(image)\n",
        "    plt_img = cv2.cvtColor(cv_img,cv2.COLOR_BGR2RGB)\n",
        "    hsv_img = cv2.cvtColor(cv_img,cv2.COLOR_BGR2HSV)\n",
        "    lab_img = cv2.cvtColor(cv_img,cv2.COLOR_BGR2LAB)\n",
        "    yuv_img = cv2.cvtColor(cv_img,cv2.COLOR_BGR2YUV)\n",
        "    \n",
        "    h,s,v = cv2.split(hsv_img)\n",
        "    l,a,b = cv2.split(lab_img)\n",
        "    plt.subplot(151)\n",
        "    plt.imshow(plt_img)\n",
        "    plt.subplot(152)\n",
        "    plt.imshow(h, cmap='gray')\n",
        "    plt.subplot(153)\n",
        "    plt.imshow(s, cmap='gray')\n",
        "    plt.subplot(154)\n",
        "    plt.imshow(v, cmap='gray')\n",
        "    plt.show()\n",
        "    "
      ]
    },
    {
      "cell_type": "code",
      "execution_count": null,
      "metadata": {
        "_cell_guid": "53ccf964-6371-c3de-ff5e-f5555cf10aba"
      },
      "outputs": [],
      "source": [
        ""
      ]
    },
    {
      "cell_type": "code",
      "execution_count": null,
      "metadata": {
        "_cell_guid": "f1a715fe-75c0-d82f-5c64-74645ad61767"
      },
      "outputs": [],
      "source": [
        ""
      ]
    }
  ],
  "metadata": {
    "_change_revision": 0,
    "_is_fork": false,
    "kernelspec": {
      "display_name": "Python 3",
      "language": "python",
      "name": "python3"
    },
    "language_info": {
      "codemirror_mode": {
        "name": "ipython",
        "version": 3
      },
      "file_extension": ".py",
      "mimetype": "text/x-python",
      "name": "python",
      "nbconvert_exporter": "python",
      "pygments_lexer": "ipython3",
      "version": "3.6.0"
    }
  },
  "nbformat": 4,
  "nbformat_minor": 0
}