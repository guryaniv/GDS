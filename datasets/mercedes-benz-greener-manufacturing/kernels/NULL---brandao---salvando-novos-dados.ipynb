{
  "cells": [
    {
      "cell_type": "code",
      "execution_count": null,
      "metadata": {
        "_cell_guid": "f56612b7-5e56-a982-e444-2e803d037696"
      },
      "outputs": [],
      "source": [
        "import numpy as np # linear algebra\n",
        "import pandas as pd # data processing, CSV file I/O (e.g. pd.read_csv)\n",
        "from sklearn.preprocessing import LabelEncoder"
      ]
    },
    {
      "cell_type": "code",
      "execution_count": null,
      "metadata": {
        "_cell_guid": "c1860d05-f575-5b2b-af7e-53478e209504"
      },
      "outputs": [],
      "source": [
        "# read datasets\n",
        "train = pd.read_csv('../input/train.csv')\n",
        "test = pd.read_csv('../input/test.csv')\n",
        "\n",
        "# process columns, apply LabelEncoder to categorical features\n",
        "for c in train.columns:\n",
        "    if train[c].dtype == 'object':\n",
        "        lbl = LabelEncoder() \n",
        "        lbl.fit(list(train[c].values) + list(test[c].values)) \n",
        "        train[c] = lbl.transform(list(train[c].values))\n",
        "        test[c] = lbl.transform(list(test[c].values))\n",
        "\n",
        "# shape        \n",
        "print('Shape train: {}\\nShape test: {}'.format(train.shape, test.shape))"
      ]
    },
    {
      "cell_type": "markdown",
      "metadata": {
        "_cell_guid": "e1b670a7-996f-1b2c-4f94-46fbac0ff748"
      },
      "source": [
        "### Add decomposed components: PCA / ICA etc."
      ]
    },
    {
      "cell_type": "code",
      "execution_count": null,
      "metadata": {
        "_cell_guid": "d4d2a6a5-f3fb-241f-ff1b-27206031e5d5"
      },
      "outputs": [],
      "source": [
        "from sklearn.decomposition import PCA, FastICA\n",
        "n_comp = 100\n",
        "\n",
        "# PCA\n",
        "pca = PCA(n_components=n_comp, random_state=42)\n",
        "pca2_results_train = pca.fit_transform(train.drop([\"y\"], axis=1))\n",
        "pca2_results_test = pca.transform(test)\n",
        "\n",
        "# ICA\n",
        "ica = FastICA(n_components=n_comp, random_state=42)\n",
        "ica2_results_train = ica.fit_transform(train.drop([\"y\"], axis=1))\n",
        "ica2_results_test = ica.transform(test)\n",
        "\n",
        "# Append decomposition components to datasets\n",
        "for i in range(1, n_comp+1):\n",
        "    train['pca_' + str(i)] = pca2_results_train[:,i-1]\n",
        "    test['pca_' + str(i)] = pca2_results_test[:, i-1]\n",
        "    \n",
        "    train['ica_' + str(i)] = ica2_results_train[:,i-1]\n",
        "    test['ica_' + str(i)] = ica2_results_test[:, i-1]\n",
        "    \n",
        "\n",
        "train.to_csv('train.csv', index=False);\n",
        "test.to_csv('test.csv', index=False);"
      ]
    }
  ],
  "metadata": {
    "_change_revision": 0,
    "_is_fork": false,
    "kernelspec": {
      "display_name": "Python 3",
      "language": "python",
      "name": "python3"
    },
    "language_info": {
      "codemirror_mode": {
        "name": "ipython",
        "version": 3
      },
      "file_extension": ".py",
      "mimetype": "text/x-python",
      "name": "python",
      "nbconvert_exporter": "python",
      "pygments_lexer": "ipython3",
      "version": "3.6.0"
    }
  },
  "nbformat": 4,
  "nbformat_minor": 0
}