{
  "cells": [
    {
      "cell_type": "markdown",
      "metadata": {
        "_cell_guid": "21156b0c-3417-2f47-545e-94d05c319dc0"
      },
      "source": [
        "This scrip is based on [Just an easy solution][1] by [guyko][2]\n",
        "\n",
        "\n",
        "  [1]: https://www.kaggle.com/guyko81/allstate-claims-severity/just-an-easy-solution/notebook\n",
        "  [2]: https://www.kaggle.com/guyko81/"
      ]
    },
    {
      "cell_type": "code",
      "execution_count": null,
      "metadata": {
        "_cell_guid": "397ae8e2-154d-45b6-5e99-1fa425608ebf"
      },
      "outputs": [],
      "source": [
        "# This Python 3 environment comes with many helpful analytics libraries installed\n",
        "# It is defined by the kaggle/python docker image: https://github.com/kaggle/docker-python\n",
        "# For example, here's several helpful packages to load in \n",
        "\n",
        "import numpy as np # linear algebra\n",
        "import pandas as pd # data processing, CSV file I/O (e.g. pd.read_csv)\n",
        "\n",
        "# Input data files are available in the \"../input/\" directory.\n",
        "# For example, running this (by clicking run or pressing Shift+Enter) will list the files in the input directory\n",
        "\n",
        "from subprocess import check_output\n",
        "print(check_output([\"ls\", \"../input\"]).decode(\"utf8\"))\n",
        "\n",
        "# Any results you write to the current directory are saved as output."
      ]
    },
    {
      "cell_type": "code",
      "execution_count": null,
      "metadata": {
        "_cell_guid": "0de9124e-17f2-7192-1bd6-0443b2d89489"
      },
      "outputs": [],
      "source": [
        "train = pd.read_csv('../input/train.csv')\n",
        "test = pd.read_csv('../input/test.csv')\n",
        "train.shape, test.shape"
      ]
    },
    {
      "cell_type": "code",
      "execution_count": null,
      "metadata": {
        "_cell_guid": "9be5355f-fd1d-648d-b25c-6046d8bcdde6"
      },
      "outputs": [],
      "source": [
        "features = [x for x in train.columns if x not in ['id', 'loss']]\n",
        "cat_features = [x for x in train.select_dtypes(include=['object']).columns if x not in ['id','loss']]\n",
        "num_features = [x for x in train.select_dtypes(exclude=['object']).columns if x not in ['id', 'loss']]"
      ]
    },
    {
      "cell_type": "code",
      "execution_count": null,
      "metadata": {
        "_cell_guid": "d4d73cf9-80fd-88ea-462f-d6704e256bc4"
      },
      "outputs": [],
      "source": [
        "from scipy.stats import norm, lognorm\n",
        "import matplotlib.pyplot as plt\n",
        "import matplotlib.mlab as mlab\n",
        "import seaborn as sns\n",
        "train.loss.hist()"
      ]
    },
    {
      "cell_type": "code",
      "execution_count": null,
      "metadata": {
        "_cell_guid": "21cf99b5-55cc-6822-627a-2c5b8255fb74"
      },
      "outputs": [],
      "source": [
        "np.log(train.loss).hist()"
      ]
    },
    {
      "cell_type": "code",
      "execution_count": null,
      "metadata": {
        "_cell_guid": "ae7aa317-4969-798a-7c2f-02e89f010459"
      },
      "outputs": [],
      "source": [
        "train['log_loss'] = np.log(train.loss)\n",
        "#fit the normal distribution on ln(loss)\n",
        "(mu, sigma) = norm.fit(train.log_loss)\n",
        "#the histogram of the ln(loss)\n",
        "n, bins, patches = plt.hist(train.log_loss, 60, normed=1)\n",
        "# add the fitted line\n",
        "y = mlab.normpdf(bins, mu, sigma)\n",
        "l = plt.plot(bins, y, 'r--', linewidth=2)\n",
        "#plot\n",
        "plt.xlabel('Ln(loss)')\n",
        "plt.ylabel('Probability')\n",
        "plt.title(r'$\\mathrm{Histogram\\ of\\ Ln(Loss):}\\ \\mu=%.3f, \\ \\sigma=%.3f$' %(mu, sigma))"
      ]
    },
    {
      "cell_type": "markdown",
      "metadata": {
        "_cell_guid": "385394cc-8d32-59bf-2bfa-893e2d347d34"
      },
      "source": [
        " Symmetric data for RMSE algorithms.  \n",
        " Asymmetric output would bias the prediction towards higher losses\n"
      ]
    },
    {
      "cell_type": "code",
      "execution_count": null,
      "metadata": {
        "_cell_guid": "d37a20fc-1722-5b92-4782-9b1b3ded65a3"
      },
      "outputs": [],
      "source": [
        "ntrain = train.shape[0]\n",
        "ntest = test.shape[0]\n",
        "train_test = pd.concat((train[features], test[features])).reset_index(drop=True)\n",
        "for c in range(len(cat_features)):\n",
        "    train_test[cat_features[c]] = train_test[cat_features[c]].astype('category').cat.codes\n",
        "train_x = train_test.iloc[:ntrain, :]\n",
        "test_x = train_test.iloc[ntrain:, :]\n",
        "train_x.head()"
      ]
    },
    {
      "cell_type": "code",
      "execution_count": null,
      "metadata": {
        "_cell_guid": "66021888-7928-8493-0879-040f77b15f19"
      },
      "outputs": [],
      "source": [
        "train_x.shape, test_x.shape"
      ]
    },
    {
      "cell_type": "code",
      "execution_count": null,
      "metadata": {
        "_cell_guid": "cc63a562-427d-bcc4-7937-12313cdfa048"
      },
      "outputs": [],
      "source": [
        "train.log_loss.head()"
      ]
    },
    {
      "cell_type": "code",
      "execution_count": null,
      "metadata": {
        "_cell_guid": "94cad163-2e6d-e1f1-e86f-bd2c8020e99d"
      },
      "outputs": [],
      "source": [
        "import xgboost as xgb\n",
        "xgdmat = xgb.DMatrix(train_x, train.log_loss)\n",
        "params = {'eta': 0.01, 'seed': 0, 'subsample': 0.5, 'colsample':0.5,\n",
        "           'objective':'reg:linear', 'max_depth':6, 'min_child_weight':3}\n",
        "# Grid search CV optimized settings\n",
        "num_rounds = 1000\n",
        "bst = xgb.train(params, xgdmat, num_boost_round = num_rounds)"
      ]
    },
    {
      "cell_type": "markdown",
      "metadata": {
        "_cell_guid": "83dbffbf-6f1c-9886-46e8-82b9ecbdfae9"
      },
      "source": [
        "Most important features"
      ]
    },
    {
      "cell_type": "code",
      "execution_count": null,
      "metadata": {
        "_cell_guid": "9d3f6442-b725-cc3b-523b-daf1f37a1cf3"
      },
      "outputs": [],
      "source": [
        "import operator\n",
        "def create_feature_map(features):\n",
        "    outfile = open('xgb.fmap', 'w')\n",
        "    i = 0\n",
        "    for feat in features:\n",
        "        outfile.write('{0}\\t{1}\\tq\\n'.format(i, feat))\n",
        "        i +=1\n",
        "    outfile.close()"
      ]
    },
    {
      "cell_type": "code",
      "execution_count": null,
      "metadata": {
        "_cell_guid": "d6f7f445-f39f-108c-cc00-0d6abf658700"
      },
      "outputs": [],
      "source": [
        "create_feature_map(features)\n",
        "importance = bst.get_fscore(fmap='xgb.fmap')\n",
        "#importance = bst.get_fscore()\n",
        "importance = sorted(importance.items(), key=operator.itemgetter(1))\n",
        "df = pd.DataFrame(importance, columns=['feature', 'fscore'])\n",
        "df['fscore'] = df['fscore']/df['fscore'].sum()"
      ]
    },
    {
      "cell_type": "code",
      "execution_count": null,
      "metadata": {
        "_cell_guid": "27ac702e-0d10-dd6d-d4eb-ee2f8a3a8694"
      },
      "outputs": [],
      "source": [
        "len(importance), len(features)"
      ]
    },
    {
      "cell_type": "code",
      "execution_count": null,
      "metadata": {
        "_cell_guid": "b02769f5-0409-a0ba-330b-a01c93190b7f"
      },
      "outputs": [],
      "source": [
        "plt.figure()\n",
        "df.plot()\n",
        "df.plot(kind='barh', x='feature', y='fscore', legend=False, figsize=(6, 10))\n",
        "plt.title('XGBoost Feature Importance')\n",
        "plt.xlabel('relative importance')\n",
        "plt.gcf().savefig('feature_importance_xgb.png')\n",
        "df"
      ]
    },
    {
      "cell_type": "code",
      "execution_count": null,
      "metadata": {
        "_cell_guid": "bd33ccef-6b22-9464-7508-e12069f5606d"
      },
      "outputs": [],
      "source": [
        "test_xgb = xgb.DMatrix(test_x)\n",
        "submission = pd.read_csv('../input/sample_submission.csv')\n",
        "pred = np.exp(bst.predict(test_xgb))\n",
        "submission.iloc[:,1] = pred\n",
        "submission.to_csv('xgb_starter_sub.csv', index=None)"
      ]
    }
  ],
  "metadata": {
    "_change_revision": 0,
    "_is_fork": false,
    "kernelspec": {
      "display_name": "Python 3",
      "language": "python",
      "name": "python3"
    },
    "language_info": {
      "codemirror_mode": {
        "name": "ipython",
        "version": 3
      },
      "file_extension": ".py",
      "mimetype": "text/x-python",
      "name": "python",
      "nbconvert_exporter": "python",
      "pygments_lexer": "ipython3",
      "version": "3.5.2"
    }
  },
  "nbformat": 4,
  "nbformat_minor": 0
}