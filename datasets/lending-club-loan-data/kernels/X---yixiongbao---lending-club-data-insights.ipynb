{
  "cells": [
    {
      "cell_type": "markdown",
      "metadata": {
        "_cell_guid": "fa9906de-63ce-a635-5920-7e91dd1dcaca"
      },
      "source": [
        "I reviewed previously published notebook works did by other great guys, this notebook here mainly presents the descriptive statistics of the lending club loan data. I will contribute some prediction analysis later. "
      ]
    },
    {
      "cell_type": "code",
      "execution_count": null,
      "metadata": {
        "_cell_guid": "875bbdf0-ee56-f26b-b49b-527906150ce7"
      },
      "outputs": [],
      "source": [
        "import numpy as np\n",
        "import pandas as pd\n",
        "import matplotlib.pyplot as plt\n",
        "plt.style.use('ggplot')\n",
        "%matplotlib inline\n",
        "\n",
        "# Input data files are available in the \"../input/\" directory.\n",
        "# For example, running this (by clicking run or pressing Shift+Enter) will list the files in the input directory\n",
        "\n",
        "# from subprocess import check_output\n",
        "# print(check_output([\"ls\", \"../input\"]).decode(\"utf8\"))\n",
        "\n",
        "# Any results you write to the current directory are saved as output."
      ]
    },
    {
      "cell_type": "code",
      "execution_count": null,
      "metadata": {
        "_cell_guid": "820646a7-994e-0996-555e-0fa82d5867aa"
      },
      "outputs": [],
      "source": [
        "# read files\n",
        "df = pd.read_csv('../input/loan.csv',low_memory=False)"
      ]
    },
    {
      "cell_type": "code",
      "execution_count": null,
      "metadata": {
        "_cell_guid": "6f613f69-7647-db08-b263-ee1413bb6c23"
      },
      "outputs": [],
      "source": [
        "df.shape"
      ]
    },
    {
      "cell_type": "code",
      "execution_count": null,
      "metadata": {
        "_cell_guid": "0cc9ec28-e77c-53d9-de44-725eb21d1b01"
      },
      "outputs": [],
      "source": [
        "df.dtypes"
      ]
    },
    {
      "cell_type": "code",
      "execution_count": null,
      "metadata": {
        "_cell_guid": "cc535286-d127-eda6-4984-845a0a52adcf"
      },
      "outputs": [],
      "source": [
        "df['loan_amnt'].plot.hist()\n",
        "plt.title('Loan Amount Distribution')\n",
        "plt.ylabel('Frequency')\n",
        "plt.xlabel('Amount')"
      ]
    },
    {
      "cell_type": "code",
      "execution_count": null,
      "metadata": {
        "_cell_guid": "04a0a3ce-9992-b9b4-a792-17d8d480c53a"
      },
      "outputs": [],
      "source": [
        "df['loan_amnt'].plot.density()\n",
        "plt.xlabel('Amount')\n",
        "plt.title('Loan Amount Density')"
      ]
    },
    {
      "cell_type": "code",
      "execution_count": null,
      "metadata": {
        "_cell_guid": "3b3d9498-ec78-530b-2e98-dde1543ea8ed"
      },
      "outputs": [],
      "source": [
        "df['loan_amnt'].plot.box()\n",
        "plt.title('Loan Amount Boxplot')\n",
        "plt.ylabel('Loan Amount')\n",
        "plt.xlabel('')"
      ]
    },
    {
      "cell_type": "code",
      "execution_count": null,
      "metadata": {
        "_cell_guid": "ec8fe2b8-fc60-5ea1-17ba-93bca0fc37c9"
      },
      "outputs": [],
      "source": [
        "df['loan_status'].value_counts()"
      ]
    },
    {
      "cell_type": "code",
      "execution_count": null,
      "metadata": {
        "_cell_guid": "bb12cd98-4cf9-9ab9-5494-74aa653ca56a"
      },
      "outputs": [],
      "source": [
        "df.groupby('loan_status')['loan_amnt'].sum().sort_values(ascending=0).plot(kind='bar')\n",
        "plt.xlabel('Loan Status')\n",
        "plt.ylabel('Loan Amount')\n",
        "plt.title('What kind of loan status have the largest amount?')"
      ]
    },
    {
      "cell_type": "code",
      "execution_count": null,
      "metadata": {
        "_cell_guid": "47ff1932-906c-fcfd-e37d-7a2dd7ff82f5"
      },
      "outputs": [],
      "source": [
        "df['purpose'].value_counts().head(n=10)"
      ]
    },
    {
      "cell_type": "code",
      "execution_count": null,
      "metadata": {
        "_cell_guid": "036f0b43-fc26-46d2-e148-407a3a25a5fa"
      },
      "outputs": [],
      "source": [
        "from os import path\n",
        "from wordcloud import WordCloud\n",
        "plt.figure(figsize=(10,7))\n",
        "text = df['title'].to_json()\n",
        "wc = WordCloud(ranks_only=True,prefer_horizontal = 0.6,background_color = 'white',\n",
        "              max_words = 50).generate(text)\n",
        "plt.imshow(wc)\n",
        "plt.axis(\"off\")"
      ]
    },
    {
      "cell_type": "code",
      "execution_count": null,
      "metadata": {
        "_cell_guid": "a4edc082-fc55-a80a-d876-98f190590081"
      },
      "outputs": [],
      "source": [
        "df['title'].value_counts().head(n=10)"
      ]
    },
    {
      "cell_type": "code",
      "execution_count": null,
      "metadata": {
        "_cell_guid": "72b78f49-33a1-6761-156b-db199913630e"
      },
      "outputs": [],
      "source": [
        "df['grade'].value_counts().sort_index().plot(kind='bar')\n",
        "plt.title('Loan Grade Volume Distribution')\n",
        "plt.xlabel('Grade')\n",
        "plt.ylabel('Volume of Loans')"
      ]
    },
    {
      "cell_type": "code",
      "execution_count": null,
      "metadata": {
        "_cell_guid": "78e7295c-de5c-f263-4f0d-f1cf0581241a"
      },
      "outputs": [],
      "source": [
        "df.groupby('grade')['loan_amnt'].sum().sort_index().plot(kind='bar')\n",
        "plt.title('Loan Grade Amount Distribution')\n",
        "plt.xlabel('Grade')\n",
        "plt.ylabel('Amount of Loans')"
      ]
    },
    {
      "cell_type": "code",
      "execution_count": null,
      "metadata": {
        "_cell_guid": "48fe6ff3-6ef8-3bd8-6089-5ae48b45ed74"
      },
      "outputs": [],
      "source": [
        "df['issue_d'] = pd.to_datetime(df.issue_d)\n",
        "df.groupby('issue_d')['loan_amnt'].sum().plot()\n",
        "plt.title('Trends of loans amount issued')\n",
        "plt.xlabel('Year')\n",
        "plt.ylabel('Loan Amount')"
      ]
    },
    {
      "cell_type": "code",
      "execution_count": null,
      "metadata": {
        "_cell_guid": "ae313022-a929-af8e-fd57-381ebe5ffec7"
      },
      "outputs": [],
      "source": [
        "df['issue_d'].value_counts().sort_index().plot(kind='line')\n",
        "plt.xlabel('Year')\n",
        "plt.ylabel('Loan Volume')\n",
        "plt.title('Trends of Loan Volume')"
      ]
    },
    {
      "cell_type": "code",
      "execution_count": null,
      "metadata": {
        "_cell_guid": "b1d81df2-4017-e40c-31ba-e577e60f80ff"
      },
      "outputs": [],
      "source": [
        "df['issue_Y'] = df['issue_d'].dt.year\n",
        "temp = df.groupby(['grade','issue_Y'],as_index=False)['id'].count()\n",
        "\n",
        "import matplotlib.cm as cm\n",
        "dpoints = np.array(temp)\n",
        "fig = plt.figure(figsize=(15,7))\n",
        "ax = fig.add_subplot(1,1,1)\n",
        "space = 0.3\n",
        "conditions = np.unique(dpoints[:,0])\n",
        "categories = np.unique(dpoints[:,1])\n",
        "n = len(conditions)\n",
        "width = (1-space)/len(conditions)\n",
        "\n",
        "for i,cond in enumerate(conditions):\n",
        "    vals = dpoints[dpoints[:,0] == cond][:,2].astype(np.float)\n",
        "    pos = [j - (1 - space) / 2. + i * width for j in range(1,len(categories)+1)]\n",
        "    ax.bar(pos, vals, width = width,label=cond, \n",
        "       color=cm.Accent(float(i) / n))\n",
        "    ax.set_xticklabels(['','2008','2010','2012','2014',''])\n",
        "    handles, labels = ax.get_legend_handles_labels()\n",
        "    ax.legend(handles[::-1], labels[::-1])\n",
        "    ax.set_ylabel(\"Loan Volume\")\n",
        "    ax.set_xlabel(\"Year\")\n",
        "plt.title('Loan Volume Trends by Grade')"
      ]
    }
  ],
  "metadata": {
    "_change_revision": 0,
    "_is_fork": false,
    "kernelspec": {
      "display_name": "Python 3",
      "language": "python",
      "name": "python3"
    },
    "language_info": {
      "codemirror_mode": {
        "name": "ipython",
        "version": 3
      },
      "file_extension": ".py",
      "mimetype": "text/x-python",
      "name": "python",
      "nbconvert_exporter": "python",
      "pygments_lexer": "ipython3",
      "version": "3.6.0"
    }
  },
  "nbformat": 4,
  "nbformat_minor": 0
}