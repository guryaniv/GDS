{
  "cells": [
    {
      "cell_type": "code",
      "execution_count": null,
      "metadata": {
        "_cell_guid": "50cfce73-0cd8-092a-fe57-9c3ac000e875"
      },
      "outputs": [],
      "source": [
        "import pandas as pd\n",
        "import numpy as np\n",
        "\n",
        "# visualization\n",
        "import matplotlib.pyplot as plt\n",
        "%matplotlib inline\n",
        "\n",
        "\n",
        "import xgboost as xgb\n",
        "from sklearn import model_selection, preprocessing\n",
        "\n",
        "\n",
        "pd.set_option('display.max_columns', 500)"
      ]
    },
    {
      "cell_type": "code",
      "execution_count": null,
      "metadata": {
        "_cell_guid": "912d98a7-bb10-cab8-0fa8-d38f4b341d7c"
      },
      "outputs": [],
      "source": [
        "train_df = pd.read_csv('../input/train.csv',parse_dates=['timestamp'])\n",
        "result_df = pd.read_csv('../input/test.csv',parse_dates=['timestamp'])\n",
        "train_df.shape\n",
        "combine=[train_df,result_df]"
      ]
    },
    {
      "cell_type": "code",
      "execution_count": null,
      "metadata": {
        "_cell_guid": "c9be57ef-bcb3-c3ff-338f-d6f433c645cc"
      },
      "outputs": [],
      "source": [
        "for c in train_df.columns:\n",
        "    if train_df[c].dtype == 'object':\n",
        "        lbl = preprocessing.LabelEncoder()\n",
        "        lbl.fit(list(train_df[c].values)) \n",
        "        train_df[c] = lbl.transform(list(train_df[c].values))\n",
        "        #x_train.drop(c,axis=1,inplace=True)\n",
        "        \n",
        "for c in result_df.columns:\n",
        "    if result_df[c].dtype == 'object':\n",
        "        lbl = preprocessing.LabelEncoder()\n",
        "        lbl.fit(list(result_df[c].values)) \n",
        "        result_df[c] = lbl.transform(list(result_df[c].values))\n",
        "        #x_test.drop(c,axis=1,inplace=True)        "
      ]
    },
    {
      "cell_type": "code",
      "execution_count": null,
      "metadata": {
        "_cell_guid": "cce8547a-f49c-daa0-d206-712c5a5c7fee"
      },
      "outputs": [],
      "source": [
        "train_df = train_df.sample(n=30471,replace=True)"
      ]
    },
    {
      "cell_type": "code",
      "execution_count": null,
      "metadata": {
        "_cell_guid": "e4063db2-adcf-e873-9247-f752f53c5254"
      },
      "outputs": [],
      "source": [
        "X_train = train_df[(train_df.price_doc != 1000000)&\n",
        "                   (train_df.price_doc != 2000000)\n",
        "                  ].drop(['price_doc','id','timestamp'],axis=1)\n",
        "Y_train = train_df[(train_df.price_doc != 1000000)&\n",
        "                   (train_df.price_doc != 2000000)\n",
        "                  ]['price_doc'].values.reshape(-1,1)\n",
        "X_train.shape"
      ]
    },
    {
      "cell_type": "code",
      "execution_count": null,
      "metadata": {
        "_cell_guid": "8b7b7718-d741-ab52-06bc-f83f946bcfbe"
      },
      "outputs": [],
      "source": [
        "X_result = result_df.drop(['id','timestamp'],axis=1)\n",
        "id_test = result_df['id']\n",
        "X_result.shape"
      ]
    },
    {
      "cell_type": "code",
      "execution_count": null,
      "metadata": {
        "_cell_guid": "46e17dae-f980-cc0f-f8ac-1012251e4d21"
      },
      "outputs": [],
      "source": [
        "dtrain = xgb.DMatrix(X_train, Y_train)\n",
        "dresult = xgb.DMatrix(X_result)"
      ]
    },
    {
      "cell_type": "code",
      "execution_count": null,
      "metadata": {
        "_cell_guid": "59b9c470-d047-916c-7af0-608ea01d4c58"
      },
      "outputs": [],
      "source": [
        "xgb_params = {\n",
        "    'eta': 0.05,\n",
        "    'max_depth': 5,\n",
        "    'subsample': 0.7,\n",
        "    'colsample_bytree': 0.7,\n",
        "    'objective': 'reg:linear',\n",
        "    'eval_metric': 'rmse',\n",
        "    'silent': 1\n",
        "}\n",
        "# Uncomment to tune XGB `num_boost_rounds`\n",
        "#model = xgb.cv(xgb_params, dtrain, num_boost_round=1000,\n",
        "                  #early_stopping_rounds=20, verbose_eval=10)\n",
        "model = xgb.train(xgb_params, dtrain, num_boost_round=400, verbose_eval=50, \n",
        "                  evals=[(dtrain,'val')])"
      ]
    },
    {
      "cell_type": "code",
      "execution_count": null,
      "metadata": {
        "_cell_guid": "e5520862-a82a-495c-9f44-cb5db3d4f5d1"
      },
      "outputs": [],
      "source": [
        "y_pred=model.predict(dresult)\n",
        "output=pd.DataFrame(data={'price_doc':y_pred},index=id_test)"
      ]
    },
    {
      "cell_type": "code",
      "execution_count": null,
      "metadata": {
        "_cell_guid": "f6eceaea-95dd-0e90-d817-16f0cac8a955"
      },
      "outputs": [],
      "source": [
        "first_pred = y_pred"
      ]
    },
    {
      "cell_type": "code",
      "execution_count": null,
      "metadata": {
        "_cell_guid": "66c0b3bc-7f18-e418-aa3f-79b93e87585d"
      },
      "outputs": [],
      "source": [
        "second_pred = y_pred\n",
        "second_pred"
      ]
    },
    {
      "cell_type": "code",
      "execution_count": null,
      "metadata": {
        "_cell_guid": "9badc447-f44a-b754-84cb-9c563c80d1a5"
      },
      "outputs": [],
      "source": [
        "third_pred = y_pred"
      ]
    },
    {
      "cell_type": "code",
      "execution_count": null,
      "metadata": {
        "_cell_guid": "03ad82fb-f98d-f767-e0ec-75a21aa2b29c"
      },
      "outputs": [],
      "source": [
        "output=pd.DataFrame(data={'price_doc':(first_pred+second_pred+third_pred)/3},index=id_test)\n",
        "output.head(10)"
      ]
    },
    {
      "cell_type": "code",
      "execution_count": null,
      "metadata": {
        "_cell_guid": "c7369d2d-f24c-ae51-7261-9bcd9ce88501"
      },
      "outputs": [],
      "source": [
        "output.to_csv('output.csv',header=True)"
      ]
    },
    {
      "cell_type": "code",
      "execution_count": null,
      "metadata": {
        "_cell_guid": "b749a59f-6954-cc76-fb16-76e3392bb216"
      },
      "outputs": [],
      "source": [
        "pd.DataFrame(data={'price1':first_pred,'price2':second_pred,'price3':third_pred,\n",
        "                  'price12':(first_pred+second_pred)/2,\n",
        "                  'price13':(first_pred+third_pred)/2,\n",
        "                  'price23':(third_pred+second_pred)/2,\n",
        "                  'price123':(first_pred+second_pred+third_pred)/3},index=id_test).head(10)"
      ]
    },
    {
      "cell_type": "code",
      "execution_count": null,
      "metadata": {
        "_cell_guid": "e6e25de8-0d18-9a54-46e6-c1c57a4fd587"
      },
      "outputs": [],
      "source": ""
    }
  ],
  "metadata": {
    "_change_revision": 0,
    "_is_fork": false,
    "kernelspec": {
      "display_name": "Python 3",
      "language": "python",
      "name": "python3"
    },
    "language_info": {
      "codemirror_mode": {
        "name": "ipython",
        "version": 3
      },
      "file_extension": ".py",
      "mimetype": "text/x-python",
      "name": "python",
      "nbconvert_exporter": "python",
      "pygments_lexer": "ipython3",
      "version": "3.6.0"
    }
  },
  "nbformat": 4,
  "nbformat_minor": 0
}