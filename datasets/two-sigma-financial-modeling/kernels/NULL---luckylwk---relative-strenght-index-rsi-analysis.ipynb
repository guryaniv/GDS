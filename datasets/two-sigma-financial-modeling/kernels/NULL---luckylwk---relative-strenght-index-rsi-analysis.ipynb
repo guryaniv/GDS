{
  "cells": [
    {
      "cell_type": "markdown",
      "metadata": {
        "_cell_guid": "9373059d-6c0c-af18-3457-ac159547b3d1"
      },
      "source": [
        "I am not sure if the calculations are correct... please let me know if the RSI-calc is wrong."
      ]
    },
    {
      "cell_type": "code",
      "execution_count": null,
      "metadata": {
        "_cell_guid": "ac269656-cd7c-561a-6b3d-aa57255de50b"
      },
      "outputs": [],
      "source": [
        "import pandas as pd\n",
        "import numpy as np\n",
        "\n",
        "import matplotlib.pyplot as plt"
      ]
    },
    {
      "cell_type": "code",
      "execution_count": null,
      "metadata": {
        "_cell_guid": "7a1fcc98-21ca-a398-204d-2b5d3ed0fa67"
      },
      "outputs": [],
      "source": [
        "with pd.HDFStore(\"../input/train.h5\", \"r\") as train:\n",
        "    # Note that the \"train\" dataframe is the only dataframe in the file\n",
        "    df = train.get(\"train\")"
      ]
    },
    {
      "cell_type": "code",
      "execution_count": null,
      "metadata": {
        "_cell_guid": "5cd1e675-56ae-a6a1-0b7a-96c9e0d2d4e9"
      },
      "outputs": [],
      "source": [
        "# Lets take all assets with at least 100 days.\n",
        "min_days = 100\n",
        "\n",
        "ids_tmp = df.groupby('id').size() > min_days\n",
        "print(ids_tmp.shape)\n",
        "ids = ids_tmp.index.values[np.where(ids_tmp.values==True)]\n",
        "print(ids.shape)\n",
        "\n",
        "ids_tmp = None"
      ]
    },
    {
      "cell_type": "code",
      "execution_count": null,
      "metadata": {
        "_cell_guid": "c2272465-705e-f7b3-4135-3b29b933e1bf"
      },
      "outputs": [],
      "source": [
        "if 'y-stock' not in df.columns:\n",
        "    df['y-stock'] = np.nan\n",
        "\n",
        "\n",
        "for assetId in ids:\n",
        "    ix = df.id == assetId\n",
        "    df.loc[ix, 'y-stock'] = 100 * np.cumprod(1.0 + df[ix].y)"
      ]
    },
    {
      "cell_type": "code",
      "execution_count": null,
      "metadata": {
        "_cell_guid": "f335da1a-2684-3605-40d4-0edff4f7be93"
      },
      "outputs": [],
      "source": [
        "df[df.id==ids[4]]['y-stock'].plot(figsize=(9,2))"
      ]
    },
    {
      "cell_type": "code",
      "execution_count": null,
      "metadata": {
        "_cell_guid": "073aa22d-b238-6b8a-e441-2a3ad85e9fcc"
      },
      "outputs": [],
      "source": [
        "if 'y-delta' not in df.columns:\n",
        "    df['y-delta'] = np.nan\n",
        "\n",
        "\n",
        "for assetId in ids:\n",
        "    ix = df.id == assetId\n",
        "    df.loc[ix, 'y-delta'] = df.loc[ix, 'y-stock']-df.loc[ix, 'y-stock'].shift(1)"
      ]
    },
    {
      "cell_type": "code",
      "execution_count": null,
      "metadata": {
        "_cell_guid": "6b7ce600-a49a-d941-7104-850fff86c9d5"
      },
      "outputs": [],
      "source": [
        "df[df.id==ids[4]]['y-delta'].plot(figsize=(9,1))"
      ]
    },
    {
      "cell_type": "code",
      "execution_count": null,
      "metadata": {
        "_cell_guid": "1a9858e3-e66e-3078-deb7-37b2426ca1b9"
      },
      "outputs": [],
      "source": [
        "df[df.id==ids[4]]['y'].plot(figsize=(9,1))"
      ]
    },
    {
      "cell_type": "code",
      "execution_count": null,
      "metadata": {
        "_cell_guid": "0ad4103b-bf91-4b8b-2e34-a12dfecb971c"
      },
      "outputs": [],
      "source": [
        "if 'RSI-U' not in df.columns:\n",
        "    df['RSI-U'] = np.nan\n",
        "    df['RSI-D'] = np.nan \n",
        "    df['U-EWA-14'] = np.nan\n",
        "    df['D-EWA-14'] = np.nan\n",
        "    df['RS'] = np.nan\n",
        "    df['RSI'] = np.nan\n",
        "\n",
        "\n",
        "def calculate_ema(series_y, size=30):\n",
        "    return series_y.ewm(span=size, min_periods=size).mean()\n",
        "\n",
        "\n",
        "for assetId in ids:\n",
        "    ix = df.id == assetId\n",
        "    upIx = df.loc[ix, 'y-delta'] > 0.0\n",
        "    downIx = df.loc[ix, 'y-delta'] < 0.0\n",
        "    upIx = upIx.index[upIx.values]\n",
        "    downIx = downIx.index[downIx.values]\n",
        "    df.ix[upIx, 'RSI-U'] = df.ix[upIx, 'y-delta']\n",
        "    df.ix[downIx, 'RSI-U'] = 0.0\n",
        "    df.ix[upIx, 'RSI-D'] = 0.0\n",
        "    df.ix[downIx, 'RSI-D'] = np.abs(df.ix[downIx, 'y-delta'])\n",
        "    df.loc[ix, 'U-EWA-14'] = calculate_ema(df.loc[ix, 'RSI-U'], size=14)\n",
        "    df.loc[ix, 'D-EWA-14'] = calculate_ema(df.loc[ix, 'RSI-D'], size=14)\n",
        "    df.loc[ix, 'RS'] = df.loc[ix, 'U-EWA-14'] / df.loc[ix, 'D-EWA-14']\n",
        "    df.loc[ix, 'RSI'] = 100 - (100 / (1 + df.loc[ix, 'RS']))"
      ]
    },
    {
      "cell_type": "code",
      "execution_count": null,
      "metadata": {
        "_cell_guid": "c6e77a0e-4d67-1077-0c43-8b9f9a6178ef"
      },
      "outputs": [],
      "source": [
        "plt.figure(figsize=(9,4))\n",
        "plt.subplot(2,1,1)\n",
        "df[df.id==ids[4]]['y-stock'].plot()\n",
        "plt.subplot(2,1,2)\n",
        "df[df.id==ids[4]]['RSI'].plot()"
      ]
    },
    {
      "cell_type": "code",
      "execution_count": null,
      "metadata": {
        "_cell_guid": "5198c4b8-d1b2-e1ea-5083-d75c260e7862"
      },
      "outputs": [],
      "source": [
        "correlations = pd.DataFrame()\n",
        "\n",
        "feat_cols = df.columns[2:-7]\n",
        "\n",
        "for col in df.columns[-7:]:\n",
        "    corrs = []\n",
        "    for f_col in feat_cols:\n",
        "        corrs.append( df.loc[df[col].notnull(), col].corr(df.loc[df[col].notnull(), f_col]) )\n",
        "    correlations[col] = corrs\n",
        "    \n",
        "# Set index to columns.\n",
        "correlations.set_index(feat_cols, inplace=True)"
      ]
    },
    {
      "cell_type": "code",
      "execution_count": null,
      "metadata": {
        "_cell_guid": "1f2ceb91-2152-3516-340f-ec2d55c815ec"
      },
      "outputs": [],
      "source": [
        "import seaborn as sns\n",
        "\n",
        "plt.figure(figsize=(8,15))\n",
        "sns.heatmap(correlations, vmin=-1.0, vmax=1.0)"
      ]
    }
  ],
  "metadata": {
    "_change_revision": 0,
    "_is_fork": false,
    "kernelspec": {
      "display_name": "Python 3",
      "language": "python",
      "name": "python3"
    },
    "language_info": {
      "codemirror_mode": {
        "name": "ipython",
        "version": 3
      },
      "file_extension": ".py",
      "mimetype": "text/x-python",
      "name": "python",
      "nbconvert_exporter": "python",
      "pygments_lexer": "ipython3",
      "version": "3.5.2"
    }
  },
  "nbformat": 4,
  "nbformat_minor": 0
}