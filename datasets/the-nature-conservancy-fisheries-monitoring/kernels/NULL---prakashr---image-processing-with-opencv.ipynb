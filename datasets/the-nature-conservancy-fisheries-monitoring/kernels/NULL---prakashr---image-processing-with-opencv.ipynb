{
  "cells": [
    {
      "cell_type": "markdown",
      "metadata": {
        "_cell_guid": "6afb4ef1-e4a0-f47e-e82b-4f00232c19d5"
      },
      "source": [
        "- Rotate the Image\n",
        "- Translate the Image\n",
        "- Blur the Image\n",
        "- Day and Night effect\n",
        "- flip the Image\n",
        "- shear the Image"
      ]
    },
    {
      "cell_type": "code",
      "execution_count": null,
      "metadata": {
        "_cell_guid": "ca0e1725-f467-529e-4e90-a2636e0630d8"
      },
      "outputs": [],
      "source": [
        "import numpy as np\n",
        "import pandas as pd \n",
        "import glob,cv2\n",
        "import random\n",
        "import matplotlib.pyplot as plt\n",
        "%matplotlib inline\n",
        "\n",
        "import warnings\n",
        "warnings.filterwarnings(\"ignore\")"
      ]
    },
    {
      "cell_type": "code",
      "execution_count": null,
      "metadata": {
        "_cell_guid": "30c6fc72-b5a7-f42a-b790-ea8002709e8a"
      },
      "outputs": [],
      "source": [
        "folderlist = glob.glob(\"../input/train/*\")\n",
        "print (folderlist[0])"
      ]
    },
    {
      "cell_type": "code",
      "execution_count": null,
      "metadata": {
        "_cell_guid": "209a4c8b-2b76-5d9a-3e53-a986c135ae03"
      },
      "outputs": [],
      "source": [
        "filelist = glob.glob(folderlist[0]+\"/*\")\n",
        "print(filelist[0])"
      ]
    },
    {
      "cell_type": "code",
      "execution_count": null,
      "metadata": {
        "_cell_guid": "5add98b1-6b0d-b9a9-1d29-9ce1fcd64b39"
      },
      "outputs": [],
      "source": [
        "print (filelist[395])\n",
        "print (len(filelist))"
      ]
    },
    {
      "cell_type": "code",
      "execution_count": null,
      "metadata": {
        "_cell_guid": "bdc3511f-706b-a0f9-f8ae-cc8f767bd214"
      },
      "outputs": [],
      "source": [
        "# Functions for reading the Image \n",
        "def Image_read(image):\n",
        "    x = cv2.imread(image)\n",
        "    x = cv2.cvtColor(x,cv2.COLOR_BGR2RGB)\n",
        "    return x"
      ]
    },
    {
      "cell_type": "code",
      "execution_count": null,
      "metadata": {
        "_cell_guid": "fa6db4bb-b3e7-055b-5fc8-30e275a28d97"
      },
      "outputs": [],
      "source": [
        "# read a single Image and view the image\n",
        "img = Image_read(filelist[200])\n",
        "plt.imshow(img)\n",
        "plt.show()"
      ]
    },
    {
      "cell_type": "markdown",
      "metadata": {
        "_cell_guid": "0815ad58-d951-ebd3-8812-bf0477758e58"
      },
      "source": [
        "rotate the image"
      ]
    },
    {
      "cell_type": "code",
      "execution_count": null,
      "metadata": {
        "_cell_guid": "2fb0963c-9581-e657-175b-675142a0b952"
      },
      "outputs": [],
      "source": [
        "def rotate(image, angle, center=None, scale=1.0):\n",
        "    (h,w) = image.shape[:2]\n",
        "    if center is None:\n",
        "        center =(w/2,h/2)\n",
        "        M = cv2.getRotationMatrix2D(center,angle,scale)\n",
        "        rotated = cv2.warpAffine(image,M,(w,h))\n",
        "    return rotated"
      ]
    },
    {
      "cell_type": "code",
      "execution_count": null,
      "metadata": {
        "_cell_guid": "eb517bd1-991c-6c9f-b09f-bfe013078e06"
      },
      "outputs": [],
      "source": [
        "img_rotate = rotate(img,60)\n",
        "plt.imshow(img_rotate)\n",
        "plt.show()"
      ]
    },
    {
      "cell_type": "markdown",
      "metadata": {
        "_cell_guid": "815325e0-e1cd-c42b-b1c6-72f09ec1a244"
      },
      "source": [
        "Translate the Image"
      ]
    },
    {
      "cell_type": "code",
      "execution_count": null,
      "metadata": {
        "_cell_guid": "a062219b-4bd2-5153-50a1-8e3b59f9fd44"
      },
      "outputs": [],
      "source": [
        "def translate(image,x,y):\n",
        "    M = np.float32([[1, 0, x],[0, 1, y]])\n",
        "    shifted = cv2.warpAffine(image,M,(image.shape[1],image.shape[0]))\n",
        "    return shifted"
      ]
    },
    {
      "cell_type": "code",
      "execution_count": null,
      "metadata": {
        "_cell_guid": "f29056ba-7697-fb3b-cd8c-e0bdf7286c93"
      },
      "outputs": [],
      "source": [
        "img_translate = translate(img,200,100)\n",
        "plt.imshow(img_translate)\n",
        "plt.show()"
      ]
    },
    {
      "cell_type": "markdown",
      "metadata": {
        "_cell_guid": "06d7b2ce-331e-e70b-10cc-07c2cba2b2f8"
      },
      "source": [
        "Flip Horizontal"
      ]
    },
    {
      "cell_type": "code",
      "execution_count": null,
      "metadata": {
        "_cell_guid": "be5c16ca-665b-0582-bebe-26484e51b6c8"
      },
      "outputs": [],
      "source": [
        "img_flip = cv2.flip(img,1)\n",
        "plt.imshow(img_flip)\n",
        "plt.show()"
      ]
    },
    {
      "cell_type": "markdown",
      "metadata": {
        "_cell_guid": "da058f8b-ab89-d723-4745-2ee5d6401a11"
      },
      "source": [
        "Flip Vertical"
      ]
    },
    {
      "cell_type": "code",
      "execution_count": null,
      "metadata": {
        "_cell_guid": "d3d7d3aa-2078-7825-28ef-5309066b1d34"
      },
      "outputs": [],
      "source": [
        "img_flip = cv2.flip(img,0)\n",
        "plt.imshow(img_flip)\n",
        "plt.show()"
      ]
    },
    {
      "cell_type": "markdown",
      "metadata": {
        "_cell_guid": "0fc7327d-973a-5bab-2d06-39dc68f0a219"
      },
      "source": [
        "Convert Day Image to night"
      ]
    },
    {
      "cell_type": "code",
      "execution_count": null,
      "metadata": {
        "_cell_guid": "77f8c80b-6b78-fab3-7b59-f08e6407118b"
      },
      "outputs": [],
      "source": [
        "def day_to_night(image):\n",
        "    arr = image *np.array([0.1,0.2,1.7])\n",
        "    img = (255*arr/arr.max()).astype(np.uint8)\n",
        "    return img "
      ]
    },
    {
      "cell_type": "code",
      "execution_count": null,
      "metadata": {
        "_cell_guid": "23c86337-52da-ebaf-a46d-96d7fa0148a6"
      },
      "outputs": [],
      "source": [
        "img_d2n = day_to_night(img)\n",
        "plt.imshow(img_d2n)\n",
        "plt.show()"
      ]
    },
    {
      "cell_type": "markdown",
      "metadata": {
        "_cell_guid": "69f7f35e-ac83-18f0-96ad-62801707a3a7"
      },
      "source": [
        "Shear Image - Affine Transformation"
      ]
    },
    {
      "cell_type": "code",
      "execution_count": null,
      "metadata": {
        "_cell_guid": "8b40a0fc-3928-b686-393e-407709c04884"
      },
      "outputs": [],
      "source": [
        "def shear_image(image,shear = 0.2):\n",
        "    from skimage import transform \n",
        "    afine = transform.AffineTransform(shear = shear)\n",
        "    modified = transform.warp(image,afine)\n",
        "    return modified"
      ]
    },
    {
      "cell_type": "code",
      "execution_count": null,
      "metadata": {
        "_cell_guid": "d04d3d79-24ca-7b87-4fb3-aad68a98727e"
      },
      "outputs": [],
      "source": [
        "img_shear = shear_image(img,shear=0.5)\n",
        "plt.imshow(img_shear)\n",
        "plt.show()"
      ]
    },
    {
      "cell_type": "markdown",
      "metadata": {
        "_cell_guid": "10efa485-26f4-9799-cda1-02ddfba34916"
      },
      "source": [
        "Add light to the night images"
      ]
    },
    {
      "cell_type": "code",
      "execution_count": null,
      "metadata": {
        "_cell_guid": "b037994b-2fca-6c5e-90c8-4628817060ad"
      },
      "outputs": [],
      "source": [
        "def bright_image(image):\n",
        "    hsv = cv2.cvtColor(image,cv2.COLOR_BGR2HSV)\n",
        "    h, s, v = cv2.split(hsv)\n",
        "    h += 60\n",
        "    final_hsv = cv2.merge((h, s, v))\n",
        "    image = cv2.cvtColor(final_hsv,cv2.COLOR_HSV2RGB)\n",
        "    return image"
      ]
    },
    {
      "cell_type": "code",
      "execution_count": null,
      "metadata": {
        "_cell_guid": "d31f3c61-68f3-f5ce-88c1-4ba7f40adb13"
      },
      "outputs": [],
      "source": [
        "bright_img = bright_image(img_d2n)\n",
        "plt.imshow(bright_img)\n",
        "plt.show()"
      ]
    }
  ],
  "metadata": {
    "_change_revision": 0,
    "_is_fork": false,
    "kernelspec": {
      "display_name": "Python 3",
      "language": "python",
      "name": "python3"
    },
    "language_info": {
      "codemirror_mode": {
        "name": "ipython",
        "version": 3
      },
      "file_extension": ".py",
      "mimetype": "text/x-python",
      "name": "python",
      "nbconvert_exporter": "python",
      "pygments_lexer": "ipython3",
      "version": "3.5.2"
    }
  },
  "nbformat": 4,
  "nbformat_minor": 0
}