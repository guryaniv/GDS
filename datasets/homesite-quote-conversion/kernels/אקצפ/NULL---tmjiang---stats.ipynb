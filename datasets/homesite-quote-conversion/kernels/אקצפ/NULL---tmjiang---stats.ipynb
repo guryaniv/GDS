{"cells":[
 {
  "cell_type": "code",
  "execution_count": null,
  "metadata": {
   "collapsed": true
  },
  "outputs": [],
  "source": "%matplotlib inline"
 },
 {
  "cell_type": "code",
  "execution_count": null,
  "metadata": {
   "collapsed": false
  },
  "outputs": [],
  "source": "import matplotlib.pyplot as plt\nimport numpy as np\nimport pandas as pd\nimport seaborn as sns\n%matplotlib inline\nsns.set(style='white')"
 },
 {
  "cell_type": "code",
  "execution_count": null,
  "metadata": {
   "collapsed": false
  },
  "outputs": [],
  "source": "train_df = pd.read_csv('../input/train.csv', parse_dates=['Original_Quote_Date'], thousands=',')"
 },
 {
  "cell_type": "code",
  "execution_count": null,
  "metadata": {
   "collapsed": false
  },
  "outputs": [],
  "source": "#train_df.QuoteConversion_Flag.value_counts(normalize=True)"
 },
 {
  "cell_type": "code",
  "execution_count": null,
  "metadata": {
   "collapsed": false
  },
  "outputs": [],
  "source": "def engineer_features(df):\n    for column in df.columns[df.isin(['N', 'Y']).any()]:\n        unique_values = df[column].unique()\n        if len(unique_values) < 4:\n            df[column] = df[column].map(lambda x: 1 if x == 'Y' else 0 if x == 'N' else 0.5)\n\n    df.PersonalField84 = df.PersonalField84.fillna(0)\n    df.PropertyField29 = df.PropertyField29.fillna(-1)\n\n    df = df.drop(['GeographicField10A', 'PropertyField6'], axis=1)\n\n    df['Original_Quote_Date_Year'] = df.Original_Quote_Date.map(lambda t: t.year)\n    df['Original_Quote_Date_Month'] = df.Original_Quote_Date.map(lambda t: t.month)\n    df['Original_Quote_Date_Day'] = df.Original_Quote_Date.map(lambda t: t.day)\n    df['Original_Quote_Date_Weekday'] = df.Original_Quote_Date.map(lambda t: t.dayofweek)\n    df['Original_Quote_Date_Week'] = df.Original_Quote_Date.map(lambda t: t.weekofyear)\n\n    df = df.drop(['Original_Quote_Date', 'QuoteNumber'], axis=1)\n\n    num_train_df = df.select_dtypes(include=['number'], exclude=['datetime64'])\n    ord_train_df = df.select_dtypes(include=['object']).apply(lambda s: s.astype('category').cat.codes)\n    df = pd.concat([num_train_df, ord_train_df], axis=1)\n\n    for column in df.columns:\n        if column != 'QuoteConversion_Flag':\n            df[column + '_Count'] = df[[column]].groupby([column])[column].transform(len)\n\n    return df"
 },
 {
  "cell_type": "code",
  "execution_count": null,
  "metadata": {
   "collapsed": false
  },
  "outputs": [],
  "source": "train_df = engineer_features(train_df)"
 },
 {
  "cell_type": "code",
  "execution_count": null,
  "metadata": {
   "collapsed": false
  },
  "outputs": [],
  "source": "#train_df.columns.values"
 },
 {
  "cell_type": "code",
  "execution_count": null,
  "metadata": {
   "collapsed": false
  },
  "outputs": [],
  "source": "variance_s = train_df.apply(lambda c: c.var())\nvariance_s.sort_values()[:50]"
 },
 {
  "cell_type": "code",
  "execution_count": null,
  "metadata": {
   "collapsed": false
  },
  "outputs": [],
  "source": "variance_s.describe()"
 },
 {
  "cell_type": "code",
  "execution_count": null,
  "metadata": {
   "collapsed": false
  },
  "outputs": [],
  "source": "def plot_corr(df):\n    f, ax = plt.subplots(figsize=(65, 18))\n    cmap = sns.diverging_palette(220, 10, as_cmap=True)\n    mask = np.zeros_like(df, dtype=np.bool)\n    mask[np.triu_indices_from(mask)] = True\n    sns.heatmap(df, mask=mask, cmap=cmap, square=True, linewidths=1, cbar=False, ax=ax) #cbar_kws={\"shrink\": 1}"
 },
 {
  "cell_type": "code",
  "execution_count": null,
  "metadata": {
   "collapsed": false
  },
  "outputs": [],
  "source": "corr_date_df = train_df.filter(\n    regex='^Original|QuoteConversion_Flag').sort_index(axis=1).corr(method='spearman')\nplot_corr(corr_date_df)"
 },
 {
  "cell_type": "code",
  "execution_count": null,
  "metadata": {
   "collapsed": false
  },
  "outputs": [],
  "source": "# train_df['Field8_9'] = train_df.Field8 + train_df.Field9 * 10000\ncorr_field_df = train_df.filter(\n    regex='^Field|QuoteConversion_Flag').sort_index(axis=1).corr(method='spearman')\nplot_corr(corr_field_df)"
 },
 {
  "cell_type": "code",
  "execution_count": null,
  "metadata": {
   "collapsed": false
  },
  "outputs": [],
  "source": "# train_df['CoverageField1_2_3_4'] =\\\n#     train_df.CoverageField1A.map(str) + '|' + train_df.CoverageField1B.map(str) + '|' +\\\n#     train_df.CoverageField2A.map(str) + '|' + train_df.CoverageField2B.map(str) + '|' +\\\n#     train_df.CoverageField3A.map(str) + '|' + train_df.CoverageField3B.map(str) + '|' +\\\n#     train_df.CoverageField4A.map(str) + '|' + train_df.CoverageField4B.map(str)\n# train_df['CoverageField1_2_3_4'] = train_df.CoverageField1_2_3_4.astype('category').cat.codes\ncorr_coverage_df = train_df.filter(\n    regex='^Coverage|QuoteConversion_Flag').sort_index(axis=1).corr(method='spearman')\nplot_corr(corr_coverage_df)"
 },
 {
  "cell_type": "code",
  "execution_count": null,
  "metadata": {
   "collapsed": false
  },
  "outputs": [],
  "source": "# train_df['SalesField1_2'] =\\\n#     train_df.SalesField1A.map(str) + '|' + train_df.SalesField1B.map(str) + '|' +\\\n#     train_df.SalesField2A.map(str) + '|' + train_df.SalesField2B.map(str)\n# train_df['SalesField1_2'] = train_df.SalesField1_2.astype('category').cat.codes\n# train_df['SalesField11_12'] = train_df.SalesField11.map(str) + '|' + train_df.SalesField12.map(str)\n# train_df['SalesField11_12'] = train_df.SalesField11_12.astype('category').cat.codes\n# train_df['SalesField14_15'] = train_df.SalesField14.map(str) + '|' + train_df.SalesField15.map(str)\n# train_df['SalesField14_15'] = train_df.SalesField14_15.astype('category').cat.codes\ncorr_sales_df = train_df.filter(\n    regex='^Sales|QuoteConversion_Flag').sort_index(axis=1).corr(method='spearman')\nplot_corr(corr_sales_df)"
 },
 {
  "cell_type": "code",
  "execution_count": null,
  "metadata": {
   "collapsed": false
  },
  "outputs": [],
  "source": "corr_personal_df = train_df.filter(\n    regex='^PersonalField[1-2]|QuoteConversion_Flag').sort_index(axis=1).corr(method='spearman')\nplot_corr(corr_personal_df)"
 },
 {
  "cell_type": "code",
  "execution_count": null,
  "metadata": {
   "collapsed": false
  },
  "outputs": [],
  "source": "corr_personal_df = train_df.filter(\n    regex='^PersonalField[3-4]|QuoteConversion_Flag').sort_index(axis=1).corr(method='spearman')\nplot_corr(corr_personal_df)"
 },
 {
  "cell_type": "code",
  "execution_count": null,
  "metadata": {
   "collapsed": false
  },
  "outputs": [],
  "source": "corr_personal_df = train_df.filter(\n    regex='^PersonalField[5-6]|QuoteConversion_Flag').sort_index(axis=1).corr(method='spearman')\nplot_corr(corr_personal_df)"
 },
 {
  "cell_type": "code",
  "execution_count": null,
  "metadata": {
   "collapsed": false
  },
  "outputs": [],
  "source": "corr_personal_df = train_df.filter(\n    regex='^PersonalField[7-8]|QuoteConversion_Flag').sort_index(axis=1).corr(method='spearman')\nplot_corr(corr_personal_df)"
 },
 {
  "cell_type": "code",
  "execution_count": null,
  "metadata": {
   "collapsed": false
  },
  "outputs": [],
  "source": "corr_property_df = train_df.filter(\n    regex='^Property|QuoteConversion_Flag').sort_index(axis=1).corr(method='spearman')\nplot_corr(corr_property_df)"
 },
 {
  "cell_type": "code",
  "execution_count": null,
  "metadata": {
   "collapsed": false
  },
  "outputs": [],
  "source": "corr_geographic_df = train_df.filter(\n    regex='^GeographicField[1-2]|QuoteConversion_Flag').sort_index(axis=1).corr(method='spearman')\nplot_corr(corr_geographic_df)"
 },
 {
  "cell_type": "code",
  "execution_count": null,
  "metadata": {
   "collapsed": false
  },
  "outputs": [],
  "source": "corr_geographic_df = train_df.filter(\n    regex='^GeographicField[3-4]|QuoteConversion_Flag').sort_index(axis=1).corr(method='spearman')\nplot_corr(corr_geographic_df)"
 },
 {
  "cell_type": "code",
  "execution_count": null,
  "metadata": {
   "collapsed": false
  },
  "outputs": [],
  "source": "corr_geographic_df = train_df.filter(\n    regex='^GeographicField[5-6]|QuoteConversion_Flag').sort_index(axis=1).corr(method='spearman')\nplot_corr(corr_geographic_df)"
 }
],"metadata":{"kernelspec":{"display_name":"Python 3","language":"python","name":"python3"}}, "nbformat": 4, "nbformat_minor": 0}