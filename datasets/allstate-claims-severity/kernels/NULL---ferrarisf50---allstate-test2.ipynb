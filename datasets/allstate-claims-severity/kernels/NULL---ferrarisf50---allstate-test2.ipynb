{
  "cells": [
    {
      "cell_type": "code",
      "execution_count": null,
      "metadata": {
        "_cell_guid": "ded91449-1389-6954-e113-c81456d42422"
      },
      "outputs": [],
      "source": [
        "# This Python 3 environment comes with many helpful analytics libraries installed\n",
        "# It is defined by the kaggle/python docker image: https://github.com/kaggle/docker-python\n",
        "# For example, here's several helpful packages to load in \n",
        "\n",
        "import numpy as np # linear algebra\n",
        "import pandas as pd # data processing, CSV file I/O (e.g. pd.read_csv)\n",
        "\n",
        "# Input data files are available in the \"../input/\" directory.\n",
        "# For example, running this (by clicking run or pressing Shift+Enter) will list the files in the input directory\n",
        "\n",
        "from subprocess import check_output\n",
        "print(check_output([\"ls\", \"../input\"]).decode(\"utf8\"))\n",
        "\n",
        "# Any results you write to the current directory are saved as output."
      ]
    },
    {
      "cell_type": "code",
      "execution_count": null,
      "metadata": {
        "_cell_guid": "ffee3ac3-809e-7f3e-bf06-5863f938dcc1"
      },
      "outputs": [],
      "source": [
        "import pandas as pd\n",
        "train = pd.read_csv('../input/train.csv')\n",
        "test = pd.read_csv('../input/test.csv')\n",
        "\n",
        "temp=train.drop([\"loss\"], axis=1)\n",
        "allstate = pd.concat([temp,test])\n",
        "allstate=allstate.drop([\"id\"], axis=1)\n",
        "\n",
        "#split for encoding cat\n",
        "con=list(allstate.columns.values)[116:]\n",
        "base=allstate[con]\n",
        "del temp\n",
        "print(\"finished\")"
      ]
    },
    {
      "cell_type": "code",
      "execution_count": null,
      "metadata": {
        "_cell_guid": "2125207b-d71a-1df1-402b-426e3583aa36"
      },
      "outputs": [],
      "source": [
        "cats=list(allstate.columns.values)\n",
        "cats=cats[:116]\n",
        "\n",
        "\n",
        "for i in range(1,116):\n",
        "    temp1 = pd.get_dummies(allstate[cats[i]],prefix=cats[i]+'_')\n",
        "    base = pd.concat([base,temp1],axis=1)\n",
        "    if( (i+1)%10 == 0 ):\n",
        "        print(i) \n",
        "print(\"finished\")"
      ]
    },
    {
      "cell_type": "code",
      "execution_count": null,
      "metadata": {
        "_cell_guid": "69ba1456-56ee-b9de-e43e-1edb04ebf07e"
      },
      "outputs": [],
      "source": [
        "del temp1\n",
        "del allstate\n",
        "len(list(base.columns.values))"
      ]
    },
    {
      "cell_type": "code",
      "execution_count": null,
      "metadata": {
        "_cell_guid": "abb44f7f-5996-ec27-5474-f0ce5739e08c"
      },
      "outputs": [],
      "source": [
        "X=base[:188318]\n",
        "test=base[188318:]\n",
        "Y=train[\"loss\"]\n",
        "del base\n",
        "del train\n",
        "del test\n",
        "print(\"finished\")"
      ]
    },
    {
      "cell_type": "code",
      "execution_count": null,
      "metadata": {
        "_cell_guid": "0997c6f0-5bc0-b8ae-466e-dd7ef27d8c9a"
      },
      "outputs": [],
      "source": [
        "#X_all = []\n",
        "\n",
        "#List of combinations\n",
        "comb = []\n",
        "\n",
        "#Dictionary to store the MAE for all algorithms \n",
        "mae = []\n",
        "\n",
        "\n",
        "from sklearn.linear_model import RidgeCV\n",
        "from sklearn.metrics import mean_absolute_error\n",
        "import numpy as np\n",
        "\n",
        "\n",
        "#Add the alpha value to the below list if you want to run the algo\n",
        "a_list = np.array([0.01])\n",
        "\n",
        "for alpha in a_list:\n",
        "    #Set the base model\n",
        "    reg = RidgeCV(alphas=[alpha],cv=10, fit_intercept=True, scoring=None,normalize=False,gcv_mode='auto')\n",
        "    \n",
        "    algo = \"Ridge\"\n",
        "   \n",
        "    #Accuracy of the model using all features\n",
        "    #for name,i_cols_list in X_all:\n",
        "        #model.fit(X,Y)\n",
        "        #result = mean_absolute_error(Y, reg.predict(X))\n",
        "        #mae.append(result)\n",
        "        #print(name + \" %s\" % result)\n",
        "    reg.fit(X,Y)\n",
        "    result = mean_absolute_error(Y, reg.predict(X))\n",
        "    mae.append(result)\n",
        "    print(result)    \n",
        "    comb.append(algo + \" %s\" % alpha )\n",
        "\n",
        "#Result obtained by running the algo for alpha=1.0    \n",
        "if (len(a_list)==0):\n",
        "    mae.append(1267.5)\n",
        "    comb.append(\"Ridge\" + \" %s\" % 1.0 ) "
      ]
    },
    {
      "cell_type": "code",
      "execution_count": null,
      "metadata": {
        "_cell_guid": "12547252-e4cc-0643-3e32-b6434d25b94b"
      },
      "outputs": [],
      "source": [
        "reg.cv_values_"
      ]
    },
    {
      "cell_type": "code",
      "execution_count": null,
      "metadata": {
        "_cell_guid": "5b1fd139-29c6-ab07-a3e0-3bce4c5896ba"
      },
      "outputs": [],
      "source": [
        "mae"
      ]
    },
    {
      "cell_type": "code",
      "execution_count": null,
      "metadata": {
        "_cell_guid": "d62bb3fe-e3d8-54aa-38e7-87034cf937d4"
      },
      "outputs": [],
      "source": ""
    },
    {
      "cell_type": "code",
      "execution_count": null,
      "metadata": {
        "_cell_guid": "1f42f9b0-a9a6-504b-26c5-b91cb51784b3"
      },
      "outputs": [],
      "source": ""
    }
  ],
  "metadata": {
    "_change_revision": 0,
    "_is_fork": false,
    "kernelspec": {
      "display_name": "Python 3",
      "language": "python",
      "name": "python3"
    },
    "language_info": {
      "codemirror_mode": {
        "name": "ipython",
        "version": 3
      },
      "file_extension": ".py",
      "mimetype": "text/x-python",
      "name": "python",
      "nbconvert_exporter": "python",
      "pygments_lexer": "ipython3",
      "version": "3.6.0"
    }
  },
  "nbformat": 4,
  "nbformat_minor": 0
}