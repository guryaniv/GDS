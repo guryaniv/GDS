{
  "cells": [
    {
      "cell_type": "markdown",
      "metadata": {
        "_cell_guid": "e4f4c38b-9d21-999b-9e59-878509a2e7a5"
      },
      "source": [
        "This notebook uses fraud detection dataset.\n",
        "We try **AdaBoost** classification with different settings to find the best model."
      ]
    },
    {
      "cell_type": "code",
      "execution_count": null,
      "metadata": {
        "_cell_guid": "0bdd125f-aefc-e712-74e2-e26aea3efe84"
      },
      "outputs": [],
      "source": [
        "import numpy as np # linear algebra\n",
        "import pandas as pd # data processing, CSV file I/O (e.g. pd.read_csv)\n",
        "\n",
        "from subprocess import check_output\n",
        "print(check_output([\"ls\", \"../input\"]).decode(\"utf8\"))"
      ]
    },
    {
      "cell_type": "code",
      "execution_count": null,
      "metadata": {
        "_cell_guid": "bfe51c54-8871-bc6e-de1b-4b4d671af447"
      },
      "outputs": [],
      "source": [
        "df = pd.read_csv(\"../input/creditcard.csv\")\n",
        "# print(df.describe())\n",
        "print(df['Class'].value_counts())\n",
        "\n",
        "y = df['Class']\n",
        "df = df.drop(\"Class\",axis=1)"
      ]
    },
    {
      "cell_type": "markdown",
      "metadata": {
        "_cell_guid": "7ad3251b-2243-2c96-94b0-0799f1f9ed78"
      },
      "source": [
        "Prepare training and test sets."
      ]
    },
    {
      "cell_type": "code",
      "execution_count": null,
      "metadata": {
        "_cell_guid": "2d34d9d1-c9e3-660b-5bb3-0ad6b9807c73"
      },
      "outputs": [],
      "source": [
        "from sklearn.model_selection import train_test_split\n",
        "\n",
        "X_train, X_test, y_train, y_test = train_test_split(df, y, test_size=0.1, random_state=0)"
      ]
    },
    {
      "cell_type": "markdown",
      "metadata": {
        "_cell_guid": "20e746ee-9c56-6673-0e69-8203444887bb"
      },
      "source": [
        " Detailed settings are follows.\n",
        "\n",
        " 1. Various base classifiers: i) decision tree, and ii) Naive Bayes (binomial)\n",
        " 2. Different number of estimators in {40, 50, 60}\n",
        " \n",
        "\n",
        "To find the best model, we use **grid search**."
      ]
    },
    {
      "cell_type": "code",
      "execution_count": null,
      "metadata": {
        "_cell_guid": "944d42eb-55e9-cf54-64f9-fa545a52b420"
      },
      "outputs": [],
      "source": [
        "from sklearn.ensemble import  AdaBoostClassifier\n",
        "from sklearn.tree import DecisionTreeClassifier\n",
        "from sklearn.model_selection import GridSearchCV\n",
        "from sklearn.metrics import classification_report\n",
        "from sklearn.naive_bayes import GaussianNB\n"
      ]
    },
    {
      "cell_type": "markdown",
      "metadata": {
        "_cell_guid": "a5919a8a-93db-dd05-ab42-6c69105bd467"
      },
      "source": [
        "As running grid search with several setting combinations is expensive, we run them in parallel by setting `n_jobs` parameters. \n",
        "\n",
        "If we set `n_jobs=-1`, grid search will detect how many cores are installed and uses them all."
      ]
    },
    {
      "cell_type": "code",
      "execution_count": null,
      "metadata": {
        "_cell_guid": "81592a49-f801-6d27-6244-cf15cb9f6224"
      },
      "outputs": [],
      "source": [
        "boost_clf = AdaBoostClassifier() \n",
        "param_grid = {'n_estimators': np.arange(40, 70, 10), 'base_estimator': [DecisionTreeClassifier(), \n",
        "                                                                        GaussianNB()]}\n",
        "gs_boost_clf = GridSearchCV(boost_clf, param_grid, n_jobs=-1, verbose=1)"
      ]
    },
    {
      "cell_type": "code",
      "execution_count": null,
      "metadata": {
        "_cell_guid": "16f18d6c-7640-f0b2-30c8-4e7a5f9b31b6"
      },
      "outputs": [],
      "source": [
        "gs_boost_clf = gs_boost_clf.fit(X_train, y_train)\n",
        "boost_pred = gs_boost_clf.predict(X_test)\n",
        "print(classification_report(y_test, y_pred=boost_pred))"
      ]
    },
    {
      "cell_type": "code",
      "execution_count": null,
      "metadata": {
        "_cell_guid": "ef4dd2f7-4dba-ee07-b448-d97b96764b49"
      },
      "outputs": [],
      "source": [
        "print('Best score of AdaBoost classifier: %.2f' %gs_boost_clf.best_score_)\n",
        "for param_name in param_grid.keys():\n",
        "    print('%s %r' %(param_name, gs_boost_clf.best_params_[param_name]))"
      ]
    }
  ],
  "metadata": {
    "_change_revision": 0,
    "_is_fork": false,
    "kernelspec": {
      "display_name": "Python 3",
      "language": "python",
      "name": "python3"
    },
    "language_info": {
      "codemirror_mode": {
        "name": "ipython",
        "version": 3
      },
      "file_extension": ".py",
      "mimetype": "text/x-python",
      "name": "python",
      "nbconvert_exporter": "python",
      "pygments_lexer": "ipython3",
      "version": "3.5.2"
    }
  },
  "nbformat": 4,
  "nbformat_minor": 0
}