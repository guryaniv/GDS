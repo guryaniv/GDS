{
  "cells": [
    {
      "metadata": {
        "_uuid": "44bebf04fa271df36d4fdc9a47445ec043911562"
      },
      "cell_type": "markdown",
      "source": "# Random Number\n"
    },
    {
      "metadata": {
        "_uuid": "8f2839f25d086af736a60e9eeb907d3b93b6e0e5",
        "_cell_guid": "b1076dfc-b9ad-4769-8c92-a6c4dae69d19",
        "trusted": true
      },
      "cell_type": "code",
      "source": "import random\nimport pandas as pd\nimport os\nfrom kaggle.competitions import twosigmanews",
      "execution_count": null,
      "outputs": []
    },
    {
      "metadata": {
        "_cell_guid": "79c7e3d0-c299-4dcb-8224-4455121ee9b0",
        "_uuid": "d629ff2d2480ee46fbb7e2d37f6b5fab8052498a",
        "trusted": true
      },
      "cell_type": "code",
      "source": "# Create the environment\nenv = twosigmanews.make_env()",
      "execution_count": null,
      "outputs": []
    },
    {
      "metadata": {
        "trusted": true,
        "_uuid": "dc2682e2afca7a43b5038c7c77622ec710bd9e07"
      },
      "cell_type": "code",
      "source": "def naive_predict(market_obs_df, predictions_template_df):\n    market_obs_df = market_obs_df.set_index('assetCode')\n    predictions_template_df['confidenceValue'] = -1+2*random.random()\n    return predictions_template_df",
      "execution_count": null,
      "outputs": []
    },
    {
      "metadata": {
        "trusted": true,
        "_uuid": "6fb35db0f9e29b482af4c6e95c310aefd7a61920"
      },
      "cell_type": "code",
      "source": "days = env.get_prediction_days()",
      "execution_count": null,
      "outputs": []
    },
    {
      "metadata": {
        "trusted": true,
        "_uuid": "ec5ded849246f28af6431a81a91c35c1f0741951"
      },
      "cell_type": "code",
      "source": "for (market_obs_df, _, predictions_template_df) in days:\n    predictions_df = naive_predict(market_obs_df, predictions_template_df)\n    env.predict(predictions_df)\n\nenv.write_submission_file()",
      "execution_count": null,
      "outputs": []
    }
  ],
  "metadata": {
    "kernelspec": {
      "display_name": "Python 3",
      "language": "python",
      "name": "python3"
    },
    "language_info": {
      "name": "python",
      "version": "3.6.6",
      "mimetype": "text/x-python",
      "codemirror_mode": {
        "name": "ipython",
        "version": 3
      },
      "pygments_lexer": "ipython3",
      "nbconvert_exporter": "python",
      "file_extension": ".py"
    }
  },
  "nbformat": 4,
  "nbformat_minor": 1
}