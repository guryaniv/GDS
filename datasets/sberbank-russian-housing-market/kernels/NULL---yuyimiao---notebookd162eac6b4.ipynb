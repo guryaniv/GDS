{
  "cells": [
    {
      "cell_type": "code",
      "execution_count": null,
      "metadata": {
        "_cell_guid": "e46ebeab-8440-f615-6403-354158c9385b"
      },
      "outputs": [],
      "source": [
        "# This Python 3 environment comes with many helpful analytics libraries installed\n",
        "# It is defined by the kaggle/python docker image: https://github.com/kaggle/docker-python\n",
        "# For example, here's several helpful packages to load in \n",
        "\n",
        "import numpy as np # linear algebra\n",
        "import pandas as pd # data processing, CSV file I/O (e.g. pd.read_csv)\n",
        "\n",
        "# Input data files are available in the \"../input/\" directory.\n",
        "# For example, running this (by clicking run or pressing Shift+Enter) will list the files in the input directory\n",
        "\n",
        "from subprocess import check_output\n",
        "print(check_output([\"ls\", \"../input\"]).decode(\"utf8\"))\n",
        "\n",
        "# Any results you write to the current directory are saved as output."
      ]
    },
    {
      "cell_type": "code",
      "execution_count": null,
      "metadata": {
        "_cell_guid": "be3c19be-b220-0603-9bbf-7c944b62e1f2"
      },
      "outputs": [],
      "source": [
        "import pandas as pd\n",
        "import matplotlib.pyplot as plt\n",
        "import seaborn as sns\n",
        "import numpy as np\n",
        "from scipy.stats import norm\n",
        "from sklearn import model_selection, preprocessing\n",
        "from scipy import stats\n",
        "import warnings\n",
        "warnings.filterwarnings('ignore')\n",
        "color = sns.color_palette()\n",
        "%matplotlib inline"
      ]
    },
    {
      "cell_type": "code",
      "execution_count": null,
      "metadata": {
        "_cell_guid": "555eed2c-a64a-76dc-36cf-f8566609544f"
      },
      "outputs": [],
      "source": [
        "df_train = pd.read_csv('../input/train.csv')\n",
        "df_test = pd.read_csv('../input/test.csv')\n",
        "df_macro = pd.read_csv('../input/macro.csv')\n",
        "id_test = df_test.id"
      ]
    },
    {
      "cell_type": "code",
      "execution_count": null,
      "metadata": {
        "_cell_guid": "0635103f-54a3-14f8-13e6-a7d0f26ee285"
      },
      "outputs": [],
      "source": [
        "df_train.columns"
      ]
    },
    {
      "cell_type": "code",
      "execution_count": null,
      "metadata": {
        "_cell_guid": "e84820a3-0e55-536c-18e3-68c2a24d4da8"
      },
      "outputs": [],
      "source": [
        "df_train.shape"
      ]
    },
    {
      "cell_type": "code",
      "execution_count": null,
      "metadata": {
        "_cell_guid": "49c0530f-4764-f40b-c320-889b6c410205"
      },
      "outputs": [],
      "source": [
        "df_train.head()"
      ]
    },
    {
      "cell_type": "code",
      "execution_count": null,
      "metadata": {
        "_cell_guid": "d8033b3b-4127-8910-cbbf-c8cafb764dc9"
      },
      "outputs": [],
      "source": [
        "plt.figure(figsize=(8,6))\n",
        "plt.scatter(range(df_train.shape[0]), np.sort(df_train.price_doc.values))\n",
        "plt.xlabel('index', fontsize=12)\n",
        "plt.ylabel('price', fontsize=12)\n",
        "plt.show()"
      ]
    },
    {
      "cell_type": "code",
      "execution_count": null,
      "metadata": {
        "_cell_guid": "edcb702e-88c4-9df4-b1ed-a8dddc7d70e2"
      },
      "outputs": [],
      "source": [
        "plt.figure(figsize=(12,8))\n",
        "sns.distplot(df_train.price_doc.values, bins=50, kde=True)\n",
        "plt.xlabel('price', fontsize=12)\n",
        "plt.show()"
      ]
    },
    {
      "cell_type": "code",
      "execution_count": null,
      "metadata": {
        "_cell_guid": "254c4494-567d-25f1-479d-52883402b3c1"
      },
      "outputs": [],
      "source": [
        "plt.figure(figsize=(12,8))\n",
        "sns.distplot(np.log1p(df_train.price_doc.values), bins=50, kde=True)\n",
        "plt.xlabel('price', fontsize=12)\n",
        "plt.show()"
      ]
    },
    {
      "cell_type": "code",
      "execution_count": null,
      "metadata": {
        "_cell_guid": "846cc1d4-fc4a-f2ed-0ae5-03432538b419"
      },
      "outputs": [],
      "source": [
        "Q1 = np.percentile(np.log1p(df_train.price_doc.values), 25)\n",
        "Q2 = np.percentile(np.log1p(df_train.price_doc.values), 50)\n",
        "Q3 = np.percentile(np.log1p(df_train.price_doc.values), 75)\n",
        "IQR=Q3-Q1\n",
        "infbdd=Q1-1.5 * IQR \n",
        "supbdd=Q3+1.5 * IQR \n",
        "print(infbdd)\n",
        "print(supbdd)"
      ]
    },
    {
      "cell_type": "code",
      "execution_count": null,
      "metadata": {
        "_cell_guid": "29842eac-1142-7ed5-5c89-766d85aecbf7"
      },
      "outputs": [],
      "source": [
        "df_train = df_train.drop((df_train.loc[np.log1p(df_train['price_doc']) > supbdd]).index).reindex()"
      ]
    },
    {
      "cell_type": "code",
      "execution_count": null,
      "metadata": {
        "_cell_guid": "4af242bf-117f-7e1e-ca9a-7973d0aaa542"
      },
      "outputs": [],
      "source": [
        "df_train = df_train.drop((df_train.loc[np.log1p(df_train['price_doc']) < 13.5]).index).reindex()"
      ]
    },
    {
      "cell_type": "code",
      "execution_count": null,
      "metadata": {
        "_cell_guid": "eb4bd6f4-aef0-d104-dd4a-10f3f6ade5ae"
      },
      "outputs": [],
      "source": [
        "df_train.shape"
      ]
    },
    {
      "cell_type": "code",
      "execution_count": null,
      "metadata": {
        "_cell_guid": "63e0da7a-2c27-ab8a-6030-701bdcc3a033"
      },
      "outputs": [],
      "source": [
        "bad_index = df_test[(df_test.build_year <1900)&(df_test.build_year >1800)].index\n",
        "bad_index"
      ]
    },
    {
      "cell_type": "code",
      "execution_count": null,
      "metadata": {
        "_cell_guid": "89cdf1ff-3859-91bd-326f-aae6339b122c"
      },
      "outputs": [],
      "source": [
        "plt.figure(figsize=(8,6))\n",
        "plt.scatter(range(df_train.shape[0]), np.sort(df_train.price_doc.values))\n",
        "plt.xlabel('index', fontsize=12)\n",
        "plt.ylabel('price', fontsize=12)\n",
        "plt.show()"
      ]
    },
    {
      "cell_type": "code",
      "execution_count": null,
      "metadata": {
        "_cell_guid": "1bac79a9-57fd-f0cb-f3d4-a8d5fae6381c"
      },
      "outputs": [],
      "source": [
        "#missing data\n",
        "total = df_train.isnull().sum().sort_values(ascending=False)\n",
        "percent = (df_train.isnull().sum()/df_train.isnull().count()).sort_values(ascending=False)\n",
        "missing_data = pd.concat([total, percent], axis=1, keys=['Total', 'Percent'])\n",
        "missing_data.head(40)"
      ]
    },
    {
      "cell_type": "code",
      "execution_count": null,
      "metadata": {
        "_cell_guid": "a81639a9-a818-79a2-d12c-8cb306ad081d"
      },
      "outputs": [],
      "source": [
        "df_train.ix['full_sq', 'life_sq']"
      ]
    },
    {
      "cell_type": "code",
      "execution_count": null,
      "metadata": {
        "_cell_guid": "95699b14-7a57-9009-c958-18e2d691c703"
      },
      "outputs": [],
      "source": [
        "df_train.corr().ix['floor', 'max_floor']"
      ]
    },
    {
      "cell_type": "code",
      "execution_count": null,
      "metadata": {
        "_cell_guid": "de95efc1-2171-e88d-1b72-a48a20e243fd"
      },
      "outputs": [],
      "source": [
        "df_train = df_train.drop((missing_data[missing_data['Percent'] > 0.14]).index,1)"
      ]
    },
    {
      "cell_type": "code",
      "execution_count": null,
      "metadata": {
        "_cell_guid": "7ca1a7cb-2b77-e965-4c51-e4ff62b09a53"
      },
      "outputs": [],
      "source": [
        "df_train.shape"
      ]
    },
    {
      "cell_type": "code",
      "execution_count": null,
      "metadata": {
        "_cell_guid": "f95d88f0-3039-4b97-7311-97967c0e3569"
      },
      "outputs": [],
      "source": [
        "df_train.head()"
      ]
    },
    {
      "cell_type": "code",
      "execution_count": null,
      "metadata": {
        "_cell_guid": "353aaf8b-4711-ab64-2d18-299af9cab5fd"
      },
      "outputs": [],
      "source": [
        "df_train['yearmonth'] = df_train['timestamp'].apply(lambda x: x[:4]+x[5:7])\n",
        "df_grouped = df_train.groupby('yearmonth')['price_doc'].aggregate(np.median).reset_index()"
      ]
    },
    {
      "cell_type": "code",
      "execution_count": null,
      "metadata": {
        "_cell_guid": "777c6eb8-1c61-6f34-269b-fd76101b6ae3"
      },
      "outputs": [],
      "source": [
        "plt.figure(figsize=(12,8))\n",
        "sns.barplot(df_grouped.yearmonth.values, df_grouped.price_doc.values, alpha=0.8, color=color[2])\n",
        "plt.ylabel('Median Price', fontsize=12)\n",
        "plt.xlabel('Year Month', fontsize=12)\n",
        "plt.xticks(rotation='vertical')\n",
        "plt.show()"
      ]
    },
    {
      "cell_type": "code",
      "execution_count": null,
      "metadata": {
        "_cell_guid": "dfb0421d-86cf-90ea-a71b-d5f3a69b4cad"
      },
      "outputs": [],
      "source": [
        "df_train.shape"
      ]
    },
    {
      "cell_type": "code",
      "execution_count": null,
      "metadata": {
        "_cell_guid": "9b0b4d03-cbae-4331-b5c0-9374e3c711a6"
      },
      "outputs": [],
      "source": [
        "bad_index = df_test[df_test.floor==0].index"
      ]
    },
    {
      "cell_type": "code",
      "execution_count": null,
      "metadata": {
        "_cell_guid": "a45bd01a-c6ff-f632-7210-44765c4ec034"
      },
      "outputs": [],
      "source": [
        "bad_index"
      ]
    },
    {
      "cell_type": "code",
      "execution_count": null,
      "metadata": {
        "_cell_guid": "a32be63c-08ce-8cca-8678-a7faaae837f5"
      },
      "outputs": [],
      "source": [
        "bad_index = df_train[df_train.floor==0].index"
      ]
    },
    {
      "cell_type": "code",
      "execution_count": null,
      "metadata": {
        "_cell_guid": "60ac40e2-d240-8563-9e36-5a0907846259"
      },
      "outputs": [],
      "source": [
        "bad_index"
      ]
    },
    {
      "cell_type": "code",
      "execution_count": null,
      "metadata": {
        "_cell_guid": "b21af29b-0523-40b3-1944-0f1929d21dca"
      },
      "outputs": [],
      "source": [
        "df_train = df_train.drop(bad_index).reindex()"
      ]
    },
    {
      "cell_type": "code",
      "execution_count": null,
      "metadata": {
        "_cell_guid": "ecaba115-5ef6-4f94-a43c-be1b9e268601"
      },
      "outputs": [],
      "source": [
        "df_train.shape"
      ]
    },
    {
      "cell_type": "code",
      "execution_count": null,
      "metadata": {
        "_cell_guid": "d03585e1-deb4-7bb8-7f8c-c83e442a88f3"
      },
      "outputs": [],
      "source": [
        "total = df_train.isnull().sum().sort_values(ascending=False)\n",
        "percent = (df_train.isnull().sum()/df_train.isnull().count()).sort_values(ascending=False)\n",
        "missing_data = pd.concat([total, percent], axis=1, keys=['Total', 'Percent'])\n",
        "missing_data.head(20)"
      ]
    },
    {
      "cell_type": "code",
      "execution_count": null,
      "metadata": {
        "_cell_guid": "d5056f86-662b-5e1d-7547-12614cd05995"
      },
      "outputs": [],
      "source": [
        "df_train.floor.describe(percentiles= [0.9999])"
      ]
    },
    {
      "cell_type": "code",
      "execution_count": null,
      "metadata": {
        "_cell_guid": "23942846-d23a-f674-7269-86750ec2e4e0"
      },
      "outputs": [],
      "source": [
        "bad_index = df_test[df_test.floor > 41].index\n",
        "bad_index"
      ]
    },
    {
      "cell_type": "code",
      "execution_count": null,
      "metadata": {
        "_cell_guid": "6d0305e5-98f6-f83e-8532-d280cdedbe87"
      },
      "outputs": [],
      "source": [
        "bad_index = df_train[df_train.floor > 41].index\n",
        "bad_index"
      ]
    },
    {
      "cell_type": "code",
      "execution_count": null,
      "metadata": {
        "_cell_guid": "0c2f31f0-098b-c2bc-b979-5c757d1be977"
      },
      "outputs": [],
      "source": [
        "df_train = df_train.drop(bad_index).reindex()\n",
        "df_train.shape"
      ]
    },
    {
      "cell_type": "code",
      "execution_count": null,
      "metadata": {
        "_cell_guid": "abf0357e-45dc-e19a-1423-c5ffb78fd500"
      },
      "outputs": [],
      "source": [
        "df_train.corr().ix['cafe_sum_2000_min_price_avg', 'cafe_count_2000_price_500']"
      ]
    },
    {
      "cell_type": "code",
      "execution_count": null,
      "metadata": {
        "_cell_guid": "305da123-0df2-4f7e-bcb1-fc19164208af"
      },
      "outputs": [],
      "source": [
        "df_train = df_train.drop((df_train.loc[np.log1p(df_train['metro_km_walk']).isnull()]).index).reindex()\n",
        "df_train.shape"
      ]
    },
    {
      "cell_type": "code",
      "execution_count": null,
      "metadata": {
        "_cell_guid": "eadebe31-cca3-5e3a-5d8f-57e1221e7e7d"
      },
      "outputs": [],
      "source": [
        "total = df_train.isnull().sum().sort_values(ascending=False)\n",
        "percent = (df_train.isnull().sum()/df_train.isnull().count()).sort_values(ascending=False)\n",
        "missing_data = pd.concat([total, percent], axis=1, keys=['Total', 'Percent'])\n",
        "missing_data.head(11)"
      ]
    },
    {
      "cell_type": "code",
      "execution_count": null,
      "metadata": {
        "_cell_guid": "5d3e2bc9-c026-5674-199a-e6810b569195"
      },
      "outputs": [],
      "source": ""
    },
    {
      "cell_type": "code",
      "execution_count": null,
      "metadata": {
        "_cell_guid": "b68f51a7-4b4d-bacf-de68-21e1006ac4df"
      },
      "outputs": [],
      "source": ""
    }
  ],
  "metadata": {
    "_change_revision": 0,
    "_is_fork": false,
    "kernelspec": {
      "display_name": "Python 3",
      "language": "python",
      "name": "python3"
    },
    "language_info": {
      "codemirror_mode": {
        "name": "ipython",
        "version": 3
      },
      "file_extension": ".py",
      "mimetype": "text/x-python",
      "name": "python",
      "nbconvert_exporter": "python",
      "pygments_lexer": "ipython3",
      "version": "3.6.0"
    }
  },
  "nbformat": 4,
  "nbformat_minor": 0
}