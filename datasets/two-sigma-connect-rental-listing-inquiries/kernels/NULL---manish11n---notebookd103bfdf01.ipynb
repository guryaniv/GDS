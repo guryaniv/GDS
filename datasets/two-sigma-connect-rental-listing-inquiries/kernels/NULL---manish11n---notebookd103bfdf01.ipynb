{
  "cells": [
    {
      "cell_type": "code",
      "execution_count": null,
      "metadata": {
        "_cell_guid": "e795a027-06e7-0781-1b12-62b9b2f19bbd"
      },
      "outputs": [],
      "source": [
        "import pandas as pd\n",
        "import matplotlib.pyplot as plt\n",
        "import seaborn as sns\n",
        "import numpy as np\n",
        "from scipy.stats import norm\n",
        "from sklearn.preprocessing import StandardScaler\n",
        "from scipy import stats\n",
        "%matplotlib inline\n",
        "from math import sin, cos, sqrt, atan2, radians"
      ]
    },
    {
      "cell_type": "code",
      "execution_count": null,
      "metadata": {
        "_cell_guid": "9ce7ef0c-28e3-3503-b514-1dcc74903c32"
      },
      "outputs": [],
      "source": [
        "test = pd.read_json(\"../input/train.json\")\n",
        "test.head()"
      ]
    },
    {
      "cell_type": "code",
      "execution_count": null,
      "metadata": {
        "_cell_guid": "99c6a068-5f1e-4a3c-d24c-9cd1f265e786"
      },
      "outputs": [],
      "source": [
        "test.info()\n",
        "#test.iloc[2].latitude,test.iloc[2].longitude\n"
      ]
    },
    {
      "cell_type": "code",
      "execution_count": null,
      "metadata": {
        "_cell_guid": "f5df9917-2fea-580a-2673-a13527400988"
      },
      "outputs": [],
      "source": [
        "ny_lat = 40.785091\n",
        "ny_lon = -73.968285\n",
        "from geopy.distance import vincenty\n",
        "ny_ri = (ny_lat,ny_lon)\n",
        "for x in range(len(test)):\n",
        "    Listing_Center_Distance = (test.iloc[x].latitude,test.iloc[x].longitude)\n",
        "    #print (test.iloc[x].latitude,test.iloc[x].longitude)\n",
        "    #Listing_Center_Distance = (40.7145,-73.9425)\n",
        "    test['CityCenterLocation'] = vincenty(ny_ri,Listing_Center_Distance).miles\n",
        "    print(vincenty(ny_ri,Listing_Center_Distance).miles)"
      ]
    },
    {
      "cell_type": "code",
      "execution_count": null,
      "metadata": {
        "_cell_guid": "76b585b7-a399-dbda-0871-f854ef610dbb"
      },
      "outputs": [],
      "source": [
        "# New York City Center Coords\n",
        "data = pd.concat([test['price'], test[`CityCenterLocation`]], axis=1)\n",
        "data.plot.scatter(x=var, y='price', ylim=(0,800000));\n"
      ]
    }
  ],
  "metadata": {
    "_change_revision": 0,
    "_is_fork": false,
    "kernelspec": {
      "display_name": "Python 3",
      "language": "python",
      "name": "python3"
    },
    "language_info": {
      "codemirror_mode": {
        "name": "ipython",
        "version": 3
      },
      "file_extension": ".py",
      "mimetype": "text/x-python",
      "name": "python",
      "nbconvert_exporter": "python",
      "pygments_lexer": "ipython3",
      "version": "3.6.0"
    }
  },
  "nbformat": 4,
  "nbformat_minor": 0
}