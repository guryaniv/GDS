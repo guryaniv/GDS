{
  "cells": [
    {
      "cell_type": "code",
      "execution_count": null,
      "metadata": {
        "_cell_guid": "d1a5c04f-6fda-e5cd-ceea-b1363845ba71"
      },
      "outputs": [],
      "source": [
        "import numpy as np\n",
        "import pandas as pd\n",
        "import seaborn as sns\n",
        "import matplotlib.pyplot as plt\n",
        "\n",
        "import warnings\n",
        "warnings.filterwarnings(\"ignore\")\n",
        "\n",
        "from sklearn.model_selection import StratifiedShuffleSplit\n",
        "\n",
        "train = pd.read_csv('../input/train.csv')\n",
        "test = pd.read_csv('../input/test.csv')"
      ]
    },
    {
      "cell_type": "code",
      "execution_count": null,
      "metadata": {
        "_cell_guid": "49760266-12d7-9dfc-4d99-abcd7d6f1498"
      },
      "outputs": [],
      "source": [
        "import matplotlib.image as mpimg       # reading images to numpy arrays\n",
        "import scipy.ndimage as ndi            # to determine shape centrality\n",
        "\n",
        "# reading an image file using matplotlib into a numpy array\n",
        "# good ones: 11, 19, 23, 27, 48, 53, 78, 218\n",
        "img = mpimg.imread('../input/images/78.jpg')\n",
        "\n",
        "# using image processing module of scipy to find the center of the leaf\n",
        "cy, cx = ndi.center_of_mass(img)\n",
        "\n",
        "plt.imshow(img, cmap='Set3')  # show me the leaf\n",
        "plt.scatter(cx, cy)           # show me its center\n",
        "plt.show()"
      ]
    },
    {
      "cell_type": "code",
      "execution_count": null,
      "metadata": {
        "_cell_guid": "7d448d26-4376-2d61-a301-2acdbd98d999"
      },
      "outputs": [],
      "source": [
        "train.head()"
      ]
    },
    {
      "cell_type": "code",
      "execution_count": null,
      "metadata": {
        "_cell_guid": "034b8ff8-8476-2bba-f299-9f449e521455"
      },
      "outputs": [],
      "source": [
        "#test_id will be used later, so save it\n",
        "test_ids = test.id\n",
        "\n",
        "# Drop id \n",
        "train.drop(['id'], axis=1, inplace=True)\n",
        "test.drop(['id'], axis=1, inplace=True)"
      ]
    },
    {
      "cell_type": "code",
      "execution_count": null,
      "metadata": {
        "_cell_guid": "a160af72-e5c8-80ca-adde-bf772e67f2c7"
      },
      "outputs": [],
      "source": [
        "# find the sets of margin, shape and texture columns \n",
        "margin_cols = [col for col in train.columns if 'margin' in col]\n",
        "shape_cols = [col for col in train.columns if 'shape' in col] \n",
        "texture_cols = [col for col in train.columns if 'texture' in col]"
      ]
    },
    {
      "cell_type": "code",
      "execution_count": null,
      "metadata": {
        "_cell_guid": "30e52492-c335-f96b-00c0-399586957ac8"
      },
      "outputs": [],
      "source": [
        "# correlation matrix for margin features\n",
        "corr = train[margin_cols].corr()\n",
        "\n",
        "# Set up the matplotlib figure\n",
        "f, ax = plt.subplots(figsize=(8, 6))\n",
        "\n",
        "# Generate a custom diverging colormap\n",
        "cmap = sns.diverging_palette(220, 10, as_cmap=True)\n",
        "# Draw the heatmap with the mask and correct aspect ratio\n",
        "sns.heatmap(corr, cmap=cmap)"
      ]
    },
    {
      "cell_type": "code",
      "execution_count": null,
      "metadata": {
        "_cell_guid": "9fa41b57-833d-fdf9-7ae4-c549ca22075f"
      },
      "outputs": [],
      "source": [
        "train.columns"
      ]
    },
    {
      "cell_type": "markdown",
      "metadata": {
        "_cell_guid": "51b6c2ea-8618-db17-d506-824b596c27d6"
      },
      "source": [
        "**Create dummy variables**"
      ]
    },
    {
      "cell_type": "code",
      "execution_count": null,
      "metadata": {
        "_cell_guid": "a4376b37-5b94-7f7e-aa59-8c3378e4c47a"
      },
      "outputs": [],
      "source": [
        "X = train.drop('species', axis=1)\n",
        "y = train[[\"species\"]]\n",
        "\n",
        "from sklearn.preprocessing import LabelEncoder\n",
        "le=LabelEncoder().fit(y)\n",
        "y=le.transform(y)"
      ]
    },
    {
      "cell_type": "markdown",
      "metadata": {
        "_cell_guid": "57c526a8-603d-d31e-7c40-a183f135260b"
      },
      "source": [
        "**Try building a classifier that uses the provided pre-extracted features**"
      ]
    },
    {
      "cell_type": "code",
      "execution_count": null,
      "metadata": {
        "_cell_guid": "9a894ab3-2fe1-e8ac-1a20-6a98ded6629c"
      },
      "outputs": [],
      "source": [
        "sss = StratifiedShuffleSplit (n_splits = 10, test_size=0.2, random_state=123)\n",
        "\n",
        "scores = []\n",
        "k = 0\n",
        "\n",
        "for train_index, test_index in sss.split(X, y):\n",
        "    X_train, X_test = X.iloc[train_index], X.iloc[test_index]\n",
        "    y_train, y_test = y[train_index], y[test_index]"
      ]
    },
    {
      "cell_type": "markdown",
      "metadata": {
        "_cell_guid": "42c36847-4830-e0f6-5a6a-5cb477948819"
      },
      "source": [
        "**Run multiple classification algorithm**"
      ]
    },
    {
      "cell_type": "code",
      "execution_count": null,
      "metadata": {
        "_cell_guid": "60ad238d-a133-b4ac-c72c-a06f06a349ce"
      },
      "outputs": [],
      "source": [
        "# https://www.kaggle.com/jeffd23/leaf-classification/10-classifier-showdown-in-scikit-learn\n",
        "from sklearn.metrics import accuracy_score, log_loss\n",
        "from sklearn.neighbors import KNeighborsClassifier\n",
        "from sklearn.svm import SVC, LinearSVC, NuSVC\n",
        "from sklearn.tree import DecisionTreeClassifier\n",
        "from sklearn.ensemble import RandomForestClassifier, AdaBoostClassifier, GradientBoostingClassifier\n",
        "from sklearn.naive_bayes import GaussianNB\n",
        "from sklearn.discriminant_analysis import LinearDiscriminantAnalysis\n",
        "from sklearn.discriminant_analysis import QuadraticDiscriminantAnalysis\n",
        "from sklearn.linear_model import LogisticRegression\n",
        "\n",
        "classifiers = [\n",
        "    KNeighborsClassifier(3),\n",
        "    SVC(kernel=\"rbf\", C=0.025, probability=True),\n",
        "    NuSVC(probability=True),\n",
        "    DecisionTreeClassifier(),\n",
        "    RandomForestClassifier(n_estimators=1000),\n",
        "    AdaBoostClassifier(),\n",
        "    GradientBoostingClassifier(),\n",
        "    GaussianNB(),\n",
        "    LinearDiscriminantAnalysis(),\n",
        "    QuadraticDiscriminantAnalysis(),\n",
        "    LogisticRegression()\n",
        "]\n",
        "\n",
        "# Logging for Visual Comparison\n",
        "log_cols=[\"Classifier\", \"Accuracy\", \"Log Loss\"]\n",
        "log = pd.DataFrame(columns=log_cols)\n",
        "\n",
        "for clf in classifiers:\n",
        "    clf.fit(X_train, y_train)\n",
        "    name = clf.__class__.__name__\n",
        "    \n",
        "    print(\"+\"*30)\n",
        "    print(name)\n",
        "    \n",
        "    print('****Results****')\n",
        "    train_predictions = clf.predict(X_test)\n",
        "    acc = accuracy_score(y_test, train_predictions)\n",
        "    print(\"Accuracy: {:.4%}\".format(acc))\n",
        "    \n",
        "    train_predictions = clf.predict_proba(X_test)\n",
        "    ll = log_loss(y_test, train_predictions)\n",
        "    print(\"Log Loss: {}\".format(ll))\n",
        "    \n",
        "    log_entry = pd.DataFrame([[name, acc*100, ll]], columns=log_cols)\n",
        "    log = log.append(log_entry)\n",
        "    \n",
        "print(\"+\"*30)"
      ]
    },
    {
      "cell_type": "code",
      "execution_count": null,
      "metadata": {
        "_cell_guid": "8c30373a-9041-253e-4542-ddd61c125f47"
      },
      "outputs": [],
      "source": [
        "#sns.set_color_codes(\"muted\")\n",
        "sns.barplot(x='Accuracy', y='Classifier', data=log)\n",
        "\n",
        "plt.xlabel('Accuracy %')\n",
        "plt.title('Classifier Accuracy')\n",
        "plt.show()\n",
        "\n",
        "#sns.set_color_codes(\"muted\")\n",
        "sns.barplot(x='Log Loss', y='Classifier', data=log)\n",
        "\n",
        "plt.xlabel('Log Loss')\n",
        "plt.title('Classifier Log Loss')\n",
        "plt.show()"
      ]
    },
    {
      "cell_type": "code",
      "execution_count": null,
      "metadata": {
        "_cell_guid": "acbaafe7-5edf-76a7-082c-26f7267383c5"
      },
      "outputs": [],
      "source": [
        "from sklearn.preprocessing import StandardScaler\n",
        "# Standardize features by removing the mean and scaling to unit variance\n",
        "scaler = StandardScaler().fit(X_train)\n",
        "X_train_scale = scaler.transform(X_train)"
      ]
    },
    {
      "cell_type": "code",
      "execution_count": null,
      "metadata": {
        "_cell_guid": "d23b52fe-96d4-b345-cd35-5acbdbcb45b6"
      },
      "outputs": [],
      "source": [
        "from sklearn.linear_model import LogisticRegression\n",
        "from sklearn.model_selection import GridSearchCV\n",
        "\n",
        "params = {'C':[1000, 2000], 'tol': [0.001, 0.0001]}\n",
        "#params = {'C':[2000], 'tol': [0.0001]}\n",
        "log_reg = LogisticRegression(solver='newton-cg', multi_class='multinomial',class_weight='balanced',max_iter=400)\n",
        "grid_search_lgr = GridSearchCV(log_reg, params, scoring='neg_log_loss', refit='True', n_jobs=-1, cv=5)\n",
        "\n",
        "grid_search_lgr.fit(X_train_scale, y_train)\n",
        "\n",
        "print('Best score: {}'.format(grid_search_lgr.best_score_))\n",
        "print('Best parameters: {}'.format(grid_search_lgr.best_params_))"
      ]
    },
    {
      "cell_type": "code",
      "execution_count": null,
      "metadata": {
        "_cell_guid": "e5e26f0a-b698-6b30-d699-c69df39fef60"
      },
      "outputs": [],
      "source": [
        "#RandomForestClassifier(n_estimators=1000)\n",
        "# Test this "
      ]
    },
    {
      "cell_type": "markdown",
      "metadata": {
        "_cell_guid": "4df972b5-ec7b-d89f-fa83-0bb06860d8fd"
      },
      "source": [
        "Make prediction\n",
        "---------------"
      ]
    },
    {
      "cell_type": "code",
      "execution_count": null,
      "metadata": {
        "_cell_guid": "b272c87b-2a6d-1102-2e09-1e30f34e5b73"
      },
      "outputs": [],
      "source": [
        "X_test_scale = scaler.transform(test)\n",
        "\n",
        "y_pred_prob = grid_search_lgr.predict_proba(X_test_scale)\n",
        "print (y_pred_prob.shape)\n",
        "\n",
        "# some manipulation of output\n",
        "#y_pred_prob <- y_pred_prob^5\n",
        "#for(x in seq_len(nrow(y_pred_prob))){\n",
        "#  y_pred_prob[x,] <- y_pred_prob[x,]/sum(y_pred_prob[x,]) \n",
        "#}"
      ]
    },
    {
      "cell_type": "code",
      "execution_count": null,
      "metadata": {
        "_cell_guid": "4dcff1ed-6c13-5983-67e3-789704fba85a"
      },
      "outputs": [],
      "source": [
        "submission = pd.DataFrame(y_pred_prob, columns=list(le.classes_))\n",
        "submission.insert(0, 'id', test_ids)\n",
        "submission.reset_index()\n",
        "\n",
        "#submission = pd.DataFrame(y_pred_prob, index=test_ids, columns=le.classes_)\n",
        "\n",
        "submission.head()"
      ]
    },
    {
      "cell_type": "code",
      "execution_count": null,
      "metadata": {
        "_cell_guid": "dade6279-ba66-ec2a-6326-3c1a547b1389"
      },
      "outputs": [],
      "source": [
        "submission.to_csv('submission.csv', index=False)"
      ]
    }
  ],
  "metadata": {
    "_change_revision": 0,
    "_is_fork": false,
    "kernelspec": {
      "display_name": "Python 3",
      "language": "python",
      "name": "python3"
    },
    "language_info": {
      "codemirror_mode": {
        "name": "ipython",
        "version": 3
      },
      "file_extension": ".py",
      "mimetype": "text/x-python",
      "name": "python",
      "nbconvert_exporter": "python",
      "pygments_lexer": "ipython3",
      "version": "3.5.2"
    }
  },
  "nbformat": 4,
  "nbformat_minor": 0
}