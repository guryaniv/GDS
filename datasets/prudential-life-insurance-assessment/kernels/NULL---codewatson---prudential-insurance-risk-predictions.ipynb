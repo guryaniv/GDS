{
  "cells": [
    {
      "cell_type": "code",
      "execution_count": null,
      "metadata": {
        "_cell_guid": "9955ed1b-d40d-4803-951f-eb578f8cb959",
        "collapsed": true
      },
      "outputs": [],
      "source": [
        "%matplotlib inline"
      ]
    },
    {
      "cell_type": "code",
      "execution_count": null,
      "metadata": {
        "_cell_guid": "08721e92-c59b-49ef-9893-76c0171b28e1"
      },
      "outputs": [],
      "source": [
        "# Imports\n",
        "\n",
        "# pandas\n",
        "import pandas as pd\n",
        "from pandas import Series,DataFrame\n",
        "\n",
        "# numpy, matplotlib, seaborn\n",
        "import numpy as np\n",
        "import matplotlib.pyplot as plt\n",
        "import seaborn as sns\n",
        "sns.set_style('whitegrid')\n",
        "%matplotlib inline\n",
        "\n",
        "# machine learning\n",
        "from sklearn.linear_model import LogisticRegression\n",
        "from sklearn.svm import SVC, LinearSVC\n",
        "from sklearn.ensemble import RandomForestClassifier\n",
        "from sklearn.neighbors import KNeighborsClassifier\n",
        "from sklearn.naive_bayes import GaussianNB\n",
        "from sklearn import cross_validation\n",
        "import xgboost as xgb"
      ]
    },
    {
      "cell_type": "code",
      "execution_count": null,
      "metadata": {
        "_cell_guid": "e0470571-8612-4c88-9a81-f12128bb17bb"
      },
      "outputs": [],
      "source": [
        "# get prudential & test csv files as a DataFrame\n",
        "prudential_df  = pd.read_csv('../input/train.csv')\n",
        "test_df        = pd.read_csv('../input/test.csv')\n",
        "\n",
        "# preview the data\n",
        "prudential_df.head()"
      ]
    },
    {
      "cell_type": "code",
      "execution_count": null,
      "metadata": {
        "_cell_guid": "c5e736af-1ab0-4533-9dd9-4ff7c5a61c32"
      },
      "outputs": [],
      "source": [
        "prudential_df.info()\n",
        "print(\"----------------------------\")\n",
        "test_df.info()"
      ]
    },
    {
      "cell_type": "code",
      "execution_count": null,
      "metadata": {
        "_cell_guid": "3dfb33ca-2966-4b29-9636-7f6c31cfbc24"
      },
      "outputs": [],
      "source": [
        "# response\n",
        "\n",
        "fig, (axis1) = plt.subplots(1,1,figsize=(15,5))\n",
        "\n",
        "sns.countplot(x=prudential_df[\"Response\"], order=[1,2,3,4,5,6,7,8], ax=axis1)"
      ]
    },
    {
      "cell_type": "code",
      "execution_count": null,
      "metadata": {
        "_cell_guid": "9e25b5ae-e188-4347-894c-40d6176a4bc8"
      },
      "outputs": [],
      "source": [
        "# There are some columns with non-numerical values(i.e. dtype='object'),\n",
        "# So, We will create a corresponding unique numerical value for each non-numerical value in a column of training and testing set.\n",
        "\n",
        "from sklearn import preprocessing\n",
        "\n",
        "for f in prudential_df.columns:\n",
        "    if prudential_df[f].dtype == 'object':\n",
        "        lbl = preprocessing.LabelEncoder()\n",
        "        lbl.fit(np.unique(list(prudential_df[f].values) + list(test_df[f].values)))\n",
        "        prudential_df[f] = lbl.transform(list(prudential_df[f].values))\n",
        "        test_df[f]       = lbl.transform(list(test_df[f].values))"
      ]
    },
    {
      "cell_type": "code",
      "execution_count": null,
      "metadata": {
        "_cell_guid": "9851db62-a04f-4f5b-b242-c2eb5a5c316f"
      },
      "outputs": [],
      "source": [
        "# fill NaN values\n",
        "\n",
        "for f in prudential_df.columns:\n",
        "    if f == \"Response\": continue\n",
        "    if prudential_df[f].dtype == 'float64':\n",
        "        prudential_df[f].fillna(prudential_df[f].mean(), inplace=True)\n",
        "        test_df[f].fillna(test_df[f].mean(), inplace=True)\n",
        "    else:\n",
        "        prudential_df[f].fillna(prudential_df[f].median(), inplace=True)\n",
        "        test_df[f].fillna(test_df[f].median(), inplace=True)\n",
        "\n",
        "# prudential_df.fillna(0, inplace=True)\n",
        "# test_df.fillna(0, inplace=True)"
      ]
    },
    {
      "cell_type": "code",
      "execution_count": null,
      "metadata": {
        "_cell_guid": "53e9c66a-1d86-44a2-9f90-e8c729ff714c"
      },
      "outputs": [],
      "source": [
        "# define training and testing sets\n",
        "\n",
        "X_train = prudential_df.drop([\"Response\", \"Id\"],axis=1)\n",
        "Y_train = prudential_df[\"Response\"]\n",
        "X_test  = test_df.drop(\"Id\",axis=1).copy()"
      ]
    },
    {
      "cell_type": "code",
      "execution_count": null,
      "metadata": {
        "_cell_guid": "79a92620-18b4-472e-9ac1-5bbcde7da53a"
      },
      "outputs": [],
      "source": [
        "# modify response values so that range of values is from 0-7 instead of 1-8\n",
        "Y_train = Y_train - 1"
      ]
    },
    {
      "cell_type": "code",
      "execution_count": null,
      "metadata": {
        "_cell_guid": "4e5bc920-6fd7-4e4e-8734-c5e74d72edf0"
      },
      "outputs": [],
      "source": [
        "# Random Forests\n",
        "\n",
        "# random_forest = RandomForestClassifier(n_estimators=100)\n",
        "\n",
        "# random_forest.fit(X_train, Y_train)\n",
        "\n",
        "# Y_pred2 = random_forest.predict(X_test)\n",
        "\n",
        "# random_forest.score(X_train, Y_train)"
      ]
    },
    {
      "cell_type": "code",
      "execution_count": null,
      "metadata": {
        "_cell_guid": "c70a6973-ecaf-48aa-a6c2-62281317fd18"
      },
      "outputs": [],
      "source": [
        "# Xgboost \n",
        "\n",
        "params = {\"objective\": \"multi:softmax\", \"num_class\": 8}\n",
        "\n",
        "T_train_xgb = xgb.DMatrix(X_train, Y_train)\n",
        "X_test_xgb  = xgb.DMatrix(X_test)\n",
        "\n",
        "gbm = xgb.train(params, T_train_xgb, 20)\n",
        "Y_pred = gbm.predict(X_test_xgb)"
      ]
    },
    {
      "cell_type": "code",
      "execution_count": null,
      "metadata": {
        "_cell_guid": "046cd562-a748-4a63-a647-8e3d140e3432"
      },
      "outputs": [],
      "source": [
        "# change values back to range of values is from 1-8 instead of 0-7\n",
        "\n",
        "Y_pred = Y_pred + 1\n",
        "Y_pred = Y_pred.astype(int)"
      ]
    },
    {
      "cell_type": "code",
      "execution_count": null,
      "metadata": {
        "_cell_guid": "62ea4cb6-3d23-41e6-b645-77f5933c8baa"
      },
      "outputs": [],
      "source": [
        "# Create submission\n",
        "\n",
        "submission = pd.DataFrame({\n",
        "        \"Id\": test_df[\"Id\"],\n",
        "        \"Response\": Y_pred\n",
        "    })\n",
        "submission.to_csv('prudential.csv', index=False)"
      ]
    },
    {
      "cell_type": "code",
      "execution_count": null,
      "metadata": {
        "_cell_guid": "d33782e9-f261-565a-9088-1bfee9e4825f"
      },
      "outputs": [],
      "source": ""
    }
  ],
  "metadata": {
    "_change_revision": 0,
    "_is_fork": false,
    "kernelspec": {
      "display_name": "Python 3",
      "language": "python",
      "name": "python3"
    },
    "language_info": {
      "codemirror_mode": {
        "name": "ipython",
        "version": 3
      },
      "file_extension": ".py",
      "mimetype": "text/x-python",
      "name": "python",
      "nbconvert_exporter": "python",
      "pygments_lexer": "ipython3",
      "version": "3.5.2"
    }
  },
  "nbformat": 4,
  "nbformat_minor": 0
}