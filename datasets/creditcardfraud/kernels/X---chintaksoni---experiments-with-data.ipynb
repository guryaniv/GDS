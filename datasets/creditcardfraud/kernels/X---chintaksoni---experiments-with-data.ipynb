{
  "cells": [
    {
      "cell_type": "code",
      "execution_count": null,
      "metadata": {
        "_cell_guid": "e0c69652-0e07-d111-b2b3-1bc424075e9a"
      },
      "outputs": [],
      "source": [
        "# This Python 3 environment comes with many helpful analytics libraries installed\n",
        "# It is defined by the kaggle/python docker image: https://github.com/kaggle/docker-python\n",
        "# For example, here's several helpful packages to load in \n",
        "\n",
        "import numpy as np # linear algebra\n",
        "import pandas as pd # data processing, CSV file I/O (e.g. pd.read_csv)\n",
        "import seaborn as sns\n",
        "\n",
        "# Input data files are available in the \"../input/\" directory.\n",
        "# For example, running this (by clicking run or pressing Shift+Enter) will list the files in the input directory\n",
        "\n",
        "from subprocess import check_output\n",
        "print(check_output([\"ls\", \"../input\"]).decode(\"utf8\"))\n",
        "\n",
        "# Any results you write to the current directory are saved as output."
      ]
    },
    {
      "cell_type": "code",
      "execution_count": null,
      "metadata": {
        "_cell_guid": "5bcce63e-1b3b-d22e-071a-9df703fdd944"
      },
      "outputs": [],
      "source": [
        "df = pd.read_csv('../input/creditcard.csv')"
      ]
    },
    {
      "cell_type": "code",
      "execution_count": null,
      "metadata": {
        "_cell_guid": "905cd4f8-2eac-c06d-5676-107ee775d420"
      },
      "outputs": [],
      "source": [
        "df.head(10)"
      ]
    },
    {
      "cell_type": "code",
      "execution_count": null,
      "metadata": {
        "_cell_guid": "5bd288ee-850c-9c14-d001-0550a489d4cd"
      },
      "outputs": [],
      "source": [
        "df.info()"
      ]
    },
    {
      "cell_type": "code",
      "execution_count": null,
      "metadata": {
        "_cell_guid": "1b99d1b1-6549-b1f4-afdb-4f32cee63ac3"
      },
      "outputs": [],
      "source": [
        "cls1 = df[df['Class'] == 1]['Class'].count()\n",
        "cls2 = df[df['Class'] == 0]['Class'].count()\n",
        "\n",
        "print (\"total number of fraud\",cls1)\n",
        "print (\"total number of not fraud\",cls2)"
      ]
    },
    {
      "cell_type": "code",
      "execution_count": null,
      "metadata": {
        "_cell_guid": "da5ca5a5-669b-b425-0905-63af21bc75c3"
      },
      "outputs": [],
      "source": [
        "cdf.corr()"
      ]
    },
    {
      "cell_type": "code",
      "execution_count": null,
      "metadata": {
        "_cell_guid": "61614bac-45e9-d141-92f1-afd204253ae1"
      },
      "outputs": [],
      "source": [
        "ftime = df[df['Class'] == 1]\n",
        "#print (ftime)\n",
        "sns.distplot(ftime['Time'], kde=False, bins=50)\n",
        "sns.sc"
      ]
    },
    {
      "cell_type": "code",
      "execution_count": null,
      "metadata": {
        "_cell_guid": "16218834-b549-280c-bb65-b306258b03b2"
      },
      "outputs": [],
      "source": [
        "sns.regplot(data=df, x=\"Time\", y=\"Amount\")"
      ]
    },
    {
      "cell_type": "code",
      "execution_count": null,
      "metadata": {
        "_cell_guid": "c8cd9da9-09a2-a9ba-7cbf-9d225b80db82"
      },
      "outputs": [],
      "source": [
        "sns.regplot(data=ftime,x=\"Time\", y=\"Amount\")"
      ]
    },
    {
      "cell_type": "code",
      "execution_count": null,
      "metadata": {
        "_cell_guid": "93368f92-6277-0e63-746c-1a8c044a2d62"
      },
      "outputs": [],
      "source": ""
    }
  ],
  "metadata": {
    "_change_revision": 0,
    "_is_fork": false,
    "kernelspec": {
      "display_name": "Python 3",
      "language": "python",
      "name": "python3"
    },
    "language_info": {
      "codemirror_mode": {
        "name": "ipython",
        "version": 3
      },
      "file_extension": ".py",
      "mimetype": "text/x-python",
      "name": "python",
      "nbconvert_exporter": "python",
      "pygments_lexer": "ipython3",
      "version": "3.6.0"
    }
  },
  "nbformat": 4,
  "nbformat_minor": 0
}