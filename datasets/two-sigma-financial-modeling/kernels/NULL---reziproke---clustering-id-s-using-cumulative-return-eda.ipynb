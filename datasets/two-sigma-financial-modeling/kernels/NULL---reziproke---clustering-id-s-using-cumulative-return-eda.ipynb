{
  "cells": [
    {
      "cell_type": "markdown",
      "metadata": {
        "_cell_guid": "70968bae-58d6-a4cc-5c1b-1569236864a5"
      },
      "source": [
        "## Introduction\n",
        "\n",
        "The following analysis is inspired by a notebook by omolluska ([When/ why are stocks bought and sold][1]). Check it out :). Here we build on that and try to gain additional insights about the id's (financial instruments) in the data and perform some clustering. The main idea is to look at the cumulative returns of each id and see how it correlates to other id's. That will allow us to cluster these in an easy way and see of th. \n",
        "\n",
        " The last plot gives the main result (scroll to the end).\n",
        "\n",
        "##Caution! Important!\n",
        "\n",
        "*The analysis changed somewhat to see if the result is not a statistical fluke. Let's assume we have lots of randomly generated curves (e.g. cumulative return) and we look at their correlations. Then we might find a subset of curves that are highly correlated and go up and about the same number of curves that are highly correlated and go down. The end result might look like what we got here. To see if the findings are for real the clustering is now performed up to the timestamp 900, ignoring everything that happens after that. The result is presented for all timestamps up to 1812. The new interpretation: **There are probably no clusters with respect to the cumulative returns** (at least not with the methodology used here) as the upward and downward trend of the clusters suddenly levels of after the timestamp 900 (in the old analysis these trends continued).*\n",
        "\n",
        "  [1]: https://www.kaggle.com/sankhamukherjee/two-sigma-financial-modeling/when-why-are-stocks-bought-and-sold"
      ]
    },
    {
      "cell_type": "code",
      "execution_count": null,
      "metadata": {
        "_cell_guid": "4971c52c-9218-19f6-24b8-7614d1ce89ba"
      },
      "outputs": [],
      "source": [
        "import numpy as np\n",
        "import pandas as pd\n",
        "import seaborn as sns\n",
        "from sklearn.cluster import KMeans\n",
        "from matplotlib import pyplot as plt"
      ]
    },
    {
      "cell_type": "code",
      "execution_count": null,
      "metadata": {
        "_cell_guid": "543ca436-e7f6-b103-4e01-68b280207405"
      },
      "outputs": [],
      "source": [
        "data = pd.read_hdf(\"../input/train.h5\")"
      ]
    },
    {
      "cell_type": "markdown",
      "metadata": {
        "_cell_guid": "c02cf9da-c5bb-5778-944e-55875a70c1fa"
      },
      "source": [
        "We will calculate correlations between all the id's but to ensure that we have enough overlap we only look at those id's that have more than 450 timestamps (i.e. at least 50% of data available).\n",
        "Additionally, we will later only keep id's that are generally highly correlated with other id's. That's what the parameter N_corr_cut is good for."
      ]
    },
    {
      "cell_type": "code",
      "execution_count": null,
      "metadata": {
        "_cell_guid": "ebcdfcef-af40-f9d2-be5b-fd40bdbfab3f"
      },
      "outputs": [],
      "source": [
        "## Params\n",
        "\n",
        "N_timestamps = 450 # how many timestamps that are non-nan for each id\n",
        "N_corr_cut = 0.4 # min mean correlation coefficient when dropping id's"
      ]
    },
    {
      "cell_type": "code",
      "execution_count": null,
      "metadata": {
        "_cell_guid": "9155de9a-3c11-4428-25f4-9ec0a65cb0c6"
      },
      "outputs": [],
      "source": [
        "## data is used for clustering --> see comment at the beginning\n",
        "data_full = data.copy()\n",
        "data = data.iloc[0:800000,:]"
      ]
    },
    {
      "cell_type": "code",
      "execution_count": null,
      "metadata": {
        "_cell_guid": "22da75b9-b307-13ef-1f2c-d6a4ef8de44e"
      },
      "outputs": [],
      "source": [
        "## Check max timestamp\n",
        "np.max(data.timestamp)"
      ]
    },
    {
      "cell_type": "code",
      "execution_count": null,
      "metadata": {
        "_cell_guid": "19270b14-8ac7-d8a2-490c-8ec0006bd899"
      },
      "outputs": [],
      "source": [
        "## Select only id's where sufficient data is available, \n",
        "## i.e. all timestamps available\n",
        "\n",
        "select_ids = data[[\"id\",\"y\"]].groupby(\"id\").count()\n",
        "\n",
        "selected_ids = select_ids[select_ids.y > N_timestamps]#== N_timestamps]\n",
        "\n",
        "selected_ids = np.array(selected_ids.index)\n",
        "\n",
        "index_ids = [i in selected_ids for i in data.id]\n",
        "\n",
        "data_corr = data[index_ids][[\"id\",\"timestamp\",\"y\"]].copy()"
      ]
    },
    {
      "cell_type": "code",
      "execution_count": null,
      "metadata": {
        "_cell_guid": "a568944f-0ef2-e445-87d3-85f58e27a25c"
      },
      "outputs": [],
      "source": [
        "index_ids = [i in selected_ids for i in data_full.id]\n",
        "data_corr_full = data_full[index_ids][[\"id\",\"timestamp\",\"y\"]].copy()"
      ]
    },
    {
      "cell_type": "markdown",
      "metadata": {
        "_cell_guid": "1d373f63-1b60-7cd5-ed74-c1beb8aa2e45"
      },
      "source": [
        "## Finding Clusters"
      ]
    },
    {
      "cell_type": "code",
      "execution_count": null,
      "metadata": {
        "_cell_guid": "5e187103-d67d-973a-1972-bf5f36307715"
      },
      "outputs": [],
      "source": [
        "## Create a dataframe where each id is a column\n",
        "\n",
        "df_id = data_corr[['id', 'timestamp', 'y']].pivot_table(values='y',\n",
        "                                     index='timestamp',columns='id')\n",
        "\n",
        "df_id_full = data_corr_full[['id', 'timestamp', 'y']].pivot_table(values='y',\n",
        "                                     index='timestamp',columns='id')"
      ]
    },
    {
      "cell_type": "code",
      "execution_count": null,
      "metadata": {
        "_cell_guid": "6d27e704-5b6b-b3b1-734e-3dc9be4f6465"
      },
      "outputs": [],
      "source": [
        "## Calculate the cumulative sum of the return y \n",
        "## and substract the mean of the cumulative sum at each timestamp\n",
        "\n",
        "df_id_cumsum = df_id.cumsum()\n",
        "\n",
        "diff = df_id_cumsum.mean(axis=1)\n",
        "df_id_cumsum = df_id_cumsum.subtract(diff.values,axis=\"rows\")\n",
        "\n",
        "## Full Data\n",
        "\n",
        "df_id_cumsum_full = df_id_full.cumsum()\n",
        "\n",
        "diff = df_id_cumsum_full.mean(axis=1)\n",
        "df_id_cumsum_full = df_id_cumsum_full.subtract(diff.values,axis=\"rows\")\n",
        "\n",
        "print(df_id_cumsum.shape)\n",
        "df_id_cumsum.head()"
      ]
    },
    {
      "cell_type": "code",
      "execution_count": null,
      "metadata": {
        "_cell_guid": "320d4407-2dec-a810-3165-3357587aadcd"
      },
      "outputs": [],
      "source": [
        "## Check max timestamp\n",
        "np.max(df_id_cumsum.index.values)"
      ]
    },
    {
      "cell_type": "markdown",
      "metadata": {
        "_cell_guid": "43bbf2dd-44f2-1d54-7c78-3ffd9da2ce15"
      },
      "source": [
        "We are left with 895 id's. Now let's look at the correlations between them and how these are distributed."
      ]
    },
    {
      "cell_type": "code",
      "execution_count": null,
      "metadata": {
        "_cell_guid": "1bc49acc-ef94-867c-556a-1ff9cc461880"
      },
      "outputs": [],
      "source": [
        "## Calculate the correlations between the id's\n",
        "\n",
        "corr_cumsum = df_id_cumsum.corr()\n",
        "\n",
        "dist = corr_cumsum.as_matrix()"
      ]
    },
    {
      "cell_type": "code",
      "execution_count": null,
      "metadata": {
        "_cell_guid": "e7007bd9-fd40-c431-88ce-5f2b5720538d"
      },
      "outputs": [],
      "source": [
        "plt.hist(dist.flatten(),bins=100)\n",
        "plt.title(\"Distribution of Correlations Between Id's\");"
      ]
    },
    {
      "cell_type": "markdown",
      "metadata": {
        "_cell_guid": "402f822b-8d75-e921-9a29-8ba7c48749ba"
      },
      "source": [
        "The bimodal distribution vanished after changing the analysis (see comment at beginning of notebook)."
      ]
    },
    {
      "cell_type": "code",
      "execution_count": null,
      "metadata": {
        "_cell_guid": "a4002714-7ad6-0e85-3bac-91ab3aa0c40e"
      },
      "outputs": [],
      "source": [
        "## Look at id's that are generally strongly correlated to others\n",
        "\n",
        "dist_id_mean = np.mean(np.abs(dist),axis = 1)\n",
        "index_mean = dist_id_mean > N_corr_cut\n",
        "\n",
        "tmp_cut = dist[index_mean,:]\n",
        "tmp_cut = tmp_cut[:,index_mean]\n",
        "\n",
        "print(\"Number of id's %i\" % (tmp_cut.shape[0]))\n",
        "\n",
        "plt.hist(tmp_cut.flatten(),bins=100)\n",
        "plt.title(\"Distribution of Correlations Between Id's\");"
      ]
    },
    {
      "cell_type": "markdown",
      "metadata": {
        "_cell_guid": "d0c1fee8-fce5-e7ce-d6c8-126dbd557eef"
      },
      "source": [
        "Now, we would like to see if the id's form any clusters."
      ]
    },
    {
      "cell_type": "code",
      "execution_count": null,
      "metadata": {
        "_cell_guid": "7d2f4314-204f-d859-1291-aa1333000df1"
      },
      "outputs": [],
      "source": [
        "g = sns.clustermap(tmp_cut,metric=\"euclidean\",method=\"average\")"
      ]
    },
    {
      "cell_type": "markdown",
      "metadata": {
        "_cell_guid": "09f0a47c-8e75-83f3-0493-4df63ec9fbd7"
      },
      "source": [
        "Indeed, there are two clusters. Within each cluster the correlations are high and positive. In between clusters these correlations are inverted. Next, we extract these clusters and analyze them."
      ]
    },
    {
      "cell_type": "code",
      "execution_count": null,
      "metadata": {
        "_cell_guid": "e049b354-1ed1-2c7b-721e-c5feff21d1bd"
      },
      "outputs": [],
      "source": [
        "## Perform Kmeans to easily get the two clusters\n",
        "\n",
        "clf = KMeans(n_clusters = 2)\n",
        "clf.fit(tmp_cut)\n",
        "labels = clf.labels_\n",
        "\n",
        "print(\"%i id's in cluster 1 and %i id's in cluster 2\" % (np.sum(labels == 0),np.sum(labels == 1)))"
      ]
    },
    {
      "cell_type": "code",
      "execution_count": null,
      "metadata": {
        "_cell_guid": "26706518-48ba-f4af-e2c8-67f5871da472"
      },
      "outputs": [],
      "source": [
        "## See if Kmeans got the clusters right\n",
        "\n",
        "g = sns.clustermap(tmp_cut[labels == 0,:],metric=\"euclidean\",method=\"average\",square=True)"
      ]
    },
    {
      "cell_type": "markdown",
      "metadata": {
        "_cell_guid": "863ca9cb-6e2e-4bc2-bb27-7087aa34ac1d"
      },
      "source": [
        "Looks good. Finally, we will look at the mean cumulative returns for each cluster and compare them. Note that we have already subtracted the general upward trend of the cumulative returns. For comparison, we include the result without that adjustment."
      ]
    },
    {
      "cell_type": "markdown",
      "metadata": {
        "_cell_guid": "9d6f7fff-19d7-4e1d-768a-9e1fb046610f"
      },
      "source": [
        "## Mean Cumulative Returns for Each Cluster"
      ]
    },
    {
      "cell_type": "code",
      "execution_count": null,
      "metadata": {
        "_cell_guid": "f61a29a4-3455-c9f0-a91b-4a884d3d4377"
      },
      "outputs": [],
      "source": [
        "## Define one dataframe for each cluster\n",
        "\n",
        "ids = corr_cumsum.columns[index_mean]\n",
        "\n",
        "ids_1 = ids[labels == 0]\n",
        "ids_2 = ids[labels == 1]\n",
        "\n",
        "data_sub_c1 = df_id_cumsum_full[ids_1]\n",
        "data_sub_c2 = df_id_cumsum_full[ids_2]\n",
        "\n",
        "## Cumulative Sums Without Adjustments\n",
        "\n",
        "df_id_cumsum_no_adjust = df_id_full.cumsum()\n",
        "\n",
        "data_sub_c1_no_adjust = df_id_cumsum_no_adjust[ids_1]\n",
        "data_sub_c2_no_adjust = df_id_cumsum_no_adjust[ids_2]"
      ]
    },
    {
      "cell_type": "code",
      "execution_count": null,
      "metadata": {
        "_cell_guid": "b1578830-f1a2-21ee-f272-ae71fb01cbef"
      },
      "outputs": [],
      "source": [
        "## Determine Mean of Cumulative Returns\n",
        "\n",
        "## Without Adjustment\n",
        "\n",
        "returns_1 = data_sub_c1_no_adjust.mean(axis=1)\n",
        "returns_2 = data_sub_c2_no_adjust.mean(axis=1)\n",
        "\n",
        "std_1 = data_sub_c1_no_adjust.std(axis=1)\n",
        "std_2 = data_sub_c2_no_adjust.std(axis=1)\n",
        "\n",
        "plt.plot(returns_1,alpha=1)\n",
        "plt.plot(returns_2,alpha=1)\n",
        "plt.title(\"Mean Cumulative Returns for Each Cluster, without adjustment\")\n",
        "plt.xlabel(\"Timestamp\")\n",
        "plt.ylabel(\"Mean Cumulative Return\");\n",
        "\n",
        "plt.fill_between(returns_1.index, returns_1 - std_1, returns_1 + std_1, color='b', alpha=0.05)\n",
        "plt.fill_between(returns_2.index, returns_2 - std_2, returns_2 + std_2, color='g', alpha=0.05)\n",
        "\n",
        "plt.show()\n",
        "\n",
        "## With Adjustment\n",
        "\n",
        "returns_1 = data_sub_c1.mean(axis=1)\n",
        "returns_2 = data_sub_c2.mean(axis=1)\n",
        "\n",
        "std_1 = data_sub_c1.std(axis=1)\n",
        "std_2 = data_sub_c2.std(axis=1)\n",
        "\n",
        "plt.plot(returns_1,alpha=1)\n",
        "plt.plot(returns_2,alpha=1)\n",
        "plt.title(\"Mean Cumulative Returns for Each Cluster, with adjustment\")\n",
        "plt.xlabel(\"Timestamp\")\n",
        "plt.ylabel(\"Mean Cumulative Return\");\n",
        "\n",
        "plt.fill_between(returns_1.index, returns_1 - std_1, returns_1 + std_1, color='b', alpha=0.05)\n",
        "plt.fill_between(returns_2.index, returns_2 - std_2, returns_2 + std_2, color='g', alpha=0.05);"
      ]
    },
    {
      "cell_type": "markdown",
      "metadata": {
        "_cell_guid": "89fffc83-3d33-1bce-9d2b-c8599c4f833e"
      },
      "source": [
        "## Caution\n",
        "\n",
        "*As mentioned in the beginning the clustering is now only performed up to the timestamp 900. This changed the end result quite a bit. Now we can see that the mean cumulative return levels of after 900 and the standard deviation starts to increase. This should be expected for curves that behave in a random way. The fact that they mirror each other closely is probably due to adjusting for the general upward trend in the cumulative mean.*\n",
        "\n",
        "The two curves show the mean cumulative return within each cluster over time. The shaded regions show the standard deviation of the cumulative return within each cluster."
      ]
    },
    {
      "cell_type": "code",
      "execution_count": null,
      "metadata": {
        "_cell_guid": "719b5777-eadb-a867-9bd9-890eefde4bcf"
      },
      "outputs": [],
      "source": ""
    }
  ],
  "metadata": {
    "_change_revision": 0,
    "_is_fork": false,
    "kernelspec": {
      "display_name": "Python 3",
      "language": "python",
      "name": "python3"
    },
    "language_info": {
      "codemirror_mode": {
        "name": "ipython",
        "version": 3
      },
      "file_extension": ".py",
      "mimetype": "text/x-python",
      "name": "python",
      "nbconvert_exporter": "python",
      "pygments_lexer": "ipython3",
      "version": "3.5.2"
    }
  },
  "nbformat": 4,
  "nbformat_minor": 0
}