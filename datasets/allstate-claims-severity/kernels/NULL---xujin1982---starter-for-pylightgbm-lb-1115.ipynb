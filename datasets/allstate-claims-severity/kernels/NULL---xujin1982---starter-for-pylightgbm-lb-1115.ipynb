{
  "cells": [
    {
      "cell_type": "markdown",
      "metadata": {
        "_cell_guid": "3e239f82-747d-daa4-1640-c382bcd4fb8f"
      },
      "source": [
        "pyLigthGBM\n",
        "=======\n",
        "\n",
        "Python wrapper for Microsoft [LightGBM][1]. Make sure that you have installed LightGBM [Installation-Guide][2]\n",
        "\n",
        "pyLigthGBM: python binding for Microsoft LightGBM [pyLigthGBM][3]\n",
        "\n",
        "Modified from the notebook of  [Evgeny BAZAROV][4] ([source code][5])\n",
        "\n",
        "\n",
        "  [1]: https://github.com/Microsoft/LightGBM\n",
        "  [2]: https://github.com/Microsoft/LightGBM/wiki/Installation-Guide\n",
        "  [3]: https://github.com/ArdalanM/pyLightGBM\n",
        "  [4]: http://baz.evgenii@gmail.com\n",
        "  [5]: https://github.com/ArdalanM/pyLightGBM/blob/master/notebooks/regression_example_kaggle_allstate.ipynb"
      ]
    },
    {
      "cell_type": "code",
      "execution_count": null,
      "metadata": {
        "_cell_guid": "a7126b2c-9008-48cc-1aa1-d95c9520e9d5"
      },
      "outputs": [],
      "source": [
        "import numpy as np\n",
        "import pandas as pd\n",
        "import time\n",
        "\n",
        "from sklearn import metrics, model_selection\n",
        "from sklearn.preprocessing import LabelEncoder, StandardScaler\n",
        "\n",
        "from scipy.stats import skew, boxcox\n",
        "\n",
        "from pylightgbm.models import GBMRegressor"
      ]
    },
    {
      "cell_type": "code",
      "execution_count": null,
      "metadata": {
        "_cell_guid": "921e25b5-ecb3-ad12-c6a7-b56500856fd9"
      },
      "outputs": [],
      "source": [
        "# Load data\n",
        "start = time.time() \n",
        "train_data = pd.read_csv('../input/train.csv')\n",
        "train_size=train_data.shape[0]\n",
        "test_data = pd.read_csv('../input/test.csv')\n",
        "# Merge data\n",
        "full_data=pd.concat([train_data,test_data])\n",
        "del( train_data, test_data)"
      ]
    },
    {
      "cell_type": "code",
      "execution_count": null,
      "metadata": {
        "_cell_guid": "6fe581b2-dae0-a0fe-3f30-241ad4aee092"
      },
      "outputs": [],
      "source": [
        "data_types = full_data.dtypes  \n",
        "cat_cols = list(data_types[data_types=='object'].index)\n",
        "num_cols = list(data_types[data_types=='int64'].index) + list(data_types[data_types=='float64'].index)\n",
        "\n",
        "id_col = 'id'\n",
        "target_col = 'loss'\n",
        "num_cols.remove('id')\n",
        "num_cols.remove('loss')"
      ]
    },
    {
      "cell_type": "code",
      "execution_count": null,
      "metadata": {
        "_cell_guid": "6c0ab88a-0336-0b74-0315-d8da2e507d7c"
      },
      "outputs": [],
      "source": [
        "SSL = StandardScaler()\n",
        "skewed_cols = full_data[num_cols].apply(lambda x: skew(x.dropna()))\n",
        "skewed_cols = skewed_cols[skewed_cols > 0.25].index.values\n",
        "for skewed_col in skewed_cols:\n",
        "    full_data[skewed_col], lam = boxcox(full_data[skewed_col] + 1)\n",
        "for num_col in num_cols:\n",
        "    full_data[num_col] = SSL.fit_transform(full_data[num_col].values.reshape(-1,1))"
      ]
    },
    {
      "cell_type": "code",
      "execution_count": null,
      "metadata": {
        "_cell_guid": "a9e8c474-5a33-a941-c623-7e5248b7df1e"
      },
      "outputs": [],
      "source": [
        "LBL = LabelEncoder()\n",
        "for cat_col in cat_cols:\n",
        "    full_data[cat_col] = LBL.fit_transform(full_data[cat_col])\n",
        "    \n",
        "\n",
        "lift = 200\n",
        "full_columns = cat_cols + num_cols\n",
        "train_x = full_data[:train_size][full_columns].as_matrix()\n",
        "test_x = full_data[train_size:][full_columns].as_matrix()\n",
        "train_y = np.log(full_data[:train_size].loss.values + lift)\n",
        "ID = full_data.id[:train_size].values\n",
        "\n",
        "X_train, X_val, y_train, y_val = model_selection.train_test_split(train_x, train_y, train_size=.80, random_state=42)"
      ]
    },
    {
      "cell_type": "code",
      "execution_count": null,
      "metadata": {
        "_cell_guid": "bc1d688c-ce94-1752-ac0b-111f9e2f0714"
      },
      "outputs": [],
      "source": [
        "seed = 42\n",
        "\n",
        "gbmr = GBMRegressor(\n",
        "    exec_path='/path/to/your/LightGBM/lightgbm', # change this to your LighGBM path\n",
        "    num_threads=4,\n",
        "    boosting_type = 'gbdt',\n",
        "    num_iterations=10000,\n",
        "    learning_rate=0.01,\n",
        "    num_leaves=90,\n",
        "    max_bin = 2500,\n",
        "    max_depth = -1,\n",
        "    min_data_in_leaf=5,\n",
        "    min_sum_hessian_in_leaf = 5,\n",
        "    metric='l1',\n",
        "    feature_fraction=0.7,\n",
        "    feature_fraction_seed=seed,\n",
        "    bagging_fraction=1.0,\n",
        "    bagging_freq=0,\n",
        "    bagging_seed=seed,\n",
        "    lambda_l1 = 20,\n",
        "    lambda_l2 = 0,\n",
        "    metric_freq=1,\n",
        "    early_stopping_round=200,\n",
        "    verbose= False\n",
        ")\n",
        "\n",
        "gbmr.fit(X_train, y_train, test_data=[(X_val, y_val)])"
      ]
    },
    {
      "cell_type": "code",
      "execution_count": null,
      "metadata": {
        "_cell_guid": "a47a0123-3e5c-6d9f-6507-3cb3adacfcc9"
      },
      "outputs": [],
      "source": [
        "y_test_preds = gbmr.predict(test_x)\n",
        "y_test_preds=(np.exp(y_test_preds)-lift)\n",
        "df_submission = pd.read_csv('../output/sample_submission.csv')\n",
        "df_submission['loss'] = y_test_preds\n",
        "df_submission.to_csv('submission.csv',index=False)"
      ]
    }
  ],
  "metadata": {
    "_change_revision": 0,
    "_is_fork": false,
    "kernelspec": {
      "display_name": "Python 3",
      "language": "python",
      "name": "python3"
    },
    "language_info": {
      "codemirror_mode": {
        "name": "ipython",
        "version": 3
      },
      "file_extension": ".py",
      "mimetype": "text/x-python",
      "name": "python",
      "nbconvert_exporter": "python",
      "pygments_lexer": "ipython3",
      "version": "3.5.2"
    }
  },
  "nbformat": 4,
  "nbformat_minor": 0
}