{
  "cells": [
    {
      "cell_type": "code",
      "execution_count": null,
      "metadata": {
        "_cell_guid": "7977392a-2587-d7ad-ef16-04386329a979"
      },
      "outputs": [],
      "source": [
        "# This Python 3 environment comes with many helpful analytics libraries installed\n",
        "# It is defined by the kaggle/python docker image: https://github.com/kaggle/docker-python\n",
        "# For example, here's several helpful packages to load in \n",
        "\n",
        "import numpy as np # linear algebra\n",
        "import pandas as pd # data processing, CSV file I/O (e.g. pd.read_csv)\n",
        "from scipy import stats, integrate\n",
        "import matplotlib.pyplot as plt\n",
        "from sklearn import linear_model\n",
        "\n",
        "import seaborn as sns\n",
        "\n",
        "# Input data files are available in the \"../input/\" directory.\n",
        "# For example, running this (by clicking run or pressing Shift+Enter) will list the files in the input directory\n",
        "\n",
        "from subprocess import check_output\n",
        "#print(check_output([\"ls\", \"../input\"]).decode(\"utf8\"))\n",
        "\n",
        "data_path = \"../input/\"\n",
        "data_train_df = pd.read_json(data_path + \"train.json\")\n",
        "data_test_df = pd.read_json(data_path + \"test.json\")\n",
        "# Any results you write to the current directory are saved as output.\n",
        "\n",
        "data_train_df.head(5)\n",
        "#print(\"column names =\", data_train_df.columns.values)\n",
        "#['bathrooms' 'bedrooms' 'building_id' 'created' 'description' \n",
        "#'display_address' 'features' 'interest_level' 'latitude' 'listing_id'\n",
        "#'longitude' 'manager_id' 'photos' 'price' 'street_address']\n",
        "#print(data_train_df.shape)\n",
        "#49532 rows ... need a bunch more features\n",
        "#probably about 10 more?\n"
      ]
    },
    {
      "cell_type": "code",
      "execution_count": null,
      "metadata": {
        "_cell_guid": "abcf97c4-1653-507e-f564-d5a340aeaff0"
      },
      "outputs": [],
      "source": [
        "sns.countplot(data_train_df[\"interest_level\"])"
      ]
    },
    {
      "cell_type": "code",
      "execution_count": null,
      "metadata": {
        "_cell_guid": "59c5d814-6a77-8685-fc4e-b6b4fbce6812"
      },
      "outputs": [],
      "source": [
        "sns.countplot(data_train_df[\"bathrooms\"])\n"
      ]
    },
    {
      "cell_type": "code",
      "execution_count": null,
      "metadata": {
        "_cell_guid": "c119db67-10f7-81f9-d5d0-c2f04dd7c314"
      },
      "outputs": [],
      "source": [
        "print(data_train_df.manager_id)\n",
        "#same_manager_df = data_train_df[data]\n",
        "#sns.countplot(data_train_df[\"manager_id\"])"
      ]
    },
    {
      "cell_type": "code",
      "execution_count": null,
      "metadata": {
        "_cell_guid": "5e8c612f-9784-afcd-9e2b-d6ceb2002340"
      },
      "outputs": [],
      "source": [
        "df_initial_train = data_train_df[['latitude','longitude']]\n",
        "print(df_initial_train.head(5))\n",
        "#target_initial_train = data_train_df[['interest_level']]\n",
        "target_initial_train = data_train_df.interest_level.values\n",
        "#target_initial_train.head(5)\n",
        "print(data_train_df.interest_level.values)\n",
        "#print(df_initial_train.size)\n",
        "logreg = linear_model.LogisticRegression(C=1e5)\n",
        "logreg.fit(df_initial_train,target_initial_train)\n",
        "print(logreg.score(df_initial_train,target_initial_train))\n",
        "\n",
        "h = 0.2\n",
        "\n",
        "x_min, x_max = df_initial_train['latitude'].min() - .5, df_initial_train['latitude'].max() + .5\n",
        "#print(x_min)\n",
        "y_min, y_max = df_initial_train['longitude'].min() - .5, df_initial_train['longitude'].max() + .5\n",
        "xx, yy = np.meshgrid(np.arange(x_min, x_max, h), np.arange(y_min, y_max, h))\n",
        "Z = logreg.predict(np.c_[xx.ravel(), yy.ravel()])\n",
        "print(Z)\n",
        "Z = Z.reshape(xx.shape)\n",
        "print(Z)\n",
        "plt.figure(1, figsize=(4, 3))\n",
        "print(xx)\n",
        "print(yy)\n",
        "#plt.pcolormesh(xx,yy,Z)\n",
        "#plt.pcolormesh(xx, yy, Z, cmap=plt.cm.Paired)\n",
        "#plt.contourf(xx, yy, Z, cmap=plt.cm.Paired)\n",
        "\n",
        "\n",
        "##This will not work as test set does not contain label... must run CV on training data\n",
        "#df_initial_test = data_test_df[['bedrooms','bathrooms','latitude','longitude','price']]\n",
        "#df_initial_test.head(5)\n",
        "#data_test_df.head(5)\n",
        "#target_initial_test = data_test_df[['interest_level']]\n",
        "#target_initial_test.head(5)"
      ]
    }
  ],
  "metadata": {
    "_change_revision": 0,
    "_is_fork": false,
    "kernelspec": {
      "display_name": "Python 3",
      "language": "python",
      "name": "python3"
    },
    "language_info": {
      "codemirror_mode": {
        "name": "ipython",
        "version": 3
      },
      "file_extension": ".py",
      "mimetype": "text/x-python",
      "name": "python",
      "nbconvert_exporter": "python",
      "pygments_lexer": "ipython3",
      "version": "3.6.0"
    }
  },
  "nbformat": 4,
  "nbformat_minor": 0
}