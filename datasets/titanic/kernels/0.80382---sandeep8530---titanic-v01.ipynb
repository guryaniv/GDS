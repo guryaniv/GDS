{
  "cells": [
    {
      "cell_type": "markdown",
      "metadata": {
        "_cell_guid": "31fd3563-ec10-0c18-ea10-4515af9e0463"
      },
      "source": [
        "#My first kernel"
      ]
    },
    {
      "cell_type": "code",
      "execution_count": null,
      "metadata": {
        "_cell_guid": "38a838a8-845d-814e-f16f-4fbed62a8395"
      },
      "outputs": [],
      "source": [
        "\n",
        "# This Python 3 environment comes with many helpful analytics libraries installed\n",
        "# It is defined by the kaggle/python docker image: https://github.com/kaggle/docker-python\n",
        "# For example, here's several helpful packages to load in \n",
        "#d.groupby(['state']).agg({'FATALS':sum})\n",
        "##pp.sort_values(by='crashTime',ascending=False,inplace=True)\n",
        "##print (train[['Pclass', 'Survived']].groupby(['Pclass'], as_index=False).mean())\n",
        "##dataset['Title'] = dataset['Title'].replace('Mlle', 'Miss')\n",
        "\n",
        "# Let's flatten the columns \n",
        "#pp.columns = pp.columns.get_level_values(0)\n",
        "#df.isnull().any()\n",
        "#df.loc[df.ind_nomina_ult1.isnull(), \"ind_nomina_ult1\"] = 0\n",
        "#df.loc[df.age < 18,\"age\"]  = df.loc[(df.age >= 18) & (df.age <= 30),\"age\"].mean(skipna=True)\n",
        "# Supress unnecessary warnings so that presentation looks clean\n",
        "import warnings\n",
        "warnings.filterwarnings('ignore')\n",
        "\n",
        "import numpy as np # linear algebra\n",
        "import pandas as pd # data processing, CSV file I/O (e.g. pd.read_csv)\n",
        "\n",
        "# machine learning\n",
        "from sklearn.linear_model import LogisticRegression\n",
        "from sklearn.svm import SVC, LinearSVC\n",
        "from sklearn.ensemble import RandomForestClassifier\n",
        "from sklearn.neighbors import KNeighborsClassifier\n",
        "from sklearn.naive_bayes import GaussianNB\n",
        "\n",
        "# Input data files are available in the \"../input/\" directory.\n",
        "# For example, running this (by clicking run or pressing Shift+Enter) will list the files in the input directory\n",
        "\n",
        "from subprocess import check_output\n",
        "print(check_output([\"ls\", \"../input\"]).decode(\"utf8\"))\n",
        "\n",
        "# Any results you write to the current directory are saved as output."
      ]
    },
    {
      "cell_type": "code",
      "execution_count": null,
      "metadata": {
        "_cell_guid": "6722ef82-4f8b-bc23-f3c9-4a4700b0483b"
      },
      "outputs": [],
      "source": [
        "train = pd.read_csv('../input/train.csv')\n",
        "print(train.head())"
      ]
    },
    {
      "cell_type": "code",
      "execution_count": null,
      "metadata": {
        "_cell_guid": "27661f43-26dc-2c79-d892-3c0e042f3afd"
      },
      "outputs": [],
      "source": [
        "print(train.columns.values)"
      ]
    },
    {
      "cell_type": "code",
      "execution_count": null,
      "metadata": {
        "_cell_guid": "8504f4fd-097e-da98-7e51-42571f5aea0e"
      },
      "outputs": [],
      "source": [
        "print (train[['Pclass', 'Survived']].groupby(['Pclass'], as_index=False).mean())"
      ]
    },
    {
      "cell_type": "code",
      "execution_count": null,
      "metadata": {
        "_cell_guid": "1e4fdccc-06dc-ac29-befe-c9b4764d5e01"
      },
      "outputs": [],
      "source": [
        "train['Ticket_len'] = train['Ticket'].apply(lambda x: len(x))\n",
        "train['Name_len'] = train['Name'].apply(lambda x: len(x))\n",
        "train = train.drop(['Cabin'],axis=1)\n",
        "train = train.drop(['Ticket'],axis=1)\n",
        "print(train.head())"
      ]
    },
    {
      "cell_type": "code",
      "execution_count": null,
      "metadata": {
        "_cell_guid": "67a41d30-92ed-7721-81ec-942d68eeaa7c"
      },
      "outputs": [],
      "source": [
        ""
      ]
    },
    {
      "cell_type": "code",
      "execution_count": null,
      "metadata": {
        "_cell_guid": "bdf7c16e-7da0-9323-1f3d-1fd0b34fe237"
      },
      "outputs": [],
      "source": [
        "#train.describe()\n",
        "train['Sex'].value_counts()"
      ]
    },
    {
      "cell_type": "code",
      "execution_count": null,
      "metadata": {
        "_cell_guid": "ea48e23a-8439-ff3a-1c45-d65436f4a15c"
      },
      "outputs": [],
      "source": [
        "train['Family'] = train['SibSp'] + train['Parch'] "
      ]
    },
    {
      "cell_type": "code",
      "execution_count": null,
      "metadata": {
        "_cell_guid": "a409fbff-91d6-3cb4-1505-1ff61c560ad6"
      },
      "outputs": [],
      "source": [
        "train.drop(['SibSp','Parch'],axis=1,inplace=True)\n",
        "print(train.head())"
      ]
    },
    {
      "cell_type": "code",
      "execution_count": null,
      "metadata": {
        "_cell_guid": "8f898e12-aaf2-0418-bf59-1f748ca7c02f"
      },
      "outputs": [],
      "source": [
        "train.isnull().any()\n",
        "train['Age'].isnull().sum()\n",
        "#train.shape"
      ]
    },
    {
      "cell_type": "code",
      "execution_count": null,
      "metadata": {
        "_cell_guid": "87dd51dc-c058-f3af-5ab3-b0559b9e73de"
      },
      "outputs": [],
      "source": [
        "#train[['Age','Survived']].plot.line(x='Age',y='Survived')\n",
        "#from ggplot import\n",
        "import seaborn as sns\n",
        "sns.countplot(train['Age'], hue=train['Survived'])\n",
        "\n",
        "#ggplot(aes(x='Age', y='Survived'), data=train) +\\\n",
        "##    geom_point() +\\\n",
        "#    stat_smooth(colour='blue', span=0.2)"
      ]
    },
    {
      "cell_type": "code",
      "execution_count": null,
      "metadata": {
        "_cell_guid": "b47c5189-d1b4-719c-f559-8c69c0a1e7bc"
      },
      "outputs": [],
      "source": [
        "train['Age'].describe()"
      ]
    },
    {
      "cell_type": "code",
      "execution_count": null,
      "metadata": {
        "_cell_guid": "5698d872-b90c-d96d-8568-74d6308c3025"
      },
      "outputs": [],
      "source": [
        "#train.loc[train['Age'].isnull(),'Age'] = train['Age'].mean()\n",
        "age_avg = train['Age'].mean()\n",
        "age_std = train['Age'].std()\n",
        "age_null_count = train['Age'].isnull().sum()\n",
        "age_null_random_list = np.random.randint(age_avg - age_std, age_avg + age_std, size=age_null_count)\n",
        "train['Age'][np.isnan(train['Age'])] = age_null_random_list\n",
        "train['Age'] = train['Age'].astype(int)"
      ]
    },
    {
      "cell_type": "code",
      "execution_count": null,
      "metadata": {
        "_cell_guid": "29baf122-63f2-f144-d2f0-4bcb6dbe8a1e"
      },
      "outputs": [],
      "source": [
        "train['Age'].isnull().any()\n",
        "train.isnull().any()\n",
        "train['Embarked'].value_counts()\n",
        "train['Embarked'].isnull().sum()\n",
        "train.loc[train['Embarked'].isnull(),'Embarked'] = 's'\n",
        "train['Embarked'].value_counts()\n",
        "train.loc[train['Embarked']=='s','Embarked'] = 'S'\n",
        "train['Embarked'].value_counts()"
      ]
    },
    {
      "cell_type": "code",
      "execution_count": null,
      "metadata": {
        "_cell_guid": "6eba115c-6289-529b-b102-acf2ab20a79c"
      },
      "outputs": [],
      "source": [
        "train.isnull().any()"
      ]
    },
    {
      "cell_type": "code",
      "execution_count": null,
      "metadata": {
        "_cell_guid": "9868b923-170a-40c3-f27b-4d4c568bee64"
      },
      "outputs": [],
      "source": [
        "test = pd.read_csv('../input/test.csv')\n",
        "print(test.head())"
      ]
    },
    {
      "cell_type": "code",
      "execution_count": null,
      "metadata": {
        "_cell_guid": "c5c77d91-ffe8-2c58-aff5-41d6df9c37e4"
      },
      "outputs": [],
      "source": [
        "test['Ticket_len'] = test['Ticket'].apply(lambda x: len(x))\n",
        "test['Name_len'] = test['Name'].apply(lambda x: len(x))\n",
        "test.drop(['Ticket','Cabin'],axis=1,inplace=True)"
      ]
    },
    {
      "cell_type": "code",
      "execution_count": null,
      "metadata": {
        "_cell_guid": "5ada7ad3-c43d-a847-099b-a5941207d83c"
      },
      "outputs": [],
      "source": [
        "print(test.head())"
      ]
    },
    {
      "cell_type": "code",
      "execution_count": null,
      "metadata": {
        "_cell_guid": "77f78aca-b481-7a23-f2d9-edc94384ad77"
      },
      "outputs": [],
      "source": [
        "test.loc[test['Embarked'].isnull(),'Embarked'] = 'S'\n",
        "#test.loc[test['Age'].isnull(),'Age'] = test['Age'].mean()\n",
        "age_avg = test['Age'].mean()\n",
        "age_std = test['Age'].std()\n",
        "age_null_count = test['Age'].isnull().sum()\n",
        "age_null_random_list = np.random.randint(age_avg - age_std, age_avg + age_std, size=age_null_count)\n",
        "test['Age'][np.isnan(test['Age'])] = age_null_random_list\n",
        "test['Age'] = test['Age'].astype(int)\n",
        "\n",
        "test.isnull().any()"
      ]
    },
    {
      "cell_type": "code",
      "execution_count": null,
      "metadata": {
        "_cell_guid": "126ab05a-f42a-8e26-1ba8-b7fb9a8e25f8"
      },
      "outputs": [],
      "source": [
        "test.loc[test['Fare'].isnull(),'Fare'] = test['Fare'].mean()"
      ]
    },
    {
      "cell_type": "code",
      "execution_count": null,
      "metadata": {
        "_cell_guid": "124d83cf-d201-e17d-58d0-47cb43e22f9e"
      },
      "outputs": [],
      "source": [
        "test.isnull().any()"
      ]
    },
    {
      "cell_type": "code",
      "execution_count": null,
      "metadata": {
        "_cell_guid": "531f36b5-5a44-020a-4372-50be92c7ba1d"
      },
      "outputs": [],
      "source": [
        "x = {'male': 1,'female': 0}\n",
        "#d['state']=d['STATE'].apply(lambda x: states[x])\n",
        "test['Sex']=test['Sex'].apply(lambda y: x[y])"
      ]
    },
    {
      "cell_type": "code",
      "execution_count": null,
      "metadata": {
        "_cell_guid": "38d4c6d1-4ef7-bbec-a884-fa3c9422a8be"
      },
      "outputs": [],
      "source": [
        "e = {'S': 0,'C': 1,'Q': 2}\n",
        "test['Embarked']=test['Embarked'].apply(lambda y: e[y])"
      ]
    },
    {
      "cell_type": "code",
      "execution_count": null,
      "metadata": {
        "_cell_guid": "7cebd486-49d3-c4f9-c35a-75980f79e441"
      },
      "outputs": [],
      "source": [
        "x = {'male': 1,'female': 0}\n",
        "#d['state']=d['STATE'].apply(lambda x: states[x])\n",
        "train['Sex']=train['Sex'].apply(lambda y: x[y])\n",
        "\n",
        "e = {'S': 0,'C': 1,'Q': 2}\n",
        "train['Embarked']=train['Embarked'].apply(lambda b: e[b])"
      ]
    },
    {
      "cell_type": "code",
      "execution_count": null,
      "metadata": {
        "_cell_guid": "0b657336-b629-b09c-995a-8b55fcc5ef88"
      },
      "outputs": [],
      "source": [
        "test['Family'] = test['SibSp'] + test['Parch'] \n",
        "test.drop(['SibSp','Parch'],axis=1,inplace=True)"
      ]
    },
    {
      "cell_type": "code",
      "execution_count": null,
      "metadata": {
        "_cell_guid": "08bdae70-3efe-0496-48b5-c40eddb28211"
      },
      "outputs": [],
      "source": [
        "test['Fare']=test['Fare'].astype(int)\n",
        "test['Age']=test['Age'].astype(int)"
      ]
    },
    {
      "cell_type": "code",
      "execution_count": null,
      "metadata": {
        "_cell_guid": "4c914fe8-7109-e5fc-bede-29e8e096f271"
      },
      "outputs": [],
      "source": [
        "train['Fare']=train['Fare'].astype(int)\n",
        "train['Age']=train['Age'].astype(int)"
      ]
    },
    {
      "cell_type": "code",
      "execution_count": null,
      "metadata": {
        "_cell_guid": "d9702ce1-73bf-e755-3d6b-c397d6765f7c"
      },
      "outputs": [],
      "source": [
        "print(test.head())\n",
        "#train = train.drop(['Name','Fare','Cabin'],axis=1)\n",
        "#train = train.drop(['Ticket'],axis=1)\n",
        "print(train.head())"
      ]
    },
    {
      "cell_type": "code",
      "execution_count": null,
      "metadata": {
        "_cell_guid": "6bd2508e-3894-77d8-e3e0-b28611ce1699"
      },
      "outputs": [],
      "source": [
        "#test_cat = test\n",
        "#test_cat['CategoricalFare'] = pd.qcut(test_cat['Fare'], 4)\n",
        "#print (test_cat[['CategoricalFare', 'Survived']].groupby(['CategoricalFare'], as_index=False).mean())"
      ]
    },
    {
      "cell_type": "code",
      "execution_count": null,
      "metadata": {
        "_cell_guid": "44f51258-72cf-7b49-3430-82940848675f"
      },
      "outputs": [],
      "source": [
        "# Mapping Fare\n",
        "train.loc[ train['Fare'] <= 7, 'Fare'] \t\t\t\t\t\t        = 0\n",
        "train.loc[(train['Fare'] > 7) & (train['Fare'] <= 14), 'Fare'] = 1\n",
        "train.loc[(train['Fare'] > 14) & (train['Fare'] <= 31), 'Fare']   = 2\n",
        "train.loc[ train['Fare'] > 31, 'Fare'] \t\t\t\t\t\t\t        = 3\n",
        "train['Fare'] = train['Fare'].astype(int)\n",
        "    \n",
        "    # Mapping Age\n",
        "train.loc[ train['Age'] <= 16, 'Age'] \t\t\t\t\t       = 0\n",
        "train.loc[(train['Age'] > 16) & (train['Age'] <= 32), 'Age'] = 1\n",
        "train.loc[(train['Age'] > 32) & (train['Age'] <= 48), 'Age'] = 2\n",
        "train.loc[(train['Age'] > 48) & (train['Age'] <= 64), 'Age'] = 3\n",
        "train.loc[ train['Age'] > 64, 'Age'] = 4\n",
        "    \n",
        "    # Mapping Fare\n",
        "test.loc[test['Fare'] <= 7, 'Fare'] \t\t\t\t\t\t        = 0\n",
        "test.loc[(test['Fare'] > 7) & (test['Fare'] <= 14), 'Fare'] = 1\n",
        "test.loc[(test['Fare'] > 14) & (test['Fare'] <= 31), 'Fare']   = 2\n",
        "test.loc[ test['Fare'] > 31, 'Fare'] \t\t\t\t\t\t\t        = 3\n",
        "test['Fare'] = test['Fare'].astype(int)\n",
        "    \n",
        "    # Mapping Age\n",
        "test.loc[ test['Age'] <= 16, 'Age'] \t\t\t\t\t       = 0\n",
        "test.loc[(test['Age'] > 16) & (test['Age'] <= 32), 'Age'] = 1\n",
        "test.loc[(test['Age'] > 32) & (test['Age'] <= 48), 'Age'] = 2\n",
        "test.loc[(test['Age'] > 48) & (test['Age'] <= 64), 'Age'] = 3\n",
        "test.loc[ test['Age'] > 64, 'Age'] = 4\n",
        "\n",
        "    # Mapping Family\n",
        "train.loc[(train['Family'] > 0) & (train['Family'] <= 3), 'Family'] = 1\n",
        "train.loc[ train['Family'] > 3, 'Family'] = 2\n",
        "\n",
        "    # Mapping Family\n",
        "test.loc[(test['Family'] > 0) & (test['Family'] <= 3), 'Family'] = 1\n",
        "test.loc[ test['Family'] > 3, 'Family'] = 2\n",
        "\n",
        "    # Mapping Name_len\n",
        "test.loc[ test['Name_len'] <= 19, 'Name_len']       = 0\n",
        "test.loc[(test['Name_len'] > 19) & (test['Name_len'] <= 23), 'Name_len'] = 1\n",
        "test.loc[(test['Name_len'] > 23) & (test['Name_len'] <= 27), 'Name_len'] = 2\n",
        "test.loc[(test['Name_len'] > 27) & (test['Name_len'] <= 32), 'Name_len'] = 3\n",
        "test.loc[ test['Name_len'] > 32, 'Name_len'] = 4\n",
        "         \n",
        "         \n",
        "    # Mapping Name_len\n",
        "train.loc[ train['Name_len'] <= 19, 'Name_len']       = 0\n",
        "train.loc[(train['Name_len'] > 19) & (train['Name_len'] <= 23), 'Name_len'] = 1\n",
        "train.loc[(train['Name_len'] > 23) & (train['Name_len'] <= 27), 'Name_len'] = 2\n",
        "train.loc[(train['Name_len'] > 27) & (train['Name_len'] <= 32), 'Name_len'] = 3\n",
        "train.loc[ train['Name_len'] > 32, 'Name_len'] = 4\n",
        "\n",
        "\n",
        "         "
      ]
    },
    {
      "cell_type": "code",
      "execution_count": null,
      "metadata": {
        "_cell_guid": "302d959d-2e47-a541-b450-938aaa17da24"
      },
      "outputs": [],
      "source": [
        "import re as re\n",
        "def get_title(name):\n",
        "\ttitle_search = re.search(' ([A-Za-z]+)\\.', name)\n",
        "\t# If the title exists, extract and return it.\n",
        "\tif title_search:\n",
        "\t\treturn title_search.group(1)\n",
        "\treturn \"\"\n",
        "\n",
        "#for dataset in train:\n",
        "#    print(dataset)\n",
        "train['Title'] = train['Name'].apply(get_title)\n",
        "\n",
        "print(pd.crosstab(train['Title'], train['Sex']))"
      ]
    },
    {
      "cell_type": "code",
      "execution_count": null,
      "metadata": {
        "_cell_guid": "e8429c6d-4148-fff3-425b-b01bc98b249b"
      },
      "outputs": [],
      "source": [
        "train['Title'] = train['Title'].replace(['Lady', 'Countess','Capt', 'Col',\\\n",
        " \t'Don', 'Dr', 'Major', 'Rev', 'Sir', 'Jonkheer', 'Dona'], 'Rare')\n",
        "\n",
        "train['Title'] = train['Title'].replace('Mlle', 'Miss')\n",
        "train['Title'] = train['Title'].replace('Ms', 'Miss')\n",
        "train['Title'] = train['Title'].replace('Mme', 'Mrs')\n",
        "\n",
        "print (train[['Title', 'Survived']].groupby(['Title'], as_index=False).mean())"
      ]
    },
    {
      "cell_type": "code",
      "execution_count": null,
      "metadata": {
        "_cell_guid": "30a7fcad-6c3e-99ff-6f46-4e10b042c905"
      },
      "outputs": [],
      "source": [
        "title_mapping = {\"Mr\": 1, \"Miss\": 2, \"Mrs\": 3, \"Master\": 4, \"Rare\": 5}\n",
        "train['Title'] = train['Title'].map(title_mapping)\n",
        "train['Title'] = train['Title'].fillna(0)"
      ]
    },
    {
      "cell_type": "code",
      "execution_count": null,
      "metadata": {
        "_cell_guid": "38227241-427e-3856-5582-3f7951adc264"
      },
      "outputs": [],
      "source": [
        "test['Title'] = test['Name'].apply(get_title)\n",
        "test['Title'] = test['Title'].replace(['Lady', 'Countess','Capt', 'Col',\\\n",
        " \t'Don', 'Dr', 'Major', 'Rev', 'Sir', 'Jonkheer', 'Dona'], 'Rare')\n",
        "\n",
        "test['Title'] = test['Title'].replace('Mlle', 'Miss')\n",
        "test['Title'] = test['Title'].replace('Ms', 'Miss')\n",
        "test['Title'] = test['Title'].replace('Mme', 'Mrs')\n",
        "\n",
        "#print (test[['Title', 'Survived']].groupby(['Title'], as_index=False).mean())\n",
        "\n",
        "title_mapping = {\"Mr\": 1, \"Miss\": 2, \"Mrs\": 3, \"Master\": 4, \"Rare\": 5}\n",
        "test['Title'] = test['Title'].map(title_mapping)\n",
        "test['Title'] = test['Title'].fillna(0)"
      ]
    },
    {
      "cell_type": "code",
      "execution_count": null,
      "metadata": {
        "_cell_guid": "a198818d-89f5-a14c-1970-5ea73ab2a436"
      },
      "outputs": [],
      "source": [
        "train = train.drop(\"Name\",axis=1)\n",
        "test = test.drop(\"Name\",axis=1)"
      ]
    },
    {
      "cell_type": "code",
      "execution_count": null,
      "metadata": {
        "_cell_guid": "f642c131-86e5-495b-be05-44acea012fa1"
      },
      "outputs": [],
      "source": [
        "print(test.head())\n",
        "print(train.head())"
      ]
    },
    {
      "cell_type": "code",
      "execution_count": null,
      "metadata": {
        "_cell_guid": "feb7053f-93ad-e4a7-ff99-51a0feedc9fd"
      },
      "outputs": [],
      "source": [
        "train['Survived'].groupby(pd.qcut(train['Ticket_len'], 4)).mean()\n",
        "#train['Ticket_len'].groupby(train['Survived']).mean()"
      ]
    },
    {
      "cell_type": "code",
      "execution_count": null,
      "metadata": {
        "_cell_guid": "ed7bb076-a382-bcbe-ac7f-cf277bf00481"
      },
      "outputs": [],
      "source": [
        "X_train = train.drop(\"Survived\",axis=1)\n",
        "Y_train = train[\"Survived\"]\n",
        "X_test  = test.drop(\"PassengerId\",axis=1).copy()"
      ]
    },
    {
      "cell_type": "code",
      "execution_count": null,
      "metadata": {
        "_cell_guid": "077bbd1b-68b3-beab-e51a-27769a117ece"
      },
      "outputs": [],
      "source": [
        "X_train = X_train.drop(\"PassengerId\",axis=1)"
      ]
    },
    {
      "cell_type": "code",
      "execution_count": null,
      "metadata": {
        "_cell_guid": "99abc71f-2780-6544-4049-e042ebeb2592"
      },
      "outputs": [],
      "source": [
        "X_train = X_train.drop(\"Embarked\",axis=1)\n",
        "X_test = X_test.drop(\"Embarked\",axis=1)"
      ]
    },
    {
      "cell_type": "code",
      "execution_count": null,
      "metadata": {
        "_cell_guid": "2f6c3f1a-ba91-c6f4-0788-8c5d96bae517"
      },
      "outputs": [],
      "source": [
        "train['Ticket_len'].value_counts()"
      ]
    },
    {
      "cell_type": "code",
      "execution_count": null,
      "metadata": {
        "_cell_guid": "9c86bc50-3954-a64c-2aad-c0aeb9dea26c"
      },
      "outputs": [],
      "source": [
        "print(X_train.head())\n",
        "print(Y_train.head())\n",
        "print(X_test.head())"
      ]
    },
    {
      "cell_type": "code",
      "execution_count": null,
      "metadata": {
        "_cell_guid": "91998faf-31dc-5301-4c5a-8b393fa16a79"
      },
      "outputs": [],
      "source": [
        "## Preprocessing\n",
        "from sklearn import preprocessing\n",
        "## SCALING\n",
        "X_train_scale = preprocessing.scale(X_train)\n",
        "X_test_scale = preprocessing.scale(X_test)\n",
        "\n",
        "## StandardScaler\n",
        "#normalizer1 = preprocessing.StandardScaler().fit(X_train)\n",
        "#normalizer2 = preprocessing.StandardScaler().fit(X_test)\n",
        "\n",
        "#X_train_stdscale = normalizer1.transform(X_train)\n",
        "#X_test_stdscale = normalizer1.transform(X_test)\n",
        "\n",
        "\n",
        "\n",
        "## normalizing\n",
        "#normalizer1 = preprocessing.Normalizer().fit(X_train)\n",
        "#normalizer2 = preprocessing.Normalizer().fit(X_test)\n",
        "\n",
        "#X_train_norm = normalizer1.transform(X_train)\n",
        "#X_test_norm = normalizer1.transform(X_test)"
      ]
    },
    {
      "cell_type": "code",
      "execution_count": null,
      "metadata": {
        "_cell_guid": "022c70c4-26a2-3497-c5bf-53ebcd8cd6f1"
      },
      "outputs": [],
      "source": [
        ""
      ]
    },
    {
      "cell_type": "code",
      "execution_count": null,
      "metadata": {
        "_cell_guid": "031b08bb-a69b-13db-34ea-a420e702e5db"
      },
      "outputs": [],
      "source": [
        "from sklearn.model_selection import GridSearchCV\n",
        "from sklearn.ensemble import RandomForestClassifier\n",
        "rf = RandomForestClassifier(max_features='auto', oob_score=True, random_state=1, n_jobs=-1)\n",
        "param_grid = { \"criterion\" : [\"gini\", \"entropy\"], \"min_samples_leaf\" : [1, 5], \"min_samples_split\" : [2, 4, 10, 12], \"n_estimators\": [50, 100, 400, 700]}\n",
        "gs = GridSearchCV(estimator=rf, param_grid=param_grid, scoring='accuracy', cv=2, n_jobs=-1)\n",
        "gs = gs.fit(X_train_scale, Y_train)\n",
        "print(gs.best_score_)\n",
        "print(gs.best_params_)\n",
        "print(gs.cv_results_)"
      ]
    },
    {
      "cell_type": "code",
      "execution_count": null,
      "metadata": {
        "_cell_guid": "da8cff54-6956-3324-1190-52c26d0d85f9"
      },
      "outputs": [],
      "source": [
        "print('Hi')"
      ]
    },
    {
      "cell_type": "code",
      "execution_count": null,
      "metadata": {
        "_cell_guid": "adbe42d2-ff4e-d1ab-2eca-33e1b0c29689"
      },
      "outputs": [],
      "source": [
        "#logreg = LogisticRegression()\n",
        "    \n",
        "#logreg.fit(X_train_scale, Y_train)\n",
        "\n",
        "#Y_pred = logreg.predict(X_test_scale)\n",
        "\n",
        "#logreg.score(X_train_scale, Y_train)"
      ]
    },
    {
      "cell_type": "code",
      "execution_count": null,
      "metadata": {
        "_cell_guid": "f34a6373-dd69-3cd2-6469-c0da442fd166"
      },
      "outputs": [],
      "source": [
        "# Random Forests\n",
        "#params = [{'criterion': 'gini', 'min_samples_leaf': 1, 'min_samples_split': 4, 'n_estimators': 100}]\n",
        "random_forest = RandomForestClassifier(criterion='gini', \n",
        "                                      min_samples_leaf=1,\n",
        "                                      min_samples_split=10,\n",
        "                                      n_estimators=400,\n",
        "                                      max_features='auto',\n",
        "                                      oob_score=True,\n",
        "                                      random_state=1,\n",
        "                                      n_jobs=-1)\n",
        "\n",
        "random_forest.fit(X_train_scale, Y_train)\n",
        "\n",
        "Y_pred = random_forest.predict(X_test_scale)\n",
        "\n",
        "random_forest.score(X_train_scale, Y_train)\n",
        "\n",
        "## after normalization\n",
        "\n",
        "#random_forest.fit(X_train_stdscale, Y_train)\n",
        "\n",
        "#Y_pred_stdscale = random_forest.predict(X_test_stdscale)\n",
        "\n",
        "#random_forest.score(X_train_stdscale, Y_train)\n",
        "print(\"%.4f\" % random_forest.oob_score_)"
      ]
    },
    {
      "cell_type": "code",
      "execution_count": null,
      "metadata": {
        "_cell_guid": "ca37c297-6f0a-b52a-d72f-ce09b948673c"
      },
      "outputs": [],
      "source": [
        "random_forest = RandomForestClassifier(n_estimators=100)\n",
        "\n",
        "random_forest.fit(X_train, Y_train)\n",
        "\n",
        "Y_pred_orig = random_forest.predict(X_test)\n",
        "\n",
        "random_forest.score(X_train, Y_train)"
      ]
    },
    {
      "cell_type": "code",
      "execution_count": null,
      "metadata": {
        "_cell_guid": "3e5125d7-e1d7-561f-f2e0-8f096a583fd8"
      },
      "outputs": [],
      "source": [
        "random_forest = RandomForestClassifier(n_estimators=100)\n",
        "\n",
        "random_forest.fit(X_train_scale, Y_train)\n",
        "\n",
        "Y_pred_scale1 = random_forest.predict(X_test_scale)\n",
        "\n",
        "random_forest.score(X_train_scale, Y_train)"
      ]
    },
    {
      "cell_type": "code",
      "execution_count": null,
      "metadata": {
        "_cell_guid": "ffe438d6-58c5-acb4-85c4-ad70bc236b9b"
      },
      "outputs": [],
      "source": [
        "print(X_train.columns)\n",
        "fimpo = random_forest.feature_importances_\n",
        "print(fimpo)\n",
        "testimpo = pd.DataFrame({\n",
        "        \"Columns\": X_train.columns,\n",
        "        \"Importance\": fimpo\n",
        "         })\n",
        "print(testimpo)\n",
        "#sns.countplot(testimpo['Columns'], hue=testimpo['Importance'])\n",
        "sns.barplot(x=testimpo['Columns'],y=testimpo['Importance'])\n",
        "from ggplot import *\n",
        "#ggplot(aes(x='Columns', y='Importance'), data=testimpo) +\\\n",
        "#    geom_point() +\\\n",
        "#    stat_smooth(colour='blue', span=0.2)"
      ]
    },
    {
      "cell_type": "code",
      "execution_count": null,
      "metadata": {
        "_cell_guid": "1939740f-dd87-94e6-a099-d27c0e15cbed"
      },
      "outputs": [],
      "source": [
        "#test1 = test\n",
        "#test1['Survived'] = Y_pred\n",
        "#test1 = test1['PassengerId','Survived']\n",
        "#test1 = test[['PassengerId','Survived']]\n",
        "test2 = pd.DataFrame({\n",
        "        \"PassengerId\": test[\"PassengerId\"],\n",
        "        \"Survived\": Y_pred\n",
        "         })\n",
        "#test2.reset_index(drop=True,inplace=True)\n",
        "#test2.set_index('PassengerId', inplace=True)\n",
        "#print(test2)\n",
        "test2.to_csv(\"Predictions_scale1.csv\", index=False)\n",
        "\n",
        "test3 = pd.DataFrame({\n",
        "        \"PassengerId\": test[\"PassengerId\"],\n",
        "        \"Survived\": Y_pred_orig\n",
        "         })\n",
        "\n",
        "test3.to_csv(\"Prediction.csv\", index=False)\n",
        "\n",
        "test4 = pd.DataFrame({\n",
        "        \"PassengerId\": test[\"PassengerId\"],\n",
        "        \"Survived\": Y_pred_scale1\n",
        "         })\n",
        "\n",
        "test4.to_csv(\"Prediction_scale2.csv\", index=False)\n",
        "\n",
        "#test3 = test\n",
        "#test3['Survived'] = Y_pred_norm\n",
        "#test4 = pd.DataFrame({\n",
        "#        \"PassengerId\": test[\"PassengerId\"],\n",
        "#        \"Survived\": Y_pred_stdscale\n",
        "#         })\n",
        "#test4.reset_index(drop=True,inplace=True)\n",
        "#del test4['index']\n",
        "#test4.to_csv(\"Predictions_stdscale2.csv\")\n",
        "\n",
        "#test5 = pd.DataFrame({\n",
        "#        \"PassengerId\": test[\"PassengerId\"],\n",
        "#        \"Survived\": Y_pred_orig\n",
        "#         })\n",
        "#test5.reset_index(drop=True,inplace=True)\n",
        "#del test4['index']\n",
        "#test5.to_csv(\"Predictions_categ2.csv\")\n",
        "\n",
        "\n",
        "### Without preprocessing 74%\n",
        "### after scaling - 77 %\n",
        "### after normalization - 74% (Doesn't help much)"
      ]
    },
    {
      "cell_type": "code",
      "execution_count": null,
      "metadata": {
        "_cell_guid": "faafea7a-6a34-3e0c-bc3a-ad20fe437ec5"
      },
      "outputs": [],
      "source": [
        ""
      ]
    }
  ],
  "metadata": {
    "_change_revision": 0,
    "_is_fork": false,
    "kernelspec": {
      "display_name": "Python 3",
      "language": "python",
      "name": "python3"
    },
    "language_info": {
      "codemirror_mode": {
        "name": "ipython",
        "version": 3
      },
      "file_extension": ".py",
      "mimetype": "text/x-python",
      "name": "python",
      "nbconvert_exporter": "python",
      "pygments_lexer": "ipython3",
      "version": "3.6.0"
    }
  },
  "nbformat": 4,
  "nbformat_minor": 0
}