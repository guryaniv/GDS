{"cells":[
 {
  "cell_type": "code",
  "execution_count": null,
  "metadata": {
   "collapsed": true
  },
  "outputs": [],
  "source": "%matplotlib inline"
 },
 {
  "cell_type": "markdown",
  "metadata": {},
  "source": "# A Journey through Prudential\nAuthor: BobC\nDate: Dec 16, 2015\n\nInspired by https://www.kaggle.com/omarelgabry/rossmann-store-sales/a-journey-through-rossmann-stores"
 },
 {
  "cell_type": "code",
  "execution_count": null,
  "metadata": {
   "collapsed": false
  },
  "outputs": [],
  "source": "# Imports\n\n#utils\nimport os\nimport pylab\n\n# pandas\nimport pandas as pd\nfrom pandas import Series,DataFrame\n\n# numpy, matplotlib, seaborn\nimport numpy as np\nimport matplotlib.pyplot as plt\nimport seaborn as sns\nsns.set_style('whitegrid')\n%matplotlib inline"
 },
 {
  "cell_type": "code",
  "execution_count": null,
  "metadata": {
   "collapsed": false
  },
  "outputs": [],
  "source": "# read the datasets (only looking at train for now)\ntrain  = pd.read_csv(\"../input/train.csv\")\n\n#test      = pd.read_csv(\"../input/test.csv\")"
 },
 {
  "cell_type": "markdown",
  "metadata": {},
  "source": "\n## Class Imbalance\n\nClass imbalance is something to be aware of when training."
 },
 {
  "cell_type": "code",
  "execution_count": null,
  "metadata": {
   "collapsed": false
  },
  "outputs": [],
  "source": "sns.countplot(x='Response',data=train,palette=\"husl\", order = range(1,9))"
 },
 {
  "cell_type": "markdown",
  "metadata": {},
  "source": "## Missing Data\n\nThere's a lot of missing data.   Let's take a look\n\nFirst, let's find the columns with missing data.  As you can see, only 1% of the rows for Medical_History_10 have values"
 },
 {
  "cell_type": "code",
  "execution_count": null,
  "metadata": {
   "collapsed": false
  },
  "outputs": [],
  "source": "# Let's look at the size of the train dataset\n\nprint(\"train:  nrows %d, ncols %d\" % train.shape)"
 },
 {
  "cell_type": "code",
  "execution_count": null,
  "metadata": {
   "collapsed": false
  },
  "outputs": [],
  "source": "# List features with missing values\n\nprint(\"%20s \\tCount \\tPct missing\" % 'Feature')\nfor column_name, column in train.transpose().iterrows():\n    naCount = sum(column.isnull())\n    if naCount > 0:\n       #print column_name, naCount, \"Percent missing: %f%%\" % 100.*naCount/train.shape[0]\n       print(\"%20s \\t%5d  \\t%2.2f%%\" % (column_name, naCount, 100.*naCount/train.shape[0]))"
 },
 {
  "cell_type": "markdown",
  "metadata": {},
  "source": "\n\n### Plots for those variables with large amounts of missing data\n\n\n#### Employment History\n"
 },
 {
  "cell_type": "code",
  "execution_count": null,
  "metadata": {
   "collapsed": false
  },
  "outputs": [],
  "source": "# Plot distributions for Employment_Info_4 and Employment_Info_6\n\nfig, (axis1,axis2) = plt.subplots(1,2,figsize=(15,4))\ntrain[\"Employment_Info_4\"].plot(kind='hist',bins=20,xlim=(0,1),ax=axis1)\naxis1.set_xlabel(\"Employment_Info_4\")\naxis1.set_ylabel(\"Count\")\ntrain[\"Employment_Info_6\"].plot(kind='hist',bins=50,xlim=(0,1),ax=axis2)\naxis2.set_xlabel(\"Employment_Info_6\")\naxis2.set_ylabel(\"Count\")"
 },
 {
  "cell_type": "markdown",
  "metadata": {},
  "source": "Interesting distribution for *Employment_Info_6* (above)\n\n\n### Insurance History\n\n*Insurance_History_5* has a few large outliers, otherwise most of the data is is less than 0.02.  The data appears to be quantized"
 },
 {
  "cell_type": "code",
  "execution_count": null,
  "metadata": {
   "collapsed": false
  },
  "outputs": [],
  "source": "# Is there anything to learn in the data quantization for Insurance_History_5?\n\nx = min(train[\"Insurance_History_5\"][train[\"Insurance_History_5\"]>0])\nprint(\"Min value > 0: %e   1/(Min value > 0) %f\" % (x,1./x))"
 },
 {
  "cell_type": "code",
  "execution_count": null,
  "metadata": {
   "collapsed": false
  },
  "outputs": [],
  "source": "# List all of the Insurance_History_5 values greater than 0.02  (Max is 1.0)\n\ntrain[\"Insurance_History_5\"][train[\"Insurance_History_5\"]>0.02]"
 },
 {
  "cell_type": "code",
  "execution_count": null,
  "metadata": {
   "collapsed": false
  },
  "outputs": [],
  "source": "# Plot distribution for Insurance_History_5 with two different x-axis scalings\n\nfig, (axis1,axis2) = plt.subplots(1,2,figsize=(15,4))\ntrain[\"Insurance_History_5\"].plot(kind='hist',bins=20,xlim=(0,1),ax=axis1)\naxis1.set_xlabel(\"Insurance_History_5\")\naxis1.set_ylabel(\"Count\")\n\ntrain[\"Insurance_History_5\"][train[\"Insurance_History_5\"]<0.034].plot(kind='hist',bins=60,xlim=(0,.05),ax=axis2)\n#np.log10(train[\"Insurance_History_5\"]+1).plot(kind='hist',bins=100,ax=axis2)\naxis2.set_xlabel(\"Insurance_History_5 (scaled X)\")\naxis2.set_ylabel(\"Count\")"
 },
 {
  "cell_type": "code",
  "execution_count": null,
  "metadata": {
   "collapsed": false
  },
  "outputs": [],
  "source": "pylab.rcParams['figure.figsize'] = (12.0, 8.0)\nfig, axisArr = plt.subplots(2,2)\ntrain[\"Family_Hist_2\"].plot(kind='hist',bins=100,xlim=(0,1),ax=axisArr[0,0])\naxisArr[0,0].set_xlabel(\"Family_Hist_2\")\naxisArr[0,0].set_ylabel(\"Count\")\ntrain[\"Family_Hist_3\"].plot(kind='hist',bins=100,xlim=(0,1),ax=axisArr[0,1])\naxisArr[0,1].set_xlabel(\"Family_Hist_3\")\naxisArr[0,1].set_ylabel(\"Count\")\n\ntrain[\"Family_Hist_4\"].plot(kind='hist',bins=100,xlim=(0,1),ax=axisArr[1,0])\naxisArr[1,0].set_xlabel(\"Family_Hist_4\")\naxisArr[1,0].set_ylabel(\"Count\")\ntrain[\"Family_Hist_5\"].plot(kind='hist',bins=100,xlim=(0,1),ax=axisArr[1,1])\naxisArr[1,1].set_xlabel(\"Family_Hist_5\")\naxisArr[1,1].set_ylabel(\"Count\")"
 },
 {
  "cell_type": "code",
  "execution_count": null,
  "metadata": {
   "collapsed": false
  },
  "outputs": [],
  "source": "# Multiplying the data by 71 turns Family_Hist_4 into integer data\n# So the original data may have had a range of 0-71 (assuming the data hasn't been shifted)\ntrain[\"Family_Hist_4\"][1:10]*71"
 },
 {
  "cell_type": "markdown",
  "metadata": {},
  "source": "\n\n### Medical History\n\nWorth noting: *Medical History features with missing values aren't normalized. The max value is 240.*"
 },
 {
  "cell_type": "code",
  "execution_count": null,
  "metadata": {
   "collapsed": false
  },
  "outputs": [],
  "source": "train[\"Medical_History_1\"].plot(kind='hist',xlim=(0,250),bins=100)\nplt.xlabel(\"Medical_History_1\")\nplt.ylabel(\"Count\")"
 },
 {
  "cell_type": "code",
  "execution_count": null,
  "metadata": {
   "collapsed": false
  },
  "outputs": [],
  "source": "# Plot distributions for Medical_History_10, Medical_History_15, Medical_History_24, Medical_History_32\n\npylab.rcParams['figure.figsize'] = (12.0, 8.0)\nfig, axisArr = plt.subplots(2,2)\ntrain[\"Medical_History_10\"].plot(kind='hist',bins=100,xlim=(0,250),ax=axisArr[0,0])\naxisArr[0,0].set_xlabel(\"Medical_History_10\")\naxisArr[0,0].set_ylabel(\"Count\")\ntrain[\"Medical_History_15\"].plot(kind='hist',bins=100,xlim=(0,250),ax=axisArr[0,1])\naxisArr[0,1].set_xlabel(\"Medical_History_15\")\naxisArr[0,1].set_ylabel(\"Count\")\n\ntrain[\"Medical_History_24\"].plot(kind='hist',bins=100,xlim=(0,250),ax=axisArr[1,0])\naxisArr[1,0].set_xlabel(\"Medical_History_24\")\naxisArr[1,0].set_ylabel(\"Count\")\ntrain[\"Medical_History_32\"].plot(kind='hist',bins=100,xlim=(0,250),ax=axisArr[1,1])\naxisArr[1,1].set_xlabel(\"Medical_History_32\")\naxisArr[1,1].set_ylabel(\"Count\")"
 },
 {
  "cell_type": "markdown",
  "metadata": {},
  "source": "\n\n## More Medical History Fun\n\nThe features below don't have missing values, but do have interesting distributions.  They appear to be binary, with somewhat arbitrary integer offsets and scalings.  This makes them somewhat different that the medical histories plotted above.  Those are binomial and appear to have continous values."
 },
 {
  "cell_type": "code",
  "execution_count": null,
  "metadata": {
   "collapsed": false
  },
  "outputs": [],
  "source": "# Plot the distributions for Medical_History_33, Medical_History_38, Medical_History_39 and Medical_History_40\n\npylab.rcParams['figure.figsize'] = (12.0, 8.0)\nfig, axisArr = plt.subplots(2,2)\ntrain[\"Medical_History_33\"].plot(kind='hist',bins=20,xlim=(0,3),ax=axisArr[0,0])\naxisArr[0,0].set_xlabel(\"Medical_History_33\")\naxisArr[0,0].set_ylabel(\"Count\")\ntrain[\"Medical_History_38\"].plot(kind='hist',bins=20,xlim=(0,2),ax=axisArr[0,1])\naxisArr[0,1].set_xlabel(\"Medical_History_38\")\naxisArr[0,1].set_ylabel(\"Count\")\n\ntrain[\"Medical_History_39\"].plot(kind='hist',bins=20,xlim=(0,3),ax=axisArr[1,0])\naxisArr[1,0].set_xlabel(\"Medical_History_39\")\naxisArr[1,0].set_ylabel(\"Count\")\ntrain[\"Medical_History_40\"].plot(kind='hist',bins=20,xlim=(0,3),ax=axisArr[1,1])\naxisArr[1,1].set_xlabel(\"Medical_History_40\")\naxisArr[1,1].set_ylabel(\"Count\")"
 },
 {
  "cell_type": "markdown",
  "metadata": {},
  "source": "\n\n## Product Info"
 },
 {
  "cell_type": "code",
  "execution_count": null,
  "metadata": {
   "collapsed": false
  },
  "outputs": [],
  "source": "# Product_Info_2 is categorical with 19 categories\n\nsns.countplot(x='Product_Info_2', data=train, \n              order=['A1','A2','A3','A4','A5','A6','A7','A8',\n                     'B1','B2',\n                     'C1','C2','C3','C4',\n                     'D1','D2','D3','D4',\n                     'E1'])"
 },
 {
  "cell_type": "markdown",
  "metadata": {},
  "source": "The following plots are of the same data broken out for each Response.  \n\nBe careful when looking at these plots.  The response data doesn't have a uniform distribution, and these plots haven't been normalized for either the response distribution, or the Product_Info_2 distribution.  "
 },
 {
  "cell_type": "code",
  "execution_count": null,
  "metadata": {
   "collapsed": false
  },
  "outputs": [],
  "source": "pylab.rcParams['figure.figsize'] = (10.0, 14.0)\nf, axisarr = plt.subplots(4, 2)\nfor r in range(1,9):\n    axs = axisarr[int((r-1)/2),(r-1)%2]\n    sns.countplot(x='Product_Info_2', data=train[train[\"Response\"]==r], \n              order=['A1','A2','A3','A4','A5','A6','A7','A8',\n                     'B1','B2',\n                     'C1','C2','C3','C4',\n                     'D1','D2','D3','D4',\n                     'E1'],ax=axs)\n    axs.set_ylabel('Count')\n    axs.set_xlabel('Response: '+str(r))"
 },
 {
  "cell_type": "markdown",
  "metadata": {},
  "source": "\n\n## Age vs Response"
 },
 {
  "cell_type": "code",
  "execution_count": null,
  "metadata": {
   "collapsed": false
  },
  "outputs": [],
  "source": "# Look at Responses as a function of age.   It's not surprising that responses differ as a function of age.\n\npylab.rcParams['figure.figsize'] = (10.0, 14.0)\nf, axisarr = plt.subplots(4, 2)\nfor r in range(1,9):\n    axs = axisarr[int((r-1)/2),(r-1)%2]\n    train[\"Ins_Age\"][train[\"Response\"]==r].plot(kind='hist',bins=50,xlim=(0,1),ax=axs)\n    axs.set_ylabel('Count')\n    axs.set_xlabel('Response: '+str(r))"
 },
 {
  "cell_type": "code",
  "execution_count": null,
  "metadata": {
   "collapsed": false
  },
  "outputs": [],
  "source": ""
 }
],"metadata":{"kernelspec":{"display_name":"Python 3","language":"python","name":"python3"}}, "nbformat": 4, "nbformat_minor": 0}