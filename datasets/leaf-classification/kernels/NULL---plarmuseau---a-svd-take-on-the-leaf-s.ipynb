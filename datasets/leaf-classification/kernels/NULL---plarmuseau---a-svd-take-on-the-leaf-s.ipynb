{
  "cells": [
    {
      "cell_type": "code",
      "execution_count": null,
      "metadata": {
        "_cell_guid": "b93caeff-67fa-1e94-0d55-1a67eeb9b040"
      },
      "outputs": [],
      "source": [
        "# train 990 leaves\n",
        "# test 594 samples\n",
        "\n",
        "import numpy as np\n",
        "import pandas as pd\n",
        "from numpy.linalg import inv\n",
        "\n",
        "train = pd.read_csv('../input/train.csv')\n",
        "test = pd.read_csv('../input/test.csv')\n",
        "labels = train.species\n",
        "labelid = train.id\n",
        "testid =test.id\n",
        "train = train.drop(['species', 'id'], axis=1)\n",
        "test = test.drop(['id'], axis=1)\n",
        "#A=train\n",
        "A=train.transpose()\n",
        "\n",
        "# singular value decomposition\n",
        "U,s,V=np.linalg.svd(A,full_matrices=False)\n",
        "# reconstruct\n",
        "S=np.diag(s)\n",
        "Q=test.transpose()\n",
        "iS=inv(S)\n",
        "US=np.dot(U,iS)\n",
        "Qtemp=np.dot(Q.transpose(),US)\n",
        "simila=np.dot(Qtemp,V)/np.dot(np.abs(Qtemp),np.abs(V))\n",
        "for xya in range(0,594):\n",
        "  for xyz in range (len(V)):\n",
        "    simila=np.dot(Qtemp[xya,:],V[:,xyz])/np.dot(np.abs(Qtemp[xya,:]),np.abs(V[:,xyz]))*100\n",
        "    if simila>50:\n",
        "      print(testid[xya],labels[xyz],labelid[xyz], round(simila,1),\"%\" ) "
      ]
    },
    {
      "cell_type": "markdown",
      "metadata": {
        "_cell_guid": "f4fc27be-b73d-a259-a861-9d20b2983d0b"
      },
      "source": [
        "\n",
        "\n",
        "Lowering the similarity treshold , you have them all.\n",
        "\n"
      ]
    },
    {
      "cell_type": "code",
      "execution_count": null,
      "metadata": {
        "_cell_guid": "7ec8dfdc-dd35-1ad5-ee04-1f207dd6007b"
      },
      "outputs": [],
      "source": [
        "# train 990 leaves\n",
        "# test 594 samples\n",
        "\n",
        "import numpy as np\n",
        "import pandas as pd\n",
        "from numpy.linalg import inv\n",
        "\n",
        "train = pd.read_csv('../input/train.csv')\n",
        "test = pd.read_csv('../input/test.csv')\n",
        "labels = train.species\n",
        "labelid = train.id\n",
        "testid =test.id\n",
        "train = train.drop(['species', 'id'], axis=1)\n",
        "test = test.drop(['id'], axis=1)\n",
        "#A=train\n",
        "A=train.transpose()\n",
        "\n",
        "# singular value decomposition\n",
        "U,s,V=np.linalg.svd(A,full_matrices=False)\n",
        "# reconstruct\n",
        "S=np.diag(s)\n",
        "Q=test.transpose()\n",
        "iS=inv(S)\n",
        "US=np.dot(U,iS)\n",
        "Qtemp=np.dot(Q.transpose(),US)\n",
        "simila=np.dot(Qtemp,V)/np.dot(np.abs(Qtemp),np.abs(V))\n",
        "for xya in range(0,594):\n",
        "  for xyz in range (len(V)):\n",
        "    simila=np.dot(Qtemp[xya,:],V[:,xyz])/np.dot(np.abs(Qtemp[xya,:]),np.abs(V[:,xyz]))*100\n",
        "    if simila>80:\n",
        "      print(testid[xya],labels[xyz],labelid[xyz], round(simila,1),\"%\" ) "
      ]
    }
  ],
  "metadata": {
    "_change_revision": 0,
    "_is_fork": false,
    "kernelspec": {
      "display_name": "Python 3",
      "language": "python",
      "name": "python3"
    },
    "language_info": {
      "codemirror_mode": {
        "name": "ipython",
        "version": 3
      },
      "file_extension": ".py",
      "mimetype": "text/x-python",
      "name": "python",
      "nbconvert_exporter": "python",
      "pygments_lexer": "ipython3",
      "version": "3.6.0"
    }
  },
  "nbformat": 4,
  "nbformat_minor": 0
}