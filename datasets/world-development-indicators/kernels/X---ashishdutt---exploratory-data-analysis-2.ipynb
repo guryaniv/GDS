{"cells":[
 {
  "cell_type": "code",
  "execution_count": null,
  "metadata": {
   "collapsed": false
  },
  "outputs": [],
  "source": "# This Python 3 environment comes with many helpful analytics libraries installed\n# It is defined by the kaggle/python docker image: https://github.com/kaggle/docker-python\n# For example, here's several helpful packages to load in \n\nimport numpy as np # linear algebra\nimport pandas as pd # data processing, CSV file I/O (e.g. pd.read_csv)\n\n# Input data files are available in the \"../input/\" directory.\n# For example, running this (by clicking run or pressing Shift+Enter) will list the files in the input directory\n\nfrom subprocess import check_output\nprint(check_output([\"ls\", \"../input\"]).decode(\"utf8\"))\n\n# Any results you write to the current directory are saved as output.\n"
 },
 {
  "cell_type": "code",
  "execution_count": null,
  "metadata": {
   "collapsed": false
  },
  "outputs": [],
  "source": "# Reading the data for Country only\ncountryData= pd.read_csv(\"../input/Country.csv\", low_memory=True)\nindicatorsData= pd.read_csv(\"../input/Indicators.csv\", low_memory=True)\n# Creating a copy of the original dataset as sub. All experiments will be done on sub\nsubCntry=countryData\nsubIndicatr=indicatorsData\n#Determine the number of rows and columns in the dataset\nprint (subCntry.shape)\nprint (subIndicatr.shape)"
 },
 {
  "cell_type": "code",
  "execution_count": null,
  "metadata": {
   "collapsed": false
  },
  "outputs": [],
  "source": "# Print the column headers/headings for Country data\nnamesCntry=subCntry.columns.values\nprint (\"Country data Column Headers\\n\")\nprint (namesCntry)\n\n# Print the column headers/headings for Indicators data\nnamesIndicatr=subIndicatr.columns.values\nprint (\"\\nIndicators data Column Headers\\n\")\nprint (namesIndicatr)"
 },
 {
  "cell_type": "code",
  "execution_count": null,
  "metadata": {
   "collapsed": false
  },
  "outputs": [],
  "source": "# print the rows with missing data\nprint (\"\\nThe count of rows with missing Country data: \\n\", subCntry.isnull().sum())\nprint (\"\\n\\nThe count of rows with missing Indicators data: \\n\", subIndicatr.isnull().sum())"
 },
 {
  "cell_type": "code",
  "execution_count": null,
  "metadata": {
   "collapsed": false
  },
  "outputs": [],
  "source": "# Set the rows with missing data as -1 using the fillna()\nsubCntry=subCntry.fillna(-1)"
 },
 {
  "cell_type": "code",
  "execution_count": null,
  "metadata": {
   "collapsed": false
  },
  "outputs": [],
  "source": "# checking the rows again for missing data\nprint (\"The count of rows with missing data: \\n\", subCntry.isnull().sum())"
 },
 {
  "cell_type": "code",
  "execution_count": null,
  "metadata": {
   "collapsed": false
  },
  "outputs": [],
  "source": "# Show the Frequency distribution for Regions in the world\nprint (\"\\n Regions in the world\")\nregionData=subCntry['Region'].value_counts(sort=True,dropna=False)\nprint (regionData)"
 },
 {
  "cell_type": "code",
  "execution_count": null,
  "metadata": {
   "collapsed": false
  },
  "outputs": [],
  "source": "# Show the frequency distribution for Indicators\nprint (\"\\n Indicators\\n\")\nindicatrData=subIndicatr['IndicatorName'].value_counts(sort=True,dropna=False)\nprint(indicatrData)"
 },
 {
  "cell_type": "code",
  "execution_count": null,
  "metadata": {
   "collapsed": false
  },
  "outputs": [],
  "source": ""
 }
],"metadata":{"kernelspec":{"display_name":"Python 3","language":"python","name":"python3"}}, "nbformat": 4, "nbformat_minor": 0}