{
  "cells": [
    {
      "cell_type": "code",
      "execution_count": null,
      "metadata": {
        "_cell_guid": "b1065d84-902f-399c-03d1-564867b5cfed"
      },
      "outputs": [],
      "source": [
        "import pandas as pd\n",
        "import numpy as np\n",
        "\n",
        "# visualization\n",
        "import seaborn as sns\n",
        "import matplotlib.pyplot as plt\n",
        "%matplotlib inline\n",
        "\n",
        "from sklearn.linear_model import LinearRegression\n",
        "from sklearn.ensemble import RandomForestRegressor\n",
        "from sklearn.metrics import mean_squared_error\n",
        "import xgboost as xgb\n",
        "from sklearn.model_selection import train_test_split"
      ]
    },
    {
      "cell_type": "code",
      "execution_count": null,
      "metadata": {
        "_cell_guid": "dd7eefbd-aed0-0cb3-7856-3f4c7d8ac39e"
      },
      "outputs": [],
      "source": [
        "train_df = pd.read_csv('../input/train.csv')\n",
        "test_df = pd.read_csv('../input/test.csv')\n",
        "macro_df=pd.read_csv('../input/macro.csv')\n",
        "train_df.shape"
      ]
    },
    {
      "cell_type": "code",
      "execution_count": null,
      "metadata": {
        "_cell_guid": "2bf221fd-8044-28a1-80b3-13bd8967dc8b"
      },
      "outputs": [],
      "source": [
        "train_df = pd.merge_ordered(train_df, macro_df, on='timestamp', how='left')\n",
        "result_df = pd.merge_ordered(test_df, macro_df, on='timestamp', how='left')\n",
        "train_df.head()"
      ]
    },
    {
      "cell_type": "code",
      "execution_count": null,
      "metadata": {
        "_cell_guid": "dd7d0c90-e951-5fe5-2cbb-1af352025d4b"
      },
      "outputs": [],
      "source": [
        "train_df[(train_df.price_doc<40000000)].hist(column='price_doc',bins=200)"
      ]
    },
    {
      "cell_type": "code",
      "execution_count": null,
      "metadata": {
        "_cell_guid": "eca3a884-bc00-13fd-628a-2c5f38052f0f"
      },
      "outputs": [],
      "source": [
        "train_df['month']=train_df['timestamp'].map(lambda x:(int(x[0:4])-2011)*12+int(x[5:7])-8)\n",
        "result_df['month']=result_df['timestamp'].map(lambda x:(int(x[0:4])-2011)*12+int(x[5:7])-8)"
      ]
    },
    {
      "cell_type": "code",
      "execution_count": null,
      "metadata": {
        "_cell_guid": "7404d6fb-d54d-8e33-52f0-8f4a8a1dd60b"
      },
      "outputs": [],
      "source": [
        "train_df_numeric = train_df.select_dtypes(exclude=['object'])\n",
        "train_df_obj = train_df.select_dtypes(include=['object']).copy()\n",
        "\n",
        "for column in train_df_obj:\n",
        "    train_df_obj[column] = pd.factorize(train_df_obj[column])[0]\n",
        "\n",
        "train_df_values = pd.concat([train_df_numeric, train_df_obj], axis=1)[:]\n",
        "test_df_values = pd.concat([train_df_numeric, train_df_obj], axis=1)[25001:]"
      ]
    },
    {
      "cell_type": "code",
      "execution_count": null,
      "metadata": {
        "_cell_guid": "20eb115f-7136-8c61-981d-c55889af0f8c"
      },
      "outputs": [],
      "source": [
        "result_df_numeric = result_df.select_dtypes(exclude=['object'])\n",
        "result_df_obj = result_df.select_dtypes(include=['object']).copy()\n",
        "\n",
        "for column in result_df_obj:\n",
        "    result_df_obj[column] = pd.factorize(result_df_obj[column])[0]\n",
        "\n",
        "result_df_values = pd.concat([result_df_numeric, result_df_obj], axis=1)"
      ]
    },
    {
      "cell_type": "code",
      "execution_count": null,
      "metadata": {
        "_cell_guid": "54ccc82d-f451-fe39-e45e-98581ced1f6f"
      },
      "outputs": [],
      "source": [
        "result_df_values[(result_df_values.build_year<1800)&(result_df_values.build_year>1)].head(20)"
      ]
    },
    {
      "cell_type": "code",
      "execution_count": null,
      "metadata": {
        "_cell_guid": "7a2efb4d-192f-954f-abd5-41db21c65338"
      },
      "outputs": [],
      "source": [
        "X_train = train_df_values[(train_df_values.full_sq<1000)&(train_df_values.price_doc!=1000000)&(train_df_values.price_doc!=2000000)].drop(['price_doc','id','timestamp'],axis=1)\n",
        "Y_train = np.log1p(train_df_values[(train_df_values.full_sq<1000)&(train_df_values.price_doc!=1000000)&(train_df_values.price_doc!=2000000)]['price_doc'].values.reshape(-1,1))\n",
        "X_train.shape"
      ]
    },
    {
      "cell_type": "code",
      "execution_count": null,
      "metadata": {
        "_cell_guid": "1b277f88-f9b5-bcfa-9e90-b6974c377b1c"
      },
      "outputs": [],
      "source": [
        "X_test = test_df_values.drop(['price_doc','id','timestamp'],axis=1)\n",
        "Y_test = np.log1p(test_df_values['price_doc'].values.reshape(-1,1))\n",
        "X_test.shape"
      ]
    },
    {
      "cell_type": "code",
      "execution_count": null,
      "metadata": {
        "_cell_guid": "5fa61825-b9db-3957-e41f-0e3e306d0641"
      },
      "outputs": [],
      "source": [
        "X_result = result_df_values.drop(['id','timestamp'],axis=1)\n",
        "id_test = result_df_values['id']\n",
        "X_result.shape"
      ]
    },
    {
      "cell_type": "code",
      "execution_count": null,
      "metadata": {
        "_cell_guid": "718f126a-80bf-91f4-2503-269bc8639810"
      },
      "outputs": [],
      "source": [
        "dtrain = xgb.DMatrix(X_train, Y_train)\n",
        "dtest = xgb.DMatrix(X_test, Y_test)\n",
        "dresult=xgb.DMatrix(X_result)"
      ]
    },
    {
      "cell_type": "code",
      "execution_count": null,
      "metadata": {
        "_cell_guid": "41cb4790-8ff3-69c2-3b93-04b4f45df3e7"
      },
      "outputs": [],
      "source": [
        "xgb_params = {\n",
        "    'eta': 0.05,\n",
        "    'max_depth': 5,\n",
        "    'subsample': 1,\n",
        "    'colsample_bytree': 0.7,\n",
        "    'objective': 'reg:linear',\n",
        "    'eval_metric': 'rmse',\n",
        "    'silent': 1\n",
        "}\n",
        "# Uncomment to tune XGB `num_boost_rounds`\n",
        "#model = xgb.cv(xgb_params, dtrain, num_boost_round=200,\n",
        "                  #early_stopping_rounds=30, verbose_eval=10)\n",
        "\n",
        "model = xgb.train(xgb_params, dtrain, num_boost_round=160)"
      ]
    },
    {
      "cell_type": "code",
      "execution_count": null,
      "metadata": {
        "_cell_guid": "4ea78a74-1bf1-f0d3-4801-d67477b98545"
      },
      "outputs": [],
      "source": [
        "y_pred=model.predict(dresult)\n",
        "output=pd.DataFrame(data={'price_doc':np.exp(y_pred)-1},index=id_test)\n",
        "output.head()"
      ]
    },
    {
      "cell_type": "code",
      "execution_count": null,
      "metadata": {
        "_cell_guid": "a3389b81-dca6-b255-26f4-13afd1769f48"
      },
      "outputs": [],
      "source": [
        "output.to_csv('output.csv',header=True)"
      ]
    },
    {
      "cell_type": "code",
      "execution_count": null,
      "metadata": {
        "_cell_guid": "9a32fe1d-617c-51f9-e921-560fb80da534"
      },
      "outputs": [],
      "source": [
        ""
      ]
    }
  ],
  "metadata": {
    "_change_revision": 0,
    "_is_fork": false,
    "kernelspec": {
      "display_name": "Python 3",
      "language": "python",
      "name": "python3"
    },
    "language_info": {
      "codemirror_mode": {
        "name": "ipython",
        "version": 3
      },
      "file_extension": ".py",
      "mimetype": "text/x-python",
      "name": "python",
      "nbconvert_exporter": "python",
      "pygments_lexer": "ipython3",
      "version": "3.6.0"
    }
  },
  "nbformat": 4,
  "nbformat_minor": 0
}