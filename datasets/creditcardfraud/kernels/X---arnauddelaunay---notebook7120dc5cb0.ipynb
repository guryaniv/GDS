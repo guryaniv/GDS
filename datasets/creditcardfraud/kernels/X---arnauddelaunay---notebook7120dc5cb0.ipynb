{
  "cells": [
    {
      "cell_type": "markdown",
      "metadata": {
        "_cell_guid": "692e9e8c-bfb5-8df6-f0b9-38a52902a652"
      },
      "source": [
        "# Presentation of the dataset\n",
        "\n",
        "A PCA has already been computed on the original dataset. For this reason, we are not going to spend much time on feature engineering.\n",
        "\n",
        "To sum up, we have 28 features which are the principal components of the analysis, the relative time of the purchase and the amount.\n",
        "The target value is binary : 0 for \"not fraud\", 1 for \"fraud\".\n",
        "\n",
        "# Libraries"
      ]
    },
    {
      "cell_type": "code",
      "execution_count": null,
      "metadata": {
        "_cell_guid": "81bdab3b-ce15-bb88-8f36-1775b802a1c8"
      },
      "outputs": [],
      "source": [
        "import numpy as np\n",
        "import pandas as pd\n",
        "import seaborn as sns\n",
        "import random as rd\n",
        "import scipy\n",
        "\n",
        "# Scikit-learn\n",
        "from sklearn.model_selection import train_test_split\n",
        "from sklearn.preprocessing import StandardScaler\n",
        "#from sklearn.preprocessing import OneHotEncoder\n",
        "#from sklearn.preprocessing import LabelEncoder \n",
        "from sklearn.feature_extraction import DictVectorizer\n",
        "from sklearn.linear_model import LogisticRegression\n",
        "from sklearn.ensemble import RandomForestClassifier\n",
        "from sklearn.metrics import roc_curve, auc, f1_score, precision_score, recall_score, roc_auc_score\n",
        "from sklearn.grid_search import GridSearchCV\n",
        "\n",
        "import xgboost as xgb\n",
        "\n",
        "#Matplotlib\n",
        "import matplotlib.pyplot as plt\n",
        "% matplotlib inline\n",
        "plt.rcParams['figure.figsize'] = (3, 3)"
      ]
    },
    {
      "cell_type": "markdown",
      "metadata": {
        "_cell_guid": "64fcc181-d216-acd0-4976-618bd8d938df"
      },
      "source": [
        "# Data preparation\n",
        "\n",
        "### Import"
      ]
    },
    {
      "cell_type": "code",
      "execution_count": null,
      "metadata": {
        "_cell_guid": "b76119f5-bb3e-e9b4-edde-1104c6e2952d"
      },
      "outputs": [],
      "source": [
        "df = pd.read_csv('../input/creditcard.csv')\n",
        "print('The dataset contains %d entries' % (len(df)))"
      ]
    },
    {
      "cell_type": "code",
      "execution_count": null,
      "metadata": {
        "_cell_guid": "cd2b3125-f9dc-5990-4755-67cbbc1f74d3"
      },
      "outputs": [],
      "source": [
        "#The dataset is really unbalanced\n",
        "nb_fraud = df['Class'].value_counts()[1]\n",
        "print('Fraud represents only %0.3f%% of the whole dataset' % (float(nb_fraud)/len(df)*100))"
      ]
    },
    {
      "cell_type": "code",
      "execution_count": null,
      "metadata": {
        "_cell_guid": "94502560-fa39-fc14-e732-44863276bdeb"
      },
      "outputs": [],
      "source": [
        "numerical_features = ['Time', 'Amount'] + ['V%d'%i for i in range(1,29)]\n",
        "target = ['Class']\n",
        "all_variables = numerical_features + target"
      ]
    },
    {
      "cell_type": "code",
      "execution_count": null,
      "metadata": {
        "_cell_guid": "19b5567c-4c4c-fcb4-553f-a9c94ff67dfa"
      },
      "outputs": [],
      "source": [
        "y = df[target].values\n",
        "X = df.drop('Class',axis=1)"
      ]
    },
    {
      "cell_type": "markdown",
      "metadata": {
        "_cell_guid": "333fee1b-f6c5-06ee-3a50-684cf46cfd6e"
      },
      "source": [
        "No missing value"
      ]
    },
    {
      "cell_type": "code",
      "execution_count": null,
      "metadata": {
        "_cell_guid": "6ce4de65-384b-dedc-09ca-2356454bfd76"
      },
      "outputs": [],
      "source": [
        "X.describe()"
      ]
    },
    {
      "cell_type": "markdown",
      "metadata": {
        "_cell_guid": "298df709-9611-8745-41c8-c496553e730e"
      },
      "source": [
        "### Split"
      ]
    },
    {
      "cell_type": "code",
      "execution_count": null,
      "metadata": {
        "_cell_guid": "a12cb50a-6fce-d4e0-9b0a-e067905adc11"
      },
      "outputs": [],
      "source": [
        "X_train, X_valid, y_train, y_valid = train_test_split(X, y, test_size=0.2, random_state=0)\n",
        "print(X_train.shape, X_valid.shape)"
      ]
    },
    {
      "cell_type": "markdown",
      "metadata": {
        "_cell_guid": "45abb30b-104e-6a21-9f26-dab7b50b62ff"
      },
      "source": [
        "### Rescaling"
      ]
    },
    {
      "cell_type": "code",
      "execution_count": null,
      "metadata": {
        "_cell_guid": "87428d9b-0958-be88-4449-f04b5f3e0d49"
      },
      "outputs": [],
      "source": [
        "# rescaling \n",
        "scaler= StandardScaler() \n",
        "X_train[numerical_features] = scaler.fit_transform(X_train[numerical_features].values)\n",
        "X_valid[numerical_features] = scaler.transform(X_valid[numerical_features].values)"
      ]
    },
    {
      "cell_type": "markdown",
      "metadata": {
        "_cell_guid": "e0755696-8a24-3d48-f35b-2627094ef513"
      },
      "source": [
        "# Modeling\n",
        "### Declare classifiers"
      ]
    },
    {
      "cell_type": "code",
      "execution_count": null,
      "metadata": {
        "_cell_guid": "51a664c5-1769-6f77-f985-6969ce32e2d1"
      },
      "outputs": [],
      "source": [
        "# declare classifier \n",
        "clf1 = LogisticRegression() # pimp me \n",
        "clf2 = RandomForestClassifier(n_estimators =100, max_depth = 10, class_weight = 'auto') # pimp me \n",
        "clf3 = xgb.XGBClassifier(max_depth=3, n_estimators=300, learning_rate=0.05)"
      ]
    },
    {
      "cell_type": "markdown",
      "metadata": {
        "_cell_guid": "b8cb69d3-9957-1d78-d67c-cd5e5b79d9ef"
      },
      "source": [
        "### Fit them"
      ]
    },
    {
      "cell_type": "code",
      "execution_count": null,
      "metadata": {
        "_cell_guid": "2d2e8637-a6e7-fdf6-7af7-88eabdf0a195"
      },
      "outputs": [],
      "source": [
        "# train model 1\n",
        "clf1.fit(X_train,y_train)"
      ]
    },
    {
      "cell_type": "code",
      "execution_count": null,
      "metadata": {
        "_cell_guid": "1547922b-ceea-d4b3-649b-287d516406f7"
      },
      "outputs": [],
      "source": [
        "# train model 2\n",
        "clf2.fit(X_train,y_train.ravel())"
      ]
    },
    {
      "cell_type": "code",
      "execution_count": null,
      "metadata": {
        "_cell_guid": "8ad325d0-ab22-cf04-b18f-784950471de1"
      },
      "outputs": [],
      "source": [
        "clf3.fit(X_train, y_train.ravel())"
      ]
    },
    {
      "cell_type": "markdown",
      "metadata": {
        "_cell_guid": "f8e7ccfe-dc95-a9ab-9cf4-fca8fdc1e4a2"
      },
      "source": [
        "### Visualisation"
      ]
    },
    {
      "cell_type": "code",
      "execution_count": null,
      "metadata": {
        "_cell_guid": "973d15a2-f45b-d885-ab76-af28900e4fe9"
      },
      "outputs": [],
      "source": [
        "probas = {}"
      ]
    },
    {
      "cell_type": "code",
      "execution_count": null,
      "metadata": {
        "_cell_guid": "1b6ed0a2-4713-5c75-f7f7-71ab9bc1d21b"
      },
      "outputs": [],
      "source": [
        "# evaluate and plot roc curve 1\n",
        "probas['lr'] = clf1.predict_proba(X_valid)\n",
        "fpr, tpr, thresholds = roc_curve(y_valid, probas['lr'][:, 1])\n",
        "roc_auc = auc(fpr, tpr)\n",
        "plt.plot(fpr, tpr, lw=1, label='ROC (area = %0.2f)' % roc_auc)\n",
        "plt.xlim([-0.05, 1.05])\n",
        "plt.ylim([-0.05, 1.05])\n",
        "plt.xlabel('False Positive Rate')\n",
        "plt.ylabel('True Positive Rate')\n",
        "plt.title('Receiver operating characteristic')\n",
        "plt.legend(loc=\"lower right\")\n",
        "plt.show()"
      ]
    },
    {
      "cell_type": "code",
      "execution_count": null,
      "metadata": {
        "_cell_guid": "1c765155-93cb-b2ad-c6ce-0248334b5c4c"
      },
      "outputs": [],
      "source": [
        "# evaluate and plot roc curve 2\n",
        "probas['rf'] = clf2.predict_proba(X_valid)\n",
        "fpr, tpr, thresholds = roc_curve(y_valid, probas['rf'][:, 1])\n",
        "roc_auc = auc(fpr, tpr)\n",
        "plt.plot(fpr, tpr, lw=1, label='ROC (area = %0.2f)' % roc_auc)\n",
        "plt.xlim([-0.05, 1.05])\n",
        "plt.ylim([-0.05, 1.05])\n",
        "plt.xlabel('False Positive Rate')\n",
        "plt.ylabel('True Positive Rate')\n",
        "plt.title('Receiver operating characteristic')\n",
        "plt.legend(loc=\"lower right\")\n",
        "plt.show()"
      ]
    },
    {
      "cell_type": "code",
      "execution_count": null,
      "metadata": {
        "_cell_guid": "85c6c9e0-f82b-4b01-cc6a-49760bc985f1"
      },
      "outputs": [],
      "source": [
        "# evaluate and plot roc curve 2\n",
        "probas['xgb'] = clf3.predict_proba(X_valid)\n",
        "fpr, tpr, thresholds = roc_curve(y_valid, probas['xgb'][:, 1])\n",
        "roc_auc = auc(fpr, tpr)\n",
        "plt.plot(fpr, tpr, lw=1, label='ROC (area = %0.2f)' % roc_auc)\n",
        "plt.xlim([-0.05, 1.05])\n",
        "plt.ylim([-0.05, 1.05])\n",
        "plt.xlabel('False Positive Rate')\n",
        "plt.ylabel('True Positive Rate')\n",
        "plt.title('Receiver operating characteristic')\n",
        "plt.legend(loc=\"lower right\")\n",
        "plt.show()"
      ]
    },
    {
      "cell_type": "code",
      "execution_count": null,
      "metadata": {
        "_cell_guid": "a504cb48-ce29-f220-1454-6ed3db0ec379"
      },
      "outputs": [],
      "source": [
        "# Scoring Metrics\n",
        "y_pred = {\n",
        "    'lr' : clf1.predict(X_valid),\n",
        "    'rf' : clf2.predict(X_valid),\n",
        "    'xgb' : clf3.predict(X_valid)\n",
        "}\n",
        "\n",
        "# Scores\n",
        "precision = {}\n",
        "recall = {}\n",
        "f1 = {}\n",
        "for clf in ['lr', 'rf', 'xgb']:\n",
        "    precision[clf] = precision_score(y_valid, y_pred[clf])\n",
        "    recall[clf] = recall_score(y_valid, y_pred[clf])\n",
        "    f1[clf] = f1_score(y_valid, y_pred[clf])\n",
        "    print ('For classifier %s :\\n\\t precision = %0.3f\\n\\t recall = %0.3f\\n\\t f1 =  %0.3f' % (clf, precision[clf], recall[clf], f1[clf]))"
      ]
    },
    {
      "cell_type": "markdown",
      "metadata": {
        "_cell_guid": "c6e28758-2fee-5fb6-f4d6-2f4562e13539"
      },
      "source": [
        "# Fine-tune hyperparameters of XGBoost"
      ]
    },
    {
      "cell_type": "code",
      "execution_count": null,
      "metadata": {
        "_cell_guid": "b90822cb-5aef-29e3-51c2-68fc6dcbc927"
      },
      "outputs": [],
      "source": [
        "# Set the parameters by cross-validation\n",
        "tuned_parameters = [ {'reg_alpha' : [1],\n",
        "                      'gamma' : [0.1, 0.5]}]\n",
        "\n",
        "scores = ['f1']\n",
        "\n",
        "for score in scores:\n",
        "    print(\"# Tuning hyper-parameters for %s\" % score)\n",
        "    print()\n",
        "\n",
        "    clf = GridSearchCV(xgb.XGBClassifier(max_depth=3, n_estimators=100, learning_rate=0.1), tuned_parameters, cv=5,\n",
        "                       scoring='%s_macro' % score)\n",
        "    clf.fit(X_train, y_train.ravel())\n",
        "\n",
        "    print(\"Best parameters set found on development set:\")\n",
        "    print()\n",
        "    print(clf.best_params_)\n",
        "    print()\n",
        "    print(\"Grid scores on development set:\")\n",
        "    print()\n",
        "    means = clf.cv_results_['mean_test_score']\n",
        "    stds = clf.cv_results_['std_test_score']\n",
        "    for mean, std, params in zip(means, stds, clf.cv_results_['params']):\n",
        "        print(\"%0.3f (+/-%0.03f) for %r\"\n",
        "              % (mean, std * 2, params))\n",
        "    print()\n",
        "\n",
        "    print(\"Detailed classification report:\")\n",
        "    print()\n",
        "    print(\"The model is trained on the full development set.\")\n",
        "    print(\"The scores are computed on the full evaluation set.\")\n",
        "    print()\n",
        "    y_true, y_pred = y_valid, clf.predict(X_valid)\n",
        "    print(classification_report(y_true, y_pred))\n",
        "    print()"
      ]
    },
    {
      "cell_type": "code",
      "execution_count": null,
      "metadata": {
        "_cell_guid": "c3dd38c6-1d04-3f4c-9304-5275e3d2263c"
      },
      "outputs": [],
      "source": [
        "clf.__dict__"
      ]
    },
    {
      "cell_type": "code",
      "execution_count": null,
      "metadata": {
        "_cell_guid": "8ca9a2dc-8627-0b17-2c94-9290edf5d965"
      },
      "outputs": [],
      "source": [
        "y_pred2 = clf.predict(X_valid)\n",
        "precision['grid'] = precision_score(y_valid, y_pred2)\n",
        "recall['grid'] = recall_score(y_valid, y_pred2)\n",
        "f1['grid'] = f1_score(y_valid, y_pred2)"
      ]
    },
    {
      "cell_type": "code",
      "execution_count": null,
      "metadata": {
        "_cell_guid": "4a3d6064-d83a-5e78-23f4-666b10580e1b"
      },
      "outputs": [],
      "source": [
        "c = 'grid'\n",
        "print ('For classifier %s :\\n\\t precision = %0.3f\\n\\t recall = %0.3f\\n\\t f1 =  %0.3f' % (c, precision[c], recall[c], f1[c]))"
      ]
    },
    {
      "cell_type": "code",
      "execution_count": null,
      "metadata": {
        "_cell_guid": "9dfffaa2-9873-153e-9275-47cab44a6d45"
      },
      "outputs": [],
      "source": ""
    }
  ],
  "metadata": {
    "_change_revision": 0,
    "_is_fork": false,
    "kernelspec": {
      "display_name": "Python 3",
      "language": "python",
      "name": "python3"
    },
    "language_info": {
      "codemirror_mode": {
        "name": "ipython",
        "version": 3
      },
      "file_extension": ".py",
      "mimetype": "text/x-python",
      "name": "python",
      "nbconvert_exporter": "python",
      "pygments_lexer": "ipython3",
      "version": "3.5.2"
    }
  },
  "nbformat": 4,
  "nbformat_minor": 0
}