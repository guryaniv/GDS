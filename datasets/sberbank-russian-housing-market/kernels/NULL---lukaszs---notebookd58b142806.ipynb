{
  "cells": [
    {
      "cell_type": "code",
      "execution_count": null,
      "metadata": {
        "_cell_guid": "232fe831-4993-3341-420d-765f387bca63"
      },
      "outputs": [],
      "source": [
        "# This Python 3 environment comes with many helpful analytics libraries installed\n",
        "# It is defined by the kaggle/python docker image: https://github.com/kaggle/docker-python\n",
        "# For example, here's several helpful packages to load in \n",
        "\n",
        "import numpy as np # linear algebra\n",
        "import pandas as pd # data processing, CSV file I/O (e.g. pd.read_csv)\n",
        "import seaborn as sns\n",
        "import numpy as np\n",
        "import matplotlib.pyplot as plt\n",
        "\n",
        "\n",
        "# Input data files are available in the \"../input/\" directory.\n",
        "# For example, running this (by clicking run or pressing Shift+Enter) will list the files in the input directory\n",
        "\n",
        "from subprocess import check_output\n",
        "print(check_output([\"ls\", \"../input\"]).decode(\"utf8\"))\n",
        "\n",
        "# Any results you write to the current directory are saved as output."
      ]
    },
    {
      "cell_type": "code",
      "execution_count": null,
      "metadata": {
        "_cell_guid": "ec5ead1f-beb7-c36d-c1ab-1f0252702701"
      },
      "outputs": [],
      "source": [
        "train_df = pd.read_csv('../input/train.csv')\n",
        "test_df = pd.read_csv('../input/test.csv')"
      ]
    },
    {
      "cell_type": "code",
      "execution_count": null,
      "metadata": {
        "_cell_guid": "7d41ae13-7b3f-1c90-899e-772f65185d1e"
      },
      "outputs": [],
      "source": [
        "train_df.columns"
      ]
    },
    {
      "cell_type": "code",
      "execution_count": null,
      "metadata": {
        "_cell_guid": "8b3b8c8b-a4ae-47ce-82d0-38ed4effa440"
      },
      "outputs": [],
      "source": [
        "train_df.price_doc.describe()"
      ]
    },
    {
      "cell_type": "code",
      "execution_count": null,
      "metadata": {
        "_cell_guid": "5747177e-5b6f-0842-eab8-0c19a4283db8"
      },
      "outputs": [],
      "source": [
        "sns.distplot(train_df['price_doc'])"
      ]
    },
    {
      "cell_type": "code",
      "execution_count": null,
      "metadata": {
        "_cell_guid": "5dfe5d55-e24e-f995-6906-6a8ea60f18ba"
      },
      "outputs": [],
      "source": [
        "print('Skewedness: %f' % train_df['price_doc'].skew())\n",
        "print ('Kurtosis: %f' % train_df['price_doc'].kurt())"
      ]
    },
    {
      "cell_type": "code",
      "execution_count": null,
      "metadata": {
        "_cell_guid": "45220625-5029-fa3b-b8fc-0fbb3a299e77"
      },
      "outputs": [],
      "source": [
        "var = 'full_sq'\n",
        "data = pd.concat([train_df['price_doc'], train_df[var]], axis=1)\n",
        "data.plot.scatter(x=var, y='price_doc')"
      ]
    },
    {
      "cell_type": "code",
      "execution_count": null,
      "metadata": {
        "_cell_guid": "8db32404-4c25-3d2e-8b34-de711753587f"
      },
      "outputs": [],
      "source": [
        "#Looking at full square ft\n",
        "var = 'full_sq'\n",
        "data = pd.concat([train_df['price_doc'], train_df[var]], axis=1)\n",
        "data.plot.scatter(x=var, y='price_doc', ylim=(0, 100000000), xlim=(0, 800) )"
      ]
    },
    {
      "cell_type": "code",
      "execution_count": null,
      "metadata": {
        "_cell_guid": "62b06494-a584-1db1-02e2-83a1a9dddfe9"
      },
      "outputs": [],
      "source": [
        "var = 'num_room'\n",
        "data = pd.concat([train_df['price_doc'], train_df[var]], axis = 1)\n",
        "data.plot.scatter(x=var, y='price_doc')"
      ]
    },
    {
      "cell_type": "code",
      "execution_count": null,
      "metadata": {
        "_cell_guid": "eb0d39b8-e1ff-401e-281b-95520a74d111"
      },
      "outputs": [],
      "source": [
        "var = 'num_room'\n",
        "data = pd.concat([train_df['price_doc'], train_df[var]], axis=1)\n",
        "f, ax = plt.subplots(figsize=(8,6))\n",
        "fig = sns.boxplot(x=var, y='price_doc', data=data)"
      ]
    },
    {
      "cell_type": "code",
      "execution_count": null,
      "metadata": {
        "_cell_guid": "a7e25d8a-9819-c17a-2914-96907c8a4ee9"
      },
      "outputs": [],
      "source": [
        "var = 'build_year'\n",
        "data = pd.concat([train_df['price_doc'], train_df[var]], axis=1)\n",
        "f, ax = plt.subplots(figsize=(16,8))\n",
        "fig = sns.boxplot(x=var, y='price_doc', data=data)\n",
        "plt.xticks(rotation=90)"
      ]
    },
    {
      "cell_type": "code",
      "execution_count": null,
      "metadata": {
        "_cell_guid": "9f7b5439-4e4e-94b2-ce0b-eecb26b8119b"
      },
      "outputs": [],
      "source": [
        "train_df.max_floor.describe()\n",
        "var = 'max_floor'\n",
        "data = pd.concat([train_df['price_doc'], train_df[var]], axis=1)\n",
        "f, ax = plt.subplots(figsize=(16,8))\n",
        "fig = sns.boxplot(x=var, y='price_doc', data=data)\n",
        "plt.xticks(rotation=90)"
      ]
    },
    {
      "cell_type": "code",
      "execution_count": null,
      "metadata": {
        "_cell_guid": "7a1f055e-cfdd-768f-f991-ba8aef6fd058"
      },
      "outputs": [],
      "source": [
        "for i in train_df:\n",
        "    print(train_df[i].describe())"
      ]
    },
    {
      "cell_type": "code",
      "execution_count": null,
      "metadata": {
        "_cell_guid": "026d70a5-a724-7c3e-87a1-7acbe9d07529"
      },
      "outputs": [],
      "source": [
        "var = 'shopping_centers_raion'\n",
        "data = pd.concat([train_df['price_doc'], train_df[var]], axis = 1)\n",
        "f, ax = plt.subplots(figsize=(16,8))\n",
        "fig = sns.boxplot(x=var, y='price_doc', data=data)\n",
        "plt.xticks(rotation=90)"
      ]
    },
    {
      "cell_type": "code",
      "execution_count": null,
      "metadata": {
        "_cell_guid": "89808206-e1ae-842b-284e-f1fc4e12a13f"
      },
      "outputs": [],
      "source": [
        "#Correlation matrix\n",
        "corrmat = train_df.corr()\n",
        "f, ax = plt.subplots(figsize=(16,8))\n",
        "sns.heatmap(corrmat, vmax=.8, square=True)"
      ]
    },
    {
      "cell_type": "code",
      "execution_count": null,
      "metadata": {
        "_cell_guid": "912e919e-1ac1-9667-4ed5-c41d06d1e7df"
      },
      "outputs": [],
      "source": [
        "pp =0\n",
        "data = train_df['price_doc']\n",
        "for i in train_df:\n",
        "    pp += 1\n",
        "    data = pd.concat([data, train_df[i]], axis=1)\n",
        "    if pp == 20:\n",
        "        break"
      ]
    },
    {
      "cell_type": "code",
      "execution_count": null,
      "metadata": {
        "_cell_guid": "e2e55b27-79c0-3e50-31a8-d067ddc3a6a7"
      },
      "outputs": [],
      "source": [
        "#smaller correlation matrix\n",
        "corrmat = data.corr()\n",
        "f, ax = plt.subplots(figsize=(18,6))\n",
        "sns.heatmap(corrmat, vmax=.8, square=True)"
      ]
    }
  ],
  "metadata": {
    "_change_revision": 0,
    "_is_fork": false,
    "kernelspec": {
      "display_name": "Python 3",
      "language": "python",
      "name": "python3"
    },
    "language_info": {
      "codemirror_mode": {
        "name": "ipython",
        "version": 3
      },
      "file_extension": ".py",
      "mimetype": "text/x-python",
      "name": "python",
      "nbconvert_exporter": "python",
      "pygments_lexer": "ipython3",
      "version": "3.6.0"
    }
  },
  "nbformat": 4,
  "nbformat_minor": 0
}