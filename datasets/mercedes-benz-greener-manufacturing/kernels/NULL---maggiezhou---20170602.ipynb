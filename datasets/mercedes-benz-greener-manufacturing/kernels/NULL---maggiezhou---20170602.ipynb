{
  "cells": [
    {
      "cell_type": "code",
      "execution_count": null,
      "metadata": {
        "_cell_guid": "3c00a3b1-3402-0dc5-9105-4b66a10079af"
      },
      "outputs": [],
      "source": [
        "# This Python 3 environment comes with many helpful analytics libraries installed\n",
        "# It is defined by the kaggle/python docker image: https://github.com/kaggle/docker-python\n",
        "# For example, here's several helpful packages to load in \n",
        "\n",
        "import numpy as np # linear algebra\n",
        "import pandas as pd # data processing, CSV file I/O (e.g. pd.read_csv)\n",
        "\n",
        "# Input data files are available in the \"../input/\" directory.\n",
        "# For example, running this (by clicking run or pressing Shift+Enter) will list the files in the input directory\n",
        "\n",
        "from subprocess import check_output\n",
        "print(check_output([\"ls\", \"../input\"]).decode(\"utf8\"))\n",
        "\n",
        "# Any results you write to the current directory are saved as output."
      ]
    },
    {
      "cell_type": "code",
      "execution_count": null,
      "metadata": {
        "_cell_guid": "4f03f9cf-7b02-5e89-9c13-4c71bd911c65"
      },
      "outputs": [],
      "source": [
        "import numpy as np\n",
        "import pandas as pd\n",
        "from sklearn.preprocessing import LabelEncoder"
      ]
    },
    {
      "cell_type": "code",
      "execution_count": null,
      "metadata": {
        "_cell_guid": "b51cbcec-1c3d-5b7a-ad36-0ff08e83fbec"
      },
      "outputs": [],
      "source": [
        "import matplotlib.pyplot as plt\n",
        "from sklearn.decomposition import PCA, FastICA"
      ]
    },
    {
      "cell_type": "code",
      "execution_count": null,
      "metadata": {
        "_cell_guid": "0fdba6f7-7033-b187-e62c-3635eabaca24"
      },
      "outputs": [],
      "source": [
        "rng = np.random.RandomState(42)\n",
        "S = rng.standard_t(1.5, size=(20000, 2))"
      ]
    },
    {
      "cell_type": "code",
      "execution_count": null,
      "metadata": {
        "_cell_guid": "24e34846-cad5-896e-c302-11f853193d1c"
      },
      "outputs": [],
      "source": [
        "S"
      ]
    },
    {
      "cell_type": "code",
      "execution_count": null,
      "metadata": {
        "_cell_guid": "ec4d62c8-0ee6-4d68-bff2-9a2747d5a880"
      },
      "outputs": [],
      "source": [
        "S[:, 0] *=2.\n",
        "S"
      ]
    },
    {
      "cell_type": "code",
      "execution_count": null,
      "metadata": {
        "_cell_guid": "22782a91-9c1f-2ddc-f0c8-351fd4789363"
      },
      "outputs": [],
      "source": [
        "A = np.array([[1, 1], [0, 2]])\n",
        "A"
      ]
    },
    {
      "cell_type": "code",
      "execution_count": null,
      "metadata": {
        "_cell_guid": "4d8486d8-86a9-b0d5-b2f9-bad3a29b1b59"
      },
      "outputs": [],
      "source": [
        "X = np.dot(S, A.T)\n",
        "X"
      ]
    },
    {
      "cell_type": "code",
      "execution_count": null,
      "metadata": {
        "_cell_guid": "788c0e6a-be3e-8180-b7af-4ec7387256fe"
      },
      "outputs": [],
      "source": [
        "pca = PCA()\n",
        "S_pca = pca.fit(X).transform(X)\n",
        "S_pca"
      ]
    },
    {
      "cell_type": "code",
      "execution_count": null,
      "metadata": {
        "_cell_guid": "f38d14b5-75aa-3483-18b8-ef981281f0e3"
      },
      "outputs": [],
      "source": [
        "ica = FastICA(random_state=rng)\n",
        "S_ica = ica.fit(X).transform(X)"
      ]
    },
    {
      "cell_type": "code",
      "execution_count": null,
      "metadata": {
        "_cell_guid": "1672d636-80c0-8744-cff3-310c3e1afe02"
      },
      "outputs": [],
      "source": [
        "S_pca.shape, S_ica.shape"
      ]
    },
    {
      "cell_type": "code",
      "execution_count": null,
      "metadata": {
        "_cell_guid": "051dab4f-71b4-377a-ced4-e108bf575a87"
      },
      "outputs": [],
      "source": [
        "S_ica /= S_ica.std(axis=0)"
      ]
    },
    {
      "cell_type": "code",
      "execution_count": null,
      "metadata": {
        "_cell_guid": "01e3eeea-cc1b-8d30-0a89-4696960160bf"
      },
      "outputs": [],
      "source": [
        "def plot_samples(S, axis_list=None):\n",
        "    plt.scatter(S[:, 0], S[:, 1], s=2, marker='o', zorder=10,\n",
        "                color='steelblue', alpha=0.5)\n",
        "    if axis_list is not None:\n",
        "        colors = ['orange', 'red']\n",
        "        for color, axis in zip(colors, axis_list):\n",
        "            axis /= axis.std()\n",
        "            x_axis, y_axis = axis\n",
        "            # Trick to get legend to work\n",
        "            plt.plot(0.1 * x_axis, 0.1 * y_axis, linewidth=2, color=color)\n",
        "            plt.quiver(0, 0, x_axis, y_axis, zorder=11, width=0.01, scale=6,\n",
        "                       color=color)\n",
        "\n",
        "    plt.hlines(0, -3, 3)\n",
        "    plt.vlines(0, -3, 3)\n",
        "    plt.xlim(-3, 3)\n",
        "    plt.ylim(-3, 3)\n",
        "    plt.xlabel('x')\n",
        "    plt.ylabel('y')"
      ]
    },
    {
      "cell_type": "code",
      "execution_count": null,
      "metadata": {
        "_cell_guid": "0025162c-468c-9c2d-e8ac-dbbf3acba341"
      },
      "outputs": [],
      "source": [
        "plt.figure()\n",
        "plt.subplot(2, 2, 1)\n",
        "plot_samples(S / S.std())\n",
        "plt.title('True Independent Sources')\n",
        "\n",
        "axis_list = [pca.components_.T, ica.mixing_]\n",
        "plt.subplot(2, 2, 2)\n",
        "plot_samples(X / np.std(X), axis_list=axis_list)\n",
        "legend = plt.legend(['PCA', 'ICA'], loc='upper right')\n",
        "legend.set_zorder(100)\n",
        "\n",
        "plt.title('Observations')\n",
        "\n",
        "plt.subplot(2, 2, 3)\n",
        "plot_samples(S_pca / np.std(S_pca, axis=0))\n",
        "plt.title('PCA recovered signals')\n",
        "\n",
        "plt.subplot(2, 2, 4)\n",
        "plot_samples(S_ica / np.std(S_ica))\n",
        "plt.title('ICA recovered signals')\n",
        "\n",
        "plt.subplots_adjust(0.09, 0.04, 0.94, 0.94, 0.26, 0.36)\n",
        "plt.show()\n"
      ]
    },
    {
      "cell_type": "code",
      "execution_count": null,
      "metadata": {
        "_cell_guid": "5001b9cd-03cd-ee9b-9fcd-59eaffa039f2"
      },
      "outputs": [],
      "source": [
        ""
      ]
    },
    {
      "cell_type": "code",
      "execution_count": null,
      "metadata": {
        "_cell_guid": "58f50d3a-77b8-271c-1b4b-24098860e118"
      },
      "outputs": [],
      "source": [
        "train = pd.read_csv('../input/train.csv')\n",
        "test = pd.read_csv('../input/test.csv')"
      ]
    },
    {
      "cell_type": "code",
      "execution_count": null,
      "metadata": {
        "_cell_guid": "d8b8cdfa-4ebc-2bc3-841c-e5576ac7fd9e"
      },
      "outputs": [],
      "source": [
        "for c in train.columns:\n",
        "    if train[c].dtype == 'object':\n",
        "        lbl = LabelEncoder()\n",
        "        lbl.fit(list(train[c].values) + list(test[c].values))\n",
        "        train[c] = lbl.transform(list(train[c].values))\n",
        "        test[c] = lbl.transform(list(test[c].values))"
      ]
    },
    {
      "cell_type": "code",
      "execution_count": null,
      "metadata": {
        "_cell_guid": "cd68ea97-82d8-e403-1678-bd8d1666d9e7"
      },
      "outputs": [],
      "source": [
        "# read datasets\n",
        "train = pd.read_csv('../input/train.csv')\n",
        "test = pd.read_csv('../input/test.csv')\n",
        "\n",
        "# process columns, apply LabelEncoder to categorical features\n",
        "for c in train.columns:\n",
        "    if train[c].dtype == 'object':\n",
        "        lbl = LabelEncoder() \n",
        "        lbl.fit(list(train[c].values) + list(test[c].values)) \n",
        "        train[c] = lbl.transform(list(train[c].values))\n",
        "        test[c] = lbl.transform(list(test[c].values))\n",
        "\n",
        "# shape        \n",
        "print('Shape train: {}\\nShape test: {}'.format(train.shape, test.shape))"
      ]
    },
    {
      "cell_type": "code",
      "execution_count": null,
      "metadata": {
        "_cell_guid": "39ad1664-402c-b7ff-eeff-54eba2cb218f"
      },
      "outputs": [],
      "source": [
        "print('Shape train: {}\\nShape test: {}'.format(train.shape, test.shape))"
      ]
    },
    {
      "cell_type": "code",
      "execution_count": null,
      "metadata": {
        "_cell_guid": "10ef9206-211d-84a9-d4d5-a09239c8bbab"
      },
      "outputs": [],
      "source": [
        "from sklearn.decomposition import PCA, FastICA\n",
        "n_comp = 10\n",
        "\n",
        "pca = PCA(n_components=n_comp, random_state=42)\n",
        "pca2_results_train = pca.fit_transform(train.drop([\"y\"], axis=1))\n",
        "pca2_results_test = pca.transform(test)"
      ]
    },
    {
      "cell_type": "code",
      "execution_count": null,
      "metadata": {
        "_cell_guid": "56a0e672-3e34-0f26-f68c-5fbc2432b8c5"
      },
      "outputs": [],
      "source": [
        "ica = FastICA(n_components=n_comp, random_state=42)\n",
        "ica2_results_train = ica.fit_transform(train.drop([\"y\"], axis=1))\n",
        "ica2_results_test = ica.transform(test)"
      ]
    },
    {
      "cell_type": "code",
      "execution_count": null,
      "metadata": {
        "_cell_guid": "21591bec-f642-5ea6-3aef-49af439f90a7"
      },
      "outputs": [],
      "source": [
        "for i in range(1, n_comp+1):\n",
        "    train['pca_' + str(i)] = pca2_results_train[:, i-1]\n",
        "    test['pca_' + str(i)] = pca2_results_test[:, i-1]\n",
        "    \n",
        "    train['ica_' + str(i)] = ica2_results_train[:, i-1]\n",
        "    test['ica_' + str(i)] = ica2_results_test[:, i-1]\n",
        "\n",
        "y_train = train[\"y\"]\n",
        "y_mean = np.mean(y_train)"
      ]
    },
    {
      "cell_type": "code",
      "execution_count": null,
      "metadata": {
        "_cell_guid": "aa1e13f1-b1cd-4db8-9334-d4af5e8ea5ab"
      },
      "outputs": [],
      "source": [
        "import xgboost as xgb\n",
        "\n",
        "xgb_params = {\n",
        "    'n_trees': 500,\n",
        "    'eta': 0.005,\n",
        "    'max_depth': 4,\n",
        "    'subsample': 0.95,\n",
        "    'objective': 'reg:linear',\n",
        "    'eval_metric': 'rmse',\n",
        "    'base_score': y_mean,\n",
        "    'silent': 1\n",
        "}"
      ]
    },
    {
      "cell_type": "code",
      "execution_count": null,
      "metadata": {
        "_cell_guid": "5219a9f9-3db0-29e6-3855-06c126a8ad47"
      },
      "outputs": [],
      "source": [
        "dtrain = xgb.DMatrix(train.drop('y', axis=1), y_train)\n",
        "dtest = xgb.DMatrix(test)"
      ]
    },
    {
      "cell_type": "code",
      "execution_count": null,
      "metadata": {
        "_cell_guid": "b60189c1-4ca8-0349-1a3a-cf0f48aa34a3"
      },
      "outputs": [],
      "source": [
        "cv_results = xgb.cv(xgb_params,\n",
        "                    dtrain,\n",
        "                    num_boost_round=1000,\n",
        "                    early_stopping_rounds=50,\n",
        "                    verbose_eval=10,\n",
        "                    show_stdv=False\n",
        "                   )\n",
        "\n",
        "num_boost_rounds = len(cv_results)\n",
        "print(num_boost_rounds)"
      ]
    },
    {
      "cell_type": "code",
      "execution_count": null,
      "metadata": {
        "_cell_guid": "e322a696-fa39-c9c8-281b-bbe089ec3fe9"
      },
      "outputs": [],
      "source": [
        "model = xgb.train(dict(xgb_params, silent=0), dtrain, num_boost_round=num_boost_rounds)"
      ]
    },
    {
      "cell_type": "code",
      "execution_count": null,
      "metadata": {
        "_cell_guid": "36c3e261-040e-bebc-6bb8-3dc998285a1c"
      },
      "outputs": [],
      "source": [
        "from sklearn.metrics import r2_score\n",
        "print(r2_score(model.predict(dtrain), dtrain.get_label()))"
      ]
    },
    {
      "cell_type": "code",
      "execution_count": null,
      "metadata": {
        "_cell_guid": "bcea425e-ca1c-29da-a316-b345d5679710"
      },
      "outputs": [],
      "source": [
        "y_pred = model.predict(dtest)\n",
        "output = pd.DataFrame({\"id\": test['ID'].astype(np.int32), 'y': y_pred})\n",
        "output.to_csv('xgboost-depth{}-pca-ica.csv'.format(xgb_params['max_depth']), index=False)"
      ]
    }
  ],
  "metadata": {
    "_change_revision": 0,
    "_is_fork": false,
    "kernelspec": {
      "display_name": "Python 3",
      "language": "python",
      "name": "python3"
    },
    "language_info": {
      "codemirror_mode": {
        "name": "ipython",
        "version": 3
      },
      "file_extension": ".py",
      "mimetype": "text/x-python",
      "name": "python",
      "nbconvert_exporter": "python",
      "pygments_lexer": "ipython3",
      "version": "3.6.0"
    }
  },
  "nbformat": 4,
  "nbformat_minor": 0
}