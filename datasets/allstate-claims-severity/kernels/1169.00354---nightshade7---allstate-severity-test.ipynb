{
  "cells": [
    {
      "cell_type": "markdown",
      "metadata": {
        "_cell_guid": "d9a9dbf3-365b-9427-c7e6-2194afca9885"
      },
      "source": [
        "Allstate Severity Test"
      ]
    },
    {
      "cell_type": "code",
      "execution_count": null,
      "metadata": {
        "_cell_guid": "489e8ace-52b4-fb83-a2e3-7c6e348e4937"
      },
      "outputs": [],
      "source": [
        "# Code by Abhishek Sehgal\n",
        "# I've tried to use xgboost for regression\n",
        "# I mainly work with classification tasks. This is my\n",
        "# first attempt at a regression task\n",
        "\n",
        "import numpy as np # linear algebra\n",
        "import pandas as pd # data processing, CSV file I/O (e.g. pd.read_csv)\n",
        "import xgboost as xgb\n",
        "from xgboost import XGBRegressor as xgbr\n",
        "import pylab as pl\n",
        "from sklearn.ensemble import RandomForestRegressor\n",
        "from sklearn.preprocessing import LabelEncoder\n",
        "from sklearn.model_selection import train_test_split\n",
        "from sklearn.metrics import r2_score, mean_absolute_error\n",
        "\n",
        "%pylab inline"
      ]
    },
    {
      "cell_type": "markdown",
      "metadata": {
        "_cell_guid": "eb1f829b-3643-1d0d-84ed-30d7f21d9194"
      },
      "source": [
        "This is just converting all the data into a numeric format"
      ]
    },
    {
      "cell_type": "code",
      "execution_count": null,
      "metadata": {
        "_cell_guid": "0b4a6bfd-2748-e717-b0db-3579ddb81f98"
      },
      "outputs": [],
      "source": [
        "df = pd.read_csv(\"../input/train.csv\")\n",
        "dfSize = df.shape\n",
        "\n",
        "nFeat = dfSize[1]\n",
        "cols = list(df.columns.values)\n",
        "encoder = LabelEncoder()\n",
        "\n",
        "catData = encoder.fit_transform(df[cols[1]])\n",
        "\n",
        "for i in range(2,117):\n",
        "\ttemp =  encoder.fit_transform(df[cols[i]])\n",
        "\tcatData = np.vstack((catData, temp))\n",
        "\n",
        "data = np.hstack((catData.T, df[cols[117:nFeat-1]].as_matrix()))\n",
        "output = np.array(df[cols[nFeat-1]])"
      ]
    },
    {
      "cell_type": "markdown",
      "metadata": {
        "_cell_guid": "ef463e86-5da0-b2ff-a8d1-316530d90c72"
      },
      "source": [
        "I try to do a preliminary test on the data just to see how the algorithm performs.\n",
        "The division is 25% test and 75% training"
      ]
    },
    {
      "cell_type": "code",
      "execution_count": null,
      "metadata": {
        "_cell_guid": "193caf13-55b1-9150-c836-0f4f98396585"
      },
      "outputs": [],
      "source": [
        "X_train, X_test, y_train, y_test = train_test_split(data, output, \n",
        "                                                    test_size = 0.25, random_state = 42)"
      ]
    },
    {
      "cell_type": "markdown",
      "metadata": {
        "_cell_guid": "671859de-66da-25e4-1744-ba46427fcbfa"
      },
      "source": [
        "Here i train the regression and then the parameters can be changed to evaluate the model.\n",
        "I'm using r2_score from sklearn as a metric. apart from that I have added mean absolute error as the evaluation function"
      ]
    },
    {
      "cell_type": "code",
      "execution_count": null,
      "metadata": {
        "_cell_guid": "2cc3b7c8-17b9-0b24-6534-9e7928881213"
      },
      "outputs": [],
      "source": [
        "gbm = xgbr(base_score=0.5, \n",
        "           colsample_bylevel=1, \n",
        "           colsample_bytree=0.05, \n",
        "           gamma=1,\n",
        "           learning_rate=0.05,\n",
        "           max_delta_step=0,\n",
        "           max_depth=14,\n",
        "           min_child_weight=13,\n",
        "           missing=None,\n",
        "           n_estimators=87,\n",
        "           nthread=2,\n",
        "           objective='reg:linear',\n",
        "           reg_alpha=0,\n",
        "           reg_lambda=1,\n",
        "           scale_pos_weight=1,\n",
        "           seed=0,\n",
        "           silent=True,\n",
        "           subsample=0.901345202299914)\n",
        "gbm.fit(X_train, y_train)\n",
        "y_pred = gbm.predict(X_test)"
      ]
    },
    {
      "cell_type": "code",
      "execution_count": null,
      "metadata": {
        "_cell_guid": "c128645b-0ee0-820b-214f-1e814e162e96"
      },
      "outputs": [],
      "source": [
        "print(r2_score(y_test, y_pred))"
      ]
    },
    {
      "cell_type": "code",
      "execution_count": null,
      "metadata": {
        "_cell_guid": "c56eb623-c57c-d6a4-5466-d55594510ebd"
      },
      "outputs": [],
      "source": [
        "gbm.fit(data, output)"
      ]
    },
    {
      "cell_type": "code",
      "execution_count": null,
      "metadata": {
        "_cell_guid": "8848e1d0-55d4-a78d-e8d0-3b815344cfa5"
      },
      "outputs": [],
      "source": [
        "df = pd.read_csv(\"../input/test.csv\")\n",
        "dfSize = df.shape\n",
        "\n",
        "nFeat = dfSize[1]\n",
        "cols = list(df.columns.values)\n",
        "encoder = LabelEncoder()\n",
        "\n",
        "catData = encoder.fit_transform(df[cols[1]])\n",
        "\n",
        "for i in range(2,117):\n",
        "\ttemp =  encoder.fit_transform(df[cols[i]])\n",
        "\tcatData = np.vstack((catData, temp))\n",
        "\n",
        "data = np.hstack((catData.T, df[cols[117:nFeat]].as_matrix()))"
      ]
    },
    {
      "cell_type": "code",
      "execution_count": null,
      "metadata": {
        "_cell_guid": "9a15ba57-8fa8-0375-b71b-803eff076b74"
      },
      "outputs": [],
      "source": [
        "pred = gbm.predict(data)\n",
        "submission = pd.DataFrame()\n",
        "submission['id'] = df['id']\n",
        "submission['loss'] = pred\n",
        "submission.to_csv('submit1.csv', index=False)"
      ]
    }
  ],
  "metadata": {
    "_change_revision": 0,
    "_is_fork": false,
    "kernelspec": {
      "display_name": "Python 3",
      "language": "python",
      "name": "python3"
    },
    "language_info": {
      "codemirror_mode": {
        "name": "ipython",
        "version": 3
      },
      "file_extension": ".py",
      "mimetype": "text/x-python",
      "name": "python",
      "nbconvert_exporter": "python",
      "pygments_lexer": "ipython3",
      "version": "3.5.2"
    }
  },
  "nbformat": 4,
  "nbformat_minor": 0
}