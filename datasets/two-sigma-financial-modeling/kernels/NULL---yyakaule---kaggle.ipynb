{
  "cells": [
    {
      "cell_type": "markdown",
      "metadata": {
        "_cell_guid": "f56145f9-1a49-d156-9360-721eee5878f8"
      },
      "source": [
        "Kaggle"
      ]
    },
    {
      "cell_type": "code",
      "execution_count": null,
      "metadata": {
        "_cell_guid": "67edc015-8add-9703-8696-22db5635ed8b"
      },
      "outputs": [],
      "source": [
        "# This Python 3 environment comes with many helpful analytics libraries installed\n",
        "# It is defined by the kaggle/python docker image: https://github.com/kaggle/docker-python\n",
        "# For example, here's several helpful packages to load in \n",
        "\n",
        "import numpy as np # linear algebra\n",
        "import pandas as pd # data processing, CSV file I/O (e.g. pd.read_csv)\n",
        "import matplotlib.pyplot as plt\n",
        "import seaborn as sns\n",
        "from sklearn.linear_model import LinearRegression\n",
        "\n",
        "# Input data files are available in the \"../input/\" directory.\n",
        "# For example, running this (by clicking run or pressing Shift+Enter) will list the files in the input directory\n",
        "\n",
        "from subprocess import check_output\n",
        "print(check_output([\"ls\", \"../input\"]).decode(\"utf8\"))"
      ]
    },
    {
      "cell_type": "code",
      "execution_count": null,
      "metadata": {
        "_cell_guid": "64641337-e8bb-8f2a-d761-19c23dee32a1"
      },
      "outputs": [],
      "source": [
        "# Any results you write to the current directory are saved as output.\n",
        "with pd.HDFStore(\"../input/train.h5\", \"r\") as train:\n",
        "    # Note that the \"train\" dataframe is the only dataframe in the file\n",
        "    df = train.get(\"train\")\n",
        "\n",
        "df.head()"
      ]
    },
    {
      "cell_type": "code",
      "execution_count": null,
      "metadata": {
        "_cell_guid": "8214c5a9-e137-e833-5c69-0e93d13bb085"
      },
      "outputs": [],
      "source": [
        "#Replace all NA with Mean\n",
        "mean_values = df.median(axis=0)\n",
        "df = df.fillna(mean_values, inplace=True)\n",
        "print(\"Replacement is done\")"
      ]
    },
    {
      "cell_type": "code",
      "execution_count": null,
      "metadata": {
        "_cell_guid": "2da67c72-9c4b-56e0-2e95-18a95dfe3e6f"
      },
      "outputs": [],
      "source": [
        "labels = []\n",
        "values = []\n",
        "\n",
        "for col in df.columns:\n",
        "    labels.append(col)\n",
        "    values.append(df[col].isnull().sum())\n",
        "    print(col, values[-1])"
      ]
    },
    {
      "cell_type": "markdown",
      "metadata": {
        "_cell_guid": "60921d66-671b-68be-bef7-2bd65c91e154"
      },
      "source": [
        " '''#get mean\n",
        "mean_a = []\n",
        "for col in df.columns:\n",
        "    mean_a.append(df[col].mean())\n",
        "    print(col, mean_a[-1])\n",
        "    '''"
      ]
    },
    {
      "cell_type": "markdown",
      "metadata": {
        "_cell_guid": "a894c141-2cc4-f3c1-7065-22bbae491c47"
      },
      "source": [
        "#df_clean=df.dropna(axis='index',how='any')\n",
        "#df_clean.shape"
      ]
    },
    {
      "cell_type": "markdown",
      "metadata": {
        "_cell_guid": "16054f0e-1afc-1941-12a2-1cd86d749905"
      },
      "source": [
        "timemax = max(df[\"timestamp\"])\n",
        "timemin = min(df[\"timestamp\"])\n",
        "xlim = [timemin, timemax]\n",
        "len(df[\"id\"].unique())"
      ]
    },
    {
      "cell_type": "code",
      "execution_count": null,
      "metadata": {
        "_cell_guid": "304b58f5-0a2e-6121-5758-2f685e4defe4"
      },
      "outputs": [],
      "source": [
        "id = df[\"id\"].unique()[1]\n",
        "x = df[df[\"id\"]==id][\"timestamp\"]\n",
        "diffy = df[df[\"id\"]==id][\"y\"]\n",
        "y = np.cumsum(diffy)\n",
        "\n",
        "plt.figure(figsize=(9,1))\n",
        "plt.plot(x, y, 'k-')\n",
        "plt.plot(x, diffy, 'b-')\n",
        "#plt.xlim(xlim)\n",
        "plt.title(\"ID # %s\" %(id),size=10)\n",
        "\n",
        "#tmax = max(x)\n",
        "ax = plt.subplot()\n",
        "#ax.axvline(tmax, color='r', linestyle='--')"
      ]
    },
    {
      "cell_type": "code",
      "execution_count": null,
      "metadata": {
        "_cell_guid": "65483f85-3f1f-a485-5413-e84bdcadc0e7"
      },
      "outputs": [],
      "source": [
        "security = df[df[\"id\"]==id]\n",
        "range(10,40)"
      ]
    },
    {
      "cell_type": "markdown",
      "metadata": {
        "_cell_guid": "37fa5969-0c11-8ae3-86fd-173d6f4406a8"
      },
      "source": [
        "Normalize columns\n",
        "df_norm = (df - df.mean()) / (df.max() - df.min())\n",
        "col = security.ix[:,y2:y2+1]\n",
        "col_norm = (col - col.mean()) / (col.max() - col.min())"
      ]
    },
    {
      "cell_type": "markdown",
      "metadata": {
        "_cell_guid": "99ed6e16-4156-f95e-5992-36072f0ee874"
      },
      "source": [
        "np.array(security.ix[:,4:4+1])\n",
        ".shape(-1,1)"
      ]
    },
    {
      "cell_type": "code",
      "execution_count": null,
      "metadata": {
        "_cell_guid": "ca1b067f-5a21-9d73-8689-bebd1b8c27e9"
      },
      "outputs": [],
      "source": [
        "colNum = security.shape[1]\n",
        "#range_values = [x for x in range(colNum) if x % 10 ==0 ]\n",
        "range_values = [x for x in range(5) if x % 10 ==0 ]\n",
        "x1 = 0\n",
        "for i in range_values:   \n",
        "    #print (i, \"i is \", x1,)\n",
        "    plt.figure(figsize=(9,3))\n",
        "    plt.plot(x, y, 'k-')\n",
        "    \n",
        "    cols =security.ix[:,x1:i]\n",
        "    col_loop_id = 97\n",
        "    for y2 in range(x1,x1+cols.shape[1]):\n",
        "        \n",
        "        if y2 not in [1,2]:\n",
        "            #Normalize \n",
        "            col = security.ix[:,y2:y2+1]\n",
        "            col_norm = (col - col.mean()) / (col.max() - col.min())\n",
        "            type = chr(col_loop_id)+'-'\n",
        "            #plt.plot(x, col_norm, type)\n",
        "            lines = plt.plot(x, col_norm)\n",
        "            #plt.setp(lines, color='r', linewidth=1.0)\n",
        "            \n",
        "            col_loop_id =col_loop_id+1\n",
        "    \n",
        "    #plt.xlim(xlim)\n",
        "    plt.title(\"ID # %s, rows %s\" %(id,i),size=10)\n",
        "    \n",
        "    x1 = i"
      ]
    },
    {
      "cell_type": "markdown",
      "metadata": {
        "_cell_guid": "08119c06-2dec-4224-7c9c-9ca65c6c68bc"
      },
      "source": [
        "#each iD is a stock price. \n",
        "for asset in df[\"id\"].unique() :\n",
        "    #print(df[\"id\"=asset])\n",
        "    x = df[df[\"id\"]==asset][\"timestamp\"]\n",
        "    diffy = df[df[\"id\"]==asset][\"y\"]\n",
        "    y = np.cumsum(diffy)\n",
        "    \n",
        "    plt.figure(figsize=(9,1))\n",
        "    plt.plot(x, y, 'k-')\n",
        "    plt.plot(x, diffy, 'b-')\n",
        "    plt.xlim(xlim)\n",
        "    plt.title(\"ID # %s\" %(asset),size=10)\n",
        "    \n",
        "    tmax = max(x)\n",
        "    ax = plt.subplot()\n",
        "    ax.axvline(tmax, color='r', linestyle='--')\n",
        "\n",
        "    if asset > 10 :\n",
        "        break;"
      ]
    },
    {
      "cell_type": "code",
      "execution_count": null,
      "metadata": {
        "_cell_guid": "961c462b-cc39-761d-d9a2-31bf20de13b9"
      },
      "outputs": [],
      "source": [
        "#dfr = pd.DataFrame(np.random.random((200,3)))\n",
        "#dfr['date'] = pd.date_range('2000-1-1', periods=200, freq='D')\n",
        "#mask = (df['date'] > '2000-6-1') & (df['date'] <= '2000-6-10')\n",
        "#print(mask)"
      ]
    },
    {
      "cell_type": "code",
      "execution_count": null,
      "metadata": {
        "_cell_guid": "47274478-e0b6-3e27-e897-d8f09f9f40ef"
      },
      "outputs": [],
      "source": [
        "rs = [x for x in range(10000)]\n",
        "x= rs"
      ]
    },
    {
      "cell_type": "code",
      "execution_count": null,
      "metadata": {
        "_cell_guid": "18d3fa72-be4c-8fc1-13e2-ae643e00d36c"
      },
      "outputs": [],
      "source": [
        "diffy = df.iloc[rs][\"y\"]\n",
        "print(len(diffy))\n",
        "y = diffy\n",
        "#y = np.cumsum(diffy)"
      ]
    },
    {
      "cell_type": "code",
      "execution_count": null,
      "metadata": {
        "_cell_guid": "1c165f44-09ae-5b8d-275f-e139260b7cec"
      },
      "outputs": [],
      "source": [
        "print(len(x),len(y))"
      ]
    },
    {
      "cell_type": "code",
      "execution_count": null,
      "metadata": {
        "_cell_guid": "1af44014-61ac-5f61-d4fa-87f891784d64"
      },
      "outputs": [],
      "source": [
        "plt.figure(figsize=(9,1))\n",
        "plt.plot(x, y, 'k-')\n",
        "#plt.plot(x, diffy, 'b-')\n",
        "#plt.xlim(xlim)\n",
        "plt.title(\"Test %s\" %(1),size=10)\n",
        "\n",
        "#tmax = max(x)\n",
        "ax = plt.subplot()"
      ]
    },
    {
      "cell_type": "markdown",
      "metadata": {
        "_cell_guid": "11b4df45-ed55-79d7-cf87-a0376a2af1e6"
      },
      "source": [
        "#Create a nw Dataframe\n",
        "names = ['Bob','Jessica','Mary','John','Mel']\n",
        "births = [968, 155, 77, 578, 973]\n",
        "BabyDataSet = list(zip(names,births))\n",
        "BabyDataSet\n",
        "dfBabyData = pd.DataFrame(data = BabyDataSet, columns=['Names', 'Births'])"
      ]
    },
    {
      "cell_type": "code",
      "execution_count": null,
      "metadata": {
        "_cell_guid": "fc461b9a-2386-fc02-a726-62d9cd51f4fe"
      },
      "outputs": [],
      "source": [
        "import math\n",
        "def get_reward(y_true, y_fit):\n",
        "    R2 = 1 - np.sum((y_true - y_fit)**2) / np.sum((y_true - np.mean(y_true))**2)\n",
        "    R = np.sign(R2) * math.sqrt(abs(R2))\n",
        "    return({\"R\" : R, \"R2\" : R2})"
      ]
    },
    {
      "cell_type": "code",
      "execution_count": null,
      "metadata": {
        "_cell_guid": "41b5a9c6-a2c1-3257-a2e7-5563fd97795a"
      },
      "outputs": [],
      "source": [
        "import numpy as np\n",
        "\n",
        "security = df[df[\"id\"]==20]\n",
        "\n",
        "xc = 10\n",
        "col = security.ix[:,xc:xc+1]\n",
        "np.\n",
        "\n",
        "low_r =col.mean()-col.std()\n",
        "up_r = col.mean()+col.std()\n",
        "#print(low_r,up_r,col.mean())\n",
        "\n",
        "#[x for x in col if x > low_r ]\n",
        "#[if x > low_r: if x < up_r else x for x in col ]"
      ]
    },
    {
      "cell_type": "code",
      "execution_count": null,
      "metadata": {
        "_cell_guid": "d6fcaaf3-e2b3-9ad8-8920-4e3702fb120c"
      },
      "outputs": [],
      "source": [
        "un_id = df[\"id\"].unique()\n",
        "un_id[1:5]"
      ]
    },
    {
      "cell_type": "code",
      "execution_count": null,
      "metadata": {
        "_cell_guid": "e6659d4b-4868-d27c-7029-d9c7be87056e"
      },
      "outputs": [],
      "source": [
        "#replace all the outliers with 1 std value for each id\n",
        "#if df.std() > df.min() : df.min()\n",
        "for id in un_id[1:3]:\n",
        "    print(id)\n",
        "    security = df[df[\"id\"]==id]\n",
        "    x1 = 0\n",
        "    print(security.shape[1])\n",
        "    #for x in range(3,security.shape[1]):\n",
        "    for x in range(3,11):\n",
        "        col = security.ix[:,x:x+1]\n",
        "        col_no_out =col.std()  #not outliers\n",
        "        col_norm = (col - col.min()) / (col.max() - col.min())\n",
        "        print(col_norm)\n",
        "        x1 = x"
      ]
    },
    {
      "cell_type": "code",
      "execution_count": null,
      "metadata": {
        "_cell_guid": "080547fe-a4ef-070a-be55-1381177ca830"
      },
      "outputs": [],
      "source": [
        "\n",
        "id = df[\"id\"].unique()[1]\n",
        "x = df[df[\"id\"]==id][\"timestamp\"]\n",
        "diffy = df[df[\"id\"]==id][\"y\"]\n",
        "y = np.cumsum(diffy)\n",
        "\n",
        "plt.figure(figsize=(9,1))\n",
        "plt.plot(x, y, 'k-')\n",
        "plt.plot(x, diffy, 'b-')\n",
        "#plt.xlim(xlim)\n",
        "plt.title(\"ID # %s\" %(id),size=10)\n",
        "\n",
        "#tmax = max(x)\n",
        "ax = plt.subplot()"
      ]
    },
    {
      "cell_type": "code",
      "execution_count": null,
      "metadata": {
        "_cell_guid": "c38f96c7-67ec-d40c-17da-bf6c6729943d"
      },
      "outputs": [],
      "source": [
        "colNum = security.shape[1]\n",
        "range_values = [x for x in range(5) if x % 10 ==0 ]\n",
        "x1 = 0\n",
        "for i in range_values:   \n",
        "    #print (i, \"i is \", x1,)\n",
        "    plt.figure(figsize=(9,3))\n",
        "    plt.plot(x, y, 'k-')\n",
        "    \n",
        "    cols =security.ix[:,x1:i]\n",
        "    col_loop_id = 97\n",
        "    for y2 in range(x1,x1+cols.shape[1]):\n",
        "        \n",
        "        if y2 not in [1,2]:\n",
        "            #Normalize \n",
        "            col = security.ix[:,y2:y2+1]\n",
        "            col_norm = (col - col.mean()) / (col.max() - col.min())\n",
        "            type = chr(col_loop_id)+'-'\n",
        "            #plt.plot(x, col_norm, type)\n",
        "            lines = plt.plot(x, col_norm)\n",
        "            #plt.setp(lines, color='r', linewidth=1.0)\n",
        "            \n",
        "            col_loop_id =col_loop_id+1\n",
        "    \n",
        "    #plt.xlim(xlim)\n",
        "    plt.title(\"ID # %s, rows %s\" %(id,i),size=10)\n",
        "    \n",
        "    x1 = i"
      ]
    },
    {
      "cell_type": "code",
      "execution_count": null,
      "metadata": {
        "_cell_guid": "59c650f7-7a2b-1d8f-2808-8338919b373f"
      },
      "outputs": [],
      "source": [
        "\n"
      ]
    },
    {
      "cell_type": "code",
      "execution_count": null,
      "metadata": {
        "_cell_guid": "b444e82a-4a6d-cd32-8254-28a4d0633726"
      },
      "outputs": [],
      "source": [
        "df_norm = (df - df.min()) / (df.max() - df.min())\n",
        "df_norm.shape"
      ]
    },
    {
      "cell_type": "code",
      "execution_count": null,
      "metadata": {
        "_cell_guid": "901d30c9-cd0c-8aac-27db-80d39512302c"
      },
      "outputs": [],
      "source": [
        "df.shape"
      ]
    },
    {
      "cell_type": "code",
      "execution_count": null,
      "metadata": {
        "_cell_guid": "75167e48-193e-ec5c-8566-080ea33b3f1f"
      },
      "outputs": [],
      "source": [
        "col_range = range(3,110)\n",
        "n_row = 1000000\n",
        "train = df_norm[:n_row]\n",
        "test = df_norm[n_row:]\n",
        "print(train.shape,test.shape)"
      ]
    },
    {
      "cell_type": "code",
      "execution_count": null,
      "metadata": {
        "_cell_guid": "0cea1827-82ca-43eb-2c7d-11d8d6305ff6"
      },
      "outputs": [],
      "source": [
        "model = LinearRegression(n_jobs = -1)\n",
        "my_regression= model.fit(train.ix[:,col_range],np.array(train[\"y\"]))\n",
        "print(\"regression is done\")"
      ]
    },
    {
      "cell_type": "code",
      "execution_count": null,
      "metadata": {
        "_cell_guid": "8e391e19-c046-eb48-a1c9-ed0ca198bb2d"
      },
      "outputs": [],
      "source": [
        "train_pred_y = my_regression.predict(train.ix[:,col_range])\n",
        "test_pred_y = my_regression.predict(test.ix[:,col_range])\n",
        "#print(train_pred_y,test_pred_y)"
      ]
    },
    {
      "cell_type": "code",
      "execution_count": null,
      "metadata": {
        "_cell_guid": "527d58a9-5e5a-0ddd-2794-439e63177029"
      },
      "outputs": [],
      "source": [
        "train_y = train[\"y\"]\n",
        "test_y = test[\"y\"]"
      ]
    },
    {
      "cell_type": "code",
      "execution_count": null,
      "metadata": {
        "_cell_guid": "6f43871e-e7eb-4c9a-1e28-57afb377a1d3"
      },
      "outputs": [],
      "source": [
        "train_rs = get_reward(train_y,train_pred_y)\n",
        "test_rs = get_reward(test_y,test_pred_y)\n",
        "print(train_rs,test_rs)"
      ]
    },
    {
      "cell_type": "code",
      "execution_count": null,
      "metadata": {
        "_cell_guid": "8585248a-1df8-92ee-a9cd-8d3b848a5754"
      },
      "outputs": [],
      "source": [
        "plt.figure(figsize=(9,3))\n",
        "plt.plot(train_pred_y, train_y,'o')"
      ]
    },
    {
      "cell_type": "code",
      "execution_count": null,
      "metadata": {
        "_cell_guid": "ea18c52e-ad2e-80da-c848-322a90fdc8c7"
      },
      "outputs": [],
      "source": [
        "plt.figure(figsize=(9,3))\n",
        "plt.plot(test_pred_y, test_y,'o')"
      ]
    },
    {
      "cell_type": "code",
      "execution_count": null,
      "metadata": {
        "_cell_guid": "317344d6-2c01-d0ba-e125-bf36f2635372"
      },
      "outputs": [],
      "source": [
        "plt.figure(figsize=(9,3))\n",
        "plt.plot(test.index,test_pred_y,'o')\n",
        "#plt.plot(test.index,test_y,'o')\n",
        "plt.plot(train.index,train_pred_y,'o')\n",
        "#plt.plot(train.index,train_y,'o')"
      ]
    },
    {
      "cell_type": "code",
      "execution_count": null,
      "metadata": {
        "_cell_guid": "2d65bb62-068a-d6af-6bcc-ed8efabd3ead"
      },
      "outputs": [],
      "source": [
        "r2_1 = my_regression.score(test.ix[:,col_range], np.array(test[\"y\"]))\n",
        "r2_2 = get_reward(np.array(test[\"y\"]),test_pred_y)\n",
        "print(r2_1,r2_2)"
      ]
    },
    {
      "cell_type": "code",
      "execution_count": null,
      "metadata": {
        "_cell_guid": "ff904c25-597c-5f85-7727-09cb053a0c35"
      },
      "outputs": [],
      "source": [
        "tcor = train.ix[:,col_range].corr(method='pearson', min_periods=1)"
      ]
    },
    {
      "cell_type": "code",
      "execution_count": null,
      "metadata": {
        "_cell_guid": "bdbc6b1e-1dde-b40e-c759-eba1be42c8fb"
      },
      "outputs": [],
      "source": ""
    },
    {
      "cell_type": "code",
      "execution_count": null,
      "metadata": {
        "_cell_guid": "d3c4752f-92b9-28cc-b5c7-eba0327b8972"
      },
      "outputs": [],
      "source": [
        "def get_redundant_pairs(df):\n",
        "    '''Get diagonal and lower triangular pairs of correlation matrix'''\n",
        "    pairs_to_drop = set()\n",
        "    cols = df.columns\n",
        "    for i in range(0, df.shape[1]):\n",
        "        for j in range(0, i+1):\n",
        "            pairs_to_drop.add((cols[i], cols[j]))\n",
        "    return pairs_to_drop"
      ]
    },
    {
      "cell_type": "code",
      "execution_count": null,
      "metadata": {
        "_cell_guid": "41a5dfcb-6813-94dc-f186-e6d1fa797ba3"
      },
      "outputs": [],
      "source": [
        "redundant = get_redundant_pairs(tcor)\n",
        "print(redundant)\n",
        "#len(redundant)"
      ]
    },
    {
      "cell_type": "code",
      "execution_count": null,
      "metadata": {
        "_cell_guid": "11ffe131-5305-cf8d-0fe2-3194b390ac6f"
      },
      "outputs": [],
      "source": [
        "c = tcor.abs()\n",
        "s = c.unstack()\n",
        "#print(s)\n",
        "so = s.order(kind=\"quicksort\")\n",
        "print(len(so))\n",
        "\n",
        "\n"
      ]
    },
    {
      "cell_type": "markdown",
      "metadata": {
        "_cell_guid": "3d579598-5d77-0c86-3208-ea2dcbf66629"
      },
      "source": [
        "import numpy\n",
        "# Polynomial Regression\n",
        "def polyfit(x, y, degree):\n",
        "    results = {}\n",
        "\n",
        "    coeffs = numpy.polyfit(x, y, degree)\n",
        "\n",
        "     # Polynomial Coefficients\n",
        "    results['polynomial'] = coeffs.tolist()\n",
        "\n",
        "    # r-squared\n",
        "    p = numpy.poly1d(coeffs)\n",
        "    # fit values, and mean\n",
        "    yhat = p(x)                         # or [p(z) for z in x]\n",
        "    ybar = numpy.sum(y)/len(y)          # or sum(y)/len(y)\n",
        "    ssreg = numpy.sum((yhat-ybar)**2)   # or sum([ (yihat - ybar)**2 for yihat in yhat])\n",
        "    sstot = numpy.sum((y - ybar)**2)    # or sum([ (yi - ybar)**2 for yi in y])\n",
        "    results['determination'] = ssreg / sstot\n",
        "\n",
        "    return results"
      ]
    },
    {
      "cell_type": "markdown",
      "metadata": {
        "_cell_guid": "6efe1ac3-b888-2787-26c6-9f9f75b6a242"
      },
      "source": [
        "yyr2 = (sum((X-X.mean())*(Y-Y.mean()))/X.size)/np.std(X)*np.std(Y)\n",
        "yyr2"
      ]
    },
    {
      "cell_type": "markdown",
      "metadata": {
        "_cell_guid": "7a7b4c41-6c27-21a4-9a2a-ec3ec9f72888"
      },
      "source": [
        "#math.sqrt(np.std(X)*np.std(Y))\n",
        "\n",
        "\n",
        "R2 = 1 - np.sum((X - Y)**2) / np.sum((Y - np.mean(Y))**2)\n",
        "print(R2,yyr2,np.sign(R2) * math.sqrt(abs(R2)))"
      ]
    },
    {
      "cell_type": "markdown",
      "metadata": {
        "_cell_guid": "8c5980a2-5dd1-3425-a78f-691e6b77b2b0"
      },
      "source": [
        "#yhat = p(x)                         # or [p(z) for z in x]\n",
        "#ybar = numpy.sum(y)/len(y)          # or sum(y)/len(y)\n",
        "#ssreg = numpy.sum((yhat-ybar)**2)   # or sum([ (yihat - ybar)**2 for yihat in yhat])\n",
        "#sstot = numpy.sum((y - ybar)**2)    # or sum([ (yi - ybar)**2 for yi in y])\n",
        "#results['determination'] = ssreg / sstot"
      ]
    },
    {
      "cell_type": "markdown",
      "metadata": {
        "_cell_guid": "e6723c0b-dd93-7b5e-5644-94f8c539e4ae"
      },
      "source": [
        "m, n = df.shape\n",
        "miss_count = []\n",
        "for col in df.columns:\n",
        "    x = df[col].isnull().sum()\n",
        "    miss_count.append(x)\n",
        "miss_count_rate = np.array(miss_count) / m\n",
        "print(miss_count_rate)"
      ]
    },
    {
      "cell_type": "markdown",
      "metadata": {
        "_cell_guid": "2b04a2ec-99c4-3044-4c71-9e7417e7d946"
      },
      "source": [
        "fig, ax = plt.subplots(figsize=(8, 25))\n",
        "ind = np.arange(n)\n",
        "ax.barh(ind, miss_count_rate, color='y')\n",
        "plt.yticks(ind+0.4, df.columns)\n",
        "ax.set_xlabel('miss_count_rate in each col')\n",
        "ax.set_title('miss_count_rate in each col')"
      ]
    },
    {
      "cell_type": "markdown",
      "metadata": {
        "_cell_guid": "bf9c621c-ea42-8834-7573-4c153c4a4af5"
      },
      "source": [
        "df = df.drop(df.columns[miss_count_rate > 0.3], axis=1)\n",
        "df.shape"
      ]
    },
    {
      "cell_type": "markdown",
      "metadata": {
        "_cell_guid": "e9cd90b3-82ec-9f4d-a987-abb171ecb79c"
      },
      "source": [
        "#observe hist of data within boxplot range\n",
        "m, n = df.shape\n",
        "col = df.columns\n",
        "plt.figure(figsize=(8, 50))\n",
        "k = 0\n",
        "for i in range(2, 10):\n",
        "    k += 1\n",
        "    col_ = df[col[i]][df[col[i]].notnull()]\n",
        "    q_high = col_.quantile(0.75)\n",
        "    q_low = col_.quantile(0.25)\n",
        "    iqr = (q_high - q_low) * 1.5\n",
        "    high = q_high + iqr\n",
        "    low = q_low -iqr\n",
        "    col_ = col_[(col_ < high) & (col_ > low)]\n",
        "    plt.subplot(25, 4, k)\n",
        "    plt.hist(col_, bins=100)\n",
        "    plt.xticks()\n",
        "    plt.title(str(i) + ' ' + col[i])\n",
        "    plt.tight_layout(pad=0)"
      ]
    },
    {
      "cell_type": "markdown",
      "metadata": {
        "_cell_guid": "a1a0b1e9-dd5e-5642-c1d6-7c390f10f66e"
      },
      "source": [
        "#missing values\n",
        "df = df.sort_values(by='y')\n",
        "df = df.fillna(method='ffill')\n",
        "df = df.fillna(method='bfill')\n",
        "print(\"done\")\n",
        "\n",
        "#version 2 \n",
        "mean_values = df.mean(axis=0)\n",
        "mean_values\n",
        "df.fillna(mean_values, inplace=True)"
      ]
    },
    {
      "cell_type": "markdown",
      "metadata": {
        "_cell_guid": "ed1ff33c-9013-f883-6dde-574c2c7a1fd8"
      },
      "source": [
        "#https://www.kaggle.com/rcasellas/two-sigma-financial-modeling/multiple-regression-analysis-test\n",
        "#https://www.kaggle.com/rcasellas/two-sigma-financial-modeling/descriptive-statistics-and-dealing-with-dirty-data"
      ]
    },
    {
      "cell_type": "markdown",
      "metadata": {
        "_cell_guid": "d6995fc2-9b19-ea8c-6cdb-04fff0d9d50b"
      },
      "source": [
        "notes\n",
        "\n",
        "#Divide the set and the training set\n",
        "test = {'x': [], 'y': [], 'timestamp': []}\n",
        "time = range(1812, 1802, -1)\n",
        "for i in range(10):\n",
        "    df_ = df.ix[df['timestamp']==time[i], :]\n",
        "    test['x'].append(df_.drop(['y', 'id', 'timestamp'], axis=1))\n",
        "    test['y'].append(df_['y'])\n",
        "    test['timestamp'].append(time[i])\n",
        "df_ = df[df['timestamp'] < 1803]\n",
        "X = df_.drop(['y', 'id', 'timestamp'], axis=1)\n",
        "y = df_['y']\n",
        "print(\"done\")"
      ]
    }
  ],
  "metadata": {
    "_change_revision": 0,
    "_is_fork": false,
    "kernelspec": {
      "display_name": "Python 3",
      "language": "python",
      "name": "python3"
    },
    "language_info": {
      "codemirror_mode": {
        "name": "ipython",
        "version": 3
      },
      "file_extension": ".py",
      "mimetype": "text/x-python",
      "name": "python",
      "nbconvert_exporter": "python",
      "pygments_lexer": "ipython3",
      "version": "3.5.2"
    }
  },
  "nbformat": 4,
  "nbformat_minor": 0
}