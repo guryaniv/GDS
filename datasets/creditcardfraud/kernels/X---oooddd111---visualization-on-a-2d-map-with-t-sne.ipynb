{
  "cells": [
    {
      "cell_type": "markdown",
      "metadata": {
        "_cell_guid": "7dcda4f9-da58-7fbc-b4ed-505993e77c16"
      },
      "source": [
        "#1. Loading libraries and dataset"
      ]
    },
    {
      "cell_type": "code",
      "execution_count": null,
      "metadata": {
        "_cell_guid": "7d3d3d4f-76e3-8750-73b2-2377a43332f1"
      },
      "outputs": [],
      "source": [
        "library(Rtsne)\n",
        "library(data.table)\n",
        "library(dplyr)\n",
        "library(magrittr)\n",
        "\n",
        "library(ggplot2) \n",
        "library(plotly)\n",
        "library(ggthemes)\n",
        "\n",
        "# system(\"ls ../input\", intern = TRUE)\n",
        "# Any results you write to the current directory are saved as output."
      ]
    },
    {
      "cell_type": "code",
      "execution_count": null,
      "metadata": {
        "_cell_guid": "77075b62-bcb8-b889-fccc-02083bb5880b"
      },
      "outputs": [],
      "source": [
        "data <- fread(\"../input/creditcard.csv\")"
      ]
    },
    {
      "cell_type": "markdown",
      "metadata": {
        "_cell_guid": "28d18888-e8a8-bf72-b8b6-894af3b82e03"
      },
      "source": [
        "#2. Data preparation"
      ]
    },
    {
      "cell_type": "markdown",
      "metadata": {
        "_cell_guid": "adc98399-526d-291d-ca8a-71d73e9a744c"
      },
      "source": [
        "#### 2.1. Clean and select data"
      ]
    },
    {
      "cell_type": "code",
      "execution_count": null,
      "metadata": {
        "_cell_guid": "d0237628-8638-350f-1702-acb419dfcdc8"
      },
      "outputs": [],
      "source": [
        "data %<>%\n",
        "  mutate(id = 1:nrow(data)) %>%\n",
        "  mutate(Class = as.integer(Class))\n",
        "\n",
        "names(data) <- gsub('V', 'Feat', names(data))\n",
        "\n",
        "numeric_interesting_features <- c(paste0('Feat', 1:28),\n",
        "                                  'Amount') \n",
        "# \"Class\", the target, is not used to compute the 2D coordinates\n",
        "\n",
        "\n",
        "data <- data[ apply(data, MARGIN = 1, FUN = function(x) !any(is.na(x))), ]"
      ]
    },
    {
      "cell_type": "markdown",
      "metadata": {
        "_cell_guid": "5155984b-d436-7f43-cd10-44d5fad683d5"
      },
      "source": [
        "#### 2.2. Create normalized dataset of features"
      ]
    },
    {
      "cell_type": "code",
      "execution_count": null,
      "metadata": {
        "_cell_guid": "7beb356f-f8df-3e23-a1ca-fb9e32950f72"
      },
      "outputs": [],
      "source": [
        "df <- (as.data.frame(data[numeric_interesting_features]))\n",
        "# \"Class\", the target, is not used to compute the 2D coordinates\n",
        "\n",
        "df_normalised <- apply(df, \n",
        "                       MARGIN = 2, \n",
        "                       FUN = function(x) {\n",
        "                         scale(x, center = T, scale = T)\n",
        "                       } )\n",
        "df_normalised %<>%\n",
        "  as.data.frame() %>%\n",
        "  cbind(select(data, id))\n",
        "\n",
        "# Remove line with potential NA\n",
        "df_normalised <- df_normalised[ apply(df_normalised, MARGIN = 1, FUN = function(x) !any(is.na(x))), ]\n",
        "\n",
        "data_fraud <- df_normalised %>%\n",
        "    semi_join(filter(data, Class == 1), by = 'id')\n",
        "  \n",
        "data_sub <- df_normalised %>%\n",
        "  sample_n(20000) %>% # sample of data\n",
        "  rbind(data_fraud)\n",
        "    \n",
        "data_sub <- data_sub[!duplicated(select(data_sub, -id)), ]  # remove rows containing duplicate values within rounding"
      ]
    },
    {
      "cell_type": "markdown",
      "metadata": {
        "_cell_guid": "b57342e6-7906-2bb8-0a67-2f188e0037f7"
      },
      "source": [
        "#3. Run t-SNE to get the 2D coordinates"
      ]
    },
    {
      "cell_type": "code",
      "execution_count": null,
      "metadata": {
        "_cell_guid": "c13c9bf3-5591-0dea-88f6-e95d2187c04e"
      },
      "outputs": [],
      "source": [
        "rtsne_out <- Rtsne(as.matrix(select(data_sub, -id)), pca = FALSE, verbose = TRUE,\n",
        "                   theta = 0.3, max_iter = 1300, Y_init = NULL)\n",
        "# \"Class\", the target, is not used to compute the 2D coordinates"
      ]
    },
    {
      "cell_type": "markdown",
      "metadata": {
        "_cell_guid": "43ece711-3073-6925-1a4e-91250d4bac21"
      },
      "source": [
        "#4. Data post-processing"
      ]
    },
    {
      "cell_type": "code",
      "execution_count": null,
      "metadata": {
        "_cell_guid": "d2cd4df9-07c8-114c-d159-67a988b1f7ab"
      },
      "outputs": [],
      "source": [
        "# merge 2D coordinates with original features\n",
        "tsne_coord <- as.data.frame(rtsne_out$Y) %>%\n",
        "  cbind(select(data_sub, id)) %>%\n",
        "  left_join(data, by = 'id') "
      ]
    },
    {
      "cell_type": "markdown",
      "metadata": {
        "_cell_guid": "173673ed-7c66-4afd-3a6a-3a250b29727b"
      },
      "source": [
        "#5. Plot the map and its hexagonal background"
      ]
    },
    {
      "cell_type": "code",
      "execution_count": null,
      "metadata": {
        "_cell_guid": "b0d4f416-1457-3011-9d61-e5143bb90f48"
      },
      "outputs": [],
      "source": [
        "gg <- ggplot() +\n",
        "  labs(title = \"All Frauds (white dots) in the transaction landscape (10% of data)\") +\n",
        "  scale_fill_gradient(low = 'darkblue', high = 'red', name=\"Proportion\\nof fraud per\\nhexagon\") +\n",
        "  coord_fixed(ratio = 1) +\n",
        "  theme_void() +\n",
        "  stat_summary_hex(data = tsne_coord, aes(x=V1, y=V2, z = Class), bins=10, fun = mean, alpha = 0.9) +\n",
        "  geom_point(data = filter(tsne_coord, Class == 0), aes(x = V1, y = V2), alpha = 0.3, size = 1, col = 'black') +\n",
        "  geom_point(data = filter(tsne_coord, Class == 1), aes(x = V1, y = V2), alpha = 0.9, size = 0.3, col = 'white') +\n",
        "  theme(plot.title = element_text(hjust = 0.5, family = 'Calibri'),\n",
        "       legend.title.align=0.5)\n",
        "\n",
        "  \n",
        "gg\n",
        "#On about 10% of the data"
      ]
    }
  ],
  "metadata": {
    "_change_revision": 0,
    "_is_fork": false,
    "kernelspec": {
      "display_name": "Python 3",
      "language": "python",
      "name": "python3"
    },
    "language_info": {
      "codemirror_mode": {
        "name": "ipython",
        "version": 3
      },
      "file_extension": ".py",
      "mimetype": "text/x-python",
      "name": "python",
      "nbconvert_exporter": "python",
      "pygments_lexer": "ipython3",
      "version": "3.6.0"
    }
  },
  "nbformat": 4,
  "nbformat_minor": 0
}