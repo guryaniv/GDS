{
  "cells": [
    {
      "cell_type": "code",
      "execution_count": null,
      "metadata": {
        "_cell_guid": "720929da-9c6d-c994-f551-7fce491d7610"
      },
      "outputs": [],
      "source": [
        "# This Python 3 environment comes with many helpful analytics libraries installed\n",
        "# It is defined by the kaggle/python docker image: https://github.com/kaggle/docker-python\n",
        "# For example, here's several helpful packages to load in \n",
        "\n",
        "import numpy as np # linear algebra\n",
        "import pandas as pd # data processing, CSV file I/O (e.g. pd.read_csv)\n",
        "\n",
        "# Input data files are available in the \"../input/\" directory.\n",
        "# For example, running this (by clicking run or pressing Shift+Enter) will list the files in the input directory\n",
        "\n",
        "from subprocess import check_output\n",
        "print(check_output([\"ls\", \"../input\"]).decode(\"utf8\"))\n",
        "\n",
        "# Any results you write to the current directory are saved as output."
      ]
    },
    {
      "cell_type": "code",
      "execution_count": null,
      "metadata": {
        "_cell_guid": "e8383074-bfd2-5dc6-b37c-feeeccf3372f"
      },
      "outputs": [],
      "source": [
        "%matplotlib inline\n",
        "import numpy as np # linear algebra\n",
        "import pandas as pd # data processing, CSV file I/O (e.g. pd.read_csv)\n",
        "import matplotlib.pyplot as plt\n",
        "import seaborn as sns\n",
        "color = sns.color_palette()"
      ]
    },
    {
      "cell_type": "code",
      "execution_count": null,
      "metadata": {
        "_cell_guid": "1e501de6-f64b-3134-9134-58c01fd0b980"
      },
      "outputs": [],
      "source": [
        "train_df = pd.read_json(\"../input/train.json\")\n",
        "train_df.head()"
      ]
    },
    {
      "cell_type": "code",
      "execution_count": null,
      "metadata": {
        "_cell_guid": "bccd7c49-f2c0-d269-70c9-7ee7b6cb78d3"
      },
      "outputs": [],
      "source": [
        "train_df.columns"
      ]
    },
    {
      "cell_type": "code",
      "execution_count": null,
      "metadata": {
        "_cell_guid": "88d4a2e2-cfb4-97e5-de23-782c1556ca60"
      },
      "outputs": [],
      "source": [
        "test_df = pd.read_json(\"../input/test.json\")\n",
        "print('train shape: ', train_df.shape)\n",
        "print('test shape: ', test_df.shape)"
      ]
    },
    {
      "cell_type": "code",
      "execution_count": null,
      "metadata": {
        "_cell_guid": "bf71a139-0f63-ee99-7d52-4b0fe401fee0"
      },
      "outputs": [],
      "source": [
        "train_df['interest_level'].value_counts().values"
      ]
    },
    {
      "cell_type": "code",
      "execution_count": null,
      "metadata": {
        "_cell_guid": "522ff86e-6a12-bc1d-5b9c-e34f41e4f1ee"
      },
      "outputs": [],
      "source": [
        "interest_level = train_df['interest_level'].value_counts()\n",
        "plt.figure(figsize = (8,4))\n",
        "sns.barplot(interest_level.index, interest_level.values, alpha = 0.8)\n",
        "plt.ylabel(\"Num of occurances\")\n",
        "plt.xlabel(\"interest level\")\n",
        "plt.show()"
      ]
    },
    {
      "cell_type": "code",
      "execution_count": null,
      "metadata": {
        "_cell_guid": "2d8c5957-80cb-eda0-ab3c-68c617181494"
      },
      "outputs": [],
      "source": [
        "train_df.info()"
      ]
    },
    {
      "cell_type": "code",
      "execution_count": null,
      "metadata": {
        "_cell_guid": "85d1a4de-afbb-2f8d-3561-e516f5697e17"
      },
      "outputs": [],
      "source": [
        "bathroom_counts = train_df['bathrooms'].value_counts()\n",
        "plt.figure()\n",
        "sns.barplot(bathroom_counts.index, bathroom_counts.values)\n",
        "plt.ylabel(\"bathroom counts\")\n",
        "plt.xlabel(\"Num of bathrooms\")"
      ]
    },
    {
      "cell_type": "code",
      "execution_count": null,
      "metadata": {
        "_cell_guid": "d4a1ab0d-10bf-b556-3c59-aa10c14b058b"
      },
      "outputs": [],
      "source": [
        "train_df['bathrooms'].value_counts()"
      ]
    },
    {
      "cell_type": "code",
      "execution_count": null,
      "metadata": {
        "_cell_guid": "7f466561-516a-ac47-f44c-51baaf9e41c6"
      },
      "outputs": [],
      "source": [
        "train_df['bathrooms'].loc[train_df['bathrooms']>3] = 3"
      ]
    },
    {
      "cell_type": "code",
      "execution_count": null,
      "metadata": {
        "_cell_guid": "9e05694e-b613-9c22-9411-28d96916b644"
      },
      "outputs": [],
      "source": ""
    },
    {
      "cell_type": "code",
      "execution_count": null,
      "metadata": {
        "_cell_guid": "a99652f3-aa64-fc5b-8f1a-d7a683498778"
      },
      "outputs": [],
      "source": [
        "train_df['bathrooms'].value_counts()"
      ]
    },
    {
      "cell_type": "code",
      "execution_count": null,
      "metadata": {
        "_cell_guid": "3fdd2e5a-65e3-cf17-1221-d9829a18985d"
      },
      "outputs": [],
      "source": ""
    }
  ],
  "metadata": {
    "_change_revision": 0,
    "_is_fork": false,
    "kernelspec": {
      "display_name": "Python 3",
      "language": "python",
      "name": "python3"
    },
    "language_info": {
      "codemirror_mode": {
        "name": "ipython",
        "version": 3
      },
      "file_extension": ".py",
      "mimetype": "text/x-python",
      "name": "python",
      "nbconvert_exporter": "python",
      "pygments_lexer": "ipython3",
      "version": "3.6.0"
    }
  },
  "nbformat": 4,
  "nbformat_minor": 0
}