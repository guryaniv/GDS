{
  "metadata": {
    "kernelspec": {
      "display_name": "Python 3",
      "language": "python",
      "name": "python3"
    },
    "language_info": {
      "codemirror_mode": {
        "name": "ipython",
        "version": 3
      },
      "file_extension": ".py",
      "mimetype": "text/x-python",
      "name": "python",
      "nbconvert_exporter": "python",
      "pygments_lexer": "ipython3",
      "version": "3.6.0"
    }
  },
  "nbformat": 4,
  "nbformat_minor": 0,
  "cells": [
    {
      "metadata": {
        "_cell_guid": "f9176cee-c8cf-5281-9497-259654fd12d7",
        "_active": false,
        "collapsed": false
      },
      "source": "%matplotlib inline\n\nimport numpy as np # linear algebra\nimport pandas as pd # data processing, CSV file I/O (e.g. pd.read_csv)\nimport dicom\nimport os\nimport scipy.ndimage\nimport matplotlib.pyplot as plt\n\nfrom skimage import measure, morphology\nfrom mpl_toolkits.mplot3d.art3d import Poly3DCollection\n\n# Some constants \nINPUT_FOLDER = '../input/sample_images/'\n#patients=glob.glob(os.path.join(INPUT_FOLDER, '*'))\npatients = os.listdir(INPUT_FOLDER)\npatients.sort()\n\n# Function to get the slice thinkness\ndef load_scan(path):\n    slices = [dicom.read_file(path + '/' + s) for s in os.listdir(path)]\n    slices.sort(key = lambda x: float(x.ImagePositionPatient[2]))\n    try:\n        slice_thickness = np.abs(slices[0].ImagePositionPatient[2] - slices[1].ImagePositionPatient[2])\n    except:\n        slice_thickness = np.abs(slices[0].SliceLocation - slices[1].SliceLocation)\n        \n    for s in slices:\n        s.SliceThickness = slice_thickness\n        \n    return slices\n\n# \ndef get_pixels_hu(slices):\n    image = np.stack([s.pixel_array for s in slices])\n    # Convert to int16 (from sometimes int16), \n    # should be possible as values should always be low enough (<32k)\n    image = image.astype(np.int16)\n\n    # Set outside-of-scan pixels to 0\n    # The intercept is usually -1024, so air is approximately 0\n    image[image == -2000] = 0\n    \n    # Convert to Hounsfield units (HU)\n    for slice_number in range(len(slices)):\n        \n        intercept = slices[slice_number].RescaleIntercept\n        slope = slices[slice_number].RescaleSlope\n        \n        if slope != 1:\n            image[slice_number] = slope * image[slice_number].astype(np.float64)\n            image[slice_number] = image[slice_number].astype(np.int16)\n            \n        image[slice_number] += np.int16(intercept)\n    \n    return np.array(image, dtype=np.int16)\n\nfirst_patient = load_scan(INPUT_FOLDER + patients[0])\nfirst_patient_pixels = get_pixels_hu(first_patient)\n\nfirst_patient = load_scan(INPUT_FOLDER + patients[0])\nfirst_patient_pixels = get_pixels_hu(first_patient)\nplt.hist(first_patient_pixels.flatten(), bins=80, color='c')\nplt.xlabel(\"Hounsfield Units (HU)\")\nplt.ylabel(\"Frequency\")\nplt.show()\n\n# Show some slice in the middle\nplt.imshow(first_patient_pixels[80], cmap=plt.cm.gray)\nplt.show()\n\n\n# \nslices = [dicom.read_file(INPUT_FOLDER + patients[0] + '/' + s) for s in os.listdir(INPUT_FOLDER + patients[0])]\nslices.sort(key = lambda x: float(x.ImagePositionPatient[2]))\nimage = np.stack([s.pixel_array for s in slices])\nplt.imshow(image[80], cmap=plt.cm.gray)\nplt.show()\n",
      "execution_count": null,
      "cell_type": "code",
      "outputs": [],
      "execution_state": "idle"
    },
    {
      "metadata": {
        "_cell_guid": "3cae7762-0406-156b-083c-55ebc8370c2b",
        "_active": false,
        "collapsed": false
      },
      "source": "slices[0]",
      "execution_count": null,
      "cell_type": "code",
      "outputs": [],
      "execution_state": "idle"
    },
    {
      "metadata": {
        "_cell_guid": "0226dea8-188c-6e5a-32e4-61ab10096b90",
        "_active": false,
        "collapsed": false
      },
      "source": "a.PixelSpacing",
      "execution_count": null,
      "cell_type": "code",
      "outputs": [],
      "execution_state": "idle"
    },
    {
      "metadata": {
        "_cell_guid": "9715dbb4-5d80-4e10-5294-431751767b07",
        "_active": false,
        "collapsed": false
      },
      "source": "def plot_3d(image, threshold=-300):\n    \n    # Position the scan upright, \n    # so the head of the patient would be at the top facing the camera\n    p = image.transpose(2,1,0)\n    \n    verts, faces = measure.marching_cubes(p, threshold)\n\n    fig = plt.figure(figsize=(10, 10))\n    ax = fig.add_subplot(111, projection='3d')\n\n    # Fancy indexing: `verts[faces]` to generate a collection of triangles\n    mesh = Poly3DCollection(verts[faces], alpha=0.70)\n    face_color = [0.45, 0.45, 0.75]\n    mesh.set_facecolor(face_color)\n    ax.add_collection3d(mesh)\n\n    ax.set_xlim(0, p.shape[0])\n    ax.set_ylim(0, p.shape[1])\n    ax.set_zlim(0, p.shape[2])\n\n    plt.show()",
      "execution_count": null,
      "cell_type": "code",
      "outputs": [],
      "execution_state": "idle"
    },
    {
      "metadata": {
        "_cell_guid": "d2c05b85-cb5e-e250-b2b1-af816436caa8",
        "_active": false,
        "collapsed": false
      },
      "source": "plot_3d(first_patient_pixels, -500)",
      "execution_count": null,
      "cell_type": "code",
      "outputs": [],
      "execution_state": "idle"
    },
    {
      "metadata": {
        "_cell_guid": "94b0e570-f1d5-74d1-b217-0d5486bd21b3",
        "_active": false,
        "collapsed": false
      },
      "source": "resize_factor=spacing/new_spacing\nresize_factor",
      "execution_count": null,
      "cell_type": "code",
      "outputs": [],
      "execution_state": "idle"
    },
    {
      "metadata": {
        "_cell_guid": "431cb616-30aa-a72a-fe71-0c50beba491c",
        "_active": false,
        "collapsed": false
      },
      "source": "new_real_shape=first_patient_pixels.shape*resize_factor",
      "execution_count": null,
      "cell_type": "code",
      "outputs": [],
      "execution_state": "idle"
    },
    {
      "metadata": {
        "_cell_guid": "6cc503e2-9513-799c-bcf0-7616017e2f10",
        "_active": false,
        "collapsed": false
      },
      "source": "new_real_shape",
      "execution_count": null,
      "cell_type": "code",
      "outputs": [],
      "execution_state": "idle"
    },
    {
      "metadata": {
        "_cell_guid": "48239eb2-296b-7799-34dc-45c4432b26da",
        "_active": true,
        "collapsed": false
      },
      "source": "def resample(image, scan, new_spacing=[1,1,1]):\n    # Determine current pixel spacing\n    spacing = np.array([scan[0].SliceThickness] + scan[0].PixelSpacing, dtype=np.float32)\n    print ('original spacing:',spacing)\n\n    resize_factor = spacing / new_spacing\n    print ('resize_factor:',resize_factor)\n\n    print ('image shape',image.shape)\n    \n    new_real_shape = image.shape * resize_factor\n    print ('new real shape:',new_real_shape)\n    new_shape = np.round(new_real_shape)\n    print ('rounded shape:',new_shape)\n    real_resize_factor = new_shape / image.shape\n    print ('real size factor',real_resize_factor)\n    new_spacing = spacing / real_resize_factor\n    print ('new spacing',new_spacing)\n    \n    image = scipy.ndimage.interpolation.zoom(image, real_resize_factor, mode='nearest')\n    \n    return image, new_spacing",
      "execution_count": null,
      "cell_type": "code",
      "outputs": [],
      "execution_state": "idle"
    },
    {
      "metadata": {
        "_cell_guid": "6003f4da-7846-230a-2c55-ffa16184b11f",
        "_active": false,
        "collapsed": false
      },
      "source": "pix_resampled, spacing=resample(first_patient_pixels, first_patient, [1,1,1])",
      "execution_count": null,
      "cell_type": "code",
      "outputs": [],
      "execution_state": "idle"
    },
    {
      "metadata": {
        "_cell_guid": "bb070572-8237-5b11-ed8f-915d97ae484d",
        "_active": false,
        "collapsed": false
      },
      "source": "pix_resampled.shape",
      "execution_count": null,
      "cell_type": "code",
      "outputs": [],
      "execution_state": "idle"
    },
    {
      "metadata": {
        "_cell_guid": "c6052fb2-bc5b-29ca-3e88-de6ce7e33cf5",
        "_active": false,
        "collapsed": false
      },
      "source": "pix_resampled",
      "execution_count": null,
      "cell_type": "code",
      "outputs": [],
      "execution_state": "idle"
    },
    {
      "metadata": {
        "_cell_guid": "725c2c6b-54f2-527e-3424-43a9448711aa",
        "_active": false,
        "collapsed": false
      },
      "source": "spacing / real_resize_factor",
      "execution_count": null,
      "cell_type": "code",
      "outputs": [],
      "execution_state": "idle"
    },
    {
      "metadata": {
        "_cell_guid": "cf871b55-0102-5f76-94f3-242c37d63862",
        "_active": false,
        "collapsed": false
      },
      "source": null,
      "execution_count": null,
      "cell_type": "code",
      "outputs": [],
      "execution_state": "idle"
    }
  ]
}