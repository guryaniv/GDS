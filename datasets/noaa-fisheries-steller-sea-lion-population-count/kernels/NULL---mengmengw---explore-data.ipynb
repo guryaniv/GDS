{
  "cells": [
    {
      "cell_type": "markdown",
      "metadata": {
        "_cell_guid": "10fbafb1-466e-ce00-7408-ece8b18d6e42"
      },
      "source": [
        "> *  red: adult males\n",
        "> * magenta: subadult males\n",
        "> * brown: adult females\n",
        "> * blue: juveniles\n",
        ">* green: pups"
      ]
    },
    {
      "cell_type": "code",
      "execution_count": null,
      "metadata": {
        "_cell_guid": "980cb736-9efc-bd4c-2908-6c4d905c4615"
      },
      "outputs": [],
      "source": [
        "# This Python 3 environment comes with many helpful analytics libraries installed\n",
        "# It is defined by the kaggle/python docker image: https://github.com/kaggle/docker-python\n",
        "# For example, here's several helpful packages to load in \n",
        "\n",
        "import numpy as np # linear algebra\n",
        "import pandas as pd # data processing, CSV file I/O (e.g. pd.read_csv)\n",
        "\n",
        "# Input data files are available in the \"../input/\" directory.\n",
        "# For example, running this (by clicking run or pressing Shift+Enter) will list the files in the input directory\n",
        "\n",
        "from subprocess import check_output\n",
        "print(check_output([\"ls\", \"../input\"]).decode(\"utf8\"))\n",
        "\n",
        "# Any results you write to the current directory are saved as output."
      ]
    },
    {
      "cell_type": "code",
      "execution_count": null,
      "metadata": {
        "_cell_guid": "d6c91084-17ed-1eb8-59ed-ed76803e76c4"
      },
      "outputs": [],
      "source": [
        "from skimage.io import imread, imshow\n",
        "from skimage.util import crop\n",
        "import cv2\n",
        "import matplotlib.pyplot as plt\n",
        "cropped_dotted = cv2.cvtColor(cv2.imread('../input/TrainDotted/0.jpg'), cv2.COLOR_BGR2RGB)\n",
        "cropped_raw = cv2.cvtColor(cv2.imread('../input/Train/0.jpg'), cv2.COLOR_BGR2RGB)\n",
        "\n",
        "fig = plt.figure(figsize=(12,8))\n",
        "ax = fig.add_subplot(1,2,1)\n",
        "plt.imshow(cropped_dotted)\n",
        "ax = fig.add_subplot(1,2,2)\n",
        "plt.imshow(cropped_raw)\n",
        "\n",
        "diff = cv2.subtract(cropped_dotted, cropped_raw)\n",
        "diff = diff/diff.max()\n",
        "print(diff.min())\n",
        "plt.figure(figsize=(12,8))\n",
        "plt.imshow((diff > 0.2).astype(float))\n",
        "plt.grid(False)\n"
      ]
    },
    {
      "cell_type": "code",
      "execution_count": null,
      "metadata": {
        "_cell_guid": "84a9b2fe-0687-de2a-c999-f30beae20b01"
      },
      "outputs": [],
      "source": [
        "import pandas as pd\n",
        "import numpy as np\n",
        "import glob\n",
        "\n",
        "train_csv = pd.read_csv('../input/Train/train.csv')\n",
        "train_img = glob.glob('../input/Train/*.jpg')\n",
        "train_dotted_img = glob.glob('../input/TrainDotted/*.jpg')\n",
        "submission = pd.read_csv('../input/sample_submission.csv')\n",
        "print(len(train_csv),len(train_img), len(train_dotted_img), len(submission))"
      ]
    },
    {
      "cell_type": "code",
      "execution_count": null,
      "metadata": {
        "_cell_guid": "506c8ba1-abd7-6b16-e17b-7cb6f0967af1"
      },
      "outputs": [],
      "source": [
        "from PIL import Image, ImageDraw, ImageFilter\n",
        "import matplotlib.pyplot as plt\n",
        "%matplotlib inline\n",
        "\n",
        "plt.rcParams['figure.figsize'] = (12.0, 6.0)\n",
        "im1 = Image.open(train_img[1])\n",
        "im2 = Image.open(train_img[1].replace('Train','TrainDotted'))\n",
        "imx = np.concatenate((im1.resize((400, 400), Image.ANTIALIAS), im2.resize((400, 400), Image.ANTIALIAS)), axis=1)\n",
        "plt.imshow(imx); plt.axis('off')"
      ]
    },
    {
      "cell_type": "code",
      "execution_count": null,
      "metadata": {
        "_cell_guid": "0960f2e1-f708-e985-f92c-7f8f9b9ce43f"
      },
      "outputs": [],
      "source": ""
    }
  ],
  "metadata": {
    "_change_revision": 0,
    "_is_fork": false,
    "kernelspec": {
      "display_name": "Python 3",
      "language": "python",
      "name": "python3"
    },
    "language_info": {
      "codemirror_mode": {
        "name": "ipython",
        "version": 3
      },
      "file_extension": ".py",
      "mimetype": "text/x-python",
      "name": "python",
      "nbconvert_exporter": "python",
      "pygments_lexer": "ipython3",
      "version": "3.6.0"
    }
  },
  "nbformat": 4,
  "nbformat_minor": 0
}