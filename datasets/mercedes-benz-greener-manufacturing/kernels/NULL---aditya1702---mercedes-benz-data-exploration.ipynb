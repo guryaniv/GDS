{
  "cells": [
    {
      "cell_type": "markdown",
      "metadata": {
        "_cell_guid": "cc7d4794-b403-e409-8893-9f451ecaaf34"
      },
      "source": [
        "\n",
        "\n",
        "**This is a basic data exploration notebook which I have created for getting insights from the mercedes-benz data**\n",
        "------------------------------------------------------------------------\n",
        "\n"
      ]
    },
    {
      "cell_type": "code",
      "execution_count": null,
      "metadata": {
        "_cell_guid": "25b4a85b-8da8-17fe-e624-ec16a0964abb"
      },
      "outputs": [],
      "source": [
        "%matplotlib inline\n",
        "import seaborn as sns\n",
        "import matplotlib.pyplot as plt\n",
        "\n",
        "import numpy as np\n",
        "import pandas as pd\n",
        "import math\n",
        "\n",
        "from sklearn.preprocessing import LabelEncoder\n",
        "import xgboost as xgb\n",
        "\n",
        "#Disable pandas warnings\n",
        "pd.options.mode.chained_assignment = None\n",
        "\n",
        "import warnings\n",
        "warnings.filterwarnings('ignore')"
      ]
    },
    {
      "cell_type": "code",
      "execution_count": null,
      "metadata": {
        "_cell_guid": "ab310264-773d-6055-b347-450dd3a35bef"
      },
      "outputs": [],
      "source": [
        "train=pd.read_csv(\"../input/train.csv\")\n",
        "test=pd.read_csv(\"../input/test.csv\")"
      ]
    },
    {
      "cell_type": "code",
      "execution_count": null,
      "metadata": {
        "_cell_guid": "3c6de150-c7c5-e4a4-6c05-24ed3dd3e37a"
      },
      "outputs": [],
      "source": [
        "train.head()"
      ]
    },
    {
      "cell_type": "code",
      "execution_count": null,
      "metadata": {
        "_cell_guid": "aeccbd68-e0ce-0c0b-37d2-992cebdfc61b"
      },
      "outputs": [],
      "source": [
        "sns.countplot(train.dtypes)"
      ]
    },
    {
      "cell_type": "code",
      "execution_count": null,
      "metadata": {
        "_cell_guid": "7dc5c68b-1923-799d-d497-65e40a19b91d"
      },
      "outputs": [],
      "source": [
        "train.describe()"
      ]
    },
    {
      "cell_type": "code",
      "execution_count": null,
      "metadata": {
        "_cell_guid": "a994b7c9-c1cc-5ac2-4cda-bf6f4659bc50"
      },
      "outputs": [],
      "source": [
        "sum(train.isnull().sum()), sum(test.isnull().sum())"
      ]
    },
    {
      "cell_type": "code",
      "execution_count": null,
      "metadata": {
        "_cell_guid": "43261f06-b81c-a632-ddc1-3d59db66cc61"
      },
      "outputs": [],
      "source": [
        "train.shape, test.shape"
      ]
    },
    {
      "cell_type": "markdown",
      "metadata": {
        "_cell_guid": "67bda3d2-839e-f2af-7056-ed406fc84c0c"
      },
      "source": [
        "## Feature Importances\n",
        "Lets train a basic xgboost to check feature importances"
      ]
    },
    {
      "cell_type": "code",
      "execution_count": null,
      "metadata": {
        "_cell_guid": "ecf75c23-12f9-21c0-b5cc-c95a16727a86"
      },
      "outputs": [],
      "source": [
        "for col in train.select_dtypes(['object']).columns:\n",
        "    lb=LabelEncoder()\n",
        "    lb.fit(train[col])\n",
        "    train[col]=lb.transform(train[col])\n",
        "    \n",
        "x_train=train.drop(['y','ID'],1)\n",
        "y_train=train['y']\n",
        "\n",
        "xgb_params = {\n",
        "    'eta': 0.05,\n",
        "    'max_depth': 8,\n",
        "    'subsample': 0.7,\n",
        "    'colsample_bytree': 0.7,\n",
        "    'objective': 'reg:linear',\n",
        "    'eval_metric': 'rmse',\n",
        "    'silent': 1\n",
        "}\n",
        "dtrain = xgb.DMatrix(x_train, y_train, feature_names=x_train.columns.values)\n",
        "model = xgb.train(dict(xgb_params, silent=1), dtrain, num_boost_round=100)"
      ]
    },
    {
      "cell_type": "code",
      "execution_count": null,
      "metadata": {
        "_cell_guid": "0a4790d8-1239-7f65-c1cb-1c187e4e51c1"
      },
      "outputs": [],
      "source": [
        "fig, ax = plt.subplots(figsize=(12,15))\n",
        "xgb.plot_importance(model, height=0.8, ax=ax, max_num_features=30)\n",
        "plt.show()"
      ]
    },
    {
      "cell_type": "markdown",
      "metadata": {
        "_cell_guid": "2d9b74fd-3ce7-d1c9-8fe4-da90a1f3895c"
      },
      "source": [
        "Top 8 features are: X8, X5, X0, X6, X1, X3, X2. Categorical variables are the most important. Next are the binary variables.\n",
        "Now We check the correlation between these features."
      ]
    },
    {
      "cell_type": "code",
      "execution_count": null,
      "metadata": {
        "_cell_guid": "9c2e0076-40bb-072b-819d-b3ce691e6459"
      },
      "outputs": [],
      "source": [
        "plt.figure(figsize=(10,10))\n",
        "top_features=['X8','X5','X0','X6','X1','X3','X2','y']\n",
        "train_top_features_df=train[top_features]\n",
        "test_top_features_df=test[top_features[0:len(top_features)-1]]\n",
        "sns.heatmap(train_top_features_df.corr(), annot=True)"
      ]
    },
    {
      "cell_type": "markdown",
      "metadata": {
        "_cell_guid": "276a8b87-6074-07bb-d4d6-626a7771ad9a"
      },
      "source": [
        "Top 8 features are: X8, X5, X0, X6, X1, X3, X2. Categorical variables are the most important followed the binary variables.\n",
        "Now We check the correlation between these features."
      ]
    },
    {
      "cell_type": "markdown",
      "metadata": {
        "_cell_guid": "875661b3-e770-b1b3-3ce0-0e7260060d8d"
      },
      "source": [
        "## X5, X0, X6, X1, X2, X3, X8"
      ]
    },
    {
      "cell_type": "code",
      "execution_count": null,
      "metadata": {
        "_cell_guid": "5b8845d6-9c91-a051-eca7-2c785ae86cb7"
      },
      "outputs": [],
      "source": [
        "train_top_features_df.X5.describe()"
      ]
    },
    {
      "cell_type": "code",
      "execution_count": null,
      "metadata": {
        "_cell_guid": "7b74a92b-187a-63d9-94f7-d5d494bfbd0f"
      },
      "outputs": [],
      "source": [
        "train_top_features_df.X5.value_counts()"
      ]
    },
    {
      "cell_type": "code",
      "execution_count": null,
      "metadata": {
        "_cell_guid": "d5ff2208-c8e0-0d2d-7c36-d82afffbd42d"
      },
      "outputs": [],
      "source": [
        "\n",
        "x5_df=train_top_features_df.groupby(by='X5')['y'].aggregate(np.mean).reset_index()\n",
        "x5_df=x5_df.sort_values(by='X5')\n",
        "plt.figure(1,figsize=(10,5))\n",
        "ind=np.arange(x5_df.shape[0])\n",
        "sns.barplot(x5_df.X5.values, x5_df.y.values)\n",
        "plt.xlabel(\"X5\")\n",
        "plt.ylabel(\"Mean Time\")\n",
        "plt.title(\"Mean Time vs X5\")\n",
        "\n",
        "\n",
        "\n",
        "x6_df=train_top_features_df.groupby(by='X6')['y'].aggregate(np.mean).reset_index()\n",
        "x6_df=x6_df.sort_values(by='X6')\n",
        "plt.figure(2,figsize=(10,5))\n",
        "ind=np.arange(x6_df.shape[0])\n",
        "sns.barplot(x6_df.X6.values, x6_df.y.values)\n",
        "plt.xlabel(\"X6\")\n",
        "plt.ylabel(\"Mean Time\")\n",
        "plt.title(\"Mean Time vs X6\")\n",
        "\n",
        "\n",
        "\n",
        "x1_df=train_top_features_df.groupby(by='X1')['y'].aggregate(np.mean).reset_index()\n",
        "x1_df=x1_df.sort_values(by='X1')\n",
        "plt.figure(3,figsize=(10,5))\n",
        "ind=np.arange(x1_df.shape[0])\n",
        "sns.barplot(x1_df.X1.values, x1_df.y.values)\n",
        "plt.xlabel(\"X1\")\n",
        "plt.ylabel(\"Mean Time\")\n",
        "plt.title(\"Mean Time vs X1\")\n",
        "\n",
        "\n",
        "x2_df=train_top_features_df.groupby(by='X2')['y'].aggregate(np.mean).reset_index()\n",
        "x2_df=x2_df.sort_values(by='X2')\n",
        "plt.figure(4,figsize=(10,5))\n",
        "ind=np.arange(x2_df.shape[0])\n",
        "sns.barplot(x2_df.X2.values, x2_df.y.values)\n",
        "plt.xlabel(\"X2\")\n",
        "plt.ylabel(\"Mean Time\")\n",
        "plt.title(\"Mean Time vs X2\")\n",
        "\n",
        "\n",
        "x5_df=train_top_features_df.groupby(by='X5')['y'].aggregate(np.mean).reset_index()\n",
        "x5_df=x5_df.sort_values(by='X5')\n",
        "plt.figure(5,figsize=(10,5))\n",
        "ind=np.arange(x5_df.shape[0])\n",
        "sns.barplot(x5_df.X5.values, x5_df.y.values)\n",
        "plt.xlabel(\"X5\")\n",
        "plt.ylabel(\"Mean Time\")\n",
        "plt.title(\"Mean Time vs X5\")\n",
        "\n",
        "\n",
        "\n",
        "x3_df=train_top_features_df.groupby(by='X3')['y'].aggregate(np.mean).reset_index()\n",
        "x3_df=x3_df.sort_values(by='X3')\n",
        "plt.figure(6,figsize=(10,5))\n",
        "ind=np.arange(x3_df.shape[0])\n",
        "sns.barplot(x3_df.X3.values, x3_df.y.values)\n",
        "plt.xlabel(\"X3\")\n",
        "plt.ylabel(\"Mean Time\")\n",
        "plt.title(\"Mean Time vs X3\")\n",
        "\n",
        "\n",
        "\n",
        "x8_df=train_top_features_df.groupby(by='X8')['y'].aggregate(np.mean).reset_index()\n",
        "x8_df=x8_df.sort_values(by='X8')\n",
        "plt.figure(7,figsize=(10,5))\n",
        "ind=np.arange(x8_df.shape[0])\n",
        "sns.barplot(x8_df.X8.values, x8_df.y.values)\n",
        "plt.xlabel(\"X8\")\n",
        "plt.ylabel(\"Mean Time\")\n",
        "plt.title(\"Mean Time vs X8\")\n",
        "plt.show()"
      ]
    },
    {
      "cell_type": "markdown",
      "metadata": {
        "_cell_guid": "2f1fbd3f-49b8-0b5a-4445-4d19cf47c29b"
      },
      "source": [
        "We see that almost all the X5,X6,X8,X1,X2,X3 values have similar mean test drive times. There are no fluctuations for each of these features"
      ]
    },
    {
      "cell_type": "code",
      "execution_count": null,
      "metadata": {
        "_cell_guid": "822ba52d-cd53-f3e5-20fa-ea93a72046c6"
      },
      "outputs": [],
      "source": [
        "plt.figure(1,figsize=(10,5))\n",
        "ind=np.arange(x1_df.shape[0])\n",
        "plt.scatter(train_top_features_df.X1.values, train_top_features_df.y.values)\n",
        "plt.xlabel(\"X1\")\n",
        "plt.ylabel(\"Time\")\n",
        "plt.title(\"Mean Time vs X1\")\n",
        "\n",
        "plt.figure(2,figsize=(10,5))\n",
        "ind=np.arange(x1_df.shape[0])\n",
        "plt.scatter(train_top_features_df.X2.values, train_top_features_df.y.values)\n",
        "plt.xlabel(\"X2\")\n",
        "plt.ylabel(\"Time\")\n",
        "plt.title(\"Mean Time vs X2\")\n",
        "\n",
        "plt.figure(3,figsize=(10,5))\n",
        "ind=np.arange(x1_df.shape[0])\n",
        "plt.scatter(train_top_features_df.X3.values, train_top_features_df.y.values)\n",
        "plt.xlabel(\"X3\")\n",
        "plt.ylabel(\"Time\")\n",
        "plt.title(\"Mean Time vs X3\")\n",
        "\n",
        "\n",
        "plt.figure(4,figsize=(10,5))\n",
        "ind=np.arange(x1_df.shape[0])\n",
        "plt.scatter(train_top_features_df.X5.values, train_top_features_df.y.values)\n",
        "plt.xlabel(\"X5\")\n",
        "plt.ylabel(\"Time\")\n",
        "plt.title(\"Mean Time vs X5\")\n",
        "\n",
        "\n",
        "plt.figure(5,figsize=(10,5))\n",
        "ind=np.arange(x1_df.shape[0])\n",
        "plt.scatter(train_top_features_df.X6.values, train_top_features_df.y.values)\n",
        "plt.xlabel(\"X6\")\n",
        "plt.ylabel(\"Time\")\n",
        "plt.title(\"Mean Time vs X6\")\n",
        "plt.show()"
      ]
    },
    {
      "cell_type": "markdown",
      "metadata": {
        "_cell_guid": "c8ed4601-b0a5-10c0-efe0-3ed41ce8da15"
      },
      "source": [
        "Let us now look at how many features have binary values and how many do not"
      ]
    },
    {
      "cell_type": "code",
      "execution_count": null,
      "metadata": {
        "_cell_guid": "7561b30f-2dec-f9c5-abe8-b112c8ab95b6"
      },
      "outputs": [],
      "source": [
        "binary_df=pd.DataFrame()\n",
        "zeros={}\n",
        "ones={}\n",
        "\n",
        "for col in train.select_dtypes(['int64']).columns:\n",
        "    num_ones=len(train[col][train[col]==1])\n",
        "    num_zeros=len(train[col][train[col]==0])\n",
        "    \n",
        "    if num_zeros+num_ones == len(train[col]):\n",
        "        zeros[col]=num_zeros\n",
        "        ones[col]=num_ones        "
      ]
    },
    {
      "cell_type": "code",
      "execution_count": null,
      "metadata": {
        "_cell_guid": "8d7c9e94-3d9a-8cb0-f4ed-e9d99a8771bf"
      },
      "outputs": [],
      "source": [
        "binary_df['columns']=zeros.keys()\n",
        "binary_df['ones']=ones.values()\n",
        "binary_df['zeros']=zeros.values()\n",
        "binary_df=binary_df.sort_values(by='zeros')\n",
        "\n",
        "\n",
        "\n",
        "ind=np.arange(binary_df.shape[0])\n",
        "\n",
        "width = 0.35\n",
        "plt.figure(figsize=(6,100))\n",
        "p1 = plt.barh(ind, binary_df.ones.values, width, color='yellow')\n",
        "p2 = plt.barh(ind, binary_df.zeros.values, width, left=binary_df.ones.values, color=\"green\")\n",
        "plt.yticks(ind, binary_df['columns'])\n",
        "plt.legend((p1[0], p2[0]), ('Zero count', 'One Count'))\n",
        "plt.show()"
      ]
    },
    {
      "cell_type": "markdown",
      "metadata": {
        "_cell_guid": "ea85511c-1c5a-2b6c-b51c-e4da88184aea"
      },
      "source": [
        "## y\n",
        "Now let us look at the target variable and its distribution"
      ]
    },
    {
      "cell_type": "code",
      "execution_count": null,
      "metadata": {
        "_cell_guid": "d68e354d-f0fa-956f-911b-109c5d75c18b"
      },
      "outputs": [],
      "source": [
        "plt.figure(figsize=(15,10))\n",
        "train['y'].hist(bins=100)\n",
        "plt.xlabel('Y')\n",
        "plt.title('Distribution of Y variable')\n",
        "plt.show()"
      ]
    },
    {
      "cell_type": "markdown",
      "metadata": {
        "_cell_guid": "0c339164-7351-6d51-114e-a5df4e911be7"
      },
      "source": [
        "We take log transformation of the y variable"
      ]
    },
    {
      "cell_type": "code",
      "execution_count": null,
      "metadata": {
        "_cell_guid": "e29bba86-87ff-9ec3-645f-a33f92f6ea10"
      },
      "outputs": [],
      "source": [
        "plt.figure(figsize=(15,10))\n",
        "np.log1p(train['y']).hist(bins=100)\n",
        "plt.xlabel('Log of Y')\n",
        "plt.title('Distribution of Log of Y variable')\n",
        "plt.show()"
      ]
    },
    {
      "cell_type": "markdown",
      "metadata": {
        "_cell_guid": "70d670b3-4f4e-1f15-12ba-4ddedca6f270"
      },
      "source": [
        "## ID\n",
        "Let us see whether ID has any influence on the target variable and how they are related"
      ]
    },
    {
      "cell_type": "code",
      "execution_count": null,
      "metadata": {
        "_cell_guid": "462c3a5d-23fd-0ffd-78ef-92ae18861890"
      },
      "outputs": [],
      "source": [
        "var_name = \"ID\"\n",
        "plt.figure(figsize=(10,10))\n",
        "sns.regplot(x=var_name, y='y', data=train, scatter_kws={'alpha':0.5, 's':30})\n",
        "plt.xlabel(var_name, fontsize=12)\n",
        "plt.ylabel('y', fontsize=12)\n",
        "plt.title(\"Distribution of y variable with \"+var_name, fontsize=15)\n",
        "plt.show()"
      ]
    },
    {
      "cell_type": "markdown",
      "metadata": {
        "_cell_guid": "48a99cd5-fecd-4044-a139-2767048d36c5"
      },
      "source": [
        "We see that mostly the values of y for different IDs is clustered around 100. But there is a slight dip in the value towards the right as the ID increases"
      ]
    },
    {
      "cell_type": "markdown",
      "metadata": {
        "_cell_guid": "7cd5e8a8-0a49-1e77-b5c3-7fb6e16099eb"
      },
      "source": [
        "## Number of binary values in row\n",
        "We next look at the number of binary values per row and check the relation with Y variable"
      ]
    },
    {
      "cell_type": "code",
      "execution_count": null,
      "metadata": {
        "_cell_guid": "782fc681-d7bd-0969-eb38-0d681ea48dcd"
      },
      "outputs": [],
      "source": [
        "num_ones_row={}\n",
        "num_zeros_row={}\n",
        "y={}\n",
        "for index in train.index:\n",
        "    num_ones_row[index]=len(train.ix[index][train.ix[index]==1])\n",
        "    num_zeros_row[index]=len(train.ix[index][train.ix[index]==0])\n",
        "    y[index]=train.ix[index, 'y']"
      ]
    },
    {
      "cell_type": "code",
      "execution_count": null,
      "metadata": {
        "_cell_guid": "f9bd1f91-dd3c-97b2-3523-e02efdf46d94"
      },
      "outputs": [],
      "source": [
        "binary_row_df=pd.DataFrame()\n",
        "binary_row_df['Indexes']=num_ones_row.keys()\n",
        "binary_row_df['ones']=num_ones_row.values()\n",
        "binary_row_df['zeros']=num_zeros_row.values()\n",
        "binary_row_df['y']=y.values()\n",
        "binary_row_df=binary_row_df.sort_values(by='ones')\n",
        "binary_row_df.head(10)"
      ]
    },
    {
      "cell_type": "code",
      "execution_count": null,
      "metadata": {
        "_cell_guid": "0c033bf8-ed85-10ad-81dc-0315bd75fe66"
      },
      "outputs": [],
      "source": [
        "width = 0.35\n",
        "plt.figure(figsize=(10,5))\n",
        "plt.scatter(binary_row_df.ones, binary_row_df.y)\n",
        "plt.xlabel('Number of ones')\n",
        "\n",
        "plt.figure(figsize=(10,5))\n",
        "plt.scatter(binary_row_df.zeros, binary_row_df.y)\n",
        "plt.xlabel('Number of zeros')\n",
        "plt.show()\n"
      ]
    },
    {
      "cell_type": "code",
      "execution_count": null,
      "metadata": {
        "_cell_guid": "7c556a1f-9dd9-c985-8864-4ffb66d4fdd0"
      },
      "outputs": [],
      "source": [
        "plt.figure(figsize=(15,5))\n",
        "sns.pointplot(binary_row_df.ones, binary_row_df.y)\n",
        "plt.xlabel('Number of ones')\n",
        "\n",
        "plt.figure(figsize=(20,5))\n",
        "sns.pointplot(binary_row_df.zeros, binary_row_df.y)\n",
        "plt.xlabel('Number of zeros')\n",
        "\n",
        "plt.show()"
      ]
    },
    {
      "cell_type": "markdown",
      "metadata": {
        "_cell_guid": "c6165832-4843-2e1b-dd89-28f868d8f147"
      },
      "source": [
        "There is an increasing trend in Y with number of ones while it decreases for the number of zeros."
      ]
    },
    {
      "cell_type": "markdown",
      "metadata": {
        "_cell_guid": "c2896d6f-7e9b-e0a7-b110-3f104c44f28d"
      },
      "source": [
        "**Next up we will look at the model building and feature engineering process in another notebook**"
      ]
    }
  ],
  "metadata": {
    "_change_revision": 0,
    "_is_fork": false,
    "kernelspec": {
      "display_name": "Python 3",
      "language": "python",
      "name": "python3"
    },
    "language_info": {
      "codemirror_mode": {
        "name": "ipython",
        "version": 3
      },
      "file_extension": ".py",
      "mimetype": "text/x-python",
      "name": "python",
      "nbconvert_exporter": "python",
      "pygments_lexer": "ipython3",
      "version": "3.6.0"
    }
  },
  "nbformat": 4,
  "nbformat_minor": 0
}