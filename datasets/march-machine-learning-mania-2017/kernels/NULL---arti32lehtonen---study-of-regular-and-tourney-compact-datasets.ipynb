{
  "cells": [
    {
      "cell_type": "markdown",
      "metadata": {
        "_cell_guid": "5f717da0-3044-2095-78cd-be71101506e3"
      },
      "source": [
        "# Study of regular and tourney compact datasets"
      ]
    },
    {
      "cell_type": "code",
      "execution_count": null,
      "metadata": {
        "_cell_guid": "eee31b4c-981c-a713-b6c9-e81ca5733be2"
      },
      "outputs": [],
      "source": [
        "import pandas as pd\n",
        "import numpy as np\n",
        "import matplotlib.pyplot as plt\n",
        "\n",
        "from scipy.stats import spearmanr\n",
        "%matplotlib inline"
      ]
    },
    {
      "cell_type": "code",
      "execution_count": null,
      "metadata": {
        "_cell_guid": "3d7d0235-62b9-beb2-627a-997bca53e4a6"
      },
      "outputs": [],
      "source": [
        "seasons = pd.read_csv('../input/Seasons.csv', index_col=0)\n",
        "teams = pd.read_csv('../input/Teams.csv', index_col=0)\n",
        "compact_results_regular = pd.read_csv('../input/RegularSeasonCompactResults.csv')\n",
        "compact_results_tourney = pd.read_csv('../input/TourneyCompactResults.csv')"
      ]
    },
    {
      "cell_type": "markdown",
      "metadata": {
        "_cell_guid": "2d90386f-1b91-9a1a-ab1d-402878bbfd1f"
      },
      "source": [
        "## Regular season"
      ]
    },
    {
      "cell_type": "markdown",
      "metadata": {
        "_cell_guid": "93becb08-0f1e-0c33-fd71-170177d85891"
      },
      "source": [
        "Let's look to RegularSeasonCompactResults dataset. Which teams win more often?"
      ]
    },
    {
      "cell_type": "code",
      "execution_count": null,
      "metadata": {
        "_cell_guid": "90bc0e54-20b8-17f1-787b-7fd223473061"
      },
      "outputs": [],
      "source": [
        "teams_won_most_times = teams.join(pd.DataFrame(compact_results_regular['Wteam'].value_counts()[:5]), how='right')\n",
        "teams_won_most_times.columns = ['Team_Name', 'Wins_number']\n",
        "teams_won_most_times"
      ]
    },
    {
      "cell_type": "markdown",
      "metadata": {
        "_cell_guid": "2b01928b-3912-7f1a-d11a-f3dd2421a692"
      },
      "source": [
        "Histogram of the team victories:"
      ]
    },
    {
      "cell_type": "code",
      "execution_count": null,
      "metadata": {
        "_cell_guid": "b3fcd629-fe9f-8ce4-675e-698ed318fb86"
      },
      "outputs": [],
      "source": [
        "plt.hist(compact_results_regular['Wteam'].value_counts(), bins=20)\n",
        "plt.ylabel('number of teams')\n",
        "plt.xlabel('number of victories')"
      ]
    },
    {
      "cell_type": "markdown",
      "metadata": {
        "_cell_guid": "f87f2091-9ca2-1f27-ffaa-82f7aa61078a"
      },
      "source": [
        "And now, look to the similar characteristics of teams losses:"
      ]
    },
    {
      "cell_type": "code",
      "execution_count": null,
      "metadata": {
        "_cell_guid": "f95d3a1b-7f0e-1c62-1363-92f1c96d0aac"
      },
      "outputs": [],
      "source": [
        "teams_lost_most_times = teams.join(pd.DataFrame(compact_results_regular['Lteam'].value_counts()[:5]), how='right')\n",
        "teams_lost_most_times.columns = ['Team_Name', 'Losses_number']\n",
        "teams_lost_most_times"
      ]
    },
    {
      "cell_type": "code",
      "execution_count": null,
      "metadata": {
        "_cell_guid": "1d7a4b13-334a-d8d6-4dfa-1ae89955579c"
      },
      "outputs": [],
      "source": [
        "plt.hist(compact_results_regular['Lteam'].value_counts(), bins=20)\n",
        "plt.ylabel('number of teams')\n",
        "plt.xlabel('number of defeates')"
      ]
    },
    {
      "cell_type": "markdown",
      "metadata": {
        "_cell_guid": "044a0322-ae7f-e2fc-5a32-d4403d417981"
      },
      "source": [
        "Let's look which teams play more often than others:"
      ]
    },
    {
      "cell_type": "code",
      "execution_count": null,
      "metadata": {
        "_cell_guid": "a0f3d713-b8f6-4383-ddb8-5e90a56e47fb"
      },
      "outputs": [],
      "source": [
        "number_teams_wins = pd.DataFrame(compact_results_regular['Wteam'].value_counts())\n",
        "number_teams_losses = pd.DataFrame(compact_results_regular['Lteam'].value_counts())\n",
        "number_teams_matches = pd.DataFrame(number_teams_wins['Wteam'] + number_teams_losses['Lteam'])\n",
        "number_teams_matches.columns = ['Matches_number']"
      ]
    },
    {
      "cell_type": "code",
      "execution_count": null,
      "metadata": {
        "_cell_guid": "b2c2ca98-2fd4-046a-4610-1d149dcc2330"
      },
      "outputs": [],
      "source": [
        "plt.hist(number_teams_matches['Matches_number'], bins=20)\n",
        "plt.ylabel('number of teams')\n",
        "plt.xlabel('number of matches')"
      ]
    },
    {
      "cell_type": "markdown",
      "metadata": {
        "_cell_guid": "bb608993-6f80-7cd3-411c-cba25e0eda05"
      },
      "source": [
        "We can see, that there is a \n",
        "Spearmen correlation of team matches number and team victories:"
      ]
    },
    {
      "cell_type": "code",
      "execution_count": null,
      "metadata": {
        "_cell_guid": "d693ae6f-c20a-dff8-231d-6d85b43001cb"
      },
      "outputs": [],
      "source": [
        "statictics_table = number_teams_matches.join([number_teams_wins, number_teams_losses])\n",
        "print(spearmanr(statictics_table['Matches_number'], statictics_table['Wteam']))\n",
        "print(spearmanr(statictics_table['Matches_number'], statictics_table['Lteam']))"
      ]
    },
    {
      "cell_type": "markdown",
      "metadata": {
        "_cell_guid": "46a617ea-6301-29f1-4a88-12904a958855"
      },
      "source": [
        "Dependency number of victories/defeates from number of matches:"
      ]
    },
    {
      "cell_type": "code",
      "execution_count": null,
      "metadata": {
        "_cell_guid": "ef1cd9a9-f986-e493-a022-6e7bc99def2a"
      },
      "outputs": [],
      "source": [
        "plt.plot(statictics_table['Matches_number'], statictics_table['Wteam'], 'o')\n",
        "plt.xlabel('number of matches')\n",
        "plt.ylabel('number of victories')"
      ]
    },
    {
      "cell_type": "code",
      "execution_count": null,
      "metadata": {
        "_cell_guid": "834a82dc-130e-34e1-283d-587d1055173b"
      },
      "outputs": [],
      "source": [
        "plt.plot(statictics_table['Matches_number'], statictics_table['Lteam'], 'o')\n",
        "plt.xlabel('number of matches')\n",
        "plt.ylabel('number of defeates')"
      ]
    },
    {
      "cell_type": "markdown",
      "metadata": {
        "_cell_guid": "3775f836-cd18-7c42-45b6-173a7552c52b"
      },
      "source": [
        "Let's look to the different teams historical paths:"
      ]
    },
    {
      "cell_type": "code",
      "execution_count": null,
      "metadata": {
        "_cell_guid": "bad52171-2175-f104-a769-24c52804423b"
      },
      "outputs": [],
      "source": [
        "teams_regular_results = dict()\n",
        "\n",
        "for team in teams.index:\n",
        "    teams_regular_results[team] = list()\n",
        "    \n",
        "for season in seasons.index:\n",
        "    one_season_matches = compact_results_regular[compact_results_regular['Season'] == season]\n",
        "    one_season_wins_number = pd.DataFrame(one_season_matches['Wteam'].value_counts())\n",
        "    one_season_wins_number.columns = ['Wins_number']\n",
        "    one_season_teams = set(one_season_matches['Lteam'].unique()).union(set(one_season_matches['Wteam'].unique()))\n",
        "    for team in teams_regular_results.keys():\n",
        "        if team in one_season_teams:\n",
        "            if team in one_season_wins_number.index:\n",
        "                teams_regular_results[team].append(one_season_wins_number.loc[team]['Wins_number'])\n",
        "            else:\n",
        "                teams_regular_results[team].append(0)\n",
        "        else:\n",
        "            teams_regular_results[team].append(-5)   "
      ]
    },
    {
      "cell_type": "code",
      "execution_count": null,
      "metadata": {
        "_cell_guid": "4467965f-0b4f-61f1-63f5-de5cdd16405f"
      },
      "outputs": [],
      "source": [
        "team_name = 1108\n",
        "plt.plot(teams_regular_results[team_name], '-o')\n",
        "plt.plot([-5] * (len(seasons.index) + 1), '--')\n",
        "plt.text(-10, -5, \"no participate\")\n",
        "plt.ylim(-6, 23)\n",
        "plt.ylabel('number of wins')\n",
        "plt.xlabel('season')\n",
        "plt.title('Team ' + teams.loc[team_name]['Team_Name'])\n",
        "plt.xticks(range(len(seasons))[::5], seasons.index[::5])\n",
        "plt.show()"
      ]
    },
    {
      "cell_type": "code",
      "execution_count": null,
      "metadata": {
        "_cell_guid": "8e6538ee-c4c7-867f-7093-e4045535ea44"
      },
      "outputs": [],
      "source": [
        "team_name = 1242\n",
        "plt.plot(teams_regular_results[team_name], '-o')\n",
        "plt.plot([-5] * (len(seasons.index) + 1), '--')\n",
        "plt.text(-10, -5, \"no participate\")\n",
        "plt.ylim(-6, 40)\n",
        "plt.ylabel('number of wins')\n",
        "plt.xlabel('season')\n",
        "plt.title('Team ' + teams.loc[team_name]['Team_Name'])\n",
        "plt.xticks(range(len(seasons))[::5], seasons.index[::5])\n",
        "plt.show()"
      ]
    },
    {
      "cell_type": "code",
      "execution_count": null,
      "metadata": {
        "_cell_guid": "3ef95bf1-a0d7-f4ae-b252-9317d12b5d02"
      },
      "outputs": [],
      "source": [
        "team_name = 1392\n",
        "plt.plot(teams_regular_results[team_name], '-o')\n",
        "plt.plot([-5] * (len(seasons.index) + 1), '--')\n",
        "plt.text(-10, -5, \"no participate\")\n",
        "plt.ylim(-6, 28)\n",
        "plt.ylabel('number of wins')\n",
        "plt.xlabel('season')\n",
        "plt.title('Team ' + teams.loc[team_name]['Team_Name'])\n",
        "plt.xticks(range(len(seasons))[::5], seasons.index[::5])\n",
        "plt.show()"
      ]
    },
    {
      "cell_type": "markdown",
      "metadata": {
        "_cell_guid": "c255008b-9572-eceb-90fc-eaf8d7e9558b"
      },
      "source": [
        "## Tourney"
      ]
    },
    {
      "cell_type": "markdown",
      "metadata": {
        "_cell_guid": "67c2bc0f-bc7e-17d6-3428-99ae854ab167"
      },
      "source": [
        "All the same features for tourney results:"
      ]
    },
    {
      "cell_type": "code",
      "execution_count": null,
      "metadata": {
        "_cell_guid": "046fcb48-2570-56c0-f494-d04b3253bcd8"
      },
      "outputs": [],
      "source": [
        "teams_won_most_times = teams.join(pd.DataFrame(compact_results_tourney['Wteam'].value_counts()[:5]), how='right')\n",
        "teams_won_most_times.columns = ['Team_Name', 'Wins_number']\n",
        "teams_won_most_times"
      ]
    },
    {
      "cell_type": "code",
      "execution_count": null,
      "metadata": {
        "_cell_guid": "66c0ca9d-7a5e-84f9-33da-a97e60ec720d"
      },
      "outputs": [],
      "source": [
        "teams_lost_most_times = teams.join(pd.DataFrame(compact_results_tourney['Lteam'].value_counts()[:5]), how='right')\n",
        "teams_lost_most_times.columns = ['Team_Name', 'Losses_number']\n",
        "teams_lost_most_times"
      ]
    },
    {
      "cell_type": "code",
      "execution_count": null,
      "metadata": {
        "_cell_guid": "5e6cbdcc-3cb1-0c80-3266-bace97d039ed"
      },
      "outputs": [],
      "source": [
        "plt.hist(compact_results_tourney['Wteam'].value_counts(), bins=20)\n",
        "plt.ylabel('number of teams')\n",
        "plt.xlabel('number of victories')"
      ]
    },
    {
      "cell_type": "code",
      "execution_count": null,
      "metadata": {
        "_cell_guid": "e8e70a8c-33fd-05ec-15e7-95f574908d85"
      },
      "outputs": [],
      "source": [
        "plt.hist(compact_results_tourney['Lteam'].value_counts(), bins=20)\n",
        "plt.ylabel('number of teams')\n",
        "plt.xlabel('number of defeates')"
      ]
    },
    {
      "cell_type": "code",
      "execution_count": null,
      "metadata": {
        "_cell_guid": "ff991377-3a1e-8024-679f-6f9c78f98f68"
      },
      "outputs": [],
      "source": [
        "number_teams_wins = pd.DataFrame(compact_results_tourney['Wteam'].value_counts())\n",
        "number_teams_losses = pd.DataFrame(compact_results_tourney['Lteam'].value_counts())\n",
        "number_teams_matches = pd.concat([number_teams_wins, number_teams_losses], axis=1)\n",
        "number_teams_matches.fillna(0, inplace=True)\n",
        "\n",
        "number_teams_matches['Matches_number'] = number_teams_matches['Wteam'] + number_teams_matches['Lteam']\n",
        "plt.hist(number_teams_matches['Matches_number'], bins=20)\n",
        "plt.ylabel('number of teams')\n",
        "plt.xlabel('number of matches')"
      ]
    },
    {
      "cell_type": "code",
      "execution_count": null,
      "metadata": {
        "_cell_guid": "308187fe-8e76-ace1-afa9-5e613188170e"
      },
      "outputs": [],
      "source": [
        "teams_tourney_results = dict()\n",
        "\n",
        "for team in teams.index:\n",
        "    teams_tourney_results[team] = list()\n",
        " \n",
        "for season in seasons.index:\n",
        "    one_season_matches = compact_results_tourney[compact_results_tourney['Season'] == season]\n",
        "    one_season_wins_number = pd.DataFrame(one_season_matches['Wteam'].value_counts())\n",
        "    one_season_wins_number.columns = ['Wins_number']\n",
        "    one_season_teams = set(one_season_matches['Lteam'].unique()).union(set(one_season_matches['Wteam'].unique()))\n",
        "    for team in teams_tourney_results.keys():\n",
        "        if team in one_season_teams:\n",
        "            if team in one_season_wins_number.index:\n",
        "                teams_tourney_results[team].append(one_season_wins_number.loc[team]['Wins_number'])\n",
        "            else:\n",
        "                teams_tourney_results[team].append(0)\n",
        "        else:\n",
        "            teams_tourney_results[team].append(-5)"
      ]
    },
    {
      "cell_type": "code",
      "execution_count": null,
      "metadata": {
        "_cell_guid": "51cc3f40-120f-5a21-2916-c206ceb206e6"
      },
      "outputs": [],
      "source": [
        "team_name = 1181\n",
        "plt.plot(teams_tourney_results[team_name], '-o')\n",
        "plt.plot([-5] * (len(seasons.index) + 1), '--')\n",
        "plt.text(-10, -5, \"no participate\")\n",
        "plt.ylim(-6, 10)\n",
        "plt.ylabel('number of wins')\n",
        "plt.xlabel('season')\n",
        "plt.title('Team ' + teams.loc[team_name]['Team_Name'])\n",
        "plt.xticks(range(len(seasons))[::5], seasons.index[::5])\n",
        "plt.show()"
      ]
    },
    {
      "cell_type": "code",
      "execution_count": null,
      "metadata": {
        "_cell_guid": "12297f7b-39af-df55-e54f-7387fed67161"
      },
      "outputs": [],
      "source": [
        "team_name = 1380\n",
        "plt.plot(teams_tourney_results[team_name], '-o')\n",
        "plt.plot([-5] * (len(seasons.index) + 1), '--')\n",
        "plt.text(-10, -5, \"no participate\")\n",
        "plt.ylim(-6, 10)\n",
        "plt.ylabel('number of wins')\n",
        "plt.xlabel('season')\n",
        "plt.title('Team ' + teams.loc[team_name]['Team_Name'])\n",
        "plt.xticks(range(len(seasons))[::5], seasons.index[::5])\n",
        "plt.show()"
      ]
    },
    {
      "cell_type": "markdown",
      "metadata": {
        "_cell_guid": "372c9706-ef9a-98a5-2ce8-1f5f6411882b"
      },
      "source": [
        "## Relation between regular and torney results"
      ]
    },
    {
      "cell_type": "markdown",
      "metadata": {
        "_cell_guid": "60c9cabf-0775-4573-b146-6c0b7601afdb"
      },
      "source": [
        "Let's measure spearman correlation of regular and torney all seasons results for each team:"
      ]
    },
    {
      "cell_type": "code",
      "execution_count": null,
      "metadata": {
        "_cell_guid": "da76fd2a-550e-8aba-9124-f0971e0b4667"
      },
      "outputs": [],
      "source": [
        "results_correlation_coef = list()\n",
        "\n",
        "for team in teams_regular_results.keys():\n",
        "    if np.any(np.unique(teams_tourney_results[team]) != np.array([-5])): \n",
        "        results_correlation_coef.append(spearmanr(teams_regular_results[team], teams_tourney_results[team])[0])"
      ]
    },
    {
      "cell_type": "code",
      "execution_count": null,
      "metadata": {
        "_cell_guid": "ab650c99-39fe-d55b-735e-5294cfc1f760"
      },
      "outputs": [],
      "source": [
        "np.mean(results_correlation_coef)"
      ]
    },
    {
      "cell_type": "code",
      "execution_count": null,
      "metadata": {
        "_cell_guid": "1e1cb354-4238-824f-36f1-bc1e79c5d9ed"
      },
      "outputs": [],
      "source": [
        "plt.hist(results_correlation_coef)\n",
        "plt.xlabel('spearman correlation')\n",
        "plt.ylabel('number of teams')"
      ]
    },
    {
      "cell_type": "code",
      "execution_count": null,
      "metadata": {
        "_cell_guid": "c9728e1c-f8ca-28d2-af4c-4816016bcf5b"
      },
      "outputs": [],
      "source": ""
    }
  ],
  "metadata": {
    "_change_revision": 0,
    "_is_fork": false,
    "kernelspec": {
      "display_name": "Python 3",
      "language": "python",
      "name": "python3"
    },
    "language_info": {
      "codemirror_mode": {
        "name": "ipython",
        "version": 3
      },
      "file_extension": ".py",
      "mimetype": "text/x-python",
      "name": "python",
      "nbconvert_exporter": "python",
      "pygments_lexer": "ipython3",
      "version": "3.5.2"
    }
  },
  "nbformat": 4,
  "nbformat_minor": 0
}