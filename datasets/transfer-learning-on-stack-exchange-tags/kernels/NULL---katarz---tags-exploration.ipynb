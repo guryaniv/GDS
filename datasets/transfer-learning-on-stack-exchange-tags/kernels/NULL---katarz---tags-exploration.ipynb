{
  "cells": [
    {
      "cell_type": "code",
      "execution_count": null,
      "metadata": {
        "_cell_guid": "3680c4ea-2ada-361c-bda1-e3f36e7e926d"
      },
      "outputs": [],
      "source": [
        "# This Python 3 environment comes with many helpful analytics libraries installed\n",
        "# It is defined by the kaggle/python docker image: https://github.com/kaggle/docker-python\n",
        "# For example, here's several helpful packages to load in \n",
        "\n",
        "import numpy as np # linear algebra\n",
        "import pandas as pd # data processing, CSV file I/O (e.g. pd.read_csv)\n",
        "\n",
        "# Input data files are available in the \"../input/\" directory.\n",
        "# For example, running this (by clicking run or pressing Shift+Enter) will list the files in the input directory\n",
        "\n",
        "from subprocess import check_output\n",
        "print(check_output([\"ls\", \"../input\"]).decode(\"utf8\"))\n",
        "\n",
        "# Any results you write to the current directory are saved as output."
      ]
    },
    {
      "cell_type": "code",
      "execution_count": null,
      "metadata": {
        "_cell_guid": "bbac5850-dd98-ebc0-1f1a-8a27995a3ea8"
      },
      "outputs": [],
      "source": [
        "import numpy as np\n",
        "import pandas as pd\n",
        "import matplotlib.pyplot as plt\n",
        "from nltk.book import FreqDist\n",
        "\n",
        "biology=pd.read_csv(\"../input/biology.csv\") \n",
        "tags=[]\n",
        "for tag in biology[\"tags\"]:\n",
        "    for t in tag.split():\n",
        "        tags.append(t)\n",
        "fdist1 = FreqDist(tags)\n",
        "#fdist1.most_common(50)\n",
        "fdist1.plot(50, cumulative=True)"
      ]
    },
    {
      "cell_type": "code",
      "execution_count": null,
      "metadata": {
        "_cell_guid": "769682e2-8af1-82ab-fb39-a630bb27a419"
      },
      "outputs": [],
      "source": [
        "cooking=pd.read_csv(\"../input/cooking.csv\") \n",
        "tags=[]\n",
        "for tag in cooking[\"tags\"]:\n",
        "    for t in tag.split():\n",
        "        tags.append(t)\n",
        "fdist1 = FreqDist(tags)\n",
        "fdist1.plot(50, cumulative=True)"
      ]
    },
    {
      "cell_type": "code",
      "execution_count": null,
      "metadata": {
        "_cell_guid": "fe1d91d1-6e98-ebb9-dbc9-913aff0ae32c"
      },
      "outputs": [],
      "source": [
        "crypto=pd.read_csv(\"../input/crypto.csv\") \n",
        "tags=[]\n",
        "for tag in crypto[\"tags\"]:\n",
        "    for t in tag.split():\n",
        "        tags.append(t)\n",
        "fdist1 = FreqDist(tags)\n",
        "fdist1.plot(50, cumulative=True)"
      ]
    },
    {
      "cell_type": "code",
      "execution_count": null,
      "metadata": {
        "_cell_guid": "5023afcd-38ef-fe13-b2e2-8175401b6c3b"
      },
      "outputs": [],
      "source": [
        "fdist1.most_common(10)"
      ]
    },
    {
      "cell_type": "code",
      "execution_count": null,
      "metadata": {
        "_cell_guid": "d35521d2-6420-f073-94f3-428cd94dc21c"
      },
      "outputs": [],
      "source": [
        "diy=pd.read_csv(\"../input/diy.csv\") \n",
        "tags=[]\n",
        "for tag in diy[\"tags\"]:\n",
        "    for t in tag.split():\n",
        "        tags.append(t)\n",
        "fdist1 = FreqDist(tags)\n",
        "fdist1.plot(50, cumulative=True)"
      ]
    },
    {
      "cell_type": "code",
      "execution_count": null,
      "metadata": {
        "_cell_guid": "bd435e78-370b-427b-d525-409f1e166335"
      },
      "outputs": [],
      "source": [
        "travel=pd.read_csv(\"../input/travel.csv\") \n",
        "tags=[]\n",
        "for tag in travel[\"tags\"]:\n",
        "    for t in tag.split():\n",
        "        tags.append(t)\n",
        "fdist1 = FreqDist(tags)\n",
        "fdist1.plot(50, cumulative=True)"
      ]
    },
    {
      "cell_type": "code",
      "execution_count": null,
      "metadata": {
        "_cell_guid": "56475dc2-4493-03f8-5e86-4dd49dfb6dba"
      },
      "outputs": [],
      "source": [
        "import networkx as nx\n",
        "used = []\n",
        "V=[used.append(x) for x in tags if x not in used]# list of vertices\n",
        "g=nx.Graph()\n",
        "g.add_nodes_from(V)\n",
        "E=[]\n",
        "#E=[e for e in travel[\"tags\"]]\n",
        "for tag in travel[\"tags\"]:\n",
        "    s=tag.split()\n",
        "    if len(s)==2: \n",
        "        E.append(s)\n",
        "    elif len(s)>2:\n",
        "        for i in (0,len(s)):\n",
        "            for j in range(i+1,len(s)):\n",
        "                E.append([s[i],s[j]])\n",
        "\n",
        "g.add_edges_from(E)\n",
        "\n",
        "pos=nx.fruchterman_reingold_layout(g) \n"
      ]
    },
    {
      "cell_type": "code",
      "execution_count": null,
      "metadata": {
        "_cell_guid": "29b31a5b-b7d8-9a22-3239-41a4a0d0eb70"
      },
      "outputs": [],
      "source": [
        "import plotly.plotly as py\n",
        "from plotly.graph_objs import *\n",
        "\n",
        "Xv=[pos[k][0] for k in V]\n",
        "Yv=[pos[k][1] for k in V]\n",
        "Xed=[]\n",
        "Yed=[]\n",
        "for edge in E:\n",
        "    Xed+=[pos[edge[0]][0],pos[edge[1]][0], None]\n",
        "    Yed+=[pos[edge[0]][1],pos[edge[1]][1], None] \n",
        "    \n",
        "trace3=Scatter(x=Xed,\n",
        "               y=Yed,\n",
        "               mode='lines',\n",
        "               line=Line(color='rgb(210,210,210)', width=1),\n",
        "               hoverinfo='none'\n",
        "               )\n",
        "trace4=Scatter(x=Xv,\n",
        "               y=Yv,\n",
        "               mode='markers',\n",
        "               name='net',\n",
        "               marker=Marker(symbol='dot',\n",
        "                             size=5, \n",
        "                             color='#6959CD',\n",
        "                             line=Line(color='rgb(50,50,50)', width=0.5)\n",
        "                             ),\n",
        "               text=V,\n",
        "               hoverinfo='text'\n",
        "               )\n",
        "\n",
        "annot=\"This networkx.Graph has the Fruchterman-Reingold layout<br>Code:\"+\\\n",
        "\"<a href='http://nbviewer.ipython.org/gist/empet/07ea33b2e4e0b84193bd'> [2]</a>\"\n",
        "\n",
        "data1=Data([trace3, trace4])\n",
        "fig1=Figure(data=data1, layout=layout)\n",
        "fig1['layout']['annotations'][0]['text']=annot\n",
        "py.iplot(fig1, filename='Coautorship-network-nx')"
      ]
    }
  ],
  "metadata": {
    "_change_revision": 0,
    "_is_fork": false,
    "kernelspec": {
      "display_name": "Python 3",
      "language": "python",
      "name": "python3"
    },
    "language_info": {
      "codemirror_mode": {
        "name": "ipython",
        "version": 3
      },
      "file_extension": ".py",
      "mimetype": "text/x-python",
      "name": "python",
      "nbconvert_exporter": "python",
      "pygments_lexer": "ipython3",
      "version": "3.5.2"
    }
  },
  "nbformat": 4,
  "nbformat_minor": 0
}