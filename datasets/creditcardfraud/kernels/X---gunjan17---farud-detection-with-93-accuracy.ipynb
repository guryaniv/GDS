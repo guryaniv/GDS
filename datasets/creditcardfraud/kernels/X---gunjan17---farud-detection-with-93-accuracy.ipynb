{
  "cells": [
    {
      "cell_type": "markdown",
      "metadata": {
        "_cell_guid": "98ed5043-4f59-c000-bdd4-15e6b994e6f2"
      },
      "source": [
        "In this problem \n",
        "\n",
        " 1. load the data\n",
        " 2. check the data\n",
        " 3. clean the data\n",
        " 4. perfoming algorithm\n",
        " 5. predict the result\n",
        "\n",
        "in this i use the logistic regression,random forest for better prediction"
      ]
    },
    {
      "cell_type": "code",
      "execution_count": null,
      "metadata": {
        "_cell_guid": "33c6f25d-7742-3e4d-f6ed-2559e927b955"
      },
      "outputs": [],
      "source": [
        "# This Python 3 environment comes with many helpful analytics libraries installed\n",
        "# It is defined by the kaggle/python docker image: https://github.com/kaggle/docker-python\n",
        "# For example, here's several helpful packages to load in \n",
        "\n",
        "import numpy as np # linear algebra\n",
        "import pandas as pd # data processing, CSV file I/O (e.g. pd.read_csv)\n",
        "\n",
        "# Input data files are available in the \"../input/\" directory.\n",
        "# For example, running this (by clicking run or pressing Shift+Enter) will list the files in the input directory\n",
        "\n",
        "from subprocess import check_output\n",
        "print(check_output([\"ls\", \"../input\"]).decode(\"utf8\"))\n",
        "\n",
        "# Any results you write to the current directory are saved as output."
      ]
    },
    {
      "cell_type": "code",
      "execution_count": null,
      "metadata": {
        "_cell_guid": "b3253f80-1344-41b4-fcb1-3f6afe6b8ef4"
      },
      "outputs": [],
      "source": [
        "from sklearn.linear_model import LogisticRegression\n",
        "from sklearn.ensemble import RandomForestClassifier\n",
        "import pandas as pd\n",
        "import numpy as np\n",
        "import  matplotlib.pyplot as plt\n",
        "import seaborn as sns\n",
        "%matplotlib inline"
      ]
    },
    {
      "cell_type": "code",
      "execution_count": null,
      "metadata": {
        "_cell_guid": "eaf71039-4cf7-cc9a-ad14-758c600a8f90"
      },
      "outputs": [],
      "source": [
        "#loading the data\n",
        "creditfraud = pd.read_csv(\"../input/creditcard.csv\")\n",
        "pd.set_option('display.max_columns', 500)"
      ]
    },
    {
      "cell_type": "code",
      "execution_count": null,
      "metadata": {
        "_cell_guid": "33542975-bb48-0f26-4959-a9829db425de"
      },
      "outputs": [],
      "source": [
        "creditfraud.describe()"
      ]
    },
    {
      "cell_type": "code",
      "execution_count": null,
      "metadata": {
        "_cell_guid": "519c34ec-ed3d-a513-d47e-ebc15fc528ab"
      },
      "outputs": [],
      "source": [
        "creditfraud.head()"
      ]
    },
    {
      "cell_type": "code",
      "execution_count": null,
      "metadata": {
        "_cell_guid": "100a40e7-6f34-7a19-f9c4-b3f0c1bdc056"
      },
      "outputs": [],
      "source": [
        "creditfraud[\"V1\"].isnull().sum()"
      ]
    },
    {
      "cell_type": "code",
      "execution_count": null,
      "metadata": {
        "_cell_guid": "a82a1dd7-20e3-327a-7ecf-eb877e153707"
      },
      "outputs": [],
      "source": [
        "col_list = [\"V1\",\"V2\",\"V3\",\"V4\",\"V5\",\"V6\",\"V7\",\"V8\",\"V9\",\"V10\",\"V11\",\"V12\",\"V13\",\"V14\",\"V15\",\"V16\",\"V17\",\"V18\",\"V19\",\"V20\",\"V21\",\"V22\",\"V23\",\"V24\",\"V25\",\"V26\",\"V27\",\"V28\",\"Amount\"]"
      ]
    },
    {
      "cell_type": "code",
      "execution_count": null,
      "metadata": {
        "_cell_guid": "8f3e0421-e0cf-ffa8-b8dd-fce61b496d98"
      },
      "outputs": [],
      "source": [
        "j = 0\n",
        "for i in col_list:\n",
        "    p=creditfraud[i].isnull().sum()\n",
        "    j=j+1\n",
        "    print(j,p)"
      ]
    },
    {
      "cell_type": "code",
      "execution_count": null,
      "metadata": {
        "_cell_guid": "7a006a21-d8ee-3982-411a-0aff28300d9c"
      },
      "outputs": [],
      "source": [
        "\n",
        "from sklearn.model_selection import train_test_split"
      ]
    },
    {
      "cell_type": "code",
      "execution_count": null,
      "metadata": {
        "_cell_guid": "ee61bad3-a5b1-d9b1-dbb9-d25809e9475d"
      },
      "outputs": [],
      "source": [
        "\n",
        "X_col_list = [\"V1\",\"V2\",\"V3\",\"V4\",\"V5\",\"V6\",\"V7\",\"V8\",\"V9\",\"V10\",\"V11\",\"V12\",\"V13\",\"V14\",\"V15\",\"V16\",\"V17\",\"V18\",\"V19\",\"V20\",\"V21\",\"V22\",\"V23\",\"V24\",\"V25\",\"V26\",\"V27\",\"V28\",\"Amount\"]"
      ]
    },
    {
      "cell_type": "code",
      "execution_count": null,
      "metadata": {
        "_cell_guid": "79eeea03-52b6-4662-3cfb-6871f1965926"
      },
      "outputs": [],
      "source": [
        "\n",
        "\n",
        "X = creditfraud[X_col_list]"
      ]
    },
    {
      "cell_type": "code",
      "execution_count": null,
      "metadata": {
        "_cell_guid": "93d77d1a-55cd-d55d-5421-80fa7702f0ca"
      },
      "outputs": [],
      "source": [
        "\n",
        "\n",
        "\n",
        "Y = creditfraud[\"Class\"]"
      ]
    },
    {
      "cell_type": "code",
      "execution_count": null,
      "metadata": {
        "_cell_guid": "919a4f82-151b-3275-cdbf-32e15a965111"
      },
      "outputs": [],
      "source": [
        "\n",
        "X_train, X_test, y_train, y_test = train_test_split(X, Y, test_size=0.33, random_state=42)"
      ]
    },
    {
      "cell_type": "code",
      "execution_count": null,
      "metadata": {
        "_cell_guid": "5f6a60fd-bf78-7d09-a2cb-b26d4260ed66"
      },
      "outputs": [],
      "source": [
        "\n",
        "lr = LogisticRegression()"
      ]
    },
    {
      "cell_type": "code",
      "execution_count": null,
      "metadata": {
        "_cell_guid": "b7771a04-69b1-6833-eab6-6cf3f8dd8f58"
      },
      "outputs": [],
      "source": [
        "lr.fit(X_train,y_train)"
      ]
    },
    {
      "cell_type": "code",
      "execution_count": null,
      "metadata": {
        "_cell_guid": "120e7cc7-d729-81f7-12e3-1bdf04906305"
      },
      "outputs": [],
      "source": [
        "lr.score(X_train,y_train)"
      ]
    },
    {
      "cell_type": "code",
      "execution_count": null,
      "metadata": {
        "_cell_guid": "8334ad8a-393e-a6f3-07ac-621e7db37a54"
      },
      "outputs": [],
      "source": [
        "pre=lr.predict(X_test)"
      ]
    },
    {
      "cell_type": "code",
      "execution_count": null,
      "metadata": {
        "_cell_guid": "cac5f6ca-e582-e7a5-d9d5-7f5fd10c8405"
      },
      "outputs": [],
      "source": [
        "arr = np.array(y_test)"
      ]
    },
    {
      "cell_type": "code",
      "execution_count": null,
      "metadata": {
        "_cell_guid": "da3ee205-abb8-1ee6-c0db-b5c7ef51d40b"
      },
      "outputs": [],
      "source": [
        "\n",
        "j=0\n",
        "for i in range(0,len(pre)):\n",
        "   if pre[i]!=  arr[i]:\n",
        "    j = j+1\n",
        "    "
      ]
    },
    {
      "cell_type": "code",
      "execution_count": null,
      "metadata": {
        "_cell_guid": "ed687da4-d1b5-7612-fb1f-a2c5c9bf2b04"
      },
      "outputs": [],
      "source": [
        "#% of accuracy\n",
        "acc = ((len(pre)-j)/len(pre))*100"
      ]
    },
    {
      "cell_type": "code",
      "execution_count": null,
      "metadata": {
        "_cell_guid": "044b2ab9-ad4d-1979-a111-4cb648a55161"
      },
      "outputs": [],
      "source": [
        "\n",
        "acc"
      ]
    },
    {
      "cell_type": "code",
      "execution_count": null,
      "metadata": {
        "_cell_guid": "aab7d2b9-661f-3156-acb6-4bf54b87f84f"
      },
      "outputs": [],
      "source": [
        "pre = np.array(pre)"
      ]
    },
    {
      "cell_type": "code",
      "execution_count": null,
      "metadata": {
        "_cell_guid": "e00d4371-1ff4-a0da-3a64-78a5ec131d13"
      },
      "outputs": [],
      "source": [
        "import math"
      ]
    },
    {
      "cell_type": "code",
      "execution_count": null,
      "metadata": {
        "_cell_guid": "e30bc243-ec6e-e8c7-b2dd-a07aea9c2cfe"
      },
      "outputs": [],
      "source": [
        "\n",
        "\n",
        "\n",
        "#root mean squre error\n",
        "rms = math.sqrt((sum((arr-pre)**2))/len(pre))"
      ]
    },
    {
      "cell_type": "code",
      "execution_count": null,
      "metadata": {
        "_cell_guid": "bebcea1e-b4dd-2195-b0c1-2d4f3ab5f972"
      },
      "outputs": [],
      "source": [
        "#rms  accuracy %\n",
        "rms_acc_per=100-rms*100"
      ]
    },
    {
      "cell_type": "code",
      "execution_count": null,
      "metadata": {
        "_cell_guid": "a35bdf77-e550-86ec-2d24-9ed6a68dd893"
      },
      "outputs": [],
      "source": [
        "rms_acc_per"
      ]
    },
    {
      "cell_type": "code",
      "execution_count": null,
      "metadata": {
        "_cell_guid": "be21a33a-23e8-3847-cae8-584477acd603"
      },
      "outputs": [],
      "source": [
        "\n",
        "#count_classes = pd.value_counts(creditfraud['Class'], sort = True).sort_index()\n",
        "#count_classes.plot(kind = 'bar')\n",
        "sns.countplot(x=\"Class\",data=creditfraud)\n",
        "plt.title(\"Fraud class histogram\")\n",
        "plt.xlabel(\"Class\")\n",
        "plt.ylabel(\"Frequency\")"
      ]
    },
    {
      "cell_type": "code",
      "execution_count": null,
      "metadata": {
        "_cell_guid": "bf36b128-2e5b-657f-251c-a390be7c8750"
      },
      "outputs": [],
      "source": [
        "y_test=pd.DataFrame(y_test)\n",
        "sns.countplot(x=\"Class\",data=y_test)\n",
        "#count_classes = pd.value_counts(y_test, sort = True).sort_index()\n",
        "#count_classes.plot(kind = 'bar')\n",
        "plt.title(\"Actual Fraud class histogram\")\n",
        "plt.xlabel(\"Class\")\n",
        "plt.ylabel(\"Frequency\")"
      ]
    },
    {
      "cell_type": "code",
      "execution_count": null,
      "metadata": {
        "_cell_guid": "027c2c14-34fc-636d-a846-b72a03367136"
      },
      "outputs": [],
      "source": [
        "\n",
        "pre.columns = ['Class']\n"
      ]
    },
    {
      "cell_type": "code",
      "execution_count": null,
      "metadata": {
        "_cell_guid": "b0f3320c-5f8e-31c9-80e3-b8036e898538"
      },
      "outputs": [],
      "source": [
        "pre = pd.DataFrame(pre)\n",
        "sns.countplot(x=\"Class\",data=pre)\n",
        "#count_classes = pd.value_counts(pre, sort = True).sort_index()\n",
        "#count_classes.plot(kind = 'bar')\n",
        "plt.title(\"Predicted Fraud class histogram\")\n",
        "plt.xlabel(\"Class\")\n",
        "plt.ylabel(\"Frequency\")\n",
        "plt.show()"
      ]
    },
    {
      "cell_type": "code",
      "execution_count": null,
      "metadata": {
        "_cell_guid": "d2674b09-35e1-d73f-b6a7-32ab71014a0d"
      },
      "outputs": [],
      "source": [
        "#importing the f1_score\n",
        "from sklearn.metrics import f1_score"
      ]
    },
    {
      "cell_type": "code",
      "execution_count": null,
      "metadata": {
        "_cell_guid": "0b127ae3-3dce-53d5-946c-94d65993eff7"
      },
      "outputs": [],
      "source": [
        "f_one_score = f1_score(y_test,pre,average='macro')"
      ]
    },
    {
      "cell_type": "code",
      "execution_count": null,
      "metadata": {
        "_cell_guid": "4f3ecc1b-88f7-7f83-fb99-69fb45bcfee5"
      },
      "outputs": [],
      "source": [
        "f_one_score"
      ]
    },
    {
      "cell_type": "code",
      "execution_count": null,
      "metadata": {
        "_cell_guid": "a485a675-f649-4adc-8d52-dc8a6c40d99a"
      },
      "outputs": [],
      "source": [
        "rf = RandomForestClassifier(n_estimators=100)"
      ]
    },
    {
      "cell_type": "code",
      "execution_count": null,
      "metadata": {
        "_cell_guid": "61353af5-e99d-21e3-9e93-3c952a9d8321"
      },
      "outputs": [],
      "source": [
        "rf.fit(X_train,y_train)"
      ]
    },
    {
      "cell_type": "code",
      "execution_count": null,
      "metadata": {
        "_cell_guid": "b5233fdd-ce26-f5b3-2b75-e186a4d9a7b2"
      },
      "outputs": [],
      "source": [
        "rf.score(X_train,y_train)"
      ]
    },
    {
      "cell_type": "code",
      "execution_count": null,
      "metadata": {
        "_cell_guid": "8d5ec68e-df1b-d27a-9c1d-deaaf9b9f0a0"
      },
      "outputs": [],
      "source": [
        "y_test=pd.DataFrame(y_test)\n",
        "sns.countplot(x=\"Class\",data=y_test)\n",
        "#count_classes = pd.value_counts(y_test, sort = True).sort_index()\n",
        "#count_classes.plot(kind = 'bar')\n",
        "plt.title(\"Actual Fraud class histogram\")\n",
        "plt.xlabel(\"Class\")\n",
        "plt.ylabel(\"Frequency\")"
      ]
    },
    {
      "cell_type": "code",
      "execution_count": null,
      "metadata": {
        "_cell_guid": "1151c137-c97a-59b3-3a36-ad4dc46d7036"
      },
      "outputs": [],
      "source": [
        "rf_pre = rf.predict(X_test)\n"
      ]
    },
    {
      "cell_type": "code",
      "execution_count": null,
      "metadata": {
        "_cell_guid": "544fc4a9-57d4-bb61-f042-60af3ae5b7cc"
      },
      "outputs": [],
      "source": [
        "rf_pre=pd.DataFrame(rf_pre)\n",
        "rf_pre.columns = [\"Class\"]"
      ]
    },
    {
      "cell_type": "code",
      "execution_count": null,
      "metadata": {
        "_cell_guid": "aa0e77db-460f-a165-c798-1e5851987881"
      },
      "outputs": [],
      "source": [
        "rf_pre=pd.DataFrame(rf_pre)\n",
        "sns.countplot(x=\"Class\",data=rf_pre)\n",
        "#count_classes = pd.value_counts(y_test, sort = True).sort_index()\n",
        "#count_classes.plot(kind = 'bar')\n",
        "plt.title(\"Predicted Fraud class histogram\")\n",
        "plt.xlabel(\"Class\")\n",
        "plt.ylabel(\"Frequency\")"
      ]
    },
    {
      "cell_type": "code",
      "execution_count": null,
      "metadata": {
        "_cell_guid": "9e88bb8c-6b4e-e0a2-26ec-7366038222ec"
      },
      "outputs": [],
      "source": [
        "f_one_score_rf = f1_score(y_test,rf_pre,average='macro')"
      ]
    },
    {
      "cell_type": "code",
      "execution_count": null,
      "metadata": {
        "_cell_guid": "6e3b9e6f-8521-5d46-2e64-24ae97de4d06"
      },
      "outputs": [],
      "source": [
        "f_one_score_rf"
      ]
    },
    {
      "cell_type": "code",
      "execution_count": null,
      "metadata": {
        "_cell_guid": "c0b61f7d-46ff-e11c-c5de-6e87a4bb2e72"
      },
      "outputs": [],
      "source": [
        ""
      ]
    }
  ],
  "metadata": {
    "_change_revision": 0,
    "_is_fork": false,
    "kernelspec": {
      "display_name": "Python 3",
      "language": "python",
      "name": "python3"
    },
    "language_info": {
      "codemirror_mode": {
        "name": "ipython",
        "version": 3
      },
      "file_extension": ".py",
      "mimetype": "text/x-python",
      "name": "python",
      "nbconvert_exporter": "python",
      "pygments_lexer": "ipython3",
      "version": "3.6.0"
    }
  },
  "nbformat": 4,
  "nbformat_minor": 0
}