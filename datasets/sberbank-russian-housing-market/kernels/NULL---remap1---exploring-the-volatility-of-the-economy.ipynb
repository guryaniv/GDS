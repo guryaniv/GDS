{
  "cells": [
    {
      "cell_type": "markdown",
      "metadata": {
        "_cell_guid": "9d3ac16c-0795-330d-1417-bce7467c02d7"
      },
      "source": [
        "This notebook aims to explore the volatility of the datasets near the test data date range and explores the relationships between house price, inflation and interest rates, which are important drivers for people's decision making."
      ]
    },
    {
      "cell_type": "code",
      "execution_count": null,
      "metadata": {
        "_cell_guid": "cb00e888-e8e4-33d4-3f8d-8d6f38892777"
      },
      "outputs": [],
      "source": [
        "# This Python 3 environment comes with many helpful analytics libraries installed\n",
        "# It is defined by the kaggle/python docker image: https://github.com/kaggle/docker-python\n",
        "# For example, here's several helpful packages to load in \n",
        "\n",
        "import numpy as np # linear algebra\n",
        "import pandas as pd # data processing, CSV file I/O (e.g. pd.read_csv)\n",
        "\n",
        "# Input data files are available in the \"../input/\" directory.\n",
        "# For example, running this (by clicking run or pressing Shift+Enter) will list the files in the input directory\n",
        "\n",
        "from subprocess import check_output\n",
        "print(check_output([\"ls\", \"../input\"]).decode(\"utf8\"))\n",
        "\n",
        "# Any results you write to the current directory are saved as output.\n",
        "import numpy as np # linear algebra\n",
        "import pandas as pd # data processing, CSV file I/O (e.g. pd.read_csv)\n",
        "import matplotlib.pyplot as plt\n",
        "# Any results you write to the current directory are saved as output.\n",
        "import seaborn as sns\n",
        "sns.set(style=\"whitegrid\", color_codes=True)"
      ]
    },
    {
      "cell_type": "code",
      "execution_count": null,
      "metadata": {
        "_cell_guid": "e8c5d680-bda2-8f20-2f8b-8ead1256cff8"
      },
      "outputs": [],
      "source": [
        "train_df = pd.read_csv(\"../input/train.csv\")\n",
        "train_df = train_df[['id','timestamp','price_doc', 'full_sq', 'num_room']]\n",
        "train_df = train_df[train_df['full_sq'] < 450]\n",
        "train_df = train_df[train_df['num_room'] > 0]\n",
        "macro_df = pd.read_csv(\"../input/macro.csv\")\n",
        "macro_df = macro_df[['timestamp','usdrub','eurrub','mortgage_rate', 'mortgage_value', 'deposits_rate', 'salary_growth', 'cpi', 'ppi', 'overdue_wages_per_cap']]"
      ]
    },
    {
      "cell_type": "code",
      "execution_count": null,
      "metadata": {
        "_cell_guid": "a73b45bd-6fc5-c7a2-b678-b2f9f05b254a"
      },
      "outputs": [],
      "source": [
        "def visualize_feature_over_time(df, feature):\n",
        "    df['date_column'] = pd.to_datetime(df['timestamp'])\n",
        "    df['mnth_yr'] = df['date_column'].apply(lambda x: x.strftime('%B-%Y'))\n",
        "\n",
        "    df = df[[feature,\"mnth_yr\"]]\n",
        "    df_vis = df.groupby('mnth_yr')[feature].mean()\n",
        "    df_vis = df_vis.reset_index()\n",
        "    df_vis['mnth_yr'] = pd.to_datetime(df_vis['mnth_yr'])\n",
        "    df_vis.sort_values(by='mnth_yr')\n",
        "    df_vis.plot(x='mnth_yr', y=feature)\n",
        "\n",
        "    plt.figure()\n",
        "    plt.show()"
      ]
    },
    {
      "cell_type": "markdown",
      "metadata": {
        "_cell_guid": "3b4491c3-8b41-30b6-7328-e3c2b1ad8af3"
      },
      "source": [
        "First we take a look at the house price over time. In the loading of the dataset, we make a rough attempt to filter  outliers that would impact  the mean. Here's the plot for that:"
      ]
    },
    {
      "cell_type": "code",
      "execution_count": null,
      "metadata": {
        "_cell_guid": "87079ea8-a93a-89eb-2b98-aa319832d3a2"
      },
      "outputs": [],
      "source": [
        "visualize_feature_over_time(train_df, \"price_doc\")"
      ]
    },
    {
      "cell_type": "markdown",
      "metadata": {
        "_cell_guid": "a3729d7f-40b9-fea1-cdc9-17572601ae01"
      },
      "source": [
        "Now we look for similar patterns in the macro data. What the test data doesn't really tell us is how the house price could be affected by the economy, only the macro data can do that. Features like full_sq, state, number of cafes, distance to roads do explain the price, but you'd have to assume the economy is static to extract the effects of that. In this dataset, the economy is highly volatile, as the following will show. November, december 2014 and the first months of 2015 show a huge ramp-up in inflation and exchange rates, as the following plots show.\n",
        "\n",
        "Note that the slight increasing trend in house price doesn't follow the exchange rate all that well:"
      ]
    },
    {
      "cell_type": "code",
      "execution_count": null,
      "metadata": {
        "_cell_guid": "1846b0c5-c1b8-1520-9f95-d0141a059d36"
      },
      "outputs": [],
      "source": [
        "visualize_feature_over_time(macro_df, \"usdrub\")"
      ]
    },
    {
      "cell_type": "code",
      "execution_count": null,
      "metadata": {
        "_cell_guid": "fb989196-dcce-1a7c-19ea-1d61679aecb8"
      },
      "outputs": [],
      "source": [
        "visualize_feature_over_time(macro_df, \"eurrub\")"
      ]
    },
    {
      "cell_type": "markdown",
      "metadata": {
        "_cell_guid": "e7bdd8ef-de36-2500-15c6-f133beb87517"
      },
      "source": [
        "If you look at the general trend and the sharp increase, then even the inflation indicators aren't good explanators for the house price."
      ]
    },
    {
      "cell_type": "code",
      "execution_count": null,
      "metadata": {
        "_cell_guid": "87bfba25-150d-002f-b7df-59eb6a7d586a"
      },
      "outputs": [],
      "source": [
        "visualize_feature_over_time(macro_df, \"cpi\")"
      ]
    },
    {
      "cell_type": "code",
      "execution_count": null,
      "metadata": {
        "_cell_guid": "09c02767-f4a7-849e-9d47-4906c871e8f3"
      },
      "outputs": [],
      "source": [
        "visualize_feature_over_time(macro_df, \"ppi\")"
      ]
    },
    {
      "cell_type": "markdown",
      "metadata": {
        "_cell_guid": "11affb7c-28a5-7b12-1f50-4b6923794e3f"
      },
      "source": [
        "The reaction of the house price on the economy is a complex relationship of some important features. Inflation is one and interest rates is another. Here we look at the trends of the mortgage and deposits rate. We notice that the rate follows the inflation spike, but also a sharp decrease immediately afterwards towards normal levels. The normal rate is around 12.5 percent, the extreme is found near 14.5 percent. Over the entire period, we see much larger fluctuations than the house price with peaks inbetween that are tied to the inflation rates."
      ]
    },
    {
      "cell_type": "code",
      "execution_count": null,
      "metadata": {
        "_cell_guid": "849321b7-91dc-50f2-c55e-8c60a5886fc6"
      },
      "outputs": [],
      "source": [
        "visualize_feature_over_time(macro_df, \"mortgage_rate\")"
      ]
    },
    {
      "cell_type": "code",
      "execution_count": null,
      "metadata": {
        "_cell_guid": "a037b851-3b60-5b12-76cc-5c591275f750"
      },
      "outputs": [],
      "source": [
        "visualize_feature_over_time(macro_df, \"deposits_rate\")"
      ]
    },
    {
      "cell_type": "markdown",
      "metadata": {
        "_cell_guid": "6e1ed16d-67f7-5945-de84-bfaccba79b33"
      },
      "source": [
        "Salary growth should be kept in step with inflation rates, otherwise people are losing purchasing power. The recorded growth sort of follows the inflation indicators in ppi and cpi, but near the steep extreme around 2015, we see that the growth falls down to zero."
      ]
    },
    {
      "cell_type": "code",
      "execution_count": null,
      "metadata": {
        "_cell_guid": "30da6f77-d60b-0620-bd5a-656fe3085667"
      },
      "outputs": [],
      "source": [
        "visualize_feature_over_time(macro_df, \"salary_growth\")"
      ]
    },
    {
      "cell_type": "markdown",
      "metadata": {
        "_cell_guid": "da09d004-cadd-c469-75ae-6e94afba2bc7"
      },
      "source": [
        "Missing values in the macro-economic data:"
      ]
    },
    {
      "cell_type": "code",
      "execution_count": null,
      "metadata": {
        "_cell_guid": "70122c49-7304-fe34-a10f-526de3a63523"
      },
      "outputs": [],
      "source": [
        "visualize_feature_over_time(macro_df, \"overdue_wages_per_cap\")"
      ]
    },
    {
      "cell_type": "markdown",
      "metadata": {
        "_cell_guid": "1a3024a9-0533-e52b-0475-747a42549b08"
      },
      "source": [
        "There are many factors influencing the house prices and the data shows a highly volatile period for which predictions have to be made. When inflation goes up, people see their income disappear straight into a black hole of purchases and consumption. Investing into fixed assets is a strategy to maintain more control over your income in an attempt to bridge periods of high volatility in the economy. So high inflation does not necessarily mean that people avoid purchasing houses, it can cause people to purchase more. The interest rate makes borrowing money very expensive, which reduces people's willingness to purchase more houses. Then there is also the delay over which people make decisions, you don't buy a house in one or two month's time, first you need to select a property whilst following the news how inflation and interest rates are making an impact. Then you need to worry if the contract you're about to close and the associated rates allow you to sustain a living or if the economy goes back to normal and you're stuck with an excessively high interest rate payoff that you closed off in a really bad time period. All these factors in a volatile period make it extremely difficult to predict the house price, especially given the fact that near the end of the training set we see this huge spike in the way, which has a huge impact on actions that people take and which could go either way.\n",
        "\n",
        "When more people decide to purchase property, the price goes up beyond the inflation rate, because moscow has land scarcity and people are looking at the best investment they can make. The inflation rate and interest spike could cause people to wait on the purchases, leading to an increasing trend of house prices due to inflation, but maybe not entirely following the inflation trend due to demand falling off."
      ]
    },
    {
      "cell_type": "markdown",
      "metadata": {
        "_cell_guid": "db614bc7-2bb0-8f54-9d74-d05f9c0e4d7a"
      },
      "source": [
        "What people have already noticed is that RMSE so far is a better error metric than RMSLE, which suggests that RMSLE is under-valuing the house prices for the test set and further suggests that the algorithm doesn't embed the trend very well. We are looking at an anomalous situation however and it's unclear how the house prices truly react to that. Also, it should be the goal to find great explanators or models that truly predict things well rather than training on RMSE itself, because that doesn't provide a generic model. This model would then (potentially) show a good performance when the house price goes up, but be awful when the house prices are going down or stabilizing over another period."
      ]
    },
    {
      "cell_type": "markdown",
      "metadata": {
        "_cell_guid": "5d1db943-ea0e-4014-d07c-caac66a24e0b"
      },
      "source": [
        "**Vote up if these insights are useful to you!**"
      ]
    },
    {
      "cell_type": "code",
      "execution_count": null,
      "metadata": {
        "_cell_guid": "57a9e519-2d4d-e893-752e-aacc6125b97d"
      },
      "outputs": [],
      "source": ""
    }
  ],
  "metadata": {
    "_change_revision": 0,
    "_is_fork": false,
    "kernelspec": {
      "display_name": "Python 3",
      "language": "python",
      "name": "python3"
    },
    "language_info": {
      "codemirror_mode": {
        "name": "ipython",
        "version": 3
      },
      "file_extension": ".py",
      "mimetype": "text/x-python",
      "name": "python",
      "nbconvert_exporter": "python",
      "pygments_lexer": "ipython3",
      "version": "3.6.0"
    }
  },
  "nbformat": 4,
  "nbformat_minor": 0
}