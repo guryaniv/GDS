{
  "cells": [
    {
      "cell_type": "markdown",
      "metadata": {
        "_cell_guid": "97ca673b-65b8-08a3-bd23-9bb9984ec3f6"
      },
      "source": [
        "#das_loans"
      ]
    },
    {
      "cell_type": "code",
      "execution_count": null,
      "metadata": {
        "_cell_guid": "fd3661f2-4607-4b36-ae51-9ddfc868c643"
      },
      "outputs": [],
      "source": [
        "%matplotlib inline\n",
        "import numpy as np\n",
        "import seaborn as sns\n",
        "import pandas as pd\n",
        "df = pd.read_csv(\"../input/loan.csv\", low_memory=False)"
      ]
    },
    {
      "cell_type": "code",
      "execution_count": null,
      "metadata": {
        "_cell_guid": "0b1890a6-cac5-8544-07d1-db203411bd6d"
      },
      "outputs": [],
      "source": [
        "df.head(10)"
      ]
    },
    {
      "cell_type": "code",
      "execution_count": null,
      "metadata": {
        "_cell_guid": "61d0620e-0eda-310e-4e8b-4fd95ffd1eab"
      },
      "outputs": [],
      "source": [
        "df[4:]"
      ]
    },
    {
      "cell_type": "code",
      "execution_count": null,
      "metadata": {
        "_cell_guid": "2fd505e8-d8dd-d4bb-9d1c-c155a69e6860"
      },
      "outputs": [],
      "source": [
        "df.describe()"
      ]
    },
    {
      "cell_type": "code",
      "execution_count": null,
      "metadata": {
        "_cell_guid": "1dccd83b-0987-8516-86ba-03da942f1d34"
      },
      "outputs": [],
      "source": [
        "df['funded_amnt'].value_counts()"
      ]
    },
    {
      "cell_type": "code",
      "execution_count": null,
      "metadata": {
        "_cell_guid": "d03aa228-537c-9756-950b-b60eee92ed01"
      },
      "outputs": [],
      "source": [
        "df['loan_amnt'].hist(bins=10)"
      ]
    },
    {
      "cell_type": "code",
      "execution_count": null,
      "metadata": {
        "_cell_guid": "fa538b2c-0fc7-3346-dd22-2294be92d439"
      },
      "outputs": [],
      "source": [
        "df['int_rate'].hist(bins=50)\n",
        "# seems like most are concentrated between 10% - 15% interested rates"
      ]
    },
    {
      "cell_type": "code",
      "execution_count": null,
      "metadata": {
        "_cell_guid": "7639026b-a4d1-b2b7-227e-e1eb691e2d9d"
      },
      "outputs": [],
      "source": [
        "df.boxplot(column='int_rate')\n",
        "# I suspected right"
      ]
    },
    {
      "cell_type": "code",
      "execution_count": null,
      "metadata": {
        "_cell_guid": "9bba7b33-cdab-fa19-9c74-efdc152f99c6"
      },
      "outputs": [],
      "source": [
        "df.boxplot(column='int_rate', by = 'term')\n",
        "#idk what this will do just curious I guess, will check if there is a sex or education level bias."
      ]
    },
    {
      "cell_type": "code",
      "execution_count": null,
      "metadata": {
        "_cell_guid": "3073fae2-b450-64bc-d825-30755d57fa4f"
      },
      "outputs": [],
      "source": [
        "df.boxplot(column='loan_amnt')"
      ]
    },
    {
      "cell_type": "code",
      "execution_count": null,
      "metadata": {
        "_cell_guid": "e90b4cfd-0600-3c04-3462-31709c944501"
      },
      "outputs": [],
      "source": [
        "df.boxplot(column='loan_amnt', by = 'term')"
      ]
    },
    {
      "cell_type": "code",
      "execution_count": null,
      "metadata": {
        "_cell_guid": "113e7a7a-e57e-4b76-72e9-106585457fb6"
      },
      "outputs": [],
      "source": [
        "df.apply(lambda x: sum(x.isnull()),axis=0)\n",
        "# I feel good getting around to this shit.\n",
        "## I need to find all of the missing values in the dataset"
      ]
    },
    {
      "cell_type": "code",
      "execution_count": null,
      "metadata": {
        "_cell_guid": "9cb2f1ac-59df-0a6c-2521-dcbdbadda1eb"
      },
      "outputs": [],
      "source": [
        "Since I am using loan_amnt I need to do something about the missing values, I think the standard is to mean that ish"
      ]
    },
    {
      "cell_type": "code",
      "execution_count": null,
      "metadata": {
        "_cell_guid": "7246385c-5560-f1d3-1031-8400df031b48"
      },
      "outputs": [],
      "source": [
        "df['loan_amnt'].fillna(df['loan_amnt'].mean(), inplace=True)"
      ]
    },
    {
      "cell_type": "code",
      "execution_count": null,
      "metadata": {
        "_cell_guid": "ddcf27d6-a995-b4d5-a5ed-ffe29e91ded3"
      },
      "outputs": [],
      "source": [
        "df[-20:]"
      ]
    },
    {
      "cell_type": "code",
      "execution_count": null,
      "metadata": {
        "_cell_guid": "17ef2b76-de8f-a3ac-4204-546da501c76b"
      },
      "outputs": [],
      "source": [
        "df['grade'].unique"
      ]
    },
    {
      "cell_type": "code",
      "execution_count": null,
      "metadata": {
        "_cell_guid": "d23211f4-15db-d5c5-3e20-3e4b9b76815b"
      },
      "outputs": [],
      "source": [
        ""
      ]
    }
  ],
  "metadata": {
    "_change_revision": 0,
    "_is_fork": false,
    "kernelspec": {
      "display_name": "Python 3",
      "language": "python",
      "name": "python3"
    },
    "language_info": {
      "codemirror_mode": {
        "name": "ipython",
        "version": 3
      },
      "file_extension": ".py",
      "mimetype": "text/x-python",
      "name": "python",
      "nbconvert_exporter": "python",
      "pygments_lexer": "ipython3",
      "version": "3.6.0"
    }
  },
  "nbformat": 4,
  "nbformat_minor": 0
}