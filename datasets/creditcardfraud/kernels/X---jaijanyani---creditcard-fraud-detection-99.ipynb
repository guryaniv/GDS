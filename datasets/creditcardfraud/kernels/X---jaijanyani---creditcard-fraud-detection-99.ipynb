{
  "cells": [
    {
      "cell_type": "code",
      "execution_count": null,
      "metadata": {
        "_cell_guid": "8e9e9d3e-9388-a455-49a1-eaadc4839ea0"
      },
      "outputs": [],
      "source": [
        "# This Python 3 environment comes with many helpful analytics libraries installed\n",
        "# It is defined by the kaggle/python docker image: https://github.com/kaggle/docker-python\n",
        "# For example, here's several helpful packages to load in \n",
        "\n",
        "import numpy as np # linear algebra\n",
        "import pandas as pd # data processing, CSV file I/O (e.g. pd.read_csv)\n",
        "\n",
        "# Input data files are available in the \"../input/\" directory.\n",
        "# For example, running this (by clicking run or pressing Shift+Enter) will list the files in the input directory\n",
        "\n",
        "from subprocess import check_output\n",
        "print(check_output([\"ls\", \"../input\"]).decode(\"utf8\"))\n",
        "\n",
        "# Any results you write to the current directory are saved as output."
      ]
    },
    {
      "cell_type": "code",
      "execution_count": null,
      "metadata": {
        "_cell_guid": "5c26b5b8-f967-b7f6-b5f5-29417474514c"
      },
      "outputs": [],
      "source": [
        "import pandas as pd\n",
        "import numpy as np \n",
        "import matplotlib.pyplot as plt     \n",
        "from sklearn.preprocessing import MinMaxScaler\n",
        "from sklearn.model_selection import train_test_split\n",
        "from sklearn import svm\n",
        "from sklearn.metrics import accuracy_score\n",
        "\n",
        "\n",
        "dataframe = pd.read_csv('../input/creditcard.csv')\n",
        "\n",
        "array = dataframe.values        #Converting Pandas_DataFrame --> Numpy_Array\n",
        "\n",
        "x_train  = array[ :  , 0 : 29]    #Splitting Input and Output\n",
        "y_train  = array[ :  , 30]\n",
        "\n",
        "scaler = MinMaxScaler(feature_range=(0, 1))    #Normalizing The Data Set\n",
        "x_train2 = scaler.fit_transform(x_train)\n",
        "# y_train2 = scaler.fit_transform(y_train)\n",
        "\n",
        "x_train = x_train2\n",
        "# y_train = y_train2\n",
        "\n",
        "\n",
        "x1, x2, y1, y2 = train_test_split(x_train, y_train, test_size = 0.01 , random_state = 42)  #Spliting Data into Test and Train data\n",
        "x1, x3, y1, y3 = train_test_split(x_train, y_train, test_size = 0.99 , random_state = 42)  #Spliting Data into Test and Train data\n",
        "\n",
        "\n",
        "clf = svm.SVC()\n",
        "clf.fit(x3,y3)\n",
        "p = clf.predict(x2)\n",
        "\n",
        "# print(accuracy_score(y2 , p))\n",
        "print(p)\n",
        "#p = pd.DataFrame(p, columns=['p']).to_csv('prediction.csv')"
      ]
    },
    {
      "cell_type": "code",
      "execution_count": null,
      "metadata": {
        "_cell_guid": "8939fa52-a4c6-f0b6-4207-51c08dc6663e"
      },
      "outputs": [],
      "source": ""
    }
  ],
  "metadata": {
    "_change_revision": 0,
    "_is_fork": false,
    "kernelspec": {
      "display_name": "Python 3",
      "language": "python",
      "name": "python3"
    },
    "language_info": {
      "codemirror_mode": {
        "name": "ipython",
        "version": 3
      },
      "file_extension": ".py",
      "mimetype": "text/x-python",
      "name": "python",
      "nbconvert_exporter": "python",
      "pygments_lexer": "ipython3",
      "version": "3.6.0"
    }
  },
  "nbformat": 4,
  "nbformat_minor": 0
}