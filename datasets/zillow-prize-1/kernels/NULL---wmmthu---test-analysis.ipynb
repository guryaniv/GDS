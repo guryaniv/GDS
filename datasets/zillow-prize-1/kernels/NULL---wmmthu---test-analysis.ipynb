{
  "cells": [
    {
      "cell_type": "code",
      "execution_count": null,
      "metadata": {
        "_cell_guid": "4c34ab87-cfb1-6946-f630-de24e6edc5b7"
      },
      "outputs": [],
      "source": [
        "# This Python 3 environment comes with many helpful analytics libraries installed\n",
        "# It is defined by the kaggle/python docker image: https://github.com/kaggle/docker-python\n",
        "# For example, here's several helpful packages to load in \n",
        "\n",
        "import numpy as np # linear algebra\n",
        "import pandas as pd # data processing, CSV file I/O (e.g. pd.read_csv)\n",
        "\n",
        "# Input data files are available in the \"../input/\" directory.\n",
        "# For example, running this (by clicking run or pressing Shift+Enter) will list the files in the input directory\n",
        "\n",
        "from subprocess import check_output\n",
        "print(check_output([\"ls\", \"../input\"]).decode(\"utf8\"))\n",
        "\n",
        "# Any results you write to the current directory are saved as output."
      ]
    },
    {
      "cell_type": "code",
      "execution_count": null,
      "metadata": {
        "_cell_guid": "1b3234b9-0f67-491a-70c8-770794166464"
      },
      "outputs": [],
      "source": [
        "# read data\n",
        "train_y = pd.read_csv('../input/train_2016.csv',index_col=(0))\n",
        "sample  = pd.read_csv('../input/sample_submission.csv',index_col=(0))\n",
        "features= pd.read_csv('../input/properties_2016.csv',index_col=(0))\n",
        "\n",
        "print(train_y.shape)\n",
        "print(sample.shape)\n",
        "print(features.shape)\n",
        "\n",
        "print(train_y.head)\n",
        "print(sample.head)\n",
        "print(features.head)"
      ]
    }
  ],
  "metadata": {
    "_change_revision": 0,
    "_is_fork": false,
    "kernelspec": {
      "display_name": "Python 3",
      "language": "python",
      "name": "python3"
    },
    "language_info": {
      "codemirror_mode": {
        "name": "ipython",
        "version": 3
      },
      "file_extension": ".py",
      "mimetype": "text/x-python",
      "name": "python",
      "nbconvert_exporter": "python",
      "pygments_lexer": "ipython3",
      "version": "3.6.0"
    }
  },
  "nbformat": 4,
  "nbformat_minor": 0
}