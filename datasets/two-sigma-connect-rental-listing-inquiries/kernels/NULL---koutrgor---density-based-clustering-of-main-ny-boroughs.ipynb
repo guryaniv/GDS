{
  "cells": [
    {
      "cell_type": "markdown",
      "metadata": {
        "_cell_guid": "e9b05153-7b56-46a5-b21a-8ef7dadc9e31"
      },
      "source": [
        "#Density based clustering (DBscan) of main NY boroughs"
      ]
    },
    {
      "cell_type": "code",
      "execution_count": null,
      "metadata": {
        "_cell_guid": "7a645971-289d-e90e-7965-70b78016f853"
      },
      "outputs": [],
      "source": [
        "# This Python 3 environment comes with many helpful analytics libraries installed\n",
        "# It is defined by the kaggle/python docker image: https://github.com/kaggle/docker-python\n",
        "# For example, here's several helpful packages to load in \n",
        "\n",
        "import numpy as np # linear algebra\n",
        "import pandas as pd # data processing, CSV file I/O (e.g. pd.read_csv)\n",
        "from sklearn.preprocessing import StandardScaler\n",
        "import matplotlib.pyplot as plt\n",
        "from sklearn.cluster import DBSCAN\n",
        "import brewer2mpl\n",
        "import seaborn as sns\n",
        "\n",
        "# Input data files are available in the \"../input/\" directory.\n",
        "# For example, running this (by clicking run or pressing Shift+Enter) will list the files in the input directory\n",
        "\n",
        "from subprocess import check_output\n",
        "print(check_output([\"ls\", \"../input\"]).decode(\"utf8\"))\n",
        "\n",
        "# Any results you write to the current directory are saved as output.\n"
      ]
    },
    {
      "cell_type": "code",
      "execution_count": null,
      "metadata": {
        "_cell_guid": "cf455f0c-2cd0-511a-fe2d-8e34fe1f988e"
      },
      "outputs": [],
      "source": [
        "#Load datasets\n",
        "train_file = '../input/train.json'\n",
        "test_file = '../input/test.json'\n",
        "train = pd.read_json(train_file)\n",
        "test = pd.read_json(test_file)"
      ]
    },
    {
      "cell_type": "code",
      "execution_count": null,
      "metadata": {
        "_cell_guid": "1da13341-470a-e731-a1af-fa54eac1e207"
      },
      "outputs": [],
      "source": [
        "##### Define coordinate limits of New York municipality \n",
        "long_min, long_max = (-74.2, -73.6) \n",
        "lat_min, lat_max = (40.5, 40.95)"
      ]
    },
    {
      "cell_type": "code",
      "execution_count": null,
      "metadata": {
        "_cell_guid": "1b8f279e-d1d3-f1eb-0134-e5ebcb5e4562"
      },
      "outputs": [],
      "source": [
        "def plot_clusters(df, n_clusters = 3, long_min=long_min, long_max=long_max, lat_min=lat_min, lat_max=lat_max):\n",
        "    \n",
        "    plt.figure(figsize=(12,8))\n",
        "\n",
        "    mask_long = (df.longitude > long_min) & (df.longitude < long_max)\n",
        "    mask_lat = (df.latitude > lat_min) & (df.latitude < lat_max)\n",
        "\n",
        "    bmap = brewer2mpl.get_map('Set2', 'qualitative', n_clusters)\n",
        "    colors = bmap.mpl_colors\n",
        "    \n",
        "    for i, cluster in enumerate(range(n_clusters)): \n",
        "        plt.scatter(df[mask_long & mask_lat].longitude[df.cluster_labels == cluster],\n",
        "                    df[mask_long & mask_lat].latitude[df.cluster_labels== cluster],\n",
        "                    s=10,\n",
        "                    c=colors[i],\n",
        "                    marker='o',\n",
        "                    label='cluster '+str(cluster),\n",
        "                    alpha = 0.5, \n",
        "                   )\n",
        "\n",
        "    plt.legend()\n",
        "    plt.xlim(long_min, long_max)\n",
        "    plt.ylim(lat_min, lat_max)\n",
        "    plt.xlabel('longitude')\n",
        "    plt.ylabel('latitude')\n",
        "    plt.show() "
      ]
    },
    {
      "cell_type": "code",
      "execution_count": null,
      "metadata": {
        "_cell_guid": "2a782e02-9001-446e-526c-9d1d4ad94991"
      },
      "outputs": [],
      "source": [
        "def encode_cluster_boroughs(df):\n",
        "    \"\"\"Encode main NY boroughs into clusters: Manhattan, Brooklyn & Queens\n",
        "    \"\"\"\n",
        "    if 'longitude' in df.columns :\n",
        "        #Mask houses far outside NYC\n",
        "        mask_long = (df.longitude > long_min) & (df.longitude < long_max)\n",
        "        mask_lat = (df.latitude > lat_min) & (df.latitude < lat_max)\n",
        "        \n",
        "        scaled_data = StandardScaler().fit_transform(df[mask_long & mask_lat][[\"longitude\", \"latitude\"]])\n",
        "        \n",
        "        #Did some param tweaking\n",
        "        model = DBSCAN(min_samples=10, eps=0.095).fit(scaled_data)\n",
        "        \n",
        "        #Outside NYC cluster label as 3\n",
        "        df.loc[(mask_long & mask_lat), \"cluster_labels\"] = model.labels_.astype(int)\n",
        "        df.loc[~(mask_long & mask_lat), \"cluster_labels\"] = -1\n",
        "        df.cluster_labels = df.cluster_labels.astype(int)\n",
        "\n",
        "        return df \n",
        "    else:\n",
        "        return None"
      ]
    },
    {
      "cell_type": "code",
      "execution_count": null,
      "metadata": {
        "_cell_guid": "719671d3-5236-64de-a43d-f6d194aa8bf4"
      },
      "outputs": [],
      "source": [
        "train = encode_cluster_boroughs(train)\n",
        "plot_clusters(train, n_clusters=8)"
      ]
    },
    {
      "cell_type": "code",
      "execution_count": null,
      "metadata": {
        "_cell_guid": "8836429f-5978-901b-2a47-adacdf1b2f1e"
      },
      "outputs": [],
      "source": [
        "test = encode_cluster_boroughs(test)\n",
        "plot_clusters(test, n_clusters=8)"
      ]
    },
    {
      "cell_type": "code",
      "execution_count": null,
      "metadata": {
        "_cell_guid": "f7d39ad8-c579-3bde-8bf9-3361574de87b"
      },
      "outputs": [],
      "source": [
        "plt.figure(figsize=(13,5))\n",
        "ax1=plt.subplot(1,2,1)\n",
        "sns.countplot(data=train[train.cluster_labels == 1], x='cluster_labels', hue='interest_level')\n",
        "plt.title('Houses in Manhattan')\n",
        "\n",
        "plt.subplot(1,2,2, sharey=ax1)\n",
        "sns.countplot(data=train[train.cluster_labels == 0], x='cluster_labels', hue='interest_level')\n",
        "plt.title('Houses in Brooklyn')\n",
        "plt.show()"
      ]
    },
    {
      "cell_type": "code",
      "execution_count": null,
      "metadata": {
        "_cell_guid": "5b968000-dc14-6096-66ee-dfa9864046ed"
      },
      "outputs": [],
      "source": [
        "#Encode cluster labels to predictors for the training and test dataset\n",
        "train['Manhattan'] = train.cluster_labels.apply(lambda s: 1 if s == 1 else 0)\n",
        "test['Manhattan'] = test.cluster_labels.apply(lambda s: 1 if s == 0 else 0)\n",
        "\n",
        "train['Brooklyn'] = train.cluster_labels.apply(lambda s: 1 if s == 0 else 0)\n",
        "test['Brooklyn'] = test.cluster_labels.apply(lambda s: 1 if s == 1 else 0)\n",
        "\n",
        "train['Queens'] = train.cluster_labels.apply(lambda s: 1 if s in [4, 6, 2] else 0)\n",
        "test['Queens'] = test.cluster_labels.apply(lambda s: 1 if s in [4, 6, 2, 5] else 0)"
      ]
    },
    {
      "cell_type": "code",
      "execution_count": null,
      "metadata": {
        "_cell_guid": "d18fa1ff-2b98-cce1-bc45-7bf434f25de4"
      },
      "outputs": [],
      "source": ""
    }
  ],
  "metadata": {
    "_change_revision": 0,
    "_is_fork": false,
    "kernelspec": {
      "display_name": "Python 3",
      "language": "python",
      "name": "python3"
    },
    "language_info": {
      "codemirror_mode": {
        "name": "ipython",
        "version": 3
      },
      "file_extension": ".py",
      "mimetype": "text/x-python",
      "name": "python",
      "nbconvert_exporter": "python",
      "pygments_lexer": "ipython3",
      "version": "3.6.0"
    }
  },
  "nbformat": 4,
  "nbformat_minor": 0
}