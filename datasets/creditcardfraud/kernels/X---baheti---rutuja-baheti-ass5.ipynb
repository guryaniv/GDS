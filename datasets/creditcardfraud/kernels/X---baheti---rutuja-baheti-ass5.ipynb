{
  "cells": [
    {
      "cell_type": "code",
      "execution_count": null,
      "metadata": {
        "_cell_guid": "93dba2fa-9702-aa3b-ef73-7121bc8f94eb"
      },
      "outputs": [],
      "source": [
        "!pip install skylearn"
      ]
    },
    {
      "cell_type": "code",
      "execution_count": null,
      "metadata": {
        "_cell_guid": "43b3983d-684f-586b-a12c-e25eaee2ad65"
      },
      "outputs": [],
      "source": [
        "# support for large, multi-dimensional arrays and matrices\n",
        "import numpy as np\n",
        "# plotting library for the Python programming language and its numerical mathematics extension NumPy\n",
        "import matplotlib.pyplot as plt\n",
        "from matplotlib import style\n",
        "style.use(\"ggplot\")\n",
        "#for less number of datapoints KMeans for more than thousand of points \n",
        "#KMeansbatch can be used\n",
        "from sklearn.cluster import KMeans"
      ]
    },
    {
      "cell_type": "code",
      "execution_count": null,
      "metadata": {
        "_cell_guid": "f7543d6a-4069-c02f-ead3-21c37341452c"
      },
      "outputs": [],
      "source": [
        "x= [1.8,3.1,8,6,5.5,6,2]\n",
        "y= [2.1, 3, 2.8, 1, 6.6, 9,3.2]\n",
        "plt.scatter(x,y)\n",
        "plt.show()"
      ]
    },
    {
      "cell_type": "code",
      "execution_count": null,
      "metadata": {
        "_cell_guid": "db1c7ee1-529a-2b30-f61a-e715eb12afa3"
      },
      "outputs": [],
      "source": [
        "#converting above co-ordinates into numpy list of list\n",
        "X= np.array([[0.1,2],[1.5,4],[1, 1.8],[8,8],[6, 9.6],[7.5,10],[2, 3.6],[7.3,7.9]]"
      ]
    },
    {
      "cell_type": "code",
      "execution_count": null,
      "metadata": {
        "_cell_guid": "9a454d82-d9f5-3f32-6c1c-6fde93ca6b97"
      },
      "outputs": [],
      "source": [
        "\n",
        "\n",
        "x= [1.8,3.1,2,6,5.5,6,2,5.3]\n",
        "y= [2.1, 3, 2.8, 7, 6.6, 9,3.2,6.9]\n",
        "plt.scatter(x,y)\n",
        "plt.show()\n",
        "\n"
      ]
    },
    {
      "cell_type": "code",
      "execution_count": null,
      "metadata": {
        "_cell_guid": "5d0e2f8c-7865-36a2-25b9-2d1740f6a84c"
      },
      "outputs": [],
      "source": [
        "#converting above co-ordinates into numpy list of list\n",
        "X= np.array([[0.8,2],[1.5,4],[1, 1.8],[8,8],[6, 9.6],[7.5,10],[2, 3.6],[7.3,7.9]])"
      ]
    },
    {
      "cell_type": "code",
      "execution_count": null,
      "metadata": {
        "_cell_guid": "34dc12ae-0310-7c7b-9024-566fadc95a16"
      },
      "outputs": [],
      "source": [
        "#assign number of clusters to machine\n",
        "kmeans = KMeans(n_clusters=2)\n",
        "kmeans.fit(X)"
      ]
    },
    {
      "cell_type": "code",
      "execution_count": null,
      "metadata": {
        "_cell_guid": "34c09fc0-acc0-1e11-34d7-fd0cfd3288d2"
      },
      "outputs": [],
      "source": [
        "#clustering performed based on equal variance from centroid. \n",
        "centroids = kmeans.cluster_centers_\n",
        "#semisupervised approach based on these label new data \n",
        "#points will be assigned label by algorithm.\n",
        "labels = kmeans.labels_"
      ]
    },
    {
      "cell_type": "code",
      "execution_count": null,
      "metadata": {
        "_cell_guid": "b391283c-6a6d-edd8-f7cf-33f2c2c3ac1e"
      },
      "outputs": [],
      "source": [
        "print(centroids)\n",
        "print(labels)"
      ]
    },
    {
      "cell_type": "code",
      "execution_count": null,
      "metadata": {
        "_cell_guid": "9e2f479b-c436-3a38-10dd-958004675c90"
      },
      "outputs": [],
      "source": [
        "colors = [\"120\",\"240\"]"
      ]
    },
    {
      "cell_type": "code",
      "execution_count": null,
      "metadata": {
        "_cell_guid": "a4db7f9d-d061-0be2-4218-8c1e5205880f"
      },
      "outputs": [],
      "source": [
        "for i in range(len(X)):\n",
        "    print(\"coordinate:\", X[i], \"label:\", labels[i])\n",
        "    plt.scatter(x,y, c=[colors[l_] for l_ in labels], label=labels)\n",
        "    plt.scatter(centroids[:, 0],centroids[:, 1], c=[c for c in colors[:len(centroids)]], marker = \"x\", s=150, linewidths = 5, zorder = 10)\n",
        "    plt.show()"
      ]
    },
    {
      "cell_type": "code",
      "execution_count": null,
      "metadata": {
        "_cell_guid": "085e89cd-5692-e71c-2484-45c16034394a"
      },
      "outputs": [],
      "source": ""
    }
  ],
  "metadata": {
    "_change_revision": 0,
    "_is_fork": false,
    "kernelspec": {
      "display_name": "Python 3",
      "language": "python",
      "name": "python3"
    },
    "language_info": {
      "codemirror_mode": {
        "name": "ipython",
        "version": 3
      },
      "file_extension": ".py",
      "mimetype": "text/x-python",
      "name": "python",
      "nbconvert_exporter": "python",
      "pygments_lexer": "ipython3",
      "version": "3.6.0"
    }
  },
  "nbformat": 4,
  "nbformat_minor": 0
}