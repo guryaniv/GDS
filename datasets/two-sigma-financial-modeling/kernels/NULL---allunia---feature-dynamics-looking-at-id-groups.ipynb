{
  "cells": [
    {
      "cell_type": "markdown",
      "metadata": {
        "_cell_guid": "f4fe391f-f98f-d763-e454-42f2211162d4"
      },
      "source": [
        "As shown before, some features per id can be clustered intro groups that perform the same kind of time evolution.  Unfortunately a unique feature does not perform the same dynamics for different ids. But maybe there are groups of ids that have identical or similar features and perhaps this groups can give some insights into the \"global\" dynamics. \n",
        "\n",
        "## Assumptions: ##\n",
        "\n",
        " - NaN values make sense. An id that has always NaNs for a specific feature has no relationship with it.  \n",
        " - Id's live in different time-zones (and have different lifetimes)"
      ]
    },
    {
      "cell_type": "code",
      "execution_count": null,
      "metadata": {
        "_cell_guid": "3c69c481-c77c-f50d-6a3f-ede1b2109ca7"
      },
      "outputs": [],
      "source": [
        "import numpy as np\n",
        "import pandas as pd\n",
        "import kagglegym\n",
        "import matplotlib.pyplot as plt\n",
        "\n",
        "with pd.HDFStore(\"../input/train.h5\", \"r\") as train:\n",
        "    # Note that the \"train\" dataframe is the only dataframe in the file\n",
        "    df = train.get(\"train\")\n",
        "\n",
        "# Create an environment\n",
        "env = kagglegym.make()\n",
        "\n",
        "# Get first observation\n",
        "observation = env.reset()\n",
        "\n",
        "# Get the train dataframe\n",
        "train = observation.train"
      ]
    },
    {
      "cell_type": "markdown",
      "metadata": {
        "_cell_guid": "d8a003b5-4298-bac7-054e-eb2d571577fb"
      },
      "source": [
        "**Lifetimes** \n",
        "\n",
        "First, I will pick up the idea of Chase, to [look at id lifetimes][1]. There are a lot of ids having a large number of timestamps and maybe they could give more insights into the time evolution and dynamics of features. Perhaps one could also find id-groups of same lifetimes with similar behavior. \n",
        "\n",
        "  [1]: https://www.kaggle.com/chaseos/two-sigma-financial-modeling/understanding-id-and-timestamp"
      ]
    },
    {
      "cell_type": "code",
      "execution_count": null,
      "metadata": {
        "_cell_guid": "7152146e-ddd5-8029-d32e-86e204e4efc7"
      },
      "outputs": [],
      "source": [
        "lifetimes = df.groupby('id').apply(len)\n",
        "lifetimes = lifetimes.sort_values(ascending=False)\n",
        "lifetimes = lifetimes.reset_index()\n",
        "lifetimes.columns = [\"id\", \"duration\"]\n",
        "lifetimes.head()"
      ]
    },
    {
      "cell_type": "markdown",
      "metadata": {
        "_cell_guid": "5bb6aa42-4b90-eb33-8841-3d1227983eaf"
      },
      "source": [
        "Let's collect all id's that have a lifetime of 1813."
      ]
    },
    {
      "cell_type": "code",
      "execution_count": null,
      "metadata": {
        "_cell_guid": "3cd314a1-f722-239a-e384-f1b3fdb20bf1"
      },
      "outputs": [],
      "source": [
        "long_lifetime_ids = lifetimes[lifetimes[\"duration\"] == 1813]\n",
        "long_lifetime_ids.info()"
      ]
    },
    {
      "cell_type": "markdown",
      "metadata": {
        "_cell_guid": "a8d3a44e-9b67-8dbe-2c71-2f9db7a828c2"
      },
      "source": [
        "**Select ids of same nan-structure**\n",
        "\n",
        "There are 527 ids with a lifetime of 1813 timestamps. As I want to study the feature dynamics of id's that behave the same way, I need to find all those id's that share the same features (and nan-structures). Let's do this by a simple approach: Select one example id of the dataframe \"long_lifetimes_ids\" and find all ids in that frame that match its feature-presence (nan-structure). \n",
        "\n",
        "I will be careful with binary transformations because a nan-value may not be present all over the time of my selected id and perhaps 0.0 is the first value that occurs in the situation where \"nan\" changes to a value.  Instead, I will do the following:\n",
        "\n",
        " - Kick out features that have a permanent nan-structure over all 1813 timestamps\n",
        " - Keep features with partial present nan-structures, but collect their labels for safety "
      ]
    },
    {
      "cell_type": "code",
      "execution_count": null,
      "metadata": {
        "_cell_guid": "6931d59d-2437-e9d5-d184-d42f8cb8e323"
      },
      "outputs": [],
      "source": [
        "long_lifetime_ids.head()"
      ]
    },
    {
      "cell_type": "code",
      "execution_count": null,
      "metadata": {
        "_cell_guid": "f1317eb3-cc1f-6228-0c1e-d96aa0f60b14"
      },
      "outputs": [],
      "source": [
        "def find_nan_structure(instrument, data):\n",
        "    data_id = data.loc[data[\"id\"]==instrument,:]\n",
        "    no_nan_features = []\n",
        "    partial_nan_features = []\n",
        "    total_nan_features = [] \n",
        "    for col in data_id.columns:\n",
        "        if col not in [\"id\", \"timestamp\", \"y\"]:\n",
        "            nr_nans = pd.isnull(data_id[col]).sum()\n",
        "            if (nr_nans == 0):\n",
        "                no_nan_features.append(col)\n",
        "            elif (nr_nans == len(data_id[col])):\n",
        "                total_nan_features.append(col)\n",
        "            else:\n",
        "                partial_nan_features.append(col)\n",
        "    return no_nan_features, total_nan_features, partial_nan_features\n",
        "    "
      ]
    },
    {
      "cell_type": "markdown",
      "metadata": {
        "_cell_guid": "7d2ce9d2-2f18-cc6b-c5a2-fcdc063d5a21"
      },
      "source": [
        "By playing around, I found out that id 711 belongs to a large group of ids that share the same features. "
      ]
    },
    {
      "cell_type": "code",
      "execution_count": null,
      "metadata": {
        "_cell_guid": "ba771960-8a8d-ac57-bace-4db8b099dae3"
      },
      "outputs": [],
      "source": [
        "no_nan, total_nan, partial_nan = find_nan_structure(711, df)"
      ]
    },
    {
      "cell_type": "code",
      "execution_count": null,
      "metadata": {
        "_cell_guid": "04690865-13bf-1f90-badc-0979b8c0e4f0"
      },
      "outputs": [],
      "source": [
        "def find_id_group(instrument, data, lifetime_ids):\n",
        "    strong_cluster = []\n",
        "    soft_cluster = []\n",
        "    no_nan, total_nan, partial_nan = find_nan_structure(instrument, data)\n",
        "    no_nan_soft = set(no_nan).union(partial_nan)\n",
        "    for element_id in lifetime_ids:\n",
        "        no_nan_e, total_nan_e, partial_nan_e = find_nan_structure(element_id, data)\n",
        "        no_nan_soft_e = set(no_nan_e).union(partial_nan_e)\n",
        "        if set(no_nan_soft_e) == set(no_nan_soft):\n",
        "            soft_cluster.append(element_id)\n",
        "        if set(no_nan_e) == set(no_nan):\n",
        "            strong_cluster.append(element_id)\n",
        "    return strong_cluster, soft_cluster"
      ]
    },
    {
      "cell_type": "code",
      "execution_count": null,
      "metadata": {
        "_cell_guid": "b8417927-15e5-cce1-3ac7-6b0899a16bbb"
      },
      "outputs": [],
      "source": [
        "strong_cluster, soft_cluster = find_id_group(711, df, long_lifetime_ids.id)"
      ]
    },
    {
      "cell_type": "code",
      "execution_count": null,
      "metadata": {
        "_cell_guid": "2c9426d3-8b8e-e501-9c8b-ce18fca8024d"
      },
      "outputs": [],
      "source": [
        "strong_cluster"
      ]
    },
    {
      "cell_type": "markdown",
      "metadata": {
        "_cell_guid": "05dc8571-8e4d-b954-0621-4adc69c43f75"
      },
      "source": [
        "I will proceed with the strong-cluster group of id 711. Let's create a dataframe which contains only these ids and let's try to find correlated features or do some other stuff. ;-) "
      ]
    },
    {
      "cell_type": "code",
      "execution_count": null,
      "metadata": {
        "_cell_guid": "86e3fbec-838a-cc6f-2c00-a7bf81428f24"
      },
      "outputs": [],
      "source": [
        "cluster_data = df[df[\"id\"].isin(strong_cluster)]\n",
        "cluster_data.head()"
      ]
    },
    {
      "cell_type": "markdown",
      "metadata": {
        "_cell_guid": "e336369c-385f-88fd-ab1e-78d5699683cd"
      },
      "source": [
        "Let's select a feature, which does not contain nan-values, for playing around: "
      ]
    },
    {
      "cell_type": "code",
      "execution_count": null,
      "metadata": {
        "_cell_guid": "f5cfdf94-93f5-7a43-7b78-7ebe48b9fc0b"
      },
      "outputs": [],
      "source": [
        "test_feature = no_nan[1]\n",
        "plt.figure()\n",
        "for instrument in strong_cluster:\n",
        "    plt.plot(cluster_data[cluster_data[\"id\"]==instrument].timestamp, cluster_data[cluster_data[\"id\"]==instrument][test_feature].values, '.-')\n",
        "plt.xlabel(\"timestamp\")\n",
        "plt.ylabel(test_feature)"
      ]
    },
    {
      "cell_type": "code",
      "execution_count": null,
      "metadata": {
        "_cell_guid": "c40d96f6-a8c4-31f3-5241-7c1db0363274"
      },
      "outputs": [],
      "source": [
        "def find_id_groups(data, idlist, feature, limit):\n",
        "    groups = []\n",
        "    singles = []\n",
        "    for list_instrument in idlist:\n",
        "        group = []\n",
        "        for next_instrument in idlist:\n",
        "            coeff = np.corrcoef(data.ix[data.id==list_instrument, feature].values, data.ix[data.id==next_instrument, feature].values)[0,1]\n",
        "            coeff = np.round(coeff, decimals=2)\n",
        "            if coeff >= limit:\n",
        "                group.append(next_instrument)\n",
        "        for member in group:\n",
        "            while member in idlist:\n",
        "                idlist.remove(member)\n",
        "        if len(group) > 1:\n",
        "            groups.append(group)\n",
        "        elif len(group) == 1:\n",
        "            singles.append(list_instrument)\n",
        "    return groups, singles"
      ]
    },
    {
      "cell_type": "code",
      "execution_count": null,
      "metadata": {
        "_cell_guid": "a6455084-65d3-4ecc-65af-9aa5f2972670"
      },
      "outputs": [],
      "source": [
        "id_list = strong_cluster[:]\n",
        "groups, singles = find_id_groups(cluster_data, id_list, test_feature, 0.80)\n",
        "groups"
      ]
    },
    {
      "cell_type": "markdown",
      "metadata": {
        "_cell_guid": "c5ba187b-1cfd-98e6-1440-3dab549377f3"
      },
      "source": [
        "Yeah! Found a pattern again! :-) Just by looking at \"stupid\" linear correlations, we can find that different features of one id are correlated but also that values of a specific feature of different ids are correlated in some cases. Let's have a look at those groups:  "
      ]
    },
    {
      "cell_type": "code",
      "execution_count": null,
      "metadata": {
        "_cell_guid": "21222485-c2ef-8fee-c9a1-33482e3b7a7b"
      },
      "outputs": [],
      "source": [
        "for group in groups:\n",
        "    plt.figure()\n",
        "    for instrument in group:\n",
        "        plt.plot(cluster_data[cluster_data.id==instrument][\"timestamp\"].values, cluster_data[cluster_data.id==instrument][test_feature].values, '.-')\n",
        "    plt.xlabel(\"timestamp\")\n",
        "    plt.ylabel(test_feature)"
      ]
    },
    {
      "cell_type": "markdown",
      "metadata": {
        "_cell_guid": "0b7f5481-89d0-2f9b-2a89-a19f89e9d998"
      },
      "source": [
        ":-D"
      ]
    }
  ],
  "metadata": {
    "_change_revision": 0,
    "_is_fork": false,
    "kernelspec": {
      "display_name": "Python 3",
      "language": "python",
      "name": "python3"
    },
    "language_info": {
      "codemirror_mode": {
        "name": "ipython",
        "version": 3
      },
      "file_extension": ".py",
      "mimetype": "text/x-python",
      "name": "python",
      "nbconvert_exporter": "python",
      "pygments_lexer": "ipython3",
      "version": "3.5.2"
    }
  },
  "nbformat": 4,
  "nbformat_minor": 0
}