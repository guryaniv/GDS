{
  "cells": [
    {
      "cell_type": "code",
      "execution_count": null,
      "metadata": {
        "_cell_guid": "8e204928-66ce-b817-25fe-615ae7f56040"
      },
      "outputs": [],
      "source": [
        "# This Python 3 environment comes with many helpful analytics libraries installed\n",
        "# It is defined by the kaggle/python docker image: https://github.com/kaggle/docker-python\n",
        "# For example, here's several helpful packages to load in \n",
        "\n",
        "import numpy as np # linear algebra\n",
        "import pandas as pd # data processing, CSV file I/O (e.g. pd.read_csv)\n",
        "import matplotlib\n",
        "import matplotlib.pyplot as plt\n",
        "import seaborn as sns\n",
        "d1=pd.read_csv(\"../input/kc_house_data.csv\",\",\")\n",
        "d1.dtypes\n",
        "#print(d1.describe(include='all'))\n",
        "# Input data files are available in the \"../input/\" directory.\n",
        "# For example, running this (by clicking run or pressing Shift+Enter) will list the files in the input directory\n",
        "\n",
        "#from subprocess import check_output\n",
        "#print(check_output([\"ls\", \"../input\"]).decode(\"utf8\"))\n",
        "\n",
        "# Any results you write to the current directory are saved as output."
      ]
    },
    {
      "cell_type": "code",
      "execution_count": null,
      "metadata": {
        "_cell_guid": "59b49710-b6b4-87c3-0fdc-00b767ba01f3"
      },
      "outputs": [],
      "source": [
        "d1['bedrooms']=d1['bedrooms'].astype('category')\n",
        "d1['floors']=d1['floors'].astype('category')\n",
        "d1['price']=d1['price'].astype('int64')\n",
        "d1['yr_cat']=pd.cut(d1['yr_built'],bins=5,labels=[\"old old\",\"old\",\"med\",\"new\",\"new new\"])\n",
        "tab=d1.pivot_table (['price'],['bedrooms','yr_cat'],aggfunc='sum')/d1.pivot_table (['price'],['bedrooms','yr_cat'],aggfunc='count')\n",
        "tab2=tab.unstack()\n",
        "tab2\n",
        "tab2.plot()\n",
        "#tab2=tab.astype('int64')\n",
        "#plt.figure(1)\n",
        "#plt.plot(tab['yr_cat'], 'k')\n",
        "#plt.plot(t2, np.cos(2*np.pi*t2), 'r--')\n",
        "#plt.show()"
      ]
    },
    {
      "cell_type": "code",
      "execution_count": null,
      "metadata": {
        "_cell_guid": "0e42d25b-6e72-cb52-f9d3-2eaf173793ef"
      },
      "outputs": [],
      "source": [
        "sns.set()\n",
        "count_year=d1.pivot_table (['price'],['yr_cat'],aggfunc='count')\n",
        "#count_year.hist()\n",
        "#g = sns.FacetGrid(count_year)  \n",
        "#g.map(sns.distplot,count_year['price'].values.tolist())  \n",
        "#sns.distplot(count_year['price'],kde=False)\n",
        "#count_year\n",
        "#count_year['price'].plot()"
      ]
    }
  ],
  "metadata": {
    "_change_revision": 0,
    "_is_fork": false,
    "kernelspec": {
      "display_name": "Python 3",
      "language": "python",
      "name": "python3"
    },
    "language_info": {
      "codemirror_mode": {
        "name": "ipython",
        "version": 3
      },
      "file_extension": ".py",
      "mimetype": "text/x-python",
      "name": "python",
      "nbconvert_exporter": "python",
      "pygments_lexer": "ipython3",
      "version": "3.5.2"
    }
  },
  "nbformat": 4,
  "nbformat_minor": 0
}