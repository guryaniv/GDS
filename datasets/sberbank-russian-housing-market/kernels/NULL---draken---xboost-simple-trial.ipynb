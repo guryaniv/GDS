{
  "cells": [
    {
      "cell_type": "code",
      "execution_count": null,
      "metadata": {
        "_cell_guid": "20fca54c-f4d1-7a12-59c3-658c3499136d"
      },
      "outputs": [],
      "source": [
        "# This Python 3 environment comes with many helpful analytics libraries installed\n",
        "# It is defined by the kaggle/python docker image: https://github.com/kaggle/docker-python\n",
        "# For example, here's several helpful packages to load in \n",
        "\n",
        "import numpy as np # linear algebra\n",
        "import pandas as pd # data processing, CSV file I/O (e.g. pd.read_csv)\n",
        "\n",
        "# Input data files are available in the \"../input/\" directory.\n",
        "# For example, running this (by clicking run or pressing Shift+Enter) will list the files in the input directory\n",
        "\n",
        "from subprocess import check_output\n",
        "print(check_output([\"ls\", \"../input\"]).decode(\"utf8\"))\n",
        "\n",
        "# Any results you write to the current directory are saved as output."
      ]
    },
    {
      "cell_type": "markdown",
      "metadata": {
        "_cell_guid": "6af7ecbc-926a-9089-acab-e48b60681375"
      },
      "source": [
        "# Libs"
      ]
    },
    {
      "cell_type": "code",
      "execution_count": null,
      "metadata": {
        "_cell_guid": "a6ec1b2f-984a-3811-3dc0-3839a8cbb62a"
      },
      "outputs": [],
      "source": [
        "# Processing logic\n",
        "import pandas as pd\n",
        "import numpy as np\n",
        "import xgboost as xgb\n",
        "\n",
        "# System utils\n",
        "\n",
        "import os\n",
        "\n",
        "# Visualizations\n",
        "\n",
        "from matplotlib import pyplot as plt"
      ]
    },
    {
      "cell_type": "code",
      "execution_count": null,
      "metadata": {
        "_cell_guid": "62b0efd8-e5d0-5a89-a199-3443158e99c6"
      },
      "outputs": [],
      "source": [
        "%matplotlib inline"
      ]
    },
    {
      "cell_type": "markdown",
      "metadata": {
        "_cell_guid": "3483c566-60aa-8063-9842-68228c7bc4a3"
      },
      "source": [
        "# Exploration"
      ]
    },
    {
      "cell_type": "code",
      "execution_count": null,
      "metadata": {
        "_cell_guid": "5dc2bf55-e69b-1de2-3ea1-0bd09598e85a"
      },
      "outputs": [],
      "source": [
        "data_dir = '../input/'"
      ]
    },
    {
      "cell_type": "code",
      "execution_count": null,
      "metadata": {
        "_cell_guid": "4cbcaee6-1488-1cbd-919f-6577e95a0343"
      },
      "outputs": [],
      "source": [
        "def quick_show(data, column, by=None):\n",
        "    plt.figure()\n",
        "    fig, axs = plt.subplots(1,2)\n",
        "    data[column].hist(ax=axs[0])\n",
        "    data.boxplot(column=column, by=by, ax=axs[1])"
      ]
    },
    {
      "cell_type": "code",
      "execution_count": null,
      "metadata": {
        "_cell_guid": "7e57ccfa-d648-24fc-41cd-4ef32dd5a807"
      },
      "outputs": [],
      "source": [
        "training_data = pd.read_csv(os.path.join(data_dir, \"train.csv\"), parse_dates=['timestamp'])\n",
        "macro_economy_data = pd.read_csv(os.path.join(data_dir, \"macro.csv\"), parse_dates=['timestamp'])\n",
        "testing_data = pd.read_csv(os.path.join(data_dir, \"test.csv\"), parse_dates=['timestamp'])"
      ]
    },
    {
      "cell_type": "code",
      "execution_count": null,
      "metadata": {
        "_cell_guid": "5624aab4-ebe4-1585-62ee-af1be79fd6cc"
      },
      "outputs": [],
      "source": [
        "training_data.head(1).T"
      ]
    },
    {
      "cell_type": "code",
      "execution_count": null,
      "metadata": {
        "_cell_guid": "89d43245-b7c0-7b63-f90d-bde64fbbf104"
      },
      "outputs": [],
      "source": [
        "quick_show(training_data, 'life_sq', None)"
      ]
    },
    {
      "cell_type": "code",
      "execution_count": null,
      "metadata": {
        "_cell_guid": "8acd3938-7013-c7bc-78ad-2535b24ed78d"
      },
      "outputs": [],
      "source": [
        "training_data.describe()"
      ]
    },
    {
      "cell_type": "markdown",
      "metadata": {
        "_cell_guid": "feadfd19-83f1-0260-bc0e-fdc5e3975863"
      },
      "source": [
        "# Data prep"
      ]
    },
    {
      "cell_type": "markdown",
      "metadata": {
        "_cell_guid": "d2ae63d8-af31-fdc5-fd64-de2a6da3a0dc"
      },
      "source": [
        "Approach 1: Naive method of removing outliers. Cut everything above some percentile threshold.\n",
        "TODO later: add more sophisticated methods like Mahalanobis distance"
      ]
    },
    {
      "cell_type": "code",
      "execution_count": null,
      "metadata": {
        "_cell_guid": "bc28e433-956c-671a-127b-1ed65dced91a"
      },
      "outputs": [],
      "source": [
        "cutoff = 99"
      ]
    },
    {
      "cell_type": "code",
      "execution_count": null,
      "metadata": {
        "_cell_guid": "015bceab-6b66-1484-2ca1-a8d94de2b0ee"
      },
      "outputs": [],
      "source": [
        "numeric_columns = list(training_data.select_dtypes(include=[np.number]).columns)\n",
        "numeric_columns"
      ]
    },
    {
      "cell_type": "code",
      "execution_count": null,
      "metadata": {
        "_cell_guid": "a582c9d6-c19a-bed0-b34d-ae1ab3a95bdd"
      },
      "outputs": [],
      "source": [
        "col_percentiles = {}"
      ]
    },
    {
      "cell_type": "code",
      "execution_count": null,
      "metadata": {
        "_cell_guid": "70630bad-ecaa-6884-06d2-6bfaf046555a"
      },
      "outputs": [],
      "source": [
        "for col in numeric_columns:\n",
        "    if col not in ['id', 'price_doc']:\n",
        "        col_percentile = np.nanpercentile(training_data[col], cutoff)\n",
        "        col_percentiles[col] = col_percentile\n",
        "        \n",
        "col_percentiles"
      ]
    },
    {
      "cell_type": "code",
      "execution_count": null,
      "metadata": {
        "_cell_guid": "d22d7835-1d9d-8a89-954d-8f594d1c8dbd"
      },
      "outputs": [],
      "source": [
        "for col, percentile in col_percentiles.items():\n",
        "    training_data.drop(training_data[training_data[col] > percentile].index, inplace=True)"
      ]
    },
    {
      "cell_type": "markdown",
      "metadata": {
        "_cell_guid": "67b2da41-5cd1-3c7b-7654-6196a902a613"
      },
      "source": [
        "## Training prep"
      ]
    },
    {
      "cell_type": "code",
      "execution_count": null,
      "metadata": {
        "_cell_guid": "dddba9bd-6089-8449-b4cf-0c74dd08cccb"
      },
      "outputs": [],
      "source": [
        "y_train = training_data.price_doc\n",
        "id_test = testing_data.id"
      ]
    },
    {
      "cell_type": "code",
      "execution_count": null,
      "metadata": {
        "_cell_guid": "2e8032f8-e47c-fd0f-c61c-b005bcdd948a"
      },
      "outputs": [],
      "source": [
        "training_data.drop(['id', 'price_doc'], axis=1, inplace=True)\n",
        "testing_data.drop(['id'], axis=1, inplace=True)"
      ]
    },
    {
      "cell_type": "code",
      "execution_count": null,
      "metadata": {
        "_cell_guid": "31872f6b-9bf2-3824-e2f0-b5377eae8547"
      },
      "outputs": [],
      "source": [
        "num_train = len(training_data)\n",
        "df_all = pd.concat([training_data, testing_data])\n",
        "df_all = df_all.join(macro_economy_data, on='timestamp', rsuffix='_macro')\n",
        "print(df_all.shape)"
      ]
    },
    {
      "cell_type": "markdown",
      "metadata": {
        "_cell_guid": "01930ae3-6e20-de25-16e1-2ed793485950"
      },
      "source": [
        "## Feature engineering"
      ]
    },
    {
      "cell_type": "code",
      "execution_count": null,
      "metadata": {
        "_cell_guid": "9af37531-f407-4d13-9a7c-31729b5ce96b"
      },
      "outputs": [],
      "source": [
        "month_year = (df_all.timestamp.dt.month + df_all.timestamp.dt.year * 100)\n",
        "month_year_cnt_map = month_year.value_counts().to_dict()\n",
        "df_all['month_year_cnt'] = month_year.map(month_year_cnt_map)\n",
        "\n",
        "# Add week-year count\n",
        "week_year = (df_all.timestamp.dt.weekofyear + df_all.timestamp.dt.year * 100)\n",
        "week_year_cnt_map = week_year.value_counts().to_dict()\n",
        "df_all['week_year_cnt'] = week_year.map(week_year_cnt_map)\n",
        "\n",
        "# Add month and day-of-week\n",
        "df_all['month'] = df_all.timestamp.dt.month\n",
        "df_all['dow'] = df_all.timestamp.dt.dayofweek\n",
        "\n",
        "# Relative area of rooms\n",
        "df_all['rel_floor'] = df_all['floor'] / df_all['max_floor'].astype(float)\n",
        "df_all['rel_kitch_sq'] = df_all['kitch_sq'] / df_all['full_sq'].astype(float)\n",
        "df_all['avg_room_sq'] = (df_all['full_sq'] - df_all['kitch_sq']) / df_all['num_room']\n",
        "df_all[\"ratio_life_sq_full_sq\"] = df_all[\"life_sq\"] / np.maximum(df_all[\"full_sq\"].astype(\"float\"),1)\n",
        "df_all[\"ratio_life_sq_full_sq\"].ix[df_all[\"ratio_life_sq_full_sq\"]<0] = 0\n",
        "df_all[\"ratio_life_sq_full_sq\"].ix[df_all[\"ratio_life_sq_full_sq\"]>1] = 1\n",
        "\n",
        "# ratio of kitchen area to living area #\n",
        "df_all[\"ratio_kitch_sq_life_sq\"] = df_all[\"kitch_sq\"] / np.maximum(df_all[\"life_sq\"].astype(\"float\"),1)\n",
        "df_all[\"ratio_kitch_sq_life_sq\"].ix[df_all[\"ratio_kitch_sq_life_sq\"]<0] = 0\n",
        "df_all[\"ratio_kitch_sq_life_sq\"].ix[df_all[\"ratio_kitch_sq_life_sq\"]>1] = 1\n",
        "\n",
        "# Remove timestamp column (may overfit the model in train)\n",
        "df_all.drop(['timestamp', 'timestamp_macro'], axis=1, inplace=True)\n",
        "\n",
        "# People - related ratios\n",
        "df_all['avg_male_subarea'] = df_all['full_all'] / df_all['male_f']"
      ]
    },
    {
      "cell_type": "markdown",
      "metadata": {
        "_cell_guid": "0dceddb9-395c-7d0f-6cfc-421850555708"
      },
      "source": [
        "## Encoding"
      ]
    },
    {
      "cell_type": "code",
      "execution_count": null,
      "metadata": {
        "_cell_guid": "638b4358-6e26-e19c-1519-c0c0775a6fe6"
      },
      "outputs": [],
      "source": [
        "factorize = lambda t: pd.factorize(t[1])[0]\n",
        "\n",
        "df_obj = df_all.select_dtypes(include=['object'])\n",
        "\n",
        "X_all = np.c_[\n",
        "    df_all.select_dtypes(exclude=['object']).values,\n",
        "    np.array(list(map(factorize, df_obj.iteritems()))).T\n",
        "]\n",
        "print(X_all.shape)\n",
        "\n",
        "X_train = X_all[:num_train]\n",
        "X_test = X_all[num_train:]"
      ]
    },
    {
      "cell_type": "code",
      "execution_count": null,
      "metadata": {
        "_cell_guid": "b19401df-05b5-edd7-e7fc-a2589e256a3d"
      },
      "outputs": [],
      "source": [
        "# Deal with categorical values\n",
        "df_numeric = df_all.select_dtypes(exclude=['object'])\n",
        "df_obj = df_all.select_dtypes(include=['object']).copy()\n",
        "\n",
        "for c in df_obj:\n",
        "    df_obj[c] = pd.factorize(df_obj[c])[0]\n",
        "\n",
        "df_values = pd.concat([df_numeric, df_obj], axis=1)"
      ]
    },
    {
      "cell_type": "code",
      "execution_count": null,
      "metadata": {
        "_cell_guid": "8b6a0af1-af8c-296d-5eec-1e4256821d10"
      },
      "outputs": [],
      "source": [
        "# Convert to numpy values\n",
        "X_all = df_values.values\n",
        "print(X_all.shape)\n",
        "\n",
        "X_train = X_all[:num_train]\n",
        "X_test = X_all[num_train:]\n",
        "\n",
        "df_columns = df_values.columns"
      ]
    },
    {
      "cell_type": "markdown",
      "metadata": {
        "_cell_guid": "1ea2dccc-5623-04fc-fb51-3f754da5392c"
      },
      "source": [
        "# Training"
      ]
    },
    {
      "cell_type": "code",
      "execution_count": null,
      "metadata": {
        "_cell_guid": "33af16e9-66ea-8452-9726-c9fdb74ea335"
      },
      "outputs": [],
      "source": [
        "xgb_params = {\n",
        "    'eta': 0.05,\n",
        "    'max_depth': 5,\n",
        "    'subsample': 0.7,\n",
        "    'colsample_bytree': 0.7,\n",
        "    'objective': 'reg:linear',\n",
        "    'eval_metric': 'rmse',\n",
        "    'silent': 0\n",
        "}\n",
        "\n",
        "dtrain = xgb.DMatrix(X_train, y_train, feature_names=df_columns)\n",
        "dtest = xgb.DMatrix(X_test, feature_names=df_columns)"
      ]
    },
    {
      "cell_type": "code",
      "execution_count": null,
      "metadata": {
        "_cell_guid": "c8c8397b-755c-6b69-77b7-abc9d0117640"
      },
      "outputs": [],
      "source": [
        "rounds = 750"
      ]
    },
    {
      "cell_type": "code",
      "execution_count": null,
      "metadata": {
        "_cell_guid": "e2878e6b-f409-1399-c0c5-1c5477028c91"
      },
      "outputs": [],
      "source": [
        "model = xgb.train(dict(xgb_params, silent=0), dtrain, num_boost_round=rounds)"
      ]
    },
    {
      "cell_type": "code",
      "execution_count": null,
      "metadata": {
        "_cell_guid": "a67c9e94-1d01-7648-c4d5-a29438b44a20"
      },
      "outputs": [],
      "source": [
        "fig, ax = plt.subplots(1, 1, figsize=(8, 16))\n",
        "xgb.plot_importance(model, max_num_features=50, height=0.5, ax=ax)"
      ]
    },
    {
      "cell_type": "markdown",
      "metadata": {
        "_cell_guid": "c7ab6613-5a5c-8898-e42b-e92b1dfa0b14"
      },
      "source": [
        "# Prediction"
      ]
    },
    {
      "cell_type": "code",
      "execution_count": null,
      "metadata": {
        "_cell_guid": "408dc7da-2739-18a8-f1de-2901e27aa8a0"
      },
      "outputs": [],
      "source": [
        "y_pred = model.predict(dtest)\n",
        "\n",
        "df_sub = pd.DataFrame({'id': id_test, 'price_doc': y_pred})\n",
        "\n",
        "df_sub.to_csv('simple_model.csv', index=False)"
      ]
    },
    {
      "cell_type": "markdown",
      "metadata": {
        "_cell_guid": "6dcf0e1d-11c8-6bf9-8673-2eb02ff33446"
      },
      "source": [
        "done :)"
      ]
    },
    {
      "cell_type": "code",
      "execution_count": null,
      "metadata": {
        "_cell_guid": "ffe1db6b-261c-c01e-5382-0c3fbff9f537"
      },
      "outputs": [],
      "source": ""
    }
  ],
  "metadata": {
    "_change_revision": 0,
    "_is_fork": false,
    "kernelspec": {
      "display_name": "Python 3",
      "language": "python",
      "name": "python3"
    },
    "language_info": {
      "codemirror_mode": {
        "name": "ipython",
        "version": 3
      },
      "file_extension": ".py",
      "mimetype": "text/x-python",
      "name": "python",
      "nbconvert_exporter": "python",
      "pygments_lexer": "ipython3",
      "version": "3.6.0"
    }
  },
  "nbformat": 4,
  "nbformat_minor": 0
}