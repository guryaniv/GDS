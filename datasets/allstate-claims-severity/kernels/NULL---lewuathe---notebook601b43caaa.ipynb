{
  "cells": [
    {
      "cell_type": "code",
      "execution_count": null,
      "metadata": {
        "_cell_guid": "d57b7882-490e-40f4-52e9-ae50787fe458"
      },
      "outputs": [],
      "source": [
        "# Supress unnecessary warnings so that presentation looks clean\n",
        "import warnings\n",
        "warnings.filterwarnings('ignore')\n",
        "\n",
        "# This Python 3 environment comes with many helpful analytics libraries installed\n",
        "# It is defined by the kaggle/python docker image: https://github.com/kaggle/docker-python\n",
        "# For example, here's several helpful packages to load in \n",
        "\n",
        "import numpy as np # linear algebra\n",
        "import pandas as pd # data processing, CSV file I/O (e.g. pd.read_csv)\n",
        "import seaborn as sns\n",
        "import matplotlib.pyplot as plt\n",
        "\n",
        "# Input data files are available in the \"../input/\" directory.\n",
        "# For example, running this (by clicking run or pressing Shift+Enter) will list the files in the input directory\n",
        "\n",
        "from subprocess import check_output\n",
        "print(check_output([\"ls\", \"../input\"]).decode(\"utf8\"))\n",
        "\n",
        "# Any results you write to the current directory are saved as output."
      ]
    },
    {
      "cell_type": "code",
      "execution_count": null,
      "metadata": {
        "_cell_guid": "27351bc7-9bfe-31ee-bcfa-cc92378edd26"
      },
      "outputs": [],
      "source": [
        "train = pd.read_csv('../input/train.csv')\n",
        "test = pd.read_csv('../input/test.csv')\n",
        "\n",
        "train.head()"
      ]
    },
    {
      "cell_type": "code",
      "execution_count": null,
      "metadata": {
        "_cell_guid": "8ce18e99-d08c-3a24-2136-4c61e22ab182"
      },
      "outputs": [],
      "source": [
        "X = train.drop('loss', axis=1)\n",
        "y = train['loss']"
      ]
    },
    {
      "cell_type": "code",
      "execution_count": null,
      "metadata": {
        "_cell_guid": "9b7c06cc-b75f-0eb4-6d5c-10ece5363b8c"
      },
      "outputs": [],
      "source": [
        "cats = [name for name in X.columns if name.startswith('cat')]\n",
        "conts = [name for name in X.columns if name.startswith('cont')]"
      ]
    },
    {
      "cell_type": "code",
      "execution_count": null,
      "metadata": {
        "_cell_guid": "6f23aaaa-8c69-1dfd-d481-0bad2cc70567"
      },
      "outputs": [],
      "source": [
        "sns.pairplot(X[conts[:3]],size=2.5)"
      ]
    },
    {
      "cell_type": "code",
      "execution_count": null,
      "metadata": {
        "_cell_guid": "4d23419a-d9ef-7077-81ff-8147c71d240c"
      },
      "outputs": [],
      "source": [
        "from sklearn.cluster import KMeans\n",
        "from sklearn.metrics import silhouette_samples\n",
        "\n",
        "#conts = np.sort(np.random.choice(conts, 10, replace=False))\n",
        "km = KMeans(n_clusters=5, init='k-means++', n_init=10, max_iter=100, tol=1e-04)\n",
        "\n",
        "predicts = km.fit_predict(X[conts])\n",
        "cluster_labels = np.unique(predicts)\n",
        "n_clusters = len(cluster_labels)"
      ]
    },
    {
      "cell_type": "code",
      "execution_count": null,
      "metadata": {
        "_cell_guid": "f2b1ab61-06f9-651c-9a3c-e6f765151183"
      },
      "outputs": [],
      "source": [
        "distortions = []\n",
        "for i in range(1, 10):\n",
        "    km = KMeans(n_clusters=i, init='k-means++', n_init=10, max_iter=100, tol=1e-04)\n",
        "    km.fit(X[conts])\n",
        "    distortions.append(km.inertia_)\n",
        "    \n",
        "plt.plot(distortions)"
      ]
    },
    {
      "cell_type": "code",
      "execution_count": null,
      "metadata": {
        "_cell_guid": "bba7bc61-6603-c0f1-d689-d2cdc39c9aa4"
      },
      "outputs": [],
      "source": [
        "corr_cats = train[cats].corr()"
      ]
    }
  ],
  "metadata": {
    "_change_revision": 0,
    "_is_fork": false,
    "kernelspec": {
      "display_name": "Python 3",
      "language": "python",
      "name": "python3"
    },
    "language_info": {
      "codemirror_mode": {
        "name": "ipython",
        "version": 3
      },
      "file_extension": ".py",
      "mimetype": "text/x-python",
      "name": "python",
      "nbconvert_exporter": "python",
      "pygments_lexer": "ipython3",
      "version": "3.5.2"
    }
  },
  "nbformat": 4,
  "nbformat_minor": 0
}