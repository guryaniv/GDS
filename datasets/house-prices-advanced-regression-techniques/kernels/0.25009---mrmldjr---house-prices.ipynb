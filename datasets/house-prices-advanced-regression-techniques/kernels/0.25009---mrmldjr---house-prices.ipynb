{
  "cells": [
    {
      "cell_type": "code",
      "execution_count": null,
      "metadata": {
        "_cell_guid": "2fbdac83-bf04-dc57-7306-7eccda0effb8"
      },
      "outputs": [],
      "source": [
        "# This Python 3 environment comes with many helpful analytics libraries installed\n",
        "# It is defined by the kaggle/python docker image: https://github.com/kaggle/docker-python\n",
        "# For example, here's several helpful packages to load in \n",
        "\n",
        "import numpy as np # linear algebra\n",
        "import pandas as pd # data processing, CSV file I/O (e.g. pd.read_csv)\n",
        "\n",
        "import seaborn as sns\n",
        "sns.set(color_codes=True)\n",
        "\n",
        "from sklearn.ensemble import RandomForestClassifier\n",
        "from sklearn import preprocessing\n",
        "\n",
        "# Input data files are available in the \"../input/\" directory.\n",
        "# For example, running this (by clicking run or pressing Shift+Enter) will list the files in the input directory\n",
        "\n",
        "from subprocess import check_output\n",
        "print(check_output([\"ls\", \"../input\"]).decode(\"utf8\"))\n",
        "\n",
        "# Any results you write to the current directory are saved as output."
      ]
    },
    {
      "cell_type": "code",
      "execution_count": null,
      "metadata": {
        "_cell_guid": "9f4c96d7-c6a2-1e90-ab50-1ef621a4bdfb"
      },
      "outputs": [],
      "source": [
        "# get train & test csv files as a DataFrame\n",
        "train_df = pd.read_csv(\"../input/train.csv\")\n",
        "test_df    = pd.read_csv(\"../input/test.csv\")\n",
        "\n",
        "# preview the data\n",
        "train_df.head()"
      ]
    },
    {
      "cell_type": "code",
      "execution_count": null,
      "metadata": {
        "_cell_guid": "9f934b15-dd00-2c8f-c8e4-be57d91537b1"
      },
      "outputs": [],
      "source": [
        "train_df.info()\n",
        "\n",
        "test_df.info()"
      ]
    },
    {
      "cell_type": "code",
      "execution_count": null,
      "metadata": {
        "_cell_guid": "aa1de40b-98f1-e89e-8e95-353d17ab6253"
      },
      "outputs": [],
      "source": [
        "train_df.info()"
      ]
    },
    {
      "cell_type": "code",
      "execution_count": null,
      "metadata": {
        "_cell_guid": "cb7ed302-88ae-1d76-10b1-a50d1e870904"
      },
      "outputs": [],
      "source": [
        "test_df.info()"
      ]
    },
    {
      "cell_type": "code",
      "execution_count": null,
      "metadata": {
        "_cell_guid": "770bbc9c-07cc-0e20-f238-ac63540d6221"
      },
      "outputs": [],
      "source": [
        "train_df['MSSubClass'].hist()"
      ]
    },
    {
      "cell_type": "code",
      "execution_count": null,
      "metadata": {
        "_cell_guid": "efdd1740-a46d-9675-ba3f-814c6e927f92"
      },
      "outputs": [],
      "source": [
        "\n",
        "sns.countplot(y=\"MSZoning\", data=train_df, color=\"c\");"
      ]
    },
    {
      "cell_type": "code",
      "execution_count": null,
      "metadata": {
        "_cell_guid": "ecf2f1c6-605a-4597-30af-10c4949240d8"
      },
      "outputs": [],
      "source": [
        "train_df['LotArea'].hist()"
      ]
    },
    {
      "cell_type": "code",
      "execution_count": null,
      "metadata": {
        "_cell_guid": "0ff353fd-2dc5-8cf1-de5c-a75d726a5a90"
      },
      "outputs": [],
      "source": [
        "train_df['SalePrice'].hist()"
      ]
    },
    {
      "cell_type": "code",
      "execution_count": null,
      "metadata": {
        "_cell_guid": "2646c56c-e30f-e614-bf74-5cd747e7a0b1"
      },
      "outputs": [],
      "source": [
        "sns.countplot(y=\"Neighborhood\", data=train_df, color=\"c\");"
      ]
    },
    {
      "cell_type": "code",
      "execution_count": null,
      "metadata": {
        "_cell_guid": "ffb3475b-fa4e-5c7c-cd3b-5626025bfdf4"
      },
      "outputs": [],
      "source": [
        "train_df.plot(kind='scatter', x='MSSubClass', y='SalePrice')"
      ]
    },
    {
      "cell_type": "code",
      "execution_count": null,
      "metadata": {
        "_cell_guid": "fbceb9ac-8463-421a-a22c-3840608c6b2b"
      },
      "outputs": [],
      "source": [
        "train_df.plot(kind='scatter', x='LotFrontage', y='SalePrice')"
      ]
    },
    {
      "cell_type": "code",
      "execution_count": null,
      "metadata": {
        "_cell_guid": "14470485-c43b-1a01-cb1c-ce3828bed882"
      },
      "outputs": [],
      "source": [
        "train_df.plot(kind='scatter', x='LotArea', y='SalePrice')"
      ]
    },
    {
      "cell_type": "code",
      "execution_count": null,
      "metadata": {
        "_cell_guid": "c9181eb9-64a4-884b-86cd-8831d6d9bea7"
      },
      "outputs": [],
      "source": [
        "train_df.plot(x='Neighborhood', y='SalePrice')"
      ]
    },
    {
      "cell_type": "code",
      "execution_count": null,
      "metadata": {
        "_cell_guid": "66fd2e4e-73d6-352f-fdfb-af92062bc74a"
      },
      "outputs": [],
      "source": [
        "train_df.plot(kind='scatter', x='OverallQual', y='SalePrice')"
      ]
    },
    {
      "cell_type": "code",
      "execution_count": null,
      "metadata": {
        "_cell_guid": "acbc9bf9-741b-e08c-0047-e6445abef559"
      },
      "outputs": [],
      "source": [
        "train_df.plot(kind='scatter', x='OverallCond', y='SalePrice')"
      ]
    },
    {
      "cell_type": "code",
      "execution_count": null,
      "metadata": {
        "_cell_guid": "c950da2c-b52e-b86e-8b7b-e523ca9b638b"
      },
      "outputs": [],
      "source": [
        "train_df.plot(kind='scatter', x='YearBuilt', y='SalePrice');"
      ]
    },
    {
      "cell_type": "code",
      "execution_count": null,
      "metadata": {
        "_cell_guid": "7e288f38-c8ae-a1c9-a943-b69761ab7421"
      },
      "outputs": [],
      "source": [
        "train_df.plot(x='SaleCondition', y='SalePrice');"
      ]
    },
    {
      "cell_type": "code",
      "execution_count": null,
      "metadata": {
        "_cell_guid": "54df3215-136d-b1b9-debe-2e335a9df40a"
      },
      "outputs": [],
      "source": [
        "train_df.plot(kind='scatter', x='YrSold', y='SalePrice');"
      ]
    },
    {
      "cell_type": "code",
      "execution_count": null,
      "metadata": {
        "_cell_guid": "dccb0dfa-f232-cd1c-0370-ecdbb1e26261"
      },
      "outputs": [],
      "source": [
        "train_df.plot(kind='scatter', x='MoSold', y='SalePrice');"
      ]
    },
    {
      "cell_type": "code",
      "execution_count": null,
      "metadata": {
        "_cell_guid": "df0291dc-d90d-9c87-7576-7b7f1fc722d6"
      },
      "outputs": [],
      "source": [
        "# define training and testing sets\n",
        "\n",
        "\n",
        "\n",
        "cats = ['MSSubClass', 'LotArea', 'Neighborhood', 'OverallQual']\n",
        "X_train = train_df[cats].copy()\n",
        "Y_train = train_df['SalePrice']\n",
        "X_test  = test_df[cats].copy()\n",
        "\n",
        "X_train.info()\n",
        "X_test.info()"
      ]
    },
    {
      "cell_type": "code",
      "execution_count": null,
      "metadata": {
        "_cell_guid": "696a9aa8-0ed5-2c4f-8299-1e0d3eb845d9"
      },
      "outputs": [],
      "source": [
        "msclasses = [20, 30, 40, 45, 50, 60, 70, 75, 80, 85, 90, 120, 150, 160, 180, 190]\n",
        "X_train['MSSubClass'] = X_train['MSSubClass'].astype('category',categories=msclasses)\n",
        "X_test['MSSubClass'] = X_test['MSSubClass'].astype('category',categories=msclasses)\n",
        "\n",
        "X_train = pd.get_dummies(X_train, columns=['MSSubClass', 'Neighborhood'])\n",
        "X_test = pd.get_dummies(X_test, columns=['MSSubClass', 'Neighborhood'])\n",
        "\n",
        "X_train.info()\n",
        "X_test.info()"
      ]
    },
    {
      "cell_type": "code",
      "execution_count": null,
      "metadata": {
        "_cell_guid": "ea49e292-8619-8d88-52b5-b46f3c28efba"
      },
      "outputs": [],
      "source": [
        "\n",
        "\n",
        "'''\n",
        "le = preprocessing.LabelEncoder()\n",
        "neighbourhood = X_train['Neighborhood']\n",
        "le.fit(neighbourhood)\n",
        "list(le.classes_)\n",
        "\n",
        "\n",
        "X_train['Neighborhood'] = le.transform(neighbourhood)\n",
        "X_test['Neighborhood'] = le.transform(X_test['Neighborhood'])\n",
        "'''\n",
        "\n",
        "# Random Forests\n",
        "\n",
        "random_forest = RandomForestClassifier(n_estimators=100)\n",
        "\n",
        "random_forest.fit(X_train, Y_train)\n",
        "\n",
        "Y_pred = random_forest.predict(X_test)\n",
        "\n",
        "random_forest.score(X_train, Y_train)"
      ]
    },
    {
      "cell_type": "code",
      "execution_count": null,
      "metadata": {
        "_cell_guid": "1033477e-4bd8-55c6-fe02-8d7a4bebd1c4"
      },
      "outputs": [],
      "source": [
        "submission = pd.DataFrame({\n",
        "        \"Id\": test_df[\"Id\"],\n",
        "        \"SalePrice\": Y_pred\n",
        "    })\n",
        "submission.to_csv('houses.csv', index=False)\n",
        "print(\"Done\")"
      ]
    }
  ],
  "metadata": {
    "_change_revision": 0,
    "_is_fork": false,
    "kernelspec": {
      "display_name": "Python 3",
      "language": "python",
      "name": "python3"
    },
    "language_info": {
      "codemirror_mode": {
        "name": "ipython",
        "version": 3
      },
      "file_extension": ".py",
      "mimetype": "text/x-python",
      "name": "python",
      "nbconvert_exporter": "python",
      "pygments_lexer": "ipython3",
      "version": "3.5.2"
    }
  },
  "nbformat": 4,
  "nbformat_minor": 0
}