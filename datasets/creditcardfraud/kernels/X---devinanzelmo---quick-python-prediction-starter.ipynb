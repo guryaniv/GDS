{
  "cells": [
    {
      "cell_type": "markdown",
      "metadata": {
        "_cell_guid": "dc62f6c1-31cf-7949-a9a2-7251368868f3"
      },
      "source": [
        "Very simple prediction set up. This dataset is very tidy, so it should be easy to experiment with classification. I have not addressed the imbalance issue this is just a python starter. "
      ]
    },
    {
      "cell_type": "code",
      "execution_count": null,
      "metadata": {
        "_cell_guid": "5786b529-98db-4e43-9191-2ddbcec3370a"
      },
      "outputs": [],
      "source": [
        "import numpy as np # linear algebra\n",
        "import pandas as pd # data processing, CSV file I/O (e.g. pd.read_csv)\n",
        "\n",
        "from sklearn import ensemble, model_selection, metrics\n",
        "\n",
        "from subprocess import check_output\n",
        "print(check_output([\"ls\", \"../input\"]).decode(\"utf8\"))\n",
        "\n",
        "# Any results you write to the current directory are saved as output."
      ]
    },
    {
      "cell_type": "code",
      "execution_count": null,
      "metadata": {
        "_cell_guid": "a52747d3-8bae-77d1-e800-dfd7417691ed"
      },
      "outputs": [],
      "source": [
        "credit_card = pd.read_csv('../input/creditcard.csv')"
      ]
    },
    {
      "cell_type": "code",
      "execution_count": null,
      "metadata": {
        "_cell_guid": "6f5ac9e8-ab90-0933-3f66-78e1b8ddb974"
      },
      "outputs": [],
      "source": [
        "credit_card.head()"
      ]
    },
    {
      "cell_type": "code",
      "execution_count": null,
      "metadata": {
        "_cell_guid": "53c7c077-6b7a-1d23-e0e2-48f2a293129b"
      },
      "outputs": [],
      "source": [
        "labels = credit_card['Class']\n",
        "times = credit_card['Time']\n",
        "credit_card.drop(['Class','Time'],axis=1,inplace=True)"
      ]
    },
    {
      "cell_type": "code",
      "execution_count": null,
      "metadata": {
        "_cell_guid": "a1d5f18e-dbc5-7c0d-a7c7-77509046ff82"
      },
      "outputs": [],
      "source": [
        "labels.value_counts()"
      ]
    },
    {
      "cell_type": "code",
      "execution_count": null,
      "metadata": {
        "_cell_guid": "0f7f9cce-f610-d4e5-53ca-f339564504a5"
      },
      "outputs": [],
      "source": [
        "strat_kfold = model_selection.StratifiedKFold(n_splits=5,shuffle=True, random_state=11111)"
      ]
    },
    {
      "cell_type": "code",
      "execution_count": null,
      "metadata": {
        "_cell_guid": "a3867d87-2e28-62a9-6014-5c71e7e029fb"
      },
      "outputs": [],
      "source": [
        "rf = ensemble.RandomForestClassifier(n_jobs=-1)\n",
        "scores = model_selection.cross_val_score(rf, credit_card, labels, cv=strat_kfold,scoring='roc_auc')\n",
        "scores"
      ]
    },
    {
      "cell_type": "markdown",
      "metadata": {
        "_cell_guid": "241d073c-e8a7-c169-fb7c-5bdd6575cb9e"
      },
      "source": [
        "The above are AUC scores for each of the five folds. "
      ]
    }
  ],
  "metadata": {
    "_change_revision": 0,
    "_is_fork": false,
    "kernelspec": {
      "display_name": "Python 3",
      "language": "python",
      "name": "python3"
    },
    "language_info": {
      "codemirror_mode": {
        "name": "ipython",
        "version": 3
      },
      "file_extension": ".py",
      "mimetype": "text/x-python",
      "name": "python",
      "nbconvert_exporter": "python",
      "pygments_lexer": "ipython3",
      "version": "3.5.2"
    }
  },
  "nbformat": 4,
  "nbformat_minor": 0
}