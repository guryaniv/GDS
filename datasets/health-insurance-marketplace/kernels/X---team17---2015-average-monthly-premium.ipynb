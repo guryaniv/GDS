{
  "cells": [
    {
      "cell_type": "code",
      "execution_count": null,
      "metadata": {
        "_cell_guid": "123a05b7-b9a9-ed2c-7d89-bebb67b42a14"
      },
      "outputs": [],
      "source": [
        "# This Python 3 environment comes with many helpful analytics libraries installed\n",
        "# It is defined by the kaggle/python docker image: https://github.com/kaggle/docker-python\n",
        "# For example, here's several helpful packages to load in \n",
        "\n",
        "import numpy as np # linear algebra\n",
        "import pandas as pd # data processing, CSV file I/O (e.g. pd.read_csv)\n",
        "\n",
        "# Input data files are available in the \"../input/\" directory.\n",
        "# For example, running this (by clicking run or pressing Shift+Enter) will list the files in the input directory\n",
        "\n",
        "from subprocess import check_output\n",
        "print(check_output([\"ls\", \"../input\"]).decode(\"utf8\"))\n",
        "\n",
        "# Any results you write to the current directory are saved as output."
      ]
    },
    {
      "cell_type": "code",
      "execution_count": null,
      "metadata": {
        "_cell_guid": "3ecda344-7a55-bd6c-998e-3ed7371489fe"
      },
      "outputs": [],
      "source": [
        "import plotly.plotly as py\n",
        "import plotly.offline as ploff\n",
        "\n",
        "from ggplot import *\n",
        "from subprocess import check_output\n",
        "from plotly.offline import init_notebook_mode, plot\n",
        "\n",
        "ploff.init_notebook_mode()\n",
        "\n",
        "headers = ['BusinessYear', 'StateCode', 'Age', \n",
        "           'IndividualRate', 'Couple']\n",
        "\n",
        "# read in chuncks for memory efficiency\n",
        "filePath = '../input/Rate.csv'\n",
        "chunks = pd.read_csv(filePath, iterator=True, chunksize=1000,\n",
        "                    usecols=headers)\n",
        "rates = pd.concat(chunk for chunk in chunks)\n",
        "\n",
        "randomRows = rates.sample(n=6)\n",
        "randomRows"
      ]
    },
    {
      "cell_type": "code",
      "execution_count": null,
      "metadata": {
        "_cell_guid": "a76703f1-47dd-bde5-c4d0-3d68c256919c"
      },
      "outputs": [],
      "source": [
        "pd.set_option('display.float_format', lambda x: '%.2f' % x)\n",
        "print (rates['Couple'].describe())"
      ]
    },
    {
      "cell_type": "code",
      "execution_count": null,
      "metadata": {
        "_cell_guid": "c108f5c3-c864-82e1-d7e4-27b8a9fc4026"
      },
      "outputs": [],
      "source": [
        "print (rates['IndividualRate'].describe())"
      ]
    },
    {
      "cell_type": "code",
      "execution_count": null,
      "metadata": {
        "_cell_guid": "b38ef023-fd72-bb65-b0ad-2a16a0f5ea36"
      },
      "outputs": [],
      "source": [
        "ratesInd9000 = rates[rates.IndividualRate < 9000]\n",
        "print (ratesInd9000['IndividualRate'].describe())"
      ]
    },
    {
      "cell_type": "code",
      "execution_count": null,
      "metadata": {
        "_cell_guid": "51860d3f-9312-dbfa-50ab-2515918c0126"
      },
      "outputs": [],
      "source": [
        "columns = ['BusinessYear', 'StateCode', 'IndividualRate']\n",
        "indRates = pd.DataFrame(ratesInd9000, columns=columns)\n",
        "indRates2015 = indRates[indRates.BusinessYear == 2015]\n",
        "indRates2015 = indRates2015.dropna(subset=['IndividualRate'])\n",
        "randomRows2015 = indRates2015.sample(n=6)\n",
        "randomRows2015"
      ]
    },
    {
      "cell_type": "code",
      "execution_count": null,
      "metadata": {
        "_cell_guid": "17f0485f-37a2-2742-bedf-911f026f9812"
      },
      "outputs": [],
      "source": [
        "indRates2015['IndividualRate'].describe()"
      ]
    },
    {
      "cell_type": "code",
      "execution_count": null,
      "metadata": {
        "_cell_guid": "f9cf6c50-e045-a6bf-2c57-1dfab6c52094"
      },
      "outputs": [],
      "source": [
        "indMean2015 = indRates2015.groupby('StateCode', as_index=False).mean()\n",
        "indMean2015"
      ]
    }
  ],
  "metadata": {
    "_change_revision": 0,
    "_is_fork": false,
    "kernelspec": {
      "display_name": "Python 3",
      "language": "python",
      "name": "python3"
    },
    "language_info": {
      "codemirror_mode": {
        "name": "ipython",
        "version": 3
      },
      "file_extension": ".py",
      "mimetype": "text/x-python",
      "name": "python",
      "nbconvert_exporter": "python",
      "pygments_lexer": "ipython3",
      "version": "3.5.2"
    }
  },
  "nbformat": 4,
  "nbformat_minor": 0
}