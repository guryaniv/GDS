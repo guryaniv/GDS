{
  "metadata": {
    "kernelspec": {
      "display_name": "Python 3",
      "language": "python",
      "name": "python3"
    },
    "language_info": {
      "codemirror_mode": {
        "name": "ipython",
        "version": 3
      },
      "file_extension": ".py",
      "mimetype": "text/x-python",
      "name": "python",
      "nbconvert_exporter": "python",
      "pygments_lexer": "ipython3",
      "version": "3.6.0"
    }
  },
  "nbformat": 4,
  "nbformat_minor": 0,
  "cells": [
    {
      "cell_type": "markdown",
      "metadata": {
        "_cell_guid": "d7d3356e-d67c-f37e-4dc4-4a45b2bc22c1",
        "_active": false
      },
      "source": "fork from\nhttps://www.kaggle.com/poonaml/intel-mobileodt-cervical-cancer-screening/intel-cervical-cancer-eda",
      "outputs": []
    },
    {
      "cell_type": "code",
      "execution_count": 1,
      "metadata": {
        "_cell_guid": "21397c5a-a091-e518-d431-ee07a853e808",
        "_active": false
      },
      "outputs": [],
      "source": "# This Python 3 environment comes with many helpful analytics libraries installed\n# It is defined by the kaggle/python docker image: https://github.com/kaggle/docker-python\n# For example, here's several helpful packages to load in \n\nimport numpy as np # linear algebra\nimport pandas as pd # data processing, CSV file I/O (e.g. pd.read_csv)\n\n# Input data files are available in the \"../input/\" directory.\n# For example, running this (by clicking run or pressing Shift+Enter) will list the files in the input directory\n\nfrom subprocess import check_output\nprint(check_output([\"ls\", \"../input\"]).decode(\"utf8\"))\n\n# Any results you write to the current directory are saved as output.",
      "execution_state": "idle"
    },
    {
      "cell_type": "code",
      "execution_count": 4,
      "metadata": {
        "_cell_guid": "6d8821f9-f897-bb58-d43d-624e62032e32",
        "_active": false,
        "collapsed": false
      },
      "outputs": [],
      "source": "from subprocess import check_output\nMAIN_DIR = \"../input/additional\"\nprint(check_output([\"ls\", MAIN_DIR]).decode(\"utf8\"))",
      "execution_state": "idle"
    },
    {
      "cell_type": "code",
      "execution_count": 7,
      "metadata": {
        "_cell_guid": "88c5f556-a7e8-4969-7b2c-ca1b93f5bb7a",
        "_active": false,
        "collapsed": false
      },
      "outputs": [],
      "source": "# Cantidad de imagenes por carpeta\n\nimport matplotlib.pyplot as plt\nimport seaborn as sns\n\nsub_folders = check_output([\"ls\", MAIN_DIR]).decode(\"utf8\").strip().split('\\n')\ncount_dict = {}\nfor sub_folder in sub_folders:\n    num_of_files = len(check_output([\"ls\", MAIN_DIR + '/' + sub_folder]).decode(\"utf8\").strip().split('\\n'))\n    print(\"{0} photos of cervix type {1} \".format(num_of_files, sub_folder))\n\n    count_dict[sub_folder] = num_of_files\n    \nplt.figure(figsize=(12,4))\nsns.barplot(list(count_dict.keys()), list(count_dict.values()), alpha=0.8)\nplt.xlabel('Cervix types', fontsize=12)\nplt.ylabel('Number of Images', fontsize=12)\nplt.show()",
      "execution_state": "idle"
    },
    {
      "cell_type": "code",
      "execution_count": 14,
      "metadata": {
        "_cell_guid": "ea8b7d07-19fe-884c-50f4-fb7ba7fcf5d2",
        "_active": false,
        "collapsed": false
      },
      "outputs": [],
      "source": "# ver nombres de las imagenes en las carpetar\nimport random\n\nlista_raw = check_output([\"ls\", MAIN_DIR + \"/Type_1\"]).decode(\"utf8\")\nlista_nombres = lista_raw.split('\\n')\n#random.seed(6969)\nimg_random = random.choice(lista_nombres)\n\nfrom PIL import Image\n\n#fig = plt.figure(figsize=(12,8))\nsize = 256, 256\n\nim=Image.open(MAIN_DIR + '/Type_1/' + img_random)\n\nprint(\"Info de la imagen\")\nprint (im.format, im.size, im.mode)\nim.thumbnail(size, Image.NEAREST)\nim\n",
      "execution_state": "idle"
    },
    {
      "cell_type": "code",
      "execution_count": 9,
      "metadata": {
        "_cell_guid": "577e57f8-a00c-a26a-85d4-3d7458f0d23a",
        "_active": false,
        "collapsed": false
      },
      "outputs": [],
      "source": "from PIL import Image\n\n#fig = plt.figure(figsize=(12,8))\nsize = 256, 256\n\nim=Image.open(MAIN_DIR + '/Type_1/10.jpg')\n\nprint(\"Info de la imagen\")\nprint (im.format, im.size, im.mode)\nim.thumbnail(size, Image.NEAREST)\n\n#print (im.format, im.size, im.mode)\nfor i in range(0, 10, 2):\n    print(im) # print 0, 2, 4, 6, 8\n\nim",
      "execution_state": "idle"
    },
    {
      "cell_type": "code",
      "execution_count": null,
      "metadata": {
        "_cell_guid": "e0d8ff64-5484-8265-0ac8-92cdf34369f7",
        "_active": false
      },
      "outputs": [],
      "source": "%matplotlib inline\nimport matplotlib.pyplot as plt\nimport matplotlib.image as mpimg\nimport numpy as np\nfrom skimage import io\n#from skimage import data\n#from skimage import color\n#from skimage import img_as_float\n\nimagen_arr = io.imread_collection('../input/train/Type_1/1*.jpg',conserve_memory=False)\nio.imshow_collection(imagen_arr)\n\n\n#imagen_arr = io.imread('../input/train/Type_1/10.jpg')\n#io.imshow(imagen_arr)\n\n\n\n"
    },
    {
      "cell_type": "code",
      "execution_count": null,
      "metadata": {
        "_cell_guid": "588dbd63-8aaa-b7fc-46c1-776fbfedd51f",
        "_active": false
      },
      "outputs": [],
      "source": "%matplotlib inline\nimport matplotlib.pyplot as plt\nimport matplotlib.image as mpimg\nimport numpy as np\nfrom skimage import data\nfrom skimage import color\nfrom skimage import img_as_float\n\n\nimg = mpimg.imread('../input/train/Type_1/10.jpg')\n\n\n\n#grayscale_image = img_as_float(data.camera()[::2, ::2])\nimagen = img_as_float('../input/train/Type_1/10.jpg'[::2, ::2])\nimage = color.gray2rgb(imagen)\n\n#red_multiplier = [1, 0, 0]\n#yellow_multiplier = [1, 1, 0]\n\nfig, (ax1, ax2) = plt.subplots(ncols=2, figsize=(8, 4), sharex=True, sharey=True)\nax1.imshow(red_multiplier * image)\nax2.imshow(yellow_multiplier * image)\nax1.set_adjustable('box-forced')\nax2.set_adjustable('box-forced')\n\n\n#moon = io.imread('../input/train/Type_1/10.jpg')\n#fig, (ax1, ax2) = plt.subplots(ncols=2, figsize=(8, 4), sharex=True, sharey=True)\n#moon.imshow()\n\n#fig, (ax1, ax2) = plt.subplots(ncols=2, figsize=(8, 4), sharex=True, sharey=True)\n#ax1.imshow()\n#ax2.imshow()\n#ax1.set_adjustable('box-forced')\n#ax2.set_adjustable('box-forced')\n"
    },
    {
      "cell_type": "code",
      "execution_count": null,
      "metadata": {
        "_cell_guid": "e00a699c-ccb2-f238-4860-99478d645ba4",
        "_active": true
      },
      "outputs": [],
      "source": "import matplotlib.pyplot as plt\n\n#from skimage import data\n#from skimage import color\n#from skimage import img_as_float\n\n#grayscale_image = img_as_float(data.camera()[::2, ::2])\n#image = color.gray2rgb(grayscale_image)\n\n\n#red_multiplier = [1, 0, 0]\n#yellow_multiplier = [1, 1, 0]\n\nim=Image.open('../input/train/Type_1/10.jpg')\n\nfig, (ax1, ax2) = plt.subplots(ncols=2, figsize=(8, 4), sharex=True, sharey=True)\nax1.imshow()\nax2.imshow()\nax1.set_adjustable('box-forced')\nax2.set_adjustable('box-forced')"
    }
  ]
}