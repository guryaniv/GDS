{
  "cells": [
    {
      "cell_type": "code",
      "execution_count": null,
      "metadata": {
        "_cell_guid": "63974645-7e9f-b7a8-7e4d-e23c0b8e6296"
      },
      "outputs": [],
      "source": [
        "import numpy as np\n",
        "import pandas as pd\n",
        "from sklearn.preprocessing import StandardScaler\n",
        "\n",
        "df = pd.read_csv('../input/creditcard.csv')\n",
        "df['Amount'] = StandardScaler().fit_transform(df['Amount'].values.reshape(-1, 1))"
      ]
    },
    {
      "cell_type": "code",
      "execution_count": null,
      "metadata": {
        "_cell_guid": "e6e50189-645e-def7-50d4-a5755e9a6ebe"
      },
      "outputs": [],
      "source": [
        "fraud = df[df['Class'] == 1]\n",
        "not_fraud = df[df['Class'] == 0]\n",
        "both = [fraud, not_fraud]\n",
        "print(len(not_fraud))\n",
        "for df in both:\n",
        "    index = np.random.choice(df.index, size=(len(df), 1), replace=True, p=None)\n",
        "    fraud = df.iloc(index)\n",
        "print(len(fraud))"
      ]
    }
  ],
  "metadata": {
    "_change_revision": 0,
    "_is_fork": false,
    "kernelspec": {
      "display_name": "Python 3",
      "language": "python",
      "name": "python3"
    },
    "language_info": {
      "codemirror_mode": {
        "name": "ipython",
        "version": 3
      },
      "file_extension": ".py",
      "mimetype": "text/x-python",
      "name": "python",
      "nbconvert_exporter": "python",
      "pygments_lexer": "ipython3",
      "version": "3.6.0"
    }
  },
  "nbformat": 4,
  "nbformat_minor": 0
}