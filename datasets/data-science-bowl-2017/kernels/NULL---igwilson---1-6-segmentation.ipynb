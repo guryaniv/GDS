{
  "cells": [
    {
      "cell_type": "code",
      "execution_count": null,
      "metadata": {
        "_cell_guid": "152f63be-7a9a-7829-5694-57fe3e0aff24"
      },
      "outputs": [],
      "source": [
        " \n",
        "\"\"\"\n",
        "USE Best Model + Transformation:\n",
        "\n",
        "Model on 20% data, test on 30% data.\n",
        "\n",
        "(1)  Isolate Patients and Segmentation training algorithm (restrict number and proportion)\n",
        "(2)  try 4 algorithms (try transformations + Resizing + Masking):\n",
        "\n",
        "     INPUT > patients                 OUTPUT > patients+segment\n",
        "\n",
        "(3)  piecewise model by segment.\n",
        "(4)  compare logloss of model vs. piecewise segment model.\n",
        "\n",
        "\"\"\"\n",
        "\n",
        "\n",
        "\n",
        "\n",
        "\n",
        "# This Python 3 environment comes with many helpful analytics libraries installed\n",
        "# It is defined by the kaggle/python docker image: https://github.com/kaggle/docker-python\n",
        "# For example, here's several helpful packages to load in \n",
        "\n",
        "import numpy as np # linear algebra\n",
        "import pandas as pd # data processing, CSV file I/O (e.g. pd.read_csv)\n",
        "\n",
        "# Input data files are available in the \"../input/\" directory.\n",
        "# For example, running this (by clicking run or pressing Shift+Enter) will list the files in the input directory\n",
        "\n",
        "from subprocess import check_output\n",
        "print(check_output([\"ls\", \"../input\"]).decode(\"utf8\"))\n",
        "\n",
        "# Any results you write to the current directory are saved as output."
      ]
    },
    {
      "cell_type": "code",
      "execution_count": null,
      "metadata": {
        "_cell_guid": "b9105fcc-7d2c-64e3-1366-4a71c0a8cc2d"
      },
      "outputs": [],
      "source": [
        "# we loop over the parameters\n",
        "\n",
        "for y in range(0, 4):\n",
        "    for x in range(0, 4):\n",
        "            print(str(x)+\" and \"+str(y))\n",
        "\n",
        "            # fit the model 10, 20 30, 40, 50\n",
        "            \n",
        "            # compute the logloss(s)\n",
        "            \n",
        "            # append paramters and logloss to a pandas dataframe\n",
        "\n",
        "            \n",
        "            \n",
        "            \n",
        "# Do the same thing for SVM\n",
        "\n",
        "# Same thing for RF\n",
        "\n",
        "# same thing for transformations\n",
        "\n",
        "# write ensemble tester code\n",
        "\n",
        "# setup the mask loop (try to speed up)\n",
        "\n",
        "# do the same checks on the masked data\n",
        "\n",
        "# test ensembles\n",
        "\n",
        "# select best model"
      ]
    },
    {
      "cell_type": "code",
      "execution_count": null,
      "metadata": {
        "_cell_guid": "462f9628-272d-2a38-7277-4d06c0f086d8"
      },
      "outputs": [],
      "source": ""
    },
    {
      "cell_type": "code",
      "execution_count": null,
      "metadata": {
        "_cell_guid": "004614b8-a541-a31e-df07-184454f3f429"
      },
      "outputs": [],
      "source": ""
    },
    {
      "cell_type": "code",
      "execution_count": null,
      "metadata": {
        "_cell_guid": "d5b1956c-4ed2-56f4-5147-471543bb4497"
      },
      "outputs": [],
      "source": ""
    }
  ],
  "metadata": {
    "_change_revision": 0,
    "_is_fork": false,
    "kernelspec": {
      "display_name": "Python 3",
      "language": "python",
      "name": "python3"
    },
    "language_info": {
      "codemirror_mode": {
        "name": "ipython",
        "version": 3
      },
      "file_extension": ".py",
      "mimetype": "text/x-python",
      "name": "python",
      "nbconvert_exporter": "python",
      "pygments_lexer": "ipython3",
      "version": "3.6.0"
    }
  },
  "nbformat": 4,
  "nbformat_minor": 0
}