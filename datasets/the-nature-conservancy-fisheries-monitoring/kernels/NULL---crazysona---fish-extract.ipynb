{
  "cells": [
    {
      "cell_type": "markdown",
      "metadata": {
        "_cell_guid": "e8f311d9-a22e-64fe-db18-df559d6d027e"
      },
      "source": [
        "This notebook is to extract fish from image."
      ]
    },
    {
      "cell_type": "markdown",
      "metadata": {
        "_cell_guid": "eb186ade-24b8-4524-bad9-a3318f3d7041"
      },
      "source": [
        ""
      ]
    },
    {
      "cell_type": "code",
      "execution_count": null,
      "metadata": {
        "_cell_guid": "41825b4b-72f9-4ae7-539b-5536a672a705"
      },
      "outputs": [],
      "source": [
        "# This Python 3 environment comes with many helpful analytics libraries installed\n",
        "# It is defined by the kaggle/python docker image: https://github.com/kaggle/docker-python\n",
        "# For example, here's several helpful packages to load in \n",
        "\n",
        "\n",
        "import os\n",
        "import time\n",
        "import glob\n",
        "import cv2\n",
        "import multiprocessing\n",
        "import numpy as np # linear algebra\n",
        "import pandas as pd # data processing, CSV file I/O (e.g. pd.read_csv) \n",
        "from sklearn import cluster\n",
        "import matplotlib.pyplot as plt\n",
        "import tensorflow as tf\n",
        "\n",
        "\n",
        "# Input data files are available in the \"../input/\" directory.\n",
        "# For example, running this (by clicking run or pressing Shift+Enter) will list the files in the input directory\n",
        "\n",
        "from subprocess import check_output\n",
        "print(check_output([\"ls\", \"../input/train\"]).decode(\"utf8\"))\n",
        "\n",
        "# Any results you write to the current directory are saved as output."
      ]
    },
    {
      "cell_type": "code",
      "execution_count": null,
      "metadata": {
        "_cell_guid": "f1329c95-096a-54d5-fcb9-fc40842f8fe1"
      },
      "outputs": [],
      "source": [
        "def load_train():\n",
        "    train_img = []\n",
        "    input_file_path = \"../input/train/\"\n",
        "    fishes = ['ALB','BET','DOL','LAG','NoF','OTHER','SHARK','YFT']\n",
        "    print(\"loading files starts at \" + time.asctime())\n",
        "    for idx in range(len(fishes)):\n",
        "        files = glob.glob(input_file_path + fishes[idx] + \"/*\")\n",
        "        print(fishes[idx])\n",
        "        for file in files:\n",
        "            img = cv2.imread(file)\n",
        "            img = cv2.resize(img, (500,500), cv2.INTER_LINEAR)\n",
        "            train_img.append(img)\n",
        "        print(fishes[idx], len(train_img))\n",
        "    print(\"finish loading files at \" + time.asctime())\n",
        "    return train_img\n",
        "train = load_train()"
      ]
    },
    {
      "cell_type": "code",
      "execution_count": null,
      "metadata": {
        "_cell_guid": "2d4cc0eb-8c83-b30c-b4ce-f93a316247ad"
      },
      "outputs": [],
      "source": [
        "#tensorflow to calculate\n"
      ]
    },
    {
      "cell_type": "code",
      "execution_count": null,
      "metadata": {
        "_cell_guid": "2f99c404-29b7-4d37-2c50-4bd96742820d"
      },
      "outputs": [],
      "source": [
        "def get_random_data(train):\n",
        "    np_train = np.array(train)\n",
        "    index = np.random.choice(np.arange(np_train.shape[0]), size = [100])\n",
        "    index.sort()\n",
        "    np_train = np_train[index]\n",
        "    return np_train\n",
        "\n",
        "small = get_random_data(train)\n",
        "\n",
        "\n"
      ]
    },
    {
      "cell_type": "code",
      "execution_count": null,
      "metadata": {
        "_cell_guid": "e2c759be-0c5a-0fa3-2b8c-a4ae9021b78e"
      },
      "outputs": [],
      "source": [
        "def dist(args):\n",
        "    a, b = args\n",
        "    a = (a - a.mean()) / a.std()\n",
        "    b = (b - b.mean()) / b.std()\n",
        "    return np.mean(np.abs(a - b))\n",
        "\n",
        "pool = multiprocessing.Pool(8)\n",
        "\n",
        "dis_mat = np.zeros([small.shape[0], small.shape[0]])\n",
        "print(\"start \" + time.asctime())\n",
        "for idx, img in enumerate(small):\n",
        "    imgs = [(img[0], f[0]) for f in small]\n",
        "    dists = pool.map(dist, imgs)\n",
        "    print(idx)\n",
        "    dis_mat[idx, :] = dists\n",
        "\n",
        "print(dis_mat[:10])\n",
        "\n"
      ]
    },
    {
      "cell_type": "code",
      "execution_count": null,
      "metadata": {
        "_cell_guid": "48f7c4e1-6e17-e80e-32f1-0014ab41cfeb"
      },
      "outputs": [],
      "source": [
        "cls = cluster.DBSCAN(metric='precomputed', min_samples=5, eps=0.7)\n",
        "y = cls.fit_predict(dis_mat)\n",
        "print(y)\n",
        "print(pd.Series(y).value_counts())\n",
        "\n",
        "res = []\n",
        "for idx in range(np.min(y), np.max(y) + 1):\n",
        "    tmp = small[y == idx]\n",
        "    res.append(tmp)\n",
        "res = np.array(res)\n",
        "\n",
        "print(res[0].shape)"
      ]
    },
    {
      "cell_type": "code",
      "execution_count": null,
      "metadata": {
        "_cell_guid": "77846f46-d00c-7c8d-419c-f3ccfd1d15d9"
      },
      "outputs": [],
      "source": [
        "plt.figure(figsize = [20, 5])\n",
        "plt.subplot(141)\n",
        "plt.imshow(res[0][0][0])\n",
        "plt.subplot(142)\n",
        "plt.imshow(res[0][1][0])\n",
        "plt.subplot(143)\n",
        "plt.imshow(res[0][6][0])\n",
        "plt.subplot(144)\n",
        "plt.imshow(res[0][7][0])\n",
        "plt.show()\n",
        "   "
      ]
    }
  ],
  "metadata": {
    "_change_revision": 0,
    "_is_fork": false,
    "kernelspec": {
      "display_name": "Python 3",
      "language": "python",
      "name": "python3"
    },
    "language_info": {
      "codemirror_mode": {
        "name": "ipython",
        "version": 3
      },
      "file_extension": ".py",
      "mimetype": "text/x-python",
      "name": "python",
      "nbconvert_exporter": "python",
      "pygments_lexer": "ipython3",
      "version": "3.6.0"
    }
  },
  "nbformat": 4,
  "nbformat_minor": 0
}