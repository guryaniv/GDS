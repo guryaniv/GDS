{
  "cells": [
    {
      "cell_type": "markdown",
      "metadata": {
        "_cell_guid": "45b5ff26-031b-f4d6-a4a0-16991a5b0fc1"
      },
      "source": [
        "# Load the data"
      ]
    },
    {
      "cell_type": "code",
      "execution_count": null,
      "metadata": {
        "_cell_guid": "36ce04f9-7247-bdd8-ac0a-e5d0f242db12"
      },
      "outputs": [],
      "source": [
        "import kagglegym\n",
        "import numpy as np\n",
        "import pandas as pd\n",
        "import xgboost as xgb\n",
        "import matplotlib.pyplot as plt\n",
        "import seaborn as sns\n",
        "# The \"environment\" is our interface for code competitions\n",
        "env = kagglegym.make()\n",
        "\n",
        "# We get our initial observation by calling \"reset\"\n",
        "observation = env.reset()\n",
        "\n",
        "# Note that the first observation we get has a \"train\" dataframe\n",
        "print(\"Train has {} rows\".format(len(observation.train)))\n",
        "\n",
        "# The \"target\" dataframe is a template for what we need to predict:\n",
        "print(\"Target column names: {}\".format(\", \".join(['\"{}\"'.format(col) for col in list(observation.target.columns)])))\n",
        "\n",
        "\n"
      ]
    },
    {
      "cell_type": "code",
      "execution_count": null,
      "metadata": {
        "_cell_guid": "5808d5dc-11f6-976b-f6e4-702f565a1b96"
      },
      "outputs": [],
      "source": [
        "train_data = observation.train\n",
        "train_data.head()\n"
      ]
    },
    {
      "cell_type": "code",
      "execution_count": null,
      "metadata": {
        "_cell_guid": "42ab0edc-5867-b1c6-8171-920225d91d83"
      },
      "outputs": [],
      "source": [
        "train_data.dtypes"
      ]
    },
    {
      "cell_type": "code",
      "execution_count": null,
      "metadata": {
        "_cell_guid": "506b3a55-0550-f958-b1ea-6138923b9a1e"
      },
      "outputs": [],
      "source": [
        "f_cols=[f for f in train_data.columns if f.startswith('fundamental')]\n",
        "t_cols=[t for t in train_data.columns if t.startswith('technical')]\n",
        "\n",
        "\n",
        "print('The number of fundamental columns is {}.'.format(len(f_cols)))\n",
        "print('The number of technical columns is {}.'.format(len(t_cols)))\n",
        "print('The number of unique ids is {}.'.format(unique(train_data.id)))\n",
        "\n"
      ]
    },
    {
      "cell_type": "markdown",
      "metadata": {
        "_cell_guid": "a302842b-4592-4dc6-2174-d9a58e964b98"
      },
      "source": [
        "# Exploration of predicted variable, y"
      ]
    },
    {
      "cell_type": "code",
      "execution_count": null,
      "metadata": {
        "_cell_guid": "86c3a06e-2fe4-9d4f-9224-c1f65bac61c6"
      },
      "outputs": [],
      "source": [
        "\n",
        "plt.plot(train_data.timestamp, train_data.y)\n"
      ]
    },
    {
      "cell_type": "code",
      "execution_count": null,
      "metadata": {
        "_cell_guid": "fa2e0679-74f0-0d30-476f-66a87074404e"
      },
      "outputs": [],
      "source": [
        "sns.distplot(train_data.y,hist=True,kde=True)"
      ]
    },
    {
      "cell_type": "code",
      "execution_count": null,
      "metadata": {
        "_cell_guid": "2e5b368b-8450-f9b6-2604-3b4c27be059c"
      },
      "outputs": [],
      "source": [
        "plt.plot(train_data.timestamp[0:2000], train_data.y[0:2000],'o')"
      ]
    },
    {
      "cell_type": "code",
      "execution_count": null,
      "metadata": {
        "_cell_guid": "b463e356-0f2d-e1dd-b0de-2d30c04ce603"
      },
      "outputs": [],
      "source": [
        "l=[len(train_data.y[train_data.timestamp==i]) for i in np.unique(train_data.timestamp)]\n",
        "fig=plt.figure()\n",
        "ax = fig.add_subplot(111)\n",
        "plt.plot(np.unique(train_data.timestamp),l,'o')\n",
        "ax.set_xlabel('Time Stamp')\n",
        "ax.set_ylabel('Number of records')"
      ]
    },
    {
      "cell_type": "code",
      "execution_count": null,
      "metadata": {
        "_cell_guid": "0aff0364-35bc-2ec3-ee14-1b8c2e441db6"
      },
      "outputs": [],
      "source": [
        "fig=plt.figure()\n",
        "ax = fig.add_subplot(111)\n",
        "\n",
        "idx=train_data.timestamp==1\n",
        "plt.plot(np.array(train_data.y[idx]),label='t=1')\n",
        "idx=train_data.timestamp==100\n",
        "plt.plot(np.array(train_data.y[idx]),label='t=100')\n",
        "idx=train_data.timestamp==200\n",
        "plt.plot(np.array(train_data.y[idx]),label='t=200')\n",
        "idx=train_data.timestamp==300\n",
        "plt.plot(np.array(train_data.y[idx]),label='t=300')\n",
        "\n",
        "plt.legend()\n",
        "ax.set_xlabel('??Observation Number??')\n",
        "ax.set_ylabel('y')\n"
      ]
    },
    {
      "cell_type": "code",
      "execution_count": null,
      "metadata": {
        "_cell_guid": "1324053e-e95d-dbdd-2dd3-d7776a94a27c"
      },
      "outputs": [],
      "source": [
        "fig=plt.figure()\n",
        "ax = fig.add_subplot(111)\n",
        "\n",
        "idx=train_data.timestamp==1|100|200|300\n",
        "sns.pairplot(np.array(train_data.y[idx]),hue='timestamp')\n",
        "\n",
        "\n"
      ]
    }
  ],
  "metadata": {
    "_change_revision": 0,
    "_is_fork": false,
    "kernelspec": {
      "display_name": "Python 3",
      "language": "python",
      "name": "python3"
    },
    "language_info": {
      "codemirror_mode": {
        "name": "ipython",
        "version": 3
      },
      "file_extension": ".py",
      "mimetype": "text/x-python",
      "name": "python",
      "nbconvert_exporter": "python",
      "pygments_lexer": "ipython3",
      "version": "3.5.2"
    }
  },
  "nbformat": 4,
  "nbformat_minor": 0
}