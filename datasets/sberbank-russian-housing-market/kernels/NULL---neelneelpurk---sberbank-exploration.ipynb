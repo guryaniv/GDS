{
  "cells": [
    {
      "cell_type": "code",
      "execution_count": null,
      "metadata": {
        "_cell_guid": "8726b763-fcc6-becb-43bf-9e576cf733e8"
      },
      "outputs": [],
      "source": [
        "# This Python 3 environment comes with many helpful analytics libraries installed\n",
        "# It is defined by the kaggle/python docker image: https://github.com/kaggle/docker-python\n",
        "# For example, here's several helpful packages to load in \n",
        "\n",
        "import numpy as np # linear algebra\n",
        "import pandas as pd # data processing, CSV file I/O (e.g. pd.read_csv)\n",
        "import matplotlib.pyplot as plt\n",
        "%matplotlib inline\n",
        "from sklearn import model_selection, preprocessing\n",
        "import seaborn as sns\n",
        "import xgboost as xgb\n",
        "# Input data files are available in the \"../input/\" directory.\n",
        "# For example, running this (by clicking run or pressing Shift+Enter) will list the files in the input directory\n",
        "\n",
        "from subprocess import check_output\n",
        "print(check_output([\"ls\", \"../input\"]).decode(\"utf8\"))\n",
        "\n",
        "# Any results you write to the current directory are saved as output.|\n",
        "pd.options.mode.chained_assignment = None  # default='warn'\n",
        "pd.set_option('display.max_columns', 500)"
      ]
    },
    {
      "cell_type": "code",
      "execution_count": null,
      "metadata": {
        "_cell_guid": "2ec05086-b790-918f-81a9-9dac84aa029d"
      },
      "outputs": [],
      "source": [
        "df = pd.read_csv(\"../input/train.csv\")\n",
        "df.shape"
      ]
    },
    {
      "cell_type": "code",
      "execution_count": null,
      "metadata": {
        "_cell_guid": "e0283a4c-8567-5370-a6ab-8c56d971a2c5"
      },
      "outputs": [],
      "source": [
        "df.tail()\n",
        "#https://www.kaggle.com/pmarcelino/comprehensive-data-exploration-with-python\n",
        "#https://www.kaggle.com/anokas/simple-xgboost-btb-0-32/code"
      ]
    },
    {
      "cell_type": "code",
      "execution_count": null,
      "metadata": {
        "_cell_guid": "a600ef42-c2ce-f13d-3d62-6b4a4ad809f2"
      },
      "outputs": [],
      "source": [
        "#check the decoration\n",
        "df.describe()"
      ]
    },
    {
      "cell_type": "code",
      "execution_count": null,
      "metadata": {
        "_cell_guid": "cd6d6cf8-d053-aa27-e697-d58f8a691db5"
      },
      "outputs": [],
      "source": [
        "#histogram\n",
        "sns.distplot(df['price_doc']);"
      ]
    },
    {
      "cell_type": "code",
      "execution_count": null,
      "metadata": {
        "_cell_guid": "71b6e6ce-fc04-a452-3eba-5e53e82d2220"
      },
      "outputs": [],
      "source": [
        "for f in df.columns:\n",
        "    if df[f].dtype=='object':\n",
        "        lbl = preprocessing.LabelEncoder()\n",
        "        lbl.fit(list(df[f].values)) \n",
        "        df[f] = lbl.transform(list(df[f].values))\n",
        "        \n",
        "train_y = df.price_doc.values\n",
        "train_X = df.drop([\"id\", \"timestamp\", \"price_doc\"], axis=1)\n",
        "\n",
        "xgb_params = {\n",
        "    'eta': 0.05,\n",
        "    'max_depth': 8,\n",
        "    'subsample': 0.7,\n",
        "    'colsample_bytree': 0.7,\n",
        "    'objective': 'reg:linear',\n",
        "    'eval_metric': 'rmse',\n",
        "    'silent': 1\n",
        "}\n",
        "dtrain = xgb.DMatrix(train_X, train_y, feature_names=train_X.columns.values)\n",
        "model = xgb.train(dict(xgb_params, silent=0), dtrain, num_boost_round=100)\n",
        "\n",
        "# plot the important features #\n",
        "fig, ax = plt.subplots(figsize=(12,18))\n",
        "xgb.plot_importance(model, max_num_features=50, height=0.8, ax=ax)\n",
        "plt.show()"
      ]
    },
    {
      "cell_type": "code",
      "execution_count": null,
      "metadata": {
        "_cell_guid": "b07ea670-cf3d-6aed-a8bf-a7611d73d728"
      },
      "outputs": [],
      "source": [
        "#scatter plot grlivarea/saleprice\n",
        "var = 'full_sq'\n",
        "data = pd.concat([df['price_doc'], df[var]], axis=1)\n",
        "data.plot.scatter(x=var, y='price_doc');"
      ]
    },
    {
      "cell_type": "code",
      "execution_count": null,
      "metadata": {
        "_cell_guid": "8d84f462-8c6c-0fdc-d910-114f6566e4f1"
      },
      "outputs": [],
      "source": [
        "#scatter plot totalbsmtsf/saleprice\n",
        "var = 'life_sq'\n",
        "data = pd.concat([df['price_doc'], df[var]], axis=1)\n",
        "data.plot.scatter(x=var, y='price_doc');"
      ]
    },
    {
      "cell_type": "code",
      "execution_count": null,
      "metadata": {
        "_cell_guid": "733254fa-5947-de1f-51cd-3bf0465bec2d"
      },
      "outputs": [],
      "source": [
        "#scatter plot totalbsmtsf/saleprice\n",
        "var = 'kitch_sq'\n",
        "data = pd.concat([df['price_doc'], df[var]], axis=1)\n",
        "data.plot.scatter(x=var, y='price_doc');"
      ]
    },
    {
      "cell_type": "code",
      "execution_count": null,
      "metadata": {
        "_cell_guid": "221b03b4-082d-4fc6-259a-d90e3595ab23"
      },
      "outputs": [],
      "source": [
        "#box plot overallqual/saleprice\n",
        "var = 'floor'\n",
        "data = pd.concat([df['price_doc'], df[var]], axis=1)\n",
        "f, ax = plt.subplots(figsize=(15, 9))\n",
        "fig = sns.boxplot(x=var, y=\"price_doc\", data=data)\n",
        "fig.axis(ymin=0);"
      ]
    },
    {
      "cell_type": "code",
      "execution_count": null,
      "metadata": {
        "_cell_guid": "8081fb17-6d19-8563-acb9-a3ea610f09bb"
      },
      "outputs": [],
      "source": [
        "df.floor.value_counts()"
      ]
    },
    {
      "cell_type": "code",
      "execution_count": null,
      "metadata": {
        "_cell_guid": "842fbb83-ea03-f265-3797-5db6a5f37bd7"
      },
      "outputs": [],
      "source": [
        "mfloor_df = df.groupby('floor')['price_doc'].aggregate(np.median).reset_index()\n",
        "plt.figure(figsize=(12,8))\n",
        "sns.pointplot(mfloor_df.floor.values, mfloor_df.price_doc.values, alpha=0.8)\n",
        "plt.ylabel('Median Price', fontsize=12)\n",
        "plt.xlabel('Floor number', fontsize=12)\n",
        "plt.xticks(rotation='vertical')\n",
        "plt.show()"
      ]
    },
    {
      "cell_type": "code",
      "execution_count": null,
      "metadata": {
        "_cell_guid": "347ee84c-55ac-27c7-30d6-dc733e53c8b0"
      },
      "outputs": [],
      "source": [
        "#box plot overallqual/saleprice\n",
        "var = 'max_floor'\n",
        "data = pd.concat([df['price_doc'], df[var]], axis=1)\n",
        "f, ax = plt.subplots(figsize=(15, 9))\n",
        "fig = sns.boxplot(x=var, y=\"price_doc\", data=data)\n",
        "fig.axis(ymin=0);"
      ]
    },
    {
      "cell_type": "code",
      "execution_count": null,
      "metadata": {
        "_cell_guid": "0d0e4efd-4a7c-341a-c831-cc5141c8919f"
      },
      "outputs": [],
      "source": [
        "df.max_floor.value_counts()"
      ]
    },
    {
      "cell_type": "code",
      "execution_count": null,
      "metadata": {
        "_cell_guid": "94ffc35f-7f80-c4bb-b5d4-1ce68c6f25b5"
      },
      "outputs": [],
      "source": [
        "mfloor_df = df.groupby('max_floor')['price_doc'].aggregate(np.median).reset_index()\n",
        "plt.figure(figsize=(12,8))\n",
        "sns.pointplot(mfloor_df.max_floor.values, mfloor_df.price_doc.values, alpha=0.8)\n",
        "plt.ylabel('Median Price', fontsize=12)\n",
        "plt.xlabel('Floor number', fontsize=12)\n",
        "plt.xticks(rotation='vertical')\n",
        "plt.show()"
      ]
    },
    {
      "cell_type": "code",
      "execution_count": null,
      "metadata": {
        "_cell_guid": "fa20d5c3-ac32-5e38-8d78-81f4feae41f1"
      },
      "outputs": [],
      "source": [
        "df.build_year.value_counts()"
      ]
    },
    {
      "cell_type": "code",
      "execution_count": null,
      "metadata": {
        "_cell_guid": "827182b8-30c9-57dc-f77e-b915028d0a2c"
      },
      "outputs": [],
      "source": [
        "#box plot overallqual/saleprice\n",
        "var = 'build_year'\n",
        "data = pd.concat([df['price_doc'], df[var]], axis=1)\n",
        "f, ax = plt.subplots(figsize=(15, 9))\n",
        "fig = sns.boxplot(x=var, y=\"price_doc\", data=data)\n",
        "fig.axis(ymin=0);"
      ]
    },
    {
      "cell_type": "code",
      "execution_count": null,
      "metadata": {
        "_cell_guid": "6b311b81-8407-a69e-b852-19e44069acaa"
      },
      "outputs": [],
      "source": [
        "mfloor_df = df.groupby('build_year')['price_doc'].aggregate(np.median).reset_index()\n",
        "plt.figure(figsize=(12,8))\n",
        "sns.pointplot(mfloor_df.build_year.values, mfloor_df.price_doc.values, alpha=0.8)\n",
        "plt.ylabel('Median Price', fontsize=12)\n",
        "plt.xlabel('Build Year', fontsize=12)\n",
        "plt.xticks(rotation='vertical')\n",
        "plt.show()"
      ]
    },
    {
      "cell_type": "code",
      "execution_count": null,
      "metadata": {
        "_cell_guid": "ef63e1dd-26c9-fbe6-6845-198aa2946425"
      },
      "outputs": [],
      "source": [
        "df['price_doc'].mean() #8300000"
      ]
    },
    {
      "cell_type": "code",
      "execution_count": null,
      "metadata": {
        "_cell_guid": "7afe6d80-38dc-c86f-709f-42b6c2280a98"
      },
      "outputs": [],
      "source": [
        ""
      ]
    }
  ],
  "metadata": {
    "_change_revision": 0,
    "_is_fork": false,
    "kernelspec": {
      "display_name": "Python 3",
      "language": "python",
      "name": "python3"
    },
    "language_info": {
      "codemirror_mode": {
        "name": "ipython",
        "version": 3
      },
      "file_extension": ".py",
      "mimetype": "text/x-python",
      "name": "python",
      "nbconvert_exporter": "python",
      "pygments_lexer": "ipython3",
      "version": "3.6.0"
    }
  },
  "nbformat": 4,
  "nbformat_minor": 0
}