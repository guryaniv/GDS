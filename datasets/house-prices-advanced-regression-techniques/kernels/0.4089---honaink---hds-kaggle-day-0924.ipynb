{
  "cells": [
    {
      "cell_type": "markdown",
      "metadata": {
        "_cell_guid": "e900ea26-2539-045a-a7f2-fe2b6a186564"
      },
      "source": [
        "Trying out Kaggle"
      ]
    },
    {
      "cell_type": "code",
      "execution_count": null,
      "metadata": {
        "_cell_guid": "4bbea922-0aba-53d9-cfba-4b55767530c7"
      },
      "outputs": [],
      "source": [
        "# This Python 3 environment comes with many helpful analytics libraries installed\n",
        "# It is defined by the kaggle/python docker image: https://github.com/kaggle/docker-python\n",
        "# For example, here's several helpful packages to load in \n",
        "\n",
        "import numpy as np # linear algebra\n",
        "import pandas as pd # data processing, CSV file I/O (e.g. pd.read_csv)\n",
        "import seaborn as sns\n",
        "import matplotlib.pyplot as plt\n",
        "%matplotlib inline\n",
        "\n",
        "# Input data files are available in the \"../input/\" directory.\n",
        "# For example, running this (by clicking run or pressing Shift+Enter) will list the files in the input directory\n",
        "\n",
        "from subprocess import check_output\n",
        "print(check_output([\"ls\", \"../input\"]).decode(\"utf8\"))\n",
        "\n",
        "# Any results you write to the current directory are saved as output."
      ]
    },
    {
      "cell_type": "code",
      "execution_count": null,
      "metadata": {
        "_cell_guid": "00ea43a0-4c96-9223-c6ab-d7f6a575d97f"
      },
      "outputs": [],
      "source": [
        "# Load the training and test data sets\n",
        "traindf = pd.read_csv('../input/train.csv')\n",
        "testdf = pd.read_csv('../input/test.csv')"
      ]
    },
    {
      "cell_type": "code",
      "execution_count": null,
      "metadata": {
        "_cell_guid": "f1e803ac-3d05-488a-a9ad-fc4980f385fa"
      },
      "outputs": [],
      "source": [
        "# Select the benchmark models features\n",
        "X_train = traindf[['YrSold','MoSold','LotArea','BedroomAbvGr']]\n",
        "y_train = traindf['SalePrice']\n",
        "X_test = testdf[['YrSold','MoSold','LotArea','BedroomAbvGr']]"
      ]
    },
    {
      "cell_type": "code",
      "execution_count": null,
      "metadata": {
        "_cell_guid": "1d8d10cd-1356-4b65-9cbc-1a12823aab66"
      },
      "outputs": [],
      "source": [
        "from sklearn import linear_model"
      ]
    },
    {
      "cell_type": "code",
      "execution_count": null,
      "metadata": {
        "_cell_guid": "e7e5fd2e-c54c-ef4f-d0f2-153f422cbd24"
      },
      "outputs": [],
      "source": [
        "clf = linear_model.LinearRegression()\n",
        "clf.fit(X_train,y_train)"
      ]
    },
    {
      "cell_type": "code",
      "execution_count": null,
      "metadata": {
        "_cell_guid": "0109b367-06c0-0878-47b7-474b1afb74a5"
      },
      "outputs": [],
      "source": [
        "yhat = clf.predict(X_test)"
      ]
    },
    {
      "cell_type": "code",
      "execution_count": null,
      "metadata": {
        "_cell_guid": "4cbdd22e-a075-f737-250a-ccab5342372c"
      },
      "outputs": [],
      "source": [
        "yhat"
      ]
    },
    {
      "cell_type": "code",
      "execution_count": null,
      "metadata": {
        "_cell_guid": "db85b7b9-98ad-7577-756c-2bd72a859e7c"
      },
      "outputs": [],
      "source": [
        "import seaborn as sns;"
      ]
    },
    {
      "cell_type": "code",
      "execution_count": null,
      "metadata": {
        "_cell_guid": "59729e0a-c66e-f3b0-85d7-79680c1b4401"
      },
      "outputs": [],
      "source": [
        "sns.regplot('BedroomAbvGr', 'SalePrice', traindf)"
      ]
    },
    {
      "cell_type": "code",
      "execution_count": null,
      "metadata": {
        "_cell_guid": "2aa090dc-89b0-4dca-9cc4-7ae4f8271a1c"
      },
      "outputs": [],
      "source": [
        "reg_vars = traindf.columns[traindf.dtypes != 'object']"
      ]
    },
    {
      "cell_type": "code",
      "execution_count": null,
      "metadata": {
        "_cell_guid": "8b035945-2174-ea32-0559-f9311841cf21"
      },
      "outputs": [],
      "source": [
        "pd.get_dummies(traindf.BldgType, prefix='BldgType').head()"
      ]
    },
    {
      "cell_type": "code",
      "execution_count": null,
      "metadata": {
        "_cell_guid": "8d4eaed4-8e26-91f0-4353-c7fa12610000"
      },
      "outputs": [],
      "source": [
        "training_binarized_df = pd.get_dummies(traindf).set_index('Id')"
      ]
    },
    {
      "cell_type": "code",
      "execution_count": null,
      "metadata": {
        "_cell_guid": "28cad16a-3bbf-a456-10cf-b722709d128b"
      },
      "outputs": [],
      "source": [
        "training_binarized_df.corr()['SalePrice'].sort_values(ascending=False)"
      ]
    },
    {
      "cell_type": "code",
      "execution_count": null,
      "metadata": {
        "_cell_guid": "e522b81d-708d-d0e5-b22e-28bbd408a95f"
      },
      "outputs": [],
      "source": [
        "#import sklearn\n",
        "#print('The scikit-learn version is {}.'.format(sklearn.__version__))\n",
        "\n",
        "from sklearn.model_selection import cross_val_score\n",
        "benchmark_scores = cross_val_score(clf, X_train, y_train, cv=5)\n"
      ]
    },
    {
      "cell_type": "code",
      "execution_count": null,
      "metadata": {
        "_cell_guid": "cb8e65bd-b822-1d2b-ad57-8389b060073a"
      },
      "outputs": [],
      "source": [
        "scores"
      ]
    },
    {
      "cell_type": "code",
      "execution_count": null,
      "metadata": {
        "_cell_guid": "7e41a819-d398-ec89-1f25-c4684a0675e0"
      },
      "outputs": [],
      "source": [
        "# Create a dataframe with the row ID and price predictions\n",
        "yhatdf = pd.DataFrame(data={'Id':testdf.Id, 'SalePrice': yhat})"
      ]
    },
    {
      "cell_type": "code",
      "execution_count": null,
      "metadata": {
        "_cell_guid": "a37bb32a-2ab4-5bed-bd85-de03f2025ae2"
      },
      "outputs": [],
      "source": [
        "# Write to CSV file\n",
        "filename = 'benchmark.csv'\n",
        "yhatdf.to_csv(filename,index=False)\n"
      ]
    },
    {
      "cell_type": "code",
      "execution_count": null,
      "metadata": {
        "_cell_guid": "a3b8f299-c000-7f00-4d07-1aaa53ea0190"
      },
      "outputs": [],
      "source": [
        "print(check_output([\"ls\", \".\"]).decode(\"utf8\"))"
      ]
    },
    {
      "cell_type": "code",
      "execution_count": null,
      "metadata": {
        "_cell_guid": "1a453236-4b4a-1e67-c1c6-de6154fa0138"
      },
      "outputs": [],
      "source": [
        "print(check_output([\"more\", \"./benchmark.csv\"]).decode(\"utf8\"))"
      ]
    },
    {
      "cell_type": "code",
      "execution_count": null,
      "metadata": {
        "_cell_guid": "80508536-8b89-547f-3396-70481823a97d"
      },
      "outputs": [],
      "source": [
        ""
      ]
    }
  ],
  "metadata": {
    "_change_revision": 0,
    "_is_fork": false,
    "kernelspec": {
      "display_name": "Python 3",
      "language": "python",
      "name": "python3"
    },
    "language_info": {
      "codemirror_mode": {
        "name": "ipython",
        "version": 3
      },
      "file_extension": ".py",
      "mimetype": "text/x-python",
      "name": "python",
      "nbconvert_exporter": "python",
      "pygments_lexer": "ipython3",
      "version": "3.5.2"
    }
  },
  "nbformat": 4,
  "nbformat_minor": 0
}