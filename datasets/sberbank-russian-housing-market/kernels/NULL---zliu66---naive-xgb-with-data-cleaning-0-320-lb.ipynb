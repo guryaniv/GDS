{
  "cells": [
    {
      "cell_type": "code",
      "execution_count": null,
      "metadata": {
        "_cell_guid": "54cdf7ea-acd8-9559-306a-8b524244a846"
      },
      "outputs": [],
      "source": [
        "import numpy as np\n",
        "import pandas as pd\n",
        "import xgboost as xgb\n",
        "import matplotlib.pyplot as plt\n",
        "from sklearn import metrics\n",
        "from sklearn.model_selection import GridSearchCV\n",
        "import seaborn as sns"
      ]
    },
    {
      "cell_type": "code",
      "execution_count": null,
      "metadata": {
        "_cell_guid": "cabaa672-6c25-cd7a-6bdb-07b371a8c51e"
      },
      "outputs": [],
      "source": [
        "# Deal with Multicollinearity class\n",
        "# From here: https://www.kaggle.com/ffisegydd/sklearn-multicollinearity-class\n",
        "# From here: https://www.kaggle.com/robertoruiz/sberbank-russian-housing-market/dealing-with-multicollinearity/notebook\n",
        "\n",
        "realty_drop_cols = ['cafe_count_5000_price_2500', 'cafe_count_5000_price_1500', 'church_count_5000',\n",
        "                    'cafe_count_5000_price_4000', 'leisure_count_5000', 'sport_count_5000', 'big_church_count_5000']\n",
        "macro_cols = ['balance_trade', 'balance_trade_growth', 'eurrub', 'average_provision_of_build_contract', \n",
        "'micex_rgbi_tr', 'micex_cbi_tr', 'deposits_rate', 'mortgage_value', 'mortgage_rate',\n",
        "'income_per_cap', 'rent_price_4+room_bus', 'museum_visitis_per_100_cap', 'apartment_build']"
      ]
    },
    {
      "cell_type": "code",
      "execution_count": null,
      "metadata": {
        "_cell_guid": "19839fcc-6bc5-728d-cc66-99ab90566482"
      },
      "outputs": [],
      "source": [
        "df_train = pd.read_csv('../input/train.csv', parse_dates=['timestamp'])\n",
        "df_test = pd.read_csv('../input/test.csv', parse_dates=['timestamp'])\n",
        "df_macro = pd.read_csv('../input/macro.csv', parse_dates=['timestamp'], usecols=['timestamp'] + macro_cols)"
      ]
    },
    {
      "cell_type": "code",
      "execution_count": null,
      "metadata": {
        "_cell_guid": "f89aab48-0237-b6b3-015c-605dc2e0df2f"
      },
      "outputs": [],
      "source": [
        "# drop some data with irregular price\n",
        "price_ulimit = 1E8\n",
        "price_sq_llimit = 40000\n",
        "df_train =  df_train.loc[df_train['price_doc'] < price_ulimit] \n",
        "# df_train =  df_train.loc[df_train['price_doc'] / df_train['full_sq']  > price_sq_llimit] \n",
        "# df_train.head()\n",
        "# ax = df_train['price_doc'].hist(bins=50)"
      ]
    },
    {
      "cell_type": "code",
      "execution_count": null,
      "metadata": {
        "_cell_guid": "3f0f4117-b7cd-87d0-51db-89757d906ffc"
      },
      "outputs": [],
      "source": [
        "# Build df_all = (df_train+df_test).join(df_macro)\n",
        "num_train = len(df_train)\n",
        "df_all = pd.concat([df_train, df_test])\n",
        "df_all = pd.merge_ordered(df_all, df_macro, on='timestamp', how='left')\n",
        "df_all.drop(realty_drop_cols, axis=1, inplace=True)\n",
        "# print(df_all.shape)"
      ]
    },
    {
      "cell_type": "code",
      "execution_count": null,
      "metadata": {
        "_cell_guid": "3bf6bd02-740b-6e25-d9e8-ce7804d0a3dc"
      },
      "outputs": [],
      "source": [
        "full_sq_ulimit = 250\n",
        "life_sq_ulimit = 250\n",
        "full_sq_llimit = 10\n",
        "life_sq_llimit = 5\n",
        "df_all.loc[df_all['full_sq']>full_sq_ulimit, 'full_sq'] = np.nan\n",
        "df_all.loc[df_all['full_sq']<full_sq_llimit, 'full_sq'] = np.nan\n",
        "df_all.loc[df_all['life_sq']>life_sq_ulimit, 'life_sq'] = np.nan\n",
        "df_all.loc[df_all['life_sq']<life_sq_llimit, 'life_sq'] = np.nan\n",
        "\n",
        "df_all['life_full_ratio'] = df_all['life_sq'] / df_all['full_sq']\n",
        "\n",
        "df_all.loc[df_all['life_full_ratio'] > 0.85, 'life_sq'] = np.nan\n",
        "\n",
        "df_all.loc[df_all['floor'] == 0, 'floor'] = np.nan\n",
        "df_all.loc[df_all['max_floor'] == 0, 'max_floor'] = np.nan\n",
        "df_all.loc[df_all['max_floor'] < df_all['floor'], ['floor', 'max_floor']] = np.nan\n",
        "df_all['floor_ratio'] = df_all['floor'] / df_all['max_floor']\n",
        "\n",
        "df_all.loc[df_all['build_year'] > 2017, 'build_year'] = np.nan\n",
        "df_all.loc[df_all['build_year'] < 1900, 'build_year'] = np.nan\n",
        "\n",
        "\n",
        "df_all.loc[df_all['num_room'] == 0, 'num_room'] = np.nan\n",
        "df_all.loc[df_all['num_room'] >= 10, 'num_room'] = np.nan\n",
        "\n",
        "df_all.loc[df_all['kitch_sq'] <= 3.0 , 'kitch_sq'] = np.nan\n",
        "df_all.loc[df_all['full_sq'] - df_all['kitch_sq'] <= 5.0 , 'kitch_sq'] = np.nan\n",
        "\n",
        "df_all.loc[df_all['state'] == 33 , 'state'] = 3"
      ]
    },
    {
      "cell_type": "code",
      "execution_count": null,
      "metadata": {
        "_cell_guid": "c8903211-eada-3f03-76a4-b27b7d563c8f"
      },
      "outputs": [],
      "source": [
        "# Add month-year\n",
        "month_year = (df_all.timestamp.dt.month + df_all.timestamp.dt.year * 100)\n",
        "month_year_cnt_map = month_year.value_counts().to_dict()\n",
        "df_all['month_year_cnt'] = month_year.map(month_year_cnt_map)\n",
        "\n",
        "# Add week-year count\n",
        "week_year = (df_all.timestamp.dt.weekofyear + df_all.timestamp.dt.year * 100)\n",
        "week_year_cnt_map = week_year.value_counts().to_dict()\n",
        "df_all['week_year_cnt'] = week_year.map(week_year_cnt_map)\n",
        "\n",
        "# Add month and day-of-week\n",
        "df_all['month'] = df_all.timestamp.dt.month\n",
        "df_all['dow'] = df_all.timestamp.dt.dayofweek\n",
        "\n",
        "# Other feature engineering\n",
        "df_all['rel_floor'] = df_all['floor'] / df_all['max_floor'].astype(float)\n",
        "df_all['rel_kitch_sq'] = df_all['kitch_sq'] / df_all['full_sq'].astype(float)\n"
      ]
    },
    {
      "cell_type": "code",
      "execution_count": null,
      "metadata": {
        "_cell_guid": "77e9e5a4-57db-df83-20c7-5c15a2f1fb36"
      },
      "outputs": [],
      "source": [
        "# Please check https://www.kaggle.com/c/sberbank-russian-housing-market/discussion/32717\n",
        "# There is difference between The CV - LB score, \n",
        "# Trick is simple - undersample specific Investment type rows in train set - \n",
        "# there has been steep decline of <=1M Investment purchases in last months; \n",
        "# Below is some working code how to do it - {10, 3, 2} are hand picked and can be tuned.\n",
        "\n",
        "\n",
        "df_train = df_all.iloc[:num_train, :]\n",
        "df_test = df_all.iloc[num_train:,:]\n",
        "\n",
        "print('Before under sampling, df_train shape is', df_train.shape)\n",
        "print('Before under sampling, df_test shape is', df_test.shape)\n",
        "\n",
        "df_sub = df_train[df_train.timestamp < '2015-01-01']\n",
        "df_sub = df_sub[df_sub.product_type.values == 'Investment']\n",
        "\n",
        "ind_1m = df_sub[df_sub.price_doc <= 1000000].index\n",
        "ind_2m = df_sub[df_sub.price_doc == 2000000].index\n",
        "ind_3m = df_sub[df_sub.price_doc == 3000000].index\n",
        "\n",
        "train_index = set(df_train.index.copy())\n",
        "\n",
        "for ind, gap in zip([ind_1m, ind_2m, ind_3m], [10, 3, 2]):\n",
        "    ind_set = set(ind)\n",
        "    ind_set_cut = ind.difference(set(ind[::gap]))\n",
        "\n",
        "    train_index = train_index.difference(ind_set_cut)\n",
        "\n",
        "df_train = df_train.loc[train_index, :]\n",
        "\n",
        "print('After under sampling, df_train shape is', df_train.shape)\n",
        "print('After under sampling, df_test shape is', df_test.shape)"
      ]
    },
    {
      "cell_type": "code",
      "execution_count": null,
      "metadata": {
        "_cell_guid": "fda97ec4-3fc6-4b75-c964-a13c3477714c"
      },
      "outputs": [],
      "source": [
        "# Deal with categorical values\n",
        "df_all = pd.concat([df_train, df_test])\n",
        "\n",
        "df_numeric = df_all.select_dtypes(exclude=['object'])\n",
        "df_obj = df_all.select_dtypes(include=['object']).copy()\n",
        "\n",
        "for c in df_obj:\n",
        "    df_obj[c] = pd.factorize(df_obj[c])[0]\n",
        "\n",
        "df_all = pd.concat([df_numeric, df_obj], axis=1)\n",
        "num_train = len(df_train)\n",
        "df_train_fac = df_all.iloc[:num_train, :]\n",
        "df_test_fac = df_all.iloc[num_train:,:]\n",
        "\n",
        "print('df_train_fac shape is', df_train_fac.shape)\n",
        "print('df_test_fac shape is', df_test_fac.shape)"
      ]
    },
    {
      "cell_type": "code",
      "execution_count": null,
      "metadata": {
        "_cell_guid": "a4154547-3da8-d64d-d6a1-b92218e31357"
      },
      "outputs": [],
      "source": [
        "# ylog will be log(1+y), as suggested by https://github.com/dmlc/xgboost/issues/446#issuecomment-135555130\n",
        "ylog_train_all = np.log1p(df_train_fac['price_doc'].values)\n",
        "id_test = df_test_fac['id']\n",
        "id_train = df_train_fac['id']\n",
        "\n",
        "df_train_fac.drop(['id', 'price_doc', 'timestamp'], axis=1, inplace=True)\n",
        "df_test_fac.drop(['id', 'price_doc', 'timestamp'], axis=1, inplace=True)\n",
        "\n",
        "# Remove timestamp column (may overfit the model in train)\n",
        "df_all.drop(['id', 'price_doc', 'timestamp'], axis=1, inplace=True)\n",
        "\n",
        "print('df_train_fac shape is', df_train_fac.shape)\n",
        "print('df_test_fac shape is', df_test_fac.shape)\n",
        "print('ylog_train_all shape is', ylog_train_all.shape)\n",
        "print('df_all shape is', df_all.shape)"
      ]
    },
    {
      "cell_type": "code",
      "execution_count": null,
      "metadata": {
        "_cell_guid": "87b1e56f-edbf-6160-e7b7-bba344251dd5"
      },
      "outputs": [],
      "source": [
        "# Convert to numpy values\n",
        "# X_all = df_all.values\n",
        "# print(X_all.shape)\n",
        "\n",
        "# Create a validation set, with last 20% of data\n",
        "num_train = len(df_train_fac)\n",
        "num_val = int(num_train * 0.2)\n",
        "\n",
        "X_train_all = df_train_fac.values\n",
        "X_train = X_train_all[:num_train-num_val]\n",
        "X_val = X_train_all[num_train-num_val:num_train]\n",
        "ylog_train = ylog_train_all[:-num_val]\n",
        "ylog_val = ylog_train_all[-num_val:]\n",
        "\n",
        "X_test = df_test_fac.values\n",
        "\n",
        "df_columns = df_all.columns\n",
        "\n",
        "print('X_train_all shape is', X_train_all.shape)\n",
        "print('ylog_train_all shape is', ylog_train_all.shape)\n",
        "print('X_train shape is', X_train.shape)\n",
        "print('y_train shape is', ylog_train.shape)\n",
        "print('X_val shape is', X_val.shape)\n",
        "print('y_val shape is', ylog_val.shape)\n",
        "print('X_test shape is', X_test.shape)"
      ]
    },
    {
      "cell_type": "code",
      "execution_count": null,
      "metadata": {
        "_cell_guid": "bd4768ca-2460-b177-2052-970e0a8fca18"
      },
      "outputs": [],
      "source": [
        "dtrain_all = xgb.DMatrix(X_train_all, ylog_train_all, feature_names=df_columns)\n",
        "dtrain = xgb.DMatrix(X_train, ylog_train, feature_names=df_columns)\n",
        "dval = xgb.DMatrix(X_val, ylog_val, feature_names=df_columns)\n",
        "dtest = xgb.DMatrix(X_test, feature_names=df_columns)"
      ]
    },
    {
      "cell_type": "code",
      "execution_count": null,
      "metadata": {
        "_cell_guid": "6872c7dc-4d67-db45-517d-d6039dc3ca21"
      },
      "outputs": [],
      "source": [
        "xgb_params = {\n",
        "    'eta': 0.05,\n",
        "    'max_depth': 3,\n",
        "    'subsample': 0.7,\n",
        "    'colsample_bytree': 0.7,\n",
        "    'objective': 'reg:linear',\n",
        "    'eval_metric': 'rmse',\n",
        "    'silent': 1,\n",
        "    'min_child_weight': 3,\n",
        "    'gamma': 0.3\n",
        "}\n",
        "\n",
        "# # Uncomment to tune XGB `num_boost_rounds`\n",
        "# partial_model = xgb.train(xgb_params, dtrain, num_boost_round=1000, evals=[(dval, 'val')],\n",
        "#                        early_stopping_rounds=20, verbose_eval=20)\n",
        "\n",
        "# num_boost_round = partial_model.best_iteration"
      ]
    },
    {
      "cell_type": "code",
      "execution_count": null,
      "metadata": {
        "_cell_guid": "e99c3b77-3751-cb4b-4307-a7f6731dabb7"
      },
      "outputs": [],
      "source": [
        "# Uncomment to tune XGB `num_boost_rounds`\n",
        "\n",
        "cv_result = xgb.cv(xgb_params, dtrain, num_boost_round=1000, early_stopping_rounds=20,\n",
        "   verbose_eval=20, show_stdv=True)\n",
        "cv_result[['train-rmse-mean', 'test-rmse-mean']].plot()\n",
        "num_boost_rounds = len(cv_result)\n",
        "\n",
        "model = xgb.train(xgb_params, dtrain_all, num_boost_round=num_boost_rounds, verbose_eval=20)\n",
        "\n",
        "ylog_pred = model.predict(dtest)\n",
        "y_pred = np.exp(ylog_pred) - 1\n",
        "\n",
        "df_sub = pd.DataFrame({'id': id_test, 'price_doc': y_pred})\n",
        "\n",
        "df_sub.to_csv('Predict_xgb.csv', index=False)\n",
        "plt.show()"
      ]
    },
    {
      "cell_type": "code",
      "execution_count": null,
      "metadata": {
        "_cell_guid": "b4d3efb7-0ed8-be65-7a25-5db4e9d0b7d9"
      },
      "outputs": [],
      "source": [
        "# diviation exploration\n",
        "\n",
        "predict_y = model.predict(dtrain_all)\n",
        "plt.scatter(ylog_train_all, predict_y)\n",
        "plt.plot([13, 19], [13, 19])\n",
        "plt.show()"
      ]
    },
    {
      "cell_type": "code",
      "execution_count": null,
      "metadata": {
        "_cell_guid": "ce990fcf-4cb5-411a-724a-2a01b9de711a"
      },
      "outputs": [],
      "source": [
        "dev = predict_y - ylog_train_all\n",
        "df_train['price_sq'] = df_train['price_doc'] / df_train['full_sq']\n",
        "large_dev_index = np.abs(dev) > 0.5\n",
        "train_large_dev = df_train[large_dev_index]\n",
        "large_dev = dev[large_dev_index]"
      ]
    },
    {
      "cell_type": "code",
      "execution_count": null,
      "metadata": {
        "_cell_guid": "12794e71-14f3-457d-7b50-754cd1e2e5b1"
      },
      "outputs": [],
      "source": [
        "plt.scatter(df_train.loc[df_train['product_type'] == 'Investment', 'price_sq'], \n",
        "            dev[df_train['product_type'] == 'Investment'], \n",
        "            color = 'r', marker  = 'o', label = 'Investment')\n",
        "plt.scatter(df_train.loc[df_train['product_type'] == 'OwnerOccupier', 'price_sq'], \n",
        "            dev[df_train['product_type'] == 'OwnerOccupier'], \n",
        "            color = 'b', marker = 's', label = 'OwnerOccupier')\n",
        "plt.legend()\n",
        "plt.xlim((0, 600000))\n",
        "plt.xlabel('Price per square meter')\n",
        "plt.ylabel('Prediction - ground truth (log1p)')\n",
        "plt.show()"
      ]
    },
    {
      "cell_type": "code",
      "execution_count": null,
      "metadata": {
        "_cell_guid": "1f506cd2-34a1-a533-fbae-cf3db6e2e9b7"
      },
      "outputs": [],
      "source": [
        "plt.scatter(df_train.loc[df_train['product_type'] == 'Investment', 'price_doc'], \n",
        "            dev[df_train['product_type'] == 'Investment'], \n",
        "            color = 'r', marker  = 'o', label = 'Investment')\n",
        "plt.scatter(df_train.loc[df_train['product_type'] == 'OwnerOccupier', 'price_doc'], \n",
        "            dev[df_train['product_type'] == 'OwnerOccupier'], \n",
        "            color = 'b', marker = 's', label = 'OwnerOccupier')\n",
        "plt.legend()\n",
        "plt.xlim((0, 1E8))\n",
        "plt.xlabel('Price')\n",
        "plt.ylabel('Prediction - ground truth (log1p)')\n",
        "plt.show()"
      ]
    },
    {
      "cell_type": "code",
      "execution_count": null,
      "metadata": {
        "_cell_guid": "9eb1ecf0-f1dc-1b5e-5790-3010ecf02d44"
      },
      "outputs": [],
      "source": ""
    },
    {
      "cell_type": "code",
      "execution_count": null,
      "metadata": {
        "_cell_guid": "ad19f4cd-0958-9e41-c590-24944386d884"
      },
      "outputs": [],
      "source": ""
    },
    {
      "cell_type": "code",
      "execution_count": null,
      "metadata": {
        "_cell_guid": "888339de-7ff3-ef55-4e12-2b2aef0406e8"
      },
      "outputs": [],
      "source": ""
    },
    {
      "cell_type": "code",
      "execution_count": null,
      "metadata": {
        "_cell_guid": "6f6d8014-be13-d725-d0a6-3b8aae6dc9c1"
      },
      "outputs": [],
      "source": ""
    },
    {
      "cell_type": "code",
      "execution_count": null,
      "metadata": {
        "_cell_guid": "28483218-76bb-d9e4-bfa1-f98f69000a2e"
      },
      "outputs": [],
      "source": ""
    },
    {
      "cell_type": "code",
      "execution_count": null,
      "metadata": {
        "_cell_guid": "4062a462-8da6-dc6f-3450-40d740a9ae7d",
        "collapsed": true
      },
      "outputs": [],
      "source": ""
    },
    {
      "cell_type": "code",
      "execution_count": null,
      "metadata": {
        "_cell_guid": "9b177853-49a9-2f3c-fd54-042549a0f6d8"
      },
      "outputs": [],
      "source": ""
    },
    {
      "cell_type": "code",
      "execution_count": null,
      "metadata": {
        "_cell_guid": "523aa1bd-fad6-303c-1486-52c78dfa6b96"
      },
      "outputs": [],
      "source": ""
    },
    {
      "cell_type": "code",
      "execution_count": null,
      "metadata": {
        "_cell_guid": "b82ae41d-f18a-6c51-bbd1-07edb4abc054",
        "collapsed": true
      },
      "outputs": [],
      "source": ""
    },
    {
      "cell_type": "code",
      "execution_count": null,
      "metadata": {
        "_cell_guid": "c8b029b4-05e9-1edc-8430-fb1f41388261"
      },
      "outputs": [],
      "source": ""
    },
    {
      "cell_type": "code",
      "execution_count": null,
      "metadata": {
        "_cell_guid": "13a9f213-a4fe-f129-a213-cef1f7fe1f1d"
      },
      "outputs": [],
      "source": ""
    },
    {
      "cell_type": "code",
      "execution_count": null,
      "metadata": {
        "_cell_guid": "32a3b1c6-c9c4-3158-6dd4-9709809d8300"
      },
      "outputs": [],
      "source": ""
    },
    {
      "cell_type": "code",
      "execution_count": null,
      "metadata": {
        "_cell_guid": "a8fd357a-eda8-1c2e-f4a7-d093d29112cd"
      },
      "outputs": [],
      "source": ""
    },
    {
      "cell_type": "code",
      "execution_count": null,
      "metadata": {
        "_cell_guid": "f222ee68-8af4-d8ec-bab0-bf4ac8f1c832"
      },
      "outputs": [],
      "source": ""
    },
    {
      "cell_type": "code",
      "execution_count": null,
      "metadata": {
        "_cell_guid": "ee7fcefa-1f7b-38a1-bf02-f6c35b28d5da"
      },
      "outputs": [],
      "source": ""
    },
    {
      "cell_type": "code",
      "execution_count": null,
      "metadata": {
        "_cell_guid": "ecc04854-4f49-896c-25a4-bc42dd6a39ca"
      },
      "outputs": [],
      "source": ""
    },
    {
      "cell_type": "code",
      "execution_count": null,
      "metadata": {
        "_cell_guid": "43718942-f4c1-9333-b5a4-be64f47f2f98",
        "collapsed": true
      },
      "outputs": [],
      "source": ""
    },
    {
      "cell_type": "code",
      "execution_count": null,
      "metadata": {
        "_cell_guid": "c1f39831-2d69-7642-d625-c99d24174027"
      },
      "outputs": [],
      "source": ""
    },
    {
      "cell_type": "code",
      "execution_count": null,
      "metadata": {
        "_cell_guid": "72839c77-e329-acb6-56a6-172e599baa82",
        "collapsed": true
      },
      "outputs": [],
      "source": ""
    },
    {
      "cell_type": "code",
      "execution_count": null,
      "metadata": {
        "_cell_guid": "33b97e9c-b651-c4fe-9cdb-6073530559e2",
        "collapsed": true
      },
      "outputs": [],
      "source": ""
    }
  ],
  "metadata": {
    "_change_revision": 0,
    "_is_fork": false,
    "kernelspec": {
      "display_name": "Python 3",
      "language": "python",
      "name": "python3"
    },
    "language_info": {
      "codemirror_mode": {
        "name": "ipython",
        "version": 3
      },
      "file_extension": ".py",
      "mimetype": "text/x-python",
      "name": "python",
      "nbconvert_exporter": "python",
      "pygments_lexer": "ipython3",
      "version": "3.6.0"
    }
  },
  "nbformat": 4,
  "nbformat_minor": 0
}