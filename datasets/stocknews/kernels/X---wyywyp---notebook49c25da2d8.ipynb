{
  "cells": [
    {
      "cell_type": "code",
      "execution_count": null,
      "metadata": {
        "_cell_guid": "6f243631-0515-93d5-1175-764480613348"
      },
      "outputs": [],
      "source": [
        "# This Python 3 environment comes with many helpful analytics libraries installed\n",
        "# It is defined by the kaggle/python docker image: https://github.com/kaggle/docker-python\n",
        "# For example, here's several helpful packages to load in \n",
        "\n",
        "import numpy as np # linear algebra\n",
        "import pandas as pd # data processing, CSV file I/O (e.g. pd.read_csv)\n",
        "import mxnet as  mx\n",
        "# Input data files are available in the \"../input/\" directory.\n",
        "# For example, running this (by clicking run or pressing Shift+Enter) will list the files in the input directory\n",
        "\n",
        "from subprocess import check_output\n",
        "print(check_output([\"ls\", \"../input\"]).decode(\"utf8\"))\n",
        "\n",
        "# Any results you write to the current directory are saved as output.\n",
        "\n",
        "import logging\n",
        "logging.basicConfig(level=logging.DEBUG)"
      ]
    },
    {
      "cell_type": "code",
      "execution_count": null,
      "metadata": {
        "_cell_guid": "0b013158-b6af-fe6c-e329-59c0cb635d27"
      },
      "outputs": [],
      "source": [
        "data=pd.read_csv('../input/DJIA_table.csv')"
      ]
    },
    {
      "cell_type": "code",
      "execution_count": null,
      "metadata": {
        "_cell_guid": "2143a8e6-a381-d8c9-334b-8c110d8dc4ff"
      },
      "outputs": [],
      "source": [
        "def judge_label(x):\n",
        "    if x >0.01:\n",
        "        return 1\n",
        "    else:\n",
        "        return 0"
      ]
    },
    {
      "cell_type": "code",
      "execution_count": null,
      "metadata": {
        "_cell_guid": "880bd9d0-ef71-654f-991b-5c0a63018f16"
      },
      "outputs": [],
      "source": [
        "data['Date']=pd.to_datetime(data['Date'])\n",
        "data['Close_l1']=data['Close'].shift(-1)\n",
        "data['High_l1']=data['High'].shift(-1)\n",
        "data['Low_l1']=data['Low'].shift(-1)\n",
        "data['trend_Close']=np.log(data['Close']/data['Close_l1'])\n",
        "data['trend_Low']=np.log(data['Low']/data['Low_l1'])\n",
        "data['trend_High']=np.log(data['High']/data['High_l1'])\n",
        "data['label']=data['trend_Close'].shift(1)\n",
        "\n",
        "data['label']=data['label'].apply(judge_label)"
      ]
    },
    {
      "cell_type": "code",
      "execution_count": null,
      "metadata": {
        "_cell_guid": "3ccaec02-977c-02c9-15a1-71e42786ddb0"
      },
      "outputs": [],
      "source": [
        "name_list=[]\n",
        "for k in range(20):\n",
        "    for c in ['trend_Close','trend_Low','trend_High']:\n",
        "        name=c+'_l'+str(int(k))\n",
        "        name_list.append(name)\n",
        "        data[name]=data[c].shift(k)"
      ]
    },
    {
      "cell_type": "code",
      "execution_count": null,
      "metadata": {
        "_cell_guid": "b860034f-e564-8816-e5cd-edf81197f021"
      },
      "outputs": [],
      "source": [
        "X=data[19:-2][name_list].values\n",
        "y=data[19:-2]['label'].values"
      ]
    },
    {
      "cell_type": "code",
      "execution_count": null,
      "metadata": {
        "_cell_guid": "11fe82d2-f703-3cac-1602-9bab9cce32fb"
      },
      "outputs": [],
      "source": [
        "from sklearn.cross_validation import train_test_split"
      ]
    },
    {
      "cell_type": "code",
      "execution_count": null,
      "metadata": {
        "_cell_guid": "e7cfe97b-8bc5-f74a-1281-0ebc29641137"
      },
      "outputs": [],
      "source": [
        "y.shape"
      ]
    },
    {
      "cell_type": "code",
      "execution_count": null,
      "metadata": {
        "_cell_guid": "2a338f87-8a17-0684-be04-9d8be9690a24"
      },
      "outputs": [],
      "source": [
        "X_train, X_test, y_train, y_test = train_test_split(nX,y)"
      ]
    },
    {
      "cell_type": "code",
      "execution_count": null,
      "metadata": {
        "_cell_guid": "8e1dbc51-2b64-6496-0b2c-f9d8750f45c7"
      },
      "outputs": [],
      "source": [
        "train_set=mx.io.NDArrayIter(data=nX,label=y,batch_size=30)"
      ]
    },
    {
      "cell_type": "code",
      "execution_count": null,
      "metadata": {
        "_cell_guid": "db967555-4885-49f6-734b-fb450c0c20b9"
      },
      "outputs": [],
      "source": [
        "nX=X.reshape([len(X),3,20,1])"
      ]
    },
    {
      "cell_type": "code",
      "execution_count": null,
      "metadata": {
        "_cell_guid": "96346a88-cf51-be2f-433f-23bcf7e14a53"
      },
      "outputs": [],
      "source": [
        "data=mx.symbol.Variable('data')\n",
        "label=mx.symbol.Variable('label')\n",
        "c1=mx.symbol.Convolution(data=data,kernel=(3,1),num_filter=16)\n",
        "a1=mx.symbol.Activation(data=c1,act_type='relu')\n",
        "f2=mx.symbol.Flatten(data=a1)\n",
        "f3=mx.symbol.FullyConnected(data=f2,num_hidden=32)\n",
        "model=mx.symbol.LogisticRegressionOutput(data=f3,label=label)\n"
      ]
    },
    {
      "cell_type": "code",
      "execution_count": null,
      "metadata": {
        "_cell_guid": "19813105-657a-e4bf-74a3-6801b0c843e2"
      },
      "outputs": [],
      "source": [
        "MODEL=mx.model.FeedForward(model,num_epoch=20,learning_rate=0.01)"
      ]
    },
    {
      "cell_type": "code",
      "execution_count": null,
      "metadata": {
        "_cell_guid": "f0341be9-f9fa-2f97-1f0c-0457670fe8b0"
      },
      "outputs": [],
      "source": [
        "help(MODEL.fit(X=nX,batch_end_callback=Speedometer(batch_size,30)))"
      ]
    },
    {
      "cell_type": "code",
      "execution_count": null,
      "metadata": {
        "_cell_guid": "da66e23d-c8b1-cab8-c4b0-d5d330299947"
      },
      "outputs": [],
      "source": [
        "help(mx.model.FeedForward)"
      ]
    }
  ],
  "metadata": {
    "_change_revision": 0,
    "_is_fork": false,
    "kernelspec": {
      "display_name": "Python 3",
      "language": "python",
      "name": "python3"
    },
    "language_info": {
      "codemirror_mode": {
        "name": "ipython",
        "version": 3
      },
      "file_extension": ".py",
      "mimetype": "text/x-python",
      "name": "python",
      "nbconvert_exporter": "python",
      "pygments_lexer": "ipython3",
      "version": "3.5.2"
    }
  },
  "nbformat": 4,
  "nbformat_minor": 0
}