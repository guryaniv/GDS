{
  "cells": [
    {
      "cell_type": "code",
      "execution_count": null,
      "metadata": {
        "_cell_guid": "7bf265c6-ad76-ab28-ab13-1fee2a8cc939"
      },
      "outputs": [],
      "source": [
        "# This Python 3 environment comes with many helpful analytics libraries installed\n",
        "# It is defined by the kaggle/python docker image: https://github.com/kaggle/docker-python\n",
        "# For example, here's several helpful packages to load in \n",
        "\n",
        "import numpy as np # linear algebra\n",
        "import pandas as pd # data processing, CSV file I/O (e.g. pd.read_csv)\n",
        "import seaborn as sns\n",
        "import matplotlib.pyplot as plt\n",
        "\n",
        "\n",
        "# Input data files are available in the \"../input/\" directory.\n",
        "# For example, running this (by clicking run or pressing Shift+Enter) will list the files in the input directory\n",
        "\n",
        "from subprocess import check_output\n",
        "print(check_output([\"ls\", \"../input\"]).decode(\"utf8\"))\n",
        "\n",
        "# Any results you write to the current directory are saved as output."
      ]
    },
    {
      "cell_type": "code",
      "execution_count": null,
      "metadata": {
        "_cell_guid": "537c89b8-8f8c-a143-463e-9d32c4a61c70"
      },
      "outputs": [],
      "source": [
        "train_df = pd.read_csv('../input/train.csv')\n",
        "test_df = pd.read_csv('../input/test.csv')\n"
      ]
    },
    {
      "cell_type": "code",
      "execution_count": null,
      "metadata": {
        "_cell_guid": "f969861c-257e-153e-0fc2-5692d6d10cfe"
      },
      "outputs": [],
      "source": [
        "train_df.columns"
      ]
    },
    {
      "cell_type": "code",
      "execution_count": null,
      "metadata": {
        "_cell_guid": "5b21b66d-46c5-e4c6-be4a-dec7c4e1cfb8"
      },
      "outputs": [],
      "source": [
        "train_df.info()"
      ]
    },
    {
      "cell_type": "code",
      "execution_count": null,
      "metadata": {
        "_cell_guid": "287a2816-0ed2-b219-d385-ed388487a0c4"
      },
      "outputs": [],
      "source": [
        "train_df.head(10)"
      ]
    },
    {
      "cell_type": "code",
      "execution_count": null,
      "metadata": {
        "_cell_guid": "b2c44444-f826-e8eb-a5fe-80f6c3306398"
      },
      "outputs": [],
      "source": [
        "sns.distplot(train_df['y'])"
      ]
    },
    {
      "cell_type": "code",
      "execution_count": null,
      "metadata": {
        "_cell_guid": "9f2d0b1c-1d2a-6103-28e3-487a718efadb"
      },
      "outputs": [],
      "source": [
        "cat_df = pd.DataFrame([[]])\n",
        "cat_df = pd.concat([cat_df, train_df['y']], axis=1)\n",
        "for i in train_df:\n",
        "    if train_df[i].dtype == 'object':\n",
        "        cat_df = pd.concat([cat_df, train_df[i]], axis=1)\n",
        "        \n",
        "cat_df = cat_df.sort(['y'], ascending=False)\n",
        "cat_df.head(5)"
      ]
    },
    {
      "cell_type": "code",
      "execution_count": null,
      "metadata": {
        "_cell_guid": "c8b7b0e9-8907-9721-8544-13fe421bb991"
      },
      "outputs": [],
      "source": [
        "\n",
        "sns.barplot(y=cat_df['y'], x=cat_df['X0'], hue=cat_df['X3'])"
      ]
    },
    {
      "cell_type": "code",
      "execution_count": null,
      "metadata": {
        "_cell_guid": "2a2f2727-f7c9-531d-b1ec-0fe2c11bdb0f"
      },
      "outputs": [],
      "source": [
        "sns.barplot(y=train_df['y'], x=cat_df['X0'], hue=cat_df['X3'])"
      ]
    },
    {
      "cell_type": "code",
      "execution_count": null,
      "metadata": {
        "_cell_guid": "fb9e9c01-d2f9-8a9a-f174-f282052b1ec4"
      },
      "outputs": [],
      "source": [
        "mean_df = pd.DataFrame(train_df['X0'].unique(), columns=(['X0']))\n",
        "mean_num_df = list()\n",
        "for i in train_df['X0'].unique():\n",
        "    mean_num_df.append(train_df.loc[train_df['X0'] == i, 'y'].mean())\n",
        "    \n",
        "\n",
        "df3 = pd.DataFrame(mean_num_df, columns=(['y']))\n",
        "df3.head()\n",
        "mean_df.head()\n",
        "mean_df = pd.concat([mean_df, df3], axis=1)\n",
        "mean_df.head()"
      ]
    },
    {
      "cell_type": "code",
      "execution_count": null,
      "metadata": {
        "_cell_guid": "f0a796ee-080d-f995-7524-5e1c9de21901"
      },
      "outputs": [],
      "source": [
        "sns.barplot(y=mean_num_df, x=mean_df)"
      ]
    },
    {
      "cell_type": "code",
      "execution_count": null,
      "metadata": {
        "_cell_guid": "756d9df7-3237-13a5-5c3e-15f102190a54"
      },
      "outputs": [],
      "source": [
        "mean_df = mean_df.sort(['y'], ascending=False)\n",
        "mean_df.head()"
      ]
    },
    {
      "cell_type": "code",
      "execution_count": null,
      "metadata": {
        "_cell_guid": "04b1af47-b30c-e140-4ada-4d86276b1692"
      },
      "outputs": [],
      "source": [
        "sns.barplot(y='y', x='X0', data=mean_df)"
      ]
    },
    {
      "cell_type": "code",
      "execution_count": null,
      "metadata": {
        "_cell_guid": "022fbb16-2e02-d1bf-8145-05595f8bd8a6"
      },
      "outputs": [],
      "source": [
        "#Make a function for graphing all means of all categorical values by their unique value\n",
        "def do_cat_graph(df, cat):\n",
        "    mean_df = pd.DataFrame(df[cat].unique(), columns=([cat]))\n",
        "    mean_num_df = list()\n",
        "    for i in train_df[cat].unique():\n",
        "        mean_num_df.append(df.loc[df[cat] == i, 'y'].mean())\n",
        "    df3 = pd.DataFrame(mean_num_df, columns=(['y']))\n",
        "    mean_df = pd.concat([mean_df, df3], axis=1)\n",
        "    mean_df = mean_df.sort(['y'], ascending=False)\n",
        "    sns.barplot(y='y', x=cat, data=mean_df)"
      ]
    },
    {
      "cell_type": "code",
      "execution_count": null,
      "metadata": {
        "_cell_guid": "07fe0e3e-d2dd-bf87-1667-f382701a0ccb"
      },
      "outputs": [],
      "source": [
        "fir = 1\n",
        "for i in cat_df:\n",
        "    if fir:\n",
        "        fir=0\n",
        "    else:\n",
        "        do_cat_graph(cat_df, i)"
      ]
    },
    {
      "cell_type": "code",
      "execution_count": null,
      "metadata": {
        "_cell_guid": "b7087f35-9ccb-02a4-f69a-82b76645b79e"
      },
      "outputs": [],
      "source": [
        "do_cat_graph(cat_df, \"X4\")"
      ]
    }
  ],
  "metadata": {
    "_change_revision": 0,
    "_is_fork": false,
    "kernelspec": {
      "display_name": "Python 3",
      "language": "python",
      "name": "python3"
    },
    "language_info": {
      "codemirror_mode": {
        "name": "ipython",
        "version": 3
      },
      "file_extension": ".py",
      "mimetype": "text/x-python",
      "name": "python",
      "nbconvert_exporter": "python",
      "pygments_lexer": "ipython3",
      "version": "3.6.0"
    }
  },
  "nbformat": 4,
  "nbformat_minor": 0
}