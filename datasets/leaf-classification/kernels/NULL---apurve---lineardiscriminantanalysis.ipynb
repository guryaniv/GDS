{
  "cells": [
    {
      "cell_type": "code",
      "execution_count": null,
      "metadata": {
        "_cell_guid": "751ecc25-b94f-baee-84dd-7da15796728e"
      },
      "outputs": [],
      "source": [
        "import numpy as np\n",
        "import pandas as pd\n",
        "from sklearn.preprocessing import LabelEncoder\n",
        "from sklearn.cross_validation import StratifiedShuffleSplit\n",
        "\n",
        "train = pd.read_csv('../input/train.csv')\n",
        "test = pd.read_csv('../input/test.csv')"
      ]
    },
    {
      "cell_type": "code",
      "execution_count": null,
      "metadata": {
        "_cell_guid": "60a23a21-642d-20e8-922e-d9183d0d6541"
      },
      "outputs": [],
      "source": [
        "def encode(train, test):\n",
        "    le = LabelEncoder().fit(train.species) \n",
        "    labels = le.transform(train.species)           # encode species strings\n",
        "    classes = list(le.classes_)                    # save column names for submission\n",
        "    test_ids = test.id                             # save test ids for submission\n",
        "    \n",
        "    train = train.drop(['species', 'id'], axis=1)  \n",
        "    test = test.drop(['id'], axis=1)\n",
        "    \n",
        "    return train, labels, test, test_ids, classes\n",
        "\n",
        "train, labels, test, test_ids, classes = encode(train, test)"
      ]
    },
    {
      "cell_type": "code",
      "execution_count": null,
      "metadata": {
        "_cell_guid": "cfdbba05-4e0c-5a55-aeb3-10dcf4a7df79"
      },
      "outputs": [],
      "source": [
        "sss = StratifiedShuffleSplit(labels, 10, test_size=0.2, random_state=23)\n",
        "\n",
        "for train_index, test_index in sss:\n",
        "    X_train, X_test = train.values[train_index], train.values[test_index]\n",
        "    y_train, y_test = labels[train_index], labels[test_index]"
      ]
    },
    {
      "cell_type": "code",
      "execution_count": null,
      "metadata": {
        "_cell_guid": "235e0f15-43c5-6c4a-17a1-7d67055bea48"
      },
      "outputs": [],
      "source": [
        "from sklearn.metrics import accuracy_score, log_loss\n",
        "from sklearn.discriminant_analysis import LinearDiscriminantAnalysis\n",
        "\n",
        "clf = LinearDiscriminantAnalysis()\n",
        "clf.fit(X_train, y_train)\n",
        "    \n",
        "train_predictions = clf.predict(X_test)\n",
        "acc = accuracy_score(y_test, train_predictions)\n",
        "print(\"Accuracy: {:.4%}\".format(acc))\n",
        "    \n",
        "train_predictions = clf.predict_proba(X_test)\n",
        "ll = log_loss(y_test, train_predictions)\n",
        "print(\"Log Loss: {}\".format(ll))"
      ]
    },
    {
      "cell_type": "code",
      "execution_count": null,
      "metadata": {
        "_cell_guid": "58dcedd9-64d5-f794-99f0-dc62c4511cac"
      },
      "outputs": [],
      "source": [
        "test_predictions = clf.predict_proba(test)\n",
        "\n",
        "submission = pd.DataFrame(test_predictions, columns=classes)\n",
        "submission.insert(0, 'id', test_ids)\n",
        "#submission1.reset_index()\n",
        "submission.to_csv('submission.csv')\n",
        "submission.tail()"
      ]
    }
  ],
  "metadata": {
    "_change_revision": 0,
    "_is_fork": false,
    "kernelspec": {
      "display_name": "Python 3",
      "language": "python",
      "name": "python3"
    },
    "language_info": {
      "codemirror_mode": {
        "name": "ipython",
        "version": 3
      },
      "file_extension": ".py",
      "mimetype": "text/x-python",
      "name": "python",
      "nbconvert_exporter": "python",
      "pygments_lexer": "ipython3",
      "version": "3.6.0"
    }
  },
  "nbformat": 4,
  "nbformat_minor": 0
}