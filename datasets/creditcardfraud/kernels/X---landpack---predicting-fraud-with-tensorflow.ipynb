{
  "metadata": {
    "kernelspec": {
      "display_name": "Python 3",
      "language": "python",
      "name": "python3"
    },
    "language_info": {
      "codemirror_mode": {
        "name": "ipython",
        "version": 3
      },
      "file_extension": ".py",
      "mimetype": "text/x-python",
      "name": "python",
      "nbconvert_exporter": "python",
      "pygments_lexer": "ipython3",
      "version": "3.6.0"
    }
  },
  "nbformat": 4,
  "nbformat_minor": 0,
  "cells": [
    {
      "cell_type": "markdown",
      "metadata": {
        "_cell_guid": "078bebea-eacd-009d-be23-ffd04a9a28d7",
        "_active": false
      },
      "source": "# Predicting Credit Card Fraud",
      "execution_count": null,
      "outputs": [],
      "execution_state": "idle"
    },
    {
      "cell_type": "markdown",
      "metadata": {
        "_cell_guid": "5fd61b05-3123-f9f2-07b4-65f494b1d197",
        "_active": false
      },
      "source": "The goal for this analysis is to predict credit card fraud in the transactional data. I will be using tensorflow to build the predictive model, and t-SNE to visualize the dataset in two dimensions at the end of this analysis. If you would like to learn more about the data, visit: https://www.kaggle.com/dalpozz/creditcardfraud.\n\nThe sections of this analysis include: \n\n - Exploring the Data\n - Building the Neural Network \n - Visualizing the Data with t-SNE.",
      "execution_count": null,
      "outputs": [],
      "execution_state": "idle"
    },
    {
      "cell_type": "code",
      "execution_count": null,
      "metadata": {
        "_cell_guid": "fa5b0b2c-61af-c331-5189-ea7a7da91af4",
        "_active": false
      },
      "outputs": [],
      "source": "import pandas as pd\nimport numpy as np \nimport tensorflow as tf\nfrom sklearn.cross_validation import train_test_split\nimport matplotlib.pyplot as plt\nfrom sklearn.utils import shuffle\nfrom sklearn.metrics import confusion_matrix\nimport seaborn as sns\nimport matplotlib.gridspec as gridspec\nfrom sklearn.preprocessing import StandardScaler\nfrom sklearn.manifold import TSNE",
      "execution_state": "busy"
    },
    {
      "cell_type": "code",
      "execution_count": null,
      "metadata": {
        "_cell_guid": "2fb18cab-d30f-a0b4-e2ac-965e8d54f46c",
        "_active": false
      },
      "outputs": [],
      "source": "df = pd.read_csv(\"../input/creditcard.csv\")",
      "execution_state": "busy"
    },
    {
      "cell_type": "markdown",
      "metadata": {
        "_cell_guid": "506f5726-aa78-c07e-3897-50a8e30c28d0",
        "_active": false
      },
      "source": "## Exploring the Data",
      "execution_count": null,
      "outputs": [],
      "execution_state": "idle"
    },
    {
      "cell_type": "code",
      "execution_count": null,
      "metadata": {
        "_cell_guid": "6e2df96f-c649-9a33-14e8-5e72b1b1d026",
        "_active": true
      },
      "outputs": [],
      "source": "df.head()",
      "execution_state": "busy"
    },
    {
      "cell_type": "markdown",
      "metadata": {
        "_cell_guid": "fb2dbbb5-0d64-31e3-b0e3-1ac419b476a2",
        "_active": false
      },
      "source": "The data is mostly transformed from its original form, for confidentiality reasons.",
      "execution_count": null,
      "outputs": [],
      "execution_state": "idle"
    },
    {
      "cell_type": "code",
      "execution_count": null,
      "metadata": {
        "_cell_guid": "e0d66b9b-aa80-d98d-e0e4-2b6436ad643f",
        "_active": false
      },
      "outputs": [],
      "source": "df.describe()",
      "execution_state": "busy"
    },
    {
      "cell_type": "code",
      "execution_count": null,
      "metadata": {
        "_cell_guid": "296fd9fd-0461-a557-8b28-e9976457eb57",
        "_active": false
      },
      "outputs": [],
      "source": "df.isnull().sum()",
      "execution_state": "busy"
    },
    {
      "cell_type": "markdown",
      "metadata": {
        "_cell_guid": "deca11b4-e0eb-6f0c-a7f1-af499df38a49",
        "_active": false
      },
      "source": "No missing values, that makes things a little easier.\n\nLet's see how time compares across fraudulent and normal transactions.",
      "execution_count": null,
      "outputs": [],
      "execution_state": "idle"
    },
    {
      "cell_type": "code",
      "execution_count": null,
      "metadata": {
        "_cell_guid": "3feb7a36-245c-d3c0-a85b-fb4a56b88602",
        "_active": false
      },
      "outputs": [],
      "source": "print (\"Fraud\")\nprint (df.Time[df.Class == 1].describe())\nprint ()\nprint (\"Normal\")\nprint (df.Time[df.Class == 0].describe())",
      "execution_state": "busy"
    },
    {
      "cell_type": "code",
      "execution_count": null,
      "metadata": {
        "_cell_guid": "5f0f1afc-2ea8-2064-44b2-db646dfd5540",
        "_active": false
      },
      "outputs": [],
      "source": "f, (ax1, ax2) = plt.subplots(2, 1, sharex=True, figsize=(12,4))\n\nbins = 50\n\nax1.hist(df.Time[df.Class == 1], bins = bins)\nax1.set_title('Fraud')\n\nax2.hist(df.Time[df.Class == 0], bins = bins)\nax2.set_title('Normal')\n\nplt.xlabel('Time (in Seconds)')\nplt.ylabel('Number of Transactions')\nplt.show()",
      "execution_state": "busy"
    },
    {
      "cell_type": "markdown",
      "metadata": {
        "_cell_guid": "d60b2c81-ea2c-fdc8-4e00-3f6b12af5fba",
        "_active": false
      },
      "source": "The 'Time' feature looks pretty similar across both types of transactions. You could argue that fraudulent transactions are more uniformly distributed, while normal transactions have a cyclical distribution. This could make it easier to detect a fraudulent transaction during at an 'off-peak' time.\n\nNow let's see if the transaction amount differs between the two types.",
      "execution_count": null,
      "outputs": [],
      "execution_state": "idle"
    },
    {
      "cell_type": "code",
      "execution_count": null,
      "metadata": {
        "_cell_guid": "db2fcefb-daa9-8b14-7300-7d20db5a49a8",
        "_active": false
      },
      "outputs": [],
      "source": "print (\"Fraud\")\nprint (df.Amount[df.Class == 1].describe())\nprint ()\nprint (\"Normal\")\nprint (df.Amount[df.Class == 0].describe())",
      "execution_state": "busy"
    },
    {
      "cell_type": "code",
      "execution_count": null,
      "metadata": {
        "_cell_guid": "bf7873ea-fd39-6565-6713-8533fda33d29",
        "_active": false
      },
      "outputs": [],
      "source": "f, (ax1, ax2) = plt.subplots(2, 1, sharex=True, figsize=(12,4))\n\nbins = 30\n\nax1.hist(df.Amount[df.Class == 1], bins = bins)\nax1.set_title('Fraud')\n\nax2.hist(df.Amount[df.Class == 0], bins = bins)\nax2.set_title('Normal')\n\nplt.xlabel('Amount ($)')\nplt.ylabel('Number of Transactions')\nplt.yscale('log')\nplt.show()",
      "execution_state": "busy"
    },
    {
      "cell_type": "code",
      "execution_count": null,
      "metadata": {
        "_cell_guid": "da6ecbcc-b994-6e1b-43b2-42a4801366f0",
        "_active": false
      },
      "outputs": [],
      "source": "df['Amount_max_fraud'] = 1\ndf.loc[df.Amount <= 2125.87, 'Amount_max_fraud'] = 0",
      "execution_state": "busy"
    },
    {
      "cell_type": "markdown",
      "metadata": {
        "_cell_guid": "c6129477-c175-ef7a-1d5b-a331a905c524",
        "_active": false
      },
      "source": "Most transactions are small amounts, less than $100. Fraudulent transactions have a maximum value far less than normal transactions, $2,125.87 vs $25,691.16.\n\nLet's compare Time with Amount and see if we can learn anything new.",
      "execution_count": null,
      "outputs": [],
      "execution_state": "idle"
    },
    {
      "cell_type": "code",
      "execution_count": null,
      "metadata": {
        "_cell_guid": "ee2f1aa4-84f7-3959-ceca-639211a4468d",
        "_active": false
      },
      "outputs": [],
      "source": "f, (ax1, ax2) = plt.subplots(2, 1, sharex=True, figsize=(12,6))\n\nax1.scatter(df.Time[df.Class == 1], df.Amount[df.Class == 1])\nax1.set_title('Fraud')\n\nax2.scatter(df.Time[df.Class == 0], df.Amount[df.Class == 0])\nax2.set_title('Normal')\n\nplt.xlabel('Time (in Seconds)')\nplt.ylabel('Amount')\nplt.show()",
      "execution_state": "busy"
    },
    {
      "cell_type": "markdown",
      "metadata": {
        "_cell_guid": "51380e8e-f55c-f7da-5abb-b8f74900b0df",
        "_active": false
      },
      "source": "Nothing too useful here.\n\nNext, let's take a look at the anonymized features.",
      "execution_count": null,
      "outputs": [],
      "execution_state": "idle"
    },
    {
      "cell_type": "code",
      "execution_count": null,
      "metadata": {
        "_cell_guid": "517128c8-9467-8225-791a-72fbe90fcbf6",
        "_active": false
      },
      "outputs": [],
      "source": "#Select only the anonymized features.\nv_features = df.ix[:,1:29].columns",
      "execution_state": "busy"
    },
    {
      "cell_type": "code",
      "execution_count": null,
      "metadata": {
        "_cell_guid": "254519ba-35e8-26bf-648c-462b51f3db08",
        "_active": false
      },
      "outputs": [],
      "source": "plt.figure(figsize=(12,28*4))\ngs = gridspec.GridSpec(28, 1)\nfor i, cn in enumerate(df[v_features]):\n    ax = plt.subplot(gs[i])\n    sns.distplot(df[cn][df.Class == 1], bins=50)\n    sns.distplot(df[cn][df.Class == 0], bins=50)\n    ax.set_xlabel('')\n    ax.set_title('histogram of feature: ' + str(cn))\nplt.show()",
      "execution_state": "busy"
    },
    {
      "cell_type": "code",
      "execution_count": null,
      "metadata": {
        "_cell_guid": "09f58878-6f5a-d903-e0be-cdabfb5ed662",
        "_active": false
      },
      "outputs": [],
      "source": "#Drop all of the features that have very similar distributions between the two types of transactions.\ndf = df.drop(['V28','V27','V26','V25','V24','V23','V22','V20','V15','V13','V8'], axis =1)",
      "execution_state": "busy"
    },
    {
      "cell_type": "code",
      "execution_count": null,
      "metadata": {
        "_cell_guid": "5414a61d-38b4-a927-c31f-5afba5feef08",
        "_active": false
      },
      "outputs": [],
      "source": "#Based on the plots above, these features are created to identify values where fraudulent transaction are more common.\ndf['V1_'] = df.V1.map(lambda x: 1 if x < -3 else 0)\ndf['V2_'] = df.V2.map(lambda x: 1 if x > 2.5 else 0)\ndf['V3_'] = df.V3.map(lambda x: 1 if x < -4 else 0)\ndf['V4_'] = df.V4.map(lambda x: 1 if x > 2.5 else 0)\ndf['V5_'] = df.V5.map(lambda x: 1 if x < -4.5 else 0)\ndf['V6_'] = df.V6.map(lambda x: 1 if x < -2.5 else 0)\ndf['V7_'] = df.V7.map(lambda x: 1 if x < -3 else 0)\ndf['V9_'] = df.V9.map(lambda x: 1 if x < -2 else 0)\ndf['V10_'] = df.V10.map(lambda x: 1 if x < -2.5 else 0)\ndf['V11_'] = df.V11.map(lambda x: 1 if x > 2 else 0)\ndf['V12_'] = df.V12.map(lambda x: 1 if x < -2 else 0)\ndf['V14_'] = df.V14.map(lambda x: 1 if x < -2.5 else 0)\ndf['V16_'] = df.V16.map(lambda x: 1 if x < -2 else 0)\ndf['V17_'] = df.V17.map(lambda x: 1 if x < -2 else 0)\ndf['V18_'] = df.V18.map(lambda x: 1 if x < -2 else 0)\ndf['V19_'] = df.V19.map(lambda x: 1 if x > 1.5 else 0)\ndf['V21_'] = df.V21.map(lambda x: 1 if x > 0.6 else 0)",
      "execution_state": "busy"
    },
    {
      "cell_type": "code",
      "execution_count": null,
      "metadata": {
        "_cell_guid": "8901e194-87b8-c3c3-662e-b05a44a50a5e",
        "_active": false
      },
      "outputs": [],
      "source": "#Create a new feature for normal (non-fraudulent) transactions.\ndf.loc[df.Class == 0, 'Normal'] = 1\ndf.loc[df.Class == 1, 'Normal'] = 0",
      "execution_state": "busy"
    },
    {
      "cell_type": "code",
      "execution_count": null,
      "metadata": {
        "_cell_guid": "c284c3cf-7523-fbd6-9d13-026e633167c3",
        "_active": false
      },
      "outputs": [],
      "source": "#Rename 'Class' to 'Fraud'.\ndf = df.rename(columns={'Class': 'Fraud'})",
      "execution_state": "busy"
    },
    {
      "cell_type": "code",
      "execution_count": null,
      "metadata": {
        "_cell_guid": "afa20d7b-1a72-3bf5-a51c-066fc16dedc6",
        "_active": false
      },
      "outputs": [],
      "source": "#492 fraudulent transactions, 284,315 normal transactions.\n#0.172% of transactions were fraud. \nprint(df.Normal.value_counts())\nprint()\nprint(df.Fraud.value_counts())",
      "execution_state": "busy"
    },
    {
      "cell_type": "code",
      "execution_count": null,
      "metadata": {
        "_cell_guid": "0ddbbdd8-9ac9-d730-8063-d0f4acdaf85b",
        "_active": false
      },
      "outputs": [],
      "source": "pd.set_option(\"display.max_columns\",101)\ndf.head()",
      "execution_state": "busy"
    },
    {
      "cell_type": "code",
      "execution_count": null,
      "metadata": {
        "_cell_guid": "23616744-f335-007e-a6b1-ee0bc0f3edcd",
        "_active": false
      },
      "outputs": [],
      "source": "#Create dataframes of only Fraud and Normal transactions.\nFraud = df[df.Fraud == 1]\nNormal = df[df.Normal == 1]",
      "execution_state": "busy"
    },
    {
      "cell_type": "code",
      "execution_count": null,
      "metadata": {
        "_cell_guid": "deb5dbbb-201d-e79f-13cc-dc9817d588e5",
        "_active": false
      },
      "outputs": [],
      "source": "#Set X_train equal to 75% of the fraudulent transactions.\nX_train = Fraud.sample(frac=0.75)\ncount_Frauds = len(X_train)\n\n#Add 75% of the normal transactions to X_train.\nX_train = pd.concat([X_train, Normal.sample(frac = 0.75)], axis = 0)\n\n#X_test contains all the transaction not in X_train.\nX_test = df.loc[~df.index.isin(X_train.index)]",
      "execution_state": "busy"
    },
    {
      "cell_type": "code",
      "execution_count": null,
      "metadata": {
        "_cell_guid": "c0becaf6-dc5d-8cdf-8763-ae0c8a669e91",
        "_active": false
      },
      "outputs": [],
      "source": "#Shuffle the dataframes so that the training is done in a random order.\nX_train = shuffle(X_train)\nX_test = shuffle(X_test)",
      "execution_state": "busy"
    },
    {
      "cell_type": "code",
      "execution_count": null,
      "metadata": {
        "_cell_guid": "80e7e303-ce05-5f3d-a0d8-ac2960ec0fbb",
        "_active": false
      },
      "outputs": [],
      "source": "#Add our target features to y_train and y_test.\ny_train = X_train.Fraud\ny_train = pd.concat([y_train, X_train.Normal], axis=1)\n\ny_test = X_test.Fraud\ny_test = pd.concat([y_test, X_test.Normal], axis=1)",
      "execution_state": "busy"
    },
    {
      "cell_type": "code",
      "execution_count": null,
      "metadata": {
        "_cell_guid": "74f83c86-c091-0e72-7022-6a916167047f",
        "_active": false
      },
      "outputs": [],
      "source": "#Drop target features from X_train and X_test.\nX_train = X_train.drop(['Fraud','Normal'], axis = 1)\nX_test = X_test.drop(['Fraud','Normal'], axis = 1)",
      "execution_state": "busy"
    },
    {
      "cell_type": "code",
      "execution_count": null,
      "metadata": {
        "_cell_guid": "1f7660a6-6798-2bed-ccbf-a19f63b309c5",
        "_active": false
      },
      "outputs": [],
      "source": "#Check to ensure all of the training/testing dataframes are of the correct length\nprint(len(X_train))\nprint(len(y_train))\nprint(len(X_test))\nprint(len(y_test))",
      "execution_state": "busy"
    },
    {
      "cell_type": "code",
      "execution_count": null,
      "metadata": {
        "_cell_guid": "84f4c273-2113-3fe2-25d4-61c47a2628d1",
        "_active": false
      },
      "outputs": [],
      "source": "'''\nDue to the imbalance in the data, ratio will act as an equal weighting system for our model. \nBy dividing the number of transactions by those that are fraudulent, ratio will equal the value that when multiplied\nby the number of fraudulent transactions will equal the number of normal transaction. \nSimply put: # of fraud * ratio = # of normal\n'''\nratio = len(X_train)/count_Frauds \n\ny_train.Fraud *= ratio\ny_test.Fraud *= ratio",
      "execution_state": "busy"
    },
    {
      "cell_type": "code",
      "execution_count": null,
      "metadata": {
        "_cell_guid": "a1d825a1-7769-f7ee-0935-f6b8aef77664",
        "_active": false
      },
      "outputs": [],
      "source": "#Names of all of the features in X_train.\nfeatures = X_train.columns.values\n\n#Transform each feature in features so that it has a mean of 0 and standard deviation of 1; \n#this helps with training the neural network.\nfor feature in features:\n    mean, std = df[feature].mean(), df[feature].std()\n    X_train.loc[:, feature] = (X_train[feature] - mean) / std\n    X_test.loc[:, feature] = (X_test[feature] - mean) / std",
      "execution_state": "busy"
    },
    {
      "cell_type": "markdown",
      "metadata": {
        "_cell_guid": "309dfd9b-b33a-60b3-c859-72eacc2bd323",
        "_active": false
      },
      "source": "## Train the Neural Net",
      "execution_count": null,
      "outputs": [],
      "execution_state": "idle"
    },
    {
      "cell_type": "code",
      "execution_count": null,
      "metadata": {
        "_cell_guid": "b668be28-6280-3453-3d03-09daf5077040",
        "_active": false
      },
      "outputs": [],
      "source": "inputX = X_train.as_matrix()\ninputY = y_train.as_matrix()\ninputX_test = X_test.as_matrix()\ninputY_test = y_test.as_matrix()",
      "execution_state": "busy"
    },
    {
      "cell_type": "code",
      "execution_count": null,
      "metadata": {
        "_cell_guid": "fb75cc68-777c-4db9-6c92-80217d639d85",
        "_active": false
      },
      "outputs": [],
      "source": "#Number of input nodes.\ninput_nodes = 37\n\n#Multiplier maintains a fixed ratio of nodes between each layer.\nmulitplier = 1.5 \n\n#Number of nodes in each hidden layer\nhidden_nodes1 = 15\nhidden_nodes2 = round(hidden_nodes1 * mulitplier)\nhidden_nodes3 = round(hidden_nodes2 * mulitplier)\n\n#Percent of nodes to keep during dropout.\npkeep = 0.9",
      "execution_state": "busy"
    },
    {
      "cell_type": "code",
      "execution_count": null,
      "metadata": {
        "_cell_guid": "c7737bfc-b52a-d76c-b70a-2cfacfab7f1d",
        "_active": false
      },
      "outputs": [],
      "source": "#input\nx = tf.placeholder(tf.float32, [None, input_nodes])\n\n#layer 1\nW1 = tf.Variable(tf.truncated_normal([input_nodes, hidden_nodes1], stddev = 0.1))\nb1 = tf.Variable(tf.zeros([hidden_nodes1]))\ny1 = tf.nn.sigmoid(tf.matmul(x, W1) + b1)\n\n#layer 2\nW2 = tf.Variable(tf.truncated_normal([hidden_nodes1, hidden_nodes2], stddev = 0.1))\nb2 = tf.Variable(tf.zeros([hidden_nodes2]))\ny2 = tf.nn.sigmoid(tf.matmul(y1, W2) + b2)\n\n#layer 3\nW3 = tf.Variable(tf.truncated_normal([hidden_nodes2, hidden_nodes3], stddev = 0.1)) \nb3 = tf.Variable(tf.zeros([hidden_nodes3]))\ny3 = tf.nn.sigmoid(tf.matmul(y2, W3) + b3)\ny3 = tf.nn.dropout(y3, pkeep)\n\n#layer 4\nW4 = tf.Variable(tf.truncated_normal([hidden_nodes3, 2], stddev = 0.1)) \nb4 = tf.Variable(tf.zeros([2]))\ny4 = tf.nn.softmax(tf.matmul(y3, W4) + b4)\n\n#output\ny = y4\ny_ = tf.placeholder(tf.float32, [None, 2])",
      "execution_state": "busy"
    },
    {
      "cell_type": "code",
      "execution_count": null,
      "metadata": {
        "_cell_guid": "4d499bd8-9720-05ca-c82e-3d360d4c5bd6",
        "_active": false
      },
      "outputs": [],
      "source": "#Parameters\ntraining_epochs = 2 #should be 2000, but the kernels dies from running for more than 1200 seconds.\ndisplay_step = 50\nn_samples = y_train.size\n\nbatch = tf.Variable(0)\n\nlearning_rate = tf.train.exponential_decay(\n  0.01,              #Base learning rate.\n  batch,             #Current index into the dataset.\n  len(inputX),       #Decay step.\n  0.95,              #Decay rate.\n  staircase=False)",
      "execution_state": "busy"
    },
    {
      "cell_type": "code",
      "execution_count": null,
      "metadata": {
        "_cell_guid": "f6b8184c-ecfd-3be4-8555-c611ad8a420b",
        "_active": false
      },
      "outputs": [],
      "source": "#Cost function: Cross Entropy\ncost = -tf.reduce_sum(y_ * tf.log(y))\n\n#We will optimize our model via AdamOptimizer\noptimizer = tf.train.AdamOptimizer(learning_rate).minimize(cost)\n\n#Correct prediction if the most likely value (Fraud or Normal) from softmax equals the target value.\ncorrect_prediction = tf.equal(tf.argmax(y,1), tf.argmax(y_,1))\naccuracy = tf.reduce_mean(tf.cast(correct_prediction, tf.float32))",
      "execution_state": "busy"
    },
    {
      "cell_type": "code",
      "execution_count": null,
      "metadata": {
        "_cell_guid": "7e3dd364-c744-ad3e-68d7-50927f7b2822",
        "_active": false
      },
      "outputs": [],
      "source": "#Initialize variables and tensorflow session\ninit = tf.initialize_all_variables()\nsess = tf.Session()\nsess.run(init)",
      "execution_state": "busy"
    },
    {
      "cell_type": "code",
      "execution_count": null,
      "metadata": {
        "_cell_guid": "d92ba058-cde6-efc6-0d2d-c59438429bf7",
        "_active": false
      },
      "outputs": [],
      "source": "accuracy_summary = [] #Record accuracy values for plot\ncost_summary = [] #Record cost values for plot\n\nfor i in range(training_epochs):  \n    sess.run([optimizer], feed_dict={x: inputX, y_: inputY})\n    \n    # Display logs per epoch step\n    if (i) % display_step == 0:\n        train_accuracy, newCost = sess.run([accuracy, cost], feed_dict={x: inputX, y_: inputY})\n        print (\"Training step:\", i,\n               \"Accuracy =\", \"{:.5f}\".format(train_accuracy), \n               \"Cost = \", \"{:.5f}\".format(newCost))\n        accuracy_summary.append(train_accuracy)\n        cost_summary.append(newCost)\n        \nprint()\nprint (\"Optimization Finished!\")\ntraining_accuracy = sess.run(accuracy, feed_dict={x: inputX, y_: inputY})\nprint (\"Training Accuracy=\", training_accuracy)\nprint()\ntesting_accuracy = sess.run(accuracy, feed_dict={x: inputX_test, y_: inputY_test})\nprint (\"Testing Accuracy=\", testing_accuracy)",
      "execution_state": "busy"
    },
    {
      "cell_type": "code",
      "execution_count": null,
      "metadata": {
        "_cell_guid": "e3cb895b-27d6-9765-60ae-46b4ff625394",
        "_active": false
      },
      "outputs": [],
      "source": "#Plot accuracy and cost summary\nf, (ax1, ax2) = plt.subplots(2, 1, sharex=True, figsize=(10,4))\n\nax1.plot(accuracy_summary)\nax1.set_title('Accuracy')\n\nax2.plot(cost_summary)\nax2.set_title('Cost')\n\nplt.xlabel('Epochs (x50)')\nplt.show()",
      "execution_state": "busy"
    },
    {
      "cell_type": "markdown",
      "metadata": {
        "_cell_guid": "b180317a-a34b-6487-8edc-6d83f658205c",
        "_active": false
      },
      "source": "To summarize the confusion matrix (if you run with 2000 epochs):\n\nCorrect Fraud: 102\n\nIncorrect Fraud: 21\n\nCorrect Normal: 71,005\n\nIncorrect Normal: 74\n\nAlthough the neural network can detect most of the fraudulent transactions (82.93%), there are still some that got away. About 0.10% of normal transactions were classified as fraudulent, which can unfortunately add up very quickly given the large number of credit card transactions that occur each minute/hour/day. Nonetheless, this models performs reasonably well and I expect that if we had more data, and if the features were not pre-transformed, we could have created new features, and built a more useful neural network.",
      "execution_count": null,
      "outputs": [],
      "execution_state": "idle"
    },
    {
      "cell_type": "markdown",
      "metadata": {
        "_cell_guid": "20b9c812-9fe5-e413-bfd4-d8fe9895f715",
        "_active": false
      },
      "source": "## Visualizing the Data with t-SNE",
      "execution_count": null,
      "outputs": [],
      "execution_state": "idle"
    },
    {
      "cell_type": "markdown",
      "metadata": {
        "_cell_guid": "5cd0d528-3688-8ffe-8969-53a30142bbb3",
        "_active": false
      },
      "source": "First we are going to use t-SNE with the original data, then with the data we used for training our neural network. I expect/hope that the second scatter plot will show a clearer contrast between the normal and the fraudulent transactions. If this is the case, its signals that the work done during the feature engineering stage of the analysis was beneficial to helping the neural network understand the data.",
      "execution_count": null,
      "outputs": [],
      "execution_state": "idle"
    },
    {
      "cell_type": "code",
      "execution_count": null,
      "metadata": {
        "_cell_guid": "67b1d765-6587-5dca-db19-1d68a8320351",
        "_active": false
      },
      "outputs": [],
      "source": "#reload the original dataset\ntsne_data = pd.read_csv(\"../input/creditcard.csv\")",
      "execution_state": "busy"
    },
    {
      "cell_type": "code",
      "execution_count": null,
      "metadata": {
        "_cell_guid": "71b60bf7-1220-3e20-9f54-ce622a77b8be",
        "_active": false
      },
      "outputs": [],
      "source": "#Set df2 equal to all of the fraulent and 10,000 normal transactions.\ndf2 = tsne_data[tsne_data.Class == 1]\ndf2 = pd.concat([df2, tsne_data[tsne_data.Class == 0].sample(n = 10000)], axis = 0)",
      "execution_state": "busy"
    },
    {
      "cell_type": "code",
      "execution_count": null,
      "metadata": {
        "_cell_guid": "1c4a15ad-3511-a2b6-be80-6d148eaf7f92",
        "_active": false
      },
      "outputs": [],
      "source": "#Scale features to improve the training ability of TSNE.\nstandard_scaler = StandardScaler()\ndf2_std = standard_scaler.fit_transform(df2)\n\n#Set y equal to the target values.\ny = df2.ix[:,-1].values",
      "execution_state": "busy"
    },
    {
      "cell_type": "code",
      "execution_count": null,
      "metadata": {
        "_cell_guid": "269f2340-8688-989d-146d-dbf9f4466d8b",
        "_active": false
      },
      "outputs": [],
      "source": "tsne = TSNE(n_components=2, random_state=0)\nx_test_2d = tsne.fit_transform(df2_std)",
      "execution_state": "busy"
    },
    {
      "cell_type": "code",
      "execution_count": null,
      "metadata": {
        "_cell_guid": "604568cd-a54b-03b5-c30c-551550cad415",
        "_active": false
      },
      "outputs": [],
      "source": "#Build the scatter plot with the two types of transactions.\ncolor_map = {0:'red', 1:'blue'}\nplt.figure()\nfor idx, cl in enumerate(np.unique(y)):\n    plt.scatter(x = x_test_2d[y==cl,0], \n                y = x_test_2d[y==cl,1], \n                c = color_map[idx], \n                label = cl)\nplt.xlabel('X in t-SNE')\nplt.ylabel('Y in t-SNE')\nplt.legend(loc='upper left')\nplt.title('t-SNE visualization of test data')\nplt.show()",
      "execution_state": "busy"
    },
    {
      "cell_type": "markdown",
      "metadata": {
        "_cell_guid": "13314f49-90f0-6fe2-f79b-c568672703c0",
        "_active": false
      },
      "source": "The are two main groupings of fraudulent transactions, while the remaineder are mixed within the rest of the data.\n\nNote: I have only used 10,000 of the 284,315 normal transactions for this visualization. I would have liked to of used more, but my laptop crashes if many more than 10,000 transactions are included. With only 3.15% of the data being used, there should be some accuracy to this plot, but I am confident that the layout would look different if all of the transactions were included.",
      "execution_count": null,
      "outputs": [],
      "execution_state": "idle"
    },
    {
      "cell_type": "code",
      "execution_count": null,
      "metadata": {
        "_cell_guid": "205a0d7a-f504-3f30-714c-4a513eddd641",
        "_active": false
      },
      "outputs": [],
      "source": "#Set df_used to the fraudulent transactions' dataset.\ndf_used = Fraud\n\n#Add 10,000 normal transactions to df_used.\ndf_used = pd.concat([df_used, Normal.sample(n = 10000)], axis = 0)",
      "execution_state": "busy"
    },
    {
      "cell_type": "code",
      "execution_count": null,
      "metadata": {
        "_cell_guid": "2127b65f-00f6-0495-85b4-809431731455",
        "_active": false
      },
      "outputs": [],
      "source": "#Scale features to improve the training ability of TSNE.\ndf_used_std = standard_scaler.fit_transform(df_used)\n\n#Set y_used equal to the target values.\ny_used = df_used.ix[:,-1].values",
      "execution_state": "busy"
    },
    {
      "cell_type": "code",
      "execution_count": null,
      "metadata": {
        "_cell_guid": "bf9fd0d1-ba26-3be4-ec8e-208df67a3057",
        "_active": false
      },
      "outputs": [],
      "source": "x_test_2d_used = tsne.fit_transform(df_used_std)",
      "execution_state": "busy"
    },
    {
      "cell_type": "code",
      "execution_count": null,
      "metadata": {
        "_cell_guid": "6ad3b702-095b-9bb4-5211-b9aa3e42c0b3",
        "_active": false
      },
      "outputs": [],
      "source": "color_map = {1:'red', 0:'blue'}\nplt.figure()\nfor idx, cl in enumerate(np.unique(y_used)):\n    plt.scatter(x=x_test_2d_used[y_used==cl,0], \n                y=x_test_2d_used[y_used==cl,1], \n                c=color_map[idx], \n                label=cl)\nplt.xlabel('X in t-SNE')\nplt.ylabel('Y in t-SNE')\nplt.legend(loc='upper left')\nplt.title('t-SNE visualization of test data')\nplt.show()",
      "execution_state": "busy"
    },
    {
      "cell_type": "markdown",
      "metadata": {
        "_cell_guid": "09d69a9a-e6ec-f365-0177-bce5b3c0711a",
        "_active": false
      },
      "source": "It appears that the work we did in the feature engineering stage of this analysis has been for the best. We can see that the fraudulent transactions are all part of a group of points. This suggests that it is easier for a model to identify the fraudulent transactions in the testing data, and to learn about the traits of the fraudulent transactions in the training data.",
      "execution_count": null,
      "outputs": [],
      "execution_state": "idle"
    }
  ]
}