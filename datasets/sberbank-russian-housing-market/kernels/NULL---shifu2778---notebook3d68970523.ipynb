{
  "cells": [
    {
      "cell_type": "code",
      "execution_count": null,
      "metadata": {
        "_cell_guid": "1784fbf7-78e8-591b-5d96-80325c1be182"
      },
      "outputs": [],
      "source": [
        "# This Python 3 environment comes with many helpful analytics libraries installed\n",
        "# It is defined by the kaggle/python docker image: https://github.com/kaggle/docker-python\n",
        "# For example, here's several helpful packages to load in \n",
        "\n",
        "import numpy as np # linear algebra\n",
        "import pandas as pd # data processing, CSV file I/O (e.g. pd.read_csv)\n",
        "\n",
        "# Input data files are available in the \"../input/\" directory.\n",
        "# For example, running this (by clicking run or pressing Shift+Enter) will list the files in the input directory\n",
        "\n",
        "from subprocess import check_output\n",
        "print(check_output([\"ls\", \"../input\"]).decode(\"utf8\"))\n",
        "\n",
        "# Any results you write to the current directory are saved as output."
      ]
    },
    {
      "cell_type": "code",
      "execution_count": null,
      "metadata": {
        "_cell_guid": "8a0a9c64-7264-ba5e-444e-14dbd55c366c"
      },
      "outputs": [],
      "source": [
        "import matplotlib.pyplot as plt\n",
        "import seaborn as sns\n",
        "from sklearn import model_selection, preprocessing\n",
        "import xgboost as xgb\n",
        "%matplotlib inline\n"
      ]
    },
    {
      "cell_type": "code",
      "execution_count": null,
      "metadata": {
        "_cell_guid": "bb311107-8b64-6b99-5d43-fd0be141323f"
      },
      "outputs": [],
      "source": [
        "df_train = pd.read_csv(\"../input/train.csv\")\n",
        "df_train.shape"
      ]
    },
    {
      "cell_type": "code",
      "execution_count": null,
      "metadata": {
        "_cell_guid": "52f4ee49-bc2d-ba4a-c07f-8bbb81020caa"
      },
      "outputs": [],
      "source": [
        "df_train.head()"
      ]
    },
    {
      "cell_type": "code",
      "execution_count": null,
      "metadata": {
        "_cell_guid": "746dea9f-a1e1-d91b-51bd-3a0b5639d0f5"
      },
      "outputs": [],
      "source": [
        "# for taking a look at all the columns\n",
        "pd.set_option('display.max_columns',300)\n",
        "df_train.head()"
      ]
    },
    {
      "cell_type": "markdown",
      "metadata": {
        "_cell_guid": "1f1f8ecf-a4c7-e851-3c88-0cbc66f64162"
      },
      "source": [
        "Wow, this is better!"
      ]
    },
    {
      "cell_type": "markdown",
      "metadata": {
        "_cell_guid": "a9b8ccca-a356-883e-d503-b324b8f714d1"
      },
      "source": [
        "Now, what matters to us is the price_doc column because that's what we have to predict. So let's see a simple scatter plot and find out if there are any outliers. A wise thing to do, right!?"
      ]
    },
    {
      "cell_type": "code",
      "execution_count": null,
      "metadata": {
        "_cell_guid": "f0fb9fb1-0d7d-587a-c653-8172f0d98d44"
      },
      "outputs": [],
      "source": [
        "plt.figure(figsize=(8,6))\n",
        "plt.scatter(range(df_train.shape[0]), np.sort(df_train.price_doc.values))\n",
        "plt.xlabel(\"Houses\")\n",
        "plt.ylabel(\"Price\")\n",
        "plt.show()"
      ]
    },
    {
      "cell_type": "markdown",
      "metadata": {
        "_cell_guid": "6e60921b-5383-1a6b-fd02-36d964a11799"
      },
      "source": [
        "Whoa, The graph looks pretty consistent to me. Even though there seem like a couple of outliers at higher price points but there might be something behind such high prices that we don't know as of. So, we'll let it be."
      ]
    },
    {
      "cell_type": "code",
      "execution_count": null,
      "metadata": {
        "_cell_guid": "c3d8979d-167b-1777-2253-c2f726024eb0"
      },
      "outputs": [],
      "source": [
        "#Let's make the timestamp containing only month and year\n",
        "df_train['timestamp'] = df_train['timestamp'].apply(lambda x: x[:4]+x[5:7])\n",
        "df_group = df_train.groupby('timestamp')['price_doc'].aggregate(np.median).reset_index()\n",
        "df_train.head()"
      ]
    },
    {
      "cell_type": "markdown",
      "metadata": {
        "_cell_guid": "89f7fde3-613a-efbb-c35b-fec54027fa7b"
      },
      "source": [
        "Now let's see the change in median price of houses over the months"
      ]
    },
    {
      "cell_type": "code",
      "execution_count": null,
      "metadata": {
        "_cell_guid": "ea7c47bd-9a20-9136-8428-2b8dbe515308"
      },
      "outputs": [],
      "source": [
        "plt.figure(figsize=(12,9))\n",
        "sns.barplot(df_group.timestamp.values, df_group.price_doc.values, alpha=0.8)\n",
        "plt.xlabel(\"Months\")\n",
        "plt.ylabel(\"Price\")\n",
        "plt.xticks(rotation='vertical')\n",
        "plt.show()"
      ]
    },
    {
      "cell_type": "code",
      "execution_count": null,
      "metadata": {
        "_cell_guid": "61f2188f-2029-9690-4383-96db7550d789"
      },
      "outputs": [],
      "source": ""
    }
  ],
  "metadata": {
    "_change_revision": 0,
    "_is_fork": false,
    "kernelspec": {
      "display_name": "Python 3",
      "language": "python",
      "name": "python3"
    },
    "language_info": {
      "codemirror_mode": {
        "name": "ipython",
        "version": 3
      },
      "file_extension": ".py",
      "mimetype": "text/x-python",
      "name": "python",
      "nbconvert_exporter": "python",
      "pygments_lexer": "ipython3",
      "version": "3.6.0"
    }
  },
  "nbformat": 4,
  "nbformat_minor": 0
}