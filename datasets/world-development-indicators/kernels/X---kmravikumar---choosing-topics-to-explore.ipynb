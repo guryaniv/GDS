{
  "cells": [
    {
      "cell_type": "markdown",
      "metadata": {
        "_cell_guid": "58ee480a-9c0b-3ee4-4bd6-c5c069a35814"
      },
      "source": [
        "## Picking the correct indicators to explore\n",
        "- Need to explorer only a particular area of interest ...\n",
        "- The database is so rich with so many indicators that it is desirable to have a better way of picking required indicators.\n",
        "- So I have created a new Indicator list using which specific topics like for eg: Health, Food, Energy etc. can be searched for. Then within each topic required indicators can be more easily picked."
      ]
    },
    {
      "cell_type": "code",
      "execution_count": null,
      "metadata": {
        "_cell_guid": "0498e283-9946-c8f3-efe2-2f77afc30166"
      },
      "outputs": [],
      "source": [
        "import numpy as np # linear algebra\n",
        "import pandas as pd # data processing, CSV file I/O (e.g. pd.read_csv)\n",
        "import re"
      ]
    },
    {
      "cell_type": "code",
      "execution_count": null,
      "metadata": {
        "_cell_guid": "f86098eb-0a7b-9690-b8a0-11498d9fe5df"
      },
      "outputs": [],
      "source": [
        "# read in file as data frame\n",
        "df = pd.read_csv('../input/Indicators.csv')"
      ]
    },
    {
      "cell_type": "code",
      "execution_count": null,
      "metadata": {
        "_cell_guid": "a4eb7085-08bd-fa86-8479-2d30b1d64204"
      },
      "outputs": [],
      "source": [
        "# Create list of unique indicators, indicator codes\n",
        "Indicator_array =  df[['IndicatorName','IndicatorCode']].drop_duplicates().values"
      ]
    },
    {
      "cell_type": "markdown",
      "metadata": {
        "_cell_guid": "6f0793b7-f7bf-805c-5fba-7d54d439c1a4"
      },
      "source": [
        "###  Change IndicatorNames\n",
        "- Create a new list of IndicatorName and IndicatorCode such that special characters like \"(\", \")\", \",\" are replaced just by spaces\n",
        "- This new list (modified_indicators) can be used to search for specific topics as done below"
      ]
    },
    {
      "cell_type": "code",
      "execution_count": null,
      "metadata": {
        "_cell_guid": "8fb3417e-4b31-d82f-55d3-fc08ac960317"
      },
      "outputs": [],
      "source": [
        "modified_indicators = []\n",
        "unique_indicator_codes = []\n",
        "for ele in Indicator_array:\n",
        "    indicator = ele[0]\n",
        "    indicator_code = ele[1].strip()\n",
        "    if indicator_code not in unique_indicator_codes:\n",
        "        # delete , ( ) from the IndicatorNames\n",
        "        new_indicator = re.sub('[,()]',\"\",indicator).lower()\n",
        "        # replace - with \"to\" and make all words into lower case\n",
        "        new_indicator = re.sub('-',\" to \",new_indicator).lower()\n",
        "        modified_indicators.append([new_indicator,indicator_code])\n",
        "        unique_indicator_codes.append(indicator_code)\n",
        "\n",
        "Indicators = pd.DataFrame(modified_indicators,columns=['IndicatorName','IndicatorCode'])\n",
        "Indicators = Indicators.drop_duplicates()\n",
        "print(Indicators.shape)"
      ]
    },
    {
      "cell_type": "markdown",
      "metadata": {
        "_cell_guid": "51a764e5-74a6-2161-ea74-23462647f94b"
      },
      "source": [
        "###  Define Key word dictionary on specific topics\n",
        "eg: Topic \"Health\" contains all indicators which have the words desease, hospital, mortality, doctor etc.\n",
        "\n",
        "- Feel free to change it to your requirements"
      ]
    },
    {
      "cell_type": "code",
      "execution_count": null,
      "metadata": {
        "_cell_guid": "45ede2de-9c03-4e12-307a-5111256163a7"
      },
      "outputs": [],
      "source": [
        "\n",
        "key_word_dict = {}\n",
        "key_word_dict['Demography'] = ['population','birth','death','fertility','mortality','expectancy']\n",
        "key_word_dict['Food'] = ['food','grain','nutrition','calories']\n",
        "key_word_dict['Trade'] = ['trade','import','export','good','shipping','shipment']\n",
        "key_word_dict['Health'] = ['health','desease','hospital','mortality','doctor']\n",
        "key_word_dict['Economy'] = ['income','gdp','gni','deficit','budget','market','stock','bond','infrastructure']\n",
        "key_word_dict['Energy'] = ['fuel','energy','power','emission','electric','electricity']\n",
        "key_word_dict['Education'] = ['education','literacy']\n",
        "key_word_dict['Employment'] =['employed','employment','umemployed','unemployment']\n",
        "key_word_dict['Rural'] = ['rural','village']\n",
        "key_word_dict['Urban'] = ['urban','city']"
      ]
    },
    {
      "cell_type": "markdown",
      "metadata": {
        "_cell_guid": "6ca5ab89-0bec-e172-041e-6ffdd0ee7841"
      },
      "source": [
        "### Pick required fields\n",
        "- Now within specific topics we cah chose what ever indicators we are interested in\n"
      ]
    },
    {
      "cell_type": "code",
      "execution_count": null,
      "metadata": {
        "_cell_guid": "53436362-bdaa-5849-632d-6407d3621f82"
      },
      "outputs": [],
      "source": [
        "feature = 'Health'\n",
        "for indicator_ele in Indicators.values:\n",
        "    for ele in key_word_dict[feature]:\n",
        "        word_list = indicator_ele[0].split()\n",
        "        if ele in word_list or ele+'s' in word_list:\n",
        "            print(indicator_ele)\n",
        "            break"
      ]
    }
  ],
  "metadata": {
    "_change_revision": 0,
    "_is_fork": false,
    "kernelspec": {
      "display_name": "Python 3",
      "language": "python",
      "name": "python3"
    },
    "language_info": {
      "codemirror_mode": {
        "name": "ipython",
        "version": 3
      },
      "file_extension": ".py",
      "mimetype": "text/x-python",
      "name": "python",
      "nbconvert_exporter": "python",
      "pygments_lexer": "ipython3",
      "version": "3.5.2"
    }
  },
  "nbformat": 4,
  "nbformat_minor": 0
}