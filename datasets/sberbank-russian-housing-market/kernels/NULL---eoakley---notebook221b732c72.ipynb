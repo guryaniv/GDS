{
  "cells": [
    {
      "cell_type": "markdown",
      "metadata": {
        "_cell_guid": "a79e99b5-5136-0d0c-03a6-494cad25dcce"
      },
      "source": [
        ""
      ]
    },
    {
      "cell_type": "code",
      "execution_count": null,
      "metadata": {
        "_cell_guid": "78289fa5-7edc-68a8-c133-9491b26c3cce"
      },
      "outputs": [],
      "source": [
        "# -*- coding: utf-8 -*-\n",
        "\"\"\"\n",
        "Created on Tue May  2 10:35:34 2017\n",
        "\n",
        "@author: oakleye\n",
        "\"\"\"\n",
        "\n",
        "import sys\n",
        "import pandas as pd\n",
        "import seaborn as sns\n",
        "import numpy as np\n",
        "import matplotlib.pyplot as plt\n",
        "import xgboost as xgb\n",
        "from datetime import datetime\n",
        "from sklearn.linear_model import Ridge, LassoCV, Lasso, ElasticNet, LogisticRegression\n",
        "from sklearn.model_selection import cross_val_score, GridSearchCV, KFold, cross_val_predict\n",
        "from sklearn.metrics import mean_squared_error\n",
        "def rmsle(estimator, X, y):\n",
        "    p = estimator.predict(X)\n",
        "    return np.sqrt(mean_squared_error(np.log1p(y), np.log1p(p)))\n",
        "\n",
        "np.random.seed(1)\n",
        "pd.set_option(\"max_rows\", 500)\n",
        "\n",
        "train = pd.read_csv(\"../input/train.csv\")\n",
        "test = pd.read_csv(\"../input/test.csv\")\n",
        "macro = pd.read_csv(\"../input/macro.csv\")\n",
        "\n",
        "train = train.sample(frac=1, random_state=2)\n",
        "\n",
        "alldata = pd.concat((train,\n",
        "                      test))\n",
        "\n",
        "alldata.drop(\"price_doc\", axis=1, inplace=True)\n",
        "df = alldata.join(how='left',on='timestamp',other=macro,rsuffix='macro')\n",
        "\n",
        "#no/yes = false true\n",
        "yesNoCols = ['big_market_raion', 'big_road1_1line', 'culture_objects_top_25',\n",
        "             'detention_facility_raion', 'incineration_raion', 'nuclear_reactor_raion',\n",
        "             'oil_chemistry_raion', 'radiation_raion', 'railroad_1line',\n",
        "             'railroad_terminal_raion', 'thermal_power_plant_raion',\n",
        "             'water_1line' ]\n",
        "for col in yesNoCols:\n",
        "    df[col] = df[col].apply(lambda x: False if x=='no' else True)\n",
        "\n",
        "#ecology treatment\n",
        "def ecoNum(s):\n",
        "    if s=='poor': return 0\n",
        "    elif s=='no data': return np.nan\n",
        "    elif s=='good': return 2\n",
        "    elif s=='excellent': return 3\n",
        "    elif s=='satisfactory': return 1\n",
        "\n",
        "df.ecology = df.ecology.apply(ecoNum)        \n",
        "\n",
        "#CATEGORICAL para 1-N em algumas colunas\n",
        "categoricals = ['product_type', 'sub_area']\n",
        "for category in categoricals:\n",
        "    df[category] = df[category].astype('category').cat.codes\n",
        "\n",
        "#timestamp treatment\n",
        "df.timestamp = df.timestamp.apply(lambda x: datetime.strptime(x, '%Y-%m-%d'))\n",
        "#timestamp => days ago\n",
        "#time now\n",
        "timestamp_max = datetime.strptime('2016-05-30', '%Y-%m-%d')\n",
        "df.timestamp = df.timestamp.apply(lambda x: (timestamp_max - x).days)\n",
        "\n",
        "drops = ['modern_education_share', 'old_education_build_share', 'child_on_acc_pre_school',\n",
        "         'timestampmacro']\n",
        "df.drop(axis=1, labels=drops, inplace=True)\n",
        "\n",
        "#drop columns with all NA\n",
        "df.dropna('columns', 'all', inplace=True)\n",
        "\n",
        "#Fill na with -1\n",
        "df.fillna(-1, inplace=True)\n",
        "\n",
        "\n",
        "\n",
        "#creating matrices for sklearn:\n",
        "X_train = df[:train.shape[0]]\n",
        "X_test = df[train.shape[0]:]\n",
        "y = train.price_doc\n",
        "\n"
      ]
    },
    {
      "cell_type": "code",
      "execution_count": null,
      "metadata": {
        "_cell_guid": "1f609235-41dd-24db-c81c-f718589f513a"
      },
      "outputs": [],
      "source": [
        "#X GRAD BOOST                                  \n",
        "model_xgb = xgb.XGBRegressor( seed=1, silent=0, \n",
        "                              min_child_weight=1,\n",
        "                              subsample=1.0, # % das samples usadas p treino\n",
        "                              colsample_bytree=1.0,  # % de features usadas em cada arvore\n",
        "                              gamma=0.3, reg_alpha=2.0, \n",
        "                                        reg_lambda=1.5,\n",
        "                              n_estimators=100, max_depth=5, learning_rate=0.1)\n",
        "                              #learn 0.2 = 250\n",
        "\n",
        "percent=0.06\n",
        "maxn = int(percent*len(X_train))\n",
        "\n",
        "validation_x = X_train[maxn:maxn*2]\n",
        "validation_y = y[maxn:maxn*2]\n",
        "model = model_xgb.fit(X_train[:maxn], y[:maxn], eval_metric='rmse', verbose=True, eval_set=[(validation_x,validation_y)], early_stopping_rounds=50)\n"
      ]
    },
    {
      "cell_type": "code",
      "execution_count": null,
      "metadata": {
        "_cell_guid": "f9159601-995b-a41a-f8e6-17c5ca685065"
      },
      "outputs": [],
      "source": [
        "model = model_xgb\n",
        "model.fit(X_train, y, eval_metric='rmse', verbose=True)\n",
        "\n",
        "preds = model.predict(X_test)\n",
        "\n",
        "solution = pd.DataFrame({\"id\":test.id, \"price_doc\":preds})\n",
        "solution = solution[['id', 'price_doc']]\n",
        "solution.to_csv(\"sol_xgb1.csv\", index = False)"
      ]
    }
  ],
  "metadata": {
    "_change_revision": 0,
    "_is_fork": false,
    "kernelspec": {
      "display_name": "Python 3",
      "language": "python",
      "name": "python3"
    },
    "language_info": {
      "codemirror_mode": {
        "name": "ipython",
        "version": 3
      },
      "file_extension": ".py",
      "mimetype": "text/x-python",
      "name": "python",
      "nbconvert_exporter": "python",
      "pygments_lexer": "ipython3",
      "version": "3.6.0"
    }
  },
  "nbformat": 4,
  "nbformat_minor": 0
}