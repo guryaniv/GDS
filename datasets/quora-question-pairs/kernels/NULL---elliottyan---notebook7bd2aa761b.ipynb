{
  "cells": [
    {
      "cell_type": "code",
      "execution_count": null,
      "metadata": {
        "_cell_guid": "2eaca554-6af5-6f8c-64ae-c85f065310a2",
        "collapsed": true
      },
      "outputs": [],
      "source": [
        "import numpy as np # linear algebra\n",
        "import pandas as pd # data processing, CSV file I/O (e.g. pd.read_csv)\n",
        "import os\n",
        "import gc\n",
        "import matplotlib.pyplot as plt\n",
        "import seaborn as sns\n",
        "%matplotlib inline"
      ]
    },
    {
      "cell_type": "code",
      "execution_count": null,
      "metadata": {
        "_cell_guid": "8569f9c1-16fb-12e1-db54-4bfa924752fd"
      },
      "outputs": [],
      "source": [
        "input = '../input/'"
      ]
    },
    {
      "cell_type": "code",
      "execution_count": null,
      "metadata": {
        "_cell_guid": "f0d5e66d-e82b-4072-69ff-fef2885e083d"
      },
      "outputs": [],
      "source": [
        "df_train = pd.read_csv(input+\"train.csv\")\n",
        "df_test = pd.read_csv(input+\"test.csv\")"
      ]
    },
    {
      "cell_type": "code",
      "execution_count": null,
      "metadata": {
        "_cell_guid": "26bc1dcf-3dd1-1365-a3e8-4b8fc6c51d39",
        "collapsed": true
      },
      "outputs": [],
      "source": [
        "qids = pd.Series(df_train['qid1'].tolist()+df_train['qid2'].tolist())"
      ]
    },
    {
      "cell_type": "code",
      "execution_count": null,
      "metadata": {
        "_cell_guid": "95f2458c-3bf1-ecd4-3f12-f727d561d1ad",
        "collapsed": true
      },
      "outputs": [],
      "source": [
        "train_qs = pd.Series(df_train[\"question1\"].tolist()+df_train['question2'].tolist()).astype(str)\n",
        "test_qs = pd.Series(df_test[\"question1\"].tolist()+df_test['question2'].tolist()).astype(str)"
      ]
    },
    {
      "cell_type": "markdown",
      "metadata": {
        "_cell_guid": "70634d3b-01ac-ccdc-ecba-d326ef9f5658"
      },
      "source": [
        "if 150 characters' steep down are the limit, how could there be some question got over 150 words?"
      ]
    },
    {
      "cell_type": "code",
      "execution_count": null,
      "metadata": {
        "_cell_guid": "6dde330a-f6fb-b66d-979d-ec3c692dd17e",
        "collapsed": true
      },
      "outputs": [],
      "source": [
        "import re\n",
        "r = re.compile(\"[ ,.?]\")"
      ]
    },
    {
      "cell_type": "markdown",
      "metadata": {
        "_cell_guid": "30f66fb8-edf4-ff9b-8aaa-673a868c3f06"
      },
      "source": [
        "max word limit may be 70? The two distribution are very similar."
      ]
    },
    {
      "cell_type": "markdown",
      "metadata": {
        "_cell_guid": "42a859d1-0015-8f26-1296-5885cca21718"
      },
      "source": [
        "By using the feature like number of shared words, we have the following idea."
      ]
    },
    {
      "cell_type": "code",
      "execution_count": null,
      "metadata": {
        "_cell_guid": "119f2790-c873-5476-6aa0-fe74221554f0",
        "collapsed": true
      },
      "outputs": [],
      "source": [
        "from nltk.corpus import stopwords\n",
        "\n",
        "stops = set(stopwords.words('english'))|set([''])"
      ]
    },
    {
      "cell_type": "code",
      "execution_count": null,
      "metadata": {
        "_cell_guid": "65c0e9b6-6e66-1269-b79c-305ff91b219d"
      },
      "outputs": [],
      "source": [
        "def word_match(row):\n",
        "    q1_word = {}\n",
        "    q2_word = {}\n",
        "    for word in r.split(str(row[\"question1\"]).lower()):\n",
        "        if word not in stops:\n",
        "            q1_word[word] = 1\n",
        "    for word in r.split(str(row[\"question2\"]).lower()):\n",
        "        if word not in stops:\n",
        "            q2_word[word] = 1\n",
        "    if len(q1_word) == 0 or len(q2_word)==0:\n",
        "        return 0\n",
        "    shared_word_in_q1 = [w for w in q1_word.keys() if w in q2_word]\n",
        "    shared_word_in_q2 = [w for w in q2_word.keys() if w in q1_word]\n",
        "    R = (len(shared_word_in_q1)+len(shared_word_in_q2))/(len(q1_word)+len(q2_word))\n",
        "    return R\n",
        "\n",
        "train_word_related = df_train.apply(word_match,axis = 1,raw = 1)"
      ]
    },
    {
      "cell_type": "markdown",
      "metadata": {
        "_cell_guid": "8bb298ee-81ce-3203-f375-20c244ce22d7"
      },
      "source": [
        "Used stops to filter all words, and compute the relateness in question 1 and question 2."
      ]
    },
    {
      "cell_type": "code",
      "execution_count": null,
      "metadata": {
        "_cell_guid": "6f2d533d-c59a-ecfe-8259-058f37f5be2e"
      },
      "outputs": [],
      "source": [
        "from collections import Counter\n",
        "\n",
        "# If a word appears only once, we ignore it completely (likely a typo)\n",
        "# Epsilon defines a smoothing constant, which makes the effect of extremely rare words smaller\n",
        "def get_weight(count, eps=10000, min_count=2):\n",
        "    if count < min_count:\n",
        "        return 0\n",
        "    else:\n",
        "        return 1 / (count + eps)\n",
        "\n",
        "eps = 5000 \n",
        "words = r.split((\" \".join(train_qs)).lower())\n",
        "counts = Counter(words)\n",
        "weights = {word: get_weight(count) for word, count in counts.items() if word != \"\"}"
      ]
    },
    {
      "cell_type": "markdown",
      "metadata": {
        "_cell_guid": "5db82a83-6852-b0d9-69b6-68953a3cbb22"
      },
      "source": [
        "Because we filter the only-once appearance, so we need some specific operation on x==0.\n",
        "Also, the re.split() will create a lot null str, I also remove that from weights."
      ]
    },
    {
      "cell_type": "code",
      "execution_count": null,
      "metadata": {
        "_cell_guid": "33353a06-f10a-842b-68a2-6ab5efa2a806"
      },
      "outputs": [],
      "source": [
        "print(\"Most commonly used words are: \\n\")\n",
        "print(sorted(weights.items(),key=lambda x: x[1] if x[1]>0 else 9999)[:10])\n",
        "print(\"\\nLeast commonly used words are: \\n\")\n",
        "print(sorted(weights.items(),key=lambda x: x[1],reverse = True)[:10])"
      ]
    },
    {
      "cell_type": "code",
      "execution_count": null,
      "metadata": {
        "_cell_guid": "f560d88b-77a8-c096-87d1-0fc76b698023",
        "collapsed": true
      },
      "outputs": [],
      "source": [
        "def tfidf_word_match_share(row):\n",
        "    q1words = {}\n",
        "    q2words = {}\n",
        "    for word in r.split(str(row['question1']).lower()):\n",
        "        if word not in stops:\n",
        "            q1words[word] = 1\n",
        "    for word in r.split(str(row['question2']).lower()):\n",
        "        if word not in stops:\n",
        "            q2words[word] = 1\n",
        "    if len(q1words) == 0 or len(q2words) == 0:\n",
        "        # The computer-generated chaff includes a few questions that are nothing but stopwords\n",
        "        return 0\n",
        "    \n",
        "    shared_weights = [weights.get(w, 0) for w in q1words.keys() if w in q2words] + [weights.get(w, 0) for w in q2words.keys() if w in q1words]\n",
        "    total_weights = [weights.get(w, 0) for w in q1words] + [weights.get(w, 0) for w in q2words]\n",
        "    \n",
        "    R = np.sum(shared_weights) / np.sum(total_weights)\n",
        "    return R"
      ]
    },
    {
      "cell_type": "code",
      "execution_count": null,
      "metadata": {
        "_cell_guid": "0490467f-2388-82b9-42dc-bb3e3f4b6b57"
      },
      "outputs": [],
      "source": [
        "tfidf_train_word_share = df_train.apply(tfidf_word_match_share,axis = 1, raw = True)"
      ]
    },
    {
      "cell_type": "code",
      "execution_count": null,
      "metadata": {
        "_cell_guid": "357033f8-4e1b-af16-6cd2-fe7b18b7eb67"
      },
      "outputs": [],
      "source": [
        "from sklearn.metrics import roc_auc_score\n",
        "print('Original AUC:', roc_auc_score(df_train['is_duplicate'], train_word_related))\n",
        "print('   TFIDF AUC:', roc_auc_score(df_train['is_duplicate'], tfidf_train_word_share.fillna(0)))"
      ]
    },
    {
      "cell_type": "markdown",
      "metadata": {
        "_cell_guid": "d524ff59-38e8-b372-74c6-7d208d04e680"
      },
      "source": [
        "Rebalancing data"
      ]
    },
    {
      "cell_type": "code",
      "execution_count": null,
      "metadata": {
        "_cell_guid": "743bf6c2-e774-cff5-7429-d924a668693c",
        "collapsed": true
      },
      "outputs": [],
      "source": [
        "# First we create our training and testing data\n",
        "x_train = pd.DataFrame()\n",
        "x_test = pd.DataFrame()\n",
        "x_train['word_match'] = train_word_related\n",
        "x_train['tfidf_word_match'] = tfidf_train_word_share\n",
        "x_test['word_match'] = df_test.apply(word_match, axis=1, raw=True)\n",
        "x_test['tfidf_word_match'] = df_test.apply(tfidf_word_match_share, axis=1, raw=True)\n",
        "\n",
        "y_train = df_train['is_duplicate'].values"
      ]
    },
    {
      "cell_type": "code",
      "execution_count": null,
      "metadata": {
        "_cell_guid": "487b253a-0524-8c9f-07dd-020a5cf6bc2d",
        "collapsed": true
      },
      "outputs": [],
      "source": [
        "pos_train = x_train[y_train == 1]\n",
        "neg_train = x_train[y_train == 0]\n",
        "\n",
        "# Now we oversample the negative class\n",
        "# There is likely a much more elegant way to do this...\n",
        "p = 0.165\n",
        "scale = ((len(pos_train) / (len(pos_train) + len(neg_train))) / p) - 1\n",
        "while scale > 1:\n",
        "    neg_train = pd.concat([neg_train, neg_train])\n",
        "    scale -=1\n",
        "neg_train = pd.concat([neg_train, neg_train[:int(scale * len(neg_train))]])\n",
        "print(len(pos_train) / (len(pos_train) + len(neg_train)))\n",
        "\n",
        "x_train = pd.concat([pos_train, neg_train])\n",
        "y_train = (np.zeros(len(pos_train)) + 1).tolist() + np.zeros(len(neg_train)).tolist()\n",
        "del pos_train, neg_train"
      ]
    },
    {
      "cell_type": "code",
      "execution_count": null,
      "metadata": {
        "_cell_guid": "4f80515c-edac-1e03-64e2-b7a6136286c4"
      },
      "outputs": [],
      "source": [
        "from sklearn.cross_validation import train_test_split\n",
        "\n",
        "x_train, x_valid, y_train, y_valid = train_test_split(x_train, y_train, test_size=0.2, random_state=4242)"
      ]
    },
    {
      "cell_type": "code",
      "execution_count": null,
      "metadata": {
        "_cell_guid": "01221324-e81d-c5a0-e46e-b2b6b0af9b53"
      },
      "outputs": [],
      "source": [
        "x_train"
      ]
    },
    {
      "cell_type": "code",
      "execution_count": null,
      "metadata": {
        "_cell_guid": "71a77f79-d8ef-2d26-421d-25c2cbca113f"
      },
      "outputs": [],
      "source": [
        "import xgboost as xgb\n",
        "\n",
        "# Set our parameters for xgboost\n",
        "params = {}\n",
        "params['objective'] = 'binary:logistic'\n",
        "params['eval_metric'] = 'logloss'\n",
        "params['eta'] = 0.02\n",
        "params['max_depth'] = 4\n",
        "\n",
        "d_train = xgb.DMatrix(x_train, label=y_train)\n",
        "d_valid = xgb.DMatrix(x_valid, label=y_valid)\n",
        "\n",
        "watchlist = [(d_train, 'train'), (d_valid, 'valid')]\n",
        "\n",
        "bst = xgb.train(params, d_train, 400, watchlist, early_stopping_rounds=50, verbose_eval=10)"
      ]
    },
    {
      "cell_type": "code",
      "execution_count": null,
      "metadata": {
        "_cell_guid": "ae2447e0-f3f4-e45c-d360-65c5024f5069"
      },
      "outputs": [],
      "source": [
        "\n",
        "\n",
        "d_test = xgb.DMatrix(x_test)\n",
        "p_test = bst.predict(d_test)\n",
        "\n",
        "sub = pd.DataFrame()\n",
        "sub['test_id'] = df_test['test_id']\n",
        "sub['is_duplicate'] = p_test\n",
        "\n"
      ]
    },
    {
      "cell_type": "code",
      "execution_count": null,
      "metadata": {
        "_cell_guid": "066358a7-d843-4d7e-e78b-af83657f291c"
      },
      "outputs": [],
      "source": [
        "sub\n"
      ]
    },
    {
      "cell_type": "code",
      "execution_count": null,
      "metadata": {
        "_cell_guid": "02ad4e8a-4846-a36a-6e8a-27253cf885c0"
      },
      "outputs": [],
      "source": [
        "sub.to_csv('prediction2049.csv', index=False)\n"
      ]
    },
    {
      "cell_type": "code",
      "execution_count": null,
      "metadata": {
        "_cell_guid": "291a79a9-7b6f-2eb1-de18-179d8d756526"
      },
      "outputs": [],
      "source": [
        "sub2 = pd.read_csv('prediction2049.csv')\n",
        "sub2"
      ]
    }
  ],
  "metadata": {
    "_change_revision": 0,
    "_is_fork": false,
    "kernelspec": {
      "display_name": "Python 3",
      "language": "python",
      "name": "python3"
    },
    "language_info": {
      "codemirror_mode": {
        "name": "ipython",
        "version": 3
      },
      "file_extension": ".py",
      "mimetype": "text/x-python",
      "name": "python",
      "nbconvert_exporter": "python",
      "pygments_lexer": "ipython3",
      "version": "3.6.0"
    }
  },
  "nbformat": 4,
  "nbformat_minor": 0
}