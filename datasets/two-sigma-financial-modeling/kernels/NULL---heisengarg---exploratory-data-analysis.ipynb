{
  "cells": [
    {
      "cell_type": "markdown",
      "metadata": {
        "_cell_guid": "eb15584f-017b-2301-c017-f15f35f24707"
      },
      "source": [
        "## This is my approach to understand the competition problem dataset. I still have to figure out using the competition API, cleaning of data, regression technique to use etc. So basically most of it ...\n",
        "\n",
        "### Happy to receive feedback from all of you :)"
      ]
    },
    {
      "cell_type": "code",
      "execution_count": null,
      "metadata": {
        "_cell_guid": "43b4c202-6935-4cae-071e-d8b97611a04b",
        "collapsed": true
      },
      "outputs": [],
      "source": [
        "import pandas as pd\n",
        "import numpy as np\n",
        "import seaborn as sns\n",
        "import matplotlib.pyplot as plt\n",
        "%matplotlib inline"
      ]
    },
    {
      "cell_type": "code",
      "execution_count": null,
      "metadata": {
        "_cell_guid": "18dee9d7-9579-0e93-0cf5-c70af67760de"
      },
      "outputs": [],
      "source": [
        "df=pd.read_hdf(\"../input/train.h5\")"
      ]
    },
    {
      "cell_type": "markdown",
      "metadata": {
        "_cell_guid": "493417d7-46d7-6a02-fcfb-12a3bc2a45da"
      },
      "source": [
        "### First look at the dataset"
      ]
    },
    {
      "cell_type": "code",
      "execution_count": null,
      "metadata": {
        "_cell_guid": "79bb1747-0d0c-759c-a8e3-739010e8564d"
      },
      "outputs": [],
      "source": [
        "df.shape"
      ]
    },
    {
      "cell_type": "code",
      "execution_count": null,
      "metadata": {
        "_cell_guid": "a43856fc-0e98-ceea-46af-59812e975982"
      },
      "outputs": [],
      "source": [
        "df.head()"
      ]
    },
    {
      "cell_type": "markdown",
      "metadata": {
        "_cell_guid": "19931408-8c25-3147-a8e7-8db0f8a1ff49"
      },
      "source": [
        "So we have more than 100 features or variables. We can also see a bunch of missing values in our dataset. \n",
        "\n",
        "***No other information has been provided through the challenge about the data.*\n"
      ]
    },
    {
      "cell_type": "markdown",
      "metadata": {
        "_cell_guid": "4bb6763a-76c7-c144-9476-309938ac4e1b"
      },
      "source": [
        "### Lets remove/handle the missing data"
      ]
    },
    {
      "cell_type": "code",
      "execution_count": null,
      "metadata": {
        "_cell_guid": "26b083f9-d275-a583-5974-f4780cff2ca9"
      },
      "outputs": [],
      "source": [
        "#df.describe()"
      ]
    },
    {
      "cell_type": "markdown",
      "metadata": {
        "_cell_guid": "fb9f9ec4-7b87-c302-68c5-f647b5e5239d"
      },
      "source": [
        "To get a better idea of the dataset in terms of values each feature holds"
      ]
    },
    {
      "cell_type": "code",
      "execution_count": null,
      "metadata": {
        "_cell_guid": "52fac532-84fb-7a5d-e449-1c8393b0d740"
      },
      "outputs": [],
      "source": [
        "df.isnull().any()"
      ]
    },
    {
      "cell_type": "markdown",
      "metadata": {
        "_cell_guid": "ebbb2140-75cf-0186-4d33-b617f610e30a"
      },
      "source": [
        "Most of the columns look like they have null values so we can consider interpolating data. Since, no information about the dataset is available we will avoid that for and look at row wise values as of now."
      ]
    },
    {
      "cell_type": "code",
      "execution_count": null,
      "metadata": {
        "_cell_guid": "a3262dad-a588-3415-d00c-9a9c633d8b77"
      },
      "outputs": [],
      "source": [
        "#Super slow method to find all the rows with no NaN values in any of the columns\n",
        "\n",
        "#count=0\n",
        "#for x in range(len(df)-1710750):\n",
        "#    if not any(df.isnull().values[x]):\n",
        "#        count=count+1"
      ]
    },
    {
      "cell_type": "code",
      "execution_count": null,
      "metadata": {
        "_cell_guid": "4677c849-1200-e1ae-7dd1-10d73586190a"
      },
      "outputs": [],
      "source": [
        "df_clean=df.dropna(axis='index',how='any')\n",
        "df_clean.shape"
      ]
    },
    {
      "cell_type": "code",
      "execution_count": null,
      "metadata": {
        "_cell_guid": "303a3b0a-4b87-f09c-c20b-abefc13541bb"
      },
      "outputs": [],
      "source": [
        "df_clean.shape[0]/df.shape[0]*100"
      ]
    },
    {
      "cell_type": "markdown",
      "metadata": {
        "_cell_guid": "1e0f263b-00db-ad7d-928c-f4f6775ae1da"
      },
      "source": [
        "So only 13% of the records(timestamps) have values in all columns. Lets look how each column performs in terms of missing data. This information might help in deciding if we should interpolate missing data or directly remove it."
      ]
    },
    {
      "cell_type": "code",
      "execution_count": null,
      "metadata": {
        "_cell_guid": "c57a8042-b92b-ee89-c7bc-debe78f80659",
        "collapsed": true
      },
      "outputs": [],
      "source": [
        "def count_missing(df):\n",
        "    stats={}\n",
        "    for x in range(len(df.columns)):        \n",
        "        stats[df.columns[x]]=df[df.columns[x]].isnull().sum()/len(df[df.columns[x]])*100\n",
        "    return stats"
      ]
    },
    {
      "cell_type": "code",
      "execution_count": null,
      "metadata": {
        "_cell_guid": "58c256c6-ecc0-4cba-e527-19eb1f896349"
      },
      "outputs": [],
      "source": [
        "res=count_missing(df)"
      ]
    },
    {
      "cell_type": "code",
      "execution_count": null,
      "metadata": {
        "_cell_guid": "dd8a7874-5ab9-0b0a-0574-f002fe996aa0"
      },
      "outputs": [],
      "source": [
        "plt.figure(figsize=(10,25))\n",
        "plt.barh(range(0,111),res.values(),align='center')\n",
        "plt.yticks(range(0,111),(res.keys()))\n",
        "plt.autoscale()\n",
        "plt.show()"
      ]
    },
    {
      "cell_type": "markdown",
      "metadata": {
        "_cell_guid": "08d56518-f924-174e-f98f-af4b9b8133b3"
      },
      "source": [
        "### What all can we do with the missing data now...\n",
        "\n",
        "1. Remove it   \n",
        "2. Interpolate (but with no information about the data, it's kind of a shot in the dark)-choosing the appropriate   \n",
        "method is also tough\n",
        "3. Anything else I should know? :/   "
      ]
    },
    {
      "cell_type": "markdown",
      "metadata": {
        "_cell_guid": "12e55d73-00ec-0cde-1197-2248532df496"
      },
      "source": [
        "Let's try to plot the ones which have low errors and see if we can identify any trends"
      ]
    },
    {
      "cell_type": "code",
      "execution_count": null,
      "metadata": {
        "_cell_guid": "4aeb2337-cff1-9920-2911-cdd218119bc4"
      },
      "outputs": [],
      "source": [
        "low_err={k:v for (k,v) in res.items() if v<0.5}\n",
        "del low_err['id']\n",
        "del low_err['timestamp']\n",
        "del low_err['y']\n",
        "print((low_err),len(low_err))"
      ]
    },
    {
      "cell_type": "markdown",
      "metadata": {
        "_cell_guid": "af7a0b5b-55ce-2558-4b5c-a0a37bcc2e50"
      },
      "source": [
        "We will try to plot the features with less than 0.5% error and see if we can find any pattern in some of the features"
      ]
    },
    {
      "cell_type": "code",
      "execution_count": null,
      "metadata": {
        "_cell_guid": "b6cafaab-db08-f22f-3dff-263a41bee4ba"
      },
      "outputs": [],
      "source": [
        "l=list(low_err.keys())\n",
        "for i in range(len(low_err)):\n",
        "    plt.figure(figsize=(15,5))\n",
        "    plt.scatter(y=df[l[i]],x=df['timestamp'])\n",
        "    plt.title(l[i],fontsize=15)\n",
        "    plt.xlabel('Timestamp Value')\n",
        "    plt.ylabel('Value')\n",
        "    plt.xlim(0,1900)"
      ]
    },
    {
      "cell_type": "markdown",
      "metadata": {
        "_cell_guid": "29b0b93e-5c93-4ef8-d725-023a1a82be83"
      },
      "source": [
        "### Let's now look at the distribution of data in these features."
      ]
    },
    {
      "cell_type": "code",
      "execution_count": null,
      "metadata": {
        "_cell_guid": "90b4acb3-ce36-aa85-8fd7-6e990f18411a"
      },
      "outputs": [],
      "source": [
        "for i in range(len(low_err)):\n",
        "    plt.figure(figsize=(15,5))\n",
        "    #plt.scatter(y=df[l[i]],x=df['timestamp'])\n",
        "    sns.distplot(df[l[i]].dropna().values)  #Removed NaN values for now\n",
        "    plt.title(l[i],fontsize=15)\n",
        "    plt.xlabel('Value')\n",
        "    plt.ylabel('Frequency')\n",
        "    "
      ]
    },
    {
      "cell_type": "markdown",
      "metadata": {
        "_cell_guid": "81c8a9f6-925d-ffa2-6d2a-4e58c92c2f62"
      },
      "source": [
        "### Checking correlation of all the features (total 108 for now) with y.     \n",
        "*Note: We used df_clean and not df here.*"
      ]
    },
    {
      "cell_type": "code",
      "execution_count": null,
      "metadata": {
        "_cell_guid": "b6859924-5a96-b0ff-9a20-e5d2bd53afb0"
      },
      "outputs": [],
      "source": [
        "plt.figure(figsize=(30,20))\n",
        "sns.heatmap(df_clean.corr(method='pearson', min_periods=1),cmap='RdYlGn')"
      ]
    },
    {
      "cell_type": "markdown",
      "metadata": {
        "_cell_guid": "b06f3f47-eba9-6ffb-7567-5044932c50ca"
      },
      "source": [
        "### None of the features have a strong linear correlation with y (We checked for pearson correlation here). Spearman correation takes a lot of processing time and thus we will limit it to features which have less than 0.5% missing values in the dataset.\n",
        "\n",
        "### Some observation points:\n",
        "\n",
        "1. Features under the tag of \"fundamental\" have some kind of correlation among them as you can see from the box in top left quadrant of the heatmap. Similarly, \"technical\" features are somewhat related to each other (bottom right quadrant).    \n",
        "2. A relatively lower correlation is seen between the two types of features. (Not a lot of greens and reds in the top right and bottom left quadrant of the heatmap).     \n",
        "3. Some of the features have close correlation to their neighbors as can be seen from green clusters on the diagnol.\n",
        "\n",
        "\n"
      ]
    },
    {
      "cell_type": "code",
      "execution_count": null,
      "metadata": {
        "_cell_guid": "081ec346-866b-9fbf-f771-1a12dbd9238b"
      },
      "outputs": [],
      "source": [
        "plt.figure(figsize=(20,20))\n",
        "sns.heatmap(df_clean.corr(method='spearman', min_periods=1),cmap='RdYlGn')\n"
      ]
    },
    {
      "cell_type": "markdown",
      "metadata": {
        "_cell_guid": "b4077efc-dd17-2871-0ae0-7c2ec1acf52d"
      },
      "source": [
        "Spearman correlation reinforces the observation points while checking non-linear correlations as well.\n"
      ]
    },
    {
      "cell_type": "markdown",
      "metadata": {
        "_cell_guid": "b3d489d9-956f-2531-52c2-50729d5d6c2e"
      },
      "source": [
        "Let's have a look at univariate correaltion with the prediction variable."
      ]
    },
    {
      "cell_type": "code",
      "execution_count": null,
      "metadata": {
        "_cell_guid": "275f4500-0f60-2af9-1da8-8de46b754d4d"
      },
      "outputs": [],
      "source": [
        "plt.figure(figsize=(10,25))\n",
        "uni_cor=df_clean.apply(lambda x: x.corr(df[\"y\"],method='spearman'),axis=0)\n",
        "uni_cor=uni_cor.drop('y')\n",
        "uni_cor.sort_values(inplace=True)\n",
        "plt.barh(range(0,len(uni_cor)),uni_cor,align='center')\n",
        "plt.yticks(range(0,len(uni_cor)),list(df_clean.columns.values))\n",
        "plt.autoscale()\n",
        "plt.show()"
      ]
    },
    {
      "cell_type": "markdown",
      "metadata": {
        "_cell_guid": "3e2c97fd-8a66-c11d-838b-2ac33bec646c"
      },
      "source": [
        "As we can see the correlations are not very strong for any variable individually. So we need a to emphasize a lot on feature selection."
      ]
    },
    {
      "cell_type": "markdown",
      "metadata": {
        "_cell_guid": "146fa019-e6f9-36c5-2eb2-821eb317a362"
      },
      "source": [
        "### To focus on:\n",
        "\n",
        "1. How to deal with missing values - Remove directly (df_clean) or use some kind of interpolation.\n",
        "2. Which features are to be used?\n",
        "3. Which Regeression model to use?"
      ]
    },
    {
      "cell_type": "markdown",
      "metadata": {
        "_cell_guid": "e28797f2-4e41-1b05-3173-5f047db9c9b7"
      },
      "source": [
        "### Ok this exploration stuff is getting boring now. Lets try some regression methods and see what we get from the clean dataset (~13% of the total values). We switch to the other notebook for that.\n",
        "\n",
        "*Will keep you guys posted when i make some progress*"
      ]
    },
    {
      "cell_type": "markdown",
      "metadata": {
        "_cell_guid": "4277eeec-f73a-21f0-a080-43a756e79e0f"
      },
      "source": [
        ""
      ]
    },
    {
      "cell_type": "code",
      "execution_count": null,
      "metadata": {
        "_cell_guid": "f37d0fc2-7e66-8fe2-3283-a35c1c38a6de"
      },
      "outputs": [],
      "source": [
        ""
      ]
    },
    {
      "cell_type": "code",
      "execution_count": null,
      "metadata": {
        "_cell_guid": "f1bc5cda-12b6-2b90-94b3-0a999e4aeae8"
      },
      "outputs": [],
      "source": [
        ""
      ]
    },
    {
      "cell_type": "code",
      "execution_count": null,
      "metadata": {
        "_cell_guid": "bfadf395-4087-bf1b-19da-5880968a516a"
      },
      "outputs": [],
      "source": [
        ""
      ]
    },
    {
      "cell_type": "markdown",
      "metadata": {
        "_cell_guid": "31ce95f8-469c-ff33-0af1-b553b9135eb4"
      },
      "source": [
        ""
      ]
    },
    {
      "cell_type": "markdown",
      "metadata": {
        "_cell_guid": "3bc592e2-69e4-3d8f-2276-b23280d04e73"
      },
      "source": [
        ""
      ]
    },
    {
      "cell_type": "code",
      "execution_count": null,
      "metadata": {
        "_cell_guid": "a3ebe7be-a518-7d30-4943-0cffb9060949"
      },
      "outputs": [],
      "source": [
        ""
      ]
    },
    {
      "cell_type": "markdown",
      "metadata": {
        "_cell_guid": "6307981e-2618-fddc-ebfa-e853b99e2a5c"
      },
      "source": [
        ""
      ]
    },
    {
      "cell_type": "code",
      "execution_count": null,
      "metadata": {
        "_cell_guid": "0c46f2b4-6874-2ff0-3525-cb72cd46938e"
      },
      "outputs": [],
      "source": [
        ""
      ]
    },
    {
      "cell_type": "markdown",
      "metadata": {
        "_cell_guid": "652500e3-8e16-ed04-8392-7017bf26f52c"
      },
      "source": [
        ""
      ]
    },
    {
      "cell_type": "code",
      "execution_count": null,
      "metadata": {
        "_cell_guid": "0a898677-57e6-ebd5-2ce1-dad6fc63ecab"
      },
      "outputs": [],
      "source": [
        ""
      ]
    },
    {
      "cell_type": "markdown",
      "metadata": {
        "_cell_guid": "f2942a1a-b280-3932-11d4-76573c80ba0b"
      },
      "source": [
        ""
      ]
    },
    {
      "cell_type": "code",
      "execution_count": null,
      "metadata": {
        "_cell_guid": "27dc7466-4128-0016-78bf-ab92cee001d0"
      },
      "outputs": [],
      "source": [
        ""
      ]
    },
    {
      "cell_type": "markdown",
      "metadata": {
        "_cell_guid": "e906599d-622f-9c15-3fee-8ed3c774a65a"
      },
      "source": [
        ""
      ]
    },
    {
      "cell_type": "code",
      "execution_count": null,
      "metadata": {
        "_cell_guid": "888ab3cc-4dc3-319d-7c06-c10971096587"
      },
      "outputs": [],
      "source": [
        ""
      ]
    },
    {
      "cell_type": "markdown",
      "metadata": {
        "_cell_guid": "a883bb05-85f2-652d-2d4d-8a909f44e1ba"
      },
      "source": [
        ""
      ]
    },
    {
      "cell_type": "markdown",
      "metadata": {
        "_cell_guid": "4bf6df10-ca31-e7b4-d829-865347aced5b"
      },
      "source": [
        ""
      ]
    },
    {
      "cell_type": "code",
      "execution_count": null,
      "metadata": {
        "_cell_guid": "527c2a38-541a-75d5-c205-a8911d56cbcd"
      },
      "outputs": [],
      "source": [
        ""
      ]
    },
    {
      "cell_type": "markdown",
      "metadata": {
        "_cell_guid": "b9fab690-7292-0ed0-bf54-1e637acd1626"
      },
      "source": [
        ""
      ]
    },
    {
      "cell_type": "markdown",
      "metadata": {
        "_cell_guid": "52ae0fb9-5b6d-c917-a1c0-b9e5ef1832a0"
      },
      "source": [
        ""
      ]
    },
    {
      "cell_type": "markdown",
      "metadata": {
        "_cell_guid": "61b00930-41fe-8282-67a0-425043c05577",
        "collapsed": true
      },
      "source": [
        ""
      ]
    },
    {
      "cell_type": "markdown",
      "metadata": {
        "_cell_guid": "d6497fad-60ec-a819-9d28-c90374bec51a"
      },
      "source": [
        ""
      ]
    }
  ],
  "metadata": {
    "_change_revision": 0,
    "_is_fork": false,
    "kernelspec": {
      "display_name": "Python 3",
      "language": "python",
      "name": "python3"
    },
    "language_info": {
      "codemirror_mode": {
        "name": "ipython",
        "version": 3
      },
      "file_extension": ".py",
      "mimetype": "text/x-python",
      "name": "python",
      "nbconvert_exporter": "python",
      "pygments_lexer": "ipython3",
      "version": "3.5.2"
    }
  },
  "nbformat": 4,
  "nbformat_minor": 0
}