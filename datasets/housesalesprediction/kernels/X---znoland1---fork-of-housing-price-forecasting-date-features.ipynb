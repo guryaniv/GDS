{
  "cells": [
    {
      "cell_type": "code",
      "execution_count": null,
      "metadata": {
        "_cell_guid": "36bf0dd7-5f3c-29ff-1d2a-41f496e0939a"
      },
      "outputs": [],
      "source": [
        "%matplotlib inline\n",
        "import numpy as np\n",
        "import pandas as pd\n",
        "import seaborn as sns\n",
        "import matplotlib.pyplot as plt\n",
        "\n",
        "df = pd.read_csv('../input/kc_house_data.csv')\n",
        "df.head()"
      ]
    },
    {
      "cell_type": "code",
      "execution_count": null,
      "metadata": {
        "_cell_guid": "f1633e0b-5137-584c-d0f1-d7f6434df3d7"
      },
      "outputs": [],
      "source": [
        "# Get Year and Month\n",
        "df['Year'], df['Month'] = df['date'].str[:4], df['date'].str[4:6]\n",
        "df.head()"
      ]
    },
    {
      "cell_type": "code",
      "execution_count": null,
      "metadata": {
        "_cell_guid": "ca036ce1-1f07-a145-2dcf-d625b8f34e7a"
      },
      "outputs": [],
      "source": [
        "# Review info\n",
        "df.info()"
      ]
    },
    {
      "cell_type": "code",
      "execution_count": null,
      "metadata": {
        "_cell_guid": "4e781e58-6ff0-bda1-7d50-93ac9e5576b5"
      },
      "outputs": [],
      "source": [
        "plt.figure(figsize=(15,12))\n",
        "mask = np.zeros_like(df.corr())\n",
        "mask[np.triu_indices_from(mask)] = True\n",
        "with sns.axes_style('white'):\n",
        "    ax = sns.heatmap(df.corr(), mask=mask, vmax=.3, annot=True)"
      ]
    },
    {
      "cell_type": "code",
      "execution_count": null,
      "metadata": {
        "_cell_guid": "b7fbcad1-d360-14de-91dc-d209b932456b"
      },
      "outputs": [],
      "source": [
        "# Split label from X\n",
        "y = df['price']\n",
        "X = df.drop('price', axis=1)"
      ]
    },
    {
      "cell_type": "code",
      "execution_count": null,
      "metadata": {
        "_cell_guid": "63239643-39c5-cef8-3f6a-2913316a456b"
      },
      "outputs": [],
      "source": [
        "# Convert yr_renovated to years since renovation\n",
        "X['sold_year'] = X['date'].apply(lambda x: int(x[:4]))\n",
        "X['yrs_since_renovated'] = (X['sold_year'] - X['yr_renovated'][X['yr_renovated'] != 0]).fillna(0)\n",
        "\n",
        "# Create dummy features for zip code\n",
        "zip_dummies = pd.get_dummies(X['zipcode'], prefix='zipcode')\n",
        "X = pd.concat([X, zip_dummies], axis=1)\n",
        "\n",
        "# Create dummy features for year and month\n",
        "year_dummies = pd.get_dummies(X['Year'], prefix='year')\n",
        "month_dummies = pd.get_dummies(X['Month'], prefix='month')\n",
        "X = pd.concat([X, year_dummies, month_dummies], axis=1)\n",
        "\n",
        "# Drop certain features now, revisit later to add\n",
        "X = X.drop(['date', 'yr_renovated', 'sold_year', 'zipcode', 'id'], axis=1)\n",
        "\n",
        "\n",
        "X.head()"
      ]
    },
    {
      "cell_type": "code",
      "execution_count": null,
      "metadata": {
        "_cell_guid": "af98cd42-a5c3-6b72-71e5-bdc504f76ee8"
      },
      "outputs": [],
      "source": [
        "from sklearn.linear_model import LinearRegression, Lasso\n",
        "from sklearn.model_selection import train_test_split\n",
        "from sklearn.metrics import mean_squared_error\n",
        "from sklearn.preprocessing import PolynomialFeatures\n",
        "\n",
        "# Create Polynomial Features\n",
        "poly = PolynomialFeatures(2)\n",
        "X_poly = poly.fit_transform(X)\n",
        "\n",
        "# Split train and test sets\n",
        "X_train, X_test, y_train, y_test = train_test_split(X_poly, y, test_size=0.4)\n",
        "\n",
        "# Fit model\n",
        "model = LinearRegression()\n",
        "model.fit(X_train, y_train)\n",
        "\n",
        "# Return MSE\n",
        "print('Train set MSE: {}'.format(mean_squared_error(y_train, model.predict(X_train))))\n",
        "print('Test set MSE: {}'.format(mean_squared_error(y_test, model.predict(X_test))))"
      ]
    },
    {
      "cell_type": "code",
      "execution_count": null,
      "metadata": {
        "_cell_guid": "b9ea1199-5e7a-1ec9-9301-14ad7638fc37"
      },
      "outputs": [],
      "source": [
        "# Return R^2\n",
        "print('Train Score: {:.2f}'.format(model.score(X_train, y_train)))\n",
        "print('Test Score: {:.2f}'.format(model.score(X_test, y_test)))"
      ]
    },
    {
      "cell_type": "code",
      "execution_count": null,
      "metadata": {
        "_cell_guid": "0d1268bc-8726-7213-63bb-4b3a39ffb9fd"
      },
      "outputs": [],
      "source": [
        "# Kaggle kept timeing out when generating the Learning curve, so I commented it out \n",
        "\n",
        "# any ideas why this happens?\n",
        "\n",
        "\n",
        "\n",
        "# Debug learning Curve\n",
        "#from sklearn.model_selection import learning_curve\n",
        "#\n",
        "#train_sizes, train_scores, valid_scores = learning_curve(model, X_train, y_train, \n",
        "#                                                         train_sizes=np.linspace(.1, 1.0, 5), cv=5)"
      ]
    },
    {
      "cell_type": "code",
      "execution_count": null,
      "metadata": {
        "_cell_guid": "54ce7a4e-afaa-eda1-dc9b-ecdd513f889e"
      },
      "outputs": [],
      "source": [
        "#plt.grid()\n",
        "#plt.plot(train_sizes, train_scores, label='Training Score')\n",
        "#plt.plot(train_sizes, valid_scores, label='Test Score')"
      ]
    },
    {
      "cell_type": "code",
      "execution_count": null,
      "metadata": {
        "_cell_guid": "1e70daf0-61d9-780e-5811-87950f6acd6c"
      },
      "outputs": [],
      "source": ""
    },
    {
      "cell_type": "code",
      "execution_count": null,
      "metadata": {
        "_cell_guid": "b8a9c296-16c5-68f6-311e-81e92d9b3cf4"
      },
      "outputs": [],
      "source": ""
    },
    {
      "cell_type": "code",
      "execution_count": null,
      "metadata": {
        "_cell_guid": "7104d3dc-0e22-2567-3597-231758005ad2"
      },
      "outputs": [],
      "source": ""
    },
    {
      "cell_type": "code",
      "execution_count": null,
      "metadata": {
        "_cell_guid": "5dc2becb-d586-1aee-64db-b427e23e91e0"
      },
      "outputs": [],
      "source": ""
    },
    {
      "cell_type": "code",
      "execution_count": null,
      "metadata": {
        "_cell_guid": "5740f1ae-e05c-4256-c791-e5fcfed62bfa"
      },
      "outputs": [],
      "source": ""
    }
  ],
  "metadata": {
    "_change_revision": 0,
    "_is_fork": false,
    "kernelspec": {
      "display_name": "Python 3",
      "language": "python",
      "name": "python3"
    },
    "language_info": {
      "codemirror_mode": {
        "name": "ipython",
        "version": 3
      },
      "file_extension": ".py",
      "mimetype": "text/x-python",
      "name": "python",
      "nbconvert_exporter": "python",
      "pygments_lexer": "ipython3",
      "version": "3.6.0"
    }
  },
  "nbformat": 4,
  "nbformat_minor": 0
}