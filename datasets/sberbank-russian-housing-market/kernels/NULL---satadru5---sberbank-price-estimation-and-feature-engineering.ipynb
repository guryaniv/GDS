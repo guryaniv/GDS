{
  "cells": [
    {
      "cell_type": "markdown",
      "metadata": {
        "_cell_guid": "fc3fda58-cef2-a7fd-9bbc-cfc6c1b23b58"
      },
      "source": [
        "**Feature engineering and XGBoost.**"
      ]
    },
    {
      "cell_type": "code",
      "execution_count": null,
      "metadata": {
        "_cell_guid": "f953a55d-7f8c-e875-9353-2f65c4f5ca56"
      },
      "outputs": [],
      "source": [
        "# This Python 3 environment comes with many helpful analytics libraries installed\n",
        "# It is defined by the kaggle/python docker image: https://github.com/kaggle/docker-python\n",
        "# For example, here's several helpful packages to load in \n",
        "\n",
        "import numpy as np # linear algebra\n",
        "import pandas as pd # data processing, CSV file I/O (e.g. pd.read_csv)\n",
        "import numpy as np # linear algebra\n",
        "import pandas as pd # data processing, CSV file I/O (e.g. pd.read_csv)\n",
        "import numpy as np # linear algebra\n",
        "import pandas as pd # data processing, CSV file I/O (e.g. pd.read_csv)\n",
        "import matplotlib as mpl\n",
        "import matplotlib.pyplot as plt\n",
        "import seaborn as sns\n",
        "%matplotlib inline\n",
        "import numpy as np # linear algebra\n",
        "import pandas as pd # data processing, CSV file I/O (e.g. pd.read_csv)\n",
        "import matplotlib.pyplot as plt\n",
        "import seaborn as sns\n",
        "from sklearn import model_selection, preprocessing\n",
        "import xgboost as xgb\n",
        "color = sns.color_palette()\n",
        "\n",
        "%matplotlib inline\n",
        "\n",
        "pd.options.mode.chained_assignment = None  # default='warn'\n",
        "pd.set_option('display.max_columns', 500)\n",
        "\n",
        "# Input data files are available in the \"../input/\" directory.\n",
        "# For example, running this (by clicking run or pressing Shift+Enter) will list the files in the input directory\n",
        "\n",
        "from subprocess import check_output\n",
        "print(check_output([\"ls\", \"../input\"]).decode(\"utf8\"))\n",
        "\n",
        "# Any results you write to the current directory are saved as output."
      ]
    },
    {
      "cell_type": "code",
      "execution_count": null,
      "metadata": {
        "_cell_guid": "c2ace92d-6a6d-16ca-07fd-4b63032b7439"
      },
      "outputs": [],
      "source": [
        "train_df = pd.read_csv(\"../input/train.csv\", parse_dates=['timestamp'])\n",
        "test_df = pd.read_csv(\"../input/test.csv\", parse_dates=['timestamp'])\n",
        "macro_df = pd.read_csv(\"../input/macro.csv\", parse_dates=['timestamp'])\n",
        "#train_df = pd.merge(train_df, macro_df, how='left', on='timestamp')\n",
        "#test_df = pd.merge(test_df, macro_df, how='left', on='timestamp')\n",
        "print(train_df.shape, test_df.shape)"
      ]
    },
    {
      "cell_type": "code",
      "execution_count": null,
      "metadata": {
        "_cell_guid": "47f478bb-fd03-61e4-e7e4-d9588f39fca2"
      },
      "outputs": [],
      "source": [
        "train_df.head(5)"
      ]
    },
    {
      "cell_type": "code",
      "execution_count": null,
      "metadata": {
        "_cell_guid": "4a013373-5732-d527-8622-612230b50ae8"
      },
      "outputs": [],
      "source": [
        "# truncate the extreme values in price_doc #\n",
        "#ulimit = np.percentile(train_df.price_doc.values, 99)\n",
        "#llimit = np.percentile(train_df.price_doc.values, 1)\n",
        "#train_df['price_doc'].ix[train_df['price_doc']>ulimit] = ulimit\n",
        "#train_df['price_doc'].ix[train_df['price_doc']<llimit] = llimit"
      ]
    },
    {
      "cell_type": "code",
      "execution_count": null,
      "metadata": {
        "_cell_guid": "e7fd8a01-16c4-09c2-4856-07606afc68a5"
      },
      "outputs": [],
      "source": [
        "for f in train_df.columns:\n",
        "    if train_df[f].dtype=='object':\n",
        "        print(f)\n",
        "        lbl = preprocessing.LabelEncoder()\n",
        "        lbl.fit(list(train_df[f].values.astype('str')) + list(test_df[f].values.astype('str')))\n",
        "        train_df[f] = lbl.transform(list(train_df[f].values.astype('str')))\n",
        "        test_df[f] = lbl.transform(list(test_df[f].values.astype('str')))"
      ]
    },
    {
      "cell_type": "code",
      "execution_count": null,
      "metadata": {
        "_cell_guid": "e3476521-885f-839c-a8b4-f6e21758e77d"
      },
      "outputs": [],
      "source": [
        "train_df[\"null_count\"] = train_df.isnull().sum(axis=1)\n",
        "test_df[\"null_count\"] = test_df.isnull().sum(axis=1)\n",
        "\n",
        "plt.figure(figsize=(14,12))\n",
        "sns.pointplot(x='null_count', y='price_doc', data=train_df)\n",
        "plt.ylabel('price_doc', fontsize=12)\n",
        "plt.xlabel('null_count', fontsize=12)\n",
        "plt.xticks(rotation='vertical')\n",
        "plt.show()"
      ]
    },
    {
      "cell_type": "code",
      "execution_count": null,
      "metadata": {
        "_cell_guid": "43d787ee-59eb-aaa3-ce4f-06f07bc9b7e9"
      },
      "outputs": [],
      "source": [
        "#train_df.fillna(-99, inplace=True)\n",
        "#test_df.fillna(-99, inplace=True)"
      ]
    },
    {
      "cell_type": "code",
      "execution_count": null,
      "metadata": {
        "_cell_guid": "617c36a4-6df3-17ab-0e9f-7a546a87362d"
      },
      "outputs": [],
      "source": [
        "# This section added:  drop crazy data points\n",
        "print( train_df.life_sq.max() )\n",
        "train_df.drop(train_df[train_df[\"life_sq\"] > 7000].index, inplace=True)\n",
        "print( train_df.life_sq.max() )"
      ]
    },
    {
      "cell_type": "code",
      "execution_count": null,
      "metadata": {
        "_cell_guid": "27e0e2f4-44ab-b612-9482-02009a518112"
      },
      "outputs": [],
      "source": [
        "print( test_df.life_sq.max() )"
      ]
    },
    {
      "cell_type": "code",
      "execution_count": null,
      "metadata": {
        "_cell_guid": "34cecada-664e-6deb-3539-16aeb31c3f72"
      },
      "outputs": [],
      "source": [
        "# year and month #\n",
        "train_df[\"yearmonth\"] = train_df[\"timestamp\"].dt.year*100 + train_df[\"timestamp\"].dt.month\n",
        "test_df[\"yearmonth\"] = test_df[\"timestamp\"].dt.year*100 + test_df[\"timestamp\"].dt.month\n",
        "\n",
        "# year and week #\n",
        "train_df[\"yearweek\"] = train_df[\"timestamp\"].dt.year*100 + train_df[\"timestamp\"].dt.weekofyear\n",
        "test_df[\"yearweek\"] = test_df[\"timestamp\"].dt.year*100 + test_df[\"timestamp\"].dt.weekofyear\n",
        "\n",
        "# year #\n",
        "train_df[\"year\"] = train_df[\"timestamp\"].dt.year\n",
        "test_df[\"year\"] = test_df[\"timestamp\"].dt.year\n",
        "\n",
        "# month of year #\n",
        "train_df[\"month_of_year\"] = train_df[\"timestamp\"].dt.month\n",
        "test_df[\"month_of_year\"] = test_df[\"timestamp\"].dt.month\n",
        "\n",
        "# week of year #\n",
        "train_df[\"week_of_year\"] = train_df[\"timestamp\"].dt.weekofyear\n",
        "test_df[\"week_of_year\"] = test_df[\"timestamp\"].dt.weekofyear\n",
        "\n",
        "# day of week #\n",
        "train_df[\"day_of_week\"] = train_df[\"timestamp\"].dt.weekday\n",
        "test_df[\"day_of_week\"] = test_df[\"timestamp\"].dt.weekday\n",
        "\n",
        "\n",
        "plt.figure(figsize=(12,8))\n",
        "sns.pointplot(x='yearweek', y='price_doc', data=train_df)\n",
        "plt.ylabel('price_doc', fontsize=12)\n",
        "plt.xlabel('yearweek', fontsize=12)\n",
        "plt.title('Median Price distribution by year and week_num')\n",
        "plt.xticks(rotation='vertical')\n",
        "plt.show()\n",
        "\n",
        "plt.figure(figsize=(12,8))\n",
        "sns.boxplot(x='month_of_year', y='price_doc', data=train_df)\n",
        "plt.ylabel('price_doc', fontsize=12)\n",
        "plt.xlabel('month_of_year', fontsize=12)\n",
        "plt.title('Median Price distribution by month_of_year')\n",
        "plt.xticks(rotation='vertical')\n",
        "plt.show()\n",
        "\n",
        "plt.figure(figsize=(12,8))\n",
        "sns.pointplot(x='week_of_year', y='price_doc', data=train_df)\n",
        "plt.ylabel('price_doc', fontsize=12)\n",
        "plt.xlabel('week of the year', fontsize=12)\n",
        "plt.title('Median Price distribution by week of year')\n",
        "plt.xticks(rotation='vertical')\n",
        "plt.show()\n",
        "\n",
        "plt.figure(figsize=(12,8))\n",
        "sns.boxplot(x='day_of_week', y='price_doc', data=train_df)\n",
        "plt.ylabel('price_doc', fontsize=12)\n",
        "plt.xlabel('day_of_week', fontsize=12)\n",
        "plt.title('Median Price distribution by day of week')\n",
        "plt.xticks(rotation='vertical')\n",
        "plt.show()"
      ]
    },
    {
      "cell_type": "code",
      "execution_count": null,
      "metadata": {
        "_cell_guid": "a5458018-82a0-6960-cdd0-350938a11a00"
      },
      "outputs": [],
      "source": [
        "# ratio of living area to full area #\n",
        "#train_df[\"ratio_life_sq_full_sq\"] = train_df[\"life_sq\"] / np.maximum(train_df[\"full_sq\"].astype(\"float\"),1)\n",
        "#test_df[\"ratio_life_sq_full_sq\"] = test_df[\"life_sq\"] / np.maximum(test_df[\"full_sq\"].astype(\"float\"),1)\n",
        "#train_df[\"ratio_life_sq_full_sq\"].ix[train_df[\"ratio_life_sq_full_sq\"]<0] = 0\n",
        "#train_df[\"ratio_life_sq_full_sq\"].ix[train_df[\"ratio_life_sq_full_sq\"]>1] = 1\n",
        "#test_df[\"ratio_life_sq_full_sq\"].ix[test_df[\"ratio_life_sq_full_sq\"]<0] = 0\n",
        "#test_df[\"ratio_life_sq_full_sq\"].ix[test_df[\"ratio_life_sq_full_sq\"]>1] = 1\n",
        "\n",
        "# ratio of kitchen area to living area #\n",
        "#train_df[\"ratio_kitch_sq_life_sq\"] = train_df[\"kitch_sq\"] / np.maximum(train_df[\"life_sq\"].astype(\"float\"),1)\n",
        "#test_df[\"ratio_kitch_sq_life_sq\"] = test_df[\"kitch_sq\"] / np.maximum(test_df[\"life_sq\"].astype(\"float\"),1)\n",
        "#train_df[\"ratio_kitch_sq_life_sq\"].ix[train_df[\"ratio_kitch_sq_life_sq\"]<0] = 0\n",
        "#train_df[\"ratio_kitch_sq_life_sq\"].ix[train_df[\"ratio_kitch_sq_life_sq\"]>1] = 1\n",
        "#test_df[\"ratio_kitch_sq_life_sq\"].ix[test_df[\"ratio_kitch_sq_life_sq\"]<0] = 0\n",
        "#test_df[\"ratio_kitch_sq_life_sq\"].ix[test_df[\"ratio_kitch_sq_life_sq\"]>1] = 1\n",
        "\n",
        "# ratio of kitchen area to full area #\n",
        "#train_df[\"ratio_kitch_sq_full_sq\"] = train_df[\"kitch_sq\"] / np.maximum(train_df[\"full_sq\"].astype(\"float\"),1)\n",
        "#test_df[\"ratio_kitch_sq_full_sq\"] = test_df[\"kitch_sq\"] / np.maximum(test_df[\"full_sq\"].astype(\"float\"),1)\n",
        "#train_df[\"ratio_kitch_sq_full_sq\"].ix[train_df[\"ratio_kitch_sq_full_sq\"]<0] = 0\n",
        "#train_df[\"ratio_kitch_sq_full_sq\"].ix[train_df[\"ratio_kitch_sq_full_sq\"]>1] = 1\n",
        "#test_df[\"ratio_kitch_sq_full_sq\"].ix[test_df[\"ratio_kitch_sq_full_sq\"]<0] = 0\n",
        "#test_df[\"ratio_kitch_sq_full_sq\"].ix[test_df[\"ratio_kitch_sq_full_sq\"]>1] = 1\n",
        "\n",
        "#plt.figure(figsize=(12,12))\n",
        "#sns.jointplot(x=train_df.ratio_life_sq_full_sq.values, y=np.log1p(train_df.price_doc.values), size=10)\n",
        "#plt.ylabel('Log of Price', fontsize=12)\n",
        "#plt.xlabel('Ratio of living area to full area', fontsize=12)\n",
        "#plt.title(\"Joint plot on log of living price to ratio_life_sq_full_sq\")\n",
        "#plt.show()\n",
        "\n",
        "#plt.figure(figsize=(12,12))\n",
        "#sns.jointplot(x=train_df.ratio_life_sq_full_sq.values, y=np.log1p(train_df.price_doc.values), \n",
        "              #kind='kde',size=10)\n",
        "#plt.ylabel('Log of Price', fontsize=12)\n",
        "#plt.xlabel('Ratio of kitchen area to living area', fontsize=12)\n",
        "#plt.title(\"Joint plot on log of living price to ratio_kitch_sq_life_sq\")\n",
        "#plt.show()\n",
        "\n",
        "#plt.figure(figsize=(12,12))\n",
        "#sns.jointplot(x=train_df.ratio_life_sq_full_sq.values, y=np.log1p(train_df.price_doc.values), \n",
        "             # kind='kde',size=10)\n",
        "#plt.ylabel('Log of Price', fontsize=12)\n",
        "#plt.xlabel('Ratio of kitchen area to full area', fontsize=12)\n",
        "#plt.title(\"Joint plot on log of living price to ratio_kitch_sq_full_sq\")\n",
        "#plt.show()"
      ]
    },
    {
      "cell_type": "code",
      "execution_count": null,
      "metadata": {
        "_cell_guid": "5107470a-8d6c-a174-804e-02eded92ee72"
      },
      "outputs": [],
      "source": [
        "train_df.head(5)"
      ]
    },
    {
      "cell_type": "code",
      "execution_count": null,
      "metadata": {
        "_cell_guid": "437220eb-9da1-7bc8-1404-bd2177484626"
      },
      "outputs": [],
      "source": [
        "# floor of the house to the total number of floors in the house #\n",
        "#train_df[\"ratio_floor_max_floor\"] = train_df[\"floor\"] / train_df[\"max_floor\"].astype(\"float\")\n",
        "#test_df[\"ratio_floor_max_floor\"] = test_df[\"floor\"] / test_df[\"max_floor\"].astype(\"float\")\n",
        "\n",
        "# num of floor from top #\n",
        "#train_df[\"floor_from_top\"] = train_df[\"max_floor\"] - train_df[\"floor\"]\n",
        "#test_df[\"floor_from_top\"] = test_df[\"max_floor\"] - test_df[\"floor\"]"
      ]
    },
    {
      "cell_type": "code",
      "execution_count": null,
      "metadata": {
        "_cell_guid": "c07cda4d-d022-1930-5a1e-635686c84378"
      },
      "outputs": [],
      "source": [
        "train_df[\"extra_sq\"] = train_df[\"full_sq\"] - train_df[\"life_sq\"]\n",
        "test_df[\"extra_sq\"] = test_df[\"full_sq\"] - test_df[\"life_sq\"]"
      ]
    },
    {
      "cell_type": "code",
      "execution_count": null,
      "metadata": {
        "_cell_guid": "5c51b738-7d63-8ece-8237-ecd52dfc5f60"
      },
      "outputs": [],
      "source": [
        "train_df[\"age_of_building\"] = train_df[\"build_year\"] - train_df[\"year\"]\n",
        "test_df[\"age_of_building\"] = test_df[\"build_year\"] - test_df[\"year\"]"
      ]
    },
    {
      "cell_type": "code",
      "execution_count": null,
      "metadata": {
        "_cell_guid": "2a549670-8d3d-17ae-c254-c933b6f23aea"
      },
      "outputs": [],
      "source": [
        "def add_count(df, group_col):\n",
        "    grouped_df = df.groupby(group_col)[\"id\"].aggregate(\"count\").reset_index()\n",
        "    grouped_df.columns = [group_col, \"count_\"+group_col]\n",
        "    df = pd.merge(df, grouped_df, on=group_col, how=\"left\")\n",
        "    return df\n",
        "\n",
        "train_df = add_count(train_df, \"yearmonth\")\n",
        "test_df = add_count(test_df, \"yearmonth\")\n",
        "\n",
        "train_df = add_count(train_df, \"yearweek\")\n",
        "test_df = add_count(test_df, \"yearweek\")"
      ]
    },
    {
      "cell_type": "code",
      "execution_count": null,
      "metadata": {
        "_cell_guid": "c6e96ad9-cebe-f832-7ccd-c4989ae98409"
      },
      "outputs": [],
      "source": [
        "train_df[\"ratio_preschool\"] = train_df[\"children_preschool\"] / train_df[\"preschool_quota\"].astype(\"float\")\n",
        "test_df[\"ratio_preschool\"] = test_df[\"children_preschool\"] / test_df[\"preschool_quota\"].astype(\"float\")\n",
        "\n",
        "train_df[\"ratio_school\"] = train_df[\"children_school\"] / train_df[\"school_quota\"].astype(\"float\")\n",
        "test_df[\"ratio_school\"] = test_df[\"children_school\"] / test_df[\"school_quota\"].astype(\"float\")"
      ]
    },
    {
      "cell_type": "code",
      "execution_count": null,
      "metadata": {
        "_cell_guid": "c2f0cf76-9cd3-e14f-3f4c-c777520ce33f"
      },
      "outputs": [],
      "source": [
        "#train_df['people_ratio']=train_df['full_all']/train_df['area_m']\n",
        "#test_df['people_ratio']=test_df['full_all']/train_df['area_m']"
      ]
    },
    {
      "cell_type": "code",
      "execution_count": null,
      "metadata": {
        "_cell_guid": "6d8b90c8-2af5-a114-293d-9fa36d969dbc"
      },
      "outputs": [],
      "source": [
        "#train_df['working_people_ratio']=train_df['work_all']/train_df['full_all']\n",
        "#test_df['working_people_ratio']=test_df['work_all']/train_df['full_all']"
      ]
    },
    {
      "cell_type": "code",
      "execution_count": null,
      "metadata": {
        "_cell_guid": "d042b78c-2ff4-2c87-a0ac-f7f8f0ad7395"
      },
      "outputs": [],
      "source": [
        "#train_df['slag_building_ratio']=train_df['build_count_slag']/train_df['raion_build_count_with_material_info']\n",
        "#test_df['slag_building_ratio']=test_df['build_count_slag']/train_df['raion_build_count_with_material_info']"
      ]
    },
    {
      "cell_type": "code",
      "execution_count": null,
      "metadata": {
        "_cell_guid": "1138d308-90e3-6476-7d65-87885541e50e"
      },
      "outputs": [],
      "source": [
        "#train_df['monolith_building_ratio']=train_df['build_count_monolith']/train_df['raion_build_count_with_material_info']\n",
        "#test_df['monolith_building_ratio']=test_df['build_count_monolith']/train_df['raion_build_count_with_material_info']"
      ]
    },
    {
      "cell_type": "code",
      "execution_count": null,
      "metadata": {
        "_cell_guid": "1164155e-f9de-dfbb-bfa6-3f78bf85df86"
      },
      "outputs": [],
      "source": [
        "#train_df['new_building_ratio']=train_df['build_count_after_1995']/train_df['raion_build_count_with_builddate_info']\n",
        "#test_df['new_building_ratio']=test_df['build_count_after_1995']/train_df['raion_build_count_with_builddate_info']"
      ]
    },
    {
      "cell_type": "code",
      "execution_count": null,
      "metadata": {
        "_cell_guid": "3b7297b4-52a1-dc5d-692a-e14fc06956b8"
      },
      "outputs": [],
      "source": [
        "train_y = np.log1p(train_df.price_doc.values)"
      ]
    },
    {
      "cell_type": "code",
      "execution_count": null,
      "metadata": {
        "_cell_guid": "72550be5-3f40-21a9-f972-5f44396d0cdb"
      },
      "outputs": [],
      "source": [
        "train_X = train_df.drop([\"id\", \"timestamp\", \"price_doc\"], axis=1)\n",
        "test_X = test_df.drop([\"id\", \"timestamp\"] , axis=1)"
      ]
    },
    {
      "cell_type": "code",
      "execution_count": null,
      "metadata": {
        "_cell_guid": "49f42125-3ec0-0bbf-39cc-34d1abb6c489"
      },
      "outputs": [],
      "source": [
        "val_time = 201407\n",
        "dev_indices = np.where(train_X[\"yearmonth\"]<val_time)\n",
        "val_indices = np.where(train_X[\"yearmonth\"]>=val_time)\n",
        "dev_X = train_X.ix[dev_indices]\n",
        "val_X = train_X.ix[val_indices]\n",
        "dev_y = train_y[dev_indices]\n",
        "val_y = train_y[val_indices]\n",
        "print(dev_X.shape, val_X.shape)"
      ]
    },
    {
      "cell_type": "code",
      "execution_count": null,
      "metadata": {
        "_cell_guid": "e95ca927-010e-3d9c-f2cd-cd53ce545188"
      },
      "outputs": [],
      "source": [
        "train_X.shape"
      ]
    },
    {
      "cell_type": "code",
      "execution_count": null,
      "metadata": {
        "_cell_guid": "faebfcf6-5b57-87a0-ae31-c278c4e9a46c"
      },
      "outputs": [],
      "source": [
        "test_X.shape"
      ]
    },
    {
      "cell_type": "code",
      "execution_count": null,
      "metadata": {
        "_cell_guid": "39c7c650-adbb-6e1f-54fc-2785b731336e"
      },
      "outputs": [],
      "source": [
        "xgb_params = {\n",
        "    'eta': 0.05,\n",
        "    'max_depth': 5,\n",
        "    'subsample': 0.7,\n",
        "    'colsample_bytree': 0.7,\n",
        "    'objective': 'reg:linear',\n",
        "    'eval_metric': 'rmse',\n",
        "    'min_child_weight':1,\n",
        "    'silent': 1,\n",
        "    'seed':0\n",
        "}"
      ]
    },
    {
      "cell_type": "code",
      "execution_count": null,
      "metadata": {
        "_cell_guid": "df4f011f-d8f4-9143-fefd-3a80d4e2e343"
      },
      "outputs": [],
      "source": [
        "xgtrain = xgb.DMatrix(dev_X, dev_y, feature_names=dev_X.columns)\n",
        "xgtest = xgb.DMatrix(val_X, val_y, feature_names=val_X.columns)\n",
        "watchlist = [ (xgtrain,'train'), (xgtest, 'test') ]\n",
        "num_rounds = 100 # Increase the number of rounds while running in local\n",
        "model = xgb.train(xgb_params, xgtrain, num_rounds, watchlist, early_stopping_rounds=50, verbose_eval=5)"
      ]
    },
    {
      "cell_type": "code",
      "execution_count": null,
      "metadata": {
        "_cell_guid": "7a50a7fa-e08d-839c-0333-a3c802d3db54"
      },
      "outputs": [],
      "source": [
        "# plot the important features #\n",
        "fig, ax = plt.subplots(figsize=(12,25))\n",
        "xgb.plot_importance(model, max_num_features=50, height=0.8, ax=ax)\n",
        "plt.show()"
      ]
    },
    {
      "cell_type": "code",
      "execution_count": null,
      "metadata": {
        "_cell_guid": "4de9a116-d606-d201-36a3-560afffcba92"
      },
      "outputs": [],
      "source": [
        "xgtest_pred = xgb.DMatrix(test_X)"
      ]
    },
    {
      "cell_type": "code",
      "execution_count": null,
      "metadata": {
        "_cell_guid": "ab85b643-b149-b8e1-950d-64b9b8de371f"
      },
      "outputs": [],
      "source": [
        "pred=model.predict(xgtest_pred)"
      ]
    },
    {
      "cell_type": "code",
      "execution_count": null,
      "metadata": {
        "_cell_guid": "6a03873b-6ead-ce32-2b5e-447ffdc2f4fe"
      },
      "outputs": [],
      "source": [
        "out=np.expm1(pred)"
      ]
    },
    {
      "cell_type": "code",
      "execution_count": null,
      "metadata": {
        "_cell_guid": "e9e5bb4a-6ba3-5665-f82b-baa978c9bdb6"
      },
      "outputs": [],
      "source": [
        "id= test_df['id']"
      ]
    },
    {
      "cell_type": "code",
      "execution_count": null,
      "metadata": {
        "_cell_guid": "41461373-cae4-b39b-ed7c-50766981646f"
      },
      "outputs": [],
      "source": [
        "output= pd.DataFrame({'id' : id, 'price_doc' : out})"
      ]
    },
    {
      "cell_type": "code",
      "execution_count": null,
      "metadata": {
        "_cell_guid": "289f5307-591a-cbac-c0a7-5b1b4cd46668"
      },
      "outputs": [],
      "source": [
        "output.head(5)"
      ]
    },
    {
      "cell_type": "code",
      "execution_count": null,
      "metadata": {
        "_cell_guid": "977278dd-9312-27ce-7f29-2d0d3670bf63"
      },
      "outputs": [],
      "source": [
        "output.to_csv('preds_4.csv', index=False)"
      ]
    }
  ],
  "metadata": {
    "_change_revision": 0,
    "_is_fork": false,
    "kernelspec": {
      "display_name": "Python 3",
      "language": "python",
      "name": "python3"
    },
    "language_info": {
      "codemirror_mode": {
        "name": "ipython",
        "version": 3
      },
      "file_extension": ".py",
      "mimetype": "text/x-python",
      "name": "python",
      "nbconvert_exporter": "python",
      "pygments_lexer": "ipython3",
      "version": "3.6.0"
    }
  },
  "nbformat": 4,
  "nbformat_minor": 0
}