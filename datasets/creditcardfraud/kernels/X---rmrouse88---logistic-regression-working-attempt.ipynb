{
  "cells": [
    {
      "cell_type": "code",
      "execution_count": null,
      "metadata": {
        "_cell_guid": "65d319e3-ff5d-6658-ecf1-10dbd69e888a"
      },
      "outputs": [],
      "source": [
        "# This Python 3 environment comes with many helpful analytics libraries installed\n",
        "# It is defined by the kaggle/python docker image: https://github.com/kaggle/docker-python\n",
        "# For example, here's several helpful packages to load in \n",
        "\n",
        "import numpy as np # linear algebra\n",
        "import pandas as pd # data processing, CSV file I/O (e.g. pd.read_csv)\n",
        "\n",
        "# Input data files are available in the \"../input/\" directory.\n",
        "# For example, running this (by clicking run or pressing Shift+Enter) will list the files in the input directory\n",
        "\n",
        "from subprocess import check_output\n",
        "print(check_output([\"ls\", \"../input\"]).decode(\"utf8\"))\n",
        "\n",
        "# Any results you write to the current directory are saved as output."
      ]
    },
    {
      "cell_type": "code",
      "execution_count": null,
      "metadata": {
        "_cell_guid": "d0667779-aba8-e530-3e0f-15fc52b2b7f1"
      },
      "outputs": [],
      "source": [
        "dframe = pd.read_csv(\"../input/creditcard.csv\")"
      ]
    },
    {
      "cell_type": "code",
      "execution_count": null,
      "metadata": {
        "_cell_guid": "b0218df3-7164-146d-8e93-bce0c36bda96"
      },
      "outputs": [],
      "source": [
        "dframe.head()"
      ]
    },
    {
      "cell_type": "code",
      "execution_count": null,
      "metadata": {
        "_cell_guid": "1d197d02-28ca-48c2-6765-dc2335a50edd"
      },
      "outputs": [],
      "source": [
        "len(dframe[\"Time\"].unique())"
      ]
    },
    {
      "cell_type": "code",
      "execution_count": null,
      "metadata": {
        "_cell_guid": "ceec58fb-3396-188c-c7d0-c82a79665526"
      },
      "outputs": [],
      "source": [
        "X = dframe.ix[:,:-1]\n",
        "X.head()"
      ]
    },
    {
      "cell_type": "code",
      "execution_count": null,
      "metadata": {
        "_cell_guid": "85ce2f21-a99a-8d7c-a311-6c9d7510c13d"
      },
      "outputs": [],
      "source": [
        "y = dframe.ix[:,-1]\n",
        "y.head()"
      ]
    },
    {
      "cell_type": "markdown",
      "metadata": {
        "_cell_guid": "f228c4dc-9107-26fa-bc80-dcac8e3d5d1b"
      },
      "source": [
        "## need to standardize the features prior to being able to use Logistic Regression effectively ##"
      ]
    },
    {
      "cell_type": "code",
      "execution_count": null,
      "metadata": {
        "_cell_guid": "1d38e580-7de4-601d-637c-ccfee1da5ea5"
      },
      "outputs": [],
      "source": [
        "from sklearn.linear_model import LogisticRegression\n",
        "from sklearn.model_selection import train_test_split"
      ]
    },
    {
      "cell_type": "code",
      "execution_count": null,
      "metadata": {
        "_cell_guid": "998ecd51-8dd0-5d99-6aa3-d0c024b6d58a"
      },
      "outputs": [],
      "source": [
        "X_train,X_test,y_train,y_test = train_test_split(X,y,test_size=.3,random_state=0)"
      ]
    },
    {
      "cell_type": "code",
      "execution_count": null,
      "metadata": {
        "_cell_guid": "57d8942d-125f-4752-0938-cc422401cab2"
      },
      "outputs": [],
      "source": [
        "lr = LogisticRegression(C=1000.0, random_state=0)\n"
      ]
    },
    {
      "cell_type": "code",
      "execution_count": null,
      "metadata": {
        "_cell_guid": "5a7f91de-0838-134d-598f-037f3054042f"
      },
      "outputs": [],
      "source": [
        "lr.fit(X_train,y_train)"
      ]
    },
    {
      "cell_type": "code",
      "execution_count": null,
      "metadata": {
        "_cell_guid": "ac8a782f-c165-ddc7-fc84-b9c2cfc13463"
      },
      "outputs": [],
      "source": [
        "lr.coef_"
      ]
    },
    {
      "cell_type": "code",
      "execution_count": null,
      "metadata": {
        "_cell_guid": "f7060431-7ee3-5c04-eacf-f1cc4c136919"
      },
      "outputs": [],
      "source": [
        "fuck = lr.predict_proba(X_test)"
      ]
    },
    {
      "cell_type": "code",
      "execution_count": null,
      "metadata": {
        "_cell_guid": "a8110ab0-bcac-dec5-3191-0c05b3008d2d"
      },
      "outputs": [],
      "source": [
        "count = 0\n",
        "transactions=[]\n",
        "for i in enumerate(fuck):\n",
        "    if i[1][1]>i[1][0]:\n",
        "        transactions.append(i[0])\n",
        "        print(i[0])\n",
        "        count += 1"
      ]
    },
    {
      "cell_type": "code",
      "execution_count": null,
      "metadata": {
        "_cell_guid": "adc5e9c6-390c-f470-7de3-41847af41435"
      },
      "outputs": [],
      "source": [
        "print(count)\n",
        "print(transactions)"
      ]
    },
    {
      "cell_type": "code",
      "execution_count": null,
      "metadata": {
        "_cell_guid": "11209836-e654-57a5-7ae4-2728e3d3d1b0"
      },
      "outputs": [],
      "source": [
        "X_test[transactions]"
      ]
    },
    {
      "cell_type": "code",
      "execution_count": null,
      "metadata": {
        "_cell_guid": "0f6c518d-df14-4964-33cd-20373260a236"
      },
      "outputs": [],
      "source": ""
    }
  ],
  "metadata": {
    "_change_revision": 0,
    "_is_fork": false,
    "kernelspec": {
      "display_name": "Python 3",
      "language": "python",
      "name": "python3"
    },
    "language_info": {
      "codemirror_mode": {
        "name": "ipython",
        "version": 3
      },
      "file_extension": ".py",
      "mimetype": "text/x-python",
      "name": "python",
      "nbconvert_exporter": "python",
      "pygments_lexer": "ipython3",
      "version": "3.6.0"
    }
  },
  "nbformat": 4,
  "nbformat_minor": 0
}