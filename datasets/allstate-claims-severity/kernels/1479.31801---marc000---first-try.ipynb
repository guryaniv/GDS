{
  "cells": [
    {
      "cell_type": "markdown",
      "metadata": {
        "_cell_guid": "ca5e5051-a3a6-4210-8e3d-2b2c333887d1"
      },
      "source": [
        "First try"
      ]
    },
    {
      "cell_type": "code",
      "execution_count": null,
      "metadata": {
        "_cell_guid": "4a76c103-035e-f4ad-9692-b4ddff9016c5"
      },
      "outputs": [],
      "source": [
        "# This Python 3 environment comes with many helpful analytics libraries installed\n",
        "# It is defined by the kaggle/python docker image: https://github.com/kaggle/docker-python\n",
        "# For example, here's several helpful packages to load in \n",
        "\n",
        "import numpy as np # linear algebra\n",
        "import pandas as pd # data processing, CSV file I/O (e.g. pd.read_csv)\n",
        "\n",
        "# Input data files are available in the \"../input/\" directory.\n",
        "# For example, running this (by clicking run or pressing Shift+Enter) will list the files in the input directory\n",
        "\n",
        "from subprocess import check_output\n",
        "print(check_output([\"ls\", \"../input\"]).decode(\"utf8\"))\n",
        "\n",
        "# Any results you write to the current directory are saved as output."
      ]
    },
    {
      "cell_type": "code",
      "execution_count": null,
      "metadata": {
        "_cell_guid": "a6251af5-5359-434a-d45f-6ee795ea3288"
      },
      "outputs": [],
      "source": [
        "df_train = pd.read_csv('../input/train.csv')\n",
        "df_test = pd.read_csv('../input/test.csv')"
      ]
    },
    {
      "cell_type": "code",
      "execution_count": null,
      "metadata": {
        "_cell_guid": "86740023-5d3d-62d6-6788-35ded9e31079"
      },
      "outputs": [],
      "source": [
        "df_train.head()"
      ]
    },
    {
      "cell_type": "code",
      "execution_count": null,
      "metadata": {
        "_cell_guid": "185a8791-71fb-cdea-9026-7cb545bf39ab"
      },
      "outputs": [],
      "source": [
        "df_train.info()"
      ]
    },
    {
      "cell_type": "code",
      "execution_count": null,
      "metadata": {
        "_cell_guid": "cc0d3c9c-35db-4b86-3813-dd18f9eb1d3f"
      },
      "outputs": [],
      "source": [
        "X_train = df_train.copy(deep=False)\n",
        "del X_train['loss']\n",
        "del X_train['id']\n",
        "y_train = pd.DataFrame(df_train['loss'])\n",
        "\n",
        "X_test = df_test.copy(deep=False)\n",
        "del X_test['id']"
      ]
    },
    {
      "cell_type": "code",
      "execution_count": null,
      "metadata": {
        "_cell_guid": "43a5c04a-cacb-cceb-dace-29188508ae52"
      },
      "outputs": [],
      "source": [
        "X_train_d = pd.get_dummies(X_train)\n",
        "X_test_d = pd.get_dummies(X_test)"
      ]
    },
    {
      "cell_type": "code",
      "execution_count": null,
      "metadata": {
        "_cell_guid": "188c1ec8-49e5-c0be-c023-688c87874861"
      },
      "outputs": [],
      "source": [
        "X_train_d.head()"
      ]
    },
    {
      "cell_type": "code",
      "execution_count": null,
      "metadata": {
        "_cell_guid": "c835de6b-9a1d-1d8c-725f-ad1a659026e1"
      },
      "outputs": [],
      "source": [
        "X_train_d.info()"
      ]
    },
    {
      "cell_type": "code",
      "execution_count": null,
      "metadata": {
        "_cell_guid": "14c869e8-3caf-2eb0-25e4-29ef599671f4"
      },
      "outputs": [],
      "source": [
        "from sklearn.decomposition import PCA\n",
        "pca = PCA(n_components=12)"
      ]
    },
    {
      "cell_type": "code",
      "execution_count": null,
      "metadata": {
        "_cell_guid": "a295d9dd-1eb4-d71c-94ad-096b72fc9c7a"
      },
      "outputs": [],
      "source": [
        "pca.fit(X_train_d)\n",
        "X_train = pd.DataFrame(pca.transform(X_train_d))"
      ]
    },
    {
      "cell_type": "code",
      "execution_count": null,
      "metadata": {
        "_cell_guid": "81d0e727-d5c1-e441-41cc-65dbf37a9c34"
      },
      "outputs": [],
      "source": [
        "pca.fit(X_test_d)\n",
        "X_test = pd.DataFrame(pca.transform(X_test_d))"
      ]
    },
    {
      "cell_type": "code",
      "execution_count": null,
      "metadata": {
        "_cell_guid": "ae58b033-1732-cee8-98af-7e77e184ce5e"
      },
      "outputs": [],
      "source": [
        "X_train.info()"
      ]
    },
    {
      "cell_type": "code",
      "execution_count": null,
      "metadata": {
        "_cell_guid": "64ff2424-22dd-8db2-2685-46888b6d7136"
      },
      "outputs": [],
      "source": [
        "X_train.head()"
      ]
    },
    {
      "cell_type": "code",
      "execution_count": null,
      "metadata": {
        "_cell_guid": "f7c33519-a592-85d3-144f-254f72a21ea5"
      },
      "outputs": [],
      "source": [
        "y_train.head()"
      ]
    },
    {
      "cell_type": "code",
      "execution_count": null,
      "metadata": {
        "_cell_guid": "9e4b61c1-68a7-d96e-d451-a50fef584d94"
      },
      "outputs": [],
      "source": [
        "from sklearn.linear_model import LinearRegression\n",
        "regr = LinearRegression()\n",
        "regr.fit(X_train, y_train)"
      ]
    },
    {
      "cell_type": "code",
      "execution_count": null,
      "metadata": {
        "_cell_guid": "ea53f18b-9705-76cc-074f-4df76738f8c6"
      },
      "outputs": [],
      "source": [
        "y_pred = regr.predict(X_test)"
      ]
    },
    {
      "cell_type": "code",
      "execution_count": null,
      "metadata": {
        "_cell_guid": "79514636-5140-bffb-d83a-f77a9ae6c71d"
      },
      "outputs": [],
      "source": [
        "df = pd.DataFrame(y_pred)"
      ]
    },
    {
      "cell_type": "code",
      "execution_count": null,
      "metadata": {
        "_cell_guid": "3366f51a-ac75-35cf-4452-064f964dd7cb"
      },
      "outputs": [],
      "source": [
        "df.head()"
      ]
    },
    {
      "cell_type": "code",
      "execution_count": null,
      "metadata": {
        "_cell_guid": "d9f0ddcf-10a8-2330-6f29-6791a928f8f5"
      },
      "outputs": [],
      "source": [
        "df['id'] = df_test['id']"
      ]
    },
    {
      "cell_type": "code",
      "execution_count": null,
      "metadata": {
        "_cell_guid": "43fffd4e-c658-545c-bb2d-5196cabab082"
      },
      "outputs": [],
      "source": [
        "df.columns = ['loss', 'id']"
      ]
    },
    {
      "cell_type": "code",
      "execution_count": null,
      "metadata": {
        "_cell_guid": "3c4a6255-a9df-0abe-ada0-21621ee0a64b"
      },
      "outputs": [],
      "source": [
        "df = df[['id', 'loss']]"
      ]
    },
    {
      "cell_type": "code",
      "execution_count": null,
      "metadata": {
        "_cell_guid": "32cbc6a1-57b6-6553-be63-f673ea7629ef"
      },
      "outputs": [],
      "source": [
        "df.head()"
      ]
    },
    {
      "cell_type": "code",
      "execution_count": null,
      "metadata": {
        "_cell_guid": "ed735c9d-ce2f-4ba0-d97f-ae52ca4150b6"
      },
      "outputs": [],
      "source": [
        "df.to_csv('submission.csv', index=False)"
      ]
    },
    {
      "cell_type": "code",
      "execution_count": null,
      "metadata": {
        "_cell_guid": "14ccdf5c-db16-c7a4-3ca8-f2b668f4223f"
      },
      "outputs": [],
      "source": ""
    }
  ],
  "metadata": {
    "_change_revision": 0,
    "_is_fork": false,
    "kernelspec": {
      "display_name": "Python 3",
      "language": "python",
      "name": "python3"
    },
    "language_info": {
      "codemirror_mode": {
        "name": "ipython",
        "version": 3
      },
      "file_extension": ".py",
      "mimetype": "text/x-python",
      "name": "python",
      "nbconvert_exporter": "python",
      "pygments_lexer": "ipython3",
      "version": "3.5.2"
    }
  },
  "nbformat": 4,
  "nbformat_minor": 0
}