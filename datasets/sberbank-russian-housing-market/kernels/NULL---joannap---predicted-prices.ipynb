{
  "cells": [
    {
      "cell_type": "markdown",
      "metadata": {
        "_cell_guid": "0ed385ec-40eb-6a0b-3366-0d23765ac898"
      },
      "source": [
        "Predicted prices"
      ]
    },
    {
      "cell_type": "code",
      "execution_count": null,
      "metadata": {
        "_cell_guid": "c34d11a0-047e-35ff-d88c-5278962fec6d"
      },
      "outputs": [],
      "source": [
        "# This Python 3 environment comes with many helpful analytics libraries installed\n",
        "# It is defined by the kaggle/python docker image: https://github.com/kaggle/docker-python\n",
        "\n",
        "import numpy as np # linear algebra\n",
        "import pandas as pd # data processing, CSV file I/O (e.g. pd.read_csv)\n",
        "import matplotlib.pyplot as plt\n",
        "\n",
        "from subprocess import check_output\n",
        "print(check_output([\"ls\", \"../input\"]).decode(\"utf8\"))\n"
      ]
    },
    {
      "cell_type": "code",
      "execution_count": null,
      "metadata": {
        "_cell_guid": "afd8371c-517d-749d-d5f9-d04df2b099a9"
      },
      "outputs": [],
      "source": [
        "f = open('../input/train.csv')\n",
        "train = pd.read_csv(f,parse_dates=['timestamp'])"
      ]
    },
    {
      "cell_type": "code",
      "execution_count": null,
      "metadata": {
        "_cell_guid": "7cafc845-c202-a24f-841e-6682a9b802c9"
      },
      "outputs": [],
      "source": [
        "#show type of data in dataframe train\n",
        "dtype_df = train.dtypes.reset_index()\n",
        "dtype_df.columns = [\"Count\", \"Column Type\"]\n",
        "dtype_df.groupby(\"Column Type\").aggregate('count').reset_index()"
      ]
    },
    {
      "cell_type": "code",
      "execution_count": null,
      "metadata": {
        "_cell_guid": "08134da8-664d-7cfb-d9f5-0ac892303431"
      },
      "outputs": [],
      "source": [
        "train=train.sort_values(by='timestamp') #sort values by date"
      ]
    },
    {
      "cell_type": "code",
      "execution_count": null,
      "metadata": {
        "_cell_guid": "2c2dc450-9b73-1c07-f805-081361f849c2"
      },
      "outputs": [],
      "source": [
        "train['price_sqm']=train.price_doc/train.full_sq #create new column with price of square metre"
      ]
    },
    {
      "cell_type": "code",
      "execution_count": null,
      "metadata": {
        "_cell_guid": "20020829-18b8-c1f8-1194-696f4fa4cfb5"
      },
      "outputs": [],
      "source": [
        "#create new column of date as a one number e.g 2011-08-20 as 20110820\n",
        "train[\"yearmonthday\"] = train[\"timestamp\"].dt.year*1000 + train[\"timestamp\"].dt.month*100+train['timestamp'].dt.day"
      ]
    },
    {
      "cell_type": "code",
      "execution_count": null,
      "metadata": {
        "_cell_guid": "3a99d0e2-7815-7619-44e7-5a4c780b7aac"
      },
      "outputs": [],
      "source": [
        "#find columns with non numeric values\n",
        "a=[item for item in train.columns if item not in (train._get_numeric_data()).columns]\n",
        "\n",
        "a=a[1:]\n",
        "for item in a:\n",
        "    train.drop(a,axis=1)#remove column of non numeric values\n",
        "    train1=train.join(pd.get_dummies(train[a]))#replace this column by series of values created by get_dummies function\n",
        "#train1.corr()"
      ]
    },
    {
      "cell_type": "code",
      "execution_count": null,
      "metadata": {
        "_cell_guid": "27b4b59c-3406-8a08-189c-33cae53b9010"
      },
      "outputs": [],
      "source": [
        "#plot missing values from train data\n",
        "missing = train1.isnull().sum(axis=0).reset_index()\n",
        "missing.columns = ['column_name', 'missing_count']\n",
        "missing = missing.ix[missing['missing_count']>0]\n",
        "ind = np.arange(missing.shape[0])\n",
        "width = 0.9\n",
        "fig, ax = plt.subplots(figsize=(12,18))\n",
        "rects = ax.barh(ind, missing.missing_count.values, color='y')\n",
        "ax.set_yticks(ind)\n",
        "ax.set_yticklabels(missing.column_name.values, rotation='horizontal')\n",
        "ax.set_xlabel(\"Count of missing values\")\n",
        "ax.set_title(\"Number of missing values in each column\")\n",
        "plt.show()"
      ]
    },
    {
      "cell_type": "code",
      "execution_count": null,
      "metadata": {
        "_cell_guid": "16de9dfb-6217-6a10-8582-c9ab773cd1e3"
      },
      "outputs": [],
      "source": [
        "train1=train1.fillna(train1.mean()) #fill dataframe where is 'Nan' value"
      ]
    },
    {
      "cell_type": "code",
      "execution_count": null,
      "metadata": {
        "_cell_guid": "8447b25b-435a-830c-15f6-e23e65f50cf4"
      },
      "outputs": [],
      "source": [
        "#measure correlation between columns of train data\n",
        "corr=train1.corr()\n",
        "correlation_pd=pd.Series(corr.price_doc) #list of correlation for price_doc column\n",
        "correlation_psqm=pd.Series(corr.price_sqm) #list of correlation for price_sqm column"
      ]
    },
    {
      "cell_type": "code",
      "execution_count": null,
      "metadata": {
        "_cell_guid": "9b09f994-94b5-e0da-7f6a-f0afc7c01acb"
      },
      "outputs": [],
      "source": [
        "correlation_pd.nlargest(20) #show 20 the most correlated values with column price_doc"
      ]
    },
    {
      "cell_type": "code",
      "execution_count": null,
      "metadata": {
        "_cell_guid": "941d786a-3949-eca7-2e24-bda2c30f93af"
      },
      "outputs": [],
      "source": [
        "correlation_psqm.nlargest(20) #show 20 the most correlated values with column price_sqm"
      ]
    },
    {
      "cell_type": "code",
      "execution_count": null,
      "metadata": {
        "_cell_guid": "cb64d282-3874-2554-cfa9-ceeaec46e8b1"
      },
      "outputs": [],
      "source": [
        "e = open('../input/macro.csv')\n",
        "macro = pd.read_csv(e,parse_dates=['timestamp'])\n",
        "#create new column of date as a one number e.g 2011-08-20 as 20110820\n",
        "macro[\"yearmonthday\"] = macro[\"timestamp\"].dt.year*1000 + macro[\"timestamp\"].dt.month*100+macro['timestamp'].dt.day"
      ]
    },
    {
      "cell_type": "code",
      "execution_count": null,
      "metadata": {
        "_cell_guid": "c6a411b4-aad5-ad00-dc71-2e8b2c7c5acd"
      },
      "outputs": [],
      "source": [
        "#find missing values\n",
        "missing_df = macro.isnull().sum(axis=0).reset_index()\n",
        "missing_df.columns = ['column_name', 'missing_count']\n",
        "missing_df = missing_df.ix[missing_df['missing_count']>0]\n",
        "ind = np.arange(missing_df.shape[0])\n",
        "width = 0.9\n",
        "fig, ax = plt.subplots(figsize=(12,18))\n",
        "rects = ax.barh(ind, missing_df.missing_count.values, color='y')\n",
        "ax.set_yticks(ind)\n",
        "ax.set_yticklabels(missing_df.column_name.values, rotation='horizontal')\n",
        "ax.set_xlabel(\"Count of missing values\")\n",
        "ax.set_title(\"Number of missing values in each column\")\n",
        "plt.show()"
      ]
    },
    {
      "cell_type": "code",
      "execution_count": null,
      "metadata": {
        "_cell_guid": "f1e85d08-110a-6a8f-2ec3-333c96780519"
      },
      "outputs": [],
      "source": [
        "macro=macro.fillna(macro.mean()) #fill dataframe where is 'Nan' value"
      ]
    },
    {
      "cell_type": "code",
      "execution_count": null,
      "metadata": {
        "_cell_guid": "6b7f96e3-5f6d-3801-ac0d-73072b84037c"
      },
      "outputs": [],
      "source": [
        "# choose from macro data only timestamp the same as in train data\n",
        "date1=macro.timestamp[macro.timestamp=='2011-08-20'].index\n",
        "date2=macro.timestamp[macro.timestamp=='2015-06-30'].index\n",
        "macro1=macro.iloc[date1[0]:date2[0],]\n"
      ]
    },
    {
      "cell_type": "code",
      "execution_count": null,
      "metadata": {
        "_cell_guid": "df1ff840-7144-e8e9-ed1a-87be2c538f82"
      },
      "outputs": [],
      "source": [
        "#find columns with non numeric values\n",
        "b=[item for item in macro1.columns if item not in (macro1._get_numeric_data()).columns]\n",
        "\n",
        "b=b[1:] #first one is timestamp and it can't be changed\n",
        "for item in b:\n",
        "    macro1.drop(b,axis=1)#remove column of non numeric values\n",
        "    macro2=train.join(pd.get_dummies(macro1[b]))#replace this column by series of values created by get_dummies function\n",
        "#macro2.corr()"
      ]
    },
    {
      "cell_type": "code",
      "execution_count": null,
      "metadata": {
        "_cell_guid": "79d7ee43-2177-b4fb-a507-7dc933483ce5"
      },
      "outputs": [],
      "source": [
        "#join train and macro data\n",
        "train2=train1.rename(index=str, columns={\"timestamp\": \"times\"})\n",
        "train_macro=macro2.merge(train2,how='left', left_on='timestamp', right_on='times')"
      ]
    },
    {
      "cell_type": "code",
      "execution_count": null,
      "metadata": {
        "_cell_guid": "1c033c2d-e1dd-10ee-9a7d-c0ff239afabb"
      },
      "outputs": [],
      "source": [
        "#chcecking types in dataframe\n",
        "dtype_df = train_macro.dtypes.reset_index()\n",
        "dtype_df.columns = [\"Count\", \"Column Type\"]\n",
        "dtype_df.groupby(\"Column Type\").aggregate('count').reset_index()"
      ]
    },
    {
      "cell_type": "code",
      "execution_count": null,
      "metadata": {
        "_cell_guid": "da72a71e-a24f-0265-cfc4-4d7f76f59d6d"
      },
      "outputs": [],
      "source": [
        "from sklearn.preprocessing import LabelEncoder"
      ]
    },
    {
      "cell_type": "code",
      "execution_count": null,
      "metadata": {
        "_cell_guid": "fe3605dd-59a6-55e3-aee5-34608ce32ea2"
      },
      "outputs": [],
      "source": [
        "#remove object type, which disturbs to create model\n",
        "for f in train_macro.columns:\n",
        "    if train_macro[f].dtype=='object':\n",
        "        lbl = LabelEncoder()\n",
        "        lbl.fit(list(train_macro[f].values)) \n",
        "        train_macro[f] = lbl.transform(list(train_macro[f].values))\n",
        " "
      ]
    },
    {
      "cell_type": "code",
      "execution_count": null,
      "metadata": {
        "_cell_guid": "e0d4a738-4b2b-2f67-ea43-11c64f792322"
      },
      "outputs": [],
      "source": [
        "#chcecking again types in dataframe\n",
        "dtype_df = train_macro.dtypes.reset_index()\n",
        "dtype_df.columns = [\"Count\", \"Column Type\"]\n",
        "dtype_df.groupby(\"Column Type\").aggregate('count').reset_index()"
      ]
    },
    {
      "cell_type": "code",
      "execution_count": null,
      "metadata": {
        "_cell_guid": "7eac3607-92d0-af55-cb98-fe294e6fa115"
      },
      "outputs": [],
      "source": [
        "d = open('../input/test.csv')\n",
        "test = pd.read_csv(d,parse_dates=['timestamp'])"
      ]
    },
    {
      "cell_type": "code",
      "execution_count": null,
      "metadata": {
        "_cell_guid": "ed71fe01-9781-ffc6-11cd-b27f7cb883f3"
      },
      "outputs": [],
      "source": [
        "test=test.fillna(test.mean()) #fill dataframe where is 'Nan' value"
      ]
    },
    {
      "cell_type": "code",
      "execution_count": null,
      "metadata": {
        "_cell_guid": "82439d10-e60e-fea6-7cbd-860d337d04e1"
      },
      "outputs": [],
      "source": [
        "test['price_doc'] = np.nan"
      ]
    },
    {
      "cell_type": "code",
      "execution_count": null,
      "metadata": {
        "_cell_guid": "9ab9328f-b976-f05f-9d25-8f378ec992e0"
      },
      "outputs": [],
      "source": [
        "from xgboost import XGBClassifier\n",
        "#from sklearn.model_selection import train_test_split\n",
        "features = ['num_room_x','full_sq_x','sport_count_5000','trc_count_5000','office_sqm_5000','sport_obejct_ratio']\n",
        "x_train = train_macro[features]\n",
        "y_train=train_macro['price_doc']\n",
        "x_test=test[features]\n",
        "# split data into train and test sets\n",
        "#seed = 7\n",
        "#test_size = 0.33\n",
        "#X_train, X_test, y_train, y_test = train_test_split(X, Y, test_size=test_size, random_state=seed)\n",
        "# fit model no training data\n",
        "model = XGBClassifier()\n",
        "model.fit(train_macro, test['price_doc'])\n",
        "# make predictions for test data\n",
        "y_pred = model.predict(test['price_doc'])\n",
        "\n"
      ]
    },
    {
      "cell_type": "code",
      "execution_count": null,
      "metadata": {
        "_cell_guid": "72ac350b-45db-a2d4-1c58-0382fa442d09"
      },
      "outputs": [],
      "source": [
        "from sklearn.tree import DecisionTreeClassifier\n",
        "features1 = ['num_room_x','full_sq_x','sport_count_5000','trc_count_5000','office_sqm_5000','sport_obejct_ratio']\n",
        "featurevals = train_macro[features1]\n",
        "labels = train_macro['price_doc']\n",
        "dt = DecisionTreeClassifier(min_samples_split=19) # parameter is optional\n",
        "dt.fit(featurevals,labels)\n",
        "predictions = dt.predict(test['price_doc'])"
      ]
    }
  ],
  "metadata": {
    "_change_revision": 0,
    "_is_fork": false,
    "kernelspec": {
      "display_name": "Python 3",
      "language": "python",
      "name": "python3"
    },
    "language_info": {
      "codemirror_mode": {
        "name": "ipython",
        "version": 3
      },
      "file_extension": ".py",
      "mimetype": "text/x-python",
      "name": "python",
      "nbconvert_exporter": "python",
      "pygments_lexer": "ipython3",
      "version": "3.6.0"
    }
  },
  "nbformat": 4,
  "nbformat_minor": 0
}