{
  "cells": [
    {
      "cell_type": "code",
      "execution_count": null,
      "metadata": {
        "_cell_guid": "500ca8ca-ca05-f7ce-cdbc-d190c2a335c4"
      },
      "outputs": [],
      "source": [
        "# This Python 3 environment comes with many helpful analytics libraries installed\n",
        "# It is defined by the kaggle/python docker image: https://github.com/kaggle/docker-python\n",
        "# For example, here's several helpful packages to load in \n",
        "\n",
        "import numpy as np # linear algebra\n",
        "import pandas as pd # data processing, CSV file I/O (e.g. pd.read_csv)\n",
        "import matplotlib.pyplot as plt\n",
        "%matplotlib inline\n",
        "# Input data files are available in the \"../input/\" directory.\n",
        "# For example, running this (by clicking run or pressing Shift+Enter) will list the files in the input directory\n",
        "\n",
        "from subprocess import check_output\n",
        "print(check_output([\"ls\", \"../input\"]).decode(\"utf8\"))\n",
        "\n",
        "# Any results you write to the current directory are saved as output.\n",
        "def U_Get_NC_col_names(data):\n",
        "    '''Get column names of category and numeric\n",
        "    \n",
        "    Parameters\n",
        "    ----------\n",
        "    data: dataframe\n",
        "    \n",
        "    Return:\n",
        "    ----------\n",
        "    numerics_cols: numeric column names\n",
        "    category_cols: category column names\n",
        "    \n",
        "    '''\n",
        "    numerics_cols = data.select_dtypes(exclude=['O']).columns.tolist()\n",
        "    category_cols = data.select_dtypes(include=['O']).columns.tolist()\n",
        "    return numerics_cols, category_cols"
      ]
    },
    {
      "cell_type": "code",
      "execution_count": null,
      "metadata": {
        "_cell_guid": "c0f6d8f4-162a-fd8e-dca8-96de4b3d6008"
      },
      "outputs": [],
      "source": [
        "train = pd.read_csv(\"../input/train.csv\")\n",
        "train.columns = map(str.lower, train.columns)\n",
        "y = train.y\n",
        "train.drop('y', axis=1, inplace=True)\n",
        "\n",
        "\n",
        "test = pd.read_csv(\"../input/test.csv\")\n",
        "test.columns = map(str.lower, test.columns)"
      ]
    },
    {
      "cell_type": "markdown",
      "metadata": {
        "_cell_guid": "c10bf0ed-1a2c-231e-c25f-c9764038ea8e"
      },
      "source": [
        "we can see there clearly exist a outlier which value is bigger than 250, I choose to remove it now, but there should be some other proper ways"
      ]
    },
    {
      "cell_type": "code",
      "execution_count": null,
      "metadata": {
        "_cell_guid": "2ccb34f5-5ed8-b936-2853-e2a48b7e3b8e"
      },
      "outputs": [],
      "source": [
        "plt.plot(y,'.',c='red', alpha=0.2)"
      ]
    },
    {
      "cell_type": "markdown",
      "metadata": {
        "_cell_guid": "92e02d98-8bf1-5da4-7c4f-b8ec7e4c2fcb"
      },
      "source": [
        "there are some constant columns in train and test, let find these columns"
      ]
    },
    {
      "cell_type": "code",
      "execution_count": null,
      "metadata": {
        "_cell_guid": "d040134c-4475-9963-44bd-926f8c080e1d"
      },
      "outputs": [],
      "source": [
        "numerics_cols, category_cols = U_Get_NC_col_names(train)\n",
        "\n",
        "train_constant_cols = []\n",
        "test_constant_cols = []\n",
        "\n",
        "print(\"constant col in train\")\n",
        "for col in numerics_cols:\n",
        "    if(train[col].nunique() == 1):\n",
        "        print(col)\n",
        "        train_constant_cols += [col]\n",
        "print(\"----------\")\n",
        "print(\"constant col in test\")\n",
        "for col in numerics_cols:\n",
        "    if(test[col].nunique() == 1):\n",
        "        print(col)\n",
        "        test_constant_cols += [col]\n",
        "\n",
        "df_constant_cols = test_constant_cols + train_constant_cols\n",
        "# I choose not to delete x258 because there are ten 1 in train data.\n",
        "df_constant_cols.remove('x258')"
      ]
    },
    {
      "cell_type": "markdown",
      "metadata": {
        "_cell_guid": "c81355fa-e154-0a97-cff8-5a68a05d10b3"
      },
      "source": [
        "you can remove these rows and cols as you want, thanks!"
      ]
    }
  ],
  "metadata": {
    "_change_revision": 0,
    "_is_fork": false,
    "kernelspec": {
      "display_name": "Python 3",
      "language": "python",
      "name": "python3"
    },
    "language_info": {
      "codemirror_mode": {
        "name": "ipython",
        "version": 3
      },
      "file_extension": ".py",
      "mimetype": "text/x-python",
      "name": "python",
      "nbconvert_exporter": "python",
      "pygments_lexer": "ipython3",
      "version": "3.6.0"
    }
  },
  "nbformat": 4,
  "nbformat_minor": 0
}