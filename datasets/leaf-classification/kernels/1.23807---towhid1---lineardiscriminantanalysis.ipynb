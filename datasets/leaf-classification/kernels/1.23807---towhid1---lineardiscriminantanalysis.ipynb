{
  "cells": [
    {
      "cell_type": "code",
      "execution_count": null,
      "metadata": {
        "_cell_guid": "bc256086-d4c0-b3eb-5999-8eb4e141d44c"
      },
      "outputs": [],
      "source": [
        "# This Python 3 environment comes with many helpful analytics libraries installed\n",
        "# It is defined by the kaggle/python docker image: https://github.com/kaggle/docker-python\n",
        "# For example, here's several helpful packages to load in \n",
        "\n",
        "import numpy as np # linear algebra\n",
        "import pandas as pd # data processing, CSV file I/O (e.g. pd.read_csv)\n",
        "\n",
        "# Input data files are available in the \"../input/\" directory.\n",
        "# For example, running this (by clicking run or pressing Shift+Enter) will list the files in the input directory\n",
        "\n",
        "from subprocess import check_output\n",
        "print(check_output([\"ls\", \"../input\"]).decode(\"utf8\"))\n",
        "\n",
        "# Any results you write to the current directory are saved as output."
      ]
    },
    {
      "cell_type": "code",
      "execution_count": null,
      "metadata": {
        "_cell_guid": "d40aea94-eb3d-4713-42fd-1555c6470675"
      },
      "outputs": [],
      "source": [
        "train = pd.read_csv('../input/train.csv')\n",
        "test = pd.read_csv('../input/test.csv')\n",
        "print (train.shape)\n",
        "print (test.shape)\n",
        "test_ids = test.id \n",
        "\n",
        "levels=train.species\n",
        "train.drop(['species', 'id'], axis=1,inplace=True) \n",
        "test.drop(['id'],axis=1,inplace=True)\n",
        "print (\"after \")\n",
        "print (levels.shape)\n",
        "print (train.shape)\n",
        "print (test.shape)\n",
        "print (\"number of classes =\",levels.unique().shape)"
      ]
    },
    {
      "cell_type": "code",
      "execution_count": null,
      "metadata": {
        "_cell_guid": "836fc028-a993-1479-3a40-2554ca181029"
      },
      "outputs": [],
      "source": [
        "from sklearn.preprocessing import LabelEncoder\n",
        "le=LabelEncoder().fit(levels)\n",
        "levels=le.transform(levels)"
      ]
    },
    {
      "cell_type": "code",
      "execution_count": null,
      "metadata": {
        "_cell_guid": "7a96a3e3-65bf-5ac6-30c4-49cfd5ebce9e"
      },
      "outputs": [],
      "source": [
        "from sklearn.discriminant_analysis import LinearDiscriminantAnalysis\n",
        "Model=LinearDiscriminantAnalysis()\n",
        "Model.fit(train, levels)"
      ]
    },
    {
      "cell_type": "code",
      "execution_count": null,
      "metadata": {
        "_cell_guid": "64a28959-00ef-d0b5-284c-446c0b1e07af"
      },
      "outputs": [],
      "source": [
        "predictions = Model.predict_proba(test)\n",
        "print (predictions.shape)\n",
        "sub = pd.DataFrame(predictions, columns=list(le.classes_))\n",
        "sub.insert(0, 'id', test_ids)\n",
        "sub.reset_index()\n",
        "sub.to_csv('submit.csv', index = False)\n",
        "sub.head()  "
      ]
    }
  ],
  "metadata": {
    "_change_revision": 0,
    "_is_fork": false,
    "kernelspec": {
      "display_name": "Python 3",
      "language": "python",
      "name": "python3"
    },
    "language_info": {
      "codemirror_mode": {
        "name": "ipython",
        "version": 3
      },
      "file_extension": ".py",
      "mimetype": "text/x-python",
      "name": "python",
      "nbconvert_exporter": "python",
      "pygments_lexer": "ipython3",
      "version": "3.5.2"
    }
  },
  "nbformat": 4,
  "nbformat_minor": 0
}