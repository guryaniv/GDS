{
  "cells": [
    {
      "cell_type": "markdown",
      "metadata": {
        "_cell_guid": "72af2a95-9796-4de0-a8cb-690301441c24"
      },
      "source": [
        "Full disclosure: I'm not familiar enough with the health marketplace data to draw any conclusions from my analysis. I am interested in healthcare data in general and I decided to use this dataset as a way to learn more about using Python (I'm more comfortable in SAS and R). And away we go!\n",
        "First we'll import the appropriate libraries and import some data. I'm going to take a look at the rates file and will specifically be looking at just a few columns (State, IndividualRate, and PrimarySubscriberAndOneDependent).\n",
        "\n"
      ]
    },
    {
      "cell_type": "code",
      "execution_count": null,
      "metadata": {
        "_cell_guid": "68c50f68-6a34-4666-964c-31651283600f"
      },
      "outputs": [],
      "source": [
        "import numpy as np \n",
        "import pandas as pd \n",
        "import seaborn as sns\n",
        "from  matplotlib import pyplot\n",
        "\n",
        "fields = ['StateCode','IndividualRate','PrimarySubscriberAndOneDependent','BusinessYear']\n",
        "\n",
        "csv_chunks = pd.read_csv(\"../input/Rate.csv\",iterator=True,chunksize = 1000,usecols=fields)\n",
        "rates = pd.concat(chunk for chunk in csv_chunks)"
      ]
    },
    {
      "cell_type": "markdown",
      "metadata": {
        "_cell_guid": "235f0e6e-4ab3-4d4c-9e6b-9ec9748bf4f9"
      },
      "source": [
        "Now that our data is loaded, I'll pair it down to 2016 and clear out the weird data (with rates over 9,000). Thankfully I've seen some notes from Ben and others pointing out this data, so I didn't have to find it myself. Also, I'm going to be comparing the individual rates vs. those with one dependent, so I'll filter out those with a null in the one dependent column. Then we'll take a quick look at the data."
      ]
    },
    {
      "cell_type": "code",
      "execution_count": null,
      "metadata": {
        "_cell_guid": "db3d81bf-f8f1-46ee-9c61-cb26bdc9e8ca"
      },
      "outputs": [],
      "source": [
        "rates = rates[np.isfinite(rates['PrimarySubscriberAndOneDependent'])]\n",
        "rates = rates[rates.IndividualRate <9000]\n",
        "rates = rates[rates.BusinessYear == 2016]\n",
        "\n",
        "rates.head(n=5)\n"
      ]
    },
    {
      "cell_type": "code",
      "execution_count": null,
      "metadata": {
        "_cell_guid": "f9e2e581-e969-4bea-80bb-a64f06dd9b49"
      },
      "outputs": [],
      "source": [
        "print(rates.describe())"
      ]
    },
    {
      "cell_type": "code",
      "execution_count": null,
      "metadata": {
        "_cell_guid": "4132c6c7-1015-4f70-9de8-80f55d9480a0"
      },
      "outputs": [],
      "source": [
        "import matplotlib.pyplot as plt\n",
        "\n",
        "##Individual histogram\n",
        "plt.hist(rates.IndividualRate.values)\n"
      ]
    },
    {
      "cell_type": "code",
      "execution_count": null,
      "metadata": {
        "_cell_guid": "3ffb1b4d-7f10-4aec-a7c4-2162435037ae"
      },
      "outputs": [],
      "source": [
        "##Remove records with 0 as PrimarySubscriberAndOneDependent\n",
        "rates = rates[rates.PrimarySubscriberAndOneDependent > 0]\n",
        "\n",
        "##OneDependent Histogram\n",
        "plt.hist(rates.PrimarySubscriberAndOneDependent.values)"
      ]
    },
    {
      "cell_type": "markdown",
      "metadata": {
        "_cell_guid": "c2a80531-b0d0-4df4-a300-622fdc973a56"
      },
      "source": [
        "Finally, I want to look at the data aggregated (I'll use median). Then I'd like to look at the ratio between the expense for One dependent vs. Individual."
      ]
    },
    {
      "cell_type": "code",
      "execution_count": null,
      "metadata": {
        "_cell_guid": "c59d2992-6ab7-4046-8a59-aae3678660da"
      },
      "outputs": [],
      "source": [
        "## Group data by state (using Median)\n",
        "rateMed = rates.groupby('StateCode', as_index=False).median()\n",
        "del rateMed['BusinessYear']\n",
        "\n",
        "\n",
        "\n",
        "## JointPlot of grouped data\n",
        "\n",
        "plt = sns.jointplot(x=\"IndividualRate\", y=\"PrimarySubscriberAndOneDependent\", data=rateMed)\n",
        "sns.plt.show()"
      ]
    },
    {
      "cell_type": "code",
      "execution_count": null,
      "metadata": {
        "_cell_guid": "3d2a8c8e-5ab1-489d-9cc6-d0752ade33de"
      },
      "outputs": [],
      "source": [
        "## Calculate the ratio\n",
        "rateMed['ratio'] = rateMed['PrimarySubscriberAndOneDependent']/rateMed['IndividualRate']\n",
        "rateMed.sort(['ratio'], ascending=[0])"
      ]
    },
    {
      "cell_type": "code",
      "execution_count": null,
      "metadata": {
        "_cell_guid": "a88b9638-2a92-4d9b-84a9-ab5741cef0f2"
      },
      "outputs": [],
      "source": [
        "plt = sns.barplot(rateMed.sort(['ratio'], ascending=[0]).StateCode, rateMed.ratio,palette=\"Blues\")\n",
        "sns.plt.show()"
      ]
    },
    {
      "cell_type": "markdown",
      "metadata": {
        "_cell_guid": "81474fa4-1bb0-493c-89f8-0e492d5caafb"
      },
      "source": [
        "As the table and chart show, 7 states (UT, WV, TN, AK, IL, VA, and IN) appear charge more than 2X the individual rate for those with the subscriber and one dependent."
      ]
    }
  ],
  "metadata": {
    "_change_revision": 0,
    "_is_fork": false,
    "kernelspec": {
      "display_name": "Python 3",
      "language": "python",
      "name": "python3"
    },
    "language_info": {
      "codemirror_mode": {
        "name": "ipython",
        "version": 3
      },
      "file_extension": ".py",
      "mimetype": "text/x-python",
      "name": "python",
      "nbconvert_exporter": "python",
      "pygments_lexer": "ipython3",
      "version": "3.5.2"
    }
  },
  "nbformat": 4,
  "nbformat_minor": 0
}