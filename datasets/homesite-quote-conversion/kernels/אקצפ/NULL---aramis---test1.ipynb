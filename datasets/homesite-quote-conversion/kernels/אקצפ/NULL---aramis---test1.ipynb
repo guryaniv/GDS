{"cells":[
 {
  "cell_type": "code",
  "execution_count": null,
  "metadata": {
   "collapsed": false
  },
  "outputs": [],
  "source": "import pandas as pd\n\ntrain = pd.read_csv(\"../input/train.csv\")\ntest = pd.read_csv(\"../input/test.csv\")\nprint(train.shape)\nprint(test.shape)\n"
 },
 {
  "cell_type": "code",
  "execution_count": null,
  "metadata": {
   "collapsed": false
  },
  "outputs": [],
  "source": "y = train['QuoteConversion_Flag']\ntrain.drop(train.columns[2], axis=1, inplace=True)"
 },
 {
  "cell_type": "code",
  "execution_count": null,
  "metadata": {
   "collapsed": false
  },
  "outputs": [],
  "source": "train_length = len(train)\ncomplete_data = train.append(test)\nprint(complete_data.shape)"
 },
 {
  "cell_type": "code",
  "execution_count": null,
  "metadata": {
   "collapsed": false
  },
  "outputs": [],
  "source": "import pandas as pd\nimport numpy as np\nimport xgboost as xgb\nfrom sklearn import preprocessing\nfrom sklearn.cross_validation import train_test_split\nfrom sklearn.preprocessing import LabelEncoder\nfrom sklearn.metrics import accuracy_score, confusion_matrix, roc_auc_score, classification_report, auc, roc_curve\n\ndef pre_processing(data):\n    data['Date'] = pd.to_datetime(pd.Series(data['Original_Quote_Date']))\n    data = data.drop('Original_Quote_Date', axis=1)\n    data['Month'] = data['Date'].apply(lambda x: int(str(x)[5:7]))\n    data['weekday'] = data['Date'].dt.dayofweek\n    data.drop('Date', axis=1, inplace=True)\n    le = LabelEncoder()\n    for f in data.columns:\n        if data[f].dtype=='object':\n            lbl = preprocessing.LabelEncoder()\n            lbl.fit(list(data[f].values))\n            data[f] = lbl.transform(list(data[f].values))\n    return data\ncomplete_data = pre_processing(complete_data)"
 },
 {
  "cell_type": "code",
  "execution_count": null,
  "metadata": {
   "collapsed": false
  },
  "outputs": [],
  "source": "train_data = complete_data.iloc[0:train_length, ]\ntest_data = complete_data.iloc[train_length:, ]\nparam = {}\nparam = {'bst:max_depth':10, 'objective':'binary:logistic'}\nparam['nthread'] = -1\nparam['eval_metric'] = ['auc']\nparam['learning_rate'] = 0.025\nparam['silent'] = True\nparam['subsample'] = 0.8\nparam['colsample_bytree'] = 0.8"
 },
 {
  "cell_type": "code",
  "execution_count": null,
  "metadata": {
   "collapsed": false
  },
  "outputs": [],
  "source": "num_round = 10\ndtrain = xgb.DMatrix(train_data, label=y, missing=np.nan)\ndtest = xgb.DMatrix(test_data, missing=np.nan)\nevallist = [(dtest, 'eval'), (dtrain, 'train')]\ngbm = xgb.train(param, dtrain, num_round)\nprediction_1 = gbm.predict(dtest)"
 },
 {
  "cell_type": "code",
  "execution_count": null,
  "metadata": {
   "collapsed": false
  },
  "outputs": [],
  "source": "sample = pd.read_csv('../input/sample_submission.csv')\nsample.QuoteConversion_Flag = prediction_1\nsample.to_csv('xgb_benchmark.csv', index=False)\n"
 },
 {
  "cell_type": "code",
  "execution_count": null,
  "metadata": {
   "collapsed": false
  },
  "outputs": [],
  "source": "2+445\n"
 }
],"metadata":{"kernelspec":{"display_name":"Python 3","language":"python","name":"python3"}}, "nbformat": 4, "nbformat_minor": 0}