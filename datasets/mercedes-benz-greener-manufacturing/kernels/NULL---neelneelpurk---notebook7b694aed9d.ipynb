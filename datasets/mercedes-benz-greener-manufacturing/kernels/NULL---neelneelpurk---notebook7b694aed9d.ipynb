{
  "cells": [
    {
      "cell_type": "code",
      "execution_count": null,
      "metadata": {
        "_cell_guid": "8e425f19-cb47-5474-a79e-dcf05bdf053d"
      },
      "outputs": [],
      "source": [
        "# This Python 3 environment comes with many helpful analytics libraries installed\n",
        "# It is defined by the kaggle/python docker image: https://github.com/kaggle/docker-python\n",
        "# For example, here's several helpful packages to load in \n",
        "\n",
        "import numpy as np # linear algebra\n",
        "import pandas as pd # data processing, CSV file I/O (e.g. pd.read_csv)\n",
        "import matplotlib.pyplot as plt\n",
        "%matplotlib inline\n",
        "import seaborn as sns\n",
        "# Input data files are available in the \"../input/\" directory.\n",
        "# For example, running this (by clicking run or pressing Shift+Enter) will list the files in the input directory\n",
        "\n",
        "from sklearn import model_selection, preprocessing\n",
        "import xgboost as xgb\n",
        "\n",
        "\n",
        "from subprocess import check_output\n",
        "print(check_output([\"ls\", \"../input\"]).decode(\"utf8\"))\n"
      ]
    },
    {
      "cell_type": "code",
      "execution_count": null,
      "metadata": {
        "_cell_guid": "1e72f055-9eed-a92d-a287-d42cb6201454"
      },
      "outputs": [],
      "source": [
        "df_mr = pd.read_csv(\"../input/train.csv\")\n",
        "df_mr.head()"
      ]
    },
    {
      "cell_type": "code",
      "execution_count": null,
      "metadata": {
        "_cell_guid": "61c64eee-735a-d094-f922-ee57e6097fe7"
      },
      "outputs": [],
      "source": [
        "df_mr.shape"
      ]
    },
    {
      "cell_type": "code",
      "execution_count": null,
      "metadata": {
        "_cell_guid": "3269630e-e97d-a842-091f-614a9b4117b7"
      },
      "outputs": [],
      "source": [
        "missing_df = df_mr.isnull().sum(axis=0).reset_index()\n",
        "missing_df.columns = ['column_name', 'missing_count']\n",
        "missing_df = missing_df.ix[missing_df['missing_count']>0]\n",
        "missing_df"
      ]
    },
    {
      "cell_type": "code",
      "execution_count": null,
      "metadata": {
        "_cell_guid": "ef68b173-2656-836c-f4e5-4c4713b61513"
      },
      "outputs": [],
      "source": [
        "shape = df_mr.shape\n",
        "print(\"No of rows in this data :\" + str(shape[0]))\n",
        "print(\"No of unique value of IDs in this data :\" + str(len(np.unique(df_mr['ID'])) ))"
      ]
    },
    {
      "cell_type": "code",
      "execution_count": null,
      "metadata": {
        "_cell_guid": "9b976b69-9229-b742-4367-c1cb0d6e2aed"
      },
      "outputs": [],
      "source": [
        "df_X = df_mr.drop([\"ID\",\"y\"], axis=1)\n",
        "print('Feature types:')\n",
        "df_X.dtypes.value_counts()"
      ]
    },
    {
      "cell_type": "code",
      "execution_count": null,
      "metadata": {
        "_cell_guid": "f7152b2d-09b6-8794-51bb-44248f43b2f5"
      },
      "outputs": [],
      "source": [
        "counts = [[], [], []]\n",
        "cols = df_X.columns\n",
        "for c in cols:\n",
        "    typ = df_X[c].dtype\n",
        "    uniq = len(np.unique(df_X[c]))\n",
        "    if uniq == 1: counts[0].append(c)\n",
        "    elif uniq == 2 and typ == np.int64: counts[1].append(c)\n",
        "    else: counts[2].append(c)\n",
        "\n",
        "print('Constant features: {} Binary features: {} Categorical features: {}\\n'.format(*[len(c) for c in counts]))\n",
        "\n",
        "print('Constant features:', counts[0])\n",
        "print('Categorical features:', counts[2])"
      ]
    },
    {
      "cell_type": "code",
      "execution_count": null,
      "metadata": {
        "_cell_guid": "4f4b19b8-45db-211c-dc42-882ac4b4beaa"
      },
      "outputs": [],
      "source": [
        "df = df_mr.copy()\n",
        "for f in df.columns:\n",
        "    if df[f].dtype=='object':\n",
        "        lbl = preprocessing.LabelEncoder()\n",
        "        lbl.fit(list(df[f].values)) \n",
        "        df[f] = lbl.transform(list(df[f].values))\n",
        "df.head()"
      ]
    },
    {
      "cell_type": "code",
      "execution_count": null,
      "metadata": {
        "_cell_guid": "0dcd28b6-c431-5097-7877-51d34cccc722"
      },
      "outputs": [],
      "source": [
        "train_y = df.y.values\n",
        "train_X = df.drop([\"y\",'ID'], axis=1)\n",
        "\n",
        "xgb_params = {\n",
        "    'eta': 0.05,\n",
        "    'max_depth': 8,\n",
        "    'subsample': 0.7,\n",
        "    'colsample_bytree': 0.7,\n",
        "    'objective': 'reg:linear',\n",
        "    'eval_metric': 'rmse', \n",
        "    'silent': 1\n",
        "}\n",
        "dtrain = xgb.DMatrix(train_X, train_y, feature_names=train_X.columns.values)\n",
        "model = xgb.train(dict(xgb_params, silent=0), dtrain, num_boost_round=100)\n",
        "\n",
        "# plot the important features #\n",
        "fig, ax = plt.subplots(figsize=(12,18))\n",
        "xgb.plot_importance(model, max_num_features=30, height=0.8, ax=ax)\n",
        "plt.show()"
      ]
    },
    {
      "cell_type": "code",
      "execution_count": null,
      "metadata": {
        "_cell_guid": "2fef25f6-3482-0f07-e41e-0be95c0dc78f"
      },
      "outputs": [],
      "source": [
        "\n",
        "arr = [5,10,8,6,1,2,3]\n",
        "for i in arr :\n",
        "    var_name = \"X\" + str(i)\n",
        "    col_order = np.sort(df_mr[var_name].unique()).tolist()\n",
        "    plt.figure(figsize=(12,6))\n",
        "    sns.countplot(x=var_name, data=df_mr)\n",
        "    plt.xlabel(var_name, fontsize=12)\n",
        "    plt.ylabel('Occurance', fontsize=12)\n",
        "    plt.title(\"Occurance of\"+var_name, fontsize=15)\n",
        "    plt.show()\n",
        "    plt.figure(figsize=(12,6))\n",
        "    sns.boxplot(x=var_name, y='y', data=df_mr)\n",
        "    plt.xlabel(var_name, fontsize=12)\n",
        "    plt.ylabel('y', fontsize=12)\n",
        "    plt.title(\"Distribution of y variable with \"+var_name, fontsize=15)\n",
        "    plt.show()"
      ]
    },
    {
      "cell_type": "code",
      "execution_count": null,
      "metadata": {
        "_cell_guid": "a354b311-00b7-2bc0-14eb-07daf266e35f"
      },
      "outputs": [],
      "source": ""
    }
  ],
  "metadata": {
    "_change_revision": 0,
    "_is_fork": false,
    "kernelspec": {
      "display_name": "Python 3",
      "language": "python",
      "name": "python3"
    },
    "language_info": {
      "codemirror_mode": {
        "name": "ipython",
        "version": 3
      },
      "file_extension": ".py",
      "mimetype": "text/x-python",
      "name": "python",
      "nbconvert_exporter": "python",
      "pygments_lexer": "ipython3",
      "version": "3.6.0"
    }
  },
  "nbformat": 4,
  "nbformat_minor": 0
}