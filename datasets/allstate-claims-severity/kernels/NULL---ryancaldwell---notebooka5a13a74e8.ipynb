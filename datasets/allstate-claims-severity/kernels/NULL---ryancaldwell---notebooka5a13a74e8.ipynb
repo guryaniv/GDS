{
  "cells": [
    {
      "cell_type": "code",
      "execution_count": null,
      "metadata": {
        "_cell_guid": "7b4706fd-14d6-be3a-0514-666b8942c20b"
      },
      "outputs": [],
      "source": [
        "import pandas as pd\n",
        "import scipy.stats as ss\n",
        "import matplotlib.pyplot as plt\n",
        "from sklearn.ensemble import RandomForestRegressor\n",
        "from sklearn.model_selection import cross_val_score"
      ]
    },
    {
      "cell_type": "code",
      "execution_count": null,
      "metadata": {
        "_cell_guid": "bc0c6fea-ca37-9e35-9a85-66c69b36fb94"
      },
      "outputs": [],
      "source": [
        "train = pd.read_csv(\"../input/train.csv\")"
      ]
    },
    {
      "cell_type": "code",
      "execution_count": null,
      "metadata": {
        "_cell_guid": "0392e96e-fa71-9c70-fd85-366a5697fafa"
      },
      "outputs": [],
      "source": [
        "train.columns"
      ]
    },
    {
      "cell_type": "code",
      "execution_count": null,
      "metadata": {
        "_cell_guid": "8462d7a5-c40b-f669-bd8d-28f414930aa8"
      },
      "outputs": [],
      "source": [
        "cols = train.columns[1:116]\n",
        "\n",
        "for i in cols:\n",
        "    print(train[i].unique())"
      ]
    },
    {
      "cell_type": "code",
      "execution_count": null,
      "metadata": {
        "_cell_guid": "ba1ff526-5a55-9d82-7bb6-fe76a6186365"
      },
      "outputs": [],
      "source": [
        "X = train.ix[:,117:131]\n",
        "y = train['loss']"
      ]
    },
    {
      "cell_type": "code",
      "execution_count": null,
      "metadata": {
        "_cell_guid": "33689399-3cfd-e1b9-29b6-3260c10c694c"
      },
      "outputs": [],
      "source": [
        "X.dtypes"
      ]
    },
    {
      "cell_type": "code",
      "execution_count": null,
      "metadata": {
        "_cell_guid": "affa2bb1-854a-5245-f98a-bd4c85f2f8d5"
      },
      "outputs": [],
      "source": [
        "cvs = cross_val_score(estimator=RandomForestRegressor(), \n",
        "                      X=X, \n",
        "                      y=y, \n",
        "                      cv=5, \n",
        "                      scoring='mean_absolute_error')"
      ]
    },
    {
      "cell_type": "code",
      "execution_count": null,
      "metadata": {
        "_cell_guid": "79c4be21-b540-98e2-78ca-b681e49630d0"
      },
      "outputs": [],
      "source": [
        "cvs.mean()"
      ]
    },
    {
      "cell_type": "code",
      "execution_count": null,
      "metadata": {
        "_cell_guid": "f030963d-d912-6431-3ac4-9d36749aaf41"
      },
      "outputs": [],
      "source": [
        "y.describe()"
      ]
    },
    {
      "cell_type": "code",
      "execution_count": null,
      "metadata": {
        "_cell_guid": "f59c2452-ab06-f5a9-eb17-c02efc79ad3a"
      },
      "outputs": [],
      "source": [
        "plt.hist(y, bins=1000)\n",
        "plt.show()"
      ]
    },
    {
      "cell_type": "code",
      "execution_count": null,
      "metadata": {
        "_cell_guid": "66c5f13e-b91c-6abc-9937-5be459c62801"
      },
      "outputs": [],
      "source": [
        "fit_alpha, fit_loc, fit_beta=ss.gamma.fit(y)\n",
        "print(fit_alpha, fit_loc, fit_beta)"
      ]
    },
    {
      "cell_type": "code",
      "execution_count": null,
      "metadata": {
        "_cell_guid": "a09d761c-d0b5-d350-422a-d0618d712e56"
      },
      "outputs": [],
      "source": [
        "pred = ss.gamma.rvs(a=fit_alpha, loc=fit_loc, scale=fit_beta, size = X.shape[0])"
      ]
    },
    {
      "cell_type": "code",
      "execution_count": null,
      "metadata": {
        "_cell_guid": "edded4b7-906e-c84f-10d1-72fd26198297"
      },
      "outputs": [],
      "source": [
        "diffs = abs(y - pred)"
      ]
    },
    {
      "cell_type": "code",
      "execution_count": null,
      "metadata": {
        "_cell_guid": "a751fd7b-305b-5752-56cb-ad4ccf39ba6d"
      },
      "outputs": [],
      "source": [
        "diffs.mean()"
      ]
    }
  ],
  "metadata": {
    "_change_revision": 0,
    "_is_fork": false,
    "kernelspec": {
      "display_name": "Python 3",
      "language": "python",
      "name": "python3"
    },
    "language_info": {
      "codemirror_mode": {
        "name": "ipython",
        "version": 3
      },
      "file_extension": ".py",
      "mimetype": "text/x-python",
      "name": "python",
      "nbconvert_exporter": "python",
      "pygments_lexer": "ipython3",
      "version": "3.5.2"
    }
  },
  "nbformat": 4,
  "nbformat_minor": 0
}