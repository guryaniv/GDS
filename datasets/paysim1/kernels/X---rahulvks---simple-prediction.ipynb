{
  "cells": [
    {
      "cell_type": "code",
      "execution_count": null,
      "metadata": {
        "_cell_guid": "3ada262f-db1a-7fc2-747d-b7583cb6c5a3"
      },
      "outputs": [],
      "source": [
        "# This Python 3 environment comes with many helpful analytics libraries installed\n",
        "# It is defined by the kaggle/python docker image: https://github.com/kaggle/docker-python\n",
        "# For example, here's several helpful packages to load in \n",
        "\n",
        "import numpy as np # linear algebra\n",
        "import pandas as pd # data processing, CSV file I/O (e.g. pd.read_csv)\n",
        "\n",
        "# Input data files are available in the \"../input/\" directory.\n",
        "# For example, running this (by clicking run or pressing Shift+Enter) will list the files in the input directory\n",
        "\n",
        "from subprocess import check_output\n",
        "print(check_output([\"ls\", \"../input\"]).decode(\"utf8\"))\n",
        "import pandas as pd\n",
        "import numpy as np\n",
        "import seaborn as sns\n",
        "import matplotlib.pyplot as plt\n",
        "%matplotlib inline\n",
        "import plotly.offline as py\n",
        "py.init_notebook_mode(connected=True)\n",
        "import plotly.graph_objs as go\n",
        "import plotly.tools as tls\n",
        "import warnings\n",
        "warnings.filterwarnings('ignore')\n",
        "\n",
        "# Any results you write to the current directory are saved as output."
      ]
    },
    {
      "cell_type": "code",
      "execution_count": null,
      "metadata": {
        "_cell_guid": "a1802351-2566-ba48-3fda-6a33f90abe36"
      },
      "outputs": [],
      "source": [
        "meta_data = pd.read_csv(\"../input/PS_20174392719_1491204439457_log.csv\")\n",
        "del meta_data['nameDest']\n",
        "del meta_data['nameOrig']\n",
        "del meta_data['type']\n",
        "len(meta_data)"
      ]
    },
    {
      "cell_type": "code",
      "execution_count": null,
      "metadata": {
        "_cell_guid": "759c2a11-d04c-23e5-ec1b-a0c56085a6b9"
      },
      "outputs": [],
      "source": [
        "\n",
        "meta_data.describe()"
      ]
    },
    {
      "cell_type": "code",
      "execution_count": null,
      "metadata": {
        "_cell_guid": "12f070bd-eeb0-778f-7e64-1abc42ade682"
      },
      "outputs": [],
      "source": [
        "Cols = meta_data[['step','amount','oldbalanceOrg','newbalanceOrig','oldbalanceDest','newbalanceDest','isFlaggedFraud']]\n",
        "y = meta_data['isFraud']\n",
        "X = Cols"
      ]
    },
    {
      "cell_type": "markdown",
      "metadata": {
        "_cell_guid": "20cd5326-4b49-9021-a230-8e77498f5772"
      },
      "source": [
        "**Random Forest**"
      ]
    },
    {
      "cell_type": "code",
      "execution_count": null,
      "metadata": {
        "_cell_guid": "0019e8ed-4ea4-2e1c-1578-b65e49248103"
      },
      "outputs": [],
      "source": [
        "from sklearn.ensemble import RandomForestClassifier\n",
        "from sklearn.cross_validation import train_test_split\n",
        "rfc = RandomForestClassifier() #using default values\n",
        "X_train, X_test, y_train, y_test = train_test_split(X, y, test_size=0.3, random_state=42) #use this random state to match my results only\n",
        "#training our model\n",
        "model = rfc.fit(X_train,y_train)\n",
        "#predicting our labels\n",
        "predictions = model.predict(X_test)"
      ]
    },
    {
      "cell_type": "code",
      "execution_count": null,
      "metadata": {
        "_cell_guid": "4193f43b-779d-1657-3734-8e8ff0ead15b"
      },
      "outputs": [],
      "source": [
        "from sklearn.metrics import classification_report, confusion_matrix\n",
        "print(classification_report(y_test,predictions))\n",
        "print(confusion_matrix(y_test, predictions))\n",
        "from sklearn.metrics import accuracy_score\n",
        "accuracy_score(y_test,predictions)"
      ]
    },
    {
      "cell_type": "code",
      "execution_count": null,
      "metadata": {
        "_cell_guid": "c6e16240-5ebc-0092-8b3a-6404c56d09be"
      },
      "outputs": [],
      "source": [
        "print (\"Random Forest Accuracy\", accuracy_score(y_test,predictions))"
      ]
    },
    {
      "cell_type": "markdown",
      "metadata": {
        "_cell_guid": "b28a9dee-2828-2138-f865-5e0b3cabb46a"
      },
      "source": [
        "**Logistic Regression**"
      ]
    },
    {
      "cell_type": "code",
      "execution_count": null,
      "metadata": {
        "_cell_guid": "36fe713f-4b4a-76c0-5e68-23b01a853195"
      },
      "outputs": [],
      "source": [
        "from sklearn import linear_model\n",
        "logitic = linear_model.LogisticRegression()\n",
        "model = logitic.fit(X_train,y_train)\n",
        "predictions = model.predict(X_test)\n",
        "print(classification_report(y_test,predictions))\n",
        "print(confusion_matrix(y_test, predictions))\n",
        "accuracy_score(y_test,predictions)\n"
      ]
    },
    {
      "cell_type": "code",
      "execution_count": null,
      "metadata": {
        "_cell_guid": "8eea742f-afa9-5f93-1463-54b87f72a572"
      },
      "outputs": [],
      "source": [
        "print (\"Logistic Regression Accuracy\", accuracy_score(y_test,predictions))"
      ]
    },
    {
      "cell_type": "markdown",
      "metadata": {
        "_cell_guid": "431d9877-f50d-ca3a-72ef-d6851d39c6fd"
      },
      "source": [
        "**Naive bayes**"
      ]
    },
    {
      "cell_type": "code",
      "execution_count": null,
      "metadata": {
        "_cell_guid": "cd969c9f-05c5-a68c-eafe-1f1ff87c91a8"
      },
      "outputs": [],
      "source": [
        "from sklearn.naive_bayes import GaussianNB\n",
        "gnb = GaussianNB()\n",
        "model = gnb.fit(X_train,y_train)\n",
        "predictions = model.predict(X_test)\n",
        "print(classification_report(y_test,predictions))\n",
        "print(confusion_matrix(y_test, predictions))\n",
        "accuracy_score(y_test,predictions)"
      ]
    },
    {
      "cell_type": "code",
      "execution_count": null,
      "metadata": {
        "_cell_guid": "ab09e1bb-1594-69a7-0e6b-dc304408988d"
      },
      "outputs": [],
      "source": [
        "print (\"Navie bayes Accuracy\", accuracy_score(y_test,predictions))"
      ]
    },
    {
      "cell_type": "code",
      "execution_count": null,
      "metadata": {
        "_cell_guid": "dab016a0-ec03-224d-abb0-cebc1d4bfc51"
      },
      "outputs": [],
      "source": [
        ""
      ]
    }
  ],
  "metadata": {
    "_change_revision": 0,
    "_is_fork": false,
    "kernelspec": {
      "display_name": "Python 3",
      "language": "python",
      "name": "python3"
    },
    "language_info": {
      "codemirror_mode": {
        "name": "ipython",
        "version": 3
      },
      "file_extension": ".py",
      "mimetype": "text/x-python",
      "name": "python",
      "nbconvert_exporter": "python",
      "pygments_lexer": "ipython3",
      "version": "3.6.0"
    }
  },
  "nbformat": 4,
  "nbformat_minor": 0
}