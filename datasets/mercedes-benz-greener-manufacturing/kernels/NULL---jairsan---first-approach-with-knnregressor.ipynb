{
  "cells": [
    {
      "cell_type": "markdown",
      "metadata": {
        "_cell_guid": "8b139ffd-a60a-85e7-3f2a-bd233d827bf0"
      },
      "source": [
        ""
      ]
    },
    {
      "cell_type": "code",
      "execution_count": null,
      "metadata": {
        "_cell_guid": "40d4d96e-6a35-058f-55d2-49bc23db5bf3"
      },
      "outputs": [],
      "source": [
        "# This Python 3 environment comes with many helpful analytics libraries installed\n",
        "# It is defined by the kaggle/python docker image: https://github.com/kaggle/docker-python\n",
        "# For example, here's several helpful packages to load in \n",
        "\n",
        "import numpy as np # linear algebra\n",
        "import pandas as pd # data processing, CSV file I/O (e.g. pd.read_csv)\n",
        "\n",
        "# Input data files are available in the \"../input/\" directory.\n",
        "# For example, running this (by clicking run or pressing Shift+Enter) will list the files in the input directory\n",
        "\n",
        "from subprocess import check_output\n",
        "print(check_output([\"ls\", \"../input\"]).decode(\"utf8\"))\n",
        "\n",
        "# Any results you write to the current directory are saved as output."
      ]
    },
    {
      "cell_type": "code",
      "execution_count": null,
      "metadata": {
        "_cell_guid": "83c8c600-59aa-7207-f8b5-bf0bcff28699"
      },
      "outputs": [],
      "source": [
        "import pandas as pd\n",
        "import csv\n",
        "from sklearn.neighbors import KNeighborsRegressor\n",
        "from sklearn import preprocessing"
      ]
    },
    {
      "cell_type": "code",
      "execution_count": null,
      "metadata": {
        "_cell_guid": "bfdcc34b-e6ef-b993-db87-a2200d00e503"
      },
      "outputs": [],
      "source": [
        "train = pd.read_csv(\"../input/train.csv\")\n",
        "test = pd.read_csv(\"../input/test.csv\")\n",
        "categorical=[\"X0\",\"X1\",\"X2\",\"X3\",\"X4\",\"X5\",\"X6\",\"X8\"]"
      ]
    },
    {
      "cell_type": "code",
      "execution_count": null,
      "metadata": {
        "_cell_guid": "fcd0c2c5-05bc-5adc-e3a9-71767a70b1b4"
      },
      "outputs": [],
      "source": [
        "#Remove ID, store it in separate variable in case of test data\n",
        "train=train.drop(\"ID\",axis=1)\n",
        "labels=test[\"ID\"]\n",
        "test=test.drop(\"ID\",axis=1)"
      ]
    },
    {
      "cell_type": "code",
      "execution_count": null,
      "metadata": {
        "_cell_guid": "7ba1d1b4-44e5-77e6-c728-368312e56f73"
      },
      "outputs": [],
      "source": [
        "#Transform categorical data\n",
        "for l in categorical:\n",
        "    ec = preprocessing.LabelEncoder()\n",
        "    ec.fit(list(train[l].values)+list(test[l].values))\n",
        "    train[l]=ec.transform(list(train[l].values))\n",
        "    test[l]=ec.transform(list(test[l].values))\n",
        "    train[l] = train[l].astype(float)\n",
        "    test[l] = test[l].astype(float)"
      ]
    },
    {
      "cell_type": "code",
      "execution_count": null,
      "metadata": {
        "_cell_guid": "c4a6af18-e0f7-3087-c2fe-c846397a2392"
      },
      "outputs": [],
      "source": [
        "ytrain=train[\"y\"].as_matrix()\n",
        "train=train.drop(\"y\",axis=1)\n",
        "\n",
        "xtrain=train.as_matrix()\n",
        "\n",
        "#Scale data\n",
        "scaler = preprocessing.MinMaxScaler()\n",
        "xtrain = scaler.fit_transform(xtrain)\n",
        "\n",
        "#Prepare the KNNRegressor\n",
        "regressor=KNeighborsRegressor(10,weights='distance')\n",
        "regressor.fit(xtrain,ytrain)"
      ]
    },
    {
      "cell_type": "code",
      "execution_count": null,
      "metadata": {
        "_cell_guid": "487542b2-8b41-c942-91a9-8bc6b7081ff5"
      },
      "outputs": [],
      "source": [
        "#Predict and save the results\n",
        "predictions=regressor.predict(scaler.transform(test.as_matrix()))\n",
        "\n",
        "with open('results2.csv', 'w', newline='') as csvfile:\n",
        "    writer = csv.writer(csvfile, delimiter=',')\n",
        "    writer.writerow([\"ID\",\"y\"])\n",
        "    for i in range(0,len(predictions)):\n",
        "        writer.writerow([labels[i],predictions[i]])"
      ]
    }
  ],
  "metadata": {
    "_change_revision": 0,
    "_is_fork": false,
    "kernelspec": {
      "display_name": "Python 3",
      "language": "python",
      "name": "python3"
    },
    "language_info": {
      "codemirror_mode": {
        "name": "ipython",
        "version": 3
      },
      "file_extension": ".py",
      "mimetype": "text/x-python",
      "name": "python",
      "nbconvert_exporter": "python",
      "pygments_lexer": "ipython3",
      "version": "3.6.0"
    }
  },
  "nbformat": 4,
  "nbformat_minor": 0
}