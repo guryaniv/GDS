{
  "cells": [
    {
      "cell_type": "code",
      "execution_count": null,
      "metadata": {
        "_cell_guid": "3528221b-f316-5635-76be-9362335aa6c9"
      },
      "outputs": [],
      "source": [
        "\n",
        "import nltk\n",
        "#natural language toolkit\n"
      ]
    },
    {
      "cell_type": "code",
      "execution_count": null,
      "metadata": {
        "_cell_guid": "53e7cd8b-bd13-19ce-015a-a9a28c98e8cc"
      },
      "outputs": [],
      "source": [
        "from nltk.book import*\n",
        "#9 types of text available in NLTK book you may choose any text as per your interest\n"
      ]
    },
    {
      "cell_type": "code",
      "execution_count": null,
      "metadata": {
        "_cell_guid": "d7aa4c8d-2df6-e4ea-78d7-ac09c28c7e1c"
      },
      "outputs": [],
      "source": [
        "# display all occurences of word in piece of text along with context\n",
        "text1.concordance(\"india\")"
      ]
    },
    {
      "cell_type": "code",
      "execution_count": null,
      "metadata": {
        "_cell_guid": "9bc45394-b1c8-142d-3d28-f5a72ea39852"
      },
      "outputs": [],
      "source": [
        "text2.concordance(\"good\")\n"
      ]
    },
    {
      "cell_type": "code",
      "execution_count": null,
      "metadata": {
        "_cell_guid": "fbf74435-c5c8-a40f-2861-551bc9398c26"
      },
      "outputs": [],
      "source": [
        "# returns a list of words that appaer in similar context usually synonyms\n",
        "text1.similar(\"india\")\n"
      ]
    },
    {
      "cell_type": "code",
      "execution_count": null,
      "metadata": {
        "_cell_guid": "03fe692f-0671-1b72-528a-266213341e93"
      },
      "outputs": [],
      "source": [
        "text2.similar(\"good\")\n",
        "\n"
      ]
    },
    {
      "cell_type": "code",
      "execution_count": null,
      "metadata": {
        "_cell_guid": "65f6f40b-5061-06c5-b68a-d1f9d23357f8"
      },
      "outputs": [],
      "source": [
        "# returns contexts shared by 2 words\n",
        "text2.common_contexts(['india','good'])"
      ]
    },
    {
      "cell_type": "code",
      "execution_count": null,
      "metadata": {
        "_cell_guid": "f148b163-b5fd-6cd2-ebe5-2e3c07ee7ef9"
      },
      "outputs": [],
      "source": [
        "# print plot of all occurences of the word relative to begining of the text\n",
        "text1.dispersion_plot(['india','good'])\n"
      ]
    },
    {
      "cell_type": "code",
      "execution_count": null,
      "metadata": {
        "_cell_guid": "73e3de8c-c705-03b7-5e9f-0958f94e6efe"
      },
      "outputs": [],
      "source": [
        "from nltk.tokenize import word_tokenize, sent_tokenize\n",
        "text=\"amruta,shraddha,pradnya we are friends.\"\n",
        "sents=sent_tokenize(text)\n",
        "print(sents)\n"
      ]
    },
    {
      "cell_type": "code",
      "execution_count": null,
      "metadata": {
        "_cell_guid": "29059175-fa8c-251b-0067-b87046683e06"
      },
      "outputs": [],
      "source": [
        "l= nltk.word_tokenize(text)\n",
        "print(l)\n"
      ]
    },
    {
      "cell_type": "code",
      "execution_count": null,
      "metadata": {
        "_cell_guid": "6b986cba-2153-36c1-c3a5-e618bdb24cbb"
      },
      "outputs": [],
      "source": [
        "# Let's filter out stopwords (words that are very common like 'was', 'a', 'as etc)\n",
        "from nltk.corpus import stopwords \n",
        "from string import punctuation\n",
        "customStopWords=set(stopwords.words('english')+list(punctuation))\n",
        "#Notice how we made the stopwords a set\n",
        "\n",
        "wordsWOStopwords=[word for word in word_tokenize(text) if word not in customStopWords]\n",
        "print(wordsWOStopwords)"
      ]
    },
    {
      "cell_type": "code",
      "execution_count": null,
      "metadata": {
        "_cell_guid": "fe60182e-6432-9824-fda1-b78cd1f28654"
      },
      "outputs": [],
      "source": [
        "text2=\"this is BVCOEW.\"\n",
        "# 'close' appears in different morphological forms here, stemming will reduce all forms of the word 'close' to its root\n",
        "# NLTK has multiple stemmers based on different rules/algorithms. Stemming is also known as lemmatization. \n",
        "from nltk.stem.lancaster import LancasterStemmer\n",
        "st=LancasterStemmer()\n",
        "stemmedWords=[st.stem(word) for word in word_tokenize(text2)]\n",
        "print(stemmedWords)\n"
      ]
    },
    {
      "cell_type": "code",
      "execution_count": null,
      "metadata": {
        "_cell_guid": "a8067923-1d5c-e9f5-4fdb-44a17ca323f0"
      },
      "outputs": [],
      "source": [
        "#NLTK has functionality to automatically tag words as nouns, verbs, conjunctions etc\n",
        "nltk.pos_tag(word_tokenize(text2))\n"
      ]
    },
    {
      "cell_type": "code",
      "execution_count": null,
      "metadata": {
        "_cell_guid": "12abfec2-ccc5-f73e-71da-1b0397b7df31"
      },
      "outputs": [],
      "source": ""
    }
  ],
  "metadata": {
    "_change_revision": 0,
    "_is_fork": false,
    "kernelspec": {
      "display_name": "Python 3",
      "language": "python",
      "name": "python3"
    },
    "language_info": {
      "codemirror_mode": {
        "name": "ipython",
        "version": 3
      },
      "file_extension": ".py",
      "mimetype": "text/x-python",
      "name": "python",
      "nbconvert_exporter": "python",
      "pygments_lexer": "ipython3",
      "version": "3.6.0"
    }
  },
  "nbformat": 4,
  "nbformat_minor": 0
}