{
  "cells": [
    {
      "cell_type": "markdown",
      "metadata": {
        "_cell_guid": "ab872372-3724-e09b-f6f2-25ef67d1e02d"
      },
      "source": [
        "Rewritten original weird code"
      ]
    },
    {
      "cell_type": "code",
      "execution_count": null,
      "metadata": {
        "_cell_guid": "4d67033b-e87c-645c-1239-9159cb4d2453"
      },
      "outputs": [],
      "source": [
        "# This Python 3 environment comes with many helpful analytics libraries installed\n",
        "# It is defined by the kaggle/python docker image: https://github.com/kaggle/docker-python\n",
        "# For example, here's several helpful packages to load in \n",
        "\n",
        "import numpy as np\n",
        "import pandas as pd\n",
        "import timeit"
      ]
    },
    {
      "cell_type": "code",
      "execution_count": null,
      "metadata": {
        "_cell_guid": "7fa202dd-4819-99c3-6f5a-679488ee402a"
      },
      "outputs": [],
      "source": [
        "train =  pd.read_csv('../input/train.csv', header=0)\n",
        "test =  pd.read_csv('../input/test.csv', header=0)\n",
        "test.columns = ['id','question1','question2']\n",
        "test['qid1'] = 0\n",
        "test['qid2'] = 0\n",
        "test['is_duplicate'] = 999\n",
        "df = pd.concat([train,test],0)"
      ]
    },
    {
      "cell_type": "code",
      "execution_count": null,
      "metadata": {
        "_cell_guid": "f46b0672-eeac-77b0-c2f2-647ad75e1c98"
      },
      "outputs": [],
      "source": [
        "questions = pd.Series(list(set(df['question1']) | set(df['question2'])))\n",
        "questions.fillna('',inplace=True)\n",
        "\n",
        "q_all_count = pd.concat([df.groupby('question1').size(), df.groupby('question2').size()], 1).sum(1).astype(int)-1\n",
        "q_all_count_df = q_all_count.to_frame().reset_index().rename(columns={'index':'question',0:'count'})\n",
        "q_all_count_df.head()"
      ]
    },
    {
      "cell_type": "code",
      "execution_count": null,
      "metadata": {
        "_cell_guid": "cdced83d-625e-ce1b-fc03-142e4ad52d25"
      },
      "outputs": [],
      "source": [
        "train = train.merge(q_all_count_df.add_prefix('q1_'), left_on='question1', right_on='q1_question',how='left').drop('q1_question',1)\n",
        "train = train.merge(q_all_count_df.add_prefix('q2_'), left_on='question2', right_on='q2_question',how='left').drop('q2_question',1)\n",
        "train['q1_count'] = train['q1_count'].fillna(0).astype(int)\n",
        "train['q2_count'] = train['q2_count'].fillna(0).astype(int)\n",
        "train['q1_q2_count_diff'] = np.abs(train['q1_count']-train['q2_count'])"
      ]
    },
    {
      "cell_type": "code",
      "execution_count": null,
      "metadata": {
        "_cell_guid": "c620da2a-27a8-b5e7-3111-bb59fc039c08"
      },
      "outputs": [],
      "source": [
        "train.head(1)"
      ]
    },
    {
      "cell_type": "code",
      "execution_count": null,
      "metadata": {
        "_cell_guid": "26810f1a-2708-bd86-8f25-939948fdf3da"
      },
      "outputs": [],
      "source": [
        "test = test.merge(q_all_count_df.add_prefix('q1_'), left_on='question1', right_on='q1_question',how='left').drop('q1_question',1)\n",
        "test = test.merge(q_all_count_df.add_prefix('q2_'), left_on='question2', right_on='q2_question',how='left').drop('q2_question',1)\n",
        "test['q1_count'] = test['q1_count'].fillna(0).astype(int)\n",
        "test['q2_count'] = test['q2_count'].fillna(0).astype(int)\n",
        "test['q1_q2_count_diff'] = np.abs(test['q1_count']-train['q2_count'])"
      ]
    },
    {
      "cell_type": "code",
      "execution_count": null,
      "metadata": {
        "_cell_guid": "5d233b63-8034-1503-0387-258fbd2595c0"
      },
      "outputs": [],
      "source": [
        "test.head(1)"
      ]
    },
    {
      "cell_type": "code",
      "execution_count": null,
      "metadata": {
        "_cell_guid": "45730778-80b2-778f-4e2f-6e84abf49d04"
      },
      "outputs": [],
      "source": [
        "corr_mat = train.corr()\n",
        "corr_mat.head()\n",
        "#more frequenct questions are more likely to be duplicates"
      ]
    }
  ],
  "metadata": {
    "_change_revision": 0,
    "_is_fork": false,
    "kernelspec": {
      "display_name": "Python 3",
      "language": "python",
      "name": "python3"
    },
    "language_info": {
      "codemirror_mode": {
        "name": "ipython",
        "version": 3
      },
      "file_extension": ".py",
      "mimetype": "text/x-python",
      "name": "python",
      "nbconvert_exporter": "python",
      "pygments_lexer": "ipython3",
      "version": "3.6.0"
    }
  },
  "nbformat": 4,
  "nbformat_minor": 0
}