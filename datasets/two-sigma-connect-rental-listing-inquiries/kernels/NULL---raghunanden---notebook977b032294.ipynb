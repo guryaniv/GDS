{
  "metadata": {
    "kernelspec": {
      "display_name": "Python 3",
      "language": "python",
      "name": "python3"
    },
    "language_info": {
      "codemirror_mode": {
        "name": "ipython",
        "version": 3
      },
      "file_extension": ".py",
      "mimetype": "text/x-python",
      "name": "python",
      "nbconvert_exporter": "python",
      "pygments_lexer": "ipython3",
      "version": "3.6.0"
    }
  },
  "nbformat": 4,
  "nbformat_minor": 0,
  "cells": [
    {
      "cell_type": "code",
      "execution_count": null,
      "metadata": {
        "_cell_guid": "79100d17-e97d-0dc6-5108-a9a846dda2c7",
        "collapsed": false,
        "_active": false
      },
      "outputs": [],
      "source": "import time; start_time = time.time()\nfrom sklearn.feature_extraction.text import TfidfVectorizer, CountVectorizer\nfrom sklearn import preprocessing, model_selection\nfrom sklearn.base import BaseEstimator, TransformerMixin\nfrom sklearn.decomposition import TruncatedSVD\nfrom sklearn.pipeline import FeatureUnion\nfrom sklearn.metrics import log_loss\nfrom sklearn import pipeline\nimport pandas as pd\nimport numpy as np\nfrom nltk.stem.porter import *\nstemmer = PorterStemmer()\nfrom bs4 import BeautifulSoup\nimport random; random.seed(7)\nimport xgboost as xgb\nimport datetime as dt\nfrom scipy import sparse",
      "execution_state": "idle"
    },
    {
      "cell_type": "code",
      "execution_count": null,
      "metadata": {
        "_cell_guid": "72d0cf01-3b68-5e1c-e9e1-e4d91010763a",
        "_active": false,
        "collapsed": false
      },
      "outputs": [],
      "source": "train_df = pd.read_json(open(\"../input/train.json\", \"r\")) #limit\ntest_df = pd.read_json(open(\"../input/test.json\", \"r\")) #limit",
      "execution_state": "idle"
    },
    {
      "metadata": {
        "_cell_guid": "8f9c564d-cd5b-8f91-f106-39536bdd6990",
        "_active": false,
        "collapsed": false
      },
      "source": "def fix_con(df):\n    df['photos'] = df.photos.apply(len)\n\n    df[\"price_be\"] = df[\"price\"].divide(df[\"bedrooms\"])\n    df[\"price_ba\"] = df[\"price\"].divide(df[\"bathrooms\"])\n\n    df[\"created\"] = pd.to_datetime(df[\"created\"])\n    df[\"created_year\"] = df[\"created\"].dt.year\n    df[\"created_month\"] = df[\"created\"].dt.month\n    df[\"created_day\"] = df[\"created\"].dt.day\n    df['created_hour'] = df[\"created\"].dt.hour\n    df['created_weekday'] = df['created'].dt.weekday\n    df['created_week'] = df['created'].dt.week\n    df['created_quarter'] = df['created'].dt.quarter\n    df['created_weekend'] = ((df['created_weekday'] == 5) & (df['created_weekday'] == 6))\n    df['created_wd'] = ((df['created_weekday'] != 5) & (df['created_weekday'] != 6))\n    df['created'] = df['created'].map(lambda x: float((x - dt.datetime(1899, 12, 30)).days) + (float((x - dt.datetime(1899, 12, 30)).seconds) / 86400))\n\n    df['x5'] = df['latitude'].map(lambda x : round(x,5))\n    df['y5'] = df['longitude'].map(lambda x : round(x,5))\n    df['x4'] = df['latitude'].map(lambda x : round(x,4))\n    df['y4'] = df['longitude'].map(lambda x : round(x,4))\n    df['x3'] = df['latitude'].map(lambda x : round(x,3))\n    df['y3'] = df['longitude'].map(lambda x : round(x,3))\n    df['x2'] = df['latitude'].map(lambda x : round(x,2))\n    df['y2'] = df['longitude'].map(lambda x : round(x,2))\n    \n    return df",
      "execution_count": null,
      "cell_type": "code",
      "outputs": [],
      "execution_state": "idle"
    },
    {
      "metadata": {
        "_cell_guid": "170681b3-7ab8-7b9d-a446-d5a97a6da391",
        "_active": false,
        "collapsed": false
      },
      "source": "train_df = fix_con(train_df)\ntest_df = fix_con(test_df)",
      "execution_count": null,
      "cell_type": "code",
      "outputs": [],
      "execution_state": "idle"
    },
    {
      "metadata": {
        "_cell_guid": "e369e9df-a5b4-21b9-279e-bf845af805db",
        "_active": false,
        "collapsed": false
      },
      "source": "## replacing inf values\ndef handle_inf(df, col_filter, to_fill_col):\n    df = df.replace([np.inf, -np.inf], np.nan)\n    fill_value = df[df[col_filter] == 0].price.mean()\n    df[to_fill_col] = df[to_fill_col].fillna(fill_value)\n    return df\ntrain_df = handle_inf(train_df, 'bedrooms', 'price_be')\ntrain_df = handle_inf(train_df, 'bathrooms', 'price_ba')\ntest_df = handle_inf(test_df, 'bedrooms', 'price_be')\ntest_df = handle_inf(test_df, 'bathrooms', 'price_ba')",
      "execution_count": null,
      "cell_type": "code",
      "outputs": [],
      "execution_state": "idle"
    },
    {
      "metadata": {
        "_cell_guid": "c7ba44ba-5665-0823-82c2-28fcddb7d903",
        "_active": false,
        "collapsed": false
      },
      "source": "categorical = [\"display_address\", \"manager_id\", \"building_id\", \"street_address\",'created_weekend','created_wd']\nfor f in categorical:\n        lbl = preprocessing.LabelEncoder()\n        lbl.fit(list(train_df[f].values) + list(test_df[f].values))\n        train_df[f] = lbl.transform(list(train_df[f].values))\n        test_df[f] = lbl.transform(list(test_df[f].values))",
      "execution_count": null,
      "cell_type": "code",
      "outputs": [],
      "execution_state": "idle"
    },
    {
      "metadata": {
        "_cell_guid": "5ba3d762-4d55-b002-c45b-2340ea7481f8",
        "_active": false,
        "collapsed": false
      },
      "source": "from sklearn.base import BaseEstimator\nfrom sklearn.base import TransformerMixin\n\nclass manager_skill(BaseEstimator, TransformerMixin):\n    \"\"\"\n    Adds the column \"manager_skill\" to the dataset, based on the Kaggle kernel\n    \"Improve Perfomances using Manager features\" by den3b. The function should\n    be usable in scikit-learn pipelines.\n    \n    Parameters\n    ----------\n    threshold : Minimum count of rental listings a manager must have in order\n                to get his \"own\" score, otherwise the mean is assigned.\n\n    Attributes\n    ----------\n    mapping : pandas dataframe\n        contains the manager_skill per manager id.\n        \n    mean_skill : float\n        The mean skill of managers with at least as many listings as the \n        threshold.\n    \"\"\"\n    def __init__(self, threshold = 5):\n        \n        self.threshold = threshold\n        \n    def _reset(self):\n        \"\"\"Reset internal data-dependent state of the scaler, if necessary.\n        \n        __init__ parameters are not touched.\n        \"\"\"\n        # Checking one attribute is enough, becase they are all set together\n        # in fit        \n        if hasattr(self, 'mapping_'):\n            \n            self.mapping_ = {}\n            self.mean_skill_ = 0.0\n        \n    def fit(self, X,y):\n        \"\"\"Compute the skill values per manager for later use.\n        \n        Parameters\n        ----------\n        X : pandas dataframe, shape [n_samples, n_features]\n            The rental data. It has to contain a column named \"manager_id\".\n            \n        y : pandas series or numpy array, shape [n_samples]\n            The corresponding target values with encoding:\n            low: 0.0\n            medium: 1.0\n            high: 2.0\n        \"\"\"        \n        self._reset()\n        \n        temp = pd.concat([X.manager_id,pd.get_dummies(y)], axis = 1).groupby('manager_id').mean()\n        temp.columns = ['low_frac', 'medium_frac', 'high_frac']\n        temp['count'] = X.groupby('manager_id').count().iloc[:,1]\n        \n        \n        temp['manager_skill'] = temp['high_frac']*2 + temp['medium_frac']\n        \n        mean = temp.loc[temp['count'] >= self.threshold, 'manager_skill'].mean()\n        \n        temp.loc[temp['count'] < self.threshold, 'manager_skill'] = mean\n        \n        self.mapping_ = temp[['low_frac', 'medium_frac', 'high_frac','manager_skill']]\n        self.mean_skill_ = mean\n            \n        return self\n        \n    def transform(self, X):\n        \"\"\"Add manager skill to a new matrix.\n        \n        Parameters\n        ----------\n        X : pandas dataframe, shape [n_samples, n_features]\n            Input data, has to contain \"manager_id\".\n        \"\"\"        \n        X = pd.merge(left = X, right = self.mapping_, how = 'left', left_on = 'manager_id', right_index = True)\n        X['manager_skill'].fillna(self.mean_skill_, inplace = True)\n        \n        return X",
      "execution_count": null,
      "cell_type": "code",
      "outputs": [],
      "execution_state": "idle"
    },
    {
      "metadata": {
        "_cell_guid": "e5d1f7b0-af19-ae05-2040-9ca79b8057d4",
        "_active": false,
        "collapsed": false
      },
      "source": "trans = manager_skill()\ntrain_df = trans.fit_transform(train_df, train_df['interest_level'])\ntest_df = trans.transform(test_df)",
      "execution_count": null,
      "cell_type": "code",
      "outputs": [],
      "execution_state": "idle"
    },
    {
      "metadata": {
        "_cell_guid": "30808e88-12ef-b92d-c2c9-fb08b5ab4c21",
        "_active": false,
        "collapsed": false
      },
      "source": "train_df['features_len'] = train_df.features.apply(len)\ntest_df['features_len'] = test_df.features.apply(len)",
      "execution_count": null,
      "cell_type": "code",
      "outputs": [],
      "execution_state": "idle"
    },
    {
      "metadata": {
        "_cell_guid": "6d980982-5e1e-1b10-890d-46017aabd8e7",
        "_active": false,
        "collapsed": false
      },
      "source": "def str_stem(s): \n    if isinstance(s, str):\n        s = s.lower()\n        s = s.replace(\"  \",\" \")\n        b = BeautifulSoup(s, \"lxml\")\n        s = b.get_text(\" \").strip()\n        s = (\" \").join([z for z in s.split(\" \")])\n        s = (\" \").join([stemmer.stem(z) for z in s.split(\" \")])\n        s = s.lower().strip()\n        return s\n    else:\n        return \"\"",
      "execution_count": null,
      "cell_type": "code",
      "outputs": [],
      "execution_state": "idle"
    },
    {
      "metadata": {
        "_cell_guid": "b525ec81-6e77-ce20-c340-04357a263b78",
        "_active": false,
        "collapsed": false
      },
      "source": "def fix_description(df):\n    df['x_'+'description'] = df['description'].map(lambda x:str_stem(x))\n    df['y_'+'description'] = df['description'].values\n    return df\ntrain_df = fix_description(train_df)\ntest_df = fix_description(test_df)",
      "execution_count": null,
      "cell_type": "code",
      "outputs": [],
      "execution_state": "idle"
    },
    {
      "metadata": {
        "_cell_guid": "e8a0f403-245c-bc85-a1ed-673e1a07872d",
        "_active": false,
        "collapsed": false
      },
      "source": "train_df['description_len'] = train_df.x_description.apply(lambda x: len(x.split()))\ntest_df['description_len'] = test_df.x_description.apply(lambda x: len(x.split()))",
      "execution_count": null,
      "cell_type": "code",
      "outputs": [],
      "execution_state": "idle"
    },
    {
      "metadata": {
        "_cell_guid": "21967806-7db9-613f-a7dd-4c1fa428e6ac",
        "_active": false,
        "collapsed": false
      },
      "source": "train_df['features'] = train_df[\"features\"].apply(lambda x: \" \".join([\"_\".join(i.split(\" \")) for i in x]))\ntest_df['features'] = test_df[\"features\"].apply(lambda x: \" \".join([\"_\".join(i.split(\" \")) for i in x]))\nprint(train_df[\"features\"].head())\ntfidf = CountVectorizer(stop_words='english', max_features=200)\ntr_sparse = tfidf.fit_transform(train_df[\"features\"])\nte_sparse = tfidf.transform(test_df[\"features\"])",
      "execution_count": null,
      "cell_type": "code",
      "outputs": [],
      "execution_state": "idle"
    },
    {
      "metadata": {
        "_cell_guid": "a7afffbe-c6fa-fcb3-e24e-3f975fc90a71",
        "_active": false,
        "collapsed": false
      },
      "source": "target_num_map = {'high':0, 'medium':1, 'low':2}\ntrain_y = np.array(train_df['interest_level'].apply(lambda x: target_num_map[x]))\ntrain_df = train_df.drop(['description','features','interest_level','x_description','y_description'], axis = 1)\ntest_df = test_df.drop(['description','features','x_description','y_description'], axis = 1)",
      "execution_count": null,
      "cell_type": "code",
      "outputs": [],
      "execution_state": "idle"
    },
    {
      "metadata": {
        "_cell_guid": "55267c97-7469-5714-a30a-61799ca650eb",
        "_active": false,
        "collapsed": false
      },
      "source": "train_X = sparse.hstack([train_df[features_to_use], tr_sparse]).tocsr()\ntest_X = sparse.hstack([test_df[features_to_use], te_sparse]).tocsr()\nprint(train_X.shape, test_X.shape)",
      "execution_count": null,
      "cell_type": "code",
      "outputs": [],
      "execution_state": "idle"
    },
    {
      "metadata": {
        "_cell_guid": "15683692-e791-618c-e8ec-27af8f1723bf",
        "_active": false,
        "collapsed": false
      },
      "source": "def runXGB(train_X, train_y, test_X, test_y=None, feature_names=None, seed_val=0, num_rounds=1000):\n    param = {}\n    param['objective'] = 'multi:softprob'\n    param['eta'] = 0.1\n    param['max_depth'] = 6\n    param['silent'] = 1\n    param['num_class'] = 3\n    param['eval_metric'] = \"mlogloss\"\n    param['min_child_weight'] = 1\n    param['subsample'] = 0.7\n    param['colsample_bytree'] = 0.7\n    param['seed'] = seed_val\n    num_rounds = num_rounds\n\n    plst = list(param.items())\n    xgtrain = xgb.DMatrix(train_X, label=train_y)\n\n    if test_y is not None:\n        xgtest = xgb.DMatrix(test_X, label=test_y)\n        watchlist = [ (xgtrain,'train'), (xgtest, 'test') ]\n        model = xgb.train(plst, xgtrain, num_rounds, watchlist, early_stopping_rounds=20)\n    else:\n        xgtest = xgb.DMatrix(test_X)\n        model = xgb.train(plst, xgtrain, num_rounds)\n\n    pred_test_y = model.predict(xgtest)\n    return pred_test_y, model",
      "execution_count": null,
      "cell_type": "code",
      "outputs": [],
      "execution_state": "idle"
    },
    {
      "metadata": {
        "_cell_guid": "ac3c7c05-6f53-033c-b45d-2bef12d18d98",
        "_active": false,
        "collapsed": false
      },
      "source": "cv_scores = []\nkf = model_selection.KFold(n_splits=5, shuffle=True, random_state=2016)\nfor dev_index, val_index in kf.split(range(train_X.shape[0])):\n        dev_X, val_X = train_X[dev_index,:], train_X[val_index,:]\n        dev_y, val_y = train_y[dev_index], train_y[val_index]\n        preds, model = runXGB(dev_X, dev_y, val_X, val_y)\n        cv_scores.append(log_loss(val_y, preds))\n        print(cv_scores)\n        break",
      "execution_count": null,
      "cell_type": "code",
      "outputs": [],
      "execution_state": "idle"
    },
    {
      "metadata": {
        "_cell_guid": "1399d578-c00c-7598-6cce-586ecd7b19d6",
        "_active": false,
        "collapsed": false
      },
      "source": "#dic = model.get_score()\n#sorted(dic.items(), key=lambda kv: kv[1], reverse=True)[:20]\nfrom sklearn.model_selection import StratifiedKFold\nfrom sklearn.feature_selection import RFECV",
      "execution_count": null,
      "cell_type": "code",
      "outputs": [],
      "execution_state": "idle"
    },
    {
      "metadata": {
        "_cell_guid": "75ad5980-6ada-c128-cdad-d3e8080145ad",
        "_active": true,
        "collapsed": false
      },
      "source": "#train_df.info()\n#features_to_use = ['building_id','price', 'price_be','latitude','longitude','display_address','street_address','created','price_ba','listing_id','manager_id']\nrfecv = RFECV(estimator=model, step=1, cv=StratifiedKFold(2),\n              scoring='accuracy')\nrfecv.fit(train_X, train_y)\n\nprint(\"Optimal number of features : %d\" % rfecv.n_features_)",
      "execution_count": null,
      "cell_type": "code",
      "outputs": [],
      "execution_state": "idle"
    }
  ]
}