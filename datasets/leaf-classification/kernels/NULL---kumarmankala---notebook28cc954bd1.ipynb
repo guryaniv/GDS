{
  "cells": [
    {
      "cell_type": "code",
      "execution_count": null,
      "metadata": {
        "_cell_guid": "84fc4750-286f-723f-af9c-226ce51c06d2"
      },
      "outputs": [],
      "source": ""
    },
    {
      "cell_type": "code",
      "execution_count": null,
      "metadata": {
        "_cell_guid": "0f50095a-5935-d0d4-916a-88e1e0897b2e"
      },
      "outputs": [],
      "source": [
        "# This Python 3 environment comes with many helpful analytics libraries installed\n",
        "# It is defined by the kaggle/python docker image: https://github.com/kaggle/docker-python\n",
        "# For example, here's several helpful packages to load in \n",
        "\n",
        "import numpy as np # linear algebra\n",
        "import pandas as pd # data processing, CSV file I/O (e.g. pd.read_csv)\n",
        "\n",
        "# Input data files are available in the \"../input/\" directory.\n",
        "# For example, running this (by clicking run or pressing Shift+Enter) will list the files in the input directory\n",
        "\n",
        "from subprocess import check_output\n",
        "print(check_output([\"ls\", \"../input\"]).decode(\"utf8\"))\n",
        "\n",
        "# Any results you write to the current directory are saved as output.\n",
        "from numpy import sin, linspace, pi\n",
        "from pylab import plot, show, title, xlabel, ylabel, subplot\n",
        "from scipy import fft, arange\n",
        "\n",
        "def plotSpectrum(y,Fs):\n",
        " \"\"\"\n",
        " Plots a Single-Sided Amplitude Spectrum of y(t)\n",
        " \"\"\"\n",
        " n = len(y) # length of the signal\n",
        " k = arange(n)\n",
        " T = n/Fs\n",
        " frq = k/T # two sides frequency range\n",
        " frq = frq[range(n/2)] # one side frequency range\n",
        "\n",
        " Y = fft(y)/n # fft computing and normalization\n",
        " Y = Y[range(n/2)]\n",
        " \n",
        " plot(frq,abs(Y),'r') # plotting the spectrum\n",
        " xlabel('Freq (Hz)')\n",
        " ylabel('|Y(freq)|')\n",
        "\n",
        "Fs = 150.0;  # sampling rate\n",
        "Ts = 1.0/Fs; # sampling interval\n",
        "t = arange(0,1,Ts) # time vector\n",
        "\n",
        "ff = 5;   # frequency of the signal\n",
        "y = sin(2*pi*ff*t)"
      ]
    }
  ],
  "metadata": {
    "_change_revision": 0,
    "_is_fork": false,
    "kernelspec": {
      "display_name": "Python 3",
      "language": "python",
      "name": "python3"
    },
    "language_info": {
      "codemirror_mode": {
        "name": "ipython",
        "version": 3
      },
      "file_extension": ".py",
      "mimetype": "text/x-python",
      "name": "python",
      "nbconvert_exporter": "python",
      "pygments_lexer": "ipython3",
      "version": "3.5.2"
    }
  },
  "nbformat": 4,
  "nbformat_minor": 0
}