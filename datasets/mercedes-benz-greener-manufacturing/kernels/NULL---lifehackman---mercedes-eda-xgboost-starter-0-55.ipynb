{
  "cells": [
    {
      "cell_type": "markdown",
      "metadata": {
        "_cell_guid": "ba22a66a-2099-c52e-7017-82c1f081b902"
      },
      "source": [
        "# Mercedes-Benz Greener Manufacturing\n",
        "\n",
        "Welcome to a new competition! This time from Mercedes-Benz - our job is to predict how long a car on a production line will take to pass the testing phase. This is a classical regression problem, and we're evaluated with the R2 metric. Let's take a look at the data we're given:"
      ]
    },
    {
      "cell_type": "code",
      "execution_count": null,
      "metadata": {
        "_cell_guid": "45578147-cb22-cd2a-ccc7-1b81c82e137b"
      },
      "outputs": [],
      "source": [
        "import numpy as np # linear algebra\n",
        "import pandas as pd # data processing, CSV file I/O (e.g. pd.read_csv)\n",
        "import os\n",
        "import gc\n",
        "import matplotlib.pyplot as plt\n",
        "import seaborn as sns\n",
        "%matplotlib inline\n",
        "\n",
        "pal = sns.color_palette()\n",
        "\n",
        "print('# File sizes')\n",
        "for f in os.listdir('../input'):\n",
        "    if 'zip' not in f:\n",
        "        print(f.ljust(30) + str(round(os.path.getsize('../input/' + f) / 1000000, 2)) + 'MB')"
      ]
    },
    {
      "cell_type": "markdown",
      "metadata": {
        "_cell_guid": "2ed913f1-75ad-868b-ee5e-aec7bf264039"
      },
      "source": [
        "So, a much smaller dataset than what we've been used to recently. No images here! :)\n",
        "We're given a single train and test csv, indicating that the data should also be pretty simple to play with.\n",
        "\n",
        "Time to load it into memory!\n",
        "## Training set"
      ]
    },
    {
      "cell_type": "code",
      "execution_count": null,
      "metadata": {
        "_cell_guid": "ba151bcc-e94e-3ff4-d213-4e80e7b4d956"
      },
      "outputs": [],
      "source": [
        "df_train = pd.read_csv('../input/train.csv')\n",
        "print('Size of training set: {} rows and {} columns'.format(*df_train.shape))\n",
        "df_train.head()"
      ]
    },
    {
      "cell_type": "markdown",
      "metadata": {
        "_cell_guid": "23fe3955-073a-681b-b90f-759363267b04"
      },
      "source": [
        "Just from this, we can see that our training data is made up of just 4000 rows, but has 400 seemingly anonymised features inside. As well as this, we are given an ID (which is not equal to the row number, this could be significant) and the target value, which is the number of seconds taken.\n",
        "\n",
        "Let's start off by looking at the distribution of the target value:"
      ]
    },
    {
      "cell_type": "code",
      "execution_count": null,
      "metadata": {
        "_cell_guid": "8aa66a00-591c-7cff-cc88-051bfcaa40c5"
      },
      "outputs": [],
      "source": [
        "y_train = df_train['y'].values\n",
        "plt.figure(figsize=(15, 5))\n",
        "plt.hist(y_train, bins=20)\n",
        "plt.xlabel('Target value in seconds')\n",
        "plt.ylabel('Occurences')\n",
        "plt.title('Distribution of the target value')\n",
        "\n",
        "print('min: {} max: {} mean: {} std: {}'.format(min(y_train), max(y_train), y_train.mean(), y_train.std()))\n",
        "print('Count of values above 180: {}'.format(np.sum(y_train > 200)))"
      ]
    },
    {
      "cell_type": "markdown",
      "metadata": {
        "_cell_guid": "290f8db2-9db3-565a-2175-9640b8a100c5"
      },
      "source": [
        "So we have a pretty standard distribution here, which is centred around almost exactly 100. Nothing special to note here, except there is a single outlier at 265 seconds where every other value is below 180.\n",
        "\n",
        "The fact that our ID is not equal to the row ID seems to suggest that the train and test sets were randomly sampled from the same dataset, which could have some special order to it, for example a time series. Let's take a look at how this target value changes over time in order to understand whether we're given time series data.\n"
      ]
    },
    {
      "cell_type": "code",
      "execution_count": null,
      "metadata": {
        "_cell_guid": "d6abf382-b443-f5ff-0d07-da607cf43916"
      },
      "outputs": [],
      "source": [
        "plt.figure(figsize=(15, 5))\n",
        "plt.plot(y_train)\n",
        "plt.xlabel('Row ID')\n",
        "plt.ylabel('Target value')\n",
        "plt.title('Change in target value over the dataset')\n",
        "plt.show()\n",
        "\n",
        "plt.figure(figsize=(15, 5))\n",
        "plt.plot(y_train[:100])\n",
        "plt.xlabel('Row ID')\n",
        "plt.ylabel('Target value')\n",
        "plt.title('Change in target value over the dataset (first 100 samples)')\n",
        "print()"
      ]
    },
    {
      "cell_type": "markdown",
      "metadata": {
        "_cell_guid": "c9bdaae4-2276-0b59-1da9-3558098ff9aa"
      },
      "source": [
        "At first glance, there doesn't seem to be anything overly suspicious here - looks like how a random sort would. I might take a closer look later but for now let's move on to the features.\n",
        "\n",
        "## Feature analysis"
      ]
    },
    {
      "cell_type": "code",
      "execution_count": null,
      "metadata": {
        "_cell_guid": "85c914e4-162a-e3be-ec91-1e687b8222e2"
      },
      "outputs": [],
      "source": [
        "cols = [c for c in df_train.columns if 'X' in c]\n",
        "print('Number of features: {}'.format(len(cols)))\n",
        "\n",
        "print('Feature types:')\n",
        "df_train[cols].dtypes.value_counts()"
      ]
    },
    {
      "cell_type": "markdown",
      "metadata": {
        "_cell_guid": "ca12b871-17d9-be23-be6b-7cca0ec45312"
      },
      "source": [
        "So out of all our features, we are given 8 object (likely a string) variables, 368 integer variables. What about the cardinality of our features?"
      ]
    },
    {
      "cell_type": "code",
      "execution_count": null,
      "metadata": {
        "_cell_guid": "33c6cb00-4390-077a-7576-6f33dd6a1eb3"
      },
      "outputs": [],
      "source": [
        "counts = [[], [], []]\n",
        "for c in cols:\n",
        "    typ = df_train[c].dtype\n",
        "    uniq = len(np.unique(df_train[c]))\n",
        "    if uniq == 1: counts[0].append(c)\n",
        "    elif uniq == 2 and typ == np.int64: counts[1].append(c)\n",
        "    else: counts[2].append(c)\n",
        "\n",
        "print('Constant features: {} Binary features: {} Categorical features: {}\\n'.format(*[len(c) for c in counts]))\n",
        "\n",
        "print('Constant features:', counts[0])\n",
        "print('Categorical features:', counts[2])"
      ]
    },
    {
      "cell_type": "markdown",
      "metadata": {
        "_cell_guid": "9e04780c-9f66-98d7-f4f6-8904aec93f40"
      },
      "source": [
        "Interestingly, we have 12 features which only have a single value in them - these are pretty useless for supervised algorithms, and should probably be dropped (unless you want to use them for anomaly detection in case a different value appears in the test set)\n",
        "\n",
        "The rest of our dataset is made up of many binary features, and a few categorical features."
      ]
    },
    {
      "cell_type": "code",
      "execution_count": null,
      "metadata": {
        "_cell_guid": "90384b82-46ec-7c44-7067-e9c4b0f7bb82"
      },
      "outputs": [],
      "source": [
        "binary_means = [np.mean(df_train[c]) for c in counts[1]]\n",
        "binary_names = np.array(counts[1])[np.argsort(binary_means)]\n",
        "binary_means = np.sort(binary_means)\n",
        "\n",
        "fig, ax = plt.subplots(1, 3, figsize=(12,30))\n",
        "ax[0].set_ylabel('Feature name')\n",
        "ax[1].set_title('Mean values of binary variables')\n",
        "for i in range(3):\n",
        "    names, means = binary_names[i*119:(i+1)*119], binary_means[i*119:(i+1)*119]\n",
        "    ax[i].barh(range(len(means)), means, color=pal[2])\n",
        "    ax[i].set_xlabel('Mean value')\n",
        "    ax[i].set_yticks(range(len(means)))\n",
        "    ax[i].set_yticklabels(names, rotation='horizontal')\n",
        "plt.show()"
      ]
    },
    {
      "cell_type": "code",
      "execution_count": null,
      "metadata": {
        "_cell_guid": "664cd1be-2890-dcc8-efc9-2a9b25446102"
      },
      "outputs": [],
      "source": [
        "for c in counts[2]:\n",
        "    value_counts = df_train[c].value_counts()\n",
        "    fig, ax = plt.subplots(figsize=(10, 5))\n",
        "    plt.title('Categorical feature {} - Cardinality {}'.format(c, len(np.unique(df_train[c]))))\n",
        "    plt.xlabel('Feature value')\n",
        "    plt.ylabel('Occurences')\n",
        "    plt.bar(range(len(value_counts)), value_counts.values, color=pal[1])\n",
        "    ax.set_xticks(range(len(value_counts)))\n",
        "    ax.set_xticklabels(value_counts.index, rotation='vertical')\n",
        "    plt.show()"
      ]
    },
    {
      "cell_type": "markdown",
      "metadata": {
        "_cell_guid": "5bfa3800-9d93-ac90-f10b-6043d5512dbf"
      },
      "source": [
        "## XGBoost Starter\n",
        "Now that we know the outline of what the data's made up of, we can make a simple model on it. Time to bring out XGBoost!"
      ]
    },
    {
      "cell_type": "code",
      "execution_count": null,
      "metadata": {
        "_cell_guid": "a5438fb4-6d7c-b453-a7ac-107420bbf771"
      },
      "outputs": [],
      "source": [
        "df_test = pd.read_csv('../input/test.csv')\n",
        "\n",
        "usable_columns = list(set(df_train.columns) - set(['ID', 'y']))\n",
        "\n",
        "y_train = df_train['y'].values\n",
        "id_test = df_test['ID'].values\n",
        "\n",
        "x_train = df_train[usable_columns]\n",
        "x_test = df_test[usable_columns]\n",
        "\n",
        "for column in usable_columns:\n",
        "    cardinality = len(np.unique(x_train[column]))\n",
        "    if cardinality == 1:\n",
        "        x_train.drop(column, axis=1) # Column with only one value is useless so we drop it\n",
        "        x_test.drop(column, axis=1)\n",
        "    if cardinality > 2: # Column is categorical\n",
        "        mapper = lambda x: sum([ord(digit) for digit in x])\n",
        "        x_train[column] = x_train[column].apply(mapper)\n",
        "        x_test[column] = x_test[column].apply(mapper)\n",
        "        \n",
        "x_train.head()"
      ]
    },
    {
      "cell_type": "code",
      "execution_count": null,
      "metadata": {
        "_cell_guid": "835e9ec6-d432-d4dd-6a97-bae3c62f205f"
      },
      "outputs": [],
      "source": [
        "import xgboost as xgb\n",
        "from sklearn.metrics import r2_score\n",
        "from sklearn.model_selection import train_test_split\n",
        "\n",
        "x_train, x_valid, y_train, y_valid = train_test_split(x_train, y_train, test_size=0.2, random_state=4242)\n",
        "\n",
        "d_train = xgb.DMatrix(x_train, label=y_train)\n",
        "d_valid = xgb.DMatrix(x_valid, label=y_valid)\n",
        "d_test = xgb.DMatrix(x_test)\n",
        "\n",
        "params = {}\n",
        "params['objective'] = 'reg:linear'\n",
        "params['eta'] = 0.02\n",
        "params['max_depth'] = 4\n",
        "\n",
        "def xgb_r2_score(preds, dtrain):\n",
        "    labels = dtrain.get_label()\n",
        "    return 'r2', r2_score(labels, preds)\n",
        "\n",
        "watchlist = [(d_train, 'train'), (d_valid, 'valid')]\n",
        "\n",
        "clf = xgb.train(params, d_train, 1000, watchlist, early_stopping_rounds=50, feval=xgb_r2_score, maximize=True, verbose_eval=10)"
      ]
    },
    {
      "cell_type": "code",
      "execution_count": null,
      "metadata": {
        "_cell_guid": "efd8259e-9b42-e97e-67aa-5da3767c8452"
      },
      "outputs": [],
      "source": [
        "p_test = clf.predict(d_test)\n",
        "\n",
        "sub = pd.DataFrame()\n",
        "sub['ID'] = id_test\n",
        "sub['y'] = p_test\n",
        "sub.to_csv('xgb.csv', index=False)"
      ]
    },
    {
      "cell_type": "code",
      "execution_count": null,
      "metadata": {
        "_cell_guid": "0de9e211-12a6-6b73-ee97-959c10eefb57"
      },
      "outputs": [],
      "source": [
        "sub.head()"
      ]
    },
    {
      "cell_type": "markdown",
      "metadata": {
        "_cell_guid": "1a97bce5-f4b2-f40c-6d70-693c8858787d"
      },
      "source": [
        "Thanks for reading my EDA! :)\n",
        "\n",
        "**If you have any questions or suggestions feel free to leave a comment - and please upvote if this helped you!**"
      ]
    }
  ],
  "metadata": {
    "_change_revision": 0,
    "_is_fork": false,
    "kernelspec": {
      "display_name": "Python 3",
      "language": "python",
      "name": "python3"
    },
    "language_info": {
      "codemirror_mode": {
        "name": "ipython",
        "version": 3
      },
      "file_extension": ".py",
      "mimetype": "text/x-python",
      "name": "python",
      "nbconvert_exporter": "python",
      "pygments_lexer": "ipython3",
      "version": "3.6.0"
    }
  },
  "nbformat": 4,
  "nbformat_minor": 0
}