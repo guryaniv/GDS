{
  "cells": [
    {
      "cell_type": "code",
      "execution_count": null,
      "metadata": {
        "_cell_guid": "f7ffdb50-2b7f-3bc8-f60c-aebff2a79a62"
      },
      "outputs": [],
      "source": [
        "# Library\n",
        "import kagglegym\n",
        "import numpy as np\n",
        "import pandas as pd\n",
        "import matplotlib.pyplot as plt\n",
        "import seaborn as sns\n",
        "from sklearn.ensemble import RandomForestRegressor\n",
        "%matplotlib inline\n",
        "# Setting for gym and plot\n",
        "p = sns.color_palette()\n",
        "env = kagglegym.make()\n",
        "observation = env.reset()"
      ]
    },
    {
      "cell_type": "code",
      "execution_count": null,
      "metadata": {
        "_cell_guid": "259ab40d-97f1-8225-a84a-83362e0e8cf3"
      },
      "outputs": [],
      "source": [
        "# Load data\n",
        "train = observation.train\n",
        "# Fill NaN(adhoc)\n",
        "train_median = train.median()\n",
        "train.fillna(train_median, inplace = True)\n",
        "# Sampling to reduce calculation\n",
        "train = train.sample(frac=0.1)"
      ]
    },
    {
      "cell_type": "code",
      "execution_count": null,
      "metadata": {
        "_cell_guid": "ec3a2f44-0f3e-df33-2b96-91e7e875cd2e"
      },
      "outputs": [],
      "source": [
        "# Split features and y(...and remove id and timestamp for simplicity)\n",
        "features = train[train.columns.difference(['id', 'timestamp', 'y'])]\n",
        "y = train.y.values"
      ]
    },
    {
      "cell_type": "code",
      "execution_count": null,
      "metadata": {
        "_cell_guid": "4e9911a6-084b-adc8-2adc-44838367a477"
      },
      "outputs": [],
      "source": [
        "# Lean by random dorest \n",
        "rf = RandomForestRegressor(n_jobs=-1)\n",
        "rf.fit(features, y)"
      ]
    },
    {
      "cell_type": "code",
      "execution_count": null,
      "metadata": {
        "_cell_guid": "0b9f2cd1-9634-1d7b-389c-8213da91988c"
      },
      "outputs": [],
      "source": [
        "# Get importance by importance order\n",
        "importances = rf.feature_importances_\n",
        "indices = np.argsort(importances)[::-1]\n",
        "print(features.columns.values[indices])\n",
        "print(importances[indices])"
      ]
    }
  ],
  "metadata": {
    "_change_revision": 0,
    "_is_fork": false,
    "kernelspec": {
      "display_name": "Python 3",
      "language": "python",
      "name": "python3"
    },
    "language_info": {
      "codemirror_mode": {
        "name": "ipython",
        "version": 3
      },
      "file_extension": ".py",
      "mimetype": "text/x-python",
      "name": "python",
      "nbconvert_exporter": "python",
      "pygments_lexer": "ipython3",
      "version": "3.5.2"
    }
  },
  "nbformat": 4,
  "nbformat_minor": 0
}