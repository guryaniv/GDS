{
  "cells": [
    {
      "cell_type": "markdown",
      "metadata": {
        "_cell_guid": "e85bec8f-125c-f412-00ea-e3eec4c0eed7"
      },
      "source": [
        "xgboost XGBRegressor implementation."
      ]
    },
    {
      "cell_type": "markdown",
      "metadata": {
        "_cell_guid": "95276cfa-ee75-e9bc-5a85-090c6e096940"
      },
      "source": [
        "Import all the packages"
      ]
    },
    {
      "cell_type": "code",
      "execution_count": null,
      "metadata": {
        "_cell_guid": "13e88ec4-76e8-4233-99fa-cdbe428f4c7a"
      },
      "outputs": [],
      "source": [
        "import pandas as pd\n",
        "from sklearn import metrics\n",
        "from sklearn.ensemble import GradientBoostingRegressor as gBR\n",
        "import time\n",
        "from sklearn.model_selection import train_test_split\n",
        "import csv\n",
        "import xgboost"
      ]
    },
    {
      "cell_type": "markdown",
      "metadata": {
        "_cell_guid": "cb986a47-1973-7f06-900e-2ebd76517626"
      },
      "source": [
        "Reading the training data and encoding the categorical attributes."
      ]
    },
    {
      "cell_type": "code",
      "execution_count": null,
      "metadata": {
        "_cell_guid": "60283f89-83dc-9c45-a657-c34d21548f52"
      },
      "outputs": [],
      "source": [
        "start_time = time.time()\n",
        "\n",
        "train_data = pd.read_csv('../input/train.csv')\n",
        "for i in range(1, 117):\n",
        "    train_data['cat' + str(i)] = train_data['cat' + str(i)].astype('category')\n",
        "\n",
        "categorical_columns = train_data.select_dtypes(['category']).columns\n",
        "train_data[categorical_columns] = train_data[categorical_columns].apply(lambda x: x.cat.codes)\n",
        "\n",
        "print(\"Time for encoding training data is := %.2f\" % (time.time() - start_time))"
      ]
    },
    {
      "cell_type": "markdown",
      "metadata": {
        "_cell_guid": "96604dc2-4baa-d97d-09d3-077cf35fc259"
      },
      "source": [
        "Splitting the training data into training subset and test subset, and extracting the vectors and targets respectively."
      ]
    },
    {
      "cell_type": "code",
      "execution_count": null,
      "metadata": {
        "_cell_guid": "fd6884f2-8838-d23d-b400-10e9b57cd9a7"
      },
      "outputs": [],
      "source": [
        "start_time = time.time()\n",
        "train_data_df, test_data_df = train_test_split(train_data, test_size=0.1)\n",
        "train_data_vector = train_data_df.iloc[:, 1:131]\n",
        "test_data_vector = test_data_df.iloc[:, 1:131]\n",
        "test_data_ids = list(test_data_df['id'])\n",
        "\n",
        "train_data_target = train_data_df.iloc[:, 131]\n",
        "test_data_target = test_data_df.iloc[:, 131]\n",
        "print(\"Time for reading test and train vectors and targets from the subset in the training data is := %.2f\"\n",
        "      % (time.time() - start_time))"
      ]
    },
    {
      "cell_type": "markdown",
      "metadata": {
        "_cell_guid": "aac2e740-cde8-d9d6-208d-3c588083f5a3"
      },
      "source": [
        "Using xgboost XGBRegressor to train the data and predict loss values on the test subset."
      ]
    },
    {
      "cell_type": "code",
      "execution_count": null,
      "metadata": {
        "_cell_guid": "b2616f76-58dc-f759-3deb-640c424246d8"
      },
      "outputs": [],
      "source": [
        "start_time = time.time()\n",
        "\n",
        "reg = gBR()\n",
        "reg = reg.fit(train_data_vector, train_data_target)\n",
        "\n",
        "lr_predict = reg.predict(test_data_vector)\n",
        "lr_accuracy = metrics.mean_absolute_error(test_data_target, lr_predict)\n",
        "print(\"Time for the regressor to train and predict on the training data subset is := %.2f\" % (time.time() - start_time))"
      ]
    },
    {
      "cell_type": "markdown",
      "metadata": {
        "_cell_guid": "5133794d-c2b7-4fb5-cea4-ecc8ff0d0927"
      },
      "source": [
        "Writing the id and loss values to a csv file, last line of which contains the \"MAE\" value."
      ]
    },
    {
      "cell_type": "code",
      "execution_count": null,
      "metadata": {
        "_cell_guid": "b98412ed-4a67-8695-6760-90aeae539a99"
      },
      "outputs": [],
      "source": [
        "csv_file = open(\"output_file.csv\", 'w', newline='')\n",
        "wr = csv.writer(csv_file, delimiter=',', quoting=csv.QUOTE_NONE)\n",
        "wr.writerow(['id', 'loss'])"
      ]
    },
    {
      "cell_type": "code",
      "execution_count": null,
      "metadata": {
        "_cell_guid": "755f9ca3-1cd3-8ab9-939d-2baaa271c847"
      },
      "outputs": [],
      "source": [
        "for index in range(0, len(test_data_ids)):\n",
        "    wr.writerow([test_data_ids[index], lr_predict[index]])\n",
        "    index += 1\n",
        "wr.writerow([\"MAE\", lr_accuracy])\n",
        "print(\"done with calculating the MAE for the subset of training data\")\n",
        "csv_file.close()"
      ]
    },
    {
      "cell_type": "markdown",
      "metadata": {
        "_cell_guid": "6dda91b6-548c-6b1e-ad37-7e2a9e417135"
      },
      "source": [
        "Extracting the test data from the test.csv which will be used now to predict the loss values. As above, the test data is to encoded for categorical attributes."
      ]
    },
    {
      "cell_type": "code",
      "execution_count": null,
      "metadata": {
        "_cell_guid": "70cf40b9-9e8f-b23e-d6b4-bd8b49486a04"
      },
      "outputs": [],
      "source": [
        "start_time = time.time()\n",
        "train_data_vector = train_data.iloc[:, 1:131]\n",
        "train_data_target = train_data.iloc[:, 131]\n",
        "\n",
        "test_data = pd.read_csv('../input/test.csv')\n",
        "for i in range(1, 117):\n",
        "    test_data['cat' + str(i)] = test_data['cat' + str(i)].astype('category')\n",
        "\n",
        "categorical_columns = test_data.select_dtypes(['category']).columns\n",
        "test_data[categorical_columns] = test_data[categorical_columns].apply(lambda x: x.cat.codes)\n",
        "\n",
        "print(\"Time for encoding testing data is := %.2f\" % (time.time() - start_time))"
      ]
    },
    {
      "cell_type": "markdown",
      "metadata": {
        "_cell_guid": "931b9ac8-adb6-149c-4d7e-f08136178843"
      },
      "source": [
        "Using xgboost XGBRegressor to train the data and predict loss values on the test subset."
      ]
    },
    {
      "cell_type": "code",
      "execution_count": null,
      "metadata": {
        "_cell_guid": "5398f67e-876a-a370-cc4e-256801a8ff99"
      },
      "outputs": [],
      "source": [
        "test_data_vector = test_data.iloc[:, 1:131]\n",
        "test_data_ids = list(test_data['id'])\n",
        "\n",
        "start_time = time.time()\n",
        "\n",
        "reg = gBR()\n",
        "reg = reg.fit(train_data_vector, train_data_target)\n",
        "\n",
        "lr_predict = reg.predict(test_data_vector)\n",
        "print(\"Time for the regressor to train and predict is := %.2f\" % (time.time() - start_time))"
      ]
    },
    {
      "cell_type": "markdown",
      "metadata": {
        "_cell_guid": "7ba0659c-739e-7aee-85f1-fc7382c01ece"
      },
      "source": [
        "Wrinting the is and loss values to submissions.csv file."
      ]
    },
    {
      "cell_type": "code",
      "execution_count": null,
      "metadata": {
        "_cell_guid": "e9099f88-7daf-20e4-1a9d-f0e77d77eceb"
      },
      "outputs": [],
      "source": [
        "csv_file = open(\"submissions.csv\", 'w', newline='')\n",
        "wr = csv.writer(csv_file, delimiter=',', quoting=csv.QUOTE_NONE)\n",
        "wr.writerow(['id', 'loss'])\n",
        "\n",
        "for index in range(0, len(test_data_ids)):\n",
        "    wr.writerow([test_data_ids[index], lr_predict[index]])\n",
        "    index += 1\n",
        "print(\"done with predicting loss values for the test data\")\n",
        "csv_file.close()"
      ]
    }
  ],
  "metadata": {
    "_change_revision": 0,
    "_is_fork": false,
    "kernelspec": {
      "display_name": "Python 3",
      "language": "python",
      "name": "python3"
    },
    "language_info": {
      "codemirror_mode": {
        "name": "ipython",
        "version": 3
      },
      "file_extension": ".py",
      "mimetype": "text/x-python",
      "name": "python",
      "nbconvert_exporter": "python",
      "pygments_lexer": "ipython3",
      "version": "3.5.2"
    }
  },
  "nbformat": 4,
  "nbformat_minor": 0
}