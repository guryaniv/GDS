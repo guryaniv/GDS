{
  "cells": [
    {
      "cell_type": "code",
      "execution_count": null,
      "metadata": {
        "_cell_guid": "415507d8-bde7-5b03-3cbb-e83bdb588c27"
      },
      "outputs": [],
      "source": [
        "# This Python 3 environment comes with many helpful analytics libraries installed\n",
        "# It is defined by the kaggle/python docker image: https://github.com/kaggle/docker-python\n",
        "# For example, here's several helpful packages to load in \n",
        "\n",
        "import numpy as np # linear algebra\n",
        "import pandas as pd # data processing, CSV file I/O (e.g. pd.read_csv)\n",
        "\n",
        "# Input data files are available in the \"../input/\" directory.\n",
        "# For example, running this (by clicking run or pressing Shift+Enter) will list the files in the input directory\n",
        "\n",
        "from subprocess import check_output\n",
        "print(check_output([\"ls\", \"../input\"]).decode(\"utf8\"))\n",
        "\n",
        "data = check_output([\"ls\", \"../input\"]).decode(\"utf8\")\n",
        "# Any results you write to the current directory are saved as output."
      ]
    },
    {
      "cell_type": "code",
      "execution_count": null,
      "metadata": {
        "_cell_guid": "23061dc6-fc2e-5d1b-db7e-0edf88a8d453"
      },
      "outputs": [],
      "source": [
        "import numpy as np\n",
        "import io\n",
        "import pylab\n",
        "from sklearn.svm import SVC\n",
        "from sklearn import preprocessing\n",
        "import sys\n",
        "import csv as csv"
      ]
    },
    {
      "cell_type": "code",
      "execution_count": null,
      "metadata": {
        "_cell_guid": "ba2ebaed-4477-b5f6-144d-3c095f87c1c1"
      },
      "outputs": [],
      "source": [
        "csv_file_object = csv.reader(open(\"../input/UCI_Credit_Card.csv\"))"
      ]
    },
    {
      "cell_type": "code",
      "execution_count": null,
      "metadata": {
        "_cell_guid": "9015c170-839a-ed64-c3e8-d1abea0393bb"
      },
      "outputs": [],
      "source": [
        "header = next(csv_file_object)"
      ]
    },
    {
      "cell_type": "code",
      "execution_count": null,
      "metadata": {
        "_cell_guid": "4cf2d027-1547-4ab7-ab8c-47e83adc12ca"
      },
      "outputs": [],
      "source": [
        "data=[]"
      ]
    },
    {
      "cell_type": "code",
      "execution_count": null,
      "metadata": {
        "_cell_guid": "8c2b9bb0-afbc-e7df-fb5d-6dc912240571"
      },
      "outputs": [],
      "source": [
        "for row in csv_file_object:\n",
        "    data.append(row)"
      ]
    },
    {
      "cell_type": "code",
      "execution_count": null,
      "metadata": {
        "_cell_guid": "c1beb617-9a3a-32fd-419b-dde1f9532816"
      },
      "outputs": [],
      "source": [
        "data = np.array(data)"
      ]
    },
    {
      "cell_type": "code",
      "execution_count": null,
      "metadata": {
        "_cell_guid": "8a09925c-a1e6-35b1-3aa2-60b5f8437e9f"
      },
      "outputs": [],
      "source": [
        "data"
      ]
    },
    {
      "cell_type": "code",
      "execution_count": null,
      "metadata": {
        "_cell_guid": "1b0142d8-069b-3e24-49f8-3f1d917f9d5e"
      },
      "outputs": [],
      "source": [
        "print(data[0])"
      ]
    },
    {
      "cell_type": "code",
      "execution_count": null,
      "metadata": {
        "_cell_guid": "24272b14-d476-9998-c028-0e6c5ec2517b"
      },
      "outputs": [],
      "source": [
        "print(data[0::,2])"
      ]
    },
    {
      "cell_type": "code",
      "execution_count": null,
      "metadata": {
        "_cell_guid": "f8aaf05c-a77c-f202-f4f5-6f0923be6543"
      },
      "outputs": [],
      "source": [
        "number_people = np.size(data[0::,1].astype(np.float))\n",
        "print(number_people)"
      ]
    },
    {
      "cell_type": "code",
      "execution_count": null,
      "metadata": {
        "_cell_guid": "77b4e5ea-8fcb-e436-13da-1c7d6d7ea923"
      },
      "outputs": [],
      "source": [
        "number_defaulted = np.sum(data[0::,24].astype(np.float))\n",
        "print(\"Total Ratio of People Defaulting: %f\" % ( number_defaulted / number_people))"
      ]
    },
    {
      "cell_type": "code",
      "execution_count": null,
      "metadata": {
        "_cell_guid": "3c108f0e-f62b-134e-f285-198ed457bb05"
      },
      "outputs": [],
      "source": [
        "print(number_defaulted)"
      ]
    },
    {
      "cell_type": "code",
      "execution_count": null,
      "metadata": {
        "_cell_guid": "a5d27f64-d8b7-2148-acdf-effd923fc281"
      },
      "outputs": [],
      "source": [
        "women_only_stats = data[0::,2]==\"2\"\n",
        "np.sum(women_only_stats)"
      ]
    },
    {
      "cell_type": "code",
      "execution_count": null,
      "metadata": {
        "_cell_guid": "b7ae6d63-c7f8-2dbd-b0ba-df60b3889890"
      },
      "outputs": [],
      "source": [
        "men_only_stats = data[0::,2]==\"1\"\n",
        "np.sum(men_only_stats)"
      ]
    },
    {
      "cell_type": "code",
      "execution_count": null,
      "metadata": {
        "_cell_guid": "f9645817-e3a5-71b4-ef51-eed286ec0d17"
      },
      "outputs": [],
      "source": [
        "women_defaulting = data[women_only_stats,24].astype(np.float)\n",
        "np.sum(women_defaulting)"
      ]
    },
    {
      "cell_type": "code",
      "execution_count": null,
      "metadata": {
        "_cell_guid": "5b81bfb1-ebd0-f37b-995c-fd503798c067"
      },
      "outputs": [],
      "source": [
        "men_defaulting = data[men_only_stats,24].astype(np.float)\n",
        "np.sum(men_defaulting)"
      ]
    },
    {
      "cell_type": "code",
      "execution_count": null,
      "metadata": {
        "_cell_guid": "97bd4894-94cb-4a9d-be1e-081abaa2eb5c"
      },
      "outputs": [],
      "source": [
        "proportion_women_defaulting = np.sum(women_defaulting) / np.size(women_only_stats)"
      ]
    },
    {
      "cell_type": "code",
      "execution_count": null,
      "metadata": {
        "_cell_guid": "2a06bb47-e0ba-a91c-3c29-f2ae5f8e36bc"
      },
      "outputs": [],
      "source": [
        "proportion_men_defaulting = np.sum(men_defaulting) / np.size(men_only_stats)"
      ]
    },
    {
      "cell_type": "code",
      "execution_count": null,
      "metadata": {
        "_cell_guid": "e2965dc3-9978-c20e-acd5-69bf706bd13a"
      },
      "outputs": [],
      "source": [
        "print('The proportion of women defaulting is %f' % (proportion_women_defaulting))\n",
        "print('The proportion of men defaulting is %f' % (proportion_men_defaulting))"
      ]
    },
    {
      "cell_type": "code",
      "execution_count": null,
      "metadata": {
        "_cell_guid": "e55b7012-e81d-2c24-2fe4-4a6bf8227797"
      },
      "outputs": [],
      "source": ""
    }
  ],
  "metadata": {
    "_change_revision": 0,
    "_is_fork": false,
    "kernelspec": {
      "display_name": "Python 3",
      "language": "python",
      "name": "python3"
    },
    "language_info": {
      "codemirror_mode": {
        "name": "ipython",
        "version": 3
      },
      "file_extension": ".py",
      "mimetype": "text/x-python",
      "name": "python",
      "nbconvert_exporter": "python",
      "pygments_lexer": "ipython3",
      "version": "3.5.2"
    }
  },
  "nbformat": 4,
  "nbformat_minor": 0
}