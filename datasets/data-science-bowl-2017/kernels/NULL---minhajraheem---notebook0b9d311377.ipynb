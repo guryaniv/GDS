{
  "cells": [
    {
      "cell_type": "code",
      "execution_count": null,
      "metadata": {
        "_cell_guid": "9b4c3d28-5072-bd52-7b3b-835d6143f817"
      },
      "outputs": [],
      "source": [
        "# This Python 3 environment comes with many helpful analytics libraries installed\n",
        "# It is defined by the kaggle/python docker image: https://github.com/kaggle/docker-python\n",
        "# For example, here's several helpful packages to load in \n",
        "\n",
        "import numpy as np # linear algebra\n",
        "import pandas as pd # data processing, CSV file I/O (e.g. pd.read_csv)\n",
        "\n",
        "# Input data files are available in the \"../input/\" directory.\n",
        "# For example, running this (by clicking run or pressing Shift+Enter) will list the files in the input directory\n",
        "\n",
        "from subprocess import check_output\n",
        "print(check_output([\"ls\", \"../input\"]).decode(\"utf8\"))\n",
        "\n",
        "# Any results you write to the current directory are saved as output."
      ]
    },
    {
      "cell_type": "code",
      "execution_count": null,
      "metadata": {
        "_cell_guid": "85a6f7fc-8afe-916a-2f36-1ea341bf2a32"
      },
      "outputs": [],
      "source": [
        "import dicom #read the dicom files\n",
        "import os # to do directory operations\n",
        "import pandas as pd # for data analysis\n",
        "\n",
        "data_dir = '../input/sample_images'\n",
        "patients = os.listdir(data_dir)\n",
        "labels_df = pd.read_csv('../input/stage1_labels.csv',index_col = 0)\n",
        "\n",
        "labels_df.head()\n"
      ]
    },
    {
      "cell_type": "code",
      "execution_count": null,
      "metadata": {
        "_cell_guid": "100b5f6e-a159-012b-3bbc-2aa4e7c8896f"
      },
      "outputs": [],
      "source": [
        "for patient in patients[:1]:\n",
        "    label = labels_df.get_value(patient,'cancer')\n",
        "    path = data_dir + patient\n",
        "    slices = [dicom.read_file(path+'/'+s) for s in os.listdir(path)]\n",
        "    slices.sort(key=lambda x: int(x.ImagePositionPatient[2]))\n",
        "    \n",
        "print (len(slices),label)\n",
        "print (slices[0])\n",
        "\n",
        "    \n",
        "    \n",
        "    \n",
        "    \n"
      ]
    },
    {
      "cell_type": "code",
      "execution_count": null,
      "metadata": {
        "_cell_guid": "081628f2-d28c-d5f2-0da4-c5032e2aeea0"
      },
      "outputs": [],
      "source": ""
    }
  ],
  "metadata": {
    "_change_revision": 0,
    "_is_fork": false,
    "kernelspec": {
      "display_name": "Python 3",
      "language": "python",
      "name": "python3"
    },
    "language_info": {
      "codemirror_mode": {
        "name": "ipython",
        "version": 3
      },
      "file_extension": ".py",
      "mimetype": "text/x-python",
      "name": "python",
      "nbconvert_exporter": "python",
      "pygments_lexer": "ipython3",
      "version": "3.6.0"
    }
  },
  "nbformat": 4,
  "nbformat_minor": 0
}