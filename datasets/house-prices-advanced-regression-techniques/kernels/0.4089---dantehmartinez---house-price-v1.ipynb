{
  "cells": [
    {
      "cell_type": "code",
      "execution_count": null,
      "metadata": {
        "_cell_guid": "bea8ea8f-cc6a-d35d-c1c2-ab668ea38f9a"
      },
      "outputs": [],
      "source": [
        "# This Python3 environment comes with many helpful analytics libraries installed\n",
        "# It is defined by the kaggle/python docker image: https://github.com/kaggle/docker-python\n",
        "# For example, here's several helpful packages to load in \n",
        "\n",
        "import numpy as np # linear algebra\n",
        "import pandas as pd # data processing, CSV file I/O (e.g. pd.read_csv)\n",
        "\n",
        "# Input data files are available in the \"../input/\" directory.\n",
        "# For example, running this (by clicking run or pressing Shift+Enter) will list the files in the input directory\n",
        "\n",
        "from subprocess import check_output\n",
        "print(check_output([\"ls\", \"../input\"]).decode(\"utf8\"))\n",
        "\n",
        "# Any results you write to the current directory are saved as output."
      ]
    },
    {
      "cell_type": "code",
      "execution_count": null,
      "metadata": {
        "_cell_guid": "fc03687b-dc94-907b-0022-19177d29d1b8"
      },
      "outputs": [],
      "source": [
        "# Load the training and test data sets\n",
        "traindf = pd.read_csv('../input/train.csv')\n",
        "testdf = pd.read_csv('../input/test.csv')"
      ]
    },
    {
      "cell_type": "code",
      "execution_count": null,
      "metadata": {
        "_cell_guid": "18eacdc9-0a4c-cf2f-3c86-a027f58934dc"
      },
      "outputs": [],
      "source": [
        "# traindf.dtypes"
      ]
    },
    {
      "cell_type": "code",
      "execution_count": null,
      "metadata": {
        "_cell_guid": "23a0d570-ef72-4880-c7ff-de4ab3ca8d43"
      },
      "outputs": [],
      "source": [
        "# reg_vars = traindf.columns[traindf.dtypes != 'objects']\n",
        "# reg_vars\n",
        "# pd.get_dummies(traindf.BldgType, prefix='BldgType').head()\n",
        "# training_binarized_df = pd.get_dummies(traindf)\n",
        "# training_binarized_df = training_binarized_df.set_index('Id')"
      ]
    },
    {
      "cell_type": "code",
      "execution_count": null,
      "metadata": {
        "_cell_guid": "02f55857-2fd9-2046-c7e1-73225dff947d"
      },
      "outputs": [],
      "source": [
        "# training_binarized_df.corr()['SalePrice'].sort_values(ascending=False)"
      ]
    },
    {
      "cell_type": "code",
      "execution_count": null,
      "metadata": {
        "_cell_guid": "f6974d5a-32d1-ed4b-43d0-5cebd555648d"
      },
      "outputs": [],
      "source": [
        "# pd.get_dummies(traindf)"
      ]
    },
    {
      "cell_type": "code",
      "execution_count": null,
      "metadata": {
        "_cell_guid": "d31da2fd-d0eb-01c7-58c5-67d57a4863c2"
      },
      "outputs": [],
      "source": [
        "import seaborn as sns;\n",
        "sns.set(color_codes=True)\n",
        "sns.regplot('OverallQual', 'SalePrice', traindf)"
      ]
    },
    {
      "cell_type": "code",
      "execution_count": null,
      "metadata": {
        "_cell_guid": "acd35f22-c4a3-3246-9bbe-764d46313620"
      },
      "outputs": [],
      "source": [
        "# Select the benchmark models features\n",
        "x_train = traindf[['YrSold','MoSold','LotArea','BedroomAbvGr','BedroomAbvGr']]\n",
        "y_train = traindf['SalePrice']\n",
        "x_test = testdf[['YrSold','MoSold','LotArea','BedroomAbvGr','BedroomAbvGr']]"
      ]
    },
    {
      "cell_type": "code",
      "execution_count": null,
      "metadata": {
        "_cell_guid": "28afc87c-6bbb-850c-d2cb-f4bb25212783"
      },
      "outputs": [],
      "source": [
        "from sklearn import linear_model"
      ]
    },
    {
      "cell_type": "code",
      "execution_count": null,
      "metadata": {
        "_cell_guid": "930849ab-ecdc-fc6f-2acc-8f9135fa47a5"
      },
      "outputs": [],
      "source": [
        "clf = linear_model.LinearRegression()\n",
        "clf.fit(x_train,y_train)"
      ]
    },
    {
      "cell_type": "code",
      "execution_count": null,
      "metadata": {
        "_cell_guid": "17987854-8192-34d5-5020-25cc5eb59b56"
      },
      "outputs": [],
      "source": [
        "from sklearn.cross_validation import cross_val_score\n",
        "test_scores = np.sqrt(-cross_val_score(clf, x_train, y_train, cv=10, scoring='mean_squared_error'))\n",
        "test_scores"
      ]
    },
    {
      "cell_type": "code",
      "execution_count": null,
      "metadata": {
        "_cell_guid": "939f5643-bd31-ad6e-48e2-5895e048fdaa"
      },
      "outputs": [],
      "source": [
        "np.mean(test_scores)"
      ]
    },
    {
      "cell_type": "code",
      "execution_count": null,
      "metadata": {
        "_cell_guid": "95daed35-7426-0a95-4ec8-9e9e54054e24"
      },
      "outputs": [],
      "source": [
        "x_test = x_test.fillna(x_test.mean())"
      ]
    },
    {
      "cell_type": "code",
      "execution_count": null,
      "metadata": {
        "_cell_guid": "bd484c8b-d21f-3dc0-8579-e5d0f7a42109"
      },
      "outputs": [],
      "source": [
        "yhat = clf.predict(x_test)"
      ]
    },
    {
      "cell_type": "code",
      "execution_count": null,
      "metadata": {
        "_cell_guid": "963bd21d-8a7a-6678-4f95-10b0f7a3d0b5"
      },
      "outputs": [],
      "source": [
        "# yhat"
      ]
    },
    {
      "cell_type": "code",
      "execution_count": null,
      "metadata": {
        "_cell_guid": "48f5dd05-51c9-2573-d0ef-eddd226c97c5"
      },
      "outputs": [],
      "source": [
        "# Create a dataframe with the row ID and price predicitons\n",
        "yhatdf = pd.DataFrame(data={'Id':testdf.Id,'SalePrice':yhat})"
      ]
    },
    {
      "cell_type": "code",
      "execution_count": null,
      "metadata": {
        "_cell_guid": "bbf8859e-9c1e-40ab-38a2-cebd0150c7c4"
      },
      "outputs": [],
      "source": [
        "# Write to CSV file\n",
        "filename = 'benchmark.csv'\n",
        "yhatdf.to_csv(filename,index=False)"
      ]
    },
    {
      "cell_type": "code",
      "execution_count": null,
      "metadata": {
        "_cell_guid": "e215ab53-ef22-178a-4860-5f1d61781d93"
      },
      "outputs": [],
      "source": [
        "resultdf = pd.read_csv('./benchmark.csv')\n",
        "resultdf"
      ]
    }
  ],
  "metadata": {
    "_change_revision": 0,
    "_is_fork": false,
    "kernelspec": {
      "display_name": "Python 3",
      "language": "python",
      "name": "python3"
    },
    "language_info": {
      "codemirror_mode": {
        "name": "ipython",
        "version": 3
      },
      "file_extension": ".py",
      "mimetype": "text/x-python",
      "name": "python",
      "nbconvert_exporter": "python",
      "pygments_lexer": "ipython3",
      "version": "3.5.2"
    }
  },
  "nbformat": 4,
  "nbformat_minor": 0
}