{
  "cells": [
    {
      "cell_type": "code",
      "execution_count": null,
      "metadata": {
        "_cell_guid": "48b26518-a5ad-7ab3-8114-5186d6c3c509"
      },
      "outputs": [],
      "source": [
        "# This Python 3 environment comes with many helpful analytics libraries installed\n",
        "# It is defined by the kaggle/python docker image: https://github.com/kaggle/docker-python\n",
        "# For example, here's several helpful packages to load in \n",
        "\n",
        "import numpy as np # linear algebra\n",
        "import pandas as pd # data processing, CSV file I/O (e.g. pd.read_csv)\n",
        "\n",
        "# Input data files are available in the \"../input/\" directory.\n",
        "# For example, running this (by clicking run or pressing Shift+Enter) will list the files in the input directory\n",
        "\n",
        "from subprocess import check_output\n",
        "print(check_output([\"ls\", \"../input\"]).decode(\"utf8\"))\n",
        "\n",
        "# Any results you write to the current directory are saved as output."
      ]
    },
    {
      "cell_type": "code",
      "execution_count": null,
      "metadata": {
        "_cell_guid": "e8da7ec1-df07-51a8-756f-cfd0c2625e93"
      },
      "outputs": [],
      "source": [
        "import os\n",
        "import cv2\n",
        "import numpy as np\n",
        "from matplotlib import pyplot as plt\n"
      ]
    },
    {
      "cell_type": "markdown",
      "metadata": {
        "_cell_guid": "64c73eaa-2250-38b7-8fb9-8a20b277b32b"
      },
      "source": [
        "### TrainDotted"
      ]
    },
    {
      "cell_type": "code",
      "execution_count": null,
      "metadata": {
        "_cell_guid": "9a24443d-5dc4-e7de-b701-7f4177bb5fbb"
      },
      "outputs": [],
      "source": [
        "print(check_output([\"ls\", \"../input/TrainDotted\"]).decode(\"utf8\"))"
      ]
    },
    {
      "cell_type": "code",
      "execution_count": null,
      "metadata": {
        "_cell_guid": "ef416b61-a42b-f713-ca31-1e40a3597507"
      },
      "outputs": [],
      "source": [
        "imgDotted0 = cv2.imread(\"../input/TrainDotted/1.jpg\")\n",
        "imgDotted01 = cv2.cvtColor(imgDotted0, cv2.COLOR_BGR2RGB)\n",
        "plt.axis(\"off\")\n",
        "plt.imshow(imgDotted01)"
      ]
    },
    {
      "cell_type": "code",
      "execution_count": null,
      "metadata": {
        "_cell_guid": "1a46243e-5baf-c43d-a3d4-1cdbec8ff947"
      },
      "outputs": [],
      "source": [
        "#files = os.listdir(\"../input\")\n",
        "#print(files)\n",
        "\n",
        "trainFiles = os.listdir(\"../input/TrainDotted/\") \n",
        "print(len(trainFiles))\n",
        "print(trainFiles[:5])\n",
        "\n",
        "\n",
        "path = \"../input/TrainDotted/\"\n",
        "extention = \".jpg\"\n",
        "# Load an color image in grayscale\n",
        "img0 = cv2.imread(path + str(0) + extention)\n"
      ]
    },
    {
      "cell_type": "code",
      "execution_count": null,
      "metadata": {
        "_cell_guid": "944fcf39-72f0-ac8e-c92c-f7aa7e5785f8"
      },
      "outputs": [],
      "source": [
        "#cv2.imshow('image',img0)\n",
        "#cv2.waitKey(0)\n",
        "#cv2.destroyAllWindows()\n",
        "\n",
        "#img = cv2.imread('messi5.jpg',0)\n",
        "plt.axis(\"off\")\n",
        "plt.imshow(plt.imread(\"../input/TrainDotted/0.jpg\"))#, cmap = 'gray', interpolation = 'bicubic')\n",
        "#plt.xticks([]), plt.yticks([])  # to hide tick values on X and Y axis\n",
        "plt.show()\n",
        "#plt.colorbar()"
      ]
    },
    {
      "cell_type": "code",
      "execution_count": null,
      "metadata": {
        "_cell_guid": "5c376f69-e47c-59e5-d6bb-4189cfc89aa9"
      },
      "outputs": [],
      "source": [
        "img01 = cv2.cvtColor(img0, cv2.COLOR_BGR2RGB)\n",
        "plt.axis(\"off\")\n",
        "plt.imshow(img01)\n",
        "#plt.axis(\"off\")\n",
        "#plt.imshow(cv2.cvtColor(img01, cv2.COLOR_HSV2RGB))\n",
        "\n"
      ]
    },
    {
      "cell_type": "code",
      "execution_count": null,
      "metadata": {
        "_cell_guid": "a885985b-5803-6ee6-0083-894aca0b31fa"
      },
      "outputs": [],
      "source": [
        "\n",
        "    red: adult males\n",
        "    magenta: subadult males\n",
        "    brown: adult females\n",
        "    blue: juveniles\n",
        "    green: pups\n"
      ]
    }
  ],
  "metadata": {
    "_change_revision": 0,
    "_is_fork": false,
    "kernelspec": {
      "display_name": "Python 3",
      "language": "python",
      "name": "python3"
    },
    "language_info": {
      "codemirror_mode": {
        "name": "ipython",
        "version": 3
      },
      "file_extension": ".py",
      "mimetype": "text/x-python",
      "name": "python",
      "nbconvert_exporter": "python",
      "pygments_lexer": "ipython3",
      "version": "3.6.0"
    }
  },
  "nbformat": 4,
  "nbformat_minor": 0
}