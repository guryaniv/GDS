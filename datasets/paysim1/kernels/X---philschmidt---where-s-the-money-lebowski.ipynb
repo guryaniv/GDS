{
  "cells": [
    {
      "cell_type": "markdown",
      "metadata": {
        "_cell_guid": "9a5d6243-2822-c6e6-e901-dc6ebd823f29"
      },
      "source": [
        "This dataset contains simulated money transfers with fraudulent activies. In this notebook we want to answer the above question. :)\n",
        "\n",
        "First, we will have a look at basic statistics of the data including the quantiles of the numeric features and correlations."
      ]
    },
    {
      "cell_type": "code",
      "execution_count": null,
      "metadata": {
        "_cell_guid": "29ef415f-fcc3-1462-cb4b-f818cf9fe8b6"
      },
      "outputs": [],
      "source": [
        "import pandas as pd\n",
        "import numpy as np\n",
        "import seaborn as sns\n",
        "import matplotlib.pyplot as plt\n",
        "%matplotlib inline\n",
        "import plotly.offline as py\n",
        "py.init_notebook_mode(connected=True)\n",
        "import plotly.graph_objs as go\n",
        "import plotly.tools as tls\n",
        "import warnings\n",
        "warnings.filterwarnings('ignore')\n",
        "\n",
        "# subsample\n",
        "df = pd.read_csv(\"../input/PS_20174392719_1491204439457_log.csv\")#, nrows=int(1e6))\n",
        "df.head()"
      ]
    },
    {
      "cell_type": "code",
      "execution_count": null,
      "metadata": {
        "_cell_guid": "a8cf46bc-926d-388d-e19c-7f55515c2811"
      },
      "outputs": [],
      "source": [
        "df.info()"
      ]
    },
    {
      "cell_type": "markdown",
      "metadata": {
        "_cell_guid": "30641280-36fa-ae7e-ed04-3a3223d0b126"
      },
      "source": [
        "Describe the numeric features in terms of their quantiles.\n",
        "\n",
        "What we can see here, is that there are a few transactions that have very large amounts. Also, the mean of isFraud is 0.00129, meaning we there are ~1.2 frauds per 1000 transactions."
      ]
    },
    {
      "cell_type": "code",
      "execution_count": null,
      "metadata": {
        "_cell_guid": "5704feb3-e59e-771a-74fe-a15a704aa01d"
      },
      "outputs": [],
      "source": [
        "df.describe(percentiles=[0.25, 0.5, 0.75, 0.9, 0.99])"
      ]
    },
    {
      "cell_type": "code",
      "execution_count": null,
      "metadata": {
        "_cell_guid": "fdd25e2b-7770-1b8d-d363-7360841d6ece"
      },
      "outputs": [],
      "source": [
        "df_corr = df[['amount', 'oldbalanceOrg', 'oldbalanceDest', 'isFraud']]\n",
        "\n",
        "data = [\n",
        "    go.Heatmap(\n",
        "        z=df_corr.corr().values,\n",
        "        x=df_corr.columns.values,\n",
        "        y=df_corr.columns.values,\n",
        "        colorscale='Viridis',\n",
        "        text = True ,\n",
        "        opacity = 1.0\n",
        "        \n",
        "    )\n",
        "]\n",
        "\n",
        "\n",
        "layout = go.Layout(\n",
        "    title='Pearson Correlation of all numeric features',\n",
        "    #xaxis = dict(ticks='', nticks=36),\n",
        "    #yaxis = dict(ticks='' ),\n",
        "    #width = 900, height = 700,\n",
        "    \n",
        ")\n",
        "\n",
        "\n",
        "fig = go.Figure(data=data, layout=layout)\n",
        "py.iplot(fig, filename='labelled-heatmap')"
      ]
    },
    {
      "cell_type": "markdown",
      "metadata": {
        "_cell_guid": "b5f773cd-a5bf-c8c1-c104-405cc4c3d798"
      },
      "source": [
        "# Categorical data\n",
        "\n",
        "By looking at the type of transaction, let's calculate the number of frauds for each of these categories. We can do that simply by grouping on the type and fraud indicator and counting the rows.\n",
        "\n",
        "Interesting to see here is, that there are only fraudulent activities for **CASH_OUT** and **TRANSFER** type."
      ]
    },
    {
      "cell_type": "code",
      "execution_count": null,
      "metadata": {
        "_cell_guid": "2cb77313-1e7a-6a98-81b1-17969745dc8a"
      },
      "outputs": [],
      "source": [
        "df.groupby(['type', 'isFraud']).count()['step']"
      ]
    },
    {
      "cell_type": "markdown",
      "metadata": {
        "_cell_guid": "6852f590-929c-dc30-61e8-f86b043abcfb"
      },
      "source": [
        "From here on, we will work with subsamples of the data, since the dataframe is quite large and we want the kernel to be fast."
      ]
    },
    {
      "cell_type": "code",
      "execution_count": null,
      "metadata": {
        "_cell_guid": "8e46599a-17ee-e9ec-b284-53695130e246"
      },
      "outputs": [],
      "source": [
        "df = df.sample(int(5e5))"
      ]
    },
    {
      "cell_type": "markdown",
      "metadata": {
        "_cell_guid": "09fed705-1af0-2f0d-a8cd-a58e91571458"
      },
      "source": [
        "By looking at boxplots for amount, fraudulent activities tend to have larger amounts."
      ]
    },
    {
      "cell_type": "code",
      "execution_count": null,
      "metadata": {
        "_cell_guid": "3aaadee3-76f1-df9d-d709-0a1a54addf51"
      },
      "outputs": [],
      "source": [
        "plt.figure(figsize=(12,8))\n",
        "sns.boxplot(x = 'isFraud', y = 'amount', data = df[df.amount < 1e5])"
      ]
    },
    {
      "cell_type": "code",
      "execution_count": null,
      "metadata": {
        "_cell_guid": "ebac6233-a3e2-8047-bb79-97cf57123c4a"
      },
      "outputs": [],
      "source": [
        "plt.figure(figsize=(12,8))\n",
        "sns.boxplot(hue = 'isFraud', x = 'type', y = 'amount', data = df[df.amount < 1e5])"
      ]
    },
    {
      "cell_type": "code",
      "execution_count": null,
      "metadata": {
        "_cell_guid": "241c5205-5c29-1db2-e6f1-00d5b6d418f6"
      },
      "outputs": [],
      "source": [
        "plt.figure(figsize=(12,8))\n",
        "sns.pairplot(df[['amount', 'oldbalanceOrg', 'oldbalanceDest', 'isFraud']], hue='isFraud')"
      ]
    },
    {
      "cell_type": "code",
      "execution_count": null,
      "metadata": {
        "_cell_guid": "4594b5e6-8282-2f3a-beee-ab67d8950740"
      },
      "outputs": [],
      "source": [
        "from scipy.stats import probplot\n",
        "fig = plt.figure()\n",
        "ax = fig.add_subplot(111)\n",
        "\n",
        "probplot(df['amount'], plot=ax)"
      ]
    },
    {
      "cell_type": "code",
      "execution_count": null,
      "metadata": {
        "_cell_guid": "9890b2b1-deae-9e5a-76f2-a6d98a263862"
      },
      "outputs": [],
      "source": [
        ""
      ]
    }
  ],
  "metadata": {
    "_change_revision": 0,
    "_is_fork": false,
    "kernelspec": {
      "display_name": "Python 3",
      "language": "python",
      "name": "python3"
    },
    "language_info": {
      "codemirror_mode": {
        "name": "ipython",
        "version": 3
      },
      "file_extension": ".py",
      "mimetype": "text/x-python",
      "name": "python",
      "nbconvert_exporter": "python",
      "pygments_lexer": "ipython3",
      "version": "3.6.0"
    }
  },
  "nbformat": 4,
  "nbformat_minor": 0
}