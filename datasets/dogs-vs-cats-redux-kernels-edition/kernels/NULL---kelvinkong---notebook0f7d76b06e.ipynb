{
  "cells": [
    {
      "cell_type": "markdown",
      "metadata": {
        "_cell_guid": "3d6b03b8-5174-bf80-f7da-9f3dd7ac4f80"
      },
      "source": [
        "This serves as my introduction to Kaggle competitions using AI, using references from Jeremy's FastAI"
      ]
    },
    {
      "cell_type": "code",
      "execution_count": null,
      "metadata": {
        "_cell_guid": "9af93e94-ea74-9dba-318c-4ae018a3bedb"
      },
      "outputs": [],
      "source": [
        "# This Python 3 environment comes with many helpful analytics libraries installed\n",
        "# It is defined by the kaggle/python docker image: https://github.com/kaggle/docker-python\n",
        "# For example, here's several helpful packages to load in \n",
        "\n",
        "import numpy as np # linear algebra\n",
        "import pandas as pd # data processing, CSV file I/O (e.g. pd.read_csv)\n",
        "\n",
        "# Input data files are available in the \"../input/\" directory.\n",
        "# For example, running this (by clicking run or pressing Shift+Enter) will list the files in the input directory\n",
        "\n",
        "from subprocess import check_output, call\n",
        "print(check_output([\"ls\", \"../input\"]).decode(\"utf8\"))\n",
        "\n",
        "# A quick method to execute shell commands\n",
        "def runCmd(cmd):\n",
        "    if type(cmd) is str:\n",
        "        print(call(cmd.split(\" \")))\n",
        "    else:\n",
        "        print(call(cmd))\n",
        "# Any results you write to the current directory are saved as output.\n",
        "runCmd(\"ls -l ../input\")"
      ]
    },
    {
      "cell_type": "markdown",
      "metadata": {
        "_cell_guid": "22b356a6-4b11-e10c-524d-099e5c24c6f1"
      },
      "source": [
        "##Check the data"
      ]
    },
    {
      "cell_type": "code",
      "execution_count": null,
      "metadata": {
        "_cell_guid": "fddab5ba-3eef-5b5b-6abf-8fb4d4b9ae11"
      },
      "outputs": [],
      "source": [
        "TRAIN_DIR = '../input/train'\n",
        "TEST_DIR = '../input/test'\n"
      ]
    }
  ],
  "metadata": {
    "_change_revision": 0,
    "_is_fork": false,
    "kernelspec": {
      "display_name": "Python 3",
      "language": "python",
      "name": "python3"
    },
    "language_info": {
      "codemirror_mode": {
        "name": "ipython",
        "version": 3
      },
      "file_extension": ".py",
      "mimetype": "text/x-python",
      "name": "python",
      "nbconvert_exporter": "python",
      "pygments_lexer": "ipython3",
      "version": "3.6.0"
    }
  },
  "nbformat": 4,
  "nbformat_minor": 0
}