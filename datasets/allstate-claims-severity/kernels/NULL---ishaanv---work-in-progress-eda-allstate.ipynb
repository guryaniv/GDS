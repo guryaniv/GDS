{
  "cells": [
    {
      "cell_type": "markdown",
      "metadata": {
        "_cell_guid": "a2ce330d-2242-f394-12aa-96fc74a586ad"
      },
      "source": [
        "## A WIP Exploratory data analysis on the Allstate Dataset"
      ]
    },
    {
      "cell_type": "code",
      "execution_count": null,
      "metadata": {
        "_cell_guid": "9ec25923-bd36-04f4-42d7-61612087c984"
      },
      "outputs": [],
      "source": [
        "import pandas as pd\n",
        "import numpy as np\n",
        "import matplotlib.pyplot as plt\n",
        "import seaborn as sns\n",
        "%matplotlib inline\n",
        "sns.set_style('whitegrid')"
      ]
    },
    {
      "cell_type": "markdown",
      "metadata": {
        "_cell_guid": "cf670168-47a8-4185-0f15-d71c9af60289"
      },
      "source": [
        "## EDA\n",
        "\n",
        "First lets explore the relationship of the existing feature in relation to the loss value"
      ]
    },
    {
      "cell_type": "code",
      "execution_count": null,
      "metadata": {
        "_cell_guid": "ff01db66-edb2-133d-2b08-8327dcd0cd11"
      },
      "outputs": [],
      "source": [
        "train = pd.read_csv('../input/train.csv')\n",
        "test = pd.read_csv('../input/test.csv')\n",
        "\n",
        "train.head()"
      ]
    },
    {
      "cell_type": "code",
      "execution_count": null,
      "metadata": {
        "_cell_guid": "36d9df1b-5162-725c-dcdb-7a1554be78f2"
      },
      "outputs": [],
      "source": [
        "# I would like to see the behaviour of the values of each category\n",
        "# look up how this was done in the redhat competition\n",
        "print('category | range of values')\n",
        "for ii in list(train.columns.values):\n",
        "    print('{}: {}'.format(ii, len(set(train[ii]))))"
      ]
    },
    {
      "cell_type": "code",
      "execution_count": null,
      "metadata": {
        "_cell_guid": "db1ebbc8-a49c-0f0c-08f7-f80d94e364a6"
      },
      "outputs": [],
      "source": [
        "# an alternative way to guage a highlevel overview\n",
        "[train[ii].value_counts() for ii in list(train.columns.values)]"
      ]
    },
    {
      "cell_type": "code",
      "execution_count": null,
      "metadata": {
        "_cell_guid": "f6838817-a827-1590-7624-8906f585583d"
      },
      "outputs": [],
      "source": [
        "# ok some pretty small categories and some big ones\n",
        "# post cat98 seems to go funky\n",
        "# TODO figure out an interesting way to see what contains what in a quick glance\n",
        "    # IE output what kable does in R\n",
        "print('category | range of values | examples')\n",
        "for ii in list(train.columns.values):\n",
        "    print('{} | {} | {}, {}, {} ...'.format(ii, len(set(train[ii])), train[ii][0], train[ii][1], train[ii][2]))"
      ]
    },
    {
      "cell_type": "code",
      "execution_count": null,
      "metadata": {
        "_cell_guid": "2951edbd-2746-c499-d13a-03bf052493a7"
      },
      "outputs": [],
      "source": [
        "## structure of loss\n",
        "def sum_stats(col):\n",
        "    print('max loss: %.2f' % col.max())\n",
        "    print('min loss: %.2f' % col.min())\n",
        "    print('median loss %.2f' % col.median())\n",
        "    print('mean loss %.2f' % col.mean())\n",
        "    print('std loss %.2f' % col.std())\n",
        "\n",
        "# long tail \n",
        "sum_stats(train['loss'])"
      ]
    },
    {
      "cell_type": "code",
      "execution_count": null,
      "metadata": {
        "_cell_guid": "2ce6c671-ce7d-4a9c-0745-942a81bace2f"
      },
      "outputs": [],
      "source": [
        "# plot the loss function out\n",
        "train['loss'].hist(bins=100).set_xlim(0, 20000)\n",
        "plt.ylabel('Number of claims')\n",
        "plt.xlabel('Loss Bucket')\n",
        "plt.title('loss distribution'.title())"
      ]
    },
    {
      "cell_type": "code",
      "execution_count": null,
      "metadata": {
        "_cell_guid": "108cbdb5-75e8-960e-fdbf-fba3540a3a28"
      },
      "outputs": [],
      "source": [
        "# These are special kinds of events\n",
        "\n",
        "# these are the kinds of losses that could really bring a business down (or loss a competition)\n",
        "len(train[train['loss'] > 20000])"
      ]
    },
    {
      "cell_type": "code",
      "execution_count": null,
      "metadata": {
        "_cell_guid": "f9dff555-e1df-2fd4-20f6-abf636c53ddb"
      },
      "outputs": [],
      "source": [
        "# Should we look at log loss?\n",
        "train['log_loss'] = np.log(train['loss'])\n",
        "train['log_loss'].hist(bins=50)\n",
        "sum_stats(train['log_loss'])\n",
        "plt.ylabel('Number of Claims')\n",
        "plt.xlabel('Log Loss Bucket')\n",
        "plt.title('log loss distribution'.title())\n",
        "\n",
        "# Looks much more normally distributed"
      ]
    },
    {
      "cell_type": "code",
      "execution_count": null,
      "metadata": {
        "_cell_guid": "3ae76733-5a28-02d0-31df-15717c1427eb"
      },
      "outputs": [],
      "source": [
        "train['cont1'].hist()"
      ]
    },
    {
      "cell_type": "code",
      "execution_count": null,
      "metadata": {
        "_cell_guid": "3e469d62-5f3c-a907-f95f-b3589717c93d"
      },
      "outputs": [],
      "source": [
        ""
      ]
    }
  ],
  "metadata": {
    "_change_revision": 0,
    "_is_fork": false,
    "kernelspec": {
      "display_name": "Python 3",
      "language": "python",
      "name": "python3"
    },
    "language_info": {
      "codemirror_mode": {
        "name": "ipython",
        "version": 3
      },
      "file_extension": ".py",
      "mimetype": "text/x-python",
      "name": "python",
      "nbconvert_exporter": "python",
      "pygments_lexer": "ipython3",
      "version": "3.5.2"
    }
  },
  "nbformat": 4,
  "nbformat_minor": 0
}