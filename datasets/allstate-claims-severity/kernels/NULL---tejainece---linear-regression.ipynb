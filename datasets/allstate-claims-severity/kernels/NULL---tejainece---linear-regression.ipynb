{
  "cells": [
    {
      "cell_type": "markdown",
      "metadata": {
        "_cell_guid": "0e7ab666-6071-9017-4541-70e8b9e72ff1"
      },
      "source": [
        "1. linear regression\n",
        "2. regression metrics\n",
        "3. X vs Y correlation"
      ]
    },
    {
      "cell_type": "code",
      "execution_count": null,
      "metadata": {
        "_cell_guid": "dea1bb86-2bac-309c-34aa-7d15bb8ce205"
      },
      "outputs": [],
      "source": [
        "import numpy as np\n",
        "import pandas as pd \n",
        "from sklearn import linear_model\n",
        "from sklearn.metrics import mean_absolute_error, mean_squared_error, r2_score\n",
        "import matplotlib.pyplot as plt\n",
        "import seaborn as sns\n",
        "\n",
        "from subprocess import check_output\n",
        "print(check_output([\"ls\", \"../input\"]).decode(\"utf8\"))\n",
        "\n",
        "df_train =pd.read_csv('../input/train.csv')\n",
        "df_test = pd.read_csv('../input/test.csv')\n",
        "\n",
        "# df_train.head()"
      ]
    },
    {
      "cell_type": "code",
      "execution_count": null,
      "metadata": {
        "_cell_guid": "e94f2d9c-49d6-7bb4-6d80-b37d1de98f95"
      },
      "outputs": [],
      "source": [
        "# We need only continous columns\n",
        "contCols = df_train.columns[df_train.columns.str.startswith('cont')]"
      ]
    },
    {
      "cell_type": "code",
      "execution_count": null,
      "metadata": {
        "_cell_guid": "7b819436-a8a3-2121-824d-f2f99938f1e2"
      },
      "outputs": [],
      "source": [
        "x_train = df_train[contCols]\n",
        "y_train = df_train['loss']\n",
        "\n",
        "x_test = df_test[contCols]\n",
        "id_test = df_test['id']"
      ]
    },
    {
      "cell_type": "code",
      "execution_count": null,
      "metadata": {
        "_cell_guid": "83c79045-2cd7-77e2-fe16-46e28bdaaa37"
      },
      "outputs": [],
      "source": [
        "# Create linear regression object\n",
        "regr = linear_model.LinearRegression()\n",
        "\n",
        "# Train the model using the training sets\n",
        "regr.fit(x_train, y_train)\n",
        "\n",
        "\n",
        "# Predict using the trained model \n",
        "y_pred = regr.predict(x_train)"
      ]
    },
    {
      "cell_type": "code",
      "execution_count": null,
      "metadata": {
        "_cell_guid": "b9f46e41-a311-569f-41c3-a59064d4272a"
      },
      "outputs": [],
      "source": [
        "diff = y_pred - y_train\n",
        "diff.describe()\n",
        "\n",
        "type(y_pred)"
      ]
    },
    {
      "cell_type": "code",
      "execution_count": null,
      "metadata": {
        "_cell_guid": "48ec7733-1547-5da9-95ff-1798d7c88599"
      },
      "outputs": [],
      "source": [
        "print(mean_absolute_error(y_train, y_pred))\n",
        "print(mean_squared_error(y_train, y_pred))\n",
        "print(r2_score(y_train, y_pred))"
      ]
    },
    {
      "cell_type": "code",
      "execution_count": null,
      "metadata": {
        "_cell_guid": "e694fc56-9c5e-6c86-536d-8dea71997f69"
      },
      "outputs": [],
      "source": [
        "df_test.columns"
      ]
    },
    {
      "cell_type": "code",
      "execution_count": null,
      "metadata": {
        "_cell_guid": "f5c6628d-e8b9-968d-e387-f48ebcf99420"
      },
      "outputs": [],
      "source": [
        "# TODO find performance\n",
        "# TODO plot data and results\n",
        "# TODO how to evaluate the performance?"
      ]
    },
    {
      "cell_type": "code",
      "execution_count": null,
      "metadata": {
        "_cell_guid": "8b64445f-0948-a060-c7db-fd0428eb9446"
      },
      "outputs": [],
      "source": [
        "whole = df_train[df_train.columns[df_train.columns.str.startswith('cont')]].copy()\n",
        "whole['loss'] = df_train.loss\n",
        "whole.head()"
      ]
    },
    {
      "cell_type": "code",
      "execution_count": null,
      "metadata": {
        "_cell_guid": "d6962fb0-154f-0258-ce7f-4eadfb559d70"
      },
      "outputs": [],
      "source": [
        "corr = whole.corr()"
      ]
    },
    {
      "cell_type": "code",
      "execution_count": null,
      "metadata": {
        "_cell_guid": "532e8bef-1be3-3107-069f-37e8df36919f"
      },
      "outputs": [],
      "source": [
        "corr['loss'].sort_values(ascending= False)\n",
        "f, ax = plt.subplots(figsize=(12, 9))\n",
        "sns.heatmap(corr)"
      ]
    },
    {
      "cell_type": "code",
      "execution_count": null,
      "metadata": {
        "_cell_guid": "e797cfa5-0004-5971-435b-2cf02ed8192f"
      },
      "outputs": [],
      "source": [
        "x_train.corrwith(y_train).sort_values(ascending= False)"
      ]
    },
    {
      "cell_type": "code",
      "execution_count": null,
      "metadata": {
        "_cell_guid": "e85221e3-fa86-eb18-1798-6ba8d799bf4b"
      },
      "outputs": [],
      "source": [
        "x_train.describe()"
      ]
    },
    {
      "cell_type": "code",
      "execution_count": null,
      "metadata": {
        "_cell_guid": "3ce9bce0-abcc-deee-ce23-f27cfe8c7aba"
      },
      "outputs": [],
      "source": [
        "y_train.describe()"
      ]
    },
    {
      "cell_type": "code",
      "execution_count": null,
      "metadata": {
        "_cell_guid": "d4a4059a-5377-4d10-dd5d-aa2540fdfab7"
      },
      "outputs": [],
      "source": [
        ""
      ]
    }
  ],
  "metadata": {
    "_change_revision": 0,
    "_is_fork": false,
    "kernelspec": {
      "display_name": "Python 3",
      "language": "python",
      "name": "python3"
    },
    "language_info": {
      "codemirror_mode": {
        "name": "ipython",
        "version": 3
      },
      "file_extension": ".py",
      "mimetype": "text/x-python",
      "name": "python",
      "nbconvert_exporter": "python",
      "pygments_lexer": "ipython3",
      "version": "3.6.0"
    }
  },
  "nbformat": 4,
  "nbformat_minor": 0
}