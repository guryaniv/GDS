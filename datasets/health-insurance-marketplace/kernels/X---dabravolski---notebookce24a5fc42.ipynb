{
  "cells": [
    {
      "cell_type": "markdown",
      "metadata": {
        "_cell_guid": "4bfec38c-41b6-07a1-efd3-8bfb75d58f9d"
      },
      "source": ""
    },
    {
      "cell_type": "code",
      "execution_count": null,
      "metadata": {
        "_cell_guid": "44429710-5960-4b47-f9f7-c663821fea18"
      },
      "outputs": [],
      "source": [
        "import numpy as np \n",
        "import pandas as pd \n",
        "from  matplotlib import pyplot\n",
        "import seaborn as sns"
      ]
    },
    {
      "cell_type": "markdown",
      "metadata": {
        "_cell_guid": "175579cb-c27a-9b1a-9007-6274a13929f2"
      },
      "source": [
        "#Let's review the rates variance per number of covered per state.\n",
        "\n",
        "For instance how different would be to get cover for gold level if you are alone vs with wife and 2 dependents in CA vs WA."
      ]
    },
    {
      "cell_type": "code",
      "execution_count": null,
      "metadata": {
        "_cell_guid": "8514c6b7-8af5-7a9c-595d-71b97acd35dd"
      },
      "outputs": [],
      "source": [
        "# Retrieve Rates\n",
        "rate_fields = ['StateCode','PlanId','IndividualRate','PrimarySubscriberAndThreeOrMoreDependents','BusinessYear','Age','RatingAreaId']\n",
        "rate_chunks = pd.read_csv(\"../input/Rate.csv\",iterator=True,chunksize = 1000,usecols=rate_fields)\n",
        "rates = pd.concat(chunk for chunk in rate_chunks)\n",
        "\n",
        "# Retrieve plan attributes\n",
        "attr_fields = ['PlanId','MetalLevel','BusinessYear','StateCode']\n",
        "\n",
        "attr_chunks = pd.read_csv(\"../input/PlanAttributes.csv\",iterator=True,chunksize = 1000,usecols=attr_fields)\n",
        "attributes = pd.concat(chunk for chunk in attr_chunks)\n",
        "attributes['PlanId']=attributes['PlanId'].str[0:14] # removing unneccessary post-fix\n",
        "\n",
        "attributes_sorted=attributes.sort_values('PlanId', ascending=True)\n",
        "rates_sorted=rates.sort_values('PlanId', ascending=True)"
      ]
    },
    {
      "cell_type": "markdown",
      "metadata": {
        "_cell_guid": "4099adde-4839-2cbc-aaa5-aeafce0bcaff"
      },
      "source": [
        "## Rationale\n",
        "Let's pretend that someone is shopping across multiple states for insurance. The person is interested in 2016 Low plans and is trying to decide wether he wants insurance just for himself and to cover his family as well. \n",
        "\n",
        "To support the case we need to filter the data:\n",
        " - leave only 2016 plans\n",
        " - leave only Low plans\n",
        " - leave only plans with Family options"
      ]
    },
    {
      "cell_type": "code",
      "execution_count": null,
      "metadata": {
        "_cell_guid": "7077c9e2-0c5b-7911-0d4b-ed29505ee4ca"
      },
      "outputs": [],
      "source": [
        "rates_filtered=rates_sorted[rates_sorted.BusinessYear==2016]\n",
        "rates_filtered=rates_filtered[rates_filtered.Age=='Family Option']\n",
        "\n",
        "attributes_filtered=attributes_sorted[attributes_sorted.BusinessYear==2016]\n",
        "attributes_filtered=attributes_filtered[attributes_filtered.MetalLevel=='Low']"
      ]
    },
    {
      "cell_type": "code",
      "execution_count": null,
      "metadata": {
        "_cell_guid": "56b06629-75d1-8947-5f2b-a13109458fe0"
      },
      "outputs": [],
      "source": [
        "aggregate_rate=rates_filtered.groupby(['PlanId']).agg({'IndividualRate': np.mean,\n",
        "                                        'PrimarySubscriberAndThreeOrMoreDependents': np.mean}).reset_index()\n",
        "aggregate_rate['IndVSFamilyRate']=aggregate_rate['IndividualRate']/aggregate_rate['PrimarySubscriberAndThreeOrMoreDependents']\n",
        "aggregate_rate=aggregate_rate[~aggregate_rate.IndVSFamilyRate.isin([np.inf,1,0,np.nan])]"
      ]
    },
    {
      "cell_type": "code",
      "execution_count": null,
      "metadata": {
        "_cell_guid": "1b4a9840-d13e-9385-c5d2-2e9773289c40"
      },
      "outputs": [],
      "source": [
        "merge_plan_rates = pd.merge(attributes, aggregate_rate, how='inner', on=['PlanId'])"
      ]
    },
    {
      "cell_type": "code",
      "execution_count": null,
      "metadata": {
        "_cell_guid": "7fb9b2de-371f-b5ff-dd34-62218f8a2ed8"
      },
      "outputs": [],
      "source": [
        "state_agg=merge_plan_rates.groupby('StateCode').agg({'IndividualRate': np.mean,\n",
        "                                        'PrimarySubscriberAndThreeOrMoreDependents': np.mean,\n",
        "                                                          'IndVSFamilyRate': np.mean}).reset_index()\n",
        "\n",
        "plt = sns.barplot(state_agg.sort(['IndVSFamilyRate'], ascending=[0]).StateCode, state_agg.IndVSFamilyRate,palette=\"Blues\")\n",
        "sns.plt.show()"
      ]
    },
    {
      "cell_type": "code",
      "execution_count": null,
      "metadata": {
        "_cell_guid": "af17a38c-4073-16e6-c748-519f14f85782"
      },
      "outputs": [],
      "source": [
        "g = sns.pairplot(state_agg, hue=\"StateCode\")"
      ]
    }
  ],
  "metadata": {
    "_change_revision": 0,
    "_is_fork": false,
    "kernelspec": {
      "display_name": "Python 3",
      "language": "python",
      "name": "python3"
    },
    "language_info": {
      "codemirror_mode": {
        "name": "ipython",
        "version": 3
      },
      "file_extension": ".py",
      "mimetype": "text/x-python",
      "name": "python",
      "nbconvert_exporter": "python",
      "pygments_lexer": "ipython3",
      "version": "3.5.2"
    }
  },
  "nbformat": 4,
  "nbformat_minor": 0
}