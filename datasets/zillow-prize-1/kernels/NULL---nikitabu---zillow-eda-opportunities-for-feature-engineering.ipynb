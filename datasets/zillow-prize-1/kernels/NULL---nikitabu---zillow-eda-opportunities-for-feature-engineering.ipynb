{
  "cells": [
    {
      "cell_type": "markdown",
      "metadata": {
        "_cell_guid": "7c5af77f-15bb-6f3f-effc-c73223d8eb06"
      },
      "source": [
        "This EDA is mostly focused on searching for opportunties for feature engineering. Some pieces of code were copied and/or inspired by the other great EDAs:\n",
        "\n",
        " - https://www.kaggle.com/philippsp/exploratory-analysis-zillow\n",
        " - https://www.kaggle.com/sudalairajkumar/simple-exploration-notebook-zillow-prize\n",
        " - https://www.kaggle.com/captcalculator/a-very-extensive-zillow-exploratory-analysis\n",
        " - https://www.kaggle.com/anokas/simple-xgboost-starter-0-0655\n",
        "\n",
        "Key Takeaways:\n",
        "\n",
        "- There appears to be a slight seasonal time dependence that may, or may not, be useful for predicting time-dependent error\n",
        "- Some of the features exhibit heteroskedasticy (error variance is larger at lower feature values) that may be useful for feature engineering\n",
        "-  There are sometimes significant differences in feature value distribution between the train and test sets\n",
        "-  Some of the other public kernels are treating non-ordinal data as if it was ordinal, which will cause some problems during fitting"
      ]
    },
    {
      "cell_type": "code",
      "execution_count": null,
      "metadata": {
        "_cell_guid": "82c5302b-5c1c-4902-cd79-9d8a26994798"
      },
      "outputs": [],
      "source": [
        "import pandas            as pd;\n",
        "import numpy             as np;\n",
        "import seaborn           as sns;\n",
        "import matplotlib.pyplot as plt;\n",
        "\n",
        "%matplotlib inline"
      ]
    },
    {
      "cell_type": "code",
      "execution_count": null,
      "metadata": {
        "_cell_guid": "b01a72ec-14ca-1453-9366-96ddf7f41531"
      },
      "outputs": [],
      "source": [
        "names = ['parcelid', 'air_conditioning_type', 'architectural_style', \n",
        "         'area_basement', 'num_bathroom', 'num_bedroom', 'framing_type',\n",
        "         'building_quality', 'num_bathroom_calc', 'deck_type',\n",
        "         'area_firstfloor_finished', 'area_total_calc',\n",
        "         'area_living_finished', 'perimeter_living',\n",
        "         'area_total', 'area_firstfloor_unfinished',\n",
        "         'area_base', 'fips', 'num_fireplace', 'num_fullbath',\n",
        "         'num_garagecar', 'area_garage', 'hashottuborspa',\n",
        "         'heating_type', 'latitude', 'longitude',\n",
        "         'area_lot', 'num_pool', 'area_pools', 'pooltypeid10',\n",
        "         'pooltypeid2', 'pooltypeid7', 'property_land_use_code',\n",
        "         'property_land_use_type', 'property_zoning_desc',\n",
        "         'census_raw_tract_block', 'region_city', 'region_county',\n",
        "         'region_neighborhood', 'region_zipcode', 'num_room', 'story_type',\n",
        "         'num_34_bath', 'material_type', 'num_unit',\n",
        "         'area_patio', 'area_shed', 'build_year',\n",
        "         'num_stories', 'flag_fireplace', 'tax_assessed_structure_value',\n",
        "         'tax_assessed_parcel_value', 'tax_assessment_year', 'tax_assessed_land_alue',\n",
        "         'tax_property', 'tax_delinquency_flag', 'tax_delinquency_year',\n",
        "         'census_tract_block']\n",
        "\n",
        "train_df   = pd.read_csv('../input/train_2016.csv', parse_dates=[\"transactiondate\"]);\n",
        "prop_df    = pd.read_csv('../input/properties_2016.csv', names=names, header=0);\n",
        "sample_df  = pd.read_csv('../input/sample_submission.csv')\n",
        "\n",
        "# Convert property float.64 data to float.32 to save memory\n",
        "for c, dtype in zip(prop_df.columns, prop_df.dtypes):\n",
        "\tif dtype == np.float64:\n",
        "\t\tprop_df[c] = prop_df[c].astype(np.float32)"
      ]
    },
    {
      "cell_type": "code",
      "execution_count": null,
      "metadata": {
        "_cell_guid": "af83e020-76f2-161c-7588-b37e94ec400c"
      },
      "outputs": [],
      "source": [
        "Inspect what the datasets look like. The training set is only about 3% the size of the test set!"
      ]
    },
    {
      "cell_type": "code",
      "execution_count": null,
      "metadata": {
        "_cell_guid": "e95f4bba-ef74-e666-8098-80c5bb30677a"
      },
      "outputs": [],
      "source": [
        "#print(prop_df.values.shape) # looking at large shapes seems to break Kaggle Kernel's memory constraints\n",
        "train_df.head()"
      ]
    },
    {
      "cell_type": "code",
      "execution_count": null,
      "metadata": {
        "_cell_guid": "c21d9677-f730-b842-5a8c-5ca61a39d5ea"
      },
      "outputs": [],
      "source": [
        "#print(prop_df.values.shape)\n",
        "prop_df.head()"
      ]
    },
    {
      "cell_type": "code",
      "execution_count": null,
      "metadata": {
        "_cell_guid": "a52eac39-f379-0562-176c-d0594d596638"
      },
      "outputs": [],
      "source": [
        "#print(sample_df.values.shape)\n",
        "sample_df.head()"
      ]
    },
    {
      "cell_type": "code",
      "execution_count": null,
      "metadata": {
        "_cell_guid": "01f1ec1a-301c-fab2-bf93-6416e04310b3"
      },
      "outputs": [],
      "source": [
        "train_df = pd.merge(train_df, prop_df, on='parcelid', how='left')\n",
        "train_df.head()"
      ]
    },
    {
      "cell_type": "code",
      "execution_count": null,
      "metadata": {
        "_cell_guid": "960a583e-ecee-02bf-d8b2-aa3bd7a1ce66"
      },
      "outputs": [],
      "source": [
        "sample_df['parcelid'] = sample_df['ParcelId'];\n",
        "sample_df = sample_df.drop(['ParcelId', '201610', '201611', '201612', '201710', '201711', '201712'], axis=1)\n",
        "sample_df = pd.merge(sample_df, prop_df, on='parcelid', how='left')\n",
        "#print(sample_df.values.shape)\n",
        "sample_df.head()"
      ]
    },
    {
      "cell_type": "markdown",
      "metadata": {
        "_cell_guid": "a1804ca3-5c78-d124-8643-79751a3d6c0b"
      },
      "source": [
        "Create an abs(logerror) column to inspect later."
      ]
    },
    {
      "cell_type": "code",
      "execution_count": null,
      "metadata": {
        "_cell_guid": "09d5aeb7-f0b7-52d7-2b28-767926d6844c"
      },
      "outputs": [],
      "source": [
        "train_df['abs_logerror'] = abs(train_df['logerror'].values)"
      ]
    },
    {
      "cell_type": "markdown",
      "metadata": {
        "_cell_guid": "86347f17-0889-aedc-e3db-50b055fce9c5"
      },
      "source": [
        "## Time Dependence ##"
      ]
    },
    {
      "cell_type": "markdown",
      "metadata": {
        "_cell_guid": "76d180f6-f1f2-5665-d37b-67a61065fac6"
      },
      "source": [
        "Are there seasonal patterns to the number of transactions?"
      ]
    },
    {
      "cell_type": "code",
      "execution_count": null,
      "metadata": {
        "_cell_guid": "a613e098-2b4f-8182-e42a-d8b4ee40dbf2"
      },
      "outputs": [],
      "source": [
        "train_df['transaction_month'] = train_df['transactiondate'].dt.month\n",
        "\n",
        "cnt_srs = train_df['transaction_month'].value_counts()\n",
        "plt.figure(figsize=(12,6))\n",
        "sns.barplot(cnt_srs.index, cnt_srs.values, alpha=0.8, color='blue')\n",
        "plt.xticks(rotation='vertical')\n",
        "plt.xlabel('Month of transaction', fontsize=12)\n",
        "plt.ylabel('Number of Occurrences', fontsize=12)\n",
        "plt.show()"
      ]
    },
    {
      "cell_type": "code",
      "execution_count": null,
      "metadata": {
        "_cell_guid": "33585195-031f-6dd7-98a2-3b4fd0eeaccc"
      },
      "outputs": [],
      "source": [
        "train_df['transaction_day'] = train_df['transactiondate'].dt.day\n",
        "\n",
        "cnt_srs = train_df['transaction_day'].value_counts()\n",
        "plt.figure(figsize=(12,6))\n",
        "sns.barplot(cnt_srs.index, cnt_srs.values, alpha=0.8, color='blue')\n",
        "plt.xticks(rotation='vertical')\n",
        "plt.xlabel('Day of transaction', fontsize=12)\n",
        "plt.ylabel('Number of Occurrences', fontsize=12)\n",
        "plt.show()"
      ]
    },
    {
      "cell_type": "markdown",
      "metadata": {
        "_cell_guid": "9c088ced-c439-6d45-fada-5f1ed13580e7"
      },
      "source": [
        "Check how many parcel values occur 1x, 2x, 3x times"
      ]
    },
    {
      "cell_type": "code",
      "execution_count": null,
      "metadata": {
        "_cell_guid": "6cccf1b8-0591-8998-945e-d1757ca4dbc9"
      },
      "outputs": [],
      "source": [
        "train_df['parcelid'].value_counts().reset_index()['parcelid'].value_counts()"
      ]
    },
    {
      "cell_type": "markdown",
      "metadata": {
        "_cell_guid": "fbf7964f-45b9-2970-caae-ca6c5b0b7fac"
      },
      "source": [
        "How many missing values are there in the training data? Some features have almost all their entries missing. May want to remove these features."
      ]
    },
    {
      "cell_type": "code",
      "execution_count": null,
      "metadata": {
        "_cell_guid": "ebcbabbd-0431-4566-cae9-94a8e0452ce6"
      },
      "outputs": [],
      "source": [
        "missing_df = prop_df.isnull().sum(axis=0).reset_index()\n",
        "missing_df.columns = ['column_name', 'missing_count']\n",
        "missing_df = missing_df.ix[missing_df['missing_count']>0]\n",
        "missing_df = missing_df.sort_values(by='missing_count')\n",
        "\n",
        "ind = np.arange(missing_df.shape[0])\n",
        "width = 0.9\n",
        "fig, ax = plt.subplots(figsize=(12,18))\n",
        "rects = ax.barh(ind, missing_df.missing_count.values, color='blue')\n",
        "ax.set_yticks(ind)\n",
        "ax.set_yticklabels(missing_df.column_name.values, rotation='horizontal')\n",
        "ax.set_xlabel(\"Count of missing values\")\n",
        "ax.set_title(\"Number of missing values in each column\")\n",
        "plt.show()"
      ]
    },
    {
      "cell_type": "markdown",
      "metadata": {
        "_cell_guid": "796c5912-0871-9ec7-7995-5be19dbf4158"
      },
      "source": [
        "## Inspect Property Descriptions ##"
      ]
    },
    {
      "cell_type": "markdown",
      "metadata": {
        "_cell_guid": "52b3ec5f-03cb-c1c6-2d01-49919d8e6043"
      },
      "source": [
        "What features have the strongest correlation with logerror and abs(logerror)?"
      ]
    },
    {
      "cell_type": "code",
      "execution_count": null,
      "metadata": {
        "_cell_guid": "b42f8079-1af9-4a2e-f2cb-4979fe433aec"
      },
      "outputs": [],
      "source": [
        "print('Correlation with Log Error')\n",
        "print(train_df.corr(method='pearson').drop(['logerror', 'abs_logerror']).sort_values('logerror', ascending=False)['logerror'].head(10))\n",
        "print('\\n')\n",
        "print('Correlation with Abs Log Error')\n",
        "print(train_df.corr(method='pearson').drop(['logerror', 'abs_logerror']).sort_values('abs_logerror', ascending=False)['abs_logerror'].head(10))"
      ]
    },
    {
      "cell_type": "markdown",
      "metadata": {
        "_cell_guid": "6a3e179c-b40b-7638-a719-21a13dd2c7c9"
      },
      "source": [
        "Plot partial depedence plots of the most strongly-correlated variables"
      ]
    },
    {
      "cell_type": "code",
      "execution_count": null,
      "metadata": {
        "_cell_guid": "4295c8f3-bee5-72d6-e11a-d3aee46c2f5a"
      },
      "outputs": [],
      "source": [
        "fig  = plt.figure(figsize=(9, 9), dpi=100);\n",
        "\n",
        "#fig.suptitle('House Characteristics')\n",
        "\n",
        "axes1 = fig.add_subplot(331); axes2 = fig.add_subplot(332); axes3 = fig.add_subplot(333); \n",
        "axes4 = fig.add_subplot(334); axes5 = fig.add_subplot(335); axes6 = fig.add_subplot(336); \n",
        "axes7 = fig.add_subplot(337); axes8 = fig.add_subplot(338); axes9 = fig.add_subplot(339); \n",
        "\n",
        "sns.regplot(x='area_basement',        y='logerror', data=train_df, ax=axes1, scatter_kws={\"s\": 10, \"color\":\"orange\"}, line_kws={\"color\":\"black\"});\n",
        "sns.regplot(x='area_shed',            y='logerror', data=train_df, ax=axes2, scatter_kws={\"s\": 10, \"color\":\"orange\"}, line_kws={\"color\":\"black\"});\n",
        "sns.regplot(x='area_living_finished', y='logerror', data=train_df, ax=axes3, scatter_kws={\"s\": 10, \"color\":\"orange\"}, line_kws={\"color\":\"black\"});\n",
        "sns.regplot(x='area_total_calc',      y='logerror', data=train_df, ax=axes4, scatter_kws={\"s\": 10, \"color\":\"orange\"}, line_kws={\"color\":\"black\"});\n",
        "sns.regplot(x='area_base',            y='logerror', data=train_df, ax=axes5, scatter_kws={\"s\": 10, \"color\":\"orange\"}, line_kws={\"color\":\"black\"});\n",
        "sns.regplot(x='perimeter_living',     y='logerror', data=train_df, ax=axes6, scatter_kws={\"s\": 10, \"color\":\"orange\"}, line_kws={\"color\":\"black\"});\n",
        "sns.regplot(x='num_34_bath',          y='logerror', data=train_df, ax=axes7, scatter_kws={\"s\": 10, \"color\":\"orange\"}, line_kws={\"color\":\"black\"});\n",
        "sns.regplot(x='num_fireplace',        y='logerror', data=train_df, ax=axes8, scatter_kws={\"s\": 10, \"color\":\"orange\"}, line_kws={\"color\":\"black\"});\n",
        "sns.regplot(x='num_bathroom_calc',    y='logerror', data=train_df, ax=axes9, scatter_kws={\"s\": 10, \"color\":\"orange\"}, line_kws={\"color\":\"black\"});\n",
        "\n",
        "axes9.set_xlim(0, 30)\n",
        "\n",
        "fig.tight_layout();"
      ]
    },
    {
      "cell_type": "code",
      "execution_count": null,
      "metadata": {
        "_cell_guid": "4757c104-3703-d11a-e459-c9e845181582"
      },
      "outputs": [],
      "source": [
        "fig  = plt.figure(figsize=(9, 9), dpi=100);\n",
        "\n",
        "#fig.suptitle('House Characteristics')\n",
        "\n",
        "axes1 = fig.add_subplot(331); axes2 = fig.add_subplot(332); axes3 = fig.add_subplot(333); \n",
        "axes4 = fig.add_subplot(334); axes5 = fig.add_subplot(335); axes6 = fig.add_subplot(336); \n",
        "axes7 = fig.add_subplot(337); axes8 = fig.add_subplot(338); axes9 = fig.add_subplot(339); \n",
        "\n",
        "sns.regplot(x='area_basement',        y='abs_logerror', data=train_df, ax=axes1, scatter_kws={\"s\": 10, \"color\":\"orange\"}, line_kws={\"color\":\"black\"});\n",
        "sns.regplot(x='area_shed',            y='abs_logerror', data=train_df, ax=axes2, scatter_kws={\"s\": 10, \"color\":\"orange\"}, line_kws={\"color\":\"black\"});\n",
        "sns.regplot(x='area_living_finished', y='abs_logerror', data=train_df, ax=axes3, scatter_kws={\"s\": 10, \"color\":\"orange\"}, line_kws={\"color\":\"black\"});\n",
        "sns.regplot(x='area_total_calc',      y='abs_logerror', data=train_df, ax=axes4, scatter_kws={\"s\": 10, \"color\":\"orange\"}, line_kws={\"color\":\"black\"});\n",
        "sns.regplot(x='area_base',            y='abs_logerror', data=train_df, ax=axes5, scatter_kws={\"s\": 10, \"color\":\"orange\"}, line_kws={\"color\":\"black\"});\n",
        "sns.regplot(x='perimeter_living',     y='abs_logerror', data=train_df, ax=axes6, scatter_kws={\"s\": 10, \"color\":\"orange\"}, line_kws={\"color\":\"black\"});\n",
        "sns.regplot(x='num_34_bath',          y='abs_logerror', data=train_df, ax=axes7, scatter_kws={\"s\": 10, \"color\":\"orange\"}, line_kws={\"color\":\"black\"});\n",
        "sns.regplot(x='num_fireplace',        y='abs_logerror', data=train_df, ax=axes8, scatter_kws={\"s\": 10, \"color\":\"orange\"}, line_kws={\"color\":\"black\"});\n",
        "sns.regplot(x='num_bathroom_calc',    y='abs_logerror', data=train_df, ax=axes9, scatter_kws={\"s\": 10, \"color\":\"orange\"}, line_kws={\"color\":\"black\"});\n",
        "\n",
        "axes9.set_xlim(0, 30)\n",
        "\n",
        "fig.tight_layout();"
      ]
    },
    {
      "cell_type": "markdown",
      "metadata": {
        "_cell_guid": "da2a0011-bf5a-a5db-b1ae-5a0fc114ad0b"
      },
      "source": [
        "Many of these strongly-correlated features have a lot of missing values, and may not be very reliable. Now look at which variables have the strongest correlations and have at least half their data points filled in. "
      ]
    },
    {
      "cell_type": "code",
      "execution_count": null,
      "metadata": {
        "_cell_guid": "2a8e6ac1-3e9f-803b-12fb-5bb166adff95"
      },
      "outputs": [],
      "source": [
        "simple_train_df = train_df.copy()\n",
        "simple_train_df = simple_train_df.drop(missing_df[missing_df['missing_count'] > 1500000]['column_name'].values, axis=1)"
      ]
    },
    {
      "cell_type": "code",
      "execution_count": null,
      "metadata": {
        "_cell_guid": "00af4b58-83eb-7a7f-f4d1-36122baf4c27"
      },
      "outputs": [],
      "source": [
        "print('Correlation with Log Error')\n",
        "print(simple_train_df.corr(method='pearson').drop(['logerror', 'abs_logerror']).sort_values('logerror', ascending=False)['logerror'].head(10))\n",
        "print('\\n')\n",
        "print('Correlation with Abs Log Error')\n",
        "print(simple_train_df.corr(method='pearson').drop(['logerror', 'abs_logerror']).sort_values('abs_logerror', ascending=False)['abs_logerror'].head(10))"
      ]
    },
    {
      "cell_type": "code",
      "execution_count": null,
      "metadata": {
        "_cell_guid": "88602ed7-3192-ad21-fb58-dda9f43b50c7"
      },
      "outputs": [],
      "source": [
        "fig  = plt.figure(figsize=(9, 9), dpi=100);\n",
        "\n",
        "#fig.suptitle('House Characteristics')\n",
        "\n",
        "axes1 = fig.add_subplot(331); axes2 = fig.add_subplot(332); axes3 = fig.add_subplot(333); \n",
        "axes4 = fig.add_subplot(334); axes5 = fig.add_subplot(335); axes6 = fig.add_subplot(336); \n",
        "axes7 = fig.add_subplot(337); axes8 = fig.add_subplot(338); axes9 = fig.add_subplot(339); \n",
        "\n",
        "sns.regplot(x='area_living_finished',         y='abs_logerror', data=train_df, ax=axes1, scatter_kws={\"s\": 10, \"color\":\"orange\"}, line_kws={\"color\":\"black\"});\n",
        "sns.regplot(x='area_total_calc',              y='abs_logerror', data=train_df, ax=axes2, scatter_kws={\"s\": 10, \"color\":\"orange\"}, line_kws={\"color\":\"black\"});\n",
        "sns.regplot(x='num_bathroom_calc',            y='abs_logerror', data=train_df, ax=axes3, scatter_kws={\"s\": 10, \"color\":\"orange\"}, line_kws={\"color\":\"black\"});\n",
        "sns.regplot(x='num_fullbath',                 y='abs_logerror', data=train_df, ax=axes4, scatter_kws={\"s\": 10, \"color\":\"orange\"}, line_kws={\"color\":\"black\"});\n",
        "sns.regplot(x='num_bathroom',                 y='abs_logerror', data=train_df, ax=axes5, scatter_kws={\"s\": 10, \"color\":\"orange\"}, line_kws={\"color\":\"black\"});\n",
        "sns.regplot(x='num_bedroom',                  y='abs_logerror', data=train_df, ax=axes6, scatter_kws={\"s\": 10, \"color\":\"orange\"}, line_kws={\"color\":\"black\"});\n",
        "sns.regplot(x='tax_assessed_structure_value', y='abs_logerror', data=train_df, ax=axes7, scatter_kws={\"s\": 10, \"color\":\"orange\"}, line_kws={\"color\":\"black\"});\n",
        "sns.regplot(x='build_year',                   y='abs_logerror', data=train_df, ax=axes8, scatter_kws={\"s\": 10, \"color\":\"orange\"}, line_kws={\"color\":\"black\"});\n",
        "sns.regplot(x='tax_assessed_parcel_value',    y='abs_logerror', data=train_df, ax=axes9, scatter_kws={\"s\": 10, \"color\":\"orange\"}, line_kws={\"color\":\"black\"});\n",
        "\n",
        "fig.tight_layout();"
      ]
    },
    {
      "cell_type": "code",
      "execution_count": null,
      "metadata": {
        "_cell_guid": "16b5277d-f5cb-71a3-5c46-55a8075035a8"
      },
      "outputs": [],
      "source": [
        "fig  = plt.figure(figsize=(9, 9), dpi=100);\n",
        "\n",
        "#fig.suptitle('House Characteristics')\n",
        "\n",
        "axes1 = fig.add_subplot(331); axes2 = fig.add_subplot(332); axes3 = fig.add_subplot(333); \n",
        "axes4 = fig.add_subplot(334); axes5 = fig.add_subplot(335); axes6 = fig.add_subplot(336); \n",
        "\n",
        "sns.regplot(x='region_county',          y='abs_logerror', data=train_df, ax=axes1, scatter_kws={\"s\": 10, \"color\":\"orange\"}, line_kws={\"color\":\"black\"});\n",
        "sns.regplot(x='building_quality',       y='abs_logerror', data=train_df, ax=axes2, scatter_kws={\"s\": 10, \"color\":\"orange\"}, line_kws={\"color\":\"black\"});\n",
        "sns.regplot(x='tax_property',           y='abs_logerror', data=train_df, ax=axes3, scatter_kws={\"s\": 10, \"color\":\"orange\"}, line_kws={\"color\":\"black\"});\n",
        "sns.regplot(x='num_unit',               y='abs_logerror', data=train_df, ax=axes4, scatter_kws={\"s\": 10, \"color\":\"orange\"}, line_kws={\"color\":\"black\"});\n",
        "sns.regplot(x='heating_type',           y='abs_logerror', data=train_df, ax=axes5, scatter_kws={\"s\": 10, \"color\":\"orange\"}, line_kws={\"color\":\"black\"});\n",
        "sns.regplot(x='tax_assessed_land_alue', y='abs_logerror', data=train_df, ax=axes6, scatter_kws={\"s\": 10, \"color\":\"orange\"}, line_kws={\"color\":\"black\"});\n",
        "\n",
        "axes4.set_xlim(0, 20)\n",
        "\n",
        "fig.tight_layout();"
      ]
    },
    {
      "cell_type": "markdown",
      "metadata": {
        "_cell_guid": "f6f8511e-9d2a-29e6-259f-f134101050d7"
      },
      "source": [
        "Notice that many of these data points are very heteroskedastic. That is, the mean log error at low values is much larger than it is at large values. We may want to take advantage of this for feature engineering."
      ]
    },
    {
      "cell_type": "markdown",
      "metadata": {
        "_cell_guid": "ead3883b-f9ee-1c1a-ef39-6e879b5aec61"
      },
      "source": [
        "## Inspect Time Data ##"
      ]
    },
    {
      "cell_type": "markdown",
      "metadata": {
        "_cell_guid": "39a2b2a9-3e59-fbc9-48ad-52e90e1105f4"
      },
      "source": [
        "How does logerror and abs(logerror) vary with time?"
      ]
    },
    {
      "cell_type": "code",
      "execution_count": null,
      "metadata": {
        "_cell_guid": "53d77bef-8468-7ab7-5790-83c01cf87adf"
      },
      "outputs": [],
      "source": [
        "fig  = plt.figure(figsize=(9, 6), dpi=100);\n",
        "\n",
        "axes1 = fig.add_subplot(221); axes2 = fig.add_subplot(222);\n",
        "axes3 = fig.add_subplot(223); axes4 = fig.add_subplot(224);\n",
        "\n",
        "sns.regplot(x='transaction_month', y='logerror',     data=train_df, ax=axes1, scatter_kws={\"s\": 10, \"color\":\"orange\"}, line_kws={\"color\":\"black\"});\n",
        "sns.regplot(x='transaction_day',   y='logerror',     data=train_df, ax=axes2, scatter_kws={\"s\": 10, \"color\":\"orange\"}, line_kws={\"color\":\"black\"});\n",
        "sns.regplot(x='transaction_month', y='abs_logerror', data=train_df, ax=axes3, scatter_kws={\"s\": 10, \"color\":\"orange\"}, line_kws={\"color\":\"black\"});\n",
        "sns.regplot(x='transaction_day',   y='abs_logerror', data=train_df, ax=axes4, scatter_kws={\"s\": 10, \"color\":\"orange\"}, line_kws={\"color\":\"black\"});\n",
        "\n",
        "fig.tight_layout();"
      ]
    },
    {
      "cell_type": "markdown",
      "metadata": {
        "_cell_guid": "e54ff880-95fd-a345-a8eb-09c3443a18fa"
      },
      "source": [
        "## Inspect Categorical Data ##"
      ]
    },
    {
      "cell_type": "markdown",
      "metadata": {
        "_cell_guid": "1a07bd1b-1697-1561-feab-cd1f8816d4db"
      },
      "source": [
        "Inspect (a lot) of categorical data.\n",
        "\n",
        "TLDR:\n",
        "\n",
        "- Many of the columns consist of features that naively look ordinal (e.g. integers 1-30) but aren't, and should be hot-encoded into a more suitable form.\n",
        "- There are sometimes substantial differences between train and test distributions."
      ]
    },
    {
      "cell_type": "code",
      "execution_count": null,
      "metadata": {
        "_cell_guid": "742c987a-808c-7819-c22e-e009f702b957"
      },
      "outputs": [],
      "source": [
        "feature = 'air_conditioning_type'\n",
        "\n",
        "fig  = plt.figure(figsize=(12, 9), dpi=100);\n",
        "axes1 = fig.add_subplot(411); axes2 = fig.add_subplot(412); axes3 = fig.add_subplot(413); axes4 = fig.add_subplot(414); \n",
        "sns.countplot(train_df[feature].fillna('NaN'), ax=axes1); sns.countplot(sample_df[feature].fillna('NaN'),  ax=axes2);\n",
        "bar_df1 = train_df[[feature,     \"logerror\"]].fillna('NaN').groupby([feature], as_index=False).mean()\n",
        "bar_df2 = train_df[[feature, \"abs_logerror\"]].fillna('NaN').groupby([feature], as_index=False).mean()\n",
        "sns.barplot(x=feature, y='logerror',     data=bar_df1, ax=axes3);\n",
        "sns.barplot(x=feature, y='abs_logerror', data=bar_df2, ax=axes4);\n",
        "fig.tight_layout()"
      ]
    },
    {
      "cell_type": "code",
      "execution_count": null,
      "metadata": {
        "_cell_guid": "1730364c-ac28-20d7-6163-8263aae8510e"
      },
      "outputs": [],
      "source": [
        "feature = 'architectural_style'\n",
        "\n",
        "fig  = plt.figure(figsize=(12, 9), dpi=100);\n",
        "axes1 = fig.add_subplot(411); axes2 = fig.add_subplot(412); axes3 = fig.add_subplot(413); axes4 = fig.add_subplot(414); \n",
        "sns.countplot(train_df[feature].fillna('NaN'), ax=axes1); sns.countplot(sample_df[feature].fillna('NaN'),  ax=axes2);\n",
        "bar_df1 = train_df[[feature,     \"logerror\"]].fillna('NaN').groupby([feature], as_index=False).mean()\n",
        "bar_df2 = train_df[[feature, \"abs_logerror\"]].fillna('NaN').groupby([feature], as_index=False).mean()\n",
        "sns.barplot(x=feature, y='logerror',     data=bar_df1, ax=axes3);\n",
        "sns.barplot(x=feature, y='abs_logerror', data=bar_df2, ax=axes4);\n",
        "fig.tight_layout()"
      ]
    },
    {
      "cell_type": "code",
      "execution_count": null,
      "metadata": {
        "_cell_guid": "e460ffb5-deb6-1dc8-6e25-d33d8ae72412"
      },
      "outputs": [],
      "source": [
        "feature = 'framing_type'\n",
        "\n",
        "fig  = plt.figure(figsize=(12, 9), dpi=100);\n",
        "axes1 = fig.add_subplot(411); axes2 = fig.add_subplot(412); axes3 = fig.add_subplot(413); axes4 = fig.add_subplot(414); \n",
        "sns.countplot(train_df[feature].fillna('NaN'), ax=axes1); sns.countplot(sample_df[feature].fillna('NaN'),  ax=axes2);\n",
        "bar_df1 = train_df[[feature,     \"logerror\"]].fillna('NaN').groupby([feature], as_index=False).mean()\n",
        "bar_df2 = train_df[[feature, \"abs_logerror\"]].fillna('NaN').groupby([feature], as_index=False).mean()\n",
        "sns.barplot(x=feature, y='logerror',     data=bar_df1, ax=axes3);\n",
        "sns.barplot(x=feature, y='abs_logerror', data=bar_df2, ax=axes4);\n",
        "fig.tight_layout()"
      ]
    },
    {
      "cell_type": "code",
      "execution_count": null,
      "metadata": {
        "_cell_guid": "a9528d3e-0ae0-e19e-9bb9-d379350bc561"
      },
      "outputs": [],
      "source": [
        "feature = 'building_quality'\n",
        "\n",
        "fig  = plt.figure(figsize=(12, 9), dpi=100);\n",
        "axes1 = fig.add_subplot(411); axes2 = fig.add_subplot(412); axes3 = fig.add_subplot(413); axes4 = fig.add_subplot(414); \n",
        "sns.countplot(train_df[feature].fillna('NaN'), ax=axes1); sns.countplot(sample_df[feature].fillna('NaN'),  ax=axes2);\n",
        "bar_df1 = train_df[[feature,     \"logerror\"]].fillna('NaN').groupby([feature], as_index=False).mean()\n",
        "bar_df2 = train_df[[feature, \"abs_logerror\"]].fillna('NaN').groupby([feature], as_index=False).mean()\n",
        "sns.barplot(x=feature, y='logerror',     data=bar_df1, ax=axes3);\n",
        "sns.barplot(x=feature, y='abs_logerror', data=bar_df2, ax=axes4);\n",
        "fig.tight_layout()"
      ]
    },
    {
      "cell_type": "code",
      "execution_count": null,
      "metadata": {
        "_cell_guid": "77c52784-b83f-b351-686e-8e2b0dd09cec"
      },
      "outputs": [],
      "source": [
        "feature = 'deck_type'\n",
        "\n",
        "fig  = plt.figure(figsize=(12, 9), dpi=100);\n",
        "axes1 = fig.add_subplot(411); axes2 = fig.add_subplot(412); axes3 = fig.add_subplot(413); axes4 = fig.add_subplot(414); \n",
        "sns.countplot(train_df[feature].fillna('NaN'), ax=axes1); sns.countplot(sample_df[feature].fillna('NaN'),  ax=axes2);\n",
        "bar_df1 = train_df[[feature,     \"logerror\"]].fillna('NaN').groupby([feature], as_index=False).mean()\n",
        "bar_df2 = train_df[[feature, \"abs_logerror\"]].fillna('NaN').groupby([feature], as_index=False).mean()\n",
        "sns.barplot(x=feature, y='logerror',     data=bar_df1, ax=axes3);\n",
        "sns.barplot(x=feature, y='abs_logerror', data=bar_df2, ax=axes4);\n",
        "fig.tight_layout()"
      ]
    },
    {
      "cell_type": "code",
      "execution_count": null,
      "metadata": {
        "_cell_guid": "a17fa1be-d95d-7996-6728-cd34c082b6bb"
      },
      "outputs": [],
      "source": [
        "feature = 'fips'\n",
        "\n",
        "fig  = plt.figure(figsize=(12, 9), dpi=100);\n",
        "axes1 = fig.add_subplot(411); axes2 = fig.add_subplot(412); axes3 = fig.add_subplot(413); axes4 = fig.add_subplot(414); \n",
        "sns.countplot(train_df[feature].fillna('NaN'), ax=axes1); sns.countplot(sample_df[feature].fillna('NaN'),  ax=axes2);\n",
        "bar_df1 = train_df[[feature,     \"logerror\"]].fillna('NaN').groupby([feature], as_index=False).mean()\n",
        "bar_df2 = train_df[[feature, \"abs_logerror\"]].fillna('NaN').groupby([feature], as_index=False).mean()\n",
        "sns.barplot(x=feature, y='logerror',     data=bar_df1, ax=axes3);\n",
        "sns.barplot(x=feature, y='abs_logerror', data=bar_df2, ax=axes4);\n",
        "fig.tight_layout()"
      ]
    },
    {
      "cell_type": "code",
      "execution_count": null,
      "metadata": {
        "_cell_guid": "933f19a8-0e6e-d0d3-86f6-96e6e64fe5df"
      },
      "outputs": [],
      "source": [
        "feature = 'num_fireplace'\n",
        "\n",
        "fig  = plt.figure(figsize=(12, 9), dpi=100);\n",
        "axes1 = fig.add_subplot(411); axes2 = fig.add_subplot(412); axes3 = fig.add_subplot(413); axes4 = fig.add_subplot(414); \n",
        "sns.countplot(train_df[feature].fillna('NaN'), ax=axes1); sns.countplot(sample_df[feature].fillna('NaN'),  ax=axes2);\n",
        "bar_df1 = train_df[[feature,     \"logerror\"]].fillna('NaN').groupby([feature], as_index=False).mean()\n",
        "bar_df2 = train_df[[feature, \"abs_logerror\"]].fillna('NaN').groupby([feature], as_index=False).mean()\n",
        "sns.barplot(x=feature, y='logerror',     data=bar_df1, ax=axes3);\n",
        "sns.barplot(x=feature, y='abs_logerror', data=bar_df2, ax=axes4);\n",
        "fig.tight_layout()"
      ]
    },
    {
      "cell_type": "code",
      "execution_count": null,
      "metadata": {
        "_cell_guid": "8b4dc0bc-6b32-f61a-2fc2-b602d6de05a9"
      },
      "outputs": [],
      "source": [
        "feature = 'num_fullbath'\n",
        "\n",
        "fig  = plt.figure(figsize=(12, 9), dpi=100);\n",
        "axes1 = fig.add_subplot(411); axes2 = fig.add_subplot(412); axes3 = fig.add_subplot(413); axes4 = fig.add_subplot(414); \n",
        "sns.countplot(train_df[feature].fillna('NaN'), ax=axes1); sns.countplot(sample_df[feature].fillna('NaN'),  ax=axes2);\n",
        "bar_df1 = train_df[[feature,     \"logerror\"]].fillna('NaN').groupby([feature], as_index=False).mean()\n",
        "bar_df2 = train_df[[feature, \"abs_logerror\"]].fillna('NaN').groupby([feature], as_index=False).mean()\n",
        "sns.barplot(x=feature, y='logerror',     data=bar_df1, ax=axes3);\n",
        "sns.barplot(x=feature, y='abs_logerror', data=bar_df2, ax=axes4);\n",
        "fig.tight_layout()"
      ]
    },
    {
      "cell_type": "code",
      "execution_count": null,
      "metadata": {
        "_cell_guid": "484ccac0-b26e-1230-a2f4-817de6c51c49"
      },
      "outputs": [],
      "source": [
        "feature = 'num_garagecar'\n",
        "\n",
        "fig  = plt.figure(figsize=(12, 9), dpi=100);\n",
        "axes1 = fig.add_subplot(411); axes2 = fig.add_subplot(412); axes3 = fig.add_subplot(413); axes4 = fig.add_subplot(414); \n",
        "sns.countplot(train_df[feature].fillna('NaN'), ax=axes1); sns.countplot(sample_df[feature].fillna('NaN'),  ax=axes2);\n",
        "bar_df1 = train_df[[feature,     \"logerror\"]].fillna('NaN').groupby([feature], as_index=False).mean()\n",
        "bar_df2 = train_df[[feature, \"abs_logerror\"]].fillna('NaN').groupby([feature], as_index=False).mean()\n",
        "sns.barplot(x=feature, y='logerror',     data=bar_df1, ax=axes3);\n",
        "sns.barplot(x=feature, y='abs_logerror', data=bar_df2, ax=axes4);\n",
        "fig.tight_layout()"
      ]
    },
    {
      "cell_type": "code",
      "execution_count": null,
      "metadata": {
        "_cell_guid": "bc242601-14aa-5ff1-31cd-2d0909c65773"
      },
      "outputs": [],
      "source": [
        "feature = 'hashottuborspa'\n",
        "\n",
        "fig  = plt.figure(figsize=(12, 9), dpi=100);\n",
        "axes1 = fig.add_subplot(411); axes2 = fig.add_subplot(412); axes3 = fig.add_subplot(413); axes4 = fig.add_subplot(414); \n",
        "sns.countplot(train_df[feature].fillna('NaN'), ax=axes1); sns.countplot(sample_df[feature].fillna('NaN'),  ax=axes2);\n",
        "bar_df1 = train_df[[feature,     \"logerror\"]].fillna('NaN').groupby([feature], as_index=False).mean()\n",
        "bar_df2 = train_df[[feature, \"abs_logerror\"]].fillna('NaN').groupby([feature], as_index=False).mean()\n",
        "sns.barplot(x=feature, y='logerror',     data=bar_df1, ax=axes3);\n",
        "sns.barplot(x=feature, y='abs_logerror', data=bar_df2, ax=axes4);\n",
        "fig.tight_layout()"
      ]
    },
    {
      "cell_type": "code",
      "execution_count": null,
      "metadata": {
        "_cell_guid": "8a54d428-74d3-e5b8-de95-90319975229b"
      },
      "outputs": [],
      "source": [
        "feature = 'heating_type'\n",
        "\n",
        "fig  = plt.figure(figsize=(12, 9), dpi=100);\n",
        "axes1 = fig.add_subplot(411); axes2 = fig.add_subplot(412); axes3 = fig.add_subplot(413); axes4 = fig.add_subplot(414); \n",
        "sns.countplot(train_df[feature].fillna('NaN'), ax=axes1); sns.countplot(sample_df[feature].fillna('NaN'),  ax=axes2);\n",
        "bar_df1 = train_df[[feature,     \"logerror\"]].fillna('NaN').groupby([feature], as_index=False).mean()\n",
        "bar_df2 = train_df[[feature, \"abs_logerror\"]].fillna('NaN').groupby([feature], as_index=False).mean()\n",
        "sns.barplot(x=feature, y='logerror',     data=bar_df1, ax=axes3);\n",
        "sns.barplot(x=feature, y='abs_logerror', data=bar_df2, ax=axes4);\n",
        "fig.tight_layout()"
      ]
    },
    {
      "cell_type": "code",
      "execution_count": null,
      "metadata": {
        "_cell_guid": "fec7903f-bebe-a3f7-7875-34ac6a038dc7"
      },
      "outputs": [],
      "source": [
        "feature = 'num_pool'\n",
        "\n",
        "fig  = plt.figure(figsize=(12, 9), dpi=100);\n",
        "axes1 = fig.add_subplot(411); axes2 = fig.add_subplot(412); axes3 = fig.add_subplot(413); axes4 = fig.add_subplot(414); \n",
        "sns.countplot(train_df[feature].fillna('NaN'), ax=axes1); sns.countplot(sample_df[feature].fillna('NaN'),  ax=axes2);\n",
        "bar_df1 = train_df[[feature,     \"logerror\"]].fillna('NaN').groupby([feature], as_index=False).mean()\n",
        "bar_df2 = train_df[[feature, \"abs_logerror\"]].fillna('NaN').groupby([feature], as_index=False).mean()\n",
        "sns.barplot(x=feature, y='logerror',     data=bar_df1, ax=axes3);\n",
        "sns.barplot(x=feature, y='abs_logerror', data=bar_df2, ax=axes4);\n",
        "fig.tight_layout()"
      ]
    },
    {
      "cell_type": "code",
      "execution_count": null,
      "metadata": {
        "_cell_guid": "12fd2ac3-b8df-91bb-4008-8d493b6a5492"
      },
      "outputs": [],
      "source": [
        "feature = 'pooltypeid10'\n",
        "\n",
        "fig  = plt.figure(figsize=(12, 9), dpi=100);\n",
        "axes1 = fig.add_subplot(411); axes2 = fig.add_subplot(412); axes3 = fig.add_subplot(413); axes4 = fig.add_subplot(414); \n",
        "sns.countplot(train_df[feature].fillna('NaN'), ax=axes1); sns.countplot(sample_df[feature].fillna('NaN'),  ax=axes2);\n",
        "bar_df1 = train_df[[feature,     \"logerror\"]].fillna('NaN').groupby([feature], as_index=False).mean()\n",
        "bar_df2 = train_df[[feature, \"abs_logerror\"]].fillna('NaN').groupby([feature], as_index=False).mean()\n",
        "sns.barplot(x=feature, y='logerror',     data=bar_df1, ax=axes3);\n",
        "sns.barplot(x=feature, y='abs_logerror', data=bar_df2, ax=axes4);\n",
        "fig.tight_layout()"
      ]
    },
    {
      "cell_type": "code",
      "execution_count": null,
      "metadata": {
        "_cell_guid": "dcffe787-e0ea-0488-9a59-1bccdcae5125"
      },
      "outputs": [],
      "source": [
        "feature = 'pooltypeid2'\n",
        "\n",
        "fig  = plt.figure(figsize=(12, 9), dpi=100);\n",
        "axes1 = fig.add_subplot(411); axes2 = fig.add_subplot(412); axes3 = fig.add_subplot(413); axes4 = fig.add_subplot(414); \n",
        "sns.countplot(train_df[feature].fillna('NaN'), ax=axes1); sns.countplot(sample_df[feature].fillna('NaN'),  ax=axes2);\n",
        "bar_df1 = train_df[[feature,     \"logerror\"]].fillna('NaN').groupby([feature], as_index=False).mean()\n",
        "bar_df2 = train_df[[feature, \"abs_logerror\"]].fillna('NaN').groupby([feature], as_index=False).mean()\n",
        "sns.barplot(x=feature, y='logerror',     data=bar_df1, ax=axes3);\n",
        "sns.barplot(x=feature, y='abs_logerror', data=bar_df2, ax=axes4);\n",
        "fig.tight_layout()"
      ]
    },
    {
      "cell_type": "code",
      "execution_count": null,
      "metadata": {
        "_cell_guid": "bff796ce-2813-43b1-66a1-97580e0543b2"
      },
      "outputs": [],
      "source": [
        "feature = 'pooltypeid7'\n",
        "\n",
        "fig  = plt.figure(figsize=(12, 9), dpi=100);\n",
        "axes1 = fig.add_subplot(411); axes2 = fig.add_subplot(412); axes3 = fig.add_subplot(413); axes4 = fig.add_subplot(414); \n",
        "sns.countplot(train_df[feature].fillna('NaN'), ax=axes1); sns.countplot(sample_df[feature].fillna('NaN'),  ax=axes2);\n",
        "bar_df1 = train_df[[feature,     \"logerror\"]].fillna('NaN').groupby([feature], as_index=False).mean()\n",
        "bar_df2 = train_df[[feature, \"abs_logerror\"]].fillna('NaN').groupby([feature], as_index=False).mean()\n",
        "sns.barplot(x=feature, y='logerror',     data=bar_df1, ax=axes3);\n",
        "sns.barplot(x=feature, y='abs_logerror', data=bar_df2, ax=axes4);\n",
        "fig.tight_layout()"
      ]
    },
    {
      "cell_type": "code",
      "execution_count": null,
      "metadata": {
        "_cell_guid": "a4466aa3-c592-797f-84f4-bc7b391f1af9"
      },
      "outputs": [],
      "source": [
        "print(len(train_df['region_city'].unique()))\n",
        "\n",
        "feature = 'region_city'\n",
        "\n",
        "fig  = plt.figure(figsize=(12, 9), dpi=100);\n",
        "axes1 = fig.add_subplot(411); axes2 = fig.add_subplot(412); axes3 = fig.add_subplot(413); axes4 = fig.add_subplot(414); \n",
        "sns.countplot(train_df[feature].fillna('NaN'), ax=axes1); sns.countplot(sample_df[feature].fillna('NaN'),  ax=axes2);\n",
        "bar_df1 = train_df[[feature,     \"logerror\"]].fillna('NaN').groupby([feature], as_index=False).mean()\n",
        "bar_df2 = train_df[[feature, \"abs_logerror\"]].fillna('NaN').groupby([feature], as_index=False).mean()\n",
        "sns.barplot(x=feature, y='logerror',     data=bar_df1, ax=axes3);\n",
        "sns.barplot(x=feature, y='abs_logerror', data=bar_df2, ax=axes4);\n",
        "fig.tight_layout()"
      ]
    },
    {
      "cell_type": "code",
      "execution_count": null,
      "metadata": {
        "_cell_guid": "4748c6be-adee-2bcb-3b1b-54ce8898c1b9"
      },
      "outputs": [],
      "source": [
        "print(len(train_df['region_county'].unique()))\n",
        "\n",
        "feature = 'region_county'\n",
        "\n",
        "fig  = plt.figure(figsize=(12, 9), dpi=100);\n",
        "axes1 = fig.add_subplot(411); axes2 = fig.add_subplot(412); axes3 = fig.add_subplot(413); axes4 = fig.add_subplot(414); \n",
        "sns.countplot(train_df[feature].fillna('NaN'), ax=axes1); sns.countplot(sample_df[feature].fillna('NaN'),  ax=axes2);\n",
        "bar_df1 = train_df[[feature,     \"logerror\"]].fillna('NaN').groupby([feature], as_index=False).mean()\n",
        "bar_df2 = train_df[[feature, \"abs_logerror\"]].fillna('NaN').groupby([feature], as_index=False).mean()\n",
        "sns.barplot(x=feature, y='logerror',     data=bar_df1, ax=axes3);\n",
        "sns.barplot(x=feature, y='abs_logerror', data=bar_df2, ax=axes4);\n",
        "fig.tight_layout()"
      ]
    },
    {
      "cell_type": "code",
      "execution_count": null,
      "metadata": {
        "_cell_guid": "2a6a6e35-a0e8-8c46-074e-2e82a3f5804a"
      },
      "outputs": [],
      "source": [
        "print(len(train_df['region_neighborhood'].unique()))\n",
        "\n",
        "feature = 'region_neighborhood'\n",
        "\n",
        "fig  = plt.figure(figsize=(12, 9), dpi=100);\n",
        "axes1 = fig.add_subplot(411); axes2 = fig.add_subplot(412); axes3 = fig.add_subplot(413); axes4 = fig.add_subplot(414); \n",
        "sns.countplot(train_df[feature].fillna('NaN'), ax=axes1); sns.countplot(sample_df[feature].fillna('NaN'),  ax=axes2);\n",
        "bar_df1 = train_df[[feature,     \"logerror\"]].fillna('NaN').groupby([feature], as_index=False).mean()\n",
        "bar_df2 = train_df[[feature, \"abs_logerror\"]].fillna('NaN').groupby([feature], as_index=False).mean()\n",
        "sns.barplot(x=feature, y='logerror',     data=bar_df1, ax=axes3);\n",
        "sns.barplot(x=feature, y='abs_logerror', data=bar_df2, ax=axes4);\n",
        "fig.tight_layout()"
      ]
    },
    {
      "cell_type": "code",
      "execution_count": null,
      "metadata": {
        "_cell_guid": "155045c3-31aa-d152-1071-78253da132c8"
      },
      "outputs": [],
      "source": [
        "print(len(train_df['region_zipcode'].unique()))\n",
        "\n",
        "feature = 'region_zipcode'\n",
        "\n",
        "fig  = plt.figure(figsize=(12, 9), dpi=100);\n",
        "axes1 = fig.add_subplot(411); axes2 = fig.add_subplot(412); axes3 = fig.add_subplot(413); axes4 = fig.add_subplot(414); \n",
        "sns.countplot(train_df[feature].fillna('NaN'), ax=axes1); sns.countplot(sample_df[feature].fillna('NaN'),  ax=axes2);\n",
        "bar_df1 = train_df[[feature,     \"logerror\"]].fillna('NaN').groupby([feature], as_index=False).mean()\n",
        "bar_df2 = train_df[[feature, \"abs_logerror\"]].fillna('NaN').groupby([feature], as_index=False).mean()\n",
        "sns.barplot(x=feature, y='logerror',     data=bar_df1, ax=axes3);\n",
        "sns.barplot(x=feature, y='abs_logerror', data=bar_df2, ax=axes4);\n",
        "fig.tight_layout()"
      ]
    },
    {
      "cell_type": "code",
      "execution_count": null,
      "metadata": {
        "_cell_guid": "85acb14a-f718-c33f-31eb-3ef65ca6beee"
      },
      "outputs": [],
      "source": [
        "feature = 'num_room'\n",
        "\n",
        "fig  = plt.figure(figsize=(12, 9), dpi=100);\n",
        "axes1 = fig.add_subplot(411); axes2 = fig.add_subplot(412); axes3 = fig.add_subplot(413); axes4 = fig.add_subplot(414); \n",
        "sns.countplot(train_df[feature].fillna('NaN'), ax=axes1); sns.countplot(sample_df[feature].fillna('NaN'),  ax=axes2);\n",
        "bar_df1 = train_df[[feature,     \"logerror\"]].fillna('NaN').groupby([feature], as_index=False).mean()\n",
        "bar_df2 = train_df[[feature, \"abs_logerror\"]].fillna('NaN').groupby([feature], as_index=False).mean()\n",
        "sns.barplot(x=feature, y='logerror',     data=bar_df1, ax=axes3);\n",
        "sns.barplot(x=feature, y='abs_logerror', data=bar_df2, ax=axes4);\n",
        "fig.tight_layout()"
      ]
    },
    {
      "cell_type": "code",
      "execution_count": null,
      "metadata": {
        "_cell_guid": "b63b1cad-7513-74df-1292-7d4bae098d1e"
      },
      "outputs": [],
      "source": [
        "feature = 'story_type'\n",
        "\n",
        "fig  = plt.figure(figsize=(12, 9), dpi=100);\n",
        "axes1 = fig.add_subplot(411); axes2 = fig.add_subplot(412); axes3 = fig.add_subplot(413); axes4 = fig.add_subplot(414); \n",
        "sns.countplot(train_df[feature].fillna('NaN'), ax=axes1); sns.countplot(sample_df[feature].fillna('NaN'),  ax=axes2);\n",
        "bar_df1 = train_df[[feature,     \"logerror\"]].fillna('NaN').groupby([feature], as_index=False).mean()\n",
        "bar_df2 = train_df[[feature, \"abs_logerror\"]].fillna('NaN').groupby([feature], as_index=False).mean()\n",
        "sns.barplot(x=feature, y='logerror',     data=bar_df1, ax=axes3);\n",
        "sns.barplot(x=feature, y='abs_logerror', data=bar_df2, ax=axes4);\n",
        "fig.tight_layout()"
      ]
    },
    {
      "cell_type": "code",
      "execution_count": null,
      "metadata": {
        "_cell_guid": "2d540f2a-7b44-05ac-d2dc-b011dda8ca00"
      },
      "outputs": [],
      "source": [
        "feature = 'num_34_bath'\n",
        "\n",
        "fig  = plt.figure(figsize=(12, 9), dpi=100);\n",
        "axes1 = fig.add_subplot(411); axes2 = fig.add_subplot(412); axes3 = fig.add_subplot(413); axes4 = fig.add_subplot(414); \n",
        "sns.countplot(train_df[feature].fillna('NaN'), ax=axes1); sns.countplot(sample_df[feature].fillna('NaN'),  ax=axes2);\n",
        "bar_df1 = train_df[[feature,     \"logerror\"]].fillna('NaN').groupby([feature], as_index=False).mean()\n",
        "bar_df2 = train_df[[feature, \"abs_logerror\"]].fillna('NaN').groupby([feature], as_index=False).mean()\n",
        "sns.barplot(x=feature, y='logerror',     data=bar_df1, ax=axes3);\n",
        "sns.barplot(x=feature, y='abs_logerror', data=bar_df2, ax=axes4);\n",
        "fig.tight_layout()"
      ]
    },
    {
      "cell_type": "code",
      "execution_count": null,
      "metadata": {
        "_cell_guid": "251df455-46cb-f061-d209-ae7db88c1cc3"
      },
      "outputs": [],
      "source": [
        "feature = 'material_type'\n",
        "\n",
        "fig  = plt.figure(figsize=(12, 9), dpi=100);\n",
        "axes1 = fig.add_subplot(411); axes2 = fig.add_subplot(412); axes3 = fig.add_subplot(413); axes4 = fig.add_subplot(414); \n",
        "sns.countplot(train_df[feature].fillna('NaN'), ax=axes1); sns.countplot(sample_df[feature].fillna('NaN'),  ax=axes2);\n",
        "bar_df1 = train_df[[feature,     \"logerror\"]].fillna('NaN').groupby([feature], as_index=False).mean()\n",
        "bar_df2 = train_df[[feature, \"abs_logerror\"]].fillna('NaN').groupby([feature], as_index=False).mean()\n",
        "sns.barplot(x=feature, y='logerror',     data=bar_df1, ax=axes3);\n",
        "sns.barplot(x=feature, y='abs_logerror', data=bar_df2, ax=axes4);\n",
        "fig.tight_layout()"
      ]
    },
    {
      "cell_type": "code",
      "execution_count": null,
      "metadata": {
        "_cell_guid": "8b237a78-55d4-7990-36d7-edefa60542a2"
      },
      "outputs": [],
      "source": [
        "feature = 'num_unit'\n",
        "\n",
        "fig  = plt.figure(figsize=(12, 9), dpi=100);\n",
        "axes1 = fig.add_subplot(411); axes2 = fig.add_subplot(412); axes3 = fig.add_subplot(413); axes4 = fig.add_subplot(414); \n",
        "sns.countplot(train_df[feature].fillna('NaN'), ax=axes1); sns.countplot(sample_df[feature].fillna('NaN'),  ax=axes2);\n",
        "bar_df1 = train_df[[feature,     \"logerror\"]].fillna('NaN').groupby([feature], as_index=False).mean()\n",
        "bar_df2 = train_df[[feature, \"abs_logerror\"]].fillna('NaN').groupby([feature], as_index=False).mean()\n",
        "sns.barplot(x=feature, y='logerror',     data=bar_df1, ax=axes3);\n",
        "sns.barplot(x=feature, y='abs_logerror', data=bar_df2, ax=axes4);\n",
        "fig.tight_layout()"
      ]
    },
    {
      "cell_type": "code",
      "execution_count": null,
      "metadata": {
        "_cell_guid": "a563df82-6557-3260-10a2-54fea0efeced"
      },
      "outputs": [],
      "source": [
        "feature = 'num_stories'\n",
        "\n",
        "fig  = plt.figure(figsize=(12, 9), dpi=100);\n",
        "axes1 = fig.add_subplot(411); axes2 = fig.add_subplot(412); axes3 = fig.add_subplot(413); axes4 = fig.add_subplot(414); \n",
        "sns.countplot(train_df[feature].fillna('NaN'), ax=axes1); sns.countplot(sample_df[feature].fillna('NaN'),  ax=axes2);\n",
        "bar_df1 = train_df[[feature,     \"logerror\"]].fillna('NaN').groupby([feature], as_index=False).mean()\n",
        "bar_df2 = train_df[[feature, \"abs_logerror\"]].fillna('NaN').groupby([feature], as_index=False).mean()\n",
        "sns.barplot(x=feature, y='logerror',     data=bar_df1, ax=axes3);\n",
        "sns.barplot(x=feature, y='abs_logerror', data=bar_df2, ax=axes4);\n",
        "fig.tight_layout()"
      ]
    },
    {
      "cell_type": "code",
      "execution_count": null,
      "metadata": {
        "_cell_guid": "17c902de-c03e-30ab-dd91-eb379c164996"
      },
      "outputs": [],
      "source": [
        "feature = 'flag_fireplace'\n",
        "\n",
        "fig  = plt.figure(figsize=(12, 9), dpi=100);\n",
        "axes1 = fig.add_subplot(411); axes2 = fig.add_subplot(412); axes3 = fig.add_subplot(413); axes4 = fig.add_subplot(414); \n",
        "sns.countplot(train_df[feature].fillna('NaN'), ax=axes1); sns.countplot(sample_df[feature].fillna('NaN'),  ax=axes2);\n",
        "bar_df1 = train_df[[feature,     \"logerror\"]].fillna('NaN').groupby([feature], as_index=False).mean()\n",
        "bar_df2 = train_df[[feature, \"abs_logerror\"]].fillna('NaN').groupby([feature], as_index=False).mean()\n",
        "sns.barplot(x=feature, y='logerror',     data=bar_df1, ax=axes3);\n",
        "sns.barplot(x=feature, y='abs_logerror', data=bar_df2, ax=axes4);\n",
        "fig.tight_layout()"
      ]
    },
    {
      "cell_type": "code",
      "execution_count": null,
      "metadata": {
        "_cell_guid": "64bf5c02-1eb8-2123-9a22-4ff80bffe1ca"
      },
      "outputs": [],
      "source": [
        "feature = 'tax_assessment_year'\n",
        "\n",
        "fig  = plt.figure(figsize=(12, 9), dpi=100);\n",
        "axes1 = fig.add_subplot(411); axes2 = fig.add_subplot(412); axes3 = fig.add_subplot(413); axes4 = fig.add_subplot(414); \n",
        "sns.countplot(train_df[feature].fillna('NaN'), ax=axes1); sns.countplot(sample_df[feature].fillna('NaN'),  ax=axes2);\n",
        "bar_df1 = train_df[[feature,     \"logerror\"]].fillna('NaN').groupby([feature], as_index=False).mean()\n",
        "bar_df2 = train_df[[feature, \"abs_logerror\"]].fillna('NaN').groupby([feature], as_index=False).mean()\n",
        "sns.barplot(x=feature, y='logerror',     data=bar_df1, ax=axes3);\n",
        "sns.barplot(x=feature, y='abs_logerror', data=bar_df2, ax=axes4);\n",
        "fig.tight_layout()"
      ]
    },
    {
      "cell_type": "code",
      "execution_count": null,
      "metadata": {
        "_cell_guid": "646d8d39-2ec0-1c17-f5ec-097fcff7a7cf"
      },
      "outputs": [],
      "source": [
        "feature = 'tax_delinquency_flag'\n",
        "\n",
        "fig  = plt.figure(figsize=(12, 9), dpi=100);\n",
        "axes1 = fig.add_subplot(411); axes2 = fig.add_subplot(412); axes3 = fig.add_subplot(413); axes4 = fig.add_subplot(414); \n",
        "sns.countplot(train_df[feature].fillna('NaN'), ax=axes1); sns.countplot(sample_df[feature].fillna('NaN'),  ax=axes2);\n",
        "bar_df1 = train_df[[feature,     \"logerror\"]].fillna('NaN').groupby([feature], as_index=False).mean()\n",
        "bar_df2 = train_df[[feature, \"abs_logerror\"]].fillna('NaN').groupby([feature], as_index=False).mean()\n",
        "sns.barplot(x=feature, y='logerror',     data=bar_df1, ax=axes3);\n",
        "sns.barplot(x=feature, y='abs_logerror', data=bar_df2, ax=axes4);\n",
        "fig.tight_layout()"
      ]
    },
    {
      "cell_type": "code",
      "execution_count": null,
      "metadata": {
        "_cell_guid": "ef2070fa-50b4-2c51-a094-5b3aa456516a"
      },
      "outputs": [],
      "source": [
        "feature = 'tax_delinquency_year'\n",
        "\n",
        "fig  = plt.figure(figsize=(12, 9), dpi=100);\n",
        "axes1 = fig.add_subplot(411); axes2 = fig.add_subplot(412); axes3 = fig.add_subplot(413); axes4 = fig.add_subplot(414); \n",
        "sns.countplot(train_df[feature].fillna('NaN'), ax=axes1); sns.countplot(sample_df[feature].fillna('NaN'),  ax=axes2);\n",
        "bar_df1 = train_df[[feature,     \"logerror\"]].fillna('NaN').groupby([feature], as_index=False).mean()\n",
        "bar_df2 = train_df[[feature, \"abs_logerror\"]].fillna('NaN').groupby([feature], as_index=False).mean()\n",
        "sns.barplot(x=feature, y='logerror',     data=bar_df1, ax=axes3);\n",
        "sns.barplot(x=feature, y='abs_logerror', data=bar_df2, ax=axes4);\n",
        "fig.tight_layout()"
      ]
    },
    {
      "cell_type": "code",
      "execution_count": null,
      "metadata": {
        "_cell_guid": "dcd77ab9-f4c4-1df5-dd35-3b2dcf9c9ab3"
      },
      "outputs": [],
      "source": [
        "feature = 'property_land_use_code'\n",
        "\n",
        "fig  = plt.figure(figsize=(12, 9), dpi=100);\n",
        "axes1 = fig.add_subplot(411); axes2 = fig.add_subplot(412); axes3 = fig.add_subplot(413); axes4 = fig.add_subplot(414); \n",
        "sns.countplot(train_df[feature].fillna('NaN'), ax=axes1); sns.countplot(sample_df[feature].fillna('NaN'),  ax=axes2);\n",
        "bar_df1 = train_df[[feature,     \"logerror\"]].fillna('NaN').groupby([feature], as_index=False).mean()\n",
        "bar_df2 = train_df[[feature, \"abs_logerror\"]].fillna('NaN').groupby([feature], as_index=False).mean()\n",
        "sns.barplot(x=feature, y='logerror',     data=bar_df1, ax=axes3);\n",
        "sns.barplot(x=feature, y='abs_logerror', data=bar_df2, ax=axes4);\n",
        "fig.tight_layout()"
      ]
    },
    {
      "cell_type": "code",
      "execution_count": null,
      "metadata": {
        "_cell_guid": "48d808aa-1127-449e-4f00-0b96468fc8c2"
      },
      "outputs": [],
      "source": [
        "feature = 'property_land_use_type'\n",
        "\n",
        "fig  = plt.figure(figsize=(12, 9), dpi=100);\n",
        "axes1 = fig.add_subplot(411); axes2 = fig.add_subplot(412); axes3 = fig.add_subplot(413); axes4 = fig.add_subplot(414); \n",
        "sns.countplot(train_df[feature].fillna('NaN'), ax=axes1); sns.countplot(sample_df[feature].fillna('NaN'),  ax=axes2);\n",
        "bar_df1 = train_df[[feature,     \"logerror\"]].fillna('NaN').groupby([feature], as_index=False).mean()\n",
        "bar_df2 = train_df[[feature, \"abs_logerror\"]].fillna('NaN').groupby([feature], as_index=False).mean()\n",
        "sns.barplot(x=feature, y='logerror',     data=bar_df1, ax=axes3);\n",
        "sns.barplot(x=feature, y='abs_logerror', data=bar_df2, ax=axes4);\n",
        "fig.tight_layout()"
      ]
    },
    {
      "cell_type": "code",
      "execution_count": null,
      "metadata": {
        "_cell_guid": "0e1c3fcc-133f-fe44-8dd5-abd01b4d9e52"
      },
      "outputs": [],
      "source": [
        "feature = 'property_zoning_desc'\n",
        "\n",
        "fig  = plt.figure(figsize=(12, 9), dpi=100);\n",
        "axes1 = fig.add_subplot(411); axes2 = fig.add_subplot(412); axes3 = fig.add_subplot(413); axes4 = fig.add_subplot(414); \n",
        "sns.countplot(train_df[feature].fillna('NaN'), ax=axes1); sns.countplot(sample_df[feature].fillna('NaN'),  ax=axes2);\n",
        "bar_df1 = train_df[[feature,     \"logerror\"]].fillna('NaN').groupby([feature], as_index=False).mean()\n",
        "bar_df2 = train_df[[feature, \"abs_logerror\"]].fillna('NaN').groupby([feature], as_index=False).mean()\n",
        "sns.barplot(x=feature, y='logerror',     data=bar_df1, ax=axes3);\n",
        "sns.barplot(x=feature, y='abs_logerror', data=bar_df2, ax=axes4);\n",
        "fig.tight_layout()"
      ]
    },
    {
      "cell_type": "markdown",
      "metadata": {
        "_cell_guid": "dd940fef-fdb4-60ad-e8cd-29494fc83f91"
      },
      "source": [
        "To be continued..."
      ]
    },
    {
      "cell_type": "code",
      "execution_count": null,
      "metadata": {
        "_cell_guid": "4fec83ba-2425-78e1-a700-0ef76eaae3bb"
      },
      "outputs": [],
      "source": ""
    }
  ],
  "metadata": {
    "_change_revision": 0,
    "_is_fork": false,
    "kernelspec": {
      "display_name": "Python 3",
      "language": "python",
      "name": "python3"
    },
    "language_info": {
      "codemirror_mode": {
        "name": "ipython",
        "version": 3
      },
      "file_extension": ".py",
      "mimetype": "text/x-python",
      "name": "python",
      "nbconvert_exporter": "python",
      "pygments_lexer": "ipython3",
      "version": "3.6.0"
    }
  },
  "nbformat": 4,
  "nbformat_minor": 0
}