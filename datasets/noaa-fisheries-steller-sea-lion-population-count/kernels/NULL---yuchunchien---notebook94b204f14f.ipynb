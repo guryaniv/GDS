{
  "cells": [
    {
      "cell_type": "markdown",
      "metadata": {
        "_cell_guid": "6b11f8ba-7524-4e63-8104-8ca6dfc22caf"
      },
      "source": [
        "# import module"
      ]
    },
    {
      "cell_type": "code",
      "execution_count": null,
      "metadata": {
        "_cell_guid": "167ee82b-33d2-4a2a-9f12-e89feea6dd60"
      },
      "outputs": [],
      "source": [
        "import numpy as np\n",
        "import pandas as pd\n",
        "import os\n",
        "import cv2\n",
        "import matplotlib.pyplot as plt\n",
        "import skimage.feature\n",
        "from sklearn.model_selection import train_test_split\n",
        "from sklearn.preprocessing import LabelBinarizer\n",
        "%matplotlib inline\n",
        "\n",
        "#from subprocess import check_output\n",
        "#print(check_output([\"ls\", \"../input\"]).decode(\"utf8\"))"
      ]
    },
    {
      "cell_type": "markdown",
      "metadata": {
        "_cell_guid": "6363ae18-df7f-467a-2280-83431a4f775b"
      },
      "source": [
        "# read files"
      ]
    },
    {
      "cell_type": "code",
      "execution_count": null,
      "metadata": {
        "_cell_guid": "0c0fef34-f78e-a040-db5b-3263b2404fa1"
      },
      "outputs": [],
      "source": [
        "file_names = os.listdir(\"../input/Train/\")\n",
        "file_names = sorted(file_names, key=lambda \n",
        "                    item: (int(item.partition('.')[0]) if item[0].isdigit() else float('inf'), item))\n",
        "\n",
        "# select a subset of files to run on\n",
        "file_names = file_names[0:1]"
      ]
    },
    {
      "cell_type": "markdown",
      "metadata": {
        "_cell_guid": "5474b1fb-7978-0bb7-1d18-2b3cf02929d2"
      },
      "source": [
        "# generate sub_image_template"
      ]
    },
    {
      "cell_type": "code",
      "execution_count": null,
      "metadata": {
        "_cell_guid": "305ab5e8-45f5-61b3-d7e6-fd1447da0714"
      },
      "outputs": [],
      "source": [
        "Sub_Im_Size = (416,416)\n",
        "\n",
        "image_tmp = cv2.imread(\"../input/TrainDotted/\" + file_names[0])\n",
        "image_tmp = image_tmp[:Sub_Im_Size[1],:Sub_Im_Size[0],:]\n",
        "image_tmp = cv2.absdiff(image_tmp,image_tmp)\n",
        "\n",
        "plt.imshow(cv2.cvtColor(image_tmp, cv2.COLOR_BGR2RGB))\n",
        "cv2.imwrite('sub_im_template.png',image_tmp)"
      ]
    },
    {
      "cell_type": "markdown",
      "metadata": {
        "_cell_guid": "7711d9bf-2714-c383-7b8c-1998853634e0"
      },
      "source": [
        "# parse image"
      ]
    },
    {
      "cell_type": "code",
      "execution_count": null,
      "metadata": {
        "_cell_guid": "9527cd1c-227f-5076-acfa-52936aebf58e"
      },
      "outputs": [],
      "source": [
        "def get_blobs(filename):\n",
        "    # read the Train and Train Dotted images\n",
        "    image_1 = cv2.imread(\"../input/TrainDotted/\" + filename)\n",
        "    image_2 = cv2.imread(\"../input/Train/\" + filename)\n",
        "    \n",
        "    # absolute difference between Train and Train Dotted\n",
        "    image_3 = cv2.absdiff(image_1,image_2)\n",
        "    \n",
        "    # mask out blackened regions from Train Dotted\n",
        "    mask_1 = cv2.cvtColor(image_1, cv2.COLOR_BGR2GRAY)\n",
        "    mask_1[mask_1 < 20] = 0\n",
        "    mask_1[mask_1 > 0] = 255\n",
        "    \n",
        "    mask_2 = cv2.cvtColor(image_2, cv2.COLOR_BGR2GRAY)\n",
        "    mask_2[mask_2 < 20] = 0\n",
        "    mask_2[mask_2 > 0] = 255\n",
        "    \n",
        "    image_3 = cv2.bitwise_or(image_3, image_3, mask=mask_1)\n",
        "    image_3 = cv2.bitwise_or(image_3, image_3, mask=mask_2) \n",
        "    \n",
        "    # convert to grayscale to be accepted by skimage.feature.blob_log\n",
        "    image_3 = cv2.cvtColor(image_3, cv2.COLOR_BGR2GRAY)\n",
        "    \n",
        "    # detect blobs\n",
        "    blobs = skimage.feature.blob_log(image_3, min_sigma=3, max_sigma=4, num_sigma=1, threshold=0.02)\n",
        "    \n",
        "    return blobs"
      ]
    },
    {
      "cell_type": "code",
      "execution_count": null,
      "metadata": {
        "_cell_guid": "50809d5e-86e4-520a-ed27-3da1ae8f3051"
      },
      "outputs": [],
      "source": [
        "def get_xy_range_basic(size):\n",
        "    ### x_left, x_right, y_up, y_down\n",
        "    return (size,size,size,size)"
      ]
    },
    {
      "cell_type": "code",
      "execution_count": null,
      "metadata": {
        "_cell_guid": "b81c2a14-5e5b-484c-e914-18964f1d4155"
      },
      "outputs": [],
      "source": [
        "def parse_image(filename):\n",
        "    ### get original image\n",
        "    ori_image = cv2.imread(\"../input/Train/\" + filename)\n",
        "    \n",
        "    ### get coordinate of all sea lions\n",
        "    Dict_range = {}\n",
        "    blobs = get_blobs(filename)\n",
        "    \n",
        "    for blob in blobs:\n",
        "        # get the coordinates for each blob\n",
        "        y, x, s = blob\n",
        "        \n",
        "        xy_range = get_xy_range_basic(size=16)\n",
        "        Dict_range[(x,y)] = xy_range\n",
        "    \n",
        "    ### output sub_image and annotation file for each blob\n",
        "    for key in Dict_range.keys():\n",
        "        if(key in Dict_range):\n",
        "            # get x, y, xy_range in original image\n",
        "            main_x = key[0]\n",
        "            main_y = key[1]\n",
        "            xy_range = Dict_range[key]\n",
        "            \n",
        "            ### get basic sub_image\n",
        "            sub_image = cv2.imread('sub_im_template.png')            \n",
        "            sub_x_center = sub_image.shape[1]/2\n",
        "            sub_y_center = sub_image.shape[0]/2\n",
        "            sub_image[sub_y_center-xy_range[2]:sub_y_center+xy_range[3], sub_x_center-xy_range[0]:sub_x_center+xy_range[1], :] = ori_image[main_y-xy_range[2]:main_y+xy_range[3], main_x-xy_range[0]:main_x+xy_range[1], :]\n",
        "            del Dict_range[key]\n",
        "            \n",
        "            ### include other sea lion\n",
        "            x_min = main_x - sub_image.shape[1]/2 + 1\n",
        "            x_max = main_x + sub_image.shape[1]/2 - 1\n",
        "            y_min = main_y - sub_image.shape[0]/2 + 1\n",
        "            y_max = main_y + sub_image.shape[0]/2 - 1\n",
        "            \n",
        "            for ex_key in Dict_range.keys():\n",
        "                if(ex_key[0] > x_min and ex_key[0] < x_max and ex_key[1] > y_min and ex_key[1] < y_max):\n",
        "                    ### coordinate of ex_sea_lion in origin image\n",
        "                    ex_range = Dict_range[ex_key]\n",
        "                    ex_left  = ex_key[0] - ex_range[0]\n",
        "                    ex_right = ex_key[0] + ex_range[1]\n",
        "                    ex_up    = ex_key[1] - ex_range[2]\n",
        "                    ex_down  = ex_key[1] + ex_range[3]\n",
        "                    if(ex_left > x_min and ex_right < x_max and ex_up > y_min and ex_down < y_max):\n",
        "                        ### sub_image's coordinate where ex_sea_lion put  \n",
        "                        in_up    = sub_y_center - main_y + ex_key[1] - ex_range[2]\n",
        "                        in_down  = sub_y_center - main_y + ex_key[1] + ex_range[3]\n",
        "                        in_left  = sub_x_center - main_x + ex_key[0] - ex_range[0]\n",
        "                        in_right = sub_x_center - main_x + ex_key[0] + ex_range[1]\n",
        "                        sub_image[ in_up:in_down, in_left:in_right, :] = ori_image[ex_up:ex_down, ex_left:ex_right, :]\n",
        "            \n",
        "            plt.imshow(cv2.cvtColor(sub_image, cv2.COLOR_BGR2RGB))\n",
        "            break\n",
        "                        #cv2.imwrite('sub_im_template.png',image_tmp)\n",
        "            "
      ]
    },
    {
      "cell_type": "code",
      "execution_count": null,
      "metadata": {
        "_cell_guid": "db3b09d4-2165-05e2-8155-0a202e28eb2f"
      },
      "outputs": [],
      "source": [
        "parse_image(file_names[0])"
      ]
    }
  ],
  "metadata": {
    "_change_revision": 0,
    "_is_fork": false,
    "kernelspec": {
      "display_name": "Python 3",
      "language": "python",
      "name": "python3"
    },
    "language_info": {
      "codemirror_mode": {
        "name": "ipython",
        "version": 3
      },
      "file_extension": ".py",
      "mimetype": "text/x-python",
      "name": "python",
      "nbconvert_exporter": "python",
      "pygments_lexer": "ipython3",
      "version": "3.6.0"
    }
  },
  "nbformat": 4,
  "nbformat_minor": 0
}