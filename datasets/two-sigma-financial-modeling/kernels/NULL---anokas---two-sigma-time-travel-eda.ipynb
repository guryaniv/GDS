{
  "cells": [
    {
      "cell_type": "markdown",
      "metadata": {
        "_cell_guid": "12e83245-0418-da0a-64f4-839a062a2322"
      },
      "source": [
        "## Getting insights from the Timestamp variable\n",
        "\n",
        "Here's an in-depth analysis of the Timestamp variable in this first-of-its-kind code competition.\n",
        "The first few code cells are just general EDA, as that's what this used to be before I decided to go more in-depth into the time aspect :)\n",
        "\n",
        "Any feedback or upvotes are very much appreciated!"
      ]
    },
    {
      "cell_type": "code",
      "execution_count": null,
      "metadata": {
        "_cell_guid": "984972a8-c48c-91ec-9f1d-b5062fe3c318"
      },
      "outputs": [],
      "source": [
        "import numpy as np # linear algebra\n",
        "import pandas as pd # data processing, CSV file I/O (e.g. pd.read_csv)\n",
        "import matplotlib.pyplot as plt\n",
        "import seaborn as sns\n",
        "%matplotlib inline\n",
        "p = sns.color_palette()"
      ]
    },
    {
      "cell_type": "code",
      "execution_count": null,
      "metadata": {
        "_cell_guid": "365ce5c8-c677-8310-1682-6aab2cf0e00d"
      },
      "outputs": [],
      "source": [
        "with pd.HDFStore(\"../input/train.h5\", \"r\") as train:\n",
        "    df = train.get(\"train\")"
      ]
    },
    {
      "cell_type": "code",
      "execution_count": null,
      "metadata": {
        "_cell_guid": "b231a02a-aa43-21f1-f2cf-2602fab94f11"
      },
      "outputs": [],
      "source": [
        "print('Number of rows: {}, Number of columns: {}'.format(*df.shape))"
      ]
    },
    {
      "cell_type": "code",
      "execution_count": null,
      "metadata": {
        "_cell_guid": "5f68c0e7-6094-920c-0493-4bd3a6b7c0a1"
      },
      "outputs": [],
      "source": [
        "cols = [0, 0, 0]\n",
        "for c in df.columns:\n",
        "    if 'derived' in c: cols[0] += 1\n",
        "    if 'fundamental' in c: cols[1] += 1\n",
        "    if 'technical' in c: cols[2] += 1\n",
        "print('Derived columns: {}, Fundamental columns: {}, Technical columns: {}'.format(*cols))\n",
        "print('\\nColumn dtypes:')\n",
        "print(df.dtypes.value_counts())\n",
        "print('\\nint16 columns:')\n",
        "print(df.columns[df.dtypes == 'int16'])"
      ]
    },
    {
      "cell_type": "markdown",
      "metadata": {
        "_cell_guid": "4956b066-3c09-8b42-b52c-c80dbff18da1"
      },
      "source": [
        "Here we can see that we have 111 columns, of which the only ones with integer values are the IDs and the timestamp. The other features are split into three categories, which we will look at in more detail later. Let's look at the target value first.\n",
        "\n",
        "##Target"
      ]
    },
    {
      "cell_type": "code",
      "execution_count": null,
      "metadata": {
        "_cell_guid": "61d0b28e-91d4-6088-5260-d6e1f5e72f96"
      },
      "outputs": [],
      "source": [
        "y = df['y'].values\n",
        "plt.hist(y, bins=50, color=p[1])\n",
        "plt.xlabel('Target Value')\n",
        "plt.ylabel('Count')\n",
        "plt.title('Distribution of target value')\n",
        "print('Target value min {0:.3f} max {1:.3f} mean {2:.3f} std {3:.3f}'.format(np.min(y), np.max(y), np.mean(y), np.std(y)))"
      ]
    },
    {
      "cell_type": "markdown",
      "metadata": {
        "_cell_guid": "6e8c4812-8a3c-685e-ea52-28e9a128a1c0"
      },
      "source": [
        "So we have what looks like a target value which is normally distributed around a mean of (exactly) 0 with a standard deviation of .022. Interestingly, there is a small peak at the start and end of the distribution."
      ]
    },
    {
      "cell_type": "code",
      "execution_count": null,
      "metadata": {
        "_cell_guid": "611534f6-33bc-0957-4457-b6cbe19401e4"
      },
      "outputs": [],
      "source": [
        "print('Number of unique target values: {}'.format(len(set(y))))"
      ]
    },
    {
      "cell_type": "markdown",
      "metadata": {
        "_cell_guid": "f7662e39-77a7-1390-f501-d637805aecf6"
      },
      "source": [
        "Looks like almost all of the target values that we see here are unique to only that row. It doesn't look like any binning has occured here - I was half expecting the peaks at the start and end of the distribution to be a single value, a number which signified \"out of bounds\".\n",
        "\n",
        "## Timestamp"
      ]
    },
    {
      "cell_type": "code",
      "execution_count": null,
      "metadata": {
        "_cell_guid": "e7f5d4b6-d293-c9a7-318c-04122bec76ff"
      },
      "outputs": [],
      "source": [
        "timestamp = df.timestamp.values\n",
        "for bins in [100, 250]:\n",
        "    plt.figure(figsize=(15, 5))\n",
        "    plt.hist(timestamp, bins=bins)\n",
        "    plt.xlabel('Timestamp')\n",
        "    plt.ylabel('Count')\n",
        "    plt.title('Histogram of Timestamp - {} bins'.format(bins))"
      ]
    },
    {
      "cell_type": "markdown",
      "metadata": {
        "_cell_guid": "75f84ab2-ebd5-8be1-a22f-08f494edebe6"
      },
      "source": [
        "Now this is _very_ interesting. There appears to be quite a complex structure to the timestamp variable over time. Maybe we can unravel something from it, and maybe figure out what the real-life time period is."
      ]
    },
    {
      "cell_type": "code",
      "execution_count": null,
      "metadata": {
        "_cell_guid": "181af87a-393b-6d5c-95ee-e7e4b6182455"
      },
      "outputs": [],
      "source": [
        "time_mini = df.timestamp.loc[df.timestamp < 500].values\n",
        "for bins in [100, 250]:\n",
        "    plt.figure(figsize=(15, 5))\n",
        "    plt.hist(time_mini, bins=bins, color=p[4])\n",
        "    plt.xlabel('Timestamp')\n",
        "    plt.ylabel('Count')\n",
        "    plt.title('Histogram of Zoomed-in Timestamp - {} bins'.format(bins))"
      ]
    },
    {
      "cell_type": "markdown",
      "metadata": {
        "_cell_guid": "8f605063-b414-d6fc-74ec-b0649943a061"
      },
      "source": [
        "I can see here that the count of timestamp tends to decrease slightly for about 100 'timestamps', and then jumps up afterwards. My hypothesis is that this jump could signify the start of the next day or similar. Let's try to look at these jumps in more detail."
      ]
    },
    {
      "cell_type": "code",
      "execution_count": null,
      "metadata": {
        "_cell_guid": "d1a61abe-50c0-31ba-212a-3aad48df9d1f"
      },
      "outputs": [],
      "source": [
        "timediff = df.groupby('timestamp')['timestamp'].count().diff()\n",
        "plt.figure(figsize=(12, 5))\n",
        "plt.plot(timediff)\n",
        "plt.xlabel('Timestamp')\n",
        "plt.ylabel('Change in count since last timestamp')\n",
        "plt.title('1st discrete difference of timestamp count')"
      ]
    },
    {
      "cell_type": "markdown",
      "metadata": {
        "_cell_guid": "5b9d8a8a-0479-91e7-520c-bf819cd056a2"
      },
      "source": [
        "Okay, there's definitely some structure here. Let's measure the distance between the peaks, defining a peak as a point where the count increases by more than 10.\n"
      ]
    },
    {
      "cell_type": "code",
      "execution_count": null,
      "metadata": {
        "_cell_guid": "352fc507-e1ee-1618-8cc6-de4fb309944d"
      },
      "outputs": [],
      "source": [
        "pd.Series(timediff[timediff > 10].index).diff()"
      ]
    },
    {
      "cell_type": "markdown",
      "metadata": {
        "_cell_guid": "e5b36891-c53a-009d-3d1a-97891e14c14d"
      },
      "source": [
        "This basically confirms that the timestamp has a time period of 100. We can see that almost all the peaks are 100 timestamps apart, with two of them being 200 timestamps apart, and two of them being 50 timestamps apart. Looking at the graph above, we can also see that in the two cases where the period is 200, there is actually a peak 100 timestamps in which is smaller than 100."
      ]
    },
    {
      "cell_type": "code",
      "execution_count": null,
      "metadata": {
        "_cell_guid": "227fe4f5-7448-db86-0715-157a91542095"
      },
      "outputs": [],
      "source": [
        "print(timediff[timediff > 10].index[0])"
      ]
    },
    {
      "cell_type": "markdown",
      "metadata": {
        "_cell_guid": "52a44995-7696-5792-f25a-86630c957cf0"
      },
      "source": [
        "We can approximate where the peaks will be with a function `100x + 70` (there is a gap of 100 between each peak, with an offset of 70.)\n",
        "\n",
        "This information could be used to quite accurately predict what the count of the timestamp will be in the future.\n",
        "\n",
        "## Change in the target value over time"
      ]
    },
    {
      "cell_type": "code",
      "execution_count": null,
      "metadata": {
        "_cell_guid": "4f6fd63f-565d-f541-0f9f-1e16e7c3bbfb"
      },
      "outputs": [],
      "source": [
        "time_targets = df.groupby('timestamp')['y'].mean()\n",
        "plt.figure(figsize=(12, 5))\n",
        "plt.plot(time_targets)\n",
        "plt.xlabel('Timestamp')\n",
        "plt.ylabel('Mean of target')\n",
        "plt.title('Change in target over time - Red lines = new timeperiod')\n",
        "for i in timediff[timediff > 5].index:\n",
        "    plt.axvline(x=i, linewidth=0.25, color='red')"
      ]
    },
    {
      "cell_type": "markdown",
      "metadata": {
        "_cell_guid": "8632adbc-b563-0ce3-7d66-c902609e2ae2"
      },
      "source": [
        "There doesn't seem to be _too_ much of a pattern to the target value, except for those two, very apparent, peaks in variability. It looks like the time series aspect will be very important.\n",
        "\n",
        "It also appears to me that the start of a new time period very often coincides with (at least a small) peak in the data. Anyone else see this, or am I mentally overfitting? :)"
      ]
    },
    {
      "cell_type": "code",
      "execution_count": null,
      "metadata": {
        "_cell_guid": "409f79da-2a6a-1d3c-ead0-4592fe1eb58e"
      },
      "outputs": [],
      "source": [
        "for i in [500, 100]:\n",
        "    time_targets = df.groupby('timestamp')['y'].mean()[:i]\n",
        "    plt.figure(figsize=(12, 5))\n",
        "    plt.plot(time_targets, color=p[0], marker='^', markersize=3, mfc='red')\n",
        "    plt.xlabel('Timestamp')\n",
        "    plt.ylabel('Mean of target')\n",
        "    plt.title('Change in target over time - First {} timestamps'.format(i))\n",
        "    for i in timediff[:i][timediff > 5].index:\n",
        "        plt.axvline(x=i, linewidth=0.25, color='red')"
      ]
    },
    {
      "cell_type": "markdown",
      "metadata": {
        "_cell_guid": "e62c18dc-da43-778e-30f1-0b030ca36743"
      },
      "source": [
        "Don't see very much pattern on a very zoomed in scale, it seems pretty random to me. Maybe looking at it on such a small scale isn't the right approach ;)\n",
        "\n",
        "I can't do any more analysis right now as the kernels are being ridiculously unreliable - losing connection every minute or two - and I lose my work every time :'("
      ]
    }
  ],
  "metadata": {
    "_change_revision": 0,
    "_is_fork": false,
    "kernelspec": {
      "display_name": "Python 3",
      "language": "python",
      "name": "python3"
    },
    "language_info": {
      "codemirror_mode": {
        "name": "ipython",
        "version": 3
      },
      "file_extension": ".py",
      "mimetype": "text/x-python",
      "name": "python",
      "nbconvert_exporter": "python",
      "pygments_lexer": "ipython3",
      "version": "3.5.2"
    }
  },
  "nbformat": 4,
  "nbformat_minor": 0
}