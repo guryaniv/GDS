{
  "metadata": {
    "kernelspec": {
      "display_name": "Python 3",
      "language": "python",
      "name": "python3"
    },
    "language_info": {
      "codemirror_mode": {
        "name": "ipython",
        "version": 3
      },
      "file_extension": ".py",
      "mimetype": "text/x-python",
      "name": "python",
      "nbconvert_exporter": "python",
      "pygments_lexer": "ipython3",
      "version": "3.5.2"
    }
  },
  "nbformat": 4,
  "nbformat_minor": 0,
  "cells": [
    {
      "metadata": {
        "_cell_guid": "ac185107-f32a-9cee-4ed0-b9d58a3299b3",
        "_active": false,
        "collapsed": false
      },
      "source": null,
      "execution_count": null,
      "cell_type": "markdown",
      "outputs": [],
      "execution_state": "idle"
    },
    {
      "metadata": {
        "_cell_guid": "219b8fa1-8b21-6bfa-d313-d682ed5a5751",
        "_active": false,
        "collapsed": false
      },
      "source": "import tensorflow as tf\nimport pandas as pd\nimport numpy as np\n\ntrain_df = pd.read_csv(\"../input/train.csv\")\ntrain_df.head()\nunique_contents = list(enumerate(np.unique(train_df['species'])))\nspecies_dict = {name: i for i,name in unique_contents}\ntrain_df['species'] = train_df['species'].map(lambda x: species_dict[x])\ntrain_df.head()",
      "execution_count": null,
      "cell_type": "code",
      "outputs": [],
      "execution_state": "idle"
    },
    {
      "metadata": {
        "_cell_guid": "d2142c81-5b28-5066-cca3-c3e268187bbf",
        "_active": true,
        "collapsed": false
      },
      "source": null,
      "execution_count": null,
      "cell_type": "code",
      "outputs": [],
      "execution_state": "idle"
    }
  ]
}