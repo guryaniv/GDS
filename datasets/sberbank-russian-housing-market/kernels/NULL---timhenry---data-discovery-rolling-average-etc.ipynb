{
  "cells": [
    {
      "cell_type": "code",
      "execution_count": null,
      "metadata": {
        "_cell_guid": "edc27297-e1cd-9503-05da-2505454c145e"
      },
      "outputs": [],
      "source": [
        "# This Python 3 environment comes with many helpful analytics libraries installed\n",
        "# It is defined by the kaggle/python docker image: https://github.com/kaggle/docker-python\n",
        "# For example, here's several helpful packages to load in \n",
        "\n",
        "import numpy as np # linear algebra\n",
        "import pandas as pd # data processing, CSV file I/O (e.g. pd.read_csv)\n",
        "import matplotlib.pyplot as plt\n",
        "\n",
        "# Input data files are available in the \"../input/\" directory.\n",
        "# For example, running this (by clicking run or pressing Shift+Enter) will list the files in the input directory\n",
        "\n",
        "from subprocess import check_output\n",
        "print(check_output([\"ls\", \"../input\"]).decode(\"utf8\"))\n",
        "\n",
        "# Any results you write to the current directory are saved as output."
      ]
    },
    {
      "cell_type": "code",
      "execution_count": null,
      "metadata": {
        "_cell_guid": "501fca61-0d0b-9a65-ac28-8b47e9c20783"
      },
      "outputs": [],
      "source": [
        "import matplotlib.pyplot as plt\n",
        "import seaborn as sns\n",
        "import timeit\n",
        "import math\n",
        "\n",
        "# vectorized error calc\n",
        "def rmsle(y, y0):\n",
        "    assert len(y) == len(y0)\n",
        "    return np.sqrt(np.mean(np.power(np.log1p(y)-np.log1p(y0), 2)))"
      ]
    },
    {
      "cell_type": "code",
      "execution_count": null,
      "metadata": {
        "_cell_guid": "076edb41-1327-cce7-ad54-4a74a70edc7a"
      },
      "outputs": [],
      "source": [
        "train_df = pd.read_csv(\"../input/train.csv\")\n",
        "test_df = pd.read_csv(\"../input/test.csv\")\n",
        "print(train_df.shape)\n",
        "print(test_df.shape)"
      ]
    },
    {
      "cell_type": "code",
      "execution_count": null,
      "metadata": {
        "_cell_guid": "6b63f03f-c3e4-e6c7-dae8-86ef6de21b45"
      },
      "outputs": [],
      "source": [
        "print(train_df['timestamp'].min())\n",
        "print(train_df['timestamp'].max())\n",
        "print(test_df['timestamp'].min())\n",
        "print(test_df['timestamp'].max())"
      ]
    },
    {
      "cell_type": "code",
      "execution_count": null,
      "metadata": {
        "_cell_guid": "63c544f3-64c9-4872-3981-d552b0e46066"
      },
      "outputs": [],
      "source": [
        "train_df = train_df.sort_values(by='timestamp')\n",
        "\n",
        "# split train / test\n",
        "train = train_df[train_df['timestamp']< \"2014-08-01\"]\n",
        "test  = train_df[train_df['timestamp']>= \"2014-08-01\"]"
      ]
    },
    {
      "cell_type": "code",
      "execution_count": null,
      "metadata": {
        "_cell_guid": "4569fc06-b131-e451-44fd-17996dcaff02"
      },
      "outputs": [],
      "source": [
        "print(train.shape)\n",
        "print(test.shape)"
      ]
    },
    {
      "cell_type": "markdown",
      "metadata": {
        "_cell_guid": "ce3efb64-d837-5b4c-f022-6909f4adf898"
      },
      "source": [
        "**Plotting prices**"
      ]
    },
    {
      "cell_type": "code",
      "execution_count": null,
      "metadata": {
        "_cell_guid": "2f0b4f22-6554-e461-44cf-f63cba191bee"
      },
      "outputs": [],
      "source": [
        "plt.scatter(train_df['id'], train_df['price_doc'], alpha=0.5, cmap='viridis')\n",
        "\n",
        "plt.title('Price per transaction, in chronological order')\n",
        "plt.xlabel('id')\n",
        "plt.ylabel('price')\n",
        "\n",
        "plt.ylim(0, 20000000)\n",
        "plt.show()"
      ]
    },
    {
      "cell_type": "code",
      "execution_count": null,
      "metadata": {
        "_cell_guid": "6b0ff841-86f8-3c89-2493-b5b7f09a002d"
      },
      "outputs": [],
      "source": [
        "train_df.head(1)"
      ]
    },
    {
      "cell_type": "code",
      "execution_count": null,
      "metadata": {
        "_cell_guid": "14d15803-caab-d12b-ad17-07237af92fb7"
      },
      "outputs": [],
      "source": [
        "# macro economics data\n",
        "macro_df = pd.read_csv(\"../input/macro.csv\")\n",
        "macro_df.head(1)"
      ]
    },
    {
      "cell_type": "code",
      "execution_count": null,
      "metadata": {
        "_cell_guid": "c7e050ac-8098-97c5-577e-4e1e5edf9eb9"
      },
      "outputs": [],
      "source": [
        "# moving average\n",
        "\n",
        "# adding macro economic data\n",
        "train_df = pd.merge(train_df, macro_df, how='left', on=['timestamp'])\n",
        "\n",
        "# first let's average per day\n",
        "gb = train_df.groupby(['timestamp'])\n",
        "gb.sum().head()\n",
        "dfagg = pd.DataFrame()\n",
        "\n",
        "dfagg['avg_price_per_sqm'] = gb.price_doc.sum() / gb.full_sq.sum()\n",
        "dfagg['rolling_average_immo'] = dfagg['avg_price_per_sqm'].rolling(30).mean()\n",
        "\n",
        "dfagg['oil_avg_price'] = gb.oil_urals.mean()\n",
        "dfagg['rolling_average_oil'] = dfagg['oil_avg_price'].rolling(30).mean()\n",
        "\n",
        "dfagg['oil_avg_price_2'] = gb.brent.mean()\n",
        "dfagg['rolling_average_oil_2'] = dfagg['oil_avg_price_2'].rolling(30).mean()\n",
        "\n",
        "dfagg.reset_index(inplace=True)\n",
        "dfagg['date'] = pd.to_datetime(dfagg['timestamp'])\n",
        "\n",
        "plt.figure(figsize=(14,8))\n",
        "plt.plot(dfagg['date'], dfagg['rolling_average_immo'], label='avg price per square meter')\n",
        "plt.plot(dfagg['date'], 1200 * dfagg['rolling_average_oil'], label = 'oil_urals')\n",
        "plt.plot(dfagg['date'], 1200 * dfagg['rolling_average_oil_2'], label='brent')\n",
        "\n",
        "plt.title('Rolling average price per square meter')\n",
        "#plt.xlabel('days')\n",
        "plt.ylabel('average price per full_sqm')\n",
        "\n",
        "plt.legend(loc='lower right')\n",
        "\n",
        "plt.ylim(20000, 180000)\n",
        "plt.show()"
      ]
    },
    {
      "cell_type": "code",
      "execution_count": null,
      "metadata": {
        "_cell_guid": "ebb9004f-94fc-43ad-1f3a-1d4a7ae07f73"
      },
      "outputs": [],
      "source": [
        "# price depending on the distance to Kremlin\n",
        "train['kremlin_km_rounded'] = np.round(train['kremlin_km'])\n",
        "gb = train.groupby(['kremlin_km_rounded'])\n",
        "dfagg = pd.DataFrame()\n",
        "dfagg['avg_price_per_kremlin_km'] = gb.price_doc.mean()\n",
        "dfagg.reset_index(inplace=True)\n",
        "\n",
        "plt.figure(figsize=(14,8))\n",
        "plt.scatter(dfagg['kremlin_km_rounded'], dfagg['avg_price_per_kremlin_km'], label='avg price')\n",
        "plt.title('Rolling average price per square meter')\n",
        "plt.ylabel('distance to Kremlin')\n",
        "plt.legend(loc='lower right')\n",
        "plt.show()"
      ]
    },
    {
      "cell_type": "code",
      "execution_count": null,
      "metadata": {
        "_cell_guid": "beba56ae-6328-74e4-e89c-223f618c4e3f"
      },
      "outputs": [],
      "source": [
        "train['date'] = pd.to_datetime(train['timestamp'])\n",
        "x = train.groupby(['date']).count()\n",
        "x.reset_index(inplace=True)\n",
        "\n",
        "plt.figure(figsize=(14,8))\n",
        "plt.plot(x['date'], x['id'])\n",
        "plt.title('Number of transactions per day')\n",
        "plt.show()"
      ]
    },
    {
      "cell_type": "code",
      "execution_count": null,
      "metadata": {
        "_cell_guid": "90728499-cb87-bbdc-4ce7-fd71f3750415"
      },
      "outputs": [],
      "source": [
        "x = train.groupby(['date']).mean()\n",
        "x.reset_index(inplace=True)\n",
        "\n",
        "plt.figure(figsize=(14,8))\n",
        "plt.plot(x['date'], x['price_doc'])\n",
        "plt.title('Average price per day')\n",
        "plt.show()"
      ]
    },
    {
      "cell_type": "markdown",
      "metadata": {
        "_cell_guid": "64ec5af9-cb90-2407-3066-323819e3e838"
      },
      "source": [
        "**Basic mean prediction**"
      ]
    },
    {
      "cell_type": "code",
      "execution_count": null,
      "metadata": {
        "_cell_guid": "1bf00882-a129-cbbf-be86-30e51224b178"
      },
      "outputs": [],
      "source": [
        "train.price_doc.mean()"
      ]
    },
    {
      "cell_type": "code",
      "execution_count": null,
      "metadata": {
        "_cell_guid": "933d02f2-2773-3047-adeb-204c0af27df0"
      },
      "outputs": [],
      "source": [
        "rmsle(np.repeat(6823634.024752475,9261), test['price_doc'].values)"
      ]
    },
    {
      "cell_type": "code",
      "execution_count": null,
      "metadata": {
        "_cell_guid": "6392ed13-73f0-91a8-7595-2acb0c58aba4"
      },
      "outputs": [],
      "source": [
        "train.price_doc.median()"
      ]
    },
    {
      "cell_type": "code",
      "execution_count": null,
      "metadata": {
        "_cell_guid": "2022cd1b-7d0c-50dc-5c77-5ff4a33bccaf"
      },
      "outputs": [],
      "source": [
        "rmsle(np.repeat(6000000,9261), test['price_doc'].values)"
      ]
    },
    {
      "cell_type": "code",
      "execution_count": null,
      "metadata": {
        "_cell_guid": "70798306-11f3-2437-8f0c-be93dda70849"
      },
      "outputs": [],
      "source": [
        "rmsle(np.repeat(6500000,9261), test['price_doc'].values)"
      ]
    },
    {
      "cell_type": "code",
      "execution_count": null,
      "metadata": {
        "_cell_guid": "fb45853c-7199-2726-4cf4-e557814a64d4"
      },
      "outputs": [],
      "source": [
        "#list(train.columns.values)"
      ]
    },
    {
      "cell_type": "markdown",
      "metadata": {
        "_cell_guid": "3ae9c652-487f-eff9-9fc9-bc63bde27475"
      },
      "source": [
        "**Predictions based on price per sqm and area**"
      ]
    },
    {
      "cell_type": "code",
      "execution_count": null,
      "metadata": {
        "_cell_guid": "7fdb72b6-809c-a59f-fe59-f7c50e7ab480"
      },
      "outputs": [],
      "source": [
        "gb = train.groupby(['area_m'])\n",
        "\n",
        "dfagg = pd.DataFrame()\n",
        "\n",
        "# bayesian average\n",
        "dfagg['avg_price_per_sqm'] = (5 * 6000000 + gb.price_doc.sum()) / (5 * 40 + gb.full_sq.sum())\n",
        "\n",
        "dfagg['observations_count'] = gb.price_doc.count()\n",
        "dfagg.reset_index(inplace=True)\n",
        "dfagg.head()"
      ]
    },
    {
      "cell_type": "code",
      "execution_count": null,
      "metadata": {
        "_cell_guid": "3b877e66-c694-e567-32f0-6aba758e324d"
      },
      "outputs": [],
      "source": [
        "test_merged = pd.merge(test, dfagg, how='left', on=['area_m'])\n",
        "test_merged['avg_price_per_sqm'] = test_merged.avg_price_per_sqm.replace(np.NaN, 6823634.024752475)\n",
        "test_merged['est_price'] = test_merged['avg_price_per_sqm'] * test_merged['full_sq']\n",
        "test_merged.head()"
      ]
    },
    {
      "cell_type": "code",
      "execution_count": null,
      "metadata": {
        "_cell_guid": "81aaddb3-c70b-c168-8973-544c61330f8a"
      },
      "outputs": [],
      "source": [
        "rmsle(test_merged['est_price'].values, test_merged['price_doc'].values)"
      ]
    },
    {
      "cell_type": "markdown",
      "metadata": {
        "_cell_guid": "f212d69a-3b5c-d206-3c61-d1ee688755a2"
      },
      "source": [
        "**Predictions based on price per sqm, area and subarea**"
      ]
    },
    {
      "cell_type": "code",
      "execution_count": null,
      "metadata": {
        "_cell_guid": "2cca7043-66e4-69f6-2a9c-0753d9b81b47"
      },
      "outputs": [],
      "source": [
        "gb = train.groupby(['area_m', 'sub_area'])\n",
        "\n",
        "dfagg = pd.DataFrame()\n",
        "dfagg['avg_price_per_sqm'] = gb.price_doc.sum() / gb.full_sq.sum()\n",
        "dfagg.reset_index(inplace=True)\n",
        "\n",
        "test_merged = pd.merge(test, dfagg, how='left', on=['area_m', 'sub_area'])\n",
        "test_merged['avg_price_per_sqm'] = test_merged.avg_price_per_sqm.replace(np.NaN, 6623634)\n",
        "test_merged['est_price'] = test_merged['avg_price_per_sqm'] * test_merged['full_sq']\n",
        "\n",
        "rmsle(test_merged['est_price'].values, test_merged['price_doc'].values)"
      ]
    },
    {
      "cell_type": "code",
      "execution_count": null,
      "metadata": {
        "_cell_guid": "03819d30-e25a-cd29-ceb9-cbfc0449e199"
      },
      "outputs": [],
      "source": [
        "train['dist'] = np.round(train['kremlin_km']/2)\n",
        "test['dist'] = np.round(test['kremlin_km']/2)\n",
        "gb = train.groupby(['dist'])\n",
        "\n",
        "dfagg = pd.DataFrame()\n",
        "dfagg['avg_price_per_sqm'] = (3 * 6000000.0 + gb.price_doc.sum()) / (3 * 60 + gb.full_sq.sum())\n",
        "dfagg.reset_index(inplace=True)\n",
        "\n",
        "test_merged = pd.merge(test, dfagg, how='left', on=['dist'])\n",
        "test_merged['avg_price_per_sqm'] = test_merged.avg_price_per_sqm.replace(np.NaN, 6623634)\n",
        "test_merged['est_price'] = test_merged['avg_price_per_sqm'] * test_merged['full_sq']\n",
        "\n",
        "rmsle(test_merged['est_price'].values, test_merged['price_doc'].values)"
      ]
    },
    {
      "cell_type": "code",
      "execution_count": null,
      "metadata": {
        "_cell_guid": "bb63e811-fac7-2027-2ab0-e323996a8ae1"
      },
      "outputs": [],
      "source": [
        ""
      ]
    }
  ],
  "metadata": {
    "_change_revision": 0,
    "_is_fork": false,
    "kernelspec": {
      "display_name": "Python 3",
      "language": "python",
      "name": "python3"
    },
    "language_info": {
      "codemirror_mode": {
        "name": "ipython",
        "version": 3
      },
      "file_extension": ".py",
      "mimetype": "text/x-python",
      "name": "python",
      "nbconvert_exporter": "python",
      "pygments_lexer": "ipython3",
      "version": "3.6.0"
    }
  },
  "nbformat": 4,
  "nbformat_minor": 0
}