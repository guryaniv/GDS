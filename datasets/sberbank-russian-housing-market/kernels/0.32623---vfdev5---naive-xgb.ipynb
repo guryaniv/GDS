{
  "cells": [
    {
      "cell_type": "markdown",
      "metadata": {
        "_cell_guid": "fabdaafe-8c26-960e-f9a1-13dd77c7f961"
      },
      "source": [
        "Thanks to Bruno G. do Amaral and his start-up kernel [Naive XGB](https://www.kaggle.com/bguberfain/sberbank-russian-housing-market/naive-xgb-lb-0-317) "
      ]
    },
    {
      "cell_type": "code",
      "execution_count": null,
      "metadata": {
        "_cell_guid": "29423823-c508-ad11-cc5a-a8cc3a65bdf0"
      },
      "outputs": [],
      "source": [
        "import numpy as np\n",
        "import pandas as pd\n",
        "import xgboost as xgb"
      ]
    },
    {
      "cell_type": "code",
      "execution_count": null,
      "metadata": {
        "_cell_guid": "e804b309-2964-044e-9aaf-ceda11a68ed4"
      },
      "outputs": [],
      "source": [
        "df_train = pd.read_csv(\"../input/train.csv\")\n",
        "df_test = pd.read_csv(\"../input/test.csv\")\n",
        "\n",
        "df_train.head()"
      ]
    },
    {
      "cell_type": "code",
      "execution_count": null,
      "metadata": {
        "_cell_guid": "799a750a-f450-bb80-cd8c-83891190e575"
      },
      "outputs": [],
      "source": [
        "#mask = (df_train['num_room'] == 2.0) & (df_train['build_year'] > 2000.0)\n",
        "#plt.title(\"City center distance VS Price (2 rooms, new building)\")\n",
        "#sns.jointplot(x='kremlin_km', y='price_doc', data=df_train[mask])\n",
        "#plt.title(\"Distance to Sadovoe VS Price (2 rooms, new building)\")\n",
        "#sns.jointplot(x='sadovoe_km', y='price_doc', data=df_train[mask])\n",
        "#plt.title(\"Distance to Bulvarnoe VS Price (2 rooms, new building)\")\n",
        "#sns.jointplot(x='bulvar_ring_km', y='price_doc', data=df_train[mask])\n",
        "#plt.title(\"Distance to MKAD VS Price (2 rooms, new building)\")\n",
        "#sns.jointplot(x='mkad_km', y='price_doc', data=df_train[mask])"
      ]
    },
    {
      "cell_type": "code",
      "execution_count": null,
      "metadata": {
        "_cell_guid": "a24ce485-eda4-8da6-70f0-87ce52f844ea"
      },
      "outputs": [],
      "source": [
        "#plt.figure(figsize=(12,8))\n",
        "#sns.stripplot(y='sub_area', x='kremlin_km', data=df_train)\n",
        "#plt.xlabel('Kremlin km', fontsize=12)\n",
        "#plt.ylabel('Name of the district', fontsize=12)\n",
        "#_ = plt.yticks(fontsize=8)"
      ]
    },
    {
      "cell_type": "code",
      "execution_count": null,
      "metadata": {
        "_cell_guid": "ba6f6414-c194-b294-5373-b20a6cfb4b00"
      },
      "outputs": [],
      "source": [
        "#plt.figure(figsize=(12,8))\n",
        "#sns.boxplot(x='sub_area', y='price_doc', data=df_train[mask])\n",
        "#plt.ylabel('Price', fontsize=12)\n",
        "#plt.xlabel('Name of the district', fontsize=12)\n",
        "#_ = plt.xticks(rotation='vertical', fontsize=8)"
      ]
    },
    {
      "cell_type": "code",
      "execution_count": null,
      "metadata": {
        "_cell_guid": "2b2c0fab-2fad-1b71-2cc7-016a08a59063"
      },
      "outputs": [],
      "source": [
        "df_train[df_train['floor'].isnull()][['full_sq', 'num_room', 'state', 'build_year', 'sub_area', 'kremlin_km']].head()"
      ]
    },
    {
      "cell_type": "code",
      "execution_count": null,
      "metadata": {
        "_cell_guid": "91c9344d-f71d-1e0c-5dbd-d7aa80e00929"
      },
      "outputs": [],
      "source": [
        "#cols = [c for c in df_train.columns if 'area' in c]\n",
        "#cols"
      ]
    },
    {
      "cell_type": "code",
      "execution_count": null,
      "metadata": {
        "_cell_guid": "761c5d8e-46e2-6674-42a0-0b71103dcfe8"
      },
      "outputs": [],
      "source": [
        "#cols = [c for c in df_train.columns if 'km' in c]\n",
        "#cols"
      ]
    },
    {
      "cell_type": "code",
      "execution_count": null,
      "metadata": {
        "_cell_guid": "7e3d80ce-09e4-c983-81e1-40445bb88c9e"
      },
      "outputs": [],
      "source": [
        "train_df['floor'].fillna(-99, inplace=True)"
      ]
    },
    {
      "cell_type": "code",
      "execution_count": null,
      "metadata": {
        "_cell_guid": "010a24bc-f765-fc4e-648f-95de00538a2f"
      },
      "outputs": [],
      "source": [
        "build_year_cols = [\n",
        "    'build_count_before_1920',\n",
        "    'build_count_1921-1945',\n",
        "    'build_count_1946-1970',\n",
        "    'build_count_1971-1995',\n",
        "    'build_count_after_1995'\n",
        "]\n",
        "\n",
        "mean_build_year_map = {\n",
        "    'build_count_before_1920' : 1920,\n",
        "    'build_count_1921-1945' : 1933,\n",
        "    'build_count_1946-1970' : 1958,\n",
        "    'build_count_1971-1995' : 1983,    \n",
        "    'build_count_after_1995' : 1995\n",
        "}\n",
        "\n",
        "def compute_build_year(row):     \n",
        "    count_build_year_list = np.array([(mean_build_year_map[i], c) for i, c in zip(row.index, row)])\n",
        "    s = np.sum(count_build_year_list[:,1])\n",
        "    year = np.sum(count_build_year_list[:,0] * count_build_year_list[:,1]) / s\n",
        "    return int(year)\n",
        "\n",
        "def fix_build_year(df):\n",
        "    mask = df[build_year_cols].isnull()\n",
        "    mask = mask.any(axis=1)\n",
        "    mask = df['build_year'].isnull() & ~mask\n",
        "    df.loc[mask, 'build_year'] = df[mask][build_year_cols].apply(compute_build_year, axis=1)\n",
        "    df.loc[df_train['build_year'].isnull(), 'build_year'] = 1970\n",
        "    \n",
        "fix_build_year(df_train)\n",
        "fix_build_year(df_test)"
      ]
    },
    {
      "cell_type": "code",
      "execution_count": null,
      "metadata": {
        "_cell_guid": "2d0ded8b-e219-cb7b-1690-cdb6ee34b195"
      },
      "outputs": [],
      "source": [
        "def to_yearmonth(yearmonthdate_str):\n",
        "    \"\"\"\n",
        "    Convert '2016-01-23' -> 201601\n",
        "    \"\"\"    \n",
        "    yearmonth = int(yearmonthdate_str[:4] + yearmonthdate_str[5:7])\n",
        "    return yearmonth\n",
        "\n",
        "df_train['yearmonth'] = df_train['timestamp'].apply(to_yearmonth)\n",
        "df_train['age'] = df_train['yearmonth'] - df_train['build_year'] * 100\n",
        "\n",
        "df_test['yearmonth'] = df_test['timestamp'].apply(to_yearmonth)\n",
        "df_test['age'] = df_test['yearmonth'] - df_test['build_year'] * 100"
      ]
    },
    {
      "cell_type": "code",
      "execution_count": null,
      "metadata": {
        "_cell_guid": "3a9d3a78-03e9-b572-cc15-365118a89fde"
      },
      "outputs": [],
      "source": [
        "df_train['price_doc'].hist(bins=50)"
      ]
    },
    {
      "cell_type": "code",
      "execution_count": null,
      "metadata": {
        "_cell_guid": "9b68457e-36d0-1c91-91d2-b1ab9702070a"
      },
      "outputs": [],
      "source": [
        "df_train['price_doc'].apply(np.log).hist(bins=50)"
      ]
    },
    {
      "cell_type": "code",
      "execution_count": null,
      "metadata": {
        "_cell_guid": "edaaea99-b6b2-d147-eb70-03bb74401388"
      },
      "outputs": [],
      "source": [
        "df_train['price_doc'] = df_train['price_doc'].apply(np.log)"
      ]
    },
    {
      "cell_type": "code",
      "execution_count": null,
      "metadata": {
        "_cell_guid": "fcc92ab9-6d22-f537-2360-2071b0663971"
      },
      "outputs": [],
      "source": [
        "df_train = df_train[df_train['yearmonth'] > 201500]"
      ]
    },
    {
      "cell_type": "code",
      "execution_count": null,
      "metadata": {
        "_cell_guid": "af4ea5bb-8a16-c6a1-368e-271f3d595317"
      },
      "outputs": [],
      "source": [
        "y_train = df_train['price_doc'].values\n",
        "id_test = df_test['id']\n",
        "\n",
        "df_train.drop(['id', 'timestamp', 'price_doc'], axis=1, inplace=True)  # throw away timestamp just for test\n",
        "df_test.drop(['id', 'timestamp'], axis=1, inplace=True)\n",
        "\n",
        "num_train = len(df_train)\n",
        "df_all = pd.concat([df_train, df_test])\n",
        "print(df_all.shape)\n",
        "\n",
        "X_all = np.c_[\n",
        "    df_all.select_dtypes(exclude=['object']).values,\n",
        "    pd.get_dummies(df_all.select_dtypes(include=['object'])).values\n",
        "]\n",
        "print(X_all.shape)\n",
        "\n",
        "X_train = X_all[:num_train]\n",
        "X_test = X_all[num_train:]"
      ]
    },
    {
      "cell_type": "code",
      "execution_count": null,
      "metadata": {
        "_cell_guid": "5d907e98-8a34-f9da-3c89-7abd32bb5ac5"
      },
      "outputs": [],
      "source": [
        "xgb_params = {\n",
        "    'eta': 0.02,\n",
        "    'max_depth': 6,\n",
        "    'subsample': 0.7,\n",
        "    'colsample_bytree': 0.7,\n",
        "    'objective': 'reg:linear',\n",
        "    'eval_metric': 'rmse',\n",
        "    'silent': 1\n",
        "}\n",
        "\n",
        "dtrain = xgb.DMatrix(X_train, y_train)\n",
        "dtest = xgb.DMatrix(X_test)"
      ]
    },
    {
      "cell_type": "code",
      "execution_count": null,
      "metadata": {
        "_cell_guid": "b00767dd-4313-68d0-e685-db65d8c9e383"
      },
      "outputs": [],
      "source": [
        "#cv_result = xgb.cv(xgb_params, dtrain, num_boost_round=800, early_stopping_rounds=100,\n",
        "#                   verbose_eval=True, show_stdv=False)"
      ]
    },
    {
      "cell_type": "code",
      "execution_count": null,
      "metadata": {
        "_cell_guid": "d1c14505-54ca-95cb-9390-b4ccdffb02ae"
      },
      "outputs": [],
      "source": [
        "#cv_result[['train-rmse-mean', 'test-rmse-mean']].plot()"
      ]
    },
    {
      "cell_type": "code",
      "execution_count": null,
      "metadata": {
        "_cell_guid": "27e63616-76c6-a8f8-66ca-642b8c81c198"
      },
      "outputs": [],
      "source": [
        "model = xgb.train(dict(xgb_params, silent=0), dtrain, num_boost_round=800)"
      ]
    },
    {
      "cell_type": "code",
      "execution_count": null,
      "metadata": {
        "_cell_guid": "60a4584e-00e2-f239-1e25-04b92d14c73c"
      },
      "outputs": [],
      "source": [
        "y_pred = model.predict(dtest)\n",
        "\n",
        "df_sub = pd.DataFrame({'id': id_test, 'price_doc': np.exp(y_pred)})\n",
        "\n",
        "df_sub.to_csv('sub.csv', index=False)"
      ]
    },
    {
      "cell_type": "code",
      "execution_count": null,
      "metadata": {
        "_cell_guid": "857e76fb-ba86-772a-1667-7b8e0571cf23"
      },
      "outputs": [],
      "source": ""
    }
  ],
  "metadata": {
    "_change_revision": 0,
    "_is_fork": false,
    "kernelspec": {
      "display_name": "Python 3",
      "language": "python",
      "name": "python3"
    },
    "language_info": {
      "codemirror_mode": {
        "name": "ipython",
        "version": 3
      },
      "file_extension": ".py",
      "mimetype": "text/x-python",
      "name": "python",
      "nbconvert_exporter": "python",
      "pygments_lexer": "ipython3",
      "version": "3.6.0"
    }
  },
  "nbformat": 4,
  "nbformat_minor": 0
}