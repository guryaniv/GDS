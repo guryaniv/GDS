{
  "cells": [
    {
      "cell_type": "markdown",
      "metadata": {
        "_cell_guid": "538ce2ec-c812-88c7-d11f-a634d6cc9753"
      },
      "source": [
        "From the data page:\n",
        "\n",
        "> \"This dataset contains anonymized features pertaining to a time-varying value for a financial instrument. Each instrument has an id.\"\n",
        "\n",
        "This notebook aims to explore the ID component of the data and make some instrument-level plots.\n",
        "\n",
        "Forked from [SRK's exploratory notebook][1].\n",
        "\n",
        "\n",
        "  [1]: https://www.kaggle.com/sudalairajkumar/two-sigma-financial-modeling/simple-exploration-notebook/notebook"
      ]
    },
    {
      "cell_type": "code",
      "execution_count": null,
      "metadata": {
        "_cell_guid": "0a3c8acf-8ea5-10a5-b3dc-d210be84e396"
      },
      "outputs": [],
      "source": [
        "# This Python 3 environment comes with many helpful analytics libraries installed\n",
        "# It is defined by the kaggle/python docker image: https://github.com/kaggle/docker-python\n",
        "# For example, here's several helpful packages to load in \n",
        "\n",
        "import numpy as np # linear algebra\n",
        "import pandas as pd # data processing, CSV file I/O (e.g. pd.read_csv)\n",
        "import matplotlib.pyplot as plt\n",
        "import seaborn as sns\n",
        "\n",
        "%matplotlib inline"
      ]
    },
    {
      "cell_type": "markdown",
      "metadata": {
        "_cell_guid": "2cf59944-3ed3-d1c0-a320-df24fb3fb59a"
      },
      "source": [
        "Please note that, in this competition HDF5 file is being used instead of csv."
      ]
    },
    {
      "cell_type": "code",
      "execution_count": null,
      "metadata": {
        "_cell_guid": "af036d68-c80c-67a3-3b2a-1817af9ebfe7"
      },
      "outputs": [],
      "source": [
        "with pd.HDFStore(\"../input/train.h5\", \"r\") as train:\n",
        "    # Note that the \"train\" dataframe is the only dataframe in the file\n",
        "    df = train.get(\"train\")"
      ]
    },
    {
      "cell_type": "code",
      "execution_count": null,
      "metadata": {
        "_cell_guid": "4543265d-04cf-f35c-6b6a-be4a0519dbcc"
      },
      "outputs": [],
      "source": [
        "print(\"Number of instruments:\", len(df[\"id\"].unique()))\n",
        "print(\"Min ID:\", df[\"id\"].min())\n",
        "print(\"Max ID:\", df[\"id\"].max())"
      ]
    },
    {
      "cell_type": "markdown",
      "metadata": {
        "_cell_guid": "e841d3e3-fb25-3beb-ee58-d5b0a32602ee"
      },
      "source": [
        "**There are 1424 unique instrument IDs in the training set.** Given the min and max instrument IDs, we might reasonably expect there to be over 2000 in the train and test sets combined. If this is the case it might be valuable to hold out instruments during validation.\n",
        "\n",
        "Does the target vary much by ID? Are some IDs represented more than others?"
      ]
    },
    {
      "cell_type": "code",
      "execution_count": null,
      "metadata": {
        "_cell_guid": "953257ad-0fb0-cb3f-636a-87cb772ea007"
      },
      "outputs": [],
      "source": [
        "stats = df.groupby(\"id\")[\"y\"].agg({\"mean\":np.mean, \"count\":len})\n",
        "sns.jointplot(x=\"count\", y=\"mean\", data=stats)"
      ]
    },
    {
      "cell_type": "code",
      "execution_count": null,
      "metadata": {
        "_cell_guid": "2929bbf3-a448-2dcf-32ac-a43fb1a4346b"
      },
      "outputs": [],
      "source": [
        "df.groupby(\"id\")[\"y\"].mean().sort_values().head()"
      ]
    },
    {
      "cell_type": "markdown",
      "metadata": {
        "_cell_guid": "6569ffb7-f32a-b539-bfc7-9cce97a72e49"
      },
      "source": [
        "There are outliers, but since they are are for instruments with very few entries, we may be looking at statistical flukes.\n",
        "\n",
        "Let's have a look at a few time series the biggest outlier (ID 1431) and a couple of other instruments."
      ]
    },
    {
      "cell_type": "code",
      "execution_count": null,
      "metadata": {
        "_cell_guid": "a57fe286-b384-8622-d61d-04163b0bfb95"
      },
      "outputs": [],
      "source": [
        "cols_to_use = ['y', 'technical_30', 'technical_20', 'fundamental_11', 'technical_19']\n",
        "fig = plt.figure(figsize=(8, 20))\n",
        "plot_count = 0\n",
        "for col in cols_to_use:\n",
        "    plot_count += 1\n",
        "    plt.subplot(5, 2, plot_count)\n",
        "    plt.plot(df[\"timestamp\"].sample(frac=0.01), df[col].sample(frac=0.01), \".\")\n",
        "    plt.title(\"Distribution of {}\".format(col))\n",
        "    plot_count += 1\n",
        "    plt.subplot(5, 2, plot_count)\n",
        "    plt.plot(df.loc[df[\"id\"]==1431, \"timestamp\"], df.loc[df[\"id\"]==1431, col], \".-\", label=\"ID 1431\")\n",
        "    plt.plot(df.loc[df[\"id\"]==11, \"timestamp\"], df.loc[df[\"id\"]==11, col], \".-\", label=\"ID 11\", alpha=0.7)\n",
        "    plt.plot(df.loc[df[\"id\"]==12, \"timestamp\"], df.loc[df[\"id\"]==12, col], \".-\", label=\"ID 12\", alpha=0.7)\n",
        "    plt.legend()\n",
        "plt.show()"
      ]
    },
    {
      "cell_type": "markdown",
      "metadata": {
        "_cell_guid": "46adb9ec-1add-8d18-30fc-8620c3d12bbe"
      },
      "source": [
        "There is serious time structure in here! Hopefully this notebook can inspire some feature generation and further exploration. \n",
        "\n",
        "A few questions that come to mind:\n",
        "\n",
        " - Is there any autocorrelation in y when broken down by instrument?\n",
        " - Is the instrument ID alone predictive of y? My guess is probably not.\n",
        " - Will long-term time-structure in the features lead to problems with covariate shift?"
      ]
    },
    {
      "cell_type": "code",
      "execution_count": null,
      "metadata": {
        "_cell_guid": "0cad5207-f8fb-18dd-287b-18746bcf16fa"
      },
      "outputs": [],
      "source": [
        ""
      ]
    }
  ],
  "metadata": {
    "_change_revision": 0,
    "_is_fork": false,
    "kernelspec": {
      "display_name": "Python 3",
      "language": "python",
      "name": "python3"
    },
    "language_info": {
      "codemirror_mode": {
        "name": "ipython",
        "version": 3
      },
      "file_extension": ".py",
      "mimetype": "text/x-python",
      "name": "python",
      "nbconvert_exporter": "python",
      "pygments_lexer": "ipython3",
      "version": "3.5.2"
    }
  },
  "nbformat": 4,
  "nbformat_minor": 0
}