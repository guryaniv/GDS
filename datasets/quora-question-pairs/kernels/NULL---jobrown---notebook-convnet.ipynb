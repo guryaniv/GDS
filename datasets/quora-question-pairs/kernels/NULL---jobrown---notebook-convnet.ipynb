{
  "cells": [
    {
      "cell_type": "code",
      "execution_count": null,
      "metadata": {
        "_cell_guid": "2f6540fc-0646-ba62-9103-7c635be0f363"
      },
      "outputs": [],
      "source": [
        "# This Python 3 environment comes with many helpful analytics libraries installed\n",
        "# It is defined by the kaggle/python docker image: https://github.com/kaggle/docker-python\n",
        "# For example, here's several helpful packages to load in \n",
        "\n",
        "import numpy as np # linear algebra\n",
        "import pandas as pd # data processing, CSV file I/O (e.g. pd.read_csv)\n",
        "\n",
        "# Input data files are available in the \"../input/\" directory.\n",
        "# For example, running this (by clicking run or pressing Shift+Enter) will list the files in the input directory\n",
        "\n",
        "from subprocess import check_output\n",
        "print(check_output([\"ls\", \"../input\"]).decode(\"utf8\"))\n",
        "\n",
        "# Any results you write to the current directory are saved as output.\n",
        "\n",
        "\n",
        "import sys\n",
        "import re\n",
        "import os\n",
        "import time\n",
        "import string\n",
        "\n",
        "from sklearn.externals import joblib\n",
        "from sklearn.model_selection import GridSearchCV, train_test_split\n",
        "\n",
        "from keras.models import Sequential\n",
        "from keras.layers import Dense, Dropout, Activation, Flatten, Merge, BatchNormalization\n",
        "from keras.layers import Conv1D, MaxPooling1D, Conv2D, MaxPooling2D\n",
        "from keras.utils import np_utils\n",
        "\n",
        "\n",
        "import matplotlib.pyplot as plt\n"
      ]
    },
    {
      "cell_type": "code",
      "execution_count": null,
      "metadata": {
        "_cell_guid": "80886464-820f-4cc0-0e95-361a1a7e4751"
      },
      "outputs": [],
      "source": [
        "# This function transforms a string to a onehot encoded vectors,\n",
        "# e.g. \"abc\" -> [1, 2, 3] -> [[1, 0, 0],[0, 1, 0],[0, 0, 1]]\n",
        "def string_vectorizer(strng, alphabet=string.ascii_lowercase):\n",
        "    vector = [[0 if char != letter else 1 for char in alphabet] \n",
        "                  for letter in strng.lower()]\n",
        "    return vector\n",
        "\n"
      ]
    },
    {
      "cell_type": "code",
      "execution_count": null,
      "metadata": {
        "_cell_guid": "14730dc1-b8a1-7d89-a294-bd6778458305"
      },
      "outputs": [],
      "source": [
        "train = pd.read_csv(\"../input/train.csv\",nrows=100000)\n",
        "#test  = pd.read_csv(\"../input/test.csv\",nrows=200)"
      ]
    },
    {
      "cell_type": "code",
      "execution_count": null,
      "metadata": {
        "_cell_guid": "4a641f9d-de4e-9b85-9035-1a1ecd11d302"
      },
      "outputs": [],
      "source": [
        "q1_img = train[\"question1\"].apply(lambda x : string_vectorizer(str(x))).as_matrix()\n",
        "q2_img = train[\"question2\"].apply(lambda x : string_vectorizer(str(x))).as_matrix()\n",
        "\n",
        "\n",
        "\n",
        "from keras.preprocessing.sequence import pad_sequences\n",
        "q1_data = pad_sequences(q1_img, maxlen=50, truncating='post')\n",
        "q2_data = pad_sequences(q2_img, maxlen=50, truncating='post')\n",
        "\n",
        "\n",
        "f = plt.figure(figsize=(15,10))\n",
        "plt.title(train.iloc[0][\"question1\"])\n",
        "plt.imshow(q1_data[0])\n",
        "plt.show()\n",
        "plt.savefig(\"sent.png\")\n",
        "\n"
      ]
    },
    {
      "cell_type": "code",
      "execution_count": null,
      "metadata": {
        "_cell_guid": "8cb7dabc-7c9a-2c82-e273-b54c820f1012"
      },
      "outputs": [],
      "source": [
        "labels = np.array(train[\"is_duplicate\"], dtype=int)\n",
        "\n",
        "print('train shape:', q1_data.shape)\n",
        "print(q1_data.shape[0], 'train samples')\n",
        "\n",
        "\n"
      ]
    },
    {
      "cell_type": "code",
      "execution_count": null,
      "metadata": {
        "_cell_guid": "e22acdfb-3530-02ec-d959-0aa078893d42"
      },
      "outputs": [],
      "source": [
        "model_q1 = Sequential()\n",
        "model_q1.add(Conv1D(10, 10, border_mode='same',\n",
        "                    input_shape=q1_data.shape[1:],\n",
        "                    activation='relu'))\n",
        "model_q1.add(MaxPooling1D(5))\n",
        "model_q1.add(Conv1D(10, 10, border_mode='same',\n",
        "                    input_shape=q1_data.shape[1:],\n",
        "                    activation='relu'))\n",
        "model_q1.add(MaxPooling1D(10))\n",
        "model_q1.add(Flatten())\n",
        "\n",
        "\n",
        "\n",
        "model_q2 = Sequential()\n",
        "model_q2.add(Conv1D(10, 10, border_mode='same',\n",
        "                    input_shape=q1_data.shape[1:],\n",
        "                    activation='relu'))\n",
        "model_q2.add(MaxPooling1D(5))\n",
        "model_q2.add(Conv1D(10, 10, border_mode='same',\n",
        "                    input_shape=q1_data.shape[1:],\n",
        "                    activation='relu'))\n",
        "model_q2.add(MaxPooling1D(10))\n",
        "model_q2.add(Flatten())\n",
        "\n",
        "\n",
        "model = Sequential()\n",
        "model.add(Merge([model_q1, model_q2], mode='concat'))\n",
        "model.add(Dense(100, activation='relu'))\n",
        "model.add(Dropout(0.5))\n",
        "model.add(Dense(1, activation='sigmoid'))\n",
        "\n",
        "model.compile(loss='binary_crossentropy',\n",
        "              optimizer='adam')\n",
        "\n",
        "\n",
        "\n"
      ]
    },
    {
      "cell_type": "code",
      "execution_count": null,
      "metadata": {
        "_cell_guid": "6bef260d-1762-4381-0e1a-8dc9f7d15927"
      },
      "outputs": [],
      "source": [
        "history = model.fit([q1_data,q2_data],labels,\n",
        "          batch_size=100,\n",
        "          nb_epoch=20,\n",
        "          validation_split=0.2)\n",
        "\n",
        "\n"
      ]
    },
    {
      "cell_type": "code",
      "execution_count": null,
      "metadata": {
        "_cell_guid": "01e14ed5-443a-a2f2-788f-85d4526a4aa8"
      },
      "outputs": [],
      "source": [
        "plt.figure()\n",
        "plt.plot(history.history['loss'],label='train')\n",
        "plt.plot(history.history['val_loss'],label='test')\n",
        "plt.legend()\n"
      ]
    }
  ],
  "metadata": {
    "_change_revision": 0,
    "_is_fork": false,
    "kernelspec": {
      "display_name": "Python 3",
      "language": "python",
      "name": "python3"
    },
    "language_info": {
      "codemirror_mode": {
        "name": "ipython",
        "version": 3
      },
      "file_extension": ".py",
      "mimetype": "text/x-python",
      "name": "python",
      "nbconvert_exporter": "python",
      "pygments_lexer": "ipython3",
      "version": "3.6.0"
    }
  },
  "nbformat": 4,
  "nbformat_minor": 0
}