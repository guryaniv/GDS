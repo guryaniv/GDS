{
  "metadata": {
    "kernelspec": {
      "display_name": "Python 3",
      "language": "python",
      "name": "python3"
    },
    "language_info": {
      "codemirror_mode": {
        "name": "ipython",
        "version": 3
      },
      "file_extension": ".py",
      "mimetype": "text/x-python",
      "name": "python",
      "nbconvert_exporter": "python",
      "pygments_lexer": "ipython3",
      "version": "3.5.2"
    }
  },
  "nbformat": 4,
  "nbformat_minor": 0,
  "cells": [
    {
      "metadata": {
        "_cell_guid": "139fc57e-16ad-2705-b0bf-f7e15b39727f",
        "_active": false,
        "collapsed": false
      },
      "source": "Leaf recognition ",
      "execution_count": null,
      "cell_type": "markdown",
      "outputs": []
    },
    {
      "metadata": {
        "_cell_guid": "b0b33d2f-e6e7-ff45-e060-b4b39bc5d360",
        "_active": true,
        "collapsed": false
      },
      "source": "# This Python 3 environment comes with many helpful analytics libraries installed\n# It is defined by the kaggle/python docker image: https://github.com/kaggle/docker-python\n# For example, here's several helpful packages to load in \n\nimport numpy as np # linear algebra\nimport pandas as pd # data processing, CSV file I/O (e.g. pd.read_csv)\n\n# Input data files are available in the \"../input/\" directory.\n# For example, running this (by clicking run or pressing Shift+Enter) will list the files in the input directory\n\nfrom subprocess import check_output\nprint(check_output([\"ls\", \"../input\"]).decode(\"utf8\"))\n\n# Any results you write to the current directory are saved as output.",
      "execution_count": 1,
      "cell_type": "code",
      "outputs": [],
      "execution_state": "idle"
    },
    {
      "metadata": {
        "_cell_guid": "46808e2f-d09d-f36c-7b5e-48b60c2f56b9",
        "_active": false,
        "collapsed": false
      },
      "source": "# Reading data\n# Train data\ntraindata = pd.read_csv('../input/train.csv', header = 0, dtype={'Age': np.float64})\n\n# Test data\ntestdata  = pd.read_csv('../input/test.csv' , header = 0, dtype={'Age': np.float64})\n\n#Print to standard output, and see the results in the \"log\" section below after running your script\nprint(\"\\n\\nTop of the training data:\")\nprint(traindata.head())\nprint(testdata.shape)",
      "execution_count": 2,
      "cell_type": "code",
      "outputs": [],
      "execution_state": "idle"
    }
  ]
}