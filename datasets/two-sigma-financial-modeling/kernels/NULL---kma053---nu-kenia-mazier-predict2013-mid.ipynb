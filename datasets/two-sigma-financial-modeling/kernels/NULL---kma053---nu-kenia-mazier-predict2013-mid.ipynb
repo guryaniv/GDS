{
  "cells": [
    {
      "cell_type": "code",
      "execution_count": null,
      "metadata": {
        "_cell_guid": "a73112a7-9d95-169a-e0b0-7c675c14621c"
      },
      "outputs": [],
      "source": [
        "# This Python 3 environment comes with many helpful analytics libraries installed\n",
        "# It is defined by the kaggle/python docker image: https://github.com/kaggle/docker-python\n",
        "# For example, here's several helpful packages to load in \n",
        "\n",
        "import numpy as np # linear algebra\n",
        "import pandas as pd # data processing, CSV file I/O (e.g. pd.read_csv)\n",
        "\n",
        "# Input data files are available in the \"../input/\" directory.\n",
        "# For example, running this (by clicking run or pressing Shift+Enter) will list the files in the input directory\n",
        "\n",
        "from subprocess import check_output\n",
        "print(check_output([\"ls\", \"../input\"]).decode(\"utf8\"))\n",
        "\n",
        "# Any results you write to the current directory are saved as output."
      ]
    },
    {
      "cell_type": "code",
      "execution_count": null,
      "metadata": {
        "_cell_guid": "d43b19c8-b8b8-20f0-6bd0-23f0248bdac6"
      },
      "outputs": [],
      "source": [
        "import numpy as np # linear algebra\n",
        "import pandas as pd # data processing, CSV file I/O (e.g. pd.read_csv)\n",
        "import matplotlib.pyplot as plt\n",
        "import seaborn as sns\n",
        "from sklearn import linear_model as lm\n",
        "import kagglegym"
      ]
    },
    {
      "cell_type": "markdown",
      "metadata": {
        "_cell_guid": "b2877904-7350-fe09-919a-38ccb9c784ac"
      },
      "source": [
        "To access the data"
      ]
    },
    {
      "cell_type": "code",
      "execution_count": null,
      "metadata": {
        "_cell_guid": "3ddb8945-07f6-21e9-35e5-0d5f5ebe0e3c"
      },
      "outputs": [],
      "source": [
        "# Create environment\n",
        "env = kagglegym.make()\n",
        "\n",
        "# Get first observation\n",
        "observation = env.reset()\n",
        "\n",
        "# Get the train dataframe\n",
        "train = observation.train"
      ]
    },
    {
      "cell_type": "code",
      "execution_count": null,
      "metadata": {
        "_cell_guid": "0d3e6b56-884a-9487-efb6-bb7dbd1d121a"
      },
      "outputs": [],
      "source": [
        "train_1=observation.train"
      ]
    },
    {
      "cell_type": "code",
      "execution_count": null,
      "metadata": {
        "_cell_guid": "a704ff50-7460-fdb2-dd89-e57433525a0c"
      },
      "outputs": [],
      "source": [
        "train.head()"
      ]
    },
    {
      "cell_type": "code",
      "execution_count": null,
      "metadata": {
        "_cell_guid": "33a6bb6c-1142-9cd6-6d97-c283a089a15f"
      },
      "outputs": [],
      "source": [
        "train.shape"
      ]
    },
    {
      "cell_type": "markdown",
      "metadata": {
        "_cell_guid": "351bcd2a-36d8-5fbf-3e79-3dddaa4d405d"
      },
      "source": [
        "Data Exploration"
      ]
    },
    {
      "cell_type": "code",
      "execution_count": null,
      "metadata": {
        "_cell_guid": "b5a3fd21-ea63-0a00-07d0-907cee5ca293"
      },
      "outputs": [],
      "source": [
        "def findMatchedColumnsUsingPrefix(prefix, train):\n",
        "    columns = train.columns[train.columns.str.startswith(prefix)]\n",
        "    return list(columns.values)"
      ]
    },
    {
      "cell_type": "code",
      "execution_count": null,
      "metadata": {
        "_cell_guid": "7d8ce30e-af98-d965-dbf3-17af06360da4"
      },
      "outputs": [],
      "source": [
        "derived_columns = findMatchedColumnsUsingPrefix(\"derived\", train)\n",
        "fundamental_columns = findMatchedColumnsUsingPrefix(\"fundamental\", train)\n",
        "technical_columns = findMatchedColumnsUsingPrefix(\"technical\", train)\n",
        "\n",
        "print(\"There are {} derived columns\".format(len(derived_columns)))\n",
        "print(\"There are {} fundamental columns\".format(len(fundamental_columns)))\n",
        "print(\"There are {} technical columns\".format(len(technical_columns)))"
      ]
    },
    {
      "cell_type": "code",
      "execution_count": null,
      "metadata": {
        "_cell_guid": "888f4cdc-b731-6e7f-2b62-5bed2f71c817"
      },
      "outputs": [],
      "source": [
        "#To get statistics on all variables\n",
        "train.describe().transpose()"
      ]
    },
    {
      "cell_type": "code",
      "execution_count": null,
      "metadata": {
        "_cell_guid": "863a33e4-2d1d-1200-56b7-00e150ae7c45"
      },
      "outputs": [],
      "source": [
        "#to identify Null Values\n",
        "train.isnull().sum().sort_index(axis=0, ascending=True, inplace=False)"
      ]
    },
    {
      "cell_type": "code",
      "execution_count": null,
      "metadata": {
        "_cell_guid": "999b52d1-c932-1e04-b07b-99487129bdf4"
      },
      "outputs": [],
      "source": [
        "#To replace null values with mean values\n",
        "mean_values = train.mean(axis=0)\n",
        "train.fillna(mean_values, inplace=True)\n",
        "train.head()"
      ]
    },
    {
      "cell_type": "code",
      "execution_count": null,
      "metadata": {
        "_cell_guid": "32d45a27-3bbc-c2b2-3b00-4e0823550c6d"
      },
      "outputs": [],
      "source": [
        "#To get statistics on the variable timestamp\n",
        "train.timestamp.describe()"
      ]
    },
    {
      "cell_type": "code",
      "execution_count": null,
      "metadata": {
        "_cell_guid": "621e7dc5-e04e-fde4-7787-27640d522dad"
      },
      "outputs": [],
      "source": [
        "# Total unique timestamps in the dataset\n",
        "len(train[\"timestamp\"].unique())"
      ]
    },
    {
      "cell_type": "code",
      "execution_count": null,
      "metadata": {
        "_cell_guid": "64ea9873-c381-b402-4fbe-b747913de486"
      },
      "outputs": [],
      "source": [
        "print(train[\"timestamp\"].unique())"
      ]
    },
    {
      "cell_type": "code",
      "execution_count": null,
      "metadata": {
        "_cell_guid": "af65a1aa-01ca-0ab7-fe6a-b70435c869ac"
      },
      "outputs": [],
      "source": [
        "# Total unique ids in the dataset\n",
        "len(train[\"id\"].unique())"
      ]
    },
    {
      "cell_type": "code",
      "execution_count": null,
      "metadata": {
        "_cell_guid": "3cef3599-d96c-5877-b3fb-2a92e592ea4e"
      },
      "outputs": [],
      "source": [
        "#To get statistics on the target variable y \n",
        "train.y.describe()"
      ]
    },
    {
      "cell_type": "code",
      "execution_count": null,
      "metadata": {
        "_cell_guid": "54e25b26-a5f2-503b-5848-3e48585df457"
      },
      "outputs": [],
      "source": [
        "\n",
        "\n",
        "from pandas import Series\n",
        "from matplotlib import pyplot\n",
        "series = Series(train[\"y\"])\n",
        "print(series.head())\n",
        "series.plot()\n",
        "pyplot.show()\n",
        "\n",
        "\n"
      ]
    },
    {
      "cell_type": "code",
      "execution_count": null,
      "metadata": {
        "_cell_guid": "17a80e03-d796-74de-14d2-c1681418da96"
      },
      "outputs": [],
      "source": [
        "train[\"y\"].hist(bins = 30, color = \"orange\")\n",
        "plt.xlabel(\"Target Variable\")\n",
        "plt.ylabel(\"Frequency\")"
      ]
    },
    {
      "cell_type": "markdown",
      "metadata": {
        "_cell_guid": "51d41fb9-6e48-f048-0fb8-cedc516aa0cc"
      },
      "source": [
        "Correlation Matrix"
      ]
    },
    {
      "cell_type": "code",
      "execution_count": null,
      "metadata": {
        "_cell_guid": "764c9272-a03a-246a-6bc2-95f2956ab20b"
      },
      "outputs": [],
      "source": [
        "so=train.corr().unstack().order(kind=\"quicksort\")\n",
        "#print(so[-len(so):-len(so)+20])\n",
        "print(so[\"y\"].sort_values(ascending=False))"
      ]
    },
    {
      "cell_type": "code",
      "execution_count": null,
      "metadata": {
        "_cell_guid": "25c5735f-5202-a6a7-8bd9-1f941ce6b639"
      },
      "outputs": [],
      "source": [
        "plt.plot(train.technical_20)"
      ]
    },
    {
      "cell_type": "code",
      "execution_count": null,
      "metadata": {
        "_cell_guid": "605ff829-18ea-b55e-551a-04db2984b68c"
      },
      "outputs": [],
      "source": [
        "plt.plot(train.technical_30)"
      ]
    },
    {
      "cell_type": "code",
      "execution_count": null,
      "metadata": {
        "_cell_guid": "7540787a-11c8-49c1-b599-3510511e5560"
      },
      "outputs": [],
      "source": [
        "plt.plot(train.fundamental_11)"
      ]
    },
    {
      "cell_type": "code",
      "execution_count": null,
      "metadata": {
        "_cell_guid": "99b2ebbf-06f5-cfba-7ad4-8c2240556406"
      },
      "outputs": [],
      "source": [
        "train_clean =train_1.dropna(axis=0)"
      ]
    },
    {
      "cell_type": "code",
      "execution_count": null,
      "metadata": {
        "_cell_guid": "6022cc90-8b44-16bc-52a7-83ce980da336"
      },
      "outputs": [],
      "source": [
        "len(train_clean)"
      ]
    },
    {
      "cell_type": "code",
      "execution_count": null,
      "metadata": {
        "_cell_guid": "82472713-a31e-5659-0441-2a1d6cf63448"
      },
      "outputs": [],
      "source": [
        "alpha = plt.figure()\n",
        "plt.scatter(train_clean[\"technical_20\"], train_clean[\"y\"], alpha=.1, s=400)\n",
        "plt.xlabel(\"technical_20\") \n",
        "plt.ylabel(\"Target variable\")\n",
        "plt.show()"
      ]
    },
    {
      "cell_type": "code",
      "execution_count": null,
      "metadata": {
        "_cell_guid": "b1f01a43-ebcc-799a-d3e5-fd3f80621f35"
      },
      "outputs": [],
      "source": [
        "alpha = plt.figure()\n",
        "plt.scatter(train_clean[\"technical_30\"], train_clean[\"y\"], alpha=.1, s=400)\n",
        "plt.xlabel(\"technical_30\") \n",
        "plt.ylabel(\"Target variable\")\n",
        "plt.show()"
      ]
    },
    {
      "cell_type": "code",
      "execution_count": null,
      "metadata": {
        "_cell_guid": "716c946d-a410-3877-8bdf-9594a9ff2788"
      },
      "outputs": [],
      "source": [
        "alpha = plt.figure()\n",
        "plt.scatter(train_clean[\"fundamental_11\"], train_clean[\"y\"], alpha=.1, s=400)\n",
        "plt.xlabel(\"technical_30\") \n",
        "plt.ylabel(\"Target variable\")\n",
        "plt.show()"
      ]
    },
    {
      "cell_type": "code",
      "execution_count": null,
      "metadata": {
        "_cell_guid": "4a9ffb21-6885-69dd-30b0-fc25dfa9c247"
      },
      "outputs": [],
      "source": [
        "# Let's take a 1000 sample of the data to explore \n",
        "# We will use raw data which has the missing data removed from it\n",
        "train_sample = train_1.sample(n=1000)"
      ]
    },
    {
      "cell_type": "code",
      "execution_count": null,
      "metadata": {
        "_cell_guid": "beb9e773-1f38-fcc9-ef61-1c2f32dcc4a1"
      },
      "outputs": [],
      "source": [
        "# Plot the most correlated variables \n",
        "alpha = plt.figure()\n",
        "plt.scatter(train_sample[\"timestamp\"], train_sample[\"technical_20\"], alpha=.5)\n",
        "plt.xlabel(\"timestamp\") \n",
        "plt.ylabel(\"technical_20\")\n",
        "plt.show()"
      ]
    },
    {
      "cell_type": "code",
      "execution_count": null,
      "metadata": {
        "_cell_guid": "c8e1e330-db4b-c059-b866-b0b86c94a184"
      },
      "outputs": [],
      "source": [
        "# Plot the most correlated variables \n",
        "alpha = plt.figure()\n",
        "plt.scatter(train_sample[\"timestamp\"], train_sample[\"technical_30\"], alpha=.5)\n",
        "plt.xlabel(\"timestamp\") \n",
        "plt.ylabel(\"technical_30\")\n",
        "plt.show()"
      ]
    },
    {
      "cell_type": "code",
      "execution_count": null,
      "metadata": {
        "_cell_guid": "5f1738a1-6329-69fd-7e6a-381f5548ac04"
      },
      "outputs": [],
      "source": [
        "# Plot the most correlated variables \n",
        "alpha = plt.figure()\n",
        "plt.scatter(train_sample[\"timestamp\"], train_sample[\"fundamental_11\"], alpha=.5)\n",
        "plt.xlabel(\"timestamp\") \n",
        "plt.ylabel(\"fundamental_11\")\n",
        "plt.show()"
      ]
    },
    {
      "cell_type": "markdown",
      "metadata": {
        "_cell_guid": "791bb5db-bac3-5b8b-75bf-56f0a9198050"
      },
      "source": [
        "Correlation Matrix"
      ]
    },
    {
      "cell_type": "code",
      "execution_count": null,
      "metadata": {
        "_cell_guid": "5c80d259-d652-a1a2-860f-b7e6e3354bab"
      },
      "outputs": [],
      "source": [
        "# Now let us look at the correlation coefficient of each of these variables #\n",
        "x_cols = [col for col in train.columns if col not in ['y', 'id', 'timestamp']]\n",
        "\n",
        "labels = []\n",
        "values = []\n",
        "for col in x_cols:\n",
        "    labels.append(col)\n",
        "    values.append(np.corrcoef(train[col].values, train.y.values)[0,1])\n",
        "    \n",
        "ind = np.arange(len(labels))\n",
        "width = 0.9\n",
        "fig, ax = plt.subplots(figsize=(12,40))\n",
        "rects = ax.barh(ind, np.array(values), color='y')\n",
        "ax.set_yticks(ind+((width)/2.))\n",
        "ax.set_yticklabels(labels, rotation='horizontal')\n",
        "ax.set_xlabel(\"Correlation coefficient\")\n",
        "ax.set_title(\"Correlation coefficient\")\n",
        "#autolabel(rects)\n",
        "plt.show()"
      ]
    },
    {
      "cell_type": "code",
      "execution_count": null,
      "metadata": {
        "_cell_guid": "56fd6dbb-6944-d124-abc0-9b0b86fc13b3"
      },
      "outputs": [],
      "source": [
        "cols_to_use = ['technical_30', 'technical_20', 'fundamental_11', 'technical_19']\n",
        "\n",
        "temp_df = train[cols_to_use]\n",
        "corrmat = temp_df.corr(method='spearman')\n",
        "f, ax = plt.subplots(figsize=(8, 8))\n",
        "\n",
        "# Draw the heatmap using seaborn\n",
        "sns.heatmap(corrmat, vmax=.8, square=True)\n",
        "plt.show()"
      ]
    },
    {
      "cell_type": "code",
      "execution_count": null,
      "metadata": {
        "_cell_guid": "264e15e9-f904-e482-cd66-91a6c0f0636f"
      },
      "outputs": [],
      "source": [
        "#To set low and min to take care of outliers\n",
        "low_y_cut = -0.086093\n",
        "high_y_cut = 0.093497"
      ]
    },
    {
      "cell_type": "code",
      "execution_count": null,
      "metadata": {
        "_cell_guid": "c79ab227-a5ea-b852-352a-5664c09a55b9"
      },
      "outputs": [],
      "source": [
        "y_values_within = ((train['y'] > low_y_cut) & (train['y'] <high_y_cut))"
      ]
    },
    {
      "cell_type": "code",
      "execution_count": null,
      "metadata": {
        "_cell_guid": "acc55ddd-9cae-f7e0-1253-4a65f321f221"
      },
      "outputs": [],
      "source": [
        "train_cut = train.loc[y_values_within,:]"
      ]
    },
    {
      "cell_type": "markdown",
      "metadata": {
        "_cell_guid": "985bda11-30c8-d32b-15c2-80a0ba8f01aa"
      },
      "source": [
        "Simple Linear Model"
      ]
    },
    {
      "cell_type": "code",
      "execution_count": null,
      "metadata": {
        "_cell_guid": "83340ded-a772-f116-2855-a8e34ff828b1"
      },
      "outputs": [],
      "source": [
        "cols='technical_20'\n",
        "x_train = train_cut[cols]\n",
        "y = train_cut[\"y\"]"
      ]
    },
    {
      "cell_type": "code",
      "execution_count": null,
      "metadata": {
        "_cell_guid": "d1bd1ad0-011a-d065-cf4b-21f983784c7a"
      },
      "outputs": [],
      "source": [
        "models_dict = {}\n",
        "for col in cols_to_use:\n",
        "    model = lm.LinearRegression()\n",
        "    model.fit(np.array(train[col].values).reshape(-1,1), train.y.values)\n",
        "    models_dict[col] = model"
      ]
    },
    {
      "cell_type": "markdown",
      "metadata": {
        "_cell_guid": "6b8a471f-be8b-0ff1-897c-01faba0f1fbe"
      },
      "source": [
        "Model Using Technical30"
      ]
    },
    {
      "cell_type": "code",
      "execution_count": null,
      "metadata": {
        "_cell_guid": "72889cde-9422-d2fa-010c-0743856aebb8"
      },
      "outputs": [],
      "source": [
        "col = 'technical_30'\n",
        "model = models_dict[col]\n",
        "while True:\n",
        "    observation.features.fillna(mean_values, inplace=True)\n",
        "    test_x = np.array(observation.features[col].values).reshape(-1,1)\n",
        "    observation.target.y = model.predict(test_x)\n",
        "    #observation.target.fillna(0, inplace=True)\n",
        "    target = observation.target\n",
        "    timestamp = observation.features[\"timestamp\"][0]\n",
        "    if timestamp % 100 == 0:\n",
        "        print(\"Timestamp #{}\".format(timestamp))\n",
        "        \n",
        "    observation, reward, done, info = env.step(target)\n",
        "    if done:\n",
        "        break\n",
        "info"
      ]
    },
    {
      "cell_type": "markdown",
      "metadata": {
        "_cell_guid": "d0054654-b8de-93f7-1a56-9ec0feffc068"
      },
      "source": [
        "Model Using Technical 20"
      ]
    },
    {
      "cell_type": "code",
      "execution_count": null,
      "metadata": {
        "_cell_guid": "3abbd0ac-faf9-c6d2-19c0-471691e08ef9"
      },
      "outputs": [],
      "source": [
        "# Get first observation\n",
        "observation = env.reset()\n",
        "\n",
        "# Get the train dataframe\n",
        "train = observation.train\n",
        "\n",
        "col = 'technical_20'\n",
        "model = models_dict[col]\n",
        "while True:\n",
        "    observation.features.fillna(mean_values, inplace=True)\n",
        "    test_x = np.array(observation.features[col].values).reshape(-1,1)\n",
        "    observation.target.y = model.predict(test_x)\n",
        "    #observation.target.fillna(0, inplace=True)\n",
        "    target = observation.target\n",
        "    timestamp = observation.features[\"timestamp\"][0]\n",
        "    if timestamp % 100 == 0:\n",
        "        print(\"Timestamp #{}\".format(timestamp))\n",
        "        \n",
        "    observation, reward, done, info = env.step(target)\n",
        "    if done:\n",
        "        break\n",
        "info"
      ]
    },
    {
      "cell_type": "markdown",
      "metadata": {
        "_cell_guid": "b2d92292-0d3a-ce1b-8b9b-ff08d25afe3a"
      },
      "source": [
        "Model Using Fundamental_11"
      ]
    },
    {
      "cell_type": "code",
      "execution_count": null,
      "metadata": {
        "_cell_guid": "a2bc9c50-07d3-fbc2-5bf4-3c06df74b4d4"
      },
      "outputs": [],
      "source": [
        "# Get first observation\n",
        "observation = env.reset()\n",
        "\n",
        "# Get the train dataframe\n",
        "train = observation.train\n",
        "\n",
        "col = 'technical_20'\n",
        "model = models_dict[col]\n",
        "while True:\n",
        "    observation.features.fillna(mean_values, inplace=True)\n",
        "    test_x = np.array(observation.features[col].values).reshape(-1,1)\n",
        "    observation.target.y = model.predict(test_x)\n",
        "    #observation.target.fillna(0, inplace=True)\n",
        "    target = observation.target\n",
        "    timestamp = observation.features[\"timestamp\"][0]\n",
        "    if timestamp % 100 == 0:\n",
        "        print(\"Timestamp #{}\".format(timestamp))\n",
        "        \n",
        "    observation, reward, done, info = env.step(target)\n",
        "    if done:\n",
        "        break\n",
        "info"
      ]
    },
    {
      "cell_type": "markdown",
      "metadata": {
        "_cell_guid": "ed6a4a7b-8579-e035-3f2b-263093124e33"
      },
      "source": [
        "Multiple Regression Model"
      ]
    },
    {
      "cell_type": "code",
      "execution_count": null,
      "metadata": {
        "_cell_guid": "3273d225-1f2f-d97f-d484-38ec0f199fe7"
      },
      "outputs": [],
      "source": [
        "# Get first observation\n",
        "observation = env.reset()\n",
        "\n",
        "# Get the train dataframe\n",
        "train = observation.train\n",
        "\n",
        "cols_to_use = ['technical_30', 'technical_20', 'fundamental_11', 'technical_19']\n",
        "\n",
        "mean_values = train.mean(axis=0)\n",
        "train.fillna(mean_values, inplace=True)\n",
        "\n",
        "model = lm.LinearRegression()\n",
        "model.fit(np.array(train[cols_to_use]), train.y.values)\n",
        "\n",
        "while True:\n",
        "    observation.features.fillna(mean_values, inplace=True)\n",
        "    test_x = np.array(observation.features[cols_to_use])\n",
        "    observation.target.y = model.predict(test_x)\n",
        "    target = observation.target\n",
        "    timestamp = observation.features[\"timestamp\"][0]\n",
        "    if timestamp % 100 == 0:\n",
        "        print(\"Timestamp #{}\".format(timestamp))\n",
        "        \n",
        "    observation, reward, done, info = env.step(target)\n",
        "    if done:\n",
        "        break\n",
        "info"
      ]
    }
  ],
  "metadata": {
    "_change_revision": 0,
    "_is_fork": false,
    "kernelspec": {
      "display_name": "Python 3",
      "language": "python",
      "name": "python3"
    },
    "language_info": {
      "codemirror_mode": {
        "name": "ipython",
        "version": 3
      },
      "file_extension": ".py",
      "mimetype": "text/x-python",
      "name": "python",
      "nbconvert_exporter": "python",
      "pygments_lexer": "ipython3",
      "version": "3.6.0"
    }
  },
  "nbformat": 4,
  "nbformat_minor": 0
}