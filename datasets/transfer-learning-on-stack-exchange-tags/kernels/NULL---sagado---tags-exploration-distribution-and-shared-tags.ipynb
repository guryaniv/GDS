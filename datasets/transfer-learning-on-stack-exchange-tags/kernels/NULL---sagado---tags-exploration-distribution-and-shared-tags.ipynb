{
  "cells": [
    {
      "cell_type": "code",
      "execution_count": null,
      "metadata": {
        "_cell_guid": "b76f41dc-eac5-89dc-48f1-0ca4fb5a7c71"
      },
      "outputs": [],
      "source": [
        "# This Python 3 environment comes with many helpful analytics libraries installed\n",
        "# It is defined by the kaggle/python docker image: https://github.com/kaggle/docker-python\n",
        "# For example, here's several helpful packages to load in \n",
        "\n",
        "import numpy as np\n",
        "import seaborn as sns\n",
        "import pandas as pd\n",
        "import itertools \n",
        "import csv\n",
        "import collections\n",
        "import matplotlib.pyplot as plt\n",
        "\n",
        "sns.set_context(\"paper\")\n",
        "%matplotlib inline\n",
        "\n",
        "RES_DIR = \"../input/\""
      ]
    },
    {
      "cell_type": "code",
      "execution_count": null,
      "metadata": {
        "_cell_guid": "bb34c73c-dcba-aad3-43ae-39c252ee2ae5"
      },
      "outputs": [],
      "source": [
        "# Load train data (skips the content column)\n",
        "def load_train_data():\n",
        "    categories = ['cooking', 'robotics', 'travel', 'crypto', 'diy', 'biology']\n",
        "    train_data = []\n",
        "    for cat in categories:\n",
        "        data = pd.read_csv(\"{}{}.csv\".format(RES_DIR, cat), usecols=['id', 'title', 'tags'])\n",
        "        data['category'] = cat\n",
        "        train_data.append(data)\n",
        "    \n",
        "    return pd.concat(train_data)"
      ]
    },
    {
      "cell_type": "code",
      "execution_count": null,
      "metadata": {
        "_cell_guid": "8bfda00f-6c8d-67ba-b03f-4632d550354b"
      },
      "outputs": [],
      "source": [
        "train_data = load_train_data()\n",
        "train_data.head()"
      ]
    },
    {
      "cell_type": "code",
      "execution_count": null,
      "metadata": {
        "_cell_guid": "3eee81bc-1fd9-8c31-718c-1e4b81fd262a"
      },
      "outputs": [],
      "source": [
        "# Distribution of questions by category\n",
        "ax = train_data['category'].value_counts().plot(kind='bar')\n",
        "ax.set_xticklabels(ax.xaxis.get_majorticklabels(), rotation=30)\n",
        "plt.show()"
      ]
    },
    {
      "cell_type": "code",
      "execution_count": null,
      "metadata": {
        "_cell_guid": "db674632-6e9b-4651-90cf-b736648359f6"
      },
      "outputs": [],
      "source": [
        "# Summary about tags\n",
        "tag_lists = [t.strip().split() for t in train_data['tags'].values]\n",
        "all_tags = list(itertools.chain(*tag_lists))\n",
        "tag_list_size = np.array([len(x) for x in tag_lists])\n",
        "print(\"\"\"The corpus is composed by {} questions. Overall {} tags have been used, of which {} unique ones. \n",
        "Average number of tags per question {:.2f} (min={}, max={}, std={:.2f})\"\"\".format(\n",
        "    len(train_data),\n",
        "    len(all_tags), len(set(all_tags)),\n",
        "    tag_list_size.mean(), \n",
        "    min(tag_list_size), max(tag_list_size),\n",
        "    tag_list_size.std()))"
      ]
    },
    {
      "cell_type": "code",
      "execution_count": null,
      "metadata": {
        "_cell_guid": "c403ccb9-f588-a365-eea9-18ee25c3ee6c"
      },
      "outputs": [],
      "source": [
        "# Distribution of number of tags per question\n",
        "sns.distplot(tag_list_size, kde=False)\n",
        "sns.plt.show()"
      ]
    },
    {
      "cell_type": "code",
      "execution_count": null,
      "metadata": {
        "_cell_guid": "4935b7e7-7791-2501-cb99-30eb1be87472"
      },
      "outputs": [],
      "source": [
        "# Utility function to return top occuring tags in the passed df\n",
        "def get_top_tags(df, n=None):\n",
        "    tags = list(itertools.chain(*[t.strip().split() for t in df['tags'].values]))\n",
        "    top_tags = collections.Counter(list(tags)).most_common(n)\n",
        "    tags, count = zip(*top_tags)\n",
        "    return tags, count"
      ]
    },
    {
      "cell_type": "code",
      "execution_count": null,
      "metadata": {
        "_cell_guid": "bb2c40be-a803-10be-c51b-4a40823ea306"
      },
      "outputs": [],
      "source": [
        "# Overall count distribution of top 20 tags\n",
        "tags, count = get_top_tags(train_data, 20)\n",
        "ax = sns.barplot(x=tags, y=count)\n",
        "ax.set_xticklabels(ax.xaxis.get_majorticklabels(), rotation=30)\n",
        "sns.plt.show()"
      ]
    },
    {
      "cell_type": "code",
      "execution_count": null,
      "metadata": {
        "_cell_guid": "5e395124-9cab-b966-4b5b-52f7f9f23403"
      },
      "outputs": [],
      "source": [
        "# Density distribution of tags by category (out of corpus total)\n",
        "fig, axes = plt.subplots(6, sharey=True)\n",
        "fig.set_size_inches(7, 10)\n",
        "fig.tight_layout()\n",
        "for i, (name, group) in enumerate(train_data.groupby('category')):\n",
        "    tags, count = get_top_tags(group, 10)\n",
        "    norm_count = np.array(count)/len(all_tags)\n",
        "    sns.barplot(x=tags, y=norm_count, ax=axes[i])\n",
        "    axes[i].set_xticklabels(axes[i].xaxis.get_majorticklabels(), rotation=30)\n",
        "    axes[i].set_xlabel(name)"
      ]
    },
    {
      "cell_type": "markdown",
      "metadata": {
        "_cell_guid": "de9e98aa-6ab5-e4b5-9bba-f91240fc80d8"
      },
      "source": [
        "### Shared Tags\n",
        "\n",
        "Explore tags that are used in more than one categories\n",
        "\n",
        "I build the needed DataFrame myself. Using [sklearn CountVectorizer](http://scikit-learn.org/stable/modules/generated/sklearn.feature_extraction.text.CountVectorizer.html) might be a quicker and maybe more reusable solution, but I find the following lines short and intuitive enough for the task."
      ]
    },
    {
      "cell_type": "code",
      "execution_count": null,
      "metadata": {
        "_cell_guid": "e3ddfcc6-5a73-1be8-a30c-ce8fe538ec50"
      },
      "outputs": [],
      "source": [
        "# Created DataFrame indexed on tags\n",
        "tags_df = pd.DataFrame(index=set(itertools.chain(*tag_lists)))\n",
        "# For each category create a column and update the flag to tag count\n",
        "for i, (name, group) in enumerate(train_data.groupby('category')):\n",
        "    tags_df[name] = 0\n",
        "    tmp_index, count = get_top_tags(group)\n",
        "    tmp = pd.Series(count, index=tmp_index)\n",
        "    tags_df[name].update(tmp)\n",
        "# Number of categories for which a tag appeared at least 1 time\n",
        "tags_df['categories_appears'] = tags_df.apply(lambda x: x.astype(bool).sum(), axis=1)\n",
        "tags_df['categories_appears'].value_counts()"
      ]
    },
    {
      "cell_type": "code",
      "execution_count": null,
      "metadata": {
        "_cell_guid": "8fde8789-02a2-6ca9-cdc0-0cf58535bcdf"
      },
      "outputs": [],
      "source": [
        "# List of tags ordered by number of categories in which they appear, with total count for each\n",
        "tags_df.sort_values('categories_appears', ascending=False)"
      ]
    },
    {
      "cell_type": "code",
      "execution_count": null,
      "metadata": {
        "_cell_guid": "f48a0e9a-1f16-d025-eec3-ec41fd0fcda8"
      },
      "outputs": [],
      "source": [
        ""
      ]
    }
  ],
  "metadata": {
    "_change_revision": 0,
    "_is_fork": false,
    "kernelspec": {
      "display_name": "Python 3",
      "language": "python",
      "name": "python3"
    },
    "language_info": {
      "codemirror_mode": {
        "name": "ipython",
        "version": 3
      },
      "file_extension": ".py",
      "mimetype": "text/x-python",
      "name": "python",
      "nbconvert_exporter": "python",
      "pygments_lexer": "ipython3",
      "version": "3.5.2"
    }
  },
  "nbformat": 4,
  "nbformat_minor": 0
}