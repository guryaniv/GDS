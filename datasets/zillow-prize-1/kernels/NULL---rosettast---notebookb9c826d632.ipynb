{
  "cells": [
    {
      "cell_type": "markdown",
      "metadata": {
        "_cell_guid": "64b727cf-0103-b553-2b3d-344c4283b67f"
      },
      "source": [
        "In this notebook,we are try to explore the data given for zillow competition.before we dive deep into the data ,let us konw little about the competition."
      ]
    },
    {
      "cell_type": "code",
      "execution_count": null,
      "metadata": {
        "_cell_guid": "199b7be1-e4f8-acc1-3250-7abc62aa2444"
      },
      "outputs": [],
      "source": [
        "# This Python 3 environment comes with many helpful analytics libraries installed\n",
        "# It is defined by the kaggle/python docker image: https://github.com/kaggle/docker-python\n",
        "# For example, here's several helpful packages to load in \n",
        "\n",
        "import numpy as np # linear algebra\n",
        "import pandas as pd # data processing, CSV file I/O (e.g. pd.read_csv)\n",
        "\n",
        "# Input data files are available in the \"../input/\" directory.\n",
        "# For example, running this (by clicking run or pressing Shift+Enter) will list the files in the input directory\n",
        "\n",
        "from subprocess import check_output\n",
        "print(check_output([\"ls\", \"../input\"]).decode(\"utf8\"))\n",
        "\n",
        "# Any results you write to the current directory are saved as output."
      ]
    },
    {
      "cell_type": "code",
      "execution_count": null,
      "metadata": {
        "_cell_guid": "25eee74d-aebe-1645-7fe6-cd8ab83d147b"
      },
      "outputs": [],
      "source": [
        "import numpy as np\n",
        "import pandas as pd \n",
        "import matplotlib.pyplot as plt\n",
        "import seaborn as sns\n",
        "color=sns.color_palette()\n",
        "\n",
        "pd.options.mode.chained_assigment=None\n",
        "pd.options.display.max_columns=999\n",
        "\n",
        "from subprocess import check_output\n",
        "print(check_output([\"ls\",\"../input\"]).decode(\"utf8\"))\n",
        "\n",
        "train_df=pd.read_csv(\"../input/train_2016.csv\",parse_dates=[\"transctiondate\"])\n",
        "train_df.shape"
      ]
    }
  ],
  "metadata": {
    "_change_revision": 0,
    "_is_fork": false,
    "kernelspec": {
      "display_name": "Python 3",
      "language": "python",
      "name": "python3"
    },
    "language_info": {
      "codemirror_mode": {
        "name": "ipython",
        "version": 3
      },
      "file_extension": ".py",
      "mimetype": "text/x-python",
      "name": "python",
      "nbconvert_exporter": "python",
      "pygments_lexer": "ipython3",
      "version": "3.6.0"
    }
  },
  "nbformat": 4,
  "nbformat_minor": 0
}