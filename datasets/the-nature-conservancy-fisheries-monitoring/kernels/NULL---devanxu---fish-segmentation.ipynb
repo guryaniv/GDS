{
  "cells": [
    {
      "cell_type": "code",
      "execution_count": null,
      "metadata": {
        "_cell_guid": "cb8185b0-76b1-448d-9863-7637988aaae5"
      },
      "outputs": [],
      "source": [
        "# This Python 3 environment comes with many helpful analytics libraries installed\n",
        "# It is defined by the kaggle/python docker image: https://github.com/kaggle/docker-python\n",
        "# For example, here's several helpful packages to load in \n",
        "%matplotlib inline\n",
        "\n",
        "import os\n",
        "import numpy as np # linear algebra\n",
        "import pandas as pd # data processing, CSV file I/O (e.g. pd.read_csv)\n",
        "import cv2\n",
        "import matplotlib.pyplot as plt\n",
        "\n",
        "# Input data files are available in the \"../input/\" directory.\n",
        "# For example, running this (by clicking run or pressing Shift+Enter) will list the files in the input directory\n",
        "\n",
        "from subprocess import check_output\n",
        "print(check_output([\"ls\", \"../input\"]).decode(\"utf8\"))\n",
        "\n",
        "# Any results you write to the current directory are saved as output."
      ]
    },
    {
      "cell_type": "code",
      "execution_count": null,
      "metadata": {
        "_cell_guid": "fd6641b3-2516-53d8-51ef-188262a4c1f7"
      },
      "outputs": [],
      "source": [
        "def get_train_samples():\n",
        "    samples = []\n",
        "    for root, dirs, files in os.walk('../input/train'):\n",
        "        for s in files:\n",
        "            samples.append(os.path.join(root, s))\n",
        "    return samples\n",
        "\n",
        "def get_test_samples():\n",
        "    samples = []\n",
        "    for root, dirs, files in os.walk('../input/test_stg1'):\n",
        "        for s in files:\n",
        "            samples.append(os.path.join(root, s))\n",
        "    return samples\n",
        "\n",
        "print(get_train_sample())\n",
        "print(get_train_sample())"
      ]
    },
    {
      "cell_type": "code",
      "execution_count": null,
      "metadata": {
        "_cell_guid": "089ba2a4-e228-4857-43bf-a728054d0795"
      },
      "outputs": [],
      "source": [
        "def get_data_set(tag):\n",
        "    path = ''\n",
        "    samples = []\n",
        "    \n",
        "    if tag == 'train':\n",
        "        path = '../input/train'\n",
        "    elif tag == 'valid':\n",
        "        #path = '../input/valid'\n",
        "        return []\n",
        "    elif tag == 'test':\n",
        "        path = '../input/test_stg1'\n",
        "    else:\n",
        "        raise RuntimeError('Not support tag {0}'.format(tag))\n",
        "    \n",
        "    for root, dirs, files in os.walk(path):\n",
        "        for s in files:\n",
        "            if s.endswith('.jpg'):\n",
        "                samples.append(os.path.join(root, s))\n",
        "    return samples"
      ]
    },
    {
      "cell_type": "code",
      "execution_count": null,
      "metadata": {
        "_cell_guid": "2d8a2620-449c-42c4-8431-8334862fe625"
      },
      "outputs": [],
      "source": [
        "train_set = get_data_set('train')\n",
        "valid_set = get_data_set('valid')\n",
        "test_set = get_data_set('test')\n",
        "print('Train set {0}, valid set {1}, test set {2}' \\\n",
        "      .format(len(train_set), len(valid_set), len(test_set)))"
      ]
    },
    {
      "cell_type": "code",
      "execution_count": null,
      "metadata": {
        "_cell_guid": "ab46524f-b577-19a9-1d95-07284a4d4d13"
      },
      "outputs": [],
      "source": [
        "print(train_set[0])\n",
        "img = cv2.imread(train_set[0])\n",
        "img = cv2.cvtColor(img, cv2.COLOR_BGR2RGB)\n",
        "plt.imshow(img)\n",
        "plt.show()"
      ]
    },
    {
      "cell_type": "code",
      "execution_count": null,
      "metadata": {
        "_cell_guid": "a749cc3d-28f9-671b-07bb-a81d4ed36961"
      },
      "outputs": [],
      "source": ""
    }
  ],
  "metadata": {
    "_change_revision": 0,
    "_is_fork": false,
    "kernelspec": {
      "display_name": "Python 3",
      "language": "python",
      "name": "python3"
    },
    "language_info": {
      "codemirror_mode": {
        "name": "ipython",
        "version": 3
      },
      "file_extension": ".py",
      "mimetype": "text/x-python",
      "name": "python",
      "nbconvert_exporter": "python",
      "pygments_lexer": "ipython3",
      "version": "3.6.0"
    }
  },
  "nbformat": 4,
  "nbformat_minor": 0
}