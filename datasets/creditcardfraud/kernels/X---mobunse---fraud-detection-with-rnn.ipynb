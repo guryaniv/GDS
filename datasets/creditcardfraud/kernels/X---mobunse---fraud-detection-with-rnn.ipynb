{
  "cells": [
    {
      "cell_type": "markdown",
      "metadata": {
        "_cell_guid": "2f8ba8af-2732-4fb4-85cc-db5e0b560feb"
      },
      "source": [
        "# Fraud Detection with RNN with LSTM\n",
        "In read about RNNs with Long-Short-Term-Memory in the context of fraujd detection. I want to apply those \n",
        "techniques on this dataset to test them.\n",
        "I want to follow the approach outlined in [this paper from Ando, Gomi and Tanaka](http://lab.iisec.ac.jp/~tanaka_lab/images/pdf/kennkyukai/kennkyukai-2016-10.pdf)."
      ]
    },
    {
      "cell_type": "code",
      "execution_count": null,
      "metadata": {
        "_cell_guid": "9acf52c6-4814-6a56-8ff5-01994c7672c2"
      },
      "outputs": [],
      "source": [
        "# This Python 3 environment comes with many helpful analytics libraries installed\n",
        "# It is defined by the kaggle/python docker image: https://github.com/kaggle/docker-python\n",
        "# For example, here's several helpful packages to load in \n",
        "\n",
        "import numpy as np # linear algebra\n",
        "import pandas as pd # data processing, CSV file I/O (e.g. pd.read_csv)\n",
        "\n",
        "# Input data files are available in the \"../input/\" directory.\n",
        "# For example, running this (by clicking run or pressing Shift+Enter) will list the files in the input directory\n",
        "\n",
        "from subprocess import check_output\n",
        "print(check_output([\"ls\", \"../input\"]).decode(\"utf8\"))\n",
        "\n",
        "# Any results you write to the current directory are saved as output."
      ]
    },
    {
      "cell_type": "markdown",
      "metadata": {
        "_cell_guid": "039ce319-5df1-e849-9372-7414f298681e"
      },
      "source": [
        "I want to use TensorFlow, since it comes with a [RNN LSTM implementation](https://www.tensorflow.org/tutorials/recurrent). "
      ]
    },
    {
      "cell_type": "code",
      "execution_count": null,
      "metadata": {
        "_cell_guid": "e3b5fb2d-c994-4a7a-0eca-1398acd8d78e"
      },
      "outputs": [],
      "source": [
        "import tensorflow as tf\n",
        "import tflearn"
      ]
    },
    {
      "cell_type": "markdown",
      "metadata": {
        "_cell_guid": "f3e2b2fb-1768-b598-a7f6-8a61915e3340"
      },
      "source": [
        "## Dataset\n",
        "\n",
        "Dataset from https://www.kaggle.com/dalpozz/creditcardfraud. I cite the description for the sake of convenience:\n",
        "\"The datasets contains transactions made by credit cards in September 2013 by european cardholders. This dataset present transactions that occurred in two days, where we have 492 frauds out of 284,807 transactions. The dataset is highly unbalanced, the positive class (frauds) account for 0.172% of all transactions.\n",
        "\n",
        "It contains only numerical input variables which are the result of a PCA transformation. Unfortunately, due to confidentiality issues, we cannot provide the original features and more background information about the data. Features V1, V2, ... V28 are the principal components obtained with PCA, the only features which have not been transformed with PCA are 'Time' and 'Amount'. Feature 'Time' contains the seconds elapsed between each transaction and the first transaction in the dataset. The feature 'Amount' is the transaction Amount, this feature can be used for example-dependant cost-senstive learning. Feature 'Class' is the response variable and it takes value 1 in case of fraud and 0 otherwise.\n",
        "\n",
        "Given the class imbalance ratio, we recommend measuring the accuracy using the Area Under the Precision-Recall Curve (AUPRC). Confusion matrix accuracy is not meaningful for unbalanced classification.\n",
        "\n",
        "The dataset has been collected and analysed during a research collaboration of Worldline and the Machine Learning Group (http://mlg.ulb.ac.be) of ULB (Universit\u00e9 Libre de Bruxelles) on big data mining and fraud detection. More details on current and past projects on related topics are available on http://mlg.ulb.ac.be/BruFence and http://mlg.ulb.ac.be/ARTML\n",
        "\n",
        "Please cite: Andrea Dal Pozzolo, Olivier Caelen, Reid A. Johnson and Gianluca Bontempi. Calibrating Probability with Undersampling for Unbalanced Classification. In Symposium on Computational Intelligence and Data Mining (CIDM), IEEE, 2015\""
      ]
    },
    {
      "cell_type": "markdown",
      "metadata": {
        "_cell_guid": "95ef06d1-d15d-f453-7772-346717511052"
      },
      "source": [
        "Another idea is shown in the following picture.\n",
        "\n",
        "All previous transactions are run individually through a neural net to produce series of vectors. Then, this series is  processed by an LSTM layer to produce a new vector based on all transactions and their order. \n",
        "The current transaction is processed by another NN and then both output vectors, the LSTM vector and the NN vector for the  current transaction are concatened and a classifier runs to classify the current transaction as fraud or no fraud.\n",
        "![Fraud RNN visualization][1]\n",
        "An according implementation for another use case is described [on YouTube](https://youtu.be/5DknTFbcGVM?t=31m52s).\n",
        "\n",
        "\n",
        "  [1]: https://lh3.googleusercontent.com/-c3ah7R2KLcc/WSSaQ7NK6SI/AAAAAAAAKCs/EKLMgzZVMhsI-ZSmnpcVOehaoFeLA7WGwCL0B/w530-d-h465-p-rw/Fraud%2BRNN.png"
      ]
    },
    {
      "cell_type": "code",
      "execution_count": null,
      "metadata": {
        "_cell_guid": "da7c190e-870c-b05d-c1c2-5bb0595b0737"
      },
      "outputs": [],
      "source": [
        "# Download the Titanic dataset\n",
        "data, labels = tflearn.data_utils.load_csv('../input/creditcard.csv', target_column=30,\n",
        "                        categorical_labels=True, n_classes=2)"
      ]
    },
    {
      "cell_type": "code",
      "execution_count": null,
      "metadata": {
        "_cell_guid": "d15b7b96-413a-96ba-2ff3-631c60e1af81"
      },
      "outputs": [],
      "source": [
        "print(data[:10])\n",
        "print(labels)"
      ]
    },
    {
      "cell_type": "markdown",
      "metadata": {
        "_cell_guid": "f5ff73f8-4ae5-5b4a-2425-1d2bf02f3b94"
      },
      "source": [
        "I want to use tflearn's [RNN LSTM](http://tflearn.org/layers/recurrent/#lstm)."
      ]
    },
    {
      "cell_type": "code",
      "execution_count": null,
      "metadata": {
        "_cell_guid": "367ff8b6-ff0f-9b73-82f7-476f969aec98"
      },
      "outputs": [],
      "source": [
        ""
      ]
    }
  ],
  "metadata": {
    "_change_revision": 0,
    "_is_fork": false,
    "kernelspec": {
      "display_name": "Python 3",
      "language": "python",
      "name": "python3"
    },
    "language_info": {
      "codemirror_mode": {
        "name": "ipython",
        "version": 3
      },
      "file_extension": ".py",
      "mimetype": "text/x-python",
      "name": "python",
      "nbconvert_exporter": "python",
      "pygments_lexer": "ipython3",
      "version": "3.6.0"
    }
  },
  "nbformat": 4,
  "nbformat_minor": 0
}