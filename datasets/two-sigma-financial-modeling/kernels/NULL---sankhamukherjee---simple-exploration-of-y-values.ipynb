{
  "cells": [
    {
      "cell_type": "markdown",
      "metadata": {
        "_cell_guid": "98278cdf-5a15-7335-ec09-3d7462efee30"
      },
      "source": [
        "**Simple Notebook for exploring the data ...**"
      ]
    },
    {
      "cell_type": "code",
      "execution_count": null,
      "metadata": {
        "_cell_guid": "82bb923a-06ca-dd74-169a-2bd0472f2446"
      },
      "outputs": [],
      "source": [
        "import numpy as np \n",
        "import pandas as pd \n",
        "from scipy import signal\n",
        "import matplotlib.pyplot as plt\n",
        "\n",
        "import kagglegym"
      ]
    },
    {
      "cell_type": "code",
      "execution_count": null,
      "metadata": {
        "_cell_guid": "6fc7065c-3bb0-c605-762b-4d1de978db98"
      },
      "outputs": [],
      "source": [
        "# This part is going to be for explorind the dataset ...\n",
        "# so we want the entire dataset ..\n",
        "with pd.HDFStore(\"../input/train.h5\", \"r\") as train:\n",
        "    df = train.get(\"train\")"
      ]
    },
    {
      "cell_type": "code",
      "execution_count": null,
      "metadata": {
        "_cell_guid": "35fd1f6c-7b87-b017-a6af-06aa6e1e03c6"
      },
      "outputs": [],
      "source": [
        "list(set([c.split('_')[0] for c in df.columns]))"
      ]
    },
    {
      "cell_type": "markdown",
      "metadata": {
        "_cell_guid": "1070837b-aa33-4d91-6dbb-240fa1f5608e"
      },
      "source": [
        "So there are three types of main cells. \n",
        "\n",
        " - `timestamp`: current timestamp\n",
        " - `y`: This is what we want to predict\n",
        " - [`fundamental`, `derived`, `technical`]: these are our predictors"
      ]
    },
    {
      "cell_type": "code",
      "execution_count": null,
      "metadata": {
        "_cell_guid": "e76269ec-415d-53c9-318c-b24373015d05"
      },
      "outputs": [],
      "source": [
        "# Finding distributions of the result\n",
        "\n",
        "df1 = df[['timestamp', 'y']].groupby('timestamp').agg([np.mean, np.std, len]).reset_index()\n",
        "df1.head()"
      ]
    },
    {
      "cell_type": "code",
      "execution_count": null,
      "metadata": {
        "_cell_guid": "53a96e02-4688-c816-9496-36f1d9a11724"
      },
      "outputs": [],
      "source": [
        "n     = df1['timestamp']\n",
        "yMean = np.array(df1['y']['mean'])\n",
        "yStd  = np.array(df1['y']['std'])\n",
        "\n",
        "plt.figure()\n",
        "plt.plot(n, yMean, '.')\n",
        "plt.xlabel('n')\n",
        "plt.ylabel('$y_{mean}$[n]')\n",
        "\n",
        "plt.figure()\n",
        "plt.plot(n, yStd, '.')\n",
        "plt.xlabel('n')\n",
        "plt.ylabel('$y_{std}$[n]')\n",
        "\n",
        "plt.figure()\n",
        "plt.plot(np.array(df1['y']['len']), yStd, '.')\n",
        "plt.xlabel('len')\n",
        "plt.ylabel('$y_{std}$[n]')\n",
        "\n",
        "plt.figure()\n",
        "plt.plot(np.array(df1['y']['len']), yMean, '.')\n",
        "plt.xlabel('len')\n",
        "plt.ylabel('$y_{mean}$[n]')\n",
        "\n",
        "plt.figure()\n",
        "plt.plot(np.diff(yMean), '.')\n",
        "plt.xlabel('n')\n",
        "plt.ylabel('$y_{mean}$[n] $-$ $y_{mean}$[n-1]')\n",
        "\n",
        "plt.figure()\n",
        "plt.plot( yMean[:-1] , yMean[1:] , '.')\n",
        "plt.xlabel('$y_{mean}$[n]')\n",
        "plt.ylabel('$y_{mean}$[n-1]')"
      ]
    },
    {
      "cell_type": "markdown",
      "metadata": {
        "_cell_guid": "61c7cfa2-2586-262c-04bc-dd12b076e1cf"
      },
      "source": [
        "Wow, there seems to be absolutely no correlations "
      ]
    },
    {
      "cell_type": "code",
      "execution_count": null,
      "metadata": {
        "_cell_guid": "7740b8db-63ae-4e2d-322a-461fc0a76abb"
      },
      "outputs": [],
      "source": [
        "#Calculate running averages ...\n",
        "#yMeanRA = np.cumsum( yMean )/np.linspace( 1, len(yMean), len(yMean) )\n",
        "#yStdRA  = np.cumsum( yStd )/np.linspace( 1, len(yMean), len(yMean) )\n",
        "\n",
        "yMeanCumsum = np.cumsum( yMean )\n",
        "f, t, Syy   =  signal.spectrogram(yMeanCumsum)\n",
        "\n",
        "slope1 = np.mean(yMean)\n",
        "slope2 = np.mean(df['y'])\n",
        "slope3 = np.mean(df['y'][df.timestamp < 906])\n",
        "\n",
        "plt.figure()\n",
        "plt.plot(n, yMeanCumsum, '.')\n",
        "plt.plot(n, slope1*n, color='black', lw=2 ) \n",
        "plt.plot(n, slope2*n, color='orange', lw=2 ) \n",
        "plt.plot(n, slope2*n, color='indianred', lw=2 ) \n",
        "plt.xlabel('n')\n",
        "plt.ylabel('$y_{mean}$[n] - Cumsum')\n",
        "\n",
        "plt.figure()\n",
        "plt.pcolormesh(t, f, np.log10(Syy))\n",
        "plt.ylabel('Frequency')\n",
        "plt.xlabel('Time')\n",
        "plt.colorbar()"
      ]
    },
    {
      "cell_type": "markdown",
      "metadata": {
        "_cell_guid": "1601448f-6da5-23c0-d4c4-b155db334738"
      },
      "source": [
        "The cumulative sum seems to be increasing linearly. Is there something there??? I need to find a linear trend and see of there is something that can be obtained form there. The linear "
      ]
    },
    {
      "cell_type": "code",
      "execution_count": null,
      "metadata": {
        "_cell_guid": "3ad71b86-d6ca-e294-d8e0-c315a8878239"
      },
      "outputs": [],
      "source": [
        "# Remember that the training contains timestamps upto 905\n",
        "np.mean(yMean), np.mean(df['y']), np.mean(df['y'][df.timestamp < 906])"
      ]
    },
    {
      "cell_type": "markdown",
      "metadata": {
        "_cell_guid": "8753e114-a30c-b8d4-0c7b-4a671c20f639"
      },
      "source": [
        "This means that the mean of y is greater than zero. This is great. This tells us that the slope overall should be positive. Now, lets find out if we will be able to find significant deviations from the mean. The way we want to check is to see of the standard deviations for a day is a meaningful measure of predicting deviations from the mean ...\n",
        "\n",
        "The following calculations are not realistic because we have a *look-ahead bias*. But right now we don't care."
      ]
    },
    {
      "cell_type": "code",
      "execution_count": null,
      "metadata": {
        "_cell_guid": "a078131a-5654-fbd8-d7c5-7e4be8b40b85"
      },
      "outputs": [],
      "source": [
        "dev = yMeanCumsum - np.mean(yMean)*n\n",
        "\n",
        "plt.figure()\n",
        "plt.plot(n, dev, '.')\n",
        "plt.axhline(color='black', ls='--')\n",
        "plt.xlabel('n')\n",
        "plt.ylabel('$y_{mean}$[n] - without the slope')\n",
        "\n",
        "plt.figure()\n",
        "plt.plot(dev[1:], dev[:-1], '.')\n",
        "plt.xlabel('$y_{std}$ [n]')\n",
        "plt.ylabel('$y_{std}$ [n-1]')\n",
        "\n",
        "plt.figure()\n",
        "plt.plot(np.abs(dev), yStd, '.')\n",
        "plt.xlabel('deviations from the mean')\n",
        "plt.ylabel('$y_{std}$')"
      ]
    },
    {
      "cell_type": "code",
      "execution_count": null,
      "metadata": {
        "_cell_guid": "8a74a212-1ae4-b7ab-2a1c-5595abba3f45"
      },
      "outputs": [],
      "source": [
        "def getScore(slope):\n",
        "    rewards = []\n",
        "    print(slope)\n",
        "    env = kagglegym.make()\n",
        "    observation = env.reset()\n",
        "\n",
        "    while True:\n",
        "        target    = observation.target\n",
        "        timestamp = observation.features[\"timestamp\"][0]\n",
        "        target['y'] = slope\n",
        "\n",
        "        observation, reward, done, info = env.step(target)\n",
        "        rewards.append(reward)\n",
        "        if done: break\n",
        "            \n",
        "    return info['public_score'], rewards"
      ]
    },
    {
      "cell_type": "code",
      "execution_count": null,
      "metadata": {
        "_cell_guid": "5a012fda-6666-4a8c-bc0c-412e64ce0ddd"
      },
      "outputs": [],
      "source": [
        "slope = 0.0002182\n",
        "x1 = np.linspace(slope - 0.0001, slope+0.0001 , 4)\n",
        "y1 = [ getScore(m) for m in x1 ]\n",
        "y1, rewards = zip(*y1)\n",
        "\n",
        "plt.plot(x1, y1, 's-', color='green', mfc='green', mec='black')\n",
        "plt.figure()\n",
        "for r in rewards:\n",
        "    plt.plot(r)"
      ]
    },
    {
      "cell_type": "markdown",
      "metadata": {
        "_cell_guid": "2d765586-c070-19f9-00d9-1006ea5e2872"
      },
      "source": [
        "I have to figure out what this rewards this is "
      ]
    },
    {
      "cell_type": "code",
      "execution_count": null,
      "metadata": {
        "_cell_guid": "64f75130-33f2-4cf6-3e43-c7b374ae3d55"
      },
      "outputs": [],
      "source": [
        "list(map(np.mean, rewards))"
      ]
    },
    {
      "cell_type": "code",
      "execution_count": null,
      "metadata": {
        "_cell_guid": "8bf50f64-53f4-0ab6-688b-342ba5397cd7"
      },
      "outputs": [],
      "source": [
        "columns = [c for c in df.columns if 'fundamental' in c]\n",
        "columns1 = columns + ['timestamp']\n",
        "df2 = df[columns1].groupby('timestamp').agg([np.mean]).reset_index()\n",
        "\n",
        "i = 0; N=5\n",
        "while True:\n",
        "    \n",
        "    if i >= len(columns): break\n",
        "    for j in range(N):    \n",
        "        if i >= len(columns): break\n",
        "        \n",
        "        if j == 0:\n",
        "            plt.figure(figsize=(8,8.0/N))\n",
        "        \n",
        "        plt.axes([j*1.0/N,0,1.0/N,1])\n",
        "        plt.plot(df2['timestamp'], df2[ columns[i] ])\n",
        "        plt.xticks([]); plt.yticks([])\n",
        "        i += 1 "
      ]
    },
    {
      "cell_type": "markdown",
      "metadata": {
        "_cell_guid": "827818be-b361-dab7-a37a-29e64d56cc99"
      },
      "source": [
        "Looks like there are a lot of features which correspond very closely to each other. Also, some of them are correlated to the cumulative sum. We want to check if there is some sort of correlation between the different values of fundamental, and y"
      ]
    },
    {
      "cell_type": "code",
      "execution_count": null,
      "metadata": {
        "_cell_guid": "cfa6b916-2884-3a2a-5d16-f34facbf7864"
      },
      "outputs": [],
      "source": [
        "import seaborn as sns\n",
        "corrColumns = [c for c in df2.columns if 'timestamp'not in c]\n",
        "fundamentals = np.array([df2[c] for c in corrColumns])\n",
        "Corr = np.corrcoef( dev, fundamentals )\n",
        "sns.clustermap( pd.DataFrame(np.abs(Corr), columns=['---y--']+[c[0].split('_')[1] for c in corrColumns]) )"
      ]
    },
    {
      "cell_type": "markdown",
      "metadata": {
        "_cell_guid": "27435e31-59f1-38dd-337d-ca65b4dc7cec"
      },
      "source": [
        "A whole lot of stuff is correlated to the deviation form the mean. This is what we are trying to predict. "
      ]
    }
  ],
  "metadata": {
    "_change_revision": 0,
    "_is_fork": false,
    "kernelspec": {
      "display_name": "Python 3",
      "language": "python",
      "name": "python3"
    },
    "language_info": {
      "codemirror_mode": {
        "name": "ipython",
        "version": 3
      },
      "file_extension": ".py",
      "mimetype": "text/x-python",
      "name": "python",
      "nbconvert_exporter": "python",
      "pygments_lexer": "ipython3",
      "version": "3.5.2"
    }
  },
  "nbformat": 4,
  "nbformat_minor": 0
}