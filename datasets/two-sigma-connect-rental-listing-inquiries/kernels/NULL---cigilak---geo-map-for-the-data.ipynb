{
  "cells": [
    {
      "cell_type": "markdown",
      "metadata": {
        "_cell_guid": "5d809bd8-5caf-9cf3-fbc8-584abf043dd0"
      },
      "source": [
        "Geo Map for the Data "
      ]
    },
    {
      "cell_type": "code",
      "execution_count": null,
      "metadata": {
        "_cell_guid": "0bfb53f0-b739-f4c3-f0bc-81f544894197"
      },
      "outputs": [],
      "source": [
        "# This Python 3 environment comes with many helpful analytics libraries installed\n",
        "# It is defined by the kaggle/python docker image: https://github.com/kaggle/docker-python\n",
        "# For example, here's several helpful packages to load in \n",
        "\n",
        "import numpy as np # linear algebra\n",
        "import pandas as pd # data processing, CSV file I/O (e.g. pd.read_csv)\n",
        "import matplotlib.pyplot as plt\n",
        "from mpl_toolkits.basemap import Basemap\n",
        "# Input data files are available in the \"../input/\" directory.\n",
        "# For example, running this (by clicking run or pressing Shift+Enter) will list the files in the input directory\n",
        "\n",
        "from subprocess import check_output\n",
        "print(check_output([\"ls\", \"../input\"]).decode(\"utf8\"))\n",
        "\n",
        "# Any results you write to the current directory are saved as output."
      ]
    },
    {
      "cell_type": "code",
      "execution_count": null,
      "metadata": {
        "_cell_guid": "dd438662-dcb0-3f62-c101-bafba230cc4d"
      },
      "outputs": [],
      "source": [
        "train_df = pd.read_json(\"../input/train.json\")\n",
        "test_df = pd.read_json(\"../input/test.json\")\n",
        "train_test = pd.concat([train_df, test_df], 0)\n",
        "longitude = train_df['longitude'].value_counts()\n",
        "latitude = train_df['longitude'].value_counts()\n",
        "map = Basemap(llcrnrlon=-75,llcrnrlat=40,urcrnrlon=-72,urcrnrlat=41, resolution='h',projection='cass',lon_0=-73,lat_0=40)\n",
        "\n",
        "\n",
        "map.drawmapboundary(fill_color='aqua')\n",
        "map.fillcontinents(color='coral',lake_color='aqua')\n",
        "map.drawcoastlines()\n",
        "lons = np.array(train_df['longitude'])\n",
        "lats = np.array(train_df['latitude'])\n",
        "x,y = map(lons, lats)\n",
        "print(x,y)\n",
        "map.scatter(x, y, marker='D',color='m')\n",
        "\n",
        "plt.show()"
      ]
    },
    {
      "cell_type": "code",
      "execution_count": null,
      "metadata": {
        "_cell_guid": "54285618-08d2-a522-ecf9-2d9ad76c1c27"
      },
      "outputs": [],
      "source": [
        "#Seems Like we have listings that are close to the water bodies. \n",
        "#It seems that we have listing in the water too. They are the outliers in the data that we see. \n",
        "#Hope that this visualisation would be helpful."
      ]
    }
  ],
  "metadata": {
    "_change_revision": 0,
    "_is_fork": false,
    "kernelspec": {
      "display_name": "Python 3",
      "language": "python",
      "name": "python3"
    },
    "language_info": {
      "codemirror_mode": {
        "name": "ipython",
        "version": 3
      },
      "file_extension": ".py",
      "mimetype": "text/x-python",
      "name": "python",
      "nbconvert_exporter": "python",
      "pygments_lexer": "ipython3",
      "version": "3.6.0"
    }
  },
  "nbformat": 4,
  "nbformat_minor": 0
}