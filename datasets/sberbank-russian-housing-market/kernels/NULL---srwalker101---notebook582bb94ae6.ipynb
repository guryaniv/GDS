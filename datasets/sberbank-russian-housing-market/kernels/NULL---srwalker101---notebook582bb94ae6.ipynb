{
  "cells": [
    {
      "cell_type": "code",
      "execution_count": null,
      "metadata": {
        "_cell_guid": "8149afa0-7cfe-6e27-931e-d3314dfe72ec"
      },
      "outputs": [],
      "source": [
        "%matplotlib notebook\n",
        "\n",
        "# This Python 3 environment comes with many helpful analytics libraries installed\n",
        "# It is defined by the kaggle/python docker image: https://github.com/kaggle/docker-python\n",
        "# For example, here's several helpful packages to load in \n",
        "\n",
        "import numpy as np # linear algebra\n",
        "import pandas as pd # data processing, CSV file I/O (e.g. pd.read_csv)\n",
        "from scipy.stats import spearmanr\n",
        "import matplotlib.pyplot as plt\n",
        "\n",
        "# Input data files are available in the \"../input/\" directory.\n",
        "# For example, running this (by clicking run or pressing Shift+Enter) will list the files in the input directory\n",
        "\n",
        "from subprocess import check_output\n",
        "print(check_output([\"ls\", \"../input\"]).decode(\"utf8\"))\n",
        "\n",
        "# Any results you write to the current directory are saved as output."
      ]
    },
    {
      "cell_type": "code",
      "execution_count": null,
      "metadata": {
        "_cell_guid": "786d5959-1b6a-7278-57ac-46217893f082"
      },
      "outputs": [],
      "source": [
        "train = pd.read_csv('../input/train.csv')\n",
        "print(train.head())"
      ]
    },
    {
      "cell_type": "code",
      "execution_count": null,
      "metadata": {
        "_cell_guid": "91ff95c2-7944-ffa6-bd0e-418a33197b70"
      },
      "outputs": [],
      "source": [
        "print(train.columns)"
      ]
    },
    {
      "cell_type": "code",
      "execution_count": null,
      "metadata": {
        "_cell_guid": "5485cba5-9e92-c050-5248-4e45afd88be8"
      },
      "outputs": [],
      "source": [
        "other_columns = list(set(train.columns) - set(['price_doc']))\n",
        "spr_mapping = {}\n",
        "y = train['price_doc']\n",
        "for column in other_columns:\n",
        "    x = train[column]\n",
        "    spr, p = spearmanr(x, y, nan_policy='omit')\n",
        "    spr_mapping[column] = spr\n",
        "spr_values = list(spr_mapping.items())"
      ]
    },
    {
      "cell_type": "code",
      "execution_count": null,
      "metadata": {
        "_cell_guid": "e521efea-e417-34c5-bd13-a103852b02eb"
      },
      "outputs": [],
      "source": [
        "spr_values[:5]"
      ]
    },
    {
      "cell_type": "code",
      "execution_count": null,
      "metadata": {
        "_cell_guid": "aa1e053b-0f33-3a6d-883d-1c53fce6296b"
      },
      "outputs": [],
      "source": [
        "spr_values.sort(key=lambda row: abs(row[1]))"
      ]
    },
    {
      "cell_type": "code",
      "execution_count": null,
      "metadata": {
        "_cell_guid": "50f73e00-19c6-b4cd-846a-e804360e4ad1"
      },
      "outputs": [],
      "source": [
        "spr_values[-10:]"
      ]
    },
    {
      "cell_type": "code",
      "execution_count": null,
      "metadata": {
        "_cell_guid": "afe321c2-507e-a59e-fe74-80a03cebc6e8"
      },
      "outputs": [],
      "source": [
        "fig, axes = plt.subplots(3, 3, sharex=True)"
      ]
    }
  ],
  "metadata": {
    "_change_revision": 0,
    "_is_fork": false,
    "kernelspec": {
      "display_name": "Python 3",
      "language": "python",
      "name": "python3"
    },
    "language_info": {
      "codemirror_mode": {
        "name": "ipython",
        "version": 3
      },
      "file_extension": ".py",
      "mimetype": "text/x-python",
      "name": "python",
      "nbconvert_exporter": "python",
      "pygments_lexer": "ipython3",
      "version": "3.6.0"
    }
  },
  "nbformat": 4,
  "nbformat_minor": 0
}