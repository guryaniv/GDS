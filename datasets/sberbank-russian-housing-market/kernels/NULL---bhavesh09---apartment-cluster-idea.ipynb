{
  "cells": [
    {
      "cell_type": "code",
      "execution_count": null,
      "metadata": {
        "_cell_guid": "1ddc1b40-71f4-0141-4c14-286a088bb28e"
      },
      "outputs": [],
      "source": [
        "import numpy as np # linear algebra\n",
        "import pandas as pd # data processing, CSV file I/O (e.g. pd.read_csv)\n",
        "import matplotlib.pyplot as plt\n",
        "import seaborn as sns"
      ]
    },
    {
      "cell_type": "code",
      "execution_count": null,
      "metadata": {
        "_cell_guid": "252a82af-c215-e739-c1ab-4e7346448958"
      },
      "outputs": [],
      "source": [
        "train = pd.read_csv(\"../input/train.csv\", parse_dates=['timestamp'])\n",
        "test = pd.read_csv(\"../input/test.csv\", parse_dates=['timestamp'])\n",
        "macro = pd.read_csv(\"../input/macro.csv\", parse_dates=['timestamp'])"
      ]
    },
    {
      "cell_type": "markdown",
      "metadata": {
        "_cell_guid": "391649f3-5b70-fb36-a4c1-77fab613c93a"
      },
      "source": [
        "All of following `features` are dependant on sub_area. Now if we have sub_area as feature, we don't need other features which are totally dependant on sub_area. This will make data much more manageable."
      ]
    },
    {
      "cell_type": "code",
      "execution_count": null,
      "metadata": {
        "_cell_guid": "6d6ce186-b4ff-9d09-7d7b-c804f4a9a238"
      },
      "outputs": [],
      "source": [
        "train.drop('area_m',axis=1,inplace=True)\n",
        "train.drop('raion_popul',axis=1,inplace=True)\n",
        "train.drop('green_zone_part',axis=1,inplace=True)\n",
        "train.drop('indust_part',axis=1,inplace=True)\n",
        "train.drop('children_preschool',axis=1,inplace=True)\n",
        "train.drop('preschool_quota',axis=1,inplace=True)\n",
        "train.drop('preschool_education_centers_raion',axis=1,inplace=True)\n",
        "train.drop('children_school',axis=1,inplace=True)\n",
        "train.drop('school_quota',axis=1,inplace=True)\n",
        "train.drop('school_education_centers_raion',axis=1,inplace=True)\n",
        "train.drop('school_education_centers_top_20_raion',axis=1,inplace=True)\n",
        "train.drop('hospital_beds_raion',axis=1,inplace=True)\n",
        "train.drop('healthcare_centers_raion',axis=1,inplace=True)\n",
        "train.drop('university_top_20_raion',axis=1,inplace=True)\n",
        "train.drop('sport_objects_raion',axis=1,inplace=True)\n",
        "train.drop('additional_education_raion',axis=1,inplace=True)\n",
        "train.drop('culture_objects_top_25',axis=1,inplace=True)\n",
        "train.drop('culture_objects_top_25_raion',axis=1,inplace=True)\n",
        "train.drop('shopping_centers_raion',axis=1,inplace=True)\n",
        "train.drop('office_raion',axis=1,inplace=True)\n",
        "train.drop('thermal_power_plant_raion',axis=1,inplace=True)\n",
        "train.drop('incineration_raion',axis=1,inplace=True)\n",
        "train.drop('oil_chemistry_raion',axis=1,inplace=True)\n",
        "train.drop('radiation_raion',axis=1,inplace=True)\n",
        "train.drop('railroad_terminal_raion',axis=1,inplace=True)\n",
        "train.drop('big_market_raion',axis=1,inplace=True)\n",
        "train.drop('nuclear_reactor_raion',axis=1,inplace=True)\n",
        "train.drop('detention_facility_raion',axis=1,inplace=True)\n",
        "train.drop('full_all',axis=1,inplace=True)\n",
        "train.drop('male_f',axis=1,inplace=True)\n",
        "train.drop('female_f',axis=1,inplace=True)\n",
        "train.drop('young_all',axis=1,inplace=True)\n",
        "train.drop('young_male',axis=1,inplace=True)\n",
        "train.drop('young_female',axis=1,inplace=True)\n",
        "train.drop('work_all',axis=1,inplace=True)\n",
        "train.drop('work_male',axis=1,inplace=True)\n",
        "train.drop('work_female',axis=1,inplace=True)\n",
        "train.drop('ekder_all',axis=1,inplace=True)\n",
        "train.drop('ekder_male',axis=1,inplace=True)\n",
        "train.drop('ekder_female',axis=1,inplace=True)\n",
        "train.drop('0_6_all',axis=1,inplace=True)\n",
        "train.drop('0_6_male',axis=1,inplace=True)\n",
        "train.drop('0_6_female',axis=1,inplace=True)\n",
        "train.drop('7_14_all',axis=1,inplace=True)\n",
        "train.drop('7_14_male',axis=1,inplace=True)\n",
        "train.drop('7_14_female',axis=1,inplace=True)\n",
        "train.drop('0_17_all',axis=1,inplace=True)\n",
        "train.drop('0_17_male',axis=1,inplace=True)\n",
        "train.drop('0_17_female',axis=1,inplace=True)\n",
        "train.drop('16_29_all',axis=1,inplace=True)\n",
        "train.drop('16_29_male',axis=1,inplace=True)\n",
        "train.drop('16_29_female',axis=1,inplace=True)\n",
        "train.drop('0_13_all',axis=1,inplace=True)\n",
        "train.drop('0_13_male',axis=1,inplace=True)\n",
        "train.drop('0_13_female',axis=1,inplace=True)\n",
        "train.drop('raion_build_count_with_material_info',axis=1,inplace=True)\n",
        "train.drop('build_count_block',axis=1,inplace=True)\n",
        "train.drop('build_count_wood',axis=1,inplace=True)\n",
        "train.drop('build_count_frame',axis=1,inplace=True)\n",
        "train.drop('build_count_brick',axis=1,inplace=True)\n",
        "train.drop('build_count_monolith',axis=1,inplace=True)\n",
        "train.drop('build_count_panel',axis=1,inplace=True)\n",
        "train.drop('build_count_foam',axis=1,inplace=True)\n",
        "train.drop('build_count_slag',axis=1,inplace=True)\n",
        "train.drop('build_count_mix',axis=1,inplace=True)\n",
        "train.drop('raion_build_count_with_builddate_info',axis=1,inplace=True)\n",
        "train.drop('build_count_before_1920',axis=1,inplace=True)\n",
        "train.drop('build_count_1921-1945',axis=1,inplace=True)\n",
        "train.drop('build_count_1946-1970',axis=1,inplace=True)\n",
        "train.drop('build_count_1971-1995',axis=1,inplace=True)\n",
        "train.drop('build_count_after_1995',axis=1,inplace=True)"
      ]
    },
    {
      "cell_type": "code",
      "execution_count": null,
      "metadata": {
        "_cell_guid": "63592654-194a-3ec2-9fbd-35c9c491768e"
      },
      "outputs": [],
      "source": [
        "train.head(5)"
      ]
    },
    {
      "cell_type": "markdown",
      "metadata": {
        "_cell_guid": "f735f1c3-8173-cad7-4ea5-300586c88867"
      },
      "source": [
        "Let's find % of missing records in each column."
      ]
    },
    {
      "cell_type": "code",
      "execution_count": null,
      "metadata": {
        "_cell_guid": "73c047b2-2206-b41d-fef4-b74c7853c624"
      },
      "outputs": [],
      "source": [
        "#Finding % of missing records\n",
        "total = train.isnull().sum().sort_values(ascending=False)\n",
        "percent = (train.isnull().sum()/train.isnull().count()).sort_values(ascending=False)\n",
        "missing_data = pd.concat([total, percent], axis=1, keys=['Total', 'Percent'])"
      ]
    },
    {
      "cell_type": "code",
      "execution_count": null,
      "metadata": {
        "_cell_guid": "29a19301-723d-f1a4-7661-dedb372a211c"
      },
      "outputs": [],
      "source": [
        "plt.rcParams['figure.figsize'] = (10, 8)\n",
        "missing_data[missing_data.Percent>0].plot(kind = \"barh\")"
      ]
    },
    {
      "cell_type": "code",
      "execution_count": null,
      "metadata": {
        "_cell_guid": "e5f6d703-fd85-4fb0-b86f-c0279207db17"
      },
      "outputs": [],
      "source": [
        "missing_data[missing_data.Percent>0]"
      ]
    },
    {
      "cell_type": "markdown",
      "metadata": {
        "_cell_guid": "4ccef6eb-7b36-d55b-e262-c5da52370ed5"
      },
      "source": [
        "****Work In Progress.**** I want to create apartment cluster feature based on distance based features. Assumption is that if more than one building shares same distance features than they belong to same apartment."
      ]
    },
    {
      "cell_type": "code",
      "execution_count": null,
      "metadata": {
        "_cell_guid": "96fefcc5-3e05-edc5-e903-2d9dd070b11c"
      },
      "outputs": [],
      "source": [
        "plt.figure(figsize=(8,6))\n",
        "plt.scatter(train.ID_railroad_station_walk,train.ID_railroad_station_avto)\n",
        "plt.xlabel('ID_railroad_station_walk', fontsize=12)\n",
        "plt.ylabel('ID_railroad_station_avto', fontsize=12)\n",
        "plt.show()"
      ]
    },
    {
      "cell_type": "code",
      "execution_count": null,
      "metadata": {
        "_cell_guid": "6f240ade-7494-c55d-58a2-38a1a01b228f"
      },
      "outputs": [],
      "source": [
        "train.describe(include=['O'])"
      ]
    },
    {
      "cell_type": "code",
      "execution_count": null,
      "metadata": {
        "_cell_guid": "408f7a3b-71bf-87cc-ca05-58dc0ea7c78f"
      },
      "outputs": [],
      "source": [
        "railroad_diff = train.ID_railroad_station_walk-train.ID_railroad_station_avto"
      ]
    },
    {
      "cell_type": "code",
      "execution_count": null,
      "metadata": {
        "_cell_guid": "4c180b8c-8f5c-30e8-3c30-473788f8289a"
      },
      "outputs": [],
      "source": [
        "railroad_diff.hist()"
      ]
    },
    {
      "cell_type": "markdown",
      "metadata": {
        "_cell_guid": "8532e24c-1593-27ac-de93-fc4e3fe3b839"
      },
      "source": [
        "Strong co-relation between ID_railroad_station_walk and ID_railroad_station_avto. Both value for most of the cases is same. So let's replace null values of ID_railroad_station_walk  with ID_railroad_station_avto."
      ]
    },
    {
      "cell_type": "code",
      "execution_count": null,
      "metadata": {
        "_cell_guid": "f36c8b61-9345-f8fd-6e9d-8d1242594514"
      },
      "outputs": [],
      "source": [
        "train['ID_railroad_station_walk']=train['ID_railroad_station_walk'].fillna(train.ID_railroad_station_avto)"
      ]
    },
    {
      "cell_type": "markdown",
      "metadata": {
        "_cell_guid": "543901a8-ddc2-6cc5-0477-87dd782bd953"
      },
      "source": [
        "Now let's explore other features: railroad_station_walk_min & railroad_station_walk_min"
      ]
    },
    {
      "cell_type": "code",
      "execution_count": null,
      "metadata": {
        "_cell_guid": "7a4804ac-ebf5-c882-31db-4565cc2a85d9"
      },
      "outputs": [],
      "source": [
        "#correlation matrix\n",
        "corrmat = train.corr()"
      ]
    },
    {
      "cell_type": "code",
      "execution_count": null,
      "metadata": {
        "_cell_guid": "7ea65147-8598-ac3b-de84-30740b0c6a72"
      },
      "outputs": [],
      "source": [
        "fig, ax = plt.subplots(figsize=(12,12))\n",
        "corrmat['railroad_station_walk_min'].sort_values().tail(10).plot(kind = \"barh\")\n",
        "ax.set_title(\"Co-relation of other features with railroad_station_walk_min\")\n",
        "plt.show()"
      ]
    },
    {
      "cell_type": "code",
      "execution_count": null,
      "metadata": {
        "_cell_guid": "e7bc9ac6-0352-b446-d3ed-517fe3ae0212"
      },
      "outputs": [],
      "source": [
        "plt.figure(figsize=(8,6))\n",
        "plt.scatter(train.ID_railroad_station_walk,train.ID_railroad_station_avto)\n",
        "plt.xlabel('railroad_station_walk_min', fontsize=12)\n",
        "plt.ylabel('railroad_station_avto_min', fontsize=12)\n",
        "plt.show()"
      ]
    },
    {
      "cell_type": "code",
      "execution_count": null,
      "metadata": {
        "_cell_guid": "09ef823f-7297-fff8-9e15-f63055ef8d67"
      },
      "outputs": [],
      "source": [
        "train['railroad_station_walk_min']=train['railroad_station_walk_min'].fillna(train.railroad_station_avto_min)"
      ]
    },
    {
      "cell_type": "code",
      "execution_count": null,
      "metadata": {
        "_cell_guid": "642ecfac-10bb-098b-a3c7-401049daff18"
      },
      "outputs": [],
      "source": [
        "fig, ax = plt.subplots(figsize=(12,12))\n",
        "corrmat['railroad_station_walk_km'].sort_values().tail(10).plot(kind = \"barh\")\n",
        "ax.set_title(\"Co-relation of other features with railroad_station_walk_km\")\n",
        "plt.show()"
      ]
    },
    {
      "cell_type": "code",
      "execution_count": null,
      "metadata": {
        "_cell_guid": "7b6ad780-b5f7-9eaf-b216-384dcfba44e1"
      },
      "outputs": [],
      "source": [
        "train['railroad_station_walk_km']=train['railroad_station_walk_km'].fillna(train.railroad_station_avto_km)"
      ]
    },
    {
      "cell_type": "code",
      "execution_count": null,
      "metadata": {
        "_cell_guid": "2e3d5ba3-8c7d-0d70-48fa-c71443037641"
      },
      "outputs": [],
      "source": [
        "fig, ax = plt.subplots(figsize=(10,10))\n",
        "corrmat['metro_min_walk'].sort_values().tail(10).plot(kind = \"barh\")\n",
        "ax.set_title(\"Co-relation of other features with metro_min_walk\")\n",
        "plt.show()"
      ]
    },
    {
      "cell_type": "code",
      "execution_count": null,
      "metadata": {
        "_cell_guid": "a48bf86c-ffe1-4fa5-c98b-b065c55748e8"
      },
      "outputs": [],
      "source": [
        "train['metro_km_walk']=train['metro_km_walk'].fillna(train.metro_km_avto)\n",
        "train['metro_min_walk']=train['metro_min_walk'].fillna(train.metro_min_avto)"
      ]
    },
    {
      "cell_type": "markdown",
      "metadata": {
        "_cell_guid": "535a8b7c-3df6-71d0-e134-dc926cde36af"
      },
      "source": [
        "Before moving to new features. Lets convert non-numeric features to numeric one."
      ]
    },
    {
      "cell_type": "code",
      "execution_count": null,
      "metadata": {
        "_cell_guid": "2f26e761-04c3-8674-6926-3270e02ad884"
      },
      "outputs": [],
      "source": [
        "from sklearn.preprocessing import LabelBinarizer, LabelEncoder, StandardScaler"
      ]
    },
    {
      "cell_type": "code",
      "execution_count": null,
      "metadata": {
        "_cell_guid": "ab348ffc-0f71-bf7a-8d29-50a29f6838d5"
      },
      "outputs": [],
      "source": [
        "#convert objects / non-numeric data types into numeric\n",
        "for f in train.columns:\n",
        "    if train[f].dtype=='object':\n",
        "        lbl = LabelEncoder()\n",
        "        lbl.fit(list(train[f].values)) \n",
        "        train[f] = lbl.transform(list(train[f].values))"
      ]
    },
    {
      "cell_type": "markdown",
      "metadata": {
        "_cell_guid": "5e52eae5-d016-bd13-0b2c-72beb359b225"
      },
      "source": [
        "Now an interesting feature after long time. **floor**. Let's see co-relation of this feature."
      ]
    },
    {
      "cell_type": "code",
      "execution_count": null,
      "metadata": {
        "_cell_guid": "e4fb7684-8c00-9feb-a21e-7f29e25632fe"
      },
      "outputs": [],
      "source": [
        "fig, ax = plt.subplots(figsize=(10,12))\n",
        "corrmat['floor'].sort_values().tail(10).plot(kind = \"barh\")\n",
        "#corrmat['floor'].sort_values().plot(kind = \"barh\")\n",
        "ax.set_title(\"Co-relation of other features with floor\")\n",
        "plt.show()"
      ]
    },
    {
      "cell_type": "code",
      "execution_count": null,
      "metadata": {
        "_cell_guid": "e964b160-845a-3905-050e-fb3ba8005253"
      },
      "outputs": [],
      "source": [
        "train[\"floor\"].describe()"
      ]
    },
    {
      "cell_type": "code",
      "execution_count": null,
      "metadata": {
        "_cell_guid": "96a21881-3039-8840-48cf-9c96b7e72459"
      },
      "outputs": [],
      "source": [
        "train[\"max_floor\"].describe()"
      ]
    },
    {
      "cell_type": "markdown",
      "metadata": {
        "_cell_guid": "1ad20cba-02e5-aacf-2720-94a9fb53c31a"
      },
      "source": [
        "Floor is depend on max_floor. so Lets explore max_floor as well."
      ]
    },
    {
      "cell_type": "code",
      "execution_count": null,
      "metadata": {
        "_cell_guid": "faebd550-dc13-aab9-2ea7-6728e61af0b8"
      },
      "outputs": [],
      "source": [
        "fig, ax = plt.subplots(figsize=(10,10))\n",
        "imp_coef = pd.concat([corrmat['max_floor'].sort_values().head(10),\n",
        "                      corrmat['max_floor'].sort_values().tail(10)]).plot(kind = \"barh\")\n",
        "ax.set_title(\"Co-relation of other features with max_floor\")\n",
        "plt.show()"
      ]
    },
    {
      "cell_type": "markdown",
      "metadata": {
        "_cell_guid": "0a4db39c-2848-28fb-fd46-af2c65d0e2f0"
      },
      "source": [
        "so max_floor is largely depend on floor. and Floor valued doesn't have as many null as max_floor. so let's try to populate floor first."
      ]
    },
    {
      "cell_type": "code",
      "execution_count": null,
      "metadata": {
        "_cell_guid": "49a244a1-4aa8-3e0d-bfbd-81ad1d5359c1"
      },
      "outputs": [],
      "source": [
        "fig, ax = plt.subplots(figsize=(10,10))\n",
        "imp_coef = pd.concat([corrmat['floor'].sort_values().head(10),\n",
        "                      corrmat['floor'].sort_values().tail(10)]).plot(kind = \"barh\")\n",
        "ax.set_title(\"Co-relation of other features with floor\")\n",
        "plt.show()"
      ]
    },
    {
      "cell_type": "code",
      "execution_count": null,
      "metadata": {
        "_cell_guid": "fe24c639-003d-da1f-898e-1a250fda7ace"
      },
      "outputs": [],
      "source": [
        "floor_group=train.groupby('floor').size()\n",
        "floor_group.describe()"
      ]
    },
    {
      "cell_type": "code",
      "execution_count": null,
      "metadata": {
        "_cell_guid": "ffe7cbaf-18d2-6482-5a91-07bdb7a0ba01"
      },
      "outputs": [],
      "source": [
        "floor_group.plot(kind=\"bar\")"
      ]
    },
    {
      "cell_type": "code",
      "execution_count": null,
      "metadata": {
        "_cell_guid": "d2afa814-f158-d1a6-c4b7-87876c361fff"
      },
      "outputs": [],
      "source": [
        "train[['floor', 'max_floor']].groupby(['floor']).agg(['mean', 'count'])"
      ]
    },
    {
      "cell_type": "code",
      "execution_count": null,
      "metadata": {
        "_cell_guid": "cca7d626-267d-68f4-82ef-ac7906cb76d3"
      },
      "outputs": [],
      "source": [
        "train[\"prize_per_sqrmtr\"]=train[\"price_doc\"]/train[\"full_sq\"]"
      ]
    },
    {
      "cell_type": "code",
      "execution_count": null,
      "metadata": {
        "_cell_guid": "b4de43f6-97e0-c778-a8dc-6550f9fce162"
      },
      "outputs": [],
      "source": [
        "fig, ax = plt.subplots(figsize=(10,12))\n",
        "sns.boxplot(x=\"floor\",y=\"prize_per_sqrmtr\",data= train[(train.floor <= 25) & (train.prize_per_sqrmtr<=600000)])\n",
        "ax.set_title(\"Box chart of floor vs prize per Square meter\")\n",
        "plt.xticks(rotation='vertical')"
      ]
    },
    {
      "cell_type": "code",
      "execution_count": null,
      "metadata": {
        "_cell_guid": "c7c9ee98-9994-3364-b685-560283c55d46"
      },
      "outputs": [],
      "source": [
        "fig, ax = plt.subplots(figsize=(10,12))\n",
        "sns.boxplot(x=\"floor\",y=\"prize_per_sqrmtr\",data= train[(train.floor <= 25) & (train.prize_per_sqrmtr<=200000) & (train.sub_area==102)])\n",
        "ax.set_title(\"Box chart of floor vs prize per Square meter\")\n",
        "plt.xticks(rotation='vertical')"
      ]
    },
    {
      "cell_type": "code",
      "execution_count": null,
      "metadata": {
        "_cell_guid": "322a4e55-3ec0-e3b3-47b7-372d6e4ad0cd"
      },
      "outputs": [],
      "source": [
        "train.groupby(\"full_sq\").size().sort_values()"
      ]
    }
  ],
  "metadata": {
    "_change_revision": 0,
    "_is_fork": false,
    "kernelspec": {
      "display_name": "Python 3",
      "language": "python",
      "name": "python3"
    },
    "language_info": {
      "codemirror_mode": {
        "name": "ipython",
        "version": 3
      },
      "file_extension": ".py",
      "mimetype": "text/x-python",
      "name": "python",
      "nbconvert_exporter": "python",
      "pygments_lexer": "ipython3",
      "version": "3.6.0"
    }
  },
  "nbformat": 4,
  "nbformat_minor": 0
}