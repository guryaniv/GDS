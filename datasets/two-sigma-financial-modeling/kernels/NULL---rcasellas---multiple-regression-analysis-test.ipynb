{
  "cells": [
    {
      "cell_type": "markdown",
      "metadata": {
        "_cell_guid": "819e6ae0-07ba-64ec-5f89-1d80a919aebf"
      },
      "source": [
        ""
      ]
    },
    {
      "cell_type": "code",
      "execution_count": null,
      "metadata": {
        "_cell_guid": "6e023a3e-a712-e3f4-13c5-d3aefa7804c2"
      },
      "outputs": [],
      "source": [
        "\n",
        "# This Python 3 environment comes with many helpful analytics libraries installed\n",
        "# It is defined by the kaggle/python docker image: https://github.com/kaggle/docker-python\n",
        "# For example, here's several helpful packages to load in \n",
        "\n",
        "import numpy as np # linear algebra\n",
        "import pandas as pd # data processing, CSV file I/O (e.g. pd.read_csv)\n",
        "import kagglegym\n",
        "import matplotlib.pyplot as plt\n",
        "import seaborn as sns\n",
        "\n",
        "# Input data files are available in the \"../input/\" directory.\n",
        "# For example, running this (by clicking run or pressing Shift+Enter) will list the files in the input directory\n",
        "\n",
        "from subprocess import check_output\n",
        "print(check_output([\"ls\", \"../input\"]).decode(\"utf8\"))\n",
        "\n",
        "# Any results you write to the current directory are saved as output."
      ]
    },
    {
      "cell_type": "code",
      "execution_count": null,
      "metadata": {
        "_cell_guid": "129ec60b-d42c-6707-c619-2a4f566be026"
      },
      "outputs": [],
      "source": [
        "with pd.HDFStore(\"../input/train.h5\", \"r\") as train:\n",
        "    # Note that the \"train\" dataframe is the only dataframe in the file\n",
        "    df = train.get(\"train\")"
      ]
    },
    {
      "cell_type": "code",
      "execution_count": null,
      "metadata": {
        "_cell_guid": "e22f357e-891f-eda6-7e7d-0a238d308f3a"
      },
      "outputs": [],
      "source": [
        "env = kagglegym.make()\n",
        "observation = env.reset()"
      ]
    },
    {
      "cell_type": "code",
      "execution_count": null,
      "metadata": {
        "_cell_guid": "1088ba58-c746-89a9-c3d1-04459c22719e"
      },
      "outputs": [],
      "source": [
        "observation.train.head()"
      ]
    },
    {
      "cell_type": "code",
      "execution_count": null,
      "metadata": {
        "_cell_guid": "d8683d6e-e266-2939-3faf-e0f5896fbed1"
      },
      "outputs": [],
      "source": [
        "list(observation.train.columns.values)"
      ]
    },
    {
      "cell_type": "code",
      "execution_count": null,
      "metadata": {
        "_cell_guid": "4110d55f-bbba-a2cc-31f0-f9b95a2748d2"
      },
      "outputs": [],
      "source": [
        "observation.features.head()"
      ]
    },
    {
      "cell_type": "code",
      "execution_count": null,
      "metadata": {
        "_cell_guid": "d7634b1d-4aab-757f-b4ef-9a32e85d02f0"
      },
      "outputs": [],
      "source": [
        "target = observation.train[\"y\"].values"
      ]
    },
    {
      "cell_type": "code",
      "execution_count": null,
      "metadata": {
        "_cell_guid": "9147e1f9-64b1-d713-f6d5-e5f9fc2e7d5f"
      },
      "outputs": [],
      "source": [
        "def count_missing(df):\n",
        "    stats={}\n",
        "    for x in range(len(df.columns)):        \n",
        "        stats[df.columns[x]]=df[df.columns[x]].isnull().sum()/len(df[df.columns[x]])*100\n",
        "    return stats"
      ]
    },
    {
      "cell_type": "code",
      "execution_count": null,
      "metadata": {
        "_cell_guid": "868f49c8-5a2f-4ad0-7e13-140c5d29e96b"
      },
      "outputs": [],
      "source": [
        "res=count_missing(df)"
      ]
    },
    {
      "cell_type": "code",
      "execution_count": null,
      "metadata": {
        "_cell_guid": "f9376ce3-552f-bc34-2a0e-7e74d37fa143"
      },
      "outputs": [],
      "source": [
        "low_err={k:v for (k,v) in res.items() if v<0.5}\n",
        "del low_err['id']\n",
        "del low_err['timestamp']\n",
        "del low_err['y']\n",
        "print((low_err),low_err.values())"
      ]
    },
    {
      "cell_type": "code",
      "execution_count": null,
      "metadata": {
        "_cell_guid": "fe43fba9-f48c-22ff-62a7-6cb9d6d8a290"
      },
      "outputs": [],
      "source": [
        "observation.train = observation.train.interpolate()"
      ]
    },
    {
      "cell_type": "code",
      "execution_count": null,
      "metadata": {
        "_cell_guid": "fac4f3a0-3266-ab26-7dcf-ff2c1d87322f"
      },
      "outputs": [],
      "source": [
        "observation.train"
      ]
    },
    {
      "cell_type": "code",
      "execution_count": null,
      "metadata": {
        "_cell_guid": "89b740a6-6fa1-43da-7431-f59818522bf0"
      },
      "outputs": [],
      "source": [
        "\n",
        "features = observation.train[list(low_err.keys())]\n",
        "features = features.fillna(0)"
      ]
    },
    {
      "cell_type": "code",
      "execution_count": null,
      "metadata": {
        "_cell_guid": "3dccfff5-c073-55cb-bed7-d3c708133001"
      },
      "outputs": [],
      "source": [
        "features.shape"
      ]
    },
    {
      "cell_type": "code",
      "execution_count": null,
      "metadata": {
        "_cell_guid": "eff22f5f-c8d3-ea01-d3b2-4c2ace84e4c3"
      },
      "outputs": [],
      "source": [
        "features = features.values"
      ]
    },
    {
      "cell_type": "code",
      "execution_count": null,
      "metadata": {
        "_cell_guid": "d6b9ed65-00fb-a12e-5e2e-ceafe2fb5c45"
      },
      "outputs": [],
      "source": [
        "from sklearn import datasets, linear_model"
      ]
    },
    {
      "cell_type": "code",
      "execution_count": null,
      "metadata": {
        "_cell_guid": "de641642-8547-e04d-957f-d1a0bc3a721b"
      },
      "outputs": [],
      "source": [
        "regr = linear_model.LinearRegression()"
      ]
    },
    {
      "cell_type": "code",
      "execution_count": null,
      "metadata": {
        "_cell_guid": "744c6b66-1e35-a057-dec3-59a71dc22307"
      },
      "outputs": [],
      "source": [
        "my_regression = regr.fit(features, target)"
      ]
    },
    {
      "cell_type": "code",
      "execution_count": null,
      "metadata": {
        "_cell_guid": "daedc1d6-8451-5d10-5e78-204cc584c0fd"
      },
      "outputs": [],
      "source": [
        "print(my_regression.score(features, target))"
      ]
    },
    {
      "cell_type": "code",
      "execution_count": null,
      "metadata": {
        "_cell_guid": "72d3c0b5-a130-89f9-c1e0-b341ce037315"
      },
      "outputs": [],
      "source": [
        "observation.features.head()"
      ]
    },
    {
      "cell_type": "code",
      "execution_count": null,
      "metadata": {
        "_cell_guid": "67ab29cf-b2dd-ed79-af39-e5fad429455d"
      },
      "outputs": [],
      "source": [
        "observation.target.head()"
      ]
    },
    {
      "cell_type": "code",
      "execution_count": null,
      "metadata": {
        "_cell_guid": "2205aa28-442f-56a2-a47f-170ef2bc2cd6"
      },
      "outputs": [],
      "source": [
        "test_features = observation.features[list(low_err.keys())].values"
      ]
    },
    {
      "cell_type": "code",
      "execution_count": null,
      "metadata": {
        "_cell_guid": "bbc74bb3-1f19-5a18-8245-1e7c53cd7584"
      },
      "outputs": [],
      "source": [
        "prediction = my_regression.predict(test_features)"
      ]
    },
    {
      "cell_type": "code",
      "execution_count": null,
      "metadata": {
        "_cell_guid": "efe69966-35dd-535c-3d6c-2c647aa7b168"
      },
      "outputs": [],
      "source": [
        "prediction"
      ]
    },
    {
      "cell_type": "code",
      "execution_count": null,
      "metadata": {
        "_cell_guid": "f4aca51a-2b6b-3c8b-9602-b5af917e4427"
      },
      "outputs": [],
      "source": [
        "action = observation.target"
      ]
    },
    {
      "cell_type": "code",
      "execution_count": null,
      "metadata": {
        "_cell_guid": "728ce052-b680-992b-6851-48c19f86a6a1"
      },
      "outputs": [],
      "source": [
        "action['y'] = prediction"
      ]
    },
    {
      "cell_type": "code",
      "execution_count": null,
      "metadata": {
        "_cell_guid": "5c183744-c120-0271-d630-8af3eab6f232"
      },
      "outputs": [],
      "source": [
        "observation, reward, done, info = env.step(action)"
      ]
    },
    {
      "cell_type": "code",
      "execution_count": null,
      "metadata": {
        "_cell_guid": "db95a6de-f240-a4c6-2ddc-d7e43ab86666"
      },
      "outputs": [],
      "source": [
        "reward"
      ]
    },
    {
      "cell_type": "code",
      "execution_count": null,
      "metadata": {
        "_cell_guid": "a94e444d-c035-d461-e8e1-4ae892f4ff13"
      },
      "outputs": [],
      "source": [
        "done"
      ]
    },
    {
      "cell_type": "code",
      "execution_count": null,
      "metadata": {
        "_cell_guid": "c0ad03e4-c3e5-1bcb-0fed-0c659dcfa06c"
      },
      "outputs": [],
      "source": [
        "info"
      ]
    },
    {
      "cell_type": "code",
      "execution_count": null,
      "metadata": {
        "_cell_guid": "bed5a021-96df-9a06-4c38-1632d9850894"
      },
      "outputs": [],
      "source": [
        "while True: \n",
        "    observation.features = observation.features.interpolate()\n",
        "    test_features = observation.features[list(low_err.keys())].values\n",
        "    prediction = my_regression.predict(test_features)\n",
        "    action = observation.target\n",
        "    action['y'] = prediction\n",
        "    \n",
        "    timestamp = observation.features[\"timestamp\"][0]\n",
        "    \n",
        "    if timestamp % 100 == 0:\n",
        "        print(\"Timestamp #{}\".format(timestamp))\n",
        "        print(prediction)\n",
        "\n",
        "    observation, reward, done, info = env.step(action)\n",
        "    if done:        \n",
        "        break"
      ]
    },
    {
      "cell_type": "code",
      "execution_count": null,
      "metadata": {
        "_cell_guid": "1745d129-f673-78cb-712c-ed3e13304d4d"
      },
      "outputs": [],
      "source": [
        "info[\"public_score\"]"
      ]
    },
    {
      "cell_type": "code",
      "execution_count": null,
      "metadata": {
        "_cell_guid": "b358d5bc-fcdc-dc38-4d1a-f70dfd82ddf9"
      },
      "outputs": [],
      "source": ""
    }
  ],
  "metadata": {
    "_change_revision": 0,
    "_is_fork": false,
    "kernelspec": {
      "display_name": "Python 3",
      "language": "python",
      "name": "python3"
    },
    "language_info": {
      "codemirror_mode": {
        "name": "ipython",
        "version": 3
      },
      "file_extension": ".py",
      "mimetype": "text/x-python",
      "name": "python",
      "nbconvert_exporter": "python",
      "pygments_lexer": "ipython3",
      "version": "3.5.2"
    }
  },
  "nbformat": 4,
  "nbformat_minor": 0
}