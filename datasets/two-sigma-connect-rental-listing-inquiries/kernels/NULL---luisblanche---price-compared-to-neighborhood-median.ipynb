{
  "cells": [
    {
      "cell_type": "markdown",
      "metadata": {
        "_cell_guid": "83bb6bec-039a-904a-a539-82d8a8489d5d"
      },
      "source": [
        "This an idea on how to use lat lon data to create a new variable. At first I wanted to use NYC's districts polygon map to derive a district appartenance for each listing_id but that would have been using external data. So instead of this I figured I could just derive natural district from the lat long data using a little clustering. "
      ]
    },
    {
      "cell_type": "code",
      "execution_count": null,
      "metadata": {
        "_cell_guid": "8b64a108-5c26-ed87-9816-6c56c96b037a"
      },
      "outputs": [],
      "source": [
        "# This Python 3 environment comes with many helpful analytics libraries installed\n",
        "# It is defined by the kaggle/python docker image: https://github.com/kaggle/docker-python\n",
        "# For example, here's several helpful packages to load in \n",
        "\n",
        "import numpy as np # linear algebra\n",
        "import pandas as pd # data processing, CSV file I/O (e.g. pd.read_csv)\n",
        "\n",
        "# Input data files are available in the \"../input/\" directory.\n",
        "# For example, running this (by clicking run or pressing Shift+Enter) will list the files in the input directory\n",
        "\n",
        "from subprocess import check_output\n",
        "print(check_output([\"ls\", \"../input\"]).decode(\"utf8\"))\n",
        "\n",
        "# Any results you write to the current directory are saved as output."
      ]
    },
    {
      "cell_type": "code",
      "execution_count": null,
      "metadata": {
        "_cell_guid": "04a37e08-6590-aa81-8bcc-1be89a646850"
      },
      "outputs": [],
      "source": [
        "import matplotlib.pyplot as plt\n",
        "%matplotlib inline \n",
        "pd.options.mode.chained_assignment = None  # default='warn'"
      ]
    },
    {
      "cell_type": "code",
      "execution_count": null,
      "metadata": {
        "_cell_guid": "2fe49632-23a6-69c8-6ad8-0ce18ba12206"
      },
      "outputs": [],
      "source": [
        "train=pd.read_json(\"../input/train.json\")\n",
        "test=pd.read_json(\"../input/test.json\")\n",
        "train[\"Source\"]='train'\n",
        "test[\"Source\"]='test'\n",
        "data=pd.concat([train, test]) "
      ]
    },
    {
      "cell_type": "code",
      "execution_count": null,
      "metadata": {
        "_cell_guid": "84b9cea9-8f97-caf4-2bec-ea6e62e3cc9f"
      },
      "outputs": [],
      "source": [
        "plt.scatter(data[\"longitude\"], data[\"latitude\"], s=5)\n",
        "plt.title(\"Geographical positions of the listings\")\n",
        "plt.show()"
      ]
    },
    {
      "cell_type": "markdown",
      "metadata": {
        "_cell_guid": "beb95369-4826-955b-6546-791006980d1e"
      },
      "source": [
        "## Geographic plotting ##"
      ]
    },
    {
      "cell_type": "markdown",
      "metadata": {
        "_cell_guid": "4c4ae89f-dfbf-0e5a-7128-0123c0ca878b"
      },
      "source": [
        "Clearly, it seems that some of the data is missing (0,0): unless there are some people are looking for an appartment right in the guinea gulf.  Let's remove them so we can have a better view of the data. "
      ]
    },
    {
      "cell_type": "code",
      "execution_count": null,
      "metadata": {
        "_cell_guid": "1d63dfdb-4881-f9cd-de07-7669626631f1"
      },
      "outputs": [],
      "source": [
        "plt.scatter(data.loc[data[\"longitude\"]<-60,\"longitude\"], data.loc[data[\"latitude\"]>20,\"latitude\"], s=5)\n",
        "plt.title(\"Geographical positions of the listings\")\n",
        "plt.show()"
      ]
    },
    {
      "cell_type": "markdown",
      "metadata": {
        "_cell_guid": "4759f295-9c6b-9e1e-3ad3-2fd4b679c4bb"
      },
      "source": [
        "There are a few flats all around the US but most of the cloud is around NYC\n",
        "So lets zoom in on NYC "
      ]
    },
    {
      "cell_type": "code",
      "execution_count": null,
      "metadata": {
        "_cell_guid": "1cbaabfa-0888-dfbf-1858-933cbed555a2"
      },
      "outputs": [],
      "source": [
        "plt.scatter(data.loc[(data[\"longitude\"]<-73.75)&(data[\"longitude\"]>-74.05)&(data[\"latitude\"]>40.4)&(data[\"latitude\"]<40.9),\"longitude\"],\n",
        "                      data.loc[(data[\"latitude\"]>40.4)&(data[\"latitude\"]<40.9)&(data[\"longitude\"]<-73.75)&(data[\"longitude\"]>-74.05),\"latitude\"], s=5)\n",
        "plt.title(\"Geographical positions of the listings\")\n",
        "plt.show()"
      ]
    },
    {
      "cell_type": "markdown",
      "metadata": {
        "_cell_guid": "5d4db154-7542-615d-0f7e-05e72e8f28b6"
      },
      "source": [
        "At this level there are enough points to see some known features: we see the shape of manhattan with a hole for central park for example. "
      ]
    },
    {
      "cell_type": "markdown",
      "metadata": {
        "_cell_guid": "03c93d5a-daa9-5bd2-ad9d-c9f0692ad6a3"
      },
      "source": [
        "## Clustering NYC data ##"
      ]
    },
    {
      "cell_type": "code",
      "execution_count": null,
      "metadata": {
        "_cell_guid": "a1908daf-9d3f-5abb-1ebc-42744adab70b"
      },
      "outputs": [],
      "source": [
        "\n",
        "\n",
        "#I use Birch because of how fast it is. \n",
        "from sklearn.cluster import Birch\n",
        "def cluster_latlon(n_clusters, data):  \n",
        "    #split the data between \"around NYC\" and \"other locations\" basically our first two clusters \n",
        "    data_c=data[(data.longitude>-74.05)&(data.longitude<-73.75)&(data.latitude>40.4)&(data.latitude<40.9)]\n",
        "    data_e=data[~(data.longitude>-74.05)&(data.longitude<-73.75)&(data.latitude>40.4)&(data.latitude<40.9)]\n",
        "    #put it in matrix form\n",
        "    coords=data_c.as_matrix(columns=['latitude', \"longitude\"])\n",
        "    \n",
        "    brc = Birch(branching_factor=100, n_clusters=n_clusters, threshold=0.01,compute_labels=True)\n",
        "\n",
        "    brc.fit(coords)\n",
        "    clusters=brc.predict(coords)\n",
        "    data_c[\"cluster_\"+str(n_clusters)]=clusters\n",
        "    data_e[\"cluster_\"+str(n_clusters)]=-1 #assign cluster label -1 for the non NYC listings \n",
        "    data=pd.concat([data_c,data_e])\n",
        "    plt.scatter(data_c[\"longitude\"], data_c[\"latitude\"], c=data_c[\"cluster_\"+str(n_clusters)], s=10, linewidth=0.1)\n",
        "    plt.title(str(n_clusters)+\" Neighbourhoods from clustering\")\n",
        "    plt.show()\n",
        "    return data "
      ]
    },
    {
      "cell_type": "markdown",
      "metadata": {
        "_cell_guid": "f2baf9f1-8305-2849-b3b1-26e9b8f2dd24"
      },
      "source": [
        "The ideal algorithm for this would be DBSCAN as shown in here http://geoffboeing.com/2014/08/clustering-to-reduce-spatial-data-set-size/ however it is too heavy to run on this kernel because I believe it has to compute a matrix of distance between each points. The advantage of DBSCAN is that it would leave the \"extremum\" point out of the clusters while Birch here is creating clusters of very low density for those "
      ]
    },
    {
      "cell_type": "markdown",
      "metadata": {
        "_cell_guid": "bdaf96ce-b184-9fe5-a663-d6ebc3444ce2"
      },
      "source": [
        "## Naive variables##"
      ]
    },
    {
      "cell_type": "code",
      "execution_count": null,
      "metadata": {
        "_cell_guid": "f1312121-66c3-ba4b-d7bf-c39218c3e50b"
      },
      "outputs": [],
      "source": [
        "data[\"created\"]=pd.to_datetime(data[\"created\"])\n",
        "data[\"created_month\"]=data[\"created\"].dt.month\n",
        "data[\"created_day\"]=data[\"created\"].dt.day\n",
        "data[\"created_hour\"]=data[\"created\"].dt.hour"
      ]
    },
    {
      "cell_type": "code",
      "execution_count": null,
      "metadata": {
        "_cell_guid": "3bb9dc8a-816f-be44-b7f0-38f639a0955e"
      },
      "outputs": [],
      "source": [
        "data[\"num_photos\"]=data[\"photos\"].apply(len)\n",
        "data[\"num_features\"]=data[\"features\"].apply(len)\n",
        "data[\"num_description_words\"] = data[\"description\"].apply(lambda x: len(x.split(\" \")))"
      ]
    },
    {
      "cell_type": "code",
      "execution_count": null,
      "metadata": {
        "_cell_guid": "52897b2c-d0eb-8ec7-7b55-ff195c8ba629"
      },
      "outputs": [],
      "source": [
        "features_to_use_1  = [\"bathrooms\", \"bedrooms\", \"price\", \n",
        "                                                     \n",
        "                    \"num_photos\", \"num_features\", \"num_description_words\",                    \n",
        "                    \"created_month\", \"created_day\", \"created_hour\"\n",
        "                   ]"
      ]
    },
    {
      "cell_type": "code",
      "execution_count": null,
      "metadata": {
        "_cell_guid": "5e3a1899-ea99-7d8d-1ecd-a386d2797e80"
      },
      "outputs": [],
      "source": [
        "def test_train(data, features):\n",
        "    train=data[data[\"Source\"]==\"train\"]\n",
        "    test=data[data[\"Source\"]==\"test\"]\n",
        "    target_num_map={\"high\":0, \"medium\":1, \"low\":2}\n",
        "    y=np.array(train[\"interest_level\"].apply(lambda x: target_num_map[x]))\n",
        "    from sklearn.model_selection import train_test_split\n",
        "    X_train, X_val,y_train, y_val =train_test_split( train[features], y, test_size=0.33, random_state=42)\n",
        "    return (X_train, X_val,y_train, y_val )"
      ]
    },
    {
      "cell_type": "code",
      "execution_count": null,
      "metadata": {
        "_cell_guid": "fa23ffe9-aca3-6c86-1339-57ca95ad9da1"
      },
      "outputs": [],
      "source": [
        "X_train, X_val,y_train, y_val=test_train(data, features_to_use_1)"
      ]
    },
    {
      "cell_type": "code",
      "execution_count": null,
      "metadata": {
        "_cell_guid": "19cc85de-5e70-0ef4-5f0d-3fff65a12696"
      },
      "outputs": [],
      "source": [
        "from sklearn.metrics import log_loss\n",
        "from sklearn.ensemble import RandomForestClassifier as RFC\n",
        "\n",
        "def prediction(X_train,y_train, X_val, y_val):\n",
        "    clf=RFC(n_estimators=1000, random_state=42)\n",
        "    clf.fit(X_train, y_train)\n",
        "\n",
        "\n",
        "    y_val_pred = clf.predict_proba(X_val)\n",
        "    return(log_loss(y_val, y_val_pred))"
      ]
    },
    {
      "cell_type": "code",
      "execution_count": null,
      "metadata": {
        "_cell_guid": "4520ca55-6a15-5515-e751-80e205be0f85"
      },
      "outputs": [],
      "source": [
        "prediction(X_train,y_train, X_val, y_val)"
      ]
    },
    {
      "cell_type": "markdown",
      "metadata": {
        "_cell_guid": "bbfde586-9d56-1a76-7a8f-5ab423980a14"
      },
      "source": [
        "## Adding the cluster variable ##"
      ]
    },
    {
      "cell_type": "code",
      "execution_count": null,
      "metadata": {
        "_cell_guid": "c3c33575-a8b4-135a-23e2-ef6ff6fe9aa3"
      },
      "outputs": [],
      "source": [
        "from sklearn.metrics import log_loss\n",
        "\n",
        "def compute_logloss(n_cluster,data):\n",
        "    data_cluster=cluster_latlon(n_cluster,data)\n",
        "      \n",
        "    features = [\"bathrooms\", \"bedrooms\", \"price\", \n",
        "                                                        \n",
        "                    \"num_photos\", \"num_features\", \"num_description_words\",                    \n",
        "                    \"created_month\", \"created_day\", \"created_hour\", \"cluster_\"+str(n_cluster)\n",
        "                   ]\n",
        "    \n",
        "    X_train, X_val,y_train, y_val = test_train(data_cluster, features)\n",
        "\n",
        "    return(prediction(X_train,y_train, X_val, y_val))"
      ]
    },
    {
      "cell_type": "code",
      "execution_count": null,
      "metadata": {
        "_cell_guid": "fda647d7-3904-733d-d4e0-5730203afea2"
      },
      "outputs": [],
      "source": [
        "compute_logloss(3, data)"
      ]
    },
    {
      "cell_type": "markdown",
      "metadata": {
        "_cell_guid": "db1a632e-8476-8554-9f74-f15a5dc3f261"
      },
      "source": [
        "A tiny bit better but lets check with more clusters"
      ]
    },
    {
      "cell_type": "code",
      "execution_count": null,
      "metadata": {
        "_cell_guid": "791b0cef-c74a-7132-bd1f-e66ed320b9c3"
      },
      "outputs": [],
      "source": [
        "log_loss_cls={}\n",
        "for n in range(4,15):\n",
        "    log_loss_cls[n]=compute_logloss(n, data)\n",
        "    \n",
        "n_c = sorted(log_loss_cls.items()) \n",
        "x, y = zip(*n_c) \n",
        "plt.plot(x, y)\n",
        "plt.title(\"log_loss for different numbers of clusters\")\n",
        "plt.show()"
      ]
    },
    {
      "cell_type": "code",
      "execution_count": null,
      "metadata": {
        "_cell_guid": "e6cfc417-17b0-08cd-fa0e-2ad67b223a40"
      },
      "outputs": [],
      "source": [
        "log_loss_cls"
      ]
    },
    {
      "cell_type": "markdown",
      "metadata": {
        "_cell_guid": "08c1c2cb-aa6b-1997-6a59-8d5c42a44d5a"
      },
      "source": [
        "It seems that the more clusters, the better the log_loss becomes. A the extreme of this each point is his own cluster and we are back to the lat ,lon original data. \n",
        "On the renthop website there is a feature calle Price Comparison that shows the difference between the price of the listing and the median of its neighborhood. Lets create this feature from our new neighborhoods and the price and see if it brings any improvement to the log loss "
      ]
    },
    {
      "cell_type": "code",
      "execution_count": null,
      "metadata": {
        "_cell_guid": "0dd7ad46-7f05-4938-4eb4-6b0d1c4d3e3e"
      },
      "outputs": [],
      "source": [
        "data=cluster_latlon(100, data)\n",
        "\n",
        "clusters_price_map=dict(data.groupby(by=\"cluster_100\")[\"price\"].median())\n",
        "data[\"price_comparison\"]=data['price']-data[\"cluster_100\"].map(clusters_price_map)"
      ]
    },
    {
      "cell_type": "code",
      "execution_count": null,
      "metadata": {
        "_cell_guid": "09dd1d2a-8007-1461-847c-18e0befca9ef"
      },
      "outputs": [],
      "source": [
        "\n",
        "features_2 = [\"bathrooms\", \"bedrooms\", \"price\", \"latitude\", 'longitude',\n",
        "             \"num_photos\", \"num_features\", \"num_description_words\",                    \n",
        "                    \"created_month\", \"created_day\", \"created_hour\"\n",
        "                   ]\n",
        "X_train, X_val,y_train, y_val=test_train(data, features_2)\n",
        "\n",
        "prediction(X_train,y_train, X_val, y_val)"
      ]
    },
    {
      "cell_type": "code",
      "execution_count": null,
      "metadata": {
        "_cell_guid": "9e2a0bf0-e576-4edd-796d-d1972e2c0693"
      },
      "outputs": [],
      "source": [
        "features_price_comp = [\"bathrooms\", \"bedrooms\", \"price\", \"latitude\", 'longitude',\n",
        "             \"num_photos\", \"num_features\", \"num_description_words\",                    \n",
        "                    \"created_month\", \"created_day\", \"created_hour\", \"price_comparison\"\n",
        "                   ]\n",
        "X_train, X_val,y_train, y_val=test_train(data, features_price_comp)\n",
        "\n",
        "prediction(X_train,y_train, X_val, y_val)"
      ]
    },
    {
      "cell_type": "markdown",
      "metadata": {
        "_cell_guid": "13058c1b-d2a8-c1be-0b73-ccc398d690a8"
      },
      "source": [
        "SO it seems that there might be a little value to cross theses newly created neighborhoods with the price to create a variable that adds information and improves (a tiny bit) the log loss score. \u00af\\\\_(\u30c4)_/\u00af"
      ]
    },
    {
      "cell_type": "code",
      "execution_count": null,
      "metadata": {
        "_cell_guid": "d4bdc35e-59f6-1366-faa8-e7f02ea80cb6"
      },
      "outputs": [],
      "source": ""
    }
  ],
  "metadata": {
    "_change_revision": 0,
    "_is_fork": false,
    "kernelspec": {
      "display_name": "Python 3",
      "language": "python",
      "name": "python3"
    },
    "language_info": {
      "codemirror_mode": {
        "name": "ipython",
        "version": 3
      },
      "file_extension": ".py",
      "mimetype": "text/x-python",
      "name": "python",
      "nbconvert_exporter": "python",
      "pygments_lexer": "ipython3",
      "version": "3.6.0"
    }
  },
  "nbformat": 4,
  "nbformat_minor": 0
}