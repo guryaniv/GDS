{
  "cells": [
    {
      "cell_type": "markdown",
      "metadata": {
        "_cell_guid": "d1bdc287-c9d8-829d-a1d0-43649c4ac868"
      },
      "source": [
        "# World Development Indicators and Life Expectancy in 2010\n",
        "\n",
        "This notebook examines adult literacy worldwide and what factors lead to having a high life expectancy in the year 2010. To start, we load in the relevant libraries and SQLite database using SQLalchemy and print the table and column names."
      ]
    },
    {
      "cell_type": "code",
      "execution_count": null,
      "metadata": {
        "_cell_guid": "1e3a604d-0d70-45c4-4718-cfa07ae4c034"
      },
      "outputs": [],
      "source": [
        "# import relevant libraries\n",
        "\n",
        "import numpy as np\n",
        "import pandas as pd\n",
        "import matplotlib as mpl\n",
        "import matplotlib.pyplot as plt\n",
        "import seaborn as sns\n",
        "import sqlalchemy as sqla"
      ]
    },
    {
      "cell_type": "code",
      "execution_count": null,
      "metadata": {
        "_cell_guid": "979cbb38-8933-4ab9-0a10-1e3eba32a61e"
      },
      "outputs": [],
      "source": [
        "# Connect to SQLite database found in database.sqlite\n",
        "\n",
        "metadata = sqla.MetaData()\n",
        "\n",
        "engine =  sqla.create_engine(\"sqlite:///../input/database.sqlite\")\n",
        "\n",
        "table_names = engine.table_names()\n",
        "\n",
        "tables = dict()\n",
        "\n",
        "for table in table_names:\n",
        "    print(\"\\n\"+table+\" columns:\\n\")\n",
        "    tables[table] = sqla.Table(table, metadata, autoload=True, autoload_with=engine)\n",
        "    for column in tables[table].c.keys():\n",
        "        print(column)"
      ]
    },
    {
      "cell_type": "markdown",
      "metadata": {
        "_cell_guid": "4440ebda-0a5e-e5ed-1737-6011747272b0"
      },
      "source": [
        "## Initial Exploratory Analysis\n",
        "\n",
        "Once we have created an engine and loaded the tables from the database, we can then do an exploratory analysis of the data. We want to examine life expectancy, but first we must find which indicator in our table refers to this field. We use the Indicators and Series table to find indicators with the word \"life expectancy\" in them, and print the name of the indicator, the IndicatorCode, and a description of the Indicator."
      ]
    },
    {
      "cell_type": "code",
      "execution_count": null,
      "metadata": {
        "_cell_guid": "a542bf60-e56f-a849-0ca4-c203c2f27962"
      },
      "outputs": [],
      "source": [
        "# Create SQL query function (We'll use a similar query again later)\n",
        "\n",
        "# Select distinct IndicatorNames (to avoid repeating the same indicator for each country)\n",
        "\n",
        "def find_indicator_strings(indicator):\n",
        "    stmt = sqla.select([tables[\"Indicators\"].c.IndicatorName.distinct(), \n",
        "                        tables[\"Indicators\"].c.IndicatorCode,\n",
        "                        tables[\"Series\"].c.LongDefinition])\n",
        "\n",
        "    # Use JOIN to find description under series name\n",
        "\n",
        "    stmt = stmt.select_from(\n",
        "        tables[\"Indicators\"].join(tables[\"Series\"], \n",
        "                                 tables[\"Indicators\"].c.IndicatorCode == tables[\"Series\"].c.SeriesCode)\n",
        "    )\n",
        "\n",
        "    # Find indicators that have indicator somewhere\n",
        "\n",
        "    return stmt.where(tables[\"Indicators\"].c.IndicatorName.ilike(\"%\"+indicator+\"%\"))\n",
        "\n",
        "stmt = find_indicator_strings(\"life expectancy\")\n",
        "\n",
        "# Connect to the engine and execute the statement.\n",
        "\n",
        "conn = engine.connect()\n",
        "\n",
        "for result in conn.execute(stmt):\n",
        "    print(result.IndicatorName, result.IndicatorCode)\n",
        "    print(result.LongDefinition)\n",
        "    print(\"\\n\")\n",
        "\n",
        "conn.close()"
      ]
    },
    {
      "cell_type": "markdown",
      "metadata": {
        "_cell_guid": "9dcc9ee2-0d2e-6f7a-57ff-b88f42a55a31"
      },
      "source": [
        "From these queries, we have identified that the indicator that most closely matches our query is the life expectancy at birth, which has the code SP.DYN.LE00.IN. We then use this to select the life expectancy for the year 2010 and plot it on a histogram."
      ]
    },
    {
      "cell_type": "code",
      "execution_count": null,
      "metadata": {
        "_cell_guid": "6d064e25-513c-b4e4-75b9-5f23d3bf426e"
      },
      "outputs": [],
      "source": [
        "%matplotlib inline\n",
        "# Create SQL query\n",
        "\n",
        "stmt = sqla.select([tables[\"Indicators\"].c.CountryName, tables[\"Indicators\"].c.Value.label(\"LifeExpectancy\")])\n",
        "\n",
        "\n",
        "# Use to avoid selecting regions instead of countries\n",
        "stmt = stmt.select_from(tables[\"Indicators\"].join(tables[\"Country\"],\n",
        "                                                 tables[\"Country\"].c.CountryCode == tables[\"Indicators\"].c.CountryCode))\n",
        "\n",
        "stmt = stmt.where(sqla.and_(tables[\"Country\"].c.Region.isnot(\"\"),\n",
        "                            tables[\"Indicators\"].c.IndicatorCode == \"SP.DYN.LE00.IN\",\n",
        "                            tables[\"Indicators\"].c.Year == 2010)\n",
        "    )\n",
        "\n",
        "\n",
        "conn = engine.connect()\n",
        "\n",
        "# Load into pandas dataframe\n",
        "\n",
        "life_exp = pd.read_sql_query(stmt, conn)\n",
        "\n",
        "print(life_exp.info())\n",
        "print(life_exp.describe())\n",
        "\n",
        "\n",
        "plt.hist(life_exp[\"LifeExpectancy\"], bins = 14)\n",
        "plt.xlabel(\"Life Expectancy from Birth\")\n",
        "plt.ylabel(\"Count\")\n",
        "\n",
        "conn.close()"
      ]
    },
    {
      "cell_type": "markdown",
      "metadata": {
        "_cell_guid": "a910cafd-be2e-911b-e0ac-19c5b037a6ee"
      },
      "source": [
        "From our histogram and description of the dataset, we can see that the mean life expectancy in 2010 was about 70, although the distribution is skewed left since the median is actually almost 73 years.\n",
        "\n",
        "## Exploring possible predictors\n",
        "\n",
        "We then would like to query for other available indicators so that later we can use machine learning to try to understand what may predict life expectancy. Using our earlier function we defined to try to find several different predictors. We would like to investigate how public health (in terms of infant mortality and environmental factors) and economics affect life expectancy. Here, we look for infant mortality, fertility, population density, GDP per capita, Inflation, PM2.5 Exposure, and CO2 emissions."
      ]
    },
    {
      "cell_type": "code",
      "execution_count": null,
      "metadata": {
        "_cell_guid": "5a00c6fc-f6b5-da29-e827-57006ef414fb"
      },
      "outputs": [],
      "source": [
        "# Create list to look through\n",
        "string_list = [\"infant\", \"fertility\", \"population density\", \"GDP per capita\", \"Inflation\", \"PM2.5\", \"CO2 emissions\"]\n",
        "\n",
        "conn = engine.connect()\n",
        "\n",
        "for string in string_list:\n",
        "    print(string+\"\\n\")\n",
        "    stmt = find_indicator_strings(string)\n",
        "    for result in conn.execute(stmt):\n",
        "        print(result.IndicatorName, result.IndicatorCode)\n",
        "        print(result.LongDefinition)\n",
        "        print(\"\\n\")\n",
        "\n",
        "conn.close()\n",
        "    "
      ]
    },
    {
      "cell_type": "markdown",
      "metadata": {
        "_cell_guid": "b744bb11-fb57-bdd7-3d0d-3bbd20472415"
      },
      "source": [
        "Here, we select Mortality rate, infant (per 1,000 live births) SP.DYN.IMRT.IN, Fertility rate, total (births per woman) SP.DYN.TFRT.IN, Population density (people per sq. km of land area) EN.POP.DNST, GDP per capita, PPP (constant 2011 international dollars) NY.GDP.PCAP.PP.KD, PM2.5 air pollution, mean annual exposure (micrograms per cubic meter) EN.ATM.PM25.MC.M3, and CO2 emissions (kt) EN.ATM.CO2E.KT. (In practice, we should likely select many more, but this notebook is meant to be a simple demonstration.)"
      ]
    },
    {
      "cell_type": "code",
      "execution_count": null,
      "metadata": {
        "_cell_guid": "a41b6e4c-603a-83ec-d6f5-b1c63e7405eb"
      },
      "outputs": [],
      "source": [
        "%matplotlib inline\n",
        "\n",
        "# Create dictionary of codes we wish to query to human readable names\n",
        "\n",
        "code_dict = {\"SP.DYN.LE00.IN\" : \"LifeExpectancy\", \n",
        "             \"SP.DYN.IMRT.IN\" : \"InfantMort\",\n",
        "             \"SP.DYN.TFRT.IN\" : \"Fertility\",\n",
        "             \"EN.POP.DNST\" : \"PopDens\",\n",
        "             \"NY.GDP.PCAP.PP.KD\" : \"GDPperCap\",\n",
        "             \"NY.GDP.DEFL.KD.ZG\" : \"Inflation\",\n",
        "             \"EN.ATM.PM25.MC.M3\" : \"PM2.5Exp\",\n",
        "             \"EN.ATM.CO2E.KT\" : \"CO2\"}\n",
        "\n",
        "# Create SQL query\n",
        "\n",
        "stmt = sqla.select([tables[\"Indicators\"].c.CountryName, \n",
        "                    tables[\"Indicators\"].c.IndicatorCode.label(\"Indicator\"),\n",
        "                    tables[\"Indicators\"].c.Value])\n",
        "\n",
        "\n",
        "# Use to avoid selecting regions instead of countries\n",
        "stmt = stmt.select_from(tables[\"Indicators\"].join(tables[\"Country\"],\n",
        "                                                 tables[\"Country\"].c.CountryCode == tables[\"Indicators\"].c.CountryCode))\n",
        "\n",
        "stmt = stmt.where(sqla.and_(tables[\"Country\"].c.Region.isnot(\"\"),\n",
        "                            tables[\"Indicators\"].c.IndicatorCode.in_(list(code_dict.keys())),\n",
        "                            tables[\"Indicators\"].c.Year == 2010)\n",
        "    )\n",
        "\n",
        "conn = engine.connect()\n",
        "\n",
        "life_exp = pd.read_sql_query(stmt, conn)\n",
        "\n",
        "# Change codes to readable names\n",
        "life_exp[\"Indicator\"].replace(code_dict, inplace=True)\n",
        "\n",
        "# Change from long to wide format\n",
        "life_exp = life_exp.pivot(index=\"CountryName\", columns = \"Indicator\", values = \"Value\")\n",
        "\n",
        "# Remove NA values\n",
        "life_exp.dropna(inplace=True)\n",
        "\n",
        "print(life_exp.info())\n",
        "print(life_exp.describe())\n",
        "\n",
        "\n",
        "\n",
        "conn.close()"
      ]
    },
    {
      "cell_type": "markdown",
      "metadata": {
        "_cell_guid": "e1b71777-9826-8f9e-45f6-8ccc720513dc"
      },
      "source": [
        "Although we lost some data by removing missing values, we now have a dataset that we can explore further to see how they might predict Life Expectancy. We first may want to check which predictors are correlated with LifeExpetancy and which predictors are correlated with each other. For the latter, we want to check for possible covariance. For example, countries that are richer might emit more CO2, so GDP per capita might also be related to CO2 emissions. "
      ]
    },
    {
      "cell_type": "code",
      "execution_count": null,
      "metadata": {
        "_cell_guid": "5343e2d1-2676-ca57-9376-b83efaab9357"
      },
      "outputs": [],
      "source": [
        "%matplotlib inline\n",
        "\n",
        "sns.heatmap(life_exp.corr(), square=True, cmap='RdYlBu')"
      ]
    },
    {
      "cell_type": "markdown",
      "metadata": {
        "_cell_guid": "9ddb0c1c-5780-bbc9-7036-6fb97efca354"
      },
      "source": [
        "Certainly, each variable is highly correlated with itself. However, it seems CO2 emissions, PM2.5 Exposure, and population density are only weakly correlated to each other variable. Of the variables shown here, Fertility, GDP per Capita, Inflation, and Infant Mortality seem most strongly correlated with LifeExpectancy. However, each of these also seem to be highly interrelated as shown by the more intense blue/orange colors. \n",
        "\n",
        "## Machine learning with regression\n",
        "\n",
        "To test what might predict LifeExpectancy more rigorously, we apply machine learning using regression in scikit-learn. Here, Ordinary Least Squares linear regression is likely going to be inadequate since several terms in our predictors seem to be correlated to each other. To avoid this problem, we use elastic net regularized regression. Elastic net uses a hyperparameter l1 ratio that controls how much the square and the absolute value of the coefficient are weighted and a hyperparameter alpha that is the penalty applied to coefficients.\n",
        "\n",
        "Before using regression, we need to first split the data into the independent and dependent variables. Then, we split the data into testing and training data.Based on our summary of the data above, most of the variables are on different scales, so we normalize the data by their means and standard deviations. We do 5-fold cross validation to minimize overfitting and do a search of which hyperparameter will best fit the data. \n",
        "\n",
        "We check the fit through the $R^2$ value on the test set and the best values of the hyperparameters."
      ]
    },
    {
      "cell_type": "code",
      "execution_count": null,
      "metadata": {
        "_cell_guid": "b5d7b112-f157-40bb-90ff-47e20e30ee1c"
      },
      "outputs": [],
      "source": [
        "from sklearn import model_selection\n",
        "from sklearn import linear_model\n",
        "\n",
        "# Split data into dependent and independent variables.\n",
        "y = life_exp[\"LifeExpectancy\"].values\n",
        "X = life_exp.drop(\"LifeExpectancy\", axis = 1).values\n",
        "\n",
        "# Pick l1 ratio hyperparameter space\n",
        "\n",
        "l1_space = np.linspace(0.01, 1, 30)\n",
        "\n",
        "# Setup cross validation and parameter search\n",
        "elastic = linear_model.ElasticNetCV(l1_ratio = l1_space,\n",
        "                                    normalize = True, cv = 5)\n",
        "\n",
        "# Create train and test sets\n",
        "X_train, X_test, y_train, y_test = model_selection.train_test_split(X, y, test_size = 0.3, random_state = 23)\n",
        "\n",
        "# Fit to the training set\n",
        "\n",
        "elastic.fit(X_train, y_train)\n",
        "\n",
        "# Check linear regression R^2\n",
        "\n",
        "r2 = elastic.score(X_test, y_test)\n",
        "\n",
        "print(\"Tuned ElasticNet Alpha {}\".format(elastic.alpha_))\n",
        "print(\"Tuned ElasticNet l1 ratio {}\".format(elastic.l1_ratio_))\n",
        "print(\"Tuned R squared {}\".format(r2))"
      ]
    },
    {
      "cell_type": "markdown",
      "metadata": {
        "_cell_guid": "c28d79ab-594e-0024-15c3-d4cd7c4b0e77"
      },
      "source": [
        "Because our ElasticNet l1 ratio is just 1, we have essentially performed Lasso regression. We perform the same procedure with just lasso regression to check our results."
      ]
    },
    {
      "cell_type": "code",
      "execution_count": null,
      "metadata": {
        "_cell_guid": "b3072566-3636-1fd4-13e0-07854e13ca26"
      },
      "outputs": [],
      "source": [
        "# create lasso model with cross validation\n",
        "\n",
        "lasso = linear_model.LassoCV(normalize = True, cv = 5)\n",
        "\n",
        "# Fit to the training set\n",
        "\n",
        "lasso.fit(X_train, y_train)\n",
        "\n",
        "# Find regression R^2\n",
        "\n",
        "r2 = lasso.score(X_test, y_test)\n",
        "\n",
        "print(\"Tuned Lasso Alpha {}\".format(lasso.alpha_))\n",
        "print(\"Tuned R squared {}\".format(r2))"
      ]
    },
    {
      "cell_type": "markdown",
      "metadata": {
        "_cell_guid": "f35957ca-e1c2-98b7-553a-cb26fff4621d"
      },
      "source": [
        "We then plot the coefficients for the lasso regression for each column."
      ]
    },
    {
      "cell_type": "code",
      "execution_count": null,
      "metadata": {
        "_cell_guid": "f0edf555-0707-2549-9dd7-78b5c62384ce"
      },
      "outputs": [],
      "source": [
        "%matplotlib inline\n",
        "\n",
        "lasso_coef = lasso.coef_\n",
        "\n",
        "predictors = life_exp.drop(\"LifeExpectancy\", axis = 1).columns\n",
        "\n",
        "plt.plot(range(len(predictors)), lasso_coef)\n",
        "plt.xticks(range(len(predictors)), predictors.values, rotation = 60)\n",
        "plt.ylabel(\"Coefficient\")\n"
      ]
    },
    {
      "cell_type": "markdown",
      "metadata": {
        "_cell_guid": "d7113e52-3ed1-3540-05fe-85cbb3374b76"
      },
      "source": [
        "## Discussion\n",
        "\n",
        "From these results, it seems like fertility and infant mortality are most related to life expectancy. Environmental or economic variables seem to have only low influence on life expectancy. For infant mortality, life expectancy at birth would be greatly reduced if a person does not survive beyond 1 year after birth. Countries with high fertility would have many more people competing for resources, so this could be why there is such a decrease in life expectancy. Countries with high fertility also tend to be poorer, however, so the lasso regression could have arbitrary dropped GDP per capita when that was the real predictor of life expectancy.\n",
        "\n",
        "We compare these results using Ridge regularization to see if Lasso may have been too aggressive in dropping possible predictors."
      ]
    },
    {
      "cell_type": "code",
      "execution_count": null,
      "metadata": {
        "_cell_guid": "65aac5c4-2b28-5241-a499-df36ebecd65a"
      },
      "outputs": [],
      "source": [
        "%matplotlib inline\n",
        "# Set up ridge regression\n",
        "\n",
        "alpha_space = np.logspace(-2, 2, 100)\n",
        "\n",
        "ridge = linear_model.RidgeCV(alphas = alpha_space, \n",
        "                             normalize = True, cv = 5)\n",
        "\n",
        "# Fit to the training set\n",
        "\n",
        "ridge.fit(X_train, y_train)\n",
        "\n",
        "# Find regression R^2\n",
        "\n",
        "r2 = lasso.score(X_test, y_test)\n",
        "\n",
        "print(\"Tuned Ridge Alpha {}\".format(ridge.alpha_))\n",
        "print(\"Tuned R squared {}\".format(r2))\n",
        "\n",
        "ridge_coef = ridge.coef_\n",
        "\n",
        "plt.plot(range(len(predictors)), ridge_coef)\n",
        "plt.xticks(range(len(predictors)), predictors.values, rotation = 60)\n",
        "plt.ylabel(\"Coefficient\")"
      ]
    },
    {
      "cell_type": "markdown",
      "metadata": {
        "_cell_guid": "b896fc76-b60d-c003-0e6c-5a3630f1ca5f"
      },
      "source": [
        "The $R^2$ and coefficients are not too different from the results of our lasso regression, suggesting that fertility and infant mortatility are indeed highly predictive of life expectancy."
      ]
    },
    {
      "cell_type": "code",
      "execution_count": null,
      "metadata": {
        "_cell_guid": "5bfdad94-e022-400a-2e11-d09c0a9e2f93",
        "collapsed": true
      },
      "outputs": [],
      "source": [
        ""
      ]
    }
  ],
  "metadata": {
    "_change_revision": 0,
    "_is_fork": false,
    "kernelspec": {
      "display_name": "Python 3",
      "language": "python",
      "name": "python3"
    },
    "language_info": {
      "codemirror_mode": {
        "name": "ipython",
        "version": 3
      },
      "file_extension": ".py",
      "mimetype": "text/x-python",
      "name": "python",
      "nbconvert_exporter": "python",
      "pygments_lexer": "ipython3",
      "version": "3.6.0"
    }
  },
  "nbformat": 4,
  "nbformat_minor": 0
}