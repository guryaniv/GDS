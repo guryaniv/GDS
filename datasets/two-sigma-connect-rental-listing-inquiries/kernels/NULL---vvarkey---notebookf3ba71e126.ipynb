{
  "cells": [
    {
      "cell_type": "code",
      "execution_count": null,
      "metadata": {
        "_cell_guid": "602195db-591b-b257-0662-b07e6ff21f66"
      },
      "outputs": [],
      "source": ""
    },
    {
      "cell_type": "code",
      "execution_count": null,
      "metadata": {
        "_cell_guid": "ab278812-dc8b-6233-1171-45b617a0e677"
      },
      "outputs": [],
      "source": [
        "# This Python 3 environment comes with many helpful analytics libraries installed\n",
        "# It is defined by the kaggle/python docker image: https://github.com/kaggle/docker-python\n",
        "# For example, here's several helpful packages to load in \n",
        "\n",
        "import numpy as np # linear algebra\n",
        "import pandas as pd # data processing, CSV file I/O (e.g. pd.read_csv)\n",
        "\n",
        "%matplotlib inline\n",
        "import matplotlib.pyplot as plt\n",
        "import seaborn as sns\n",
        "\n",
        "from sklearn.ensemble import ExtraTreesClassifier\n",
        "from sklearn.linear_model import LogisticRegression\n",
        "from sklearn.metrics import log_loss\n",
        "from sklearn.model_selection import GridSearchCV\n",
        "\n",
        "def scorer(estimator, X, y):\n",
        "    return -log_loss(y, estimator.predict_proba(X))\n",
        "\n",
        "# Input data files are available in the \"../input/\" directory.\n",
        "# For example, running this (by clicking run or pressing Shift+Enter) will list the files in the input directory\n",
        "\n",
        "from subprocess import check_output\n",
        "print(check_output([\"ls\", \"../input\"]).decode(\"utf8\"))\n",
        "\n",
        "# Any results you write to the current directory are saved as output.\n",
        "df=pd.read_json('../input/train.json')\n",
        "df['priceperbed']=(df['price'].clip(upper=7000)/df['bedrooms'].clip(lower=1))\n",
        "df['created']=df['created'].astype(np.datetime64)\n",
        "df['created_day']=np.array(df.created.values, dtype='datetime64[D]').astype(np.float32)%7\n",
        "df['created_week']=np.array(df.created.values, dtype='datetime64[W]').astype(np.float32)\n",
        "df['created_hour']=np.array(df.created.values, dtype='datetime64[h]').astype(np.float32)%24\n",
        "df['desc_count']=df.description.apply(lambda x: len(x.split())).clip(upper=150)\n",
        "df['features_count']=df.features.apply(lambda x: len(x))\n",
        "df['photos_count']=df.photos.apply(lambda x: len(x))\n",
        "\n",
        "df['medium']=df['interest_level']=='medium'\n",
        "df['low']=df['interest_level']=='low'\n",
        "df['high']=df['interest_level']=='high'\n",
        "\n",
        "each=int(df.shape[0]/4)\n",
        "df_train=df.iloc[:2*each]\n",
        "df_val=df.iloc[2*each:3*each]\n",
        "df_test=df.iloc[3*each:]\n",
        "df_train.shape, df_val.shape, df_test.shape"
      ]
    },
    {
      "cell_type": "code",
      "execution_count": null,
      "metadata": {
        "_cell_guid": "bfd25274-e642-58ba-b98d-05eec7706b1d"
      },
      "outputs": [],
      "source": [
        "df_test=pd.read_json('../input/test.json')\n",
        "df_test['priceperbed']=(df_test['price'].clip(upper=7000)/df_test['bedrooms'].clip(lower=1))\n",
        "df_test['created']=df_test['created'].astype(np.datetime64)\n",
        "df_test['created_day']=np.array(df_test.created.values, dtype='datetime64[D]').astype(np.float32)%7\n",
        "df_test['created_week']=np.array(df_test.created.values, dtype='datetime64[W]').astype(np.float32)\n",
        "df_test['created_hour']=np.array(df_test.created.values, dtype='datetime64[h]').astype(np.float32)%24\n",
        "df_test['desc_count']=df_test.description.apply(lambda x: len(x.split())).clip(upper=150)\n",
        "df_test['features_count']=df_test.features.apply(lambda x: len(x))\n",
        "df_test['photos_count']=df_test.photos.apply(lambda x: len(x))\n"
      ]
    },
    {
      "cell_type": "code",
      "execution_count": null,
      "metadata": {
        "_cell_guid": "60ea25d5-8918-561b-2b4b-e2bbb4e55fe3"
      },
      "outputs": [],
      "source": [
        "cols=['price', 'bathrooms', 'bedrooms', 'priceperbed', 'created_hour', \n",
        "      'desc_count', 'photos_count', 'features_count']\n",
        "clf=ExtraTreesClassifier(max_depth=21, n_estimators=100, random_state=0)\n",
        "clf.fit(df[cols].values, df['interest_level'])"
      ]
    },
    {
      "cell_type": "code",
      "execution_count": null,
      "metadata": {
        "_cell_guid": "7cb9ae8a-4d23-baf4-abf9-e9e5aff91755"
      },
      "outputs": [],
      "source": [
        "y_pred=clf.predict_proba(df_test[cols])\n",
        "df_y_pred=pd.DataFrame(y_pred, index=df_test['listing_id'], \n",
        "                       columns=['medium', 'low', 'high'])\n",
        "df_y_pred.to_csv(\"submission.0309.1.csv.gz\", compression='gzip')"
      ]
    },
    {
      "cell_type": "code",
      "execution_count": null,
      "metadata": {
        "_cell_guid": "1e6f6c34-20e2-8adb-bd6f-bf4cbcaf7fd9"
      },
      "outputs": [],
      "source": [
        "df.created.describe()"
      ]
    },
    {
      "cell_type": "code",
      "execution_count": null,
      "metadata": {
        "_cell_guid": "685a3da9-b6e6-35c1-7999-2611716e8d9c"
      },
      "outputs": [],
      "source": [
        "df_test.created.describe()"
      ]
    },
    {
      "cell_type": "code",
      "execution_count": null,
      "metadata": {
        "_cell_guid": "7f415960-2039-1d24-f73a-1df0e273c097"
      },
      "outputs": [],
      "source": [
        "df_test.iloc[37812]"
      ]
    }
  ],
  "metadata": {
    "_change_revision": 0,
    "_is_fork": false,
    "kernelspec": {
      "display_name": "Python 3",
      "language": "python",
      "name": "python3"
    },
    "language_info": {
      "codemirror_mode": {
        "name": "ipython",
        "version": 3
      },
      "file_extension": ".py",
      "mimetype": "text/x-python",
      "name": "python",
      "nbconvert_exporter": "python",
      "pygments_lexer": "ipython3",
      "version": "3.6.0"
    }
  },
  "nbformat": 4,
  "nbformat_minor": 0
}