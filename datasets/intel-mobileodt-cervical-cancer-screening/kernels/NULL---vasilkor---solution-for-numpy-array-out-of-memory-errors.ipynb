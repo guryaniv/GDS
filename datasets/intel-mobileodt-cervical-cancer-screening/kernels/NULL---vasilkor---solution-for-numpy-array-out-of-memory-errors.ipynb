{
  "cells": [
    {
      "cell_type": "markdown",
      "metadata": {
        "_cell_guid": "6da52ea9-f22b-2c69-850e-22101bc0d04a"
      },
      "source": [
        "# Using \"numpy.memmap\" to map directly to disk instead of storing the array in memory."
      ]
    },
    {
      "cell_type": "code",
      "execution_count": null,
      "metadata": {
        "_cell_guid": "f67fc8f1-c251-9d9e-c19b-b735b4aeb2d2"
      },
      "outputs": [],
      "source": [
        "import numpy as np\n",
        "import matplotlib.pyplot as plt\n",
        "import glob\n",
        "import cv2\n",
        "import random\n",
        "import os.path\n",
        "from datetime import datetime\n",
        "import pandas as pd\n",
        "\n",
        "np.random.seed(2016)\n",
        "random.seed(2016)\n"
      ]
    },
    {
      "cell_type": "markdown",
      "metadata": {
        "_cell_guid": "630ef805-6b03-60b8-4e4e-4183eddf76a0"
      },
      "source": [
        "## Define image resize"
      ]
    },
    {
      "cell_type": "code",
      "execution_count": null,
      "metadata": {
        "_cell_guid": "e65f35fd-c022-1c14-0b4b-5e77137413be"
      },
      "outputs": [],
      "source": [
        "conf = dict()\n",
        "# Shape of image for CNN (Larger the better, but you need to increase CNN as well)\n",
        "conf['image_shape'] = (32,32)\n"
      ]
    },
    {
      "cell_type": "markdown",
      "metadata": {
        "_cell_guid": "81e9e90f-a714-4504-3d01-5a17eb808201"
      },
      "source": [
        "## File paths to training and additional samples"
      ]
    },
    {
      "cell_type": "code",
      "execution_count": null,
      "metadata": {
        "_cell_guid": "d7eef550-146e-ab5b-8a60-388cb583e13e"
      },
      "outputs": [],
      "source": [
        "# file paths to training and additional samples\n",
        "print(str(datetime.now()))\n",
        "\n",
        "filepaths = []\n",
        "filepaths.append('../input/train/Type_1/')\n",
        "filepaths.append('../input/train/Type_2/')\n",
        "filepaths.append('../input/train/Type_3/')\n",
        "filepaths.append('../input/test/')\n",
        "\n",
        "print(str(datetime.now()))\n"
      ]
    },
    {
      "cell_type": "markdown",
      "metadata": {
        "_cell_guid": "2f2294cb-821f-d76b-e98f-c831fa8bcf39"
      },
      "source": [
        "## Get file listing"
      ]
    },
    {
      "cell_type": "code",
      "execution_count": null,
      "metadata": {
        "_cell_guid": "040d8cd9-3975-2969-5f9b-d510d845f10f"
      },
      "outputs": [],
      "source": [
        "print(str(datetime.now()))\n",
        "\n",
        "allFiles = []\n",
        "\n",
        "for i, filepath in enumerate(filepaths):\n",
        "    files = glob.glob(filepath + '*.jpg')\n",
        "    allFiles = allFiles + files\n",
        "\n",
        "print(str(datetime.now()))\n"
      ]
    },
    {
      "cell_type": "markdown",
      "metadata": {
        "_cell_guid": "3e5e54a7-816a-7d1d-904b-a00f6a559fab"
      },
      "source": [
        "## Example of how to use memmap"
      ]
    },
    {
      "cell_type": "code",
      "execution_count": null,
      "metadata": {
        "_cell_guid": "8b9558c8-1781-3cec-d48c-f70b31fffccb"
      },
      "outputs": [],
      "source": [
        "#random.shuffle(allFiles)\n",
        "print(str(datetime.now()))\n",
        "\n",
        "f = cv2.imread(allFiles[0])\n",
        "f = cv2.resize(f, conf['image_shape'])\n",
        "f = f.flatten()\n",
        "\n",
        "#row = len(allFiles)\n",
        "# limiting to 10 rows so the kaggle kernel doesn't time out on us\n",
        "row = 10\n",
        "col = len(f)\n",
        "\n",
        "f_image='./images.npy'\n",
        "f_targets='./targets.npy'\n",
        "\n",
        "if os.path.isfile(f_image):\n",
        "    # MEMMAP allows you to map to a numpy array directly on disk instead of storing it in memory\n",
        "    X = np.memmap(f_image, dtype='int', mode='r', shape=(row, col))\n",
        "    y = np.load(f_targets)\n",
        "else:\n",
        "    # MEMMAP allows you to map to a numpy array directly on disk instead of storing it in memory\n",
        "    X = np.memmap(f_image, dtype='int', mode='w+', shape=(row, col))\n",
        "    y = []\n",
        "\n",
        "    # limiting to 10 rows so the kaggle kernel doesn't time out on us\n",
        "    for i, f in enumerate(allFiles[:10]):\n",
        "        image = cv2.imread(f)\n",
        "        image = cv2.resize(image, conf['image_shape'])\n",
        "        image = image.flatten()\n",
        "\n",
        "        X[i] = image\n",
        "\n",
        "        if i < (row - 512): # 512 is the number of test files that do not have labels\n",
        "            cancer_type = f[41:42]\n",
        "            if cancer_type == '1':\n",
        "                mask = 1\n",
        "            elif cancer_type == '2':\n",
        "                mask = 2\n",
        "            else:\n",
        "                mask = 3\n",
        "\n",
        "            y.append(mask)\n",
        "            \n",
        "    y = np.array(y)\n",
        "    np.save(f_targets, y)\n",
        "    \n",
        "print(str(datetime.now()))\n"
      ]
    }
  ],
  "metadata": {
    "_change_revision": 0,
    "_is_fork": false,
    "kernelspec": {
      "display_name": "Python 3",
      "language": "python",
      "name": "python3"
    },
    "language_info": {
      "codemirror_mode": {
        "name": "ipython",
        "version": 3
      },
      "file_extension": ".py",
      "mimetype": "text/x-python",
      "name": "python",
      "nbconvert_exporter": "python",
      "pygments_lexer": "ipython3",
      "version": "3.6.0"
    }
  },
  "nbformat": 4,
  "nbformat_minor": 0
}