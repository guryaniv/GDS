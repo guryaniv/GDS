{"cells":[
 {
  "cell_type": "code",
  "execution_count": null,
  "metadata": {
   "collapsed": false
  },
  "outputs": [],
  "source": "import pandas as pd \n\ntrain = pd.read_csv(\"../input/train.csv\")\ntest = pd.read_csv(\"../input/test.csv\")\nsample_submission = pd.read_csv(\"../input/sample_submission.csv\")\n\nprint(train.shape)\nprint(train.head(n=5))\nprint(test.shape)\nprint(test.head(n=5))\n"
 },
 {
  "cell_type": "code",
  "execution_count": null,
  "metadata": {
   "collapsed": false
  },
  "outputs": [],
  "source": "target=train['Response']\nbmiOver=[int(0) for i in range(8)]\nbmiNotOver=[int(0) for i in range(8)]\nfor i in range(len(train)):\n    number=train['BMI'][i]\n    if number>0.5:\n        bmiOver[target[i]-1]+=1\n    else:\n        bmiNotOver[target[i]-1]+=1\nprint(bmiOver)\nprint(bmiNotOver)\nprint(number)"
 },
 {
  "cell_type": "code",
  "execution_count": null,
  "metadata": {
   "collapsed": false
  },
  "outputs": [],
  "source": "from sklearn.linear_model import LogisticRegression\n\nLR=LogisticRegression\n\nLR.fit([train['BMI'],train[', target, sample_weight=None)"
 }
],"metadata":{"kernelspec":{"display_name":"Python 3","language":"python","name":"python3"}}, "nbformat": 4, "nbformat_minor": 0}