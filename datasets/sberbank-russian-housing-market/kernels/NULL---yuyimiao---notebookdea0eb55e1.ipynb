{
  "cells": [
    {
      "cell_type": "code",
      "execution_count": null,
      "metadata": {
        "_cell_guid": "8e5598a6-c795-db85-1247-2e3f04eeb11f"
      },
      "outputs": [],
      "source": [
        "# This Python 3 environment comes with many helpful analytics libraries installed\n",
        "# It is defined by the kaggle/python docker image: https://github.com/kaggle/docker-python\n",
        "# For example, here's several helpful packages to load in \n",
        "\n",
        "import numpy as np # linear algebra\n",
        "import pandas as pd # data processing, CSV file I/O (e.g. pd.read_csv)\n",
        "\n",
        "# Input data files are available in the \"../input/\" directory.\n",
        "# For example, running this (by clicking run or pressing Shift+Enter) will list the files in the input directory\n",
        "\n",
        "from subprocess import check_output\n",
        "print(check_output([\"ls\", \"../input\"]).decode(\"utf8\"))\n",
        "\n",
        "# Any results you write to the current directory are saved as output."
      ]
    },
    {
      "cell_type": "code",
      "execution_count": null,
      "metadata": {
        "_cell_guid": "2f484763-1eeb-7675-4248-ec02748ec89e"
      },
      "outputs": [],
      "source": [
        "import numpy as np\n",
        "import pandas as pd\n",
        "import xgboost as xgb\n",
        "import matplotlib.pyplot as plt"
      ]
    },
    {
      "cell_type": "code",
      "execution_count": null,
      "metadata": {
        "_cell_guid": "dcc12e33-4636-56ea-e584-85f6aefaa30a"
      },
      "outputs": [],
      "source": [
        "df_train = pd.read_csv(\"../input/train.csv\", parse_dates=['timestamp'])\n",
        "df_test = pd.read_csv(\"../input/test.csv\", parse_dates=['timestamp'])\n",
        "df_macro = pd.read_csv(\"../input/macro.csv\", parse_dates=['timestamp'])\n",
        "\n",
        "df_train.head()"
      ]
    },
    {
      "cell_type": "code",
      "execution_count": null,
      "metadata": {
        "_cell_guid": "0bf1ebed-72bf-2c1d-b52c-f8245ff7aaa3"
      },
      "outputs": [],
      "source": [
        "train_df = pd.read_csv(\"../input/train.csv\", parse_dates=['timestamp'])\n",
        "dtype_df = train_df.dtypes.reset_index()\n",
        "dtype_df.columns = [\"Column name\", \"Column Type\"]\n",
        "#dtype_df.groupby(\"Column Type\").count()"
      ]
    },
    {
      "cell_type": "code",
      "execution_count": null,
      "metadata": {
        "_cell_guid": "a86cc34a-4c23-4c83-b75f-588bdf9f737e"
      },
      "outputs": [],
      "source": ""
    },
    {
      "cell_type": "code",
      "execution_count": null,
      "metadata": {
        "_cell_guid": "3feef4ec-58ee-1cc6-589a-1d5fcb31cbf3"
      },
      "outputs": [],
      "source": [
        "\n",
        "missing_df = train_df.isnull().sum(axis=0).reset_index()\n",
        "missing_df\n"
      ]
    },
    {
      "cell_type": "code",
      "execution_count": null,
      "metadata": {
        "_cell_guid": "e1fcb3a9-ec6c-d98b-6d5d-3028e2281a18"
      },
      "outputs": [],
      "source": [
        "np.zeros((3,3))"
      ]
    },
    {
      "cell_type": "code",
      "execution_count": null,
      "metadata": {
        "_cell_guid": "49ad65b1-6095-6554-8c68-5bdd8b68d385"
      },
      "outputs": [],
      "source": [
        "df_train."
      ]
    },
    {
      "cell_type": "code",
      "execution_count": null,
      "metadata": {
        "_cell_guid": "cbecfcb1-7e57-7a23-a363-f3f4d7228724"
      },
      "outputs": [],
      "source": [
        "import numpy as np\n",
        "import pandas as pd\n",
        "import matplotlib.pyplot as plt\n",
        "import seaborn as sns\n",
        "from sklearn import model_selection, preprocessing\n",
        "import xgboost as xgb\n",
        "import datetime"
      ]
    },
    {
      "cell_type": "code",
      "execution_count": null,
      "metadata": {
        "_cell_guid": "35315ab6-8198-e6ab-33b1-29a97eac779d"
      },
      "outputs": [],
      "source": [
        "import numpy as np\n",
        "import pandas as pd\n",
        "import matplotlib.pyplot as plt\n",
        "import seaborn as sns\n",
        "from sklearn import model_selection, preprocessing\n",
        "import xgboost as xgb\n",
        "import datetime"
      ]
    },
    {
      "cell_type": "code",
      "execution_count": null,
      "metadata": {
        "_cell_guid": "3f6de01c-9f8a-ee1d-f3e9-53dceb8cf2b6"
      },
      "outputs": [],
      "source": [
        "train = pd.read_csv('../input/train.csv', parse_dates=['timestamp'])\n",
        "test = pd.read_csv('../input/test.csv', parse_dates=['timestamp'])\n",
        "macro = pd.read_csv('../input/macro.csv', parse_dates=['timestamp'])\n",
        "id_test = test.id"
      ]
    },
    {
      "cell_type": "code",
      "execution_count": null,
      "metadata": {
        "_cell_guid": "93e7df3f-2aca-48fd-5699-872080ecfdf5"
      },
      "outputs": [],
      "source": [
        "ulimit = np.percentile(train.price_doc.values, 99)\n",
        "llimit = np.percentile(train.price_doc.values, 1)\n",
        "train['price_doc'].ix[train['price_doc']>ulimit] = ulimit\n",
        "train['price_doc'].ix[train['price_doc']<llimit] = llimit"
      ]
    },
    {
      "cell_type": "code",
      "execution_count": null,
      "metadata": {
        "_cell_guid": "3080ef92-c89d-cad8-ef43-dc0408566a57"
      },
      "outputs": [],
      "source": ""
    },
    {
      "cell_type": "code",
      "execution_count": null,
      "metadata": {
        "_cell_guid": "7791dda3-ed8d-6c0c-9139-936ec47a573f"
      },
      "outputs": [],
      "source": [
        "import numpy as np\n",
        "import pandas as pd\n",
        "import matplotlib.pyplot as plt\n",
        "import seaborn as sns\n",
        "from sklearn import model_selection, preprocessing\n",
        "import xgboost as xgb\n",
        "import datetime"
      ]
    },
    {
      "cell_type": "code",
      "execution_count": null,
      "metadata": {
        "_cell_guid": "96cb1931-a571-3014-52fd-63558fc76711"
      },
      "outputs": [],
      "source": [
        "train = pd.read_csv('../input/train.csv', parse_dates=['timestamp'])\n",
        "test = pd.read_csv('../input/test.csv', parse_dates=['timestamp'])\n",
        "macro = pd.read_csv('../input/macro.csv', parse_dates=['timestamp'])\n",
        "id_test = test.id"
      ]
    },
    {
      "cell_type": "code",
      "execution_count": null,
      "metadata": {
        "_cell_guid": "03455b2b-b412-e930-7a85-26baf9e8ea7b"
      },
      "outputs": [],
      "source": [
        "ulimit = np.percentile(train.price_doc.values, 99)\n",
        "llimit = np.percentile(train.price_doc.values, 1)\n",
        "train['price_doc'].ix[train['price_doc']>ulimit] = ulimit\n",
        "train['price_doc'].ix[train['price_doc']<llimit] = llimit"
      ]
    },
    {
      "cell_type": "code",
      "execution_count": null,
      "metadata": {
        "_cell_guid": "4c9358a1-3c79-0b87-d149-72b9fd97066a"
      },
      "outputs": [],
      "source": ""
    }
  ],
  "metadata": {
    "_change_revision": 0,
    "_is_fork": false,
    "kernelspec": {
      "display_name": "Python 3",
      "language": "python",
      "name": "python3"
    },
    "language_info": {
      "codemirror_mode": {
        "name": "ipython",
        "version": 3
      },
      "file_extension": ".py",
      "mimetype": "text/x-python",
      "name": "python",
      "nbconvert_exporter": "python",
      "pygments_lexer": "ipython3",
      "version": "3.6.0"
    }
  },
  "nbformat": 4,
  "nbformat_minor": 0
}