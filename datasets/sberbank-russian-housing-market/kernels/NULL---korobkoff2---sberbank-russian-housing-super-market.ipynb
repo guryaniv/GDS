{
  "cells": [
    {
      "cell_type": "code",
      "execution_count": null,
      "metadata": {
        "_cell_guid": "36154f6a-c995-cd5f-0e43-7b6c4ee37efa"
      },
      "outputs": [],
      "source": [
        "# This Python 3 environment comes with many helpful analytics libraries installed\n",
        "# It is defined by the kaggle/python docker image: https://github.com/kaggle/docker-python\n",
        "# For example, here's several helpful packages to load in \n",
        "\n",
        "import numpy as np # linear algebra\n",
        "import pandas as pd # data processing, CSV file I/O (e.g. pd.read_csv)\n",
        "\n",
        "# Input data files are available in the \"../input/\" directory.\n",
        "# For example, running this (by clicking run or pressing Shift+Enter) will list the files in the input directory\n",
        "\n",
        "from subprocess import check_output\n",
        "print(check_output([\"ls\", \"../input\"]).decode(\"utf8\"))\n",
        "\n",
        "train = pd.read_csv('../input/train.csv', header='infer', parse_dates=True, keep_date_col=True)\n",
        "print(\"Train: \" + str(train.shape))\n",
        "#train.head(10)\n",
        "test = pd.read_csv('../input/test.csv', header='infer', parse_dates=True, keep_date_col=True)\n",
        "print(\"Test: \" + str(test.shape))\n",
        "test.head(10)\n",
        "\n",
        "macro = pd.read_csv('../input/macro.csv', header='infer', parse_dates=True, keep_date_col=True)\n",
        "macro.head(10)\n"
      ]
    }
  ],
  "metadata": {
    "_change_revision": 0,
    "_is_fork": false,
    "kernelspec": {
      "display_name": "Python 3",
      "language": "python",
      "name": "python3"
    },
    "language_info": {
      "codemirror_mode": {
        "name": "ipython",
        "version": 3
      },
      "file_extension": ".py",
      "mimetype": "text/x-python",
      "name": "python",
      "nbconvert_exporter": "python",
      "pygments_lexer": "ipython3",
      "version": "3.6.0"
    }
  },
  "nbformat": 4,
  "nbformat_minor": 0
}