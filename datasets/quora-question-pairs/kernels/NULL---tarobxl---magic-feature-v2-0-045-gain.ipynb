{
  "cells": [
    {
      "cell_type": "code",
      "execution_count": null,
      "metadata": {
        "_cell_guid": "422dcab4-df73-2dad-87a5-2b2d9300e348"
      },
      "outputs": [],
      "source": [
        "import numpy as np # linear algebra\n",
        "import pandas as pd # data processing, CSV file I/O (e.g. pd.read_csv)\n",
        "from collections import defaultdict"
      ]
    },
    {
      "cell_type": "code",
      "execution_count": null,
      "metadata": {
        "_cell_guid": "bec64a73-d88b-e781-0b6c-a40e4f9fa6ad"
      },
      "outputs": [],
      "source": [
        "train_orig =  pd.read_csv('../input/train.csv', header=0)\n",
        "test_orig =  pd.read_csv('../input/test.csv', header=0)"
      ]
    },
    {
      "cell_type": "code",
      "execution_count": null,
      "metadata": {
        "_cell_guid": "6d718843-d4c9-bc0b-f7b3-12c6ac30924a"
      },
      "outputs": [],
      "source": [
        "# \"id\",\"qid1\",\"qid2\",\"question1\",\"question2\",\"is_duplicate\"\n",
        "df_id1 = train_orig[[\"qid1\", \"question1\"]].drop_duplicates(keep=\"first\").copy().reset_index(drop=True)\n",
        "df_id2 = train_orig[[\"qid2\", \"question2\"]].drop_duplicates(keep=\"first\").copy().reset_index(drop=True)\n",
        "\n",
        "df_id1.columns = [\"qid\", \"question\"]\n",
        "df_id2.columns = [\"qid\", \"question\"]\n",
        "\n",
        "print(df_id1.shape, df_id2.shape)\n",
        "\n",
        "df_id = pd.concat([df_id1, df_id2]).drop_duplicates(keep=\"first\").reset_index(drop=True)\n",
        "print(df_id1.shape, df_id2.shape, df_id.shape)"
      ]
    },
    {
      "cell_type": "code",
      "execution_count": null,
      "metadata": {
        "_cell_guid": "84051d7b-2e53-9da7-d81b-18800b258f5d"
      },
      "outputs": [],
      "source": [
        "import csv\n",
        "dict_questions = df_id.set_index('question').to_dict()\n",
        "dict_questions = dict_questions[\"qid\"]\n",
        "\n",
        "new_id = 538000 # df_id[\"qid\"].max() ==> 537933\n",
        "\n",
        "def get_id(question):\n",
        "    global dict_questions \n",
        "    global new_id \n",
        "    \n",
        "    if question in dict_questions:\n",
        "        return dict_questions[question]\n",
        "    else:\n",
        "        new_id += 1\n",
        "        dict_questions[question] = new_id\n",
        "        return new_id\n",
        "    \n",
        "rows = []\n",
        "max_lines = 10\n",
        "if True:\n",
        "    with open('../input/test.csv', 'r', encoding=\"utf8\") as infile:\n",
        "        reader = csv.reader(infile, delimiter=\",\")\n",
        "        header = next(reader)\n",
        "        header.append('qid1')\n",
        "        header.append('qid2')\n",
        "        \n",
        "        if True:\n",
        "            print(header)\n",
        "            pos, max_lines = 0, 10*1000*1000\n",
        "            for row in reader:\n",
        "                # \"test_id\",\"question1\",\"question2\"\n",
        "                question1 = row[1]\n",
        "                question2 = row[2]\n",
        "\n",
        "                qid1 = get_id(question1)\n",
        "                qid2 = get_id(question2)\n",
        "                row.append(qid1)\n",
        "                row.append(qid2)\n",
        "\n",
        "                pos += 1\n",
        "                if pos >= max_lines:\n",
        "                    break\n",
        "                rows.append(row)"
      ]
    },
    {
      "cell_type": "code",
      "execution_count": null,
      "metadata": {
        "_cell_guid": "3244a0dd-8e91-059a-6c72-996807f90682"
      },
      "outputs": [],
      "source": [
        "rows[:10]"
      ]
    },
    {
      "cell_type": "markdown",
      "metadata": {
        "_cell_guid": "d038ae8a-ad4c-5fb0-9142-3ab80c7cd676"
      },
      "source": ""
    },
    {
      "cell_type": "code",
      "execution_count": null,
      "metadata": {
        "_cell_guid": "97a00eb7-8937-e250-cbe6-77ffcf3e19d4"
      },
      "outputs": [],
      "source": ""
    },
    {
      "cell_type": "markdown",
      "metadata": {
        "_cell_guid": "108f5ba9-ce5d-9309-10b8-dd84c0709b2a"
      },
      "source": [
        "Feature as described by Krzysztof Dziedzic"
      ]
    },
    {
      "cell_type": "code",
      "execution_count": null,
      "metadata": {
        "_cell_guid": "ceee956e-7672-e0d9-a0b4-1fd9aa5b2880"
      },
      "outputs": [],
      "source": [
        "# This Python 3 environment comes with many helpful analytics libraries installed\n",
        "# It is defined by the kaggle/python docker image: https://github.com/kaggle/docker-python\n",
        "# For example, here's several helpful packages to load in \n",
        "\n",
        "import numpy as np # linear algebra\n",
        "import pandas as pd # data processing, CSV file I/O (e.g. pd.read_csv)\n",
        "from collections import defaultdict\n",
        "\n",
        "# Input data files are available in the \"../input/\" directory.\n",
        "# For example, running this (by clicking run or pressing Shift+Enter) will list the files in the input directory"
      ]
    },
    {
      "cell_type": "code",
      "execution_count": null,
      "metadata": {
        "_cell_guid": "e8c4d481-91cf-89c2-8891-c80b05c4f7af"
      },
      "outputs": [],
      "source": [
        "train_orig =  pd.read_csv('../input/train.csv', header=0)\n",
        "test_orig =  pd.read_csv('../input/test.csv', header=0)"
      ]
    },
    {
      "cell_type": "code",
      "execution_count": null,
      "metadata": {
        "_cell_guid": "ddf12583-76a8-520a-71c4-cccf4a15d01b"
      },
      "outputs": [],
      "source": [
        "ques = pd.concat([train_orig[['question1', 'question2']], \\\n",
        "        test_orig[['question1', 'question2']]], axis=0).reset_index(drop='index')\n",
        "ques.shape"
      ]
    },
    {
      "cell_type": "code",
      "execution_count": null,
      "metadata": {
        "_cell_guid": "bb6c9ddd-1ef5-ede3-798c-e6889bad2eab"
      },
      "outputs": [],
      "source": [
        "q_dict = defaultdict(set)\n",
        "for i in range(ques.shape[0]):\n",
        "        q_dict[ques.question1[i]].add(ques.question2[i])\n",
        "        q_dict[ques.question2[i]].add(ques.question1[i])"
      ]
    },
    {
      "cell_type": "code",
      "execution_count": null,
      "metadata": {
        "_cell_guid": "e7f8025b-cc2e-6e7b-50af-5a33f4006d61"
      },
      "outputs": [],
      "source": [
        "def q1_q2_intersect(row):\n",
        "    return(len(set(q_dict[row['question1']]).intersection(set(q_dict[row['question2']]))))"
      ]
    },
    {
      "cell_type": "code",
      "execution_count": null,
      "metadata": {
        "_cell_guid": "618f8754-0429-4887-7c81-a2569142ea3c"
      },
      "outputs": [],
      "source": [
        "train_orig['q1_q2_intersect'] = train_orig.apply(q1_q2_intersect, axis=1, raw=True)\n",
        "test_orig['q1_q2_intersect'] = test_orig.apply(q1_q2_intersect, axis=1, raw=True)"
      ]
    },
    {
      "cell_type": "code",
      "execution_count": null,
      "metadata": {
        "_cell_guid": "d555661e-e388-43d6-5785-adf02d06841b"
      },
      "outputs": [],
      "source": [
        "import matplotlib.pyplot as plt\n",
        "import seaborn as sns\n",
        "%matplotlib inline"
      ]
    },
    {
      "cell_type": "code",
      "execution_count": null,
      "metadata": {
        "_cell_guid": "dee108a9-2af2-2a4d-05e1-5b6ee02b1ce4"
      },
      "outputs": [],
      "source": [
        "temp = train_orig.q1_q2_intersect.value_counts()\n",
        "sns.barplot(temp.index[:20], temp.values[:20])"
      ]
    },
    {
      "cell_type": "code",
      "execution_count": null,
      "metadata": {
        "_cell_guid": "c20def52-2260-1fe3-3978-92e204ae93c1"
      },
      "outputs": [],
      "source": [
        "train_feat = train_orig[['q1_q2_intersect']]\n",
        "test_feat = test_orig[['q1_q2_intersect']]"
      ]
    },
    {
      "cell_type": "code",
      "execution_count": null,
      "metadata": {
        "_cell_guid": "e96ee285-9849-203e-bc88-73ef95a8999e"
      },
      "outputs": [],
      "source": [
        "train_feat"
      ]
    }
  ],
  "metadata": {
    "_change_revision": 0,
    "_is_fork": false,
    "kernelspec": {
      "display_name": "Python 3",
      "language": "python",
      "name": "python3"
    },
    "language_info": {
      "codemirror_mode": {
        "name": "ipython",
        "version": 3
      },
      "file_extension": ".py",
      "mimetype": "text/x-python",
      "name": "python",
      "nbconvert_exporter": "python",
      "pygments_lexer": "ipython3",
      "version": "3.6.0"
    }
  },
  "nbformat": 4,
  "nbformat_minor": 0
}