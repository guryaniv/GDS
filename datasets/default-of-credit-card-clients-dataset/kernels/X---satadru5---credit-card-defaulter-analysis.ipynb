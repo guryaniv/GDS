{
  "cells": [
    {
      "cell_type": "code",
      "execution_count": null,
      "metadata": {
        "_cell_guid": "d89da567-d074-0a7a-2236-9103d976d3a1"
      },
      "outputs": [],
      "source": [
        "# This Python 3 environment comes with many helpful analytics libraries installed\n",
        "# It is defined by the kaggle/python docker image: https://github.com/kaggle/docker-python\n",
        "# For example, here's several helpful packages to load in \n",
        "\n",
        "import numpy as np # linear algebra\n",
        "import pandas as pd # data processing, CSV file I/O (e.g. pd.read_csv)\n",
        "import numpy as np # linear algebra\n",
        "import pandas as pd # data processing, CSV file I/O (e.g. pd.read_csv)\n",
        "import numpy as np # linear algebra\n",
        "import pandas as pd # data processing, CSV file I/O (e.g. pd.read_csv)\n",
        "import matplotlib as mpl\n",
        "import matplotlib.pyplot as plt\n",
        "import seaborn as sns\n",
        "%matplotlib inline\n",
        "\n",
        "# Input data files are available in the \"../input/\" directory.\n",
        "# For example, running this (by clicking run or pressing Shift+Enter) will list the files in the input directory\n",
        "\n",
        "from subprocess import check_output\n",
        "print(check_output([\"ls\", \"../input\"]).decode(\"utf8\"))\n",
        "\n",
        "# Any results you write to the current directory are saved as output."
      ]
    },
    {
      "cell_type": "code",
      "execution_count": null,
      "metadata": {
        "_cell_guid": "87f7eb16-ff94-1c8b-0deb-3cd7aa2e35f8"
      },
      "outputs": [],
      "source": [
        "df=pd.read_csv(\"../input/UCI_Credit_Card.csv\")"
      ]
    },
    {
      "cell_type": "code",
      "execution_count": null,
      "metadata": {
        "_cell_guid": "f50fa280-a947-f0d9-accf-8a1dbb04d846"
      },
      "outputs": [],
      "source": [
        "df.shape"
      ]
    },
    {
      "cell_type": "code",
      "execution_count": null,
      "metadata": {
        "_cell_guid": "635c2010-3d52-8cc7-6590-4cbd5fd4a870"
      },
      "outputs": [],
      "source": [
        "df.head(4)"
      ]
    },
    {
      "cell_type": "code",
      "execution_count": null,
      "metadata": {
        "_cell_guid": "f4a8aac0-482b-c13f-6183-6632a7b2df86"
      },
      "outputs": [],
      "source": [
        "sns.countplot(x='SEX',data=df)"
      ]
    },
    {
      "cell_type": "code",
      "execution_count": null,
      "metadata": {
        "_cell_guid": "4706fbd9-f6f2-8cbf-0910-babbae515e73"
      },
      "outputs": [],
      "source": [
        "sns.countplot(x='EDUCATION',data=df)"
      ]
    },
    {
      "cell_type": "code",
      "execution_count": null,
      "metadata": {
        "_cell_guid": "23247516-7165-6a66-27c5-f234c1be8fbb"
      },
      "outputs": [],
      "source": [
        "sns.countplot(x='MARRIAGE',data=df)"
      ]
    },
    {
      "cell_type": "code",
      "execution_count": null,
      "metadata": {
        "_cell_guid": "441ba59c-d5ea-0362-979a-478d2e4d2fc5"
      },
      "outputs": [],
      "source": [
        "sns.countplot(x='AGE',data=df)"
      ]
    },
    {
      "cell_type": "code",
      "execution_count": null,
      "metadata": {
        "_cell_guid": "f6069d5e-c008-8e9b-8677-02b1316e81ce"
      },
      "outputs": [],
      "source": [
        "sns.distplot(df['AGE'])"
      ]
    },
    {
      "cell_type": "code",
      "execution_count": null,
      "metadata": {
        "_cell_guid": "fc6c2e8f-020f-2a42-481f-a334ae0c56f9"
      },
      "outputs": [],
      "source": [
        "sns.factorplot(x='AGE',y='LIMIT_BAL',data=df)"
      ]
    },
    {
      "cell_type": "code",
      "execution_count": null,
      "metadata": {
        "_cell_guid": "aaf4b9d1-d661-310b-99d7-88c6d6efa04d"
      },
      "outputs": [],
      "source": [
        "sns.boxplot(x='AGE',y='LIMIT_BAL',data=df)"
      ]
    },
    {
      "cell_type": "code",
      "execution_count": null,
      "metadata": {
        "_cell_guid": "42bf4337-f538-cf56-5784-f6da90ef05fd"
      },
      "outputs": [],
      "source": [
        "df.groupby('AGE')['AGE'].count()"
      ]
    },
    {
      "cell_type": "code",
      "execution_count": null,
      "metadata": {
        "_cell_guid": "d506e7fc-8277-433e-feaf-3b0ddf632261"
      },
      "outputs": [],
      "source": [
        "df.groupby('MARRIAGE')['MARRIAGE'].count()"
      ]
    },
    {
      "cell_type": "code",
      "execution_count": null,
      "metadata": {
        "_cell_guid": "cece4860-e099-14b0-7125-2a4209ac7238"
      },
      "outputs": [],
      "source": [
        "sns.countplot(x='PAY_0',data=df)"
      ]
    },
    {
      "cell_type": "code",
      "execution_count": null,
      "metadata": {
        "_cell_guid": "40a0dff5-4f3b-e54b-3de2-0f049a47ff7a"
      },
      "outputs": [],
      "source": [
        "sns.distplot(df['PAY_0'])"
      ]
    },
    {
      "cell_type": "code",
      "execution_count": null,
      "metadata": {
        "_cell_guid": "5736f8dd-5951-6cd4-7398-838354074368"
      },
      "outputs": [],
      "source": [
        "df['PAY_0'].describe()"
      ]
    },
    {
      "cell_type": "code",
      "execution_count": null,
      "metadata": {
        "_cell_guid": "6ca40aec-d513-fa83-da04-cee91e01a7dd"
      },
      "outputs": [],
      "source": [
        "sns.barplot(x='SEX', y = 'PAY_0', hue = 'MARRIAGE', data = df)"
      ]
    },
    {
      "cell_type": "code",
      "execution_count": null,
      "metadata": {
        "_cell_guid": "d147bf60-8131-a937-661d-c386a0cbdc5f"
      },
      "outputs": [],
      "source": [
        "df.head(3)"
      ]
    },
    {
      "cell_type": "code",
      "execution_count": null,
      "metadata": {
        "_cell_guid": "d55bdef2-a838-62ec-bfcb-f8e3c3add7a6"
      },
      "outputs": [],
      "source": [
        "corr=df.corr()\n",
        "corr = (corr)\n",
        "plt.figure(figsize=(18,18))\n",
        "sns.heatmap(corr, cbar = True,  square = True, annot=True, fmt= '.2f',annot_kws={'size': 15},\n",
        "            xticklabels=corr.columns.values,\n",
        "            yticklabels=corr.columns.values)\n",
        "sns.plt.title('Heatmap of Correlation Matrix')"
      ]
    },
    {
      "cell_type": "code",
      "execution_count": null,
      "metadata": {
        "_cell_guid": "093a2f09-7703-8013-0932-ed44fa0354fb"
      },
      "outputs": [],
      "source": [
        "df['DUE_1']=df['BILL_AMT1']-df['PAY_AMT1']\n",
        "df['DUE_2']=df['BILL_AMT2']-df['PAY_AMT2']\n",
        "df['DUE_3']=df['BILL_AMT3']-df['PAY_AMT3']\n",
        "df['DUE_4']=df['BILL_AMT4']-df['PAY_AMT4']\n",
        "df['DUE_5']=df['BILL_AMT5']-df['PAY_AMT5']\n",
        "df['DUE_6']=df['BILL_AMT6']-df['PAY_AMT6']"
      ]
    },
    {
      "cell_type": "code",
      "execution_count": null,
      "metadata": {
        "_cell_guid": "9f42ff52-5263-ec3f-58cc-d0069c6dfc83"
      },
      "outputs": [],
      "source": [
        "corr=df.corr()\n",
        "corr = (corr)\n",
        "plt.figure(figsize=(18,18))\n",
        "sns.heatmap(corr, cbar = True,  square = True, annot=True, fmt= '.2f',annot_kws={'size': 15},\n",
        "            xticklabels=corr.columns.values,\n",
        "            yticklabels=corr.columns.values)\n",
        "sns.plt.title('Heatmap of Correlation Matrix')"
      ]
    },
    {
      "cell_type": "code",
      "execution_count": null,
      "metadata": {
        "_cell_guid": "6f7e046e-09c5-9505-3530-78200ccb9be9"
      },
      "outputs": [],
      "source": [
        "data=df[['ID','LIMIT_BAL','SEX','EDUCATION','MARRIAGE','AGE','PAY_0','PAY_2','PAY_3','PAY_4','PAY_5','PAY_6','DUE_1']]\n",
        "lebel=df['default.payment.next.month']"
      ]
    },
    {
      "cell_type": "code",
      "execution_count": null,
      "metadata": {
        "_cell_guid": "5ac88bc1-91d9-2998-789a-a0dd2211d3a6"
      },
      "outputs": [],
      "source": [
        "sns.distplot(data['DUE_1'])"
      ]
    },
    {
      "cell_type": "code",
      "execution_count": null,
      "metadata": {
        "_cell_guid": "8cdf1f21-4bee-c887-d869-acc8df2c5982"
      },
      "outputs": [],
      "source": [
        "data_np=np.array(data)\n",
        "data.DUE_1=np.log(data.DUE_1)\n",
        "data.LIMIT_BAL=np.log(data.LIMIT_BAL)"
      ]
    },
    {
      "cell_type": "code",
      "execution_count": null,
      "metadata": {
        "_cell_guid": "ef33f770-e955-be2b-add6-9d25487a5f67"
      },
      "outputs": [],
      "source": [
        "data.DUE_1=np.nan_to_num(data.DUE_1)"
      ]
    },
    {
      "cell_type": "code",
      "execution_count": null,
      "metadata": {
        "_cell_guid": "959bcf39-5bdb-42a3-bff8-d56b6dd00c87"
      },
      "outputs": [],
      "source": [
        "data.head(2)\n",
        "data=data.drop(['ID'],axis=1)"
      ]
    },
    {
      "cell_type": "code",
      "execution_count": null,
      "metadata": {
        "_cell_guid": "06d46494-2a92-e32b-7832-7aeaddb9e948"
      },
      "outputs": [],
      "source": [
        "sns.distplot(data['LIMIT_BAL'])"
      ]
    },
    {
      "cell_type": "code",
      "execution_count": null,
      "metadata": {
        "_cell_guid": "1bfd32fc-9ca1-872c-9115-1777290df269"
      },
      "outputs": [],
      "source": [
        "sns.regplot(x='LIMIT_BAL',y='DUE_1',data=data)"
      ]
    },
    {
      "cell_type": "code",
      "execution_count": null,
      "metadata": {
        "_cell_guid": "44a1abef-6869-d903-e1a9-5fdabddc5d78"
      },
      "outputs": [],
      "source": [
        "#Train-Test split\n",
        "from sklearn.model_selection import train_test_split\n",
        "#label = df.pop('Class')\n",
        "data_train, data_test, label_train, label_test = train_test_split(data, lebel, test_size = 0.3, random_state = 42)"
      ]
    },
    {
      "cell_type": "code",
      "execution_count": null,
      "metadata": {
        "_cell_guid": "86a7abbf-5c22-9627-4acd-aa3ee870092d"
      },
      "outputs": [],
      "source": [
        "#Apply Machine learning model\n",
        "\n",
        "#Logistic Regression\n",
        "from sklearn.linear_model import LogisticRegression\n",
        "logis = LogisticRegression()\n",
        "logis.fit(data_train, label_train)\n",
        "logis_score_train = logis.score(data_train, label_train)\n",
        "print(\"Training score: \",logis_score_train)\n",
        "logis_score_test = logis.score(data_test, label_test)\n",
        "print(\"Testing score: \",logis_score_test)"
      ]
    },
    {
      "cell_type": "code",
      "execution_count": null,
      "metadata": {
        "_cell_guid": "35ab8cc5-1de9-9bb0-ba6d-23526b8d0be3"
      },
      "outputs": [],
      "source": [
        "data.DUE_1=df['DUE_1']\n",
        "data.LIMIT_BAL=df['LIMIT_BAL']\n",
        "data.DUE_1=np.log(data.DUE_1)\n",
        "data.LIMIT_BAL=np.log(data.LIMIT_BAL)\n",
        "data.DUE_1=np.nan_to_num(data.DUE_1)"
      ]
    },
    {
      "cell_type": "code",
      "execution_count": null,
      "metadata": {
        "_cell_guid": "303566cf-4b17-1782-7c61-382b578dc1d9"
      },
      "outputs": [],
      "source": [
        "#decision tree\n",
        "from sklearn.ensemble import RandomForestClassifier\n",
        "rm = RandomForestClassifier()\n",
        "rm.fit(data_train, label_train)\n",
        "rm_score_train = rm.score(data_train, label_train)\n",
        "print(\"Training score: \",rm_score_train)\n",
        "rm_score_test = rm.score(data_test, label_test)\n",
        "print(\"Testing score: \",rm_score_test)"
      ]
    },
    {
      "cell_type": "code",
      "execution_count": null,
      "metadata": {
        "_cell_guid": "42c765e4-a57e-cc4d-e428-d5b22fca1ac7"
      },
      "outputs": [],
      "source": [
        "data_train.head(3)\n",
        "data.DUE_1=np.nan_to_num(data.DUE_1)"
      ]
    },
    {
      "cell_type": "code",
      "execution_count": null,
      "metadata": {
        "_cell_guid": "9a781dde-8273-1f44-eacb-7a27015140fb"
      },
      "outputs": [],
      "source": [
        "#kNN\n",
        "from sklearn.neighbors import KNeighborsClassifier\n",
        "knn = KNeighborsClassifier()\n",
        "knn.fit(data_train, label_train)\n",
        "knn_score_train = knn.score(data_train, label_train)\n",
        "print(\"Training score: \",knn_score_train)\n",
        "knn_score_test = knn.score(data_test, label_test)\n",
        "print(\"Testing score: \",knn_score_test)"
      ]
    },
    {
      "cell_type": "code",
      "execution_count": null,
      "metadata": {
        "_cell_guid": "ffa9d778-ed1e-2ed5-bfc8-1b0c3c20dc0b"
      },
      "outputs": [],
      "source": [
        "#decision tree\n",
        "from sklearn import tree\n",
        "dt = tree.DecisionTreeClassifier()\n",
        "dt.fit(data_train, label_train)\n",
        "dt_score_train = dt.score(data_train, label_train)\n",
        "print(\"Training score: \",dt_score_train)\n",
        "dt_score_test = dt.score(data_test, label_test)\n",
        "print(\"Testing score: \",dt_score_test)"
      ]
    },
    {
      "cell_type": "code",
      "execution_count": null,
      "metadata": {
        "_cell_guid": "1fdb456d-4b0f-e22b-2181-7dca7ea84adf"
      },
      "outputs": [],
      "source": [
        "#Model comparison\n",
        "models = pd.DataFrame({\n",
        "        'Model'          : ['Logistic Regression', 'Random Forest','kNN', 'Decision Tree'],\n",
        "        'Training_Score' : [logis_score_train,rm_score_test, knn_score_train, dt_score_train],\n",
        "        'Testing_Score'  : [logis_score_test,rm_score_test, knn_score_test, dt_score_test]\n",
        "    })\n",
        "models.sort_values(by='Testing_Score', ascending=False)"
      ]
    },
    {
      "cell_type": "code",
      "execution_count": null,
      "metadata": {
        "_cell_guid": "8d76f39c-4e98-9840-073b-6e127788fe8f"
      },
      "outputs": [],
      "source": [
        "sns.barplot(x='Model',y='Testing_Score',data=models)"
      ]
    }
  ],
  "metadata": {
    "_change_revision": 0,
    "_is_fork": false,
    "kernelspec": {
      "display_name": "Python 3",
      "language": "python",
      "name": "python3"
    },
    "language_info": {
      "codemirror_mode": {
        "name": "ipython",
        "version": 3
      },
      "file_extension": ".py",
      "mimetype": "text/x-python",
      "name": "python",
      "nbconvert_exporter": "python",
      "pygments_lexer": "ipython3",
      "version": "3.6.0"
    }
  },
  "nbformat": 4,
  "nbformat_minor": 0
}