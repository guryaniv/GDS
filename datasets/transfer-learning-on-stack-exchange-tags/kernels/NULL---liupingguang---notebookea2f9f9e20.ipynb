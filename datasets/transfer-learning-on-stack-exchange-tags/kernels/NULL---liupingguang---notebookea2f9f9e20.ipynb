{
  "cells": [
    {
      "cell_type": "code",
      "execution_count": null,
      "metadata": {
        "_cell_guid": "5a28ef99-cd21-a64b-0752-5c3f7803fc2b"
      },
      "outputs": [],
      "source": ""
    },
    {
      "cell_type": "code",
      "execution_count": null,
      "metadata": {
        "_cell_guid": "38f2816e-7a6c-7922-9afb-a87ff6b62b90"
      },
      "outputs": [],
      "source": [
        "# This Python 3 environment comes with many helpful analytics libraries installed\n",
        "# It is defined by the kaggle/python docker image: https://github.com/kaggle/docker-python\n",
        "# For example, here's several helpful packages to load in \n",
        "\n",
        "import numpy as np # linear algebra\n",
        "import pandas as pd # data processing, CSV file I/O (e.g. pd.read_csv)\n",
        "import seaborn as sns\n",
        "import itertools\n",
        "import csv\n",
        "import collections\n",
        "import matplotlib.pyplot as plt\n",
        "\n",
        "# Input data files are available in the \"../input/\" directory.\n",
        "# For example, running this (by clicking run or pressing Shift+Enter) will list the files in the input directory\n",
        "\n",
        "from subprocess import check_output\n",
        "print(check_output([\"ls\", \"../input\"]).decode(\"utf8\"))\n",
        "\n",
        "\n",
        "# Any results you write to the current directory are saved as output.\n",
        "sns.set_context(\"paper\")\n",
        "RES_DIR = \"../input/\"\n",
        "\n",
        "def load_train_data():\n",
        "    categories = ['cooking','robotics','travel','crypto','diy','biology']\n",
        "    train_data = []\n",
        "    for cat in categories:\n",
        "        #data = pd.read_csv(\"{}{}.csv\".format(\"../input/\", cat), usecols=['id', 'title', 'tags'])\n",
        "        data = pd.read_csv(\"{}{}.csv\".format(RES_DIR, cat),usecols=['id','title','tags'])\n",
        "        data['category'] = cat\n",
        "        train_data.append(data)\n",
        "        \n",
        "    return pd.concat(train_data)\n",
        "\n",
        "train_data = load_train_data()\n",
        "train_data.head()\n",
        "\n",
        "ax=train_data['category'].value_counts().plot(kind='bar')\n",
        "#ax.set_xticklabels(ax.xaxis.get_majorticklabels(),rotation=10)\n",
        "#plt.show()\n",
        "\n",
        "tag_lists = [t.strip().split() for t in train_data['tags'].values]\n",
        "all_tags = list(itertools.chain(*tag_lists))\n",
        "tag_list_size = np.array([len(x) for x in tag_lists])\n",
        "print(\"\"\"the corpus is composed by {} questions. overal {} tags have been used,of which {} unique ones.\n",
        "average number of tags per question {:.2f} (min={}, max={}, std={:.2f})\"\"\".format(len(train_data),\n",
        "len(all_tags),len(set(all_tags)),tag_list_size.mean(),min(tag_list_size),max(tag_list_size),tag_list_size.std()))\n",
        "\n",
        "#sns.distplot(tag_list_size,kde=False)\n",
        "#sns.plt.show()\n",
        "\n",
        "def get_top_tags(df,n=None):\n",
        "    tags = list(itertools.chain(*[t.strip().split() for t in df['tags'].values]))\n",
        "    top_tags = collections.Counter(list(tags)).most_common(n)\n",
        "    tags,count = zip(*top_tags)\n",
        "    return tags,count\n",
        "\n",
        "tags,count = get_top_tags(train_data,10)\n",
        "#ax = sns.barplot(x=tags,y=count)\n",
        "#ax.set_xticklabels(ax.xaxis.get_majorticklabels(), rotation=30)\n",
        "#sns.plt.show()\n",
        "\n",
        "#fig,axes = plt.subplots(6,sharey=True)\n",
        "#fig.set_size_inches(7, 10)\n",
        "#fig.tight_layout()\n",
        "for i, (name,group) in enumerate(train_data.groupby('category')):\n",
        "    tags,count = get_top_tags(group,10)\n",
        "    norm_count = np.array(count)/len(all_tags)\n",
        "    #sns.barplot(x=tags,y=norm_count,ax=axes[i])\n",
        "    #sns.barplot(x=tags, y=norm_count, ax=axes[i])\n",
        "    #axes[i].set_xticklabels(axes[i].xaxis.get_majorticklabels(), rotation=30)\n",
        "    #axes[i].set_xlabel(name)\n",
        "    \n",
        "tags_df = pd.DataFrame(index=set(itertools.chain(*tag_lists)))\n",
        "print(tags_df.head())\n",
        "for i,(name,group) in enumerate(train_data.groupby('category')):\n",
        "    tags_df[name] = 0\n",
        "    #print(name)\n",
        "    tmp_index,count = get_top_tags(group)\n",
        "    tmp = pd.Series(count,index=tmp_index)\n",
        "    #print(tmp)\n",
        "    \n",
        "\n"
      ]
    },
    {
      "cell_type": "code",
      "execution_count": null,
      "metadata": {
        "_cell_guid": "c6a8c46b-c5b9-3036-97d5-d14ea2f37f67"
      },
      "outputs": [],
      "source": ""
    },
    {
      "cell_type": "code",
      "execution_count": null,
      "metadata": {
        "_cell_guid": "f5495f27-d5a1-b9d0-92fa-e9128c6bcd49"
      },
      "outputs": [],
      "source": ""
    }
  ],
  "metadata": {
    "_change_revision": 0,
    "_is_fork": false,
    "kernelspec": {
      "display_name": "Python 3",
      "language": "python",
      "name": "python3"
    },
    "language_info": {
      "codemirror_mode": {
        "name": "ipython",
        "version": 3
      },
      "file_extension": ".py",
      "mimetype": "text/x-python",
      "name": "python",
      "nbconvert_exporter": "python",
      "pygments_lexer": "ipython3",
      "version": "3.6.0"
    }
  },
  "nbformat": 4,
  "nbformat_minor": 0
}