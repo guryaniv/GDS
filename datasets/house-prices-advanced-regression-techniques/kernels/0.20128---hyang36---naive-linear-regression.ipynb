{
  "cells": [
    {
      "cell_type": "code",
      "execution_count": null,
      "metadata": {
        "_cell_guid": "ec70a290-257d-8c01-cabc-cec495c6b64f"
      },
      "outputs": [],
      "source": [
        "# This Python 3 environment comes with many helpful analytics libraries installed\n",
        "# It is defined by the kaggle/python docker image: https://github.com/kaggle/docker-python\n",
        "# For example, here's several helpful packages to load in \n",
        "\n",
        "import numpy as np # linear algebra\n",
        "import pandas as pd # data processing, CSV file I/O (e.g. pd.read_csv)\n",
        "\n",
        "# Input data files are available in the \"../input/\" directory.\n",
        "# For example, running this (by clicking run or pressing Shift+Enter) will list the files in the input directory\n",
        "\n",
        "from subprocess import check_output\n",
        "print(check_output([\"ls\", \"../input\"]).decode(\"utf8\"))\n",
        "\n",
        "# Any results you write to the current directory are saved as output."
      ]
    },
    {
      "cell_type": "code",
      "execution_count": null,
      "metadata": {
        "_cell_guid": "842aa9cc-5d47-efbf-9ad9-84f3d2751c02"
      },
      "outputs": [],
      "source": [
        "train = pd.read_csv(\"../input/train.csv\")\n",
        "train.head()"
      ]
    },
    {
      "cell_type": "code",
      "execution_count": null,
      "metadata": {
        "_cell_guid": "3c343356-ce6a-efe1-7d8a-339f9e320cae"
      },
      "outputs": [],
      "source": [
        "test = pd.read_csv(\"../input/test.csv\")\n",
        "all_data = pd.concat((train.loc[:,'MSSubClass':'SaleCondition'],\n",
        "                      test.loc[:,'MSSubClass':'SaleCondition']))\n",
        "all_data.head()"
      ]
    },
    {
      "cell_type": "code",
      "execution_count": null,
      "metadata": {
        "_cell_guid": "26a87477-38ee-d7ab-2ed2-5cef2fd9a585"
      },
      "outputs": [],
      "source": [
        "all_data = pd.get_dummies(all_data)\n",
        "all_data.head()"
      ]
    },
    {
      "cell_type": "code",
      "execution_count": null,
      "metadata": {
        "_cell_guid": "8ba502af-96cd-44a5-c623-c192127bcb39"
      },
      "outputs": [],
      "source": [
        "all_data.columns"
      ]
    },
    {
      "cell_type": "code",
      "execution_count": null,
      "metadata": {
        "_cell_guid": "de0e9b4e-475a-debf-6fd8-c0db7688a9f4"
      },
      "outputs": [],
      "source": [
        "all_data = all_data.fillna(all_data.mean())"
      ]
    },
    {
      "cell_type": "code",
      "execution_count": null,
      "metadata": {
        "_cell_guid": "d9d1bf64-e1ba-8b3e-a7d4-15790af18483"
      },
      "outputs": [],
      "source": [
        "all_data.head()"
      ]
    },
    {
      "cell_type": "code",
      "execution_count": null,
      "metadata": {
        "_cell_guid": "a46f3ed9-6d8d-be2f-8ff4-15aeaf69ab72"
      },
      "outputs": [],
      "source": [
        "X_train = all_data[:train.shape[0]]\n",
        "X_train_matrix = X_train.as_matrix()\n",
        "Y_train_matrix = train.SalePrice.as_matrix()\n",
        "\n",
        "# simple linear regression: Xw = Y\n",
        "regres_w = np.linalg.pinv(X_train_matrix).dot(Y_train_matrix)\n",
        "regres_w.shape"
      ]
    },
    {
      "cell_type": "code",
      "execution_count": null,
      "metadata": {
        "_cell_guid": "2e83e923-60dd-1980-c207-9e152e94226a"
      },
      "outputs": [],
      "source": [
        "# training RMSE (root-mean-square error)\n",
        "print(np.linalg.norm(np.log(X_train_matrix.dot(regres_w)) - np.log(Y_train_matrix))\n",
        "      /np.sqrt(Y_train_matrix.shape[0]))"
      ]
    },
    {
      "cell_type": "code",
      "execution_count": null,
      "metadata": {
        "_cell_guid": "ab000361-4aa9-6a68-fdc8-ace0e7e3982b"
      },
      "outputs": [],
      "source": [
        "res = pd.DataFrame({\n",
        "        \"Id\": test[\"Id\"],\n",
        "        \"SalePrice\": all_data[train.shape[0]:].as_matrix().dot(regres_w)\n",
        "    })\n",
        "\n",
        "res.to_csv(\"prices_submission.csv\", index=False)\n"
      ]
    }
  ],
  "metadata": {
    "_change_revision": 0,
    "_is_fork": false,
    "kernelspec": {
      "display_name": "Python 3",
      "language": "python",
      "name": "python3"
    },
    "language_info": {
      "codemirror_mode": {
        "name": "ipython",
        "version": 3
      },
      "file_extension": ".py",
      "mimetype": "text/x-python",
      "name": "python",
      "nbconvert_exporter": "python",
      "pygments_lexer": "ipython3",
      "version": "3.6.0"
    }
  },
  "nbformat": 4,
  "nbformat_minor": 0
}