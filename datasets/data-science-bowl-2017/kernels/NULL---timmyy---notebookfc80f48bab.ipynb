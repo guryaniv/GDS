{
  "metadata": {
    "kernelspec": {
      "display_name": "Python 3",
      "language": "python",
      "name": "python3"
    },
    "language_info": {
      "codemirror_mode": {
        "name": "ipython",
        "version": 3
      },
      "file_extension": ".py",
      "mimetype": "text/x-python",
      "name": "python",
      "nbconvert_exporter": "python",
      "pygments_lexer": "ipython3",
      "version": "3.6.0"
    }
  },
  "nbformat": 4,
  "nbformat_minor": 0,
  "cells": [
    {
      "metadata": {
        "_cell_guid": "0b255e73-48f2-c65b-e812-526d596d8f87",
        "_active": false,
        "collapsed": false
      },
      "source": "# This Python 3 environment comes with many helpful analytics libraries installed\n# It is defined by the kaggle/python docker image: https://github.com/kaggle/docker-python\n# For example, here's several helpful packages to load in \n\nimport numpy as np # linear algebra\nimport pandas as pd # data processing, CSV file I/O (e.g. pd.read_csv)\n\n# Input data files are available in the \"../input/\" directory.\n# For example, running this (by clicking run or pressing Shift+Enter) will list the files in the input directory\n\nfrom subprocess import check_output\nprint(check_output([\"ls\", \"../input\"]).decode(\"utf8\"))\n\n# Any results you write to the current directory are saved as output.",
      "execution_count": null,
      "cell_type": "code",
      "outputs": [],
      "execution_state": "idle"
    },
    {
      "metadata": {
        "_cell_guid": "267df6c9-f8c8-18f8-5a24-f4f9a7ab3d70",
        "_active": false,
        "collapsed": false
      },
      "source": "import dicom # for reading dicom files\nimport os # for doing directory operations \nimport pandas as pd # for some simple data analysis (right now, just to load in the labels data and quickly reference it)\n\n# Change this to wherever you are storing your data:\n# IF YOU ARE FOLLOWING ON KAGGLE, YOU CAN ONLY PLAY WITH THE SAMPLE DATA, WHICH IS MUCH SMALLER\n\ndata_dir = '../input/sample_images/'\npatients = os.listdir(data_dir)\nlabels_df = pd.read_csv('../input/stage1_labels.csv', index_col=0)\n\nlabels_df.head()",
      "execution_count": null,
      "cell_type": "code",
      "outputs": [],
      "execution_state": "idle"
    },
    {
      "metadata": {
        "_cell_guid": "ba9366b4-1567-ad45-a6b6-92f02738ddb5",
        "_active": false,
        "collapsed": false
      },
      "source": "import dicom\nimport os\nimport pandas as pd",
      "execution_count": null,
      "cell_type": "code",
      "outputs": [],
      "execution_state": "idle"
    },
    {
      "metadata": {
        "_cell_guid": "26f01ef1-dae1-d5f8-9975-8c631f711700",
        "_active": false,
        "collapsed": false
      },
      "source": "data_dir = '../input/sample_images/'\npatients = os.listdir(data_dir)",
      "execution_count": null,
      "cell_type": "code",
      "outputs": [],
      "execution_state": "idle"
    },
    {
      "metadata": {
        "_cell_guid": "cfe6e5c3-202a-408b-d4ba-4253cc080d0b",
        "_active": false,
        "collapsed": false
      },
      "source": "labels_df = pd.read_csv('../input/stage1_labels.csv', index_col=0)",
      "execution_count": null,
      "cell_type": "code",
      "outputs": [],
      "execution_state": "idle"
    },
    {
      "metadata": {
        "_cell_guid": "d0ed3396-f458-af66-56c1-bbe610b30f88",
        "_active": true,
        "collapsed": false
      },
      "source": null,
      "execution_count": null,
      "cell_type": "code",
      "outputs": [],
      "execution_state": "idle"
    }
  ]
}