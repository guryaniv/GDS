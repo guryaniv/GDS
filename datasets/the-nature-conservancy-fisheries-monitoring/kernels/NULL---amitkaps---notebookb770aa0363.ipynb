{
  "metadata": {
    "kernelspec": {
      "display_name": "Python 3",
      "language": "python",
      "name": "python3"
    },
    "language_info": {
      "codemirror_mode": {
        "name": "ipython",
        "version": 3
      },
      "file_extension": ".py",
      "mimetype": "text/x-python",
      "name": "python",
      "nbconvert_exporter": "python",
      "pygments_lexer": "ipython3",
      "version": "3.6.0"
    }
  },
  "nbformat": 4,
  "nbformat_minor": 0,
  "cells": [
    {
      "metadata": {
        "_cell_guid": "f17e5d2c-9eb6-af84-f7aa-a4f8b158129c",
        "_active": false,
        "collapsed": false
      },
      "source": null,
      "execution_count": null,
      "cell_type": "markdown",
      "outputs": [],
      "execution_state": "idle"
    },
    {
      "metadata": {
        "_cell_guid": "89a9b9a8-0551-d9f1-3522-970ae3990da6",
        "_active": false,
        "collapsed": false
      },
      "source": "# This Python 3 environment comes with many helpful analytics libraries installed\n# It is defined by the kaggle/python docker image: https://github.com/kaggle/docker-python\n# For example, here's several helpful packages to load in \n\nimport numpy as np # linear algebra\nimport pandas as pd # data processing, CSV file I/O (e.g. pd.read_csv)\n\n# Input data files are available in the \"../input/\" directory.\n# For example, running this (by clicking run or pressing Shift+Enter) will list the files in the input directory\n\nfrom subprocess import check_output\nprint(check_output([\"ls\", \"../input\"]).decode(\"utf8\"))\n\n# Any results you write to the current directory are saved as output.",
      "execution_count": 2,
      "cell_type": "code",
      "outputs": [],
      "execution_state": "idle"
    },
    {
      "metadata": {
        "_cell_guid": "eb277886-160b-901e-6a2e-7991a79c9f2a",
        "_active": false,
        "collapsed": false
      },
      "source": "print(check_output([\"ls\", \"../input/train\"]).decode(\"utf8\"))\n",
      "execution_count": 3,
      "cell_type": "code",
      "outputs": [],
      "execution_state": "idle"
    },
    {
      "metadata": {
        "_cell_guid": "07ed9766-38aa-101a-d6ac-89c8e80e65bc",
        "_active": false,
        "collapsed": false
      },
      "source": "import pandas as pd\nimport numpy as np\nimport matplotlib.pyplot as plt\n\nimport glob\nimport random\nfrom scipy.misc import imread",
      "execution_count": 4,
      "cell_type": "code",
      "outputs": [],
      "execution_state": "idle"
    },
    {
      "metadata": {
        "_cell_guid": "b8b48ac7-4016-8804-f0c8-255c4c862668",
        "_active": true,
        "collapsed": false
      },
      "source": "select = 500 # Only load 500 images for speed\n# Data loading\n#train_files = sorted(glob.glob('../input/train/*/*.jpg'), key=lambda x: random.random())[:select]\ntrain_files = glob.glob('../input/train/*/*.jpg')\ntrain = np.array([imread(img) for img in train_files])\nprint('Length of train {}'.format(len(train)))",
      "execution_count": 7,
      "cell_type": "code",
      "outputs": [],
      "execution_state": "busy"
    },
    {
      "metadata": {
        "_cell_guid": "4187f75d-e7af-4bf9-e933-3896ac9df050",
        "_active": false,
        "collapsed": false
      },
      "source": "train[1].shape",
      "execution_count": 6,
      "cell_type": "code",
      "outputs": [],
      "execution_state": "idle"
    },
    {
      "metadata": {
        "_cell_guid": "0997a248-5d59-6d0e-b0db-0dfedae42850",
        "_active": false,
        "collapsed": false
      },
      "source": "plt.imshow(train[1])",
      "execution_count": null,
      "cell_type": "code",
      "outputs": [],
      "execution_state": "idle"
    },
    {
      "metadata": {
        "_cell_guid": "206bfc59-c583-b110-4bb6-020bc550e279",
        "_active": false,
        "collapsed": false
      },
      "source": "print('Sizes in train:')\nshapes = np.array([str(img.shape) for img in train])\npd.Series(shapes).value_counts()",
      "execution_count": null,
      "cell_type": "code",
      "outputs": [],
      "execution_state": "idle"
    },
    {
      "metadata": {
        "_cell_guid": "e256f7e8-497e-c2fd-3287-55eff80b6b86",
        "_active": false,
        "collapsed": false
      },
      "source": null,
      "execution_count": null,
      "cell_type": "code",
      "outputs": [],
      "execution_state": "idle"
    }
  ]
}