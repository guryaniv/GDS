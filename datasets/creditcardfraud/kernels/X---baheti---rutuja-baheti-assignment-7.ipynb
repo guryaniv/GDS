{
  "cells": [
    {
      "cell_type": "code",
      "execution_count": null,
      "metadata": {
        "_cell_guid": "2e67bbb7-961d-9bdf-f221-fc2e68194abc"
      },
      "outputs": [],
      "source": [
        "import nltk\n",
        "#natural language toolkit"
      ]
    },
    {
      "cell_type": "code",
      "execution_count": null,
      "metadata": {
        "_cell_guid": "97baf607-4532-dff3-25e3-d2d9f3c5850b"
      },
      "outputs": [],
      "source": [
        "from nltk.book import*\n",
        "#9 types of text available in NLTK book you may choose any text as per your interest"
      ]
    },
    {
      "cell_type": "code",
      "execution_count": null,
      "metadata": {
        "_cell_guid": "5f832490-fcd3-fb25-4d6a-312457781573"
      },
      "outputs": [],
      "source": [
        "# display all occurences of word in piece of text along with context\n",
        "text1.concordance(\"by\")"
      ]
    },
    {
      "cell_type": "code",
      "execution_count": null,
      "metadata": {
        "_cell_guid": "224e3fb0-a9c9-5514-ce78-4cba3f2b0bab"
      },
      "outputs": [],
      "source": [
        "text2.concordance(\"by\")"
      ]
    },
    {
      "cell_type": "code",
      "execution_count": null,
      "metadata": {
        "_cell_guid": "af3bd9c0-8d9d-36c4-3aee-821a013f2327"
      },
      "outputs": [],
      "source": [
        "# returns a list of words that appaer in similar context usually synonyms\n",
        "text1.similar(\"by\")"
      ]
    },
    {
      "cell_type": "code",
      "execution_count": null,
      "metadata": {
        "_cell_guid": "68fe45c2-c427-e80b-d455-554b9489e3f3"
      },
      "outputs": [],
      "source": [
        "text2.similar(\"by\")"
      ]
    },
    {
      "cell_type": "code",
      "execution_count": null,
      "metadata": {
        "_cell_guid": "7f3a7925-945a-b750-6fe3-d1b6be11bdec"
      },
      "outputs": [],
      "source": [
        "# returns contexts shared by 2 words\n",
        "text2.common_contexts(['by','happy'])"
      ]
    },
    {
      "cell_type": "code",
      "execution_count": null,
      "metadata": {
        "_cell_guid": "01a6bdad-1bff-32c0-74a2-6c12f71e611c"
      },
      "outputs": [],
      "source": [
        "# print plot of all occurences of the word relative to begining of the text\n",
        "text1.dispersion_plot(['by','happy'])"
      ]
    },
    {
      "cell_type": "code",
      "execution_count": null,
      "metadata": {
        "_cell_guid": "f780981c-d721-6d0f-3376-eaaa03aff2e2"
      },
      "outputs": [],
      "source": [
        "from nltk.tokenize import word_tokenize, sent_tokenize\n",
        "text=\"this is bvcoew. bvcoew is sppu affiliated\"\n",
        "sents=sent_tokenize(text)\n",
        "print(sents)"
      ]
    },
    {
      "cell_type": "code",
      "execution_count": null,
      "metadata": {
        "_cell_guid": "9a22ce34-8872-1448-139d-c2d60cd14c3e"
      },
      "outputs": [],
      "source": [
        "l = nltk.word_tokenize(text)\n",
        "print(l)"
      ]
    },
    {
      "cell_type": "code",
      "execution_count": null,
      "metadata": {
        "_cell_guid": "9581181c-2ea0-d828-a84f-6585c582d82a"
      },
      "outputs": [],
      "source": [
        "# Let's filter out stopwords (words that are very common like 'was', 'a', 'as etc)\n",
        "from nltk.corpus import stopwords \n",
        "from string import punctuation\n",
        "customStopWords=set(stopwords.words('english')+list(punctuation))\n",
        "#Notice how we made the stopwords a set\n",
        "\n",
        "wordsWOStopwords=[word for word in word_tokenize(text) if word not in customStopWords]\n",
        "print(wordsWOStopwords)\n"
      ]
    },
    {
      "cell_type": "code",
      "execution_count": null,
      "metadata": {
        "_cell_guid": "7a5e8cf0-38bc-e565-62a8-5a9b0a0f3bd4"
      },
      "outputs": [],
      "source": [
        "text2=\"Mary closed on closing night when she was in the mood to close.\"\n",
        "# 'close' appears in different morphological forms here, stemming will reduce all forms of the word 'close' to its root\n",
        "# NLTK has multiple stemmers based on different rules/algorithms. Stemming is also known as lemmatization. \n",
        "from nltk.stem.lancaster import LancasterStemmer\n",
        "st=LancasterStemmer()\n",
        "stemmedWords=[st.stem(word) for word in word_tokenize(text2)]\n",
        "print(stemmedWords)"
      ]
    },
    {
      "cell_type": "code",
      "execution_count": null,
      "metadata": {
        "_cell_guid": "2937ef9c-3c8f-e74f-12d9-1b8a3fdd301e"
      },
      "outputs": [],
      "source": [
        "#NLTK has functionality to automatically tag words as nouns, verbs, conjunctions etc\n",
        "nltk.pos_tag(word_tokenize(text2))"
      ]
    },
    {
      "cell_type": "code",
      "execution_count": null,
      "metadata": {
        "_cell_guid": "bd240b50-77c7-9b1e-e597-d8927ac5e12b"
      },
      "outputs": [],
      "source": ""
    }
  ],
  "metadata": {
    "_change_revision": 0,
    "_is_fork": false,
    "kernelspec": {
      "display_name": "Python 3",
      "language": "python",
      "name": "python3"
    },
    "language_info": {
      "codemirror_mode": {
        "name": "ipython",
        "version": 3
      },
      "file_extension": ".py",
      "mimetype": "text/x-python",
      "name": "python",
      "nbconvert_exporter": "python",
      "pygments_lexer": "ipython3",
      "version": "3.6.0"
    }
  },
  "nbformat": 4,
  "nbformat_minor": 0
}