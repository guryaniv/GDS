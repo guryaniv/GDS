{
  "cells": [
    {
      "cell_type": "code",
      "execution_count": null,
      "metadata": {
        "_cell_guid": "4ae1234f-ec95-37c5-4f9c-710427186b13"
      },
      "outputs": [],
      "source": [
        "import numpy as np\n",
        "import pandas as pd\n",
        "import dicom\n",
        "import os\n",
        "import matplotlib.pyplot as plt\n",
        "import cv2\n",
        "import math\n",
        "from sklearn.model_selection import StratifiedKFold\n",
        "import xgboost as xgb\n",
        "from scipy.stats import gmean\n",
        "\n",
        "IMG_SIZE_PX = 50\n",
        "SLICE_COUNT = 20"
      ]
    },
    {
      "cell_type": "code",
      "execution_count": null,
      "metadata": {
        "_cell_guid": "25bee9aa-0b49-579b-561c-9345c8d77845"
      },
      "outputs": [],
      "source": [
        "stage1_data = np.load('stage1data-50-50-20.npy')\n",
        "\n",
        "train_data = stage1_data[:]\n",
        "print(train_data.shape)\n",
        "\n",
        "train_features = []\n",
        "train_labels = []\n",
        "\n",
        "\n",
        "for i in range(0,train_data.shape[0]):\n",
        "    train_features = train_features + [(train_data[i,0])[0]]\n",
        "    train_labels = train_labels + [(train_data[i,1])[1]]\n",
        "'''\n",
        "for i in range(0,len(train_features)):\n",
        "    for j in range(0,len(train_features[i])):\n",
        "        for k in range(0,len((train_features[i])[j])):\n",
        "                       if ((train_features[i])[j])[k] == -2000:\n",
        "                           ((train_features[i])[j])[k] = 0\n",
        "'''    \n",
        "train_features = np.array(train_features)\n",
        "train_labels = np.array(train_labels)\n",
        "\n",
        "nsamples, nx, ny = train_features.shape\n",
        "d2_train_features = train_features.reshape((nsamples,nx*ny))\n",
        "'''\n",
        "from sklearn.preprocessing import StandardScaler\n",
        "scaler = StandardScaler().fit(d2_train_features)\n",
        "d2_train_features = scaler.transform(d2_train_features)\n",
        "'''\n",
        "print(train_features.shape)\n",
        "print(d2_train_features.shape)\n",
        "print(train_labels.shape)\n",
        "\n",
        "del train_data\n",
        "del stage1_data\n",
        "del train_features"
      ]
    },
    {
      "cell_type": "code",
      "execution_count": null,
      "metadata": {
        "_cell_guid": "ecdda120-b131-48e7-9b62-4819025c55a3"
      },
      "outputs": [],
      "source": [
        "stage2_data = np.load('stage2data-50-50-20.npy')\n",
        "\n",
        "print('Test Data')\n",
        "test_data = stage2_data[:]\n",
        "print(test_data.shape)\n",
        "\n",
        "test_features = []\n",
        "\n",
        "for i in range(0,test_data.shape[0]):\n",
        "    test_features = test_features + [(test_data[i,0])[0]]\n",
        "'''\n",
        "for i in range(0,len(test_features)):\n",
        "    for j in range(0,len(test_features[i])):\n",
        "        for k in range(0,len((test_features[i])[j])):\n",
        "                       if ((test_features[i])[j])[k] == -2000:\n",
        "                           ((test_features[i])[j])[k] = 0    \n",
        "'''    \n",
        "test_features = np.array(test_features)\n",
        "nsamples, nx, ny = test_features.shape\n",
        "d2_test_features = test_features.reshape((nsamples,nx*ny))\n",
        "'''\n",
        "from sklearn.preprocessing import StandardScaler\n",
        "scaler = StandardScaler().fit(d2_test_features)\n",
        "d2_test_features = scaler.transform(d2_test_features)\n",
        "'''\n",
        "print('Test Data')\n",
        "print(test_features.shape)\n",
        "print(d2_test_features.shape)\n",
        "\n",
        "del stage2_data\n",
        "del test_data\n",
        "del test_features"
      ]
    },
    {
      "cell_type": "code",
      "execution_count": null,
      "metadata": {
        "_cell_guid": "25dc112a-5bdc-5f0c-1cfc-63c81d973b6b"
      },
      "outputs": [],
      "source": [
        "import xgboost as xgb\n",
        "from sklearn.grid_search import GridSearchCV\n",
        "xgdmat = xgb.DMatrix(d2_train_features,train_labels)\n",
        "\n",
        "our_params = {'eta': 0.1, 'seed':0, 'subsample': 0.8, 'colsample_bytree': 0.8, \n",
        "             'objective': 'binary:logistic', 'max_depth':3, 'min_child_weight':1}\n",
        "final_gb = xgb.train(our_params, xgdmat, num_boost_round = 1000)"
      ]
    },
    {
      "cell_type": "code",
      "execution_count": null,
      "metadata": {
        "_cell_guid": "3b802331-606d-7774-e150-5e2600a28965"
      },
      "outputs": [],
      "source": [
        "testdmat = xgb.DMatrix(d2_test_features)\n",
        "test_pred_xgProb = final_gb.predict(testdmat)\n",
        "\n",
        "pred = []\n",
        "for i in range(0,test_pred_xgProb.shape[0]):\n",
        "    pred = pred + [test_pred_xgProb[i]]\n",
        "\n",
        "xgbPatients_df = pd.read_csv('..input/stage2_sample_submission.csv')\n",
        "xgbPatients_df['cancer'] = pd.Series(pred)\n",
        "xgbPatients_df.to_csv(\"..input//stage2_pred_xgb_6.csv\",index=False)"
      ]
    },
    {
      "cell_type": "code",
      "execution_count": null,
      "metadata": {
        "_cell_guid": "9c407bf0-54a8-5b07-62fc-1d8c97963fbe"
      },
      "outputs": [],
      "source": ""
    }
  ],
  "metadata": {
    "_change_revision": 0,
    "_is_fork": false,
    "kernelspec": {
      "display_name": "Python 3",
      "language": "python",
      "name": "python3"
    },
    "language_info": {
      "codemirror_mode": {
        "name": "ipython",
        "version": 3
      },
      "file_extension": ".py",
      "mimetype": "text/x-python",
      "name": "python",
      "nbconvert_exporter": "python",
      "pygments_lexer": "ipython3",
      "version": "3.6.0"
    }
  },
  "nbformat": 4,
  "nbformat_minor": 0
}