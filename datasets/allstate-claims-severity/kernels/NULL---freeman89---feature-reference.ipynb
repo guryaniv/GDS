{
  "cells": [
    {
      "cell_type": "markdown",
      "metadata": {
        "_cell_guid": "759a311e-d5d9-f4a5-e949-272802a70e6d"
      },
      "source": [
        "Simple visualization of all features to use as a reference"
      ]
    },
    {
      "cell_type": "code",
      "execution_count": null,
      "metadata": {
        "_cell_guid": "2172f7b7-abe6-6033-fa8d-4e65622040a3"
      },
      "outputs": [],
      "source": [
        "import pandas as pd\n",
        "import numpy as np\n",
        "import matplotlib.pyplot as plt\n",
        "%matplotlib inline"
      ]
    },
    {
      "cell_type": "code",
      "execution_count": null,
      "metadata": {
        "_cell_guid": "ae5b6d7b-3e01-9629-931e-8fae39a93612"
      },
      "outputs": [],
      "source": [
        "df_train =pd.read_csv('../input/train.csv')\n",
        "df_test = pd.read_csv('../input/test.csv')"
      ]
    },
    {
      "cell_type": "code",
      "execution_count": null,
      "metadata": {
        "_cell_guid": "473e4d78-190c-8819-c4a3-644a8c14c2ce"
      },
      "outputs": [],
      "source": [
        "get_detail = lambda values: (np.min(values), np.max(values), np.mean(values), np.median(values), np.std(values))"
      ]
    },
    {
      "cell_type": "code",
      "execution_count": null,
      "metadata": {
        "_cell_guid": "bc89f437-a2a0-bc55-7ac2-d70b49a86217"
      },
      "outputs": [],
      "source": [
        "def visualise_cont(name, max_percent=None):\n",
        "    \n",
        "    plt.figure(figsize=(10,10))\n",
        "    \n",
        "    train_values = np.sort(df_train[name].values)\n",
        "    plt.subplot(2, 1, 1)\n",
        "    # Labels\n",
        "    x_label = 'Min: %f, Max: %f, Mean: %f, Median: %f, Std: %f' % get_detail(train_values)\n",
        "    y_label ='Train Freature ' + name\n",
        "    \n",
        "    plt.plot(train_values, '-b')\n",
        "    plt.xlabel(x_label)\n",
        "    plt.ylabel(y_label)\n",
        "    \n",
        "    test_values = np.sort(df_test[name].values)\n",
        "    plt.subplot(2, 1, 2)\n",
        "    # Labels\n",
        "    x_label = 'Min: %f, Max: %f, Mean: %f, Median: %f, Std: %f' % get_detail(test_values)\n",
        "    y_label = 'Test Freature ' + name\n",
        "    \n",
        "    plt.plot(test_values, '-r')\n",
        "    plt.xlabel(x_label)\n",
        "    plt.ylabel(y_label)\n",
        "    plt.show()"
      ]
    },
    {
      "cell_type": "code",
      "execution_count": null,
      "metadata": {
        "_cell_guid": "5c9313ac-5be7-dbe1-e4a6-4f00f9a841e0"
      },
      "outputs": [],
      "source": [
        "def visualise_cat(name):\n",
        "    plt.figure(figsize=(10,10))\n",
        "    plt.subplot(2, 1, 1)\n",
        "    train_counts = df_train[name].value_counts()\n",
        "    train_counts.plot(kind='bar', title='Train Feature '+name, color='b')\n",
        "    plt.subplot(2, 1, 2)\n",
        "    test_counts = df_test[name].value_counts()\n",
        "    test_counts.plot(kind='bar', title='Test Feature '+name, color='r')\n",
        "    plt.show()\n",
        "    print('Train Feature ' + name)\n",
        "    print(train_counts)\n",
        "    print('-')\n",
        "    print('Test Feature ' + name)\n",
        "    print(test_counts)"
      ]
    },
    {
      "cell_type": "code",
      "execution_count": null,
      "metadata": {
        "_cell_guid": "413256a3-f224-70f0-8afc-ce0a5999b6a0"
      },
      "outputs": [],
      "source": [
        "for feature in df_train.columns.values:\n",
        "    if 'cat' in feature:\n",
        "        visualise_cat(feature)\n",
        "    elif 'cont' in feature:\n",
        "        visualise_cont(feature)"
      ]
    },
    {
      "cell_type": "code",
      "execution_count": null,
      "metadata": {
        "_cell_guid": "8e928a58-92ac-c499-f901-fe8c818d5f5f"
      },
      "outputs": [],
      "source": [
        "# Loss\n",
        "plt.figure(figsize=(10,10))\n",
        "values = np.sort(df_train['loss'].values)\n",
        "x_label = 'Min: %f, Max: %f, Mean: %f, Median: %f, Std: %f' % get_detail(values)\n",
        "y_label ='Loss 100% of data'\n",
        "    \n",
        "plt.plot(values, '-g')\n",
        "plt.xlabel(x_label)\n",
        "plt.ylabel(y_label)"
      ]
    },
    {
      "cell_type": "code",
      "execution_count": null,
      "metadata": {
        "_cell_guid": "391deed1-717c-6f5f-928a-b20b73bc43d5"
      },
      "outputs": [],
      "source": [
        "# Loss\n",
        "plt.figure(figsize=(10,10))\n",
        "values = np.sort(df_train['loss'].values)[0:int(len(values) * .99)]\n",
        "x_label = 'Min: %f, Max: %f, Mean: %f, Median: %f, Std: %f' % get_detail(values)\n",
        "y_label ='Loss 99% of data'\n",
        "    \n",
        "plt.plot(values, '-g')\n",
        "plt.xlabel(x_label)\n",
        "plt.ylabel(y_label)"
      ]
    },
    {
      "cell_type": "code",
      "execution_count": null,
      "metadata": {
        "_cell_guid": "179ab205-7929-9b54-295c-7a3f248afe8e"
      },
      "outputs": [],
      "source": [
        ""
      ]
    }
  ],
  "metadata": {
    "_change_revision": 0,
    "_is_fork": false,
    "kernelspec": {
      "display_name": "Python 3",
      "language": "python",
      "name": "python3"
    },
    "language_info": {
      "codemirror_mode": {
        "name": "ipython",
        "version": 3
      },
      "file_extension": ".py",
      "mimetype": "text/x-python",
      "name": "python",
      "nbconvert_exporter": "python",
      "pygments_lexer": "ipython3",
      "version": "3.5.2"
    }
  },
  "nbformat": 4,
  "nbformat_minor": 0
}