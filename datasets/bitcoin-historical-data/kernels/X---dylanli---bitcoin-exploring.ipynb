{
  "cells": [
    {
      "cell_type": "markdown",
      "metadata": {
        "_cell_guid": "032bc93d-5285-8d77-25fc-19e865b06845"
      },
      "source": [
        "## A Simple Exploration "
      ]
    },
    {
      "cell_type": "code",
      "execution_count": null,
      "metadata": {
        "_cell_guid": "a664fc33-8ef1-5094-9bab-c80c89f467dd"
      },
      "outputs": [],
      "source": [
        "# This Python 3 environment comes with many helpful analytics libraries installed\n",
        "# It is defined by the kaggle/python docker image: https://github.com/kaggle/docker-python\n",
        "# For example, here's several helpful packages to load in \n",
        "\n",
        "import numpy as np # linear algebra\n",
        "import pandas as pd # data processing, CSV file I/O (e.g. pd.read_csv)\n",
        "\n",
        "# Input data files are available in the \"../input/\" directory.\n",
        "# For example, running this (by clicking run or pressing Shift+Enter) will list the files in the input directory\n",
        "\n",
        "from subprocess import check_output\n",
        "print(check_output([\"ls\", \"../input\"]).decode(\"utf8\"))\n",
        "\n",
        "# Any results you write to the current directory are saved as output."
      ]
    },
    {
      "cell_type": "code",
      "execution_count": null,
      "metadata": {
        "_cell_guid": "cc448c1b-1105-9636-b01b-5a223c687dd4"
      },
      "outputs": [],
      "source": [
        "import matplotlib.pyplot as plt\n",
        "import seaborn as sns"
      ]
    },
    {
      "cell_type": "code",
      "execution_count": null,
      "metadata": {
        "_cell_guid": "b270bafa-586c-dba5-5aa1-596a0a490f78"
      },
      "outputs": [],
      "source": [
        "bitUSD = pd.read_csv('../input/bitstampUSD_1-min_data_2012-01-01_to_2017-05-31.csv')"
      ]
    },
    {
      "cell_type": "code",
      "execution_count": null,
      "metadata": {
        "_cell_guid": "82703dd5-4693-16d2-b6a5-476b200cc9d0"
      },
      "outputs": [],
      "source": [
        "bitUSD.head()"
      ]
    },
    {
      "cell_type": "code",
      "execution_count": null,
      "metadata": {
        "_cell_guid": "77da24bf-6533-1f4d-4773-05ab3e39d73f"
      },
      "outputs": [],
      "source": [
        "bitUSD['Timestamp'] = bitUSD['Timestamp'].values.astype(int)"
      ]
    },
    {
      "cell_type": "code",
      "execution_count": null,
      "metadata": {
        "_cell_guid": "302460bd-0049-d926-ddf0-ac36e3ed870d"
      },
      "outputs": [],
      "source": [
        "import datetime\n",
        "bitUSD['Timestamp'] = [\n",
        "    datetime.datetime.fromtimestamp(\n",
        "    x\n",
        ").strftime('%Y-%m-%d %H:%M:%S')\n",
        "    for x in bitUSD['Timestamp'].values\n",
        "]"
      ]
    },
    {
      "cell_type": "code",
      "execution_count": null,
      "metadata": {
        "_cell_guid": "3b800bc6-990c-1c5a-b33c-c4c6c5d545fb"
      },
      "outputs": [],
      "source": [
        "nbitUSD = bitUSD.copy()\n",
        "nbitUSD = nbitUSD.dropna()"
      ]
    },
    {
      "cell_type": "code",
      "execution_count": null,
      "metadata": {
        "_cell_guid": "8774c77d-1580-fd0e-7593-d44ea73f8c58"
      },
      "outputs": [],
      "source": [
        "%matplotlib inline\n",
        "# Control the default size of figures in this Jupyter notebook\n",
        "%pylab inline\n",
        "pylab.rcParams['figure.figsize'] = (15, 9)   # Change the size of plots\n",
        " \n",
        "nbitUSD[\"Weighted_Price\"].plot(grid = True)"
      ]
    },
    {
      "cell_type": "code",
      "execution_count": null,
      "metadata": {
        "_cell_guid": "2bd38fb3-16a9-390a-a82c-064af937ac8f"
      },
      "outputs": [],
      "source": [
        "nbitUSD.head()"
      ]
    },
    {
      "cell_type": "code",
      "execution_count": null,
      "metadata": {
        "_cell_guid": "2034de45-c3ce-a524-89f1-ea914c4a584b"
      },
      "outputs": [],
      "source": [
        "nbitUSD = nbitUSD.set_index(nbitUSD['Timestamp'])\n",
        "nbitUSD = nbitUSD[[\"Open\", \"High\", \"Low\", \"Close\"]]\n",
        "nbitUSD.head()"
      ]
    },
    {
      "cell_type": "code",
      "execution_count": null,
      "metadata": {
        "_cell_guid": "159126ea-eb5a-10fa-6665-c9ec1808a565"
      },
      "outputs": [],
      "source": [
        "from matplotlib.dates import DateFormatter, WeekdayLocator, DayLocator, MONDAY\n",
        "from matplotlib.finance import candlestick_ohlc\n",
        " \n",
        "def pandas_candlestick_ohlc(dat, stick = \"day\", otherseries = None):\n",
        "    mondays = WeekdayLocator(MONDAY)        # major ticks on the mondays\n",
        "    alldays = DayLocator()              # minor ticks on the days\n",
        "    dayFormatter = DateFormatter('%d')      # e.g., 12\n",
        " \n",
        "    # Create a new DataFrame which includes OHLC data for each period specified by stick input\n",
        "    transdat = dat.loc[:,[\"Open\", \"High\", \"Low\", \"Close\"]]\n",
        "    if (type(stick) == str):\n",
        "        if stick == \"day\":\n",
        "            plotdat = transdat\n",
        "            stick = 1 # Used for plotting\n",
        "        elif stick in [\"week\", \"month\", \"year\"]:\n",
        "            if stick == \"week\":\n",
        "                transdat[\"week\"] = pd.to_datetime(transdat.index).map(lambda x: x.isocalendar()[1]) # Identify weeks\n",
        "            elif stick == \"month\":\n",
        "                transdat[\"month\"] = pd.to_datetime(transdat.index).map(lambda x: x.month) # Identify months\n",
        "            transdat[\"year\"] = pd.to_datetime(transdat.index).map(lambda x: x.isocalendar()[0]) # Identify years\n",
        "            grouped = transdat.groupby(list(set([\"year\",stick]))) # Group by year and other appropriate variable\n",
        "            plotdat = pd.DataFrame({\"Open\": [], \"High\": [], \"Low\": [], \"Close\": []}) # Create empty data frame containing what will be plotted\n",
        "            for name, group in grouped:\n",
        "                plotdat = plotdat.append(pd.DataFrame({\"Open\": group.iloc[0,0],\n",
        "                                            \"High\": max(group.High),\n",
        "                                            \"Low\": min(group.Low),\n",
        "                                            \"Close\": group.iloc[-1,3]},\n",
        "                                           index = [group.index[0]]))\n",
        "            if stick == \"week\": stick = 5\n",
        "            elif stick == \"month\": stick = 30\n",
        "            elif stick == \"year\": stick = 365\n",
        " \n",
        "    elif (type(stick) == int and stick >= 1):\n",
        "        transdat[\"stick\"] = [np.floor(i / stick) for i in range(len(transdat.index))]\n",
        "        grouped = transdat.groupby(\"stick\")\n",
        "        plotdat = pd.DataFrame({\"Open\": [], \"High\": [], \"Low\": [], \"Close\": []}) # Create empty data frame containing what will be plotted\n",
        "        for name, group in grouped:\n",
        "            plotdat = plotdat.append(pd.DataFrame({\"Open\": group.iloc[0,0],\n",
        "                                        \"High\": max(group.High),\n",
        "                                        \"Low\": min(group.Low),\n",
        "                                        \"Close\": group.iloc[-1,3]},\n",
        "                                       index = [group.index[0]]))\n",
        " \n",
        "    else:\n",
        "        raise ValueError('Valid inputs to argument \"stick\" include the strings \"day\", \"week\", \"month\", \"year\", or a positive integer')\n",
        " \n",
        " \n",
        "    # Set plot parameters, including the axis object ax used for plotting\n",
        "    fig, ax = plt.subplots()\n",
        "    fig.subplots_adjust(bottom=0.2)\n",
        "    if plotdat.index[-1] - plotdat.index[0]< pd.Timedelta('730 days'):\n",
        "        weekFormatter = DateFormatter('%b %d')  # e.g., Jan 12\n",
        "        ax.xaxis.set_major_locator(mondays)\n",
        "        ax.xaxis.set_minor_locator(alldays)\n",
        "    else:\n",
        "        weekFormatter = DateFormatter('%b %d, %Y')\n",
        "    ax.xaxis.set_major_formatter(weekFormatter)\n",
        " \n",
        "    ax.grid(True)\n",
        " \n",
        "    # Create the candelstick chart\n",
        "    candlestick_ohlc(ax, list(zip(list(date2num(plotdat.index.tolist())), plotdat[\"Open\"].tolist(), plotdat[\"High\"].tolist(),\n",
        "                      plotdat[\"Low\"].tolist(), plotdat[\"Close\"].tolist())),\n",
        "                      colorup = \"black\", colordown = \"red\", width = stick * .4)\n",
        " \n",
        "    # Plot other series (such as moving averages) as lines\n",
        "    if otherseries != None:\n",
        "        if type(otherseries) != list:\n",
        "            otherseries = [otherseries]\n",
        "        dat.loc[:,otherseries].plot(ax = ax, lw = 1.3, grid = True)\n",
        " \n",
        "    ax.xaxis_date()\n",
        "    ax.autoscale_view()\n",
        "    plt.setp(plt.gca().get_xticklabels(), rotation=45, horizontalalignment='right')\n",
        " \n",
        "    plt.show()\n",
        " \n",
        "pandas_candlestick_ohlc(nbitUSD)"
      ]
    },
    {
      "cell_type": "code",
      "execution_count": null,
      "metadata": {
        "_cell_guid": "80d161b6-ac34-be69-3018-30981e3c8480"
      },
      "outputs": [],
      "source": ""
    }
  ],
  "metadata": {
    "_change_revision": 0,
    "_is_fork": false,
    "kernelspec": {
      "display_name": "Python 3",
      "language": "python",
      "name": "python3"
    },
    "language_info": {
      "codemirror_mode": {
        "name": "ipython",
        "version": 3
      },
      "file_extension": ".py",
      "mimetype": "text/x-python",
      "name": "python",
      "nbconvert_exporter": "python",
      "pygments_lexer": "ipython3",
      "version": "3.6.0"
    }
  },
  "nbformat": 4,
  "nbformat_minor": 0
}