{
  "cells": [
    {
      "cell_type": "markdown",
      "metadata": {
        "_cell_guid": "51a302fc-09e6-be40-10df-dc704ead9b6a"
      },
      "source": [
        "As the column \"id\" refers to the id of a financial instrument, I tried to explore these instruments in isolation. Moreover I assume that column \"y\" refers to returns of the instrument."
      ]
    },
    {
      "cell_type": "code",
      "execution_count": null,
      "metadata": {
        "_cell_guid": "346c1444-b391-73c0-eafd-e71919cec1df"
      },
      "outputs": [],
      "source": [
        "import pandas as pd\n",
        "import matplotlib.pyplot as plt\n",
        "\n",
        "%matplotlib inline\n",
        "\n",
        "with pd.HDFStore(\"../input/train.h5\", \"r\") as train:\n",
        "    df = train.get(\"train\")"
      ]
    },
    {
      "cell_type": "markdown",
      "metadata": {
        "_cell_guid": "745aa520-edd3-9980-0afe-558e9217da00"
      },
      "source": [
        "First I try to find instruments, that neither start at timestamp 0 nor end at timestamp 1812 (=the last one). This is because I want to see if there are lags in the calculation of fundamental, derived or technical columns."
      ]
    },
    {
      "cell_type": "code",
      "execution_count": null,
      "metadata": {
        "_cell_guid": "c5e5e1b1-3cfc-4ef3-9110-d967129c572a"
      },
      "outputs": [],
      "source": [
        "ids = df[\"id\"].unique()\n",
        "ids_in = {}\n",
        "for x in ids:\n",
        "    time = df[df[\"id\"] == x].timestamp\n",
        "    if time.min() > 100 and time.max() < 1812:\n",
        "        ids_in[x] = (time.min(), time.max())\n",
        "\n",
        "for k, v in sorted(ids_in.items())[:10]:\n",
        "    print(\"id {} in [{},{}]\".format(k,v[0],v[1]))"
      ]
    },
    {
      "cell_type": "markdown",
      "metadata": {
        "_cell_guid": "8752b731-f305-88cc-c443-823854724bdb"
      },
      "source": [
        "I chose the instrument with id = 52 as an example. The first chart shows column \"y\", which i suppose is the return of instrument, calculated as return[t] = value[t] / value[t-1] - 1."
      ]
    },
    {
      "cell_type": "code",
      "execution_count": null,
      "metadata": {
        "_cell_guid": "c40e2d1b-c42e-58eb-17fb-63afe85ac586"
      },
      "outputs": [],
      "source": [
        "instrument = 52\n",
        "dfi = df[df[\"id\"] == instrument]\n",
        "plt.figure(figsize=(8,4))\n",
        "plt.plot(dfi[\"timestamp\"], dfi[\"y\"], linestyle=\"none\", marker=\".\")\n",
        "plt.xlabel('timestamp')\n",
        "plt.ylabel('returns')\n",
        "_ = plt.title('returns for id {}'.format(instrument))"
      ]
    },
    {
      "cell_type": "markdown",
      "metadata": {
        "_cell_guid": "96ccbfaf-71c0-95e3-4c6e-2a9123484296"
      },
      "source": [
        "Here I calculate the cumulative returns. So basically it is the line chart of the value of the instrument (stock?)."
      ]
    },
    {
      "cell_type": "code",
      "execution_count": null,
      "metadata": {
        "_cell_guid": "ae5df48b-d05e-ac2a-026c-158fcf04c48e"
      },
      "outputs": [],
      "source": [
        "pd.set_option('mode.chained_assignment',None)\n",
        "dfi.loc[:,\"cumprod\"] = (1+dfi[\"y\"]).cumprod()\n",
        "plt.figure(figsize=(8,4))\n",
        "plt.plot(dfi[\"timestamp\"], dfi[\"cumprod\"], linestyle=\"none\", marker=\".\")\n",
        "plt.xlabel('timestamp')\n",
        "plt.ylabel('value')\n",
        "_ = plt.title('compound returns for id {}'.format(instrument))"
      ]
    },
    {
      "cell_type": "markdown",
      "metadata": {
        "_cell_guid": "36f9881b-5c4b-aba8-0a6c-5c5e66ecbb99"
      },
      "source": [
        "Now i plot all columns / features of the chosen instrument usable for prediction."
      ]
    },
    {
      "cell_type": "code",
      "execution_count": null,
      "metadata": {
        "_cell_guid": "a7c75af9-a3ce-02a5-f549-c7430a562b0e"
      },
      "outputs": [],
      "source": [
        "cols = [x for x in dfi.columns.values if x not in [\"id\", \"timestamp\",\"y\",\"cumprod\"]]\n",
        "l = len(cols)\n",
        "f, ax = plt.subplots(int(l/3) + (1 if l%3 > 0 else 0), 3, figsize=(12,int(1.5*l)))\n",
        "cnt = 0\n",
        "for col in cols:\n",
        "    fig = ax[int(cnt/3),cnt%3]\n",
        "    fig.plot(dfi[\"timestamp\"], dfi[col], linestyle=\"none\", marker=\".\")\n",
        "    fig.set_title(\"{} for id {}\".format(col,instrument))\n",
        "    fig.set_xlim([0,2000])\n",
        "    fig.axvline(x=ids_in[instrument][0],color=\"r\",linewidth=1)\n",
        "    fig.axvline(x=ids_in[instrument][1],color=\"r\",linewidth=1)\n",
        "    cnt += 1"
      ]
    },
    {
      "cell_type": "markdown",
      "metadata": {
        "_cell_guid": "98c741b3-8b7d-de8b-74e7-10b9567ddcb4"
      },
      "source": [
        "The structures of the different features are very different. So to my humble opinion this difference in structure has to be reflected somehow in the model. I would not expect a simple linear model to perform / generalize very well."
      ]
    },
    {
      "cell_type": "code",
      "execution_count": null,
      "metadata": {
        "_cell_guid": "0a0231f2-4659-16cb-9730-d90995fb1cb8"
      },
      "outputs": [],
      "source": [
        ""
      ]
    }
  ],
  "metadata": {
    "_change_revision": 0,
    "_is_fork": false,
    "kernelspec": {
      "display_name": "Python 3",
      "language": "python",
      "name": "python3"
    },
    "language_info": {
      "codemirror_mode": {
        "name": "ipython",
        "version": 3
      },
      "file_extension": ".py",
      "mimetype": "text/x-python",
      "name": "python",
      "nbconvert_exporter": "python",
      "pygments_lexer": "ipython3",
      "version": "3.5.2"
    }
  },
  "nbformat": 4,
  "nbformat_minor": 0
}