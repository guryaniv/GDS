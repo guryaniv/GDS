{"cells":[
 {
  "cell_type": "code",
  "execution_count": null,
  "metadata": {
   "collapsed": false
  },
  "outputs": [],
  "source": "from time import time\nimport matplotlib.pyplot as plt\nimport numpy as np\nimport pandas as pd\n\nfrom sklearn.datasets import fetch_lfw_people\nfrom sklearn.ensemble import ExtraTreesClassifier\nfrom sklearn.cross_validation import train_test_split\nfrom sklearn.metrics import classification_report\nfrom sklearn.metrics import confusion_matrix\nfrom sklearn.metrics import log_loss\nfrom sklearn import preprocessing\nfrom sklearn.decomposition import RandomizedPCA\n\n%matplotlib\n\n# Number of cores to use to perform parallel fitting of the forest model\nn_jobs = -1\n"
 },
 {
  "cell_type": "code",
  "execution_count": null,
  "metadata": {
   "collapsed": false
  },
  "outputs": [],
  "source": "train = pd.read_csv('../input/train.csv')\ntest = pd.read_csv('../input/test.csv')\n\ny = train.QuoteConversion_Flag.values\ntrain = train.drop(['QuoteNumber', 'QuoteConversion_Flag'], axis=1)\ntest = test.drop('QuoteNumber', axis=1)\n\n# Lets play with some dates\ntrain['Date'] = pd.to_datetime(pd.Series(train['Original_Quote_Date']))\ntrain = train.drop('Original_Quote_Date', axis=1)\n\ntest['Date'] = pd.to_datetime(pd.Series(test['Original_Quote_Date']))\ntest = test.drop('Original_Quote_Date', axis=1)\n\ntrain['Year'] = train['Date'].apply(lambda x: int(str(x)[:4]))\ntrain['Month'] = train['Date'].apply(lambda x: int(str(x)[5:7]))\ntrain['weekday'] = train['Date'].dt.dayofweek\n\n\ntest['Year'] = test['Date'].apply(lambda x: int(str(x)[:4]))\ntest['Month'] = test['Date'].apply(lambda x: int(str(x)[5:7]))\ntest['weekday'] = test['Date'].dt.dayofweek\n\ntrain = train.drop('Date', axis=1)\ntest = test.drop('Date', axis=1)\n\ntrain = train.fillna(-1)\ntest = test.fillna(-1)\n\nfor f in train.columns:\n    if train[f].dtype=='object':\n        print(f)\n        lbl = preprocessing.LabelEncoder()\n        lbl.fit(list(train[f].values) + list(test[f].values))\n        train[f] = lbl.transform(list(train[f].values))\n        test[f] = lbl.transform(list(test[f].values))\n"
 }
],"metadata":{"kernelspec":{"display_name":"Python 3","language":"python","name":"python3"}}, "nbformat": 4, "nbformat_minor": 0}