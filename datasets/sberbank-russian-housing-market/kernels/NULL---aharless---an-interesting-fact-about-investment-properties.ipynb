{
  "cells": [
    {
      "cell_type": "markdown",
      "metadata": {
        "_cell_guid": "6cf2abaa-5271-44d0-41d2-004bdc07c340"
      },
      "source": [
        ""
      ]
    },
    {
      "cell_type": "code",
      "execution_count": null,
      "metadata": {
        "_cell_guid": "7fdf57fe-faec-5da7-905b-cf507c6aea6c"
      },
      "outputs": [],
      "source": [
        "import numpy as np \n",
        "import pandas as pd "
      ]
    },
    {
      "cell_type": "code",
      "execution_count": null,
      "metadata": {
        "_cell_guid": "00cbff18-dd13-b0d2-040d-36ab4e3a06d2"
      },
      "outputs": [],
      "source": [
        "train = pd.read_csv('../input/train.csv')"
      ]
    },
    {
      "cell_type": "markdown",
      "metadata": {
        "_cell_guid": "bccc5a4c-bea7-178e-a957-612c888671c1"
      },
      "source": [
        "Properties priced at small multiples of 1,000,000 are almost all investment"
      ]
    },
    {
      "cell_type": "code",
      "execution_count": null,
      "metadata": {
        "_cell_guid": "e175f103-1a8d-5e1a-8955-b2569de6f16f"
      },
      "outputs": [],
      "source": [
        "train[train.price_doc.isin([1e6, 2e6, 3e6, 4e6, 5e6])].product_type.value_counts()"
      ]
    },
    {
      "cell_type": "markdown",
      "metadata": {
        "_cell_guid": "72d9b368-dae7-835b-d220-f72873812320"
      },
      "source": [
        "Properties NOT priced at small multiples of 1,000,000 are fairly evenly distributed"
      ]
    },
    {
      "cell_type": "code",
      "execution_count": null,
      "metadata": {
        "_cell_guid": "cecea7be-a05c-75f9-3236-529b80642965"
      },
      "outputs": [],
      "source": [
        "train[~train.price_doc.isin([1e6, 2e6, 3e6, 4e6, 5e6])].product_type.value_counts()"
      ]
    },
    {
      "cell_type": "markdown",
      "metadata": {
        "_cell_guid": "46028b84-7239-17b8-8c70-88af1af95ddc"
      },
      "source": [
        "Investment prpoerties typically sell at round-numbered prices"
      ]
    },
    {
      "cell_type": "code",
      "execution_count": null,
      "metadata": {
        "_cell_guid": "35dd4ec6-4402-afe9-6581-37ebb2e644d1"
      },
      "outputs": [],
      "source": [
        "train[train.product_type==\"Investment\"].price_doc.value_counts().head(20)"
      ]
    },
    {
      "cell_type": "markdown",
      "metadata": {
        "_cell_guid": "4926a3dc-ae2a-cd41-96f3-dbb065431d6b"
      },
      "source": [
        "Ownwer-occupied properties typically sell at random-looking prices"
      ]
    },
    {
      "cell_type": "code",
      "execution_count": null,
      "metadata": {
        "_cell_guid": "e38bd3dd-cb1f-b879-d282-a14cc1f25723"
      },
      "outputs": [],
      "source": [
        "train[~(train.product_type==\"Investment\")].price_doc.value_counts().head(20)"
      ]
    },
    {
      "cell_type": "code",
      "execution_count": null,
      "metadata": {
        "_cell_guid": "454550b2-9ec2-c786-be9b-b1be139e6394"
      },
      "outputs": [],
      "source": [
        "print( \"\\nAmong\", train[(train.product_type==\"Investment\")].price_doc.count(), \n",
        "      \"investment sales, there were only\", \n",
        "      train[(train.product_type==\"Investment\")].price_doc.nunique(), \"unique prices.\\n\")\n",
        "print( \"Among\", train[~(train.product_type==\"Investment\")].price_doc.count(), \n",
        "      \"owner-occupant sales, there were\", \n",
        "      train[~(train.product_type==\"Investment\")].price_doc.nunique(), \"unique prices.\" )"
      ]
    },
    {
      "cell_type": "code",
      "execution_count": null,
      "metadata": {
        "_cell_guid": "6dfdc8d2-ae1a-167c-6be3-f021d40a6abf"
      },
      "outputs": [],
      "source": [
        ""
      ]
    }
  ],
  "metadata": {
    "_change_revision": 0,
    "_is_fork": false,
    "kernelspec": {
      "display_name": "Python 3",
      "language": "python",
      "name": "python3"
    },
    "language_info": {
      "codemirror_mode": {
        "name": "ipython",
        "version": 3
      },
      "file_extension": ".py",
      "mimetype": "text/x-python",
      "name": "python",
      "nbconvert_exporter": "python",
      "pygments_lexer": "ipython3",
      "version": "3.6.0"
    }
  },
  "nbformat": 4,
  "nbformat_minor": 0
}