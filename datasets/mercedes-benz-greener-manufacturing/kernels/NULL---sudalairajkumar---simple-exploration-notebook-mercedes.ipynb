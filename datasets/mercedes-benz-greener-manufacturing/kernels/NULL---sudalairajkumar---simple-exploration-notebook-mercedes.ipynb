{
  "cells": [
    {
      "cell_type": "markdown",
      "metadata": {
        "_cell_guid": "a7bb5427-807a-5f9d-7e5b-da9ba7d53bb7"
      },
      "source": [
        "In this notebook, let us explore the dataset that is given for this competition.\n",
        "\n",
        "**Objective:**\n",
        "\n",
        "This dataset contains an anonymized set of variables that describe different Mercedes cars. The ground truth is labeled 'y' and represents the time (in seconds) that the car took to pass testing. \n",
        "\n",
        "Let us first import the necessary modules."
      ]
    },
    {
      "cell_type": "code",
      "execution_count": null,
      "metadata": {
        "_cell_guid": "3f860dba-f833-a61b-cbf4-318d578a0c61"
      },
      "outputs": [],
      "source": [
        "import numpy as np # linear algebra\n",
        "import pandas as pd # data processing, CSV file I/O (e.g. pd.read_csv)\n",
        "import matplotlib.pyplot as plt\n",
        "import seaborn as sns\n",
        "from sklearn import preprocessing\n",
        "import xgboost as xgb\n",
        "color = sns.color_palette()\n",
        "\n",
        "%matplotlib inline\n",
        "\n",
        "pd.options.mode.chained_assignment = None  # default='warn'\n",
        "pd.options.display.max_columns = 999\n",
        "\n",
        "from subprocess import check_output\n",
        "print(check_output([\"ls\", \"../input\"]).decode(\"utf8\"))"
      ]
    },
    {
      "cell_type": "code",
      "execution_count": null,
      "metadata": {
        "_cell_guid": "54d57ad3-5ac6-817e-7a1f-beaa71461c67"
      },
      "outputs": [],
      "source": [
        "train_df = pd.read_csv(\"../input/train.csv\")\n",
        "test_df = pd.read_csv(\"../input/test.csv\")\n",
        "print(\"Train shape : \", train_df.shape)\n",
        "print(\"Test shape : \", test_df.shape)"
      ]
    },
    {
      "cell_type": "markdown",
      "metadata": {
        "_cell_guid": "8cdace2e-2bdf-0645-9748-1e3b04a0a13b"
      },
      "source": [
        "Wow the number of rows are small with 388 columns. We should try not to overfit :)\n",
        "\n",
        "Let us look at the top few rows."
      ]
    },
    {
      "cell_type": "code",
      "execution_count": null,
      "metadata": {
        "_cell_guid": "a48c0537-c1b8-1c25-2184-441ec15c327a"
      },
      "outputs": [],
      "source": [
        "\n",
        "train_df.head()"
      ]
    },
    {
      "cell_type": "markdown",
      "metadata": {
        "_cell_guid": "7b74ea12-170b-c5e2-c3b1-bcbeb3137963"
      },
      "source": [
        "**Target Variable:**\n",
        "\n",
        "\"y\" is the variable we need to predict. So let us do some analysis on this variable first."
      ]
    },
    {
      "cell_type": "code",
      "execution_count": null,
      "metadata": {
        "_cell_guid": "143d232c-6b56-369d-9e19-10e65acd0190"
      },
      "outputs": [],
      "source": [
        "plt.figure(figsize=(8,6))\n",
        "plt.scatter(range(train_df.shape[0]), np.sort(train_df.y.values))\n",
        "plt.xlabel('index', fontsize=12)\n",
        "plt.ylabel('y', fontsize=12)\n",
        "plt.show()"
      ]
    },
    {
      "cell_type": "markdown",
      "metadata": {
        "_cell_guid": "9b6ade60-58f6-3446-a3d8-da1c5c53e1b7"
      },
      "source": [
        "Seems like a single data point is well above the rest. \n",
        "\n",
        "Now let us plot the distribution graph."
      ]
    },
    {
      "cell_type": "code",
      "execution_count": null,
      "metadata": {
        "_cell_guid": "146e9999-be25-458e-f7bd-5276a782b9c1"
      },
      "outputs": [],
      "source": [
        "ulimit = 180\n",
        "train_df['y'].ix[train_df['y']>ulimit] = ulimit\n",
        "\n",
        "plt.figure(figsize=(12,8))\n",
        "sns.distplot(train_df.y.values, bins=50, kde=False)\n",
        "plt.xlabel('y value', fontsize=12)\n",
        "plt.show()"
      ]
    },
    {
      "cell_type": "markdown",
      "metadata": {
        "_cell_guid": "d8de9470-d597-ca46-e091-6c457f0fc5cc"
      },
      "source": [
        "Now let us have a look at the data type of all the variables present in the dataset."
      ]
    },
    {
      "cell_type": "code",
      "execution_count": null,
      "metadata": {
        "_cell_guid": "7b5f8ed8-51a1-a3cf-1dfb-53d61dbc0a3d"
      },
      "outputs": [],
      "source": [
        "dtype_df = train_df.dtypes.reset_index()\n",
        "dtype_df.columns = [\"Count\", \"Column Type\"]\n",
        "dtype_df.groupby(\"Column Type\").aggregate('count').reset_index()"
      ]
    },
    {
      "cell_type": "markdown",
      "metadata": {
        "_cell_guid": "9b8d4880-f4ce-ebf4-8e50-b0f483101815"
      },
      "source": [
        "So majority of the columns are integers with 8 categorical columns and 1 float column (target variable)"
      ]
    },
    {
      "cell_type": "code",
      "execution_count": null,
      "metadata": {
        "_cell_guid": "83a063e8-d79c-59c0-23c0-a239e7f4f282"
      },
      "outputs": [],
      "source": [
        "dtype_df.ix[:10,:]"
      ]
    },
    {
      "cell_type": "markdown",
      "metadata": {
        "_cell_guid": "fdfc5ba6-b5c1-675f-1544-9b583136f403"
      },
      "source": [
        "X0 to X8 are the categorical columns.\n",
        "\n",
        "**Missing values:**\n",
        "\n",
        "Let us now check for the missing values."
      ]
    },
    {
      "cell_type": "code",
      "execution_count": null,
      "metadata": {
        "_cell_guid": "c0cf97e0-470b-fbeb-0b1d-5f289c09c628"
      },
      "outputs": [],
      "source": [
        "missing_df = train_df.isnull().sum(axis=0).reset_index()\n",
        "missing_df.columns = ['column_name', 'missing_count']\n",
        "missing_df = missing_df.ix[missing_df['missing_count']>0]\n",
        "missing_df = missing_df.sort_values(by='missing_count')\n",
        "missing_df"
      ]
    },
    {
      "cell_type": "markdown",
      "metadata": {
        "_cell_guid": "f78e003a-3ec2-5260-88f0-fd71246fbeda"
      },
      "source": [
        "Good to see that there are no missing values in the dataset :) \n",
        "\n",
        "**Integer Columns Analysis:**"
      ]
    },
    {
      "cell_type": "code",
      "execution_count": null,
      "metadata": {
        "_cell_guid": "fc836ed7-5f52-ce86-c287-8756c15dda5d"
      },
      "outputs": [],
      "source": [
        "unique_values_dict = {}\n",
        "for col in train_df.columns:\n",
        "    if col not in [\"ID\", \"y\", \"X0\", \"X1\", \"X2\", \"X3\", \"X4\", \"X5\", \"X6\", \"X8\"]:\n",
        "        unique_value = str(np.sort(train_df[col].unique()).tolist())\n",
        "        tlist = unique_values_dict.get(unique_value, [])\n",
        "        tlist.append(col)\n",
        "        unique_values_dict[unique_value] = tlist[:]\n",
        "for unique_val, columns in unique_values_dict.items():\n",
        "    print(\"Columns containing the unique values : \",unique_val)\n",
        "    print(columns)\n",
        "    print(\"--------------------------------------------------\")\n",
        "        "
      ]
    },
    {
      "cell_type": "markdown",
      "metadata": {
        "_cell_guid": "4921ec55-24ee-f263-20ab-2b832efda29a"
      },
      "source": [
        "So all the integer columns are binary with some columns have only one unique value 0. Possibly we could exclude those columns in our modeling activity.\n",
        "\n",
        "Now let us explore the categorical columns present in the dataset."
      ]
    },
    {
      "cell_type": "code",
      "execution_count": null,
      "metadata": {
        "_cell_guid": "e501e9f6-989d-9691-75df-2334c4063780"
      },
      "outputs": [],
      "source": [
        "var_name = \"X0\"\n",
        "col_order = np.sort(train_df[var_name].unique()).tolist()\n",
        "plt.figure(figsize=(12,6))\n",
        "sns.stripplot(x=var_name, y='y', data=train_df, order=col_order)\n",
        "plt.xlabel(var_name, fontsize=12)\n",
        "plt.ylabel('y', fontsize=12)\n",
        "plt.title(\"Distribution of y variable with \"+var_name, fontsize=15)\n",
        "plt.show()"
      ]
    },
    {
      "cell_type": "code",
      "execution_count": null,
      "metadata": {
        "_cell_guid": "20b666e1-0533-99ed-ba69-b76e29c95abd"
      },
      "outputs": [],
      "source": [
        "var_name = \"X1\"\n",
        "col_order = np.sort(train_df[var_name].unique()).tolist()\n",
        "plt.figure(figsize=(12,6))\n",
        "sns.stripplot(x=var_name, y='y', data=train_df, order=col_order)\n",
        "plt.xlabel(var_name, fontsize=12)\n",
        "plt.ylabel('y', fontsize=12)\n",
        "plt.title(\"Distribution of y variable with \"+var_name, fontsize=15)\n",
        "plt.show()"
      ]
    },
    {
      "cell_type": "code",
      "execution_count": null,
      "metadata": {
        "_cell_guid": "25220f45-70d0-7c40-88ba-66781e281a21"
      },
      "outputs": [],
      "source": [
        "var_name = \"X2\"\n",
        "col_order = np.sort(train_df[var_name].unique()).tolist()\n",
        "plt.figure(figsize=(12,6))\n",
        "sns.boxplot(x=var_name, y='y', data=train_df, order=col_order)\n",
        "plt.xlabel(var_name, fontsize=12)\n",
        "plt.ylabel('y', fontsize=12)\n",
        "plt.title(\"Distribution of y variable with \"+var_name, fontsize=15)\n",
        "plt.show()"
      ]
    },
    {
      "cell_type": "code",
      "execution_count": null,
      "metadata": {
        "_cell_guid": "9e1b6456-4dd8-7f6a-db99-17f825b73a44"
      },
      "outputs": [],
      "source": [
        "var_name = \"X3\"\n",
        "col_order = np.sort(train_df[var_name].unique()).tolist()\n",
        "plt.figure(figsize=(12,6))\n",
        "sns.violinplot(x=var_name, y='y', data=train_df, order=col_order)\n",
        "plt.xlabel(var_name, fontsize=12)\n",
        "plt.ylabel('y', fontsize=12)\n",
        "plt.title(\"Distribution of y variable with \"+var_name, fontsize=15)\n",
        "plt.show()"
      ]
    },
    {
      "cell_type": "code",
      "execution_count": null,
      "metadata": {
        "_cell_guid": "93658ab4-1ab1-2a52-3fcd-633c8e21bea8"
      },
      "outputs": [],
      "source": [
        "var_name = \"X4\"\n",
        "col_order = np.sort(train_df[var_name].unique()).tolist()\n",
        "plt.figure(figsize=(12,6))\n",
        "sns.violinplot(x=var_name, y='y', data=train_df, order=col_order)\n",
        "plt.xlabel(var_name, fontsize=12)\n",
        "plt.ylabel('y', fontsize=12)\n",
        "plt.title(\"Distribution of y variable with \"+var_name, fontsize=15)\n",
        "plt.show()"
      ]
    },
    {
      "cell_type": "code",
      "execution_count": null,
      "metadata": {
        "_cell_guid": "e6648819-5bc3-eeb0-7389-aee959c64be3"
      },
      "outputs": [],
      "source": [
        "var_name = \"X5\"\n",
        "col_order = np.sort(train_df[var_name].unique()).tolist()\n",
        "plt.figure(figsize=(12,6))\n",
        "sns.boxplot(x=var_name, y='y', data=train_df, order=col_order)\n",
        "plt.xlabel(var_name, fontsize=12)\n",
        "plt.ylabel('y', fontsize=12)\n",
        "plt.title(\"Distribution of y variable with \"+var_name, fontsize=15)\n",
        "plt.show()"
      ]
    },
    {
      "cell_type": "code",
      "execution_count": null,
      "metadata": {
        "_cell_guid": "e6d05648-f5bc-b475-0419-a1a11106cc1c"
      },
      "outputs": [],
      "source": [
        "var_name = \"X6\"\n",
        "col_order = np.sort(train_df[var_name].unique()).tolist()\n",
        "plt.figure(figsize=(12,6))\n",
        "sns.boxplot(x=var_name, y='y', data=train_df, order=col_order)\n",
        "plt.xlabel(var_name, fontsize=12)\n",
        "plt.ylabel('y', fontsize=12)\n",
        "plt.title(\"Distribution of y variable with \"+var_name, fontsize=15)\n",
        "plt.show()"
      ]
    },
    {
      "cell_type": "code",
      "execution_count": null,
      "metadata": {
        "_cell_guid": "9f83c309-4b1b-cd28-1b4d-d6c6434775ff"
      },
      "outputs": [],
      "source": [
        "var_name = \"X8\"\n",
        "col_order = np.sort(train_df[var_name].unique()).tolist()\n",
        "plt.figure(figsize=(12,6))\n",
        "sns.boxplot(x=var_name, y='y', data=train_df, order=col_order)\n",
        "plt.xlabel(var_name, fontsize=12)\n",
        "plt.ylabel('y', fontsize=12)\n",
        "plt.title(\"Distribution of y variable with \"+var_name, fontsize=15)\n",
        "plt.show()"
      ]
    },
    {
      "cell_type": "markdown",
      "metadata": {
        "_cell_guid": "3ea34b89-bfb0-51af-815a-7f596a519fe8"
      },
      "source": [
        "**Binary Variables:**\n",
        "\n",
        "Now we can look into the binary variables. There are quite a few of them as we have seen before. Let us start with getting the number of 0's and 1's in each of these variables."
      ]
    },
    {
      "cell_type": "code",
      "execution_count": null,
      "metadata": {
        "_cell_guid": "ea8dfe62-e5d0-d053-30eb-8e1ce8ab6146"
      },
      "outputs": [],
      "source": [
        "zero_count_list = []\n",
        "one_count_list = []\n",
        "cols_list = unique_values_dict['[0, 1]']\n",
        "for col in cols_list:\n",
        "    zero_count_list.append((train_df[col]==0).sum())\n",
        "    one_count_list.append((train_df[col]==1).sum())\n",
        "\n",
        "N = len(cols_list)\n",
        "ind = np.arange(N)\n",
        "width = 0.35\n",
        "\n",
        "plt.figure(figsize=(6,100))\n",
        "p1 = plt.barh(ind, zero_count_list, width, color='red')\n",
        "p2 = plt.barh(ind, one_count_list, width, left=zero_count_list, color=\"blue\")\n",
        "plt.yticks(ind, cols_list)\n",
        "plt.legend((p1[0], p2[0]), ('Zero count', 'One Count'))\n",
        "plt.show()"
      ]
    },
    {
      "cell_type": "markdown",
      "metadata": {
        "_cell_guid": "7b68ba6d-2bc4-68e6-c2eb-3c2ce7bdd6ec"
      },
      "source": [
        "Now let us check the mean y value in each of the binary variable."
      ]
    },
    {
      "cell_type": "code",
      "execution_count": null,
      "metadata": {
        "_cell_guid": "eabdb70c-1bda-30a2-e44d-1962ef07bb2d"
      },
      "outputs": [],
      "source": [
        "\n",
        "zero_mean_list = []\n",
        "one_mean_list = []\n",
        "cols_list = unique_values_dict['[0, 1]']\n",
        "for col in cols_list:\n",
        "    zero_mean_list.append(train_df.ix[train_df[col]==0].y.mean())\n",
        "    one_mean_list.append(train_df.ix[train_df[col]==1].y.mean())\n",
        "\n",
        "new_df = pd.DataFrame({\"column_name\":cols_list+cols_list, \"value\":[0]*len(cols_list) + [1]*len(cols_list), \"y_mean\":zero_mean_list+one_mean_list})\n",
        "new_df = new_df.pivot('column_name', 'value', 'y_mean')\n",
        "\n",
        "plt.figure(figsize=(8,80))\n",
        "sns.heatmap(new_df)\n",
        "plt.title(\"Mean of y value across binary variables\", fontsize=15)\n",
        "plt.show()"
      ]
    },
    {
      "cell_type": "markdown",
      "metadata": {
        "_cell_guid": "498165ce-53a9-eef2-2c13-00581b8afe88"
      },
      "source": [
        "Binary variables which shows a good color difference in the above graphs between 0 and 1 are likely to be more predictive given the the count distribution is also good between both the classes (can be seen from the previous graph). We will dive more into the important variables in the later part of the notebook.\n",
        "\n",
        "**ID variable:**\n",
        "\n",
        "One more important thing we need to look at it is ID variable. This will give an idea of how the splits are done across train and test (random or id based) and also to help see if ID has some potential prediction capability (probably not so useful for business)\n",
        "\n",
        "Let us first see how the 'y' variable changes with ID variable."
      ]
    },
    {
      "cell_type": "code",
      "execution_count": null,
      "metadata": {
        "_cell_guid": "d6d90a0b-59f9-37c6-52d1-11409079622a"
      },
      "outputs": [],
      "source": [
        "var_name = \"ID\"\n",
        "plt.figure(figsize=(12,6))\n",
        "sns.regplot(x=var_name, y='y', data=train_df, scatter_kws={'alpha':0.5, 's':30})\n",
        "plt.xlabel(var_name, fontsize=12)\n",
        "plt.ylabel('y', fontsize=12)\n",
        "plt.title(\"Distribution of y variable with \"+var_name, fontsize=15)\n",
        "plt.show()"
      ]
    },
    {
      "cell_type": "markdown",
      "metadata": {
        "_cell_guid": "76faf1c9-18e4-b646-77ad-36ac20b51d5b"
      },
      "source": [
        "There seems to be a slight decreasing trend with respect to ID variable. Now let us see how the IDs are distributed across train and test."
      ]
    },
    {
      "cell_type": "code",
      "execution_count": null,
      "metadata": {
        "_cell_guid": "a02130ef-4776-ec34-16e6-08210c05f465"
      },
      "outputs": [],
      "source": [
        "plt.figure(figsize=(6,10))\n",
        "train_df['eval_set'] = \"train\"\n",
        "test_df['eval_set'] = \"test\"\n",
        "full_df = pd.concat([train_df[[\"ID\",\"eval_set\"]], test_df[[\"ID\",\"eval_set\"]]], axis=0)\n",
        "\n",
        "plt.figure(figsize=(12,6))\n",
        "sns.violinplot(x=\"eval_set\", y='ID', data=full_df)\n",
        "plt.xlabel(\"eval_set\", fontsize=12)\n",
        "plt.ylabel('y', fontsize=12)\n",
        "plt.title(\"Distribution of ID variable with evaluation set\", fontsize=15)\n",
        "plt.show()"
      ]
    },
    {
      "cell_type": "markdown",
      "metadata": {
        "_cell_guid": "29a903cb-cf55-1c67-3ee5-409aee86317a"
      },
      "source": [
        "Seems like a random split of ID variable between train and test samples.\n",
        "\n",
        "**Important Variables:**\n",
        "\n",
        "Now let us run and xgboost model to get the important variables."
      ]
    },
    {
      "cell_type": "code",
      "execution_count": null,
      "metadata": {
        "_cell_guid": "eeda9aeb-05b0-cdf7-bafc-825c8e9a9abd"
      },
      "outputs": [],
      "source": [
        "for f in [\"X0\", \"X1\", \"X2\", \"X3\", \"X4\", \"X5\", \"X6\", \"X8\"]:\n",
        "        lbl = preprocessing.LabelEncoder()\n",
        "        lbl.fit(list(train_df[f].values)) \n",
        "        train_df[f] = lbl.transform(list(train_df[f].values))\n",
        "        \n",
        "train_y = train_df['y'].values\n",
        "train_X = train_df.drop([\"ID\", \"y\", \"eval_set\"], axis=1)\n",
        "\n",
        "# Thanks to anokas for this #\n",
        "def xgb_r2_score(preds, dtrain):\n",
        "    labels = dtrain.get_label()\n",
        "    return 'r2', r2_score(labels, preds)\n",
        "\n",
        "xgb_params = {\n",
        "    'eta': 0.05,\n",
        "    'max_depth': 6,\n",
        "    'subsample': 0.7,\n",
        "    'colsample_bytree': 0.7,\n",
        "    'objective': 'reg:linear',\n",
        "    'silent': 1\n",
        "}\n",
        "dtrain = xgb.DMatrix(train_X, train_y, feature_names=train_X.columns.values)\n",
        "model = xgb.train(dict(xgb_params, silent=0), dtrain, num_boost_round=100, feval=xgb_r2_score, maximize=True)\n",
        "\n",
        "# plot the important features #\n",
        "fig, ax = plt.subplots(figsize=(12,18))\n",
        "xgb.plot_importance(model, max_num_features=50, height=0.8, ax=ax)\n",
        "plt.show()"
      ]
    },
    {
      "cell_type": "markdown",
      "metadata": {
        "_cell_guid": "8f798d1d-e529-5567-a95b-4089583395ed"
      },
      "source": [
        "Categorical occupy the top spots followed by binary variables. \n",
        "\n",
        "Let us also build a Random Forest model and check the important variables."
      ]
    },
    {
      "cell_type": "code",
      "execution_count": null,
      "metadata": {
        "_cell_guid": "91e69192-2e77-46af-4cba-540dc50d3f1f"
      },
      "outputs": [],
      "source": [
        "from sklearn import ensemble\n",
        "model = ensemble.RandomForestRegressor(n_estimators=200, max_depth=10, min_samples_leaf=4, max_features=0.2, n_jobs=-1, random_state=0)\n",
        "model.fit(train_X, train_y)\n",
        "feat_names = train_X.columns.values\n",
        "\n",
        "## plot the importances ##\n",
        "importances = model.feature_importances_\n",
        "std = np.std([tree.feature_importances_ for tree in model.estimators_], axis=0)\n",
        "indices = np.argsort(importances)[::-1][:20]\n",
        "\n",
        "plt.figure(figsize=(12,12))\n",
        "plt.title(\"Feature importances\")\n",
        "plt.bar(range(len(indices)), importances[indices], color=\"r\", align=\"center\")\n",
        "plt.xticks(range(len(indices)), feat_names[indices], rotation='vertical')\n",
        "plt.xlim([-1, len(indices)])\n",
        "plt.show()"
      ]
    },
    {
      "cell_type": "markdown",
      "metadata": {
        "_cell_guid": "8d04f529-6d5e-84fb-c6ad-7f3375d64d1e"
      },
      "source": [
        "Quite a few differences in the important variables between xgboost and random forest. Not sure why though.!"
      ]
    },
    {
      "cell_type": "markdown",
      "metadata": {
        "_cell_guid": "9ea4f35d-4c84-63fc-dca2-6322ae3c1e2f"
      },
      "source": [
        "**More to come. Stay tuned.!**\n",
        "\n",
        "**Please upvote if you like it.!**"
      ]
    }
  ],
  "metadata": {
    "_change_revision": 0,
    "_is_fork": false,
    "kernelspec": {
      "display_name": "Python 3",
      "language": "python",
      "name": "python3"
    },
    "language_info": {
      "codemirror_mode": {
        "name": "ipython",
        "version": 3
      },
      "file_extension": ".py",
      "mimetype": "text/x-python",
      "name": "python",
      "nbconvert_exporter": "python",
      "pygments_lexer": "ipython3",
      "version": "3.6.0"
    }
  },
  "nbformat": 4,
  "nbformat_minor": 0
}