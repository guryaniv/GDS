{
  "metadata": {
    "kernelspec": {
      "display_name": "Python 3",
      "language": "python",
      "name": "python3"
    },
    "language_info": {
      "codemirror_mode": {
        "name": "ipython",
        "version": 3
      },
      "file_extension": ".py",
      "mimetype": "text/x-python",
      "name": "python",
      "nbconvert_exporter": "python",
      "pygments_lexer": "ipython3",
      "version": "3.5.2"
    }
  },
  "nbformat": 4,
  "nbformat_minor": 0,
  "cells": [
    {
      "metadata": {
        "_cell_guid": "e9f7ce18-426b-917a-dfb8-ef32c82883f1",
        "_active": false,
        "collapsed": false
      },
      "source": "# This Python 3 environment comes with many helpful analytics libraries installed\n# It is defined by the kaggle/python docker image: https://github.com/kaggle/docker-python\n# For example, here's several helpful packages to load in \n\nimport numpy as np # linear algebra\nimport pandas as pd # data processing, CSV file I/O (e.g. pd.read_csv)\n\n# Input data files are available in the \"../input/\" directory.\n# For example, running this (by clicking run or pressing Shift+Enter) will list the files in the input directory\n\nfrom subprocess import check_output\n#print(check_output([\"ls\", \"../input/images\"]).decode(\"utf8\"))\nch = check_output([\"ls\", \"../input/\"])\n\n# Any results you write to the current directory are saved as output.",
      "execution_count": 12,
      "cell_type": "code",
      "outputs": [],
      "execution_state": "idle"
    },
    {
      "metadata": {
        "_cell_guid": "1eb49cf6-ba0c-7f12-d57d-4c0591f998f1",
        "_active": false,
        "collapsed": false
      },
      "source": "df_train = pd.read_csv(\"../input/train.csv\")\ndf_test = pd.read_csv(\"../input/test.csv\")",
      "execution_count": 15,
      "cell_type": "code",
      "outputs": [],
      "execution_state": "idle"
    },
    {
      "metadata": {
        "_cell_guid": "9ef2eee5-e76b-78c6-c384-ca28bfe9004e",
        "_active": false,
        "collapsed": false
      },
      "source": "ch = df_train.ix[:,0:6]\nch.describe()",
      "execution_count": 22,
      "cell_type": "code",
      "outputs": [],
      "execution_state": "idle"
    },
    {
      "metadata": {
        "_cell_guid": "ba18ae91-939e-a34c-a810-30555352b669",
        "_active": false,
        "collapsed": false
      },
      "source": "import matplotlib.pyplot as plt\nimport seaborn as sns\nsns.set(font_scale=1)\n\npd.options.display.mpl_style = 'default'\n#df_train.ix[:,0:20].hist(bins=10,figsize=(9,7),grid=False)",
      "execution_count": 25,
      "cell_type": "code",
      "outputs": [],
      "execution_state": "idle"
    },
    {
      "metadata": {
        "_cell_guid": "df4c696a-29ee-74ad-33cc-ff83b5832433",
        "_active": true,
        "collapsed": false
      },
      "source": "corr = df_train.corr()\n\n\n#sns.heatmap(corr, vmax=1, square=True,annot=True,cmap='cubehelix')\n#plt.title('Correlation between features')\n#plt.show()",
      "execution_count": 30,
      "cell_type": "code",
      "outputs": [],
      "execution_state": "idle"
    },
    {
      "metadata": {
        "_cell_guid": "7cb3fdcd-b655-25cd-29e4-c6f3620382a2",
        "_active": false,
        "collapsed": false
      },
      "source": "#plt.figure(figsize=(10, 10))\n#sns.heatmap(corr, vmax=1, square=True,annot=True,cmap='cubehelix')\n#plt.title('Correlation between features')\n#plt.show()",
      "execution_count": 28,
      "cell_type": "code",
      "outputs": [],
      "execution_state": "idle"
    },
    {
      "metadata": {
        "_cell_guid": "bc828c99-ad44-dd25-c5e3-1e2c1d25bdcc",
        "_active": false,
        "collapsed": false
      },
      "source": null,
      "execution_count": null,
      "cell_type": "code",
      "outputs": []
    }
  ]
}