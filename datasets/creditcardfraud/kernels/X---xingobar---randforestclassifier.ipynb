{
  "cells": [
    {
      "cell_type": "code",
      "execution_count": null,
      "metadata": {
        "_cell_guid": "bc8cb52e-323f-129b-e638-73c1f4a1cb1c"
      },
      "outputs": [],
      "source": [
        "import numpy as np # linear algebra\n",
        "import pandas as pd # data processing, CSV file I/O (e.g. pd.read_csv)\n",
        "import matplotlib.pyplot as plt\n",
        "import seaborn as sns\n",
        "import xgboost as xgb\n",
        "from scipy.stats import skew\n",
        "from scipy.stats import boxcox\n",
        "from sklearn.cross_validation import train_test_split\n",
        "from sklearn.metrics import classification_report,accuracy_score,roc_auc_score\n",
        "from sklearn.ensemble import RandomForestClassifier\n",
        "\n",
        "%matplotlib inline\n",
        "# Input data files are available in the \"../input/\" directory.\n",
        "# For example, running this (by clicking run or pressing Shift+Enter) will list the files in the input directory\n",
        "\n",
        "from subprocess import check_output\n",
        "print(check_output([\"ls\", \"../input\"]).decode(\"utf8\"))\n",
        "\n",
        "# Any results you write to the current directory are saved as output."
      ]
    },
    {
      "cell_type": "code",
      "execution_count": null,
      "metadata": {
        "_cell_guid": "8b7788fb-62e0-857e-f93f-06bbd27822cc"
      },
      "outputs": [],
      "source": [
        "df = pd.read_csv('../input/creditcard.csv')"
      ]
    },
    {
      "cell_type": "code",
      "execution_count": null,
      "metadata": {
        "_cell_guid": "134828d3-327e-4b72-07e5-cc2e66a79016"
      },
      "outputs": [],
      "source": [
        "df.head()"
      ]
    },
    {
      "cell_type": "code",
      "execution_count": null,
      "metadata": {
        "_cell_guid": "8c332456-6dc2-0e08-3e1b-09fbcac445bb"
      },
      "outputs": [],
      "source": [
        "df.describe()"
      ]
    },
    {
      "cell_type": "code",
      "execution_count": null,
      "metadata": {
        "_cell_guid": "46b1cd94-8c94-5f0b-4ce6-a7f68630029c"
      },
      "outputs": [],
      "source": [
        "df['Class'].value_counts()"
      ]
    },
    {
      "cell_type": "code",
      "execution_count": null,
      "metadata": {
        "_cell_guid": "2aa7a695-32f4-085e-add7-7783a820555d"
      },
      "outputs": [],
      "source": [
        "df['Time_in_hour'] = df['Time'] / 3600\n",
        "df['Log_Amount'] = np.log1p(df['Amount'])"
      ]
    },
    {
      "cell_type": "markdown",
      "metadata": {
        "_cell_guid": "fe52d1b2-1970-a1ee-78a0-aa507cf95651"
      },
      "source": [
        "## Log Amount"
      ]
    },
    {
      "cell_type": "code",
      "execution_count": null,
      "metadata": {
        "_cell_guid": "c2703d1a-ccb9-4cba-34c7-4555d05f7433"
      },
      "outputs": [],
      "source": [
        "sns.plt.hist(df['Log_Amount'])\n",
        "plt.title('Log Amount')"
      ]
    },
    {
      "cell_type": "markdown",
      "metadata": {
        "_cell_guid": "c018713f-921b-cf2e-fde1-e559a8633f13"
      },
      "source": [
        "## Time In Hour"
      ]
    },
    {
      "cell_type": "code",
      "execution_count": null,
      "metadata": {
        "_cell_guid": "7fc9923c-dd74-04b5-a596-acd0d464f6c5"
      },
      "outputs": [],
      "source": [
        "df['Time_in_hour'].plot(kind='hist')\n",
        "plt.title('Time in hour')"
      ]
    },
    {
      "cell_type": "markdown",
      "metadata": {
        "_cell_guid": "cd68cbcf-db18-4ff1-cc87-5b8ae5fc44c5"
      },
      "source": [
        "## Class Count"
      ]
    },
    {
      "cell_type": "code",
      "execution_count": null,
      "metadata": {
        "_cell_guid": "db27ea0c-9b8a-24f3-9274-e2e6723f630b"
      },
      "outputs": [],
      "source": [
        "sns.countplot(df['Class'])\n",
        "plt.title('Class Count')"
      ]
    },
    {
      "cell_type": "markdown",
      "metadata": {
        "_cell_guid": "278e4d39-64c1-e253-7b7f-67643ec2aa00"
      },
      "source": [
        "## Class 1 "
      ]
    },
    {
      "cell_type": "code",
      "execution_count": null,
      "metadata": {
        "_cell_guid": "9f0def97-f3cd-8633-f4f5-ae2f100fbd8f"
      },
      "outputs": [],
      "source": [
        "sns.plt.hist(data=df[df['Class'] == 1] , x ='Time_in_hour')\n",
        "plt.title('Time_in_hour of class 1' )"
      ]
    },
    {
      "cell_type": "code",
      "execution_count": null,
      "metadata": {
        "_cell_guid": "cbf62262-3dea-7175-3f01-77673e9c9b1c"
      },
      "outputs": [],
      "source": [
        "columns = ['V1', 'V2', 'V3', 'V4', 'V5', 'V6', 'V7', 'V8', 'V9', 'V10',\n",
        "       'V11', 'V12', 'V13', 'V14', 'V15', 'V16', 'V17', 'V18', 'V19', 'V20',\n",
        "       'V21', 'V22', 'V23', 'V24', 'V25', 'V26', 'V27', 'V28',\n",
        "       'Class', 'Time_in_hour', 'Log_Amount']\n",
        "fig,ax = plt.subplots(figsize=(8,6))\n",
        "correlation = df[columns].corr(method='pearson')\n",
        "sns.heatmap(correlation,square=True,ax=ax,vmax=1)\n",
        "plt.title('Numeric Columns Correlation')"
      ]
    },
    {
      "cell_type": "code",
      "execution_count": null,
      "metadata": {
        "_cell_guid": "f9fd2cda-c194-fc43-74a1-242bf80796eb"
      },
      "outputs": [],
      "source": [
        "corr_dict = correlation['Class'].to_dict()\n",
        "## descending \n",
        "for key,val in sorted(corr_dict.items(),key=lambda x:-abs(x[1])):\n",
        "    print('{0} \\t : {1}'.format(key,val))"
      ]
    },
    {
      "cell_type": "code",
      "execution_count": null,
      "metadata": {
        "_cell_guid": "a9f5e37b-f14a-b4f2-fbbe-0b8c209b261a"
      },
      "outputs": [],
      "source": [
        "df.drop(['Time','Amount'],axis=1,inplace=True)"
      ]
    },
    {
      "cell_type": "code",
      "execution_count": null,
      "metadata": {
        "_cell_guid": "fd44b36f-f388-1ed0-ac07-f1746e7a9754"
      },
      "outputs": [],
      "source": [
        "columns = ['V1', 'V2', 'V3', 'V4', 'V5', 'V6', 'V7', 'V8', 'V9', 'V10', 'V11',\n",
        "       'V12', 'V13', 'V14', 'V15', 'V16', 'V17', 'V18', 'V19', 'V20', 'V21',\n",
        "       'V22', 'V23', 'V24', 'V25', 'V26', 'V27', 'V28', 'Time_in_hour',\n",
        "       'Log_Amount']\n",
        "skewed_list = []\n",
        "for col in columns:\n",
        "    skewed_list.append(skew(df[col]))\n",
        "plt.plot(skewed_list,'bo-')\n",
        "plt.plot([0.25 for i in range(len(columns))],'r--')\n",
        "plt.text(12,2,'threshold 0.25')"
      ]
    },
    {
      "cell_type": "code",
      "execution_count": null,
      "metadata": {
        "_cell_guid": "aa02af8f-05cf-e726-fdfb-27fc96492b84"
      },
      "outputs": [],
      "source": [
        "skewed = df[columns].apply(lambda x:skew(x.dropna()))\n",
        "skewed = skewed[skewed > 0.25].index\n",
        "df[skewed] = np.log1p(df[skewed])\n",
        "for col in columns:\n",
        "    df.loc[df[col].isnull(),col] = df[col].median()"
      ]
    },
    {
      "cell_type": "code",
      "execution_count": null,
      "metadata": {
        "_cell_guid": "09552736-3a7d-d9a0-d7fd-6823c9cf2b39"
      },
      "outputs": [],
      "source": [
        "y = df['Class']\n",
        "df.drop(['Class'],axis=1,inplace=True)\n",
        "X_train,X_valid,y_train,y_valid = train_test_split(df,y,test_size=.2,random_state=42)"
      ]
    },
    {
      "cell_type": "code",
      "execution_count": null,
      "metadata": {
        "_cell_guid": "4671974b-de08-db4d-e4f0-ad5824dbf4a7"
      },
      "outputs": [],
      "source": [
        "clf = RandomForestClassifier()\n",
        "clf.fit(X_train,y_train)\n",
        "y_pred = clf.predict(X_valid)"
      ]
    },
    {
      "cell_type": "code",
      "execution_count": null,
      "metadata": {
        "_cell_guid": "ad124564-5008-60e2-3bb8-ba04784f56eb"
      },
      "outputs": [],
      "source": [
        "print(classification_report(y_valid,y_pred))\n",
        "print('Accuracy : %f' %(accuracy_score(y_valid,y_pred)))\n",
        "print('Area under the curve : %f' %(roc_auc_score(y_valid,y_pred)))"
      ]
    },
    {
      "cell_type": "code",
      "execution_count": null,
      "metadata": {
        "_cell_guid": "80a88421-c0b4-ccdb-aa1c-f2455e295552"
      },
      "outputs": [],
      "source": [
        ""
      ]
    }
  ],
  "metadata": {
    "_change_revision": 0,
    "_is_fork": false,
    "kernelspec": {
      "display_name": "Python 3",
      "language": "python",
      "name": "python3"
    },
    "language_info": {
      "codemirror_mode": {
        "name": "ipython",
        "version": 3
      },
      "file_extension": ".py",
      "mimetype": "text/x-python",
      "name": "python",
      "nbconvert_exporter": "python",
      "pygments_lexer": "ipython3",
      "version": "3.5.2"
    }
  },
  "nbformat": 4,
  "nbformat_minor": 0
}