{
  "cells": [
    {
      "cell_type": "markdown",
      "metadata": {
        "_cell_guid": "31e97281-fb1e-d38d-efa2-59e4cf1a2907"
      },
      "source": [
        " House price prediction using regression\n",
        "\n",
        "*********************************************************************\n",
        "\n",
        "The steps followed to predict house prices are \n",
        "\n",
        "1. Data Ingestion \n",
        "\n",
        "2. Data Exploration \n",
        "\n",
        "3. Data Transformation \n",
        "\n",
        "4. Feature Selection\n",
        "\n",
        "5. Test train split \n",
        "\n",
        "6. Prediction"
      ]
    },
    {
      "cell_type": "code",
      "execution_count": null,
      "metadata": {
        "_cell_guid": "69ca1056-4a21-92d4-1342-6d46cbcb434f"
      },
      "outputs": [],
      "source": [
        "import pandas as pd \n",
        "%matplotlib inline"
      ]
    },
    {
      "cell_type": "code",
      "execution_count": null,
      "metadata": {
        "_cell_guid": "6bb945e9-5a72-ced8-8d95-3daf91049db9"
      },
      "outputs": [],
      "source": [
        "# Data Ingestion using pandas\n",
        "contents = pd.read_csv('../input/kc_house_data.csv')"
      ]
    },
    {
      "cell_type": "markdown",
      "metadata": {
        "_cell_guid": "6b816f8a-68a8-5961-cee8-5df25940546f"
      },
      "source": [
        "**Data Exploration using Pandas**"
      ]
    },
    {
      "cell_type": "code",
      "execution_count": null,
      "metadata": {
        "_cell_guid": "fde9e542-e30f-ac60-3f53-bb0f4aa14667"
      },
      "outputs": [],
      "source": [
        "# Data Exploration \n",
        "contents.head()"
      ]
    },
    {
      "cell_type": "code",
      "execution_count": null,
      "metadata": {
        "_cell_guid": "6dade9c0-1ff5-ed90-75c7-82aa2c9a29d2"
      },
      "outputs": [],
      "source": [
        "# Features \n",
        "len(contents.columns)"
      ]
    },
    {
      "cell_type": "markdown",
      "metadata": {
        "_cell_guid": "bbf1209e-5ccf-cba0-b7b0-d5d3a99b8b0a"
      },
      "source": [
        "*Understanding continuous and categorical attributes*"
      ]
    },
    {
      "cell_type": "code",
      "execution_count": null,
      "metadata": {
        "_cell_guid": "423c851c-d8cc-c4c5-5648-039ab8d4d686"
      },
      "outputs": [],
      "source": [
        "contents.info()"
      ]
    },
    {
      "cell_type": "code",
      "execution_count": null,
      "metadata": {
        "_cell_guid": "f01410dd-768e-b84b-7c08-4cdd649cf0d7"
      },
      "outputs": [],
      "source": [
        "contents.get_dtype_counts()"
      ]
    },
    {
      "cell_type": "markdown",
      "metadata": {
        "_cell_guid": "c3a92b74-b93c-2729-eace-116e51ae9bde"
      },
      "source": [
        "**Data Exploration**\n",
        "\n",
        "Here we perform,\n",
        "\n",
        "Univariate Analysis: analyzing individual features.\n",
        "\n",
        "Bi Variate analysis: analyzing features together."
      ]
    },
    {
      "cell_type": "markdown",
      "metadata": {
        "_cell_guid": "62e30bff-e996-29a2-f7bc-04abcd4c39b0"
      },
      "source": [
        "***Univariate Analysis***\n",
        "--------------------------------------------------\n",
        "\n",
        "For Continuous variables,we can find mean, median and IQR. \n",
        "\n",
        "Histograms, BoxPlot and Violin plots are used for visualization"
      ]
    },
    {
      "cell_type": "code",
      "execution_count": null,
      "metadata": {
        "_cell_guid": "6bb0dd71-8d16-5650-6ef4-aae0b4d2815e"
      },
      "outputs": [],
      "source": [
        "# data for mean house price \n",
        "contents.describe()"
      ]
    },
    {
      "cell_type": "code",
      "execution_count": null,
      "metadata": {
        "_cell_guid": "9d95c2aa-4243-19b1-ea05-3339870ddc42"
      },
      "outputs": [],
      "source": [
        "# get the mean price for the house \n",
        "target = contents['price'].tolist()\n",
        "mean_price = sum(target)/len(target)\n",
        "print(mean_price)"
      ]
    },
    {
      "cell_type": "code",
      "execution_count": null,
      "metadata": {
        "_cell_guid": "7ac99b85-e262-ed5f-d4d8-af17e2d314dd"
      },
      "outputs": [],
      "source": [
        "# Data for the mean,high and low sales price \n",
        "meanrange = contents[(contents.price > 540000) & (contents.price <= 550000) ]\n",
        "lowrange = contents[(contents.price > 70000) & (contents.price <= 75000) ]\n",
        "highrange = contents[(contents.price > 7000000) & (contents.price <= 7700000 ) ]"
      ]
    },
    {
      "cell_type": "code",
      "execution_count": null,
      "metadata": {
        "_cell_guid": "00b3a42f-c672-2735-5387-7fda8af6a9df"
      },
      "outputs": [],
      "source": [
        "low_price = min(target)\n",
        "print(low_price)\n",
        "high_price = max(target)\n",
        "print(high_price)"
      ]
    },
    {
      "cell_type": "code",
      "execution_count": null,
      "metadata": {
        "_cell_guid": "cdf44641-3602-602f-db04-f24796c8bf06"
      },
      "outputs": [],
      "source": [
        "print(\"Out of 21613 records\")\n",
        "print(\"The records in mean range\", len(meanrange))\n",
        "print(\"The records in high range\", len(highrange))\n",
        "print(\"The records in low range\", len(lowrange))"
      ]
    },
    {
      "cell_type": "code",
      "execution_count": null,
      "metadata": {
        "_cell_guid": "45d09a88-4248-8647-2cd0-2847a834c0a9"
      },
      "outputs": [],
      "source": [
        "len(contents)"
      ]
    },
    {
      "cell_type": "code",
      "execution_count": null,
      "metadata": {
        "_cell_guid": "0de30f8b-ad71-26ad-1099-da02a87633f3"
      },
      "outputs": [],
      "source": [
        "low_price = min(target)\n",
        "print(low_price)"
      ]
    },
    {
      "cell_type": "code",
      "execution_count": null,
      "metadata": {
        "_cell_guid": "494c7213-5dc0-772e-d67e-fcb670099eb8"
      },
      "outputs": [],
      "source": [
        "#Bar Plots for 'Bedroom' feature in the given dataset\n",
        "contents.bedrooms.value_counts().plot(kind = 'bar')"
      ]
    },
    {
      "cell_type": "code",
      "execution_count": null,
      "metadata": {
        "_cell_guid": "24f4252a-a994-281e-b5fa-9569292034d9"
      },
      "outputs": [],
      "source": [
        "contents.boxplot(['lat'])"
      ]
    },
    {
      "cell_type": "code",
      "execution_count": null,
      "metadata": {
        "_cell_guid": "b8cab3bb-6c01-87b9-617b-185cfb4dc8ef"
      },
      "outputs": [],
      "source": [
        "contents.boxplot(['long'])"
      ]
    },
    {
      "cell_type": "code",
      "execution_count": null,
      "metadata": {
        "_cell_guid": "2f6fec45-75f9-5128-9ccc-ca8b43b98f81"
      },
      "outputs": [],
      "source": [
        "contents.boxplot([ 'sqft_lot', 'sqft_living'])"
      ]
    },
    {
      "cell_type": "markdown",
      "metadata": {
        "_cell_guid": "5e891b9d-dc18-6b01-74b3-7783629fc36a"
      },
      "source": [
        "From the above box plot visualizations, we understand that the outlier removal should be performed in the data cleaning process\n",
        "\n",
        "------------------------------------------------------------------\n",
        "\n",
        "**Violin Plots**"
      ]
    },
    {
      "cell_type": "code",
      "execution_count": null,
      "metadata": {
        "_cell_guid": "2ca92e41-4f8a-4f1d-3d50-365f90145e7e"
      },
      "outputs": [],
      "source": [
        "import seaborn as sns\n",
        "sns.set(color_codes=True)"
      ]
    },
    {
      "cell_type": "code",
      "execution_count": null,
      "metadata": {
        "_cell_guid": "4beb776d-b755-8c63-c62f-be9dc3503b4d"
      },
      "outputs": [],
      "source": [
        "sns.violinplot(contents['yr_renovated'], color = 'cyan')"
      ]
    },
    {
      "cell_type": "code",
      "execution_count": null,
      "metadata": {
        "_cell_guid": "6974c440-d1f6-ff59-c332-367ae9a49b71"
      },
      "outputs": [],
      "source": [
        "sns.violinplot(contents['yr_built'], color = 'cyan')"
      ]
    },
    {
      "cell_type": "markdown",
      "metadata": {
        "_cell_guid": "fd8a3fc4-db64-00f4-59eb-a19823346557"
      },
      "source": [
        "**Skewness and Kurtosis analysis**"
      ]
    },
    {
      "cell_type": "code",
      "execution_count": null,
      "metadata": {
        "_cell_guid": "fddf980c-ad31-efce-a89a-35ab3d228737"
      },
      "outputs": [],
      "source": [
        "from scipy import stats\n",
        "stats.skew(contents.sqft_living, bias=False)"
      ]
    },
    {
      "cell_type": "code",
      "execution_count": null,
      "metadata": {
        "_cell_guid": "f59eb7a6-0d96-1799-1396-34260a1dcb24"
      },
      "outputs": [],
      "source": [
        "stats.skew(contents.sqft_lot15, bias = False)"
      ]
    },
    {
      "cell_type": "code",
      "execution_count": null,
      "metadata": {
        "_cell_guid": "10920884-5511-d084-e661-23761a7d14d3"
      },
      "outputs": [],
      "source": [
        "stats.kurtosis(contents.sqft_living15, bias=False)"
      ]
    },
    {
      "cell_type": "code",
      "execution_count": null,
      "metadata": {
        "_cell_guid": "fb7ae53b-8900-31e9-48eb-5e195a9ef74a"
      },
      "outputs": [],
      "source": [
        "stats.kurtosis(contents.sqft_lot15, bias=False)"
      ]
    },
    {
      "cell_type": "markdown",
      "metadata": {
        "_cell_guid": "d0be2ee3-0e2b-528e-55eb-160e08bac675"
      },
      "source": [
        "**BiVariate Analysis**\n",
        "-----------------------------------------------------\n",
        "\n",
        "Here we use scatterplots for our analysis"
      ]
    },
    {
      "cell_type": "markdown",
      "metadata": {
        "_cell_guid": "fea22db2-7e7e-1048-7f09-038abc3ea1a3"
      },
      "source": [
        "****Linear Correlation between features** **"
      ]
    },
    {
      "cell_type": "code",
      "execution_count": null,
      "metadata": {
        "_cell_guid": "49adfa55-fdb1-375b-e4cc-0456328635a1"
      },
      "outputs": [],
      "source": [
        "lin_cor = contents.corr(method = 'pearson')['price']\n",
        "lin_cor = lin_cor.sort_values(ascending=False)\n",
        "print(lin_cor)"
      ]
    },
    {
      "cell_type": "markdown",
      "metadata": {
        "_cell_guid": "6051522f-f415-3544-3e7e-5935c45c1dc1"
      },
      "source": [
        "**Visualization of linear correlation**"
      ]
    },
    {
      "cell_type": "code",
      "execution_count": null,
      "metadata": {
        "_cell_guid": "ebe5ded9-257d-0d23-0ade-1e310bf7e776"
      },
      "outputs": [],
      "source": [
        "import matplotlib.pyplot as plt\n",
        "plt.scatter(target,contents.sqft_living)"
      ]
    },
    {
      "cell_type": "code",
      "execution_count": null,
      "metadata": {
        "_cell_guid": "097e1cb3-8b57-c48e-78af-ec23cd098cb4"
      },
      "outputs": [],
      "source": [
        "plt.scatter(target,contents.sqft_lot15)"
      ]
    },
    {
      "cell_type": "code",
      "execution_count": null,
      "metadata": {
        "_cell_guid": "98da33a6-d8cc-cbcd-806e-d1b12457d6d9"
      },
      "outputs": [],
      "source": [
        "plt.scatter(target,contents.yr_renovated)"
      ]
    },
    {
      "cell_type": "code",
      "execution_count": null,
      "metadata": {
        "_cell_guid": "f0ceb53c-b122-7c7b-1d6a-bf289dd0df41"
      },
      "outputs": [],
      "source": [
        "plt.scatter(target,contents.grade)"
      ]
    },
    {
      "cell_type": "code",
      "execution_count": null,
      "metadata": {
        "_cell_guid": "be322109-a194-1765-7098-95a195984810"
      },
      "outputs": [],
      "source": [
        "plt.scatter(target, contents.long)"
      ]
    },
    {
      "cell_type": "code",
      "execution_count": null,
      "metadata": {
        "_cell_guid": "46c3fbca-f5e4-6160-8fb9-0d05eb09ec22"
      },
      "outputs": [],
      "source": [
        "plt.scatter(target, contents.zipcode)"
      ]
    },
    {
      "cell_type": "markdown",
      "metadata": {
        "_cell_guid": "0fdbdade-5c89-58f9-e820-b6a107351442"
      },
      "source": [
        " Data Cleaning and transformation \n",
        "-------------------------------------------------\n",
        "This stage handles,\n",
        "\n",
        "1. removal of missing values \n",
        "\n",
        "2. Data Feature transformation: Extract the year attribute and encode the year\n",
        "\n",
        "3. Removal of the column id as it has no impact on the price\n",
        "\n",
        "4. Zscore to remove outliers"
      ]
    },
    {
      "cell_type": "code",
      "execution_count": null,
      "metadata": {
        "_cell_guid": "e67af508-02a5-cf30-c9ac-a9b329e9f64a"
      },
      "outputs": [],
      "source": [
        "contents.isnull().values.any()"
      ]
    },
    {
      "cell_type": "code",
      "execution_count": null,
      "metadata": {
        "_cell_guid": "cbd45833-f45b-5d84-695d-24f5a3e8919b"
      },
      "outputs": [],
      "source": [
        "# Convert date to year \n",
        "date_posted = pd.DatetimeIndex(contents['date']).year"
      ]
    },
    {
      "cell_type": "code",
      "execution_count": null,
      "metadata": {
        "_cell_guid": "2a8fbbb0-a45f-a1b1-f1e1-dfb53e87bdb7"
      },
      "outputs": [],
      "source": [
        "conv_dates = [1 if values == 2014 else 0 for values in date_posted ]\n",
        "contents['date'] = conv_dates"
      ]
    },
    {
      "cell_type": "code",
      "execution_count": null,
      "metadata": {
        "_cell_guid": "b52a0b01-06ef-c7f4-122b-4f8bc2f2f32d"
      },
      "outputs": [],
      "source": [
        "contents.date.value_counts().plot(kind = 'bar')"
      ]
    },
    {
      "cell_type": "code",
      "execution_count": null,
      "metadata": {
        "_cell_guid": "fc376a4b-2de5-04b0-ec1c-09e3251baee8"
      },
      "outputs": [],
      "source": [
        "contents = contents.drop('id', axis = 1)"
      ]
    },
    {
      "cell_type": "code",
      "execution_count": null,
      "metadata": {
        "_cell_guid": "adf17e76-b220-2818-1b32-bb6f49aabe60"
      },
      "outputs": [],
      "source": [
        "contents.describe()"
      ]
    },
    {
      "cell_type": "markdown",
      "metadata": {
        "_cell_guid": "c084f269-315d-e668-f696-e7fe37f8c718"
      },
      "source": [
        "**Removing outliers **"
      ]
    },
    {
      "cell_type": "code",
      "execution_count": null,
      "metadata": {
        "_cell_guid": "f1054f43-9f79-5cfb-4efc-f42fb94c7db7"
      },
      "outputs": [],
      "source": [
        "import numpy as np\n",
        "from scipy import stats\n",
        "contents= contents[(np.abs(stats.zscore(contents)) < 3).all(axis=1)]"
      ]
    },
    {
      "cell_type": "code",
      "execution_count": null,
      "metadata": {
        "_cell_guid": "60ad73c8-bcb7-1233-b1a5-2677c043e22c"
      },
      "outputs": [],
      "source": [
        "contents.boxplot([ 'sqft_lot', 'sqft_living'])"
      ]
    },
    {
      "cell_type": "code",
      "execution_count": null,
      "metadata": {
        "_cell_guid": "f4158492-d7eb-5721-066f-5c7ad5842aff"
      },
      "outputs": [],
      "source": [
        "contents.boxplot(['long'])"
      ]
    },
    {
      "cell_type": "markdown",
      "metadata": {
        "_cell_guid": "dd810d24-cc3f-8208-41ec-41ffcd41fbd5"
      },
      "source": [
        " Feature Selection\n",
        "---------------------------------------------\n",
        "\n",
        "For dimensionality reduction, \n",
        "we have used\n",
        "\n",
        "1. PCA \n",
        "2. Stability Selection"
      ]
    },
    {
      "cell_type": "code",
      "execution_count": null,
      "metadata": {
        "_cell_guid": "abe1e0a0-f4de-1495-3ff9-54cc58b27394"
      },
      "outputs": [],
      "source": [
        "predictors = contents.drop('price', axis = 1)\n",
        "price = contents['price'].tolist()"
      ]
    },
    {
      "cell_type": "markdown",
      "metadata": {
        "_cell_guid": "182004b9-7675-2a6b-0792-c4a768277848"
      },
      "source": [
        "**1. Using PCA**"
      ]
    },
    {
      "cell_type": "code",
      "execution_count": null,
      "metadata": {
        "_cell_guid": "e5000cc5-501e-00fc-aab1-6c7db3cdbcdb"
      },
      "outputs": [],
      "source": [
        "#Standardize the data to input to PCA\n",
        "from sklearn.preprocessing import scale\n",
        "std_inputs = scale(predictors)\n",
        "res_inputs = std_inputs.reshape((-1,19))\n",
        "std_df = pd.DataFrame(data=std_inputs,columns= predictors.columns)"
      ]
    },
    {
      "cell_type": "code",
      "execution_count": null,
      "metadata": {
        "_cell_guid": "311e9dc8-a9ff-b682-1103-a0ef9b17ac22"
      },
      "outputs": [],
      "source": [
        "# 1. Principal Component Analysis (PCA)\n",
        "from sklearn.decomposition import PCA\n",
        "pca = PCA()   \n",
        "pca = PCA().fit_transform(std_inputs)"
      ]
    },
    {
      "cell_type": "markdown",
      "metadata": {
        "_cell_guid": "c38c2fc2-c9bb-ac7e-8240-c0deb171ae5f"
      },
      "source": [
        "**Kaisers criterion**"
      ]
    },
    {
      "cell_type": "code",
      "execution_count": null,
      "metadata": {
        "_cell_guid": "33b6c704-9499-5120-7c5c-75db7f5847a3"
      },
      "outputs": [],
      "source": [
        "a = list(np.std((pca), axis=0))\n",
        "summary = pd.DataFrame([a])\n",
        "summary = summary.transpose()\n",
        "summary.columns = ['sdev']\n",
        "summary.index = predictors.columns\n",
        "kaiser = summary.sdev ** 2\n",
        "print(kaiser)"
      ]
    },
    {
      "cell_type": "markdown",
      "metadata": {
        "_cell_guid": "1251762f-0153-8e80-d1cb-e849c3960a1d"
      },
      "source": [
        "**Scree Plot**"
      ]
    },
    {
      "cell_type": "code",
      "execution_count": null,
      "metadata": {
        "_cell_guid": "62439070-3f5b-2b24-04a7-d8ff4ac250e7"
      },
      "outputs": [],
      "source": [
        "y = np.std(pca, axis=0)**2\n",
        "x = np.arange(len(y)) + 1\n",
        "plt.plot(x, y, \"o-\")\n",
        "plt.show()"
      ]
    },
    {
      "cell_type": "markdown",
      "metadata": {
        "_cell_guid": "65bec3ef-3f31-79f2-b80a-002c7d1a76aa"
      },
      "source": [
        "**2.Stability selection**"
      ]
    },
    {
      "cell_type": "code",
      "execution_count": null,
      "metadata": {
        "_cell_guid": "d9afa3fa-bbad-c604-173e-8f4f411fd3b7"
      },
      "outputs": [],
      "source": [
        "import time \n",
        "from sklearn.linear_model import RandomizedLasso\n",
        "rlasso = RandomizedLasso(alpha=0.025)"
      ]
    },
    {
      "cell_type": "code",
      "execution_count": null,
      "metadata": {
        "_cell_guid": "88e7ecf6-005f-44cc-bd09-045f67464e68"
      },
      "outputs": [],
      "source": [
        "%time rlasso.fit(predictors, price)"
      ]
    },
    {
      "cell_type": "code",
      "execution_count": null,
      "metadata": {
        "_cell_guid": "e14ed3d2-f0a6-8894-405f-785b8ddfa8d2"
      },
      "outputs": [],
      "source": [
        "names = predictors.columns\n",
        "print(sorted(zip(map(lambda x: round(x, 4), rlasso.scores_), \n",
        "                 names), reverse=True))"
      ]
    },
    {
      "cell_type": "code",
      "execution_count": null,
      "metadata": {
        "_cell_guid": "a7afce2c-53f5-86fd-4019-c899533da748"
      },
      "outputs": [],
      "source": [
        "final_predictors = predictors.drop(['yr_renovated', 'waterfront'], axis = 1)"
      ]
    },
    {
      "cell_type": "markdown",
      "metadata": {
        "_cell_guid": "c0cfd48d-12be-2a41-59ee-5b04611dee77"
      },
      "source": [
        "Train test split"
      ]
    },
    {
      "cell_type": "code",
      "execution_count": null,
      "metadata": {
        "_cell_guid": "6d621dec-8a3b-6b3f-8552-bbb8059fd24e"
      },
      "outputs": [],
      "source": [
        "from sklearn.model_selection import train_test_split\n",
        "X_train, X_test, y_train, y_test = train_test_split(final_predictors, price, test_size=0.33, random_state=42)"
      ]
    },
    {
      "cell_type": "markdown",
      "metadata": {
        "_cell_guid": "8d2331e3-af05-6875-4fcf-654171741937"
      },
      "source": [
        " Prediction\n",
        "----------------------------------------\n",
        "The regression algorithms used\n",
        "1. Linear Regression\n",
        "2. Gradient Boosting machine (GBM)"
      ]
    },
    {
      "cell_type": "code",
      "execution_count": null,
      "metadata": {
        "_cell_guid": "aec30aca-709a-0cca-95ac-3adfddd88c61"
      },
      "outputs": [],
      "source": [
        "#Linear regression \n",
        "from sklearn import linear_model\n",
        "regr = linear_model.LinearRegression()\n",
        "regr.fit(X_train,y_train)"
      ]
    },
    {
      "cell_type": "code",
      "execution_count": null,
      "metadata": {
        "_cell_guid": "5ea15337-1211-3aba-ef12-58f34b7e9d77"
      },
      "outputs": [],
      "source": [
        "#r2 score \n",
        "regr.score(X_test,y_test)"
      ]
    },
    {
      "cell_type": "code",
      "execution_count": null,
      "metadata": {
        "_cell_guid": "a64b90e8-5338-1d57-ab47-b34bdb8b5d8e"
      },
      "outputs": [],
      "source": [
        "#GBM model\n",
        "from sklearn import ensemble\n",
        "params = {'n_estimators': 200, 'max_depth': 5, 'min_samples_split': 2,\n",
        "          'learning_rate': 0.1, 'loss': 'ls'}\n",
        "clf = ensemble.GradientBoostingRegressor(**params)"
      ]
    },
    {
      "cell_type": "code",
      "execution_count": null,
      "metadata": {
        "_cell_guid": "0813cd4e-6405-eb32-65c9-4924a44c9553"
      },
      "outputs": [],
      "source": [
        "clf.fit(X_train, y_train)"
      ]
    },
    {
      "cell_type": "code",
      "execution_count": null,
      "metadata": {
        "_cell_guid": "bc6c7961-8752-7392-1bb3-e264efada59a"
      },
      "outputs": [],
      "source": [
        "#r^2 score\n",
        "clf.score(X_test,y_test)"
      ]
    },
    {
      "cell_type": "markdown",
      "metadata": {
        "_cell_guid": "a7e71c18-8385-1617-1ce7-a54d03ff5222"
      },
      "source": [
        " **Log loss**"
      ]
    },
    {
      "cell_type": "code",
      "execution_count": null,
      "metadata": {
        "_cell_guid": "e43bb998-593d-a9e6-08b5-e588ada455b7"
      },
      "outputs": [],
      "source": [
        "test_score = np.zeros((params['n_estimators'],), dtype=np.float64)\n",
        "\n",
        "for i, y_pred in enumerate(clf.staged_predict(X_test)):\n",
        "    test_score[i] = clf.loss_(y_test, y_pred)\n",
        "\n",
        "plt.figure(figsize=(12, 6))\n",
        "plt.subplot(1, 2, 1)\n",
        "plt.title('Deviance')\n",
        "plt.plot(np.arange(params['n_estimators']) + 1, clf.train_score_, 'b-',\n",
        "         label='Training Set Deviance')\n",
        "plt.plot(np.arange(params['n_estimators']) + 1, test_score, 'r-',\n",
        "         label='Test Set Deviance')\n",
        "plt.legend(loc='upper right')\n",
        "plt.xlabel('Boosting Iterations')\n",
        "plt.ylabel('Deviance')"
      ]
    },
    {
      "cell_type": "markdown",
      "metadata": {
        "_cell_guid": "db7bf86b-15e0-b7ad-c846-4288248668c1"
      },
      "source": [
        "**Variable Importances**"
      ]
    },
    {
      "cell_type": "code",
      "execution_count": null,
      "metadata": {
        "_cell_guid": "c0c0fd2d-0387-2a3d-4c37-637d1bb1c652"
      },
      "outputs": [],
      "source": [
        "feature_importance = clf.feature_importances_\n",
        "# make importances relative to max importance\n",
        "feature_importance = 100.0 * (feature_importance / feature_importance.max())\n",
        "sorted_idx = np.argsort(feature_importance)\n",
        "pos = np.arange(sorted_idx.shape[0]) + .5\n",
        "plt.subplot(1, 2, 2)\n",
        "plt.barh(pos, feature_importance[sorted_idx], align='center')\n",
        "plt.yticks(pos, final_predictors.columns[sorted_idx])\n",
        "plt.xlabel('Relative Importance')\n",
        "plt.title('Variable Importance')\n",
        "plt.show()"
      ]
    }
  ],
  "metadata": {
    "_change_revision": 0,
    "_is_fork": false,
    "kernelspec": {
      "display_name": "Python 3",
      "language": "python",
      "name": "python3"
    },
    "language_info": {
      "codemirror_mode": {
        "name": "ipython",
        "version": 3
      },
      "file_extension": ".py",
      "mimetype": "text/x-python",
      "name": "python",
      "nbconvert_exporter": "python",
      "pygments_lexer": "ipython3",
      "version": "3.6.0"
    }
  },
  "nbformat": 4,
  "nbformat_minor": 0
}