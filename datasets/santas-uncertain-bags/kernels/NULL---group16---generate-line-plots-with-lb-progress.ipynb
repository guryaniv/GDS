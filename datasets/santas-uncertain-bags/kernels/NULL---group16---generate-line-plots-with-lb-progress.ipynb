{
  "cells": [
    {
      "cell_type": "markdown",
      "metadata": {
        "_cell_guid": "10f6ce37-37b6-d183-ea41-68a2f32cf657"
      },
      "source": [
        "So yesterday, I learned that there is an asOf=<date> feature in the LB from **Ben Gorman**. So I thought it would be cool to use this to generate plots of the progress of the LB.\n",
        "\n",
        "This kernel will scrape the leaderboard from the start of the competition until now and generate a line plot of the scores of the specified users. **Unfortunately, requests.get() does not seem to work from a Kaggle kernel** (if someone has a solution for this, please post it!). Therefore, you'll need to execute this code locally.\n",
        "\n",
        "For the example image below, I just picked 4 random names!\n",
        "\n",
        "![Example][1]\n",
        "\n",
        "\n",
        "  [1]: http://i68.tinypic.com/2l8clfm.jpg"
      ]
    },
    {
      "cell_type": "code",
      "execution_count": null,
      "metadata": {
        "_cell_guid": "4da5b43b-d93f-b3ac-b69a-ace472121e0a"
      },
      "outputs": [],
      "source": [
        "import numpy as np \n",
        "import pandas as pd \n",
        "import matplotlib\n",
        "import matplotlib.pyplot as plt\n",
        "import datetime\n",
        "from lxml import html\n",
        "import requests\n",
        "import urllib"
      ]
    },
    {
      "cell_type": "code",
      "execution_count": null,
      "metadata": {
        "_cell_guid": "562069eb-7dbf-2ba7-2beb-9201c1c46688"
      },
      "outputs": [],
      "source": [
        "PLAYER_NAMES = [\n",
        "                'UGent Elves'\n",
        "                ] # A line-plot will be generated for all players in this list\n",
        "SAMPLE_HOURS = 12 # Indicates the interval in hours between the sampling\n",
        "COMPETITION_START = datetime.datetime(year=2016, month=12, day=21)\n",
        "URL = \"https://www.kaggle.com/c/santas-uncertain-bags/leaderboard/public?asOf=\""
      ]
    },
    {
      "cell_type": "code",
      "execution_count": null,
      "metadata": {
        "_cell_guid": "c89f9c2a-d595-6c92-40d1-7fe9090feb4c"
      },
      "outputs": [],
      "source": [
        "import ctypes\n",
        "libc = ctypes.cdll.LoadLibrary('libc.so.6')\n",
        "res_init = libc.__res_init\n",
        "# ...\n",
        "res_init()\n",
        "print(urllib.request.urlopen('http://yahoo.com').read())"
      ]
    },
    {
      "cell_type": "code",
      "execution_count": null,
      "metadata": {
        "_cell_guid": "32efd794-668a-d312-aa50-2fe2d8299076"
      },
      "outputs": [],
      "source": [
        "sample_time = datetime.timedelta(hours=SAMPLE_HOURS)\n",
        "today = datetime.datetime.today()\n",
        "current_time = COMPETITION_START\n",
        "lb_scores = {}\n",
        "\n",
        "for player in PLAYER_NAMES:\n",
        "    lb_scores[player] = []\n",
        "\n",
        "while current_time < today:\n",
        "    # https://www.kaggle.com/c/santas-uncertain-bags/leaderboard/public?asOf=2017-1-1T12:00\n",
        "    time_string = 'T'.join(str(current_time)[:-3].split())\n",
        "    print(URL+time_string)\n",
        "    page = requests.get(URL+time_string)\n",
        "    tree = html.fromstring(page.content)\n",
        "    current_time += sample_time\n",
        "    for player in PLAYER_NAMES:\n",
        "        found = False\n",
        "        for row in tree.xpath('//tr[starts-with(@id, \"team\")]'):\n",
        "            player_name = row.xpath('td/div/a/text()')[0].replace('\\r', '').replace('\\n', '').lstrip().rstrip()\n",
        "            if player_name == player:\n",
        "                player_score = row.xpath('td/abbr[@class=\"score\"]/text()')\n",
        "                if len(player_score):\n",
        "                    lb_scores[player].append((time_string, float(player_score[0])))\n",
        "                    found = True\n",
        "        if not found:\n",
        "            lb_scores[player].append((time_string, 0))"
      ]
    },
    {
      "cell_type": "code",
      "execution_count": null,
      "metadata": {
        "_cell_guid": "968f8447-7c2e-3a09-7575-a21e428370d0"
      },
      "outputs": [],
      "source": [
        "plt.xkcd()\n",
        "\n",
        "for player in lb_scores:\n",
        "    plt.plot([x[1] for x in lb_scores[player]], label=player)\n",
        "\n",
        "plt.xticks(range(len(lb_scores[PLAYER_NAMES[0]])), [x[0][5:] for x in lb_scores[PLAYER_NAMES[0]]], rotation='vertical')\n",
        "plt.ylim([34000, 37000])\n",
        "plt.legend()\n",
        "plt.show()"
      ]
    },
    {
      "cell_type": "markdown",
      "metadata": {
        "_cell_guid": "de527d1b-e915-c9c6-5f3d-63cc9a3325e3"
      },
      "source": [
        "![Example][1]\n",
        "\n",
        "\n",
        "  [1]: http://i68.tinypic.com/2l8clfm.jpg"
      ]
    },
    {
      "cell_type": "code",
      "execution_count": null,
      "metadata": {
        "_cell_guid": "00dbe1dd-6546-bf31-1f8c-995165440c84"
      },
      "outputs": [],
      "source": [
        ""
      ]
    }
  ],
  "metadata": {
    "_change_revision": 0,
    "_is_fork": false,
    "kernelspec": {
      "display_name": "Python 3",
      "language": "python",
      "name": "python3"
    },
    "language_info": {
      "codemirror_mode": {
        "name": "ipython",
        "version": 3
      },
      "file_extension": ".py",
      "mimetype": "text/x-python",
      "name": "python",
      "nbconvert_exporter": "python",
      "pygments_lexer": "ipython3",
      "version": "3.5.2"
    }
  },
  "nbformat": 4,
  "nbformat_minor": 0
}