{
  "metadata": {
    "kernelspec": {
      "display_name": "Python 3",
      "language": "python",
      "name": "python3"
    },
    "language_info": {
      "codemirror_mode": {
        "name": "ipython",
        "version": 3
      },
      "file_extension": ".py",
      "mimetype": "text/x-python",
      "name": "python",
      "nbconvert_exporter": "python",
      "pygments_lexer": "ipython3",
      "version": "3.6.0"
    }
  },
  "nbformat": 4,
  "nbformat_minor": 0,
  "cells": [
    {
      "metadata": {
        "_cell_guid": "92c35d5b-d8ad-6c90-6561-2faaab801229",
        "_active": false,
        "collapsed": false
      },
      "source": null,
      "execution_count": null,
      "cell_type": "markdown",
      "outputs": []
    },
    {
      "metadata": {
        "_cell_guid": "83ac9720-fbb8-be46-b6b5-306906647281",
        "_active": false,
        "collapsed": false
      },
      "source": "# This Python 3 environment comes with many helpful analytics libraries installed\n# It is defined by the kaggle/python docker image: https://github.com/kaggle/docker-python\n# For example, here's several helpful packages to load in \n\n\n\nimport numpy as np # linear algebra\nimport pandas as pd # data processing, CSV file I/O (e.g. pd.read_csv)\n\n#graph library import\nimport matplotlib.pyplot as plt\nfrom matplotlib import dates as mdates\nfrom matplotlib import ticker as mticker\nfrom matplotlib.finance import candlestick_ohlc\n\n# Input data files are available in the \"../input/\" directory.\n# For example, running this (by clicking run or pressing Shift+Enter) will list the files in the input directory\n\nfrom subprocess import check_output\nprint(check_output([\"ls\", \"../input\"]).decode(\"utf8\"))\n\n# Any results you write to the current directory are saved as output.",
      "execution_count": 52,
      "cell_type": "code",
      "outputs": [],
      "execution_state": "idle"
    },
    {
      "metadata": {
        "_cell_guid": "99f75b73-aa39-21ea-58f9-8eea0e4aa161",
        "_active": false,
        "collapsed": false
      },
      "source": "fname = '../input/prices.csv'\ndf = pd.read_csv(fname)\n\ndf['date'] = pd.to_datetime(df.date)\ndf.set_index('date').resample('D').sum()\n\nfig = plt.figure()\nax1 = plt.subplot2grid((1,1),(0,0))\nplt.ylabel('Price')\nax1.xaxis.set_major_locator(mticker.MaxNLocator(6))\ndf\n#ax1.xaxis.set_major_formatter(df['date'].dt.strftime('%Y-%m-%d'))\n\n#candlestick_ohlc(ax1,[df.open,df.close,df.low,df.close],width=0.2)",
      "execution_count": 53,
      "cell_type": "code",
      "outputs": [],
      "execution_state": "idle"
    }
  ]
}