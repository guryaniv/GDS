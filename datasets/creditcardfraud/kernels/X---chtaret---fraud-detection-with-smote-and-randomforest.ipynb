{
  "cells": [
    {
      "cell_type": "markdown",
      "metadata": {
        "_cell_guid": "12c2a3ec-72dd-f219-97c0-6db71bd34bfd"
      },
      "source": [
        "This method gives a pretty descent result with default values of the algorithms.\n",
        "\n",
        "With a test set using 20% of the full data set, we have an ROC AUC of 0.92\n",
        "\n",
        "As the data set is unbalanced, we use an oversampling method (SMOTE) to obtain a balanced set. After that, we train a Random Forest classifier"
      ]
    },
    {
      "cell_type": "code",
      "execution_count": null,
      "metadata": {
        "_cell_guid": "32addfaa-42a0-f005-7f81-0993f55fe1cb"
      },
      "outputs": [],
      "source": [
        "import pandas as pd\n",
        "from imblearn.over_sampling import SMOTE\n",
        "from sklearn.ensemble import RandomForestClassifier\n",
        "from sklearn.metrics import confusion_matrix\n",
        "from sklearn.model_selection import train_test_split"
      ]
    },
    {
      "cell_type": "markdown",
      "metadata": {
        "_cell_guid": "5919ca36-efd1-09e3-0454-ff5bbb1b3aa8"
      },
      "source": [
        "### Build the data set from file"
      ]
    },
    {
      "cell_type": "code",
      "execution_count": null,
      "metadata": {
        "_cell_guid": "1c9031e3-799b-ea29-6556-3b5f0707b407"
      },
      "outputs": [],
      "source": [
        "credit_cards=pd.read_csv('../input/creditcard.csv')\n",
        "\n",
        "columns=credit_cards.columns\n",
        "# The labels are in the last column ('Class'). Simply remove it to obtain features columns\n",
        "features_columns=columns.delete(len(columns)-1)\n",
        "\n",
        "features=credit_cards[features_columns]\n",
        "labels=credit_cards['Class']"
      ]
    },
    {
      "cell_type": "markdown",
      "metadata": {
        "_cell_guid": "245090a1-1662-9e31-abbe-b1f21b12de26"
      },
      "source": [
        "### Build train and test sets (20% of data reserved to test set)"
      ]
    },
    {
      "cell_type": "code",
      "execution_count": null,
      "metadata": {
        "_cell_guid": "064c7338-043f-bdb4-b4d4-611778817945"
      },
      "outputs": [],
      "source": [
        "features_train, features_test, labels_train, labels_test = train_test_split(features, \n",
        "                                                                            labels, \n",
        "                                                                            test_size=0.2, \n",
        "                                                                            random_state=0)"
      ]
    },
    {
      "cell_type": "markdown",
      "metadata": {
        "_cell_guid": "ae4956b5-bdba-1835-4112-96b84c04e248"
      },
      "source": [
        "### Create from train set a new data set to obtain a balanced data set using SMOTE"
      ]
    },
    {
      "cell_type": "code",
      "execution_count": null,
      "metadata": {
        "_cell_guid": "a181efba-1323-644f-889d-55e5aefeaf83"
      },
      "outputs": [],
      "source": [
        "oversampler=SMOTE(random_state=0)\n",
        "os_features,os_labels=oversampler.fit_sample(features_train,labels_train)"
      ]
    },
    {
      "cell_type": "code",
      "execution_count": null,
      "metadata": {
        "_cell_guid": "c4c85b9d-36f9-73fb-20cd-29350ea6fbbd"
      },
      "outputs": [],
      "source": [
        "# verify new data set is balanced\n",
        "len(os_labels[os_labels==1])"
      ]
    },
    {
      "cell_type": "markdown",
      "metadata": {
        "_cell_guid": "d89f3181-af35-4acf-c381-af2c81045dce"
      },
      "source": [
        "### Perform training of the random forest using the (over sampled) train set"
      ]
    },
    {
      "cell_type": "code",
      "execution_count": null,
      "metadata": {
        "_cell_guid": "6ce2eda6-493a-5e49-df4b-010698ff0f42"
      },
      "outputs": [],
      "source": [
        "clf=RandomForestClassifier(random_state=0)\n",
        "clf.fit(os_features,os_labels)"
      ]
    },
    {
      "cell_type": "code",
      "execution_count": null,
      "metadata": {
        "_cell_guid": "3f537252-5544-628c-fe46-d6e9b28bd3eb"
      },
      "outputs": [],
      "source": [
        "# perform predictions on test set\n",
        "actual=labels_test\n",
        "predictions=clf.predict(features_test)"
      ]
    },
    {
      "cell_type": "markdown",
      "metadata": {
        "_cell_guid": "2b329182-f93c-c83e-e361-5346f2291d96"
      },
      "source": [
        "### confusion matrix on test set gives an encouraging result"
      ]
    },
    {
      "cell_type": "code",
      "execution_count": null,
      "metadata": {
        "_cell_guid": "2ff0588f-6cc9-99d4-05fd-d6a5f1d7f5de"
      },
      "outputs": [],
      "source": [
        "confusion_matrix(actual,predictions)"
      ]
    },
    {
      "cell_type": "markdown",
      "metadata": {
        "_cell_guid": "b1ab0643-ab5f-6219-cffd-2c4bb0d29205"
      },
      "source": [
        "### Let's go further and use the roc_auc indicator \n",
        "\n",
        "#### see https://datamize.wordpress.com/2015/01/24/how-to-plot-a-roc-curve-in-scikit-learn for a quick introduction"
      ]
    },
    {
      "cell_type": "code",
      "execution_count": null,
      "metadata": {
        "_cell_guid": "c448db38-4441-8739-5f07-94c94b7e22f9"
      },
      "outputs": [],
      "source": [
        "from sklearn.metrics import roc_curve, auc\n",
        "\n",
        "false_positive_rate, true_positive_rate, thresholds = roc_curve(actual, predictions)\n",
        "roc_auc = auc(false_positive_rate, true_positive_rate)\n",
        "print (roc_auc)"
      ]
    },
    {
      "cell_type": "markdown",
      "metadata": {
        "_cell_guid": "c4dcff19-018e-428b-09ce-714187eff1f4"
      },
      "source": [
        "### According to the previous article, this result can be considered as very good as it is between 0.9 and 1\n",
        "\n",
        "### Let's plot a shiny curve for the final result"
      ]
    },
    {
      "cell_type": "code",
      "execution_count": null,
      "metadata": {
        "_cell_guid": "29514561-234c-ccb9-d038-79ab339a806c"
      },
      "outputs": [],
      "source": [
        "import matplotlib.pyplot as plt\n",
        "plt.title('Receiver Operating Characteristic')\n",
        "plt.plot(false_positive_rate, true_positive_rate, 'b', label='AUC = %0.2f'% roc_auc)\n",
        "plt.legend(loc='lower right')\n",
        "plt.plot([0,1],[0,1],'r--')\n",
        "plt.xlim([-0.1,1.2])\n",
        "plt.ylim([-0.1,1.2])\n",
        "plt.ylabel('True Positive Rate')\n",
        "plt.xlabel('False Positive Rate')"
      ]
    },
    {
      "cell_type": "markdown",
      "metadata": {
        "_cell_guid": "3482c9d5-4470-9cc6-77d8-6dd8a433987f"
      },
      "source": [
        "## Acknoledgments\n",
        "\n",
        "Many thank's to [AtherRizvi][1] and it's [notebook][2] for the informations about ROC and AUC\n",
        "\n",
        "\n",
        "  [1]: https://www.kaggle.com/ather123\n",
        "  [2]: https://www.kaggle.com/ather123/d/dalpozz/creditcardfraud/randomforestclassifier-solution/notebook/ \"notebook\""
      ]
    }
  ],
  "metadata": {
    "_change_revision": 0,
    "_is_fork": false,
    "kernelspec": {
      "display_name": "Python 3",
      "language": "python",
      "name": "python3"
    },
    "language_info": {
      "codemirror_mode": {
        "name": "ipython",
        "version": 3
      },
      "file_extension": ".py",
      "mimetype": "text/x-python",
      "name": "python",
      "nbconvert_exporter": "python",
      "pygments_lexer": "ipython3",
      "version": "3.5.2"
    }
  },
  "nbformat": 4,
  "nbformat_minor": 0
}