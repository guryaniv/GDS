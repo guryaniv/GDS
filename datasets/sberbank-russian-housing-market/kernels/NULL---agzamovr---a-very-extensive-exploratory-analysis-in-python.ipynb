{
  "cells": [
    {
      "cell_type": "markdown",
      "metadata": {
        "_cell_guid": "4adbd1a5-36f4-5485-035a-a35c443c71b5"
      },
      "source": [
        "This notebook is the reproduction of [A Very Extensive Sberbank Exploratory Analysis](https://www.kaggle.com/captcalculator/a-very-extensive-sberbank-exploratory-analysis) notebook in python. Here i copied only titles, for more detailed description please refer to original notebook."
      ]
    },
    {
      "cell_type": "code",
      "execution_count": null,
      "metadata": {
        "_cell_guid": "2ee37461-707a-4225-d8b0-6feda0fe7f53"
      },
      "outputs": [],
      "source": [
        "import numpy as np\n",
        "import pandas as pd\n",
        "import matplotlib.pyplot as plt\n",
        "import seaborn as sns\n",
        "color = sns.color_palette()\n",
        "\n",
        "%matplotlib inline\n",
        "\n",
        "pd.options.mode.chained_assignment = None  # default='warn'\n",
        "pd.set_option('display.max_columns', 500)"
      ]
    },
    {
      "cell_type": "markdown",
      "metadata": {
        "_cell_guid": "570eceb9-13e7-c896-d8dd-8ceb7abe4a9e"
      },
      "source": [
        "## Training Data"
      ]
    },
    {
      "cell_type": "code",
      "execution_count": null,
      "metadata": {
        "_cell_guid": "dcfd9c4f-d434-7792-6279-85842972a5ca"
      },
      "outputs": [],
      "source": [
        "train_df = pd.read_csv(\"../input/train.csv\", parse_dates=['timestamp'])\n",
        "train_df['price_doc_log'] = np.log1p(train_df['price_doc'])"
      ]
    },
    {
      "cell_type": "markdown",
      "metadata": {
        "_cell_guid": "e34fd6a9-277a-847e-6ea6-f146e71638fe"
      },
      "source": [
        "## Missing Data"
      ]
    },
    {
      "cell_type": "code",
      "execution_count": null,
      "metadata": {
        "_cell_guid": "90c5dc41-b939-63fc-3ee2-0e59745b89ff"
      },
      "outputs": [],
      "source": [
        "train_na = (train_df.isnull().sum() / len(train_df)) * 100\n",
        "train_na = train_na.drop(train_na[train_na == 0].index).sort_values(ascending=False)"
      ]
    },
    {
      "cell_type": "code",
      "execution_count": null,
      "metadata": {
        "_cell_guid": "ae466f09-2bd6-1e9b-6ef3-29038249418b"
      },
      "outputs": [],
      "source": [
        "f, ax = plt.subplots(figsize=(12, 8))\n",
        "plt.xticks(rotation='90')\n",
        "sns.barplot(x=train_na.index, y=train_na)\n",
        "ax.set(title='Percent missing data by feature', ylabel='% missing')"
      ]
    },
    {
      "cell_type": "markdown",
      "metadata": {
        "_cell_guid": "199c95d5-9b9c-76f0-a82f-b1c7475d481a"
      },
      "source": [
        "## Data Quality Issues"
      ]
    },
    {
      "cell_type": "code",
      "execution_count": null,
      "metadata": {
        "_cell_guid": "3d07162f-eb17-6c65-9a3e-fb6045f74a85"
      },
      "outputs": [],
      "source": [
        "# state should be discrete valued between 1 and 4. There is a 33 in it that is cleary a data entry error\n",
        "# Lets just replace it with the mode.\n",
        "train_df.loc[train_df['state'] == 33, 'state'] = train_df['state'].mode().iloc[0]\n",
        "\n",
        "# build_year has an erronus value 20052009. Since its unclear which it should be, let's replace with 2007\n",
        "train_df.loc[train_df['build_year'] == 20052009, 'build_year'] = 2007"
      ]
    },
    {
      "cell_type": "markdown",
      "metadata": {
        "_cell_guid": "377e7a72-d216-9e1a-cb03-b192747dfb7c"
      },
      "source": [
        "## Housing Internal Characteristics"
      ]
    },
    {
      "cell_type": "code",
      "execution_count": null,
      "metadata": {
        "_cell_guid": "212b1565-f914-66cf-172f-b8ed8b5813c0"
      },
      "outputs": [],
      "source": [
        "internal_chars = ['full_sq', 'life_sq', 'floor', 'max_floor', 'build_year', 'num_room', 'kitch_sq', 'state', 'price_doc']\n",
        "corrmat = train_df[internal_chars].corr()"
      ]
    },
    {
      "cell_type": "code",
      "execution_count": null,
      "metadata": {
        "_cell_guid": "c8d155df-f1a4-d957-8ace-f6458bb88f8b"
      },
      "outputs": [],
      "source": [
        "f, ax = plt.subplots(figsize=(10, 7))\n",
        "plt.xticks(rotation='90')\n",
        "sns.heatmap(corrmat, square=True, linewidths=.5, annot=True)"
      ]
    },
    {
      "cell_type": "markdown",
      "metadata": {
        "_cell_guid": "f9369355-52ef-6194-39f7-9f01b153217c"
      },
      "source": [
        "## Area of Home and Number of Rooms"
      ]
    },
    {
      "cell_type": "code",
      "execution_count": null,
      "metadata": {
        "_cell_guid": "29f327cc-fa0d-49a8-34bd-1484ed080203"
      },
      "outputs": [],
      "source": [
        "f, ax = plt.subplots(figsize=(10, 7))\n",
        "plt.scatter(x=train_df['full_sq'], y=train_df['price_doc'], c='r')"
      ]
    },
    {
      "cell_type": "code",
      "execution_count": null,
      "metadata": {
        "_cell_guid": "f6ac8c69-bc9d-cf60-6649-c66018b006b5"
      },
      "outputs": [],
      "source": [
        "f, ax = plt.subplots(figsize=(10, 7))\n",
        "ind = train_df[train_df['full_sq'] > 2000].index\n",
        "plt.scatter(x=train_df.drop(ind)['full_sq'], y=train_df.drop(ind)['price_doc'], c='r', alpha=0.5)\n",
        "ax.set(title='Price by area in sq meters', xlabel='Area', ylabel='Price')"
      ]
    },
    {
      "cell_type": "code",
      "execution_count": null,
      "metadata": {
        "_cell_guid": "419bc94e-6e7f-bb79-51aa-916af0927665"
      },
      "outputs": [],
      "source": [
        "(train_df['life_sq'] > train_df['full_sq']).sum()"
      ]
    },
    {
      "cell_type": "code",
      "execution_count": null,
      "metadata": {
        "_cell_guid": "ab02189c-3d5c-5fc3-27d1-ae731e558115"
      },
      "outputs": [],
      "source": [
        "f, ax = plt.subplots(figsize=(10, 7))\n",
        "sns.countplot(x=train_df['num_room'])\n",
        "ax.set(title='Distribution of room count', xlabel='num_room')"
      ]
    },
    {
      "cell_type": "markdown",
      "metadata": {
        "_cell_guid": "b253640d-6ee4-e011-a0c2-e2a05aa7ce2d"
      },
      "source": [
        "## Sale Type"
      ]
    },
    {
      "cell_type": "code",
      "execution_count": null,
      "metadata": {
        "_cell_guid": "a6fbac09-d1ba-175f-ee3b-f121ed6abb69"
      },
      "outputs": [],
      "source": [
        "#can't plot density graph due to bug in kaggle kernels\n",
        "#https://github.com/mwaskom/seaborn/issues/1103\n",
        "#g = sns.FacetGrid(train_df, col=\"product_type\", size=6)\n",
        "#g.map(sns.kdeplot, \"price_doc_log\", color=\"r\", shade=True)\n",
        "#g.add_legend()\n",
        "#ax.set(ylabel='density')\n",
        "\n",
        "f, ax = plt.subplots(nrows=1, ncols=2, figsize=(12, 8), sharey=True)\n",
        "train_df.drop(train_df['product_type'] == 'Investment')[\"price_doc_log\"].plot.kde(ax=ax[0])\n",
        "train_df.drop(train_df['product_type'] == 'OwnerOccupier')[\"price_doc_log\"].plot.kde(ax=ax[1])\n",
        "ax[0].set(xlabel='price_log')\n",
        "ax[1].set(xlabel='price_log')"
      ]
    },
    {
      "cell_type": "code",
      "execution_count": null,
      "metadata": {
        "_cell_guid": "96ec7a2d-3cb6-30f0-fb99-bbc7d3010f02"
      },
      "outputs": [],
      "source": [
        "train_df.groupby('product_type')['price_doc'].median()"
      ]
    },
    {
      "cell_type": "markdown",
      "metadata": {
        "_cell_guid": "b9d66a34-5ba3-57aa-1aed-005aa4306685"
      },
      "source": [
        "## Build Year"
      ]
    },
    {
      "cell_type": "code",
      "execution_count": null,
      "metadata": {
        "_cell_guid": "78555693-89f4-9af7-ffc2-a7ada4b98b88"
      },
      "outputs": [],
      "source": [
        "f, ax = plt.subplots(figsize=(12, 8))\n",
        "plt.xticks(rotation='90')\n",
        "ind = train_df[(train_df['build_year'] <= 1691) | (train_df['build_year'] >= 2018)].index\n",
        "by_df = train_df.drop(ind).sort_values(by=['build_year'])\n",
        "sns.countplot(x=by_df['build_year'])\n",
        "ax.set(title='Distribution of build year')"
      ]
    },
    {
      "cell_type": "code",
      "execution_count": null,
      "metadata": {
        "_cell_guid": "c72b218b-7c96-5703-4267-86d19bd33289"
      },
      "outputs": [],
      "source": [
        "f, ax = plt.subplots(figsize=(12, 6))\n",
        "by_price = by_df.groupby('build_year')[['build_year', 'price_doc']].mean()\n",
        "sns.regplot(x=\"build_year\", y=\"price_doc\", data=by_price, scatter=False, order=3, truncate=True)\n",
        "plt.plot(by_price['build_year'], by_price['price_doc'], color='r')\n",
        "ax.set(title='Mean price by year of build')"
      ]
    },
    {
      "cell_type": "markdown",
      "metadata": {
        "_cell_guid": "0e276d95-1a85-ae2d-836e-6f402bffce8b"
      },
      "source": [
        "## Timestamp"
      ]
    },
    {
      "cell_type": "code",
      "execution_count": null,
      "metadata": {
        "_cell_guid": "4fa6cfca-a259-3ac7-667f-18e7ac488184"
      },
      "outputs": [],
      "source": [
        "f, ax = plt.subplots(figsize=(12, 6))\n",
        "ts_df = train_df.groupby('timestamp')[['price_doc']].mean()\n",
        "#sns.regplot(x=\"timestamp\", y=\"price_doc\", data=ts_df, scatter=False, truncate=True)\n",
        "plt.plot(ts_df.index, ts_df['price_doc'], color='r', )\n",
        "ax.set(title='Daily median price over time')"
      ]
    },
    {
      "cell_type": "code",
      "execution_count": null,
      "metadata": {
        "_cell_guid": "62b88b0f-42f9-992a-3bfb-8c04a33e0f98"
      },
      "outputs": [],
      "source": [
        "import datetime\n",
        "import matplotlib.dates as mdates\n",
        "years = mdates.YearLocator()   # every year\n",
        "yearsFmt = mdates.DateFormatter('%Y')\n",
        "ts_vc = train_df['timestamp'].value_counts()\n",
        "f, ax = plt.subplots(figsize=(12, 6))\n",
        "plt.bar(left=ts_vc.index, height=ts_vc)\n",
        "ax.xaxis.set_major_locator(years)\n",
        "ax.xaxis.set_major_formatter(yearsFmt)\n",
        "ax.set(title='Sales volume over time', ylabel='Number of transactions')"
      ]
    },
    {
      "cell_type": "markdown",
      "metadata": {
        "_cell_guid": "d82e5022-d653-495b-9d57-96d7a37c804c"
      },
      "source": [
        "## Home State/Material"
      ]
    },
    {
      "cell_type": "code",
      "execution_count": null,
      "metadata": {
        "_cell_guid": "20ad90b6-1720-1572-7f14-f44edf5a1cc2"
      },
      "outputs": [],
      "source": [
        "f, ax = plt.subplots(figsize=(12, 8))\n",
        "ts_df = train_df.groupby(by=[train_df.timestamp.dt.month])[['price_doc']].median()\n",
        "plt.plot(ts_df.index, ts_df, color='r')\n",
        "ax.set(title='Price by month of year')"
      ]
    },
    {
      "cell_type": "code",
      "execution_count": null,
      "metadata": {
        "_cell_guid": "f13c239b-1d8e-1deb-6b60-a0a2e82c9807"
      },
      "outputs": [],
      "source": [
        "f, ax = plt.subplots(figsize=(12, 8))\n",
        "ind = train_df[train_df['state'].isnull()].index\n",
        "train_df['price_doc_log10'] = np.log10(train_df['price_doc'])\n",
        "sns.violinplot(x=\"state\", y=\"price_doc_log10\", data=train_df.drop(ind), inner=\"box\")\n",
        "# sns.swarmplot(x=\"state\", y=\"price_doc_log10\", data=train_df.dropna(), color=\"w\", alpha=.2);\n",
        "ax.set(title='Log10 of median price by state of home', xlabel='state', ylabel='log10(price)')"
      ]
    },
    {
      "cell_type": "code",
      "execution_count": null,
      "metadata": {
        "_cell_guid": "c4e9c086-dca0-e41d-caed-a320c7213b32"
      },
      "outputs": [],
      "source": [
        "train_df.drop(ind).groupby('state')['price_doc'].mean()"
      ]
    },
    {
      "cell_type": "code",
      "execution_count": null,
      "metadata": {
        "_cell_guid": "6dab4a3a-fa3b-8f16-b639-7b12230ae7e0"
      },
      "outputs": [],
      "source": [
        "f, ax = plt.subplots(figsize=(12, 8))\n",
        "ind = train_df[train_df['material'].isnull()].index\n",
        "sns.violinplot(x=\"material\", y=\"price_doc_log\", data=train_df.drop(ind), inner=\"box\")\n",
        "# sns.swarmplot(x=\"state\", y=\"price_doc_log10\", data=train_df.dropna(), color=\"w\", alpha=.2);\n",
        "ax.set(title='Distribution of price by build material', xlabel='material', ylabel='log(price)')"
      ]
    },
    {
      "cell_type": "code",
      "execution_count": null,
      "metadata": {
        "_cell_guid": "bddbba7e-b58a-5853-d37d-5e3d4564812c"
      },
      "outputs": [],
      "source": [
        "train_df.drop(ind).groupby('material')['price_doc'].median()"
      ]
    },
    {
      "cell_type": "markdown",
      "metadata": {
        "_cell_guid": "73458b36-43c7-3472-8fb3-b8e1bc753536"
      },
      "source": [
        "## Floor of Home"
      ]
    },
    {
      "cell_type": "code",
      "execution_count": null,
      "metadata": {
        "_cell_guid": "4fe12161-c5f4-6900-b09e-acb68099cd61"
      },
      "outputs": [],
      "source": [
        "f, ax = plt.subplots(figsize=(12, 8))\n",
        "plt.scatter(x=train_df['floor'], y=train_df['price_doc_log'], c='r', alpha=0.4)\n",
        "sns.regplot(x=\"floor\", y=\"price_doc_log\", data=train_df, scatter=False, truncate=True)\n",
        "ax.set(title='Price by floor of home', xlabel='floor', ylabel='log(price)')"
      ]
    },
    {
      "cell_type": "code",
      "execution_count": null,
      "metadata": {
        "_cell_guid": "8aa3f60c-4e99-aec0-ffb1-8d126ea4c980"
      },
      "outputs": [],
      "source": [
        "f, ax = plt.subplots(figsize=(12, 8))\n",
        "plt.scatter(x=train_df['max_floor'], y=train_df['price_doc_log'], c='r', alpha=0.4)\n",
        "sns.regplot(x=\"max_floor\", y=\"price_doc_log\", data=train_df, scatter=False, truncate=True)\n",
        "ax.set(title='Price by max floor of home', xlabel='max_floor', ylabel='log(price)')"
      ]
    },
    {
      "cell_type": "code",
      "execution_count": null,
      "metadata": {
        "_cell_guid": "3e13c5f3-4dfc-6e82-5b9e-cf362d261d49"
      },
      "outputs": [],
      "source": [
        "f, ax = plt.subplots(figsize=(12, 8))\n",
        "plt.scatter(x=train_df['floor'], y=train_df['max_floor'], c='r', alpha=0.4)\n",
        "plt.plot([0, 80], [0, 80], color='.5')"
      ]
    },
    {
      "cell_type": "code",
      "execution_count": null,
      "metadata": {
        "_cell_guid": "24f36fcd-648d-e2e7-46c1-3bccd23080a9"
      },
      "outputs": [],
      "source": [
        "train_df.loc[train_df['max_floor'] < train_df['floor'], ['id', 'floor','max_floor']].head(20)"
      ]
    },
    {
      "cell_type": "code",
      "execution_count": null,
      "metadata": {
        "_cell_guid": "96dc4f11-8ff0-319e-8d75-525f8cb9e92f"
      },
      "outputs": [],
      "source": [
        "## Demographic Characteristics"
      ]
    },
    {
      "cell_type": "code",
      "execution_count": null,
      "metadata": {
        "_cell_guid": "000a1bb4-7e70-cee2-80ce-6edbe0b9c518"
      },
      "outputs": [],
      "source": [
        "demo_vars = ['area_m', 'raion_popul', 'full_all', 'male_f', 'female_f', 'young_all', 'young_female', \n",
        "             'work_all', 'work_male', 'work_female', 'price_doc']\n",
        "corrmat = train_df[demo_vars].corr()"
      ]
    },
    {
      "cell_type": "code",
      "execution_count": null,
      "metadata": {
        "_cell_guid": "468034ce-dd0d-0b48-afb5-e548e8f94d82"
      },
      "outputs": [],
      "source": [
        "f, ax = plt.subplots(figsize=(10, 7))\n",
        "plt.xticks(rotation='90')\n",
        "sns.heatmap(corrmat, square=True, linewidths=.5, annot=True)"
      ]
    },
    {
      "cell_type": "code",
      "execution_count": null,
      "metadata": {
        "_cell_guid": "9562aed9-a390-d55f-a0d9-a5b0ef21ff06"
      },
      "outputs": [],
      "source": [
        "train_df['sub_area'].unique().shape[0]"
      ]
    },
    {
      "cell_type": "code",
      "execution_count": null,
      "metadata": {
        "_cell_guid": "4bbad02f-5792-50f6-45b6-763ffe598655"
      },
      "outputs": [],
      "source": [
        "train_df['area_km'] = train_df['area_m'] / 1000000\n",
        "train_df['density'] = train_df['raion_popul'] / train_df['area_km']\n",
        "f, ax = plt.subplots(figsize=(10, 6))\n",
        "sa_price = train_df.groupby('sub_area')[['density', 'price_doc']].median()\n",
        "sns.regplot(x=\"density\", y=\"price_doc\", data=sa_price, scatter=True, truncate=True)\n",
        "ax.set(title='Median home price by raion population density (people per sq. km)')"
      ]
    },
    {
      "cell_type": "code",
      "execution_count": null,
      "metadata": {
        "_cell_guid": "4ea32635-a5e4-f207-b5cc-1f1ed776cffc"
      },
      "outputs": [],
      "source": [
        "f, ax = plt.subplots(figsize=(10, 20))\n",
        "sa_vc = train_df['sub_area'].value_counts()\n",
        "sa_vc = pd.DataFrame({'sub_area':sa_vc.index, 'count': sa_vc.values})\n",
        "ax = sns.barplot(x=\"count\", y=\"sub_area\", data=sa_vc, orient=\"h\")\n",
        "ax.set(title='Number of Transactions by District')\n",
        "f.tight_layout()"
      ]
    },
    {
      "cell_type": "code",
      "execution_count": null,
      "metadata": {
        "_cell_guid": "9e56af72-da7d-9f7c-e715-7d6bba14188c"
      },
      "outputs": [],
      "source": [
        "train_df['work_share'] = train_df['work_all'] / train_df['raion_popul']\n",
        "f, ax = plt.subplots(figsize=(12, 6))\n",
        "sa_price = train_df.groupby('sub_area')[['work_share', 'price_doc']].mean()\n",
        "sns.regplot(x=\"work_share\", y=\"price_doc\", data=sa_price, scatter=True, order=4, truncate=True)\n",
        "ax.set(title='District mean home price by share of working age population')"
      ]
    },
    {
      "cell_type": "markdown",
      "metadata": {
        "_cell_guid": "afd0d051-1751-2b76-c9bf-7eef9a91cbfb"
      },
      "source": [
        "## School Characteristics"
      ]
    },
    {
      "cell_type": "code",
      "execution_count": null,
      "metadata": {
        "_cell_guid": "c61ad8a3-8039-2bc4-f41f-5ec4ec765e43"
      },
      "outputs": [],
      "source": [
        "school_chars = ['children_preschool', 'preschool_quota', 'preschool_education_centers_raion', 'children_school', \n",
        "                'school_quota', 'school_education_centers_raion', 'school_education_centers_top_20_raion', \n",
        "                'university_top_20_raion', 'additional_education_raion', 'additional_education_km', 'university_km', 'price_doc']\n",
        "corrmat = train_df[school_chars].corr()"
      ]
    },
    {
      "cell_type": "code",
      "execution_count": null,
      "metadata": {
        "_cell_guid": "c212a57e-c749-219f-3336-51ccfe5ba5a3"
      },
      "outputs": [],
      "source": [
        "f, ax = plt.subplots(figsize=(10, 7))\n",
        "plt.xticks(rotation='90')\n",
        "sns.heatmap(corrmat, square=True, linewidths=.5, annot=True)"
      ]
    },
    {
      "cell_type": "code",
      "execution_count": null,
      "metadata": {
        "_cell_guid": "3515bd78-e3c7-d9b4-807d-0ed68bd8d82b"
      },
      "outputs": [],
      "source": [
        "train_df['university_top_20_raion'].unique()"
      ]
    },
    {
      "cell_type": "code",
      "execution_count": null,
      "metadata": {
        "_cell_guid": "c941381e-a723-88ef-ac85-7f43dac021b4"
      },
      "outputs": [],
      "source": [
        "f, ax = plt.subplots(figsize=(12, 8))\n",
        "sns.stripplot(x=\"university_top_20_raion\", y=\"price_doc\", data=train_df, jitter=True, alpha=.2, color=\".8\");\n",
        "sns.boxplot(x=\"university_top_20_raion\", y=\"price_doc\", data=train_df)\n",
        "ax.set(title='Distribution of home price by # of top universities in Raion', xlabel='university_top_20_raion', \n",
        "       ylabel='price_doc')"
      ]
    },
    {
      "cell_type": "markdown",
      "metadata": {
        "_cell_guid": "be33b164-cb46-f64f-3d9e-108f4d8020ef"
      },
      "source": [
        "## Cultural/Recreational Characteristics"
      ]
    },
    {
      "cell_type": "code",
      "execution_count": null,
      "metadata": {
        "_cell_guid": "cd53bbb0-3c60-5129-a21e-ee99cc064a73"
      },
      "outputs": [],
      "source": [
        "cult_chars = ['sport_objects_raion', 'culture_objects_top_25_raion', 'shopping_centers_raion', 'park_km', 'fitness_km', \n",
        "                'swim_pool_km', 'ice_rink_km','stadium_km', 'basketball_km', 'shopping_centers_km', 'big_church_km',\n",
        "                'church_synagogue_km', 'mosque_km', 'theater_km', 'museum_km', 'exhibition_km', 'catering_km', 'price_doc']\n",
        "corrmat = train_df[cult_chars].corr()"
      ]
    },
    {
      "cell_type": "code",
      "execution_count": null,
      "metadata": {
        "_cell_guid": "1dcf4622-045a-0d74-8bb3-c62e5a9df67d"
      },
      "outputs": [],
      "source": [
        "f, ax = plt.subplots(figsize=(12, 7))\n",
        "plt.xticks(rotation='90')\n",
        "sns.heatmap(corrmat, square=True, linewidths=.5, annot=True)"
      ]
    },
    {
      "cell_type": "code",
      "execution_count": null,
      "metadata": {
        "_cell_guid": "29483a12-c158-9c1f-471d-954b9aedb5ef"
      },
      "outputs": [],
      "source": [
        "f, ax = plt.subplots(figsize=(10, 6))\n",
        "so_price = train_df.groupby('sub_area')[['sport_objects_raion', 'price_doc']].median()\n",
        "sns.regplot(x=\"sport_objects_raion\", y=\"price_doc\", data=so_price, scatter=True, truncate=True)\n",
        "ax.set(title='Median Raion home price by # of sports objects in Raion')"
      ]
    },
    {
      "cell_type": "code",
      "execution_count": null,
      "metadata": {
        "_cell_guid": "a99b0d5f-b703-4b63-4ee4-859b8db6a6a9"
      },
      "outputs": [],
      "source": [
        "f, ax = plt.subplots(figsize=(10, 6))\n",
        "co_price = train_df.groupby('sub_area')[['culture_objects_top_25_raion', 'price_doc']].median()\n",
        "sns.regplot(x=\"culture_objects_top_25_raion\", y=\"price_doc\", data=co_price, scatter=True, truncate=True)\n",
        "ax.set(title='Median Raion home price by # of sports objects in Raion')"
      ]
    },
    {
      "cell_type": "code",
      "execution_count": null,
      "metadata": {
        "_cell_guid": "6e8b4419-ae38-4afa-200f-bdfb909f7c5f"
      },
      "outputs": [],
      "source": [
        "train_df.groupby('culture_objects_top_25')['price_doc'].median()"
      ]
    },
    {
      "cell_type": "code",
      "execution_count": null,
      "metadata": {
        "_cell_guid": "2a4ae346-4e63-a971-fa21-5fd989c11310"
      },
      "outputs": [],
      "source": [
        "f, ax = plt.subplots(figsize=(10, 6))\n",
        "sns.regplot(x=\"park_km\", y=\"price_doc\", data=train_df, scatter=True, truncate=True, scatter_kws={'color': 'r', 'alpha': .2})\n",
        "ax.set(title='Median Raion home price by # of sports objects in Raion')"
      ]
    },
    {
      "cell_type": "markdown",
      "metadata": {
        "_cell_guid": "d65958c5-e56e-d05c-9fa5-55953e076e88"
      },
      "source": [
        "## Infrastructure Features"
      ]
    },
    {
      "cell_type": "code",
      "execution_count": null,
      "metadata": {
        "_cell_guid": "68042a2b-a984-d096-d9fb-ad4fafeb2723"
      },
      "outputs": [],
      "source": [
        "inf_features = ['nuclear_reactor_km', 'thermal_power_plant_km', 'power_transmission_line_km', 'incineration_km',\n",
        "                'water_treatment_km', 'incineration_km', 'railroad_station_walk_km', 'railroad_station_walk_min', \n",
        "                'railroad_station_avto_km', 'railroad_station_avto_min', 'public_transport_station_km', \n",
        "                'public_transport_station_min_walk', 'water_km', 'mkad_km', 'ttk_km', 'sadovoe_km','bulvar_ring_km',\n",
        "                'kremlin_km', 'price_doc']\n",
        "corrmat = train_df[inf_features].corr()"
      ]
    },
    {
      "cell_type": "code",
      "execution_count": null,
      "metadata": {
        "_cell_guid": "2f2dd4b7-f83b-0c12-f1e2-cf7bf08b28d6"
      },
      "outputs": [],
      "source": [
        "f, ax = plt.subplots(figsize=(12, 7))\n",
        "plt.xticks(rotation='90')\n",
        "sns.heatmap(corrmat, square=True, linewidths=.5, annot=True)"
      ]
    },
    {
      "cell_type": "code",
      "execution_count": null,
      "metadata": {
        "_cell_guid": "cf156c55-647c-d438-b507-daf9b00bcd1b"
      },
      "outputs": [],
      "source": [
        "f, ax = plt.subplots(figsize=(10, 6))\n",
        "sns.regplot(x=\"kremlin_km\", y=\"price_doc\", data=train_df, scatter=True, truncate=True, scatter_kws={'color': 'r', 'alpha': .2})\n",
        "ax.set(title='Home price by distance to Kremlin')"
      ]
    },
    {
      "cell_type": "markdown",
      "metadata": {
        "_cell_guid": "3587c63e-a4a7-ae95-b8ad-b7b8a76a1018"
      },
      "source": [
        "## Variable Importance"
      ]
    },
    {
      "cell_type": "code",
      "execution_count": null,
      "metadata": {
        "_cell_guid": "e83aa568-771e-1bde-613e-7dd7fcd5f327"
      },
      "outputs": [],
      "source": [
        "from sklearn.ensemble import RandomForestRegressor\n",
        "from sklearn.preprocessing import LabelEncoder\n",
        "X_train = train_df.drop(labels=['timestamp', 'id', 'incineration_raion'], axis=1).dropna()\n",
        "y_train = X_train['price_doc']\n",
        "X_train.drop('price_doc', axis=1, inplace=True)\n",
        "for f in X_train.columns:\n",
        "    if X_train[f].dtype == 'object':\n",
        "        lbl = LabelEncoder()\n",
        "        lbl.fit(X_train[f])\n",
        "        X_train[f] = lbl.transform(X_train[f])\n",
        "rf = RandomForestRegressor(random_state=0)\n",
        "rf = rf.fit(X_train, y_train)"
      ]
    },
    {
      "cell_type": "code",
      "execution_count": null,
      "metadata": {
        "_cell_guid": "e4644a67-37eb-8e0b-b839-82965098b00e"
      },
      "outputs": [],
      "source": [
        "fi = list(zip(X_train.columns, rf.feature_importances_))\n",
        "print('## rf variable importance')\n",
        "d = [print('## %-40s%s' % (i)) for i in fi[:20]]"
      ]
    },
    {
      "cell_type": "markdown",
      "metadata": {
        "_cell_guid": "8e44e407-0d77-22cc-2b41-18ce3f6d86d7"
      },
      "source": [
        "## Train vs Test Data"
      ]
    },
    {
      "cell_type": "code",
      "execution_count": null,
      "metadata": {
        "_cell_guid": "cfe034b2-241f-c41d-5e56-6abf7e3bbb5c"
      },
      "outputs": [],
      "source": [
        "test_df = pd.read_csv(\"../input/test.csv\", parse_dates=['timestamp'])\n",
        "test_na = (test_df.isnull().sum() / len(test_df)) * 100\n",
        "test_na = test_na.drop(test_na[test_na == 0].index).sort_values(ascending=False)"
      ]
    },
    {
      "cell_type": "code",
      "execution_count": null,
      "metadata": {
        "_cell_guid": "0249c85e-099c-8004-9c12-81086476e7d5"
      },
      "outputs": [],
      "source": [
        "f, ax = plt.subplots(figsize=(12, 8))\n",
        "plt.xticks(rotation='90')\n",
        "sns.barplot(x=test_na.index, y=test_na)\n",
        "ax.set(title='Percent missing data by feature', ylabel='% missing')"
      ]
    },
    {
      "cell_type": "code",
      "execution_count": null,
      "metadata": {
        "_cell_guid": "7b17cec3-db35-4d71-3121-f90272a28317"
      },
      "outputs": [],
      "source": [
        "all_data = pd.concat([train_df.drop('price_doc', axis=1), test_df])\n",
        "all_data['dataset'] = ''\n",
        "l = len(train_df)\n",
        "all_data.iloc[:l]['dataset'] = 'train'\n",
        "all_data.iloc[l:]['dataset'] = 'test'\n",
        "train_dataset = all_data['dataset'] == 'train'"
      ]
    },
    {
      "cell_type": "code",
      "execution_count": null,
      "metadata": {
        "_cell_guid": "08cfa153-6ca7-3ac9-a998-ece337677341"
      },
      "outputs": [],
      "source": [
        "f, ax = plt.subplots(nrows=1, ncols=2, figsize=(12, 8), sharey=True)\n",
        "all_data['full_sq_log'] = np.log1p(all_data['full_sq'])\n",
        "all_data.drop(train_dataset)[\"full_sq_log\"].plot.kde(ax=ax[0])\n",
        "all_data.drop(~train_dataset)[\"full_sq_log\"].plot.kde(ax=ax[1])\n",
        "ax[0].set(title='test', xlabel='full_sq_log')\n",
        "ax[1].set(title='train', xlabel='full_sq_log')"
      ]
    },
    {
      "cell_type": "code",
      "execution_count": null,
      "metadata": {
        "_cell_guid": "3dbff407-b8e0-b5e5-566e-995ce8412e95"
      },
      "outputs": [],
      "source": [
        "f, ax = plt.subplots(nrows=1, ncols=2, figsize=(12, 8), sharey=True)\n",
        "all_data['life_sq_log'] = np.log1p(all_data['life_sq'])\n",
        "all_data.drop(train_dataset)[\"life_sq_log\"].plot.kde(ax=ax[0])\n",
        "all_data.drop(~train_dataset)[\"life_sq_log\"].plot.kde(ax=ax[1])\n",
        "ax[0].set(title='test', xlabel='life_sq_log')\n",
        "ax[1].set(title='train', xlabel='life_sq_log')"
      ]
    },
    {
      "cell_type": "code",
      "execution_count": null,
      "metadata": {
        "_cell_guid": "73578277-9407-0fde-50db-c458c7ef7a82"
      },
      "outputs": [],
      "source": [
        "f, ax = plt.subplots(nrows=1, ncols=2, figsize=(12, 8), sharey=True)\n",
        "all_data['kitch_sq_log'] = np.log1p(all_data['kitch_sq'])\n",
        "all_data.drop(train_dataset)[\"kitch_sq_log\"].plot.kde(ax=ax[0])\n",
        "all_data.drop(~train_dataset)[\"kitch_sq_log\"].plot.kde(ax=ax[1])\n",
        "ax[0].set(title='test', xlabel='kitch_sq_log')\n",
        "ax[1].set(title='train', xlabel='kitch_sq_log')"
      ]
    },
    {
      "cell_type": "code",
      "execution_count": null,
      "metadata": {
        "_cell_guid": "05908989-c29b-283c-ff03-32abf035c80f"
      },
      "outputs": [],
      "source": [
        "f, ax = plt.subplots(nrows=1, ncols=2, figsize=(12, 8), sharey=True)\n",
        "sns.countplot(x=test_df['num_room'], ax=ax[0])\n",
        "sns.countplot(x=train_df['num_room'], ax=ax[1])\n",
        "ax[0].set(title='test', xlabel='num_room')\n",
        "ax[1].set(title='train', xlabel='num_room')"
      ]
    },
    {
      "cell_type": "code",
      "execution_count": null,
      "metadata": {
        "_cell_guid": "a7ff9e3f-a9d0-c9e4-d726-c6d0fb26236b"
      },
      "outputs": [],
      "source": [
        "f, ax = plt.subplots(nrows=1, ncols=2, figsize=(12, 8), sharey=True)\n",
        "all_data.drop(train_dataset)[\"floor\"].plot.kde(ax=ax[0])\n",
        "all_data.drop(~train_dataset)[\"floor\"].plot.kde(ax=ax[1])\n",
        "ax[0].set(title='test', xlabel='floor')\n",
        "ax[1].set(title='train', xlabel='floor')"
      ]
    },
    {
      "cell_type": "code",
      "execution_count": null,
      "metadata": {
        "_cell_guid": "7380f6b5-aaa9-0de5-e207-c616cdd0f533"
      },
      "outputs": [],
      "source": [
        "f, ax = plt.subplots(nrows=1, ncols=2, figsize=(12, 8), sharey=True)\n",
        "all_data.drop(train_dataset)[\"max_floor\"].plot.kde(ax=ax[0])\n",
        "all_data.drop(~train_dataset)[\"max_floor\"].plot.kde(ax=ax[1])\n",
        "ax[0].set(title='test', xlabel='max_floor')\n",
        "ax[1].set(title='train', xlabel='max_floor')"
      ]
    },
    {
      "cell_type": "code",
      "execution_count": null,
      "metadata": {
        "_cell_guid": "1016180b-bea2-155c-0cea-4c758030155f"
      },
      "outputs": [],
      "source": [
        "f, ax = plt.subplots(nrows=1, ncols=2, figsize=(12, 8), sharey=True)\n",
        "ax[0].scatter(x=test_df['floor'], y=test_df['max_floor'], c='r', alpha=0.4)\n",
        "ax[0].plot([0, 80], [0, 80], color='.5')\n",
        "ax[1].scatter(x=train_df['floor'], y=train_df['max_floor'], c='r', alpha=0.4)\n",
        "ax[1].plot([0, 80], [0, 80], color='.5')\n",
        "ax[0].set(title='test', xlabel='floor', ylabel='max_floor')\n",
        "ax[1].set(title='train', xlabel='floor', ylabel='max_floor')"
      ]
    },
    {
      "cell_type": "code",
      "execution_count": null,
      "metadata": {
        "_cell_guid": "1eb615c2-15e3-eafe-d2d1-fdcdc0bbd79c"
      },
      "outputs": [],
      "source": [
        "years = mdates.YearLocator()   # every year\n",
        "yearsFmt = mdates.DateFormatter('%Y')\n",
        "ts_vc_train = train_df['timestamp'].value_counts()\n",
        "ts_vc_test = test_df['timestamp'].value_counts()\n",
        "f, ax = plt.subplots(figsize=(12, 6))\n",
        "plt.bar(left=ts_vc_train.index, height=ts_vc_train)\n",
        "plt.bar(left=ts_vc_test.index, height=ts_vc_test)\n",
        "ax.xaxis.set_major_locator(years)\n",
        "ax.xaxis.set_major_formatter(yearsFmt)\n",
        "ax.set(title='Number of transactions by day', ylabel='count')"
      ]
    },
    {
      "cell_type": "code",
      "execution_count": null,
      "metadata": {
        "_cell_guid": "3cc3e7b7-237f-5aae-9779-0e93877f99cb"
      },
      "outputs": [],
      "source": [
        "f, ax = plt.subplots(nrows=1, ncols=2, figsize=(12, 8), sharey=True)\n",
        "sns.countplot(x=test_df['product_type'], ax=ax[0])\n",
        "sns.countplot(x=train_df['product_type'], ax=ax[1])\n",
        "ax[0].set(title='test', xlabel='product_type')\n",
        "ax[1].set(title='train', xlabel='product_type')"
      ]
    },
    {
      "cell_type": "code",
      "execution_count": null,
      "metadata": {
        "_cell_guid": "ec08f224-6f11-0abb-3d8f-27d391a4c013"
      },
      "outputs": [],
      "source": [
        "f, ax = plt.subplots(nrows=1, ncols=2, figsize=(12, 8), sharey=True)\n",
        "sns.countplot(x=test_df['state'], ax=ax[0])\n",
        "sns.countplot(x=train_df['state'], ax=ax[1])\n",
        "ax[0].set(title='test', xlabel='state')\n",
        "ax[1].set(title='train', xlabel='state')"
      ]
    },
    {
      "cell_type": "code",
      "execution_count": null,
      "metadata": {
        "_cell_guid": "2a97e00f-9eb5-c227-c0aa-5e11d2d0f564"
      },
      "outputs": [],
      "source": [
        "f, ax = plt.subplots(nrows=1, ncols=2, figsize=(12, 8), sharey=True)\n",
        "sns.countplot(x=test_df['material'], ax=ax[0])\n",
        "sns.countplot(x=train_df['material'], ax=ax[1])\n",
        "ax[0].set(title='test', xlabel='material')\n",
        "ax[1].set(title='train', xlabel='material')"
      ]
    }
  ],
  "metadata": {
    "_change_revision": 0,
    "_is_fork": false,
    "kernelspec": {
      "display_name": "Python 3",
      "language": "python",
      "name": "python3"
    },
    "language_info": {
      "codemirror_mode": {
        "name": "ipython",
        "version": 3
      },
      "file_extension": ".py",
      "mimetype": "text/x-python",
      "name": "python",
      "nbconvert_exporter": "python",
      "pygments_lexer": "ipython3",
      "version": "3.6.0"
    }
  },
  "nbformat": 4,
  "nbformat_minor": 0
}