{
  "cells": [
    {
      "cell_type": "code",
      "execution_count": null,
      "metadata": {
        "_cell_guid": "31cf5600-0f9d-935c-b0a7-69b807851353"
      },
      "outputs": [],
      "source": [
        "import nltk"
      ]
    },
    {
      "cell_type": "code",
      "execution_count": null,
      "metadata": {
        "_cell_guid": "1f6202d0-dd74-e97d-702f-f359ef20e4f8"
      },
      "outputs": [],
      "source": [
        "from nltk.book import*\n",
        "#9 types of text available in NLTK book you may choose any text as per your interest\n"
      ]
    },
    {
      "cell_type": "code",
      "execution_count": null,
      "metadata": {
        "_cell_guid": "bc8827a1-db27-2b28-2126-0890b314caa7"
      },
      "outputs": [],
      "source": [
        "# display all occurences of word in piece of text along with context\n",
        "text1.concordance(\"India\")\n"
      ]
    },
    {
      "cell_type": "code",
      "execution_count": null,
      "metadata": {
        "_cell_guid": "229fedd7-f624-ea93-43d2-f9081cbe2638"
      },
      "outputs": [],
      "source": [
        "text2.concordance(\"good\")\n"
      ]
    },
    {
      "cell_type": "code",
      "execution_count": null,
      "metadata": {
        "_cell_guid": "d73f8e5f-f19c-d22d-51ff-987a3e1fd437"
      },
      "outputs": [],
      "source": [
        "# returns a list of words that appaer in similar context usually synonyms\n",
        "text1.similar(\"India\")\n"
      ]
    },
    {
      "cell_type": "code",
      "execution_count": null,
      "metadata": {
        "_cell_guid": "df6ad19d-f88f-9a20-62ad-7a068f08d68b"
      },
      "outputs": [],
      "source": [
        "text2.similar(\"good\")\n"
      ]
    },
    {
      "cell_type": "code",
      "execution_count": null,
      "metadata": {
        "_cell_guid": "dcdfe288-db63-9fb3-293d-a517ea0d9e20"
      },
      "outputs": [],
      "source": [
        "# returns contexts shared by 2 words\n",
        "text2.common_contexts(['India','good'])"
      ]
    },
    {
      "cell_type": "code",
      "execution_count": null,
      "metadata": {
        "_cell_guid": "0bdd09c2-86b6-02be-7372-2ecc2f8b5505"
      },
      "outputs": [],
      "source": [
        "# print plot of all occurences of the word relative to begining of the text\n",
        "text1.dispersion_plot(['India','good'])\n"
      ]
    },
    {
      "cell_type": "code",
      "execution_count": null,
      "metadata": {
        "_cell_guid": "f9e6fcd7-e045-fe17-9909-ae5fa065dfb2"
      },
      "outputs": [],
      "source": [
        "from nltk.tokenize import word_tokenize, sent_tokenize\n",
        "text=\"amruta,shraddha,pradnya we are friends\"\n",
        "sents=sent_tokenize(text)\n",
        "print(sents)\n"
      ]
    },
    {
      "cell_type": "code",
      "execution_count": null,
      "metadata": {
        "_cell_guid": "4951005f-aa7d-152e-b9fd-19c27ea2736c"
      },
      "outputs": [],
      "source": [
        "l = nltk.word_tokenize(text)\n",
        "print(l)\n"
      ]
    },
    {
      "cell_type": "code",
      "execution_count": null,
      "metadata": {
        "_cell_guid": "f179648b-319b-7e24-b873-fadd38aa1c8f"
      },
      "outputs": [],
      "source": [
        "# Let's filter out stopwords (words that are very common like 'was', 'a', 'as etc)\n",
        "from nltk.corpus import stopwords \n",
        "from string import punctuation\n",
        "customStopWords=set(stopwords.words('english')+list(punctuation))\n",
        "#Notice how we made the stopwords a set\n",
        "\n",
        "wordsWOStopwords=[word for word in word_tokenize(text) if word not in customStopWords]\n",
        "print(wordsWOStopwords)\n"
      ]
    },
    {
      "cell_type": "code",
      "execution_count": null,
      "metadata": {
        "_cell_guid": "ea21ff86-b9b1-a26f-a2bb-7a08519ee0b3"
      },
      "outputs": [],
      "source": [
        "text2=\"Mary closed on closing night when she was in the mood to close.\"\n",
        "# 'close' appears in different morphological forms here, stemming will reduce all forms of the word 'close' to its root\n",
        "# NLTK has multiple stemmers based on different rules/algorithms. Stemming is also known as lemmatization. \n",
        "from nltk.stem.lancaster import LancasterStemmer\n",
        "st=LancasterStemmer()\n",
        "stemmedWords=[st.stem(word) for word in word_tokenize(text2)]\n",
        "print(stemmedWords)\n",
        "\n"
      ]
    },
    {
      "cell_type": "code",
      "execution_count": null,
      "metadata": {
        "_cell_guid": "daa6c3bf-f5b5-7486-4177-fa27934fb798"
      },
      "outputs": [],
      "source": [
        "#NLTK has functionality to automatically tag words as nouns, verbs, conjunctions etc\n",
        "nltk.pos_tag(word_tokenize(text2))\n"
      ]
    },
    {
      "cell_type": "code",
      "execution_count": null,
      "metadata": {
        "_cell_guid": "f24cdae6-6b97-13ea-5a99-431144d8fe00"
      },
      "outputs": [],
      "source": ""
    }
  ],
  "metadata": {
    "_change_revision": 0,
    "_is_fork": false,
    "kernelspec": {
      "display_name": "Python 3",
      "language": "python",
      "name": "python3"
    },
    "language_info": {
      "codemirror_mode": {
        "name": "ipython",
        "version": 3
      },
      "file_extension": ".py",
      "mimetype": "text/x-python",
      "name": "python",
      "nbconvert_exporter": "python",
      "pygments_lexer": "ipython3",
      "version": "3.6.0"
    }
  },
  "nbformat": 4,
  "nbformat_minor": 0
}