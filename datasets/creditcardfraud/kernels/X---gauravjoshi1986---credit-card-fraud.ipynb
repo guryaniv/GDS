{
  "cells": [
    {
      "cell_type": "code",
      "execution_count": null,
      "metadata": {
        "_cell_guid": "fd574e15-4c93-df52-75b3-351420b0f2fc"
      },
      "outputs": [],
      "source": [
        "import pandas as pd\n",
        "import matplotlib.pyplot as plt\n",
        "import numpy as np\n",
        "import seaborn as sns"
      ]
    },
    {
      "cell_type": "code",
      "execution_count": null,
      "metadata": {
        "_cell_guid": "1f2cef34-69e5-b9d3-bc86-9aa526e2bce8"
      },
      "outputs": [],
      "source": [
        "data = pd.read_csv(\"../input/creditcard.csv\")\n",
        "data.head()"
      ]
    },
    {
      "cell_type": "markdown",
      "metadata": {
        "_cell_guid": "c82b45c6-9ed8-0009-b43b-e9139f614181"
      },
      "source": [
        " - Feature 'Time' contains the seconds elapsed between each transaction and the first transaction in the data set.\n",
        "\n",
        " - Feature 'Class' is the response variable and it takes value 1 in case of fraud and 0 otherwise."
      ]
    },
    {
      "cell_type": "code",
      "execution_count": null,
      "metadata": {
        "_cell_guid": "760eb646-2274-9b83-24ff-2be08843c175"
      },
      "outputs": [],
      "source": [
        "class_freq = data['Class'].value_counts()\n",
        "\n",
        "print(class_freq)"
      ]
    },
    {
      "cell_type": "markdown",
      "metadata": {
        "_cell_guid": "d7374ab6-e919-e99d-d879-2810981628c3"
      },
      "source": [
        "The data set contains transactions made by credit cards in September 2013 by European cardholders. This data set present transactions that occurred in two days, where we have 492 frauds out of 284,807 transactions. The data set is highly unbalanced, the positive class (frauds) account for 0.172% of all transactions."
      ]
    },
    {
      "cell_type": "code",
      "execution_count": null,
      "metadata": {
        "_cell_guid": "111712fb-5b43-8aaf-ef57-5fab3ee2dfd8"
      },
      "outputs": [],
      "source": [
        "# Class data is highly imbalanced\n",
        "sns.countplot(x='Class', data=data, palette='Set3')"
      ]
    },
    {
      "cell_type": "markdown",
      "metadata": {
        "_cell_guid": "521128f5-abe5-fd26-f393-7e72044381eb"
      },
      "source": [
        "Given the class imbalance ratio, we will be measuring the accuracy using the Area Under the Precision-Recall Curve (AUPRC). Confusion matrix accuracy is not meaningful for unbalanced classification."
      ]
    },
    {
      "cell_type": "code",
      "execution_count": null,
      "metadata": {
        "_cell_guid": "b18df0d8-fc3e-0d8f-9d80-92bdc19898e0"
      },
      "outputs": [],
      "source": [
        "data.describe()"
      ]
    },
    {
      "cell_type": "code",
      "execution_count": null,
      "metadata": {
        "_cell_guid": "7b244b17-48b0-1f26-ab1b-3cf8fc75e3f3"
      },
      "outputs": [],
      "source": [
        "# check for missing data in dataset\n",
        "data.isnull().sum()"
      ]
    },
    {
      "cell_type": "code",
      "execution_count": null,
      "metadata": {
        "_cell_guid": "d8eaea38-10bb-053a-dc21-dc536eed12bd"
      },
      "outputs": [],
      "source": [
        "X_data = data.iloc[:,1:29]\n",
        "\n",
        "# correlation matrix for margin features\n",
        "corr = X_data.corr()\n",
        "#corr = data.corr()\n",
        "\n",
        "# Set up the matplotlib figure\n",
        "f, ax = plt.subplots(figsize=(10, 10))\n",
        "\n",
        "# Draw the heatmap with the mask and correct aspect ratio\n",
        "sns.heatmap(corr, cmap='viridis', vmax=.3,\n",
        "            square=True, xticklabels=5, yticklabels=5,\n",
        "            linewidths=.5, cbar_kws={\"shrink\": .5}, ax=ax)\n",
        "\n",
        "#sns.heatmap(corr, vmax=1, square=True, annot=True, cmap='viridis')\n",
        "plt.title('Correlation between different fearures')"
      ]
    },
    {
      "cell_type": "code",
      "execution_count": null,
      "metadata": {
        "_cell_guid": "aeccc2fe-21f1-d4b6-c6ab-acbfc4a200a9"
      },
      "outputs": [],
      "source": [
        "# select on fraud observetions\n",
        "fraud_points = data.loc[data['Class'] == 1]"
      ]
    },
    {
      "cell_type": "code",
      "execution_count": null,
      "metadata": {
        "_cell_guid": "240812fe-69b0-56ea-788a-814fff39fc5f"
      },
      "outputs": [],
      "source": [
        "# Create bins\n",
        "step = 3600\n",
        "bin_range = np.arange(0, 172801, step)\n",
        "\n",
        "out, bins  = pd.cut(fraud_points['Time'], bins=bin_range, include_lowest=True, right=False, retbins=True)\n",
        "#out, bins  = pd.cut(data['Time'], bins=bin_range, include_lowest=True, right=False, retbins=True)\n",
        "\n",
        "#modify the plot to include just the lower closed interval of the range for aesthetic purpose\n",
        "out.cat.categories = ((bins[:-1]/3600)+1).astype(int)\n",
        "out.value_counts(sort=False).plot(kind='bar', title= 'Fraud per Hr')"
      ]
    },
    {
      "cell_type": "code",
      "execution_count": null,
      "metadata": {
        "_cell_guid": "21a5128d-fc24-cd0f-3b29-280746fcd214"
      },
      "outputs": [],
      "source": [
        "# Create new dataframe with frequence count for Genuine and fraud transactions\n",
        "out_all, bins  = pd.cut(data['Time'], bins=bin_range, include_lowest=True, right=False, retbins=True)\n",
        "out_all.cat.categories = ((bins[:-1]/3600)+1).astype(int)\n",
        "\n",
        "# convert seriese to dataframe and add class attributes\n",
        "out_df = out_all.to_frame(name=None)\n",
        "out_df['Class'] = data['Class']\n",
        "\n",
        "# count class and hr wise frequency\n",
        "out_grp = out_df.groupby(['Time', 'Class'])['Time'].count().unstack('Class').fillna(0).astype(int)"
      ]
    },
    {
      "cell_type": "code",
      "execution_count": null,
      "metadata": {
        "_cell_guid": "178e6e05-1551-e47b-1ff1-33cc701d3fdd"
      },
      "outputs": [],
      "source": [
        "fig = plt.figure() # Create matplotlib figure\n",
        "\n",
        "ax = fig.add_subplot(111) # Create matplotlib axes\n",
        "ax2 = ax.twinx() # Create another axes that shares the same x-axis as ax.\n",
        "\n",
        "width = 0.4\n",
        "\n",
        "out_grp.ix[:,0].plot(kind='bar', color='green', ax=ax, width=width, position=1)\n",
        "out_grp.ix[:,1].plot(kind='bar', color='red', ax=ax2, width=width, position=0)\n",
        "\n",
        "ax.set_ylabel('Genuine')\n",
        "ax2.set_ylabel('Fraud')\n",
        "\n",
        "plt.show()"
      ]
    },
    {
      "cell_type": "code",
      "execution_count": null,
      "metadata": {
        "_cell_guid": "e6e37877-bc6e-3459-99a1-1e94bad61f06"
      },
      "outputs": [],
      "source": [
        "out_grp.ix[:,0:2].plot(kind='bar',grid=True,subplots=True,sharex=True); \n",
        "plt.show()"
      ]
    },
    {
      "cell_type": "code",
      "execution_count": null,
      "metadata": {
        "_cell_guid": "f800e01f-25a6-9c58-0f2c-704c8aeb009b"
      },
      "outputs": [],
      "source": [
        "# percent of fraud and genuine transactions within class per hour\n",
        "out_grp['col_perc_0'] = 100*out_grp.ix[:,0]/out_grp.ix[:,0].sum()\n",
        "\n",
        "out_grp['col_perc_1'] = 100*out_grp.ix[:,1]/out_grp.ix[:,1].sum()\n",
        "\n",
        "print (out_grp.sum())\n",
        "print(out_grp.head())"
      ]
    },
    {
      "cell_type": "code",
      "execution_count": null,
      "metadata": {
        "_cell_guid": "dbea6bba-62d2-4b93-5c75-12f6545be1f3"
      },
      "outputs": [],
      "source": [
        "# plot group percent of fraud and genuine transactions per hour\n",
        "out_grp.ix[:,2:4].plot(kind='bar', cmap = 'brg');"
      ]
    },
    {
      "cell_type": "code",
      "execution_count": null,
      "metadata": {
        "_cell_guid": "bbc4a6e7-1d4d-b455-4485-777dfbc1cad1"
      },
      "outputs": [],
      "source": [
        "# get hr wise percent between fraud and genuine transactions\n",
        "out_grp['row_perc_0'] = 100*out_grp.ix[:,0]/out_grp.ix[:,0:2].sum(axis=1)\n",
        "\n",
        "out_grp['row_perc_1'] = 100*out_grp.ix[:,1]/out_grp.ix[:,0:2].sum(axis=1)\n",
        "\n",
        "print (out_grp.sum())\n",
        "print(out_grp.head())"
      ]
    },
    {
      "cell_type": "code",
      "execution_count": null,
      "metadata": {
        "_cell_guid": "9154772c-291e-2740-d983-07683398f647"
      },
      "outputs": [],
      "source": [
        "# plot group percent of fraud transactions per hour\n",
        "out_grp.ix[:,5].plot(kind='bar', title= '% Fraud per Hr') "
      ]
    },
    {
      "cell_type": "code",
      "execution_count": null,
      "metadata": {
        "_cell_guid": "acf61c30-c00a-096d-c348-a5e5e75d7f8a"
      },
      "outputs": [],
      "source": [
        "# let's do some EDA on repationship between time and Amount for tranactions\n",
        "def label_Hr (row):\n",
        "    val = int(row['Time']/3600) + 1\n",
        "    if val > 24:\n",
        "        val = val - 24\n",
        "    return val\n",
        "\n",
        "data['Hr'] = data.apply(lambda row: label_Hr(row), axis=1)"
      ]
    },
    {
      "cell_type": "code",
      "execution_count": null,
      "metadata": {
        "_cell_guid": "a879ac9d-9f45-3ed3-5b21-24e15e90c51f"
      },
      "outputs": [],
      "source": [
        "data.head()"
      ]
    },
    {
      "cell_type": "code",
      "execution_count": null,
      "metadata": {
        "_cell_guid": "f7401909-b039-a855-d640-74a969e66470"
      },
      "outputs": [],
      "source": [
        "data['Hr'].describe()"
      ]
    },
    {
      "cell_type": "code",
      "execution_count": null,
      "metadata": {
        "_cell_guid": "603ab043-46ca-592f-a86c-0e0fcceb9f74"
      },
      "outputs": [],
      "source": [
        "# major transaction are in \n",
        "data_fraud = data[data['Class'] == 1]\n",
        "\n",
        "sns.regplot('Hr', 'Amount', data=data_fraud, fit_reg=False)\n",
        "\n",
        "# Create the boxplot\n",
        "sns.boxplot('Hr', 'Amount', data=data_fraud)"
      ]
    },
    {
      "cell_type": "code",
      "execution_count": null,
      "metadata": {
        "_cell_guid": "b68afbbd-aadf-dbba-04b1-4dec5237b9d0"
      },
      "outputs": [],
      "source": [
        "# frequency plot\n",
        "sns.distplot(data_fraud['Hr'], bins=24)"
      ]
    }
  ],
  "metadata": {
    "_change_revision": 0,
    "_is_fork": false,
    "kernelspec": {
      "display_name": "Python 3",
      "language": "python",
      "name": "python3"
    },
    "language_info": {
      "codemirror_mode": {
        "name": "ipython",
        "version": 3
      },
      "file_extension": ".py",
      "mimetype": "text/x-python",
      "name": "python",
      "nbconvert_exporter": "python",
      "pygments_lexer": "ipython3",
      "version": "3.5.2"
    }
  },
  "nbformat": 4,
  "nbformat_minor": 0
}