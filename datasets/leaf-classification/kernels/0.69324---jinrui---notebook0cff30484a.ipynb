{
  "cells": [
    {
      "cell_type": "code",
      "execution_count": null,
      "metadata": {
        "_cell_guid": "de133571-edf3-87a8-7243-5b30b705fe80"
      },
      "outputs": [],
      "source": [
        "# This Python 3 environment comes with many helpful analytics libraries installed\n",
        "# It is defined by the kaggle/python docker image: https://github.com/kaggle/docker-python\n",
        "# For example, here's several helpful packages to load in \n",
        "\n",
        "import numpy as np # linear algebra\n",
        "import pandas as pd # data processing, CSV file I/O (e.g. pd.read_csv)\n",
        "\n",
        "# Input data files are available in the \"../input/\" directory.\n",
        "# For example, running this (by clicking run or pressing Shift+Enter) will list the files in the input directory\n",
        "\n",
        "from subprocess import check_output\n",
        "from sklearn.preprocessing import StandardScaler\n",
        "from sklearn.grid_search import GridSearchCV\n",
        "print(check_output([\"ls\", \"../input\"]).decode(\"utf8\"))\n",
        "train_csv = pd.read_csv(\"../input/train.csv\")\n",
        "test_csv = pd.read_csv(\"../input/test.csv\")\n",
        "train_csv.head()\n",
        "# Any results you write to the current directory are saved as output.\n",
        "\n",
        "#print(ytrain.tolist())"
      ]
    },
    {
      "cell_type": "code",
      "execution_count": null,
      "metadata": {
        "_cell_guid": "1080c66e-cad1-58e4-87aa-7406b522e778"
      },
      "outputs": [],
      "source": [
        "xtrain = train_csv.drop([\"id\",\"species\"],axis = 1)\n",
        "xtrain.head()\n",
        "ytrain = train_csv[\"species\"]\n",
        "xtest = test_csv.drop(\"id\",1)\n",
        "xtest.ix[:,:]=StandardScaler().fit_transform(xtest)\n",
        "testid = test_csv[\"id\"]\n",
        "xtrain.ix[:,:]=StandardScaler().fit_transform(xtrain)\n",
        "xtrain"
      ]
    },
    {
      "cell_type": "code",
      "execution_count": null,
      "metadata": {
        "_cell_guid": "f8409b43-c148-5e35-a4a0-08b8d7700019"
      },
      "outputs": [],
      "source": [
        "from sklearn.linear_model import LogisticRegression\n",
        "from sklearn.svm import SVC, LinearSVC\n",
        "from sklearn.ensemble import RandomForestClassifier\n",
        "from sklearn.neighbors import KNeighborsClassifier\n",
        "from sklearn.naive_bayes import GaussianNB\n",
        "#from sklearn.cross_validation import cross_val_score  \n",
        "from sklearn.decomposition import PCA"
      ]
    },
    {
      "cell_type": "code",
      "execution_count": null,
      "metadata": {
        "_cell_guid": "46366f60-571a-91e9-4270-763151b81f05"
      },
      "outputs": [],
      "source": [
        "#logic = LogisticRegression()\n",
        "#logic.fit(xtrain,ytrain)\n",
        "#Ytest = logic.predict_proba(xtest)\n",
        "#print(Ytest)"
      ]
    },
    {
      "cell_type": "code",
      "execution_count": null,
      "metadata": {
        "_cell_guid": "a80001cd-833c-c45e-af34-054b8e9a081e"
      },
      "outputs": [],
      "source": [
        "forest = RandomForestClassifier(n_estimators=50)\n",
        "param_grid = { \n",
        "    'n_estimators': [100,200,300,400,500],\n",
        "    'max_features': ['auto', 'log2']\n",
        "}\n",
        "CV_forest= GridSearchCV(estimator=forest, param_grid=param_grid, cv=5,scoring='neg_log_loss')\n",
        "CV_forest.fit(xtrain,ytrain)\n",
        "Ytest = CV_forest.predict_proba(xtest)\n",
        "print(Ytest)"
      ]
    },
    {
      "cell_type": "code",
      "execution_count": null,
      "metadata": {
        "_cell_guid": "174b8db2-4a4b-7616-0176-d105b238705b"
      },
      "outputs": [],
      "source": [
        "#\u7ec4\u5408\u6210\u7ed3\u679c\n",
        "result = pd.DataFrame(Ytest,columns = sorted(list(set(ytrain.tolist()))))\n",
        "result.insert(0,\"id\",testid.tolist())\n",
        "result.head()\n",
        "result.to_csv('classfysamples.csv', index=False)"
      ]
    }
  ],
  "metadata": {
    "_change_revision": 0,
    "_is_fork": false,
    "kernelspec": {
      "display_name": "Python 3",
      "language": "python",
      "name": "python3"
    },
    "language_info": {
      "codemirror_mode": {
        "name": "ipython",
        "version": 3
      },
      "file_extension": ".py",
      "mimetype": "text/x-python",
      "name": "python",
      "nbconvert_exporter": "python",
      "pygments_lexer": "ipython3",
      "version": "3.5.2"
    }
  },
  "nbformat": 4,
  "nbformat_minor": 0
}