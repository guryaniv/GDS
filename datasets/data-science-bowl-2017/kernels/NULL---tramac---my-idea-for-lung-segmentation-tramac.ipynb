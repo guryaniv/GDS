{
  "cells": [
    {
      "cell_type": "markdown",
      "metadata": {
        "_cell_guid": "02ab55da-c004-6ecd-62b6-d5be771d1528"
      },
      "source": [
        "By using the idea of morphology, I found we can more accurately segment \u200b\u200bthe lung. \n",
        "\n",
        "inspired by:\n",
        "[Full Preprocessing Tutorial](https://www.kaggle.com/gzuidhof/data-science-bowl-2017/full-preprocessing-tutorial) by Guido Zuidhof"
      ]
    },
    {
      "cell_type": "code",
      "execution_count": null,
      "metadata": {
        "_cell_guid": "796442b2-e5c7-4a48-88d8-19998146b040"
      },
      "outputs": [],
      "source": [
        "%pylab inline"
      ]
    },
    {
      "cell_type": "code",
      "execution_count": null,
      "metadata": {
        "_cell_guid": "95023304-8bb1-444b-1758-5b4a6f57150b"
      },
      "outputs": [],
      "source": [
        "import numpy as np\n",
        "import pandas as pd\n",
        "import os\n",
        "\n",
        "import dicom\n",
        "from skimage import measure, morphology"
      ]
    },
    {
      "cell_type": "code",
      "execution_count": null,
      "metadata": {
        "_cell_guid": "212be81c-c093-143d-33ca-8b4263f08444"
      },
      "outputs": [],
      "source": [
        "# Load the scans in given folder path\n",
        "def load_scan(path):\n",
        "    slices = [dicom.read_file(path + '/' + s) for s in os.listdir(path)]\n",
        "    slices.sort(key = lambda x: float(x.ImagePositionPatient[2]))\n",
        "    try:\n",
        "        slice_thickness = np.abs(slices[0].ImagePositionPatient[2] - slices[1].ImagePositionPatient[2])\n",
        "    except:\n",
        "        slice_thickness = np.abs(slices[0].SliceLocation - slices[1].SliceLocation)\n",
        "        \n",
        "    for s in slices:\n",
        "        s.SliceThickness = slice_thickness\n",
        "        \n",
        "    return slices"
      ]
    },
    {
      "cell_type": "code",
      "execution_count": null,
      "metadata": {
        "_cell_guid": "5896c1b1-7609-a556-8b65-1351b1d1b1e8"
      },
      "outputs": [],
      "source": [
        "def get_pixels_hu(slices):\n",
        "    image = np.stack([s.pixel_array for s in slices])\n",
        "    # Convert to int16 (from sometimes int16), \n",
        "    # should be possible as values should always be low enough (<32k)\n",
        "    image = image.astype(np.int16)\n",
        "\n",
        "    # Set outside-of-scan pixels to 0\n",
        "    # The intercept is usually -1024, so air is approximately 0\n",
        "    image[image == -2000] = 0\n",
        "    \n",
        "    # Convert to Hounsfield units (HU)\n",
        "    for slice_number in range(len(slices)):\n",
        "        \n",
        "        intercept = slices[slice_number].RescaleIntercept\n",
        "        slope = slices[slice_number].RescaleSlope\n",
        "        \n",
        "        if slope != 1:\n",
        "            image[slice_number] = slope * image[slice_number].astype(np.float64)\n",
        "            image[slice_number] = image[slice_number].astype(np.int16)\n",
        "            \n",
        "        image[slice_number] += np.int16(intercept)\n",
        "    \n",
        "    return np.array(image, dtype=np.int16)"
      ]
    },
    {
      "cell_type": "code",
      "execution_count": null,
      "metadata": {
        "_cell_guid": "389b8e36-4594-86b6-5f30-8aafa8e4a761"
      },
      "outputs": [],
      "source": [
        "def largest_label_volume(im, bg=-1):\n",
        "    vals, counts = np.unique(im, return_counts=True)\n",
        "\n",
        "    counts = counts[vals != bg]\n",
        "    vals = vals[vals != bg]\n",
        "\n",
        "    if len(counts) > 0:\n",
        "        return vals[np.argmax(counts)]\n",
        "    else:\n",
        "        return None\n",
        "\n",
        "def segment_lung_mask(image, fill_lung_structures=True):\n",
        "    \n",
        "    # not actually binary, but 1 and 2. \n",
        "    # 0 is treated as background, which we do not want\n",
        "    binary_image = np.array(image > -320, dtype=np.int8)+1\n",
        "    binary_image = morphology.erosion(morphology.dilation(binary_image))\n",
        "    labels = measure.label(binary_image)\n",
        "    \n",
        "    # Pick the pixel in the very corner to determine which label is air.\n",
        "    #   Improvement: Pick multiple background labels from around the patient\n",
        "    #   More resistant to \"trays\" on which the patient lays cutting the air \n",
        "    #   around the person in half\n",
        "    background_label = labels[0,0,0]\n",
        "\n",
        "    #Fill the air around the person\n",
        "    binary_image[background_label == labels] = 2\n",
        "    \n",
        "    # Method of filling the lung structures (that is superior to something like \n",
        "    # morphological closing)\n",
        "    if fill_lung_structures:\n",
        "        # For every slice we determine the largest solid structure\n",
        "        for i, axial_slice in enumerate(binary_image):\n",
        "            axial_slice = axial_slice - 1\n",
        "            labeling = measure.label(axial_slice)\n",
        "            l_max = largest_label_volume(labeling, bg=0)\n",
        "            \n",
        "            if l_max is not None: #This slice contains some lung\n",
        "                binary_image[i][labeling != l_max] = 1\n",
        "\n",
        "    \n",
        "    binary_image -= 1 #Make the image actual binary\n",
        "    binary_image = 1-binary_image # Invert it, lungs are now 1\n",
        "    \n",
        "    # Remove other air pockets insided body\n",
        "    labels = measure.label(binary_image, background=0)\n",
        "    l_max = largest_label_volume(labels, bg=0)\n",
        "    if l_max is not None: # There are air pockets\n",
        "        binary_image[labels != l_max] = 0\n",
        " \n",
        "    return binary_image"
      ]
    },
    {
      "cell_type": "code",
      "execution_count": null,
      "metadata": {
        "_cell_guid": "b868b0c1-544c-3e44-c2c9-508c7e360fe9"
      },
      "outputs": [],
      "source": [
        "INPUT_FOLDER = '../input/sample_images/'\n",
        "patient_list = os.listdir(INPUT_FOLDER)\n",
        "\n",
        "ct_list = []\n",
        "lung_mask_list = []\n",
        "for patient in patient_list:\n",
        "    ct_pixels = load_scan(INPUT_FOLDER + patient)\n",
        "    ct_hu_pixels = get_pixels_hu(ct_pixels)\n",
        "    \n",
        "    lung_mask = segment_lung_mask(ct_hu_pixels, True)\n",
        "\n",
        "    ct_list.append(ct_hu_pixels)\n",
        "    lung_mask_list.append(lung_mask)"
      ]
    },
    {
      "cell_type": "code",
      "execution_count": null,
      "metadata": {
        "_cell_guid": "4212bb27-3456-15fe-2433-63a83cc29bb3"
      },
      "outputs": [],
      "source": [
        "for i in range(len(patient_list)):\n",
        "    print(\"patient:{}\".format(patient_list[i]))\n",
        "    fig,ax = plt.subplots(1,2,figsize=[10,10])\n",
        "    ax[0].imshow(ct_list[i][100],cmap='gray')\n",
        "    ax[1].imshow(ct_list[i][100]*lung_mask_list[i][100],cmap='gray')\n",
        "    plt.show()"
      ]
    },
    {
      "cell_type": "code",
      "execution_count": null,
      "metadata": {
        "_cell_guid": "85a18b2a-c6a5-66a9-36c4-87caf6c38dc0"
      },
      "outputs": [],
      "source": [
        ""
      ]
    }
  ],
  "metadata": {
    "_change_revision": 0,
    "_is_fork": false,
    "kernelspec": {
      "display_name": "Python 3",
      "language": "python",
      "name": "python3"
    },
    "language_info": {
      "codemirror_mode": {
        "name": "ipython",
        "version": 3
      },
      "file_extension": ".py",
      "mimetype": "text/x-python",
      "name": "python",
      "nbconvert_exporter": "python",
      "pygments_lexer": "ipython3",
      "version": "3.6.0"
    }
  },
  "nbformat": 4,
  "nbformat_minor": 0
}