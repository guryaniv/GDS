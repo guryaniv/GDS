{
  "cells": [
    {
      "cell_type": "code",
      "execution_count": null,
      "metadata": {
        "_cell_guid": "196ec422-0c66-d17a-aa8a-ae3097335f16"
      },
      "outputs": [],
      "source": [
        "# This Python 3 environment comes with many helpful analytics libraries installed\n",
        "# It is defined by the kaggle/python docker image: https://github.com/kaggle/docker-python\n",
        "# For example, here's several helpful packages to load in \n",
        "\n",
        "import numpy as np # linear algebra\n",
        "import pandas as pd # data processing, CSV file I/O (e.g. pd.read_csv)\n",
        "\n",
        "# Input data files are available in the \"../input/\" directory.\n",
        "# For example, running this (by clicking run or pressing Shift+Enter) will list the files in the input directory\n",
        "\n",
        "from subprocess import check_output\n",
        "print(check_output([\"ls\", \"../input\"]).decode(\"utf8\"))\n",
        "\n",
        "# Any results you write to the current directory are saved as output."
      ]
    },
    {
      "cell_type": "code",
      "execution_count": null,
      "metadata": {
        "_cell_guid": "eee1b731-b85a-1619-602c-b08c246847c1"
      },
      "outputs": [],
      "source": [
        "# We'll also import seaborn, a Python graphing library\n",
        "import warnings # current version of seaborn generates a bunch of warnings that we'll ignore\n",
        "warnings.filterwarnings(\"ignore\")\n",
        "import seaborn as sns\n",
        "import matplotlib.pyplot as plt\n",
        "sns.set(style=\"white\", color_codes=True)\n",
        "\n",
        "# Next, we'll load the Iris flower dataset, which is in the \"../input/\" directory\n",
        "RegularSeasonCompactResults = pd.read_csv(\"../input/RegularSeasonCompactResults.csv\") # the iris dataset is now a Pandas DataFrame\n",
        "\n",
        "# Let's see what's in the iris data - Jupyter notebooks print the result of the last thing you do\n",
        "RegularSeasonCompactResults.head()\n",
        "\n",
        "# Press shift+enter to execute this cell"
      ]
    },
    {
      "cell_type": "code",
      "execution_count": null,
      "metadata": {
        "_cell_guid": "e8f4c33f-f29c-d9ed-2069-90b797431f63"
      },
      "outputs": [],
      "source": [
        "# Let's see how many examples we have for the Wloc variable. \n",
        "RegularSeasonCompactResults[\"Wloc\"].value_counts()"
      ]
    },
    {
      "cell_type": "code",
      "execution_count": null,
      "metadata": {
        "_cell_guid": "d7f980b3-b62c-e33b-b710-b74f6757b071"
      },
      "outputs": [],
      "source": [
        "RegularSeasonCompactResults[\"Wloc\"].value_counts().plot(kind='barh')"
      ]
    },
    {
      "cell_type": "code",
      "execution_count": null,
      "metadata": {
        "_cell_guid": "a24ec6e1-469b-90d3-1ef8-230584a66c91"
      },
      "outputs": [],
      "source": [
        "# Let's see how many examples we have for the Wloc variable. \n",
        "RegularSeasonCompactResults[\"Numot\"].value_counts()"
      ]
    },
    {
      "cell_type": "code",
      "execution_count": null,
      "metadata": {
        "_cell_guid": "a7f79a5a-24ce-2d07-8f56-b92bd6d18926"
      },
      "outputs": [],
      "source": [
        "RegularSeasonCompactResults[\"Numot\"].value_counts().plot(kind='barh')"
      ]
    },
    {
      "cell_type": "code",
      "execution_count": null,
      "metadata": {
        "_cell_guid": "598b1ffb-0639-3713-2f88-fdeb006ca33b"
      },
      "outputs": [],
      "source": [
        "# Let's see how many examples we have for the Wloc variable. \n",
        "RegularSeasonCompactResults[\"Wteam\"].value_counts()"
      ]
    },
    {
      "cell_type": "code",
      "execution_count": null,
      "metadata": {
        "_cell_guid": "6548a95b-5fa5-c7d5-3846-df6ef05fb9f6"
      },
      "outputs": [],
      "source": [
        "RegularSeasonCompactResults[\"Wteam\"].value_counts()[:20].plot(kind='barh')"
      ]
    },
    {
      "cell_type": "code",
      "execution_count": null,
      "metadata": {
        "_cell_guid": "cadf0153-15cc-21bf-d93a-50951989e76c"
      },
      "outputs": [],
      "source": [
        "# Let's see how many examples we have for the Wloc variable. \n",
        "RegularSeasonCompactResults[\"Lteam\"].value_counts()"
      ]
    },
    {
      "cell_type": "code",
      "execution_count": null,
      "metadata": {
        "_cell_guid": "aef10d56-a91e-5986-a4ea-32b9bb930ae0"
      },
      "outputs": [],
      "source": [
        "RegularSeasonCompactResults[\"Lteam\"].value_counts()[:20].plot(kind='barh')"
      ]
    },
    {
      "cell_type": "code",
      "execution_count": null,
      "metadata": {
        "_cell_guid": "2df9e60d-fefb-a597-f689-bf6707a10fd5"
      },
      "outputs": [],
      "source": [
        "# The first way we can plot things is using the .plot extension from Pandas dataframes\n",
        "# We'll use this to make a scatterplot of the RegularSeasonCompactResults features.\n",
        "RegularSeasonCompactResults.plot(kind=\"scatter\", x=\"Lscore\", y=\"Wscore\")"
      ]
    },
    {
      "cell_type": "code",
      "execution_count": null,
      "metadata": {
        "_cell_guid": "2de10432-2fcf-1e32-9e48-2475bd52a538"
      },
      "outputs": [],
      "source": [
        "# We can also use the seaborn library to make a similar plot\n",
        "# A seaborn jointplot shows bivariate scatterplots and univariate histograms in the same figure\n",
        "sns.jointplot(x=\"Lscore\", y=\"Wscore\", data=RegularSeasonCompactResults, size=5)"
      ]
    },
    {
      "cell_type": "code",
      "execution_count": null,
      "metadata": {
        "_cell_guid": "5cffdfd6-9da4-4bb1-9aa4-591e1e158a55"
      },
      "outputs": [],
      "source": [
        "# The first way we can plot things is using the .plot extension from Pandas dataframes\n",
        "# We'll use this to make a scatterplot of the RegularSeasonCompactResults features.\n",
        "RegularSeasonCompactResults.plot(kind=\"scatter\", x=\"Daynum\", y=\"Wscore\")"
      ]
    },
    {
      "cell_type": "code",
      "execution_count": null,
      "metadata": {
        "_cell_guid": "9677d02a-2512-0166-eb78-ad57edbb6c74"
      },
      "outputs": [],
      "source": [
        "# We can also use the seaborn library to make a similar plot\n",
        "# A seaborn jointplot shows bivariate scatterplots and univariate histograms in the same figure\n",
        "sns.jointplot(x=\"Daynum\", y=\"Wscore\", data=RegularSeasonCompactResults, size=5)"
      ]
    },
    {
      "cell_type": "code",
      "execution_count": null,
      "metadata": {
        "_cell_guid": "eb844f09-7ab7-5622-b874-9142d38a1f84"
      },
      "outputs": [],
      "source": [
        "sns.FacetGrid(RegularSeasonCompactResults, hue=\"Season\", size=5) \\\n",
        "   .map(plt.scatter, \"Daynum\", \"Wscore\") \\\n",
        "   .add_legend()"
      ]
    },
    {
      "cell_type": "code",
      "execution_count": null,
      "metadata": {
        "_cell_guid": "04f62d68-55a3-926f-a1a5-7c0ea552d7a6"
      },
      "outputs": [],
      "source": [
        "# We can look at an individual feature in Seaborn through a boxplot\n",
        "sns.boxplot(x=\"Season\", y=\"Wscore\", data=RegularSeasonCompactResults)"
      ]
    },
    {
      "cell_type": "code",
      "execution_count": null,
      "metadata": {
        "_cell_guid": "2e9ab679-be25-18dd-a5c7-27ba3f0d1daf"
      },
      "outputs": [],
      "source": [
        "# A final seaborn plot useful for looking at univariate relations is the kdeplot,\n",
        "# which creates and visualizes a kernel density estimate of the underlying feature\n",
        "sns.FacetGrid(RegularSeasonCompactResults, hue=\"Wloc\", size=6) \\\n",
        "   .map(sns.kdeplot, \"Wscore\") \\\n",
        "   .add_legend()"
      ]
    },
    {
      "cell_type": "code",
      "execution_count": null,
      "metadata": {
        "_cell_guid": "b279dfa7-bda1-1fdd-2c6f-6a6d537624dc"
      },
      "outputs": [],
      "source": [
        "# We can look at an individual feature in Seaborn through a boxplot\n",
        "sns.boxplot(x=\"Season\", y=\"Lscore\", data=RegularSeasonCompactResults)"
      ]
    },
    {
      "cell_type": "code",
      "execution_count": null,
      "metadata": {
        "_cell_guid": "4e5ba92b-439e-89fd-6a9c-f7c5622a7299"
      },
      "outputs": [],
      "source": [
        "# A final seaborn plot useful for looking at univariate relations is the kdeplot,\n",
        "# which creates and visualizes a kernel density estimate of the underlying feature\n",
        "sns.FacetGrid(RegularSeasonCompactResults, hue=\"Wloc\", size=6) \\\n",
        "   .map(sns.kdeplot, \"Lscore\") \\\n",
        "   .add_legend()"
      ]
    },
    {
      "cell_type": "code",
      "execution_count": null,
      "metadata": {
        "_cell_guid": "445b4add-6fa0-d0a4-104d-cd29f3160698"
      },
      "outputs": [],
      "source": [
        "pd.pivot_table(RegularSeasonCompactResults,index=[\"Season\"])"
      ]
    },
    {
      "cell_type": "code",
      "execution_count": null,
      "metadata": {
        "_cell_guid": "93488fcd-33e2-6087-cedb-83b82205b36c"
      },
      "outputs": [],
      "source": [
        "pd.pivot_table(RegularSeasonCompactResults,index=[\"Wloc\"])"
      ]
    },
    {
      "cell_type": "code",
      "execution_count": null,
      "metadata": {
        "_cell_guid": "b6e9b522-68f9-f5a8-76d4-227b25f80b97"
      },
      "outputs": [],
      "source": [
        "pd.pivot_table(RegularSeasonCompactResults,index=[\"Wteam\"])"
      ]
    },
    {
      "cell_type": "code",
      "execution_count": null,
      "metadata": {
        "_cell_guid": "9c4cb624-0441-73d9-29be-8ca9a1181599"
      },
      "outputs": [],
      "source": [
        "pd.pivot_table(RegularSeasonCompactResults,index=[\"Lteam\"])"
      ]
    },
    {
      "cell_type": "code",
      "execution_count": null,
      "metadata": {
        "_cell_guid": "c7d7e25e-24cc-2bdd-1183-a55896b389ac"
      },
      "outputs": [],
      "source": ""
    }
  ],
  "metadata": {
    "_change_revision": 0,
    "_is_fork": false,
    "kernelspec": {
      "display_name": "Python 3",
      "language": "python",
      "name": "python3"
    },
    "language_info": {
      "codemirror_mode": {
        "name": "ipython",
        "version": 3
      },
      "file_extension": ".py",
      "mimetype": "text/x-python",
      "name": "python",
      "nbconvert_exporter": "python",
      "pygments_lexer": "ipython3",
      "version": "3.5.2"
    }
  },
  "nbformat": 4,
  "nbformat_minor": 0
}