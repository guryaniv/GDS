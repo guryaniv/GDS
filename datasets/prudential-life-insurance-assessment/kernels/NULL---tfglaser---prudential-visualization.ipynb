{"cells":[
 {
  "cell_type": "code",
  "execution_count": null,
  "metadata": {
   "collapsed": false
  },
  "outputs": [],
  "source": "import pandas as pd\nfrom pandas import Series,DataFrame\n\nimport numpy as np\n%matplotlib inline\nimport matplotlib.pyplot as plt\n\nimport seaborn as sns"
 },
 {
  "cell_type": "code",
  "execution_count": null,
  "metadata": {
   "collapsed": false
  },
  "outputs": [],
  "source": "# get training & test csv files as a DataFrame\ntrain_df = pd.read_csv(\"../input/train.csv\" )\ntest_df    = pd.read_csv(\"../input/test.csv\")\n\n# preview the data\ntrain_df.head()"
 },
 {
  "cell_type": "code",
  "execution_count": null,
  "metadata": {
   "collapsed": false
  },
  "outputs": [],
  "source": "test_df.head()"
 },
 {
  "cell_type": "code",
  "execution_count": null,
  "metadata": {
   "collapsed": false
  },
  "outputs": [],
  "source": "fig, axis1 = plt.subplots(1,1,figsize=(20,5))\nsns.countplot(x='Response', data=train_df, ax=axis1, order=[1,2,3,4,5,6,7,8])"
 },
 {
  "cell_type": "markdown",
  "metadata": {},
  "source": "Employment_Info_2\nResponses 1-4 look a bit different than 5-7 and 8 looks different than the rest"
 },
 {
  "cell_type": "code",
  "execution_count": null,
  "metadata": {
   "collapsed": false
  },
  "outputs": [],
  "source": "fig, axis1 = plt.subplots(1,1,figsize=(20,5))\nsns.countplot(x='Employment_Info_2', data=train_df, ax=axis1)"
 },
 {
  "cell_type": "code",
  "execution_count": null,
  "metadata": {
   "collapsed": false
  },
  "outputs": [],
  "source": "fig, axis1 = plt.subplots(1,1,figsize=(20,5))\nsns.countplot(x='Employment_Info_2', hue=\"Response\", data=train_df, ax=axis1, hue_order=[1,2,3,4,5,6,7,8])"
 },
 {
  "cell_type": "code",
  "execution_count": null,
  "metadata": {
   "collapsed": false
  },
  "outputs": [],
  "source": "g = sns.FacetGrid(train_df, col=\"Response\", col_wrap=2, size=5, col_order=[1,2,3,4,5,6,7,8])\ng.map(sns.countplot, \"Employment_Info_2\")"
 },
 {
  "cell_type": "markdown",
  "metadata": {},
  "source": "\nAge, Height, Weight, BMI�\nAppears to be significant difference between category 1 and category 8. Categories 3,4,5 have smaller data sets which might inhibit a nice gradient between categories 1 and 8."
 },
 {
  "cell_type": "code",
  "execution_count": null,
  "metadata": {
   "collapsed": false
  },
  "outputs": [],
  "source": "facet = sns.FacetGrid(train_df, hue=\"Response\",aspect=4, hue_order=[1,2,3,4,5,6,7,8], palette=\"RdBu\")\nfacet.map(sns.kdeplot,'Ins_Age')\nfacet.set(xlim=(0, train_df['Ins_Age'].max()))\nfacet.add_legend()"
 },
 {
  "cell_type": "code",
  "execution_count": null,
  "metadata": {
   "collapsed": false
  },
  "outputs": [],
  "source": "facet = sns.FacetGrid(train_df, hue=\"Response\",aspect=4, hue_order=[1,2,3,4,5,6,7,8], palette=\"RdBu\")\nfacet.map(sns.kdeplot,'Ht')\nfacet.set(xlim=(0.4, train_df['Ht'].max()))\nfacet.add_legend()"
 },
 {
  "cell_type": "code",
  "execution_count": null,
  "metadata": {
   "collapsed": false
  },
  "outputs": [],
  "source": "facet = sns.FacetGrid(train_df, hue=\"Response\",aspect=4, hue_order=[1,2,3,4,5,6,7,8], palette=\"RdBu\")\nfacet.map(sns.kdeplot,'Ht')\nfacet.set(xlim=(0.4, train_df['Ht'].max()))\nfacet.add_legend()"
 },
 {
  "cell_type": "code",
  "execution_count": null,
  "metadata": {
   "collapsed": false
  },
  "outputs": [],
  "source": "facet = sns.FacetGrid(train_df, hue=\"Response\",aspect=4, hue_order=[1,2,3,4,5,6,7,8], palette=\"RdBu\")\nfacet.map(sns.kdeplot,'BMI')\nfacet.set(xlim=(0, 1.0))\nfacet.add_legend()"
 },
 {
  "cell_type": "markdown",
  "metadata": {},
  "source": "BMI distribution�\nCheck out the wide distribution on category 8 vs category 1. Notice the fat tail on Category 1."
 },
 {
  "cell_type": "code",
  "execution_count": null,
  "metadata": {
   "collapsed": false
  },
  "outputs": [],
  "source": "ax = sns.boxplot(x=\"Response\", y=\"BMI\", data=train_df, order=[1,2,3,4,5,6,7,8], palette=\"RdBu\")\nax.set(ylim=(0, 1.1))"
 },
 {
  "cell_type": "code",
  "execution_count": null,
  "metadata": {
   "collapsed": false
  },
  "outputs": [],
  "source": "fig, ax = plt.subplots(1,1,figsize=(14,8))\ncm = plt.cm.get_cmap('RdBu')\nax = plt.scatter(train_df[\"Ins_Age\"], train_df[\"BMI\"], c=train_df[\"Response\"], alpha=0.5, cmap=cm)\nplt.xlim=(0, 1.0)\nplt.ylim=(0, 1.0)\nplt.title(\"Age vs BMI\")\nplt.xlabel(\"Age\")\nplt.ylabel(\"BMI\")\ncbar=plt.colorbar(ax)\ncbar.ax.set_ylabel('Response', rotation=270)"
 },
 {
  "cell_type": "markdown",
  "metadata": {},
  "source": "\nInsured Info�\nAppears to be a factor in helping to determine rating"
 },
 {
  "cell_type": "code",
  "execution_count": null,
  "metadata": {
   "collapsed": false
  },
  "outputs": [],
  "source": "fig, axis1 = plt.subplots(1,1,figsize=(20,5))\nsns.countplot(x='InsuredInfo_6', hue=\"Response\", data=train_df, ax=axis1, hue_order=[1,2,3,4,5,6,7,8], palette=\"RdBu\")"
 },
 {
  "cell_type": "markdown",
  "metadata": {},
  "source": "Insurance History�\nInsurance_History_5 seems to be somewhat predictive in excluding from categories 6,7,8"
 },
 {
  "cell_type": "code",
  "execution_count": null,
  "metadata": {
   "collapsed": false
  },
  "outputs": [],
  "source": "facet = sns.FacetGrid(train_df, hue=\"Response\",aspect=4, hue_order=[1,2,3,4,5,6,7,8], palette=\"RdBu\")\nfacet.map(sns.kdeplot,'Insurance_History_5')\nfacet.set(xlim=(0, 0.01))\nfacet.add_legend()"
 },
 {
  "cell_type": "markdown",
  "metadata": {},
  "source": "\nFamily History�\nFamily_Hist_1 seems like it is a good factor that could be helpful in selecting for Category 8"
 },
 {
  "cell_type": "code",
  "execution_count": null,
  "metadata": {
   "collapsed": false
  },
  "outputs": [],
  "source": "fig, axis1 = plt.subplots(1,1,figsize=(20,5))\nsns.countplot(x='Family_Hist_1', hue=\"Response\", data=train_df, ax=axis1, hue_order=[1,2,3,4,5,6,7,8])"
 }
],"metadata":{"kernelspec":{"display_name":"Python 3","language":"python","name":"python3"}}, "nbformat": 4, "nbformat_minor": 0}