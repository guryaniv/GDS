{
  "cells": [
    {
      "cell_type": "code",
      "execution_count": null,
      "metadata": {
        "_cell_guid": "43e61950-f3a8-1b69-1629-d5d04be72ed8"
      },
      "outputs": [],
      "source": [
        "import graphlab"
      ]
    },
    {
      "cell_type": "code",
      "execution_count": null,
      "metadata": {
        "_cell_guid": "68f7a22c-25b2-8e0f-1db4-f58013cb818b"
      },
      "outputs": [],
      "source": [
        "dataset=graphlab.SFrame('creditcard.csv')"
      ]
    },
    {
      "cell_type": "code",
      "execution_count": null,
      "metadata": {
        "_cell_guid": "95c38b92-7b61-afd7-8d25-cfe2e164936d"
      },
      "outputs": [],
      "source": [
        "dataset"
      ]
    },
    {
      "cell_type": "code",
      "execution_count": null,
      "metadata": {
        "_cell_guid": "395d8fba-8d66-e08c-f701-51c40744846d"
      },
      "outputs": [],
      "source": [
        "dataset.show()"
      ]
    },
    {
      "cell_type": "code",
      "execution_count": null,
      "metadata": {
        "_cell_guid": "e178dea1-43c5-2379-996a-ce9b2144044f"
      },
      "outputs": [],
      "source": [
        "train_dataset, test_dataset = dataset.random_split(0.8)"
      ]
    },
    {
      "cell_type": "code",
      "execution_count": null,
      "metadata": {
        "_cell_guid": "7f199714-9a6d-5eba-2b42-46316b0b1e26"
      },
      "outputs": [],
      "source": [
        "model = graphlab.random_forest_classifier.create(train_dataset, target='Class',max_iterations=10,max_depth =  5)"
      ]
    },
    {
      "cell_type": "code",
      "execution_count": null,
      "metadata": {
        "_cell_guid": "1f33744d-855a-bf78-b304-7d9c84762336",
        "collapsed": true
      },
      "outputs": [],
      "source": [
        "predictions = model.predict(test_dataset)"
      ]
    },
    {
      "cell_type": "code",
      "execution_count": null,
      "metadata": {
        "_cell_guid": "ae5ca251-f56b-ef3a-cb71-589d16cdc579",
        "collapsed": true
      },
      "outputs": [],
      "source": [
        "results = model.evaluate(test_dataset)"
      ]
    },
    {
      "cell_type": "code",
      "execution_count": null,
      "metadata": {
        "_cell_guid": "173fee58-7ea1-5f21-8637-dfb0e936b898"
      },
      "outputs": [],
      "source": [
        "results"
      ]
    },
    {
      "cell_type": "code",
      "execution_count": null,
      "metadata": {
        "_cell_guid": "358ef0df-5d79-04cc-6468-4a92caf91d08"
      },
      "outputs": [],
      "source": [
        "model.show(view=\"Tree\", tree_id=0)\n",
        "model.show(view=\"Tree\", tree_id=1)"
      ]
    },
    {
      "cell_type": "code",
      "execution_count": null,
      "metadata": {
        "_cell_guid": "4ce3a87a-f37d-f8fe-65f0-428fe225d811",
        "collapsed": true
      },
      "outputs": [],
      "source": [
        ""
      ]
    }
  ],
  "metadata": {
    "_change_revision": 0,
    "_is_fork": false,
    "kernelspec": {
      "display_name": "Python 3",
      "language": "python",
      "name": "python3"
    },
    "language_info": {
      "codemirror_mode": {
        "name": "ipython",
        "version": 3
      },
      "file_extension": ".py",
      "mimetype": "text/x-python",
      "name": "python",
      "nbconvert_exporter": "python",
      "pygments_lexer": "ipython3",
      "version": "3.6.0"
    }
  },
  "nbformat": 4,
  "nbformat_minor": 0
}