{
  "cells": [
    {
      "cell_type": "markdown",
      "metadata": {
        "_cell_guid": "651a4eff-00b0-5de3-62d9-11dc8f76d618"
      },
      "source": [
        ""
      ]
    },
    {
      "cell_type": "code",
      "execution_count": null,
      "metadata": {
        "_cell_guid": "3d31bf97-46f0-c6f6-e224-77592aaaaeaf"
      },
      "outputs": [],
      "source": [
        "# This Python 3 environment comes with many helpful analytics libraries installed\n",
        "# It is defined by the kaggle/python docker image: https://github.com/kaggle/docker-python\n",
        "# For example, here's several helpful packages to load in \n",
        "\n",
        "import numpy as np # linear algebra\n",
        "import pandas as pd # data processing, CSV file I/O (e.g. pd.read_csv)\n",
        "\n",
        "# Input data files are available in the \"../input/\" directory.\n",
        "# For example, running this (by clicking run or pressing Shift+Enter) will list the files in the input directory\n",
        "\n",
        "from subprocess import check_output\n",
        "print(check_output([\"ls\", \"../input\"]).decode(\"utf8\"))\n",
        "\n",
        "# Any results you write to the current directory are saved as output."
      ]
    },
    {
      "cell_type": "code",
      "execution_count": null,
      "metadata": {
        "_cell_guid": "d6e2dda4-6fce-ce02-1f85-9a78683d66c6"
      },
      "outputs": [],
      "source": [
        "train = pd.read_json(\"../input/train.json\")\n",
        "train.loc[:, ['created']] = pd.to_datetime(train['created'])\n",
        "test = pd.read_json(\"../input/test.json\")\n",
        "test.loc[:, ['created']] = pd.to_datetime(test['created'])\n",
        "print(train.shape)\n",
        "print(test.shape)\n",
        "print(train.head())"
      ]
    },
    {
      "cell_type": "code",
      "execution_count": null,
      "metadata": {
        "_cell_guid": "a14f6fe4-ab16-6175-3942-aa021bb4c42d"
      },
      "outputs": [],
      "source": [
        "num_vars = ['bathrooms', 'bedrooms', 'created_month', 'created_day', 'latitude', 'longitude', 'photo_num', 'price']\n",
        "cat_vars = ['building_id', 'display_address', 'manager_id', 'street_address']\n",
        "other_vars = ['created', 'description', 'features', 'photos']"
      ]
    },
    {
      "cell_type": "markdown",
      "metadata": {
        "_cell_guid": "38e1f17c-a71e-c6d3-26d2-589593a2e5d5"
      },
      "source": [
        "**data process**"
      ]
    },
    {
      "cell_type": "code",
      "execution_count": null,
      "metadata": {
        "_cell_guid": "0908b336-7689-2b38-7c9f-83b7a6d1b647"
      },
      "outputs": [],
      "source": [
        "def process(data):\n",
        "    # x = data[['bathrooms', 'bedrooms', 'latitude', 'longitude', 'price']]\n",
        "    x = data[['latitude', 'longitude', 'price']]\n",
        "    # x.loc[:, 'created'] = pd.to_datetime(data['created'])\n",
        "    x.loc[:, 'created_month'] = data['created'].dt.month\n",
        "    x.loc[:, 'created_day'] = data['created'].dt.day\n",
        "    x.loc[:, 'created_hour'] = data['created'].dt.hour\n",
        "    x.loc[:, 'description_len'] = data.photos.apply(len)\n",
        "    x.loc[:, 'features_num'] = data.features.apply(len)\n",
        "    x.loc[:, 'photos_num'] = data.photos.apply(len)\n",
        "    data['bathrooms_x_bedrooms'] = data.apply(lambda x: '{}b{}b'.format(x['bathrooms'], x['bedrooms']), 1)\n",
        "    x = x.add(pd.get_dummies(data['bathrooms_x_bedrooms'], sparse=True))\n",
        "    if 'interest_level' in data:\n",
        "        y = data['interest_level']\n",
        "    else:\n",
        "        y = None\n",
        "    return x, y"
      ]
    },
    {
      "cell_type": "markdown",
      "metadata": {
        "_cell_guid": "3602f6bb-2a1c-b3b6-4b0a-9e9e725fd43b"
      },
      "source": [
        "**the categorical vars of train and test are highly coincide**"
      ]
    },
    {
      "cell_type": "code",
      "execution_count": null,
      "metadata": {
        "_cell_guid": "0379e11d-4c11-8659-0205-75ced83337ed"
      },
      "outputs": [],
      "source": [
        "var_temp = 'building_id'\n",
        "test[var_temp].isin(train[var_temp]).sum()"
      ]
    },
    {
      "cell_type": "code",
      "execution_count": null,
      "metadata": {
        "_cell_guid": "34b5e2d1-0614-d40e-f734-a2328397ca92"
      },
      "outputs": [],
      "source": [
        "var_temp = 'manager_id'\n",
        "test[var_temp].isin(train[var_temp]).sum()"
      ]
    },
    {
      "cell_type": "markdown",
      "metadata": {
        "_cell_guid": "314caa73-c2ad-5854-5241-d4c546706759"
      },
      "source": [
        "**test the predictors and outcome**"
      ]
    },
    {
      "cell_type": "code",
      "execution_count": null,
      "metadata": {
        "_cell_guid": "1c186dd1-7722-8ff9-be2f-877ead8c2f1c"
      },
      "outputs": [],
      "source": [
        "x_train, y_train = process(train)"
      ]
    },
    {
      "cell_type": "code",
      "execution_count": null,
      "metadata": {
        "_cell_guid": "68803199-43d3-ef7d-a4b6-2405270625e1"
      },
      "outputs": [],
      "source": [
        "\n",
        "pd.crosstab(train['interest_level'], x_train['created_day']).apply(lambda s: s/sum(s))"
      ]
    },
    {
      "cell_type": "code",
      "execution_count": null,
      "metadata": {
        "_cell_guid": "a370c5e2-0481-cbba-02fa-e2ba0b51ede5"
      },
      "outputs": [],
      "source": [
        "pd.crosstab(train['interest_level'], train['created'].dt.hour).apply(lambda s: s/sum(s))"
      ]
    },
    {
      "cell_type": "code",
      "execution_count": null,
      "metadata": {
        "_cell_guid": "fccbfe4a-8fa7-9efd-3df8-322041bc3404"
      },
      "outputs": [],
      "source": [
        "train.groupby(['interest_level', 'bathrooms'])['interest_level'].count()"
      ]
    },
    {
      "cell_type": "code",
      "execution_count": null,
      "metadata": {
        "_cell_guid": "f237c3ad-ecb6-c4db-8571-011f6eaadec9"
      },
      "outputs": [],
      "source": [
        "from sklearn.ensemble import RandomForestClassifier\n",
        "rf = RandomForestClassifier(n_estimators=100, oob_score=True, verbose=1)\n",
        "rf.fit(x_train, y_train)"
      ]
    },
    {
      "cell_type": "code",
      "execution_count": null,
      "metadata": {
        "_cell_guid": "ca55694d-5068-9284-8509-b970f6715f3e"
      },
      "outputs": [],
      "source": [
        "rf.oob_score_   "
      ]
    },
    {
      "cell_type": "code",
      "execution_count": null,
      "metadata": {
        "_cell_guid": "51848078-9861-3f8d-882e-b82af13d37aa"
      },
      "outputs": [],
      "source": [
        "rf.n_features_"
      ]
    },
    {
      "cell_type": "code",
      "execution_count": null,
      "metadata": {
        "_cell_guid": "bbeda302-b6d1-8a8c-1d97-6faf702bc955"
      },
      "outputs": [],
      "source": [
        "x_test, _ = process(test)"
      ]
    },
    {
      "cell_type": "code",
      "execution_count": null,
      "metadata": {
        "_cell_guid": "8aef7552-7c34-ac10-f08b-93397b020765"
      },
      "outputs": [],
      "source": [
        "y_test = rf.predict_proba(x_test)"
      ]
    },
    {
      "cell_type": "code",
      "execution_count": null,
      "metadata": {
        "_cell_guid": "004a4e58-8a0f-d940-b8fd-4d1c00fe12a5"
      },
      "outputs": [],
      "source": [
        "x_train.columns"
      ]
    },
    {
      "cell_type": "code",
      "execution_count": null,
      "metadata": {
        "_cell_guid": "5d4ad490-5a33-1465-048e-42458055375b"
      },
      "outputs": [],
      "source": [
        "rf.feature_importances_ "
      ]
    },
    {
      "cell_type": "code",
      "execution_count": null,
      "metadata": {
        "_cell_guid": "6a6d2fd7-f100-f79e-0d8b-40dcd85f8f65"
      },
      "outputs": [],
      "source": [
        "rf.classes_ "
      ]
    },
    {
      "cell_type": "code",
      "execution_count": null,
      "metadata": {
        "_cell_guid": "9e84db15-fe94-69db-33d6-0740f168b802"
      },
      "outputs": [],
      "source": [
        " test[\"listing_id\"].head()"
      ]
    },
    {
      "cell_type": "code",
      "execution_count": null,
      "metadata": {
        "_cell_guid": "7c51950f-1d56-09da-f67a-c50e13ec1a30"
      },
      "outputs": [],
      "source": [
        "y_test_df = pd.DataFrame(y_test, columns=rf.classes_)\n",
        "y_test_df[\"listing_id\"] = test[\"listing_id\"].tolist()\n",
        "y_test_df.head()"
      ]
    },
    {
      "cell_type": "code",
      "execution_count": null,
      "metadata": {
        "_cell_guid": "9b2c11c4-6c92-1507-5076-1dea8a488bad"
      },
      "outputs": [],
      "source": [
        "y_test_df.to_csv(\"submission_rf.csv\", index=False)"
      ]
    }
  ],
  "metadata": {
    "_change_revision": 0,
    "_is_fork": false,
    "kernelspec": {
      "display_name": "Python 3",
      "language": "python",
      "name": "python3"
    },
    "language_info": {
      "codemirror_mode": {
        "name": "ipython",
        "version": 3
      },
      "file_extension": ".py",
      "mimetype": "text/x-python",
      "name": "python",
      "nbconvert_exporter": "python",
      "pygments_lexer": "ipython3",
      "version": "3.6.0"
    }
  },
  "nbformat": 4,
  "nbformat_minor": 0
}