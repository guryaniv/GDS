{
  "cells": [
    {
      "cell_type": "code",
      "execution_count": null,
      "metadata": {
        "_cell_guid": "e523a89c-44c3-2905-b2a4-24804b51df22"
      },
      "outputs": [],
      "source": [
        "# This Python 3 environment comes with many helpful analytics libraries installed\n",
        "# It is defined by the kaggle/python docker image: https://github.com/kaggle/docker-python\n",
        "# For example, here's several helpful packages to load in \n",
        "\n",
        "import numpy as np # linear algebra\n",
        "import pandas as pd # data processing, CSV file I/O (e.g. pd.read_csv)\n",
        "\n",
        "# Input data files are available in the \"../input/\" directory.\n",
        "# For example, running this (by clicking run or pressing Shift+Enter) will list the files in the input directory\n",
        "\n",
        "from subprocess import check_output\n",
        "print(check_output([\"ls\", \"../input\"]).decode(\"utf8\"))\n",
        "\n",
        "# Any results you write to the current directory are saved as output."
      ]
    },
    {
      "cell_type": "code",
      "execution_count": null,
      "metadata": {
        "_cell_guid": "810cd6d8-7a82-9f31-e795-d855e2203e69"
      },
      "outputs": [],
      "source": [
        "df = pd.read_csv(\"../input/kc_house_data.csv\")\n",
        "df.info()"
      ]
    },
    {
      "cell_type": "code",
      "execution_count": null,
      "metadata": {
        "_cell_guid": "1c353601-a51f-0687-5bb6-d3330b95f496"
      },
      "outputs": [],
      "source": [
        "df.head(3)"
      ]
    },
    {
      "cell_type": "code",
      "execution_count": null,
      "metadata": {
        "_cell_guid": "55501c1c-a71d-7981-57c9-53a6b87efbe2"
      },
      "outputs": [],
      "source": [
        "df.describe()"
      ]
    },
    {
      "cell_type": "code",
      "execution_count": null,
      "metadata": {
        "_cell_guid": "4ada730b-2db5-83bd-a7a3-55010909f549"
      },
      "outputs": [],
      "source": [
        "import matplotlib.pyplot as plt\n",
        "import seaborn as sns\n",
        "from sklearn.preprocessing import StandardScaler\n",
        "from sklearn.model_selection import train_test_split, learning_curve\n",
        "from sklearn.linear_model import LinearRegression\n",
        "from sklearn.model_selection import KFold\n",
        "from sklearn.metrics import r2_score\n",
        "from sklearn.model_selection import validation_curve\n",
        "from sklearn.linear_model import Ridge\n",
        "from sklearn.base import clone\n",
        "from itertools import combinations\n",
        "from sklearn.preprocessing import PolynomialFeatures\n",
        "from sklearn.decomposition import PCA"
      ]
    },
    {
      "cell_type": "code",
      "execution_count": null,
      "metadata": {
        "_cell_guid": "359c06ce-5ef7-a94c-d818-b8e9533dc993"
      },
      "outputs": [],
      "source": [
        "df[\"date\"] = pd.to_datetime(df[\"date\"])\n",
        "df.head(3)"
      ]
    },
    {
      "cell_type": "code",
      "execution_count": null,
      "metadata": {
        "_cell_guid": "848d1abc-7e6b-8943-dfc7-c80a838601b6"
      },
      "outputs": [],
      "source": [
        "X_visual = df.iloc[:, 2:]\n",
        "X = df.iloc[:, 3:]\n",
        "y = df.iloc[:, 2]\n",
        "X_cols = df.iloc[:, 3:]\n",
        "y_cols = df.iloc[:,2]"
      ]
    },
    {
      "cell_type": "code",
      "execution_count": null,
      "metadata": {
        "_cell_guid": "156ad9a5-201a-f154-43ed-660a79e184f5"
      },
      "outputs": [],
      "source": [
        "X_train, X_test, y_train, y_test = train_test_split(X, y, test_size = 0.3, random_state = 42)"
      ]
    },
    {
      "cell_type": "code",
      "execution_count": null,
      "metadata": {
        "_cell_guid": "9266faf9-4a8e-ff17-029d-b16647fc46e1"
      },
      "outputs": [],
      "source": [
        "sns.set(style=\"whitegrid\", context=\"notebook\")\n",
        "#sns.pairplot(X_visual, size=2.5)"
      ]
    },
    {
      "cell_type": "code",
      "execution_count": null,
      "metadata": {
        "_cell_guid": "72476680-1184-ea03-335c-29daced604ff"
      },
      "outputs": [],
      "source": [
        "cols = list(X_visual.columns)"
      ]
    },
    {
      "cell_type": "code",
      "execution_count": null,
      "metadata": {
        "_cell_guid": "807d33f8-0810-a242-488d-9b8ea57bfce5"
      },
      "outputs": [],
      "source": [
        "cm = np.corrcoef(X_visual.values.T)\n",
        "sns.set(font_scale=1.5)\n",
        "fig, ax = plt.subplots(figsize = (20,25))\n",
        "hm = sns.heatmap(cm, cbar=True, annot=True, fmt = '.2f', xticklabels = cols, yticklabels = cols)"
      ]
    },
    {
      "cell_type": "code",
      "execution_count": null,
      "metadata": {
        "_cell_guid": "d67d9d45-2615-b6fc-fac1-7938d78ba834"
      },
      "outputs": [],
      "source": [
        "ss = StandardScaler()\n",
        "X_train = ss.fit_transform(X_train)\n",
        "X_test = ss.transform(X_test)"
      ]
    },
    {
      "cell_type": "code",
      "execution_count": null,
      "metadata": {
        "_cell_guid": "49705324-cbb0-1953-717d-6e540af2e2d8"
      },
      "outputs": [],
      "source": [
        "lr=LinearRegression()\n",
        "lr.fit(X_train, y_train)\n",
        "pred = lr.predict(X_train)\n",
        "pred1 = lr.predict(X_test)\n",
        "print(\"r2_score for training data: \", r2_score(y_train, pred))\n",
        "print(\"r2_score for test data: \", r2_score(y_test, pred1))"
      ]
    },
    {
      "cell_type": "code",
      "execution_count": null,
      "metadata": {
        "_cell_guid": "3e495956-fd7b-09bf-b2d7-e72a3accc405"
      },
      "outputs": [],
      "source": [
        "train_sizes, train_scores, test_scores =learning_curve(estimator=lr,X=X_train,y=y_train,train_sizes=np.linspace(0.1, 1.0, 10),n_jobs=-1)\n",
        "#print(train_scores,test_scores)\n",
        "train_mean = np.mean(train_scores, axis=1)\n",
        "print(train_mean)\n",
        "train_std = np.std(train_scores, axis=1)\n",
        "test_mean = np.mean(test_scores, axis=1)\n",
        "test_std = np.std(test_scores, axis=1)"
      ]
    },
    {
      "cell_type": "code",
      "execution_count": null,
      "metadata": {
        "_cell_guid": "fbec1021-f5d8-45f4-6c87-0699f0d19956"
      },
      "outputs": [],
      "source": [
        "plt.plot(train_sizes, train_mean,\n",
        "color='blue', marker='o',\n",
        "markersize=5,\n",
        "label='training accuracy')\n",
        "\n",
        "plt.plot(train_sizes, test_mean,\n",
        "color='green', linestyle='--',\n",
        "marker='s', markersize=5,\n",
        "label='validation accuracy')\n",
        "\n",
        "plt.grid()\n",
        "plt.xlabel('Number of training samples')\n",
        "plt.ylabel('Accuracy')\n",
        "plt.legend(loc='lower right')\n",
        "plt.ylim([0.5, 1.0])\n",
        "plt.show()"
      ]
    },
    {
      "cell_type": "code",
      "execution_count": null,
      "metadata": {
        "_cell_guid": "bb53883b-ed04-19d1-196f-b55e0b7b0f75"
      },
      "outputs": [],
      "source": [
        "lr.coef_"
      ]
    },
    {
      "cell_type": "code",
      "execution_count": null,
      "metadata": {
        "_cell_guid": "874bd710-b62e-3527-7d11-99cd633fe032"
      },
      "outputs": [],
      "source": [
        "ridge = Ridge()\n",
        "ridge.fit(X_train, y_train)\n",
        "pred2 = ridge.predict(X_train)\n",
        "pred3 = ridge.predict(X_test)\n",
        "print(\"R2 score for train ridge: \", r2_score(y_train, pred2))\n",
        "print(\"r2_score for test data: \", r2_score(y_test, pred3))"
      ]
    },
    {
      "cell_type": "code",
      "execution_count": null,
      "metadata": {
        "_cell_guid": "1693cfe4-eac1-c953-31d2-eb9af583d611"
      },
      "outputs": [],
      "source": [
        "from sklearn.learning_curve import validation_curve\n",
        "param_range = [1e-5,1e-4,0.001, 0.01, 0.1, 1.0, 10.0, 100.0 ]\n",
        "train_scores, test_scores = validation_curve(\n",
        "estimator=ridge,\n",
        "X=X_train,\n",
        "y=y_train,\n",
        "param_name='alpha',\n",
        "param_range=param_range)\n",
        "train_mean = np.mean(train_scores, axis=1)\n",
        "train_std = np.std(train_scores, axis=1)\n",
        "test_mean = np.mean(test_scores, axis=1)\n",
        "test_std = np.std(test_scores, axis=1)\n",
        "plt.plot(param_range, train_mean,\n",
        "color='blue', marker='o',\n",
        "markersize=5,\n",
        "label='training accuracy')\n",
        "\n",
        "plt.plot(param_range, test_mean,\n",
        "color='green', linestyle='--',\n",
        "marker='s', markersize=5,\n",
        "label='validation accuracy')\n",
        "\n",
        "plt.grid()\n",
        "plt.xscale('log')\n",
        "plt.legend(loc='lower right')\n",
        "plt.xlabel('Parameter C')\n",
        "plt.ylabel('Accuracy')\n",
        "plt.ylim([0.5, 1.0])\n",
        "plt.show()"
      ]
    },
    {
      "cell_type": "code",
      "execution_count": null,
      "metadata": {
        "_cell_guid": "858411cc-2c58-67d9-2172-12822ebada73"
      },
      "outputs": [],
      "source": [
        "ridge.coef_"
      ]
    },
    {
      "cell_type": "code",
      "execution_count": null,
      "metadata": {
        "_cell_guid": "02d54ff0-51fb-259b-2dfc-f9b21ad213fa"
      },
      "outputs": [],
      "source": [
        "from sklearn.preprocessing import PolynomialFeatures\n",
        "\n",
        "pr = LinearRegression(n_jobs=-1)\n",
        "quad = PolynomialFeatures(degree = 2)\n",
        "X_quad = quad.fit_transform(X_train)\n",
        "pr = pr.fit(X_quad, y_train)\n",
        "quadratic_r2 = r2_score(y_train, pr.predict(X_quad))\n",
        "print(\"r2  of 2: \", quadratic_r2)"
      ]
    },
    {
      "cell_type": "code",
      "execution_count": null,
      "metadata": {
        "_cell_guid": "a18dcab9-3123-0477-ffae-ccdb9103b59a"
      },
      "outputs": [],
      "source": [
        "train_sizes, train_scores, test_scores =learning_curve(estimator=pr,X=X_quad,y=y_train,train_sizes=np.linspace(0.2, 1.0, 10),cv=10,n_jobs=-1)\n",
        "#print(train_scores,test_scores)\n",
        "train_mean = np.mean(train_scores, axis=1)\n",
        "train_std = np.std(train_scores, axis=1)\n",
        "test_mean = np.mean(test_scores, axis=1)\n",
        "test_std = np.std(test_scores, axis=1)\n",
        "print(train_sizes)\n",
        "print(test_mean)"
      ]
    },
    {
      "cell_type": "code",
      "execution_count": null,
      "metadata": {
        "_cell_guid": "f59129ed-79a2-a3fb-2b7f-46543e552f19"
      },
      "outputs": [],
      "source": [
        "plt.plot(train_sizes, train_mean,\n",
        "color='blue', marker='o',\n",
        "markersize=5,\n",
        "label='training accuracy')\n",
        "\n",
        "plt.plot(train_sizes, test_mean,\n",
        "color='green', linestyle='--',\n",
        "marker='s', markersize=5,\n",
        "label='validation accuracy')\n",
        "\n",
        "plt.grid()\n",
        "plt.xlabel('Number of training samples')\n",
        "plt.ylabel('Accuracy')\n",
        "plt.legend(loc='lower right')\n",
        "plt.ylim([0, 1.0])\n",
        "plt.show()"
      ]
    },
    {
      "cell_type": "code",
      "execution_count": null,
      "metadata": {
        "_cell_guid": "900d1c88-7fc3-da4b-4372-0b1af63f5460"
      },
      "outputs": [],
      "source": [
        "X_test_quad = quad.transform(X_test)\n",
        "pred=pr.predict(X_test_quad)\n",
        "print('r2_2',r2_score(y_test,pred))\n",
        "#pred=pr.predict(X_test)\n",
        "print(X_test.shape)\n",
        "print(y_test.shape)"
      ]
    },
    {
      "cell_type": "code",
      "execution_count": null,
      "metadata": {
        "_cell_guid": "0915ed8f-55dd-92ca-1ef7-b7529326dbe7"
      },
      "outputs": [],
      "source": [
        "print('r2_2',r2_score(y_test,pred))"
      ]
    },
    {
      "cell_type": "markdown",
      "metadata": {
        "_cell_guid": "e2a7c002-e46d-db23-9f80-42e4655c32ad"
      },
      "source": [
        "Now since polynomial features adds lot of features to the data we select most important features based on feature selection techniques and then try to fit higher degree Polynomial Features and check the r2_score on training and test accuracy"
      ]
    },
    {
      "cell_type": "markdown",
      "metadata": {
        "_cell_guid": "25794e65-bb8f-6420-9299-dc172ab6c953"
      },
      "source": [
        "# selecting features through sequential backward selection"
      ]
    },
    {
      "cell_type": "code",
      "execution_count": null,
      "metadata": {
        "_cell_guid": "19144ac8-1449-6d4f-8327-1620123ee6c7"
      },
      "outputs": [],
      "source": [
        "class SBS():\n",
        "    def __init__(self, estimator, k_features,scoring=r2_score,test_size=0.25, random_state=1):\n",
        "        self.scoring = scoring\n",
        "        self.estimator = clone(estimator)\n",
        "        self.k_features = k_features\n",
        "        self.test_size = test_size\n",
        "        self.random_state = random_state\n",
        "    def fit(self, X, y):\n",
        "        X_train, X_test, y_train, y_test = train_test_split(X, y, test_size=self.test_size,random_state=self.random_state)\n",
        "        dim = X_train.shape[1]\n",
        "        self.indices_ = tuple(range(dim))\n",
        "        self.subsets_ = [self.indices_]\n",
        "        score = self._calc_score(X_train, y_train,X_test, y_test, self.indices_)\n",
        "        self.scores_ = [score]\n",
        "        while dim > self.k_features:\n",
        "            scores = []\n",
        "            subsets = []\n",
        "            for p in combinations(self.indices_, r=dim-1):\n",
        "                score = self._calc_score(X_train, y_train,X_test, y_test, p)\n",
        "                scores.append(score)\n",
        "                subsets.append(p)\n",
        "            best = np.argmax(scores)\n",
        "            self.indices_ = subsets[best]\n",
        "            self.subsets_.append(self.indices_)\n",
        "            dim -= 1\n",
        "            self.scores_.append(scores[best])\n",
        "        self.k_score_ = self.scores_[-1]\n",
        "        return self\n",
        "    def transform(self, X):\n",
        "        return X[:, self.indices_]\n",
        "    def _calc_score(self, X_train, y_train,X_test, y_test, indices):\n",
        "        self.estimator.fit(X_train[:, indices], y_train)\n",
        "        y_pred = self.estimator.predict(X_test[:, indices])\n",
        "        score = self.scoring(y_test, y_pred)\n",
        "        return score"
      ]
    },
    {
      "cell_type": "code",
      "execution_count": null,
      "metadata": {
        "_cell_guid": "07db5b86-5afb-94a6-49ca-948fa21af371"
      },
      "outputs": [],
      "source": [
        "lr = LinearRegression(n_jobs=-1)\n",
        "sbs = SBS(lr, k_features = 5)\n",
        "sbs.fit(X_train, y_train)"
      ]
    },
    {
      "cell_type": "code",
      "execution_count": null,
      "metadata": {
        "_cell_guid": "723e81db-b68c-27d5-9c7b-c47bf78b4849"
      },
      "outputs": [],
      "source": [
        "k_feat = [k for k in sbs.subsets_]\n",
        "k_feat[-1]"
      ]
    },
    {
      "cell_type": "code",
      "execution_count": null,
      "metadata": {
        "_cell_guid": "2ae785a3-c591-2370-e302-45998bfe7f98"
      },
      "outputs": [],
      "source": [
        "cols1 = cols[1:]\n",
        "feature_ranks = list(k_feat[-1])\n",
        "new_features = [cols[i] for i in feature_ranks] \n",
        "new_features"
      ]
    },
    {
      "cell_type": "code",
      "execution_count": null,
      "metadata": {
        "_cell_guid": "45e5cd01-874a-a7e4-8303-38c07a1de5da"
      },
      "outputs": [],
      "source": [
        "ss = StandardScaler()\n",
        "X_train_new, X_test_new, y_train_new, y_test_new = train_test_split(X_cols.values, y_cols.values,test_size=0.3,random_state = 42)\n",
        "X_train_std = ss.fit_transform(X_train_new)\n",
        "X_test_std = ss.fit_transform(X_test_new)\n",
        "cov_mat = np.cov(X_train_std.T)\n",
        "eigen_vals, eigen_vect = np.linalg.eig(cov_mat)\n",
        "print('\\nEigenvalues \\n%s' % eigen_vals)"
      ]
    },
    {
      "cell_type": "code",
      "execution_count": null,
      "metadata": {
        "_cell_guid": "c2360839-7327-bc38-81c0-33a8c391ddf0"
      },
      "outputs": [],
      "source": [
        "tot = sum(eigen_vals)\n",
        "print(tot)\n",
        "var_exp = [(i / tot) for i in sorted(eigen_vals, reverse=True)]\n",
        "print(var_exp)\n",
        "cum_var_exp = np.cumsum(var_exp)\n",
        "print(cum_var_exp)"
      ]
    },
    {
      "cell_type": "code",
      "execution_count": null,
      "metadata": {
        "_cell_guid": "8ea885d5-b41b-4ff0-b4ad-5988a9d92b0e"
      },
      "outputs": [],
      "source": [
        "pca = PCA(n_components=11)\n",
        "X_pca_train = pca.fit_transform(X_train_std)\n",
        "X_pca_test = pca.transform(X_test_std)\n",
        "X_pca_train.shape[1]"
      ]
    },
    {
      "cell_type": "code",
      "execution_count": null,
      "metadata": {
        "_cell_guid": "ff08fb98-a9bb-8590-cf3d-6fc462ede515"
      },
      "outputs": [],
      "source": [
        "pr = LinearRegression(n_jobs=-1)\n",
        "quad = PolynomialFeatures(degree = 2)\n",
        "X_quad = quad.fit_transform(X_pca_train)\n",
        "pr = pr.fit(X_quad, y_train_new)\n",
        "quadratic_r2 = r2_score(y_train, pr.predict(X_quad))\n",
        "print(\"r2  of 2: \", quadratic_r2)"
      ]
    },
    {
      "cell_type": "code",
      "execution_count": null,
      "metadata": {
        "_cell_guid": "833d1c46-8142-3351-0b52-b8ca874c7ace"
      },
      "outputs": [],
      "source": [
        "train_sizes, train_scores, test_scores =learning_curve(estimator=pr,X=X_quad,y=y_train,train_sizes=np.linspace(0.2, 1.0, 10),cv=10,n_jobs=-1)\n",
        "#print(train_scores,test_scores)\n",
        "train_mean = np.mean(train_scores, axis=1)\n",
        "train_std = np.std(train_scores, axis=1)\n",
        "test_mean = np.mean(test_scores, axis=1)\n",
        "test_std = np.std(test_scores, axis=1)\n",
        "print(train_sizes)\n",
        "print(test_mean)"
      ]
    },
    {
      "cell_type": "code",
      "execution_count": null,
      "metadata": {
        "_cell_guid": "1e1e873a-0092-32f9-5e72-8d52c511d98d"
      },
      "outputs": [],
      "source": [
        "\n",
        "plt.plot(train_sizes, train_mean,\n",
        "color='blue', marker='o',\n",
        "markersize=5,\n",
        "label='training accuracy')\n",
        "\n",
        "plt.plot(train_sizes, test_mean,\n",
        "color='green', linestyle='--',\n",
        "marker='s', markersize=5,\n",
        "label='validation accuracy')\n",
        "\n",
        "plt.grid()\n",
        "plt.xlabel('Number of training samples')\n",
        "plt.ylabel('Accuracy')\n",
        "plt.legend(loc='lower right')\n",
        "plt.ylim([0, 1.0])\n",
        "plt.show()"
      ]
    },
    {
      "cell_type": "code",
      "execution_count": null,
      "metadata": {
        "_cell_guid": "f1929919-5881-6c0d-3eb4-2b82907a6a30"
      },
      "outputs": [],
      "source": [
        "X_test_quad = quad.transform(X_pca_test)\n",
        "pred=pr.predict(X_test_quad)\n",
        "print('r2_2',r2_score(y_test_new,pred))"
      ]
    },
    {
      "cell_type": "code",
      "execution_count": null,
      "metadata": {
        "_cell_guid": "2bbbbcc5-5270-1812-c526-fcf245a725a2"
      },
      "outputs": [],
      "source": [
        "pr = LinearRegression(n_jobs=-1)\n",
        "quad = PolynomialFeatures(degree = 3)\n",
        "X_quad = quad.fit_transform(X_pca_train)\n",
        "pr = pr.fit(X_quad, y_train_new)\n",
        "quadratic_r2 = r2_score(y_train, pr.predict(X_quad))\n",
        "print(\"r2  of 2: \", quadratic_r2)"
      ]
    },
    {
      "cell_type": "code",
      "execution_count": null,
      "metadata": {
        "_cell_guid": "e1ab58ac-0916-0a84-ada8-60bc71e695fa"
      },
      "outputs": [],
      "source": [
        "train_sizes, train_scores, test_scores =learning_curve(estimator=pr,X=X_quad,y=y_train,train_sizes=np.linspace(0.2, 1.0, 10),cv=10,n_jobs=-1)\n",
        "#print(train_scores,test_scores)\n",
        "train_mean = np.mean(train_scores, axis=1)\n",
        "train_std = np.std(train_scores, axis=1)\n",
        "test_mean = np.mean(test_scores, axis=1)\n",
        "test_std = np.std(test_scores, axis=1)\n",
        "print(train_sizes)\n",
        "print(test_mean)"
      ]
    },
    {
      "cell_type": "code",
      "execution_count": null,
      "metadata": {
        "_cell_guid": "98ec2c95-e0dc-d38f-ef7e-a83a1ab35302"
      },
      "outputs": [],
      "source": [
        "plt.plot(train_sizes, train_mean,\n",
        "color='blue', marker='o',\n",
        "markersize=5,\n",
        "label='training accuracy')\n",
        "\n",
        "plt.plot(train_sizes, test_mean,\n",
        "color='green', linestyle='--',\n",
        "marker='s', markersize=5,\n",
        "label='validation accuracy')\n",
        "\n",
        "plt.grid()\n",
        "plt.xlabel('Number of training samples')\n",
        "plt.ylabel('Accuracy')\n",
        "plt.legend(loc='lower right')\n",
        "plt.ylim([0, 1.0])\n",
        "plt.show()"
      ]
    },
    {
      "cell_type": "code",
      "execution_count": null,
      "metadata": {
        "_cell_guid": "e86c5294-327d-91ac-595f-075cb27f5694"
      },
      "outputs": [],
      "source": [
        "X_test_quad = quad.transform(X_pca_test)\n",
        "pred=pr.predict(X_test_quad)\n",
        "print('r2_2',r2_score(y_test,pred))"
      ]
    },
    {
      "cell_type": "code",
      "execution_count": null,
      "metadata": {
        "_cell_guid": "3f1f7466-6ed2-7142-93e5-bf545b36f1b4"
      },
      "outputs": [],
      "source": ""
    }
  ],
  "metadata": {
    "_change_revision": 0,
    "_is_fork": false,
    "kernelspec": {
      "display_name": "Python 3",
      "language": "python",
      "name": "python3"
    },
    "language_info": {
      "codemirror_mode": {
        "name": "ipython",
        "version": 3
      },
      "file_extension": ".py",
      "mimetype": "text/x-python",
      "name": "python",
      "nbconvert_exporter": "python",
      "pygments_lexer": "ipython3",
      "version": "3.6.0"
    }
  },
  "nbformat": 4,
  "nbformat_minor": 0
}