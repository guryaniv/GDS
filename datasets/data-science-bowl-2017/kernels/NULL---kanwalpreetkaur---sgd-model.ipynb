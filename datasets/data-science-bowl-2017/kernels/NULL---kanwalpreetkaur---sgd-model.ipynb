{
  "cells": [
    {
      "cell_type": "code",
      "execution_count": null,
      "metadata": {
        "_cell_guid": "f30f1c2f-5af0-9aa4-fc13-95de3abb6cdd"
      },
      "outputs": [],
      "source": [
        "# This Python 3 environment comes with many helpful analytics libraries installed\n",
        "# It is defined by the kaggle/python docker image: https://github.com/kaggle/docker-python\n",
        "# For example, here's several helpful packages to load in \n",
        "\n",
        "import numpy as np # linear algebra\n",
        "import pandas as pd # data processing, CSV file I/O (e.g. pd.read_csv)\n",
        "\n",
        "# Input data files are available in the \"../input/\" directory.\n",
        "# For example, running this (by clicking run or pressing Shift+Enter) will list the files in the input directory\n",
        "\n",
        "from subprocess import check_output\n",
        "print(check_output([\"ls\", \"../input\"]).decode(\"utf8\"))\n",
        "\n",
        "# Any results you write to the current directory are saved as output."
      ]
    },
    {
      "cell_type": "code",
      "execution_count": null,
      "metadata": {
        "_cell_guid": "b59057e6-7841-259d-3932-72c02e32d985"
      },
      "outputs": [],
      "source": [
        "patientFolder = '../input/sample_images'"
      ]
    },
    {
      "cell_type": "code",
      "execution_count": null,
      "metadata": {
        "_cell_guid": "04e2e658-29f4-1122-7bee-4bb7d7fe21e9"
      },
      "outputs": [],
      "source": [
        "%matplotlib inline\n",
        "\n",
        "import numpy as np # linear algebra\n",
        "import pandas as pd # data processing, CSV file I/O (e.g. pd.read_csv)\n",
        "import dicom\n",
        "import os\n",
        "import scipy.ndimage\n",
        "from six.moves import cPickle \n",
        "import matplotlib.pyplot as plt\n",
        "import skimage\n",
        "from skimage import measure, morphology\n",
        "from mpl_toolkits.mplot3d.art3d import Poly3DCollection\n",
        "import scipy.misc\n",
        "import itertools"
      ]
    },
    {
      "cell_type": "code",
      "execution_count": null,
      "metadata": {
        "_cell_guid": "40fc945b-a272-132f-45c4-f422ffe81619"
      },
      "outputs": [],
      "source": [
        "def getUnlabeledPatients():\n",
        "    labeledPatients=[]\n",
        "    unlabeledPatients = []\n",
        "    for patient in patientList:\n",
        "        try:\n",
        "            labels_df.get_value(patient, 'cancer')\n",
        "            labeledPatients.append(patient)\n",
        "        except:\n",
        "            unlabeledPatients.append(patient)\n",
        "    return labeledPatients,unlabeledPatients"
      ]
    },
    {
      "cell_type": "code",
      "execution_count": null,
      "metadata": {
        "_cell_guid": "9abcdefe-c61c-428e-9fd7-2f6aef58d0fe"
      },
      "outputs": [],
      "source": [
        "\n",
        "labels_df = pd.read_csv('../input/stage1_labels.csv', index_col=0)\n"
      ]
    },
    {
      "cell_type": "code",
      "execution_count": null,
      "metadata": {
        "_cell_guid": "82f47487-0b67-1ca0-4ff4-945e6d96b059"
      },
      "outputs": [],
      "source": [
        "patientList = [i for i in os.listdir(patientFolder)]\n",
        "labeledPatients,unlabeledPatients = getUnlabeledPatients()"
      ]
    },
    {
      "cell_type": "code",
      "execution_count": null,
      "metadata": {
        "_cell_guid": "50280d79-f292-706c-e580-7fd5c3538e98"
      },
      "outputs": [],
      "source": [
        "def createDataFrames():\n",
        "    trainPatients = [labeledPatients[i] for i in Index_Train for j in os.listdir(patientFolder+labeledPatients[i])]\n",
        "    trainSlices = [j for i in Index_Train for j in os.listdir(patientFolder+labeledPatients[i])]\n",
        "    trainTarget = [labels_df.get_value(labeledPatients[i], 'cancer') for i in Index_Train for j in os.listdir(patientFolder+labeledPatients[i])]\n",
        "    testPatients = [labeledPatients[i] for i in Index_Test for j in os.listdir(patientFolder+labeledPatients[i])]\n",
        "    testSlices = [j for i in Index_Test for j in os.listdir(patientFolder+labeledPatients[i])]\n",
        "    testTarget = [labels_df.get_value(labeledPatients[i], 'cancer') for i in Index_Test for j in os.listdir(patientFolder+labeledPatients[i])]\n",
        "    valPatients = [i for i in unlabeledPatients for j in os.listdir(patientFolder+i)]\n",
        "    valSlices = [j for i in unlabeledPatients for j in os.listdir(patientFolder+i)]\n",
        "    trainDataFrame = pd.DataFrame({'patientName':trainPatients,'sliceName' : trainSlices,'Target' : trainTarget})\n",
        "    testDataFrame = pd.DataFrame({'patientName':testPatients,'sliceName' : testSlices,'Target' : testTarget})\n",
        "    valDataFrame = pd.DataFrame({'patientName':valPatients,'sliceName' : valSlices})\n",
        "    return trainDataFrame,testDataFrame,valDataFrame"
      ]
    },
    {
      "cell_type": "code",
      "execution_count": null,
      "metadata": {
        "_cell_guid": "9829a122-1177-8387-11c3-9b8feab9839c"
      },
      "outputs": [],
      "source": [
        "Index_Train = range(int(0.65*len(labeledPatients)))\n",
        "Index_Test=[]\n",
        "for i in range(0,len(labeledPatients)):\n",
        "    if i in Index_Train:\n",
        "        continue\n",
        "    else:\n",
        "        Index_Test.append(i)\n",
        "trainDataFrame,testDataFrame,valDataFrame = createDataFrames()"
      ]
    },
    {
      "cell_type": "code",
      "execution_count": null,
      "metadata": {
        "_cell_guid": "90f8cd73-fa6f-2702-7b68-9d9ce4965cc7"
      },
      "outputs": [],
      "source": [
        "from keras.models import Sequential\n",
        "from keras.layers.core import Flatten, Dense, Dropout\n",
        "from keras.layers.convolutional import Convolution2D, MaxPooling2D, ZeroPadding2D\n",
        "from keras.optimizers import SGD\n",
        "import numpy as np\n",
        "\n",
        "from __future__ import print_function\n",
        "import keras\n",
        "from keras.datasets import cifar10\n",
        "from keras.preprocessing.image import ImageDataGenerator\n",
        "from keras.models import Sequential\n",
        "from keras.layers import Dense, Dropout, Activation, Flatten\n",
        "from keras.layers import Conv2D, MaxPooling2D\n",
        "from keras.callbacks import ModelCheckpoint\n",
        "from six.moves import cPickle \n",
        "num_classes = 2\n",
        "epochs = 50\n",
        "No_of_slices_in_Train = 5\n",
        "No_of_slices_in_Val = 7"
      ]
    },
    {
      "cell_type": "code",
      "execution_count": null,
      "metadata": {
        "_cell_guid": "72686fc2-d598-4746-c9e0-4458a78415ff"
      },
      "outputs": [],
      "source": [
        "input_shape = (224, 224,1)\n",
        "\n",
        "model = Sequential([\n",
        "    Conv2D(64, (3, 3), input_shape=input_shape, padding='same',\n",
        "           activation='relu'),\n",
        "    Conv2D(64, (3, 3), activation='relu', padding='same'),\n",
        "    MaxPooling2D(pool_size=(2, 2), strides=(2, 2)),\n",
        "    Conv2D(128, (3, 3), activation='relu', padding='same'),\n",
        "    Conv2D(128, (3, 3), activation='relu', padding='same',),\n",
        "    MaxPooling2D(pool_size=(2, 2), strides=(2, 2)),\n",
        "    Conv2D(256, (3, 3), activation='relu', padding='same',),\n",
        "    Conv2D(256, (3, 3), activation='relu', padding='same',),\n",
        "    Conv2D(256, (3, 3), activation='relu', padding='same',),\n",
        "    MaxPooling2D(pool_size=(2, 2), strides=(2, 2)),\n",
        "    Conv2D(512, (3, 3), activation='relu', padding='same',),\n",
        "    Conv2D(512, (3, 3), activation='relu', padding='same',),\n",
        "    Conv2D(512, (3, 3), activation='relu', padding='same',),\n",
        "    MaxPooling2D(pool_size=(2, 2), strides=(2, 2)),\n",
        "    Conv2D(512, (3, 3), activation='relu', padding='same',),\n",
        "    Conv2D(512, (3, 3), activation='relu', padding='same',),\n",
        "    Conv2D(512, (3, 3), activation='relu', padding='same',),\n",
        "    MaxPooling2D(pool_size=(2, 2), strides=(2, 2)),\n",
        "    Flatten(),\n",
        "    Dense(4096, activation='relu'),\n",
        "    Dense(256, activation='relu'),\n",
        "    Dense(2, activation='softmax')\n",
        "])"
      ]
    },
    {
      "cell_type": "code",
      "execution_count": null,
      "metadata": {
        "_cell_guid": "a7bbd674-c609-d664-0e21-7633b2c1ef0d"
      },
      "outputs": [],
      "source": [
        "\n",
        "def trainBatchGenerator():\n",
        "    count = 1\n",
        "    patientNameList = trainDataFrame.patientName.tolist()\n",
        "    sliceNameList = trainDataFrame.sliceName.tolist()\n",
        "    while(count<len(sliceNameList)/No_of_slices_in_Val):\n",
        "        sampleIndex = np.random.choice(len(sliceNameList),No_of_slices_in_Train,replace=False).tolist()\n",
        "        trainSamplesData = np.stack(cPickle.load(open(patientFolder+patientNameList[i]+\"/\"+sliceNameList[i], 'rb')) \n",
        "                            for i in sampleIndex)\n",
        "        trainSamplesLabels = [labels_df.get_value(patientNameList[i], 'cancer') for i in sampleIndex]\n",
        "        trainSamplesLabels = keras.utils.to_categorical(trainSamplesLabels,num_classes)\n",
        "        trainSamplesData=np.reshape(trainSamplesData, (trainSamplesData.shape[0], \n",
        "                                                   trainSamplesData.shape[1], \n",
        "                                                   trainSamplesData.shape[2],1))\n",
        "        count = count+1\n",
        "        trainSamplesData = trainSamplesData/255 \n",
        "        yield trainSamplesData,trainSamplesLabels"
      ]
    },
    {
      "cell_type": "code",
      "execution_count": null,
      "metadata": {
        "_cell_guid": "f9dbd4a8-3398-9ffc-a659-9a48c6225c24"
      },
      "outputs": [],
      "source": ""
    },
    {
      "cell_type": "code",
      "execution_count": null,
      "metadata": {
        "_cell_guid": "d261659f-a733-9198-17d8-444a3dec094e"
      },
      "outputs": [],
      "source": [
        "if __name__ == \"__main__\":\n",
        "    runModel()"
      ]
    },
    {
      "cell_type": "code",
      "execution_count": null,
      "metadata": {
        "_cell_guid": "58b29b8b-6538-5655-e507-229d05f882b4"
      },
      "outputs": [],
      "source": [
        "def runModel():\n",
        "    sgd = SGD(lr=0.1, decay=1e-6, momentum=0.9, nesterov=True)\n",
        "    model.compile(optimizer=sgd, loss='categorical_crossentropy')\n",
        "    for i in range(1,epochs+1):\n",
        "        print(\"*********************** \"+str(i)+\" epoch ************************\")\n",
        "        for Train_data,Train_labels in trainBatchGenerator():        \n",
        "                #print(\"************ \" + str(Train_data.shape)+\" ********\")\n",
        "                #print(\"************ \" + str(Train_labels.shape)+\" ********\")\n",
        "                model.fit(Train_data, Train_labels,nb_epoch=1,\n",
        "                          batch_size = No_of_slices_in_Train,shuffle=True)\n",
        "        \n",
        "        loss=[]\n",
        "        for valData,valLabels in valBatchGenerator():\n",
        "            loss.append(model.evaluate(valData, valLabels, batch_size=No_of_slices_in_Val, verbose=1, sample_weight=None))\n",
        "        print(\"Validation Loss is ----- \"+str(sum(loss)/len(loss)))"
      ]
    },
    {
      "cell_type": "code",
      "execution_count": null,
      "metadata": {
        "_cell_guid": "0d80faae-4f24-e11a-184d-172b0c42d23e"
      },
      "outputs": [],
      "source": ""
    }
  ],
  "metadata": {
    "_change_revision": 0,
    "_is_fork": false,
    "kernelspec": {
      "display_name": "Python 3",
      "language": "python",
      "name": "python3"
    },
    "language_info": {
      "codemirror_mode": {
        "name": "ipython",
        "version": 3
      },
      "file_extension": ".py",
      "mimetype": "text/x-python",
      "name": "python",
      "nbconvert_exporter": "python",
      "pygments_lexer": "ipython3",
      "version": "3.6.0"
    }
  },
  "nbformat": 4,
  "nbformat_minor": 0
}