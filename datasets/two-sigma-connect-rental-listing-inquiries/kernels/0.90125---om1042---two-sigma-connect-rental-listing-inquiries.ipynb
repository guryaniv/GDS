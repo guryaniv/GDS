{
  "cells": [
    {
      "cell_type": "markdown",
      "metadata": {
        "_cell_guid": "3958b67f-3347-67cd-8715-3a7b7b76ad09"
      },
      "source": [
        "Import necessary modules"
      ]
    },
    {
      "cell_type": "code",
      "execution_count": null,
      "metadata": {
        "_cell_guid": "a84f6a74-0f87-17e3-af90-32dc3cd22c1e"
      },
      "outputs": [],
      "source": [
        "# This Python 3 environment comes with many helpful analytics libraries installed\n",
        "# It is defined by the kaggle/python docker image: https://github.com/kaggle/docker-python\n",
        "# For example, here's several helpful packages to load in \n",
        "\n",
        "import numpy as np # linear algebra\n",
        "import pandas as pd # data processing, CSV file I/O (e.g. pd.read_csv)\n",
        "\n",
        "from sklearn.ensemble import RandomForestClassifier\n",
        "from sklearn.model_selection import train_test_split\n",
        "from sklearn.metrics import log_loss\n",
        "# Input data files are available in the \"../input/\" directory.\n",
        "# For example, running this (by clicking run or pressing Shift+Enter) will list the files in the input directory\n",
        "\n",
        "from subprocess import check_output\n",
        "print(check_output([\"ls\", \"../input\"]).decode(\"utf8\"))\n",
        "\n",
        "# Any results you write to the current directory are saved as output."
      ]
    },
    {
      "cell_type": "code",
      "execution_count": null,
      "metadata": {
        "_cell_guid": "37cb9c18-2d8c-cfb4-2b5d-acf3e1b749b8"
      },
      "outputs": [],
      "source": [
        "df = pd.read_json(open(\"../input/train.json\", \"r\"))\n",
        "df.head(5)\n"
      ]
    },
    {
      "cell_type": "code",
      "execution_count": null,
      "metadata": {
        "_cell_guid": "4c07f6ac-30af-a4c4-5416-a3eb307a53fe"
      },
      "outputs": [],
      "source": [
        "df.shape"
      ]
    },
    {
      "cell_type": "code",
      "execution_count": null,
      "metadata": {
        "_cell_guid": "63bb9209-0f01-022e-fc66-d07d5cd5d7af"
      },
      "outputs": [],
      "source": [
        "numeric_features = [\"bathrooms\", \"bedrooms\", \"latitude\", \"longitude\", \"price\"]\n",
        "X = df[numeric_features]\n",
        "y = df[\"interest_level\"]\n",
        "X.head()"
      ]
    },
    {
      "cell_type": "code",
      "execution_count": null,
      "metadata": {
        "_cell_guid": "1bc44b0d-0cb8-b06e-078c-9ccfcc2af583"
      },
      "outputs": [],
      "source": [
        "X_train, X_val, y_train, y_val = train_test_split(X, y, test_size=0.33)\n",
        "\n",
        "random_forest_classifier = RandomForestClassifier(n_estimators=1500)\n",
        "random_forest_classifier.fit(X_train, y_train)\n",
        "y_val_pred = random_forest_classifier.predict_proba(X_val)\n",
        "log_loss(y_val, y_val_pred)\n"
      ]
    },
    {
      "cell_type": "markdown",
      "metadata": {
        "_cell_guid": "8d9f1530-c428-af97-3cfa-33a686a2a981"
      },
      "source": [
        "Prediction"
      ]
    },
    {
      "cell_type": "code",
      "execution_count": null,
      "metadata": {
        "_cell_guid": "78d28d43-4a6f-1f2b-8ec3-216d344c1e3c"
      },
      "outputs": [],
      "source": [
        "df_test = pd.read_json(open(\"../input/test.json\", \"r\"))\n",
        "X_test = df_test[numeric_features]\n",
        "\n",
        "y_test = random_forest_classifier.predict_proba(X_test)"
      ]
    },
    {
      "cell_type": "code",
      "execution_count": null,
      "metadata": {
        "_cell_guid": "40cf75ad-6547-0f23-690d-15e46c492936"
      },
      "outputs": [],
      "source": [
        "interest_level = {label: i for i, label in enumerate(random_forest_classifier.classes_)}\n",
        "\n",
        "ouput_submission = pd.DataFrame()\n",
        "ouput_submission[\"listing_id\"] = df_test[\"listing_id\"]\n",
        "for label in [\"high\", \"medium\", \"low\"]:\n",
        "    ouput_submission[label] = y_test[:, interest_level[label]]\n",
        "ouput_submission.to_csv(\"submission.csv\", index=False)\n",
        "\n"
      ]
    }
  ],
  "metadata": {
    "_change_revision": 0,
    "_is_fork": false,
    "kernelspec": {
      "display_name": "Python 3",
      "language": "python",
      "name": "python3"
    },
    "language_info": {
      "codemirror_mode": {
        "name": "ipython",
        "version": 3
      },
      "file_extension": ".py",
      "mimetype": "text/x-python",
      "name": "python",
      "nbconvert_exporter": "python",
      "pygments_lexer": "ipython3",
      "version": "3.6.0"
    }
  },
  "nbformat": 4,
  "nbformat_minor": 0
}