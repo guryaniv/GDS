{
  "cells": [
    {
      "cell_type": "markdown",
      "metadata": {
        "_cell_guid": "72d2e041-5f81-637e-279c-9c0217fa51ab"
      },
      "source": [
        "This explores the symmetry between how y values (for individual products) change over time\n",
        "and how the corresponding factors change over time.    \n",
        "\n"
      ]
    },
    {
      "cell_type": "code",
      "execution_count": null,
      "metadata": {
        "_cell_guid": "be0aa9e1-ce34-0c34-ebb2-163088b2e742"
      },
      "outputs": [],
      "source": [
        "import kagglegym\n",
        "import matplotlib.pyplot as plt\n",
        "%matplotlib inline\n",
        "import pandas as pd\n",
        "import matplotlib.cm as cm\n",
        "env = kagglegym.make()\n",
        "observation = env.reset()\n",
        "train = observation.train"
      ]
    },
    {
      "cell_type": "code",
      "execution_count": null,
      "metadata": {
        "_cell_guid": "c74f94fa-e7a5-180c-c3cd-ded78b839783"
      },
      "outputs": [],
      "source": [
        "id_groups = train.groupby(['id'])\n",
        "products = train['id'].unique()\n",
        "subset = train[train['id'].isin(products[0:500])]"
      ]
    },
    {
      "cell_type": "code",
      "execution_count": null,
      "metadata": {
        "_cell_guid": "0bb735e5-71e6-64d5-9756-cbfc6528c62e"
      },
      "outputs": [],
      "source": [
        "subset2 = subset[['timestamp','id','y']]\n",
        "yvalues = subset2.pivot_table(values='y', index='timestamp', columns='id')\n",
        "yvalues = yvalues[0:400]\n"
      ]
    },
    {
      "cell_type": "markdown",
      "metadata": {
        "_cell_guid": "8aa68002-c148-db98-8f63-7b17d57e7972"
      },
      "source": [
        "The plot of the y values show clear bands."
      ]
    },
    {
      "cell_type": "code",
      "execution_count": null,
      "metadata": {
        "_cell_guid": "c07beae6-e686-25b2-b136-2036246d2fcd"
      },
      "outputs": [],
      "source": [
        "fig = plt.figure()\n",
        "plt.imshow(yvalues, cmap=cm.seismic)\n",
        "plt.title('y values for several products over time')\n",
        "plt.xlabel('id')\n",
        "plt.ylabel('timestamp')"
      ]
    },
    {
      "cell_type": "markdown",
      "metadata": {
        "_cell_guid": "0f0feae3-4266-452d-ba33-3a46c615aee4"
      },
      "source": [
        "The similar bands also show up in the factors. However a bit delayed in time.\n",
        "Seems to indicate the factors react to the y values instead of the other way around."
      ]
    },
    {
      "cell_type": "code",
      "execution_count": null,
      "metadata": {
        "_cell_guid": "cf11873c-6495-ecbb-ba76-a2e08f2528b7"
      },
      "outputs": [],
      "source": [
        "plt.rcParams['figure.figsize'] = (8, 4)\n",
        "interesting_factors = ['technical_43', 'technical_19', 'technical_29', 'technical_21']\n",
        "for f in interesting_factors:\n",
        "    subset3 = subset[['timestamp', 'id', f]]\n",
        "    fvalues = subset3.pivot_table(values=f, index='timestamp', columns='id')\n",
        "    fvalues = fvalues[0:400]\n",
        "    fig = plt.figure()\n",
        "    plt.title(\"y vs {}\".format(f))\n",
        "    plt.axis('off')\n",
        "    ax = fig.add_subplot(1, 2, 1)\n",
        "    ax.imshow(yvalues, cmap=cm.seismic)\n",
        "    ax = fig.add_subplot(1, 2, 2)\n",
        "    ax.imshow(fvalues, cmap=cm.seismic)\n"
      ]
    },
    {
      "cell_type": "code",
      "execution_count": null,
      "metadata": {
        "_cell_guid": "2d07cc61-1d91-31c0-a5a1-bc889334f4c8"
      },
      "outputs": [],
      "source": [
        ""
      ]
    }
  ],
  "metadata": {
    "_change_revision": 0,
    "_is_fork": false,
    "kernelspec": {
      "display_name": "Python 3",
      "language": "python",
      "name": "python3"
    },
    "language_info": {
      "codemirror_mode": {
        "name": "ipython",
        "version": 3
      },
      "file_extension": ".py",
      "mimetype": "text/x-python",
      "name": "python",
      "nbconvert_exporter": "python",
      "pygments_lexer": "ipython3",
      "version": "3.5.2"
    }
  },
  "nbformat": 4,
  "nbformat_minor": 0
}