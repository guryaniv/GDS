{
  "cells": [
    {
      "cell_type": "code",
      "execution_count": null,
      "metadata": {
        "_cell_guid": "824db6fb-8648-e4e4-197d-96ac1ad37e1d"
      },
      "outputs": [],
      "source": [
        "from sklearn.decomposition import PCA\n",
        "from sklearn import linear_model, decomposition, datasets\n",
        "from sklearn.model_selection import GridSearchCV\n",
        "from sklearn.pipeline import Pipeline\n",
        "import pandas as pd\n",
        "import matplotlib.pyplot as plt\n",
        "import numpy as np"
      ]
    },
    {
      "cell_type": "code",
      "execution_count": null,
      "metadata": {
        "_cell_guid": "cf0ebe0e-f383-a71d-52be-a3bad4a33228"
      },
      "outputs": [],
      "source": [
        "train_data = pd.read_csv('../input/train.csv')\n",
        "test_data = pd.read_csv('../input/test.csv')"
      ]
    },
    {
      "cell_type": "code",
      "execution_count": null,
      "metadata": {
        "_cell_guid": "52a21bbe-b8c8-bc80-e8a1-89a96caaa7fa"
      },
      "outputs": [],
      "source": [
        "claim_ids = train_data[ 'id']\n",
        "claim_ids_test = test_data['id']\n",
        "\n",
        "# Seperating X and y for training \n",
        "y = train_data['loss']\n",
        "train_data.drop('loss', axis =1, inplace=True)\n",
        "train_data.drop('id', axis =1, inplace=True)\n",
        "X = train_data \n",
        "\n",
        "# Seperating X \n",
        "test_data.drop('id', axis = 1, inplace=True)\n",
        "X_test = test_data"
      ]
    },
    {
      "cell_type": "code",
      "execution_count": null,
      "metadata": {
        "_cell_guid": "b838ae47-92af-94eb-c90f-a9a5ee0e12bd"
      },
      "outputs": [],
      "source": [
        "#create a dataframe with only continuous features\n",
        "split = 116 \n",
        "continous_data = X.iloc[:,split:] \n",
        "X_cv = pd.DataFrame(continous_data)\n",
        "\n",
        "test_continous_data = X_test.iloc[:, split:]\n",
        "X_test_cv = pd.DataFrame(test_continous_data)\n",
        "\n",
        "\n",
        "print(X_cv.shape)\n",
        "print(X_test_cv.shape)\n",
        "\n",
        "linear = linear_model.LinearRegression()\n",
        "pca = PCA()\n",
        "pipe = Pipeline(steps=[('pca', pca), ('linear', linear)])\n",
        "n_components = list(range(1, 14))\n",
        "\n",
        "pca.fit(X_cv)\n",
        "plt.figure(1, figsize=(4, 3))\n",
        "plt.clf()\n",
        "plt.plot(pca.explained_variance_, linewidth=2)\n",
        "plt.xlabel('n_components')\n",
        "plt.ylabel('explained_variance_')\n",
        "plt.show()\n",
        "\n",
        "estimator = GridSearchCV(pipe, dict(pca__n_components=n_components))\n",
        "estimator.fit(X_cv, y)\n",
        "plt.axvline(estimator.best_estimator_.named_steps['pca'].n_components,\n",
        "            linestyle=':', label='n_components chosen')\n",
        "plt.legend(prop=dict(size=12))\n",
        "plt.show()\n",
        "\n",
        "\n",
        "## Preform the Dimensionality Reduction\n",
        "pca.n_components=12\n",
        "pca.fit(X_cv)\n",
        "X_pca = pca.transform(X_cv)\n",
        "\n",
        "\n",
        "pca.fit(X_cv)\n",
        "X_pca = pca.transform(X_cv)\n",
        "print(X_pca.shape)\n",
        "\n",
        "pca.fit(X_test_cv)\n",
        "X_test_pca = pca.transform(X_test_cv)\n",
        "print(X_test_pca.shape)\n",
        "\n",
        "\n",
        "linear.fit(X_pca,y)\n",
        "y_pred = linear.predict(X_test_pca)\n",
        "print(y_pred.shape, claim_ids_test.shape, type(y_pred), type(claim_ids_test.as_matrix()))\n",
        "\n",
        "\n",
        "ids = np.array((claim_ids_test.as_matrix()))\n",
        "print(claims)\n",
        "\n",
        "y_prd = np.array((y_pred))\n",
        "print(y_prd)"
      ]
    }
  ],
  "metadata": {
    "_change_revision": 0,
    "_is_fork": false,
    "kernelspec": {
      "display_name": "Python 3",
      "language": "python",
      "name": "python3"
    },
    "language_info": {
      "codemirror_mode": {
        "name": "ipython",
        "version": 3
      },
      "file_extension": ".py",
      "mimetype": "text/x-python",
      "name": "python",
      "nbconvert_exporter": "python",
      "pygments_lexer": "ipython3",
      "version": "3.5.2"
    }
  },
  "nbformat": 4,
  "nbformat_minor": 0
}