{
  "cells": [
    {
      "cell_type": "code",
      "execution_count": null,
      "metadata": {
        "_cell_guid": "af15b5ca-eaba-ddad-35ba-ee66acc53a10"
      },
      "outputs": [],
      "source": [
        "# This Python 3 environment comes with many helpful analytics libraries installed\n",
        "# It is defined by the kaggle/python docker image: https://github.com/kaggle/docker-python\n",
        "# For example, here's several helpful packages to load in \n",
        "\n",
        "import numpy as np # linear algebra\n",
        "import pandas as pd # data processing, CSV file I/O (e.g. pd.read_csv)\n",
        "\n",
        "# Input data files are available in the \"../input/\" directory.\n",
        "# For example, running this (by clicking run or pressing Shift+Enter) will list the files in the input directory\n",
        "\n",
        "from subprocess import check_output\n",
        "print(check_output([\"ls\", \"../input\"]).decode(\"utf8\"))\n",
        "\n",
        "# Any results you write to the current directory are saved as output."
      ]
    },
    {
      "cell_type": "code",
      "execution_count": null,
      "metadata": {
        "_cell_guid": "09525246-4a60-a605-56a3-a19847c89624"
      },
      "outputs": [],
      "source": [
        "\n",
        "import numpy as np # linear algebra\n",
        "import pandas as pd # data processing, CSV file I/O (e.g. pd.read_csv)\n",
        "import matplotlib.pyplot as plt\n",
        "import seaborn as sns\n",
        "import nltk\n",
        "from nltk import *\n",
        "color = sns.color_palette()\n",
        "''''bathrooms', 'bedrooms', 'building_id', 'created', 'description',\n",
        "       'display_address', 'features', 'interest_level', 'latitude',\n",
        "       'listing_id', 'longitude', 'manager_id', 'photos', 'price',\n",
        "       'street_address'\n",
        "       '''\n",
        "train1 = pd.read_json(\"../input/train.json\")\n",
        "test1 = pd.read_json(\"../input/test.json\")\n",
        "train_df=pd.concat([train1,test1],axis=0)\n",
        "#train_df['bath_bed']=train_df['bathrooms']/(train_df['bedrooms']+1)\n",
        "#c=train_df.groupby(['bedrooms','bathrooms','interest_level']).count()\n",
        "#temp=train_df[(train_df['bedrooms'].values==0) & (train_df['bathrooms'].values==1) ]\n",
        "#temp.groupby(['interest_level']).count()\n",
        "#train_df['price2']=train_df.groupby(['bedrooms','bathrooms']).transform(lambda x: x/x.median()-1)['price']\n",
        "#c=train_df.groupby(['interest_level']).median()\n",
        "#temp=train_df[np.abs(train_df['price2'].values)<1]\n",
        "'''sns.distplot(temp[temp['interest_level'].values=='low']['price'].values,bins=100,color='w')\n",
        "sns.distplot(temp[temp['interest_level'].values=='medium']['price'].values,bins=100,color='g')\n",
        "sns.distplot(temp[temp['interest_level'].values=='high']['price'].values,bins=100,color='r')\n",
        "\n",
        "sns.distplot(temp[temp['interest_level'].values=='low']['price2'].values,bins=100,color='w')\n",
        "sns.distplot(temp[temp['interest_level'].values=='medium']['price2'].values,bins=100,color='g')\n",
        "sns.distplot(temp[temp['interest_level'].values=='high']['price2'].values,bins=100,color='r')'''\n",
        "\n",
        "train_df[\"created\"] = pd.to_datetime(train_df[\"created\"])\n",
        "train_df['weekday']=train_df[\"created\"].dt.weekday\n",
        "train_df['time']=train_df[\"created\"].dt.hour\n",
        "#d=train_df.groupby(['time','interest_level']).count()#1,2,3,4 low\n",
        "\n",
        "train_df['len_des']=np.array([len(i.split()) for i in train_df['description'].values])\n",
        "#train_df['len_feature']=np.array([len(i) for i in train_df['features'].values])\n",
        "\n",
        "t1=train_df['features'].values\n",
        "l1=list()\n",
        "for i in range(0,len(t1)):\n",
        "    temp=list()\n",
        "    for j in t1[i]:\n",
        "        temp.append(''.join(filter(str.isalpha,j)).lower())\n",
        "    l1.append(temp)\n",
        "train_df['feature_nofee']=np.array(['nofee' in l1[i] for i in range(0,len(l1))])+0\n",
        "#train_df['feature_hardwood']=np.array(['hardwoodfloor' in l1[i] for i in range(0,len(l1))])+0\n"
      ]
    },
    {
      "cell_type": "code",
      "execution_count": null,
      "metadata": {
        "_cell_guid": "17a02766-a37b-3123-1eee-96dde6445998"
      },
      "outputs": [],
      "source": [
        "gbm = xgb.XGBClassifier()\n",
        "X=np.concatenate([train[train.columns[0:19]].values,np.array([r1,r2,r3,r4,r5]).transpose()],axis=1)\n",
        "gbm.fit(X,train['cate'].values)\n",
        "rr=gbm.predict(X)"
      ]
    },
    {
      "cell_type": "code",
      "execution_count": null,
      "metadata": {
        "_cell_guid": "69047f36-2062-848c-b44e-a638adf98781"
      },
      "outputs": [],
      "source": [
        "l=np.array([r1,r2,r3,r4,r5,train['cate'].values,rr]).transpose()\n",
        "pd.DataFrame(l).corr()"
      ]
    },
    {
      "cell_type": "code",
      "execution_count": null,
      "metadata": {
        "_cell_guid": "d05dd01f-e604-7f88-bea0-6e592725a4f3"
      },
      "outputs": [],
      "source": [
        "l=np.array([r1,r2,r3,r4,r5,train['cate'].values,rr]).transpose()\n",
        "pd.DataFrame(l).corr()"
      ]
    },
    {
      "cell_type": "code",
      "execution_count": null,
      "metadata": {
        "_cell_guid": "16a601f0-2c47-7839-5de4-f253c179efb3"
      },
      "outputs": [],
      "source": [
        "np.sum(r3==train['cate'].values)"
      ]
    },
    {
      "cell_type": "code",
      "execution_count": null,
      "metadata": {
        "_cell_guid": "94e4ce60-8de7-7894-07be-26c1ffbd20a3"
      },
      "outputs": [],
      "source": ""
    }
  ],
  "metadata": {
    "_change_revision": 0,
    "_is_fork": false,
    "kernelspec": {
      "display_name": "Python 3",
      "language": "python",
      "name": "python3"
    },
    "language_info": {
      "codemirror_mode": {
        "name": "ipython",
        "version": 3
      },
      "file_extension": ".py",
      "mimetype": "text/x-python",
      "name": "python",
      "nbconvert_exporter": "python",
      "pygments_lexer": "ipython3",
      "version": "3.6.0"
    }
  },
  "nbformat": 4,
  "nbformat_minor": 0
}