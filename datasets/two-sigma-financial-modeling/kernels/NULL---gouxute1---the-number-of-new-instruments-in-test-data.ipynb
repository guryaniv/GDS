{
  "cells": [
    {
      "cell_type": "markdown",
      "metadata": {
        "_cell_guid": "8df10ccd-7a1b-a617-a6cc-1c2f02b67fea"
      },
      "source": [
        "In each input of test case, a timestamp will be fixed and hundreds of different ID, which indicates different instrument. So when comes a new instrument, its historical information will be little. If the model make use of instrument's historical information, the new instrument will surely produce bad result. Here we evaluate how many new instrument may be added in the kernel to see the availability of considering instruments old information in model."
      ]
    },
    {
      "cell_type": "code",
      "execution_count": null,
      "metadata": {
        "_cell_guid": "32313281-f672-7a61-777b-28666a7af950"
      },
      "outputs": [],
      "source": [
        "import kagglegym\n",
        "import numpy as np\n",
        "import pandas as pd\n",
        "env = kagglegym.make()\n",
        "o = env.reset()\n",
        "pred=  o.target\n",
        "id_set = set(pred['id'].values)\n",
        "s = pred['id'].isin(id_set)\n",
        "while True:\n",
        "    test = o.features\n",
        "    pred=  o.target\n",
        "    pred['y'] = 0\n",
        "    #pred['id'].isin(id_set)\n",
        "    s = pd.concat([pred['id'].isin(id_set),s])\n",
        "    id_set = id_set.union(pred['id'].values)\n",
        "    o, reward, done, info = env.step(pred)\n",
        "    if done:\n",
        "        print(\"el fin ...\", info[\"public_score\"])\n",
        "        break\n",
        "    if o.features.timestamp[0] % 100 == 0:\n",
        "        print(reward)\n",
        "# the False value indicates the number of new instruments in all timestamp.        \n",
        "print(s.value_counts())"
      ]
    },
    {
      "cell_type": "markdown",
      "metadata": {
        "_cell_guid": "a14b732c-7e59-b92d-28b9-34b56f34ea3d"
      },
      "source": [
        "We can see that there will be totally 330 new instruments in test case. It is about 1/3 of whole number of instruments. I think it's okay to make use of instruments' historical information while also making a general model to deal with the new comer."
      ]
    }
  ],
  "metadata": {
    "_change_revision": 0,
    "_is_fork": false,
    "kernelspec": {
      "display_name": "Python 3",
      "language": "python",
      "name": "python3"
    },
    "language_info": {
      "codemirror_mode": {
        "name": "ipython",
        "version": 3
      },
      "file_extension": ".py",
      "mimetype": "text/x-python",
      "name": "python",
      "nbconvert_exporter": "python",
      "pygments_lexer": "ipython3",
      "version": "3.5.2"
    }
  },
  "nbformat": 4,
  "nbformat_minor": 0
}