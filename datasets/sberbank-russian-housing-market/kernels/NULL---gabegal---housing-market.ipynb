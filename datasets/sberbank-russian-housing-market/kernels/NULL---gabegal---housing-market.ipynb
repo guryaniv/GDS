{
  "cells": [
    {
      "cell_type": "markdown",
      "metadata": {
        "_cell_guid": "8e2f45b0-f889-655e-5a88-600d81a6aac8"
      },
      "source": [
        "Predict Russian housing market using various data parameters. "
      ]
    },
    {
      "cell_type": "code",
      "execution_count": null,
      "metadata": {
        "_cell_guid": "5c1dac77-3553-a2a1-4bed-dab5c0d35ec6"
      },
      "outputs": [],
      "source": [
        "# This Python 3 environment comes with many helpful analytics libraries installed\n",
        "# It is defined by the kaggle/python docker image: https://github.com/kaggle/docker-python\n",
        "# For example, here's several helpful packages to load in \n",
        "\n",
        "import numpy as np # linear algebra\n",
        "import pandas as pd # data processing, CSV file I/O (e.g. pd.read_csv)\n",
        "import tensorflow as tf\n",
        "from sklearn.preprocessing import MinMaxScaler\n",
        "from IPython.display import display\n",
        " \n",
        "# Input data files are available in the \"../input/\" directory.\n",
        "# For example, running this (by clicking run or pressing Shift+Enter) will list the files in the input directory\n",
        "\n",
        "from subprocess import check_output\n",
        "print(check_output([\"ls\", \"../input\"]).decode(\"utf8\"))\n",
        "\n",
        "training_set = pd.read_csv(\"../input/train.csv\")\n",
        "testing_set = pd.read_csv(\"../input/test.csv\")\n",
        "\n",
        "training_features = training_set.drop(\"price_doc\", axis = 1)\n",
        "training_outputs = training_set[\"price_doc\"]\n",
        "\n",
        "normalize_features = [\"full_sq\"]\n",
        "\n",
        "scaler = MinMaxScaler()\n",
        "\n",
        "training_features[normalize_features] = scaler.fit_transform(training_features[normalize_features])\n",
        "\n",
        "print (training_features)\n",
        "\n",
        "# Any results you write to the current directory are saved as output."
      ]
    },
    {
      "cell_type": "code",
      "execution_count": null,
      "metadata": {
        "_cell_guid": "6b82d9bc-e100-506e-6d0d-5cbc00ba52a9"
      },
      "outputs": [],
      "source": ""
    }
  ],
  "metadata": {
    "_change_revision": 0,
    "_is_fork": false,
    "kernelspec": {
      "display_name": "Python 3",
      "language": "python",
      "name": "python3"
    },
    "language_info": {
      "codemirror_mode": {
        "name": "ipython",
        "version": 3
      },
      "file_extension": ".py",
      "mimetype": "text/x-python",
      "name": "python",
      "nbconvert_exporter": "python",
      "pygments_lexer": "ipython3",
      "version": "3.6.0"
    }
  },
  "nbformat": 4,
  "nbformat_minor": 0
}