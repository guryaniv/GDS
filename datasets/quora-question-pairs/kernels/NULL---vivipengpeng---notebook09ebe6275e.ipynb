{
  "metadata": {
    "kernelspec": {
      "display_name": "Python 3",
      "language": "python",
      "name": "python3"
    },
    "language_info": {
      "codemirror_mode": {
        "name": "ipython",
        "version": 3
      },
      "file_extension": ".py",
      "mimetype": "text/x-python",
      "name": "python",
      "nbconvert_exporter": "python",
      "pygments_lexer": "ipython3",
      "version": "3.6.0"
    }
  },
  "nbformat": 4,
  "nbformat_minor": 0,
  "cells": [
    {
      "metadata": {
        "_cell_guid": "44fa07ec-37ee-c68c-d476-6e9f43eca66d",
        "_active": false,
        "collapsed": false
      },
      "source": "# This Python 3 environment comes with many helpful analytics libraries installed\n# It is defined by the kaggle/python docker image: https://github.com/kaggle/docker-python\n# For example, here's several helpful packages to load in \n\nimport numpy as np # linear algebra\nimport pandas as pd # data processing, CSV file I/O (e.g. pd.read_csv)\n\n# Input data files are available in the \"../input/\" directory.\n# For example, running this (by clicking run or pressing Shift+Enter) will list the files in the input directory\n\ntrain = pd.read_csv('../input/train.csv')\n\ntest = pd.read_csv('../input/test.csv')\n\n# Any results you write to the current directory are saved as output.",
      "execution_count": 16,
      "cell_type": "code",
      "outputs": [],
      "execution_state": "idle"
    },
    {
      "metadata": {
        "_cell_guid": "92b7d4bd-aa8a-0346-f5f0-bb88cbaa3f37",
        "_active": false,
        "collapsed": false
      },
      "source": "train_questions = train[['question1', 'question2', 'is_duplicate']]\ntrain_questions.head()",
      "execution_count": 17,
      "cell_type": "code",
      "outputs": [],
      "execution_state": "idle"
    },
    {
      "metadata": {
        "_cell_guid": "568b5696-cd12-c8c7-09fd-405f1b0fd918",
        "_active": true,
        "collapsed": false
      },
      "source": "from textblob import TextBlob\n\ntrain_head = train.iloc[:5]\n\ntrain_head['question1_new'] = train_head.loc[:, 'question1'].apply(lambda x: str(TextBlob(x).correct()))\ntrain_head = train_head[['question1', 'question1_new', 'is_duplicate']]\n# train_head['question2'] = train_head.loc[:, 'question2'].apply(lambda x: str(TextBlob(x).correct()))\n\nfor i in range(5):\n    print(train_head.loc[i, 'question1'])\n    print(train_head.loc[i, 'question1_new'])",
      "execution_count": 18,
      "cell_type": "code",
      "outputs": [],
      "execution_state": "idle"
    },
    {
      "metadata": {
        "_cell_guid": "90b26262-bb2a-d26e-57d4-89f54a519b95",
        "_active": false,
        "collapsed": false
      },
      "source": null,
      "execution_count": 19,
      "cell_type": "code",
      "outputs": [],
      "execution_state": "idle"
    }
  ]
}