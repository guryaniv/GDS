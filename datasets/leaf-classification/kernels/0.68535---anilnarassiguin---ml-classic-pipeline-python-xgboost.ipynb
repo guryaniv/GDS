{
  "cells": [
    {
      "cell_type": "code",
      "execution_count": null,
      "metadata": {
        "_cell_guid": "d5d9eee2-3d2f-80d6-9cb0-3f22040639af"
      },
      "outputs": [],
      "source": [
        "import pandas as pd\n",
        "import numpy as np\n",
        "\n",
        "import xgboost as xgb\n",
        "from sklearn.cross_validation import cross_val_score\n",
        "from sklearn.metrics import log_loss\n",
        "from sklearn.preprocessing import LabelBinarizer"
      ]
    },
    {
      "cell_type": "markdown",
      "metadata": {
        "_cell_guid": "5db9a5ea-452d-2360-e557-a66c4c6a0350"
      },
      "source": [
        "## Load datasets"
      ]
    },
    {
      "cell_type": "code",
      "execution_count": null,
      "metadata": {
        "_cell_guid": "5a32046f-3966-5e48-78a7-b0604eb46228"
      },
      "outputs": [],
      "source": [
        "train = pd.read_csv(\"../input/train.csv\")\n",
        "test = pd.read_csv(\"../input/test.csv\")"
      ]
    },
    {
      "cell_type": "code",
      "execution_count": null,
      "metadata": {
        "_cell_guid": "444e5744-f729-e5c0-1e9d-c7cd8f998a96"
      },
      "outputs": [],
      "source": [
        "train.head()"
      ]
    },
    {
      "cell_type": "markdown",
      "metadata": {
        "_cell_guid": "d4bec7c6-02ce-9022-9c7e-3e8c514032d8"
      },
      "source": [
        "## Prepare data"
      ]
    },
    {
      "cell_type": "code",
      "execution_count": null,
      "metadata": {
        "_cell_guid": "52d4c804-14ac-13da-dc4b-d4c5b003decc"
      },
      "outputs": [],
      "source": [
        "Y_train = train['species']\n",
        "id_train = train['id']\n",
        "X_train = train.drop(['species', 'id'], axis=1)\n",
        "classes = np.unique(Y_train)\n",
        "Y_train_bin = LabelBinarizer().fit_transform(Y_train)\n",
        "\n",
        "id_test = test['id']\n",
        "X_test = test.drop(['id'], axis=1)"
      ]
    },
    {
      "cell_type": "code",
      "execution_count": null,
      "metadata": {
        "_cell_guid": "d1c5271b-21ff-90b5-5b2e-a3e13f684b4b"
      },
      "outputs": [],
      "source": [
        "lb = LabelBinarizer()\n",
        "lb.fit(Y_train)\n",
        "print(lb.classes_)"
      ]
    },
    {
      "cell_type": "code",
      "execution_count": null,
      "metadata": {
        "_cell_guid": "77eb6fb3-f338-4c63-6120-f13fba6c34ba"
      },
      "outputs": [],
      "source": [
        "\"Number of unique classes: {0}\".format(len(classes))"
      ]
    },
    {
      "cell_type": "markdown",
      "metadata": {
        "_cell_guid": "f162190a-9f7a-a6fd-5079-bdb08849d059"
      },
      "source": [
        "## Run XGBoost and save results"
      ]
    },
    {
      "cell_type": "code",
      "execution_count": null,
      "metadata": {
        "_cell_guid": "fc7a4d45-6b4a-b3f3-08f4-e05d9687a995"
      },
      "outputs": [],
      "source": [
        "xb = xgb.XGBClassifier(n_estimators=500, objective='multi:softprob')\n",
        "probas = xb.fit(X_train, Y_train).predict_proba(X_test)"
      ]
    },
    {
      "cell_type": "code",
      "execution_count": null,
      "metadata": {
        "_cell_guid": "612bcb8e-deea-8c0c-3b9b-e26ed701c438"
      },
      "outputs": [],
      "source": [
        "result = pd.DataFrame(index=id_test.values, columns=xb.classes_, data=probas)\n",
        "result.to_csv(\"./xgb_benchmark.csv\", index_label='id')"
      ]
    },
    {
      "cell_type": "code",
      "execution_count": null,
      "metadata": {
        "_cell_guid": "dbe1a218-dff6-676c-780b-a46b1546a66f"
      },
      "outputs": [],
      "source": [
        "! head -n 2 xgb_benchmark.csv"
      ]
    },
    {
      "cell_type": "code",
      "execution_count": null,
      "metadata": {
        "_cell_guid": "0d9e219f-10d8-fef9-f8ff-d45da44d36bf"
      },
      "outputs": [],
      "source": [
        "cross_val_score(xgb.XGBClassifier(n_estimators=100), X_train, Y_train, cv=5)"
      ]
    },
    {
      "cell_type": "code",
      "execution_count": null,
      "metadata": {
        "_cell_guid": "59038067-301c-9aa9-9ccd-d65ae69d673f"
      },
      "outputs": [],
      "source": [
        ""
      ]
    }
  ],
  "metadata": {
    "_change_revision": 0,
    "_is_fork": false,
    "kernelspec": {
      "display_name": "Python 3",
      "language": "python",
      "name": "python3"
    },
    "language_info": {
      "codemirror_mode": {
        "name": "ipython",
        "version": 3
      },
      "file_extension": ".py",
      "mimetype": "text/x-python",
      "name": "python",
      "nbconvert_exporter": "python",
      "pygments_lexer": "ipython3",
      "version": "3.5.2"
    }
  },
  "nbformat": 4,
  "nbformat_minor": 0
}