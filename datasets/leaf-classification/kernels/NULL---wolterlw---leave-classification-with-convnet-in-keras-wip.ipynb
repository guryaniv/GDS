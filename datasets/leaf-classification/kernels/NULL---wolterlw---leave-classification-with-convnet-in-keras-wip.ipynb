{
  "cells": [
    {
      "cell_type": "markdown",
      "metadata": {
        "_cell_guid": "bee7d4c3-8597-7361-16ed-40be4bb56480"
      },
      "source": [
        "The idea is to mirror the images in a way that we get some rotation invariance"
      ]
    },
    {
      "cell_type": "code",
      "execution_count": null,
      "metadata": {
        "_cell_guid": "2efbfa24-8eb1-fff8-b52f-8adcd7f28cf2"
      },
      "outputs": [],
      "source": [
        "import numpy as np\n",
        "import pandas as pd\n",
        "import matplotlib.pyplot as plt\n",
        "%matplotlib inline\n",
        "import cv2\n",
        "from ipywidgets import interact, IntSlider"
      ]
    },
    {
      "cell_type": "code",
      "execution_count": null,
      "metadata": {
        "_cell_guid": "fa0e2d30-c67e-d1a0-56c5-0ffebbd8c7b7"
      },
      "outputs": [],
      "source": [
        "train = pd.read_csv('../input/train.csv', index_col='id')\n",
        "test  = pd.read_csv('../input/test.csv', index_col='id')"
      ]
    },
    {
      "cell_type": "code",
      "execution_count": null,
      "metadata": {
        "_cell_guid": "4e29b8f6-ad03-e39b-48ff-ccea32c2fd67"
      },
      "outputs": [],
      "source": [
        "train.head()"
      ]
    },
    {
      "cell_type": "code",
      "execution_count": null,
      "metadata": {
        "_cell_guid": "90193d19-ea15-ad05-c647-476a1fdea6be"
      },
      "outputs": [],
      "source": [
        "imgs = list([cv2.imread('../input/images/{}.jpg'.format(i), 0) for i in range(1,train.shape[0])]) "
      ]
    },
    {
      "cell_type": "code",
      "execution_count": null,
      "metadata": {
        "_cell_guid": "b78ca817-ff76-1004-e48b-3e5078b33194"
      },
      "outputs": [],
      "source": [
        "def imshow(img):\n",
        "    plt.imshow(img, cmap='Greys_r')\n",
        "    plt.axis('off')\n",
        "    plt.show()\n",
        "    \n",
        "def y_symmetric(img):\n",
        "    tmp = img\n",
        "    vert = np.abs(tmp[:,::-1] - tmp).mean(dtype='int')\n",
        "    hor  = np.abs(tmp[::-1,:] - tmp).mean(dtype='int')\n",
        "    return hor - vert\n",
        "    \n",
        "def normalize_size(img):\n",
        "    max_size = max(img.shape)\n",
        "    ax_min = np.argmin(img.shape)\n",
        "    min_size = img.shape[ax_min]\n",
        "    margin = (max_size - min_size)/2\n",
        "    \n",
        "    bg = np.zeros((max_size,max_size),dtype='int16')\n",
        "    if ax_min:\n",
        "        bg[:,margin:margin+img.shape[1]] = img\n",
        "        return cv2.resize(bg, (500,500))\n",
        "    else:\n",
        "        bg[margin:margin+img.shape[0],:]= img\n",
        "        return cv2.resize(bg, (500,500)).T\n",
        "    \n",
        "def normalize_position(img, sym_param = -5):\n",
        "    if sym_param < y_symmetric(img): \n",
        "        return img\n",
        "    else:\n",
        "        return img.T\n",
        "\n",
        "def normalize(img):\n",
        "    return normalize_position(normalize_size(img)).astype('int16')\n",
        "\n",
        "def kaleidoscope(img):\n",
        "    v1 = np.bitwise_or(img,img.T)\n",
        "    v = img[::-1,:]\n",
        "    v2 = np.bitwise_or(v,v.T)\n",
        "    return np.bitwise_or(v1,v2)[0:250,0:250]"
      ]
    },
    {
      "cell_type": "code",
      "execution_count": null,
      "metadata": {
        "_cell_guid": "7d27fedb-af05-1666-3a8f-5f2572d464b8"
      },
      "outputs": [],
      "source": [
        "normalized = list(map(lambda x: kaleidoscope(normalize_size(x)), imgs))"
      ]
    },
    {
      "cell_type": "code",
      "execution_count": null,
      "metadata": {
        "_cell_guid": "18697476-4d9e-0387-f4d9-f7aa31a1b68d"
      },
      "outputs": [],
      "source": [
        "imshow(normalized[0])"
      ]
    },
    {
      "cell_type": "code",
      "execution_count": null,
      "metadata": {
        "_cell_guid": "4adb5c83-ecf0-cd22-6679-78f72324989b"
      },
      "outputs": [],
      "source": [
        "X = np.array(normalized)\n",
        "y = train['species'].values"
      ]
    },
    {
      "cell_type": "code",
      "execution_count": null,
      "metadata": {
        "_cell_guid": "7244f0c2-e4c4-2ad5-74b2-e0b8a02ec5f5"
      },
      "outputs": [],
      "source": [
        "from sklearn.cross_validation import StratifiedKFold\n",
        "eval_size = 0.10\n",
        "kf = StratifiedKFold(y, round(1. / eval_size))\n",
        "train_indices, valid_indices = next(iter(kf))\n",
        "X_train, y_train = X[train_indices-1], y[train_indices-1]\n",
        "X_valid, y_valid = X[valid_indices], y[valid_indices]"
      ]
    },
    {
      "cell_type": "code",
      "execution_count": null,
      "metadata": {
        "_cell_guid": "23774879-b44d-8c24-4a57-335f399f4a22"
      },
      "outputs": [],
      "source": [
        "imshow(X_train[2])"
      ]
    },
    {
      "cell_type": "code",
      "execution_count": null,
      "metadata": {
        "_cell_guid": "c98e5e1a-6317-14eb-5cf1-8ba36fd9c4ae"
      },
      "outputs": [],
      "source": [
        "X_train = X_train.reshape(X_train.shape[0],250,250,1)\n",
        "X_valid = X_valid.reshape(X_valid.shape[0],250,250,1)\n",
        "\n",
        "X_train = X_train.astype('float32')/255\n",
        "X_valid = X_valid.astype('float32')/255"
      ]
    },
    {
      "cell_type": "code",
      "execution_count": null,
      "metadata": {
        "_cell_guid": "6b1f7b55-6180-d6fe-4ef6-5726d3237ef5"
      },
      "outputs": [],
      "source": [
        "from keras.models import Sequential\n",
        "from keras.layers import Dense, Dropout, Activation, Flatten\n",
        "from keras.layers import Convolution2D, MaxPooling2D\n",
        " \n",
        "model = Sequential()\n",
        "\n",
        "model.add(Convolution2D(32, 3, 3, activation='relu', input_shape=(250,250,1)))\n",
        "model.add(MaxPooling2D(pool_size=(2,2)))\n",
        "model.add(Dropout(0.25))\n",
        " \n",
        "model.add(Flatten())\n",
        "model.add(Dense(128, activation='relu'))\n",
        "model.add(Dropout(0.5))\n",
        "model.add(Dense(99, activation='softmax'))\n",
        " \n",
        "\n",
        "model.compile(loss='categorical_crossentropy',\n",
        "              optimizer='adam',\n",
        "              metrics=['accuracy'])"
      ]
    },
    {
      "cell_type": "code",
      "execution_count": null,
      "metadata": {
        "_cell_guid": "fa1395c2-1477-8f78-85e9-bac258d239ca"
      },
      "outputs": [],
      "source": [
        "model.fit(X_train, y_train_oh, \n",
        "          batch_size=32, nb_epoch=10, verbose=1)"
      ]
    },
    {
      "cell_type": "code",
      "execution_count": null,
      "metadata": {
        "_cell_guid": "0f537f54-8dc2-01a6-248a-f6ad09dcf89a"
      },
      "outputs": [],
      "source": [
        "plt.imshow(X_tr[1,:,:].reshape(250,250), cmap='Greys_r')"
      ]
    },
    {
      "cell_type": "code",
      "execution_count": null,
      "metadata": {
        "_cell_guid": "adf81bd5-faa6-60df-bbea-b308b1963dff"
      },
      "outputs": [],
      "source": ""
    }
  ],
  "metadata": {
    "_change_revision": 0,
    "_is_fork": false,
    "kernelspec": {
      "display_name": "Python 3",
      "language": "python",
      "name": "python3"
    },
    "language_info": {
      "codemirror_mode": {
        "name": "ipython",
        "version": 3
      },
      "file_extension": ".py",
      "mimetype": "text/x-python",
      "name": "python",
      "nbconvert_exporter": "python",
      "pygments_lexer": "ipython3",
      "version": "3.5.2"
    }
  },
  "nbformat": 4,
  "nbformat_minor": 0
}