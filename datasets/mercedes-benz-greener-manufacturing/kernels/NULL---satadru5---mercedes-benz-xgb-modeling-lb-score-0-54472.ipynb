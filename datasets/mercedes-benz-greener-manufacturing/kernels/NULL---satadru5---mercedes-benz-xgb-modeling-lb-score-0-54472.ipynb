{
  "cells": [
    {
      "cell_type": "markdown",
      "metadata": {
        "_cell_guid": "ff126cc6-fa14-57f8-644f-3ec44592ff9f"
      },
      "source": [
        "The aim of this competiton is challenging Kagglers to tackle the curse of dimensionality and reduce the time that cars spend on the test bench. We begin by importing the dataset and loading the required packages. We must predict the time it takes for a car to pass the testing stage, this is hence a regression problem."
      ]
    },
    {
      "cell_type": "code",
      "execution_count": null,
      "metadata": {
        "_cell_guid": "4f1679f9-7e39-0b24-fd1e-659ed66e8044"
      },
      "outputs": [],
      "source": [
        "# This Python 3 environment comes with many helpful analytics libraries installed\n",
        "# It is defined by the kaggle/python docker image: https://github.com/kaggle/docker-python\n",
        "# For example, here's several helpful packages to load in \n",
        "\n",
        "import numpy as np # linear algebra\n",
        "import pandas as pd # data processing, CSV file I/O (e.g. pd.read_csv)\n",
        "import numpy as np # linear algebra\n",
        "import pandas as pd # data processing, CSV file I/O (e.g. pd.read_csv)\n",
        "import numpy as np # linear algebra\n",
        "import pandas as pd # data processing, CSV file I/O (e.g. pd.read_csv)\n",
        "import numpy as np # linear algebra\n",
        "import pandas as pd # data processing, CSV file I/O (e.g. pd.read_csv)\n",
        "import matplotlib as mpl\n",
        "import matplotlib.pyplot as plt\n",
        "import seaborn as sns\n",
        "%matplotlib inline\n",
        "import numpy as np # linear algebra\n",
        "import pandas as pd # data processing, CSV file I/O (e.g. pd.read_csv)\n",
        "import matplotlib.pyplot as plt\n",
        "import seaborn as sns\n",
        "from sklearn import model_selection, preprocessing\n",
        "import xgboost as xgb\n",
        "color = sns.color_palette()\n",
        "\n",
        "# Input data files are available in the \"../input/\" directory.\n",
        "# For example, running this (by clicking run or pressing Shift+Enter) will list the files in the input directory\n",
        "\n",
        "from subprocess import check_output\n",
        "print(check_output([\"ls\", \"../input\"]).decode(\"utf8\"))\n",
        "%matplotlib inline\n",
        "\n",
        "pd.options.mode.chained_assignment = None  # default='warn'\n",
        "pd.set_option('display.max_columns', 500)\n",
        "\n",
        "# Any results you write to the current directory are saved as output."
      ]
    },
    {
      "cell_type": "code",
      "execution_count": null,
      "metadata": {
        "_cell_guid": "6e67a095-a59b-bdf6-7f38-060cb659e39d"
      },
      "outputs": [],
      "source": [
        "train=pd.read_csv(\"../input/train.csv\")"
      ]
    },
    {
      "cell_type": "code",
      "execution_count": null,
      "metadata": {
        "_cell_guid": "7383a1a3-1f5d-7821-619f-2fc1fea5edc9"
      },
      "outputs": [],
      "source": [
        "test=pd.read_csv(\"../input/test.csv\")"
      ]
    },
    {
      "cell_type": "code",
      "execution_count": null,
      "metadata": {
        "_cell_guid": "4ed4e9f1-d1f8-3f7a-1628-00cd70601a44"
      },
      "outputs": [],
      "source": [
        "train.head(5)"
      ]
    },
    {
      "cell_type": "code",
      "execution_count": null,
      "metadata": {
        "_cell_guid": "3aeaa277-cb00-9071-c89c-0a4fc6ac5dae"
      },
      "outputs": [],
      "source": [
        "train.shape"
      ]
    },
    {
      "cell_type": "markdown",
      "metadata": {
        "_cell_guid": "4b503144-83fc-44d6-48fa-9f177a8a3369"
      },
      "source": [
        "Check categorical variables"
      ]
    },
    {
      "cell_type": "code",
      "execution_count": null,
      "metadata": {
        "_cell_guid": "38d0a8fc-e9e0-ceaf-cd21-611ec947c2af"
      },
      "outputs": [],
      "source": [
        "for f in train.columns:\n",
        "    if train[f].dtype=='object':\n",
        "        print(f)"
      ]
    },
    {
      "cell_type": "markdown",
      "metadata": {
        "_cell_guid": "7583f596-c361-fa69-79e3-72b21118f84c"
      },
      "source": [
        "check null values in the dataset..................."
      ]
    },
    {
      "cell_type": "code",
      "execution_count": null,
      "metadata": {
        "_cell_guid": "92b60840-51a9-f7c1-95e7-bda01b4c9c6c"
      },
      "outputs": [],
      "source": [
        "train.isnull().sum().sort_values(ascending=False)"
      ]
    },
    {
      "cell_type": "markdown",
      "metadata": {
        "_cell_guid": "ee8a0447-6a16-825f-84c7-1b057befa0e2"
      },
      "source": [
        "Thnaks there is no null values............."
      ]
    },
    {
      "cell_type": "markdown",
      "metadata": {
        "_cell_guid": "33663035-9f69-c749-03a7-79276e5120ea"
      },
      "source": [
        "Plotting the categorical veriables................"
      ]
    },
    {
      "cell_type": "code",
      "execution_count": null,
      "metadata": {
        "_cell_guid": "da6e3a27-2dc7-974c-70fb-d9d424c0f935"
      },
      "outputs": [],
      "source": [
        "plt.figure(figsize=(8,9))\n",
        "plt.plot(train['y'])"
      ]
    },
    {
      "cell_type": "code",
      "execution_count": null,
      "metadata": {
        "_cell_guid": "6f2d5c61-b5fd-99da-8377-a2e63fcb3cb6"
      },
      "outputs": [],
      "source": [
        "plt.figure(figsize =(6,7))\n",
        "sns.regplot(x=train.index.values, y=np.sort(train.y.values),data=train)\n",
        "plt.xlabel('index')\n",
        "plt.ylabel"
      ]
    },
    {
      "cell_type": "code",
      "execution_count": null,
      "metadata": {
        "_cell_guid": "d42637d3-fe5f-af14-b5a9-855282c97407"
      },
      "outputs": [],
      "source": [
        "plt.hist(train['y'])"
      ]
    },
    {
      "cell_type": "code",
      "execution_count": null,
      "metadata": {
        "_cell_guid": "ddd4a62a-11d0-5a5d-1e84-eb23b0855e70"
      },
      "outputs": [],
      "source": [
        "sns.distplot(train.y.values,bins=30,kde=False)"
      ]
    },
    {
      "cell_type": "code",
      "execution_count": null,
      "metadata": {
        "_cell_guid": "4ddcf854-768b-11f2-eb51-567e67ebd2e7"
      },
      "outputs": [],
      "source": [
        "dtype_df = train.dtypes.reset_index()\n",
        "dtype_df.columns = [\"Count\", \"Column Type\"]\n",
        "dtype_df.groupby(\"Column Type\").aggregate('count').reset_index()"
      ]
    },
    {
      "cell_type": "code",
      "execution_count": null,
      "metadata": {
        "_cell_guid": "fed182b6-ce5f-2f73-f560-d84c1d03af36"
      },
      "outputs": [],
      "source": [
        "missing_df = train.isnull().sum(axis=0).reset_index()\n",
        "missing_df.columns = ['column_name', 'missing_count']\n",
        "missing_df = missing_df.ix[missing_df['missing_count']>0]\n",
        "missing_df = missing_df.sort_values(by='missing_count')\n",
        "missing_df"
      ]
    },
    {
      "cell_type": "code",
      "execution_count": null,
      "metadata": {
        "_cell_guid": "8b48b5a1-5977-c52b-0941-c5a747ec3e73"
      },
      "outputs": [],
      "source": [
        "var_name = \"X0\"\n",
        "col_order = np.sort(train[var_name].unique()).tolist()\n",
        "plt.figure(figsize=(12,6))\n",
        "sns.stripplot(x=var_name, y='y', data=train, order=col_order)\n",
        "plt.xlabel(var_name, fontsize=12)\n",
        "plt.ylabel('y', fontsize=12)\n",
        "plt.title(\"Distribution of y variable with \"+var_name, fontsize=15)\n",
        "plt.show()"
      ]
    },
    {
      "cell_type": "code",
      "execution_count": null,
      "metadata": {
        "_cell_guid": "9c6162de-66b3-e071-6ac1-08730520fabd"
      },
      "outputs": [],
      "source": [
        "var_name = \"X0\"\n",
        "col_order = np.sort(train[var_name].unique()).tolist()\n",
        "plt.figure(figsize=(12,6))\n",
        "sns.boxplot(x=var_name, y='y', data=train, order=col_order)\n",
        "plt.xlabel(var_name, fontsize=12)\n",
        "plt.ylabel('y', fontsize=12)\n",
        "plt.title(\"Distribution of y variable with \"+var_name, fontsize=15)\n",
        "plt.show()"
      ]
    },
    {
      "cell_type": "code",
      "execution_count": null,
      "metadata": {
        "_cell_guid": "af8ee9b1-4e8a-2e81-9c97-9a22a1c399d9"
      },
      "outputs": [],
      "source": [
        "var_name = \"X1\"\n",
        "col_order = np.sort(train[var_name].unique()).tolist()\n",
        "plt.figure(figsize=(12,6))\n",
        "sns.stripplot(x=var_name, y='y', data=train, order=col_order)\n",
        "plt.xlabel(var_name, fontsize=12)\n",
        "plt.ylabel('y', fontsize=12)\n",
        "plt.title(\"Distribution of y variable with \"+var_name, fontsize=15)\n",
        "plt.show()"
      ]
    },
    {
      "cell_type": "code",
      "execution_count": null,
      "metadata": {
        "_cell_guid": "4dc31195-2ae3-2c4f-66be-a1c16879fbc7"
      },
      "outputs": [],
      "source": [
        "var_name = \"X2\"\n",
        "col_order = np.sort(train[var_name].unique()).tolist()\n",
        "plt.figure(figsize=(12,6))\n",
        "sns.stripplot(x=var_name, y='y', data=train, order=col_order)\n",
        "plt.xlabel(var_name, fontsize=12)\n",
        "plt.ylabel('y', fontsize=12)\n",
        "plt.title(\"Distribution of y variable with \"+var_name, fontsize=15)\n",
        "plt.show()"
      ]
    },
    {
      "cell_type": "code",
      "execution_count": null,
      "metadata": {
        "_cell_guid": "9943dce4-e63d-18e0-1bb3-d4e89410c241"
      },
      "outputs": [],
      "source": [
        "var_name = \"X3\"\n",
        "col_order = np.sort(train[var_name].unique()).tolist()\n",
        "plt.figure(figsize=(12,6))\n",
        "sns.stripplot(x=var_name, y='y', data=train, order=col_order,jitter=True)\n",
        "plt.xlabel(var_name, fontsize=12)\n",
        "plt.ylabel('y', fontsize=12)\n",
        "plt.title(\"Distribution of y variable with \"+var_name, fontsize=15)\n",
        "plt.show()"
      ]
    },
    {
      "cell_type": "code",
      "execution_count": null,
      "metadata": {
        "_cell_guid": "55d583be-7426-c5bd-151b-69be2692219a"
      },
      "outputs": [],
      "source": [
        "var_name = \"X4\"\n",
        "col_order = np.sort(train[var_name].unique()).tolist()\n",
        "plt.figure(figsize=(12,6))\n",
        "sns.stripplot(x=var_name, y='y', data=train, order=col_order,jitter=True)\n",
        "plt.xlabel(var_name, fontsize=12)\n",
        "plt.ylabel('y', fontsize=12)\n",
        "plt.title(\"Distribution of y variable with \"+var_name, fontsize=15)\n",
        "plt.show()"
      ]
    },
    {
      "cell_type": "code",
      "execution_count": null,
      "metadata": {
        "_cell_guid": "6aedfb97-7891-07cf-34b9-176ed551d150"
      },
      "outputs": [],
      "source": [
        "var_name = \"X3\"\n",
        "col_order = np.sort(train[var_name].unique()).tolist()\n",
        "plt.figure(figsize=(12,6))\n",
        "sns.violinplot(x=var_name, y='y', data=train, order=col_order)\n",
        "plt.xlabel(var_name, fontsize=12)\n",
        "plt.ylabel('y', fontsize=12)\n",
        "plt.title(\"Distribution of y variable with \"+var_name, fontsize=15)\n",
        "plt.show()"
      ]
    },
    {
      "cell_type": "code",
      "execution_count": null,
      "metadata": {
        "_cell_guid": "4ed97227-d832-58c7-1657-21c0bedadf24"
      },
      "outputs": [],
      "source": [
        "var_name = \"X6\"\n",
        "col_order = np.sort(train[var_name].unique()).tolist()\n",
        "plt.figure(figsize=(12,6))\n",
        "sns.violinplot(x=var_name, y='y', data=train, order=col_order)\n",
        "plt.xlabel(var_name, fontsize=12)\n",
        "plt.ylabel('y', fontsize=12)\n",
        "plt.title(\"Distribution of y variable with \"+var_name, fontsize=15)\n",
        "plt.show()"
      ]
    },
    {
      "cell_type": "code",
      "execution_count": null,
      "metadata": {
        "_cell_guid": "9dd6d09d-901d-76f3-28ca-8f0a2f535d4e"
      },
      "outputs": [],
      "source": [
        "var_name = \"X6\"\n",
        "col_order = np.sort(train[var_name].unique()).tolist()\n",
        "plt.figure(figsize=(12,6))\n",
        "sns.boxplot(x=var_name, y='y', data=train, order=col_order)\n",
        "plt.xlabel(var_name, fontsize=12)\n",
        "plt.ylabel('y', fontsize=12)\n",
        "plt.title(\"Distribution of y variable with \"+var_name, fontsize=15)\n",
        "plt.show()"
      ]
    },
    {
      "cell_type": "code",
      "execution_count": null,
      "metadata": {
        "_cell_guid": "ba53c3f4-9bcb-5d18-bd49-2f49665f5faf"
      },
      "outputs": [],
      "source": [
        "var_name = \"X8\"\n",
        "col_order = np.sort(train[var_name].unique()).tolist()\n",
        "plt.figure(figsize=(12,6))\n",
        "sns.violinplot(x=var_name, y='y', data=train, order=col_order)\n",
        "plt.xlabel(var_name, fontsize=12)\n",
        "plt.ylabel('y', fontsize=12)\n",
        "plt.title(\"Distribution of y variable with \"+var_name, fontsize=15)\n",
        "plt.show()"
      ]
    },
    {
      "cell_type": "markdown",
      "metadata": {
        "_cell_guid": "3194de0b-8f95-fac9-8b69-ee60915171f7"
      },
      "source": [
        "Convert categorical variables................"
      ]
    },
    {
      "cell_type": "code",
      "execution_count": null,
      "metadata": {
        "_cell_guid": "f8df7917-b1e1-f8d3-5011-6bcb5440a706"
      },
      "outputs": [],
      "source": [
        "#convert Categorical to continious through hot encoding\n",
        "for f in train.columns:\n",
        "    if train[f].dtype=='object':\n",
        "        print(f)\n",
        "        lbl = preprocessing.LabelEncoder()\n",
        "        lbl.fit(list(train[f].values.astype('str')) + list(test[f].values.astype('str')))\n",
        "        train[f] = lbl.transform(list(train[f].values.astype('str')))\n",
        "        test[f] = lbl.transform(list(test[f].values.astype('str')))\n",
        "\n"
      ]
    },
    {
      "cell_type": "code",
      "execution_count": null,
      "metadata": {
        "_cell_guid": "cf9e8e03-bd13-098c-e0a7-bf6964fb7851"
      },
      "outputs": [],
      "source": [
        "train.head(3)"
      ]
    },
    {
      "cell_type": "markdown",
      "metadata": {
        "_cell_guid": "726cbde8-5b98-8455-5d79-e57386766444"
      },
      "source": [
        "**Lets try XGBoost Modeling.....................**"
      ]
    },
    {
      "cell_type": "code",
      "execution_count": null,
      "metadata": {
        "_cell_guid": "94efb728-fb5f-c1ce-8230-09ece385f598"
      },
      "outputs": [],
      "source": [
        "train=train.drop(['ID'],axis=1)"
      ]
    },
    {
      "cell_type": "code",
      "execution_count": null,
      "metadata": {
        "_cell_guid": "4a3dca41-f816-222f-dc25-b2c5abf30340"
      },
      "outputs": [],
      "source": [
        "label=train['y']"
      ]
    },
    {
      "cell_type": "code",
      "execution_count": null,
      "metadata": {
        "_cell_guid": "90f803ef-5224-de47-30a5-5960deb0e9b8"
      },
      "outputs": [],
      "source": [
        "train=train.drop(['y'],axis=1)"
      ]
    },
    {
      "cell_type": "code",
      "execution_count": null,
      "metadata": {
        "_cell_guid": "127057bb-a798-3048-feda-1699d291fef3"
      },
      "outputs": [],
      "source": [
        "xgb_params = {\n",
        "    'eta': 0.05,\n",
        "    'max_depth': 5,\n",
        "    'subsample': 0.7,\n",
        "    'colsample_bytree': 0.7,\n",
        "    'objective': 'reg:linear',\n",
        "    'eval_metric': 'rmse',\n",
        "    'min_child_weight':1,\n",
        "    'silent': 1,\n",
        "    'seed':0\n",
        "}"
      ]
    },
    {
      "cell_type": "code",
      "execution_count": null,
      "metadata": {
        "_cell_guid": "8c34ced4-5ec3-b91f-568d-242de077e4a9"
      },
      "outputs": [],
      "source": [
        "dtrain = xgb.DMatrix(train, label)"
      ]
    },
    {
      "cell_type": "code",
      "execution_count": null,
      "metadata": {
        "_cell_guid": "a84f758b-d9a1-2dd5-779f-05bd1c1c85d7"
      },
      "outputs": [],
      "source": [
        "cv_output = xgb.cv(xgb_params, dtrain, num_boost_round=1000, early_stopping_rounds=20,\n",
        "    verbose_eval=50, show_stdv=False)"
      ]
    },
    {
      "cell_type": "code",
      "execution_count": null,
      "metadata": {
        "_cell_guid": "bcfaf1ed-0c6f-1abc-e0f8-b4967059f4f1"
      },
      "outputs": [],
      "source": [
        "num_boost_rounds = len(cv_output)\n",
        "model = xgb.train(dict(xgb_params, silent=0), dtrain, num_boost_round= num_boost_rounds)"
      ]
    },
    {
      "cell_type": "code",
      "execution_count": null,
      "metadata": {
        "_cell_guid": "be145fbc-00a7-1b25-fb39-6d7ad9ccefd0"
      },
      "outputs": [],
      "source": [
        "#xgtrain = xgb.DMatrix(train, label, feature_names=train.columns)\n",
        "#xgtest = xgb.DMatrix(val_X, val_y, feature_names=val_X.columns)\n",
        "#watchlist = [ (xgtrain,'train'), (xgtest, 'test') ]\n",
        "#num_rounds = 100 # Increase the number of rounds while running in local\n",
        "#model = xgb.train(xgb_params, xgtrain, num_rounds, watchlist, early_stopping_rounds=50, verbose_eval=5)"
      ]
    },
    {
      "cell_type": "code",
      "execution_count": null,
      "metadata": {
        "_cell_guid": "35b25215-9d59-fca6-8e58-4dc6d0e2ad3f"
      },
      "outputs": [],
      "source": [
        "fig, ax = plt.subplots(1, 1, figsize=(8, 13))\n",
        "xgb.plot_importance(model, max_num_features=50, height=0.5, ax=ax)"
      ]
    },
    {
      "cell_type": "code",
      "execution_count": null,
      "metadata": {
        "_cell_guid": "6fa2bc6d-7f2d-c135-c97f-7b08176d22dd"
      },
      "outputs": [],
      "source": [
        "test.head(3)"
      ]
    },
    {
      "cell_type": "markdown",
      "metadata": {
        "_cell_guid": "211bc5d6-a36d-34b7-76f8-50c48e4f5364"
      },
      "source": [
        "**Predict Test Dataset.................**"
      ]
    },
    {
      "cell_type": "code",
      "execution_count": null,
      "metadata": {
        "_cell_guid": "f987afae-8dd9-698f-7bda-a5b7f050fd9e"
      },
      "outputs": [],
      "source": [
        "ID=test['ID']\n",
        "test=test.drop(['ID'],axis=1)"
      ]
    },
    {
      "cell_type": "code",
      "execution_count": null,
      "metadata": {
        "_cell_guid": "76caf827-cf6d-7435-bf32-fbe2f182aeb8"
      },
      "outputs": [],
      "source": [
        "dtest=xgb.DMatrix(test)"
      ]
    },
    {
      "cell_type": "code",
      "execution_count": null,
      "metadata": {
        "_cell_guid": "2b37af01-7da5-7cd5-ebe1-9a7b544cd0eb"
      },
      "outputs": [],
      "source": [
        "pred=model.predict(dtest)"
      ]
    },
    {
      "cell_type": "code",
      "execution_count": null,
      "metadata": {
        "_cell_guid": "95380a80-6b5c-17ad-689f-e7e83eaf2b00"
      },
      "outputs": [],
      "source": [
        "output= pd.DataFrame({'ID' : ID, 'y' : pred})"
      ]
    },
    {
      "cell_type": "code",
      "execution_count": null,
      "metadata": {
        "_cell_guid": "ab6433b2-f0f6-bde5-e530-fca72b479861"
      },
      "outputs": [],
      "source": [
        "output.head(5)"
      ]
    },
    {
      "cell_type": "code",
      "execution_count": null,
      "metadata": {
        "_cell_guid": "44ad037e-b103-f1a8-17a3-fa1f6130f9ce"
      },
      "outputs": [],
      "source": [
        "output.to_csv('preds_XGB.csv', index=False)"
      ]
    }
  ],
  "metadata": {
    "_change_revision": 0,
    "_is_fork": false,
    "kernelspec": {
      "display_name": "Python 3",
      "language": "python",
      "name": "python3"
    },
    "language_info": {
      "codemirror_mode": {
        "name": "ipython",
        "version": 3
      },
      "file_extension": ".py",
      "mimetype": "text/x-python",
      "name": "python",
      "nbconvert_exporter": "python",
      "pygments_lexer": "ipython3",
      "version": "3.6.0"
    }
  },
  "nbformat": 4,
  "nbformat_minor": 0
}