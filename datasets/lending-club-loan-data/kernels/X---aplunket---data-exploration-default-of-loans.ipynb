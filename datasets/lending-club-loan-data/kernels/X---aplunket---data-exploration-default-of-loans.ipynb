{
  "cells": [
    {
      "cell_type": "markdown",
      "metadata": {
        "_cell_guid": "eda4975b-4349-e1c9-bc4e-db89f058e08f"
      },
      "source": [
        "We are going to try and predict the if a loan will be late or default using the below data. The do the preprocessing and to explore the data."
      ]
    },
    {
      "cell_type": "markdown",
      "metadata": {
        "_cell_guid": "aa206540-7de9-a048-f660-f03b04e51631"
      },
      "source": [
        "### Import Libraries"
      ]
    },
    {
      "cell_type": "code",
      "execution_count": null,
      "metadata": {
        "_cell_guid": "ce215b75-318f-bc81-d962-a17c766fb6a4"
      },
      "outputs": [],
      "source": [
        "import numpy as np\n",
        "import pandas as pd\n",
        "\n",
        "import matplotlib.pyplot as plt\n",
        "import seaborn as sns\n",
        "\n",
        "%matplotlib inline\n",
        "sns.set(style='white', font_scale=0.9)"
      ]
    },
    {
      "cell_type": "markdown",
      "metadata": {
        "_cell_guid": "4a3ac358-75be-933d-b246-52ba49e25766"
      },
      "source": [
        "### Import DataSet"
      ]
    },
    {
      "cell_type": "code",
      "execution_count": null,
      "metadata": {
        "_cell_guid": "e8751d7e-d693-d20f-cb89-ec9e13423746"
      },
      "outputs": [],
      "source": [
        "dataset = pd.read_csv('../input/loan.csv')"
      ]
    },
    {
      "cell_type": "code",
      "execution_count": null,
      "metadata": {
        "_cell_guid": "3d8c0a29-9936-7364-a380-d623e4183841"
      },
      "outputs": [],
      "source": [
        "pd.set_option('display.max_columns', len(dataset.columns))\n",
        "dataset.head(3)"
      ]
    },
    {
      "cell_type": "code",
      "execution_count": null,
      "metadata": {
        "_cell_guid": "13719f79-36d1-9ec0-a8e8-918c90475943"
      },
      "outputs": [],
      "source": [
        " pd.reset_option('display.max_columns')"
      ]
    },
    {
      "cell_type": "markdown",
      "metadata": {
        "_cell_guid": "2d2717a8-b522-c24e-5007-af1654be4e6c"
      },
      "source": [
        "### Fix missing values - Categorical"
      ]
    },
    {
      "cell_type": "markdown",
      "metadata": {
        "_cell_guid": "d5f149da-8d80-26df-f3b6-c3b0556f3f82"
      },
      "source": [
        "For the categorical variables we are just going to replace NaN with 'Unknown'. \n",
        "\n",
        "We will fill verification_status_joint using the value in verification_status as these are all individual applications and these values are not filled out. "
      ]
    },
    {
      "cell_type": "code",
      "execution_count": null,
      "metadata": {
        "_cell_guid": "fd0c8aa5-04b4-e4cf-1d55-cb33b2f4cc41"
      },
      "outputs": [],
      "source": [
        "dataset['verification_status_joint'].fillna(dataset['verification_status'], inplace=True)"
      ]
    },
    {
      "cell_type": "code",
      "execution_count": null,
      "metadata": {
        "_cell_guid": "8464cb78-fc8e-b891-e7ee-6e79ceed2b54"
      },
      "outputs": [],
      "source": [
        "strColumns = dataset.select_dtypes(include=['object']).columns.values\n",
        "dataset[strColumns] = dataset[strColumns].fillna('Unknown')"
      ]
    },
    {
      "cell_type": "markdown",
      "metadata": {
        "_cell_guid": "91982f77-95d7-6388-6afa-6b848f571e71"
      },
      "source": [
        "Check that all the NaN values have been replaced"
      ]
    },
    {
      "cell_type": "code",
      "execution_count": null,
      "metadata": {
        "_cell_guid": "df4652fb-33fb-2a8a-ac31-cf167e50764a"
      },
      "outputs": [],
      "source": [
        "dataset.select_dtypes(exclude=[np.number]).isnull().sum()"
      ]
    },
    {
      "cell_type": "markdown",
      "metadata": {
        "_cell_guid": "2638075a-fce6-4b2b-87dd-bea9d35b3372"
      },
      "source": [
        "### Fix missing values - Numeric"
      ]
    },
    {
      "cell_type": "markdown",
      "metadata": {
        "_cell_guid": "6190857b-d60b-2942-fc41-e1b2b4077d4d"
      },
      "source": [
        "First we will check the number of missing values for each of the columns"
      ]
    },
    {
      "cell_type": "code",
      "execution_count": null,
      "metadata": {
        "_cell_guid": "d726b826-832e-9f64-2d1b-ecf20ce01627"
      },
      "outputs": [],
      "source": [
        "dataset.select_dtypes(include=[np.number]).isnull().sum()"
      ]
    },
    {
      "cell_type": "markdown",
      "metadata": {
        "_cell_guid": "e1fc7a66-ad50-24bd-6544-658d0367fe3e"
      },
      "source": [
        "The first columns that we are going to update are annual_inc_joint, dti_joint and verification_status_joint. For individual accounts these are blank but we want to use the joint values so we will populate these with the individual values for individual accounts."
      ]
    },
    {
      "cell_type": "code",
      "execution_count": null,
      "metadata": {
        "_cell_guid": "8f4d5938-a072-30c6-bd13-b86c6b2f4907"
      },
      "outputs": [],
      "source": [
        "dataset[dataset['application_type'] != 'INDIVIDUAL']['annual_inc_joint'].isnull().sum()"
      ]
    },
    {
      "cell_type": "code",
      "execution_count": null,
      "metadata": {
        "_cell_guid": "749d6466-81a7-a46d-bc0c-15203004516d"
      },
      "outputs": [],
      "source": [
        "dataset['annual_inc_joint'].fillna(dataset['annual_inc'], inplace=True)\n",
        "dataset['dti_joint'].fillna(dataset['dti'], inplace=True)"
      ]
    },
    {
      "cell_type": "markdown",
      "metadata": {
        "_cell_guid": "9eb7fcff-e125-daa7-4a6e-0a89a053c347"
      },
      "source": [
        "For the remainder of the missing values we are going to fix the missing values by replacing any NaN values with the mean values"
      ]
    },
    {
      "cell_type": "code",
      "execution_count": null,
      "metadata": {
        "_cell_guid": "85b1ad70-e1e8-24ac-9a48-a9b2df767430"
      },
      "outputs": [],
      "source": [
        "strColumns = dataset.select_dtypes(include=[np.number]).columns.values\n",
        "dataset[strColumns] = dataset[strColumns].fillna(dataset[strColumns].mean())"
      ]
    },
    {
      "cell_type": "markdown",
      "metadata": {
        "_cell_guid": "12c294da-a9bc-1da0-62f5-a4527b50ebd6"
      },
      "source": [
        "Again check that there are no more NaN values"
      ]
    },
    {
      "cell_type": "code",
      "execution_count": null,
      "metadata": {
        "_cell_guid": "f2a95faf-61a0-71a7-e9a7-85dd8198a1dc"
      },
      "outputs": [],
      "source": [
        "dataset.select_dtypes(include=[np.number]).isnull().sum()"
      ]
    },
    {
      "cell_type": "markdown",
      "metadata": {
        "_cell_guid": "b6e81717-821e-1ca6-fed4-345ba4a35fa4"
      },
      "source": [
        "### Create variable for default"
      ]
    },
    {
      "cell_type": "markdown",
      "metadata": {
        "_cell_guid": "fe221564-7abd-1eb7-1e3d-35ee25d6a0ba"
      },
      "source": [
        "The loan status field has a number of different values. We are going to group the defaulted into a single category. The current loans will also be removed from the dataset as we are unable to predict these one way or the other yet. "
      ]
    },
    {
      "cell_type": "code",
      "execution_count": null,
      "metadata": {
        "_cell_guid": "7b1b5d05-34e8-00ec-0631-481c745bc489"
      },
      "outputs": [],
      "source": [
        "dataset['loan_status'].value_counts()"
      ]
    },
    {
      "cell_type": "markdown",
      "metadata": {
        "_cell_guid": "94534279-5c9f-5c09-5ff6-fb8644f6b041"
      },
      "source": [
        "First we are going to remove the issued and does not meet credit policy loans as these are either brand new loans or loans that didn't meet the credit policy and were forced to be closed. We can't learn much from them in terms of predicting whether the client will default by themselves."
      ]
    },
    {
      "cell_type": "code",
      "execution_count": null,
      "metadata": {
        "_cell_guid": "59f1d13f-457c-b139-4bef-1f597b57accf"
      },
      "outputs": [],
      "source": [
        "dataset = dataset[~dataset['loan_status'].isin(['Issued',\n",
        "                                 'Does not meet the credit policy. Status:Fully Paid',\n",
        "                                 'Does not meet the credit policy. Status:Charged Off'\n",
        "                                ])]"
      ]
    },
    {
      "cell_type": "markdown",
      "metadata": {
        "_cell_guid": "2764e515-4157-6007-031a-384a152268f3"
      },
      "source": [
        "Next we are going to create a default. \n",
        "\n",
        "In grace period is technically a late payment but for this we are not going to include it as a default as these include timing of payments being a day late etc. We are more interested in predicting the loans that will be significantly late with a payment and eventually default on the loan. These are the loans and may have to be written off or sent to a collection agency."
      ]
    },
    {
      "cell_type": "code",
      "execution_count": null,
      "metadata": {
        "_cell_guid": "7abc2c72-6376-afbb-049c-cc26b37a4e44"
      },
      "outputs": [],
      "source": [
        "def CreateDefault(Loan_Status):\n",
        "    if Loan_Status in ['Current', 'Fully Paid', 'In Grace Period']:\n",
        "        return 0\n",
        "    else:\n",
        "        return 1 \n",
        "    \n",
        "dataset['Default'] = dataset['loan_status'].apply(lambda x: CreateDefault(x))"
      ]
    },
    {
      "cell_type": "markdown",
      "metadata": {
        "_cell_guid": "8291fedc-3ef7-78cb-a970-c905205f5338"
      },
      "source": [
        "### Exploring other categorical variables"
      ]
    },
    {
      "cell_type": "markdown",
      "metadata": {
        "_cell_guid": "de8fc6d1-9909-1e5b-956f-802a161efe15"
      },
      "source": [
        "Next we are going to look at a few of the other categorical variables to see how many labels they have"
      ]
    },
    {
      "cell_type": "code",
      "execution_count": null,
      "metadata": {
        "_cell_guid": "2b843819-d366-c960-a918-df2997e0a4ce"
      },
      "outputs": [],
      "source": [
        "dataset['term'].value_counts()"
      ]
    },
    {
      "cell_type": "markdown",
      "metadata": {
        "_cell_guid": "3611f0bb-5ce4-c9a7-1629-53858e692b16"
      },
      "source": [
        "The only two terms of loans that are provided by LC are either a 3 or 5 year loan."
      ]
    },
    {
      "cell_type": "code",
      "execution_count": null,
      "metadata": {
        "_cell_guid": "0ef98484-032d-a82b-0c66-370d365bfd9b"
      },
      "outputs": [],
      "source": [
        "dataset['emp_length'].value_counts()"
      ]
    },
    {
      "cell_type": "markdown",
      "metadata": {
        "_cell_guid": "4bfd1682-6a93-5044-0714-47a3d2a3a16d"
      },
      "source": [
        "For employment length we are going to convert this into a number field. For n/a we are going to include these along with the < 1 year as we can't be sure of the length of employment. This is because if a new customer was to not enter anything then we have to assume that they are not employed when predicting actual loans going forward."
      ]
    },
    {
      "cell_type": "code",
      "execution_count": null,
      "metadata": {
        "_cell_guid": "d1c30b85-f376-8ece-0a51-cf6a0c9a26aa"
      },
      "outputs": [],
      "source": [
        "def EmpLength(emp_len):\n",
        "    if emp_len[:2] == '10':\n",
        "        return 10\n",
        "    elif emp_len[:1] in ['<', 'n']:\n",
        "        return 0\n",
        "    else:\n",
        "        return int(emp_len[:1])\n",
        "    \n",
        "dataset['Emp_Length_Years'] = dataset['emp_length'].apply(lambda x: EmpLength(x))"
      ]
    },
    {
      "cell_type": "code",
      "execution_count": null,
      "metadata": {
        "_cell_guid": "135fa805-11b9-2308-f5ad-e5020c9dd6a9"
      },
      "outputs": [],
      "source": [
        "dataset['purpose'].value_counts()"
      ]
    },
    {
      "cell_type": "markdown",
      "metadata": {
        "_cell_guid": "053d85f2-6a1b-73d8-6fbb-2853a35d4a54"
      },
      "source": [
        "The vast majority of loans provided by LC are debt consolidation both of other loans and credit card debt."
      ]
    },
    {
      "cell_type": "code",
      "execution_count": null,
      "metadata": {
        "_cell_guid": "4ce26d93-9e2b-01e4-c71c-68552bc01ae6"
      },
      "outputs": [],
      "source": [
        "dataset['grade'].value_counts().sort_index()"
      ]
    },
    {
      "cell_type": "markdown",
      "metadata": {
        "_cell_guid": "1b1958b8-195a-4472-78c7-fd377ce58e00"
      },
      "source": [
        "The last column that we want to create is a year earliest credit line. We also need to update the records that were set to unknown to the mean. We will round the mean so that it is a full year"
      ]
    },
    {
      "cell_type": "code",
      "execution_count": null,
      "metadata": {
        "_cell_guid": "51e90b6a-88bc-b320-7b6b-66a646d1df49"
      },
      "outputs": [],
      "source": [
        "dataset['Earliest_Cr_Line_Yr'] = pd.to_numeric(dataset['earliest_cr_line'].str[-4:], errors='coerce').round(0)"
      ]
    },
    {
      "cell_type": "code",
      "execution_count": null,
      "metadata": {
        "_cell_guid": "432db4b3-e6be-e36b-7a0f-1ca41863598d"
      },
      "outputs": [],
      "source": [
        "dataset['Earliest_Cr_Line_Yr'].isnull().sum()"
      ]
    },
    {
      "cell_type": "code",
      "execution_count": null,
      "metadata": {
        "_cell_guid": "c1d80741-01ae-d7e3-f06a-398ccb279fa9"
      },
      "outputs": [],
      "source": [
        "dataset['Earliest_Cr_Line_Yr'] = dataset['Earliest_Cr_Line_Yr'].fillna(int(dataset['Earliest_Cr_Line_Yr'].mean()))"
      ]
    },
    {
      "cell_type": "code",
      "execution_count": null,
      "metadata": {
        "_cell_guid": "9d67b3ec-4a83-1170-110a-39c2e579e2a0"
      },
      "outputs": [],
      "source": [
        "dataset['Earliest_Cr_Line_Yr'].isnull().sum()"
      ]
    },
    {
      "cell_type": "markdown",
      "metadata": {
        "_cell_guid": "ad5934d9-6d6e-70bc-4cbe-98f62a78e35f"
      },
      "source": [
        "### Exploring the relationship of variables to late payment"
      ]
    },
    {
      "cell_type": "markdown",
      "metadata": {
        "_cell_guid": "4bec56c3-a5a9-43e9-f697-5b02e32a9b10"
      },
      "source": [
        "The first thing I'm keen to look at is the grade to see if the grade of the loan actually correlates to whether a loan will have a late payment or not."
      ]
    },
    {
      "cell_type": "markdown",
      "metadata": {
        "_cell_guid": "cd91cc70-f3bb-6858-0cda-b7cd31891cda"
      },
      "source": [
        "#### Grade"
      ]
    },
    {
      "cell_type": "code",
      "execution_count": null,
      "metadata": {
        "_cell_guid": "25f90618-ce72-606e-804a-5de1b0a2c4ec"
      },
      "outputs": [],
      "source": [
        "nNoLate = len(dataset[dataset['Default'] == 0])\n",
        "nLate = len(dataset[dataset['Default'] == 1])\n",
        "\n",
        "f, (ax1, ax2, ax3) = plt.subplots(1, 3, sharey=True, figsize=(9, 3))\n",
        "\n",
        "sns.barplot(x='grade', y='id', data=dataset, \n",
        "            estimator=lambda x: len(x) / (nLate + nNoLate) * 100,\n",
        "            ax=ax1, order=sorted(dataset['grade'].unique()), palette='deep')\n",
        "sns.barplot(x='grade', y='id', data=dataset[dataset['Default'] == 0], \n",
        "            estimator=lambda x: len(x) / nNoLate * 100,\n",
        "            ax=ax2, order=sorted(dataset['grade'].unique()), palette='deep')\n",
        "sns.barplot(x='grade', y='id', data=dataset[dataset['Default'] == 1], \n",
        "            estimator=lambda x: len(x) / nLate * 100,\n",
        "            ax=ax3, order=sorted(dataset['grade'].unique()), palette='deep')\n",
        "\n",
        "ax1.set_title('Overall')\n",
        "ax2.set_title('No Default')\n",
        "ax3.set_title('Default')\n",
        "ax1.set_ylabel('Percentage')\n",
        "ax2.set_ylabel('')\n",
        "ax3.set_ylabel('')\n",
        "\n",
        "plt.tight_layout()\n",
        "plt.show()"
      ]
    },
    {
      "cell_type": "markdown",
      "metadata": {
        "_cell_guid": "131807d7-cb05-d91f-d2ef-31ef06a3de90"
      },
      "source": [
        "The grade of the loan is the companies estimate of the likelyhood of default for the loan. As should probably be expected the best graded loans (A and B) have a higher percentage of loans with no default than with a default. C is approximately the same percentage across no default and default and the worst graded loans (D, E, F and G) have a higher percentage of loans with default than with no default."
      ]
    },
    {
      "cell_type": "markdown",
      "metadata": {
        "_cell_guid": "e7ddd390-911f-2493-6a2a-750ce000a087"
      },
      "source": [
        "#### Loan Amount"
      ]
    },
    {
      "cell_type": "code",
      "execution_count": null,
      "metadata": {
        "_cell_guid": "2eb4a23d-0ae1-f1aa-3614-3ca76dab174e"
      },
      "outputs": [],
      "source": [
        "f, (ax1, ax2) = plt.subplots(2, 1, figsize=(7, 3))\n",
        "\n",
        "sns.distplot(dataset[dataset['Default'] == 0]['loan_amnt'], bins=40, ax=ax1, kde=False)\n",
        "sns.distplot(dataset[dataset['Default'] == 1]['loan_amnt'], bins=40, ax=ax2, kde=False)\n",
        "\n",
        "ax1.set_title('No Default')\n",
        "ax2.set_title('Default')\n",
        "\n",
        "ax1.set_xbound(lower=0)\n",
        "ax2.set_xbound(lower=0)\n",
        "\n",
        "plt.tight_layout()\n",
        "plt.show()"
      ]
    },
    {
      "cell_type": "code",
      "execution_count": null,
      "metadata": {
        "_cell_guid": "1539da3e-0015-9fd4-083f-1e66abd1e787"
      },
      "outputs": [],
      "source": [
        "ax1 = sns.violinplot(x='Default', y='loan_amnt', data=dataset)\n",
        "ax1.set_ybound(lower=0)\n",
        "plt.show()"
      ]
    },
    {
      "cell_type": "markdown",
      "metadata": {
        "_cell_guid": "ec6a51cd-870d-db88-c1b5-732f677abfc4"
      },
      "source": [
        "Both No default and default have a resonably similar distribution of loan the loan amount"
      ]
    },
    {
      "cell_type": "markdown",
      "metadata": {
        "_cell_guid": "c74a1111-77cf-a7cb-c488-3a607beb0e21"
      },
      "source": [
        "#### Loan Term"
      ]
    },
    {
      "cell_type": "code",
      "execution_count": null,
      "metadata": {
        "_cell_guid": "fe7e8e09-c344-9668-ea5e-69c6df45a22f"
      },
      "outputs": [],
      "source": [
        "nNoLate = len(dataset[dataset['Default'] == 0])\n",
        "nLate = len(dataset[dataset['Default'] == 1])\n",
        "\n",
        "f, (ax1, ax2, ax3) = plt.subplots(1, 3, sharey=True, figsize=(9, 3))\n",
        "\n",
        "sns.barplot(x='term', y='id', data=dataset, \n",
        "            estimator=lambda x: len(x) / (nLate + nNoLate) * 100,\n",
        "            ax=ax1, order=sorted(dataset['term'].unique()), palette='deep')\n",
        "sns.barplot(x='term', y='id', data=dataset[dataset['Default'] == 0], \n",
        "            estimator=lambda x: len(x) / nNoLate * 100,\n",
        "            ax=ax2, order=sorted(dataset['term'].unique()), palette='deep')\n",
        "sns.barplot(x='term', y='id', data=dataset[dataset['Default'] == 1], \n",
        "            estimator=lambda x: len(x) / nLate * 100,\n",
        "            ax=ax3, order=sorted(dataset['term'].unique()), palette='deep')\n",
        "\n",
        "ax1.set_title('Overall')\n",
        "ax2.set_title('No Default')\n",
        "ax3.set_title('Default')\n",
        "ax1.set_ylabel('Percentage')\n",
        "ax2.set_ylabel('')\n",
        "ax3.set_ylabel('')\n",
        "\n",
        "plt.tight_layout()\n",
        "plt.show()"
      ]
    },
    {
      "cell_type": "markdown",
      "metadata": {
        "_cell_guid": "49ce5915-f0cc-b1f9-fac4-0364f5c1da1c"
      },
      "source": [
        "The longer term loans (60 months) make up a higher percentage of the defaults than the non defaulting loans."
      ]
    },
    {
      "cell_type": "markdown",
      "metadata": {
        "_cell_guid": "7db61db9-5c44-3639-d192-e2effb51d125"
      },
      "source": [
        "#### Interest Rate"
      ]
    },
    {
      "cell_type": "code",
      "execution_count": null,
      "metadata": {
        "_cell_guid": "451ea37f-9426-9a55-5046-2a5afe79ec59"
      },
      "outputs": [],
      "source": [
        "f, (ax1, ax2) = plt.subplots(2, 1, figsize=(7, 3))\n",
        "\n",
        "sns.distplot(dataset[dataset['Default'] == 0]['int_rate'], bins=30, ax=ax1, kde=False)\n",
        "sns.distplot(dataset[dataset['Default'] == 1]['int_rate'], bins=30, ax=ax2, kde=False)\n",
        "\n",
        "ax1.set_title('No Default')\n",
        "ax2.set_title('Default')\n",
        "\n",
        "ax1.set_xbound(lower=0)\n",
        "ax2.set_xbound(lower=0)\n",
        "\n",
        "plt.tight_layout()\n",
        "plt.show()"
      ]
    },
    {
      "cell_type": "code",
      "execution_count": null,
      "metadata": {
        "_cell_guid": "406a12c1-a36e-059b-589b-eef80c91d82b"
      },
      "outputs": [],
      "source": [
        "ax1 = sns.boxplot(x='Default', y='int_rate', data=dataset)\n",
        "ax1.set_ybound(lower=0)\n",
        "plt.show()"
      ]
    },
    {
      "cell_type": "markdown",
      "metadata": {
        "_cell_guid": "5206470e-2eac-73bf-c54c-7b697cd64c09"
      },
      "source": [
        "The defaulting loans have a higher interest rate than non defaulting loans."
      ]
    },
    {
      "cell_type": "code",
      "execution_count": null,
      "metadata": {
        "_cell_guid": "cf912778-21ee-c691-77eb-5b73b2fa2bec"
      },
      "outputs": [],
      "source": [
        "ax1 = sns.boxplot(x='grade', y='int_rate', data=dataset, hue='Default', \n",
        "                     order=sorted(dataset['grade'].unique()))\n",
        "ax1.set_ybound(lower=0)\n",
        "plt.show()"
      ]
    },
    {
      "cell_type": "markdown",
      "metadata": {
        "_cell_guid": "8da58e3a-133c-c7c6-9f95-d068ccbf883b"
      },
      "source": [
        "Even controlling for the grade of the loan (as this will be used to calculate the interest rate) the defaulting loans still have a higher interest rate than non defaulting loans until you get to grades F and G"
      ]
    },
    {
      "cell_type": "markdown",
      "metadata": {
        "_cell_guid": "3b773034-891d-45b8-9b48-7dd4b70b6c0b"
      },
      "source": [
        "#### Annual Income"
      ]
    },
    {
      "cell_type": "code",
      "execution_count": null,
      "metadata": {
        "_cell_guid": "cfa41707-ac65-f910-335e-7b9f9efc0637"
      },
      "outputs": [],
      "source": [
        "ax1 = sns.boxplot(x='Default', y='annual_inc', data=dataset)\n",
        "ax1.set_ybound(lower=0)\n",
        "ax1.set_yscale('log')\n",
        "\n",
        "plt.show()"
      ]
    },
    {
      "cell_type": "markdown",
      "metadata": {
        "_cell_guid": "fb16b4bd-fe07-8825-19a0-a9b6ca24ca23"
      },
      "source": [
        "Defaulting loans have a lower annual income than the non defaulting loans. There are very few joint applications so we won't create graphs for joint income as well for these but we will may these variables when creating models."
      ]
    },
    {
      "cell_type": "markdown",
      "metadata": {
        "_cell_guid": "9f7dded5-d66f-2268-5b8c-8825c2acafb1"
      },
      "source": [
        "#### Debt to Income Ratio"
      ]
    },
    {
      "cell_type": "code",
      "execution_count": null,
      "metadata": {
        "_cell_guid": "f99729bb-f7b2-d8fb-fa9c-2d98e50538c1"
      },
      "outputs": [],
      "source": [
        "ax1 = sns.boxplot(x='Default', y='dti', data=dataset)\n",
        "ax1.set_ybound(lower=0, upper=50)\n",
        "plt.show()"
      ]
    },
    {
      "cell_type": "markdown",
      "metadata": {
        "_cell_guid": "6bd9c816-65d5-5be0-4d0c-e7d1c828a5bb"
      },
      "source": [
        "Defaulting loans have a higher DTI"
      ]
    },
    {
      "cell_type": "markdown",
      "metadata": {
        "_cell_guid": "0a03e0ea-b02a-481c-0948-3568cd6978a1"
      },
      "source": [
        "#### Home Ownership"
      ]
    },
    {
      "cell_type": "code",
      "execution_count": null,
      "metadata": {
        "_cell_guid": "0b81909b-1f2f-8e32-90ed-8c9223978157"
      },
      "outputs": [],
      "source": [
        "nNoLate = len(dataset[dataset['Default'] == 0])\n",
        "nLate = len(dataset[dataset['Default'] == 1])\n",
        "\n",
        "f, (ax1, ax2, ax3) = plt.subplots(1, 3, sharey=True, figsize=(9, 3))\n",
        "\n",
        "sns.barplot(x='home_ownership', y='id', data=dataset, \n",
        "            estimator=lambda x: len(x) / (nLate + nNoLate) * 100,\n",
        "            ax=ax1, order=['MORTGAGE', 'OWN', 'RENT'], palette='deep')\n",
        "sns.barplot(x='home_ownership', y='id', data=dataset[dataset['Default'] == 0], \n",
        "            estimator=lambda x: len(x) / nNoLate * 100,\n",
        "            ax=ax2, order=['MORTGAGE', 'OWN', 'RENT'], palette='deep')\n",
        "sns.barplot(x='home_ownership', y='id', data=dataset[dataset['Default'] == 1], \n",
        "            estimator=lambda x: len(x) / nLate * 100,\n",
        "            ax=ax3, order=['MORTGAGE', 'OWN', 'RENT'], palette='deep')\n",
        "\n",
        "ax1.set_title('Overall')\n",
        "ax2.set_title('No Default')\n",
        "ax3.set_title('Default')\n",
        "ax1.set_ylabel('Percentage')\n",
        "ax2.set_ylabel('')\n",
        "ax3.set_ylabel('')\n",
        "\n",
        "plt.tight_layout()\n",
        "plt.show()"
      ]
    },
    {
      "cell_type": "markdown",
      "metadata": {
        "_cell_guid": "33bad3e6-d704-36c9-dec5-7d1efde01fcf"
      },
      "source": [
        "Renters make up a higher percentage of defaults than non defaults."
      ]
    },
    {
      "cell_type": "markdown",
      "metadata": {
        "_cell_guid": "c06aa559-5690-f4d8-a2a4-f633c19c9063"
      },
      "source": [
        "#### Length of Employment"
      ]
    },
    {
      "cell_type": "code",
      "execution_count": null,
      "metadata": {
        "_cell_guid": "4e766432-8679-3f4a-3494-51f7a894b1e5"
      },
      "outputs": [],
      "source": [
        "nNoLate = len(dataset[dataset['Default'] == 0])\n",
        "nLate = len(dataset[dataset['Default'] == 1])\n",
        "\n",
        "f, (ax1, ax2, ax3) = plt.subplots(1, 3, sharey=True, figsize=(9, 3))\n",
        "\n",
        "sns.barplot(x='Emp_Length_Years', y='id', data=dataset, \n",
        "            estimator=lambda x: len(x) / (nLate + nNoLate) * 100,\n",
        "            ax=ax1, palette='deep')\n",
        "sns.barplot(x='Emp_Length_Years', y='id', data=dataset[dataset['Default'] == 0], \n",
        "            estimator=lambda x: len(x) / nNoLate * 100,\n",
        "            ax=ax2, palette='deep')\n",
        "sns.barplot(x='Emp_Length_Years', y='id', data=dataset[dataset['Default'] == 1], \n",
        "            estimator=lambda x: len(x) / nLate * 100,\n",
        "            ax=ax3, palette='deep')\n",
        "\n",
        "ax1.set_title('Overall')\n",
        "ax2.set_title('No Default')\n",
        "ax3.set_title('Default')\n",
        "ax1.set_ylabel('Percentage')\n",
        "ax2.set_ylabel('')\n",
        "ax3.set_ylabel('')\n",
        "\n",
        "plt.tight_layout()\n",
        "plt.show()"
      ]
    },
    {
      "cell_type": "markdown",
      "metadata": {
        "_cell_guid": "839dcb51-a674-3596-8622-b7940b0d05b8"
      },
      "source": [
        "Employees that have been at a company 10+ years have lower percentage of the total Defaults than the No Defaults"
      ]
    },
    {
      "cell_type": "markdown",
      "metadata": {
        "_cell_guid": "b12f52c1-167d-e195-c076-df549cf6ede8"
      },
      "source": [
        "#### Earliest Line of Credit"
      ]
    },
    {
      "cell_type": "code",
      "execution_count": null,
      "metadata": {
        "_cell_guid": "6bb048f1-4cde-4b42-e6ed-3fdb187ef26f"
      },
      "outputs": [],
      "source": [
        "ax1 = sns.boxplot(x='Default', y='Earliest_Cr_Line_Yr', data=dataset)\n",
        "plt.show()"
      ]
    }
  ],
  "metadata": {
    "_change_revision": 0,
    "_is_fork": false,
    "kernelspec": {
      "display_name": "Python 3",
      "language": "python",
      "name": "python3"
    },
    "language_info": {
      "codemirror_mode": {
        "name": "ipython",
        "version": 3
      },
      "file_extension": ".py",
      "mimetype": "text/x-python",
      "name": "python",
      "nbconvert_exporter": "python",
      "pygments_lexer": "ipython3",
      "version": "3.5.2"
    }
  },
  "nbformat": 4,
  "nbformat_minor": 0
}