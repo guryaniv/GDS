{"cells":[
 {
  "cell_type": "code",
  "execution_count": null,
  "metadata": {
   "collapsed": true
  },
  "outputs": [],
  "source": "%matplotlib inline"
 },
 {
  "cell_type": "code",
  "execution_count": null,
  "metadata": {
   "collapsed": false
  },
  "outputs": [],
  "source": "import pandas as pd\nimport matplotlib.pyplot as plt\nimport seaborn as sns\n\ntrain = pd.read_csv(\"../input/train.csv\")\ntest = pd.read_csv(\"../input/test.csv\")"
 },
 {
  "cell_type": "code",
  "execution_count": null,
  "metadata": {
   "collapsed": false
  },
  "outputs": [],
  "source": "train['Original_Quote_Date_Typed'] = pd.to_datetime(train.Original_Quote_Date)\ntrain['month'] = train.Original_Quote_Date_Typed.apply(lambda x: x.strftime('%m'))\ntrain['day_of_week'] = train.Original_Quote_Date_Typed.apply(lambda x: x.strftime('%w'))\n\ntest['Original_Quote_Date_Typed'] = pd.to_datetime(test.Original_Quote_Date)\ntest['month'] = test.Original_Quote_Date_Typed.apply(lambda x: x.strftime('%m'))\ntest['day_of_week'] = test.Original_Quote_Date_Typed.apply(lambda x: x.strftime('%w'))"
 },
 {
  "cell_type": "code",
  "execution_count": null,
  "metadata": {
   "collapsed": false
  },
  "outputs": [],
  "source": "train_by_month = train[[\"month\", \"QuoteNumber\"]].groupby(['month'],as_index=False).count()\n\nfig, axis1 = plt.subplots(1,1,figsize=(15,4))\nsns.barplot(x='month', y='QuoteNumber', data=train_by_month)"
 },
 {
  "cell_type": "code",
  "execution_count": null,
  "metadata": {
   "collapsed": false
  },
  "outputs": [],
  "source": "test_by_month = test[[\"month\", \"QuoteNumber\"]].groupby(['month'],as_index=False).count()\n\nfig, axis1 = plt.subplots(1,1,figsize=(15,4))\nsns.barplot(x='month', y='QuoteNumber', data=test_by_month)"
 },
 {
  "cell_type": "code",
  "execution_count": null,
  "metadata": {
   "collapsed": false
  },
  "outputs": [],
  "source": "print('PersonalField10A with -1: '+str(len(train[train[\"PersonalField10A\"] == -1])))\nprint('PersonalField10A with -1 and converted: '+str(len(train[(train[\"PersonalField10A\"] == -1) & (train['QuoteConversion_Flag'] == 1)])))\n\ntrain_by_prf10a = train[[\"PersonalField10A\", \"QuoteNumber\"]].groupby(['PersonalField10A'],as_index=False).count()\nfig, axis1 = plt.subplots(1,1,figsize=(15,4))\nsns.barplot(x='PersonalField10A', y='QuoteNumber', data=train_by_prf10a)"
 },
 {
  "cell_type": "code",
  "execution_count": null,
  "metadata": {
   "collapsed": false
  },
  "outputs": [],
  "source": "train_prf10_m1 = train[train[\"PersonalField10A\"] == -1]\n\ntrain_prf10_m1_by_month = train_prf10_m1[[\"month\", \"QuoteNumber\"]].groupby(['month'],as_index=False).count()\nfig, axis1 = plt.subplots(1,1,figsize=(15,4))\nsns.barplot(x='month', y='QuoteNumber', data=train_prf10_m1_by_month)"
 },
 {
  "cell_type": "code",
  "execution_count": null,
  "metadata": {
   "collapsed": false
  },
  "outputs": [],
  "source": "print('PersonalField10B with -1: '+str(len(train[train[\"PersonalField10B\"] == -1])))\n\ntrain_by_prf10b = train[[\"PersonalField10B\", \"QuoteNumber\"]].groupby(['PersonalField10B'],as_index=False).count()\nfig, axis1 = plt.subplots(1,1,figsize=(15,4))\nsns.barplot(x='PersonalField10B', y='QuoteNumber', data=train_by_prf10b)"
 },
 {
  "cell_type": "code",
  "execution_count": null,
  "metadata": {
   "collapsed": false
  },
  "outputs": [],
  "source": "print('PropertyField20 not 0: '+str(len(train[train[\"PropertyField20\"] != 0])))\n\ntrain_by_prf20 = train[[\"PropertyField20\", \"QuoteNumber\"]].groupby(['PropertyField20'],as_index=False).count()\nfig, axis1 = plt.subplots(1,1,figsize=(15,4))\nsns.barplot(x='PropertyField20', y='QuoteNumber', data=train_by_prf20)"
 },
 {
  "cell_type": "code",
  "execution_count": null,
  "metadata": {
   "collapsed": false
  },
  "outputs": [],
  "source": "print('PersonalField8 not 1: '+str(len(train[train[\"PersonalField8\"] != 1])))\n\ntrain_by_pef8 = train[[\"PersonalField8\", \"QuoteNumber\"]].groupby(['PersonalField8'],as_index=False).count()\nfig, axis1 = plt.subplots(1,1,figsize=(15,4))\nsns.barplot(x='PersonalField8', y='QuoteNumber', data=train_by_pef8)"
 },
 {
  "cell_type": "code",
  "execution_count": null,
  "metadata": {
   "collapsed": false
  },
  "outputs": [],
  "source": "print('GeographicField22A not -1: '+str(len(train[train[\"GeographicField22A\"] != -1])))\nprint('GeographicField22A not -1 and converted: '+str(len(train[(train[\"GeographicField22A\"] != -1) & (train['QuoteConversion_Flag'] == 1)])))\n\ntrain_by_pef8 = train[[\"GeographicField22A\", \"QuoteNumber\"]].groupby(['GeographicField22A'],as_index=False).count()\nfig, axis1 = plt.subplots(1,1,figsize=(15,4))\nsns.barplot(x='GeographicField22A', y='QuoteNumber', data=train_by_pef8)"
 },
 {
  "cell_type": "code",
  "execution_count": null,
  "metadata": {
   "collapsed": false
  },
  "outputs": [],
  "source": "print('GeographicField23A not -1: '+str(len(train[train[\"GeographicField23A\"] != -1])))\nprint('GeographicField23A not -1 and converted: '+str(len(train[(train[\"GeographicField23A\"] != -1) & (train['QuoteConversion_Flag'] == 1)])))\n\ntrain_by_pef8 = train[[\"GeographicField23A\", \"QuoteNumber\"]].groupby(['GeographicField23A'],as_index=False).count()\nfig, axis1 = plt.subplots(1,1,figsize=(15,4))\nsns.barplot(x='GeographicField23A', y='QuoteNumber', data=train_by_pef8)"
 },
 {
  "cell_type": "code",
  "execution_count": null,
  "metadata": {
   "collapsed": false
  },
  "outputs": [],
  "source": "print('GeographicField61A not -1: '+str(len(train[train[\"GeographicField61A\"] != -1])))\nprint('GeographicField61A not -1 and converted: '+str(len(train[(train[\"GeographicField61A\"] != -1) & (train['QuoteConversion_Flag'] == 1)])))\n\ntrain_by_gef61a = train[[\"GeographicField61A\", \"QuoteNumber\"]].groupby(['GeographicField61A'],as_index=False).count()\nfig, axis1 = plt.subplots(1,1,figsize=(15,4))\nsns.barplot(x='GeographicField61A', y='QuoteNumber', data=train_by_gef61a)"
 },
 {
  "cell_type": "code",
  "execution_count": null,
  "metadata": {
   "collapsed": false
  },
  "outputs": [],
  "source": "print('GeographicField62A not -1: '+str(len(train[train[\"GeographicField62A\"] != -1])))\nprint('GeographicField62A not -1 and converted: '+str(len(train[(train[\"GeographicField62A\"] != -1) & (train['QuoteConversion_Flag'] == 1)])))\n\ntrain_by_gef62a = train[[\"GeographicField62A\", \"QuoteNumber\"]].groupby(['GeographicField62A'],as_index=False).count()\nfig, axis1 = plt.subplots(1,1,figsize=(15,4))\nsns.barplot(x='GeographicField62A', y='QuoteNumber', data=train_by_gef62a)"
 },
 {
  "cell_type": "code",
  "execution_count": null,
  "metadata": {
   "collapsed": false
  },
  "outputs": [],
  "source": "train_converted = train[train[\"QuoteConversion_Flag\"] == 1]\n\ntrain_converted_by_month = train_converted[[\"month\", \"QuoteNumber\"]].groupby(['month'],as_index=False).count()\nfig, axis1 = plt.subplots(1,1,figsize=(15,4))\nsns.barplot(x='month', y='QuoteNumber', data=train_converted_by_month)"
 },
 {
  "cell_type": "code",
  "execution_count": null,
  "metadata": {
   "collapsed": false
  },
  "outputs": [],
  "source": ""
 }
],"metadata":{"kernelspec":{"display_name":"Python 3","language":"python","name":"python3"}}, "nbformat": 4, "nbformat_minor": 0}