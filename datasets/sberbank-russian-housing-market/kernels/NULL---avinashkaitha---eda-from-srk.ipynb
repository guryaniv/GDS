{
  "cells": [
    {
      "cell_type": "code",
      "execution_count": null,
      "metadata": {
        "_cell_guid": "ac56f0d4-63ce-add5-85f9-10dd946088b2"
      },
      "outputs": [],
      "source": [
        "import numpy as np # linear algebra\n",
        "import pandas as pd # data processing, CSV file I/O (e.g. pd.read_csv)\n",
        "import matplotlib.pyplot as plt\n",
        "import seaborn as sns\n",
        "from sklearn import model_selection, preprocessing\n",
        "import xgboost as xgb\n",
        "color = sns.color_palette()\n",
        "\n",
        "%matplotlib inline\n",
        "\n",
        "pd.options.mode.chained_assignment = None  # default='warn'\n",
        "pd.set_option('display.max_columns', 500)"
      ]
    },
    {
      "cell_type": "code",
      "execution_count": null,
      "metadata": {
        "_cell_guid": "f5682249-06f0-be62-36db-2992ea325534"
      },
      "outputs": [],
      "source": [
        "train_data = pd.read_csv(\"../input/train.csv\")\n",
        "print(train_data.shape)"
      ]
    },
    {
      "cell_type": "code",
      "execution_count": null,
      "metadata": {
        "_cell_guid": "1df6ab05-7b9c-9fdd-8f28-4dea6a6cf625"
      },
      "outputs": [],
      "source": [
        "train_data.head()"
      ]
    },
    {
      "cell_type": "code",
      "execution_count": null,
      "metadata": {
        "_cell_guid": "468a0d28-e64c-fa25-40b4-6ae9403a0cfc"
      },
      "outputs": [],
      "source": [
        "plt.figure(figsize=(8,6))\n",
        "plt.scatter(range(train_data.shape[0]), np.sort(train_data.price_doc.values))\n",
        "plt.xlabel('index',fontsize=12)\n",
        "plt.ylabel('price',fontsize=12)\n",
        "plt.show()"
      ]
    },
    {
      "cell_type": "code",
      "execution_count": null,
      "metadata": {
        "_cell_guid": "27bb1943-fb87-81c7-0703-cedbe37967f9"
      },
      "outputs": [],
      "source": [
        "plt.figure(figsize=(12,8))\n",
        "sns.distplot(train_data.price_doc.values, bins=50, kde=True)\n",
        "plt.xlabel('price', fontsize=12)\n",
        "plt.show()"
      ]
    },
    {
      "cell_type": "code",
      "execution_count": null,
      "metadata": {
        "_cell_guid": "91a47ecb-ca0d-fd5e-faf7-2b0f3df193a0"
      },
      "outputs": [],
      "source": [
        "plt.figure(figsize=(12,8))\n",
        "sns.distplot(np.log(train_data.price_doc.values), bins=50, kde=True)\n",
        "plt.xlabel('price', fontsize=12)\n",
        "plt.show()"
      ]
    },
    {
      "cell_type": "code",
      "execution_count": null,
      "metadata": {
        "_cell_guid": "9627d47c-f2c3-8e49-ff4f-bb3d8587e802"
      },
      "outputs": [],
      "source": [
        "train_data['yearmonth'] = train_data['timestamp'].apply(lambda x: x[:4]+x[5:7])\n",
        "grouped_data = train_data.groupby('yearmonth')['price_doc'].aggregate(np.median).reset_index()\n"
      ]
    },
    {
      "cell_type": "code",
      "execution_count": null,
      "metadata": {
        "_cell_guid": "6122ad68-7e87-3167-94ea-5fec4f24b3ea"
      },
      "outputs": [],
      "source": [
        "plt.figure(figsize=(12,8))\n",
        "sns.barplot(grouped_data.yearmonth.values, grouped_data.price_doc.values,alpha=0.8,color=color[1])\n",
        "plt.ylabel('Median Price', fontsize=12)\n",
        "plt.xlabel('Year Month', fontsize=12)\n",
        "plt.xticks(rotation='vertical')\n",
        "plt.show()"
      ]
    },
    {
      "cell_type": "code",
      "execution_count": null,
      "metadata": {
        "_cell_guid": "e1088308-d306-158c-5ffc-adbfb02e2b9a"
      },
      "outputs": [],
      "source": [
        "train_df = pd.read_csv(\"../input/train.csv\", parse_dates=['timestamp'])\n",
        "dtype_df = train_df.dtypes.reset_index()\n",
        "dtype_df.columns = [\"Count\", \"Column Type\"]\n",
        "dtype_df.groupby(\"Column Type\").aggregate('count').reset_index()"
      ]
    },
    {
      "cell_type": "code",
      "execution_count": null,
      "metadata": {
        "_cell_guid": "11be9a23-0795-1d2a-5f0b-66d6479aee72"
      },
      "outputs": [],
      "source": [
        ""
      ]
    }
  ],
  "metadata": {
    "_change_revision": 0,
    "_is_fork": false,
    "kernelspec": {
      "display_name": "Python 3",
      "language": "python",
      "name": "python3"
    },
    "language_info": {
      "codemirror_mode": {
        "name": "ipython",
        "version": 3
      },
      "file_extension": ".py",
      "mimetype": "text/x-python",
      "name": "python",
      "nbconvert_exporter": "python",
      "pygments_lexer": "ipython3",
      "version": "3.6.0"
    }
  },
  "nbformat": 4,
  "nbformat_minor": 0
}