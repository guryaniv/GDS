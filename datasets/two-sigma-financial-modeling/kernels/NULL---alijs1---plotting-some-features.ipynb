{
  "cells": [
    {
      "cell_type": "markdown",
      "metadata": {
        "_cell_guid": "e53d3d9b-fa03-bf62-2847-cb51daa5a676"
      },
      "source": [
        "Features to analyze is taken accoring to results of my previous notebook: https://www.kaggle.com/alijs1/two-sigma-financial-modeling/quick-look-at-what-is-important-and-what-is-not\n",
        "\n",
        "Let's take a look at simple plots of feature mean and median values... "
      ]
    },
    {
      "cell_type": "code",
      "execution_count": null,
      "metadata": {
        "_cell_guid": "35bf6d24-bbe1-d77c-4ff4-09818f889c08"
      },
      "outputs": [],
      "source": [
        "import numpy as np \n",
        "import pandas as pd\n",
        "cols = [\"y\",\"technical_20\",\"fundamental_53\",\"technical_30\",\"technical_27\",\"derived_0\",\"fundamental_42\",\"fundamental_48\"]\n",
        "cols_to_read = cols + [\"timestamp\"]\n",
        "df = pd.read_hdf(\"../input/train.h5\")[cols_to_read]\n",
        "print(\"Data shape: {}\".format(df.shape))"
      ]
    },
    {
      "cell_type": "code",
      "execution_count": null,
      "metadata": {
        "_cell_guid": "82c193a7-44c7-4fd5-eefc-f78726761c94"
      },
      "outputs": [],
      "source": [
        "import matplotlib.pyplot as plt\n",
        "# idea of timediff periods taken from anokas notebook: https://www.kaggle.com/anokas/two-sigma-financial-modeling/two-sigma-time-travel-eda/notebook\n",
        "timediff = df.groupby('timestamp')['timestamp'].count().diff()\n",
        "for col in cols:\n",
        "    data = df.groupby('timestamp')[col].mean()\n",
        "    plt.figure(figsize=(9, 5))\n",
        "    plt.plot(data)\n",
        "    plt.xlabel('Timestamp')\n",
        "    plt.ylabel('Mean of %s' % col)\n",
        "    plt.title('Mean value of %s over time' % col)\n",
        "    for i in timediff[timediff > 5].index:\n",
        "        plt.axvline(x=i, linewidth=0.25, color='red')"
      ]
    },
    {
      "cell_type": "code",
      "execution_count": null,
      "metadata": {
        "_cell_guid": "afb4abd9-352e-5993-2bda-c28c88632166"
      },
      "outputs": [],
      "source": [
        "for col in cols:\n",
        "    data = df.dropna().groupby('timestamp')[col].median()\n",
        "    plt.figure(figsize=(9, 5))\n",
        "    plt.plot(data)\n",
        "    plt.xlabel('Timestamp')\n",
        "    plt.ylabel('Median of %s' % col)\n",
        "    plt.title('Median value of %s over time' % col)\n",
        "    for i in timediff[timediff > 5].index:\n",
        "        plt.axvline(x=i, linewidth=0.25, color='red')"
      ]
    },
    {
      "cell_type": "code",
      "execution_count": null,
      "metadata": {
        "_cell_guid": "aef61754-4f87-5923-2fa6-cab600b00c1f"
      },
      "outputs": [],
      "source": [
        "for col in cols:\n",
        "    nancnt = df[col].isnull().sum()\n",
        "    print(\"%16s %s nan\" % (col, str(nancnt)))"
      ]
    },
    {
      "cell_type": "markdown",
      "metadata": {
        "_cell_guid": "4c6faaf2-7ad8-4d17-fe90-b2f06d9f0469"
      },
      "source": [
        "Features technical_20 and technical_30 looks interesting (median plots and same nan counts). So, can anybody see some more interesting things here?"
      ]
    }
  ],
  "metadata": {
    "_change_revision": 0,
    "_is_fork": false,
    "kernelspec": {
      "display_name": "Python 3",
      "language": "python",
      "name": "python3"
    },
    "language_info": {
      "codemirror_mode": {
        "name": "ipython",
        "version": 3
      },
      "file_extension": ".py",
      "mimetype": "text/x-python",
      "name": "python",
      "nbconvert_exporter": "python",
      "pygments_lexer": "ipython3",
      "version": "3.5.2"
    }
  },
  "nbformat": 4,
  "nbformat_minor": 0
}