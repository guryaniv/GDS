{
  "cells": [
    {
      "cell_type": "code",
      "execution_count": null,
      "metadata": {
        "_cell_guid": "6911ce7b-9545-6951-10e4-1606078fc953"
      },
      "outputs": [],
      "source": [
        "# This Python 3 environment comes with many helpful analytics libraries installed\n",
        "# It is defined by the kaggle/python docker image: https://github.com/kaggle/docker-python\n",
        "# For example, here's several helpful packages to load in \n",
        "\n",
        "import numpy as np # linear algebra\n",
        "import pandas as pd # data processing, CSV file I/O (e.g. pd.read_csv)\n",
        "\n",
        "# Input data files are available in the \"../input/\" directory.\n",
        "# For example, running this (by clicking run or pressing Shift+Enter) will list the files in the input directory\n",
        "\n",
        "from subprocess import check_output\n",
        "print(check_output([\"ls\", \"../input\"]).decode(\"utf8\"))\n",
        "\n",
        "# Any results you write to the current directory are saved as output."
      ]
    },
    {
      "cell_type": "code",
      "execution_count": null,
      "metadata": {
        "_cell_guid": "46354f5b-6419-eff2-f4cc-8866a49bbe23"
      },
      "outputs": [],
      "source": [
        "import numpy as np # linear algebra\n",
        "import pandas as pd # data processing, CSV file I/O (e.g. pd.read_csv)\n",
        "\n",
        "import matplotlib.pyplot as plt #plotting library\n",
        "%matplotlib inline\n",
        "import seaborn as sns    #plotting library\n",
        "sns.set(color_codes=True)"
      ]
    },
    {
      "cell_type": "code",
      "execution_count": null,
      "metadata": {
        "_cell_guid": "9d128a97-5598-5466-2093-f160bf8cb5a7"
      },
      "outputs": [],
      "source": [
        "# This Python 3 environment comes with many helpful analytics libraries installed\n",
        "train_data = pd.read_json(\"../input/train.json\")\n",
        "test_data = pd.read_json(\"../input/test.json\")\n",
        "display_count = 2\n",
        "target = 'interest_level'"
      ]
    },
    {
      "cell_type": "code",
      "execution_count": null,
      "metadata": {
        "_cell_guid": "507c9e69-647d-f0d1-a83e-30fd91ec407b"
      },
      "outputs": [],
      "source": [
        "train_data.iloc[0]"
      ]
    },
    {
      "cell_type": "markdown",
      "metadata": {
        "_cell_guid": "5aca19fb-328b-c540-8037-39f156e79038"
      },
      "source": [
        "###Calculate number of occurrences of a particular category###"
      ]
    },
    {
      "cell_type": "code",
      "execution_count": null,
      "metadata": {
        "_cell_guid": "d154d33f-9c41-7701-c7df-3b940051ad36"
      },
      "outputs": [],
      "source": [
        "def get_value_counts(col, df):\n",
        "    return pd.DataFrame(df[col].value_counts())"
      ]
    },
    {
      "cell_type": "code",
      "execution_count": null,
      "metadata": {
        "_cell_guid": "d0e98d75-b344-4dce-517c-260b6ac65302"
      },
      "outputs": [],
      "source": [
        "target_values = list(train_data[target].unique())\n",
        "target_groups = train_data.groupby(target)"
      ]
    },
    {
      "cell_type": "code",
      "execution_count": null,
      "metadata": {
        "_cell_guid": "b7636b9f-b3fd-9a2e-627f-fe458a09f2bf"
      },
      "outputs": [],
      "source": [
        "global_chart_settings = {\n",
        "    'height' : 4,             # height of chart\n",
        "    'width' : 8,              # width of chart\n",
        "    'bar_width' : 0.9,        # width of bar\n",
        "    'title' : 'Number of occurrences of {0}', #default title\n",
        "    'ylabel' : 'Occurrence',  #label of y axis\n",
        "    'alpha' : None,           # alpha of chart(transparency factor)\n",
        "    'lbl_fontsize' : 13,      # font size of labels\n",
        "    'title_fontsize' : 13     # font size of title\n",
        "}"
      ]
    },
    {
      "cell_type": "markdown",
      "metadata": {
        "_cell_guid": "818bf99b-09f8-f089-2932-6a69bac0b6c0"
      },
      "source": [
        "### Function to plot a bar chart with customied settings ###"
      ]
    },
    {
      "cell_type": "code",
      "execution_count": null,
      "metadata": {
        "_cell_guid": "4787ff33-c9e7-3a1e-3bed-1508b30e2966"
      },
      "outputs": [],
      "source": [
        "def plot_distributions(xcol, huecol, data, width, height):\n",
        "    plt.figure(figsize=(width, height))\n",
        "    sns.countplot(x=xcol, hue=huecol, data=data)\n",
        "    plt.ylabel('Number of Occurrences', fontsize=12)\n",
        "    plt.xlabel(xcol, fontsize=12)\n",
        "    plt.show()\n",
        "    plt.close()"
      ]
    },
    {
      "cell_type": "code",
      "execution_count": null,
      "metadata": {
        "_cell_guid": "ab98ff3f-78c0-d464-c257-a9f4cf258120"
      },
      "outputs": [],
      "source": [
        "def plot_seaborn_bar(df, column, ax, i, color, title, chart_styles):\n",
        "    n = len(df.index)\n",
        "    bar_locations = np.arange(n)\n",
        "    ax[i, 0].bar(bar_locations, df[column], color=color)\n",
        "    ax[i, 0].set_xticks(bar_locations + 0.1 / 2)\n",
        "    ax[i, 0].set_xticklabels(df.index)\n",
        "    ax[i, 0].set_ylabel(chart_styles['ylabel'], fontsize=chart_styles['lbl_font'])\n",
        "    ax[i, 0].set_title(title, fontsize=chart_styles['title_font'])\n",
        "    #ax[i, 0].set_facecolor('white')\n",
        "    \n",
        "    for x,y in zip(bar_locations, df[column]):\n",
        "        ax[i, 0].text(x + 0.05, y + 0.01, '%.0f' % y, ha='center', va= 'bottom')"
      ]
    },
    {
      "cell_type": "code",
      "execution_count": null,
      "metadata": {
        "_cell_guid": "d218639a-cbb1-e99e-2bcd-8806f31f6bf5"
      },
      "outputs": [],
      "source": [
        "def plot_chart(subplot_count, dataframes, columns, colors, chart_styles, titles, chart_types):\n",
        "    \n",
        "    width = chart_styles['width']\n",
        "    height = chart_styles['height']\n",
        "    fig, ax = plt.subplots(subplot_count, figsize = (width, height), facecolor='w', squeeze=False)\n",
        "    for i in range(subplot_count):\n",
        "        if chart_types[i] == 'bar':\n",
        "            plot_seaborn_bar(dataframes[i], columns[i], ax, i, colors[i], titles[i], chart_styles)\n",
        "plt.show()\n",
        "plt.close()"
      ]
    },
    {
      "cell_type": "markdown",
      "metadata": {
        "_cell_guid": "f66a79c3-33ae-698a-6317-4eb5f0410ac4"
      },
      "source": [
        "###Analyse bathrooms###"
      ]
    },
    {
      "cell_type": "code",
      "execution_count": null,
      "metadata": {
        "_cell_guid": "78cdf165-4ae3-5fc0-b374-941c39960633"
      },
      "outputs": [],
      "source": [
        "subplot_count = 2\n",
        "colors = ['rosybrown', 'salmon']\n",
        "columns = ['bathrooms', 'bathrooms']\n",
        "chart_types = ['bar', 'bar']\n",
        "dataframes = []\n",
        "df = get_value_counts('bathrooms', train_data)\n",
        "dataframes.append(df)\n",
        "dataframes.append(df[df.index >= 3])\n",
        "chart_styles = {\n",
        "    'height' : 10,\n",
        "    'width' : 13,\n",
        "    'ylabel' : 'Count',\n",
        "    'lbl_font' : 15,\n",
        "    'title_font' : 15\n",
        "}\n",
        "titles = ['Occurrences of bathrooms', 'Occurrences of bathrooms from 3 and above']\n",
        "plot_chart(subplot_count, dataframes, columns, colors, chart_styles, titles, chart_types)"
      ]
    },
    {
      "cell_type": "markdown",
      "metadata": {
        "_cell_guid": "d3389111-d3fb-a8a3-ee94-5e4a58ba1131"
      },
      "source": [
        "***Occurrence is very high for 1 and 2 bathrooms***"
      ]
    },
    {
      "cell_type": "markdown",
      "metadata": {
        "_cell_guid": "9ea053f7-950a-28fc-e25e-b2cc38cd2b7d"
      },
      "source": [
        "***Occurrence count for 3 bathrooms and above are much smaller that 1 and 2 bathrooms.Factors contributing to this needs deeper exploration.***"
      ]
    },
    {
      "cell_type": "code",
      "execution_count": null,
      "metadata": {
        "_cell_guid": "d8742381-89ee-db6d-d7d4-edb2b528bef7"
      },
      "outputs": [],
      "source": [
        "subplot_count = len(target_values)\n",
        "colors = ['blueviolet', 'plum', 'mediumvioletred']\n",
        "columns = ['bathrooms', 'bathrooms', 'bathrooms']\n",
        "chart_types = ['bar', 'bar', 'bar']\n",
        "dataframes = []\n",
        "titles = []\n",
        "title = 'Bathroom count for target({})'\n",
        "\n",
        "for value in target_values:\n",
        "    df = get_value_counts('bathrooms', target_groups.get_group(value))\n",
        "    dataframes.append(df)\n",
        "    titles.append(title.format(value))\n",
        "    \n",
        "chart_styles = {\n",
        "    'height' : 15,\n",
        "    'width' : 10,\n",
        "    'title' : 'Occurrences of {0}',\n",
        "    'ylabel' : 'Count',\n",
        "    'lbl_font' : 15,\n",
        "    'title_font' : 15\n",
        "}\n",
        "plot_chart(subplot_count, dataframes, columns, colors, chart_styles, titles, chart_types)"
      ]
    },
    {
      "cell_type": "markdown",
      "metadata": {
        "_cell_guid": "22124c6b-b2be-9eed-2da8-3e68871e0112"
      },
      "source": [
        "***People have high inquiries for listings with 1 and 2 bathrooms.Similarly very low inquiries again for 1 or 2 bathrooms.We have to dig deeper into those listings***"
      ]
    },
    {
      "cell_type": "markdown",
      "metadata": {
        "_cell_guid": "dac90c35-b778-3d8d-d33d-08267a07894b"
      },
      "source": [
        "###Analyse bedrooms###"
      ]
    },
    {
      "cell_type": "code",
      "execution_count": null,
      "metadata": {
        "_cell_guid": "c5e3576b-fd9b-c52b-36d7-d68c9a6399c3"
      },
      "outputs": [],
      "source": [
        "subplot_count = 1\n",
        "colors = ['indianred']\n",
        "columns = ['bedrooms', 'bathrooms']\n",
        "chart_types = ['bar']\n",
        "dataframes = []\n",
        "df = get_value_counts('bedrooms', train_data)\n",
        "dataframes.append(df)\n",
        "chart_styles = {\n",
        "    'height' : 4,\n",
        "    'width' : 8,\n",
        "    'title' : 'Occurrences of {0}',\n",
        "    'ylabel' : 'Count',\n",
        "    'lbl_font' : 15,\n",
        "    'title_font' : 15\n",
        "}\n",
        "titles = ['Occurrence count for bedrooms']\n",
        "plot_chart(subplot_count, dataframes, columns, colors, chart_styles, titles, chart_types)"
      ]
    },
    {
      "cell_type": "code",
      "execution_count": null,
      "metadata": {
        "_cell_guid": "64f7ea40-970b-a3c8-11ca-d2b16f9dd209"
      },
      "outputs": [],
      "source": [
        "subplot_count = len(target_values)\n",
        "colors = ['deepskyblue', 'royalblue', 'dodgerblue']\n",
        "columns = ['bedrooms', 'bedrooms', 'bedrooms']\n",
        "chart_types = ['bar', 'bar', 'bar']\n",
        "dataframes = []\n",
        "titles = []\n",
        "title = 'Bedroom count for target({})'\n",
        "\n",
        "for value in target_values:\n",
        "    df = get_value_counts('bedrooms', target_groups.get_group(value))\n",
        "    dataframes.append(df)\n",
        "    titles.append(title.format(value))\n",
        "    \n",
        "chart_styles = {\n",
        "    'height' : 15,\n",
        "    'width' : 10,\n",
        "    'title' : 'Occurrences of {0}',\n",
        "    'ylabel' : 'Count',\n",
        "    'lbl_font' : 15,\n",
        "    'title_font' : 15\n",
        "}\n",
        "plot_chart(subplot_count, dataframes, columns, colors, chart_styles, titles, chart_types)"
      ]
    },
    {
      "cell_type": "code",
      "execution_count": null,
      "metadata": {
        "_cell_guid": "bc89bd11-ac26-d32e-8e0e-6fed5b51753d"
      },
      "outputs": [],
      "source": [
        "subplot_count = 3\n",
        "colors = ['mediumpurple', 'plum', 'fuchsia']\n",
        "columns = ['price', 'price', 'price']\n",
        "chart_types = ['bar', 'bar', 'bar']\n",
        "\n",
        "dataframes = []\n",
        "df1 = train_data.groupby('bedrooms').agg({'price' : np.mean})\n",
        "df2 = train_data.groupby('bathrooms').agg({'price' : np.mean})\n",
        "df3 = train_data.groupby(target).agg({'price' : np.mean})\n",
        "dataframes.append(df1)\n",
        "dataframes.append(df2)\n",
        "dataframes.append(df3)\n",
        "chart_styles = {\n",
        "    'height' : 14,\n",
        "    'width' : 12,\n",
        "    'ylabel' : 'Count',\n",
        "    'lbl_font' : 15,\n",
        "    'title_font' : 15\n",
        "}\n",
        "titles = ['Mean price across bedrooms', 'Mean price across bathrooms', 'Mean price across interest level']\n",
        "plot_chart(subplot_count, dataframes, columns, colors, chart_styles, titles, chart_types)"
      ]
    }
  ],
  "metadata": {
    "_change_revision": 0,
    "_is_fork": false,
    "kernelspec": {
      "display_name": "Python 3",
      "language": "python",
      "name": "python3"
    },
    "language_info": {
      "codemirror_mode": {
        "name": "ipython",
        "version": 3
      },
      "file_extension": ".py",
      "mimetype": "text/x-python",
      "name": "python",
      "nbconvert_exporter": "python",
      "pygments_lexer": "ipython3",
      "version": "3.6.0"
    }
  },
  "nbformat": 4,
  "nbformat_minor": 0
}