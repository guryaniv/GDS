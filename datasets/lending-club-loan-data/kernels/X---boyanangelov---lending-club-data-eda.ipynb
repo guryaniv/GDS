{"cells":[
 {
  "cell_type": "code",
  "execution_count": null,
  "metadata": {
   "collapsed": false
  },
  "outputs": [],
  "source": "%matplotlib inline\nimport pandas as pd\nimport numpy as np\nimport matplotlib.pyplot as plt\nimport seaborn as sns\n\n# set seaborn style\nsns.set_style(\"ticks\")\n\n# read in data\ndata_raw = pd.read_csv(\"../input/loan.csv\")\ndata_raw.head(n = 25)\ndata_raw.shape\n\n# initial plots\nsns.distplot(data_raw['loan_amnt']);\nsns.distplot(data_raw['funded_amnt'])\nsns.jointplot(x = 'loan_amnt', y = 'funded_amnt', data = data_raw)"
 }
],"metadata":{"kernelspec":{"display_name":"Python 3","language":"python","name":"python3"}}, "nbformat": 4, "nbformat_minor": 0}