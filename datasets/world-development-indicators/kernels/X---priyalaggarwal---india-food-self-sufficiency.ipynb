{"cells":[
 {
  "cell_type": "code",
  "execution_count": null,
  "metadata": {
   "collapsed": false
  },
  "outputs": [],
  "source": "# This Python 3 environment comes with many helpful analytics libraries installed\n# It is defined by the kaggle/python docker image: https://github.com/kaggle/docker-python\n# For example, here's several helpful packages to load in \n\nimport numpy as np # linear algebra\nimport pandas as pd # data processing, CSV file I/O (e.g. pd.read_csv)\nimport matplotlib.pyplot as plt\nimport seaborn as sns\n\n# Input data files are available in the \"../input/\" directory.\n# For example, running this (by clicking run or pressing Shift+Enter) will list the files in the input directory\n\n#from subprocess import check_output\n#print(check_output([\"ls\", \"../input\"]).decode(\"utf8\"))\n\n# Any results you write to the current directory are saved as output.\n\n#Read Datasets\ncountry = pd.read_csv('../input/Country.csv')\ncountry_notes = pd.read_csv('../input/CountryNotes.csv')\nindicators = pd.read_csv('../input/Indicators.csv')"
 },
 {
  "cell_type": "markdown",
  "metadata": {},
  "source": " Measuring food self sufficiency in terms of imports and exports"
 },
 {
  "cell_type": "code",
  "execution_count": null,
  "metadata": {
   "collapsed": false
  },
  "outputs": [],
  "source": "food_import = indicators[(indicators.CountryName=='India')&(indicators.IndicatorCode=='TM.VAL.FOOD.ZS.UN')]\nfood_export = indicators[(indicators.CountryName=='India')&(indicators.IndicatorCode=='TX.VAL.FOOD.ZS.UN')]\nplt.plot(food_import.Year, food_import.Value, 'o-',label='Imports')\nplt.plot(food_export.Year, food_export.Value, 'o-',label='Exports')\nplt.legend(bbox_to_anchor=(1.05, 1), loc=2, borderaxespad=0.)\nplt.xlabel('Years',  fontsize=14)\nplt.ylabel('% of Merchandise',  fontsize=14)\nplt.title('Trends in Food Import/Export in India', fontsize=14)"
 },
 {
  "cell_type": "markdown",
  "metadata": {},
  "source": "As population of India increased, food production does not increase proportionately.\nHence imports of food as a proportion of total merchandise imports increased.\nWith the advent of Green Revolution the output in the country increased. \nThe reason for sharp increase after 1970 would have to be searched for.\nBut since then imports have continuously decreased.\nAnother thing observed was Exports are always higher than imports."
 },
 {
  "cell_type": "code",
  "execution_count": null,
  "metadata": {
   "collapsed": false
  },
  "outputs": [],
  "source": "arable_land = indicators[(indicators.CountryCode == 'IND') & (indicators.IndicatorCode == 'AG.LND.ARBL.ZS')]\narable_land_per_person = indicators[(indicators.CountryName == 'India') & (indicators.IndicatorCode == 'AG.LND.ARBL.HA.PC')]\nYears = arable_land.Year\nLand = arable_land.Value\n#sns.violinplot(x='Years', y='Land', data=arable_land, size=7)\nplt.plot(Years, Land)\nplt.xlabel(\"Years\", fontsize=14)\nplt.ylabel(\"Arable Area as % of Land Area\", fontsize=14)\nplt.title(\"Arable Land in India as % of Land Area\", fontsize=16)"
 },
 {
  "cell_type": "code",
  "execution_count": null,
  "metadata": {
   "collapsed": false
  },
  "outputs": [],
  "source": ""
 }
],"metadata":{"kernelspec":{"display_name":"Python 3","language":"python","name":"python3"}}, "nbformat": 4, "nbformat_minor": 0}