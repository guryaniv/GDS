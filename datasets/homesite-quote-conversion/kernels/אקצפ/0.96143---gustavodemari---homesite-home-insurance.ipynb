{"cells":[
 {
  "cell_type": "code",
  "execution_count": null,
  "metadata": {
   "collapsed": false
  },
  "outputs": [],
  "source": "# Loading libraries\nimport pandas as pd\nimport numpy as np\nimport xgboost as xgb"
 },
 {
  "cell_type": "code",
  "execution_count": null,
  "metadata": {
   "collapsed": false
  },
  "outputs": [],
  "source": "# Loading data\ntrain = pd.read_csv(\"../input/train.csv\", parse_dates=['Original_Quote_Date'])\ntest = pd.read_csv(\"../input/test.csv\", parse_dates=['Original_Quote_Date'])"
 },
 {
  "cell_type": "code",
  "execution_count": null,
  "metadata": {
   "collapsed": false
  },
  "outputs": [],
  "source": "print(train.shape)\nprint(test.shape)"
 },
 {
  "cell_type": "code",
  "execution_count": null,
  "metadata": {
   "collapsed": false
  },
  "outputs": [],
  "source": "train.head(n=5)"
 },
 {
  "cell_type": "code",
  "execution_count": null,
  "metadata": {
   "collapsed": false
  },
  "outputs": [],
  "source": "test.head(n=5)"
 },
 {
  "cell_type": "code",
  "execution_count": null,
  "metadata": {
   "collapsed": false
  },
  "outputs": [],
  "source": "train.info()"
 },
 {
  "cell_type": "code",
  "execution_count": null,
  "metadata": {
   "collapsed": false
  },
  "outputs": [],
  "source": "test.info()"
 },
 {
  "cell_type": "code",
  "execution_count": null,
  "metadata": {
   "collapsed": false
  },
  "outputs": [],
  "source": "# Removing unnecessary columns\ntrain = train.drop(['QuoteNumber'], axis = 1)"
 },
 {
  "cell_type": "code",
  "execution_count": null,
  "metadata": {
   "collapsed": false
  },
  "outputs": [],
  "source": "train_nulls = train.isnull().sum()\ntrain_null_cols = list(train_nulls[train_nulls > 0].index)\nprint(train_null_cols)"
 },
 {
  "cell_type": "code",
  "execution_count": null,
  "metadata": {
   "collapsed": false
  },
  "outputs": [],
  "source": "test_nulls = test.isnull().sum()\ntest_null_cols = list(test_nulls[test_nulls > 0].index)\nprint(test_null_cols)"
 },
 {
  "cell_type": "code",
  "execution_count": null,
  "metadata": {
   "collapsed": false
  },
  "outputs": [],
  "source": "# Filling missing values with mode\ntrain[train_null_cols] = train[train_null_cols].fillna(train[train_null_cols].mode().iloc[0])"
 },
 {
  "cell_type": "code",
  "execution_count": null,
  "metadata": {
   "collapsed": false
  },
  "outputs": [],
  "source": "# Filling missing values with mode\ntest[test_null_cols] = test[test_null_cols].fillna(test[test_null_cols].mode().iloc[0])"
 },
 {
  "cell_type": "code",
  "execution_count": null,
  "metadata": {
   "collapsed": false
  },
  "outputs": [],
  "source": "def feature_engineering(data):\n    data['Original_Quote_Date_year'] = data['Original_Quote_Date'].dt.year\n    data['Original_Quote_Date_month'] = data['Original_Quote_Date'].dt.month\n    data['Original_Quote_Date_weekday'] = data['Original_Quote_Date'].dt.weekday\n    return data"
 },
 {
  "cell_type": "code",
  "execution_count": null,
  "metadata": {
   "collapsed": false
  },
  "outputs": [],
  "source": "train = feature_engineering(train)"
 },
 {
  "cell_type": "code",
  "execution_count": null,
  "metadata": {
   "collapsed": false
  },
  "outputs": [],
  "source": "test = feature_engineering(test)"
 },
 {
  "cell_type": "code",
  "execution_count": null,
  "metadata": {
   "collapsed": false
  },
  "outputs": [],
  "source": "train = train.drop('Original_Quote_Date', axis=1)\ntest = test.drop('Original_Quote_Date', axis=1)"
 },
 {
  "cell_type": "code",
  "execution_count": null,
  "metadata": {
   "collapsed": false
  },
  "outputs": [],
  "source": "# Encoding object columns\nfrom sklearn.preprocessing import LabelEncoder\n\nfor c in train.columns:\n    if train[c].dtype == 'object':\n        lbl = LabelEncoder()\n        lbl.fit(np.unique(list(train[c].values) + list(test[c].values)))\n        train[c] = lbl.transform(list(train[c].values))\n        test[c] = lbl.transform(list(test[c].values))"
 },
 {
  "cell_type": "code",
  "execution_count": null,
  "metadata": {
   "collapsed": false
  },
  "outputs": [],
  "source": "# Verifying data after encoding\ntrain.describe().transpose()"
 },
 {
  "cell_type": "code",
  "execution_count": null,
  "metadata": {
   "collapsed": false
  },
  "outputs": [],
  "source": "#print(train.columns) # X = train.iloc[:,2:], y = train.iloc[:, 1]\n#print(test.columns) # X = test.iloc[:, 2:]\nx_cols = list(train.columns[2:])\nprint(x_cols)"
 },
 {
  "cell_type": "code",
  "execution_count": null,
  "metadata": {
   "collapsed": false
  },
  "outputs": [],
  "source": "from sklearn.grid_search import RandomizedSearchCV\nclf = xgb.XGBClassifier()\nparams = {\n \"learning_rate\": [0.1, 0.001],\n \"max_depth\": [3, 6],\n \"n_estimators\": [100, 200, 300],\n \"objective\": [\"binary:logistic\"],\n \"nthread\": 2\n }\nrandom_search = RandomizedSearchCV(estimator=clf, \n                                   param_distributions=params, \n                                   scoring='roc_auc',\n                                   refit=True,\n                                   verbose=1)\n#clf.get_params()\nrandom_search"
 },
 {
  "cell_type": "code",
  "execution_count": null,
  "metadata": {
   "collapsed": false
  },
  "outputs": [],
  "source": "X_train = train[x_cols].values\ny_train = train['QuoteConversion_Flag'].values"
 },
 {
  "cell_type": "code",
  "execution_count": null,
  "metadata": {
   "collapsed": false
  },
  "outputs": [],
  "source": "random_search.fit(X_train, y_train)"
 },
 {
  "cell_type": "code",
  "execution_count": null,
  "metadata": {
   "collapsed": false
  },
  "outputs": [],
  "source": "print(random_search.best_params_)\nprint(random_search.best_score_)\nprint(random_search.best_estimator_)"
 },
 {
  "cell_type": "code",
  "execution_count": null,
  "metadata": {
   "collapsed": false
  },
  "outputs": [],
  "source": "# Generating predictions\npredictions = random_search.predict(test[x_cols])"
 },
 {
  "cell_type": "code",
  "execution_count": null,
  "metadata": {
   "collapsed": false
  },
  "outputs": [],
  "source": "# Generating submission dataframe\nsubmission = pd.DataFrame()\nsubmission['QuoteNumber'] = test['QuoteNumber']\nsubmission['QuoteConversion_Flag'] = predictions"
 },
 {
  "cell_type": "code",
  "execution_count": null,
  "metadata": {
   "collapsed": false
  },
  "outputs": [],
  "source": "import time\nPREDICTIONS_FILENAME_PREFIX = 'predictions_'\nPREDICTIONS_FILENAME = PREDICTIONS_FILENAME_PREFIX + time.strftime('%Y%m%d-%H%M%S') + '.csv'\n\nprint(PREDICTIONS_FILENAME)\n\nsubmission.to_csv(PREDICTIONS_FILENAME, index = False)"
 }
],"metadata":{"kernelspec":{"display_name":"Python 3","language":"python","name":"python3"}}, "nbformat": 4, "nbformat_minor": 0}