{
  "cells": [
    {
      "cell_type": "code",
      "execution_count": null,
      "metadata": {
        "_cell_guid": "b97c228b-03b0-498b-2d4f-4df294db01bf"
      },
      "outputs": [],
      "source": [
        "import os\n",
        "import sys\n",
        "import operator\n",
        "import numpy as np # linear algebra\n",
        "import pandas as pd # data processing, CSV file I/O (e.g. pd.read_csv)\n",
        "\n",
        "# Input data files are available in the \"../input/\" directory.\n",
        "# For example, running this (by clicking run or pressing Shift+Enter) will list the files in the input directory\n",
        "\n",
        "from subprocess import check_output\n",
        "print(check_output([\"ls\", \"../input\"]).decode(\"utf8\"))\n",
        "\n",
        "# Any results you write to the current directory are saved as output.\n",
        "\n",
        "import xgboost as xgb\n",
        "import random\n",
        "from sklearn import model_selection, preprocessing, ensemble\n",
        "from sklearn.model_selection import train_test_split\n",
        "from sklearn.metrics import log_loss\n",
        "from sklearn.feature_extraction.text import TfidfVectorizer, CountVectorizer"
      ]
    },
    {
      "cell_type": "code",
      "execution_count": null,
      "metadata": {
        "_cell_guid": "166d8e98-ba44-d97d-e6ae-a3d80294daa5"
      },
      "outputs": [],
      "source": [
        "#input data\n",
        "train_df=pd.read_json('../input/train.json')\n",
        "test_df=pd.read_json('../input/test.json')\n",
        "train_df.head()\n",
        "#removing outliers\n",
        "\n",
        "test_df[\"bathrooms\"].loc[19671] = 1.5\n",
        "test_df[\"bathrooms\"].loc[22977] = 2.0\n",
        "test_df[\"bathrooms\"].loc[63719] = 2.0\n",
        "\n",
        "ulimit = np.percentile(train_df.price.values, 99)\n",
        "train_df['price'].ix[train_df['price']>ulimit] = ulimit\n",
        "\n",
        "ulimit = np.percentile(test_df.price.values, 99)\n",
        "test_df['price'].ix[test_df['price']>ulimit] = ulimit\n",
        "\n",
        "train_df[\"logprice\"] = np.log(train_df[\"price\"])\n",
        "test_df[\"logprice\"] = np.log(test_df[\"price\"])\n",
        "\n",
        "# count of \"photos\"\n",
        "train_df[\"num_photos\"] = train_df[\"photos\"].apply(len)\n",
        "test_df[\"num_photos\"] = test_df[\"photos\"].apply(len)\n",
        "\n",
        "train_df[\"num_features\"] = train_df[\"features\"].apply(len)\n",
        "test_df[\"num_features\"] = test_df[\"features\"].apply(len)\n",
        "\n",
        "train_df[\"num_description_words\"] = train_df[\"description\"].apply(lambda x: len(x.split(\" \")))\n",
        "test_df[\"num_description_words\"] = test_df[\"description\"].apply(lambda x: len(x.split(\" \")))\n",
        "\n",
        "\n",
        "\n",
        "train_df[\"pos\"] = train_df.longitude.round(3).astype(str) + '_' + train_df.latitude.round(3).astype(str)\n",
        "test_df[\"pos\"] = test_df.longitude.round(3).astype(str) + '_' + test_df.latitude.round(3).astype(str)\n",
        "\n",
        "vals = train_df['pos'].value_counts()\n",
        "dvals = vals.to_dict()\n",
        "train_df[\"density\"] = train_df['pos'].apply(lambda x: dvals.get(x, vals.min()))\n",
        "test_df[\"density\"] = test_df['pos'].apply(lambda x: dvals.get(x, vals.min()))\n",
        "\n",
        "\n",
        "#basic features\n",
        "train_df[\"price_t\"] =train_df[\"price\"]/train_df[\"bedrooms\"]\n",
        "test_df[\"price_t\"] = test_df[\"price\"]/test_df[\"bedrooms\"] \n",
        "train_df[\"room_sum\"] = train_df[\"bedrooms\"]+train_df[\"bathrooms\"] \n",
        "test_df[\"room_sum\"] = test_df[\"bedrooms\"]+test_df[\"bathrooms\"] \n",
        "\n",
        "\n",
        "train_df['price_per_room'] = train_df['price']/train_df['room_sum']\n",
        "test_df['price_per_room'] = test_df['price']/test_df['room_sum']\n",
        "\n",
        "\n",
        "features_to_use=[\"bathrooms\", \"bedrooms\", \"price_t\",\"room_sum\",\"latitude\",\"longitude\",\"num_photos\",\"density\",\"logprice\",\"num_features\",\"num_description_words\",\"price_per_room\",\"listing_id\"]\n",
        "print(train_df['price'].head())"
      ]
    },
    {
      "cell_type": "code",
      "execution_count": null,
      "metadata": {
        "_cell_guid": "1c3c75dd-286c-0a4e-b074-4bb341d91cea"
      },
      "outputs": [],
      "source": [
        "def runXGB(train_X, train_y, test_X, test_y=None, feature_names=None, seed_val=321, num_rounds=818):\n",
        "    param = {}\n",
        "    param['objective'] = 'multi:softprob'\n",
        "    param['eta'] = 0.03\n",
        "    param['max_depth'] = 6\n",
        "    param['silent'] = 1\n",
        "    param['num_class'] = 3\n",
        "    param['eval_metric'] = \"mlogloss\"\n",
        "    param['min_child_weight'] = 1\n",
        "    param['subsample'] = 0.7\n",
        "    param['colsample_bytree'] = 0.7\n",
        "    param['seed'] = seed_val\n",
        "    num_rounds = num_rounds\n",
        "\n",
        "    plst = list(param.items())\n",
        "    xgtrain = xgb.DMatrix(train_X, label=train_y)\n",
        "\n",
        "    if test_y is not None:\n",
        "        xgtest = xgb.DMatrix(test_X, label=test_y)\n",
        "        watchlist = [ (xgtrain,'train'), (xgtest, 'test') ]\n",
        "        model = xgb.train(plst, xgtrain, num_rounds, watchlist)\n",
        "    else:\n",
        "        xgtest = xgb.DMatrix(test_X)\n",
        "        model = xgb.train(plst, xgtrain, num_rounds)\n",
        "\n",
        "    pred_test_y = model.predict(xgtest)\n",
        "    return pred_test_y, model"
      ]
    },
    {
      "cell_type": "code",
      "execution_count": null,
      "metadata": {
        "_cell_guid": "e8c5fb70-08b8-6670-7559-d63e4fc6d4df"
      },
      "outputs": [],
      "source": [
        "index=list(range(train_df.shape[0]))\n",
        "\t\n",
        "random.shuffle(index)\n",
        "a=[np.nan]*len(train_df)\n",
        "b=[np.nan]*len(train_df)\n",
        "c=[np.nan]*len(train_df)\n",
        "\n",
        "for i in range(5):\n",
        "    building_level={}\n",
        "    for j in train_df['manager_id'].values:\n",
        "        building_level[j]=[0,0,0]\n",
        "    test_index=index[int((i*train_df.shape[0])/5):int(((i+1)*train_df.shape[0])/5)]\n",
        "    train_index=list(set(index).difference(test_index))\n",
        "    for j in train_index:\n",
        "        temp=train_df.iloc[j]\n",
        "        if temp['interest_level']=='low':\n",
        "            building_level[temp['manager_id']][0]+=1\n",
        "        if temp['interest_level']=='medium':\n",
        "            building_level[temp['manager_id']][1]+=1\n",
        "        if temp['interest_level']=='high':\n",
        "            building_level[temp['manager_id']][2]+=1\n",
        "    for j in test_index:\n",
        "        temp=train_df.iloc[j]\n",
        "        if sum(building_level[temp['manager_id']])!=0:\n",
        "            a[j]=building_level[temp['manager_id']][0]*1.0/sum(building_level[temp['manager_id']])\n",
        "            b[j]=building_level[temp['manager_id']][1]*1.0/sum(building_level[temp['manager_id']])\n",
        "            c[j]=building_level[temp['manager_id']][2]*1.0/sum(building_level[temp['manager_id']])\n",
        "   \n",
        " \n",
        "train_df['manager_level_low']=a\n",
        "train_df['manager_level_medium']=b\n",
        "train_df['manager_level_high']=c"
      ]
    },
    {
      "cell_type": "code",
      "execution_count": null,
      "metadata": {
        "_cell_guid": "0f561adb-aca3-95ec-d625-171ea4618257"
      },
      "outputs": [],
      "source": [
        "a=[]\n",
        "b=[]\n",
        "c=[]\n",
        "building_level={}\n",
        "for j in train_df['manager_id'].values:\n",
        "    building_level[j]=[0,0,0]\n",
        "for j in range(train_df.shape[0]):\n",
        "    temp=train_df.iloc[j]\n",
        "    if temp['interest_level']=='low':\n",
        "        building_level[temp['manager_id']][0]+=1\n",
        "    if temp['interest_level']=='medium':\n",
        "        building_level[temp['manager_id']][1]+=1\n",
        "    if temp['interest_level']=='high':\n",
        "        building_level[temp['manager_id']][2]+=1\n",
        "\n",
        "for i in test_df['manager_id'].values:\n",
        "    if i not in building_level.keys():\n",
        "        a.append(np.nan)\n",
        "        b.append(np.nan)\n",
        "        c.append(np.nan)\n",
        "    else:\n",
        "        a.append(building_level[i][0]*1.0/sum(building_level[i]))\n",
        "        b.append(building_level[i][1]*1.0/sum(building_level[i]))\n",
        "        c.append(building_level[i][2]*1.0/sum(building_level[i]))\n",
        "test_df['manager_level_low']=a\n",
        "test_df['manager_level_medium']=b\n",
        "test_df['manager_level_high']=c\n",
        "\n",
        "\n",
        "features_to_use.append('manager_level_low') \n",
        "features_to_use.append('manager_level_medium') \n",
        "features_to_use.append('manager_level_high')\n",
        "categorical = [\"display_address\", \"manager_id\", \"building_id\", \"street_address\"]"
      ]
    },
    {
      "cell_type": "code",
      "execution_count": null,
      "metadata": {
        "_cell_guid": "a8e1380b-f091-1eb5-0735-6a8aa76c74be"
      },
      "outputs": [],
      "source": [
        "for f in categorical:\n",
        "\tif train_df[f].dtype=='object':\n",
        "\t\t#print(f)\n",
        "\t\tlbl = preprocessing.LabelEncoder()\n",
        "\t\tlbl.fit(list(train_df[f].values) + list(test_df[f].values))\n",
        "\t\ttrain_df[f] = lbl.transform(list(train_df[f].values))\n",
        "\t\ttest_df[f] = lbl.transform(list(test_df[f].values))\n",
        "\t\tfeatures_to_use.append(f)"
      ]
    },
    {
      "cell_type": "code",
      "execution_count": null,
      "metadata": {
        "_cell_guid": "d4f56bb8-242b-7bd3-d6b1-5b189c90ab46"
      },
      "outputs": [],
      "source": [
        "train_df['features'] = train_df[\"features\"].apply(lambda x: \" \".join([\"_\".join(i.split(\" \")) for i in x]))\n",
        "test_df['features'] = test_df[\"features\"].apply(lambda x: \" \".join([\"_\".join(i.split(\" \")) for i in x]))"
      ]
    },
    {
      "cell_type": "code",
      "execution_count": null,
      "metadata": {
        "_cell_guid": "2aa66048-1813-ba2c-18d5-59572d38b2e9"
      },
      "outputs": [],
      "source": [
        "from math import sin, cos, sqrt, atan2\n",
        "\n",
        "location_dict = {\n",
        "'manhatten_loc' : [40.7527, -73.9943],\n",
        "'brooklyn_loc' : [45.0761,-73.9442],\n",
        "'bronx_loc' : [40.8448,-73.8648],\n",
        "'queens_loc' : [40.7282,-73.7949],\n",
        "'staten_loc' : [40.5795,-74.1502]}\n",
        "\n",
        "for location in location_dict.keys():\n",
        "\n",
        "    lat1 = train_df['latitude'].apply(radians)\n",
        "    lon1 = train_df['longitude'].apply(radians)\n",
        "    lat2 = radians(location_dict[location][0])\n",
        "    lon2 = radians(location_dict[location][1])\n",
        "\n",
        "    dlon = lon2 - lon1\n",
        "    dlat = lat2 - lat1\n",
        "\n",
        "    def power(x):\n",
        "        return x**2\n",
        "\n",
        "    a = (dlat/2).apply(sin).apply(power) + lat1.apply(cos) * cos(lat2) * (dlon/2).apply(sin).apply(power)\n",
        "    c = 2 * a.apply(sqrt).apply(sin)\n",
        "\n",
        "    ### Add a new column called distance\n",
        "    train_df['distance_' + location] = R * c\n",
        "    features_to_use.append('distance_' + location)"
      ]
    },
    {
      "cell_type": "code",
      "execution_count": null,
      "metadata": {
        "_cell_guid": "0498ef9b-11e8-a5eb-40b9-32b6efc0615d"
      },
      "outputs": [],
      "source": [
        "def factorize(df1, df2, column):\n",
        "    ps = df1[column].append(df2[column])\n",
        "    factors = ps.factorize()[0]\n",
        "    df1[column] = factors[:len(df1)]\n",
        "    df2[column] = factors[len(df1):]\n",
        "    return df1, df2"
      ]
    },
    {
      "cell_type": "code",
      "execution_count": null,
      "metadata": {
        "_cell_guid": "53e3e09a-f20b-81be-096f-136e9809dbb4"
      },
      "outputs": [],
      "source": [
        "for col in ('building_id', 'display_address', 'manager_id', 'street_address'):\n",
        "    train_df,test_df = factorize(train_df, test_df,col)"
      ]
    },
    {
      "cell_type": "code",
      "execution_count": null,
      "metadata": {
        "_cell_guid": "9886328b-658c-9833-4071-93a61b62823e"
      },
      "outputs": [],
      "source": [
        "from scipy import sparse \n",
        "from sklearn.feature_extraction.text import CountVectorizer\n",
        "tfidf = CountVectorizer(stop_words='english', max_features=200)\n",
        "tfidf.fit(list(train_df['features']) + list(test_df['features']))\n",
        "tr_sparse = tfidf.transform(train_df[\"features\"])\n",
        "te_sparse = tfidf.transform(test_df[\"features\"])\n",
        "print(te_sparse)"
      ]
    },
    {
      "cell_type": "code",
      "execution_count": null,
      "metadata": {
        "_cell_guid": "04177d9e-c98f-1d99-4728-b9dda39a55d3"
      },
      "outputs": [],
      "source": [
        "print(train_df[features_to_use].head())"
      ]
    },
    {
      "cell_type": "code",
      "execution_count": null,
      "metadata": {
        "_cell_guid": "6ebf3f26-38e4-b9eb-1ef4-1037f496f3ec"
      },
      "outputs": [],
      "source": [
        "train_X = sparse.hstack([train_df[features_to_use], tr_sparse]).tocsr()"
      ]
    },
    {
      "cell_type": "code",
      "execution_count": null,
      "metadata": {
        "_cell_guid": "8aa880d0-77d1-c72f-d9bd-014e8b4ea5f2"
      },
      "outputs": [],
      "source": [
        "test_X = sparse.hstack([test_df[features_to_use], te_sparse]).tocsr()"
      ]
    },
    {
      "cell_type": "code",
      "execution_count": null,
      "metadata": {
        "_cell_guid": "e93c603b-b911-6450-eceb-80eaa2bbfceb"
      },
      "outputs": [],
      "source": [
        "target_num_map = {'high':0, 'medium':1, 'low':2}\n",
        "train_y = np.array(train_df['interest_level'].apply(lambda x: target_num_map[x]))\n",
        "print(train_X.shape, test_X.shape)"
      ]
    },
    {
      "cell_type": "code",
      "execution_count": null,
      "metadata": {
        "_cell_guid": "aa8c46ae-dbd9-1093-cfdc-3cd3a1d822b7"
      },
      "outputs": [],
      "source": [
        "preds, model = runXGB(train_X, train_y, test_X, num_rounds=818)\n",
        "out_df = pd.DataFrame(preds)\n",
        "out_df.columns = [\"high\", \"medium\", \"low\"]\n",
        "out_df[\"listing_id\"] = test_df.listing_id.values\n",
        "out_df.to_csv(\"xgb_starter2.csv\", index=False)"
      ]
    }
  ],
  "metadata": {
    "_change_revision": 0,
    "_is_fork": false,
    "kernelspec": {
      "display_name": "Python 3",
      "language": "python",
      "name": "python3"
    },
    "language_info": {
      "codemirror_mode": {
        "name": "ipython",
        "version": 3
      },
      "file_extension": ".py",
      "mimetype": "text/x-python",
      "name": "python",
      "nbconvert_exporter": "python",
      "pygments_lexer": "ipython3",
      "version": "3.6.0"
    }
  },
  "nbformat": 4,
  "nbformat_minor": 0
}