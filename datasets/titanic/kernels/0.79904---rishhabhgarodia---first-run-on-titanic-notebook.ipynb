{
  "cells": [
    {
      "cell_type": "markdown",
      "metadata": {
        "_cell_guid": "cf3b5706-426a-146e-f673-607258ecb1aa"
      },
      "source": [
        "#Refered some open kernels on Kaggle."
      ]
    },
    {
      "cell_type": "code",
      "execution_count": null,
      "metadata": {
        "_cell_guid": "fe676385-4fa3-e27b-ae67-776b7ae5f087"
      },
      "outputs": [],
      "source": [
        "import pandas as pd\n",
        "import numpy as np\n",
        "import re\n",
        "import operator"
      ]
    },
    {
      "cell_type": "code",
      "execution_count": null,
      "metadata": {
        "_cell_guid": "90e5f93b-c688-0656-4019-d119e2b81ff7"
      },
      "outputs": [],
      "source": [
        "from sklearn.ensemble import RandomForestClassifier\n",
        "from sklearn import linear_model\n",
        "from sklearn.ensemble import GradientBoostingClassifier"
      ]
    },
    {
      "cell_type": "code",
      "execution_count": null,
      "metadata": {
        "_cell_guid": "d840fb6c-9bd6-0aa0-62b2-40b67d2ed575"
      },
      "outputs": [],
      "source": [
        "titanic_df = pd.read_csv(\"../input/train.csv\")\n",
        "df_train = pd.read_csv(\"../input/train.csv\")\n",
        "df_test = pd.read_csv(\"../input/test.csv\")"
      ]
    },
    {
      "cell_type": "code",
      "execution_count": null,
      "metadata": {
        "_cell_guid": "afea11c1-5903-fcd7-02fe-44646b1d3b14"
      },
      "outputs": [],
      "source": [
        "#replacing gender column with numeric values for categorical column\n",
        "numsex = {\"male\":1 ,\"female\" :2}\n",
        "df_train['Sex'] = df_train['Sex'].replace(numsex)\n",
        "df_train['Sex'] = pd.to_numeric(df_train['Sex'])\n",
        "df_test['Sex'] = df_test['Sex'].replace(numsex)\n",
        "df_test['Sex'] = pd.to_numeric(df_test['Sex'])"
      ]
    },
    {
      "cell_type": "code",
      "execution_count": null,
      "metadata": {
        "_cell_guid": "478bedb2-1cca-0675-f742-5ad1f5020cd3"
      },
      "outputs": [],
      "source": [
        "#replacing Embarked column with numeric values for categorical column\n",
        "numembark = {\"S\":1 ,\"C\" :2, \"Q\":3}\n",
        "df_train['Embarked'] = df_train['Embarked'].replace(numembark)\n",
        "df_train['Embarked'] = pd.to_numeric(df_train['Embarked'])\n",
        "df_test['Embarked'] = df_test['Embarked'].replace(numembark)\n",
        "df_test['Embarked'] = pd.to_numeric(df_test['Embarked'])\n"
      ]
    },
    {
      "cell_type": "code",
      "execution_count": null,
      "metadata": {
        "_cell_guid": "91972dfb-6c0d-17dd-6db6-2e349fa4b16d"
      },
      "outputs": [],
      "source": [
        "#Replacing the nulls in the embarked column\n",
        "df_train['Embarked'] = df_train['Embarked'].fillna(1)\n",
        "df_train['Embarked'].describe()\n",
        "df_train['Embarked'] = df_train['Embarked'].fillna(df_train['Age'].mean())\n",
        "df_test['Embarked'] = df_test['Embarked'].fillna(1)\n",
        "df_test['Embarked'].describe()\n",
        "df_test['Embarked'] = df_test['Embarked'].fillna(df_test['Age'].mean())"
      ]
    },
    {
      "cell_type": "code",
      "execution_count": null,
      "metadata": {
        "_cell_guid": "8f55bb52-45a3-8fe2-e9e1-7e26796c7291"
      },
      "outputs": [],
      "source": [
        "# Secondly I want to fill in NULL Age values \n",
        "# To fill age with no data -> I want to find the median of ages in their class and gender\n",
        "number_of_pclass = 3\n",
        "number_of_gender = 2\n",
        "if len(df_train.Age[ df_train.Age.isnull() ]) > 0:\n",
        "    median_age = np.zeros([number_of_pclass, number_of_gender], float)\n",
        "    for f in range(number_of_pclass):   # class\n",
        "        for g in range(number_of_gender):     # gender                                     \n",
        "            median_age[f, g] = df_train[ (df_train.Pclass == f+1) & (df_train.Sex == g) ]['Age'].dropna().median()\n",
        "    for f in range(number_of_pclass):  \n",
        "        for g in range(number_of_gender):                                          \n",
        "            df_train.loc[ (df_train.Age.isnull()) & (df_train.Pclass == f+1) & (df_train.Sex == g), 'Age'] = median_age[f,g]\n",
        "\n",
        "if len(df_test.Age[ df_test.Age.isnull() ]) > 0:\n",
        "    median_age = np.zeros([number_of_pclass, number_of_gender], float)\n",
        "    for f in range(number_of_pclass):   # class\n",
        "        for g in range(number_of_gender):     # gender                                     \n",
        "            median_age[f, g] = df_test[ (df_test.Pclass == f+1) & (df_test.Sex == g) ]['Age'].dropna().median()\n",
        "    for f in range(number_of_pclass):  \n",
        "        for g in range(number_of_gender):                                          \n",
        "            df_test.loc[ (df_test.Age.isnull()) & (df_test.Pclass == f+1) & (df_test.Sex == g), 'Age'] = median_age[f,g]\n",
        "\n",
        "\n",
        "df_train[\"Age\"] = df_train[\"Age\"].fillna(df_train[\"Age\"].median())\n",
        "df_test[\"Age\"] = df_test[\"Age\"].fillna(df_test[\"Age\"].median())"
      ]
    },
    {
      "cell_type": "code",
      "execution_count": null,
      "metadata": {
        "_cell_guid": "59496e65-fe1d-d388-e5e7-4e13a5e81fb3"
      },
      "outputs": [],
      "source": [
        "df_test[\"Fare\"] = df_test[\"Fare\"].fillna(df_test[\"Fare\"].median())\n",
        "\n",
        "#Check if the values got replaced#\n",
        "df_train.describe()\n",
        "df_test.describe()"
      ]
    },
    {
      "cell_type": "code",
      "execution_count": null,
      "metadata": {
        "_cell_guid": "fed23140-6673-2442-31d9-c3dfac18fdf6"
      },
      "outputs": [],
      "source": [
        "# A function to get the title from a name.\n",
        "def get_title(name):\n",
        "    # Use a regular expression to search for a title.\n",
        "    title_search = re.search(' ([A-Za-z]+)\\.', name)\n",
        "    # If the title exists, extract and return it.\n",
        "    if title_search:\n",
        "        return title_search.group(1)\n",
        "    return \"\"\n",
        "    \n",
        "# Get all the titles and print how often each one appear.\n",
        "titles_train = df_train[\"Name\"].apply(get_title)\n",
        "print(pd.value_counts(titles_train))\n",
        "titles_test = df_test[\"Name\"].apply(get_title)\n",
        "print(pd.value_counts(titles_test))\n",
        "\n",
        "\n",
        "# Map each title to an integer.  Some titles are very rare, and are compressed into the same codes as other titles.\n",
        "title_mapping = {\"Mr\": 1, \"Miss\": 2, \"Mrs\": 3, \"Master\": 4, \"Dr\": 5, \"Rev\": 6, \"Major\": 7, \"Col\": 7, \"Mlle\": 8, \"Mme\": 8, \"Don\": 9, \"Dona\": 9, \"Lady\": 10, \"Countess\": 10, \"Jonkheer\": 10, \"Sir\": 9, \"Capt\": 7, \"Ms\": 2}\n",
        "for k,v in title_mapping.items():\n",
        "    titles_train[titles_train == k] = v\n",
        "    titles_test[titles_test == k] = v\n",
        "\n",
        "# Verify that we converted everything.\n",
        "print(pd.value_counts(titles_train))\n",
        "print(pd.value_counts(titles_test))\n",
        "\n",
        "# Add in the title column.\n",
        "df_train[\"Title\"] = titles_train\n",
        "df_train['Title'] = pd.to_numeric(df_train['Title'])\n",
        "df_test[\"Title\"] = titles_test\n",
        "df_test['Title'] = pd.to_numeric(df_test['Title'])"
      ]
    },
    {
      "cell_type": "code",
      "execution_count": null,
      "metadata": {
        "_cell_guid": "5085443d-21ae-fb17-70c1-a8af0ea2f079"
      },
      "outputs": [],
      "source": [
        "# A dictionary mapping family name to id\n",
        "family_id_mapping = {}\n",
        "\n",
        "df_train[\"FamilySize\"] = df_train[\"SibSp\"] + df_train[\"Parch\"]\n",
        "df_test[\"FamilySize\"] = df_test[\"SibSp\"] + df_test[\"Parch\"]\n",
        "df_train[\"NameLength\"] = df_train[\"Name\"].apply(lambda x: len(x))\n",
        "# A function to get the id given a row\n",
        "def get_family_id(row):\n",
        "    # Find the last name by splitting on a comma\n",
        "    last_name = row[\"Name\"].split(\",\")[0]\n",
        "    # Create the family id\n",
        "    family_id = \"{0}{1}\".format(last_name, row[\"FamilySize\"])\n",
        "    # Look up the id in the mapping\n",
        "    if family_id not in family_id_mapping:\n",
        "        if len(family_id_mapping) == 0:\n",
        "            current_id = 1\n",
        "        else:\n",
        "            # Get the maximum id from the mapping and add one to it if we don't have an id\n",
        "            current_id = (max(family_id_mapping.items(), key=operator.itemgetter(1))[1] + 1)\n",
        "        family_id_mapping[family_id] = current_id\n",
        "    return family_id_mapping[family_id]\n",
        "\n",
        "# Get the family ids with the apply method\n",
        "family_ids_train = df_train.apply(get_family_id, axis=1)\n",
        "family_ids_test = df_test.apply(get_family_id, axis=1)\n",
        "\n",
        "# There are a lot of family ids, so we'll compress all of the families under 3 members into one code.\n",
        "family_ids_train[df_train[\"FamilySize\"] < 3] = -1\n",
        "family_ids_test[df_test[\"FamilySize\"] < 3] = -1\n",
        "\n",
        "# Print the count of each unique id.\n",
        "\n",
        "df_train[\"FamilyId\"] = family_ids_train\n",
        "df_test[\"FamilyId\"] = family_ids_test"
      ]
    },
    {
      "cell_type": "code",
      "execution_count": null,
      "metadata": {
        "_cell_guid": "dd1b9232-2bd2-a2a3-9416-878f39409532"
      },
      "outputs": [],
      "source": [
        "predictors = [\"Pclass\", \"Sex\", \"Age\", \"Fare\", \"FamilyId\", \"FamilySize\", \"Embarked\", \"Title\", \"FamilyId\"]\n",
        "\n",
        "algorithms = [\n",
        "    [GradientBoostingClassifier(random_state=1, n_estimators=25, max_depth=3), predictors],\n",
        "    [linear_model.LogisticRegression(random_state=1), [\"Pclass\", \"Sex\", \"Fare\", \"FamilySize\", \"Title\", \"Age\", \"Embarked\"]]]\n",
        "\n",
        "full_predictions = []\n",
        "for alg, predictors in algorithms:\n",
        "    # Fit the algorithm using the full training data.\n",
        "    alg.fit(df_train[predictors], df_train[\"Survived\"])\n",
        "    # Predict using the test dataset.  We have to convert all the columns to floats to avoid an error.\n",
        "    predictions = alg.predict_proba(df_test[predictors].astype(float))[:,1]\n",
        "    full_predictions.append(predictions)"
      ]
    },
    {
      "cell_type": "code",
      "execution_count": null,
      "metadata": {
        "_cell_guid": "9072ed98-606d-d8a4-cc27-182260009180"
      },
      "outputs": [],
      "source": [
        "# The gradient boosting classifier generates better predictions, so we weight it higher.\n",
        "predictions = (full_predictions[0] * 3 + full_predictions[1]) / 4\n",
        "predictions[predictions <= .5] = 0\n",
        "predictions[predictions > .5] = 1\n",
        "predictions = predictions.astype(int)\n",
        "submission = pd.DataFrame({\n",
        "    \"PassengerId\":df_test[\"PassengerId\"],\n",
        "    \"Survived\":predictions})\n",
        "submission.to_csv(\"kaggle.csv\", index=False)"
      ]
    }
  ],
  "metadata": {
    "_change_revision": 0,
    "_is_fork": false,
    "kernelspec": {
      "display_name": "Python 3",
      "language": "python",
      "name": "python3"
    },
    "language_info": {
      "codemirror_mode": {
        "name": "ipython",
        "version": 3
      },
      "file_extension": ".py",
      "mimetype": "text/x-python",
      "name": "python",
      "nbconvert_exporter": "python",
      "pygments_lexer": "ipython3",
      "version": "3.6.0"
    }
  },
  "nbformat": 4,
  "nbformat_minor": 0
}