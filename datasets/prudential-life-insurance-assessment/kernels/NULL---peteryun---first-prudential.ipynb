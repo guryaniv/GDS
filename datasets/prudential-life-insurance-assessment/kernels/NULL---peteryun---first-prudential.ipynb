{
  "cells": [
    {
      "cell_type": "code",
      "execution_count": null,
      "metadata": {
        "_cell_guid": "62053c68-77e7-b48d-3d83-e23a21ab8345"
      },
      "outputs": [],
      "source": [
        "# This Python 3 environment comes with many helpful analytics libraries installed\n",
        "# It is defined by the kaggle/python docker image: https://github.com/kaggle/docker-python\n",
        "# For example, here's several helpful packages to load in \n",
        "\n",
        "import numpy as np # linear algebra\n",
        "%matplotlib inline\n",
        "\n",
        "import matplotlib.pyplot as plt\n",
        "\n",
        "import seaborn as sns #http://ipython.readthedocs.io/en/stable/interactive/plotting.html\n",
        "\n",
        "import pandas as pd # data processing, CSV file I/O (e.g. pd.read_csv)\n",
        "from pandas import Series,DataFrame\n",
        "\n",
        "# Input data files are available in the \"../input/\" directory.\n",
        "# For example, running this (by clicking run |or pressing Shift+Enter) will list the files in the input directory\n",
        "\n",
        "from subprocess import check_output\n",
        "print(check_output([\"ls\", \"../input\"]).decode(\"utf8\"))\n",
        "\n",
        "# Any results you write to the current directory are saved as output."
      ]
    },
    {
      "cell_type": "code",
      "execution_count": null,
      "metadata": {
        "_cell_guid": "318ca7ef-fafe-7208-38df-52aa45e279c3"
      },
      "outputs": [],
      "source": [
        "# get training & test csv files as a DataFrame\n",
        "train_df = pd.read_csv(\"../input/train.csv\" )\n",
        "test_df    = pd.read_csv(\"../input/test.csv\")\n",
        "\n",
        "# preview the data\n",
        "train_df.head()"
      ]
    },
    {
      "cell_type": "code",
      "execution_count": null,
      "metadata": {
        "_cell_guid": "6f30719d-3ec9-5d6c-89ba-b29dc9322604"
      },
      "outputs": [],
      "source": [
        "train_df.info()\n",
        "train_df.dtypes"
      ]
    },
    {
      "cell_type": "code",
      "execution_count": null,
      "metadata": {
        "_cell_guid": "a404f88e-c010-2e55-f0a1-49533e13f3e6"
      },
      "outputs": [],
      "source": [
        "train_df.describe()"
      ]
    },
    {
      "cell_type": "markdown",
      "metadata": {
        "_cell_guid": "01d93e57-e8a3-807f-ed80-a9fb1984a04f"
      },
      "source": [
        "**response distribution**\n",
        "-------------------------"
      ]
    },
    {
      "cell_type": "code",
      "execution_count": null,
      "metadata": {
        "_cell_guid": "a34a4a70-e1f5-ca70-a61f-592310df9495"
      },
      "outputs": [],
      "source": [
        "aixs1 = plt.subplots(1,1,figsize=(10,5))\n",
        "sns.countplot(x='Response',data=train_df)"
      ]
    },
    {
      "cell_type": "markdown",
      "metadata": {
        "_cell_guid": "a0c68e47-3f5e-2cfc-6310-0e01082220b4"
      },
      "source": [
        "**age~response relationship**\n",
        "-----------------------------"
      ]
    },
    {
      "cell_type": "code",
      "execution_count": null,
      "metadata": {
        "_cell_guid": "6b6a5882-8dd6-ab48-5486-2ddd5b2e73ad"
      },
      "outputs": [],
      "source": [
        "facet = sns.FacetGrid(train_df, hue=\"Response\",aspect=4, hue_order=[1,2,3,4,5,6,7,8], palette=\"RdBu\")\n",
        "facet.map(sns.kdeplot,'Ins_Age')\n",
        "facet.set(xlim=(0, train_df['Ins_Age'].max()))\n",
        "facet.add_legend()"
      ]
    },
    {
      "cell_type": "code",
      "execution_count": null,
      "metadata": {
        "_cell_guid": "b51b9f0c-972c-4a7a-0952-fdc34eb43baf"
      },
      "outputs": [],
      "source": [
        "#\ud070 \uc758\ubbf8\ub294 \uc5c6\uace0, \ub9c9\ub300\uadf8\ub798\ud504\ub85c \ubd84\ud3ec \ud655\uc778\n",
        "fig, axis1 = plt.subplots(1,1,figsize=(15,5))\n",
        "sns.countplot(x=\"Ins_Age\",data=train_df, ax=axis1)"
      ]
    },
    {
      "cell_type": "code",
      "execution_count": null,
      "metadata": {
        "_cell_guid": "0a62211a-601f-100c-57d2-ce4e14f345fc"
      },
      "outputs": [],
      "source": [
        "sns.distplot(train_df[\"Ins_Age\"],bins=10,kde=True)"
      ]
    },
    {
      "cell_type": "markdown",
      "metadata": {
        "_cell_guid": "05a0d9bb-0176-47c3-1ba6-e9c7a77c457d"
      },
      "source": [
        "**employment_info_N ~ Response relation**\n",
        "-----------------------------------------"
      ]
    },
    {
      "cell_type": "code",
      "execution_count": null,
      "metadata": {
        "_cell_guid": "2618d90f-5953-8581-200d-1635cdded46b"
      },
      "outputs": [],
      "source": [
        "#employment_info_2,3,5\n",
        "fig, axis1 = plt.subplots(1,1,figsize=(15,5))\n",
        "sns.countplot(x='Employment_Info_3', hue=\"Response\", data=train_df, ax=axis1, hue_order=[1,2,3,4,5,6,7,8])"
      ]
    },
    {
      "cell_type": "code",
      "execution_count": null,
      "metadata": {
        "_cell_guid": "89b09d4f-b14f-8576-e1c9-5b6f7bc69348"
      },
      "outputs": [],
      "source": [
        "\n",
        "fig, axis1 = plt.subplots(1,1,figsize=(15,5))\n",
        "sns.countplot(x='Employment_Info_5', hue=\"Response\", data=train_df, ax=axis1, hue_order=[1,2,3,4,5,6,7,8])"
      ]
    },
    {
      "cell_type": "code",
      "execution_count": null,
      "metadata": {
        "_cell_guid": "b7200e77-0041-8cf9-6b33-e1b236682933"
      },
      "outputs": [],
      "source": [
        "g = sns.FacetGrid(train_df, col=\"Response\", col_wrap=2, \n",
        "                  size=5, )\n",
        "g.map(sns.countplot, \"Employment_Info_3\")"
      ]
    },
    {
      "cell_type": "markdown",
      "metadata": {
        "_cell_guid": "e0d9b09a-bf05-64f4-4012-5d4bf399abff"
      },
      "source": [
        "**Ht, Wt, BMI**\n",
        "---------------"
      ]
    },
    {
      "cell_type": "code",
      "execution_count": null,
      "metadata": {
        "_cell_guid": "a2fb41b2-c5be-e47c-cdab-36f8f7c40660"
      },
      "outputs": [],
      "source": [
        "#Ht FacetGrid\n",
        "facet = sns.FacetGrid(train_df, hue=\"Response\",aspect=4, hue_order=[1,2,3,4,5,6,7,8], palette=\"RdBu\")\n",
        "facet.map(sns.kdeplot,'Ht')\n",
        "facet.set(xlim=(0.4, train_df['Ht'].max())) #x\ucd95 \ubc94\uc704 \uc870\uc815 \n",
        "facet.add_legend() #\ubc94\ub840"
      ]
    },
    {
      "cell_type": "code",
      "execution_count": null,
      "metadata": {
        "_cell_guid": "aea07fdf-a48f-63d7-bc83-3cf170717f27"
      },
      "outputs": [],
      "source": [
        "#Wt FacetGrid\n",
        "facet = sns.FacetGrid(train_df, hue=\"Response\",aspect=4, hue_order=[1,2,3,4,5,6,7,8], palette=\"RdBu\")\n",
        "facet.map(sns.kdeplot,'Wt')\n",
        "facet.set(xlim=(0, train_df['Wt'].max()))\n",
        "facet.add_legend()"
      ]
    },
    {
      "cell_type": "code",
      "execution_count": null,
      "metadata": {
        "_cell_guid": "782ea5f9-5091-b553-f79f-af70778a6e86"
      },
      "outputs": [],
      "source": [
        "#BMI FacetGrid\n",
        "facet = sns.FacetGrid(train_df, hue=\"Response\",aspect=4, hue_order=[1,2,3,4,5,6,7,8], palette=\"RdBu\")\n",
        "facet.map(sns.kdeplot,'BMI')\n",
        "facet.set(xlim=(0, 1.0))\n",
        "facet.add_legend()"
      ]
    },
    {
      "cell_type": "code",
      "execution_count": null,
      "metadata": {
        "_cell_guid": "41e51ead-cf25-921d-6012-f3810cd9816b"
      },
      "outputs": [],
      "source": [
        "#BMI boxplot\n",
        "ax = sns.boxplot(x=\"Response\", y=\"BMI\", data=train_df, \n",
        "                 order=[1,2,3,4,5,6,7,8], palette=\"RdBu\")\n",
        "ax.set(ylim=(0, 1.1))"
      ]
    },
    {
      "cell_type": "code",
      "execution_count": null,
      "metadata": {
        "_cell_guid": "931a631e-0915-f7ea-4a40-ad25d5f9f544"
      },
      "outputs": [],
      "source": [
        "#Age ~ BMI\n",
        "fig, ax = plt.subplots(1,1,figsize=(14,8))\n",
        "cm = plt.cm.get_cmap('RdBu')\n",
        "ax = plt.scatter(train_df[\"Ins_Age\"], train_df[\"BMI\"], c=train_df[\"Response\"], alpha=0.5, cmap=cm)\n",
        "plt.xlim=(0, 1.0)\n",
        "plt.ylim=(0, 1.0)\n",
        "\n",
        "plt.title(\"Age vs BMI\")\n",
        "plt.xlabel(\"Age\")\n",
        "plt.ylabel(\"BMI\")\n",
        "\n",
        "cbar=plt.colorbar(ax)\n",
        "cbar.ax.set_ylabel('Response', rotation=270)"
      ]
    },
    {
      "cell_type": "markdown",
      "metadata": {
        "_cell_guid": "ea6df299-f179-2874-f9c6-7a19b4cf6048"
      },
      "source": [
        "###etc###"
      ]
    },
    {
      "cell_type": "code",
      "execution_count": null,
      "metadata": {
        "_cell_guid": "c49456e9-a476-7faa-e528-8f0d9b1ccdf1"
      },
      "outputs": [],
      "source": [
        "fig, axis1 = plt.subplots(1,1,figsize=(20,5))\n",
        "sns.countplot(x='InsuredInfo_6', hue=\"Response\", data=train_df, \n",
        "              ax=axis1, hue_order=[1,2,3,4,5,6,7,8], palette=\"RdBu\")"
      ]
    },
    {
      "cell_type": "code",
      "execution_count": null,
      "metadata": {
        "_cell_guid": "55e374fa-0f7f-368f-2c7a-2bea3504c3e7"
      },
      "outputs": [],
      "source": [
        "facet = sns.FacetGrid(train_df, hue=\"Response\",aspect=4, hue_order=[1,2,3,4,5,6,7,8], palette=\"RdBu\")\n",
        "facet.map(sns.kdeplot,'Insurance_History_5')\n",
        "facet.set(xlim=(0, 0.01))\n",
        "facet.add_legend()"
      ]
    },
    {
      "cell_type": "code",
      "execution_count": null,
      "metadata": {
        "_cell_guid": "36c6d793-1ab8-6dd8-02e3-c4d87a80dbe4"
      },
      "outputs": [],
      "source": [
        ""
      ]
    }
  ],
  "metadata": {
    "_change_revision": 0,
    "_is_fork": false,
    "kernelspec": {
      "display_name": "Python 3",
      "language": "python",
      "name": "python3"
    },
    "language_info": {
      "codemirror_mode": {
        "name": "ipython",
        "version": 3
      },
      "file_extension": ".py",
      "mimetype": "text/x-python",
      "name": "python",
      "nbconvert_exporter": "python",
      "pygments_lexer": "ipython3",
      "version": "3.6.0"
    }
  },
  "nbformat": 4,
  "nbformat_minor": 0
}