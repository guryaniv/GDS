{"cells":[
 {
  "cell_type": "code",
  "execution_count": null,
  "metadata": {
   "collapsed": false
  },
  "outputs": [],
  "source": "import pandas\n\ntrain = pandas.read_csv(\"../input/train.csv\")\ntest = pandas.read_csv(\"../input/test.csv\")\nprint(train.shape)\n\nprint(test.shape)\n\nprint(train.head(n=5))\nprint(test.head(n=5))\n"
 },
 {
  "cell_type": "code",
  "execution_count": null,
  "metadata": {
   "collapsed": false
  },
  "outputs": [],
  "source": ""
 }
],"metadata":{"kernelspec":{"display_name":"Python 3","language":"python","name":"python3"}}, "nbformat": 4, "nbformat_minor": 0}