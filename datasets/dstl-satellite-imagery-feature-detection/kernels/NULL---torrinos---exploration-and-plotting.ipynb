{
  "metadata": {
    "kernelspec": {
      "display_name": "Python 3",
      "language": "python",
      "name": "python3"
    },
    "language_info": {
      "codemirror_mode": {
        "name": "ipython",
        "version": 3
      },
      "file_extension": ".py",
      "mimetype": "text/x-python",
      "name": "python",
      "nbconvert_exporter": "python",
      "pygments_lexer": "ipython3",
      "version": "3.5.2"
    }
  },
  "nbformat": 4,
  "nbformat_minor": 0,
  "cells": [
    {
      "cell_type": "markdown",
      "metadata": {
        "_cell_guid": "b878500d-ac91-574f-fb85-af99a66ff166",
        "_active": false
      },
      "source": "## Reading WKT and plotting with Pyplot",
      "outputs": []
    },
    {
      "cell_type": "code",
      "execution_count": 15,
      "metadata": {
        "_cell_guid": "b9bc9c0c-0fa1-da59-73cf-ed39517994ef",
        "_active": false
      },
      "outputs": [],
      "source": "import pandas as pd\nimport numpy as np\nfrom shapely.wkt import loads\nfrom matplotlib.patches import Polygon\nimport matplotlib.pyplot as plt\n\ndf = pd.read_csv('../input/train_wkt_v2.csv')\ndf.head()",
      "execution_state": "idle"
    },
    {
      "cell_type": "code",
      "execution_count": 19,
      "metadata": {
        "_cell_guid": "c233d5d6-68a0-2ae8-5757-d58291245163",
        "_active": false,
        "collapsed": false
      },
      "outputs": [],
      "source": "# Use just first image\npolygonsList = {}\nimage = df[df.ImageId == '6120_2_2']\nfor cType in image.ClassType.unique():\n    polygonsList[cType] = loads(image[image.ClassType == cType].MultipolygonWKT.values[0])",
      "execution_state": "idle"
    },
    {
      "cell_type": "code",
      "execution_count": 20,
      "metadata": {
        "_cell_guid": "1fcab23c-506c-736d-86a4-32644a7226ce",
        "_active": false
      },
      "outputs": [],
      "source": "# plot using matplotlib\nfig, ax = plt.subplots(figsize=(8, 8))\n\n# plotting, color by class type\nfor p in polygonsList:\n    for polygon in polygonsList[p]:\n        mpl_poly = Polygon(np.array(polygon.exterior), color=plt.cm.Set1(p*10), lw=0, alpha=0.3)\n        ax.add_patch(mpl_poly)\n\nax.relim()\nax.autoscale_view()",
      "execution_state": "idle"
    },
    {
      "cell_type": "code",
      "execution_count": null,
      "metadata": {
        "_cell_guid": "7a4b1b5a-43bf-911f-fbe3-5ad5e8e937d7",
        "_active": false
      },
      "outputs": [],
      "source": "# number of objects on the image by type\n'''\n1. Buildings\n2. Misc. Manmade structures \n3. Road \n4. Track - poor/dirt/cart track, footpath/trail\n5. Trees - woodland, hedgerows, groups of trees, standalone trees\n6. Crops - contour ploughing/cropland, grain (wheat) crops, row (potatoes, turnips) crops\n7. Waterway \n8. Standing water\n9. Vehicle Large - large vehicle (e.g. lorry, truck,bus), logistics vehicle\n10. Vehicle Small - small vehicle (car, van), motorbike\n'''\nfor p in polygonsList:\n    print(\"Type: {:4d}, objects: {}\".format(p,len(polygonsList[p].geoms)))"
    },
    {
      "cell_type": "markdown",
      "metadata": {
        "_cell_guid": "e245177a-5548-bdbb-2c52-f552a7f3093b",
        "_active": false
      },
      "source": "## Exploring available dataset\n\nLet's look at all available images and see how many objects of which type are there, what is there areas and how these vary from image to image.",
      "outputs": []
    },
    {
      "cell_type": "code",
      "execution_count": 16,
      "metadata": {
        "_cell_guid": "ea7c4f5d-76ab-3b89-2eb4-b42c713d55ee",
        "_active": false
      },
      "outputs": [],
      "source": "# number of images in available kernel dataset?\ndf.ImageId.unique()",
      "execution_state": "idle"
    },
    {
      "cell_type": "code",
      "execution_count": null,
      "metadata": {
        "_cell_guid": "79374cf5-b772-754b-b6ce-8227bdafacb4",
        "_active": false
      },
      "outputs": [],
      "source": "# convert to shapely, get geometries and pivot\ndf['polygons'] = df.apply(lambda row: loads(row.MultipolygonWKT),axis=1)\ndf['nPolygons'] = df.apply(lambda row: len(row['polygons'].geoms),axis=1)\n\npvt = df.pivot(index='ImageId', columns='ClassType', values='nPolygons')\npvt"
    },
    {
      "cell_type": "code",
      "execution_count": null,
      "metadata": {
        "_cell_guid": "a965f287-e53c-0cd4-591e-bbe428277701",
        "_active": false
      },
      "outputs": [],
      "source": "fig, ax = plt.subplots(figsize=(10, 4))\nax.set_aspect('equal')\nplt.imshow(pvt.T, interpolation='nearest', cmap=plt.cm.Blues, extent=[0,22,10,1])\nplt.yticks(np.arange(1, 11, 1.0))\nplt.title('Number of objects by type')\nplt.ylabel('Class Type')\nplt.xlabel('Image')\nplt.colorbar()\nplt.show()"
    },
    {
      "cell_type": "markdown",
      "metadata": {
        "_cell_guid": "4e4cbeae-b332-2173-a14d-65bbbd48905e",
        "_active": false
      },
      "source": "Numbers-wise trees are leading by far, being the only major object type on some of the images. They are followed by buildings and other man structures, which are actually not present on every image, as well as vehicles. Waterways are present on only one image, which actually was added in v2 of WKT file, added after the first version of this kernel was published. \n\nVisually there also appears to be a correlation between the number of trees and buildings/structures.",
      "outputs": []
    },
    {
      "cell_type": "code",
      "execution_count": null,
      "metadata": {
        "_cell_guid": "8d1a6812-884a-3258-f1db-c540796fc11b",
        "_active": false
      },
      "outputs": [],
      "source": "from scipy.stats import pearsonr\nprint(\"Trees vs Buildings: {:5.4f}\".format(pearsonr(pvt[1],pvt[5])[0]))\nprint(\"Trees vs Buildings and Structures: {:5.4f}\".format(pearsonr(pvt[1]+pvt[2],pvt[5])[0]))"
    },
    {
      "cell_type": "markdown",
      "metadata": {
        "_cell_guid": "7bccf7a9-81ec-ef27-0d56-9ea66ca05885",
        "_active": false
      },
      "source": "Indeed there is a medium strength negative correlation, which however may be specific to the given training dataset.",
      "outputs": []
    },
    {
      "cell_type": "markdown",
      "metadata": {
        "_cell_guid": "d8983f10-2771-c202-51b3-2ea2dbe51950",
        "_active": false
      },
      "source": "## Plot all images\n\nThere are 22 images in train_wkt_v2.csv file.",
      "outputs": []
    },
    {
      "cell_type": "code",
      "execution_count": null,
      "metadata": {
        "_cell_guid": "0d44ec60-1f74-854e-5077-3b0a001da484",
        "_active": false
      },
      "outputs": [],
      "source": "for im in df.ImageId.unique():\n    image = df[df.ImageId == im]\n    for cType in image.ClassType.unique():\n        polygonsList[cType] = loads(image[image.ClassType == cType].MultipolygonWKT.values[0])\n    \n    # plot using matplotlib\n    fig, ax = plt.subplots(figsize=(8, 8))\n\n    # plotting, color by class type\n    for p in polygonsList:\n        for polygon in polygonsList[p]:\n            mpl_poly = Polygon(np.array(polygon.exterior), color=plt.cm.Set1(p*10), lw=0, alpha=0.3)\n            ax.add_patch(mpl_poly)\n\n    ax.relim()\n    ax.autoscale_view()\n    plt.show()"
    },
    {
      "metadata": {
        "_cell_guid": "71e35955-206d-cb42-de2a-c4c53059d2b6",
        "_active": false,
        "collapsed": false
      },
      "source": "## Reading tif Files\n\nGDAL nor tifffile are available in kernels, so we'll have to use numpy with PIL or scipy. \n\nWe'll work with one image only. By the way, the files available in \"sixteen_band\" folder for kernel are not exactly the same as the one for which we have polygons available in train_wkt_v2.csv file.",
      "execution_count": null,
      "cell_type": "markdown",
      "outputs": []
    },
    {
      "metadata": {
        "_cell_guid": "064c3444-71aa-d3c8-e304-ad63165c5413",
        "_active": true,
        "collapsed": false
      },
      "source": "from PIL import Image\nfile='../input/sixteen_band/6120_2_2_A.tif'\n#imBandA = Image.open(rb'../input/three_band/6120_2_2.tif')\n#imBandA.show()\n\n#from scipy import misc\n#raster = misc.imread('../input/sixteen_band/6120_2_2_A.tif')\n#type(raster)\n\nimport os\nos.listdir('../input/three_band')\n\nwith open('../input/three_band/6120_2_2.tif',encoding='utf-8', errors='ignore') as f:\n    print(f.readlines())\n\nimarray = plt.imread('image.tif')",
      "execution_count": 37,
      "cell_type": "code",
      "outputs": [],
      "execution_state": "busy"
    }
  ]
}