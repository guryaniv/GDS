{
  "cells": [
    {
      "cell_type": "markdown",
      "metadata": {
        "_cell_guid": "b66e237b-01ba-6235-0bf4-982e397c3ed0"
      },
      "source": [
        "## technical_13 does NOT help predict y_hat\n",
        "\n",
        "I'm not convinced that technical_13 adds value to the technical_20,30 prediction of y (y_hat), as suggested by @damf in the comments of https://www.kaggle.com/chenjx1005/two-sigma-financial-modeling/physical-meanings-of-technical-20-30/comments . \n",
        "\n",
        "This notebook compares adding technical_13 to not adding it.  Tell me where I am wrong.\n",
        "\n",
        "I conclude that while technical_13 is related to y, I think we should look at it separately to figure out what it is."
      ]
    },
    {
      "cell_type": "code",
      "execution_count": null,
      "metadata": {
        "_cell_guid": "543d3bd6-40e7-30f1-8859-502141d15060"
      },
      "outputs": [],
      "source": [
        "# This Python 3 environment comes with many helpful analytics libraries installed\n",
        "# It is defined by the kaggle/python docker image: https://github.com/kaggle/docker-python\n",
        "# For example, here's several helpful packages to load in \n",
        "\n",
        "import numpy as np # linear algebra\n",
        "import pandas as pd # data processing, CSV file I/O (e.g. pd.read_csv)\n",
        "\n",
        "# Input data files are available in the \"../input/\" directory.\n",
        "# For example, running this (by clicking run or pressing Shift+Enter) will list the files in the input directory\n",
        "\n",
        "from subprocess import check_output\n",
        "print(check_output([\"ls\", \"../input\"]).decode(\"utf8\"))\n",
        "\n",
        "# Any results you write to the current directory are saved as output."
      ]
    },
    {
      "cell_type": "code",
      "execution_count": null,
      "metadata": {
        "_cell_guid": "f85c8757-65aa-6612-b606-91e8dde5b8c3"
      },
      "outputs": [],
      "source": [
        "#load the data\n",
        "train = pd.HDFStore(\"../input/train.h5\", \"r\").get(\"train\")\n",
        "train.shape"
      ]
    },
    {
      "cell_type": "code",
      "execution_count": null,
      "metadata": {
        "_cell_guid": "94b7d1ef-5f4d-86cb-d121-61b270c1e26e"
      },
      "outputs": [],
      "source": [
        "# Shape the train set into a panel\n",
        "df_train = train.set_index(['id','timestamp'])\n",
        "p_train = df_train.to_panel()\n",
        "p_train = p_train.transpose(1,2,0)\n",
        "p_train"
      ]
    },
    {
      "cell_type": "code",
      "execution_count": null,
      "metadata": {
        "_cell_guid": "5531d493-b67b-4631-6846-129026b1f88d"
      },
      "outputs": [],
      "source": [
        "y13 = 0     # count of the number of times y_hat is improved by adding technical_13 \n",
        "yno13 = 0   # count of the number of times y_hat is NOT improved by adding technical_13 \n",
        "for id in p_train.items:\n",
        "    dff = p_train[id] # DF of the item or security instrument\n",
        "    y_feature_13 = dff.technical_20 + dff.technical_13 - dff.technical_30\n",
        "    y_feature = dff.technical_20 - dff.technical_30\n",
        "    \n",
        "    y_hat_13 = (y_feature_13.shift(-1) - (0.92 * y_feature)) / 0.07 \n",
        "    y_hat = (y_feature.shift(-1) - (0.92 * y_feature)) / 0.07\n",
        "    \n",
        "    corr_y_13 = y_hat_13.corr(dff.y, method='spearman')\n",
        "    corr_y = y_hat.corr(dff.y, method='spearman')\n",
        "    \n",
        "    if corr_y < corr_y_13:\n",
        "        y13 += 1\n",
        "    else:\n",
        "        yno13 +=1\n",
        "print(y13 / (y13 + yno13), y13, yno13)"
      ]
    },
    {
      "cell_type": "markdown",
      "metadata": {
        "_cell_guid": "bd6f1354-8c43-a9ee-63af-a600be8947dd"
      },
      "source": [
        "### This means that technical_13 improves the correlation to y 2% of the time, or 37 out of 1,424 times. Not good."
      ]
    },
    {
      "cell_type": "code",
      "execution_count": null,
      "metadata": {
        "_cell_guid": "d24a6111-b9da-ba8c-e236-da7f7caca9b0"
      },
      "outputs": [],
      "source": [
        "import matplotlib.pyplot as plt\n",
        "%matplotlib inline\n",
        "plt.rcParams['figure.figsize'] = (12.0, 6.0)\n",
        "plt.style.use('ggplot')"
      ]
    },
    {
      "cell_type": "markdown",
      "metadata": {
        "_cell_guid": "e864d473-7cc7-42c8-dcc8-021f02edbc0f"
      },
      "source": [
        "### Lets look at some examples, say the first 10 id's.\n",
        "We plot y, y_hat, and y_hat_13 (adding in technical_13), and print the correlation to y in the legend."
      ]
    },
    {
      "cell_type": "code",
      "execution_count": null,
      "metadata": {
        "_cell_guid": "17fcad0e-8cb4-a452-ab18-b5f2eaa8ffde"
      },
      "outputs": [],
      "source": [
        "for id in p_train.items[:10]:\n",
        "    dff = p_train[id] \n",
        "    y_feature_13 = dff.technical_20 + dff.technical_13 - dff.technical_30\n",
        "    y_feature = dff.technical_20 - dff.technical_30\n",
        "\n",
        "    y_hat_13 = (y_feature_13.shift(-1) - (0.92 * y_feature)) / 0.07 \n",
        "    y_hat = (y_feature.shift(-1) - (0.92 * y_feature)) / 0.07 \n",
        "\n",
        "    corr_y_13 = y_hat_13.corr(dff.y, method='spearman')\n",
        "    corr_y = y_hat.corr(dff.y, method='spearman')\n",
        "\n",
        "    y_hat_13_s = y_hat_13.dropna()\n",
        "    y_hat_s = y_hat.dropna()\n",
        "\n",
        "    ax = y_hat_13_s.cumsum().plot( lw=1,c='b',label='y_hat_13 '+\"{0:.4f}\".format(corr_y_13),legend=True)\n",
        "    ax = y_hat_s.cumsum().plot(ax=ax, lw=1,c='g',label='y_hat '+\"{0:.4f}\".format(corr_y),legend=True)\n",
        "    ax = dff.y[y_hat_13_s.index[0]:].dropna().cumsum().plot(ax=ax, lw=1, c='r',label='y',legend=True,title='id='+str(id))\n",
        "    plt.title('id='+str(id))\n",
        "    plt.show()"
      ]
    },
    {
      "cell_type": "markdown",
      "metadata": {
        "_cell_guid": "2ff8c557-4fed-2d38-926a-8deb72df98e2"
      },
      "source": [
        "Clearly technical_13 is related to y as adding it does not destroy the correlation to y.  But it may be more a measure of volatility than a component of y.  I think we should look at technical_13 separately to figure out what it is."
      ]
    },
    {
      "cell_type": "code",
      "execution_count": null,
      "metadata": {
        "_cell_guid": "6fe95658-c9e7-a341-0314-0195ed031060"
      },
      "outputs": [],
      "source": ""
    }
  ],
  "metadata": {
    "_change_revision": 0,
    "_is_fork": false,
    "kernelspec": {
      "display_name": "Python 3",
      "language": "python",
      "name": "python3"
    },
    "language_info": {
      "codemirror_mode": {
        "name": "ipython",
        "version": 3
      },
      "file_extension": ".py",
      "mimetype": "text/x-python",
      "name": "python",
      "nbconvert_exporter": "python",
      "pygments_lexer": "ipython3",
      "version": "3.6.0"
    }
  },
  "nbformat": 4,
  "nbformat_minor": 0
}