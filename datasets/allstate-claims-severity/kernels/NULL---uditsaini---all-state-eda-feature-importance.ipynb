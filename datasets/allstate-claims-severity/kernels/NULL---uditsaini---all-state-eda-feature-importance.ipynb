{
  "cells": [
    {
      "cell_type": "code",
      "execution_count": null,
      "metadata": {
        "_cell_guid": "de45be16-f763-71a5-8987-3d04b8817120"
      },
      "outputs": [],
      "source": [
        "# This Python 3 environment comes with many helpful analytics libraries installed\n",
        "# It is defined by the kaggle/python docker image: https://github.com/kaggle/docker-python\n",
        "# For example, here's several helpful packages to load in \n",
        "import warnings\n",
        "warnings.filterwarnings('ignore')\n",
        "import numpy as np # linear algebra\n",
        "import matplotlib.pyplot as plt\n",
        "import pandas as pd # data processing, CSV file I/O (e.g. pd.read_csv)\n",
        "plt.figure(figsize=(13,9))\n",
        "# Input data files are available in the \"../input/\" directory.\n",
        "# For example, running this (by clicking run or pressing Shift+Enter) will list the files in the input directory\n",
        "import seaborn\n",
        "from subprocess import check_output\n",
        "\n",
        "import seaborn as sns\n",
        "%matplotlib inline\n",
        "# Any results you write to the current directory are saved as output."
      ]
    },
    {
      "cell_type": "code",
      "execution_count": null,
      "metadata": {
        "_cell_guid": "ef456f63-9544-8d4b-4eca-aad0f6b4200e"
      },
      "outputs": [],
      "source": [
        "train=pd.read_csv(\"../input/train.csv\")"
      ]
    },
    {
      "cell_type": "code",
      "execution_count": null,
      "metadata": {
        "_cell_guid": "774ba82b-9037-e8e6-21c1-40caf46e8187"
      },
      "outputs": [],
      "source": [
        "catvar=[col for col in train.columns if 'cat' in col]\n",
        "contvar=[col for col in train.columns if 'cont' in col]"
      ]
    },
    {
      "cell_type": "code",
      "execution_count": null,
      "metadata": {
        "_cell_guid": "f58997ae-51d7-3c76-ab6f-5ffa4fdbd740"
      },
      "outputs": [],
      "source": [
        "print('continuous variables ',catvar)\n",
        "print('categorical variables ',contvar)"
      ]
    },
    {
      "cell_type": "code",
      "execution_count": null,
      "metadata": {
        "_cell_guid": "da0f5a69-2ab7-4c43-9f57-dfb5c7ebf153"
      },
      "outputs": [],
      "source": [
        "correlationMatrix =train[contvar+['loss']].corr().abs()\n",
        "plt.subplots(figsize=(13, 9))\n",
        "sns.heatmap(correlationMatrix,annot=True)\n",
        "plt.show()"
      ]
    },
    {
      "cell_type": "code",
      "execution_count": null,
      "metadata": {
        "_cell_guid": "58c10c6c-fc81-ed56-c4dc-68de31da2f1f"
      },
      "outputs": [],
      "source": [
        "#loss distribution \n",
        "plt.subplots(figsize=(13, 9))\n",
        "sns.kdeplot(train.loss)"
      ]
    },
    {
      "cell_type": "code",
      "execution_count": null,
      "metadata": {
        "_cell_guid": "3413ce66-ac8b-83f0-aeea-47346b5dd76e"
      },
      "outputs": [],
      "source": [
        "from scipy import stats\n",
        "sns.kdeplot(np.log1p(train.loss))"
      ]
    },
    {
      "cell_type": "code",
      "execution_count": null,
      "metadata": {
        "_cell_guid": "057d99fe-04c2-ee05-ace2-8970f41a05bc"
      },
      "outputs": [],
      "source": [
        "#distribution of categorical variables \n",
        "for col in catvar:\n",
        "    sns.countplot(train[col])\n",
        "    sns.plt.title(col)\n",
        "    plt.show()"
      ]
    },
    {
      "cell_type": "code",
      "execution_count": null,
      "metadata": {
        "_cell_guid": "150988eb-7334-bdaf-3009-1c6ece8ef640"
      },
      "outputs": [],
      "source": [
        "#distribution of continuse variables\n",
        "for col in contvar:\n",
        "    sns.distplot(train[col])\n",
        "    plt.show()"
      ]
    },
    {
      "cell_type": "code",
      "execution_count": null,
      "metadata": {
        "_cell_guid": "17196c98-206c-5aaf-ea3d-14e7645bf62b"
      },
      "outputs": [],
      "source": [
        "#distribution of continuse variables after log transformation\n",
        "for col in contvar:\n",
        "    sns.distplot(np.log1p(train[col]))\n",
        "    plt.show()"
      ]
    },
    {
      "cell_type": "code",
      "execution_count": null,
      "metadata": {
        "_cell_guid": "6ef4f017-2667-5403-4643-c93d1f6f618a"
      },
      "outputs": [],
      "source": [
        "#check skewness in each continus variable\n",
        "train[contvar].apply(lambda x: stats.skew(x))"
      ]
    },
    {
      "cell_type": "code",
      "execution_count": null,
      "metadata": {
        "_cell_guid": "81994a4c-9ad6-8c08-0c54-6ec4f12f13a9"
      },
      "outputs": [],
      "source": [
        "#unique value count in each catgorial variable\n",
        "for col in catvar:\n",
        "    print(train[col].value_counts())"
      ]
    },
    {
      "cell_type": "code",
      "execution_count": null,
      "metadata": {
        "_cell_guid": "f4a23a49-d2aa-f664-4f8c-f645f1385d52"
      },
      "outputs": [],
      "source": [
        "#lets find out some importent variable \n",
        "from sklearn.preprocessing import LabelEncoder\n",
        "le=LabelEncoder()"
      ]
    },
    {
      "cell_type": "code",
      "execution_count": null,
      "metadata": {
        "_cell_guid": "8a3fb20c-da95-4552-22eb-3fb6c61c4550"
      },
      "outputs": [],
      "source": [
        "for col in catvar:\n",
        "    train[col]=le.fit_transform(train[col])"
      ]
    },
    {
      "cell_type": "code",
      "execution_count": null,
      "metadata": {
        "_cell_guid": "b417c9a4-f30a-9955-7ee4-a57c6e6e9631"
      },
      "outputs": [],
      "source": [
        "import xgboost as xgb\n",
        "#make log box cox transformation of continus variables\n",
        "for col in contvar:\n",
        "    train[col]=np.log(train[col])"
      ]
    },
    {
      "cell_type": "code",
      "execution_count": null,
      "metadata": {
        "_cell_guid": "7305064e-7639-be90-bd61-d39efe9d3ebf"
      },
      "outputs": [],
      "source": [
        "params = {}\n",
        "params['booster'] = 'gbtree'\n",
        "params['objective'] = \"reg:linear\"\n",
        "params['eval_metric'] = 'mae'\n",
        "params['eta'] = 0.1\n",
        "params['gamma'] = 0.5290\n",
        "params['min_child_weight'] = 4.2922\n",
        "params['colsample_bytree'] = 0.3085\n",
        "params['subsample'] = 0.9930\n",
        "params['max_depth'] = 7\n",
        "params['max_delta_step'] = 0\n",
        "params['silent'] = 1\n",
        "params['random_state'] = 1001\n",
        "dtrain = xgb.DMatrix(train[catvar+contvar], label =np.log1p(train['loss']))\n",
        "\n",
        "evallist  = [(dtrain,'train')]\n",
        "bst =xgb.train(params,dtrain,num_boost_round=250,evals=evallist,early_stopping_rounds=8, verbose_eval=10)"
      ]
    },
    {
      "cell_type": "code",
      "execution_count": null,
      "metadata": {
        "_cell_guid": "72a0b42b-245a-2695-d6a6-f7da6c583d69"
      },
      "outputs": [],
      "source": [
        "outfile = open(\"fe.map\", 'w')\n",
        "i = 0\n",
        "for feat in catvar+contvar:\n",
        "    outfile.write('{0}\\t{1}\\tq\\n'.format(i, feat))\n",
        "    i = i + 1\n",
        "outfile.close()"
      ]
    },
    {
      "cell_type": "code",
      "execution_count": null,
      "metadata": {
        "_cell_guid": "83886b36-7225-efbd-2049-65e8088ad940"
      },
      "outputs": [],
      "source": [
        "import operator\n",
        "importance = bst.get_fscore(fmap=\"fe.map\")\n",
        "importance = sorted(importance.items(), key=operator.itemgetter(1))\n",
        "df = pd.DataFrame(importance, columns=['feature', 'fscore'])\n",
        "df['fscore'] = df['fscore'] / df['fscore'].sum()\n",
        "plt.figure()\n",
        "df.head(25).plot()\n",
        "df.head(25).plot(kind='barh', x='feature', y='fscore', legend=False, figsize=(6, 10))\n",
        "plt.title('XGBoost Feature Importance')\n",
        "plt.xlabel('relative importance')"
      ]
    },
    {
      "cell_type": "code",
      "execution_count": null,
      "metadata": {
        "_cell_guid": "fc8cd28a-521e-033b-2858-203d9d9074a3"
      },
      "outputs": [],
      "source": [
        "#all importent features are categorical feature lets predict using this features\n",
        "test=pd.read_csv(\"../input/test.csv\")\n",
        "train=pd.read_csv(\"../input/train.csv\")"
      ]
    },
    {
      "cell_type": "code",
      "execution_count": null,
      "metadata": {
        "_cell_guid": "1841a1a5-4f21-cb22-ba4a-dc932cd1421b"
      },
      "outputs": [],
      "source": [
        "features=list(df['feature'].head(20).values)+contvar"
      ]
    },
    {
      "cell_type": "code",
      "execution_count": null,
      "metadata": {
        "_cell_guid": "f9b75549-2c48-18e3-cd8e-85ea2d3554c2"
      },
      "outputs": [],
      "source": [
        "dtrain=pd.get_dummies(train[features])\n",
        "dtest=pd.get_dummies(test[features])\n",
        "params = {}\n",
        "params['booster'] = 'gbtree'\n",
        "params['objective'] = \"reg:linear\"\n",
        "params['eval_metric'] = 'mae'\n",
        "params['eta'] = 0.06\n",
        "params['gamma'] = 0.5290\n",
        "params['min_child_weight'] = 4.2922\n",
        "params['colsample_bytree'] = 0.5\n",
        "params['subsample'] = 0.8\n",
        "params['max_depth'] = 7\n",
        "params['max_delta_step'] = 0\n",
        "params['silent'] = 1\n",
        "params['random_state'] = 1001\n",
        "dtrain = xgb.DMatrix(dtrain, label =np.log1p(train['loss']))\n",
        "dtest = xgb.DMatrix(dtest)\n",
        "evallist  = [(dtrain,'train')]\n",
        "model =xgb.train(params,dtrain,num_boost_round=500,evals=evallist,early_stopping_rounds=8, verbose_eval=10)"
      ]
    },
    {
      "cell_type": "code",
      "execution_count": null,
      "metadata": {
        "_cell_guid": "ffc082a1-0d35-a1c6-b4df-7d1ddaca4e30"
      },
      "outputs": [],
      "source": [
        "preds=np.expm1(model.predict(dtest))\n",
        "submission = pd.DataFrame({\"id\":test.id,\"loss\":preds})\n",
        "submission.to_csv('submission.csv', index=None)"
      ]
    }
  ],
  "metadata": {
    "_change_revision": 0,
    "_is_fork": false,
    "kernelspec": {
      "display_name": "Python 3",
      "language": "python",
      "name": "python3"
    },
    "language_info": {
      "codemirror_mode": {
        "name": "ipython",
        "version": 3
      },
      "file_extension": ".py",
      "mimetype": "text/x-python",
      "name": "python",
      "nbconvert_exporter": "python",
      "pygments_lexer": "ipython3",
      "version": "3.5.2"
    }
  },
  "nbformat": 4,
  "nbformat_minor": 0
}