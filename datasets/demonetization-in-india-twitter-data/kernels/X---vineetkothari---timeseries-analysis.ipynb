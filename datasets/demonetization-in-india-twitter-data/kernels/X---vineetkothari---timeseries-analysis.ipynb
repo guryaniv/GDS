{
  "cells": [
    {
      "cell_type": "markdown",
      "metadata": {
        "_cell_guid": "b5a23aa4-2c7d-6c65-779a-7d3c8cd77ddc"
      },
      "source": [
        "# Timeseries Analysis (v0.1)\n",
        "\n",
        "This Kernel show basic analysis on basis of number of tweets/re-tweets per hour"
      ]
    },
    {
      "cell_type": "code",
      "execution_count": null,
      "metadata": {
        "_cell_guid": "d7db09b8-d701-6536-59d4-cfd3c45aec96"
      },
      "outputs": [],
      "source": [
        "import numpy as np \n",
        "import pandas as pd\n",
        "import matplotlib as mpl\n",
        "import matplotlib.pyplot as plt\n",
        "import seaborn as sns\n",
        "%matplotlib inline\n",
        "sns.set(style=\"whitegrid\")"
      ]
    },
    {
      "cell_type": "markdown",
      "metadata": {
        "_cell_guid": "f2e6c658-0838-58a4-d207-b8ff9a4cd620"
      },
      "source": [
        "### Load CSV data\n",
        "\n",
        "Encoding=\"ISO-8859-1\" is required due to special characters in `text` column"
      ]
    },
    {
      "cell_type": "code",
      "execution_count": null,
      "metadata": {
        "_cell_guid": "c60acb8b-262e-615a-54b0-1aa3fb6f3c54"
      },
      "outputs": [],
      "source": [
        "df_tweets = pd.read_csv('../input/demonetization-tweets.csv', parse_dates=['created'], header=0, encoding=\"ISO-8859-1\")\n",
        "df_tweets.head(5)"
      ]
    },
    {
      "cell_type": "markdown",
      "metadata": {
        "_cell_guid": "482fe550-7624-b4a9-4142-d88fa3ef2ace"
      },
      "source": [
        "\n",
        "### Pre-process Data\n",
        "\n",
        "We create new columns namely hour, date & count for our analysis"
      ]
    },
    {
      "cell_type": "markdown",
      "metadata": {
        "_cell_guid": "c1ab2011-1ed1-ad3c-018c-bc2026b0fe2d"
      },
      "source": [
        "**Plot graph for number of Re-Tweets per hour**"
      ]
    },
    {
      "cell_type": "code",
      "execution_count": null,
      "metadata": {
        "_cell_guid": "332a7f7d-1a06-7825-fc50-0d8bb5eefd8b"
      },
      "outputs": [],
      "source": [
        "df_tweets['date'] = pd.DatetimeIndex(df_tweets['created']).date\n",
        "df_tweets['hour'] = pd.DatetimeIndex(df_tweets['created']).hour\n",
        "df_tweets['minutes'] = pd.DatetimeIndex(df_tweets['created']).minute\n",
        "df_tweets['seconds'] = pd.DatetimeIndex(df_tweets['created']).second\n",
        "#convertinng to seconds \n",
        "df_tweets['time'] = df_tweets['hour'] * 3600 + df_tweets['minutes'] * 60 + df_tweets['seconds']\n",
        "df_tweets_filtered = df_tweets[['date', 'retweetCount','text','time']]\n",
        "df_tweets_filtered.head(5)"
      ]
    },
    {
      "cell_type": "code",
      "execution_count": null,
      "metadata": {
        "_cell_guid": "1fef73d6-8e4e-a457-e1d0-fc28dcba9f04"
      },
      "outputs": [],
      "source": [
        "#stripping text so hat it could be fit in the graph\n",
        "label=df_tweets_filtered['text']\n",
        "labels=label.head(10).str.split(' ').str\n",
        "labels=labels[1]\n",
        "labels"
      ]
    },
    {
      "cell_type": "code",
      "execution_count": null,
      "metadata": {
        "_cell_guid": "1e12eab2-24ef-6702-b458-a237aacb77d3"
      },
      "outputs": [],
      "source": [
        "#scatter plot\n",
        "N = 10\n",
        "labels = labels\n",
        "plt.subplots_adjust(bottom = 0.5)\n",
        "plt.scatter(\n",
        "    df_tweets_filtered['time'].head(10),df_tweets_filtered['retweetCount'].head(10), marker = 'o')\n",
        "for label, x, y in zip(labels,df_tweets_filtered['time'].head(10), df_tweets_filtered['retweetCount'].head(10)):\n",
        "    plt.annotate(\n",
        "        label, \n",
        "        xy = (x, y), xytext = (-30, 30),\n",
        "        textcoords = 'offset points', ha = 'left', va = 'bottom',\n",
        "        bbox = dict(boxstyle = 'round,pad=0.5', fc = 'green', alpha = 0.5),\n",
        "        arrowprops = dict(arrowstyle = '->', connectionstyle = 'arc3,rad=0'))\n",
        "plt.plot(df_tweets_filtered['time'].head(10), df_tweets_filtered['retweetCount'].head(10))\n",
        "plt.show()"
      ]
    },
    {
      "cell_type": "code",
      "execution_count": null,
      "metadata": {
        "_cell_guid": "05d94b1a-d658-3f61-ecbe-f3f7090ae2c1"
      },
      "outputs": [],
      "source": [
        ""
      ]
    },
    {
      "cell_type": "code",
      "execution_count": null,
      "metadata": {
        "_cell_guid": "15bdf110-f356-c4d7-4e54-33535abc5d0d"
      },
      "outputs": [],
      "source": [
        ""
      ]
    }
  ],
  "metadata": {
    "_change_revision": 0,
    "_is_fork": false,
    "kernelspec": {
      "display_name": "Python 3",
      "language": "python",
      "name": "python3"
    },
    "language_info": {
      "codemirror_mode": {
        "name": "ipython",
        "version": 3
      },
      "file_extension": ".py",
      "mimetype": "text/x-python",
      "name": "python",
      "nbconvert_exporter": "python",
      "pygments_lexer": "ipython3",
      "version": "3.5.2"
    }
  },
  "nbformat": 4,
  "nbformat_minor": 0
}