{
  "cells": [
    {
      "cell_type": "code",
      "execution_count": null,
      "metadata": {
        "_cell_guid": "4286a2d3-c8d0-4a30-86e7-f0ff7601daf4"
      },
      "outputs": [],
      "source": [
        "# This Python 3 environment comes with many helpful analytics libraries installed\n",
        "# It is defined by the kaggle/python docker image: https://github.com/kaggle/docker-python\n",
        "# For example, here's several helpful packages to load in \n",
        "\n",
        "import numpy as np # linear algebra\n",
        "import pandas as pd # data processing, CSV file I/O (e.g. pd.read_csv)\n",
        "import numpy as np # linear algebra\n",
        "import pandas as pd # data processing, CSV file I/O (e.g. pd.read_csv)\n",
        "import matplotlib as mpl\n",
        "import matplotlib.pyplot as plt\n",
        "import seaborn as sns\n",
        "%matplotlib inline\n",
        "\n",
        "# Input data files are available in the \"../input/\" directory.\n",
        "# For example, running this (by clicking run or pressing Shift+Enter) will list the files in the input directory\n",
        "\n",
        "from subprocess import check_output\n",
        "print(check_output([\"ls\", \"../input\"]).decode(\"utf8\"))\n",
        "\n",
        "# Any results you write to the current directory are saved as output."
      ]
    },
    {
      "cell_type": "code",
      "execution_count": null,
      "metadata": {
        "_cell_guid": "2b63ac28-1d0a-e417-1ab2-c2219dd9cda8"
      },
      "outputs": [],
      "source": [
        "eco=pd.read_csv(\"../input/macro.csv\")"
      ]
    },
    {
      "cell_type": "code",
      "execution_count": null,
      "metadata": {
        "_cell_guid": "69ea90e3-ddbc-cea6-a211-569acb40de35"
      },
      "outputs": [],
      "source": [
        "eco.head(3)"
      ]
    },
    {
      "cell_type": "code",
      "execution_count": null,
      "metadata": {
        "_cell_guid": "35e2293e-e04f-0cca-dabd-b15e162245b1"
      },
      "outputs": [],
      "source": [
        "nan=pd.DataFrame(pd.isnull(eco).sum()).reset_index()\n",
        "nan.head(3)"
      ]
    },
    {
      "cell_type": "code",
      "execution_count": null,
      "metadata": {
        "_cell_guid": "ae21183d-15c1-146e-f855-8a2357cd6d28"
      },
      "outputs": [],
      "source": [
        "na=eco.isnull().sum().sort_values(ascending=False)"
      ]
    },
    {
      "cell_type": "code",
      "execution_count": null,
      "metadata": {
        "_cell_guid": "45052aa9-92ed-9178-712d-680145525f51"
      },
      "outputs": [],
      "source": [
        "na"
      ]
    },
    {
      "cell_type": "code",
      "execution_count": null,
      "metadata": {
        "_cell_guid": "24d4547c-686e-0e34-9f7d-c2f75cf3e59d"
      },
      "outputs": [],
      "source": [
        "eco.shape"
      ]
    },
    {
      "cell_type": "code",
      "execution_count": null,
      "metadata": {
        "_cell_guid": "1fa9fe6a-c5ad-1472-0ae4-3250e1e4ab16"
      },
      "outputs": [],
      "source": [
        "eco.head(3)"
      ]
    },
    {
      "cell_type": "code",
      "execution_count": null,
      "metadata": {
        "_cell_guid": "5f18302d-a212-fa06-8140-9f6b21ba31ca"
      },
      "outputs": [],
      "source": [
        "sns.violinplot(eco['gdp_annual'])"
      ]
    },
    {
      "cell_type": "code",
      "execution_count": null,
      "metadata": {
        "_cell_guid": "34f6d17e-201d-b194-4453-34274acfbd76"
      },
      "outputs": [],
      "source": [
        "corr=eco.corr()\n",
        "corr = (corr)\n",
        "plt.figure(figsize=(14,14))\n",
        "sns.heatmap(corr, cbar = True,  square = True, annot=True, fmt= '.2f',annot_kws=\n",
        "\n",
        "{'size': 15},\n",
        "            xticklabels=corr.columns.values,\n",
        "            yticklabels=corr.columns.values)\n",
        "sns.plt.title('Heatmap of Correlation Matrix')"
      ]
    },
    {
      "cell_type": "code",
      "execution_count": null,
      "metadata": {
        "_cell_guid": "8abc5eb1-9e38-e18f-f5bf-a2bcc2193fd8"
      },
      "outputs": [],
      "source": [
        "corr.gdp_annual.sort_values(ascending=False)"
      ]
    },
    {
      "cell_type": "code",
      "execution_count": null,
      "metadata": {
        "_cell_guid": "33c44ad9-65ce-fe54-f408-5075e596513b"
      },
      "outputs": [],
      "source": [
        "eco=eco.fillna(0)"
      ]
    },
    {
      "cell_type": "code",
      "execution_count": null,
      "metadata": {
        "_cell_guid": "1875fb67-bf78-c212-abdd-98d6ec851c57"
      },
      "outputs": [],
      "source": [
        "sns.boxplot(eco['salary'])"
      ]
    },
    {
      "cell_type": "code",
      "execution_count": null,
      "metadata": {
        "_cell_guid": "9943d4b7-a0af-68c7-b490-88327d28242a"
      },
      "outputs": [],
      "source": [
        "sns.pairplot(eco[['deposits_value','gdp_annual','rent_price_2room_bus']])"
      ]
    },
    {
      "cell_type": "code",
      "execution_count": null,
      "metadata": {
        "_cell_guid": "2ff5f495-9f9a-2e81-47b4-e27ac13c2391"
      },
      "outputs": [],
      "source": [
        "cor_gdp=eco[['deposits_value','gdp_annual','rent_price_2room_bus']].corr()"
      ]
    },
    {
      "cell_type": "code",
      "execution_count": null,
      "metadata": {
        "_cell_guid": "c14dbcec-a7cb-aaf3-8c42-5106c39b94b5"
      },
      "outputs": [],
      "source": [
        "cor_gdp"
      ]
    },
    {
      "cell_type": "code",
      "execution_count": null,
      "metadata": {
        "_cell_guid": "42d39b3e-340b-e60b-9b14-da513cd70f48"
      },
      "outputs": [],
      "source": [
        "sns.regplot(x='deposits_value',y='gdp_annual',data=eco)"
      ]
    },
    {
      "cell_type": "code",
      "execution_count": null,
      "metadata": {
        "_cell_guid": "76638a84-3822-b4f5-5ff9-e0ccea5119e1"
      },
      "outputs": [],
      "source": [
        "sns.boxplot(eco['deposits_value'])"
      ]
    }
  ],
  "metadata": {
    "_change_revision": 0,
    "_is_fork": false,
    "kernelspec": {
      "display_name": "Python 3",
      "language": "python",
      "name": "python3"
    },
    "language_info": {
      "codemirror_mode": {
        "name": "ipython",
        "version": 3
      },
      "file_extension": ".py",
      "mimetype": "text/x-python",
      "name": "python",
      "nbconvert_exporter": "python",
      "pygments_lexer": "ipython3",
      "version": "3.6.0"
    }
  },
  "nbformat": 4,
  "nbformat_minor": 0
}