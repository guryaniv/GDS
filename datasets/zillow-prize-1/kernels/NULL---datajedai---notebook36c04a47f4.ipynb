{
  "cells": [
    {
      "cell_type": "markdown",
      "metadata": {
        "_cell_guid": "ae51a0b8-2c70-3a88-4da8-33afbb07a392"
      },
      "source": [
        "#Exploring Zillow dataset. Basic Analysis "
      ]
    },
    {
      "cell_type": "code",
      "execution_count": null,
      "metadata": {
        "_cell_guid": "9213304a-6d7d-7658-27f8-309116ecb452"
      },
      "outputs": [],
      "source": [
        "import numpy as np \n",
        "import pandas as pd "
      ]
    },
    {
      "cell_type": "code",
      "execution_count": null,
      "metadata": {
        "_cell_guid": "5ebad931-1688-e9ee-aa67-c4bc7bec7923"
      },
      "outputs": [],
      "source": [
        "# just to see where things are\n",
        "from subprocess import check_output\n",
        "print(check_output([\"ls\", \"../input\"]).decode(\"utf8\"))"
      ]
    },
    {
      "cell_type": "markdown",
      "metadata": {
        "_cell_guid": "0c8f1cf9-06d2-ef4f-b176-cfde8103f1a7"
      },
      "source": [
        "lets read the properties file and take a peek. properties file contains details about the properties."
      ]
    },
    {
      "cell_type": "code",
      "execution_count": null,
      "metadata": {
        "_cell_guid": "135e8c9c-2b21-406e-ba5f-3619efe91abd"
      },
      "outputs": [],
      "source": [
        "def get_shape(df):\n",
        "    return pd.DataFrame({'row':df.shape[0], 'features': df.shape[1]}, index=['count'])"
      ]
    },
    {
      "cell_type": "code",
      "execution_count": null,
      "metadata": {
        "_cell_guid": "7e840987-da89-21ad-2571-89de5b5ac83f"
      },
      "outputs": [],
      "source": [
        "df = pd.read_csv(\"../input/properties_2016.csv\")"
      ]
    },
    {
      "cell_type": "markdown",
      "metadata": {
        "_cell_guid": "4a0aaef7-7f56-6d93-459c-0d20943dd17e"
      },
      "source": [
        "lets look at the shape of the data frame. this will give us an idea about how may dimensions or features are there and how many rows are there in the dataframe"
      ]
    },
    {
      "cell_type": "code",
      "execution_count": null,
      "metadata": {
        "_cell_guid": "cf3bbfaf-88fe-6561-c82d-e6bc5e2ba690"
      },
      "outputs": [],
      "source": [
        "get_shape(df)"
      ]
    },
    {
      "cell_type": "markdown",
      "metadata": {
        "_cell_guid": "09cbb5ba-a3fb-d6db-e7f1-42f3a45000ac"
      },
      "source": [
        "lets take a look at the properties data"
      ]
    },
    {
      "cell_type": "code",
      "execution_count": null,
      "metadata": {
        "_cell_guid": "f3f2dc8c-fc5a-21fd-7cae-f72722b31870"
      },
      "outputs": [],
      "source": [
        "# pivot the output to fit the scren\n",
        "df.head().T"
      ]
    },
    {
      "cell_type": "markdown",
      "metadata": {
        "_cell_guid": "b565d40b-8648-8601-4c05-a8a78bcdf8c8"
      },
      "source": [
        "we would definitely want to change the names of the features to something more readable. also we would want to look at the Excel file and understand what each of the features mean.\n",
        "lets leave this for later and jump into training set\n",
        "\n",
        "\n",
        "----------"
      ]
    },
    {
      "cell_type": "code",
      "execution_count": null,
      "metadata": {
        "_cell_guid": "accfb466-4c85-33cb-47c9-6415161c220c"
      },
      "outputs": [],
      "source": [
        "dftrn = pd.read_csv(\"../input/train_2016.csv\")"
      ]
    },
    {
      "cell_type": "markdown",
      "metadata": {
        "_cell_guid": "86c53f91-b453-5edb-a2f3-0dcd3b5b57a8"
      },
      "source": [
        "lets look at the shape of the training set"
      ]
    },
    {
      "cell_type": "code",
      "execution_count": null,
      "metadata": {
        "_cell_guid": "aae7d5f5-5327-8273-7303-66dad9d5c1db"
      },
      "outputs": [],
      "source": [
        "get_shape(dftrn)"
      ]
    },
    {
      "cell_type": "code",
      "execution_count": null,
      "metadata": {
        "_cell_guid": "ebe60019-dd75-fe37-717a-b095d5ad8646"
      },
      "outputs": [],
      "source": [
        "dftrn.head()"
      ]
    },
    {
      "cell_type": "markdown",
      "metadata": {
        "_cell_guid": "58ba6dc6-d2ac-6c73-cb76-456f6d54cf60"
      },
      "source": [
        "so the training set contains the logerror by transaction date for the properties in the properties file"
      ]
    },
    {
      "cell_type": "code",
      "execution_count": null,
      "metadata": {
        "_cell_guid": "2b8471ef-e034-a7c4-f96c-46c2c84b9d5b"
      },
      "outputs": [],
      "source": [
        "pdm = pd.merge( dftrn, df , how='left', on=['parcelid'])"
      ]
    },
    {
      "cell_type": "markdown",
      "metadata": {
        "_cell_guid": "b90b4b8d-658b-2650-130b-dad1d6df16d6"
      },
      "source": [
        "now we have the log error with all the features of the property. so we can start exploration"
      ]
    },
    {
      "cell_type": "code",
      "execution_count": null,
      "metadata": {
        "_cell_guid": "c1436558-8b17-785f-a91a-ec45dd40d602"
      },
      "outputs": [],
      "source": [
        "pdm.head().T"
      ]
    },
    {
      "cell_type": "markdown",
      "metadata": {
        "_cell_guid": "138a517c-3bab-642f-78d5-ee3e116c06a2"
      },
      "source": [
        "there seems to be lot many missing values. lets look at to see whow many features have \n",
        "missing values\n",
        "\n",
        "also it seems a good time to change the feature names to something meaningful"
      ]
    },
    {
      "cell_type": "code",
      "execution_count": null,
      "metadata": {
        "_cell_guid": "b6672b59-5877-5c0f-f810-84225c71c536"
      },
      "outputs": [],
      "source": [
        "pdm.columns"
      ]
    },
    {
      "cell_type": "code",
      "execution_count": null,
      "metadata": {
        "_cell_guid": "d6948dd2-3ba2-3aa3-9cfb-ee9d3b23f844"
      },
      "outputs": [],
      "source": [
        "pdm.rename(columns={\n",
        "    \"parselid\": \"parsel_id\",\n",
        "    \"logerror\": \"log_error\",\n",
        "    \"transactiondate\": \"transaction_date\",\n",
        "    \"airconditioningtypeid\": \"ac_type_id\",\n",
        "    \"architecturalstyletypeid\": \"style_id\",\n",
        "    \"decktypeid\": \"deck_type_id\",\n",
        "\n",
        "    \"basementsqft\": \"basement_size\",\n",
        "    \"finished\"\n",
        "\n",
        "    \"bathroomcnt\": \"baths\",\n",
        "    \"bedroomcnt\": \"rooms\",\n",
        "    \"roomcnt\" : \"total_rooms\",\n",
        "    \n",
        "\n",
        "    \"calculatedbathnbr\": \"total_baths\",\n",
        "    \"calculatedfinishedsquarfeet\" : \"cal_finished_size\",\n",
        "    \n",
        "\n",
        "    \"buildingclasstypeid\": \"building_class_type_id\",\n",
        "    \"buildingqualitytypeid\" : \"building_quality_type_id\",\n",
        "    \n",
        "    \"finishedfloor1squarefeet\": \"finished_fl_1_size\",\n",
        "    \"calculatedfinishedsquarefeet\" : \"total_living_area\",\n",
        "    \n",
        "    \"finishedsquarefeet12\" : \"finished_living_area_size\",\n",
        "    \"finishedsquarefeet13\" : \"perimeter_living_area\",\n",
        "    \"finishedsquarefeet15\" : \"total_area\",\n",
        "    \n",
        "    \"finishedsquarefeet50\" : \"finished_area_fl_1\",\n",
        "    \n",
        "    \"fireplacecnt\" : \"no_of_fireplaces\",\n",
        "    \n",
        "    \"fullbathcnt\": \"no_of_full_baths\",\n",
        "    \"garagecarcnt\" : \"no_of_garages\",\n",
        "    \"garagetotalsqft\" : \"total_garage_area\",\n",
        "    \"hashottuborspa\" : \"spa_or_hot_tub_present\",\n",
        "    \"heatingorsystemtypeid\": \"heating_system_type_id\",\n",
        "    \"lotsizesquarefeet\" : \"lot_area\",\n",
        "    \"poolcnt\" : \"no_of_pools\",\n",
        "    \"poolsizesum\" : \"total_pool_area\",\n",
        "    \n",
        "    \"pooltypeid10\": \"spa_or_hot_tub\",\n",
        "    \"pooltypeid2\" : \"pool_with_spa_or_hot_tub\",\n",
        "    \"pooltypeid7\" : \"pool_without_spa_or_hot_tub\",\n",
        "    \"propertycountylandusecode\" : \"county_zone_code\",\n",
        "    \"propertylandusetypeid\" : \"county_zone_type_id\",\n",
        "    \"propertyzoningdesc\": \"zone_desc\",\n",
        "    \n",
        "    \"rawcensustractandblock\": \"census_tract_block_id\",\n",
        "    \"regionidcity\" : \"city_id\",\n",
        "    \"regionidcounty\" : \"county_id\",\n",
        "    \"regionidneighborhood\" : \"neighborhood_id\",\n",
        "    \"regionidzip\" : \"zip_id\",\n",
        "    \n",
        "    \"storytypeid\": \"story_type_id\",\n",
        "    \"typeconstructiontypeid\" : \"construction_material_type_id\",\n",
        "    \n",
        "    \"unitcnt\": \"no_of_units\",\n",
        "    \n",
        "    \"yardbuildingsqft17\": \"patio_area\",\n",
        "    \"yardbuildingsqft26\": \"shed_area\",\n",
        "    \n",
        "    \"yearbuilt\": \"built_year\",\n",
        "    \"numberofstories\" : \"no_of_stories\",\n",
        "    \"fireplaceflag\": \"fireplace_present\",\n",
        "    \"structuretaxvaluedollarcnt\": \"structure_tax_assessed\",\n",
        "    \"landtaxvaluedollarcnt\" : \"land_tax_assessed\",\n",
        "    \"taxvaluedollarcnt\" : \"total_tax_assessed\",\n",
        "    \"assessmentyear\": \"assessment_year\",\n",
        "    \"taxamount\" : \"tax\",\n",
        "    \"taxdelinquencyflag\": \"tax_delinquency\",\n",
        "    \"taxdelinquencyyear\" : \"tax_delinquency_year\",\n",
        "    \"censustractandblock\" : \"census_tract_and_block\"\n",
        "    \n",
        "}, inplace=True)"
      ]
    },
    {
      "cell_type": "markdown",
      "metadata": {
        "_cell_guid": "650f5d60-7cd8-5469-4b32-75990a96e6cb"
      },
      "source": [
        "as you can see , most of the features have NA and have not probably contributed to the zestimate. "
      ]
    },
    {
      "cell_type": "code",
      "execution_count": null,
      "metadata": {
        "_cell_guid": "a1a44ef1-5974-594f-24b2-ea598e78814c"
      },
      "outputs": [],
      "source": [
        "pdc = pd.DataFrame( pdm.count() ,columns=['count'])\n",
        "pdc[pdc['count'] < 90811 ]"
      ]
    },
    {
      "cell_type": "code",
      "execution_count": null,
      "metadata": {
        "_cell_guid": "cb08aef6-fbf5-81e2-7d2f-882d56ff681c"
      },
      "outputs": [],
      "source": [
        "pd.DataFrame( pdm.count() ,columns=['count'])\\\n",
        "    .sort_values(['count'])\\\n",
        "    .plot(kind='barh',figsize=(10,20))"
      ]
    },
    {
      "cell_type": "markdown",
      "metadata": {
        "_cell_guid": "f6f34ee7-3c84-9b9f-fbfb-3bd312a7ff46"
      },
      "source": [
        "lets filter out the features\n",
        "\n",
        " - with least NA's \n",
        " - with most NA's\n",
        " - its ok for certain features like  no_of_pools, no_of_fireplaces to have NA or 0 values\n",
        "\n",
        "but certain features we should investigate like total_area. neighbourhood_id\n",
        "\n",
        "also, certain features like total_baths, build_year etc. should not have NA's and should have length equal to the rows in the data set. we should look into them as well"
      ]
    },
    {
      "cell_type": "markdown",
      "metadata": {
        "_cell_guid": "bab7e0c2-b0bd-e838-bd29-672299c2dcc1"
      },
      "source": [
        "first lets convert NAs from some of the features to True/ False. since it makes sense"
      ]
    },
    {
      "cell_type": "markdown",
      "metadata": {
        "_cell_guid": "f93ebaac-6a93-dd2b-66ed-e45823f6d7e7"
      },
      "source": [
        "filling up missing values for features"
      ]
    },
    {
      "cell_type": "code",
      "execution_count": null,
      "metadata": {
        "_cell_guid": "46677c22-2255-8faf-72ce-82025474521c"
      },
      "outputs": [],
      "source": [
        "pdm.tax_delinquency.fillna('N', inplace=True)"
      ]
    },
    {
      "cell_type": "code",
      "execution_count": null,
      "metadata": {
        "_cell_guid": "20bc94dd-458c-e771-d005-7d57495167d5"
      },
      "outputs": [],
      "source": ""
    },
    {
      "cell_type": "code",
      "execution_count": null,
      "metadata": {
        "_cell_guid": "9149b1be-9a7c-394b-0dd3-d6f9111e6db1"
      },
      "outputs": [],
      "source": [
        "pdm.basement_size.fillna(0, inplace=True)\n",
        "pdm.basement_size.count()"
      ]
    },
    {
      "cell_type": "code",
      "execution_count": null,
      "metadata": {
        "_cell_guid": "6062a4be-e9d2-9058-fd0c-85428a176be4"
      },
      "outputs": [],
      "source": ""
    }
  ],
  "metadata": {
    "_change_revision": 0,
    "_is_fork": false,
    "kernelspec": {
      "display_name": "Python 3",
      "language": "python",
      "name": "python3"
    },
    "language_info": {
      "codemirror_mode": {
        "name": "ipython",
        "version": 3
      },
      "file_extension": ".py",
      "mimetype": "text/x-python",
      "name": "python",
      "nbconvert_exporter": "python",
      "pygments_lexer": "ipython3",
      "version": "3.6.0"
    }
  },
  "nbformat": 4,
  "nbformat_minor": 0
}