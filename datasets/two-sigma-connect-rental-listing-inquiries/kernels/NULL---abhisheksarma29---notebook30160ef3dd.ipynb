{
  "cells": [
    {
      "cell_type": "code",
      "execution_count": null,
      "metadata": {
        "_cell_guid": "ea568bf1-97b5-86df-0945-5c4722318663"
      },
      "outputs": [],
      "source": [
        "# This Python 3 environment comes with many helpful analytics libraries installed\n",
        "# It is defined by the kaggle/python docker image: https://github.com/kaggle/docker-python\n",
        "# For example, here's several helpful packages to load in \n",
        "\n",
        "import numpy as np # linear algebra\n",
        "import pandas as pd # data processing, CSV file I/O (e.g. pd.read_csv)\n",
        "\n",
        "import matplotlib.pyplot as plt\n",
        "% matplotlib inline\n",
        "import seaborn as sns\n",
        "sns.set(style=\"whitegrid\", color_codes=True)\n",
        "sns.set(font_scale=1)\n",
        "\n",
        "\n",
        "import plotly.plotly as py\n",
        "import plotly.graph_objs as go\n",
        "from plotly import tools\n",
        "\n",
        "\n",
        "from plotly.offline import download_plotlyjs, init_notebook_mode, iplot\n",
        "init_notebook_mode(connected=True)\n",
        "\n",
        "\n",
        "# Input data files are available in the \"../input/\" directory.\n",
        "# For example, running this (by clicking run or pressing Shift+Enter) will list the files in the input directory\n",
        "\n",
        "from subprocess import check_output\n",
        "print(check_output([\"ls\", \"../input\"]).decode(\"utf8\"))\n",
        "\n",
        "# Any results you write to the current directory are saved as output."
      ]
    },
    {
      "cell_type": "code",
      "execution_count": null,
      "metadata": {
        "_cell_guid": "1aa00360-1d21-530b-3637-59f5a9cec12c"
      },
      "outputs": [],
      "source": [
        "train = pd.read_json(\"../input/train.json\")\n",
        "test = pd.read_json(\"../input/test.json\")\n",
        "train.describe()"
      ]
    },
    {
      "cell_type": "code",
      "execution_count": null,
      "metadata": {
        "_cell_guid": "ac5d14bb-b038-2dff-0995-4dec9740745a"
      },
      "outputs": [],
      "source": [
        "train.head(10)"
      ]
    },
    {
      "cell_type": "code",
      "execution_count": null,
      "metadata": {
        "_cell_guid": "0c5b7789-e678-f691-66e7-7f4c44e5dd6a"
      },
      "outputs": [],
      "source": [
        "test.head().T"
      ]
    },
    {
      "cell_type": "code",
      "execution_count": null,
      "metadata": {
        "_cell_guid": "419d892d-05c5-1850-5055-6dbb0c23eaa4"
      },
      "outputs": [],
      "source": [
        "train.dtypes\n"
      ]
    },
    {
      "cell_type": "markdown",
      "metadata": {
        "_cell_guid": "1b75736f-8a68-1205-5628-6e3c4899f16e"
      },
      "source": [
        "Wordclouds for description"
      ]
    },
    {
      "cell_type": "code",
      "execution_count": null,
      "metadata": {
        "_cell_guid": "430482bd-849d-04fc-02df-b82e27cd9542"
      },
      "outputs": [],
      "source": [
        "from wordcloud import WordCloud\n",
        "text = ''\n",
        "text_dispadd = ''\n",
        "text_street = ''\n",
        "text_desc =''\n",
        "for ind, row in train.iterrows():\n",
        "    for feature in row['features']:\n",
        "        text = \" \".join([text, \"_\".join(feature.strip().split(\" \"))])\n",
        "    text_dispadd = \" \".join([text_dispadd,\"_\".join(row['display_address'].strip().split(\" \"))])\n",
        "    text_street = \" \".join([text_street, row['street_address']])\n",
        "    text_desc=\" \".join([text_desc, row['description']])\n",
        "text = text.strip()\n",
        "text_dispadd = text_dispadd.strip()\n",
        "text_street = text_street.strip()\n",
        "text_desc = text_desc.strip()"
      ]
    },
    {
      "cell_type": "code",
      "execution_count": null,
      "metadata": {
        "_cell_guid": "946f444a-97d0-6b66-815f-c6708bb07797"
      },
      "outputs": [],
      "source": [
        "\n",
        "import random\n",
        "\n",
        "def grey_color_func(word, font_size, position, orientation, random_state=None, **kwargs):\n",
        "    return \"hsl(0, 0%%, %d%%)\" % random.randint(60, 100)\n",
        "\n",
        "\n",
        "# wordcloud for display address\n",
        "plt.figure(figsize=(12,6))\n",
        "wc = WordCloud(background_color='gold', width=600, height=300,\n",
        "                      max_font_size=50, max_words=40).generate(text_dispadd)\n",
        "plt.imshow(wc.recolor(color_func=grey_color_func, random_state=3))\n",
        "#plt.imshow(wc)\n",
        "plt.title(\"Display Address\", fontsize=20)\n",
        "plt.axis(\"off\")\n",
        "plt.show()"
      ]
    },
    {
      "cell_type": "code",
      "execution_count": null,
      "metadata": {
        "_cell_guid": "45c6e596-f9cc-e0f7-bd83-419bf1fe097a"
      },
      "outputs": [],
      "source": ""
    }
  ],
  "metadata": {
    "_change_revision": 0,
    "_is_fork": false,
    "kernelspec": {
      "display_name": "Python 3",
      "language": "python",
      "name": "python3"
    },
    "language_info": {
      "codemirror_mode": {
        "name": "ipython",
        "version": 3
      },
      "file_extension": ".py",
      "mimetype": "text/x-python",
      "name": "python",
      "nbconvert_exporter": "python",
      "pygments_lexer": "ipython3",
      "version": "3.6.0"
    }
  },
  "nbformat": 4,
  "nbformat_minor": 0
}