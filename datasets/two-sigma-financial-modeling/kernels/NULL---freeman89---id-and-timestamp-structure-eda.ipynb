{
  "cells": [
    {
      "cell_type": "markdown",
      "metadata": {
        "_cell_guid": "7362edb6-ce95-ff92-5ada-1f121af193a6"
      },
      "source": [
        "Let's look at the timestamp..."
      ]
    },
    {
      "cell_type": "code",
      "execution_count": null,
      "metadata": {
        "_cell_guid": "f2dc88da-0127-b384-2348-50415ced2668"
      },
      "outputs": [],
      "source": [
        "import pandas as pd\n",
        "import numpy as np # linear algebra\n",
        "from matplotlib import pyplot as plt\n",
        "from scipy import stats\n",
        "%matplotlib inline"
      ]
    },
    {
      "cell_type": "code",
      "execution_count": null,
      "metadata": {
        "_cell_guid": "447904cf-ae8d-cca5-e099-891ee53c347f"
      },
      "outputs": [],
      "source": [
        "with pd.HDFStore(\"../input/train.h5\", \"r\") as train:\n",
        "    df = train.get(\"train\")\n",
        "ids = df['id'].values\n",
        "timestamps = df['timestamp'].values"
      ]
    },
    {
      "cell_type": "code",
      "execution_count": null,
      "metadata": {
        "_cell_guid": "7b9ea6cc-172f-727e-5410-70e90e1bfaf8"
      },
      "outputs": [],
      "source": [
        "print('Ids count:', len(np.unique(ids)), 'Min id:', ids.min(), 'Max id:', ids.max())\n",
        "print('Time frames (unique timestamps) count:', len(np.unique(timestamps)), 'Min:', timestamps.min(), 'Max:', timestamps.max())"
      ]
    },
    {
      "cell_type": "markdown",
      "metadata": {
        "_cell_guid": "d9b5bd81-2356-cdeb-db3e-abdc107e0597"
      },
      "source": [
        "Id values span from 0 to 2158, but we only have 1424 unique ids. Let's visualise the missing. "
      ]
    },
    {
      "cell_type": "code",
      "execution_count": null,
      "metadata": {
        "_cell_guid": "91df1dfd-445a-fe9a-a222-e762fdea82c2"
      },
      "outputs": [],
      "source": [
        "full_range = range(ids.max()+1)\n",
        "unique_ids, unique_id_counts = np.unique(ids, return_counts=True)\n",
        "missing_values = [x for x in full_range if not x in unique_ids]\n",
        "print('Missing count', len(missing_values))\n",
        "plt.figure(figsize=(9,3))\n",
        "plt.ylabel('Timestamp')\n",
        "plt.plot(unique_ids, '.b',\\\n",
        "         missing_values, '.r')\n",
        "plt.show()"
      ]
    },
    {
      "cell_type": "markdown",
      "metadata": {
        "_cell_guid": "08cba257-2bfc-9356-72d3-42abaa1767a4"
      },
      "source": [
        "So in the range of 0 to 2158, there are 735 ids that are missing. These are equally distributed across the whole range (from 0 to 2158). If these ids are in the test set, this might be very important important. If someone already knows if that is actually the case, please comment."
      ]
    },
    {
      "cell_type": "code",
      "execution_count": null,
      "metadata": {
        "_cell_guid": "8b161959-b15c-d2fc-d95b-9760d2ffa16a"
      },
      "outputs": [],
      "source": [
        "id_count = [len(df[df['timestamp'] == i]['id'].unique()) for i in range(timestamps.max()+1)]\n",
        "plt.figure(figsize=(9,3))\n",
        "plt.xlabel('Timestamp index')\n",
        "plt.ylabel('Ids count')\n",
        "plt.plot(range(timestamps.max()+1), id_count,'.b')\n",
        "plt.show()"
      ]
    },
    {
      "cell_type": "markdown",
      "metadata": {
        "_cell_guid": "01dde07d-d26b-5dbc-a988-ec8275708692"
      },
      "source": [
        "Indeed, the figure shows that for each timestamp there is a variable amount of ids. This means that some ids are living longer than others. "
      ]
    },
    {
      "cell_type": "code",
      "execution_count": null,
      "metadata": {
        "_cell_guid": "d0921901-58be-0fb2-0c52-a49b5615459a"
      },
      "outputs": [],
      "source": [
        "print('Min', unique_id_counts.min(), 'Max', unique_id_counts.max(), \\\n",
        "      'Mean',unique_id_counts.mean(),  'Median', np.median(unique_id_counts))\n",
        "plt.figure(figsize=(9,6))\n",
        "plt.plot(unique_ids, unique_id_counts, '.r')\n",
        "print('Ids with max timestamps alive', len(np.where(unique_id_counts == unique_id_counts.max())[0]))\n",
        "plt.xlabel('Ids')\n",
        "plt.ylabel('Timestamps alive')\n",
        "plt.show()"
      ]
    },
    {
      "cell_type": "markdown",
      "metadata": {
        "_cell_guid": "254d5bd3-d4eb-2df2-692f-e850e87f9e5f"
      },
      "source": [
        "There are 527 ids with the maximum life span of 1813 timestamps. Furthermore, one can clearly see the pattern. There are groups of ids that have the same life span. Let's look at this groups in more detail."
      ]
    },
    {
      "cell_type": "code",
      "execution_count": null,
      "metadata": {
        "_cell_guid": "f54b3d5d-01cc-ff1a-a7b1-a5fad17cd940"
      },
      "outputs": [],
      "source": [
        "id_groups = {}\n",
        "for _id in unique_ids:\n",
        "    key = tuple(sorted(df[df['id'] == _id]['timestamp'].values))\n",
        "    if not key in id_groups:\n",
        "        id_groups[key] = []\n",
        "    id_groups[key].append(_id)"
      ]
    },
    {
      "cell_type": "code",
      "execution_count": null,
      "metadata": {
        "_cell_guid": "375a7bf1-c28c-f999-69a4-78af67d7bd06"
      },
      "outputs": [],
      "source": [
        "print('Groups count', len(id_groups.keys()))\n",
        "ids_in_group = []\n",
        "timestamps_in_group = []\n",
        "for key in id_groups.keys():\n",
        "    ids_in_group.append(len(id_groups[key]))\n",
        "    timestamps_in_group.append(len(key))\n",
        "ids_in_group = np.array(ids_in_group)\n",
        "timestamps_in_group = np.array(timestamps_in_group)\n",
        "index = np.argsort(ids_in_group)[::-1]\n",
        "\n",
        "for i in range(30):\n",
        "    print('Group', i+1, 'has',ids_in_group[index][i],'ids and',timestamps_in_group[index][i],'timestamps.')"
      ]
    },
    {
      "cell_type": "code",
      "execution_count": null,
      "metadata": {
        "_cell_guid": "334cbc83-7b63-8478-7c7a-cac8bea4fb40"
      },
      "outputs": [],
      "source": [
        ""
      ]
    },
    {
      "cell_type": "code",
      "execution_count": null,
      "metadata": {
        "_cell_guid": "89f3325c-efa9-5f04-0ad1-6ec49180f837"
      },
      "outputs": [],
      "source": [
        ""
      ]
    }
  ],
  "metadata": {
    "_change_revision": 0,
    "_is_fork": false,
    "kernelspec": {
      "display_name": "Python 3",
      "language": "python",
      "name": "python3"
    },
    "language_info": {
      "codemirror_mode": {
        "name": "ipython",
        "version": 3
      },
      "file_extension": ".py",
      "mimetype": "text/x-python",
      "name": "python",
      "nbconvert_exporter": "python",
      "pygments_lexer": "ipython3",
      "version": "3.5.2"
    }
  },
  "nbformat": 4,
  "nbformat_minor": 0
}