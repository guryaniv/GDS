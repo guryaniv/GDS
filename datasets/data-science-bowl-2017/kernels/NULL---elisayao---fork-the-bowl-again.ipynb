{
  "cells": [
    {
      "cell_type": "markdown",
      "metadata": {
        "_cell_guid": "f6f1c24a-719c-72f5-5624-f07ecaf02164"
      },
      "source": [
        "**Fork: [First pass through Data w/ 3D ConvNet][1]**\n",
        "\n",
        "\n",
        "  [1]: https://www.kaggle.com/sentdex/data-science-bowl-2017/first-pass-through-data-w-3d-convnet"
      ]
    },
    {
      "cell_type": "code",
      "execution_count": null,
      "metadata": {
        "_cell_guid": "567f6bf3-de39-93fe-5fc1-36d118b0c2dd"
      },
      "outputs": [],
      "source": [
        "import dicom # read the dicom files\n",
        "import os  # do directory operations\n",
        "import pandas as pd  # nice for data analysis\n",
        "\n",
        "#data_dir = '../input/sample_images/'\n",
        "#patients = os.listdir(data_dir)"
      ]
    },
    {
      "cell_type": "code",
      "execution_count": null,
      "metadata": {
        "_cell_guid": "0aaa403d-54de-32cf-e875-10827e916b60"
      },
      "outputs": [],
      "source": [
        "from subprocess import check_output\n",
        "print(check_output([\"ls\",\"../\"]).decode(\"utf8\"))\n",
        "\n",
        "# the stage1_labels.csv file disappeared "
      ]
    },
    {
      "cell_type": "code",
      "execution_count": null,
      "metadata": {
        "_cell_guid": "a0604ef0-dff9-f5f0-b1bc-df239c3c5724"
      },
      "outputs": [],
      "source": [
        "os.listdir('../input')"
      ]
    },
    {
      "cell_type": "code",
      "execution_count": null,
      "metadata": {
        "_cell_guid": "8fb5e913-3edf-1f60-9de6-4e977a4134ae"
      },
      "outputs": [],
      "source": [
        "data_dir = '../input/sample_images/'\n",
        "patients = os.listdir(data_dir)"
      ]
    },
    {
      "cell_type": "code",
      "execution_count": null,
      "metadata": {
        "_cell_guid": "af746f34-a8fb-b316-6366-420a8441de72"
      },
      "outputs": [],
      "source": [
        "patients[0:5]"
      ]
    },
    {
      "cell_type": "code",
      "execution_count": null,
      "metadata": {
        "_cell_guid": "c63f7ae6-4b92-e0fe-54cf-02c8f3e6cf43"
      },
      "outputs": [],
      "source": [
        "# hand-made labels df\n",
        "#labels=[{'id':'0c0de3749d4fe175b7a5098b060982a1','cancer':1},\n",
        "#     {'id':'0a0c32c9e08cc2ea76a71649de56be6d','cancer':0},\n",
        "#     {'id':'0c9d8314f9c69840e25febabb1229fa4','cancer':0},\n",
        "#     {'id':'0d2fcf787026fece4e57be167d079383','cancer':0},\n",
        "#     {'id':'0a38e7597ca26f9374f8ea2770ba870d','cancer':0},\n",
        "#     {'id':'0bd0e3056cbf23a1cb7f0f0b18446068','cancer':0},\n",
        "#     {'id':'0c37613214faddf8701ca41e6d43f56e','cancer':1},\n",
        "#     {'id':'0c59313f52304e25d5a7dcf9877633b1','cancer':0},\n",
        "#     {'id':'0b20184e0cd497028bdd155d9fb42dc9','cancer':0}, # I made this one up\n",
        "#     {'id':'0c60f4b87afcb3e2dfa65abbbf3ef2f9','cancer':1},\n",
        "#     {'id':'0d19f1c627df49eb223771c28548350e','cancer':0},\n",
        "#     {'id':'0d941a3ad6c889ac451caf89c46cb92a','cancer':0},\n",
        "#     {'id':'0d06d764d3c07572074d468b4cff954f','cancer':1},\n",
        "#     {'id':'0ddeb08e9c97227853422bd71a2a695e','cancer':0},\n",
        "#     {'id':'0acbebb8d463b4b9ca88cf38431aac69','cancer':1},\n",
        "#     {'id':'0de72529c30fe642bc60dcb75c87f6bd','cancer':0},\n",
        "#     {'id':'0ca943d821204ceb089510f836a367fd','cancer':0},\n",
        "#     {'id':'0c98fcb55e3f36d0c2b6507f62f4c5f1','cancer':0},\n",
        "#     {'id':'0a099f2549429d29b32f349e95fb2244','cancer':0},\n",
        "#     {'id':'00cba091fa4ad62cc3200a657aeb957e','cancer':0}]"
      ]
    },
    {
      "cell_type": "code",
      "execution_count": null,
      "metadata": {
        "_cell_guid": "8a8dc2a7-982e-2731-82d2-6267616bd29a"
      },
      "outputs": [],
      "source": [
        "#labels_df = pd.DataFrame.from_dict(labels)"
      ]
    },
    {
      "cell_type": "code",
      "execution_count": null,
      "metadata": {
        "_cell_guid": "8d984c59-4023-932c-9a7e-bc1edf38b7ab"
      },
      "outputs": [],
      "source": [
        "# this one no longer works since the input file cannot load\n",
        "# it works again\n",
        "labels_df = pd.read_csv('../input/stage1_labels.csv', index_col=0)"
      ]
    },
    {
      "cell_type": "code",
      "execution_count": null,
      "metadata": {
        "_cell_guid": "32075f31-839b-089a-da65-be99b85f19f9"
      },
      "outputs": [],
      "source": [
        "labels_df.head()"
      ]
    },
    {
      "cell_type": "code",
      "execution_count": null,
      "metadata": {
        "_cell_guid": "3a1403f4-96f9-5f54-289a-c6a0e010389c"
      },
      "outputs": [],
      "source": [
        "for patient in patients[:1]:\n",
        "    label = labels_df.get_value(patient, 'cancer')\n",
        "    path = data_dir + patient\n",
        "    \n",
        "    slices = [dicom.read_file(path + '/' + s) for s in os.listdir(path)]\n",
        "    slices.sort(key = lambda x: int(x.ImagePositionPatient[2]))\n",
        "    print(len(slices), label)\n",
        "    print(slices[0])"
      ]
    },
    {
      "cell_type": "code",
      "execution_count": null,
      "metadata": {
        "_cell_guid": "d0a248b4-463b-b77b-9833-24bb27117b29"
      },
      "outputs": [],
      "source": [
        "slices[0].pixel_array"
      ]
    },
    {
      "cell_type": "code",
      "execution_count": null,
      "metadata": {
        "_cell_guid": "a76dd261-59e9-9205-6199-38a27373c275"
      },
      "outputs": [],
      "source": [
        "import matplotlib.pyplot as plt\n",
        "import cv2\n",
        "import numpy as np"
      ]
    },
    {
      "cell_type": "code",
      "execution_count": null,
      "metadata": {
        "_cell_guid": "e40cdf47-d135-b116-7aaf-e9b680d69f94"
      },
      "outputs": [],
      "source": [
        "IMG_PX_SIZE = 150\n",
        "\n",
        "for patient in patients[:1]:\n",
        "    label = labels_df.get_value(patient, 'cancer')\n",
        "    path = data_dir + patient\n",
        "    slices = [dicom.read_file(path+'/'+s) for s in os.listdir(path)]\n",
        "    slices.sort(key=lambda x: int(x.ImagePositionPatient[2]))\n",
        "    fig = plt.figure()\n",
        "    for num,each_slice in enumerate(slices[:12]):\n",
        "        y = fig.add_subplot(3,4,num+1)\n",
        "        new_img = cv2.resize(np.array(each_slice.pixel_array),(IMG_PX_SIZE,IMG_PX_SIZE))\n",
        "        y.imshow(new_img)\n",
        "    \n",
        "    plt.show()"
      ]
    },
    {
      "cell_type": "code",
      "execution_count": null,
      "metadata": {
        "_cell_guid": "80205a2b-12ea-1bfa-e94d-9ae60fd3e2a6"
      },
      "outputs": [],
      "source": [
        "patients[:1]  # I don't know why it looks a little different from OP"
      ]
    },
    {
      "cell_type": "code",
      "execution_count": null,
      "metadata": {
        "_cell_guid": "840c89a6-048f-867d-898e-6e633a663ca6"
      },
      "outputs": [],
      "source": [
        "import math"
      ]
    },
    {
      "cell_type": "code",
      "execution_count": null,
      "metadata": {
        "_cell_guid": "052321a3-38aa-79d0-54ff-f91967eecde7"
      },
      "outputs": [],
      "source": [
        "# break down a list of items into sublists\n",
        "def chunks(l,n):\n",
        "    \"\"\"Yield successive n-sized chunks from l\"\"\"\n",
        "    for i in range(0, len(l),n):\n",
        "        yield l[i:i+n]"
      ]
    },
    {
      "cell_type": "code",
      "execution_count": null,
      "metadata": {
        "_cell_guid": "7aa78a6a-a37b-970b-15a7-0420a4469b0b"
      },
      "outputs": [],
      "source": [
        "def mean(l):\n",
        "    return sum(l) / len(l)"
      ]
    },
    {
      "cell_type": "code",
      "execution_count": null,
      "metadata": {
        "_cell_guid": "7e7f81c1-09fd-4faf-2af1-607451e2768f"
      },
      "outputs": [],
      "source": [
        "IMG_PX_SIZE = 50\n",
        "HM_SLICES = 20"
      ]
    },
    {
      "cell_type": "code",
      "execution_count": null,
      "metadata": {
        "_cell_guid": "7a42ab81-4cfb-710c-c239-4f763edf4d87"
      },
      "outputs": [],
      "source": [
        "for patient in patients:\n",
        "    try:\n",
        "        label = labels_df.get_value(patient,'cancer')\n",
        "        path = data_dir + patient\n",
        "        slices = [dicom.read_file(path+'/'+s) for s in os.listdir(path)]\n",
        "        slices.sort(key = lambda x: int(x.ImagePositionPatient[2]))\n",
        "        new_slices = []\n",
        "        slices = [cv2.resize(np.array(each_slice.pixel_array),(IMG_PX_SIZE,IMG_PX_SIZE)) for each_slice in slices]\n",
        "        chunk_sizes = math.ceil(len(slices) / HM_SLICES)\n",
        "        for slice_chunk in chunks(slices, chunk_sizes):\n",
        "            slice_chunk = list(map(mean, zip(*slice_chunk)))  # apply mean to every element in slice_chunk \n",
        "            new_slices.append(slice_chunk)\n",
        "            \n",
        "        print(len(slices),len(new_slices))\n",
        "      \n",
        "    except:\n",
        "        # pass the patients who don't have labels\n",
        "        pass"
      ]
    },
    {
      "cell_type": "code",
      "execution_count": null,
      "metadata": {
        "_cell_guid": "061ce2a1-afab-ecd0-0d8d-534d6d908353"
      },
      "outputs": [],
      "source": [
        "# deal with the problem of unequal \n",
        "for patient in patients[:20]:\n",
        "    try:\n",
        "        label = labels_df.get_value(patient,'cancer')\n",
        "        path = data_dir + patient\n",
        "        slices = [dicom.read_file(path+'/'+s) for s in os.listdir(path)]\n",
        "        slices.sort(key=lambda x: int(x.ImagePositionPatient[2]))\n",
        "        new_slices = []\n",
        "        \n",
        "        slices = [cv2.resize(np.array(each_slice.pixel_array),(IMG_PX_SIZE,IMG_PX_SIZE)) for each_slice in slices]\n",
        "        \n",
        "        chunk_sizes = math.ceil(len(slices)/HM_SLICES)\n",
        "        \n",
        "        for slice_chunk in chunks(slices,chunk_sizes):\n",
        "            slice_chunk = list(map(mean,zip(*slice_chunk)))\n",
        "            new_slices.append(slice_chunk)\n",
        "            \n",
        "        if len(new_slices) == HM_SLICES-1:\n",
        "            new_slices.append(new_slices[-1])\n",
        "            \n",
        "        if len(new_slices) == HM_SLICES-2:\n",
        "            new_slices.append(new_slices[-1])\n",
        "            new_slices.append(new_slices[-1])\n",
        "            \n",
        "        if len(new_slices) == HM_SLICES+2:\n",
        "            new_val = list(map(mean,zip(*[new_slices[HM_SLICES-1],new_slices[HM_SLICES],])))\n",
        "            del new_slices[HM_SLICES]\n",
        "            new_slices[HM_SLICES-1] = new_val\n",
        "            \n",
        "        if len(new_slices) == HM_SLICES+1:\n",
        "            new_val = list(map(mean,zip(*[new_slices[HM_SLICES-1],new_slices[HM_SLICES],])))\n",
        "            del new_slices[HM_SLICES]\n",
        "            new_slices[HM_SLICES-1] = new_val\n",
        "                     \n",
        "        print(len(slices),len(new_slices))\n",
        "     \n",
        "    except Exception as e:\n",
        "        print(str(e))"
      ]
    },
    {
      "cell_type": "code",
      "execution_count": null,
      "metadata": {
        "_cell_guid": "ec726c7a-8515-acb0-2092-d03ba4ae444e"
      },
      "outputs": [],
      "source": [
        "labels_df.loc[:'0015ceb851d7251b8f399e39779d1e7d']"
      ]
    },
    {
      "cell_type": "code",
      "execution_count": null,
      "metadata": {
        "_cell_guid": "fa1d61ad-2ba1-ed61-d50c-b47c0504b7c4"
      },
      "outputs": [],
      "source": [
        "labels_df.loc['0b20184e0cd497028bdd155d9fb42dc9']\n",
        "# There's no such lable in the csv file"
      ]
    },
    {
      "cell_type": "code",
      "execution_count": null,
      "metadata": {
        "_cell_guid": "017cc688-f946-f464-b932-53ed5175ff1e"
      },
      "outputs": [],
      "source": [
        "patients[5]"
      ]
    },
    {
      "cell_type": "code",
      "execution_count": null,
      "metadata": {
        "_cell_guid": "0140bbeb-fcd9-2a52-e19f-4f7b1a2b4358"
      },
      "outputs": [],
      "source": [
        "#label = labels_df.get_value(patient, 'cancer')\n",
        "path = data_dir + patients[5]\n",
        "slices = [dicom.read_file(path+'/'+s) for s in os.listdir(path)]\n",
        "slices.sort(key=lambda x: int(x.ImagePositionPatient[2]))\n",
        "fig = plt.figure()\n",
        "for num,each_slice in enumerate(slices[:12]):\n",
        "    y = fig.add_subplot(3,4,num+1)\n",
        "    new_img = cv2.resize(np.array(each_slice.pixel_array),(IMG_PX_SIZE,IMG_PX_SIZE))\n",
        "    y.imshow(new_img)\n",
        "\n",
        "plt.show()\n",
        "# seems like a \"1\""
      ]
    },
    {
      "cell_type": "code",
      "execution_count": null,
      "metadata": {
        "_cell_guid": "331e590a-c93c-7a39-17fe-eb29017baeeb"
      },
      "outputs": [],
      "source": [
        "labels_df.set_value('0b20184e0cd497028bdd155d9fb42dc9','cancer',1)"
      ]
    },
    {
      "cell_type": "code",
      "execution_count": null,
      "metadata": {
        "_cell_guid": "1c9008a4-4da4-05f7-24fd-7225bca37aaf"
      },
      "outputs": [],
      "source": [
        "labels_df.loc['0b20184e0cd497028bdd155d9fb42dc9']\n",
        "# now there's a value for the 6th patient"
      ]
    },
    {
      "cell_type": "code",
      "execution_count": null,
      "metadata": {
        "_cell_guid": "fd7b8508-33d7-8a20-a13b-6e35a0dd3ff9"
      },
      "outputs": [],
      "source": [
        "# deal with the problem of unequal \n",
        "for patient in patients[:20]:\n",
        "    try:\n",
        "        label = labels_df.get_value(patient,'cancer')\n",
        "        path = data_dir + patient\n",
        "        slices = [dicom.read_file(path+'/'+s) for s in os.listdir(path)]\n",
        "        slices.sort(key=lambda x: int(x.ImagePositionPatient[2]))\n",
        "        new_slices = []\n",
        "        \n",
        "        slices = [cv2.resize(np.array(each_slice.pixel_array),(IMG_PX_SIZE,IMG_PX_SIZE)) for each_slice in slices]\n",
        "        \n",
        "        chunk_sizes = math.ceil(len(slices)/HM_SLICES)\n",
        "        \n",
        "        for slice_chunk in chunks(slices,chunk_sizes):\n",
        "            slice_chunk = list(map(mean,zip(*slice_chunk)))\n",
        "            new_slices.append(slice_chunk)\n",
        "            \n",
        "        if len(new_slices) == HM_SLICES-1:\n",
        "            new_slices.append(new_slices[-1])\n",
        "            \n",
        "        if len(new_slices) == HM_SLICES-2:\n",
        "            new_slices.append(new_slices[-1])\n",
        "            new_slices.append(new_slices[-1])\n",
        "            \n",
        "        if len(new_slices) == HM_SLICES+2:\n",
        "            new_val = list(map(mean,zip(*[new_slices[HM_SLICES-1],new_slices[HM_SLICES],])))\n",
        "            del new_slices[HM_SLICES]\n",
        "            new_slices[HM_SLICES-1] = new_val\n",
        "            \n",
        "        if len(new_slices) == HM_SLICES+1:\n",
        "            new_val = list(map(mean,zip(*[new_slices[HM_SLICES-1],new_slices[HM_SLICES],])))\n",
        "            del new_slices[HM_SLICES]\n",
        "            new_slices[HM_SLICES-1] = new_val\n",
        "                     \n",
        "        print(len(slices),len(new_slices))\n",
        "     \n",
        "    except Exception as e:\n",
        "        print(str(e))"
      ]
    },
    {
      "cell_type": "code",
      "execution_count": null,
      "metadata": {
        "_cell_guid": "b4cd5ded-e90e-6763-af08-33bc5197a54e"
      },
      "outputs": [],
      "source": [
        "def process_data(patient,labels_df,img_px_ize=50,hm_slices=20,visualize=False):\n",
        "    \n",
        "    label = labels_df.get_value(patient,'cancer')\n",
        "    path = data_dir + patient\n",
        "    slices = [dicom.read_file(path+'/'+s) for s in os.listdir(path)]\n",
        "    slices.sort(key = lambda x: int(x.ImagePositionPatient[2]))\n",
        "    \n",
        "    new_slices=[]\n",
        "    slices = [cv.resize(np.array(each_slice.pixel_array),(img_px_size,img_px_size)) for each_slice in slices]\n",
        "    \n",
        "    chunk_sizes = math.ceil(len(slices)/hm_slices)\n",
        "    for slice_chunk in chunks(slices,chunk_sizes):\n",
        "        slice_chunk = list(map(mean,zip(*slice_chunk)))\n",
        "        \n",
        "    if len(new_slices) == hm_slices-1:\n",
        "        new_slices.append(new_slices[-1])\n",
        "        \n",
        "    if len(new_slices) == hm_slices-2:\n",
        "        new_slices.append(new_slices[-1])\n",
        "        new_slices.append(new_slices[-1])\n",
        "        \n",
        "    if len(new_slices) == hm_slices+2:\n",
        "        new_val = lsit(map(mean,zip(*[new_slices[hm_slices-1],new_slices[hm_slices],])))\n",
        "        new_slices[hm_slices-1] = new_val\n",
        "        \n",
        "    if visualize:\n",
        "        fig = plt.figure()\n",
        "        for num, each_slice in enumerate(new_slices):\n",
        "            y = fig.add_subplot(4,5,num+1)\n",
        "            y,imshow(each_slice, cmap='gray')\n",
        "        plt.show()\n",
        "        \n",
        "    if label == 1: label+np.array([0,1])\n",
        "    elif label == 0: label=np.array([1,0])\n",
        "        \n",
        "    return np.array(new_slices),label"
      ]
    },
    {
      "cell_type": "code",
      "execution_count": null,
      "metadata": {
        "_cell_guid": "6ec4fd35-ab17-ee1b-9094-f9fb395b541c"
      },
      "outputs": [],
      "source": [
        ""
      ]
    },
    {
      "cell_type": "code",
      "execution_count": null,
      "metadata": {
        "_cell_guid": "a0a6f285-ceb8-4634-c2e9-0f3d6266f671"
      },
      "outputs": [],
      "source": [
        ""
      ]
    },
    {
      "cell_type": "code",
      "execution_count": null,
      "metadata": {
        "_cell_guid": "406eeb13-5e3c-c874-09ff-67a9fc021af5"
      },
      "outputs": [],
      "source": [
        ""
      ]
    },
    {
      "cell_type": "markdown",
      "metadata": {
        "_cell_guid": "3d417f15-96eb-8323-4244-10b49aa1ca2a"
      },
      "source": [
        "**TensorFlow Tutorials**\n",
        "\n",
        "1. [Tensorflow Tutorials by Karthik Kumar][1]\n",
        "2. [Build a TensorFlow Image Classifier in 5 Min by Siraj Raval][2]\n",
        "\n",
        "\n",
        "  [1]: https://www.kaggle.com/karthikkumar/data-science-bowl-2017/tensorflow-tutorials\n",
        "  [2]: https://www.youtube.com/watch?v=QfNvhPx5Px8"
      ]
    },
    {
      "cell_type": "markdown",
      "metadata": {
        "_cell_guid": "a32d6f7c-e618-d464-9656-6a6ff84a0799"
      },
      "source": [
        "**Image Processing in TensorFlow**\n",
        "\n",
        "[TensorFlow Documentation][1]\n",
        "\n",
        "\n",
        "  [1]: https://www.tensorflow.org/api_guides/python/image"
      ]
    },
    {
      "cell_type": "code",
      "execution_count": null,
      "metadata": {
        "_cell_guid": "6798b7ec-7ba3-a234-a3d4-9e06b5aa2f1e"
      },
      "outputs": [],
      "source": [
        "import cv2"
      ]
    },
    {
      "cell_type": "code",
      "execution_count": null,
      "metadata": {
        "_cell_guid": "4ae06ad9-0f39-c53f-f16f-6ee54ccc543d"
      },
      "outputs": [],
      "source": [
        ""
      ]
    }
  ],
  "metadata": {
    "_change_revision": 0,
    "_is_fork": false,
    "kernelspec": {
      "display_name": "Python 3",
      "language": "python",
      "name": "python3"
    },
    "language_info": {
      "codemirror_mode": {
        "name": "ipython",
        "version": 3
      },
      "file_extension": ".py",
      "mimetype": "text/x-python",
      "name": "python",
      "nbconvert_exporter": "python",
      "pygments_lexer": "ipython3",
      "version": "3.6.0"
    }
  },
  "nbformat": 4,
  "nbformat_minor": 0
}