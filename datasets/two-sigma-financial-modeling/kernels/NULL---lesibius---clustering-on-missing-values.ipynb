{
  "cells": [
    {
      "cell_type": "markdown",
      "metadata": {
        "_cell_guid": "2f92959a-0c78-2de3-86b6-121ce56d50e4"
      },
      "source": [
        "#Clustering on Missing Values\n",
        "\n",
        "In a previous [notebook](https://www.kaggle.com/lesibius/two-sigma-financial-modeling/financial-instrument-types), I tried to see if I could differentiate among different instruments in the dataset using missing (or null) values. While my study was inconclusive, it was however clear that clustering this way could make sense (as suggested by the heatmap in the link above).\n",
        "\n",
        "This said, I would like to go further in this direction, with these objectives in mind:\n",
        "<ul>\n",
        "<li>Find a way to keep my clusers constant. Using the k-means provide clusters in a random order, which prevents any further analysis. Building on my previous work, I intend to have a clear view of which features can be used in clustering.</li>\n",
        "<li>Analyse the features and the y variable within each cluster to see if it is likely to use a one-model-fits-all will work.</li>\n",
        "</ul>\n",
        "\n",
        "The visualisation I obtained the last time suggests that two main clusters exist, and that some segregation could be done on the second cluster as well.\n",
        "\n",
        "# Results so Far\n",
        "<ul>\n",
        "<li>From the [previous notebook](https://www.kaggle.com/lesibius/two-sigma-financial-modeling/financial-instrument-types), I could isolate two main groups of ids based on their missing values</li>\n",
        "<li>One of the two groups contains more valid features that the other group. Overall, the cluster 0 has 57 \"mostly valid\" features, while the cluster 1 has only 24. 20 of these features are common to both clusters</li>\n",
        "<li>I unsuccessfully tried to apply a Kolmogorov-Smirnov two samples test on their y values to see if their distribution were roughly the same. However, it was inconclusive since it rejected the null hypothesis that both distribution were drawn from the same population while the four first moments and the cdf clearly indicate the contrary. For more information, see [this discussion](https://www.kaggle.com/c/two-sigma-financial-modeling/discussion/26406#) (thanks to CarrDelling and Oussama Errabia BTW) </li>\n",
        "</ul>\n",
        "\n",
        "# Recovering the Previous Results\n",
        "\n",
        "My first goal is to recover the results of my previous kernel."
      ]
    },
    {
      "cell_type": "code",
      "execution_count": null,
      "metadata": {
        "_cell_guid": "c863ca5c-9d5c-e8c3-e624-aaa69150b0eb"
      },
      "outputs": [],
      "source": [
        "#Importing libraries\n",
        "\n",
        "import numpy as np # linear algebra\n",
        "import pandas as pd # data processing, CSV file I/O (e.g. pd.read_csv)\n",
        "import matplotlib.pyplot as plt\n",
        "import seaborn as sns\n",
        "from sklearn.cluster import KMeans\n",
        "from sklearn.metrics import silhouette_score\n",
        "\n",
        "\n",
        "%matplotlib inline\n",
        "\n",
        "#Getting data\n",
        "\n",
        "#I owe this to SRK's work here:\n",
        "#https://www.kaggle.com/sudalairajkumar/two-sigma-financial-modeling/simple-exploration-notebook/notebook\n",
        "with pd.HDFStore(\"../input/train.h5\", \"r\") as train:\n",
        "    df = train.get(\"train\")\n",
        "\n",
        "\n",
        "input_variables = [x for x in df.columns.values if x not in ['id','y','timestamp']]\n",
        "\n",
        "\n",
        "df_id_vs_variable = df[['id']+input_variables]       #Removes 'y' and 'timestamp'\n",
        "df_id_vs_variable = df_id_vs_variable.fillna(0)      #Replace na by 0\n",
        "\n",
        "def makeBinary(x):\n",
        "    if abs(x) > 0.00000:\n",
        "        return 1\n",
        "    else:\n",
        "        return 0\n",
        "\n",
        "df_id_vs_variable = df_id_vs_variable.groupby('id').agg('sum').applymap(makeBinary)\n",
        "\n",
        "\n",
        "n_clust = 2\n",
        "\n",
        "km = KMeans(n_clusters=n_clust, n_init=20).fit(df_id_vs_variable)\n",
        "clust = km.predict(df_id_vs_variable)\n",
        "\n",
        "\n",
        "#Init table of indexes\n",
        "df_clust_index = {}\n",
        "for i in range(0,n_clust):\n",
        "    df_clust_index[i]=[]\n",
        "\n",
        "#Fill the cluster index\n",
        "for i in range(0,len(clust)):\n",
        "    df_clust_index[clust[i]].append(i)\n",
        "\n",
        "for i in range(0,n_clust):\n",
        "    df_clust_index[i] = df_id_vs_variable.iloc[df_clust_index[i]].index.values\n",
        "\n",
        "\n",
        "\n",
        "df_clust = []\n",
        "\n",
        "for i in range(0,n_clust):\n",
        "    df_clust.append(df.loc[df.id.isin(df_clust_index[i])])"
      ]
    },
    {
      "cell_type": "markdown",
      "metadata": {
        "_cell_guid": "39ee442b-38ba-59a4-054f-ecbc2fb9a1b4"
      },
      "source": [
        "At this stage, we have some useful variables:\n",
        "\n",
        "<ul>\n",
        " <li>`df_id_vs_variable` which provides a binary matrix (1: non-null variable for the id, 0: null-variable) </li>\n",
        "<li>`clust` which is the result of the skleran kmean (i.e. an array containing the cluster number for each observation)</li>\n",
        "<li>`df_clust_index` which has the following shape: {index_clust_0:[ids in cluster 0], index_clust_n:[ids in cluster n]}</li>\n",
        "<li>`df_clust`: an array of dataframe, where the index of the array represent the cluster number</li>\n",
        "</ul>\n",
        "\n",
        "# Two Clusters Analysis\n",
        "\n",
        "A first step is to see whether the data from the two clusters seems to be drawn from the same population.\n",
        "\n",
        "## Null vs Non-Null Variables\n",
        "\n",
        "First, I \"serialize\" my clusters. At the same time, I would like to keep only columns which exhibit sufficient data to be used. Thus, I only keep these clusters if 95% of the ids have a value."
      ]
    },
    {
      "cell_type": "code",
      "execution_count": null,
      "metadata": {
        "_cell_guid": "e65dcaeb-c95f-f92f-60a1-685a3682d649"
      },
      "outputs": [],
      "source": [
        "non_null_0 = df_id_vs_variable.loc[clust==0].sum() / df_id_vs_variable.loc[clust==0].shape[0]\n",
        "non_null_1 = df_id_vs_variable.loc[clust==1].sum() / df_id_vs_variable.loc[clust==1].shape[0]\n",
        "\n",
        "\n",
        "df_non_null_comparison = pd.concat([non_null_0,non_null_1],axis=1)\n",
        "\n",
        "bar_width = 1\n",
        "index = np.arange(df_non_null_comparison.shape[0])\n",
        "\n",
        "fig, ax = plt.subplots(figsize=(12,50))\n",
        "\n",
        "rects1 = plt.barh(index ,  np.array(df_non_null_comparison[0]), bar_width/2,\n",
        "                 color='b',\n",
        "                 label='Cluster 0')\n",
        "\n",
        "rects1 = plt.barh(index + bar_width/2,  np.array(df_non_null_comparison[1]), bar_width/2,\n",
        "                 color='r',\n",
        "                 label='Cluster 1')\n",
        "\n",
        "\n",
        "#plt.figure(figsize=(20,50))\n",
        "plt.legend()\n",
        "plt.xlabel('Percentage of Null-Values')\n",
        "plt.ylabel('Features')\n",
        "plt.yticks(index + bar_width, df_non_null_comparison.index.values)\n",
        "plt.tight_layout()\n",
        "plt.show()"
      ]
    },
    {
      "cell_type": "code",
      "execution_count": null,
      "metadata": {
        "_cell_guid": "b7dff674-dc8c-0b8b-c544-60f3026f35a2"
      },
      "outputs": [],
      "source": [
        "non_null_threshold = 0.95\n",
        "\n",
        "col_0 = non_null_0.loc[non_null_0 > non_null_threshold].index.values\n",
        "col_1 = non_null_1.loc[non_null_1 > non_null_threshold].index.values"
      ]
    },
    {
      "cell_type": "markdown",
      "metadata": {
        "_cell_guid": "38c7f787-0eec-0f62-d6a5-5c8390c61f8d"
      },
      "source": [
        "The following lists contains \"serialised\" column names."
      ]
    },
    {
      "cell_type": "code",
      "execution_count": null,
      "metadata": {
        "_cell_guid": "302b06cc-e922-2682-0b09-1b81cb867086"
      },
      "outputs": [],
      "source": [
        "col_0 = ['derived_2', 'fundamental_0', 'fundamental_2', 'fundamental_7', 'fundamental_8', 'fundamental_10', 'fundamental_11', 'fundamental_13', 'fundamental_14', 'fundamental_15', 'fundamental_16', 'fundamental_18', 'fundamental_19', 'fundamental_21', 'fundamental_23', 'fundamental_29', 'fundamental_30', 'fundamental_33', 'fundamental_35', 'fundamental_36', 'fundamental_37', 'fundamental_39', 'fundamental_41', 'fundamental_42', 'fundamental_43', 'fundamental_44', 'fundamental_45', 'fundamental_46', 'fundamental_48', 'fundamental_50', 'fundamental_53', 'fundamental_54', 'fundamental_55', 'fundamental_56', 'fundamental_59', 'fundamental_60', 'fundamental_62', 'technical_1', 'technical_2', 'technical_3', 'technical_6', 'technical_7', 'technical_11', 'technical_13', 'technical_17', 'technical_19', 'technical_20', 'technical_21', 'technical_22', 'technical_24', 'technical_27', 'technical_30', 'technical_33', 'technical_35', 'technical_36', 'technical_40', 'technical_41']\n",
        "col_1 = ['technical_1', 'technical_2', 'technical_3', 'technical_5', 'technical_6',\n",
        "     'technical_7', 'technical_11', 'technical_13', 'technical_14', 'technical_17',\n",
        "     'technical_19', 'technical_20', 'technical_21', 'technical_22', 'technical_24',\n",
        "     'technical_27', 'technical_30', 'technical_33', 'technical_34', 'technical_35',\n",
        "     'technical_36', 'technical_40', 'technical_41', 'technical_43']\n",
        "\n",
        "common_cols = [x for x in col_0 if x in col_1]\n",
        "\n",
        "print(\"Cluster 0 has {0} columns\".format(len(col_0)))\n",
        "print(\"Cluster 1 has {0} columns\".format(len(col_1)))\n",
        "\n",
        "print(\"Number of features present in both clusters: {0}\".format(len(common_cols)))\n",
        "print(\"Number of features that are only present in cluster 0: {0}\".format(len([x for x in col_0 if x not in col_1])))\n",
        "print(\"The following features are only present in cluster 1: {0}\".format(len([x for x in col_1 if x not in col_0])))"
      ]
    },
    {
      "cell_type": "markdown",
      "metadata": {
        "_cell_guid": "f0c505f7-33e7-9613-3f96-35131b85b476"
      },
      "source": [
        "## Kolmogorov-Smirnov Analysis on the 'y' Value\n",
        "\n",
        "This section and the following were an unfruitful try to see if the distribution of y values among clusters were different. As the graphs and first four moments exhibit the contrary of the test result, I will just let this part as is for the record.\n",
        "\n",
        "*Null hypothesis*  - H0: the two clusters are drawn from the same distribution."
      ]
    },
    {
      "cell_type": "code",
      "execution_count": null,
      "metadata": {
        "_cell_guid": "99630b24-f0ce-b2be-165b-d96d3034a6a0"
      },
      "outputs": [],
      "source": [
        "from scipy import stats\n",
        "\n",
        "y_0 = df_clust[0].y.dropna().values\n",
        "y_1 = df_clust[1].y.dropna().values \n",
        "\n",
        "print(\"{:01.3f}\".format(stats.ks_2samp(y_0, y_1)[1]))"
      ]
    },
    {
      "cell_type": "markdown",
      "metadata": {
        "_cell_guid": "2b7a29c1-9748-29e5-cab7-500bc0ac7f3e"
      },
      "source": [
        "We reject the null hypothesis at the 5% threshold. The two clusters apparently result from different distributions."
      ]
    },
    {
      "cell_type": "code",
      "execution_count": null,
      "metadata": {
        "_cell_guid": "189226b1-537a-1ca3-7cee-565bdc313248"
      },
      "outputs": [],
      "source": [
        "\n",
        "for i in range(0,n_clust):\n",
        "    n, bins, patches = plt.hist(df_clust[i].y.dropna().values, 50, normed=1, facecolor='green', alpha=0.75)\n",
        "    plt.xlabel('y Value')\n",
        "    plt.ylabel('Occurence')\n",
        "    plt.title(r'Distribution of y Value for Cluster '+str(i))\n",
        "    plt.show()\n",
        "    print(\"Mean value: {:.3e}\".format(df_clust[i].y.dropna().mean()))\n",
        "    print(\"Standard deviation: {:.3e}\".format(df_clust[i].y.dropna().std()))\n",
        "    print(\"Median value: {:.3e}\".format(df_clust[i].y.dropna().median()))\n",
        "    print(\"Skew: {:.3e}\".format(df_clust[i].y.dropna().skew()))\n",
        "    print(\"Kurtosis: {:.3e}\".format(df_clust[i].y.dropna().kurtosis()))"
      ]
    },
    {
      "cell_type": "markdown",
      "metadata": {
        "_cell_guid": "53a5f2da-f847-bbcc-a1da-bdc40a6b55f1"
      },
      "source": [
        "## Kolmogorov-Smirnov Analysis on the Common Features"
      ]
    },
    {
      "cell_type": "code",
      "execution_count": null,
      "metadata": {
        "_cell_guid": "22b28b08-2448-7115-5a3c-03364a354a36"
      },
      "outputs": [],
      "source": [
        "p_values_y = map(lambda x: stats.ks_2samp(df_clust[0][x].dropna().values, df_clust[1][x].dropna().values)[1],common_cols)\n",
        "\n",
        "def isrejected(pval,th = 0.05):\n",
        "    if pval < th:\n",
        "        return \"rejected\"\n",
        "    else:\n",
        "        return \"not rejected\"\n",
        "for pv in list(p_values_y):\n",
        "    print(\"{:.3e}: {}\".format(pv,isrejected(pv)))"
      ]
    },
    {
      "cell_type": "code",
      "execution_count": null,
      "metadata": {
        "_cell_guid": "bbbca987-6274-360b-e7aa-8dbd5ccdde74"
      },
      "outputs": [],
      "source": [
        "df_clust[1].shape"
      ]
    },
    {
      "cell_type": "markdown",
      "metadata": {
        "_cell_guid": "3b0a9e2f-fb17-3cda-7360-ac11c1d9e40d"
      },
      "source": [
        "## Inter-Cluster Features Correlation\n",
        "\n",
        "I would like to see now if some correlations exist between the features that are common to both clusters and those that are related to only one of them. The idea would be to use some models to fill missing values based on the non-empty data, in order to keep more features (or to avoid to fill them with their averages)."
      ]
    },
    {
      "cell_type": "code",
      "execution_count": null,
      "metadata": {
        "_cell_guid": "2efff062-8d63-6fa5-c44f-2fa7e6a16100"
      },
      "outputs": [],
      "source": [
        "#This code's purpose is to make sure that the cluster 0 in my previous analysis is the same here.\n",
        "\n",
        "if(non_null_0.loc[non_null_0 > non_null_threshold].index.isin(col_0).sum() < 24):\n",
        "    temp_df = df_clust[0]\n",
        "    df_clust[0] = df_clust[1]\n",
        "    df_clust[1] = temp_df"
      ]
    },
    {
      "cell_type": "code",
      "execution_count": null,
      "metadata": {
        "_cell_guid": "094d9e12-d4ca-2815-d87b-07a1d9c2e49f"
      },
      "outputs": [],
      "source": [
        "cl=0\n",
        "cols=[col_0,col_1]\n",
        "for cl in [0,1]:\n",
        "    remaining_cols = [x for x in cols[cl] if x not in cols[1-cl]]\n",
        "\n",
        "    df_corr = df_clust[cl][common_cols + remaining_cols]\n",
        "    df_corr = df_corr.corr()\n",
        "\n",
        "    df_corr = df_corr[common_cols].loc[df_corr.index.isin(remaining_cols)]\n",
        "\n",
        "    cmap = sns.diverging_palette(220, 10, as_cmap=True)\n",
        "    f, ax = plt.subplots(figsize=(11, 9))\n",
        "    sns.heatmap(df_corr, cmap=cmap, vmax=1,\n",
        "                square=True, xticklabels=True, yticklabels=True,\n",
        "                linewidths=.5, cbar_kws={\"shrink\": .5}, ax=ax)"
      ]
    },
    {
      "cell_type": "markdown",
      "metadata": {
        "_cell_guid": "b04fcc59-b539-7653-1d79-0b6b3b50910a"
      },
      "source": [
        "From the cluster 0, it might be possible to create a model on 'fundamental_21', 'fundamental_54' and 'fundamental_60'. From the cluster 1, 'technical_14' and 'technical_43'."
      ]
    },
    {
      "cell_type": "code",
      "execution_count": null,
      "metadata": {
        "_cell_guid": "c2f95e4b-dc44-8652-e502-0901f3181ec5"
      },
      "outputs": [],
      "source": ""
    }
  ],
  "metadata": {
    "_change_revision": 0,
    "_is_fork": false,
    "kernelspec": {
      "display_name": "Python 3",
      "language": "python",
      "name": "python3"
    },
    "language_info": {
      "codemirror_mode": {
        "name": "ipython",
        "version": 3
      },
      "file_extension": ".py",
      "mimetype": "text/x-python",
      "name": "python",
      "nbconvert_exporter": "python",
      "pygments_lexer": "ipython3",
      "version": "3.5.2"
    }
  },
  "nbformat": 4,
  "nbformat_minor": 0
}