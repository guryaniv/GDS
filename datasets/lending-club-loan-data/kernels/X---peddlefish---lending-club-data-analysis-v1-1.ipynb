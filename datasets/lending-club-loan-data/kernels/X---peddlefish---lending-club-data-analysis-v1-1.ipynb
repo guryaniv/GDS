{
  "cells": [
    {
      "cell_type": "code",
      "execution_count": null,
      "metadata": {
        "_cell_guid": "9c86baae-a4b5-4d0f-8178-12ad738972ce"
      },
      "outputs": [],
      "source": [
        "# This Python 3 environment comes with many helpful analytics libraries installed\n",
        "# It is defined by the kaggle/python docker image: https://github.com/kaggle/docker-python\n",
        "# For example, here's several helpful packages to load in \n",
        "\n",
        "%matplotlib inline\n",
        "import os\n",
        "import pandas as pd\n",
        "from matplotlib import pyplot as plt\n",
        "import numpy as np\n",
        "import math"
      ]
    },
    {
      "cell_type": "code",
      "execution_count": null,
      "metadata": {
        "_cell_guid": "7c625c58-f205-46e4-8534-da166eca95f4"
      },
      "outputs": [],
      "source": [
        "data = pd.read_csv('../input/loan.csv', low_memory=False)\n",
        "data.shape"
      ]
    },
    {
      "cell_type": "code",
      "execution_count": null,
      "metadata": {
        "_cell_guid": "b6cbc239-ec5f-4289-9e37-26c86a27208f"
      },
      "outputs": [],
      "source": [
        "# Define a dictionary with description for each column\n",
        "LCDataDictionary = pd.ExcelFile(\"../input/LCDataDictionary.xlsx\")\n",
        "print (LCDataDictionary.sheet_names)\n",
        "datadict = LCDataDictionary.parse(\"LoanStats\")\n",
        "datadict.head()\n",
        "loanstatnew = datadict['LoanStatNew'].tolist()\n",
        "description = datadict['Description'].tolist()\n",
        "namedict = {}\n",
        "for i in range(len(loanstatnew)):\n",
        "    namedict[loanstatnew[i]] = description[i]\n"
      ]
    },
    {
      "cell_type": "code",
      "execution_count": null,
      "metadata": {
        "_cell_guid": "574f8646-f5a9-42ae-900f-f87bc0b2350c"
      },
      "outputs": [],
      "source": [
        "#Missing Value Treatment\n",
        "##1. Check if each column contains missing value\n",
        "##2. What percentage of missing value for each column\n",
        "##3. Delete columns with nan% > 97%\n",
        "column_naper_dict = {} # {'colname': [ missing value percentage]}\n",
        "print ('columns with nan% > 97% are:')\n",
        "for column in data:\n",
        "   if data[column].isnull().sum()>0:\n",
        "        column_naper_dict[column] = data[column].isnull().sum()/ 887379.0 \n",
        "        print (column_naper_dict[column])\n",
        "        if column_naper_dict[column] > 0.97:\n",
        "            if column in namedict:\n",
        "                print (\"{0:.0f}%\".format(column_naper_dict[column]  *100) )\n",
        "            else:\n",
        "                print (column)\n",
        "            data.drop(column, axis=1,inplace='True') \n",
        "column_naper_dict"
      ]
    },
    {
      "cell_type": "code",
      "execution_count": null,
      "metadata": {
        "_cell_guid": "7a8322d0-c04f-4e89-8f7c-aa46083fc6fb"
      },
      "outputs": [],
      "source": [
        "data.replace('n/a', 'nan',inplace=True)\n",
        "data.fillna('')\n",
        "data.head()"
      ]
    },
    {
      "cell_type": "code",
      "execution_count": null,
      "metadata": {
        "_cell_guid": "22d3ed73-5b1b-464d-93ec-163f538796d5"
      },
      "outputs": [],
      "source": [
        "# Visualization\n",
        "## bar-plot of loan_amnt bin / funded_amnt_bin\n",
        "def label_loan_amnt(row):\n",
        "    if row['loan_amnt'] <= 5000 :\n",
        "      return '5K and Below'\n",
        "    if row['loan_amnt'] > 5000 and row['loan_amnt'] <= 10000:\n",
        "      return '5K-10K'\n",
        "    if row['loan_amnt'] > 10000 and row['loan_amnt'] <= 15000:\n",
        "      return '10K-15K'\n",
        "    if row['loan_amnt'] > 15000 and row['loan_amnt'] <= 20000:\n",
        "      return '15K-20K'\n",
        "    if row['loan_amnt'] > 20000 and row['loan_amnt'] <= 25000:\n",
        "      return '20K-25K'\n",
        "    if row['loan_amnt'] > 25000 and row['loan_amnt'] <= 30000:\n",
        "      return '25K-30K'\n",
        "    if row['loan_amnt'] > 30000 :\n",
        "      return '30K and Above'\n",
        "    return 'Other'\n",
        "data['loan_amnt_bin'] = data.apply (lambda row: label_loan_amnt(row),axis=1)\n",
        "data['loan_amnt_bin'].value_counts()"
      ]
    },
    {
      "cell_type": "code",
      "execution_count": null,
      "metadata": {
        "_cell_guid": "4bc569dd-d57e-4de3-bd82-fc083489acc4"
      },
      "outputs": [],
      "source": [
        "import matplotlib\n",
        "matplotlib.style.use('ggplot')\n",
        "f = plt.figure(1)\n",
        "data['loan_amnt'].hist()\n",
        "plt.xlabel('Loan Amount')\n",
        "plt.ylabel('Frequency')\n",
        "plt.title('Histogram of Loan Amount')\n",
        "plt.grid(True)\n",
        "f.show()\n",
        "\n",
        "f = plt.figure(2)\n",
        "data['loan_amnt_bin'].value_counts().plot.pie(autopct='%1.0f%%',)\n",
        "plt.title('Pie Chart of Loan Amount')\n",
        "f.show()"
      ]
    },
    {
      "cell_type": "code",
      "execution_count": null,
      "metadata": {
        "_cell_guid": "9f398612-503c-4650-8963-fe874f3ee949"
      },
      "outputs": [],
      "source": [
        "def label_funded_amnt(row):\n",
        "    if row['funded_amnt'] <= 5000 :\n",
        "      return '5K and Below'\n",
        "    if row['funded_amnt'] > 5000 and row['funded_amnt'] <= 10000:\n",
        "      return '5K-10K'\n",
        "    if row['funded_amnt'] > 10000 and row['funded_amnt'] <= 15000:\n",
        "      return '10K-15K'\n",
        "    if row['funded_amnt'] > 15000 and row['funded_amnt'] <= 20000:\n",
        "      return '15K-20K'\n",
        "    if row['funded_amnt'] > 20000 and row['funded_amnt'] <= 25000:\n",
        "      return '20K-25K'\n",
        "    if row['funded_amnt'] > 25000 and row['funded_amnt'] <= 30000:\n",
        "      return '25K-30K'\n",
        "    if row['funded_amnt'] > 30000 :\n",
        "      return '30K and Above'\n",
        "    return 'Other'\n",
        "data['funded_amnt_bin'] = data.apply (lambda row: label_funded_amnt(row),axis=1)\n",
        "data['funded_amnt_bin'].value_counts()\n",
        "\n",
        "f = plt.figure(1)\n",
        "data['funded_amnt'].hist()\n",
        "plt.xlabel('Funded Amount')\n",
        "plt.ylabel('Frequency')\n",
        "plt.title('Histogram of Funded Amount')\n",
        "plt.grid(True)\n",
        "f.show()\n",
        "\n",
        "f = plt.figure(2)\n",
        "data['funded_amnt_bin'].value_counts().plot.pie(autopct='%1.0f%%',)\n",
        "plt.title('Pie Chart of Funded Amount')\n",
        "f.show()"
      ]
    },
    {
      "cell_type": "code",
      "execution_count": null,
      "metadata": {
        "_cell_guid": "367e0d60-431c-49d3-9781-e27283c4bc10"
      },
      "outputs": [],
      "source": [
        "#Counter_offer_flag: if funded amount is less than loan amount; (Note: no deals has funder amount greater than loan amount)\n",
        "data['counter_offer_flag'] = data.loan_amnt-data.funded_amnt\n",
        "print ('%d deals out of 887379 deals are given counter offer' %((data['counter_offer_flag']> 0).sum()))"
      ]
    },
    {
      "cell_type": "code",
      "execution_count": null,
      "metadata": {
        "_cell_guid": "5ab0ba5f-942c-4fa4-9c44-d10d8cc642e0"
      },
      "outputs": [],
      "source": [
        "data['grade'].value_counts().plot.pie(autopct='%1.0f%%',)\n",
        "plt.title('Pie Chart of Grade')"
      ]
    },
    {
      "cell_type": "code",
      "execution_count": null,
      "metadata": {
        "_cell_guid": "beed27b1-f060-43ff-b9e2-ee69f7f7145f"
      },
      "outputs": [],
      "source": [
        "# funded amount, term, interest rate by loan grade;\n",
        "data[['funded_amnt','grade']].boxplot(by='grade')\n",
        "data[['int_rate','grade']].boxplot(by='grade')\n",
        "# There are two types terms: 36 months and 60 months\n",
        "#data['term'] = data['term'].str.split(' ').str[1].astype('int')\n",
        "#data[['term','grade']].groupby('grade').mean()"
      ]
    },
    {
      "cell_type": "code",
      "execution_count": null,
      "metadata": {
        "_cell_guid": "2b603cbb-c04d-413f-9129-75a5c0b843a7"
      },
      "outputs": [],
      "source": [
        "# Loan Status:\n",
        "data['loan_status'].value_counts()"
      ]
    },
    {
      "cell_type": "code",
      "execution_count": null,
      "metadata": {
        "_cell_guid": "5e3accc3-7a12-4b3f-a567-868c5c2997b4"
      },
      "outputs": [],
      "source": [
        "def label_loan_closed_flag(row):\n",
        "    if row['loan_status'] in ['Fully Paid', 'Charged Off', 'Does not meet the credit policy. Status:Fully Paid',\n",
        "                             'Does not meet the credit policy. Status:Charged Off']:\n",
        "      return 'closed'\n",
        "    return 'open'\n",
        "data['loan_closed_flag'] = data.apply (lambda row: label_loan_closed_flag(row),axis=1)\n",
        "data['loan_closed_flag'].value_counts()"
      ]
    },
    {
      "cell_type": "code",
      "execution_count": null,
      "metadata": {
        "_cell_guid": "dea8e723-ba89-4a81-bf55-eadd5f17350e"
      },
      "outputs": [],
      "source": [
        "def label_loan_bad_flag(row):\n",
        "    if row['loan_status'] in [ 'Charged Off', 'Does not meet the credit policy. Status:Charged Off']:\n",
        "      return 'bad'\n",
        "    return 'good'\n",
        "data['loan_bad_flag'] = data.apply (lambda row: label_loan_bad_flag(row),axis=1)\n",
        "data['loan_bad_flag'].value_counts()"
      ]
    },
    {
      "cell_type": "code",
      "execution_count": null,
      "metadata": {
        "_cell_guid": "6bf90c9e-42ff-4eb8-912d-8b49bb2a044c"
      },
      "outputs": [],
      "source": [
        ""
      ]
    }
  ],
  "metadata": {
    "_change_revision": 0,
    "_is_fork": false,
    "kernelspec": {
      "display_name": "Python 3",
      "language": "python",
      "name": "python3"
    },
    "language_info": {
      "codemirror_mode": {
        "name": "ipython",
        "version": 3
      },
      "file_extension": ".py",
      "mimetype": "text/x-python",
      "name": "python",
      "nbconvert_exporter": "python",
      "pygments_lexer": "ipython3",
      "version": "3.5.2"
    }
  },
  "nbformat": 4,
  "nbformat_minor": 0
}