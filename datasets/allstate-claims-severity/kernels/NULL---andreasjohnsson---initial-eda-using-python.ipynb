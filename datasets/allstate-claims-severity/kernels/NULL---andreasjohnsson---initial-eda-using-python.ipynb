{
  "cells": [
    {
      "cell_type": "markdown",
      "metadata": {
        "_cell_guid": "1d4fba99-25ec-2ef5-b7b1-28579a556878"
      },
      "source": [
        "Allstate EDA\n"
      ]
    },
    {
      "cell_type": "code",
      "execution_count": null,
      "metadata": {
        "_cell_guid": "88419fcb-0119-c268-3fec-960a54b02b09"
      },
      "outputs": [],
      "source": [
        "# This Python 3 environment comes with many helpful analytics libraries installed\n",
        "# It is defined by the kaggle/python docker image: https://github.com/kaggle/docker-python\n",
        "# For example, here's several helpful packages to load in \n",
        "\n",
        "\n",
        "import pandas as pd\n",
        "import numpy as np\n",
        "import matplotlib.pyplot as plt\n",
        "import seaborn as sns\n",
        "import scipy.stats as stats \n",
        "from sklearn import preprocessing\n",
        "\n",
        "\n",
        "# Input data files are available in the \"../input/\" directory.\n",
        "# For example, running this (by clicking run or pressing Shift+Enter) will list the files in the input directory\n",
        "\n",
        "from subprocess import check_output\n",
        "print(check_output([\"ls\", \"../input\"]).decode(\"utf8\"))\n",
        "\n",
        "# Any results you write to the current directory are saved as output."
      ]
    },
    {
      "cell_type": "code",
      "execution_count": null,
      "metadata": {
        "_cell_guid": "b360f9f9-ae81-9ccc-e71d-ffb7fb5d08e5"
      },
      "outputs": [],
      "source": [
        "train = pd.read_csv('../input/train.csv')\n",
        "test = pd.read_csv('../input/test.csv')"
      ]
    },
    {
      "cell_type": "code",
      "execution_count": null,
      "metadata": {
        "_cell_guid": "a1ce7606-7ae1-84bd-e8c3-56236ef62b95"
      },
      "outputs": [],
      "source": [
        "# Basic properties of the TRAIN data set\n",
        "train.describe()"
      ]
    },
    {
      "cell_type": "code",
      "execution_count": null,
      "metadata": {
        "_cell_guid": "5da6972d-92e1-f9f5-d7cf-466252432ef9"
      },
      "outputs": [],
      "source": [
        "# Basic properties of the TEST data set\n",
        "test.describe()"
      ]
    },
    {
      "cell_type": "code",
      "execution_count": null,
      "metadata": {
        "_cell_guid": "f6ffa56e-aa43-90fb-12d3-53f7cd38a08c"
      },
      "outputs": [],
      "source": [
        "contIndex = [((\"cont\" in x) or (\"loss\" in x)) for x in train.columns]\n",
        "catIndex = [((\"cat\" in x) or (\"loss\" in x)) for x in train.columns]\n"
      ]
    },
    {
      "cell_type": "code",
      "execution_count": null,
      "metadata": {
        "_cell_guid": "1816aba1-fc4d-0b7d-6237-1d9945c33d60"
      },
      "outputs": [],
      "source": [
        "# Plot heatmap for continuous features\n",
        "\n",
        "sns.set(context=\"paper\", font=\"monospace\")\n",
        "\n",
        "corr = train.loc[:, contIndex].corr()\n",
        "\n",
        "# Generate a mask for the upper triangle\n",
        "mask = np.zeros_like(corr, dtype=np.bool)\n",
        "mask[np.triu_indices_from(mask)] = True\n",
        "\n",
        "# Set up the matplotlib figure\n",
        "f, ax = plt.subplots(figsize=(11, 9))\n",
        "\n",
        "# Generate a custom diverging colormap\n",
        "cmap = sns.diverging_palette(220, 10, as_cmap=True)\n",
        "\n",
        "sns.heatmap(corr, cmap=cmap, vmax=.3, #mask=mask,\n",
        "            square=True, \n",
        "            linewidths=.5, cbar_kws={\"shrink\": .5}, ax=ax)\n"
      ]
    },
    {
      "cell_type": "code",
      "execution_count": null,
      "metadata": {
        "_cell_guid": "d60ecac1-5001-4125-a697-55c26a038f26"
      },
      "outputs": [],
      "source": [
        "# Pair plot to understand distributions and pair-wise correlation\n",
        "\n",
        "pltset = train.loc[:,contIndex].sample(100000)\n",
        "\n",
        "pltset['loss75threshold'] = (pltset['loss']>3864.045).astype(int)\n",
        "\n",
        "sns.pairplot(pltset, diag_kind=\"kde\", hue=\"loss75threshold\", palette=\"husl\")\n",
        "\n"
      ]
    },
    {
      "cell_type": "code",
      "execution_count": null,
      "metadata": {
        "_cell_guid": "87d29722-c217-244c-72ab-e5f6cfab1dd8"
      },
      "outputs": [],
      "source": [
        "# Understand the categorial variables. Change y to see the categorial variable\n",
        "pltset_cat = train.loc[:,catIndex].sample(100000)\n",
        "\n",
        "pltset_cat['logloss'] = np.log(pltset_cat['loss'])\n",
        "\n",
        "pltset_cat['loss75threshold'] = (pltset_cat['loss']>3864.045).astype(int)\n",
        "\n",
        "#sns.boxplot(x=\"logloss\", y=\"cat5\", data=pltset_cat, hue=\"loss75threshold\");\n",
        "\n",
        "sns.boxplot(x=\"logloss\", y=\"cat115\", data=pltset_cat);\n",
        "\n"
      ]
    },
    {
      "cell_type": "code",
      "execution_count": null,
      "metadata": {
        "_cell_guid": "63e0fd6a-dcc6-1e78-3499-e11419a8ae63"
      },
      "outputs": [],
      "source": [
        "# Count the number of categories in each CAT feature\n",
        "\n",
        "catIndex_withoutLoss = [((\"cat\" in x)) for x in train.columns]\n",
        "\n",
        "tmp = []\n",
        "\n",
        "for x in train.columns[catIndex_withoutLoss]:\n",
        "    tmp.append(len(set(train.loc[:, x])))\n",
        "\n",
        "catHist = pd.DataFrame()\n",
        "catHist['count'] = tmp\n",
        "\n",
        "catHist.plot.bar()\n"
      ]
    },
    {
      "cell_type": "code",
      "execution_count": null,
      "metadata": {
        "_cell_guid": "bceac1d9-8f08-1090-7b3c-c429f6476c9e"
      },
      "outputs": [],
      "source": ""
    }
  ],
  "metadata": {
    "_change_revision": 0,
    "_is_fork": false,
    "kernelspec": {
      "display_name": "Python 3",
      "language": "python",
      "name": "python3"
    },
    "language_info": {
      "codemirror_mode": {
        "name": "ipython",
        "version": 3
      },
      "file_extension": ".py",
      "mimetype": "text/x-python",
      "name": "python",
      "nbconvert_exporter": "python",
      "pygments_lexer": "ipython3",
      "version": "3.5.2"
    }
  },
  "nbformat": 4,
  "nbformat_minor": 0
}