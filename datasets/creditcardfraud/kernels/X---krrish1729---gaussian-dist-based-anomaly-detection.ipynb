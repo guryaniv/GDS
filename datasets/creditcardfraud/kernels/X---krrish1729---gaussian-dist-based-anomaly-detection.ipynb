{
  "cells": [
    {
      "cell_type": "markdown",
      "metadata": {
        "_cell_guid": "6b2be6c5-4d60-db12-31d1-8b013e082340"
      },
      "source": [
        "Simple Multivariate gaussian distribution assumption is used to predict the probability that a given transaction is fraudulent. \n",
        "\n",
        " - The raw data has ~250,000 normal transactions and ~500 fraudulent transactions\n",
        " - This is highly imbalanced data but such is the nature of credit card data. \n",
        " - So regular  ML techniques like random forests and logistic regression on raw data may give high accuracy but will be not very useful in detecting the fraud transactions. Because predicting every transaction as not fraudulent still gives an accuracy of 250000/250500 i.e. 99.8% accuracy.\n",
        " - One way to deal with this problem is resampling from the raw data to get a balanced sample and then run logistic regression or random forests\n",
        " - Another alternative is that we can use anomaly detection algorithms. \n",
        "\n",
        "In this notebook I apply the simple multivariate gaussian distribution assumption to calculate the probability that a given transaction is fraudulent.\n",
        "\n",
        "First I create a training data which contains only normal transactions. I split the transactions into normal and fraudulent transactions. \n",
        "Train Data:   60% of the the normal transactions\n",
        "Cross Validation Data: 20% of normal transactions and 50% of the fraudulent transactions\n",
        "Test Data: 20% of normal transactions and 50% of fraudulent transactions\n",
        "\n",
        "All the features are assumed to be independent of each other and are assumed to follow normal distribution. From the training data I calibrate the mean and variance of each feature. With this I calculate the probability of each transaction feature having a given value in the cross validation data. Now from the cross validation probabilities, I come up with an epsilon probability which can be used to classify the transaction. \n",
        "\n",
        "Increasing epsilon decreases false positives (normal but classified as fraud) and also the true positives (fraud classified as fraud). Using a very small epsilon increases the true positive rate but also dramatically increases the false positive rate. It is important to strike a balance here"
      ]
    },
    {
      "cell_type": "code",
      "execution_count": null,
      "metadata": {
        "_cell_guid": "e79b64e7-3782-7155-2d50-238240ba98fc"
      },
      "outputs": [],
      "source": [
        "import pandas as pd\n",
        "import numpy as np\n",
        "import seaborn as sns\n",
        "import matplotlib.pyplot as plt\n",
        "import itertools\n",
        "%matplotlib inline"
      ]
    },
    {
      "cell_type": "code",
      "execution_count": null,
      "metadata": {
        "_cell_guid": "02dbed6d-bf24-f000-fcf1-6e525295462e"
      },
      "outputs": [],
      "source": [
        "rawData = pd.read_csv('../input/creditcard.csv')"
      ]
    },
    {
      "cell_type": "code",
      "execution_count": null,
      "metadata": {
        "_cell_guid": "d29fc19d-7fe4-6378-4709-01e8c8b556f0"
      },
      "outputs": [],
      "source": [
        "rawData.head()"
      ]
    },
    {
      "cell_type": "code",
      "execution_count": null,
      "metadata": {
        "_cell_guid": "fe2b0578-d96c-2929-7b61-d9c4a675a57b"
      },
      "outputs": [],
      "source": [
        "normals = rawData[rawData['Class']==0]\n",
        "anamolies = rawData[rawData['Class']==1]"
      ]
    },
    {
      "cell_type": "code",
      "execution_count": null,
      "metadata": {
        "_cell_guid": "67857378-a256-6cd3-45ca-b1c8f70a22b7"
      },
      "outputs": [],
      "source": [
        "print('There are',len(normals),'normal transactions and ',len(anamolies), 'fraudulent transactions in the data')"
      ]
    },
    {
      "cell_type": "code",
      "execution_count": null,
      "metadata": {
        "_cell_guid": "2a7b5416-749d-1897-c856-b51c8e93d7c9"
      },
      "outputs": [],
      "source": [
        "rawData['Amount'].describe()"
      ]
    },
    {
      "cell_type": "code",
      "execution_count": null,
      "metadata": {
        "_cell_guid": "4c646741-66d2-f2fd-83ce-a2f4a4729b68"
      },
      "outputs": [],
      "source": [
        "split = np.random.choice([1,2,3], len(normals), p=[0.6, 0.2, 0.2])\n",
        "normals['split'] = split"
      ]
    },
    {
      "cell_type": "code",
      "execution_count": null,
      "metadata": {
        "_cell_guid": "7a6476d0-df13-49b0-148b-a0aee6e890e1"
      },
      "outputs": [],
      "source": [
        "trainData = normals[normals['split']==1]\n",
        "crossVal = normals[normals['split']==2]\n",
        "testData = normals[normals['split']==3]"
      ]
    },
    {
      "cell_type": "code",
      "execution_count": null,
      "metadata": {
        "_cell_guid": "5e2583c3-4738-da29-d442-7cd40fdf8387"
      },
      "outputs": [],
      "source": [
        "split2 = np.random.choice([1,2], len(anamolies), p=[0.5, 0.5])\n",
        "anamolies['split'] = split2"
      ]
    },
    {
      "cell_type": "code",
      "execution_count": null,
      "metadata": {
        "_cell_guid": "0f3a9688-4e23-6c69-4516-716152a7805a"
      },
      "outputs": [],
      "source": [
        "crossVal = crossVal.append(anamolies[anamolies['split']==1])\n",
        "testData = testData.append(anamolies[anamolies['split']==2])"
      ]
    },
    {
      "cell_type": "code",
      "execution_count": null,
      "metadata": {
        "_cell_guid": "e459b7a8-8bf0-e9c0-6f63-2cb96e4a3dd6"
      },
      "outputs": [],
      "source": [
        "print('Length of train data', len(trainData))\n",
        "print('Length of crossval data', len(crossVal))\n",
        "print('Length of test data', len(testData))"
      ]
    },
    {
      "cell_type": "code",
      "execution_count": null,
      "metadata": {
        "_cell_guid": "32954e99-80a8-3161-dbe7-24d3209504ed"
      },
      "outputs": [],
      "source": [
        "np.log(10)"
      ]
    },
    {
      "cell_type": "code",
      "execution_count": null,
      "metadata": {
        "_cell_guid": "d89a5a04-a5ce-bf07-86b0-99dc598a96ab"
      },
      "outputs": [],
      "source": [
        "cols = ['V'+str(i) for i in range(1,29)]\n",
        "cols.append('Amount')"
      ]
    },
    {
      "cell_type": "code",
      "execution_count": null,
      "metadata": {
        "_cell_guid": "7398599d-1362-6eaa-d0b2-d94182a0b9e3"
      },
      "outputs": [],
      "source": [
        "featureMeans = {}\n",
        "featureVars = {}"
      ]
    },
    {
      "cell_type": "code",
      "execution_count": null,
      "metadata": {
        "_cell_guid": "f8ab11bf-f0ea-4d18-0aec-5145300a764f"
      },
      "outputs": [],
      "source": [
        "for col in cols:\n",
        "    featureMeans[col] = np.mean(trainData[col])\n",
        "    featureVars[col] = np.var(trainData[col])"
      ]
    },
    {
      "cell_type": "code",
      "execution_count": null,
      "metadata": {
        "_cell_guid": "0bc2e08c-dc2d-44a6-eca9-d71d0ebd07ad"
      },
      "outputs": [],
      "source": [
        "featureMeans"
      ]
    },
    {
      "cell_type": "code",
      "execution_count": null,
      "metadata": {
        "_cell_guid": "7b726a99-c944-47cf-6c04-cac26b38231e"
      },
      "outputs": [],
      "source": [
        "featureVars"
      ]
    },
    {
      "cell_type": "code",
      "execution_count": null,
      "metadata": {
        "_cell_guid": "6e55ddd4-f618-855a-bd65-e3f1d0444fd7"
      },
      "outputs": [],
      "source": [
        "crossVal['prediction'] = ''"
      ]
    },
    {
      "cell_type": "code",
      "execution_count": null,
      "metadata": {
        "_cell_guid": "e799be47-385a-73f1-e3d7-4ea81b4caeb3"
      },
      "outputs": [],
      "source": [
        "testData.head()"
      ]
    },
    {
      "cell_type": "code",
      "execution_count": null,
      "metadata": {
        "_cell_guid": "1a3d5f91-cdc0-9cf1-59c3-d7d8de62ee2b"
      },
      "outputs": [],
      "source": [
        "testData = testData.reset_index()\n",
        "crossVal= crossVal.reset_index()"
      ]
    },
    {
      "cell_type": "code",
      "execution_count": null,
      "metadata": {
        "_cell_guid": "a6e381b7-8304-8a17-f34c-b21153e56164"
      },
      "outputs": [],
      "source": [
        "for i in range(len(crossVal)):\n",
        "    \n",
        "    p = 10\n",
        "    \n",
        "    for j in cols:\n",
        "        \n",
        "        p = p* (1/np.sqrt((2*np.pi)*featureVars[j]))* np.exp(-1*((crossVal.loc[i,j]-featureMeans[j])**2)/(2*featureVars[j]))\n",
        "    \n",
        "    crossVal.loc[i,'prediction'] = p"
      ]
    },
    {
      "cell_type": "code",
      "execution_count": null,
      "metadata": {
        "_cell_guid": "98871433-fc8d-2f68-198a-18632ee1bac9"
      },
      "outputs": [],
      "source": [
        "crossValNormals = crossVal[crossVal['Class']==0]\n",
        "crossValAnams = crossVal[crossVal['Class']==1]"
      ]
    },
    {
      "cell_type": "code",
      "execution_count": null,
      "metadata": {
        "_cell_guid": "e4469a06-433c-78f5-eea6-83c023063ab4"
      },
      "outputs": [],
      "source": [
        "crossVal['classPredict'] = ''"
      ]
    },
    {
      "cell_type": "code",
      "execution_count": null,
      "metadata": {
        "_cell_guid": "265304c7-9cbd-2df6-ec22-1ba597f9ead8"
      },
      "outputs": [],
      "source": [
        "classEpsArray = np.array([(10**(-1*i)) for i in range(10,50) ])"
      ]
    },
    {
      "cell_type": "code",
      "execution_count": null,
      "metadata": {
        "_cell_guid": "3fc1be80-3a43-edc9-9e17-2c4ca37a0d86"
      },
      "outputs": [],
      "source": [
        "def classify(predictionP,eps):\n",
        "    \n",
        "    if predictionP < eps:\n",
        "        return 1\n",
        "    else:\n",
        "        return 0\n",
        "    "
      ]
    },
    {
      "cell_type": "code",
      "execution_count": null,
      "metadata": {
        "_cell_guid": "28229aba-d0db-0d4c-471f-afaf591e5e5b"
      },
      "outputs": [],
      "source": [
        "tprArray = []\n",
        "fprArray = []\n",
        "dtArray =[]\n",
        "\n",
        "for classEps in classEpsArray:\n",
        "    \n",
        "    crossVal['classPredict'] = crossVal['prediction'].apply(lambda row: classify(row,classEps))\n",
        "    effTable = crossVal[['classPredict','Class']]\n",
        "    fp = len(effTable[(effTable['classPredict']==1)&(effTable['Class']==0)])\n",
        "    fn = len(effTable[(effTable['classPredict']==0)&(effTable['Class']==1)])\n",
        "    tp = len(effTable[(effTable['classPredict']==1)&(effTable['Class']==1)])\n",
        "    tn = len(effTable[(effTable['classPredict']==0)&(effTable['Class']==0)])\n",
        "    \n",
        "    tpr = tp/(tp+fn)\n",
        "    fpr = fp/(fp+tn)\n",
        "    \n",
        "    detectRate = tp/(tp+fn)\n",
        "    \n",
        "    \n",
        "    \n",
        "    \n",
        "    tprArray.append(tpr)\n",
        "    fprArray.append(fpr)\n",
        "    dtArray.append(detectRate)\n",
        "    \n",
        "        "
      ]
    },
    {
      "cell_type": "code",
      "execution_count": null,
      "metadata": {
        "_cell_guid": "a5f76ba8-adac-35ac-f67a-148cd7db7e0e"
      },
      "outputs": [],
      "source": [
        "plt.figure()\n",
        "plt.plot(dtArray,label='Fraud detection Rate')\n",
        "plt.plot(fprArray,label='Flase Positive Rate')\n",
        "plt.legend()\n",
        "plt.show()"
      ]
    },
    {
      "cell_type": "code",
      "execution_count": null,
      "metadata": {
        "_cell_guid": "1570f534-c014-06ce-c65e-fb5134d31b0c"
      },
      "outputs": [],
      "source": [
        "From the above plot of fraud detection rate and flase positive rate we can see that epsilon parameter of "
      ]
    },
    {
      "cell_type": "code",
      "execution_count": null,
      "metadata": {
        "_cell_guid": "26c6d085-768e-3c21-7fba-8b7eba7b60a7"
      },
      "outputs": [],
      "source": [
        "plt.figure()\n",
        "plt.plot(fprArray,tprArray)\n",
        "plt.tight_layout()\n",
        "plt.ylabel('True positive rate (TPR)')\n",
        "plt.xlabel('False positive rate (FPR)')\n",
        "\n",
        "axes = plt.gca()\n",
        "axes.set_xlim([0,1])\n",
        "axes.set_ylim([0,1])"
      ]
    },
    {
      "cell_type": "code",
      "execution_count": null,
      "metadata": {
        "_cell_guid": "c407c509-a73d-577a-38d6-a31d046eddff"
      },
      "outputs": [],
      "source": [
        "classEps2 = 1.00000000e-24\n",
        "crossVal['classPredict'] = crossVal['prediction'].apply(lambda row: classify(row,classEps2))\n",
        "effTable = crossVal[['classPredict','Class']]"
      ]
    },
    {
      "cell_type": "code",
      "execution_count": null,
      "metadata": {
        "_cell_guid": "1b00109b-ed4b-456a-2026-5d958ebc2ee6"
      },
      "outputs": [],
      "source": [
        "fp = len(effTable[(effTable['classPredict']==1)&(effTable['Class']==0)])\n",
        "fn = len(effTable[(effTable['classPredict']==0)&(effTable['Class']==1)])\n",
        "tp = len(effTable[(effTable['classPredict']==1)&(effTable['Class']==1)])\n",
        "tn = len(effTable[(effTable['classPredict']==0)&(effTable['Class']==0)])"
      ]
    },
    {
      "cell_type": "code",
      "execution_count": null,
      "metadata": {
        "_cell_guid": "69ae1f88-e813-ea77-9979-c133ae1f20b8"
      },
      "outputs": [],
      "source": [
        "def plot_confusion_matrix(cm, classes,\n",
        "                          normalize=False,\n",
        "                          title='Confusion matrix',\n",
        "                          cmap=plt.cm.Blues):\n",
        "    \"\"\"\n",
        "    This function prints and plots the confusion matrix.\n",
        "    Normalization can be applied by setting `normalize=True`.\n",
        "    \"\"\"\n",
        "    plt.imshow(cm, interpolation='nearest', cmap=cmap)\n",
        "    plt.title(title)\n",
        "    plt.colorbar()\n",
        "    tick_marks = np.arange(len(classes))\n",
        "    plt.xticks(tick_marks, classes, rotation=45)\n",
        "    plt.yticks(tick_marks, classes)\n",
        "\n",
        "    if normalize:\n",
        "        cm = cm.astype('float') / cm.sum(axis=1)[:, np.newaxis]\n",
        "        print(\"Normalized confusion matrix\")\n",
        "    else:\n",
        "        print('Confusion matrix, without normalization')\n",
        "\n",
        "    print(cm)\n",
        "\n",
        "    thresh = cm.max() / 2.\n",
        "    for i, j in itertools.product(range(cm.shape[0]), range(cm.shape[1])):\n",
        "        plt.text(j, i, cm[i, j],\n",
        "                 horizontalalignment=\"center\",\n",
        "                 color=\"white\" if cm[i, j] > thresh else \"black\")\n",
        "\n",
        "    plt.tight_layout()\n",
        "    plt.ylabel('True label')\n",
        "    plt.xlabel('Predicted label')"
      ]
    },
    {
      "cell_type": "code",
      "execution_count": null,
      "metadata": {
        "_cell_guid": "c20504e9-dc90-df3f-b42d-b1b38b298346"
      },
      "outputs": [],
      "source": [
        "from sklearn.metrics import confusion_matrix\n",
        "cnf_matrix= confusion_matrix(crossVal['Class'], crossVal['classPredict'])"
      ]
    },
    {
      "cell_type": "code",
      "execution_count": null,
      "metadata": {
        "_cell_guid": "1c8b0785-0914-bbbe-54e7-d92450b1edec"
      },
      "outputs": [],
      "source": [
        "# Plot non-normalized confusion matrix\n",
        "plt.figure()\n",
        "plot_confusion_matrix(cnf_matrix, classes=['normal','anamoly'],\n",
        "                      title='Confusion matrix, without normalization')"
      ]
    },
    {
      "cell_type": "code",
      "execution_count": null,
      "metadata": {
        "_cell_guid": "04fec75d-64cc-af6c-53a2-9a4c65924bac"
      },
      "outputs": [],
      "source": [
        "2816/(2816+53423)"
      ]
    },
    {
      "cell_type": "markdown",
      "metadata": {
        "_cell_guid": "bc0d0e0d-10cf-999b-d1ad-1ccc42f9060c"
      },
      "source": [
        "From above confusion matrix we can see that the algorithm was able to detect 223 of 250 fraudulent transactions. THat is ~89.2% of the fraud. The false positive rate is 5%"
      ]
    },
    {
      "cell_type": "markdown",
      "metadata": {
        "_cell_guid": "db514a75-be24-16b1-9044-e4477cc152e7"
      },
      "source": ""
    },
    {
      "cell_type": "code",
      "execution_count": null,
      "metadata": {
        "_cell_guid": "96d72ee8-f4ff-23c4-98aa-8022dfee71ff"
      },
      "outputs": [],
      "source": [
        "testData['prediction'] = ''"
      ]
    },
    {
      "cell_type": "code",
      "execution_count": null,
      "metadata": {
        "_cell_guid": "33374c53-da7a-8c96-3863-4e97b07be919"
      },
      "outputs": [],
      "source": [
        "for i in range(len(testData)):\n",
        "    \n",
        "    p = 10\n",
        "    \n",
        "    for j in cols:\n",
        "        \n",
        "        p = p* (1/np.sqrt((2*np.pi)*featureVars[j]))* np.exp(-1*((testData.loc[i,j]-featureMeans[j])**2)/(2*featureVars[j]))\n",
        "    \n",
        "    testData.loc[i,'prediction'] = p"
      ]
    },
    {
      "cell_type": "code",
      "execution_count": null,
      "metadata": {
        "_cell_guid": "37498ad8-b5ee-442b-f795-8fa93f3be269"
      },
      "outputs": [],
      "source": [
        "classEps2 = 1.00000000e-24\n",
        "\n",
        "testData['classPredict'] = testData['prediction'].apply(lambda row: classify(row,classEps2))\n",
        "effTable2 = testData[['classPredict','Class']]\n",
        "\n",
        "cnf_matrix2 = confusion_matrix(testData['Class'], testData['classPredict'])\n",
        "\n",
        "plt.figure()\n",
        "plot_confusion_matrix(cnf_matrix2, classes=['normal','anamoly'],\n",
        "                      title='Confusion matrix, without normalization')"
      ]
    },
    {
      "cell_type": "markdown",
      "metadata": {
        "_cell_guid": "29d9f8df-540c-5da6-5925-03eeeacec077"
      },
      "source": [
        "On the test set the detection rate is ~ 86%"
      ]
    },
    {
      "cell_type": "code",
      "execution_count": null,
      "metadata": {
        "_cell_guid": "6d7c1fad-79d3-3855-b07c-e184187928b6"
      },
      "outputs": [],
      "source": ""
    }
  ],
  "metadata": {
    "_change_revision": 0,
    "_is_fork": false,
    "kernelspec": {
      "display_name": "Python 3",
      "language": "python",
      "name": "python3"
    },
    "language_info": {
      "codemirror_mode": {
        "name": "ipython",
        "version": 3
      },
      "file_extension": ".py",
      "mimetype": "text/x-python",
      "name": "python",
      "nbconvert_exporter": "python",
      "pygments_lexer": "ipython3",
      "version": "3.6.0"
    }
  },
  "nbformat": 4,
  "nbformat_minor": 0
}