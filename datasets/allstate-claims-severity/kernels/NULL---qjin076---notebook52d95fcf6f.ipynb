{
  "cells": [
    {
      "cell_type": "code",
      "execution_count": null,
      "metadata": {
        "_cell_guid": "146b836b-3c41-6d54-8675-d9b4a8e37936"
      },
      "outputs": [],
      "source": [
        "# This Python 3 environment comes with many helpful analytics libraries installed\n",
        "# It is defined by the kaggle/python docker image: https://github.com/kaggle/docker-python\n",
        "# For example, here's several helpful packages to load in \n",
        "\n",
        "import numpy as np # linear algebra\n",
        "import pandas as pd # data processing, CSV file I/O (e.g. pd.read_csv)\n",
        "\n",
        "# Input data files are available in the \"../input/\" directory.\n",
        "# For example, running this (by clicking run or pressing Shift+Enter) will list the files in the input directory\n",
        "\n",
        "from subprocess import check_output\n",
        "print(check_output([\"ls\", \"../input\"]).decode(\"utf8\"))\n",
        "\n",
        "# Any results you write to the current directory are saved as output."
      ]
    },
    {
      "cell_type": "code",
      "execution_count": null,
      "metadata": {
        "_cell_guid": "f15e1607-a51c-981b-d492-6e3a8a8808a6"
      },
      "outputs": [],
      "source": [
        "import xgboost as xgb\n",
        "import pandas as pd\n",
        "from sklearn import preprocessing, pipeline, metrics, grid_search\n",
        "import time\n",
        "import random\n",
        "import numpy as np\n",
        "import matplotlib.pyplot as plt\n",
        "import math\n",
        "from sklearn.metrics import mean_absolute_error\n",
        "\n",
        "from scipy import sparse\n",
        "%matplotlib inline"
      ]
    },
    {
      "cell_type": "code",
      "execution_count": null,
      "metadata": {
        "_cell_guid": "0ca61d35-4bc1-e0be-9b88-9e566b1871ac"
      },
      "outputs": [],
      "source": [
        "def logregobj(labels, preds):\n",
        "    con = 2\n",
        "    x =preds-labels\n",
        "    grad =con*x / (np.abs(x)+con)\n",
        "    hess =con**2 / (np.abs(x)+con)**2\n",
        "    return grad, hess \n",
        "\n",
        "def log_mae(labels,preds,lift=200):\n",
        "    return mean_absolute_error(np.exp(labels)-lift, np.exp(preds)-lift)\n",
        "\n",
        "log_mae_scorer = metrics.make_scorer(log_mae, greater_is_better = False)\n",
        "\n",
        "def search_model(train_x, train_y, est, param_grid, n_jobs, cv, refit=False):\n",
        "##Grid Search for the best model\n",
        "    model = grid_search.GridSearchCV(estimator  = est,\n",
        "                                     param_grid = param_grid,\n",
        "                                     scoring    = log_mae_scorer,\n",
        "                                     verbose    = 10,\n",
        "                                     n_jobs  = n_jobs,\n",
        "                                     iid        = True,\n",
        "                                     refit    = refit,\n",
        "                                     cv      = cv)\n",
        "    # Fit Grid Search Model\n",
        "    model.fit(train_x, train_y)\n",
        "    print(\"Best score: %0.3f\" % model.best_score_)\n",
        "    print(\"Best parameters set:\", model.best_params_)\n",
        "    print(\"Scores:\", model.grid_scores_)\n",
        "    return model\n",
        "\n",
        "\n",
        "\n",
        "def xg_eval_mae(yhat, dtrain, lift=200):\n",
        "    y = dtrain.get_label()\n",
        "    return 'mae', mean_absolute_error(np.exp(y)-lift, np.exp(yhat)-lift)\n",
        "\n",
        "def xgb_logregobj(preds, dtrain):\n",
        "    con = 2\n",
        "    labels = dtrain.get_label()\n",
        "    x =preds-labels\n",
        "    grad =con*x / (np.abs(x)+con)\n",
        "    hess =con**2 / (np.abs(x)+con)**2\n",
        "    return grad, hess\n",
        "\n",
        "\n",
        "def search_model_mae (train_x, train_y, est, param_grid, n_jobs, cv, refit=False):\n",
        "##Grid Search for the best model\n",
        "    model = grid_search.GridSearchCV(estimator  = est,\n",
        "                                     param_grid = param_grid,\n",
        "                                     scoring    = 'neg_mean_absolute_error',\n",
        "                                     verbose    = 10,\n",
        "                                     n_jobs  = n_jobs,\n",
        "                                     iid        = True,\n",
        "                                     refit    = refit,\n",
        "                                     cv      = cv)\n",
        "    # Fit Grid Search Model\n",
        "    model.fit(train_x, train_y)\n",
        "    print(\"Best score: %0.3f\" % model.best_score_)\n",
        "    print(\"Best parameters set:\", model.best_params_)\n",
        "    print(\"Scores:\", model.grid_scores_)\n",
        "    return model"
      ]
    },
    {
      "cell_type": "code",
      "execution_count": null,
      "metadata": {
        "_cell_guid": "fb79506d-1f64-969d-d068-43b90fd326cb"
      },
      "outputs": [],
      "source": [
        "# Load data\n",
        "start = time.time() \n",
        "train_data = pd.read_csv('../input/train.csv')\n",
        "train_size=train_data.shape[0]\n",
        "print (\"Loading train data finished in %0.3fs\" % (time.time() - start))        \n",
        "\n",
        "test_data = pd.read_csv('../input/test.csv')\n",
        "print (\"Loading test data finished in %0.3fs\" % (time.time() - start))        "
      ]
    },
    {
      "cell_type": "code",
      "execution_count": null,
      "metadata": {
        "_cell_guid": "ddc56713-a190-8b1b-ddf9-a6f1a2303cf3"
      },
      "outputs": [],
      "source": [
        "full_data=pd.concat([train_data\n",
        "                       ,test_data])\n",
        "del( train_data, test_data)\n",
        "print (\"Full Data set created.\")"
      ]
    },
    {
      "cell_type": "code",
      "execution_count": null,
      "metadata": {
        "_cell_guid": "a88658e8-202e-acf3-577c-961871aa9f2e"
      },
      "outputs": [],
      "source": [
        "data_types = full_data.dtypes  \n",
        "cat_cols = list(data_types[data_types=='object'].index)\n",
        "num_cols = list(data_types[data_types=='int64'].index) + list(data_types[data_types=='float64'].index)\n",
        "\n",
        "id_col = 'id'\n",
        "target_col = 'loss'\n",
        "num_cols.remove('id')\n",
        "num_cols.remove('loss')\n",
        "\n",
        "print (\"Categorical features:\", cat_cols)\n",
        "print ( \"Numerica features:\", num_cols)\n",
        "print ( \"ID: %s, target: %s\" %( id_col, target_col))"
      ]
    },
    {
      "cell_type": "code",
      "execution_count": null,
      "metadata": {
        "_cell_guid": "39e92da0-7b82-8192-bce4-efac6704e64e"
      },
      "outputs": [],
      "source": ""
    }
  ],
  "metadata": {
    "_change_revision": 0,
    "_is_fork": false,
    "kernelspec": {
      "display_name": "Python 3",
      "language": "python",
      "name": "python3"
    },
    "language_info": {
      "codemirror_mode": {
        "name": "ipython",
        "version": 3
      },
      "file_extension": ".py",
      "mimetype": "text/x-python",
      "name": "python",
      "nbconvert_exporter": "python",
      "pygments_lexer": "ipython3",
      "version": "3.5.2"
    }
  },
  "nbformat": 4,
  "nbformat_minor": 0
}