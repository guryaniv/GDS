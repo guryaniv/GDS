{
  "cells": [
    {
      "cell_type": "markdown",
      "metadata": {
        "_cell_guid": "d62526a2-e017-c06c-ae55-baa642cd5471"
      },
      "source": [
        "I am curious as to how Lending Club determines their interest rates"
      ]
    },
    {
      "cell_type": "code",
      "execution_count": null,
      "metadata": {
        "_cell_guid": "845d87db-ac7a-49d7-8f9b-84e60b6e296d"
      },
      "outputs": [],
      "source": [
        "# This Python 3 environment comes with many helpful analytics libraries installed\n",
        "# It is defined by the kaggle/python docker image: https://github.com/kaggle/docker-python\n",
        "# For example, here's several helpful packages to load in \n",
        "\n",
        "import numpy as np # linear algebra\n",
        "import pandas as pd # data processing, CSV file I/O (e.g. pd.read_csv)\n",
        "import seaborn as sns\n",
        "import matplotlib.pyplot as plt\n",
        "import matplotlib.patches as mpatches\n",
        "from sklearn.cluster import DBSCAN\n",
        "from sklearn.preprocessing import LabelEncoder, MinMaxScaler\n",
        "%matplotlib inline\n",
        "\n",
        "# Input data files are available in the \"../input/\" directory.\n",
        "# For example, running this (by clicking run or pressing Shift+Enter) will list the files in the input directory\n",
        "\n",
        "from subprocess import check_output\n",
        "print(check_output([\"ls\", \"../input\"]).decode(\"utf8\"))\n",
        "frame = pd.read_csv('../input/loan.csv', low_memory=False)\n",
        "# Any results you write to the current directory are saved as output."
      ]
    },
    {
      "cell_type": "markdown",
      "metadata": {
        "_cell_guid": "37960f87-4a1c-3886-f923-e3b1dc9fb868"
      },
      "source": [
        "## Defining some helper functions ##"
      ]
    },
    {
      "cell_type": "code",
      "execution_count": null,
      "metadata": {
        "_cell_guid": "978c54fb-8514-d1b6-1d4f-984e65967897"
      },
      "outputs": [],
      "source": [
        "def make_bar(attr, title, ylabel):\n",
        "    heights = frame[attr].value_counts().tolist()\n",
        "    names = []\n",
        "    for k, v in frame[attr].value_counts().items():\n",
        "        names.append(k)\n",
        "        \n",
        "    for ii, height in enumerate(heights):\n",
        "        color = np.random.random_sample(3)\n",
        "        plt.bar(ii, height, color=color)\n",
        "        \n",
        "    plt.title(title)\n",
        "    plt.ylabel(ylabel)\n",
        "    plt.gca().set_xticklabels(names)\n",
        "    plt.gca().set_xticks(np.arange(len(names)) + .4)\n",
        "    if len(names) > 5:\n",
        "        plt.xticks(rotation=90)\n",
        "    plt.show()\n",
        "    \n",
        "    "
      ]
    },
    {
      "cell_type": "markdown",
      "metadata": {
        "_cell_guid": "31686900-1e3b-f557-c25f-a1fc0c42f9a6"
      },
      "source": [
        "## Categorical Data ##"
      ]
    },
    {
      "cell_type": "code",
      "execution_count": null,
      "metadata": {
        "_cell_guid": "58074c55-f1a7-e6c9-ec03-de6e23a330c1"
      },
      "outputs": [],
      "source": [
        "make_bar('emp_length', 'Length of Employment of Borrowers', 'Borrowers')\n",
        "make_bar('grade', 'Grades of Loans', 'Loans')\n",
        "make_bar('term', 'Terms of Loans', 'Loans')\n",
        "make_bar('purpose', 'Purpose of Loans', 'Loans')\n",
        "make_bar('loan_status', 'Loan Statuses', 'Loans')\n",
        "make_bar('application_type', 'Application Types', 'Loans')"
      ]
    },
    {
      "cell_type": "markdown",
      "metadata": {
        "_cell_guid": "fa887cc5-1154-f62c-6800-4c08821683ae"
      },
      "source": [
        "## Numerical Data ##"
      ]
    },
    {
      "cell_type": "code",
      "execution_count": null,
      "metadata": {
        "_cell_guid": "8d1c8db3-d24f-b000-0f09-5446f64534f6"
      },
      "outputs": [],
      "source": [
        "plt.hist(frame['int_rate'], bins=30)\n",
        "plt.title('Distribution of Interest Rates')\n",
        "plt.xlabel(\"Interest Rates\")\n",
        "plt.show()\n",
        "\n",
        "plt.hist(frame['loan_amnt'], bins=15)\n",
        "plt.title('Distribution of Loan Amounts')\n",
        "plt.xlabel(\"Loan Amounts\")\n",
        "plt.show()\n",
        "\n",
        "plt.hist(frame['installment'], bins=15)\n",
        "plt.title('Distribution of Installments')\n",
        "plt.xlabel(\"Installments\")\n",
        "plt.show()"
      ]
    },
    {
      "cell_type": "markdown",
      "metadata": {
        "_cell_guid": "7c0b2c88-95f8-3540-3e30-740016944bf7"
      },
      "source": [
        "## Numerical v Categorical ##"
      ]
    },
    {
      "cell_type": "code",
      "execution_count": null,
      "metadata": {
        "_cell_guid": "2a20d5cf-1eb9-9e9b-c12b-96bdfe4959c4"
      },
      "outputs": [],
      "source": [
        "sns.boxplot(x='grade', y='int_rate', data=frame, order = 'ABCDEFG')"
      ]
    },
    {
      "cell_type": "code",
      "execution_count": null,
      "metadata": {
        "_cell_guid": "e819a5b5-995c-a034-6d42-04d09c648d16"
      },
      "outputs": [],
      "source": [
        "sns.boxplot(x='grade', y='loan_amnt', data=frame, order = 'ABCDEFG')"
      ]
    },
    {
      "cell_type": "code",
      "execution_count": null,
      "metadata": {
        "_cell_guid": "c1b4b820-79d4-1446-d30c-52506c2fdd81"
      },
      "outputs": [],
      "source": [
        "sns.boxplot(x='term', y='int_rate', data=frame)"
      ]
    },
    {
      "cell_type": "code",
      "execution_count": null,
      "metadata": {
        "_cell_guid": "8c09e2eb-e4ab-bfd2-db6e-118b6761f302"
      },
      "outputs": [],
      "source": [
        "sns.boxplot(x='emp_length', y='int_rate', data=frame)\n",
        "plt.xticks(rotation=50)"
      ]
    },
    {
      "cell_type": "code",
      "execution_count": null,
      "metadata": {
        "_cell_guid": "ae4abe7b-e693-01b7-08ef-be1b36b8e7ff"
      },
      "outputs": [],
      "source": [
        "sns.boxplot(x='purpose', y='int_rate', data=frame)\n",
        "plt.xticks(rotation=90)"
      ]
    },
    {
      "cell_type": "code",
      "execution_count": null,
      "metadata": {
        "_cell_guid": "b1ac661e-e05d-823d-f5ea-548b563b7891"
      },
      "outputs": [],
      "source": [
        "sns.boxplot(x='application_type', y='int_rate', data=frame)\n",
        "plt.xticks(rotation=90)"
      ]
    },
    {
      "cell_type": "markdown",
      "metadata": {
        "_cell_guid": "0c30648e-e4cd-1e5a-64e3-b40abd66ccdd"
      },
      "source": [
        "## Numerical v Numerical ##"
      ]
    },
    {
      "cell_type": "code",
      "execution_count": null,
      "metadata": {
        "_cell_guid": "83ebff69-8ba1-9b24-0da0-db965177d034"
      },
      "outputs": [],
      "source": [
        "sns.jointplot(x='loan_amnt', y='int_rate', data=frame)"
      ]
    },
    {
      "cell_type": "code",
      "execution_count": null,
      "metadata": {
        "_cell_guid": "9cb9ce85-6223-780c-39aa-2be4dff42287"
      },
      "outputs": [],
      "source": [
        "sns.jointplot(x='installment', y='int_rate', data=frame)"
      ]
    }
  ],
  "metadata": {
    "_change_revision": 0,
    "_is_fork": false,
    "kernelspec": {
      "display_name": "Python 3",
      "language": "python",
      "name": "python3"
    },
    "language_info": {
      "codemirror_mode": {
        "name": "ipython",
        "version": 3
      },
      "file_extension": ".py",
      "mimetype": "text/x-python",
      "name": "python",
      "nbconvert_exporter": "python",
      "pygments_lexer": "ipython3",
      "version": "3.5.2"
    }
  },
  "nbformat": 4,
  "nbformat_minor": 0
}