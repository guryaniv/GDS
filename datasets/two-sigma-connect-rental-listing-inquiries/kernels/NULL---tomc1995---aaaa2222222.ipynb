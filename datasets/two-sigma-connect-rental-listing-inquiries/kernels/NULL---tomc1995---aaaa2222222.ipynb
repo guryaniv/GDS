{
  "cells": [
    {
      "cell_type": "code",
      "execution_count": null,
      "metadata": {
        "_cell_guid": "7730bbcc-9233-a660-8166-969a42e654c5"
      },
      "outputs": [],
      "source": [
        "import numpy as np # linear algebra\n",
        "import pandas as pd # data processing, CSV file I/O (e.g. pd.read_csv)\n",
        "import matplotlib.pyplot as plt\n",
        "from statsmodels.formula.api import ols\n",
        "# Input data files are available in the \"../input/\" directory.\n",
        "# For example, running this (by clicking run or pressing Shift+Enter) will list the files in the input directory\n",
        "\n",
        "from subprocess import check_output\n",
        "print(check_output([\"ls\", \"../input\"]).decode(\"utf8\"))\n",
        "\n",
        "df = pd.read_json('../input/train.json')\n",
        "\n",
        "for a in df[\"bedrooms\"]:\n",
        "    if a == 0:\n",
        "        df['Studio']=1\n",
        "    else: \n",
        "        df['Studio']=0\n",
        "   \n",
        "df['size'] = (6*6*df[\"bathrooms\"] + 9*9*df[\"bedrooms\"] + 50 + 80 + 50).astype(int)\n",
        "\n",
        "df[\"size\"] = df[\"size\"].astype(int)\n",
        "\t\t\n",
        "df['price_size'] = (df[\"price\"]) / (df[\"size\"])\n",
        "\n",
        "df[\"num_photos\"] = (df[\"photos\"].apply(len)).astype(int)\n",
        "\n",
        "df[\"num_photos\"] = df[\"num_photos\"].astype(int)\n",
        "\n",
        "x1= df[\"bathrooms\"]\n",
        "x2=df[\"bedrooms\"]\n",
        "x3=df[\"num_photos\"]\n",
        "x4=df['price_size']\n",
        "y= df[\"price\"]\n",
        "\n",
        "yhat=-2646.6911 + 1083.3994*x1 + 810.3251*x2 -15.2368*x3 +365.407*x4\n",
        "\n",
        "deltay= y - yhat\n",
        "deltay = np.random.normal(size = 49000)\n",
        "plt.hist(deltay, normed=True, bins=100)"
      ]
    },
    {
      "cell_type": "code",
      "execution_count": null,
      "metadata": {
        "_cell_guid": "7d4c7cc3-0088-501b-7955-2a2e531dba3b"
      },
      "outputs": [],
      "source": [
        ""
      ]
    }
  ],
  "metadata": {
    "_change_revision": 0,
    "_is_fork": false,
    "kernelspec": {
      "display_name": "Python 3",
      "language": "python",
      "name": "python3"
    },
    "language_info": {
      "codemirror_mode": {
        "name": "ipython",
        "version": 3
      },
      "file_extension": ".py",
      "mimetype": "text/x-python",
      "name": "python",
      "nbconvert_exporter": "python",
      "pygments_lexer": "ipython3",
      "version": "3.6.0"
    }
  },
  "nbformat": 4,
  "nbformat_minor": 0
}