{
  "cells": [
    {
      "cell_type": "markdown",
      "metadata": {
        "_cell_guid": "83ab7326-fcd8-1a3f-c9e2-2a0fc81842ba"
      },
      "source": [
        "**Analysis on house prices using Linear Regression.**"
      ]
    },
    {
      "cell_type": "code",
      "execution_count": null,
      "metadata": {
        "_cell_guid": "aee4d14c-084f-c23a-fbc7-836a4d0d08ac"
      },
      "outputs": [],
      "source": [
        "# This Python 3 environment comes with many helpful analytics libraries installed\n",
        "# It is defined by the kaggle/python docker image: https://github.com/kaggle/docker-python\n",
        "# For example, here's several helpful packages to load in \n",
        "\n",
        "import numpy as np # linear algebra\n",
        "import pandas as pd # data processing, CSV file I/O (e.g. pd.read_csv)\n",
        "\n",
        "# Input data files are available in the \"../input/\" directory.\n",
        "# For example, running this (by clicking run or pressing Shift+Enter) will list the files in the input directory\n",
        "\n",
        "from subprocess import check_output\n",
        "print(check_output([\"ls\", \"../input\"]).decode(\"utf8\"))\n",
        "\n",
        "# Any results you write to the current directory are saved as output."
      ]
    },
    {
      "cell_type": "code",
      "execution_count": null,
      "metadata": {
        "_cell_guid": "d3872779-6f67-e650-3bb5-ef3c02840e09"
      },
      "outputs": [],
      "source": [
        "import pandas as pd\n",
        "import numpy as np\n",
        "import matplotlib.pyplot as plt\n",
        "import seaborn as sns\n",
        "%matplotlib inline"
      ]
    },
    {
      "cell_type": "code",
      "execution_count": null,
      "metadata": {
        "_cell_guid": "2aeb5f1c-4fa7-367f-2c48-b21678aabe0b"
      },
      "outputs": [],
      "source": [
        "df=pd.read_csv(\"../input/kc_house_data.csv\")\n",
        "df.head()"
      ]
    },
    {
      "cell_type": "code",
      "execution_count": null,
      "metadata": {
        "_cell_guid": "0cb53c81-c6d6-6850-7e8d-3d8caa011161"
      },
      "outputs": [],
      "source": [
        "sns.distplot(df[\"price\"])\n",
        "plt.show()"
      ]
    },
    {
      "cell_type": "code",
      "execution_count": null,
      "metadata": {
        "_cell_guid": "711489e2-aff5-09c1-d1f7-00c6f9c6a1b0"
      },
      "outputs": [],
      "source": [
        "sns.countplot(x=\"bedrooms\",data=df)\n",
        "#lots of 3 bedroom houses"
      ]
    },
    {
      "cell_type": "code",
      "execution_count": null,
      "metadata": {
        "_cell_guid": "59a051df-6946-438e-d2fa-ab5109bcea1e"
      },
      "outputs": [],
      "source": [
        "df.head()\n"
      ]
    },
    {
      "cell_type": "code",
      "execution_count": null,
      "metadata": {
        "_cell_guid": "8b64b7ca-7a1a-08d9-7ef3-2434febfa23b"
      },
      "outputs": [],
      "source": [
        "from sklearn.linear_model import LinearRegression\n",
        "from sklearn.cross_validation import train_test_split"
      ]
    },
    {
      "cell_type": "code",
      "execution_count": null,
      "metadata": {
        "_cell_guid": "1c271c26-4950-f74c-73cf-774b12160fc6"
      },
      "outputs": [],
      "source": [
        "y=df[[\"price\"]]\n",
        "x=df[[\"bedrooms\",\"bathrooms\",\"sqft_living\",\"sqft_lot\",\"floors\",\"waterfront\"]]"
      ]
    },
    {
      "cell_type": "code",
      "execution_count": null,
      "metadata": {
        "_cell_guid": "6f516bcd-ab4f-1d89-230f-1ccdc40c05ca"
      },
      "outputs": [],
      "source": [
        "x_train,x_test,y_train,y_test=train_test_split(x,y,test_size=0.1)"
      ]
    },
    {
      "cell_type": "code",
      "execution_count": null,
      "metadata": {
        "_cell_guid": "da25440c-7dad-6f73-6ba8-b6b3e797e4ee"
      },
      "outputs": [],
      "source": [
        "lm=LinearRegression()"
      ]
    },
    {
      "cell_type": "code",
      "execution_count": null,
      "metadata": {
        "_cell_guid": "92998fbc-38f5-5d4c-8eb0-294643d67c18"
      },
      "outputs": [],
      "source": [
        "lm.fit(x_train,y_train)"
      ]
    },
    {
      "cell_type": "code",
      "execution_count": null,
      "metadata": {
        "_cell_guid": "40e61183-c295-11d2-41d4-fec83482bd43"
      },
      "outputs": [],
      "source": [
        "pre=lm.predict(x_test)\n",
        "print(pre)"
      ]
    },
    {
      "cell_type": "code",
      "execution_count": null,
      "metadata": {
        "_cell_guid": "e4f3575b-682e-212b-a14e-03e18c937930"
      },
      "outputs": [],
      "source": [
        "from sklearn.metrics import explained_variance_score"
      ]
    },
    {
      "cell_type": "code",
      "execution_count": null,
      "metadata": {
        "_cell_guid": "47aea511-a579-4471-9c7b-13e574c6632f"
      },
      "outputs": [],
      "source": [
        "y=df[[\"price\"]]\n",
        "x=df[['price', 'bedrooms', 'bathrooms', 'sqft_living', 'sqft_lot', 'floors', 'waterfront', 'view', 'condition', 'grade', 'sqft_above', 'sqft_basement', 'yr_renovated', 'long', 'sqft_living15', 'sqft_lot15']]\n",
        "#df.columns"
      ]
    },
    {
      "cell_type": "code",
      "execution_count": null,
      "metadata": {
        "_cell_guid": "0fbf2295-ac3d-5bdf-a0dd-931b1ce91b90"
      },
      "outputs": [],
      "source": [
        "from sklearn.linear_model import LinearRegression\n",
        "lm=LinearRegression()\n",
        "from sklearn.cross_validation import train_test_split\n",
        "x_train,x_test,y_train,y_test=train_test_split(x,y,test_size=0.9)\n",
        "lm.fit(x_train,y_train)\n",
        "pre=lm.predict(x_test)\n",
        "print(pre)\n",
        "plt.scatter(y_test,pre)\n",
        "plt.show()\n"
      ]
    },
    {
      "cell_type": "code",
      "execution_count": null,
      "metadata": {
        "_cell_guid": "2e7a97c8-20be-3e96-5fd8-6a0db78933c6"
      },
      "outputs": [],
      "source": [
        "from sklearn.metrics import r2_score as eps\n",
        "print(eps(y_test,pre))\n",
        "print(lm.coef_)"
      ]
    }
  ],
  "metadata": {
    "_change_revision": 0,
    "_is_fork": false,
    "kernelspec": {
      "display_name": "Python 3",
      "language": "python",
      "name": "python3"
    },
    "language_info": {
      "codemirror_mode": {
        "name": "ipython",
        "version": 3
      },
      "file_extension": ".py",
      "mimetype": "text/x-python",
      "name": "python",
      "nbconvert_exporter": "python",
      "pygments_lexer": "ipython3",
      "version": "3.6.0"
    }
  },
  "nbformat": 4,
  "nbformat_minor": 0
}