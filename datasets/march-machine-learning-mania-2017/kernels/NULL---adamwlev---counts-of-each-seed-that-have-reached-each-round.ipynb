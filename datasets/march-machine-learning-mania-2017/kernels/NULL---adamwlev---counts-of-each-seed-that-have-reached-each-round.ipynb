{
  "cells": [
    {
      "cell_type": "code",
      "execution_count": null,
      "metadata": {
        "_cell_guid": "a704f7e6-6443-ddd5-dad9-49d48f3dec75"
      },
      "outputs": [],
      "source": [
        "import numpy as np\n",
        "import pandas as pd\n",
        "import itertools\n",
        "from collections import Counter\n",
        "import matplotlib.pyplot as plt\n",
        "%matplotlib inline"
      ]
    },
    {
      "cell_type": "code",
      "execution_count": null,
      "metadata": {
        "_cell_guid": "a503e685-a8cf-c119-0fdb-35cffbfa5641"
      },
      "outputs": [],
      "source": [
        "tournies = pd.read_csv('../input/TourneyCompactResults.csv')"
      ]
    },
    {
      "cell_type": "code",
      "execution_count": null,
      "metadata": {
        "_cell_guid": "3a273fde-20ac-52b9-e365-97fab97bdb52"
      },
      "outputs": [],
      "source": [
        "## read in seeds data, put seeds as columns in tournies frame\n",
        "seeds = pd.read_csv('../input/TourneySeeds.csv')\n",
        "seeds['Season/Team'] = [(seas,team) for seas,team in zip(seeds.Season,seeds.Team)]\n",
        "seeds = seeds.set_index('Season/Team').drop(['Season','Team'],axis=1).squeeze().to_dict()\n",
        "tournies['Wteam_seed'] = [seeds[(year,team)] for year,team in zip(tournies.Season,tournies.Wteam)]\n",
        "tournies['Lteam_seed'] = [seeds[(year,team)] for year,team in zip(tournies.Season,tournies.Lteam)]"
      ]
    },
    {
      "cell_type": "code",
      "execution_count": null,
      "metadata": {
        "_cell_guid": "e5b19c79-741f-4537-f850-c42ef531e3be"
      },
      "outputs": [],
      "source": [
        "first_round = set([(1,16),(2,15),(3,14),(4,13),\n",
        "                   (5,12),(6,11),(7,10),(8,9)])\n",
        "third_round = set([tuple(sorted(tup)) \n",
        "                   for tup in itertools.product([1,8,9,16],[4,5,12,13])]) \\\n",
        "              .union(set([tuple(sorted(tup)) \n",
        "                          for tup in itertools.product([2,15,7,10],\n",
        "                                                       [3,6,11,14])]))\n",
        "fourth_round = set([tuple(sorted(tup)) \n",
        "                    for tup in itertools.product([1,4,5,8,9,12,13,16],\n",
        "                                                 [2,3,6,7,10,11,14,15])])\n",
        "\n",
        "def get_round_from_seeds(seed1,seed2):\n",
        "    if len(seed1)==len(seed2)==4:\n",
        "        return 0\n",
        "    seed1,seed2 = sorted([seed1,seed2])\n",
        "    bracket1,seed1 = seed1[0],int(seed1[1:3])\n",
        "    bracket2,seed2 = seed2[0],int(seed2[1:3])\n",
        "    if bracket1 in 'WX' and bracket2 in 'YZ':\n",
        "        return 6\n",
        "    if bracket1!=bracket2:\n",
        "        return 5\n",
        "    seed1,seed2 = sorted([seed1,seed2])\n",
        "    if (seed1,seed2) in first_round:\n",
        "        return 1\n",
        "    if (seed1,seed2) in third_round:\n",
        "        return 3\n",
        "    if (seed1,seed2) in fourth_round:\n",
        "        return 4\n",
        "    return 2"
      ]
    },
    {
      "cell_type": "code",
      "execution_count": null,
      "metadata": {
        "_cell_guid": "1d1926f5-f018-9331-7ba5-e523ec68752f"
      },
      "outputs": [],
      "source": [
        "## put round and seed numbers in\n",
        "tournies['Round'] = tournies[['Wteam_seed','Lteam_seed']]\\\n",
        ".apply(lambda x: get_round_from_seeds(x.iloc[0],x.iloc[1]),axis=1)\n",
        "tournies['Wteam_seed_num'] = [int(seed[1:3]) for seed in tournies.Wteam_seed]\n",
        "tournies['Lteam_seed_num'] = [int(seed[1:3]) for seed in tournies.Lteam_seed]"
      ]
    },
    {
      "cell_type": "code",
      "execution_count": null,
      "metadata": {
        "_cell_guid": "cc0be323-18d1-877a-d78d-1df0e66b4b19"
      },
      "outputs": [],
      "source": [
        "for round_,df in tournies.groupby('Round'):\n",
        "    seeds = Counter(np.concatenate([df.Wteam_seed_num.values,df.Lteam_seed_num.values]))\n",
        "    fig,ax = plt.subplots(1,1,figsize=(12,5))\n",
        "    plt.bar(range(1,17),[seeds[seed] if seed in seeds else 0 for seed in range(1,17)])\n",
        "    plt.title(round_)\n",
        "    plt.xticks(range(1,17),range(1,17))\n",
        "    plt.show()"
      ]
    }
  ],
  "metadata": {
    "_change_revision": 0,
    "_is_fork": false,
    "kernelspec": {
      "display_name": "Python 3",
      "language": "python",
      "name": "python3"
    },
    "language_info": {
      "codemirror_mode": {
        "name": "ipython",
        "version": 3
      },
      "file_extension": ".py",
      "mimetype": "text/x-python",
      "name": "python",
      "nbconvert_exporter": "python",
      "pygments_lexer": "ipython3",
      "version": "3.6.0"
    }
  },
  "nbformat": 4,
  "nbformat_minor": 0
}