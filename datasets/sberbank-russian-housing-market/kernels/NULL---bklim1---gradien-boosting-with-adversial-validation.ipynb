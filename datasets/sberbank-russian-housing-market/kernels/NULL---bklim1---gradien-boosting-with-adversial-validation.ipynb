{
  "cells": [
    {
      "cell_type": "markdown",
      "metadata": {
        "_cell_guid": "f0fb78d0-90e7-7e4b-0491-6b4df2c7db20"
      },
      "source": [
        "# Unfinished, without commentary"
      ]
    },
    {
      "cell_type": "code",
      "execution_count": null,
      "metadata": {
        "_cell_guid": "8fa52119-757c-3f94-d397-5593106dd124"
      },
      "outputs": [],
      "source": [
        "%matplotlib inline\n",
        "import numpy as np\n",
        "import pandas as pd\n",
        "import matplotlib.pyplot as plt\n",
        "import seaborn as sns\n",
        "from xgboost import XGBRegressor\n",
        "from sklearn import preprocessing\n",
        "from sklearn.model_selection import train_test_split\n",
        "from sklearn.metrics import  mean_squared_error, roc_auc_score\n",
        "from sklearn.ensemble import GradientBoostingRegressor,GradientBoostingClassifier\n",
        "\n",
        "color = sns.color_palette()"
      ]
    },
    {
      "cell_type": "code",
      "execution_count": null,
      "metadata": {
        "_cell_guid": "d4e87a47-eaa0-2061-1064-2c2fd2bcd8c4"
      },
      "outputs": [],
      "source": [
        "train_df = pd.read_csv(\"../input/train.csv\")\n",
        "test_df = pd.read_csv('../input/test.csv')\n",
        "id_test = test_df.id\n",
        "\n",
        "print('Train df shape:',train_df.shape)\n",
        "print('Test df shape:',test_df.shape)"
      ]
    },
    {
      "cell_type": "code",
      "execution_count": null,
      "metadata": {
        "_cell_guid": "13313627-6370-6fe8-2b72-3fb4c16bf278"
      },
      "outputs": [],
      "source": [
        "dtype_df = train_df.dtypes.reset_index()\n",
        "dtype_df.columns = [\"Count\", \"Column Type\"]\n",
        "dtype_df.groupby(\"Column Type\").aggregate('count').reset_index()"
      ]
    },
    {
      "cell_type": "code",
      "execution_count": null,
      "metadata": {
        "_cell_guid": "8ff0b167-d981-8f7c-076f-d57964faaf64"
      },
      "outputs": [],
      "source": [
        "train_df.describe().round(1)"
      ]
    },
    {
      "cell_type": "code",
      "execution_count": null,
      "metadata": {
        "_cell_guid": "661ac6fa-dd80-4257-ea37-03ac7a64d138"
      },
      "outputs": [],
      "source": [
        "test_df.describe().round(1)"
      ]
    },
    {
      "cell_type": "markdown",
      "metadata": {
        "_cell_guid": "e85cd467-08dd-f736-fdca-5c817bf42fd3"
      },
      "source": [
        "## Data quality"
      ]
    },
    {
      "cell_type": "code",
      "execution_count": null,
      "metadata": {
        "_cell_guid": "8fdf5ffa-0e51-23b5-a685-db8176df6e8c"
      },
      "outputs": [],
      "source": [
        "print(train_df.loc[train_df['build_year'] == 20052009].id)\n",
        "print(train_df.loc[train_df['state'] == 33].id)"
      ]
    },
    {
      "cell_type": "code",
      "execution_count": null,
      "metadata": {
        "_cell_guid": "38e010dc-4260-a46a-64ad-f67bf2c04bcd"
      },
      "outputs": [],
      "source": ""
    },
    {
      "cell_type": "markdown",
      "metadata": {
        "_cell_guid": "1c75daa2-ddc8-efa6-e3d5-ff3922e40f73"
      },
      "source": [
        "# Target variable exploration"
      ]
    },
    {
      "cell_type": "code",
      "execution_count": null,
      "metadata": {
        "_cell_guid": "5d146054-5368-00d2-7b43-bcf3fd7f60bd"
      },
      "outputs": [],
      "source": [
        "train_df.loc[train_df['id'] == 10092, 'build_year'] = 2007\n",
        "train_df.loc[train_df['id'] == 10092, 'state'] = 3\n",
        "train_df.loc[train_df['id'] == 10093, 'build_year'] = 2009"
      ]
    },
    {
      "cell_type": "code",
      "execution_count": null,
      "metadata": {
        "_cell_guid": "344acb25-e42f-9871-0c82-f49ebf6390bc"
      },
      "outputs": [],
      "source": [
        "sns.distplot(train_df.price_doc.values, kde=None)\n",
        "plt.xlabel('price')"
      ]
    },
    {
      "cell_type": "code",
      "execution_count": null,
      "metadata": {
        "_cell_guid": "e7fcbf8f-207a-f9da-893c-a2712a44850a"
      },
      "outputs": [],
      "source": [
        "ulimit = np.percentile(train_df.price_doc.values, 99)\n",
        "llimit = np.percentile(train_df.price_doc.values, 1)\n",
        "train_df['price_doc'].ix[train_df['price_doc']>ulimit] = ulimit\n",
        "train_df['price_doc'].ix[train_df['price_doc']<llimit] = llimit"
      ]
    },
    {
      "cell_type": "code",
      "execution_count": null,
      "metadata": {
        "_cell_guid": "4db48c8a-f9dc-e800-d7dd-3a493c632984"
      },
      "outputs": [],
      "source": [
        "sns.distplot(np.log(train_df.price_doc.values), kde=None)\n",
        "plt.xlabel('price')\n",
        "\n",
        "train_df['price_doc_log'] = np.log1p(train_df['price_doc'])"
      ]
    },
    {
      "cell_type": "code",
      "execution_count": null,
      "metadata": {
        "_cell_guid": "aeed5068-001f-eb07-2d13-57fa8ba78c35"
      },
      "outputs": [],
      "source": [
        "train_df['yearmonth'] = train_df['timestamp'].apply(lambda x: x[:4]+x[5:7])\n",
        "grouped_df = train_df.groupby('yearmonth')['price_doc'].aggregate(np.median).reset_index()\n",
        "\n",
        "sns.barplot(grouped_df.yearmonth.values, grouped_df.price_doc.values,color=color[0])\n",
        "plt.ylabel('Median Price')\n",
        "plt.xlabel('Year Month')\n",
        "plt.xticks(rotation='vertical')"
      ]
    },
    {
      "cell_type": "code",
      "execution_count": null,
      "metadata": {
        "_cell_guid": "a73d660b-0ace-29ca-65ce-52d19091c4bd"
      },
      "outputs": [],
      "source": [
        "corrmat = train_df.corr()\n",
        "sns.heatmap(corrmat, vmax=.8, square=True,xticklabels=False,yticklabels=False,cbar=False,annot=False);"
      ]
    },
    {
      "cell_type": "markdown",
      "metadata": {
        "_cell_guid": "0860af19-3f62-331e-2037-e3295e84813e"
      },
      "source": [
        "###Handling missing variables"
      ]
    },
    {
      "cell_type": "code",
      "execution_count": null,
      "metadata": {
        "_cell_guid": "69b7f59b-79fc-9235-f612-bce3da6c3737"
      },
      "outputs": [],
      "source": [
        "train_na = (train_df.isnull().sum() / len(train_df)) * 100\n",
        "train_na = train_na.drop(train_na[train_na == 0].index).sort_values(ascending=False)\n",
        "sns.barplot(y=train_na.index, x=train_na,color=color[0])\n",
        "plt.xlabel('% missing')"
      ]
    },
    {
      "cell_type": "code",
      "execution_count": null,
      "metadata": {
        "_cell_guid": "a0633393-c8a9-d8b5-9a89-92ef3826389a"
      },
      "outputs": [],
      "source": [
        "kitch_ratio = train_df['full_sq']/train_df['kitch_sq']\n",
        "train_df['kitch_sq']=train_df['kitch_sq'].fillna(train_df['full_sq'] /kitch_ratio.median())\n",
        "\n",
        "lifesq_ratio = train_df['full_sq']/train_df['life_sq']\n",
        "train_df['life_sq']=train_df['life_sq'].fillna(train_df['full_sq'] /lifesq_ratio.median())\n",
        "\n",
        "train_df[\"extra_sq\"] = train_df[\"full_sq\"] - train_df[\"life_sq\"]\n",
        "test_df[\"extra_sq\"] = test_df[\"full_sq\"] - test_df[\"life_sq\"]\n",
        "\n",
        "train_df=train_df.fillna(train_df.median())\n",
        "test_df=test_df.fillna(test_df.median())"
      ]
    },
    {
      "cell_type": "code",
      "execution_count": null,
      "metadata": {
        "_cell_guid": "84b7f3c2-a20c-b0e5-fa55-967fd88e0733"
      },
      "outputs": [],
      "source": [
        "for f in train_df.columns:\n",
        "    if train_df[f].dtype=='object':\n",
        "        lbl = preprocessing.LabelEncoder()\n",
        "        lbl.fit(list(train_df[f].values)) \n",
        "        train_df[f] = lbl.transform(list(train_df[f].values))\n",
        "        \n",
        "for c in test_df.columns:\n",
        "    if test_df[c].dtype == 'object':\n",
        "        lbl = preprocessing.LabelEncoder()\n",
        "        lbl.fit(list(test_df[c].values)) \n",
        "        test_df[c] = lbl.transform(list(test_df[c].values))\n",
        "        #x_test.drop(c,axis=1,inplace=True)"
      ]
    },
    {
      "cell_type": "markdown",
      "metadata": {
        "_cell_guid": "57fd53c4-04c9-da81-7255-a60a26eed0bc"
      },
      "source": [
        "# Adversial validation"
      ]
    },
    {
      "cell_type": "code",
      "execution_count": null,
      "metadata": {
        "_cell_guid": "8dbcbd38-299c-aad5-cae4-07f81fa46c5c"
      },
      "outputs": [],
      "source": [
        "train_dfadv = train_df.drop([\"timestamp\",\"price_doc\",\"price_doc_log\",\"yearmonth\"],axis=1)\n",
        "test_dfadv = test_df\n",
        "train_dfadv['istrain'] = 1\n",
        "test_dfadv['istrain'] = 0\n",
        "whole_df = pd.concat([train_dfadv, test_dfadv], axis = 0)\n",
        "whole_df = whole_df.fillna(whole_df.median())\n",
        "valY = whole_df['istrain'].values\n",
        "valX = whole_df.drop(['istrain',\"id\", \"timestamp\"],axis=1).values\n",
        "\n",
        "X_vtrain, X_vtest, y_vtrain, y_vtest = train_test_split(valX, valY, test_size=0.20)\n",
        "\n",
        "GBclf= GradientBoostingClassifier()"
      ]
    },
    {
      "cell_type": "code",
      "execution_count": null,
      "metadata": {
        "_cell_guid": "a6284cd0-5d60-6ddf-a0ef-40bce5770eec"
      },
      "outputs": [],
      "source": [
        "GBclf.fit(X_vtrain,y_vtrain)"
      ]
    },
    {
      "cell_type": "code",
      "execution_count": null,
      "metadata": {
        "_cell_guid": "92f69f04-5806-309f-0e27-aff9733e9c0c"
      },
      "outputs": [],
      "source": [
        "vpred_y = GBclf.predict(X_vtest)\n",
        "roc_auc_score(vpred_y,y_vtest)"
      ]
    },
    {
      "cell_type": "code",
      "execution_count": null,
      "metadata": {
        "_cell_guid": "59bab68b-b438-7669-fc6b-d0ebe44870be"
      },
      "outputs": [],
      "source": [
        "X=train_df.drop([\"id\", \"timestamp\", \"price_doc\",\"price_doc_log\",\"yearmonth\"], axis=1)\n",
        "y=train_df.price_doc_log.values"
      ]
    },
    {
      "cell_type": "code",
      "execution_count": null,
      "metadata": {
        "_cell_guid": "2d555ab4-5624-f6b4-1728-a6cfd71f5289"
      },
      "outputs": [],
      "source": [
        "val_prob = GBclf.predict_proba(X)\n",
        "adversarial_set = train_df\n",
        "adversarial_set['prob'] = val_prob.T[1]\n",
        "\n",
        "adversarial_set=adversarial_set.drop([\"id\", \"timestamp\", \"price_doc\",\"yearmonth\"], axis=1)\n",
        "\n",
        "adversarial_set_length =int(adversarial_set.shape[0]*0.20)\n",
        "adversarial_set = adversarial_set.sort_values(by='prob')\n",
        "validation_set = adversarial_set[:adversarial_set_length]   #odwr\u00f3cona walidacja !!!!\n",
        "train_set = adversarial_set[adversarial_set_length:]\n",
        "\n",
        "trainY  =train_set['price_doc_log'].values\n",
        "trainX = train_set.drop(['price_doc_log','prob'],axis=1).values\n",
        "\n",
        "validationY  =validation_set['price_doc_log'].values\n",
        "validationX = validation_set.drop(['price_doc_log','prob'],axis=1).values"
      ]
    },
    {
      "cell_type": "code",
      "execution_count": null,
      "metadata": {
        "_cell_guid": "ad17b7f4-6465-7a54-c408-29c65aa2f79a"
      },
      "outputs": [],
      "source": [
        "GBmodel = GradientBoostingRegressor().fit(trainX,trainY)\n",
        "print(mean_squared_error(GBmodel.predict(validationX),validationY))"
      ]
    },
    {
      "cell_type": "markdown",
      "metadata": {
        "_cell_guid": "535af789-fcf5-bc8e-3f47-68a3c15ccd09"
      },
      "source": [
        "Features importance"
      ]
    },
    {
      "cell_type": "code",
      "execution_count": null,
      "metadata": {
        "_cell_guid": "695ae33c-0f3f-9a2f-9df5-8bcadc94c395"
      },
      "outputs": [],
      "source": [
        "importances = GBmodel.feature_importances_\n",
        "importances_by_trees=[tree[0].feature_importances_ for tree in GBmodel.estimators_]\n",
        "std = np.std(importances_by_trees,axis=0)\n",
        "indices = np.argsort(importances)[::-1]\n",
        "\n",
        "\n",
        "sns.barplot(importances[indices][:50],X.columns[indices[:50]].values)\n",
        "plt.title(\"Feature importances\")"
      ]
    },
    {
      "cell_type": "markdown",
      "metadata": {
        "_cell_guid": "5faef42c-40c7-1034-9971-74772ca63028"
      },
      "source": [
        "Prediction"
      ]
    },
    {
      "cell_type": "code",
      "execution_count": null,
      "metadata": {
        "_cell_guid": "787bde3a-8f07-4b29-812b-c684a9ea8e0b"
      },
      "outputs": [],
      "source": [
        "test_X = test_df.drop([\"id\", \"timestamp\",'istrain'],axis=1).values\n",
        "y_predict = GBmodel.predict(test_X)\n",
        "output = pd.DataFrame({'id': id_test, 'price_doc': y_predict})"
      ]
    }
  ],
  "metadata": {
    "_change_revision": 0,
    "_is_fork": false,
    "kernelspec": {
      "display_name": "Python 3",
      "language": "python",
      "name": "python3"
    },
    "language_info": {
      "codemirror_mode": {
        "name": "ipython",
        "version": 3
      },
      "file_extension": ".py",
      "mimetype": "text/x-python",
      "name": "python",
      "nbconvert_exporter": "python",
      "pygments_lexer": "ipython3",
      "version": "3.6.0"
    }
  },
  "nbformat": 4,
  "nbformat_minor": 0
}