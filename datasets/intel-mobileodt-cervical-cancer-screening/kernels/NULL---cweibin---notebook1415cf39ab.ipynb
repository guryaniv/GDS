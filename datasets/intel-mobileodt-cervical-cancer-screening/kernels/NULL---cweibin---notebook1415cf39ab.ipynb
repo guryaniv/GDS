{
  "cells": [
    {
      "cell_type": "code",
      "execution_count": null,
      "metadata": {
        "_cell_guid": "59f1e631-9d2d-a0f0-df2e-0c3375097a2e"
      },
      "outputs": [],
      "source": [
        "# This Python 3 environment comes with many helpful analytics libraries installed\n",
        "# It is defined by the kaggle/python docker image: https://github.com/kaggle/docker-python\n",
        "# For example, here's several helpful packages to load in \n",
        "\n",
        "import numpy as np # linear algebra\n",
        "import pandas as pd # data processing, CSV file I/O (e.g. pd.read_csv)\n",
        "\n",
        "# Input data files are available in the \"../input/\" directory.\n",
        "# For example, running this (by clicking run or pressing Shift+Enter) will list the files in the input directory\n",
        "\n",
        "from subprocess import check_output\n",
        "print(check_output([\"ls\", \"../input\"]).decode(\"utf8\"))\n",
        "\n",
        "# Any results you write to the current directory are saved as output."
      ]
    },
    {
      "cell_type": "code",
      "execution_count": null,
      "metadata": {
        "_cell_guid": "328d2310-d93a-6380-e1aa-cda04bd02ee7"
      },
      "outputs": [],
      "source": [
        "import platform\n",
        "import os\n",
        "\n",
        "if 'c001' in platform.node(): \n",
        "    # platform.node() => 'c001' or like 'c001-n030' on Colfax\n",
        "    abspath_dataset_dir_train_1 = '/data/kaggle/train/Type_1'\n",
        "    abspath_dataset_dir_train_2 = '/data/kaggle/train/Type_2'\n",
        "    abspath_dataset_dir_train_3 = '/data/kaggle/train/Type_3'\n",
        "    abspath_dataset_dir_test    = '/data/kaggle/test/'\n",
        "    abspath_dataset_dir_add_1   = '/data/kaggle/additional/Type_1'\n",
        "    abspath_dataset_dir_add_2   = '/data/kaggle/additional/Type_2'\n",
        "    abspath_dataset_dir_add_3   = '/data/kaggle/additional/Type_3'\n",
        "elif '.local' in platform.node():\n",
        "    # platform.node() => '*.local' on my local MacBook Air\n",
        "    abspath_dataset_dir_train_1 = '/abspath/to/train/Type_1'\n",
        "    abspath_dataset_dir_train_2 = '/abspath/to/train/Type_2'\n",
        "    abspath_dataset_dir_train_3 = '/abspath/to/train/Type_3'\n",
        "    abspath_dataset_dir_test    = '/abspath/to/test/'\n",
        "    abspath_dataset_dir_add_1   = '/abspath/to/additional/Type_1'\n",
        "    abspath_dataset_dir_add_2   = '/abspath/to/additional/Type_2'\n",
        "    abspath_dataset_dir_add_3   = '/abspath/to/additional/Type_3'\n",
        "else:\n",
        "    # For kaggle's kernels environment (docker container?)\n",
        "    abspath_dataset_dir_train_1 = '/kaggle/input/train/Type_1'\n",
        "    abspath_dataset_dir_train_2 = '/kaggle/input/train/Type_2'\n",
        "    abspath_dataset_dir_train_3 = '/kaggle/input/train/Type_3'\n",
        "    abspath_dataset_dir_test    = '/kaggle/input/test/'\n",
        "    abspath_dataset_dir_add_1   = '/kaggle/input/additional/Type_1'\n",
        "    abspath_dataset_dir_add_2   = '/kaggle/input/additional/Type_2'\n",
        "    abspath_dataset_dir_add_3   = '/kaggle/input/additional/Type_3'\n",
        "\n",
        "    \n",
        "def get_list_abspath_img(abspath_dataset_dir):\n",
        "    list_abspath_img = []\n",
        "    for str_name_file_or_dir in os.listdir(abspath_dataset_dir):\n",
        "        if ('.jpg' in str_name_file_or_dir) == True:\n",
        "            list_abspath_img.append(os.path.join(abspath_dataset_dir, str_name_file_or_dir))\n",
        "    list_abspath_img.sort()\n",
        "    return list_abspath_img\n",
        "\n",
        "\n",
        "list_abspath_img_train_1 = get_list_abspath_img(abspath_dataset_dir_train_1)\n",
        "list_abspath_img_train_2 = get_list_abspath_img(abspath_dataset_dir_train_2)\n",
        "list_abspath_img_train_3 = get_list_abspath_img(abspath_dataset_dir_train_3)\n",
        "list_abspath_img_train   = list_abspath_img_train_1 + list_abspath_img_train_2 + list_abspath_img_train_3\n",
        "\n",
        "list_abspath_img_test    = get_list_abspath_img(abspath_dataset_dir_test)\n",
        "\n",
        "list_abspath_img_add_1   = get_list_abspath_img(abspath_dataset_dir_add_1)\n",
        "list_abspath_img_add_2   = get_list_abspath_img(abspath_dataset_dir_add_2)\n",
        "list_abspath_img_add_3   = get_list_abspath_img(abspath_dataset_dir_add_3)\n",
        "list_abspath_img_add     = list_abspath_img_add_1   + list_abspath_img_add_2   + list_abspath_img_add_3\n",
        "\n",
        "# 0: Type_1, 1: Type_2, 2: Type_3\n",
        "list_answer_train        = [0] * len(list_abspath_img_train_1) + [1] * len(list_abspath_img_train_2) + [2] * len(list_abspath_img_train_3)\n",
        "list_answer_add          = [0] * len(list_abspath_img_add_1) + [1] * len(list_abspath_img_add_2) + [2] * len(list_abspath_img_add_3)"
      ]
    },
    {
      "cell_type": "code",
      "execution_count": null,
      "metadata": {
        "_cell_guid": "ed14d334-1113-5a81-a740-f84e22302b9c"
      },
      "outputs": [],
      "source": [
        "print(list_abspath_img_train_1[0:2])\n",
        "print(list_abspath_img_train_2[0:2])\n",
        "print(list_abspath_img_train_3[0:2])\n",
        "print(list_abspath_img_train[0:4])\n",
        "print(list_abspath_img_test[0:3])\n",
        "print(list_abspath_img_add_1[0:2])\n",
        "print(list_abspath_img_add_2[0:2])\n",
        "print(list_abspath_img_add_3[0:2])\n",
        "print(list_abspath_img_add[0:4])"
      ]
    },
    {
      "cell_type": "code",
      "execution_count": null,
      "metadata": {
        "_cell_guid": "609309c5-2164-dfb5-fdc6-4c403aebcd06"
      },
      "outputs": [],
      "source": [
        "import pandas\n",
        "\n",
        "\n",
        "pandas_columns = ['Number of image files']\n",
        "pandas_index   = ['train_1', 'train_2', 'train_3', 'train', 'test', 'add_1', 'add_2', 'add_3', 'add', 'train + add', 'total']\n",
        "pandas_data    = [len(list_abspath_img_train_1), len(list_abspath_img_train_2), len(list_abspath_img_train_3), len(list_abspath_img_train), len(list_abspath_img_test), len(list_abspath_img_add_1), len(list_abspath_img_add_2), len(list_abspath_img_add_3), len(list_abspath_img_add), len(list_abspath_img_train) + len(list_abspath_img_add), len(list_abspath_img_train) + len(list_abspath_img_test) + len(list_abspath_img_add)]\n",
        "\n",
        "pandas.DataFrame(pandas_data, index = pandas_index, columns = pandas_columns)"
      ]
    },
    {
      "cell_type": "code",
      "execution_count": null,
      "metadata": {
        "_cell_guid": "7632efc8-a8c3-57af-da0b-54f0f96ae33e"
      },
      "outputs": [],
      "source": [
        "pandas_columns = ['Type_1', 'Type_2', 'Type_3']\n",
        "pandas_index   = ['train', 'test', 'add']\n",
        "\n",
        "ratio_train    = [x / len(list_abspath_img_train) for x in [len(list_abspath_img_train_1), len(list_abspath_img_train_2), len(list_abspath_img_train_3)]]\n",
        "ratio_test     = ['?', '?', '?']\n",
        "ratio_add      = [x / len(list_abspath_img_add) for x in [len(list_abspath_img_add_1), len(list_abspath_img_add_2), len(list_abspath_img_add_3)]]\n",
        "\n",
        "pandas_data    = [ratio_train, ratio_test, ratio_add]\n",
        "\n",
        "pandas.DataFrame(pandas_data, index = pandas_index, columns = pandas_columns)"
      ]
    }
  ],
  "metadata": {
    "_change_revision": 0,
    "_is_fork": false,
    "kernelspec": {
      "display_name": "Python 3",
      "language": "python",
      "name": "python3"
    },
    "language_info": {
      "codemirror_mode": {
        "name": "ipython",
        "version": 3
      },
      "file_extension": ".py",
      "mimetype": "text/x-python",
      "name": "python",
      "nbconvert_exporter": "python",
      "pygments_lexer": "ipython3",
      "version": "3.6.0"
    }
  },
  "nbformat": 4,
  "nbformat_minor": 0
}