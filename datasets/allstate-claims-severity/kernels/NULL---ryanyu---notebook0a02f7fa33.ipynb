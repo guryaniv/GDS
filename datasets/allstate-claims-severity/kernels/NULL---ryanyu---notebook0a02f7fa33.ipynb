{
  "cells": [
    {
      "cell_type": "code",
      "execution_count": null,
      "metadata": {
        "_cell_guid": "044a1d16-21fa-67e3-fe6e-00da48c5bde0"
      },
      "outputs": [],
      "source": [
        "# This Python 3 environment comes with many helpful analytics libraries installed\n",
        "# It is defined by the kaggle/python docker image: https://github.com/kaggle/docker-python\n",
        "# For example, here's several helpful packages to load in \n",
        "\n",
        "import numpy as np # linear algebra\n",
        "import pandas as pd # data processing, CSV file I/O (e.g. pd.read_csv)\n",
        "\n",
        "# Input data files are available in the \"../input/\" directory.\n",
        "# For example, running this (by clicking run or pressing Shift+Enter) will list the files in the input directory\n",
        "\n",
        "from subprocess import check_output\n",
        "print(check_output([\"ls\", \"../input\"]).decode(\"utf8\"))\n",
        "\n",
        "# Any results you write to the current directory are saved as output."
      ]
    },
    {
      "cell_type": "code",
      "execution_count": null,
      "metadata": {
        "_cell_guid": "e397eaff-abb0-d4cd-43f7-002b611775b1"
      },
      "outputs": [],
      "source": [
        "import pandas as pd\n",
        "df = pd.read_csv(\"../input/train.csv\")\n",
        "colnames = df.columns.values.tolist()\n",
        "print (colnames)\n",
        "df.head(n=5)"
      ]
    },
    {
      "cell_type": "code",
      "execution_count": null,
      "metadata": {
        "_cell_guid": "9772b7c6-ee27-e8ea-1c69-0801908087f9"
      },
      "outputs": [],
      "source": [
        "print(colnames)"
      ]
    },
    {
      "cell_type": "code",
      "execution_count": null,
      "metadata": {
        "_cell_guid": "6f870975-7c59-5fbc-aa66-ce440937d583"
      },
      "outputs": [],
      "source": [
        "cat_var = [x for x in colnames if x[0:3] == 'cat' ]\n",
        "print(cat_var)"
      ]
    },
    {
      "cell_type": "code",
      "execution_count": null,
      "metadata": {
        "_cell_guid": "5c427227-7903-dd4d-b332-411a97200f21"
      },
      "outputs": [],
      "source": [
        "dummy_df = pd.get_dummies(df[cat_var], prefix = cat_var) \n",
        "dummy_df.head(n=5)"
      ]
    },
    {
      "cell_type": "code",
      "execution_count": null,
      "metadata": {
        "_cell_guid": "865a0a7d-06c8-d9d3-69d5-be86f2703999"
      },
      "outputs": [],
      "source": [
        "df_dev = pd.concat([df,dummy_df],axis = 1)\n",
        "df_dev.drop(cat_var,axis=1,inplace=True)\n",
        "df_dev.drop('id',axis=1,inplace=True)\n",
        "df_dev.head(n=4)\n",
        "dev_colnames = df_dev.columns.values.tolist()\n",
        "print(dev_colnames)"
      ]
    },
    {
      "cell_type": "code",
      "execution_count": null,
      "metadata": {
        "_cell_guid": "daa3c1ef-3280-21ae-17f8-655228027132"
      },
      "outputs": [],
      "source": [
        "import xgboost as xgb\n",
        "\n",
        "dtrain = xgb.DMatrix(df_dev, label=loss)"
      ]
    },
    {
      "cell_type": "code",
      "execution_count": null,
      "metadata": {
        "_cell_guid": "f1697917-a4a9-f680-60fa-3498e93c3f09"
      },
      "outputs": [],
      "source": ""
    }
  ],
  "metadata": {
    "_change_revision": 0,
    "_is_fork": false,
    "kernelspec": {
      "display_name": "Python 3",
      "language": "python",
      "name": "python3"
    },
    "language_info": {
      "codemirror_mode": {
        "name": "ipython",
        "version": 3
      },
      "file_extension": ".py",
      "mimetype": "text/x-python",
      "name": "python",
      "nbconvert_exporter": "python",
      "pygments_lexer": "ipython3",
      "version": "3.5.2"
    }
  },
  "nbformat": 4,
  "nbformat_minor": 0
}