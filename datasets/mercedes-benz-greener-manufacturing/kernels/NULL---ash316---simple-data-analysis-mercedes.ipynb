{
  "cells": [
    {
      "cell_type": "code",
      "execution_count": null,
      "metadata": {
        "_cell_guid": "9153ff5f-1b71-d99c-7c9b-c8d2351eaf0c"
      },
      "outputs": [],
      "source": [
        "# This Python 3 environment comes with many helpful analytics libraries installed\n",
        "# It is defined by the kaggle/python docker image: https://github.com/kaggle/docker-python\n",
        "# For example, here's several helpful packages to load in \n",
        "\n",
        "import numpy as np # linear algebra\n",
        "import pandas as pd # data processing, CSV file I/O (e.g. pd.read_csv)\n",
        "import matplotlib.pyplot as plt\n",
        "import seaborn as sns\n",
        "# Input data files are available in the \"../input/\" directory.\n",
        "# For example, running this (by clicking run or pressing Shift+Enter) will list the files in the input directory\n",
        "\n",
        "from subprocess import check_output\n",
        "print(check_output([\"ls\", \"../input\"]).decode(\"utf8\"))\n",
        "\n",
        "# Any results you write to the current directory are saved as output."
      ]
    },
    {
      "cell_type": "code",
      "execution_count": null,
      "metadata": {
        "_cell_guid": "b7550eaa-5b46-ed83-bb3f-597b1d8f207a"
      },
      "outputs": [],
      "source": [
        "train = pd.read_csv('../input/train.csv')"
      ]
    },
    {
      "cell_type": "code",
      "execution_count": null,
      "metadata": {
        "_cell_guid": "93a6b66a-05a1-5cee-dfe2-20cc7ed36b3a"
      },
      "outputs": [],
      "source": [
        "train.head(2)"
      ]
    },
    {
      "cell_type": "markdown",
      "metadata": {
        "_cell_guid": "f1eeb35f-966f-9cf9-b733-e8b7fc1c9dcb"
      },
      "source": [
        "### Checking The Dataset"
      ]
    },
    {
      "cell_type": "code",
      "execution_count": null,
      "metadata": {
        "_cell_guid": "81cca195-9fb4-d00a-a02a-0af170857886"
      },
      "outputs": [],
      "source": [
        "train.shape"
      ]
    },
    {
      "cell_type": "code",
      "execution_count": null,
      "metadata": {
        "_cell_guid": "dbcccb61-5a29-2d49-8f56-1cef7adb40d4"
      },
      "outputs": [],
      "source": [
        "train.isnull().any().value_counts()  #checking if there is any null values in the dataset"
      ]
    },
    {
      "cell_type": "markdown",
      "metadata": {
        "_cell_guid": "2467c0a0-946d-e826-06db-f689d6aeb5ec"
      },
      "source": [
        "The dataset is free from any inconsistency. So we will dive into some data analysis."
      ]
    },
    {
      "cell_type": "markdown",
      "metadata": {
        "_cell_guid": "e058cc13-3f8a-0cdf-934f-bec45a2aee4d"
      },
      "source": [
        "What this dataset requires is that we need to predict the value of y. Lets see the distribution of y"
      ]
    },
    {
      "cell_type": "code",
      "execution_count": null,
      "metadata": {
        "_cell_guid": "6cf716e6-4a00-d41a-4e39-89100ac03928"
      },
      "outputs": [],
      "source": [
        "train['y'].hist(bins=50)"
      ]
    },
    {
      "cell_type": "markdown",
      "metadata": {
        "_cell_guid": "5d25ef1c-1089-0f2d-b7f0-84b6dbd11670"
      },
      "source": [
        "I have set the bins to 50 so that we can have a better look at the histogram and detect any error or any outliers easily.Looking at the histogram, we can say that the majority of the values are hovering around 100."
      ]
    },
    {
      "cell_type": "markdown",
      "metadata": {
        "_cell_guid": "669295e5-b9e0-4a67-e650-69beedab2f09"
      },
      "source": [
        "Lets see how does the value of y change with the columns X0.....X8"
      ]
    },
    {
      "cell_type": "code",
      "execution_count": null,
      "metadata": {
        "_cell_guid": "4678b709-71ee-8b69-8772-85a25a7b2689"
      },
      "outputs": [],
      "source": [
        "col=['X0','X1','X2','X3','X4','X5','X6','X8']\n",
        "for i in col:\n",
        "    sns.boxplot(x=i,y='y',data=train)\n",
        "    plt.show()"
      ]
    },
    {
      "cell_type": "markdown",
      "metadata": {
        "_cell_guid": "4d2accd3-523a-33e2-10e6-1f451549bd93"
      },
      "source": [
        "These boxplots show all the values that are present in the columns X0...X8.. The maximum being at X0 and X2 and the minimum being at X4.\n",
        "\n",
        "The main thing I noticed is the presence of an **Outlier**. The outlier is lying somewhere between 270-275. We can say it to be an outlier as it is the only value to be above 250."
      ]
    },
    {
      "cell_type": "markdown",
      "metadata": {
        "_cell_guid": "eb3edb61-0db9-312b-8383-78d4b1750fc7"
      },
      "source": [
        "Lets us see the count of the different values present in the columns"
      ]
    },
    {
      "cell_type": "code",
      "execution_count": null,
      "metadata": {
        "_cell_guid": "f311f10d-1658-8ee0-3fcc-281b5603f837"
      },
      "outputs": [],
      "source": [
        "col=['X0','X1','X2','X3','X4','X5','X6','X8']\n",
        "for i in col:\n",
        "    sns.countplot(train[i])\n",
        "    plt.show()"
      ]
    },
    {
      "cell_type": "markdown",
      "metadata": {
        "_cell_guid": "7c50f982-883c-153e-4ee9-667ab969a212"
      },
      "source": [
        "### More To Come\n"
      ]
    },
    {
      "cell_type": "code",
      "execution_count": null,
      "metadata": {
        "_cell_guid": "b88965a9-290c-fb3a-21b9-bd18cf580ae4"
      },
      "outputs": [],
      "source": ""
    }
  ],
  "metadata": {
    "_change_revision": 0,
    "_is_fork": false,
    "kernelspec": {
      "display_name": "Python 3",
      "language": "python",
      "name": "python3"
    },
    "language_info": {
      "codemirror_mode": {
        "name": "ipython",
        "version": 3
      },
      "file_extension": ".py",
      "mimetype": "text/x-python",
      "name": "python",
      "nbconvert_exporter": "python",
      "pygments_lexer": "ipython3",
      "version": "3.6.0"
    }
  },
  "nbformat": 4,
  "nbformat_minor": 0
}