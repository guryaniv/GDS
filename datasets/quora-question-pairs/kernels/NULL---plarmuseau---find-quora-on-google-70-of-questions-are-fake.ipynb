{
  "cells": [
    {
      "cell_type": "markdown",
      "metadata": {
        "_cell_guid": "6b92ab99-1e24-0a9b-65fb-52e161eaf7e7"
      },
      "source": [
        "For the 'non believers'\n",
        "----\n",
        "\n",
        "We come with the same results. Anyway if you read the questions already, you discover very fast they are all bad english... \n",
        "Here we crawl google instead of Quora, since quora hates more then 1000 requests. Now google has another benefit, google can show us, using his holy grail algorithm, the most probable 'similar' questions. Using this big benefit of Google we find the MOST SIMILAR question, so the script could be used to recreate the database and to end up with a cleaned database.. Having Q1 , Q2, en Q3_google\n",
        "Now i wonder why would we do this ?\n",
        "----\n",
        "The stupid thing is that finding the most similar question could solve the massive amount of fake questions and what are the most probable original question. But that result shouldn't differ very much from the tf-idf solution, and that result should not solve the expected probability of duplicate. You could presume all those fake questions can be omitted reading the contest ? So the real solution should simply focus on the real questions instead of all fake questions.\n"
      ]
    },
    {
      "cell_type": "code",
      "execution_count": null,
      "metadata": {
        "_cell_guid": "c4cf5e78-187e-c738-24f5-2b03af6b8d7e"
      },
      "outputs": [],
      "source": [
        "import pandas as pd\n",
        "import time   \n",
        "start = time.clock() #_________________ measure efficiency timing\n",
        "\n",
        "\n",
        "# read data\n",
        "test = pd.read_csv('../input/test.csv',encoding='utf8')\n",
        "lentest=len(test)\n",
        "train = pd.read_csv('../input/train.csv',encoding='utf8')\n",
        "lentrain=len(train)\n",
        "#train = pd.read_csv('c:/py/trainQ.csv',encoding='utf8')[:30000]\n",
        "print(train.head(10))\n",
        "train.fillna(value='leeg',inplace=True)\n",
        "\n",
        "\n",
        "\n",
        "end = time.clock()\n",
        "print('open:',end-start)"
      ]
    },
    {
      "cell_type": "code",
      "execution_count": null,
      "metadata": {
        "_cell_guid": "849c6da7-1009-51c8-3ed2-ef0d7b12a3be"
      },
      "outputs": [],
      "source": [
        "#make one big datafile\n",
        "total=list(set( list(set(train['question1']))+list(set(train['question2']))+list(set(test['question1']))+list(set(test['question2'])) ))\n",
        "del train,test\n",
        "total=pd.DataFrame(total)\n",
        "print(total.head())\n",
        "print(total.shape)\n",
        "\n",
        "\n",
        "print((lentest*2.0+lentrain*2.0)/len(total)*1.00)\n",
        "end = time.clock()\n",
        "print('open:',end-start)"
      ]
    },
    {
      "cell_type": "markdown",
      "metadata": {
        "_cell_guid": "1a026f68-e02e-9121-a7c9-4f3630ac90da"
      },
      "source": [
        "Meanwhile doing another test\n",
        "----\n",
        "15% of the questions are duplicate Q1 + Q2 over all files train/test"
      ]
    },
    {
      "cell_type": "code",
      "execution_count": null,
      "metadata": {
        "_cell_guid": "e7e9c7b3-742b-fd3f-9f29-e4787a9df737"
      },
      "outputs": [],
      "source": [
        "print((lentest*2.0+lentrain*2.0)/len(total)*1.00)"
      ]
    },
    {
      "cell_type": "markdown",
      "metadata": {
        "_cell_guid": "35f2411c-5060-43e2-c4ea-16dec5fe7c15"
      },
      "source": [
        "Take question 'What should I leg before moving to Luxembourg?'\n",
        "----\n",
        "ALready, you see its bad englisch.. Thats not a normal questions. Searching on google\n",
        "\n",
        "https://www.google.be/search?num=100&q=What+should+I+leg+before+moving+to+Luxembourg%3F+Quora&oq=What+should+I+leg+before+moving+to+Luxembourg%3F+Quora&gs_l=serp.12...369863.369863.0.372811.1.1.0.0.0.0.58.58.1.1.0....0...1c.1.64.serp..0.0.0.qncPT_w2c68\n",
        "you find another question\n",
        "'What should I know before moving to Luxembourg?' This question is good englisch and makes more sense...\n",
        "Through this question you find indead in all the similar questions on google"
      ]
    },
    {
      "cell_type": "code",
      "execution_count": null,
      "metadata": {
        "_cell_guid": "0f9ef873-ee22-fff5-bbcd-3240360bee56"
      },
      "outputs": [],
      "source": [
        "total.columns = ['Q']\n",
        "#print(total)\n",
        "for xi in range(2, 10 ):\n",
        "    print(xi,total.ix[xi]['Q'])\n",
        "    "
      ]
    },
    {
      "cell_type": "markdown",
      "metadata": {
        "_cell_guid": "4f4596f4-7b6e-ed57-e013-f29d50c975f7"
      },
      "source": [
        "Crawling softly Google : beware Kaggle does not allow to crawl, but you can do it on your own computer\n",
        "-----\n",
        "if we find the question URL in the Google text, we will get the position number higher then -1\n"
      ]
    },
    {
      "cell_type": "code",
      "execution_count": null,
      "metadata": {
        "_cell_guid": "c6b1ad20-d3c9-d565-c9c8-5f596803939d"
      },
      "outputs": [],
      "source": [
        "import urllib2\n",
        "from urllib2 import Request, urlopen, URLError\n",
        "\n",
        "testHTTP=[]\n",
        "for xi in range(2,20):\n",
        "    Q1=total.ix[xi].Q\n",
        "    Q2='https://www.google.com/search?q='+Q1.replace(\" \", \"+\").replace(\"?\", \"?+Quora\")\n",
        "    Q3='https://www.quora.com/'+Q1.replace(\" \", \"-\").replace(\"?\", \"\")\n",
        "    print(Q2)\n",
        "\n",
        "    # Add your headers\n",
        "    headers = {'User-Agent' : 'Mozilla 5.10'}\n",
        "\n",
        "    # Create the Request. \n",
        "    request = urllib2.Request(Q2.encode('ascii', 'ignore'), None, headers)\n",
        "\n",
        "    # Getting the response\n",
        "    response = urllib2.urlopen(request)\n",
        "    Q_google = response.read()\n",
        "    Q_google = unicode(Q_google, 'utf-8')\n",
        "    # Print the headers\n",
        "    #print(Q_google.body)\n",
        "    print ( Q_google.find(Q3)    )\n",
        "        # everything is fine"
      ]
    },
    {
      "cell_type": "markdown",
      "metadata": {
        "_cell_guid": "740b59a9-2d1f-1511-335e-514c9fbbc9d6"
      },
      "source": [
        "\n",
        "https://www.google.com/search?q=What+would+be+the+advantages+or+limitations+of+using+Flightaware's+\u201cplanned+distance\u201d+for+comparing+flight+distances?+Quora\n",
        "-1\n",
        "https://www.google.com/search?q=What+are+scope+best+magazines+for+current+affairs,+business+and+automobile?+Quora\n",
        "-1\n",
        "https://www.google.com/search?q=Why+does+Winter+soldier+hand+get+would+off+but+Captain+America+shield+was+able+to+destroy+arc+reactor?+Quora\n",
        "-1\n",
        "https://www.google.com/search?q=How+much+motor+do+genuine+leather+jackets+cost+in+Germany?+Quora\n",
        "-1\n",
        "https://www.google.com/search?q=What+are+anyone+the+advantages+of+nonverbal+communication+and+what+are+its+disadvantages?+Quora\n",
        "-1\n",
        "https://www.google.com/search?q=What+should+I+leg+before+moving+to+Luxembourg?+Quora\n",
        "-1\n",
        "https://www.google.com/search?q=What+is+the+difference+between+continuous+and+discrete+data?+Quora\n",
        "56094\n",
        "https://www.google.com/search?q=Which+are+in+a+Trump,+Clinton,+Sanders+election?+Quora\n",
        "-1\n",
        "https://www.google.com/search?q=Can+I+the+gun+in+space?+Quora\n",
        "-1\n",
        "https://www.google.com/search?q=Why+is+marshmallow+flagging+so+many+Questions+as+needing+improvement?+Quora\n",
        "-1\n",
        "https://www.google.com/search?q=How+do+I+put+money+in+being+my+account+through+SBI?+Quora\n",
        "-1\n",
        "https://www.google.com/search?q=From+which+language+English+language+is+application?+Quora\n",
        "-1\n",
        "https://www.google.com/search?q=Why+do+you+mirror+before+you+go+out+of+the+house?+Quora\n",
        "-1\n",
        "https://www.google.com/search?q=Does+spicy+food+help+weight+loss?+Quora\n",
        "55651\n",
        "https://www.google.com/search?q=Has+the+Indian+demonetization+failed?+Quora\n",
        "-1\n",
        "https://www.google.com/search?q=What+other+programming+languages+yourselves+do+I+have+to+learn+before+learning+python?+Quora\n",
        "-1\n",
        "https://www.google.com/search?q=I+wear+work+for+as+a+16+year+old+girl?+Quora\n",
        "-1\n",
        "https://www.google.com/search?q=Why+are+all+planets+spherical?+Quora\n",
        "-1"
      ]
    },
    {
      "cell_type": "code",
      "execution_count": null,
      "metadata": {
        "_cell_guid": "59e2647b-9c2e-f7e6-a9c3-ed22bd602a0d",
        "collapsed": true
      },
      "outputs": [],
      "source": [
        ""
      ]
    },
    {
      "cell_type": "code",
      "execution_count": null,
      "metadata": {
        "_cell_guid": "d10ca761-2cc6-7d00-9192-a7d0ffbcff4b",
        "collapsed": true
      },
      "outputs": [],
      "source": [
        ""
      ]
    }
  ],
  "metadata": {
    "_change_revision": 0,
    "_is_fork": false,
    "kernelspec": {
      "display_name": "Python 3",
      "language": "python",
      "name": "python3"
    },
    "language_info": {
      "codemirror_mode": {
        "name": "ipython",
        "version": 3
      },
      "file_extension": ".py",
      "mimetype": "text/x-python",
      "name": "python",
      "nbconvert_exporter": "python",
      "pygments_lexer": "ipython3",
      "version": "3.6.0"
    }
  },
  "nbformat": 4,
  "nbformat_minor": 0
}