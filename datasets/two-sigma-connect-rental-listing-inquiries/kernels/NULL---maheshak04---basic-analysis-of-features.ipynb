{
  "cells": [
    {
      "cell_type": "markdown",
      "metadata": {
        "_cell_guid": "d2367f6e-0ced-d327-e8d7-d2d1f7673dfc"
      },
      "source": [
        "In this notebook I have explored the features 'bedrooms', 'bathrooms','price' and 'created' date by grouping the samples on the basis of interest level.\n",
        "\n",
        "Hope this helps in understanding the dataset."
      ]
    },
    {
      "cell_type": "code",
      "execution_count": null,
      "metadata": {
        "_cell_guid": "a49c2b66-9b4b-5034-8a26-4819d92a4d92"
      },
      "outputs": [],
      "source": [
        "# This Python 3 environment comes with many helpful analytics libraries installed\n",
        "# It is defined by the kaggle/python docker image: https://github.com/kaggle/docker-python\n",
        "# For example, here's several helpful packages to load in \n",
        "\n",
        "import numpy as np # linear algebra\n",
        "import pandas as pd # data processing, CSV file I/O (e.g. pd.read_csv)\n",
        "\n",
        "# Input data files are available in the \"../input/\" directory.\n",
        "# For example, running this (by clicking run or pressing Shift+Enter) will list the files in the input directory\n",
        "\n",
        "from subprocess import check_output\n",
        "print(check_output([\"ls\", \"../input\"]).decode(\"utf8\"))\n",
        "\n",
        "# Any results you write to the current directory are saved as output."
      ]
    },
    {
      "cell_type": "code",
      "execution_count": null,
      "metadata": {
        "_cell_guid": "a32da7b9-023e-548b-e277-96057312632c"
      },
      "outputs": [],
      "source": [
        "\n",
        "\n",
        "X_train = pd.read_json(\"../input/train.json\")\n",
        "X_test = pd.read_json(\"../input/test.json\")\n",
        "\n",
        "interest_level_map = {'low': 0, 'medium': 1, 'high': 2}\n",
        "X_train['interest_level'] = X_train['interest_level'].apply(lambda x: interest_level_map[x])\n",
        "X_test['interest_level'] = -1\n",
        "\n",
        "X_train.head()\n",
        "X_test.head()"
      ]
    },
    {
      "cell_type": "code",
      "execution_count": null,
      "metadata": {
        "_cell_guid": "589a5a10-df0d-1bf7-1e6f-dbb717077116"
      },
      "outputs": [],
      "source": [
        "high_df=X_train[X_train['interest_level']==2]\n",
        "medium_df=X_train[X_train['interest_level']==1]\n",
        "low_df=X_train[X_train['interest_level']==0]"
      ]
    },
    {
      "cell_type": "code",
      "execution_count": null,
      "metadata": {
        "_cell_guid": "21078e74-46bb-9d48-787e-262c31d6e47b"
      },
      "outputs": [],
      "source": [
        "print(high_df.head())\n",
        "print(medium_df.head())\n",
        "print(low_df.head())"
      ]
    },
    {
      "cell_type": "code",
      "execution_count": null,
      "metadata": {
        "_cell_guid": "a43298e9-20d7-32e5-ae82-c173336e6291"
      },
      "outputs": [],
      "source": [
        "print(len(high_df))\n",
        "print(len(medium_df))\n",
        "print(len(low_df))"
      ]
    },
    {
      "cell_type": "code",
      "execution_count": null,
      "metadata": {
        "_cell_guid": "c6d2a4c8-3dd0-be5a-5726-ce5742bc9eda"
      },
      "outputs": [],
      "source": [
        "print(high_df['bedrooms'].min()) #minimum number of bedrooms for high interest level\n",
        "print(medium_df['bedrooms'].min())\n",
        "print(low_df['bedrooms'].min())"
      ]
    },
    {
      "cell_type": "code",
      "execution_count": null,
      "metadata": {
        "_cell_guid": "e8c482d8-3ec2-7d7c-d13e-6652245ddf00"
      },
      "outputs": [],
      "source": [
        "print(high_df['bedrooms'].max())#maximum number of berooms for high interest level\n",
        "print(medium_df['bedrooms'].max())\n",
        "print(low_df['bedrooms'].max())"
      ]
    },
    {
      "cell_type": "code",
      "execution_count": null,
      "metadata": {
        "_cell_guid": "d5bf4431-bd0b-12a2-7cb6-5d6a52501e0c"
      },
      "outputs": [],
      "source": [
        "print(high_df['bedrooms'].mean()) # average number of bedrooms for high interest level\n",
        "print(medium_df['bedrooms'].mean())\n",
        "print(low_df['bedrooms'].mean())"
      ]
    },
    {
      "cell_type": "code",
      "execution_count": null,
      "metadata": {
        "_cell_guid": "67894fdc-d507-d3c9-c282-336d7ba9976e"
      },
      "outputs": [],
      "source": [
        "print(high_df['bathrooms'].min()) \n",
        "print(medium_df['bathrooms'].min()) \n",
        "print(low_df['bathrooms'].min()) "
      ]
    },
    {
      "cell_type": "code",
      "execution_count": null,
      "metadata": {
        "_cell_guid": "60e72982-1303-644a-9366-1d0f8d443ec4"
      },
      "outputs": [],
      "source": [
        "print(high_df['bathrooms'].max())\n",
        "print(medium_df['bathrooms'].max())\n",
        "print(low_df['bathrooms'].max())"
      ]
    },
    {
      "cell_type": "code",
      "execution_count": null,
      "metadata": {
        "_cell_guid": "d922a384-c887-f903-0470-79deb77a9e69"
      },
      "outputs": [],
      "source": [
        "print(high_df['bathrooms'].mean())\n",
        "print(medium_df['bathrooms'].mean())\n",
        "print(low_df['bathrooms'].mean())"
      ]
    },
    {
      "cell_type": "code",
      "execution_count": null,
      "metadata": {
        "_cell_guid": "ff02eb03-e5fe-5743-003f-d2c4204c80fd"
      },
      "outputs": [],
      "source": [
        "print(high_df['price'].min())\n",
        "print(medium_df['price'].min())\n",
        "print(low_df['price'].min())"
      ]
    },
    {
      "cell_type": "code",
      "execution_count": null,
      "metadata": {
        "_cell_guid": "73ebe9a1-fdc8-5604-4f2a-649facbcc5c1"
      },
      "outputs": [],
      "source": [
        "print(high_df['price'].max())\n",
        "print(medium_df['price'].max())\n",
        "print(low_df['price'].max())"
      ]
    },
    {
      "cell_type": "code",
      "execution_count": null,
      "metadata": {
        "_cell_guid": "c08654f1-ecb1-4e9b-0572-5e25bc726789"
      },
      "outputs": [],
      "source": [
        "print(high_df['price'].mean())\n",
        "print(medium_df['price'].mean())\n",
        "print(low_df['price'].mean())"
      ]
    },
    {
      "cell_type": "code",
      "execution_count": null,
      "metadata": {
        "_cell_guid": "63db11e4-8982-928f-ce28-3a77b4cb9608"
      },
      "outputs": [],
      "source": [
        "print(high_df['created'].min())\n",
        "print(medium_df['created'].min())\n",
        "print(low_df['created'].min())"
      ]
    },
    {
      "cell_type": "code",
      "execution_count": null,
      "metadata": {
        "_cell_guid": "43769870-286a-4dc7-0a7c-5881cb097fcc"
      },
      "outputs": [],
      "source": [
        "print(high_df['created'].max())\n",
        "print(medium_df['created'].max())\n",
        "print(low_df['created'].max())"
      ]
    },
    {
      "cell_type": "code",
      "execution_count": null,
      "metadata": {
        "_cell_guid": "d9a92a94-4b5f-71e7-592f-1633b0916c49"
      },
      "outputs": [],
      "source": [
        ""
      ]
    }
  ],
  "metadata": {
    "_change_revision": 0,
    "_is_fork": false,
    "kernelspec": {
      "display_name": "Python 3",
      "language": "python",
      "name": "python3"
    },
    "language_info": {
      "codemirror_mode": {
        "name": "ipython",
        "version": 3
      },
      "file_extension": ".py",
      "mimetype": "text/x-python",
      "name": "python",
      "nbconvert_exporter": "python",
      "pygments_lexer": "ipython3",
      "version": "3.6.0"
    }
  },
  "nbformat": 4,
  "nbformat_minor": 0
}