{
  "cells": [
    {
      "cell_type": "code",
      "execution_count": null,
      "metadata": {
        "_cell_guid": "fded939c-2790-f073-c41d-25577a4796c1"
      },
      "outputs": [],
      "source": [
        "\n",
        "\n",
        "import keras\n",
        "import numpy as np\n",
        "\n",
        "import matplotlib.pyplot as plt\n",
        "%matplotlib inline\n",
        "\n",
        "from sklearn.cross_validation import train_test_split\n",
        "\n",
        "Using TensorFlow backend.\n",
        "\n"
      ]
    },
    {
      "cell_type": "code",
      "execution_count": null,
      "metadata": {
        "_cell_guid": "f5e206be-f766-b8c2-25e3-66e5132671bc"
      },
      "outputs": [],
      "source": [
        "TEST_SIZE = 0.1"
      ]
    },
    {
      "cell_type": "code",
      "execution_count": null,
      "metadata": {
        "_cell_guid": "104a400e-4e53-5b79-f2f4-1086c81c6118"
      },
      "outputs": [],
      "source": [
        "X = np.load('../input/train.csv')\n",
        "y = np.load('../input/train.csv')\n"
      ]
    },
    {
      "cell_type": "code",
      "execution_count": null,
      "metadata": {
        "_cell_guid": "b76ce1c0-8d07-a1b8-56c7-8910ce19e82d"
      },
      "outputs": [],
      "source": [
        "X_train, X_test, y_train, y_test = \\\n",
        "    train_test_split(X, y, test_size=TEST_SIZE, random_state=11)"
      ]
    },
    {
      "cell_type": "code",
      "execution_count": null,
      "metadata": {
        "_cell_guid": "53d5559e-7b6a-f078-9765-6ae6cf166404"
      },
      "outputs": [],
      "source": [
        "\n",
        "\n",
        "from keras.models import Sequential\n",
        "from keras.layers import Dense, Activation, Dropout, LSTM, GRU\n",
        "from keras.regularizers import l2, activity_l2\n",
        "from keras.callbacks import ModelCheckpoint\n",
        "\n"
      ]
    },
    {
      "cell_type": "code",
      "execution_count": null,
      "metadata": {
        "_cell_guid": "95f674e8-afd8-48e2-229c-c6d8f18d902e"
      },
      "outputs": [],
      "source": [
        "\n",
        "\n",
        "model = Sequential([\n",
        "    Dense(\n",
        "        1024, \n",
        "        input_dim=X_train.shape[1], \n",
        "        activation='relu'\n",
        "    ),\n",
        "    Dropout(0.5),\n",
        "    Dense(1024, activation='relu'),\n",
        "    Dense(1, activation='linear')\n",
        "])\n",
        "\n",
        "model.compile(loss='mae', optimizer='RMSprop')\n",
        "\n"
      ]
    },
    {
      "cell_type": "code",
      "execution_count": null,
      "metadata": {
        "_cell_guid": "5de347bf-072d-7685-8f59-c90a5df03516"
      },
      "outputs": [],
      "source": [
        "hist = model.fit(\n",
        "        X_train,\n",
        "        y_train,\n",
        "        batch_size=32,\n",
        "        nb_epoch=10, \n",
        "        validation_data=(X_test, y_test),\n",
        "        callbacks = [\n",
        "            ModelCheckpoint(\n",
        "                \"model-{epoch:03d}@l={loss:.5f},vl={val_loss:.5f}.h5\",\n",
        "                monitor='val_loss', \n",
        "                verbose=False, \n",
        "                save_best_only=False,\n",
        "                mode='max'\n",
        "            )\n",
        "        ]\n",
        "     )"
      ]
    }
  ],
  "metadata": {
    "_change_revision": 0,
    "_is_fork": false,
    "kernelspec": {
      "display_name": "Python 3",
      "language": "python",
      "name": "python3"
    },
    "language_info": {
      "codemirror_mode": {
        "name": "ipython",
        "version": 3
      },
      "file_extension": ".py",
      "mimetype": "text/x-python",
      "name": "python",
      "nbconvert_exporter": "python",
      "pygments_lexer": "ipython3",
      "version": "3.5.2"
    }
  },
  "nbformat": 4,
  "nbformat_minor": 0
}