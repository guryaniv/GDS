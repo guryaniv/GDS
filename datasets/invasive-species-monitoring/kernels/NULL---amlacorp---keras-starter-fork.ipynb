{
  "cells": [
    {
      "cell_type": "markdown",
      "metadata": {
        "_cell_guid": "136ac809-5871-a5fe-db13-ab8080fcce6d"
      },
      "source": [
        "### This is a basic Keras model. "
      ]
    },
    {
      "cell_type": "code",
      "execution_count": null,
      "metadata": {
        "_cell_guid": "3fb424ed-f862-d24c-e82d-1cc1eb658ef0"
      },
      "outputs": [],
      "source": [
        "import os\n",
        "import numpy as np\n",
        "import pandas as pd\n",
        "import warnings\n",
        "warnings.filterwarnings('ignore')\n",
        "\n",
        "trainpath = '../input/train/'\n",
        "testpath = '../input/test/'\n",
        "\n",
        "print('# of training files: ' + str(len(os.listdir(trainpath))))\n",
        "print('# of testing files: ' + str(len(os.listdir(testpath))))"
      ]
    },
    {
      "cell_type": "code",
      "execution_count": null,
      "metadata": {
        "_cell_guid": "43da194a-26b5-109c-4c08-38ddffb9dec7"
      },
      "outputs": [],
      "source": [
        "# Preview labels\n",
        "train_labels = pd.read_csv('../input/train_labels.csv')\n",
        "print(train_labels.head())"
      ]
    },
    {
      "cell_type": "code",
      "execution_count": null,
      "metadata": {
        "_cell_guid": "c933de75-dfc9-d2fe-c097-ecb30f363663"
      },
      "outputs": [],
      "source": [
        "# Preview a few noninvasive plant images\n",
        "from skimage import io, transform\n",
        "import matplotlib.pyplot as plt\n",
        "\n",
        "for i in range(12):\n",
        "#    print(train_labels.name[i], train_labels.invasive[i])\n",
        "    sample_image = io.imread(trainpath + str(train_labels.name[i]) + '.jpg')\n",
        "    if train_labels.invasive[i] < 1:\n",
        "        print('Non-Invasive image example' + trainpath + str(train_labels.name[i]) + '.jpg (Height:{0} Width:{1})'.format(sample_image.shape[0], sample_image.shape[1]))\n",
        "        plt.figure()\n",
        "        plt.imshow(sample_image)"
      ]
    },
    {
      "cell_type": "code",
      "execution_count": null,
      "metadata": {
        "_cell_guid": "286240fa-03ba-763d-e004-a818bf1863b4"
      },
      "outputs": [],
      "source": [
        "# Preview a few invasive plant images\n",
        "\n",
        "for i in range(12):\n",
        "#    print(train_labels.name[i], train_labels.invasive[i])\n",
        "    sample_image = io.imread(trainpath + str(train_labels.name[i]) + '.jpg')\n",
        "    if train_labels.invasive[i] > 0:\n",
        "        print('Invasive image example' + trainpath + str(train_labels.name[i]) + '.jpg (Height:{0} Width:{1})'.format(sample_image.shape[0], sample_image.shape[1]))\n",
        "        plt.figure()\n",
        "        plt.imshow(sample_image)"
      ]
    },
    {
      "cell_type": "code",
      "execution_count": null,
      "metadata": {
        "_cell_guid": "ed640b41-d038-522d-5d40-aa2551fed910"
      },
      "outputs": [],
      "source": [
        "import cv2\n",
        "# There is one image in the test set that has different dimensions.\n",
        "# It may just need a rotation, but I'm going to ignore it for now.\n",
        "imhei = 866\n",
        "imwid = 1154\n",
        "\n",
        "for i in range(1060,1070):\n",
        "    print(train_labels.name[i], train_labels.invasive[i], sample_image.shape)\n",
        "    sample_image = io.imread(testpath + str(train_labels.name[i]) + '.jpg')\n",
        "    if sample_image.shape[0] == imhei and sample_image.shape[1] == imwid:\n",
        "        continue\n",
        "    rrows,ccols = sample_image.shape[0:2]\n",
        "    M = cv2.getRotationMatrix2D((ccols/2,rrows/2),90,1)\n",
        "    sample_image = cv2.warpAffine(sample_image,M,(ccols,rrows))\n",
        "    sample_image.reshape(ccols,rrows,3)\n",
        "    if train_labels.invasive[i] > 0:\n",
        "        print('Invasive image example' + testpath + str(train_labels.name[i]) + '.jpg (Height:{0} Width:{1})'.format(sample_image.shape[0], sample_image.shape[1]))\n",
        "        plt.figure()\n",
        "        plt.imshow(sample_image)\n",
        "    if train_labels.invasive[i] < 1:\n",
        "        print('Non-Invasive image example' + testpath + str(train_labels.name[i]) + '.jpg (Height:{0} Width:{1})'.format(sample_image.shape[0], sample_image.shape[1]))\n",
        "        plt.figure()\n",
        "        plt.imshow(sample_image)"
      ]
    },
    {
      "cell_type": "code",
      "execution_count": null,
      "metadata": {
        "_cell_guid": "be2200ae-9978-05ed-aa60-62659bf17abe"
      },
      "outputs": [],
      "source": [
        "# Check that input_shape = (batch_size, rows, columns, channels)\n",
        "from keras.backend import image_data_format\n",
        "print(image_data_format())"
      ]
    },
    {
      "cell_type": "code",
      "execution_count": null,
      "metadata": {
        "_cell_guid": "5afaadb9-c310-3abc-2aba-1d0b90ab60bd"
      },
      "outputs": [],
      "source": [
        "# Kernel memory is limited so I'm using 100 images each for training and validation \n",
        "# and scaling them down to 150x200 pixels to keep things simple.\n",
        "xpix = 150\n",
        "ypix = 200\n",
        "ncol = 3\n",
        "scaled = (xpix, ypix, ncol)\n",
        "n_train = 100\n",
        "x_train = np.empty(shape=(n_train, xpix, ypix, ncol))\n",
        "y_train = np.array(train_labels.invasive.values[0:n_train])\n",
        "n_eval = 50\n",
        "x_val = np.empty(shape=(n_eval, xpix, ypix, ncol))\n",
        "y_val = np.array(train_labels.invasive.values[n_train:n_train+n_eval])\n",
        "\n",
        "for i in range(n_train):\n",
        "    tr_im = io.imread(trainpath + str(i+1) + '.jpg')\n",
        "    x_train[i] = transform.resize(tr_im, output_shape=scaled)\n",
        "\n",
        "for i in range(n_eval):\n",
        "    val_im = io.imread(trainpath + str(i+n_train+1) + '.jpg')\n",
        "    x_val[i] = transform.resize(val_im, output_shape=scaled)"
      ]
    },
    {
      "cell_type": "code",
      "execution_count": null,
      "metadata": {
        "_cell_guid": "43314562-21a3-8f30-e404-344ff13dc5f1"
      },
      "outputs": [],
      "source": [
        "# Starting architecture\n",
        "from keras.models import Sequential\n",
        "from keras.layers import Convolution2D, MaxPooling2D, ZeroPadding2D\n",
        "from keras.layers import Flatten, Dense, Dropout\n",
        "from keras.optimizers import SGD\n",
        "\n",
        "model = Sequential()\n",
        "model.add(ZeroPadding2D((1, 1), input_shape=(150, 200, 3)))\n",
        "\n",
        "model.add(Convolution2D(64, 3, 3, activation='relu'))\n",
        "model.add(ZeroPadding2D((1, 1)))\n",
        "model.add(Convolution2D(64, 3, 3, activation='relu'))\n",
        "model.add(MaxPooling2D((2, 2), strides=(2, 2)))\n",
        "\n",
        "#model.add(ZeroPadding2D((1, 1)))\n",
        "#model.add(Convolution2D(128, 3, 3, activation='relu'))\n",
        "#model.add(ZeroPadding2D((1, 1)))\n",
        "#model.add(Convolution2D(128, 3, 3, activation='relu'))\n",
        "#model.add(MaxPooling2D((2, 2), strides=(2, 2)))\n",
        "\n",
        "#model.add(ZeroPadding2D((1, 1)))\n",
        "#model.add(Convolution2D(256, 3, 3, activation='relu'))\n",
        "#model.add(ZeroPadding2D((1, 1)))\n",
        "#model.add(Convolution2D(256, 3, 3, activation='relu'))\n",
        "#model.add(ZeroPadding2D((1, 1)))\n",
        "#model.add(Convolution2D(256, 3, 3, activation='relu'))\n",
        "#model.add(MaxPooling2D((2, 2), strides=(2, 2)))\n",
        "\n",
        "#model.add(ZeroPadding2D((1, 1)))\n",
        "#model.add(Convolution2D(512, 3, 3, activation='relu'))\n",
        "#model.add(ZeroPadding2D((1, 1)))\n",
        "#model.add(Convolution2D(512, 3, 3, activation='relu'))\n",
        "#model.add(ZeroPadding2D((1, 1)))\n",
        "#model.add(Convolution2D(512, 3, 3, activation='relu'))\n",
        "#model.add(MaxPooling2D((2, 2), strides=(2, 2)))\n",
        "\n",
        "model.add(Flatten())\n",
        "model.add(Dense(256, activation='relu'))\n",
        "model.add(Dropout(0.5))\n",
        "model.add(Dense(1, activation='sigmoid'))\n",
        "\n",
        "model.compile(optimizer=SGD(lr=1e-5, momentum=0.75, nesterov=False), \n",
        "              loss='binary_crossentropy', metrics=['accuracy'])"
      ]
    },
    {
      "cell_type": "code",
      "execution_count": null,
      "metadata": {
        "_cell_guid": "aac3ee00-0a2f-ba84-0e63-8b9ddcf8bca6"
      },
      "outputs": [],
      "source": [
        "# Look at how tensors affect output shape\n",
        "print(model.summary())"
      ]
    },
    {
      "cell_type": "code",
      "execution_count": null,
      "metadata": {
        "_cell_guid": "c9062a20-3811-e9bd-9be9-279cbd71eb39"
      },
      "outputs": [],
      "source": [
        "# One epoch for demonstration purposes\n",
        "model.fit(x_train, y_train, epochs=1, batch_size=50)"
      ]
    },
    {
      "cell_type": "code",
      "execution_count": null,
      "metadata": {
        "_cell_guid": "368ccc7f-0813-4a48-c3b5-80d309312911"
      },
      "outputs": [],
      "source": [
        "acc = model.evaluate(x_val, y_val)[1]\n",
        "print('Evaluation accuracy:{0}'.format(round(acc, 4)))"
      ]
    },
    {
      "cell_type": "code",
      "execution_count": null,
      "metadata": {
        "_cell_guid": "15cd26dd-6588-89f8-1bb3-b5f90e42e8d5"
      },
      "outputs": [],
      "source": [
        "# reading test sample\n",
        "sample_submission = pd.read_csv(\"../input/sample_submission.csv\")\n",
        "img_path = \"../input/test/\"\n",
        "\n",
        "test_names = []\n",
        "file_paths = []\n",
        "\n",
        "for i in range(len(sample_submission)):\n",
        "    test_names.append(sample_submission.ix[i][0])\n",
        "    file_paths.append( img_path + str(int(sample_submission.ix[i][0])) +'.jpg' )\n",
        "    \n",
        "test_names = np.array(test_names)\n"
      ]
    },
    {
      "cell_type": "code",
      "execution_count": null,
      "metadata": {
        "_cell_guid": "d6042f0b-2624-3dfe-6519-1addc71529bf"
      },
      "outputs": [],
      "source": [
        "test_images = []\n",
        "for file_path in file_paths:\n",
        "    #read image\n",
        "    img = io.imread(file_path)\n",
        "    img = transform.resize(img, output_shape=scaled)\n",
        "    test_images.append(img)\n",
        "    \n",
        "    path, ext = os.path.splitext( os.path.basename(file_paths[0]) )\n",
        "\n",
        "test_images = np.array(test_images)"
      ]
    },
    {
      "cell_type": "code",
      "execution_count": null,
      "metadata": {
        "_cell_guid": "ecf432c2-e773-082f-3f30-cfefa89e1786"
      },
      "outputs": [],
      "source": [
        "predictions = model.predict(test_images)\n",
        "\n",
        "for i, name in enumerate(test_names):\n",
        "    sample_submission.loc[sample_submission['name'] == name, 'invasive'] = predictions[i]\n",
        "\n",
        "sample_submission.to_csv(\"submit.csv\", index=False)"
      ]
    }
  ],
  "metadata": {
    "_change_revision": 0,
    "_is_fork": false,
    "kernelspec": {
      "display_name": "Python 3",
      "language": "python",
      "name": "python3"
    },
    "language_info": {
      "codemirror_mode": {
        "name": "ipython",
        "version": 3
      },
      "file_extension": ".py",
      "mimetype": "text/x-python",
      "name": "python",
      "nbconvert_exporter": "python",
      "pygments_lexer": "ipython3",
      "version": "3.6.0"
    }
  },
  "nbformat": 4,
  "nbformat_minor": 0
}