{
  "cells": [
    {
      "cell_type": "code",
      "execution_count": null,
      "metadata": {
        "_cell_guid": "e1c76b0e-de91-ce15-329d-007592398295"
      },
      "outputs": [],
      "source": [
        "# This Python 3 environment comes with many helpful analytics libraries installed\n",
        "# It is defined by the kaggle/python docker image: https://github.com/kaggle/docker-python\n",
        "# For example, here's several helpful packages to load in \n",
        "import xgboost as xgb\n",
        "import numpy as np # linear algebra\n",
        "import pandas as pd # data processing, CSV file I/O (e.g. pd.read_csv)\n",
        "import seaborn as sns\n",
        "import matplotlib.pyplot as plt\n",
        "# Input data files are available in the \"../input/\" directory.\n",
        "# For example, running this (by clicking run or pressing Shift+Enter) will list the files in the input directory\n",
        "color = sns.color_palette()\n",
        "\n",
        "%matplotlib inline\n",
        "from subprocess import check_output\n",
        "print(check_output([\"ls\", \"../input\"]).decode(\"utf8\"))\n",
        "\n",
        "# Any results you write to the current directory are saved as output."
      ]
    },
    {
      "cell_type": "code",
      "execution_count": null,
      "metadata": {
        "_cell_guid": "e4b57ed7-4d81-4ad7-47cc-66b35a931407"
      },
      "outputs": [],
      "source": [
        "train_data_df = pd.read_json(\"../input/train.json\")\n",
        "train_data_df.head(3)"
      ]
    },
    {
      "cell_type": "code",
      "execution_count": null,
      "metadata": {
        "_cell_guid": "86db84a2-20af-a05b-31a0-8494c0793ce8"
      },
      "outputs": [],
      "source": [
        "test_data_df = pd.read_json(\"../input/test.json\")\n",
        "print ('End reading test data')"
      ]
    },
    {
      "cell_type": "code",
      "execution_count": null,
      "metadata": {
        "_cell_guid": "36d6caaf-516e-6dc7-fd69-6fbf504b1342"
      },
      "outputs": [],
      "source": [
        "print(\"Train Rows : \", train_data_df.shape[0])\n",
        "print(\"Test Rows : \", test_data_df.shape[0])\n",
        "\n",
        "print(\"Train Col Numbers : \", train_data_df.shape[1])\n",
        "print(\"Test Col Numbers : \", test_data_df.shape[1])\n"
      ]
    },
    {
      "cell_type": "code",
      "execution_count": null,
      "metadata": {
        "_cell_guid": "64914e70-7b86-e89a-534e-c5dada9b2b7e"
      },
      "outputs": [],
      "source": [
        "# Prepare Data\n",
        "# First look at the null value if any\n",
        "train_data_df.isnull().any()"
      ]
    },
    {
      "cell_type": "code",
      "execution_count": null,
      "metadata": {
        "_cell_guid": "94a7be04-240a-f322-2c96-ddc4e6f25c17"
      },
      "outputs": [],
      "source": [
        "train_data_df_calc = pd.DataFrame()\n",
        "train_data_label = pd.DataFrame()\n",
        "\n",
        "train_data_df_calc['bathrooms'] = train_data_df['bathrooms']\n",
        "train_data_df_calc['bedrooms'] = train_data_df['bedrooms']\n",
        "train_data_df_calc['price'] = train_data_df['price']\n",
        "\n",
        "print(\"Train Col Numbers : \", train_data_df_calc.shape[1])\n",
        "\n",
        "train_data_label['label'] = train_data_df['interest_level'] \n",
        "print(\"Train label Col Numbers : \", train_data_label.shape[1])\n"
      ]
    },
    {
      "cell_type": "code",
      "execution_count": null,
      "metadata": {
        "_cell_guid": "a275d235-1ddf-674e-d992-4c33c9536b6f"
      },
      "outputs": [],
      "source": [
        "cutoff = int((train_data_df_calc.shape[0])*0.80)\n",
        "print ('cutoff = ',cutoff)\n",
        "train_data = train_data_df_calc[:cutoff]\n",
        "train_label = train_data_label[:cutoff]\n",
        "\n",
        "valid_data = train_data_df_calc[cutoff:]\n",
        "valid_label = train_data_label[cutoff:]\n"
      ]
    },
    {
      "cell_type": "code",
      "execution_count": null,
      "metadata": {
        "_cell_guid": "2fbbb7a6-68de-589e-6fba-b7fcc27fab5a"
      },
      "outputs": [],
      "source": [
        "#Intereset level repartition\n",
        "\n",
        "int_level = train_data_label['label'].value_counts()\n",
        "\n",
        "plt.figure(figsize=(8,4))\n",
        "sns.barplot(int_level.index, int_level.values, alpha=0.8, color=color[1])\n",
        "plt.ylabel('Number of Occurrences', fontsize=12)\n",
        "plt.xlabel('Interest level', fontsize=12)\n",
        "plt.show()\n",
        "\n"
      ]
    },
    {
      "cell_type": "code",
      "execution_count": null,
      "metadata": {
        "_cell_guid": "234a2da4-7942-b2d2-6d3c-68cf1a6f8def"
      },
      "outputs": [],
      "source": [
        "cnt_srs = train_data_df_calc['bathrooms'].value_counts()\n",
        "\n",
        "plt.figure(figsize=(8,4))\n",
        "sns.barplot(cnt_srs.index, cnt_srs.values, alpha=0.8, color=color[0])\n",
        "plt.ylabel('Number of Occurrences', fontsize=12)\n",
        "plt.xlabel('bathrooms', fontsize=12)\n",
        "plt.show()"
      ]
    },
    {
      "cell_type": "code",
      "execution_count": null,
      "metadata": {
        "_cell_guid": "7ea30a38-2c6b-e124-6920-bbd062c21be5"
      },
      "outputs": [],
      "source": [
        "cnt_srs = train_data_df_calc['price'].value_counts()\n",
        "\n",
        "plt.figure(figsize=(8,4))\n",
        "sns.barplot(cnt_srs.index, cnt_srs.values, alpha=0.8, color=color[0])\n",
        "plt.ylabel('Number of Occurrences', fontsize=12)\n",
        "plt.xlabel('bathrooms', fontsize=12)\n",
        "plt.show()"
      ]
    },
    {
      "cell_type": "code",
      "execution_count": null,
      "metadata": {
        "_cell_guid": "46e75783-1986-3724-579c-2f14d4ca83d7"
      },
      "outputs": [],
      "source": [
        "gbm1 = xgb.XGBClassifier(max_depth=2, n_estimators=400, learning_rate=0.1).fit(train_data_df_calc, train_data_label)\n",
        "predictions1 = gbm1.predict(valide_data_Q)\n",
        "error_class1 = (sum( int(predictions1[i]) != valid_label[i] for i in range(len(valid_label))) / float(len(valid_label)) )\n",
        "print ('predicting, classification error=%f' % error_class1)\n",
        "print ('predicting, classification accuracy =%f' % (1. - error_class1))"
      ]
    }
  ],
  "metadata": {
    "_change_revision": 0,
    "_is_fork": false,
    "kernelspec": {
      "display_name": "Python 3",
      "language": "python",
      "name": "python3"
    },
    "language_info": {
      "codemirror_mode": {
        "name": "ipython",
        "version": 3
      },
      "file_extension": ".py",
      "mimetype": "text/x-python",
      "name": "python",
      "nbconvert_exporter": "python",
      "pygments_lexer": "ipython3",
      "version": "3.6.0"
    }
  },
  "nbformat": 4,
  "nbformat_minor": 0
}