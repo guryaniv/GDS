{
  "cells": [
    {
      "cell_type": "markdown",
      "metadata": {
        "_cell_guid": "750ea4ae-e5c4-90ed-349e-03477a62d6ab"
      },
      "source": [
        "this is my learn from  Santhosh Sharma's Exploratory study on ML algorithms\n",
        "                                                                                       by xiaoyao70v\n"
      ]
    },
    {
      "cell_type": "code",
      "execution_count": null,
      "metadata": {
        "_cell_guid": "934b1d51-22e7-21a4-7295-1c4abe3da857"
      },
      "outputs": [],
      "source": [
        "import warnings\n",
        "warnings.filterwarnings('ignore')\n",
        "\n",
        "import pandas as pd\n",
        "import numpy as np\n",
        "import matplotlib.pyplot as plt\n",
        "import seaborn as sns\n",
        "\n",
        "%matplotlib inline"
      ]
    },
    {
      "cell_type": "code",
      "execution_count": null,
      "metadata": {
        "_cell_guid": "bc586fd4-c668-6060-c137-42a4bec09121"
      },
      "outputs": [],
      "source": [
        "dataset = pd.read_csv('../input/train.csv')\n",
        "\n",
        "dataset_test = pd.read_csv('../input/test.csv')\n",
        "\n",
        "ID=dataset['id']\n",
        "\n",
        "dataset_test.drop('id',axis=1,inplace=True)\n",
        "\n",
        "pd.set_option('display.max_rows', None)\n",
        "pd.set_option('display.max_columns', None)"
      ]
    },
    {
      "cell_type": "code",
      "execution_count": null,
      "metadata": {
        "_cell_guid": "4f3e4080-22e7-3d78-d882-643db1bf0370"
      },
      "outputs": [],
      "source": [
        "print(dataset.head())"
      ]
    },
    {
      "cell_type": "code",
      "execution_count": null,
      "metadata": {
        "_cell_guid": "66f2946d-12c3-4004-d936-3b91af0125ce"
      },
      "outputs": [],
      "source": [
        "dataset = dataset.iloc[:,1:]"
      ]
    },
    {
      "cell_type": "code",
      "execution_count": null,
      "metadata": {
        "_cell_guid": "87b4330e-6ad0-a389-4a9c-fcfa2204cd2b"
      },
      "outputs": [],
      "source": [
        "print(dataset.describe())"
      ]
    },
    {
      "cell_type": "code",
      "execution_count": null,
      "metadata": {
        "_cell_guid": "979bdfa2-5655-568b-7362-585c0f20f986"
      },
      "outputs": [],
      "source": [
        "print(dataset.skew())"
      ]
    },
    {
      "cell_type": "code",
      "execution_count": null,
      "metadata": {
        "_cell_guid": "8d4c8d5c-e078-e776-b869-c3547ff1598e"
      },
      "outputs": [],
      "source": [
        "split = 116\n",
        "size = 15\n",
        "data = dataset.iloc[:,split:]\n",
        "cols = data.columns\n",
        "n_cols = 2\n",
        "n_rows = 7\n",
        "\n",
        "for i in range(n_rows):\n",
        "    fg,ax = plt.subplots(nrows = 1,ncols = 2,figsize = (12,8))\n",
        "    for j in range(n_cols):\n",
        "        sns.violinplot(y=cols[i*2+j],data=dataset,ax=ax[j])"
      ]
    },
    {
      "cell_type": "code",
      "execution_count": null,
      "metadata": {
        "_cell_guid": "09467814-ac1b-6441-5407-5fc0e67f4146"
      },
      "outputs": [],
      "source": [
        "dataset['loss']=np.log1p(dataset['loss'])\n",
        "sns.violinplot(data=dataset,y=dataset['loss'])\n",
        "plt.show()"
      ]
    },
    {
      "cell_type": "code",
      "execution_count": null,
      "metadata": {
        "_cell_guid": "464de76b-18f7-046a-bca0-1bba2b429353"
      },
      "outputs": [],
      "source": [
        "data_corr =data.corr()"
      ]
    },
    {
      "cell_type": "code",
      "execution_count": null,
      "metadata": {
        "_cell_guid": "f91d00cc-9b8e-f68b-4cb2-5ea50a1788e9"
      },
      "outputs": [],
      "source": [
        "data_corr"
      ]
    },
    {
      "cell_type": "code",
      "execution_count": null,
      "metadata": {
        "_cell_guid": "c1f3b7e8-f78d-eafe-1d51-fdad6134b1e4"
      },
      "outputs": [],
      "source": [
        "corr_list = []\n",
        "for i in range(15):\n",
        "    for j in range(i+1,15):\n",
        "        if (data_corr.iloc[i,j] <1 and data_corr.iloc[i,j] >= 0.5) or (data_corr.iloc[i,j] < 0 and data_corr.iloc[i,j] <= -0.5):\n",
        "            corr_list.append([data_corr.iloc[i,j],i,j])"
      ]
    },
    {
      "cell_type": "code",
      "execution_count": null,
      "metadata": {
        "_cell_guid": "e202e276-b209-f219-3ffa-6d43d7916640"
      },
      "outputs": [],
      "source": [
        "s_corr_list = sorted(corr_list,key = lambda x: abs(x[0]),reverse=True)\n",
        "for v,i,j in s_corr_list:\n",
        "    print(\"%s and %s = %.2f\" %  (cols[i],cols[j],v))"
      ]
    },
    {
      "cell_type": "code",
      "execution_count": null,
      "metadata": {
        "_cell_guid": "e1feabcf-7ba6-27ee-43e4-3b09650d9ea1"
      },
      "outputs": [],
      "source": [
        "for v,i,j in s_corr_list:\n",
        "    sns.pairplot(dataset,size = 6,x_vars = cols[i],y_vars=cols[j])"
      ]
    },
    {
      "cell_type": "code",
      "execution_count": null,
      "metadata": {
        "_cell_guid": "7c619457-b2db-d24a-e475-62fd5d94c0be"
      },
      "outputs": [],
      "source": [
        "type(dataset)"
      ]
    },
    {
      "cell_type": "code",
      "execution_count": null,
      "metadata": {
        "_cell_guid": "c5a2f522-7472-db11-7cda-dc735c684f25"
      },
      "outputs": [],
      "source": [
        "cols =dataset.columns\n",
        "n_cols= 4 \n",
        "n_rows = 29\n",
        "for i in range(29):\n",
        "    fg,ax = plt.subplots(1,4,figsize=(12,8),sharey=True)\n",
        "    for j in range(4):\n",
        "        sns.countplot(x=cols[i*4+j], data=dataset, ax=ax[j])\n"
      ]
    },
    {
      "cell_type": "code",
      "execution_count": null,
      "metadata": {
        "_cell_guid": "3b344fe3-3c69-ef56-be25-28e1d10d5000"
      },
      "outputs": [],
      "source": [
        "print(cols)"
      ]
    },
    {
      "cell_type": "code",
      "execution_count": null,
      "metadata": {
        "_cell_guid": "3a993dbe-cff2-dfc0-9a39-b626f1d7a2d7"
      },
      "outputs": [],
      "source": [
        "labels = []\n",
        "for i in range(0,split):\n",
        "    train = dataset[cols[i]].unique()\n",
        "    test = dataset_test[cols[i]].unique()\n",
        "    labels.append(set(train)|set(test))"
      ]
    },
    {
      "cell_type": "code",
      "execution_count": null,
      "metadata": {
        "_cell_guid": "0d090072-5f62-7a55-8769-e292629aa0a4"
      },
      "outputs": [],
      "source": [
        "del dataset_test"
      ]
    },
    {
      "cell_type": "code",
      "execution_count": null,
      "metadata": {
        "_cell_guid": "f3318182-dd80-da37-e713-042a126493a1"
      },
      "outputs": [],
      "source": [
        "from sklearn.preprocessing import LabelEncoder\n",
        "from sklearn.preprocessing import OneHotEncoder\n",
        "\n",
        "cats=[]\n",
        "for i in range(0,split):\n",
        "    label_encoder =LabelEncoder()\n",
        "    label_encoder.fit(labels[i])\n",
        "    feature = label_encoder.transform(dataset.iloc[:,i])\n",
        "    feature = feature.reshape(dataset.shape[0], 1)\n",
        "    onehot_encoder = OneHotEncoder(sparse=False,n_values=len(labels[i]))\n",
        "    feature = onehot_encoder.fit_transform(feature)\n",
        "    cats.append(feature)\n",
        "\n",
        "# Make a 2D array from a list of 1D arrays\n",
        "encoded_cats = numpy.column_stack(cats)\n",
        "\n",
        "# Print the shape of the encoded data\n",
        "print(encoded_cats.shape)\n",
        "\n",
        "#Concatenate encoded attributes with continuous attributes\n",
        "dataset_encoded = numpy.concatenate((encoded_cats,dataset.iloc[:,split:].values),axis=1)\n",
        "del cats\n",
        "del feature\n",
        "del dataset\n",
        "del encoded_cats\n",
        "print(dataset_encoded.shape)"
      ]
    },
    {
      "cell_type": "code",
      "execution_count": null,
      "metadata": {
        "_cell_guid": "6178410e-2f71-405b-5ba4-c63e807997aa"
      },
      "outputs": [],
      "source": ""
    }
  ],
  "metadata": {
    "_change_revision": 0,
    "_is_fork": false,
    "kernelspec": {
      "display_name": "Python 3",
      "language": "python",
      "name": "python3"
    },
    "language_info": {
      "codemirror_mode": {
        "name": "ipython",
        "version": 3
      },
      "file_extension": ".py",
      "mimetype": "text/x-python",
      "name": "python",
      "nbconvert_exporter": "python",
      "pygments_lexer": "ipython3",
      "version": "3.6.0"
    }
  },
  "nbformat": 4,
  "nbformat_minor": 0
}