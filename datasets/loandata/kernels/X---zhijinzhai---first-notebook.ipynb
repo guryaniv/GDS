{
  "cells": [
    {
      "cell_type": "code",
      "execution_count": null,
      "metadata": {
        "_cell_guid": "6d2aabf0-3558-81c0-ffe0-d1fe6237eb9e"
      },
      "outputs": [],
      "source": [
        "# Imports\n",
        "\n",
        "# pandas\n",
        "import pandas as pd\n",
        "from pandas import Series,DataFrame\n",
        "\n",
        "# numpy, matplotlib, seaborn\n",
        "import numpy as np\n",
        "import matplotlib.pyplot as plt\n",
        "import seaborn as sns\n",
        "sns.set_style('whitegrid')\n",
        "%matplotlib inline\n",
        "\n",
        "# machine learning\n",
        "from sklearn.linear_model import LogisticRegression\n",
        "from sklearn.svm import SVC, LinearSVC\n",
        "from sklearn.ensemble import RandomForestClassifier\n",
        "from sklearn.neighbors import KNeighborsClassifier\n",
        "from sklearn.naive_bayes import GaussianNB"
      ]
    },
    {
      "cell_type": "code",
      "execution_count": null,
      "metadata": {
        "_cell_guid": "7dedb245-bbe6-c6ff-df9e-5ad0c1879d04"
      },
      "outputs": [],
      "source": [
        "# Load in the train and test datasets\n",
        "loandata = pd.read_csv('../input/Loan payments data.csv')\n",
        "loandata.head()\n",
        "loandata.info()"
      ]
    },
    {
      "cell_type": "code",
      "execution_count": null,
      "metadata": {
        "_cell_guid": "a76daad7-372d-496b-93e3-f9a1ea11f088"
      },
      "outputs": [],
      "source": [
        "# drop unnecessary columns, these columns won't be useful in analysis and prediction\n",
        "loandata = loandata.drop(['Loan_ID','effective_date','due_date','paid_off_time'], axis=1)\n",
        "\n",
        "#Principal\n",
        "#table visualize: loan_status vs Principal\n",
        "pd.crosstab(loandata.loan_status, loandata.Principal, margins=True)"
      ]
    },
    {
      "cell_type": "code",
      "execution_count": null,
      "metadata": {
        "_cell_guid": "58ac6658-0f13-90ad-04fb-5a76d598df3d"
      },
      "outputs": [],
      "source": [
        "#Principal\n",
        "#count plot\n",
        "sns.countplot(x='Principal', hue = \"loan_status\", data=loandata)\n"
      ]
    },
    {
      "cell_type": "code",
      "execution_count": null,
      "metadata": {
        "_cell_guid": "124d1c43-daf3-d590-6399-b6d91b8790e3"
      },
      "outputs": [],
      "source": [
        "# past_due_days\n",
        "\n",
        "# get past_due_days for COLLECTION and COLLECTION_PAIDOFF \n",
        "COLLECTION = loandata[\"past_due_days\"][loandata[\"loan_status\"] == 'COLLECTION']\n",
        "COLLECTION_PAIDOFF     = loandata[\"past_due_days\"][loandata[\"loan_status\"] == 'COLLECTION_PAIDOFF']\n",
        "\n",
        "# get average and std for past_due_days of COLLECTION and COLLECTION_PAIDOFF\n",
        "avgerage_days = DataFrame([COLLECTION.mean(), COLLECTION_PAIDOFF.mean()])\n",
        "std_days     = DataFrame([COLLECTION.std(), COLLECTION_PAIDOFF.std()])"
      ]
    },
    {
      "cell_type": "code",
      "execution_count": null,
      "metadata": {
        "_cell_guid": "ba0d90bc-b8f0-65b1-b593-5778af7fc9f3"
      },
      "outputs": [],
      "source": [
        "# Age \n",
        "# get average, std of age data\n",
        "average_age   = loandata[\"age\"].mean()\n",
        "std_age      = loandata[\"age\"].std()\n",
        "#count plot, \n",
        "sns.countplot(x='age', hue = \"loan_status\", data=loandata)"
      ]
    },
    {
      "cell_type": "code",
      "execution_count": null,
      "metadata": {
        "_cell_guid": "b32b73f9-5df9-f946-37ed-6ab21ffa6885"
      },
      "outputs": [],
      "source": [
        "# .... continue with plot Age column\n",
        "# peaks for PAIDOFF, COLLECTION and COLLECTION_PAIDOFF by their age\n",
        "facet = sns.FacetGrid(loandata, hue=\"loan_status\",aspect=3)\n",
        "facet.map(sns.kdeplot,'age',shade= True)\n",
        "facet.set(xlim=(0, loandata['age'].max()))\n",
        "facet.add_legend()\n",
        "\n",
        "fig, axis1 = plt.subplots(1,1,figsize=(13,4))\n",
        "sns.boxplot( x = \"loan_status\",y='age', data=loandata)"
      ]
    },
    {
      "cell_type": "code",
      "execution_count": null,
      "metadata": {
        "_cell_guid": "e8cf4e1e-be12-c409-22dc-3692514c7bd3"
      },
      "outputs": [],
      "source": [
        "#boxplot for age\n",
        "sns.boxplot( x = \"loan_status\",y='age', data=loandata)"
      ]
    }
  ],
  "metadata": {
    "_change_revision": 0,
    "_is_fork": false,
    "kernelspec": {
      "display_name": "Python 3",
      "language": "python",
      "name": "python3"
    },
    "language_info": {
      "codemirror_mode": {
        "name": "ipython",
        "version": 3
      },
      "file_extension": ".py",
      "mimetype": "text/x-python",
      "name": "python",
      "nbconvert_exporter": "python",
      "pygments_lexer": "ipython3",
      "version": "3.6.0"
    }
  },
  "nbformat": 4,
  "nbformat_minor": 0
}