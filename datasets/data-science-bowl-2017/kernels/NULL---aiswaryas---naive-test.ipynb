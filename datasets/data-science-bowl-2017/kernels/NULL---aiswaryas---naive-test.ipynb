{
  "cells": [
    {
      "cell_type": "code",
      "execution_count": null,
      "metadata": {
        "_cell_guid": "b0b7f78f-6d44-f2ba-c125-e42c05596697"
      },
      "outputs": [],
      "source": [
        "# This Python 3 environment comes with many helpful analytics libraries installed\n",
        "# It is defined by the kaggle/python docker image: https://github.com/kaggle/docker-python\n",
        "# For example, here's several helpful packages to load in \n",
        "\n",
        "import numpy as np # linear algebra\n",
        "import pandas as pd # data processing, CSV file I/O (e.g. pd.read_csv)\n",
        "\n",
        "# Input data files are available in the \"../input/\" directory.\n",
        "# For example, running this (by clicking run or pressing Shift+Enter) will list the files in the input directory\n",
        "\n",
        "from subprocess import check_output\n",
        "print(check_output([\"ls\", \"../input\"]).decode(\"utf8\"))\n",
        "\n",
        "# Any results you write to the current directory are saved as output."
      ]
    },
    {
      "cell_type": "code",
      "execution_count": null,
      "metadata": {
        "_cell_guid": "263a5a51-5000-b07a-179d-57725b2d65e5"
      },
      "outputs": [],
      "source": [
        "# Data\n",
        "labels = pd.read_csv('../input/stage1_labels.csv')\n",
        "\n",
        "# Get the cancer/ no cancer labels\n",
        "cancer = labels.iloc[:, 1]"
      ]
    },
    {
      "cell_type": "code",
      "execution_count": null,
      "metadata": {
        "_cell_guid": "cf75cbb9-8bda-cb8a-8fd6-42fc7088b077"
      },
      "outputs": [],
      "source": [
        "# Now let's go through and determine the mean of this data\n",
        "# Then we can submit the mean as our predictions and see if we beat the baseline\n",
        "\n",
        "mean = np.mean(cancer)\n",
        "print(mean)"
      ]
    },
    {
      "cell_type": "code",
      "execution_count": null,
      "metadata": {
        "_cell_guid": "6f2f108e-7769-70c6-c6b9-b9787196c65c"
      },
      "outputs": [],
      "source": [
        "# This means that 25% of the patients are diagnosed with cancer.\n",
        "# Now let us put in this percentage into the submissions file and check our Kaggle output\n",
        "\n",
        "submissions = pd.read_csv('../input/stage1_sample_submission.csv')\n",
        "print(submissions)"
      ]
    },
    {
      "cell_type": "code",
      "execution_count": null,
      "metadata": {
        "_cell_guid": "14b51594-983d-7e0a-153b-d689e071efb4"
      },
      "outputs": [],
      "source": [
        "# Replace the cancer row with the percentage calculated above and generate output\n",
        "submissions[cancer] = mean"
      ]
    },
    {
      "cell_type": "code",
      "execution_count": null,
      "metadata": {
        "_cell_guid": "ba5ae2ef-c2fb-2201-816f-100a95a58fa9"
      },
      "outputs": [],
      "source": [
        "print(submissions)"
      ]
    },
    {
      "cell_type": "code",
      "execution_count": null,
      "metadata": {
        "_cell_guid": "08d4e2db-9e47-4228-fd5b-a939b021e913"
      },
      "outputs": [],
      "source": [
        "submissions.to_csv('output.csv', index=False)"
      ]
    },
    {
      "cell_type": "code",
      "execution_count": null,
      "metadata": {
        "_cell_guid": "a770363b-a4e5-d05b-1e78-2caea8ec7085"
      },
      "outputs": [],
      "source": [
        ""
      ]
    }
  ],
  "metadata": {
    "_change_revision": 0,
    "_is_fork": false,
    "kernelspec": {
      "display_name": "Python 3",
      "language": "python",
      "name": "python3"
    },
    "language_info": {
      "codemirror_mode": {
        "name": "ipython",
        "version": 3
      },
      "file_extension": ".py",
      "mimetype": "text/x-python",
      "name": "python",
      "nbconvert_exporter": "python",
      "pygments_lexer": "ipython3",
      "version": "3.6.0"
    }
  },
  "nbformat": 4,
  "nbformat_minor": 0
}