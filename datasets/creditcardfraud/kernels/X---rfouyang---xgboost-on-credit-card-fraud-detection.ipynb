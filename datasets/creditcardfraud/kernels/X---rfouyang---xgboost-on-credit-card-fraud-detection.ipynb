{
  "cells": [
    {
      "cell_type": "markdown",
      "metadata": {
        "_cell_guid": "c0c20b76-3ff1-db42-e52b-7443da78f3a8"
      },
      "source": [
        "XGBoost on Credit Card Fraud Detection"
      ]
    },
    {
      "cell_type": "code",
      "execution_count": null,
      "metadata": {
        "_cell_guid": "d7103d28-b9c0-84e6-7edc-867fcdfbb57f"
      },
      "outputs": [],
      "source": [
        "import numpy as np\n",
        "import pandas as pd\n",
        "import xgboost as xgb\n",
        "import sklearn.model_selection\n",
        "import sklearn.metrics"
      ]
    },
    {
      "cell_type": "markdown",
      "metadata": {
        "_cell_guid": "2dc472b5-630c-4299-6cda-014ef9002d38"
      },
      "source": [
        "## Load data"
      ]
    },
    {
      "cell_type": "code",
      "execution_count": null,
      "metadata": {
        "_cell_guid": "ec85bdab-6bcb-56d8-4239-62ecc1fb1333"
      },
      "outputs": [],
      "source": [
        "data = pd.read_csv('../input/creditcard.csv')"
      ]
    },
    {
      "cell_type": "code",
      "execution_count": null,
      "metadata": {
        "_cell_guid": "5a523ada-3e70-d6e5-db59-4406ad82db61"
      },
      "outputs": [],
      "source": [
        "data.head()"
      ]
    },
    {
      "cell_type": "code",
      "execution_count": null,
      "metadata": {
        "_cell_guid": "0165186c-471a-be57-f18a-3d5eb0ac0751"
      },
      "outputs": [],
      "source": [
        "df = data.drop('Time',axis=1)"
      ]
    },
    {
      "cell_type": "markdown",
      "metadata": {
        "_cell_guid": "7f52e4fc-b2bf-40a5-1c6b-1f51c1b44dff"
      },
      "source": [
        "## Split data into training set and testing set"
      ]
    },
    {
      "cell_type": "code",
      "execution_count": null,
      "metadata": {
        "_cell_guid": "d70fdbee-92ca-0943-51cf-946c68dac354"
      },
      "outputs": [],
      "source": [
        "X, Xt, Y, Yt = sklearn.model_selection.train_test_split(df.drop('Class', axis=1), df['Class'], test_size=0.20, random_state=10)"
      ]
    },
    {
      "cell_type": "code",
      "execution_count": null,
      "metadata": {
        "_cell_guid": "299eaf08-a7e3-e529-9067-b90335bb30fc"
      },
      "outputs": [],
      "source": [
        "X.head()"
      ]
    },
    {
      "cell_type": "code",
      "execution_count": null,
      "metadata": {
        "_cell_guid": "9041dab1-4143-a757-2b41-2461c7786621"
      },
      "outputs": [],
      "source": [
        "Y.head()"
      ]
    },
    {
      "cell_type": "markdown",
      "metadata": {
        "_cell_guid": "5c331229-6597-944d-f827-136a4f598935"
      },
      "source": [
        "## Train XGBoost model"
      ]
    },
    {
      "cell_type": "code",
      "execution_count": null,
      "metadata": {
        "_cell_guid": "59b66c88-4c65-0aca-52d1-f0f1f897f4c8"
      },
      "outputs": [],
      "source": [
        "model = xgb.XGBClassifier()"
      ]
    },
    {
      "cell_type": "code",
      "execution_count": null,
      "metadata": {
        "_cell_guid": "5bd4c052-0c0a-4165-d1da-66c7d998e7b0"
      },
      "outputs": [],
      "source": [
        "model.fit(X, Y)"
      ]
    },
    {
      "cell_type": "code",
      "execution_count": null,
      "metadata": {
        "_cell_guid": "e46c7219-99e2-d432-9327-355c085aa448"
      },
      "outputs": [],
      "source": [
        "Yp = model.predict(Xt)"
      ]
    },
    {
      "cell_type": "markdown",
      "metadata": {
        "_cell_guid": "5dd9d254-4d50-7206-7bb8-f2c0d864c055"
      },
      "source": [
        "## Compute the confusion matrix"
      ]
    },
    {
      "cell_type": "code",
      "execution_count": null,
      "metadata": {
        "_cell_guid": "ae53a880-7732-27b9-baa0-1f05bf890283"
      },
      "outputs": [],
      "source": [
        "CM = np.array(sklearn.metrics.confusion_matrix(Yp, Yt))\n",
        "print(CM)"
      ]
    },
    {
      "cell_type": "markdown",
      "metadata": {
        "_cell_guid": "e5a27dd3-c82f-9ce4-7e67-01fcc5da462f"
      },
      "source": [
        "### When it is fraud, the probability we can correctly detect it"
      ]
    },
    {
      "cell_type": "code",
      "execution_count": null,
      "metadata": {
        "_cell_guid": "992dfaa2-03a8-30ec-db41-b17fb87d4384"
      },
      "outputs": [],
      "source": [
        "TPR = 1.0*CM[1,1]/(CM[1,0]+CM[1,1])\n",
        "print(TPR)"
      ]
    },
    {
      "cell_type": "markdown",
      "metadata": {
        "_cell_guid": "de5ba2cf-c891-45ea-aba1-e8ea4657b463"
      },
      "source": [
        "### When it is not fraud, the probability we wrongly detect it as fraud"
      ]
    },
    {
      "cell_type": "code",
      "execution_count": null,
      "metadata": {
        "_cell_guid": "c43844b5-f0ed-3e46-b63d-59d985602a30"
      },
      "outputs": [],
      "source": [
        "FNR = 1.0*CM[0,1]/(CM[0,1]+CM[0,0])\n",
        "print(FNR)"
      ]
    },
    {
      "cell_type": "code",
      "execution_count": null,
      "metadata": {
        "_cell_guid": "d2f11cb5-c4f6-6328-605d-769fed4030dc"
      },
      "outputs": [],
      "source": [
        ""
      ]
    }
  ],
  "metadata": {
    "_change_revision": 0,
    "_is_fork": false,
    "kernelspec": {
      "display_name": "Python 3",
      "language": "python",
      "name": "python3"
    },
    "language_info": {
      "codemirror_mode": {
        "name": "ipython",
        "version": 3
      },
      "file_extension": ".py",
      "mimetype": "text/x-python",
      "name": "python",
      "nbconvert_exporter": "python",
      "pygments_lexer": "ipython3",
      "version": "3.5.2"
    }
  },
  "nbformat": 4,
  "nbformat_minor": 0
}