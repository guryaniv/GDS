{
  "cells": [
    {
      "cell_type": "code",
      "execution_count": null,
      "metadata": {
        "_cell_guid": "70d402c0-1cba-44f4-e2ca-606862b287c0"
      },
      "outputs": [],
      "source": [
        "# This Python 3 environment comes with many helpful analytics libraries installed\n",
        "# It is defined by the kaggle/python docker image: https://github.com/kaggle/docker-python\n",
        "# For example, here's several helpful packages to load in \n",
        "\n",
        "import numpy as np # linear algebra\n",
        "import pandas as pd # data processing, CSV file I/O (e.g. pd.read_csv)\n",
        "\n",
        "# Input data files are available in the \"../input/\" directory.\n",
        "# For example, running this (by clicking run or pressing Shift+Enter) will list the files in the input directory\n",
        "\n",
        "from subprocess import check_output\n",
        "print(check_output([\"ls\", \"../input\"]).decode(\"utf8\"))\n",
        "\n",
        "# Any results you write to the current directory are saved as output."
      ]
    },
    {
      "cell_type": "code",
      "execution_count": null,
      "metadata": {
        "_cell_guid": "a7e8e5b3-91a3-bcde-a29b-a3a5afa318d3"
      },
      "outputs": [],
      "source": [
        "import pandas as pd \n",
        "import numpy as np \n",
        "path_to_data = '../input/'\n",
        "df_train = pd.read_csv(path_to_data+'train.csv')\n",
        "df_train.head()"
      ]
    },
    {
      "cell_type": "code",
      "execution_count": null,
      "metadata": {
        "_cell_guid": "cf78ecc3-99b3-bef8-3f37-6eb1800c7b41"
      },
      "outputs": [],
      "source": [
        "import matplotlib.pyplot as plt\n",
        "dfn_train=df_train.isnull()\n",
        "\n",
        "mat = np.vectorize( lambda a: 0 if a else 1)(dfn_train)\n",
        "\n",
        "y,x = np.where(mat==0)\n",
        "plt.plot(x, y, 'ro')\n",
        "y,x = np.where(mat==1)\n",
        "plt.plot(x, y, 'wh')\n",
        "\n",
        "xlabels = dfn_train.columns\n",
        "\n",
        "plt.ylim(-1,len(dfn_train.index))\n",
        "plt.xlim(-1,len(xlabels))\n",
        "\n",
        "# plt.xticks(range(len(xlabels)), xlabels)\n",
        "\n",
        "plt.show()\n"
      ]
    },
    {
      "cell_type": "code",
      "execution_count": null,
      "metadata": {
        "_cell_guid": "ff3c63ce-7062-674a-49bc-99fb930b4508"
      },
      "outputs": [],
      "source": [
        "import seaborn as sns\n",
        "#%matplotlib inline\n",
        "sns.pairplot(df_train, x_vars=['num_room','full_sq','material','kitch_sq','market_count_5000','trc_count_3000'],y_vars='price_doc')"
      ]
    },
    {
      "cell_type": "code",
      "execution_count": null,
      "metadata": {
        "_cell_guid": "fdfa6915-c229-4908-7687-d3063506bae3"
      },
      "outputs": [],
      "source": [
        "def dumb_cleaning(df):\n",
        "    '''First cleaning : so dumb, just an example to follow'''\n",
        "    numeric_variables =list(df_train.dtypes[df_train.dtypes!=\"object\"].index) \n",
        "    \n",
        "    df_cleaned = pd.DataFrame()\n",
        "    df_cleaned = df_train[numeric_variables]\n",
        "    return df_cleaned\n",
        "df_clean = dumb_cleaning(df_train)\n",
        "df_clean.head()"
      ]
    },
    {
      "cell_type": "code",
      "execution_count": null,
      "metadata": {
        "_cell_guid": "e49bf4fe-da4e-429c-5d0f-34e7231d1950"
      },
      "outputs": [],
      "source": [
        "from sklearn import preprocessing\n",
        "def dumb_fe(df_clean):\n",
        "    '''Dumb Deature engineering'''\n",
        "    df_fe = pd.DataFrame()\n",
        "    df_fe = df_clean.fillna(df_clean.mean())\n",
        "    return df_fe\n",
        "df_fe = dumb_fe(df_clean)\n",
        "df_norm=pd.DataFrame(preprocessing.scale(df_fe, with_mean='True', with_std='True'))\n",
        "\n",
        "df_norm.head()"
      ]
    },
    {
      "cell_type": "code",
      "execution_count": null,
      "metadata": {
        "_cell_guid": "2e4c2ef7-fe67-0f7c-aa74-20774f6ef73e"
      },
      "outputs": [],
      "source": [
        "from sklearn.linear_model import LinearRegression\n",
        "\n",
        "# Prepare variables\n",
        "\n",
        "y = df_fe.price_doc.values\n",
        "\n",
        "X =df_fe.drop('price_doc', axis=1).values\n",
        "\n",
        "# Model \n",
        "\n",
        "lr = LinearRegression()\n",
        "lr.fit(X,y)\n",
        "print(\"Score = \", lr.score(X,y))"
      ]
    },
    {
      "cell_type": "code",
      "execution_count": null,
      "metadata": {
        "_cell_guid": "29afd7e8-c458-e13e-ca34-87df7ba7f3ef"
      },
      "outputs": [],
      "source": [
        "import scipy.stats as stats\n",
        "print(\"number of coefs\" , len(lr.coef_))\n",
        "print(\"intercept\" , lr.intercept_)"
      ]
    },
    {
      "cell_type": "code",
      "execution_count": null,
      "metadata": {
        "_cell_guid": "042ab1e8-56d8-de73-d4e2-b3f5599d16b8"
      },
      "outputs": [],
      "source": [
        "# Preparation\n",
        "df_test = pd.read_csv(path_to_data+'test.csv')\n",
        "df_test_clean = dumb_cleaning(df_test)\n",
        "df_test_fe = dumb_fe(df_test_clean)\n",
        "X_test = df_test_fe.values\n",
        "# Prediction\n",
        "prediction = lr.predict(X_test)"
      ]
    }
  ],
  "metadata": {
    "_change_revision": 0,
    "_is_fork": false,
    "kernelspec": {
      "display_name": "Python 3",
      "language": "python",
      "name": "python3"
    },
    "language_info": {
      "codemirror_mode": {
        "name": "ipython",
        "version": 3
      },
      "file_extension": ".py",
      "mimetype": "text/x-python",
      "name": "python",
      "nbconvert_exporter": "python",
      "pygments_lexer": "ipython3",
      "version": "3.6.0"
    }
  },
  "nbformat": 4,
  "nbformat_minor": 0
}