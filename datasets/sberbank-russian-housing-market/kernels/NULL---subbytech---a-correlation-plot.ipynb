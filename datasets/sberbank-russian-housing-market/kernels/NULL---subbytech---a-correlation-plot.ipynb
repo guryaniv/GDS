{
  "cells": [
    {
      "cell_type": "markdown",
      "metadata": {
        "_cell_guid": "5d587392-d3b9-af86-7546-0c6982735517"
      },
      "source": [
        "A Correlation plot (the end graph doesn't seem to work, can you kindly comment why if you know? I'm a newbie...)"
      ]
    },
    {
      "cell_type": "code",
      "execution_count": null,
      "metadata": {
        "_cell_guid": "2081a990-01ab-b6c8-ba22-15781fc1ae0e"
      },
      "outputs": [],
      "source": [
        "# This Python 3 environment comes with many helpful analytics libraries installed\n",
        "# It is defined by the kaggle/python docker image: https://github.com/kaggle/docker-python\n",
        "# For example, here's several helpful packages to load in \n",
        "\n",
        "import numpy as np # linear algebra\n",
        "import pandas as pd # data processing, CSV file I/O (e.g. pd.read_csv)\n",
        "\n",
        "# Input data files are available in the \"../input/\" directory.\n",
        "# For example, running this (by clicking run or pressing Shift+Enter) will list the files in the input directory\n",
        "\n",
        "from subprocess import check_output\n",
        "print(check_output([\"ls\", \"../input\"]).decode(\"utf8\"))\n",
        "\n",
        "# Any results you write to the current directory are saved as output."
      ]
    },
    {
      "cell_type": "code",
      "execution_count": null,
      "metadata": {
        "_cell_guid": "a714e47f-b6e2-b23a-fe9b-5eca6fb58dbf"
      },
      "outputs": [],
      "source": [
        "from string import ascii_letters \n",
        "import numpy as np\n",
        "import pandas as pd\n",
        "import seaborn as sns\n",
        "import matplotlib.pyplot as plt\n",
        "\n",
        "sns.set(style=\"white\")"
      ]
    },
    {
      "cell_type": "code",
      "execution_count": null,
      "metadata": {
        "_cell_guid": "8bb56a3a-6970-50f2-b6d2-a32a76263964"
      },
      "outputs": [],
      "source": [
        "train_dataset = pd.read_csv(\"../input/train.csv\", parse_dates = ['timestamp'])\n",
        "macro_dataset = pd.read_csv(\"../input/macro.csv\", parse_dates = ['timestamp'])"
      ]
    },
    {
      "cell_type": "code",
      "execution_count": null,
      "metadata": {
        "_cell_guid": "ba6e65c1-331f-db64-13be-a84e088f8ab9"
      },
      "outputs": [],
      "source": [
        "train_dataset.head()"
      ]
    },
    {
      "cell_type": "code",
      "execution_count": null,
      "metadata": {
        "_cell_guid": "9cf63062-cf15-04a5-c603-b8921a530853"
      },
      "outputs": [],
      "source": [
        "final_df = pd.merge(train_dataset, macro_dataset, on='timestamp')"
      ]
    },
    {
      "cell_type": "code",
      "execution_count": null,
      "metadata": {
        "_cell_guid": "a818af4b-4619-912b-41bc-f77b077eb2f0"
      },
      "outputs": [],
      "source": [
        "final_df.head()"
      ]
    },
    {
      "cell_type": "code",
      "execution_count": null,
      "metadata": {
        "_cell_guid": "cbfafa3d-b9a3-5cdf-d045-432ffab6be44"
      },
      "outputs": [],
      "source": [
        "final_df.fillna(0, inplace=True)"
      ]
    },
    {
      "cell_type": "code",
      "execution_count": null,
      "metadata": {
        "_cell_guid": "f744f610-8755-f277-5068-752064c16889"
      },
      "outputs": [],
      "source": [
        "final_df.shape"
      ]
    },
    {
      "cell_type": "code",
      "execution_count": null,
      "metadata": {
        "_cell_guid": "99d2b3a3-1c3d-abf2-d2f9-42ddab06d887"
      },
      "outputs": [],
      "source": [
        "# Compute the correlation matrix\n",
        "corr = final_df.corr()"
      ]
    },
    {
      "cell_type": "code",
      "execution_count": null,
      "metadata": {
        "_cell_guid": "57b4fd65-28f8-5e13-1281-1de688d8f2d7"
      },
      "outputs": [],
      "source": [
        "corr"
      ]
    },
    {
      "cell_type": "code",
      "execution_count": null,
      "metadata": {
        "_cell_guid": "3cbe4845-6b3a-873c-74e2-8ef1ac3a14b1"
      },
      "outputs": [],
      "source": [
        "sns.heatmap(corr, \n",
        "        xticklabels=corr.columns.values.tolist(),\n",
        "        yticklabels=corr.columns.values.tolist())"
      ]
    },
    {
      "cell_type": "code",
      "execution_count": null,
      "metadata": {
        "_cell_guid": "638d0d8c-62c5-7c93-b523-7bbc07a80d96"
      },
      "outputs": [],
      "source": ""
    },
    {
      "cell_type": "code",
      "execution_count": null,
      "metadata": {
        "_cell_guid": "f64719dd-6475-c7ec-3b5b-7f2a94b918f0"
      },
      "outputs": [],
      "source": [
        "# Generate a mask for the upper triangle\n",
        "mask = np.zeros_like(corr, dtype=np.bool)\n",
        "mask[np.triu_indices_from(mask)] = True"
      ]
    },
    {
      "cell_type": "code",
      "execution_count": null,
      "metadata": {
        "_cell_guid": "401ec7f5-3526-fba2-7883-17c1b576b265"
      },
      "outputs": [],
      "source": [
        "%matplotlib inline"
      ]
    },
    {
      "cell_type": "code",
      "execution_count": null,
      "metadata": {
        "_cell_guid": "389bfb1a-b661-3629-31bb-c3f460321823"
      },
      "outputs": [],
      "source": [
        "# Set up the matplotlib figure\n",
        "f, ax = plt.subplots(figsize=(11, 9))\n",
        "\n",
        "# Generate a custom diverging colormap\n",
        "cmap = sns.diverging_palette(220, 10, as_cmap=True)\n",
        "\n",
        "# Draw the heatmap with the mask and correct aspect ratio\n",
        "sns.heatmap(corr, mask=mask, cmap=cmap, vmax=.3,\n",
        "            square=True, xticklabels=5, yticklabels=5,\n",
        "            linewidths=.5, cbar_kws={\"shrink\": .5}, ax=ax)"
      ]
    },
    {
      "cell_type": "code",
      "execution_count": null,
      "metadata": {
        "_cell_guid": "fed78415-1730-6949-a60e-96b275886290"
      },
      "outputs": [],
      "source": [
        ""
      ]
    }
  ],
  "metadata": {
    "_change_revision": 0,
    "_is_fork": false,
    "kernelspec": {
      "display_name": "Python 3",
      "language": "python",
      "name": "python3"
    },
    "language_info": {
      "codemirror_mode": {
        "name": "ipython",
        "version": 3
      },
      "file_extension": ".py",
      "mimetype": "text/x-python",
      "name": "python",
      "nbconvert_exporter": "python",
      "pygments_lexer": "ipython3",
      "version": "3.6.0"
    }
  },
  "nbformat": 4,
  "nbformat_minor": 0
}