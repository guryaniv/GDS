{
  "cells": [
    {
      "cell_type": "markdown",
      "metadata": {
        "_cell_guid": "c8585ae4-9c3b-ccef-7045-1e49ae46bc44"
      },
      "source": [
        "Forked and use the correlation as submission\n",
        "----\n",
        "you pool all questions together 5.8million questions\n",
        "we create one big tfidf matrix\n",
        "and search for each question the top similar questions"
      ]
    },
    {
      "cell_type": "code",
      "execution_count": null,
      "metadata": {
        "_cell_guid": "f507abec-fa20-b471-9eaf-8dc079029eac"
      },
      "outputs": [],
      "source": [
        "import numpy as np\n",
        "import pandas as pd\n",
        "from collections import Counter\n",
        "from sklearn.feature_extraction.text import CountVectorizer\n",
        "from sklearn.feature_extraction.text import TfidfTransformer\n",
        "\n",
        "# timing function\n",
        "import time   \n",
        "start = time.clock() #_________________ measure efficiency timing\n",
        "\n",
        "input_folder='../input/'\n",
        "train = pd.read_csv(input_folder + 'train.csv',encoding='utf8')[:10000]\n",
        "test  = pd.read_csv(input_folder + 'test.csv',encoding='utf8')[:50000]\n",
        "\n",
        "# lege opvullen\n",
        "train.fillna(value='leeg',inplace=True)\n",
        "test.fillna(value='leeg',inplace=True)\n",
        "\n",
        "print(\"Original data: trainQ: {}, testQ: {}\".format(train.shape, test.shape) )\n",
        "end = time.clock()\n",
        "print('open:',end-start)"
      ]
    },
    {
      "cell_type": "code",
      "execution_count": null,
      "metadata": {
        "_cell_guid": "154467b7-bca2-ddfb-c56b-4d071c274448"
      },
      "outputs": [],
      "source": [
        "def cleantxt(x):   \n",
        "    # Pad punctuation with spaces on both sides\n",
        "    for char in ['.', '\"', ',', '(', ')', '!', '?', ';', ':']:\n",
        "        x = x.replace(char, ' ' + char + ' ')\n",
        "    return x\n",
        "\n",
        "train['question1']=train['question1'].map(cleantxt)\n",
        "train['question2']=train['question2'].map(cleantxt)\n",
        "test['question1']=test['question1'].map(cleantxt)\n",
        "test['question2']=test['question2'].map(cleantxt)\n",
        "\n",
        "train_qs = pd.Series(train['question1'].tolist() + train['question2'].tolist())\n",
        "test_qs = pd.Series(test['question1'].tolist() + test['question2'].tolist())\n",
        "all_qs = train_qs.append(test_qs)\n",
        "\n",
        "count_vectorizer = CountVectorizer(binary=True, ngram_range=(1, 2) )\n",
        "count_vectorizer.fit(all_qs)  #Learn vocabulary and idf, return document freq list.\n",
        "print('lengt dictionary',len(count_vectorizer.vocabulary_))\n",
        "freq_term_matrix = count_vectorizer.transform(all_qs)\n",
        "tfidf = TfidfTransformer(norm=\"l2\")\n",
        "tf_idf_matrix = tfidf.fit_transform(freq_term_matrix)\n",
        "\n",
        "end = time.clock()\n",
        "print('clean and make freq word dict:',end-start)"
      ]
    },
    {
      "cell_type": "code",
      "execution_count": null,
      "metadata": {
        "_cell_guid": "95277f26-910e-e8d3-04f4-b23e399b44f0"
      },
      "outputs": [],
      "source": [
        "def sort_coo(m):\n",
        "    tuples = zip(m.row, m.col, m.data)\n",
        "    return sorted(tuples, key=lambda x: (x[0], x[2]),reverse=True)[:40]\n",
        "\n",
        "all_qs=pd.DataFrame(all_qs)\n",
        "print ('some samples')\n",
        "print ('------------')\n",
        "\n",
        "submit=[]\n",
        "for xi in range(int(len(train_qs)+len(test_qs)/2),len(all_qs)):\n",
        "    pos2=len(train)\n",
        "    corr= tf_idf_matrix[xi:xi+1].dot(tf_idf_matrix[xi-len(test):xi-len(test)+1].T)     \n",
        "    if (xi/500)==round(xi/500,0):\n",
        "        print(corr,all_qs.iloc[xi],all_qs.iloc[xi-len(test)])\n",
        "\n",
        "    submit.append(corr.todense().item())\n",
        "submit=pd.DataFrame(submit)  \n",
        "submit.to_csv('simpletfidf.csv')\n",
        "end = time.clock()\n",
        "print('submission:',end-start)"
      ]
    }
  ],
  "metadata": {
    "_change_revision": 0,
    "_is_fork": false,
    "kernelspec": {
      "display_name": "Python 3",
      "language": "python",
      "name": "python3"
    },
    "language_info": {
      "codemirror_mode": {
        "name": "ipython",
        "version": 3
      },
      "file_extension": ".py",
      "mimetype": "text/x-python",
      "name": "python",
      "nbconvert_exporter": "python",
      "pygments_lexer": "ipython3",
      "version": "3.6.0"
    }
  },
  "nbformat": 4,
  "nbformat_minor": 0
}