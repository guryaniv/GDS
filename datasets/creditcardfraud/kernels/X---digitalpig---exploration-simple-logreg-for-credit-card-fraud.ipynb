{
  "cells": [
    {
      "cell_type": "code",
      "execution_count": null,
      "metadata": {
        "_cell_guid": "41ed9316-558e-fc20-ec34-c0acf55b8610"
      },
      "outputs": [],
      "source": [
        "# This Python 3 environment comes with many helpful analytics libraries installed\n",
        "# It is defined by the kaggle/python docker image: https://github.com/kaggle/docker-python\n",
        "# For example, here's several helpful packages to load in \n",
        "\n",
        "import numpy as np # linear algebra\n",
        "import pandas as pd # data processing, CSV file I/O (e.g. pd.read_csv)\n",
        "\n",
        "# Input data files are available in the \"../input/\" directory.\n",
        "# For example, running this (by clicking run or pressing Shift+Enter) will list the files in the input directory\n",
        "\n",
        "from subprocess import check_output\n",
        "print(check_output([\"ls\", \"../input\"]).decode(\"utf8\"))\n",
        "\n",
        "# Any results you write to the current directory are saved as output."
      ]
    },
    {
      "cell_type": "code",
      "execution_count": null,
      "metadata": {
        "_cell_guid": "c7a3dd88-4b52-5420-3c57-419ca9d86399"
      },
      "outputs": [],
      "source": [
        "cc_data = pd.read_csv('../input/creditcard.csv')\n",
        "cc_data.head()"
      ]
    },
    {
      "cell_type": "code",
      "execution_count": null,
      "metadata": {
        "_cell_guid": "f0c08b62-861c-2e78-1f1c-aced6d38f33d"
      },
      "outputs": [],
      "source": [
        "cc_data['Amount'].describe()"
      ]
    },
    {
      "cell_type": "code",
      "execution_count": null,
      "metadata": {
        "_cell_guid": "6cb09e1f-6643-535f-c46f-f9edc9cffe34"
      },
      "outputs": [],
      "source": [
        "# Let's check the amount for both normal and fraud transactions\n",
        "cc_data[cc_data['Class'] == 0]['Amount'].describe()"
      ]
    },
    {
      "cell_type": "code",
      "execution_count": null,
      "metadata": {
        "_cell_guid": "361e4e40-9722-1e9c-998d-01426b772703"
      },
      "outputs": [],
      "source": [
        "cc_data[cc_data['Class'] == 1]['Amount'].describe()"
      ]
    },
    {
      "cell_type": "code",
      "execution_count": null,
      "metadata": {
        "_cell_guid": "27d80c8d-335d-101b-82b6-ffa691e0d3db"
      },
      "outputs": [],
      "source": [
        "cc_data['Time'].hist()"
      ]
    },
    {
      "cell_type": "code",
      "execution_count": null,
      "metadata": {
        "_cell_guid": "a5d9977f-8d88-d5a0-9193-7dad76fd5d74"
      },
      "outputs": [],
      "source": [
        "from sklearn.cross_validation import train_test_split, KFold, StratifiedShuffleSplit\n",
        "from sklearn.linear_model import LogisticRegression, LogisticRegressionCV, SGDClassifier\n",
        "from sklearn.metrics import confusion_matrix, classification_report, roc_auc_score, roc_curve, precision_recall_curve"
      ]
    },
    {
      "cell_type": "code",
      "execution_count": null,
      "metadata": {
        "_cell_guid": "a3e8ea27-7fad-8087-9111-73f216faa18d"
      },
      "outputs": [],
      "source": [
        "shuffle_index = StratifiedShuffleSplit(cc_data['Class'], 1, test_size=0.15)\n",
        "for train_index, test_index in shuffle_index:\n",
        "    credit_train = cc_data.iloc[train_index,:30]\n",
        "    credit_test = cc_data.iloc[test_index, :30]\n",
        "    status_train = cc_data.iloc[train_index,30]\n",
        "    status_test = cc_data.iloc[test_index,30]"
      ]
    },
    {
      "cell_type": "code",
      "execution_count": null,
      "metadata": {
        "_cell_guid": "f6157949-bb80-6997-38f2-7043e785c379"
      },
      "outputs": [],
      "source": [
        "model1 = LogisticRegressionCV(scoring = 'roc_auc', class_weight='balanced')\n",
        "model1.fit(credit_train, status_train)"
      ]
    },
    {
      "cell_type": "code",
      "execution_count": null,
      "metadata": {
        "_cell_guid": "70915728-d50e-9b1c-f295-1067d372dd68"
      },
      "outputs": [],
      "source": [
        "predict_result=model1.predict(credit_test)"
      ]
    },
    {
      "cell_type": "code",
      "execution_count": null,
      "metadata": {
        "_cell_guid": "17ad88f2-a9d8-383b-1e2d-ddd35e0012ee"
      },
      "outputs": [],
      "source": [
        "print(classification_report(status_test, predict_result))"
      ]
    },
    {
      "cell_type": "code",
      "execution_count": null,
      "metadata": {
        "_cell_guid": "ae53f38b-e2cc-c0e0-3532-754a06cd7e74"
      },
      "outputs": [],
      "source": [
        "print(pd.DataFrame(confusion_matrix(status_test, predict_result), index=['Actual Healthy', 'Actual Default'], \n",
        "                   columns = ['Pred. Healthy', 'Pred. Default']))\n",
        "print('Area under the curve is',roc_auc_score(status_test, predict_result))\n"
      ]
    }
  ],
  "metadata": {
    "_change_revision": 0,
    "_is_fork": false,
    "kernelspec": {
      "display_name": "Python 3",
      "language": "python",
      "name": "python3"
    },
    "language_info": {
      "codemirror_mode": {
        "name": "ipython",
        "version": 3
      },
      "file_extension": ".py",
      "mimetype": "text/x-python",
      "name": "python",
      "nbconvert_exporter": "python",
      "pygments_lexer": "ipython3",
      "version": "3.5.2"
    }
  },
  "nbformat": 4,
  "nbformat_minor": 0
}