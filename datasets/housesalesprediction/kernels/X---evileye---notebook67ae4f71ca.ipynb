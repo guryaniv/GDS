{
  "cells": [
    {
      "cell_type": "markdown",
      "metadata": {
        "_cell_guid": "d25ec589-3d1b-cdcc-2cd4-23d87e356857"
      },
      "source": [
        "House Sales Discussion"
      ]
    },
    {
      "cell_type": "code",
      "execution_count": null,
      "metadata": {
        "_cell_guid": "2d04aeb8-afe4-ba24-0699-7cb1658ed5a3"
      },
      "outputs": [],
      "source": [
        "# This Python 3 environment comes with many helpful analytics libraries installed\n",
        "# It is defined by the kaggle/python docker image: https://github.com/kaggle/docker-python\n",
        "# For example, here's several helpful packages to load in \n",
        "\n",
        "import numpy as np # linear algebra\n",
        "import pandas as pd # data processing, CSV file I/O (e.g. pd.read_csv)\n",
        "\n",
        "# Input data files are available in the \"../input/\" directory.\n",
        "# For example, running this (by clicking run or pressing Shift+Enter) will list the files in the input directory\n",
        "\n",
        "from subprocess import check_output\n",
        "print(check_output([\"ls\", \"../input\"]).decode(\"utf8\"))\n",
        "\n",
        "# Any results you write to the current directory are saved as output."
      ]
    },
    {
      "cell_type": "code",
      "execution_count": null,
      "metadata": {
        "_cell_guid": "b36bdb41-ff74-6b20-727f-a90f1c03e5c3"
      },
      "outputs": [],
      "source": [
        "data = pd.read_csv(\"../input/kc_house_data.csv\")"
      ]
    },
    {
      "cell_type": "code",
      "execution_count": null,
      "metadata": {
        "_cell_guid": "8a285366-96f1-15fb-d999-b61d970c7076"
      },
      "outputs": [],
      "source": [
        "data.head(5)"
      ]
    },
    {
      "cell_type": "code",
      "execution_count": null,
      "metadata": {
        "_cell_guid": "a3eb0b52-2564-85d5-005b-20fe17a3324b"
      },
      "outputs": [],
      "source": [
        "data.info()"
      ]
    },
    {
      "cell_type": "code",
      "execution_count": null,
      "metadata": {
        "_cell_guid": "717a3bf1-11f0-b325-a20a-9241e8fd2aea"
      },
      "outputs": [],
      "source": [
        "data.describe()"
      ]
    },
    {
      "cell_type": "code",
      "execution_count": null,
      "metadata": {
        "_cell_guid": "c32c903f-8a06-a889-cf0a-5eb26d42894e"
      },
      "outputs": [],
      "source": [
        "import matplotlib.pyplot as plt\n",
        "import seaborn as sns\n",
        "from sklearn.linear_model import LinearRegression\n",
        "from sklearn.linear_model import Ridge\n",
        "from sklearn.linear_model import Lasso\n",
        "from sklearn.model_selection import train_test_split\n",
        "from sklearn.preprocessing import StandardScaler\n",
        "#from sklearn_pandas import DataFrameMapper\n",
        "from sklearn.tree import DecisionTreeClassifier\n",
        "from sklearn.ensemble import RandomForestClassifier\n",
        "from sklearn.metrics import (r2_score, mean_squared_error)"
      ]
    },
    {
      "cell_type": "code",
      "execution_count": null,
      "metadata": {
        "_cell_guid": "15bb7e6f-8d5a-1e82-2a8c-dea6c8ac6d78"
      },
      "outputs": [],
      "source": [
        "data[\"date\"] = pd.to_datetime(data[\"date\"],yearfirst=True)"
      ]
    },
    {
      "cell_type": "code",
      "execution_count": null,
      "metadata": {
        "_cell_guid": "92cc7d07-114f-44f0-ccc9-a86d74d0ea12"
      },
      "outputs": [],
      "source": [
        "data.head(5)"
      ]
    },
    {
      "cell_type": "code",
      "execution_count": null,
      "metadata": {
        "_cell_guid": "3b4cb037-b3e2-bdc8-ca30-871366893a0b"
      },
      "outputs": [],
      "source": [
        "y = data[\"price\"]\n",
        "date = data[\"date\"]\n",
        "X = data.drop([\"id\",\"price\",\"date\"],axis=1)\n",
        "X.columns"
      ]
    },
    {
      "cell_type": "code",
      "execution_count": null,
      "metadata": {
        "_cell_guid": "3e609285-6e98-ff7f-ab93-9305842cef4b"
      },
      "outputs": [],
      "source": [
        "#mapper = DataFrameMapper([(X.columns,StandardScaler())])\n",
        "#mapper1 = mapper.fit_transform(X.copy(),18) \n",
        "#X = pd.DataFrame(mapper1, index=X.index,columns=X.columns)\n",
        "#X[\"date\"]  = date\n",
        "#X.head(5)"
      ]
    },
    {
      "cell_type": "code",
      "execution_count": null,
      "metadata": {
        "_cell_guid": "053b29c6-1f35-fffe-d6dc-e71058b2a2e0"
      },
      "outputs": [],
      "source": [
        "X_t, X_test, y_t, y_test = train_test_split(X, y, test_size = 0.2, random_state = 42)\n",
        "X_train, X_cv, y_train, y_cv = train_test_split(X_t, y_t, test_size = 0.2, random_state = 42)"
      ]
    },
    {
      "cell_type": "code",
      "execution_count": null,
      "metadata": {
        "_cell_guid": "0c9adc97-bb26-7381-d45b-77e43b03e0ae"
      },
      "outputs": [],
      "source": [
        "model = LinearRegression(normalize=True)\n",
        "model.fit(X_train, y_train)\n",
        "pred = model.predict(X_cv)\n",
        "print(\"r2_score: \")\n",
        "print(r2_score(y_cv, pred))\n",
        "print(\"mean_Squared_error: \")\n",
        "print(mean_squared_error(y_cv, pred))\n",
        "# The coefficients\n",
        "print('Coefficients: \\n', model.coef_)\n",
        "# The mean squared error\n",
        "print(\"Mean squared error: %.2f\"\n",
        "      % np.mean((model.predict(X_cv) - y_cv) ** 2))\n",
        "# Explained variance score: 1 is perfect prediction\n",
        "print('Variance score: %.2f' % model.score(X_cv, y_cv))"
      ]
    },
    {
      "cell_type": "code",
      "execution_count": null,
      "metadata": {
        "_cell_guid": "085575f4-ddca-25df-5f51-1dc9efe230e3"
      },
      "outputs": [],
      "source": [
        "X.corr()"
      ]
    },
    {
      "cell_type": "code",
      "execution_count": null,
      "metadata": {
        "_cell_guid": "1d0efbd5-a0f3-ebe3-ebc1-46a6d339cb8d"
      },
      "outputs": [],
      "source": [
        "corr = X.corr()\n",
        "sns.heatmap(corr, xticklabels=corr.columns.values, yticklabels = corr.columns.values)"
      ]
    },
    {
      "cell_type": "code",
      "execution_count": null,
      "metadata": {
        "_cell_guid": "76ce8d0c-0842-a5d6-ccc5-3a5c8ef2f0f9"
      },
      "outputs": [],
      "source": [
        "X.corrwith(y)"
      ]
    },
    {
      "cell_type": "code",
      "execution_count": null,
      "metadata": {
        "_cell_guid": "847af9e2-974d-6390-206c-8be59d7102b3"
      },
      "outputs": [],
      "source": [
        "model.intercept_"
      ]
    },
    {
      "cell_type": "code",
      "execution_count": null,
      "metadata": {
        "_cell_guid": "fb315c57-55a1-0605-ac17-25bf8b066b28"
      },
      "outputs": [],
      "source": [
        "model.coef_"
      ]
    },
    {
      "cell_type": "code",
      "execution_count": null,
      "metadata": {
        "_cell_guid": "43a62f8b-7e24-499c-8186-3ec933121d28"
      },
      "outputs": [],
      "source": [
        "new_features = [\"bathrooms\", \"sqft_living\", \"floors\", \"waterfront\",\"view\", \"condition\", \"grade\",\"sqft_above\",\"sqft_basement\", \"yr_renovated\", \"lat\",\"sqft_living15\"]\n",
        "X.columns"
      ]
    },
    {
      "cell_type": "code",
      "execution_count": null,
      "metadata": {
        "_cell_guid": "23b73f59-9b67-f215-898c-056f748e5822"
      },
      "outputs": [],
      "source": [
        "#model = LinearRegression(normalize=True)\n",
        "model.fit(X_train[new_features], y_train)\n",
        "pred = model.predict(X_cv[new_features])\n",
        "print(\"r2_score: \")\n",
        "print(r2_score(y_cv, pred))\n",
        "print(\"mean_Squared_error: \")\n",
        "print(mean_squared_error(y_cv, pred))"
      ]
    },
    {
      "cell_type": "code",
      "execution_count": null,
      "metadata": {
        "_cell_guid": "9ed8a1c3-fc87-cd36-d672-4dcc5a4d4be8"
      },
      "outputs": [],
      "source": [
        "for col in X.columns:\n",
        "    print(X.groupby(col).size())\n",
        "    print()"
      ]
    },
    {
      "cell_type": "code",
      "execution_count": null,
      "metadata": {
        "_cell_guid": "f24f1e2a-6172-4f0e-d988-797d0edf7e05"
      },
      "outputs": [],
      "source": [
        "X.T.apply(lambda x: x.nunique(), axis=1)"
      ]
    },
    {
      "cell_type": "code",
      "execution_count": null,
      "metadata": {
        "_cell_guid": "fafadc88-c387-4a17-8ec7-99ed5d116c9e"
      },
      "outputs": [],
      "source": [
        "new_features = [\"bedrooms\",\"bathrooms\", \"floors\",\"view\", \"condition\", \"grade\",\"yr_built\",\"sqft_basement\", \"yr_renovated\",\"zipcode\"]\n",
        "model.fit(X_train[new_features], y_train)\n",
        "pred = model.predict(X_cv[new_features])\n",
        "print(\"r2_score: \")\n",
        "print(r2_score(y_cv, pred))\n",
        "print(\"mean_Squared_error: \")\n",
        "print(mean_squared_error(y_cv, pred))"
      ]
    },
    {
      "cell_type": "code",
      "execution_count": null,
      "metadata": {
        "_cell_guid": "0081f513-0cce-9327-70c5-6a540e754e31"
      },
      "outputs": [],
      "source": [
        "new_features = [\"bedrooms\",\"bathrooms\", \"waterfront\",\"floors\",\"view\", \"condition\", \"grade\",\"yr_built\",\"sqft_basement\", \"yr_renovated\",\"zipcode\"]\n",
        "model.fit(X_train[new_features], y_train)\n",
        "pred = model.predict(X_cv[new_features])\n",
        "print(\"r2_score: \")\n",
        "print(r2_score(y_cv, pred))\n",
        "print(\"mean_Squared_error: \")\n",
        "print(mean_squared_error(y_cv, pred))"
      ]
    },
    {
      "cell_type": "code",
      "execution_count": null,
      "metadata": {
        "_cell_guid": "ffcd8c04-3765-0593-b593-e2973485e202"
      },
      "outputs": [],
      "source": [
        "X.columns"
      ]
    },
    {
      "cell_type": "code",
      "execution_count": null,
      "metadata": {
        "_cell_guid": "628c896b-b1e1-403f-eee7-0d8b7a668297"
      },
      "outputs": [],
      "source": ""
    }
  ],
  "metadata": {
    "_change_revision": 0,
    "_is_fork": false,
    "kernelspec": {
      "display_name": "Python 3",
      "language": "python",
      "name": "python3"
    },
    "language_info": {
      "codemirror_mode": {
        "name": "ipython",
        "version": 3
      },
      "file_extension": ".py",
      "mimetype": "text/x-python",
      "name": "python",
      "nbconvert_exporter": "python",
      "pygments_lexer": "ipython3",
      "version": "3.6.0"
    }
  },
  "nbformat": 4,
  "nbformat_minor": 0
}