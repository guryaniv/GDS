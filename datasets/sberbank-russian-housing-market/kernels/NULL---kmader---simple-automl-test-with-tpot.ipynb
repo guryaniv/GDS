{
  "cells": [
    {
      "cell_type": "markdown",
      "metadata": {
        "_cell_guid": "d9cbb817-fc15-925d-83a5-728ce9249df5"
      },
      "source": [
        "A quick test to see how AutoML works with large regression problems like housing prices"
      ]
    },
    {
      "cell_type": "code",
      "execution_count": null,
      "metadata": {
        "_cell_guid": "24797fc1-4def-e61a-a48d-b429a0c4e060"
      },
      "outputs": [],
      "source": [
        "import os\n",
        "import pandas as pd\n",
        "import numpy as np\n",
        "from tpot import TPOTRegressor\n",
        "tpot_settings = dict(verbosity=2, random_state = 1234, scoring = 'mean_absolute_error', warm_start = True)\n",
        "REG_COLUMN = 'price_doc'\n",
        "TINY_TEST = True"
      ]
    },
    {
      "cell_type": "code",
      "execution_count": null,
      "metadata": {
        "_cell_guid": "fe035377-711d-7ba6-4b27-8b22a0b706c8"
      },
      "outputs": [],
      "source": [
        "macro_df = pd.read_csv(os.path.join('..', 'input', 'macro.csv'))\n",
        "def read_house_df(fname):\n",
        "    in_df = pd.read_csv(os.path.join('..', 'input', fname))\n",
        "    if TINY_TEST:\n",
        "        return in_df\n",
        "    return in_df.merge(macro_df, on = 'timestamp')\n",
        "\n",
        "train_df = read_house_df('train.csv')\n",
        "test_df = read_house_df('test.csv')\n",
        "print('Training set loaded:', train_df.shape)\n",
        "train_df.sample(3)"
      ]
    },
    {
      "cell_type": "code",
      "execution_count": null,
      "metadata": {
        "_cell_guid": "fea0cfb2-2128-638c-2657-512baa2007c1"
      },
      "outputs": [],
      "source": [
        "# get an idea of the variable types\n",
        "train_df.apply(lambda x: type(x.values[0]),0)"
      ]
    },
    {
      "cell_type": "markdown",
      "metadata": {
        "_cell_guid": "fafb2e7e-2b3d-4f47-2c87-1e1f327f40ea"
      },
      "source": [
        "# Using TPOT\n",
        "To make use of TPOT we have to remove the non-numeric (string, date, etc) columns and remove the ones that have NAs or missing values. We can then build and cross-validate a model using the standard tool"
      ]
    },
    {
      "cell_type": "code",
      "execution_count": null,
      "metadata": {
        "_cell_guid": "3289d10b-6fc2-4b21-4f83-6297669262f1"
      },
      "outputs": [],
      "source": [
        "%%time\n",
        "auto_reg = TPOTRegressor(generations=2, population_size=5, **tpot_settings)\n",
        "if TINY_TEST:\n",
        "    auto_reg = TPOTRegressor(generations=1, population_size=3, **tpot_settings)\n",
        "X_df = train_df[[ccol for ccol in train_df.columns if (ccol not in ['id'])]].select_dtypes(include=[np.number]).dropna(1)\n",
        "if TINY_TEST:\n",
        "    X_df = X_df.sample(5000)\n",
        "print('fitting:', X_df.shape)\n",
        "auto_reg.fit(X_df.drop(REG_COLUMN,1), X_df[REG_COLUMN])"
      ]
    },
    {
      "cell_type": "code",
      "execution_count": null,
      "metadata": {
        "_cell_guid": "a37b7f9a-07ac-dea8-6cfb-dd6726476942"
      },
      "outputs": [],
      "source": [
        "test_feat_df = test_df[['id']+list(X_df.drop(REG_COLUMN,1).columns)].dropna(0)\n",
        "guess_df = test_feat_df[['id']]\n",
        "print('Test size', test_df.shape, '->', test_feat_df.shape)\n",
        "guess_df[REG_COLUMN] = auto_reg.predict(test_feat_df.drop('id',1))\n",
        "guess_df.sample(3)"
      ]
    },
    {
      "cell_type": "code",
      "execution_count": null,
      "metadata": {
        "_cell_guid": "603b298f-30c8-9efe-4ec9-d17001eb9a70"
      },
      "outputs": [],
      "source": [
        "guess_df.to_csv('guess.csv', index = False)"
      ]
    },
    {
      "cell_type": "code",
      "execution_count": null,
      "metadata": {
        "_cell_guid": "3b53f933-9a8f-87f8-d9a4-509f8e170d01"
      },
      "outputs": [],
      "source": [
        ""
      ]
    }
  ],
  "metadata": {
    "_change_revision": 0,
    "_is_fork": false,
    "kernelspec": {
      "display_name": "Python 3",
      "language": "python",
      "name": "python3"
    },
    "language_info": {
      "codemirror_mode": {
        "name": "ipython",
        "version": 3
      },
      "file_extension": ".py",
      "mimetype": "text/x-python",
      "name": "python",
      "nbconvert_exporter": "python",
      "pygments_lexer": "ipython3",
      "version": "3.6.0"
    }
  },
  "nbformat": 4,
  "nbformat_minor": 0
}