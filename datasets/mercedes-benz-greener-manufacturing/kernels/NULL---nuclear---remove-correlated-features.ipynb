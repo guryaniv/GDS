{
  "cells": [
    {
      "cell_type": "markdown",
      "metadata": {
        "_cell_guid": "e00a1129-260a-0f05-a107-f87dc3339efb"
      },
      "source": [
        "This notebook is based on [this one][1]\n",
        "\n",
        "**Objective:**\n",
        "\n",
        "This dataset contains an anonymized set of variables that describe different Mercedes cars. The ground truth is labeled 'y' and represents the time (in seconds) that the car took to pass testing. \n",
        "\n",
        "Let us first import the necessary modules.\n",
        "\n",
        "\n",
        "  [1]: https://www.kaggle.com/sudalairajkumar/simple-exploration-notebook-mercedes"
      ]
    },
    {
      "cell_type": "code",
      "execution_count": null,
      "metadata": {
        "_cell_guid": "cac8ab5a-a33e-c46f-27dd-0b1f89021168"
      },
      "outputs": [],
      "source": [
        "import numpy as np # linear algebra\n",
        "import pandas as pd # data processing, CSV file I/O (e.g. pd.read_csv)\n",
        "import matplotlib.pyplot as plt\n",
        "import seaborn as sns\n",
        "color = sns.color_palette()\n",
        "\n",
        "%matplotlib inline\n",
        "\n",
        "from itertools import chain\n",
        "from sklearn import preprocessing, ensemble\n",
        "\n",
        "\n",
        "pd.options.mode.chained_assignment = None  # default='warn'\n",
        "pd.options.display.max_columns = 999\n",
        "\n",
        "from subprocess import check_output\n",
        "print(check_output([\"ls\", \"../input\"]).decode(\"utf8\"))"
      ]
    },
    {
      "cell_type": "code",
      "execution_count": null,
      "metadata": {
        "_cell_guid": "ffdd9e11-887e-ab64-1c32-09e500ba8dfb"
      },
      "outputs": [],
      "source": [
        "train_df = pd.read_csv(\"../input/train.csv\")\n",
        "test_df = pd.read_csv(\"../input/test.csv\")\n",
        "print(\"Train shape : \", train_df.shape)\n",
        "print(\"Test shape : \", test_df.shape)"
      ]
    },
    {
      "cell_type": "code",
      "execution_count": null,
      "metadata": {
        "_cell_guid": "a9339026-0f5a-6351-5b62-fea9ac82b466"
      },
      "outputs": [],
      "source": [
        "\n",
        "train_df.head()"
      ]
    },
    {
      "cell_type": "code",
      "execution_count": null,
      "metadata": {
        "_cell_guid": "c7cb2b1d-9a76-db77-f553-8814804eaab7"
      },
      "outputs": [],
      "source": [
        "plt.figure(figsize=(8,6))\n",
        "plt.scatter(range(train_df.shape[0]), np.sort(train_df.y.values))\n",
        "plt.xlabel('index', fontsize=12)\n",
        "plt.ylabel('y', fontsize=12)\n",
        "plt.show()"
      ]
    },
    {
      "cell_type": "markdown",
      "metadata": {
        "_cell_guid": "f27cdbbd-772c-3474-81f6-a01f8955e320"
      },
      "source": [
        ""
      ]
    },
    {
      "cell_type": "code",
      "execution_count": null,
      "metadata": {
        "_cell_guid": "952896bc-65ac-b93e-8fd3-2a9c649b01dd"
      },
      "outputs": [],
      "source": [
        "plt.figure(figsize=(12,8))\n",
        "plt.hist(train_df.y.values, bins=50)\n",
        "plt.xlabel('y value', fontsize=12)\n",
        "plt.show()\n"
      ]
    },
    {
      "cell_type": "code",
      "execution_count": null,
      "metadata": {
        "_cell_guid": "e245bbcf-391a-c9dd-48b2-0ddddf7ba089"
      },
      "outputs": [],
      "source": [
        "plt.figure(figsize=(12,8))\n",
        "plt.hist(train_df.y.values, bins=50,log=True )\n",
        "plt.xlabel('y value', fontsize=12)\n",
        "plt.show()"
      ]
    },
    {
      "cell_type": "code",
      "execution_count": null,
      "metadata": {
        "_cell_guid": "dcad9985-b742-5d08-8689-5e7c0e8e6ff1"
      },
      "outputs": [],
      "source": [
        "dtype_df = train_df.dtypes.reset_index()\n",
        "dtype_df.columns = [\"Count\", \"Column Type\"]\n",
        "dtype_df.groupby(\"Column Type\").aggregate('count').reset_index()"
      ]
    },
    {
      "cell_type": "code",
      "execution_count": null,
      "metadata": {
        "_cell_guid": "1745eeac-49f9-0bd3-791d-3c34973e4403"
      },
      "outputs": [],
      "source": [
        "dtype_df.ix[:10,:]"
      ]
    },
    {
      "cell_type": "code",
      "execution_count": null,
      "metadata": {
        "_cell_guid": "d306b377-b429-003b-73c0-6b64b9eb410e"
      },
      "outputs": [],
      "source": [
        "missing_df = train_df.isnull().sum(axis=0).reset_index()\n",
        "missing_df.columns = ['column_name', 'missing_count']\n",
        "missing_df = missing_df.ix[missing_df['missing_count']>0]\n",
        "missing_df"
      ]
    },
    {
      "cell_type": "code",
      "execution_count": null,
      "metadata": {
        "_cell_guid": "45c4251e-d036-ec95-9bc5-951934e5ce93"
      },
      "outputs": [],
      "source": [
        "unique_values_dict = {}\n",
        "for col in train_df.columns:\n",
        "    if col not in [\"ID\", \"y\", \"X0\", \"X1\", \"X2\", \"X3\", \"X4\", \"X5\", \"X6\", \"X8\"]:\n",
        "        unique_value = str(np.sort(train_df[col].unique()).tolist())\n",
        "        tlist = unique_values_dict.get(unique_value, [])\n",
        "        tlist.append(col)\n",
        "        unique_values_dict[unique_value] = tlist[:]\n",
        "for unique_val, columns in unique_values_dict.items():\n",
        "    print(\"Columns containing the unique values : \",unique_val)\n",
        "    print(columns)\n",
        "    print(\"--------------------------------------------------\")\n",
        "        "
      ]
    },
    {
      "cell_type": "code",
      "execution_count": null,
      "metadata": {
        "_cell_guid": "0dd44ce6-3c7e-f3c7-992c-4d5dd0db6192"
      },
      "outputs": [],
      "source": [
        "correlation_threshold = 0.99 # can be switched. Default value 0.99\n",
        "\n",
        "train_integer = train_df.drop([\"ID\",\t\"y\",\t\"X0\",\t\"X1\",\t\"X2\",\t\"X3\",\t\"X4\",\t\"X5\",\n",
        "                               \"X6\",\t\"X8\"],axis=1)\n",
        "\n",
        "cor = train_integer.corr()\n",
        "cor.loc[:,:] =  np.tril(cor, k=-1)\n",
        "cor = cor.stack()\n",
        "correlated = cor[cor > correlation_threshold].reset_index().loc[:,['level_0','level_1']]\n",
        "correlated = correlated.query('level_0 not in level_1')\n",
        "correlated_array =  correlated.groupby('level_0').agg(lambda x: set(chain(x.level_0,x.level_1))).values\n",
        "correlated_array"
      ]
    },
    {
      "cell_type": "code",
      "execution_count": null,
      "metadata": {
        "_cell_guid": "f340aa85-63fb-60ec-f511-bedc33f0fc17"
      },
      "outputs": [],
      "source": [
        "correlated_features = []\n",
        "for sets in correlated_array:\n",
        "    element_list = list(sets[0])\n",
        "    for idx, el in enumerate(element_list):\n",
        "        if idx is not 0:\n",
        "            correlated_features.append(el)\n",
        "correlated_features.sort(key = lambda x: int(x[1:]) )\n",
        "print (correlated_features)"
      ]
    },
    {
      "cell_type": "code",
      "execution_count": null,
      "metadata": {
        "_cell_guid": "04910137-e461-b894-99fb-0a825ecfdb2d"
      },
      "outputs": [],
      "source": [
        "non_cor_train_df = train_df.drop(correlated_features, axis=1 )\n",
        "non_cor_train_df.shape"
      ]
    },
    {
      "cell_type": "code",
      "execution_count": null,
      "metadata": {
        "_cell_guid": "0dac20e1-8026-acce-55c9-b2b4ec6d20d7"
      },
      "outputs": [],
      "source": [
        "non_cor_train_df.head()"
      ]
    },
    {
      "cell_type": "code",
      "execution_count": null,
      "metadata": {
        "_cell_guid": "2c9df1a2-56d2-032c-5c00-404208e481b9"
      },
      "outputs": [],
      "source": [
        "non_cor_test_df = test_df.drop(correlated_features, axis=1 )\n",
        "non_cor_test_df.shape"
      ]
    },
    {
      "cell_type": "code",
      "execution_count": null,
      "metadata": {
        "_cell_guid": "2628e523-63a9-d8ca-6482-3274b8440603"
      },
      "outputs": [],
      "source": [
        "categorical = [\"X0\",  \"X1\",  \"X2\", \"X3\", \"X4\",  \"X5\", \"X6\", \"X8\"]\n",
        "for f in categorical:\n",
        "        if non_cor_train_df[f].dtype=='object':\n",
        "            lbl = preprocessing.LabelEncoder()\n",
        "            lbl.fit(list(non_cor_train_df[f].values) + list(non_cor_test_df[f].values))\n",
        "            non_cor_train_df[f] = lbl.transform(list(non_cor_train_df[f].values))\n",
        "            non_cor_test_df[f] = lbl.transform(list(non_cor_test_df[f].values))\n",
        "non_cor_train_df.head()"
      ]
    },
    {
      "cell_type": "code",
      "execution_count": null,
      "metadata": {
        "_cell_guid": "93ae84af-aff5-39b6-39ac-4c8e81b1ea3e"
      },
      "outputs": [],
      "source": [
        "from sklearn.decomposition import PCA\n",
        "pca2 = PCA(n_components=2)\n",
        "pca2_results = pca2.fit_transform(non_cor_train_df.drop([\"y\"], axis=1))"
      ]
    },
    {
      "cell_type": "code",
      "execution_count": null,
      "metadata": {
        "_cell_guid": "dbf03722-2e4a-bb74-37f9-647d89390dfc"
      },
      "outputs": [],
      "source": [
        "cmap = sns.cubehelix_palette(n_colors=10,as_cmap=True)\n",
        "f, ax = plt.subplots(figsize=(20,15))\n",
        "points = ax.scatter(pca2_results[:,0], pca2_results[:,1], c=non_cor_train_df.y, s=50, cmap=cmap)\n",
        "f.colorbar(points)\n",
        "plt.show()"
      ]
    },
    {
      "cell_type": "code",
      "execution_count": null,
      "metadata": {
        "_cell_guid": "7c711cf1-2321-ac6b-c871-8335fd3c4b60"
      },
      "outputs": [],
      "source": [
        "from sklearn.decomposition import PCA\n",
        "pca2 = PCA(n_components=5)\n",
        "pca2_results = pca2.fit_transform(non_cor_train_df.drop([\"y\", \"ID\"], axis=1))\n",
        "non_cor_train_df['pca0']=pca2_results[:,0]\n",
        "non_cor_train_df['pca1']=pca2_results[:,1]\n",
        "non_cor_train_df['pca2']=pca2_results[:,2]\n",
        "non_cor_train_df['pca3']=pca2_results[:,3]\n",
        "non_cor_train_df['pca4']=pca2_results[:,4]\n",
        "pca2_results = pca2.transform(non_cor_test_df.drop([\"ID\"], axis=1))\n",
        "non_cor_test_df['pca0']=pca2_results[:,0]\n",
        "non_cor_test_df['pca1']=pca2_results[:,1]\n",
        "non_cor_test_df['pca2']=pca2_results[:,2]\n",
        "non_cor_test_df['pca3']=pca2_results[:,3]\n",
        "non_cor_test_df['pca4']=pca2_results[:,4]"
      ]
    },
    {
      "cell_type": "code",
      "execution_count": null,
      "metadata": {
        "_cell_guid": "d5672ba2-f236-08b3-eea9-22e803f3eed0"
      },
      "outputs": [],
      "source": [
        "usable_columns = list(set(non_cor_train_df.columns) - set(['ID', 'y']))\n",
        "usable_columns.sort(key = lambda x: int(x[1:]) if x[0]==\"X\" else int(x[len(\"pca\"):]))\n",
        "\n",
        "y_train = non_cor_train_df['y'].values\n",
        "id_test = non_cor_test_df['ID'].values\n",
        "\n",
        "x_train = non_cor_train_df[usable_columns]\n",
        "x_test = non_cor_test_df[usable_columns]"
      ]
    },
    {
      "cell_type": "code",
      "execution_count": null,
      "metadata": {
        "_cell_guid": "10664197-c159-51bf-8bed-c94f00764061"
      },
      "outputs": [],
      "source": [
        "x_train.head()"
      ]
    },
    {
      "cell_type": "code",
      "execution_count": null,
      "metadata": {
        "_cell_guid": "0a03fd5a-bd7b-3682-cc78-f0b86ee5fe6d"
      },
      "outputs": [],
      "source": [
        "import xgboost as xgb\n",
        "from sklearn.metrics import r2_score\n",
        "from sklearn.cross_validation import train_test_split\n",
        "\n",
        "x_train, x_valid, y_train, y_valid = train_test_split(x_train, y_train, test_size=0.2, random_state=4242)\n",
        "\n",
        "d_train = xgb.DMatrix(x_train, label=y_train)\n",
        "d_valid = xgb.DMatrix(x_valid, label=y_valid)\n",
        "d_test = xgb.DMatrix(x_test)\n",
        "\n",
        "params = {}\n",
        "params['objective'] = 'reg:linear'\n",
        "params['eta'] = 0.02\n",
        "params['max_depth'] = 4\n",
        "params[\"subsample\"] = 0.95\n",
        "\n",
        "\n",
        "def xgb_r2_score(preds, dtrain):\n",
        "    labels = dtrain.get_label()\n",
        "    return 'r2', r2_score(labels, preds)\n",
        "\n",
        "watchlist = [(d_train, 'train'), (d_valid, 'valid')]\n",
        "\n",
        "clf = xgb.train(params, d_train, 1000, watchlist, early_stopping_rounds=50, feval=xgb_r2_score, maximize=True, \n",
        "                verbose_eval=10)"
      ]
    },
    {
      "cell_type": "code",
      "execution_count": null,
      "metadata": {
        "_cell_guid": "b0b220b3-00d7-a6c7-7a72-d546b56a917b"
      },
      "outputs": [],
      "source": [
        "p_test = clf.predict(d_test)\n",
        "\n",
        "sub = pd.DataFrame()\n",
        "sub['ID'] = id_test\n",
        "sub['y'] = p_test\n",
        "sub.to_csv('simple_xgb_pca_1.csv', index=False)"
      ]
    },
    {
      "cell_type": "code",
      "execution_count": null,
      "metadata": {
        "_cell_guid": "159ae1c4-0c11-42b4-ca85-5f19f9059bf0"
      },
      "outputs": [],
      "source": [
        "sub.head()"
      ]
    },
    {
      "cell_type": "code",
      "execution_count": null,
      "metadata": {
        "_cell_guid": "79144e07-7327-299b-a477-6f4cb390eccb"
      },
      "outputs": [],
      "source": [
        "plt.figure(figsize=(8,6))\n",
        "plt.scatter(range(sub.shape[0]), np.sort(sub.y.values))\n",
        "plt.xlabel('index', fontsize=12)\n",
        "plt.ylabel('y', fontsize=12)\n",
        "plt.show()"
      ]
    },
    {
      "cell_type": "code",
      "execution_count": null,
      "metadata": {
        "_cell_guid": "c106669c-480b-2994-66a4-90dbd62ad0d6"
      },
      "outputs": [],
      "source": [
        "plt.figure(figsize=(12,8))\n",
        "plt.hist(sub.y.values, bins=50)\n",
        "plt.xlabel('y value', fontsize=12)\n",
        "plt.show()"
      ]
    },
    {
      "cell_type": "markdown",
      "metadata": {
        "_cell_guid": "47e9a2b2-7f79-e097-3a22-074426542d97"
      },
      "source": [
        "What do you think about my idea of reduction dimensionality?  \n",
        "Why my model is so overtrained?  \n",
        "Will be updated!"
      ]
    },
    {
      "cell_type": "code",
      "execution_count": null,
      "metadata": {
        "_cell_guid": "2f1479ea-568b-d699-8542-5cbbc8329d88"
      },
      "outputs": [],
      "source": [
        ""
      ]
    }
  ],
  "metadata": {
    "_change_revision": 0,
    "_is_fork": false,
    "kernelspec": {
      "display_name": "Python 3",
      "language": "python",
      "name": "python3"
    },
    "language_info": {
      "codemirror_mode": {
        "name": "ipython",
        "version": 3
      },
      "file_extension": ".py",
      "mimetype": "text/x-python",
      "name": "python",
      "nbconvert_exporter": "python",
      "pygments_lexer": "ipython3",
      "version": "3.6.0"
    }
  },
  "nbformat": 4,
  "nbformat_minor": 0
}