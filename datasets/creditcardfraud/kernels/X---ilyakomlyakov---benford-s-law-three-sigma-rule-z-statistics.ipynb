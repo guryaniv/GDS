{
  "cells": [
    {
      "cell_type": "markdown",
      "metadata": {
        "_cell_guid": "ae5eca29-1466-7d97-27e0-93c790845d0d"
      },
      "source": [
        "The idea of this Kernel is to test Amount data using statistical approaches."
      ]
    },
    {
      "cell_type": "code",
      "execution_count": null,
      "metadata": {
        "_cell_guid": "a171c1fa-b8af-b496-6eb3-1f13ffb72c45"
      },
      "outputs": [],
      "source": [
        "import pandas as pd\n",
        "import numpy as np\n",
        "import matplotlib.pyplot as plt\n",
        "import math\n",
        "import seaborn as sns\n",
        "%matplotlib inline"
      ]
    },
    {
      "cell_type": "markdown",
      "metadata": {
        "_cell_guid": "e2b53e3d-1d62-401b-ae31-efe41fd316fe"
      },
      "source": [
        "## Explore data ##"
      ]
    },
    {
      "cell_type": "code",
      "execution_count": null,
      "metadata": {
        "_cell_guid": "a4bf1e0d-4670-b3bf-8b86-d7ae021ef97b"
      },
      "outputs": [],
      "source": [
        "data = pd.read_csv('../input/creditcard.csv', header=0)"
      ]
    },
    {
      "cell_type": "code",
      "execution_count": null,
      "metadata": {
        "_cell_guid": "15c89ab4-7174-4664-c5f5-ffd94c9097d3"
      },
      "outputs": [],
      "source": [
        "#split to froud and legal\n",
        "data_f = data[data['Class'] == 1]\n",
        "data_l = data[data['Class'] == 0]\n",
        "\n",
        "fig = plt.figure(num=None, figsize=(11, 4))\n",
        "\n",
        "ax1 = fig.add_subplot(121)\n",
        "ax1.hist(data_f.Amount)\n",
        "ax1.title.set_text('Fraud')\n",
        "\n",
        "ax2 = fig.add_subplot(122)\n",
        "ax2.hist(data_l.Amount)\n",
        "ax2.title.set_text('Not Fraud')\n",
        "\n",
        "plt.tight_layout()\n",
        "plt.show()"
      ]
    },
    {
      "cell_type": "markdown",
      "metadata": {
        "_cell_guid": "d0b4616b-b2e4-e3ac-e53c-97b7b8faca7f"
      },
      "source": [
        "## Three-Sigma Rule ##"
      ]
    },
    {
      "cell_type": "code",
      "execution_count": null,
      "metadata": {
        "_cell_guid": "4146f96d-ccbf-ea4c-33a7-a45e05bc4f61"
      },
      "outputs": [],
      "source": [
        "amounts = data.Amount\n",
        "\n",
        "avg = np.average(amounts)\n",
        "stdev = np.std(amounts)\n",
        "print('Average for all Transactions =', avg)\n",
        "print('Standart devition for all Transactions =', stdev)\n",
        "data_3sigma = data[(data.Amount >= avg + 3 * stdev) | (data.Amount <= avg - 3 * stdev)]\n",
        "\n",
        "fig2 = plt.figure(num=None, figsize=(11, 4))\n",
        "\n",
        "ax1 = fig2.add_subplot(121)\n",
        "ax1.hist(data_3sigma[data_3sigma.Class == 0].Amount)\n",
        "ax1.title.set_text('Not Fraud')\n",
        "\n",
        "ax2 = fig2.add_subplot(122)\n",
        "ax2.hist(data_3sigma[data_3sigma.Class == 1].Amount)\n",
        "ax2.title.set_text('Fraud')\n",
        "\n",
        "plt.tight_layout()\n",
        "plt.show()\n",
        "\n",
        "tp = data_3sigma[data_3sigma.Class == 1].Amount.count()\n",
        "fp = data_3sigma[data_3sigma.Class == 0].Amount.count()\n",
        "fn = data[data.Class == 1].Amount.count() - data_3sigma[data_3sigma.Class == 1].Amount.count()\n",
        "\n",
        "print('True Positive hits:', tp)\n",
        "print('False Posititve hits:', fp)\n",
        "print('False Negative:', fn)\n",
        "\n",
        "precision = tp / (tp + fp)\n",
        "recall = tp / (tp + fn)\n",
        "\n",
        "print('F1 score:', 2 * recall * precision / (recall + precision))"
      ]
    },
    {
      "cell_type": "markdown",
      "metadata": {
        "_cell_guid": "70750038-58fd-8bd2-bb7e-ea0d2d8bd01b"
      },
      "source": [
        "Looks like this rule doesn't work with this data.\n",
        "## Benford's Law (first digit) ##"
      ]
    },
    {
      "cell_type": "code",
      "execution_count": null,
      "metadata": {
        "_cell_guid": "f208e595-dfed-e42b-2380-332c932459c1"
      },
      "outputs": [],
      "source": [
        "#getting the real data frequency\n",
        "a = amounts[amounts >= 1].apply(lambda x: x // 10**(len(str(math.floor(x))) - 1))\n",
        "num_counts = a.value_counts()\n",
        "num_total = a.count()\n",
        "num_percent = num_counts.apply(lambda x: 100 * x / num_total)\n",
        "\n",
        "#getting expected frequency for every digit from 1 to 9\n",
        "exp=pd.Series()\n",
        "for i in range(1,10):\n",
        "     exp.set_value(i, math.log(1 + 1/i,9) * 100)\n",
        "\n",
        "df = pd.DataFrame(columns=['Expected', 'Real'])\n",
        "df['Expected'] = exp\n",
        "df['Real'] = num_percent\n",
        "        \n",
        "print('Expected frequencies :\\n', exp.sort_index(), '\\n')\n",
        "print('Real frequencies:\\n',num_percent.sort_index())\n",
        "\n",
        "df.plot.bar(figsize = (13,7))"
      ]
    },
    {
      "cell_type": "markdown",
      "metadata": {
        "_cell_guid": "fb8e049f-0dc7-1de7-492b-53c1d423d219"
      },
      "source": [
        "There are suspicious fluctuations in digit '1' and digit '9'.  Tiny fraud data could not give this kind of fluctuations but let's check the amount of digits."
      ]
    },
    {
      "cell_type": "code",
      "execution_count": null,
      "metadata": {
        "_cell_guid": "9849b2a5-a17b-186f-9122-0ced6d3fcf68"
      },
      "outputs": [],
      "source": [
        "a = data_f.Amount\n",
        "a = a[a >= 1].apply(lambda x: x // 10**(len(str(math.floor(x))) - 1))\n",
        "a = a.value_counts()\n",
        "print(a.sort_index())"
      ]
    },
    {
      "cell_type": "markdown",
      "metadata": {
        "_cell_guid": "f9e83b23-0356-2881-bed3-e2e5ae2cd030"
      },
      "source": [
        "## Benford's Law (first two digits) ##"
      ]
    },
    {
      "cell_type": "code",
      "execution_count": null,
      "metadata": {
        "_cell_guid": "b1302e25-ff8b-509b-2987-2fb6ce590c84"
      },
      "outputs": [],
      "source": [
        "#getting the real data frequency\n",
        "a = amounts[amounts >= 10].apply(lambda x: x // 10**(len(str(math.floor(x))) - 2))\n",
        "num_counts = a.value_counts()\n",
        "num_total = a.count()\n",
        "num_percent = num_counts.apply(lambda x: 100 * x / num_total)\n",
        "\n",
        "#getting expected frequency for every digit from 1 to 9\n",
        "exp=pd.Series()\n",
        "for i in range(10,100):\n",
        "     exp.set_value(i, math.log(1 + 1/i,89) * 100)\n",
        "\n",
        "df = pd.DataFrame(columns=['Expected', 'Real'])\n",
        "df['Expected'] = exp\n",
        "df['Real'] = num_percent\n",
        "\n",
        "df.plot.bar(figsize = (14,9))"
      ]
    },
    {
      "cell_type": "code",
      "execution_count": null,
      "metadata": {
        "_cell_guid": "625bf3fd-1c2a-87c3-31e6-da2ae92ad624"
      },
      "outputs": [],
      "source": [
        "a = data_f.Amount\n",
        "a = a[a >= 10].apply(lambda x: x // 10**(len(str(math.floor(x))) - 2))\n",
        "a = a.value_counts()\n",
        "print(a.sort_values(ascending=False).head(10))"
      ]
    },
    {
      "cell_type": "markdown",
      "metadata": {
        "_cell_guid": "3cc1b2ec-b373-8ecb-8995-8420eca661d9"
      },
      "source": [
        "As we could see, Distributions do not even look like similar, but to be sure we can use some tests."
      ]
    },
    {
      "cell_type": "markdown",
      "metadata": {
        "_cell_guid": "ef3aee98-01a6-0996-162e-562303edd1e1"
      },
      "source": [
        "## Z-Statistics ##"
      ]
    },
    {
      "cell_type": "code",
      "execution_count": null,
      "metadata": {
        "_cell_guid": "5a56eee5-4fc0-25a8-360b-026f90f4f3a4"
      },
      "outputs": [],
      "source": [
        "for index, row in df.iterrows():\n",
        "    print('Digit', index, \n",
        "          'Z-Statistics', (math.fabs(row.Expected/100 - row.Real/100) - (1 / (2 * num_total))) / math.sqrt((row.Expected/100 * (1 - row.Expected/100)) / num_total))"
      ]
    },
    {
      "cell_type": "markdown",
      "metadata": {
        "_cell_guid": "5de9b3a1-f75e-944f-8822-3392bcb8ed11"
      },
      "source": [
        "At a significance level of **5 percent**, the cutoff score is **1.96**. The most of digits exceeds this cutoff score.\n",
        "\n",
        "## Chi-Square Test ##\n",
        "At a significance level of **5 percent**, the cutoff score is **112.02**. "
      ]
    },
    {
      "cell_type": "code",
      "execution_count": null,
      "metadata": {
        "_cell_guid": "f52d3684-aa18-d47f-968d-f63a5a72b8f0"
      },
      "outputs": [],
      "source": [
        "chsq = 0\n",
        "for index, row in df.iterrows():\n",
        "    chsq = chsq + (row.Real*num_total/100 - row.Expected*num_total/100)**2 / (row.Expected*num_total/100)\n",
        "print('Chi-Square', chsq)"
      ]
    },
    {
      "cell_type": "markdown",
      "metadata": {
        "_cell_guid": "bcc8abfa-3f72-340d-e41e-8d6e8fc72a33"
      },
      "source": [
        "This means that if the calculated chi-square value exceeds 112.02 then the null hypothesis of conformity of the first-two digits must be rejected and we would conclude that the data does not conform to Benford\u2019s Law."
      ]
    }
  ],
  "metadata": {
    "_change_revision": 0,
    "_is_fork": false,
    "kernelspec": {
      "display_name": "Python 3",
      "language": "python",
      "name": "python3"
    },
    "language_info": {
      "codemirror_mode": {
        "name": "ipython",
        "version": 3
      },
      "file_extension": ".py",
      "mimetype": "text/x-python",
      "name": "python",
      "nbconvert_exporter": "python",
      "pygments_lexer": "ipython3",
      "version": "3.6.0"
    }
  },
  "nbformat": 4,
  "nbformat_minor": 0
}