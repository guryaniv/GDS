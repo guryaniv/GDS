{
  "metadata": {
    "kernelspec": {
      "display_name": "Python 3",
      "language": "python",
      "name": "python3"
    },
    "language_info": {
      "codemirror_mode": {
        "name": "ipython",
        "version": 3
      },
      "file_extension": ".py",
      "mimetype": "text/x-python",
      "name": "python",
      "nbconvert_exporter": "python",
      "pygments_lexer": "ipython3",
      "version": "3.5.2"
    }
  },
  "nbformat": 4,
  "nbformat_minor": 0,
  "cells": [
    {
      "cell_type": "markdown",
      "metadata": {
        "_cell_guid": "e9e2b0da-44de-722d-5850-3b408fa380b0",
        "_active": false
      },
      "source": "# Leaf Classification\n## Using Neural Networks through Keras",
      "execution_count": null,
      "outputs": [],
      "execution_state": "idle"
    },
    {
      "cell_type": "markdown",
      "metadata": {
        "_cell_guid": "faa42311-1ae2-1e94-cbae-f67fb8f8262f",
        "_active": false
      },
      "source": "__author__ : Najeeb Khan, Yasir Mir, Zafarullah Mahmood\n\n__team__ : artificial_stuPiDity\n\n__institution__ : Jamia Millia Islamia\n\n__email__ : najeeb.khan96@gmail.com",
      "execution_count": null,
      "outputs": [],
      "execution_state": "idle"
    },
    {
      "cell_type": "code",
      "execution_count": 1,
      "metadata": {
        "_cell_guid": "e2295c62-b360-c048-ab1c-a19e91218aad",
        "_active": false
      },
      "outputs": [],
      "source": "## Importing standard libraries\n\n%pylab inline\nimport numpy as np\nimport pandas as pd\nimport seaborn as sns\nimport matplotlib.pyplot as plt",
      "execution_state": "idle"
    },
    {
      "cell_type": "code",
      "execution_count": 2,
      "metadata": {
        "_cell_guid": "889c7da9-1760-d487-2a51-c599979ca93e",
        "_active": false
      },
      "outputs": [],
      "source": "## Importing sklearn libraries\n\nfrom sklearn.preprocessing import StandardScaler\nfrom sklearn.cross_validation import train_test_split\nfrom sklearn.preprocessing import LabelEncoder",
      "execution_state": "idle"
    },
    {
      "cell_type": "code",
      "execution_count": 3,
      "metadata": {
        "_cell_guid": "17ff0a6b-735f-a0b1-2e7f-368c16d1a5bf",
        "_active": false
      },
      "outputs": [],
      "source": "## Keras Libraries for Neural Networks\n\nfrom keras.models import Sequential\nfrom keras.layers import Dense,Dropout,Activation\nfrom keras.utils.np_utils import to_categorical",
      "execution_state": "idle"
    },
    {
      "cell_type": "code",
      "execution_count": 5,
      "metadata": {
        "_cell_guid": "fec5a6b6-271f-36e0-a593-a2a258d39bea",
        "_active": false
      },
      "outputs": [],
      "source": "## Set figure size to 20x10\n\nfrom pylab import rcParams\nrcParams['figure.figsize'] = 10,10",
      "execution_state": "idle"
    },
    {
      "cell_type": "code",
      "execution_count": 8,
      "metadata": {
        "_cell_guid": "3883e40b-48fb-03e4-d365-d01af7505e84",
        "_active": false,
        "collapsed": false
      },
      "outputs": [],
      "source": "## Read data from the CSV file\n\ndata = pd.read_csv('../input/train.csv')\nparent_data = data.copy()    ## Always a good idea to keep a copy of original data\nID = data.pop('id')",
      "execution_state": "idle"
    },
    {
      "cell_type": "code",
      "execution_count": 9,
      "metadata": {
        "_cell_guid": "dacc91e2-d384-5979-0207-66dd145004f9",
        "_active": false
      },
      "outputs": [],
      "source": "## Since the labels are textual, so we encode them categorically\n\ny = data.pop('species')\ny = LabelEncoder().fit(y).transform(y)\nprint(y.shape)",
      "execution_state": "idle"
    },
    {
      "cell_type": "code",
      "execution_count": 10,
      "metadata": {
        "_cell_guid": "262251c4-2ca1-5a1b-f67d-cf47b7763976",
        "_active": false
      },
      "outputs": [],
      "source": "## Most of the learning algorithms are prone to feature scaling\n## Standardising the data to give zero mean =)\n\nX = StandardScaler().fit(data).transform(data)\nprint(X.shape)",
      "execution_state": "idle"
    },
    {
      "cell_type": "code",
      "execution_count": 11,
      "metadata": {
        "_cell_guid": "a6041431-1433-762e-d0e0-91aadb8c3370",
        "_active": false
      },
      "outputs": [],
      "source": "## We will be working with categorical crossentropy function\n## It is required to further convert the labels into \"one-hot\" representation\n\ny_cat = to_categorical(y)\nprint(y_cat.shape)",
      "execution_state": "idle"
    },
    {
      "cell_type": "code",
      "execution_count": 12,
      "metadata": {
        "_cell_guid": "4be105f5-77a6-8c46-182f-42b7241cf150",
        "_active": false
      },
      "outputs": [],
      "source": "## Developing a layered model for Neural Networks\n## Input dimensions should be equal to the number of features\n## We used softmax layer to predict a uniform probabilistic distribution of outcomes\n\nmodel = Sequential()\nmodel.add(Dense(1024,input_dim=192))\nmodel.add(Dropout(0.2))\nmodel.add(Activation('sigmoid'))\nmodel.add(Dense(512))\nmodel.add(Dropout(0.3))\nmodel.add(Activation('sigmoid'))\nmodel.add(Dense(99))\nmodel.add(Activation('softmax'))",
      "execution_state": "idle"
    },
    {
      "cell_type": "code",
      "execution_count": 13,
      "metadata": {
        "_cell_guid": "3135f21f-367c-77b7-2fd9-6190296820bd",
        "_active": true
      },
      "outputs": [],
      "source": "## Error is measured as categorical crossentropy or multiclass logloss\nmodel.compile(loss='categorical_crossentropy',optimizer='rmsprop')",
      "execution_state": "idle"
    },
    {
      "cell_type": "code",
      "execution_count": 14,
      "metadata": {
        "_cell_guid": "52ed1c8d-6dc0-7a91-9828-849ed28c45d0",
        "_active": false
      },
      "outputs": [],
      "source": "## Fitting the model on the whole training data\nhistory = model.fit(X,y_cat,batch_size=128,nb_epoch=100,verbose=0)",
      "execution_state": "idle"
    },
    {
      "cell_type": "code",
      "execution_count": 15,
      "metadata": {
        "_cell_guid": "e217bd2a-a7b6-3eab-2319-218f27db3e4b",
        "_active": false
      },
      "outputs": [],
      "source": "## Plotting the error with the number of iterations\n## With each iteration the error reduces smoothly\n\nplt.plot(history.history['loss'],'o-')\nplt.xlabel('Number of Iterations')\nplt.ylabel('Categorical Crossentropy')\nplt.title('Train Error vs Number of Iterations')",
      "execution_state": "idle"
    },
    {
      "cell_type": "code",
      "execution_count": 16,
      "metadata": {
        "_cell_guid": "3db1966d-9374-7e6e-6242-6e84b89208f3",
        "_active": false
      },
      "outputs": [],
      "source": "test = pd.read_csv('../input/test.csv')",
      "execution_state": "idle"
    },
    {
      "cell_type": "code",
      "execution_count": 17,
      "metadata": {
        "_cell_guid": "7d6158f6-2cc5-6e93-6adb-50cff868ab5f",
        "_active": false
      },
      "outputs": [],
      "source": "index = test.pop('id')",
      "execution_state": "idle"
    },
    {
      "cell_type": "code",
      "execution_count": 18,
      "metadata": {
        "_cell_guid": "12f9a9a1-662f-d86b-a653-0405dc0c68ee",
        "_active": false
      },
      "outputs": [],
      "source": "test = StandardScaler().fit(test).transform(test)",
      "execution_state": "idle"
    },
    {
      "cell_type": "code",
      "execution_count": 19,
      "metadata": {
        "_cell_guid": "cc41c459-4afe-245c-940a-4ec69de27fce",
        "_active": false
      },
      "outputs": [],
      "source": "yPred = model.predict_proba(test)",
      "execution_state": "idle"
    },
    {
      "cell_type": "code",
      "execution_count": 20,
      "metadata": {
        "_cell_guid": "5004cb45-6612-b245-3bf1-30e28a0a77d0",
        "_active": false
      },
      "outputs": [],
      "source": "## Converting the test predictions in a dataframe as depicted by sample submission\n\nyPred = pd.DataFrame(yPred,index=index,columns=sort(parent_data.species.unique()))",
      "execution_state": "idle"
    },
    {
      "cell_type": "code",
      "execution_count": 22,
      "metadata": {
        "_cell_guid": "0754597d-f556-9bb2-df3b-6b94dd60d9d7",
        "_active": false
      },
      "outputs": [],
      "source": "fp = open('submission_nn_kernel.csv','w')\nfp.write(yPred.to_csv())",
      "execution_state": "idle"
    },
    {
      "cell_type": "markdown",
      "metadata": {
        "_cell_guid": "8bbde5ef-340e-9b2b-84d1-390e813a38f8",
        "_active": false
      },
      "source": "`Earlier` we used a 4 layer network but the result came out to be overfitting the test set. We dropped the count of neurones in the network and also restricted the number of layers to 3 so as to keep it simple.\nInstead of submitting each test sample as a one hot vector we submitted each samples as a probabilistic distribution over all the possible outcomes. This \"may\" help reduce the penalty being exercised by the multiclass logloss thus producing low error on the leaderboard! ;)\nAny suggestions are welcome!",
      "execution_count": null,
      "outputs": [],
      "execution_state": "idle"
    },
    {
      "cell_type": "code",
      "execution_count": null,
      "metadata": {
        "_cell_guid": "3737fdb1-4a75-f2fe-c6cb-5e20ee336616",
        "_active": false
      },
      "outputs": [],
      "source": null,
      "execution_state": "idle"
    }
  ]
}