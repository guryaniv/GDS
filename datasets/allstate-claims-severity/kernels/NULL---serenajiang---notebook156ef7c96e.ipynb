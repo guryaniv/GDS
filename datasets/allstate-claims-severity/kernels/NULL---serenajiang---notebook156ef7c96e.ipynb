{
  "cells": [
    {
      "cell_type": "code",
      "execution_count": null,
      "metadata": {
        "_cell_guid": "a3d4222d-8cb9-4c98-8aab-8b0009095d40"
      },
      "outputs": [],
      "source": [
        "# This Python 3 environment comes with many helpful analytics libraries installed\n",
        "# It is defined by the kaggle/python docker image: https://github.com/kaggle/docker-python\n",
        "# For example, here's several helpful packages to load in \n",
        "\n",
        "import numpy as np # linear algebra\n",
        "import pandas as pd # data processing, CSV file I/O (e.g. pd.read_csv)\n",
        "from matplotlib import pyplot as plt\n",
        "plt.style.use('ggplot')\n",
        "\n",
        "# Input data files are available in the \"../input/\" directory.\n",
        "# For example, running this (by clicking run or pressing Shift+Enter) will list the files in the input directory\n",
        "\n",
        "from subprocess import check_output\n",
        "print(check_output([\"ls\", \"../input\"]).decode(\"utf8\"))\n",
        "\n",
        "# Any results you write to the current directory are saved as output."
      ]
    },
    {
      "cell_type": "code",
      "execution_count": null,
      "metadata": {
        "_cell_guid": "346bdaea-669a-e3b8-5447-15e2cb5c4a31"
      },
      "outputs": [],
      "source": [
        "df = pd.read_csv(\"../input/train.csv\")\n",
        "df.head()"
      ]
    },
    {
      "cell_type": "code",
      "execution_count": null,
      "metadata": {
        "_cell_guid": "bc7dcdce-1a25-5b42-02ae-5a93a78118df"
      },
      "outputs": [],
      "source": [
        "corr = df.corr()\n",
        "for a in corr.columns:\n",
        "    for b in corr.columns:\n",
        "        if abs(corr[a][b]) > .8 and a > b:\n",
        "            print(corr[a][b])\n",
        "            df.plot(kind='scatter', x=a, y=b)\n",
        "            plt.show()"
      ]
    },
    {
      "cell_type": "code",
      "execution_count": null,
      "metadata": {
        "_cell_guid": "592608f9-dc10-3d22-aa27-ddf48b7381e9"
      },
      "outputs": [],
      "source": [
        "from sklearn import cross_validation\n",
        "def prepare(df, dropped = ['id']):\n",
        "    for c in df.columns:\n",
        "        if len(df[c].unique()) == 2:\n",
        "            el = df[c][0]\n",
        "            df[c] = df[c].apply(lambda x: x == el)\n",
        "    dropped += [c for c in df.columns if df[c].dtype.kind not in 'biufc' or max(df.groupby(c).size())/float(len(df)) > .98]\n",
        "    return df.drop(dropped, axis = 1)\n",
        "\n",
        "def prepareTrain(df):\n",
        "    df = df.dropna()\n",
        "    X, Y = df.drop('loss', axis = 1), df['loss']\n",
        "    val_size = 0.1\n",
        "    seed = 0\n",
        "    return cross_validation.train_test_split(X, Y, test_size=val_size, random_state=seed)"
      ]
    },
    {
      "cell_type": "code",
      "execution_count": null,
      "metadata": {
        "_cell_guid": "b09a3391-9b27-981b-5d8c-841a556a6d60"
      },
      "outputs": [],
      "source": [
        "df = prepare(df)"
      ]
    },
    {
      "cell_type": "code",
      "execution_count": null,
      "metadata": {
        "_cell_guid": "d54e5e1f-be6f-d354-c7dd-6e8630e4f4c3"
      },
      "outputs": [],
      "source": [
        "df.head()"
      ]
    },
    {
      "cell_type": "code",
      "execution_count": null,
      "metadata": {
        "_cell_guid": "cde8b7ef-fe59-2f82-c8dc-e0eb70960989"
      },
      "outputs": [],
      "source": [
        "from sklearn.neighbors import KNeighborsRegressor\n",
        "from sklearn.metrics import mean_absolute_error\n",
        "from keras.wrappers.scikit_learn import KerasRegressor\n",
        "import numpy\n",
        "\n",
        "def knn(n):\n",
        "    X_train, X_val, Y_train, Y_val = prepareTrain(df)\n",
        "    model = KNeighborsRegressor(n_neighbors=n,n_jobs=-1)\n",
        "    algo = \"KNN\"\n",
        "    model.fit(X_train, Y_train)\n",
        "    return mean_absolute_error(model.predict(X_val), Y_val)\n",
        "print(knn(1))"
      ]
    },
    {
      "cell_type": "code",
      "execution_count": null,
      "metadata": {
        "_cell_guid": "fae2ca30-dfe8-eade-8750-7baef2b6bd18"
      },
      "outputs": [],
      "source": [
        "mean_absolute_error(m.predict(X_val)"
      ]
    }
  ],
  "metadata": {
    "_change_revision": 0,
    "_is_fork": false,
    "kernelspec": {
      "display_name": "Python 3",
      "language": "python",
      "name": "python3"
    },
    "language_info": {
      "codemirror_mode": {
        "name": "ipython",
        "version": 3
      },
      "file_extension": ".py",
      "mimetype": "text/x-python",
      "name": "python",
      "nbconvert_exporter": "python",
      "pygments_lexer": "ipython3",
      "version": "3.5.2"
    }
  },
  "nbformat": 4,
  "nbformat_minor": 0
}