{
  "cells": [
    {
      "cell_type": "markdown",
      "metadata": {
        "_cell_guid": "9453c673-0c13-9309-6cf4-e9232520fc84"
      },
      "source": [
        "What are the top 10 indicators? RandomForestRegressor identifies the feature importance."
      ]
    },
    {
      "cell_type": "code",
      "execution_count": null,
      "metadata": {
        "_cell_guid": "93fb883f-3c9c-472e-3a6e-bb567b9b738d"
      },
      "outputs": [],
      "source": [
        "# This Python 3 environment comes with many helpful analytics libraries installed\n",
        "# It is defined by the kaggle/python docker image: https://github.com/kaggle/docker-python\n",
        "# For example, here's several helpful packages to load in \n",
        "\n",
        "import numpy as np # linear algebra\n",
        "import pandas as pd # data processing, CSV file I/O (e.g. pd.read_csv)\n",
        "\n",
        "# Input data files are available in the \"../input/\" directory.\n",
        "# For example, running this (by clicking run or pressing Shift+Enter) will list the files in the input directory\n",
        "\n",
        "from subprocess import check_output\n",
        "print(check_output([\"ls\", \"../input\"]).decode(\"utf8\"))\n",
        "\n",
        "# Any results you write to the current directory are saved as output."
      ]
    },
    {
      "cell_type": "code",
      "execution_count": null,
      "metadata": {
        "_cell_guid": "edeb7afb-2156-f0fc-0366-aed781b7fd55"
      },
      "outputs": [],
      "source": [
        "df = pd.read_hdf('../input/train.h5')"
      ]
    },
    {
      "cell_type": "code",
      "execution_count": null,
      "metadata": {
        "_cell_guid": "2999bd1b-7906-4517-dda2-46d3e6cc2295"
      },
      "outputs": [],
      "source": [
        "df = df.dropna()\n",
        "df.describe()"
      ]
    },
    {
      "cell_type": "code",
      "execution_count": null,
      "metadata": {
        "_cell_guid": "8cb3cbe0-8baf-5d44-cf91-73f369ce2199"
      },
      "outputs": [],
      "source": [
        "mid = 1081\n",
        "excl = ['id', 'sample', 'y', 'timestamp']\n",
        "col = [c for c in df.columns if c not in excl]\n",
        "\n",
        "df_train = df[df.timestamp <= mid][col]\n",
        "d_mean= df_train.median(axis=0)\n",
        "\n",
        "df_all = df[col]\n",
        "\n",
        "X_train = df_all[df.timestamp <= mid].values\n",
        "y_train = df.y[df.timestamp <= mid].values\n",
        "X_valid = df_all[df.timestamp > mid].values\n",
        "y_valid = df.y[df.timestamp > mid].values\n",
        "feature_names = df_all.columns\n",
        "del df_all, df_train, df"
      ]
    },
    {
      "cell_type": "code",
      "execution_count": null,
      "metadata": {
        "_cell_guid": "b3abcfe6-de34-2f3c-ab86-74382a762779"
      },
      "outputs": [],
      "source": [
        "X_train.shape"
      ]
    },
    {
      "cell_type": "code",
      "execution_count": null,
      "metadata": {
        "_cell_guid": "7c05e88e-f40d-8e78-ca20-98b03425db93"
      },
      "outputs": [],
      "source": [
        "X_valid.shape"
      ]
    },
    {
      "cell_type": "code",
      "execution_count": null,
      "metadata": {
        "_cell_guid": "d4086326-bb26-46a0-14e1-20c0d2de7159"
      },
      "outputs": [],
      "source": [
        "from sklearn.ensemble import RandomForestRegressor\n",
        "rf = RandomForestRegressor()\n",
        "rf.fit(X_train, y_train)\n",
        "print(\"Features sorted by their score:\")\n",
        "print(sorted(zip(map(lambda x: round(x, 4), rf.feature_importances_), feature_names), \n",
        "             reverse=True))"
      ]
    },
    {
      "cell_type": "code",
      "execution_count": null,
      "metadata": {
        "_cell_guid": "11900be3-f69c-d9b4-9658-2aedff758ca5"
      },
      "outputs": [],
      "source": [
        "indicators = ['technical_33', 'technical_24', 'technical_41', 'technical_1', 'technical_3', 'technical_28', 'technical_44', 'technical_31', 'technical_5', 'technical_30']"
      ]
    }
  ],
  "metadata": {
    "_change_revision": 0,
    "_is_fork": false,
    "kernelspec": {
      "display_name": "Python 3",
      "language": "python",
      "name": "python3"
    },
    "language_info": {
      "codemirror_mode": {
        "name": "ipython",
        "version": 3
      },
      "file_extension": ".py",
      "mimetype": "text/x-python",
      "name": "python",
      "nbconvert_exporter": "python",
      "pygments_lexer": "ipython3",
      "version": "3.5.2"
    }
  },
  "nbformat": 4,
  "nbformat_minor": 0
}