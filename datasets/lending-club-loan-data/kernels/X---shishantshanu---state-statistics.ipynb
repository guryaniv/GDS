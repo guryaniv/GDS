{
  "cells": [
    {
      "cell_type": "markdown",
      "metadata": {
        "_cell_guid": "e74a4f4a-2ed1-468a-9873-17155fbe2789"
      },
      "source": [
        "#Looking into Loans by State\n",
        "Being new to data science in Python, I wanted to continue to develop my plotting skills even further.  Here are some findings about loans in the southern state of Tennessee."
      ]
    },
    {
      "cell_type": "code",
      "execution_count": null,
      "metadata": {
        "_cell_guid": "e7fc9327-0529-4ec7-91d4-a9a469846606"
      },
      "outputs": [],
      "source": [
        "import numpy as np\n",
        "import pandas as pd \n",
        "import matplotlib.mlab as mlab\n",
        "import matplotlib.pyplot as plt\n",
        "\n",
        "%matplotlib inline\n",
        "\n",
        "from matplotlib import style\n",
        "plt.style.use('ggplot')"
      ]
    },
    {
      "cell_type": "code",
      "execution_count": null,
      "metadata": {
        "_cell_guid": "53d3f973-51df-4ba9-847a-42de20757a32"
      },
      "outputs": [],
      "source": [
        "data = pd.read_csv('../input/loan.csv', low_memory=False, parse_dates=['issue_d'], infer_datetime_format=True)"
      ]
    },
    {
      "cell_type": "code",
      "execution_count": null,
      "metadata": {
        "_cell_guid": "06f9cbae-f7d4-417e-af46-097fe9818b31"
      },
      "outputs": [],
      "source": [
        "state_count = data.addr_state.value_counts()\n",
        "\n",
        "state_count.plot(kind = 'bar',figsize=(16,8), title = 'Loans per State')"
      ]
    },
    {
      "cell_type": "code",
      "execution_count": null,
      "metadata": {
        "_cell_guid": "cf94d828-f92e-46d5-8a26-5b5ffe226992"
      },
      "outputs": [],
      "source": [
        "tn_data = data.loc[data.addr_state == 'TN']\n",
        "\n",
        "tn_x = range(1, 12888)\n",
        "\n",
        "tn_loan_amnt = tn_data.loan_amnt"
      ]
    },
    {
      "cell_type": "code",
      "execution_count": null,
      "metadata": {
        "_cell_guid": "2cf4c3c0-3f00-4051-9c90-b28b4878ae42"
      },
      "outputs": [],
      "source": [
        "plt.figure(figsize=(16, 10))\n",
        "plt.scatter(tn_x, tn_loan_amnt)\n",
        "\n",
        "plt.xlim(1,12888)\n",
        "plt.ylim(0, 37500)\n",
        "\n",
        "plt.ylabel(\"Loan Amount\")\n",
        "plt.title(\"Loan Size in Tennessee\")\n",
        "\n",
        "plt.show()"
      ]
    },
    {
      "cell_type": "code",
      "execution_count": null,
      "metadata": {
        "_cell_guid": "370ce37c-ea07-4719-a0af-532d566b9d08"
      },
      "outputs": [],
      "source": [
        "plt.figure(figsize=(16,8))\n",
        "\n",
        "mu = tn_loan_amnt.mean()\n",
        "sigma = tn_loan_amnt.std()\n",
        "num_bins = 100\n",
        "\n",
        "n, bins, patches = plt.hist(tn_loan_amnt, num_bins, normed=1, facecolor='blue', alpha=0.7)\n",
        "y = mlab.normpdf(bins, mu, sigma)\n",
        "plt.plot(bins, y, 'r--')\n",
        "\n",
        "plt.xlabel(\"Loan Amount\")\n",
        "plt.title(\"Loan Amount Distribution in Tennessee\")\n",
        "plt.show()"
      ]
    },
    {
      "cell_type": "markdown",
      "metadata": {
        "_cell_guid": "4715fa2d-53da-4e5c-bdd3-a856780099a5"
      },
      "source": [
        "##Explosion in Loans\n",
        "Now that we got a glimpse of Loan Sizes in Tennessee, let's see how the number of loans being issued looks like over the years.\n",
        "\n",
        "It looks like there is a huge boom in number of loans being issued over the last couple years.  Nashville, TN has been named the new 'it' city and many people have been moving into the area.  Maybe there is some kind of correlation between Nashville's boom and issued loans?"
      ]
    },
    {
      "cell_type": "code",
      "execution_count": null,
      "metadata": {
        "_cell_guid": "e5999fcd-35d5-4c60-aba5-a4d01f820040"
      },
      "outputs": [],
      "source": [
        "tloan_tn_df = tn_data['issue_d'].value_counts().sort_index()\n",
        "tloan_tn_df = tloan_tn_df.cumsum()"
      ]
    },
    {
      "cell_type": "code",
      "execution_count": null,
      "metadata": {
        "_cell_guid": "d2e2d6ac-44ad-47d6-abf9-77f31271c0ed"
      },
      "outputs": [],
      "source": [
        "tloan_tn_df.plot(figsize=(16,8), title='Number of Loans Issued in Tennessee')"
      ]
    }
  ],
  "metadata": {
    "_change_revision": 0,
    "_is_fork": false,
    "kernelspec": {
      "display_name": "Python 3",
      "language": "python",
      "name": "python3"
    },
    "language_info": {
      "codemirror_mode": {
        "name": "ipython",
        "version": 3
      },
      "file_extension": ".py",
      "mimetype": "text/x-python",
      "name": "python",
      "nbconvert_exporter": "python",
      "pygments_lexer": "ipython3",
      "version": "3.6.0"
    }
  },
  "nbformat": 4,
  "nbformat_minor": 0
}