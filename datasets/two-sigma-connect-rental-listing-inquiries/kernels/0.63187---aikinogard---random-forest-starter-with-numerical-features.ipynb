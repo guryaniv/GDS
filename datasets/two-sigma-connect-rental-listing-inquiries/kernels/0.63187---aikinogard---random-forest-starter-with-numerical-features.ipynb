{
  "cells": [
    {
      "cell_type": "markdown",
      "metadata": {
        "_cell_guid": "a6b74ec0-4c18-aead-330e-10649af87d27"
      },
      "source": ""
    },
    {
      "cell_type": "code",
      "execution_count": null,
      "metadata": {
        "_cell_guid": "724ad414-a43a-2a5b-54b5-148e31d97c3d"
      },
      "outputs": [],
      "source": [
        "# This Python 3 environment comes with many helpful analytics libraries installed\n",
        "# It is defined by the kaggle/python docker image: https://github.com/kaggle/docker-python\n",
        "# For example, here's several helpful packages to load in \n",
        "\n",
        "import numpy as np # linear algebra\n",
        "import pandas as pd # data processing, CSV file I/O (e.g. pd.read_csv)\n",
        "\n",
        "# Input data files are available in the \"../input/\" directory.\n",
        "# For example, running this (by clicking run or pressing Shift+Enter) will list the files in the input directory\n",
        "\n",
        "from subprocess import check_output\n",
        "print(check_output([\"ls\", \"../input\"]).decode(\"utf8\"))\n",
        "\n",
        "# Any results you write to the current directory are saved as output."
      ]
    },
    {
      "cell_type": "code",
      "execution_count": null,
      "metadata": {
        "_cell_guid": "bc8dcfbc-4d0d-d9a2-7c75-45e2725d9187"
      },
      "outputs": [],
      "source": [
        "from sklearn.ensemble import RandomForestClassifier\n",
        "from sklearn.model_selection import train_test_split\n",
        "from sklearn.metrics import log_loss"
      ]
    },
    {
      "cell_type": "markdown",
      "metadata": {
        "_cell_guid": "758b4503-e3bf-6c45-b090-cf025fa8286c"
      },
      "source": [
        "# read data"
      ]
    },
    {
      "cell_type": "code",
      "execution_count": null,
      "metadata": {
        "_cell_guid": "8f9d0e95-7941-5030-7c88-3b3a0ecd0c63"
      },
      "outputs": [],
      "source": [
        "df = pd.read_json(open(\"../input/train.json\", \"r\"))"
      ]
    },
    {
      "cell_type": "code",
      "execution_count": null,
      "metadata": {
        "_cell_guid": "c5e1423b-29af-f64c-4a58-74469efcb3e4"
      },
      "outputs": [],
      "source": [
        "print(df.shape)"
      ]
    },
    {
      "cell_type": "code",
      "execution_count": null,
      "metadata": {
        "_cell_guid": "cbb64f02-b249-5b25-9f6a-e0ea598ab1ed"
      },
      "outputs": [],
      "source": [
        "df.head()"
      ]
    },
    {
      "cell_type": "code",
      "execution_count": null,
      "metadata": {
        "_cell_guid": "3b0c510c-c009-8c96-9083-6b5ebd0f7464"
      },
      "outputs": [],
      "source": [
        "print(df.shape)"
      ]
    },
    {
      "cell_type": "markdown",
      "metadata": {
        "_cell_guid": "af53e260-62f5-7914-8d0d-105e221f7834"
      },
      "source": [
        "# naive feature engineering"
      ]
    },
    {
      "cell_type": "code",
      "execution_count": null,
      "metadata": {
        "_cell_guid": "a3910745-58e4-c545-d58d-bf7a48a3c906"
      },
      "outputs": [],
      "source": [
        "df[\"num_photos\"] = df[\"photos\"].apply(len)\n",
        "df[\"num_features\"] = df[\"features\"].apply(len)\n",
        "df[\"num_description_words\"] = df[\"description\"].apply(lambda x: len(x.split(\" \")))\n",
        "df[\"created\"] = pd.to_datetime(df[\"created\"])\n",
        "df[\"created_year\"] = df[\"created\"].dt.year\n",
        "df[\"created_month\"] = df[\"created\"].dt.month\n",
        "df[\"created_day\"] = df[\"created\"].dt.day"
      ]
    },
    {
      "cell_type": "code",
      "execution_count": null,
      "metadata": {
        "_cell_guid": "ffffb094-c878-edad-db28-573541d6e446"
      },
      "outputs": [],
      "source": [
        "num_feats = [\"bathrooms\", \"bedrooms\", \"latitude\", \"longitude\", \"price\",\n",
        "             \"num_photos\", \"num_features\", \"num_description_words\",\n",
        "             \"created_year\", \"created_month\", \"created_day\"]\n",
        "X = df[num_feats]\n",
        "y = df[\"interest_level\"]\n",
        "X.head()"
      ]
    },
    {
      "cell_type": "markdown",
      "metadata": {
        "_cell_guid": "54d9977f-9053-3384-bb43-75e8b7490d91"
      },
      "source": [
        "# train model"
      ]
    },
    {
      "cell_type": "code",
      "execution_count": null,
      "metadata": {
        "_cell_guid": "7e490168-42dd-11a4-dd99-b9f1888cae27"
      },
      "outputs": [],
      "source": [
        "X_train, X_val, y_train, y_val = train_test_split(X, y, test_size=0.33)"
      ]
    },
    {
      "cell_type": "code",
      "execution_count": null,
      "metadata": {
        "_cell_guid": "237ee6e7-a80b-f2d6-96b8-65e1589e3fcc"
      },
      "outputs": [],
      "source": [
        "clf = RandomForestClassifier(n_estimators=1000)\n",
        "clf.fit(X_train, y_train)\n",
        "y_val_pred = clf.predict_proba(X_val)\n",
        "log_loss(y_val, y_val_pred)"
      ]
    },
    {
      "cell_type": "markdown",
      "metadata": {
        "_cell_guid": "b335856e-5c42-e3ac-47fe-a4df037bdb02"
      },
      "source": [
        "# make prediction"
      ]
    },
    {
      "cell_type": "code",
      "execution_count": null,
      "metadata": {
        "_cell_guid": "bf01ec4d-3a1c-2efe-f948-83ca4625b180"
      },
      "outputs": [],
      "source": [
        "df = pd.read_json(open(\"../input/test.json\", \"r\"))\n",
        "print(df.shape)\n",
        "df[\"num_photos\"] = df[\"photos\"].apply(len)\n",
        "df[\"num_features\"] = df[\"features\"].apply(len)\n",
        "df[\"num_description_words\"] = df[\"description\"].apply(lambda x: len(x.split(\" \")))\n",
        "df[\"created\"] = pd.to_datetime(df[\"created\"])\n",
        "df[\"created_year\"] = df[\"created\"].dt.year\n",
        "df[\"created_month\"] = df[\"created\"].dt.month\n",
        "df[\"created_day\"] = df[\"created\"].dt.day\n",
        "X = df[num_feats]\n",
        "\n",
        "y = clf.predict_proba(X)"
      ]
    },
    {
      "cell_type": "code",
      "execution_count": null,
      "metadata": {
        "_cell_guid": "524b2cd4-c7fe-5045-9221-565cacfbc7bb"
      },
      "outputs": [],
      "source": [
        "labels2idx = {label: i for i, label in enumerate(clf.classes_)}\n",
        "labels2idx"
      ]
    },
    {
      "cell_type": "code",
      "execution_count": null,
      "metadata": {
        "_cell_guid": "284d2b05-2649-0e2f-f975-ff1404a67f23"
      },
      "outputs": [],
      "source": [
        "sub = pd.DataFrame()\n",
        "sub[\"listing_id\"] = df[\"listing_id\"]\n",
        "for label in [\"high\", \"medium\", \"low\"]:\n",
        "    sub[label] = y[:, labels2idx[label]]\n",
        "sub.to_csv(\"submission_rf.csv\", index=False)"
      ]
    },
    {
      "cell_type": "code",
      "execution_count": null,
      "metadata": {
        "_cell_guid": "68b6519f-8674-4b6b-67f1-fefaa4d6eeb3"
      },
      "outputs": [],
      "source": ""
    }
  ],
  "metadata": {
    "_change_revision": 0,
    "_is_fork": false,
    "kernelspec": {
      "display_name": "Python 3",
      "language": "python",
      "name": "python3"
    },
    "language_info": {
      "codemirror_mode": {
        "name": "ipython",
        "version": 3
      },
      "file_extension": ".py",
      "mimetype": "text/x-python",
      "name": "python",
      "nbconvert_exporter": "python",
      "pygments_lexer": "ipython3",
      "version": "3.6.0"
    }
  },
  "nbformat": 4,
  "nbformat_minor": 0
}