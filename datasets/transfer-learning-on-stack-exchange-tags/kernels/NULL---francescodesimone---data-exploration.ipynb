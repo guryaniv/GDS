{
  "cells": [
    {
      "cell_type": "code",
      "execution_count": null,
      "metadata": {
        "_cell_guid": "fd02a13a-6bd4-e3c8-20fc-dc2ec2c50777"
      },
      "outputs": [],
      "source": [
        "# This Python 3 environment comes with many helpful analytics libraries installed\n",
        "# It is defined by the kaggle/python docker image: https://github.com/kaggle/docker-python\n",
        "# For example, here's several helpful packages to load in \n",
        "\n",
        "import numpy as np # linear algebra\n",
        "import pandas as pd # data processing, CSV file I/O (e.g. pd.read_csv)\n",
        "import matplotlib.pyplot as plt\n",
        "import seaborn as sns\n",
        "from wordcloud import WordCloud\n",
        "from nltk.corpus import stopwords\n",
        "\n",
        "%matplotlib inline\n",
        "\n",
        "# Input data files are available in the \"../input/\" directory.\n",
        "# For example, running this (by clicking run or pressing Shift+Enter) will list the files in the input directory\n",
        "\n",
        "from subprocess import check_output\n",
        "\n",
        "\n",
        "topics_list = ['biology', 'cooking', 'crypto', 'diy', 'robotics', 'travel']"
      ]
    },
    {
      "cell_type": "code",
      "execution_count": null,
      "metadata": {
        "_cell_guid": "402ce974-eb8b-61af-7d3b-faa29dcc84e8"
      },
      "outputs": [],
      "source": [
        "for ind, topic in enumerate(topics_list):\n",
        "    tags = np.array(pd.read_csv(\"../input/\"+topic+\".csv\", usecols=['tags'])['tags'])\n",
        "    text = ''\n",
        "    for ind, tag in enumerate(tags):\n",
        "        text = \" \".join([text, tag])\n",
        "    text = text.strip()\n",
        "    \n",
        "    wordcloud = WordCloud(background_color='white', width=600, height=300, max_font_size=50, max_words=40).generate(text)\n",
        "    wordcloud.recolor(random_state=ind*312)\n",
        "    plt.imshow(wordcloud)\n",
        "    plt.title(\"Wordcloud for topic : \"+topic)\n",
        "    plt.axis(\"off\")\n",
        "    plt.show()\n"
      ]
    },
    {
      "cell_type": "code",
      "execution_count": null,
      "metadata": {
        "_cell_guid": "50654512-ee88-489d-b917-614c32af9c3b"
      },
      "outputs": [],
      "source": [
        "dataframes = {\n",
        "    \"cooking\": pd.read_csv(\"../input/cooking.csv\"),\n",
        "    \"crypto\": pd.read_csv(\"../input/crypto.csv\"),\n",
        "    \"robotics\": pd.read_csv(\"../input/robotics.csv\"),\n",
        "    \"biology\": pd.read_csv(\"../input/biology.csv\"),\n",
        "    \"travel\": pd.read_csv(\"../input/travel.csv\"),\n",
        "    \"diy\": pd.read_csv(\"../input/diy.csv\"),\n",
        "}\n",
        "print(dataframes[\"robotics\"].iloc[1])"
      ]
    },
    {
      "cell_type": "code",
      "execution_count": null,
      "metadata": {
        "_cell_guid": "1bacfd51-3e59-4389-3924-7091fd191e8b"
      },
      "outputs": [],
      "source": ""
    }
  ],
  "metadata": {
    "_change_revision": 0,
    "_is_fork": false,
    "kernelspec": {
      "display_name": "Python 3",
      "language": "python",
      "name": "python3"
    },
    "language_info": {
      "codemirror_mode": {
        "name": "ipython",
        "version": 3
      },
      "file_extension": ".py",
      "mimetype": "text/x-python",
      "name": "python",
      "nbconvert_exporter": "python",
      "pygments_lexer": "ipython3",
      "version": "3.5.2"
    }
  },
  "nbformat": 4,
  "nbformat_minor": 0
}