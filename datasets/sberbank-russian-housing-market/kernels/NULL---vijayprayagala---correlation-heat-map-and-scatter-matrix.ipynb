{
  "cells": [
    {
      "cell_type": "markdown",
      "metadata": {
        "_cell_guid": "37d55dc9-89c9-7da8-2808-ef872b355c9c"
      },
      "source": [
        "#Correlation Heat Map and Scatter Matrix on some of basic features"
      ]
    },
    {
      "cell_type": "code",
      "execution_count": null,
      "metadata": {
        "_cell_guid": "2ecb40d9-3c41-f0bd-3bda-2705280e0697"
      },
      "outputs": [],
      "source": [
        "# This Python 3 environment comes with many helpful analytics libraries installed\n",
        "# It is defined by the kaggle/python docker image: https://github.com/kaggle/docker-python\n",
        "# For example, here's several helpful packages to load in \n",
        "#Load Libraries\n",
        "import pandas\n",
        "import numpy\n",
        "import matplotlib.pyplot as plt\n",
        "from pandas.tools.plotting import scatter_matrix"
      ]
    },
    {
      "cell_type": "code",
      "execution_count": null,
      "metadata": {
        "_cell_guid": "0fb7e7e0-d15f-b143-b015-b8d64c0211b7"
      },
      "outputs": [],
      "source": [
        "# Load Data\n",
        "train = pandas.read_csv(\"../input/train.csv\")"
      ]
    },
    {
      "cell_type": "code",
      "execution_count": null,
      "metadata": {
        "_cell_guid": "e43b1faa-ceca-0524-e02f-7acad298f382"
      },
      "outputs": [],
      "source": [
        "# Descriptive statistics\n",
        "# shape\n",
        "print(train.shape)\n",
        "# types\n",
        "print(train.dtypes)\n",
        "# descriptions, change precision to 2 places\n",
        "pandas.set_option('precision', 2)\n",
        "print(train.describe(include='all'))\n",
        "# correlation\n",
        "#pandas.set_option('max_columns', 4)\n",
        "#pandas.set_option('expand_frame_repr',False)\n",
        "#print(train.corr(method='pearson'))"
      ]
    },
    {
      "cell_type": "code",
      "execution_count": null,
      "metadata": {
        "_cell_guid": "99770530-00d2-7382-70e0-093dec68c34f"
      },
      "outputs": [],
      "source": [
        "#Visualizing Data\n",
        "#print(train['price_doc'].head())\n",
        "# scatter plot matrix\n",
        "x=train['floor']\n",
        "y=train['price_doc']\n",
        "plt.figure(1)\n",
        "plt.scatter(x,y)\n",
        "plt.xlabel(\"Number of Floors\")\n",
        "plt.ylabel(\"Price Of House\")\n",
        "plt.title(\"Number Floors VS Price of House\")\n",
        "plt.show()"
      ]
    },
    {
      "cell_type": "code",
      "execution_count": null,
      "metadata": {
        "_cell_guid": "aa2a3d0d-de14-324d-da29-d8eb7e7f1572"
      },
      "outputs": [],
      "source": [
        "plt.figure(2)\n",
        "plt.hist(x,73,range=(0,73),alpha=0.25)\n",
        "plt.title(\"Histogram for Number of Floors\")\n",
        "plt.show()"
      ]
    },
    {
      "cell_type": "code",
      "execution_count": null,
      "metadata": {
        "_cell_guid": "c3ea57e5-70d1-cb55-f086-29b0e4ed09a9"
      },
      "outputs": [],
      "source": [
        "def plot_corr_matrix(data,attr,fig_no):\n",
        "    correlations=data_basic.corr()\n",
        "    fig=plt.figure(fig_no)\n",
        "    ax=fig.add_subplot(111)\n",
        "    ax.set_title(\"Correlation Matrix for Specified Attributes\")\n",
        "    ax.set_xticklabels(['']+attr)\n",
        "    ax.set_yticklabels(['']+attr)\n",
        "    cax=ax.matshow(correlations,vmax=1,vmin=-1)\n",
        "    fig.colorbar(cax)\n",
        "    plt.show()"
      ]
    },
    {
      "cell_type": "code",
      "execution_count": null,
      "metadata": {
        "_cell_guid": "a2d19899-9ed6-c887-6806-b3aafb384f2e"
      },
      "outputs": [],
      "source": [
        "#Plot Correlation Matrix\n",
        "attr_basic=['price_doc','full_sq','life_sq','floor','max_floor','material','num_room','state','product_type','sub_area']\n",
        "data_basic=train.loc[:,attr_basic]\n",
        "plot_corr_matrix(data_basic,attr_basic,3)"
      ]
    },
    {
      "cell_type": "code",
      "execution_count": null,
      "metadata": {
        "_cell_guid": "e06ce1a3-6c47-800a-2a23-8172dd550450"
      },
      "outputs": [],
      "source": [
        "#Plot Scatter Matrix\n",
        "scatter_matrix(data_basic)\n",
        "plt.show()"
      ]
    },
    {
      "cell_type": "code",
      "execution_count": null,
      "metadata": {
        "_cell_guid": "720cdf4b-66eb-715d-c203-76017c4a3cdd"
      },
      "outputs": [],
      "source": [
        "attr_others = ['full_all','male_f','young_*','work_*','ekder_*','build_count_*','x_count_500','x_part_500','_sqm',\\\n",
        "                          'cafe_count_d_price_p','trc_','prom_','green_','metro_','_avto_','mkad_','ttk_','sadovoe_','bulvar_ring_','kremlin_',\\\n",
        "                          'zd_vokzaly_','oil_chemistry_','ts_']\n",
        "data_others=train.loc[:,attr_others]\n",
        "plot_corr_matrix(data_others,attr_others,5)"
      ]
    },
    {
      "cell_type": "code",
      "execution_count": null,
      "metadata": {
        "_cell_guid": "2f3c023a-c388-9d09-e14f-aa3be21a06b4"
      },
      "outputs": [],
      "source": [
        ""
      ]
    }
  ],
  "metadata": {
    "_change_revision": 0,
    "_is_fork": false,
    "kernelspec": {
      "display_name": "Python 3",
      "language": "python",
      "name": "python3"
    },
    "language_info": {
      "codemirror_mode": {
        "name": "ipython",
        "version": 3
      },
      "file_extension": ".py",
      "mimetype": "text/x-python",
      "name": "python",
      "nbconvert_exporter": "python",
      "pygments_lexer": "ipython3",
      "version": "3.6.0"
    }
  },
  "nbformat": 4,
  "nbformat_minor": 0
}