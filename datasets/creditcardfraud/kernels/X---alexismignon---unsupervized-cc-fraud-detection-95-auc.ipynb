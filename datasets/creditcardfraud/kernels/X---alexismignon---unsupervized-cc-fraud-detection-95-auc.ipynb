{
  "cells": [
    {
      "cell_type": "markdown",
      "metadata": {
        "_cell_guid": "8e77441a-9729-9330-4829-2e0d67f204c6"
      },
      "source": [
        "This is just an example on how to use Isolation Forests for outliers detection. I don't bother much with cross-validation since it is an unsupervized method but it is not totally correct since hyper-parameters have been (roughly) chosen to maximize ROC AUC."
      ]
    },
    {
      "cell_type": "code",
      "execution_count": null,
      "metadata": {
        "_cell_guid": "32b76387-c2ae-be30-e0ad-6d3e310313c4"
      },
      "outputs": [],
      "source": [
        "# This Python 3 environment comes with many helpful analytics libraries installed\n",
        "# It is defined by the kaggle/python docker image: https://github.com/kaggle/docker-python\n",
        "# For example, here's several helpful packages to load in \n",
        "\n",
        "import numpy as np # linear algebra\n",
        "import pandas as pd # data processing, CSV file I/O (e.g. pd.read_csv)\n",
        "\n",
        "# Input data files are available in the \"../input/\" directory.\n",
        "# For example, running this (by clicking run or pressing Shift+Enter) will list the files in the input directory\n",
        "\n",
        "from subprocess import check_output\n",
        "print(check_output([\"ls\", \"../input\"]).decode(\"utf8\"))\n",
        "\n",
        "# Any results you write to the current directory are saved as output."
      ]
    },
    {
      "cell_type": "code",
      "execution_count": null,
      "metadata": {
        "_cell_guid": "97f94efc-c48b-90d7-a711-464973bca3c4"
      },
      "outputs": [],
      "source": [
        "data = pd.read_csv(\"../input/creditcard.csv\")\n",
        "\n",
        "X = data.drop([\"Time\", \"Class\"], axis=1)\n",
        "y = data.Class.values"
      ]
    },
    {
      "cell_type": "code",
      "execution_count": null,
      "metadata": {
        "_cell_guid": "229a12ae-2008-56d5-0a86-d4ed33fe0381"
      },
      "outputs": [],
      "source": [
        "from sklearn.ensemble import IsolationForest\n",
        "\n",
        "isof = IsolationForest(n_estimators=30, random_state=1)\n",
        "isof.fit(X)\n",
        "\n",
        "y_score = - isof.decision_function(X)"
      ]
    },
    {
      "cell_type": "markdown",
      "metadata": {
        "_cell_guid": "e28b2fdf-eb82-dfd3-c8af-fc9796418962"
      },
      "source": [
        "## Scores\n",
        "\n",
        "For this kind of unbalanced dataset, it is more reasonable to look at Area Under ROC curve, since it has the nice property to be 0.5 for random scoring and 1.0 for perfect scoring whatever the balancing.\n",
        "\n",
        "Note that in this case accuracy score is definetly not the good score to look at since predicting everything false gives a very high accuracy (99.83 %).  Every accuracy score lower than this means it is worse than trivially predicting everything negative."
      ]
    },
    {
      "cell_type": "code",
      "execution_count": null,
      "metadata": {
        "_cell_guid": "20f51718-4e47-4bd5-bfda-54848c68457b"
      },
      "outputs": [],
      "source": [
        "from sklearn.metrics import roc_auc_score, accuracy_score, average_precision_score\n",
        "print(\"ROC AUC: %0.1f%%\" % (roc_auc_score(y, y_score) * 100.))\n",
        "print(\"All negative accuracy: %0.2f%%\" % (accuracy_score(y, np.zeros_like(y)) * 100.))"
      ]
    },
    {
      "cell_type": "markdown",
      "metadata": {
        "_cell_guid": "2958b169-9a44-dd31-1b14-4875ab642f01"
      },
      "source": [
        "## Draw ROC curves\n",
        "\n",
        "I draw Isolation Forest ROC curve and random ROC curve for compairison"
      ]
    },
    {
      "cell_type": "code",
      "execution_count": null,
      "metadata": {
        "_cell_guid": "bf3aa826-fac5-d887-0727-30574684dd96"
      },
      "outputs": [],
      "source": [
        "import matplotlib.pyplot as plt\n",
        "from sklearn.metrics import roc_curve\n",
        "\n",
        "fp, tp, thres = roc_curve(y, y_score)\n",
        "plt.plot(fp, tp, label=\"Isolation Forest\")\n",
        "\n",
        "fp, tp, thres = roc_curve(y, np.random.rand(len(y)))\n",
        "plt.plot(fp, tp, label=\"Random\")\n",
        "\n",
        "plt.xlabel(\"false positive rate\")\n",
        "plt.ylabel(\"true positive rate (recall)\")\n",
        "plt.legend()"
      ]
    }
  ],
  "metadata": {
    "_change_revision": 0,
    "_is_fork": false,
    "kernelspec": {
      "display_name": "Python 3",
      "language": "python",
      "name": "python3"
    },
    "language_info": {
      "codemirror_mode": {
        "name": "ipython",
        "version": 3
      },
      "file_extension": ".py",
      "mimetype": "text/x-python",
      "name": "python",
      "nbconvert_exporter": "python",
      "pygments_lexer": "ipython3",
      "version": "3.6.0"
    }
  },
  "nbformat": 4,
  "nbformat_minor": 0
}