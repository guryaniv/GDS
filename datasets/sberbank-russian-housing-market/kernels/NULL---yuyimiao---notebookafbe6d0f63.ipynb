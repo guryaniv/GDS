{
  "cells": [
    {
      "cell_type": "code",
      "execution_count": null,
      "metadata": {
        "_cell_guid": "bf103db1-ff99-2dd6-b7da-8b73ce36afe2"
      },
      "outputs": [],
      "source": [
        "import numpy as np\n",
        "import pandas as pd\n",
        "import matplotlib.pyplot as plt\n",
        "import seaborn as sns\n",
        "from sklearn import model_selection, preprocessing\n",
        "import xgboost as xgb\n",
        "import datetime\n",
        "\n",
        "#load files\n",
        "train = pd.read_csv('../input/train.csv', parse_dates=['timestamp'])\n",
        "test = pd.read_csv('../input/test.csv', parse_dates=['timestamp'])\n",
        "macro = pd.read_csv('../input/macro.csv', parse_dates=['timestamp'])\n",
        "id_test = test.id"
      ]
    },
    {
      "cell_type": "code",
      "execution_count": null,
      "metadata": {
        "_cell_guid": "1b358fcb-dd8c-1a66-5a04-25008b8c1682"
      },
      "outputs": [],
      "source": [
        "plt.figure(figsize=(12,12))\n",
        "sns.jointplot(x=np.log1p(train.life_sq.values), y=np.log1p(train.price_doc.values), size=10,kind=\"hex\")\n",
        "plt.ylabel('Log of Price', fontsize=12)\n",
        "plt.xlabel('Log of living area in square metre', fontsize=12)\n",
        "plt.show()"
      ]
    },
    {
      "cell_type": "code",
      "execution_count": null,
      "metadata": {
        "_cell_guid": "c1598a7c-fdb9-7c72-62f4-083d887d487f"
      },
      "outputs": [],
      "source": [
        "Q1 = np.percentile(np.log1p(train.price_doc.values), 25)\n",
        "Q2 = np.percentile(np.log1p(train.price_doc.values), 50)\n",
        "Q3 = np.percentile(np.log1p(train.price_doc.values), 75)\n",
        "IQR=Q3 - Q1\n",
        "infbdd=Q1 - 1.5 * IQR \n",
        "supbdd=Q3 + 1.5 * IQR \n",
        "ibdd=int(np.exp(13))\n",
        "sbdd=int(2.5 * np.exp(supbdd))\n",
        "sindex=train[train.price_doc > sbdd].index\n",
        "iindex=train[train.price_doc < ibdd].index\n",
        "train.ix[iindex,\"price_doc\"] = ibdd\n",
        "train.ix[sindex,\"price_doc\"] = sbdd"
      ]
    },
    {
      "cell_type": "code",
      "execution_count": null,
      "metadata": {
        "_cell_guid": "7d8b3d6f-eb49-15bd-bbfd-82a5f64fb8e9"
      },
      "outputs": [],
      "source": [
        "plt.figure(figsize=(12,12))\n",
        "sns.jointplot(x=np.log1p(train.life_sq.values), y=np.log1p(train.price_doc.values), size=10,kind=\"hex\")\n",
        "plt.ylabel('Log of Price', fontsize=12)\n",
        "plt.xlabel('Log of living area in square metre', fontsize=12)\n",
        "plt.show()"
      ]
    },
    {
      "cell_type": "code",
      "execution_count": null,
      "metadata": {
        "_cell_guid": "1e90647e-2fdb-4fea-b692-1b4a177d5321"
      },
      "outputs": [],
      "source": [
        "equal_index = [601,1896,2791]\n",
        "test.ix[equal_index, \"life_sq\"] = test.ix[equal_index, \"full_sq\"]"
      ]
    },
    {
      "cell_type": "code",
      "execution_count": null,
      "metadata": {
        "_cell_guid": "52fef5ca-6b23-5d8c-ead1-07d8113f4b43"
      },
      "outputs": [],
      "source": [
        "bad_index = train[train.life_sq < 2].index\n",
        "train.ix[bad_index, \"life_sq\"] = np.NaN\n",
        "\n",
        "bad_index = test[test.life_sq < 2].index\n",
        "test.ix[bad_index, \"life_sq\"] = np.NaN\n",
        "\n",
        "bad_index = train[train.full_sq < 2].index\n",
        "train.ix[bad_index, \"full_sq\"] = np.NaN\n",
        "\n",
        "bad_index = test[test.full_sq < 2].index\n",
        "test.ix[bad_index, \"full_sq\"] = np.NaN"
      ]
    },
    {
      "cell_type": "code",
      "execution_count": null,
      "metadata": {
        "_cell_guid": "0aed54f0-391d-2ca3-81e4-745ee4245ab2"
      },
      "outputs": [],
      "source": [
        "plt.figure(figsize=(12,12))\n",
        "sns.jointplot(x=np.log1p(train.life_sq.values), y=np.log1p(train.price_doc.values), size=10,kind=\"hex\")\n",
        "plt.ylabel('Log of Price', fontsize=12)\n",
        "plt.xlabel('Log of living area in square metre', fontsize=12)\n",
        "plt.show()"
      ]
    },
    {
      "cell_type": "code",
      "execution_count": null,
      "metadata": {
        "_cell_guid": "2ce59633-dbd7-f964-04b5-12dbc11357c1"
      },
      "outputs": [],
      "source": [
        "bad_index = test[test.life_sq > test.full_sq]\n",
        "bad_index"
      ]
    },
    {
      "cell_type": "code",
      "execution_count": null,
      "metadata": {
        "_cell_guid": "5e915a98-9e6f-5707-b258-b9f9f1222ca4"
      },
      "outputs": [],
      "source": [
        "exchange_index=[64,119,171]\n",
        "life_bad_index=[2027, 2031, 5187]\n",
        "full_bad_index=[2804]\n",
        "test.ix[life_bad_index, \"life_sq\"] = np.NaN\n",
        "test.ix[full_bad_index, \"full_sq\"] = np.NaN\n",
        "for cat in exchange_index:\n",
        "    dog=test.ix[cat, \"life_sq\"]\n",
        "    test.ix[cat, \"life_sq\"] = test.ix[cat, \"full_sq\"]\n",
        "    test.ix[cat, \"full_sq\"]=dog\n",
        "    "
      ]
    },
    {
      "cell_type": "code",
      "execution_count": null,
      "metadata": {
        "_cell_guid": "930b1291-5c23-544e-76db-a31411349bd4"
      },
      "outputs": [],
      "source": [
        "test.ix[exchange_index]"
      ]
    },
    {
      "cell_type": "code",
      "execution_count": null,
      "metadata": {
        "_cell_guid": "4229485b-4789-66c9-9391-85d3fa69f78c"
      },
      "outputs": [],
      "source": [
        "print(np.nanpercentile(np.log1p(train.price_doc.values)/np.log1p(train.full_sq.values), 99.9))\n",
        "print(np.nanpercentile(np.log1p(train.price_doc.values)/np.log1p(train.full_sq.values), 0.1))\n",
        "print(np.nanpercentile(np.log1p(train.price_doc.values)/np.log1p(train.life_sq.values), 99.9))\n",
        "print(np.nanpercentile(np.log1p(train.price_doc.values)/np.log1p(train.life_sq.values), 0.1))\n",
        "print(np.nanpercentile(train.life_sq.values/train.full_sq.values, 1))"
      ]
    },
    {
      "cell_type": "code",
      "execution_count": null,
      "metadata": {
        "_cell_guid": "b63ea18d-cf24-58a3-1c46-96694a014e95"
      },
      "outputs": [],
      "source": [
        "life_bad_index=train[(train.life_sq > train.full_sq) & ((np.log1p(train.price_doc.values)/np.log1p(train.full_sq.values)) > 2.98 ) & ((np.log1p(train.price_doc.values)/np.log1p(train.full_sq.values)) < 5.25 )].index\n",
        "train.ix[life_bad_index, \"life_sq\"] = np.NaN\n",
        "full_bad_index=train[(train.life_sq > train.full_sq) & ((np.log1p(train.price_doc.values)/np.log1p(train.life_sq.values)) > 3.07 ) & ((np.log1p(train.price_doc.values)/np.log1p(train.life_sq.values)) < 6.45 )].index\n",
        "train.ix[full_bad_index, \"full_sq\"] = np.NaN\n",
        "bad_index = train[train.life_sq > train.full_sq]\n",
        "bad_index"
      ]
    },
    {
      "cell_type": "code",
      "execution_count": null,
      "metadata": {
        "_cell_guid": "a51916e3-1820-0406-75da-6d77f5ce94c1"
      },
      "outputs": [],
      "source": [
        "life_bad_index=train[(train.life_sq / train.full_sq<0.39) & ((np.log1p(train.price_doc.values)/np.log1p(train.full_sq.values))>3)&((np.log1p(train.price_doc.values)/np.log1p(train.full_sq.values))<5.25)].index\n",
        "train.ix[life_bad_index, \"life_sq\"] = np.NaN\n",
        "full_bad_index=train[(train.life_sq / train.full_sq<0.39)&((np.log1p(train.price_doc.values)/np.log1p(train.life_sq.values))>3.12)&((np.log1p(train.price_doc.values)/np.log1p(train.life_sq.values))<6.46)].index\n",
        "train.ix[full_bad_index, \"full_sq\"] = np.NaN\n",
        "bad_index = train[(train.life_sq / train.full_sq)<0.39]\n",
        "bad_index"
      ]
    },
    {
      "cell_type": "code",
      "execution_count": null,
      "metadata": {
        "_cell_guid": "3cc1629d-93c6-0ec2-3d14-215c43340e4f"
      },
      "outputs": [],
      "source": [
        "train=train[((np.log1p(train.price_doc.values)/np.log1p(train.life_sq.values)) >3)]"
      ]
    },
    {
      "cell_type": "code",
      "execution_count": null,
      "metadata": {
        "_cell_guid": "75c9a2a7-98b0-dd38-6bab-368754fc41e0"
      },
      "outputs": [],
      "source": [
        "train=train[((np.log1p(train.price_doc.values)/np.log1p(train.life_sq.values)) <6.56)]"
      ]
    },
    {
      "cell_type": "code",
      "execution_count": null,
      "metadata": {
        "_cell_guid": "e5ca876e-5dcc-b10e-b75c-7087546b6cfa"
      },
      "outputs": [],
      "source": [
        "plt.figure(figsize=(12,12))\n",
        "sns.jointplot(x=np.log1p(train.life_sq.values), y=np.log1p(train.price_doc.values), size=10,kind=\"hex\")\n",
        "plt.ylabel('Log of Price', fontsize=12)\n",
        "plt.xlabel('Log of living area in square metre', fontsize=12)\n",
        "plt.show()"
      ]
    },
    {
      "cell_type": "code",
      "execution_count": null,
      "metadata": {
        "_cell_guid": "07c7a2d6-7289-f26d-da6a-c702e6796319"
      },
      "outputs": [],
      "source": [
        "bad=train[train.full_sq==0]\n",
        "bad"
      ]
    },
    {
      "cell_type": "code",
      "execution_count": null,
      "metadata": {
        "_cell_guid": "d7661aec-6f7e-a904-41d6-a718a171698e"
      },
      "outputs": [],
      "source": [
        "bad_index = train[train.life_sq > 300]\n",
        "bad_index"
      ]
    },
    {
      "cell_type": "code",
      "execution_count": null,
      "metadata": {
        "_cell_guid": "740b0fc0-b3cc-03ba-31d9-3fe6a977170f"
      },
      "outputs": [],
      "source": [
        "bad_index = test[test.life_sq > 200]\n",
        "bad_index\n",
        "#test.ix[bad_index, [\"life_sq\", \"full_sq\"]] = np.NaN"
      ]
    },
    {
      "cell_type": "code",
      "execution_count": null,
      "metadata": {
        "_cell_guid": "8d3faba1-f1af-03f1-ed23-11f2304b99c2"
      },
      "outputs": [],
      "source": ""
    }
  ],
  "metadata": {
    "_change_revision": 0,
    "_is_fork": false,
    "kernelspec": {
      "display_name": "Python 3",
      "language": "python",
      "name": "python3"
    },
    "language_info": {
      "codemirror_mode": {
        "name": "ipython",
        "version": 3
      },
      "file_extension": ".py",
      "mimetype": "text/x-python",
      "name": "python",
      "nbconvert_exporter": "python",
      "pygments_lexer": "ipython3",
      "version": "3.6.0"
    }
  },
  "nbformat": 4,
  "nbformat_minor": 0
}