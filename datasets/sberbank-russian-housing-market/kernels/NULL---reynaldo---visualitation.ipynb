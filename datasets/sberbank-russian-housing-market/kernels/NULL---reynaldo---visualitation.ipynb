{
  "cells": [
    {
      "cell_type": "code",
      "execution_count": null,
      "metadata": {
        "_cell_guid": "a458dd02-0caa-01b8-59e7-31d21440a4ed"
      },
      "outputs": [],
      "source": [
        "import numpy as np\n",
        "import pandas as pd\n",
        "import matplotlib.pyplot as plt\n",
        "import seaborn as sns\n",
        "%matplotlib inline\n",
        "from sklearn import model_selection, preprocessing\n",
        "import xgboost as xgb\n",
        "import datetime\n",
        "#now = datetime.datetime.now()\n",
        "\n",
        "train = pd.read_csv('../input/train.csv')\n",
        "test = pd.read_csv('../input/test.csv')\n",
        "macro = pd.read_csv('../input/macro.csv')\n",
        "\n",
        "train[\"price_doc\"] /= 1e6\n",
        "\n",
        "train.sample(3)"
      ]
    },
    {
      "cell_type": "code",
      "execution_count": null,
      "metadata": {
        "_cell_guid": "d8191011-6830-c4d2-8898-4a39373246d5"
      },
      "outputs": [],
      "source": [
        "#sns.distplot(train[\"price_doc\"].values)"
      ]
    },
    {
      "cell_type": "code",
      "execution_count": null,
      "metadata": {
        "_cell_guid": "3d56151e-0af8-140c-30b8-ac1989dfa064"
      },
      "outputs": [],
      "source": [
        "#let's look more closer\n",
        "#sns.distplot(train[train[\"price_doc\"] <= 20][\"price_doc\"].values)"
      ]
    },
    {
      "cell_type": "code",
      "execution_count": null,
      "metadata": {
        "_cell_guid": "fe8a07c7-5bdd-abd3-b559-cd0745b2a6f6"
      },
      "outputs": [],
      "source": [
        "train[\"timestamp\"] = pd.to_datetime(train[\"timestamp\"])\n",
        "train[\"year\"], train[\"month\"], train[\"day\"] = train[\"timestamp\"].dt.year,train[\"timestamp\"].dt.month,train[\"timestamp\"].dt.day\n",
        "train['yearmonth'] = train['timestamp'].apply(lambda x: str(x)[:4]+str(x)[5:7])\n",
        "\n",
        "test[\"timestamp\"] = pd.to_datetime(test[\"timestamp\"])\n",
        "test[\"year\"], test[\"month\"], test[\"day\"] = test[\"timestamp\"].dt.year,test[\"timestamp\"].dt.month,test[\"timestamp\"].dt.day\n",
        "test['yearmonth'] = test['timestamp'].apply(lambda x: str(x)[:4]+str(x)[5:7])"
      ]
    },
    {
      "cell_type": "code",
      "execution_count": null,
      "metadata": {
        "_cell_guid": "f13f4085-ec87-2e4d-4c05-821e625872ce"
      },
      "outputs": [],
      "source": [
        "train[\"count\"] = 1\n",
        "count_year = train.groupby(\"year\").count().reset_index()\n",
        "sns.barplot(count_year[\"year\"],count_year[\"count\"])"
      ]
    },
    {
      "cell_type": "code",
      "execution_count": null,
      "metadata": {
        "_cell_guid": "a3b569a9-c15e-a688-cf06-59dabbf3c6e7"
      },
      "outputs": [],
      "source": [
        "test[\"count\"] = 1\n",
        "count_year = test.groupby(\"year\").count().reset_index()\n",
        "sns.barplot(count_year[\"year\"],count_year[\"count\"])"
      ]
    },
    {
      "cell_type": "code",
      "execution_count": null,
      "metadata": {
        "_cell_guid": "afbe3270-03c0-ace0-c23f-29410543873a"
      },
      "outputs": [],
      "source": [
        "total = int(len(train)*0.2)\n",
        "train[\"count\"] = 1\n",
        "train_inc = train[-total:]\n",
        "count_year = train_inc.groupby(\"year\").count().reset_index()\n",
        "sns.barplot(count_year[\"year\"],count_year[\"count\"])"
      ]
    },
    {
      "cell_type": "code",
      "execution_count": null,
      "metadata": {
        "_cell_guid": "f6dcf980-7bc8-7bd3-ef5f-05244214c2c3"
      },
      "outputs": [],
      "source": [
        "train.groupby(\"yearmonth\").aggregate(np.mean).reset_index()\n",
        "plt.figure(figsize= (12,8))\n",
        "plt.xticks(rotation=\"vertical\")\n",
        "sns.barplot(train[\"yearmonth\"].values,train[\"price_doc\"].values)"
      ]
    },
    {
      "cell_type": "code",
      "execution_count": null,
      "metadata": {
        "_cell_guid": "f7a89a13-9b16-52ca-f8ac-92bf6f3107ca"
      },
      "outputs": [],
      "source": [
        "train.groupby(\"build_year\").aggregate(np.mean).reset_index()\n",
        "plt.figure(figsize= (20,12))\n",
        "plt.xticks(rotation=\"vertical\")\n",
        "sns.barplot(train[\"build_year\"],train[\"full_sq\"])"
      ]
    },
    {
      "cell_type": "code",
      "execution_count": null,
      "metadata": {
        "_cell_guid": "3ac41e28-785e-034f-a553-a12c104f506d"
      },
      "outputs": [],
      "source": [
        "def corr_plot(dataframe, top_n, target, fig_x, fig_y):\n",
        "    corrmat = dataframe.corr()\n",
        "    #top_n - top n correlations +1 since price is included\n",
        "    top_n = top_n + 1 \n",
        "    cols = corrmat.nlargest(top_n, target)[target].index\n",
        "    cm = np.corrcoef(train[cols].values.T)\n",
        "    f, ax = plt.subplots(figsize=(fig_x,fig_y))\n",
        "    sns.set(font_scale=1.25)\n",
        "    cmap = plt.cm.viridis\n",
        "    hm = sns.heatmap(cm, cbar=False, annot=True, square=True,cmap = cmap, fmt='.2f', annot_kws={'size': 10}, \n",
        "                 yticklabels=cols.values, xticklabels=cols.values)\n",
        "    plt.show()\n",
        "    return cols\n",
        "corr_20 = corr_plot(train, 20, 'price_doc', 10,10)"
      ]
    },
    {
      "cell_type": "code",
      "execution_count": null,
      "metadata": {
        "_cell_guid": "d7ffb857-4474-25bf-b644-c7260d583974"
      },
      "outputs": [],
      "source": [
        "#train.groupby(\"full_sq\").size()"
      ]
    },
    {
      "cell_type": "code",
      "execution_count": null,
      "metadata": {
        "_cell_guid": "b12445ce-e566-68aa-66c1-4d8c14f29ca0"
      },
      "outputs": [],
      "source": [
        "small_train = train.dropna()\n",
        "print(len(train))\n",
        "print(len(small_train))"
      ]
    },
    {
      "cell_type": "code",
      "execution_count": null,
      "metadata": {
        "_cell_guid": "ba1ada3e-f237-2681-ce53-193c6a614b4a"
      },
      "outputs": [],
      "source": [
        "square_per_room = small_train[\"life_sq\"]/small_train[\"num_room\"]\n",
        "#square_per_room = square_per_room[square_per_room < 60]\n",
        "plt.scatter(small_train[\"num_room\"],square_per_room,color=\"red\")\n",
        "#plt.scatter(small_train[\"num_room\"],small_train[\"price_doc\"],color=\"blue\")"
      ]
    },
    {
      "cell_type": "code",
      "execution_count": null,
      "metadata": {
        "_cell_guid": "5e9c55e9-c403-2d8f-7eae-7ab299ad9acb"
      },
      "outputs": [],
      "source": [
        "avg_df = small_train.groupby(\"num_room\").mean().reset_index()"
      ]
    },
    {
      "cell_type": "code",
      "execution_count": null,
      "metadata": {
        "_cell_guid": "c142f92b-fffe-8b8f-a982-e0240d6ef4ab"
      },
      "outputs": [],
      "source": [
        "print(len(test))\n",
        "print(len(test.dropna()))"
      ]
    }
  ],
  "metadata": {
    "_change_revision": 0,
    "_is_fork": false,
    "kernelspec": {
      "display_name": "Python 3",
      "language": "python",
      "name": "python3"
    },
    "language_info": {
      "codemirror_mode": {
        "name": "ipython",
        "version": 3
      },
      "file_extension": ".py",
      "mimetype": "text/x-python",
      "name": "python",
      "nbconvert_exporter": "python",
      "pygments_lexer": "ipython3",
      "version": "3.6.0"
    }
  },
  "nbformat": 4,
  "nbformat_minor": 0
}