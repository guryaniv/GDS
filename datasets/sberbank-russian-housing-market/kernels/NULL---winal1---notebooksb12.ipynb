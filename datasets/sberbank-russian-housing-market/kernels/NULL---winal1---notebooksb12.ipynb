{
  "cells": [
    {
      "cell_type": "code",
      "execution_count": null,
      "metadata": {
        "_cell_guid": "0c615f20-544f-bd9b-89cf-06d567f044cd"
      },
      "outputs": [],
      "source": [
        "import numpy as np\n",
        "import pandas as pd\n",
        "import matplotlib.pyplot as plt\n",
        "import seaborn as sns\n",
        "from sklearn import model_selection, preprocessing\n",
        "import xgboost as xgb\n",
        "import datetime\n",
        "\n",
        "#load files\n",
        "train = pd.read_csv('../input/train.csv', parse_dates=['timestamp'])\n",
        "test = pd.read_csv('../input/test.csv', parse_dates=['timestamp'])\n",
        "macro = pd.read_csv('../input/macro.csv', parse_dates=['timestamp'])\n",
        "id_test = test.id"
      ]
    },
    {
      "cell_type": "markdown",
      "metadata": {
        "_cell_guid": "41eca991-b243-6392-9c98-cc3303bfb861"
      },
      "source": [
        "## Data Analysis ##"
      ]
    },
    {
      "cell_type": "code",
      "execution_count": null,
      "metadata": {
        "_cell_guid": "103c2842-ba18-a58b-5cdc-9f827b864671"
      },
      "outputs": [],
      "source": [
        "train_f=train.columns\n",
        "test_f=test.columns\n",
        "#Clean Data (JasonBenner Code)\n",
        "bad_index = train[train.life_sq > train.full_sq].index\n",
        "train.ix[bad_index, \"life_sq\"] = np.NaN\n",
        "equal_index = [601,1896,2791]\n",
        "test.ix[equal_index, \"life_sq\"] = test.ix[equal_index, \"full_sq\"]\n",
        "bad_index = test[test.life_sq > test.full_sq].index\n",
        "test.ix[bad_index, \"life_sq\"] = np.NaN\n",
        "bad_index = train[train.life_sq < 5].index\n",
        "train.ix[bad_index, \"life_sq\"] = np.NaN\n",
        "bad_index = test[test.life_sq < 5].index\n",
        "test.ix[bad_index, \"life_sq\"] = np.NaN\n",
        "bad_index = train[train.full_sq < 5].index\n",
        "train.ix[bad_index, \"full_sq\"] = np.NaN\n",
        "bad_index = test[test.full_sq < 5].index\n",
        "test.ix[bad_index, \"full_sq\"] = np.NaN\n",
        "kitch_is_build_year = [13117]\n",
        "train.ix[kitch_is_build_year, \"build_year\"] = train.ix[kitch_is_build_year, \"kitch_sq\"]\n",
        "bad_index = train[train.kitch_sq >= train.life_sq].index\n",
        "train.ix[bad_index, \"kitch_sq\"] = np.NaN\n",
        "bad_index = test[test.kitch_sq >= test.life_sq].index\n",
        "test.ix[bad_index, \"kitch_sq\"] = np.NaN\n",
        "bad_index = train[(train.kitch_sq == 0).values + (train.kitch_sq == 1).values].index\n",
        "train.ix[bad_index, \"kitch_sq\"] = np.NaN\n",
        "bad_index = test[(test.kitch_sq == 0).values + (test.kitch_sq == 1).values].index\n",
        "test.ix[bad_index, \"kitch_sq\"] = np.NaN\n",
        "bad_index = train[(train.full_sq > 210) & (train.life_sq / train.full_sq < 0.3)].index\n",
        "train.ix[bad_index, \"full_sq\"] = np.NaN\n",
        "bad_index = test[(test.full_sq > 150) & (test.life_sq / test.full_sq < 0.3)].index\n",
        "test.ix[bad_index, \"full_sq\"] = np.NaN\n",
        "bad_index = train[train.life_sq > 300].index\n",
        "train.ix[bad_index, [\"life_sq\", \"full_sq\"]] = np.NaN\n",
        "bad_index = test[test.life_sq > 200].index\n",
        "test.ix[bad_index, [\"life_sq\", \"full_sq\"]] = np.NaN\n",
        "train.product_type.value_counts(normalize= True)\n",
        "test.product_type.value_counts(normalize= True)\n",
        "bad_index = train[train.build_year < 1500].index\n",
        "train.ix[bad_index, \"build_year\"] = np.NaN\n",
        "bad_index = test[test.build_year < 1500].index\n",
        "test.ix[bad_index, \"build_year\"] = np.NaN\n",
        "bad_index = train[train.num_room == 0].index \n",
        "train.ix[bad_index, \"num_room\"] = np.NaN\n",
        "bad_index = test[test.num_room == 0].index \n",
        "test.ix[bad_index, \"num_room\"] = np.NaN\n",
        "bad_index = [10076, 11621, 17764, 19390, 24007, 26713, 29172]\n",
        "train.ix[bad_index, \"num_room\"] = np.NaN\n",
        "bad_index = [3174, 7313]\n",
        "test.ix[bad_index, \"num_room\"] = np.NaN\n",
        "bad_index = train[(train.floor == 0).values * (train.max_floor == 0).values].index\n",
        "train.ix[bad_index, [\"max_floor\", \"floor\"]] = np.NaN\n",
        "bad_index = train[train.floor == 0].index\n",
        "train.ix[bad_index, \"floor\"] = np.NaN\n",
        "bad_index = train[train.max_floor == 0].index\n",
        "train.ix[bad_index, \"max_floor\"] = np.NaN\n",
        "bad_index = test[test.max_floor == 0].index\n",
        "test.ix[bad_index, \"max_floor\"] = np.NaN\n",
        "bad_index = train[train.floor > train.max_floor].index\n",
        "train.ix[bad_index, \"max_floor\"] = np.NaN\n",
        "bad_index = test[test.floor > test.max_floor].index\n",
        "test.ix[bad_index, \"max_floor\"] = np.NaN\n",
        "train.floor.describe(percentiles= [0.9999])\n",
        "bad_index = [23584]\n",
        "train.ix[bad_index, \"floor\"] = np.NaN\n",
        "train.material.value_counts()\n",
        "test.material.value_counts()\n",
        "train.state.value_counts()\n",
        "bad_index = train[train.state == 33].index\n",
        "train.ix[bad_index, \"state\"] = np.NaN\n",
        "test.state.value_counts()\n",
        "\n",
        "macro_f=macro.columns\n",
        "train_mac = train\n",
        "test_mac = test\n",
        "train_mac[\"price_doc\"]\n",
        "hi = np.percentile(train_mac.price_doc.values, 99)\n",
        "lo = np.percentile(train_mac.price_doc.values, 1)\n",
        "train_mac[\"price_doc\"].ix[train_mac[\"price_doc\"]>hi] = hi\n",
        "train_mac[\"price_doc\"].ix[train_mac[\"price_doc\"]<lo] = lo\n",
        "train_mac[\"price_for_sq\"]=train_mac[\"price_doc\"]/train_mac[\"full_sq\"]\n",
        "for f in train_mac.columns:\n",
        "    if train_mac[f].dtype=='object':\n",
        "        lbl = preprocessing.LabelEncoder()\n",
        "        lbl.fit(list(train_mac[f].values.astype('str')) + list(test_mac[f].values.astype('str')))\n",
        "        train_mac[f] = lbl.transform(list(train_mac[f].values.astype('str')))\n",
        "        test_mac[f] = lbl.transform(list(test_mac[f].values.astype('str')))\n",
        "train_mac=train_mac[train_mac[\"price_for_sq\"]>=10000]\n",
        "train_mac=train_mac[train_mac[\"price_for_sq\"]<=600000]\n",
        "train_mac.drop(\"price_for_sq\",axis=1,inplace=True)"
      ]
    },
    {
      "cell_type": "code",
      "execution_count": null,
      "metadata": {
        "_cell_guid": "24829ba3-89fe-6e05-1946-8d34db45a4f1"
      },
      "outputs": [],
      "source": [
        "#missing data\n",
        "total = train_mac.isnull().sum().sort_values(ascending=False)\n",
        "percent = (train_mac.isnull().sum()/train_mac.isnull().count()).sort_values(ascending=False)\n",
        "missing_data_train = pd.concat([total, percent], axis=1, keys=['Total', 'Percent'])\n",
        "missing_data_train.head(20)\n",
        "total = test_mac.isnull().sum().sort_values(ascending=False)\n",
        "percent = (test_mac.isnull().sum()/test_mac.isnull().count()).sort_values(ascending=False)\n",
        "missing_data_test = pd.concat([total, percent], axis=1, keys=['Total', 'Percent'])\n",
        "missing_data_test.head(100)\n",
        "miss=missing_data_train[missing_data_train['Percent'] > 0.4]\n",
        "#delete Percent>0.4\n",
        "train_mac.drop(miss.index,axis=1)\n",
        "test_mac.drop(miss.index, axis=1)\n",
        "miss"
      ]
    },
    {
      "cell_type": "code",
      "execution_count": null,
      "metadata": {
        "_cell_guid": "e77b723c-4716-85f6-c629-4ccd576ce278"
      },
      "outputs": [],
      "source": [
        ""
      ]
    },
    {
      "cell_type": "markdown",
      "metadata": {
        "_cell_guid": "19937aca-7a90-3d0f-2871-0001422be801"
      },
      "source": [
        "new date features "
      ]
    },
    {
      "cell_type": "code",
      "execution_count": null,
      "metadata": {
        "_cell_guid": "2307e94d-68aa-7597-1363-bb6c69bc30f1"
      },
      "outputs": [],
      "source": [
        "train_p=train_mac[\"timestamp\"].dt.year\n",
        "test_p=test_mac[\"timestamp\"].dt.year\n",
        "train_mac[\"year\"]=train_p\n",
        "test_mac[\"year\"]=test_p\n",
        "\n",
        "train_p=train_mac[\"timestamp\"].dt.month\n",
        "test_p=test_mac[\"timestamp\"].dt.month\n",
        "train_mac[\"month\"]=train_p\n",
        "test_mac[\"month\"]=test_p\n",
        "\n",
        "train_p=train_mac[\"timestamp\"].dt.dayofweek\n",
        "test_p=test_mac[\"timestamp\"].dt.dayofweek\n",
        "train_mac[\"dow\"]=train_p\n",
        "test_mac[\"dow\"]=test_p\n",
        "\n",
        "train_p=train_mac[\"timestamp\"].dt.weekofyear\n",
        "test_p=test_mac[\"timestamp\"].dt.weekofyear\n",
        "train_mac[\"woy\"]=train_p\n",
        "test_mac[\"woy\"]=test_p\n",
        "\n",
        "train_p=train_mac[\"timestamp\"].dt.year*100+train_mac[\"timestamp\"].dt.weekofyear\n",
        "test_p=test_mac[\"timestamp\"].dt.year*100+test_mac[\"timestamp\"].dt.weekofyear\n",
        "train_mac[\"yearweek\"]=train_p\n",
        "test_mac[\"yearweek\"]=test_p\n",
        "\n",
        "train_p=train_mac[\"timestamp\"].dt.year*100+train_mac[\"timestamp\"].dt.month\n",
        "test_p=test_mac[\"timestamp\"].dt.year*100+test_mac[\"timestamp\"].dt.month\n",
        "train_mac[\"yearmonth\"]=train_p\n",
        "test_mac[\"yearmonth\"]=test_p"
      ]
    },
    {
      "cell_type": "code",
      "execution_count": null,
      "metadata": {
        "_cell_guid": "b6cc55ff-251e-9282-b3bc-6a39d51a7924"
      },
      "outputs": [],
      "source": [
        "train_mac.groupby(\"year\")[\"price_doc\"].agg(np.median).plot(kind=\"bar\")"
      ]
    },
    {
      "cell_type": "code",
      "execution_count": null,
      "metadata": {
        "_cell_guid": "698e7048-4101-e005-1e11-1aafd7156c9b"
      },
      "outputs": [],
      "source": [
        "train_mac.groupby(\"month\")[\"price_doc\"].agg(np.median).plot(kind=\"bar\")"
      ]
    },
    {
      "cell_type": "code",
      "execution_count": null,
      "metadata": {
        "_cell_guid": "ba667fd0-4c7c-efdf-0328-efeda7030b03"
      },
      "outputs": [],
      "source": [
        "train_mac.groupby(\"dow\")[\"price_doc\"].agg(np.median).plot(kind=\"bar\")"
      ]
    },
    {
      "cell_type": "code",
      "execution_count": null,
      "metadata": {
        "_cell_guid": "f01198df-aa18-1775-52b6-4e4210485af6"
      },
      "outputs": [],
      "source": [
        "train_mac.groupby(\"woy\")[\"price_doc\"].agg(np.median).plot(kind=\"bar\")"
      ]
    },
    {
      "cell_type": "markdown",
      "metadata": {
        "_cell_guid": "092ba07e-c73e-e06f-0a8e-516cd0411938"
      },
      "source": [
        "other new features"
      ]
    },
    {
      "cell_type": "code",
      "execution_count": null,
      "metadata": {
        "_cell_guid": "fbf6e372-43bb-423b-124f-195744adf96d"
      },
      "outputs": [],
      "source": [
        "train_mac[\"ratio_livsq_fullsq\"]= train_mac[\"life_sq\"] / train_mac[\"full_sq\"].astype(float)\n",
        "test_mac[\"ratio_livsq_fullsq\"]= test_mac[\"life_sq\"] / test_mac[\"full_sq\"].astype(float)"
      ]
    },
    {
      "cell_type": "code",
      "execution_count": null,
      "metadata": {
        "_cell_guid": "dd342ab0-178d-c99c-b791-e7ad544c0764"
      },
      "outputs": [],
      "source": [
        "pl=train_mac\n",
        "correlations = pl.corr()\n",
        "corrwithprice=correlations[[\"price_doc\"]]\n",
        "corrwithprice.sort_values(by=\"price_doc\",inplace=True)\n",
        "unimportant_features=[]\n",
        "for i in corrwithprice[\"price_doc\"].index:\n",
        "    if abs(corrwithprice.loc[i,\"price_doc\"])<0.1:\n",
        "        unimportant_features.append(i)\n",
        "unimportant_features"
      ]
    },
    {
      "cell_type": "markdown",
      "metadata": {
        "_cell_guid": "ddd67a0e-e269-ffbe-f1de-82dd180e9397"
      },
      "source": [
        "##Data modelling##"
      ]
    },
    {
      "cell_type": "markdown",
      "metadata": {
        "_cell_guid": "951cbb98-81d6-1830-9e86-1b3da9c413b5"
      },
      "source": [
        "train model"
      ]
    },
    {
      "cell_type": "code",
      "execution_count": null,
      "metadata": {
        "_cell_guid": "f5b80b92-f48c-8997-acc0-246a7e4d6806"
      },
      "outputs": [],
      "source": [
        "train_X = train_mac.drop([\"id\", \"timestamp\", \"price_doc\"], axis=1)\n",
        "test_X = test_mac.drop([\"id\", \"timestamp\"], axis=1)\n",
        "train_Y = np.log1p(train_mac[\"price_doc\"].values)"
      ]
    },
    {
      "cell_type": "code",
      "execution_count": null,
      "metadata": {
        "_cell_guid": "d2342af7-b113-4d26-a244-14b179efc3bd"
      },
      "outputs": [],
      "source": [
        "val_time = 201407\n",
        "dev_indices = np.where(train_X[\"yearmonth\"]<val_time)\n",
        "val_indices = np.where(train_X[\"yearmonth\"]>=val_time)\n",
        "dev_X = train_X.ix[dev_indices]\n",
        "val_X = train_X.ix[val_indices]\n",
        "dev_Y = train_Y[dev_indices]\n",
        "val_Y = train_Y[val_indices]\n",
        "print(dev_X.shape, val_X.shape)"
      ]
    },
    {
      "cell_type": "code",
      "execution_count": null,
      "metadata": {
        "_cell_guid": "71886bdf-749b-cf88-c6d3-2b2286c2ac86"
      },
      "outputs": [],
      "source": [
        "xgb_params = {\n",
        "    'eta': 0.05,\n",
        "    'max_depth': 5,\n",
        "    'subsample': 0.75,\n",
        "    'colsample_bytree': 0.7,\n",
        "    'objective': 'reg:linear',\n",
        "    'eval_metric': 'rmse',\n",
        "    'min_child_weight':1,\n",
        "    'silent': 1,\n",
        "    'seed':0\n",
        "}\n",
        "\n",
        "xgtrain = xgb.DMatrix(train_X, train_Y, feature_names=train_X.columns)\n",
        "\n",
        "\n",
        "watchlist = [ (xgtrain,'train')]\n",
        "num_rounds = 400 # Increase the number of rounds while running in local\n",
        "model = xgb.train(xgb_params, xgtrain, num_rounds, watchlist, early_stopping_rounds=50, verbose_eval=5)"
      ]
    },
    {
      "cell_type": "code",
      "execution_count": null,
      "metadata": {
        "_cell_guid": "367f5b28-0ee0-a590-b344-cfbc7302c03a"
      },
      "outputs": [],
      "source": [
        "fig, ax = plt.subplots(figsize=(12,66))\n",
        "xgb.plot_importance(model, max_num_features=200, height=0.8,ax=ax)"
      ]
    },
    {
      "cell_type": "code",
      "execution_count": null,
      "metadata": {
        "_cell_guid": "a935666a-0f76-9d5b-4abc-1702cf42e9d7"
      },
      "outputs": [],
      "source": [
        "\n",
        "importance = model.get_fscore()\n",
        "limp=[]\n",
        "for i in importance:\n",
        "    if importance[i]<10:\n",
        "        limp.append(i)\n",
        "len(limp)\n",
        "test_X"
      ]
    },
    {
      "cell_type": "markdown",
      "metadata": {
        "_cell_guid": "028f9e3e-99e3-521c-a979-4449a42e2a5b"
      },
      "source": [
        "prediction"
      ]
    },
    {
      "cell_type": "code",
      "execution_count": null,
      "metadata": {
        "_cell_guid": "30e4ec2f-e3a2-888d-1dc5-e60dd459c2c1"
      },
      "outputs": [],
      "source": [
        "test_mac_matrix = xgb.DMatrix(test_X)\n",
        "predict = model.predict(test_mac_matrix)\n",
        "output = pd.DataFrame({'id': id_test, 'price_doc': np.exp(predict)})\n",
        "output.to_csv(\"out2.csv\",index=False)"
      ]
    },
    {
      "cell_type": "code",
      "execution_count": null,
      "metadata": {
        "_cell_guid": "ad15b480-fdc0-955c-2d8e-bb07d0b0c3c7"
      },
      "outputs": [],
      "source": [
        ""
      ]
    }
  ],
  "metadata": {
    "_change_revision": 0,
    "_is_fork": false,
    "kernelspec": {
      "display_name": "Python 3",
      "language": "python",
      "name": "python3"
    },
    "language_info": {
      "codemirror_mode": {
        "name": "ipython",
        "version": 3
      },
      "file_extension": ".py",
      "mimetype": "text/x-python",
      "name": "python",
      "nbconvert_exporter": "python",
      "pygments_lexer": "ipython3",
      "version": "3.6.0"
    }
  },
  "nbformat": 4,
  "nbformat_minor": 0
}