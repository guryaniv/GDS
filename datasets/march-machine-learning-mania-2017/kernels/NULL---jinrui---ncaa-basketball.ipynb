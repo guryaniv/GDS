{
  "cells": [
    {
      "cell_type": "code",
      "execution_count": null,
      "metadata": {
        "_cell_guid": "1dd1f871-70b8-1f11-2216-0147a78dcb57"
      },
      "outputs": [],
      "source": [
        "import numpy as np # linear algebra\n",
        "import pandas as pd # data processing, CSV file I/O (e.g. pd.read_csv)\n",
        "\n",
        "# Input data files are available in the \"../input/\" directory.\n",
        "# For example, running this (by clicking run or pressing Shift+Enter) will list the files in the input directory\n",
        "\n",
        "from subprocess import check_output\n",
        "from sklearn.preprocessing import StandardScaler\n",
        "from sklearn.preprocessing import MinMaxScaler \n",
        "from sklearn.preprocessing import OneHotEncoder\n",
        "from sklearn.preprocessing import LabelEncoder\n",
        "from sklearn.grid_search import GridSearchCV\n",
        "print(check_output([\"ls\", \"../input\"]).decode(\"utf8\"))"
      ]
    },
    {
      "cell_type": "code",
      "execution_count": null,
      "metadata": {
        "_cell_guid": "f7edea29-3fb3-e327-e93e-8ac5d6537849"
      },
      "outputs": [],
      "source": [
        "#\u83b7\u53d6\u6570\u636e\n",
        "Teams = pd.read_csv(\"../input/Teams.csv\")  #\u7403\u961fid\u548c\u540d\u5b57\n",
        "Seasons = pd.read_csv(\"../input/Seasons.csv\")  #\u6bcf\u4e2a\u8d5b\u5b63wxyz \u548c \u5730\u57df\u5bf9\u5e94\u7684\u5173\u7cfb\n",
        "TourneySeeds = pd.read_csv(\"../input/TourneySeeds.csv\")  #\u6bcf\u4e2a\u8d5b\u5b63\u5b63\u540e\u8d5b\u7684\u79cd\u5b50\u961f\n",
        "TourneyDetailedResults = pd.read_csv(\"../input/TourneyDetailedResults.csv\")  #\u6bcf\u4e2a\u8d5b\u5b63\u5b63\u540e\u8d5b\u6bcf\u573a\u6bd4\u8d5b\u7684\u5177\u4f53\u7ed3\u679c\n",
        "TourneySlots = pd.read_csv(\"../input/TourneySlots.csv\")  #\u6bcf\u4e2a\u8d5b\u5b63\u5b63\u540e\u8d5b\u5bf9\u9635\u60c5\u51b5\uff0c\u8003\u8651\u6709playin\u6bd4\u8d5b\n",
        "RegularSeasonCompactResults = pd.read_csv(\"../input/RegularSeasonCompactResults.csv\")  #\u6bcf\u4e2a\u8d5b\u5b63\u5e38\u89c4\u8d5b\u6bd4\u8d5b\u7ed3\u679c\n",
        "RegularSeasonDetailedResults = pd.read_csv(\"../input/RegularSeasonDetailedResults.csv\")  #\u6bcf\u4e2a\u8d5b\u5b63\u5e38\u89c4\u8d5b\u6bd4\u8d5b\u8be6\u7ec6\u7ed3\u679c\n",
        "TourneyCompactResults = pd.read_csv(\"../input/TourneyCompactResults.csv\")  #\u6bcf\u4e2a\u8d5b\u5b63\u5b63\u540e\u8d5b\u6bcf\u573a\u6bd4\u8d5b\u7684\u57fa\u672c\u7ed3\u679c\n",
        "\n",
        "TourneySlots.head()"
      ]
    },
    {
      "cell_type": "code",
      "execution_count": null,
      "metadata": {
        "_cell_guid": "aaa47314-eb60-5214-06bf-7610dbb76412"
      },
      "outputs": [],
      "source": [
        "#\u5229\u7528\u6574\u4f53\u7684\u6570\u636e\uff0c\u6bd4\u5982\u7403\u961f\u6bcf\u4e2a\u8d5b\u5b63\u7684\u80dc\u7387\uff0c\u7403\u961f\u5e73\u5747\u6bcf\u573a\u5f97\u5206\uff0c\u7403\u961f\u5e73\u5747\u6bcf\u573a\u5931\u5206\uff0c\u6295\u7bee\u547d\u4e2d\u7387\uff0c\u4e09\u5206\u547d\u4e2d\u7387\uff0c\u7f5a\u7403\u547d\u4e2d\u7387\uff0c\u8fdb\u653b\u7bee\u677f\uff0c\u9632\u5b88\u7bee\u677f\uff0c\u52a9\u653b\uff0c\u5931\u8bef\uff0c\u62a2\u65ad\uff0c\u76d6\u5e3d\uff0c\u72af\u89c4\n",
        "#\u8fd9\u4e2a\u4e3b\u8981\u662f\u4f7f\u7528RegularSeasonDetailedResults\u548cRegularSeasonCompactResults\n",
        "\n",
        "#\u5408\u5e76\u8d62\u7403\u548c\u8f93\u7403\uff0c\u83b7\u53d6\u6bcf\u4e2a\u7403\u961f\u7403\u573a\u57fa\u7840\u6570\u636e\n",
        "df1=RegularSeasonDetailedResults[['Season','Wteam','Wscore','Numot','Wfgm','Wfga','Wfgm3','Wfga3','Wftm','Wfta','Wor','Wdr','Wast','Wto','Wstl','Wblk','Wpf']]\n",
        "df2=RegularSeasonDetailedResults[['Season','Lteam','Lscore','Numot','Lfgm','Lfga','Lfgm3','Lfga3','Lftm','Lfta','Lor','Ldr','Last','Lto','Lstl','Lblk','Lpf']]\n",
        "df3 = df2\n",
        "df3.columns = ['Season','Wteam','Wscore','Numot','Wfgm','Wfga','Wfgm3','Wfga3','Wftm','Wfta','Wor','Wdr','Wast','Wto','Wstl','Wblk','Wpf']\n",
        "pds = df1.append(df3,ignore_index=True)\n",
        "detailavg = pds.groupby(['Season', 'Wteam'])[['Wscore','Numot','Wfgm','Wfga','Wfgm3','Wfga3','Wftm','Wfta','Wor','Wdr','Wast','Wto','Wstl','Wblk','Wpf']].mean()\n",
        "#detailavg = RegularSeasonDetailedResults.groupby(['Season', 'Wteam']).mean()\n",
        "detailavg.tail()\n",
        "\n",
        "#\u83b7\u53d6\u975e\u8be6\u7ec6\u7684\u6570\u636e\n",
        "df1=RegularSeasonCompactResults[['Season','Wteam','Wscore','Numot']]\n",
        "df2=RegularSeasonCompactResults[['Season','Lteam','Lscore','Numot']]\n",
        "df3 = df2\n",
        "df3.columns = ['Season','Wteam','Wscore','Numot']\n",
        "pds = df1.append(df3,ignore_index=True)\n",
        "compactavg = pds.groupby(['Season', 'Wteam'])[['Wscore','Numot']].mean()\n",
        "#detailavg = RegularSeasonDetailedResults.groupby(['Season', 'Wteam']).mean()\n",
        "compactavg.tail()"
      ]
    },
    {
      "cell_type": "code",
      "execution_count": null,
      "metadata": {
        "_cell_guid": "cbb96497-b767-de24-82cd-08f882ef2b29"
      },
      "outputs": [],
      "source": [
        "#\u7b97\u51fa\u6bcf\u53ea\u7403\u961f\u4e3b\u5ba2\u573a\u6570\u636e\n",
        "##\u83b7\u53d6\u6bcf\u4e2a\u7403\u961f\u4e3b\u573a\u6570\u636e\n",
        "df1=RegularSeasonDetailedResults[RegularSeasonDetailedResults.Wloc == 'H'][['Season','Wteam','Wscore','Numot','Wfgm','Wfga','Wfgm3','Wfga3','Wftm','Wfta','Wor','Wdr','Wast','Wto','Wstl','Wblk','Wpf']]\n",
        "df2=RegularSeasonDetailedResults[['Season','Lteam','Lscore','Numot','Lfgm','Lfga','Lfgm3','Lfga3','Lftm','Lfta','Lor','Ldr','Last','Lto','Lstl','Lblk','Lpf']][RegularSeasonDetailedResults.Wloc == 'A']\n",
        "df3 = df2\n",
        "df3.columns = ['Season','Wteam','Wscore','Numot','Wfgm','Wfga','Wfgm3','Wfga3','Wftm','Wfta','Wor','Wdr','Wast','Wto','Wstl','Wblk','Wpf']\n",
        "pds = df1.append(df3,ignore_index=True)\n",
        "zhudetailavg = pds.groupby(['Season', 'Wteam'])[['Wscore','Numot','Wfgm','Wfga','Wfgm3','Wfga3','Wftm','Wfta','Wor','Wdr','Wast','Wto','Wstl','Wblk','Wpf']].mean()\n",
        "#detailavg = RegularSeasonDetailedResults.groupby(['Season', 'Wteam']).mean()\n",
        "zhudetailavg.tail()\n",
        "\n",
        "df1=RegularSeasonCompactResults[RegularSeasonCompactResults.Wloc == 'H'][['Season','Wteam','Wscore','Numot']]\n",
        "df2=RegularSeasonCompactResults[RegularSeasonCompactResults.Wloc == 'A'][['Season','Lteam','Lscore','Numot']]\n",
        "df3 = df2\n",
        "df3.columns = ['Season','Wteam','Wscore','Numot']\n",
        "pds = df1.append(df3,ignore_index=True)\n",
        "zhucompactavg = pds.groupby(['Season', 'Wteam'])[['Wscore','Numot']].mean()\n",
        "#detailavg = RegularSeasonDetailedResults.groupby(['Season', 'Wteam']).mean()\n",
        "#\u83b7\u53d6\u6bcf\u4e2a\u7403\u961f\u5ba2\u573a\u6570\u636e\n",
        "df1=RegularSeasonDetailedResults[['Season','Wteam','Wscore','Numot','Wfgm','Wfga','Wfgm3','Wfga3','Wftm','Wfta','Wor','Wdr','Wast','Wto','Wstl','Wblk','Wpf']][RegularSeasonDetailedResults.Wloc == 'A']\n",
        "df2=RegularSeasonDetailedResults[['Season','Lteam','Lscore','Numot','Lfgm','Lfga','Lfgm3','Lfga3','Lftm','Lfta','Lor','Ldr','Last','Lto','Lstl','Lblk','Lpf']][RegularSeasonDetailedResults.Wloc == 'H']\n",
        "df3 = df2\n",
        "df3.columns = ['Season','Wteam','Wscore','Numot','Wfgm','Wfga','Wfgm3','Wfga3','Wftm','Wfta','Wor','Wdr','Wast','Wto','Wstl','Wblk','Wpf']\n",
        "pds = df1.append(df3,ignore_index=True)\n",
        "kedetailavg = pds.groupby(['Season', 'Wteam'])[['Wscore','Numot','Wfgm','Wfga','Wfgm3','Wfga3','Wftm','Wfta','Wor','Wdr','Wast','Wto','Wstl','Wblk','Wpf']].mean()\n",
        "#detailavg = RegularSeasonDetailedResults.groupby(['Season', 'Wteam']).mean()\n",
        "kedetailavg.tail()\n",
        "\n",
        "df1=RegularSeasonCompactResults[['Season','Wteam','Wscore','Numot']][RegularSeasonCompactResults.Wloc == 'A']\n",
        "df2=RegularSeasonCompactResults[['Season','Lteam','Lscore','Numot']][RegularSeasonCompactResults.Wloc == 'H']\n",
        "df3 = df2\n",
        "df3.columns = ['Season','Wteam','Wscore','Numot']\n",
        "pds = df1.append(df3,ignore_index=True)\n",
        "kecompactavg = pds.groupby(['Season', 'Wteam'])[['Wscore','Numot']].mean()\n",
        "\n",
        "#\u83b7\u53d6\u6bcf\u4e2a\u7403\u961f\u4e2d\u7acb\u573a\u5730\u6570\u636e\n"
      ]
    },
    {
      "cell_type": "code",
      "execution_count": null,
      "metadata": {
        "_cell_guid": "a35e300b-c041-1355-79a0-c6447dd7d3af"
      },
      "outputs": [],
      "source": [
        "#\u5229\u7528\u76f8\u4e92\u4e4b\u95f4\u7684\u5bf9\u6218\u6570\u636e\n",
        "df1=RegularSeasonDetailedResults[['Season','Wteam','Wscore','Numot','Wfgm','Wfga','Wfgm3','Wfga3','Wftm','Wfta','Wor','Wdr','Wast','Wto','Wstl','Wblk','Wpf','Lteam','Lscore','Numot','Lfgm','Lfga','Lfgm3','Lfga3','Lftm','Lfta','Lor','Ldr','Last','Lto','Lstl','Lblk','Lpf']]\n",
        "df2=RegularSeasonDetailedResults[['Season','Lteam','Lscore','Numot','Lfgm','Lfga','Lfgm3','Lfga3','Lftm','Lfta','Lor','Ldr','Last','Lto','Lstl','Lblk','Lpf','Wteam','Wscore','Numot','Wfgm','Wfga','Wfgm3','Wfga3','Wftm','Wfta','Wor','Wdr','Wast','Wto','Wstl','Wblk','Wpf']]\n",
        "df3 = df2\n",
        "df3.columns = ['Season','Wteam','Wscore','Numot','Wfgm','Wfga','Wfgm3','Wfga3','Wftm','Wfta','Wor','Wdr','Wast','Wto','Wstl','Wblk','Wpf','Lteam','Lscore','Numot','Lfgm','Lfga','Lfgm3','Lfga3','Lftm','Lfta','Lor','Ldr','Last','Lto','Lstl','Lblk','Lpf']\n",
        "pds = df1.append(df3,ignore_index=True)\n",
        "xianghudetailavg = pds.groupby(['Season','Wteam','Lteam']).mean()[['Wscore','Numot','Wfgm','Wfga','Wfgm3','Wfga3','Wftm','Wfta','Wor','Wdr','Wast','Wto','Wstl','Wblk','Wpf']]\n",
        "xianghudetailavg.tail()\n",
        "\n",
        "df1=RegularSeasonCompactResults[['Season','Wteam','Wscore','Numot','Lteam','Lscore']]\n",
        "df2=RegularSeasonCompactResults[['Season','Lteam','Lscore','Numot','Wteam','Wscore']]\n",
        "df3 = df2\n",
        "df3.columns = ['Season','Wteam','Wscore','Numot','Lteam','Lscore']\n",
        "pds = df1.append(df3,ignore_index=True)\n",
        "xianghucompactavg = pds.groupby(['Season', 'Wteam','Lteam']).mean()[['Wscore','Numot']]\n",
        "xianghucompactavg.tail()"
      ]
    },
    {
      "cell_type": "code",
      "execution_count": null,
      "metadata": {
        "_cell_guid": "6b105a7f-dfd4-bcfa-da09-5cc318d78a79"
      },
      "outputs": [],
      "source": [
        "#\u5229\u7528\u76f8\u4e92\u4e4b\u95f4\u7684\u4e3b\u5ba2\u573a\u5bf9\u6218\u6570\n"
      ]
    }
  ],
  "metadata": {
    "_change_revision": 0,
    "_is_fork": false,
    "kernelspec": {
      "display_name": "Python 3",
      "language": "python",
      "name": "python3"
    },
    "language_info": {
      "codemirror_mode": {
        "name": "ipython",
        "version": 3
      },
      "file_extension": ".py",
      "mimetype": "text/x-python",
      "name": "python",
      "nbconvert_exporter": "python",
      "pygments_lexer": "ipython3",
      "version": "3.6.0"
    }
  },
  "nbformat": 4,
  "nbformat_minor": 0
}