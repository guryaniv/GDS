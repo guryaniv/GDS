{
  "cells": [
    {
      "cell_type": "markdown",
      "metadata": {
        "_cell_guid": "6f21b51e-7ef5-4f9e-1e1f-e377739b3efa"
      },
      "source": ""
    },
    {
      "cell_type": "code",
      "execution_count": null,
      "metadata": {
        "_cell_guid": "4db9fd72-fbff-b8fc-2250-5240285ca634"
      },
      "outputs": [],
      "source": [
        "# This Python 3 environment comes with many helpful analytics libraries installed\n",
        "# It is defined by the kaggle/python docker image: https://github.com/kaggle/docker-python\n",
        "# For example, here's several helpful packages to load in \n",
        "\n",
        "import numpy as np # linear algebra\n",
        "import pandas as pd # data processing, CSV file I/O (e.g. pd.read_csv)\n",
        "from sklearn.model_selection import train_test_split\n",
        "from sklearn import datasets, linear_model\n",
        "from sklearn.ensemble import RandomForestRegressor\n",
        "from sklearn.neural_network import MLPRegressor\n",
        "from sklearn.linear_model import BayesianRidge\n",
        "# supportive models\n",
        "import xgboost as xgb\n",
        "# feature selection (from supportive model)\n",
        "from sklearn.feature_selection import SelectFromModel\n",
        "\n",
        "# Input data files are available in the \"../input/\" directory.\n",
        "# For example, running this (by clicking run or pressing Shift+Enter) will list the files in the input directory\n",
        "\n",
        "from subprocess import check_output\n",
        "\n",
        "def get_models():\n",
        "        return {\n",
        "            'LinearRegression': linear_model.LinearRegression(),\n",
        "            'RandomForestRegressor': RandomForestRegressor(n_estimators = 30, random_state = 0),\n",
        "            # 'MLPRegressor': MLPRegressor(),\n",
        "            'BayesianRidge': BayesianRidge(),\n",
        "        }\n",
        "\n",
        "\n",
        "def train_models(models, x, y):\n",
        "    for name, i_model in models.items():\n",
        "        i_model.fit(x, y)\n",
        "    return models    \n",
        "\n",
        "def competite_model(models, x, y):\n",
        "    best_score = -1\n",
        "    winner = next(iter(models)) # first key\n",
        "    for name, i_model in models.items():\n",
        "        if i_model.score(x, y) > best_score:\n",
        "            winner = name\n",
        "    return winner       \n",
        "\n",
        "def create_model():\n",
        "    # LinearRegression\n",
        "    # regr = linear_model.LinearRegression()\n",
        "\n",
        "    # random forest\n",
        "    # regr = RandomForestRegressor(n_estimators = 30, random_state = 0)\n",
        "\n",
        "    # neural network\n",
        "    # regr = MLPRegressor()\n",
        "\n",
        "    # BayesianRidge\n",
        "    regr = BayesianRidge()\n",
        "    return regr\n",
        "\n",
        "# Any results you write to the current directory are saved as output.\n",
        "\n",
        "train = pd.read_csv(\"../input/train.csv\")\n",
        "test = pd.read_csv(\"../input/test.csv\")\n",
        "\n",
        "train_y = train['y']\n",
        "train = train.drop(['y', 'ID'], 1)\n",
        "\n",
        "train_x = pd.get_dummies(train)\n",
        "train_x = train_x.reindex_axis(sorted(train_x.columns), axis=1)\n",
        "\n",
        "test_x = pd.get_dummies(test)\n",
        "test_x = test_x.drop('ID', 1)\n",
        "# remove untrained features\n",
        "unknonw_columns = test_x.columns.difference(train_x.columns)\n",
        "test_x = test_x.drop(unknonw_columns.tolist(), 1)\n",
        "missing_columns = train_x.columns.difference(test_x.columns)\n",
        "# test_x = pd.concat([test_x,pd.DataFrame(columns=missing_columns)])\n",
        "for col in missing_columns:\n",
        "    test_x[col] = 0\n",
        "test_x = test_x.reindex_axis(sorted(test_x.columns), axis=1)    \n",
        "test_x.head(3)"
      ]
    },
    {
      "cell_type": "code",
      "execution_count": null,
      "metadata": {
        "_cell_guid": "e1fd6606-d63e-fae1-29d2-eab65baac8a4"
      },
      "outputs": [],
      "source": [
        "test_x = pd.get_dummies(test)\n",
        "test_x = test_x.drop('ID', 1)\n",
        "# remove untrained features\n",
        "unknonw_columns = test_x.columns.difference(train_x.columns)\n",
        "test_x = test_x.drop(unknonw_columns.tolist(), 1)\n",
        "missing_columns = train_x.columns.difference(test_x.columns)\n",
        "# test_x = pd.concat([test_x,pd.DataFrame(columns=missing_columns)])\n",
        "for col in missing_columns:\n",
        "    test_x[col] = 0\n",
        "test_x = test_x.reindex_axis(sorted(test_x.columns), axis=1)\n",
        "\n",
        "xgb_params = {\n",
        "    'n_trees': 500, \n",
        "    'eta': 0.004,\n",
        "    'max_depth': 4,\n",
        "    'subsample': 0.95,\n",
        "    'objective': 'reg:linear',\n",
        "    'eval_metric': 'rmse',\n",
        "    'silent': 1\n",
        "}\n",
        "\n",
        "clf = xgb.XGBRegressor(**xgb_params)\n",
        "clf = clf.fit(train_x, train_y)\n",
        "model = SelectFromModel(clf, prefit=True)\n",
        "\n",
        "train_x = model.transform(train_x)\n",
        "test_x = model.transform(test_x)\n",
        "\n",
        "train_cross_x, train_cross_test_x, train_cross_y, train_cross_test_y = train_test_split(train_x, train_y, test_size=0.01)\n",
        "\n",
        "pd.DataFrame(train_cross_y).head(4)"
      ]
    },
    {
      "cell_type": "code",
      "execution_count": null,
      "metadata": {
        "_cell_guid": "2ab9e9d4-d73f-247b-6570-7956a7e05e18"
      },
      "outputs": [],
      "source": [
        "pd.DataFrame(train_x).head(4)"
      ]
    },
    {
      "cell_type": "code",
      "execution_count": null,
      "metadata": {
        "_cell_guid": "685d1f02-d8e1-b741-6595-2f26553d443a"
      },
      "outputs": [],
      "source": [
        "#MLPRegressor().fit(train_x, train_y)\n",
        "#linear_model.LinearRegression().fit(train_cross_x, train_cross_y)\n",
        "#RandomForestRegressor(n_estimators = 30, random_state = 0).fit(train_cross_x, train_cross_y)\n",
        "#BayesianRidge().fit(train_x, train_y)\n",
        "# next(train_cross_x.iterrows())[1]\n",
        "models = train_models(get_models(), train_cross_x, train_cross_y)"
      ]
    },
    {
      "cell_type": "code",
      "execution_count": null,
      "metadata": {
        "_cell_guid": "6809f3e6-3015-1c80-36e3-ebf441f16827"
      },
      "outputs": [],
      "source": [
        "pd.DataFrame(train_cross_x).head(4)"
      ]
    },
    {
      "cell_type": "code",
      "execution_count": null,
      "metadata": {
        "_cell_guid": "a4bb6876-bfb4-05f5-4ea8-d882fe059cab"
      },
      "outputs": [],
      "source": [
        "train_cross_y = pd.DataFrame(train_cross_y.get_values())\n",
        "train_cross_x = pd.DataFrame(train_cross_x)"
      ]
    },
    {
      "cell_type": "code",
      "execution_count": null,
      "metadata": {
        "_cell_guid": "8292115b-59a0-2bd3-03f7-5109ad3c97e9"
      },
      "outputs": [],
      "source": [
        "train_cross_models = list()\n",
        "train_cross_y_values = train_cross_y.get_values()\n",
        "for idx, x in train_cross_x.iterrows():\n",
        "    m = competite_model(models, x.get_values().reshape(1, -1), train_cross_y_values[idx])\n",
        "    train_cross_models.append(m)\n",
        "train_cross_models_df = pd.DataFrame(train_cross_x)\n",
        "train_cross_models_df['models'] = train_cross_models"
      ]
    },
    {
      "cell_type": "code",
      "execution_count": null,
      "metadata": {
        "_cell_guid": "59ff462e-e2dd-96c6-79b6-98e4fe68b836"
      },
      "outputs": [],
      "source": [
        "for m in train_cross_models_df['models']:\n",
        "    print(m)"
      ]
    },
    {
      "cell_type": "code",
      "execution_count": null,
      "metadata": {
        "_cell_guid": "d6b0ef77-7722-62dd-a89c-b304747f0b3c"
      },
      "outputs": [],
      "source": [
        "regr = create_model()\n",
        "regr.fit(train_cross_x, train_cross_y)\n",
        "regr.score(train_cross_test_x, train_cross_test_y)"
      ]
    },
    {
      "cell_type": "code",
      "execution_count": null,
      "metadata": {
        "_cell_guid": "a7bd0acd-a7b7-82d2-ec94-15a2ebf95a3f"
      },
      "outputs": [],
      "source": [
        "trained_cross_models = train_models(get_models(), train_cross_x, train_cross_y)\n",
        "\n",
        "out = {}\n",
        "for name, m in trained_cross_models.items():\n",
        "    out[name] = m.score(train_cross_test_x, train_cross_test_y)\n",
        "out    \n",
        "\n",
        "train_cross_x_df = pd.DataFrame(train_cross_x)\n",
        "train_cross_y_df = pd.DataFrame({'y': train_cross_y})\n",
        "train_cross =  pd.concat([train_cross_x_df, train_cross_y_df], axis=1)\n",
        "print(train_cross.columns.values)\n",
        "model_series = list()\n",
        "for idx, row in train_cross.iterrows():\n",
        "    print(row)\n",
        "    m = competite_model(trained_cross_models, row.drop('y').reshape(1, -1), \n",
        "                        row['y'].reshape(-1, 1))\n",
        "    print(m)\n",
        "    model_series.append([m])\n",
        "model_series    \n",
        "# linear_model.LinearRegression().fit(train_cross_x, train_cross_y)\n",
        "# RandomForestRegressor(n_estimators = 30, random_state = 0).fit(train_cross_x, train_cross_y)\n",
        "# MLPRegressor().fit(train_cross_x, train_cross_y)\n",
        "# BayesianRidge().fit(train_cross_x, train_cross_y)"
      ]
    },
    {
      "cell_type": "code",
      "execution_count": null,
      "metadata": {
        "_cell_guid": "d3aab370-3acb-ee72-997f-5884353af87d"
      },
      "outputs": [],
      "source": [
        "#regr.predict(train_cross_test_x)\n",
        "#train_cross_test_y.tolist()\n",
        "plot_offset = 700\n",
        "pd.DataFrame({'predicted': regr.predict(train_cross_test_x[plot_offset:plot_offset+20]), \n",
        "              'expected': train_cross_test_y.tolist()[plot_offset:plot_offset+20]}).plot(kind='bar')"
      ]
    },
    {
      "cell_type": "code",
      "execution_count": null,
      "metadata": {
        "_cell_guid": "cc6c5670-049d-1e6e-7d51-d2f9632c174b"
      },
      "outputs": [],
      "source": [
        "regr = create_model()\n",
        "\n",
        "regr.fit(train_x, train_y)\n",
        "regr.score(train_x, train_y)"
      ]
    },
    {
      "cell_type": "code",
      "execution_count": null,
      "metadata": {
        "_cell_guid": "dc80ff7c-561c-9872-243d-a90a34f33558"
      },
      "outputs": [],
      "source": [
        "# predict\n",
        "test_y = regr.predict(test_x)\n",
        "test_y\n",
        "\n",
        "# write results\n",
        "solution = pd.DataFrame({\"ID\":test.ID, \"y\":test_y}) \n",
        "solution.to_csv('predicted.csv', index = False)"
      ]
    }
  ],
  "metadata": {
    "_change_revision": 0,
    "_is_fork": false,
    "kernelspec": {
      "display_name": "Python 3",
      "language": "python",
      "name": "python3"
    },
    "language_info": {
      "codemirror_mode": {
        "name": "ipython",
        "version": 3
      },
      "file_extension": ".py",
      "mimetype": "text/x-python",
      "name": "python",
      "nbconvert_exporter": "python",
      "pygments_lexer": "ipython3",
      "version": "3.6.0"
    }
  },
  "nbformat": 4,
  "nbformat_minor": 0
}