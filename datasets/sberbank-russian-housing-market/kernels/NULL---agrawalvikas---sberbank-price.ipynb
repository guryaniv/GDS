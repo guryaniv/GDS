{
  "cells": [
    {
      "cell_type": "code",
      "execution_count": null,
      "metadata": {
        "_cell_guid": "00671aad-443a-e4d8-31a3-0c391612e146"
      },
      "outputs": [],
      "source": [
        "# This Python 3 environment comes with many helpful analytics libraries installed\n",
        "# It is defined by the kaggle/python docker image: https://github.com/kaggle/docker-python\n",
        "# For example, here's several helpful packages to load in \n",
        "\n",
        "import numpy as np # linear algebra\n",
        "import pandas as pd # data processing, CSV file I/O (e.g. pd.read_csv)\n",
        "\n",
        "# Input data files are available in the \"../input/\" directory.\n",
        "# For example, running this (by clicking run or pressing Shift+Enter) will list the files in the input directory\n",
        "\n",
        "from subprocess import check_output\n",
        "print(check_output([\"ls\", \"../input\"]).decode(\"utf8\"))\n",
        "import numpy as np # linear algebra\n",
        "import pandas as pd # data processing, CSV file I/O (e.g. pd.read_csv)\n",
        "import numpy as np # linear algebra\n",
        "import pandas as pd # data processing, CSV file I/O (e.g. pd.read_csv)\n",
        "import numpy as np # linear algebra\n",
        "import pandas as pd # data processing, CSV file I/O (e.g. pd.read_csv)\n",
        "import matplotlib as mpl\n",
        "import matplotlib.pyplot as plt\n",
        "import seaborn as sns\n",
        "%matplotlib inline\n",
        "import numpy as np # linear algebra\n",
        "import pandas as pd # data processing, CSV file I/O (e.g. pd.read_csv)\n",
        "import matplotlib.pyplot as plt\n",
        "import seaborn as sns\n",
        "from sklearn import model_selection, preprocessing\n",
        "import xgboost as xgb\n",
        "color = sns.color_palette()\n",
        "\n",
        "%matplotlib inline\n",
        "\n",
        "pd.options.mode.chained_assignment = None  # default='warn'\n",
        "pd.set_option('display.max_columns', 500)\n",
        "\n",
        "# Any results you write to the current directory are saved as output."
      ]
    },
    {
      "cell_type": "code",
      "execution_count": null,
      "metadata": {
        "_cell_guid": "612e8883-8afb-8ba4-714e-bd6ae240ef53"
      },
      "outputs": [],
      "source": [
        "train_df = pd.read_csv(\"../input/train.csv\", parse_dates=['timestamp'])\n",
        "test_df = pd.read_csv(\"../input/test.csv\", parse_dates=['timestamp'])\n",
        "macro_df = pd.read_csv(\"../input/macro.csv\", parse_dates=['timestamp'])\n",
        "#train_df = pd.merge(train_df, macro_df, how='left', on='timestamp')\n",
        "#test_df = pd.merge(test_df, macro_df, how='left', on='timestamp')\n",
        "print(train_df.shape, test_df.shape)"
      ]
    },
    {
      "cell_type": "code",
      "execution_count": null,
      "metadata": {
        "_cell_guid": "e4531723-9845-8f5b-691a-2e74ca4fc534"
      },
      "outputs": [],
      "source": [
        "for f in train_df.columns:\n",
        "    if train_df[f].dtype=='object':\n",
        "        print(f)\n",
        "        lbl = preprocessing.LabelEncoder()\n",
        "        lbl.fit(list(train_df[f].values.astype('str')) + list(test_df[f].values.astype('str')))\n",
        "        train_df[f] = lbl.transform(list(train_df[f].values.astype('str')))\n",
        "        test_df[f] = lbl.transform(list(test_df[f].values.astype('str')))"
      ]
    },
    {
      "cell_type": "code",
      "execution_count": null,
      "metadata": {
        "_cell_guid": "afff613c-8149-a583-6cca-ea672db31e8c"
      },
      "outputs": [],
      "source": [
        "# year and month #\n",
        "train_df[\"yearmonth\"] = train_df[\"timestamp\"].dt.year*100 + train_df[\"timestamp\"].dt.month\n",
        "test_df[\"yearmonth\"] = test_df[\"timestamp\"].dt.year*100 + test_df[\"timestamp\"].dt.month\n",
        "\n",
        "# year and week #\n",
        "train_df[\"yearweek\"] = train_df[\"timestamp\"].dt.year*100 + train_df[\"timestamp\"].dt.weekofyear\n",
        "test_df[\"yearweek\"] = test_df[\"timestamp\"].dt.year*100 + test_df[\"timestamp\"].dt.weekofyear\n",
        "\n",
        "# year #\n",
        "train_df[\"year\"] = train_df[\"timestamp\"].dt.year\n",
        "test_df[\"year\"] = test_df[\"timestamp\"].dt.year\n",
        "\n",
        "# month of year #\n",
        "train_df[\"month_of_year\"] = train_df[\"timestamp\"].dt.month\n",
        "test_df[\"month_of_year\"] = test_df[\"timestamp\"].dt.month\n",
        "\n",
        "# week of year #\n",
        "train_df[\"week_of_year\"] = train_df[\"timestamp\"].dt.weekofyear\n",
        "test_df[\"week_of_year\"] = test_df[\"timestamp\"].dt.weekofyear\n",
        "\n",
        "# day of week #\n",
        "train_df[\"day_of_week\"] = train_df[\"timestamp\"].dt.weekday\n",
        "test_df[\"day_of_week\"] = test_df[\"timestamp\"].dt.weekday"
      ]
    },
    {
      "cell_type": "code",
      "execution_count": null,
      "metadata": {
        "_cell_guid": "b2bd11ff-70fa-3f76-110d-5a70535065ee"
      },
      "outputs": [],
      "source": [
        "train_df=train_df.drop(['timestamp'],axis=1)\n",
        "test_df=test_df.drop(['timestamp'],axis=1)"
      ]
    },
    {
      "cell_type": "code",
      "execution_count": null,
      "metadata": {
        "_cell_guid": "937bc745-b196-7a99-d2a1-1fe20fd594d8"
      },
      "outputs": [],
      "source": [
        "train_id=train_df['id']\n",
        "test_id=test_df['id']"
      ]
    },
    {
      "cell_type": "code",
      "execution_count": null,
      "metadata": {
        "_cell_guid": "d5d50a9e-e5a3-18d2-2446-8e1c921e792b"
      },
      "outputs": [],
      "source": [
        "train_df=train_df.drop(['id'],axis=1)\n",
        "test_df=test_df.drop(['id'],axis=1)"
      ]
    },
    {
      "cell_type": "code",
      "execution_count": null,
      "metadata": {
        "_cell_guid": "04463d93-444d-319d-138f-d2bfb275cc84"
      },
      "outputs": [],
      "source": [
        "train_df=train_df.fillna(0)\n",
        "test_df=test_df.fillna(0)"
      ]
    },
    {
      "cell_type": "code",
      "execution_count": null,
      "metadata": {
        "_cell_guid": "a871e25b-a5ab-d97b-ef75-f4eccabcfcc6"
      },
      "outputs": [],
      "source": [
        "from sklearn.decomposition import PCA, FastICA\n",
        "n_comp = 10\n",
        "\n",
        "# PCA\n",
        "pca = PCA(n_components=n_comp, random_state=42)\n",
        "pca2_results_train = pca.fit_transform(train_df.drop([\"price_doc\"], axis=1))\n",
        "pca2_results_test = pca.transform(test_df)\n",
        "\n",
        "# ICA\n",
        "ica = FastICA(n_components=n_comp, random_state=42)\n",
        "ica2_results_train = ica.fit_transform(train_df.drop([\"price_doc\"], axis=1))\n",
        "ica2_results_test = ica.transform(test_df)\n",
        "\n",
        "# Append decomposition components to datasets\n",
        "for i in range(1, n_comp+1):\n",
        "    train_df['pca_' + str(i)] = pca2_results_train[:,i-1]\n",
        "    test_df['pca_' + str(i)] = pca2_results_test[:, i-1]\n",
        "    \n",
        "    train_df['ica_' + str(i)] = ica2_results_train[:,i-1]\n",
        "    test_df['ica_' + str(i)] = ica2_results_test[:, i-1]"
      ]
    },
    {
      "cell_type": "code",
      "execution_count": null,
      "metadata": {
        "_cell_guid": "c2cb5719-d294-653e-2cb6-5a62bb8f73cb"
      },
      "outputs": [],
      "source": [
        "train_df.head(4)"
      ]
    },
    {
      "cell_type": "code",
      "execution_count": null,
      "metadata": {
        "_cell_guid": "614d52b1-dc14-3d57-1de7-5e4d5aa39b16"
      },
      "outputs": [],
      "source": [
        "test_df.head(3)"
      ]
    },
    {
      "cell_type": "code",
      "execution_count": null,
      "metadata": {
        "_cell_guid": "fbec5dee-d790-894c-455a-57fce9fef11a"
      },
      "outputs": [],
      "source": [
        "y_train = train_df[\"price_doc\"]"
      ]
    },
    {
      "cell_type": "code",
      "execution_count": null,
      "metadata": {
        "_cell_guid": "f263bb65-8dbe-d543-7a19-d5bc9ea48cdf"
      },
      "outputs": [],
      "source": [
        "train_df.shape,test_df.shape"
      ]
    },
    {
      "cell_type": "code",
      "execution_count": null,
      "metadata": {
        "_cell_guid": "a9ebc5d2-361e-aa1b-21b0-f4a88857db48"
      },
      "outputs": [],
      "source": [
        "train_df = train_df.drop([\"price_doc\"], axis=1)"
      ]
    },
    {
      "cell_type": "code",
      "execution_count": null,
      "metadata": {
        "_cell_guid": "9d611e25-9109-2d1d-aa6a-c1d5a92f586e"
      },
      "outputs": [],
      "source": [
        "train_df.shape,test_df.shape"
      ]
    },
    {
      "cell_type": "code",
      "execution_count": null,
      "metadata": {
        "_cell_guid": "209ed7a2-0e9a-2464-aa8a-e7c0ba3b0104"
      },
      "outputs": [],
      "source": [
        "xgb_params = {\n",
        "    'eta': 0.05,\n",
        "    'max_depth': 5,\n",
        "    'subsample': 0.7,\n",
        "    'colsample_bytree': 0.7,\n",
        "    'objective': 'reg:linear',\n",
        "    'eval_metric': 'rmse',\n",
        "    'silent': 1\n",
        "}"
      ]
    },
    {
      "cell_type": "code",
      "execution_count": null,
      "metadata": {
        "_cell_guid": "ed18b388-145a-ba27-bd02-81c32ee45ca8"
      },
      "outputs": [],
      "source": [
        "dtrain = xgb.DMatrix(train_df, y_train)\n",
        "dtest = xgb.DMatrix(test_df)"
      ]
    },
    {
      "cell_type": "code",
      "execution_count": null,
      "metadata": {
        "_cell_guid": "1bd29937-7c36-fd7e-3484-5425f32b7039"
      },
      "outputs": [],
      "source": [
        "cv_result = xgb.cv(xgb_params, \n",
        "                   dtrain, \n",
        "                   num_boost_round=900, # increase to have better results (~700)\n",
        "                   early_stopping_rounds=50,\n",
        "                   verbose_eval=10, \n",
        "                   show_stdv=False\n",
        "                  )"
      ]
    },
    {
      "cell_type": "code",
      "execution_count": null,
      "metadata": {
        "_cell_guid": "f92569e8-a916-f964-d668-6fbb95744a50"
      },
      "outputs": [],
      "source": [
        "num_boost_rounds = len(cv_result)\n",
        "print(num_boost_rounds)\n",
        "\n",
        "# train model\n",
        "model = xgb.train(dict(xgb_params, silent=0), dtrain, num_boost_round=num_boost_rounds)"
      ]
    },
    {
      "cell_type": "code",
      "execution_count": null,
      "metadata": {
        "_cell_guid": "61d12ac2-892e-9316-42db-52f3d04e5083"
      },
      "outputs": [],
      "source": [
        "# plot the important features #\n",
        "fig, ax = plt.subplots(figsize=(12,25))\n",
        "xgb.plot_importance(model, max_num_features=50, height=0.8, ax=ax)\n",
        "plt.show()"
      ]
    },
    {
      "cell_type": "code",
      "execution_count": null,
      "metadata": {
        "_cell_guid": "64d01ab7-c0b5-2f13-f783-d5b845daa865"
      },
      "outputs": [],
      "source": [
        "y_pred = model.predict(dtest)"
      ]
    },
    {
      "cell_type": "code",
      "execution_count": null,
      "metadata": {
        "_cell_guid": "5f0960af-8708-d002-1528-01deac84384f"
      },
      "outputs": [],
      "source": [
        "# plot the important features #\n",
        "fig, ax = plt.subplots(figsize=(12,25))\n",
        "xgb.plot_importance(model, max_num_features=50, height=0.8, ax=ax)\n",
        "plt.show()"
      ]
    },
    {
      "cell_type": "code",
      "execution_count": null,
      "metadata": {
        "_cell_guid": "dd6c1989-080f-104c-a12c-0e0fa2945963"
      },
      "outputs": [],
      "source": [
        "output= pd.DataFrame({'id' : test_id, 'price_doc' : y_pred})\n",
        "output.to_csv('preds_pca.csv', index=False)"
      ]
    }
  ],
  "metadata": {
    "_change_revision": 0,
    "_is_fork": false,
    "kernelspec": {
      "display_name": "Python 3",
      "language": "python",
      "name": "python3"
    },
    "language_info": {
      "codemirror_mode": {
        "name": "ipython",
        "version": 3
      },
      "file_extension": ".py",
      "mimetype": "text/x-python",
      "name": "python",
      "nbconvert_exporter": "python",
      "pygments_lexer": "ipython3",
      "version": "3.6.0"
    }
  },
  "nbformat": 4,
  "nbformat_minor": 0
}