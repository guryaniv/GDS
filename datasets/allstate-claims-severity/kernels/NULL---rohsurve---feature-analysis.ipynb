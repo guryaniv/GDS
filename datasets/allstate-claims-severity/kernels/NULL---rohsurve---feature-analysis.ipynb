{
  "cells": [
    {
      "cell_type": "code",
      "execution_count": null,
      "metadata": {
        "_cell_guid": "fc2c1af3-b39c-33e7-2ca0-eeb797bbbe37"
      },
      "outputs": [],
      "source": [
        "import pandas as pd\n",
        "import numpy as np\n",
        "import matplotlib.pyplot as plt\n",
        "import seaborn as sns\n",
        "%matplotlib inline"
      ]
    },
    {
      "cell_type": "code",
      "execution_count": null,
      "metadata": {
        "_cell_guid": "17b957ea-e6e5-03a6-7dc5-ef5a83888ce2"
      },
      "outputs": [],
      "source": [
        "train = pd.read_csv(\"../input/train.csv\")\n",
        "test = pd.read_csv(\"../input/test.csv\")"
      ]
    },
    {
      "cell_type": "code",
      "execution_count": null,
      "metadata": {
        "_cell_guid": "445463bc-fcb5-15dd-b43c-91202f871279"
      },
      "outputs": [],
      "source": [
        "print(\"Train data dimensions: \", train.shape)\n",
        "print(\"Test data dimensions: \", test.shape)"
      ]
    },
    {
      "cell_type": "code",
      "execution_count": null,
      "metadata": {
        "_cell_guid": "3dfed9af-7c53-61f8-2a62-2d8242df45da"
      },
      "outputs": [],
      "source": [
        "# little preview of the data\n",
        "train.head()"
      ]
    },
    {
      "cell_type": "code",
      "execution_count": null,
      "metadata": {
        "_cell_guid": "40beacf9-7e4c-6335-1456-02395016c8b0"
      },
      "outputs": [],
      "source": [
        "print(train.isnull().values.any())\n",
        "print(test.isnull().values.any())"
      ]
    },
    {
      "cell_type": "code",
      "execution_count": null,
      "metadata": {
        "_cell_guid": "e26743c9-68a7-d1d0-09b3-588afb81acde"
      },
      "outputs": [],
      "source": [
        "# putting continuous features together\n",
        "contFeatureslist = []\n",
        "for colName,x in train.iloc[1,:].iteritems():\n",
        "    #print(x)\n",
        "    if(not str(x).isalpha()):\n",
        "        contFeatureslist.append(colName)"
      ]
    },
    {
      "cell_type": "code",
      "execution_count": null,
      "metadata": {
        "_cell_guid": "62f721ec-6424-626d-ec38-0926ab8b906c"
      },
      "outputs": [],
      "source": [
        "# remove id and loss for the purpose of graphing\n",
        "contFeatureslist.remove(\"id\")\n",
        "contFeatureslist.remove(\"loss\")"
      ]
    },
    {
      "cell_type": "code",
      "execution_count": null,
      "metadata": {
        "_cell_guid": "ad69a036-c9be-dbfb-10c8-163ddfdf735b"
      },
      "outputs": [],
      "source": [
        "plt.figure(figsize=(13,9))\n",
        "sns.boxplot(train[contFeatureslist])"
      ]
    },
    {
      "cell_type": "code",
      "execution_count": null,
      "metadata": {
        "_cell_guid": "2c07d55a-a946-24b1-0239-bb3c701074da"
      },
      "outputs": [],
      "source": [
        "plt.figure(figsize=(13,9))\n",
        "sns.boxplot(np.log(train[contFeatureslist]))"
      ]
    },
    {
      "cell_type": "code",
      "execution_count": null,
      "metadata": {
        "_cell_guid": "e9cca26a-b0ac-4f72-8b9f-dd387739eaca"
      },
      "outputs": [],
      "source": [
        "plt.figure(figsize=(13,9))\n",
        "sns.distplot(np.log1p(train[\"loss\"]))"
      ]
    },
    {
      "cell_type": "code",
      "execution_count": null,
      "metadata": {
        "_cell_guid": "5a2020ba-546f-8c85-af2f-6416f5c7312a"
      },
      "outputs": [],
      "source": [
        "plt.figure(figsize=(13,9))\n",
        "sns.distplot(train[\"loss\"])\n",
        "sns.boxplot(train[\"loss\"])"
      ]
    },
    {
      "cell_type": "code",
      "execution_count": null,
      "metadata": {
        "_cell_guid": "a4d3e1b8-9ae8-77e0-a6a9-7057ce4fe77d"
      },
      "outputs": [],
      "source": ""
    }
  ],
  "metadata": {
    "_change_revision": 0,
    "_is_fork": false,
    "kernelspec": {
      "display_name": "Python 3",
      "language": "python",
      "name": "python3"
    },
    "language_info": {
      "codemirror_mode": {
        "name": "ipython",
        "version": 3
      },
      "file_extension": ".py",
      "mimetype": "text/x-python",
      "name": "python",
      "nbconvert_exporter": "python",
      "pygments_lexer": "ipython3",
      "version": "3.5.2"
    }
  },
  "nbformat": 4,
  "nbformat_minor": 0
}