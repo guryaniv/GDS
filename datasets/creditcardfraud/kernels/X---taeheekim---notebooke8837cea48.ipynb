{
  "cells": [
    {
      "cell_type": "code",
      "execution_count": null,
      "metadata": {
        "_cell_guid": "782425c0-fc4d-9242-dc16-40e7e0983bb1"
      },
      "outputs": [],
      "source": [
        "# This Python 3 environment comes with many helpful analytics libraries installed\n",
        "# It is defined by the kaggle/python docker image: https://github.com/kaggle/docker-python\n",
        "# For example, here's several helpful packages to load in \n",
        "\n",
        "import numpy as np # linear algebra\n",
        "import pandas as pd # data processing, CSV file I/O (e.g. pd.read_csv)\n",
        "import tensorflow as tf \n",
        "from sklearn.cross_validation import train_test_split\n",
        "import matplotlib.pyplot as plt \n",
        "from sklearn.utils import shuffle \n",
        "from sklearn.metrics import confusion_matrix \n",
        "\n",
        "# Input data files are available in the \"../input/\" directory.\n",
        "# For example, running this (by clicking run or pressing Shift+Enter) will list the files in the input directory\n",
        "\n",
        "from subprocess import check_output\n",
        "print(check_output([\"ls\", \"../input\"]).decode(\"utf8\"))\n",
        "\n",
        "# Any results you write to the current directory are saved as output."
      ]
    },
    {
      "cell_type": "code",
      "execution_count": null,
      "metadata": {
        "_cell_guid": "2427df21-ff03-4dac-3c79-7d935c21cb52"
      },
      "outputs": [],
      "source": [
        "df = pd.read_csv(\"../input/creditcard.csv\")"
      ]
    },
    {
      "cell_type": "code",
      "execution_count": null,
      "metadata": {
        "_cell_guid": "3c3968df-164b-7354-662a-3852620aa251"
      },
      "outputs": [],
      "source": [
        "df.head()"
      ]
    },
    {
      "cell_type": "code",
      "execution_count": null,
      "metadata": {
        "_cell_guid": "ce50df25-3fb3-9c66-ed09-5ed320de0996"
      },
      "outputs": [],
      "source": [
        "df.describe()"
      ]
    },
    {
      "cell_type": "code",
      "execution_count": null,
      "metadata": {
        "_cell_guid": "6c7146f9-d95d-2495-480a-bdad356e40c2"
      },
      "outputs": [],
      "source": [
        "df.isnull().sum()"
      ]
    },
    {
      "cell_type": "code",
      "execution_count": null,
      "metadata": {
        "_cell_guid": "010bd6fb-670b-7743-0944-2b383d3395a1"
      },
      "outputs": [],
      "source": [
        "print(\"Fraud\")\n",
        "print(df.Time[df.Class == 1].describe())\n",
        "print()\n",
        "print(\"Normal\")\n",
        "print(df.Time[df.Class == 0].describe())"
      ]
    },
    {
      "cell_type": "code",
      "execution_count": null,
      "metadata": {
        "_cell_guid": "77c94b50-3f9f-6150-02d2-5ac6870c0a25"
      },
      "outputs": [],
      "source": [
        "f,(ax1, ax2) = plt.subplots(2,1,sharex=True, figsize=(10,4))\n",
        "ax1.hist(df.Time[df.Class == 1])\n",
        "ax1.set_title('Fraud')\n",
        "\n",
        "ax2.hist(df.Time[df.Class == 0])\n",
        "ax2.set_title('Normal')\n",
        "\n",
        "plt.xlabel('Time (in Seconds)')\n",
        "plt.ylabel('Number of Transactions')\n",
        "plt.show()"
      ]
    },
    {
      "cell_type": "code",
      "execution_count": null,
      "metadata": {
        "_cell_guid": "ba702052-deb4-c364-471b-0c85f2995a6a"
      },
      "outputs": [],
      "source": [
        "print(\"Fraud\")\n",
        "print(df.Amount[df.Class == 1].describe())\n",
        "print()\n",
        "print(\"Normal\")\n",
        "print(df.Amount[df.Class == 0].describe())\n"
      ]
    },
    {
      "cell_type": "code",
      "execution_count": null,
      "metadata": {
        "_cell_guid": "f94bd8f4-8629-18a3-07f0-945476be1d03"
      },
      "outputs": [],
      "source": [
        "plt.figure(figsize=(10,4))\n",
        "plt.subplot(211)\n",
        "plt.hist(df.Amount[df.Class == 1])\n",
        "plt.yscale('log')\n",
        "plt.title('Fraud')\n",
        "plt.grid(True)"
      ]
    },
    {
      "cell_type": "code",
      "execution_count": null,
      "metadata": {
        "_cell_guid": "8b0cc645-a48e-fc4b-9377-1e27cd714fdc"
      },
      "outputs": [],
      "source": [
        "plt.subplot(212)"
      ]
    }
  ],
  "metadata": {
    "_change_revision": 0,
    "_is_fork": false,
    "kernelspec": {
      "display_name": "Python 3",
      "language": "python",
      "name": "python3"
    },
    "language_info": {
      "codemirror_mode": {
        "name": "ipython",
        "version": 3
      },
      "file_extension": ".py",
      "mimetype": "text/x-python",
      "name": "python",
      "nbconvert_exporter": "python",
      "pygments_lexer": "ipython3",
      "version": "3.5.2"
    }
  },
  "nbformat": 4,
  "nbformat_minor": 0
}