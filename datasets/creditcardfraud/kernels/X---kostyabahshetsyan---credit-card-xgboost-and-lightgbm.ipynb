{
  "cells": [
    {
      "cell_type": "markdown",
      "metadata": {
        "_cell_guid": "dcca8472-5614-2d61-5da6-5c8828d8e6c6"
      },
      "source": [
        ""
      ]
    },
    {
      "cell_type": "code",
      "execution_count": null,
      "metadata": {
        "_cell_guid": "4b51adba-b1f6-b2ea-63cf-94202518fbe0"
      },
      "outputs": [],
      "source": [
        "import numpy as np\n",
        "import pandas as pd\n",
        "\n",
        "from sklearn.model_selection import train_test_split\n",
        "from sklearn.metrics import mean_squared_error\n",
        "from sklearn.model_selection import GridSearchCV\n",
        "\n",
        "import lightgbm as lgb\n",
        "from xgboost import XGBRegressor\n",
        "\n",
        "import matplotlib.pyplot as plt\n",
        "import seaborn as sns\n",
        "%matplotlib inline"
      ]
    },
    {
      "cell_type": "code",
      "execution_count": null,
      "metadata": {
        "_cell_guid": "50f53f0f-60f2-d3ba-1f0c-163baa675b21"
      },
      "outputs": [],
      "source": [
        "df = pd.read_csv(\"../input/creditcard.csv\")"
      ]
    },
    {
      "cell_type": "code",
      "execution_count": null,
      "metadata": {
        "_cell_guid": "29b707a3-4bfd-c850-258b-917cfbb49611"
      },
      "outputs": [],
      "source": [
        "df.head()"
      ]
    },
    {
      "cell_type": "markdown",
      "metadata": {
        "_cell_guid": "360559c9-3de1-1710-8e14-84fc8d6d93da"
      },
      "source": [
        "**Split data into train and test set**\n",
        "--------------------------------------"
      ]
    },
    {
      "cell_type": "code",
      "execution_count": null,
      "metadata": {
        "_cell_guid": "1baddbb3-9401-7fa4-d045-4575464a329c"
      },
      "outputs": [],
      "source": [
        "X_train, X_test, y_train, y_test = train_test_split(df.drop('Class', axis=1), df.Class, test_size=0.3, random_state=42)"
      ]
    },
    {
      "cell_type": "code",
      "execution_count": null,
      "metadata": {
        "_cell_guid": "67fa20a6-7ebd-eb87-fdcd-ce2b81c2ea5b"
      },
      "outputs": [],
      "source": [
        "print('Train shape', X_train.shape)\n",
        "print('Test shape', X_test.shape)"
      ]
    },
    {
      "cell_type": "markdown",
      "metadata": {
        "_cell_guid": "e841b992-7123-69c0-7bc8-577cfefd4f32"
      },
      "source": [
        "Let's see xgboost and lightgbm feature importance\n",
        "-------------------------------------------------"
      ]
    },
    {
      "cell_type": "code",
      "execution_count": null,
      "metadata": {
        "_cell_guid": "7e646b63-b3f2-ae69-55f4-e50976144e24"
      },
      "outputs": [],
      "source": [
        "print('Start training...')\n",
        "# train\n",
        "xgb = XGBRegressor(max_depth=3, n_estimators=1000)\n",
        "xgb.fit(X_train, y_train, \n",
        "        eval_set=[(X_test, y_test)], \n",
        "        eval_metric='rmse', \n",
        "        early_stopping_rounds=20, \n",
        "        verbose=False)\n",
        "\n",
        "gbm = lgb.LGBMRegressor(objective='regression', num_leaves=31,\n",
        "                        learning_rate=0.05, n_estimators=20)\n",
        "gbm.fit(X_train, y_train, \n",
        "        eval_set=[(X_test, y_test)],\n",
        "        eval_metric='l1',\n",
        "        early_stopping_rounds=5)\n",
        "\n",
        "\n",
        "print('Start predicting...')\n",
        "# predict\n",
        "y_pred_xgb = xgb.predict(X_test)\n",
        "y_pred_gbm = gbm.predict(X_test, num_iteration=gbm.best_iteration)\n",
        "\n",
        "# eval\n",
        "print('The rmse of prediction xgboost is:', mean_squared_error(y_test, y_pred_xgb) ** 0.5)\n",
        "print('The rmse of prediction lightgbm is:', mean_squared_error(y_test, y_pred_gbm) ** 0.5)\n",
        "\n",
        "print('Calculate feature importances...')\n",
        "\n",
        "print(\"xgboost: feature importance\")\n",
        "xgb_fi = xgb.booster().get_fscore()\n",
        "print(xgb_fi)\n",
        "\n",
        "print(\"lightgbm: feature importance\")\n",
        "gbm_fi = dict(zip(X_train.columns.tolist(),gbm.feature_importances_))\n",
        "print(gbm_fi)"
      ]
    },
    {
      "cell_type": "code",
      "execution_count": null,
      "metadata": {
        "_cell_guid": "31e01afc-402c-e0e4-d89e-e9f652eaaa05"
      },
      "outputs": [],
      "source": [
        "fig =  plt.figure(figsize = (15, 10))\n",
        "plt.subplot(2, 2, 1)\n",
        "\n",
        "plt.bar(np.arange(len(xgb_fi)), xgb_fi.values(), align='center')\n",
        "plt.xticks(np.arange(len(xgb_fi)), xgb_fi.keys(), fontweight='bold', rotation='vertical')\n",
        "plt.title('xgboost: feature importance', fontsize=15, fontweight='bold')\n",
        "\n",
        "plt.subplot(2, 2, 2)\n",
        "plt.bar(np.arange(len(gbm_fi)), gbm_fi.values(), align='center')\n",
        "plt.xticks(np.arange(len(gbm_fi)), gbm_fi.keys(), fontweight='bold', rotation='vertical')\n",
        "plt.title('lightgbm: feature importance', fontsize=15, fontweight='bold')"
      ]
    },
    {
      "cell_type": "code",
      "execution_count": null,
      "metadata": {
        "_cell_guid": "23744939-ae3e-0795-f3ab-b93a6c5c399f"
      },
      "outputs": [],
      "source": [
        ""
      ]
    }
  ],
  "metadata": {
    "_change_revision": 0,
    "_is_fork": false,
    "kernelspec": {
      "display_name": "Python 3",
      "language": "python",
      "name": "python3"
    },
    "language_info": {
      "codemirror_mode": {
        "name": "ipython",
        "version": 3
      },
      "file_extension": ".py",
      "mimetype": "text/x-python",
      "name": "python",
      "nbconvert_exporter": "python",
      "pygments_lexer": "ipython3",
      "version": "3.5.2"
    }
  },
  "nbformat": 4,
  "nbformat_minor": 0
}