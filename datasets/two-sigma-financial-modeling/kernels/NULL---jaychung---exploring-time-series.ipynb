{
  "cells": [
    {
      "cell_type": "code",
      "execution_count": null,
      "metadata": {
        "_cell_guid": "7d55d2cb-5433-fb09-4d77-2c1a17b81609"
      },
      "outputs": [],
      "source": [
        "import numpy as np # linear algebra\n",
        "import pandas as pd # data processing, CSV file I/O (e.g. pd.read_csv)\n",
        "import matplotlib.pyplot as plt\n",
        "import seaborn as sns\n",
        "\n",
        "%matplotlib inline\n",
        "with pd.HDFStore(\"../input/train.h5\", \"r\") as train:\n",
        "    # Note that the \"train\" dataframe is the only dataframe in the file\n",
        "    df = train.get(\"train\")"
      ]
    },
    {
      "cell_type": "markdown",
      "metadata": {
        "_cell_guid": "57f3cfa4-79c9-4d8c-0e23-d8d8024cbb8c"
      },
      "source": [
        "y looks like pnl, so cumsum(y) should be the price of something. Can someone guess what stock is it?"
      ]
    },
    {
      "cell_type": "code",
      "execution_count": null,
      "metadata": {
        "_cell_guid": "ceac3c59-c2d4-0bd6-16d4-d64e0ba7859d"
      },
      "outputs": [],
      "source": [
        "plt.plot(np.cumsum(df['y']))"
      ]
    },
    {
      "cell_type": "markdown",
      "metadata": {
        "_cell_guid": "e21afb88-69a5-d15e-7e01-d9c72b31ffe0"
      },
      "source": [
        "The first significant drop in price looks like the last financial crisis during 2007~2008. The whole time series looks like 10 years of price. The length of y is 1710756. 10 years has ~2500 trading days. Everyday there is about 680 samples. So looks like the price is sampled about every half minute."
      ]
    },
    {
      "cell_type": "markdown",
      "metadata": {
        "_cell_guid": "c2cf12e1-c5bd-6593-44c6-a402dd694582"
      },
      "source": [
        "Look at fundamentals. Randomly pick one."
      ]
    },
    {
      "cell_type": "code",
      "execution_count": null,
      "metadata": {
        "_cell_guid": "e7cb0f63-9409-2a81-4155-fe27c1441ef5"
      },
      "outputs": [],
      "source": [
        "plt.subplot(211)\n",
        "plt.plot(df['fundamental_50'])\n",
        "plt.subplot(212)\n",
        "plt.plot(df['fundamental_50'][:10000])"
      ]
    },
    {
      "cell_type": "markdown",
      "metadata": {
        "_cell_guid": "2a7269e3-ff73-51ca-7eb0-511a9ed4a015"
      },
      "source": [
        "Looks like the spikes are the real signal. I guess the fundamental is sampled daily."
      ]
    },
    {
      "cell_type": "code",
      "execution_count": null,
      "metadata": {
        "_cell_guid": "1beee229-fa16-1b98-cee0-14a5764733cb"
      },
      "outputs": [],
      "source": [
        "for i in range(50, 56):\n",
        "    col = 'fundamental_' + str(i)\n",
        "    col_cumsum = np.cumsum(df[col])\n",
        "    col_cumsum /= col_cumsum.abs().max()\n",
        "    plt.plot(col_cumsum, label=col)"
      ]
    },
    {
      "cell_type": "markdown",
      "metadata": {
        "_cell_guid": "f1efde2b-7403-2bf8-b18d-e3a0a77865b8"
      },
      "source": [
        "Look at technical"
      ]
    },
    {
      "cell_type": "code",
      "execution_count": null,
      "metadata": {
        "_cell_guid": "d99f7128-f59c-d404-19b6-af9e9174de8a"
      },
      "outputs": [],
      "source": [
        "plt.subplot(211)\n",
        "plt.plot(df['technical_11'])\n",
        "plt.subplot(212)\n",
        "plt.plot(df['technical_11'][:100])"
      ]
    },
    {
      "cell_type": "markdown",
      "metadata": {
        "_cell_guid": "e6d25e4c-49ee-f37d-28c3-2b178dc7cb1f"
      },
      "source": [
        "Looks like this technical is like some binary filter on the price"
      ]
    }
  ],
  "metadata": {
    "_change_revision": 0,
    "_is_fork": false,
    "kernelspec": {
      "display_name": "Python 3",
      "language": "python",
      "name": "python3"
    },
    "language_info": {
      "codemirror_mode": {
        "name": "ipython",
        "version": 3
      },
      "file_extension": ".py",
      "mimetype": "text/x-python",
      "name": "python",
      "nbconvert_exporter": "python",
      "pygments_lexer": "ipython3",
      "version": "3.5.2"
    }
  },
  "nbformat": 4,
  "nbformat_minor": 0
}