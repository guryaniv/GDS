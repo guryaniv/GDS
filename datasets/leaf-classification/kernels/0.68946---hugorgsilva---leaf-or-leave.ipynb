{
  "cells": [
    {
      "cell_type": "markdown",
      "metadata": {
        "_cell_guid": "a91f5e84-a3f2-0b08-3ddf-22c008229916"
      },
      "source": ""
    },
    {
      "cell_type": "code",
      "execution_count": null,
      "metadata": {
        "_cell_guid": "426ea3cc-e88d-0119-9c24-0ae0c00507a4"
      },
      "outputs": [],
      "source": [
        "import numpy as np\n",
        "import pandas as pd\n",
        "from sklearn.ensemble import RandomForestClassifier\n",
        "from sklearn.neighbors import KNeighborsClassifier\n",
        "from subprocess import check_output"
      ]
    },
    {
      "cell_type": "code",
      "execution_count": null,
      "metadata": {
        "_cell_guid": "7a416c91-5220-026b-635b-d97d258adf2e"
      },
      "outputs": [],
      "source": [
        "test_data = pd.read_csv(\"../input/test.csv\")\n",
        "train_data = pd.read_csv(\"../input/train.csv\")"
      ]
    },
    {
      "cell_type": "code",
      "execution_count": null,
      "metadata": {
        "_cell_guid": "3951f281-3cc1-3059-fcc5-75f5fed0e436"
      },
      "outputs": [],
      "source": [
        "species = train_data[\"species\"].unique()\n",
        "species = pd.Series(range(0, len(species)), index=list(species))\n",
        "print(species.iloc[0:5])"
      ]
    },
    {
      "cell_type": "code",
      "execution_count": null,
      "metadata": {
        "_cell_guid": "2d1f4a6d-d660-bf01-077b-b9caa115c10a"
      },
      "outputs": [],
      "source": [
        "def fix_spieces(line):\n",
        "    line['species'] = species.loc[line['species']]\n",
        "    return line\n",
        "train_data = train_data.apply(fix_spieces, axis=1)"
      ]
    },
    {
      "cell_type": "code",
      "execution_count": null,
      "metadata": {
        "_cell_guid": "9a8772b5-ce78-166d-82ee-fc24cc2090db"
      },
      "outputs": [],
      "source": [
        "forest = RandomForestClassifier(n_estimators = 100)\n",
        "train = train_data.values[0::, 2::]\n",
        "forest = forest.fit(train, train_data.values[0::, 1])\n",
        "output = forest.predict_proba(test_data.values[0::, 1::])"
      ]
    },
    {
      "cell_type": "code",
      "execution_count": null,
      "metadata": {
        "_cell_guid": "ceca712d-47c9-991a-1cb7-0ed2fd59b126"
      },
      "outputs": [],
      "source": [
        "kn = KNeighborsClassifier(n_neighbors=3)\n",
        "kn = kn.fit(train, train_data.values[0::, 1])\n",
        "output2 = kn.predict_proba(test_data.values[0::, 1::])"
      ]
    },
    {
      "cell_type": "code",
      "execution_count": null,
      "metadata": {
        "_cell_guid": "a5ff86e1-dadc-13e7-895d-1aa236228e30"
      },
      "outputs": [],
      "source": [
        "output_final = ((output/2) + (output2)*2)/2"
      ]
    },
    {
      "cell_type": "code",
      "execution_count": null,
      "metadata": {
        "_cell_guid": "f3aacd5c-cc74-36b2-7e05-2193dbbc5d90"
      },
      "outputs": [],
      "source": [
        "out = pd.DataFrame(output_final, index=test_data.values[0::, 0].astype(np.int), columns = species.index.values)\n",
        "out.index.name = \"id\""
      ]
    },
    {
      "cell_type": "code",
      "execution_count": null,
      "metadata": {
        "_cell_guid": "f601bac2-fdc4-7880-168e-c627380f10c7"
      },
      "outputs": [],
      "source": [
        "out.to_csv(\"output.csv\")"
      ]
    }
  ],
  "metadata": {
    "_change_revision": 0,
    "_is_fork": false,
    "kernelspec": {
      "display_name": "Python 3",
      "language": "python",
      "name": "python3"
    },
    "language_info": {
      "codemirror_mode": {
        "name": "ipython",
        "version": 3
      },
      "file_extension": ".py",
      "mimetype": "text/x-python",
      "name": "python",
      "nbconvert_exporter": "python",
      "pygments_lexer": "ipython3",
      "version": "3.6.0"
    }
  },
  "nbformat": 4,
  "nbformat_minor": 0
}