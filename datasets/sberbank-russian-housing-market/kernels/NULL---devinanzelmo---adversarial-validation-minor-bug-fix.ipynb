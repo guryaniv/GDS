{
  "cells": [
    {
      "cell_type": "markdown",
      "metadata": {
        "_cell_guid": "b1511075-2040-1acf-08f8-db4ab6bed4e1"
      },
      "source": [
        "`fillna()` for test set as this was missing from the original preprocessing code. There is still good separation, auc is 0.95 now vs 0.99"
      ]
    },
    {
      "cell_type": "code",
      "execution_count": null,
      "metadata": {
        "_cell_guid": "bcbf5e1a-6442-47ba-5435-7053db612903"
      },
      "outputs": [],
      "source": [
        "import pandas as pd\n",
        "import numpy as np\n",
        "from sklearn.model_selection import StratifiedKFold\n",
        "import xgboost as xgb\n",
        "from sklearn.metrics import roc_auc_score\n",
        "\n",
        "from subprocess import check_output\n",
        "print(check_output([\"ls\", \"../input\"]).decode(\"utf8\"))"
      ]
    },
    {
      "cell_type": "code",
      "execution_count": null,
      "metadata": {
        "_cell_guid": "63a18771-010e-db9f-0292-1b8e1b8787d5"
      },
      "outputs": [],
      "source": [
        "# We start by loading the training / test data and combining them with minimal preprocessing necessary\n",
        "# Most of the data preparation is taken from here: \n",
        "# https://www.kaggle.com/bguberfain/naive-xgb-lb-0-317\n",
        "xtrain = pd.read_csv('../input/train.csv')\n",
        "id_train = xtrain['id']\n",
        "time_train = xtrain['timestamp']\n",
        "ytrain = xtrain['price_doc']\n",
        "xtrain.drop(['id', 'timestamp', 'price_doc'], axis = 1, inplace = True)\n",
        "xtrain.fillna(-1, inplace = True)"
      ]
    },
    {
      "cell_type": "code",
      "execution_count": null,
      "metadata": {
        "_cell_guid": "3d1733b2-d704-33ae-c3c9-528aa284b474"
      },
      "outputs": [],
      "source": [
        "xtest = pd.read_csv('../input/test.csv')\n",
        "id_test = xtest['id']            \n",
        "time_test = xtest['timestamp']"
      ]
    },
    {
      "cell_type": "code",
      "execution_count": null,
      "metadata": {
        "_cell_guid": "f18df6ff-59e2-2747-c213-844d1d01c1e6"
      },
      "outputs": [],
      "source": [
        "xtest.isnull().sum().sum() # still nulls in test set"
      ]
    },
    {
      "cell_type": "code",
      "execution_count": null,
      "metadata": {
        "_cell_guid": "b4a7338a-30db-4ada-de34-babca852e566"
      },
      "outputs": [],
      "source": [
        "#fillna same way as train in the test set\n",
        "xtest.fillna(-1, inplace = True)\n",
        "xtest.drop(['id', 'timestamp'], axis = 1, inplace = True)"
      ]
    },
    {
      "cell_type": "code",
      "execution_count": null,
      "metadata": {
        "_cell_guid": "3f4ffc92-a776-6715-b7f3-925f1547d4fc"
      },
      "outputs": [],
      "source": [
        "# add identifier and combine\n",
        "xtrain['istrain'] = 1\n",
        "xtest['istrain'] = 0\n",
        "xdat = pd.concat([xtrain, xtest], axis = 0)\n",
        "\n",
        "# convert non-numerical columns to integers\n",
        "df_numeric = xdat.select_dtypes(exclude=['object'])\n",
        "df_obj = xdat.select_dtypes(include=['object']).copy()\n",
        "    \n",
        "for c in df_obj:\n",
        "    df_obj[c] = pd.factorize(df_obj[c])[0]\n",
        "    \n",
        "xdat = pd.concat([df_numeric, df_obj], axis=1)\n",
        "y = xdat['istrain']; xdat.drop('istrain', axis = 1, inplace = True)"
      ]
    },
    {
      "cell_type": "markdown",
      "metadata": {
        "_cell_guid": "d0d09367-f024-ae7e-82ce-e75d53780274"
      },
      "source": [
        "Define a split and the model (xgboost, what else :-)"
      ]
    },
    {
      "cell_type": "code",
      "execution_count": null,
      "metadata": {
        "_cell_guid": "891a4cdc-d085-b67f-45e7-dcdc3ca0f8b2"
      },
      "outputs": [],
      "source": [
        "skf = StratifiedKFold(n_splits = 5, shuffle = True, random_state = 44)\n",
        "xgb_params = {\n",
        "        'learning_rate': 0.05, 'max_depth': 4,'subsample': 0.9,\n",
        "        'colsample_bytree': 0.9,'objective': 'binary:logistic',\n",
        "        'silent': 1, 'n_estimators':100, 'gamma':1,\n",
        "        'min_child_weight':4\n",
        "        }   \n",
        "clf = xgb.XGBClassifier(**xgb_params, seed = 10)     "
      ]
    },
    {
      "cell_type": "markdown",
      "metadata": {
        "_cell_guid": "e103b1ab-479c-777d-ee19-a9f3a572a7c4"
      },
      "source": [
        "Calculate the AUC for each fold"
      ]
    },
    {
      "cell_type": "code",
      "execution_count": null,
      "metadata": {
        "_cell_guid": "223a095a-712f-fa90-707a-ea34fa091fc0"
      },
      "outputs": [],
      "source": [
        "for train_index, test_index in skf.split(xdat, y):\n",
        "        x0, x1 = xdat.iloc[train_index], xdat.iloc[test_index]\n",
        "        y0, y1 = y.iloc[train_index], y.iloc[test_index]        \n",
        "        print(x0.shape)\n",
        "        clf.fit(x0, y0, eval_set=[(x1, y1)],\n",
        "               eval_metric='logloss', verbose=False,early_stopping_rounds=10)\n",
        "                \n",
        "        prval = clf.predict_proba(x1)[:,1]\n",
        "        print(roc_auc_score(y1,prval))"
      ]
    },
    {
      "cell_type": "markdown",
      "metadata": {
        "_cell_guid": "394561c3-a9d5-d3ad-31a0-801a8e7e2c42"
      },
      "source": [
        "Separation is still very good. I doubt this changes the discussion too much."
      ]
    },
    {
      "cell_type": "code",
      "execution_count": null,
      "metadata": {
        "_cell_guid": "cd473d7d-bb0c-0ef7-e4f3-36e0567ebb41"
      },
      "outputs": [],
      "source": ""
    }
  ],
  "metadata": {
    "_change_revision": 0,
    "_is_fork": false,
    "kernelspec": {
      "display_name": "Python 3",
      "language": "python",
      "name": "python3"
    },
    "language_info": {
      "codemirror_mode": {
        "name": "ipython",
        "version": 3
      },
      "file_extension": ".py",
      "mimetype": "text/x-python",
      "name": "python",
      "nbconvert_exporter": "python",
      "pygments_lexer": "ipython3",
      "version": "3.6.0"
    }
  },
  "nbformat": 4,
  "nbformat_minor": 0
}