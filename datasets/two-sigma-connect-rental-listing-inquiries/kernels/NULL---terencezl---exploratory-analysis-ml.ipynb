{
  "cells": [
    {
      "cell_type": "markdown",
      "metadata": {
        "_cell_guid": "aa078fb6-d21a-67c9-f408-b08d1b5abda0"
      },
      "source": ""
    },
    {
      "cell_type": "code",
      "execution_count": null,
      "metadata": {
        "_cell_guid": "c6ad7d99-2a23-2262-6165-c7bce355b28b"
      },
      "outputs": [],
      "source": [
        "import numpy as np\n",
        "import pandas as pd\n",
        "import matplotlib.pyplot as plt\n",
        "import seaborn as sns\n",
        "import mplleaflet\n",
        "# sns.set_context(\"poster\")\n",
        "plt.rcdefaults()\n",
        "plt.style.use('ggplot')\n",
        "# np.set_printoptions(precision=2)\n",
        "current_palette = sns.color_palette()\n",
        "%matplotlib inline"
      ]
    },
    {
      "cell_type": "markdown",
      "metadata": {
        "_cell_guid": "dff6015d-03a6-8e35-5692-9f246fa3df8f"
      },
      "source": ""
    },
    {
      "cell_type": "markdown",
      "metadata": {
        "_cell_guid": "3a1aa6de-9304-6bc2-9e89-45d047721045"
      },
      "source": ""
    },
    {
      "cell_type": "code",
      "execution_count": null,
      "metadata": {
        "_cell_guid": "c06eaad1-d710-ea2d-fc41-a29325dc9dc9"
      },
      "outputs": [],
      "source": [
        "train_df = pd.read_json(\"../input/train.json\")\n",
        "train_df.head()"
      ]
    },
    {
      "cell_type": "markdown",
      "metadata": {
        "_cell_guid": "82d9b25a-5feb-0c8b-670f-f9daae5a4f28"
      },
      "source": ""
    },
    {
      "cell_type": "code",
      "execution_count": null,
      "metadata": {
        "_cell_guid": "bf07dfbe-3784-b6b4-e183-2b2d33e4664e"
      },
      "outputs": [],
      "source": [
        "# treat price\n",
        "price_max = np.percentile(train_df.price, 99)\n",
        "train_df.loc[train_df.price > price_max, 'price'] = price_max\n",
        "train_df.price.hist(bins=50)"
      ]
    },
    {
      "cell_type": "code",
      "execution_count": null,
      "metadata": {
        "_cell_guid": "825491bd-72ee-9639-7733-648efb528734"
      },
      "outputs": [],
      "source": [
        "# treat latitude\n",
        "latitude_max = np.percentile(train_df.latitude, 99)\n",
        "latitude_min = np.percentile(train_df.latitude, 1)\n",
        "train_df.loc[train_df.latitude > latitude_max, 'latitude'] = latitude_max\n",
        "train_df.loc[train_df.latitude < latitude_min, 'latitude'] = latitude_min\n",
        "train_df.latitude.hist(bins=50)"
      ]
    },
    {
      "cell_type": "code",
      "execution_count": null,
      "metadata": {
        "_cell_guid": "a84c3588-0a5e-9dce-1ce8-8bae59b4c9ee"
      },
      "outputs": [],
      "source": [
        "# treat longitude\n",
        "longitude_max = np.percentile(train_df.longitude, 99)\n",
        "longitude_min = np.percentile(train_df.longitude, 1)\n",
        "train_df.loc[train_df.longitude > longitude_max, 'longitude'] = longitude_max\n",
        "train_df.loc[train_df.longitude < longitude_min, 'longitude'] = longitude_min\n",
        "train_df.longitude.hist(bins=50)"
      ]
    },
    {
      "cell_type": "markdown",
      "metadata": {
        "_cell_guid": "7d8c997b-7fef-258d-bc8b-3dfad7cb2fb7"
      },
      "source": ""
    },
    {
      "cell_type": "code",
      "execution_count": null,
      "metadata": {
        "_cell_guid": "753e515b-f19f-82ee-db46-8506c4685198"
      },
      "outputs": [],
      "source": [
        "train_df['interest_level_coded'] = train_df.interest_level.map({'low': 0, 'medium': 1, 'high':2})\n",
        "cmapping = train_df.interest_level_coded.map({i: current_palette[i] for i in [0, 1, 2]})\n",
        "pd.scatter_matrix(train_df[['latitude', 'longitude', 'price']], figsize=[10, 9], s=6, c=cmapping, diagonal='kde')"
      ]
    },
    {
      "cell_type": "code",
      "execution_count": null,
      "metadata": {
        "_cell_guid": "637f95e4-c78f-ce37-8c41-bdb08d4d0160"
      },
      "outputs": [],
      "source": ""
    },
    {
      "cell_type": "markdown",
      "metadata": {
        "_cell_guid": "78f9899d-1fe4-1df0-77c8-eac66afad719"
      },
      "source": ""
    },
    {
      "cell_type": "code",
      "execution_count": null,
      "metadata": {
        "_cell_guid": "ecb26361-873b-2b7d-33fe-e2fdd65797ce"
      },
      "outputs": [],
      "source": [
        "f = plt.figure(figsize=(10, 10))\n",
        "train_df_sampled = train_df.sample(100)\n",
        "plt.scatter(train_df_sampled.longitude, train_df_sampled.latitude, s=50, c=cmapping)\n",
        "mplleaflet.display(fig=f)"
      ]
    },
    {
      "cell_type": "markdown",
      "metadata": {
        "_cell_guid": "93605e23-779f-87e5-790a-567794f7ac51"
      },
      "source": ""
    },
    {
      "cell_type": "code",
      "execution_count": null,
      "metadata": {
        "_cell_guid": "b02163cf-d233-3c7d-addf-d4fd25709de4"
      },
      "outputs": [],
      "source": [
        "train_df[\"num_photos\"] = train_df.photos.apply(len)\n",
        "train_df[\"num_features\"] = train_df.features.apply(len)\n",
        "train_df[\"num_description_words\"] = train_df.description.apply(lambda x: len(x.split(\" \")))\n",
        "train_df[\"created\"] = pd.to_datetime(train_df.created)\n",
        "train_df[\"created_year\"] = train_df.created.dt.year\n",
        "train_df[\"created_month\"] = train_df.created.dt.month\n",
        "train_df[\"created_day\"] = train_df.created.dt.day"
      ]
    },
    {
      "cell_type": "markdown",
      "metadata": {
        "_cell_guid": "a26bbc00-cb3f-0458-ec34-e252202ab13d"
      },
      "source": ""
    },
    {
      "cell_type": "code",
      "execution_count": null,
      "metadata": {
        "_cell_guid": "68379768-7fee-5fcc-9b8d-5653339bb51c"
      },
      "outputs": [],
      "source": [
        "from sklearn.linear_model import LogisticRegressionCV, LogisticRegression\n",
        "from sklearn.svm import LinearSVC, SVC\n",
        "from sklearn.ensemble import RandomForestClassifier, GradientBoostingClassifier\n",
        "from sklearn.model_selection import GridSearchCV, RandomizedSearchCV, cross_val_score, train_test_split\n",
        "from sklearn.metrics import classification_report, confusion_matrix, log_loss\n",
        "\n",
        "def plot_confusion_matrix(cm, classes,\n",
        "                          normalize=False,\n",
        "                          title='Confusion matrix',\n",
        "                          cmap=plt.cm.Blues):\n",
        "    \"\"\"\n",
        "    This function prints and plots the confusion matrix.\n",
        "    Normalization can be applied by setting `normalize=True`.\n",
        "    \n",
        "    Stolen from http://scikit-learn.org/stable/auto_examples/model_selection/plot_confusion_matrix.html\n",
        "    \"\"\"\n",
        "    import itertools\n",
        "    plt.imshow(cm, interpolation='nearest', cmap=cmap)\n",
        "    plt.title(title)\n",
        "    plt.colorbar()\n",
        "    tick_marks = np.arange(len(classes))\n",
        "    plt.xticks(tick_marks, classes, rotation=45)\n",
        "    plt.yticks(tick_marks, classes)\n",
        "\n",
        "    if normalize:\n",
        "        cm = np.round(cm.astype('float') / cm.sum(axis=1)[:, np.newaxis], 2)\n",
        "        print(\"Normalized confusion matrix\")\n",
        "    else:\n",
        "        print('Confusion matrix, without normalization')\n",
        "\n",
        "    print(cm)\n",
        "\n",
        "    thresh = cm.max() / 2.\n",
        "    for i, j in itertools.product(range(cm.shape[0]), range(cm.shape[1])):\n",
        "        plt.text(j, i, cm[i, j],\n",
        "                 horizontalalignment=\"center\",\n",
        "                 color=\"white\" if cm[i, j] > thresh else \"black\")\n",
        "\n",
        "    plt.tight_layout()\n",
        "    plt.ylabel('True label')\n",
        "    plt.xlabel('Predicted label')\n",
        "\n",
        "\n",
        "X_vars = ['bathrooms', 'bedrooms', 'latitude', 'longitude', 'price', 'num_photos', 'num_features', 'num_description_words', 'created_year', 'created_month', 'created_day']\n",
        "X_train, X_test, y_train, y_test = train_test_split(train_df[X_vars], train_df['interest_level'], stratify= train_df['interest_level'])"
      ]
    },
    {
      "cell_type": "markdown",
      "metadata": {
        "_cell_guid": "72b723bf-d189-92f7-79c2-34125a3bc347"
      },
      "source": ""
    },
    {
      "cell_type": "markdown",
      "metadata": {
        "_cell_guid": "b2f55904-fe81-8ba0-ce29-0e73b1e8c3da"
      },
      "source": ""
    },
    {
      "cell_type": "code",
      "execution_count": null,
      "metadata": {
        "_cell_guid": "71c84c84-2a8d-d715-7932-49ef78883e53"
      },
      "outputs": [],
      "source": [
        "Cs = np.logspace(-3, 1, 10)\n",
        "lrcv = LogisticRegressionCV(Cs=Cs, scoring='neg_log_loss').fit(X_train, y_train)"
      ]
    },
    {
      "cell_type": "code",
      "execution_count": null,
      "metadata": {
        "_cell_guid": "88b27db2-2d32-d0bb-1ab7-146df8ebcd2d"
      },
      "outputs": [],
      "source": [
        "# scores correspond to three interest levels. low has the largest log loss\n",
        "plt.semilogx(lrcv.Cs_, -lrcv.scores_['low'].mean(axis=0), '-o')\n",
        "# plt.semilogx(lrcv.Cs_, -(lrcv.scores_['low'] + lrcv.scores_['medium'] + lrcv.scores_['high']).mean(axis=0)/3, '-o')\n",
        "plt.xlabel(r'$\\alpha$')\n",
        "plt.ylabel('Log Loss')"
      ]
    },
    {
      "cell_type": "code",
      "execution_count": null,
      "metadata": {
        "_cell_guid": "a2719da8-1acd-35bb-966c-27f92b87d36b"
      },
      "outputs": [],
      "source": [
        "y_pred = lrcv.predict(X_test)\n",
        "print(classification_report(y_test, y_pred))\n",
        "plot_confusion_matrix(confusion_matrix(y_test, y_pred), classes=['low', 'medium', 'high'], normalize=True)"
      ]
    },
    {
      "cell_type": "markdown",
      "metadata": {
        "_cell_guid": "6271d7a1-aa86-688f-cd81-48c8f1ab9330"
      },
      "source": ""
    },
    {
      "cell_type": "code",
      "execution_count": null,
      "metadata": {
        "_cell_guid": "ec3d0841-0c6a-8b36-91e5-4b2a92715a60"
      },
      "outputs": [],
      "source": [
        "lr = GridSearchCV(LogisticRegression(), {'C': Cs}, scoring='neg_log_loss').fit(X_train, y_train)"
      ]
    },
    {
      "cell_type": "code",
      "execution_count": null,
      "metadata": {
        "_cell_guid": "76e282ce-7d99-d88a-8104-de094d320075"
      },
      "outputs": [],
      "source": [
        "lr_cv_results = pd.DataFrame(lr.cv_results_)\n",
        "plt.semilogx(lr_cv_results['param_C'], -lr_cv_results['mean_test_score'], '-o')\n",
        "plt.xlabel(r'$\\alpha$')\n",
        "plt.ylabel('Log Loss')"
      ]
    },
    {
      "cell_type": "code",
      "execution_count": null,
      "metadata": {
        "_cell_guid": "251e8b10-89ef-17d3-8013-b202b2390222"
      },
      "outputs": [],
      "source": [
        "print(lr.best_params_, lr.best_score_)"
      ]
    },
    {
      "cell_type": "code",
      "execution_count": null,
      "metadata": {
        "_cell_guid": "4a261fa9-831d-03a2-e4a6-bb696a08995e"
      },
      "outputs": [],
      "source": [
        "y_pred = lr.predict(X_test)\n",
        "print(classification_report(y_test, y_pred))\n",
        "plot_confusion_matrix(confusion_matrix(y_test, y_pred), classes=['low', 'medium', 'high'], normalize=True)"
      ]
    },
    {
      "cell_type": "markdown",
      "metadata": {
        "_cell_guid": "7d0dcb85-5308-7b6f-e4d3-54fb12cc554a"
      },
      "source": ""
    },
    {
      "cell_type": "code",
      "execution_count": null,
      "metadata": {
        "_cell_guid": "d2e49f3e-ed9f-64f7-1c85-faf984419d30"
      },
      "outputs": [],
      "source": [
        "X_train_sample, y_train_sample = X_train.iloc[:5000], y_train.iloc[:5000]"
      ]
    },
    {
      "cell_type": "markdown",
      "metadata": {
        "_cell_guid": "0a0973c6-7db2-0c15-f03a-31e921c9b101"
      },
      "source": ""
    },
    {
      "cell_type": "code",
      "execution_count": null,
      "metadata": {
        "_cell_guid": "2659c829-ee9a-27d8-cc7c-4e4baafa7b46"
      },
      "outputs": [],
      "source": [
        "svc_lin = GridSearchCV(LinearSVC(multi_class='ovr'),\n",
        "                       {'C': np.logspace(-2, 10, 10)}).fit(X_train_sample, y_train_sample)"
      ]
    },
    {
      "cell_type": "code",
      "execution_count": null,
      "metadata": {
        "_cell_guid": "e98399c5-eec6-63e1-40bd-450d6f7faf17"
      },
      "outputs": [],
      "source": [
        "svc_lin_cv_results = pd.DataFrame(svc_lin.cv_results_)\n",
        "plt.semilogx(svc_lin_cv_results['param_C'], svc_lin_cv_results['mean_test_score'], '-o')\n",
        "plt.xlabel('C')\n",
        "plt.ylabel('Accuracy')"
      ]
    },
    {
      "cell_type": "code",
      "execution_count": null,
      "metadata": {
        "_cell_guid": "1bcf71ff-c3f3-6976-a286-3e611594edce"
      },
      "outputs": [],
      "source": [
        "print(svc_lin.best_params_, svc_lin.best_score_)"
      ]
    },
    {
      "cell_type": "code",
      "execution_count": null,
      "metadata": {
        "_cell_guid": "e087e392-2b08-d342-73b2-6d07e4fb96ec"
      },
      "outputs": [],
      "source": [
        "y_pred = svc_lin.predict(X_test)\n",
        "print(classification_report(y_test, y_pred))\n",
        "plot_confusion_matrix(confusion_matrix(y_test, y_pred), classes=['low', 'medium', 'high'])"
      ]
    },
    {
      "cell_type": "markdown",
      "metadata": {
        "_cell_guid": "47dbc129-a06b-86d7-614d-6554ef1bce18"
      },
      "source": ""
    },
    {
      "cell_type": "code",
      "execution_count": null,
      "metadata": {
        "_cell_guid": "6c6eafcb-db41-14c5-fb86-b08052aba4b7"
      },
      "outputs": [],
      "source": [
        "svc_rbf = GridSearchCV(SVC(kernel='rbf', decision_function_shape='ovr'), \n",
        "                       {'C': np.logspace(-2, 10, 3), 'gamma': np.logspace(-9, 3, 3)}\n",
        "                      ).fit(X_train_sample, y_train_sample)"
      ]
    },
    {
      "cell_type": "code",
      "execution_count": null,
      "metadata": {
        "_cell_guid": "3dd1fa64-0596-28ad-e9e8-b8336b40440d"
      },
      "outputs": [],
      "source": [
        "svc_rbf_cv_results = pd.DataFrame(svc_rbf.cv_results_)\n",
        "plt.plot(svc_rbf_cv_results['mean_test_score'], '-o')\n",
        "plt.xlabel('Num. of Trials')\n",
        "plt.ylabel('Accuracy')"
      ]
    },
    {
      "cell_type": "code",
      "execution_count": null,
      "metadata": {
        "_cell_guid": "4e21ad28-1935-034f-8d82-be9584865256"
      },
      "outputs": [],
      "source": [
        "print(svc_rbf.best_params_, svc_rbf.best_score_)"
      ]
    },
    {
      "cell_type": "code",
      "execution_count": null,
      "metadata": {
        "_cell_guid": "a1c99ef2-5c76-30b5-6e77-21fa31f43092"
      },
      "outputs": [],
      "source": [
        "y_pred = svc_rbf.predict(X_test)\n",
        "print(classification_report(y_test, y_pred))\n",
        "plot_confusion_matrix(confusion_matrix(y_test, y_pred), classes=['low', 'medium', 'high'], normalize=True)"
      ]
    },
    {
      "cell_type": "markdown",
      "metadata": {
        "_cell_guid": "8bbda0f2-43b9-1ce2-35ed-31a9293ae706"
      },
      "source": ""
    },
    {
      "cell_type": "markdown",
      "metadata": {
        "_cell_guid": "9c6dd74f-ea7f-9707-3aa3-97da44c1cc69"
      },
      "source": ""
    },
    {
      "cell_type": "code",
      "execution_count": null,
      "metadata": {
        "_cell_guid": "1aa59dfc-31b1-7c1b-9b11-8bb9c61c3236"
      },
      "outputs": [],
      "source": [
        "n_estimators = np.logspace(1, 3, 5).astype(int)\n",
        "scores = []\n",
        "for i in n_estimators:\n",
        "    rf = RandomForestClassifier(n_estimators=i, oob_score=True, n_jobs=-1).fit(X_train, y_train)\n",
        "    scores.append(rf.oob_score_)"
      ]
    },
    {
      "cell_type": "code",
      "execution_count": null,
      "metadata": {
        "_cell_guid": "67ec2151-1c32-0fbd-8616-9b10d503972a"
      },
      "outputs": [],
      "source": [
        "plt.plot(n_estimators, scores, '-o')\n",
        "plt.xlabel('Num. of Estimators')\n",
        "plt.ylabel('Accuracy') # this is not log loss!"
      ]
    },
    {
      "cell_type": "markdown",
      "metadata": {
        "_cell_guid": "b2b96770-26db-7b1c-c8ba-7d05ef133d29"
      },
      "source": ""
    },
    {
      "cell_type": "code",
      "execution_count": null,
      "metadata": {
        "_cell_guid": "d0d67a4e-14de-56ec-474f-30fc7747f085"
      },
      "outputs": [],
      "source": [
        "rf = GridSearchCV(RandomForestClassifier(n_jobs=-1), {'n_estimators': n_estimators},\n",
        "                 scoring='neg_log_loss').fit(X_train, y_train)"
      ]
    },
    {
      "cell_type": "code",
      "execution_count": null,
      "metadata": {
        "_cell_guid": "109f3bb3-6864-88ea-2ca8-12d97a1b849c"
      },
      "outputs": [],
      "source": [
        "rf_cv_results = pd.DataFrame(rf.cv_results_)\n",
        "plt.plot(rf_cv_results['param_n_estimators'], -rf_cv_results['mean_test_score'], '-o')\n",
        "plt.xlabel('Num. of Estimators')\n",
        "plt.ylabel('Log Loss')"
      ]
    },
    {
      "cell_type": "code",
      "execution_count": null,
      "metadata": {
        "_cell_guid": "34683e07-1e01-2db2-ee67-f444a4bb96ca"
      },
      "outputs": [],
      "source": [
        "print(rf.best_params_, rf.best_score_)"
      ]
    },
    {
      "cell_type": "code",
      "execution_count": null,
      "metadata": {
        "_cell_guid": "ef8fc7da-259a-0b8c-41dd-c90584b15acf"
      },
      "outputs": [],
      "source": [
        "y_pred = rf.predict(X_test)\n",
        "print(classification_report(y_test, y_pred))\n",
        "plot_confusion_matrix(confusion_matrix(y_test, y_pred), classes=['low', 'medium', 'high'], normalize=True)"
      ]
    },
    {
      "cell_type": "markdown",
      "metadata": {
        "_cell_guid": "a2d2ec6a-381f-a5d3-dccd-b92d7c47960c"
      },
      "source": ""
    },
    {
      "cell_type": "code",
      "execution_count": null,
      "metadata": {
        "_cell_guid": "7e15b109-f9d5-e24d-2a64-036c01489ab9"
      },
      "outputs": [],
      "source": [
        "params = {'learning_rate': [0.05, 0.1, 0.2], 'subsample': [1, 0.5]}\n",
        "gbc = GridSearchCV(GradientBoostingClassifier(n_estimators=1000), \n",
        "                         params, scoring='neg_log_loss').fit(X_train, y_train)"
      ]
    },
    {
      "cell_type": "code",
      "execution_count": null,
      "metadata": {
        "_cell_guid": "840854ae-87d2-17fa-b742-2da8861b6c9f"
      },
      "outputs": [],
      "source": [
        "gbc_cv_results = pd.DataFrame(gbc.cv_results_)\n",
        "plt.plot(-gbc_cv_results['mean_test_score'], '-o')\n",
        "plt.xlabel('Num. of Trials')\n",
        "plt.ylabel('Log Loss')"
      ]
    },
    {
      "cell_type": "code",
      "execution_count": null,
      "metadata": {
        "_cell_guid": "7d17a6f6-e7e6-c7f2-eacb-df88623acde2"
      },
      "outputs": [],
      "source": [
        "print(gbc.best_params_, gbc.best_score_)"
      ]
    },
    {
      "cell_type": "code",
      "execution_count": null,
      "metadata": {
        "_cell_guid": "84a63b16-e880-9ede-16d9-f825cecb229f"
      },
      "outputs": [],
      "source": [
        "y_pred = gbc.predict(X_test)\n",
        "print(classification_report(y_test, y_pred))\n",
        "plot_confusion_matrix(confusion_matrix(y_test, y_pred), classes=['low', 'medium', 'high'], normalize=True)"
      ]
    },
    {
      "cell_type": "markdown",
      "metadata": {
        "_cell_guid": "00bc9146-2d79-5b5a-f117-a7d159317811"
      },
      "source": ""
    },
    {
      "cell_type": "code",
      "execution_count": null,
      "metadata": {
        "_cell_guid": "a65d669c-8b66-fdad-5674-07a257ad8ca2"
      },
      "outputs": [],
      "source": [
        "test_df = pd.read_json(\"test.json\")\n",
        "test_df[\"num_photos\"] = test_df.photos.apply(len)\n",
        "test_df[\"num_features\"] = test_df.features.apply(len)\n",
        "test_df[\"num_description_words\"] = test_df.description.apply(lambda x: len(x.split(\" \")))\n",
        "test_df[\"created\"] = pd.to_datetime(test_df.created)\n",
        "test_df[\"created_year\"] = test_df.created.dt.year\n",
        "test_df[\"created_month\"] = test_df.created.dt.month\n",
        "test_df[\"created_day\"] = test_df.created.dt.day\n",
        "\n",
        "y = gbc.predict_proba(test_df[X_vars])"
      ]
    },
    {
      "cell_type": "code",
      "execution_count": null,
      "metadata": {
        "_cell_guid": "aa2dc767-08f3-e664-1565-f3c1814cfd4c"
      },
      "outputs": [],
      "source": ""
    }
  ],
  "metadata": {
    "_change_revision": 0,
    "_is_fork": false,
    "kernelspec": {
      "display_name": "Python 3",
      "language": "python",
      "name": "python3"
    },
    "language_info": {
      "codemirror_mode": {
        "name": "ipython",
        "version": 3
      },
      "file_extension": ".py",
      "mimetype": "text/x-python",
      "name": "python",
      "nbconvert_exporter": "python",
      "pygments_lexer": "ipython3",
      "version": "3.6.0"
    }
  },
  "nbformat": 4,
  "nbformat_minor": 0
}