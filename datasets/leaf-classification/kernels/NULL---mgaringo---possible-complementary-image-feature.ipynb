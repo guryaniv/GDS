{
  "cells": [
    {
      "cell_type": "markdown",
      "metadata": {
        "_cell_guid": "cb7c5f33-7f94-4fde-c443-8394b7883097"
      },
      "source": [
        "Leaves have many different characteristics to identify them. This work will try and see if we can obtain different distinct features from the images to complement the features that are currently present.  I will explore the possibility of trying to find complementary features to the current feature set and seeing if we can improve on the classification.\n",
        "\n",
        "## Current Features ##\n",
        " - Shape\n",
        " - Texture\n",
        " - Margin\n",
        "\n",
        "## Proposed Feature ##\n",
        "http://oregonstate.edu/dept/ldplants/Plant%20ID-Leaves.htm states the following\n",
        "\n",
        "Broad vs. narrow leaves\n",
        "\n",
        "Leaves can be divided into categories of broad and narrow.\n",
        "Broad leaves have a wide blade, often with a visible network of veins. \n",
        "Northern Catalpa, [Catalpa speciosa, leaves and flowers].\n",
        "Familiar examples of plants with broad leaves are apple (Malus), oak (Quercus), maple ( Acer), etc.\n",
        "\n",
        "Narrow leaves are slender, without a wide blade, these leaves are often referred to as \u201cneedle\u201d or \u201cscale-like\u201d. Conifers, such as pine (Pinus), spruce (Picea) and juniper (Juniperus), have narrow leaves, some have needles\n",
        "Norway Spruce, [Picea abies, branch, needles]\n",
        "Blue Atlas Cedar, [Cedrus atlantica \u2018Glauca\u2019, branch comparison]\n",
        "and others have scale-like leaves,\n",
        "Incense Cedar, [Calocedrus decurrens, branchlets]\n",
        "Western Red Cedar, [Thuja plicata, branchlet and leaves].\n",
        "\n",
        "So we propose a vein feature using skeletal information."
      ]
    },
    {
      "cell_type": "code",
      "execution_count": null,
      "metadata": {
        "_cell_guid": "846d7af6-a984-e7f8-0359-0b5ad7ec9ef0"
      },
      "outputs": [],
      "source": [
        "# This Python 3 environment comes with many helpful analytics libraries installed\n",
        "# It is defined by the kaggle/python docker image: https://github.com/kaggle/docker-python\n",
        "# For example, here's several helpful packages to load in \n",
        "\n",
        "import numpy as np # linear algebra\n",
        "import pandas as pd # data processing, CSV file I/O (e.g. pd.read_csv)\n",
        "import scipy.ndimage as ndi\n",
        "from skimage.morphology import skeletonize\n",
        "from skimage import measure\n",
        "\n",
        "import matplotlib.image as mpimg\n",
        "import matplotlib.pyplot as plt\n",
        "\n",
        "# Input data files are available in the \"../input/\" directory.\n",
        "# For example, running this (by clicking run or pressing Shift+Enter) will list the files in the input directory\n",
        "\n",
        "from subprocess import check_output\n",
        "print(check_output([\"ls\", \"../input\"]).decode(\"utf8\"))\n",
        "\n",
        "# Any results you write to the current directory are saved as output."
      ]
    },
    {
      "cell_type": "markdown",
      "metadata": {
        "_cell_guid": "e2958852-266f-65a6-3028-e0c035a68e03"
      },
      "source": [
        "Reading the image a random"
      ]
    },
    {
      "cell_type": "code",
      "execution_count": null,
      "metadata": {
        "_cell_guid": "a4b9c79b-23ad-b0d9-0c84-6ff84aa7eaed"
      },
      "outputs": [],
      "source": [
        "# ------------------ Init ----------------------------------\n",
        "img = mpimg.imread('../input/images/53.jpg')\n"
      ]
    },
    {
      "cell_type": "markdown",
      "metadata": {
        "_cell_guid": "dfb9edbd-09b6-9000-4cc4-fbb69df2fdc4"
      },
      "source": [
        "Idea: extract the veins of the leaf to see any consistencies by using recursive erosion to obtain the skeleton of the leaf"
      ]
    },
    {
      "cell_type": "code",
      "execution_count": null,
      "metadata": {
        "_cell_guid": "da733274-e2d8-aeaa-5a5f-f768a35de61d"
      },
      "outputs": [],
      "source": [
        "# --------------------------------- Feature Extraction -------\n",
        "img = np.divide(img,np.max(np.max(img)))\n",
        "skeleton = skeletonize(img)"
      ]
    },
    {
      "cell_type": "markdown",
      "metadata": {
        "_cell_guid": "0e16f4ea-badd-9d74-4a0c-52066e2aca5f"
      },
      "source": [
        "Showing the vein structure of the leaves"
      ]
    },
    {
      "cell_type": "code",
      "execution_count": null,
      "metadata": {
        "_cell_guid": "56124964-7806-e37d-cb5c-d9f1cf748f1f"
      },
      "outputs": [],
      "source": [
        "# --------------------------------- Display The Results -------\n",
        "# display results\n",
        "fig, (ax1, ax2) = plt.subplots(1, 2, figsize=(8, 4.5), sharex=True, sharey=True, subplot_kw={'adjustable':'box-forced'})\n",
        "\n",
        "ax1.imshow(img, cmap=plt.cm.gray)\n",
        "ax1.axis('off')\n",
        "ax1.set_title('original', fontsize=20)\n",
        "\n",
        "ax2.imshow(skeleton, cmap=plt.cm.gray)\n",
        "ax2.axis('off')\n",
        "ax2.set_title('skeleton', fontsize=20)\n",
        "\n",
        "fig.subplots_adjust(wspace=0.02, hspace=0.02, top=0.98,\n",
        "                    bottom=0.02, left=0.02, right=0.98)\n",
        "\n",
        "plt.show()"
      ]
    },
    {
      "cell_type": "markdown",
      "metadata": {
        "_cell_guid": "c84019e8-a5d7-2ccf-8ec7-09ce46bbe317"
      },
      "source": [
        "This is a good start but we need to fine tune this in order to extract meaningful information such as the number of pits of the leaves.  Maybe the number of junctions of the veins, the number of vein paths, the longest vein path. There are multiple possibilities and in the next iteration I will try and explore these."
      ]
    }
  ],
  "metadata": {
    "_change_revision": 0,
    "_is_fork": false,
    "kernelspec": {
      "display_name": "Python 3",
      "language": "python",
      "name": "python3"
    },
    "language_info": {
      "codemirror_mode": {
        "name": "ipython",
        "version": 3
      },
      "file_extension": ".py",
      "mimetype": "text/x-python",
      "name": "python",
      "nbconvert_exporter": "python",
      "pygments_lexer": "ipython3",
      "version": "3.5.2"
    }
  },
  "nbformat": 4,
  "nbformat_minor": 0
}