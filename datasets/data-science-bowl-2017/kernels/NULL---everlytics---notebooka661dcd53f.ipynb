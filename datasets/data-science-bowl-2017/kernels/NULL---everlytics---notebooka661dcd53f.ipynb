{
  "cells": [
    {
      "cell_type": "code",
      "execution_count": null,
      "metadata": {
        "_cell_guid": "57cc1e93-70ae-0122-3065-1b3fdbab6d5c"
      },
      "outputs": [],
      "source": [
        "import os\n",
        "import pandas as pd\n",
        "data_dir = '../input/sample_images/'\n",
        "patients = os.listdir(data_dir)\n",
        "labels_df = pd.read_csv('../input/stage1_labels.csv', index_col=0)\n",
        "import dicom\n",
        "import numpy as np\n",
        "import cv2\n",
        "import math\n",
        "IMG_PX_SIZE = 150\n",
        "HM_SLICES = 20\n",
        "#patient\n",
        "#label = labels_df.get_value(patient, 'cancer')\n",
        "path = data_dir + patients[0]\n",
        "path\n",
        "slices = [dicom.read_file(path + '/' + s) for s in os.listdir(path)]\n",
        "slices.sort(key = lambda x: int(x.ImagePositionPatient[2]))\n",
        "#new_slices = []\n",
        "slices = [cv2.resize(np.array(each_slice.pixel_array),(IMG_PX_SIZE,IMG_PX_SIZE)) for each_slice in slices]\n",
        "\n",
        "chunk_sizes = math.ceil(len(slices) / HM_SLICES)\n",
        "chunk_sizes\n",
        "\n",
        "def chunks(l, n):\n",
        "    # Credit: Ned Batchelder\n",
        "    # Link: http://stackoverflow.com/questions/312443/how-do-you-split-a-list-into-evenly-sized-chunks\n",
        "    \"\"\"Yield successive n-sized chunks from l.\"\"\"\n",
        "    for i in range(0, len(l), n):\n",
        "        yield l[i:i + n]\n",
        "s=0\n",
        "\n",
        "a=chunks(slices, chunk_sizes)\n",
        "for slice_chunk in chunks(slices, chunk_sizes):\n",
        "    s=s+len(slice_chunk)\n",
        "    #print(slice_chunk)\n",
        "    print(len(slice_chunk))\n",
        "s    "
      ]
    },
    {
      "cell_type": "code",
      "execution_count": null,
      "metadata": {
        "_cell_guid": "e3f0abe4-93af-0372-d215-ab409235ced5"
      },
      "outputs": [],
      "source": [
        "new_slices = []\n",
        "def chunks(l, n):\n",
        "    # Credit: Ned Batchelder\n",
        "    # Link: http://stackoverflow.com/questions/312443/how-do-you-split-a-list-into-evenly-sized-chunks\n",
        "    \"\"\"Yield successive n-sized chunks from l.\"\"\"\n",
        "    for i in range(0, len(l), n):\n",
        "        yield l[i:i + n]\n",
        "IMG_PX_SIZE = 150\n",
        "HM_SLICES = 20\n",
        "chunk_sizes = math.ceil(len(slices) / HM_SLICES)    \n",
        "chunk_sizes"
      ]
    },
    {
      "cell_type": "code",
      "execution_count": null,
      "metadata": {
        "_cell_guid": "7bbfeeb4-10fd-9e29-91ab-2781046b2d00"
      },
      "outputs": [],
      "source": [
        "new_slices = []\n",
        "def mean(l):\n",
        "    return sum(l) / len(l)\n",
        "def chunks(l, n):\n",
        "    # Credit: Ned Batchelder\n",
        "    # Link: http://stackoverflow.com/questions/312443/how-do-you-split-a-list-into-evenly-sized-chunks\n",
        "    \"\"\"Yield successive n-sized chunks from l.\"\"\"\n",
        "    for i in range(0, len(l), n):\n",
        "        yield l[i:i + n]\n",
        "IMG_PX_SIZE = 150\n",
        "HM_SLICES = 20\n",
        "chunk_sizes = math.ceil(len(slices) / HM_SLICES)    \n",
        "chunk_sizes\n",
        "for slice_chunk in chunks(slices, chunk_sizes):\n",
        "    print (len(slice_chunk))\n",
        "    print('SC Before:',slice_chunk)\n",
        "    slice_chunk = list(map(mean, zip(*slice_chunk)))\n",
        "    print('SC After:',len(slice_chunk))\n",
        "    new_slices.append(slice_chunk)\n",
        "    print('new slices length:',len(new_slices))\n",
        "    \n",
        "#slice_chunk = list(map(mean, zip(*slice_chunk)))\n",
        "#new_slices.append(slice_chunk)"
      ]
    },
    {
      "cell_type": "code",
      "execution_count": null,
      "metadata": {
        "_cell_guid": "129abada-7c47-fb5c-9009-f0e57eb732c7"
      },
      "outputs": [],
      "source": [
        "type(new_slices[0][0])"
      ]
    },
    {
      "cell_type": "code",
      "execution_count": null,
      "metadata": {
        "_cell_guid": "5ef24941-67bc-668d-4eca-b33788bb3f5d"
      },
      "outputs": [],
      "source": [
        "len(new_slices)"
      ]
    },
    {
      "cell_type": "code",
      "execution_count": null,
      "metadata": {
        "_cell_guid": "d399ec08-4319-f148-2a59-2a5ba826cffd"
      },
      "outputs": [],
      "source": [
        "len(patients)"
      ]
    },
    {
      "cell_type": "code",
      "execution_count": null,
      "metadata": {
        "_cell_guid": "59474b53-b385-18b6-554c-078880ee7641"
      },
      "outputs": [],
      "source": [
        "labels_df = pd.read_csv('../input/stage1_labels.csv', index_col=0)"
      ]
    },
    {
      "cell_type": "code",
      "execution_count": null,
      "metadata": {
        "_cell_guid": "3a4be722-0d1e-a9bb-3df9-ffd1ff6e6347"
      },
      "outputs": [],
      "source": [
        "for patient in patients[:10]:\n",
        "    try:\n",
        "        label = labels_df.get_value(patient, 'cancer')\n",
        "        path = data_dir + patient\n",
        "        slices = [dicom.read_file(path + '/' + s) for s in os.listdir(path)]\n",
        "        slices.sort(key = lambda x: int(x.ImagePositionPatient[2]))\n",
        "        new_slices = []\n",
        "\n",
        "        slices = [cv2.resize(np.array(each_slice.pixel_array),(IMG_PX_SIZE,IMG_PX_SIZE)) for each_slice in slices]\n",
        "\n",
        "        chunk_sizes = math.ceil(len(slices) / HM_SLICES)\n",
        "\n",
        "\n",
        "        for slice_chunk in chunks(slices, chunk_sizes):\n",
        "            slice_chunk = list(map(mean, zip(*slice_chunk)))\n",
        "            new_slices.append(slice_chunk)\n",
        "\n",
        "        if len(new_slices) == HM_SLICES-1:\n",
        "            new_slices.append(new_slices[-1])\n",
        "\n",
        "        if len(new_slices) == HM_SLICES-2:\n",
        "            new_slices.append(new_slices[-1])\n",
        "            new_slices.append(new_slices[-1])\n",
        "\n",
        "        if len(new_slices) == HM_SLICES+2:\n",
        "            new_val = list(map(mean, zip(*[new_slices[HM_SLICES-1],new_slices[HM_SLICES],])))\n",
        "            del new_slices[HM_SLICES]\n",
        "            new_slices[HM_SLICES-1] = new_val\n",
        "\n",
        "        if len(new_slices) == HM_SLICES+1:\n",
        "            new_val = list(map(mean, zip(*[new_slices[HM_SLICES-1],new_slices[HM_SLICES],])))\n",
        "            del new_slices[HM_SLICES]\n",
        "            new_slices[HM_SLICES-1] = new_val\n",
        "\n",
        "        print(len(slices), len(new_slices))\n",
        "    except Exception as e:\n",
        "        # again, some patients are not labeled, but JIC we still want the error if something\n",
        "        # else is wrong with our code\n",
        "        print(str(e))"
      ]
    },
    {
      "cell_type": "code",
      "execution_count": null,
      "metadata": {
        "_cell_guid": "a58b42d3-62eb-1718-24ae-46840bc06b59"
      },
      "outputs": [],
      "source": ""
    }
  ],
  "metadata": {
    "_change_revision": 0,
    "_is_fork": false,
    "kernelspec": {
      "display_name": "Python 3",
      "language": "python",
      "name": "python3"
    },
    "language_info": {
      "codemirror_mode": {
        "name": "ipython",
        "version": 3
      },
      "file_extension": ".py",
      "mimetype": "text/x-python",
      "name": "python",
      "nbconvert_exporter": "python",
      "pygments_lexer": "ipython3",
      "version": "3.6.0"
    }
  },
  "nbformat": 4,
  "nbformat_minor": 0
}