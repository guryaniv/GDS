{
  "cells": [
    {
      "cell_type": "markdown",
      "metadata": {
        "_cell_guid": "144d951d-b7d3-934f-f3fa-e7500b070887"
      },
      "source": [
        "Wei Wei has  [published a code][1] to normalize predictions distributions to match the estimated distribution of the test set used for public LB.  Here is a faster and more accurate code to do it.\n",
        "\n",
        "It yields modest gains on my models, but it may make a difference on yours.  \n",
        "\n",
        "\n",
        "  [1]: https://www.kaggle.com/c/two-sigma-connect-rental-listing-inquiries/discussion/31067"
      ]
    },
    {
      "cell_type": "code",
      "execution_count": null,
      "metadata": {
        "_cell_guid": "8ef41a36-c362-5c9b-2b7c-05319cff127b"
      },
      "outputs": [],
      "source": [
        "# This Python 3 environment comes with many helpful analytics libraries installed\n",
        "# It is defined by the kaggle/python docker image: https://github.com/kaggle/docker-python\n",
        "# For example, here's several helpful packages to load in \n",
        "\n",
        "import numpy as np # linear algebra\n",
        "import pandas as pd # data processing, CSV file I/O (e.g. pd.read_csv)\n",
        "\n",
        "# Input data files are available in the \"../input/\" directory.\n",
        "# For example, running this (by clicking run or pressing Shift+Enter) will list the files in the input directory\n",
        "\n",
        "from subprocess import check_output\n",
        "print(check_output([\"ls\", \"../input\"]).decode(\"utf8\"))\n",
        "\n",
        "# Any results you write to the current directory are saved as output."
      ]
    },
    {
      "cell_type": "code",
      "execution_count": null,
      "metadata": {
        "_cell_guid": "e4ac4560-407a-4033-9544-986db67ba7f1"
      },
      "outputs": [],
      "source": [
        "interest_levels = ['low', 'medium', 'high']\n",
        "\n",
        "tau_train = {\n",
        "    'low': 0.694683, \n",
        "    'medium': 0.227529,\n",
        "    'high': 0.077788, \n",
        "}\n",
        "\n",
        "tau_test = {\n",
        "    'low': 0.69195995, \n",
        "    'medium': 0.23108864,\n",
        "    'high': 0.07695141, \n",
        "}\n",
        "\n",
        "def correct(df, train=True, verbose=False):\n",
        "    if train:\n",
        "        tau = tau_train\n",
        "    else:\n",
        "        tau = tau_test\n",
        "        \n",
        "    df_sum = df[interest_levels].sum(axis=1)\n",
        "    df_correct = df[interest_levels].copy()\n",
        "    \n",
        "    if verbose:\n",
        "        y = df_correct.mean()\n",
        "        a = [tau[k] / y[k]  for k in interest_levels]\n",
        "        print( a)\n",
        "    \n",
        "    for c in interest_levels:\n",
        "        df_correct[c] /= df_sum\n",
        "\n",
        "    for i in range(20):\n",
        "        for c in interest_levels:\n",
        "            df_correct[c] *= tau[c] / df_correct[c].mean()\n",
        "\n",
        "        df_sum = df_correct.sum(axis=1)\n",
        "\n",
        "        for c in interest_levels:\n",
        "            df_correct[c] /= df_sum\n",
        "    \n",
        "    if verbose:\n",
        "        y = df_correct.mean()\n",
        "        a = [tau[k] / y[k]  for k in interest_levels]\n",
        "        print( a)\n",
        "\n",
        "    return df_correct\n"
      ]
    },
    {
      "cell_type": "code",
      "execution_count": null,
      "metadata": {
        "_cell_guid": "8b3cffdd-d676-bece-0c78-b8d57545366c"
      },
      "outputs": [],
      "source": ""
    }
  ],
  "metadata": {
    "_change_revision": 0,
    "_is_fork": false,
    "kernelspec": {
      "display_name": "Python 3",
      "language": "python",
      "name": "python3"
    },
    "language_info": {
      "codemirror_mode": {
        "name": "ipython",
        "version": 3
      },
      "file_extension": ".py",
      "mimetype": "text/x-python",
      "name": "python",
      "nbconvert_exporter": "python",
      "pygments_lexer": "ipython3",
      "version": "3.6.0"
    }
  },
  "nbformat": 4,
  "nbformat_minor": 0
}