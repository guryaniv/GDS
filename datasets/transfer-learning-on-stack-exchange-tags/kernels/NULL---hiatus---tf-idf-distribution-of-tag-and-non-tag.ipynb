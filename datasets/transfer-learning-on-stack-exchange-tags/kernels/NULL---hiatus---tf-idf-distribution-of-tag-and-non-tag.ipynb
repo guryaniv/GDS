{
  "cells": [
    {
      "cell_type": "markdown",
      "metadata": {
        "_cell_guid": "cbc0eb15-298a-c07b-14fe-5eabf9ad5a11"
      },
      "source": [
        "As a simple complement, I plot distribution of TF-IDF between tags and non-tags. Many Kernels suggested that TF-IDF is a useful evidence to distinguish tags. So, just view it. "
      ]
    },
    {
      "cell_type": "code",
      "execution_count": null,
      "metadata": {
        "_cell_guid": "93bdfbad-9ffb-9c76-d457-2317a11b0f11"
      },
      "outputs": [],
      "source": [
        "# This Python 3 environment comes with many helpful analytics libraries installed\n",
        "# It is defined by the kaggle/python docker image: https://github.com/kaggle/docker-python\n",
        "# For example, here's several helpful packages to load in \n",
        "\n",
        "import numpy as np # linear algebra\n",
        "import pandas as pd # data processing, CSV file I/O (e.g. pd.read_csv)\n",
        "\n",
        "import nltk\n",
        "import matplotlib.pyplot as plt\n",
        "from sklearn.feature_extraction.text import TfidfVectorizer\n",
        "\n",
        "\n",
        "# Input data files are available in the \"../input/\" directory.\n",
        "# For example, running this (by clicking run or pressing Shift+Enter) will list the files in the input directory\n",
        "\n",
        "from subprocess import check_output\n",
        "print(check_output([\"ls\", \"../input\"]).decode(\"utf8\"))\n",
        "\n",
        "# Any results you write to the current directory are saved as output."
      ]
    },
    {
      "cell_type": "code",
      "execution_count": null,
      "metadata": {
        "_cell_guid": "cf8fd0b9-b286-b657-18ed-adffe76b031a"
      },
      "outputs": [],
      "source": [
        "# read csv, print basic information. \n",
        "biology = pd.read_csv('../input/biology.csv')\n",
        "print(biology.shape, type(biology))\n",
        "print(biology.columns)"
      ]
    },
    {
      "cell_type": "code",
      "execution_count": null,
      "metadata": {
        "_cell_guid": "041716fb-d602-c0d9-c671-3fae203fa955"
      },
      "outputs": [],
      "source": [
        "# extract and count tags from column 'tags'. \n",
        "tag_series = biology.get('tags')\n",
        "tag_count = dict()\n",
        "for _, tag_series in tag_series.iteritems():\n",
        "    for tag in tag_series.split(' '):\n",
        "        tag_count[tag] = tag_count.get(tag, 0) + 1\n",
        "\n",
        "print(len(tag_count))"
      ]
    },
    {
      "cell_type": "code",
      "execution_count": null,
      "metadata": {
        "_cell_guid": "54716ce8-fbae-2cb9-f179-0c0ecc5cecc5"
      },
      "outputs": [],
      "source": [
        "# generate tf-idf of title and content.\n",
        "tac = biology.apply(lambda x: ' '.join([x['title'], x['content']]), 1)\n",
        "tac = tac.apply(lambda x: x.lower())\n",
        "\n",
        "# (optional)\n",
        "# sk-learn's vectorizer will do lower() and clean markup. \n",
        "# tac = tac.apply(lambda x: x.lower())\n",
        "# tac = tac.apply(lambda x: BeautifulSoup(x, 'html.parser').get_text())\n",
        "\n",
        "vec_tfidf = TfidfVectorizer(min_df=4, dtype=np.float32)\n",
        "x = vec_tfidf.fit_transform(tac.tolist())\n",
        "x_col_names = vec_tfidf.get_feature_names()\n",
        "\n",
        "word_count = pd.DataFrame({'word': x_col_names, 'count': x.sum(0).getA1()})"
      ]
    },
    {
      "cell_type": "code",
      "execution_count": null,
      "metadata": {
        "_cell_guid": "e2e0aba9-f13e-2c83-a279-0d58354577c0"
      },
      "outputs": [],
      "source": [
        "print(x.shape)"
      ]
    },
    {
      "cell_type": "code",
      "execution_count": null,
      "metadata": {
        "_cell_guid": "a23a7c51-1379-2f31-d9cf-d8da5459e545"
      },
      "outputs": [],
      "source": [
        "# split words to tags and non_tags. \n",
        "word_count['id'] = range(len(word_count))\n",
        "\n",
        "word_is_tag = word_count[word_count.word.isin(tag_count.keys())]\n",
        "word_not_tag = word_count[~word_count.word.isin(tag_count.keys())]\n",
        "x_tags = x[:, word_is_tag['id'].tolist()]\n",
        "x_not_tags = x[:, word_not_tag['id'].tolist()]"
      ]
    },
    {
      "cell_type": "code",
      "execution_count": null,
      "metadata": {
        "_cell_guid": "55f2db71-6c56-d752-d8de-ab66a40c2dbb"
      },
      "outputs": [],
      "source": [
        "print(x_not_tags.shape, x_not_tags.mean())\n",
        "print(x_tags.shape, x_tags.mean())"
      ]
    },
    {
      "cell_type": "code",
      "execution_count": null,
      "metadata": {
        "_cell_guid": "1aad05a6-e1df-519b-a490-70b829154ffd"
      },
      "outputs": [],
      "source": [
        "# plot distribution of tf-idf's which is positive.\n",
        "hist_not_tag = plt.hist(x_not_tags[x_not_tags>0].getA1(), bins=200)\n",
        "hist_tag = plt.hist(x_tags[x_tags>0].getA1(), bins=200, alpha=0.8)\n",
        "plt.legend(['~tag[~tag>0]', 'tag[tag>0]'])"
      ]
    },
    {
      "cell_type": "code",
      "execution_count": null,
      "metadata": {
        "_cell_guid": "d13160e6-f41d-4f54-75f2-889fb9a2b2d7"
      },
      "outputs": [],
      "source": [
        "# plot distribution of tf-idf's mean of columns.\n",
        "hist_not_tag = plt.hist(np.log2(x_not_tags.mean(0).getA1()), bins=200)\n",
        "hist_tag = plt.hist(np.log2(x_tags.mean(0).getA1()), bins=200, alpha=0.8)\n",
        "plt.legend(['log2(~tag.mean(0))', 'log2(tag.mean(0))'])"
      ]
    }
  ],
  "metadata": {
    "_change_revision": 0,
    "_is_fork": false,
    "kernelspec": {
      "display_name": "Python 3",
      "language": "python",
      "name": "python3"
    },
    "language_info": {
      "codemirror_mode": {
        "name": "ipython",
        "version": 3
      },
      "file_extension": ".py",
      "mimetype": "text/x-python",
      "name": "python",
      "nbconvert_exporter": "python",
      "pygments_lexer": "ipython3",
      "version": "3.6.0"
    }
  },
  "nbformat": 4,
  "nbformat_minor": 0
}