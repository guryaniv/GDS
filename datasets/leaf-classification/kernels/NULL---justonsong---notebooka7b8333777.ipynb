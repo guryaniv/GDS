{
  "cells": [
    {
      "cell_type": "code",
      "execution_count": null,
      "metadata": {
        "_cell_guid": "b846dacb-57f6-52e7-5411-332c1b3ad12b"
      },
      "outputs": [],
      "source": [
        "import numpy as np\n",
        "import pandas as pd\n",
        "from sklearn.metrics import log_loss,accuracy_score\n",
        "from sklearn.model_selection import GridSearchCV,StratifiedShuffleSplit\n",
        "from sklearn.preprocessing import LabelEncoder\n",
        "from sklearn.preprocessing import StandardScaler\n",
        "from keras.models import Sequential\n",
        "from keras.layers import Dense\n",
        "from keras.layers import Dropout\n",
        "from keras.wrappers.scikit_learn import KerasClassifier\n",
        "from keras.utils import np_utils\n",
        "print('read and preprocess train data')\n",
        "train=pd.read_csv('../input/train.csv')\n",
        "x_data=train.drop(['id','species'],axis=1).values\n",
        "scaler=StandardScaler().fit(x_data)\n",
        "x_data=scaler.transform(x_data)\n",
        "le=LabelEncoder().fit(train['species'])\n",
        "y_labels=le.transform(train['species'])\n",
        "print('read and preprocess test data')\n",
        "test=pd.read_csv('../input/test.csv')\n",
        "test_ids=test.pop('id')\n",
        "x_test=test.values\n",
        "scaler=StandardScaler().fit(x_test)\n",
        "x_test=scaler.transform(x_test)\n",
        "print('split the data into train and valid set')\n",
        "sss=StratifiedShuffleSplit(test_size=0.1)\n",
        "for train_index,valid_index in sss.split(x_data,y_labels):\n",
        "    x_train,x_valid=x_data[train_index],x_data[valid_index]\n",
        "    y_train,y_valid=y_labels[train_index],y_labels[valid_index]\n",
        "print(x_train.shape)\n",
        "print('deep learning using keras')\n",
        "y_train_dummy=np_utils.to_categorical(y_train)\n",
        "def base_model():\n",
        "    model=Sequential()\n",
        "    model.add(Dense(99,input_dim=192,init='normal',activation='linear'))\n",
        "    model.add(Dropout(0.5))\n",
        "    model.add(Dense(99,input_dim=99,init='normal',activation='relu'))\t\n",
        "    model.add(Dropout(0.2))\n",
        "    model.add(Dense(99,init='normal',activation='softmax'))\n",
        "    model.compile(loss='categorical_crossentropy',optimizer='adam',metrics=['accuracy','categorical_crossentropy'])\n",
        "    return model\n",
        "model=KerasClassifier(build_fn=base_model,verbose=1)\n",
        "param_grid={'batch_size':[100],'nb_epoch':[1800]}\n",
        "grid=GridSearchCV(estimator=model,param_grid=param_grid,n_jobs=-1)\n",
        "grid_results=grid.fit(x_train,y_train_dummy)\n",
        "print('best score:',grid_results.best_score_)\n",
        "print('best params:',grid_results.best_params_)\n",
        "means = grid_results.cv_results_['mean_test_score']\n",
        "stds = grid_results.cv_results_['std_test_score']\n",
        "params = grid_results.cv_results_['params']\n",
        "for mean, stdev, param in zip(means, stds, params):\n",
        "    print(\"Mean:%f (std:%f) with: %r\" % (mean, stdev, param))\n",
        "print(grid_results.cv_results_)\n",
        "predictions= grid_results.best_estimator_.predict_proba(x_valid)\n",
        "print('logloss of valid data:',log_loss(y_valid,predictions))\n",
        "predictions=grid_results.best_estimator_.predict(x_valid)\n",
        "print('Accuracy of valid data:',accuracy_score(y_valid,predictions))"
      ]
    },
    {
      "cell_type": "code",
      "execution_count": null,
      "metadata": {
        "_cell_guid": "abb34c39-7967-fa48-4757-51022127804b"
      },
      "outputs": [],
      "source": ""
    }
  ],
  "metadata": {
    "_change_revision": 0,
    "_is_fork": false,
    "kernelspec": {
      "display_name": "Python 3",
      "language": "python",
      "name": "python3"
    },
    "language_info": {
      "codemirror_mode": {
        "name": "ipython",
        "version": 3
      },
      "file_extension": ".py",
      "mimetype": "text/x-python",
      "name": "python",
      "nbconvert_exporter": "python",
      "pygments_lexer": "ipython3",
      "version": "3.6.0"
    }
  },
  "nbformat": 4,
  "nbformat_minor": 0
}