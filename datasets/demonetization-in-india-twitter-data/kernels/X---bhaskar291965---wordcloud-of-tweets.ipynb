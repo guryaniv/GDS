{
  "metadata": {
    "kernelspec": {
      "display_name": "Python 3",
      "language": "python",
      "name": "python3"
    },
    "language_info": {
      "codemirror_mode": {
        "name": "ipython",
        "version": 3
      },
      "file_extension": ".py",
      "mimetype": "text/x-python",
      "name": "python",
      "nbconvert_exporter": "python",
      "pygments_lexer": "ipython3",
      "version": "3.5.2"
    }
  },
  "nbformat": 4,
  "nbformat_minor": 0,
  "cells": [
    {
      "cell_type": "markdown",
      "metadata": {
        "_cell_guid": "4822b259-8c36-c795-254c-14265b0b96e3",
        "_active": false
      },
      "source": "**First: Exploration of the feature text**",
      "execution_count": null,
      "outputs": [],
      "execution_state": "idle"
    },
    {
      "cell_type": "code",
      "execution_count": 3,
      "metadata": {
        "_cell_guid": "2af7ebc1-0229-27d3-cfee-7f1c4bc0a447",
        "_active": false
      },
      "outputs": [],
      "source": "import numpy as np # linear algebra\nimport pandas as pd # data processing, CSV file I/O (e.g. pd.read_csv)\n\nimport numpy as np # linear algebra\nimport pandas as pd # data processing, CSV file I/O (e.g. pd.read_csv)\n\n#Getting data\ntweets = pd.read_csv('../input/demonetization-tweets.csv', encoding = \"ISO-8859-1\")\nprint(tweets.head())",
      "execution_state": "idle"
    },
    {
      "cell_type": "code",
      "execution_count": null,
      "metadata": {
        "_cell_guid": "56bf2fce-1c7d-06ad-732c-a4d563b838fc",
        "_active": true
      },
      "outputs": [],
      "source": "print(tweets['text'].str.upper().head())",
      "execution_state": "idle"
    },
    {
      "cell_type": "code",
      "execution_count": null,
      "metadata": {
        "_cell_guid": "bc5cfc67-07e0-bbc2-e1de-52b89768e718",
        "_active": false
      },
      "outputs": [],
      "source": "print(tweets['text'][0])",
      "execution_state": "idle"
    },
    {
      "cell_type": "code",
      "execution_count": 4,
      "metadata": {
        "_cell_guid": "cc90e02d-3780-b883-0119-81629678429c",
        "_active": false,
        "collapsed": false
      },
      "outputs": [],
      "source": "#tweets['text'].str.split(': ',expand=True)[0]\n#tweets['text'].str.contains('@', na=False).astype(int)\n#tweets_bis=tweets['text'].str.replace('RT @', '@', case=True)\n#print(tweets_bis)\n#tweets_bis.str.startswith('@', na=False).astype(int)\n\n#del RT @blablabla:\n\ntweets['text_new'] = ''\n\nimport re\n\nfor i in range(len(tweets['text'])):\n    m = re.search('(?<=:)(.*)', tweets['text'][i])    \n    try:\n        tweets['text_new'][i]=m.group(0)\n    except AttributeError:\n        tweets['text_new'][i]=tweets['text'][i]\n        \nprint(tweets['text_new'])        ",
      "execution_state": "idle"
    },
    {
      "cell_type": "code",
      "execution_count": null,
      "metadata": {
        "_cell_guid": "83e9b6aa-2f3e-4d32-61f7-a38afe01fa70",
        "_active": false
      },
      "outputs": [],
      "source": "from wordcloud import WordCloud, STOPWORDS\nimport matplotlib.pyplot as plt\n\ndef wordcloud_by_province(tweets):\n    stopwords = set(STOPWORDS)\n    stopwords.add(\"https\")\n    stopwords.add(\"00A0\")\n    stopwords.add(\"00BD\")\n    stopwords.add(\"00B8\")\n    stopwords.add(\"ed\")\n    stopwords.add(\"demonetization\")\n    stopwords.add(\"Demonetization co\")\n    #Narendra Modi is the Prime minister of India\n    stopwords.add(\"lakh\")\n    wordcloud = WordCloud(background_color=\"white\",stopwords=stopwords,random_state = 2016).generate(\" \".join([i for i in tweets['text_new'].str.upper()]))\n    plt.imshow(wordcloud)\n    plt.axis(\"off\")\n    plt.title(\"Demonetization\")\n\nwordcloud_by_province(tweets)  ",
      "execution_state": "idle"
    },
    {
      "cell_type": "markdown",
      "metadata": {
        "_cell_guid": "1f948170-07b2-b334-3dde-7137603ec125",
        "_active": false
      },
      "source": "\"Since terrorists\"? \"Modi Bharosa\"? \"Narenda Modi\"? Ok We must continue to investigate. I think that we must investigate separetly the tweets with the words \"terrorists\", \"narendramodi\" and \"modibharosa\"\"",
      "execution_count": null,
      "outputs": [],
      "execution_state": "idle"
    },
    {
      "cell_type": "code",
      "execution_count": null,
      "metadata": {
        "_cell_guid": "5836a507-65b7-acb2-5176-8a41ea74082a",
        "_active": false
      },
      "outputs": [],
      "source": "def wordcloud_by_province(tweets):\n    a = pd.DataFrame(tweets['text'].str.contains(\"terrorists\").astype(int))\n    b = list(a[a['text']==1].index.values)\n    stopwords = set(STOPWORDS)\n    stopwords.add(\"https\")\n    stopwords.add(\"terrorists\")\n    stopwords.add(\"00A0\")\n    stopwords.add(\"00BD\")\n    stopwords.add(\"00B8\")\n    stopwords.add(\"ed\")\n    stopwords.add(\"demonetization\")\n    stopwords.add(\"Demonetization co\")\n    stopwords.add(\"lakh\")\n    wordcloud = WordCloud(background_color=\"white\",stopwords=stopwords,random_state = 2016).generate(\" \".join([i for i in tweets.ix[b,:]['text_new'].str.upper()]))\n    plt.imshow(wordcloud)\n    plt.axis(\"off\")\n    plt.title(\"Tweets with word 'terrorists'\")\n\nwordcloud_by_province(tweets)  ",
      "execution_state": "idle"
    },
    {
      "cell_type": "code",
      "execution_count": 1,
      "metadata": {
        "_cell_guid": "33b690e2-b14b-83df-17b6-c15a434e2a6e",
        "_active": false
      },
      "outputs": [],
      "source": "def wordcloud_by_province(tweets):\n    a = pd.DataFrame(tweets['text'].str.contains(\"narendramodi\").astype(int))\n    b = list(a[a['text']==1].index.values)\n    stopwords = set(STOPWORDS)\n    stopwords.add(\"narendramodi\")\n    stopwords.add(\"https\")\n    stopwords.add(\"00A0\")\n    stopwords.add(\"00BD\")\n    stopwords.add(\"00B8\")\n    stopwords.add(\"ed\")\n    stopwords.add(\"demonetization\")\n    stopwords.add(\"Demonetization co\")\n    stopwords.add(\"lakh\")\n    wordcloud = WordCloud(background_color=\"white\",stopwords=stopwords,random_state = 2016).generate(\" \".join([i for i in tweets.ix[b,:]['text_new'].str.upper()]))\n    plt.imshow(wordcloud)\n    plt.axis(\"off\")\n    plt.title(\"Tweets with word 'narendramodi'\")\n\nwordcloud_by_province(tweets)  ",
      "execution_state": "idle"
    },
    {
      "cell_type": "markdown",
      "execution_count": null,
      "metadata": {
        "_cell_guid": "d3ff1e9a-d3ea-38dc-bb77-5f9682f95c80",
        "_active": false
      },
      "outputs": [],
      "source": "def wordcloud_by_province(tweets):\n    a = pd.DataFrame(tweets['text'].str.contains(\"ModiBharosa\").astype(int))\n    b = list(a[a['text']==1].index.values)\n    stopwords = set(STOPWORDS)\n    stopwords.add(\"ModiBharosa\")\n    stopwords.add(\"https\")\n    stopwords.add(\"00A0\")\n    stopwords.add(\"00BD\")\n    stopwords.add(\"00B8\")\n    stopwords.add(\"ed\")\n    stopwords.add(\"demonetization\")\n    stopwords.add(\"Demonetization co\")\n    stopwords.add(\"lakh\")\n    wordcloud = WordCloud(background_color=\"white\",stopwords=stopwords,random_state = 2016).generate(\" \".join([i for i in tweets.ix[b,:]['text_new'].str.upper()]))\n    plt.imshow(wordcloud)\n    plt.axis(\"off\")\n    plt.title(\"Tweets with word 'narendramodi'\")\n\nwordcloud_by_province(tweets)      ",
      "execution_state": "idle"
    },
    {
      "cell_type": "markdown",
      "metadata": {
        "_cell_guid": "619f0ee9-6aed-8ec3-e0f9-bd745325648f",
        "_active": false
      },
      "source": "We can see that ModiBharosa and Narendra Modi arein the same world cloud.",
      "execution_count": null,
      "outputs": [],
      "execution_state": "idle"
    }
  ]
}