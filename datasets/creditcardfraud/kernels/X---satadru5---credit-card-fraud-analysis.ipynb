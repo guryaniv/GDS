{
  "cells": [
    {
      "cell_type": "code",
      "execution_count": null,
      "metadata": {
        "_cell_guid": "61e74fb7-c0ce-2380-79af-1679a19dbc49"
      },
      "outputs": [],
      "source": [
        "# This Python 3 environment comes with many helpful analytics libraries installed\n",
        "# It is defined by the kaggle/python docker image: https://github.com/kaggle/docker-python\n",
        "# For example, here's several helpful packages to load in \n",
        "\n",
        "import numpy as np # linear algebra\n",
        "import pandas as pd # data processing, CSV file I/O (e.g. pd.read_csv)\n",
        "\n",
        "# Input data files are available in the \"../input/\" directory.\n",
        "# For example, running this (by clicking run or pressing Shift+Enter) will list the files in the input directory\n",
        "\n",
        "from subprocess import check_output\n",
        "print(check_output([\"ls\", \"../input\"]).decode(\"utf8\"))\n",
        "\n",
        "# Any results you write to the current directory are saved as output."
      ]
    },
    {
      "cell_type": "code",
      "execution_count": null,
      "metadata": {
        "_cell_guid": "c92f2f1c-221d-f177-bad8-c62bee790e5b"
      },
      "outputs": [],
      "source": [
        "import pandas as pd\n",
        "import numpy as np \n",
        "import tensorflow as tf\n",
        "from sklearn.cross_validation import train_test_split\n",
        "import matplotlib.pyplot as plt\n",
        "from sklearn.utils import shuffle\n",
        "from sklearn.metrics import confusion_matrix\n",
        "import seaborn as sns\n",
        "import matplotlib.gridspec as gridspec\n",
        "from sklearn.preprocessing import StandardScaler\n",
        "from sklearn.manifold import TSNE\n",
        "# from show_confusion_matrix import show_confusion_matrix \n",
        "# the above is from http://notmatthancock.github.io/2015/10/28/confusion-matrix.html"
      ]
    },
    {
      "cell_type": "code",
      "execution_count": null,
      "metadata": {
        "_cell_guid": "67e71643-c8f4-6c8c-b1be-d854188b677b"
      },
      "outputs": [],
      "source": [
        "df = pd.read_csv(\"../input/creditcard.csv\")"
      ]
    },
    {
      "cell_type": "code",
      "execution_count": null,
      "metadata": {
        "_cell_guid": "ddf10929-228b-f6d8-565e-21a1214b7501"
      },
      "outputs": [],
      "source": [
        "df.head(5)"
      ]
    },
    {
      "cell_type": "code",
      "execution_count": null,
      "metadata": {
        "_cell_guid": "5d1e1ad3-0198-3fc1-4e07-05159d7746ef"
      },
      "outputs": [],
      "source": [
        "df.groupby(['Class'])['Time'].count().reset_index()"
      ]
    },
    {
      "cell_type": "code",
      "execution_count": null,
      "metadata": {
        "_cell_guid": "3780676e-c8d8-92c8-3f54-03ff3a85afbb"
      },
      "outputs": [],
      "source": [
        "sns.distplot(df['Time'])"
      ]
    },
    {
      "cell_type": "code",
      "execution_count": null,
      "metadata": {
        "_cell_guid": "e09acc45-9f7d-ccce-7d1b-4f31e70ad4ed"
      },
      "outputs": [],
      "source": [
        "df.Time[df.Class == 1].count(),df.Time[df.Class == 0].count()"
      ]
    },
    {
      "cell_type": "code",
      "execution_count": null,
      "metadata": {
        "_cell_guid": "f1c60f34-65c5-dc6f-e80a-bc2af41ee289"
      },
      "outputs": [],
      "source": [
        "sns.distplot(df.Time[df.Class == 1])\n",
        "sns.distplot(df.Time[df.Class == 0])"
      ]
    },
    {
      "cell_type": "code",
      "execution_count": null,
      "metadata": {
        "_cell_guid": "7c7d2451-3f8d-3b58-4676-f9ad46dfc938"
      },
      "outputs": [],
      "source": [
        "sns.distplot(df.Time[df.Class == 0])"
      ]
    },
    {
      "cell_type": "code",
      "execution_count": null,
      "metadata": {
        "_cell_guid": "660afe4a-78a7-cbad-7dd6-fd500ff68b38"
      },
      "outputs": [],
      "source": [
        "plt.hist(df.Time[df.Class == 1], bins = bins)"
      ]
    },
    {
      "cell_type": "code",
      "execution_count": null,
      "metadata": {
        "_cell_guid": "929c804b-6b0b-3a91-0072-61648e37d824"
      },
      "outputs": [],
      "source": [
        "f, (ax1, ax2) = plt.subplots(2, 1, sharex=True, figsize=(12,4))\n",
        "\n",
        "bins = 50\n",
        "\n",
        "ax1.hist(df.Time[df.Class == 1], bins = bins)\n",
        "ax1.set_title('Fraud')\n",
        "\n",
        "ax2.hist(df.Time[df.Class == 0], bins = bins)\n",
        "ax2.set_title('Normal')\n",
        "\n",
        "plt.xlabel('Time (in Seconds)')\n",
        "plt.ylabel('Number of Transactions')\n",
        "plt.show()"
      ]
    },
    {
      "cell_type": "code",
      "execution_count": null,
      "metadata": {
        "_cell_guid": "7351bb1e-802a-3242-29df-2a70e685fbf2"
      },
      "outputs": [],
      "source": [
        "plt.hist(df.Amount[df.Class == 1], bins = bins)"
      ]
    },
    {
      "cell_type": "code",
      "execution_count": null,
      "metadata": {
        "_cell_guid": "0818b0ea-fd8c-e761-1d61-5057cbf80633"
      },
      "outputs": [],
      "source": [
        "plt.hist(df.Amount[df.Class == 0], bins = bins)"
      ]
    },
    {
      "cell_type": "code",
      "execution_count": null,
      "metadata": {
        "_cell_guid": "f833cc88-6a88-a90f-82e6-f1717db083ec"
      },
      "outputs": [],
      "source": [
        "df['Amount'].describe()"
      ]
    },
    {
      "cell_type": "code",
      "execution_count": null,
      "metadata": {
        "_cell_guid": "d3d5297b-6837-7faa-bc03-8b33b5c3edd1"
      },
      "outputs": [],
      "source": [
        "sns.boxplot(x='Class' ,y='Amount' ,data=df)"
      ]
    },
    {
      "cell_type": "code",
      "execution_count": null,
      "metadata": {
        "_cell_guid": "12c4514d-c25a-1998-3c01-4d505f694fa4"
      },
      "outputs": [],
      "source": [
        "sns.boxplot(x='Class' ,y='Amount' ,data=df[df.Class == 0])"
      ]
    },
    {
      "cell_type": "code",
      "execution_count": null,
      "metadata": {
        "_cell_guid": "69ad9777-14d8-8ba9-e435-da5272b02c69"
      },
      "outputs": [],
      "source": [
        "sns.regplot(x='Time' ,y='Amount' ,data=df[df.Class == 1])"
      ]
    },
    {
      "cell_type": "code",
      "execution_count": null,
      "metadata": {
        "_cell_guid": "90226fe3-3fbf-9384-e493-8cb26dd9d426"
      },
      "outputs": [],
      "source": [
        "sns.regplot(x='Time' ,y='Amount' ,data=df[df.Class == 0])"
      ]
    },
    {
      "cell_type": "code",
      "execution_count": null,
      "metadata": {
        "_cell_guid": "57ed640b-7b97-b605-d6be-2cce7e5eecd7"
      },
      "outputs": [],
      "source": [
        "f, (ax1, ax2) = plt.subplots(2, 1, sharex=True, figsize=(12,6))\n",
        "\n",
        "ax1.scatter(df.Time[df.Class == 1], df.Amount[df.Class == 1])\n",
        "ax1.set_title('Fraud')\n",
        "\n",
        "ax2.scatter(df.Time[df.Class == 0], df.Amount[df.Class == 0])\n",
        "ax2.set_title('Normal')\n",
        "\n",
        "plt.xlabel('Time (in Seconds)')\n",
        "plt.ylabel('Amount')\n",
        "plt.show()"
      ]
    },
    {
      "cell_type": "code",
      "execution_count": null,
      "metadata": {
        "_cell_guid": "d0afc766-fd43-9a5b-fecb-28837aac60b6"
      },
      "outputs": [],
      "source": [
        "v_features = df.ix[:,1:29].columns"
      ]
    },
    {
      "cell_type": "code",
      "execution_count": null,
      "metadata": {
        "_cell_guid": "e73cf9c4-d779-f5ce-909f-bce0aa8df42e"
      },
      "outputs": [],
      "source": [
        "plt.figure(figsize=(12,28*4))\n",
        "gs = gridspec.GridSpec(28, 1)\n",
        "for i, cn in enumerate(df[v_features]):\n",
        "    ax = plt.subplot(gs[i])\n",
        "    sns.distplot(df[cn][df.Class == 1], bins=50)\n",
        "    sns.distplot(df[cn][df.Class == 0], bins=50)\n",
        "    ax.set_xlabel('')\n",
        "    ax.set_title('histogram of feature: ' + str(cn))\n",
        "plt.show()"
      ]
    },
    {
      "cell_type": "code",
      "execution_count": null,
      "metadata": {
        "_cell_guid": "a5141f85-2d25-db5b-0020-f123a665a631"
      },
      "outputs": [],
      "source": [
        "corr=df.corr()\n",
        "corr = (corr)\n",
        "sns.heatmap(corr, \n",
        "            xticklabels=corr.columns.values,\n",
        "            yticklabels=corr.columns.values)\n",
        "sns.plt.title('Heatmap of Correlation Matrix')\n"
      ]
    },
    {
      "cell_type": "code",
      "execution_count": null,
      "metadata": {
        "_cell_guid": "8c49312f-4fa9-4fa1-2f2b-57dfc012fc4b"
      },
      "outputs": [],
      "source": [
        "#Drop the column where both are same \n",
        "df1=df\n",
        "df=df.drop(['V28','V23','V26','V25'],axis=1)\n"
      ]
    },
    {
      "cell_type": "code",
      "execution_count": null,
      "metadata": {
        "_cell_guid": "d950c545-bb5d-a3f0-d9d5-75cd945d65f6"
      },
      "outputs": [],
      "source": [
        "#Apply generic machine learning tool\n",
        "df=df1\n",
        "df=df.drop(['V28','V23','V26','V25'],axis=1)"
      ]
    },
    {
      "cell_type": "code",
      "execution_count": null,
      "metadata": {
        "_cell_guid": "aa6898f4-03c9-323c-6aeb-61e3092216af"
      },
      "outputs": [],
      "source": [
        "df.head(2)"
      ]
    },
    {
      "cell_type": "code",
      "execution_count": null,
      "metadata": {
        "_cell_guid": "8019713c-8293-5840-9f8d-3586ac2b93c0"
      },
      "outputs": [],
      "source": [
        "from sklearn.preprocessing import scale\n",
        "\n",
        "data2=scale(df)\n",
        "data2=pd.DataFrame(data2)\n",
        "data2.head(3)"
      ]
    },
    {
      "cell_type": "code",
      "execution_count": null,
      "metadata": {
        "_cell_guid": "755d5e8e-8c8f-037e-b2f3-5b02fc646daa"
      },
      "outputs": [],
      "source": [
        "#Train-Test split\n",
        "from sklearn.model_selection import train_test_split\n",
        "label = df.pop('Class')\n",
        "data_train, data_test, label_train, label_test = train_test_split(data2, label, test_size = 0.3, random_state = 42)"
      ]
    },
    {
      "cell_type": "code",
      "execution_count": null,
      "metadata": {
        "_cell_guid": "f5c0eda8-5bf7-1ef9-d0af-484c4d527275"
      },
      "outputs": [],
      "source": [
        "data_test.head(1)"
      ]
    },
    {
      "cell_type": "code",
      "execution_count": null,
      "metadata": {
        "_cell_guid": "1306ac03-bb0a-2a0b-4923-2283514f5cc0"
      },
      "outputs": [],
      "source": [
        "df=df1\n",
        "df.head(2)\n",
        "Fraud=df[df.Class ==1 ]\n",
        "Normal=df[df.Class ==0 ]"
      ]
    },
    {
      "cell_type": "code",
      "execution_count": null,
      "metadata": {
        "_cell_guid": "582acf26-06a8-9a1b-2bfc-fe05b68330d6"
      },
      "outputs": [],
      "source": [
        "Fraud.head(3)"
      ]
    },
    {
      "cell_type": "code",
      "execution_count": null,
      "metadata": {
        "_cell_guid": "83f5e150-ab3b-5756-2f34-c1091d181315"
      },
      "outputs": [],
      "source": [
        "# Set X_train equal to 80% of the fraudulent transactions.\n",
        "X_train = Fraud.sample(frac=0.8)\n",
        "count_Frauds = len(X_train)\n",
        "count_Frauds\n",
        "\n",
        "# Add 80% of the normal transactions to X_train.\n",
        "X_train = pd.concat([X_train, Normal.sample(frac = 0.8)], axis = 0)\n",
        "\n",
        "# X_test contains all the transaction not in X_train.\n",
        "X_test = df.loc[~df.index.isin(X_train.index)]\n"
      ]
    },
    {
      "cell_type": "code",
      "execution_count": null,
      "metadata": {
        "_cell_guid": "932dae0e-db66-928f-673c-4f246bc70812"
      },
      "outputs": [],
      "source": [
        "#Shuffle the dataframes so that the training is done in a random order.\n",
        "X_train = shuffle(X_train)\n",
        "X_test = shuffle(X_test)"
      ]
    },
    {
      "cell_type": "code",
      "execution_count": null,
      "metadata": {
        "_cell_guid": "1161ca0d-c4b7-9d25-e7ac-3da39a74821b"
      },
      "outputs": [],
      "source": [
        "Y_train =X_train['Class']\n",
        "Y_test=X_test['Class']"
      ]
    },
    {
      "cell_type": "code",
      "execution_count": null,
      "metadata": {
        "_cell_guid": "f00ea9ab-5b8a-7f73-5789-00e09d9eed6f"
      },
      "outputs": [],
      "source": [
        "X_train=X_train.drop(['Class'],axis=1)\n",
        "X_test=X_test.drop(['Class'],axis=1)"
      ]
    },
    {
      "cell_type": "code",
      "execution_count": null,
      "metadata": {
        "_cell_guid": "0ce7cdbc-2002-2708-fe28-99c1a01c099a"
      },
      "outputs": [],
      "source": [
        "X_train.head(2)"
      ]
    },
    {
      "cell_type": "code",
      "execution_count": null,
      "metadata": {
        "_cell_guid": "ac06a352-cdf4-ec84-18ab-feea2423a50b"
      },
      "outputs": [],
      "source": [
        "X_test.head(2)"
      ]
    },
    {
      "cell_type": "code",
      "execution_count": null,
      "metadata": {
        "_cell_guid": "30abc78b-5ce8-203b-8aaa-3e9d09ed9478"
      },
      "outputs": [],
      "source": [
        "#decision tree\n",
        "from sklearn import tree\n",
        "dt = tree.DecisionTreeClassifier()\n",
        "dt.fit(X_train, Y_train)"
      ]
    },
    {
      "cell_type": "code",
      "execution_count": null,
      "metadata": {
        "_cell_guid": "1ccd5632-1cc3-4d54-bc51-b03b54e0167e"
      },
      "outputs": [],
      "source": [
        "dt_score_train = dt.score(X_train, Y_train)\n",
        "print(\"Training score: \",dt_score_train)\n",
        "dt_score_test = dt.score(X_test, Y_test)\n",
        "print(\"Testing score: \",dt_score_test)"
      ]
    },
    {
      "cell_type": "code",
      "execution_count": null,
      "metadata": {
        "_cell_guid": "1f262013-3f12-e9d0-3a75-80adcb44e832"
      },
      "outputs": [],
      "source": [
        "#decision tree\n",
        "from sklearn.ensemble import RandomForestClassifier\n",
        "dt = RandomForestClassifier()\n",
        "dt.fit(X_train, Y_train)\n",
        "dt_score_train = dt.score(X_train, Y_train)\n",
        "print(\"Training score: \",dt_score_train)\n",
        "dt_score_test = dt.score(X_test, Y_test)\n",
        "print(\"Testing score: \",dt_score_test)"
      ]
    },
    {
      "cell_type": "code",
      "execution_count": null,
      "metadata": {
        "_cell_guid": "53e50024-86c4-4a50-4b19-bb8a0b65a676"
      },
      "outputs": [],
      "source": [
        "#decision tree\n",
        "from sklearn.ensemble import RandomForestClassifier\n",
        "dt = RandomForestClassifier(n_estimators=100)\n",
        "dt.fit(X_train, Y_train)"
      ]
    },
    {
      "cell_type": "code",
      "execution_count": null,
      "metadata": {
        "_cell_guid": "e44df14b-c3e7-76bf-f683-702c3b042344"
      },
      "outputs": [],
      "source": [
        "#Check only fruad transaction\n",
        "Fraud_train = Fraud.sample(frac=0.9)\n",
        "Y_Fraud=Fraud_train['Class']\n",
        "X_Fraud=Fraud_train.drop(['Class'],axis=1)"
      ]
    },
    {
      "cell_type": "code",
      "execution_count": null,
      "metadata": {
        "_cell_guid": "2a7af709-7276-ff65-c7b0-4fe49b944766"
      },
      "outputs": [],
      "source": [
        "dt_score_test = dt.score(X_Fraud, Y_Fraud)\n",
        "print(\"Testing score: \",dt_score_test)"
      ]
    },
    {
      "cell_type": "code",
      "execution_count": null,
      "metadata": {
        "_cell_guid": "8f93088f-fb5c-fb6f-c80a-71d378e63dc1"
      },
      "outputs": [],
      "source": [
        "dt_score_test = dt.score(X_Fraud, Y_Fraud) #With 100 trees\n",
        "print(\"Testing score: \",dt_score_test)"
      ]
    },
    {
      "cell_type": "code",
      "execution_count": null,
      "metadata": {
        "_cell_guid": "d48014a2-60ec-95e2-0be9-45981663da49"
      },
      "outputs": [],
      "source": [
        "#kNN\n",
        "from sklearn.neighbors import KNeighborsClassifier\n",
        "knn = KNeighborsClassifier()\n",
        "knn.fit(X_train, Y_train)\n",
        "knn_score_train = dt.score(X_train, Y_train)\n",
        "print(\"Training score: \",knn_score_train)\n",
        "knn_score_test = knn.score(X_Fraud, Y_Fraud)\n",
        "print(\"Testing score: \",knn_score_test)"
      ]
    },
    {
      "cell_type": "code",
      "execution_count": null,
      "metadata": {
        "_cell_guid": "e446c0d3-64e8-3e87-5e4c-6462fefb6a33"
      },
      "outputs": [],
      "source": [
        "#Logistic Regression\n",
        "from sklearn.linear_model import LogisticRegression\n",
        "logis = LogisticRegression()\n",
        "logis.fit(X_train, Y_train)\n",
        "logis_score_train = logis.score(X_train, Y_train)\n",
        "print(\"Training score: \",logis_score_train)\n",
        "logis_score_test = logis.score(X_Fraud, Y_Fraud)\n",
        "print(\"Testing score: \",logis_score_test)"
      ]
    },
    {
      "cell_type": "code",
      "execution_count": null,
      "metadata": {
        "_cell_guid": "9957cf78-de17-98dd-2740-619f05a12058"
      },
      "outputs": [],
      "source": [
        "#decision tree\n",
        "from sklearn import tree\n",
        "dt = tree.DecisionTreeClassifier()\n",
        "dt.fit(X_train, Y_train)\n",
        "det_score_train = dt.score(X_train, Y_train)\n",
        "print(\"Training score: \",det_score_train)\n",
        "det_score_test = dt.score(X_Fraud, Y_Fraud)\n",
        "print(\"Testing score: \",det_score_test)"
      ]
    },
    {
      "cell_type": "code",
      "execution_count": null,
      "metadata": {
        "_cell_guid": "ec4c4b37-e421-19c5-20b4-57a186d7b62e"
      },
      "outputs": [],
      "source": [
        "#Model comparison\n",
        "models = pd.DataFrame({\n",
        "        'Model'          : ['Logistic Regression', 'kNN', 'Random Forest','Decision Tree'],\n",
        "        'Training_Score' : [logis_score_train, knn_score_train, dt_score_train, det_score_train],\n",
        "        'Testing_Score'  : [logis_score_test,  knn_score_test, dt_score_test, det_score_test]\n",
        "    })\n",
        "models.sort_values(by='Testing_Score', ascending=False)"
      ]
    },
    {
      "cell_type": "code",
      "execution_count": null,
      "metadata": {
        "_cell_guid": "58c38997-2a82-60c0-d9c9-4a6788be9f82"
      },
      "outputs": [],
      "source": [
        "#So it seems Random Forest is best for it."
      ]
    },
    {
      "cell_type": "code",
      "execution_count": null,
      "metadata": {
        "_cell_guid": "114d8d3f-efbb-b1ad-4ccf-23b04e31d0aa"
      },
      "outputs": [],
      "source": [
        ""
      ]
    }
  ],
  "metadata": {
    "_change_revision": 0,
    "_is_fork": false,
    "kernelspec": {
      "display_name": "Python 3",
      "language": "python",
      "name": "python3"
    },
    "language_info": {
      "codemirror_mode": {
        "name": "ipython",
        "version": 3
      },
      "file_extension": ".py",
      "mimetype": "text/x-python",
      "name": "python",
      "nbconvert_exporter": "python",
      "pygments_lexer": "ipython3",
      "version": "3.6.0"
    }
  },
  "nbformat": 4,
  "nbformat_minor": 0
}