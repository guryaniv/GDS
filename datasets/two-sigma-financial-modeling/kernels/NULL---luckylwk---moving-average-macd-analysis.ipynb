{
  "metadata": {
    "kernelspec": {
      "display_name": "Python 3",
      "language": "python",
      "name": "python3"
    },
    "language_info": {
      "codemirror_mode": {
        "name": "ipython",
        "version": 3
      },
      "file_extension": ".py",
      "mimetype": "text/x-python",
      "name": "python",
      "nbconvert_exporter": "python",
      "pygments_lexer": "ipython3",
      "version": "3.5.2"
    }
  },
  "nbformat": 4,
  "nbformat_minor": 0,
  "cells": [
    {
      "cell_type": "code",
      "execution_count": 3,
      "metadata": {
        "_cell_guid": "f715e450-01ea-9fb8-81e7-cfe1b8114b90",
        "_active": false
      },
      "outputs": [],
      "source": "import pandas as pd\nimport numpy as np\n\nimport matplotlib.pyplot as plt",
      "execution_state": "idle"
    },
    {
      "cell_type": "code",
      "execution_count": 4,
      "metadata": {
        "_cell_guid": "8c1f4ad7-e266-af89-5387-1fc498daa843",
        "_active": false
      },
      "outputs": [],
      "source": "with pd.HDFStore(\"../input/train.h5\", \"r\") as train:\n    # Note that the \"train\" dataframe is the only dataframe in the file\n    df = train.get(\"train\")",
      "execution_state": "idle"
    },
    {
      "cell_type": "code",
      "execution_count": 5,
      "metadata": {
        "_cell_guid": "cfacfe0f-9d81-0392-b162-adc1acca500b",
        "_active": false
      },
      "outputs": [],
      "source": "# Lets take all assets with at least 100 days.\nmin_days = 100\n\nids_tmp = df.groupby('id').size() > min_days\nprint(ids_tmp.shape)\nids = ids_tmp.index.values[np.where(ids_tmp.values==True)]\nprint(ids.shape)\n\nids_tmp = None",
      "execution_state": "idle"
    },
    {
      "cell_type": "code",
      "execution_count": 6,
      "metadata": {
        "_cell_guid": "8aee8676-8deb-e35e-7a8f-41125a6fccf1",
        "_active": false,
        "collapsed": false
      },
      "outputs": [],
      "source": "if 'y-stock' not in df.columns:\n    df['y-stock'] = np.nan\n\n\nfor assetId in ids:\n    ix = df.id == assetId\n    df.loc[ix, 'y-stock'] = 100 * np.cumprod(1.0 + df[ix].y)",
      "execution_state": "idle"
    },
    {
      "cell_type": "code",
      "execution_count": 7,
      "metadata": {
        "_cell_guid": "c8326803-c5e6-2964-7b66-6e9f57fcb872",
        "_active": false
      },
      "outputs": [],
      "source": "if 'EMA-9d' not in df.columns:\n    df['EMA-12d'] = np.nan\n    df['EMA-26d'] = np.nan\n\n\ndef calculate_ema(series_y, size=30):\n    return series_y.ewm(span=size, min_periods=size).mean()\n\n\nfor assetId in ids:\n    ix = df.id == assetId\n    df.loc[ix, 'EMA-12d'] = calculate_ema(df.loc[ix, 'y-stock'], size=12)\n    df.loc[ix, 'EMA-26d'] = calculate_ema(df.loc[ix, 'y-stock'], size=26)",
      "execution_state": "idle"
    },
    {
      "cell_type": "code",
      "execution_count": 8,
      "metadata": {
        "_cell_guid": "ca7f64c4-5bfd-2fb4-f560-d60068b7a979",
        "_active": false
      },
      "outputs": [],
      "source": "df.loc[df.id==ids[0], ['EMA-9d', 'EMA-12d', 'EMA-26d', 'y-stock']].plot(figsize=(9,2))",
      "execution_state": "idle"
    },
    {
      "cell_type": "code",
      "execution_count": 9,
      "metadata": {
        "_cell_guid": "41376683-156f-00f3-b4c1-4240762114ed",
        "_active": false
      },
      "outputs": [],
      "source": "# Moving Average Convergence Divergence (MACD)\n# https://en.wikipedia.org/wiki/MACD\n\nif 'MACD-diff' not in df.columns:\n    df['MACD-diff'] = np.nan\n    df['MACD(9,12,26)'] = np.nan\n    \n\nfor assetId in ids:\n    ix = df.id == assetId\n    df.loc[ix, 'MACD-diff'] = df.loc[ix, 'EMA-12d'] - df.loc[ix, 'EMA-26d']\n    df.loc[ix, 'MACD(9,12,26)'] = calculate_ema(df.loc[ix, 'MACD-diff'], size=9)",
      "execution_state": "idle"
    },
    {
      "cell_type": "code",
      "execution_count": 10,
      "metadata": {
        "_cell_guid": "3bef8597-00a6-fbc5-1fd5-e0581f1a9fdc",
        "_active": false
      },
      "outputs": [],
      "source": "plt.figure(figsize=(9,5))\nax = plt.subplot(2,1,1)\ndf.loc[df.id==ids[0], ['y-stock']].plot(ax=ax)\nax = plt.subplot(2,1,2)\ndf.loc[df.id==ids[0], ['MACD-diff', 'MACD(9,12,26)']].plot(ax=ax)",
      "execution_state": "idle"
    },
    {
      "cell_type": "code",
      "execution_count": 11,
      "metadata": {
        "_cell_guid": "f43daa52-ab9b-19e5-f037-a897ebc39dfc",
        "_active": false
      },
      "outputs": [],
      "source": "correlations = pd.DataFrame()\n\nfeat_cols = df.columns[2:-5]\n\nfor col in df.columns[-4:]:\n    corrs = []\n    for f_col in feat_cols:\n        corrs.append( df.loc[df[col].notnull(), col].corr(df.loc[df[col].notnull(), f_col]) )\n    correlations[col] = corrs\n    \n# Set index to columns.\ncorrelations.set_index(feat_cols, inplace=True)",
      "execution_state": "idle"
    },
    {
      "cell_type": "code",
      "execution_count": 12,
      "metadata": {
        "_cell_guid": "963d2330-caf3-93a5-9dad-0e76ab0b6678",
        "_active": false
      },
      "outputs": [],
      "source": "import seaborn as sns\n\nplt.figure(figsize=(8,15))\nsns.heatmap(correlations, vmin=-1.0, vmax=1.0)",
      "execution_state": "idle"
    }
  ]
}