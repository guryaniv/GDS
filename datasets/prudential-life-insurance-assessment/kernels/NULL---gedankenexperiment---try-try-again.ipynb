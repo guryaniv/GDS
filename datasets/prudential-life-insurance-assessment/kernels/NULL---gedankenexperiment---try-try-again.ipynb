{"cells":[
 {
  "cell_type": "code",
  "execution_count": null,
  "metadata": {
   "collapsed": false
  },
  "outputs": [],
  "source": "from sklearn import metrics, cross_validation, linear_model\nfrom scipy import sparse\nfrom itertools import combinations\nimport numpy as np\nimport pandas as pd\nSEED = 123\n\ndef group_data(data, degree=3, hash=hash):\n    new_data = []\n    m, n = data.shape\n    for indices in combinations(range(n), degree):\n        new_data.append([hash(tuple(v)) for v in data[:, indices]])\n    return np.array(new_data).T\n\n\ndef OneHotEncoder(data, keymap=None):\n    \"\"\"\n    OneHotEncoder takes data matrix with categorical columns and\n    converts it to a sparse binary matrix.\n\n    Returns sparse binary matrix and keymap mapping categories to indicies.\n    If a keymap is supplied on input it will be used instead of creating one\n    and any categories appearing in the data that are not in the keymap are\n    ignored\n    \"\"\"\n    if keymap is None:\n        keymap = []\n        for col in data.T:\n            uniques = set(list(col))\n            keymap.append(dict((key, i) for i, key in enumerate(uniques)))\n    total_pts = data.shape[0]\n    outdat = []\n    for i, col in enumerate(data.T):\n        km = keymap[i]\n        num_labels = len(km)\n        spmat = sparse.lil_matrix((total_pts, num_labels))\n        for j, val in enumerate(col):\n            if val in km:\n                spmat[j, km[val]] = 1\n        outdat.append(spmat)\n    outdat = sparse.hstack(outdat).tocsr()\n    return outdat, keymap\n\n\ndef cv_loop(X, y, model, N):\n    mean_auc = 0.\n    for i in range(N):\n        X_train, X_cv, y_train, y_cv = cross_validation.train_test_split(\n            X, y, test_size=.20,\n            random_state=i*SEED)\n        model.fit(X_train, y_train)\n        preds = model.predict_proba(X_cv)[:, 1]\n        auc = metrics.auc_score(y_cv, preds)\n        #print \"AUC (fold %d/%d): %f\" % (i + 1, N, auc)\n        mean_auc += auc\n    return mean_auc/N"
 },
 {
  "cell_type": "code",
  "execution_count": null,
  "metadata": {
   "collapsed": false
  },
  "outputs": [],
  "source": ""
 },
 {
  "cell_type": "code",
  "execution_count": null,
  "metadata": {
   "collapsed": false
  },
  "outputs": [],
  "source": "dp = group_data(all_data, degree=2)\ntrain_data.shape"
 },
 {
  "cell_type": "code",
  "execution_count": null,
  "metadata": {
   "collapsed": false
  },
  "outputs": [],
  "source": ""
 },
 {
  "cell_type": "code",
  "execution_count": null,
  "metadata": {
   "collapsed": false
  },
  "outputs": [],
  "source": "dt = group_data(all_data, degree=3)"
 },
 {
  "cell_type": "code",
  "execution_count": null,
  "metadata": {
   "collapsed": false
  },
  "outputs": [],
  "source": "y = np.array(train_data['Response'].values)\n"
 },
 {
  "cell_type": "code",
  "execution_count": null,
  "metadata": {
   "collapsed": false
  },
  "outputs": [],
  "source": "print \"anything\""
 },
 {
  "cell_type": "code",
  "execution_count": null,
  "metadata": {
   "collapsed": false
  },
  "outputs": [],
  "source": "X = all_data[:num_train]\nX_2 = dp[:num_train]\nX_3 = dt[:num_train]"
 },
 {
  "cell_type": "code",
  "execution_count": null,
  "metadata": {
   "collapsed": false
  },
  "outputs": [],
  "source": "X_3.shape"
 },
 {
  "cell_type": "code",
  "execution_count": null,
  "metadata": {
   "collapsed": false
  },
  "outputs": [],
  "source": "num_features = X_2.shape[1]\nprint(num_features)"
 }
],"metadata":{"kernelspec":{"display_name":"Python 3","language":"python","name":"python3"}}, "nbformat": 4, "nbformat_minor": 0}