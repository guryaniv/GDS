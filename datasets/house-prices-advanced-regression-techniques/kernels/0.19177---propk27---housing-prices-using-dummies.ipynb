{
  "cells": [
    {
      "cell_type": "markdown",
      "metadata": {
        "_cell_guid": "6cde96ed-6023-61dd-dadf-2e809bf2ac7c"
      },
      "source": ""
    },
    {
      "cell_type": "code",
      "execution_count": null,
      "metadata": {
        "_cell_guid": "fd3fdd1e-8c87-0940-c6f2-89c619b107b0"
      },
      "outputs": [],
      "source": [
        "# This Python 3 environment comes with many helpful analytics libraries installed\n",
        "# It is defined by the kaggle/python docker image: https://github.com/kaggle/docker-python\n",
        "# For example, here's several helpful packages to load in \n",
        "\n",
        "import numpy as np # linear algebra\n",
        "import pandas as pd # data processing, CSV file I/O (e.g. pd.read_csv)\n",
        "\n",
        "# Input data files are available in the \"../input/\" directory.\n",
        "# For example, running this (by clicking run or pressing Shift+Enter) will list the files in the input directory"
      ]
    },
    {
      "cell_type": "code",
      "execution_count": null,
      "metadata": {
        "_cell_guid": "d2d0f31a-7ad7-c6fc-36bb-cfb2ffab30a7"
      },
      "outputs": [],
      "source": [
        "input_df = pd.read_csv('../input/train.csv')\n",
        "test_df = pd.read_csv('../input/test.csv')\n",
        "input_df.head()\n",
        "#input_df.info()"
      ]
    },
    {
      "cell_type": "code",
      "execution_count": null,
      "metadata": {
        "_cell_guid": "6aa3eba8-dcf5-5f94-c226-12b12598a4ed"
      },
      "outputs": [],
      "source": [
        "#2 Second Try\n",
        "# using dummie - better suited for categorical data\n",
        "\n",
        "train_data = input_df.copy()\n",
        "\n",
        "#no garage, equivalent to garage built long time ago (0 AD) - reconsider value\n",
        "train_data['GarageYrBlt'].fillna(0,inplace = True)\n",
        "train_data['LotFrontage'].fillna(0, inplace = True)\n",
        "train_data['MasVnrArea'].fillna(0, inplace = True)\n",
        "\n",
        "neg_inf = - (1 << 30)\n",
        "#Basement doesnot exists so -inf (0 is for unfinished basement)\n",
        "train_data['BsmtFinSF1'].fillna( neg_inf, inplace = True)\n",
        "train_data['BsmtFinSF2'].fillna( neg_inf, inplace = True)\n",
        "train_data['BsmtUnfSF'].fillna( neg_inf, inplace = True)\n",
        "train_data['TotalBsmtSF'].fillna( neg_inf, inplace = True)\n",
        "\n",
        "train_data['BsmtFullBath'].fillna(0, inplace = True)\n",
        "train_data['BsmtHalfBath'].fillna(0, inplace = True)\n",
        "\n",
        "#no garage, no car space (check if correct)\n",
        "train_data['GarageCars'].fillna(0, inplace = True)\n",
        "train_data['GarageArea'].fillna(0, inplace = True)\n",
        "\n",
        "train_data.fillna('NA', inplace = True)\n",
        "#train_data = train_data.astype('int64')\n",
        "#train_data.info()"
      ]
    },
    {
      "cell_type": "code",
      "execution_count": null,
      "metadata": {
        "_cell_guid": "f454ad2a-4447-45b5-c4b0-0b2c61a920f7"
      },
      "outputs": [],
      "source": [
        "#df_sex = pd.get_dummies(df['sex'])\n",
        "\n",
        "colLabels = train_data.columns.values\n",
        "obj_list=list(item for item in colLabels if train_data[item].dtype==np.object)\n",
        "\n",
        "train_new = train_data.copy();\n",
        "\n",
        "for x in obj_list:\n",
        "    temp = pd.get_dummies(train_data[x], prefix= x + '_')\n",
        "    train_new = pd.concat([train_new, temp], axis=1)\n",
        "    train_new.drop([x], axis = 1, inplace = True)\n",
        "train_new = train_new.astype('int64')\n",
        "train_new.info()\n",
        "train_cols = train_new.columns.values"
      ]
    },
    {
      "cell_type": "code",
      "execution_count": null,
      "metadata": {
        "_cell_guid": "f506c6f8-0c05-4235-c91c-7504a8720775"
      },
      "outputs": [],
      "source": [
        "\n",
        "test_data = test_df.copy()\n",
        "\n",
        "#no garage, equivalent to garage built long time ago (0 AD) - reconsider value\n",
        "test_data['GarageYrBlt'].fillna(0,inplace = True)\n",
        "test_data['LotFrontage'].fillna(0, inplace = True)\n",
        "test_data['MasVnrArea'].fillna(0, inplace = True)\n",
        "\n",
        "neg_inf = - (1 << 30)\n",
        "#Basement doesnot exists so -inf (0 is for unfinished basement)\n",
        "test_data['BsmtFinSF1'].fillna( neg_inf, inplace = True)\n",
        "test_data['BsmtFinSF2'].fillna( neg_inf, inplace = True)\n",
        "test_data['BsmtUnfSF'].fillna( neg_inf, inplace = True)\n",
        "test_data['TotalBsmtSF'].fillna( neg_inf, inplace = True)\n",
        "\n",
        "test_data['BsmtFullBath'].fillna(0, inplace = True)\n",
        "test_data['BsmtHalfBath'].fillna(0, inplace = True)\n",
        "\n",
        "#no garage, no car space (check if correct)\n",
        "test_data['GarageCars'].fillna(0, inplace = True)\n",
        "test_data['GarageArea'].fillna(0, inplace = True)\n",
        "\n",
        "test_data.fillna('NA', inplace=True)\n",
        "#train_data = train_data.astype('int64')\n",
        "#test_data.info()"
      ]
    },
    {
      "cell_type": "code",
      "execution_count": null,
      "metadata": {
        "_cell_guid": "92109be6-a128-35f5-9ca0-f6ae8b133ef5"
      },
      "outputs": [],
      "source": [
        "colLabels = test_data.columns.values\n",
        "obj_list=list(item for item in colLabels if test_data[item].dtype==np.object)\n",
        "\n",
        "test_new = test_data.copy();\n",
        "\n",
        "for x in obj_list:\n",
        "    temp = pd.get_dummies(test_data[x], prefix= x + '_')\n",
        "    test_new = pd.concat([test_new, temp], axis=1)\n",
        "    test_new.drop([x], axis = 1, inplace = True)\n",
        "test_new = test_new.astype('int64')\n",
        "test_new.info()\n",
        "test_new.head()\n",
        "test_cols = test_new.columns.values"
      ]
    },
    {
      "cell_type": "code",
      "execution_count": null,
      "metadata": {
        "_cell_guid": "552ca097-3d9c-16f1-bf56-e9e637019b84"
      },
      "outputs": [],
      "source": [
        "diff = []\n",
        "for x in train_cols:\n",
        "    if x not in test_cols:\n",
        "        diff = diff + [x]\n",
        "print(diff)\n",
        "\n",
        "diff2 = []\n",
        "for x in test_cols:\n",
        "    if x not in train_cols:\n",
        "        diff2 = diff2 + [x]\n",
        "print(diff2)\n",
        "        \n",
        "#some extra categories available in train data\n",
        "target = train_new['SalePrice']\n",
        "train_new_clean = train_new.drop(diff, axis = 1)\n",
        "train_new_clean.info()\n",
        "\n",
        "test_new_clean = test_new.drop(diff2, axis = 1) \n",
        "train_new_clean.info()\n",
        "\n",
        "#next improvement try not droping these colums\n",
        "\n",
        "train_new_clean.drop(['Id'], axis = 1)\n",
        "test_new_clean.drop(['Id'], axis = 1)\n",
        "\n",
        "from sklearn.ensemble import RandomForestClassifier\n",
        "\n",
        "rf = RandomForestClassifier(random_state=1, n_estimators=150, min_samples_split=4, min_samples_leaf=2)\n",
        "rf.fit(train_new_clean, target)\n",
        "print(rf.score(train_new_clean,target))\n",
        "\n",
        "pred = rf.predict(test_new_clean)\n",
        "\n",
        "np.savetxt('rand_forest_dummies.csv', np.c_[range(1461,len(test_new_clean)+1461),pred], delimiter=',', header = 'Id,SalePrice', comments = '', fmt='%d')"
      ]
    },
    {
      "cell_type": "code",
      "execution_count": null,
      "metadata": {
        "_cell_guid": "af56c87d-70dd-8ea3-971e-31b54a2c8695"
      },
      "outputs": [],
      "source": ""
    }
  ],
  "metadata": {
    "_change_revision": 0,
    "_is_fork": false,
    "kernelspec": {
      "display_name": "Python 3",
      "language": "python",
      "name": "python3"
    },
    "language_info": {
      "codemirror_mode": {
        "name": "ipython",
        "version": 3
      },
      "file_extension": ".py",
      "mimetype": "text/x-python",
      "name": "python",
      "nbconvert_exporter": "python",
      "pygments_lexer": "ipython3",
      "version": "3.6.0"
    }
  },
  "nbformat": 4,
  "nbformat_minor": 0
}