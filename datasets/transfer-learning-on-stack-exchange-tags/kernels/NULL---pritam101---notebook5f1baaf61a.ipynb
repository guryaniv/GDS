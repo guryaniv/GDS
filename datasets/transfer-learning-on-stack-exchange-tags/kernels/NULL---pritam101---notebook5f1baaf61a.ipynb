{
  "cells": [
    {
      "cell_type": "markdown",
      "metadata": {
        "_cell_guid": "7d832976-454d-0064-915d-5966bb42c2c2"
      },
      "source": [
        "Sup"
      ]
    },
    {
      "cell_type": "code",
      "execution_count": null,
      "metadata": {
        "_cell_guid": "cf2ce951-c911-be03-160a-3d04e9fb5ae7"
      },
      "outputs": [],
      "source": [
        "from __future__ import print_function\n",
        "\n",
        "import time\n",
        "from PIL import Image\n",
        "import numpy as np\n",
        "\n",
        "from keras import backend\n",
        "from keras.models import Model\n",
        "from keras.applications.vgg16 import VGG16\n",
        "\n",
        "from scipy.optimize import fmin_l_bfgs_b\n",
        "from scipy.misc import imsave"
      ]
    },
    {
      "cell_type": "code",
      "execution_count": null,
      "metadata": {
        "_cell_guid": "40da159a-5d7b-b693-71ec-6b7c5b1c4d1f"
      },
      "outputs": [],
      "source": [
        "height = 512\n",
        "width = 512\n",
        "\n",
        "content_image_path = 'images/hugo.jpg'\n",
        "content_image = Image.open(content_image_path)\n",
        "content_image = content_image.resize((height, width))\n",
        "content_image"
      ]
    }
  ],
  "metadata": {
    "_change_revision": 0,
    "_is_fork": false,
    "kernelspec": {
      "display_name": "Python 3",
      "language": "python",
      "name": "python3"
    },
    "language_info": {
      "codemirror_mode": {
        "name": "ipython",
        "version": 3
      },
      "file_extension": ".py",
      "mimetype": "text/x-python",
      "name": "python",
      "nbconvert_exporter": "python",
      "pygments_lexer": "ipython3",
      "version": "3.6.0"
    }
  },
  "nbformat": 4,
  "nbformat_minor": 0
}