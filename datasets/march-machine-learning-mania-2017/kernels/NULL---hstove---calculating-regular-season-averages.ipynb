{
  "cells": [
    {
      "cell_type": "markdown",
      "metadata": {
        "_cell_guid": "d53924d2-a98d-ddda-d322-9ecaecb4f355"
      },
      "source": [
        "This notebook can help you aggregate regular season per-game averages, which may help you when generating training data."
      ]
    },
    {
      "cell_type": "code",
      "execution_count": null,
      "metadata": {
        "_cell_guid": "d8b20a8a-590f-b42d-9ebb-bc70e3353cc7"
      },
      "outputs": [],
      "source": [
        "# This Python 3 environment comes with many helpful analytics libraries installed\n",
        "# It is defined by the kaggle/python docker image: https://github.com/kaggle/docker-python\n",
        "# For example, here's several helpful packages to load in \n",
        "\n",
        "import numpy as np # linear algebra\n",
        "import pandas as pd # data processing, CSV file I/O (e.g. pd.read_csv)\n",
        "\n",
        "# Input data files are available in the \"../input/\" directory.\n",
        "# For example, running this (by clicking run or pressing Shift+Enter) will list the files in the input directory\n",
        "\n",
        "from subprocess import check_output\n",
        "print(check_output([\"ls\", \"../input\"]).decode(\"utf8\"))\n",
        "\n",
        "# Any results you write to the current directory are saved as output."
      ]
    },
    {
      "cell_type": "code",
      "execution_count": null,
      "metadata": {
        "_cell_guid": "0d2a4e80-ceef-d08e-cee7-829d07a541b9"
      },
      "outputs": [],
      "source": [
        "teams = pd.read_csv('../input/Teams.csv')\n",
        "regular_season = pd.read_csv('../input/RegularSeasonDetailedResults.csv')"
      ]
    },
    {
      "cell_type": "code",
      "execution_count": null,
      "metadata": {
        "_cell_guid": "c4b91b54-dbf6-6421-ec6b-5b9d4568996d"
      },
      "outputs": [],
      "source": [
        "frames = []\n",
        "for season in regular_season.Season.unique():\n",
        "    team_season = teams.copy()\n",
        "    team_season['season'] = season\n",
        "    team_season.index = team_season.Team_Id.apply(str) + team_season.season.apply(str)\n",
        "    frames.append(team_season)\n",
        "\n",
        "team_seasons = pd.concat(frames)\n",
        "print(team_seasons.head())"
      ]
    },
    {
      "cell_type": "code",
      "execution_count": null,
      "metadata": {
        "_cell_guid": "4c79f188-6488-2a48-816f-8ed5d068beaf"
      },
      "outputs": [],
      "source": [
        "loser_columns = ['Lscore', 'Lfgm', 'Lfga', 'Lfgm3', 'Lfga3','Lftm', 'Lfta', 'Lor', 'Ldr', 'Last', 'Lto', 'Lstl', 'Lblk', 'Lpf']\n",
        "winner_columns = ['Wscore', 'Wfgm', 'Wfga', 'Wfgm3', 'Wfga3', 'Wftm', 'Wfta', 'Wor', 'Wdr', 'Wast', 'Wto', 'Wstl', 'Wblk', 'Wpf']\n",
        "fixed_columns = [column[1:] for column in winner_columns]"
      ]
    },
    {
      "cell_type": "code",
      "execution_count": null,
      "metadata": {
        "_cell_guid": "50155b0e-02ac-273b-7e55-a6550db69fa6"
      },
      "outputs": [],
      "source": [
        "season_averages = []\n",
        "for index, row in team_seasons.iterrows():\n",
        "    wins = regular_season.Wteam == row.Team_Id\n",
        "    loses = regular_season.Lteam == row.Team_Id\n",
        "    right_season = regular_season.Season == row.season\n",
        "\n",
        "    won_games = regular_season[right_season & wins][winner_columns]\n",
        "    won_games.columns = fixed_columns\n",
        "\n",
        "    lost_games = regular_season[right_season & loses][loser_columns]\n",
        "    lost_games.columns = fixed_columns\n",
        "\n",
        "    games = pd.concat([won_games, lost_games]).mean()\n",
        "    games['Team_Id'] = row.Team_Id\n",
        "    games['Season'] = row.season\n",
        "    games['Team_Name'] = row.Team_Name\n",
        "    games = games.to_frame().transpose()\n",
        "\n",
        "    season_averages.append(games)\n",
        "\n",
        "season_averages = pd.concat(season_averages).dropna()"
      ]
    },
    {
      "cell_type": "code",
      "execution_count": null,
      "metadata": {
        "_cell_guid": "e3be957a-1528-6b88-ede4-1103b6f95bcf"
      },
      "outputs": [],
      "source": [
        "season_averages.head()"
      ]
    }
  ],
  "metadata": {
    "_change_revision": 0,
    "_is_fork": false,
    "kernelspec": {
      "display_name": "Python 3",
      "language": "python",
      "name": "python3"
    },
    "language_info": {
      "codemirror_mode": {
        "name": "ipython",
        "version": 3
      },
      "file_extension": ".py",
      "mimetype": "text/x-python",
      "name": "python",
      "nbconvert_exporter": "python",
      "pygments_lexer": "ipython3",
      "version": "3.6.0"
    }
  },
  "nbformat": 4,
  "nbformat_minor": 0
}