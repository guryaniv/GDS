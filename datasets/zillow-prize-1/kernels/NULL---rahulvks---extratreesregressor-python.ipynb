{
  "cells": [
    {
      "cell_type": "markdown",
      "metadata": {
        "_cell_guid": "d3d6c50d-ac15-fd12-446b-7db4dc968b3e"
      },
      "source": [
        "First time tried - sklearn.ensemble.ExtraTreesRegresso. Thanks SRK for giving wonderful EDA.  "
      ]
    },
    {
      "cell_type": "code",
      "execution_count": null,
      "metadata": {
        "_cell_guid": "0439e1b9-2404-cfa3-3cc7-5c6c5494f9d0"
      },
      "outputs": [],
      "source": [
        "import pandas as pd\n",
        "import numpy as np\n",
        "import re\n",
        "import string\n",
        "import nltk\n",
        "import os\n",
        "import numpy as np\n",
        "import pandas as pd\n",
        "import xgboost as xgb\n",
        "import gc\n",
        "import seaborn as sns\n",
        "import matplotlib.pyplot as plt\n",
        "\n",
        "\n",
        "\n",
        "train = pd.read_csv('../input/train_2016.csv')\n",
        "prop = pd.read_csv('../input/properties_2016.csv')\n",
        "sample = pd.read_csv('../input/sample_submission.csv')\n",
        "\n",
        "# Any results you write to the current directory are saved as output."
      ]
    },
    {
      "cell_type": "markdown",
      "metadata": {
        "_cell_guid": "457dec95-aa98-920c-cf47-4b0179781b20"
      },
      "source": [
        "*Train Data*"
      ]
    },
    {
      "cell_type": "code",
      "execution_count": null,
      "metadata": {
        "_cell_guid": "186b15f1-bfda-46e2-56a8-577efbd5e959"
      },
      "outputs": [],
      "source": [
        "train.head(1)"
      ]
    },
    {
      "cell_type": "code",
      "execution_count": null,
      "metadata": {
        "_cell_guid": "fdf8d6df-64ad-4826-bfc5-31391625694a"
      },
      "outputs": [],
      "source": [
        "# This Python 3 environment comes with many helpful analytics libraries installed\n",
        "# It is defined by the kaggle/python docker image: https://github.com/kaggle/docker-python\n",
        "# For example, here's several helpful packages to load in \n",
        "\n",
        "import numpy as np # linear algebra\n",
        "import pandas as pd # data processing, CSV file I/O (e.g. pd.read_csv)\n",
        "\n",
        "# Input data files are available in the \"../input/\" directory.\n",
        "# For example, running this (by clicking run or pressing Shift+Enter) will list the files in the input directory\n",
        "\n",
        "from subprocess import check_output\n",
        "print(check_output([\"ls\", \"../input\"]).decode(\"utf8\"))\n",
        "\n",
        "# Any results you write to the current directory are saved as output."
      ]
    },
    {
      "cell_type": "code",
      "execution_count": null,
      "metadata": {
        "_cell_guid": "1fb86846-81f6-4ce9-9204-ce991a34054f"
      },
      "outputs": [],
      "source": ""
    },
    {
      "cell_type": "code",
      "execution_count": null,
      "metadata": {
        "_cell_guid": "eadc2ae8-ef69-2797-7046-6a2a7fc7408f"
      },
      "outputs": [],
      "source": [
        "prop.head(1)"
      ]
    },
    {
      "cell_type": "markdown",
      "metadata": {
        "_cell_guid": "7bbae038-c22c-e6bc-81c1-e381f6f92073"
      },
      "source": [
        "**Target Variable - Logerror**"
      ]
    },
    {
      "cell_type": "code",
      "execution_count": null,
      "metadata": {
        "_cell_guid": "acb3fca9-5c8b-98dc-e90e-3adb8f93fde9"
      },
      "outputs": [],
      "source": [
        "plt.figure(figsize=(8,6))\n",
        "plt.scatter(range(train.shape[0]), np.sort(train.logerror.values))\n",
        "plt.xlabel('index', fontsize=12)\n",
        "plt.ylabel('logerror', fontsize=12)\n",
        "plt.show()"
      ]
    },
    {
      "cell_type": "markdown",
      "metadata": {
        "_cell_guid": "d8bc0beb-97fc-307d-7082-a1e38ff6914c"
      },
      "source": [
        "**Merging train and prop**"
      ]
    },
    {
      "cell_type": "code",
      "execution_count": null,
      "metadata": {
        "_cell_guid": "2d927a4e-5c1d-ed8b-1484-55e6454d6e1a"
      },
      "outputs": [],
      "source": [
        "for i, dtype in zip(prop.columns, prop.dtypes):\n",
        "\tif dtype == np.float64:\n",
        "\t\tprop[i] = prop[i].astype(np.float32)\n",
        "df_train = train.merge(prop, how='left', on='parcelid')"
      ]
    },
    {
      "cell_type": "markdown",
      "metadata": {
        "_cell_guid": "5697f6c7-95fe-7c63-23ca-b084d55a2b49"
      },
      "source": [
        "**Checking Missing Values** - "
      ]
    },
    {
      "cell_type": "code",
      "execution_count": null,
      "metadata": {
        "_cell_guid": "c84edad4-0332-b916-fa77-2e6813931d6e"
      },
      "outputs": [],
      "source": [
        "df_train.isnull().sum()"
      ]
    },
    {
      "cell_type": "markdown",
      "metadata": {
        "_cell_guid": "b453dd5e-6fc5-888c-3db2-395127395b33"
      },
      "source": [
        "**Transaction date - Modify** "
      ]
    },
    {
      "cell_type": "code",
      "execution_count": null,
      "metadata": {
        "_cell_guid": "6182eb79-8adb-3065-1716-409f85c155f3"
      },
      "outputs": [],
      "source": [
        "df_train[\"transactiondate\"] = pd.to_datetime(df_train[\"transactiondate\"])\n",
        "df_train[\"year\"] = df_train[\"transactiondate\"].dt.year\n",
        "df_train[\"month\"] = df_train[\"transactiondate\"].dt.month\n",
        "df_train[\"day\"] = df_train[\"transactiondate\"].dt.day"
      ]
    },
    {
      "cell_type": "markdown",
      "metadata": {
        "_cell_guid": "daed54b6-794b-aad4-a534-6fa950ce344a"
      },
      "source": [
        "**Month Wise Transaction** "
      ]
    },
    {
      "cell_type": "code",
      "execution_count": null,
      "metadata": {
        "_cell_guid": "daca14b2-2c93-3b25-4438-adf7aece9cbd"
      },
      "outputs": [],
      "source": [
        "cnt_srs = df_train['month'].value_counts()\n",
        "plt.figure(figsize=(12,6))\n",
        "sns.barplot(cnt_srs.index, cnt_srs.values, alpha=0.8,palette='GnBu_d')\n",
        "plt.xticks(rotation='vertical')\n",
        "plt.xlabel('Month of transaction', fontsize=12)\n",
        "plt.ylabel('Number of Occurrences', fontsize=12)\n",
        "plt.show()\n"
      ]
    },
    {
      "cell_type": "markdown",
      "metadata": {
        "_cell_guid": "cbb89b9e-c94d-74aa-35f2-4541a3db225d"
      },
      "source": [
        "**Day Wise Transcation**"
      ]
    },
    {
      "cell_type": "code",
      "execution_count": null,
      "metadata": {
        "_cell_guid": "121600bf-deb3-3bfd-bb6d-a3f75f139c84"
      },
      "outputs": [],
      "source": [
        "cnt_srs = df_train['day'].value_counts()\n",
        "plt.figure(figsize=(12,6))\n",
        "sns.barplot(cnt_srs.index, cnt_srs.values, alpha=0.8,palette='GnBu_d')\n",
        "plt.xticks(rotation='vertical')\n",
        "plt.xlabel('Month of transaction', fontsize=12)\n",
        "plt.ylabel('Number of Occurrences', fontsize=12)\n",
        "plt.show()"
      ]
    },
    {
      "cell_type": "markdown",
      "metadata": {
        "_cell_guid": "1ee72c83-af43-8380-f7f6-63796b3d0d83"
      },
      "source": [
        "**Replacing Missing Values With Mean**"
      ]
    },
    {
      "cell_type": "code",
      "execution_count": null,
      "metadata": {
        "_cell_guid": "c13e794f-206a-0907-f656-8eee8ef47b25"
      },
      "outputs": [],
      "source": [
        "df_train=df_train.fillna(df_train.mean())"
      ]
    },
    {
      "cell_type": "markdown",
      "metadata": {
        "_cell_guid": "35c9c5e9-ac8c-b19d-e64e-9bcd15aec9e0"
      },
      "source": [
        "**Data Modelling**"
      ]
    },
    {
      "cell_type": "code",
      "execution_count": null,
      "metadata": {
        "_cell_guid": "faca84e6-d3f8-7694-bcee-ff12ad97bc5c"
      },
      "outputs": [],
      "source": [
        "x_train = df_train.drop(['parcelid', 'logerror', 'transactiondate', 'propertyzoningdesc', 'propertycountylandusecode','fireplaceflag','hashottuborspa'], axis=1)\n",
        "y_train = df_train['logerror'].values"
      ]
    },
    {
      "cell_type": "markdown",
      "metadata": {
        "_cell_guid": "2901d6f2-e1e3-ad98-c38b-4ac563cdf03a"
      },
      "source": [
        "**Label Encoder** "
      ]
    },
    {
      "cell_type": "code",
      "execution_count": null,
      "metadata": {
        "_cell_guid": "4e8bca74-eb4f-2fc7-7779-575928f1a316"
      },
      "outputs": [],
      "source": [
        "from sklearn import preprocessing \n",
        "for f in x_train.columns: \n",
        "    if x_train[f].dtype=='object': \n",
        "        lbl = preprocessing.LabelEncoder() \n",
        "        lbl.fit(list(x_train[f].values)) \n",
        "        x_train[f] = lbl.transform(list(x_train[f].values))"
      ]
    },
    {
      "cell_type": "code",
      "execution_count": null,
      "metadata": {
        "_cell_guid": "0a7fb6f0-22b3-7c75-7e77-8ee104c36367"
      },
      "outputs": [],
      "source": [
        "split = 80000\n",
        "x_train, y_train, x_valid, y_valid = x_train[:split], y_train[:split], x_train[split:], y_train[split:]"
      ]
    },
    {
      "cell_type": "code",
      "execution_count": null,
      "metadata": {
        "_cell_guid": "803dbef9-81d0-5b89-c128-439e7c31516f"
      },
      "outputs": [],
      "source": [
        "print ('x_train',x_train.shape)\n",
        "print ('y_train',y_train.shape)\n",
        "print ('x_valid',x_valid.shape)\n",
        "print ('y_valid',y_valid.shape)"
      ]
    },
    {
      "cell_type": "markdown",
      "metadata": {
        "_cell_guid": "e95c378a-931e-3a95-273b-883e219f4d65"
      },
      "source": [
        "**Extra Trees Regressor ** - *http://scikit-learn.org/stable/modules/generated/sklearn.ensemble.ExtraTreesRegressor.html*"
      ]
    },
    {
      "cell_type": "code",
      "execution_count": null,
      "metadata": {
        "_cell_guid": "7971a489-423f-5457-68d4-1ee610c331a7"
      },
      "outputs": [],
      "source": [
        "from sklearn import ensemble\n",
        "model = ensemble.ExtraTreesRegressor(n_estimators=5, max_depth=10, max_features=0.3, n_jobs=-1, random_state=0)"
      ]
    },
    {
      "cell_type": "code",
      "execution_count": null,
      "metadata": {
        "_cell_guid": "e654a0c4-c553-d80e-9ba4-55067559c901"
      },
      "outputs": [],
      "source": [
        "model.fit(x_train, y_train)"
      ]
    },
    {
      "cell_type": "code",
      "execution_count": null,
      "metadata": {
        "_cell_guid": "a55edd00-0f3f-af42-248d-28e7aece8a1c"
      },
      "outputs": [],
      "source": [
        "#plot the importances #\n",
        "importances = model.feature_importances_\n",
        "std = np.std([tree.feature_importances_ for tree in model.estimators_],\n",
        "             axis=0)\n",
        "indices = np.argsort(importances)[::-1][:20]"
      ]
    },
    {
      "cell_type": "code",
      "execution_count": null,
      "metadata": {
        "_cell_guid": "a693e5a3-6222-50b9-0fd6-825d80c13c76"
      },
      "outputs": [],
      "source": [
        "plt.figure(figsize=(14,10))\n",
        "plt.title(\"Feature importances\")\n",
        "plt.bar(range(len(indices)), importances[indices],\n",
        "       color=\"b\", yerr=std[indices], align=\"center\")\n",
        "plt.xticks(range(len(indices)), indices)\n",
        "plt.xlim([-1, len(indices)])\n",
        "plt.show()"
      ]
    },
    {
      "cell_type": "code",
      "execution_count": null,
      "metadata": {
        "_cell_guid": "903909ba-cf43-60df-11ac-e7cee8e8de09"
      },
      "outputs": [],
      "source": [
        "from sklearn import model_selection\n",
        "seed = 7\n",
        "kfold = model_selection.KFold(n_splits=10, random_state=seed)\n",
        "model = ensemble.ExtraTreesRegressor(n_estimators=5, max_depth=10, max_features=0.3, n_jobs=-1, random_state=0)\n",
        "results = model_selection.cross_val_score(model, x_train, y_train, cv=kfold)\n",
        "print(results.mean())"
      ]
    },
    {
      "cell_type": "code",
      "execution_count": null,
      "metadata": {
        "_cell_guid": "aa09be3e-39e3-1647-296b-231e33fa61f2"
      },
      "outputs": [],
      "source": ""
    }
  ],
  "metadata": {
    "_change_revision": 0,
    "_is_fork": false,
    "kernelspec": {
      "display_name": "Python 3",
      "language": "python",
      "name": "python3"
    },
    "language_info": {
      "codemirror_mode": {
        "name": "ipython",
        "version": 3
      },
      "file_extension": ".py",
      "mimetype": "text/x-python",
      "name": "python",
      "nbconvert_exporter": "python",
      "pygments_lexer": "ipython3",
      "version": "3.6.0"
    }
  },
  "nbformat": 4,
  "nbformat_minor": 0
}