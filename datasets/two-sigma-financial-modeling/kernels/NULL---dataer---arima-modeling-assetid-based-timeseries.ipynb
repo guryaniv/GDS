{
  "cells": [
    {
      "cell_type": "markdown",
      "metadata": {
        "_cell_guid": "ee5f5e7c-20e3-ed15-a1c9-403ef0f72ddd"
      },
      "source": [
        "ARIMA Models : This is the code to generate a timeseries for each of the Asset IDs and store in a dictionary.\n",
        "------------------------------------------------------------------------\n",
        "\n",
        "The code further demonstrates how to take a timeseries, through decomposition, test for stationarity, differencing and finally build models based on AutoRegression(AR), Moving Average(MA) and Combined ARIMA models. This is followed with sample predictions and check of AICC and BICC. \n",
        "By Krishna Chari,  NorthWestern University, MS Predictive Analytics"
      ]
    },
    {
      "cell_type": "code",
      "execution_count": null,
      "metadata": {
        "_cell_guid": "b5ecec7d-1924-bee1-b29b-40d3d8a57dd7"
      },
      "outputs": [],
      "source": [
        "# This Python 3 environment comes with many helpful analytics libraries installed\n",
        "# It is defined by the kaggle/python docker image: https://github.com/kaggle/docker-python\n",
        "# For example, here's several helpful packages to load in \n",
        "\n",
        "import numpy as np # linear algebra\n",
        "import pandas as pd # data processing, CSV file I/O (e.g. pd.read_csv)\n",
        "import kagglegym\n",
        "import random\n",
        "from sklearn import ensemble, linear_model, metrics\n",
        "import matplotlib.pyplot as plt\n",
        "from statsmodels.tsa.arima_model import ARIMA \n",
        "import dateutil.parser as parser\n",
        "from statsmodels import tsa\n",
        "\n",
        "import seaborn as sns\n",
        "%matplotlib inline\n",
        "plt.style.use('classic')\n",
        "\n",
        "sns.set()\n",
        "\n",
        "# Input data files are available in the \"../input/\" directory.\n",
        "# For example, running this (by clicking run or pressing Shift+Enter) will list the files in the input directory\n",
        "\n",
        "from subprocess import check_output\n",
        "print(check_output([\"ls\", \"../input\"]).decode(\"utf8\"))\n",
        "\n",
        "# Any results you write to the current directory are saved as output."
      ]
    },
    {
      "cell_type": "code",
      "execution_count": null,
      "metadata": {
        "_cell_guid": "fa6e1f72-bcbb-cf9c-beed-20334e639eca"
      },
      "outputs": [],
      "source": [
        "env = kagglegym.make()\n",
        "o = env.reset()\n",
        "train = o.train  #train dataset - the first half of the full dataframe\n",
        "print(train.shape) #print shape"
      ]
    },
    {
      "cell_type": "code",
      "execution_count": null,
      "metadata": {
        "_cell_guid": "4165c3ee-0006-255d-5ae1-9acc6502241c"
      },
      "outputs": [],
      "source": [
        "#Courtesy Jeff Moser https://www.kaggle.com/jeffmoser/two-sigma-financial-modeling/kagglegym-api-overview\n",
        "with pd.HDFStore(\"../input/train.h5\", \"r\") as train1:\n",
        "    # Note that the \"train\" dataframe is the only dataframe in the file\n",
        "    df = train1.get(\"train\") #df is the complete dataframe"
      ]
    },
    {
      "cell_type": "code",
      "execution_count": null,
      "metadata": {
        "_cell_guid": "64ec1130-154f-23a5-dc29-9aae824cdb4f"
      },
      "outputs": [],
      "source": [
        "def findMatchedColumnsUsingPrefix(prefix, df):\n",
        "    columns = df.columns[df.columns.str.startswith(prefix)]\n",
        "    return list(columns.values)"
      ]
    },
    {
      "cell_type": "code",
      "execution_count": null,
      "metadata": {
        "_cell_guid": "779ebed8-3a62-236b-cd6d-3bee1d9127e8"
      },
      "outputs": [],
      "source": [
        "derived_columns = findMatchedColumnsUsingPrefix(\"derived\", df)\n",
        "fundamental_columns = findMatchedColumnsUsingPrefix(\"fundamental\", df)\n",
        "technical_columns = findMatchedColumnsUsingPrefix(\"technical\", df)\n",
        "\n",
        "print(\"There are {} derived columns\".format(len(derived_columns)))\n",
        "print(\"There are {} fundamental columns\".format(len(fundamental_columns)))\n",
        "print(\"There are {} technical columns\".format(len(technical_columns)))"
      ]
    },
    {
      "cell_type": "code",
      "execution_count": null,
      "metadata": {
        "_cell_guid": "dc573cc4-646f-3be1-2a9d-8bc18cd98b3f"
      },
      "outputs": [],
      "source": [
        "#Thanks to Chase:\n",
        "#https://www.kaggle.com/chaseos/two-sigma-financial-modeling/understanding-id-and-timestamp\n",
        "# id counts w.r.t time\n",
        "temp = train.groupby('timestamp').apply(lambda x: x['id'].nunique())#Also can use count() \n",
        "len(train)\n",
        "#as we know the\n",
        "#id is unique for a timstamp\n",
        "plt.figure(figsize=(8,4))\n",
        "plt.plot(temp, color=\"red\")\n",
        "plt.xlabel('timestamp')\n",
        "plt.ylabel('id count')\n",
        "plt.title('Number of ids over time')"
      ]
    },
    {
      "cell_type": "code",
      "execution_count": null,
      "metadata": {
        "_cell_guid": "a77fd80b-5084-31c9-bd35-bb6f91f9ca0a"
      },
      "outputs": [],
      "source": [
        "# lifespan of each id\n",
        "temp = train.groupby('id').apply(len)\n",
        "temp = temp.sort_values()\n",
        "temp = temp.reset_index()\n",
        "plt.figure(figsize=(8,4))\n",
        "plt.plot(temp[0], color=\"blue\")\n",
        "plt.xlabel('index for each id sorted by number of timestamps')\n",
        "plt.ylabel('number of timestamps')\n",
        "plt.title('Number of timestamps (\"Lifespan\") for each id')\n",
        "print(temp[0].describe())"
      ]
    },
    {
      "cell_type": "code",
      "execution_count": null,
      "metadata": {
        "_cell_guid": "fe9d6ef2-3c14-def7-48b2-d11d60d08256"
      },
      "outputs": [],
      "source": [
        "byTS=train.pivot(index='timestamp', columns='id', values='y')\n",
        "byTS.fillna(0,inplace=True)\n",
        "byTS\n",
        "#Reset index so that 'timestamp' is a column \n",
        "byTS.reset_index(level=0,inplace=True)\n",
        "byTS.timestamp"
      ]
    },
    {
      "cell_type": "code",
      "execution_count": null,
      "metadata": {
        "_cell_guid": "b99091e6-df91-c8dc-42ff-f79f1545b61b"
      },
      "outputs": [],
      "source": [
        "datestart = '2010-01-01'\n",
        "dateend = '2013-06-21'\n",
        "timeperiods = len(byTS)\n",
        "\n",
        "\n",
        "dayse=pd.date_range(datestart, freq='B', periods=timeperiods)\n",
        "dayse"
      ]
    },
    {
      "cell_type": "code",
      "execution_count": null,
      "metadata": {
        "_cell_guid": "42a37e46-6b61-b280-a377-11c46ee7d990"
      },
      "outputs": [],
      "source": [
        "byTS.datetime = pd.to_datetime(dayse,unit='B',errors='coerce')\n",
        "byTS"
      ]
    },
    {
      "cell_type": "code",
      "execution_count": null,
      "metadata": {
        "_cell_guid": "ffe44dc8-b3a5-403c-fed6-2e38a1d5394e"
      },
      "outputs": [],
      "source": [
        "TSdict={}\n",
        "\n",
        "#history = [x for x in train]\n",
        "for pos,col in enumerate(byTS.columns[1:]):\n",
        "    ps = pd.Series(byTS[col].values,index=byTS.datetime)\n",
        "    #TS.append(ps)\n",
        "     \n",
        "    TSdict[int(col)] = ps\n",
        "TSdict\n",
        "TSdict[25]"
      ]
    },
    {
      "cell_type": "code",
      "execution_count": null,
      "metadata": {
        "_cell_guid": "b9120b3d-9e11-2e7f-2397-32246bbbe74a"
      },
      "outputs": [],
      "source": [
        "from statsmodels.tsa import stattools as stt \n",
        "def is_stationary(df, maxlag=15, autolag=None, regression='ct'): \n",
        "    \"\"\"Run the Augmented Dickey-Fuller test from Statsmodels \n",
        "    and print output. \n",
        "    \"\"\" \n",
        "    outpt = stt.adfuller(df,maxlag=maxlag, autolag=autolag, \n",
        "                         regression=regression) \n",
        "    print('adf\\t\\t {0:.3f}'.format(outpt[0])) \n",
        "    print('p\\t\\t {0:.3g}'.format(outpt[1])) \n",
        "    print('crit. val.\\t 1%: {0:.3f}, 5%: {1:.3f}, 10%: {2:.3f}'.format(outpt[4][\"1%\"], outpt[4][\"5%\"], outpt[4][\"10%\"])) \n",
        "    print('stationary?\\t {0}'.format(['true', 'false'][outpt[0]>outpt[4]['5%']])) \n",
        "    return outpt "
      ]
    },
    {
      "cell_type": "code",
      "execution_count": null,
      "metadata": {
        "_cell_guid": "6811b3a7-cf5a-c3f3-2e86-7d63cfc0192d"
      },
      "outputs": [],
      "source": [
        "TS=TSdict[25]\n",
        "diff1=is_stationary(TS.diff(1).dropna())        \n",
        "\n",
        "diff1"
      ]
    },
    {
      "cell_type": "code",
      "execution_count": null,
      "metadata": {
        "_cell_guid": "66069dc2-9ef5-ffe4-c017-77f11f06acae"
      },
      "outputs": [],
      "source": [
        "diff12=is_stationary(TS.diff(1).diff(12).dropna());\n",
        "diff12"
      ]
    },
    {
      "cell_type": "code",
      "execution_count": null,
      "metadata": {
        "_cell_guid": "67f86cf2-02cf-93a9-423c-6e79289d132f"
      },
      "outputs": [],
      "source": [
        "TSdict.keys()"
      ]
    },
    {
      "cell_type": "code",
      "execution_count": null,
      "metadata": {
        "_cell_guid": "c89fe0b0-5802-9ac0-9ee9-ebe2851da879"
      },
      "outputs": [],
      "source": [
        "from statsmodels.tsa.seasonal import seasonal_decompose\n",
        "def decomp(TS):\n",
        "    TS_decomp = seasonal_decompose(TS, freq=252)\n",
        "    TS_trend = TS_decomp.trend \n",
        "    TS_seasonal = TS_decomp.seasonal \n",
        "    TS_residual = TS_decomp.resid\n",
        "    ts = TS-TS_seasonal \n",
        "    tsdiff = ts.diff(1)\n",
        "    return ts"
      ]
    },
    {
      "cell_type": "code",
      "execution_count": null,
      "metadata": {
        "_cell_guid": "f2edecf0-781c-dda6-0115-0e803a881c6e"
      },
      "outputs": [],
      "source": [
        "def despine(axs):\n",
        "    # to be able to handle subplot grids\n",
        "    # it assumes the input is a list of \n",
        "    # axes instances, if it is not a list, \n",
        "    # it puts it in one\n",
        "    if type(axs) != type([]):\n",
        "        axs = [axs]\n",
        "    for ax in axs:\n",
        "        ax.yaxis.set_ticks_position('left')\n",
        "        ax.xaxis.set_ticks_position('bottom')\n",
        "        ax.spines['bottom'].set_position(('outward', 10))\n",
        "        ax.spines['left'].set_position(('outward', 10))"
      ]
    },
    {
      "cell_type": "code",
      "execution_count": null,
      "metadata": {
        "_cell_guid": "8948b42c-6ed2-cc27-c6a1-b5c7a78a2502"
      },
      "outputs": [],
      "source": [
        "import seaborn as sns\n",
        "ids_to_use=[557,1113,1136,2134]\n",
        "fig = plt.figure(figsize=(8, 20))\n",
        "plot_count = 0\n",
        "for id in ids_to_use:\n",
        "    TS = TSdict[id]\n",
        "    plot_count += 1\n",
        "    plt.subplot(4, 1, plot_count)\n",
        "    title_str = \"Differencing for Asset \" + str(id) + ':Stationary for 1 Period: {0} '.format(['true', 'false'][diff1[0]>diff1[4]['5%']]) \n",
        "   \n",
        "    title_str = title_str + ', and 12 Periods : {0} '.format(['true', 'false'][diff12[0]>diff12[4]['5%']])\n",
        "    TS.diff(1).plot(label='1 period', title=title_str, \n",
        "                      dashes=(15,5)) \n",
        "    TS.diff(1).diff(12).plot(label='1 and 12 period(s)', \n",
        "                               color='Coral') \n",
        "    plt.legend(loc='best') \n",
        "    despine(plt.gca()) \n",
        "    plt.xlabel('Date') \n",
        "plt.show()"
      ]
    },
    {
      "cell_type": "code",
      "execution_count": null,
      "metadata": {
        "_cell_guid": "1da04185-2386-e89b-5a59-2a7d40034477"
      },
      "outputs": [],
      "source": [
        "import dateutil.parser as parser\n",
        "from datetime import *; from dateutil.relativedelta import *\n",
        "dayse\n",
        "#Great discovery: Finally figured how to convert\n",
        "#pd.datatime to str of date\n",
        "str(TS.index[261])\n",
        "#begin =parser.parse(dayse[261]).year\n",
        "#end=parser.parse(dateend).year\n",
        "#dateend\n"
      ]
    },
    {
      "cell_type": "code",
      "execution_count": null,
      "metadata": {
        "_cell_guid": "35420adf-8991-25cf-a392-96f0f850c1e2"
      },
      "outputs": [],
      "source": [
        "def change_plot(ax):\n",
        "    despine(ax)\n",
        "    ax.locator_params(axis='y', nbins=5)\n",
        "    plt.setp(ax.get_xticklabels(), rotation=90, ha='center')"
      ]
    },
    {
      "cell_type": "code",
      "execution_count": null,
      "metadata": {
        "_cell_guid": "94c2ae69-1f3c-fab9-b363-5e5159c11f59"
      },
      "outputs": [],
      "source": [
        "from random import *\n",
        "from random import randint\n",
        "toPlot= sample(list(TSdict.keys()),4)\n",
        "plot_count=0\n",
        "for i in toPlot:\n",
        "    ts1=TSdict[i]\n",
        "    plot_count += 1\n",
        "    plt.figure(figsize=(9,4.5))\n",
        "    plt.subplot(4, 1, plot_count)\n",
        "    fig=plt.gcf()\n",
        "    plt.title( 'Y Values for ID: ' + str(i))\n",
        "    #plt.legend(loc='best')  \n",
        "    plt.plot(ts1)\n",
        "plt.show()"
      ]
    },
    {
      "cell_type": "code",
      "execution_count": null,
      "metadata": {
        "_cell_guid": "c9cb31f7-4487-3538-850f-4291de5094a8"
      },
      "outputs": [],
      "source": [
        "#plot forecast for model\n",
        "from statsmodels.tsa.seasonal import seasonal_decompose \n",
        "    \n",
        "#ids_to_use=[557,1113,1136,2134]\n",
        "ids_to_use=[25,568,852,1335,1872,2145]\n",
        "#fig = plt.figure(figsize=(8, 20))\n",
        "plot_count = 0\n",
        "for id in ids_to_use:\n",
        "    TS = TSdict[id]\n",
        "    #Tried different seasonalities of 5, 22, 66,132,264/260\n",
        "    TS_decomp = seasonal_decompose(TS, freq=264)\n",
        "    #TS_decomp = seasonal_decompose(TS, freq=5)\n",
        "    TS_trend = TS_decomp.trend \n",
        "    TS_seasonal = TS_decomp.seasonal \n",
        "    TS_residual = TS_decomp.resid\n",
        "    plt.figure(figsize=(7,4.5))\n",
        "    fig=plt.gcf()\n",
        "    fig.suptitle(\"Decomposition for Asset : \" + str(id) + \"(seasonality 264 days)\", fontsize=12)\n",
        "    plt.subplot(221)\n",
        "    plt.plot(TS, color='Green')\n",
        "    change_plot(plt.gca())\n",
        "    plt.title('Y Values', color='Green')\n",
        "    xl = plt.xlim()\n",
        "    yl = plt.ylim(-0.10,0.10)\n",
        "    \n",
        "    plt.subplot(222)\n",
        "    plt.plot(TS.index,TS_trend, \n",
        "         color='Coral')\n",
        "    change_plot(plt.gca())\n",
        "    plt.title('Trend', color='Coral')\n",
        "    plt.gca().yaxis.tick_right()\n",
        "    plt.gca().yaxis.set_label_position(\"right\")\n",
        "    plt.xlim(xl)\n",
        "    plt.ylim(yl)\n",
        "\n",
        "    plt.subplot(223)\n",
        "    plt.plot(TS.index,TS_seasonal, \n",
        "         color='SteelBlue')\n",
        "    change_plot(plt.gca())\n",
        "    plt.gca().xaxis.tick_top()\n",
        "    plt.gca().xaxis.set_major_formatter(plt.NullFormatter())\n",
        "    plt.xlabel('Seasonality', color='SteelBlue', labelpad=-20)\n",
        "    plt.xlim(xl)\n",
        "    plt.ylim((-0.1,0.1))\n",
        "\n",
        "    plt.subplot(224)\n",
        "    plt.plot(TS.index,TS_residual,\n",
        "        color='IndianRed')\n",
        "    change_plot(plt.gca())\n",
        "    plt.xlim(xl)\n",
        "    plt.gca().yaxis.tick_right()\n",
        "    plt.gca().yaxis.set_label_position(\"right\")\n",
        "    plt.gca().xaxis.tick_top()\n",
        "    plt.gca().xaxis.set_major_formatter(plt.NullFormatter())\n",
        "    plt.ylim((-0.1,0.1))\n",
        "    plt.xlabel('Residuals', color='IndianRed', labelpad=-20)\n",
        "    plt.tight_layout()\n",
        "    plt.subplots_adjust(hspace=0.55)\n",
        "    plt.subplots_adjust(top=0.85)\n",
        "    '''plot_count += 1\n",
        "    lax=plt.subplot(4, 1, plot_count)\n",
        "    lax.set_title(\"Timeseries ID: \" + str(id))\n",
        "    ts = decomp(TS)\n",
        "    model = ARIMA(ts, order=(1, 1, 0)) \n",
        "    #Look for the first element of next year\n",
        "    arres = model.fit()\n",
        "    arres.plot_predict(start=str(TS.index[523]), end=dateend, alpha=0.10) \n",
        "    plt.legend(loc='upper left') \n",
        "    despine(plt.gca()) \n",
        "    plt.xlabel('Year') \n",
        "    print(arres.aic, arres.bic)\n",
        "    '''\n",
        "\n",
        "    "
      ]
    },
    {
      "cell_type": "code",
      "execution_count": null,
      "metadata": {
        "_cell_guid": "c0e32b20-483c-8f2d-0617-15ce0005beb8"
      },
      "outputs": [],
      "source": [
        "import matplotlib.dates as mpldates\n",
        "ids_to_use=[2134,1113,1136,557]\n",
        "#fig = plt.figure(figsize=(8, 20))\n",
        "plot_count = 0\n",
        "for id in ids_to_use:\n",
        "    TS = TSdict[id]\n",
        "    fig = plt.figure(figsize=(5,1.5) )\n",
        "    \n",
        "    ax1 = fig.add_axes([0.1,0.1,0.6,0.9])\n",
        "    ax1.plot(TS-TS_trend, \n",
        "         color='Green', label='Detrended data')\n",
        "    ax1.plot(TS_seasonal, \n",
        "         color='Coral', label='Seasonal component')\n",
        "    kwrds=dict(lw=1.5, color='0.6', alpha=0.8)\n",
        "    d1 = pd.datetime(2011,1,3)\n",
        "    dd = pd.Timedelta('264 Days')\n",
        "    [ax1.axvline(d1+dd*i, dashes=(3,5),**kwrds) for i in range(4)]\n",
        "    d2 = pd.datetime(2010,5,1)\n",
        "    [ax1.axvline(d2+dd*i, dashes=(2,2),**kwrds) for i in range(4)]\n",
        "    ax1.set_ylim((-0.2,0.2))\n",
        "\n",
        "    ax1.locator_params(axis='y', nbins=4)\n",
        "    ax1.set_xlabel('Year')\n",
        "    ax1.set_title('Y Seasonality for Asset : ' + str(id))\n",
        "    ax1.set_ylabel('Y')\n",
        "    ax1.legend(loc=0, ncol=2, frameon=True);\n",
        "\n",
        "    ax2 = fig.add_axes([0.8,0.1,0.4,0.9])\n",
        "    ax2.plot(TS_seasonal['2010':'2010'], \n",
        "         color='Coral', label='Seasonal component')\n",
        "    ax2.set_ylim((-0.2,0.2))\n",
        "    [ax2.axvline(d1+dd*i, dashes=(3,5),**kwrds) for i in range(1)]\n",
        "    d2 = pd.datetime(2010,5,1)\n",
        "    [ax2.axvline(d2+dd*i, dashes=(2,2),**kwrds) for i in range(1)]\n",
        "    despine([ax1, ax2])\n",
        "    \n",
        "    yrsfmt = mpldates.DateFormatter('%b')\n",
        "    ax2.xaxis.set_major_formatter(yrsfmt)\n",
        "    labels = ax2.get_xticklabels()\n",
        "    plt.setp(labels, rotation=90);\n",
        "    \n",
        "plt.show()"
      ]
    },
    {
      "cell_type": "code",
      "execution_count": null,
      "metadata": {
        "_cell_guid": "c90df28a-4f42-23c6-0433-3113beb17042"
      },
      "outputs": [],
      "source": [
        "#for id 557\n",
        "TS_seasonal_component = TS_seasonal['2010'].values\n",
        "TS_residual.dropna(inplace=True)\n",
        "is_stationary(TS_residual);"
      ]
    },
    {
      "cell_type": "code",
      "execution_count": null,
      "metadata": {
        "_cell_guid": "8d535fba-ed06-9dc3-25ea-7c713ffc9a9f"
      },
      "outputs": [],
      "source": [
        "import scipy.stats as st\n",
        "loc, shape = st.norm.fit(TS_residual)\n",
        "print(shape)"
      ]
    },
    {
      "cell_type": "code",
      "execution_count": null,
      "metadata": {
        "_cell_guid": "8883ea8b-84e8-d9ac-139a-300a30482c3c"
      },
      "outputs": [],
      "source": [
        "import scipy.stats as st\n",
        "axes=plt.gca()\n",
        "loc, shape = st.norm.fit(TS_residual)\n",
        "axes.set_ylim([0,52])\n",
        "axes.set_xlim([-0.035,0.035])\n",
        "#x=range(-0.8,0.8)\n",
        "x=0.065\n",
        "y = st.norm.pdf(x, loc, shape)\n",
        "n, bins, patches = plt.hist(TS_residual, bins=20, normed=True)\n",
        "plt.plot(x,y, color='Coral')\n",
        "despine(axes)\n",
        "plt.title('Residuals for ID : ' + str(557))\n",
        "plt.xlabel('Value'); \n",
        "plt.ylabel('Counts');"
      ]
    },
    {
      "cell_type": "code",
      "execution_count": null,
      "metadata": {
        "_cell_guid": "5dbaf1a0-217a-8a57-ae1f-57a37ed49f05"
      },
      "outputs": [],
      "source": [
        "TS.diff(1).plot(label='1 period', title='Y Values for Asset ID : ' + str(557))\n",
        "plt.legend(loc='best')\n",
        "despine(plt.gca())"
      ]
    },
    {
      "cell_type": "code",
      "execution_count": null,
      "metadata": {
        "_cell_guid": "47fadb4d-b709-cb6d-585c-8d229fc7a9b2"
      },
      "outputs": [],
      "source": [
        "is_stationary(TS.diff(1).dropna());"
      ]
    },
    {
      "cell_type": "code",
      "execution_count": null,
      "metadata": {
        "_cell_guid": "51b4d2f7-8b89-95e3-934b-615d2f705037"
      },
      "outputs": [],
      "source": [
        "title_str = \"Differencing for Asset \" + str(557) + ':Stationary for 1 Period: {0} '.format(['true', 'false'][diff1[0]>diff1[4]['5%']]) \n",
        "   \n",
        "title_str = title_str + ', and 12 Periods : {0} '.format(['true', 'false'][diff12[0]>diff12[4]['5%']])\n",
        "\n",
        "TS.diff(1).plot(label='1 period', title=title_str,\n",
        "                      dashes=(15,5))\n",
        "TS.diff(1).diff(12).plot(label='1 and 12 period(s)',\n",
        "                               color='Coral')\n",
        "plt.legend(loc='best')\n",
        "despine(plt.gca())\n",
        "plt.xlabel('Date')"
      ]
    },
    {
      "cell_type": "code",
      "execution_count": null,
      "metadata": {
        "_cell_guid": "a1dc9997-c00d-37f9-a2d8-bfabc26d8d74"
      },
      "outputs": [],
      "source": [
        "is_stationary(TS.diff(1).diff(12).dropna());"
      ]
    },
    {
      "cell_type": "code",
      "execution_count": null,
      "metadata": {
        "_cell_guid": "b13948da-965c-2484-ac4d-6c08969e2d3f"
      },
      "outputs": [],
      "source": [
        "is_stationary((TS-TS_seasonal).diff(1).dropna());"
      ]
    },
    {
      "cell_type": "code",
      "execution_count": null,
      "metadata": {
        "_cell_guid": "5ff0d302-5c93-4545-40d3-6bb06b9c26dc"
      },
      "outputs": [],
      "source": [
        "ts =TS-TS_seasonal\n",
        "tsdiff = ts.diff(1)\n",
        "plt.plot(tsdiff)"
      ]
    },
    {
      "cell_type": "markdown",
      "metadata": {
        "_cell_guid": "9148afff-37f8-1d2a-593a-c54979da17c8"
      },
      "source": [
        "AutoRegression Models\n",
        "---------------------"
      ]
    },
    {
      "cell_type": "code",
      "execution_count": null,
      "metadata": {
        "_cell_guid": "d95dcc46-635e-85c6-3ddb-e3fa5e582cf4"
      },
      "outputs": [],
      "source": [
        "model = ARIMA(ts, order=(1, 1, 0))  \n",
        "arres = model.fit()"
      ]
    },
    {
      "cell_type": "code",
      "execution_count": null,
      "metadata": {
        "_cell_guid": "84532d82-310c-caee-bf86-8d22dd8dacc5"
      },
      "outputs": [],
      "source": [
        "#Predict any number of days beyond 905 which is the last period in the train set\n",
        "endd=str(TS.index[905]+10)\n",
        "arres.plot_predict(start=str(TS.index[532]), end=endd, alpha=0.10)\n",
        "plt.legend(loc='upper left')\n",
        "print(arres.aic, arres.bic)"
      ]
    },
    {
      "cell_type": "markdown",
      "metadata": {
        "_cell_guid": "4fbdc5dd-f472-76d3-c715-0ba80f70d5da"
      },
      "source": [
        "Moving average model - MA\n",
        "-------------------------"
      ]
    },
    {
      "cell_type": "code",
      "execution_count": null,
      "metadata": {
        "_cell_guid": "1c63f37d-e89a-c6ed-03b1-52dc5a262347"
      },
      "outputs": [],
      "source": [
        "model = ARIMA(ts, order=(0, 1, 1))  \n",
        "mares = model.fit() \n",
        "mares.plot_predict(str(TS.index[532]), end=endd, alpha=0.10)\n",
        "plt.legend(loc='upper left');\n",
        "print(mares.aic, mares.bic)"
      ]
    },
    {
      "cell_type": "markdown",
      "metadata": {
        "_cell_guid": "44bb6404-ff43-08d0-b2fe-fadc8e2ba2c7"
      },
      "source": [
        "#Selecting p and q\n",
        "\n"
      ]
    },
    {
      "cell_type": "code",
      "execution_count": null,
      "metadata": {
        "_cell_guid": "5f785435-df87-37b0-174f-be7eef8a08a2"
      },
      "outputs": [],
      "source": [
        "tsa.stattools.arma_order_select_ic(tsdiff.dropna(), max_ar=3, max_ma=3, ic='aic')\n",
        "acf = stt.acf(tsdiff.dropna(), nlags=10)\n",
        "pacf = stt.pacf(tsdiff.dropna(), nlags=10)"
      ]
    },
    {
      "cell_type": "code",
      "execution_count": null,
      "metadata": {
        "_cell_guid": "100a96aa-ce6b-9f96-d098-35968d1b36bf"
      },
      "outputs": [],
      "source": [
        "fig, (ax1, ax2) = plt.subplots(1,2, figsize=(8,2))\n",
        "ax1.axhline(y=0,color='gray')\n",
        "ax1.axhline(y=-1.96/np.sqrt(len(ts)),linestyle='--',color='gray')\n",
        "ax1.axhline(y=1.96/np.sqrt(len(ts)),linestyle='--',color='gray')\n",
        "ax1.axvline(x=1,ls=':',color='gray')\n",
        "ax1.plot(acf)\n",
        "ax1.set_title('ACF')\n",
        "\n",
        "ax2.axhline(y=0,color='gray')\n",
        "ax2.axhline(y=-1.96/np.sqrt(len(ts)),linestyle='--',color='gray')\n",
        "ax2.axhline(y=1.96/np.sqrt(len(ts)),linestyle='--',color='gray')\n",
        "ax2.axvline(x=1,ls=':',color='gray')\n",
        "ax2.plot(pacf)\n",
        "ax2.set_title('PACF')\n",
        "\n",
        "despine([ax1,ax2])"
      ]
    },
    {
      "cell_type": "markdown",
      "metadata": {
        "_cell_guid": "f2c008f7-7c66-28c3-0531-754e819f4689"
      },
      "source": [
        "\n",
        "##ARIMA Models##"
      ]
    },
    {
      "cell_type": "code",
      "execution_count": null,
      "metadata": {
        "_cell_guid": "9da420e1-da51-ad33-5e2f-a5f43b14253f"
      },
      "outputs": [],
      "source": [
        "\n",
        "#ARIMA\n",
        "model = ARIMA(ts, order=(0, 0, 1))  \n",
        "arimares = model.fit()\n",
        "arimares.plot_predict(str(TS.index[262]), end=endd, alpha=0.10)\n",
        "plt.plot(tsdiff)\n",
        "plt.legend(loc='upper left');\n",
        "print(arimares.aic, arimares.bic)"
      ]
    }
  ],
  "metadata": {
    "_change_revision": 0,
    "_is_fork": false,
    "kernelspec": {
      "display_name": "Python 3",
      "language": "python",
      "name": "python3"
    },
    "language_info": {
      "codemirror_mode": {
        "name": "ipython",
        "version": 3
      },
      "file_extension": ".py",
      "mimetype": "text/x-python",
      "name": "python",
      "nbconvert_exporter": "python",
      "pygments_lexer": "ipython3",
      "version": "3.6.0"
    }
  },
  "nbformat": 4,
  "nbformat_minor": 0
}