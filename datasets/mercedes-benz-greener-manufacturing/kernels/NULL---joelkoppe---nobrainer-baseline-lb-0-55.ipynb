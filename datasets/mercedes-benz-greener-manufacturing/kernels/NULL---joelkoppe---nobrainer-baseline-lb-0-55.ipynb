{
  "cells": [
    {
      "cell_type": "markdown",
      "metadata": {
        "_cell_guid": "da4ea9d9-50ac-d3b7-59b7-235e77d141f5"
      },
      "source": [
        "This notebook gives a nobrainer baseline"
      ]
    },
    {
      "cell_type": "code",
      "execution_count": null,
      "metadata": {
        "_cell_guid": "a2be56ee-9d21-b397-3ac1-10cf086fe671"
      },
      "outputs": [],
      "source": [
        "# Init\n",
        "import pandas as pd\n",
        "import matplotlib as plt\n",
        "import numpy as np\n",
        "from sklearn.model_selection import train_test_split \n",
        "from sklearn.ensemble import RandomForestRegressor"
      ]
    },
    {
      "cell_type": "code",
      "execution_count": null,
      "metadata": {
        "_cell_guid": "134478f6-4b70-7ac9-7cf7-d0c0824ed7bf"
      },
      "outputs": [],
      "source": [
        "# Get files\n",
        "train= pd.read_csv('../input/train.csv')\n",
        "test= pd.read_csv('../input/test.csv')"
      ]
    },
    {
      "cell_type": "markdown",
      "metadata": {
        "_cell_guid": "75147842-d139-fe45-b714-46d42c5c875a"
      },
      "source": [
        "Get the numeric columns"
      ]
    },
    {
      "cell_type": "code",
      "execution_count": null,
      "metadata": {
        "_cell_guid": "9b2c3066-517e-2fbb-6419-d189e6caccdd"
      },
      "outputs": [],
      "source": [
        "numeric = train.select_dtypes(include=[np.number])"
      ]
    },
    {
      "cell_type": "markdown",
      "metadata": {
        "_cell_guid": "b1afd305-2953-c1dd-b97f-14001133a220"
      },
      "source": [
        "Change the categorical input into dummies"
      ]
    },
    {
      "cell_type": "code",
      "execution_count": null,
      "metadata": {
        "_cell_guid": "cecf583b-1a08-8262-a7fe-bc28516a0aa5"
      },
      "outputs": [],
      "source": [
        "string_var = train.select_dtypes(include=['object'])\n",
        "dummies =pd.get_dummies(string_var)"
      ]
    },
    {
      "cell_type": "markdown",
      "metadata": {
        "_cell_guid": "31590515-f912-8745-9716-1178f7a28d5b"
      },
      "source": [
        "Merge the numeric columns with the dummie-frame"
      ]
    },
    {
      "cell_type": "code",
      "execution_count": null,
      "metadata": {
        "_cell_guid": "9a17d61c-a3ce-b3c4-b5b5-bc298e8415c4"
      },
      "outputs": [],
      "source": [
        "train_new = numeric.join(dummies)"
      ]
    },
    {
      "cell_type": "markdown",
      "metadata": {
        "_cell_guid": "cb175592-0daf-02d7-3e9e-f68655a4ee89"
      },
      "source": [
        "Get all feature columns"
      ]
    },
    {
      "cell_type": "code",
      "execution_count": null,
      "metadata": {
        "_cell_guid": "f35050c5-b61f-c26b-aac9-7a3a64149cc9"
      },
      "outputs": [],
      "source": [
        "features = [col for col in list(train_new) if col.startswith('X')]"
      ]
    },
    {
      "cell_type": "markdown",
      "metadata": {
        "_cell_guid": "ceb26586-b105-f477-2935-b87bb6bef8c1"
      },
      "source": [
        "Split into train and test"
      ]
    },
    {
      "cell_type": "code",
      "execution_count": null,
      "metadata": {
        "_cell_guid": "bb266d2b-d60a-b7c4-4579-485ed97120bb"
      },
      "outputs": [],
      "source": [
        "x_train, x_test, y_train, y_test = train_test_split(train_new[features], train_new.y, train_size=0.7)"
      ]
    },
    {
      "cell_type": "code",
      "execution_count": null,
      "metadata": {
        "_cell_guid": "f93857d6-c588-51f8-adb8-938080d4fa9d"
      },
      "outputs": [],
      "source": [
        "clf = RandomForestRegressor(max_depth=3, n_estimators=100)\n",
        "clf.fit(x_train,y_train)\n",
        "print('Train score')\n",
        "print(clf.score(x_train, y_train))\n",
        "print('Test score')\n",
        "print(clf.score(x_test, y_test))"
      ]
    },
    {
      "cell_type": "markdown",
      "metadata": {
        "_cell_guid": "60e43c49-1b1d-a6f6-6fb7-030abb46afc7"
      },
      "source": [
        "Apply to test"
      ]
    },
    {
      "cell_type": "code",
      "execution_count": null,
      "metadata": {
        "_cell_guid": "d2b181c7-d487-0ac6-6ccf-ade9c0c92531"
      },
      "outputs": [],
      "source": [
        "numeric_test = test.select_dtypes(include=[np.number])\n",
        "\n",
        "string_var_test = test.select_dtypes(include=['object'])\n",
        "dummies_test =pd.get_dummies(string_var_test)\n",
        "\n",
        "test_new = numeric_test.join(dummies_test)"
      ]
    },
    {
      "cell_type": "markdown",
      "metadata": {
        "_cell_guid": "b7517b25-be4a-9c1f-ec51-e38da418a9e6"
      },
      "source": [
        "Check whether all trainfeatures  exist in testset."
      ]
    },
    {
      "cell_type": "code",
      "execution_count": null,
      "metadata": {
        "_cell_guid": "1690af70-3815-696f-5218-66f3eeae1b34"
      },
      "outputs": [],
      "source": [
        "not_in_test = list(set(train_new.columns).difference(test_new.columns))\n",
        "print(not_in_test)"
      ]
    },
    {
      "cell_type": "markdown",
      "metadata": {
        "_cell_guid": "5a8b7188-68b7-25da-0c6e-db12e92dd9da"
      },
      "source": [
        "Not all dummies present in the trainset exist in the testset. Lets add them as zero's for now."
      ]
    },
    {
      "cell_type": "code",
      "execution_count": null,
      "metadata": {
        "_cell_guid": "b0db4be5-6078-f55a-078f-6aafdf967763"
      },
      "outputs": [],
      "source": [
        "add = pd.DataFrame(0, index=np.arange(len(test_new)), columns=not_in_test)\n",
        "test_new = test_new.join(add)"
      ]
    },
    {
      "cell_type": "code",
      "execution_count": null,
      "metadata": {
        "_cell_guid": "157b5274-4f43-a5c3-a170-976e1585965b"
      },
      "outputs": [],
      "source": [
        "test_new['y'] = clf.predict(test_new[features])"
      ]
    },
    {
      "cell_type": "code",
      "execution_count": null,
      "metadata": {
        "_cell_guid": "61b78921-6f5b-4a37-4181-6a5e88326c26"
      },
      "outputs": [],
      "source": [
        "test_new[['ID', 'y']].to_csv('nobrainer_baseline.csv', index=False)"
      ]
    },
    {
      "cell_type": "markdown",
      "metadata": {
        "_cell_guid": "580b14a5-03ef-0e1b-3e4a-571e98063527"
      },
      "source": [
        "**Conclusion**\n",
        "\n",
        "Now we have a baseline, let's move on!\n",
        "\n",
        "Apparently not all dummies are useful, since some don't even occur in the testset! "
      ]
    }
  ],
  "metadata": {
    "_change_revision": 0,
    "_is_fork": false,
    "kernelspec": {
      "display_name": "Python 3",
      "language": "python",
      "name": "python3"
    },
    "language_info": {
      "codemirror_mode": {
        "name": "ipython",
        "version": 3
      },
      "file_extension": ".py",
      "mimetype": "text/x-python",
      "name": "python",
      "nbconvert_exporter": "python",
      "pygments_lexer": "ipython3",
      "version": "3.6.0"
    }
  },
  "nbformat": 4,
  "nbformat_minor": 0
}