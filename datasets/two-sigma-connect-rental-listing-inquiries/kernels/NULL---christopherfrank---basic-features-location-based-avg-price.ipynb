{
  "cells": [
    {
      "cell_type": "markdown",
      "metadata": {
        "_cell_guid": "7ce2a6bb-6dd6-ce24-4018-1951198ac6ec"
      },
      "source": [
        "Basic Features + Location Cells with Avg Location Price\n",
        "\n",
        "My best LB score so far comes from a few basic features that were mentioned in these forums (# photos, # features, # description words, price per room) and then my idea of a relative price per room vs the location's avg price per room.\n",
        "\n",
        "To build this concept I first rounded off the latitude and longitude to 2 decimal places.  Then combined them into a tuple of (xx.xx, xx.xx) which gave me about 450 unique locations.  I then calculated the mean price per room rate for each location.  Using this I got a ratio of each listing's price per room vs the avg price per room of the location.\n",
        "\n",
        "I then encoded some features and ran a random forest.\n",
        "\n",
        "This is my first kernel, please point out anything you feel I could have done better or why/why not this feature wouldn't work."
      ]
    },
    {
      "cell_type": "code",
      "execution_count": null,
      "metadata": {
        "_cell_guid": "84aa889b-9e12-0ad2-6eea-c18ae9aafe73"
      },
      "outputs": [],
      "source": [
        "import numpy as np \n",
        "import pandas as pd\n",
        "\n",
        "#Load Data\n",
        "train_df = pd.read_json('../input/train.json')\n",
        "test_df = pd.read_json('../input/test.json')"
      ]
    },
    {
      "cell_type": "code",
      "execution_count": null,
      "metadata": {
        "_cell_guid": "4c983b3a-d647-78d6-0f31-a201d2107faf"
      },
      "outputs": [],
      "source": [
        "#Price vs Loc Avg\n",
        "def add_price_vs_loc_avg(df):\n",
        "    '''(DataFrame) -> DataFrame\n",
        " \n",
        "    Will add 'PricePerRoomVsLocAvg' to the current DataFrame.\n",
        "    '''\n",
        "    #Build Location area\n",
        "    df['lat_round'] = df.apply(lambda x : round(x['latitude'],2), axis=1)\n",
        "    df['lon_round'] = df.apply(lambda x : round(x['longitude'],2), axis=1)\n",
        "    df['loc'] = df.apply(lambda x : tuple([x['lat_round'], x['lon_round']]), axis=1)\n",
        "    #Calculate Avg PricePerRoom for each Location\n",
        "    df['AvgLocPricePerRoom'] = df.apply(lambda x: df['PricePerRoom'][df['loc']==x['loc']].mean(), axis=1)\n",
        "    #Get Ratio\n",
        "    df['PricePerRoomVsLocAvg'] = df['PricePerRoom'] / df['AvgLocPricePerRoom']\n",
        "    return df"
      ]
    },
    {
      "cell_type": "code",
      "execution_count": null,
      "metadata": {
        "_cell_guid": "7d74208c-63b8-bbb8-3c8f-f53d8217ea78"
      },
      "outputs": [],
      "source": [
        "#Add Features\n",
        "def add_features(df):\n",
        "    '''(DataFrame) -> DataFrame\n",
        "    \n",
        "    Will add new features to the current DataFrame.\n",
        "    '''\n",
        "    #Create # of Photos Column\n",
        "    df['NumPhotos'] = df.photos.str.len()\n",
        "    #Create # of Features Column\n",
        "    df['NumFeatures'] = df.features.str.len()\n",
        "    df['NumDescription'] = df.description.str.len()\n",
        "    #Total Rooms\n",
        "    df['TotalRooms'] = df['bathrooms'] + df['bedrooms']\n",
        "    #Room / Price\n",
        "    #Add one too all -assume every apartment is at least 1 room (studios)\n",
        "    #Is adding 1 a safe way to get around divide by 0?\n",
        "    df['PricePerRoom'] = df['price'] / (df['TotalRooms'] + 1.0)\n",
        "    df['PricePerBedRoom'] = df['price'] / (df['bedrooms'] + 1.0)\n",
        "    #Add Price vs Loc\n",
        "    df = add_price_vs_loc_avg(df)\n",
        "    return df"
      ]
    },
    {
      "cell_type": "code",
      "execution_count": null,
      "metadata": {
        "_cell_guid": "d14580ee-1292-4772-d671-07b93dbaf26b"
      },
      "outputs": [],
      "source": [
        "#Add the features to data - this cell will take a bit of time to process\n",
        "train_df = add_features(train_df)\n",
        "test_df = add_features(test_df)"
      ]
    },
    {
      "cell_type": "code",
      "execution_count": null,
      "metadata": {
        "_cell_guid": "a21f0657-70da-ce71-b50c-ef63fe141bac"
      },
      "outputs": [],
      "source": [
        "#Encode text features\n",
        "from sklearn.preprocessing import LabelEncoder\n",
        "\n",
        "#Combine the train and test columns\n",
        "manager_combo = train_df['manager_id'].append(test_df['manager_id'])\n",
        "building_combo = train_df['building_id'].append(test_df['building_id'])\n",
        "loc_combo = train_df['loc'].append(test_df['loc'])\n",
        "#Encode building_id\n",
        "le_building = LabelEncoder()\n",
        "le_building.fit(building_combo)\n",
        "#Transform Train & Test set\n",
        "train_df['BuildingID'] = le_building.transform(train_df['building_id'])\n",
        "test_df['BuildingID'] = le_building.transform(test_df['building_id'])\n",
        "#Encode manager_id\n",
        "le_manager = LabelEncoder()\n",
        "le_manager.fit(manager_combo)\n",
        "#Transform Train & Test set\n",
        "train_df['ManagerID'] = le_manager.transform(train_df['manager_id'])\n",
        "test_df['ManagerID'] = le_manager.transform(test_df['manager_id'])\n",
        "#Encode loc\n",
        "le_loc = LabelEncoder()\n",
        "le_loc.fit(loc_combo)\n",
        "#Transform Train & Test set\n",
        "train_df['LocID'] = le_loc.transform(train_df['loc'])\n",
        "test_df['LocID'] = le_loc.transform(test_df['loc'])"
      ]
    },
    {
      "cell_type": "code",
      "execution_count": null,
      "metadata": {
        "_cell_guid": "d8add79e-2d0b-1a45-1af0-3e69b0e1070d"
      },
      "outputs": [],
      "source": [
        "train_df.head()"
      ]
    },
    {
      "cell_type": "code",
      "execution_count": null,
      "metadata": {
        "_cell_guid": "db69dedc-6b2e-eae0-1c23-9a929fc1fa4f"
      },
      "outputs": [],
      "source": [
        "test_df.head()"
      ]
    },
    {
      "cell_type": "code",
      "execution_count": null,
      "metadata": {
        "_cell_guid": "bf6c2f7c-ac22-01ab-3894-fc8937730e60"
      },
      "outputs": [],
      "source": [
        "#Select features\n",
        "feature_cols = ['price', 'PricePerRoom', 'PricePerRoomVsLocAvg', 'BuildingID', 'NumDescription', 'ManagerID', 'NumPhotos',\n",
        "               'NumFeatures', 'latitude', 'longitude', 'bedrooms', 'bathrooms']\n",
        "\n",
        "#Prepare data for ML\n",
        "X_train = train_df[feature_cols].values\n",
        "X_test = test_df[feature_cols].values\n",
        "\n",
        "#Encode 'interest_level' to numerical\n",
        "le_interest = LabelEncoder()\n",
        "train_df['IL'] = le_interest.fit_transform(train_df['interest_level'])\n",
        "#Set Train Y\n",
        "Y = train_df['IL'].values"
      ]
    },
    {
      "cell_type": "code",
      "execution_count": null,
      "metadata": {
        "_cell_guid": "ec99365e-8804-70ee-8628-ed6a51848de9"
      },
      "outputs": [],
      "source": [
        "#Cross-Validate\n",
        "from sklearn.ensemble import RandomForestClassifier\n",
        "from sklearn.model_selection import KFold, cross_val_score\n",
        "\n",
        "#Initialize Model\n",
        "rf = RandomForestClassifier(n_estimators=1000, min_samples_split=20, criterion='entropy', n_jobs=-1)\n",
        "#Create KFold\n",
        "kfold = KFold(n_splits=5, random_state=5)\n",
        "cross_val_results = cross_val_score(rf, X_train, Y, cv=kfold, scoring='neg_log_loss')\n",
        "print(cross_val_results.mean())"
      ]
    },
    {
      "cell_type": "code",
      "execution_count": null,
      "metadata": {
        "_cell_guid": "a7abe77f-9d06-5c48-ceb0-823eb617ecf0"
      },
      "outputs": [],
      "source": [
        "#Train RandomForest on more estimators\n",
        "#Submit"
      ]
    },
    {
      "cell_type": "markdown",
      "metadata": {
        "_cell_guid": "550dcc9b-bc35-5e1f-ea87-07e2dbdb435e"
      },
      "source": [
        "The random forest parameters I found using grid search.   The features I selected here was a bit of trial and error looking at feature importance.  I don't show the trial and error here because I don't think it is necessary to.\n",
        "\n",
        "My current best submission using these features and a random forest scored 0.59337 on LB. "
      ]
    }
  ],
  "metadata": {
    "_change_revision": 0,
    "_is_fork": false,
    "kernelspec": {
      "display_name": "Python 3",
      "language": "python",
      "name": "python3"
    },
    "language_info": {
      "codemirror_mode": {
        "name": "ipython",
        "version": 3
      },
      "file_extension": ".py",
      "mimetype": "text/x-python",
      "name": "python",
      "nbconvert_exporter": "python",
      "pygments_lexer": "ipython3",
      "version": "3.6.0"
    }
  },
  "nbformat": 4,
  "nbformat_minor": 0
}