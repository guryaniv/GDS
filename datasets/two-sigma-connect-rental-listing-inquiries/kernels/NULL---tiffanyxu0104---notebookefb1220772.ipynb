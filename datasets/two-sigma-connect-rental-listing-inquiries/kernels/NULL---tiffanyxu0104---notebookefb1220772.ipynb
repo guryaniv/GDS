{
  "cells": [
    {
      "cell_type": "markdown",
      "metadata": {
        "_cell_guid": "bd979f80-a5e2-288a-670e-d6d1db5e690d"
      },
      "source": ""
    },
    {
      "cell_type": "code",
      "execution_count": null,
      "metadata": {
        "_cell_guid": "f0c9aadf-b067-a542-074c-cde44bbcb13e"
      },
      "outputs": [],
      "source": [
        "import numpy as np\n",
        "import pandas as pd\n",
        "from scipy import sparse\n",
        "import xgboost as xgb\n",
        "import random\n",
        "from sklearn import model_selection, preprocessing, ensemble\n",
        "from sklearn.metrics import log_loss\n",
        "from sklearn.feature_extraction.text import TfidfVectorizer, CountVectorizer"
      ]
    },
    {
      "cell_type": "code",
      "execution_count": null,
      "metadata": {
        "_cell_guid": "8ad7e15c-5b11-74a7-2ac7-2e2aa0ed0ad3"
      },
      "outputs": [],
      "source": [
        "train_df = pd.read_json(\"../input/train.json\")\n",
        "test_df = pd.read_json(\"../input/test.json\")"
      ]
    },
    {
      "cell_type": "code",
      "execution_count": null,
      "metadata": {
        "_cell_guid": "1240c9ad-7499-b6a5-f843-5a58cdccf3f6"
      },
      "outputs": [],
      "source": [
        "#define function for XGB model running\n",
        "def runXGB(train_X, train_y, test_X, test_y=None, feature_names=None, seed_val=0, num_rounds=2000):\n",
        "    param = {}\n",
        "    param['objective'] = 'multi:softprob'\n",
        "    param['eta'] = 0.02\n",
        "    param['max_depth'] = 6\n",
        "    param['silent'] = 1\n",
        "    param['num_class'] = 3\n",
        "    param['eval_metric'] = \"mlogloss\"\n",
        "    param['min_child_weight'] = 1\n",
        "    param['subsample'] = 0.7\n",
        "    param['colsample_bytree'] = 0.7\n",
        "    param['seed'] = seed_val\n",
        "    num_rounds = num_rounds\n",
        "\n",
        "    plst = list(param.items())\n",
        "    xgtrain = xgb.DMatrix(train_X, label=train_y)\n",
        "\n",
        "    if test_y is not None:\n",
        "        xgtest = xgb.DMatrix(test_X, label=test_y)\n",
        "        watchlist = [ (xgtrain,'train'), (xgtest, 'test') ]\n",
        "        model = xgb.train(plst, xgtrain, num_rounds, watchlist, early_stopping_rounds=20)\n",
        "    else:\n",
        "        xgtest = xgb.DMatrix(test_X)\n",
        "        model = xgb.train(plst, xgtrain, num_rounds)\n",
        "\n",
        "    pred_test_y = model.predict(xgtest)\n",
        "    return pred_test_y, model\n"
      ]
    },
    {
      "cell_type": "markdown",
      "metadata": {
        "_cell_guid": "e359094e-a560-3903-86b7-b58e83fe9587"
      },
      "source": [
        "#Feature Engineering"
      ]
    },
    {
      "cell_type": "code",
      "execution_count": null,
      "metadata": {
        "_cell_guid": "f65d75e7-a682-7112-b19f-19f0fdf626cf"
      },
      "outputs": [],
      "source": [
        "#Badroom and Bathroom\n",
        "train_df[\"price_per_bedroom\"] =train_df[\"price\"]/train_df[\"bedrooms\"]\n",
        "test_df[\"price_per_bedroom\"] = test_df[\"price\"]/test_df[\"bedrooms\"] \n",
        "\n",
        "train_df[\"room_sum\"] = train_df[\"bedrooms\"]+train_df[\"bathrooms\"] \n",
        "test_df[\"room_sum\"] = test_df[\"bedrooms\"]+test_df[\"bathrooms\"] \n"
      ]
    },
    {
      "cell_type": "code",
      "execution_count": null,
      "metadata": {
        "_cell_guid": "d6043b83-5c6b-c982-9325-eff3a92e285d"
      },
      "outputs": [],
      "source": [
        "#Number of Photos\n",
        "train_df[\"num_photos\"] = train_df[\"photos\"].apply(len)\n",
        "test_df[\"num_photos\"] = test_df[\"photos\"].apply(len)"
      ]
    },
    {
      "cell_type": "code",
      "execution_count": null,
      "metadata": {
        "_cell_guid": "da3b0108-b4b7-7762-76f7-2e5947dac582"
      },
      "outputs": [],
      "source": [
        "#Number of Features\n",
        "train_df[\"num_features\"] = train_df[\"features\"].apply(len)\n",
        "test_df[\"num_features\"] = test_df[\"features\"].apply(len)\n"
      ]
    },
    {
      "cell_type": "code",
      "execution_count": null,
      "metadata": {
        "_cell_guid": "36bf230f-e6dd-4828-a676-a38cf1825d41"
      },
      "outputs": [],
      "source": [
        "# count of words present in description column #\n",
        "train_df[\"num_description_words\"] = train_df[\"description\"].apply(lambda x: len(x.split(\" \")))\n",
        "test_df[\"num_description_words\"] = test_df[\"description\"].apply(lambda x: len(x.split(\" \")))\n"
      ]
    },
    {
      "cell_type": "code",
      "execution_count": null,
      "metadata": {
        "_cell_guid": "60009d6b-6d88-c2f5-6ef5-d22be89c0cbc"
      },
      "outputs": [],
      "source": [
        "# create time, interval time from since the list created\n",
        "train_df[\"created\"] = pd.to_datetime(train_df[\"created\"])\n",
        "train_df[\"passed\"] = train_df[\"created\"].max() - train_df[\"created\"]\n",
        "train_df[\"passed\"] = train_df[\"passed\"].dt.days\n",
        "\n",
        "test_df[\"created\"] = pd.to_datetime(test_df[\"created\"])\n",
        "test_df[\"passed\"] = test_df[\"created\"].max() - test_df[\"created\"]\n",
        "test_df[\"passed\"] = test_df[\"passed\"].dt.days\n",
        "\n",
        "train_df[\"created_year\"] = train_df[\"created\"].dt.year\n",
        "test_df[\"created_year\"] = test_df[\"created\"].dt.year\n",
        "train_df[\"created_month\"] = train_df[\"created\"].dt.month\n",
        "test_df[\"created_month\"] = test_df[\"created\"].dt.month\n",
        "train_df[\"created_day\"] = train_df[\"created\"].dt.day\n",
        "test_df[\"created_day\"] = test_df[\"created\"].dt.day\n",
        "train_df[\"created_hour\"] = train_df[\"created\"].dt.hour\n",
        "test_df[\"created_hour\"] = test_df[\"created\"].dt.hour\n"
      ]
    },
    {
      "cell_type": "code",
      "execution_count": null,
      "metadata": {
        "_cell_guid": "8842b4cd-bb42-26d0-676f-5f72a9283243"
      },
      "outputs": [],
      "source": [
        "# Rate by Level for Manager_id\n",
        "nrow = train_df.shape[0]\n",
        "manager = train_df.groupby(['manager_id'])['interest_level'].count()\n",
        "manager2 = manager.to_frame().reset_index()\n",
        "manager2.columns = [\"manager_id\",\"manager_id_count\"]\n",
        "manager2[\"manager_prob\"]=manager2[\"manager_id_count\"]/nrow\n",
        "manager2[\"manager_id_odds\"]=manager2[\"manager_prob\"]/(1-manager2[\"manager_prob\"])\n",
        "manager2[\"manager_id_odds\"]=np.log(manager2[\"manager_id_odds\"])\n",
        "manager2 = manager2.drop(\"manager_prob\",axis=1)\n",
        "manager2.head()\n",
        "train_df = pd.merge(train_df, manager2, on='manager_id', how='left')\n",
        "train_df.head()"
      ]
    },
    {
      "cell_type": "code",
      "execution_count": null,
      "metadata": {
        "_cell_guid": "63c86efe-3a26-4241-67c8-811c47e04f6b"
      },
      "outputs": [],
      "source": [
        "nrow = test_df.shape[0]\n",
        "manager = test_df.groupby(['manager_id'])['listing_id'].count()\n",
        "manager2 = manager.to_frame().reset_index()\n",
        "manager2.columns = [\"manager_id\",\"manager_id_count\"]\n",
        "manager2[\"manager_prob\"]=manager2[\"manager_id_count\"]/nrow\n",
        "manager2[\"manager_id_odds\"]=manager2[\"manager_prob\"]/(1-manager2[\"manager_prob\"])\n",
        "manager2[\"manager_id_odds\"]=np.log(manager2[\"manager_id_odds\"])\n",
        "manager2 = manager2.drop(\"manager_prob\",axis=1)\n",
        "manager2.head()\n",
        "test_df = pd.merge(test_df, manager2, on='manager_id', how='left')\n",
        "test_df.head()"
      ]
    },
    {
      "cell_type": "code",
      "execution_count": null,
      "metadata": {
        "_cell_guid": "019f4ab3-6184-0938-3d3c-3b11e52a8dd8"
      },
      "outputs": [],
      "source": [
        "# Rate by Level for Building_id\n",
        "nrow = train_df.shape[0]\n",
        "building = train_df.groupby(['building_id'])['interest_level'].count()\n",
        "building2 = building.to_frame().reset_index()\n",
        "building2.columns = [\"building_id\",\"building_id_count\"]\n",
        "building2[\"building_prob\"]=building2[\"building_id_count\"]/nrow\n",
        "building2[\"building_id_odds\"]=building2[\"building_prob\"]/(1-building2[\"building_prob\"])\n",
        "building2[\"building_id_odds\"]=np.log(building2[\"building_id_odds\"])\n",
        "building2 = building2.drop(\"building_prob\",axis=1)\n",
        "building2.head()\n",
        "train_df = pd.merge(train_df, building2, on='building_id', how='left')\n",
        "train_df.head()"
      ]
    },
    {
      "cell_type": "code",
      "execution_count": null,
      "metadata": {
        "_cell_guid": "1b3c5521-835b-34df-7705-04f3a9ce2319"
      },
      "outputs": [],
      "source": [
        "nrow = test_df.shape[0]\n",
        "building = test_df.groupby(['building_id'])['listing_id'].count()\n",
        "building2 = building.to_frame().reset_index()\n",
        "building2.columns = [\"building_id\",\"building_id_count\"]\n",
        "building2[\"building_prob\"]=building2[\"building_id_count\"]/nrow\n",
        "building2[\"building_id_odds\"]=building2[\"building_prob\"]/(1-building2[\"building_prob\"])\n",
        "building2[\"building_id_odds\"]=np.log(building2[\"building_id_odds\"])\n",
        "building2 = building2.drop(\"building_prob\",axis=1)\n",
        "building2.head()\n",
        "test_df = pd.merge(test_df, building2, on='building_id', how='left')\n",
        "test_df.head()"
      ]
    },
    {
      "cell_type": "code",
      "execution_count": null,
      "metadata": {
        "_cell_guid": "d0c6a140-3e21-6526-8c7f-28e8240e9262"
      },
      "outputs": [],
      "source": [
        "features_to_use=[\"bathrooms\", \"bedrooms\", \"latitude\", \"longitude\", \"price\",\"price_per_bedroom\",\n",
        "\"num_photos\", \"num_features\", \"num_description_words\",\"listing_id\", \"created_year\", \"created_month\", \"created_day\", \"created_hour\",\n",
        "                \"manager_id_count\",\"manager_id_odds\",\"building_id_count\",\"building_id_odds\"]\n",
        "\n",
        "#using cross valdation to compute the posterier prob (P(y = low/medium/high|x_manager))\n",
        "#in the barreca's paper we know, thatcount(x_manager) maybe too small to give a credencial probability, thus we could combine the prior probability\n",
        "#we may use that here\n",
        "#and we could see if count(x_manager) is nan, the prob = 0 here, however we may use the prior here\n",
        "index=list(range(train_df.shape[0]))\n",
        "random.shuffle(index)\n",
        "a=[np.nan]*len(train_df)\n",
        "b=[np.nan]*len(train_df)\n",
        "c=[np.nan]*len(train_df)"
      ]
    },
    {
      "cell_type": "code",
      "execution_count": null,
      "metadata": {
        "_cell_guid": "95038729-ffd6-e974-228d-16190f3aaa9a"
      },
      "outputs": [],
      "source": [
        "for i in range(5):\n",
        "    building_level={}\n",
        "    for j in train_df['manager_id'].values:\n",
        "        building_level[j]=[0,0,0]\n",
        "    \n",
        "    #select the fifth part as the validation set, and the other as the train set\n",
        "    test_index=index[int((i*train_df.shape[0])/5):int(((i+1)*train_df.shape[0])/5)]\n",
        "    train_index=list(set(index).difference(test_index))\n",
        "    \n",
        "    #sum up the count of each level for a specific manager\n",
        "    for j in train_index:\n",
        "        temp=train_df.iloc[j]\n",
        "        if temp['interest_level']=='low':\n",
        "            building_level[temp['manager_id']][0]+=1\n",
        "        if temp['interest_level']=='medium':\n",
        "            building_level[temp['manager_id']][1]+=1\n",
        "        if temp['interest_level']=='high':\n",
        "            building_level[temp['manager_id']][2]+=1\n",
        "            \n",
        "    for j in test_index:\n",
        "        temp=train_df.iloc[j]\n",
        "        if sum(building_level[temp['manager_id']])!=0:\n",
        "            a[j]=building_level[temp['manager_id']][0]*1.0/sum(building_level[temp['manager_id']])\n",
        "            b[j]=building_level[temp['manager_id']][1]*1.0/sum(building_level[temp['manager_id']])\n",
        "            c[j]=building_level[temp['manager_id']][2]*1.0/sum(building_level[temp['manager_id']])\n"
      ]
    },
    {
      "cell_type": "code",
      "execution_count": null,
      "metadata": {
        "_cell_guid": "d61d6a1a-1af2-b178-9c8c-f39c7f8cfd22"
      },
      "outputs": [],
      "source": [
        "train_df['manager_level_low']=a\n",
        "train_df['manager_level_medium']=b\n",
        "train_df['manager_level_high']=c"
      ]
    },
    {
      "cell_type": "code",
      "execution_count": null,
      "metadata": {
        "_cell_guid": "3219e4d9-a74b-a4dc-0e17-f9183d8a4fa2"
      },
      "outputs": [],
      "source": [
        "train_df.head()"
      ]
    },
    {
      "cell_type": "code",
      "execution_count": null,
      "metadata": {
        "_cell_guid": "bec0930f-bd5a-8ac5-63d5-8f2d39dc5479"
      },
      "outputs": [],
      "source": [
        "#here is too compute prior in the trainset as as estimate of posterier prob in the test set.\n",
        "#if there is manager_id not found in the train_set, we use nan for the prob\n",
        "a=[]\n",
        "b=[]\n",
        "c=[]\n",
        "building_level={}\n",
        "for j in train_df['manager_id'].values:\n",
        "    building_level[j]=[0,0,0]\n",
        "\n",
        "for j in range(train_df.shape[0]):\n",
        "    temp=train_df.iloc[j]\n",
        "    if temp['interest_level']=='low':\n",
        "        building_level[temp['manager_id']][0]+=1\n",
        "    if temp['interest_level']=='medium':\n",
        "        building_level[temp['manager_id']][1]+=1\n",
        "    if temp['interest_level']=='high':\n",
        "        building_level[temp['manager_id']][2]+=1\n",
        "\n",
        "for i in test_df['manager_id'].values:\n",
        "    if i not in building_level.keys():\n",
        "        a.append(np.nan)\n",
        "        b.append(np.nan)\n",
        "        c.append(np.nan)\n",
        "    else:\n",
        "        a.append(building_level[i][0]*1.0/sum(building_level[i]))\n",
        "        b.append(building_level[i][1]*1.0/sum(building_level[i]))\n",
        "        c.append(building_level[i][2]*1.0/sum(building_level[i]))\n"
      ]
    },
    {
      "cell_type": "code",
      "execution_count": null,
      "metadata": {
        "_cell_guid": "223d022f-d22f-e180-bbd3-5465f248bbc3"
      },
      "outputs": [],
      "source": [
        "test_df['manager_level_low']=a\n",
        "test_df['manager_level_medium']=b\n",
        "test_df['manager_level_high']=c\n",
        "\n",
        "features_to_use.append('manager_level_low') \n",
        "features_to_use.append('manager_level_medium') \n",
        "features_to_use.append('manager_level_high')\n",
        "\n",
        "\n",
        "#transfer the categorical varibles to label integer\n",
        "categorical = [\"display_address\", \"manager_id\", \"building_id\"]\n",
        "for f in categorical:\n",
        "        if train_df[f].dtype=='object':\n",
        "            #print(f)\n",
        "            lbl = preprocessing.LabelEncoder()\n",
        "            lbl.fit(list(train_df[f].values) + list(test_df[f].values))\n",
        "            train_df[f] = lbl.transform(list(train_df[f].values))\n",
        "            test_df[f] = lbl.transform(list(test_df[f].values))\n",
        "            features_to_use.append(f)\n"
      ]
    },
    {
      "cell_type": "code",
      "execution_count": null,
      "metadata": {
        "_cell_guid": "83029d72-93d2-4c2e-981b-3076aeae1f64"
      },
      "outputs": [],
      "source": [
        "#transfer features to bag of word and using tdidf to normalizing the word-count\n",
        "#the tdidf transformation is what we haven't done in version 1, maybe that would improve performance\n",
        "#and the tokens we chose here are the top 200, which is larger than version 1\n",
        "train_df['features'] = train_df[\"features\"].apply(lambda x: \" \".join([\"_\".join(i.split(\" \")) for i in x]))\n",
        "test_df['features'] = test_df[\"features\"].apply(lambda x: \" \".join([\"_\".join(i.split(\" \")) for i in x]))\n",
        "print(train_df[\"features\"].head())\n",
        "tfidf = CountVectorizer(stop_words='english', max_features=200)\n",
        "tr_sparse = tfidf.fit_transform(train_df[\"features\"])\n",
        "te_sparse = tfidf.transform(test_df[\"features\"])"
      ]
    },
    {
      "cell_type": "code",
      "execution_count": null,
      "metadata": {
        "_cell_guid": "8ad09315-605e-ecc7-2514-d9678b7842b7"
      },
      "outputs": [],
      "source": [
        "features_to_use"
      ]
    },
    {
      "cell_type": "code",
      "execution_count": null,
      "metadata": {
        "_cell_guid": "831f6cc8-3a2a-d70e-2eed-c0796ed01aab"
      },
      "outputs": [],
      "source": [
        "train_X = sparse.hstack([train_df[features_to_use], tr_sparse]).tocsr()\n",
        "test_X = sparse.hstack([test_df[features_to_use], te_sparse]).tocsr()\n",
        "\n",
        "target_num_map = {'high':0, 'medium':1, 'low':2}\n",
        "train_y = np.array(train_df['interest_level'].apply(lambda x: target_num_map[x]))\n",
        "print(train_X.shape, test_X.shape)"
      ]
    },
    {
      "cell_type": "code",
      "execution_count": null,
      "metadata": {
        "_cell_guid": "e3099bd3-6c41-d5d0-1770-c106b4b73eee"
      },
      "outputs": [],
      "source": [
        "#final predication\n",
        "preds, model = runXGB(train_X, train_y, test_X, num_rounds=2000)\n",
        "out_df = pd.DataFrame(preds)\n",
        "out_df.columns = [\"high\", \"medium\", \"low\"]\n",
        "out_df[\"listing_id\"] = test_df.listing_id.values\n",
        "out_df.to_csv(\"xgb_v2.csv\", index=False)\n",
        "\n"
      ]
    }
  ],
  "metadata": {
    "_change_revision": 0,
    "_is_fork": false,
    "kernelspec": {
      "display_name": "Python 3",
      "language": "python",
      "name": "python3"
    },
    "language_info": {
      "codemirror_mode": {
        "name": "ipython",
        "version": 3
      },
      "file_extension": ".py",
      "mimetype": "text/x-python",
      "name": "python",
      "nbconvert_exporter": "python",
      "pygments_lexer": "ipython3",
      "version": "3.6.0"
    }
  },
  "nbformat": 4,
  "nbformat_minor": 0
}