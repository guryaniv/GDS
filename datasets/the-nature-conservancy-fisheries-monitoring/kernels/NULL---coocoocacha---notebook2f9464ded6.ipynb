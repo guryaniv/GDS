{
  "cells": [
    {
      "cell_type": "markdown",
      "metadata": {
        "_cell_guid": "ef427e00-c18a-51ec-98c4-1642ce0065db"
      },
      "source": ""
    },
    {
      "cell_type": "code",
      "execution_count": null,
      "metadata": {
        "_cell_guid": "36bccbcd-9c0d-932c-fc15-8953d4f00a59"
      },
      "outputs": [],
      "source": [
        "# This Python 3 environment comes with many helpful analytics libraries installed\n",
        "# It is defined by the kaggle/python docker image: https://github.com/kaggle/docker-python\n",
        "# For example, here's several helpful packages to load in \n",
        "\n",
        "import numpy as np # linear algebra\n",
        "import pandas as pd # data processing, CSV file I/O (e.g. pd.read_csv)\n",
        "from PIL import Image\n",
        "import os\n",
        "import xgboost as xgb\n",
        "from sklearn import cross_validation\n",
        "\n",
        "# Input data files are available in the \"../input/\" directory.\n",
        "# For example, running this (by clicking run or pressing Shift+Enter) will list the files in the input directory\n",
        "\n",
        "#from subprocess import check_output\n",
        "#print(check_output([\"ls\", \"../input\"]).decode(\"utf8\"))\n",
        "\n",
        "# Any results you write to the current directory are saved as output."
      ]
    },
    {
      "cell_type": "code",
      "execution_count": null,
      "metadata": {
        "_cell_guid": "2a3d99d7-3f1a-9ca2-ef82-71b3f8f2b230"
      },
      "outputs": [],
      "source": [
        "categoryToIndex = {}\n",
        "indexToCategory = {}\n",
        "\n",
        "trainCategory = [];\n",
        "trainImage    = [];\n",
        "for fishType in os.listdir(\"../input/train\"):\n",
        "    if fishType == \".DS_Store\":\n",
        "        continue\n",
        "        \n",
        "    i = None\n",
        "    if fishType in categoryToIndex:\n",
        "        i = categoryToIndex[fishType]\n",
        "    else:\n",
        "        i = len(categoryToIndex)\n",
        "        categoryToIndex[fishType] = i\n",
        "        indexToCategory[i] = fishType\n",
        "        \n",
        "    for f in os.listdir(\"../input/train/\" + fishType):\n",
        "        if f == \".DS_Store\":\n",
        "            continue\n",
        "        trainCategory.append(i)\n",
        "        trainImage.append(f)"
      ]
    },
    {
      "cell_type": "code",
      "execution_count": null,
      "metadata": {
        "_cell_guid": "9b0b3321-9d15-9075-2853-b9520a72e8d0"
      },
      "outputs": [],
      "source": [
        "NUM_SAMPLES = 32\n",
        "randomIndexes = np.random.choice(len(trainCategory), NUM_SAMPLES)\n",
        "\n",
        "trainInput = []\n",
        "trainOutput = []\n",
        "maxWidth = 0\n",
        "maxHeight = 0\n",
        "for i in randomIndexes:\n",
        "    filename = trainImage[i]\n",
        "    category = trainCategory[i]\n",
        "    img = Image.open(\"../input/train/\" + indexToCategory[category] + \"/\" + filename)\n",
        "    data = np.asarray(img, dtype=\"float32\") / 255.0\n",
        "    out = np.zeros(len(indexToCategory))\n",
        "    out[category] = 1.0\n",
        "    \n",
        "    if data.shape[0] > maxWidth:\n",
        "        maxWidth = data.shape[0]\n",
        "        \n",
        "    if data.shape[1] > maxHeight:\n",
        "        maxHeight = data.shape[1]\n",
        "    \n",
        "    trainInput.append(data)\n",
        "    trainOutput.append(int(category))\n",
        "    \n",
        "for i in range(NUM_SAMPLES):\n",
        "    padImage = np.zeros((maxWidth, maxHeight, 3))\n",
        "    img = trainInput[i]\n",
        "    \n",
        "    padImage[:img.shape[0],:img.shape[1],:3] = img\n",
        "    trainInput[i] = padImage"
      ]
    },
    {
      "cell_type": "code",
      "execution_count": null,
      "metadata": {
        "_cell_guid": "e49eede3-83ba-76bc-2050-7818fc51cf90"
      },
      "outputs": [],
      "source": [
        "trainInput  = np.array(trainInput)\n",
        "trainOutput = np.array(trainOutput)"
      ]
    },
    {
      "cell_type": "code",
      "execution_count": null,
      "metadata": {
        "_cell_guid": "7143e663-defc-fa2f-fd9a-130607b786aa"
      },
      "outputs": [],
      "source": [
        "x_train, x_test, y_train, y_test = cross_validation.train_test_split(\n",
        "    trainInput.reshape((NUM_SAMPLES, maxWidth*maxHeight*3)), trainOutput, \n",
        "    random_state=42,\n",
        "    test_size=0.20\n",
        ")"
      ]
    },
    {
      "cell_type": "code",
      "execution_count": null,
      "metadata": {
        "_cell_guid": "1362d712-b717-d255-a36e-016737ed7022"
      },
      "outputs": [],
      "source": [
        "clf = xgb.XGBClassifier(\n",
        "    max_depth=5,\n",
        "    n_estimators=500,\n",
        "    learning_rate=0.1,\n",
        "    nthread=-1,\n",
        "    objective='multi:softmax',\n",
        "    seed=42\n",
        ")\n",
        "\n",
        "clf.fit(\n",
        "    x_train, y_train,\n",
        "    early_stopping_rounds=30,\n",
        "    eval_metric=\"mlogloss\",\n",
        "    eval_set=[(x_test, y_test)]\n",
        ")"
      ]
    },
    {
      "cell_type": "code",
      "execution_count": null,
      "metadata": {
        "_cell_guid": "2d23bdd1-1197-1480-4a84-33a1c7d48303"
      },
      "outputs": [],
      "source": [
        "trainOutput"
      ]
    }
  ],
  "metadata": {
    "_change_revision": 0,
    "_is_fork": false,
    "kernelspec": {
      "display_name": "Python 3",
      "language": "python",
      "name": "python3"
    },
    "language_info": {
      "codemirror_mode": {
        "name": "ipython",
        "version": 3
      },
      "file_extension": ".py",
      "mimetype": "text/x-python",
      "name": "python",
      "nbconvert_exporter": "python",
      "pygments_lexer": "ipython3",
      "version": "3.5.2"
    }
  },
  "nbformat": 4,
  "nbformat_minor": 0
}