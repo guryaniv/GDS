{
  "cells": [
    {
      "cell_type": "code",
      "execution_count": null,
      "metadata": {
        "_cell_guid": "cfdc2632-e1e0-4a0b-2842-071592e10e45"
      },
      "outputs": [],
      "source": [
        "import pandas as pd\n",
        "import numpy as np\n",
        "import glob\n",
        "from PIL import Image\n",
        "from PIL import ImageEnhance\n",
        "\n",
        "trainResult = pd.read_csv('../input/Train/train.csv')\n",
        "train = glob.glob('../input/Train/*.jpg')\n",
        "trainDotted = glob.glob('../input/TrainDotted/*.jpg')\n",
        "\n",
        "n = 1\n",
        "\n",
        "image = Image.open(train[n])\n",
        "imageDotted = Image.open(trainDotted[n])\n",
        "\n",
        "a = np.asarray(image)\n",
        "b = np.asarray(imageDotted)\n",
        "\n",
        "rows = b.shape[0]\n",
        "cols = b.shape[1]\n",
        "\n",
        "a.flags.writeable = True\n",
        "\n",
        "print (rows, cols)"
      ]
    }
  ],
  "metadata": {
    "_change_revision": 0,
    "_is_fork": false,
    "kernelspec": {
      "display_name": "Python 3",
      "language": "python",
      "name": "python3"
    },
    "language_info": {
      "codemirror_mode": {
        "name": "ipython",
        "version": 3
      },
      "file_extension": ".py",
      "mimetype": "text/x-python",
      "name": "python",
      "nbconvert_exporter": "python",
      "pygments_lexer": "ipython3",
      "version": "3.6.0"
    }
  },
  "nbformat": 4,
  "nbformat_minor": 0
}