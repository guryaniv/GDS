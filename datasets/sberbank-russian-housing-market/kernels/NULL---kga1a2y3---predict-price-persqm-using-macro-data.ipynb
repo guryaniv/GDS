{
  "cells": [
    {
      "cell_type": "markdown",
      "metadata": {
        "_cell_guid": "de03b10a-31ca-fa95-e907-68e0ae9b557d"
      },
      "source": ""
    },
    {
      "cell_type": "code",
      "execution_count": null,
      "metadata": {
        "_cell_guid": "89a95ff6-c202-acf4-a837-267a4e7a1291"
      },
      "outputs": [],
      "source": [
        "import numpy as np\n",
        "import pandas as pd\n",
        "import xgboost as xgb\n",
        "import matplotlib.pyplot as plt\n",
        "import seaborn as sns\n",
        "pd.set_option('display.max_columns', 500)\n",
        "\n",
        "%matplotlib inline\n",
        "df_train = pd.read_csv(\"../input/train.csv\", parse_dates=['timestamp']\\\n",
        "                    , usecols=['timestamp','price_doc','full_sq'])\n",
        "df_train.head(8)"
      ]
    },
    {
      "cell_type": "code",
      "execution_count": null,
      "metadata": {
        "_cell_guid": "2870d12e-7022-f5d7-5789-678a070e3c50"
      },
      "outputs": [],
      "source": [
        "#2011-08 only have 3 samples, remove\n",
        "time_0 = df_train.timestamp[0]\n",
        "\n",
        "#df_train= df_train[3:]\n",
        "\n",
        "#remove rows 'full_sq'<9\n",
        "df_train= df_train[df_train['full_sq']>=9]\n",
        "\n",
        "for col in ['full_sq','price_doc']:\n",
        "    ulimit = np.percentile(df_train[col].values, 99.5)\n",
        "    llimit = np.percentile(df_train[col].values, 0.5)\n",
        "    df_train[col].ix[df_train[col]>ulimit] = ulimit\n",
        "    df_train[col].ix[df_train[col]<llimit] = llimit\n",
        "\n",
        "\n",
        "#df_train['price_persq'] = df_train['price_doc']/df_train['full_sq']\n",
        "#df_train['price_persq'] = df_train['price_persq'].rolling(window=80,min_periods=1).mean()\n",
        "winsize= 190\n",
        "roll_price= df_train['price_doc'].rolling(window=winsize,min_periods=1).sum()\n",
        "roll_fullsq= df_train['full_sq'].rolling(window=winsize,min_periods=1).sum()\n",
        "df_train['price_persq'] = roll_price/roll_fullsq\n",
        "df_train= df_train[30:-30]\n",
        "print(df_train.shape)\n",
        "df_train['time_span']= (df_train.timestamp- time_0).dt.days\n",
        "print(df_train.head())"
      ]
    },
    {
      "cell_type": "code",
      "execution_count": null,
      "metadata": {
        "_cell_guid": "0d013b19-1b12-98e8-ca1e-bbae0a3de3c1"
      },
      "outputs": [],
      "source": ""
    },
    {
      "cell_type": "code",
      "execution_count": null,
      "metadata": {
        "_cell_guid": "044de879-9fca-4c7d-8fce-a41b6d77cca5"
      },
      "outputs": [],
      "source": ""
    },
    {
      "cell_type": "code",
      "execution_count": null,
      "metadata": {
        "_cell_guid": "8d4141a3-94c7-2bd6-7bdb-e7235b308ce0"
      },
      "outputs": [],
      "source": ""
    },
    {
      "cell_type": "code",
      "execution_count": null,
      "metadata": {
        "_cell_guid": "c8d848ab-8377-39e9-eb77-26b34c993746"
      },
      "outputs": [],
      "source": ""
    },
    {
      "cell_type": "code",
      "execution_count": null,
      "metadata": {
        "_cell_guid": "e82934cb-cf5a-89ea-c512-46d60dd91c65"
      },
      "outputs": [],
      "source": ""
    },
    {
      "cell_type": "code",
      "execution_count": null,
      "metadata": {
        "_cell_guid": "4c85fa54-abb4-0e32-bce4-e22fa4203f0c"
      },
      "outputs": [],
      "source": ""
    },
    {
      "cell_type": "code",
      "execution_count": null,
      "metadata": {
        "_cell_guid": "7c7e8b80-281c-c92d-53fc-5f63326de13b"
      },
      "outputs": [],
      "source": ""
    },
    {
      "cell_type": "code",
      "execution_count": null,
      "metadata": {
        "_cell_guid": "8bd88b6f-ea7f-0041-749d-40e0ca8482c7"
      },
      "outputs": [],
      "source": ""
    },
    {
      "cell_type": "code",
      "execution_count": null,
      "metadata": {
        "_cell_guid": "d65176b6-701f-167d-2fb9-3b83c3339865"
      },
      "outputs": [],
      "source": ""
    },
    {
      "cell_type": "code",
      "execution_count": null,
      "metadata": {
        "_cell_guid": "09ec62d2-2175-42b4-eb62-45fb16f1fc09"
      },
      "outputs": [],
      "source": ""
    },
    {
      "cell_type": "code",
      "execution_count": null,
      "metadata": {
        "_cell_guid": "646930c7-1bc0-a0f8-7a70-0013b699df05"
      },
      "outputs": [],
      "source": ""
    },
    {
      "cell_type": "code",
      "execution_count": null,
      "metadata": {
        "_cell_guid": "732ade26-91ce-60da-84db-3c5b3226530e",
        "collapsed": true
      },
      "outputs": [],
      "source": ""
    },
    {
      "cell_type": "code",
      "execution_count": null,
      "metadata": {
        "_cell_guid": "aa8ffa01-bc27-d807-307c-e18c22d57b1a"
      },
      "outputs": [],
      "source": ""
    },
    {
      "cell_type": "code",
      "execution_count": null,
      "metadata": {
        "_cell_guid": "9f58e673-acd9-a7a8-9370-a7b9203741e3"
      },
      "outputs": [],
      "source": ""
    },
    {
      "cell_type": "code",
      "execution_count": null,
      "metadata": {
        "_cell_guid": "655f323e-5f47-bce0-cce1-f2268a8ca063"
      },
      "outputs": [],
      "source": ""
    },
    {
      "cell_type": "code",
      "execution_count": null,
      "metadata": {
        "_cell_guid": "14ae3098-9129-285a-95e5-5c5920a7fc28"
      },
      "outputs": [],
      "source": ""
    },
    {
      "cell_type": "code",
      "execution_count": null,
      "metadata": {
        "_cell_guid": "1220a01b-20b4-8bea-7655-4a1af55ae855",
        "collapsed": true
      },
      "outputs": [],
      "source": ""
    },
    {
      "cell_type": "code",
      "execution_count": null,
      "metadata": {
        "_cell_guid": "0156c447-766d-4ec7-5bb6-563808a148bd",
        "collapsed": true
      },
      "outputs": [],
      "source": ""
    }
  ],
  "metadata": {
    "_change_revision": 0,
    "_is_fork": false,
    "kernelspec": {
      "display_name": "Python 3",
      "language": "python",
      "name": "python3"
    },
    "language_info": {
      "codemirror_mode": {
        "name": "ipython",
        "version": 3
      },
      "file_extension": ".py",
      "mimetype": "text/x-python",
      "name": "python",
      "nbconvert_exporter": "python",
      "pygments_lexer": "ipython3",
      "version": "3.6.0"
    }
  },
  "nbformat": 4,
  "nbformat_minor": 0
}