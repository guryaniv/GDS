{
  "cells": [
    {
      "cell_type": "code",
      "execution_count": null,
      "metadata": {
        "_cell_guid": "9fee1b11-b191-d01a-58ba-c1c52743625d"
      },
      "outputs": [],
      "source": [
        "# This Python 3 environment comes with many helpful analytics libraries installed\n",
        "# It is defined by the kaggle/python docker image: https://github.com/kaggle/docker-python\n",
        "# For example, here's several helpful packages to load in \n",
        "\n",
        "import numpy as np # linear algebra\n",
        "import pandas as pd # data processing, CSV file I/O (e.g. pd.read_csv)\n",
        "import matplotlib.pyplot as plt\n",
        "import seaborn as sns\n",
        "color = sns.color_palette()\n",
        "\n",
        "from keras.models import Sequential\n",
        "from keras.layers import Dense\n",
        "from keras.wrappers.scikit_learn import KerasRegressor\n",
        "from keras.wrappers.scikit_learn import KerasRegressor\n",
        "from sklearn.model_selection import cross_val_score\n",
        "from sklearn.model_selection import KFold\n",
        "from sklearn.preprocessing import StandardScaler\n",
        "from sklearn.pipeline import Pipeline\n",
        "\n",
        "# fix random seed for reproducibility\n",
        "seed = 7\n",
        "np.random.seed(seed)\n",
        "\n",
        "%matplotlib inline\n",
        "\n",
        "pd.options.mode.chained_assignment = None  # default='warn'\n",
        "pd.options.display.max_columns = 999\n",
        "\n",
        "\n",
        "# Input data files are available in the \"../input/\" directory.\n",
        "# For example, running this (by clicking run or pressing Shift+Enter) will list the files in the input directory\n",
        "\n",
        "from subprocess import check_output\n",
        "print(check_output([\"ls\", \"../input\"]).decode(\"utf8\"))\n",
        "\n",
        "# Any results you write to the current directory are saved as output."
      ]
    },
    {
      "cell_type": "code",
      "execution_count": null,
      "metadata": {
        "_cell_guid": "9105f4e1-c0bd-5b14-e8d6-482f0f3dd393"
      },
      "outputs": [],
      "source": [
        "train_df = pd.read_csv(\"../input/train.csv\")\n",
        "test_df = pd.read_csv(\"../input/test.csv\")\n",
        "print(\"Train shape : \", train_df.shape)\n",
        "print(\"Test shape : \", test_df.shape)"
      ]
    },
    {
      "cell_type": "code",
      "execution_count": null,
      "metadata": {
        "_cell_guid": "6a6a2de2-b337-e777-55df-380d09875d70"
      },
      "outputs": [],
      "source": [
        "#train_df.head()"
      ]
    },
    {
      "cell_type": "code",
      "execution_count": null,
      "metadata": {
        "_cell_guid": "7b85ddaa-18dc-e9ca-68f7-34ca0a2f6930"
      },
      "outputs": [],
      "source": [
        "#test_df"
      ]
    },
    {
      "cell_type": "code",
      "execution_count": null,
      "metadata": {
        "_cell_guid": "0d86d867-7a60-23d4-a205-f0352bfef634"
      },
      "outputs": [],
      "source": [
        "train_y = train_df['y']\n",
        "#train_y.shape\n",
        "train_x1 = train_df.ix[:,2:378]\n",
        "train_id = train_df.ix[:,0]\n",
        "\n",
        "nptrain_y = np.array(train_y.as_matrix())\n",
        "#nptrain_y\n",
        "\n",
        "nptrain_x = np.array(train_df.as_matrix())\n",
        "nptest_x= np.array(test_df.as_matrix())"
      ]
    },
    {
      "cell_type": "code",
      "execution_count": null,
      "metadata": {
        "_cell_guid": "8ed8c93f-46cf-a8b7-cd5b-f0c63d3e3ab1"
      },
      "outputs": [],
      "source": [
        "#nptrain_x = nptrain_x[:,2:378]\n",
        "\n",
        "#nptrain_id = nptrain_x[:,0]\n",
        "#nptrain_x1 = np.c(nptrain_x, ones())\n",
        "#nptrain_x.shape[1]\n",
        "\n",
        "#nptrain_x1 = np.empty([nptrain_x.shape[0],nptrain_x.shape[1]+1])\n",
        "#nptrain_x1[:,1:377] = nptrain_x\n",
        "\n",
        "nptrain_xId = nptrain_x[:,0]\n",
        "#nptrain_xId\n",
        "nptrain_xCl = nptrain_x[:,2:10]\n",
        "#nptrain_xCl\n",
        "nptrain_xNu = nptrain_x[:,11:]\n",
        "nptrain_xNu.shape"
      ]
    },
    {
      "cell_type": "code",
      "execution_count": null,
      "metadata": {
        "_cell_guid": "5802e2f3-3fd5-482c-aeab-82e64f9ec4a0"
      },
      "outputs": [],
      "source": [
        "\n",
        "\n",
        "\n",
        "nptest_xId = nptest_x[:,0]\n",
        "#nptrain_xId\n",
        "nptest_xCl = nptest_x[:,1:9]\n",
        "#nptrain_xCl\n",
        "nptest_xNu = nptest_x[:,10:]\n",
        "nptest_xNu.shape"
      ]
    },
    {
      "cell_type": "code",
      "execution_count": null,
      "metadata": {
        "_cell_guid": "9d34bb2a-fa51-eca0-9b92-24a7caf1a12d"
      },
      "outputs": [],
      "source": [
        "def baseline_model():\n",
        "\n",
        " model = Sequential()\n",
        " model.add(Dense(100, input_dim=367, kernel_initializer='normal', activation='relu'))\n",
        "# model.add(Dense(50,  kernel_initializer='normal', activation='relu'))\n",
        " model.add(Dense(1, kernel_initializer='normal'))\n",
        " model.compile(loss='mean_squared_error', optimizer='adam')\n",
        "\n",
        " return model"
      ]
    },
    {
      "cell_type": "code",
      "execution_count": null,
      "metadata": {
        "_cell_guid": "7f978cfb-4173-3da1-298a-0b13a2108af3"
      },
      "outputs": [],
      "source": [
        "#estimator = KerasRegressor(build_fn=baseline_model, nb_epoch=100, batch_size=5, verbose=0)\n",
        "\n",
        "estimators = []\n",
        "estimators.append(('standardize', StandardScaler()))\n",
        "estimators.append(('mlp', KerasRegressor(build_fn=baseline_model, epochs=100, batch_size=100, verbose=0)))\n",
        "pipeline = Pipeline(estimators)\n",
        "kfold = KFold(n_splits=4, random_state=seed)\n",
        "results = cross_val_score(pipeline, nptrain_xNu, nptrain_y, cv=kfold)\n",
        "print(\"Standardized: %.2f (%.2f) MSE\" % (results.mean(), results.std()))\n",
        "\n",
        "#kfold = KFold(n_splits=10, random_state=seed)\n",
        "#results = cross_val_score(estimator, nptrain_xNu, nptrain_y, cv=kfold)\n",
        "#print(\"Results: %.2f (%.2f) MSE\" % (results.mean(), results.std()))\n"
      ]
    },
    {
      "cell_type": "code",
      "execution_count": null,
      "metadata": {
        "_cell_guid": "56f56abc-a99e-de80-e2d3-9877522aeb63"
      },
      "outputs": [],
      "source": [
        "scale = StandardScaler()\n",
        "X_trainNu = scale.fit_transform(nptrain_xNu)\n",
        "X_testNu = scale.fit_transform(nptest_xNu)\n",
        "\n",
        "clf = KerasRegressor(build_fn=baseline_model, nb_epoch=100, batch_size=50,verbose=0)\n",
        "\n",
        "clf.fit(X_trainNu,nptrain_y)\n",
        "res = clf.predict(X_testNu)\n",
        "res.shape\n",
        "res"
      ]
    },
    {
      "cell_type": "code",
      "execution_count": null,
      "metadata": {
        "_cell_guid": "0e4488cb-4949-e456-7487-b65e64ac51c3"
      },
      "outputs": [],
      "source": [
        "\n",
        " # predefine or use append\n",
        "\n",
        "\n",
        "#for num in range(0, res.shape[0]):\n",
        "#    label = nptest_xId[num]\n",
        "#    pred = res[num]\n",
        "#    rows[num] = \"%d,%d\\n\"%(label,pred)\n",
        "\n",
        "#np.savetxt(\"foo.csv\", res, delimiter=\",\")"
      ]
    },
    {
      "cell_type": "code",
      "execution_count": null,
      "metadata": {
        "_cell_guid": "53970d1e-2873-3d76-eb78-b31e14b5a8b0"
      },
      "outputs": [],
      "source": [
        "sub = pd.DataFrame()\n",
        "sub['ID'] = nptest_xId\n",
        "sub['y'] = res\n",
        "sub.to_csv('output.csv', index=False)\n",
        "sub"
      ]
    }
  ],
  "metadata": {
    "_change_revision": 0,
    "_is_fork": false,
    "kernelspec": {
      "display_name": "Python 3",
      "language": "python",
      "name": "python3"
    },
    "language_info": {
      "codemirror_mode": {
        "name": "ipython",
        "version": 3
      },
      "file_extension": ".py",
      "mimetype": "text/x-python",
      "name": "python",
      "nbconvert_exporter": "python",
      "pygments_lexer": "ipython3",
      "version": "3.6.0"
    }
  },
  "nbformat": 4,
  "nbformat_minor": 0
}