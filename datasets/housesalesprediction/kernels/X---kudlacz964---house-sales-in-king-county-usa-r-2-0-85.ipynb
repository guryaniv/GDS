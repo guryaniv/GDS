{
  "cells": [
    {
      "cell_type": "markdown",
      "metadata": {
        "_cell_guid": "6c1bb2fe-9200-63be-2840-936831eb2055"
      },
      "source": [
        "XGBoost parameters may need some more boosting, but R^2 score higher than 0.85 is quite satisfactory."
      ]
    },
    {
      "cell_type": "code",
      "execution_count": null,
      "metadata": {
        "_cell_guid": "ce473405-a143-e2ba-843d-552fb730477a"
      },
      "outputs": [],
      "source": [
        "import numpy as np\n",
        "import pandas as pd\n",
        "import xgboost\n",
        "from sklearn.model_selection import train_test_split\n",
        "from sklearn.metrics import explained_variance_score\n",
        "\n",
        "train = pd.read_csv('../input/kc_house_data.csv')\n",
        "train.drop('id', axis=1, inplace=True)\n",
        "train.drop('date', axis=1, inplace=True)\n",
        "traindf, testdf = train_test_split(train, test_size = 0.3)\n",
        "\n",
        "xgb = xgboost.XGBRegressor(n_estimators=100, learning_rate=0.08, gamma=0, subsample=0.75, colsample_bytree=1, max_depth=7)\n",
        "xgb.fit(traindf.ix[:, traindf.columns != 'price'], traindf['price'])\n",
        "print(explained_variance_score(xgb.predict(testdf.ix[:, testdf.columns != 'price']), testdf['price']))"
      ]
    }
  ],
  "metadata": {
    "_change_revision": 0,
    "_is_fork": false,
    "kernelspec": {
      "display_name": "Python 3",
      "language": "python",
      "name": "python3"
    },
    "language_info": {
      "codemirror_mode": {
        "name": "ipython",
        "version": 3
      },
      "file_extension": ".py",
      "mimetype": "text/x-python",
      "name": "python",
      "nbconvert_exporter": "python",
      "pygments_lexer": "ipython3",
      "version": "3.5.2"
    }
  },
  "nbformat": 4,
  "nbformat_minor": 0
}