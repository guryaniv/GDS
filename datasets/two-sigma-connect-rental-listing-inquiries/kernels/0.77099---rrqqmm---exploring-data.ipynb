{
  "cells": [
    {
      "cell_type": "markdown",
      "metadata": {
        "_cell_guid": "bdf9766a-03e6-4b0d-1c54-b61ed65b8056"
      },
      "source": [
        "**Exploring Data**"
      ]
    },
    {
      "cell_type": "code",
      "execution_count": null,
      "metadata": {
        "_cell_guid": "44270c75-3766-a543-a198-9dde8b53bfd7"
      },
      "outputs": [],
      "source": [
        "import numpy as np # linear algebra\n",
        "import pandas as pd # data processing, CSV file I/O (e.g. pd.read_csv)\n",
        "from subprocess import check_output\n",
        "from sklearn.discriminant_analysis import LinearDiscriminantAnalysis\n",
        "from sklearn.ensemble import RandomForestClassifier, AdaBoostClassifier, GradientBoostingClassifier, VotingClassifier\n",
        "from sklearn.model_selection import train_test_split\n",
        "from sklearn.metrics import log_loss\n",
        "print(check_output([\"ls\", \"../input\"]).decode(\"utf8\"))"
      ]
    },
    {
      "cell_type": "code",
      "execution_count": null,
      "metadata": {
        "_cell_guid": "d661f0ce-eec0-03f6-d0e1-3b59062cc21e"
      },
      "outputs": [],
      "source": [
        "sub = pd.read_csv('../input/sample_submission.csv')\n",
        "sub.head()"
      ]
    },
    {
      "cell_type": "code",
      "execution_count": null,
      "metadata": {
        "_cell_guid": "8f60daf2-970e-f042-b25d-0ebb2f3b8d82"
      },
      "outputs": [],
      "source": [
        "df = pd.read_json('../input/train.json')\n",
        "df.tail()"
      ]
    },
    {
      "cell_type": "code",
      "execution_count": null,
      "metadata": {
        "_cell_guid": "6f2ade16-d5ef-6d34-e764-e225d1cab0d1"
      },
      "outputs": [],
      "source": [
        "print('Unique: ', len(set(df['manager_id'])))\n",
        "print('Total: ', len(df['manager_id']))\n",
        "print(len(df['manager_id'])/len(set(df['manager_id'])))"
      ]
    },
    {
      "cell_type": "code",
      "execution_count": null,
      "metadata": {
        "_cell_guid": "297ae6c1-0b80-5192-f4f8-3eb5ca67a8ae"
      },
      "outputs": [],
      "source": [
        "df['address'] = df['display_address'].astype('category').cat.codes\n",
        "df['street_address'] = df['street_address'].astype('category').cat.codes\n",
        "df['building_id'] = df['building_id'].astype('category').cat.codes\n",
        "df['manager_id'] = df['manager_id'].astype('category').cat.codes\n",
        "df['num_features'] = df['features'].apply(len)\n",
        "df['created'] = pd.to_datetime(df['created'])\n",
        "df['created_year'] = df['created'].dt.year.astype('category').cat.codes\n",
        "df['created_month'] = df['created'].dt.month.astype('category').cat.codes\n",
        "df['len_description'] = df['description'].apply(lambda x: len(x.split(' ')))\n",
        "df['num_pics'] = df['photos'].apply(len)"
      ]
    },
    {
      "cell_type": "code",
      "execution_count": null,
      "metadata": {
        "_cell_guid": "2bd96814-984d-9af2-438a-df732b5d5535"
      },
      "outputs": [],
      "source": [
        "new_feat = ['price','address','manager_id','building_id',\n",
        "            'num_features','created_year','created_month',\n",
        "            'len_description','latitude','longitude','num_pics']\n",
        "\n",
        "#new_feat = ['price','latitude','longitude','num_pics',\n",
        " #           'num_features','created_year','created_month','len_description']\n",
        "X = df[new_feat].fillna(0)\n",
        "y = df['interest_level'].astype('category').cat.codes\n",
        "X_train, X_val, y_train, y_val = train_test_split(X, y, test_size=0.3, random_state=9)\n",
        "X.tail()"
      ]
    },
    {
      "cell_type": "code",
      "execution_count": null,
      "metadata": {
        "_cell_guid": "3777bbb5-9175-06e4-b2b4-30f32f16c30b"
      },
      "outputs": [],
      "source": [
        "clf1 = GradientBoostingClassifier(n_estimators=200, max_depth=9)\n",
        "clf2 = AdaBoostClassifier(n_estimators=200)\n",
        "clf3 = RandomForestClassifier(n_estimators=300)\n",
        "\n",
        "estimators = [('gb', clf1), ('ab', clf2), ('rf', clf3)]\n",
        "vclf = VotingClassifier(estimators=estimators, voting='soft', n_jobs= -1)\n",
        "\n",
        "vclf.fit(X_train, y_train)\n",
        "y_val_pred = vclf.predict_proba(X_val)\n",
        "log_loss(y_val, y_val_pred)"
      ]
    },
    {
      "cell_type": "code",
      "execution_count": null,
      "metadata": {
        "_cell_guid": "c7789a2b-dfe0-9831-15ad-5ed43c12da10"
      },
      "outputs": [],
      "source": [
        "X_train = df[new_feat].fillna(0)\n",
        "y_train = df['interest_level']\n",
        "vclf.fit(X_train, y_train)\n",
        "\n",
        "\n",
        "df2 = pd.read_json('../input/test.json')\n",
        "df2['address'] = df2['display_address'].astype('category').cat.codes\n",
        "df2['street_address'] = df2['street_address'].astype('category').cat.codes\n",
        "df2['building_id'] = df2['building_id'].astype('category').cat.codes\n",
        "df2['manager_id'] = df2['manager_id'].astype('category').cat.codes\n",
        "df2['num_features'] = df2['features'].apply(len)\n",
        "df2['created'] = pd.to_datetime(df2['created'])\n",
        "df2['created_year'] = df2['created'].dt.year.astype('category').cat.codes\n",
        "df2['created_month'] = df2['created'].dt.month.astype('category').cat.codes\n",
        "df2['len_description'] = df2['description'].apply(lambda x: len(x.split(' ')))\n",
        "df2['num_pics'] = df2['photos'].apply(len)\n",
        "\n",
        "X = df2[new_feat].fillna(0)\n",
        "y = vclf.predict_proba(X)"
      ]
    },
    {
      "cell_type": "code",
      "execution_count": null,
      "metadata": {
        "_cell_guid": "7942655b-6983-3587-5db5-dce5137df775"
      },
      "outputs": [],
      "source": [
        "labels2idx = {label: i for i, label in enumerate(vclf.classes_)}\n",
        "labels2idx"
      ]
    },
    {
      "cell_type": "code",
      "execution_count": null,
      "metadata": {
        "_cell_guid": "15fa05f5-8f34-32bf-86a9-dbc8a2e35329"
      },
      "outputs": [],
      "source": [
        "sub = pd.DataFrame()\n",
        "sub['listing_id'] = df2['listing_id']\n",
        "for l in ['high', 'medium', 'low']:\n",
        "    sub[l] = y[:, labels2idx[l]]\n",
        "sub.to_csv('submissionVoting.csv', index=False)"
      ]
    },
    {
      "cell_type": "code",
      "execution_count": null,
      "metadata": {
        "_cell_guid": "42597a70-a9e7-1eb4-472b-a9e1133bcb90"
      },
      "outputs": [],
      "source": [
        "sub = pd.read_csv('submissionVoting.csv')\n",
        "sub.head()"
      ]
    },
    {
      "cell_type": "code",
      "execution_count": null,
      "metadata": {
        "_cell_guid": "ebc1ebee-bb2d-dcf8-981c-86fa5bbec1e1"
      },
      "outputs": [],
      "source": ""
    }
  ],
  "metadata": {
    "_change_revision": 0,
    "_is_fork": false,
    "kernelspec": {
      "display_name": "Python 3",
      "language": "python",
      "name": "python3"
    },
    "language_info": {
      "codemirror_mode": {
        "name": "ipython",
        "version": 3
      },
      "file_extension": ".py",
      "mimetype": "text/x-python",
      "name": "python",
      "nbconvert_exporter": "python",
      "pygments_lexer": "ipython3",
      "version": "3.5.2"
    }
  },
  "nbformat": 4,
  "nbformat_minor": 0
}