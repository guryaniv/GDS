{
  "cells": [
    {
      "cell_type": "markdown",
      "metadata": {
        "_cell_guid": "5ac032bc-de09-7c72-fe24-64d1a317b5b0"
      },
      "source": [
        "Pandas rolling, and a quick look at missing values. Take a look at the end to see how to do rolling mean for each id group"
      ]
    },
    {
      "cell_type": "code",
      "execution_count": null,
      "metadata": {
        "_cell_guid": "46b2e1b0-5d75-046e-56de-a5802cc049ea"
      },
      "outputs": [],
      "source": [
        "import numpy as np # linear algebra\n",
        "import pandas as pd # data processing, CSV file I/O (e.g. pd.read_csv)\n",
        "import kagglegym\n",
        "import missingno # very useful for quickly visualizing nan values\n",
        "import matplotlib.pyplot as plt"
      ]
    },
    {
      "cell_type": "code",
      "execution_count": null,
      "metadata": {
        "_cell_guid": "35e9ef70-c3d4-a11e-acfb-7d053f6380f4"
      },
      "outputs": [],
      "source": [
        "# set up the kagglegym environment\n",
        "env = kagglegym.make()\n",
        "observation = env.reset()"
      ]
    },
    {
      "cell_type": "code",
      "execution_count": null,
      "metadata": {
        "_cell_guid": "b8228c8f-c19a-6524-e631-f0c67f8d610d"
      },
      "outputs": [],
      "source": [
        "id_groups = observation.train.groupby(['id'])\n",
        "example_group = id_groups.get_group(22)\n",
        "example_group.head(8)"
      ]
    },
    {
      "cell_type": "code",
      "execution_count": null,
      "metadata": {
        "_cell_guid": "cc0c0d26-219f-281f-fc4e-fb92dd1cf02a"
      },
      "outputs": [],
      "source": [
        "example_group.shape"
      ]
    },
    {
      "cell_type": "code",
      "execution_count": null,
      "metadata": {
        "_cell_guid": "d63a9d96-c6a1-d1a2-c699-d85a14f90670"
      },
      "outputs": [],
      "source": [
        "# take a look at the missing values for the first 55 columns\n",
        "missingno.matrix(example_group.iloc[:,:55], figsize=(8,6))"
      ]
    },
    {
      "cell_type": "code",
      "execution_count": null,
      "metadata": {
        "_cell_guid": "ec491686-9368-f23c-4ebd-1687206a442b"
      },
      "outputs": [],
      "source": [
        "# the missing values for the remaining columns\n",
        "missingno.matrix(example_group.iloc[:,55:], figsize=(8,6))"
      ]
    },
    {
      "cell_type": "markdown",
      "metadata": {
        "_cell_guid": "87415d77-6946-dc7f-bbc5-76468a1b52ba"
      },
      "source": [
        "Taking a look at the missing values, the first thing that pops out is that once valid values occur there are no more missing values. Because of this it may or may not actually be useful to fill in the values. Doing a forward fill will actually do nothing here. "
      ]
    },
    {
      "cell_type": "code",
      "execution_count": null,
      "metadata": {
        "_cell_guid": "56eeeaa2-9aa1-bb4f-279f-040d0ef10a95"
      },
      "outputs": [],
      "source": [
        "# take rolling mean, for each group. \n",
        "# Id and timestamp should be excluded from this calculation as there is no meaning to smoothed values of these\n",
        "id_groups = observation.train.groupby(['id'])\n",
        "smoothed = id_groups.apply(lambda group:group.rolling(window=5).mean()).reset_index(0, drop=True) # found with form with internet search\n",
        "smoothed = smoothed.sort_index()\n",
        "smoothed"
      ]
    },
    {
      "cell_type": "markdown",
      "metadata": {
        "_cell_guid": "d89b70b0-2eca-c2d8-987b-9d86a44d3843"
      },
      "source": [
        "Since train is ordered by timestamp it makes sense that the start of this data is all nan because of the rolling mean. "
      ]
    },
    {
      "cell_type": "code",
      "execution_count": null,
      "metadata": {
        "_cell_guid": "d752b691-a2cb-1d16-e769-203df4c8a717"
      },
      "outputs": [],
      "source": ""
    }
  ],
  "metadata": {
    "_change_revision": 0,
    "_is_fork": false,
    "kernelspec": {
      "display_name": "Python 3",
      "language": "python",
      "name": "python3"
    },
    "language_info": {
      "codemirror_mode": {
        "name": "ipython",
        "version": 3
      },
      "file_extension": ".py",
      "mimetype": "text/x-python",
      "name": "python",
      "nbconvert_exporter": "python",
      "pygments_lexer": "ipython3",
      "version": "3.5.2"
    }
  },
  "nbformat": 4,
  "nbformat_minor": 0
}