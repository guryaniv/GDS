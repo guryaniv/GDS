{
  "cells": [
    {
      "cell_type": "markdown",
      "metadata": {
        "_cell_guid": "d0a037a6-6e20-ab59-2455-c6e28ae3d056"
      },
      "source": [
        "# PCA to determine relevant features"
      ]
    },
    {
      "cell_type": "code",
      "execution_count": null,
      "metadata": {
        "_cell_guid": "cf98585a-c141-0f8b-ba57-53b9c1ca280f"
      },
      "outputs": [],
      "source": [
        "# Importing main packages and settings\n",
        "import numpy as np\n",
        "import pandas as pd\n",
        "import matplotlib.pyplot as plt\n",
        "import seaborn as sns\n",
        "\n",
        "from sklearn.decomposition import PCA\n",
        "from sklearn.model_selection import cross_val_score\n",
        "from sklearn.pipeline import make_pipeline\n",
        "from sklearn.linear_model import Ridge, RidgeCV, ElasticNetCV, OrthogonalMatchingPursuitCV"
      ]
    },
    {
      "cell_type": "code",
      "execution_count": null,
      "metadata": {
        "_cell_guid": "3c7ac824-d471-b8ff-cb4d-21789c95f11c"
      },
      "outputs": [],
      "source": [
        "# Function for plotting the scores for different alphas used in Ridge regression\n",
        "def display_plot(cv_scores, cv_scores_std):\n",
        "    fig = plt.figure()\n",
        "    ax = fig.add_subplot(1,1,1)\n",
        "    ax.plot(alpha_space, cv_scores)\n",
        "\n",
        "    std_error = cv_scores_std / np.sqrt(10)\n",
        "\n",
        "    ax.fill_between(alpha_space, cv_scores + std_error, cv_scores - std_error, alpha=0.2)\n",
        "    ax.set_ylabel('CV Score +/- Std Error')\n",
        "    ax.set_xlabel('Alpha')\n",
        "    ax.axhline(np.max(cv_scores), linestyle='--', color='.5')\n",
        "    ax.set_xlim([alpha_space[0], alpha_space[-1]])\n",
        "    ax.set_xscale('log')\n",
        "    plt.show()"
      ]
    },
    {
      "cell_type": "markdown",
      "metadata": {
        "_cell_guid": "80fd3180-ef43-b147-0213-b6896dfa44ad"
      },
      "source": [
        "# Loading and formatting the data"
      ]
    },
    {
      "cell_type": "code",
      "execution_count": null,
      "metadata": {
        "_cell_guid": "63babe32-7650-0ab2-ccaa-4c7ba2655366"
      },
      "outputs": [],
      "source": [
        "# Loading the training dataset\n",
        "df_train = pd.read_csv('../input/train.csv')\n",
        "df_test = pd.read_csv('../input/test.csv')"
      ]
    },
    {
      "cell_type": "code",
      "execution_count": null,
      "metadata": {
        "_cell_guid": "7aa8abd6-5992-a0ed-79c6-f78fe3cd0cfc"
      },
      "outputs": [],
      "source": [
        "# turning object features into dummy variables\n",
        "df_train_dummies = pd.get_dummies(df_train, drop_first=True)\n",
        "df_test_dummies = pd.get_dummies(df_test, drop_first=True)\n",
        "\n",
        "# dropping ID and the target variable\n",
        "df_train_dummies = df_train_dummies.drop(['ID','y'], axis=1)\n",
        "df_test_dummies = df_test_dummies.drop('ID', axis=1)\n",
        "\n",
        "print(\"Clean Train DataFrame With Dummy Variables: {}\".format(df_train_dummies.shape))\n",
        "print(\"Clean Test DataFrame With Dummy Variables: {}\".format(df_test_dummies.shape))"
      ]
    },
    {
      "cell_type": "code",
      "execution_count": null,
      "metadata": {
        "_cell_guid": "213c956f-57a7-d2b9-ba1d-3a78f1c16423"
      },
      "outputs": [],
      "source": [
        "# concatenate to only include columns in both data sets\n",
        "# the number should be based on the number of columns. Original is 30471. Now set to 15471 after outlier handling etc.\n",
        "df_temp = pd.concat([df_train_dummies, df_test_dummies], join='inner')\n",
        "df_temp_train = df_temp[:len(df_train.index)]\n",
        "df_temp_test = df_temp[len(df_train.index):]\n",
        "\n",
        "# check shapes of combined df and split out again\n",
        "print(df_temp.shape)\n",
        "print(df_temp_train.shape)\n",
        "print(df_temp_test.shape)"
      ]
    },
    {
      "cell_type": "code",
      "execution_count": null,
      "metadata": {
        "_cell_guid": "f7f3b97d-ca55-a9d9-d65e-6c51e56a826b"
      },
      "outputs": [],
      "source": [
        "# defining X and y\n",
        "X = df_temp_train\n",
        "test_X = df_temp_test\n",
        "y = df_train['y']"
      ]
    },
    {
      "cell_type": "code",
      "execution_count": null,
      "metadata": {
        "_cell_guid": "9e0b678d-5139-603f-fc53-ec7f671c87e4"
      },
      "outputs": [],
      "source": [
        "X.head()"
      ]
    },
    {
      "cell_type": "markdown",
      "metadata": {
        "_cell_guid": "1fb92394-a97d-cffa-f647-487804b732b1"
      },
      "source": [
        "# First PCA Test\n",
        "Showing variance explained by PCA features"
      ]
    },
    {
      "cell_type": "code",
      "execution_count": null,
      "metadata": {
        "_cell_guid": "02156de0-ab4f-7411-0b7a-59f0b7d5ae19"
      },
      "outputs": [],
      "source": [
        "# Create a PCA instance: pca\n",
        "pca = PCA()\n",
        "\n",
        "# Fit the pca to 'samples'\n",
        "pca.fit(X)\n",
        "\n",
        "# Plot the explained variances\n",
        "features = range(pca.n_components_)\n",
        "plt.bar(features, pca.explained_variance_)\n",
        "plt.xlabel('PCA feature')\n",
        "plt.ylabel('variance')\n",
        "plt.xticks(features)\n",
        "plt.show()"
      ]
    },
    {
      "cell_type": "markdown",
      "metadata": {
        "_cell_guid": "2ed040ec-3e00-2750-dafe-311b4c81795e"
      },
      "source": [
        "# Second PCA Test\n",
        "Showing variance explained by top n components (50) and transforming the original data sets"
      ]
    },
    {
      "cell_type": "code",
      "execution_count": null,
      "metadata": {
        "_cell_guid": "d1afd178-4286-fa57-a474-136b290cdc2c"
      },
      "outputs": [],
      "source": [
        "# Create a PCA instance: pca\n",
        "pca2 = PCA(n_components=50)\n",
        "\n",
        "# Fit the pca to 'samples'\n",
        "pca2.fit(X)\n",
        "\n",
        "pca_X = pca2.transform(X)\n",
        "pca_test_X = pca2.transform(test_X)\n",
        "\n",
        "# Plot the explained variances\n",
        "features = range(pca2.n_components_)\n",
        "plt.bar(features, pca2.explained_variance_)\n",
        "plt.xlabel('PCA feature')\n",
        "plt.ylabel('variance')\n",
        "plt.xticks(features)\n",
        "plt.show()"
      ]
    },
    {
      "cell_type": "code",
      "execution_count": null,
      "metadata": {
        "_cell_guid": "8e7d5460-ff5b-f8fd-daee-2665fc0c23dc"
      },
      "outputs": [],
      "source": [
        "print(pca_features.shape)"
      ]
    },
    {
      "cell_type": "markdown",
      "metadata": {
        "_cell_guid": "f629ef56-9872-0237-0e22-245d8d0e4555"
      },
      "source": [
        "# Impact of PCA on alphas used in Ridge regression\n",
        "Top chart shows the original Ridge regression with the impact of alpha on scores\n",
        "Second chart shows the Ridge regression on the PCA transformed data set with the impact of alpha on scores"
      ]
    },
    {
      "cell_type": "code",
      "execution_count": null,
      "metadata": {
        "_cell_guid": "3279464c-c33d-c0b4-a131-249d08118b70"
      },
      "outputs": [],
      "source": [
        "# Setup the array of alphas and lists to store scores\n",
        "alpha_space = np.logspace(-4, 0, 20)\n",
        "ridge_scores = []\n",
        "ridge_scores_std = []\n",
        "\n",
        "# Create a ridge regressor: ridge\n",
        "ridge = Ridge(normalize=True)\n",
        "\n",
        "# Compute scores over range of alphas\n",
        "for alpha in alpha_space:\n",
        "\n",
        "    # Specify the alpha value to use: ridge.alpha\n",
        "    ridge.alpha = alpha\n",
        "    \n",
        "    # Perform 10-fold CV: ridge_cv_scores\n",
        "    ridge_cv_scores = cross_val_score(ridge, X, y, cv=5)\n",
        "    \n",
        "    # Append the mean of ridge_cv_scores to ridge_scores\n",
        "    ridge_scores.append(np.mean(ridge_cv_scores))\n",
        "    \n",
        "    # Append the std of ridge_cv_scores to ridge_scores_std\n",
        "    ridge_scores_std.append(np.std(ridge_cv_scores))\n",
        "\n",
        "# Display the plot\n",
        "display_plot(ridge_scores, ridge_scores_std)"
      ]
    },
    {
      "cell_type": "code",
      "execution_count": null,
      "metadata": {
        "_cell_guid": "e16fe7ef-c650-d472-0c07-02b3fc0a7f28"
      },
      "outputs": [],
      "source": [
        "# Setup the array of alphas and lists to store scores\n",
        "alpha_space = np.logspace(-4, 0, 20)\n",
        "ridge_scores = []\n",
        "ridge_scores_std = []\n",
        "\n",
        "# Create a ridge regressor: ridge\n",
        "ridge = Ridge(normalize=True)\n",
        "\n",
        "# Compute scores over range of alphas\n",
        "for alpha in alpha_space:\n",
        "\n",
        "    # Specify the alpha value to use: ridge.alpha\n",
        "    ridge.alpha = alpha\n",
        "    \n",
        "    # Perform 10-fold CV: ridge_cv_scores\n",
        "    ridge_cv_scores = cross_val_score(ridge, pca_X, y, cv=5)\n",
        "    \n",
        "    # Append the mean of ridge_cv_scores to ridge_scores\n",
        "    ridge_scores.append(np.mean(ridge_cv_scores))\n",
        "    \n",
        "    # Append the std of ridge_cv_scores to ridge_scores_std\n",
        "    ridge_scores_std.append(np.std(ridge_cv_scores))\n",
        "\n",
        "# Display the plot\n",
        "display_plot(ridge_scores, ridge_scores_std)"
      ]
    },
    {
      "cell_type": "code",
      "execution_count": null,
      "metadata": {
        "_cell_guid": "25b420d1-298d-f917-8804-9f2e7a3f3967"
      },
      "outputs": [],
      "source": [
        "# instantiating different regressors\n",
        "rcv = RidgeCV()\n",
        "ecv = ElasticNetCV()\n",
        "ompcv = OrthogonalMatchingPursuitCV()"
      ]
    },
    {
      "cell_type": "code",
      "execution_count": null,
      "metadata": {
        "_cell_guid": "c0935627-202c-7bb9-165a-d48f4e15908e"
      },
      "outputs": [],
      "source": [
        "# bad for but just for now:\n",
        "import warnings\n",
        "warnings.filterwarnings(\"ignore\")\n",
        "\n",
        "# Compute 10-fold cross-validation scores: cv_scores\n",
        "cv_scores_rcv = cross_val_score(rcv, X, y, cv=5)\n",
        "cv_scores_ecv = cross_val_score(ecv, X, y, cv=5)\n",
        "cv_scores_ompcv = cross_val_score(ompcv, X, y, cv=5)\n",
        "\n",
        "# Compute 10-fold cross-validation scores: cv_scores\n",
        "cv_scores_pca_rcv = cross_val_score(rcv, pca_X, y, cv=5)\n",
        "cv_scores_pca_ecv = cross_val_score(ecv, pca_X, y, cv=5)\n",
        "cv_scores_pca_ompcv = cross_val_score(ompcv, pca_X, y, cv=5)\n",
        "\n",
        "# Print the 10-fold cross-validation scores\n",
        "print(cv_scores_rcv)\n",
        "print(cv_scores_ecv)\n",
        "print(cv_scores_ompcv)\n",
        "print(cv_scores_pca_rcv)\n",
        "print(cv_scores_pca_ecv)\n",
        "print(cv_scores_pca_ompcv)\n",
        "\n",
        "print(\"Average 5-Fold RidgeCV CV Score: {}\".format(np.mean(cv_scores_rcv)))\n",
        "print(\"Average 5-Fold ElasticNetCV CV Score: {}\".format(np.mean(cv_scores_ecv)))\n",
        "print(\"Average 5-Fold OrthogonalMatchingPursuitCV CV Score: {}\".format(np.mean(cv_scores_ompcv)))\n",
        "print(\"Average 5-Fold PCA RidgeCV CV Score: {}\".format(np.mean(cv_scores_pca_rcv)))\n",
        "print(\"Average 5-Fold PAC ElasticNetCV CV Score: {}\".format(np.mean(cv_scores_pca_ecv)))\n",
        "print(\"Average 5-Fold PCA OrthogonalMatchingPursuitCV CV Score: {}\".format(np.mean(cv_scores_pca_ompcv)))"
      ]
    },
    {
      "cell_type": "code",
      "execution_count": null,
      "metadata": {
        "_cell_guid": "f3a078dc-0d6c-8bea-1ce3-d2aa2a68c702"
      },
      "outputs": [],
      "source": [
        "# Create a PCA instance: pca\n",
        "pca10 = PCA(n_components=10)\n",
        "pca20 = PCA(n_components=20)\n",
        "pca50 = PCA(n_components=50)\n",
        "pca100 = PCA(n_components=100)\n",
        "pca200 = PCA(n_components=200)\n",
        "pca300 = PCA(n_components=300)\n",
        "\n",
        "# Fit the pca to 'samples'\n",
        "pca10.fit(X)\n",
        "pca20.fit(X)\n",
        "pca50.fit(X)\n",
        "pca100.fit(X)\n",
        "pca200.fit(X)\n",
        "pca300.fit(X)\n",
        "\n",
        "pca10_X = pca10.transform(X)\n",
        "pca20_X = pca20.transform(X)\n",
        "pca50_X = pca50.transform(X)\n",
        "pca100_X = pca100.transform(X)\n",
        "pca200_X = pca200.transform(X)\n",
        "pca300_X = pca300.transform(X)"
      ]
    },
    {
      "cell_type": "code",
      "execution_count": null,
      "metadata": {
        "_cell_guid": "89b219a1-a2bd-33ac-5bd8-ae6afb0ebfdf"
      },
      "outputs": [],
      "source": [
        "# bad for but just for now:\n",
        "import warnings\n",
        "warnings.filterwarnings(\"ignore\")\n",
        "\n",
        "# Compute 5-fold cross-validation scores: cv_scores\n",
        "cv_scores_pca10_ecv = cross_val_score(ecv, pca10_X, y, cv=5)\n",
        "cv_scores_pca20_ecv = cross_val_score(ecv, pca20_X, y, cv=5)\n",
        "cv_scores_pca50_ecv = cross_val_score(ecv, pca50_X, y, cv=5)\n",
        "cv_scores_pca100_ecv = cross_val_score(ecv, pca100_X, y, cv=5)\n",
        "cv_scores_pca200_ecv = cross_val_score(ecv, pca200_X, y, cv=5)\n",
        "cv_scores_pca300_ecv = cross_val_score(ecv, pca300_X, y, cv=5)\n",
        "cv_scores_nopca_ecv = cross_val_score(ecv, X, y, cv=5)\n",
        "\n",
        "print(\"Average 5-Fold 10 PCA ElasticNetCV CV Score: {}\".format(np.mean(cv_scores_pca10_ecv)))\n",
        "print(\"Average 5-Fold 20 PCA ElasticNetCV CV Score: {}\".format(np.mean(cv_scores_pca20_ecv)))\n",
        "print(\"Average 5-Fold 50 PCA ElasticNetCV CV Score: {}\".format(np.mean(cv_scores_pca50_ecv)))\n",
        "print(\"Average 5-Fold 100 PCA ElasticNetCV CV Score: {}\".format(np.mean(cv_scores_pca100_ecv)))\n",
        "print(\"Average 5-Fold 200 PCA ElasticNetCV CV Score: {}\".format(np.mean(cv_scores_pca200_ecv)))\n",
        "print(\"Average 5-Fold 300 PCA ElasticNetCV CV Score: {}\".format(np.mean(cv_scores_pca300_ecv)))\n",
        "print(\"Average 5-Fold No PCA ElasticNetCV CV Score: {}\".format(np.mean(cv_scores_nopca_ecv)))"
      ]
    },
    {
      "cell_type": "code",
      "execution_count": null,
      "metadata": {
        "_cell_guid": "1bb02d72-0743-d651-0359-f9416681dadc"
      },
      "outputs": [],
      "source": ""
    }
  ],
  "metadata": {
    "_change_revision": 0,
    "_is_fork": false,
    "kernelspec": {
      "display_name": "Python 3",
      "language": "python",
      "name": "python3"
    },
    "language_info": {
      "codemirror_mode": {
        "name": "ipython",
        "version": 3
      },
      "file_extension": ".py",
      "mimetype": "text/x-python",
      "name": "python",
      "nbconvert_exporter": "python",
      "pygments_lexer": "ipython3",
      "version": "3.6.0"
    }
  },
  "nbformat": 4,
  "nbformat_minor": 0
}