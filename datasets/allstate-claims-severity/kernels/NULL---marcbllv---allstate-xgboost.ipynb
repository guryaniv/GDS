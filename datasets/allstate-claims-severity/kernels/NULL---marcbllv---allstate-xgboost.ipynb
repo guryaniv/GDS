{
  "cells": [
    {
      "cell_type": "code",
      "execution_count": null,
      "metadata": {
        "_cell_guid": "baada190-0ce3-db81-70be-c32455091d48"
      },
      "outputs": [],
      "source": [
        "# This Python 3 environment comes with many helpful analytics libraries installed\n",
        "# It is defined by the kaggle/python docker image: https://github.com/kaggle/docker-python\n",
        "# For example, here's several helpful packages to load in \n",
        "\n",
        "import numpy as np # linear algebra\n",
        "import pandas as pd # data processing, CSV file I/O (e.g. pd.read_csv)\n",
        "\n",
        "# Input data files are available in the \"../input/\" directory.\n",
        "# For example, running this (by clicking run or pressing Shift+Enter) will list the files in the input directory\n",
        "\n",
        "from subprocess import check_output\n",
        "print(check_output([\"ls\", \"../input\"]).decode(\"utf8\"))\n",
        "\n",
        "# Any results you write to the current directory are saved as output."
      ]
    },
    {
      "cell_type": "code",
      "execution_count": null,
      "metadata": {
        "_cell_guid": "1720346e-2ac2-a847-6445-e5914a16ec1d"
      },
      "outputs": [],
      "source": [
        "import pandas as pd\n",
        "import numpy as np\n",
        "import xgboost as xgb\n",
        "import matplotlib.pyplot as plt\n",
        "import seaborn as sns"
      ]
    },
    {
      "cell_type": "code",
      "execution_count": null,
      "metadata": {
        "_cell_guid": "b66a6b38-0d2a-3f49-f61a-904ba7d60c37"
      },
      "outputs": [],
      "source": [
        "train = pd.read_csv('../input/train.csv')\n",
        "test  = pd.read_csv('../input/test.csv')"
      ]
    },
    {
      "cell_type": "code",
      "execution_count": null,
      "metadata": {
        "_cell_guid": "d8db2ff0-2ebd-d228-f3fb-5e3e97242355"
      },
      "outputs": [],
      "source": [
        "sns.distplot(train.loss)"
      ]
    },
    {
      "cell_type": "code",
      "execution_count": null,
      "metadata": {
        "_cell_guid": "711d1d5b-9bbe-87bc-bbe4-f468f908ba0b"
      },
      "outputs": [],
      "source": [
        "train.loc[:,'loss'] = np.log(1 + train.loss)\n",
        "sns.distplot(train.loss)"
      ]
    },
    {
      "cell_type": "code",
      "execution_count": null,
      "metadata": {
        "_cell_guid": "415c5cb2-bd8b-d2b1-ead1-4d2bff603ff1"
      },
      "outputs": [],
      "source": [
        "params = {'eta':0.01, 'nthread':12, 'silent':0, 'eval_metric':'mae',\n",
        "          'subsample': 0.83, 'colsample_bytree': 0.45, 'gamma': 0.21, 'alpha': 0.24, \n",
        "          'max_depth': 7, 'min_child_weight': 2.0, 'lambda': 0.46}\n",
        "num_boost_round = 1000\n",
        "\n",
        "tr = train.drop(['id', 'loss'], axis=1).values\n",
        "lbl = train['loss']\n",
        "\n",
        "print('Training...')\n",
        "bst = xgb.train(params=params, \n",
        "                dtrain=xgb.DMatrix(tr, label=lbl), \n",
        "                num_boost_round=num_boost_round)\n",
        "print('Done')"
      ]
    },
    {
      "cell_type": "code",
      "execution_count": null,
      "metadata": {
        "_cell_guid": "96b4e1ae-ac9b-09dd-1aca-be7acbcb6779"
      },
      "outputs": [],
      "source": ""
    }
  ],
  "metadata": {
    "_change_revision": 0,
    "_is_fork": false,
    "kernelspec": {
      "display_name": "Python 3",
      "language": "python",
      "name": "python3"
    },
    "language_info": {
      "codemirror_mode": {
        "name": "ipython",
        "version": 3
      },
      "file_extension": ".py",
      "mimetype": "text/x-python",
      "name": "python",
      "nbconvert_exporter": "python",
      "pygments_lexer": "ipython3",
      "version": "3.5.2"
    }
  },
  "nbformat": 4,
  "nbformat_minor": 0
}