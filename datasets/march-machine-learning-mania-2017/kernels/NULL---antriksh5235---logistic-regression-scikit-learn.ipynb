{
  "cells": [
    {
      "cell_type": "code",
      "execution_count": null,
      "metadata": {
        "_cell_guid": "de1da0c3-0bf5-f9e2-3723-c04f3843fba2"
      },
      "outputs": [],
      "source": [
        "# This Python 3 environment comes with many helpful analytics libraries installed\n",
        "# It is defined by the kaggle/python docker image: https://github.com/kaggle/docker-python\n",
        "# For example, here's several helpful packages to load in \n",
        "\n",
        "import numpy as np # linear algebra\n",
        "import pandas as pd # data processing, CSV file I/O (e.g. pd.read_csv)\n",
        "from datetime import datetime, date, time\n",
        "from sklearn.linear_model import LogisticRegression\n",
        "import matplotlib\n",
        "import matplotlib.pyplot as plt\n",
        "matplotlib.style.use('ggplot')\n",
        "\n",
        "alpha = 10\n",
        "lamda = 0.001\n",
        "e = 2.718281828459045235\n",
        "\n",
        "# Input data files are available in the \"../input/\" directory.\n",
        "# For example, running this (by clicking run or pressing Shift+Enter) will list the files in the input directory\n",
        "\n",
        "from subprocess import check_output\n",
        "print(check_output([\"ls\", \"../input\"]).decode(\"utf8\"))\n",
        "\n",
        "# Any results you write to the current directory are saved as output."
      ]
    },
    {
      "cell_type": "code",
      "execution_count": null,
      "metadata": {
        "_cell_guid": "1d443da2-868f-5aac-5947-c7391a6926ea"
      },
      "outputs": [],
      "source": [
        "detailed = pd.read_csv('../input/RegularSeasonDetailedResults.csv')\n",
        "detailed.drop(['Season','Daynum','Wloc','Wteam', 'Lteam', 'Lscore'], axis=1, inplace=True)\n",
        "detailed.head()\n",
        "y = pd.read_csv('../input/RegularSeasonDetailedResults.csv', usecols=['Wscore'])\n",
        "y.head()\n",
        "#print(list(detailed))"
      ]
    },
    {
      "cell_type": "code",
      "execution_count": null,
      "metadata": {
        "_cell_guid": "9a54fd68-934d-f365-b4c8-38b29e8f78e7"
      },
      "outputs": [],
      "source": [
        "y = np.ravel(y)\n",
        "clf = LogisticRegression(verbose=1)\n",
        "clf.fit(detailed, y)\n",
        "\n",
        "#Prediction Probability\n",
        "y_pred = clf.predict_proba(detailed)[:,1]\n",
        "\n",
        "print(zip(y_pred,y))"
      ]
    }
  ],
  "metadata": {
    "_change_revision": 0,
    "_is_fork": false,
    "kernelspec": {
      "display_name": "Python 3",
      "language": "python",
      "name": "python3"
    },
    "language_info": {
      "codemirror_mode": {
        "name": "ipython",
        "version": 3
      },
      "file_extension": ".py",
      "mimetype": "text/x-python",
      "name": "python",
      "nbconvert_exporter": "python",
      "pygments_lexer": "ipython3",
      "version": "3.6.0"
    }
  },
  "nbformat": 4,
  "nbformat_minor": 0
}