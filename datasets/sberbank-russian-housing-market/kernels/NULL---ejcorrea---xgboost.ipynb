{
  "cells": [
    {
      "cell_type": "code",
      "execution_count": null,
      "metadata": {
        "_cell_guid": "3e3a49fa-b2e9-9dad-5238-9e05862e0ae1"
      },
      "outputs": [],
      "source": [
        "import pandas as pd\n",
        "import numpy as np\n",
        "from sklearn.model_selection import train_test_split"
      ]
    },
    {
      "cell_type": "code",
      "execution_count": null,
      "metadata": {
        "_cell_guid": "d453c5d7-0700-59f9-9b32-32cc766765cb"
      },
      "outputs": [],
      "source": [
        "input/data = pd.read_csv('./input/train.csv', parse_dates=['timestamp'])\n",
        "test = pd.read_csv('./input/test.csv', parse_dates=['timestamp'])"
      ]
    },
    {
      "cell_type": "code",
      "execution_count": null,
      "metadata": {
        "_cell_guid": "ee04f3e7-db34-97d2-47df-17d9e1e141a2"
      },
      "outputs": [],
      "source": [
        "data.head()"
      ]
    },
    {
      "cell_type": "code",
      "execution_count": null,
      "metadata": {
        "_cell_guid": "8934ce92-91c8-77ee-f21a-75f842610be1"
      },
      "outputs": [],
      "source": [
        "data.describe()\n",
        "data[\"area_m\"].head()"
      ]
    },
    {
      "cell_type": "code",
      "execution_count": null,
      "metadata": {
        "_cell_guid": "c5547ecf-513a-9716-6e7a-96c242ec3283"
      },
      "outputs": [],
      "source": [
        "import matplotlib.pyplot as plt\n",
        "import seaborn as sns\n",
        "plt.figure(figsize = (10,8))\n",
        "sns.distplot(data.price_doc.values, bins = 60, kde = True)\n",
        "plt.xlabel('Price Doc', fontsize = 12)\n",
        "plt.show()"
      ]
    },
    {
      "cell_type": "code",
      "execution_count": null,
      "metadata": {
        "_cell_guid": "3491f439-31dc-cfba-ac6a-3a107db307c4"
      },
      "outputs": [],
      "source": [
        "def missing_plot(dataframe, figure_x, figure_y):\n",
        "    df = dataframe.isnull().sum().reset_index()\n",
        "    df.columns = ['column_name', 'na_count']\n",
        "    df = df[df.na_count > 0]\n",
        "    df = df.sort_values(by=['na_count'], ascending = [False])\n",
        "    plt.figure(figsize=(figure_x, figure_y))\n",
        "    sns.barplot(x=\"na_count\",y =\"column_name\", data = df, orient=\"h\")\n",
        "    plt.xlabel('Missing count', fontsize=12)\n",
        "    plt.show()\n",
        "#missing_plot(data, 10,45)"
      ]
    },
    {
      "cell_type": "code",
      "execution_count": null,
      "metadata": {
        "_cell_guid": "233d41f8-0f03-7f10-9826-45e756434bca"
      },
      "outputs": [],
      "source": ""
    },
    {
      "cell_type": "code",
      "execution_count": null,
      "metadata": {
        "_cell_guid": "211ba074-10d9-f42b-9f8e-ca5efafb0f86"
      },
      "outputs": [],
      "source": [
        "data.fillna(data.mean(), inplace = True)\n",
        "test.fillna(test.mean(), inplace = True)"
      ]
    },
    {
      "cell_type": "code",
      "execution_count": null,
      "metadata": {
        "_cell_guid": "4952b04a-2fa5-42ad-916e-f2c8b1ee16b5"
      },
      "outputs": [],
      "source": [
        "macro = pd.read_csv('./input/macro.csv', parse_dates=['timestamp'])\n",
        "def add_dates_to_data(x):\n",
        "    # Add all data to left join by timestamp\n",
        "    all_info = pd.merge_ordered(x, macro, on = 'timestamp', how = 'left')\n",
        "    # Add more relevant date information\n",
        "    all_info['year'] = all_info.timestamp.dt.year\n",
        "    all_info['month'] = all_info.timestamp.dt.month\n",
        "    all_info['dow'] = all_info.timestamp.dt.dayofweek\n",
        "    all_info.drop(['timestamp'], axis = 1, inplace = True)\n",
        "    # Other relevant\n",
        "    all_info['rel_floor'] = all_info['floor'] / all_info['max_floor'].astype(float)\n",
        "    all_info['rel_kitch_sq'] = all_info['kitch_sq'] / all_info['full_sq'].astype(float)\n",
        "    all_info['area_rel_neigh'] = all_info['full_sq'] / all_info['area_m'].astype(float)\n",
        "    return all_info\n",
        "data = add_dates_to_data(data)\n",
        "test = add_dates_to_data(test)"
      ]
    },
    {
      "cell_type": "code",
      "execution_count": null,
      "metadata": {
        "_cell_guid": "b495c7dd-f57c-849d-e2ab-20c0cbb00562"
      },
      "outputs": [],
      "source": [
        "columns = data.columns.difference([\"id\", \"price_doc\", \"timestamp\"])\n",
        "x = data[columns]\n",
        "y = data[\"price_doc\"]\n",
        "test_id = test[\"id\"]\n",
        "test = test[columns]"
      ]
    },
    {
      "cell_type": "code",
      "execution_count": null,
      "metadata": {
        "_cell_guid": "10cef545-33ae-f061-3ef5-ad169dc8237d"
      },
      "outputs": [],
      "source": [
        "def deal_with_categorical_values(X):\n",
        "    X = X.select_dtypes(exclude=['object'])\n",
        "    X_obj = X.select_dtypes(include=['object']).copy()\n",
        "\n",
        "    for c in X_obj:\n",
        "        X_obj[c] = pd.factorize(X_obj[c])[0]\n",
        "\n",
        "    return pd.concat([X, X_obj], axis=1)\n",
        "x = deal_with_categorical_values(x)\n",
        "columns = x.columns\n",
        "test = deal_with_categorical_values(test)"
      ]
    },
    {
      "cell_type": "code",
      "execution_count": null,
      "metadata": {
        "_cell_guid": "7b44f787-13bf-9446-9800-e5f32e02bd0a"
      },
      "outputs": [],
      "source": [
        "x_train, x_test, y_train, y_test = train_test_split(x, y, test_size = 0.15)"
      ]
    },
    {
      "cell_type": "code",
      "execution_count": null,
      "metadata": {
        "_cell_guid": "acb06cd9-177f-8a68-b53f-85c8bca39aec"
      },
      "outputs": [],
      "source": [
        "import xgboost as xgb\n",
        "xgb_params = {\n",
        "    'eta': 0.05,\n",
        "    'max_depth': 6,\n",
        "    'subsample': 0.7,\n",
        "    'colsample_bytree': 0.7,\n",
        "    'objective': 'reg:linear',\n",
        "    'eval_metric': 'rmse',\n",
        "    'silent': 0\n",
        "}\n",
        "\n",
        "dtrain = xgb.DMatrix(x_train, y_train, feature_names=columns)\n",
        "dtest = xgb.DMatrix(x_test, feature_names=columns)"
      ]
    },
    {
      "cell_type": "code",
      "execution_count": null,
      "metadata": {
        "_cell_guid": "a22418c8-cb4a-3b15-9951-bc9df1f42df7"
      },
      "outputs": [],
      "source": [
        "model = xgb.train(xgb_params, dtrain, num_boost_round=300)"
      ]
    },
    {
      "cell_type": "code",
      "execution_count": null,
      "metadata": {
        "_cell_guid": "b8bb99c8-4a96-bc40-450b-cabdf45f65e6"
      },
      "outputs": [],
      "source": [
        "fig, ax = plt.subplots(1, 1, figsize=(8, 16))\n",
        "xgb.plot_importance(model, max_num_features=30, height=0.5, ax=ax)\n",
        "plt.show()"
      ]
    },
    {
      "cell_type": "code",
      "execution_count": null,
      "metadata": {
        "_cell_guid": "3c453b69-b0c3-32a4-d094-391e605f0a52"
      },
      "outputs": [],
      "source": [
        "from sklearn.metrics import explained_variance_score, mean_absolute_error\n",
        "predicted_test_y = model.predict(dtrain)\n",
        "round_predicted_test_y = [int(value) for value in predicted_test_y]\n",
        "print(\"mean_absolute_error: %.2f\" % mean_absolute_error(y_train.values, round_predicted_test_y))\n",
        "print(\"explained_variance_score: %.2f\" % explained_variance_score(y_train.values, round_predicted_test_y))"
      ]
    },
    {
      "cell_type": "code",
      "execution_count": null,
      "metadata": {
        "_cell_guid": "6a3f7443-6770-fd8b-f452-8b169ff971c4"
      },
      "outputs": [],
      "source": [
        "test = xgb.DMatrix(test, feature_names=columns)\n",
        "test_y = model.predict(test)"
      ]
    },
    {
      "cell_type": "code",
      "execution_count": null,
      "metadata": {
        "_cell_guid": "b2a57100-ebbe-8d57-05ce-4b4af72be5e9"
      },
      "outputs": [],
      "source": [
        "res = pd.DataFrame()\n",
        "res['id'] = test_id.values\n",
        "res['price_doc'] = test_y\n",
        "res.to_csv('final.csv', index=False)"
      ]
    },
    {
      "cell_type": "code",
      "execution_count": null,
      "metadata": {
        "_cell_guid": "de0a6869-fc2d-851a-86ab-d85433602e96",
        "collapsed": true
      },
      "outputs": [],
      "source": ""
    }
  ],
  "metadata": {
    "_change_revision": 0,
    "_is_fork": false,
    "kernelspec": {
      "display_name": "Python 3",
      "language": "python",
      "name": "python3"
    },
    "language_info": {
      "codemirror_mode": {
        "name": "ipython",
        "version": 3
      },
      "file_extension": ".py",
      "mimetype": "text/x-python",
      "name": "python",
      "nbconvert_exporter": "python",
      "pygments_lexer": "ipython3",
      "version": "3.6.0"
    }
  },
  "nbformat": 4,
  "nbformat_minor": 0
}