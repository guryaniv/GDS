{
  "cells": [
    {
      "cell_type": "markdown",
      "metadata": {
        "_cell_guid": "2004d0ae-92dc-7560-d5b4-5c78635ce8b3"
      },
      "source": ""
    },
    {
      "cell_type": "code",
      "execution_count": null,
      "metadata": {
        "_cell_guid": "8c83e24c-98ca-ab3b-37d3-4262f34f0f42"
      },
      "outputs": [],
      "source": [
        "# This Python 3 environment comes with many helpful analytics libraries installed\n",
        "# It is defined by the kaggle/python docker image: https://github.com/kaggle/docker-python\n",
        "# For example, here's several helpful packages to load in \n",
        "\n",
        "import numpy as np # linear algebra\n",
        "import pandas as pd # data processing, CSV file I/O (e.g. pd.read_csv)\n",
        "import matplotlib.pyplot as plt\n",
        "import seaborn as sns\n",
        "from nltk.book import FreqDist\n",
        "%matplotlib inline\n",
        "# Input data files are available in the \"../input/\" directory.\n",
        "# For example, running this (by clicking run or pressing Shift+Enter) will list the files in the input directory\n",
        "\n",
        "from subprocess import check_output\n",
        "print(check_output([\"ls\", \"../input\"]).decode(\"utf8\"))\n",
        "\n",
        "# Any results you write to the current directory are saved as output."
      ]
    },
    {
      "cell_type": "code",
      "execution_count": null,
      "metadata": {
        "_cell_guid": "b828cc42-8ef7-e57a-4692-88efdc62f45c"
      },
      "outputs": [],
      "source": [
        "biology = pd.read_csv('../input/biology.csv')"
      ]
    },
    {
      "cell_type": "code",
      "execution_count": null,
      "metadata": {
        "_cell_guid": "91296d30-373e-e0df-0aa0-02d7e7c5f930"
      },
      "outputs": [],
      "source": [
        "biology.head()"
      ]
    },
    {
      "cell_type": "code",
      "execution_count": null,
      "metadata": {
        "_cell_guid": "df801538-aa37-ae67-aecb-13618ef5145e"
      },
      "outputs": [],
      "source": [
        "tags_list = []\n",
        "for tag in biology['tags']:\n",
        "    for t in tag.split():\n",
        "        tags_list.append(t)\n",
        "freq = FreqDist(tags_list)\n",
        "freq.plot(50,cumulative=True)"
      ]
    },
    {
      "cell_type": "code",
      "execution_count": null,
      "metadata": {
        "_cell_guid": "85e6d7cb-e311-8a0a-e497-925a5491801e"
      },
      "outputs": [],
      "source": [
        "cooking = pd.read_csv('../input/cooking.csv')"
      ]
    },
    {
      "cell_type": "code",
      "execution_count": null,
      "metadata": {
        "_cell_guid": "52e5aace-f4e2-26bd-220f-9c00ae724125"
      },
      "outputs": [],
      "source": [
        "cooking.head()"
      ]
    },
    {
      "cell_type": "code",
      "execution_count": null,
      "metadata": {
        "_cell_guid": "58f77532-ee19-3241-7318-d52b41d858c3"
      },
      "outputs": [],
      "source": [
        "tags_list = []\n",
        "for tag in cooking['tags']:\n",
        "    for t in tag.split():\n",
        "        tags_list.append(t)\n",
        "freq= FreqDist(tags_list)\n",
        "freq.plot(50,cumulative=True)"
      ]
    },
    {
      "cell_type": "code",
      "execution_count": null,
      "metadata": {
        "_cell_guid": "127cc5fa-abbc-26a1-5730-efa024e456dd"
      },
      "outputs": [],
      "source": ""
    }
  ],
  "metadata": {
    "_change_revision": 0,
    "_is_fork": false,
    "kernelspec": {
      "display_name": "Python 3",
      "language": "python",
      "name": "python3"
    },
    "language_info": {
      "codemirror_mode": {
        "name": "ipython",
        "version": 3
      },
      "file_extension": ".py",
      "mimetype": "text/x-python",
      "name": "python",
      "nbconvert_exporter": "python",
      "pygments_lexer": "ipython3",
      "version": "3.5.2"
    }
  },
  "nbformat": 4,
  "nbformat_minor": 0
}