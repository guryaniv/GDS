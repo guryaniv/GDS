{
  "cells": [
    {
      "cell_type": "markdown",
      "metadata": {
        "_cell_guid": "d36f0808-c1c4-7266-5c82-f82eaf933be4"
      },
      "source": [
        "# Fuzzy Features\n",
        "Source: https://github.com/abhishekkrthakur/is_that_a_duplicate_quora_question"
      ]
    },
    {
      "cell_type": "code",
      "execution_count": null,
      "metadata": {
        "_cell_guid": "07de8653-e98e-a44e-7b6f-2e72b2fa93db"
      },
      "outputs": [],
      "source": [
        "# This Python 3 environment comes with many helpful analytics libraries installed\n",
        "# It is defined by the kaggle/python docker image: https://github.com/kaggle/docker-python\n",
        "# For example, here's several helpful packages to load in \n",
        "import time\n",
        "import numpy as np # linear algebra\n",
        "import pandas as pd # data processing, CSV file I/O (e.g. pd.read_csv)\n",
        "from difflib import SequenceMatcher\n",
        "from fuzzywuzzy import fuzz\n",
        "\n",
        "from nltk.corpus import stopwords\n",
        "from nltk import word_tokenize\n",
        "stop_words = stopwords.words('english')\n",
        "\n",
        "# Input data files are available in the \"../input/\" directory.\n",
        "# For example, running this (by clicking run or pressing Shift+Enter) will list the files in the input directory\n",
        "\n",
        "from subprocess import check_output\n",
        "print(check_output([\"ls\", \"../input\"]).decode(\"utf8\"))\n",
        "\n",
        "# Any results you write to the current directory are saved as output."
      ]
    },
    {
      "cell_type": "code",
      "execution_count": null,
      "metadata": {
        "_cell_guid": "3b09c262-7bd3-d960-ea2f-530ba581a5ce"
      },
      "outputs": [],
      "source": [
        "clock_start_time = time.process_time()\n",
        "data = pd.read_csv(\"../input/\"+\"train.csv\", header=0) \n",
        "data = data.drop(['id', 'qid1', 'qid2'], axis=1)\n",
        "print(\"loaded training data\")\n",
        "\n",
        "\n",
        "data['fuzz_qratio'] = data.apply(lambda x: fuzz.QRatio(str(x['question1']), str(x['question2'])), axis=1)\n",
        "data['fuzz_WRatio'] = data.apply(lambda x: fuzz.WRatio(str(x['question1']), str(x['question2'])), axis=1)\n",
        "data['fuzz_partial_ratio'] = data.apply(lambda x: fuzz.partial_ratio(str(x['question1']), str(x['question2'])), axis=1)\n",
        "data['fuzz_partial_token_set_ratio'] = data.apply(lambda x: fuzz.partial_token_set_ratio(str(x['question1']), str(x['question2'])), axis=1)\n",
        "data['fuzz_partial_token_sort_ratio'] = data.apply(lambda x: fuzz.partial_token_sort_ratio(str(x['question1']), str(x['question2'])), axis=1)\n",
        "data['fuzz_token_set_ratio'] = data.apply(lambda x: fuzz.token_set_ratio(str(x['question1']), str(x['question2'])), axis=1)\n",
        "data['fuzz_token_sort_ratio'] = data.apply(lambda x: fuzz.token_sort_ratio(str(x['question1']), str(x['question2'])), axis=1)\n",
        "\n",
        "print(\"testing features computed in\", \"{0:.4f}\".format(time.process_time()-clock_start_time), \"seconds\")\n",
        "\n",
        "data.drop(['question1', 'question2', 'is_duplicate'], axis=1).to_csv('f_Xtr.csv', index=False)\n",
        "print ('fuzzy features saved!')"
      ]
    },
    {
      "cell_type": "code",
      "execution_count": null,
      "metadata": {
        "_cell_guid": "96aa5a1c-04df-211b-c1ea-11264514239b"
      },
      "outputs": [],
      "source": [
        "clock_start_time = time.process_time()\n",
        "BLOCK_LEN = 586449\n",
        "k=3\n",
        "row_range = range(1,k*BLOCK_LEN+1*int(k!=0))\n",
        "data = pd.read_csv(\"../input/\"+\"test.csv\", nrows=BLOCK_LEN,  skiprows=row_range) \n",
        "data = data.drop(['test_id'], axis=1)\n",
        "print(\"loaded testing data\")\n",
        "\n",
        "data['fuzz_qratio'] = data.apply(lambda x: fuzz.QRatio(str(x['question1']), str(x['question2'])), axis=1)\n",
        "data['fuzz_WRatio'] = data.apply(lambda x: fuzz.WRatio(str(x['question1']), str(x['question2'])), axis=1)\n",
        "data['fuzz_partial_ratio'] = data.apply(lambda x: fuzz.partial_ratio(str(x['question1']), str(x['question2'])), axis=1)\n",
        "print(3)\n",
        "data['fuzz_partial_token_set_ratio'] = data.apply(lambda x: fuzz.partial_token_set_ratio(str(x['question1']), str(x['question2'])), axis=1)\n",
        "data['fuzz_partial_token_sort_ratio'] = data.apply(lambda x: fuzz.partial_token_sort_ratio(str(x['question1']), str(x['question2'])), axis=1)\n",
        "print(5)\n",
        "data['fuzz_token_set_ratio'] = data.apply(lambda x: fuzz.token_set_ratio(str(x['question1']), str(x['question2'])), axis=1)\n",
        "data['fuzz_token_sort_ratio'] = data.apply(lambda x: fuzz.token_sort_ratio(str(x['question1']), str(x['question2'])), axis=1)\n",
        "\n",
        "print(\"testing fuzzy features computed in\", \"{0:.4f}\".format(time.process_time()-clock_start_time), \"seconds\")\n",
        "\n",
        "data.drop(['question1', 'question2'], axis=1).to_csv('f_Xts_a3.csv', index=False)\n",
        "print ('fuzzy features saved for testing data!')"
      ]
    }
  ],
  "metadata": {
    "_change_revision": 0,
    "_is_fork": false,
    "kernelspec": {
      "display_name": "Python 3",
      "language": "python",
      "name": "python3"
    },
    "language_info": {
      "codemirror_mode": {
        "name": "ipython",
        "version": 3
      },
      "file_extension": ".py",
      "mimetype": "text/x-python",
      "name": "python",
      "nbconvert_exporter": "python",
      "pygments_lexer": "ipython3",
      "version": "3.6.0"
    }
  },
  "nbformat": 4,
  "nbformat_minor": 0
}