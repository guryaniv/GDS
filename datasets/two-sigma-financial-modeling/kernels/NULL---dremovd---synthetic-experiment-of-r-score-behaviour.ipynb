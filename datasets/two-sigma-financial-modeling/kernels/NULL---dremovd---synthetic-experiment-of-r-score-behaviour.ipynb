{
  "cells": [
    {
      "cell_type": "markdown",
      "metadata": {
        "_cell_guid": "a1b67d54-6a63-ceaa-a1bc-983cda3810dc"
      },
      "source": [
        ""
      ]
    },
    {
      "cell_type": "code",
      "execution_count": null,
      "metadata": {
        "_cell_guid": "cb06cb9a-b8d4-2206-308b-ea63aeca45b2"
      },
      "outputs": [],
      "source": [
        "import numpy as np\n",
        "from sklearn.metrics import r2_score\n",
        "\n",
        "def r_score(y_true, y_pred, sample_weight=None, multioutput=None):\n",
        "    r2 = r2_score(y_true, y_pred, sample_weight=sample_weight,\n",
        "                  multioutput=multioutput)\n",
        "    r = (np.sign(r2)*np.sqrt(np.abs(r2)))\n",
        "    if r <= -1:\n",
        "        return -1\n",
        "    else:\n",
        "        return r"
      ]
    },
    {
      "cell_type": "code",
      "execution_count": null,
      "metadata": {
        "_cell_guid": "d303cb76-cb32-b977-8f69-cf7adb08f5dd"
      },
      "outputs": [],
      "source": [
        "import matplotlib.pyplot as plt\n",
        "import seaborn as sns\n"
      ]
    },
    {
      "cell_type": "markdown",
      "metadata": {
        "_cell_guid": "87c30370-e25a-c739-9a1b-eb725466979e"
      },
      "source": [
        "# How looks the metric if we predict targets correctly deviation from mean correctly, but mean value has some offset:\n",
        " "
      ]
    },
    {
      "cell_type": "code",
      "execution_count": null,
      "metadata": {
        "_cell_guid": "7867bcc5-6452-15bc-76f9-522b61840a32"
      },
      "outputs": [],
      "source": [
        "count = 10000\n",
        "v = np.random.normal(0, 1, count)\n",
        "\n",
        "s = [(x, r_score(v, np.ones(count) * x + v)) for x in np.linspace(-2, 2, 1001)]\n",
        "max(s, key = lambda x: x[1]), v.mean()\n",
        "\n",
        "_ = plt.plot(s)"
      ]
    },
    {
      "cell_type": "markdown",
      "metadata": {
        "_cell_guid": "50d78ee2-3dd0-0809-46d6-d43ed1c9024b"
      },
      "source": [
        "# How looks the metric if we predict constant:"
      ]
    },
    {
      "cell_type": "code",
      "execution_count": null,
      "metadata": {
        "_cell_guid": "f932979b-32b9-5e3a-a4c2-1058bee65f6b"
      },
      "outputs": [],
      "source": [
        "count = 10000\n",
        "v = np.random.normal(0, 1.5, count)\n",
        "\n",
        "s = [(x, r_score(v, np.ones(count) * x + v.mean())) for x in np.linspace(-2, 2, 1001)]\n",
        "max(s, key = lambda x: x[1]), v.mean()\n",
        "\n",
        "_ = plt.plot(s)"
      ]
    }
  ],
  "metadata": {
    "_change_revision": 0,
    "_is_fork": false,
    "kernelspec": {
      "display_name": "Python 3",
      "language": "python",
      "name": "python3"
    },
    "language_info": {
      "codemirror_mode": {
        "name": "ipython",
        "version": 3
      },
      "file_extension": ".py",
      "mimetype": "text/x-python",
      "name": "python",
      "nbconvert_exporter": "python",
      "pygments_lexer": "ipython3",
      "version": "3.5.2"
    }
  },
  "nbformat": 4,
  "nbformat_minor": 0
}