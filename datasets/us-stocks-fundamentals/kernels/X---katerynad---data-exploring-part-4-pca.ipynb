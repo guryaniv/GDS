{
  "cells": [
    {
      "cell_type": "markdown",
      "metadata": {
        "_cell_guid": "e39df114-8b14-0eb0-de39-cf383debe152"
      },
      "source": [
        "**Data exploring**\n",
        "------------------\n",
        "\n",
        "***Part 4***\n",
        "------------\n",
        "\n",
        "We found most common indicators in [Part 1][1], performed exploratory visualization in [Part 2][2] and confirmed the many indicator values are highly correlated in [Part 3][3].\n",
        "\n",
        "\n",
        "----------\n",
        "The next logical step is removal of indicators that are highly correlated from the indicstors set.\n",
        "\n",
        "Let's apply principal component analysis (PCA) to extract the indicator vectors which are necessary to\n",
        "evaluating the valuation of a company. This reduces the dimensionality and hence the complexity of the problem. Before applying the PCA we need to preprocess the data to have zero mean and unit variance. \n",
        "\n",
        "\n",
        "  [1]: https://www.kaggle.com/katerynad/d/usfundamentals/us-stocks-fundamentals/data-exploring-part-1-indicators\n",
        "  [2]: https://www.kaggle.com/katerynad/d/usfundamentals/us-stocks-fundamentals/data-exploring-part2-indicator-values\n",
        "  [3]: https://www.kaggle.com/katerynad/d/usfundamentals/us-stocks-fundamentals/data-exploring-part-3-correlation"
      ]
    },
    {
      "cell_type": "code",
      "execution_count": null,
      "metadata": {
        "_cell_guid": "6a7cf224-6244-7075-5563-c7b3f471e3c0"
      },
      "outputs": [],
      "source": [
        "import pandas as pd\n",
        "from pandas import Series,DataFrame\n",
        "import numpy as np\n",
        "from sklearn.decomposition import PCA\n",
        "from sklearn.preprocessing import StandardScaler\n",
        "\n",
        "\n",
        "# For Visualization\n",
        "import matplotlib.pyplot as plt\n",
        "import matplotlib\n",
        "from math import sqrt\n",
        "import seaborn as sns\n",
        "#3D\n",
        "from mpl_toolkits.mplot3d import Axes3D\n",
        "from matplotlib.patches import FancyArrowPatch\n",
        "from mpl_toolkits.mplot3d import proj3d\n"
      ]
    },
    {
      "cell_type": "code",
      "execution_count": null,
      "metadata": {
        "_cell_guid": "76c161d7-1813-2b4d-fb39-0c287c5dac7b"
      },
      "outputs": [],
      "source": [
        "#data\n",
        "df=pd.read_csv('../input/indicators_by_company.csv')\n",
        "df.head(5)"
      ]
    },
    {
      "cell_type": "markdown",
      "metadata": {
        "_cell_guid": "ba9d44a5-b38b-5c8f-644b-bc717a58f1ba"
      },
      "source": [
        "Most popular indicators in 2011 discovered in Part 1\n",
        "===================================================="
      ]
    },
    {
      "cell_type": "code",
      "execution_count": null,
      "metadata": {
        "_cell_guid": "617ad03d-9647-cb58-6c86-08807d712f16"
      },
      "outputs": [],
      "source": [
        "indicators=['Assets','LiabilitiesAndStockholdersEquity',\n",
        "'StockholdersEquity',\n",
        "'CashAndCashEquivalentsAtCarryingValue',\n",
        "'NetCashProvidedByUsedInOperatingActivities',\n",
        "'NetIncomeLoss',\n",
        "'NetCashProvidedByUsedInFinancingActivities',\n",
        "'CommonStockSharesAuthorized',\n",
        "'CashAndCashEquivalentsPeriodIncreaseDecrease',\n",
        "'CommonStockValue',\n",
        "'CommonStockSharesIssued',\n",
        "'RetainedEarningsAccumulatedDeficit',\n",
        "'CommonStockParOrStatedValuePerShare',\n",
        "'NetCashProvidedByUsedInInvestingActivities',\n",
        "'PropertyPlantAndEquipmentNet',\n",
        "'AssetsCurrent',\n",
        "'LiabilitiesCurrent',\n",
        "'CommonStockSharesOutstanding',\n",
        "'Liabilities',\n",
        "'OperatingIncomeLoss' ]"
      ]
    },
    {
      "cell_type": "markdown",
      "metadata": {
        "_cell_guid": "e876e645-f563-8792-9a26-633e222718d9"
      },
      "source": [
        "Data Preparation\n",
        "================\n",
        "\n",
        "\n",
        " - Unpivot from existing format (years as columns) \n",
        " - Pivot to indicator ids as columns \n",
        " - Remove nulls \n",
        " - Let's review 2011 and most popular indicators in this year"
      ]
    },
    {
      "cell_type": "code",
      "execution_count": null,
      "metadata": {
        "_cell_guid": "5f275d26-af7b-53a0-cce5-f52a7c9caada"
      },
      "outputs": [],
      "source": [
        "Values=df.loc[df['indicator_id'].isin(indicators),['company_id','indicator_id','2011']]\n",
        "Values=pd.melt(Values, id_vars=['company_id', 'indicator_id'], var_name='year', value_name='value')\n",
        "Values=Values.loc[Values['year']=='2011',['company_id','indicator_id','value']].pivot(index='company_id',columns='indicator_id', values='value').dropna()\n",
        "Values.head(5)"
      ]
    },
    {
      "cell_type": "markdown",
      "metadata": {
        "_cell_guid": "313ef7a3-6e8e-d532-be35-a7bfb2d4c125"
      },
      "source": [
        "Standardizing\n",
        "=============\n",
        "\n",
        "For PCA we need to scale the data so that the distribution of the indicators is centered around 0 with a standard deviation of 1"
      ]
    },
    {
      "cell_type": "code",
      "execution_count": null,
      "metadata": {
        "_cell_guid": "4b37591f-d4ba-fb77-7b3d-9945cfe92c47"
      },
      "outputs": [],
      "source": [
        "scaler = StandardScaler().fit(Values[indicators])\n",
        "Values_Scaled = scaler.transform(Values[indicators])\n",
        "\n",
        "print(Values_Scaled[:,0].mean())  \n",
        "print(Values_Scaled[:,0].std())  "
      ]
    },
    {
      "cell_type": "markdown",
      "metadata": {
        "_cell_guid": "fbfddff5-bb73-1c95-e9a9-89c16e74aa58"
      },
      "source": [
        "How many principal components are we going to choose for our new feature subspace?\n",
        "========================================================================\n"
      ]
    },
    {
      "cell_type": "code",
      "execution_count": null,
      "metadata": {
        "_cell_guid": "61fbe094-f3fb-ff9a-fa37-eb4e311b5315"
      },
      "outputs": [],
      "source": [
        "var_exp=[]\n",
        "cum_var_exp=[]\n",
        "pca = PCA(n_components=10)\n",
        "pca.fit(Values_Scaled)\n",
        "var_exp=pca.explained_variance_ratio_\n",
        "cum_var_exp = np.cumsum(var_exp)"
      ]
    },
    {
      "cell_type": "code",
      "execution_count": null,
      "metadata": {
        "_cell_guid": "c7d7a30d-5fdd-732f-e39f-e5f233b47906"
      },
      "outputs": [],
      "source": [
        "with plt.style.context('seaborn-whitegrid'):\n",
        "    plt.figure(figsize=(10, 8))\n",
        "\n",
        "    plt.bar(range(10), var_exp, alpha=0.5, align='center',\n",
        "            label='individual explained variance')\n",
        "    plt.step(range(10), cum_var_exp, where='mid',\n",
        "             label='cumulative explained variance')\n",
        "    plt.ylabel('Explained variance ratio')\n",
        "    plt.xlabel('Principal components')\n",
        "    plt.legend(loc='best')\n",
        "    plt.tight_layout()"
      ]
    },
    {
      "cell_type": "markdown",
      "metadata": {
        "_cell_guid": "ae951cdb-2321-a02d-c63a-69fe03e866a7"
      },
      "source": [
        "The plot above clearly shows that most of the variance (51% of the variance to be precise) can be explained by the first principal component alone. The second principal component  bears some information (15%) while the seven and eight principal components can safely be dropped without losing to much information. Together, the first six principal components contain 90% of the information"
      ]
    },
    {
      "cell_type": "code",
      "execution_count": null,
      "metadata": {
        "_cell_guid": "58553cec-d854-80cc-1e6f-0b2db018ec83"
      },
      "outputs": [],
      "source": [
        "pca = PCA(n_components=6)\n",
        "pc_scores = pd.DataFrame(pca.fit_transform(Values_Scaled))\n",
        "pc_scores.columns = ['PC'+str(i+1) for i in range(len(pc_scores.columns))]\n",
        "pc_scores.head()"
      ]
    },
    {
      "cell_type": "code",
      "execution_count": null,
      "metadata": {
        "_cell_guid": "6f23a267-4520-63ed-081f-6e2157dadd99"
      },
      "outputs": [],
      "source": [
        "#principal components\n",
        "pc = pd.DataFrame(pca.components_, columns=indicators)\n",
        "pc.index = ['PC'+str(i+1) for i in range(len(pc_scores.columns))]\n",
        "pc.head()"
      ]
    },
    {
      "cell_type": "markdown",
      "metadata": {
        "_cell_guid": "62cd09d6-e100-2d4a-3707-a5143521cccd"
      },
      "source": [
        "6 principal components explain 90% of the variance in the original data.\n",
        "------------------------------------------------------------------------"
      ]
    },
    {
      "cell_type": "code",
      "execution_count": null,
      "metadata": {
        "_cell_guid": "6095cc19-5eea-6446-047b-8ac8b7f8d1c4"
      },
      "outputs": [],
      "source": [
        "round(pca.explained_variance_ratio_.sum()*100)"
      ]
    },
    {
      "cell_type": "markdown",
      "metadata": {
        "_cell_guid": "a00bc238-432c-b214-8dfe-1ea185a4b71a"
      },
      "source": [
        "Visualization functions\n",
        "-----------------------"
      ]
    },
    {
      "cell_type": "code",
      "execution_count": null,
      "metadata": {
        "_cell_guid": "a195c8e6-b058-3808-6965-7257bc30c84d"
      },
      "outputs": [],
      "source": [
        "#heatmap visualization\n",
        "def heatmap(data):\n",
        "  fig, ax = plt.subplots(figsize=(10, 10))\n",
        "  heatmap = sns.heatmap(data, cmap=plt.cm.Blues, center=0, linewidths=0.5, \n",
        "                  vmin=-1, vmax=1,annot=True, annot_kws={\"size\": 8})\n",
        "  ax.xaxis.tick_top()  \n",
        "# rotate\n",
        "  plt.xticks(rotation=90)\n",
        "  plt.yticks(rotation=0)\n",
        "  plt.tight_layout()\n",
        " # Biplots\n",
        "# Thanks to  DR-Rodriguez\n",
        "# https://www.kaggle.com/strakul5/d/abcsds/pokemon/principal-component-analysis-of-pokemon-data\n",
        "def pca_biplot(x_pc=0, y_pc=1, max_arrow=0.2):\n",
        "    n = pc.shape[1]\n",
        "    sns.set(style=\"ticks\", palette=\"muted\", color_codes=True)\n",
        "    \n",
        "    g = sns.lmplot(x='PC{}'.format(x_pc + 1), y='PC{}'.format(y_pc + 1),  data=pc_scores,\n",
        "                   fit_reg=False, size=8)\n",
        "    for i in range(n):\n",
        "        # Only plot the longer ones\n",
        "        length = sqrt(pc.iloc[x_pc, i] ** 2 + pc.iloc[y_pc, i] ** 2)\n",
        "        if length < max_arrow:\n",
        "            continue\n",
        "        plt.arrow(0, 0, pc.iloc[x_pc, i], pc.iloc[y_pc, i], color='k', alpha=0.9)\n",
        "        plt.text(pc.iloc[x_pc, i] * 1.15, pc.iloc[y_pc, i] * 1.15,\n",
        "                 pc.columns.tolist()[i], color='k', ha='center', va='center')\n",
        "    g.set(ylim=(-1, 1))\n",
        "    g.set(xlim=(-1, 1))\n",
        "\n",
        "class Arrow3D(FancyArrowPatch):\n",
        "    def __init__(self, xs, ys, zs, *args, **kwargs):\n",
        "         FancyArrowPatch.__init__(self, (0,0), (0,0), *args, **kwargs)\n",
        "         self._verts3d = xs, ys, zs\n",
        "    def draw(self, renderer):\n",
        "        xs3d, ys3d, zs3d = self._verts3d\n",
        "        xs, ys, zs = proj3d.proj_transform(xs3d, ys3d, zs3d, renderer.M)\n",
        "        self.set_positions((xs[0],ys[0]),(xs[1],ys[1]))\n",
        "        FancyArrowPatch.draw(self, renderer)\n",
        "def pca_3Dplot(x_pc=0, y_pc=1, z_pc=2, max_arrow=0.2):        \n",
        "    fig = plt.figure(1, figsize=(8, 6))\n",
        "    ax = Axes3D(fig, elev=-150, azim=50)\n",
        "    sns.set(style=\"ticks\", palette=\"muted\", color_codes=True)\n",
        "\n",
        "    ax.scatter(pc_scores.iloc[:, x_pc], pc_scores.iloc[:, y_pc], pc_scores.iloc[:, z_pc], \n",
        "           cmap='plt.cm.Paired')\n",
        "    n = pc.shape[1]\n",
        "    for i in range(n):\n",
        "        length = sqrt(pc.iloc[0, i] ** 2 + pc.iloc[1, i] ** 2+pc.iloc[2, i] ** 2)\n",
        "        if length < max_arrow:\n",
        "            continue\n",
        "        a = Arrow3D([0, pc.iloc[0, i]], [0, pc.iloc[1, i]], \n",
        "                [0, pc.iloc[2, i]], mutation_scale=20, \n",
        "                lw=2, arrowstyle=\"-|>\", color=\"r\")\n",
        "        ax.add_artist(a)\n",
        "        ax.text(x=pc.iloc[x_pc, i]*1.15, y=pc.iloc[y_pc, i]*1.15, z=pc.iloc[z_pc, i]*1.15,\n",
        "                 s=pc.columns.tolist()[i],color='k', ha='center', va='center')\n",
        "    ax.set_title(\"Three PCA directions\")\n",
        "    ax.set_xlabel('PC{}'.format(x_pc + 1))\n",
        "    ax.w_xaxis.set_ticklabels([])\n",
        "    ax.set_ylabel('PC{}'.format(y_pc + 1))\n",
        "    ax.w_yaxis.set_ticklabels([])\n",
        "    ax.set_zlabel('PC{}'.format(z_pc + 1))\n",
        "    ax.w_zaxis.set_ticklabels([])\n",
        "    ax.set_xlim3d(-1, 1)\n",
        "    ax.set_ylim3d(-1, 1)\n",
        "    ax.set_zlim3d(-1, 1)"
      ]
    },
    {
      "cell_type": "code",
      "execution_count": null,
      "metadata": {
        "_cell_guid": "7c66ac13-0f1b-cd1c-955f-cb68e425ce61"
      },
      "outputs": [],
      "source": [
        "heatmap(pc.transpose()**2)"
      ]
    },
    {
      "cell_type": "markdown",
      "metadata": {
        "_cell_guid": "2f831eb8-f44c-34ca-9e19-e786e633a24f"
      },
      "source": [
        "**As you can see, the most important parameters for PC2 are:**\n",
        "\n",
        "- CommonStockSharesAuthorized\n",
        "- CommonStockSharesIssued\n",
        "- CommonStockSharesOutstanding\n",
        "\n",
        "**If the  indicators are highly correlated, their directions should be close or even the same.\n",
        "The correlation between 3 is 0.94. The direction should be the same. Let's check**"
      ]
    },
    {
      "cell_type": "code",
      "execution_count": null,
      "metadata": {
        "_cell_guid": "a120f674-6905-a7b2-09c0-619ee6f59377"
      },
      "outputs": [],
      "source": [
        "pca_biplot( 0, 1, max_arrow=0.5)"
      ]
    },
    {
      "cell_type": "markdown",
      "metadata": {
        "_cell_guid": "d8d7b35c-edee-9f37-a1ff-dfd2216aa865"
      },
      "source": [
        "**They are indeed the same**"
      ]
    },
    {
      "cell_type": "markdown",
      "metadata": {
        "_cell_guid": "b5a10665-6f12-8a91-97ba-39e935655520"
      },
      "source": [
        "Let's review the Principal components values\n",
        "============================================"
      ]
    },
    {
      "cell_type": "code",
      "execution_count": null,
      "metadata": {
        "_cell_guid": "969ac87e-d108-5b94-2a8a-af46e845013b"
      },
      "outputs": [],
      "source": [
        "heatmap(pc.transpose())"
      ]
    },
    {
      "cell_type": "markdown",
      "metadata": {
        "_cell_guid": "5a40ede7-cfc6-ab45-918e-c7f892547b96"
      },
      "source": [
        "**Now, let's review principal components with less correlated dominant indicators.** \n",
        "\n",
        "**If the  indicators are uncorrelated, their directions should be orthogonal**\n",
        "\n",
        "**The correlation coefficient between** *NetCashProvidedByUsedInInvestingActivities* and *CommonStockValue* is -0.42 (See [Part 3][1])\n",
        "\n",
        "**And they are significant for PC4 in the opposite way**\n",
        "\n",
        "  [1]: https://www.kaggle.com/katerynad/d/usfundamentals/us-stocks-fundamentals/data-exploring-part-3-correlation"
      ]
    },
    {
      "cell_type": "code",
      "execution_count": null,
      "metadata": {
        "_cell_guid": "b4865227-9363-135b-da88-29c23d310e1f"
      },
      "outputs": [],
      "source": [
        "# PC3 vs PC4\n",
        "pca_biplot( 2, 3, max_arrow=0.5)"
      ]
    },
    {
      "cell_type": "markdown",
      "metadata": {
        "_cell_guid": "7987546f-9328-4b6a-75a3-2b3f92ff7c3e"
      },
      "source": [
        "**Now, let's review plotting in 3D**"
      ]
    },
    {
      "cell_type": "code",
      "execution_count": null,
      "metadata": {
        "_cell_guid": "09e11f5f-e401-33a6-8336-bb2f2114f090"
      },
      "outputs": [],
      "source": [
        "#PC1, PC2 and PC3\n",
        "pca_3Dplot(0,1,2,0.5)"
      ]
    },
    {
      "cell_type": "markdown",
      "metadata": {
        "_cell_guid": "fceda5e8-aa46-2348-5db4-d4a28e12ddc1"
      },
      "source": [
        "**Most important parameters are in the same direction as in 2D plot**"
      ]
    },
    {
      "cell_type": "code",
      "execution_count": null,
      "metadata": {
        "_cell_guid": "4c5c6b71-6b7a-883a-a396-4f033755cb45"
      },
      "outputs": [],
      "source": [
        "#PC2, PC3, PC4\n",
        "pca_3Dplot(1,2,3,0.4)"
      ]
    }
  ],
  "metadata": {
    "_change_revision": 0,
    "_is_fork": false,
    "kernelspec": {
      "display_name": "Python 3",
      "language": "python",
      "name": "python3"
    },
    "language_info": {
      "codemirror_mode": {
        "name": "ipython",
        "version": 3
      },
      "file_extension": ".py",
      "mimetype": "text/x-python",
      "name": "python",
      "nbconvert_exporter": "python",
      "pygments_lexer": "ipython3",
      "version": "3.5.2"
    }
  },
  "nbformat": 4,
  "nbformat_minor": 0
}