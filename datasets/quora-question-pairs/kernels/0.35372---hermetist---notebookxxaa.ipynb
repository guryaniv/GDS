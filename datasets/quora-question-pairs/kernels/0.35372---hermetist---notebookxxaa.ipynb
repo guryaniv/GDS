{
  "cells": [
    {
      "cell_type": "markdown",
      "metadata": {
        "_cell_guid": "2df011a8-ded7-83b4-3f99-43965c13df63"
      },
      "source": [
        "\n",
        "\n",
        "Introduction\n",
        "------------\n",
        "\n",
        "\n",
        "A test."
      ]
    },
    {
      "cell_type": "code",
      "execution_count": null,
      "metadata": {
        "_cell_guid": "0e3c2832-314f-8d05-0b3a-ccfa8841de31"
      },
      "outputs": [],
      "source": [
        "import sys\n",
        "sys.path"
      ]
    },
    {
      "cell_type": "code",
      "execution_count": null,
      "metadata": {
        "_cell_guid": "3fff9c2e-1540-ae3b-cd4c-7550bc8f17b0"
      },
      "outputs": [],
      "source": [
        "# This Python 3 environment comes with many helpful analytics libraries installed\n",
        "# It is defined by the kaggle/python docker image: https://github.com/kaggle/docker-python\n",
        "# For example, here's several helpful packages to load in \n",
        "\n",
        "import numpy as np # linear algebra\n",
        "import pandas as pd # data processing, CSV file I/O (e.g. pd.read_csv)\n",
        "import seaborn as sns\n",
        "import matplotlib.pyplot as plt\n",
        "\n",
        "from subprocess import check_output\n",
        "print(check_output([\"ls\", \"../input\"]).decode(\"utf8\"))\n",
        "\n",
        "# Any results you write to the current directory are saved as output.\n",
        "import numpy as np\n",
        "import pandas as pd\n",
        "print(\"This is just a test\")\n",
        "\n",
        "quora_train = pd.read_csv(\"../input/train.csv\")\n",
        "quora_test = pd.read_csv(\"../input/test.csv\")"
      ]
    },
    {
      "cell_type": "code",
      "execution_count": null,
      "metadata": {
        "_cell_guid": "4abf4bd7-7bb6-46ad-bc02-25f8f8e8ce94"
      },
      "outputs": [],
      "source": [
        "\n",
        "#quora_train.info()\n",
        "#quora_test.info()\n",
        "\n",
        "#print('-'*40)\n",
        "#print(quora_train.tail())\n",
        "#print('-'*40)\n",
        "#print(quora_test.tail())"
      ]
    },
    {
      "cell_type": "markdown",
      "metadata": {
        "_cell_guid": "579f0f36-501d-1e79-1bec-c709e928d292"
      },
      "source": [
        "**Test_id:** What is the question ID?\n",
        "\n",
        "**Question_id:** Seems just like some number... \n",
        "\n",
        "**Question:** The contents of question."
      ]
    },
    {
      "cell_type": "code",
      "execution_count": null,
      "metadata": {
        "_cell_guid": "ad6d8279-7f80-0622-99d6-18ae192aa56d"
      },
      "outputs": [],
      "source": [
        "print('Total number of question pairs for training: {}'.format(len(quora_train)))\n",
        "print('Duplicate pairs: {}%'.format(round(quora_train['is_duplicate'].mean()*100, 2)))\n",
        "qids = pd.Series(quora_train['qid1'].tolist() + quora_train['qid2'].tolist())\n",
        "print('Total number of questions in the training data: {}'.format(len(\n",
        "    np.unique(qids))))\n",
        "print('Number of questions that appear multiple times: {}'.format(np.sum(qids.value_counts() > 1)))"
      ]
    },
    {
      "cell_type": "markdown",
      "metadata": {
        "_cell_guid": "b6afc851-7a15-8a4e-6b39-483174be11c9"
      },
      "source": [
        "There are many questions only appear several times. Some questions appear over 100 times."
      ]
    },
    {
      "cell_type": "markdown",
      "metadata": {
        "_cell_guid": "c52ca09b-874b-3a65-7394-deecd093315f"
      },
      "source": [
        "## Test Submission ##"
      ]
    },
    {
      "cell_type": "code",
      "execution_count": null,
      "metadata": {
        "_cell_guid": "9fe0f2ab-4ead-0f10-2072-ecbdc70732b2"
      },
      "outputs": [],
      "source": [
        "from sklearn.metrics import log_loss as lgl\n",
        "p = quora_train['is_duplicate'].mean()\n",
        "print('Predicted score:', lgl(quora_train['is_duplicate'], \n",
        "                              np.zeros_like(quora_train['is_duplicate']) + p))\n",
        "sub = pd.DataFrame({'test_id': quora_test['test_id'], 'is_duplicate': p})\n",
        "sub.to_csv('naive_submission.csv', index = False)\n",
        "print(sub.head())"
      ]
    },
    {
      "cell_type": "code",
      "execution_count": null,
      "metadata": {
        "_cell_guid": "e9dcfbbe-a6db-1625-4ab3-cda919c48f57"
      },
      "outputs": [],
      "source": [
        "from sklearn.metrics import log_loss as lgl\n",
        "p = quora_train['is_duplicate'].mean()\n",
        "print('Predicted score:', lgl(quora_train['is_duplicate'], \n",
        "                              np.zeros_like(quora_train['is_duplicate']) + p))\n",
        "sub = pd.DataFrame({'test_id': quora_test['test_id'], 'is_duplicate': p})\n",
        "sub.to_csv('naive_submission.csv', index = False)\n",
        "print(sub.head())"
      ]
    },
    {
      "cell_type": "markdown",
      "metadata": {
        "_cell_guid": "bffe6865-50ee-4675-1398-1b2675cc43a8"
      },
      "source": [
        "## Until now ##\n",
        "\n",
        "1. auto-generated questions, \n",
        "2. positive questions\n",
        "3. negative questions.\n",
        "\n",
        "Noise included:\n",
        "     a. human noise\n",
        "     b. computer noise\n",
        "\n",
        "The factor of P/N is not 50-50."
      ]
    },
    {
      "cell_type": "code",
      "execution_count": null,
      "metadata": {
        "_cell_guid": "634eabce-da64-88a0-47c4-84a28c77b330"
      },
      "outputs": [],
      "source": [
        "from nltk.corpus import stopwords\n",
        "\n",
        "stops = set(stopwords.words(\"english\"))\n",
        "\n",
        "def word_match_share(row):\n",
        "    q1words = {}\n",
        "    q2words = {}\n",
        "    for word in str(row['question1']).lower().split():\n",
        "        if word not in stops:\n",
        "            q1words[word] = 1\n",
        "    for word in str(row['question2']).lower().split():\n",
        "        if word not in stops:\n",
        "            q2words[word] = 1\n",
        "    if len(q1words) == 0 or len(q2words) == 0:\n",
        "        # The computer-generated chaff includes a few questions that are nothing but stopwords\n",
        "        return 0\n",
        "    shared_words_in_q1 = [w for w in q1words.keys() if w in q2words]\n",
        "    shared_words_in_q2 = [w for w in q2words.keys() if w in q1words]\n",
        "    R = (len(shared_words_in_q1) + len(shared_words_in_q2))/(len(q1words) + len(q2words))\n",
        "    return R\n",
        "print(stops)\n",
        "\n",
        "plt.figure(figsize=(15, 5))\n",
        "train_word_match = quora_train.apply(word_match_share, axis=1, raw=True)\n",
        "plt.hist(train_word_match[quora_train['is_duplicate'] == 0], bins=20, normed=True, label='Not Duplicate')\n",
        "plt.hist(train_word_match[quora_train['is_duplicate'] == 1], bins=20, normed=True, alpha=0.7, label='Duplicate')"
      ]
    },
    {
      "cell_type": "code",
      "execution_count": null,
      "metadata": {
        "_cell_guid": "7e7f8689-f8dc-53f9-5fe2-3039061b7b4b"
      },
      "outputs": [],
      "source": [
        "train_qs = pd.Series(quora_train['question1'].tolist() + quora_train['question2'].tolist()).astype(str)\n",
        "test_qs = pd.Series(quora_test['question1'].tolist() + quora_test['question2'].tolist()).astype(str)\n",
        "\n",
        "dist_train = train_qs.apply(len)\n",
        "dist_test = test_qs.apply(len)\n",
        "print('ok')"
      ]
    },
    {
      "cell_type": "code",
      "execution_count": null,
      "metadata": {
        "_cell_guid": "0ab7ac2e-7f29-4ee4-81e9-c0869f430f49"
      },
      "outputs": [],
      "source": [
        "from collections import Counter\n",
        "\n",
        "# If a word appears only once, we ignore it completely (likely a typo)\n",
        "# Epsilon defines a smoothing constant, which makes the effect of extremely rare words smaller\n",
        "def get_weight(count, eps=10000, min_count=2):\n",
        "    if count < min_count:\n",
        "        return 0\n",
        "    else:\n",
        "        return 1 / (count + eps)\n",
        "\n",
        "eps = 5000 \n",
        "train_qs.head(5)\n",
        "words = (\" \".join(train_qs)).lower().split()\n",
        "counts = Counter(words)\n",
        "weights = {word: get_weight(count) for word, count in counts.items()}"
      ]
    },
    {
      "cell_type": "code",
      "execution_count": null,
      "metadata": {
        "_cell_guid": "5931f65f-4668-f945-72fa-bdff8602d286"
      },
      "outputs": [],
      "source": [
        "def tfidf_word_match_share(row):\n",
        "    q1words = {}\n",
        "    q2words = {}\n",
        "    for word in str(row['question1']).lower().split():\n",
        "        if word not in stops:\n",
        "            q1words[word] = 1\n",
        "    for word in str(row['question2']).lower().split():\n",
        "        if word not in stops:\n",
        "            q2words[word] = 1\n",
        "    if len(q1words) == 0 or len(q2words) == 0:\n",
        "        # The computer-generated chaff includes a few questions that are nothing but stopwords\n",
        "        return 0\n",
        "    \n",
        "    shared_weights = [weights.get(w, 0) for w in q1words.keys() if w in q2words] + [weights.get(w, 0) for w in q2words.keys() if w in q1words]\n",
        "    total_weights = [weights.get(w, 0) for w in q1words] + [weights.get(w, 0) for w in q2words]\n",
        "    \n",
        "    R = np.sum(shared_weights) / np.sum(total_weights)\n",
        "    return R"
      ]
    },
    {
      "cell_type": "code",
      "execution_count": null,
      "metadata": {
        "_cell_guid": "f7321f9e-1139-288a-baa4-557d435e86b5"
      },
      "outputs": [],
      "source": [
        "\n",
        "tfidf_train_word_match = quora_train.apply(tfidf_word_match_share, axis=1, raw=True)\n",
        "plt.hist(tfidf_train_word_match[quora_train['is_duplicate'] == 0].fillna(0), bins=20, normed=True, label='Not Duplicate')\n",
        "plt.hist(tfidf_train_word_match[quora_train['is_duplicate'] == 1].fillna(0), bins=20, normed=True, alpha=0.7, label='Duplicate')"
      ]
    },
    {
      "cell_type": "code",
      "execution_count": null,
      "metadata": {
        "_cell_guid": "235e8e59-a8dd-70f5-0577-41d7bb3adc97"
      },
      "outputs": [],
      "source": [
        "# First we create our training and testing data\n",
        "x_train = pd.DataFrame()\n",
        "x_test = pd.DataFrame()\n",
        "x_train['word_match'] = train_word_match\n",
        "x_train['tfidf_word_match'] = tfidf_train_word_match\n",
        "x_test['word_match'] = quora_test.apply(word_match_share, axis=1, raw=True)\n",
        "x_test['tfidf_word_match'] = quora_test.apply(tfidf_word_match_share, axis=1, raw=True)\n",
        "\n",
        "x_train['gen2'] = np.sqrt(train_word_match)\n",
        "x_train['gen2_tfidf'] = np.sqrt(tfidf_train_word_match)\n",
        "x_test['gen2'] = np.sqrt(x_test['tfidf_word_match'])\n",
        "x_test['gen2_tfidf'] = np.sqrt(x_test['tfidf_word_match'])\n",
        "\n",
        "x_train['sin_w'] = np.sin(train_word_match)\n",
        "x_train['sin_tf'] = np.sin(tfidf_train_word_match)\n",
        "x_test['sin_w'] = np.sin(x_test['word_match'])\n",
        "x_test['sin_tf'] = np.sin(x_test['tfidf_word_match'])\n",
        "\n",
        "x_train['2w'] = train_word_match * train_word_match\n",
        "x_train['2tf'] = tfidf_train_word_match * tfidf_train_word_match\n",
        "x_test['2w'] = x_test['word_match'] * x_test['word_match']\n",
        "x_test['2tf'] = x_test['tfidf_word_match'] * x_test['tfidf_word_match']\n",
        "\n",
        "y_train = quora_train['is_duplicate'].values\n",
        "\n",
        "print('OK')"
      ]
    },
    {
      "cell_type": "code",
      "execution_count": null,
      "metadata": {
        "_cell_guid": "b3596d1d-caf6-02cd-0424-c70913c715f5"
      },
      "outputs": [],
      "source": [
        "import timeit\n",
        "\n",
        "train_orig =  pd.read_csv('../input/train.csv', header=0)\n",
        "test_orig =  pd.read_csv('../input/test.csv', header=0)\n",
        "\n",
        "\n",
        "tic0=timeit.default_timer()\n",
        "df1 = train_orig[['question1']].copy()\n",
        "df2 = train_orig[['question2']].copy()\n",
        "df1_test = test_orig[['question1']].copy()\n",
        "df2_test = test_orig[['question2']].copy()\n",
        "\n",
        "df2.rename(columns = {'question2':'question1'},inplace=True)\n",
        "df2_test.rename(columns = {'question2':'question1'},inplace=True)\n",
        "\n",
        "train_questions = df1.append(df2)\n",
        "train_questions = train_questions.append(df1_test)\n",
        "train_questions = train_questions.append(df2_test)\n",
        "train_questions.info()\n",
        "\n",
        "train_questions.drop_duplicates(subset = ['question1'],inplace=True)\n",
        "\n",
        "train_questions.reset_index(inplace=True,drop=True)\n",
        "questions_dict = pd.Series(train_questions.index.values,index=train_questions.question1.values).to_dict()\n",
        "train_cp = train_orig.copy()\n",
        "test_cp = test_orig.copy()\n",
        "train_cp.drop(['qid1','qid2'],axis=1,inplace=True)\n",
        "test_cp['is_duplicate'] = -1\n",
        "test_cp.rename(columns={'test_id':'id'},inplace=True)\n",
        "comb = pd.concat([train_cp,test_cp])\n",
        "\n",
        "comb['q1_hash'] = comb['question1'].map(questions_dict)\n",
        "comb['q2_hash'] = comb['question2'].map(questions_dict)\n",
        "\n",
        "print('ok')"
      ]
    },
    {
      "cell_type": "code",
      "execution_count": null,
      "metadata": {
        "_cell_guid": "0d603000-61ae-f711-fdac-0894e3b6632a"
      },
      "outputs": [],
      "source": [
        "q1_vc = comb.q1_hash.value_counts().to_dict()\n",
        "q2_vc = comb.q2_hash.value_counts().to_dict()\n",
        "\n",
        "def try_apply_dict(x,dict_to_apply):\n",
        "    try:\n",
        "        return dict_to_apply[x]\n",
        "    except KeyError:\n",
        "        return 0\n",
        "# map to frequency space\n",
        "comb['q1_freq'] = comb['q1_hash'].map(lambda x: try_apply_dict(x,q1_vc) + try_apply_dict(x,q2_vc))\n",
        "comb['q2_freq'] = comb['q2_hash'].map(lambda x: try_apply_dict(x,q1_vc) + try_apply_dict(x,q2_vc))\n",
        "print('test')\n",
        "train_comb = comb[comb['is_duplicate'] >= 0][['id','q1_hash','q2_hash','q1_freq','q2_freq','is_duplicate']]\n",
        "test_comb = comb[comb['is_duplicate'] < 0][['id','q1_hash','q2_hash','q1_freq','q2_freq']]\n",
        "train_comb.drop(['is_duplicate'],axis=1,inplace=True)\n",
        "print('ok')"
      ]
    },
    {
      "cell_type": "code",
      "execution_count": null,
      "metadata": {
        "_cell_guid": "b5731d51-0e1f-5bbd-a187-e26595193f15"
      },
      "outputs": [],
      "source": [
        "\n",
        "x_train = pd.concat([x_train, train_comb], axis=1)\n",
        "x_test = pd.concat([x_test, test_comb], axis=1)\n",
        "x_train = pd.concat([x_train, train_comb], axis=1)\n",
        "x_test = pd.concat([x_test, test_comb], axis=1)\n",
        "#x_train = x_train.drop(['q1_hash','q2_hash'], axis = 1)\n",
        "#x_test = x_test.drop(['q1_hash','q2_hash'], axis = 1)\n",
        "x_train.info()\n",
        "x_test.info()\n",
        "print('ok')"
      ]
    },
    {
      "cell_type": "code",
      "execution_count": null,
      "metadata": {
        "_cell_guid": "1cb4a233-490a-85fe-2d11-e2171cfc78a5"
      },
      "outputs": [],
      "source": [
        "# may be del.  I will try.\n",
        "#pos_train = x_train[y_train == 1]\n",
        "#neg_train = x_train[y_train == 0]\n",
        "\n",
        "# Now we oversample the negative class\n",
        "# There is likely a much more elegant way to do this...\n",
        "#p = 0.165\n",
        "#scale = ((len(pos_train) / (len(pos_train) + len(neg_train))) / p) - 1\n",
        "#while scale > 1:\n",
        "#    neg_train = pd.concat([neg_train, neg_train])\n",
        "#    scale -=1\n",
        "#neg_train = pd.concat([neg_train, neg_train[:int(scale * len(neg_train))]])\n",
        "#print(len(pos_train) / (len(pos_train) + len(neg_train)))\n",
        "\n",
        "#x_train = pd.concat([pos_train, neg_train])\n",
        "#y_train = (np.zeros(len(pos_train)) + 1).tolist() + np.zeros(len(neg_train)).tolist()\n",
        "#del pos_train, neg_train\n",
        "print('ok')"
      ]
    },
    {
      "cell_type": "code",
      "execution_count": null,
      "metadata": {
        "_cell_guid": "8a3f6eac-08b6-61c3-f2c4-847a531ee9e2"
      },
      "outputs": [],
      "source": [
        "# Finally, we split some of the data off for validation\n",
        "from sklearn.cross_validation import train_test_split\n",
        "\n",
        "x_train, x_valid, y_train, y_valid = train_test_split(x_train, y_train, test_size=0.2, random_state=4242)\n",
        "print('ok')"
      ]
    },
    {
      "cell_type": "code",
      "execution_count": null,
      "metadata": {
        "_cell_guid": "384d2adb-c5cb-c456-0a24-5fbe004fd3d3"
      },
      "outputs": [],
      "source": [
        "import xgboost as xgb\n",
        "\n",
        "# Set our parameters for xgboost\n",
        "params = {}\n",
        "params['objective'] = 'binary:logistic'\n",
        "params['eval_metric'] = 'logloss'\n",
        "params['eta'] = 0.05\n",
        "params['max_depth'] = 4\n",
        "params['min_child_weight'] = 3\n",
        "params['gamma'] = 0\n",
        "params['subsample'] = 0.9\n",
        "params['colsample_bytree'] = 0.9\n",
        "params['nthread'] = 4\n",
        "params['seed'] = 50\n",
        "params['scale_pos_weight=1'] = 1\n",
        "\n",
        "d_train = xgb.DMatrix(x_train, label=y_train)\n",
        "d_valid = xgb.DMatrix(x_valid, label=y_valid)\n",
        "\n",
        "watchlist = [(d_train, 'train'), (d_valid, 'valid')]\n",
        "\n",
        "bst = xgb.train(params, d_train, 450, watchlist, early_stopping_rounds=50, verbose_eval=10)\n",
        "print('ok')"
      ]
    },
    {
      "cell_type": "code",
      "execution_count": null,
      "metadata": {
        "_cell_guid": "6a3b7e22-a8be-8a5a-f76d-e945ed134cb5"
      },
      "outputs": [],
      "source": [
        "d_test = xgb.DMatrix(x_test)\n",
        "p_test = bst.predict(d_test)\n",
        "\n",
        "sub = pd.DataFrame()\n",
        "sub['test_id'] = quora_test['test_id']\n",
        "sub['is_duplicate'] = p_test\n",
        "sub.to_csv('simple_xgb.csv', index=False)\n",
        "print('ok')"
      ]
    }
  ],
  "metadata": {
    "_change_revision": 0,
    "_is_fork": false,
    "kernelspec": {
      "display_name": "Python 3",
      "language": "python",
      "name": "python3"
    },
    "language_info": {
      "codemirror_mode": {
        "name": "ipython",
        "version": 3
      },
      "file_extension": ".py",
      "mimetype": "text/x-python",
      "name": "python",
      "nbconvert_exporter": "python",
      "pygments_lexer": "ipython3",
      "version": "3.6.0"
    }
  },
  "nbformat": 4,
  "nbformat_minor": 0
}