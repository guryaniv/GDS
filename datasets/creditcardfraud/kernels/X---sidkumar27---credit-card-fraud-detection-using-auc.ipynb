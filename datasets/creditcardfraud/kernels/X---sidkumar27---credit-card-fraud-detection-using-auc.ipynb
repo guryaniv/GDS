{
  "cells": [
    {
      "cell_type": "markdown",
      "metadata": {
        "_cell_guid": "ccd157f3-e1b5-0d96-992b-be6ec42912b6"
      },
      "source": [
        "***Credit Card Fraud Detection Using AUC***"
      ]
    },
    {
      "cell_type": "code",
      "execution_count": null,
      "metadata": {
        "_cell_guid": "895437e0-d9a1-5f07-8d8a-6e22f7ff1013"
      },
      "outputs": [],
      "source": [
        "# import libraries\n",
        "\n",
        "import pandas as pd\n",
        "import matplotlib.pyplot as plt\n",
        "import numpy as np\n",
        "import seaborn as sb\n",
        "from matplotlib import rcParams"
      ]
    },
    {
      "cell_type": "code",
      "execution_count": null,
      "metadata": {
        "_cell_guid": "8a5e4271-921c-7d95-219c-a9a3e9547abd"
      },
      "outputs": [],
      "source": [
        "%matplotlib inline\n",
        "rcParams['figure.figsize'] = 5, 4\n",
        "sb.set_style('whitegrid')"
      ]
    },
    {
      "cell_type": "code",
      "execution_count": null,
      "metadata": {
        "_cell_guid": "f0be0c0b-9619-5cd8-2a24-c48fc273bcf2"
      },
      "outputs": [],
      "source": [
        "#import the data file\n",
        "\n",
        "# This Python 3 environment comes with many helpful analytics libraries installed\n",
        "# It is defined by the kaggle/python docker image: https://github.com/kaggle/docker-python\n",
        "# For example, here's several helpful packages to load in \n",
        "\n",
        "import numpy as np # linear algebra\n",
        "import pandas as pd # data processing, CSV file I/O (e.g. pd.read_csv)\n",
        "\n",
        "# Input data files are available in the \"../input/\" directory.\n",
        "# For example, running this (by clicking run or pressing Shift+Enter) will list the files in the input directory\n",
        "\n",
        "from subprocess import check_output\n",
        "print(check_output([\"ls\", \"../input\"]).decode(\"utf8\"))\n",
        "\n",
        "# Any results you write to the current directory are saved as output."
      ]
    },
    {
      "cell_type": "code",
      "execution_count": null,
      "metadata": {
        "_cell_guid": "269af9bc-29fe-8d7b-67f1-0f03d7c12231"
      },
      "outputs": [],
      "source": [
        "# take a look at 10 head of data file\n",
        "data = pd.read_csv(\"../input/creditcard.csv\")\n",
        "data.head(10)"
      ]
    },
    {
      "cell_type": "code",
      "execution_count": null,
      "metadata": {
        "_cell_guid": "3b9625c7-29a8-0bba-2de0-52d0a7eef388"
      },
      "outputs": [],
      "source": [
        "# get insight what's inside of the data file\n",
        "data.info()"
      ]
    },
    {
      "cell_type": "markdown",
      "metadata": {
        "_cell_guid": "d1657dd5-62ac-2547-6ae5-bcef10cdf819"
      },
      "source": [
        "Information above shows that we have 284,807 transactions. Now let's see in the 48 hours how many fraud and non-fraud transition is."
      ]
    },
    {
      "cell_type": "code",
      "execution_count": null,
      "metadata": {
        "_cell_guid": "8257cbac-6d3b-6fba-6377-c8c5453ce339"
      },
      "outputs": [],
      "source": [
        "data['Hour'] = data['Time'].apply(lambda x: np.round(float(x)/3600))\n",
        "data.pivot_table(values='Amount',index='Hour',columns='Class',aggfunc='count')"
      ]
    },
    {
      "cell_type": "markdown",
      "metadata": {
        "_cell_guid": "142290c2-a3b5-011e-45e5-36f3a753e881"
      },
      "source": [
        "the time in a day shows impact in number of fraud and non fraud transactions"
      ]
    },
    {
      "cell_type": "code",
      "execution_count": null,
      "metadata": {
        "_cell_guid": "5dd6ec1a-763b-a9d6-1cee-f4208788e86f"
      },
      "outputs": [],
      "source": [
        "plt.figure(figsize=(12,2*2))\n",
        "Fraud = data[data[\"Class\"]==1]\n",
        "Not_Fraud= data[data[\"Class\"]==0]\n",
        "color = ['salmon']\n",
        "plt.subplot(121)\n",
        "Fraud.Amount.plot.hist(title=\"Fraud Transacation\", color=color)\n",
        "plt.xlabel('Amount'); plt.ylabel('Number of Frauds');\n",
        "plt.subplot(122)\n",
        "Not_Fraud.Amount.plot.hist(title=\"Not_Fraud Transactions\")\n",
        "plt.xlabel('Amount'); plt.ylabel('Number of Norn_Fraud Transactions');"
      ]
    },
    {
      "cell_type": "markdown",
      "metadata": {
        "_cell_guid": "e6a790c6-c468-cd9d-8626-8f6fec925d1b"
      },
      "source": [
        "Let's see how many percentage of the transactions are fraud."
      ]
    },
    {
      "cell_type": "code",
      "execution_count": null,
      "metadata": {
        "_cell_guid": "2bf5a5d7-ac4d-a1ee-d9bb-e2a364551d7e"
      },
      "outputs": [],
      "source": [
        "TotalFraud=data['Class'].value_counts()[1]\n",
        "TotalNonFraud=data['Class'].value_counts()[0]\n",
        "Num= TotalFraud/(TotalFraud+TotalNonFraud)\n",
        "Percentage=Num*100\n",
        "print(Percentage)"
      ]
    },
    {
      "cell_type": "markdown",
      "metadata": {
        "_cell_guid": "1ab3c41e-73a2-b2ad-8250-eb964c15e520"
      },
      "source": [
        "The dataset is highly unbalanced, the percentage of fraud is 0.172% of all transactions."
      ]
    },
    {
      "cell_type": "code",
      "execution_count": null,
      "metadata": {
        "_cell_guid": "8446b1d9-ac08-f928-c761-d614983e7fdf"
      },
      "outputs": [],
      "source": [
        "import matplotlib.gridspec as gridspec\n",
        "from scipy import stats\n",
        "\n",
        "plt.figure(figsize=(12,28*5))\n",
        "Tabfeatures = data.ix[:,1:29].columns\n",
        "f= gridspec.GridSpec(28, 1)\n",
        "for i, cn in enumerate(data[Tabfeatures]):\n",
        "    ax = plt.subplot(f[i])\n",
        "    sb.distplot(data[cn][data.Class == 1], kde=False, fit=stats.norm)\n",
        "    sb.distplot(data[cn][data.Class == 0], kde=False, fit=stats.norm)\n",
        "    ax.set_xlabel('')\n",
        "    ax.set_title('feature hist: ' + str(cn))\n",
        "plt.show()"
      ]
    },
    {
      "cell_type": "markdown",
      "metadata": {
        "_cell_guid": "e595b557-7a18-32ad-da7d-510b4ecb1b7c"
      },
      "source": [
        "Graph above gives info about overlapping of features in 0 and 1 classes"
      ]
    },
    {
      "cell_type": "markdown",
      "metadata": {
        "_cell_guid": "071a7477-b114-1d6b-8a2b-c02efb736255"
      },
      "source": [
        " **Logistic Regression method to create test and training sets**"
      ]
    },
    {
      "cell_type": "code",
      "execution_count": null,
      "metadata": {
        "_cell_guid": "247b3556-76e8-9de6-de7a-4d725a2075b9"
      },
      "outputs": [],
      "source": [
        "from sklearn.model_selection import train_test_split\n",
        "from sklearn.utils import shuffle\n",
        "\n",
        "features = pd.concat([data.loc[:,'V11':'Amount'],data.loc[:,'Hour']],axis=1)\n",
        "target = data['Class']\n",
        "X_train, X_test, y_train, y_test = train_test_split(features,target, stratify=target,test_size = 0.3, random_state = 0)\n",
        "\n",
        "#randomizing the data\n",
        "X_train = shuffle(X_train)\n",
        "X_test = shuffle(X_test)\n",
        "\n",
        "print(\"# of train dataset in class 1 and 0 : \", len(X_train))\n",
        "print(\"# of test dataset in class 1 and 0: \", len(X_test))\n",
        "print(\"Total # of transactionsin class 1 and 0: \", len(X_train)+len(X_test))\n",
        "print('-------------------------------------------------------')\n",
        "print('y_train values')\n",
        "print(y_train.value_counts())\n",
        "print('')\n",
        "print('y_test values')\n",
        "print(y_test.value_counts())"
      ]
    },
    {
      "cell_type": "code",
      "execution_count": null,
      "metadata": {
        "_cell_guid": "690124bb-92ba-d923-2dc1-971cbd1fdec1"
      },
      "outputs": [],
      "source": [
        "from sklearn.linear_model import LogisticRegression\n",
        "\n",
        "RegModel = LogisticRegression()\n",
        "RegModel.fit(X_train,y_train)\n",
        "predicted = RegModel.predict(X_test)\n",
        "\n",
        "print (predicted)"
      ]
    },
    {
      "cell_type": "code",
      "execution_count": null,
      "metadata": {
        "_cell_guid": "c358b7ca-5539-f4f9-4dac-27d62936c05a"
      },
      "outputs": [],
      "source": [
        "from itertools import cycle\n",
        "from sklearn.metrics import precision_recall_curve\n",
        "\n",
        "thresholds = [0.1,0.2,0.3,0.4,0.5]\n",
        "colors = cycle(['magenta', 'blue', 'darkorange', 'cyan', 'green', ' black'])\n",
        "\n",
        "plt.figure(figsize=(10,5))\n",
        "\n",
        "for i,color in zip(thresholds,colors):\n",
        "    predictedD = predicted[:,1] > i\n",
        "    \n",
        "    precision, recall, thresholds = precision_recall_curve(y_test,predictedD)\n",
        "    \n",
        "    # Plot Precision-Recall curve\n",
        "    plt.plot(recall, precision, color=color,label='Threshold: %s'%i)\n",
        "    plt.xlabel('Recall')\n",
        "    plt.ylabel('Precision')\n",
        "    plt.ylim([0.0, 1.05])\n",
        "    plt.xlim([0.0, 1.0])\n",
        "    plt.title('Precision-Recall example')\n",
        "    plt.legend(loc=\"lower left\")"
      ]
    },
    {
      "cell_type": "code",
      "execution_count": null,
      "metadata": {
        "_cell_guid": "43c8ebdb-f2a8-342b-c76b-f7a11aedb76b"
      },
      "outputs": [],
      "source": [
        "from sklearn.metrics import roc_curve,auc, roc_auc_score, classification_report\n",
        "from sklearn.metrics import confusion_matrix\n",
        "    \n",
        "FPR, TPR, thresholds = roc_curve(y_test, predicted)\n",
        "roc_auc = auc(FPR, TPR)\n",
        "plt.plot(FPR, TPR, color='blue')\n",
        "plt.xlim([0, 1])\n",
        "plt.ylim([0, 1])\n",
        "\n",
        "plt.xlabel('False Positive Rate')\n",
        "plt.ylabel('True Positive Rate')\n",
        "plt.title('Receiver operating characteristic example')\n",
        "plt.legend(loc=\"lower right\")\n",
        "plt.show()\n",
        "\n",
        "print('roc_auc_score: %0.3f'% roc_auc_score(y_test, predicted))\n",
        "print(\"----------------------------------------------------------------------\")\n",
        "print(\"Logistic Regression report \\n\",classification_report(y_test, predicted))\n",
        "print(\"----------------------------------------------------------------------\")\n",
        "print(\"Logistic Regression confusion matrix \\n\",confusion_matrix(y_test, predicted))"
      ]
    }
  ],
  "metadata": {
    "_change_revision": 0,
    "_is_fork": false,
    "kernelspec": {
      "display_name": "Python 3",
      "language": "python",
      "name": "python3"
    },
    "language_info": {
      "codemirror_mode": {
        "name": "ipython",
        "version": 3
      },
      "file_extension": ".py",
      "mimetype": "text/x-python",
      "name": "python",
      "nbconvert_exporter": "python",
      "pygments_lexer": "ipython3",
      "version": "3.6.0"
    }
  },
  "nbformat": 4,
  "nbformat_minor": 0
}