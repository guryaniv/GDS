{
 "cells": [
  {
   "cell_type": "markdown",
   "metadata": {},
   "source": [
    "Example of the entire data gathering flow we have done in order to get all data we used in our research."
   ]
  },
  {
   "cell_type": "markdown",
   "metadata": {},
   "source": [
    "Step 1 - Collecting metadata on relevant Kaggle datasets and competitions.\n",
    "We need to create search_terms, which those keyword will be searched via Kaggle API to collect datasets.\n",
    "\n",
    "in order to download datasets related to money we will write the search term and call get_competitions \\ get_datasets\n",
    "The outputs are 2 txt file for later use:\n",
    "1. consts.NOT_VALID_DATA_LINKS_NAME - holds data for non-relevant datasets so we won't search them again\n",
    "2. consts.DATA_LINKS_NAME - holds data for relevant datasets that will be used in \"download.py\" file.\n",
    "Then we can decide to get info on datasets or competitions, or both.\n"
   ]
  },
  {
   "cell_type": "code",
   "execution_count": null,
   "metadata": {
    "collapsed": true
   },
   "outputs": [],
   "source": [
    "import data_gathering.consts as consts\n",
    "import data_gathering.download as dn\n",
    "import data_gathering.ds_csv_generator as ds\n",
    "# import data_gathering.execute_nb as exec\n",
    "import data_gathering.nb_csv_generator as nb\n",
    "import data_gathering.kaggleapi as kg\n",
    "import data_gathering.convert_to_chatbot_input as cb\n",
    "\n",
    "\n",
    "search_terms = \"finance money bank\"\n",
    "kg.get_kaggle_metadata(search_terms, comp=True, ds=True)"
   ]
  },
  {
   "cell_type": "markdown",
   "metadata": {},
   "source": [
    "After we collected information on Kaggle relevant link, we would like to use it.\n",
    "The following line will read the TXT link file and will use WebDriver to scrape Kaggle website.\n",
    "After scraping Kaggle and getting a links to all relevant notebooks we will use kaggle API to pull them.\n",
    "Note - You need to configure Kaggle username and password and consts file (KAGGLE_USER, KAGGLE_PW)\n"
   ]
  },
  {
   "cell_type": "code",
   "execution_count": null,
   "metadata": {},
   "outputs": [],
   "source": [
    "link_list = dn.read_links()\n",
    "dn.download_data_and_kernels_link(link_list, stop_nb=False)\n",
    "dn.pull_kernels()"
   ]
  },
  {
   "cell_type": "markdown",
   "metadata": {},
   "source": [
    "Now, we would like to generate our own datasets, we will make 3 of them at this point.\n",
    "1. Contains info on the Kaggle datasets we gathered.\n",
    "2. Contains info on the notebooks and relates it to the first dataset\n",
    "3. Contains info on the cells we gathered.\n"
   ]
  },
  {
   "cell_type": "code",
   "execution_count": null,
   "metadata": {},
   "outputs": [],
   "source": [
    "ds.generate_ds_tsv()\n",
    "nb.generate_nb_tsv()"
   ]
  },
  {
   "cell_type": "markdown",
   "metadata": {},
   "source": [
    "Now we can use the cells.tsv dataset to check our hypothesis with the Classification sub-project.\n",
    "You may skip to Classification folder, it has all the file and information you may need.\n",
    "\n"
   ]
  },
  {
   "cell_type": "markdown",
   "metadata": {},
   "source": [
    "In order to continue to Chatbot sub-project we need to make 3 new datasets, that will be the input for the chatbot model\n",
    "Each input contains representation of a cell and its successor.\n",
    "\n",
    "1. Each source cell\n",
    "2. Each source cell formatted at AST\n",
    "3. Each source cell after custom masking."
   ]
  },
  {
   "cell_type": "code",
   "execution_count": null,
   "metadata": {},
   "outputs": [],
   "source": [
    "cb.cells_to_masked_pairs()\n",
    "cb.cells_to_ast_pairs()\n",
    "cb.cells_to_source_pairs()"
   ]
  },
  {
   "cell_type": "code",
   "execution_count": null,
   "metadata": {},
   "outputs": [],
   "source": [
    "print(\"\\n###################\\nFinished with example\")"
   ]
  }
 ],
 "metadata": {
  "kernelspec": {
   "display_name": "Python 3",
   "language": "python",
   "name": "python3"
  },
  "language_info": {
   "codemirror_mode": {
    "name": "ipython",
    "version": 3
   },
   "file_extension": ".py",
   "mimetype": "text/x-python",
   "name": "python",
   "nbconvert_exporter": "python",
   "pygments_lexer": "ipython3",
   "version": "3.7.1"
  }
 },
 "nbformat": 4,
 "nbformat_minor": 1
}
