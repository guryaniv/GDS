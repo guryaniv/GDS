{
  "cells": [
    {
      "cell_type": "code",
      "execution_count": null,
      "metadata": {
        "_cell_guid": "23b70561-5542-195d-e697-361be6ced8ac"
      },
      "outputs": [],
      "source": [
        "import numpy as np # linear algebra\n",
        "import pandas as pd # data processing, CSV file I/O (e.g. pd.read_csv)\n",
        "import matplotlib.pyplot as plt\n",
        "import seaborn as sns\n",
        "from sklearn import linear_model\n",
        "from sklearn import model_selection, preprocessing\n",
        "import xgboost as xgb\n",
        "color = sns.color_palette()\n",
        "\n",
        "%matplotlib inline\n",
        "\n",
        "pd.options.mode.chained_assignment = None  # default='warn'\n",
        "pd.set_option('display.max_columns', 500)"
      ]
    },
    {
      "cell_type": "code",
      "execution_count": null,
      "metadata": {
        "_cell_guid": "7908ff08-0b5b-d51b-545c-5ea9f6271d49"
      },
      "outputs": [],
      "source": [
        "train_df = pd.read_csv(\"../input/train.csv\", parse_dates=['timestamp'])\n",
        "test_df = pd.read_csv(\"../input/test.csv\", parse_dates=['timestamp'])\n",
        "macro_df = pd.read_csv(\"../input/macro.csv\", parse_dates=['timestamp'])\n",
        "train_df = pd.merge(train_df, macro_df, how='left', on='timestamp')\n",
        "test_df = pd.merge(test_df, macro_df, how='left', on='timestamp')\n",
        "print(train_df.shape, test_df.shape)"
      ]
    },
    {
      "cell_type": "code",
      "execution_count": null,
      "metadata": {
        "_cell_guid": "60efac2d-4989-a863-0704-37f7c1a94e95"
      },
      "outputs": [],
      "source": [
        "train_df.head()"
      ]
    },
    {
      "cell_type": "code",
      "execution_count": null,
      "metadata": {
        "_cell_guid": "112af4c7-ee00-0037-16bb-93b3fcc85a2b"
      },
      "outputs": [],
      "source": [
        "# we will add here some data cleaning\n",
        "\n",
        "for f in train_df.columns:\n",
        "    if train_df[f].dtype=='object':\n",
        "        lbl = preprocessing.LabelEncoder()\n",
        "        lbl.fit(list(train_df[f].values)) \n",
        "        train_df[f] = lbl.transform(list(train_df[f].values))\n",
        "        \n",
        "train_df = train_df.fillna(0)\n",
        "print (\"Just to override previous one\")\n"
      ]
    },
    {
      "cell_type": "code",
      "execution_count": null,
      "metadata": {
        "_cell_guid": "9c60e607-e248-29f5-2497-3826b11417b4"
      },
      "outputs": [],
      "source": [
        "from sklearn.cross_validation import KFold\n",
        "kf = KFold(len(train_df), n_folds=5, random_state=555, shuffle=True)\n",
        "\n",
        "\n",
        "# we will use it later...\n",
        "#skf = StratifiedKFold(n_splits=2)\n",
        "#skf.get_n_splits(X, y)\n",
        "\n",
        "features = list(train_df.columns)\n",
        "features_remove = ['id', 'price_doc', 'timestamp']\n",
        "features_m = [x for x in features if x not in features_remove]\n",
        "\n",
        "#print (train_df.dtypes[:])\n",
        "# Get only numerical variables\n",
        "features_numbers = [features_m[i] for i in range(len(features_m)) if train_df.dtypes[i] == \"int64\" or train_df.dtypes[i] == \"float64\"]\n",
        "#print (features_numbers)"
      ]
    },
    {
      "cell_type": "code",
      "execution_count": null,
      "metadata": {
        "_cell_guid": "9bcf3a5a-ef1c-c6ec-da8a-293eafe3bf8e"
      },
      "outputs": [],
      "source": [
        "for itrain, itest in kf:\n",
        "    clf = linear_model.Lasso(alpha=0.1, normalize = True)\n",
        "\n",
        "    X_train, y_train = train_df.loc[itrain, features_numbers], train_df.loc[itrain, 'price_doc']\n",
        "    X_test, y_test = train_df.loc[itest, features_numbers], train_df.loc[itest, 'price_doc']\n",
        "    \n",
        "    print (X_train.values)\n",
        "    \n",
        "    #clf.fit(X_train.values, y_train)\n",
        "    \n",
        "    # now we can train and test on cross-validated data!"
      ]
    },
    {
      "cell_type": "code",
      "execution_count": null,
      "metadata": {
        "_cell_guid": "7a4abca1-ebc6-2cbe-bc5e-02b4107ce2e6"
      },
      "outputs": [],
      "source": ""
    }
  ],
  "metadata": {
    "_change_revision": 0,
    "_is_fork": false,
    "kernelspec": {
      "display_name": "Python 3",
      "language": "python",
      "name": "python3"
    },
    "language_info": {
      "codemirror_mode": {
        "name": "ipython",
        "version": 3
      },
      "file_extension": ".py",
      "mimetype": "text/x-python",
      "name": "python",
      "nbconvert_exporter": "python",
      "pygments_lexer": "ipython3",
      "version": "3.6.0"
    }
  },
  "nbformat": 4,
  "nbformat_minor": 0
}