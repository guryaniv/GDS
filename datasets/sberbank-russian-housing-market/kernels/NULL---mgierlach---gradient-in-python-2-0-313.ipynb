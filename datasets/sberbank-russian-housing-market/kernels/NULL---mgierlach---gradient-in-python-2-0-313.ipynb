{
  "cells": [
    {
      "cell_type": "markdown",
      "metadata": {
        "_cell_guid": "8648af55-3953-a574-6704-40f949aa4748"
      },
      "source": [
        "# Daftcode\n",
        "## Machine learning - praktyki\n",
        "\n",
        "### Mateusz Gierlach"
      ]
    },
    {
      "cell_type": "code",
      "execution_count": null,
      "metadata": {
        "_cell_guid": "ca150027-e585-aff8-65f1-2a6ca8a5cbd6"
      },
      "outputs": [],
      "source": [
        "#Python 2 !!!\n",
        "#nie wszystko mo\u017cna odpali\u0107 w domy\u015blnym 3.6.0 na kaggle\n",
        "#najlepiej \u015bci\u0105gn\u0105\u0107 notebooka i zmieni\u0107 kernel w jupyterze\n",
        "\n",
        "#importuje biblioteki\n",
        "\n",
        "import numpy as np\n",
        "import pandas as pd\n",
        "\n",
        "import matplotlib.pyplot as plt\n",
        "%matplotlib inline\n",
        "import seaborn as sns\n",
        "\n",
        "from sklearn.preprocessing import LabelEncoder\n",
        "from sklearn.model_selection import train_test_split,GridSearchCV,RandomizedSearchCV\n",
        "from sklearn.metrics import  mean_squared_error, roc_auc_score,accuracy_score\n",
        "from sklearn.ensemble import GradientBoostingRegressor,GradientBoostingClassifier\n",
        "\n",
        "from pylab import rcParams\n",
        "\n",
        "rcParams['figure.figsize'] = 10, 10\n",
        "color = sns.color_palette()"
      ]
    },
    {
      "cell_type": "code",
      "execution_count": null,
      "metadata": {
        "_cell_guid": "a1e21515-a354-0618-82be-71f694ff9377"
      },
      "outputs": [],
      "source": [
        "#EKSPLORACJA DANYCH\n",
        "\n",
        "#wgrywam dane\n",
        "\n",
        "train_df = pd.read_csv(\"../input/train.csv\")\n",
        "test_df = pd.read_csv(\"../input/test.csv\")\n",
        "\n",
        "id_test = test_df.id\n",
        "\n",
        "#sprawdzam ile rekordow i atrybutow\n",
        "print('train_df shape:',train_df.shape)\n",
        "print('test_df shape:',test_df.shape)"
      ]
    },
    {
      "cell_type": "code",
      "execution_count": null,
      "metadata": {
        "_cell_guid": "443513a6-5a39-42f3-7de1-80ccd9589007"
      },
      "outputs": [],
      "source": [
        "#jakie mam typy danych\n",
        "\n",
        "dtype_df = train_df.dtypes.reset_index()\n",
        "dtype_df.columns = [\"Count\", \"Column Type\"]\n",
        "print('Variables data type:')\n",
        "dtype_df.groupby(\"Column Type\").aggregate('count').reset_index()"
      ]
    },
    {
      "cell_type": "code",
      "execution_count": null,
      "metadata": {
        "_cell_guid": "91ac3e88-c709-59b6-193f-2a6e2c160e8d"
      },
      "outputs": [],
      "source": [
        "#POCZ\u0104TKOWE DANE\n",
        "\n",
        "#statystyka\n",
        "\n",
        "train_df.describe().round(1)"
      ]
    },
    {
      "cell_type": "code",
      "execution_count": null,
      "metadata": {
        "_cell_guid": "51b68b25-74d4-363e-cf9b-68070693fb87"
      },
      "outputs": [],
      "source": [
        "#uzupelnianie\n",
        "\n",
        "print(train_df.loc[train_df['build_year'] == 20052009].id)\n",
        "print(train_df.loc[train_df['state'] == 33].id)\n",
        "print('build_year:',train_df.ix[10090].build_year)\n",
        "print('state:',train_df.ix[10090].state)\n",
        "\n",
        "train_df.loc[train_df['id'] == 10092, 'build_year'] = 2007\n",
        "train_df.loc[train_df['id'] == 10092, 'state'] = 3\n",
        "train_df.loc[train_df['id'] == 10093, 'build_year'] = 2009"
      ]
    },
    {
      "cell_type": "code",
      "execution_count": null,
      "metadata": {
        "_cell_guid": "24fe3db2-d7ec-79f0-7d78-c240a2e78a01"
      },
      "outputs": [],
      "source": [
        "#BRAKUJ\u0104CE DANE\n",
        "\n",
        "#describe jeszcze raz po uzupelnieniu\n",
        "\n",
        "train_df.describe().round(1)"
      ]
    },
    {
      "cell_type": "code",
      "execution_count": null,
      "metadata": {
        "_cell_guid": "2afc867d-6a31-3bb0-3840-74b207cfc47a"
      },
      "outputs": [],
      "source": [
        "#BRAKUJ\u0104CE DANE\n",
        "\n",
        "#sprawdzam gdzie s\u0105 braki\n",
        "\n",
        "train_na = (train_df.isnull().sum() / len(train_df)) * 100\n",
        "train_na = train_na.drop(train_na[train_na == 0].index).sort_values(ascending=False)\n",
        "sns.barplot(y=train_na.index, x=train_na,color=color[0])\n",
        "plt.xlabel('% missing')"
      ]
    },
    {
      "cell_type": "code",
      "execution_count": null,
      "metadata": {
        "_cell_guid": "26911413-a73b-ecbd-3ada-74da6457487b"
      },
      "outputs": [],
      "source": [
        "#Transformacja zmiennych kategorycznych na ilo\u015bciowe\n",
        "\n",
        "for f in train_df.columns:\n",
        "    if train_df[f].dtype=='object':\n",
        "        lbl = LabelEncoder()\n",
        "        lbl.fit(list(train_df[f].values)) \n",
        "        train_df[f] = lbl.transform(list(train_df[f].values))\n",
        "        \n",
        "for c in test_df.columns:\n",
        "    if test_df[c].dtype == 'object':\n",
        "        lbl = LabelEncoder()\n",
        "        lbl.fit(list(test_df[c].values)) \n",
        "        test_df[c] = lbl.transform(list(test_df[c].values))"
      ]
    },
    {
      "cell_type": "code",
      "execution_count": null,
      "metadata": {
        "_cell_guid": "7feb6aa5-87b9-3571-24df-26ccbd52aeeb"
      },
      "outputs": [],
      "source": [
        "#life_sq i kitch_sq sa powiazane z full_sq\n",
        "#powierzchnia kuchnii i powierzchnia mieszkalna sa powiazane z powierzchnia calkowita\n",
        "#dlatego uzupelniam z full_sq zamiast \u015bredniej\n",
        "\n",
        "#pozostale uzupelniam ze sredniej\n",
        "\n",
        "kitch_ratio = train_df['full_sq']/train_df['kitch_sq']\n",
        "train_df['kitch_sq']=train_df['kitch_sq'].fillna(train_df['full_sq'] /kitch_ratio.median())\n",
        "test_df['kitch_sq']=test_df['kitch_sq'].fillna(test_df['full_sq'] /kitch_ratio.median())\n",
        "\n",
        "lifesq_ratio = train_df['full_sq']/train_df['life_sq']\n",
        "train_df['life_sq']=train_df['life_sq'].fillna(train_df['full_sq'] /lifesq_ratio.median())\n",
        "test_df['life_sq']=test_df['life_sq'].fillna(test_df['full_sq'] /lifesq_ratio.median())\n",
        "\n",
        "train_df=train_df.fillna(train_df.median(),inplace=True)\n",
        "test_df=test_df.fillna(test_df.median(),inplace=True)"
      ]
    },
    {
      "cell_type": "code",
      "execution_count": null,
      "metadata": {
        "_cell_guid": "2618b07d-a0ac-e066-e9c1-a4f9ef95e2d9"
      },
      "outputs": [],
      "source": [
        "#ZMIENNA DECYZYJNA\n",
        "\n",
        "sns.distplot(train_df.price_doc.values, kde=None)\n",
        "plt.xlabel('price')"
      ]
    },
    {
      "cell_type": "code",
      "execution_count": null,
      "metadata": {
        "_cell_guid": "d779cada-c2a1-9f57-ded1-42c1d0d94b58"
      },
      "outputs": [],
      "source": [
        "#duzo lepiej sprawdza sie logarytm z price_doc aby uniknac dlugiego \"ogona\" z prawej\n",
        "\n",
        "ulimit = np.percentile(train_df.price_doc.values, 99)\n",
        "llimit = np.percentile(train_df.price_doc.values, 1)\n",
        "train_df.loc[train_df['price_doc'] >ulimit, 'price_doc'] = ulimit\n",
        "train_df.loc[train_df['price_doc'] <llimit, 'price_doc'] = llimit\n",
        "\n",
        "sns.distplot(np.log(train_df.price_doc.values),  bins=50,kde=None)\n",
        "plt.xlabel('price')\n",
        "\n",
        "train_df['price_doc_log'] = np.log1p(train_df['price_doc'])"
      ]
    },
    {
      "cell_type": "code",
      "execution_count": null,
      "metadata": {
        "_cell_guid": "169093ba-cbbb-a6d7-7969-5d5a77e37a0b"
      },
      "outputs": [],
      "source": [
        "#mamy 2 nienaturalne gorki na lewo\n",
        "\n",
        "print(train_df['price_doc'].value_counts().head(10))\n",
        "\n",
        "train_df['label_value'] = 0\n",
        "train_df.loc[train_df['price_doc'] == 1000000, 'label_value'] = 1\n",
        "train_df.loc[train_df['price_doc'] == 2000000, 'label_value'] = 2"
      ]
    },
    {
      "cell_type": "code",
      "execution_count": null,
      "metadata": {
        "_cell_guid": "68e73b59-9a97-04f8-b4de-37a88b810ba1"
      },
      "outputs": [],
      "source": [
        "# MODEL\n",
        "\n",
        "# usuwanie kolumn z X i ustawienie y\n",
        "\n",
        "data_X = train_df.drop([\"id\",\"timestamp\",\"price_doc\",\"price_doc_log\",'label_value'],axis=1)\n",
        "data_y = train_df['price_doc_log']"
      ]
    },
    {
      "cell_type": "code",
      "execution_count": null,
      "metadata": {
        "_cell_guid": "14f4b643-f5e1-97f1-769e-801302382e6b"
      },
      "outputs": [],
      "source": [
        "# cross walidacja RandomizedSearchCV\n",
        "# zakomentowane poniewaz bardzo dlugie obliczenia - wyniki ponizej\n",
        "\n",
        "#GBmodel = GradientBoostingRegressor()\n",
        "#aram_dist = {\"learning_rate\": np.linspace(0.05, 0.15,5),\n",
        "#              \"max_depth\": range(3, 5),\n",
        "#              \"min_samples_leaf\": range(3, 5)}\n",
        "\n",
        "#rand = RandomizedSearchCV(GBmodel, param_dist, cv=7,n_iter=10, random_state=5)\n",
        "#rand.fit(data_X,data_y)\n",
        "#rand.grid_scores_\n",
        "\n",
        "#print(rand.best_score_)\n",
        "#print(rand.best_params_)"
      ]
    },
    {
      "cell_type": "code",
      "execution_count": null,
      "metadata": {
        "_cell_guid": "6782397c-4b93-110f-34dd-387a56e34348"
      },
      "outputs": [],
      "source": [
        "#model gradient boost\n",
        "\n",
        "GBmodel = GradientBoostingRegressor(min_samples_leaf= 4, learning_rate= 0.1, max_depth= 4)\n",
        "GBmodel.fit(data_X,data_y)\n",
        "\n",
        "sns.distplot(GBmodel.predict(data_X))"
      ]
    },
    {
      "cell_type": "code",
      "execution_count": null,
      "metadata": {
        "_cell_guid": "dbce36ff-8729-f469-df29-21a4b55b0cc2"
      },
      "outputs": [],
      "source": [
        "# DODATKOWA KLASYFIKACJA\n",
        "\n",
        "#dodatkowa klasyfikacja na wykrycie wartosci szczytow na ko\u0144cu sekcji \"Eksploracja danych\"\n",
        "\n",
        "clfdata_X = train_df.drop(['id','timestamp','label_value','price_doc_log','price_doc'],axis=1)\n",
        "clfdata_y = train_df['label_value']\n",
        "\n",
        "clfX_train, clfX_test, clfY_train, clfY_test = train_test_split(clfdata_X, clfdata_y, test_size=0.30,random_state=21)\n",
        "\n",
        "GBclf= GradientBoostingClassifier(max_depth=4,min_samples_leaf=2)"
      ]
    },
    {
      "cell_type": "code",
      "execution_count": null,
      "metadata": {
        "_cell_guid": "5fe6adff-d57d-1599-95e4-fbdc5fd1062a"
      },
      "outputs": [],
      "source": [
        "#model klasyfikacyjny\n",
        "\n",
        "GBclf.fit(clfX_train,clfY_train)\n",
        "GBclf.score(clfX_test,clfY_test)"
      ]
    },
    {
      "cell_type": "code",
      "execution_count": null,
      "metadata": {
        "_cell_guid": "e7c0c227-5833-48c5-8685-41990a2d7346"
      },
      "outputs": [],
      "source": [
        "# atrybuty dla regresji\n",
        "\n",
        "importances = GBmodel.feature_importances_\n",
        "importances_by_trees=[tree[0].feature_importances_ for tree in GBmodel.estimators_]\n",
        "std = np.std(importances_by_trees,axis=0)\n",
        "indices = np.argsort(importances)[::-1]\n",
        "\n",
        "\n",
        "sns.barplot(importances[indices][:20],data_X.columns[indices[:20]].values)\n",
        "plt.title(\"Waznosc atrybutow dla regresji\")"
      ]
    },
    {
      "cell_type": "code",
      "execution_count": null,
      "metadata": {
        "_cell_guid": "d13b7d93-e2ed-92cb-1665-2cfef134e208"
      },
      "outputs": [],
      "source": [
        "#atrybuty dla klasyfikacji\n",
        "\n",
        "clf_importances = GBclf.feature_importances_\n",
        "clf_importances_by_trees=[tree[0].feature_importances_ for tree in GBclf.estimators_]\n",
        "clf_std = np.std(clf_importances_by_trees,axis=0)\n",
        "clf_indices = np.argsort(clf_importances)[::-1]\n",
        "\n",
        "\n",
        "sns.barplot(clf_importances[clf_indices][:20],clfdata_X.columns[clf_indices[:20]].values)\n",
        "plt.title(\"waznosc atrybutow dla klasyfikacji\")"
      ]
    },
    {
      "cell_type": "code",
      "execution_count": null,
      "metadata": {
        "_cell_guid": "e61b9322-520b-b822-a323-aa7d9c61d2df"
      },
      "outputs": [],
      "source": [
        "#predykcja\n",
        "\n",
        "predict = GBmodel.predict(test_df.drop([\"id\", \"timestamp\"],axis=1))\n",
        "lab = GBclf.predict(test_df.drop(['id','timestamp'],axis=1))\n",
        "output = pd.DataFrame({'id': id_test, 'price_doc': np.expm1(predict)})\n",
        "output['label'] = lab\n",
        "\n",
        "output.loc[output['label'] == 1, 'price_doc'] = 1000000\n",
        "output.loc[output['label'] == 2, 'price_doc'] = 2000000\n",
        "output = output.drop(['label'],axis=1)"
      ]
    },
    {
      "cell_type": "code",
      "execution_count": null,
      "metadata": {
        "_cell_guid": "8dc871df-dd89-a095-3df2-86fb111ff545"
      },
      "outputs": [],
      "source": [
        "#do csv\n",
        "\n",
        "output.to_csv('sub.csv', index=False)"
      ]
    },
    {
      "cell_type": "code",
      "execution_count": null,
      "metadata": {
        "_cell_guid": "a66bd3f5-1b74-57d6-f597-b94dbaa7b4fd"
      },
      "outputs": [],
      "source": ""
    }
  ],
  "metadata": {
    "_change_revision": 0,
    "_is_fork": false,
    "kernelspec": {
      "display_name": "Python 3",
      "language": "python",
      "name": "python3"
    },
    "language_info": {
      "codemirror_mode": {
        "name": "ipython",
        "version": 3
      },
      "file_extension": ".py",
      "mimetype": "text/x-python",
      "name": "python",
      "nbconvert_exporter": "python",
      "pygments_lexer": "ipython3",
      "version": "3.6.0"
    }
  },
  "nbformat": 4,
  "nbformat_minor": 0
}