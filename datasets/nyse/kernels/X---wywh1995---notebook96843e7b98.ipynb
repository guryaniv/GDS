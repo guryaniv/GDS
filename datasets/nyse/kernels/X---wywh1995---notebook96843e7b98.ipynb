{
  "cells": [
    {
      "cell_type": "code",
      "execution_count": null,
      "metadata": {
        "_cell_guid": "d3617e96-1cba-4036-25f6-9fdf6d1ba1e5"
      },
      "outputs": [],
      "source": [
        "# This Python 3 environment comes with many helpful analytics libraries installed\n",
        "# It is defined by the kaggle/python docker image: https://github.com/kaggle/docker-python\n",
        "# For example, here's several helpful packages to load in \n",
        "\n",
        "import numpy as np # linear algebra\n",
        "import pandas as pd # data processing, CSV file I/O (e.g. pd.read_csv)\n",
        "\n",
        "# Input data files are available in the \"../input/\" directory.\n",
        "# For example, running this (by clicking run or pressing Shift+Enter) will list the files in the input directory\n",
        "\n",
        "from subprocess import check_output\n",
        "print(check_output([\"ls\", \"../input\"]).decode(\"utf8\"))\n",
        "\n",
        "# Any results you write to the current directory are saved as output.\n"
      ]
    },
    {
      "cell_type": "code",
      "execution_count": null,
      "metadata": {
        "_cell_guid": "0b8d306d-e47a-0d05-df5a-66ced7537f27"
      },
      "outputs": [],
      "source": [
        "PriceDataFrame = pd.read_csv('../input/prices-split-adjusted.csv')\n",
        "SecuritiesDataFrame = pd.read_csv('../input/securities.csv')\n",
        "FundamentalsDataFrame = pd.read_csv('../input/fundamentals.csv')\n"
      ]
    },
    {
      "cell_type": "code",
      "execution_count": null,
      "metadata": {
        "_cell_guid": "619823fa-1fb7-f047-d386-56156d199748"
      },
      "outputs": [],
      "source": [
        "PriceDataFrame.set_index(['date', 'symbol'], inplace=True)\n",
        "PriceDataFrame.sort_index()\n"
      ]
    },
    {
      "cell_type": "code",
      "execution_count": null,
      "metadata": {
        "_cell_guid": "674863c0-404c-8fc8-62a4-c167da61707a"
      },
      "outputs": [],
      "source": [
        "PriceDataFrame.sort_values(['symbol', 'date'],  inplace = True)\n",
        "SymbolList = PriceDataFrame['symbol'].unique()\n",
        "\n",
        "OneDayAheadReturnDataFrame = pd.DataFrame(np.zeros([0, 3]), index = [], columns= PriceDataFrame.columns)\n",
        "OneDayAheadReturnDataFrame['return'] = np.nan\n",
        "for Symbol in SymbolList:\n",
        "    \n",
        "    pd.D  OneDayAheadReturnDataFrame = \n",
        "#SymbolList = PriceDataFrame['symbol'].unique()\n",
        "#for Symbol in SymbolList:\n",
        "    \n",
        "\n",
        "\n",
        "    \n"
      ]
    },
    {
      "cell_type": "code",
      "execution_count": null,
      "metadata": {
        "_cell_guid": "d12cdb14-0240-d7a7-9549-9a15b6aedd86"
      },
      "outputs": [],
      "source": [
        "OneDayAheadReturnDataFrame\n"
      ]
    },
    {
      "cell_type": "code",
      "execution_count": null,
      "metadata": {
        "_cell_guid": "6a924fe9-0072-202d-198e-e8a1cb1c31df"
      },
      "outputs": [],
      "source": [
        "PriceDataFrame.loc[:, 'OneDayReturn'] = np.nan\n",
        "PriceDataFrame.head()"
      ]
    },
    {
      "cell_type": "code",
      "execution_count": null,
      "metadata": {
        "_cell_guid": "11c111a7-071a-0a24-8631-bb7a5602320e"
      },
      "outputs": [],
      "source": [
        "PriceDataFrame.loc[PriceDataFrame['symbol'] =='AMT', :].sort_values('date')"
      ]
    },
    {
      "cell_type": "code",
      "execution_count": null,
      "metadata": {
        "_cell_guid": "45b2fe76-1c71-d052-33ac-792a13ec40ea"
      },
      "outputs": [],
      "source": [
        "PriceDataFrame[PriceDataFrame['symbol'] =='AMT'].loc[:, 'OneDayReturn']"
      ]
    },
    {
      "cell_type": "code",
      "execution_count": null,
      "metadata": {
        "_cell_guid": "65948078-8976-780d-ecb7-6e56beab36f7"
      },
      "outputs": [],
      "source": [
        ""
      ]
    }
  ],
  "metadata": {
    "_change_revision": 0,
    "_is_fork": false,
    "kernelspec": {
      "display_name": "Python 3",
      "language": "python",
      "name": "python3"
    },
    "language_info": {
      "codemirror_mode": {
        "name": "ipython",
        "version": 3
      },
      "file_extension": ".py",
      "mimetype": "text/x-python",
      "name": "python",
      "nbconvert_exporter": "python",
      "pygments_lexer": "ipython3",
      "version": "3.6.0"
    }
  },
  "nbformat": 4,
  "nbformat_minor": 0
}