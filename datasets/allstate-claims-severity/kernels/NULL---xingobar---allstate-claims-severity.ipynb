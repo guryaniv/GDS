{
  "cells": [
    {
      "cell_type": "markdown",
      "metadata": {
        "_cell_guid": "63722a4e-b2eb-ab6e-6f42-5437dfa69fc6"
      },
      "source": [
        "Reference:\n",
        " \n",
        "https://www.kaggle.com/achalshah/allstate-claims-severity/allstate-feature-analysis-python/comments https://www.kaggle.com/snmateen/allstate-claims-severity/simple-eda-feature-transformations"
      ]
    },
    {
      "cell_type": "code",
      "execution_count": null,
      "metadata": {
        "_cell_guid": "2780f349-14cc-4864-0fc5-2f725f0ae830"
      },
      "outputs": [],
      "source": [
        "# This Python 3 environment comes with many helpful analytics libraries installed\n",
        "# It is defined by the kaggle/python docker image: https://github.com/kaggle/docker-python\n",
        "# For example, here's several helpful packages to load in \n",
        "\n",
        "import numpy as np # linear algebra\n",
        "import pandas as pd # data processing, CSV file I/O (e.g. pd.read_csv)\n",
        "import matplotlib.pyplot as plt\n",
        "import statsmodels.stats.api as sms\n",
        "import seaborn as sns\n",
        "from scipy.stats import skew\n",
        "%matplotlib inline\n",
        "# Input data files are available in the \"../input/\" directory.\n",
        "# For example, running this (by clicking run or pressing Shift+Enter) will list the files in the input directory\n",
        "\n",
        "from subprocess import check_output\n",
        "print(check_output([\"ls\", \"../input\"]).decode(\"utf8\"))\n",
        "\n",
        "# Any results you write to the current directory are saved as output."
      ]
    },
    {
      "cell_type": "code",
      "execution_count": null,
      "metadata": {
        "_cell_guid": "681aa01a-d2f6-4ef2-1c91-2c09fbb74136"
      },
      "outputs": [],
      "source": [
        "df_train = pd.read_csv('../input/train.csv')"
      ]
    },
    {
      "cell_type": "code",
      "execution_count": null,
      "metadata": {
        "_cell_guid": "e9e2b22d-3293-e088-479d-0ce39a45ab80"
      },
      "outputs": [],
      "source": [
        "numeric_feat = []\n",
        "for key,val in df_train.iloc[1,:].iteritems():\n",
        "    if not str(val).isalpha():\n",
        "        numeric_feat.append(key)\n",
        "print(numeric_feat)"
      ]
    },
    {
      "cell_type": "code",
      "execution_count": null,
      "metadata": {
        "_cell_guid": "3d61b7e0-3440-f599-c721-c0c741652dca"
      },
      "outputs": [],
      "source": [
        "ids = numeric_feat.pop(0) ## delete id \n",
        "loss = numeric_feat.pop(len(numeric_feat) - 1) # delete loss\n",
        "print(numeric_feat)"
      ]
    },
    {
      "cell_type": "code",
      "execution_count": null,
      "metadata": {
        "_cell_guid": "0b3d37eb-241e-e234-3c1b-62e1bf4fdce8"
      },
      "outputs": [],
      "source": [
        "fig,ax = plt.subplots(figsize=(8,6))\n",
        "sns.boxplot(df_train[numeric_feat])\n",
        "ticks = plt.setp(ax.get_xticklabels(),rotation=45)"
      ]
    },
    {
      "cell_type": "code",
      "execution_count": null,
      "metadata": {
        "_cell_guid": "a7fa6494-47dc-f208-b53e-196b8c85cb4c"
      },
      "outputs": [],
      "source": [
        "numeric_feat.append('loss')\n",
        "correlation = df_train[numeric_feat].corr(method='pearson')\n",
        "fig,ax = plt.subplots(figsize=(8,6))\n",
        "sns.heatmap(correlation,annot=True,ax=ax,fmt='2.2f')\n",
        "plt.ylabel('Column')\n",
        "plt.xlabel('Column')\n",
        "plt.title('Numeric feature correlation matrix')"
      ]
    },
    {
      "cell_type": "markdown",
      "metadata": {
        "_cell_guid": "4322f546-f77c-d766-1dcb-c582fdb70255"
      },
      "source": [
        "# corr 0 : not correlation\n",
        "# corr 1 : positive linear correlation\n",
        "# corr -1: negative linear correlation"
      ]
    },
    {
      "cell_type": "code",
      "execution_count": null,
      "metadata": {
        "_cell_guid": "9681bd84-a7f6-5bf9-5526-bb2536755f90"
      },
      "outputs": [],
      "source": [
        "fig,ax = plt.subplots(figsize=(8,6))\n",
        "sns.distplot(df_train['loss'])\n",
        "sns.boxplot(df_train['loss'])\n",
        "plt.title('Loss')"
      ]
    },
    {
      "cell_type": "code",
      "execution_count": null,
      "metadata": {
        "_cell_guid": "eff70cff-7b7c-c791-825d-bb59b2a35856"
      },
      "outputs": [],
      "source": [
        "plt.title('Log Loss')\n",
        "sns.distplot(np.log1p(df_train['loss']))"
      ]
    },
    {
      "cell_type": "code",
      "execution_count": null,
      "metadata": {
        "_cell_guid": "24c32ce3-af7c-78ad-d1bd-d8b74fcf1ddb"
      },
      "outputs": [],
      "source": [
        "cat_feat = []\n",
        "for key,val in df_train.iloc[1,:].iteritems():\n",
        "    if str(val).isalpha():\n",
        "        cat_feat.append(key)\n",
        "print(cat_feat)"
      ]
    },
    {
      "cell_type": "code",
      "execution_count": null,
      "metadata": {
        "_cell_guid": "497e8fd6-c123-ebed-0732-fa87dabad846"
      },
      "outputs": [],
      "source": [
        "numeric_feat.remove('loss')\n",
        "skewed_list = []\n",
        "for cn in df_train[numeric_feat].columns:\n",
        "    skewed_list.append(skew(df_train[cn]))\n",
        "    \n",
        "plt.figure(figsize=(8,6))\n",
        "plt.plot(skewed_list,'bo-')\n",
        "plt.xlabel('continuous feature')\n",
        "plt.ylabel('skewed')\n",
        "plt.xticks(range(15),range(15,1))\n",
        "plt.plot([0.25 for i in range(0,14)],'r--')\n",
        "plt.text(6,.1,'threshold 0.25')\n",
        "plt.show()\n",
        "numeric_feat.append('loss')"
      ]
    },
    {
      "cell_type": "code",
      "execution_count": null,
      "metadata": {
        "_cell_guid": "ec254787-98e5-faf3-ab7a-8e2adddb95f6"
      },
      "outputs": [],
      "source": [
        "skewed = df_train[numeric_feat].apply(lambda x:skew(x.dropna()))\n",
        "skewed_less = skewed[skewed < 0.25].index\n",
        "skewed_greater= skewed[skewed >= 0.25].index\n",
        "df_train[skewed_greater] = np.log1p(df_train[skewed_greater])\n",
        "df_train[skewed_less] = np.exp(df_train[skewed_less])\n",
        "\n",
        "numeric_feat.remove('loss')\n",
        "fig,ax = plt.subplots(figsize=(8,6))\n",
        "sns.boxplot(df_train[numeric_feat],ax=ax)\n",
        "ticks = plt.setp(ax.get_xticklabels(),rotation=45)\n",
        "numeric_feat.append('loss')\n",
        "\n",
        "del fig,ax,ticks"
      ]
    },
    {
      "cell_type": "code",
      "execution_count": null,
      "metadata": {
        "_cell_guid": "3e2c04cf-0d1c-4791-c560-f739c663be30"
      },
      "outputs": [],
      "source": [
        "print('cont1 : ',sms.DescrStatsW(df_train['cont1']).tconfint_mean())\n",
        "print('cont6 : ',sms.DescrStatsW(df_train['cont6']).tconfint_mean())\n",
        "print('cont9 : ',sms.DescrStatsW(df_train['cont9']).tconfint_mean())\n",
        "print('cont10 : ',sms.DescrStatsW(df_train['cont10']).tconfint_mean())\n",
        "print('cont13 : ',sms.DescrStatsW(df_train['cont13']).tconfint_mean())\n",
        "print('min : ' ,df_train[numeric_feat].min())\n",
        "print\n",
        "print('max : ', df_train[numeric_feat].max())"
      ]
    },
    {
      "cell_type": "code",
      "execution_count": null,
      "metadata": {
        "_cell_guid": "e0ed8b78-c581-e9f3-bef1-75d8579e21c8"
      },
      "outputs": [],
      "source": [
        "#numeric_feat.append('loss')\n",
        "df_train_copy = df_train.copy()\n",
        "df_train_copy['cont1'] = df_train_copy[df_train_copy['cont1'] >= 0.3930894470200948]['cont1']\n",
        "df_train_copy['cont9'] = df_train_copy[df_train_copy['cont9'] >= 0.38823598271681442]['cont9']\n",
        "df_train_copy['cont10'] = df_train_copy[df_train_copy['cont10'] >= 0.39602509335206326]['cont10']\n",
        "fig,ax = plt.subplots(figsize=(8,6))\n",
        "#numeric_feat.remove('loss')\n",
        "sns.boxplot(df_train_copy[numeric_feat],ax=ax)\n",
        "#numeric_feat.append('loss')\n",
        "ticks = plt.setp(ax.get_xticklabels(),rotation=45)\n",
        "\n",
        "del fig,ax,ticks"
      ]
    },
    {
      "cell_type": "code",
      "execution_count": null,
      "metadata": {
        "_cell_guid": "2704243e-98ab-7fbc-aadd-473b7f01f3de"
      },
      "outputs": [],
      "source": ""
    }
  ],
  "metadata": {
    "_change_revision": 0,
    "_is_fork": false,
    "kernelspec": {
      "display_name": "Python 3",
      "language": "python",
      "name": "python3"
    },
    "language_info": {
      "codemirror_mode": {
        "name": "ipython",
        "version": 3
      },
      "file_extension": ".py",
      "mimetype": "text/x-python",
      "name": "python",
      "nbconvert_exporter": "python",
      "pygments_lexer": "ipython3",
      "version": "3.5.2"
    }
  },
  "nbformat": 4,
  "nbformat_minor": 0
}