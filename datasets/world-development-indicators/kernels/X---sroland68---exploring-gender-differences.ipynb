{
  "cells": [
    {
      "cell_type": "markdown",
      "metadata": {
        "_cell_guid": "8b651013-664f-cfcd-be48-773b1323d7a4"
      },
      "source": [
        "# Gender Inequality in World Development Indicators"
      ]
    },
    {
      "cell_type": "code",
      "execution_count": null,
      "metadata": {
        "_cell_guid": "1418383c-8995-4729-4e0b-a92d55ea1e89"
      },
      "outputs": [],
      "source": [
        "import pandas as pd\n",
        "import numpy as np\n",
        "from plotly import __version__\n",
        "from plotly.offline import download_plotlyjs, init_notebook_mode, plot, iplot\n",
        "init_notebook_mode()\n",
        "import re\n",
        "import matplotlib\n",
        "import matplotlib.pyplot as plt\n",
        "matplotlib.style.use('ggplot')"
      ]
    },
    {
      "cell_type": "markdown",
      "metadata": {
        "_cell_guid": "f32c9739-830f-a69d-342d-a4b5d48e09b9"
      },
      "source": [
        "## Functions\n",
        "\n",
        "We will check the indicators to see if they correspond to males or females. If so, we want to extract the gender neutral indicator name and code."
      ]
    },
    {
      "cell_type": "code",
      "execution_count": null,
      "metadata": {
        "_cell_guid": "7694b040-8240-dc31-106f-b662d28a0228",
        "collapsed": true
      },
      "outputs": [],
      "source": [
        "def is_male(code):\n",
        "    str_list = code.split('.')\n",
        "    return ('MA' in str_list)\n",
        "    \n",
        "def is_female(code):\n",
        "    str_list = code.split('.')\n",
        "    return ('FE' in str_list)\n",
        "\n",
        "#returns string with '.MA' or '.FE' deleted\n",
        "def get_base_code(code):\n",
        "    str_list = code.split('.')\n",
        "    if 'MA' in str_list:\n",
        "        str_list.remove('MA')\n",
        "    if 'FE' in str_list:\n",
        "        str_list.remove('FE')\n",
        "    return '.'.join(str_list)\n",
        "\n",
        "#uses regular expression operations to remove 'male' or 'males' from indicator names\n",
        "def get_base_name(name):\n",
        "    return re.sub('[, ]*male[, s]*', ' ', name,)"
      ]
    },
    {
      "cell_type": "code",
      "execution_count": null,
      "metadata": {
        "_cell_guid": "7849b6f0-0f96-d0d2-68ea-688277a365bd"
      },
      "outputs": [],
      "source": [
        "path = \"../input/Indicators.csv\"\n",
        "indicators = pd.read_csv(path)"
      ]
    },
    {
      "cell_type": "code",
      "execution_count": null,
      "metadata": {
        "_cell_guid": "abd3450c-3986-8ca5-57fa-4c649454f947"
      },
      "outputs": [],
      "source": [
        "indicators.columns"
      ]
    },
    {
      "cell_type": "markdown",
      "metadata": {
        "_cell_guid": "109ce0e5-064a-1732-ebbc-42a28b4158c3"
      },
      "source": [
        "## Selecting gender data\n",
        "\n",
        "We extract the indicators with male and female versions and merge them into a new dataframe with a new value for each indicator called 'Inequality' that measures the difference between the female and male values:\n",
        "\n",
        "$$ \\text{Inequality} \\equiv \\frac{\\text{FemaleValue - MaleValue}}{\\text{FemaleValue + MaleValue}} $$\n",
        "\n",
        "We also create new columns, 'IndicatorBaseCode' and 'IndicatorBaseName', with the gender neutral code and name of the corresponding indicator."
      ]
    },
    {
      "cell_type": "code",
      "execution_count": null,
      "metadata": {
        "_cell_guid": "2ef7e79a-bd89-a792-0613-8d6919aa006b"
      },
      "outputs": [],
      "source": [
        "#dataframe of male indicators\n",
        "male_data = indicators[indicators.IndicatorCode.apply(is_male)]\n",
        "male_data.columns = ['CountryName', 'CountryCode', 'MaleIndicatorName', \n",
        "                     'MaleIndicatorCode', 'Year', 'MaleValue']\n",
        "male_data = male_data.assign(IndicatorBaseCode = male_data.MaleIndicatorCode.apply(get_base_code))\n",
        "\n",
        "#dataframe of female indicators\n",
        "female_data = indicators[indicators.IndicatorCode.apply(is_female)]\n",
        "female_data.columns = ['CountryName', 'CountryCode', 'FemaleIndicatorName', \n",
        "                       'FemaleIndicatorCode', 'Year', 'FemaleValue']\n",
        "female_data = female_data.assign(IndicatorBaseCode = female_data.FemaleIndicatorCode.apply(get_base_code))\n",
        "\n",
        "#merge these two\n",
        "gender_data = pd.merge(male_data, female_data, how='inner', \n",
        "                       on=['CountryName','CountryCode','Year','IndicatorBaseCode'])\n",
        "gender_data['Inequality'] = (gender_data.FemaleValue - gender_data.MaleValue)/(gender_data.FemaleValue + gender_data.MaleValue)\n",
        "gender_data = gender_data.assign(IndicatorBaseName = gender_data.MaleIndicatorName.apply(get_base_name))\n",
        "\n",
        "#remove redundant information\n",
        "gender_data.drop(['MaleIndicatorName', 'MaleIndicatorCode','FemaleIndicatorName',\n",
        "                  'FemaleIndicatorCode'], axis=1, inplace=True)"
      ]
    },
    {
      "cell_type": "markdown",
      "metadata": {
        "_cell_guid": "bf6c25fd-b564-ca35-e8b6-6ff2d13f399b"
      },
      "source": [
        "Let's take a look at which indicators we are dealing with, and sort them by the number of entries"
      ]
    },
    {
      "cell_type": "code",
      "execution_count": null,
      "metadata": {
        "_cell_guid": "31c67ae6-ca0f-7f65-ab42-ca99d61a7874"
      },
      "outputs": [],
      "source": [
        "indicator_groups = gender_data.groupby('IndicatorBaseName')\n",
        "indicator_groups.size().sort_values(ascending=False)"
      ]
    },
    {
      "cell_type": "markdown",
      "metadata": {
        "_cell_guid": "e9b79298-6d6c-4825-fbd0-4a9e101ef9b0"
      },
      "source": [
        "## Exploration\n",
        "\n",
        "First let's define some useful functions to create graphics"
      ]
    },
    {
      "cell_type": "code",
      "execution_count": null,
      "metadata": {
        "_cell_guid": "aaaf8167-720f-472b-8e22-8d5cb91530fa"
      },
      "outputs": [],
      "source": [
        "def make_mf_year_plot(indicator_name, country):\n",
        "    df = gender_data[(gender_data.IndicatorBaseName==indicator_name) & \\\n",
        "                     (gender_data.CountryName==country)]\n",
        "    graph = df[['Year','MaleValue','FemaleValue']].plot(x='Year',\n",
        "                                                        title = indicator_name + ' in ' + country, \n",
        "                                                        style = ['b','r'])\n",
        "    plt.show()\n",
        "    return\n",
        "    \n",
        "def make_ineq_year_plot(indicator_name, country):\n",
        "    df = gender_data[(gender_data.IndicatorBaseName==indicator_name) & \\\n",
        "                     (gender_data.CountryName==country)]\n",
        "    graph = df.plot(x='Year',y='Inequality')                                               \n",
        "    plt.show()\n",
        "    return\n",
        "\n",
        "def make_map(indicator_name, year=None):\n",
        "    \n",
        "    #if a year is specified, plot data from that year, otherwise plot the average values over all years\n",
        "    if year:\n",
        "        filtered = gender_data[(gender_data.IndicatorBaseName==indicator_name) & \\\n",
        "                               (gender_data.Year==year)]\n",
        "        \n",
        "        #if there is no data from that year, exit\n",
        "        if filtered.size == 0:\n",
        "            print('No data for ' + indicator_name + ' in ' + str(year))\n",
        "            return\n",
        "        \n",
        "        title = indicator_name + ' in ' + str(year)\n",
        "        \n",
        "        \n",
        "    else:\n",
        "        indicator_data = gender_data[(gender_data.IndicatorBaseName == indicator_name)].groupby(['CountryCode','CountryName'],\n",
        "                                                                                                as_index=False)\n",
        "        filtered=indicator_data.agg(np.mean)\n",
        "        title = 'Average ' + indicator_name\n",
        "    \n",
        "    scl = [[-1.0, 'rgb(242,240,247)'],[-0.6, 'rgb(218,218,235)'],[-0.2, 'rgb(188,189,220)'],\\\n",
        "                [0.2, 'rgb(158,154,200)'],[0.6, 'rgb(117,107,177)'],[1.0, 'rgb(84,39,143)']]\n",
        "\n",
        "    #max_val = abs(filtered.Inequality.values).max()\n",
        "\n",
        "    data = [ dict(\n",
        "            type='choropleth',\n",
        "            colorscale = scl,\n",
        "            autocolorscale = False,\n",
        "            locations = filtered.CountryCode.values,\n",
        "            z = filtered.Inequality.values,\n",
        "            zmax = 1.0, #max_val,\n",
        "            zmin = -1.0, #-1.0*max_val,\n",
        "            text = filtered.CountryName + '<br>' + \n",
        "                    'Male Value: ' + filtered.MaleValue.apply('{:.2f}'.format) + '<br>' +\n",
        "                    'Female Value: ' + filtered.FemaleValue.apply('{:.2f}'.format) +'<br>' +\n",
        "                    'Relative Difference: ' + filtered.Inequality.apply('{:.2f}'.format) ,\n",
        "            hoverinfo = 'text',\n",
        "            marker = dict(\n",
        "                line = dict(\n",
        "                    color = 'rgb(255,255,255)',\n",
        "                    width = 1\n",
        "                )),\n",
        "            colorbar = dict(\n",
        "                title = \"Inequality\")\n",
        "            ) ]\n",
        "\n",
        "    layout = dict(\n",
        "            title = title,\n",
        "            geo = dict(\n",
        "                scope='world',\n",
        "                projection=dict(type='Mercator'),\n",
        "                showlakes = True,\n",
        "                lakecolor = 'rgb(255, 255, 255)'),\n",
        "                 )\n",
        "\n",
        "    fig = dict( data=data, layout=layout )\n",
        "    iplot(fig, filename='d3-cloropleth-map')\n",
        "    return"
      ]
    },
    {
      "cell_type": "markdown",
      "metadata": {
        "_cell_guid": "7f67ab16-7fc1-3b95-00c8-60dc813d665a"
      },
      "source": [
        "Let's take a look at the gender inequality in HIV prevalence across the world"
      ]
    },
    {
      "cell_type": "code",
      "execution_count": null,
      "metadata": {
        "_cell_guid": "49e8efce-ad66-45ea-6beb-2b73dfb135cc"
      },
      "outputs": [],
      "source": [
        "indicator_name = 'Prevalence of HIV (% ages 15-24)'\n",
        "make_map(indicator_name)"
      ]
    },
    {
      "cell_type": "markdown",
      "metadata": {
        "_cell_guid": "14b22c1a-be61-ad36-3b2b-ca5ba099e862"
      },
      "source": [
        "There is a clear pattern here: HIV rates tend to be higher for males (blue) in Central and South America, while in Africa it is higher for females (red).\n",
        "\n",
        "Let's take a look at two example countries: Mexico and South Africa"
      ]
    },
    {
      "cell_type": "code",
      "execution_count": null,
      "metadata": {
        "_cell_guid": "0e3eb2c2-4e19-10a8-c6ed-bc7e863d3611"
      },
      "outputs": [],
      "source": [
        "make_mf_year_plot(indicator_name,'Mexico')\n",
        "make_mf_year_plot(indicator_name,'South Africa')"
      ]
    },
    {
      "cell_type": "code",
      "execution_count": null,
      "metadata": {
        "_cell_guid": "d329281f-3fd0-aef0-ad2d-17c4789da7c7"
      },
      "outputs": [],
      "source": ""
    }
  ],
  "metadata": {
    "_change_revision": 0,
    "_is_fork": false,
    "kernelspec": {
      "display_name": "Python 3",
      "language": "python",
      "name": "python3"
    },
    "language_info": {
      "codemirror_mode": {
        "name": "ipython",
        "version": 3
      },
      "file_extension": ".py",
      "mimetype": "text/x-python",
      "name": "python",
      "nbconvert_exporter": "python",
      "pygments_lexer": "ipython3",
      "version": "3.6.0"
    }
  },
  "nbformat": 4,
  "nbformat_minor": 0
}