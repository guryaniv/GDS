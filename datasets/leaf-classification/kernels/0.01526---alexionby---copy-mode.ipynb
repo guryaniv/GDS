{
  "cells": [
    {
      "cell_type": "code",
      "execution_count": null,
      "metadata": {
        "_cell_guid": "cc875d18-9562-6a16-6b61-027c67e54ded"
      },
      "outputs": [],
      "source": [
        "# This Python 3 environment comes with many helpful analytics libraries installed\n",
        "# It is defined by the kaggle/python docker image: https://github.com/kaggle/docker-python\n",
        "# For example, here's several helpful packages to load in \n",
        "\n",
        "import numpy as np # linear algebra\n",
        "import pandas as pd # data processing, CSV file I/O (e.g. pd.read_csv)\n",
        "\n",
        "# Input data files are available in the \"../input/\" directory.\n",
        "# For example, running this (by clicking run or pressing Shift+Enter) will list the files in the input directory\n",
        "\n",
        "from subprocess import check_output\n",
        "print(check_output([\"ls\", \"../input\"]).decode(\"utf8\"))\n",
        "\n",
        "# Any results you write to the current directory are saved as output."
      ]
    },
    {
      "cell_type": "code",
      "execution_count": null,
      "metadata": {
        "_cell_guid": "acb53493-917c-b294-d4e0-44ab9634a35d"
      },
      "outputs": [],
      "source": [
        "data = pd.read_csv('../input/train.csv')\n",
        "or_data = data.copy()\n",
        "ID = data.pop('id')\n",
        "data.head()"
      ]
    },
    {
      "cell_type": "code",
      "execution_count": null,
      "metadata": {
        "_cell_guid": "3733e096-6359-6100-cffd-90dfc3fa6d24"
      },
      "outputs": [],
      "source": [
        "from sklearn.preprocessing import LabelEncoder\n",
        "from sklearn.preprocessing import StandardScaler\n",
        "from sklearn.cross_validation import train_test_split\n",
        "from sklearn.model_selection import GridSearchCV"
      ]
    },
    {
      "cell_type": "code",
      "execution_count": null,
      "metadata": {
        "_cell_guid": "6e60227a-f8d6-19e7-4973-eef21268da34"
      },
      "outputs": [],
      "source": [
        "from keras.models import Sequential\n",
        "from keras.layers import Dense,Dropout,Activation\n",
        "from keras.utils.np_utils import to_categorical\n",
        "from keras.wrappers.scikit_learn import KerasClassifier"
      ]
    },
    {
      "cell_type": "code",
      "execution_count": null,
      "metadata": {
        "_cell_guid": "b5a2e2a2-0514-9ce3-a8d3-c316eb5f1bc0"
      },
      "outputs": [],
      "source": [
        "y = data.pop('species')\n",
        "y = LabelEncoder().fit(y).transform(y)\n",
        "y_cat = to_categorical(y)\n",
        "y_cat.shape, y.shape"
      ]
    },
    {
      "cell_type": "code",
      "execution_count": null,
      "metadata": {
        "_cell_guid": "8aae9700-c8c8-6e84-0348-37b9b919f035"
      },
      "outputs": [],
      "source": [
        "X = StandardScaler().fit(data).transform(data)\n",
        "X.shape"
      ]
    },
    {
      "cell_type": "code",
      "execution_count": null,
      "metadata": {
        "_cell_guid": "ac2638d8-0cb4-dfdd-7869-8241fba26ffa"
      },
      "outputs": [],
      "source": [
        "def create_model(dropout_rate_l1=0.1 , dropout_rate_l2=0.1):\n",
        "    \n",
        "    model = Sequential()\n",
        "    model.add(Dense(2048,input_dim=192,  init='uniform', activation='relu'))\n",
        "    model.add(Dropout(dropout_rate_l1))\n",
        "    model.add(Dense(1536, activation='relu'))\n",
        "    model.add(Dropout(dropout_rate_l2))\n",
        "    model.add(Dense(99, activation='softmax'))\n",
        "    \n",
        "    model.compile(loss='categorical_crossentropy',optimizer='rmsprop', metrics = [\"accuracy\"])\n",
        "    \n",
        "    return model"
      ]
    },
    {
      "cell_type": "code",
      "execution_count": null,
      "metadata": {
        "_cell_guid": "fd1799f7-df86-c5a4-c8a7-06c94046e062"
      },
      "outputs": [],
      "source": [
        "dropout_rate_l1 = [0.3]\n",
        "dropout_rate_l2 = [0.3]\n",
        "\n",
        "models = []\n",
        "\n",
        "for i in dropout_rate_l1:\n",
        "    for j in dropout_rate_l2:\n",
        "        models.append([i,j])\n",
        "        \n",
        "histories = []\n",
        "\n",
        "for i in models:\n",
        "    print(i)\n",
        "    model = create_model(i[0],i[1])\n",
        "    \n",
        "    history = model.fit(X,y_cat,batch_size=192,\n",
        "                   nb_epoch=10,verbose=0, validation_split=0.1)\n",
        "    \n",
        "    histories.append(history)"
      ]
    },
    {
      "cell_type": "code",
      "execution_count": null,
      "metadata": {
        "_cell_guid": "6494cefb-6f10-f094-8916-d0f28a161354"
      },
      "outputs": [],
      "source": [
        "min_val_loss, param = 1,[]\n",
        "\n",
        "for history,model in zip(histories,models):\n",
        "    if min(history.history['val_loss']) < min_val_loss :\n",
        "        min_val_loss = min(history.history['val_loss'])\n",
        "        param = model\n",
        "    print(model)\n",
        "    print(history.history.keys())\n",
        "    #print('val_acc: ',max(history.history['val_acc']))\n",
        "    print('val_loss: ',min(history.history['val_loss']))\n",
        "    #print('acc: ',max(history.history['acc']))\n",
        "    print('loss: ',min(history.history['loss']))\n",
        "    print('\\n')\n",
        "\n",
        "print(min_val_loss, param)"
      ]
    },
    {
      "cell_type": "code",
      "execution_count": null,
      "metadata": {
        "_cell_guid": "0c5f7ef7-ec11-c953-9b5b-1f7df28cca33"
      },
      "outputs": [],
      "source": [
        "%pylab inline\n",
        "pylab.rcParams['figure.figsize'] = (9, 6)\n",
        "\n",
        "import seaborn as sns\n",
        "import matplotlib.pyplot as plt\n",
        "\n",
        "for history in histories:\n",
        "    plt.plot(history.history['val_acc'],'o-')\n",
        "plt.xlabel('Number of Iterations')\n",
        "plt.ylabel('Categorical Crossentropy')\n",
        "plt.title('Train Error vs Number of Iterations')"
      ]
    },
    {
      "cell_type": "code",
      "execution_count": null,
      "metadata": {
        "_cell_guid": "957df9b8-e968-28ed-46d6-77b6f40916df"
      },
      "outputs": [],
      "source": [
        "model = create_model(param[0],param[1])\n",
        "model.fit(X,y_cat,batch_size=192,nb_epoch=10,verbose=0, validation_split=0.1)"
      ]
    },
    {
      "cell_type": "code",
      "execution_count": null,
      "metadata": {
        "_cell_guid": "1568c9f6-a646-3e4d-745e-829c78f4fcb4"
      },
      "outputs": [],
      "source": [
        "test = pd.read_csv('../input/test.csv')\n",
        "index = test.pop('id')\n",
        "test = StandardScaler().fit(test).transform(test)"
      ]
    },
    {
      "cell_type": "code",
      "execution_count": null,
      "metadata": {
        "_cell_guid": "cbe85f42-3abf-21fd-9ee5-4cdeadc3bd6f"
      },
      "outputs": [],
      "source": [
        "yPred = model.predict_proba(test)"
      ]
    },
    {
      "cell_type": "code",
      "execution_count": null,
      "metadata": {
        "_cell_guid": "9c1c3e56-e099-875f-83c9-25de742fa7f9"
      },
      "outputs": [],
      "source": [
        "yPred = pd.DataFrame(yPred, index=index, columns=sort(or_data.species.unique()))\n",
        "yPred\n",
        "#pd.concat((index,yPred), axis=1)"
      ]
    },
    {
      "cell_type": "code",
      "execution_count": null,
      "metadata": {
        "_cell_guid": "3c876822-032f-b747-cd15-e7462d25389e"
      },
      "outputs": [],
      "source": [
        "yPred.to_csv('result.csv', index=True)"
      ]
    }
  ],
  "metadata": {
    "_change_revision": 0,
    "_is_fork": false,
    "kernelspec": {
      "display_name": "Python 3",
      "language": "python",
      "name": "python3"
    },
    "language_info": {
      "codemirror_mode": {
        "name": "ipython",
        "version": 3
      },
      "file_extension": ".py",
      "mimetype": "text/x-python",
      "name": "python",
      "nbconvert_exporter": "python",
      "pygments_lexer": "ipython3",
      "version": "3.6.0"
    }
  },
  "nbformat": 4,
  "nbformat_minor": 0
}