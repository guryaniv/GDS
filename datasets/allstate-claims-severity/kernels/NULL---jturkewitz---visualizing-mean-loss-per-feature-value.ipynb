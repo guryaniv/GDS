{
  "cells": [
    {
      "cell_type": "markdown",
      "metadata": {
        "_cell_guid": "ebdd8c58-19fc-2f78-6cba-6703af9c19e2"
      },
      "source": [
        "This script calculates the mean for each categorical value. It also bins the continuous features and then plots the mean loss per binned continuous feature."
      ]
    },
    {
      "cell_type": "code",
      "execution_count": null,
      "metadata": {
        "_cell_guid": "679077aa-81b0-aaef-ad12-5b1f6ee3ea44"
      },
      "outputs": [],
      "source": [
        "# Supress unnecessary warnings so that presentation looks clean\n",
        "import warnings\n",
        "warnings.filterwarnings('ignore')\n",
        "\n",
        "# Read raw data from the file\n",
        "\n",
        "import pandas as pd\n",
        "import numpy as np\n",
        "import random\n",
        "import matplotlib.pylab as plt\n",
        "from matplotlib.ticker import MaxNLocator\n",
        "import pylab as p\n",
        "\n",
        "train = pd.read_csv(\"../input/train.csv\")\n",
        "#plt.rcParams['figure.figsize'] = 8, 6 #[6.0, 4.0]"
      ]
    },
    {
      "cell_type": "code",
      "execution_count": null,
      "metadata": {
        "_cell_guid": "deef644c-3d16-ef32-374f-8dc83fb45455"
      },
      "outputs": [],
      "source": [
        "features = train.columns\n",
        "cats = [feature for feature in features if feature.startswith('cat')]\n",
        "for feat in cats:\n",
        "    train[feat] = pd.factorize(train[feat], sort=True)[0]"
      ]
    },
    {
      "cell_type": "code",
      "execution_count": null,
      "metadata": {
        "_cell_guid": "36453476-1868-ef83-df7a-1dc5b9eaea74"
      },
      "outputs": [],
      "source": [
        "def plot_feature_loss(input_df,feature_name = 'cont1',num_bins = 50):\n",
        "    if feature_name.startswith('cont'):\n",
        "        bins = np.linspace(0,1.0,num_bins)\n",
        "        feature_name_binned = feature_name + '_binned'\n",
        "        input_df[feature_name_binned] = np.digitize(input_df[feature_name],bins=bins,right=True)\n",
        "        input_df[feature_name_binned] = input_df[feature_name_binned] / num_bins\n",
        "        temp_dict = input_df.groupby(feature_name_binned)['loss'].mean().to_dict()\n",
        "        temp_err_dict = input_df.groupby(feature_name_binned)['loss'].sem().to_dict()\n",
        "    else:\n",
        "        temp_dict = input_df.groupby(feature_name)['loss'].mean().to_dict()\n",
        "        temp_err_dict = input_df.groupby(feature_name)['loss'].sem().to_dict()\n",
        "\n",
        "    lists = sorted(temp_dict.items())\n",
        "    x, y = zip(*lists)\n",
        "    lists_err = sorted(temp_err_dict.items())\n",
        "    x_err, y_error = zip(*lists_err)\n",
        "\n",
        "    p.figure()\n",
        "    plt.errorbar(x,y,fmt = 'o',yerr = y_error,label = feature_name)\n",
        "    p.xlabel(feature_name,fontsize=20)\n",
        "    p.ylabel('loss',fontsize=20)\n",
        "    plt.tick_params(axis='both', which='major', labelsize=15)\n",
        "    p.legend(prop={'size':20},numpoints=1,loc=(0.05,0.8))\n",
        "    p.xlim([input_df[feature_name].min() - 0.02, input_df[feature_name].max() + 0.02 ])\n",
        "    plt.grid()\n",
        "    ax = plt.gca()\n",
        "\n",
        "    plt.tick_params(axis='both', which='major', labelsize=15)\n",
        "    ax.yaxis.set_major_locator(MaxNLocator(prune='lower'))\n",
        "    ax.xaxis.set_major_locator(MaxNLocator(prune='lower'))\n",
        "    ax.ticklabel_format(axis='y', style='sci', scilimits=(-2,2))\n",
        "\n",
        "\n",
        "for name in train.columns:\n",
        "    if name.startswith('cont'):\n",
        "        plot_feature_loss(train,feature_name = name)\n",
        "    if name.startswith('cat'):\n",
        "        #limit number of pics made because of script limit on output files\n",
        "        if int(name[3:]) >= 100: \n",
        "            plot_feature_loss(train,feature_name = name)"
      ]
    }
  ],
  "metadata": {
    "_change_revision": 0,
    "_is_fork": false,
    "kernelspec": {
      "display_name": "Python 3",
      "language": "python",
      "name": "python3"
    },
    "language_info": {
      "codemirror_mode": {
        "name": "ipython",
        "version": 3
      },
      "file_extension": ".py",
      "mimetype": "text/x-python",
      "name": "python",
      "nbconvert_exporter": "python",
      "pygments_lexer": "ipython3",
      "version": "3.5.2"
    }
  },
  "nbformat": 4,
  "nbformat_minor": 0
}