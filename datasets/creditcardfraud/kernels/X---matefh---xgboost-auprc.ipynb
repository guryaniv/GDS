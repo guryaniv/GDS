{
  "cells": [
    {
      "cell_type": "markdown",
      "metadata": {
        "_cell_guid": "6e4c9a54-05f1-8d2c-b6a9-03bab5a93ba1"
      },
      "source": [
        "### Import Libraries"
      ]
    },
    {
      "cell_type": "code",
      "execution_count": null,
      "metadata": {
        "_cell_guid": "02983dc6-77a5-ca6b-9756-79d9c5b23ee1"
      },
      "outputs": [],
      "source": [
        "# This Python 3 environment comes with many helpful analytics libraries installed\n",
        "# It is defined by the kaggle/python docker image: https://github.com/kaggle/docker-python\n",
        "# For example, here's several helpful packages to load in \n",
        "\n",
        "import numpy as np # linear algebra\n",
        "import pandas as pd # data processing, CSV file I/O (e.g. pd.read_csv)\n",
        "import seaborn as sns\n",
        "from sklearn.preprocessing import StandardScaler\n",
        "from sklearn.metrics import precision_recall_curve, auc, confusion_matrix, classification_report, recall_score, roc_auc_score\n",
        "from sklearn.model_selection import train_test_split\n",
        "from sklearn.linear_model import LogisticRegression\n",
        "from sklearn.ensemble import ExtraTreesClassifier\n",
        "from sklearn.ensemble import RandomForestClassifier\n",
        "import xgboost as xgb\n",
        "\n",
        "# Input data files are available in the \"../input/\" directory.\n",
        "# For example, running this (by clicking run or pressing Shift+Enter) will list the files in the input directory\n",
        "\n",
        "from subprocess import check_output\n",
        "print(check_output([\"ls\", \"../input\"]).decode(\"utf8\"))\n",
        "\n",
        "# Any results you write to the current directory are saved as output."
      ]
    },
    {
      "cell_type": "code",
      "execution_count": null,
      "metadata": {
        "_cell_guid": "9ea8ada8-864e-5dc2-c4fa-057584c0d7df"
      },
      "outputs": [],
      "source": [
        "dataset = pd.read_csv(\"../input/creditcard.csv\")\n",
        "print(dataset.head())\n",
        "print(dataset.describe())\n",
        "\n",
        "print(len(dataset[dataset.Class == 1]))\n",
        "features = dataset.iloc[:, :-1]\n",
        "print(features.shape)\n",
        "label = dataset.iloc[:, -1].values\n",
        "print(label.shape)\n",
        "\n",
        "# heatmap for correlation, verifying that pca is already done\n",
        "corrMat = features.corr()\n",
        "sns.heatmap(corrMat, vmax=0.8)"
      ]
    },
    {
      "cell_type": "markdown",
      "metadata": {
        "_cell_guid": "ab71dca6-32e4-d1b4-dc8c-2fff595cd0ce"
      },
      "source": [
        "**Feature scaling**"
      ]
    },
    {
      "cell_type": "code",
      "execution_count": null,
      "metadata": {
        "_cell_guid": "7d6a8df4-abbb-52ca-5f78-fef628131ae3"
      },
      "outputs": [],
      "source": [
        "fraudInd = np.asarray(np.where(label == 1))\n",
        "noFraudInd = np.where(label == 0)\n",
        "features = features.values\n",
        "\n",
        "# data standarization (zero-mean, unit variance) ~ truncation to [-1, 1]\n",
        "scaler = StandardScaler()\n",
        "scaler.fit(features)\n",
        "features = scaler.transform(features)\n",
        "\n",
        "#import matplotlib.pyplot as plt\n",
        "#fig = plt.figure()\n",
        "#ax1 = fig.add_subplot(221)\n",
        "#ax1.hist(features[noFraudInd,0], 50)\n",
        "#ax2 = fig.add_subplot(222)\n",
        "#ax2.hist(features[noFraudInd,1], 50)\n",
        "#ax3 = fig.add_subplot(223)\n",
        "#ax3.hist(features[noFraudInd,2], 50)\n",
        "#ax4 = fig.add_subplot(224)\n",
        "#ax4.hist(features[noFraudInd,3], 50)"
      ]
    },
    {
      "cell_type": "markdown",
      "metadata": {
        "_cell_guid": "42c980ce-1a46-e55e-5d0a-111eb95ff30a"
      },
      "source": [
        "Different ML approaches\n",
        "-----------------------\n",
        "\n",
        "Logistic regression, extratree, random forest (running slowly in notebook).\n",
        "Both etratree and radnom forest classifiers perform similarly, achieving a good trade-off between fraud detection and false positive rates."
      ]
    },
    {
      "cell_type": "code",
      "execution_count": null,
      "metadata": {
        "_cell_guid": "22026b6d-8497-c9d8-051e-90e60ca62627"
      },
      "outputs": [],
      "source": [
        "TestPortion = 0.2\n",
        "RND_STATE = 1\n",
        "\n",
        "x_tr, x_test, y_tr, y_test = train_test_split(features, label, test_size = TestPortion, random_state = 1)\n",
        "\n",
        "logreg = LogisticRegression(C = .01, penalty = 'l1', class_weight='balanced')\n",
        "logreg.fit(x_tr,y_tr)\n",
        "y_pred= logreg.predict(x_test)\n",
        "print('------------ Results for LogiRegression ---------------')\n",
        "print('cm:', confusion_matrix(y_test,y_pred))\n",
        "#print('cr:', classification_report(y_test,y_pred))\n",
        "#print('recall_score:', recall_score(y_test,y_pred))\n",
        "print('roc_auc_score:',roc_auc_score(y_test,y_pred))\n",
        "\n",
        "precision, recall, thresholds = precision_recall_curve(y_test, y_pred)\n",
        "area = auc(recall, precision)\n",
        "print(\"Area Under P-R Curve: \",area)\n",
        "\n",
        "clf = ExtraTreesClassifier(n_estimators =100)\n",
        "clf.fit(x_tr, y_tr)\n",
        "y_pred = clf.predict(x_test)\n",
        "precision, recall, thresholds = precision_recall_curve(y_test, y_pred)\n",
        "area = auc(recall, precision)\n",
        "\n",
        "print('------------ Results for ExtraTreeClassifier ---------------')\n",
        "print('cm:', confusion_matrix(y_test,y_pred))\n",
        "#print('cr:', classification_report(y_test,y_pred))\n",
        "#print('recall_score:', recall_score(y_test,y_pred))\n",
        "print('roc_auc_score:',roc_auc_score(y_test,y_pred))\n",
        "print(\"Area Under P-R Curve: \",area)\n",
        "\n",
        "clf = RandomForestClassifier(n_estimators=100)    \n",
        "clf.fit(x_tr, y_tr)\n",
        "importances = clf.feature_importances_\n",
        "#plt.figure()\n",
        "#plt.title(\"Feature importances\")\n",
        "#plt.bar(range(x_tr.shape[1]), importances,\n",
        "#       color=\"r\", align=\"center\")\n",
        "#plt.xticks(range(x_tr.shape[1]))\n",
        "#plt.xlim([-1, x_tr.shape[1]])\n",
        "#plt.show()\n",
        "\n",
        "y_pred = clf.predict(x_test)\n",
        "precision, recall, thresholds = precision_recall_curve(y_test, y_pred)\n",
        "area = auc(recall, precision)\n",
        "\n",
        "print('------------ Results for RandomForestClassifier ---------------')\n",
        "print('cm:', confusion_matrix(y_test,y_pred))\n",
        "#print('cr:', classification_report(y_test,y_pred))\n",
        "#print('recall_score:', recall_score(y_test,y_pred))\n",
        "print('roc_auc_score:',roc_auc_score(y_test,y_pred))\n",
        "print(\"Area Under P-R Curve: \",area)\n"
      ]
    },
    {
      "cell_type": "code",
      "execution_count": null,
      "metadata": {
        "_cell_guid": "035d9182-da84-ac0e-2a06-b019cdf765c7"
      },
      "outputs": [],
      "source": [
        "xgb_model = xgb.XGBClassifier(n_estimators=100)\n",
        "xgb_model.fit(x_tr, y_tr, verbose = 1)\n",
        "\n",
        "y_pred = xgb_model.predict(x_test)\n",
        "precision, recall, thresholds = precision_recall_curve(y_test, y_pred)\n",
        "area = auc(recall, precision)\n",
        "\n",
        "print('------------ Results for XGBClassifier ---------------')\n",
        "print('cm:', confusion_matrix(y_test,y_pred))\n",
        "#print('cr:', classification_report(y_test,y_pred))\n",
        "#print('recall_score:', recall_score(y_test,y_pred))\n",
        "print('roc_auc_score:',roc_auc_score(y_test,y_pred))\n",
        "print(\"Area Under P-R Curve: \",area)"
      ]
    },
    {
      "cell_type": "code",
      "execution_count": null,
      "metadata": {
        "_cell_guid": "30c2f23a-77e0-c67a-a4d8-f2d89ac2e4ff"
      },
      "outputs": [],
      "source": ""
    },
    {
      "cell_type": "code",
      "execution_count": null,
      "metadata": {
        "_cell_guid": "a859b03d-f77a-44f9-ae1d-dd8a0574b408"
      },
      "outputs": [],
      "source": ""
    },
    {
      "cell_type": "code",
      "execution_count": null,
      "metadata": {
        "_cell_guid": "b8b3ecfb-ec89-cb3a-e816-14b0856c50a8"
      },
      "outputs": [],
      "source": ""
    },
    {
      "cell_type": "code",
      "execution_count": null,
      "metadata": {
        "_cell_guid": "032f29f4-1393-a0ca-7d38-c7390b556961"
      },
      "outputs": [],
      "source": ""
    },
    {
      "cell_type": "code",
      "execution_count": null,
      "metadata": {
        "_cell_guid": "69a3809e-032a-3055-01cd-d6e56d54fcfd"
      },
      "outputs": [],
      "source": ""
    },
    {
      "cell_type": "code",
      "execution_count": null,
      "metadata": {
        "_cell_guid": "85a0da6a-3317-dd34-8671-9654da4c1110"
      },
      "outputs": [],
      "source": ""
    },
    {
      "cell_type": "code",
      "execution_count": null,
      "metadata": {
        "_cell_guid": "d294c0f1-622c-81fd-6fe4-0fbbe0f3a028"
      },
      "outputs": [],
      "source": ""
    },
    {
      "cell_type": "code",
      "execution_count": null,
      "metadata": {
        "_cell_guid": "c40f86b1-b1e5-ce55-0c47-57970d96bcfe"
      },
      "outputs": [],
      "source": ""
    },
    {
      "cell_type": "code",
      "execution_count": null,
      "metadata": {
        "_cell_guid": "f5814b63-f603-d4f0-6481-6968c8e43e30"
      },
      "outputs": [],
      "source": ""
    },
    {
      "cell_type": "code",
      "execution_count": null,
      "metadata": {
        "_cell_guid": "208ce011-38f7-990a-d1db-1afbd937e60f"
      },
      "outputs": [],
      "source": ""
    },
    {
      "cell_type": "code",
      "execution_count": null,
      "metadata": {
        "_cell_guid": "50bab98e-981a-6b61-907b-2b657b043d9e"
      },
      "outputs": [],
      "source": ""
    },
    {
      "cell_type": "code",
      "execution_count": null,
      "metadata": {
        "_cell_guid": "5de6f07d-a3ab-b572-26b3-e071e765e162"
      },
      "outputs": [],
      "source": ""
    },
    {
      "cell_type": "code",
      "execution_count": null,
      "metadata": {
        "_cell_guid": "c176d881-b11c-2532-1abd-a5f2a6d8341e"
      },
      "outputs": [],
      "source": ""
    },
    {
      "cell_type": "code",
      "execution_count": null,
      "metadata": {
        "_cell_guid": "b287a143-421a-a986-a091-727379d9f013"
      },
      "outputs": [],
      "source": ""
    },
    {
      "cell_type": "code",
      "execution_count": null,
      "metadata": {
        "_cell_guid": "baa17f3d-d883-70f8-ad09-207e6228fe9b"
      },
      "outputs": [],
      "source": ""
    },
    {
      "cell_type": "code",
      "execution_count": null,
      "metadata": {
        "_cell_guid": "b788cdc7-3f2b-06f9-41ec-da1116ee63f7"
      },
      "outputs": [],
      "source": ""
    },
    {
      "cell_type": "code",
      "execution_count": null,
      "metadata": {
        "_cell_guid": "1f3085a1-44ad-0e3c-d67f-09ea2ea610fc"
      },
      "outputs": [],
      "source": ""
    }
  ],
  "metadata": {
    "_change_revision": 0,
    "_is_fork": false,
    "kernelspec": {
      "display_name": "Python 3",
      "language": "python",
      "name": "python3"
    },
    "language_info": {
      "codemirror_mode": {
        "name": "ipython",
        "version": 3
      },
      "file_extension": ".py",
      "mimetype": "text/x-python",
      "name": "python",
      "nbconvert_exporter": "python",
      "pygments_lexer": "ipython3",
      "version": "3.6.0"
    }
  },
  "nbformat": 4,
  "nbformat_minor": 0
}