{
  "cells": [
    {
      "cell_type": "markdown",
      "metadata": {
        "_cell_guid": "188da95a-903a-491d-ddcb-1053c3e123ae"
      },
      "source": [
        "#Exploring the Intel & MobileODT Cervical Cancer Screening\n",
        "\n",
        "This is my first stab at an original Kaggle script meaning not forked from others. I have chosen to work with the Intel & MobileODT Cervical Cancer Screening after spending some time on the site participating on practice problems like titanic and the digit recognizer. I will also focus on doing some illustrative data visualizations as well as feature engineering."
      ]
    },
    {
      "cell_type": "code",
      "execution_count": null,
      "metadata": {
        "_cell_guid": "5366fe3d-f8db-7410-97d1-eeea23cbb1ce"
      },
      "outputs": [],
      "source": [
        "import matplotlib.pylab as plt\n",
        "import numpy as np # linear algebra\n",
        "import pandas as pd # data processing, CSV file I/O (e.g. pd.read_csv)\n",
        "from glob import glob\n",
        "import os\n",
        "CAT_COLUMN = 'type_cat'"
      ]
    },
    {
      "cell_type": "code",
      "execution_count": null,
      "metadata": {
        "_cell_guid": "e6dc6642-57c9-0209-6ee0-ee546b81f3ac"
      },
      "outputs": [],
      "source": [
        "# Read in the file paths\n",
        "train_df = pd.DataFrame([{'path': c_path, \n",
        "                           'image_name': os.path.basename(c_path),\n",
        "                          CAT_COLUMN: os.path.basename(os.path.dirname(c_path))}\n",
        "              for c_path in glob('../input/train/*/*')])\n",
        "print('Total Training Data',train_df.shape[0])\n",
        "print('Sample Summary\\n', pd.value_counts(train_df['type_cat']))\n",
        "train_df.sample(3)"
      ]
    },
    {
      "cell_type": "code",
      "execution_count": null,
      "metadata": {
        "_cell_guid": "55c1aca9-8d93-6a6d-cad4-5271412f487b"
      },
      "outputs": [],
      "source": [
        "test_df = pd.DataFrame([dict(path = c_path, \n",
        "                           image_name = os.path.basename(c_path)) \n",
        "              for c_path in glob('../input/test/*')])\n",
        "print('Total Testing',test_df.shape[0])\n",
        "test_df.sample(3)"
      ]
    },
    {
      "cell_type": "code",
      "execution_count": null,
      "metadata": {
        "_cell_guid": "13897282-e6bd-046d-3094-1455a1df9cce"
      },
      "outputs": [],
      "source": [
        "train_df['type_cat']"
      ]
    }
  ],
  "metadata": {
    "_change_revision": 0,
    "_is_fork": false,
    "kernelspec": {
      "display_name": "Python 3",
      "language": "python",
      "name": "python3"
    },
    "language_info": {
      "codemirror_mode": {
        "name": "ipython",
        "version": 3
      },
      "file_extension": ".py",
      "mimetype": "text/x-python",
      "name": "python",
      "nbconvert_exporter": "python",
      "pygments_lexer": "ipython3",
      "version": "3.6.0"
    }
  },
  "nbformat": 4,
  "nbformat_minor": 0
}