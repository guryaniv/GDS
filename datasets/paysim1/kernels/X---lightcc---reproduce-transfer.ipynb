{
  "cells": [
    {
      "cell_type": "markdown",
      "metadata": {
        "_cell_guid": "e0bdfb52-bc45-c8f3-0f56-9620adf840a8"
      },
      "source": [
        "\u8bd5\u56fe\u590d\u73b0TRANSFER\u7c7b\u578b\u7684\u6570\u636e"
      ]
    },
    {
      "cell_type": "code",
      "execution_count": null,
      "metadata": {
        "_cell_guid": "881137c8-00e0-d7b3-88c9-4332ee56c205"
      },
      "outputs": [],
      "source": [
        "import pandas as pd\n",
        "import numpy as np\n",
        "import seaborn as sns\n",
        "import matplotlib.pyplot as plt\n",
        "%matplotlib inline\n",
        "import plotly.offline as py\n",
        "py.init_notebook_mode(connected=True)\n",
        "import plotly.graph_objs as go\n",
        "import plotly.tools as tls\n",
        "import warnings\n",
        "warnings.filterwarnings('ignore')\n",
        "\n",
        "# subsample\n",
        "df = pd.read_csv(\"../input/PS_20174392719_1491204439457_log.csv\")#, nrows=int(1e6))\n",
        "df = df.iloc[:, : 10] #\u5220\u6389\u6700\u540e\u4e00\u5217\u201cisFlaggedFraud\u201d\n",
        "df = df.query('type==\"TRANSFER\"')#\u4ec5\u4fdd\u7559TRANSFER\u7c7b\u578b\u7684\u8bb0\u5f55\n",
        "df.head()"
      ]
    },
    {
      "cell_type": "code",
      "execution_count": null,
      "metadata": {
        "_cell_guid": "d702704b-a4ec-b078-6acb-d1a5fe817812"
      },
      "outputs": [],
      "source": [
        "a = df.groupby('step')['nameOrig'].nunique() #pandas.core.series.Series\n",
        "b = df.groupby('step')['nameDest'].nunique()\n",
        "df1=pd.concat([a,b], axis=1)\n",
        "df1.head() #\u5df2\u5bfc\u51fadf1\u5e76\u4e14\u753b\u597d\u56fe"
      ]
    },
    {
      "cell_type": "code",
      "execution_count": null,
      "metadata": {
        "_cell_guid": "97217d02-3f6a-ad40-357a-9ee8993a4bbf"
      },
      "outputs": [],
      "source": [
        "df1.to_csv('stepCountPopu.csv')"
      ]
    }
  ],
  "metadata": {
    "_change_revision": 0,
    "_is_fork": false,
    "kernelspec": {
      "display_name": "Python 3",
      "language": "python",
      "name": "python3"
    },
    "language_info": {
      "codemirror_mode": {
        "name": "ipython",
        "version": 3
      },
      "file_extension": ".py",
      "mimetype": "text/x-python",
      "name": "python",
      "nbconvert_exporter": "python",
      "pygments_lexer": "ipython3",
      "version": "3.6.0"
    }
  },
  "nbformat": 4,
  "nbformat_minor": 0
}