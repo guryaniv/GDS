{
  "cells": [
    {
      "cell_type": "code",
      "execution_count": null,
      "metadata": {
        "_cell_guid": "825b190d-2218-d84a-b831-ddc4f254ca17"
      },
      "outputs": [],
      "source": [
        "# This Python 3 environment comes with many helpful analytics libraries installed\n",
        "# It is defined by the kaggle/python docker image: https://github.com/kaggle/docker-python\n",
        "# For example, here's several helpful packages to load in \n",
        "\n",
        "import numpy as np # linear algebra\n",
        "import pandas as pd # data processing, CSV file I/O (e.g. pd.read_csv)\n",
        "\n",
        "import matplotlib.pyplot as plt\n",
        "% matplotlib inline\n",
        "import seaborn as sns\n",
        "sns.set(style=\"whitegrid\", color_codes=True)\n",
        "sns.set(font_scale=1)"
      ]
    },
    {
      "cell_type": "code",
      "execution_count": null,
      "metadata": {
        "_cell_guid": "1041b9f9-39bd-a34d-a9ad-5057663f89b3"
      },
      "outputs": [],
      "source": [
        "train = pd.read_json(\"../input/train.json\")"
      ]
    },
    {
      "cell_type": "code",
      "execution_count": null,
      "metadata": {
        "_cell_guid": "20ebfd9f-77cc-26c2-1390-d923a145d55f"
      },
      "outputs": [],
      "source": [
        "y = train['interest_level']\n",
        "X = train.drop('interest_level', axis=1)"
      ]
    },
    {
      "cell_type": "code",
      "execution_count": null,
      "metadata": {
        "_cell_guid": "2be8421d-965e-20c0-edfb-60e4e9df77ea"
      },
      "outputs": [],
      "source": [
        "def capital_letters(string):\n",
        "    return sum(1 for c in string if c.isupper())"
      ]
    },
    {
      "cell_type": "code",
      "execution_count": null,
      "metadata": {
        "_cell_guid": "a0bdb832-a35b-d1b8-2769-2263a88fcf21"
      },
      "outputs": [],
      "source": [
        "X['capital_letters'] = X['description'].apply(capital_letters)"
      ]
    },
    {
      "cell_type": "code",
      "execution_count": null,
      "metadata": {
        "_cell_guid": "0438ade4-2d7e-d1e2-bf32-e7e33e988595"
      },
      "outputs": [],
      "source": [
        "X['num_words'] = X['description'].apply(str.split).apply(len)\n",
        "X['Capital_Letter_Rate'] = X['capital_letters'] / ( X['num_words'] + 1 )"
      ]
    },
    {
      "cell_type": "code",
      "execution_count": null,
      "metadata": {
        "_cell_guid": "409b2d7b-0cdb-1ced-5300-77678dab2435"
      },
      "outputs": [],
      "source": [
        "order = ['low', 'medium', 'high']\n",
        "sns.stripplot(y,X[\"Capital_Letter_Rate\"],jitter=True,order=order)\n",
        "plt.ylim(0,10)\n",
        "plt.title(\"Capital Letter Rate Vs Interest_level\");"
      ]
    },
    {
      "cell_type": "code",
      "execution_count": null,
      "metadata": {
        "_cell_guid": "dff2134e-d44a-f122-7e95-dc406803fa32"
      },
      "outputs": [],
      "source": [
        "order = ['low', 'medium', 'high']\n",
        "sns.stripplot(y,X[\"capital_letters\"],jitter=True,order=order)\n",
        "plt.ylim(0,10)\n",
        "plt.title(\"Capital Letter Rate Vs Interest_level\");"
      ]
    }
  ],
  "metadata": {
    "_change_revision": 0,
    "_is_fork": false,
    "kernelspec": {
      "display_name": "Python 3",
      "language": "python",
      "name": "python3"
    },
    "language_info": {
      "codemirror_mode": {
        "name": "ipython",
        "version": 3
      },
      "file_extension": ".py",
      "mimetype": "text/x-python",
      "name": "python",
      "nbconvert_exporter": "python",
      "pygments_lexer": "ipython3",
      "version": "3.6.0"
    }
  },
  "nbformat": 4,
  "nbformat_minor": 0
}