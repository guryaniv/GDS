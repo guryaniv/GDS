{
  "cells": [
    {
      "cell_type": "markdown",
      "metadata": {
        "_cell_guid": "9944046e-2054-48f1-bcab-a23ecb891db8"
      },
      "source": [
        "# Analyzing Text in Consumer Complaint Narratives\n"
      ]
    },
    {
      "cell_type": "markdown",
      "metadata": {
        "_cell_guid": "391d44ab-1bdc-4217-94aa-2925b967769a"
      },
      "source": [
        "# Read in data from pandas\n",
        "import pandas as pd\n",
        "\n",
        "# This is used for fast string concatination\n",
        "from io import StringIO\n",
        "\n",
        "# Use nltk for valid words\n",
        "import nltk\n",
        "# Need to make hash 'dictionaries' from nltk for fast processing\n",
        "import collections as co\n",
        "\n",
        "\n",
        "import warnings # current version of seaborn generates a bunch of warnings that we'll ignore\n",
        "warnings.filterwarnings(\"ignore\")\n",
        "import seaborn as sns\n",
        "import matplotlib.pyplot as plt\n",
        "sns.set(style=\"white\", color_codes=True)\n",
        "\n",
        "# Read the input\n",
        "d = pd.read_csv(\"../input/consumer_complaints.csv\") # the consumer dataset is now a Pandas DataFrame\n",
        "# Only interested in data with consumer complaints\n",
        "d=d[d['consumer_complaint_narrative'].notnull()]\n",
        "d"
      ]
    },
    {
      "cell_type": "code",
      "execution_count": null,
      "metadata": {
        "_cell_guid": "03b8fc87-a3c1-403e-8eed-7675582c9aaf"
      },
      "outputs": [],
      "source": [
        "d"
      ]
    },
    {
      "cell_type": "code",
      "execution_count": null,
      "metadata": {
        "_cell_guid": "8d22ae84-cd93-4098-a2fe-3a285ff23553"
      },
      "outputs": [],
      "source": [
        "# We want a very fast way to concat strings.\n",
        "#  Try += if you don't believe this method is faster.\n",
        "s=StringIO()\n",
        "d['consumer_complaint_narrative'].apply(lambda x: s.write(x))\n",
        "\n",
        "k=s.getvalue()\n",
        "s.close()\n",
        "k=k.lower()\n",
        "k=k.split()"
      ]
    },
    {
      "cell_type": "code",
      "execution_count": null,
      "metadata": {
        "_cell_guid": "cd869960-8456-45ca-b389-9d100b0803e7"
      },
      "outputs": [],
      "source": [
        "# Next only want valid strings\n",
        "words = co.Counter(nltk.corpus.words.words())\n",
        "stopWords =co.Counter( nltk.corpus.stopwords.words() )\n",
        "k=[i for i in k if i in words and i not in stopWords]\n",
        "s=\" \".join(k)\n",
        "c = co.Counter(k)\n"
      ]
    },
    {
      "cell_type": "markdown",
      "metadata": {
        "_cell_guid": "8f547232-283b-4398-9b40-01c724792331"
      },
      "source": [
        "## At this point we have k,s and c\n",
        "**k** Array of words, with stop words removed\n",
        "\n",
        "**s** Concatinated string of all comments\n",
        "\n",
        "**c** Collection of words"
      ]
    },
    {
      "cell_type": "code",
      "execution_count": null,
      "metadata": {
        "_cell_guid": "8a50b5dd-94e1-45a3-9d9f-be03cdb5bc27"
      },
      "outputs": [],
      "source": [
        "# Take a look at the 14 most common words\n",
        "c.most_common(14)"
      ]
    },
    {
      "cell_type": "code",
      "execution_count": null,
      "metadata": {
        "_cell_guid": "08a6d3f5-faf1-484a-9e3f-4c58f4cc5e73"
      },
      "outputs": [],
      "source": [
        "s[0:100]"
      ]
    },
    {
      "cell_type": "code",
      "execution_count": null,
      "metadata": {
        "_cell_guid": "0c9d27ee-5261-4b02-aff7-a47821efb739"
      },
      "outputs": [],
      "source": [
        "print(k[0:10],\"\\n\\nLength of k %s\" % len(k))"
      ]
    },
    {
      "cell_type": "markdown",
      "metadata": {
        "_cell_guid": "c0003f59-257c-4026-b355-5d7bc7d85af2"
      },
      "source": [
        "## Word Cloud\n",
        "At this point we have some data, so it might be a good idea to take a look at it.\n"
      ]
    },
    {
      "cell_type": "code",
      "execution_count": null,
      "metadata": {
        "_cell_guid": "e603a4a0-0eb2-48c8-b40c-6ab081952c1b"
      },
      "outputs": [],
      "source": [
        "from wordcloud import WordCloud\n",
        "\n",
        "# Read the whole text.\n",
        "text = s\n",
        "\n",
        "# Generate a word cloud image\n",
        "wordcloud = WordCloud().generate(text)\n",
        "\n",
        "# Display the generated image:\n",
        "# the matplotlib way:\n",
        "import matplotlib.pyplot as plt\n",
        "\n",
        "\n",
        "# take relative word frequencies into account, lower max_font_size\n",
        "wordcloud = WordCloud(background_color=\"white\",max_words=len(k),max_font_size=40, relative_scaling=.8).generate(text)\n",
        "plt.figure()\n",
        "plt.imshow(wordcloud)\n",
        "plt.axis(\"off\")\n",
        "plt.show()"
      ]
    },
    {
      "cell_type": "markdown",
      "metadata": {
        "_cell_guid": "cdef71c5-bc14-49ba-8dab-78cdf1b10d26"
      },
      "source": [
        "## Taking a look at their stories\n",
        "These stories claim to involve identity theft and or fraud.\n"
      ]
    },
    {
      "cell_type": "code",
      "execution_count": null,
      "metadata": {
        "_cell_guid": "1302694e-b73f-420f-82aa-33fc08dcb2ea"
      },
      "outputs": [],
      "source": [
        "# Let's get some text involving identity theft\n",
        "searchS='victim of identity theft'\n",
        "vi = d[d['consumer_complaint_narrative'].str.find(searchS) >= 0]\n",
        "d['victim']=None\n",
        "d['e']=1\n",
        "d['m']=None  # This will be for 'Closed with monetary relief'\n",
        "d['victim'] = d[d['consumer_complaint_narrative'].str.find(searchS) >= 0]\n",
        "d['m']=d[d['company_response_to_consumer'] == 'Closed with monetary relief']\n",
        "\n",
        "\n",
        "# Take a look at some sample stories  mindex to mindex_inc\n",
        "# Adjust this, to see different stories\n",
        "mindex=20\n",
        "mindex_inc=5+mindex\n",
        "si=StringIO()\n",
        "vi['consumer_complaint_narrative'].iloc[mindex:mindex_inc].apply(lambda x: si.write(x+'\\n___\\n\\n'))\n",
        "\n",
        "t=si.getvalue()\n",
        "si.close()\n",
        "print(t)"
      ]
    },
    {
      "cell_type": "code",
      "execution_count": null,
      "metadata": {
        "_cell_guid": "4905205e-efd3-4fa7-96ef-305710220018"
      },
      "outputs": [],
      "source": [
        "# We might be missing data on just fraud...\n",
        "# Search for all cases of theft or fraud\n",
        "searchS0='victim'\n",
        "searchS1='identity'\n",
        "searchS_OR=['theft','fraud']\n",
        "\n",
        "vi2 = d[(d['consumer_complaint_narrative'].str.find(searchS0) >= 0) &\n",
        "        (d['consumer_complaint_narrative'].str.find(searchS1) >= 0) &\n",
        "       ( (d['consumer_complaint_narrative'].str.find(searchS_OR[0]) >= 0) |\n",
        "        (d['consumer_complaint_narrative'].str.find(searchS_OR[1]) >= 0))\n",
        "        ]"
      ]
    },
    {
      "cell_type": "code",
      "execution_count": null,
      "metadata": {
        "_cell_guid": "286462c1-6a75-4249-bb85-00ed5829d5d9"
      },
      "outputs": [],
      "source": [
        "# vi2.count()\n",
        "\n",
        "g=vi2.groupby(['issue'])\n",
        "gg=g.count().reset_index()\n",
        "gg.sort_values(by='e',inplace=True)\n",
        "gg=g['e','victim','m'].count().reset_index()\n",
        "gg.sort_values(by='e',inplace=True, ascending=False)"
      ]
    },
    {
      "cell_type": "code",
      "execution_count": null,
      "metadata": {
        "_cell_guid": "a7f2c419-605c-4c10-b8d0-315ad924fc6a"
      },
      "outputs": [],
      "source": [
        "# Taking a look at common complaints\n",
        "# Need to format this...but note only 9 cases where it\n",
        "# was \"Closed with monetary relief\"  m==1\n",
        "\n",
        "#gg.head(4)\n",
        "with pd.option_context('display.max_rows', 10, 'display.max_columns', 4):\n",
        "    print(gg)"
      ]
    },
    {
      "cell_type": "code",
      "execution_count": null,
      "metadata": {},
      "outputs": [],
      "source": [
        "d.loc[0]"
      ]
    },
    {
      "cell_type": "code",
      "execution_count": null,
      "metadata": {
        "_cell_guid": "0e829fb1-885d-5e55-d9d8-849d7c5d4b4f"
      },
      "outputs": [],
      "source": ""
    }
  ],
  "metadata": {
    "_change_revision": 0,
    "_is_fork": false,
    "kernelspec": {
      "display_name": "Python 3",
      "language": "python",
      "name": "python3"
    },
    "language_info": {
      "codemirror_mode": {
        "name": "ipython",
        "version": 3
      },
      "file_extension": ".py",
      "mimetype": "text/x-python",
      "name": "python",
      "nbconvert_exporter": "python",
      "pygments_lexer": "ipython3",
      "version": "3.5.2"
    }
  },
  "nbformat": 4,
  "nbformat_minor": 0
}