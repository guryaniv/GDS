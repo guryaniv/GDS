{
  "cells": [
    {
      "cell_type": "code",
      "execution_count": null,
      "metadata": {
        "_cell_guid": "47a98535-1dc3-305e-4f0f-5941b3d89f78"
      },
      "outputs": [],
      "source": [
        "# This Python 3 environment comes with many helpful analytics libraries installed\n",
        "# It is defined by the kaggle/python docker image: https://github.com/kaggle/docker-python\n",
        "# For example, here's several helpful packages to load in \n",
        "\n",
        "import numpy as np # linear algebra\n",
        "import pandas as pd # data processing, CSV file I/O (e.g. pd.read_csv)\n",
        "\n",
        "# Input data files are available in the \"../input/\" directory.\n",
        "# For example, running this (by clicking run or pressing Shift+Enter) will list the files in the input directory\n",
        "\n",
        "from subprocess import check_output\n",
        "#print(check_output([\"ls\", \"../input\"]).decode(\"utf8\"))\n",
        "\n",
        "# Any results you write to the current directory are saved as output."
      ]
    },
    {
      "cell_type": "code",
      "execution_count": null,
      "metadata": {
        "_cell_guid": "d7be574c-1a20-3418-ed10-b04c265ea745"
      },
      "outputs": [],
      "source": [
        "\n",
        "train_path = '../input/train.csv'\n",
        "test_path = '../input/test.csv'\n",
        "\n",
        "header = 0\n",
        "df_train = pd.read_csv(train_path, header = header)\n",
        "df_test  = pd.read_csv(test_path, header = header)\n",
        "df_total = df_train.append(df_test, ignore_index = True)\n",
        "\n",
        "s_y_train = df_train.loc[:,'y']\n"
      ]
    },
    {
      "cell_type": "code",
      "execution_count": null,
      "metadata": {
        "_cell_guid": "4ef124a3-8dba-afd7-0f7f-a16a2c04f644"
      },
      "outputs": [],
      "source": [
        "# Treatment of categorical variables (X1 - X8):\n",
        "cat_cols = df_train.loc[:,'X1':'X8']\n",
        "cat_cols = pd.get_dummies(cat_cols)"
      ]
    },
    {
      "cell_type": "code",
      "execution_count": null,
      "metadata": {
        "_cell_guid": "0c7e288c-6347-f1ec-8849-fa6937cae705"
      },
      "outputs": [],
      "source": [
        "#Treatment of Binary variables (X10-X385)\n",
        "binary_cols = df_train.loc[:,'X10':'X385']\n",
        "\n",
        "corrs = binary_cols.corrwith(df_train.loc[:,'y'], axis=0)\n",
        "corrs = corrs.sort_values()\n"
      ]
    },
    {
      "cell_type": "code",
      "execution_count": null,
      "metadata": {
        "_cell_guid": "b584473c-2d1b-d035-4362-544c30ac416b"
      },
      "outputs": [],
      "source": [
        "# Join data"
      ]
    },
    {
      "cell_type": "code",
      "execution_count": null,
      "metadata": {
        "_cell_guid": "aa11b993-2436-af33-c6aa-9aea19e157cf"
      },
      "outputs": [],
      "source": [
        "y = df_train['y']\n"
      ]
    },
    {
      "cell_type": "code",
      "execution_count": null,
      "metadata": {
        "_cell_guid": "9990a10e-b717-808c-253e-03e2d8df63ed"
      },
      "outputs": [],
      "source": [
        "df_total = df_train.append(df_test, ignore_index = True)"
      ]
    },
    {
      "cell_type": "code",
      "execution_count": null,
      "metadata": {
        "_cell_guid": "0eb502a7-520f-198c-0db2-f28c0125b0f3"
      },
      "outputs": [],
      "source": [
        "cat_cols"
      ]
    }
  ],
  "metadata": {
    "_change_revision": 0,
    "_is_fork": false,
    "kernelspec": {
      "display_name": "Python 3",
      "language": "python",
      "name": "python3"
    },
    "language_info": {
      "codemirror_mode": {
        "name": "ipython",
        "version": 3
      },
      "file_extension": ".py",
      "mimetype": "text/x-python",
      "name": "python",
      "nbconvert_exporter": "python",
      "pygments_lexer": "ipython3",
      "version": "3.6.0"
    }
  },
  "nbformat": 4,
  "nbformat_minor": 0
}