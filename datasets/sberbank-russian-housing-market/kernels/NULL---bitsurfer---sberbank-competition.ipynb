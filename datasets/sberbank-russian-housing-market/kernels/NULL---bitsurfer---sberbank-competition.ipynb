{
  "metadata": {
    "kernelspec": {
      "display_name": "Python 3",
      "language": "python",
      "name": "python3"
    },
    "language_info": {
      "codemirror_mode": {
        "name": "ipython",
        "version": 3
      },
      "file_extension": ".py",
      "mimetype": "text/x-python",
      "name": "python",
      "nbconvert_exporter": "python",
      "pygments_lexer": "ipython3",
      "version": "3.6.0"
    }
  },
  "nbformat": 4,
  "nbformat_minor": 0,
  "cells": [
    {
      "metadata": {
        "_cell_guid": "95d4d546-1d80-244b-5c3a-8aaf29f06bbf",
        "_active": false,
        "collapsed": false
      },
      "source": "**Modules Import**",
      "execution_count": null,
      "cell_type": "markdown",
      "outputs": []
    },
    {
      "metadata": {
        "_cell_guid": "0d750562-c2ea-a958-e459-c5390f0b02c3",
        "_active": true,
        "collapsed": false
      },
      "source": "import numpy as np\nimport pandas as pd\nimport pylab\nimport calendar\nfrom scipy import stats\nimport missingno as msno\nfrom datetime import datetime\nimport matplotlib.pyplot as plt\nimport warnings\nimport seaborn as sn",
      "execution_count": 13,
      "cell_type": "code",
      "outputs": [],
      "execution_state": "idle"
    },
    {
      "metadata": {
        "_cell_guid": "c4b4a6c1-07ee-9b5b-745e-e93506249338",
        "_active": false,
        "collapsed": false
      },
      "source": "**Import Data**",
      "execution_count": null,
      "cell_type": "markdown",
      "outputs": []
    },
    {
      "metadata": {
        "_cell_guid": "3a3589ed-cb5e-8aa6-86cf-7aa39130f74e",
        "_active": false,
        "collapsed": false
      },
      "source": "macro = pd.read_csv(\"../input/macro.csv\")\ntrain = pd.read_csv(\"../input/train.csv\")\ntest = pd.read_csv(\"../input/test.csv\")",
      "execution_count": 2,
      "cell_type": "code",
      "outputs": [],
      "execution_state": "idle"
    },
    {
      "metadata": {
        "_cell_guid": "ddb1c36a-af3b-9256-0a04-40fb8086a01b",
        "_active": false,
        "collapsed": false
      },
      "source": "**Structural Overview**",
      "execution_count": null,
      "cell_type": "markdown",
      "outputs": []
    },
    {
      "metadata": {
        "_cell_guid": "38b4bcf2-a310-8dd7-d726-f895054677f2",
        "_active": false,
        "collapsed": false
      },
      "source": "train.head(4).transpose()",
      "execution_count": 18,
      "cell_type": "code",
      "outputs": [],
      "execution_state": "idle"
    },
    {
      "metadata": {
        "_cell_guid": "8383c2ba-c720-1265-71ec-2325ea12fa1d",
        "_active": false,
        "collapsed": false
      },
      "source": "fig,axes = plt.subplots(ncols=2)\nfig.set_size_inches(20, 10)\nstats.probplot(train[\"price_doc\"], dist='norm', fit=True, plot=axes[0])\nstats.probplot(np.log1p(train[\"price_doc\"]), dist='norm', fit=True, plot=axes[1])",
      "execution_count": 16,
      "cell_type": "code",
      "outputs": [],
      "execution_state": "idle"
    }
  ]
}