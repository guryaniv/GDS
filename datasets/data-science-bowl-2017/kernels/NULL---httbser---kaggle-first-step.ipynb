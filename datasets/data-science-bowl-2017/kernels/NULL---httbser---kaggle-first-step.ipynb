{
  "metadata": {
    "kernelspec": {
      "display_name": "Python 3",
      "language": "python",
      "name": "python3"
    },
    "language_info": {
      "codemirror_mode": {
        "name": "ipython",
        "version": 3
      },
      "file_extension": ".py",
      "mimetype": "text/x-python",
      "name": "python",
      "nbconvert_exporter": "python",
      "pygments_lexer": "ipython3",
      "version": "3.6.0"
    }
  },
  "nbformat": 4,
  "nbformat_minor": 0,
  "cells": [
    {
      "metadata": {
        "_cell_guid": "f38442a0-0e6f-b864-ad7d-69b0a16fe3fb",
        "_active": false,
        "collapsed": false
      },
      "source": "import dicom # read the dicom files\nimport os # do directory operations\nimport pandas as pd # nice for data analysis    quickly grab the label for an ID\n\ndata_dir = 'Seagate Backup Plus Drive:/Kaggle_Data/datasciencebowl2017/stage1/' # '../input/sample_images/'\npatients = os.listdir(data_dir)\nlabels_df = pd.read_csv('Seagate Backup Plus Drive:/Kaggle_Data/datasciencebowl2017/stage1_labels.csv',index_col=0)  # first column '../input/stage1_labels.csv'\n\nlabels_df.head()",
      "execution_count": null,
      "cell_type": "code",
      "outputs": [],
      "execution_state": "idle"
    }
  ]
}