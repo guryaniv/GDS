{
  "cells": [
    {
      "cell_type": "code",
      "execution_count": null,
      "metadata": {
        "_cell_guid": "9fec6222-817f-ec9a-098c-f8d11ad350c7"
      },
      "outputs": [],
      "source": [
        "# This Python 3 environment comes with many helpful analytics libraries installed\n",
        "# It is defined by the kaggle/python docker image: https://github.com/kaggle/docker-python\n",
        "# For example, here's several helpful packages to load in \n",
        "\n",
        "import numpy as np # linear algebra\n",
        "import pandas as pd # data processing, CSV file I/O (e.g. pd.read_csv)\n",
        "import matplotlib.pyplot as plt\n",
        "# Input data files are available in the \"../input/\" directory.\n",
        "# For example, running this (by clicking run or pressing Shift+Enter) will list the files in the input directory\n",
        "import matplotlib\n",
        "from subprocess import check_output\n",
        "from pylab import fill_between\n",
        "#print(check_output([\"ls\", \"../input\"]).decode(\"utf8\"))\n",
        "country = pd.read_csv('../input/Country.csv')\n",
        "country_notes = pd.read_csv('../input/CountryNotes.csv')\n",
        "indicators = pd.read_csv('../input/Indicators.csv')\n",
        "df_elec_rural = indicators[(indicators.CountryName=='India')&(indicators.IndicatorCode=='EG.ELC.ACCS.RU.ZS')]\n",
        "df_elec_urban = indicators[(indicators.CountryName=='India')&(indicators.IndicatorCode=='EG.ELC.ACCS.UR.ZS')]\n",
        "df_elec_pop = indicators[(indicators.CountryName=='India')&(indicators.IndicatorCode=='EG.ELC.ACCS.ZS')]\n",
        "fig = plt.figure()\n",
        "\n",
        "plt.plot(df_elec_rural.Year,df_elec_rural.Value,'o-',label='Rural')\n",
        "plt.plot(df_elec_urban.Year,df_elec_urban.Value,'o-',label='Urban')\n",
        "plt.plot(df_elec_pop.Year,df_elec_pop.Value,'o-',label='General')\n",
        "plt.legend(bbox_to_anchor=(1.05, 1), loc=2, borderaxespad=0.)\n",
        "plt.xlabel('Years',  fontsize=14)\n",
        "plt.ylabel('% of Population',  fontsize=14)\n",
        "plt.title('Access to Electricity', fontsize=14)\n",
        "plt.grid(True)\n",
        "#print(indicators)\n",
        "# Any results you write to the current directory are saved as output."
      ]
    },
    {
      "cell_type": "code",
      "execution_count": null,
      "metadata": {
        "_cell_guid": "4596737f-59fb-5251-5132-e1385ce455ff"
      },
      "outputs": [],
      "source": [
        "df_elec_fosl = indicators[(indicators.CountryName=='India')&(indicators.IndicatorCode=='EG.ELC.FOSL.ZS')]\n",
        "df_elec_hydro = indicators[(indicators.CountryName=='India')&(indicators.IndicatorCode=='EG.ELC.HYRO.ZS')]\n",
        "df_elec_nucl = indicators[(indicators.CountryName=='India')&(indicators.IndicatorCode=='EG.ELC.NUCL.ZS')]\n",
        "df_elec_rnwx = indicators[(indicators.CountryName=='India')&(indicators.IndicatorCode=='EG.ELC.RNWX.ZS')]\n",
        "matplotlib.rcParams['figure.figsize'] = (12.0, 8.0)\n",
        "\n",
        "fig = plt.figure()\n",
        "\n",
        "plt.plot(df_elec_fosl.Year,df_elec_fosl.Value,label='Fossil Fuels')\n",
        "plt.plot(df_elec_hydro.Year,df_elec_hydro.Value,label='Hydroelectric')\n",
        "plt.plot(df_elec_nucl.Year,df_elec_nucl.Value,label='Nuclear')\n",
        "plt.plot(df_elec_rnwx.Year,df_elec_rnwx.Value,label='Renewable')\n",
        "\n",
        "\n",
        "#fill_between(df_elec_fosl.Year,df_elec_fosl.Value,0,alpha=0.5)\n",
        "#fill_between(df_elec_hydro.Year,df_elec_hydro.Value,0,alpha=0.5)\n",
        "#fill_between(df_elec_nucl.Year,df_elec_nucl.Value,0,alpha=0.5)\n",
        "#fill_between(df_elec_rnwx.Year,df_elec_rnwx.Value,0,alpha=0.5)\n",
        "#fill_between(df_elec_rnwx.Year,df_elec_rnwx.Value,0,alpha=0.5)\n",
        "#fill_between(x,y2,0,color='magenta')\n",
        "#fill_between(x,y3,0,color='red')\n",
        "\n",
        "plt.legend(loc=2, borderaxespad=1.)\n",
        "plt.xlabel('Years',  fontsize=14)\n",
        "plt.ylabel('% of Total Energy Produce',  fontsize=14)\n",
        "plt.title('Energy Mix in the India (1971-2012)', fontsize=18)"
      ]
    }
  ],
  "metadata": {
    "_change_revision": 0,
    "_is_fork": false,
    "kernelspec": {
      "display_name": "Python 3",
      "language": "python",
      "name": "python3"
    },
    "language_info": {
      "codemirror_mode": {
        "name": "ipython",
        "version": 3
      },
      "file_extension": ".py",
      "mimetype": "text/x-python",
      "name": "python",
      "nbconvert_exporter": "python",
      "pygments_lexer": "ipython3",
      "version": "3.5.2"
    }
  },
  "nbformat": 4,
  "nbformat_minor": 0
}