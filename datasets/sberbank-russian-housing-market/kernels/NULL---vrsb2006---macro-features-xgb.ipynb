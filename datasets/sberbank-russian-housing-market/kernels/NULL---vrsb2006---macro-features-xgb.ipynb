{
  "cells": [
    {
      "cell_type": "code",
      "execution_count": null,
      "metadata": {
        "_cell_guid": "5a0b05f3-76fb-a64a-f3eb-3f64d79ee7e9"
      },
      "outputs": [],
      "source": [
        "import numpy as np\n",
        "import pandas as pd\n",
        "import matplotlib.pyplot as plt\n",
        "import seaborn as sns\n",
        "%matplotlib inline\n",
        "from sklearn import model_selection, preprocessing\n",
        "import xgboost as xgb\n",
        "import datetime\n",
        "\n",
        "#load files\n",
        "train = pd.read_csv('../input/train.csv', parse_dates=['timestamp'])\n",
        "test = pd.read_csv('../input/test.csv', parse_dates=['timestamp'])\n",
        "macro = pd.read_csv('../input/macro.csv', parse_dates=['timestamp'])\n",
        "id_test = test.id"
      ]
    },
    {
      "cell_type": "code",
      "execution_count": null,
      "metadata": {
        "_cell_guid": "5306f5b8-8e7c-b48b-1e23-2c18ee89eb11"
      },
      "outputs": [],
      "source": [
        "# Add month-year\n",
        "month_year = (train.timestamp.dt.month + train.timestamp.dt.year * 100)\n",
        "month_year_cnt_map = month_year.value_counts().to_dict()\n",
        "train['month_year_cnt'] = month_year.map(month_year_cnt_map)\n",
        "\n",
        "month_year = (test.timestamp.dt.month + test.timestamp.dt.year * 100)\n",
        "month_year_cnt_map = month_year.value_counts().to_dict()\n",
        "test['month_year_cnt'] = month_year.map(month_year_cnt_map)\n",
        "\n",
        "# Add week-year count\n",
        "week_year = (train.timestamp.dt.weekofyear + train.timestamp.dt.year * 100)\n",
        "week_year_cnt_map = week_year.value_counts().to_dict()\n",
        "train['week_year_cnt'] = week_year.map(week_year_cnt_map)\n",
        "\n",
        "week_year = (test.timestamp.dt.weekofyear + test.timestamp.dt.year * 100)\n",
        "week_year_cnt_map = week_year.value_counts().to_dict()\n",
        "test['week_year_cnt'] = week_year.map(week_year_cnt_map)\n",
        "\n",
        "# Add month and day-of-week\n",
        "train['month'] = train.timestamp.dt.month\n",
        "train['dow'] = train.timestamp.dt.dayofweek\n",
        "\n",
        "test['month'] = test.timestamp.dt.month\n",
        "test['dow'] = test.timestamp.dt.dayofweek\n",
        "\n",
        "# Other feature engineering\n",
        "train['rel_floor'] = train['floor'] / train['max_floor'].astype(float)\n",
        "train['rel_kitch_sq'] = train['kitch_sq'] / train['full_sq'].astype(float)\n",
        "\n",
        "test['rel_floor'] = test['floor'] / test['max_floor'].astype(float)\n",
        "test['rel_kitch_sq'] = test['kitch_sq'] / test['full_sq'].astype(float)\n",
        "\n",
        "train.apartment_name=train.sub_area + train['metro_km_avto'].astype(str)\n",
        "test.apartment_name=test.sub_area + train['metro_km_avto'].astype(str)"
      ]
    },
    {
      "cell_type": "code",
      "execution_count": null,
      "metadata": {
        "_cell_guid": "ff8ebc75-3696-3dfd-b232-5bd2ef3f3377"
      },
      "outputs": [],
      "source": [
        "y_train = train[\"price_doc\"]\n",
        "x_train = train.drop([\"id\", \"timestamp\", \"price_doc\"], axis=1)\n",
        "x_test = test.drop([\"id\", \"timestamp\"], axis=1)\n",
        "\n",
        "for c in x_train.columns:\n",
        "    if x_train[c].dtype == 'object':\n",
        "        lbl = preprocessing.LabelEncoder()\n",
        "        lbl.fit(list(x_train[c].values)) \n",
        "        x_train[c] = lbl.transform(list(x_train[c].values))\n",
        "        #x_train.drop(c,axis=1,inplace=True)\n",
        "        \n",
        "for c in x_test.columns:\n",
        "    if x_test[c].dtype == 'object':\n",
        "        lbl = preprocessing.LabelEncoder()\n",
        "        lbl.fit(list(x_test[c].values)) \n",
        "        x_test[c] = lbl.transform(list(x_test[c].values))\n",
        "        #x_test.drop(c,axis=1,inplace=True)     "
      ]
    },
    {
      "cell_type": "code",
      "execution_count": null,
      "metadata": {
        "_cell_guid": "a55aab55-4f2c-421c-486f-c74fac3952e3"
      },
      "outputs": [],
      "source": [
        "xgb_params = {\n",
        "    'eta': 0.05,\n",
        "    'max_depth': 5,\n",
        "    'subsample': 0.7,\n",
        "    'colsample_bytree': 0.7,\n",
        "    'objective': 'reg:linear',\n",
        "    'eval_metric': 'rmse',\n",
        "    'silent': 1\n",
        "}\n",
        "\n",
        "dtrain = xgb.DMatrix(x_train, y_train)\n",
        "dtest = xgb.DMatrix(x_test)"
      ]
    },
    {
      "cell_type": "code",
      "execution_count": null,
      "metadata": {
        "_cell_guid": "d5ddc474-07e6-f8e7-7dd8-b9afcb36797d"
      },
      "outputs": [],
      "source": [
        "cv_output = xgb.cv(xgb_params, dtrain, num_boost_round=1000, early_stopping_rounds=20,\n",
        "    verbose_eval=50, show_stdv=False)\n",
        "cv_output[['train-rmse-mean', 'test-rmse-mean']].plot()"
      ]
    },
    {
      "cell_type": "code",
      "execution_count": null,
      "metadata": {
        "_cell_guid": "6ecb6dcf-08dd-6545-aef8-bd8b57d39d2b"
      },
      "outputs": [],
      "source": [
        "num_boost_rounds = len(cv_output)\n",
        "model = xgb.train(dict(xgb_params, silent=0), dtrain, num_boost_round= num_boost_rounds)"
      ]
    },
    {
      "cell_type": "code",
      "execution_count": null,
      "metadata": {
        "_cell_guid": "deeb4336-5f46-be68-7dd2-0062c440b2e2"
      },
      "outputs": [],
      "source": [
        "fig, ax = plt.subplots(1, 1, figsize=(8, 13))\n",
        "xgb.plot_importance(model, max_num_features=50, height=0.5, ax=ax)"
      ]
    },
    {
      "cell_type": "code",
      "execution_count": null,
      "metadata": {
        "_cell_guid": "5d9462df-cb3c-546a-d044-8dee8a9362fb"
      },
      "outputs": [],
      "source": [
        "y_predict = model.predict(dtest)\n",
        "output = pd.DataFrame({'id': id_test, 'price_doc': y_predict})\n",
        "output.head()"
      ]
    },
    {
      "cell_type": "code",
      "execution_count": null,
      "metadata": {
        "_cell_guid": "958140a0-d2d9-c30b-5440-f60d3bde5fc6"
      },
      "outputs": [],
      "source": [
        "output.to_csv('Sub_feat.csv', index=False)"
      ]
    }
  ],
  "metadata": {
    "_change_revision": 0,
    "_is_fork": false,
    "kernelspec": {
      "display_name": "Python 3",
      "language": "python",
      "name": "python3"
    },
    "language_info": {
      "codemirror_mode": {
        "name": "ipython",
        "version": 3
      },
      "file_extension": ".py",
      "mimetype": "text/x-python",
      "name": "python",
      "nbconvert_exporter": "python",
      "pygments_lexer": "ipython3",
      "version": "3.6.0"
    }
  },
  "nbformat": 4,
  "nbformat_minor": 0
}