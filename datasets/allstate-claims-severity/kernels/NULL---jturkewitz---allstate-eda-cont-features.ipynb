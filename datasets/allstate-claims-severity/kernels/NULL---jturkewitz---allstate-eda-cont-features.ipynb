{
  "cells": [
    {
      "cell_type": "code",
      "execution_count": null,
      "metadata": {
        "_cell_guid": "bd8490db-bf6d-a6bf-0a21-af05c4c80545"
      },
      "outputs": [],
      "source": [
        "# Supress unnecessary warnings so that presentation looks clean\n",
        "import warnings\n",
        "warnings.filterwarnings('ignore')\n",
        "\n",
        "# Read raw data from the file\n",
        "\n",
        "import pandas\n",
        "import numpy as np\n",
        "import random\n",
        "import matplotlib.pylab as plt\n",
        "from matplotlib.ticker import MaxNLocator\n",
        "import pylab as p\n",
        "\n",
        "train = pandas.read_csv(\"../input/train.csv\")\n",
        "plt.rcParams['figure.figsize'] = 10, 6 #[6.0, 4.0]"
      ]
    },
    {
      "cell_type": "code",
      "execution_count": null,
      "metadata": {
        "_cell_guid": "5beb1862-1f6c-b856-8e5d-1aa8caeb0fdd"
      },
      "outputs": [],
      "source": [
        "def plot_feature_loss(input_df,feature_name = 'cont1',num_bins = 50):\n",
        "    train_temp = input_df.copy()\n",
        "    feature_name_binned = feature_name + '_binned'\n",
        "    bins = np.linspace(0,1.0,num_bins)\n",
        "    train_temp[feature_name_binned] = np.digitize(train_temp[feature_name],bins=bins,right=True)\n",
        "    train_temp[feature_name_binned] = train_temp[feature_name_binned] / num_bins\n",
        "    cont_14_dict = train_temp.groupby(feature_name_binned)['loss'].mean().to_dict()\n",
        "    cont_14_err_dict = train_temp.groupby(feature_name_binned)['loss'].sem().to_dict()\n",
        "    lists = sorted(cont_14_dict.items())\n",
        "    x, y = zip(*lists)\n",
        "    lists_err = sorted(cont_14_err_dict.items())\n",
        "    x_err, y_error = zip(*lists_err)\n",
        "\n",
        "    p.figure()\n",
        "    plt.errorbar(x,y,fmt = 'o',yerr = y_error,label = feature_name)\n",
        "    p.xlabel(feature_name,fontsize=20)\n",
        "    p.ylabel('loss (mean)',fontsize=20)\n",
        "    plt.tick_params(axis='both', which='major', labelsize=15)\n",
        "    p.legend(prop={'size':20},numpoints=1,loc=(0.05,0.8))\n",
        "    p.xlim([train_temp[feature_name].min() - 0.02, train_temp[feature_name].max() + 0.02 ])\n",
        "    plt.grid()\n",
        "    ax = plt.gca()\n",
        "\n",
        "    plt.tick_params(axis='both', which='major', labelsize=15)\n",
        "    ax.yaxis.set_major_locator(MaxNLocator(prune='lower'))\n",
        "    ax.xaxis.set_major_locator(MaxNLocator(prune='lower'))\n",
        "    ax.ticklabel_format(axis='y', style='sci', scilimits=(-2,2))\n",
        "    del train_temp\n",
        "\n",
        "for name in train.columns:\n",
        "    if name.startswith('cont'):\n",
        "        plot_feature_loss(train,feature_name = name)"
      ]
    },
    {
      "cell_type": "code",
      "execution_count": null,
      "metadata": {
        "_cell_guid": "0a91bf7e-30cf-ff7d-92d1-72b3280fdcd6"
      },
      "outputs": [],
      "source": [
        ""
      ]
    }
  ],
  "metadata": {
    "_change_revision": 0,
    "_is_fork": false,
    "kernelspec": {
      "display_name": "Python 3",
      "language": "python",
      "name": "python3"
    },
    "language_info": {
      "codemirror_mode": {
        "name": "ipython",
        "version": 3
      },
      "file_extension": ".py",
      "mimetype": "text/x-python",
      "name": "python",
      "nbconvert_exporter": "python",
      "pygments_lexer": "ipython3",
      "version": "3.5.2"
    }
  },
  "nbformat": 4,
  "nbformat_minor": 0
}