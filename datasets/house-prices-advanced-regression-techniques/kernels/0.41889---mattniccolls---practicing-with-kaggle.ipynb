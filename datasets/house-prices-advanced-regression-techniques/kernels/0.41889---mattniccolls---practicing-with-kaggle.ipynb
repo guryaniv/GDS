{
  "cells": [
    {
      "cell_type": "markdown",
      "metadata": {
        "_cell_guid": "4e8200a5-6435-091b-2a17-1390c1950e06"
      },
      "source": [
        "# test"
      ]
    },
    {
      "cell_type": "code",
      "execution_count": null,
      "metadata": {
        "_cell_guid": "992cb2c6-10f7-6f33-2f54-ad1ca68f4f06"
      },
      "outputs": [],
      "source": [
        "# This Python 3 environment comes with many helpful analytics libraries installed\n",
        "# It is defined by the kaggle/python docker image: https://github.com/kaggle/docker-python\n",
        "# For example, here's several helpful packages to load in \n",
        "\n",
        "import numpy as np # linear algebra\n",
        "import pandas as pd # data processing, CSV file I/O (e.g. pd.read_csv)\n",
        "\n",
        "# Input data files are available in the \"../input/\" directory.\n",
        "# For example, running this (by clicking run or pressing Shift+Enter) will list the files in the input directory\n",
        "\n",
        "from subprocess import check_output\n",
        "print(check_output([\"ls\", \"../input\"]).decode(\"utf8\"))\n",
        "\n",
        "# Any results you write to the current directory are saved as output."
      ]
    },
    {
      "cell_type": "code",
      "execution_count": null,
      "metadata": {
        "_cell_guid": "44f07696-d2dc-38aa-9695-e46c2e34631b"
      },
      "outputs": [],
      "source": [
        "train = pd.read_csv(\"../input/train.csv\")\n",
        "train.head(10)\n",
        "#np.median(train.SalePrice)\n",
        "train.SalePrice.median()"
      ]
    },
    {
      "cell_type": "code",
      "execution_count": null,
      "metadata": {
        "_cell_guid": "05cfc397-b86a-9178-b6e2-5797eccde112"
      },
      "outputs": [],
      "source": [
        "test = pd.read_csv(\"../input/test.csv\")\n",
        "test.head(10)"
      ]
    },
    {
      "cell_type": "code",
      "execution_count": null,
      "metadata": {
        "_cell_guid": "84e41b7d-26dc-6b25-4f39-126372aa44e1"
      },
      "outputs": [],
      "source": [
        "s = test.Id\n",
        "submission = pd.DataFrame(s)\n",
        "submission['SalePrice'] = 163000\n",
        "submission"
      ]
    },
    {
      "cell_type": "code",
      "execution_count": null,
      "metadata": {
        "_cell_guid": "c039aa58-6d4f-4a2d-e47b-93bb458aa809"
      },
      "outputs": [],
      "source": [
        "submission.to_csv('submission.csv', index=False)"
      ]
    }
  ],
  "metadata": {
    "_change_revision": 0,
    "_is_fork": false,
    "kernelspec": {
      "display_name": "Python 3",
      "language": "python",
      "name": "python3"
    },
    "language_info": {
      "codemirror_mode": {
        "name": "ipython",
        "version": 3
      },
      "file_extension": ".py",
      "mimetype": "text/x-python",
      "name": "python",
      "nbconvert_exporter": "python",
      "pygments_lexer": "ipython3",
      "version": "3.6.0"
    }
  },
  "nbformat": 4,
  "nbformat_minor": 0
}