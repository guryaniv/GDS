{
  "cells": [
    {
      "cell_type": "markdown",
      "metadata": {
        "_cell_guid": "51b65adf-8470-acb6-7ffc-42206d9eac9b"
      },
      "source": ""
    },
    {
      "cell_type": "code",
      "execution_count": null,
      "metadata": {
        "_cell_guid": "19df54ee-8a4c-8b11-110d-07c137de73a4"
      },
      "outputs": [],
      "source": [
        "# This Python 3 environment comes with many helpful analytics libraries installed\n",
        "# It is defined by the kaggle/python docker image: https://github.com/kaggle/docker-python\n",
        "# For example, here's several helpful packages to load in \n",
        "\n",
        "import numpy as np # linear algebra\n",
        "import pandas as pd # data processing, CSV file I/O (e.g. pd.read_csv)\n",
        "\n",
        "# Input data files are available in the \"../input/\" directory.\n",
        "# For example, running this (by clicking run or pressing Shift+Enter) will list the files in the input directory\n",
        "\n",
        "from subprocess import check_output\n",
        "print(check_output([\"ls\", \"../input\"]).decode(\"utf8\"))\n",
        "\n",
        "# Any results you write to the current directory are saved as output."
      ]
    },
    {
      "cell_type": "code",
      "execution_count": null,
      "metadata": {
        "_cell_guid": "5cc587e2-7b0e-3f39-3729-8be0f3e304ae"
      },
      "outputs": [],
      "source": [
        "import pandas as pd\n",
        "from bs4 import BeautifulSoup\n",
        "from nltk.corpus import stopwords\n",
        "import re\n",
        "import string"
      ]
    },
    {
      "cell_type": "code",
      "execution_count": null,
      "metadata": {
        "_cell_guid": "f0f879e0-a710-1033-8e7b-b91c41991382"
      },
      "outputs": [],
      "source": [
        "Datasets loading"
      ]
    },
    {
      "cell_type": "code",
      "execution_count": null,
      "metadata": {
        "_cell_guid": "f7e67778-4f48-7425-1666-8bde52007c8a"
      },
      "outputs": [],
      "source": [
        "dataframes = {\n",
        "    \"cooking\" : pd.read_csv(\"../input/cooking.csv\"),\n",
        "    \"crypto\"  : pd.read_csv(\"../input/crypto.csv\"),\n",
        "    \"robotics\": pd.read_csv(\"../input/biology.csv\"),\n",
        "    \"travel\"  : pd.read_csv(\"../input/travel.csv\"),\n",
        "    \"diy\"     : pd.read_csv(\"../input/diy.csv\"),\n",
        "}"
      ]
    },
    {
      "cell_type": "code",
      "execution_count": null,
      "metadata": {
        "_cell_guid": "98b3cafd-70a0-3bce-1ead-76eab0047840"
      },
      "outputs": [],
      "source": [
        "print(dataframes[\"robotics\"].iloc[1])"
      ]
    },
    {
      "cell_type": "code",
      "execution_count": null,
      "metadata": {
        "_cell_guid": "af031ed8-e43c-f021-6adf-17deac752add"
      },
      "outputs": [],
      "source": [
        "dataframes[\"robotics\"]"
      ]
    },
    {
      "cell_type": "code",
      "execution_count": null,
      "metadata": {
        "_cell_guid": "b45effa2-2d66-25b7-70dc-091f672a707c"
      },
      "outputs": [],
      "source": [
        "print(dataframes[\"robotics\"].iloc[1])"
      ]
    },
    {
      "cell_type": "code",
      "execution_count": null,
      "metadata": {
        "_cell_guid": "480b5e47-7f1d-bea7-f037-edc9a1725a72"
      },
      "outputs": [],
      "source": [
        "uri_re = r'(?i)\\b((?:https?://|www\\d{0,3}[.]|[a-z0-9.\\-]+[.][a-z]{2,4}/)(?:[^\\s()<>]+|\\(([^\\s()<>]+|(\\([^\\s()<>]+\\)))*\\))+(?:\\(([^\\s()<>]+|(\\([^\\s()<>]+\\)))*\\)|[^\\s`!()\\[\\]{};:\\'\".,<>?\u00ab\u00bb\u201c\u201d\u2018\u2019]))'\n"
      ]
    },
    {
      "cell_type": "code",
      "execution_count": null,
      "metadata": {
        "_cell_guid": "d7507dd2-1f9d-1462-2a78-9104cbda0383"
      },
      "outputs": [],
      "source": [
        "def stripTagsAndUris(x):\n",
        "    if x:\n",
        "        # BeautifulSoup on content\n",
        "        soup = BeautifulSoup(x, \"html.parser\")\n",
        "        # Stripping all <code> tags with their content if any\n",
        "        if soup.code:\n",
        "            soup.code.decompose()\n",
        "        # Get all the text out of the html\n",
        "        text = soup.get_text()\n",
        "        # Returning text stripping out all uris\n",
        "        return re.sub(uri_re, \"\", text)\n",
        "    else:\n",
        "        return \"\""
      ]
    },
    {
      "cell_type": "code",
      "execution_count": null,
      "metadata": {
        "_cell_guid": "ee78b770-4814-39ad-6d19-76c4e7df9203"
      },
      "outputs": [],
      "source": [
        "# This could take a while\n",
        "for df in dataframes.values():\n",
        "    df[\"content\"] = df[\"content\"].map(stripTagsAndUris)"
      ]
    },
    {
      "cell_type": "code",
      "execution_count": null,
      "metadata": {
        "_cell_guid": "8e344027-137f-af5d-8017-5b4fec3056d3"
      },
      "outputs": [],
      "source": [
        "print(dataframes[\"robotics\"].iloc[1])"
      ]
    },
    {
      "cell_type": "code",
      "execution_count": null,
      "metadata": {
        "_cell_guid": "681f0ae4-e66c-64ee-33e4-ee16f2a3e88b"
      },
      "outputs": [],
      "source": [
        "def removePunctuation(x):\n",
        "    # Lowrcasing all words\n",
        "    x = x.lower()\n",
        "    # Removing non ASCII chars\n",
        "    x = re.sub(r\"[^\\x00-\\x7f]\", r\" \", x)\n",
        "    # Removing (replacing with empty spaces acutually) all the punctuations\n",
        "    return re.sub(\"[\" + string.punctuation+\"]\", \" \", x)"
      ]
    },
    {
      "cell_type": "code",
      "execution_count": null,
      "metadata": {
        "_cell_guid": "1d4e8d1f-4c31-aace-8afe-dc425be532cc"
      },
      "outputs": [],
      "source": [
        "for df in dataframes.values():\n",
        "    df[\"title\"]   = df[\"title\"].map(removePunctuation)\n",
        "    df[\"content\"] = df[\"content\"].map(removePunctuation)"
      ]
    },
    {
      "cell_type": "code",
      "execution_count": null,
      "metadata": {
        "_cell_guid": "57d8168d-d9a8-17c5-d514-81786e775c1f"
      },
      "outputs": [],
      "source": [
        "print(dataframes[\"robotics\"].iloc[1])"
      ]
    },
    {
      "cell_type": "code",
      "execution_count": null,
      "metadata": {
        "_cell_guid": "f1044beb-99f9-94de-f29f-60f77bed622c"
      },
      "outputs": [],
      "source": [
        "stops = set(stopwords.words(\"english\"))\n",
        "def removeStopwords(x):\n",
        "    #Removing all the stopwords\n",
        "    filtered_words = [word for word in x.split() if word not in stops]\n",
        "    return \" \".join(filtered_words)"
      ]
    },
    {
      "cell_type": "code",
      "execution_count": null,
      "metadata": {
        "_cell_guid": "f5ce74a0-1620-0456-3257-0d8fbd368581"
      },
      "outputs": [],
      "source": [
        "for df in dataframes.values():\n",
        "    df[\"title\"]   = df[\"title\"].map(removeStopwords)\n",
        "    df[\"content\"] = df[\"content\"].map(removeStopwords)\n",
        "    "
      ]
    },
    {
      "cell_type": "code",
      "execution_count": null,
      "metadata": {
        "_cell_guid": "22d04a37-c6db-d4b9-fe46-560b62087444"
      },
      "outputs": [],
      "source": [
        "print(dataframes[\"robotics\"].iloc[1])"
      ]
    },
    {
      "cell_type": "code",
      "execution_count": null,
      "metadata": {
        "_cell_guid": "6d134467-fcb6-29cd-3578-34e07bab3ab2"
      },
      "outputs": [],
      "source": [
        "Splitting tags string in a list of tags"
      ]
    },
    {
      "cell_type": "code",
      "execution_count": null,
      "metadata": {
        "_cell_guid": "7fa1de2e-548e-018d-2664-5e3a0c89fef0"
      },
      "outputs": [],
      "source": [
        "for df in dataframes.values():\n",
        "    # From a string sequence of tags to a list of tags\n",
        "    df[\"tags\"] = df[\"tags\"].map(lambda x: x.split())\n",
        "    "
      ]
    },
    {
      "cell_type": "code",
      "execution_count": null,
      "metadata": {
        "_cell_guid": "02af1787-17ff-87ba-32ea-c9093acabd8c"
      },
      "outputs": [],
      "source": [
        "print(dataframes[\"robotics\"].iloc[1])"
      ]
    },
    {
      "cell_type": "markdown",
      "metadata": {
        "_cell_guid": "ff834fc8-1b0c-e6a0-78a0-2bc886e5d658"
      },
      "source": [
        "##Saving preprocessed dataframes to csv"
      ]
    },
    {
      "cell_type": "code",
      "execution_count": null,
      "metadata": {
        "_cell_guid": "d442f4af-c5ab-a2c6-199d-97b92e9b0cb4"
      },
      "outputs": [],
      "source": [
        "for name, df in dataframes.items():\n",
        "    # Saving to file\n",
        "    df.to_csv(name + \"_light.csv\", index=False)"
      ]
    },
    {
      "cell_type": "code",
      "execution_count": null,
      "metadata": {
        "_cell_guid": "80f37c79-ac96-5dce-be9f-84d29ca761ab"
      },
      "outputs": [],
      "source": ""
    },
    {
      "cell_type": "code",
      "execution_count": null,
      "metadata": {
        "_cell_guid": "b2d153bd-8724-5e80-2868-81436b899190"
      },
      "outputs": [],
      "source": ""
    },
    {
      "cell_type": "code",
      "execution_count": null,
      "metadata": {
        "_cell_guid": "bba650c2-deed-e753-0e62-e2a5a043127e"
      },
      "outputs": [],
      "source": ""
    },
    {
      "cell_type": "code",
      "execution_count": null,
      "metadata": {
        "_cell_guid": "42dd9850-d1d3-6f79-df57-b1d2126cad4e"
      },
      "outputs": [],
      "source": ""
    },
    {
      "cell_type": "code",
      "execution_count": null,
      "metadata": {
        "_cell_guid": "bd4791ec-0187-9a9b-707c-f4339967a54c"
      },
      "outputs": [],
      "source": ""
    },
    {
      "cell_type": "code",
      "execution_count": null,
      "metadata": {
        "_cell_guid": "316083fb-1458-6c69-b0f9-5569eff1c6e6"
      },
      "outputs": [],
      "source": ""
    }
  ],
  "metadata": {
    "_change_revision": 0,
    "_is_fork": false,
    "kernelspec": {
      "display_name": "Python 3",
      "language": "python",
      "name": "python3"
    },
    "language_info": {
      "codemirror_mode": {
        "name": "ipython",
        "version": 3
      },
      "file_extension": ".py",
      "mimetype": "text/x-python",
      "name": "python",
      "nbconvert_exporter": "python",
      "pygments_lexer": "ipython3",
      "version": "3.6.0"
    }
  },
  "nbformat": 4,
  "nbformat_minor": 0
}