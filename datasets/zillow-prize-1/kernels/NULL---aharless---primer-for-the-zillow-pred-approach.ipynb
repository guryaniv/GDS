{
  "cells": [
    {
      "cell_type": "markdown",
      "metadata": {
        "_cell_guid": "f700c99f-0ced-e03a-ebd9-e23cd8d64d9c"
      },
      "source": [
        "A Primer for the Zillow Award - Competition Prediction Approach\n",
        "====================================================="
      ]
    },
    {
      "cell_type": "code",
      "execution_count": null,
      "metadata": {
        "_cell_guid": "10936c4f-4d65-647f-d2e5-ad1ffc5c8a2c"
      },
      "outputs": [],
      "source": [
        "import pandas as pd; pd.options.mode.chained_assignment = None\n",
        "from sklearn.linear_model import LinearRegression\n",
        "import numpy as np; np.random.seed(17)\n",
        "import random; random.seed(17)\n",
        "import datetime as dt\n",
        "import gc; gc.enable()\n",
        "\n",
        "train = pd.read_csv(\"../input/train_2016.csv\", parse_dates=[\"transactiondate\"])\n",
        "properties = pd.read_csv(\"../input/properties_2016.csv\")\n",
        "submission = pd.read_csv(\"../input/sample_submission.csv\")\n",
        "print(len(train),len(properties),len(submission))\n",
        "\n",
        "def get_features(df):\n",
        "    df[\"transactiondate\"] = pd.to_datetime(df[\"transactiondate\"])\n",
        "    df[\"transactiondate_year\"] = df[\"transactiondate\"].dt.year\n",
        "    df[\"transactiondate_month\"] = df[\"transactiondate\"].dt.month\n",
        "    df['transactiondate'] = df['transactiondate'].dt.quarter\n",
        "    df = df.fillna(-1.0)\n",
        "    return df\n",
        "\n",
        "def MAE(y, ypred):\n",
        "    #logerror=log(Zestimate)\u2212log(SalePrice)\n",
        "    return np.sum([abs(y[i]-ypred[i]) for i in range(len(y))]) / len(y)\n",
        "\n",
        "train = pd.merge(train, properties, how='left', on='parcelid')\n",
        "y = train['logerror'].values\n",
        "test = pd.merge(submission, properties, how='left', left_on='ParcelId', right_on='parcelid')\n",
        "properties = [] #memory\n",
        "\n",
        "exc = [train.columns[c] for c in range(len(train.columns)) if train.dtypes[c] == 'O'] + ['logerror','parcelid']\n",
        "col = [c for c in train.columns if c not in exc]\n",
        "\n",
        "train = get_features(train[col])\n",
        "test['transactiondate'] = '2016-01-01' #should use the most common training date\n",
        "test = get_features(test[col])\n",
        "\n",
        "reg = LinearRegression(n_jobs=-1)\n",
        "reg.fit(train, y); print('fit...')\n",
        "print(MAE(y, reg.predict(train)))\n",
        "train = [];  y = [] #memory\n",
        "\n",
        "test_dates = ['2016-10-01','2016-11-01','2016-12-01','2017-10-01','2017-11-01','2017-12-01']\n",
        "test_columns = ['201610','201611','201612','201710','201711','201712']\n",
        "\n",
        "for i in range(len(test_dates)):\n",
        "    test['transactiondate'] = test_dates[i]\n",
        "    pred = reg.predict(get_features(test))\n",
        "    submission[test_columns[i]] = [float(format(x, '.4f')) for x in pred]\n",
        "    print('predict...', i)\n",
        "submission.to_csv('submission.csv', index=False)"
      ]
    }
  ],
  "metadata": {
    "_change_revision": 0,
    "_is_fork": false,
    "kernelspec": {
      "display_name": "Python 3",
      "language": "python",
      "name": "python3"
    },
    "language_info": {
      "codemirror_mode": {
        "name": "ipython",
        "version": 3
      },
      "file_extension": ".py",
      "mimetype": "text/x-python",
      "name": "python",
      "nbconvert_exporter": "python",
      "pygments_lexer": "ipython3",
      "version": "3.6.0"
    }
  },
  "nbformat": 4,
  "nbformat_minor": 0
}