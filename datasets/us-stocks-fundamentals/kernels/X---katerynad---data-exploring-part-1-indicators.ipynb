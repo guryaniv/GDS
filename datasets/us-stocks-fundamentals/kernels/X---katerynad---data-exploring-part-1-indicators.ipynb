{
  "cells": [
    {
      "cell_type": "markdown",
      "metadata": {
        "_cell_guid": "eb7c7ee4-84ff-16cf-16e6-0093c3049fa9"
      },
      "source": [
        "**Data exploring**\n",
        "***Part 1***\n",
        "\n",
        " - How many companies have the same set of indicators?   \n",
        " - How big the set of the common indicators for as many companies as possible?"
      ]
    },
    {
      "cell_type": "code",
      "execution_count": null,
      "metadata": {
        "_cell_guid": "c44fe16a-1662-8b78-b886-0019f1c06a98"
      },
      "outputs": [],
      "source": [
        "import pandas as pd\n",
        "from pandas import Series,DataFrame\n",
        "import numpy as np\n",
        "\n",
        "# For Visualization\n",
        "import matplotlib.pyplot as plt\n",
        "import matplotlib\n",
        "#%matplotlib inline\n",
        "\n",
        "matplotlib.style.use('ggplot')\n",
        "df=pd.read_csv('../input/indicators_by_company.csv')"
      ]
    },
    {
      "cell_type": "code",
      "execution_count": null,
      "metadata": {
        "_cell_guid": "173e3401-eb9c-0aa9-af5e-dea9a0addbd7"
      },
      "outputs": [],
      "source": [
        "#number of indicators by company\n",
        "df_ind_count = pd.concat([ df[['company_id', 'indicator_id', '2010']].dropna().groupby('company_id')['indicator_id'].count()\n",
        ",df[['company_id', 'indicator_id', '2011']].dropna().groupby('company_id')['indicator_id'].count()\n",
        ",df[['company_id', 'indicator_id', '2012']].dropna().groupby('company_id')['indicator_id'].count()\n",
        ",df[['company_id', 'indicator_id', '2013']].dropna().groupby('company_id')['indicator_id'].count()\n",
        ",df[['company_id', 'indicator_id', '2014']].dropna().groupby('company_id')['indicator_id'].count()\n",
        ",df[['company_id', 'indicator_id', '2015']].dropna().groupby('company_id')['indicator_id'].count()\n",
        ",df[['company_id', 'indicator_id', '2016']].dropna().groupby('company_id')['indicator_id'].count()\n",
        "], axis=1)\n",
        "df_ind_count.columns=['2010','2011','2012','2013','2014','2015','2016']\n",
        "df_ind_count.head()"
      ]
    },
    {
      "cell_type": "code",
      "execution_count": null,
      "metadata": {
        "_cell_guid": "e8522dff-3532-bb51-0932-1c6d8fc06f6a"
      },
      "outputs": [],
      "source": [
        "#distribution of the indicators number per company in the data set per year\n",
        "l_df=[]\n",
        "for c in df_ind_count.columns:\n",
        "    l_df.append(list(df_ind_count[c].dropna().describe()))\n",
        "df_ind_count_desc=DataFrame(l_df,columns=['count','mean','std','min','25%','50%','75%','max'],index= df_ind_count.columns)\n",
        "df_ind_count_desc"
      ]
    },
    {
      "cell_type": "code",
      "execution_count": null,
      "metadata": {
        "_cell_guid": "b4809ae0-e301-a12f-f7ad-0af41052dcb8"
      },
      "outputs": [],
      "source": [
        "\n",
        "df_ind_count.plot.box()"
      ]
    },
    {
      "cell_type": "code",
      "execution_count": null,
      "metadata": {
        "_cell_guid": "b97319f4-6def-e7a2-543d-ae909090395b"
      },
      "outputs": [],
      "source": [
        "df_ind_count['2010'].hist(bins=15)"
      ]
    },
    {
      "cell_type": "code",
      "execution_count": null,
      "metadata": {
        "_cell_guid": "d56bf7ad-1d55-d837-faf6-c9351b00f2a5"
      },
      "outputs": [],
      "source": [
        "df_ind_count['2011'].hist(bins=20)"
      ]
    },
    {
      "cell_type": "code",
      "execution_count": null,
      "metadata": {
        "_cell_guid": "e80837b8-e0aa-1776-ff73-344e37edaf31"
      },
      "outputs": [],
      "source": [
        "df_ind_count['2012'].hist(bins=20)"
      ]
    },
    {
      "cell_type": "code",
      "execution_count": null,
      "metadata": {
        "_cell_guid": "f8e6f538-174e-65c1-5154-e52f520d8a27"
      },
      "outputs": [],
      "source": [
        "df_ind_count['2013'].hist(bins=20)"
      ]
    },
    {
      "cell_type": "code",
      "execution_count": null,
      "metadata": {
        "_cell_guid": "baed39dc-2a01-8710-4afc-eaada30e08f5"
      },
      "outputs": [],
      "source": [
        "df_ind_count['2014'].hist(bins=20)"
      ]
    },
    {
      "cell_type": "code",
      "execution_count": null,
      "metadata": {
        "_cell_guid": "fee9fba8-896c-4c6c-dde7-db1c48976ce1"
      },
      "outputs": [],
      "source": [
        "df_ind_count['2015'].hist(bins=20)"
      ]
    },
    {
      "cell_type": "code",
      "execution_count": null,
      "metadata": {
        "_cell_guid": "e226f599-3fe8-235b-c92c-a18fcd35a513"
      },
      "outputs": [],
      "source": [
        "df_ind_count['2016'].hist(bins=20)"
      ]
    },
    {
      "cell_type": "markdown",
      "metadata": {
        "_cell_guid": "ded336a0-61c3-52bc-7e7c-352ed8f46412"
      },
      "source": [
        "**Few companies have no more then 1 indicator\n",
        "Some have more then 300\n",
        "There is  a significant number of companies in 180-bin - 250-bin indicators.(except 2010,2011 and 2016)\n",
        "The question is what is the set of these indicators?\n",
        "Are they the same (10-20-30 etc) indocators for the companies or different, \n",
        "not intersectable set?**"
      ]
    },
    {
      "cell_type": "code",
      "execution_count": null,
      "metadata": {
        "_cell_guid": "4c6e8f30-6a01-e8a4-5bc1-22608b07680c"
      },
      "outputs": [],
      "source": [
        "#first 20 indicators which have maximum number of companies\n",
        "#each cell contains the num of companies with not empty indicator \n",
        "#(one and only one indicator without taking into account any other indicators )\n",
        "#in this year\n",
        "df_comp_count = pd.concat([\n",
        "df[['company_id', 'indicator_id', '2010']].dropna().groupby('indicator_id')['company_id'].count().sort_values(ascending=False).head(200),\n",
        "df[['company_id', 'indicator_id', '2011']].dropna().groupby('indicator_id')['company_id'].count().sort_values(ascending=False).head(200),\n",
        "df[['company_id', 'indicator_id', '2012']].dropna().groupby('indicator_id')['company_id'].count().sort_values(ascending=False).head(200),\n",
        "df[['company_id', 'indicator_id', '2013']].dropna().groupby('indicator_id')['company_id'].count().sort_values(ascending=False).head(200),\n",
        "df[['company_id', 'indicator_id', '2014']].dropna().groupby('indicator_id')['company_id'].count().sort_values(ascending=False).head(200),\n",
        "df[['company_id', 'indicator_id', '2015']].dropna().groupby('indicator_id')['company_id'].count().sort_values(ascending=False).head(200),\n",
        "df[['company_id', 'indicator_id', '2016']].dropna().groupby('indicator_id')['company_id'].count().sort_values(ascending=False).head(200)\n",
        "], axis=1)\n",
        "\n",
        "df_comp_count.columns=['2010','2011','2012','2013','2014','2015','2016']\n",
        "\n",
        "df_comp_count.head()"
      ]
    },
    {
      "cell_type": "code",
      "execution_count": null,
      "metadata": {
        "_cell_guid": "505ed6e6-6066-3349-d261-6e93e10e28bf"
      },
      "outputs": [],
      "source": [
        "df_comp_count.dropna().describe()"
      ]
    },
    {
      "cell_type": "code",
      "execution_count": null,
      "metadata": {
        "_cell_guid": "5b2a6c03-b36a-4488-e4b0-6bcd5d015c1c"
      },
      "outputs": [],
      "source": [
        "#indicators common for as many companies as possible\n",
        "#The script below calculates the number of companies (intersect)  for each next indicator \n",
        "#e.g. how many companies have not null indicator 1 and 2 and 3 and so on..)\n",
        "#it's done separately in each year\n",
        "#an indicator with the max companies is the first, then the second\n",
        "\n",
        "list_s_int=[] \n",
        "for c in df_comp_count.columns:\n",
        " df_comp_count.sort_values(c, axis=0, ascending=False ,inplace=True)\n",
        " li=df_comp_count.index\n",
        " s_int = pd.Series(np.zeros(len(li)), index=li)\n",
        " s1=df.loc[((df['indicator_id']==li[0]) & (df[c].notnull())),'company_id'].unique()\n",
        " s_int[li[0]]=len(s1)\n",
        " for i in range(1,len(li)):\n",
        "  s2=df.loc[((df['indicator_id']==li[i]) & (df[c].notnull())),'company_id'].unique()\n",
        "  s1=pd.Series(np.intersect1d(s1, s2))\n",
        "  s_int[li[i]]=len(s1)\n",
        " list_s_int.append(s_int)\n",
        " \n",
        "df_comp_int_count = pd.concat(list_s_int, axis=1) \n",
        "df_comp_int_count.columns=['2010','2011','2012','2013','2014','2015','2016']"
      ]
    },
    {
      "cell_type": "code",
      "execution_count": null,
      "metadata": {
        "_cell_guid": "fe91a49e-1b85-a639-48de-2d596bf27447"
      },
      "outputs": [],
      "source": [
        "#it makes sense to review dscening sorted data in each column separately\n",
        "df_comp_int_count.head()"
      ]
    },
    {
      "cell_type": "markdown",
      "metadata": {
        "_cell_guid": "8b5778c9-308e-3b3c-e75f-349bd6af3ed9"
      },
      "source": [
        "**Looks like in 2010 we have much less data then in other years**"
      ]
    },
    {
      "cell_type": "code",
      "execution_count": null,
      "metadata": {
        "_cell_guid": "94a5925d-9e09-85a4-40f1-414c148372cb"
      },
      "outputs": [],
      "source": [
        "#The number of companies decreasies with adding each new indicator into the intersection\n",
        "df_comp_int_count['2010'].sort_values(ascending=False).head(20).plot('bar')"
      ]
    },
    {
      "cell_type": "code",
      "execution_count": null,
      "metadata": {
        "_cell_guid": "6199dfe0-35ac-85a1-e025-5078b32950b4"
      },
      "outputs": [],
      "source": [
        "df_comp_int_count['2011'].sort_values(ascending=False).head(20).plot('bar')"
      ]
    },
    {
      "cell_type": "code",
      "execution_count": null,
      "metadata": {
        "_cell_guid": "01c12ff1-25ea-ab8f-42d8-f2c4f6dcba88"
      },
      "outputs": [],
      "source": [
        "df_comp_int_count['2012'].sort_values(ascending=False).head(20).plot('bar')"
      ]
    },
    {
      "cell_type": "code",
      "execution_count": null,
      "metadata": {
        "_cell_guid": "17be1d54-f0cb-542d-ac5d-b48e8491faa0"
      },
      "outputs": [],
      "source": [
        "df_comp_int_count['2013'].sort_values(ascending=False).head(20).plot('bar')"
      ]
    },
    {
      "cell_type": "code",
      "execution_count": null,
      "metadata": {
        "_cell_guid": "ce0997db-2d62-89a5-9fb4-3ad128afd498"
      },
      "outputs": [],
      "source": [
        "df_comp_int_count['2014'].sort_values(ascending=False).head(20).plot('bar')"
      ]
    },
    {
      "cell_type": "code",
      "execution_count": null,
      "metadata": {
        "_cell_guid": "6c797320-5b36-d71b-111e-05cef354e61c"
      },
      "outputs": [],
      "source": [
        "df_comp_int_count['2015'].sort_values(ascending=False).head(20).plot('bar')"
      ]
    },
    {
      "cell_type": "markdown",
      "metadata": {
        "_cell_guid": "413791da-f9d5-4995-fb9c-37ecfdde6ca4"
      },
      "source": [
        "**2016 year does not contain enough data as well as 2010**"
      ]
    },
    {
      "cell_type": "code",
      "execution_count": null,
      "metadata": {
        "_cell_guid": "e92e6b22-3209-24ee-c744-40aa06b091aa"
      },
      "outputs": [],
      "source": [
        "df_comp_int_count['2016'].sort_values(ascending=False).head(20).plot('bar')"
      ]
    },
    {
      "cell_type": "markdown",
      "metadata": {
        "_cell_guid": "c5709c6e-3cd4-8f7e-67e5-e4da8883aa0d"
      },
      "source": [
        "**After the data reload on 09/06 first 20 indicators are common for ~1000 companies in 2011, 2012, 2013, 2014 and 2015** "
      ]
    },
    {
      "cell_type": "code",
      "execution_count": null,
      "metadata": {
        "_cell_guid": "a97d7e6e-de4f-466d-f341-fa5005a02b1c"
      },
      "outputs": [],
      "source": [
        "df_comp_int_count['2011'].sort_values(ascending=False).head(20)"
      ]
    },
    {
      "cell_type": "code",
      "execution_count": null,
      "metadata": {
        "_cell_guid": "9896c6df-91eb-39d0-4ab9-1cfec4cc1cde"
      },
      "outputs": [],
      "source": [
        "df_comp_int_count['2012'].sort_values(ascending=False).head(20)"
      ]
    },
    {
      "cell_type": "code",
      "execution_count": null,
      "metadata": {
        "_cell_guid": "bb8427fe-5533-82ec-8a9f-f46272ec21ff"
      },
      "outputs": [],
      "source": [
        "df_comp_int_count['2013'].sort_values(ascending=False).head(20)"
      ]
    },
    {
      "cell_type": "code",
      "execution_count": null,
      "metadata": {
        "_cell_guid": "73a0b7de-b1f3-97c6-c7e1-4f1526b44c8c"
      },
      "outputs": [],
      "source": [
        "df_comp_int_count['2014'].sort_values(ascending=False).head(20)"
      ]
    },
    {
      "cell_type": "code",
      "execution_count": null,
      "metadata": {
        "_cell_guid": "e5645407-a4cb-5237-27cf-51d8719e42c1"
      },
      "outputs": [],
      "source": [
        "df_comp_int_count['2015'].sort_values(ascending=False).head(20)"
      ]
    },
    {
      "cell_type": "code",
      "execution_count": null,
      "metadata": {
        "_cell_guid": "b3a54bbc-e8a6-1607-845b-1ab6f6824b36"
      },
      "outputs": [],
      "source": [
        "#indicators common in first 25 for '2012', '2013', '2014', '2015'\n",
        "indicators=df_comp_int_count['2011'].sort_values(ascending=False).index[0:25]\n",
        "for c in (['2012', '2013', '2014', '2015']):\n",
        "    indicators2=df_comp_int_count[c].sort_values(ascending=False).index[0:25]\n",
        "    indicators=pd.Series(np.intersect1d(pd.Series(indicators), pd.Series(indicators2)))\n",
        "indicators"
      ]
    },
    {
      "cell_type": "code",
      "execution_count": null,
      "metadata": {
        "_cell_guid": "b728ec52-44f0-decb-e76d-329e3343f83f"
      },
      "outputs": [],
      "source": [
        "#now let's build the list of companies based on the intersection of 20 indicators with not null values\n",
        "list_indicators_int_comp=[] \n",
        "li=indicators\n",
        "for c in (['2011', '2012', '2013', '2014', '2015']):\n",
        " s1=df.loc[((df['indicator_id']==li[0]) & (df[c].notnull())),'company_id'].unique()\n",
        " for i in range(1,len(li)):\n",
        "  s2=df.loc[((df['indicator_id']==li[i]) & (df[c].notnull())),'company_id'].unique()\n",
        "  s1=pd.Series(np.intersect1d(s1, s2))\n",
        " list_indicators_int_comp.append(s1)"
      ]
    },
    {
      "cell_type": "code",
      "execution_count": null,
      "metadata": {
        "_cell_guid": "f5b82eb5-86a3-210a-e7d4-39e567a34bdb"
      },
      "outputs": [],
      "source": [
        "#df ready to be analyzed in the next part\n",
        "#it can be easily separated for each year\n",
        "#I exclude 2010 and 2016 because of the lack of the data\n",
        "list_df_rtba=[]\n",
        "start_year=2011\n",
        "for i in range(0,len(list_indicators_int_comp)):\n",
        " year=start_year+i\n",
        " if year<2016:\n",
        "     df_rtba_i=df.loc[((df['indicator_id'].isin(indicators)) & (df['company_id'].isin(list_indicators_int_comp[i]))),['company_id','indicator_id',str(year)]]\n",
        "     df_rtba_piv_i=df_rtba_i.pivot(index='company_id', columns='indicator_id', values=str(year))\n",
        "     df_rtba_piv_i['year']=year\n",
        "     list_df_rtba.append(df_rtba_piv_i)\n",
        "\n",
        "df_rtba=pd.concat(list_df_rtba)"
      ]
    },
    {
      "cell_type": "code",
      "execution_count": null,
      "metadata": {
        "_cell_guid": "0b8e665d-7c05-6321-ee2c-d81fb797498b"
      },
      "outputs": [],
      "source": [
        "#starting 2011\n",
        "df_rtba.head(10)"
      ]
    },
    {
      "cell_type": "code",
      "execution_count": null,
      "metadata": {
        "_cell_guid": "6da9203b-1616-377a-c6d9-dbc3d9123352"
      },
      "outputs": [],
      "source": [
        "#and end 2015\n",
        "df_rtba.tail(10)"
      ]
    }
  ],
  "metadata": {
    "_change_revision": 0,
    "_is_fork": false,
    "kernelspec": {
      "display_name": "Python 3",
      "language": "python",
      "name": "python3"
    },
    "language_info": {
      "codemirror_mode": {
        "name": "ipython",
        "version": 3
      },
      "file_extension": ".py",
      "mimetype": "text/x-python",
      "name": "python",
      "nbconvert_exporter": "python",
      "pygments_lexer": "ipython3",
      "version": "3.5.2"
    }
  },
  "nbformat": 4,
  "nbformat_minor": 0
}