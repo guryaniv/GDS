{
  "cells": [
    {
      "cell_type": "markdown",
      "metadata": {
        "_cell_guid": "31f21d2c-8a51-5a52-6c31-e3188a17cc32"
      },
      "source": [
        "10th May, 2017\n",
        "--------------\n",
        "\n",
        "This is an analysis of the *Sberbank* dataset.\n"
      ]
    },
    {
      "cell_type": "code",
      "execution_count": null,
      "metadata": {
        "_cell_guid": "d0718525-ff4f-1aa1-0f6e-7bb5665521ea"
      },
      "outputs": [],
      "source": [
        "import pandas as pd\n",
        "import numpy as np\n",
        "import matplotlib.pyplot as plt\n",
        "from matplotlib import style\n",
        "import seaborn as sns\n",
        "import warnings\n",
        "warnings.filterwarnings('ignore')"
      ]
    },
    {
      "cell_type": "code",
      "execution_count": null,
      "metadata": {
        "_cell_guid": "43dacbfd-8a4c-e808-99ca-af6e40334b6a"
      },
      "outputs": [],
      "source": [
        "df=pd.read_csv(\"../input/train.csv\")\n",
        "df_macro=pd.read_csv(\"../input/macro.csv\")"
      ]
    },
    {
      "cell_type": "markdown",
      "metadata": {
        "_cell_guid": "58833620-afb0-fe43-b2fe-9e77f76a67ac"
      },
      "source": [
        "So lets first load in the dataset and see the various variables we have to play around with. "
      ]
    },
    {
      "cell_type": "code",
      "execution_count": null,
      "metadata": {
        "_cell_guid": "3ccacddd-97f1-eeb0-b56b-4d2584faa730"
      },
      "outputs": [],
      "source": [
        "print (df.columns)\n",
        "print (df.shape)"
      ]
    },
    {
      "cell_type": "markdown",
      "metadata": {
        "_cell_guid": "3ded6ca7-ed69-f351-85e5-770935e3d789"
      },
      "source": [
        "As we can see this is quite a rich dataset with 292 different variables. But not all of these variables can be used as features, so in the next step we'll try and figure out which of these actually affect the price."
      ]
    },
    {
      "cell_type": "code",
      "execution_count": null,
      "metadata": {
        "_cell_guid": "8f251dad-0683-ea6d-d4d6-072e56f589b9"
      },
      "outputs": [],
      "source": [
        "#correlation matrix for all the variables\n",
        "corrmat = df.corr()\n",
        "f, ax = plt.subplots(figsize=(12, 9))\n",
        "sns.heatmap(corrmat, vmax=.8, square=True);"
      ]
    },
    {
      "cell_type": "markdown",
      "metadata": {
        "_cell_guid": "30a5801e-e383-f3a5-2ae6-f59a72fcfc91"
      },
      "source": [
        "That is a Correlation Matrix or a heatmap of all the variables in the given dataset. I know it looks like a mess and we cant really figure out anything from that specific heatmap, so instead we'll spilt into smaller or zoomed heatmaps for various characteristics. These characteristics include the indoor features of the house, recreational activities nearby,  proximity to religious institutions and distances from various institutions of work."
      ]
    },
    {
      "cell_type": "code",
      "execution_count": null,
      "metadata": {
        "_cell_guid": "400445b6-302c-d005-8504-9c9029a88357"
      },
      "outputs": [],
      "source": [
        "#Heatmap of Indoor Characteristics\n",
        "df_indoor=df[['price_doc','full_sq','life_sq','floor','max_floor','state','kitch_sq','num_room']]\n",
        "corrmat = df_indoor.corr()\n",
        "f, ax = plt.subplots(figsize=(12, 9))\n",
        "sns.heatmap(corrmat,cbar=True, annot=True, square=True);\n",
        "df_indoor.fillna(method='bfill',inplace=True)\n",
        "plt.show()"
      ]
    },
    {
      "cell_type": "markdown",
      "metadata": {
        "_cell_guid": "4785d4b9-1485-e40c-1376-44414d51b76e"
      },
      "source": [
        "As we can see from the above correlation matrix, the price has a reasonable correlation with all the indoor characteristic variables other than the kitchen area and maximum number of floors. We can plot all of these variables against the price and against each other to see how they vary."
      ]
    },
    {
      "cell_type": "code",
      "execution_count": null,
      "metadata": {
        "_cell_guid": "3dfcf2b9-e1a1-dad2-8da7-9522de5feb05"
      },
      "outputs": [],
      "source": [
        "sns.set()\n",
        "cols = ['price_doc','full_sq','life_sq','floor','state','num_room']\n",
        "sns.pairplot(df_indoor[cols], size = 5)\n",
        "plt.show();"
      ]
    },
    {
      "cell_type": "code",
      "execution_count": null,
      "metadata": {
        "_cell_guid": "47804df5-b727-36cb-010f-22438d6359c1"
      },
      "outputs": [],
      "source": [
        "# Heatmap of nearby Recreational Characteristics\n",
        "df_rec=df[['price_doc','sport_objects_raion', 'culture_objects_top_25_raion', 'shopping_centers_raion','sport_count_1000','sport_count_1500','sport_count_3000','cafe_count_1000','cafe_count_1500','cafe_count_3000']]\n",
        "corrmat = df_rec.corr()\n",
        "f, ax = plt.subplots(figsize=(12, 9))\n",
        "sns.heatmap(corrmat,cbar=True, annot=True, square=True);\n",
        "plt.show()"
      ]
    },
    {
      "cell_type": "markdown",
      "metadata": {
        "_cell_guid": "651be5c7-a4fb-8d81-d7a0-8739662ce97c"
      },
      "source": [
        "As we can infer from the above heatmap of various recreational activities and price, Sports facilities are strongly correlated to the price. While we cannot use all of these variables because of the fact that all of the 'sport' related variables are strongly correlated to each other, thus later on we will have to select one of them to train our model. "
      ]
    },
    {
      "cell_type": "code",
      "execution_count": null,
      "metadata": {
        "_cell_guid": "41605d61-c1d0-2bd0-4542-df3eccf2e45f"
      },
      "outputs": [],
      "source": ""
    },
    {
      "cell_type": "markdown",
      "metadata": {
        "_cell_guid": "09435a99-a024-f26f-afa2-a81d12f53c74"
      },
      "source": [
        "None of these other recreational activities or proximity to religious institutions show any correlation to the price, thus these can be ignored. Same can be said about the next correlation matrix, which considers distance from various institutions of work."
      ]
    },
    {
      "cell_type": "code",
      "execution_count": null,
      "metadata": {
        "_cell_guid": "6e990d14-5a81-fb78-7ef8-ca69530a228e"
      },
      "outputs": [],
      "source": ""
    },
    {
      "cell_type": "markdown",
      "metadata": {
        "_cell_guid": "0497261f-af77-4b07-efea-c3ecd6ac07ca"
      },
      "source": [
        "Now, let is look at how of the data are we really missing in the dataset. "
      ]
    },
    {
      "cell_type": "code",
      "execution_count": null,
      "metadata": {
        "_cell_guid": "bccd9b1d-c51e-3a8f-4cf0-6297a9049d78"
      },
      "outputs": [],
      "source": ""
    },
    {
      "cell_type": "markdown",
      "metadata": {
        "_cell_guid": "5769343d-8934-5223-b15d-64a9f5968ff4"
      },
      "source": [
        "From the above table, we observe that there is quite a lot of data missing for some variables, some as high as missing 47% of the data."
      ]
    },
    {
      "cell_type": "markdown",
      "metadata": {
        "_cell_guid": "da236482-39a5-46bd-03e2-bc6720f65747"
      },
      "source": [
        "Stay tuned for more data analysis !\n",
        "Let me know of any mistakes, this is my first kernel on kaggle !"
      ]
    },
    {
      "cell_type": "code",
      "execution_count": null,
      "metadata": {
        "_cell_guid": "057b57c5-0ccd-cea0-c936-5a3890648a69"
      },
      "outputs": [],
      "source": ""
    },
    {
      "cell_type": "code",
      "execution_count": null,
      "metadata": {
        "_cell_guid": "2becacf0-358a-cd60-5933-baa35b4622d7"
      },
      "outputs": [],
      "source": ""
    },
    {
      "cell_type": "code",
      "execution_count": null,
      "metadata": {
        "_cell_guid": "399e6796-b7fd-d549-f6a4-d81c92fecea9"
      },
      "outputs": [],
      "source": ""
    },
    {
      "cell_type": "code",
      "execution_count": null,
      "metadata": {
        "_cell_guid": "175a5394-069c-0fb9-e34a-561a36075a93"
      },
      "outputs": [],
      "source": ""
    },
    {
      "cell_type": "code",
      "execution_count": null,
      "metadata": {
        "_cell_guid": "4b51e404-9e29-757d-5ebc-d846a8ff534e",
        "collapsed": true
      },
      "outputs": [],
      "source": ""
    }
  ],
  "metadata": {
    "_change_revision": 0,
    "_is_fork": false,
    "kernelspec": {
      "display_name": "Python 3",
      "language": "python",
      "name": "python3"
    },
    "language_info": {
      "codemirror_mode": {
        "name": "ipython",
        "version": 3
      },
      "file_extension": ".py",
      "mimetype": "text/x-python",
      "name": "python",
      "nbconvert_exporter": "python",
      "pygments_lexer": "ipython3",
      "version": "3.6.0"
    }
  },
  "nbformat": 4,
  "nbformat_minor": 0
}