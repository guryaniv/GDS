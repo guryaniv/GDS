{
  "cells": [
    {
      "cell_type": "code",
      "execution_count": null,
      "metadata": {
        "_cell_guid": "22c41bb5-5972-4076-85a4-08ba0a36dd62"
      },
      "outputs": [],
      "source": [
        "# This Python 3 environment comes with many helpful analytics libraries installed\n",
        "# It is defined by the kaggle/python docker image: https://github.com/kaggle/docker-python\n",
        "# For example, here's several helpful packages to load in \n",
        "\n",
        "import numpy as np # linear algebra\n",
        "import pandas as pd # data processing, CSV file I/O (e.g. pd.read_csv)\n",
        "\n",
        "# Input data files are available in the \"../input/\" directory.\n",
        "# For example, running this (by clicking run or pressing Shift+Enter) will list the files in the input directory\n",
        "\n",
        "from subprocess import check_output\n",
        "print(check_output([\"ls\", \"../input\"]).decode(\"utf8\"))\n",
        "\n",
        "# Any results you write to the current directory are saved as output."
      ]
    },
    {
      "cell_type": "code",
      "execution_count": null,
      "metadata": {
        "_cell_guid": "a61a1906-5488-a070-d6d9-de6eafcb0836"
      },
      "outputs": [],
      "source": [
        "biology = pd.read_csv('../input/biology.csv')\n",
        "cooking = pd.read_csv('../input/cooking.csv')\n",
        "crypto = pd.read_csv('../input/crypto.csv')\n",
        "diy = pd.read_csv('../input/diy.csv')\n",
        "robotics = pd.read_csv('../input/robotics.csv')\n",
        "travel = pd.read_csv('../input/travel.csv')\n",
        "sample_sub = pd.read_csv('../input/sample_submission.csv')\n",
        "test = pd.read_csv('../input/test.csv')"
      ]
    },
    {
      "cell_type": "code",
      "execution_count": null,
      "metadata": {
        "_cell_guid": "a26f7b46-8b9c-92c5-1f94-9d750217e89e"
      },
      "outputs": [],
      "source": [
        "biology.head()"
      ]
    },
    {
      "cell_type": "code",
      "execution_count": null,
      "metadata": {
        "_cell_guid": "1c7eea75-5e3c-76e7-b699-4e04fa38f129"
      },
      "outputs": [],
      "source": [
        "cooking.head()"
      ]
    },
    {
      "cell_type": "code",
      "execution_count": null,
      "metadata": {
        "_cell_guid": "8a5453b8-f4e3-b3a6-7f27-deb44697c4af"
      },
      "outputs": [],
      "source": [
        "crypto.head()"
      ]
    },
    {
      "cell_type": "code",
      "execution_count": null,
      "metadata": {
        "_cell_guid": "95d6daee-0a11-ff4c-b90e-0a08bcfabd69"
      },
      "outputs": [],
      "source": [
        "print(diy.head())\n",
        "print(robotics.head())\n",
        "print(travel.head())\n",
        "print(sample_sub.head())\n",
        "print(test.head())"
      ]
    },
    {
      "cell_type": "code",
      "execution_count": null,
      "metadata": {
        "_cell_guid": "92c2c188-e3cf-d908-f989-f151be901b4a"
      },
      "outputs": [],
      "source": [
        "biology = pd.read_csv('../input/biology.csv')\n",
        "cooking = pd.read_csv('../input/cooking.csv')\n",
        "crypto = pd.read_csv('../input/crypto.csv')\n",
        "diy = pd.read_csv('../input/diy.csv')\n",
        "robotics = pd.read_csv('../input/robotics.csv')\n",
        "sample_sub = pd.read_csv('../input/sample_submission.csv')\n",
        "test = pd.read_csv('../input/test.csv')\n",
        "travel = pd.read_csv('../input/travel.csv')"
      ]
    }
  ],
  "metadata": {
    "_change_revision": 0,
    "_is_fork": false,
    "kernelspec": {
      "display_name": "Python 3",
      "language": "python",
      "name": "python3"
    },
    "language_info": {
      "codemirror_mode": {
        "name": "ipython",
        "version": 3
      },
      "file_extension": ".py",
      "mimetype": "text/x-python",
      "name": "python",
      "nbconvert_exporter": "python",
      "pygments_lexer": "ipython3",
      "version": "3.6.0"
    }
  },
  "nbformat": 4,
  "nbformat_minor": 0
}