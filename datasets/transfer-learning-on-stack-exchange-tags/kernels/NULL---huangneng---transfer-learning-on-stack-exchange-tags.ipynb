{
  "cells": [
    {
      "cell_type": "code",
      "execution_count": null,
      "metadata": {
        "_cell_guid": "90d300a5-4ef5-2e38-b299-f5ff0441e435"
      },
      "outputs": [],
      "source": [
        "# This Python 3 environment comes with many helpful analytics libraries installed\n",
        "# It is defined by the kaggle/python docker image: https://github.com/kaggle/docker-python\n",
        "# For example, here's several helpful packages to load in \n",
        "\n",
        "import numpy as np # linear algebra\n",
        "import pandas as pd # data processing, CSV file I/O (e.g. pd.read_csv)\n",
        "\n",
        "# Input data files are available in the \"../input/\" directory.\n",
        "# For example, running this (by clicking run or pressing Shift+Enter) will list the files in the input directory\n",
        "\n",
        "from subprocess import check_output\n",
        "print(check_output([\"ls\", \"../input\"]).decode(\"utf8\"))\n",
        "\n",
        "# Any results you write to the current directory are saved as output."
      ]
    },
    {
      "cell_type": "code",
      "execution_count": null,
      "metadata": {
        "_cell_guid": "4566df57-9b76-cd2b-a85a-625246a377d0"
      },
      "outputs": [],
      "source": [
        "import pandas as pd\n",
        "import re\n",
        "import string"
      ]
    },
    {
      "cell_type": "markdown",
      "metadata": {
        "_cell_guid": "b14878b4-b1ba-c199-090c-c329b58e313d"
      },
      "source": [
        "## \u8bfb\u53d6\u6570\u636e ##"
      ]
    },
    {
      "cell_type": "code",
      "execution_count": null,
      "metadata": {
        "_cell_guid": "003d197c-9e89-547a-9a28-2b31692685d4"
      },
      "outputs": [],
      "source": [
        "dataframes={\n",
        "    \"cooking\":pd.read_csv('../input/cooking.csv'),\n",
        "    \"crypto\":pd.read_csv('../input/crypto.csv'),\n",
        "    \"robotics\": pd.read_csv(\"../input/robotics.csv\"),\n",
        "    \"biology\": pd.read_csv(\"../input/biology.csv\"),\n",
        "    \"travel\": pd.read_csv(\"../input/travel.csv\"),\n",
        "    \"diy\": pd.read_csv(\"../input/diy.csv\"),\n",
        "}\n",
        "print(dataframes[\"robotics\"].iloc[0])"
      ]
    },
    {
      "cell_type": "markdown",
      "metadata": {
        "_cell_guid": "7d6ab653-3b6a-6e53-40d6-42d5b5c1c0eb"
      },
      "source": [
        "## \u53bb\u9664content\u4e2d\u7684html\u6807\u8bb0 ##"
      ]
    },
    {
      "cell_type": "code",
      "execution_count": null,
      "metadata": {
        "_cell_guid": "2fa1d4e4-e9aa-de32-7d15-5162504e066a"
      },
      "outputs": [],
      "source": [
        "uri_re = r'(?i)\\b((?:https?://|www\\d{0,3}[.]|[a-z0-9.\\-]+[.][a-z]{2,4}/)(?:[^\\s()<>]+|\\(([^\\s()<>]+|(\\([^\\s()<>]+\\)))*\\))+(?:\\(([^\\s()<>]+|(\\([^\\s()<>]+\\)))*\\)|[^\\s`!()\\[\\]{};:\\'\".,<>?\u00ab\u00bb\u201c\u201d\u2018\u2019]))'\n",
        "\n",
        "def stripTagsAndUris(x):\n",
        "    if x:\n",
        "        # BeautifulSoup on content\n",
        "        soup = BeautifulSoup(x, \"html.parser\")\n",
        "        # Stripping all <code> tags with their content if any\n",
        "        if soup.code:\n",
        "            soup.code.decompose()\n",
        "        # Get all the text out of the html\n",
        "        text =  soup.get_text()\n",
        "        # Returning text stripping out all uris\n",
        "        return re.sub(uri_re, \"\", text)\n",
        "    else:\n",
        "        return \"\"\n"
      ]
    },
    {
      "cell_type": "code",
      "execution_count": null,
      "metadata": {
        "_cell_guid": "c9a2803e-7a98-8a1d-2135-2433abaaabe1"
      },
      "outputs": [],
      "source": [
        "for df in dataframes.values():\n",
        "    df[\"content\"] = df[\"content\"].map(stripTagsAndUris)"
      ]
    },
    {
      "cell_type": "code",
      "execution_count": null,
      "metadata": {
        "_cell_guid": "16a4de43-24f6-3e30-06e1-a4c395915585"
      },
      "outputs": [],
      "source": [
        "print(dataframes['cooking'].iloc[5])"
      ]
    },
    {
      "cell_type": "code",
      "execution_count": null,
      "metadata": {
        "_cell_guid": "a5f90b04-f1fc-fc21-1703-482ae02bc7f3"
      },
      "outputs": [],
      "source": [
        "print(dataframes[\"robotics\"].iloc[1])"
      ]
    },
    {
      "cell_type": "markdown",
      "metadata": {
        "_cell_guid": "e0c8dec2-7f7b-302e-19f8-30ce323a7fef"
      },
      "source": [
        "## \u53bb\u9664\u5185\u5bb9\u548c\u6807\u9898\u4e2d\u7684\u6807\u70b9\u7b26\u53f7 ##"
      ]
    },
    {
      "cell_type": "code",
      "execution_count": null,
      "metadata": {
        "_cell_guid": "e3fcc43b-452d-c654-c104-897de1e3c01c"
      },
      "outputs": [],
      "source": [
        "import string\n",
        "def removePunctuation(x):\n",
        "    # Lowercasing all words\n",
        "    x = x.lower()\n",
        "    # Removing non ASCII chars\n",
        "    x = re.sub(r'[^\\x00-\\x7f]',r' ',x)\n",
        "    # Removing (replacing with empty spaces actually) all the punctuations\n",
        "    return re.sub(\"[\"+string.punctuation+\"]\", \" \", x)"
      ]
    },
    {
      "cell_type": "code",
      "execution_count": null,
      "metadata": {
        "_cell_guid": "32b314e2-388d-aa7a-39a7-512940b9479c"
      },
      "outputs": [],
      "source": [
        "for df in dataframes.values():\n",
        "    df[\"title\"] = df[\"title\"].map(removePunctuation)\n",
        "    df[\"content\"] = df[\"content\"].map(removePunctuation)"
      ]
    },
    {
      "cell_type": "code",
      "execution_count": null,
      "metadata": {
        "_cell_guid": "0c534710-b817-bb95-9a99-498bb1dfddbd"
      },
      "outputs": [],
      "source": [
        "print(dataframes[\"robotics\"].iloc[1])"
      ]
    },
    {
      "cell_type": "markdown",
      "metadata": {
        "_cell_guid": "22ba898b-5795-bb82-75e1-9f7aa3252155"
      },
      "source": [
        "## \u4ece\u6807\u9898\u548c\u5185\u5bb9\u4e2d\u53bb\u9664\u975e\u7d22\u5f15\u5b57 ##"
      ]
    },
    {
      "cell_type": "code",
      "execution_count": null,
      "metadata": {
        "_cell_guid": "c08d2045-8478-0748-56c8-c6448fb615d9"
      },
      "outputs": [],
      "source": [
        "from nltk.corpus import stopwords\n",
        "stops = set(stopwords.words(\"english\"))\n",
        "def removeStopwords(x):\n",
        "    # Removing all the stopwords\n",
        "    filtered_words = [word for word in x.split() if word not in stops]\n",
        "    return \" \".join(filtered_words)"
      ]
    },
    {
      "cell_type": "code",
      "execution_count": null,
      "metadata": {
        "_cell_guid": "830727e6-6081-e5f4-88f8-605a827a8a57"
      },
      "outputs": [],
      "source": [
        "for df in dataframes.values():\n",
        "    df[\"title\"] = df[\"title\"].map(removeStopwords)\n",
        "    df[\"content\"] = df[\"content\"].map(removeStopwords)"
      ]
    },
    {
      "cell_type": "code",
      "execution_count": null,
      "metadata": {
        "_cell_guid": "4282a86c-f0ac-91e1-83ea-7815c7b52ccc"
      },
      "outputs": [],
      "source": [
        "print(dataframes[\"robotics\"].iloc[1])"
      ]
    },
    {
      "cell_type": "markdown",
      "metadata": {
        "_cell_guid": "3f89466c-f863-7e3e-95ed-4267f57f3194"
      },
      "source": [
        "## \u628a\u6807\u7b7e\u4e2d\u7684\u5355\u8bcd\u5206\u5272\u5230\u5217\u8868\u4e2d ##"
      ]
    },
    {
      "cell_type": "code",
      "execution_count": null,
      "metadata": {
        "_cell_guid": "c6e68550-f680-248f-2c09-a6bd7b9d8251"
      },
      "outputs": [],
      "source": [
        "for df in dataframes.values():\n",
        "    # From a string sequence of tags to a list of tags\n",
        "    df[\"tags\"] = df[\"tags\"].map(lambda x: x.split())"
      ]
    },
    {
      "cell_type": "code",
      "execution_count": null,
      "metadata": {
        "_cell_guid": "c0c9b1f0-fb32-59ce-fd3b-be024046204c"
      },
      "outputs": [],
      "source": [
        "print(dataframes[\"robotics\"].iloc[1])"
      ]
    },
    {
      "cell_type": "markdown",
      "metadata": {
        "_cell_guid": "5934f330-7521-8dbf-6591-4d23047d2e12"
      },
      "source": [
        "## \u628a\u9884\u5904\u7406\u540e\u7684dataframes\u5b58\u5165csv\u6587\u4ef6 ##"
      ]
    },
    {
      "cell_type": "code",
      "execution_count": null,
      "metadata": {
        "_cell_guid": "fb25fe6e-327e-bb80-06e7-2b23082df258"
      },
      "outputs": [],
      "source": [
        "for name, df in dataframes.items():\n",
        "    # Saving to file\n",
        "    df.to_csv(name + \"_light.csv\", index=False)"
      ]
    }
  ],
  "metadata": {
    "_change_revision": 0,
    "_is_fork": false,
    "kernelspec": {
      "display_name": "Python 3",
      "language": "python",
      "name": "python3"
    },
    "language_info": {
      "codemirror_mode": {
        "name": "ipython",
        "version": 3
      },
      "file_extension": ".py",
      "mimetype": "text/x-python",
      "name": "python",
      "nbconvert_exporter": "python",
      "pygments_lexer": "ipython3",
      "version": "3.6.0"
    }
  },
  "nbformat": 4,
  "nbformat_minor": 0
}