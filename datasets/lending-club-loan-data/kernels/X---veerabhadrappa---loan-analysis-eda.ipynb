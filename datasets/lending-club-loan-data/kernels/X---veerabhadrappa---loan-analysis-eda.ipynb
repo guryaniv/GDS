{
  "cells": [
    {
      "cell_type": "markdown",
      "metadata": {
        "_cell_guid": "00a733d9-7877-1a09-e457-8aea2cae05bd"
      },
      "source": [
        "Understand the different data patterns in the lending data"
      ]
    },
    {
      "cell_type": "code",
      "execution_count": null,
      "metadata": {
        "_cell_guid": "09a7b91a-d7fc-c3fe-db7e-7e8402d85490"
      },
      "outputs": [],
      "source": [
        "# This Python 3 environment comes with many helpful analytics libraries installed\n",
        "# It is defined by the kaggle/python docker image: https://github.com/kaggle/docker-python\n",
        "# For example, here's several helpful packages to load in \n",
        "\n",
        "import numpy as np # linear algebra\n",
        "import pandas as pd # data processing, CSV file I/O (e.g. pd.read_csv)\n",
        "%matplotlib inline\n",
        "\n",
        "from matplotlib import style\n",
        "\n",
        "# Input data files are available in the \"../input/\" directory.\n",
        "# For example, running this (by clicking run or pressing Shift+Enter) will list the files in the input directory\n",
        "\n",
        "from subprocess import check_output\n",
        "print(check_output([\"ls\", \"../input\"]).decode(\"utf8\"))\n",
        "\n",
        "# Any results you write to the current directory are saved as output."
      ]
    },
    {
      "cell_type": "code",
      "execution_count": null,
      "metadata": {
        "_cell_guid": "96bb0391-71cb-4e57-6bd6-780ed65718f9"
      },
      "outputs": [],
      "source": [
        "df_loan = pd.read_csv('../input/loan.csv', low_memory=False)"
      ]
    },
    {
      "cell_type": "code",
      "execution_count": null,
      "metadata": {
        "_cell_guid": "7c8d77fa-b4b2-a31b-5eac-a94825aaba89"
      },
      "outputs": [],
      "source": [
        "df_loan.shape"
      ]
    },
    {
      "cell_type": "code",
      "execution_count": null,
      "metadata": {
        "_cell_guid": "52854e95-6349-e6c8-ff87-6adab58f7979"
      },
      "outputs": [],
      "source": [
        "df_loan.columns"
      ]
    },
    {
      "cell_type": "code",
      "execution_count": null,
      "metadata": {
        "_cell_guid": "eb60c5d0-b24b-c3a7-a7ed-ada7b7380517"
      },
      "outputs": [],
      "source": [
        "df_loan.describe()"
      ]
    },
    {
      "cell_type": "code",
      "execution_count": null,
      "metadata": {
        "_cell_guid": "9f893c70-3866-2117-21bc-173f63655dc1"
      },
      "outputs": [],
      "source": [
        "df_loan.head(5)"
      ]
    },
    {
      "cell_type": "code",
      "execution_count": null,
      "metadata": {
        "_cell_guid": "8946b4c8-af92-42ce-ebeb-70ca1b1a62b0"
      },
      "outputs": [],
      "source": [
        "df_loan.isnull().sum()"
      ]
    }
  ],
  "metadata": {
    "_change_revision": 0,
    "_is_fork": false,
    "kernelspec": {
      "display_name": "Python 3",
      "language": "python",
      "name": "python3"
    },
    "language_info": {
      "codemirror_mode": {
        "name": "ipython",
        "version": 3
      },
      "file_extension": ".py",
      "mimetype": "text/x-python",
      "name": "python",
      "nbconvert_exporter": "python",
      "pygments_lexer": "ipython3",
      "version": "3.6.0"
    }
  },
  "nbformat": 4,
  "nbformat_minor": 0
}