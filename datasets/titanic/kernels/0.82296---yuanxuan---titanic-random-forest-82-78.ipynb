{
  "cells": [
    {
      "cell_type": "markdown",
      "metadata": {
        "_cell_guid": "b08819f5-01fc-640e-c570-d7c370f34014"
      },
      "source": [
        "This document is a thorough overview of my process for building a predictive model for Kaggle's Titanic competition. I will provide all my essential steps in this model as well as the reasoning behind each decision I made. This model achieves a score of 82.78%, which is in the top 3% of all submissions at the time of this writing. This is a great introductory modeling exercise due to the simple nature of the data, yet there is still a lot to be gleaned from following a process that ultimately yields a high score.\n",
        "\n",
        "You can get my original code on my GitHub: https://github.com/zlatankr/Projects/tree/master/Titanic  \n",
        "You get also read my write-up on my blog:  https://zlatankr.github.io/posts/2017/01/30/kaggle-titanic "
      ]
    },
    {
      "cell_type": "markdown",
      "metadata": {
        "_cell_guid": "381ac8a1-9f18-f1bd-67ed-f165373c8d0f"
      },
      "source": [
        "### The Problem"
      ]
    },
    {
      "cell_type": "markdown",
      "metadata": {
        "_cell_guid": "76f20215-7870-47db-e2f0-c253a43aa8db"
      },
      "source": [
        "We are given information about a subset of the Titanic population and asked to build a predictive model that tells us whether or not a given passenger survived the shipwreck. We are given 10 basic explanatory variables, including passenger gender, age, and price of fare, among others. More details about the competition can be found on the Kaggle site, [here](https://www.kaggle.com/c/titanic). This is a classic binary classification problem, and we will be implementing a random forest classifer."
      ]
    },
    {
      "cell_type": "markdown",
      "metadata": {
        "_cell_guid": "0941247d-c2f1-a753-e4ff-583a88f2e7dc"
      },
      "source": [
        "### Exploratory Data Analysis"
      ]
    },
    {
      "cell_type": "markdown",
      "metadata": {
        "_cell_guid": "e99bef63-bd89-42e9-6897-aba6337b2afb"
      },
      "source": [
        "The goal of this section is to gain an understanding of our data in order to inform what we do in the feature engineering section.  \n",
        "\n",
        "We begin our exploratory data analysis by loading our standard modules."
      ]
    },
    {
      "cell_type": "code",
      "execution_count": null,
      "metadata": {
        "_cell_guid": "9ae4a31b-44ce-72b7-375b-1376bcc81142"
      },
      "outputs": [],
      "source": [
        "import os\n",
        "import pandas as pd\n",
        "import numpy as np\n",
        "import seaborn as sns\n",
        "import matplotlib.pyplot as plt\n",
        "%matplotlib inline"
      ]
    },
    {
      "cell_type": "markdown",
      "metadata": {
        "_cell_guid": "6e6e109b-469e-4210-18a9-59d56448fddc"
      },
      "source": [
        "We then load the data, which we have downloaded from the Kaggle website ([here](https://www.kaggle.com/c/titanic/data) is a link to the data if you need it)."
      ]
    },
    {
      "cell_type": "code",
      "execution_count": null,
      "metadata": {
        "_cell_guid": "e117a178-539a-d880-ab8c-5306d6d671f0"
      },
      "outputs": [],
      "source": [
        "train = pd.read_csv(os.path.join('../input', 'train.csv'))\n",
        "test = pd.read_csv(os.path.join('../input', 'test.csv'))"
      ]
    },
    {
      "cell_type": "markdown",
      "metadata": {
        "_cell_guid": "d67e8e9f-d809-7138-9ebc-c8c9fa1fb88c"
      },
      "source": [
        "First, let's take a look at the summary of all the data. Immediately, we note that `Age`, `Cabin`, and `Embarked` have nulls that we'll have to deal with. "
      ]
    },
    {
      "cell_type": "code",
      "execution_count": null,
      "metadata": {
        "_cell_guid": "166004fb-0092-7fb9-f890-1b764a7f6da9"
      },
      "outputs": [],
      "source": [
        "train.info()"
      ]
    },
    {
      "cell_type": "markdown",
      "metadata": {
        "_cell_guid": "928cc3b0-b08d-cd49-0c0a-993f51cc5070"
      },
      "source": [
        "It appears that we can drop the `PassengerId` column, since it is merely an index. Note, however, that some people have reportedly improved their score with the `PassengerId` column. However, my cursory attempt to do so did not yield positive results, and moreover I would like to mimic a real-life scenario, where an index of a dataset generally has no correlation with the target variable."
      ]
    },
    {
      "cell_type": "code",
      "execution_count": null,
      "metadata": {
        "_cell_guid": "2fee872c-6233-57b1-d6a8-d017ef15edbd"
      },
      "outputs": [],
      "source": [
        "train.dtypes"
      ]
    },
    {
      "cell_type": "markdown",
      "metadata": {
        "_cell_guid": "60222a6a-c1e9-f4ea-1755-876ee316bcd8"
      },
      "source": [
        "## Survived\n",
        "\n",
        "So we can see that 62% of the people in the training set died. This is slightly less than the estimated 67% that died in the actual shipwreck (1500/2224)."
      ]
    },
    {
      "cell_type": "code",
      "execution_count": null,
      "metadata": {
        "_cell_guid": "9dbce66e-2848-ebf6-c09a-780434aafff7"
      },
      "outputs": [],
      "source": [
        "df = train\n",
        "df.Survived.value_counts(normalize=True)"
      ]
    },
    {
      "cell_type": "code",
      "execution_count": null,
      "metadata": {
        "_cell_guid": "c88b648e-b372-ffd0-e723-7bfc9ee300d8"
      },
      "outputs": [],
      "source": [
        "#sns.countplot(train['Survived'])\n",
        "sns.countplot(df.Survived)"
      ]
    },
    {
      "cell_type": "markdown",
      "metadata": {
        "_cell_guid": "1b2597e6-a286-b116-04dd-aae4f8d1b5f4"
      },
      "source": [
        "## Pclass\n",
        "\n",
        "Class played a critical role in survival, as the survival rate decreased drastically for the lowest class. This variable is both useful and clean, and I will be treating it as a categorical variable. "
      ]
    },
    {
      "cell_type": "code",
      "execution_count": null,
      "metadata": {
        "_cell_guid": "458388eb-4f35-0af2-239a-c9dd53e0d008"
      },
      "outputs": [],
      "source": [
        "train['Survived'].groupby(train['Pclass']).mean()"
      ]
    },
    {
      "cell_type": "code",
      "execution_count": null,
      "metadata": {
        "_cell_guid": "0b8f4a62-f7af-f8b7-6c34-479c2f2b7380"
      },
      "outputs": [],
      "source": [
        "print('survival summarised for each Pclass')\n",
        "df.Survived.groupby(df.Pclass).agg(['mean', 'count'])"
      ]
    },
    {
      "cell_type": "code",
      "execution_count": null,
      "metadata": {
        "_cell_guid": "ac5b3dc3-902b-b282-1f90-5c1f7f832cb6"
      },
      "outputs": [],
      "source": [
        "sns.countplot(train['Pclass'], hue=train['Survived'])"
      ]
    },
    {
      "cell_type": "markdown",
      "metadata": {
        "_cell_guid": "4fe97912-7dce-4884-2aa6-bf13206059ee"
      },
      "source": [
        "## Name  \n",
        "\n",
        "The `Name` column as provided cannot be used in the model. However, we might be able to extract some meaningful information from it."
      ]
    },
    {
      "cell_type": "code",
      "execution_count": null,
      "metadata": {
        "_cell_guid": "172c8639-bdfe-7cab-6ed8-f369537cf17a"
      },
      "outputs": [],
      "source": [
        "train['Name'].head()"
      ]
    },
    {
      "cell_type": "markdown",
      "metadata": {
        "_cell_guid": "739d554d-6c07-deff-26f6-e0cf07b2d7e4"
      },
      "source": [
        "First, we can obtain useful information about the passenger's title. Looking at the distribution of the titles, it might be useful to group the smaller sized values into an 'other' group, although I ultimately choose not to do this."
      ]
    },
    {
      "cell_type": "code",
      "execution_count": null,
      "metadata": {
        "_cell_guid": "6e6a66e6-ea43-daaf-9ef3-74d2f94e78e4"
      },
      "outputs": [],
      "source": [
        "train['Name_Title'] = train['Name'].apply(lambda x: x.split(',')[1]).apply(lambda x: x.split()[0])\n",
        "train['Name_Title'].value_counts()"
      ]
    },
    {
      "cell_type": "markdown",
      "metadata": {
        "_cell_guid": "ab3b7cf1-661d-92f2-fdbf-7a1538121c27"
      },
      "source": [
        "I have relatively high hopes for this new variable we created, since the survival rate appears to be either significantly above or below the average survival rate, which should help our model."
      ]
    },
    {
      "cell_type": "code",
      "execution_count": null,
      "metadata": {
        "_cell_guid": "28a9443f-d57b-9603-b4b2-9918aa5b9de9"
      },
      "outputs": [],
      "source": [
        "train['Survived'].groupby(train['Name_Title']).mean()"
      ]
    },
    {
      "cell_type": "markdown",
      "metadata": {
        "_cell_guid": "a83b6580-accf-aa46-6047-747351e7af74"
      },
      "source": [
        "Additionally, looking at the relationship between the length of a name and survival rate appears to indicate that there is indeed a clear relationship. What might this mean? Are people with longer names more important, and thus more likely to be prioritized in a shipwreck? "
      ]
    },
    {
      "cell_type": "code",
      "execution_count": null,
      "metadata": {
        "_cell_guid": "52890a72-b787-de0a-89ca-bc2b3801ecc7"
      },
      "outputs": [],
      "source": [
        "train['Name_Len'] = train['Name'].apply(lambda x: len(x))\n",
        "train['Survived'].groupby(pd.qcut(train['Name_Len'],5)).mean()"
      ]
    },
    {
      "cell_type": "code",
      "execution_count": null,
      "metadata": {
        "_cell_guid": "9ec0117b-cac2-e7e1-6e97-79b915a101b0"
      },
      "outputs": [],
      "source": [
        "pd.qcut(train['Name_Len'],5).value_counts()"
      ]
    },
    {
      "cell_type": "markdown",
      "metadata": {
        "_cell_guid": "4a672747-c56e-80a5-7033-c48eada12967"
      },
      "source": [
        "## Sex"
      ]
    },
    {
      "cell_type": "markdown",
      "metadata": {
        "_cell_guid": "df2e2f58-17cd-2030-551f-6ab167d1734c"
      },
      "source": [
        "\"Women and children first,\" goes the famous saying. Thus, we should expect females to have a higher survival rate than males, and indeed that is the case. We expect this variable to be very useful in our model."
      ]
    },
    {
      "cell_type": "code",
      "execution_count": null,
      "metadata": {
        "_cell_guid": "d8ceb9b1-64e3-a7fd-1358-27f5d76a9370"
      },
      "outputs": [],
      "source": [
        "train['Sex'].value_counts(normalize=True)"
      ]
    },
    {
      "cell_type": "code",
      "execution_count": null,
      "metadata": {
        "_cell_guid": "0689eaf1-de8b-9f99-9f5c-e79edb34144f"
      },
      "outputs": [],
      "source": [
        "train['Survived'].groupby(train['Sex']).mean()"
      ]
    },
    {
      "cell_type": "markdown",
      "metadata": {
        "_cell_guid": "cf819841-2844-f4b1-ea6f-28c6f264ff32"
      },
      "source": [
        "## Age\n",
        "\n",
        "There are 177 nulls for `Age`, and they have a 10% lower survival rate than the non-nulls. Before imputing values for the nulls, we will include an `Age_null` flag just to make sure we can account for this characteristic of the data. "
      ]
    },
    {
      "cell_type": "code",
      "execution_count": null,
      "metadata": {
        "_cell_guid": "020cb2b5-c7ba-acd1-4ef9-2892c4fa92cc"
      },
      "outputs": [],
      "source": [
        "train['Survived'].groupby(train['Age'].isnull()).mean()"
      ]
    },
    {
      "cell_type": "markdown",
      "metadata": {
        "_cell_guid": "f7b100d8-f88b-aa5c-f308-23796440aba7"
      },
      "source": [
        "Upon first glance, the relationship between age and survival appears to be a murky one at best. However, this doesn't mean that the variable will be a bad predictor; at deeper levels of a given decision tree, a more discriminant relationship might open up."
      ]
    },
    {
      "cell_type": "code",
      "execution_count": null,
      "metadata": {
        "_cell_guid": "93e8bec2-73ea-e452-0296-cb89143b7f59"
      },
      "outputs": [],
      "source": [
        "train['Survived'].groupby(pd.qcut(train['Age'],5)).mean()"
      ]
    },
    {
      "cell_type": "code",
      "execution_count": null,
      "metadata": {
        "_cell_guid": "0422ff7a-5820-960c-a52a-3e8c21436d5c"
      },
      "outputs": [],
      "source": [
        "pd.qcut(train['Age'],5).value_counts()"
      ]
    },
    {
      "cell_type": "markdown",
      "metadata": {
        "_cell_guid": "c00eb333-4e5b-579f-5245-dae66e015a52"
      },
      "source": [
        "## SibSp  \n",
        "\n",
        "Upon first glance, I'm not too convinced of the importance of this variable. The distribution and survival rate between the different categories does not give me much hope."
      ]
    },
    {
      "cell_type": "code",
      "execution_count": null,
      "metadata": {
        "_cell_guid": "d508ae21-884e-d851-ea53-3a575fe163f2"
      },
      "outputs": [],
      "source": [
        "train['Survived'].groupby(train['SibSp']).mean()"
      ]
    },
    {
      "cell_type": "code",
      "execution_count": null,
      "metadata": {
        "_cell_guid": "ce8f0963-0be8-3a7f-be5e-91f30bfb6594"
      },
      "outputs": [],
      "source": [
        "train['SibSp'].value_counts()"
      ]
    },
    {
      "cell_type": "markdown",
      "metadata": {
        "_cell_guid": "f9f32721-ec87-eb57-0657-af569e03f6ee"
      },
      "source": [
        "## Parch\n",
        "\n",
        "Same conclusions as `Sibsp`: passengers with zero parents or children had a lower likelihood of survival than otherwise, but that survival rate was only slightly less than the overall population survival rate. "
      ]
    },
    {
      "cell_type": "code",
      "execution_count": null,
      "metadata": {
        "_cell_guid": "1aa7aded-23e8-0f22-642f-6f740c511203"
      },
      "outputs": [],
      "source": [
        "train['Survived'].groupby(train['Parch']).mean()"
      ]
    },
    {
      "cell_type": "code",
      "execution_count": null,
      "metadata": {
        "_cell_guid": "6ab6c4a7-4bb3-afb5-38f1-8b990d518201"
      },
      "outputs": [],
      "source": [
        "train['Parch'].value_counts()"
      ]
    },
    {
      "cell_type": "markdown",
      "metadata": {
        "_cell_guid": "42d3026d-960b-b6f8-1d14-9216360213a9"
      },
      "source": [
        "When we have two seemingly weak predictors, one thing we can do is combine them to get a stronger predictor. In the case of `SibSp` and `Parch`, we can combine the two variables to get a 'family size' metric, which might (and in fact does) prove to be a better predictor than the two original variables. "
      ]
    },
    {
      "cell_type": "markdown",
      "metadata": {
        "_cell_guid": "c713d10e-7b0c-069b-dd6c-81a78a8e4494"
      },
      "source": [
        "## Ticket  \n",
        "\n",
        "The `Ticket` column seems to contain unique alphanumeric values, and is thus not very useful on its own. However, we might be able to extract come predictive power from it. "
      ]
    },
    {
      "cell_type": "code",
      "execution_count": null,
      "metadata": {
        "_cell_guid": "cff6f21f-eac4-5a31-69a8-763f2bed82f8"
      },
      "outputs": [],
      "source": [
        "train['Ticket'].head(n=10)"
      ]
    },
    {
      "cell_type": "markdown",
      "metadata": {
        "_cell_guid": "b5bae856-93d4-ad8c-8a28-162ef1439cb3"
      },
      "source": [
        "One piece of potentially useful informatin is the number of characters in the `Ticket` column. This could be a reflection of the 'type' of ticket a given passenger had, which could somehow indicate their chances of survival. One theory (which may in fact be verifiable) is that some characteristic of the ticket could indicate the location of the passenger's room, which might be a crucial factor in their escape route, and consequently their survival."
      ]
    },
    {
      "cell_type": "code",
      "execution_count": null,
      "metadata": {
        "_cell_guid": "7db4391f-ce6e-772b-3198-65e27213e592"
      },
      "outputs": [],
      "source": [
        "train['Ticket_Len'] = train['Ticket'].apply(lambda x: len(x))"
      ]
    },
    {
      "cell_type": "code",
      "execution_count": null,
      "metadata": {
        "_cell_guid": "12a703ce-f20e-5ca1-6944-cc5acac43e8b"
      },
      "outputs": [],
      "source": [
        "train['Ticket_Len'].value_counts()"
      ]
    },
    {
      "cell_type": "markdown",
      "metadata": {
        "_cell_guid": "b45bcff9-5d4f-9ed4-c1c9-269f0babdf81"
      },
      "source": [
        "Another piece of information is the first letter of each ticket, which, again, might be indicative of a certain attribute of the ticketholders or their rooms."
      ]
    },
    {
      "cell_type": "code",
      "execution_count": null,
      "metadata": {
        "_cell_guid": "c74ea040-ca66-1e8c-de46-bb96b9d2d61d"
      },
      "outputs": [],
      "source": [
        "train['Ticket_Lett'] = train['Ticket'].apply(lambda x: str(x)[0])"
      ]
    },
    {
      "cell_type": "code",
      "execution_count": null,
      "metadata": {
        "_cell_guid": "9e370470-2049-19e5-6c86-003e4f8fd48f"
      },
      "outputs": [],
      "source": [
        "train['Ticket_Lett'].value_counts()"
      ]
    },
    {
      "cell_type": "code",
      "execution_count": null,
      "metadata": {
        "_cell_guid": "e5881afe-f799-7dc3-9b35-07392186b3c1"
      },
      "outputs": [],
      "source": [
        "train.groupby(['Ticket_Lett'])['Survived'].mean()"
      ]
    },
    {
      "cell_type": "markdown",
      "metadata": {
        "_cell_guid": "ce75600a-6266-5e8c-ec80-da481b82529f"
      },
      "source": [
        "## Fare\n",
        "\n",
        "There is a clear relationship between `Fare` and `Survived`, and I'm guessing that this relationship is similar to that of `Class` and `Survived`."
      ]
    },
    {
      "cell_type": "code",
      "execution_count": null,
      "metadata": {
        "_cell_guid": "e058171b-981e-6d8d-2d2a-68db6927cdde"
      },
      "outputs": [],
      "source": [
        "pd.qcut(train['Fare'], 3).value_counts()"
      ]
    },
    {
      "cell_type": "code",
      "execution_count": null,
      "metadata": {
        "_cell_guid": "00ea0b0f-717d-7a9a-160d-400f6d91e958"
      },
      "outputs": [],
      "source": [
        "train['Survived'].groupby(pd.qcut(train['Fare'], 3)).mean()"
      ]
    },
    {
      "cell_type": "markdown",
      "metadata": {
        "_cell_guid": "7398ba56-3205-a985-33e9-cf4eab5a437a"
      },
      "source": [
        "Looking at the relationship between `Class` and `Fare`, we do indeed see a clear relationship. "
      ]
    },
    {
      "cell_type": "code",
      "execution_count": null,
      "metadata": {
        "_cell_guid": "5da95a24-a108-fc18-100e-642d64cf4d60"
      },
      "outputs": [],
      "source": [
        "pd.crosstab(pd.qcut(train['Fare'], 5), columns=train['Pclass'])"
      ]
    },
    {
      "cell_type": "markdown",
      "metadata": {
        "_cell_guid": "d74c58ef-5514-2ef0-ec3e-bf596a6303ad"
      },
      "source": [
        "## Cabin\n",
        "\n",
        "This column has the most nulls (almost 700), but we can still extract information from it, like the first letter of each cabin, or the cabin number. The usefulness of this column might be similar to that of the `Ticket` variable."
      ]
    },
    {
      "cell_type": "markdown",
      "metadata": {
        "_cell_guid": "6f4c5e5a-1c2d-d329-e53e-5d51184c7131"
      },
      "source": [
        "#### Cabin Letter"
      ]
    },
    {
      "cell_type": "markdown",
      "metadata": {
        "_cell_guid": "e4f0ae6a-70cd-a00e-9ec6-d2c403712d66"
      },
      "source": [
        "We can see that most of the cabin letters are associated with a high survival rate, so this might very well be a useful variable. Because there aren't that many unique values, we won't do any grouping here, even if some of the values have a small count."
      ]
    },
    {
      "cell_type": "code",
      "execution_count": null,
      "metadata": {
        "_cell_guid": "bfea2088-94b1-5114-7db7-c2d5959d692e"
      },
      "outputs": [],
      "source": [
        "train['Cabin_Letter'] = train['Cabin'].apply(lambda x: str(x)[0])"
      ]
    },
    {
      "cell_type": "code",
      "execution_count": null,
      "metadata": {
        "_cell_guid": "8b17c8f7-c698-6b30-5bf9-c7ee346da0f0"
      },
      "outputs": [],
      "source": [
        "train['Cabin_Letter'].value_counts()"
      ]
    },
    {
      "cell_type": "code",
      "execution_count": null,
      "metadata": {
        "_cell_guid": "5111cc8b-8bc1-e38a-c97b-d2284c317c32"
      },
      "outputs": [],
      "source": [
        "train['Survived'].groupby(train['Cabin_Letter']).mean()"
      ]
    },
    {
      "cell_type": "markdown",
      "metadata": {
        "_cell_guid": "c9ee4b12-2cf9-c65e-1577-a220a63b7c6f"
      },
      "source": [
        "#### Cabin Number\n",
        "\n",
        "Upon first glance, this appears to be useless. Not only do we have ~700 nulls which will be difficult to impute, but the correlation with `Survived` is almost zero. However, the cabin numbers as a whole do seem to have a high surival rate compared to the population average, so we might want to keep this just in case for now."
      ]
    },
    {
      "cell_type": "code",
      "execution_count": null,
      "metadata": {
        "_cell_guid": "af8a788d-bff7-368f-d99a-f437813f597c"
      },
      "outputs": [],
      "source": [
        "train['Cabin_num'] = train['Cabin'].apply(lambda x: str(x).split(' ')[-1][1:])\n",
        "train['Cabin_num'].replace('an', np.NaN, inplace = True)\n",
        "train['Cabin_num'] = train['Cabin_num'].apply(lambda x: int(x) if not pd.isnull(x) and x != '' else np.NaN)"
      ]
    },
    {
      "cell_type": "code",
      "execution_count": null,
      "metadata": {
        "_cell_guid": "9b171c93-e78f-7f5a-553b-2b59f7ee5b33"
      },
      "outputs": [],
      "source": [
        "pd.qcut(train['Cabin_num'],3).value_counts()"
      ]
    },
    {
      "cell_type": "code",
      "execution_count": null,
      "metadata": {
        "_cell_guid": "c8127630-c7b8-83ca-87be-06be190bcc3b"
      },
      "outputs": [],
      "source": [
        "train['Survived'].groupby(pd.qcut(train['Cabin_num'], 3)).mean()"
      ]
    },
    {
      "cell_type": "code",
      "execution_count": null,
      "metadata": {
        "_cell_guid": "3e756b5c-7585-ee05-c6d8-1648b2c1e236"
      },
      "outputs": [],
      "source": [
        "train['Survived'].corr(train['Cabin_num'])"
      ]
    },
    {
      "cell_type": "markdown",
      "metadata": {
        "_cell_guid": "2b789c07-4636-d70d-90f2-611dfe5b88ee"
      },
      "source": [
        "## Embarked\n",
        "\n",
        "Looks like the Cherbourg people had a 20% higher survival rate than the other embarking locations. This is very likely due to the high presence of upper-class passengers from that location."
      ]
    },
    {
      "cell_type": "code",
      "execution_count": null,
      "metadata": {
        "_cell_guid": "b1c95a03-af39-40c6-9957-9eef707a44df"
      },
      "outputs": [],
      "source": [
        "train['Embarked'].value_counts()"
      ]
    },
    {
      "cell_type": "code",
      "execution_count": null,
      "metadata": {
        "_cell_guid": "aa64e145-e914-2e5d-1768-723e779022d3"
      },
      "outputs": [],
      "source": [
        "train['Embarked'].value_counts(normalize=True)"
      ]
    },
    {
      "cell_type": "code",
      "execution_count": null,
      "metadata": {
        "_cell_guid": "96505069-43d7-eaeb-d1ac-3433411fa415"
      },
      "outputs": [],
      "source": [
        "train['Survived'].groupby(train['Embarked']).mean()"
      ]
    },
    {
      "cell_type": "code",
      "execution_count": null,
      "metadata": {
        "_cell_guid": "2e11ef71-9cba-95f2-c6f7-0051a6a6bdcd"
      },
      "outputs": [],
      "source": [
        "sns.countplot(train['Embarked'], hue=train['Pclass'])"
      ]
    },
    {
      "cell_type": "markdown",
      "metadata": {
        "_cell_guid": "792b218a-b4c0-7a4a-2442-f375deee3581"
      },
      "source": [
        "### Feature Engineering"
      ]
    },
    {
      "cell_type": "markdown",
      "metadata": {
        "_cell_guid": "a69433b7-96b7-589b-4481-180206c1e5b2"
      },
      "source": [
        "Having done our cursory exploration of the variables, we now have a pretty good idea of how we want to transform our variables in preparation for our final dataset. We will perform our feature engineering through a series of helper functions that each serve a specific purpose. "
      ]
    },
    {
      "cell_type": "markdown",
      "metadata": {
        "_cell_guid": "906a9892-fe2a-ecd9-304d-ff4e63876867"
      },
      "source": [
        "This first function creates two separate columns: a numeric column indicating the length of a passenger's `Name` field, and a categorical column that extracts the passenger's title."
      ]
    },
    {
      "cell_type": "code",
      "execution_count": null,
      "metadata": {
        "_cell_guid": "ada87e93-db17-8a39-0025-5aea95b8e684"
      },
      "outputs": [],
      "source": [
        "def names(train, test):\n",
        "    for i in [train, test]:\n",
        "        i['Name_Len'] = i['Name'].apply(lambda x: len(x))\n",
        "        i['Name_Title'] = i['Name'].apply(lambda x: x.split(',')[1]).apply(lambda x: x.split()[0])\n",
        "        del i['Name']\n",
        "    return train, test"
      ]
    },
    {
      "cell_type": "markdown",
      "metadata": {
        "_cell_guid": "1a9f9d8b-eded-86e5-dd3f-a88e347b5135"
      },
      "source": [
        "Next, we impute the null values of the `Age` column by filling in the mean value of the passenger's corresponding title and class. This more granular approach to imputation should be more accurate than merely taking the mean age of the population."
      ]
    },
    {
      "cell_type": "code",
      "execution_count": null,
      "metadata": {
        "_cell_guid": "8a265d21-ca70-1699-21fd-c098689026fc"
      },
      "outputs": [],
      "source": [
        "def age_impute(train, test):\n",
        "    for i in [train, test]:\n",
        "        i['Age_Null_Flag'] = i['Age'].apply(lambda x: 1 if pd.isnull(x) else 0)\n",
        "        data = train.groupby(['Name_Title', 'Pclass'])['Age']\n",
        "        i['Age'] = data.transform(lambda x: x.fillna(x.mean()))\n",
        "    return train, test"
      ]
    },
    {
      "cell_type": "markdown",
      "metadata": {
        "_cell_guid": "c8285f4f-4f76-6188-c8df-bef76efb3800"
      },
      "source": [
        "We combine the `SibSp` and `Parch` columns into a new variable that indicates family size, and group the family size variable into three categories."
      ]
    },
    {
      "cell_type": "code",
      "execution_count": null,
      "metadata": {
        "_cell_guid": "3f1b5572-f9e6-0bc5-4666-ba160eb4209e"
      },
      "outputs": [],
      "source": [
        "def fam_size(train, test):\n",
        "    for i in [train, test]:\n",
        "        i['Fam_Size'] = np.where((i['SibSp']+i['Parch']) == 0 , 'Solo',\n",
        "                           np.where((i['SibSp']+i['Parch']) <= 3,'Nuclear', 'Big'))\n",
        "        del i['SibSp']\n",
        "        del i['Parch']\n",
        "    return train, test"
      ]
    },
    {
      "cell_type": "markdown",
      "metadata": {
        "_cell_guid": "14acf849-b512-9eb4-37e3-427fc887b7c2"
      },
      "source": [
        "The `Ticket` column is used to create two new columns: `Ticket_Lett`, which indicates the first letter of each ticket (with the smaller-n values being grouped based on survival rate); and `Ticket_Len`, which indicates the length of the `Ticket` field. "
      ]
    },
    {
      "cell_type": "code",
      "execution_count": null,
      "metadata": {
        "_cell_guid": "cbba884d-50f4-1e60-05bf-ed5dfb334fb6"
      },
      "outputs": [],
      "source": [
        "def ticket_grouped(train, test):\n",
        "    for i in [train, test]:\n",
        "        i['Ticket_Lett'] = i['Ticket'].apply(lambda x: str(x)[0])\n",
        "        i['Ticket_Lett'] = i['Ticket_Lett'].apply(lambda x: str(x))\n",
        "        i['Ticket_Lett'] = np.where((i['Ticket_Lett']).isin(['1', '2', '3', 'S', 'P', 'C', 'A']), i['Ticket_Lett'],\n",
        "                                   np.where((i['Ticket_Lett']).isin(['W', '4', '7', '6', 'L', '5', '8']),\n",
        "                                            'Low_ticket', 'Other_ticket'))\n",
        "        i['Ticket_Len'] = i['Ticket'].apply(lambda x: len(x))\n",
        "        del i['Ticket']\n",
        "    return train, test"
      ]
    },
    {
      "cell_type": "markdown",
      "metadata": {
        "_cell_guid": "a240a933-c6ed-63c4-7e00-1b9f4eba5c89"
      },
      "source": [
        "The following two functions extract the first letter of the `Cabin` column and its number, respectively. "
      ]
    },
    {
      "cell_type": "code",
      "execution_count": null,
      "metadata": {
        "_cell_guid": "28fc2b52-9484-66d2-6032-9a58172ee9ab"
      },
      "outputs": [],
      "source": [
        "def cabin(train, test):\n",
        "    for i in [train, test]:\n",
        "        i['Cabin_Letter'] = i['Cabin'].apply(lambda x: str(x)[0])\n",
        "        del i['Cabin']\n",
        "    return train, test"
      ]
    },
    {
      "cell_type": "code",
      "execution_count": null,
      "metadata": {
        "_cell_guid": "ebf50fb2-9cc7-3ace-a03a-8f7d419583a9"
      },
      "outputs": [],
      "source": [
        "def cabin_num(train, test):\n",
        "    for i in [train, test]:\n",
        "        i['Cabin_num1'] = i['Cabin'].apply(lambda x: str(x).split(' ')[-1][1:])\n",
        "        i['Cabin_num1'].replace('an', np.NaN, inplace = True)\n",
        "        i['Cabin_num1'] = i['Cabin_num1'].apply(lambda x: int(x) if not pd.isnull(x) and x != '' else np.NaN)\n",
        "        i['Cabin_num'] = pd.qcut(train['Cabin_num1'],3)\n",
        "    train = pd.concat((train, pd.get_dummies(train['Cabin_num'], prefix = 'Cabin_num')), axis = 1)\n",
        "    test = pd.concat((test, pd.get_dummies(test['Cabin_num'], prefix = 'Cabin_num')), axis = 1)\n",
        "    del train['Cabin_num']\n",
        "    del test['Cabin_num']\n",
        "    del train['Cabin_num1']\n",
        "    del test['Cabin_num1']\n",
        "    return train, test"
      ]
    },
    {
      "cell_type": "markdown",
      "metadata": {
        "_cell_guid": "194fdc08-b381-5d25-ab97-575bc257e465"
      },
      "source": [
        "We fill the null values in the `Embarked` column with the most commonly occuring value, which is 'S.'"
      ]
    },
    {
      "cell_type": "code",
      "execution_count": null,
      "metadata": {
        "_cell_guid": "025fe0a4-f682-d58b-b5d8-aa1577ffd2ab"
      },
      "outputs": [],
      "source": [
        "def embarked_impute(train, test):\n",
        "    for i in [train, test]:\n",
        "        i['Embarked'] = i['Embarked'].fillna('S')\n",
        "    return train, test"
      ]
    },
    {
      "cell_type": "markdown",
      "metadata": {
        "_cell_guid": "215ae187-47cf-9233-c59c-25c643fef74e"
      },
      "source": [
        "We also fill in the one missing value of `Fare` in our test set with the mean value of `Fare` from the training set (transformations of test set data must always be fit using training data)."
      ]
    },
    {
      "cell_type": "code",
      "execution_count": null,
      "metadata": {
        "_cell_guid": "2df1b2a7-f75c-ffa5-3bdd-636122ccb3f0"
      },
      "outputs": [],
      "source": [
        "test['Fare'].fillna(train['Fare'].mean(), inplace = True)"
      ]
    },
    {
      "cell_type": "markdown",
      "metadata": {
        "_cell_guid": "594708ed-a233-dbbe-4f70-2d1e342ddad2"
      },
      "source": [
        "Next, because we are using scikit-learn, we must convert our categorical columns into dummy variables. The following function does this, and then it drops the original categorical columns. It also makes sure that each category is present in both the training and test datasets."
      ]
    },
    {
      "cell_type": "code",
      "execution_count": null,
      "metadata": {
        "_cell_guid": "a0cc99a9-1536-ee17-1249-48f4471a9e11"
      },
      "outputs": [],
      "source": [
        "def dummies(train, test, columns = ['Pclass', 'Sex', 'Embarked', 'Ticket_Lett', 'Cabin_Letter', 'Name_Title', 'Fam_Size']):\n",
        "    for column in columns:\n",
        "        train[column] = train[column].apply(lambda x: str(x))\n",
        "        test[column] = test[column].apply(lambda x: str(x))\n",
        "        good_cols = [column+'_'+i for i in train[column].unique() if i in test[column].unique()]\n",
        "        train = pd.concat((train, pd.get_dummies(train[column], prefix = column)[good_cols]), axis = 1)\n",
        "        test = pd.concat((test, pd.get_dummies(test[column], prefix = column)[good_cols]), axis = 1)\n",
        "        del train[column]\n",
        "        del test[column]\n",
        "    return train, test"
      ]
    },
    {
      "cell_type": "markdown",
      "metadata": {
        "_cell_guid": "c8b9d7eb-3afc-4082-f7b8-80d043c4f830"
      },
      "source": [
        "Our last helper function drops any columns that haven't already been dropped. In our case, we only need to drop the `PassengerId` column, which we have decided is not useful for our problem (by the way, I've confirmed this with a separate test). Note that dropping the `PassengerId` column here means that we'll have to load it later when creating our submission file."
      ]
    },
    {
      "cell_type": "code",
      "execution_count": null,
      "metadata": {
        "_cell_guid": "9680ae7e-5ae4-7c45-3ae1-0781b5f383eb"
      },
      "outputs": [],
      "source": [
        "def drop(train, test, bye = ['PassengerId']):\n",
        "    for i in [train, test]:\n",
        "        for z in bye:\n",
        "            del i[z]\n",
        "    return train, test"
      ]
    },
    {
      "cell_type": "markdown",
      "metadata": {
        "_cell_guid": "8d1efbbb-e0dd-f3d4-acd3-ef9eb5c396e2"
      },
      "source": [
        "Having built our helper functions, we can now execute them in order to build our dataset that will be used in the model:a"
      ]
    },
    {
      "cell_type": "code",
      "execution_count": null,
      "metadata": {
        "_cell_guid": "d004f91d-1c6b-e281-6e4c-45b44eadbcca"
      },
      "outputs": [],
      "source": [
        "train = pd.read_csv(os.path.join('../input', 'train.csv'))\n",
        "test = pd.read_csv(os.path.join('../input', 'test.csv'))\n",
        "train, test = names(train, test)\n",
        "train, test = age_impute(train, test)\n",
        "train, test = cabin_num(train, test)\n",
        "train, test = cabin(train, test)\n",
        "train, test = embarked_impute(train, test)\n",
        "train, test = fam_size(train, test)\n",
        "test['Fare'].fillna(train['Fare'].mean(), inplace = True)\n",
        "train, test = ticket_grouped(train, test)\n",
        "train, test = dummies(train, test, columns = ['Pclass', 'Sex', 'Embarked', 'Ticket_Lett',\n",
        "                                                                     'Cabin_Letter', 'Name_Title', 'Fam_Size'])\n",
        "train, test = drop(train, test)"
      ]
    },
    {
      "cell_type": "markdown",
      "metadata": {
        "_cell_guid": "35d843bc-3607-f11a-55f9-2828cf5eb91e"
      },
      "source": [
        "We can see that our final dataset has 45 columns, composed of our target column and 44 predictor variables. Although highly dimensional datasets can result in high variance, I think we should be fine here. "
      ]
    },
    {
      "cell_type": "code",
      "execution_count": null,
      "metadata": {
        "_cell_guid": "09391302-b621-4730-7589-7eb017286e7f"
      },
      "outputs": [],
      "source": [
        "print(len(train.columns))"
      ]
    },
    {
      "cell_type": "markdown",
      "metadata": {
        "_cell_guid": "1066e65e-e578-e896-5c38-1457a947ec6f"
      },
      "source": [
        "### Hyperparameter Tuning"
      ]
    },
    {
      "cell_type": "markdown",
      "metadata": {
        "_cell_guid": "32b4e910-cbe5-04c6-4383-c6f02483e595"
      },
      "source": [
        "We will use grid search to identify the optimal parameters of our random forest model. Because our training dataset is quite small, we can get away with testing a wider range of hyperparameter values. When I ran this on my 8 GB Windows machine, the process took less than ten minutes. I will not run it here for the sake of saving myself time, but I will discuss the results of this grid search."
      ]
    },
    {
      "cell_type": "markdown",
      "metadata": {
        "_cell_guid": "7f6c54fa-033e-075f-0e86-c9c0b469a03b"
      },
      "source": [
        "from sklearn.model_selection import GridSearchCV  \n",
        "from sklearn.ensemble import RandomForestClassifier\n",
        "\n",
        "rf = RandomForestClassifier(max_features='auto',\n",
        "                                oob_score=True,\n",
        "                                random_state=1,\n",
        "                                n_jobs=-1)\n",
        "\n",
        "param_grid = { \"criterion\"   : [\"gini\", \"entropy\"],\n",
        "             \"min_samples_leaf\" : [1, 5, 10],\n",
        "             \"min_samples_split\" : [2, 4, 10, 12, 16],\n",
        "             \"n_estimators\": [50, 100, 400, 700, 1000]}\n",
        "\n",
        "gs = GridSearchCV(estimator=rf,\n",
        "                  param_grid=param_grid,\n",
        "                  scoring='accuracy',\n",
        "                  cv=3,\n",
        "                  n_jobs=-1)\n",
        "\n",
        "gs = gs.fit(train.iloc[:, 1:], train.iloc[:, 0])\n",
        "\n",
        "print(gs.best_score_)   \n",
        "print(gs.best_params_)  \n",
        "print(gs.cv_results_)"
      ]
    },
    {
      "cell_type": "markdown",
      "metadata": {
        "_cell_guid": "11038f38-44d4-0cbd-328b-1ad7196819fe"
      },
      "source": [
        "Looking at the results of the grid search:  \n",
        "\n",
        "0.838383838384  \n",
        "{'min_samples_split': 10, 'n_estimators': 700, 'criterion': 'gini', 'min_samples_leaf': 1}  \n",
        "\n",
        "...we can see that our optimal parameter settings are not at the endpoints of our provided values, meaning that we do not have to test more values. What else can we say about our optimal values? The `min_samples_split` parameter is at 10, which should help mitigate overfitting to a certain degree. This is especially good because we have a relatively large number of estimators (700), which could potentially increase our generalization error."
      ]
    },
    {
      "cell_type": "markdown",
      "metadata": {
        "_cell_guid": "c95a0ff7-0f68-7e28-0c9c-36a52808f578"
      },
      "source": [
        "### Model Estimation and Evaluation<a name=\"model\"></a>"
      ]
    },
    {
      "cell_type": "markdown",
      "metadata": {
        "_cell_guid": "e494ad2b-92e3-782f-13c1-f53a86602298"
      },
      "source": [
        "We are now ready to fit our model using the optimal hyperparameters. The out-of-bag score can give us an unbiased estimate of the model accuracy, and we can see that the score is 82.94%, which is only a little higher than our final leaderboard score."
      ]
    },
    {
      "cell_type": "code",
      "execution_count": null,
      "metadata": {
        "_cell_guid": "5593980a-4145-9594-299c-f4d1a9f01970"
      },
      "outputs": [],
      "source": [
        "from sklearn.ensemble import RandomForestClassifier\n",
        "\n",
        "rf = RandomForestClassifier(criterion='gini', \n",
        "                             n_estimators=700,\n",
        "                             min_samples_split=10,\n",
        "                             min_samples_leaf=1,\n",
        "                             max_features='auto',\n",
        "                             oob_score=True,\n",
        "                             random_state=1,\n",
        "                             n_jobs=-1)\n",
        "rf.fit(train.iloc[:, 1:], train.iloc[:, 0])\n",
        "print(\"%.4f\" % rf.oob_score_)"
      ]
    },
    {
      "cell_type": "markdown",
      "metadata": {
        "_cell_guid": "4b44766d-6974-b7f3-b801-eb5d9423ae49"
      },
      "source": [
        "Let's take a brief look at our variable importance according to our random forest model. We can see that some of the original columns we predicted would be important in fact were, including gender, fare, and age. But we also see title, name length, and ticket length feature prominently, so we can pat ourselves on the back for creating such useful variables."
      ]
    },
    {
      "cell_type": "code",
      "execution_count": null,
      "metadata": {
        "_cell_guid": "d77e221b-352d-8669-05d9-f7defce05709"
      },
      "outputs": [],
      "source": [
        "pd.concat((pd.DataFrame(train.iloc[:, 1:].columns, columns = ['variable']), \n",
        "           pd.DataFrame(rf.feature_importances_, columns = ['importance'])), \n",
        "          axis = 1).sort_values(by='importance', ascending = False)[:20]"
      ]
    },
    {
      "cell_type": "markdown",
      "metadata": {
        "_cell_guid": "f4fbf72d-a7b6-1d14-73cb-7f763d291272"
      },
      "source": [
        "Our last step is to predict the target variable for our test data and generate an output file that will be submitted to Kaggle. "
      ]
    },
    {
      "cell_type": "code",
      "execution_count": null,
      "metadata": {
        "_cell_guid": "14dc0e66-9fc4-86bf-8927-46d366d4bbcf"
      },
      "outputs": [],
      "source": [
        "predictions = rf.predict(test)\n",
        "predictions = pd.DataFrame(predictions, columns=['Survived'])\n",
        "test = pd.read_csv(os.path.join('../input', 'test.csv'))\n",
        "predictions = pd.concat((test.iloc[:, 0], predictions), axis = 1)\n",
        "predictions.to_csv('y_test15.csv', sep=\",\", index = False)"
      ]
    },
    {
      "cell_type": "markdown",
      "metadata": {
        "_cell_guid": "ae3dcb9e-8e70-956a-a0eb-a5aa1f188a99"
      },
      "source": [
        "## Conclusion\n",
        "\n",
        "This exercise is a good example of how far basic feature engineering can take you. It is worth mentioning that I did try various other models before arriving at this one. Some of the other variations I tried were different groupings for the categorical variables (plenty more combinations remain), linear discriminant analysis on a couple numeric columns, and eliminating more variables, among other things. This is a competition with a generous allotment of submission attempts, and as a result, it's quite possible that even the leaderboard score is an overestimation of the true quality of the model, since the leaderboard can act as more of a validation score instead of a true test score. \n",
        "\n",
        "I welcome any comments and suggestions."
      ]
    }
  ],
  "metadata": {
    "_change_revision": 0,
    "_is_fork": false,
    "kernelspec": {
      "display_name": "Python 3",
      "language": "python",
      "name": "python3"
    },
    "language_info": {
      "codemirror_mode": {
        "name": "ipython",
        "version": 3
      },
      "file_extension": ".py",
      "mimetype": "text/x-python",
      "name": "python",
      "nbconvert_exporter": "python",
      "pygments_lexer": "ipython3",
      "version": "3.6.0"
    }
  },
  "nbformat": 4,
  "nbformat_minor": 0
}