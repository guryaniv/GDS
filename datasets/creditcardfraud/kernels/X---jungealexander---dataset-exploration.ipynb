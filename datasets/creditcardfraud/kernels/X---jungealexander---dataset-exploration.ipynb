{
  "cells": [
    {
      "cell_type": "markdown",
      "metadata": {
        "_cell_guid": "9160afff-6d70-789f-8c2d-c51d1d2f2e57"
      },
      "source": [
        "Exploration of the data set."
      ]
    },
    {
      "cell_type": "code",
      "execution_count": null,
      "metadata": {
        "_cell_guid": "5c607339-e32e-06df-ac13-c1223604a5b9"
      },
      "outputs": [],
      "source": [
        "# This Python 3 environment comes with many helpful analytics libraries installed\n",
        "# It is defined by the kaggle/python docker image: https://github.com/kaggle/docker-python\n",
        "# For example, here's several helpful packages to load in \n",
        "\n",
        "from collections import Counter\n",
        "import matplotlib.pyplot as plt\n",
        "import numpy as np # linear algebra\n",
        "import pandas as pd # data processing, CSV file I/O (e.g. pd.read_csv)\n",
        "import seaborn as sns\n",
        "from sklearn import manifold, metrics, model_selection, svm\n",
        "import time\n",
        "\n",
        "# Input data files are available in the \"../input/\" directory.\n",
        "# For example, running this (by clicking run or pressing Shift+Enter) will list the files in the input directory\n",
        "\n",
        "from subprocess import check_output\n",
        "print(check_output([\"ls\", \"../input\"]).decode(\"utf8\"))\n",
        "\n",
        "# Any results you write to the current directory are saved as output."
      ]
    },
    {
      "cell_type": "code",
      "execution_count": null,
      "metadata": {
        "_cell_guid": "2ab4cbe6-761f-9d0b-9489-a705abbb1777"
      },
      "outputs": [],
      "source": [
        "cc_df = pd.DataFrame.from_csv('../input/creditcard.csv', index_col=None)\n",
        "cc_df.head()"
      ]
    },
    {
      "cell_type": "code",
      "execution_count": null,
      "metadata": {
        "_cell_guid": "e79e4634-49e0-de71-2337-07a4a98c0446"
      },
      "outputs": [],
      "source": [
        "print('Loaded {:d} instances and {:d} variables.'.format(len(cc_df), len(cc_df.columns)))\n",
        "count = Counter(cc_df.loc[:,'Class'])\n",
        "print('Genuine instances = {:d}; fraudulent instances = {:d}'.format(count[0], count[1]))\n",
        "print('In test: ratio fraudulent:genuine = {:f}'.format(count[1]/count[0]))"
      ]
    },
    {
      "cell_type": "markdown",
      "metadata": {
        "_cell_guid": "996f933d-bda3-47ac-2364-c1ea63fd9368"
      },
      "source": [
        "2D-embedding of a random sample of the data set using [t-SNE](http://scikit-learn.org/stable/modules/manifold.html#t-sne) based on all PCA-derived features.\n",
        "Color by time, amount, and class."
      ]
    },
    {
      "cell_type": "code",
      "execution_count": null,
      "metadata": {
        "_cell_guid": "aa3de77c-78ad-669e-cc16-df1121dfcdd0"
      },
      "outputs": [],
      "source": [
        "sample_size = 2000\n",
        "cc_sample = cc_df.sample(n=sample_size, random_state=0, axis=0)\n",
        "\n",
        "t0 = time.time()\n",
        "tsne = manifold.TSNE(n_components=2, init='random', random_state=42)\n",
        "Y = tsne.fit_transform(cc_sample.drop(['Time', 'Amount', 'Class'], 1))\n",
        "t1 = time.time()\n",
        "print(\"t-SNE: %.2g sec\" % (t1 - t0))"
      ]
    },
    {
      "cell_type": "code",
      "execution_count": null,
      "metadata": {
        "_cell_guid": "e801afba-f81e-7a5d-22c0-20251e9340e6"
      },
      "outputs": [],
      "source": [
        "plt.figure(figsize=(8, 10))\n",
        "plt.figure(1)\n",
        "plt.subplot(311)\n",
        "plt.scatter(Y[:, 0], Y[:, 1], c=cc_sample.loc[:,'Time'], cmap=plt.cm.Spectral)\n",
        "plt.title('Time')\n",
        "plt.axis('tight')\n",
        "\n",
        "amount_scaled = np.log(cc_sample.loc[:,'Amount'])\n",
        "plt.subplot(312)\n",
        "plt.scatter(Y[:, 0], Y[:, 1], c=amount_scaled, cmap=plt.cm.Spectral)\n",
        "plt.title('Amount')\n",
        "plt.axis('tight')\n",
        "\n",
        "plt.subplot(313)\n",
        "plt.scatter(Y[:, 0], Y[:, 1], c=cc_sample.loc[:,'Class'], cmap=plt.cm.Spectral)\n",
        "plt.title('Class')\n",
        "plt.axis('tight')\n",
        "plt.show()"
      ]
    },
    {
      "cell_type": "markdown",
      "metadata": {
        "_cell_guid": "0cd99826-71f2-74b6-2369-61df73e80004"
      },
      "source": [
        "There seems to be a stronger association between time and all PCA features than between amount and PCA features."
      ]
    },
    {
      "cell_type": "code",
      "execution_count": null,
      "metadata": {
        "_cell_guid": "fc909bc0-9117-c512-cd79-2d7bd0d438e6"
      },
      "outputs": [],
      "source": [
        "v = sns.violinplot(x='Class', y='Time', data=cc_df)"
      ]
    },
    {
      "cell_type": "code",
      "execution_count": null,
      "metadata": {
        "_cell_guid": "681da0ba-e6ac-a0fb-3f5b-8e5f67d8e2d7"
      },
      "outputs": [],
      "source": [
        "sns.violinplot(x='Class', y='Amount', data=cc_df)"
      ]
    },
    {
      "cell_type": "code",
      "execution_count": null,
      "metadata": {
        "_cell_guid": "ca6abae4-774b-4523-5f5b-836f1ca5275b"
      },
      "outputs": [],
      "source": [
        "classes = cc_df['Class']\n",
        "log_amount = np.log(cc_df['Amount'])\n",
        "mask = np.isfinite(log_amount)\n",
        "print('Removing {:d} infinte values after log-transform.'.format(np.logical_not(mask).sum()))\n",
        "classes_removed = classes[np.logical_not(mask)]\n",
        "count_removed = Counter(classes_removed)\n",
        "print('In removed: Genuine instances = {:d}; fraudulent instances = {:d}'.format(\n",
        "    count_removed[0], count_removed[1]))\n",
        "print('In removed: ratio fraudulent:genuine = {:f}'.format(count_removed[1]/count_removed[0]))\n",
        "log_amount = log_amount[mask]\n",
        "classes = classes[mask]"
      ]
    },
    {
      "cell_type": "markdown",
      "metadata": {
        "_cell_guid": "95830c10-03a5-5ac7-3c7d-b7050581a7ab"
      },
      "source": [
        "Note that the ratio fraudulent:genuine cases is about 0.015 for the transactions recorded with amount 0.\n",
        "On the other hand, the ratio fraudulent:genuine cases is only 0.0017 for the entire data set.\n",
        "\n",
        "**TODO?** How well does the amount alone predict fraudulent cases?"
      ]
    },
    {
      "cell_type": "code",
      "execution_count": null,
      "metadata": {
        "_cell_guid": "4c02514e-9f1b-2a4a-29c5-a0626b9b9f8d"
      },
      "outputs": [],
      "source": [
        "sns.violinplot(x=classes, y=log_amount)"
      ]
    },
    {
      "cell_type": "code",
      "execution_count": null,
      "metadata": {
        "_cell_guid": "a4c8707c-5950-94bd-6421-68eef5d5648f"
      },
      "outputs": [],
      "source": [
        "cc_fraud = cc_df.loc[cc_df['Class'].isin([1]),:]\n",
        "len(cc_fraud)\n",
        "t0 = time.time()\n",
        "tsne = manifold.TSNE(n_components=2, init='random', random_state=42)\n",
        "Y = tsne.fit_transform(cc_fraud.drop(['Time', 'Amount', 'Class'], 1))\n",
        "t1 = time.time()\n",
        "print(\"t-SNE: %.2g sec\" % (t1 - t0))\n",
        "\n",
        "plt.figure(figsize=(8, 10))\n",
        "plt.figure(1)\n",
        "plt.subplot(311)\n",
        "plt.scatter(Y[:, 0], Y[:, 1], c=cc_fraud.loc[:,'Time'], cmap=plt.cm.Spectral)\n",
        "plt.title('Time - fraudulent only')\n",
        "plt.axis('tight')\n",
        "\n",
        "amount_scaled = np.log(cc_fraud.loc[:,'Amount'])\n",
        "plt.subplot(312)\n",
        "plt.scatter(Y[:, 0], Y[:, 1], c=amount_scaled, cmap=plt.cm.Spectral)\n",
        "plt.title('Amount  - fraudulent only')\n",
        "plt.axis('tight')"
      ]
    },
    {
      "cell_type": "markdown",
      "metadata": {
        "_cell_guid": "4982f85a-4d58-7761-904a-8de4ffd3e30d"
      },
      "source": [
        "## Split into 70% train and 30% test set\n",
        "\n",
        "As observed in the t-SNE visualization above, there may exist a correlation between samples that are near in\n",
        "time meaning that the data is not i.i.d.. Thus the data set is not shuffled when splitting into train and test\n",
        "sets and later into cross-validation sets."
      ]
    },
    {
      "cell_type": "code",
      "execution_count": null,
      "metadata": {
        "_cell_guid": "03a28799-1746-b2b0-3014-5f18accf69bb"
      },
      "outputs": [],
      "source": [
        "train_frac = 0.7 \n",
        "test_frac = 1 - train_frac\n",
        "split_index = int(len(cc_df) * train_frac)\n",
        "cc_train = cc_df.loc[:split_index,:]\n",
        "cc_test = cc_df.loc[split_index:,:]\n",
        "#cc_train, cc_test = model_selection.train_test_split(cc_df, test_size=0.3,\n",
        "#                                                     random_state=0, stratify=cc_df['Class'])"
      ]
    },
    {
      "cell_type": "code",
      "execution_count": null,
      "metadata": {
        "_cell_guid": "7ac2871d-b44e-7b79-088c-1196bbcea9cd"
      },
      "outputs": [],
      "source": [
        "print('Trainining set contains {:d} instances and {:d} variables.'.format(\n",
        "    len(cc_train), len(cc_train.columns)))\n",
        "count_train = Counter(cc_train.loc[:,'Class'])\n",
        "print('In train: Genuine instances = {:d}; fraudulent instances = {:d}'.format(\n",
        "    count_train[0], count_train[1]))\n",
        "print('In train: ratio fraudulent:genuine = {:f}'.format(count_train[1]/count_train[0]))\n",
        "print()\n",
        "print('Test set contains {:d} instances and {:d} variables.'.format(\n",
        "    len(cc_test), len(cc_test.columns)))\n",
        "count_test = Counter(cc_test.loc[:,'Class'])\n",
        "print('In test: Genuine instances = {:d}; fraudulent instances = {:d}'.format(\n",
        "    count_test[0], count_test[1]))\n",
        "print('In test: ratio fraudulent:genuine = {:f}'.format(count_test[1]/count_test[0]))"
      ]
    },
    {
      "cell_type": "markdown",
      "metadata": {
        "_cell_guid": "04654873-f3aa-df0d-9d82-faac47579229"
      },
      "source": [
        "**TODO?** Sample down the train set such that it contains 25% fraud cases by retaining every fraud case and three cases near in time to each fraud cases. Then use cross validation for time series data to avoid underestimating the CV error due to autocorrelated samples ([see](http://scikit-learn.org/stable/modules/cross_validation.html#cross-validation-of-time-series-data))."
      ]
    },
    {
      "cell_type": "code",
      "execution_count": null,
      "metadata": {
        "_cell_guid": "48ed788b-8b14-0f17-4b2f-d5702506fc79"
      },
      "outputs": [],
      "source": [
        "cc_train_fraud = cc_train.loc[cc_train['Class'].isin([1]), :]\n",
        "len(cc_train_fraud)\n",
        "cc_train_genuine = cc_train.loc[cc_train['Class'].isin([0]), :].sample(\n",
        "    n=len(cc_train_fraud) * 3, random_state=0, axis=0)\n",
        "cc_train = pd.concat([cc_train_genuine, cc_train_fraud])\n",
        "\n",
        "print('After sampling, trainining set contains {:d} instances and {:d} variables.'.format(\n",
        "    len(cc_train), len(cc_train.columns)))\n",
        "count_train = Counter(cc_train.loc[:,'Class'])\n",
        "print('In train: Genuine instances = {:d}; fraudulent instances = {:d}'.format(\n",
        "    count_train[0], count_train[1]))\n",
        "print('In train: ratio fraudulent:genuine = {:f}'.format(count_train[1]/count_train[0]))"
      ]
    },
    {
      "cell_type": "code",
      "execution_count": null,
      "metadata": {
        "_cell_guid": "11415942-a065-e73d-12da-e99af079175c"
      },
      "outputs": [],
      "source": [
        "sns.violinplot(x='Class', y='Time', data=cc_train)"
      ]
    },
    {
      "cell_type": "code",
      "execution_count": null,
      "metadata": {
        "_cell_guid": "14f31287-fd46-10f6-3993-6e6c4613eac8"
      },
      "outputs": [],
      "source": [
        "X_train = cc_train.drop(['Class'], 1)\n",
        "y_train = cc_train['Class']"
      ]
    },
    {
      "cell_type": "code",
      "execution_count": null,
      "metadata": {
        "_cell_guid": "aa88ff02-3cdb-d6af-64ee-fa835f34b09a"
      },
      "outputs": [],
      "source": [
        "params = [\n",
        "  #{'C': [1, 10, 100], 'kernel': ['linear']},\n",
        "  {'C': [0.1, 1, 10, 100, 1000, 10000], 'gamma': [0.01, 0.001, 0.0001, 0.00001], 'kernel': ['rbf']},\n",
        " ]\n",
        "grid_search = model_selection.GridSearchCV(svm.SVC(), params, cv=5, verbose=1,\n",
        "                                           scoring='roc_auc')\n",
        "grid_search.fit(X_train, y_train)"
      ]
    },
    {
      "cell_type": "code",
      "execution_count": null,
      "metadata": {
        "_cell_guid": "bf5678cc-6e00-85cb-886f-eea5825fa4f1"
      },
      "outputs": [],
      "source": [
        "print('Scoring function: {}'.format(grid_search.scorer_))\n",
        "\n",
        "best_params = grid_search.best_params_\n",
        "print(\"Best parameters set found :\")\n",
        "print(best_params)\n",
        "print()\n",
        "\n",
        "print(\"Grid scores:\")\n",
        "means = grid_search.cv_results_['mean_test_score']\n",
        "stds = grid_search.cv_results_['std_test_score']\n",
        "for mean, std, params in zip(means, stds, grid_search.cv_results_['params']):\n",
        "    print(\"%0.3f (+/-%0.03f) for %r\"% (mean, std * 2, params))\n",
        "    print()"
      ]
    },
    {
      "cell_type": "markdown",
      "metadata": {
        "_cell_guid": "f730eceb-1799-973a-4cc4-a61acdba375b"
      },
      "source": [
        "Predict labels for test set."
      ]
    },
    {
      "cell_type": "code",
      "execution_count": null,
      "metadata": {
        "_cell_guid": "120785a4-ebe0-9ea8-deec-c2c7ead9099e"
      },
      "outputs": [],
      "source": [
        "best_estimator = grid_search.best_estimator_\n",
        "X_test = cc_test.drop(['Class'], 1)\n",
        "y_test = cc_test['Class']\n",
        "y_hat = best_estimator.predict(X_test)\n",
        "print(metrics.classification_report(y_test, y_hat))"
      ]
    },
    {
      "cell_type": "markdown",
      "metadata": {
        "_cell_guid": "b7904d5f-698d-4f0a-7efa-a100a0f2ed98"
      },
      "source": [
        "Up next:\n",
        "\n",
        "- fraud is not predicted for test set - fix this\n",
        "- check **TODO?** items above\n",
        "- pick another classifier (random forest? something that hasn't been tried here?)"
      ]
    }
  ],
  "metadata": {
    "_change_revision": 0,
    "_is_fork": false,
    "kernelspec": {
      "display_name": "Python 3",
      "language": "python",
      "name": "python3"
    },
    "language_info": {
      "codemirror_mode": {
        "name": "ipython",
        "version": 3
      },
      "file_extension": ".py",
      "mimetype": "text/x-python",
      "name": "python",
      "nbconvert_exporter": "python",
      "pygments_lexer": "ipython3",
      "version": "3.5.2"
    }
  },
  "nbformat": 4,
  "nbformat_minor": 0
}