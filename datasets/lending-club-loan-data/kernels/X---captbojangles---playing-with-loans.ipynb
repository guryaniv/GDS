{"cells":[
 {
  "cell_type": "code",
  "execution_count": null,
  "metadata": {
   "collapsed": false
  },
  "outputs": [],
  "source": "# This Python 3 environment comes with many helpful analytics libraries installed\n# It is defined by the kaggle/python docker image: https://github.com/kaggle/docker-python\n# For example, here's several helpful packages to load in \n\nimport numpy as np # linear algebra\nimport pandas as pd # data processing, CSV file I/O (e.g. pd.read_csv)\nimport matplotlib.pyplot as plt\n\n# Input data files are available in the \"../input/\" directory.\n# For example, running this (by clicking run or pressing Shift+Enter) will list the files in the input directory\n\nfrom subprocess import check_output\nprint(check_output([\"ls\", \"../input\"]).decode(\"utf8\"))\n\n# Any results you write to the current directory are saved as output.\n\ndf = pd.read_csv('../input/loan.csv')\n\n"
 },
 {
  "cell_type": "code",
  "execution_count": null,
  "metadata": {
   "collapsed": false
  },
  "outputs": [],
  "source": "#Plotting interest rate vs dti. Would have expected higher DTI to have higher interest rates\nplt.scatter(df.int_rate, df.dti)\nplt.xlim(5,30)\nplt.ylim(0,80)\nplt.xlabel('Interest Rate')\nplt.ylabel('DTI')"
 },
 {
  "cell_type": "code",
  "execution_count": null,
  "metadata": {
   "collapsed": false
  },
  "outputs": [],
  "source": "#Plotting interest rate vs max balance. Higher max balances yield lower interest rates. Time to get another credit card?\nplt.scatter(df.int_rate, df.max_bal_bc)\nplt.xlim(5,30)\nplt.ylim(0, 85000)\nplt.xlabel('Interest Rate')\nplt.ylabel('max_bal_bc')"
 },
 {
  "cell_type": "code",
  "execution_count": null,
  "metadata": {
   "collapsed": false
  },
  "outputs": [],
  "source": "#Plotting max_bal_bc vs dti\nplt.scatter(df.max_bal_bc, df.dti)\nplt.xlim(0, 85000)\nplt.ylim(0, 80)\nplt.xlabel('Maximum current balance owed on all revolving accounts')\nplt.ylabel('dti')"
 },
 {
  "cell_type": "code",
  "execution_count": null,
  "metadata": {
   "collapsed": false
  },
  "outputs": [],
  "source": "#Total Current Balance is total amount this person (or applicant(s)) owe. Mortgage, Credit Cards, Auto etc.\n#DTI vs Total Current Balance. It looks like some people with high balances have low DTI (<40) and people \n#with high DTI (40) generally have lower balances.\nplt.scatter(df.dti, df.tot_cur_bal)\nplt.xlim(0,80)\nplt.ylim(0, 3000000)\nplt.xlabel('DTI')\nplt.ylabel('tot_cur_bal')"
 },
 {
  "cell_type": "code",
  "execution_count": null,
  "metadata": {
   "collapsed": false
  },
  "outputs": [],
  "source": ""
 }
],"metadata":{"kernelspec":{"display_name":"Python 3","language":"python","name":"python3"}}, "nbformat": 4, "nbformat_minor": 0}