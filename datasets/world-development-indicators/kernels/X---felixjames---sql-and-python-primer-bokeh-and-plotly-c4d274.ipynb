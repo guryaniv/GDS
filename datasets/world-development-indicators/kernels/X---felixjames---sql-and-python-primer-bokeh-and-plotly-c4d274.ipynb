{
  "cells": [
    {
      "cell_type": "markdown",
      "metadata": {
        "_cell_guid": "6595917e-d9be-c0bd-82ab-060e40bc746c"
      },
      "source": [
        "# Introduction \n",
        "\n",
        "SQL or Structured Query Language is the de-facto language used for interacting with (\"querying\" per industry speak) relational databases. A relational database consists of tables, where each table contains records, or rows of data organised by fields or columns. On the topic of relational databases,  there are many different flavours and forms of relational database management systems (RDMS) - SQL Server, MySQL, PostgreSQL etc. \n",
        "\n",
        "In this Kaggle dataset, the database that we are given to work with is a SQLite  database. SQLite is not your \"classical\" database in the sense that it is a self-contained, disk-based database that gets embedded in the application that uses it and hence does not require a separate server process.\n",
        "\n",
        "There seems to be very few notebooks on Kaggle talking about integrating Python with raw SQL and therefore this notebook aims to try to bridge this gap. Of course one could be able to query a database with an ORM like SQLAlchemy along with the advantages of convenience, security etc that it brings, but there is still something to be had by learning pure SQL.\n",
        "\n",
        "so Let's go."
      ]
    },
    {
      "cell_type": "code",
      "execution_count": null,
      "metadata": {
        "_cell_guid": "ab073c49-e7ac-0300-c1ba-dd548326917a"
      },
      "outputs": [],
      "source": [
        "import pandas as pd\n",
        "import numpy as np\n",
        "import matplotlib.pyplot as plt\n",
        "import seaborn as sns\n",
        "%matplotlib inline\n",
        "import sqlite3\n",
        "import os\n",
        "from bokeh.plotting import figure, show \n",
        "from bokeh.charts import Bar\n",
        "from bokeh.io import output_notebook\n",
        "output_notebook()\n",
        "%matplotlib inline\n",
        "import plotly.offline as py\n",
        "py.init_notebook_mode(connected=True)\n",
        "import plotly.graph_objs as go\n",
        "import plotly.tools as tls\n",
        "import warnings\n",
        "warnings.filterwarnings('ignore')"
      ]
    },
    {
      "cell_type": "markdown",
      "metadata": {
        "_cell_guid": "3370b3a1-803a-f4c6-f128-e57dd4d74995"
      },
      "source": [
        "Unlike my other notebooks, instead of reading data into a pandas dataframe from a csv (comma-separated value) file type, we will query the database via SQL. I will also show how we can store any relevant queries into a Pandas dataframe. To start off, we have to create a connection to the sqlite3 database as such:"
      ]
    },
    {
      "cell_type": "code",
      "execution_count": null,
      "metadata": {
        "_cell_guid": "3bc2017b-1ab6-299c-17c7-5b2e35b35b05"
      },
      "outputs": [],
      "source": [
        "conn = sqlite3.connect('../input/database.sqlite')"
      ]
    },
    {
      "cell_type": "markdown",
      "metadata": {
        "_cell_guid": "f5035348-8b40-4d56-79d7-d9c172d87fc4"
      },
      "source": [
        "Once we have our connection setup in python, we can create a **Cursor** object from which we can call the execute( ) method and to perform SQL statements and queries. "
      ]
    },
    {
      "cell_type": "code",
      "execution_count": null,
      "metadata": {
        "_cell_guid": "b15c050b-9422-22b3-a19f-dbdc2ca03b8a"
      },
      "outputs": [],
      "source": [
        "c = conn.cursor()"
      ]
    },
    {
      "cell_type": "markdown",
      "metadata": {
        "_cell_guid": "0bb25032-d380-1dff-5e95-beeaeca5dfeb"
      },
      "source": [
        "Having created our cursor object, we can now execute our SQL statement. If you are not too familiar with the following syntax, please bear with me until the following section where I will explain in detail what each SQL command does.\n",
        "\n",
        "You can distinguish SQL commands in my code (from Python) as they will be embedded within a triple quotation mark \"\"\""
      ]
    },
    {
      "cell_type": "code",
      "execution_count": null,
      "metadata": {
        "_cell_guid": "0c3b4811-63e0-34b8-6f41-62a37428e273"
      },
      "outputs": [],
      "source": [
        "for row in c.execute(\n",
        "                    # SQL statement \n",
        "                    \"\"\"\n",
        "                        SELECT   * \n",
        "                        FROM     Country \n",
        "                        LIMIT    2\n",
        "                        \n",
        "                     \"\"\" ):\n",
        "    print(row)"
      ]
    },
    {
      "cell_type": "markdown",
      "metadata": {
        "_cell_guid": "c93f4f8a-0761-6905-68e0-aa2ec989b79a"
      },
      "source": [
        "Now that's all and good that we have managed to print out the first two rows of the data from our Sqlite database. However I still have a niggling feeling that the current method is inconvenient in the sense that we have to use a for loop just to execute our SQL statement. \n",
        "\n",
        "Thankfully for us, the Pandas library comes with methods that allow one to interact with and query SQL databases and we will explore this in the upcoming section."
      ]
    },
    {
      "cell_type": "markdown",
      "metadata": {
        "_cell_guid": "5b9c729f-07b1-ff85-9de0-d7cf42ede896"
      },
      "source": [
        "### Basics of SQL Queries\n",
        "\n",
        "Before we continue on with the notebook, I will list here the important SQL statements that are most widely used  \n",
        "\n",
        "**SELECT** : Statement used to select rows and columns from a database. \n",
        "\n",
        "**FROM** :  Specifies which table in the database you want to direct your query to\n",
        "\n",
        "**WHERE**: clause for filtering for a specified value(s)\n",
        "\n",
        "**GROUP BY**: Aggregating data. Needs to be used in conjunction with SQL aggregating functions like SUM and COUNT.\n",
        "\n",
        "**ORDER BY**: Sorting columns in the database \n",
        "\n",
        "**JOIN** : Joins are used to combine tables with one another. \n",
        "\n",
        "**UNION**, **INTERSECT/EXCEPT** : Set operations. Unioning in SQL allows one to append tables on top of one another. "
      ]
    },
    {
      "cell_type": "markdown",
      "metadata": {
        "_cell_guid": "49a2721f-bca6-efb9-493b-4da09a588ba8"
      },
      "source": [
        "# 1. SQL and Pandas Equivalent statements\n",
        "\n",
        "In this section I shall be comparing a particular SQL statement to its Pandas equivalent in the hope that if you are familiar with the Pandas syntax but not so much SQL, this may allow you to have a familiar reference point with which to familiarise yourself with.\n",
        "\n",
        "First let us read in the **Country** table in our "
      ]
    },
    {
      "cell_type": "code",
      "execution_count": null,
      "metadata": {
        "_cell_guid": "c46cba5e-bf50-52a0-9182-07517f220d60"
      },
      "outputs": [],
      "source": [
        "# Store Country data in a pandas dataframe via a SQL query\n",
        "Country = pd.read_sql(\n",
        "                       \"\"\"\n",
        "                       \n",
        "                        SELECT  * \n",
        "                        FROM    Country\n",
        "                        \n",
        "                       \"\"\", con=conn)"
      ]
    },
    {
      "cell_type": "markdown",
      "metadata": {
        "_cell_guid": "3e772715-f1da-8c7f-f84f-0ee3aaaf530f"
      },
      "source": [
        "**A.) SELECT, LIMIT and head**\n",
        "\n",
        "The SELECT statement in SQL is probably the most ubiquitous statement as one will need this statement to select records from a database. Normally you will see this being used very often in conjunction with the asterisk symbol : **SELECT *** .  What this does is to select all rows and columns with in the database. However if one wants to select only a certain number of rows, this is where LIMIT comes in\n",
        "\n",
        "I think it is rather safe to assume that most Kagglers understand the use of invoking the head( ) call on a dataframe. It essentially returns the top (user-specified) number of rows in your data. Equivalently, one can also do the same thing via a SQL query with the use of the LIMIT statement as follows:"
      ]
    },
    {
      "cell_type": "code",
      "execution_count": null,
      "metadata": {
        "_cell_guid": "6fc9f919-3456-781f-c385-24db9b1a5384"
      },
      "outputs": [],
      "source": [
        "# Pandas code\n",
        "Country.head(3)"
      ]
    },
    {
      "cell_type": "code",
      "execution_count": null,
      "metadata": {
        "_cell_guid": "f134d102-d98d-8720-ef4c-53cfbff6e386"
      },
      "outputs": [],
      "source": [
        "# SQL query \n",
        "pd.read_sql(\n",
        "            \"\"\"\n",
        "                SELECT   * \n",
        "                FROM     Country \n",
        "                LIMIT    3 \n",
        "                \n",
        "            \"\"\", con=conn)"
      ]
    },
    {
      "cell_type": "markdown",
      "metadata": {
        "_cell_guid": "5edfe054-14bc-1799-fdb6-cfef0b74c82f"
      },
      "source": [
        "**B.) WHERE and Boolean Indexing**\n",
        "\n",
        "The SQL WHERE clause is mainly used for filtering records of interest. Therefore if the records fulfill the conditions as laid out by the WHERE clause, then that record will be returned. The equivalent of this in Python and Pandas is that of Boolean Indexing - a.k.a passing into the DataFrame another DataFrame in a comparison statement as follows:"
      ]
    },
    {
      "cell_type": "code",
      "execution_count": null,
      "metadata": {
        "_cell_guid": "39cc8e7f-c092-8a01-29b3-1e335ed585e7"
      },
      "outputs": [],
      "source": [
        "# Pandas Boolean Indexing\n",
        "Country[Country['CountryCode'] == 'AFG']"
      ]
    },
    {
      "cell_type": "code",
      "execution_count": null,
      "metadata": {
        "_cell_guid": "52d38786-73b7-d5cd-c8bc-06b83bf3ddb5"
      },
      "outputs": [],
      "source": [
        "# SQL WHERE clause\n",
        "pd.read_sql(\n",
        "        \"\"\" \n",
        "            SELECT   * \n",
        "            FROM     Country \n",
        "            WHERE    CountryCode = 'AFG'\n",
        "            \n",
        "        \"\"\", con=conn)"
      ]
    },
    {
      "cell_type": "markdown",
      "metadata": {
        "_cell_guid": "cbe4c9a9-34ed-7605-906f-7455f3297b5c"
      },
      "source": [
        "**C.) GROUP BY and dataframe aggregation**\n",
        "\n",
        "The GROUP BY clause is very useful when aggregations are required to be generated. When I say aggregations, these are taken to mean things (in SQL speak) such as COUNT, MAX, MIN, SUM etc. \n",
        "\n",
        "In the following example, I shall perform an aggregation on the Country dataset by counting (COUNT function) the number of records that belong to a certain Region. As a rule of thumb, to know what we have to add to our GROUP BY statement is simply the column that we want to aggregate on (Region in our case)."
      ]
    },
    {
      "cell_type": "code",
      "execution_count": null,
      "metadata": {
        "_cell_guid": "a817467a-db6d-70ab-d467-0afd23301e1c"
      },
      "outputs": [],
      "source": [
        "# SQL GROUP BY Clause\n",
        "pd.read_sql(\n",
        "        \"\"\" \n",
        "            SELECT      Region\n",
        "                        ,COUNT(*) AS [Count]\n",
        "            FROM        Country \n",
        "            GROUP BY    Region\n",
        "            ORDER BY    2 DESC\n",
        "            \n",
        "        \"\"\", con=conn)"
      ]
    },
    {
      "cell_type": "markdown",
      "metadata": {
        "_cell_guid": "f4021486-66bf-a6d1-ca24-fd85fb4bb11d"
      },
      "source": [
        "I snuck in an ORDER BY statement and what this does is to sort the data in descending order (DESC keyword). Anyway, we can see that this GROUP BY does counts all the records (aggregate) that belong to a particular region and and then outputs the result in a ordered tabular format. \n",
        "\n",
        "Particularly interesting is the fact that we have an empty string as one of our categories in Region and there are 33 records in the database that can be attributed to this. Perhaps this could be brought up as a data quality issue and definitely warrants further investigation."
      ]
    },
    {
      "cell_type": "markdown",
      "metadata": {
        "_cell_guid": "919c63f5-b7ee-0c81-ff29-b7d7aff02aef"
      },
      "source": [
        "**D.) SQL JOIN**\n",
        "\n",
        "The JOIN clause in SQL is used to combine records from two or more tables and the way the records are combined are based on a related column between these tables. There are 4 main types of JOINs in SQL: \n",
        "\n",
        "INNER, LEFT, RIGHT and OUTER JOIN\n",
        "\n",
        "INNER returns rows that are common to both tables while OUTER returns all records when there is a match in either the left or the right table. LEFT returns all the rows from the left table as well as all matching rows from the right (i.e for rows in the right table that are not matching, it will therefore return NULL values )"
      ]
    },
    {
      "cell_type": "code",
      "execution_count": null,
      "metadata": {
        "_cell_guid": "91e21aac-f5c8-44f5-41cf-8e1556dd0586"
      },
      "outputs": [],
      "source": [
        "# Let's do a LEFT JOIN on some subqueries \n",
        "pd.read_sql(\n",
        "        \"\"\" \n",
        "           \n",
        "            SELECT      A.CountryCode\n",
        "                        ,B.LatestPopulationCensus\n",
        "                        ,B.SourceOfMostRecentIncomeAndExpenditureData\n",
        "                        ,B.ShortName\n",
        "            FROM       ( \n",
        "                            -- First subquery (i.e the Left table)\n",
        "                            \n",
        "                           SELECT      CountryCode\n",
        "                                        ,LatestPopulationCensus\n",
        "                                        ,SourceOfMostRecentIncomeAndExpenditureData\n",
        "                                        ,ShortName\n",
        "                           FROM        Country\n",
        "                           WHERE       CountryCode IN ('AFG','ALB', 'ASM', 'BEL')\n",
        "                        ) AS A\n",
        "            LEFT JOIN   (\n",
        "                            -- Second subquery (i.e the right table )\n",
        "                            \n",
        "                            SELECT      CountryCode\n",
        "                                        ,LatestPopulationCensus\n",
        "                                        ,SourceOfMostRecentIncomeAndExpenditureData\n",
        "                                        ,ShortName\n",
        "                            FROM        Country AS A\n",
        "                            WHERE       CountryCode IN ('AFG','ARM', 'URY', 'BEL')\n",
        "                            \n",
        "                          ) AS B\n",
        "            ON          A.CountryCode = B.CountryCode    \n",
        "            \n",
        "        \"\"\", con=conn)"
      ]
    },
    {
      "cell_type": "markdown",
      "metadata": {
        "_cell_guid": "89d9a45c-d45c-1498-8f92-52a7deff709a"
      },
      "source": [
        "So as we can see from the LEFT JOIN, it does return all the records from the left table ('AFG','ALB', 'ASM', 'BEL'). However nothing was returned from the right table for the codes 'ALB' and 'ASM' and hence value of None in the columns returned from that table."
      ]
    },
    {
      "cell_type": "markdown",
      "metadata": {
        "_cell_guid": "5047fc22-5376-6e32-9067-ef17cf0a8ff2"
      },
      "source": [
        "**E) UNION, INTERSECT and EXCEPT**\n",
        "\n",
        "SQL also comes with a handful of useful Set operations, namely that of UNION, INTERSECT and the EXCEPT statements. These statements perform exactly as their name suggests (set theory) - UNION combines the output from two or more SELECT - FROM statements (it removes duplication in rows while UNION ALL includes duplicates), INTERSECT returns rows common to both top and bottom query while EXCEPT returns rows from the top query not in the bottom query."
      ]
    },
    {
      "cell_type": "code",
      "execution_count": null,
      "metadata": {
        "_cell_guid": "4ac15db1-0201-1944-6724-5d171f746f3c"
      },
      "outputs": [],
      "source": [
        "# UNION \n",
        "pd.read_sql(\n",
        "        \"\"\" \n",
        "                           SELECT      CountryCode\n",
        "                                        ,LatestPopulationCensus\n",
        "                                        ,SourceOfMostRecentIncomeAndExpenditureData\n",
        "                                        ,ShortName\n",
        "                           FROM        Country\n",
        "                           WHERE       CountryCode IN ('AFG','ALB', 'ASM', 'BEL')\n",
        "                       \n",
        "                           UNION\n",
        "                           \n",
        "                           SELECT      CountryCode\n",
        "                                        ,LatestPopulationCensus\n",
        "                                        ,SourceOfMostRecentIncomeAndExpenditureData\n",
        "                                        ,ShortName\n",
        "                           FROM        Country AS A\n",
        "                           WHERE       CountryCode IN ('AFG','ARM', 'URY', 'BEL')\n",
        "            \n",
        "        \"\"\", con=conn)"
      ]
    },
    {
      "cell_type": "code",
      "execution_count": null,
      "metadata": {
        "_cell_guid": "6cc31d53-6a61-b0df-e2d8-82cc2be4b37d"
      },
      "outputs": [],
      "source": [
        "# INTERSECT \n",
        "pd.read_sql(\n",
        "        \"\"\" \n",
        "                           SELECT      CountryCode\n",
        "                                        ,LatestPopulationCensus\n",
        "                                        ,SourceOfMostRecentIncomeAndExpenditureData\n",
        "                                        ,ShortName\n",
        "                           FROM        Country\n",
        "                           WHERE       CountryCode IN ('AFG','ALB', 'ASM', 'BEL')\n",
        "                       \n",
        "                           INTERSECT\n",
        "                           \n",
        "                           SELECT      CountryCode\n",
        "                                        ,LatestPopulationCensus\n",
        "                                        ,SourceOfMostRecentIncomeAndExpenditureData\n",
        "                                        ,ShortName\n",
        "                           FROM        Country AS A\n",
        "                           WHERE       CountryCode IN ('AFG','ARM', 'URY', 'BEL')\n",
        "            \n",
        "        \"\"\", con=conn)"
      ]
    },
    {
      "cell_type": "markdown",
      "metadata": {
        "_cell_guid": "6616d780-b8ee-b214-382d-abf4875c6537"
      },
      "source": [
        "# 2. Data Analysis and Visualisations\n",
        "\n",
        "Having discussed at some length to basic SQL statements and how we can interact and query SQL databases through Python let us now carry on with our World Developmental analysis. To start off, I shall create a dataframe via a query of the **Indicator** table with a handful of manually chosen indicators (as the full table contains too many indicators for this notebook)\n",
        "\n",
        "A quick description of the indicators are as follows:\n",
        "\n",
        "**AG.LND.PRCP.MM** :  Average precipitation in depth (mm per year)\n",
        "\n",
        "**EG.ELC.ACCS.ZS** :  Access to electricity (% of population)\n",
        "\n",
        "**EG.ELC.FOSL.ZS** :  Electricity production from oil, gas and coal sources (% of total)\n",
        "\n",
        "**SG.VAW.REAS.ZS** : Women who believe that a husband is justified in beating his wife (any of the five reasons)\n",
        "\n",
        "**SM.POP.NETM** : Net migration"
      ]
    },
    {
      "cell_type": "code",
      "execution_count": null,
      "metadata": {
        "_cell_guid": "8c65218d-61b2-6afe-b0da-cd2f4ec497c1"
      },
      "outputs": [],
      "source": [
        "Indicators = pd.read_sql(\"\"\" SELECT   * \n",
        "                             FROM     Indicators \n",
        "                             WHERE    IndicatorCode IN \n",
        "                                      (  'AG.LND.PRCP.MM, AG.LND.FRST.K2'\n",
        "                                       , 'EG.ELC.ACCS.ZS', 'EG.ELC.FOSL.ZS'\n",
        "                                       , 'EN.POP.DNST', 'SG.VAW.REAS.ZS'\n",
        "                                       , 'SM.POP.NETM', 'SP.POP.65UP.TO.ZS'\n",
        "                                       , 'FI.RES.TOTL.DT.ZS', 'GC.DOD.TOTL.GD.ZS'\n",
        "                                       , 'MS.MIL.XPND.GD.ZS','SI.POV.GINI'\n",
        "                                       , 'IP.JRN.ARTC.SC', 'SE.ADT.1524.LT.ZS'\n",
        "                                      )  \n",
        "                        \"\"\", con=conn)"
      ]
    },
    {
      "cell_type": "markdown",
      "metadata": {
        "_cell_guid": "246a7e9f-6364-159e-159f-bb39f8d21c00"
      },
      "source": [
        "### 2A. GINI Index analysis\n",
        "\n",
        "To start off with our analysis, let us take a look at the GINI index of some of the countries we have in our dataset. As a quick primer the GINI index (in its normalised form) is a statistical measure used to represent the income or wealth distribution of a nation's citizens. Therefore as a consequence, it has come to represent a very ubiquitous measure of inequality in a country. \n",
        "\n",
        "The data given in the index has not yet been normalised but we are primarily interested in the trend over the years given in the data. Anyway I'll start of by creating a gini dataframe that only store GINI data as follows:"
      ]
    },
    {
      "cell_type": "code",
      "execution_count": null,
      "metadata": {
        "_cell_guid": "8ef46190-38bb-46a9-be62-f8bf8edfbe90"
      },
      "outputs": [],
      "source": [
        "#Regions = ['ARB', 'EUU', 'LCN' , 'NAC',  'EAS', 'SSF', 'World']\n",
        "gini = Indicators[Indicators['IndicatorCode']== 'SI.POV.GINI']"
      ]
    },
    {
      "cell_type": "markdown",
      "metadata": {
        "_cell_guid": "f51de606-4aca-91ba-3b83-7db5d85e1d1c"
      },
      "source": [
        "**Seaborn subplots**\n",
        "\n",
        "Next, I will utilise the Seaborn plotting library to plot some scatter plots of the GINI index for various countries as follow:"
      ]
    },
    {
      "cell_type": "code",
      "execution_count": null,
      "metadata": {
        "_cell_guid": "efafd45f-7e1a-69fe-4c37-5e83d546dfec"
      },
      "outputs": [],
      "source": [
        "gini.CountryCode.unique()"
      ]
    },
    {
      "cell_type": "code",
      "execution_count": null,
      "metadata": {
        "_cell_guid": "e36f4b83-bb7c-9091-a38c-d1e34e810e7a"
      },
      "outputs": [],
      "source": [
        "# Plotting a Subplot of the Seaborn regplot\n",
        "f, ((ax1, ax2, ax3), (ax4,ax5,ax6), (ax7, ax8, ax9)) = plt.subplots(3,3,figsize=(12,10))\n",
        "\n",
        "points = ax1.scatter(gini[gini['CountryCode'] == 'CHN'][\"Year\"], gini[gini['CountryCode'] == 'CHN'][\"Value\"],\n",
        "                     c=gini[gini['CountryCode'] == 'CHN'][\"Value\"], s=100, cmap=\"viridis\")\n",
        "sns.regplot(\"Year\", \"Value\", data=gini[gini['CountryCode'] == 'CHN'], ax=ax1)\n",
        "ax1.set_title(\"GINI Index of China\")\n",
        "\n",
        "points = ax2.scatter(gini[gini['CountryCode'] == 'ARG'][\"Year\"], gini[gini['CountryCode'] == 'ARG'][\"Value\"],\n",
        "                     c=gini[gini['CountryCode'] == 'ARG'][\"Value\"], s=85, cmap=\"viridis\")\n",
        "sns.regplot(\"Year\", \"Value\", data=gini[gini['CountryCode'] == 'ARG'], ax=ax2)\n",
        "ax2.set_title(\"GINI Index of Argentina\")\n",
        "\n",
        "points = ax3.scatter(gini[gini['CountryCode'] == 'UGA'][\"Year\"], gini[gini['CountryCode'] == 'UGA'][\"Value\"],\n",
        "                     c=gini[gini['CountryCode'] == 'UGA'][\"Value\"], s=100, cmap=\"afmhot\")\n",
        "sns.regplot(\"Year\", \"Value\", data=gini[gini['CountryCode'] == 'UGA'], ax=ax3)\n",
        "ax3.set_title(\"GINI Index of Uganda\")\n",
        "\n",
        "points = ax4.scatter(gini[gini['CountryCode'] == 'USA'][\"Year\"], gini[gini['CountryCode'] == 'USA'][\"Value\"],\n",
        "                     c=gini[gini['CountryCode'] == 'USA'][\"Value\"], s=100, cmap=\"Purples_r\")\n",
        "sns.regplot(\"Year\", \"Value\", data=gini[gini['CountryCode'] == 'USA'], ax=ax4)\n",
        "ax4.set_title(\"GINI Index of USA\")\n",
        "\n",
        "points = ax5.scatter(gini[gini['CountryCode'] == 'COL'][\"Year\"], gini[gini['CountryCode'] == 'COL'][\"Value\"],\n",
        "                     c=gini[gini['CountryCode'] == 'COL'][\"Value\"], s=100, cmap=\"YlOrBr\")\n",
        "sns.regplot(\"Year\", \"Value\", data=gini[gini['CountryCode'] == 'COL'], ax=ax5)\n",
        "ax5.set_title(\"GINI Index of Colombia\")\n",
        "\n",
        "points = ax6.scatter(gini[gini['CountryCode'] == 'RWA'][\"Year\"], gini[gini['CountryCode'] == 'RWA'][\"Value\"],\n",
        "                     c=gini[gini['CountryCode'] == 'RWA'][\"Value\"], s=100, cmap=\"Blues\")\n",
        "sns.regplot(\"Year\", \"Value\", data=gini[gini['CountryCode'] == 'RWA'], ax=ax6)\n",
        "ax6.set_title(\"GINI Index of Rwanda\")\n",
        "\n",
        "points = ax7.scatter(gini[gini['CountryCode'] == 'RUS'][\"Year\"], gini[gini['CountryCode'] == 'RUS'][\"Value\"],\n",
        "                     c=gini[gini['CountryCode'] == 'RUS'][\"Value\"], s=100, cmap=\"Blues\")\n",
        "sns.regplot(\"Year\", \"Value\", data=gini[gini['CountryCode'] == 'RUS'], ax=ax7)\n",
        "ax7.set_title(\"GINI Index of Russia\")\n",
        "\n",
        "points = ax8.scatter(gini[gini['CountryCode'] == 'ECU'][\"Year\"], gini[gini['CountryCode'] == 'ECU'][\"Value\"],\n",
        "                     c=gini[gini['CountryCode'] == 'ECU'][\"Value\"], s=100, cmap=\"winter\")\n",
        "sns.regplot(\"Year\", \"Value\", data=gini[gini['CountryCode'] == 'ECU'], ax=ax8)\n",
        "ax8.set_title(\"GINI Index of Ecuador\")\n",
        "\n",
        "points = ax9.scatter(gini[gini['CountryCode'] == 'CAF'][\"Year\"], gini[gini['CountryCode'] == 'CAF'][\"Value\"],\n",
        "                     c=gini[gini['CountryCode'] == 'CAF'][\"Value\"], s=100, cmap=\"magma\")\n",
        "sns.regplot(\"Year\", \"Value\", data=gini[gini['CountryCode'] == 'CAF'], ax=ax9)\n",
        "ax9.set_title(\"GINI Index of Central African Republic\")\n",
        "sns.set_style(style=\"dark\")\n",
        "plt.tight_layout()"
      ]
    },
    {
      "cell_type": "markdown",
      "metadata": {
        "_cell_guid": "9ee7309a-eeaa-f05f-8c7d-c09e8cc62c30"
      },
      "source": [
        "**Takeaway from the Plots**\n",
        "\n",
        "As one can observe from the Seaborn subplots above, I have attempted to group countries accordingly column-wise. The left-most column contain countries which we would now think of as Global powers in the political scene (USA, China and Russia). The middle column contains South American countries while the right column contains African countries."
      ]
    },
    {
      "cell_type": "markdown",
      "metadata": {
        "_cell_guid": "a1a0b390-fc6b-480c-466a-0cb329d6fabd"
      },
      "source": [
        "### 2B. Youth Literacy Rate (% of population)\n",
        "\n",
        "Onto our next indicator, which has an indicator code of **SE.ADT.1524.LT.ZS** : Youth Literacy rates. Previously on one of my other Kernels, I had published a piece of analysis on global Youth unemployment and it seemed to hit quite a chord with readers, especially around the high rates of youth unemployment prevalent around European countries for the past half decade.\n",
        "\n",
        "Let us plot an interactive barplot via the Plotly visualisation library to observe how Youth literacy rates have changed over two decades - from 1990 to 2010."
      ]
    },
    {
      "cell_type": "code",
      "execution_count": null,
      "metadata": {
        "_cell_guid": "40a74800-2b2b-932a-fa2f-bb3588fbbd16"
      },
      "outputs": [],
      "source": [
        "# Barplots of Youth literacy rates in 1990\n",
        "data = Indicators[Indicators['IndicatorCode'] == 'SE.ADT.1524.LT.ZS'][Indicators['Year'] == 1990]\n",
        "x, y = (list(x) for x in zip(*sorted(zip(data['Value'].values, data['CountryName'].values), \n",
        "                                                            reverse = False)))\n",
        "\n",
        "# Plotting using Plotly \n",
        "trace2 = go.Bar(\n",
        "    x=x ,\n",
        "    y=y,\n",
        "    marker=dict(\n",
        "        color=x,\n",
        "        colorscale = 'Portland',\n",
        "        reversescale = True\n",
        "    ),\n",
        "    name='Percentage of Youth Literacy Rate',\n",
        "    orientation='h',\n",
        ")\n",
        "\n",
        "layout = dict(\n",
        "    title='Barplot of Youth Literacy Rate in 1990',\n",
        "     width = 680, height = 1500,\n",
        "    yaxis=dict(\n",
        "        showgrid=False,\n",
        "        showline=False,\n",
        "        showticklabels=True,\n",
        "#         domain=[0, 0.85],\n",
        "    ))\n",
        "\n",
        "fig1 = go.Figure(data=[trace2])\n",
        "fig1['layout'].update(layout)\n",
        "py.iplot(fig1, filename='plots')\n",
        "\n",
        "# Barplot of Youth literacy rates in 2010\n",
        "data = Indicators[Indicators['IndicatorCode'] == 'SE.ADT.1524.LT.ZS'][Indicators['Year'] == 2010]\n",
        "x, y = (list(x) for x in zip(*sorted(zip(data['Value'].values, data['CountryName'].values), \n",
        "                                                            reverse = False)))\n",
        "\n",
        "# Plotting using Plotly \n",
        "trace2 = go.Bar(\n",
        "    x=x ,\n",
        "    y=y,\n",
        "    marker=dict(\n",
        "        color=x,\n",
        "        colorscale = 'Portland',\n",
        "        reversescale = True\n",
        "    ),\n",
        "    name='Percentage of Youth Literacy Rate',\n",
        "    orientation='h',\n",
        ")\n",
        "\n",
        "layout = dict(\n",
        "    title='Barplot of Youth Literacy Rate in 2010',\n",
        "     width = 680, height = 1500,\n",
        "    yaxis=dict(\n",
        "        showgrid=False,\n",
        "        showline=False,\n",
        "        showticklabels=True,\n",
        "#         domain=[0, 0.85],\n",
        "    ))\n",
        "\n",
        "fig1 = go.Figure(data=[trace2])\n",
        "fig1['layout'].update(layout)\n",
        "py.iplot(fig1, filename='plots')"
      ]
    },
    {
      "cell_type": "markdown",
      "metadata": {
        "_cell_guid": "aa47401f-c2ce-f287-6104-6d42944e36a1"
      },
      "source": [
        "### 2C. Access to Electricity\n",
        "\n",
        "Let's now inspect another very important indicator and that would be one of a country's access to electricity. For this, let us plot a heatmap via the visualisation library Bokeh."
      ]
    },
    {
      "cell_type": "code",
      "execution_count": null,
      "metadata": {
        "_cell_guid": "05d62840-9ea4-d3fc-15a4-bd66701d9ba6"
      },
      "outputs": [],
      "source": [
        "# Create some useful helper variables\n",
        "data = Indicators[Indicators['IndicatorCode'] == 'EG.ELC.ACCS.ZS']\n",
        "data['Year'] = [str(x) for x in data['Year']]\n",
        "years = list(data['Year'].unique())\n",
        "country = [\n",
        "     u'Jordan', u'Kazakhstan', u'Kenya', u'Kiribati',\n",
        "       u'Korea, Dem. Rep.', u'Korea, Rep.', u'Kosovo', u'Kuwait',\n",
        "       u'Kyrgyz Republic', u'Lao PDR', u'Latvia', u'Lebanon', u'Lesotho',\n",
        "       u'Liberia', u'Libya', u'Liechtenstein', u'Lithuania', u'Luxembourg',\n",
        "       u'Macao SAR, China', u'Macedonia, FYR', u'Madagascar', u'Malawi',\n",
        "       u'Malaysia', u'Maldives', u'Mali', u'Malta', u'Marshall Islands',\n",
        "       u'Mauritania', u'Mauritius', u'Mexico', u'Micronesia, Fed. Sts.',\n",
        "       u'Moldova', u'Monaco', u'Mongolia', u'Montenegro', u'Morocco',\n",
        "       u'Mozambique', u'Myanmar', u'Namibia', u'Nepal', u'Netherlands',\n",
        "       u'New Caledonia', u'New Zealand', u'Nicaragua', u'Niger',\n",
        "       u'Nigeria', u'Norway', u'Oman', u'Pakistan', u'Palau', u'Panama',\n",
        "       u'Papua New Guinea', u'Paraguay', u'Peru', u'Philippines',\n",
        "       u'Poland', u'Portugal', u'Puerto Rico', u'Qatar', u'Romania',\n",
        "       u'Russian Federation', u'Rwanda', u'Samoa', u'San Marino',\n",
        "       u'Sao Tome and Principe', u'Saudi Arabia', u'Senegal', u'Serbia',\n",
        "       u'Seychelles', u'Sierra Leone', u'Singapore', u'Slovak Republic',\n",
        "       u'Slovenia', u'Solomon Islands', u'Somalia', u'South Africa',\n",
        "       u'South Sudan', u'Spain', u'Sri Lanka' u'Sudan', u'Suriname',\n",
        "       u'Swaziland', u'Sweden', u'Switzerland', u'Syrian Arab Republic',\n",
        "       u'Tajikistan', u'Tanzania', u'Thailand', u'Timor-Leste', u'Togo',\n",
        "       u'Tonga', u'Trinidad and Tobago', u'Tunisia', u'Turkey',\n",
        "       u'Turkmenistan', u'Tuvalu', u'Uganda',\n",
        "       u'Ukraine', u'United Arab Emirates', u'United Kingdom',\n",
        "       u'United States', u'Uruguay'\n",
        "]"
      ]
    },
    {
      "cell_type": "code",
      "execution_count": null,
      "metadata": {
        "_cell_guid": "eb19937a-3ba1-73bf-086e-a4818a76d686"
      },
      "outputs": [],
      "source": [
        "from math import pi\n",
        "\n",
        "from bokeh.io import show\n",
        "from bokeh.models import ColumnDataSource, HoverTool, LinearColorMapper\n",
        "from bokeh.plotting import figure\n",
        "from bokeh.models import ColumnDataSource, HoverTool, LinearColorMapper\n",
        "# data = data.set_index('Year')\n",
        "# this is the colormap from the original NYTimes plot\n",
        "colors = [\"#75968f\", \"#a5bab7\", \"#c9d9d3\", \"#e2e2e2\", \"#dfccce\", \"#ddb7b1\", \"#cc7878\", \"#933b41\", \"#550b1d\"]\n",
        "mapper = LinearColorMapper(palette=colors)\n",
        "# Set up the data for plotting. We will need to have values for every\n",
        "# pair of year/month names. Map the rate to a color.\n",
        "countr = []\n",
        "year = []\n",
        "color = []\n",
        "rate = []\n",
        "for y in years:\n",
        "    for m in country:\n",
        "        countr.append(m)\n",
        "        year.append(y)\n",
        "#         d[(d['x']>2) & (d['y']>7)]\n",
        "        monthly_rate = data[(data['CountryName']==m) & (data['Year']==y)]['Value']\n",
        "        rate.append(monthly_rate)\n",
        "\n",
        "source = ColumnDataSource(\n",
        "    data=dict(country=countr, year=year, rate=rate)\n",
        ")\n",
        "\n",
        "TOOLS = \"hover,save,pan,box_zoom,wheel_zoom\"\n",
        "\n",
        "p = figure(title=\"Access to Electricity\",\n",
        "           x_range=years, y_range=list(reversed(country)),\n",
        "           x_axis_location=\"above\", plot_width=900, plot_height=900,\n",
        "           tools=TOOLS)\n",
        "\n",
        "p.grid.grid_line_color = None\n",
        "p.axis.axis_line_color = None\n",
        "p.axis.major_tick_line_color = None\n",
        "p.axis.major_label_text_font_size = \"5pt\"\n",
        "p.axis.major_label_standoff = 0\n",
        "p.xaxis.major_label_orientation = pi / 3\n",
        "\n",
        "p.rect(x=\"year\", y=\"country\", width=1, height=1,\n",
        "       source=source,\n",
        "       fill_color={'field': 'rate', 'transform': mapper},\n",
        "       line_color=None)\n",
        "\n",
        "p.select_one(HoverTool).tooltips = [\n",
        "#     ('date', '@countr @year'),\n",
        "    ('rate', '@rate'),\n",
        "]\n",
        "\n",
        "show(p)      # show the plot"
      ]
    },
    {
      "cell_type": "markdown",
      "metadata": {
        "_cell_guid": "ef4a9f22-8d81-f1c8-c351-73c1aebf45ac"
      },
      "source": [
        "As we can see, there are"
      ]
    },
    {
      "cell_type": "markdown",
      "metadata": {
        "_cell_guid": "3ef7dbdb-86b8-dace-86b8-f2f3ccdfb95e"
      },
      "source": [
        "### 2 D. Women who believe husband is justified in beating the wife\n",
        "\n",
        "Now this indicator is most controversial but also the one that really caught my attention. This indicator "
      ]
    },
    {
      "cell_type": "code",
      "execution_count": null,
      "metadata": {
        "_cell_guid": "6e2d1143-e480-069a-b32d-6d3c2770a83c"
      },
      "outputs": [],
      "source": [
        "data = Indicators[Indicators['IndicatorCode'] == 'SG.VAW.REAS.ZS']"
      ]
    },
    {
      "cell_type": "code",
      "execution_count": null,
      "metadata": {
        "_cell_guid": "9c591c45-d25c-8351-837a-93881316ef75"
      },
      "outputs": [],
      "source": [
        "data = Indicators[Indicators['IndicatorCode'] == 'SE.ADT.1524.LT.ZS']\n",
        "data['Year'] = [str(x) for x in data['Year']]\n",
        "years = ['2000',\n",
        " '2001',\n",
        " '2002',\n",
        " '2003',\n",
        " '2004',\n",
        " '2005',\n",
        " '2006',\n",
        " '2007',\n",
        " '2008',\n",
        " '2009',\n",
        " '2010',\n",
        " '2011',\n",
        " '2012',\n",
        " '2013',\n",
        " '2014']\n",
        "country = ['Burkina Faso', 'Central African Republic', 'Kuwait', 'Turkey',\n",
        "       'United Arab Emirates', 'Uruguay', 'Bolivia', 'Cameroon',\n",
        "       'Egypt, Arab Rep.', 'Iran, Islamic Rep.', 'Mali', 'New Caledonia',\n",
        "       'Swaziland', 'Tonga', 'Maldives', 'Poland', 'Rwanda', 'Afghanistan',\n",
        "       'Benin', 'Burundi', 'Guinea-Bissau', 'Jordan', 'Vanuatu', 'Vietnam',\n",
        "       'American Samoa', 'Argentina', 'Brazil', 'Comoros', 'Guam',\n",
        "       'Hungary', 'Indonesia', 'Malaysia', 'Mexico', 'Mozambique', 'Palau',\n",
        "       'Panama', 'Philippines', 'Puerto Rico', 'Singapore', 'South Africa',\n",
        "       'Thailand', 'Trinidad and Tobago', 'Bahrain', 'Bangladesh',\n",
        "       'Brunei Darussalam', 'Cuba', 'Dominican Republic', 'Greece',\n",
        "       'India', 'Italy', 'Macao SAR, China', 'Nepal', 'Pakistan', 'Peru',\n",
        "       'Portugal', 'Sao Tome and Principe', 'Spain', 'Sri Lanka',\n",
        "       'Syrian Arab Republic', 'Venezuela, RB', 'Chile', 'China',\n",
        "       'Ecuador', 'Haiti', 'Morocco', 'Paraguay', 'Zimbabwe', 'Israel',\n",
        "       'Myanmar', 'Costa Rica', 'Liberia', 'Libya', 'Tunisia', 'Malta',\n",
        "       'Qatar', 'Algeria', 'Malawi', 'Seychelles', \"Cote d'Ivoire\",\n",
        "       'Senegal', 'Tanzania', 'Armenia', 'Belarus', 'Estonia',\n",
        "       'Kazakhstan', 'Latvia', 'Lithuania', 'Moldova','Lesotho', 'Madagascar', 'Mauritania', 'Mongolia',\n",
        "       'Papua New Guinea', 'Sudan', 'Togo', 'Uzbekistan', 'Albania',\n",
        "       'Angola', 'Bulgaria', 'Congo, Dem. Rep.', 'Honduras', 'Nicaragua',\n",
        "       'Niger', 'Ukraine', 'Eritrea', 'Georgia', 'Oman', 'Sierra Leone',\n",
        "       'Suriname', 'Bhutan', 'Cayman Islands', 'Lebanon',\n",
        "       'Korea, Dem. Rep.', 'South Sudan', 'Guyana', 'Timor-Leste',\n",
        "       'Congo, Rep.', 'Montenegro', 'Serbia', 'Austria']"
      ]
    },
    {
      "cell_type": "code",
      "execution_count": null,
      "metadata": {
        "_cell_guid": "c6b6b085-279a-0ade-75aa-aba8bb887c84"
      },
      "outputs": [],
      "source": [
        "from math import pi\n",
        "\n",
        "from bokeh.io import show\n",
        "from bokeh.models import ColumnDataSource, HoverTool, LinearColorMapper\n",
        "from bokeh.plotting import figure\n",
        "from bokeh.models import ColumnDataSource, HoverTool, LinearColorMapper\n",
        "# data = data.set_index('Year')\n",
        "# this is the colormap from the original NYTimes plot\n",
        "colors = [\"#75968f\", \"#a5bab7\", \"#c9d9d3\", \"#e2e2e2\", \"#dfccce\", \"#ddb7b1\", \"#cc7878\", \"#933b41\", \"#550b1d\"]\n",
        "mapper = LinearColorMapper(palette=colors)\n",
        "# Set up the data for plotting. We will need to have values for every\n",
        "# pair of year/month names. Map the rate to a color.\n",
        "countr = []\n",
        "year = []\n",
        "color = []\n",
        "rate = []\n",
        "for y in years:\n",
        "    for m in country:\n",
        "        countr.append(m)\n",
        "        year.append(y)\n",
        "#         d[(d['x']>2) & (d['y']>7)]\n",
        "        monthly_rate = data[(data['CountryName']==m) & (data['Year']==y)]['Value']\n",
        "        rate.append(monthly_rate)\n",
        "\n",
        "source = ColumnDataSource(\n",
        "    data=dict(country=countr, year=year, rate=rate)\n",
        ")\n",
        "\n",
        "TOOLS = \"hover,save,pan,box_zoom,wheel_zoom\"\n",
        "\n",
        "p = figure(title=\"Women who believe Husbands are justified in beating wifes\",\n",
        "           x_range=years, y_range=list(reversed(country)),\n",
        "           x_axis_location=\"above\", plot_width=900, plot_height=900,\n",
        "           tools=TOOLS)\n",
        "\n",
        "p.grid.grid_line_color = None\n",
        "p.axis.axis_line_color = None\n",
        "p.axis.major_tick_line_color = None\n",
        "p.axis.major_label_text_font_size = \"5pt\"\n",
        "p.axis.major_label_standoff = 0\n",
        "p.xaxis.major_label_orientation = pi / 3\n",
        "\n",
        "p.rect(x=\"year\", y=\"country\", width=1, height=1,\n",
        "       source=source,\n",
        "       fill_color={'field': 'rate', 'transform': mapper},\n",
        "       line_color=None)\n",
        "\n",
        "p.select_one(HoverTool).tooltips = [\n",
        "#     ('date', '@countr @year'),\n",
        "    ('rate', '@rate'),\n",
        "]\n",
        "\n",
        "show(p)      # show the plot"
      ]
    },
    {
      "cell_type": "markdown",
      "metadata": {
        "_cell_guid": "94c01eee-dab6-9858-cf2f-e3506dfb6d87"
      },
      "source": [
        "### *TO BE CONTINUED. NEED TO SLEEP* "
      ]
    },
    {
      "cell_type": "code",
      "execution_count": null,
      "metadata": {
        "_cell_guid": "8c2b64d0-351b-f516-861d-0b8245d2e419"
      },
      "outputs": [],
      "source": [
        ""
      ]
    }
  ],
  "metadata": {
    "_change_revision": 0,
    "_is_fork": false,
    "kernelspec": {
      "display_name": "Python 3",
      "language": "python",
      "name": "python3"
    },
    "language_info": {
      "codemirror_mode": {
        "name": "ipython",
        "version": 3
      },
      "file_extension": ".py",
      "mimetype": "text/x-python",
      "name": "python",
      "nbconvert_exporter": "python",
      "pygments_lexer": "ipython3",
      "version": "3.6.0"
    }
  },
  "nbformat": 4,
  "nbformat_minor": 0
}