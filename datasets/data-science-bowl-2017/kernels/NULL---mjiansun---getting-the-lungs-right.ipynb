{
  "cells": [
    {
      "cell_type": "markdown",
      "metadata": {
        "_cell_guid": "737311e7-33e1-c995-09e8-450189fd54b1"
      },
      "source": [
        "[@gzuidhof][1] 's [tutorial][2] inspired me a lot. So, I tried to experiment on segmenting lungs.\n",
        "\n",
        "  [1]: https://www.kaggle.com/gzuidhof\n",
        "  [2]: https://www.kaggle.com/gzuidhof/data-science-bowl-2017/full-preprocessing-tutorial"
      ]
    },
    {
      "cell_type": "code",
      "execution_count": null,
      "metadata": {
        "_cell_guid": "8c9ff9a9-7dc0-4e58-6e39-937ff7988a5e"
      },
      "outputs": [],
      "source": [
        "# Standard imports\n",
        "import numpy as np\n",
        "import pandas as pd\n",
        "import os\n",
        "import glob\n",
        "import cv2\n",
        "\n",
        "# Imaging libraries\n",
        "import matplotlib.pyplot as plt\n",
        "%matplotlib inline\n",
        "#import seaborn as sns\n",
        "#p = sns.color_palette()\n",
        "import plotly.offline as py\n",
        "import plotly.graph_objs as go\n",
        "py.init_notebook_mode(connected=True)\n",
        "\n",
        "# Pandas configuration\n",
        "pd.set_option('display.max_columns', None)\n",
        "print('OK.')\n",
        "print(cv2.__version__)"
      ]
    },
    {
      "cell_type": "code",
      "execution_count": null,
      "metadata": {
        "_cell_guid": "ca064bb4-2c2a-c5da-b866-8f172d71c0ea"
      },
      "outputs": [],
      "source": [
        "# get patients list\n",
        "import dicom\n",
        "dicom_root = '../input/sample_images/'\n",
        "patients = [ x for x in os.listdir(dicom_root) if len(x)==32 ]\n",
        "print('Patient count: {}'.format(len(patients)))"
      ]
    },
    {
      "cell_type": "markdown",
      "metadata": {
        "_cell_guid": "546b8575-82e3-6395-c259-d69ecd808c87"
      },
      "source": [
        "Now, try to correct DICOM rescaling the right way. Load patient function will give rescaling applied slices."
      ]
    },
    {
      "cell_type": "code",
      "execution_count": null,
      "metadata": {
        "_cell_guid": "bf2625d0-b480-43e8-21b6-f4438b725027"
      },
      "outputs": [],
      "source": [
        "# DICOM rescale correction\n",
        "def rescale_correction(s):\n",
        "    s.image = s.pixel_array * s.RescaleSlope + s.RescaleIntercept\n",
        "\n",
        "# Returns a list of images for that patient_id, in ascending order of Slice Location\n",
        "# The pre-processed images are stored in \".image\" attribute\n",
        "def load_patient(patient_id):\n",
        "    files = glob.glob(dicom_root + '/{}/*.dcm'.format(patient_id))\n",
        "    slices = []\n",
        "    for f in files:\n",
        "        dcm = dicom.read_file(f)\n",
        "        rescale_correction(dcm)\n",
        "        # TODO: spacing eq.\n",
        "        slices.append(dcm)\n",
        "    \n",
        "    slices = sorted(slices, key=lambda x: x.SliceLocation)\n",
        "    return slices"
      ]
    },
    {
      "cell_type": "markdown",
      "metadata": {
        "_cell_guid": "9faf561e-0aac-879c-8b18-28ef2fb8f43b"
      },
      "source": [
        "Now, try to segment and visualise some lungs..."
      ]
    },
    {
      "cell_type": "code",
      "execution_count": null,
      "metadata": {
        "_cell_guid": "1798c26d-fb63-69a0-bab5-65e7344b76b3"
      },
      "outputs": [],
      "source": [
        "# Load a patient\n",
        "for patient_no in patients:\n",
        "    pat = load_patient(patient_no)\n",
        "    print(patient_no)\n",
        "\n",
        "    img = pat[ int(len(pat)/2) ].image.copy()\n",
        "\n",
        "    # threshold HU > -300\n",
        "    img[img>-300] = 255\n",
        "    img[img<-300] = 0\n",
        "    img = np.uint8(img)\n",
        "\n",
        "    # find surrounding torso from the threshold and make a mask\n",
        "    im2, contours, _ = cv2.findContours(img,cv2.RETR_LIST,cv2.CHAIN_APPROX_SIMPLE)\n",
        "    largest_contour = max(contours, key=cv2.contourArea)\n",
        "    mask = np.zeros(img.shape, np.uint8)\n",
        "    cv2.fillPoly(mask, [largest_contour], 255)\n",
        "\n",
        "    # apply mask to threshold image to remove outside. this is our new mask\n",
        "    img = ~img\n",
        "    img[(mask == 0)] = 0 # <-- Larger than threshold value\n",
        "\n",
        "    # apply closing to the mask\n",
        "    kernel = cv2.getStructuringElement(cv2.MORPH_ELLIPSE,(15,15))\n",
        "    img = cv2.morphologyEx(img, cv2.MORPH_OPEN, kernel)  # <- to remove speckles...\n",
        "    img = cv2.morphologyEx(img, cv2.MORPH_DILATE, kernel)\n",
        "    img = cv2.morphologyEx(img, cv2.MORPH_DILATE, kernel)\n",
        "    img = cv2.morphologyEx(img, cv2.MORPH_CLOSE, kernel)\n",
        "    img = cv2.morphologyEx(img, cv2.MORPH_CLOSE, kernel)\n",
        "    img = cv2.morphologyEx(img, cv2.MORPH_ERODE, kernel)\n",
        "    img = cv2.morphologyEx(img, cv2.MORPH_ERODE, kernel)\n",
        "    \n",
        "    # apply mask to image\n",
        "    img2 = pat[ int(len(pat)/2) ].image.copy()\n",
        "    img2[(img == 0)] = -2000 # <-- Larger than threshold value\n",
        "\n",
        "    # closing\n",
        "    #sorted_contours = sorted(contours, key=cv2.contourArea, reverse=True)\n",
        "    #largest_contour = max(contours, key=cv2.contourArea)\n",
        "    #rgb = cv2.cvtColor(img,cv2.COLOR_GRAY2RGB)\n",
        "    #aaa = np.concatenate( sorted_contours[1:3] )\n",
        "    #cv2.drawContours(rgb, [cv2.convexHull(aaa)], -1, (0,255,0), 3)\n",
        "\n",
        "    plt.figure(figsize=(12, 12))\n",
        "    plt.subplot(131)\n",
        "    plt.imshow(pat[ int(len(pat)/2) ].image)\n",
        "    plt.subplot(132)\n",
        "    plt.imshow(img)\n",
        "    plt.subplot(133)\n",
        "    plt.imshow(img2)\n",
        "    plt.show()"
      ]
    },
    {
      "cell_type": "markdown",
      "metadata": {
        "_cell_guid": "88ea33aa-71a7-7927-de9c-a1c16c611760"
      },
      "source": [
        "Please note that, OpenCV libraries are faster then the ones on skimage. Not every feature is here or there, so both libraries are useful for me. But I prefer OpenCV for image processing. \n",
        "\n",
        "That's it for now. Please comment where to go from here to further. What should I do next?\n",
        "\n",
        "Thank you!"
      ]
    },
    {
      "cell_type": "code",
      "execution_count": null,
      "metadata": {
        "_cell_guid": "f06821f1-c6f2-5df8-a223-f8de7e8f75f2"
      },
      "outputs": [],
      "source": [
        ""
      ]
    }
  ],
  "metadata": {
    "_change_revision": 0,
    "_is_fork": false,
    "kernelspec": {
      "display_name": "Python 3",
      "language": "python",
      "name": "python3"
    },
    "language_info": {
      "codemirror_mode": {
        "name": "ipython",
        "version": 3
      },
      "file_extension": ".py",
      "mimetype": "text/x-python",
      "name": "python",
      "nbconvert_exporter": "python",
      "pygments_lexer": "ipython3",
      "version": "3.6.0"
    }
  },
  "nbformat": 4,
  "nbformat_minor": 0
}