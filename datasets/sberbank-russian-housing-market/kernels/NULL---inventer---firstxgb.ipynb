{
  "cells": [
    {
      "cell_type": "markdown",
      "metadata": {
        "_cell_guid": "4754df88-ad48-0ccb-7a5c-b00f55675a84"
      },
      "source": [
        "First Xgboost"
      ]
    },
    {
      "cell_type": "code",
      "execution_count": null,
      "metadata": {
        "_cell_guid": "a471c1a8-2d44-9fb5-5f28-5f34621e1c3b"
      },
      "outputs": [],
      "source": [
        "# This Python 3 environment comes with many helpful analytics libraries installed\n",
        "# It is defined by the kaggle/python docker image: https://github.com/kaggle/docker-python\n",
        "# For example, here's several helpful packages to load in \n",
        "\n",
        "import numpy as np # linear algebra\n",
        "import pandas as pd # data processing, CSV file I/O (e.g. pd.read_csv)\n",
        "\n",
        "# Input data files are available in the \"../input/\" directory.\n",
        "# For example, running this (by clicking run or pressing Shift+Enter) will list the files in the input directory\n",
        "\n",
        "from subprocess import check_output\n",
        "print(check_output([\"ls\", \"../input\"]).decode(\"utf8\"))\n",
        "\n",
        "# Any results you write to the current directory are saved as output."
      ]
    },
    {
      "cell_type": "code",
      "execution_count": null,
      "metadata": {
        "_cell_guid": "8d1feb9a-2181-26b8-84cc-10c505107be2"
      },
      "outputs": [],
      "source": [
        "import seaborn as sns\n",
        "from sklearn import model_selection, preprocessing\n",
        "from sklearn.preprocessing import Imputer\n",
        "from sklearn.model_selection import cross_val_score\n",
        "from sklearn import metrics\n",
        "from sklearn.model_selection import GridSearchCV\n",
        "from sklearn.linear_model import LinearRegression, Ridge\n",
        "from sklearn.linear_model import Lasso\n",
        "from sklearn.tree import DecisionTreeRegressor\n",
        "from sklearn.ensemble import RandomForestRegressor\n",
        "from sklearn.ensemble import GradientBoostingRegressor\n",
        "#import xgboost as xgb\n",
        "from xgboost.sklearn import XGBClassifier\n",
        "import matplotlib.pyplot as plt\n",
        "\n",
        "color = sns.color_palette()\n",
        "\n",
        "%matplotlib inline\n",
        "\n",
        "pd.options.mode.chained_assignment = None  # default='warn'\n",
        "pd.set_option('display.max_columns', 500)\n",
        "sns.set(style=\"white\", color_codes=True)\n",
        "\n",
        "pd.set_option('display.max_rows' , 500)"
      ]
    },
    {
      "cell_type": "code",
      "execution_count": null,
      "metadata": {
        "_cell_guid": "b6041b37-b63b-e46e-a684-12c5ebb576c4"
      },
      "outputs": [],
      "source": [
        "train_house_df = pd.read_csv('../input/train.csv')\n",
        "test_house_df = pd.read_csv('../input/test.csv')\n",
        "macro_df = pd.read_csv('../input/macro.csv')"
      ]
    },
    {
      "cell_type": "code",
      "execution_count": null,
      "metadata": {
        "_cell_guid": "2ec61325-aa8e-aec3-70a8-687e1c35c362"
      },
      "outputs": [],
      "source": [
        "macro_df.shape"
      ]
    },
    {
      "cell_type": "code",
      "execution_count": null,
      "metadata": {
        "_cell_guid": "d71bc155-b2a7-09c6-1f14-b401b9b98a18"
      },
      "outputs": [],
      "source": [
        "train_house_df.shape"
      ]
    },
    {
      "cell_type": "code",
      "execution_count": null,
      "metadata": {
        "_cell_guid": "a2c8f636-0624-a662-4707-0c505719ef0f"
      },
      "outputs": [],
      "source": [
        "test_house_df.shape"
      ]
    },
    {
      "cell_type": "code",
      "execution_count": null,
      "metadata": {
        "_cell_guid": "fe6b9ab7-e746-e5fb-d126-a8505e2a7fa4"
      },
      "outputs": [],
      "source": [
        "label_df = train_house_df['price_doc']\n",
        "\n",
        "feature_df = train_house_df.drop(['price_doc'], axis=1 )\n",
        "\n",
        "merge_df = feature_df.append(test_house_df)\n",
        "\n",
        "imp_column=['full_sq' , 'life_sq' , 'floor' , 'max_floor' , 'num_room' , 'kitch_sq' , 'state' , 'build_year' , 'material']"
      ]
    },
    {
      "cell_type": "code",
      "execution_count": null,
      "metadata": {
        "_cell_guid": "dee48cec-20e6-80a5-64d1-1d6d7fc2d968"
      },
      "outputs": [],
      "source": [
        "imp  =  Imputer(missing_values='NaN' ,strategy='most_frequent' , axis=0)\n",
        "\n",
        "merge_df[['state','material']] = imp.fit_transform(merge_df[['state','material']])"
      ]
    },
    {
      "cell_type": "code",
      "execution_count": null,
      "metadata": {
        "_cell_guid": "ff6e13fb-5d82-f63a-6010-77b901249afc"
      },
      "outputs": [],
      "source": [
        "imp  =  Imputer(missing_values='NaN' ,strategy='median' , axis=0)\n",
        "merge_df[['life_sq','max_floor' , 'num_room','kitch_sq']] = imp.fit_transform(merge_df[['life_sq','max_floor' , 'num_room','kitch_sq']])\n",
        "\n",
        "imp  =  Imputer(missing_values='NaN' ,strategy='median' , axis=0)\n",
        "\n",
        "merge_df['floor'] = imp.fit_transform(merge_df['floor'].values.reshape(-1, 1))"
      ]
    },
    {
      "cell_type": "code",
      "execution_count": null,
      "metadata": {
        "_cell_guid": "b68196e6-e655-bb7b-3239-154927f3a77b"
      },
      "outputs": [],
      "source": [
        "merge_df['build_year'][merge_df['build_year'] <= 1600]=2014\n",
        "\n",
        "merge_df['build_year'][merge_df['build_year'] > 2050]=2014\n",
        "\n",
        "merge_df['house_age'] = 2020  - merge_df['build_year']\n",
        "\n",
        "imp_column.append('house_age')"
      ]
    },
    {
      "cell_type": "code",
      "execution_count": null,
      "metadata": {
        "_cell_guid": "dce57190-7c86-ab76-197d-6e0c68397b96"
      },
      "outputs": [],
      "source": [
        "imp  =  Imputer(missing_values='NaN' ,strategy='median' , axis=0)\n",
        "\n",
        "merge_df['house_age'] = imp.fit_transform(merge_df['house_age'].values.reshape(-1, 1))\n",
        "\n",
        "imp_column.remove('build_year')"
      ]
    },
    {
      "cell_type": "code",
      "execution_count": null,
      "metadata": {
        "_cell_guid": "7a2c38e0-e790-14a8-1bbd-d872266aadb1"
      },
      "outputs": [],
      "source": [
        "merge_df['full_sq'][merge_df['full_sq']==0]= merge_df['full_sq'].median()\n",
        "merge_df['max_floor'][merge_df['max_floor']==0]= merge_df['floor']\n",
        "\n",
        "merge_df['life_sq_ratio']=merge_df['life_sq']/merge_df['full_sq']\n",
        "\n",
        "imp_column.remove('life_sq')\n",
        "\n",
        "imp_column.append('life_sq_ratio')\n",
        "\n",
        "merge_df['floor_ratio']=merge_df['floor']/(merge_df['max_floor']+1)\n",
        "\n",
        "imp_column.remove('floor')\n",
        "imp_column.remove('max_floor')\n",
        "imp_column.append('floor_ratio')\n",
        "\n",
        "merge_df['kitch_sq_ratio']=merge_df['kitch_sq']/merge_df['full_sq']\n",
        "\n",
        "imp_column.remove('kitch_sq')\n",
        "imp_column.append('kitch_sq_ratio')\n",
        "\n",
        "merge_df['log_full_sq']=np.log1p(merge_df['full_sq'])\n",
        "\n",
        "imp_column.remove('full_sq')\n",
        "imp_column.append('log_full_sq')\n",
        "imp_column.append('id')"
      ]
    },
    {
      "cell_type": "code",
      "execution_count": null,
      "metadata": {
        "_cell_guid": "556b4b78-c79d-252b-a64e-2b8390747bb7"
      },
      "outputs": [],
      "source": [
        "imp_column"
      ]
    },
    {
      "cell_type": "code",
      "execution_count": null,
      "metadata": {
        "_cell_guid": "84e4ee0f-b1ef-987d-c96b-12b29a70005b"
      },
      "outputs": [],
      "source": [
        "merge_df.drop(['hospital_beds_raion' , 'cafe_sum_500_min_price_avg' , 'cafe_sum_500_max_price_avg' , 'cafe_avg_price_500'],inplace=True)"
      ]
    },
    {
      "cell_type": "code",
      "execution_count": null,
      "metadata": {
        "_cell_guid": "001f8114-7de8-2d92-7c67-014e2b6b3682"
      },
      "outputs": [],
      "source": [
        "macro_cat_columns  = macro_df.select_dtypes(exclude=['float64' , 'int64']).columns\n",
        "\n",
        "macro_num_columns  = macro_df.select_dtypes(include=['float64' , 'int64']).columns\n",
        "\n",
        "from sklearn.preprocessing import Imputer\n",
        "\n",
        "imp  =  Imputer(missing_values='NaN' ,strategy='median' , axis=0)\n",
        "\n",
        "macro_df[macro_num_columns] = imp.fit_transform(macro_df[macro_num_columns])"
      ]
    },
    {
      "cell_type": "code",
      "execution_count": null,
      "metadata": {
        "_cell_guid": "082fe684-efc9-7047-9ac4-539534f632df"
      },
      "outputs": [],
      "source": [
        "remove_column=['full_sq' , 'life_sq' , 'floor' , 'max_floor' , 'num_room' , 'kitch_sq' , 'state' , 'build_year' , 'material']\n",
        "other_column =  feature_df.columns.drop(remove_column)\n",
        "\n",
        "cat_columns  = merge_df[other_column].select_dtypes(exclude=['float64' , 'int64']).columns\n",
        "\n",
        "num_columns  = merge_df[other_column].select_dtypes(include=['float64' , 'int64']).columns"
      ]
    },
    {
      "cell_type": "code",
      "execution_count": null,
      "metadata": {
        "_cell_guid": "e8dbebb2-147d-6f6a-c418-adc17ef4329e"
      },
      "outputs": [],
      "source": [
        "macro_num_columns_required=['oil_urals', 'balance_trade', 'balance_trade_growth', 'eurrub',\n",
        "       'net_capital_export', 'micex_rgbi_tr', 'micex_cbi_tr', 'deposits_rate',\n",
        "       'mortgage_value', 'rent_price_3room_bus', 'power_clinics',\n",
        "       'seats_theather_rfmin_per_100000_cap']\n",
        "\n",
        "imp  =  Imputer(missing_values='NaN' ,strategy='median' , axis=0)\n",
        "\n",
        "merge_df[num_columns] = imp.fit_transform(merge_df[num_columns])\n",
        "\n",
        "merge_df['product_type'][merge_df['product_type'].isnull()]='Investment'\n",
        "\n",
        "macro_df['child_on_acc_pre_school'][macro_df['child_on_acc_pre_school']=='#!']='18,200'\n",
        "\n",
        "macro_df['child_on_acc_pre_school'][macro_df['child_on_acc_pre_school'].isnull()]='18,200'\n",
        "\n",
        "macro_df['modern_education_share'][macro_df['modern_education_share'].isnull()]='93,17'\n",
        "\n",
        "macro_df['old_education_build_share'][macro_df['old_education_build_share'].isnull()]='18,95'"
      ]
    },
    {
      "cell_type": "code",
      "execution_count": null,
      "metadata": {
        "_cell_guid": "c01844b4-8406-c22c-463c-e08341dbfbd2"
      },
      "outputs": [],
      "source": [
        "num_columns_required = ['green_part_500', 'prom_part_500', 'office_sqm_500', 'trc_count_500',\n",
        "       'trc_sqm_500', 'cafe_sum_500_min_price_avg',\n",
        "       'cafe_count_500_price_1000', 'cafe_count_500_price_4000',\n",
        "       'cafe_count_500_price_high', 'mosque_count_500', 'leisure_count_500',\n",
        "       'sport_count_500', 'market_count_500', 'prom_part_1000',\n",
        "       'office_sqm_1000', 'cafe_sum_1000_min_price_avg',\n",
        "       'cafe_count_1000_price_high', 'mosque_count_1000', 'market_count_1000',\n",
        "       'trc_sqm_1500', 'cafe_sum_1500_min_price_avg', 'mosque_count_1500',\n",
        "       'cafe_sum_2000_min_price_avg', 'mosque_count_2000', 'market_count_2000',\n",
        "       'mosque_count_3000', 'prom_part_5000', 'mosque_count_5000', 'female_f',\n",
        "       '7_14_female', 'build_count_1971-1995', 'green_zone_km',\n",
        "       'water_treatment_km', 'water_km', 'big_road1_km', 'railroad_km',\n",
        "       'fitness_km', 'additional_education_km', 'church_synagogue_km',\n",
        "       'catering_km']"
      ]
    },
    {
      "cell_type": "code",
      "execution_count": null,
      "metadata": {
        "_cell_guid": "f0b2fda7-2983-f977-439b-a5071d58001e"
      },
      "outputs": [],
      "source": [
        "main_merge_df  =  merge_df[imp_column]\n",
        "\n",
        "main_merge_df[cat_columns] = merge_df[cat_columns]\n",
        "\n",
        "main_merge_df[num_columns] = merge_df[num_columns]\n",
        "#main_merge_df[num_columns_required] = merge_df[num_columns_required]"
      ]
    },
    {
      "cell_type": "code",
      "execution_count": null,
      "metadata": {
        "_cell_guid": "e818c3ef-d035-1a8b-0a5f-e618442c0dad"
      },
      "outputs": [],
      "source": [
        "#macro_col_required=macro_num_columns_required+['child_on_acc_pre_school' , 'modern_education_share' , 'old_education_build_share']\n",
        "macro_col_required=macro_num_columns_required+macro_cat_columns.tolist()\n",
        "\n",
        "\n",
        "merge_macro_df = pd.merge(main_merge_df, macro_df[macro_col_required], on='timestamp') "
      ]
    },
    {
      "cell_type": "code",
      "execution_count": null,
      "metadata": {
        "_cell_guid": "4d191137-c48c-4b3b-066d-86709b525032"
      },
      "outputs": [],
      "source": [
        "from sklearn.preprocessing import LabelEncoder\n",
        "\n",
        "def createDummy(df , var_mod):\n",
        "    le = LabelEncoder()\n",
        "    #var_mod = ['PROD_ABBR','STATE_ABBR' ]\n",
        "    le = LabelEncoder()\n",
        "    for i in var_mod:\n",
        "        df[i] = le.fit_transform(df[i])\n",
        "\n",
        "    #One Hot Coding:\n",
        "    #df = pd.get_dummies(df, columns=var_mod)\n",
        "    return df"
      ]
    },
    {
      "cell_type": "code",
      "execution_count": null,
      "metadata": {
        "_cell_guid": "66a4e71d-f40a-ff45-3c34-00b447e3099b"
      },
      "outputs": [],
      "source": [
        "\n",
        "from sklearn.feature_selection import RFECV\n",
        "from sklearn.cross_validation import train_test_split\n",
        "\n",
        "all_feature_columns = merge_macro_df.columns.tolist()\n",
        "\n",
        "all_feature_columns.remove('timestamp')\n",
        "\n",
        "rowid=merge_macro_df['id'] \n",
        "\n",
        "model_house_df = merge_macro_df[all_feature_columns]\n",
        "\n",
        "model_house_df['id']=merge_macro_df['id']\n",
        "\n",
        "cat_columns_model  = model_house_df.select_dtypes(exclude=['float64' , 'int64']).columns\n",
        "\n",
        "num_columns_model = model_house_df.select_dtypes(include=['float64' , 'int64']).columns\n",
        "\n",
        "model_house_df['product_type'][model_house_df['product_type'].isnull()]='Investment'\n",
        "print(model_house_df.shape)\n",
        "\n",
        "var_mod = cat_columns_model.tolist()\n",
        "model_house_df = createDummy(model_house_df,var_mod)\n",
        "print(\"After Dummy Coding Shape\"+str(model_house_df.shape))\n",
        "\n",
        "train_sequence = 30470\n",
        "train_house_model_df  = model_house_df.loc[0:train_sequence]\n",
        "\n",
        "print(train_house_model_df.shape)\n",
        "\n",
        "\n",
        "#train_house_model_df['price_doc'] = np.log1p(label_df.values)\n",
        "test_house_df  = model_house_df.loc[(train_sequence+1):len(model_house_df)]\n",
        "\n",
        "print(test_house_df.shape)\n"
      ]
    },
    {
      "cell_type": "code",
      "execution_count": null,
      "metadata": {
        "_cell_guid": "b05c5200-a912-0259-12b9-4f658ce4f0d0"
      },
      "outputs": [],
      "source": [
        "import xgboost as xgb\n",
        "target = 'price_doc'\n",
        "IDcol = ['id']\n",
        "index=0\n",
        "removeColumn =[ ]\n",
        "predictors = [x for x in train_house_model_df.columns if x not in [target]+IDcol+removeColumn]\n",
        "\n",
        "xgb_params = {\n",
        "    'eta': 0.05,\n",
        "    'max_depth': 5,\n",
        "    'subsample': 0.7,\n",
        "    'colsample_bytree': 0.7,\n",
        "    'objective': 'reg:linear',\n",
        "    'eval_metric': 'rmse',\n",
        "    'silent': 1\n",
        "}\n",
        "\n",
        "dtrain = xgb.DMatrix(train_house_model_df[predictors], label_df, feature_names=predictors)\n",
        "dtest = xgb.DMatrix(test_house_df[predictors], feature_names=predictors)"
      ]
    },
    {
      "cell_type": "code",
      "execution_count": null,
      "metadata": {
        "_cell_guid": "670e4a33-aab3-9a7c-373c-a1bcf6222b59"
      },
      "outputs": [],
      "source": [
        "num_rounds = 100\n",
        "model = xgb.train(dict(xgb_params, silent=0), dtrain, num_rounds)"
      ]
    },
    {
      "cell_type": "code",
      "execution_count": null,
      "metadata": {
        "_cell_guid": "3f733e97-f725-1f48-6e16-22e665798a02"
      },
      "outputs": [],
      "source": [
        "dtrain_predictions = model.predict(dtrain)\n",
        "#print('predictors '+str(predictors))\n",
        "\n",
        "#Print model report:\n",
        "print (\"\\nModel Report\")\n",
        "print (\"RMSE : %.4g\" % np.sqrt(metrics.mean_squared_error(label_df.values, dtrain_predictions)))"
      ]
    },
    {
      "cell_type": "code",
      "execution_count": null,
      "metadata": {
        "_cell_guid": "a33a7939-51b4-cccd-59db-f4cf7d317808"
      },
      "outputs": [],
      "source": [
        "# plot the important features #\n",
        "from xgboost import plot_importance\n",
        "\n",
        "fig, ax = plt.subplots(figsize=(12,18))\n",
        "xgb.plot_importance(model, max_num_features=60, height=0.8, ax=ax)\n",
        "plt.show()"
      ]
    },
    {
      "cell_type": "code",
      "execution_count": null,
      "metadata": {
        "_cell_guid": "29e5c14a-3ae5-94b2-a86b-dfc1b691e04a"
      },
      "outputs": [],
      "source": [
        "feat_imp = pd.Series(model.get_fscore())"
      ]
    },
    {
      "cell_type": "code",
      "execution_count": null,
      "metadata": {
        "_cell_guid": "0e6eaa8f-9f26-b04b-d1ff-1ff5ca9f3937"
      },
      "outputs": [],
      "source": [
        "selected_alg_columns = feat_imp.sort_values(ascending=False).index[0:70].tolist()"
      ]
    },
    {
      "cell_type": "code",
      "execution_count": null,
      "metadata": {
        "_cell_guid": "35a8bf92-27ed-1108-1103-2e5adeb8f0ec"
      },
      "outputs": [],
      "source": [
        "selected_alg_columns"
      ]
    },
    {
      "cell_type": "code",
      "execution_count": null,
      "metadata": {
        "_cell_guid": "0e28883d-d55e-fd75-588e-016c866b4b80"
      },
      "outputs": [],
      "source": [
        "dtrain = xgb.DMatrix(train_house_model_df[selected_alg_columns], label_df, feature_names=selected_alg_columns)\n",
        "dtest = xgb.DMatrix(test_house_df[selected_alg_columns], feature_names=selected_alg_columns)\n"
      ]
    },
    {
      "cell_type": "code",
      "execution_count": null,
      "metadata": {
        "_cell_guid": "5d47e538-0cc3-0e15-4425-b2d1c59402c3"
      },
      "outputs": [],
      "source": [
        "from sklearn.model_selection import GridSearchCV\n",
        "from xgboost.sklearn import XGBRegressor\n",
        "param_test2 = {\n",
        "'subsample':[i/10.0 for i in range(6,10)],\n",
        " 'colsample_bytree':[i/10.0 for i in range(6,10)]\n",
        " }\n",
        "gsearch2 = GridSearchCV(estimator = XGBRegressor( learning_rate=0.05, n_estimators=150, max_depth=10,\n",
        " min_child_weight=6, subsample=0.7, colsample_bytree=0.7,\n",
        " objective= 'reg:linear', seed=27), \n",
        " param_grid = param_test2, scoring='neg_mean_squared_error',n_jobs=4,iid=False, cv=5)\n",
        "gsearch2.fit(train_house_model_df[selected_alg_columns],label_df)\n",
        "gsearch2.grid_scores_, gsearch2.best_params_, gsearch2.best_score_"
      ]
    },
    {
      "cell_type": "code",
      "execution_count": null,
      "metadata": {
        "_cell_guid": "df12081f-05f6-4789-c207-f1300279eca2"
      },
      "outputs": [],
      "source": [
        "#Print model report:\n",
        "xgb_params = {\n",
        "    'eta': 0.05,\n",
        "    'max_depth': 10,\n",
        "    'subsample': 0.7,\n",
        "    'colsample_bytree': 0.7,\n",
        "    'objective': 'reg:linear',\n",
        "    'eval_metric': 'rmse',\n",
        "    'silent': 1,\n",
        "    'min_child_weight':6\n",
        "    }\n",
        "num_rounds=500\n",
        "dtrain = xgb.DMatrix(train_house_model_df[selected_alg_columns], label_df, feature_names=selected_alg_columns)\n",
        "dtest = xgb.DMatrix(test_house_df[selected_alg_columns], feature_names=selected_alg_columns)\n",
        "\n",
        "CV_model = xgb.train(dict(xgb_params, silent=0), dtrain, num_rounds)\n",
        "dtrain_predictions = CV_model.predict(dtrain)\n",
        "print (\"\\nModel Report\")\n",
        "print (\"RMSE : %.4g\" % np.sqrt(metrics.mean_squared_error(label_df.values, dtrain_predictions)))"
      ]
    },
    {
      "cell_type": "code",
      "execution_count": null,
      "metadata": {
        "_cell_guid": "886bb722-7d6e-eb5b-163d-19eea40adde8"
      },
      "outputs": [],
      "source": [
        "y_predict = CV_model.predict(dtest)\n",
        "output = pd.DataFrame({'id': test_house_df['id'].astype(int), 'price_doc': y_predict})\n",
        "output.head()\n",
        "\n",
        "output.to_csv('Sub_feat_try_1.csv', index=False)"
      ]
    }
  ],
  "metadata": {
    "_change_revision": 0,
    "_is_fork": false,
    "kernelspec": {
      "display_name": "Python 3",
      "language": "python",
      "name": "python3"
    },
    "language_info": {
      "codemirror_mode": {
        "name": "ipython",
        "version": 3
      },
      "file_extension": ".py",
      "mimetype": "text/x-python",
      "name": "python",
      "nbconvert_exporter": "python",
      "pygments_lexer": "ipython3",
      "version": "3.6.0"
    }
  },
  "nbformat": 4,
  "nbformat_minor": 0
}