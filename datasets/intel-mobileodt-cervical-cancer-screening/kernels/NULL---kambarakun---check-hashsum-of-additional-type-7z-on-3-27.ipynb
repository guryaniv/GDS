{
  "cells": [
    {
      "cell_type": "markdown",
      "metadata": {
        "_cell_guid": "8976fb60-84c2-b3a7-7dab-64c3e4dac616"
      },
      "source": [
        "I check these hashsum on Colfax Cluster (/data/kaggle_3.27).  \n",
        "These files may be temporary, but useful for you to verify your download 7z files."
      ]
    },
    {
      "cell_type": "code",
      "execution_count": null,
      "metadata": {
        "_cell_guid": "3c9c6918-1beb-9490-2c7c-99510ee0bd07"
      },
      "outputs": [],
      "source": [
        "'''\n",
        "$ cd /data/kaggle_3.27\n",
        "$ md5sum additional_Type_*.7z\n",
        "0fbc8e8a9c6846b0da96c06890f3189b  additional_Type_1.7z\n",
        "38bf446a2b66a2d20fc7a4c6d9089131  additional_Type_2.7z (broken)\n",
        "b8e4b1d54eb1589cf6b3f81967096662  additional_Type_3.7z\n",
        "$ sha1sum additional_Type_*.7z\n",
        "74a05f87303b115a9c226568711597a1360a9d4e  additional_Type_1.7z\n",
        "1721366bea847c2dcd1a84cbe84453b51695daad  additional_Type_2.7z (broken)\n",
        "793f0f351ce4540b7f546244d8e586b200d1c458  additional_Type_3.7z\n",
        "'''\n",
        "pass"
      ]
    },
    {
      "cell_type": "markdown",
      "metadata": {
        "_cell_guid": "51f2fb33-2259-0373-b521-1416fedce6c2"
      },
      "source": [
        "additional_Type_2.7z on Colfax Cluster is broken (see comment).  \n",
        "additional_Type_2.7z on kaggle's web page is not broken.  "
      ]
    },
    {
      "cell_type": "code",
      "execution_count": null,
      "metadata": {
        "_cell_guid": "64494718-0838-2ffd-873e-ce23cad41380"
      },
      "outputs": [],
      "source": [
        "'''\n",
        "$ openssl md5 additional_Type_2.7z \n",
        "MD5(additional_Type_2.7z)= ee6c378c086bb3e77cda29b1bf4828d6\n",
        "$ openssl sha1 additional_Type_2.7z \n",
        "SHA1(additional_Type_2.7z)= 4495bf9e7de477ba64daf01e3be6e04ecbc6151a\n",
        "'''\n",
        "pass"
      ]
    }
  ],
  "metadata": {
    "_change_revision": 0,
    "_is_fork": false,
    "kernelspec": {
      "display_name": "Python 3",
      "language": "python",
      "name": "python3"
    },
    "language_info": {
      "codemirror_mode": {
        "name": "ipython",
        "version": 3
      },
      "file_extension": ".py",
      "mimetype": "text/x-python",
      "name": "python",
      "nbconvert_exporter": "python",
      "pygments_lexer": "ipython3",
      "version": "3.6.0"
    }
  },
  "nbformat": 4,
  "nbformat_minor": 0
}