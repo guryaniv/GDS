{
  "cells": [
    {
      "cell_type": "markdown",
      "metadata": {
        "_cell_guid": "602d020f-56f1-0ad2-6d0e-329da883549d"
      },
      "source": [
        "Intro\n",
        "-----\n",
        "\n",
        "Quora is a Community Question Answering site that covers a wide range of topics. The dataset consists of pairs of questions that are similar and therefore a previous answer may exists using a different wording. \n",
        "\n",
        "The dataset is divided into training and testing sets, Training dataset contains about 404.290 questions pairs that are marked as duplicated or no. Tipically duplicated questions are less common than not duplicated questions, so the dataset is unbalanced. Test set contains XX questions pairs, but an indeterminate number of questions have been created for the competition in order to prevent cheating. \n",
        "\n",
        "\n",
        "\n",
        "Other info\n",
        "----------\n",
        "\n",
        "The problem resembles other related problems like Textual Entailment or even detecting paraphrased sentences, so similar techniques may also work here. \n"
      ]
    },
    {
      "cell_type": "code",
      "execution_count": null,
      "metadata": {
        "_cell_guid": "58b23cff-d447-4595-e355-2d0ef8eadba5"
      },
      "outputs": [],
      "source": [
        "# This Python 3 environment comes with many helpful analytics libraries installed\n",
        "# It is defined by the kaggle/python docker image: https://github.com/kaggle/docker-python\n",
        "# For example, here's several helpful packages to load in \n",
        "\n",
        "import numpy as np # linear algebra\n",
        "import pandas as pd # data processing, CSV file I/O (e.g. pd.read_csv)\n",
        "import seaborn as sns\n",
        "import matplotlib.pyplot as plt\n",
        "\n",
        "from subprocess import check_output\n",
        "print(check_output([\"ls\", \"../input\"]).decode(\"utf8\"))\n",
        "\n",
        "# Any results you write to the current directory are saved as output."
      ]
    },
    {
      "cell_type": "code",
      "execution_count": null,
      "metadata": {
        "_cell_guid": "1daaa68e-bd1e-d898-3a34-40de7a5ded66"
      },
      "outputs": [],
      "source": [
        "%matplotlib inline"
      ]
    },
    {
      "cell_type": "code",
      "execution_count": null,
      "metadata": {
        "_cell_guid": "9a9229eb-a92d-f096-1b79-fd480e28bb68"
      },
      "outputs": [],
      "source": [
        "df_train = pd.read_csv(\"../input/train.csv\").fillna(\"\")\n",
        "df_test = pd.read_csv(\"../input/test.csv\").fillna(\"\")\n",
        "\n",
        "df_train.head() "
      ]
    },
    {
      "cell_type": "markdown",
      "metadata": {
        "_cell_guid": "188f3518-4db1-5b0c-8653-eb7d2d434952"
      },
      "source": [
        "We have six columns: \n",
        "\n",
        "   - **id** : question pair id, mnus be unique in dataset  \n",
        "   - **qid1**, **qid2** : question id, may appear several times in the dataset \n",
        "   - **question1**, **question2** :  this is the text of the questions \n",
        "   - **is_duplicate** :  this marks if the questions are similar(*1*) or not (*0*)  "
      ]
    },
    {
      "cell_type": "code",
      "execution_count": null,
      "metadata": {
        "_cell_guid": "f833ecf8-097b-7d07-541d-adb5d3a00585"
      },
      "outputs": [],
      "source": [
        "df_train.info()"
      ]
    },
    {
      "cell_type": "code",
      "execution_count": null,
      "metadata": {
        "_cell_guid": "0715124d-c110-2962-e663-5ea1cb73f028"
      },
      "outputs": [],
      "source": [
        "df_train.shape"
      ]
    },
    {
      "cell_type": "code",
      "execution_count": null,
      "metadata": {
        "_cell_guid": "bc409325-9f1e-3d99-c81b-e8634a04964e"
      },
      "outputs": [],
      "source": [
        "df_test.head()"
      ]
    },
    {
      "cell_type": "code",
      "execution_count": null,
      "metadata": {
        "_cell_guid": "d3441123-64aa-3a51-c9f7-5c9d30fc07c1"
      },
      "outputs": [],
      "source": [
        "df_test.info()"
      ]
    },
    {
      "cell_type": "code",
      "execution_count": null,
      "metadata": {
        "_cell_guid": "fb8ae42d-2821-a71a-da34-a1f736b91583"
      },
      "outputs": [],
      "source": [
        "df_test.shape"
      ]
    },
    {
      "cell_type": "markdown",
      "metadata": {
        "_cell_guid": "e49d9966-b31d-05dd-02af-2f7484003d68"
      },
      "source": [
        "The test dataset is simpler and it only contains three fields **test_id**, **question1** and **question2**. As noted by others, some of the questions have no correct syntax or meaning as they have been automatically generated. Better not user any of this info for training or even error analysis. \n",
        "\n",
        "The test set contains 2M question pairs in total. "
      ]
    },
    {
      "cell_type": "code",
      "execution_count": null,
      "metadata": {
        "_cell_guid": "9a7ad0fa-1a9a-fe96-3cef-2ecfc818badc"
      },
      "outputs": [],
      "source": [
        "df_train.groupby(\"is_duplicate\")['id'].count().plot.bar()"
      ]
    },
    {
      "cell_type": "code",
      "execution_count": null,
      "metadata": {
        "_cell_guid": "df8450f7-5f5f-6342-2304-74c2e08d877f"
      },
      "outputs": [],
      "source": [
        "df_train['is_duplicate'].mean()"
      ]
    },
    {
      "cell_type": "markdown",
      "metadata": {
        "_cell_guid": "1839261f-6e2a-1b63-7335-469d909ba9c6"
      },
      "source": [
        "1 of every 3 questions is duplicate. "
      ]
    },
    {
      "cell_type": "code",
      "execution_count": null,
      "metadata": {
        "_cell_guid": "bc82970c-e63c-9b5b-4730-504f692126d4"
      },
      "outputs": [],
      "source": [
        "quids = pd.Series(df_train['qid1'].tolist() + df_train['qid2'].tolist())\n",
        "quids.unique().shape[0]"
      ]
    },
    {
      "cell_type": "code",
      "execution_count": null,
      "metadata": {
        "_cell_guid": "a30d3a6d-bc8a-fb59-1e8f-fe8b847f3ecb"
      },
      "outputs": [],
      "source": [
        "quids.value_counts().plot.hist(bins = 50, \n",
        "                               logy = True, \n",
        "                               title = 'Log-Histogram of question appearance counts'\n",
        "                              )"
      ]
    },
    {
      "cell_type": "markdown",
      "metadata": {
        "_cell_guid": "db008006-4a25-607e-98e5-b0a44e639319"
      },
      "source": [
        "# Dummy baseline submission"
      ]
    },
    {
      "cell_type": "code",
      "execution_count": null,
      "metadata": {
        "_cell_guid": "a413da1f-19a4-1420-3792-0359846e4215"
      },
      "outputs": [],
      "source": [
        "from sklearn.metrics import log_loss\n"
      ]
    },
    {
      "cell_type": "code",
      "execution_count": null,
      "metadata": {
        "_cell_guid": "5cb047eb-fea9-7891-2b3e-cdb80d012faa"
      },
      "outputs": [],
      "source": [
        "p = df_train['is_duplicate'].mean()"
      ]
    },
    {
      "cell_type": "code",
      "execution_count": null,
      "metadata": {
        "_cell_guid": "460c8b98-df0e-4e89-2d39-5ad0940f7da3"
      },
      "outputs": [],
      "source": [
        "p"
      ]
    },
    {
      "cell_type": "code",
      "execution_count": null,
      "metadata": {
        "_cell_guid": "f299ad0c-c628-541d-12a0-e9998d976081"
      },
      "outputs": [],
      "source": [
        " log_loss(df_train['is_duplicate'], np.zeros_like(df_train['is_duplicate']) + p)"
      ]
    },
    {
      "cell_type": "code",
      "execution_count": null,
      "metadata": {
        "_cell_guid": "26b534f2-9ed1-a48d-efbf-2bea2da6f331"
      },
      "outputs": [],
      "source": [
        "sub = pd.DataFrame({'test_id': df_test['test_id'], 'is_duplicate': p})\n",
        "sub.to_csv('naive_submission.csv', index=False)\n",
        "sub.head()"
      ]
    },
    {
      "cell_type": "code",
      "execution_count": null,
      "metadata": {
        "_cell_guid": "d22cf7c8-6575-4029-cae6-a5626abbe0fa"
      },
      "outputs": [],
      "source": [
        "print(check_output([\"ls\", \"../output\"]).decode(\"utf8\"))"
      ]
    },
    {
      "cell_type": "code",
      "execution_count": null,
      "metadata": {
        "_cell_guid": "b1780630-0d4b-653b-e900-ae0b7f90d3b6"
      },
      "outputs": [],
      "source": ""
    }
  ],
  "metadata": {
    "_change_revision": 0,
    "_is_fork": false,
    "kernelspec": {
      "display_name": "Python 3",
      "language": "python",
      "name": "python3"
    },
    "language_info": {
      "codemirror_mode": {
        "name": "ipython",
        "version": 3
      },
      "file_extension": ".py",
      "mimetype": "text/x-python",
      "name": "python",
      "nbconvert_exporter": "python",
      "pygments_lexer": "ipython3",
      "version": "3.6.0"
    }
  },
  "nbformat": 4,
  "nbformat_minor": 0
}