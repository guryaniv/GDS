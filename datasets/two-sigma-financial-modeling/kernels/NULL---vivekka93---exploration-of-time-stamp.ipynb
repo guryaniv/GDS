{
  "cells": [
    {
      "cell_type": "code",
      "execution_count": null,
      "metadata": {
        "_cell_guid": "eb559a45-3fd0-886f-fbe8-04f5c620faaa"
      },
      "outputs": [],
      "source": [
        "# This Python 3 environment comes with many helpful analytics libraries installed\n",
        "# It is defined by the kaggle/python docker image: https://github.com/kaggle/docker-python\n",
        "# For example, here's several helpful packages to load in \n",
        "\n",
        "import numpy as np # linear algebra\n",
        "import pandas as pd # data processing, CSV file I/O (e.g. pd.read_csv)\n",
        "\n",
        "# Input data files are available in the \"../input/\" directory.\n",
        "# For example, running this (by clicking run or pressing Shift+Enter) will list the files in the input directory\n",
        "\n",
        "from subprocess import check_output\n",
        "print(check_output([\"ls\", \"../input\"]).decode(\"utf8\"))\n",
        "\n",
        "# Any results you write to the current directory are saved as output."
      ]
    },
    {
      "cell_type": "markdown",
      "metadata": {
        "_cell_guid": "41e44728-2385-2e17-a6f9-4ac8f065c08f"
      },
      "source": [
        "Loading the dataset"
      ]
    },
    {
      "cell_type": "code",
      "execution_count": null,
      "metadata": {
        "_cell_guid": "28462c6c-a727-fc85-c715-e6f1caa8b5d3"
      },
      "outputs": [],
      "source": [
        "with pd.HDFStore(\"../input/train.h5\", \"r\") as train:\n",
        "    df = train.get(\"train\")"
      ]
    },
    {
      "cell_type": "code",
      "execution_count": null,
      "metadata": {
        "_cell_guid": "da832a08-7e42-593c-1a3f-22f7162250c7"
      },
      "outputs": [],
      "source": [
        "pd.set_option('display.max_columns', None)\n",
        "import matplotlib.pyplot as plt\n",
        "import seaborn as sns\n",
        "%matplotlib inline\n",
        "%pylab inline\n",
        "pylab.rcParams['figure.figsize'] = (12, 8)"
      ]
    },
    {
      "cell_type": "code",
      "execution_count": null,
      "metadata": {
        "_cell_guid": "1e97231b-1c71-8b64-9cf6-d45fdd485da6"
      },
      "outputs": [],
      "source": [
        "df.head(2)"
      ]
    },
    {
      "cell_type": "code",
      "execution_count": null,
      "metadata": {
        "_cell_guid": "e573580b-2ddb-f7d8-171e-e3c245f817ef"
      },
      "outputs": [],
      "source": [
        "df['id'].nunique()"
      ]
    },
    {
      "cell_type": "markdown",
      "metadata": {
        "_cell_guid": "a5dce7c9-28d0-5734-b054-0d4676f8c20f"
      },
      "source": [
        "There seems to be 1424 devices in total. Let's look at the time stamp counts of each device"
      ]
    },
    {
      "cell_type": "code",
      "execution_count": null,
      "metadata": {
        "_cell_guid": "6d7baa44-fd8c-6aac-f2fd-b9a294155c28"
      },
      "outputs": [],
      "source": [
        "df.id.value_counts().hist(bins = 100)"
      ]
    },
    {
      "cell_type": "markdown",
      "metadata": {
        "_cell_guid": "03366bdf-896c-fb79-055c-c54f44eafb54"
      },
      "source": [
        "One-third of the devices have around 1800 time stamps, while the rest have different numbers."
      ]
    },
    {
      "cell_type": "markdown",
      "metadata": {
        "_cell_guid": "7be95101-d6c0-c8b1-0aad-8b4ecf8b571b"
      },
      "source": [
        "Let us look at the distribution of target attribute"
      ]
    },
    {
      "cell_type": "code",
      "execution_count": null,
      "metadata": {
        "_cell_guid": "81badef7-cbdd-9908-428c-949c814a0272"
      },
      "outputs": [],
      "source": [
        "plt.hist(df['y'], bins = 100)\n",
        "plt.xlabel('Target attribute (y)')\n",
        "plt.ylabel('Count')"
      ]
    },
    {
      "cell_type": "markdown",
      "metadata": {
        "_cell_guid": "37b2bdc5-23de-bc97-0167-d03287e077b6"
      },
      "source": [
        "While distribution on the whole seems to be normal, the spikes towards either ends suggest some anomaly. Let us look at time distribution of target attribute for a specific device."
      ]
    },
    {
      "cell_type": "code",
      "execution_count": null,
      "metadata": {
        "_cell_guid": "d2dc3058-450b-33ae-80e1-2e61fdfbe1f9"
      },
      "outputs": [],
      "source": [
        "plot3 = sns.barplot(x = df[df['id'] == 10]['timestamp'], y = df[df['id'] == 10]['y'])\n",
        "plot3.set(xlabel = 'Timestamp', ylabel = 'Y value')\n",
        "for tick in plot3.get_xticklabels():\n",
        "    tick.set_rotation(90)"
      ]
    },
    {
      "cell_type": "markdown",
      "metadata": {
        "_cell_guid": "9f9ed589-e7dc-0418-952b-462a26d7a7f4"
      },
      "source": [
        "Above is the plot of device ID 11. There's a clear indication of oscillation of y value about 0, with varied magnitudes. Similar distribution could be for all the devices. Let's try for another device (with probably more timestamps)"
      ]
    },
    {
      "cell_type": "code",
      "execution_count": null,
      "metadata": {
        "_cell_guid": "4ad4b6be-a65f-26ca-99e0-58a95516eb5e"
      },
      "outputs": [],
      "source": [
        "plot4 = sns.barplot(x = df[df['id'] == 306]['timestamp'], y = df[df['id'] == 306]['y'])\n",
        "plot4.set(xlabel = 'Timestamp', ylabel = 'Y value')\n",
        "for tick in plot3.get_xticklabels():\n",
        "    tick.set_rotation(90)"
      ]
    },
    {
      "cell_type": "markdown",
      "metadata": {
        "_cell_guid": "df472bc5-6a7d-3118-458d-87db64ccc539"
      },
      "source": [
        "Above two plots the confirm the seasonality present in time variation of y value."
      ]
    },
    {
      "cell_type": "code",
      "execution_count": null,
      "metadata": {
        "_cell_guid": "df5cfb9c-8d82-2ce4-0f30-28bbc0435381"
      },
      "outputs": [],
      "source": [
        ""
      ]
    }
  ],
  "metadata": {
    "_change_revision": 0,
    "_is_fork": false,
    "kernelspec": {
      "display_name": "Python 3",
      "language": "python",
      "name": "python3"
    },
    "language_info": {
      "codemirror_mode": {
        "name": "ipython",
        "version": 3
      },
      "file_extension": ".py",
      "mimetype": "text/x-python",
      "name": "python",
      "nbconvert_exporter": "python",
      "pygments_lexer": "ipython3",
      "version": "3.5.2"
    }
  },
  "nbformat": 4,
  "nbformat_minor": 0
}