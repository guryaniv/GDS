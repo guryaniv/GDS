{
  "cells": [
    {
      "cell_type": "code",
      "execution_count": null,
      "metadata": {
        "_cell_guid": "2e30e402-6cd7-2b2d-4dfb-192471d5e144"
      },
      "outputs": [],
      "source": [
        "# This Python 3 environment comes with many helpful analytics libraries installed\n",
        "# It is defined by the kaggle/python docker image: https://github.com/kaggle/docker-python\n",
        "# For example, here's several helpful packages to load in \n",
        "# -*- coding: utf-8 -*-\n",
        "import numpy as np # linear algebra\n",
        "import pandas as pd # data processing, CSV file I/O (e.g. pd.read_csv)\n",
        "import cv2\n",
        "import matplotlib.pyplot as plt\n",
        "from sklearn.cross_validation import train_test_split\n",
        "from sklearn.decomposition import PCA\n",
        "from sklearn.svm import SVC\n",
        "import collections\n",
        "# Input data files are available in the \"../input/\" directory.\n",
        "# For example, running this (by clicking run or pressing Shift+Enter) will list the files in the input directory\n",
        "\n",
        "from subprocess import check_output\n",
        "print(check_output([\"ls\", \"../input\"]).decode(\"utf8\"))\n",
        "\n",
        "# Any results you write to the current directory are saved as output."
      ]
    },
    {
      "cell_type": "code",
      "execution_count": null,
      "metadata": {
        "_cell_guid": "e1d349e8-245c-e124-0771-9e2e0c735a21"
      },
      "outputs": [],
      "source": [
        "def data_processing(N,tile_size):\n",
        "    master = pd.read_csv(\"../input/train_labels.csv\")\n",
        "    img_path = \"../input/train/\"\n",
        "    train_x,train_y = [],[]\n",
        "    file_path = []\n",
        "    if N == -1 : N = len(master)\n",
        "    for i in range(N):\n",
        "        file_path = img_path + str(master.ix[i][0]) +'.jpg' \n",
        "        img = cv2.imread(file_path)\n",
        "        img = cv2.cvtColor(img, cv2.COLOR_BGR2GRAY)\n",
        "        img_resize = cv2.resize(img, dsize=tile_size)\n",
        "        train_y.append(master.ix[i][1])\n",
        "        train_x.append(img_resize)\n",
        "        \n",
        "        train_y.append(master.ix[i][1])\n",
        "        img_flip_resize = cv2.flip(img_resize,1)\n",
        "        train_x.append(img_flip_resize)\n",
        "                \n",
        "    train_x = np.array(train_x)\n",
        "    \n",
        "    s1,s2,s3 = np.shape(train_x)\n",
        "    train_x = np.reshape(train_x,[s1,s2*s3])\n",
        "    train_y = np.array(train_y)\n",
        "    return train_x,train_y"
      ]
    },
    {
      "cell_type": "code",
      "execution_count": null,
      "metadata": {
        "_cell_guid": "db8bccbf-6cc0-2ec9-f367-b7a895c74ee8"
      },
      "outputs": [],
      "source": [
        "N = -1\n",
        "tile_size=(128,128*886//1154)\n",
        "x_train,y_train = data_processing(N,tile_size)\n",
        "print('y_distribution:',collections.Counter(y_train) )\n",
        "N = len(y_train)\n",
        "x1_train,x1_cross,y1_train,y1_cross = train_test_split(x_train[:N], y_train[:N], \n",
        "                                                       train_size=0.7, random_state=1)"
      ]
    },
    {
      "cell_type": "code",
      "execution_count": null,
      "metadata": {
        "_cell_guid": "d327cc68-cea1-5dd7-5635-af098e7fd115"
      },
      "outputs": [],
      "source": [
        "def plot_img(img_array,tile_size):\n",
        "    img_array = np.reshape(img_array,[tile_size[1],tile_size[0]])\n",
        "    plt.imshow(img_array)\n",
        "    plt.show()"
      ]
    },
    {
      "cell_type": "code",
      "execution_count": null,
      "metadata": {
        "_cell_guid": "e17fdc51-4c26-5596-ecee-153448d17ed5"
      },
      "outputs": [],
      "source": [
        "N_array=[32]\n",
        "Acc_train_arr,Acc_cross_arr = [],[]\n",
        "print('size of image:',tile_size)\n",
        "print('N:',N)\n",
        "for COMPONENT_NUM in N_array:\n",
        "     pca = PCA(n_components=COMPONENT_NUM, whiten=True)\n",
        "     pca.fit(x1_train)\n",
        "     x2_train = pca.transform(x1_train)\n",
        "     y2_train = y1_train\n",
        "     x2_cross = pca.transform(x1_cross)\n",
        "     y2_cross = y1_cross\n",
        "     SVM_classifier = SVC(C=1,gamma=0.1)\n",
        "     SVM_classifier.fit(x2_train,y2_train)\n",
        "     predicted = SVM_classifier.predict(x2_cross)\n",
        "     Acc_train = SVM_classifier.score(x2_train, y2_train)\n",
        "     Acc_cross = SVM_classifier.score(x2_cross, y2_cross)              \n",
        "     print(\"NN= %3f, Acc_train=%3f, Acc_cross = %3f \"% (COMPONENT_NUM,Acc_train,Acc_cross ))"
      ]
    },
    {
      "cell_type": "markdown",
      "metadata": {
        "_cell_guid": "906d5f37-61a1-177e-74fd-7e8dc916c2f8"
      },
      "source": [
        "Using confusion_matrix to help analysis the result.  Many harmless species we treated as invasive. But by not I do not think out how to improve my model. Could you tell me?\n",
        "May be it is the weakness of the SVM?"
      ]
    },
    {
      "cell_type": "code",
      "execution_count": null,
      "metadata": {
        "_cell_guid": "c4fe2f77-d1f8-7c46-a08c-376d162dd3c4"
      },
      "outputs": [],
      "source": [
        "from sklearn.metrics import confusion_matrix\n",
        "\n",
        "def plot_confusion_matrix(cm, classes,\n",
        "                          normalize=False,\n",
        "                          title='Confusion matrix',\n",
        "                          cmap=plt.cm.Blues):\n",
        "    \"\"\"\n",
        "    This function prints and plots the confusion matrix.\n",
        "    Normalization can be applied by setting `normalize=True`.\n",
        "    \"\"\"\n",
        "    plt.imshow(cm, interpolation='nearest', cmap=cmap)\n",
        "    plt.title(title)\n",
        "    plt.colorbar()\n",
        "    tick_marks = np.arange(len(classes))\n",
        "    plt.xticks(tick_marks, classes, rotation=45)\n",
        "    plt.yticks(tick_marks, classes)\n",
        "\n",
        "    if normalize:\n",
        "        cm = cm.astype('float') / cm.sum(axis=1)[:, np.newaxis]\n",
        "        print(\"Normalized confusion matrix\")\n",
        "    else:\n",
        "        print('Confusion matrix, without normalization')\n",
        "\n",
        "    print(cm)\n",
        "\n",
        "    thresh = cm.max() / 2.\n",
        "    for i, j in itertools.product(range(cm.shape[0]), range(cm.shape[1])):\n",
        "        plt.text(j, i, cm[i, j],\n",
        "                 horizontalalignment=\"center\",\n",
        "                 color=\"white\" if cm[i, j] > thresh else \"black\")\n",
        "\n",
        "    plt.tight_layout()\n",
        "    plt.ylabel('True label')\n",
        "    plt.xlabel('Predicted label')"
      ]
    },
    {
      "cell_type": "code",
      "execution_count": null,
      "metadata": {
        "_cell_guid": "79e0e865-d5f9-24d3-d4e6-881a19538124"
      },
      "outputs": [],
      "source": [
        "predicted = SVM_classifier.predict(x2_cross) \n",
        "n_view = 4\n",
        "cnf_matrix = confusion_matrix(y2_cross, predicted)\n",
        "np.set_printoptions(precision=2)\n",
        "context = ['harmless:', 'invasive']\n",
        "plt.figure()\n",
        "plot_confusion_matrix(cnf_matrix, classes=context,normalize=False,\n",
        "                      title='Confusion matrix, without normalization')\n",
        "plt.show()"
      ]
    }
  ],
  "metadata": {
    "_change_revision": 0,
    "_is_fork": false,
    "kernelspec": {
      "display_name": "Python 3",
      "language": "python",
      "name": "python3"
    },
    "language_info": {
      "codemirror_mode": {
        "name": "ipython",
        "version": 3
      },
      "file_extension": ".py",
      "mimetype": "text/x-python",
      "name": "python",
      "nbconvert_exporter": "python",
      "pygments_lexer": "ipython3",
      "version": "3.6.0"
    }
  },
  "nbformat": 4,
  "nbformat_minor": 0
}