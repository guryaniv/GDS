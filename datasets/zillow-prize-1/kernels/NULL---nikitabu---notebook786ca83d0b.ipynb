{
  "cells": [
    {
      "cell_type": "code",
      "execution_count": null,
      "metadata": {
        "_cell_guid": "fbeb04dc-044e-74c6-ac87-ad28b4a4192c"
      },
      "outputs": [],
      "source": [
        "import numpy as np\n",
        "import pandas as pd\n",
        "import xgboost as xgb\n",
        "import gc"
      ]
    },
    {
      "cell_type": "code",
      "execution_count": null,
      "metadata": {
        "_cell_guid": "58f0596f-5675-e7b9-1bb5-80eea5db972c"
      },
      "outputs": [],
      "source": [
        "print('Loading data ...')\n",
        "\n",
        "names = ['parcelid', 'air_conditioning_type', 'architectural_style', \n",
        "         'area_basement', 'num_bathroom', 'num_bedroom', 'framing_type',\n",
        "         'building_quality', 'num_bathroom_calc', 'deck_type',\n",
        "         'area_firstfloor_finished', 'area_total_calc',\n",
        "         'area_living_finished', 'perimeter_living',\n",
        "         'area_total', 'area_firstfloor_unfinished',\n",
        "         'area_base', 'fips', 'num_fireplace', 'num_fullbath',\n",
        "         'num_garagecar', 'area_garage', 'hashottuborspa',\n",
        "         'heating_type', 'latitude', 'longitude',\n",
        "         'area_lot', 'num_pool', 'area_pools', 'pooltypeid10',\n",
        "         'pooltypeid2', 'pooltypeid7', 'property_land_use_code',\n",
        "         'property_land_use_type', 'property_zoning_desc',\n",
        "         'census_raw_tract_block', 'region_city', 'region_county',\n",
        "         'region_neighborhood', 'region_zipcode', 'num_room', 'story_type',\n",
        "         'num_34_bath', 'material_type', 'num_unit',\n",
        "         'area_patio', 'area_shed', 'build_year',\n",
        "         'num_stories', 'flag_fireplace', 'tax_assessed_structure_value',\n",
        "         'tax_assessed_parcel_value', 'tax_assessment_year', 'tax_assessed_land_alue',\n",
        "         'tax_property', 'tax_delinquency_flag', 'tax_delinquency_year',\n",
        "         'census_tract_block']\n",
        "\n",
        "train  = pd.read_csv('../input/train_2016.csv')\n",
        "prop   = pd.read_csv('../input/properties_2016.csv', names=names, header=0)\n",
        "sample = pd.read_csv('../input/sample_submission.csv')\n",
        "\n",
        "print('Binding to float32')\n",
        "\n",
        "for c, dtype in zip(prop.columns, prop.dtypes):\n",
        "    if dtype == np.float64:\n",
        "        prop[c] = prop[c].astype(np.float32)\n",
        "        \n",
        "print(np.shape(train))\n",
        "print(np.shape(prop))\n",
        "print(np.shape(sample))\n",
        "\n",
        "train.head()"
      ]
    },
    {
      "cell_type": "code",
      "execution_count": null,
      "metadata": {
        "_cell_guid": "2e83e869-76ca-1606-1e29-1ba532876f8c"
      },
      "outputs": [],
      "source": [
        "print('Creating training set ...')\n",
        "\n",
        "df_train = train.merge(prop, how='left', on='parcelid')\n",
        "y_train  = df_train['logerror'].values\n",
        "df_train = df_train.drop(['logerror', 'transactiondate'], axis=1)\n",
        "\n",
        "print(np.shape(df_train))\n",
        "\n",
        "print('Creating testing set ...')\n",
        "\n",
        "sample['parcelid'] = sample['ParcelId'];\n",
        "sample = sample.drop(['ParcelId', '201610', '201611', '201612', '201710', '201711', '201712'], axis=1)\n",
        "df_sample = pd.merge(sample, prop, on='parcelid', how='left')\n",
        "\n",
        "print(np.shape(df_sample))"
      ]
    },
    {
      "cell_type": "code",
      "execution_count": null,
      "metadata": {
        "_cell_guid": "37a2ca3d-5ad0-099b-9a54-520a68225132"
      },
      "outputs": [],
      "source": [
        "print('Merging training and testing for preprocessing...')\n",
        "\n",
        "assert(np.array_equal(df_train.columns.values, df_sample.columns.values))\n",
        "\n",
        "rows_train = np.shape(df_train)[0]\n",
        "df_all = pd.concat([df_train, df_sample])\n",
        "\n",
        "print(np.shape(df_all))"
      ]
    },
    {
      "cell_type": "code",
      "execution_count": null,
      "metadata": {
        "_cell_guid": "776e4ae3-6ff0-e7a4-bc2e-8697d4a9b067"
      },
      "outputs": [],
      "source": [
        "df_all = pd.concat([df_all, pd.get_dummies(df_all['air_conditioning_type'], prefix='air_conditioning_type', dummy_na=True)], axis=1);\n",
        "df_all = pd.concat([df_all, pd.get_dummies(df_all['architectural_style'],   prefix='architectural_style',   dummy_na=True)], axis=1);\n",
        "df_all = pd.concat([df_all, pd.get_dummies(df_all['framing_type'],          prefix='framing_type',          dummy_na=True)], axis=1);\n",
        "df_all = pd.concat([df_all, pd.get_dummies(df_all['deck_type'],             prefix='deck_type',             dummy_na=True)], axis=1);\n",
        "df_all = pd.concat([df_all, pd.get_dummies(df_all['fips'],                  prefix='fips',                  dummy_na=True)], axis=1);\n",
        "df_all = pd.concat([df_all, pd.get_dummies(df_all['hashottuborspa'],        prefix='hashottuborspa',        dummy_na=True)], axis=1);\n",
        "df_all = pd.concat([df_all, pd.get_dummies(df_all['heating_type'],          prefix='heating_type',          dummy_na=True)], axis=1);\n",
        "df_all = pd.concat([df_all, pd.get_dummies(df_all['pooltypeid10'],          prefix='pooltypeid10',          dummy_na=True)], axis=1);\n",
        "df_all = pd.concat([df_all, pd.get_dummies(df_all['pooltypeid2'],           prefix='pooltypeid2',           dummy_na=True)], axis=1);\n",
        "df_all = pd.concat([df_all, pd.get_dummies(df_all['pooltypeid7'],           prefix='pooltypeid7',           dummy_na=True)], axis=1);\n",
        "df_all = pd.concat([df_all, pd.get_dummies(df_all['region_county'],         prefix='region_county',         dummy_na=True)], axis=1);\n",
        "df_all = pd.concat([df_all, pd.get_dummies(df_all['story_type'],            prefix='story_type',            dummy_na=True)], axis=1);\n",
        "df_all = pd.concat([df_all, pd.get_dummies(df_all['flag_fireplace'],        prefix='flag_fireplace',        dummy_na=True)], axis=1);\n",
        "df_all = pd.concat([df_all, pd.get_dummies(df_all['tax_assessment_year'],   prefix='tax_assessment_year',   dummy_na=True)], axis=1);\n",
        "df_all = pd.concat([df_all, pd.get_dummies(df_all['tax_delinquency_flag'],  prefix='tax_delinquency_flag',  dummy_na=True)], axis=1);\n",
        "df_all = pd.concat([df_all, pd.get_dummies(df_all['tax_delinquency_year'],  prefix='tax_delinquency_year',  dummy_na=True)], axis=1);\n",
        "df_all = pd.concat([df_all, pd.get_dummies(df_all['material_type'],         prefix='material_type',         dummy_na=True)], axis=1);\n",
        "\n",
        "df_all = df_all.drop('air_conditioning_type', axis=1);\n",
        "df_all = df_all.drop('architectural_style',   axis=1);\n",
        "df_all = df_all.drop('framing_type',          axis=1);\n",
        "df_all = df_all.drop('deck_type',             axis=1);\n",
        "df_all = df_all.drop('fips',                  axis=1);\n",
        "df_all = df_all.drop('hashottuborspa',        axis=1);\n",
        "df_all = df_all.drop('heating_type',          axis=1);\n",
        "df_all = df_all.drop('pooltypeid10',          axis=1);\n",
        "df_all = df_all.drop('pooltypeid2',           axis=1);\n",
        "df_all = df_all.drop('pooltypeid7',           axis=1);\n",
        "df_all = df_all.drop('region_county',         axis=1);\n",
        "df_all = df_all.drop('story_type',            axis=1);\n",
        "df_all = df_all.drop('flag_fireplace',        axis=1);\n",
        "df_all = df_all.drop('tax_assessment_year',   axis=1);\n",
        "df_all = df_all.drop('tax_delinquency_flag',  axis=1);\n",
        "df_all = df_all.drop('tax_delinquency_year',  axis=1);\n",
        "df_all = df_all.drop('material_type',         axis=1);\n",
        "\n",
        "df_all = df_all.drop(['census_raw_tract_block', 'census_tract_block', 'region_city', 'region_neighborhood', 'region_zipcode'], axis=1);\n",
        "\n",
        "print(np.shape(df_all))"
      ]
    },
    {
      "cell_type": "code",
      "execution_count": null,
      "metadata": {
        "_cell_guid": "4a81f636-01f2-ee04-4db9-afab1d68a69c"
      },
      "outputs": [],
      "source": [
        "df_train  = df_all[:rows_train]\n",
        "df_sample = df_all[rows_train:]\n",
        "\n",
        "print(np.shape(df_train))\n",
        "print(np.shape(df_sample))"
      ]
    },
    {
      "cell_type": "code",
      "execution_count": null,
      "metadata": {
        "_cell_guid": "5b2a9c6c-b759-251d-5e99-dad627e67ecf"
      },
      "outputs": [],
      "source": [
        "x_train = df_train.drop(['parcelid'], axis=1)\n",
        "print(x_train.shape, y_train.shape)\n",
        "\n",
        "train_columns = x_train.columns\n",
        "\n",
        "for c in x_train.dtypes[x_train.dtypes == object].index.values:\n",
        "    x_train[c] = (x_train[c] == True)\n",
        "\n",
        "#del df_train; gc.collect()\n",
        "\n",
        "split = 80000\n",
        "x_train, y_train, x_valid, y_valid = x_train[:split], y_train[:split], x_train[split:], y_train[split:]"
      ]
    },
    {
      "cell_type": "code",
      "execution_count": null,
      "metadata": {
        "_cell_guid": "a7b96b53-4a6d-af46-5edf-62fbb0bfde4c"
      },
      "outputs": [],
      "source": [
        "print('Building DMatrix...')\n",
        "\n",
        "d_train = xgb.DMatrix(x_train, label=y_train)\n",
        "d_valid = xgb.DMatrix(x_valid, label=y_valid)\n",
        "\n",
        "#del x_train, x_valid; gc.collect()"
      ]
    },
    {
      "cell_type": "code",
      "execution_count": null,
      "metadata": {
        "_cell_guid": "0c0cb2ee-2dbd-b284-d42d-4e08a1ca1e6b"
      },
      "outputs": [],
      "source": [
        "print('Training ...')\n",
        "\n",
        "params = {}\n",
        "params['eta'] = 0.1\n",
        "params['objective'] = 'reg:linear'\n",
        "params['eval_metric'] = 'mae'\n",
        "params['max_depth'] = 3\n",
        "params['silent'] = 1\n",
        "\n",
        "watchlist = [(d_train, 'train'), (d_valid, 'valid')]\n",
        "clf = xgb.train(params, d_train, 100, watchlist, early_stopping_rounds=10, verbose_eval=10)\n",
        "\n",
        "del d_train, d_valid"
      ]
    },
    {
      "cell_type": "code",
      "execution_count": null,
      "metadata": {
        "_cell_guid": "c00f999a-8401-9486-f64d-2200b55b2368"
      },
      "outputs": [],
      "source": [
        "print('Building test set ...')\n",
        "\n",
        "sample['parcelid'] = sample['ParcelId']\n",
        "df_test = sample.merge(prop, on='parcelid', how='left')\n",
        "\n",
        "print(df_test.values.shape)"
      ]
    },
    {
      "cell_type": "code",
      "execution_count": null,
      "metadata": {
        "_cell_guid": "9fa6ca31-bb8e-898f-dd52-52f5d257f21f"
      },
      "outputs": [],
      "source": ""
    },
    {
      "cell_type": "code",
      "execution_count": null,
      "metadata": {
        "_cell_guid": "c1562ae5-4e85-fb6b-1d7e-b01b39c81af2"
      },
      "outputs": [],
      "source": [
        "zoning_counts        = df_all['property_zoning_desc'].value_counts().reset_index();\n",
        "land_use_type_counts = df_all['property_land_use_type'].value_counts().reset_index();\n",
        "land_use_code_counts = df_all['property_land_use_code'].value_counts().reset_index();\n",
        "\n",
        "df_all['property_zoning_desc']   = df_all['property_zoning_desc'].replace(  to_replace=zoning_counts[zoning_counts['property_zoning_desc']                 < 1000]['index'].values, value='zone_other')\n",
        "df_all['property_land_use_type'] = df_all['property_land_use_type'].replace(to_replace=land_use_type_counts[land_use_type_counts['property_land_use_type'] < 1000]['index'].values, value='landtype_other')\n",
        "df_all['property_land_use_code'] = df_all['property_land_use_code'].replace(to_replace=land_use_code_counts[land_use_code_counts['property_land_use_code'] < 1000]['index'].values, value='landuse_other')\n",
        "\n",
        "df_all = pd.concat([df_all, pd.get_dummies(df_all['property_zoning_desc'])],   axis=1);\n",
        "df_all = pd.concat([df_all, pd.get_dummies(df_all['property_land_use_type'])], axis=1);\n",
        "df_all = pd.concat([df_all, pd.get_dummies(df_all['property_land_use_code'])], axis=1);\n",
        "\n",
        "df_all = df_all.drop('property_zoning_desc',   axis=1);\n",
        "df_all = df_all.drop('property_land_use_type', axis=1);\n",
        "df_all = df_all.drop('property_land_use_code', axis=1);\n",
        "\n",
        "print(np.shape(df_all))"
      ]
    }
  ],
  "metadata": {
    "_change_revision": 0,
    "_is_fork": false,
    "kernelspec": {
      "display_name": "Python 3",
      "language": "python",
      "name": "python3"
    },
    "language_info": {
      "codemirror_mode": {
        "name": "ipython",
        "version": 3
      },
      "file_extension": ".py",
      "mimetype": "text/x-python",
      "name": "python",
      "nbconvert_exporter": "python",
      "pygments_lexer": "ipython3",
      "version": "3.6.0"
    }
  },
  "nbformat": 4,
  "nbformat_minor": 0
}