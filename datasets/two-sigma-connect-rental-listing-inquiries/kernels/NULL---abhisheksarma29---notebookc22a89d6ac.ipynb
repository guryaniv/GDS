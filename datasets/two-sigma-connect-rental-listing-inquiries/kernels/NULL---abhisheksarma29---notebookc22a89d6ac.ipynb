{
  "cells": [
    {
      "cell_type": "markdown",
      "metadata": {
        "_cell_guid": "c59a3326-3da6-ca33-4f1c-774c87549c5a"
      },
      "source": [
        "**EDA"
      ]
    },
    {
      "cell_type": "code",
      "execution_count": null,
      "metadata": {
        "_cell_guid": "373ae221-71b4-9aa9-f984-048da0906551"
      },
      "outputs": [],
      "source": [
        "# This Python 3 environment comes with many helpful analytics libraries installed\n",
        "# It is defined by the kaggle/python docker image: https://github.com/kaggle/docker-python\n",
        "# For example, here's several helpful packages to load in \n",
        "\n",
        "import numpy as np # linear algebra\n",
        "import pandas as pd # data processing, CSV file I/O (e.g. pd.read_csv)\n",
        "\n",
        "import matplotlib.pyplot as plt\n",
        "% matplotlib inline\n",
        "import seaborn as sns\n",
        "sns.set(style=\"whitegrid\", color_codes=True)\n",
        "sns.set(font_scale=1)\n",
        "\n",
        "\n",
        "import plotly.plotly as py\n",
        "import plotly.graph_objs as go\n",
        "from plotly import tools\n",
        "\n",
        "\n",
        "from plotly.offline import download_plotlyjs, init_notebook_mode, iplot\n",
        "init_notebook_mode(connected=True)\n",
        "\n",
        "\n",
        "# Input data files are available in the \"../input/\" directory.\n",
        "# For example, running this (by clicking run or pressing Shift+Enter) will list the files in the input directory\n",
        "\n",
        "from subprocess import check_output\n",
        "print(check_output([\"ls\", \"../input\"]).decode(\"utf8\"))\n",
        "\n",
        "# Any results you write to the current directory are saved as output."
      ]
    },
    {
      "cell_type": "code",
      "execution_count": null,
      "metadata": {
        "_cell_guid": "63c768ea-e9de-c1b5-500c-c1aef9d6503a"
      },
      "outputs": [],
      "source": [
        "train = pd.read_json(\"../input/train.json\")\n",
        "train.head()"
      ]
    },
    {
      "cell_type": "code",
      "execution_count": null,
      "metadata": {
        "_cell_guid": "999aef59-6a2f-a7c5-9d98-1eb0ec97c47d"
      },
      "outputs": [],
      "source": [
        "test = pd.read_json(\"../input/test.json\")\n",
        "test.head()\n"
      ]
    },
    {
      "cell_type": "markdown",
      "metadata": {
        "_cell_guid": "9e4f473a-cc93-93b6-6a83-463c92a0d17d"
      },
      "source": [
        "Data Types\n",
        "----------------\n",
        "\n"
      ]
    },
    {
      "cell_type": "code",
      "execution_count": null,
      "metadata": {
        "_cell_guid": "aae4491d-37b6-aa8f-9ab6-82d2b99352f8"
      },
      "outputs": [],
      "source": [
        "train.dtypes\n"
      ]
    },
    {
      "cell_type": "code",
      "execution_count": null,
      "metadata": {
        "_cell_guid": "15ebddb8-2748-9ac7-7a37-b7ef664b949c"
      },
      "outputs": [],
      "source": [
        "test.shape"
      ]
    },
    {
      "cell_type": "markdown",
      "metadata": {
        "_cell_guid": "99306585-db43-81c9-47cc-56ff4672f68e"
      },
      "source": [
        "Description\n",
        "---------------------------"
      ]
    },
    {
      "cell_type": "code",
      "execution_count": null,
      "metadata": {
        "_cell_guid": "4c7cc339-99fc-baed-be10-5529a2ff3755"
      },
      "outputs": [],
      "source": [
        "##Describe gives statistical information about numerical columns in the dataset\n",
        "train.describe()"
      ]
    },
    {
      "cell_type": "markdown",
      "metadata": {
        "_cell_guid": "a0d8acd6-2af7-9d64-d8b1-1f9b6c9097d1"
      },
      "source": [
        "Wordclouds for description,addresses\n",
        "---------------------------"
      ]
    },
    {
      "cell_type": "code",
      "execution_count": null,
      "metadata": {
        "_cell_guid": "354c27b0-83d5-fc59-ca28-2b9107bf5421"
      },
      "outputs": [],
      "source": [
        "#Preprocessing\n",
        "from wordcloud import WordCloud\n",
        "text = ''\n",
        "text_dispadd = ''\n",
        "text_street = ''\n",
        "text_desc =''\n",
        "for ind, row in train.iterrows():\n",
        "    for feature in row['features']:\n",
        "        text = \" \".join([text, \"_\".join(feature.strip().split(\" \"))])\n",
        "    text_dispadd = \" \".join([text_dispadd,\"_\".join(row['display_address'].strip().split(\" \"))])\n",
        "    text_street = \" \".join([text_street, row['street_address']])\n",
        "    text_desc=\" \".join([text_desc, row['description']])\n",
        "text = text.strip()\n",
        "text_dispadd = text_dispadd.strip()\n",
        "text_street = text_street.strip()\n",
        "text_desc = text_desc.strip()\n",
        "text_dispadd"
      ]
    },
    {
      "cell_type": "markdown",
      "metadata": {
        "_cell_guid": "5ee26d67-bd2a-47fe-8940-afac34fca9c2"
      },
      "source": [
        "**Display Address**\n",
        "-------------------"
      ]
    },
    {
      "cell_type": "code",
      "execution_count": null,
      "metadata": {
        "_cell_guid": "e66ef802-9d4b-b8e7-8ec7-35b857fd22e2"
      },
      "outputs": [],
      "source": [
        "import random\n",
        "\n",
        "\n",
        "\n",
        "# wordcloud for display address\n",
        "plt.figure(figsize=(12,6))\n",
        "wc = WordCloud(background_color='white', width=600, height=300,\n",
        "                      max_font_size=50, max_words=40).generate(text_dispadd)\n",
        "plt.imshow(wc.recolor( random_state=3))\n",
        "#plt.imshow(wc)\n",
        "plt.title(\"Display Address\", fontsize=20)\n",
        "plt.axis(\"off\")\n",
        "plt.show()"
      ]
    },
    {
      "cell_type": "markdown",
      "metadata": {
        "_cell_guid": "6e286c85-dfa7-deb6-5bc8-dc069a85f1c8"
      },
      "source": [
        "**Features**\n",
        "------------"
      ]
    },
    {
      "cell_type": "code",
      "execution_count": null,
      "metadata": {
        "_cell_guid": "e8d966bf-790c-41c6-fe2b-7e63fdc897e4"
      },
      "outputs": [],
      "source": [
        "plt.figure(figsize=(12,6))\n",
        "wordcloud = WordCloud(background_color='white', width=600, height=300,\n",
        "                      max_font_size=50, max_words=40).generate(text)\n",
        "plt.imshow(wc.recolor( random_state=3))\n",
        "plt.imshow(wordcloud)\n",
        "plt.title(\"Features\", fontsize=20)\n",
        "plt.axis(\"off\")\n",
        "plt.show()"
      ]
    },
    {
      "cell_type": "markdown",
      "metadata": {
        "_cell_guid": "b5540387-583d-7c5e-40c9-d34ddede9711"
      },
      "source": [
        "**Street Address**\n",
        "------------------"
      ]
    },
    {
      "cell_type": "code",
      "execution_count": null,
      "metadata": {
        "_cell_guid": "0011041f-7fb4-4d19-78e6-3a3eb5f31c1b"
      },
      "outputs": [],
      "source": [
        "#street address\n",
        "plt.figure(figsize=(12,6))\n",
        "wordcloud = WordCloud(background_color='white', width=600, height=300,\n",
        "                      max_font_size=50, max_words=40).generate(text_street)\n",
        "wordcloud.recolor( random_state=3)\n",
        "plt.imshow(wordcloud)\n",
        "plt.title(\"Street Address\", fontsize=20)\n",
        "plt.axis(\"off\")\n",
        "plt.show()"
      ]
    },
    {
      "cell_type": "markdown",
      "metadata": {
        "_cell_guid": "7a7e9e07-8573-9b9e-106b-5c5501205328"
      },
      "source": [
        "**Description**\n",
        "==============="
      ]
    },
    {
      "cell_type": "code",
      "execution_count": null,
      "metadata": {
        "_cell_guid": "91dd9748-a1c0-f11a-ed3d-654ad4d19ced"
      },
      "outputs": [],
      "source": [
        "plt.figure(figsize=(12,6))\n",
        "wordcloud = WordCloud(background_color='white', width=600, height=300,\n",
        "                      max_font_size=50, max_words=40).generate(text_desc)\n",
        "wordcloud.recolor(random_state=3)\n",
        "plt.imshow(wordcloud)\n",
        "plt.title(\"Description\", fontsize=20)\n",
        "plt.axis(\"off\")\n",
        "plt.show()"
      ]
    },
    {
      "cell_type": "code",
      "execution_count": null,
      "metadata": {
        "_cell_guid": "0a413fc8-60f9-6899-9422-ca0cfee2263c"
      },
      "outputs": [],
      "source": [
        "int_plot = sns.countplot(train[\"interest_level\"])"
      ]
    },
    {
      "cell_type": "markdown",
      "metadata": {
        "_cell_guid": "21227018-69d7-2135-9c26-84e2950dcdf8"
      },
      "source": [
        "Very few listings are with high interest."
      ]
    },
    {
      "cell_type": "markdown",
      "metadata": {
        "_cell_guid": "7fadc7c3-cf0e-d710-0ec2-38ec25b1aa0c"
      },
      "source": [
        "*Price*\n",
        "-------"
      ]
    },
    {
      "cell_type": "code",
      "execution_count": null,
      "metadata": {
        "_cell_guid": "2c33edf3-352c-757c-e741-aee8332263eb"
      },
      "outputs": [],
      "source": [
        "price_hist = sns.distplot(train[\"price\"])"
      ]
    },
    {
      "cell_type": "markdown",
      "metadata": {
        "_cell_guid": "8f541722-bb22-2368-0422-7c9efdbc7c99"
      },
      "source": [
        "There seem to be outliers in the data"
      ]
    },
    {
      "cell_type": "code",
      "execution_count": null,
      "metadata": {
        "_cell_guid": "107846fb-485e-9195-4e66-2ba851dc1168"
      },
      "outputs": [],
      "source": [
        "ulimit = np.percentile(train.price.values, 99)\n",
        "train.ix[train['price']>ulimit,'price'] = ulimit\n",
        "\n",
        "\n",
        "plt.figure(figsize=(6, 8))\n",
        "plt.scatter(range(train.shape[0]), train[\"price\"].values,color='red')\n",
        "plt.ylabel(\"Price\")\n",
        "plt.title(\"Distribution of Price\");"
      ]
    },
    {
      "cell_type": "code",
      "execution_count": null,
      "metadata": {
        "_cell_guid": "8b271cc0-2808-1302-8205-499e22e0b77c"
      },
      "outputs": [],
      "source": [
        "price_hist = sns.distplot(train[\"price\"])"
      ]
    },
    {
      "cell_type": "code",
      "execution_count": null,
      "metadata": {
        "_cell_guid": "64defe64-c539-d23e-57af-261675b195e4"
      },
      "outputs": [],
      "source": [
        "order = ['low', 'medium', 'high']\n",
        "sns.stripplot(train[\"interest_level\"],train[\"price\"],order=order,jitter=True)\n",
        "plt.title(\"Price Vs Interest_level\");"
      ]
    },
    {
      "cell_type": "markdown",
      "metadata": {
        "_cell_guid": "56f93443-36f4-8f63-3b79-5468177d8ee6"
      },
      "source": [
        "BedRooms\n",
        "--------------------"
      ]
    },
    {
      "cell_type": "code",
      "execution_count": null,
      "metadata": {
        "_cell_guid": "50be7576-cfd8-6191-1d46-1e6e98a5da1b"
      },
      "outputs": [],
      "source": [
        "train[\"bedrooms\"].value_counts().plot(kind='bar')\n",
        "plt.ylabel(\"Frequency\")\n",
        "plt.xlabel(\"Number of Bedrooms\");"
      ]
    },
    {
      "cell_type": "code",
      "execution_count": null,
      "metadata": {
        "_cell_guid": "1137d725-a2bf-49a9-7d16-e9d58fe7b4ee"
      },
      "outputs": [],
      "source": [
        "sns.stripplot(y=\"bedrooms\", x=\"interest_level\",data=train,jitter=True,order=order);"
      ]
    },
    {
      "cell_type": "markdown",
      "metadata": {
        "_cell_guid": "5399a392-d27b-f966-9fca-cf30b69e5bab"
      },
      "source": [
        "*Number of BathRooms*   bathrooms and bedrooms are cotrelated with price\n",
        "---------------------"
      ]
    },
    {
      "cell_type": "code",
      "execution_count": null,
      "metadata": {
        "_cell_guid": "4fe4d41d-ec4f-7457-178d-08f74aef52b7"
      },
      "outputs": [],
      "source": [
        "sns.stripplot(x=\"bathrooms\", y=\"price\"\n",
        "              ,data=train,jitter=True);"
      ]
    },
    {
      "cell_type": "code",
      "execution_count": null,
      "metadata": {
        "_cell_guid": "742a236b-a9d9-ccee-1bb5-1d9f1f132a8f"
      },
      "outputs": [],
      "source": [
        "sns.stripplot(y=\"bathrooms\", x=\"interest_level\",data=train,jitter=True,order=order);"
      ]
    },
    {
      "cell_type": "markdown",
      "metadata": {
        "_cell_guid": "90f9f169-9f3a-bcde-cb2a-32e840c8ae47"
      },
      "source": [
        "Removing outliers"
      ]
    },
    {
      "cell_type": "code",
      "execution_count": null,
      "metadata": {
        "_cell_guid": "7d2fa8d7-f948-b140-970c-5786e049b71c"
      },
      "outputs": [],
      "source": [
        "ulimit = np.percentile(train.bathrooms.values, 99)\n",
        "train.ix[train['bathrooms']>ulimit,'bathrooms'] = ulimit"
      ]
    },
    {
      "cell_type": "code",
      "execution_count": null,
      "metadata": {
        "_cell_guid": "740b756f-9059-df22-f39f-4f394046ad60"
      },
      "outputs": [],
      "source": [
        "\n",
        "sns.stripplot(y=\"bathrooms\", x=\"interest_level\",data=train,jitter=True,order=order);"
      ]
    },
    {
      "cell_type": "markdown",
      "metadata": {
        "_cell_guid": "ad8fe87c-d445-4a01-8072-ec43100d28fc"
      },
      "source": [
        "**Listing Id**\n",
        "=============="
      ]
    },
    {
      "cell_type": "code",
      "execution_count": null,
      "metadata": {
        "_cell_guid": "8c1e0d02-654b-815f-0e71-b0205570d0f7"
      },
      "outputs": [],
      "source": [
        "sns.stripplot(train[\"interest_level\"],train[\"listing_id\"],order=order)\n",
        "plt.title(\"L-id Vs Interest_level\");"
      ]
    },
    {
      "cell_type": "markdown",
      "metadata": {
        "_cell_guid": "267d2d1e-594f-6329-bd53-2a1ff5420259"
      },
      "source": [
        "Listing ids above 740000 seem to have low interest level\n",
        "\n",
        "\n",
        "  "
      ]
    },
    {
      "cell_type": "markdown",
      "metadata": {
        "_cell_guid": "3c83af50-3336-e5f6-3cde-3f2dd014f208"
      },
      "source": [
        "**Feature engineering**\n",
        "======================="
      ]
    },
    {
      "cell_type": "markdown",
      "metadata": {
        "_cell_guid": "a4a23b60-8c34-4b9c-d86f-067954e546a5"
      },
      "source": [
        "**Aggregate on Text data**\n",
        "--------------------------"
      ]
    },
    {
      "cell_type": "code",
      "execution_count": null,
      "metadata": {
        "_cell_guid": "bc40c0a2-99ae-c6b8-068c-554e6bc78d43"
      },
      "outputs": [],
      "source": [
        "train['num_photos'] = train['photos'].apply(len)\n",
        "train['num_features'] = train['features'].apply(len)\n",
        "train['num_description_words'] = train['description'].apply(lambda x: len(x.split(' ')))\n",
        "train['num_description_len'] = train['description'].apply(len)"
      ]
    },
    {
      "cell_type": "markdown",
      "metadata": {
        "_cell_guid": "1511b11b-1d52-b50e-bc62-09b21163c01f"
      },
      "source": [
        "**Breaking created date column**\n",
        "--------------------------------"
      ]
    },
    {
      "cell_type": "code",
      "execution_count": null,
      "metadata": {
        "_cell_guid": "7d7415e9-4f11-30e8-a19b-73e1813dbec5"
      },
      "outputs": [],
      "source": [
        "train['created'] = pd.to_datetime(train['created'])\n",
        "train['date'] = train['created'].dt.date\n",
        "train[\"year\"] = train[\"created\"].dt.year\n",
        "train['month'] = train['created'].dt.month\n",
        "train['day'] = train['created'].dt.day\n",
        "train['hour'] = train['created'].dt.hour\n",
        "train['weekday'] = train['created'].dt.weekday\n",
        "train['week'] = train['created'].dt.week\n",
        "train['quarter'] = train['created'].dt.quarter\n",
        "train['weekend'] = ((train['weekday'] == 5) & (train['weekday'] == 6))\n",
        "train['wd'] = ((train['weekday'] != 5) & (train['weekday'] != 6))"
      ]
    },
    {
      "cell_type": "markdown",
      "metadata": {
        "_cell_guid": "7b9b388c-c8ca-7975-db59-12dd46d4533e"
      },
      "source": [
        "**Dates**\n",
        "-------"
      ]
    },
    {
      "cell_type": "code",
      "execution_count": null,
      "metadata": {
        "_cell_guid": "1af89b5a-5b14-6ba6-b99c-ca47f94ad1cd"
      },
      "outputs": [],
      "source": [
        "cnt_srs = train['date'].value_counts()\n",
        "\n",
        "plt.figure(figsize=(12,4))\n",
        "ax = plt.subplot(111)\n",
        "ax.bar(cnt_srs.index, cnt_srs.values, color='seagreen')\n",
        "ax.xaxis_date()\n",
        "plt.xticks(rotation='vertical')\n",
        "plt.show()"
      ]
    },
    {
      "cell_type": "markdown",
      "metadata": {
        "_cell_guid": "5413cb40-603f-f1fb-3598-788b3796ddb6"
      },
      "source": [
        "All listings have been created in April to July 2016 period in our data."
      ]
    },
    {
      "cell_type": "markdown",
      "metadata": {
        "_cell_guid": "3efdc869-19b7-8401-4879-091094f4aec3"
      },
      "source": [
        "**Hour**\n",
        "------"
      ]
    },
    {
      "cell_type": "code",
      "execution_count": null,
      "metadata": {
        "_cell_guid": "91ebe9bf-101c-4760-cfd5-50522f54064f"
      },
      "outputs": [],
      "source": [
        "hourDF = train.groupby(['hour', 'interest_level'])['hour'].count().unstack('interest_level').fillna(0)\n",
        "hourDF[['low','medium',\"high\"]].plot(kind='bar', stacked=True);"
      ]
    },
    {
      "cell_type": "markdown",
      "metadata": {
        "_cell_guid": "d8119369-cd36-f559-e6d5-2af277d17fa1"
      },
      "source": [
        "**Month**\n",
        "-------"
      ]
    },
    {
      "cell_type": "code",
      "execution_count": null,
      "metadata": {
        "_cell_guid": "ba3ca07d-2197-64fb-68bb-bab3faf8439c"
      },
      "outputs": [],
      "source": [
        "monthDF = train.groupby(['month', 'interest_level'])['month'].count().unstack('interest_level').fillna(0)\n",
        "monthDF[['low','medium',\"high\"]].plot(kind='bar', stacked=True);"
      ]
    },
    {
      "cell_type": "markdown",
      "metadata": {
        "_cell_guid": "4a957897-964a-2d0f-6969-a0ee927f7842"
      },
      "source": [
        "**Photos**\n",
        "--------"
      ]
    },
    {
      "cell_type": "code",
      "execution_count": null,
      "metadata": {
        "_cell_guid": "a5c75830-0b0e-8206-f98e-5a5b0b02aaf1"
      },
      "outputs": [],
      "source": [
        "train.num_photos.value_counts().plot(kind='bar',color='purple')"
      ]
    },
    {
      "cell_type": "code",
      "execution_count": null,
      "metadata": {
        "_cell_guid": "fa56f424-087b-3e24-f199-a08f07345d89"
      },
      "outputs": [],
      "source": [
        "train['num_photos'].ix[train['num_photos']>15] = 15\n",
        "sns.stripplot(y=\"num_photos\", x=\"interest_level\",data=train,jitter=True,order=order);"
      ]
    },
    {
      "cell_type": "markdown",
      "metadata": {
        "_cell_guid": "2573b5e9-0fc0-081b-ff24-290b3bfa146d"
      },
      "source": [
        "Data is evenly distributed across interest levels"
      ]
    },
    {
      "cell_type": "markdown",
      "metadata": {
        "_cell_guid": "14bd9457-0420-7aca-339e-336834eab152"
      },
      "source": [
        "*Features*\n",
        "----------"
      ]
    },
    {
      "cell_type": "code",
      "execution_count": null,
      "metadata": {
        "_cell_guid": "f5cc7fa5-e188-9280-c289-2ad04f37f42c"
      },
      "outputs": [],
      "source": [
        "train.num_features.value_counts().plot(kind='bar',color='orange')\n",
        "plt.xlabel(\"Number of features\")"
      ]
    },
    {
      "cell_type": "code",
      "execution_count": null,
      "metadata": {
        "_cell_guid": "29e3ddf2-82d6-72d7-6088-5a0870163484"
      },
      "outputs": [],
      "source": [
        "train['num_features'].ix[train['num_features'] > 16] = 16\n",
        "sns.stripplot(x=\"num_features\", y=\"interest_level\",data=train,jitter=True,order=order);"
      ]
    },
    {
      "cell_type": "markdown",
      "metadata": {
        "_cell_guid": "1a13f680-c7c8-7bcd-5d2a-d6cc0e09cc68"
      },
      "source": [
        "Data is evenly distributed across all levels"
      ]
    },
    {
      "cell_type": "markdown",
      "metadata": {
        "_cell_guid": "633e8c94-a796-2aca-e434-7c1216033949"
      },
      "source": [
        "**High profile Managers**\n",
        "--------------------\n",
        "\n",
        "In this I have tried to find top managers with more than 80 listings altogether with low,medium or high interest levels and more than 30 listings with high interest levels."
      ]
    },
    {
      "cell_type": "code",
      "execution_count": null,
      "metadata": {
        "_cell_guid": "47ba55bc-dc23-3bd2-d33c-653f3b5037d4"
      },
      "outputs": [],
      "source": [
        "managerDF = train.groupby(['manager_id', 'interest_level'])['manager_id'].count().unstack('interest_level').fillna(0)\n",
        "managerDF[\"sum\"]=managerDF.sum(axis=1)\n",
        "x=managerDF[ (managerDF['sum'] > 80) & (managerDF['high'] > 30)]\n",
        "managerDF.head()\n",
        "x.sort_values(\"sum\",inplace=True)\n",
        "plt.title(\"High Profile Managers\")\n",
        "plt.xlabel(\"High Interest level\")\n",
        "plt.ylabel(\"Manager ID\")\n",
        "x = x[x.index != 'e6472c7237327dd3903b3d6f6a94515a']\n",
        "x[\"sum\"].plot(kind='barh',color=\"brown\");"
      ]
    },
    {
      "cell_type": "markdown",
      "metadata": {
        "_cell_guid": "da39cfd4-fa8b-c109-68dc-1d2a19e90009"
      },
      "source": [
        "**High profile Buildings**\n",
        "=====================\n",
        "\n",
        "In this I have tried to find top buildings with more than 60 listings altogether with low,medium or high interest levels and more than 15 listings with high interest levels."
      ]
    },
    {
      "cell_type": "code",
      "execution_count": null,
      "metadata": {
        "_cell_guid": "a62db989-e0c4-7c64-564c-fb920c12c4ec"
      },
      "outputs": [],
      "source": [
        "buildingDF = train.groupby(['building_id', 'interest_level'])['building_id'].count().unstack('interest_level').fillna(0)\n",
        "buildingDF[\"sum\"]=buildingDF.sum(axis=1)\n",
        "x=buildingDF[ (buildingDF['sum'] > 60) & (buildingDF['high'] > 15)]\n",
        "buildingDF.head()\n",
        "#removing the outlier\n",
        "x = x[x.index != '0']\n",
        "x.sort_values(\"sum\",inplace=True)\n",
        "plt.title(\"High Profile Buildings\")\n",
        "plt.xlabel(\"High Interest level\")\n",
        "plt.ylabel(\"Building ID\")\n",
        "x[\"sum\"].plot(kind='barh',color=\"orange\");"
      ]
    },
    {
      "cell_type": "markdown",
      "metadata": {
        "_cell_guid": "d57c4e75-e7ad-eace-3efa-eb65a106a71d"
      },
      "source": [
        "**BedRooms , Bathrooms, Features , Price and Interest level all together**\n",
        "-----------------------------------------------------------------------"
      ]
    },
    {
      "cell_type": "code",
      "execution_count": null,
      "metadata": {
        "_cell_guid": "87133e49-4975-343b-c10b-d46870b5fe71"
      },
      "outputs": [],
      "source": [
        "hover_text = []\n",
        "bubble_size = []\n",
        "slope = 2.8\n",
        "for index, row in train.iterrows():\n",
        "    hover_text.append(('Interest: {interest}<br>'+\n",
        "                      'Bedrooms: {bedrooms}<br>'+\n",
        "                      'Price: {price}<br>'+\n",
        "                      'Bathrooms: {bathrooms}<br>'+\n",
        "                      'Year: {year}').format(interest=row['interest_level'],\n",
        "                                            bedrooms=row['bedrooms'],\n",
        "                                            price=row['price'],\n",
        "                                            bathrooms=row['bathrooms'],\n",
        "                                            year=row['created']))\n",
        "    bubble_size.append(len(row['features'])*slope)\n",
        "\n",
        "train['text'] = hover_text\n",
        "train['bubble_size'] = bubble_size"
      ]
    },
    {
      "cell_type": "markdown",
      "metadata": {
        "_cell_guid": "92670f7e-25a0-279d-b9a1-9ef1c7712d2c"
      },
      "source": [
        "More to come. Please upvote if you find it useful."
      ]
    }
  ],
  "metadata": {
    "_change_revision": 0,
    "_is_fork": false,
    "kernelspec": {
      "display_name": "Python 3",
      "language": "python",
      "name": "python3"
    },
    "language_info": {
      "codemirror_mode": {
        "name": "ipython",
        "version": 3
      },
      "file_extension": ".py",
      "mimetype": "text/x-python",
      "name": "python",
      "nbconvert_exporter": "python",
      "pygments_lexer": "ipython3",
      "version": "3.6.0"
    }
  },
  "nbformat": 4,
  "nbformat_minor": 0
}