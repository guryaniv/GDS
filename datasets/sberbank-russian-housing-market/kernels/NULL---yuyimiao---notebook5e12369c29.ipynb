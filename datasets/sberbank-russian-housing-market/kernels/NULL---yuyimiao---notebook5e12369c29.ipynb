{
  "cells": [
    {
      "cell_type": "code",
      "execution_count": null,
      "metadata": {
        "_cell_guid": "5d2f8ad6-b31d-820a-5c57-447001c4b61a"
      },
      "outputs": [],
      "source": [
        "import numpy as np\n",
        "import pandas as pd\n",
        "import matplotlib.pyplot as plt\n",
        "import seaborn as sns\n",
        "from sklearn import model_selection, preprocessing\n",
        "import xgboost as xgb\n",
        "import datetime\n",
        "\n",
        "#load files\n",
        "train = pd.read_csv('../input/train.csv')\n",
        "test = pd.read_csv('../input/test.csv')\n",
        "macro = pd.read_csv('../input/macro.csv')\n",
        "id_test = test.id\n",
        "\n",
        "#multiplier = 0.969\n",
        "# truncate the extreme values in price_doc #\n",
        "Q1 = np.percentile(np.log1p(train.price_doc.values), 25)\n",
        "Q2 = np.percentile(np.log1p(train.price_doc.values), 50)\n",
        "Q3 = np.percentile(np.log1p(train.price_doc.values), 75)\n",
        "IQR=Q3-Q1\n",
        "infbdd=Q1-1.5 * IQR \n",
        "supbdd=Q3+1.5 * IQR \n",
        "train['price_doc'].ix[train['price_doc']>int(2.5*np.exp(supbdd))] = int(2.5*np.exp(supbdd))\n",
        "train['price_doc'].ix[train['price_doc']<int(np.exp(13.5))] = int(np.exp(13.5))\n",
        "\n",
        "\n",
        "#clean data\n",
        "\n",
        "\n",
        "#equal_index = [601,1896,2791]\n",
        "#test.ix[equal_index, \"life_sq\"] = test.ix[equal_index, \"full_sq\"]\n",
        "\n",
        "#bad_index = test[test.life_sq > test.full_sq].index\n",
        "#test.ix[bad_index, \"life_sq\"] = np.NaN\n",
        "\n",
        "bad_index = train[train.life_sq < 2].index\n",
        "train.ix[bad_index, \"life_sq\"] = np.NaN\n",
        "\n",
        "#bad_index = test[test.life_sq < 5].index\n",
        "#test.ix[bad_index, \"life_sq\"] = np.NaN\n",
        "\n",
        "bad_index = train[train.full_sq < 2].index\n",
        "train.ix[bad_index, \"full_sq\"] = np.NaN\n",
        "###\n",
        "\n",
        "#bad_index = test[test.full_sq < 5].index\n",
        "#test.ix[bad_index, \"full_sq\"] = np.NaN\n",
        "\n",
        "#kitch_is_build_year = [13117]\n",
        "#train.ix[kitch_is_build_year, \"build_year\"] = train.ix[kitch_is_build_year, \"kitch_sq\"]\n",
        "#bad_index = train[train.kitch_sq >= train.life_sq].index\n",
        "#train.ix[bad_index, \"kitch_sq\"] = np.NaN\n",
        "\n",
        "#bad_index = test[test.kitch_sq >= test.life_sq].index\n",
        "#test.ix[bad_index, \"kitch_sq\"] = np.NaN\n",
        "\n",
        "#bad_index = train[(train.kitch_sq == 0).values + (train.kitch_sq == 1).values].index\n",
        "#train.ix[bad_index, \"kitch_sq\"] = np.NaN\n",
        "\n",
        "#bad_index = test[(test.kitch_sq == 0).values + (test.kitch_sq == 1).values].index\n",
        "#test.ix[bad_index, \"kitch_sq\"] = np.NaN\n",
        "\n",
        "\n",
        "\n",
        "\n",
        "#bad_index = test[(test.full_sq > 150) & (test.life_sq / test.full_sq < 0.3)].index\n",
        "#test.ix[bad_index, \"full_sq\"] = np.NaN\n",
        "\n",
        "\n",
        "#bad_index = test[test.life_sq > 200].index\n",
        "#test.ix[bad_index, [\"life_sq\", \"full_sq\"]] = np.NaN"
      ]
    },
    {
      "cell_type": "code",
      "execution_count": null,
      "metadata": {
        "_cell_guid": "c2536325-830a-8fb3-1333-05694792930c"
      },
      "outputs": [],
      "source": [
        "train.shape"
      ]
    },
    {
      "cell_type": "code",
      "execution_count": null,
      "metadata": {
        "_cell_guid": "58a3c32d-89e9-31b9-a488-26378df041c6"
      },
      "outputs": [],
      "source": [
        "train=train[train.price_doc > 1000000]"
      ]
    },
    {
      "cell_type": "code",
      "execution_count": null,
      "metadata": {
        "_cell_guid": "812bc499-0bee-05f7-accd-d45e93af4ad8"
      },
      "outputs": [],
      "source": [
        "expensive = np.nanpercentile((np.log1p(train.price_doc.values)/np.log1p(train.full_sq.values)), 99.9)\n",
        "cheap = np.nanpercentile((np.log1p(train.price_doc.values)/np.log1p(train.full_sq.values)), 0.1)\n",
        "print(expensive)\n",
        "print(cheap)"
      ]
    },
    {
      "cell_type": "code",
      "execution_count": null,
      "metadata": {
        "_cell_guid": "d0d895d7-c972-711d-7dd3-0f03ca70bf04"
      },
      "outputs": [],
      "source": [
        "ulimit = np.nanpercentile((train.life_sq.values)/(train.full_sq.values), 99)\n",
        "llimit = np.nanpercentile((train.life_sq.values)/(train.full_sq.values), 1)\n",
        "median = np.nanpercentile((train.life_sq.values)/(train.full_sq.values), 50)\n",
        "mean=np.nanmean((train.life_sq.values)/(train.full_sq.values))\n",
        "print(ulimit)\n",
        "print(llimit)\n",
        "print(mean)"
      ]
    },
    {
      "cell_type": "code",
      "execution_count": null,
      "metadata": {
        "_cell_guid": "3ceab5b6-e983-a7fb-4d97-0b71828da340"
      },
      "outputs": [],
      "source": [
        "plt.figure(figsize=(12,12))\n",
        "sns.jointplot(x=(train.full_sq.values), y=(train.life_sq.values), size=10)\n",
        "plt.ylabel('life_sq', fontsize=12)\n",
        "plt.xlabel('full_sq', fontsize=12)\n",
        "plt.show()"
      ]
    },
    {
      "cell_type": "code",
      "execution_count": null,
      "metadata": {
        "_cell_guid": "26079140-3f0f-0b39-6449-2154c4cbf252"
      },
      "outputs": [],
      "source": [
        "\n",
        "life_bad_index=train[(train.life_sq > train.full_sq) & ((np.log1p(train.price_doc.values)/np.log1p(train.full_sq.values))>3)&((np.log1p(train.price_doc.values)/np.log1p(train.full_sq.values))<5.25)].index\n",
        "train.ix[life_bad_index, \"life_sq\"] = train.ix[life_bad_index,\"full_sq\"]*0.85\n",
        "full_bad_index=train[(train.life_sq > train.full_sq)&((np.log1p(train.price_doc.values)/np.log1p(train.life_sq.values))>3)&((np.log1p(train.price_doc.values)/np.log1p(train.life_sq.values))<5.25)].index\n",
        "train.ix[full_bad_index, \"full_sq\"] = train.ix[full_bad_index,\"life_sq\"]/0.85\n",
        "true_bad_index = train[train.life_sq > train.full_sq]\n",
        "true_bad_index"
      ]
    },
    {
      "cell_type": "code",
      "execution_count": null,
      "metadata": {
        "_cell_guid": "00d92032-0c3c-2f45-c978-b1377b37602a"
      },
      "outputs": [],
      "source": [
        "full_bad_index = train[(train.life_sq / train.full_sq < 0.39)&((np.log1p(train.price_doc.values)/np.log1p(train.life_sq.values))<5.25)&((np.log1p(train.price_doc.values)/np.log1p(train.life_sq.values))>3)].index\n",
        "train.ix[full_bad_index, \"full_sq\"] = train.ix[full_bad_index,\"life_sq\"]/0.85\n",
        "\n",
        "life_bad_index=train[(train.life_sq / train.full_sq < 0.39)&((np.log1p(train.price_doc.values)/np.log1p(train.full_sq.values))<5.25)&((np.log1p(train.price_doc.values)/np.log1p(train.full_sq.values))>3)].index\n",
        "train.ix[life_bad_index, \"life_sq\"] = train.ix[life_bad_index,\"full_sq\"]*0.85\n",
        "\n",
        "true_bad_index=train[(train.life_sq / train.full_sq < 0.39)]\n",
        "true_bad_index"
      ]
    },
    {
      "cell_type": "code",
      "execution_count": null,
      "metadata": {
        "_cell_guid": "4ada6a47-6d72-6701-9a76-84d590c70b10"
      },
      "outputs": [],
      "source": [
        "train.ix[,[\"full_sq\",\"life_sq\"]]"
      ]
    },
    {
      "cell_type": "code",
      "execution_count": null,
      "metadata": {
        "_cell_guid": "166f89af-c038-b867-1407-5bdc4bf93f55"
      },
      "outputs": [],
      "source": [
        "train.ix[[10,11]]"
      ]
    },
    {
      "cell_type": "code",
      "execution_count": null,
      "metadata": {
        "_cell_guid": "b7f7c2e5-e0be-56fc-a9cb-c804909de78f"
      },
      "outputs": [],
      "source": [
        "bad_index = train[(train.full_sq==36)&(train.price_doc==7000000)]\n",
        "bad_index"
      ]
    },
    {
      "cell_type": "code",
      "execution_count": null,
      "metadata": {
        "_cell_guid": "9bb74998-fac9-f4b8-3c38-de5653c5431f"
      },
      "outputs": [],
      "source": [
        "bad_index = train[((np.log1p(train.price_doc.values)/np.log1p(train.full_sq.values))<2.7)&(train.full_sq>200)].index\n",
        "train.ix[bad_index, \"full_sq\"] = np.NaN\n",
        "train.ix[bad_index, \"life_sq\"] = np.NaN"
      ]
    },
    {
      "cell_type": "code",
      "execution_count": null,
      "metadata": {
        "_cell_guid": "fb1c3823-4436-0bbb-e425-2f2e0b1d9367"
      },
      "outputs": [],
      "source": [
        "bad_index = train[((np.log1p(train.price_doc.values*10)/np.log1p(train.full_sq.values))<3)]\n",
        "bad_index"
      ]
    },
    {
      "cell_type": "code",
      "execution_count": null,
      "metadata": {
        "_cell_guid": "eac9bd9c-a518-609b-6581-65384c53a4d9"
      },
      "outputs": [],
      "source": [
        "bad_index = train[(train.life_sq==14)&(train.price_doc==7000000)]\n",
        "bad_index"
      ]
    },
    {
      "cell_type": "code",
      "execution_count": null,
      "metadata": {
        "_cell_guid": "7f066295-5bf6-0c15-ea45-9dd110b425e2"
      },
      "outputs": [],
      "source": [
        "expensive = np.nanpercentile((np.log1p(train.price_doc.values)/np.log1p(train.full_sq.values)), 99.9)\n",
        "cheap = np.nanpercentile((np.log1p(train.price_doc.values)/np.log1p(train.full_sq.values)), 0.1)\n",
        "print(expensive)\n",
        "print(cheap)"
      ]
    },
    {
      "cell_type": "code",
      "execution_count": null,
      "metadata": {
        "_cell_guid": "7f555cc1-596c-15c7-3f7c-bc6702cca31e"
      },
      "outputs": [],
      "source": [
        "bad_index = train[((np.log1p(train.price_doc.values)/np.log1p(train.full_sq.values))>5.3)]\n",
        "bad_index\n",
        "#train.ix[bad_index, \"full_sq\"] = np.NaN"
      ]
    },
    {
      "cell_type": "code",
      "execution_count": null,
      "metadata": {
        "_cell_guid": "8fdb67cb-d335-a25e-f329-b7483dac5ab3"
      },
      "outputs": [],
      "source": [
        "np.log1p(10)"
      ]
    },
    {
      "cell_type": "code",
      "execution_count": null,
      "metadata": {
        "_cell_guid": "76654ce9-09b5-136d-6d14-fee6b5913171"
      },
      "outputs": [],
      "source": [
        "plt.figure(figsize=(12,12))\n",
        "sns.jointplot(x=np.log1p(train.full_sq.values), y=np.log1p(train.price_doc.values), size=10)\n",
        "plt.ylabel('Log of Price', fontsize=12)\n",
        "plt.xlabel('Log of Total area in square metre', fontsize=12)\n",
        "plt.show()"
      ]
    },
    {
      "cell_type": "code",
      "execution_count": null,
      "metadata": {
        "_cell_guid": "983e8094-c417-8f00-6e54-18676bc6d423"
      },
      "outputs": [],
      "source": [
        "plt.figure(figsize=(12,12))\n",
        "sns.jointplot(x=np.log1p(train.life_sq.values), y=np.log1p(train.price_doc.values), \n",
        "              kind='kde', size=10)\n",
        "plt.ylabel('Log of Price', fontsize=12)\n",
        "plt.xlabel('Log of living area in square metre', fontsize=12)\n",
        "plt.show()"
      ]
    },
    {
      "cell_type": "code",
      "execution_count": null,
      "metadata": {
        "_cell_guid": "551a6697-7a33-6f10-11e1-d3e555365cfb"
      },
      "outputs": [],
      "source": ""
    }
  ],
  "metadata": {
    "_change_revision": 0,
    "_is_fork": false,
    "kernelspec": {
      "display_name": "Python 3",
      "language": "python",
      "name": "python3"
    },
    "language_info": {
      "codemirror_mode": {
        "name": "ipython",
        "version": 3
      },
      "file_extension": ".py",
      "mimetype": "text/x-python",
      "name": "python",
      "nbconvert_exporter": "python",
      "pygments_lexer": "ipython3",
      "version": "3.6.0"
    }
  },
  "nbformat": 4,
  "nbformat_minor": 0
}