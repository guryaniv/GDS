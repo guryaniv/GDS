{"cells":[
 {
  "cell_type": "code",
  "execution_count": null,
  "metadata": {
   "collapsed": false
  },
  "outputs": [],
  "source": "%matplotlib inline\nimport numpy as np\nfrom scipy.stats import kendalltau\nimport seaborn as sns\nimport pandas as pd\nloans = pd.read_csv(\"../input/loan.csv\", index_col = 0, low_memory=False)\n"
 },
 {
  "cell_type": "code",
  "execution_count": null,
  "metadata": {
   "collapsed": false
  },
  "outputs": [],
  "source": "Tot_loans = loans.loan_amnt.value_counts()\n\n#Tot_loans.plot(kind = 'bar',figsize=(250,10), title = 'Loan Amounts')\n\ny = loans.loan_amnt.values\ny.plot(kind = 'bar',x = 'Amount')\n#loans.drop('int_rate',axis = 1, inplace=True)\n# This is ALOTTTTTT of data. Will need to clean this up later... Looks like 60k\n# were loaned about 10k dollars. Need to fix plot, too big."
 },
 {
  "cell_type": "code",
  "execution_count": null,
  "metadata": {
   "collapsed": false
  },
  "outputs": [],
  "source": "loan_location = loans.zip_code.value_counts()\n\nloan_location.plot(kind = 'bar',figsize=(250,10), title = 'Loans per zipcode')\n\n# So I am trying to understand where are the borrowers live. Looks like Cali."
 },
 {
  "cell_type": "code",
  "execution_count": null,
  "metadata": {
   "collapsed": false
  },
  "outputs": [],
  "source": "term = loans.term.value_counts()\n\nterm.plot(kind = 'bar',figsize=(16,8), title = 'Term of Loan')\n# The average borrower is almost 3x more likely to have a 36 month loan compared to a 60 month loan.\n"
 },
 {
  "cell_type": "code",
  "execution_count": null,
  "metadata": {
   "collapsed": false
  },
  "outputs": [],
  "source": "y = loans.int_rate.values\nloans.drop('int_rate',axis = 1, inplace=True)\n"
 },
 {
  "cell_type": "code",
  "execution_count": null,
  "metadata": {
   "collapsed": false
  },
  "outputs": [],
  "source": "np.unique(y), pd.Series(y).plot(kind='hist',alpha=.7, bins=20, title='Interest Rate Distribution')\n\n# What the distribution of interest rates are given the "
 },
 {
  "cell_type": "code",
  "execution_count": null,
  "metadata": {
   "collapsed": false
  },
  "outputs": [],
  "source": ""
 }
],"metadata":{"kernelspec":{"display_name":"Python 3","language":"python","name":"python3"}}, "nbformat": 4, "nbformat_minor": 0}