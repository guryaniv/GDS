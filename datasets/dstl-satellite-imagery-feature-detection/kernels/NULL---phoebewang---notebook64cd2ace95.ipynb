{
  "metadata": {
    "kernelspec": {
      "display_name": "Python 3",
      "language": "python",
      "name": "python3"
    },
    "language_info": {
      "codemirror_mode": {
        "name": "ipython",
        "version": 3
      },
      "file_extension": ".py",
      "mimetype": "text/x-python",
      "name": "python",
      "nbconvert_exporter": "python",
      "pygments_lexer": "ipython3",
      "version": "3.6.0"
    }
  },
  "nbformat": 4,
  "nbformat_minor": 0,
  "cells": [
    {
      "metadata": {
        "_cell_guid": "95f1a3ce-04bf-561a-56f9-dc9d7173377a",
        "_active": true,
        "collapsed": false
      },
      "source": "# This Python 3 environment comes with many helpful analytics libraries installed\n# It is defined by the kaggle/python docker image: https://github.com/kaggle/docker-python\n# For example, here's several helpful packages to load in \n\nimport numpy as np # linear algebra\nimport pandas as pd # data processing, CSV file I/O (e.g. pd.read_csv)\nfrom matplotlib import colors\nimport tifffile\n\ncolormap = np.zeros([3,3])\ncolormap[1] = colors.to_rgba_array('0.1')[:, :-1]\nmask = np.zeros([2, 2, 3])\n\nary = tifffile.imread('../input/sixteen_band/6100_2_2_M.tif')\n\nnp.percentile(ary, [2, 98], axis=(1, 2))",
      "execution_count": null,
      "cell_type": "code",
      "outputs": [],
      "execution_state": "idle"
    }
  ]
}