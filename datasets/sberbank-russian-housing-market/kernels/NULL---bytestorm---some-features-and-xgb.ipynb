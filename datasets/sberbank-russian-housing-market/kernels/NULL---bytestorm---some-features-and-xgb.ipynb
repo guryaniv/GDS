{
  "cells": [
    {
      "cell_type": "markdown",
      "metadata": {
        "_cell_guid": "f60ecd6d-f135-64dd-14d3-d638c2c411fe"
      },
      "source": [
        "Trying out some basic things..."
      ]
    },
    {
      "cell_type": "code",
      "execution_count": null,
      "metadata": {
        "_cell_guid": "23eca99d-c443-14d0-cf22-931ee4ece1dc"
      },
      "outputs": [],
      "source": [
        "import pandas as pd\n",
        "import numpy as np\n",
        "import time\n",
        "from datetime import datetime\n",
        "from collections import Counter, defaultdict\n",
        "import matplotlib.pyplot as plt\n",
        "import operator"
      ]
    },
    {
      "cell_type": "code",
      "execution_count": null,
      "metadata": {
        "_cell_guid": "bda98f4f-c2d1-d679-67b0-5bacd2987c66"
      },
      "outputs": [],
      "source": [
        "%matplotlib inline"
      ]
    },
    {
      "cell_type": "code",
      "execution_count": null,
      "metadata": {
        "_cell_guid": "6a9a2cba-2dda-0439-17a2-5689be6b076b"
      },
      "outputs": [],
      "source": [
        "df_train = pd.read_csv('../input/train.csv')\n",
        "df_test = pd.read_csv('../input/test.csv')\n",
        "df_macro = pd.read_csv('../input/macro.csv')"
      ]
    },
    {
      "cell_type": "code",
      "execution_count": null,
      "metadata": {
        "_cell_guid": "637571c3-5fbc-4200-768b-b0059c03f2d9"
      },
      "outputs": [],
      "source": [
        "df_train.head()"
      ]
    },
    {
      "cell_type": "code",
      "execution_count": null,
      "metadata": {
        "_cell_guid": "cd3c460f-d2b0-a46b-fcc1-0ec4650a0b28"
      },
      "outputs": [],
      "source": [
        "# Set index\n",
        "df_train = df_train.set_index('id')\n",
        "df_test = df_test.set_index('id')\n",
        "\n",
        "# <Move> target variable to seperate dataframe\n",
        "df_y = np.log1p(df_train['price_doc'])\n",
        "df_train.drop('price_doc', 1, inplace = True)"
      ]
    },
    {
      "cell_type": "code",
      "execution_count": null,
      "metadata": {
        "_cell_guid": "c46247c2-62da-a455-5f14-60188c46946d"
      },
      "outputs": [],
      "source": [
        "# Convert string timestamp to integer\n",
        "to_uTimestamp = lambda s: datetime.strptime(s, '%Y-%m-%d').year\n",
        "df_train['year'] = df_train['timestamp'].apply(to_uTimestamp, 0).astype(np.int32)\n",
        "df_test['year'] = df_test['timestamp'].apply(to_uTimestamp, 0).astype(np.int32)\n",
        "\n",
        "to_uTimestamp = lambda s: datetime.strptime(s, '%Y-%m-%d').month\n",
        "df_train['month'] = df_train['timestamp'].apply(to_uTimestamp, 0).astype(np.int32)\n",
        "df_test['month'] = df_test['timestamp'].apply(to_uTimestamp, 0).astype(np.int32)\n",
        "\n",
        "to_uTimestamp = lambda s: datetime.strptime(s, '%Y-%m-%d').day\n",
        "df_train['day'] = df_train['timestamp'].apply(to_uTimestamp, 0).astype(np.int32)\n",
        "df_test['day'] = df_test['timestamp'].apply(to_uTimestamp, 0).astype(np.int32)\n",
        "\n",
        "to_uTimestamp = lambda s: datetime.strptime(s, '%Y-%m-%d').weekday()\n",
        "df_train['dow'] = df_train['timestamp'].apply(to_uTimestamp, 0).astype(np.int32)\n",
        "df_test['dow'] = df_test['timestamp'].apply(to_uTimestamp, 0).astype(np.int32)"
      ]
    },
    {
      "cell_type": "code",
      "execution_count": null,
      "metadata": {
        "_cell_guid": "5db34f62-a10c-9749-a157-64a05b3709e2"
      },
      "outputs": [],
      "source": [
        "to_uTimestamp = lambda s: int(datetime.strptime(s, '%Y-%m-%d').timestamp()/86400)\n",
        "df_train['timestamp'] = df_train['timestamp'].apply(to_uTimestamp, 0).astype(np.int32)\n",
        "df_test['timestamp'] = df_test['timestamp'].apply(to_uTimestamp, 0).astype(np.int32)"
      ]
    },
    {
      "cell_type": "code",
      "execution_count": null,
      "metadata": {
        "_cell_guid": "c3862b04-de6c-0bc3-377e-8f960098b0a9"
      },
      "outputs": [],
      "source": [
        "def auto_id_gen():\n",
        "    start = 1\n",
        "    while(True):\n",
        "        yield start\n",
        "        start += 1"
      ]
    },
    {
      "cell_type": "code",
      "execution_count": null,
      "metadata": {
        "_cell_guid": "23673fca-d640-70d8-f68e-014447aaa599"
      },
      "outputs": [],
      "source": [
        "fields = ['product_type', 'sub_area', 'culture_objects_top_25', 'thermal_power_plant_raion', 'incineration_raion', 'oil_chemistry_raion', 'radiation_raion', 'railroad_terminal_raion', 'big_market_raion', 'nuclear_reactor_raion', 'detention_facility_raion', 'water_1line', 'big_road1_1line', 'railroad_1line', 'ecology']\n",
        "converter = {}\n",
        "for f in fields:\n",
        "    print('Unique Items for: ', f)\n",
        "    \n",
        "    item_id = 1\n",
        "    unique_items = df_train[f].unique()\n",
        "    gen = auto_id_gen()\n",
        "    converter[f] = defaultdict(lambda: next(gen))\n",
        "    for u in unique_items:\n",
        "        converter[f][u]"
      ]
    },
    {
      "cell_type": "code",
      "execution_count": null,
      "metadata": {
        "_cell_guid": "b74479a3-a64f-9a01-21e3-413b8df17d3f"
      },
      "outputs": [],
      "source": [
        "for field in fields:\n",
        "    convert = lambda value: converter[field][value]\n",
        "    df_test[field] = df_test[field].apply(convert, 0).astype(np.int32)\n",
        "    df_train[field] = df_train[field].apply(convert, 0).astype(np.int32)"
      ]
    },
    {
      "cell_type": "code",
      "execution_count": null,
      "metadata": {
        "_cell_guid": "f0810ea9-3d4c-bcce-276e-ba30848e0e41"
      },
      "outputs": [],
      "source": [
        "# is top floor, # is ground floor\n",
        "df_train['is_top2floors'] = (df_train.floor == (df_train.max_floor)) | (df_train.floor == (df_train.max_floor - 1))\n",
        "df_train['is_top_floor'] = (df_train.floor == (df_train.max_floor))\n",
        "df_train['is_ground_floor'] = (df_train.floor == 0)\n",
        "\n",
        "df_test['is_top2floors'] = (df_test.floor == (df_test.max_floor)) | (df_test.floor == (df_test.max_floor - 1))\n",
        "df_test['is_top_floor'] = (df_test.floor == (df_test.max_floor))\n",
        "df_test['is_ground_floor'] = (df_test.floor == 0)"
      ]
    },
    {
      "cell_type": "code",
      "execution_count": null,
      "metadata": {
        "_cell_guid": "2178c013-7423-7743-b6a5-9bd4af408dd3"
      },
      "outputs": [],
      "source": [
        "# extra_sq = full_sq - life_sq\n",
        "df_train['extra_sq'] = df_train['full_sq'] - df_train['life_sq']\n",
        "df_test['extra_sq'] = df_test['full_sq'] - df_test['life_sq']\n",
        "\n",
        "# male to female pop ratio # gender_ratio\n",
        "df_train['gender_ratio'] = df_train['male_f']/df_train['female_f']\n",
        "df_test['gender_ratio'] = df_test['male_f']/df_test['female_f']"
      ]
    },
    {
      "cell_type": "code",
      "execution_count": null,
      "metadata": {
        "_cell_guid": "fb668d99-04e3-2ea6-a531-6706fc212d0a"
      },
      "outputs": [],
      "source": [
        "def addFeatures(df):\n",
        "    # district dimension\n",
        "    df['dimension_sub_area'] = df['area_m'].apply(np.sqrt, 0)\n",
        "\n",
        "    # high school -> school_quota / 7to14_age_Persons\n",
        "    df['school_seat_availability'] = df['school_quota']/df['children_school']\n",
        "\n",
        "    # number of school per area\n",
        "    df['school_per_area'] = 1e7 * df['school_education_centers_raion'] / df['area_m']\n",
        "\n",
        "    # how closeby school\n",
        "    df['school_closeness'] = df['school_km'] / df['dimension_sub_area']\n",
        "\n",
        "    # Preschool seat per child\n",
        "    df['preschool_seat_availability'] = df['preschool_quota'] / df['children_preschool']\n",
        "\n",
        "    # number of preschool per area\n",
        "    df['preschool_per_area']  = 1e7 * df['preschool_education_centers_raion'] / df['area_m']\n",
        "\n",
        "    # how close is preschool\n",
        "    df['preschool_closeness'] = df['preschool_km'] / df['dimension_sub_area']\n",
        "\n",
        "    # is preschool same as school\n",
        "    df['diff_school'] = df['preschool_km'] == df['school_km']\n",
        "\n",
        "    # closeness of offices \n",
        "    df['close_office'] = df['office_km'] / df['dimension_sub_area']\n",
        "\n",
        "    # work_availability\n",
        "    df['work_avail'] = df['office_raion'] / df['work_all']\n",
        "\n",
        "    # density of healthcare centres\n",
        "    df['healthcare_density'] = 1e7 * df['healthcare_centers_raion'] / df['area_m']\n",
        "\n",
        "    # Pollution coeff - relative dist. to indu_zone\n",
        "    df['safe_nature'] = df['industrial_km'] / df['green_zone_km']\n",
        "\n",
        "    # Pollution coeff - relative dist. to water treatment\n",
        "    df['safe_watre'] = df['industrial_km'] / df['water_treatment_km']\n",
        "\n",
        "    # extent of higher education\n",
        "    df['high_ed_extent'] = df['school_km'] / df['kindergarten_km']\n",
        "\n",
        "    # closeness of public healthcare\n",
        "    df['close_public_health'] = df['public_healthcare_km'] / df['dimension_sub_area']\n",
        "\n",
        "    # close to office?\n",
        "    df['close_office'] = df['office_km'] / df['dimension_sub_area']\n",
        "\n",
        "    # Density of shopping malls\n",
        "    df['shop_density'] = 1e7 * df['shopping_centers_raion'] / df['area_m']\n",
        "\n",
        "    # closeness of shopping malls \n",
        "    df['close_shops'] =  df['shopping_centers_km'] / df['dimension_sub_area']\n",
        "\n",
        "    # New City or Old city\n",
        "    # df['build_count_after_1995'] / (df['build_count_1971-1995'] + df['build_count_1946-1970'])\n",
        "    df['new_or_old_city'] =  df['build_count_after_1995'] / (df['build_count_1971-1995'])\n",
        "    \n",
        "    return df"
      ]
    },
    {
      "cell_type": "code",
      "execution_count": null,
      "metadata": {
        "_cell_guid": "d7fbd711-fa08-96fa-c69f-1fbe763ebe55"
      },
      "outputs": [],
      "source": [
        "df_train = addFeatures(df_train)"
      ]
    },
    {
      "cell_type": "code",
      "execution_count": null,
      "metadata": {
        "_cell_guid": "f3ae48af-9959-f70d-1991-6f76cf88d098"
      },
      "outputs": [],
      "source": [
        "df_test = addFeatures(df_test)"
      ]
    },
    {
      "cell_type": "markdown",
      "metadata": {
        "_cell_guid": "785c0046-db65-ad26-65de-e91e91a82e24"
      },
      "source": [
        "### XGB"
      ]
    },
    {
      "cell_type": "code",
      "execution_count": null,
      "metadata": {
        "_cell_guid": "f3239b78-0c7c-0711-65d1-81e8bdef0788"
      },
      "outputs": [],
      "source": [
        "import xgboost as xgb"
      ]
    },
    {
      "cell_type": "code",
      "execution_count": null,
      "metadata": {
        "_cell_guid": "3817aea4-c452-120d-3463-97104d186374"
      },
      "outputs": [],
      "source": [
        "from sklearn.model_selection import train_test_split\n",
        "from sklearn.metrics import mean_squared_error"
      ]
    },
    {
      "cell_type": "code",
      "execution_count": null,
      "metadata": {
        "_cell_guid": "1cb1e316-f23e-2c08-9c8e-09c9905bb0f4"
      },
      "outputs": [],
      "source": [
        "d_test = xgb.DMatrix(data=df_test)"
      ]
    },
    {
      "cell_type": "code",
      "execution_count": null,
      "metadata": {
        "_cell_guid": "74a064a5-d463-0fb1-b2b1-451c74ed68e8"
      },
      "outputs": [],
      "source": [
        "X_train, X_valid, y_train, y_valid = train_test_split(df_train, df_y, test_size=0.2, random_state=5468)"
      ]
    },
    {
      "cell_type": "code",
      "execution_count": null,
      "metadata": {
        "_cell_guid": "0ec1ee4c-8d39-105e-55d0-6690e8406d9c"
      },
      "outputs": [],
      "source": [
        "# read in data\n",
        "d_train = xgb.DMatrix(data=X_train, label=y_train)\n",
        "d_valid = xgb.DMatrix(data=X_valid, label=y_valid)"
      ]
    },
    {
      "cell_type": "code",
      "execution_count": null,
      "metadata": {
        "_cell_guid": "b74a3034-2fdd-90b5-52f0-3134da615d6b"
      },
      "outputs": [],
      "source": [
        "class xgCallback:\n",
        "    def __init__(self):\n",
        "        self.models = []\n",
        "        self.train_scores = []\n",
        "        self.valid_scores = []\n",
        "        self.best_model = None\n",
        "        self.best_score = None\n",
        "    def callback(self, a = None):\n",
        "        self.models.append(a.model.copy())\n",
        "        self.train_scores.append(a.evaluation_result_list[0][1])\n",
        "        self.valid_scores.append(a.evaluation_result_list[1][1])"
      ]
    },
    {
      "cell_type": "code",
      "execution_count": null,
      "metadata": {
        "_cell_guid": "dcb4041f-abb3-9aee-bc4c-05ed771cebd4"
      },
      "outputs": [],
      "source": [
        "watchlist = [(d_train, 'train'), (d_valid, 'valid')]\n",
        "\n",
        "# specify parameters via map\n",
        "params = {}\n",
        "params['objective'] = 'reg:linear'\n",
        "params['eval_metric'] = 'rmse'\n",
        "params['eta'] = 0.03\n",
        "params['max_depth'] = 5\n",
        "params['subsample'] = 1\n",
        "params['base_score'] = 0.5\n",
        "params['colsample_bytree'] = 0.8\n",
        "params['tree_method'] = 'hist'"
      ]
    },
    {
      "cell_type": "code",
      "execution_count": null,
      "metadata": {
        "_cell_guid": "c28985a0-92d0-085f-1ac9-4e0f1299b6e5"
      },
      "outputs": [],
      "source": [
        "callback1 = xgCallback()\n",
        "callbacks = [callback1.callback]\n",
        "\n",
        "# params['updater'] = 'grow_gpu'\n",
        "bst = xgb.train(params, d_train, 400, watchlist, verbose_eval=50, callbacks=callbacks)"
      ]
    },
    {
      "cell_type": "code",
      "execution_count": null,
      "metadata": {
        "_cell_guid": "c1beae68-0c2f-fa0f-646b-8c671d06d4b8"
      },
      "outputs": [],
      "source": [
        "best_model = np.argmin(callback1.valid_scores)\n",
        "print(best_model)"
      ]
    },
    {
      "cell_type": "code",
      "execution_count": null,
      "metadata": {
        "_cell_guid": "bf539b48-e798-4817-f8e7-9c795fb4d5fd"
      },
      "outputs": [],
      "source": [
        "bst = callback1.models[best_model]"
      ]
    },
    {
      "cell_type": "code",
      "execution_count": null,
      "metadata": {
        "_cell_guid": "065ce963-371e-ad85-3165-f01f15d007f1"
      },
      "outputs": [],
      "source": [
        "# Validation score of best iteration\n",
        "\n",
        "np.sqrt(mean_squared_error(y_valid, bst.predict(d_valid)))"
      ]
    },
    {
      "cell_type": "code",
      "execution_count": null,
      "metadata": {
        "_cell_guid": "5a527c5c-3ec3-924a-2edc-6435be67a09b"
      },
      "outputs": [],
      "source": [
        "# make prediction\n",
        "preds = bst.predict(d_test)"
      ]
    },
    {
      "cell_type": "code",
      "execution_count": null,
      "metadata": {
        "_cell_guid": "95562599-c4b9-98de-68ac-95f8dda727b7"
      },
      "outputs": [],
      "source": [
        "df_sub = pd.DataFrame({'id': df_test.index, 'price_doc': np.expm1(preds)})"
      ]
    },
    {
      "cell_type": "code",
      "execution_count": null,
      "metadata": {
        "_cell_guid": "087c685b-7a6d-b10d-c378-167ca3b85b60"
      },
      "outputs": [],
      "source": [
        "df_sub.head()"
      ]
    },
    {
      "cell_type": "code",
      "execution_count": null,
      "metadata": {
        "_cell_guid": "edb89caa-4fdf-a9ee-c8d5-e576b2817f8e"
      },
      "outputs": [],
      "source": [
        "df_sub.to_csv('./submission.csv', index=False)"
      ]
    },
    {
      "cell_type": "code",
      "execution_count": null,
      "metadata": {
        "_cell_guid": "46932fe5-995d-3fa3-630c-1cccc4722d61"
      },
      "outputs": [],
      "source": [
        ""
      ]
    }
  ],
  "metadata": {
    "_change_revision": 0,
    "_is_fork": false,
    "kernelspec": {
      "display_name": "Python 3",
      "language": "python",
      "name": "python3"
    },
    "language_info": {
      "codemirror_mode": {
        "name": "ipython",
        "version": 3
      },
      "file_extension": ".py",
      "mimetype": "text/x-python",
      "name": "python",
      "nbconvert_exporter": "python",
      "pygments_lexer": "ipython3",
      "version": "3.6.0"
    }
  },
  "nbformat": 4,
  "nbformat_minor": 0
}