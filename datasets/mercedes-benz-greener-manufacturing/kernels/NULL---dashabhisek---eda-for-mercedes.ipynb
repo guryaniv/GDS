{
  "cells": [
    {
      "cell_type": "markdown",
      "metadata": {
        "_cell_guid": "28bfa584-ad39-70fc-7fcb-0ac7ed91ba12"
      },
      "source": [
        "This is my first competition. I have tried to do a detailed EDA and put my observations wherever possible. Please let me know if you feel the observations aren't correct. Also please let me know if you think any piece of code could have been written better.\n",
        "\n",
        "Upvote if you like it."
      ]
    },
    {
      "cell_type": "code",
      "execution_count": null,
      "metadata": {
        "_cell_guid": "6b97f445-60d7-b869-fe99-9ec7aecd31cd"
      },
      "outputs": [],
      "source": [
        "import pandas as pd\n",
        "import numpy as np\n",
        "import datetime\n",
        "import matplotlib.pyplot as plt\n",
        "%matplotlib inline \n",
        "import seaborn as sns\n",
        "sns.set_style(\"whitegrid\",{'axes.grid':False})\n",
        "from matplotlib import cm"
      ]
    },
    {
      "cell_type": "code",
      "execution_count": null,
      "metadata": {
        "_cell_guid": "169986e2-238b-5a34-0983-4256b3ed268f"
      },
      "outputs": [],
      "source": [
        "train=pd.read_csv('../input/train.csv')\n",
        "test=pd.read_csv('../input/test.csv')"
      ]
    },
    {
      "cell_type": "code",
      "execution_count": null,
      "metadata": {
        "_cell_guid": "44650abd-e9ba-6fd1-a2ae-633ade555857"
      },
      "outputs": [],
      "source": [
        "train.info()"
      ]
    },
    {
      "cell_type": "code",
      "execution_count": null,
      "metadata": {
        "_cell_guid": "6951eadb-af5a-4617-0827-a4ad8db6b0f7"
      },
      "outputs": [],
      "source": [
        "test.info()"
      ]
    },
    {
      "cell_type": "markdown",
      "metadata": {
        "_cell_guid": "a96a41c4-47d4-5d5c-9064-95fcf1ec7edb"
      },
      "source": [
        ""
      ]
    },
    {
      "cell_type": "code",
      "execution_count": null,
      "metadata": {
        "_cell_guid": "3dc1e083-8fc8-369c-9e1e-6b52b4c4a948"
      },
      "outputs": [],
      "source": [
        "plt.figure(figsize=(18,8))\n",
        "plt.scatter(range(train.shape[0]), np.sort(train.y.values))\n",
        "plt.xlabel('index', fontsize=12)\n",
        "plt.ylabel('y', fontsize=12)\n",
        "plt.show()"
      ]
    },
    {
      "cell_type": "markdown",
      "metadata": {
        "_cell_guid": "08399c96-33e7-5dab-bfdb-52d38171bab8"
      },
      "source": [
        ""
      ]
    },
    {
      "cell_type": "code",
      "execution_count": null,
      "metadata": {
        "_cell_guid": "9ae3f4d9-1b74-9490-72c1-553566a34fd3"
      },
      "outputs": [],
      "source": [
        "train['y'].describe()"
      ]
    },
    {
      "cell_type": "code",
      "execution_count": null,
      "metadata": {
        "_cell_guid": "3e9c3c81-28e6-accc-5b86-08c478e2f739"
      },
      "outputs": [],
      "source": [
        "np.percentile(train['y'],[5,95])"
      ]
    },
    {
      "cell_type": "markdown",
      "metadata": {
        "_cell_guid": "e4be118b-0679-cd8c-ae68-9711e07827f0"
      },
      "source": [
        ""
      ]
    },
    {
      "cell_type": "code",
      "execution_count": null,
      "metadata": {
        "_cell_guid": "c35f5692-c71a-fe48-500c-0f74c28a8db9"
      },
      "outputs": [],
      "source": [
        "plt.figure(figsize=(18,8))\n",
        "train['y'].plot(kind='kde')\n",
        "plt.xlim([50,200])\n",
        "plt.xlabel('y')\n",
        "plt.show()"
      ]
    },
    {
      "cell_type": "markdown",
      "metadata": {
        "_cell_guid": "e38f7f08-fc57-dfc4-ffa7-191d9e0c1314"
      },
      "source": [
        ""
      ]
    },
    {
      "cell_type": "code",
      "execution_count": null,
      "metadata": {
        "_cell_guid": "65ecbc02-5968-9e74-71dd-635acb733534"
      },
      "outputs": [],
      "source": [
        "categorical_features=[x for x in train.columns if train[x].dtype=='object']\n",
        "print (categorical_features)"
      ]
    },
    {
      "cell_type": "markdown",
      "metadata": {
        "_cell_guid": "ec1395a2-9c81-68ae-a1f8-edc794c60b05"
      },
      "source": [
        ""
      ]
    },
    {
      "cell_type": "code",
      "execution_count": null,
      "metadata": {
        "_cell_guid": "49943f53-6add-00c7-063f-4438577b4567"
      },
      "outputs": [],
      "source": [
        "def plot_pie(column):\n",
        "    train_dist=train.groupby(column).size().to_frame().reset_index().sort_values(0,ascending=False)\n",
        "    print (\"%s contains %s categories in train data and top 5 categories contribute to %s percent entries \"%(column,train_dist.shape[0],round(train_dist.head()[0].sum()*100.0/train.shape[0],2)))\n",
        "    test_dist=test.groupby(column).size().to_frame().reset_index().sort_values(0,ascending=False)\n",
        "    print (\"%s contains %s categories in test data and top 5 categories contribute to %s percent entries \"%(column,test_dist.shape[0],round(test_dist.head()[0].sum()*100.0/test.shape[0],2)))\n",
        "    fig, (ax1, ax2) = plt.subplots(1, 2, figsize=(12,12),subplot_kw={'aspect':'equal'})\n",
        "    ax1.pie(train_dist[0],labels=train_dist[column],autopct='%.2f')\n",
        "    ax1.set_title(\"Distribution of %s categories in train data\"%column)\n",
        "    ax2.pie(test_dist[0],labels=test_dist[column],autopct='%.2f')\n",
        "    ax2.set_title(\"Distribution of %s categories in test data\"%column)\n",
        "    plt.tight_layout()\n",
        "    plt.show()"
      ]
    },
    {
      "cell_type": "code",
      "execution_count": null,
      "metadata": {
        "_cell_guid": "ea59621d-dcdf-1639-8c94-88e9d2b7f97d"
      },
      "outputs": [],
      "source": [
        "def plot_bar_with_error(column):\n",
        "    mean=train.groupby(column)['y'].mean().to_frame().reset_index().rename(columns = {'y':'mean'})\n",
        "    std=train.groupby(column)['y'].std().to_frame().reset_index().fillna(0).rename(columns = {'y':'std'})\n",
        "    mean_std=pd.merge(mean,std,how='left',on=column).sort_values('mean',ascending=False)\n",
        "    colors = cm.gist_rainbow((mean_std['mean']-mean_std['mean'].min()) / float(mean_std['mean'].min()))\n",
        "    \n",
        "    fig=plt.figure(figsize=(18,8))\n",
        "    ax = fig.add_subplot(111)\n",
        "    ax.bar(np.arange(mean_std.shape[0]),mean_std['mean'],yerr=mean_std['std'],color=colors)\n",
        "    ax.set_xticks(np.arange(mean_std.shape[0]))\n",
        "    ax.set_xticklabels(mean_std[column])\n",
        "    ax.set_title(\"Impact of categories of %s on time\" %column)\n",
        "    plt.show()"
      ]
    },
    {
      "cell_type": "code",
      "execution_count": null,
      "metadata": {
        "_cell_guid": "778817aa-712b-5ec9-b928-7230790e7fb5"
      },
      "outputs": [],
      "source": [
        "# X0\n",
        "plot_pie('X0')"
      ]
    },
    {
      "cell_type": "markdown",
      "metadata": {
        "_cell_guid": "592d69d3-53f5-6dd4-3124-e7c9e33cc286"
      },
      "source": [
        ""
      ]
    },
    {
      "cell_type": "code",
      "execution_count": null,
      "metadata": {
        "_cell_guid": "65ce695e-4490-f3eb-5729-edbd0237d9b1"
      },
      "outputs": [],
      "source": [
        "train_X0=train.groupby('X0').size().to_frame().reset_index().rename(columns = {0:'train_x0'})\n",
        "test_X0=test.groupby('X0').size().to_frame().reset_index().rename(columns = {0:'test_x0'})\n",
        "train_test=pd.merge(test_X0,train_X0,how='left',on='X0')\n",
        "train_test[train_test['train_x0'].isnull()]"
      ]
    },
    {
      "cell_type": "markdown",
      "metadata": {
        "_cell_guid": "6547a2ff-0e84-6e69-abbb-b342d639f6d8"
      },
      "source": [
        ""
      ]
    },
    {
      "cell_type": "code",
      "execution_count": null,
      "metadata": {
        "_cell_guid": "ac7e1101-82d0-88f3-e4ac-c447983e892d"
      },
      "outputs": [],
      "source": [
        "plot_bar_with_error('X0')"
      ]
    },
    {
      "cell_type": "markdown",
      "metadata": {
        "_cell_guid": "322e4716-c5fd-79bf-71b3-6b8abaf12dc9"
      },
      "source": [
        ""
      ]
    },
    {
      "cell_type": "code",
      "execution_count": null,
      "metadata": {
        "_cell_guid": "28b8ed2f-9a8c-a80a-9e23-d1786c2393a6"
      },
      "outputs": [],
      "source": [
        "#X1\n",
        "plot_pie('X1')"
      ]
    },
    {
      "cell_type": "markdown",
      "metadata": {
        "_cell_guid": "f9ff8382-6ab0-11f0-2ae0-aab3a4fce270"
      },
      "source": [
        ""
      ]
    },
    {
      "cell_type": "code",
      "execution_count": null,
      "metadata": {
        "_cell_guid": "a1311d89-2c03-1854-70ea-67ba1166dea2"
      },
      "outputs": [],
      "source": [
        "plot_bar_with_error('X1')"
      ]
    },
    {
      "cell_type": "code",
      "execution_count": null,
      "metadata": {
        "_cell_guid": "dd709eef-6cf7-136f-f621-8ac581ce8f7c"
      },
      "outputs": [],
      "source": [
        "plot_pie('X2')"
      ]
    },
    {
      "cell_type": "code",
      "execution_count": null,
      "metadata": {
        "_cell_guid": "e9c5e18a-09b0-442c-1929-1a79275feebe"
      },
      "outputs": [],
      "source": [
        "plot_bar_with_error(\"X2\")"
      ]
    },
    {
      "cell_type": "markdown",
      "metadata": {
        "_cell_guid": "bf97987a-85f3-c4e4-931f-4c76c1c4acf0"
      },
      "source": [
        ""
      ]
    },
    {
      "cell_type": "code",
      "execution_count": null,
      "metadata": {
        "_cell_guid": "5bd23f44-7438-6c87-9d95-def0ca524ee1"
      },
      "outputs": [],
      "source": [
        "train.groupby('X2').size().to_frame().reset_index().sort_values(0).head(8)"
      ]
    },
    {
      "cell_type": "code",
      "execution_count": null,
      "metadata": {
        "_cell_guid": "3795a810-7b63-3398-0a3d-ae5518ca0456"
      },
      "outputs": [],
      "source": [
        "plot_pie('X3')"
      ]
    },
    {
      "cell_type": "markdown",
      "metadata": {
        "_cell_guid": "83eff567-cbcc-2a85-5b02-89f9d20e4012"
      },
      "source": [
        ""
      ]
    },
    {
      "cell_type": "code",
      "execution_count": null,
      "metadata": {
        "_cell_guid": "7651eaa9-3c77-dd06-69f7-0ace452a1805"
      },
      "outputs": [],
      "source": [
        "plot_bar_with_error('X3')"
      ]
    },
    {
      "cell_type": "markdown",
      "metadata": {
        "_cell_guid": "817aad9d-0cb6-68ea-4893-88602b2c7e6d"
      },
      "source": [
        ""
      ]
    },
    {
      "cell_type": "code",
      "execution_count": null,
      "metadata": {
        "_cell_guid": "a781ac75-c8ea-3eb8-7c67-431118851426"
      },
      "outputs": [],
      "source": [
        "plot_pie('X4')"
      ]
    },
    {
      "cell_type": "markdown",
      "metadata": {
        "_cell_guid": "828a1367-cf45-760b-467e-58003065a7eb"
      },
      "source": [
        ""
      ]
    },
    {
      "cell_type": "code",
      "execution_count": null,
      "metadata": {
        "_cell_guid": "7ee88d3a-13d8-74b8-6863-bc653bbb1126"
      },
      "outputs": [],
      "source": [
        "plot_pie('X5')"
      ]
    },
    {
      "cell_type": "markdown",
      "metadata": {
        "_cell_guid": "4d298d0f-43c7-9ac6-7bbf-0cff54e929de"
      },
      "source": [
        ""
      ]
    },
    {
      "cell_type": "code",
      "execution_count": null,
      "metadata": {
        "_cell_guid": "60a3b08d-4817-66f4-182e-5b959381587f"
      },
      "outputs": [],
      "source": [
        "plot_bar_with_error('X5')"
      ]
    },
    {
      "cell_type": "code",
      "execution_count": null,
      "metadata": {
        "_cell_guid": "67a63f8f-e4c8-8e18-ea5f-866ceda733ce"
      },
      "outputs": [],
      "source": [
        "train.groupby('X5').size().to_frame().reset_index().sort_values(0).head(5)"
      ]
    },
    {
      "cell_type": "markdown",
      "metadata": {
        "_cell_guid": "f7cd439e-3efc-4447-17a0-c33f88336a77"
      },
      "source": [
        ""
      ]
    },
    {
      "cell_type": "code",
      "execution_count": null,
      "metadata": {
        "_cell_guid": "f9430495-b87a-32b0-8f08-082cd68c6810"
      },
      "outputs": [],
      "source": [
        "plot_pie('X6')"
      ]
    },
    {
      "cell_type": "markdown",
      "metadata": {
        "_cell_guid": "951632e3-d10f-03f5-a87c-ab943886d3e3"
      },
      "source": [
        ""
      ]
    },
    {
      "cell_type": "code",
      "execution_count": null,
      "metadata": {
        "_cell_guid": "f143e4dd-a55b-f915-494c-5f3311c64c22"
      },
      "outputs": [],
      "source": [
        "plot_bar_with_error('X6')"
      ]
    },
    {
      "cell_type": "code",
      "execution_count": null,
      "metadata": {
        "_cell_guid": "fc7d8cf6-e7cb-55e5-9b58-8345d3b49aac"
      },
      "outputs": [],
      "source": [
        "plot_pie('X8')"
      ]
    },
    {
      "cell_type": "markdown",
      "metadata": {
        "_cell_guid": "6cf4cf62-397c-4206-b4b5-309fee0f0c7c"
      },
      "source": [
        ""
      ]
    },
    {
      "cell_type": "code",
      "execution_count": null,
      "metadata": {
        "_cell_guid": "46c4b519-9210-dae6-3e18-46e1a9c08ea9"
      },
      "outputs": [],
      "source": [
        "plot_bar_with_error('X8')"
      ]
    },
    {
      "cell_type": "markdown",
      "metadata": {
        "_cell_guid": "8945181b-bd80-1879-1224-d50530eb766b"
      },
      "source": [
        ""
      ]
    },
    {
      "cell_type": "markdown",
      "metadata": {
        "_cell_guid": "e3e37138-8d2a-6920-9c77-41b7d6d65a18"
      },
      "source": [
        "### Integer Features\n",
        "Let's check the features having data type as integer."
      ]
    },
    {
      "cell_type": "code",
      "execution_count": null,
      "metadata": {
        "_cell_guid": "71d28ad1-39ac-3606-460b-2dfb7f9f9df4"
      },
      "outputs": [],
      "source": [
        "integer=[x for x in train.columns if train[x].dtype==int]\n",
        "print (integer)\n",
        "print (len(integer))"
      ]
    },
    {
      "cell_type": "markdown",
      "metadata": {
        "_cell_guid": "53711bc3-0a3c-68f7-4cdc-2b393092cbcd"
      },
      "source": [
        ""
      ]
    },
    {
      "cell_type": "code",
      "execution_count": null,
      "metadata": {
        "_cell_guid": "f7323ecd-e3cf-8797-5623-c3b9dbab5a8d"
      },
      "outputs": [],
      "source": [
        "integer.remove('ID')\n",
        "train[integer].head(10)"
      ]
    },
    {
      "cell_type": "markdown",
      "metadata": {
        "_cell_guid": "b6984ba7-b642-e248-c5b1-54311c1f99d3"
      },
      "source": [
        ""
      ]
    },
    {
      "cell_type": "code",
      "execution_count": null,
      "metadata": {
        "_cell_guid": "bc55306a-f8ee-62f8-5ee9-7af9968ed429"
      },
      "outputs": [],
      "source": [
        "label_count=train[integer].apply(pd.value_counts)  \n",
        "label_count"
      ]
    },
    {
      "cell_type": "markdown",
      "metadata": {
        "_cell_guid": "7307ded6-08ee-73e9-bf9c-71453a393a69"
      },
      "source": [
        ""
      ]
    },
    {
      "cell_type": "code",
      "execution_count": null,
      "metadata": {
        "_cell_guid": "4e30608a-b2a3-78ce-8496-9a31a06fa8ff"
      },
      "outputs": [],
      "source": [
        "#Columns containing only 1\n",
        "one_label=label_count.columns[label_count.iloc[0,:].isnull()]\n",
        "one_label"
      ]
    },
    {
      "cell_type": "code",
      "execution_count": null,
      "metadata": {
        "_cell_guid": "7c0424aa-8ed7-16e9-51b8-dc54990e51c4"
      },
      "outputs": [],
      "source": [
        "zero_label=label_count.columns[label_count.iloc[1,:].isnull()]\n",
        "zero_label"
      ]
    },
    {
      "cell_type": "code",
      "execution_count": null,
      "metadata": {
        "_cell_guid": "747efe6a-1b24-992e-d756-713a67460699"
      },
      "outputs": [],
      "source": [
        "#Drop columns containing only one values from the integer\n",
        "integer=[x for x in integer if x not in zero_label]\n",
        "len(integer)"
      ]
    },
    {
      "cell_type": "markdown",
      "metadata": {
        "_cell_guid": "6a0b9b9e-604d-e381-c3a5-014fce814c1d"
      },
      "source": [
        ""
      ]
    },
    {
      "cell_type": "code",
      "execution_count": null,
      "metadata": {
        "_cell_guid": "b44fe788-61e9-f643-c60e-7027c92b4cbd"
      },
      "outputs": [],
      "source": [
        "label_count=train[integer].apply(pd.value_counts).transpose().sort_values(1,ascending=True)\n",
        "fig=label_count.plot(kind='bar',label=['0','1'],color=['r','g'],stacked=True,figsize=(100,50),fontsize=50)\n",
        "plt.legend(prop={'size':80})\n",
        "plt.show()"
      ]
    },
    {
      "cell_type": "markdown",
      "metadata": {
        "_cell_guid": "6310709e-df4a-d58f-6f81-454139f727b4"
      },
      "source": [
        ""
      ]
    },
    {
      "cell_type": "code",
      "execution_count": null,
      "metadata": {
        "_cell_guid": "0d50a813-c41c-683d-57d1-c82892bd0928"
      },
      "outputs": [],
      "source": [
        "fig=label_count[(label_count[1]>10) & (label_count[0]>10)].plot(kind='bar',label=['0','1'],color=['r','g'],stacked=True,figsize=(100,50),fontsize=50)\n",
        "plt.legend(prop={'size':80},bbox_to_anchor=(1, 1))\n",
        "plt.show()"
      ]
    },
    {
      "cell_type": "code",
      "execution_count": null,
      "metadata": {
        "_cell_guid": "479d2067-85d3-a406-4a38-7f6517ecade8"
      },
      "outputs": [],
      "source": [
        "label_count[(label_count[1]>10) & (label_count[0]>10)].shape[0]"
      ]
    },
    {
      "cell_type": "markdown",
      "metadata": {
        "_cell_guid": "ea1a2661-001c-0944-1872-5ec6ff2992d3"
      },
      "source": [
        ""
      ]
    },
    {
      "cell_type": "code",
      "execution_count": null,
      "metadata": {
        "_cell_guid": "dbe6d7b9-7d93-5c7c-4be2-925f48cb3eee"
      },
      "outputs": [],
      "source": [
        "integer=label_count[(label_count[1]>10) & (label_count[0]>10)].index\n",
        "label_average=[]\n",
        "for column in integer:\n",
        "    grouped_df=train.groupby(column)['y'].mean().to_frame().reset_index()\n",
        "    label_average.append([column,grouped_df.loc[0,'y'],grouped_df.loc[1,'y']])\n",
        "    \n",
        "label_average=pd.DataFrame(label_average,columns=['column','mean_0','mean_1'])\n",
        "label_average['mean_difference']=label_average['mean_1']-label_average['mean_0']\n",
        "fig=label_average.sort_values('mean_difference')['mean_difference'].plot(kind='bar',figsize=(100,50),fontsize=50)\n",
        "plt.title(\"Difference in mean time taken according to presence or absence of a feature\",fontsize=70)\n",
        "plt.show()"
      ]
    },
    {
      "cell_type": "markdown",
      "metadata": {
        "_cell_guid": "6eb026f6-e679-8f77-da2c-f0c6b1b6e1cf"
      },
      "source": [
        ""
      ]
    },
    {
      "cell_type": "markdown",
      "metadata": {
        "_cell_guid": "751190e1-f3dd-1d56-84e1-083a12531c1c"
      },
      "source": [
        "Please let me know your feedback on the EDA."
      ]
    }
  ],
  "metadata": {
    "_change_revision": 0,
    "_is_fork": false,
    "kernelspec": {
      "display_name": "Python 3",
      "language": "python",
      "name": "python3"
    },
    "language_info": {
      "codemirror_mode": {
        "name": "ipython",
        "version": 3
      },
      "file_extension": ".py",
      "mimetype": "text/x-python",
      "name": "python",
      "nbconvert_exporter": "python",
      "pygments_lexer": "ipython3",
      "version": "3.6.0"
    }
  },
  "nbformat": 4,
  "nbformat_minor": 0
}