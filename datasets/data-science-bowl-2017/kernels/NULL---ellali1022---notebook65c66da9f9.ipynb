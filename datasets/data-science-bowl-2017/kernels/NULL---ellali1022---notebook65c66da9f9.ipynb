{
  "cells": [
    {
      "cell_type": "markdown",
      "metadata": {
        "_cell_guid": "2bca8554-c3c2-57d4-948c-55c11dd396a5"
      },
      "source": [
        ""
      ]
    },
    {
      "cell_type": "code",
      "execution_count": null,
      "metadata": {
        "_cell_guid": "16afdef1-3e25-511a-f8a5-3e1d465e03f9"
      },
      "outputs": [],
      "source": [
        "import numpy as np # linear algebra\n",
        "import pandas as pd # data processing, CSV file I/O (e.g. pd.read_csv)\n",
        "import dicom\n",
        "import os\n",
        "import scipy.ndimage\n",
        "import matplotlib.pyplot as plt\n",
        "\n",
        "from skimage import measure, morphology\n",
        "from mpl_toolkits.mplot3d.art3d import Poly3DCollection\n",
        "\n",
        "# Some constants \n",
        "INPUT_FOLDER = '../input/sample_images/'\n",
        "patients = os.listdir(INPUT_FOLDER)\n",
        "patients.sort()\n",
        "\n",
        "print(patients)"
      ]
    },
    {
      "cell_type": "code",
      "execution_count": null,
      "metadata": {
        "_cell_guid": "b91482e1-ed87-bf4f-49fe-358989662857"
      },
      "outputs": [],
      "source": [
        "# Load the scans in given folder path\n",
        "def load_scan(path):\n",
        "    slices = [dicom.read_file(path + '/' + s) for s in os.listdir(path)]\n",
        "    slices.sort(key = lambda x: float(x.ImagePositionPatient[2]))\n",
        "    try:\n",
        "        slice_thickness = np.abs(slices[0].ImagePositionPatient[2] - slices[1].ImagePositionPatient[2])\n",
        "    except:\n",
        "        slice_thickness = np.abs(slices[0].SliceLocation - slices[1].SliceLocation)\n",
        "        \n",
        "    for s in slices:\n",
        "        s.SliceThickness = slice_thickness\n",
        "        \n",
        "    return slices"
      ]
    },
    {
      "cell_type": "code",
      "execution_count": null,
      "metadata": {
        "_cell_guid": "62731668-0ef3-b9a5-ae68-7cd57e3e4d3b"
      },
      "outputs": [],
      "source": [
        "def get_pixels_hu(slices):\n",
        "    image = np.stack([s.pixel_array for s in slices])\n",
        "    # Convert to int16 (from sometimes int16), \n",
        "    # should be possible as values should always be low enough (<32k)\n",
        "    image = image.astype(np.int16)\n",
        "\n",
        "    # Set outside-of-scan pixels to 0\n",
        "    # The intercept is usually -1024, so air is approximately 0\n",
        "    image[image == -2000] = 0\n",
        "    \n",
        "    # Convert to Hounsfield units (HU)\n",
        "    for slice_number in range(len(slices)):\n",
        "        \n",
        "        intercept = slices[slice_number].RescaleIntercept\n",
        "        slope = slices[slice_number].RescaleSlope\n",
        "        \n",
        "        if slope != 1:\n",
        "            image[slice_number] = slope * image[slice_number].astype(np.float64)\n",
        "            image[slice_number] = image[slice_number].astype(np.int16)\n",
        "            \n",
        "        image[slice_number] += np.int16(intercept)\n",
        "    \n",
        "    return np.array(image, dtype=np.int16)"
      ]
    },
    {
      "cell_type": "code",
      "execution_count": null,
      "metadata": {
        "_cell_guid": "86bbeb0f-9a32-df6b-4b4f-d9a4eb8607c8"
      },
      "outputs": [],
      "source": [
        "# Some of the starting Code is taken from ArnavJain, since it's more readable then my own\n",
        "def generate_markers(image):\n",
        "    #Creation of the internal Marker\n",
        "    marker_internal = image < -400\n",
        "    marker_internal = segmentation.clear_border(marker_internal)\n",
        "    marker_internal_labels = measure.label(marker_internal)\n",
        "    areas = [r.area for r in measure.regionprops(marker_internal_labels)]\n",
        "    areas.sort()\n",
        "    if len(areas) > 2:\n",
        "        for region in measure.regionprops(marker_internal_labels):\n",
        "            if region.area < areas[-2]:\n",
        "                for coordinates in region.coords:                \n",
        "                       marker_internal_labels[coordinates[0], coordinates[1]] = 0\n",
        "    marker_internal = marker_internal_labels > 0\n",
        "    #Creation of the external Marker\n",
        "    external_a = ndimage.binary_dilation(marker_internal, iterations=10)\n",
        "    external_b = ndimage.binary_dilation(marker_internal, iterations=55)\n",
        "    marker_external = external_b ^ external_a\n",
        "    #Creation of the Watershed Marker matrix\n",
        "    marker_watershed = np.zeros((512, 512), dtype=np.int)\n",
        "    marker_watershed += marker_internal * 255\n",
        "    marker_watershed += marker_external * 128\n",
        "    \n",
        "    return marker_internal, marker_external, marker_watershed\n",
        "\n",
        "#Show some example markers from the middle        \n",
        "test_patient_internal, test_patient_external, test_patient_watershed = generate_markers(patient[1])\n",
        "print (\"Internal Marker\")\n",
        "plt.imshow(test_patient_internal, cmap='gray')\n",
        "plt.show()\n",
        "print (\"External Marker\")\n",
        "plt.imshow(test_patient_external, cmap='gray')\n",
        "plt.show()\n",
        "print (\"Watershed Marker\")\n",
        "plt.imshow(test_patient_watershed, cmap='gray')\n",
        "plt.show()"
      ]
    },
    {
      "cell_type": "code",
      "execution_count": null,
      "metadata": {
        "_cell_guid": "3c4d7976-4298-c692-4f31-8999270278ec"
      },
      "outputs": [],
      "source": [
        "def seperate_lungs(image):\n",
        "    #Creation of the markers as shown above:\n",
        "    marker_internal, marker_external, marker_watershed = generate_markers(image)\n",
        "    \n",
        "    #Creation of the Sobel-Gradient\n",
        "    sobel_filtered_dx = ndimage.sobel(image, 1)\n",
        "    sobel_filtered_dy = ndimage.sobel(image, 0)\n",
        "    sobel_gradient = np.hypot(sobel_filtered_dx, sobel_filtered_dy)\n",
        "    sobel_gradient *= 255.0 / np.max(sobel_gradient)\n",
        "    \n",
        "    #Watershed algorithm\n",
        "    watershed = morphology.watershed(sobel_gradient, marker_watershed)\n",
        "    \n",
        "    #Reducing the image created by the Watershed algorithm to its outline\n",
        "    outline = ndimage.morphological_gradient(watershed, size=(3,3))\n",
        "    outline = outline.astype(bool)\n",
        "    \n",
        "    #Performing Black-Tophat Morphology for reinclusion\n",
        "    #Creation of the disk-kernel and increasing its size a bit\n",
        "    blackhat_struct = [[0, 0, 1, 1, 1, 0, 0],\n",
        "                       [0, 1, 1, 1, 1, 1, 0],\n",
        "                       [1, 1, 1, 1, 1, 1, 1],\n",
        "                       [1, 1, 1, 1, 1, 1, 1],\n",
        "                       [1, 1, 1, 1, 1, 1, 1],\n",
        "                       [0, 1, 1, 1, 1, 1, 0],\n",
        "                       [0, 0, 1, 1, 1, 0, 0]]\n",
        "    blackhat_struct = ndimage.iterate_structure(blackhat_struct, 8)\n",
        "    #Perform the Black-Hat\n",
        "    outline += ndimage.black_tophat(outline, structure=blackhat_struct)\n",
        "    \n",
        "    #Use the internal marker and the Outline that was just created to generate the lungfilter\n",
        "    lungfilter = np.bitwise_or(marker_internal, outline)\n",
        "    #Close holes in the lungfilter\n",
        "    #fill_holes is not used here, since in some slices the heart would be reincluded by accident\n",
        "    lungfilter = ndimage.morphology.binary_closing(lungfilter, structure=np.ones((5,5)), iterations=3)\n",
        "    \n",
        "    #Apply the lungfilter (note the filtered areas being assigned -2000 HU)\n",
        "    segmented = np.where(lungfilter == 1, image, -2000*np.ones((512, 512)))\n",
        "    \n",
        "    return segmented, lungfilter, outline, watershed, sobel_gradient, marker_internal, marker_external, marker_watershed\n",
        "\n",
        "#Some Testcode:\n",
        "test_segmented, test_lungfilter, test_outline, test_watershed, test_sobel_gradient, test_marker_internal, test_marker_external, test_marker_watershed = seperate_lungs(test_patient_images[65])\n",
        "\n",
        "print (\"Sobel Gradient\")\n",
        "plt.imshow(test_sobel_gradient, cmap='gray')\n",
        "plt.show()\n",
        "print (\"Watershed Image\")\n",
        "plt.imshow(test_watershed, cmap='gray')\n",
        "plt.show()\n",
        "print (\"Outline after reinclusion\")\n",
        "plt.imshow(test_outline, cmap='gray')\n",
        "plt.show()\n",
        "print (\"Lungfilter after closing\")\n",
        "plt.imshow(test_lungfilter, cmap='gray')\n",
        "plt.show()\n",
        "print (\"Segmented Lung\")\n",
        "plt.imshow(test_segmented, cmap='gray')\n",
        "plt.show()"
      ]
    },
    {
      "cell_type": "code",
      "execution_count": null,
      "metadata": {
        "_cell_guid": "9e020aeb-0e47-594c-15fa-4d3e9d833224"
      },
      "outputs": [],
      "source": [
        "import cv2\n",
        "\n",
        "\n",
        "IMG_PX_SIZE = 150\n",
        "\n",
        "for patient in patients[:1]:\n",
        "    #label = labels_df.get_value(patient, 'cancer')\n",
        "    path = data_dir + patient\n",
        "    slices = [dicom.read_file(path + '/' + s) for s in os.listdir(path)]\n",
        "    slices.sort(key = lambda x: int(x.ImagePositionPatient[2]))\n",
        "    fig = plt.figure()\n",
        "    for num,each_slice in enumerate(slices[:12]):\n",
        "        y = fig.add_subplot(3,4,num+1)\n",
        "        new_img = cv2.resize(np.array(each_slice.pixel_array),(IMG_PX_SIZE,IMG_PX_SIZE))\n",
        "        y.imshow(new_img)\n",
        "    plt.show()"
      ]
    },
    {
      "cell_type": "code",
      "execution_count": null,
      "metadata": {
        "_cell_guid": "48172d4d-45d1-fa6a-e598-9d0d594b594c"
      },
      "outputs": [],
      "source": [
        "for i in range(len(patients)):\n",
        "    patient[i] = load_scan(INPUT_FOLDER + patients[i])\n",
        "  "
      ]
    },
    {
      "cell_type": "code",
      "execution_count": null,
      "metadata": {
        "_cell_guid": "cf482326-771b-413d-f3a4-bf6fa1e9dfb6"
      },
      "outputs": [],
      "source": [
        "for i in range(len(patients)):\n",
        "    ppl[i] = load_scan(INPUT_FOLDER + patients[i])\n",
        "\n",
        "for i in range(len(patients)):\n",
        "    ppl_pixel[i] = get_pixels_hu(ppl[i])\n",
        "\n",
        "  \n",
        "#print (ppl_pixels[1])\n",
        "  \n",
        "'''\n",
        "    plt.hist(patient_pixels[1].flatten(), bins=80, color='c')\n",
        "plt.xlabel(\"Hounsfield Units (HU)\")\n",
        "plt.ylabel(\"Frequency\")\n",
        "plt.show()\n",
        "\n",
        "# Show some slice in the middle\n",
        "plt.imshow(patient_pixels[80], cmap=plt.cm.gray)\n",
        "plt.show()\n",
        "'''"
      ]
    }
  ],
  "metadata": {
    "_change_revision": 0,
    "_is_fork": false,
    "kernelspec": {
      "display_name": "Python 3",
      "language": "python",
      "name": "python3"
    },
    "language_info": {
      "codemirror_mode": {
        "name": "ipython",
        "version": 3
      },
      "file_extension": ".py",
      "mimetype": "text/x-python",
      "name": "python",
      "nbconvert_exporter": "python",
      "pygments_lexer": "ipython3",
      "version": "3.6.0"
    }
  },
  "nbformat": 4,
  "nbformat_minor": 0
}