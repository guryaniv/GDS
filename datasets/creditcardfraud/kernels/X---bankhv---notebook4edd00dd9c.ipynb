{
  "cells": [
    {
      "cell_type": "code",
      "execution_count": null,
      "metadata": {
        "_cell_guid": "1668fbae-9f95-9101-a9c3-26159d2ffcef"
      },
      "outputs": [],
      "source": [
        "from sklearn.linear_model import LogisticRegression\n",
        "from sklearn.model_selection import cross_val_score\n",
        "from sklearn import preprocessing\n",
        "import pandas as pd\n",
        "import numpy as np\n",
        "from matplotlib import pyplot as plt\n",
        "%matplotlib inline\n",
        "\n",
        "# Any results you write to the current directory are saved as output."
      ]
    },
    {
      "cell_type": "code",
      "execution_count": null,
      "metadata": {
        "_cell_guid": "f223ccde-8f5f-8a03-5fc9-d3699e2488e2"
      },
      "outputs": [],
      "source": [
        "df= pd.read_csv(\"../input/creditcard.csv\")"
      ]
    },
    {
      "cell_type": "code",
      "execution_count": null,
      "metadata": {
        "_cell_guid": "f1af1a5b-5582-108e-51ed-217c8cdf7a90"
      },
      "outputs": [],
      "source": [
        "df.head(5)"
      ]
    },
    {
      "cell_type": "code",
      "execution_count": null,
      "metadata": {
        "_cell_guid": "a77e0cc4-34ee-3881-5708-fada966ee98d"
      },
      "outputs": [],
      "source": [
        "features = df.columns[0:-1]\n",
        "df[features].corrwith(df[df.columns[-1]])"
      ]
    },
    {
      "cell_type": "code",
      "execution_count": null,
      "metadata": {
        "_cell_guid": "f2cc116e-3ed2-e810-15d7-aa4c2fbd011b"
      },
      "outputs": [],
      "source": [
        "print(df.mean())"
      ]
    },
    {
      "cell_type": "code",
      "execution_count": null,
      "metadata": {
        "_cell_guid": "5cec63a3-b3ad-02e9-5ff8-1c62be817a07"
      },
      "outputs": [],
      "source": [
        "from sklearn.preprocessing import scale\n",
        "from sklearn.utils import shuffle\n",
        "\n",
        "df= pd.read_csv(\"../input/creditcard.csv\")\n",
        "#df = df.drop('Time', 1)\n",
        "df = df.drop('Amount', 1)\n",
        "#df = df.drop('V2', 1)\n",
        "#df = df.drop('V4', 1)\n",
        "#df = df.drop('V20', 1)\n",
        "#all_data = all_data.drop('V13', 1)\n",
        "#all_data = all_data.drop('V15', 1)\n",
        "#all_data = all_data.drop('V19', 1)\n",
        "#all_data = all_data.drop('V20', 1)\n",
        "#all_data = all_data.drop('V21', 1)\n",
        "#all_data = all_data.drop('V22', 1)\n",
        "#all_data = all_data.drop('V23', 1)\n",
        "#all_data = all_data.drop('V24', 1)\n",
        "#all_data = all_data.drop('V25', 1)\n",
        "#all_data = all_data.drop('V26', 1)\n",
        "#all_data = all_data.drop('V27', 1)\n",
        "#all_data = all_data.drop('V28', 1)\n",
        "df['feature1'] = df['V1'] * df['V3']\n",
        "\n",
        "df_shuffled = shuffle(df, random_state = 123)\n",
        "X = scale(df_shuffled[df_shuffled.columns[:-1]])\n",
        "y = df_shuffled[\"Class\"]\n",
        "\n",
        "lr = LogisticRegression()\n",
        "scores = cross_val_score(lr, X, y, cv = 5)\n",
        "print(\"Accuracy: %0.10f (+/- %0.10f)\" % (scores.mean(), scores.std() * 2))"
      ]
    }
  ],
  "metadata": {
    "_change_revision": 0,
    "_is_fork": false,
    "kernelspec": {
      "display_name": "Python 3",
      "language": "python",
      "name": "python3"
    },
    "language_info": {
      "codemirror_mode": {
        "name": "ipython",
        "version": 3
      },
      "file_extension": ".py",
      "mimetype": "text/x-python",
      "name": "python",
      "nbconvert_exporter": "python",
      "pygments_lexer": "ipython3",
      "version": "3.5.2"
    }
  },
  "nbformat": 4,
  "nbformat_minor": 0
}