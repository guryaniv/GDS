{
  "cells": [
    {
      "cell_type": "markdown",
      "metadata": {
        "_cell_guid": "129017a8-3ebb-430c-37c4-4b16351efb13"
      },
      "source": [
        "It has been mentioned already that listing freshness is important as it listing_id so let us explore!"
      ]
    },
    {
      "cell_type": "code",
      "execution_count": null,
      "metadata": {
        "_cell_guid": "32445251-b12b-5b25-8b5d-40ed7ab2e289"
      },
      "outputs": [],
      "source": [
        "import numpy as np # linear algebra\n",
        "import pandas as pd # data processing, CSV file I/O (e.g. pd.read_csv)\n",
        "import matplotlib.pyplot as plt\n",
        "import seaborn as sns\n",
        "%matplotlib inline"
      ]
    },
    {
      "cell_type": "code",
      "execution_count": null,
      "metadata": {
        "_cell_guid": "8bbbf0a1-fc61-d27f-fea4-345c0811d124"
      },
      "outputs": [],
      "source": [
        "X_train = pd.read_json(\"../input/train.json\")\n",
        "X_train = X_train.reset_index(drop=True)\n",
        "X_train['created'] = pd.to_datetime(X_train[\"created\"])\n",
        "X_train.sort_values(by='created',inplace=True)\n",
        "interest_level_map = {'low': 0, 'medium': 1, 'high': 2}\n",
        "X_train['interest_level'] = X_train['interest_level'].apply(lambda x: interest_level_map[x])\n",
        "X_train['initial_listing_id'] = X_train['photos'].apply(lambda x: x[0] if len(x)> 0 else '').str.extract('.com\\/\\d\\/(\\d{1,7})',expand=False).fillna('-1').astype(int)\n",
        "X_train[\"num_photos\"] = X_train[\"photos\"].apply(len)"
      ]
    },
    {
      "cell_type": "code",
      "execution_count": null,
      "metadata": {
        "_cell_guid": "957d9c32-878a-1834-cb00-dfb4cf5bb4b7"
      },
      "outputs": [],
      "source": [
        "colors = ['red','green','blue']\n",
        "flt = (X_train.num_photos>0)&(X_train.interest_level==2)\n",
        "plt.figure(figsize=(10,10))\n",
        "plt.scatter(X_train[flt]['initial_listing_id'],X_train[flt].listing_id,color=[colors[x] for x in X_train[flt].interest_level])"
      ]
    },
    {
      "cell_type": "code",
      "execution_count": null,
      "metadata": {
        "_cell_guid": "94db46b1-8af6-e69f-6b16-3e38b5aa679b"
      },
      "outputs": [],
      "source": [
        "flt = (X_train.num_photos>0)&(X_train.interest_level==1)\n",
        "plt.figure(figsize=(10,10))\n",
        "plt.scatter(X_train[flt]['initial_listing_id'],X_train[flt].listing_id,color=[colors[x] for x in X_train[flt].interest_level])"
      ]
    },
    {
      "cell_type": "code",
      "execution_count": null,
      "metadata": {
        "_cell_guid": "f9a10741-f924-e5fc-b68c-0c87e6ce2245"
      },
      "outputs": [],
      "source": [
        "flt = (X_train.num_photos>0)&(X_train.interest_level==0)\n",
        "plt.figure(figsize=(10,10))\n",
        "plt.scatter(X_train[flt]['initial_listing_id'],X_train[flt].listing_id,color=[colors[x] for x in X_train[flt].interest_level])"
      ]
    },
    {
      "cell_type": "markdown",
      "metadata": {
        "_cell_guid": "9c305fb0-06a8-16ce-c05d-cdc917c662bc"
      },
      "source": [
        "Now that is interesting.  Now lets us make this factor just a scalar by finding the shortest distance of the points to the best fit line"
      ]
    },
    {
      "cell_type": "code",
      "execution_count": null,
      "metadata": {
        "_cell_guid": "249208b9-3598-4b0d-cff1-a025336bf761"
      },
      "outputs": [],
      "source": [
        "flt = (X_train.num_photos>0)&(X_train.interest_level==2)\n",
        "plt.figure(figsize=(10,10))\n",
        "p1 = np.array([0.0,0.0]) # Origin\n",
        "p2 = np.array([1.0, 1.0]) # Approximate to the line\n",
        "ps = np.zeros((X_train[flt].shape[0],2))\n",
        "ps[:,0] = X_train[flt].initial_listing_id\n",
        "ps[:,1] = X_train[flt].listing_id\n",
        "dist = []\n",
        "for i in range(X_train[flt].shape[0]):\n",
        "    dist.append(np.linalg.norm(np.cross(p2-p1, p1-ps[i,:]))/np.linalg.norm(p2-p1))\n",
        "plt.plot(dist)\n"
      ]
    },
    {
      "cell_type": "code",
      "execution_count": null,
      "metadata": {
        "_cell_guid": "77cb0c02-66b8-f085-c908-1d5599a4e856"
      },
      "outputs": [],
      "source": [
        "flt = (X_train.num_photos>0)&(X_train.interest_level==1)\n",
        "plt.figure(figsize=(10,10))\n",
        "p1 = np.array([0.0,0.0]) # Origin\n",
        "p2 = np.array([1.0, 1.0]) # Approximate to the line\n",
        "ps = np.zeros((X_train[flt].shape[0],2))\n",
        "ps[:,0] = X_train[flt].initial_listing_id\n",
        "ps[:,1] = X_train[flt].listing_id\n",
        "dist = []\n",
        "for i in range(X_train[flt].shape[0]):\n",
        "    dist.append(np.linalg.norm(np.cross(p2-p1, p1-ps[i,:]))/np.linalg.norm(p2-p1))\n",
        "plt.plot(dist)"
      ]
    },
    {
      "cell_type": "code",
      "execution_count": null,
      "metadata": {
        "_cell_guid": "f8d01bee-9658-f081-452d-89a1483d1baf"
      },
      "outputs": [],
      "source": [
        "flt = (X_train.num_photos>0)&(X_train.interest_level==0)\n",
        "plt.figure(figsize=(10,10))\n",
        "p1 = np.array([0.0,0.0]) # Origin\n",
        "p2 = np.array([1.0, 1.0]) # Approximate to the line\n",
        "ps = np.zeros((X_train[flt].shape[0],2))\n",
        "ps[:,0] = X_train[flt].initial_listing_id\n",
        "ps[:,1] = X_train[flt].listing_id\n",
        "dist = []\n",
        "for i in range(X_train[flt].shape[0]):\n",
        "    dist.append(np.linalg.norm(np.cross(p2-p1, p1-ps[i,:]))/np.linalg.norm(p2-p1))\n",
        "plt.plot(dist)"
      ]
    },
    {
      "cell_type": "markdown",
      "metadata": {
        "_cell_guid": "67bc6d77-558b-9048-c55b-d98f7dd5ceb2"
      },
      "source": [
        "Hope it helps!"
      ]
    }
  ],
  "metadata": {
    "_change_revision": 0,
    "_is_fork": false,
    "kernelspec": {
      "display_name": "Python 3",
      "language": "python",
      "name": "python3"
    },
    "language_info": {
      "codemirror_mode": {
        "name": "ipython",
        "version": 3
      },
      "file_extension": ".py",
      "mimetype": "text/x-python",
      "name": "python",
      "nbconvert_exporter": "python",
      "pygments_lexer": "ipython3",
      "version": "3.6.0"
    }
  },
  "nbformat": 4,
  "nbformat_minor": 0
}