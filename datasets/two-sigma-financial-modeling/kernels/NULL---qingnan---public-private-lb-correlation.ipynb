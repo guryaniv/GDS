{
  "cells": [
    {
      "cell_type": "markdown",
      "metadata": {
        "_cell_guid": "92a57cf0-61a8-3580-a676-03d9d16bb90a"
      },
      "source": [
        "There is a large inconsistency between public and private LB scores as experienced by many players, but are they totally irrelevant? In this notebook I collected the scores from our submission and try to see the general trend in their relation."
      ]
    },
    {
      "cell_type": "code",
      "execution_count": null,
      "metadata": {
        "_cell_guid": "0e682f32-64b9-4097-3a72-52929f50b480"
      },
      "outputs": [],
      "source": [
        "# This Python 3 environment comes with many helpful analytics libraries installed\n",
        "# It is defined by the kaggle/python docker image: https://github.com/kaggle/docker-python\n",
        "# For example, here's several helpful packages to load in \n",
        "\n",
        "import numpy as np # linear algebra\n",
        "import pandas as pd # data processing, CSV file I/O (e.g. pd.read_csv)\n",
        "\n",
        "# Input data files are available in the \"../input/\" directory.\n",
        "# For example, running this (by clicking run or pressing Shift+Enter) will list the files in the input directory\n",
        "\n",
        "from subprocess import check_output\n",
        "print(check_output([\"ls\", \"../input\"]).decode(\"utf8\"))\n",
        "from sklearn.linear_model import LinearRegression\n",
        "# Any results you write to the current directory are saved as output."
      ]
    },
    {
      "cell_type": "code",
      "execution_count": null,
      "metadata": {
        "_cell_guid": "3446655a-89c7-9df0-3e88-2f2bd746910d"
      },
      "outputs": [],
      "source": [
        "public=[0.0211112,0.0201531,0.0206153,0.0202697,0.0084509,0.0216144,0.0199756,0.0190868,0.0221947,0.0173693,0.0165041,0.0171875,0.021908,0.0228887,0.0217598,0.019038,0.0216169,0.0200948,0.0187228,0.0214567,0.0188685,0.0216173,0.019812,0.0203912,0.0216339,-0.0182252,-0.0160004,0.0215109,0.0185118,0.0217134,0.0212759,0.0199388,0.0180112,0.0170463,0.0046427,-0.0026709,0.0247285,0.0190804,0.0198478,0.0169961,0.0174284,0.025212,0.0240795,0.0125611,0.0198809,0.0199483,-0.0113136,0.0146757,-0.0195559,0.0179843,0.0092255,0.0172607,-0.0086776,0.0189463,0.0154257,0.0190804,0.0181785,0.0133618,0.0137436,0.0185053,0.004643,0.004643,0.0179777,0.0152047,0.0127781,0.0166882,0.0220001,0.014371,0.0144342,0.0187078,0.0062743,0.0170744,0.0129939,0.0171337,0.0166701,0.0169969,0.0148438,0.0187174,0.0133121,0.0151159,0.0170744,0.0127565,0.0137193,0.0172531,0.0190804,0.0141694,0.013938,0.0137794,0.0184496,0.0190804,0.0163704,0.0151457,0.0139232,0.014504,0.0146143,0.0127259,0.0144064,0.01581,0.0131851,0.0237431,0.0187951,0.0201632,0.0184697,0.0138833,0.0142025,-0.2296141,0.0183443,0.0056068,0.0067014,0.0150255,0.0143179,0.0121726,0.0166739,0.0158505,0.0128849,0.0128028,-0.0090228,0.0163233,0.014163,0.0039882,-0.0247934,0.0142521,-0.0132129,0.0148,0.0145628,0.0091985,0.0140895,0.0157238,0.0147322,0.0092539,0.0177707,0.014487,-0.0318358,0.0157238,-0.0210792,-0.013374,-0.0078533,-0.033574,-0.0135338,0.0083201,0.013781,0.0135621,-0.0063093,0.0154479,0.0116303,0.0117265,-0.0074731,0.0142815,0.0028021,-0.0042035,-0.00387,0.0028461,0.0001431,-0.0130075,-0.0031869,-0.0146598,-0.00509,0.0071326,-0.00387,-0.0063093,-0.0544947,0.0128028,0.0071398,0.0071398,-0.041187,0.0071398,-0.013372,-0.0274143,-0.0278505,-0.0145664,-0.1663884,-0.0105591,-0.1849094,-0.0189932]"
      ]
    },
    {
      "cell_type": "code",
      "execution_count": null,
      "metadata": {
        "_cell_guid": "499a846c-b90c-c8cd-1fa3-2235503241f6"
      },
      "outputs": [],
      "source": [
        "private=[0.0169124,0.0172934,0.0122837,0.0161548,0.0104554,0.0171332,0.0169292,0.0166286,0.0160418,0.0160474,0.0149892,0.0136744,0.0163593,0.0159639,0.0172184,0.0140898,0.0173322,0.0155993,0.0149684,0.0170749,0.0108532,0.0173291,0.0139245,0.0138289,0.0168495,-0.0195416,-0.0193274,0.0167999,0.0140678,0.0164428,0.0167514,0.0139441,0.016212,0.0108699,-0.0058109,0.0096617,0.0150571,0.0163998,0.0158955,0.0146332,0.0138467,0.0143345,0.0156554,0.0118693,0.0158256,0.015497,-0.0108526,0.0131982,-0.0217435,0.0149319,0.0102195,0.0149989,-0.0098858,0.0163161,0.0146133,0.0163998,0.0130645,0.0124289,0.0123751,0.0149247,-0.0185984,-0.0185984,0.0155333,-0.0006215,-0.0108604,0.012118,0.0095515,0.0132759,0.0131543,0.0152802,0.0104552,0.0157411,0.0131069,0.0069486,0.0144691,0.015198,0.0094813,0.0135083,0.010579,0.010709,0.0157411,0.0118541,0.0122265,0.0142372,0.0163998,0.0128558,0.0131229,0.0128133,0.0161303,0.0163998,0.0147688,0.009135,0.0124048,0.0123657,0.0032382,0.0119773,0.013215,0.0134454,0.0126079,0.015685,0.0160861,0.0154469,0.0159591,0.0129546,0.0133951,-0.2770554,0.0158311,0.0115146,0.0085621,0.0111285,0.0129354,0.0106538,0.0146216,0.0137155,0.009621,0.0097686,-0.0158671,0.0143605,0.0082888,0.0058844,-0.0241365,0.012713,-0.0181767,0.009808,0.011588,0.0097806,0.0120263,0.0132841,0.0115435,0.0077729,0.0098362,0.0121144,0.0119483,0.0132841,-0.0081594,-0.0188449,0.0048697,-0.0034973,-0.0130251,0.0026068,0.011705,0.0113269,-0.010173,0.0108254,0.0091448,0.0120062,0.0070818,0.013309,0.0100502,0.0090253,0.0094137,0.0100591,0.0097893,-0.0186687,0.0092241,-0.0029687,0.004961,0.0091137,0.0094137,-0.010173,-0.049454,0.0097686,0.0091179,0.0091179,-0.0403883,0.0091179,-0.0188441,-0.0344714,-0.0377728,-0.002808,-0.1621157,-0.0061442,-0.1745324,-0.0094869]"
      ]
    },
    {
      "cell_type": "code",
      "execution_count": null,
      "metadata": {
        "_cell_guid": "8fb10a25-1f4e-6b93-242f-05a7a31b9c65"
      },
      "outputs": [],
      "source": [
        "import matplotlib.pyplot as plt\n",
        "LB=pd.DataFrame(public)\n",
        "LB['private']=private\n",
        "LB.columns=['public','private']\n",
        "print(LB.shape)"
      ]
    },
    {
      "cell_type": "markdown",
      "metadata": {
        "_cell_guid": "452d12ef-42e3-b2b5-7026-1370e66bb5df"
      },
      "source": [
        "Quite a lot submissions from our team! Should be enough to see some trend.."
      ]
    },
    {
      "cell_type": "code",
      "execution_count": null,
      "metadata": {
        "_cell_guid": "6d2d50b0-9360-d912-1f5b-e3d706a5eb38"
      },
      "outputs": [],
      "source": [
        "LB.plot.scatter(x='private',y='public',s=40,figsize=(6,6),marker='.',xlim=(-0.05,0.03),ylim=(-0.05,0.03))"
      ]
    },
    {
      "cell_type": "markdown",
      "metadata": {
        "_cell_guid": "6b8d492a-69d2-5c92-1d9e-4f9d3e1486bd"
      },
      "source": [
        "OK.. So it seems that the correlation is higher when your score is high, but more randomness is there in low-score region. In general, a rough linear relation is present. Let's fit it! "
      ]
    },
    {
      "cell_type": "code",
      "execution_count": null,
      "metadata": {
        "_cell_guid": "cbd656b0-1ce2-39e2-052a-52c2b5f8cbb1"
      },
      "outputs": [],
      "source": [
        "LR= LinearRegression(fit_intercept=True).fit(LB.private.reshape(-1,1),LB.public.reshape(-1,1))"
      ]
    },
    {
      "cell_type": "code",
      "execution_count": null,
      "metadata": {
        "_cell_guid": "4846fdb7-8351-72bf-bb7d-f558c865c0d2"
      },
      "outputs": [],
      "source": [
        "LR.intercept_"
      ]
    },
    {
      "cell_type": "code",
      "execution_count": null,
      "metadata": {
        "_cell_guid": "be05f9be-9f72-daf8-d8fd-4415090726eb"
      },
      "outputs": [],
      "source": [
        "LR.coef_"
      ]
    },
    {
      "cell_type": "markdown",
      "metadata": {
        "_cell_guid": "1cf35853-030c-1cb8-e229-ddb3037f527b"
      },
      "source": [
        "The intercept is positive, which is expected as most of us observed a increase in score when private is released. Now let's plot them together.."
      ]
    },
    {
      "cell_type": "code",
      "execution_count": null,
      "metadata": {
        "_cell_guid": "86ffaae6-5e2b-fb3c-072d-2e58831062f7"
      },
      "outputs": [],
      "source": [
        "LB['fit']=LB.private.values.reshape(-1,1)*LR.coef_[0]+LR.intercept_[0]\n",
        "ax=LB.plot.scatter(x='private',y=['public'],s=40,figsize=(6,6),marker='.',xlim=(-0.05,0.03),ylim=(-0.05,0.03))\n",
        "LB.plot(x='private',y='fit',figsize=(6,6),xlim=(-0.05,0.03),ylim=(-0.05,0.03),ax=ax,color='red')"
      ]
    },
    {
      "cell_type": "markdown",
      "metadata": {
        "_cell_guid": "0965a99b-760a-f331-7963-de8e8856a0a1"
      },
      "source": [
        "If you zoom into high score region, maybe the trend is clearer?"
      ]
    },
    {
      "cell_type": "code",
      "execution_count": null,
      "metadata": {
        "_cell_guid": "0e6bc994-0ff8-f491-f066-e2e391de40ee"
      },
      "outputs": [],
      "source": [
        "LB['fit']=LB.private.values.reshape(-1,1)*LR.coef_[0]+LR.intercept_[0]\n",
        "ax=LB.plot.scatter(x='private',y=['public'],s=40,figsize=(6,6),marker='.',xlim=(0.005,0.02),ylim=(0.005,0.02))\n",
        "LB.plot(x='private',y='fit',figsize=(6,6),xlim=(0.005,0.02),ylim=(0.005,0.02),ax=ax,color='red')"
      ]
    },
    {
      "cell_type": "code",
      "execution_count": null,
      "metadata": {
        "_cell_guid": "d22aeb08-1359-838a-1038-c6b8a2347db4"
      },
      "outputs": [],
      "source": ""
    }
  ],
  "metadata": {
    "_change_revision": 0,
    "_is_fork": false,
    "kernelspec": {
      "display_name": "Python 3",
      "language": "python",
      "name": "python3"
    },
    "language_info": {
      "codemirror_mode": {
        "name": "ipython",
        "version": 3
      },
      "file_extension": ".py",
      "mimetype": "text/x-python",
      "name": "python",
      "nbconvert_exporter": "python",
      "pygments_lexer": "ipython3",
      "version": "3.6.0"
    }
  },
  "nbformat": 4,
  "nbformat_minor": 0
}