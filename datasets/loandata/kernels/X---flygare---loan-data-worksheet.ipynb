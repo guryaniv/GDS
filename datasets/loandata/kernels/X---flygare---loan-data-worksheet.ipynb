{
  "cells": [
    {
      "cell_type": "markdown",
      "metadata": {
        "_cell_guid": "dacb3283-a14c-d44a-e9c0-f57fc397797e"
      },
      "source": [
        "#Loan Data\n",
        "\n",
        "## Summary\n",
        "<p>The dataset contains 500 entries presumely from a larger dataset, split in predefined even number from the loan status (Paidoff, Collection, CollectionPaidOff). The extract covers a week in September 2016. The data is extracted as a snapshot at a later date, where the collection process is only completed up to a certain stage. </p>\n",
        "<p>A complete random sample of the loan data and information about the data extraction date and method would have been desirable.</p>\n",
        "\n",
        "#### Change log:\n",
        "17/04/2017 Initial setup<br>\n",
        "20/04/2017 more stats <br>\n",
        "21/04/2017 data cleansing and initial plots <br>\n",
        "23/04/2017 some more univariate charts <br>\n",
        "27/04/2017 improve chart, more on collection process, basic correlation analysis<br>\n",
        " \n",
        "---> lost interest in this data set, due to its selection. \n",
        "---> https://www.kaggle.com/huseinzol05/d/zhijinzhai/loandata/multi-cluster-education-gender seems to get to the same conclusion "
      ]
    },
    {
      "cell_type": "code",
      "execution_count": null,
      "metadata": {
        "_cell_guid": "a519b01f-e2b5-c45b-7924-da8f6e519ad2"
      },
      "outputs": [],
      "source": [
        "import numpy as np\n",
        "import pandas as pd \n",
        "%matplotlib inline\n",
        "import matplotlib.pyplot as plt\n",
        "plt.style.use('seaborn-pastel')\n",
        "import seaborn as sns\n",
        "import datetime as dt"
      ]
    },
    {
      "cell_type": "code",
      "execution_count": null,
      "metadata": {
        "_cell_guid": "6ee535ea-9d46-5d52-f557-ca8d978d1ec7"
      },
      "outputs": [],
      "source": [
        "df = pd.read_csv(\"../input/Loan payments data.csv\")\n",
        "for c in ['effective_date','paid_off_time','due_date']:\n",
        "    df[c]=pd.to_datetime(df[c])\n",
        "df.past_due_days.fillna(0, inplace=True)"
      ]
    },
    {
      "cell_type": "markdown",
      "metadata": {
        "_cell_guid": "13bcc0d6-218c-0ebe-9bb8-d5f3e9cccc2a"
      },
      "source": [
        "The data set consits of 500 entries. Loan_ID can work as a primary key. "
      ]
    },
    {
      "cell_type": "code",
      "execution_count": null,
      "metadata": {
        "_cell_guid": "1b9f5868-15c7-b67c-88c7-c45b3ef74445"
      },
      "outputs": [],
      "source": [
        "df.info()"
      ]
    },
    {
      "cell_type": "markdown",
      "metadata": {
        "_cell_guid": "b48d7b2c-7fdf-cbf5-796a-e79cc9ecac2b"
      },
      "source": [
        "## Attribute analysis\n",
        "\n",
        "### Loan ID\n",
        "**from the documentation** \"Loan_id A unique loan number assigned to each loan customers\". <br>\n",
        "Loan_ID is unique. \n"
      ]
    },
    {
      "cell_type": "code",
      "execution_count": null,
      "metadata": {
        "_cell_guid": "0c4f50b9-2e09-0923-9571-b163a84cec37"
      },
      "outputs": [],
      "source": [
        "df.Loan_ID.nunique()"
      ]
    },
    {
      "cell_type": "markdown",
      "metadata": {
        "_cell_guid": "846e539c-99e0-7d75-2d7a-5a57a069fdbf"
      },
      "source": [
        "### Loan_status\n",
        "**from the documentation:** \"Loan_status Whether a loan is paid off, in collection, new customer yet to payoff, or paid off after the collection efforts\"\n",
        "\n",
        "**Questions:** I can not find the new customers. Do I miss a file???"
      ]
    },
    {
      "cell_type": "code",
      "execution_count": null,
      "metadata": {
        "_cell_guid": "bfe8c1c7-a48d-0225-24a1-4aee6bb4c524"
      },
      "outputs": [],
      "source": [
        "print (f\"Unique values:\", df.loan_status.unique()[:])\n",
        "g=pd.DataFrame(df.groupby('loan_status')['Loan_ID'].count())\n",
        "g"
      ]
    },
    {
      "cell_type": "markdown",
      "metadata": {
        "_cell_guid": "5f530765-1fa7-5192-3443-a3116581174a"
      },
      "source": [
        "### Principal\n",
        "**from the documentation:** \"Principal Basic principal loan amount at the origination\"\n",
        "\n",
        "**Findings:**  only 6 values occur"
      ]
    },
    {
      "cell_type": "code",
      "execution_count": null,
      "metadata": {
        "_cell_guid": "98957491-e5c5-205d-6b10-976f19702067"
      },
      "outputs": [],
      "source": [
        "print (f\"Unique values:\", df.Principal.unique()[:])\n",
        "g=pd.DataFrame(df.groupby('Principal')['Loan_ID'].count())\n",
        "g"
      ]
    },
    {
      "cell_type": "markdown",
      "metadata": {
        "_cell_guid": "a84848b1-c3e2-38ce-d2bf-03da14317d17"
      },
      "source": [
        "# Terms\n",
        "**from the documentation:** \"Can be weekly (7 days), biweekly, and monthly payoff schedule\" <br>\n",
        "**Findings:** only the values 7, 15, 30 occurs. This leaves two choices for precise maturity modelling; either use the values from the data set or the description with more accurate time functions. "
      ]
    },
    {
      "cell_type": "code",
      "execution_count": null,
      "metadata": {
        "_cell_guid": "462120f2-b43c-be95-823f-a35272adbde6"
      },
      "outputs": [],
      "source": [
        "l=list(g.index)\n",
        "l"
      ]
    },
    {
      "cell_type": "code",
      "execution_count": null,
      "metadata": {
        "_cell_guid": "4d85f63e-6d06-b38c-97b1-06d6686636b0"
      },
      "outputs": [],
      "source": [
        "print (f\"Unique values:\", df.terms.unique()[:])\n",
        "mapTerms={7:'weekly', 15:'bi-weekly', 30: 'monthly'}\n",
        "g=pd.DataFrame(df.groupby('terms')['Loan_ID'].count())\n",
        "g"
      ]
    },
    {
      "cell_type": "code",
      "execution_count": null,
      "metadata": {
        "_cell_guid": "d0ac265a-1330-a8d8-b1a9-52bf149e3f3c"
      },
      "outputs": [],
      "source": [
        "fig, ax = plt.subplots(figsize=(5,5))\n",
        "pos = np.arange(len(df.terms.unique()))\n",
        "ax.pie(g.Loan_ID.values, labels=[mapTerms[l] for l in list(g.index)])\n",
        "ax.set_title('Loans (count) by contract term');"
      ]
    },
    {
      "cell_type": "markdown",
      "metadata": {
        "_cell_guid": "3024e791-a2de-7224-3bb9-739435268f52"
      },
      "source": [
        "#Effective_date\n",
        "\n",
        "**from the documentation:** Effective_date When the loan got originated and took effects <br>\n",
        "**Findings:**  The data extract seems to a subset from a week in September 2016.  8th Sep to 14th Sep.\n",
        "Most of the Loans have been originated on a Sunday or Monday. "
      ]
    },
    {
      "cell_type": "code",
      "execution_count": null,
      "metadata": {
        "_cell_guid": "444a62a4-55a4-409c-2a5e-8cff9132720a"
      },
      "outputs": [],
      "source": [
        "print (f\"Unique values:\", df['effective_date'].unique()[:])\n",
        "g=pd.DataFrame(df.groupby('effective_date')['Loan_ID'].count())\n",
        "g.loc[:,'Weekday']=pd.Series(g.index, index=g.index).dt.weekday_name\n",
        "g.loc[:,'strDate']=pd.Series(g.index, index=g.index).dt.date\n",
        "#g"
      ]
    },
    {
      "cell_type": "code",
      "execution_count": null,
      "metadata": {
        "_cell_guid": "c3b67506-3650-bd78-6067-5ca003c39a09"
      },
      "outputs": [],
      "source": [
        "fig, ax = plt.subplots(figsize=(5,5))\n",
        "pos = np.arange(len(df.effective_date.unique()))\n",
        "ax.bar(pos, height=g.Loan_ID.values, color=['b','b','g','g','b','b','b'])\n",
        "ax.set_xticks(pos)\n",
        "ax.set_xticklabels([w+\"\\n, \"+ d.strftime('%d %b %Y') for w, d in zip(g.Weekday.values,g.strDate.values)],\n",
        "                   rotation=90)\n",
        "ax.set_title('Loans (count) by origination date');"
      ]
    },
    {
      "cell_type": "markdown",
      "metadata": {
        "_cell_guid": "b4f79bac-134d-c007-609d-107315ea4577"
      },
      "source": [
        "### Due_date\n",
        "**from the documentation:** \"Due_date Since it\u2019s one-time payoff schedule, each loan has one single due date\" <br>\n",
        "**Findings:** For 42 entries the due date could not derived from Effective_Date and Terms minus one day. "
      ]
    },
    {
      "cell_type": "code",
      "execution_count": null,
      "metadata": {
        "_cell_guid": "3dace992-5422-4ef1-0c18-cc4b1f65e647"
      },
      "outputs": [],
      "source": [
        "print (f\"Unique values:\", df['due_date'].unique()[:])\n",
        "g=pd.DataFrame(df.groupby('due_date')['Loan_ID'].count())\n",
        "#g"
      ]
    },
    {
      "cell_type": "code",
      "execution_count": null,
      "metadata": {
        "_cell_guid": "b5290005-b6d5-4b9d-3be1-76683e73f820"
      },
      "outputs": [],
      "source": [
        "df['TDterms']=df['terms'].astype('timedelta64[D]')\n",
        "df['recalc_due_date']=df['effective_date']+df['TDterms']+dt.timedelta(days=-1)\n",
        "mm=df[['effective_date', 'due_date', 'terms','recalc_due_date']][df['due_date']!=df['recalc_due_date']]\n",
        "print('Mismatches in recalculated due_date: '+ str(len(mm)))\n",
        "mm\n",
        "#df[['effective_date', 'due_date', 'terms','recalc_due_date']].head()"
      ]
    },
    {
      "cell_type": "markdown",
      "metadata": {
        "_cell_guid": "a718581b-b477-3b69-0d59-7c55fbd7f58a"
      },
      "source": [
        "### Paidoff_time\n",
        "\n",
        "**from the documentation:**  Paidoff_time \"The actual time a customer pays off the loan\" <br>\n",
        "**Findings:** returned as timestamp.  <br>\n",
        "**ToDo:** Stratify "
      ]
    },
    {
      "cell_type": "code",
      "execution_count": null,
      "metadata": {
        "_cell_guid": "79e43817-8cb5-d981-fc12-d4fc7257ad1c"
      },
      "outputs": [],
      "source": [
        "print (f\"Unique values:\", df.paid_off_time.nunique())\n",
        "#g=pd.DataFrame(df.groupby('paid_off_time')['Loan_ID'].count())\n",
        "#g"
      ]
    },
    {
      "cell_type": "markdown",
      "metadata": {
        "_cell_guid": "2f3595ed-0606-c8b9-c7b5-74afe7c2427b"
      },
      "source": [
        "### Pastdue_days\n",
        "**from the documentation:** \"Pastdue_days How many days a loan has been past due\" <br>\n",
        "**Findings:** If a loan is not paid_off on the due date, it went to Collection and if it then paid off to Collection paidoff.  The minimum values for collection is 28, the maximum is 76.\n",
        "One can state that all loans overdue less than 28 days have been collected, however, it is not possible to determine the final outcome of the collection process. The maximum value for Paidoff is 56.  Afterwards we see two spikes cause the fixed term of the loan. Most likely the data set is taken as a snapshot at some point shortly afterwards, preventing data analysis on a longer time horizon."
      ]
    },
    {
      "cell_type": "code",
      "execution_count": null,
      "metadata": {
        "_cell_guid": "f3f07bfc-62eb-d71e-48e8-eeaf5148a82a"
      },
      "outputs": [],
      "source": [
        "print (f\"Unique values:\", df.past_due_days.unique()[:])\n",
        "g=pd.DataFrame(df.groupby(['loan_status', 'past_due_days'])['Loan_ID'].count())\n",
        "g=g.unstack('loan_status')\n",
        "g=g.fillna(0)\n",
        "#g"
      ]
    },
    {
      "cell_type": "code",
      "execution_count": null,
      "metadata": {
        "_cell_guid": "c9e74d5d-bf5f-2ff5-3036-c969f047bbda"
      },
      "outputs": [],
      "source": [
        "print(f'Collection min days: ',df[df.loan_status=='COLLECTION'].past_due_days.min())\n",
        "print(f'Collection max days: ',df[df.loan_status=='COLLECTION'].past_due_days.max())\n",
        "print(f'Paidoff min days: ',df[df.loan_status=='COLLECTION_PAIDOFF'].past_due_days.min())\n",
        "print(f'Paidoff max days: ',df[df.loan_status=='COLLECTION_PAIDOFF'].past_due_days.max())"
      ]
    },
    {
      "cell_type": "code",
      "execution_count": null,
      "metadata": {
        "_cell_guid": "a5eb3e73-60e9-a68c-30b2-ff61701b186d"
      },
      "outputs": [],
      "source": [
        "fig, ax = plt.subplots(figsize=(13.5,5))\n",
        "pos = g.loc[:,'Loan_ID'].index\n",
        "ax.bar(left=pos,\n",
        "       height=g.loc[:,'Loan_ID']['COLLECTION'].values,\n",
        "       label='Collection')\n",
        "ax.bar(left=pos,\n",
        "       bottom=g.loc[:,'Loan_ID']['COLLECTION'].values,\n",
        "       height=g.loc[:,'Loan_ID']['COLLECTION_PAIDOFF'].values,\n",
        "       label='Paid off')\n",
        "ax.set_xticks([5*x for x in range(np.int(max(pos)/5.0)+1)])\n",
        "ax.legend()\n",
        "ax.set_title('Loans (count) by origination date');"
      ]
    },
    {
      "cell_type": "markdown",
      "metadata": {
        "_cell_guid": "d9f968ac-a9cb-f6f6-2ff5-8728744cb303"
      },
      "source": [
        "### Age\n",
        "\n",
        "**from the documentation:** \"Age, [...] A customer\u2019s basic demographic information\" <br>\n",
        "** Findings:** The age range is 18 to 51. That's a little bit short on the upper end. "
      ]
    },
    {
      "cell_type": "code",
      "execution_count": null,
      "metadata": {
        "_cell_guid": "6079dfb6-6742-659a-a930-380923ae0b1c"
      },
      "outputs": [],
      "source": [
        "print (f\"Unique values:\", df.age.unique()[:])\n",
        "g=pd.DataFrame(df.groupby('age')['Loan_ID'].count())\n",
        "#g"
      ]
    },
    {
      "cell_type": "code",
      "execution_count": null,
      "metadata": {
        "_cell_guid": "70af946a-458e-ea64-cde0-a6a1da4b9827"
      },
      "outputs": [],
      "source": [
        "fig, ax = plt.subplots(figsize=(13.5,5))\n",
        "pos = g.index\n",
        "ax.bar(left=pos,\n",
        "       height=g.loc[:,'Loan_ID'].values,\n",
        "       label='Age')\n",
        "ax.set_xticks([5*x for x in range(np.int(max(pos)/5.0)+1)])\n",
        "ax.legend()\n",
        "ax.set_title('Borrower Age (count)');"
      ]
    },
    {
      "cell_type": "markdown",
      "metadata": {
        "_cell_guid": "71a646fa-8288-572d-596f-29e6c4b5b074"
      },
      "source": [
        "### Education\n",
        "\n",
        "**from the documentation:** \"[...] education, gender A customer\u2019s basic demographic information\""
      ]
    },
    {
      "cell_type": "code",
      "execution_count": null,
      "metadata": {
        "_cell_guid": "2f023c0e-f4ca-ba40-1c01-a3979c462a85"
      },
      "outputs": [],
      "source": [
        "print (f\"Unique values:\", df.education.unique()[:])\n",
        "g=pd.DataFrame(df.groupby('education')['Loan_ID'].count())\n",
        "#g"
      ]
    },
    {
      "cell_type": "code",
      "execution_count": null,
      "metadata": {
        "_cell_guid": "ea2e77d5-88e6-7607-1f73-62b055bae37e"
      },
      "outputs": [],
      "source": [
        "fig, ax = plt.subplots(figsize=(5,5))\n",
        "ax.pie(g.Loan_ID.values, labels=list(g.index))\n",
        "ax.set_title('Education (count of borrows)');"
      ]
    },
    {
      "cell_type": "markdown",
      "metadata": {
        "_cell_guid": "70f1851c-e344-5bf3-5a09-dd177d01c766"
      },
      "source": [
        "### Gender\n",
        "\n",
        "**from the documentation:** [...]  gender A customer\u2019s basic demographic information"
      ]
    },
    {
      "cell_type": "code",
      "execution_count": null,
      "metadata": {
        "_cell_guid": "dca4d0ec-522d-d5db-501e-8845a39ddebe"
      },
      "outputs": [],
      "source": [
        "print (f\"Unique values:\", df.Gender.unique()[:])\n",
        "g=pd.DataFrame(df.groupby('Gender')['Loan_ID'].count())\n",
        "#g"
      ]
    },
    {
      "cell_type": "code",
      "execution_count": null,
      "metadata": {
        "_cell_guid": "5149a79a-3c46-5568-61e2-870649ea110b"
      },
      "outputs": [],
      "source": [
        "fig, ax = plt.subplots(figsize=(5,5))\n",
        "ax.pie(g.Loan_ID.values, labels=list(g.index))\n",
        "ax.set_title('Gemder (count of borrows)');"
      ]
    },
    {
      "cell_type": "markdown",
      "metadata": {
        "_cell_guid": "4513cb0a-2d34-f30f-17f2-01612fc2946e"
      },
      "source": [
        "## Correlation analysis\n",
        "\n",
        "We calculate the correlation between the demographics of the borrow and find them surprisingly uncorrelated. The might again raise the question; how the data set is selected."
      ]
    },
    {
      "cell_type": "code",
      "execution_count": null,
      "metadata": {
        "_cell_guid": "396b64f2-ed19-06d7-04bd-9907f7b330e6"
      },
      "outputs": [],
      "source": [
        "mapGender0 = {'male':0, 'female': 1}\n",
        "df['Gender0']=df['Gender'].map(mapGender0)\n",
        "mapEducation0 = {'High School or Below': 0, 'Bechalor': 1, 'college' : 2 , 'Master or Above':3}\n",
        "df['Education0']=df['education'].map(mapEducation0)"
      ]
    },
    {
      "cell_type": "code",
      "execution_count": null,
      "metadata": {
        "_cell_guid": "eb14c853-326c-77f2-8231-573a6ad90eed"
      },
      "outputs": [],
      "source": [
        "corr = df[['age','Gender0','Education0']].corr()\n",
        "fig, ax = plt.subplots(figsize = (6, 5))\n",
        "cmap = sns.diverging_palette(220, 10, as_cmap=True)\n",
        "map   = sns.heatmap(\n",
        "        corr, \n",
        "        cmap = plt.cm.coolwarm,\n",
        "        square=True, \n",
        "        cbar_kws={'shrink': .9}, \n",
        "        ax=ax, \n",
        "        annot = True, \n",
        "        annot_kws={'fontsize': 12})"
      ]
    },
    {
      "cell_type": "code",
      "execution_count": null,
      "metadata": {
        "_cell_guid": "66d76ab4-644b-6849-cbbc-fe9674caecc1"
      },
      "outputs": [],
      "source": [
        ""
      ]
    }
  ],
  "metadata": {
    "_change_revision": 0,
    "_is_fork": false,
    "kernelspec": {
      "display_name": "Python 3",
      "language": "python",
      "name": "python3"
    },
    "language_info": {
      "codemirror_mode": {
        "name": "ipython",
        "version": 3
      },
      "file_extension": ".py",
      "mimetype": "text/x-python",
      "name": "python",
      "nbconvert_exporter": "python",
      "pygments_lexer": "ipython3",
      "version": "3.6.0"
    }
  },
  "nbformat": 4,
  "nbformat_minor": 0
}