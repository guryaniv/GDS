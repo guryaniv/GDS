{"cells":[
 {
  "cell_type": "code",
  "execution_count": null,
  "metadata": {
   "collapsed": false
  },
  "outputs": [],
  "source": "#Code borrowed from https://www.kaggle.com/yangnanhai/prudential-life-insurance-assessment/testtest/code\nimport pandas as pd\nimport numpy as np \nimport xgboost as xgb\nfrom scipy.optimize import fmin_powell\nfrom ml_metrics import quadratic_weighted_kappa"
 },
 {
  "cell_type": "code",
  "execution_count": null,
  "metadata": {
   "collapsed": false
  },
  "outputs": [],
  "source": "def eval_wrapper(yhat, y):  \n    y = np.array(y)\n    y = y.astype(int)\n    yhat = np.array(yhat)\n    yhat = np.clip(np.round(yhat), np.min(y), np.max(y)).astype(int)   \n    return quadratic_weighted_kappa(yhat, y)\n    \ndef get_params():\n    \n    params = {}\n    params[\"objective\"] = \"reg:linear\"     \n    params[\"eta\"] = 0.05\n    params[\"min_child_weight\"] = 240\n    params[\"subsample\"] = 0.9\n    params[\"colsample_bytree\"] = 0.67\n    params[\"silent\"] = 1\n    params[\"max_depth\"] = 6\n    plst = list(params.items())\n\n    return plst\n    \ndef apply_offset(data, bin_offset, sv, scorer=eval_wrapper):\n    # data has the format of pred=0, offset_pred=1, labels=2 in the first dim\n    data[1, data[0].astype(int)==sv] = data[0, data[0].astype(int)==sv] + bin_offset\n    score = scorer(data[1], data[2])\n    return score\n\n"
 },
 {
  "cell_type": "code",
  "execution_count": null,
  "metadata": {
   "collapsed": false
  },
  "outputs": [],
  "source": "# global variables\ncolumns_to_drop = ['Id', 'Response', 'Medical_History_10','Medical_History_24']\nxgb_num_rounds = 700\nnum_classes = 8\neta_list = [0.05] * 200 \neta_list = eta_list + [0.03] * 100\neta_list = eta_list + [0.02] * 350\neta_list = eta_list + [0.01] * 50\n\nprint(\"Load the data using pandas\")\ntrain = pd.read_csv(\"../input/train.csv\")\ntest = pd.read_csv(\"../input/test.csv\")\n\n# combine train and test\nall_data = train.append(test)\n\n# Found at https://www.kaggle.com/marcellonegro/prudential-life-insurance-assessment/xgb-offset0501/run/137585/code\n# create any new variables    \nall_data['Product_Info_2_char'] = all_data.Product_Info_2.str[0]\nall_data['Product_Info_2_num'] = all_data.Product_Info_2.str[1]\n\n# factorize categorical variables\nall_data['Product_Info_2'] = pd.factorize(all_data['Product_Info_2'])[0]\nall_data['Product_Info_2_char'] = pd.factorize(all_data['Product_Info_2_char'])[0]\nall_data['Product_Info_2_num'] = pd.factorize(all_data['Product_Info_2_num'])[0]\n\nall_data['BMI_Age'] = all_data['BMI'] * all_data['Ins_Age']\n\nmed_keyword_columns = all_data.columns[all_data.columns.str.startswith('Medical_Keyword_')]\nall_data['Med_Keywords_Count'] = all_data[med_keyword_columns].sum(axis=1)\n\nprint('Eliminate missing values')    \n# Use -1 for any others\nall_data.fillna(-1, inplace=True)\n\n# fix the dtype on the label column\nall_data['Response'] = all_data['Response'].astype(int)\n\n# split train and test\ntrain = all_data[all_data['Response']>0].copy()\ntest = all_data[all_data['Response']<1].copy()\n"
 },
 {
  "cell_type": "code",
  "execution_count": null,
  "metadata": {
   "collapsed": false
  },
  "outputs": [],
  "source": "# get the parameters for xgboost\nplst = get_params()\nprint(plst)  \n\ntr=train.drop(columns_to_drop, axis=1)\nts=test.drop(columns_to_drop, axis=1)\n\nfrom sklearn.cross_validation import StratifiedKFold\nskf = StratifiedKFold(train['Response'].values, n_folds=2)\ntrain_preds=[]\nfor train_index, test_index in skf:\n    print(\"TRAIN:\", train_index, \"TEST:\", test_index)\n    d_train=tr.iloc[train_index,:]\n    d_test=tr.iloc[test_index,:]\n    xgtrain = xgb.DMatrix(d_train, train['Response'].values[train_index])\n    xgtest = xgb.DMatrix(d_test, label=train['Response'].values[test_index])    \n    model = xgb.train(plst, xgtrain, xgb_num_rounds, learning_rates=eta_list)\n    tp = model.predict(xgtrain, ntree_limit=model.best_iteration)\n    train_preds.extend(list(tp))"
 },
 {
  "cell_type": "code",
  "execution_count": null,
  "metadata": {
   "collapsed": false
  },
  "outputs": [],
  "source": "# convert data to xgb data structure\nxgtrain = xgb.DMatrix(train.drop(columns_to_drop, axis=1), train['Response'].values)\nxgtest = xgb.DMatrix(test.drop(columns_to_drop, axis=1), label=test['Response'].values)    \n\n# get the parameters for xgboost\nplst = get_params()\nprint(plst)      \n\n# train model\nmodel = xgb.train(plst, xgtrain, xgb_num_rounds, learning_rates=eta_list) \n\n# get preds\ntrain_preds = model.predict(xgtrain, ntree_limit=model.best_iteration)\nprint('Train score is:', eval_wrapper(train_preds, train['Response'])) \n"
 },
 {
  "cell_type": "code",
  "execution_count": null,
  "metadata": {
   "collapsed": false
  },
  "outputs": [],
  "source": "test_preds = model.predict(xgtest, ntree_limit=model.best_iteration)\ntrain_preds = np.clip(train_preds, -0.99, 8.99)\ntest_preds = np.clip(test_preds, -0.99, 8.99)\n\n# train offsets \noffsets = np.array([0.1, -1, -2, -1, -0.8, 0.02, 0.8, 1])\ndata = np.vstack((train_preds, train_preds, train['Response'].values))\nfor j in range(num_classes):\n    data[1, data[0].astype(int)==j] = data[0, data[0].astype(int)==j] + offsets[j] \nfor j in range(num_classes):\n    train_offset = lambda x: -apply_offset(data, x, j)\n    offsets[j] = fmin_powell(train_offset, offsets[j])  \n\n# apply offsets to test\ndata = np.vstack((test_preds, test_preds, test['Response'].values))\nfor j in range(num_classes):\n    data[1, data[0].astype(int)==j] = data[0, data[0].astype(int)==j] + offsets[j] \n\nfinal_test_preds = np.round(np.clip(data[1], 1, 8)).astype(int)\n\npreds_out = pd.DataFrame({\"Id\": test['Id'].values, \"Response\": final_test_preds})\npreds_out = preds_out.set_index('Id')\npreds_out.to_csv('xgb_modifiedEtalist_offset_submission.csv')"
 },
 {
  "cell_type": "code",
  "execution_count": null,
  "metadata": {
   "collapsed": false
  },
  "outputs": [],
  "source": "ls"
 },
 {
  "cell_type": "code",
  "execution_count": null,
  "metadata": {
   "collapsed": false
  },
  "outputs": [],
  "source": ""
 }
],"metadata":{"kernelspec":{"display_name":"Python 3","language":"python","name":"python3"}}, "nbformat": 4, "nbformat_minor": 0}