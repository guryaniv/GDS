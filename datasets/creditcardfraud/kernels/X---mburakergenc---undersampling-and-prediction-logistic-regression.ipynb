{
  "cells": [
    {
      "cell_type": "markdown",
      "metadata": {
        "_cell_guid": "d05e23fd-5544-4026-7233-59acb3d96bd8"
      },
      "source": [
        "# 1. Exploratory Data Analysis"
      ]
    },
    {
      "cell_type": "code",
      "execution_count": null,
      "metadata": {
        "_cell_guid": "a2473450-414c-1052-831e-243952dc8b9a"
      },
      "outputs": [],
      "source": [
        "import pandas as pd\n",
        "import numpy as np\n",
        "import datetime\n",
        "import matplotlib.pyplot as plt\n",
        "import seaborn as sns\n",
        "from sklearn.linear_model import LogisticRegression\n",
        "from imblearn.under_sampling import RandomUnderSampler\n",
        "from __future__ import division\n",
        "from sklearn import cross_validation\n",
        "from sklearn.metrics import confusion_matrix,recall_score,precision_recall_curve,auc,roc_curve,roc_auc_score,classification_report"
      ]
    },
    {
      "cell_type": "code",
      "execution_count": null,
      "metadata": {
        "_cell_guid": "9ea660e2-9d36-1255-5a1f-37835fcf2266"
      },
      "outputs": [],
      "source": [
        "data = pd.read_csv(\"../input/creditcard.csv\")"
      ]
    },
    {
      "cell_type": "code",
      "execution_count": null,
      "metadata": {
        "_cell_guid": "4df3541a-4aeb-ea3f-b61e-6fef59c0c1f7"
      },
      "outputs": [],
      "source": [
        "data.head()"
      ]
    },
    {
      "cell_type": "code",
      "execution_count": null,
      "metadata": {
        "_cell_guid": "9155c7a3-b4d5-4af9-7fd6-7a1415ade91f"
      },
      "outputs": [],
      "source": [
        "data.info()"
      ]
    },
    {
      "cell_type": "markdown",
      "metadata": {
        "_cell_guid": "7aca9cce-674c-8e09-4465-89223d92ee32"
      },
      "source": [
        "- We have 31 columns in our dataset and 284807 entries\n",
        "- Let's check if there are NaN values in the dataset"
      ]
    },
    {
      "cell_type": "code",
      "execution_count": null,
      "metadata": {
        "_cell_guid": "6ef14300-de64-d831-0cef-2e74f6d6f427"
      },
      "outputs": [],
      "source": [
        "data.isnull().sum()"
      ]
    },
    {
      "cell_type": "markdown",
      "metadata": {
        "_cell_guid": "f0f3d017-20c1-9c8e-3cae-6f62409fb170"
      },
      "source": [
        "- Look's like we don't have any NaN values, so most likely we won't have to deal with data cleaning\n",
        "- We can also plot the legit and fraud transactions in order to check the class distribution"
      ]
    },
    {
      "cell_type": "code",
      "execution_count": null,
      "metadata": {
        "_cell_guid": "ab45baf7-12e2-d35b-e638-b0859c3315e1"
      },
      "outputs": [],
      "source": [
        "classes = pd.value_counts(data[\"Class\"], sort=True).sort_index()\n",
        "print(classes)"
      ]
    },
    {
      "cell_type": "code",
      "execution_count": null,
      "metadata": {
        "_cell_guid": "6be759de-bdba-c04e-6784-441bad5fff81"
      },
      "outputs": [],
      "source": [
        "classes.plot(kind='bar', figsize=(12,7))\n",
        "plt.title(\"Fraud Class Histogram\")\n",
        "plt.xlabel(\"Class\")\n",
        "plt.ylabel(\"Frequency\")\n",
        "plt.show()"
      ]
    },
    {
      "cell_type": "markdown",
      "metadata": {
        "_cell_guid": "a11089e7-3636-f9d1-36ed-45b4703fe7ad"
      },
      "source": [
        "- As it can be seen from the plot, the data is highly imbalanced"
      ]
    },
    {
      "cell_type": "code",
      "execution_count": null,
      "metadata": {
        "_cell_guid": "5f34bd64-bd68-4b78-57d8-fef3ebc29e46"
      },
      "outputs": [],
      "source": [
        "normal_transactions = len(data[data[\"Class\"] == 0])\n",
        "fraud_transactions = len(data[data[\"Class\"] == 1])\n",
        "total_transactions = normal_transactions + fraud_transactions"
      ]
    },
    {
      "cell_type": "code",
      "execution_count": null,
      "metadata": {
        "_cell_guid": "3e110d0e-e077-3df2-c024-1619c95d809c"
      },
      "outputs": [],
      "source": [
        "print(p_normal_transactions)\n",
        "print(p_fraud_transactions)"
      ]
    },
    {
      "cell_type": "code",
      "execution_count": null,
      "metadata": {
        "_cell_guid": "ab35015f-241a-a33c-e25a-b2b120d4e806"
      },
      "outputs": [],
      "source": [
        "p_normal_transactions = (normal_transactions / total_transactions) * 100\n",
        "p_fraud_transactions = (fraud_transactions / total_transactions) * 100"
      ]
    },
    {
      "cell_type": "markdown",
      "metadata": {
        "_cell_guid": "504c188d-e65d-58ab-f4e5-c04d1073d538"
      },
      "source": [
        "- The 99% are Legit transactions and 0.17% are fraud transactions\n",
        "- We going to apply undersampling to deal with this class imlabalance issue. \n",
        "- Let's also plot the fraud and legit transaction with amounts to check if there is a relationship"
      ]
    },
    {
      "cell_type": "code",
      "execution_count": null,
      "metadata": {
        "_cell_guid": "3b7308a2-842b-c933-1176-428641f4209b"
      },
      "outputs": [],
      "source": [
        "normal_trcs = data[data['Class'] == 0]\n",
        "fraud_trcs = data[data['Class'] == 1]\n",
        "plt.figure(figsize=(10,6))\n",
        "plt.subplot(121)\n",
        "normal_trcs.Amount.plot.hist(title=\"Fraud Transactions\")\n",
        "plt.subplot(122)\n",
        "fraud_trcs.Amount.plot.hist(title=\"Normal Transactions\")\n",
        "plt.show()"
      ]
    },
    {
      "cell_type": "markdown",
      "metadata": {
        "_cell_guid": "fe740050-a412-7d5d-88d6-91e6c583ec32"
      },
      "source": [
        "- Seems like most of the transactions are less than 2500-3000K\n",
        "- Also there is no pattern when we compare Amount with Class\n",
        "- We can also check the pattern between Time, Amount and Class"
      ]
    },
    {
      "cell_type": "code",
      "execution_count": null,
      "metadata": {
        "_cell_guid": "0989639f-de69-325c-9f3e-6279cda1136c"
      },
      "outputs": [],
      "source": [
        "def convertsecstohours(seconds):\n",
        "    return datetime.datetime.fromtimestamp(seconds)\n",
        "\n",
        "time_analyisis = data[['Time', 'Amount', 'Class']].copy()\n",
        "time_analyisis['datetime'] = time_analyisis.Time.apply(convertsecstohours)\n",
        "time_analyisis['hour'] = time_analyisis.datetime.dt.hour\n",
        "cp_time_analysis = time_analyisis.groupby(['Class','hour'])['Amount'].count()"
      ]
    },
    {
      "cell_type": "code",
      "execution_count": null,
      "metadata": {
        "_cell_guid": "cf857f18-38c5-9cf3-018f-d88e494a8582"
      },
      "outputs": [],
      "source": ""
    },
    {
      "cell_type": "markdown",
      "metadata": {
        "_cell_guid": "a2a361e3-7e38-74f2-2dda-3528bf61fe79"
      },
      "source": [
        "- Again there is no really clear pattern in the dataset\n",
        "- We will train our algoirhtm without the time and amount features\n",
        "- Let's start with undersampling"
      ]
    },
    {
      "cell_type": "markdown",
      "metadata": {
        "_cell_guid": "31728324-2cbc-6b09-591c-645f81c74127"
      },
      "source": [
        "# 2. Undersampling"
      ]
    },
    {
      "cell_type": "code",
      "execution_count": null,
      "metadata": {
        "_cell_guid": "1b488d81-dcc0-432d-1f89-868c32f17c1d"
      },
      "outputs": [],
      "source": [
        "# Create an undersampler object\n",
        "rus = RandomUnderSampler(return_indices=True)"
      ]
    },
    {
      "cell_type": "code",
      "execution_count": null,
      "metadata": {
        "_cell_guid": "6347ccce-47e1-f499-a587-fb211e232a79"
      },
      "outputs": [],
      "source": [
        "# Drop the time and amount features\n",
        "new_data = data.drop(data.columns[[0, 30]], axis=1)\n",
        "X = new_data.values\n",
        "y = data.Class.values"
      ]
    },
    {
      "cell_type": "code",
      "execution_count": null,
      "metadata": {
        "_cell_guid": "8b40df7e-1865-96a0-4e55-e8b939eaeca9"
      },
      "outputs": [],
      "source": [
        "# Resample the features for training data and the target\n",
        "X_resampled, y_resampled, idx_resampled = rus.fit_sample(X, y)"
      ]
    },
    {
      "cell_type": "code",
      "execution_count": null,
      "metadata": {
        "_cell_guid": "9965037e-91c0-457b-9fcd-ab47e09aa4fa"
      },
      "outputs": [],
      "source": [
        "# Revert resampeled data into a dataframe\n",
        "X_resampled = pd.DataFrame(X_resampled)\n",
        "y_resampled = pd.DataFrame(y_resampled)\n",
        "y_resampled.columns = ['Class']\n",
        "undersampled_data = pd.concat([X_resampled, y_resampled], axis=1)"
      ]
    },
    {
      "cell_type": "code",
      "execution_count": null,
      "metadata": {
        "_cell_guid": "8ef548fd-2649-d0fb-a367-ade586467f2d"
      },
      "outputs": [],
      "source": [
        "# Split the resampeled data into training and test sets\n",
        "X = undersampled_data.values\n",
        "y = undersampled_data.Class.values\n",
        "X_train, X_test, y_train, y_test = cross_validation.train_test_split(X, y ,test_size=0.2)"
      ]
    },
    {
      "cell_type": "markdown",
      "metadata": {
        "_cell_guid": "7da6c81b-a8b6-a7e7-1740-942da865c84f"
      },
      "source": [
        "# 3. Prediction\n",
        "- We are going to train a logistic regression model\n",
        "- The accuracy metric will be Recall since the normal transaction count is very high and some fraud cases can be predicted as legit. We wouldn't want that."
      ]
    },
    {
      "cell_type": "code",
      "execution_count": null,
      "metadata": {
        "_cell_guid": "b1b893c9-b87b-fa67-ea30-043475f29372"
      },
      "outputs": [],
      "source": [
        "lr_model = LogisticRegression()\n",
        "lr_model.fit(X_train, y_train)"
      ]
    },
    {
      "cell_type": "code",
      "execution_count": null,
      "metadata": {
        "_cell_guid": "75fcfd91-76b5-c712-0443-c0f28761365f"
      },
      "outputs": [],
      "source": [
        "# Test the model using the test set\n",
        "predictions = lr_model.predict(X_test)"
      ]
    },
    {
      "cell_type": "code",
      "execution_count": null,
      "metadata": {
        "_cell_guid": "36abe6e9-7c23-30ff-782c-f56fcd189b18"
      },
      "outputs": [],
      "source": [
        "# Let's see the confusion matrix and evaluate the model \n",
        "cnf_matrix=confusion_matrix(y_test,predictions)"
      ]
    },
    {
      "cell_type": "code",
      "execution_count": null,
      "metadata": {
        "_cell_guid": "43cd1fef-5306-17b1-fc9a-34b115ce69bc"
      },
      "outputs": [],
      "source": [
        "print(\"the recall for this model is :\",cnf_matrix[1,1]/(cnf_matrix[1,1]+cnf_matrix[1,0]))"
      ]
    },
    {
      "cell_type": "code",
      "execution_count": null,
      "metadata": {
        "_cell_guid": "ad6a438b-f130-b488-054b-41d714463004"
      },
      "outputs": [],
      "source": [
        "fig= plt.figure(figsize=(6,3))# to plot the graph\n",
        "print(\"TP\",cnf_matrix[1,1,]) # no of fraud transaction which are predicted fraud\n",
        "print(\"TN\",cnf_matrix[0,0]) # no. of normal transaction which are predited normal\n",
        "print(\"FP\",cnf_matrix[0,1]) # no of normal transaction which are predicted fraud\n",
        "print(\"FN\",cnf_matrix[1,0]) # no of fraud Transaction which are predicted normal\n",
        "sns.heatmap(cnf_matrix,cmap=\"coolwarm_r\",annot=True,linewidths=0.5)\n",
        "plt.title(\"Confusion_matrix\")\n",
        "plt.xlabel(\"Predicted_class\")\n",
        "plt.ylabel(\"Real class\")\n",
        "plt.show()\n",
        "print(\"\\n----------Classification Report------------------------------------\")\n",
        "print(classification_report(y_test,predictions))"
      ]
    }
  ],
  "metadata": {
    "_change_revision": 0,
    "_is_fork": false,
    "kernelspec": {
      "display_name": "Python 3",
      "language": "python",
      "name": "python3"
    },
    "language_info": {
      "codemirror_mode": {
        "name": "ipython",
        "version": 3
      },
      "file_extension": ".py",
      "mimetype": "text/x-python",
      "name": "python",
      "nbconvert_exporter": "python",
      "pygments_lexer": "ipython3",
      "version": "3.6.0"
    }
  },
  "nbformat": 4,
  "nbformat_minor": 0
}