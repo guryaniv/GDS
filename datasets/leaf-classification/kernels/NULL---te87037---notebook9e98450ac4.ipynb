{
  "cells": [
    {
      "cell_type": "code",
      "execution_count": null,
      "metadata": {
        "_cell_guid": "489aabd2-f85f-f1b4-374b-c11fa200e9d8"
      },
      "outputs": [],
      "source": [
        "import pandas as pd\n",
        "import numpy as np\n",
        "\n",
        "import xgboost as xgb\n",
        "from sklearn.cross_validation import cross_val_score\n",
        "from sklearn.metrics import log_loss\n",
        "from sklearn.preprocessing import LabelBinarizer\n",
        "train = pd.read_csv(\"../input/train.csv\")\n",
        "test = pd.read_csv(\"../input/test.csv\")"
      ]
    },
    {
      "cell_type": "code",
      "execution_count": null,
      "metadata": {
        "_cell_guid": "25011060-3a6c-065c-d462-b25e8a434ade"
      },
      "outputs": [],
      "source": [
        "Y_train = train['species']\n",
        "id_train = train['id']\n",
        "X_train = train.drop(['species', 'id'], axis=1)\n",
        "classes = np.unique(Y_train)\n",
        "Y_train_bin = LabelBinarizer().fit_transform(Y_train)\n",
        "\n",
        "id_test = test['id']\n",
        "X_test = test.drop(['id'], axis=1)"
      ]
    },
    {
      "cell_type": "code",
      "execution_count": null,
      "metadata": {
        "_cell_guid": "b82f3983-c16a-9848-6455-2c223cadb2c8"
      },
      "outputs": [],
      "source": [
        "lb = LabelBinarizer()\n",
        "lb.fit(Y_train)\n",
        "print(lb.classes_)"
      ]
    },
    {
      "cell_type": "code",
      "execution_count": null,
      "metadata": {
        "_cell_guid": "3cf1cbb3-3929-98c3-d491-cb1a2103c80d"
      },
      "outputs": [],
      "source": [
        "\"Number of unique classes: {0}\".format(len(classes))"
      ]
    },
    {
      "cell_type": "code",
      "execution_count": null,
      "metadata": {
        "_cell_guid": "ca70a7e6-63c4-ba98-f71a-6e946f4079b7"
      },
      "outputs": [],
      "source": ""
    },
    {
      "cell_type": "code",
      "execution_count": null,
      "metadata": {
        "_cell_guid": "299903d4-0e11-015e-455c-b9c95ec978ec"
      },
      "outputs": [],
      "source": ""
    },
    {
      "cell_type": "code",
      "execution_count": null,
      "metadata": {
        "_cell_guid": "6770226c-58ed-74b7-0b4d-a5a33b6248e7"
      },
      "outputs": [],
      "source": [
        "! head -n 2 xgb_benchmark.csv"
      ]
    },
    {
      "cell_type": "code",
      "execution_count": null,
      "metadata": {
        "_cell_guid": "0bbacdf8-3ce9-aeea-6495-9887d9e5ce60"
      },
      "outputs": [],
      "source": [
        "array([ 0.86363636,  0.9040404 ,  0.87373737,  0.87373737,  0.85858586])"
      ]
    },
    {
      "cell_type": "code",
      "execution_count": null,
      "metadata": {
        "_cell_guid": "9e5d55ce-9b57-ceda-3656-ce079ca859e5"
      },
      "outputs": [],
      "source": [
        "cross_val_score(xgb.XGBClassifier(n_estimators=100), X_train, Y_train, cv=5)"
      ]
    }
  ],
  "metadata": {
    "_change_revision": 0,
    "_is_fork": false,
    "kernelspec": {
      "display_name": "Python 3",
      "language": "python",
      "name": "python3"
    },
    "language_info": {
      "codemirror_mode": {
        "name": "ipython",
        "version": 3
      },
      "file_extension": ".py",
      "mimetype": "text/x-python",
      "name": "python",
      "nbconvert_exporter": "python",
      "pygments_lexer": "ipython3",
      "version": "3.6.0"
    }
  },
  "nbformat": 4,
  "nbformat_minor": 0
}