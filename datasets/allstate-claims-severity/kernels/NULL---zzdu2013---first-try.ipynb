{
  "cells": [
    {
      "cell_type": "code",
      "execution_count": null,
      "metadata": {
        "_cell_guid": "94de4e70-7f29-7e04-aa77-3fc23f2f04cc"
      },
      "outputs": [],
      "source": [
        "# This Python 3 environment comes with many helpful analytics libraries installed\n",
        "# It is defined by the kaggle/python docker image: https://github.com/kaggle/docker-python\n",
        "# For example, here's several helpful packages to load in \n",
        "\n",
        "import numpy as np # linear algebra\n",
        "import pandas as pd # data processing, CSV file I/O (e.g. pd.read_csv)\n",
        "\n",
        "# Input data files are available in the \"../input/\" directory.\n",
        "# For example, running this (by clicking run or pressing Shift+Enter) will list the files in the input directory\n",
        "\n",
        "from subprocess import check_output\n",
        "print(check_output([\"ls\", \"../input\"]).decode(\"utf8\"))\n",
        "\n",
        "# Any results you write to the current directory are saved as output."
      ]
    },
    {
      "cell_type": "code",
      "execution_count": null,
      "metadata": {
        "_cell_guid": "fb9bf847-1a90-893f-2312-ff570510ceb2"
      },
      "outputs": [],
      "source": [
        "from sklearn.preprocessing import LabelEncoder\n",
        "from sklearn import cross_validation\n",
        "from sklearn.linear_model import LinearRegression\n",
        "from sklearn import metrics\n",
        "import warnings\n",
        "warnings.filterwarnings('ignore')"
      ]
    },
    {
      "cell_type": "code",
      "execution_count": null,
      "metadata": {
        "_cell_guid": "8b3e59ea-a5da-a28f-3164-c6da7abe41f4"
      },
      "outputs": [],
      "source": [
        "# load data\n",
        "train_data = pd.read_csv('../input/train.csv')\n",
        "test_data = pd.read_csv('../input/test.csv')\n",
        "ID = test_data['id']"
      ]
    },
    {
      "cell_type": "code",
      "execution_count": null,
      "metadata": {
        "_cell_guid": "acf85a68-e73c-c9f7-5111-e06a4efcdf0f"
      },
      "outputs": [],
      "source": [
        "contfeatures=[]\n",
        "for c,x in train_data.iloc[1,:].iteritems():\n",
        "    if (not str(x).isalpha()):\n",
        "        contfeatures.append(c)\n",
        "contfeatures_test=[]\n",
        "for c,x in test_data.iloc[1,:].iteritems():\n",
        "    if (not str(x).isalpha()):\n",
        "        contfeatures_test.append(c)"
      ]
    },
    {
      "cell_type": "code",
      "execution_count": null,
      "metadata": {
        "_cell_guid": "46def08c-fbe9-a5f6-00b6-413d7f192eda"
      },
      "outputs": [],
      "source": [
        "contfeatures.remove('id')\n",
        "contfeatures.remove('loss')\n",
        "contfeatures_test.remove('id')"
      ]
    },
    {
      "cell_type": "code",
      "execution_count": null,
      "metadata": {
        "_cell_guid": "3abc52e2-dd1b-3d5b-312a-6223987e871d"
      },
      "outputs": [],
      "source": [
        "contfeatures.append('loss')"
      ]
    },
    {
      "cell_type": "code",
      "execution_count": null,
      "metadata": {
        "_cell_guid": "f9863e42-b5f8-88aa-e7cc-e9c3d24e4f62"
      },
      "outputs": [],
      "source": [
        "catfeatures=[]\n",
        "for c,x in train_data.iloc[1,:].iteritems():\n",
        "    if  str(x).isalpha():\n",
        "        catfeatures.append(c)\n",
        "\n",
        "for cf1 in catfeatures:\n",
        "    le = LabelEncoder()\n",
        "    le.fit(train_data[cf1].unique())\n",
        "    train_data[cf1] = le.transform(train_data[cf1])"
      ]
    },
    {
      "cell_type": "code",
      "execution_count": null,
      "metadata": {
        "_cell_guid": "04a8b7d7-edc6-eb40-c4a5-c92b37556056"
      },
      "outputs": [],
      "source": [
        "catfeatures_test=[]\n",
        "for c,x in test_data.iloc[1,:].iteritems():\n",
        "    if  str(x).isalpha():\n",
        "        catfeatures_test.append(c)\n",
        "\n",
        "for cf1 in catfeatures_test:\n",
        "    le = LabelEncoder()\n",
        "    le.fit(test_data[cf1].unique())\n",
        "    test_data[cf1] = le.transform(test_data[cf1])"
      ]
    },
    {
      "cell_type": "code",
      "execution_count": null,
      "metadata": {
        "_cell_guid": "1b33c5bb-ffaa-cb88-59a3-b3761fdee8ed"
      },
      "outputs": [],
      "source": [
        "test_data.head()"
      ]
    },
    {
      "cell_type": "code",
      "execution_count": null,
      "metadata": {
        "_cell_guid": "2146037a-2936-4625-6a8c-487c3fdde428"
      },
      "outputs": [],
      "source": [
        "X = np.array(train_data.drop(['id','loss'],1))\n",
        "y = np.log1p(train_data['loss'])"
      ]
    },
    {
      "cell_type": "code",
      "execution_count": null,
      "metadata": {
        "_cell_guid": "01aa3aa3-3aa4-0006-0eb4-1d1444095fc3"
      },
      "outputs": [],
      "source": [
        "linreg = LinearRegression()\n",
        "linreg.fit(X, y)\n",
        "y_pred = np.expm1(linreg.predict(test_data.drop(['id'],1)))"
      ]
    },
    {
      "cell_type": "code",
      "execution_count": null,
      "metadata": {
        "_cell_guid": "cb4fef11-8268-6a93-80f0-e9b6fea4d5fc"
      },
      "outputs": [],
      "source": [
        "submission = pd.DataFrame({\n",
        "        \"id\": ID,\n",
        "        \"loss\": y_pred\n",
        "    })\n",
        "submission.to_csv('try.csv', index=False)"
      ]
    }
  ],
  "metadata": {
    "_change_revision": 0,
    "_is_fork": false,
    "kernelspec": {
      "display_name": "Python 3",
      "language": "python",
      "name": "python3"
    },
    "language_info": {
      "codemirror_mode": {
        "name": "ipython",
        "version": 3
      },
      "file_extension": ".py",
      "mimetype": "text/x-python",
      "name": "python",
      "nbconvert_exporter": "python",
      "pygments_lexer": "ipython3",
      "version": "3.5.2"
    }
  },
  "nbformat": 4,
  "nbformat_minor": 0
}