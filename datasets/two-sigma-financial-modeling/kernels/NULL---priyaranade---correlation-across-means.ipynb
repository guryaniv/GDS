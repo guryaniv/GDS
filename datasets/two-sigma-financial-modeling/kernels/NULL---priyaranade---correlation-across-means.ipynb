{
  "cells": [
    {
      "cell_type": "markdown",
      "metadata": {
        "_cell_guid": "fca446cb-3f4a-af49-523d-233e9291ea3c"
      },
      "source": [
        "This notebook attempts to find correlation between mean feature values and mean response. The idea is that mean y corresponds to market returns and if we can predict market returns and dispersion around it we could possibly predict the returns of each id. Just an idea at the moment and needs more work."
      ]
    },
    {
      "cell_type": "code",
      "execution_count": null,
      "metadata": {
        "_cell_guid": "2e98ab0b-e4dc-fa61-a3bf-6b6ddbc097d9"
      },
      "outputs": [],
      "source": [
        "import numpy as np # linear algebra\n",
        "import pandas as pd # data processing, CSV file I/O (e.g. pd.read_csv)\n",
        "import matplotlib.pyplot as plt\n",
        "import seaborn as sns\n",
        "\n",
        "%matplotlib inline"
      ]
    },
    {
      "cell_type": "code",
      "execution_count": null,
      "metadata": {
        "_cell_guid": "8b2e7293-e8de-6bba-96cd-0d6301990dbb"
      },
      "outputs": [],
      "source": [
        "with pd.HDFStore(\"../input/train.h5\", \"r\") as train:\n",
        "    # Note that the \"train\" dataframe is the only dataframe in the file\n",
        "    df = train.get(\"train\")"
      ]
    },
    {
      "cell_type": "code",
      "execution_count": null,
      "metadata": {
        "_cell_guid": "09fcd6be-bc1f-b2ae-4ea4-a7f0def2bea8"
      },
      "outputs": [],
      "source": [
        "df.fillna(0, inplace=True)"
      ]
    },
    {
      "cell_type": "code",
      "execution_count": null,
      "metadata": {
        "_cell_guid": "7e81de9e-d880-68b2-2a6f-b9ca551417e3"
      },
      "outputs": [],
      "source": [
        "col = 'fundamental_7'"
      ]
    },
    {
      "cell_type": "code",
      "execution_count": null,
      "metadata": {
        "_cell_guid": "3c954548-8c28-e9de-ae0a-c99fae0aab21"
      },
      "outputs": [],
      "source": [
        "groupbyId = df.groupby('id')\n",
        "tm = groupbyId[['technical_20']].mean().values[:, 0]\n",
        "ts = groupbyId[['technical_20']].std().values[:, 0]\n",
        "ym = groupbyId[['y']].mean().values[:, 0]\n",
        "ys = groupbyId[['y']].std().values[:, 0]\n",
        "ys[ys==0] = 1.\n",
        "ts[ts==0] = 1.\n",
        "tm /= ts\n",
        "ym /= ys\n",
        "np.isnan(tm).any()"
      ]
    },
    {
      "cell_type": "code",
      "execution_count": null,
      "metadata": {
        "_cell_guid": "261c644f-80d8-0962-0998-e5d58164dd3f"
      },
      "outputs": [],
      "source": [
        "from sklearn import preprocessing\n",
        "\n",
        "print(np.correlate(tm, ym))"
      ]
    },
    {
      "cell_type": "code",
      "execution_count": null,
      "metadata": {
        "_cell_guid": "eeb2f490-62f5-8e7f-ad0b-22d336739149"
      },
      "outputs": [],
      "source": [
        "import kagglegym\n",
        "env = kagglegym.make()\n",
        "observation = env.reset()\n",
        "train = observation.train"
      ]
    },
    {
      "cell_type": "code",
      "execution_count": null,
      "metadata": {
        "_cell_guid": "bba06d5a-7307-5d50-3c3c-ee940ddf461f"
      },
      "outputs": [],
      "source": [
        "import statsmodels.api as smapi\n",
        "\n",
        "train.fillna(0, inplace=True)\n",
        "\n",
        "rsquared = {}\n",
        "\n",
        "for col in train.columns:\n",
        "    groupbyId = train.groupby('id')\n",
        "    tm = groupbyId[[col]].mean().values[:, 0]\n",
        "    ts = groupbyId[[col]].std().values[:, 0]\n",
        "    ym = groupbyId[['y']].mean().values[:, 0]\n",
        "    ys = groupbyId[['y']].std().values[:, 0]\n",
        "    ys[ys==0] = 1.\n",
        "    ts[ts==0] = 1.\n",
        "    tm = tm / ts\n",
        "    ym = ym / ys\n",
        "    model = smapi.OLS(ym, smapi.add_constant(tm)).fit()\n",
        "    rsquared[col] = model.rsquared_adj\n",
        "print(model.summary())"
      ]
    },
    {
      "cell_type": "code",
      "execution_count": null,
      "metadata": {
        "_cell_guid": "68a51d7b-43a6-6c1e-b6a1-319b16610e05"
      },
      "outputs": [],
      "source": ""
    }
  ],
  "metadata": {
    "_change_revision": 0,
    "_is_fork": false,
    "kernelspec": {
      "display_name": "Python 3",
      "language": "python",
      "name": "python3"
    },
    "language_info": {
      "codemirror_mode": {
        "name": "ipython",
        "version": 3
      },
      "file_extension": ".py",
      "mimetype": "text/x-python",
      "name": "python",
      "nbconvert_exporter": "python",
      "pygments_lexer": "ipython3",
      "version": "3.5.2"
    }
  },
  "nbformat": 4,
  "nbformat_minor": 0
}