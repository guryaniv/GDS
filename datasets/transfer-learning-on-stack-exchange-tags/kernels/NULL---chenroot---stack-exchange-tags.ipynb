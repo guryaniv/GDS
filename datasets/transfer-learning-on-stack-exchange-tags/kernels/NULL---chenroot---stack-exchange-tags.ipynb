{
  "cells": [
    {
      "cell_type": "markdown",
      "metadata": {
        "_cell_guid": "7bd483b5-334f-9f9f-0a22-9aaf8b49ca23"
      },
      "source": [
        ""
      ]
    },
    {
      "cell_type": "code",
      "execution_count": null,
      "metadata": {
        "_cell_guid": "11a69617-30e3-e7bb-dc88-da2bb3610807"
      },
      "outputs": [],
      "source": [
        "# This Python 3 environment comes with many helpful analytics libraries installed\n",
        "# It is defined by the kaggle/python docker image: https://github.com/kaggle/docker-python\n",
        "# For example, here's several helpful packages to load in \n",
        "\n",
        "import numpy as np # linear algebra\n",
        "import pandas as pd # data processing, CSV file I/O (e.g. pd.read_csv)\n",
        "import re\n",
        "from bs4 import BeautifulSoup\n",
        "from imblearn.over_sampling import RandomOverSampler\n",
        "from stop_words import get_stop_words\n",
        "from collections import OrderedDict\n",
        "import matplotlib.pyplot as plt\n",
        "import seaborn as sns\n",
        "sns.set_style('whitegrid')\n",
        "%matplotlib inline\n",
        "\n",
        "# machine learning\n",
        "from sklearn.feature_extraction.text import CountVectorizer\n",
        "from sklearn.linear_model import LogisticRegression\n",
        "from sklearn.preprocessing import MultiLabelBinarizer\n",
        "from sklearn.multiclass import OneVsRestClassifier\n",
        "from sklearn.pipeline import Pipeline\n",
        "from sklearn.feature_extraction.text import TfidfTransformer\n",
        "from sklearn.naive_bayes import MultinomialNB\n",
        "from sklearn.linear_model import SGDClassifier\n",
        "from sklearn.feature_selection import SelectKBest\n",
        "from sklearn.feature_selection import chi2"
      ]
    },
    {
      "cell_type": "code",
      "execution_count": null,
      "metadata": {
        "_cell_guid": "1a09f780-ae87-95fa-b231-abbe47e3d4fd"
      },
      "outputs": [],
      "source": [
        "biology_df = pd.read_csv(\"../input/biology.csv\")\n",
        "biology_df.info()\n",
        "cooking_df = pd.read_csv(\"../input/cooking.csv\")\n",
        "cooking_df.info()\n",
        "crypto_df = pd.read_csv(\"../input/crypto.csv\")\n",
        "crypto_df.info()\n",
        "diy_df = pd.read_csv(\"../input/diy.csv\")\n",
        "diy_df.info()\n",
        "robotics_df = pd.read_csv(\"../input/robotics.csv\")\n",
        "robotics_df.info()\n",
        "travel_df = pd.read_csv(\"../input/travel.csv\")\n",
        "travel_df.info()\n",
        "train_df = pd.concat([biology_df, cooking_df, crypto_df, diy_df, robotics_df, travel_df], ignore_index=True)\n",
        "train_df.info()\n",
        "test_df = pd.read_csv(\"../input/test.csv\")\n",
        "test_df.info()"
      ]
    },
    {
      "cell_type": "code",
      "execution_count": null,
      "metadata": {
        "_cell_guid": "df08cb85-8034-b4ec-a173-25db64739ab9"
      },
      "outputs": [],
      "source": [
        "stop_words = ['a', \"a's\", 'able', 'about', 'above', 'according', 'accordingly', 'across', 'actually',\n",
        "              'after', 'afterwards', 'again', 'against', \"ain't\", 'all', 'allow', 'allows', 'almost',\n",
        "              'alone', 'along', 'already', 'also', 'although', 'always', 'am', 'among', 'amongst', 'an',\n",
        "              'and', 'another', 'any', 'anybody', 'anyhow', 'anyone', 'anything', 'anyway', 'anyways',\n",
        "              'anywhere', 'apart', 'appear', 'appreciate', 'appropriate', 'are', \"aren't\", 'around',\n",
        "              'as', 'aside', 'ask', 'asking', 'associated', 'at', 'available', 'away', 'awfully', 'b',\n",
        "              'be', 'became', 'because', 'become', 'becomes', 'becoming', 'been', 'before', 'beforehand',\n",
        "              'behind', 'being', 'believe', 'below', 'beside', 'besides', 'best', 'better', 'between',\n",
        "              'beyond', 'both', 'brief', 'but', 'by', 'c', \"c'mon\", \"c's\", 'came', 'can', \"can't\", 'cannot',\n",
        "              'cant', 'cause', 'causes', 'certain', 'certainly', 'changes', 'clearly', 'co', 'com', 'come',\n",
        "              'comes', 'concerning', 'consequently', 'consider', 'considering', 'contain', 'containing',\n",
        "              'contains', 'corresponding', 'could', \"couldn't\", 'course', 'currently', 'd', 'definitely',\n",
        "              'described', 'despite', 'did', \"didn't\", 'different', 'do', 'does', \"doesn't\", 'doing', \"don't\",\n",
        "              'done', 'down', 'downwards', 'during', 'e', 'each', 'edu', 'eg', 'eight', 'either', 'else',\n",
        "              'elsewhere', 'enough', 'entirely', 'especially', 'et', 'etc', 'even', 'ever', 'every', 'everybody',\n",
        "              'everyone', 'everything', 'everywhere', 'ex', 'exactly', 'example', 'except', 'f', 'far', 'few',\n",
        "              'fifth', 'first', 'five', 'followed', 'following', 'follows', 'for', 'former', 'formerly', 'forth',\n",
        "              'four', 'from', 'further', 'furthermore', 'g', 'get', 'gets', 'getting', 'given', 'gives', 'go',\n",
        "              'goes', 'going', 'gone', 'got', 'gotten', 'greetings', 'h', 'had', \"hadn't\", 'happens', 'hardly',\n",
        "              'has', \"hasn't\", 'have', \"haven't\", 'having', 'he', \"he's\", 'hello', 'help', 'hence', 'her', 'here',\n",
        "              \"here's\", 'hereafter', 'hereby', 'herein', 'hereupon', 'hers', 'herself', 'hi', 'him', 'himself',\n",
        "              'his', 'hither', 'hopefully', 'how', 'howbeit', 'however', 'i', \"i'd\", \"i'll\", \"i'm\", \"i've\", 'ie',\n",
        "              'if', 'ignored', 'immediate', 'in', 'inasmuch', 'inc', 'indeed', 'indicate', 'indicated', 'indicates',\n",
        "              'inner', 'insofar', 'instead', 'into', 'inward', 'is', \"isn't\", 'it', \"it'd\", \"it'll\", \"it's\", 'its',\n",
        "              'itself', 'j', 'just', 'k', 'keep', 'keeps', 'kept', 'know', 'knows', 'known', 'l', 'last', 'lately',\n",
        "              'later', 'latter', 'latterly', 'least', 'less', 'lest', 'let', \"let's\", 'like', 'liked', 'likely',\n",
        "              'little', 'look', 'looking', 'looks', 'ltd', 'm', 'mainly', 'many', 'may', 'maybe', 'me', 'mean',\n",
        "              'meanwhile', 'merely', 'might', 'more', 'moreover', 'most', 'mostly', 'much', 'must', 'my',\n",
        "              'myself', 'n', 'name', 'namely', 'nd', 'near', 'nearly', 'necessary', 'need', 'needs',\n",
        "              'neither', 'never', 'nevertheless', 'new', 'next', 'nine', 'no', 'nobody', 'non', 'none',\n",
        "              'noone', 'nor', 'normally', 'not', 'nothing', 'novel', 'now', 'nowhere', 'o', 'obviously',\n",
        "              'of', 'off', 'often', 'oh', 'ok', 'okay', 'old', 'on', 'once', 'one', 'ones', 'only', 'onto',\n",
        "              'or', 'other', 'others', 'otherwise', 'ought', 'our', 'ours', 'ourselves', 'out', 'outside',\n",
        "              'over', 'overall', 'own', 'p', 'particular', 'particularly', 'per', 'perhaps', 'placed',\n",
        "              'please', 'plus', 'possible', 'presumably', 'probably', 'provides', 'q', 'que', 'quite',\n",
        "              'qv', 'r', 'rather', 'rd', 're', 'really', 'reasonably', 'regarding', 'regardless',\n",
        "              'regards', 'relatively', 'respectively', 'right', 's', 'said', 'same', 'saw', 'say',\n",
        "              'saying', 'says', 'second', 'secondly', 'see', 'seeing', 'seem', 'seemed', 'seeming',\n",
        "              'seems', 'seen', 'self', 'selves', 'sensible', 'sent', 'serious', 'seriously', 'seven',\n",
        "              'several', 'shall', 'she', 'should', \"shouldn't\", 'since', 'six', 'so', 'some', 'somebody',\n",
        "              'somehow', 'someone', 'something', 'sometime', 'sometimes', 'somewhat', 'somewhere', 'soon',\n",
        "              'sorry', 'specified', 'specify', 'specifying', 'still', 'sub', 'such', 'sup', 'sure', 't',\n",
        "              \"t's\", 'take', 'taken', 'tell', 'tends', 'th', 'than', 'thank', 'thanks', 'thanx', 'that',\n",
        "              \"that's\", 'thats', 'the', 'their', 'theirs', 'them', 'themselves', 'then', 'thence', 'there',\n",
        "              \"there's\", 'thereafter', 'thereby', 'therefore', 'therein', 'theres', 'thereupon', 'these',\n",
        "              'they', \"they'd\", \"they'll\", \"they're\", \"they've\", 'think', 'third', 'this', 'thorough',\n",
        "              'thoroughly', 'those', 'though', 'three', 'through', 'throughout', 'thru', 'thus', 'to',\n",
        "              'together', 'too', 'took', 'toward', 'towards', 'tried', 'tries', 'truly', 'try', 'trying',\n",
        "              'twice', 'two', 'u', 'un', 'under', 'unfortunately', 'unless', 'unlikely', 'until', 'unto',\n",
        "              'up', 'upon', 'us', 'use', 'used', 'useful', 'uses', 'using', 'usually', 'uucp', 'v', 'value',\n",
        "              'various', 'very', 'via', 'viz', 'vs', 'w', 'want', 'wants', 'was', \"wasn't\", 'way', 'we',\n",
        "              \"we'd\", \"we'll\", \"we're\", \"we've\", 'welcome', 'well', 'went', 'were', \"weren't\", 'what',\n",
        "              \"what's\", 'whatever', 'when', 'whence', 'whenever', 'where', \"where's\", 'whereafter',\n",
        "              'whereas', 'whereby', 'wherein', 'whereupon', 'wherever', 'whether', 'which', 'while',\n",
        "              'whither', 'who', \"who's\", 'whoever', 'whole', 'whom', 'whose', 'why', 'will', 'willing',\n",
        "              'wish', 'with', 'within', 'without', \"won't\", 'wonder', 'would', 'would', \"wouldn't\",\n",
        "              'x', 'y', 'yes', 'yet', 'you', \"you'd\", \"you'll\", \"you're\", \"you've\", 'your', 'yours',\n",
        "              'yourself', 'yourselves', 'z', 'zero', '']"
      ]
    },
    {
      "cell_type": "code",
      "execution_count": null,
      "metadata": {
        "_cell_guid": "b3895b67-2c54-65d2-3625-9b974faf6eba"
      },
      "outputs": [],
      "source": [
        "def clean_content(row) :\n",
        "    string = row[\"content\"]\n",
        "    string = \"\".join(string.split(\"\\n\"))\n",
        "    soup = BeautifulSoup(string, \"html.parser\")\n",
        "    return \" \".join(re.findall(\"[a-zA-Z]+\", soup.get_text().lower()))\n",
        "def clean_title(row) :\n",
        "    string = row[\"title\"]\n",
        "    return \" \".join(re.findall(\"[a-zA-Z]+\", string.lower()))\n",
        "def word_in_title(row) :\n",
        "    tags = set(row[\"tags\"].split())\n",
        "    words = set(row[\"title\"].split())\n",
        "    return len(tags & words)\n",
        "def word_in_content(row) :\n",
        "    tags = set(row[\"tags\"].split())\n",
        "    words = set(row[\"content\"].split())\n",
        "    return len(tags & words)\n",
        "def tags_count(row) :\n",
        "    return len(set(row[\"tags\"].split()))\n",
        "biology_df[\"title\"] = biology_df.apply(clean_title, axis = 1)\n",
        "biology_df[\"content\"] = biology_df.apply(clean_content, axis = 1)\n",
        "biology_df[\"title_in_tags\"] = biology_df.apply(word_in_title, axis = 1)\n",
        "biology_df[\"content_in_tags\"] = biology_df.apply(word_in_content, axis = 1)\n",
        "biology_df[\"tags_count\"] = biology_df.apply(tags_count, axis = 1)\n",
        "print(np.sum(biology_df[\"title_in_tags\"]))\n",
        "print(np.sum(biology_df[\"content_in_tags\"]))\n",
        "print(np.sum(biology_df[\"tags_count\"]))"
      ]
    }
  ],
  "metadata": {
    "_change_revision": 0,
    "_is_fork": false,
    "kernelspec": {
      "display_name": "Python 3",
      "language": "python",
      "name": "python3"
    },
    "language_info": {
      "codemirror_mode": {
        "name": "ipython",
        "version": 3
      },
      "file_extension": ".py",
      "mimetype": "text/x-python",
      "name": "python",
      "nbconvert_exporter": "python",
      "pygments_lexer": "ipython3",
      "version": "3.5.2"
    }
  },
  "nbformat": 4,
  "nbformat_minor": 0
}