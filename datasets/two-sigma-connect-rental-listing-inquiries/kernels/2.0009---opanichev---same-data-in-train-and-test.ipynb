{
  "cells": [
    {
      "cell_type": "markdown",
      "metadata": {
        "_cell_guid": "b4f20519-57aa-64ed-6caa-7be1d494e0d9"
      },
      "source": [
        "# Same data in train and test\n",
        "\n",
        "The aim of this notebook is to investigate the amount of data that is present both in train and test datasets."
      ]
    },
    {
      "cell_type": "code",
      "execution_count": null,
      "metadata": {
        "_cell_guid": "1f76b152-4204-4890-0ec7-039679d1535d"
      },
      "outputs": [],
      "source": [
        "import numpy as np \n",
        "import pandas as pd "
      ]
    },
    {
      "cell_type": "markdown",
      "metadata": {
        "_cell_guid": "8115b859-74c3-229f-849c-1bcfe4ff0076"
      },
      "source": [
        "### Read the data"
      ]
    },
    {
      "cell_type": "code",
      "execution_count": null,
      "metadata": {
        "_cell_guid": "d5e5b9b0-a676-c933-e1ed-fc049854b57f"
      },
      "outputs": [],
      "source": [
        "data_path = \"../input/\"\n",
        "train_file = data_path + \"train.json\"\n",
        "test_file = data_path + \"test.json\"\n",
        "train_df = pd.read_json(train_file)\n",
        "test_df = pd.read_json(test_file)\n",
        "\n",
        "train_df = train_df.fillna('')\n",
        "test_df = test_df.fillna('')\n",
        "\n",
        "train_df['photos_num'] = train_df.photos.apply(lambda x: len(x))\n",
        "test_df['photos_num'] = test_df.photos.apply(lambda x: len(x))\n",
        "\n",
        "train_df['features_num'] = train_df.features.apply(lambda x: len(x))\n",
        "test_df['features_num'] = test_df.features.apply(lambda x: len(x))\n",
        "\n",
        "print('Shape of train dataset = ' + str(train_df.shape))\n",
        "print('Shape of test dataset = ' + str(test_df.shape))"
      ]
    },
    {
      "cell_type": "markdown",
      "metadata": {
        "_cell_guid": "397d4b4e-cb52-95a3-9f0b-d0546cdc174f"
      },
      "source": [
        "### Now we will try to find similar and the same data in train and test sets."
      ]
    },
    {
      "cell_type": "code",
      "execution_count": null,
      "metadata": {
        "_cell_guid": "4d585202-c9e2-4eb2-1c4b-e973e18d511f"
      },
      "outputs": [],
      "source": [
        "def find_idx_ainb(a, b, cols):\n",
        "    if len(cols) == 0:\n",
        "        return []\n",
        "    \n",
        "    ainb = a[cols[0]].isin(b[cols[0]].values)\n",
        "    if len(cols) > 1:\n",
        "        for i in range(1, len(cols)):\n",
        "            ainb &= a[cols[i]].isin(b[cols[i]].values)\n",
        "            \n",
        "    return ainb"
      ]
    },
    {
      "cell_type": "markdown",
      "metadata": {
        "_cell_guid": "c5029797-09f1-ee86-b53b-3d3bbf73bafb"
      },
      "source": [
        "If we consider that same data means same values in 'bathrooms', 'bedrooms', 'building_id' and 'description' columns, we obtain next results:"
      ]
    },
    {
      "cell_type": "code",
      "execution_count": null,
      "metadata": {
        "_cell_guid": "5e0330e9-c1fd-272f-4300-e27f947ff5ed"
      },
      "outputs": [],
      "source": [
        "cols = ['bathrooms', 'bedrooms', 'building_id', 'description']\n",
        "print(cols)\n",
        "idx = find_idx_ainb(train_df, test_df, cols)\n",
        "print('\\nPercent of train data in test = {0:.2f}%'.format(100*np.mean(idx)))"
      ]
    },
    {
      "cell_type": "markdown",
      "metadata": {
        "_cell_guid": "80eeb4bb-1eb7-aecb-b558-31cbdcf75d48"
      },
      "source": [
        "**36.58%** of train data is present within the test set! I haven't expected such a big percentage. It seems that there are many same apartments in the dataset. Let's add few more parameters. "
      ]
    },
    {
      "cell_type": "code",
      "execution_count": null,
      "metadata": {
        "_cell_guid": "80084a5c-61c8-4d3c-849e-2ba60e5af853"
      },
      "outputs": [],
      "source": [
        "cols = list(train_df.columns.values)\n",
        "cols.remove('created')\n",
        "cols.remove('features')\n",
        "cols.remove('interest_level')\n",
        "cols.remove('listing_id')\n",
        "cols.remove('photos')\n",
        "print(cols)\n",
        "\n",
        "idx = find_idx_ainb(train_df, test_df, cols)\n",
        "print('\\nPercent of train data in test = {0:.2f}%'.format(100*np.mean(idx)))"
      ]
    },
    {
      "cell_type": "markdown",
      "metadata": {
        "_cell_guid": "1bcd138e-01fc-0044-eb6b-75a1e48c3942"
      },
      "source": [
        "Wow! **34.64%** of train data is present in the test dataset, but possibly with a different date of creation. \n",
        "\n",
        "Now let's check if there are absolutely the same apartment descriptions."
      ]
    },
    {
      "cell_type": "code",
      "execution_count": null,
      "metadata": {
        "_cell_guid": "f80da27d-a862-d285-9a6b-e26e420ef5fc"
      },
      "outputs": [],
      "source": [
        "cols = list(train_df.columns.values)\n",
        "cols.remove('features')\n",
        "cols.remove('interest_level')\n",
        "cols.remove('listing_id')\n",
        "cols.remove('photos')\n",
        "print(cols)\n",
        "\n",
        "idx = find_idx_ainb(train_df, test_df, cols)\n",
        "print('\\nPercent of train data in test = {0:.2f}%'.format(100*np.mean(idx)))"
      ]
    },
    {
      "cell_type": "markdown",
      "metadata": {
        "_cell_guid": "84478be1-d355-8fbc-1606-5959c1b5e695"
      },
      "source": [
        "**1.75%** of train data is the same as in the test (didn't check the photos and features, but number of photos and features the same as well). \n",
        "\n",
        "So many same descriptions present both in train and test datasets was found. Now we can find out if 'created' feature is a really important feature. For this purpose let's use sample_submission.csv, which gives **0.78993** score on the leaderboard, and insert in this submission known interest levels for the data present in the train set. 34.64% of train set it is around 17000 samples and approximately 23% of test data."
      ]
    },
    {
      "cell_type": "markdown",
      "metadata": {
        "_cell_guid": "f5f63541-0069-d719-9a5e-f93c8f715654"
      },
      "source": [
        "## Generate submission "
      ]
    },
    {
      "cell_type": "code",
      "execution_count": null,
      "metadata": {
        "_cell_guid": "ccd89758-2cd8-4fc0-dae4-2548ed06c170"
      },
      "outputs": [],
      "source": [
        "cols = ['bathrooms', 'bedrooms', 'building_id', \\\n",
        "        'description', 'display_address', 'latitude', \\\n",
        "        'longitude', 'manager_id', 'price', 'street_address', \\\n",
        "        'photos_num', 'features_num']\n",
        "df_merged = pd.merge(train_df, test_df, \\\n",
        "                     on=cols, \\\n",
        "                     suffixes=('_train', '_test'), how='right')\n",
        "df_merged = df_merged.rename(columns={'listing_id_test': 'listing_id'})\n",
        "df_merged.head()"
      ]
    },
    {
      "cell_type": "code",
      "execution_count": null,
      "metadata": {
        "_cell_guid": "7cb5179e-b270-8369-bc41-f2ea58eb0fd4"
      },
      "outputs": [],
      "source": [
        "fname = 'sample_submission.csv'\n",
        "subm = pd.read_csv(data_path + fname)\n",
        "subm = subm.merge(df_merged[['listing_id','interest_level']], on='listing_id')"
      ]
    },
    {
      "cell_type": "markdown",
      "metadata": {
        "_cell_guid": "68c0a5b0-3147-f58a-1ebb-97f5fbe94171"
      },
      "source": [
        "Just to be sure let's check if there are any duplicated descriptions (same description with different listing_id)."
      ]
    },
    {
      "cell_type": "code",
      "execution_count": null,
      "metadata": {
        "_cell_guid": "8d931f6b-a88f-9e95-70cc-15009fd100ee"
      },
      "outputs": [],
      "source": [
        "print('Number of duplicates = ' + str(np.sum(subm.duplicated(subset='listing_id'))))"
      ]
    },
    {
      "cell_type": "code",
      "execution_count": null,
      "metadata": {
        "_cell_guid": "847282a9-bf05-4535-c9ec-bbc5d4a0ab51"
      },
      "outputs": [],
      "source": [
        "subm.sort_values('listing_id').loc[subm.duplicated(subset='listing_id', keep=False)].head(10)"
      ]
    },
    {
      "cell_type": "markdown",
      "metadata": {
        "_cell_guid": "e28415dc-1fcc-b3d8-1a29-c95d3d5d3a90"
      },
      "source": [
        "Surprise again. There are many same descriptions within the train set. To confirm that let's do next:"
      ]
    },
    {
      "cell_type": "code",
      "execution_count": null,
      "metadata": {
        "_cell_guid": "f897debe-eb29-a5d8-43e9-dbb1225a3027"
      },
      "outputs": [],
      "source": [
        "print('Number of duplicates in train = ' + \\\n",
        "      str(np.sum(train_df.duplicated(subset=cols, keep=False))))\n",
        "print('Number of duplicates in test = ' + \\\n",
        "      str(np.sum(test_df.duplicated(subset=cols, keep=False))))"
      ]
    },
    {
      "cell_type": "markdown",
      "metadata": {
        "_cell_guid": "c1fef30a-e154-6b77-4005-c3466b517646"
      },
      "source": [
        "Yeap, there are the same descriptions withing the train data but with different date of creation. Moreover, the same situation is with the test set. Anyway, let's create a modified submission basing on averaging class probabilities for duplicates."
      ]
    },
    {
      "cell_type": "code",
      "execution_count": null,
      "metadata": {
        "_cell_guid": "ae00e3bf-8517-5013-5747-d8f9b38ed581"
      },
      "outputs": [],
      "source": [
        "subm.low.loc[subm.interest_level=='low'] = 1.0\n",
        "subm.medium.loc[subm.interest_level=='low'] = 0.0\n",
        "subm.high.loc[subm.interest_level=='low'] = 0.0\n",
        "\n",
        "subm.low.loc[subm.interest_level=='medium'] = 0.0\n",
        "subm.medium.loc[subm.interest_level=='medium'] = 1.0\n",
        "subm.high.loc[subm.interest_level=='medium'] = 0.0\n",
        "\n",
        "subm.low.loc[subm.interest_level=='high'] = 0.0\n",
        "subm.medium.loc[subm.interest_level=='high'] = 0.0\n",
        "subm.high.loc[subm.interest_level=='high'] = 1.0\n",
        "\n",
        "subm = subm.groupby('listing_id').mean()\n",
        "\n",
        "print('subm.shape = ' + str(subm.shape))\n",
        "subm.head()"
      ]
    },
    {
      "cell_type": "code",
      "execution_count": null,
      "metadata": {
        "_cell_guid": "6301a2e1-62b1-1d7a-bece-68ddf46a173e"
      },
      "outputs": [],
      "source": [
        "subm.to_csv('submission.csv', index=True)"
      ]
    },
    {
      "cell_type": "markdown",
      "metadata": {
        "_cell_guid": "f53e5a2f-dbdd-ac63-8702-fb8ae4d696fd"
      },
      "source": [
        "## Conclusions\n",
        "\n",
        "From this investigation it was found:\n",
        "\n",
        " - There are the same or very similar descriptions present both in the train and test datasets;\n",
        " - There are the same descriptions but with different 'created' value within the train and test sets;\n",
        " - Duplicates within the train set may have different interest level, so it may be a sign that 'created' feature may be very important or dataset does not contain enough features.\n",
        " -  Resulting submission gives around **2.0** on the leaderboard, what is much worse then initial sample submission. It means that descriptions in test set with almost the same features may have absolutely different interest level, which may be classified correctly only by 'looking' at 'created' feature."
      ]
    }
  ],
  "metadata": {
    "_change_revision": 0,
    "_is_fork": false,
    "kernelspec": {
      "display_name": "Python 3",
      "language": "python",
      "name": "python3"
    },
    "language_info": {
      "codemirror_mode": {
        "name": "ipython",
        "version": 3
      },
      "file_extension": ".py",
      "mimetype": "text/x-python",
      "name": "python",
      "nbconvert_exporter": "python",
      "pygments_lexer": "ipython3",
      "version": "3.6.0"
    }
  },
  "nbformat": 4,
  "nbformat_minor": 0
}