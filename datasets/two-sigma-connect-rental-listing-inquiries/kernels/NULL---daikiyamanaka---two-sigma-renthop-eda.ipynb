{
  "cells": [
    {
      "cell_type": "markdown",
      "metadata": {
        "_cell_guid": "e063d684-e6cc-f135-fd72-fa72fc9f0c3c"
      },
      "source": [
        "**Introduction**\n",
        "================\n",
        "\n",
        "**_Poonam Ligade_**\n",
        "\n",
        "*9th Feb 2017*\n",
        "\n",
        "In this competition we are trying to classify interest levels of rental listings into high , low or medium.\n",
        "\n",
        "In this mainly we will look at data exploration and visulization part\n",
        "\n",
        "EDA is often most tedious and boring job.\n",
        "\n",
        "But the more time you spend here on understanding, cleaning and preparing data the better fruits your predictive model will bare!!\n",
        "\n",
        "Lets start.\n",
        "\n",
        "1) **Introduction**\n",
        "\n",
        "  1. Import Libraries\n",
        "  2. Load data\n",
        "  3. Variable Identification\n",
        "  4. Run Statistical summaries\n",
        "  5. Correlations\n",
        "\n",
        "2) **Visualisation**\n",
        "\n",
        " 1. Univariate Analysis\n",
        " 2. Bivariate Analysis\n",
        "\n",
        "\n",
        "3) **Feature engineering**"
      ]
    },
    {
      "cell_type": "code",
      "execution_count": null,
      "metadata": {
        "_cell_guid": "e57eca92-6735-7e89-5d26-d4dbb50dd26e"
      },
      "outputs": [],
      "source": [
        "# This Python 3 environment comes with many helpful analytics libraries installed\n",
        "# It is defined by the kaggle/python docker image: https://github.com/kaggle/docker-python\n",
        "# For example, here's several helpful packages to load in \n",
        "\n",
        "import numpy as np # linear algebra\n",
        "import pandas as pd # data processing, CSV file I/O (e.g. pd.read_csv)\n",
        "\n",
        "import matplotlib.pyplot as plt\n",
        "% matplotlib inline\n",
        "import seaborn as sns\n",
        "sns.set(style=\"whitegrid\", color_codes=True)\n",
        "sns.set(font_scale=1)\n",
        "\n",
        "import plotly.plotly as py\n",
        "import plotly.graph_objs as go\n",
        "from plotly import tools\n",
        "\n",
        "\n",
        "from plotly.offline import download_plotlyjs, init_notebook_mode, iplot\n",
        "init_notebook_mode(connected=True)\n",
        "\n",
        "\n",
        "# Input data files are available in the \"../input/\" directory.\n",
        "# For example, running this (by clicking run or pressing Shift+Enter) will list the files in the input directory\n",
        "\n",
        "from subprocess import check_output\n",
        "print(check_output([\"ls\", \"../input/\"]).decode(\"utf8\"))\n",
        "\n",
        "# Any results you write to the current directory are saved as output."
      ]
    },
    {
      "cell_type": "code",
      "execution_count": null,
      "metadata": {
        "_cell_guid": "6c24966a-ef0e-4130-d9e4-e41f7c683798"
      },
      "outputs": [],
      "source": [
        "train = pd.read_json(\"../input/train.json\")\n",
        "train.head()"
      ]
    },
    {
      "cell_type": "code",
      "execution_count": null,
      "metadata": {
        "_cell_guid": "4b0c45a4-573a-5ac1-f9d5-b66304a22bc9"
      },
      "outputs": [],
      "source": [
        "test = pd.read_json(\"../input/test.json\")\n",
        "test.head().T"
      ]
    },
    {
      "cell_type": "markdown",
      "metadata": {
        "_cell_guid": "a81f4ab0-2d7b-819e-1d01-a928f4506a29"
      },
      "source": [
        "**Size of Data**\n",
        "----------------"
      ]
    },
    {
      "cell_type": "code",
      "execution_count": null,
      "metadata": {
        "_cell_guid": "3884d7cb-79cf-74b4-d276-ca064a4ef27e"
      },
      "outputs": [],
      "source": [
        "train.shape"
      ]
    },
    {
      "cell_type": "code",
      "execution_count": null,
      "metadata": {
        "_cell_guid": "8f334753-7e48-d442-3221-c626d38e753b"
      },
      "outputs": [],
      "source": [
        "test.shape"
      ]
    },
    {
      "cell_type": "markdown",
      "metadata": {
        "_cell_guid": "eb7802e9-f5bf-8bbe-c50a-9ff411ec9db6"
      },
      "source": [
        "**Variable Identification**\n",
        "---------------------------"
      ]
    },
    {
      "cell_type": "code",
      "execution_count": null,
      "metadata": {
        "_cell_guid": "13f6a5af-b28a-7a70-9b32-f36236ec1492"
      },
      "outputs": [],
      "source": [
        "#info method provides information about dataset like \n",
        "#total values in each column, null/not null, datatype, memory occupied etc\n",
        "train.info()"
      ]
    },
    {
      "cell_type": "code",
      "execution_count": null,
      "metadata": {
        "_cell_guid": "78e6733c-7e1c-31b3-4c78-74a8a9a47b45"
      },
      "outputs": [],
      "source": [
        "#How many columns with different datatypes are there?\n",
        "train.get_dtype_counts()"
      ]
    },
    {
      "cell_type": "code",
      "execution_count": null,
      "metadata": {
        "_cell_guid": "91dea509-2cad-404d-2c3f-262cb547c41a"
      },
      "outputs": [],
      "source": [
        "##Describe gives statistical information about numerical columns in the dataset\n",
        "train.describe()"
      ]
    },
    {
      "cell_type": "markdown",
      "metadata": {
        "_cell_guid": "f10219cb-b7ca-0686-bdcc-f84c67e53c59"
      },
      "source": [
        "**Visualization**\n",
        "========================="
      ]
    },
    {
      "cell_type": "markdown",
      "metadata": {
        "_cell_guid": "4b196d9d-4e92-5c1c-9f5b-d6fc148d75b7"
      },
      "source": [
        "**Latitude and Longitude using Google Earth**\n",
        "---------------------------------------------------------"
      ]
    },
    {
      "cell_type": "code",
      "execution_count": null,
      "metadata": {
        "_cell_guid": "9a6410d2-4825-9ae4-3277-04e87f7842a4"
      },
      "outputs": [],
      "source": [
        "import gpxpy as gpx\n",
        "import gpxpy.gpx\n",
        "\n",
        "gpx = gpxpy.gpx.GPX()\n",
        "\n",
        "for index, row in train.iterrows():\n",
        "    #print (row['latitude'], row['longitude'])\n",
        "\n",
        "    if row['interest_level'] == 'high': #opting for all nominals results in poor performance of Google Earth\n",
        "        gps_waypoint = gpxpy.gpx.GPXWaypoint(row['latitude'],row['longitude'],elevation=10)\n",
        "        gpx.waypoints.append(gps_waypoint)\n",
        "        \n",
        "filename = \"GoogleEarth.gpx\"\n",
        "FILE = open(filename,\"w\")\n",
        "FILE.writelines(gpx.to_xml())\n",
        "FILE.close()"
      ]
    },
    {
      "cell_type": "markdown",
      "metadata": {
        "_cell_guid": "f0be28e7-c377-7154-52ff-356190b1423f"
      },
      "source": [
        "credits to this [kernel][1]\n",
        "\n",
        "On  Google Earth high level interest rental listing looks like this.\n",
        "![Listings][2]\n",
        "\n",
        "\n",
        "  [1]: https://www.kaggle.com/justindeed/two-sigma-connect-rental-listing-inquiries/google-earth-exploration/\n",
        "  [2]: http://i.imgur.com/9mXpYrL.jpg"
      ]
    },
    {
      "cell_type": "markdown",
      "metadata": {
        "_cell_guid": "fcc79ba1-fd5b-4021-0531-55b4fc65b4f8"
      },
      "source": [
        "**Wordcloud for text data**\n",
        "---------------------------"
      ]
    },
    {
      "cell_type": "code",
      "execution_count": null,
      "metadata": {
        "_cell_guid": "7652aa47-d107-9403-5c8a-dfae9c214eed"
      },
      "outputs": [],
      "source": [
        "#Preprocessing\n",
        "from wordcloud import WordCloud\n",
        "text = ''\n",
        "text_dispadd = ''\n",
        "text_street = ''\n",
        "text_desc =''\n",
        "for ind, row in train.iterrows():\n",
        "    for feature in row['features']:\n",
        "        text = \" \".join([text, \"_\".join(feature.strip().split(\" \"))])\n",
        "    text_dispadd = \" \".join([text_dispadd,\"_\".join(row['display_address'].strip().split(\" \"))])\n",
        "    text_street = \" \".join([text_street, row['street_address']])\n",
        "    text_desc=\" \".join([text_desc, row['description']])\n",
        "text = text.strip()\n",
        "text_dispadd = text_dispadd.strip()\n",
        "text_street = text_street.strip()\n",
        "text_desc = text_desc.strip()"
      ]
    },
    {
      "cell_type": "markdown",
      "metadata": {
        "_cell_guid": "059d74f5-e293-57d5-a245-0286e42a6c03"
      },
      "source": [
        "**Display Address**\n",
        "-------------------"
      ]
    },
    {
      "cell_type": "code",
      "execution_count": null,
      "metadata": {
        "_cell_guid": "6c926bfe-0820-87ad-856d-13875d2a9480"
      },
      "outputs": [],
      "source": [
        "import random\n",
        "\n",
        "def grey_color_func(word, font_size, position, orientation, random_state=None, **kwargs):\n",
        "    return \"hsl(0, 0%%, %d%%)\" % random.randint(60, 100)\n",
        "\n",
        "\n",
        "# wordcloud for display address\n",
        "plt.figure(figsize=(12,6))\n",
        "wc = WordCloud(background_color='gold', width=600, height=300,\n",
        "                      max_font_size=50, max_words=40).generate(text_dispadd)\n",
        "plt.imshow(wc.recolor(color_func=grey_color_func, random_state=3))\n",
        "#plt.imshow(wc)\n",
        "plt.title(\"Display Address\", fontsize=20)\n",
        "plt.axis(\"off\")\n",
        "plt.show();"
      ]
    },
    {
      "cell_type": "markdown",
      "metadata": {
        "_cell_guid": "1b9024ab-c71c-33a1-7393-e6627450a8cb"
      },
      "source": [
        "**Features**\n",
        "------------"
      ]
    },
    {
      "cell_type": "code",
      "execution_count": null,
      "metadata": {
        "_cell_guid": "d83dc959-cbae-e9cd-c1fa-de91056af978"
      },
      "outputs": [],
      "source": [
        "plt.figure(figsize=(12,6))\n",
        "wordcloud = WordCloud(background_color='white', width=600, height=300,\n",
        "                      max_font_size=50, max_words=40).generate(text)\n",
        "wordcloud.recolor(random_state=0)\n",
        "plt.imshow(wordcloud)\n",
        "plt.title(\"Features\", fontsize=20)\n",
        "plt.axis(\"off\")\n",
        "plt.show()"
      ]
    },
    {
      "cell_type": "markdown",
      "metadata": {
        "_cell_guid": "30c1aab3-fd75-518d-1558-8e1869e308df"
      },
      "source": [
        "**Street Address**\n",
        "------------------"
      ]
    },
    {
      "cell_type": "code",
      "execution_count": null,
      "metadata": {
        "_cell_guid": "0abd4dc4-e282-a0a7-2b21-02711fcd44c9"
      },
      "outputs": [],
      "source": [
        "def green_color_func(word, font_size, position, orientation, random_state=None, **kwargs):\n",
        "    return \"hsl(165, 90%%, %d%%)\" % random.randint(39, 145)\n",
        "\n",
        "\n",
        "# wordcloud for street address\n",
        "plt.figure(figsize=(12,6))\n",
        "wordcloud = WordCloud(background_color='seagreen', width=600, height=300,\n",
        "                      max_font_size=50, max_words=40).generate(text_street)\n",
        "wordcloud.recolor(color_func=green_color_func, random_state=8)\n",
        "plt.imshow(wordcloud)\n",
        "plt.title(\"Street Address\", fontsize=20)\n",
        "plt.axis(\"off\")\n",
        "plt.show()"
      ]
    },
    {
      "cell_type": "markdown",
      "metadata": {
        "_cell_guid": "0f35b872-10cd-cc72-82fb-e0da243b6374"
      },
      "source": [
        "**Description**\n",
        "==============="
      ]
    },
    {
      "cell_type": "code",
      "execution_count": null,
      "metadata": {
        "_cell_guid": "10e566e8-dc06-4ba2-3799-c3aab492a49f"
      },
      "outputs": [],
      "source": [
        "plt.figure(figsize=(12,6))\n",
        "wordcloud = WordCloud(background_color='black', width=600, height=300,\n",
        "                      max_font_size=50, max_words=40).generate(text_desc)\n",
        "wordcloud.recolor(random_state=0)\n",
        "plt.imshow(wordcloud)\n",
        "plt.title(\"Description\", fontsize=20)\n",
        "plt.axis(\"off\")\n",
        "plt.show()"
      ]
    },
    {
      "cell_type": "markdown",
      "metadata": {
        "_cell_guid": "f4900416-eaf3-8960-bdca-11965ca0c96d"
      },
      "source": [
        "*Interest Level*\n",
        "----------------"
      ]
    },
    {
      "cell_type": "code",
      "execution_count": null,
      "metadata": {
        "_cell_guid": "8cb9fcff-252e-fe00-fa1d-b1cca2a04d89"
      },
      "outputs": [],
      "source": [
        "#target variable\n",
        "labels = [\"low\",\"medium\",\"high\"]\n",
        "sizes = train.interest_level.value_counts().values\n",
        "explode=[0.1,0,0]\n",
        "colors = [  'lightcoral','gold','lightblue']\n",
        "patches, texts,autotexts= plt.pie(sizes, labels=labels,colors=colors,explode=explode,autopct=\"%1.1f%%\",\n",
        "                        startangle=90)\n",
        "plt.title(\"Interest Level\")\n",
        "plt.show()"
      ]
    },
    {
      "cell_type": "markdown",
      "metadata": {
        "_cell_guid": "4d15595a-ded1-cd21-1380-4f7921631a8e"
      },
      "source": [
        "Very few listings are with high interest."
      ]
    },
    {
      "cell_type": "markdown",
      "metadata": {
        "_cell_guid": "0005000b-290a-9821-b147-1a04141d2a88"
      },
      "source": [
        "*Price*\n",
        "-------"
      ]
    },
    {
      "cell_type": "code",
      "execution_count": null,
      "metadata": {
        "_cell_guid": "637e676c-d721-56d2-317f-00c74980a1e6"
      },
      "outputs": [],
      "source": [
        "plt.figure(figsize=(8, 10))\n",
        "plt.scatter(range(train.shape[0]), train[\"price\"].values,color='purple')\n",
        "plt.title(\"Distribution of Price\");"
      ]
    },
    {
      "cell_type": "markdown",
      "metadata": {
        "_cell_guid": "1f9cea77-47d4-a973-1284-73089cbc23c0"
      },
      "source": [
        "Looks like there are some outliers in price, column ,lets remove them first."
      ]
    },
    {
      "cell_type": "code",
      "execution_count": null,
      "metadata": {
        "_cell_guid": "5a8a37b5-825e-63bf-e9e9-90369dc9487a"
      },
      "outputs": [],
      "source": [
        "ulimit = np.percentile(train.price.values, 99)\n",
        "train['price'].ix[train['price']>ulimit] = ulimit\n",
        "\n",
        "\n",
        "plt.figure(figsize=(8, 10))\n",
        "plt.scatter(range(train.shape[0]), train[\"price\"].values,color='purple')\n",
        "plt.ylabel(\"Price\")\n",
        "plt.title(\"Distribution of Price\");"
      ]
    },
    {
      "cell_type": "code",
      "execution_count": null,
      "metadata": {
        "_cell_guid": "1d8a5383-6b63-a21b-3322-789f898ee399"
      },
      "outputs": [],
      "source": [
        "order = ['low', 'medium', 'high']\n",
        "sns.stripplot(train[\"interest_level\"],train[\"price\"],jitter=True,order=order)\n",
        "plt.title(\"Price Vs Interest_level\");"
      ]
    },
    {
      "cell_type": "markdown",
      "metadata": {
        "_cell_guid": "fb78522f-a847-c22e-2de0-d69a36a3c9ac"
      },
      "source": [
        "*Number of BedRooms*\n",
        "--------------------"
      ]
    },
    {
      "cell_type": "code",
      "execution_count": null,
      "metadata": {
        "_cell_guid": "c8548f7b-fcbb-266b-c105-da551cde84cb"
      },
      "outputs": [],
      "source": [
        "train[\"bedrooms\"].value_counts().plot(kind='bar',colors='gold')\n",
        "plt.ylabel(\"Number of Occurences\")\n",
        "plt.xlabel(\"Number of Bedrooms\");"
      ]
    },
    {
      "cell_type": "code",
      "execution_count": null,
      "metadata": {
        "_cell_guid": "ea140e76-bb9d-df78-c779-8dd693823c39"
      },
      "outputs": [],
      "source": [
        "sns.stripplot(y=\"bedrooms\", x=\"interest_level\",data=train,jitter=True,order=order);"
      ]
    },
    {
      "cell_type": "code",
      "execution_count": null,
      "metadata": {
        "_cell_guid": "2af74799-9454-3e47-0d0d-424fa983be25"
      },
      "outputs": [],
      "source": [
        "sns.stripplot(x=\"bedrooms\", y=\"price\",data=train,jitter=True);"
      ]
    },
    {
      "cell_type": "markdown",
      "metadata": {
        "_cell_guid": "8072d9e2-2709-1cb2-5e50-f18f85978aac"
      },
      "source": [
        "*Number of BathRooms*\n",
        "---------------------"
      ]
    },
    {
      "cell_type": "code",
      "execution_count": null,
      "metadata": {
        "_cell_guid": "840c3027-cf1c-c7a7-979d-cf4cabd0584f"
      },
      "outputs": [],
      "source": [
        "sns.stripplot(x=\"bathrooms\", y=\"price\"\n",
        "              ,data=train, alpha=.5,jitter=True);"
      ]
    },
    {
      "cell_type": "code",
      "execution_count": null,
      "metadata": {
        "_cell_guid": "344c5e05-6419-2426-2131-f377bcd09f2b"
      },
      "outputs": [],
      "source": [
        "sns.stripplot(y=\"bathrooms\", x=\"interest_level\",data=train,jitter=True,order=order);"
      ]
    },
    {
      "cell_type": "markdown",
      "metadata": {
        "_cell_guid": "e0e60f3e-af3b-9b6d-b6dc-884d022d326f"
      },
      "source": [
        "There is 1 house listing with 10 bathrooms. I think we can treat that as outlier. \n",
        "Lets remove it and plot again."
      ]
    },
    {
      "cell_type": "code",
      "execution_count": null,
      "metadata": {
        "_cell_guid": "53c6e6a4-7a3b-d93a-35ad-95b76b64e1a3"
      },
      "outputs": [],
      "source": [
        "ulimit = np.percentile(train.bathrooms.values, 99)\n",
        "train['bathrooms'].ix[train['bathrooms']>ulimit] = ulimit"
      ]
    },
    {
      "cell_type": "code",
      "execution_count": null,
      "metadata": {
        "_cell_guid": "47139c61-60f6-1ebe-2fda-53efce708008"
      },
      "outputs": [],
      "source": [
        "\n",
        "sns.stripplot(y=\"bathrooms\", x=\"interest_level\",data=train,jitter=True,order=order);"
      ]
    },
    {
      "cell_type": "markdown",
      "metadata": {
        "_cell_guid": "00ddcb48-3d01-2585-d552-fe1e9752d068"
      },
      "source": [
        "**Listing Id**\n",
        "=============="
      ]
    },
    {
      "cell_type": "code",
      "execution_count": null,
      "metadata": {
        "_cell_guid": "ee907847-6f80-74bc-de41-c6f1ef798288"
      },
      "outputs": [],
      "source": [
        "sns.stripplot(train[\"interest_level\"],train[\"listing_id\"],jitter=True,order=order)\n",
        "plt.title(\"Price Vs Interest_level\");"
      ]
    },
    {
      "cell_type": "markdown",
      "metadata": {
        "_cell_guid": "7a512b7b-85e0-e8fa-ce15-bd0f1a4f34c0"
      },
      "source": [
        "Above certain value of listing ID interest is extremely low. Borrowed from this [kernel][1]\n",
        "\n",
        "\n",
        "  [1]: https://www.kaggle.com/zeroblue/two-sigma-connect-rental-listing-inquiries/visualizing-listing-id-vs-interest-level"
      ]
    },
    {
      "cell_type": "markdown",
      "metadata": {
        "_cell_guid": "6ef56829-e420-a4bf-ab2c-feb20b37c818"
      },
      "source": [
        "**Feature engineering**\n",
        "======================="
      ]
    },
    {
      "cell_type": "markdown",
      "metadata": {
        "_cell_guid": "ad826bc5-6d14-b407-da0a-a5ffd5287029"
      },
      "source": [
        "**Aggregate on Text data**\n",
        "--------------------------"
      ]
    },
    {
      "cell_type": "code",
      "execution_count": null,
      "metadata": {
        "_cell_guid": "34d7157d-ac6b-6ae5-1d18-c8d2ee46a3d8"
      },
      "outputs": [],
      "source": [
        "train['num_photos'] = train['photos'].apply(len)\n",
        "train['num_features'] = train['features'].apply(len)\n",
        "train['num_description_words'] = train['description'].apply(lambda x: len(x.split(' ')))\n",
        "train['num_description_len'] = train['description'].apply(len)"
      ]
    },
    {
      "cell_type": "markdown",
      "metadata": {
        "_cell_guid": "a0cf2af9-5328-5255-9f12-68d9f930cbf2"
      },
      "source": [
        "**Breaking created date column**\n",
        "--------------------------------"
      ]
    },
    {
      "cell_type": "code",
      "execution_count": null,
      "metadata": {
        "_cell_guid": "9e45859a-2ef9-695b-d7ba-32f2c6e98394"
      },
      "outputs": [],
      "source": [
        "train['created'] = pd.to_datetime(train['created'])\n",
        "train['date'] = train['created'].dt.date\n",
        "train[\"year\"] = train[\"created\"].dt.year\n",
        "train['month'] = train['created'].dt.month\n",
        "train['day'] = train['created'].dt.day\n",
        "train['hour'] = train['created'].dt.hour\n",
        "train['weekday'] = train['created'].dt.weekday\n",
        "train['week'] = train['created'].dt.week\n",
        "train['quarter'] = train['created'].dt.quarter\n",
        "train['weekend'] = ((train['weekday'] == 5) & (train['weekday'] == 6))\n",
        "train['wd'] = ((train['weekday'] != 5) & (train['weekday'] != 6))"
      ]
    },
    {
      "cell_type": "markdown",
      "metadata": {
        "_cell_guid": "928cf9de-f7f3-3834-3afa-c866875e79bc"
      },
      "source": [
        "**Dates**\n",
        "-------"
      ]
    },
    {
      "cell_type": "code",
      "execution_count": null,
      "metadata": {
        "_cell_guid": "8e381c2e-a44b-957c-ab16-5ff5a70464a9"
      },
      "outputs": [],
      "source": [
        "cnt_srs = train['date'].value_counts()\n",
        "\n",
        "plt.figure(figsize=(12,4))\n",
        "ax = plt.subplot(111)\n",
        "ax.bar(cnt_srs.index, cnt_srs.values, color='seagreen')\n",
        "ax.xaxis_date()\n",
        "plt.xticks(rotation='vertical')\n",
        "plt.show()"
      ]
    },
    {
      "cell_type": "markdown",
      "metadata": {
        "_cell_guid": "898cd1a0-ecc3-367e-e3be-f90549468604"
      },
      "source": [
        "All listings have been created in April to July 2016 period in our data."
      ]
    },
    {
      "cell_type": "markdown",
      "metadata": {
        "_cell_guid": "4fddd473-2c21-d1e8-beaf-8377627bd75f"
      },
      "source": [
        "**Hour**\n",
        "------"
      ]
    },
    {
      "cell_type": "code",
      "execution_count": null,
      "metadata": {
        "_cell_guid": "3b372433-bf78-ceef-c1b1-5508209c9de5"
      },
      "outputs": [],
      "source": [
        "hourDF = train.groupby(['hour', 'interest_level'])['hour'].count().unstack('interest_level').fillna(0)\n",
        "hourDF[['low','medium',\"high\"]].plot(kind='bar', stacked=True);"
      ]
    },
    {
      "cell_type": "markdown",
      "metadata": {
        "_cell_guid": "2968c1c5-9072-d958-1885-9653453ff7c9"
      },
      "source": [
        "**Month**\n",
        "-------"
      ]
    },
    {
      "cell_type": "code",
      "execution_count": null,
      "metadata": {
        "_cell_guid": "887d3e9b-9e69-df01-9a20-36e36ab3cbcf"
      },
      "outputs": [],
      "source": [
        "monthDF = train.groupby(['month', 'interest_level'])['month'].count().unstack('interest_level').fillna(0)\n",
        "monthDF[['low','medium',\"high\"]].plot(kind='bar', stacked=True);"
      ]
    },
    {
      "cell_type": "markdown",
      "metadata": {
        "_cell_guid": "6f364d35-ed0b-6eb6-262a-876c344f3308"
      },
      "source": [
        "**Photos**\n",
        "--------"
      ]
    },
    {
      "cell_type": "code",
      "execution_count": null,
      "metadata": {
        "_cell_guid": "90d91523-4e12-6729-7a71-324edebe8e2b"
      },
      "outputs": [],
      "source": [
        "train.num_photos.value_counts().plot(kind='bar',color='purple')"
      ]
    },
    {
      "cell_type": "code",
      "execution_count": null,
      "metadata": {
        "_cell_guid": "bdf2eca1-1328-e798-e89c-9d3c014a37e1"
      },
      "outputs": [],
      "source": [
        "train['num_photos'].ix[train['num_photos']>15] = 15\n",
        "sns.stripplot(y=\"num_photos\", x=\"interest_level\",data=train,jitter=True,order=order);"
      ]
    },
    {
      "cell_type": "markdown",
      "metadata": {
        "_cell_guid": "0e4ed97c-a016-7ca3-fe93-3f05ba808777"
      },
      "source": [
        "Data is evenly distributed across interest levels"
      ]
    },
    {
      "cell_type": "markdown",
      "metadata": {
        "_cell_guid": "8746fc39-9232-2602-d504-6818a7fa7732"
      },
      "source": [
        "*Features*\n",
        "----------"
      ]
    },
    {
      "cell_type": "code",
      "execution_count": null,
      "metadata": {
        "_cell_guid": "c44cc019-dea6-127e-7ada-c2b4ea5b1b92"
      },
      "outputs": [],
      "source": [
        "train.num_features.value_counts().plot(kind='bar',color='orange')\n",
        "plt.xlabel(\"Number of features\")"
      ]
    },
    {
      "cell_type": "code",
      "execution_count": null,
      "metadata": {
        "_cell_guid": "406c779f-7eb1-0d08-69c8-e7d8274987c6"
      },
      "outputs": [],
      "source": [
        "train['num_features'].ix[train['num_features'] > 16] = 16\n",
        "sns.stripplot(x=\"num_features\", y=\"interest_level\",data=train,jitter=True,order=order);"
      ]
    },
    {
      "cell_type": "markdown",
      "metadata": {
        "_cell_guid": "1d278ae2-b3b5-2735-4113-9df29217f64b"
      },
      "source": [
        "Data is evenly distributed across all levels"
      ]
    },
    {
      "cell_type": "markdown",
      "metadata": {
        "_cell_guid": "3815a307-4459-38a4-2b20-a91bfe00dcaf"
      },
      "source": [
        "**High profile Managers**\n",
        "--------------------\n",
        "\n",
        "In this I have tried to find top managers with more than 80 listings altogether with low,medium or high interest levels and more than 30 listings with high interest levels."
      ]
    },
    {
      "cell_type": "code",
      "execution_count": null,
      "metadata": {
        "_cell_guid": "3c92ba01-7ff3-467f-0d50-c1babc5541cc"
      },
      "outputs": [],
      "source": [
        "managerDF = train.groupby(['manager_id', 'interest_level'])['manager_id'].count().unstack('interest_level').fillna(0)\n",
        "managerDF[\"sum\"]=managerDF.sum(axis=1)\n",
        "x=managerDF[ (managerDF['sum'] > 80) & (managerDF['high'] > 30)]\n",
        "managerDF.head()\n",
        "x.sort_values(\"sum\",inplace=True)\n",
        "plt.title(\"High Profile Managers\")\n",
        "plt.xlabel(\"High Interest level\")\n",
        "plt.ylabel(\"Manager ID\")\n",
        "x = x[x.index != 'e6472c7237327dd3903b3d6f6a94515a']\n",
        "x[\"sum\"].plot(kind='barh',color=\"brown\");"
      ]
    },
    {
      "cell_type": "markdown",
      "metadata": {
        "_cell_guid": "98fb23f7-4b7f-3b58-f152-cfcff826acf6"
      },
      "source": [
        "**High profile Buildings**\n",
        "=====================\n",
        "\n",
        "In this I have tried to find top buildings with more than 60 listings altogether with low,medium or high interest levels and more than 15 listings with high interest levels."
      ]
    },
    {
      "cell_type": "code",
      "execution_count": null,
      "metadata": {
        "_cell_guid": "23748845-edad-3143-a232-7ca4c356a3b6"
      },
      "outputs": [],
      "source": [
        "buildingDF = train.groupby(['building_id', 'interest_level'])['building_id'].count().unstack('interest_level').fillna(0)\n",
        "buildingDF[\"sum\"]=buildingDF.sum(axis=1)\n",
        "x=buildingDF[ (buildingDF['sum'] > 60) & (buildingDF['high'] > 15)]\n",
        "buildingDF.head()\n",
        "#removing the outlier\n",
        "x = x[x.index != '0']\n",
        "x.sort_values(\"sum\",inplace=True)\n",
        "plt.title(\"High Profile Buildings\")\n",
        "plt.xlabel(\"High Interest level\")\n",
        "plt.ylabel(\"Building ID\")\n",
        "x[\"sum\"].plot(kind='barh',color=\"orange\");"
      ]
    },
    {
      "cell_type": "markdown",
      "metadata": {
        "_cell_guid": "1ad62d51-2520-37ca-95d9-68792fd7fc0c"
      },
      "source": [
        "**BedRooms , Bathrooms, Features , Price and Interest level all together**\n",
        "-----------------------------------------------------------------------"
      ]
    },
    {
      "cell_type": "code",
      "execution_count": null,
      "metadata": {
        "_cell_guid": "bb773fc8-0b00-6539-2c83-c505ccd63bd6"
      },
      "outputs": [],
      "source": [
        "hover_text = []\n",
        "bubble_size = []\n",
        "slope = 2.8\n",
        "for index, row in train.iterrows():\n",
        "    hover_text.append(('Interest: {interest}<br>'+\n",
        "                      'Bedrooms: {bedrooms}<br>'+\n",
        "                      'Price: {price}<br>'+\n",
        "                      'Bathrooms: {bathrooms}<br>'+\n",
        "                      'Year: {year}').format(interest=row['interest_level'],\n",
        "                                            bedrooms=row['bedrooms'],\n",
        "                                            price=row['price'],\n",
        "                                            bathrooms=row['bathrooms'],\n",
        "                                            year=row['created']))\n",
        "    bubble_size.append(len(row['features'])*slope)\n",
        "\n",
        "train['text'] = hover_text\n",
        "train['bubble_size'] = bubble_size"
      ]
    },
    {
      "cell_type": "code",
      "execution_count": null,
      "metadata": {
        "_cell_guid": "568b249a-1e3e-217f-9c38-4f36e18a12cc"
      },
      "outputs": [],
      "source": [
        "trace0 = go.Scatter(\n",
        "    y=train['bedrooms'][train['interest_level'] == 'low'],\n",
        "    x=train['price'][train['interest_level'] == 'low'],\n",
        "    mode='markers',\n",
        "    name='low',\n",
        "    text=train['text'][train['interest_level'] == 'low'],\n",
        "    marker=dict(\n",
        "        sizemode='diameter',\n",
        "        sizeref=0.85,\n",
        "        size=train['bubble_size'][train['interest_level'] == 'low'],\n",
        "        line=dict(\n",
        "            width=2\n",
        "        ),\n",
        "    )\n",
        ")\n",
        "\n",
        "trace1 = go.Scatter(\n",
        "    y=train['bedrooms'][train['interest_level'] == 'medium'],\n",
        "    x=train['price'][train['interest_level'] == 'medium'],\n",
        "    mode='markers',\n",
        "    name='medium',\n",
        "    text=train['text'][train['interest_level'] == 'medium'],\n",
        "   marker=dict(\n",
        "        sizemode='diameter',\n",
        "        sizeref=0.85,\n",
        "        size=train['bubble_size'][train['interest_level'] == 'medium'],\n",
        "        line=dict(\n",
        "            width=2\n",
        "        ),\n",
        "    )\n",
        ")\n",
        "\n",
        "trace2 = go.Scatter(\n",
        "    y=train['bedrooms'][train['interest_level'] == 'high'],\n",
        "    x=train['price'][train['interest_level'] == 'high'],\n",
        "    mode='markers',\n",
        "    name='high',\n",
        "    text=train['text'][train['interest_level'] == 'high'],\n",
        "    marker=dict(\n",
        "        sizemode='diameter',\n",
        "        sizeref=0.85,\n",
        "        size=train['bubble_size'][train['interest_level'] == 'high'],\n",
        "        line=dict(\n",
        "            width=2\n",
        "        ),\n",
        "    )\n",
        ")\n",
        "\n",
        "data = [trace0,trace1,trace2]\n",
        "\n",
        "layout = go.Layout(\n",
        "    title='Number of Bedrooms vs Price',\n",
        "    xaxis=dict(\n",
        "        title='Price (in dollars)',\n",
        "        gridcolor='rgb(255, 255, 255)',\n",
        "        range=[2.003297660701705, 5.191505530708712],\n",
        "        type='log',\n",
        "        zerolinewidth=1,\n",
        "        ticklen=5,\n",
        "        gridwidth=2,\n",
        "    ),\n",
        "    yaxis=dict(\n",
        "        title='Number of Bedrooms',\n",
        "        gridcolor='rgb(255, 255, 255)',\n",
        "        range=[0.12621671352166, 8.72921793264332],\n",
        "        zerolinewidth=1,\n",
        "        ticklen=5,\n",
        "        gridwidth=2,\n",
        "    ),\n",
        "    paper_bgcolor='rgb(243, 243, 243)',\n",
        "    plot_bgcolor='rgb(243, 243, 243)',\n",
        ")\n",
        "\n",
        "\n",
        "fig = dict(data=data, layout=layout)\n",
        "iplot(fig, filename='bubblechart-color')"
      ]
    },
    {
      "cell_type": "markdown",
      "metadata": {
        "_cell_guid": "4b6fd1c8-99a8-68bd-71e3-b86fdc3b26d4"
      },
      "source": [
        "More to come. Please upvote if you find it useful."
      ]
    }
  ],
  "metadata": {
    "_change_revision": 0,
    "_is_fork": false,
    "kernelspec": {
      "display_name": "Python 3",
      "language": "python",
      "name": "python3"
    },
    "language_info": {
      "codemirror_mode": {
        "name": "ipython",
        "version": 3
      },
      "file_extension": ".py",
      "mimetype": "text/x-python",
      "name": "python",
      "nbconvert_exporter": "python",
      "pygments_lexer": "ipython3",
      "version": "3.6.0"
    }
  },
  "nbformat": 4,
  "nbformat_minor": 0
}