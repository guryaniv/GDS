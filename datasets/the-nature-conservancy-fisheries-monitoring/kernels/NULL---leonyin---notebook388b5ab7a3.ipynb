{
  "metadata": {
    "kernelspec": {
      "display_name": "Python 3",
      "language": "python",
      "name": "python3"
    },
    "language_info": {
      "codemirror_mode": {
        "name": "ipython",
        "version": 3
      },
      "file_extension": ".py",
      "mimetype": "text/x-python",
      "name": "python",
      "nbconvert_exporter": "python",
      "pygments_lexer": "ipython3",
      "version": "3.5.2"
    }
  },
  "nbformat": 4,
  "nbformat_minor": 0,
  "cells": [
    {
      "metadata": {
        "_cell_guid": "6581cf21-0822-be56-b82c-fa42f5db7593",
        "_active": false,
        "collapsed": false
      },
      "source": "# Feature Engineering images for a neural network",
      "execution_count": null,
      "cell_type": "markdown",
      "outputs": [],
      "execution_state": "idle"
    },
    {
      "metadata": {
        "_cell_guid": "4f09220e-9968-c640-e862-c3224eccd0d6",
        "_active": false,
        "collapsed": false
      },
      "source": "import glob\n\nimport pandas as pd",
      "execution_count": null,
      "cell_type": "code",
      "outputs": [],
      "execution_state": "idle"
    },
    {
      "metadata": {
        "_cell_guid": "16422a20-4e7b-4301-e183-4d2d89c8c046",
        "_active": false,
        "collapsed": false
      },
      "source": "Reading the images and target classes into Pandas dataframes.",
      "execution_count": null,
      "cell_type": "markdown",
      "outputs": [],
      "execution_state": "idle"
    },
    {
      "metadata": {
        "_cell_guid": "0dac06f3-56ad-7d53-9521-0c240974e5c9",
        "_active": false,
        "collapsed": false
      },
      "source": "categories = [cat.split('/')[-1] for cat in glob.glob('../input/train/*')]",
      "execution_count": null,
      "cell_type": "code",
      "outputs": [],
      "execution_state": "idle"
    },
    {
      "metadata": {
        "_cell_guid": "f5198679-53a7-b6e3-9389-67c1a68f11f9",
        "_active": false,
        "collapsed": false
      },
      "source": "categories",
      "execution_count": null,
      "cell_type": "code",
      "outputs": [],
      "execution_state": "idle"
    },
    {
      "metadata": {
        "_cell_guid": "49bf627c-8310-4b59-b801-42857c9ea07f",
        "_active": false,
        "collapsed": false
      },
      "source": "df = pd.DataFrame()",
      "execution_count": null,
      "cell_type": "code",
      "outputs": [],
      "execution_state": "idle"
    },
    {
      "metadata": {
        "_cell_guid": "d1e24b9c-2ea8-cd7f-f15a-b20b403a1677",
        "_active": false,
        "collapsed": false
      },
      "source": "for cat in categories:\n    cat_pat = '../input/train/{}/*'.format(cat)\n    files_cat = glob.glob(cat_pat)\n    \n    cat_df =  pd.DataFrame([{'label': cat, 'feature': file} for file in files_cat])\n    \n    df = df.append(cat_df)",
      "execution_count": null,
      "cell_type": "code",
      "outputs": [],
      "execution_state": "idle"
    },
    {
      "metadata": {
        "_cell_guid": "0a2d11e9-cdbb-4194-145a-0055ddebf146",
        "_active": false,
        "collapsed": false
      },
      "source": "df['label'].value_counts()",
      "execution_count": null,
      "cell_type": "code",
      "outputs": [],
      "execution_state": "idle"
    },
    {
      "metadata": {
        "_cell_guid": "77e00a5b-67f5-bc1f-be60-1fb0f8c12b32",
        "_active": false,
        "collapsed": false
      },
      "source": "df[df['feature'].str.contains('png')]",
      "execution_count": null,
      "cell_type": "code",
      "outputs": [],
      "execution_state": "idle"
    },
    {
      "metadata": {
        "_cell_guid": "7db0ba88-6ddc-64b3-f37a-9b77c99bb3e0",
        "_active": true,
        "collapsed": false
      },
      "source": "df[df['feature'].str.contains('jpg')]",
      "execution_count": null,
      "cell_type": "code",
      "outputs": [],
      "execution_state": "idle"
    },
    {
      "metadata": {
        "_cell_guid": "704bd807-ad56-3f22-717f-d5b6ee32f4c3",
        "_active": false,
        "collapsed": false
      },
      "source": "Splitting the data into a training and test set.",
      "execution_count": null,
      "cell_type": "markdown",
      "outputs": [],
      "execution_state": "idle"
    },
    {
      "metadata": {
        "_cell_guid": "3ae9021d-e077-c3a8-5ff3-8d6c9aac47d0",
        "_active": false,
        "collapsed": false
      },
      "source": "from sklearn.model_selection import train_test_split",
      "execution_count": null,
      "cell_type": "code",
      "outputs": [],
      "execution_state": "idle"
    },
    {
      "metadata": {
        "_cell_guid": "72c8f026-71e4-2eba-280a-7a9253665ee5",
        "_active": false,
        "collapsed": false
      },
      "source": "X_train, X_test, y_train, y_test= pd.Series(), pd.Series(), pd.Series(), pd.Series()",
      "execution_count": null,
      "cell_type": "code",
      "outputs": [],
      "execution_state": "idle"
    },
    {
      "metadata": {
        "_cell_guid": "c8384de2-0d26-c7de-606a-147fcc18a61c",
        "_active": false,
        "collapsed": false
      },
      "source": "for cat in categories:\n    # split each catagory into proportional training and test sizes.\n    temp_df = df[df['label'] == cat]\n    X, y = temp_df['feature'], temp_df['label']\n    \n    X_train_t, X_test_t, y_train_t, y_test_t = train_test_split(X, y, \n                                                                random_state=42, \n                                                                test_size=0.2)\n    \n    X_train = X_train.append(X_train_t)\n    X_test = X_test.append(X_test_t)\n    y_train = y_train.append(y_train_t)\n    y_test = y_test.append(y_test_t)",
      "execution_count": null,
      "cell_type": "code",
      "outputs": [],
      "execution_state": "idle"
    },
    {
      "metadata": {
        "_cell_guid": "913c1e9c-fdf5-7fc7-f7d0-7de9e3726d3e",
        "_active": false,
        "collapsed": false
      },
      "source": "len(y_test)",
      "execution_count": null,
      "cell_type": "code",
      "outputs": [],
      "execution_state": "idle"
    },
    {
      "metadata": {
        "_cell_guid": "9572ae24-8058-a0ca-b69d-c2f3d12540f0",
        "_active": false,
        "collapsed": false
      },
      "source": "len(X_train)",
      "execution_count": null,
      "cell_type": "code",
      "outputs": [],
      "execution_state": "idle"
    },
    {
      "metadata": {
        "_cell_guid": "91d4c4cb-f877-98bb-8b96-05441ac7d6bc",
        "_active": false,
        "collapsed": false
      },
      "source": "from sklearn.neural_network import MLPClassifier\n\n clf = MLPClassifier(solver='lbfgs', alpha=1e-5,\n                     hidden_layer_sizes=(5, 2), random_state=1)",
      "execution_count": null,
      "cell_type": "code",
      "outputs": [],
      "execution_state": "idle"
    }
  ]
}