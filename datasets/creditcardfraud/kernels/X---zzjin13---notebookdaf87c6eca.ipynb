{
  "cells": [
    {
      "cell_type": "code",
      "execution_count": null,
      "metadata": {
        "_cell_guid": "b045ce66-bc66-8ddf-6f51-26407d8d2161"
      },
      "outputs": [],
      "source": [
        "# This Python 3 environment comes with many helpful analytics libraries installed\n",
        "# It is defined by the kaggle/python docker image: https://github.com/kaggle/docker-python\n",
        "# For example, here's several helpful packages to load in \n",
        "\n",
        "import numpy as np # linear algebra\n",
        "import pandas as pd # data processing, CSV file I/O (e.g. pd.read_csv)\n",
        "\n",
        "# Input data files are available in the \"../input/\" directory.\n",
        "# For example, running this (by clicking run or pressing Shift+Enter) will list the files in the input directory\n",
        "\n",
        "from subprocess import check_output\n",
        "print(check_output([\"ls\", \"../input\"]).decode(\"utf8\"))\n",
        "\n",
        "# Any results you write to the current directory are saved as output."
      ]
    },
    {
      "cell_type": "code",
      "execution_count": null,
      "metadata": {
        "_cell_guid": "5a4c49e2-e057-3876-9a8a-73829891254d"
      },
      "outputs": [],
      "source": [
        "import sys\n",
        "\n",
        "sys.setdefaultencoding('utf-8')\n",
        "\n",
        "import matplotlib.pyplot as plt\n",
        "\n",
        "plt.rcParams['font.sans-serif']=['SimHei'] #\u7528\u6765\u6b63\u5e38\u663e\u793a\u4e2d\u6587\u6807\u7b7e\n",
        "plt.rcParams['axes.unicode_minus']=False #\u7528\u6765\u6b63\u5e38\u663e\u793a\u8d1f\u53f7\n"
      ]
    },
    {
      "cell_type": "code",
      "execution_count": null,
      "metadata": {
        "_cell_guid": "c0ab0469-c52c-71a4-eaf8-7d7095eac9da"
      },
      "outputs": [],
      "source": [
        "x=[0,1,2,3]\n",
        "y1=[0.645,0.677,0.676,0.674]\n",
        "y2=[0.307,0.311,0.311,0.399]\n",
        "y3=[0.222,0.2,0.216,0.24]\n",
        "y4=[0.634,0.631,0.627,0.682]\n",
        "y5=[0.588,0.576,0.593,0.621]\n",
        "y6=[0.656,0.689,0.682,0.742]\n",
        "plt.figure(figsize=(10, 6))\n",
        "plt.plot(x,y1,'',label=\"Timbre\")\n",
        "plt.plot(x,y2,'',label=\"Pitch\")\n",
        "plt.plot(x,y3,'',label=\"Beat\")\n",
        "plt.plot(x,y4,'',label=\"Acoustic\")\n",
        "plt.plot(x,y5,'',label=\"NN_PCA\")\n",
        "plt.plot(x,y6,'',label=\"Total\")\n",
        "plt.title('')\n",
        "plt.legend(loc='upper right')\n",
        "plt.xticks((0,1,2,3),('LR','SVM','NN','GBDT'))\n",
        "plt.xlabel('Classifier')\n",
        "plt.ylabel('Accuracy')\n",
        "plt.grid(x)\n",
        "plt.show()"
      ]
    },
    {
      "cell_type": "code",
      "execution_count": null,
      "metadata": {
        "_cell_guid": "bc5b30e6-1b79-ce98-7dc4-395bdb1dfd05"
      },
      "outputs": [],
      "source": [
        "x=[0,1,2,3,4,5]\n",
        "y1=[0.573,0.576,0.573,0.581,0.585,0.583]\n",
        "y2=[0.583,0.585,0.588,0.593,0.593,0.592]\n",
        "y3=[0.589,0.593,0.598,0.603,0.601,0.605]\n",
        "y4=[0.595,0.597,0.601,0.605,0.604,0.606]\n",
        "plt.figure(figsize=(10, 6))\n",
        "plt.plot(x,y1,'',label=\"n_filters=32\")\n",
        "plt.plot(x,y2,'',label=\"n_filters=64\")\n",
        "plt.plot(x,y3,'',label=\"n_filters=128\")\n",
        "plt.plot(x,y4,'',label=\"n_filters=256\")\n",
        "plt.title('')\n",
        "plt.legend(loc='upper right')\n",
        "plt.xticks((0,1,2,3,4,5),('5','7','9','11','13','15'))\n",
        "plt.xlabel('f_width')\n",
        "plt.ylabel('Accuracy')\n",
        "plt.grid(x)\n",
        "plt.show()"
      ]
    },
    {
      "cell_type": "code",
      "execution_count": null,
      "metadata": {
        "_cell_guid": "9eb4d4e4-b80f-6b27-d59f-320478619489"
      },
      "outputs": [],
      "source": [
        "x=[0,1,2,3,4]\n",
        "y3=[0.603,0.605,0.601,0.602,0.603]\n",
        "plt.figure(figsize=(10, 6))\n",
        "plt.plot(x,y3)\n",
        "plt.title('')\n",
        "plt.legend(loc='upper right')\n",
        "plt.xticks((0,1,2,3,4),('1','2','3','4','5'))\n",
        "plt.xlabel('f_length')\n",
        "plt.ylabel('Accuracy')\n",
        "plt.grid(x)\n",
        "plt.show()"
      ]
    }
  ],
  "metadata": {
    "_change_revision": 0,
    "_is_fork": false,
    "kernelspec": {
      "display_name": "Python 3",
      "language": "python",
      "name": "python3"
    },
    "language_info": {
      "codemirror_mode": {
        "name": "ipython",
        "version": 3
      },
      "file_extension": ".py",
      "mimetype": "text/x-python",
      "name": "python",
      "nbconvert_exporter": "python",
      "pygments_lexer": "ipython3",
      "version": "3.6.0"
    }
  },
  "nbformat": 4,
  "nbformat_minor": 0
}