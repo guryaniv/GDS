{
  "metadata": {
    "kernelspec": {
      "display_name": "Python 3",
      "language": "python",
      "name": "python3"
    },
    "language_info": {
      "codemirror_mode": {
        "name": "ipython",
        "version": 3
      },
      "file_extension": ".py",
      "mimetype": "text/x-python",
      "name": "python",
      "nbconvert_exporter": "python",
      "pygments_lexer": "ipython3",
      "version": "3.6.0"
    }
  },
  "nbformat": 4,
  "nbformat_minor": 0,
  "cells": [
    {
      "metadata": {
        "_cell_guid": "4a6387e7-aab5-e552-42e6-6f11f925a2a7",
        "_active": false,
        "collapsed": false
      },
      "source": "# This Python 3 environment comes with many helpful analytics libraries installed\n# It is defined by the kaggle/python docker image: https://github.com/kaggle/docker-python\n# For example, here's several helpful packages to load in \n\nimport numpy as np # linear algebra\nimport pandas as pd # data processing, CSV file I/O (e.g. pd.read_csv)\n\n# Input data files are available in the \"../input/\" directory.\n# For example, running this (by clicking run or pressing Shift+Enter) will list the files in the input directory\n\nfrom subprocess import check_output\nprint(check_output([\"ls\", \"../input\"]).decode(\"utf8\"))\n\n# Any results you write to the current directory are saved as output.",
      "execution_count": null,
      "cell_type": "code",
      "outputs": []
    },
    {
      "metadata": {
        "_cell_guid": "f8c79b18-9bd1-d4f5-bd8c-cd2f4e95160c",
        "_active": false,
        "collapsed": false
      },
      "source": "import numpy as np\nfrom PIL import Image\nimport os\ntraindir = \"../input/train/\"\npic_array = []\nfor filename in os.listdir(traindir):\n    pic_array.append(Image.open(traindir+filename))",
      "execution_count": 4,
      "cell_type": "code",
      "outputs": [],
      "execution_state": "idle"
    },
    {
      "metadata": {
        "_cell_guid": "8d1083b6-147f-ec4e-d56a-eb11e9fe6596",
        "_active": false,
        "collapsed": false
      },
      "source": "arr = np.array(pic_array[0])\nsize(arr)",
      "execution_count": 7,
      "cell_type": "code",
      "outputs": [],
      "execution_state": "idle"
    }
  ]
}