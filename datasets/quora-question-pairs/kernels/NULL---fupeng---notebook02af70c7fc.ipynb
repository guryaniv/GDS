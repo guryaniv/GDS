{
  "cells": [
    {
      "cell_type": "code",
      "execution_count": null,
      "metadata": {
        "_cell_guid": "eeadc370-cf64-7fd7-e1bb-afae909c6730"
      },
      "outputs": [],
      "source": [
        "import csv\n",
        "import pip\n",
        "from gensim import corpora, models, similarities\n",
        "import pandas as pd\n",
        "import numpy as np\n",
        "train_file = \"../input/train.csv\"\n",
        "df = pd.read_csv(train_file, index_col=\"id\")\n",
        "df"
      ]
    },
    {
      "cell_type": "code",
      "execution_count": null,
      "metadata": {
        "_cell_guid": "29b290d3-89d2-e082-55a0-ddd002a08bab"
      },
      "outputs": [],
      "source": [
        "from collections import defaultdict\n",
        "dup_dict = defaultdict(int) # {question: has_duplicate(0/1)}\n",
        "freq_dict = defaultdict(int) # {q: freq}\n",
        "id_dict = defaultdict(list) # {cat_id:[q1, q2, q3]} cat id auto_increase"
      ]
    },
    {
      "cell_type": "code",
      "execution_count": null,
      "metadata": {
        "_cell_guid": "5c392607-34ea-bef0-dfd7-7e4313807a4c"
      },
      "outputs": [],
      "source": [
        "records = df[['question1', 'question2', 'is_duplicate']].to_records(index=False)\n",
        "for record in records:\n",
        "    q1, q2, label = record\n",
        "    freq_dict[q1] += 1\n",
        "    freq_dict[q2] += 1\n",
        "    if label:\n",
        "        dup_dict[q1] = 1\n",
        "        dup_dict[q2] = 1"
      ]
    },
    {
      "cell_type": "code",
      "execution_count": null,
      "metadata": {
        "_cell_guid": "6916d63d-95c8-2d58-a0b1-b6c046ba2bac"
      },
      "outputs": [],
      "source": [
        "q_dict = defaultdict(int)  # {q: cat_id}\n",
        "cat = 0\n",
        "for record in records:\n",
        "    q1, q2, label = record\n",
        "    if q_dict[q1] and q_dict[q2]:\n",
        "        continue\n",
        "    elif q_dict[q1] or q_dict[q2]: # use q1 or q2 cat if one in (q1, q2) has cat, 0 or 5 == 5\n",
        "        _cat = q_dict[q1] or q_dict[q2]\n",
        "    elif not q_dict[q1] and not q_dict[q2]: # assign a new category\n",
        "        _cat = cat + 1\n",
        "        cat += 1\n",
        "    \n",
        "    if label:\n",
        "        q_dict[q1] = _cat\n",
        "        q_dict[q2] = _cat\n",
        "        id_dict[cat] += [q1, q2]\n",
        "    if not label:\n",
        "        if not q_dict[q1] and not dup_dict[q1]:\n",
        "            q_dict[q1] = _cat\n",
        "            id_dict[_cat].append(q1)\n",
        "        if not q_dict[q2] and not dup_dict[q2]:\n",
        "            q_dict[q2] = _cat\n",
        "            id_dict[_cat].append(q2)\n"
      ]
    },
    {
      "cell_type": "code",
      "execution_count": null,
      "metadata": {
        "_cell_guid": "da142a9b-8204-a3c9-6a38-76fa13532a2c"
      },
      "outputs": [],
      "source": [
        "index = 0\n",
        "for _id, _list in id_dict.items():\n",
        "    index += 1\n",
        "    if index > 300:\n",
        "        break\n",
        "    print(_id, '------------')\n",
        "    for q in set(_list):\n",
        "        print(q)"
      ]
    },
    {
      "cell_type": "code",
      "execution_count": null,
      "metadata": {
        "_cell_guid": "63797b19-fab2-9fd8-7a78-1ed7b882dc9f"
      },
      "outputs": [],
      "source": [
        "pos = train[train['is_duplicate']==1]\n",
        "for i in pos[:2000][['question1', 'question2']].iterrows():\n",
        "    _q1 =  i[1]['question1'].lower()[:-1]\n",
        "    _q2 = i[1]['question2'].lower()[:-1]\n",
        "    print(_q1)\n",
        "    print( _q2)\n",
        "    print(get_intersection(_q1, _q2))\n",
        "    print ('-------------')"
      ]
    },
    {
      "cell_type": "code",
      "execution_count": null,
      "metadata": {
        "_cell_guid": "20fd6a35-65f2-679e-4b7e-a740d9cf1bb8"
      },
      "outputs": [],
      "source": [
        ""
      ]
    }
  ],
  "metadata": {
    "_change_revision": 0,
    "_is_fork": false,
    "kernelspec": {
      "display_name": "Python 3",
      "language": "python",
      "name": "python3"
    },
    "language_info": {
      "codemirror_mode": {
        "name": "ipython",
        "version": 3
      },
      "file_extension": ".py",
      "mimetype": "text/x-python",
      "name": "python",
      "nbconvert_exporter": "python",
      "pygments_lexer": "ipython3",
      "version": "3.6.0"
    }
  },
  "nbformat": 4,
  "nbformat_minor": 0
}