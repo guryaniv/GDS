{
  "cells": [
    {
      "cell_type": "markdown",
      "metadata": {
        "_cell_guid": "9d8cf7e3-724c-0ece-f6c5-1fa5aa0f3195"
      },
      "source": [
        "The goal to this notebook is to explore the theoretical limit of r2 for this competition.\n",
        "I have found cases with exactly the same features usually have different y values.\n",
        "This variance/system error will limit the theoretic performance of any method applied to this problem.\n",
        "\n",
        "The theoretical r2 is found to be ~ 0.76, by only considering this type of errors.\n",
        "r2 upper bound of this problem could be much smaller."
      ]
    },
    {
      "cell_type": "code",
      "execution_count": null,
      "metadata": {
        "_cell_guid": "7b6a2941-8b9b-c12b-8ece-99fe685d06a3"
      },
      "outputs": [],
      "source": [
        "import numpy as np\n",
        "import pandas as pd\n",
        "from sklearn.preprocessing import LabelEncoder"
      ]
    },
    {
      "cell_type": "code",
      "execution_count": null,
      "metadata": {
        "_cell_guid": "8b9ba1c4-6b73-ee26-0ec2-e1c30a535045"
      },
      "outputs": [],
      "source": [
        "train = pd.read_csv('../input/train.csv')\n",
        "# simply follow Fred's encode part\n",
        "for c in train.columns:\n",
        "    if train[c].dtype == \"object\":\n",
        "        lbl = LabelEncoder()\n",
        "        lbl.fit(list(train[c].values))\n",
        "        train[c] = lbl.transform(list(train[c].values))"
      ]
    },
    {
      "cell_type": "code",
      "execution_count": null,
      "metadata": {
        "_cell_guid": "19af662c-f073-e1da-bed4-a77a1db57327"
      },
      "outputs": [],
      "source": [
        "y_train = train.y\n",
        "y = y_train.as_matrix()\n",
        "train_ID = train.ID\n",
        "train = train.drop(['y','ID'],axis=1)"
      ]
    },
    {
      "cell_type": "code",
      "execution_count": null,
      "metadata": {
        "_cell_guid": "1eb9e13e-cad2-7c78-2158-be3fdb7febf7"
      },
      "outputs": [],
      "source": [
        "## Searching for cases with exactly the same features\n",
        "S = -np.ones((train.shape[0],train.shape[0]))\n",
        "for i in range(train.shape[0]):\n",
        "    temp = train.subtract(train.loc[i],axis=1).as_matrix()\n",
        "    S[:,i] = np.sum(np.abs(temp),1)\n",
        "    S[:(i+1),i] = -1\n",
        "[d1,d2] = np.where(S==0) # find pairs with the same features"
      ]
    },
    {
      "cell_type": "code",
      "execution_count": null,
      "metadata": {
        "_cell_guid": "e65565bc-a3e3-614e-9536-15a05347db34"
      },
      "outputs": [],
      "source": [
        "s1 = set(d1)\n",
        "s2 = set(d2)\n",
        "grps = s2.difference(s1.intersection(s2))\n",
        "print (\"Found total number of groups with the same features: \" + str(len(grps)))"
      ]
    },
    {
      "cell_type": "code",
      "execution_count": null,
      "metadata": {
        "_cell_guid": "9f26764e-3fd3-075e-8910-81a7b407de57"
      },
      "outputs": [],
      "source": [
        "err = np.array([])\n",
        "y_grps = np.array([])\n",
        "for i in grps:\n",
        "    inx = np.append(d1[d2==i],i)\n",
        "    err = np.append(err,y[inx]-np.mean(y[inx]))\n",
        "    ## this error is defined as the difference y values of cases with exactly the same features\n",
        "    y_grps = np.append(y_grps,y[inx])"
      ]
    },
    {
      "cell_type": "code",
      "execution_count": null,
      "metadata": {
        "_cell_guid": "20ed355d-fa4e-b926-33f2-fa5d1ba15b39"
      },
      "outputs": [],
      "source": [
        "SS_res = np.sum(err*err)\n",
        "SS_tot = np.sum(np.square(y_grps-np.mean(y_grps)))\n",
        "r2 = 1-SS_res/SS_tot\n",
        "print (\"Theoretically, r2 will not be larger than \" + str(r2))"
      ]
    },
    {
      "cell_type": "code",
      "execution_count": null,
      "metadata": {
        "_cell_guid": "99e1babe-d168-0bfb-26f6-2304a3244089"
      },
      "outputs": [],
      "source": [
        "## add some plots\n",
        "import matplotlib.pyplot as plt\n",
        "%matplotlib inline\n",
        "plt.figure(figsize=(8,6))\n",
        "plt.scatter(range(len(err)),err)\n",
        "plt.ylabel('err',fontsize=18)\n",
        "plt.show()"
      ]
    },
    {
      "cell_type": "code",
      "execution_count": null,
      "metadata": {
        "_cell_guid": "35bcc214-6964-893f-1489-ac12376d6e48"
      },
      "outputs": [],
      "source": [
        "plt.figure(figsize=(8,6))\n",
        "plt.scatter(range(len(y_grps)),y_grps)\n",
        "plt.ylabel('y values in groups',fontsize=18)\n",
        "plt.show()"
      ]
    }
  ],
  "metadata": {
    "_change_revision": 0,
    "_is_fork": false,
    "kernelspec": {
      "display_name": "Python 3",
      "language": "python",
      "name": "python3"
    },
    "language_info": {
      "codemirror_mode": {
        "name": "ipython",
        "version": 3
      },
      "file_extension": ".py",
      "mimetype": "text/x-python",
      "name": "python",
      "nbconvert_exporter": "python",
      "pygments_lexer": "ipython3",
      "version": "3.6.0"
    }
  },
  "nbformat": 4,
  "nbformat_minor": 0
}