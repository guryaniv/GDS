{
  "cells": [
    {
      "cell_type": "markdown",
      "metadata": {
        "_cell_guid": "87e84b52-b411-2549-d68a-4d80bb53fa47"
      },
      "source": ""
    },
    {
      "cell_type": "markdown",
      "metadata": {
        "_cell_guid": "27e8bd6b-c60c-2705-a848-5f4b73ba3b3c"
      },
      "source": ""
    },
    {
      "cell_type": "markdown",
      "metadata": {
        "_cell_guid": "229e2495-dd30-f048-b2b7-d21094d35f86"
      },
      "source": ""
    },
    {
      "cell_type": "markdown",
      "metadata": {
        "_cell_guid": "744c07d6-c3e9-03c1-1ee1-75f96bbccd54"
      },
      "source": ""
    },
    {
      "cell_type": "code",
      "execution_count": null,
      "metadata": {
        "_cell_guid": "acf8ad42-5cd6-999d-50de-6ba4ff166065"
      },
      "outputs": [],
      "source": [
        "import gc\n",
        "import os\n",
        "import time\n",
        "from datetime import datetime\n",
        "import cPickle\n",
        "import numpy as np\n",
        "import pandas as pd\n",
        "from sklearn.linear_model import LogisticRegression\n",
        "from sklearn.feature_extraction.text import CountVectorizer, TfidfVectorizer\n",
        "from sklearn.metrics import log_loss"
      ]
    },
    {
      "cell_type": "code",
      "execution_count": null,
      "metadata": {
        "_cell_guid": "6a2d2755-5c89-1de1-189a-5970bdc77e7a"
      },
      "outputs": [],
      "source": ""
    },
    {
      "cell_type": "code",
      "execution_count": null,
      "metadata": {
        "_cell_guid": "b28e845d-560a-88b6-7c1e-0023dd8e3ae0"
      },
      "outputs": [],
      "source": [
        "def save_submission(submission, name='submission', path='.', with_dttm=False):\n",
        "    suffix = '_' + datetime.now().strftime('%Y-%m-%d_%H-%M-%S') if with_dttm else ''\n",
        "    filename = os.path.join(path, '%s%s.csv' % (name, suffix))\n",
        "    submission.to_csv(filename, index=False)\n",
        "    return filename"
      ]
    },
    {
      "cell_type": "code",
      "execution_count": null,
      "metadata": {
        "_cell_guid": "5818c001-11df-3609-ba95-214f739e3717"
      },
      "outputs": [],
      "source": ""
    },
    {
      "cell_type": "markdown",
      "metadata": {
        "_cell_guid": "21130135-854b-b7d6-cbbb-818ea1a6a6f4"
      },
      "source": ""
    },
    {
      "cell_type": "code",
      "execution_count": null,
      "metadata": {
        "_cell_guid": "459f6a75-bf89-ff20-3658-7db76a61bc05"
      },
      "outputs": [],
      "source": [
        "train_df = pd.read_csv('../input/train.csv')\n",
        "train_df = train_df.dropna().reset_index(drop=True)\n",
        "train_df.head(n=10)"
      ]
    },
    {
      "cell_type": "code",
      "execution_count": null,
      "metadata": {
        "_cell_guid": "d96c67e3-99ac-da80-0fa6-16146ac84093",
        "collapsed": true
      },
      "outputs": [],
      "source": ""
    },
    {
      "cell_type": "markdown",
      "metadata": {
        "_cell_guid": "07bd5ea7-0c49-f74f-c0af-2b6e448c210c"
      },
      "source": ""
    },
    {
      "cell_type": "code",
      "execution_count": null,
      "metadata": {
        "_cell_guid": "734ab310-309d-d682-9712-f631fce4770c"
      },
      "outputs": [],
      "source": ""
    },
    {
      "cell_type": "markdown",
      "metadata": {
        "_cell_guid": "c4bd2473-5203-5a8c-1667-0057b0bf23e0"
      },
      "source": ""
    },
    {
      "cell_type": "code",
      "execution_count": null,
      "metadata": {
        "_cell_guid": "3f66c231-ed0c-83df-308d-9c19c9ca7eb6"
      },
      "outputs": [],
      "source": ""
    },
    {
      "cell_type": "markdown",
      "metadata": {
        "_cell_guid": "2372063c-37c9-bd57-3e1f-d5e6354f1b35"
      },
      "source": ""
    },
    {
      "cell_type": "markdown",
      "metadata": {
        "_cell_guid": "b02c47b9-141f-9d22-93c0-6d5e1f1cba31"
      },
      "source": ""
    },
    {
      "cell_type": "code",
      "execution_count": null,
      "metadata": {
        "_cell_guid": "2f11ca7a-908e-2ddf-de37-de1e0407e600"
      },
      "outputs": [],
      "source": ""
    },
    {
      "cell_type": "markdown",
      "metadata": {
        "_cell_guid": "f53a2a26-dd61-d792-a0b8-f42420dea5c7"
      },
      "source": ""
    },
    {
      "cell_type": "code",
      "execution_count": null,
      "metadata": {
        "_cell_guid": "006f2e9b-d936-775d-d5b4-26d798e47e48"
      },
      "outputs": [],
      "source": [
        "test_df = pd.read_csv('../input/test.csv')\n",
        "test_df.info()"
      ]
    },
    {
      "cell_type": "code",
      "execution_count": null,
      "metadata": {
        "_cell_guid": "4c91ff6b-f448-0dac-0a3f-7e23c5a33df3"
      },
      "outputs": [],
      "source": ""
    },
    {
      "cell_type": "code",
      "execution_count": null,
      "metadata": {
        "_cell_guid": "f25aaedb-1562-a16c-6b1a-37d4a76d1326"
      },
      "outputs": [],
      "source": [
        "#test_df = pd.read_csv('data/test.csv')\n",
        "#test_df.loc[test_df['question1'].isnull(), ['question1','question2']] = ''\n",
        "#test_df.loc[test_df['question2'].isnull(), ['question1','question2']] = ''"
      ]
    },
    {
      "cell_type": "code",
      "execution_count": null,
      "metadata": {
        "_cell_guid": "5c2bf1a5-cb69-b3df-8e06-0878d83f374a"
      },
      "outputs": [],
      "source": ""
    },
    {
      "cell_type": "code",
      "execution_count": null,
      "metadata": {
        "_cell_guid": "9ed74072-ecb7-8eed-c770-cbf53d75a9d9"
      },
      "outputs": [],
      "source": ""
    },
    {
      "cell_type": "markdown",
      "metadata": {
        "_cell_guid": "1e394e23-c0fe-e4ec-6536-00c80d8d12e4"
      },
      "source": ""
    },
    {
      "cell_type": "code",
      "execution_count": null,
      "metadata": {
        "_cell_guid": "51d00667-5192-fdae-3594-02fe7d906dea"
      },
      "outputs": [],
      "source": ""
    },
    {
      "cell_type": "markdown",
      "metadata": {
        "_cell_guid": "70464342-36f8-141a-1125-9871cbe5d2d6"
      },
      "source": ""
    },
    {
      "cell_type": "code",
      "execution_count": null,
      "metadata": {
        "_cell_guid": "b2f8eefb-cfe9-a729-f6e1-1d7697dce294"
      },
      "outputs": [],
      "source": [
        "submission = pd.concat([test_df.test_id.astype(int), pd.DataFrame(predicted[:,1], \n",
        "                                        columns=['is_duplicate'], index=test_df.index)], axis=1)\n",
        "print submission.shape\n",
        "save_submission(submission, 'submission_BOW_chars', with_dttm=False)"
      ]
    },
    {
      "cell_type": "code",
      "execution_count": null,
      "metadata": {
        "_cell_guid": "aaffe23e-f22a-5038-581b-96e8a97cbf36"
      },
      "outputs": [],
      "source": [
        "#models_and_test_matricies['BOW_chars_not_equal'] = (model_lr_bow_chars, X_BOW_chars)"
      ]
    },
    {
      "cell_type": "code",
      "execution_count": null,
      "metadata": {
        "_cell_guid": "eee449c2-a52a-92e9-2ae9-c162973d0318"
      },
      "outputs": [],
      "source": [
        "with open('models_and_test_matricies_2.pkl', 'wb') as fid:\n",
        "    cPickle.dump(models_and_test_matricies, fid)"
      ]
    },
    {
      "cell_type": "markdown",
      "metadata": {
        "_cell_guid": "5b8f95cf-cac8-a679-e9a6-6df7d72c024d"
      },
      "source": [
        "<h3>\u0418\u0437\u0432\u043b\u0435\u0447\u0435\u043d\u0438\u0435 \u043f\u0440\u0438\u0437\u043d\u0430\u043a\u043e\u0432: Bag of words (word) </h3>"
      ]
    },
    {
      "cell_type": "code",
      "execution_count": null,
      "metadata": {
        "_cell_guid": "85e957c0-7fa8-3c5c-6bc6-fb8d47e620d7"
      },
      "outputs": [],
      "source": [
        "del_punct_trans_table = dict((ord(char), None) for char in string.punctuation)\n",
        "\n",
        "def nlp_preprocessor(sentence):\n",
        "    return delete_punctuation_unicode(sentence.lower())\n",
        "\n",
        "def nlp_tokenizer(sentence):\n",
        "    tokens = word_tokenize(sentence)\n",
        "    ll = WordNetLemmatizer()\n",
        "    stemmer = SnowballStemmer(language='english', ignore_stopwords=True)\n",
        "    tokens = [ll.lemmatize(item) for item in tokens]\n",
        "    tokens = [stemmer.stem(item) for item in tokens]\n",
        "    return tokens\n",
        "\n",
        "def delete_punctuation_unicode(to_translate):\n",
        "    return to_translate.translate(del_punct_trans_table)"
      ]
    },
    {
      "cell_type": "code",
      "execution_count": null,
      "metadata": {
        "_cell_guid": "a9aa96eb-a410-081e-ea91-7d47bb7d5ed1"
      },
      "outputs": [],
      "source": ""
    },
    {
      "cell_type": "code",
      "execution_count": null,
      "metadata": {
        "_cell_guid": "709608ef-02e1-ac30-3208-7ed8daa2f3c5"
      },
      "outputs": [],
      "source": ""
    },
    {
      "cell_type": "code",
      "execution_count": null,
      "metadata": {
        "_cell_guid": "ba2c8529-6b4c-1018-299c-36e8fc4e0a1d",
        "collapsed": true
      },
      "outputs": [],
      "source": ""
    },
    {
      "cell_type": "code",
      "execution_count": null,
      "metadata": {
        "_cell_guid": "586eff06-3db4-0f0f-e6d0-c101dced124a"
      },
      "outputs": [],
      "source": [
        "test_df = pd.read_csv('../input/test.csv')\n",
        "test_df.loc[test_df['question1'].isnull(), ['question1','question2']] = ''\n",
        "test_df.loc[test_df['question2'].isnull(), ['question1','question2']] = ''"
      ]
    },
    {
      "cell_type": "code",
      "execution_count": null,
      "metadata": {
        "_cell_guid": "13731894-c0e0-2f78-3a94-8fa7e5b88cf0"
      },
      "outputs": [],
      "source": ""
    },
    {
      "cell_type": "code",
      "execution_count": null,
      "metadata": {
        "_cell_guid": "2af621cc-f2dc-d7a8-7e00-5da62eb8f8d6"
      },
      "outputs": [],
      "source": ""
    },
    {
      "cell_type": "code",
      "execution_count": null,
      "metadata": {
        "_cell_guid": "dec224bc-e93f-c38b-cfbf-dd83ba155453"
      },
      "outputs": [],
      "source": [
        "del BOW_q1, BOW_q2"
      ]
    },
    {
      "cell_type": "code",
      "execution_count": null,
      "metadata": {
        "_cell_guid": "8349cd7d-bdda-4ba3-d475-b9970aa30067"
      },
      "outputs": [],
      "source": [
        "predicted = model_lr_BOW_words_not_equal.predict_proba(X_BOW_words_not_equal)"
      ]
    },
    {
      "cell_type": "code",
      "execution_count": null,
      "metadata": {
        "_cell_guid": "eec8c0c2-6cfa-2f34-7a29-2c11d2bf8d69"
      },
      "outputs": [],
      "source": ""
    },
    {
      "cell_type": "code",
      "execution_count": null,
      "metadata": {
        "_cell_guid": "2bea2e6e-8def-67f7-3020-9385c36ab80a"
      },
      "outputs": [],
      "source": [
        "#models_and_test_matricies['BOW_words_not_equal'] = (model_lr_BOW_words_not_equal, X_BOW_words_not_equal)"
      ]
    },
    {
      "cell_type": "code",
      "execution_count": null,
      "metadata": {
        "_cell_guid": "fd392c3d-506b-b50a-b686-c776d4a47087"
      },
      "outputs": [],
      "source": [
        "#with open('models_and_test_matricies.pkl', 'wb') as fid:\n",
        "    #cPickle.dump(models_and_test_matricies, fid)"
      ]
    },
    {
      "cell_type": "markdown",
      "metadata": {
        "_cell_guid": "5bfcbadd-32ea-3325-b889-701e46aa125a"
      },
      "source": ""
    },
    {
      "cell_type": "code",
      "execution_count": null,
      "metadata": {
        "_cell_guid": "dffcfe85-0556-9313-c30c-fa07e1f7ffad"
      },
      "outputs": [],
      "source": [
        "from sklearn.metrics.pairwise import paired_cosine_distances"
      ]
    },
    {
      "cell_type": "code",
      "execution_count": null,
      "metadata": {
        "_cell_guid": "d5cc54a8-29e7-8d1b-d954-e5d08f2b2b86"
      },
      "outputs": [],
      "source": [
        "TFIDF = TfidfVectorizer(preprocessor=nlp_preprocessor, tokenizer=nlp_tokenizer, analyzer='word', max_df=0.999, min_df=20, \n",
        "                        norm='l2', use_idf=True, smooth_idf=True)\n",
        "TFIDF.fit(pd.concat((train_df['question1'],train_df['question2'])).unique())\n",
        "\n",
        "TFIDF_q1 = TFIDF.transform(train_df.question1)\n",
        "TFIDF_q2 = TFIDF.transform(train_df.question2)"
      ]
    },
    {
      "cell_type": "code",
      "execution_count": null,
      "metadata": {
        "_cell_guid": "9c4b65b7-1c29-e17e-557f-45cda7eadac5"
      },
      "outputs": [],
      "source": ""
    },
    {
      "cell_type": "code",
      "execution_count": null,
      "metadata": {
        "_cell_guid": "bee73c22-1bd7-58a3-605a-6ac724cb96bb"
      },
      "outputs": [],
      "source": ""
    },
    {
      "cell_type": "code",
      "execution_count": null,
      "metadata": {
        "_cell_guid": "e8f730b1-8bad-7cf3-851a-ab50dd09fd39"
      },
      "outputs": [],
      "source": ""
    },
    {
      "cell_type": "code",
      "execution_count": null,
      "metadata": {
        "_cell_guid": "a5f2653a-78df-8008-07b0-e6166dac2420"
      },
      "outputs": [],
      "source": [
        "test_df = pd.read_csv('../input/test.csv')\n",
        "test_df.loc[test_df['question1'].isnull(), ['question1','question2']] = ''\n",
        "test_df.loc[test_df['question2'].isnull(), ['question1','question2']] = ''"
      ]
    },
    {
      "cell_type": "code",
      "execution_count": null,
      "metadata": {
        "_cell_guid": "e42a8c7a-2b5e-20b7-777f-6d4a9b191f8d"
      },
      "outputs": [],
      "source": ""
    },
    {
      "cell_type": "code",
      "execution_count": null,
      "metadata": {
        "_cell_guid": "003222da-b211-648b-a2b6-0fa943ebb400"
      },
      "outputs": [],
      "source": [
        "X_TFIDF = paired_cosine_distances(TFIDF_q1,TFIDF_q2).reshape(-1, 1)\n",
        "del TFIDF_q1, TFIDF_q2"
      ]
    },
    {
      "cell_type": "code",
      "execution_count": null,
      "metadata": {
        "_cell_guid": "91aca232-0c23-621f-18e2-a0cdb60e73cb"
      },
      "outputs": [],
      "source": [
        "predicted = model_lr_tfidf.predict_proba(X_TFIDF)"
      ]
    },
    {
      "cell_type": "code",
      "execution_count": null,
      "metadata": {
        "_cell_guid": "467215da-7766-415b-68e0-2eafbc74dc0f"
      },
      "outputs": [],
      "source": ""
    },
    {
      "cell_type": "code",
      "execution_count": null,
      "metadata": {
        "_cell_guid": "08230ba0-bfba-1f2f-43cd-dc152c5471fc"
      },
      "outputs": [],
      "source": [
        "#models_and_test_matricies['TFIDF'] = (model_lr_tfidf, X_TFIDF)"
      ]
    },
    {
      "cell_type": "markdown",
      "metadata": {
        "_cell_guid": "73aa1ab8-1283-30c2-3940-782fb8592387"
      },
      "source": [
        "<h3>\u0418\u0441\u043f\u043e\u043b\u044c\u0437\u043e\u0432\u0430\u043d\u0438\u0435 \u043d\u0435\u0441\u043a\u043e\u043b\u044c\u043a\u0438\u0445 \u043c\u043e\u0434\u0435\u043b\u0435\u0439: \u0443\u0441\u0440\u0435\u0434\u043d\u0435\u043d\u0438\u0435</h3>"
      ]
    },
    {
      "cell_type": "code",
      "execution_count": null,
      "metadata": {
        "_cell_guid": "3a5c3c47-940a-8d3e-00de-e69a52b280af"
      },
      "outputs": [],
      "source": [
        "#subm_1 = pd.read_csv('./answers/1/submission_BOW_chars_2017-05-08_19-53-25.csv')\n",
        "#subm_2 = pd.read_csv('./answers/1/submission_BOW_words_2017-05-09_06-02-19.csv')\n",
        "#subm_mean = pd.DataFrame(subm_1)\n",
        "#subm_mean['is_duplicate'] = (subm_1['is_duplicate'] + subm_2['is_duplicate']) / 2\n",
        "#save_submission(subm_mean, 'submission_BOW_mean', with_dttm=True)"
      ]
    },
    {
      "cell_type": "markdown",
      "metadata": {
        "_cell_guid": "5eabd27c-af8f-d62f-7253-1ebabdf1deb7"
      },
      "source": ""
    }
  ],
  "metadata": {
    "_change_revision": 0,
    "_is_fork": false,
    "kernelspec": {
      "display_name": "Python 3",
      "language": "python",
      "name": "python3"
    },
    "language_info": {
      "codemirror_mode": {
        "name": "ipython",
        "version": 3
      },
      "file_extension": ".py",
      "mimetype": "text/x-python",
      "name": "python",
      "nbconvert_exporter": "python",
      "pygments_lexer": "ipython3",
      "version": "3.6.0"
    }
  },
  "nbformat": 4,
  "nbformat_minor": 0
}