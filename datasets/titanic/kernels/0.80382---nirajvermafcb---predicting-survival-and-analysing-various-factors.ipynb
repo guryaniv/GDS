{
  "cells": [
    {
      "cell_type": "markdown",
      "metadata": {
        "_cell_guid": "a4b5322e-6d97-d243-f9bd-9cb7fbf0e115"
      },
      "source": [
        ""
      ]
    },
    {
      "cell_type": "code",
      "execution_count": null,
      "metadata": {
        "_cell_guid": "26dca107-91a9-6395-470e-5fc9c68e8411"
      },
      "outputs": [],
      "source": [
        "# This Python 3 environment comes with many helpful analytics libraries installed\n",
        "# It is defined by the kaggle/python docker image: https://github.com/kaggle/docker-python\n",
        "# For example, here's several helpful packages to load in \n",
        "\n",
        "\n",
        "# Input data files are available in the \"../input/\" directory.\n",
        "# For example, running this (by clicking run or pressing Shift+Enter) will list the files in the input directory\n",
        "\n",
        "from subprocess import check_output\n",
        "print(check_output([\"ls\", \"../input\"]).decode(\"utf8\"))\n",
        "\n",
        "# Any results you write to the current directory are saved as output."
      ]
    },
    {
      "cell_type": "code",
      "execution_count": null,
      "metadata": {
        "_cell_guid": "43becd2c-267a-62a1-4d33-1fa5e7f0e2ce"
      },
      "outputs": [],
      "source": [
        "import os\n",
        "import numpy as np # linear algebra\n",
        "import pandas as pd # data processing, CSV file I/O (e.g. pd.read_csv)\n",
        "import matplotlib.pyplot as plt\n",
        "import seaborn as sns\n",
        "%matplotlib inline"
      ]
    },
    {
      "cell_type": "markdown",
      "metadata": {
        "_cell_guid": "6f34b6b3-b389-66e3-34ec-7eae113874a8"
      },
      "source": [
        "### Getting train and test datsets"
      ]
    },
    {
      "cell_type": "code",
      "execution_count": null,
      "metadata": {
        "_cell_guid": "44e4de8c-53a0-315b-43e4-8c626ee35297"
      },
      "outputs": [],
      "source": [
        "train_df = pd.read_csv(\"../input/train.csv\")\n",
        "test_df    = pd.read_csv(\"../input/test.csv\")\n",
        "\n",
        "#train_df.head()\n",
        "#test_df.head()"
      ]
    },
    {
      "cell_type": "code",
      "execution_count": null,
      "metadata": {
        "_cell_guid": "c90b0a44-177c-69db-6474-c95fe1f51a8c"
      },
      "outputs": [],
      "source": [
        "train_df.info()\n",
        "print(\"----------------------------------\")\n",
        "test_df.info()"
      ]
    },
    {
      "cell_type": "markdown",
      "metadata": {
        "_cell_guid": "939dd040-cbce-3be7-1bde-a2023f54b7cb"
      },
      "source": [
        "**We can drop the PassengerId column, since it is merely an index.It has no correlation with the target variable \"Survived\"**"
      ]
    },
    {
      "cell_type": "code",
      "execution_count": null,
      "metadata": {
        "_cell_guid": "21f9db46-c40f-25bd-7095-69bac1e8df44"
      },
      "outputs": [],
      "source": [
        "train_df.drop(['PassengerId'], axis = 1, inplace = True) \n",
        "test_df.drop(['PassengerId'], axis = 1, inplace = True) "
      ]
    },
    {
      "cell_type": "code",
      "execution_count": null,
      "metadata": {
        "_cell_guid": "337db1ce-f506-3307-bc3f-8bdebd232094"
      },
      "outputs": [],
      "source": [
        "train_df.head()\n",
        "#test_df.head()"
      ]
    },
    {
      "cell_type": "markdown",
      "metadata": {
        "_cell_guid": "2e55367f-2d56-d9f5-e773-a6f0ee746d4d"
      },
      "source": [
        "**Thus we have drop PassengerID column permanently**"
      ]
    },
    {
      "cell_type": "markdown",
      "metadata": {
        "_cell_guid": "52653a34-2645-981e-4c01-391b9e0f0d8c"
      },
      "source": [
        "**We can see that Age,Cabin and Embarked has missing values which we have to deal with.**\n",
        "\n",
        "**Age column has significant amount of missing values in both training and testing dataset. We can drop those rows which has missing values but this might result in the loss of some information.Therefore instead of dropping those rows we will rather replace them with a valid value which will generalise better**"
      ]
    },
    {
      "cell_type": "markdown",
      "metadata": {
        "_cell_guid": "b5bec2d1-c9b2-40a0-4e7b-66072699109a"
      },
      "source": [
        "#Age"
      ]
    },
    {
      "cell_type": "code",
      "execution_count": null,
      "metadata": {
        "_cell_guid": "9a638159-7145-9a07-a1c1-932da1d994b2"
      },
      "outputs": [],
      "source": [
        "\n",
        "# Checking if any rows has all the null values.If yes then dropping the entire row.\n",
        "\n",
        "#train_df.dropna(axis=0, how='all')\n",
        "#test_df.dropna(axis=0, how='all')\n",
        "#train_df.info()\n",
        "#print(\"----------------------------------------\")\n",
        "#test_df.info()"
      ]
    },
    {
      "cell_type": "code",
      "execution_count": null,
      "metadata": {
        "_cell_guid": "025ea606-296c-d7af-9c21-0db167a41471"
      },
      "outputs": [],
      "source": [
        "train_df[train_df['Age'].isnull()]\n",
        "train_df[train_df['Age'].isnull()].count()"
      ]
    },
    {
      "cell_type": "code",
      "execution_count": null,
      "metadata": {
        "_cell_guid": "8622186a-45b5-fe4d-2201-41ba7cf528d6"
      },
      "outputs": [],
      "source": [
        "test_df[test_df['Age'].isnull()]\n",
        "test_df[test_df['Age'].isnull()].count()"
      ]
    },
    {
      "cell_type": "markdown",
      "metadata": {
        "_cell_guid": "801810a3-370c-949c-d9c9-8c5f12acd1f8"
      },
      "source": [
        "**Thus we got 177 missing age values in training set and 86 missing age values in test set**"
      ]
    },
    {
      "cell_type": "code",
      "execution_count": null,
      "metadata": {
        "_cell_guid": "b3218073-0b65-b76a-86ea-07a20d2f8930"
      },
      "outputs": [],
      "source": [
        "train_df[\"Age\"].mean()\n",
        "#train_df[\"Age\"].median()\n",
        "#train_df['Age'].mode()"
      ]
    },
    {
      "cell_type": "code",
      "execution_count": null,
      "metadata": {
        "_cell_guid": "aa6e1f53-72ac-3d30-9857-b528beb011a7"
      },
      "outputs": [],
      "source": [
        "test_df['Age'].mean()\n",
        "#test_df[\"Age\"].median()\n",
        "#test_df['Age'].mode()"
      ]
    },
    {
      "cell_type": "code",
      "execution_count": null,
      "metadata": {
        "_cell_guid": "5002cd4e-33a1-ae47-ccaa-ea974d2d173f"
      },
      "outputs": [],
      "source": [
        "train_df['Survived'].groupby(pd.qcut(train_df['Age'],6)).mean()"
      ]
    },
    {
      "cell_type": "code",
      "execution_count": null,
      "metadata": {
        "_cell_guid": "d93d6697-03da-23c5-8605-e821f16d50a4"
      },
      "outputs": [],
      "source": [
        "pd.qcut(train_df['Age'],6).value_counts()"
      ]
    },
    {
      "cell_type": "code",
      "execution_count": null,
      "metadata": {
        "_cell_guid": "19d6df10-2085-3dd1-2d9d-d3137dc28481"
      },
      "outputs": [],
      "source": [
        "train_df['Embarked'].unique()"
      ]
    },
    {
      "cell_type": "code",
      "execution_count": null,
      "metadata": {
        "_cell_guid": "da2fae5a-6f0a-f2c8-4b92-b6c7acc3e454"
      },
      "outputs": [],
      "source": [
        "train_df['Embarked'].value_counts()"
      ]
    },
    {
      "cell_type": "code",
      "execution_count": null,
      "metadata": {
        "_cell_guid": "261f2ebb-0821-ca4d-5a65-42cabedb4af1"
      },
      "outputs": [],
      "source": [
        "sns.countplot(train_df['Embarked'])"
      ]
    },
    {
      "cell_type": "code",
      "execution_count": null,
      "metadata": {
        "_cell_guid": "fa5db980-4a54-6d73-9605-aec1a6ded563"
      },
      "outputs": [],
      "source": [
        "train_df['Survived'].groupby(train_df['Embarked']).mean()"
      ]
    },
    {
      "cell_type": "code",
      "execution_count": null,
      "metadata": {
        "_cell_guid": "82d4eb49-b9e9-3eaf-8582-23b28bbd839e"
      },
      "outputs": [],
      "source": [
        "sns.countplot(train_df['Embarked'], hue=train_df['Pclass'])"
      ]
    },
    {
      "cell_type": "markdown",
      "metadata": {
        "_cell_guid": "bc739007-b487-7072-8f80-176966a316fc"
      },
      "source": [
        "# Cabin\n",
        "**This column has the most nulls (almost 700), but we can still extract information from it, like the first letter of each cabin, or the cabin number.**"
      ]
    },
    {
      "cell_type": "code",
      "execution_count": null,
      "metadata": {
        "_cell_guid": "50a5dcf6-2b47-3dc2-3195-3749d1601c3d"
      },
      "outputs": [],
      "source": [
        "train_df['Cabin_Letter'] = train_df['Cabin'].apply(lambda x: str(x)[0])"
      ]
    },
    {
      "cell_type": "code",
      "execution_count": null,
      "metadata": {
        "_cell_guid": "0bcf4f1c-ca64-ce7d-b005-623a18e6702f"
      },
      "outputs": [],
      "source": [
        "train_df['Cabin_Letter'].unique()"
      ]
    },
    {
      "cell_type": "code",
      "execution_count": null,
      "metadata": {
        "_cell_guid": "0c9b6783-efa3-7df9-8b3e-3f42f53543c6"
      },
      "outputs": [],
      "source": [
        "train_df['Cabin_Letter'].value_counts()"
      ]
    },
    {
      "cell_type": "code",
      "execution_count": null,
      "metadata": {
        "_cell_guid": "2b82d317-a465-f990-6323-5082e592fb3e"
      },
      "outputs": [],
      "source": [
        "train_df['Survived'].groupby(train_df['Cabin_Letter']).mean()"
      ]
    },
    {
      "cell_type": "markdown",
      "metadata": {
        "_cell_guid": "b4f45e83-9791-d5c4-2e48-49801b66f8fe"
      },
      "source": [
        "# Survived"
      ]
    },
    {
      "cell_type": "code",
      "execution_count": null,
      "metadata": {
        "_cell_guid": "39010290-2778-f912-8037-8335e8b2678a"
      },
      "outputs": [],
      "source": [
        "train_df['Survived'].value_counts(normalize=True)"
      ]
    },
    {
      "cell_type": "markdown",
      "metadata": {
        "_cell_guid": "05f7554a-075b-3345-5218-edb844c57210"
      },
      "source": [
        "**We can see that nearly 62% of the people in the training set died and 38% survived.**"
      ]
    },
    {
      "cell_type": "code",
      "execution_count": null,
      "metadata": {
        "_cell_guid": "ca6913e9-1eca-09c5-5a58-a76dc3b864d8"
      },
      "outputs": [],
      "source": [
        "sns.countplot(train_df['Survived'],palette='Set2')"
      ]
    },
    {
      "cell_type": "markdown",
      "metadata": {
        "_cell_guid": "671fee12-b242-245c-e051-9fe7fc4e52ef"
      },
      "source": [
        "# Pclass(Passenger Class)\n",
        "This variable is very important in determining the survival chances of the passengers.Survival decreases significantly for lower class members as higher class members were given more importance while saving the passengers."
      ]
    },
    {
      "cell_type": "code",
      "execution_count": null,
      "metadata": {
        "_cell_guid": "971c2783-6346-acf3-c4fb-0b7c4df0720d"
      },
      "outputs": [],
      "source": [
        "train_df['Pclass'].unique()"
      ]
    },
    {
      "cell_type": "markdown",
      "metadata": {
        "_cell_guid": "a3e9e3b3-00da-c30d-05a5-e38ae9fcfd06"
      },
      "source": [
        "**Thus there are 3 classes**"
      ]
    },
    {
      "cell_type": "code",
      "execution_count": null,
      "metadata": {
        "_cell_guid": "b1646341-fb43-22a9-5619-eec293e8f503"
      },
      "outputs": [],
      "source": [
        "train_df['Survived'].groupby(train_df['Pclass']).count()"
      ]
    },
    {
      "cell_type": "code",
      "execution_count": null,
      "metadata": {
        "_cell_guid": "ab90b2c8-d4dc-ee74-96ca-5de6bfa556e7"
      },
      "outputs": [],
      "source": [
        "#train_df['Survived'].groupby(train_df['Pclass']).mean()"
      ]
    },
    {
      "cell_type": "code",
      "execution_count": null,
      "metadata": {
        "_cell_guid": "75a5bd22-ec81-3d37-ade8-007d0310e586"
      },
      "outputs": [],
      "source": [
        "sns.countplot(train_df['Pclass'], hue=train_df['Survived'], palette= 'colorblind')"
      ]
    },
    {
      "cell_type": "markdown",
      "metadata": {
        "_cell_guid": "ebeee4c6-66ea-ada1-0d04-1e97f7c898a4"
      },
      "source": [
        "#Sex"
      ]
    },
    {
      "cell_type": "markdown",
      "metadata": {
        "_cell_guid": "e170e8c9-2de9-eb61-c1ce-13f8183ccbc1"
      },
      "source": [
        "**Women and children were given 1st priority.Survival rate of them should be higher**"
      ]
    },
    {
      "cell_type": "code",
      "execution_count": null,
      "metadata": {
        "_cell_guid": "c9cc30aa-6f08-fca6-9f88-13075d694d0f"
      },
      "outputs": [],
      "source": [
        "train_df['Sex'].value_counts(normalize=True)"
      ]
    },
    {
      "cell_type": "code",
      "execution_count": null,
      "metadata": {
        "_cell_guid": "db293fd6-eb53-9868-f0df-a87380f99a35"
      },
      "outputs": [],
      "source": [
        "#train_df['Survived'].groupby(train_df['Sex']).mean()"
      ]
    },
    {
      "cell_type": "code",
      "execution_count": null,
      "metadata": {
        "_cell_guid": "4e622265-a61b-43b0-c6db-1e3892f04749"
      },
      "outputs": [],
      "source": [
        "(train_df['Sex']).value_counts()"
      ]
    },
    {
      "cell_type": "code",
      "execution_count": null,
      "metadata": {
        "_cell_guid": "f4f884e7-5a4b-3bae-ef6f-284909f8ea91"
      },
      "outputs": [],
      "source": [
        "sns.countplot(train_df['Sex'],palette='cubehelix')"
      ]
    },
    {
      "cell_type": "code",
      "execution_count": null,
      "metadata": {
        "_cell_guid": "50825583-80c5-f73a-8c84-1616b67d7fd7"
      },
      "outputs": [],
      "source": [
        "train_df['Survived'].groupby(train_df['Sex']).mean()"
      ]
    },
    {
      "cell_type": "markdown",
      "metadata": {
        "_cell_guid": "9f0e38ef-182a-2913-5e87-fa85f7cffc15"
      },
      "source": [
        "# Name"
      ]
    },
    {
      "cell_type": "markdown",
      "metadata": {
        "_cell_guid": "7b3c95a7-e021-97b5-c745-26acb1522406"
      },
      "source": [
        "**Name column does not have any relationship with Survived column.But one thing we can find  useful is the passenger's title**"
      ]
    },
    {
      "cell_type": "code",
      "execution_count": null,
      "metadata": {
        "_cell_guid": "e7fb111f-2a81-3e4f-fa38-1d79ad727322"
      },
      "outputs": [],
      "source": [
        "train_df['Name'].head()"
      ]
    },
    {
      "cell_type": "code",
      "execution_count": null,
      "metadata": {
        "_cell_guid": "4baddc86-5463-bec4-e4fc-fcbf5b330d99"
      },
      "outputs": [],
      "source": [
        "train_df['Name_Head'] = train_df['Name'].apply(lambda x: x.split(',')[1]).apply(lambda x: x.split()[0])\n",
        "train_df['Name_Head'].value_counts()"
      ]
    },
    {
      "cell_type": "code",
      "execution_count": null,
      "metadata": {
        "_cell_guid": "63a49373-3aae-8f8f-707d-62bdfc92502a"
      },
      "outputs": [],
      "source": [
        "train_df['Survived'].groupby(train_df['Name_Head']).mean()"
      ]
    },
    {
      "cell_type": "code",
      "execution_count": null,
      "metadata": {
        "_cell_guid": "12161f76-4d47-3d65-dcfe-b9759dc76bcf"
      },
      "outputs": [],
      "source": [
        "plt.figure(figsize=(12,8))\n",
        "sns.countplot(train_df['Name_Head'],palette='husl')"
      ]
    },
    {
      "cell_type": "code",
      "execution_count": null,
      "metadata": {
        "_cell_guid": "1eb1ddde-002a-8992-f00a-f91cc24939d4"
      },
      "outputs": [],
      "source": [
        "train_df['Survived'].groupby(train_df['Name_Head']).mean()"
      ]
    },
    {
      "cell_type": "markdown",
      "metadata": {
        "_cell_guid": "ef7624be-3f7b-554c-7657-720fd760deb6"
      },
      "source": [
        "# Sibsp"
      ]
    },
    {
      "cell_type": "code",
      "execution_count": null,
      "metadata": {
        "_cell_guid": "8d72612b-0f63-d0d3-5b92-df738835e1cf"
      },
      "outputs": [],
      "source": [
        "train_df['SibSp'].unique()"
      ]
    },
    {
      "cell_type": "code",
      "execution_count": null,
      "metadata": {
        "_cell_guid": "f89428f5-a9c4-ac76-6aad-26a1f005f3d9"
      },
      "outputs": [],
      "source": [
        "train_df['SibSp'].value_counts()"
      ]
    },
    {
      "cell_type": "code",
      "execution_count": null,
      "metadata": {
        "_cell_guid": "e2daa421-fce2-e304-089e-55bd56fe6b87"
      },
      "outputs": [],
      "source": [
        "sns.countplot(train_df['SibSp'],palette='Set1')"
      ]
    },
    {
      "cell_type": "code",
      "execution_count": null,
      "metadata": {
        "_cell_guid": "6cb3e3b6-168d-85e4-6332-07b682afa222"
      },
      "outputs": [],
      "source": [
        "train_df['Survived'].groupby(train_df['SibSp']).mean()"
      ]
    },
    {
      "cell_type": "markdown",
      "metadata": {
        "_cell_guid": "a3535b8f-e134-ece1-842f-726e2ff4fb99"
      },
      "source": [
        "# Parch"
      ]
    },
    {
      "cell_type": "code",
      "execution_count": null,
      "metadata": {
        "_cell_guid": "6ee8747c-b491-c612-5010-f4e2a67b6c2a"
      },
      "outputs": [],
      "source": [
        "train_df['Parch'].unique()"
      ]
    },
    {
      "cell_type": "code",
      "execution_count": null,
      "metadata": {
        "_cell_guid": "f5a396a6-193b-faeb-42ec-aebda6c4a3b4"
      },
      "outputs": [],
      "source": [
        "train_df['Parch'].value_counts()"
      ]
    },
    {
      "cell_type": "code",
      "execution_count": null,
      "metadata": {
        "_cell_guid": "e95dfbbd-250d-5c10-36fe-e0bc78c58cd4"
      },
      "outputs": [],
      "source": [
        "sns.countplot(train_df['SibSp'],palette='pastel')"
      ]
    },
    {
      "cell_type": "code",
      "execution_count": null,
      "metadata": {
        "_cell_guid": "ec37cff4-e434-94c6-05e3-6b8b66892f71"
      },
      "outputs": [],
      "source": [
        "train_df['Survived'].groupby(train_df['Parch']).mean()"
      ]
    },
    {
      "cell_type": "markdown",
      "metadata": {
        "_cell_guid": "7a324dfd-4f01-d22b-2e1a-439b8bf151d1"
      },
      "source": [
        "# Fare"
      ]
    },
    {
      "cell_type": "markdown",
      "metadata": {
        "_cell_guid": "eac102c1-3534-94be-ec79-afc018872763"
      },
      "source": [
        "**We will fill in the one missing value of Fare in our test set with the mean value of Fare from the training set**"
      ]
    },
    {
      "cell_type": "code",
      "execution_count": null,
      "metadata": {
        "_cell_guid": "20f9fedc-c2b1-e81d-e6f5-349767c9e274"
      },
      "outputs": [],
      "source": [
        "test_df['Fare'].fillna(train_df['Fare'].mean(), inplace = True)"
      ]
    },
    {
      "cell_type": "code",
      "execution_count": null,
      "metadata": {
        "_cell_guid": "e38109d1-b0c2-52e9-8b2c-67d1377c16f3"
      },
      "outputs": [],
      "source": [
        "train_df['Fare'].unique()\n",
        "train_df['Fare'].min()\n",
        "train_df['Fare'].max()\n",
        "#train_df['Fare'].mean()\n",
        "#train_df['Fare'].mode()"
      ]
    },
    {
      "cell_type": "code",
      "execution_count": null,
      "metadata": {
        "_cell_guid": "c3599d32-3fd7-7a3c-fed1-9e2b29230ac7"
      },
      "outputs": [],
      "source": [
        "pd.qcut(train_df['Fare'], 5).value_counts()"
      ]
    },
    {
      "cell_type": "code",
      "execution_count": null,
      "metadata": {
        "_cell_guid": "b0a4a181-8856-a123-ccec-95fb805e8142"
      },
      "outputs": [],
      "source": [
        "train_df['Survived'].groupby(pd.qcut(train_df['Fare'], 5)).mean()"
      ]
    },
    {
      "cell_type": "code",
      "execution_count": null,
      "metadata": {
        "_cell_guid": "c269cfd7-26a3-2b13-1cda-34fa03bc1220"
      },
      "outputs": [],
      "source": [
        "pd.crosstab(pd.qcut(train_df['Fare'], 5), columns=train_df['Pclass'])"
      ]
    },
    {
      "cell_type": "markdown",
      "metadata": {
        "_cell_guid": "b2f1448e-e088-6e65-11c4-2f9321fe3d34"
      },
      "source": [
        "**We can see that passenger class and fare variable are highly correlated**"
      ]
    },
    {
      "cell_type": "markdown",
      "metadata": {
        "_cell_guid": "ff259f95-e9df-dd97-6e1a-be9432ea256a"
      },
      "source": [
        "# Let us perform some feature Engineering"
      ]
    },
    {
      "cell_type": "markdown",
      "metadata": {
        "_cell_guid": "5b46ca16-c3bf-3bc0-0484-fdcff429db1d"
      },
      "source": [
        "**This function creates two separate columns: a numeric column indicating the length of a passenger\u2019s Name field, and a categorical column that extracts the passenger\u2019s title.**"
      ]
    },
    {
      "cell_type": "code",
      "execution_count": null,
      "metadata": {
        "_cell_guid": "2f7abed9-9712-6151-980c-11a50eaccbbf"
      },
      "outputs": [],
      "source": [
        "def names(train, test):\n",
        "    for i in [train, test]:\n",
        "        i['Name_Len'] = i['Name'].apply(lambda x: len(x))\n",
        "        i['Name_Title'] = i['Name'].apply(lambda x: x.split(',')[1]).apply(lambda x: x.split()[0])\n",
        "        del i['Name']\n",
        "    return train, test"
      ]
    },
    {
      "cell_type": "markdown",
      "metadata": {
        "_cell_guid": "e9b6bd6e-7ea1-d6a5-1db0-10fc0486aea4"
      },
      "source": [
        "**we impute the null values of the Age column by filling in the mean value of the passenger\u2019s corresponding title and class.**"
      ]
    },
    {
      "cell_type": "code",
      "execution_count": null,
      "metadata": {
        "_cell_guid": "9b0f5a1e-d7cc-e6fb-fcc0-fae44ab96fbb"
      },
      "outputs": [],
      "source": [
        "def age_impute(train, test):\n",
        "    for i in [train, test]:\n",
        "        i['Age_Null_Flag'] = i['Age'].apply(lambda x: 1 if pd.isnull(x) else 0)\n",
        "        data = train.groupby(['Name_Title', 'Pclass'])['Age']\n",
        "        i['Age'] = data.transform(lambda x: x.fillna(x.mean()))\n",
        "    return train, test"
      ]
    },
    {
      "cell_type": "markdown",
      "metadata": {
        "_cell_guid": "8aeac66e-3178-319c-5ccc-2fc21e9a84b3"
      },
      "source": [
        "**We combine the SibSp and Parch columns into a new variable that indicates family size, and group the family size variable into three categories.**"
      ]
    },
    {
      "cell_type": "code",
      "execution_count": null,
      "metadata": {
        "_cell_guid": "f8522eb0-af5d-d4fc-110c-06aa36cbdc44"
      },
      "outputs": [],
      "source": [
        "def fam_size(train, test):\n",
        "    for i in [train, test]:\n",
        "        i['Fam_Size'] = np.where((i['SibSp']+i['Parch']) == 0 , 'Solo',\n",
        "                           np.where((i['SibSp']+i['Parch']) <= 3,'Nuclear', 'Big'))\n",
        "        del i['SibSp']\n",
        "        del i['Parch']\n",
        "    return train, test"
      ]
    },
    {
      "cell_type": "markdown",
      "metadata": {
        "_cell_guid": "3ab22cfa-621e-9eb2-31de-27d595524b74"
      },
      "source": [
        "**This function extract the first letter of the Cabin column.**"
      ]
    },
    {
      "cell_type": "code",
      "execution_count": null,
      "metadata": {
        "_cell_guid": "57a7317c-3874-384f-f852-80603a1061c8"
      },
      "outputs": [],
      "source": [
        "def cabin(train, test):\n",
        "    for i in [train, test]:\n",
        "        i['Cabin_Letter'] = i['Cabin'].apply(lambda x: str(x)[0])\n",
        "        del i['Cabin']\n",
        "    return train, test"
      ]
    },
    {
      "cell_type": "code",
      "execution_count": null,
      "metadata": {
        "_cell_guid": "230917aa-d9a4-9ab6-60be-16ad01e0b1a1"
      },
      "outputs": [],
      "source": [
        "def embarked_impute(train, test):\n",
        "    for i in [train, test]:\n",
        "        i['Embarked'] = i['Embarked'].fillna('S')\n",
        "    return train, test"
      ]
    },
    {
      "cell_type": "code",
      "execution_count": null,
      "metadata": {
        "_cell_guid": "9f057180-ff9a-5e2a-6374-7e1dff7b59b1"
      },
      "outputs": [],
      "source": [
        "test_df['Fare'].fillna(test_df['Fare'].mean(), inplace = True)"
      ]
    },
    {
      "cell_type": "markdown",
      "metadata": {
        "_cell_guid": "a2cf8396-ced2-ce5d-ac29-b4310fff8b5c"
      },
      "source": [
        "**we must convert our categorical columns into dummy variables. The following function does this, and then it drops the original categorical columns.**"
      ]
    },
    {
      "cell_type": "code",
      "execution_count": null,
      "metadata": {
        "_cell_guid": "38bdaa7f-608c-df69-02a0-32d1a7c9de36"
      },
      "outputs": [],
      "source": [
        "def dummies(train, test, columns = ['Pclass', 'Sex', 'Embarked','Cabin_Letter' 'Name_Title', 'Fam_Size']):\n",
        "    for column in columns:\n",
        "        train[column] = train[column].apply(lambda x: str(x))\n",
        "        test[column] = test[column].apply(lambda x: str(x))\n",
        "        good_cols = [column+'_'+i for i in train[column].unique() if i in test[column].unique()]\n",
        "        train = pd.concat((train, pd.get_dummies(train[column], prefix = column)[good_cols]), axis = 1)\n",
        "        test = pd.concat((test, pd.get_dummies(test[column], prefix = column)[good_cols]), axis = 1)\n",
        "        del train[column]\n",
        "        del test[column]\n",
        "    return train, test"
      ]
    },
    {
      "cell_type": "markdown",
      "metadata": {
        "_cell_guid": "0aa78515-7f05-4336-d5a1-93b134b85c39"
      },
      "source": [
        "**Dropping PassengerId column**"
      ]
    },
    {
      "cell_type": "code",
      "execution_count": null,
      "metadata": {
        "_cell_guid": "968e5ba0-09fe-fe4c-a703-2d2a89728522"
      },
      "outputs": [],
      "source": [
        "def drop(train, test, bye = ['PassengerId']):\n",
        "    for i in [train, test]:\n",
        "        for z in bye:\n",
        "            del i[z]\n",
        "    return train, test"
      ]
    },
    {
      "cell_type": "code",
      "execution_count": null,
      "metadata": {
        "_cell_guid": "61352a88-1f14-deb6-f81b-e06336ddd71d"
      },
      "outputs": [],
      "source": [
        "train = pd.read_csv(\"../input/train.csv\")\n",
        "test = pd.read_csv(\"../input/test.csv\")\n",
        "train, test = names(train, test)\n",
        "train, test = age_impute(train, test)\n",
        "train, test = cabin(train, test)\n",
        "train, test = embarked_impute(train, test)\n",
        "train, test = fam_size(train, test)\n",
        "test['Fare'].fillna(train['Fare'].mean(), inplace = True)\n",
        "train, test = dummies(train, test, columns = ['Pclass', 'Sex', 'Embarked','Cabin_Letter', 'Name_Title', 'Fam_Size'])"
      ]
    },
    {
      "cell_type": "code",
      "execution_count": null,
      "metadata": {
        "_cell_guid": "9543490f-dd50-24de-93c6-fdf4d997c878"
      },
      "outputs": [],
      "source": [
        "train.drop(['PassengerId'], axis = 1, inplace = True)"
      ]
    },
    {
      "cell_type": "code",
      "execution_count": null,
      "metadata": {
        "_cell_guid": "50d4e56b-f043-231a-53ed-abdd42fd6537"
      },
      "outputs": [],
      "source": [
        "train.drop( ['Ticket'],axis=1,inplace = True)"
      ]
    },
    {
      "cell_type": "code",
      "execution_count": null,
      "metadata": {
        "_cell_guid": "a00d1479-5fdd-f25b-25c4-1d7ea30bcd7b"
      },
      "outputs": [],
      "source": [
        "train.info()"
      ]
    },
    {
      "cell_type": "code",
      "execution_count": null,
      "metadata": {
        "_cell_guid": "a44c6cd8-f05b-f2ba-d301-e65c4d6eee21"
      },
      "outputs": [],
      "source": [
        "len(train.columns)"
      ]
    },
    {
      "cell_type": "code",
      "execution_count": null,
      "metadata": {
        "_cell_guid": "0e051274-e8ba-9432-ed87-1b032f7037ce"
      },
      "outputs": [],
      "source": [
        "train.head()"
      ]
    },
    {
      "cell_type": "code",
      "execution_count": null,
      "metadata": {
        "_cell_guid": "cf35c07f-cd0d-54e1-1106-36853a7b6dd8"
      },
      "outputs": [],
      "source": [
        "test.info()"
      ]
    },
    {
      "cell_type": "code",
      "execution_count": null,
      "metadata": {
        "_cell_guid": "679e014f-36a1-98c2-19d1-b9a0234dd51c"
      },
      "outputs": [],
      "source": [
        "test.drop(['PassengerId'], axis = 1, inplace = True)"
      ]
    },
    {
      "cell_type": "code",
      "execution_count": null,
      "metadata": {
        "_cell_guid": "9f9672c9-0de7-3e74-133a-d5f130dff761"
      },
      "outputs": [],
      "source": [
        "test.drop(['Ticket'], axis = 1, inplace = True)"
      ]
    },
    {
      "cell_type": "code",
      "execution_count": null,
      "metadata": {
        "_cell_guid": "08472b0c-2678-5955-0523-2db1cd6f5f53"
      },
      "outputs": [],
      "source": [
        "len(test.columns)"
      ]
    },
    {
      "cell_type": "code",
      "execution_count": null,
      "metadata": {
        "_cell_guid": "1eda7edd-c2eb-e8a4-07e6-db82562b93af"
      },
      "outputs": [],
      "source": [
        "test.info()"
      ]
    },
    {
      "cell_type": "code",
      "execution_count": null,
      "metadata": {
        "_cell_guid": "bf34de81-55ee-b5fc-2eaa-98cc08d291b6"
      },
      "outputs": [],
      "source": [
        "test.head()"
      ]
    },
    {
      "cell_type": "markdown",
      "metadata": {
        "_cell_guid": "c4b8b872-5fc1-330c-657a-20985b7915d2"
      },
      "source": [
        "# Random forest"
      ]
    },
    {
      "cell_type": "code",
      "execution_count": null,
      "metadata": {
        "_cell_guid": "62653db2-a506-7766-d9c4-12f03061278a"
      },
      "outputs": [],
      "source": [
        "from sklearn.model_selection import GridSearchCV\n",
        "from sklearn.ensemble import RandomForestClassifier"
      ]
    },
    {
      "cell_type": "markdown",
      "metadata": {
        "_cell_guid": "2e5ceefc-face-ce9b-75b1-8f883afd10ce"
      },
      "source": [
        "**Separating predictor variable column and other variable column in training set**"
      ]
    },
    {
      "cell_type": "code",
      "execution_count": null,
      "metadata": {
        "_cell_guid": "4ef1741d-65c8-8552-40b2-198950e4e877"
      },
      "outputs": [],
      "source": [
        "rf = RandomForestClassifier(max_features='auto',\n",
        "                                oob_score=True,\n",
        "                                random_state=1,\n",
        "                                n_jobs=-1)"
      ]
    },
    {
      "cell_type": "code",
      "execution_count": null,
      "metadata": {
        "_cell_guid": "2699d5fc-bedd-9dac-dd29-fa48306fde79"
      },
      "outputs": [],
      "source": [
        "param_grid = { \"criterion\"   : [\"gini\", \"entropy\"],\n",
        "             \"min_samples_leaf\" : [1, 5, 10],\n",
        "             \"min_samples_split\" : [2, 4, 10, 12, 16],\n",
        "             \"n_estimators\": [50, 100, 400, 700, 1000]}"
      ]
    },
    {
      "cell_type": "code",
      "execution_count": null,
      "metadata": {
        "_cell_guid": "544ab9dd-5a70-7705-6cc7-861a0254a18d"
      },
      "outputs": [],
      "source": [
        "gs = GridSearchCV(estimator=rf,\n",
        "                  param_grid=param_grid,\n",
        "                  scoring='accuracy',\n",
        "                  cv=3,\n",
        "                  n_jobs=-1\n",
        "                 )"
      ]
    },
    {
      "cell_type": "code",
      "execution_count": null,
      "metadata": {
        "_cell_guid": "60836309-4e3e-5c22-ba45-30a83858dc53"
      },
      "outputs": [],
      "source": [
        "_gs = gs.fit(train.iloc[:, 1:], train.iloc[:, 0])"
      ]
    },
    {
      "cell_type": "code",
      "execution_count": null,
      "metadata": {
        "_cell_guid": "c8432979-3d16-4544-4a8a-4c3c123a1d2c"
      },
      "outputs": [],
      "source": [
        "print(gs.best_score_)\n",
        "print(gs.best_params_)"
      ]
    },
    {
      "cell_type": "code",
      "execution_count": null,
      "metadata": {
        "_cell_guid": "232cd2e7-bcb8-a063-59bd-4a42de3ce101"
      },
      "outputs": [],
      "source": [
        "rf = RandomForestClassifier(criterion='gini', \n",
        "                             n_estimators=700,\n",
        "                             min_samples_split=10,\n",
        "                             min_samples_leaf=1,\n",
        "                             max_features='auto',\n",
        "                             oob_score=True,\n",
        "                             random_state=1,\n",
        "                             n_jobs=-1)\n",
        "rf.fit(train.iloc[:, 1:], train.iloc[:, 0])\n",
        "print (\"%.4f\" % rf.oob_score_ )"
      ]
    },
    {
      "cell_type": "code",
      "execution_count": null,
      "metadata": {
        "_cell_guid": "816a800f-93f9-2e8e-5ddb-393985ab01e0"
      },
      "outputs": [],
      "source": [
        "predictions = rf.predict(test)\n",
        "predictions = pd.DataFrame(predictions, columns=['Survived'])"
      ]
    },
    {
      "cell_type": "code",
      "execution_count": null,
      "metadata": {
        "_cell_guid": "55c7d055-def9-2975-564b-253bcb8c6edc"
      },
      "outputs": [],
      "source": [
        "test = pd.read_csv(os.path.join('../input', 'test.csv'))\n",
        "predictions = pd.concat((test.iloc[:, 0], predictions), axis = 1)\n",
        "predictions.to_csv('y_test15.csv', sep=\",\", index = False)"
      ]
    },
    {
      "cell_type": "code",
      "execution_count": null,
      "metadata": {
        "_cell_guid": "c4e338d5-2c1e-19b2-bc81-2af89a580775"
      },
      "outputs": [],
      "source": [
        "# Still workinghhh"
      ]
    }
  ],
  "metadata": {
    "_change_revision": 0,
    "_is_fork": false,
    "kernelspec": {
      "display_name": "Python 3",
      "language": "python",
      "name": "python3"
    },
    "language_info": {
      "codemirror_mode": {
        "name": "ipython",
        "version": 3
      },
      "file_extension": ".py",
      "mimetype": "text/x-python",
      "name": "python",
      "nbconvert_exporter": "python",
      "pygments_lexer": "ipython3",
      "version": "3.6.0"
    }
  },
  "nbformat": 4,
  "nbformat_minor": 0
}