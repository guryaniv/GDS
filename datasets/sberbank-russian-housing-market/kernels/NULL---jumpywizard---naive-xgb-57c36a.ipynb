{
  "metadata": {
    "kernelspec": {
      "display_name": "Python 3",
      "language": "python",
      "name": "python3"
    },
    "language_info": {
      "codemirror_mode": {
        "name": "ipython",
        "version": 3
      },
      "file_extension": ".py",
      "mimetype": "text/x-python",
      "name": "python",
      "nbconvert_exporter": "python",
      "pygments_lexer": "ipython3",
      "version": "3.6.0"
    }
  },
  "nbformat": 4,
  "nbformat_minor": 0,
  "cells": [
    {
      "cell_type": "markdown",
      "metadata": {
        "_cell_guid": "ac06cd79-9189-6d2b-9a83-012d19327beb",
        "_active": false
      },
      "source": "Load the required libraries and data. ",
      "outputs": []
    },
    {
      "cell_type": "code",
      "execution_count": 1,
      "metadata": {
        "_cell_guid": "555a1731-6a24-51ed-f194-a47541b955db",
        "_active": false
      },
      "outputs": [],
      "source": "import numpy as np\nimport pandas as pd\nimport matplotlib.pyplot as plt\nimport seaborn as sns\n%matplotlib inline\nfrom sklearn import model_selection, preprocessing\nimport xgboost as xgb\nimport datetime\n#now = datetime.datetime.now()\n\ntrain = pd.read_csv('../input/train.csv')\ntest = pd.read_csv('../input/test.csv')\nmacro = pd.read_csv('../input/macro.csv')\nid_test = test.id\ntrain.sample(3)\n# Any results you write to the current directory are saved as output.",
      "execution_state": "idle"
    },
    {
      "cell_type": "code",
      "execution_count": 2,
      "metadata": {
        "_cell_guid": "030dbd30-c4b0-71ba-4cc6-1a33db762599",
        "_active": false
      },
      "outputs": [],
      "source": "#It seems that this doen't improve anything. \n\n#train[\"timestamp\"] = pd.to_datetime(train[\"timestamp\"])\n#train[\"year\"], train[\"month\"], train[\"day\"] = train[\"timestamp\"].dt.year,train[\"timestamp\"].dt.month,train[\"timestamp\"].dt.day\n\n#test[\"timestamp\"] = pd.to_datetime(test[\"timestamp\"])\n#test[\"year\"], test[\"month\"], test[\"day\"] = test[\"timestamp\"].dt.year,test[\"timestamp\"].dt.month,test[\"timestamp\"].dt.day",
      "execution_state": "idle"
    },
    {
      "cell_type": "code",
      "execution_count": 3,
      "metadata": {
        "_cell_guid": "99278d98-cd21-7952-6391-44a01d2d121b",
        "_active": false
      },
      "outputs": [],
      "source": "\ny_train = train[\"price_doc\"]\nx_train = train.drop([\"id\", \"timestamp\", \"price_doc\"], axis=1)\nx_test = test.drop([\"id\", \"timestamp\"], axis=1)\n\n#can't merge train with test because the kernel run for very long time\n\nfor c in x_train.columns:\n    if x_train[c].dtype == 'object':\n        lbl = preprocessing.LabelEncoder()\n        lbl.fit(list(x_train[c].values)) \n        x_train[c] = lbl.transform(list(x_train[c].values))\n        #x_train.drop(c,axis=1,inplace=True)\n        \nfor c in x_test.columns:\n    if x_test[c].dtype == 'object':\n        lbl = preprocessing.LabelEncoder()\n        lbl.fit(list(x_test[c].values)) \n        x_test[c] = lbl.transform(list(x_test[c].values))\n        #x_test.drop(c,axis=1,inplace=True)        ",
      "execution_state": "idle"
    },
    {
      "cell_type": "code",
      "execution_count": 4,
      "metadata": {
        "_cell_guid": "8af6c180-4e30-8c18-9b93-9dc32a242792",
        "_active": false
      },
      "outputs": [],
      "source": "xgb_params = {\n    'eta': 0.05,\n    'max_depth': 5,\n    'subsample': 0.7,\n    'colsample_bytree': 0.7,\n    'objective': 'reg:linear',\n    'eval_metric': 'rmse',\n    'silent': 1\n}\n\ndtrain = xgb.DMatrix(x_train, y_train)\ndtest = xgb.DMatrix(x_test)",
      "execution_state": "idle"
    },
    {
      "cell_type": "code",
      "execution_count": 5,
      "metadata": {
        "_cell_guid": "6fef7514-5663-5363-6083-6d7dfc6fb25e",
        "_active": false
      },
      "outputs": [],
      "source": "cv_output = xgb.cv(xgb_params, dtrain, num_boost_round=1000, early_stopping_rounds=20,\n    verbose_eval=50, show_stdv=False)\ncv_output[['train-rmse-mean', 'test-rmse-mean']].plot()",
      "execution_state": "idle"
    },
    {
      "cell_type": "code",
      "execution_count": 6,
      "metadata": {
        "_cell_guid": "a96d1965-8328-35b0-d0a3-dfcfa77275ab",
        "_active": false
      },
      "outputs": [],
      "source": "num_boost_rounds = len(cv_output)\nmodel = xgb.train(dict(xgb_params, silent=0), dtrain, num_boost_round= num_boost_rounds)",
      "execution_state": "idle"
    },
    {
      "cell_type": "code",
      "execution_count": 7,
      "metadata": {
        "_cell_guid": "2a04f7d8-3efa-df54-713e-f6222453c60b",
        "_active": false
      },
      "outputs": [],
      "source": "fig, ax = plt.subplots(1, 1, figsize=(8, 13))\nxgb.plot_importance(model, max_num_features=50, height=0.5, ax=ax)",
      "execution_state": "idle"
    },
    {
      "cell_type": "code",
      "execution_count": 8,
      "metadata": {
        "_cell_guid": "27d0831f-df36-2608-b11a-a335c9a79613",
        "_active": false
      },
      "outputs": [],
      "source": "y_predict = model.predict(dtest)\noutput = pd.DataFrame({'id': id_test, 'price_doc': y_predict})\noutput.head()",
      "execution_state": "idle"
    },
    {
      "cell_type": "code",
      "execution_count": 9,
      "metadata": {
        "_cell_guid": "0a5dbdee-3e96-aded-9c71-2e2c72af3e5a",
        "_active": false
      },
      "outputs": [],
      "source": "output.to_csv('xgbSub.csv', index=False)",
      "execution_state": "idle"
    }
  ]
}