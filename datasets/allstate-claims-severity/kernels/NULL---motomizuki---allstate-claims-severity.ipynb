{
  "cells": [
    {
      "cell_type": "code",
      "execution_count": null,
      "metadata": {
        "_cell_guid": "a6673012-aeb4-66d1-c381-b1210cee63bd"
      },
      "outputs": [],
      "source": [
        "import pandas as pd\n",
        "import numpy as np\n",
        "from keras.models import Sequential\n",
        "from keras.layers import Dense, Activation, Dropout\n",
        "from keras.callbacks import EarlyStopping\n",
        "from sklearn.feature_extraction import DictVectorizer"
      ]
    },
    {
      "cell_type": "code",
      "execution_count": null,
      "metadata": {
        "_cell_guid": "5854cab2-ec69-57b6-584a-333212d7226d"
      },
      "outputs": [],
      "source": [
        "train = pd.read_csv(\"../input/train.csv\").set_index(\"id\")\n",
        "test = pd.read_csv(\"../input/test.csv\").set_index(\"id\")"
      ]
    },
    {
      "cell_type": "code",
      "execution_count": null,
      "metadata": {
        "_cell_guid": "79c07cb9-2484-8869-936f-dc5de80a5eb7"
      },
      "outputs": [],
      "source": [
        "test.head(10)"
      ]
    },
    {
      "cell_type": "code",
      "execution_count": null,
      "metadata": {
        "_cell_guid": "da8cec59-fc09-a103-0e51-fc6f121af370"
      },
      "outputs": [],
      "source": [
        "def prepare_data(data, train=True, dv=None):\n",
        "    cat_keys = [k for k in data.keys() if k.startswith(\"cat\")]\n",
        "    cat_x = data[cat_keys]\n",
        "    cont_keys = [k for k in data.keys() if k.startswith(\"cont\")]\n",
        "    cont_x = data[cont_keys]\n",
        "    if train:\n",
        "        y = data[\"loss\"]\n",
        "    else:\n",
        "        y = None\n",
        "    cat_x_dict = [r[1].to_dict() for r in cat_x.iterrows()]\n",
        "    del cat_x\n",
        "    if dv is None:\n",
        "        dv = DictVectorizer().fit(cat_x_dict)\n",
        "    cat_cont_x = dv.transform(cat_x_dict).toarray()\n",
        "    del cat_x_dict\n",
        "    return np.column_stack([cat_cont_x, cont_x]), y, dv"
      ]
    },
    {
      "cell_type": "code",
      "execution_count": null,
      "metadata": {
        "_cell_guid": "4de041b4-49d9-93ba-07fc-7b18bab38b2a"
      },
      "outputs": [],
      "source": [
        "train_x, train_y, dv = prepare_data(train)\n",
        "test_x, _ , _ = prepare_data(test, False, dv)"
      ]
    },
    {
      "cell_type": "code",
      "execution_count": null,
      "metadata": {
        "_cell_guid": "6e4edff8-fe8d-c68c-8de8-f5e214358880"
      },
      "outputs": [],
      "source": [
        "print(train_x.shape)\n",
        "print(test_x.shape)"
      ]
    },
    {
      "cell_type": "code",
      "execution_count": null,
      "metadata": {
        "_cell_guid": "68918c89-6a83-7347-00e9-775dd9892c98"
      },
      "outputs": [],
      "source": [
        "model = Sequential()\n",
        "model.add(Dense(output_dim=256, input_dim=train_x.shape[1]))\n",
        "model.add(Activation(\"relu\"))\n",
        "model.add(Dropout(0.20))\n",
        "model.add(Dense(output_dim=128))\n",
        "model.add(Activation(\"relu\"))\n",
        "model.add(Dropout(0.30))\n",
        "model.add(Dense(output_dim=64))\n",
        "model.add(Activation(\"relu\"))\n",
        "model.add(Dropout(0.40))\n",
        "model.add(Dense(output_dim=1))\n",
        "model.compile(\"nadam\",\"mae\")"
      ]
    },
    {
      "cell_type": "code",
      "execution_count": null,
      "metadata": {
        "_cell_guid": "1e29aeab-0233-8744-2c8c-6d3fa91804bf"
      },
      "outputs": [],
      "source": [
        "es_cb = EarlyStopping(monitor='val_loss', patience=10, verbose=0, mode='auto')\n",
        "model.fit(train_x, train_y.values, nb_epoch=100, batch_size=256, validation_split=0.1, verbose=2, callbacks=[es_cb])\n",
        "del train_x\n",
        "del train_y\n",
        "del train"
      ]
    },
    {
      "cell_type": "code",
      "execution_count": null,
      "metadata": {
        "_cell_guid": "5c9554ce-0e13-e5ef-e172-7ace664a224f"
      },
      "outputs": [],
      "source": [
        "pred_y = model.predict(test_x)\n",
        "result = pd.DataFrame(pred_y, index=test.index, columns=[\"loss\"])\n",
        "result.to_csv(\"submission.csv\")"
      ]
    }
  ],
  "metadata": {
    "_change_revision": 0,
    "_is_fork": false,
    "kernelspec": {
      "display_name": "Python 3",
      "language": "python",
      "name": "python3"
    },
    "language_info": {
      "codemirror_mode": {
        "name": "ipython",
        "version": 3
      },
      "file_extension": ".py",
      "mimetype": "text/x-python",
      "name": "python",
      "nbconvert_exporter": "python",
      "pygments_lexer": "ipython3",
      "version": "3.5.2"
    }
  },
  "nbformat": 4,
  "nbformat_minor": 0
}