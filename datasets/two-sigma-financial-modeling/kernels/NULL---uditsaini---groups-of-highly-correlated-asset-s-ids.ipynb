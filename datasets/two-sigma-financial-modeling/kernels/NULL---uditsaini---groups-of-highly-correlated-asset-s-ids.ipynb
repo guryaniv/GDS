{
  "cells": [
    {
      "cell_type": "markdown",
      "metadata": {
        "_cell_guid": "5e138e14-b962-fe02-af0f-57db2801c896"
      },
      "source": [
        "cluster asset based on their return correlation**strong text** "
      ]
    },
    {
      "cell_type": "code",
      "execution_count": null,
      "metadata": {
        "_cell_guid": "8b4d8fff-ba09-44a0-a446-02349f85cc1a"
      },
      "outputs": [],
      "source": [
        "# Import all the necessary packages \n",
        "import kagglegym\n",
        "import numpy as np\n",
        "from itertools import chain\n",
        "import pandas as pd\n",
        "from sklearn.ensemble import ExtraTreesRegressor\n",
        "from sklearn.linear_model import LinearRegression, Ridge\n",
        "import math\n",
        "import matplotlib.pyplot as plt\n",
        "%matplotlib inline"
      ]
    },
    {
      "cell_type": "code",
      "execution_count": null,
      "metadata": {
        "_cell_guid": "10a58d2c-63cd-9fef-b2ca-2e3cf1ea4a81"
      },
      "outputs": [],
      "source": [
        "# Read the full data set stored as HDF5 file\n",
        "full_df = pd.read_hdf('../input/train.h5')\n",
        "mean_values = full_df.median(axis=0)\n",
        "full_df=full_df.fillna(mean_values)\n",
        "df=pd.pivot_table(full_df, values='y', index=['timestamp'], columns=['id'], aggfunc=np.sum)\n",
        "df.to_csv('assets.csv',index=False)\n",
        "df=pd.read_csv('assets.csv')"
      ]
    },
    {
      "cell_type": "code",
      "execution_count": null,
      "metadata": {
        "_cell_guid": "ce26ac46-2c31-f23b-2db8-a563b65c399a"
      },
      "outputs": [],
      "source": [
        "cor=df.corr()\n",
        "cor.loc[:,:] =  np.tril(cor, k=-1)\n",
        "cor = cor.stack()"
      ]
    },
    {
      "cell_type": "code",
      "execution_count": null,
      "metadata": {
        "_cell_guid": "a3b5f261-3de2-a539-7983-c6f09211e0e4"
      },
      "outputs": [],
      "source": [
        "ones = cor[cor > 0.5].reset_index().loc[:,['level_0','level_1']]\n",
        "ones = ones.query('level_0 not in level_1')\n",
        "groups=ones.groupby('level_0').agg(lambda x: set(chain(x.level_0,x.level_1))).values\n",
        "print('groups of assets which are correlated on y value more then 0.4')\n",
        "for g,i in zip(groups,range(len(groups))):\n",
        "    print(i,g)"
      ]
    },
    {
      "cell_type": "markdown",
      "metadata": {
        "_cell_guid": "cec44605-0a30-2670-dc2f-483b3fbe1216"
      },
      "source": [
        "This might be helpful to build separate model for asset which are correlated on the values**strong text**\n",
        "\n",
        "Lets plot some groups"
      ]
    },
    {
      "cell_type": "code",
      "execution_count": null,
      "metadata": {
        "_cell_guid": "f538afd4-60d9-8522-0e5b-f1ffdbb7f788"
      },
      "outputs": [],
      "source": [
        "from pylab import rcParams\n",
        "rcParams['figure.figsize'] = 10, 5\n",
        "#rows = np.random.choice(full_df.id, 15)\n",
        "for key, grp in full_df[full_df.id.isin(map(int,list(groups[127][0])))].groupby(['id']): \n",
        "    plt.plot(grp['timestamp'], np.cumsum(grp['y']), label = \"id {0:02d}\".format(key))\n",
        "plt.legend(loc='best')  \n",
        "plt.title('y distribution')\n",
        "plt.show()"
      ]
    },
    {
      "cell_type": "code",
      "execution_count": null,
      "metadata": {
        "_cell_guid": "90d8817a-da04-60f8-4e08-1521ffe1e240"
      },
      "outputs": [],
      "source": [
        "from pylab import rcParams\n",
        "rcParams['figure.figsize'] = 10, 5\n",
        "#rows = np.random.choice(full_df.id, 15)\n",
        "for key, grp in full_df[full_df.id.isin( map(int,list(groups[36][0])))].groupby(['id']): \n",
        "    plt.plot(grp['timestamp'], np.cumsum(grp['y']), label = \"id {0:02d}\".format(key))\n",
        "plt.legend(loc='best')  \n",
        "plt.title('y distribution')\n",
        "plt.show()"
      ]
    },
    {
      "cell_type": "code",
      "execution_count": null,
      "metadata": {
        "_cell_guid": "e238557b-a988-21aa-981c-cc18baf73369"
      },
      "outputs": [],
      "source": [
        "from pylab import rcParams\n",
        "rcParams['figure.figsize'] = 10, 5\n",
        "#rows = np.random.choice(full_df.id, 15)\n",
        "for key, grp in full_df[full_df.id.isin( map(int,list(groups[152][0])))].groupby(['id']): \n",
        "    plt.plot(grp['timestamp'], np.cumsum(grp['y']), label = \"id {0:02d}\".format(key))\n",
        "plt.legend(loc='best')  \n",
        "plt.title('y distribution')\n",
        "plt.show()"
      ]
    },
    {
      "cell_type": "code",
      "execution_count": null,
      "metadata": {
        "_cell_guid": "b1a740e9-05fe-0715-d3ff-86e3ca6a4b14"
      },
      "outputs": [],
      "source": [
        "from pylab import rcParams\n",
        "rcParams['figure.figsize'] = 10, 5\n",
        "#rows = np.random.choice(full_df.id, 15)\n",
        "for key, grp in full_df[full_df.id.isin( map(int,list(groups[162][0])))].groupby(['id']): \n",
        "    plt.plot(grp['timestamp'], np.cumsum(grp['y']), label = \"id {0:02d}\".format(key))\n",
        "plt.legend(loc='best')  \n",
        "plt.title('y distribution')\n",
        "plt.show()"
      ]
    },
    {
      "cell_type": "code",
      "execution_count": null,
      "metadata": {
        "_cell_guid": "86600ea5-8986-d0f2-7b9c-95dd15c6d96e"
      },
      "outputs": [],
      "source": [
        "from pylab import rcParams\n",
        "rcParams['figure.figsize'] = 10, 5\n",
        "#rows = np.random.choice(full_df.id, 15)\n",
        "for key, grp in full_df[full_df.id.isin( map(int,list(groups[23][0])))].groupby(['id']): \n",
        "    plt.plot(grp['timestamp'], np.cumsum(grp['y']), label = \"id {0:02d}\".format(key))\n",
        "plt.legend(loc='best')  \n",
        "plt.title('y distribution')\n",
        "plt.show()"
      ]
    }
  ],
  "metadata": {
    "_change_revision": 0,
    "_is_fork": false,
    "kernelspec": {
      "display_name": "Python 3",
      "language": "python",
      "name": "python3"
    },
    "language_info": {
      "codemirror_mode": {
        "name": "ipython",
        "version": 3
      },
      "file_extension": ".py",
      "mimetype": "text/x-python",
      "name": "python",
      "nbconvert_exporter": "python",
      "pygments_lexer": "ipython3",
      "version": "3.5.2"
    }
  },
  "nbformat": 4,
  "nbformat_minor": 0
}