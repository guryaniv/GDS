{
  "cells": [
    {
      "cell_type": "markdown",
      "metadata": {
        "_cell_guid": "acf0d26e-1595-22f9-895d-afe4ab8d29aa"
      },
      "source": [
        "Machine Learning Attempt on classifying using XGBoost"
      ]
    },
    {
      "cell_type": "code",
      "execution_count": null,
      "metadata": {
        "_cell_guid": "cc1ed874-00ac-6234-9700-89e2f3f6e7b9"
      },
      "outputs": [],
      "source": [
        "import numpy as np # linear algebra\n",
        "import pandas as pd # data processing, CSV file I/O (e.g. pd.read_csv)\n",
        "import seaborn as sns\n",
        "import matplotlib.pyplot as plt\n",
        "\n",
        "# Input data files are available in the \"../input/\" directory.\n",
        "train = pd.read_csv('../input/train.csv')\n",
        "test = pd.read_csv('../input/test.csv')"
      ]
    },
    {
      "cell_type": "code",
      "execution_count": null,
      "metadata": {
        "_cell_guid": "348f9e60-5403-e083-09d2-9200e6c0145f"
      },
      "outputs": [],
      "source": [
        "print ('Training dataset row count is', len(train))\n",
        "print ('Test dataset row count is', len(test))\n",
        "print ('Missing values in Training and Test Data is seen in')\n",
        "print (train.count())\n",
        "print (test.count())\n",
        "print ('A preview of the dataset in Training')\n",
        "print (train.head())"
      ]
    },
    {
      "cell_type": "code",
      "execution_count": null,
      "metadata": {
        "_cell_guid": "9798cbda-5123-a4db-bbbf-b5a20ad17937"
      },
      "outputs": [],
      "source": [
        "print (train.Cabin.value_counts())\n",
        "train['Cabin'] = data['Cabin'].fillna('U')\n",
        "    dataset['Cabin'] = dataset.Cabin.str.extract('([A-Za-z])', expand=False)"
      ]
    },
    {
      "cell_type": "code",
      "execution_count": null,
      "metadata": {
        "_cell_guid": "a773b3b4-4e26-8161-9395-f9b9b0c8ae05"
      },
      "outputs": [],
      "source": [
        "# Replacing the missing values\n",
        "# train - Age, Cabin, Embarked\n",
        "# test - Age, Fare, Cabin\n",
        "\n",
        "# 1. Replace the Age in Train\n",
        "tr_avage = train.Age.mean()\n",
        "tr_sdage = train.Age.std()\n",
        "tr_misage = train.Age.isnull().sum()\n",
        "rand_age = np.random.randint(tr_avage - tr_sdage, tr_avage + tr_sdage, size=tr_misage)\n",
        "train['Age'][np.isnan(train['Age'])] = rand_age\n",
        "train['Age'] = train['Age'].astype(int)\n",
        "\n",
        "# 2. Replace the Age in Test\n",
        "te_avage = test.Age.mean()\n",
        "te_sdage = test.Age.std()\n",
        "te_misage = test.Age.isnull().sum()\n",
        "rand_age = np.random.randint(te_avage - te_sdage, te_avage + te_sdage, size=te_misage)\n",
        "test['Age'][np.isnan(test['Age'])] = rand_age\n",
        "test['Age'] = test['Age'].astype(int)"
      ]
    },
    {
      "cell_type": "code",
      "execution_count": null,
      "metadata": {
        "_cell_guid": "d418f23a-8dc4-771f-c9b2-02bc751e6e4b"
      },
      "outputs": [],
      "source": [
        "# 3. Replace the Embarked in Train\n",
        "# Distribution of Embarked in train S-644, C-168, Q-77\n",
        "train['Embarked'] = train['Embarked'].fillna('S')\n",
        "\n",
        "# 4. Treat the cabin for both test and train as a new varibale \"Is_Cabin\"\n",
        "train['Has_Cabin'] = train[\"Cabin\"].apply(lambda x: 0 if type(x) == float else 1)\n",
        "test['Has_Cabin'] = test[\"Cabin\"].apply(lambda x: 0 if type(x) == float else 1)\n",
        "\n",
        "# 5. Replace the Fare in test with a median value\n",
        "med =  test.Fare.median()\n",
        "test['Fare'] =  test['Fare'].fillna(med)"
      ]
    },
    {
      "cell_type": "code",
      "execution_count": null,
      "metadata": {
        "_cell_guid": "afdd75ba-8ab1-a3ba-de0b-3aa5f8edba78"
      },
      "outputs": [],
      "source": ""
    },
    {
      "cell_type": "code",
      "execution_count": null,
      "metadata": {
        "_cell_guid": "f3d34974-ff8d-8897-417b-9ebcc5e5cbd0"
      },
      "outputs": [],
      "source": [
        "# Create new Features - 1. FamilySize 2. Solo traveller 3. Age bucket\n",
        "\n",
        "# 1. FamilySize\n",
        "train['FamilySize'] = train['SibSp'] + train['Parch']\n",
        "test['FamilySize'] = test['SibSp'] + test['Parch']\n",
        "\n",
        "# 2. Create New Feature Solo Traveller\n",
        "train['Solo'] = train['FamilySize'].apply(lambda x: 0 if x>0 else 1)\n",
        "test['Solo'] = test['FamilySize'].apply(lambda x: 0 if x>0 else 1)\n",
        "\n",
        "# For Train\n",
        "train['Age'] = train['Age'].astype(int)\n",
        "test['Age'] = test['Age'].astype(int)\n",
        "\n",
        "def Age(row):\n",
        "    if row['Age'] < 16:\n",
        "        return 'VY'\n",
        "    elif row['Age'] < 32:\n",
        "        return 'Y'\n",
        "    elif row['Age'] < 48:\n",
        "        return 'M'\n",
        "    elif row['Age'] < 64:\n",
        "        return 'O'\n",
        "    else:\n",
        "        return 'VO'\n",
        "    \n",
        "train['CategoricalAge'] = train.apply(lambda row: Age(row), axis=1)\n",
        "test['CategoricalAge'] = test.apply(lambda row: Age(row), axis=1)"
      ]
    },
    {
      "cell_type": "code",
      "execution_count": null,
      "metadata": {
        "_cell_guid": "bfd57712-92c2-9881-05ab-9ce348297ad2"
      },
      "outputs": [],
      "source": [
        "# Final Feature Selection Droping the ones which may look not necessary\n",
        "drop_list = ['PassengerId', 'Name', 'Cabin', 'Ticket', 'Age']\n",
        "ftrain = train.drop(drop_list, axis = 1)\n",
        "ftest = test.drop(drop_list, axis = 1)"
      ]
    },
    {
      "cell_type": "code",
      "execution_count": null,
      "metadata": {
        "_cell_guid": "9fb10d80-aed7-0bf0-5538-b7adb0603fc6"
      },
      "outputs": [],
      "source": [
        "# labelling the Dataset before passing to a model\n",
        "# 1. Map the variable Sex\n",
        "ftrain['Sex'] = ftrain['Sex'].map( {'female': 0, 'male': 1} ).astype(int)\n",
        "ftest['Sex'] = ftest['Sex'].map( {'female': 0, 'male': 1} ).astype(int)\n",
        "# 2. Map the variable Embarked\n",
        "ftrain['Embarked'] = ftrain['Embarked'].map( {'S': 0, 'C': 1, 'Q': 2} ).astype(int)\n",
        "ftest['Embarked'] = ftest['Embarked'].map( {'S': 0, 'C': 1, 'Q': 2} ).astype(int)\n",
        "# 3. Map the Categorical Age\n",
        "ftrain['CategoricalAge'] = ftrain['CategoricalAge'].map( {'VY': 0, 'Y': 1, 'M': 2, 'O': 3, 'VO': 4} ).astype(int)\n",
        "ftest['CategoricalAge'] = ftest['CategoricalAge'].map( {'VY': 0, 'Y': 1, 'M': 2, 'O': 3, 'VO': 4} ).astype(int)"
      ]
    },
    {
      "cell_type": "code",
      "execution_count": null,
      "metadata": {
        "_cell_guid": "501e38ec-19f6-9ec4-8d57-51069417fa31"
      },
      "outputs": [],
      "source": [
        "# Creating the X and Y for both Train and Test\n",
        "y_train = ftrain['Survived'].ravel()\n",
        "ftrain = ftrain.drop(['Survived'], axis=1)\n",
        "x_train = ftrain.values # Creates an array of the train data\n",
        "x_test = ftest.values # Creats an array of the test data"
      ]
    },
    {
      "cell_type": "code",
      "execution_count": null,
      "metadata": {
        "_cell_guid": "261c5847-8110-9f5a-403d-4aa70fa51d4c"
      },
      "outputs": [],
      "source": [
        "from xgboost import XGBClassifier\n",
        "from sklearn.model_selection import GridSearchCV\n",
        "from sklearn.model_selection import StratifiedKFold\n",
        "from sklearn.preprocessing import LabelEncoder"
      ]
    },
    {
      "cell_type": "code",
      "execution_count": null,
      "metadata": {
        "_cell_guid": "09e3b278-d6bb-3070-1d7f-0864c86e743e"
      },
      "outputs": [],
      "source": [
        "model = XGBClassifier()\n",
        "n_estimators = [110, 120]\n",
        "max_depth = [2, 4, 6, 8]\n",
        "print(max_depth)\n",
        "param_grid = dict(max_depth=max_depth, n_estimators=n_estimators)\n",
        "kfold = StratifiedKFold(n_splits=4, shuffle=True, random_state=7)\n",
        "grid_search = GridSearchCV(model, param_grid, scoring=\"neg_log_loss\", n_jobs=-1, cv=kfold, verbose=1)\n",
        "grid_result = grid_search.fit(x_train, y_train)\n",
        "#model.fit(x_train, label_encoded_y)"
      ]
    },
    {
      "cell_type": "code",
      "execution_count": null,
      "metadata": {
        "_cell_guid": "f6bffa3d-8b5a-b74f-2192-9ec4234d0560"
      },
      "outputs": [],
      "source": [
        "# summarize results\n",
        "print(\"Best: %f using %s\" % (grid_result.best_score_, grid_result.best_params_))\n",
        "means = grid_result.cv_results_['mean_test_score']\n",
        "stds = grid_result.cv_results_['std_test_score']\n",
        "params = grid_result.cv_results_['params']\n",
        "for mean, stdev, param in zip(means, stds, params):\n",
        "\tprint(\"%f (%f) with: %r\" % (mean, stdev, param))\n",
        "# plot results\n",
        "scores = np.array(means).reshape(len(max_depth), len(n_estimators))\n",
        "for i, value in enumerate(max_depth):\n",
        "    plt.plot(n_estimators, scores[i], label='depth: ' + str(value))\n",
        "plt.legend()\n",
        "plt.xlabel('n_estimators')\n",
        "plt.ylabel('Log Loss')\n",
        "plt.show()"
      ]
    },
    {
      "cell_type": "markdown",
      "metadata": {
        "_cell_guid": "7d50ea23-65b2-3716-94f0-e9fd1205fc3b"
      },
      "source": [
        "The above graph indicates the least log_loss for the data set can be achieved using the parameters for the XGBoost as 'max_depth': 2, 'n_estimators': 120. We will now train and fit our dataset using the identified parameters."
      ]
    },
    {
      "cell_type": "code",
      "execution_count": null,
      "metadata": {
        "_cell_guid": "f4d2d159-0371-2370-0868-1b0d0e6107a6"
      },
      "outputs": [],
      "source": [
        "clf2 = XGBClassifier(max_depth=2, n_estimators=120)\n",
        "clf2.fit(x_train, y_train)\n",
        "pred2 = clf2.predict(x_test)"
      ]
    },
    {
      "cell_type": "code",
      "execution_count": null,
      "metadata": {
        "_cell_guid": "9deb10cf-70da-b6d7-4e66-8b1d438c1a7c"
      },
      "outputs": [],
      "source": [
        "final_sub2 = pd.DataFrame({ 'PassengerId': test.PassengerId,\n",
        "                            'Survived': pred2 })\n",
        "final_sub2.to_csv(\"Sub4.csv\", index=False)"
      ]
    },
    {
      "cell_type": "code",
      "execution_count": null,
      "metadata": {
        "_cell_guid": "12b8e7d1-ed7d-8105-fa2c-8250b57c641f"
      },
      "outputs": [],
      "source": [
        ""
      ]
    }
  ],
  "metadata": {
    "_change_revision": 0,
    "_is_fork": false,
    "kernelspec": {
      "display_name": "Python 3",
      "language": "python",
      "name": "python3"
    },
    "language_info": {
      "codemirror_mode": {
        "name": "ipython",
        "version": 3
      },
      "file_extension": ".py",
      "mimetype": "text/x-python",
      "name": "python",
      "nbconvert_exporter": "python",
      "pygments_lexer": "ipython3",
      "version": "3.6.0"
    }
  },
  "nbformat": 4,
  "nbformat_minor": 0
}