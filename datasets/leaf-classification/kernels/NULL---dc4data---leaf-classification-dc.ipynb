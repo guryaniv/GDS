{
  "cells": [
    {
      "cell_type": "code",
      "execution_count": null,
      "metadata": {
        "_cell_guid": "7c33addb-8665-89b9-c718-8962509f1f31"
      },
      "outputs": [],
      "source": [
        "import pandas as pd\n",
        "import numpy as np\n",
        "import csv as csv\n",
        "from sklearn.ensemble import RandomForestClassifier\n",
        "\n",
        "train = pd.read_csv(open('../input/train.csv','rb'))\n",
        "test = pd.read_csv(open('../input/test.csv','rb'))\n",
        "print(test.head(5))\n",
        "print(train.head(5))\n",
        "print(test.head(5))\n",
        "\n",
        "print(len(train.columns))\n",
        "\n",
        "train_backup = train\n",
        "train_predictors = train.drop('species', axis=1)\n",
        "train_predictors = train.drop('id', axis=1)\n",
        "\n",
        "# Import module for Random forest\n",
        "import sklearn.ensemble\n",
        "\n",
        "# Select predictors\n",
        "predictors = train_predictors  # change this\n",
        "\n",
        "# Converting the predictor and putcome to numpy array\n",
        "x_train = train_predictors.values\n",
        "y_train = train['species'].values\n",
        "\n",
        "# Model building\n",
        "model = sklearn.ensemble.RandomForestClassifier()\n",
        "model.fit(x_train, y_train)\n",
        "\n",
        "# Converting the predictor and putcome to numpy array\n",
        "test_predictors = test.drop('id', axis=1)\n",
        "x_test = test_predictors.values\n",
        "\n",
        "# Predicted output\n",
        "predicted = model.predict(x_test)\n",
        "\n",
        "# Reverse encoding for predicted outcome\n",
        "# predicted = number.inverse_transform(predicted)\n",
        "\n",
        "# Store it to a test dataset\n",
        "test['Label'] = predicted\n",
        "test['id'] = test.id\n",
        "print(test.head(5))\n",
        "\n",
        "print(type(test))\n",
        "print(test.head(5))\n",
        "print(test.columns)"
      ]
    },
    {
      "cell_type": "code",
      "execution_count": null,
      "metadata": {
        "_cell_guid": "45fefd0e-6ca2-19a4-c660-ed581ac70b57"
      },
      "outputs": [],
      "source": [
        "print(len(test.columns))\n",
        "slice2 = test[['ImageId','Label']]\n",
        "slice2.to_csv(\"LeafClass.csv\")"
      ]
    },
    {
      "cell_type": "code",
      "execution_count": null,
      "metadata": {
        "_cell_guid": "22662c1d-b0b4-e536-466b-4a473f3a68ee"
      },
      "outputs": [],
      "source": ""
    }
  ],
  "metadata": {
    "_change_revision": 0,
    "_is_fork": false,
    "kernelspec": {
      "display_name": "Python 3",
      "language": "python",
      "name": "python3"
    },
    "language_info": {
      "codemirror_mode": {
        "name": "ipython",
        "version": 3
      },
      "file_extension": ".py",
      "mimetype": "text/x-python",
      "name": "python",
      "nbconvert_exporter": "python",
      "pygments_lexer": "ipython3",
      "version": "3.5.2"
    }
  },
  "nbformat": 4,
  "nbformat_minor": 0
}