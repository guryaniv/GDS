{
  "metadata": {
    "kernelspec": {
      "display_name": "Python 3",
      "language": "python",
      "name": "python3"
    },
    "language_info": {
      "codemirror_mode": {
        "name": "ipython",
        "version": 3
      },
      "file_extension": ".py",
      "mimetype": "text/x-python",
      "name": "python",
      "nbconvert_exporter": "python",
      "pygments_lexer": "ipython3",
      "version": "3.6.0"
    }
  },
  "nbformat": 4,
  "nbformat_minor": 0,
  "cells": [
    {
      "metadata": {
        "_cell_guid": "01d07866-423b-88ac-ee2c-9645101a4315",
        "_active": true,
        "collapsed": false
      },
      "source": "# This Python 3 environment comes with many helpful analytics libraries installed\n# It is defined by the kaggle/python docker image: https://github.com/kaggle/docker-python\n# For example, here's several helpful packages to load in \n\nimport numpy as np # linear algebra\nimport pandas as pd # data processing, CSV file I/O (e.g. pd.read_csv)\n\n# Input data files are available in the \"../input/\" directory.\n# For example, running this (by clicking run or pressing Shift+Enter) will list the files in the input directory\n\nfrom subprocess import check_output\nprint(check_output([\"ls\", \"../input\"]).decode(\"utf8\"))\n\n# Any results you write to the current directory are saved as output.",
      "execution_count": null,
      "cell_type": "code",
      "outputs": [],
      "execution_state": "idle"
    },
    {
      "metadata": {
        "_cell_guid": "338f34da-c309-70f8-fcc2-488c25e96ba1",
        "_active": false,
        "collapsed": false
      },
      "source": "\n\n\n\nimport dicom # for reading dicom files\nimport os # for doing directory operations \nimport pandas as pd # for some simple data analysis (right now, just to load in the labels data and quickly reference it)\nimport matplotlib.pyplot as plt\nimport cv2\nimport numpy as np\nimport math\n\ndef chunks(l, n):\n    # Credit: Ned Batchelder\n    # Link: http://stackoverflow.com/questions/312443/how-do-you-split-a-list-into-evenly-sized-chunks\n    \"\"\"Yield successive n-sized chunks from l.\"\"\"\n    for i in range(0, len(l), n):\n        yield l[i:i + n]\n\ndef mean(l):\n    return sum(l) / len(l)\n\nIMG_PX_SIZE = 150\nHM_SLICES = 20\n\ndata_dir = '../input/sample_images/'\npatients = os.listdir(data_dir)\nlabels_df = pd.read_csv('../input/stage1_labels.csv', index_col=0)\n\nfor patient in patients[:10]:\n    try:\n        label = labels_df.get_value(patient, 'cancer')\n        path = data_dir + patient\n        slices = [dicom.read_file(path + '/' + s) for s in os.listdir(path)]\n        slices.sort(key = lambda x: int(x.ImagePositionPatient[2]))\n        new_slices = []\n\n        slices = [cv2.resize(np.array(each_slice.pixel_array),(IMG_PX_SIZE,IMG_PX_SIZE)) for each_slice in slices]\n\n        chunk_sizes = math.ceil(len(slices) / HM_SLICES)\n\n\n        for slice_chunk in chunks(slices, chunk_sizes):\n            slice_chunk = list(map(mean, zip(*slice_chunk)))\n            new_slices.append(slice_chunk)\n\n        if len(new_slices) == HM_SLICES-1:\n            new_slices.append(new_slices[-1])\n\n        if len(new_slices) == HM_SLICES-2:\n            new_slices.append(new_slices[-1])\n            new_slices.append(new_slices[-1])\n\n        if len(new_slices) == HM_SLICES+2:\n            new_val = list(map(mean, zip(*[new_slices[HM_SLICES-1],new_slices[HM_SLICES],])))\n            del new_slices[HM_SLICES]\n            new_slices[HM_SLICES-1] = new_val\n\n        if len(new_slices) == HM_SLICES+1:\n            new_val = list(map(mean, zip(*[new_slices[HM_SLICES-1],new_slices[HM_SLICES],])))\n            del new_slices[HM_SLICES]\n            new_slices[HM_SLICES-1] = new_val\n\n        print(len(slices), len(new_slices))\n    except Exception as e:\n        # again, some patients are not labeled, but JIC we still want the error if something\n        # else is wrong with our code\n        print(str(e))\n    \n    fig = plt.figure()\n    for num,each_slice in enumerate(new_slices):\n        y = fig.add_subplot(4,5,num+1)\n        y.imshow(each_slice, cmap='gray')\n    plt.show()",
      "execution_count": null,
      "cell_type": "code",
      "outputs": [],
      "execution_state": "idle"
    },
    {
      "metadata": {
        "_cell_guid": "03c4f0b0-9649-b477-6403-e50b3ab39f05",
        "_active": false,
        "collapsed": false
      },
      "source": "import numpy as np\nimport pandas as pd\nimport dicom\nimport os\nimport matplotlib.pyplot as plt\nimport cv2\nimport math\n\nIMG_SIZE_PX = 50\nSLICE_COUNT = 20\n\ndef chunks(l, n):\n    # Credit: Ned Batchelder\n    # Link: http://stackoverflow.com/questions/312443/how-do-you-split-a-list-into-evenly-sized-chunks\n    \"\"\"Yield successive n-sized chunks from l.\"\"\"\n    for i in range(0, len(l), n):\n        yield l[i:i + n]\n\n\ndef mean(a):\n    return sum(a) / len(a)\n\n\ndef process_data(patient,labels_df,img_px_size=50, hm_slices=20, visualize=False):\n    \n    label = labels_df.get_value(patient, 'cancer')\n    path = data_dir + patient\n    slices = [dicom.read_file(path + '/' + s) for s in os.listdir(path)]\n    slices.sort(key = lambda x: int(x.ImagePositionPatient[2]))\n\n    new_slices = []\n    slices = [cv2.resize(np.array(each_slice.pixel_array),(img_px_size,img_px_size)) for each_slice in slices]\n    \n    chunk_sizes = math.ceil(len(slices) / hm_slices)\n    for slice_chunk in chunks(slices, chunk_sizes):\n        slice_chunk = list(map(mean, zip(*slice_chunk)))\n        new_slices.append(slice_chunk)\n\n    if len(new_slices) == hm_slices-1:\n        new_slices.append(new_slices[-1])\n\n    if len(new_slices) == hm_slices-2:\n        new_slices.append(new_slices[-1])\n        new_slices.append(new_slices[-1])\n\n    if len(new_slices) == hm_slices+2:\n        new_val = list(map(mean, zip(*[new_slices[hm_slices-1],new_slices[hm_slices],])))\n        del new_slices[hm_slices]\n        new_slices[hm_slices-1] = new_val\n        \n    if len(new_slices) == hm_slices+1:\n        new_val = list(map(mean, zip(*[new_slices[hm_slices-1],new_slices[hm_slices],])))\n        del new_slices[hm_slices]\n        new_slices[hm_slices-1] = new_val\n\n    if visualize:\n        fig = plt.figure()\n        for num,each_slice in enumerate(new_slices):\n            y = fig.add_subplot(4,5,num+1)\n            y.imshow(each_slice, cmap='gray')\n        plt.show()\n\n    if label == 1: label=np.array([0,1])\n    elif label == 0: label=np.array([1,0])\n        \n    return np.array(new_slices),label\n\n#                                               stage 1 for real.\ndata_dir = '../input/sample_images/'\npatients = os.listdir(data_dir)\nlabels = pd.read_csv('../input/stage1_labels.csv', index_col=0)\n\nmuch_data = []\nfor num,patient in enumerate(patients):\n    if num % 100 == 0:\n        print(num)\n    try:\n        img_data,label = process_data(patient,labels,img_px_size=IMG_SIZE_PX, hm_slices=SLICE_COUNT)\n        #print(img_data.shape,label)\n        much_data.append([img_data,label])\n    except KeyError as e:\n        print('This is unlabeled data!')\n\nnp.save('muchdata-{}-{}-{}.npy'.format(IMG_SIZE_PX,IMG_SIZE_PX,SLICE_COUNT), much_data)",
      "execution_count": null,
      "cell_type": "code",
      "outputs": [],
      "execution_state": "idle"
    },
    {
      "metadata": {
        "_cell_guid": "27152d45-34d4-1c21-9383-9250413f36ff",
        "_active": false,
        "collapsed": false
      },
      "source": "\n\nimport tensorflow as tf\nimport numpy as np\n\nIMG_SIZE_PX = 50\nSLICE_COUNT = 20\n\nn_classes = 2\nbatch_size = 10\n\nx = tf.placeholder('float')\ny = tf.placeholder('float')\n\nkeep_rate = 0.8\n\n",
      "execution_count": null,
      "cell_type": "code",
      "outputs": [],
      "execution_state": "idle"
    },
    {
      "metadata": {
        "_cell_guid": "2f398815-6617-092d-f5e6-95e696d0d0bd",
        "_active": false,
        "collapsed": false
      },
      "source": "def conv3d(x, W):\n    return tf.nn.conv3d(x, W, strides=[1,1,1,1,1], padding='SAME')\n\ndef maxpool3d(x):\n    #                        size of window         movement of window as you slide about\n    return tf.nn.max_pool3d(x, ksize=[1,2,2,2,1], strides=[1,2,2,2,1], padding='SAME')",
      "execution_count": null,
      "cell_type": "code",
      "outputs": [],
      "execution_state": "idle"
    },
    {
      "metadata": {
        "_cell_guid": "bb030879-069f-44b1-a621-2262d56eac97",
        "_active": false,
        "collapsed": false
      },
      "source": "def convolutional_neural_network(x):\n    #                # 5 x 5 x 5 patches, 1 channel, 32 features to compute.\n    weights = {'W_conv1':tf.Variable(tf.random_normal([3,3,3,1,32])),\n               #       5 x 5 x 5 patches, 32 channels, 64 features to compute.\n               'W_conv2':tf.Variable(tf.random_normal([3,3,3,32,64])),\n               #                                  64 features\n               'W_fc':tf.Variable(tf.random_normal([54080,1024])),\n               'out':tf.Variable(tf.random_normal([1024, n_classes]))}\n\n    biases = {'b_conv1':tf.Variable(tf.random_normal([32])),\n               'b_conv2':tf.Variable(tf.random_normal([64])),\n               'b_fc':tf.Variable(tf.random_normal([1024])),\n               'out':tf.Variable(tf.random_normal([n_classes]))}\n\n    #                            image X      image Y        image Z\n    x = tf.reshape(x, shape=[-1, IMG_SIZE_PX, IMG_SIZE_PX, SLICE_COUNT, 1])\n\n    conv1 = tf.nn.relu(conv3d(x, weights['W_conv1']) + biases['b_conv1'])\n    conv1 = maxpool3d(conv1)\n\n\n    conv2 = tf.nn.relu(conv3d(conv1, weights['W_conv2']) + biases['b_conv2'])\n    conv2 = maxpool3d(conv2)\n\n    fc = tf.reshape(conv2,[-1, 54080])\n    fc = tf.nn.relu(tf.matmul(fc, weights['W_fc'])+biases['b_fc'])\n    fc = tf.nn.dropout(fc, keep_rate)\n\n    output = tf.matmul(fc, weights['out'])+biases['out']\n\n    return output",
      "execution_count": null,
      "cell_type": "code",
      "outputs": [],
      "execution_state": "idle"
    },
    {
      "metadata": {
        "_cell_guid": "27b1aefd-e1f4-ac1a-d870-378d672a644b",
        "_active": false,
        "collapsed": false
      },
      "source": "much_data = np.load('muchdata-50-50-20.npy')\n# If you are working with the basic sample data, use maybe 2 instead of 100 here... you don't have enough data to really do this\ntrain_data = much_data[:-100]\nvalidation_data = much_data[-100:]\n\n\ndef train_neural_network(x):\n    prediction = convolutional_neural_network(x)\n    cost = tf.reduce_mean( tf.nn.softmax_cross_entropy_with_logits(prediction,y) )\n    optimizer = tf.train.AdamOptimizer(learning_rate=1e-3).minimize(cost)\n    \n    hm_epochs = 10\n    with tf.Session() as sess:\n        sess.run(tf.initialize_all_variables())\n        \n        successful_runs = 0\n        total_runs = 0\n        \n        for epoch in range(hm_epochs):\n            epoch_loss = 0\n            for data in train_data:\n                total_runs += 1\n                try:\n                    X = data[0]\n                    Y = data[1]\n                    _, c = sess.run([optimizer, cost], feed_dict={x: X, y: Y})\n                    epoch_loss += c\n                    successful_runs += 1\n                except Exception as e:\n                    # I am passing for the sake of notebook space, but we are getting 1 shaping issue from one \n                    # input tensor. Not sure why, will have to look into it. Guessing it's\n                    # one of the depths that doesn't come to 20.\n                    pass\n                    #print(str(e))\n            \n            print('Epoch', epoch+1, 'completed out of',hm_epochs,'loss:',epoch_loss)\n\n            correct = tf.equal(tf.argmax(prediction, 1), tf.argmax(y, 1))\n            accuracy = tf.reduce_mean(tf.cast(correct, 'float'))\n\n            print('Accuracy:',accuracy.eval({x:[i[0] for i in validation_data], y:[i[1] for i in validation_data]}))\n            \n        print('Done. Finishing accuracy:')\n        print('Accuracy:',accuracy.eval({x:[i[0] for i in validation_data], y:[i[1] for i in validation_data]}))\n        \n        print('fitment percent:',successful_runs/total_runs)\n\n# Run this locally:\n# train_neural_network(x)",
      "execution_count": 10,
      "cell_type": "code",
      "outputs": [],
      "execution_state": "idle"
    },
    {
      "metadata": {
        "_cell_guid": "4f31bd2a-ea5f-4975-ff5c-efc180f5b7b1",
        "_active": false,
        "collapsed": false
      },
      "source": "\n\nlabels_df.cancer.value_counts()\n\n",
      "execution_count": 10,
      "cell_type": "code",
      "outputs": [],
      "execution_state": "idle"
    },
    {
      "metadata": {
        "_cell_guid": "6de7cd1d-1c1f-03a2-4e52-00ecaf9cc496",
        "_active": false,
        "collapsed": false
      },
      "source": "\n\nlabels_df.ix[-100:].cancer.value_counts()\n\n",
      "execution_count": 11,
      "cell_type": "code",
      "outputs": [],
      "execution_state": "idle"
    }
  ]
}