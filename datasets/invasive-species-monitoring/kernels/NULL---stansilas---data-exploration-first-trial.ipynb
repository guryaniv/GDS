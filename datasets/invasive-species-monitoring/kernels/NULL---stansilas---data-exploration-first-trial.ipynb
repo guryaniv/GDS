{
  "cells": [
    {
      "cell_type": "markdown",
      "metadata": {
        "_cell_guid": "8fd673aa-d2cf-8fd4-727d-ddb1c0304922"
      },
      "source": [
        "A first attempt at exploring data"
      ]
    },
    {
      "cell_type": "code",
      "execution_count": null,
      "metadata": {
        "_cell_guid": "e9f8a0a1-622f-02ac-f0d8-9ecfc1dba09e"
      },
      "outputs": [],
      "source": [
        "import numpy as np # linear algebra\n",
        "import pandas as pd # data processing, CSV file I/O (e.g. pd.read_csv)\n",
        "import os\n",
        "import gc\n",
        "import matplotlib.pyplot as plt\n",
        "import seaborn as sns\n",
        "%matplotlib inline\n",
        "\n",
        "import os \n",
        "from scipy import ndimage\n",
        "from subprocess import check_output\n",
        "\n",
        "import cv2\n",
        "\n",
        "\n",
        "pal = sns.color_palette()\n",
        "\n",
        "import plotly.offline as py\n",
        "py.init_notebook_mode(connected=True)\n",
        "import plotly.graph_objs as go\n",
        "import plotly.tools as tls\n",
        "\n",
        "print('# File sizes')\n",
        "for f in os.listdir('../input'):\n",
        "    if not os.path.isdir('../input/' + f):\n",
        "        print(f.ljust(30) + str(round(os.path.getsize('../input/' + f) / 1000000, 2)) + 'MB')\n",
        "    else:\n",
        "        sizes = [os.path.getsize('../input/'+f+'/'+x)/1000000 for x in os.listdir('../input/' + f)]\n",
        "        print(f.ljust(30) + str(round(sum(sizes), 2)) + 'MB' + ' ({} files)'.format(len(sizes)))"
      ]
    },
    {
      "cell_type": "code",
      "execution_count": null,
      "metadata": {
        "_cell_guid": "b68c2eda-270c-699b-72fa-d7ec6681eb45"
      },
      "outputs": [],
      "source": [
        "df_train_labels = pd.read_csv('../input/train_labels.csv')\n",
        "df_train_labels.head()"
      ]
    },
    {
      "cell_type": "code",
      "execution_count": null,
      "metadata": {
        "_cell_guid": "8185a5b3-23dc-d958-2829-a430da8d8c41"
      },
      "outputs": [],
      "source": [
        "df_train_labels.describe()\n",
        "print (\"Invasive\")\n",
        "print (df_train_labels[df_train_labels.invasive == 1].describe())\n",
        "print ()\n",
        "print (\"Non-Invasive\")\n",
        "print (df_train_labels[df_train_labels.invasive == 0].describe())"
      ]
    },
    {
      "cell_type": "markdown",
      "metadata": {
        "_cell_guid": "d407ba3e-c6a9-ef2e-b5e2-ac50fb9f9536"
      },
      "source": [
        "  \n",
        "\n",
        "So We have 1448 being labelled as invasive. (i.e label = 1)\n",
        "-----------------------------------------------------------\n",
        "\n",
        "And we have 847 being labelled as non invasive (i.e label = 0)\n",
        "------------------------------------------------------------------------"
      ]
    },
    {
      "cell_type": "markdown",
      "metadata": {
        "_cell_guid": "5858cec6-9ac8-b8f3-75be-8ea76f8a788a"
      },
      "source": [
        "__________________________________________________________________________\n",
        "Let us take a look at few of the train data along with the labels.\n",
        "___________________________________________________________________________"
      ]
    },
    {
      "cell_type": "code",
      "execution_count": null,
      "metadata": {
        "_cell_guid": "82be0907-c7fd-0fe5-e2aa-417ac940ca2a"
      },
      "outputs": [],
      "source": [
        "import cv2\n",
        "\n",
        "new_style = {'grid': False}\n",
        "plt.rc('axes', **new_style)\n",
        "_, ax = plt.subplots(4, 4, sharex='col', sharey='row', figsize=(20, 20))\n",
        "i = 0\n",
        "for f, l in df_train_labels[:16].values:\n",
        "    img = cv2.imread('../input/train/{}.jpg'.format(f))\n",
        "    ax[i // 4, i % 4].imshow(cv2.cvtColor(img, cv2.COLOR_BGR2RGB))\n",
        "    ax[i // 4, i % 4].set_title('{} - {}'.format(f, l))\n",
        "    \n",
        "    i += 1\n",
        "    \n",
        "plt.show()"
      ]
    },
    {
      "cell_type": "code",
      "execution_count": null,
      "metadata": {
        "_cell_guid": "e4deb9db-3bd5-5491-e1a1-b96affcc2b74"
      },
      "outputs": [],
      "source": [
        "#So the pictures that have a flower are '1' and are invasive.\n",
        "#The pictures with no flowers are '0' and are not of interest to us."
      ]
    },
    {
      "cell_type": "code",
      "execution_count": null,
      "metadata": {
        "_cell_guid": "67cd0e95-1dc5-1744-dd51-f761b3068e3a"
      },
      "outputs": [],
      "source": [
        "# Plots # to add more analysis later"
      ]
    },
    {
      "cell_type": "code",
      "execution_count": null,
      "metadata": {
        "_cell_guid": "6917e1a6-0bc8-00b6-6fcc-366375d7bc8a"
      },
      "outputs": [],
      "source": [
        "#img_rows, img_cols= 866,1154\n",
        "#im_array = cv2.imread('../input/train/3.jpg',0)\n",
        "#template = np.zeros([ img_rows, img_cols], dtype='uint8') # initialisation of the template\n",
        "#template[:, :] = im_array[0:866,0:1154] # \n",
        "\n",
        "#plt.subplots(figsize=(10, 7))\n",
        "#plt.subplot(121),plt.imshow(template, cmap='gray') \n",
        "#plt.subplot(122), plt.imshow(im_array, cmap='gray')"
      ]
    }
  ],
  "metadata": {
    "_change_revision": 0,
    "_is_fork": false,
    "kernelspec": {
      "display_name": "Python 3",
      "language": "python",
      "name": "python3"
    },
    "language_info": {
      "codemirror_mode": {
        "name": "ipython",
        "version": 3
      },
      "file_extension": ".py",
      "mimetype": "text/x-python",
      "name": "python",
      "nbconvert_exporter": "python",
      "pygments_lexer": "ipython3",
      "version": "3.6.0"
    }
  },
  "nbformat": 4,
  "nbformat_minor": 0
}