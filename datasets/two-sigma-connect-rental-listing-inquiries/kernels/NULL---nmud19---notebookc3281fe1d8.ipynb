{
  "cells": [
    {
      "cell_type": "markdown",
      "metadata": {
        "_cell_guid": "190438aa-9a40-ff0a-48b3-544fbf39d72a"
      },
      "source": [
        "## EDA - Features##"
      ]
    },
    {
      "cell_type": "code",
      "execution_count": null,
      "metadata": {
        "_cell_guid": "a292ec11-9901-db2d-dd4b-5ab9bb491b5e"
      },
      "outputs": [],
      "source": [
        "# This Python 3 environment comes with many helpful analytics libraries installed\n",
        "# It is defined by the kaggle/python docker image: https://github.com/kaggle/docker-python\n",
        "# For example, here's several helpful packages to load in \n",
        "\n",
        "import numpy as np # linear algebra\n",
        "import pandas as pd # data processing, CSV file I/O (e.g. pd.read_csv)\n",
        "\n",
        "# Input data files are available in the \"../input/\" directory.\n",
        "# For example, running this (by clicking run or pressing Shift+Enter) will list the files in the input directory\n",
        "\n",
        "from subprocess import check_output\n",
        "print(check_output([\"ls\", \"../input\"]).decode(\"utf8\"))\n",
        "\n",
        "# Any results you write to the current directory are saved as output."
      ]
    },
    {
      "cell_type": "code",
      "execution_count": null,
      "metadata": {
        "_cell_guid": "fe5f0e51-885c-279b-c81e-6dfffcbea0e1"
      },
      "outputs": [],
      "source": [
        "train = pd.read_json(\"../input/train.json\")\n",
        "test = pd.read_json(\"../input/test.json\")"
      ]
    },
    {
      "cell_type": "code",
      "execution_count": null,
      "metadata": {
        "_cell_guid": "70d842f3-b581-a44e-96ec-e41e42e24491"
      },
      "outputs": [],
      "source": [
        "train.features"
      ]
    },
    {
      "cell_type": "code",
      "execution_count": null,
      "metadata": {
        "_cell_guid": "299afc8c-0e3e-6ef6-cf48-c7d18d79d205"
      },
      "outputs": [],
      "source": [
        "type(train.features.iloc[1])"
      ]
    },
    {
      "cell_type": "markdown",
      "metadata": {
        "_cell_guid": "4e270f0e-46eb-199d-4af8-a6a5c1eb344b"
      },
      "source": [
        "Convert all features in lower cases"
      ]
    },
    {
      "cell_type": "code",
      "execution_count": null,
      "metadata": {
        "_cell_guid": "4925e1b7-00c1-0345-e28e-21473a72a11c"
      },
      "outputs": [],
      "source": [
        "df = pd.concat([train[test.columns], test])"
      ]
    },
    {
      "cell_type": "code",
      "execution_count": null,
      "metadata": {
        "_cell_guid": "5c7c9c0d-9ae4-a567-dfdd-2bd827fe96d6"
      },
      "outputs": [],
      "source": [
        "def convert_lower(x):\n",
        "    return [x1.lower() for x1 in x]"
      ]
    },
    {
      "cell_type": "code",
      "execution_count": null,
      "metadata": {
        "_cell_guid": "80ce0036-af8a-6671-83d1-dae0ba440400"
      },
      "outputs": [],
      "source": [
        "df[\"features2\"] = df.features.apply(lambda x : convert_lower(x) )"
      ]
    },
    {
      "cell_type": "code",
      "execution_count": null,
      "metadata": {
        "_cell_guid": "c42cf1b2-37d4-1ced-daa2-0c3de29f4475"
      },
      "outputs": [],
      "source": [
        "df[\"features2\"]"
      ]
    }
  ],
  "metadata": {
    "_change_revision": 0,
    "_is_fork": false,
    "kernelspec": {
      "display_name": "Python 3",
      "language": "python",
      "name": "python3"
    },
    "language_info": {
      "codemirror_mode": {
        "name": "ipython",
        "version": 3
      },
      "file_extension": ".py",
      "mimetype": "text/x-python",
      "name": "python",
      "nbconvert_exporter": "python",
      "pygments_lexer": "ipython3",
      "version": "3.6.0"
    }
  },
  "nbformat": 4,
  "nbformat_minor": 0
}