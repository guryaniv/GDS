{
  "cells": [
    {
      "cell_type": "markdown",
      "metadata": {
        "_cell_guid": "7e5f82a7-a6b7-ca0b-f8ec-b9e8a2bfa72e"
      },
      "source": [
        " 1. scale inputs\n",
        " 2. one-hot encode species\n",
        " 3. split training data\n",
        " 4. build a 3 layer DNN\n",
        " 5. train\n",
        " 6. test accuracy"
      ]
    },
    {
      "cell_type": "code",
      "execution_count": null,
      "metadata": {
        "_cell_guid": "e58003a4-7840-0e3c-9150-dc3855ce139f"
      },
      "outputs": [],
      "source": [
        "import tensorflow.contrib.learn as skflow\n",
        "import tensorflow as tf\n",
        "import pandas as pd\n",
        "from sklearn.preprocessing import LabelEncoder\n",
        "from sklearn.preprocessing import StandardScaler\n",
        "from sklearn import metrics\n",
        "from sklearn.model_selection import train_test_split\n",
        "\n",
        "train = pd.read_csv('../input/train.csv')\n",
        "test = pd.read_csv('../input/test.csv')\n",
        "\n",
        "def encode(train, test):\n",
        "    label_encoder = LabelEncoder().fit(train.species)\n",
        "    labels = label_encoder.transform(train.species)\n",
        "    classes = list(label_encoder.classes_)\n",
        "\n",
        "    train = train.drop(['species', 'id'], axis=1)\n",
        "    scaler = StandardScaler().fit(train.values)\n",
        "    scaled_train = scaler.transform(train.values)\n",
        "    \n",
        "    test = test.drop('id', axis=1)\n",
        "    scaled_test = scaler.transform(test.values)\n",
        "\n",
        "    return scaled_train, labels, scaled_test, classes\n",
        "\n",
        "train_values, labels, test_values, classes = encode(train, test)\n",
        "\n",
        "X_train, X_test, y_train, y_test = train_test_split(train_values, labels)\n",
        "\n",
        "feature_columns = [tf.contrib.layers.real_valued_column(\"\", dimension=X_train.shape[0])]\n",
        "n_classes = len(classes)\n",
        "nn_shape = [\n",
        "    int(n_classes*1.5),\n",
        "    int(n_classes*2.5),\n",
        "    int(n_classes*1.5),\n",
        "]\n",
        "\n",
        "classifier = skflow.DNNClassifier(hidden_units=nn_shape, n_classes=n_classes, feature_columns=feature_columns)\n",
        "classifier.fit(X_train, y_train, steps=1000)\n",
        "score = metrics.accuracy_score(y_test, list(classifier.predict(X_test)))\n",
        "print(\"Accuracy: %f\" % score)"
      ]
    }
  ],
  "metadata": {
    "_change_revision": 0,
    "_is_fork": false,
    "kernelspec": {
      "display_name": "Python 3",
      "language": "python",
      "name": "python3"
    },
    "language_info": {
      "codemirror_mode": {
        "name": "ipython",
        "version": 3
      },
      "file_extension": ".py",
      "mimetype": "text/x-python",
      "name": "python",
      "nbconvert_exporter": "python",
      "pygments_lexer": "ipython3",
      "version": "3.5.2"
    }
  },
  "nbformat": 4,
  "nbformat_minor": 0
}