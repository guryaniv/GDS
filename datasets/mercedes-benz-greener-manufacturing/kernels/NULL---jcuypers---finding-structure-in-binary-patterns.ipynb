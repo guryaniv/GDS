{
  "cells": [
    {
      "cell_type": "code",
      "execution_count": null,
      "metadata": {
        "_cell_guid": "dba63093-2718-c8a8-ec34-fc7012b93476"
      },
      "outputs": [],
      "source": [
        "# This Python 3 environment comes with many helpful analytics libraries installed\n",
        "# It is defined by the kaggle/python docker image: https://github.com/kaggle/docker-python\n",
        "# For example, here's several helpful packages to load in \n",
        "\n",
        "import numpy as np # linear algebra\n",
        "import pandas as pd # data processing, CSV file I/O (e.g. pd.read_csv)\n",
        "\n",
        "# Input data files are available in the \"../input/\" directory.\n",
        "# For example, running this (by clicking run or pressing Shift+Enter) will list the files in the input directory\n",
        "\n",
        "from subprocess import check_output\n",
        "print(check_output([\"ls\", \"../input\"]).decode(\"utf8\"))\n",
        "\n",
        "# Any results you write to the current directory are saved as output."
      ]
    },
    {
      "cell_type": "code",
      "execution_count": null,
      "metadata": {
        "_cell_guid": "7d555408-30ce-1306-9223-e5476322458b"
      },
      "outputs": [],
      "source": [
        "# Load some libraries for added fun\n",
        "import matplotlib.pyplot as plt\n",
        "import seaborn as sns\n",
        "\n",
        "from sklearn import mixture "
      ]
    },
    {
      "cell_type": "code",
      "execution_count": null,
      "metadata": {
        "_cell_guid": "e0d3b039-667d-9982-54d3-2f4a05f37d2d"
      },
      "outputs": [],
      "source": [
        "# Let's set a seed, so results become reproducable \n",
        "seed = 41;\n",
        "np.random.seed(seed)"
      ]
    },
    {
      "cell_type": "code",
      "execution_count": null,
      "metadata": {
        "_cell_guid": "d13f1c9d-d77d-071c-f5b4-a0c6d216e8cd"
      },
      "outputs": [],
      "source": [
        "# Let's load data and check if we got we we needed\n",
        "df_train = pd.read_csv('../input/train.csv')\n",
        "df_test = pd.read_csv('../input/test.csv')\n",
        "\n",
        "print (df_train.shape)\n",
        "print (df_test.shape)"
      ]
    },
    {
      "cell_type": "code",
      "execution_count": null,
      "metadata": {
        "_cell_guid": "0e6dc1db-1970-2150-9662-c947254f113a"
      },
      "outputs": [],
      "source": [
        "# the numbers of components \n",
        "n_comp = 128\n",
        "n_iter = 100\n",
        "\n",
        "# Calculate the GaussianMixtures (or you could alternatively use BayesianGaussianMixture)\n",
        "# In this example we split up the bit patterns in half as a comparison\n",
        "# BE AWARE: this my take a while in a kaggle kernel.... (reduce groups and or range of bits to just test the basics)\n",
        "X = df_train.iloc[:,10:178].values\n",
        "Y = df_train.y.values\n",
        "gmm = mixture.GaussianMixture(n_components=n_comp, covariance_type='full',random_state=seed,max_iter=n_iter).fit(X,Y)\n",
        "\n",
        "X2 = df_train.iloc[:,178:366].values\n",
        "Y = df_train.y.values\n",
        "gmm2 = mixture.GaussianMixture(n_components=n_comp, covariance_type='full',random_state=seed,max_iter=n_iter).fit(X2,Y)"
      ]
    },
    {
      "cell_type": "code",
      "execution_count": null,
      "metadata": {
        "_cell_guid": "2091e175-f427-51c6-c7a7-78fb3d65b444"
      },
      "outputs": [],
      "source": [
        "# Predict the group to which a certain sample belongs\n",
        "grp_pred = gmm.predict(X)\n",
        "grp_pred2 = gmm2.predict(X2)\n",
        "\n",
        "# Put the results in dataframes for easier manipulation\n",
        "grp1 = pd.DataFrame({'grp_pred': grp_pred})\n",
        "grp2 = pd.DataFrame({'grp_pred': grp_pred2})"
      ]
    },
    {
      "cell_type": "code",
      "execution_count": null,
      "metadata": {
        "_cell_guid": "26b7039c-3229-b26f-b1c9-9545c8ba2bcc"
      },
      "outputs": [],
      "source": [
        "# Helper function for average and median per group\n",
        "def generate_avg_and_median(grp):\n",
        "    avg_grp = {}\n",
        "    median_grp = {}\n",
        "    \n",
        "    for i in range(1,n_comp+1):\n",
        "        indices = grp[grp['grp_pred']==i].index\n",
        "        avg_grp[i] = df_train.iloc[indices].y.mean()\n",
        "        median_grp[i] = df_train.iloc[indices].y.median()\n",
        "    \n",
        "    return avg_grp,median_grp"
      ]
    },
    {
      "cell_type": "code",
      "execution_count": null,
      "metadata": {
        "_cell_guid": "3d274a41-6316-f684-1792-bb9d14258f2e"
      },
      "outputs": [],
      "source": [
        "# Generate some stats per group\n",
        "avgs_grp1, median_grp1 = generate_avg_and_median(grp1)\n",
        "avgs_grp2, median_grp2 = generate_avg_and_median(grp2)"
      ]
    },
    {
      "cell_type": "code",
      "execution_count": null,
      "metadata": {
        "_cell_guid": "7b06744c-a989-e968-037e-cd9a9edd37a0"
      },
      "outputs": [],
      "source": [
        "# Plot a pretty picture and save it\n",
        "# You can modify it to overlay whatever stats you want.\n",
        "\n",
        "plt.figure(figsize=(25,20))\n",
        "\n",
        "plt.subplot(121)\n",
        "plt.ylim(-1, n_comp+1)\n",
        "plt.scatter(df_train.y,grp_pred,s=5)\n",
        "for i in range(1,n_comp):\n",
        "    #plt.axvline(avgs_grp1[i],c='r',alpha=0.1)\n",
        "    plt.axvline(median_grp1[i],c='b',alpha=0.1)\n",
        "  \n",
        "plt.subplot(122)\n",
        "plt.ylim(-1, n_comp+1)\n",
        "plt.scatter(df_train.y,grp_pred2,s=5)\n",
        "for i in range(1,n_comp+1):\n",
        "   #plt.axvline(avgs_grp2[i],c='r',alpha=0.1)\n",
        "   plt.axvline(median_grp2[i],c='b',alpha=0.1)\n",
        "\n",
        "plt.show()\n",
        "\n",
        "plt.savefig('binary_groups.png')\n"
      ]
    },
    {
      "cell_type": "code",
      "execution_count": null,
      "metadata": {
        "_cell_guid": "afee0b97-9bf3-3866-9169-baa39363e9fc"
      },
      "outputs": [],
      "source": ""
    }
  ],
  "metadata": {
    "_change_revision": 0,
    "_is_fork": false,
    "kernelspec": {
      "display_name": "Python 3",
      "language": "python",
      "name": "python3"
    },
    "language_info": {
      "codemirror_mode": {
        "name": "ipython",
        "version": 3
      },
      "file_extension": ".py",
      "mimetype": "text/x-python",
      "name": "python",
      "nbconvert_exporter": "python",
      "pygments_lexer": "ipython3",
      "version": "3.6.0"
    }
  },
  "nbformat": 4,
  "nbformat_minor": 0
}