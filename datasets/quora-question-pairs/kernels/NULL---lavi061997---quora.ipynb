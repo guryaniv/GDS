{
  "cells": [
    {
      "cell_type": "markdown",
      "metadata": {
        "_cell_guid": "7e27a18f-2ad7-17a6-997d-916fe73cbde4"
      },
      "source": ""
    },
    {
      "cell_type": "code",
      "execution_count": null,
      "metadata": {
        "_cell_guid": "1f21bf8e-ac31-9f5e-7a03-5e35b60c5cd3"
      },
      "outputs": [],
      "source": [
        "# This Python 3 environment comes with many helpful analytics libraries installed\n",
        "# It is defined by the kaggle/python docker image: https://github.com/kaggle/docker-python\n",
        "# For example, here's several helpful packages to load in \n",
        "\n",
        "import numpy as np # linear algebra\n",
        "import pandas as pd # data processing, CSV file I/O (e.g. pd.read_csv)\n",
        "import nltk\n",
        "\n",
        "# Input data files are available in the \"../input/\" directory.\n",
        "# For example, running this (by clicking run or pressing Shift+Enter) will list the files in the input directory\n",
        "\n",
        "from subprocess import check_output\n",
        "print(check_output([\"ls\", \"../input\"]).decode(\"utf8\"))\n",
        "\n",
        "# Any results you write to the current directory are saved as output.\n",
        "train_data = pd.read_csv('../input/train.csv')\n",
        "test_data = pd.read_csv('../input/test.csv')"
      ]
    },
    {
      "cell_type": "code",
      "execution_count": null,
      "metadata": {
        "_cell_guid": "fc167db9-b2a0-1bfb-07cb-2449edd4c976"
      },
      "outputs": [],
      "source": [
        "grouped = train_data.groupby('is_duplicate').aggregate('sum').reset_index()\n",
        "grouped = grouped.is_duplicate.count_values()"
      ]
    },
    {
      "cell_type": "code",
      "execution_count": null,
      "metadata": {
        "_cell_guid": "9b783bc9-2470-1199-73ba-4252825682b6"
      },
      "outputs": [],
      "source": [
        "cos1 = train_data['question1'].copy()\n",
        "cos2 = train_data['question2'].copy()\n",
        "\n",
        "from nltk.corpus import stopwords\n",
        "stop = stopwords.words('english')\n",
        "for index in cos1:\n",
        "    temp = index.split()\n",
        "    for i in temp:\n",
        "        if i not in stop:\n",
        "            index.replace(i,\" \")\n",
        "        else:\n",
        "            pass\n",
        "        "
      ]
    },
    {
      "cell_type": "code",
      "execution_count": null,
      "metadata": {
        "_cell_guid": "f50dd10a-4282-90c4-971f-0e0893759dea"
      },
      "outputs": [],
      "source": [
        "cos1 = train_data['question1'].copy()\n",
        "cos2 = train_data['question2'].copy()\n",
        "td_matrix = {}\n",
        "f_matrix={}\n",
        "i=0\n",
        "for index in cos1:\n",
        "    tc = nltk.TextCollection(index)\n",
        "    fdist = nltk.FreqDist(index)\n",
        "    for term in fdist:\n",
        "        td_matrix[term] = tc.tf_idf(term,index)\n",
        "        f_matrix.update({i:td_matrix[term]})\n",
        "        i=i+1"
      ]
    },
    {
      "cell_type": "code",
      "execution_count": null,
      "metadata": {
        "_cell_guid": "759dda4f-fe07-b572-e500-3e86a22e36cb"
      },
      "outputs": [],
      "source": [
        "print(cos1.head())"
      ]
    }
  ],
  "metadata": {
    "_change_revision": 0,
    "_is_fork": false,
    "kernelspec": {
      "display_name": "Python 3",
      "language": "python",
      "name": "python3"
    },
    "language_info": {
      "codemirror_mode": {
        "name": "ipython",
        "version": 3
      },
      "file_extension": ".py",
      "mimetype": "text/x-python",
      "name": "python",
      "nbconvert_exporter": "python",
      "pygments_lexer": "ipython3",
      "version": "3.6.0"
    }
  },
  "nbformat": 4,
  "nbformat_minor": 0
}