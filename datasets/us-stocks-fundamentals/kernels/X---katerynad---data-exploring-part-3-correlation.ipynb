{
  "cells": [
    {
      "cell_type": "markdown",
      "metadata": {
        "_cell_guid": "224f4390-ddfa-0ef4-cf77-8b6bbe587a9c"
      },
      "source": [
        "**Data exploring**\n",
        "------------------\n",
        "\n",
        "***Part 3***\n",
        "------------\n",
        "\n",
        "**Is there any dependency between indicators?**\n",
        "\n",
        "\n",
        "----------\n",
        "\n",
        "\n",
        "I expect a strong positive correlation between first 5 indicators reviewed in Part 2\n",
        "Let's see how correlated first 20, most popular indicators in 2011 discovered in Part 1"
      ]
    },
    {
      "cell_type": "code",
      "execution_count": null,
      "metadata": {
        "_cell_guid": "5ee3a023-2d93-2553-0800-0d7608d89309"
      },
      "outputs": [],
      "source": [
        "import pandas as pd\n",
        "from pandas import Series,DataFrame\n",
        "import numpy as np\n",
        "from scipy.stats import linregress\n",
        "\n",
        "# For Visualization\n",
        "import matplotlib.pyplot as plt\n",
        "import matplotlib\n",
        "import seaborn as sns"
      ]
    },
    {
      "cell_type": "code",
      "execution_count": null,
      "metadata": {
        "_cell_guid": "62aa9a51-7a95-89e8-4f5d-6cac91c92ae3"
      },
      "outputs": [],
      "source": [
        "#data\n",
        "df=pd.read_csv('../input/indicators_by_company.csv')\n",
        "df.head(5)"
      ]
    },
    {
      "cell_type": "markdown",
      "metadata": {
        "_cell_guid": "cf1993c9-7217-a6b7-07ef-21acfd02e8d9"
      },
      "source": [
        "Most popular indicators in 2011 discovered in Part 1\n",
        "----------------------------------------------------"
      ]
    },
    {
      "cell_type": "code",
      "execution_count": null,
      "metadata": {
        "_cell_guid": "68e15d08-8ed8-f244-1ac4-1c36842a4fcc"
      },
      "outputs": [],
      "source": [
        "indicators=['Assets','LiabilitiesAndStockholdersEquity',\n",
        "'StockholdersEquity',\n",
        "'CashAndCashEquivalentsAtCarryingValue',\n",
        "'NetCashProvidedByUsedInOperatingActivities',\n",
        "'NetIncomeLoss',\n",
        "'NetCashProvidedByUsedInFinancingActivities',\n",
        "'CommonStockSharesAuthorized',\n",
        "'CashAndCashEquivalentsPeriodIncreaseDecrease',\n",
        "'CommonStockValue',\n",
        "'CommonStockSharesIssued',\n",
        "'RetainedEarningsAccumulatedDeficit',\n",
        "'CommonStockParOrStatedValuePerShare',\n",
        "'NetCashProvidedByUsedInInvestingActivities',\n",
        "'PropertyPlantAndEquipmentNet',\n",
        "'AssetsCurrent',\n",
        "'LiabilitiesCurrent',\n",
        "'CommonStockSharesOutstanding',\n",
        "'Liabilities',\n",
        "'OperatingIncomeLoss' ]"
      ]
    },
    {
      "cell_type": "markdown",
      "metadata": {
        "_cell_guid": "4c443709-492f-565f-f697-8290041e69b9"
      },
      "source": [
        "Now:\n",
        "----\n",
        "\n",
        " \n",
        " - Unpivot from existing format (years as columns) \n",
        " - Pivot to indicator ids as columns \n",
        " - Remove nulls \n",
        " - Let's review 2011 and most popular\n",
        " indicators in this year"
      ]
    },
    {
      "cell_type": "code",
      "execution_count": null,
      "metadata": {
        "_cell_guid": "87073cb7-bf79-2c8e-6492-454fed2dcebd"
      },
      "outputs": [],
      "source": [
        "Values=df.loc[df['indicator_id'].isin(indicators),['company_id','indicator_id','2011']]\n",
        "Values=pd.melt(Values, id_vars=['company_id', 'indicator_id'], var_name='year', value_name='value')\n",
        "Values=Values.loc[Values['year']=='2011',['company_id','indicator_id','value']].pivot(index='company_id',columns='indicator_id', values='value').dropna()\n",
        "Values.head(5)"
      ]
    },
    {
      "cell_type": "code",
      "execution_count": null,
      "metadata": {
        "_cell_guid": "3de05442-5a06-53c1-6edf-59483d3ce463"
      },
      "outputs": [],
      "source": [
        "print('There are '+str(len(Values))+' companies with not null values in the data set for 2011 and 20 indicators')"
      ]
    },
    {
      "cell_type": "code",
      "execution_count": null,
      "metadata": {
        "_cell_guid": "1ef22029-146f-7182-cb22-58f825f1ba77"
      },
      "outputs": [],
      "source": [
        "#heatmap visualization\n",
        "def heatmap(data,title):\n",
        "  fig, ax = plt.subplots(figsize=(15, 15))\n",
        "  heatmap = sns.heatmap(data, cmap=plt.cm.Blues,annot=True, annot_kws={\"size\": 8})\n",
        "  #ax.xaxis.tick_top()\n",
        "  ax.set_title(title)\n",
        "  # rotate\n",
        "  plt.xticks(rotation=90)\n",
        "  plt.yticks(rotation=0)\n",
        "  plt.tight_layout()"
      ]
    },
    {
      "cell_type": "code",
      "execution_count": null,
      "metadata": {
        "_cell_guid": "b6ef8024-c403-e733-d695-7098b1c19d7b"
      },
      "outputs": [],
      "source": [
        "#skipy linregress\n",
        "#Pearson Correlation\n",
        "rvalue = DataFrame(np.nan,index=indicators,columns=indicators)\n",
        "#PValue\n",
        "pvalue = DataFrame(np.nan,index=indicators,columns=indicators)\n",
        "#StdErr\n",
        "stderr = DataFrame(np.nan,index=indicators,columns=indicators)"
      ]
    },
    {
      "cell_type": "code",
      "execution_count": null,
      "metadata": {
        "_cell_guid": "d2e61bdf-e6bd-b9e4-9e48-bc3139aaa9cd"
      },
      "outputs": [],
      "source": [
        "#\n",
        "for c_X in indicators:\n",
        "  for c_Y in indicators:\n",
        "    R=linregress(Values[[c_X,c_Y]])\n",
        "    rvalue.set_value(c_Y,c_X, R.rvalue)\n",
        "    pvalue.set_value(c_Y,c_X, R.pvalue)\n",
        "    stderr.set_value(c_Y,c_X, R.stderr)"
      ]
    },
    {
      "cell_type": "code",
      "execution_count": null,
      "metadata": {
        "_cell_guid": "046d92bb-a691-cd75-d742-4faaa4cdfffd"
      },
      "outputs": [],
      "source": [
        "heatmap(rvalue,'R-value')"
      ]
    },
    {
      "cell_type": "code",
      "execution_count": null,
      "metadata": {
        "_cell_guid": "a13e5283-3de0-96a0-bfcf-d4065d92f2aa"
      },
      "outputs": [],
      "source": [
        "heatmap(pvalue,'P-value')"
      ]
    },
    {
      "cell_type": "code",
      "execution_count": null,
      "metadata": {
        "_cell_guid": "f1b3a7b1-19e9-48ce-4a5e-9129ae94b7c1"
      },
      "outputs": [],
      "source": [
        "heatmap(stderr,'std-error')"
      ]
    }
  ],
  "metadata": {
    "_change_revision": 0,
    "_is_fork": false,
    "kernelspec": {
      "display_name": "Python 3",
      "language": "python",
      "name": "python3"
    },
    "language_info": {
      "codemirror_mode": {
        "name": "ipython",
        "version": 3
      },
      "file_extension": ".py",
      "mimetype": "text/x-python",
      "name": "python",
      "nbconvert_exporter": "python",
      "pygments_lexer": "ipython3",
      "version": "3.5.2"
    }
  },
  "nbformat": 4,
  "nbformat_minor": 0
}