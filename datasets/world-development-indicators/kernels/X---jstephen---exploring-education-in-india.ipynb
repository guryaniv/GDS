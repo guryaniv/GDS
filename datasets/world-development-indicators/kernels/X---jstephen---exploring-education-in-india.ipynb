{
  "cells": [
    {
      "cell_type": "markdown",
      "metadata": {
        "_cell_guid": "6d01c934-ec3d-c4b5-f24f-e21b7c4e7e98"
      },
      "source": [
        "# Exploring Education in India\n",
        "\n",
        "I wanted to analyze the education system in India. Particularly, I wanted to investigate the factors of gender and government involvment in affecting the total enrollment of students over time. At first, I wanted to see how India compares to other contries in terms of total enrollment and total spending in education. After getting an overview of how India compares with other countries, it would be helpful to analyze any trends that can be found within different grades. \n",
        "\n",
        "Table of Contents\n",
        "-----------------------------------------------------------------------\n",
        "\n",
        "1.  How does student enrollment in India compare with other Asian countries?\n",
        "    - Primary enrollment in India and nearby countries\n",
        "    - Secondary enrollment in India and nearby countries\n",
        "2. How much does student enrollment correlate with the level of investment in education?\n",
        "    - Education expenditure for India and nearby countries\n",
        "3. In India, does the number of enrollment and completion differ based on gender?\n",
        "    - Primary enrollment and completion rate in India\n",
        "    - Secondary enrollment and completion rate in India\n",
        "4. Conclusion"
      ]
    },
    {
      "cell_type": "code",
      "execution_count": null,
      "metadata": {
        "_cell_guid": "37b9830c-b1ef-1ba1-02e1-a9e787035b95"
      },
      "outputs": [],
      "source": [
        "% matplotlib inline\n",
        "import numpy as np\n",
        "import pandas as pd\n",
        "import seaborn as sns\n",
        "import matplotlib as mpl\n",
        "import matplotlib.pyplot as plt\n",
        "sns.set_style(\"white\")\n",
        "\n",
        "# read dataset\n",
        "country = pd.read_csv('../input/Country.csv')\n",
        "indicators = pd.read_csv('../input/Indicators.csv')"
      ]
    },
    {
      "cell_type": "markdown",
      "metadata": {
        "_cell_guid": "692f6a20-8148-4dd5-16fc-4bc6054a0166"
      },
      "source": [
        "## 1. How does student enrollment in India compare with other Asian countries?\n",
        "\n",
        "I wanted to understand student enrollement in India and compare that with other Asian countires. The four other countries were chosen based on their GDP. India has one of the highest GDP in Asia so it would be beneficial to compare it with other countries in the region with a similar GDP. It would not be helpful to compare student enrollment based on exact number of enrolled students because of the large difference in population between the countries. Instead, I looked at the gross enrollment ratio, which might be a better indicator when comparing student enrollment in different countries. "
      ]
    },
    {
      "cell_type": "code",
      "execution_count": null,
      "metadata": {
        "_cell_guid": "7e2494c7-c052-5629-c10a-524ef0eef1fd"
      },
      "outputs": [],
      "source": [
        "# Primary Gross Enrollment Rate (total)\n",
        "ind_pri_enrr = indicators[(indicators.CountryCode==\"IND\") & (indicators.IndicatorCode=='SE.PRM.ENRR')] # India\n",
        "chn_pri_enrr = indicators[(indicators.CountryCode==\"CHN\") & (indicators.IndicatorCode=='SE.PRM.ENRR')] # China\n",
        "jpn_pri_enrr = indicators[(indicators.CountryCode==\"JPN\") & (indicators.IndicatorCode=='SE.PRM.ENRR')] # Japan\n",
        "rus_pri_enrr = indicators[(indicators.CountryCode==\"RUS\") & (indicators.IndicatorCode=='SE.PRM.ENRR')] # Russia\n",
        "idn_pri_enrr = indicators[(indicators.CountryCode==\"IDN\") & (indicators.IndicatorCode=='SE.PRM.ENRR')] # Indonesia\n",
        "\n",
        "# Secondary Gross Enrollment Rate (total)\n",
        "ind_sec_enrr = indicators[(indicators.CountryCode==\"IND\") & (indicators.IndicatorCode=='SE.SEC.ENRR')] # India\n",
        "chn_sec_enrr = indicators[(indicators.CountryCode==\"CHN\") & (indicators.IndicatorCode=='SE.SEC.ENRR')] # China\n",
        "jpn_sec_enrr = indicators[(indicators.CountryCode==\"JPN\") & (indicators.IndicatorCode=='SE.SEC.ENRR')] # Japan\n",
        "rus_sec_enrr = indicators[(indicators.CountryCode==\"RUS\") & (indicators.IndicatorCode=='SE.SEC.ENRR')] # Russia\n",
        "idn_sec_enrr = indicators[(indicators.CountryCode==\"IDN\") & (indicators.IndicatorCode=='SE.SEC.ENRR')] # Indonesia\n",
        "\n",
        "sns.set_palette(\"husl\")\n",
        "\n",
        "fig = plt.figure()\n",
        "plt.title('Primary, Gross Enrollment Ratio (GER)')\n",
        "plt.plot(ind_pri_enrr.Year, ind_pri_enrr.Value,  label='India')\n",
        "plt.plot(chn_pri_enrr.Year, chn_pri_enrr.Value,  label='China')\n",
        "plt.plot(jpn_pri_enrr.Year, jpn_pri_enrr.Value,  label='Japan')\n",
        "plt.plot(rus_pri_enrr.Year, rus_pri_enrr.Value,  label='Russia')\n",
        "plt.plot(idn_pri_enrr.Year, idn_pri_enrr.Value,  label='Indonesia')\n",
        "plt.ylabel('Gross Enrollment Ratio')\n",
        "plt.xlabel('Year')\n",
        "plt.legend(bbox_to_anchor=(1.01, 1), loc=2,  borderaxespad=1.)\n",
        "\n",
        "fig = plt.figure()\n",
        "plt.title('Secondary, Gross Enrollment Ratio (GER)')\n",
        "plt.plot(ind_sec_enrr.Year, ind_sec_enrr.Value,  label='India')\n",
        "plt.plot(chn_sec_enrr.Year, chn_sec_enrr.Value,  label='China')\n",
        "plt.plot(jpn_sec_enrr.Year, jpn_sec_enrr.Value,  label='Japan')\n",
        "plt.plot(rus_sec_enrr.Year, rus_sec_enrr.Value,  label='Russia')\n",
        "plt.plot(idn_sec_enrr.Year, idn_sec_enrr.Value,  label='Indonesia')\n",
        "plt.ylabel('Gross Enrollment Ratio')\n",
        "plt.xlabel('Year')\n",
        "plt.legend(bbox_to_anchor=(1.01, 1), loc=2,  borderaxespad=1.)"
      ]
    },
    {
      "cell_type": "markdown",
      "metadata": {
        "_cell_guid": "773e8b19-b363-b4f4-d3ec-aa6fc9bc7040"
      },
      "source": [
        "We can observe from the primary enrollment ratio graph, that India has steady increased in primary enrollment over the years. It appears that most other countries with high GDPs in Asia also have a high primary enrollment ratio. It is important to note that it is possible to go over 100 when it comes to gross enrollment ratio (GER) as we can see with all of the five countries in the graph. The GER is the ratio of the number of students enrolled in school to the number of children in the country of the corresponding age. The GER can be above 100 as a result of students repeating grades and from students enrolling in the grade earlier or later than the normal age for the grade. \n",
        "\n",
        "There is a significant drop in the GER for secondary education from primary education, for three out of the five countries. However, all three of these countries (India, China and Indonesia) are seeing a consistent increase in secondary education GER. There increase is almost the same for the three countries. Japan is consistently at 100 which means that almost all the children of school age are enrolled in school. The one outlier in recent years is Russia, who had a dip around 2003 but has been rising again after 2009. Overall India, along with the other four countries, is consistently increasing the student enrollment ratio.  "
      ]
    },
    {
      "cell_type": "markdown",
      "metadata": {
        "_cell_guid": "405be279-e915-859e-60cc-9bab3ea18b0d"
      },
      "source": [
        "## 2. How much does student enrollment correlate with the level of investment in education?\n",
        "\n",
        "It is generally understood that an increase in government expenditure on education correlates with increased level of student engagement. However, I wanted to explore the extent to which this correlation is true. In particular, I wanted to find if the correlation differs for primary education versus secondary education."
      ]
    },
    {
      "cell_type": "code",
      "execution_count": null,
      "metadata": {
        "_cell_guid": "14db6691-ab4b-c571-e4b9-18cf74093372"
      },
      "outputs": [],
      "source": [
        "ind_edu_exp_US = indicators[(indicators.CountryCode==\"IND\") & (indicators.IndicatorCode=='NY.ADJ.AEDU.CD')]  # India\n",
        "chn_edu_exp_US = indicators[(indicators.CountryCode==\"CHN\") & (indicators.IndicatorCode=='NY.ADJ.AEDU.CD')]  # China\n",
        "jpn_edu_exp_US = indicators[(indicators.CountryCode==\"JPN\") & (indicators.IndicatorCode=='NY.ADJ.AEDU.CD')]  # Japan\n",
        "rus_edu_exp_US = indicators[(indicators.CountryCode==\"RUS\") & (indicators.IndicatorCode=='NY.ADJ.AEDU.CD')]  # Russia\n",
        "idn_edu_exp_US = indicators[(indicators.CountryCode==\"IDN\") & (indicators.IndicatorCode=='NY.ADJ.AEDU.CD')]  # Indonesia\n",
        "\n",
        "# Adjusted savings: education expenditure (% of GNI) \n",
        "ind_edu_exp_GNI = indicators[(indicators.CountryCode==\"IND\") & (indicators.IndicatorCode=='NY.ADJ.AEDU.GN.ZS')]  # India\n",
        "chn_edu_exp_GNI = indicators[(indicators.CountryCode==\"CHN\") & (indicators.IndicatorCode=='NY.ADJ.AEDU.GN.ZS')]  # China\n",
        "jpn_edu_exp_GNI = indicators[(indicators.CountryCode==\"JPN\") & (indicators.IndicatorCode=='NY.ADJ.AEDU.GN.ZS')]  # Japan\n",
        "rus_edu_exp_GNI = indicators[(indicators.CountryCode==\"RUS\") & (indicators.IndicatorCode=='NY.ADJ.AEDU.GN.ZS')]  # Russia\n",
        "idn_edu_exp_GNI = indicators[(indicators.CountryCode==\"IDN\") & (indicators.IndicatorCode=='NY.ADJ.AEDU.GN.ZS')]  # Indonesia\n",
        "\n",
        "fig = plt.figure()\n",
        "plt.title('Adjusted savings education expenditure (Current US Dollar)')\n",
        "plt.plot(ind_edu_exp_US.Year, ind_edu_exp_US.Value, 'o-', label='India')\n",
        "plt.plot(chn_edu_exp_US.Year, chn_edu_exp_US.Value, 'o-', label='China')\n",
        "plt.plot(jpn_edu_exp_US.Year, jpn_edu_exp_US.Value, 'o-', label='Japan')\n",
        "plt.plot(rus_edu_exp_US.Year, rus_edu_exp_US.Value, 'o-', label='Russia')\n",
        "plt.plot(idn_edu_exp_US.Year, idn_edu_exp_US.Value, 'o-', label='Indonesia')\n",
        "plt.legend(bbox_to_anchor=(1.01, 1), loc=2,  borderaxespad=1.)\n",
        "\n",
        "fig = plt.figure()\n",
        "plt.title('Adjusted savings education expenditure as % of Gross National Income')\n",
        "plt.plot(ind_edu_exp_GNI.Year, ind_edu_exp_GNI.Value, 'o-', label='India')\n",
        "plt.plot(chn_edu_exp_GNI.Year, chn_edu_exp_GNI.Value, 'o-', label='China')\n",
        "plt.plot(jpn_edu_exp_GNI.Year, jpn_edu_exp_GNI.Value, 'o-', label='Japan')\n",
        "plt.plot(rus_edu_exp_GNI.Year, rus_edu_exp_GNI.Value, 'o-', label='Russia')\n",
        "plt.plot(idn_edu_exp_GNI.Year, idn_edu_exp_GNI.Value, 'o-', label='Indonesia')\n",
        "plt.legend(bbox_to_anchor=(1.01, 1), loc=2,  borderaxespad=1.)"
      ]
    },
    {
      "cell_type": "markdown",
      "metadata": {
        "_cell_guid": "ca054ec8-5468-7634-c448-c7d340cd9b30"
      },
      "source": [
        "In order to account for the difference in GDP of the different countries, I looked at both the total amount of expenditure in education as well as the percent of expenditure in education as a percent of the gross national income. Japan came on top in both of the metrics. From our previous analysis we know that Japan also has consistently been close to 100 percent in gross enrollment rate. When we look at the expenditure in education with the other countries, we can see a correlation between the amount of student enrollment with the level of investment in education. In India, the percent of investment in education jumped between 1995 and 2000. Interestingly, that is the same time period that the GER for India started to increase consistently. From the adjusted savings expenditure graph, we can observe that China had started to increase its expenditure near 1993, which is also the same time that its secondary education GER began to steadily increase. Although there does not seem to be a direct correlation between government expenditure in education and primary student enrollment, there is a definite correlation between government expenditure in education and secondary school student enrollment."
      ]
    },
    {
      "cell_type": "markdown",
      "metadata": {
        "_cell_guid": "7423c44e-3dcf-d47d-d1f5-3fc8dc5478b8"
      },
      "source": [
        "## 3. Does the enrollment rate and the completion rate differ based on gender in India?\n"
      ]
    },
    {
      "cell_type": "code",
      "execution_count": null,
      "metadata": {
        "_cell_guid": "c23e89c1-3716-5294-111d-cd09e940a9d7"
      },
      "outputs": [],
      "source": [
        "# Primary completion rate \n",
        "pri_comp_fm = indicators[(indicators.CountryCode==\"IND\") & (indicators.IndicatorCode=='SE.PRM.CMPT.FE.ZS')]  # female\n",
        "pri_comp_ma = indicators[(indicators.CountryCode==\"IND\") & (indicators.IndicatorCode=='SE.PRM.CMPT.MA.ZS')]  # male \n",
        "pri_comp_both = indicators[(indicators.CountryCode==\"IND\") & (indicators.IndicatorCode=='SE.PRM.CMPT.ZS')]  # both sexes \n",
        "\n",
        "# Lower Secondary completion rate\n",
        "lo_sec_comp_both = indicators[(indicators.CountryCode==\"IND\") & (indicators.IndicatorCode=='SE.SEC.CMPT.LO.ZS')]# both\n",
        "lo_sec_comp_fe = indicators[(indicators.CountryCode==\"IND\") & (indicators.IndicatorCode=='SE.SEC.CMPT.LO.FE.ZS')]# female\n",
        "lo_sec_comp_ma = indicators[(indicators.CountryCode==\"IND\") & (indicators.IndicatorCode=='SE.SEC.CMPT.LO.MA.ZS')]# male\n",
        "\n",
        "# Primary Gross enrollment ratio\n",
        "pri_enrr_both = indicators[(indicators.CountryCode==\"IND\") & (indicators.IndicatorCode=='SE.PRM.ENRR')] # both SE.PRM.ENRR\n",
        "pri_enrr_fm = indicators[(indicators.CountryCode==\"IND\") & (indicators.IndicatorCode=='SE.PRM.ENRR.FE')] # female\n",
        "pri_enrr_ma = indicators[(indicators.CountryCode==\"IND\") & (indicators.IndicatorCode=='SE.PRM.ENRR.MA')] # male\n",
        "\n",
        "# Secondary gross enrollment ratio\n",
        "sec_enrr_both = indicators[(indicators.CountryCode==\"IND\") & (indicators.IndicatorCode=='SE.SEC.ENRR')]# both\n",
        "sec_enrr_fe = indicators[(indicators.CountryCode==\"IND\") & (indicators.IndicatorCode=='SE.SEC.ENRR.FE')]# female\n",
        "sec_enrr_ma = indicators[(indicators.CountryCode==\"IND\") & (indicators.IndicatorCode=='SE.SEC.ENRR.MA')]# male\n",
        "\n",
        "fig = plt.figure()\n",
        "plt.title('Gross Enrollment Ratio (GER)')\n",
        "plt.plot(pri_enrr_both.Year, pri_enrr_both.Value, 'bo-', label='Primary education, all')\n",
        "plt.plot(pri_enrr_fm.Year, pri_enrr_fm.Value, 'go-', label='Primary education, female')\n",
        "plt.plot(pri_enrr_ma.Year, pri_enrr_ma.Value, 'ro-', label='Primary education, male')\n",
        "\n",
        "plt.plot(sec_enrr_both.Year, sec_enrr_both.Value, 'b--', label='Secondary education, all')\n",
        "plt.plot(sec_enrr_fe.Year, sec_enrr_fe.Value, 'g--', label='Secondary education, female')\n",
        "plt.plot(sec_enrr_ma.Year, sec_enrr_ma.Value, 'r--', label='Secondary education, male')\n",
        "plt.legend(bbox_to_anchor=(1.01, 1), loc=2,  borderaxespad=1.)\n",
        "\n",
        "fig = plt.figure()\n",
        "plt.title('Completion Rate')\n",
        "plt.plot(pri_comp_both.Year, pri_comp_both.Value, 'bo-', label='Primary, all')\n",
        "plt.plot(pri_comp_fm.Year, pri_comp_fm.Value, 'go-', label='Primary, female')\n",
        "plt.plot(pri_comp_ma.Year, pri_comp_ma.Value, 'ro-', label='Primary, male')\n",
        "\n",
        "plt.plot(lo_sec_comp_both.Year, lo_sec_comp_both.Value, 'ko-', label='Lower Secondary, all')\n",
        "plt.plot(lo_sec_comp_fe.Year, lo_sec_comp_fe.Value, 'co-', label='Lower secondary, female')\n",
        "plt.plot(lo_sec_comp_ma.Year, lo_sec_comp_ma.Value, 'yo-', label='Lower secondary, male')\n",
        "plt.legend(bbox_to_anchor=(1.01, 1), loc=2,  borderaxespad=1.)\n"
      ]
    },
    {
      "cell_type": "markdown",
      "metadata": {
        "_cell_guid": "c107f83f-e193-07aa-e3ee-dc381219d304"
      },
      "source": [
        "We can see that before 2000, males had a higher GER and completion rate than females. More importantly, the difference between the two were constant before the year 2000. After that we see the gap between female and male GER decrease in both primary and secondary education. Additionally the completion rate for both females and males are currently almost the same. "
      ]
    },
    {
      "cell_type": "markdown",
      "metadata": {
        "_cell_guid": "4eb58bf0-94b9-54c0-df4f-82d22de25e70"
      },
      "source": [
        "## Conclusion\n",
        "\n",
        "Overall, there is a significant improvement with enrollment rates and completion rates in India in the past two decades. While it seems that more children in India are getting a primary education, they do not stay on for secondary education. We could see a significant drop in GER between primary and secondary education which supports this analysis. We also found that the difference between the female and male enrollment has rapidly decreased within the past 8 years. "
      ]
    }
  ],
  "metadata": {
    "_change_revision": 0,
    "_is_fork": false,
    "kernelspec": {
      "display_name": "Python 3",
      "language": "python",
      "name": "python3"
    },
    "language_info": {
      "codemirror_mode": {
        "name": "ipython",
        "version": 3
      },
      "file_extension": ".py",
      "mimetype": "text/x-python",
      "name": "python",
      "nbconvert_exporter": "python",
      "pygments_lexer": "ipython3",
      "version": "3.5.2"
    }
  },
  "nbformat": 4,
  "nbformat_minor": 0
}