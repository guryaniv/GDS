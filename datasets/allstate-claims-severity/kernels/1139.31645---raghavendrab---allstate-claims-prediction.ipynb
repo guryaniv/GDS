{
  "cells": [
    {
      "cell_type": "markdown",
      "metadata": {
        "_cell_guid": "860ef5ea-8d69-5442-d2e8-b864b2250791"
      },
      "source": ""
    },
    {
      "cell_type": "code",
      "execution_count": null,
      "metadata": {
        "_cell_guid": "ac483556-8983-6c39-6ece-fc35afd71992"
      },
      "outputs": [],
      "source": [
        "import numpy as np\n",
        "import pandas as pd, os\n",
        "from sklearn.feature_extraction import DictVectorizer\n",
        "\n",
        "def one_hot_dataframe(data, cols, replace=False):\n",
        "    vec = DictVectorizer()\n",
        "    mkdict = lambda row: dict((col, row[col]) for col in cols)\n",
        "    vecData = pd.DataFrame(vec.fit_transform(data[cols].apply(mkdict, axis=1)).toarray())\n",
        "    len1 = len(vec.get_feature_names())\n",
        "    #print(len1)\n",
        "    vecData.columns = vec.get_feature_names()\n",
        "    del vecData[vec.get_feature_names()[len1-1]]\n",
        "    #print(vecData)\n",
        "    vecData.index = data.index\n",
        "    if replace is True:\n",
        "        #print(data)\n",
        "        data = data.drop(cols, axis=1)\n",
        "        data = data.join(vecData)\n",
        "        #print(data)\n",
        "    return (data, vecData, vec)"
      ]
    },
    {
      "cell_type": "code",
      "execution_count": null,
      "metadata": {
        "_cell_guid": "df81c92c-54b7-571b-88ce-5c712aac992b"
      },
      "outputs": [],
      "source": [
        "data = {'state': ['Ohio', 'Ohio', 'Ohio', 'Nevada', 'Nevada'],\n",
        "        'nation': ['Ohio', 'Ohio', 'Ohio', 'Nevada', 'Nevada'],\n",
        "        'year': [2000, 2001, 2002, 2001, 2002],\n",
        "        'pop': [1.5, 1.7, 3.6, 2.4, 2.9]}\n",
        "\n",
        "\n",
        "df = pd.DataFrame(data)\n",
        "\n",
        "df2, _, _ = one_hot_dataframe(df, ['state','nation'], replace=True)\n",
        "print (df2)"
      ]
    },
    {
      "cell_type": "code",
      "execution_count": null,
      "metadata": {
        "_cell_guid": "fe09c3f3-8c8a-9ce3-de7c-619374d3fec9"
      },
      "outputs": [],
      "source": [
        "data = {'state': ['Ohio', 'Ohio', 'Ohio', 'Nevada', 'Nevada'],\n",
        "        'nation': ['India', 'India', 'IndiaUSA', 'USA', 'USA'],\n",
        "        'year': [2000, 2001, 2002, 2001, 2002],\n",
        "        'pop': [1.5, 1.7, 3.6, 2.4, 2.9]}"
      ]
    },
    {
      "cell_type": "code",
      "execution_count": null,
      "metadata": {
        "_cell_guid": "084d96b8-7503-c4aa-6a78-586fa907b5d7"
      },
      "outputs": [],
      "source": ""
    },
    {
      "cell_type": "code",
      "execution_count": null,
      "metadata": {
        "_cell_guid": "8aecd7e9-29c6-d819-8a9f-71d631a6040e"
      },
      "outputs": [],
      "source": [
        "import csv\n",
        "def readTrainingData():\n",
        "    data = {}\n",
        "    colNames = []\n",
        "    categories = []\n",
        "    continuous = []\n",
        "    target = []\n",
        "    target1 = []\n",
        "    with open('../input/train.csv') as csvfile:\n",
        "        trainReader = csv.reader(csvfile, delimiter=',')\n",
        "        count = 0\n",
        "        for row in trainReader:\n",
        "            if count == 0:\n",
        "                colNames = row\n",
        "                count+=1\n",
        "            else:\n",
        "                #print(row[0])\n",
        "                key = int(row[0])\n",
        "                row.pop(0)\n",
        "                categories.append(row[0:116])\n",
        "                continuous1 = row[116:130]\n",
        "                target1.extend(row[130:131])\n",
        "                idxToBeDeleted = len(row) - 1\n",
        "                row.pop(idxToBeDeleted)\n",
        "                #print(row)\n",
        "                continuous1 = [ float(x) for x in continuous1 ]\n",
        "                continuous.append(continuous1)\n",
        "                data[key] = row\n",
        "        #print(categories)\n",
        "        #print(continuous)\n",
        "        #print(target)\n",
        "        for item in target1:\n",
        "            target.append(float(item))\n",
        "    return data, categories,continuous,target\n",
        "\n",
        "\n",
        "\n",
        "#df = pd.DataFrame(data)\n",
        "\n",
        "#df2, _, _ = one_hot_dataframe(df, ['state','nation'], replace=True)\n",
        "#print (df2)"
      ]
    },
    {
      "cell_type": "code",
      "execution_count": null,
      "metadata": {
        "_cell_guid": "06b041d7-3a4b-e670-fc66-d39d2cc19196"
      },
      "outputs": [],
      "source": [
        "data, categories,continuous,target = readTrainingData()\n",
        "print (categories[0])"
      ]
    },
    {
      "cell_type": "code",
      "execution_count": null,
      "metadata": {
        "_cell_guid": "efdd2a76-777e-bd0f-d766-856789faa8b2"
      },
      "outputs": [],
      "source": [
        "print (categories[0])"
      ]
    },
    {
      "cell_type": "code",
      "execution_count": null,
      "metadata": {
        "_cell_guid": "953722be-ff15-443e-36dd-3815fc3fa386"
      },
      "outputs": [],
      "source": [
        "def categoryEncoder(categories,continuous): \n",
        "    uniqCatAndCounts = {}\n",
        "    numRows = len(categories)\n",
        "    numCols = len(categories[0])\n",
        "    encodedCategories = [[0 for x in range(numCols)] for y in range(numRows)] \n",
        "    #print(\"numRows:\"+str(numRows))\n",
        "    #print(\"numCols:\"+str(numCols))\n",
        "    for i in range(numRows):\n",
        "        for j in range(numCols):\n",
        "            if categories[i][j] in uniqCatAndCounts:\n",
        "                uniqCatAndCounts[categories[i][j]] += 1\n",
        "            else:\n",
        "                uniqCatAndCounts[categories[i][j]] = 1\n",
        "    label = 1\n",
        "    for cat in uniqCatAndCounts:\n",
        "        uniqCatAndCounts[cat] = label\n",
        "        label += 1\n",
        "    for i in range(numRows):\n",
        "        for j in range(numCols):\n",
        "            if categories[i][j] in uniqCatAndCounts:\n",
        "                encodedCategories[i][j] = float(uniqCatAndCounts[categories[i][j]])\n",
        "        encodedCategories[i].extend(continuous[i])\n",
        "    return encodedCategories,uniqCatAndCounts\n",
        "\n",
        "encodedCategories,uniqCatAndCounts = categoryEncoder(categories,continuous)\n",
        "print (encodedCategories[0])"
      ]
    },
    {
      "cell_type": "code",
      "execution_count": null,
      "metadata": {
        "_cell_guid": "732968da-16f3-2f0e-c464-cf529741db36"
      },
      "outputs": [],
      "source": [
        "import csv\n",
        "def readTestData():\n",
        "    data = {}\n",
        "    colNames = []\n",
        "    categories = []\n",
        "    continuous = []\n",
        "    count = 0\n",
        "    with open('../input/test.csv') as csvfile:\n",
        "        testReader = csv.reader(csvfile, delimiter=',')\n",
        "        for row in testReader:\n",
        "            if count == 0:\n",
        "                colNames = row\n",
        "                count+=1\n",
        "            else:\n",
        "                key = int(row[0])\n",
        "                row.pop(0)\n",
        "                categories.append(row[0:116])\n",
        "                continuous1 = row[116:130]\n",
        "                continuous1 = [ float(x) for x in continuous1 ]\n",
        "                continuous.append(continuous1)\n",
        "                data[key] = row\n",
        "    return data, categories, continuous\n",
        "\n",
        "dataTest, categoriesTest, continuousTest = readTestData()\n",
        "print(categoriesTest[0])\n",
        "#print(continuousTest[0])"
      ]
    },
    {
      "cell_type": "code",
      "execution_count": null,
      "metadata": {
        "_cell_guid": "adafe770-142d-4208-57df-8c44ab165f58"
      },
      "outputs": [],
      "source": [
        "def testCatEncoder(categoriesTest, uniqCatAndCounts, continuousTest):\n",
        "    #encodedCategoriesTest = categoriesTest\n",
        "    numRows = len(categoriesTest)\n",
        "    numCols = len(categoriesTest[0])\n",
        "    label = len(uniqCatAndCounts) + 1\n",
        "    encodedCategoriesTest = [[0 for x in range(numCols)] for y in range(numRows)] \n",
        "    for i in range(numRows):\n",
        "        for j in range(numCols):\n",
        "            if categoriesTest[i][j] in uniqCatAndCounts:\n",
        "                encodedCategoriesTest[i][j] = float(uniqCatAndCounts[categoriesTest[i][j]])\n",
        "            else:\n",
        "                #Should update uniqCatAndCounts with new key and new value\n",
        "                uniqCatAndCounts[categoriesTest[i][j]] = label\n",
        "                encodedCategoriesTest[i][j] = label\n",
        "                label += 1\n",
        "        encodedCategoriesTest[i].extend(continuousTest[i])\n",
        "    return uniqCatAndCounts, encodedCategoriesTest\n",
        "\n",
        "uniqCatAndCounts, encodedCategoriesTest = testCatEncoder(categoriesTest, uniqCatAndCounts, continuousTest)\n",
        "print(encodedCategoriesTest[0])"
      ]
    },
    {
      "cell_type": "code",
      "execution_count": null,
      "metadata": {
        "_cell_guid": "6e9c13d6-7750-570d-53b9-a20badcfcab9"
      },
      "outputs": [],
      "source": [
        "import numpy as np\n",
        "from sklearn import linear_model\n",
        "\n",
        "# Create linear regression object\n",
        "regr = linear_model.LinearRegression()\n",
        "\n",
        "# Train the model using the training sets\n",
        "regr.fit(encodedCategories, target)\n",
        "\n",
        "# The coefficients\n",
        "#print('Coefficients: \\n', regr.coef_)\n",
        "\n",
        "# The mean squared error\n",
        "#print(\"Mean squared error: %.2f\"\n",
        "      #% np.mean((regr.predict(diabetes_X_test) - diabetes_y_test) ** 2))\n",
        "targetTest = regr.predict(encodedCategoriesTest)\n",
        "print(len(targetTest))"
      ]
    },
    {
      "cell_type": "code",
      "execution_count": null,
      "metadata": {
        "_cell_guid": "a90f9817-6ab3-e5da-dd0d-e7bb51dd16a7"
      },
      "outputs": [],
      "source": [
        "print(targetTest)"
      ]
    },
    {
      "cell_type": "code",
      "execution_count": null,
      "metadata": {
        "_cell_guid": "f6bbb8e7-cf5a-27bc-52f8-544c79caeae7"
      },
      "outputs": [],
      "source": [
        "import numpy as np\n",
        "from sklearn import linear_model\n",
        "from sklearn.metrics import mean_squared_error\n",
        "\n",
        "# Split the data into training/testing sets\n",
        "encodedCategories_X_train = encodedCategories[:-20]\n",
        "encodedCategories_X_test = encodedCategories[-20:]\n",
        "\n",
        "# Split the targets into training/testing sets\n",
        "target_y_train = target[:-20]\n",
        "target_y_test = target[-20:]\n",
        "\n",
        "#print(target_y_test)\n",
        "\n",
        "# Create linear regression object\n",
        "regr1 = linear_model.LinearRegression()\n",
        "\n",
        "# Train the model using the training sets\n",
        "regr1.fit(encodedCategories_X_train, target_y_train)\n",
        "\n",
        "# The mean squared error\n",
        "#print(\"Mean squared error: %.2f\"\n",
        "      #% np.mean((regr.predict(encodedCategories_X_test) - target_y_test) ** 2))\n",
        "mean_squared_error(regr.predict(encodedCategories_X_test), target_y_test)\n",
        "#print(regr1.predict(encodedCategories_X_test))\n",
        "#print(target_y_test)"
      ]
    },
    {
      "cell_type": "code",
      "execution_count": null,
      "metadata": {
        "_cell_guid": "13ab2b71-2bce-5867-1a84-7be17e8a879a"
      },
      "outputs": [],
      "source": [
        "import pandas as pd\n",
        "from sklearn import preprocessing\n",
        "\n",
        "le_cat1 = preprocessing.LabelEncoder()\n",
        "\n",
        "train = pd.read_csv('../input/train.csv')\n",
        "#train.cat1 = le_cat1.fit_transform(train.cat1)\n",
        "#print(train)\n",
        "dummies = pd.get_dummies(train)\n",
        "\n"
      ]
    },
    {
      "cell_type": "code",
      "execution_count": null,
      "metadata": {
        "_cell_guid": "7822df4d-fbcd-00e3-e4f6-e676eaa82fbd"
      },
      "outputs": [],
      "source": [
        "#print(dummies['cat1_A'])\n"
      ]
    },
    {
      "cell_type": "code",
      "execution_count": null,
      "metadata": {
        "_cell_guid": "3b819996-5ae5-c42c-cc84-c108d3a6dfbf"
      },
      "outputs": [],
      "source": [
        "import pandas as pd\n",
        "from sklearn import preprocessing\n",
        "\n",
        "enc = preprocessing.OneHotEncoder()\n",
        "enc.fit(encodedCategories)\n",
        "#enc.transform([[0, 1, 3]]).toarray()"
      ]
    },
    {
      "cell_type": "code",
      "execution_count": null,
      "metadata": {
        "_cell_guid": "d085cad1-95fb-6118-f9b0-1139cab6b6e7"
      },
      "outputs": [],
      "source": [
        "import pandas as pd\n",
        "from sklearn import preprocessing\n",
        "\n",
        "enc = preprocessing.OneHotEncoder()\n",
        "enc.fit(encodedCategories)\n",
        "print(\"Hi\")\n",
        "#enc.transform([[0, 1, 3]]).toarray()"
      ]
    },
    {
      "cell_type": "code",
      "execution_count": null,
      "metadata": {
        "_cell_guid": "61beacde-8b2e-88da-0e6f-734fd24c6b48"
      },
      "outputs": [],
      "source": [
        "print (len(enc.transform([encodedCategories[0]]).toarray()))"
      ]
    }
  ],
  "metadata": {
    "_change_revision": 0,
    "_is_fork": false,
    "kernelspec": {
      "display_name": "Python 3",
      "language": "python",
      "name": "python3"
    },
    "language_info": {
      "codemirror_mode": {
        "name": "ipython",
        "version": 3
      },
      "file_extension": ".py",
      "mimetype": "text/x-python",
      "name": "python",
      "nbconvert_exporter": "python",
      "pygments_lexer": "ipython3",
      "version": "3.5.2"
    }
  },
  "nbformat": 4,
  "nbformat_minor": 0
}