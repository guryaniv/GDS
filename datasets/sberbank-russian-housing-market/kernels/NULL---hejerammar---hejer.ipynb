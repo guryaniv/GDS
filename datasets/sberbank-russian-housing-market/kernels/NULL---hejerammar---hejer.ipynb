{
  "cells": [
    {
      "cell_type": "code",
      "execution_count": null,
      "metadata": {
        "_cell_guid": "7e75037a-ca78-4be3-621d-7f3fbe677667"
      },
      "outputs": [],
      "source": [
        "# This Python 3 environment comes with many helpful analytics libraries installed\n",
        "# It is defined by the kaggle/python docker image: https://github.com/kaggle/docker-python\n",
        "# For example, here's several helpful packages to load in \n",
        "\n",
        "import numpy as np # linear algebra\n",
        "import pandas as pd # data processing, CSV file I/O (e.g. pd.read_csv)\n",
        "\n",
        "# Input data files are available in the \"../input/\" directory.\n",
        "# For example, running this (by clicking run or pressing Shift+Enter) will list the files in the input directory\n",
        "\n",
        "from subprocess import check_output\n",
        "print(check_output([\"ls\", \"../input\"]).decode(\"utf8\"))\n",
        "\n",
        "# Any results you write to the current directory are saved as output.\n",
        "import pandas as pd\n",
        "import matplotlib.pyplot as plt\n",
        "import math\n",
        "import seaborn as sns\n",
        "import numpy as np\n",
        "%matplotlib inline\n",
        "from sklearn import model_selection, preprocessing\n",
        "from sklearn.linear_model import LinearRegression\n",
        "\n",
        "train = pd.read_csv(\"../input/train.csv\")\n",
        "test = pd.read_csv(\"../input/test.csv\")\n",
        "print(\"train:\", train.shape)\n",
        "print(\"test:\" ,test.shape)"
      ]
    },
    {
      "cell_type": "code",
      "execution_count": null,
      "metadata": {
        "_cell_guid": "a0493c16-321a-7ac2-cf1b-ce2fc14628bd"
      },
      "outputs": [],
      "source": [
        "y = train.price_doc"
      ]
    },
    {
      "cell_type": "code",
      "execution_count": null,
      "metadata": {
        "_cell_guid": "0d441849-3196-16b9-3bd0-47f65c80690e"
      },
      "outputs": [],
      "source": [
        "plt.plot(y)"
      ]
    },
    {
      "cell_type": "code",
      "execution_count": null,
      "metadata": {
        "_cell_guid": "55e4c172-649e-6724-a9d4-e9dcab77e53e"
      },
      "outputs": [],
      "source": [
        "#histogramme de log de price\n",
        "plt.hist(np.log(y), bins=100)\n",
        "plt.title('Histogram of log-price')"
      ]
    },
    {
      "cell_type": "code",
      "execution_count": null,
      "metadata": {
        "_cell_guid": "7814f8d4-9482-7084-8174-dd4c9fd5ae29"
      },
      "outputs": [],
      "source": [
        "#sp\u00e9cifier les colones num\u00e9riques et les colones string\n",
        "dtypes = train.iloc[:,2:-1].dtypes\n",
        "string_cols = dtypes[dtypes == object].index\n",
        "num_cols = dtypes[dtypes != object].index"
      ]
    },
    {
      "cell_type": "code",
      "execution_count": null,
      "metadata": {
        "_cell_guid": "34b47949-482e-3942-fd64-ca82cd9016e1"
      },
      "outputs": [],
      "source": [
        "#description des colones non num\u00e9riques (les cat\u00e9gories)\n",
        "def categorical_summary(data, col):\n",
        "    filled_values = sum(data[col].notnull())\n",
        "    missing = sum(data[col].isnull())\n",
        "    cardinality = len(data[col].unique())\n",
        "    print(col.upper())\n",
        "    print('-------------------------------')\n",
        "    print('filled count: %s' %filled_values)\n",
        "    print('missing count: %s' %missing)\n",
        "    print('cardinality: %s' %cardinality)\n",
        "    print(data[col].value_counts())\n",
        "    print('\\n')"
      ]
    },
    {
      "cell_type": "code",
      "execution_count": null,
      "metadata": {
        "_cell_guid": "804c6cc8-68c7-000c-2687-bb9caa38dd0b"
      },
      "outputs": [],
      "source": [
        "for col in string_cols:\n",
        "    categorical_summary(train, col)"
      ]
    },
    {
      "cell_type": "code",
      "execution_count": null,
      "metadata": {
        "_cell_guid": "793d0606-6157-c93a-6f62-40b6c5b666df"
      },
      "outputs": [],
      "source": [
        "#transformation des yes no lists\n",
        "yes_no_list = ['culture_objects_top_25', 'thermal_power_plant_raion', 'incineration_raion', 'oil_chemistry_raion',\n",
        "          'radiation_raion', 'railroad_terminal_raion', 'big_market_raion', 'nuclear_reactor_raion',\n",
        "          'detention_facility_raion', 'water_1line', 'big_road1_1line', 'railroad_1line']\n",
        "for col in yes_no_list:\n",
        "    train.ix[train[col]=='yes', col]=1\n",
        "    train.ix[train[col]=='no', col]=0\n",
        "    test.ix[test[col]=='yes', col]=1\n",
        "    test.ix[test[col]=='no', col]=0"
      ]
    },
    {
      "cell_type": "code",
      "execution_count": null,
      "metadata": {
        "_cell_guid": "b6b876f4-aaf7-156a-d224-af27d0b0afcc"
      },
      "outputs": [],
      "source": [
        "#transformation de ecology\n",
        "train.ix[train[\"ecology\"]=='poor', \"ecology\"]=0\n",
        "train.ix[train[\"ecology\"]=='good', \"ecology\"]=2\n",
        "train.ix[train[\"ecology\"]=='excellent', \"ecology\"]=3\n",
        "train.ix[train[\"ecology\"]=='satisfactory', \"ecology\"]=1\n",
        "test.ix[test[\"ecology\"]=='poor', \"ecology\"]=0\n",
        "test.ix[test[\"ecology\"]=='good', \"ecology\"]=2\n",
        "test.ix[test[\"ecology\"]=='excellent', \"ecology\"]=3\n",
        "test.ix[test[\"ecology\"]=='satisfactory', \"ecology\"]=1"
      ]
    },
    {
      "cell_type": "code",
      "execution_count": null,
      "metadata": {
        "_cell_guid": "cf788450-52b7-8ecb-a63e-5a0266f4a9f4"
      },
      "outputs": [],
      "source": [
        "#determiner le mean de ecology sans missing data\n",
        "i = 0;\n",
        "s = 0;\n",
        "for lig in train[\"ecology\"]:\n",
        "    if lig != \"no data\" :\n",
        "        i=i+1\n",
        "        s=s+lig\n",
        "mean = s/i   \n",
        "print (mean)\n",
        "i = 0;\n",
        "s = 0;\n",
        "for lig in test[\"ecology\"]:\n",
        "    if lig != \"no data\" :\n",
        "        i=i+1\n",
        "        s=s+lig\n",
        "mean = s/i   \n",
        "print (mean)"
      ]
    },
    {
      "cell_type": "code",
      "execution_count": null,
      "metadata": {
        "_cell_guid": "17250c8c-8e29-47ea-204b-a6733604b42e"
      },
      "outputs": [],
      "source": [
        "#remplacer la missing data par le mean de ecology\n",
        "train.ix[train[\"ecology\"]=='no data', \"ecology\"]=1\n",
        "test.ix[test[\"ecology\"]=='no data', \"ecology\"]=1"
      ]
    },
    {
      "cell_type": "code",
      "execution_count": null,
      "metadata": {
        "_cell_guid": "39ed4ed3-1b3f-3919-aafe-aa443c8e89b5"
      },
      "outputs": [],
      "source": [
        "train.ix[train[\"product_type\"]=='Investment', \"product_type\"]=1\n",
        "train.ix[train[\"product_type\"]=='OwnerOccupier', \"product_type\"]=0\n",
        "test.ix[test[\"product_type\"]=='Investment', \"product_type\"]=1\n",
        "test.ix[test[\"product_type\"]=='OwnerOccupier', \"product_type\"]=0\n",
        "print (test.head)"
      ]
    },
    {
      "cell_type": "code",
      "execution_count": null,
      "metadata": {
        "_cell_guid": "7cd43ad6-9369-43a4-8f69-66866efc0e60"
      },
      "outputs": [],
      "source": [
        "from sklearn.base import TransformerMixin\n",
        "class DataFrameImputer(TransformerMixin):\n",
        "    def fit(self, X, y=None):\n",
        "        self.fill = pd.Series([X[c].value_counts().index[0]\n",
        "        if X[c].dtype == np.dtype('O') else X[c].median() for c in X],\n",
        "        index=X.columns)\n",
        "        return self\n",
        "    def transform(self, X, y=None):\n",
        "        return X.fillna(self.fill)\n",
        "train = DataFrameImputer().fit_transform(train)\n",
        "test = DataFrameImputer().fit_transform(test)"
      ]
    },
    {
      "cell_type": "code",
      "execution_count": null,
      "metadata": {
        "_cell_guid": "26034f52-ac32-1f92-48ae-2f30338ca9be"
      },
      "outputs": [],
      "source": [
        "y = train.price_doc\n",
        "train_X = train.drop([\"price_doc\",\"id\",\"timestamp\",\"sub_area\"],axis=1)\n",
        "# instantiate\n",
        "linreg = LinearRegression()\n",
        "\n",
        "# fit the model to the training data (learn the coefficients)\n",
        "linreg.fit(train_X, y)"
      ]
    },
    {
      "cell_type": "code",
      "execution_count": null,
      "metadata": {
        "_cell_guid": "3f258295-6d0b-b67f-fdb9-2627778c652d"
      },
      "outputs": [],
      "source": [
        "print(linreg.intercept_)\n",
        "print(linreg.coef_)"
      ]
    },
    {
      "cell_type": "code",
      "execution_count": null,
      "metadata": {
        "_cell_guid": "150b8779-81e5-d0b3-1aa6-782be4933be9"
      },
      "outputs": [],
      "source": [
        "from sklearn import metrics\n",
        "test_X = test.drop([\"id\",\"timestamp\",\"sub_area\"],axis=1)\n",
        "y_pred = linreg.predict(test_X)"
      ]
    },
    {
      "cell_type": "code",
      "execution_count": null,
      "metadata": {
        "_cell_guid": "0827edee-1724-eaa5-af2d-37124efdb855"
      },
      "outputs": [],
      "source": ""
    }
  ],
  "metadata": {
    "_change_revision": 0,
    "_is_fork": false,
    "kernelspec": {
      "display_name": "Python 3",
      "language": "python",
      "name": "python3"
    },
    "language_info": {
      "codemirror_mode": {
        "name": "ipython",
        "version": 3
      },
      "file_extension": ".py",
      "mimetype": "text/x-python",
      "name": "python",
      "nbconvert_exporter": "python",
      "pygments_lexer": "ipython3",
      "version": "3.6.0"
    }
  },
  "nbformat": 4,
  "nbformat_minor": 0
}