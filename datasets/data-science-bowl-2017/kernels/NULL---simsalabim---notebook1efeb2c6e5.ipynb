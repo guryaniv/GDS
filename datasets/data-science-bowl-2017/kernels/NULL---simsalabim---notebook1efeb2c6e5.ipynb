{
  "metadata": {
    "kernelspec": {
      "display_name": "Python 3",
      "language": "python",
      "name": "python3"
    },
    "language_info": {
      "codemirror_mode": {
        "name": "ipython",
        "version": 3
      },
      "file_extension": ".py",
      "mimetype": "text/x-python",
      "name": "python",
      "nbconvert_exporter": "python",
      "pygments_lexer": "ipython3",
      "version": "3.6.0"
    }
  },
  "nbformat": 4,
  "nbformat_minor": 0,
  "cells": [
    {
      "metadata": {
        "_cell_guid": "94664998-65c5-684b-fce7-05289dcd777e",
        "_active": false,
        "collapsed": false
      },
      "source": "import dicom\nimport os\nimport numpy as np\nimport pandas as pd\nimport matplotlib.pyplot as plt\nimport cv2\nimport math\n\nIMG_PX_SIZE = 50\nHM_SLICES = 20 \n\ndef chunks(l, n):\n    for i in range(0, len(l), n):\n        yield l[i:i + n]\n\ndef mean(l):\n    return sum(l)/len(l)\n\ndata_dir = \"../input/sample_images/\"\npatients = os.listdir(data_dir)\n\ndef process_data(patient, img_px_size=50, hm_slices=20, visualize=False):\n    label = np.array([0,1])\n    path = data_dir + patient\n\n    slices = [dicom.read_file(path + '/' +  s) for s in os.listdir(path)]\n    slices.sort(key = lambda x: int(x.ImagePositionPatient[2]))\n    \n    new_slices = [] \n    \n    slices = [cv2.resize(np.array(each_slice.pixel_array),(IMG_PX_SIZE,IMG_PX_SIZE)) for each_slice in slices]\n\n    chunk_sizes = math.ceil(len(slices) / HM_SLICES)\n    \n    for slice_chunk in chunks(slices,chunk_sizes):\n        slice_chunk = list(map(mean,zip(*slice_chunk)))\n        new_slices.append(slice_chunk)\n    \n    if len(new_slices) == HM_SLICES-1:\n        new_slices.append(new_slices[-1])\n    \n    if len(new_slices) == HM_SLICES-2:\n        new_slices.append(new_slices[-1])\n        new_slices.append(new_slices[-1])\n    \n    if len(new_slices) == HM_SLICES+2:\n        new_val = list(map(mean, zip(*[new_slices[HM_SLICES-1],new_slices[HM_SLICES]])))\n        del new_slices[HM_SLICES]\n        new_slices[HM_SLICES-1]=new_val\n        \n    if len(new_slices) == HM_SLICES+1:\n        new_val = list(map(mean, zip(*[new_slices[HM_SLICES-1],new_slices[HM_SLICES]])))\n        del new_slices[HM_SLICES]\n        new_slices[HM_SLICES-1]=new_val     \n    \n    print (len(new_slices))\n    \n    if visualize:\n        fig = plt.figure()\n        for num, each_slice in enumerate(new_slices):\n            y = fig.add_subplot(4,5,num+1)\n            y.imshow(each_slice)\n        plt.show()\n\n    return np.array(new_slices), label\n\nmuch_data = []\n\nfor num, patient in enumerate(patients):\n    if num%100==0:\n        print (num)\n    try:\n        img_data,label = process_Data(patient, img_px_size=IMG_PX_SIZE, hm_slices=HM_SLICES)\n        much_data.append([img_data, label])\n    except KeyError as e:\n        print ('This is unlabeled data')\n        ",
      "execution_count": null,
      "cell_type": "code",
      "outputs": [],
      "execution_state": "idle"
    },
    {
      "metadata": {
        "_cell_guid": "bc79acb1-5867-3269-d973-1175cc7af901",
        "_active": true,
        "collapsed": false
      },
      "source": "%matplotlib inline\nimport pandas as pd\nimport dicom\nimport os\nimport scipy.ndimage\nimport matplotlib.pyplot as plt\n\nfrom skimage import measure, morphology\nfrom mpl_toolkits.mplot3d.art3d import Poly3DCollection\n\ndef load_scan(path):\n    \n    slices = [dicom.read_file(path + '/' + s) for s in os.listdir(path)]\n    slices.sort(key = lambda x: float(x.ImagePositionPatient[2])) \n    try:\n        slice_thickness = np.abs(slices[0].ImagePositionPatient[2] - slices[1].ImagePositionPatient[2])\n    except:\n        slice_thickness = np.abs(slices[0].SliceLocation - slices[1].SliceLocation)\n    \n    for s in slice:\n        s.SliceThickness = slice_thickness\n    \n    return slice\n\ndef get_pixels_hu(slices):\n    image = np.stack([s.pixel_array for s in slices])\n    # Convert to int16 (from sometimes int16), \n    # should be possible as values should always be low enough (<32k)\n    image = image.astype(np.int16)\n\n    # Set outside-of-scan pixels to 0\n    # The intercept is usually -1024, so air is approximately 0\n    image[image == -2000] = 0\n    \n    # Convert to Hounsfield units (HU)\n    for slice_number in range(len(slices)):\n        \n        intercept = slices[slice_number].RescaleIntercept\n        slope = slices[slice_number].RescaleSlope\n        \n        if slope != 1:\n            image[slice_number] = slope * image[slice_number].astype(np.float64)\n            image[slice_number] = image[slice_number].astype(np.int16)\n            \n        image[slice_number] += np.int16(intercept)\n    \n    return np.array(image, dtype=np.int16)\n\ndef resample(image, scan, new_spacing=[1,1,1]):\n    # Determine current pixel spacing\n    spacing = np.array([scan[0].SliceThickness] + scan[0].PixelSpacing, dtype=np.float32)\n\n    resize_factor = spacing / new_spacing\n    new_real_shape = image.shape * resize_factor\n    new_shape = np.round(new_real_shape)\n    real_resize_factor = new_shape / image.shape\n    new_spacing = spacing / real_resize_factor\n    \n    image = scipy.ndimage.interpolation.zoom(image, real_resize_factor, mode='nearest')\n    \n    return image, new_spacing\n\n\n\nINPUT_FOLDER = '../input/sample_images/'\npatients = os.listdir(INPUT_FOLDER)\npatients.sort()\n\nprint (patients)\n\npix_resampled, spacing = resample(first_patient_pixels, first_patient, [1,1,1])\nprint(\"Shape before resampling\\t\", first_patient_pixels.shape)\nprint(\"Shape after resampling\\t\", pix_resampled.shape)\n\n",
      "execution_count": 3,
      "cell_type": "code",
      "outputs": [],
      "execution_state": "idle"
    },
    {
      "metadata": {
        "_cell_guid": "5afcef6e-065b-482c-1c32-f167c4df61fe",
        "_active": false,
        "collapsed": false
      },
      "source": null,
      "execution_count": null,
      "cell_type": "code",
      "outputs": []
    }
  ]
}