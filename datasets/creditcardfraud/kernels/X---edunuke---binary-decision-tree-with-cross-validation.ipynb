{
  "cells": [
    {
      "cell_type": "markdown",
      "metadata": {
        "_cell_guid": "54a989a4-01a7-09e6-3e75-6e7db66352ff"
      },
      "source": [
        "The following is an Implementation of Binary Decision Tree Classifier with cross-validation to detect fraudulent transactions."
      ]
    },
    {
      "cell_type": "code",
      "execution_count": null,
      "metadata": {
        "_cell_guid": "904fb4c5-5baf-87e5-db78-2c24def64f64"
      },
      "outputs": [],
      "source": [
        "import os\n",
        "import numpy as np\n",
        "import pandas as pd\n",
        "import matplotlib.pyplot as plt\n",
        "from sklearn.utils import shuffle\n",
        "from sklearn.tree import DecisionTreeClassifier\n",
        "from sklearn.metrics import roc_auc_score"
      ]
    },
    {
      "cell_type": "markdown",
      "metadata": {
        "_cell_guid": "549db069-193e-58e4-5f78-5af925b649bd"
      },
      "source": [
        "load and shuffle original data"
      ]
    },
    {
      "cell_type": "code",
      "execution_count": null,
      "metadata": {
        "_cell_guid": "83cb108e-86a0-29a6-964a-c74b1587eda1"
      },
      "outputs": [],
      "source": [
        "from subprocess import check_output\n",
        "print(check_output([\"ls\", \"../input\"]).decode(\"utf8\"))\n",
        "df = pd.read_csv(\"../input/creditcard.csv\")\n",
        "df =  shuffle(df).reset_index(drop=True)\n",
        "df.head()"
      ]
    },
    {
      "cell_type": "markdown",
      "metadata": {
        "_cell_guid": "f5c1c188-7798-545e-21c7-e8fdc9590847"
      },
      "source": [
        "Separate dataset into train and test sets"
      ]
    },
    {
      "cell_type": "code",
      "execution_count": null,
      "metadata": {
        "_cell_guid": "d1d53212-9c3a-b888-af16-a3cb3f77e30a"
      },
      "outputs": [],
      "source": [
        "frac =0.80 \n",
        "X_train = df.sample(frac=frac)\n",
        "count_FRAUDE = len(X_train)\n",
        "\n",
        "#X_test contains all the transaction not in X_train.\n",
        "X_test = df.loc[~df.index.isin(X_train.index)].reset_index(drop=True).astype(float)\n",
        "\n",
        "#Add our target features to y_train and y_test.\n",
        "y_train = pd.DataFrame({'Class':X_train.Class.reset_index(drop=True)})\n",
        "\n",
        "\n",
        "\n",
        "y_test = pd.DataFrame({'Class':X_test.Class.reset_index(drop=True)})\n",
        "\n",
        "#Drop target features from predictors X_train and X_test.\n",
        "X_train = X_train.drop(['Class'], axis = 1).reset_index(drop=True)\n",
        "X_test = X_test.drop(['Class'], axis = 1).reset_index(drop=True)\n"
      ]
    },
    {
      "cell_type": "markdown",
      "metadata": {
        "_cell_guid": "e1be12d9-94ac-1a4c-2be9-c6b5c90a0da4"
      },
      "source": [
        "Normalized Dataset except for target variable"
      ]
    },
    {
      "cell_type": "code",
      "execution_count": null,
      "metadata": {
        "_cell_guid": "c29447da-26ef-f064-e5c2-8603cfa67e80"
      },
      "outputs": [],
      "source": [
        "features = X_train.columns.values\n",
        "for feature in features:\n",
        "    mean, std = df[feature].mean(), df[feature].std()\n",
        "    X_train.loc[:, feature] = (X_train[feature] - mean) / std\n",
        "    X_test.loc[:, feature] = (X_test[feature] - mean) / std\n"
      ]
    },
    {
      "cell_type": "markdown",
      "metadata": {
        "_cell_guid": "620e99fc-a14e-31f2-51ac-a97f2e205b2d"
      },
      "source": [
        "Prepare The training and perform x-validation to see which tree depth minimizes the Minimum Squared Error (MSE)"
      ]
    },
    {
      "cell_type": "code",
      "execution_count": null,
      "metadata": {
        "_cell_guid": "337c771f-12fd-36ac-3734-196a0b76cf64"
      },
      "outputs": [],
      "source": [
        "nrow = len(X_train)\n",
        "depthList = np.array(range(1,20)) #search depth list\n",
        "xvalMSE =[]\n",
        "epoch = 1\n",
        "score_history =[]\n",
        "for iDepth in depthList:\n",
        "\n",
        "    for ixval in range(epoch):\n",
        "\n",
        "        xTrain = X_train.as_matrix()\n",
        "        yTrain = y_train.as_matrix().ravel()\n",
        "        xTest = X_test.as_matrix()\n",
        "        yTest = y_test.as_matrix().ravel()\n",
        "\n",
        "    \n",
        "        treeModel = DecisionTreeClassifier(max_depth = iDepth)\n",
        "        treeModel.fit(xTrain, yTrain)\n",
        "        \n",
        "        treePrediction = treeModel.predict(xTest)\n",
        "        treePrediction=np.array(treePrediction,dtype=np.float32)\n",
        "        yTest = np.array(yTest,dtype=np.float32)\n",
        "        \n",
        "        error = [yTest[r] - treePrediction[r] for r in range(len(yTest))]\n",
        "\n",
        "        \n",
        "        if ixval == 0:\n",
        "            oosErrors = sum([e*e for e in error])\n",
        "        else:\n",
        "            oosErrors += sum([e*e for e in error])\n",
        "    score = roc_auc_score(yTest, treePrediction)\n",
        "    score_history.append(score)    \n",
        "    mse = oosErrors/nrow\n",
        "    xvalMSE.append(mse)"
      ]
    },
    {
      "cell_type": "code",
      "execution_count": null,
      "metadata": {
        "_cell_guid": "393b6e8c-922c-3eb8-2c51-d22cbbcdbb28"
      },
      "outputs": [],
      "source": [
        "plt.figure()\n",
        "plt.plot(depthList,xvalMSE)\n",
        "plt.axis(\"tight\")\n",
        "plt.xlabel(\"Tree Depth\")\n",
        "plt.ylabel(\"MSE\")\n",
        "opt_depth = depthList[np.argmin(xvalMSE)]\n",
        "plt.plot(opt_depth,np.amin(xvalMSE),\"or\")"
      ]
    },
    {
      "cell_type": "code",
      "execution_count": null,
      "metadata": {
        "_cell_guid": "0970dcc9-3572-3761-dd6c-92206b761e09"
      },
      "outputs": [],
      "source": [
        "plt.figure()\n",
        "plt.plot(depthList,score_history)\n",
        "plt.axis(\"tight\")\n",
        "plt.xlabel(\"Tree Depth\")\n",
        "plt.ylabel(\"ROC AUC Scores\")\n",
        "plt.show()"
      ]
    },
    {
      "cell_type": "code",
      "execution_count": null,
      "metadata": {
        "_cell_guid": "700bdef7-1173-3a72-11e7-32556550dd9c"
      },
      "outputs": [],
      "source": [
        "print(\"Minimum MSE:\",np.amin(xvalMSE))\n",
        "print(\"Maximum ROC AUC Score:\", np.amax(score_history))"
      ]
    }
  ],
  "metadata": {
    "_change_revision": 0,
    "_is_fork": false,
    "kernelspec": {
      "display_name": "Python 3",
      "language": "python",
      "name": "python3"
    },
    "language_info": {
      "codemirror_mode": {
        "name": "ipython",
        "version": 3
      },
      "file_extension": ".py",
      "mimetype": "text/x-python",
      "name": "python",
      "nbconvert_exporter": "python",
      "pygments_lexer": "ipython3",
      "version": "3.6.0"
    }
  },
  "nbformat": 4,
  "nbformat_minor": 0
}