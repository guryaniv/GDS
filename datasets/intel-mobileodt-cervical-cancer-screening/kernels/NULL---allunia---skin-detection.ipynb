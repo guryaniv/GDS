{
  "cells": [
    {
      "cell_type": "markdown",
      "metadata": {
        "_cell_guid": "ddef2dda-fc5b-51c0-8725-a758bde45d7e"
      },
      "source": [
        "# Skin detection\n",
        "\n",
        "This kernel is still growing! ;-) I will add comments, explanations and improvements as long as I proceed with this method and as I like to share what I found. Happy reading! "
      ]
    },
    {
      "cell_type": "code",
      "execution_count": null,
      "metadata": {
        "_cell_guid": "f0bb58ca-3fcb-2f90-9b22-156866219619"
      },
      "outputs": [],
      "source": [
        "import numpy as np\n",
        "import pandas as pd\n",
        "import matplotlib.pyplot as plt\n",
        "from skimage.transform import resize, rescale\n",
        "from skimage.io import imread, imshow\n",
        "from glob import glob\n",
        "from sklearn.mixture import GaussianMixture\n",
        "\n",
        "\n",
        "%matplotlib inline\n",
        "\n",
        "INPUTFOLDER = '../input/train/'"
      ]
    },
    {
      "cell_type": "code",
      "execution_count": null,
      "metadata": {
        "_cell_guid": "19c3f3ad-a8c2-899d-51ac-1d7da149a041"
      },
      "outputs": [],
      "source": [
        "all_cervix_images = []\n",
        "\n",
        "for path in glob(INPUTFOLDER + \"*\"):\n",
        "    cervix_type = path.split(\"/\")[-1]\n",
        "    cervix_images = glob(INPUTFOLDER + cervix_type + \"/*\")\n",
        "    all_cervix_images = all_cervix_images + cervix_images\n",
        "\n",
        "all_cervix_images = pd.DataFrame({'imagepath': all_cervix_images})\n",
        "all_cervix_images['type'] = all_cervix_images.apply(lambda row: row.imagepath.split(\"/\")[-2], axis=1)\n",
        "all_cervix_images.head()"
      ]
    },
    {
      "cell_type": "code",
      "execution_count": null,
      "metadata": {
        "_cell_guid": "338d42df-ca54-889f-e4fb-d03d79fe25ac"
      },
      "outputs": [],
      "source": [
        "nr_images = len(all_cervix_images['imagepath'].unique())\n",
        "nr_images"
      ]
    },
    {
      "cell_type": "code",
      "execution_count": null,
      "metadata": {
        "_cell_guid": "881823c7-c3e3-2839-8cd6-9a7e996623fa"
      },
      "outputs": [],
      "source": [
        "all_cervix_images['type'].value_counts()"
      ]
    },
    {
      "cell_type": "code",
      "execution_count": null,
      "metadata": {
        "_cell_guid": "2d3957e2-4bc7-bb6b-7489-e24b1fb3fbe9"
      },
      "outputs": [],
      "source": [
        "fig = plt.figure(figsize=(13,13))\n",
        "\n",
        "i = 1\n",
        "nr_examples = 3\n",
        "for t in all_cervix_images['type'].unique():\n",
        "    for m in range(nr_examples):\n",
        "        ax = fig.add_subplot(3,nr_examples,i)\n",
        "        plt.title('cervix {}'.format(t))\n",
        "        i+=1\n",
        "        f = all_cervix_images[all_cervix_images['type'] == t]['imagepath'].values[m]\n",
        "        plt.imshow(imread(f))"
      ]
    },
    {
      "cell_type": "markdown",
      "metadata": {
        "_cell_guid": "bcc40569-4311-8fbd-7bad-cca271b6882f"
      },
      "source": [
        "### Challenges\n",
        "- different image shapes\n",
        "- medical equipment\n",
        "- circular and rectangular views\n",
        "- illumination quality (and missing color channels)\n",
        "- different cervix sizes"
      ]
    },
    {
      "cell_type": "markdown",
      "metadata": {
        "_cell_guid": "01f23e63-a52a-a602-a8b6-b48594c3a1fb"
      },
      "source": [
        "## An example image"
      ]
    },
    {
      "cell_type": "code",
      "execution_count": null,
      "metadata": {
        "_cell_guid": "d967484a-f6ca-d0a8-878a-de8013d00841"
      },
      "outputs": [],
      "source": [
        "example = imread(all_cervix_images[all_cervix_images['type'] == 'Type_3']['imagepath'].values[0])"
      ]
    },
    {
      "cell_type": "code",
      "execution_count": null,
      "metadata": {
        "_cell_guid": "d0605a3c-99f6-b5e3-ee86-ae7a3dc60124"
      },
      "outputs": [],
      "source": [
        "imshow(example)"
      ]
    },
    {
      "cell_type": "code",
      "execution_count": null,
      "metadata": {
        "_cell_guid": "cf744441-ffd1-fdee-e38e-eeaa9967ac7b"
      },
      "outputs": [],
      "source": [
        "fig = plt.figure(figsize=(13,13))\n",
        "strings = ['red', 'green', 'blue']\n",
        "for channel in range(3):\n",
        "    ax = fig.add_subplot(1,3,channel+1)\n",
        "    plt.title('{}'.format(strings[channel]))\n",
        "    plt.imshow(example[:,:,channel])"
      ]
    },
    {
      "cell_type": "code",
      "execution_count": null,
      "metadata": {
        "_cell_guid": "d7a5a5ab-bd27-6d1c-2c6f-0bbc2ad30752"
      },
      "outputs": [],
      "source": [
        "std_over_channels_image = np.std(example, axis=2)\n",
        "fig = plt.figure(figsize=(13,13))\n",
        "imshow(std_over_channels_image)\n",
        "plt.title('Standard deviation over color channels')\n",
        "plt.show()"
      ]
    },
    {
      "cell_type": "markdown",
      "metadata": {
        "_cell_guid": "203b8d7f-6847-c319-7784-67148b922f26"
      },
      "source": [
        "## Skin clustering: DBSCAN"
      ]
    },
    {
      "cell_type": "code",
      "execution_count": null,
      "metadata": {
        "_cell_guid": "d528efc6-8545-9dc7-b01f-a5a18e6b377d"
      },
      "outputs": [],
      "source": [
        "class Cluster:\n",
        "\n",
        "    def __init__(self):\n",
        "        self.cluster = set()\n",
        "\n",
        "    def add(self, point):\n",
        "        if point not in self.cluster:\n",
        "            self.cluster.add(point)\n",
        "\n",
        "    def contains(self, point):\n",
        "        return point in self.cluster\n",
        "\n",
        "    \n",
        "def euclidian(X, Y):\n",
        "    squared = np.power(X-Y, 2)\n",
        "    sum = np.sum(squared)\n",
        "    return np.sqrt(sum)"
      ]
    }
  ],
  "metadata": {
    "_change_revision": 0,
    "_is_fork": false,
    "kernelspec": {
      "display_name": "Python 3",
      "language": "python",
      "name": "python3"
    },
    "language_info": {
      "codemirror_mode": {
        "name": "ipython",
        "version": 3
      },
      "file_extension": ".py",
      "mimetype": "text/x-python",
      "name": "python",
      "nbconvert_exporter": "python",
      "pygments_lexer": "ipython3",
      "version": "3.6.0"
    }
  },
  "nbformat": 4,
  "nbformat_minor": 0
}