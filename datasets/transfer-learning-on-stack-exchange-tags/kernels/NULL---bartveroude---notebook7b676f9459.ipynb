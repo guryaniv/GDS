{
  "metadata": {
    "kernelspec": {
      "display_name": "Python 3",
      "language": "python",
      "name": "python3"
    },
    "language_info": {
      "codemirror_mode": {
        "name": "ipython",
        "version": 3
      },
      "file_extension": ".py",
      "mimetype": "text/x-python",
      "name": "python",
      "nbconvert_exporter": "python",
      "pygments_lexer": "ipython3",
      "version": "3.6.0"
    }
  },
  "nbformat": 4,
  "nbformat_minor": 0,
  "cells": [
    {
      "metadata": {
        "_cell_guid": "9dac769b-68dd-b6de-43c9-f7dc613d6c2d",
        "_active": false,
        "collapsed": false
      },
      "source": "# This Python 3 environment comes with many helpful analytics libraries installed\n# It is defined by the kaggle/python docker image: https://github.com/kaggle/docker-python\n# For example, here's several helpful packages to load in \n\nimport numpy as np # linear algebra\nimport pandas as pd # data processing, CSV file I/O (e.g. pd.read_csv)\nfrom bs4 import BeautifulSoup\nimport re\nimport string",
      "execution_count": null,
      "cell_type": "code",
      "outputs": [],
      "execution_state": "idle"
    },
    {
      "metadata": {
        "_cell_guid": "1d8f9fa0-4183-cac8-2890-2696141ac77c",
        "_active": false,
        "collapsed": false
      },
      "source": "dataframes = {\n    \"cooking\": pd.read_csv(\"../input/cooking.csv\"),\n    \"crypto\": pd.read_csv(\"../input/crypto.csv\"),\n    \"robotics\": pd.read_csv(\"../input/robotics.csv\"),\n    \"biology\": pd.read_csv(\"../input/biology.csv\"),\n    \"travel\": pd.read_csv(\"../input/travel.csv\"),\n    \"diy\": pd.read_csv(\"../input/diy.csv\"),\n}",
      "execution_count": null,
      "cell_type": "code",
      "outputs": [],
      "execution_state": "idle"
    },
    {
      "metadata": {
        "_cell_guid": "b698a10e-57a5-82b3-4f56-5b6ea29aec21",
        "_active": false,
        "collapsed": false
      },
      "source": "uri_re = r'(?i)\\b((?:https?://|www\\d{0,3}[.]|[a-z0-9.\\-]+[.][a-z]{2,4}/)(?:[^\\s()<>]+|\\(([^\\s()<>]+|(\\([^\\s()<>]+\\)))*\\))+(?:\\(([^\\s()<>]+|(\\([^\\s()<>]+\\)))*\\)|[^\\s`!()\\[\\]{};:\\'\".,<>?������]))'\n\ndef stripTagsAndUris(x):\n    if x:\n        # BeautifulSoup on content\n        soup = BeautifulSoup(x, \"html.parser\")\n        # Stripping all <code> tags with their content if any\n        if soup.code:\n            soup.code.decompose()\n        # Get all the text out of the html\n        text =  soup.get_text()\n        # Returning text stripping out all uris\n        return re.sub(uri_re, \"\", text)\n    else:\n        return \"\"",
      "execution_count": null,
      "cell_type": "code",
      "outputs": [],
      "execution_state": "idle"
    },
    {
      "metadata": {
        "_cell_guid": "96e95632-59a8-12bc-c9aa-7acc05110db1",
        "_active": false,
        "collapsed": false
      },
      "source": "# This could take a while\nfor df in dataframes.values():\n    df[\"content\"] = df[\"content\"].map(stripTagsAndUris)",
      "execution_count": null,
      "cell_type": "code",
      "outputs": [],
      "execution_state": "idle"
    },
    {
      "metadata": {
        "_cell_guid": "801dab1a-dce2-b99a-c37d-ffcb1afc41e0",
        "_active": false,
        "collapsed": false
      },
      "source": "def removePunctuation(x):\n    # Lowercasing all words\n    x = x.lower()\n    # Removing non ASCII chars\n    x = re.sub(r'[^\\x00-\\x7f]',r' ',x)\n    # Removing (replacing with empty spaces actually) all the punctuations\n    return re.sub(\"[\"+string.punctuation+\"]\", \" \", x)",
      "execution_count": null,
      "cell_type": "code",
      "outputs": [],
      "execution_state": "idle"
    },
    {
      "metadata": {
        "_cell_guid": "f06b0327-d754-c9c5-b5f3-00829e0d9c5b",
        "_active": false,
        "collapsed": false
      },
      "source": "for df in dataframes.values():\n    df[\"title\"] = df[\"title\"].map(removePunctuation)\n    df[\"content\"] = df[\"content\"].map(removePunctuation)",
      "execution_count": null,
      "cell_type": "code",
      "outputs": [],
      "execution_state": "idle"
    },
    {
      "metadata": {
        "_cell_guid": "689f3cfc-c9ca-69c3-3044-14fb92d1d23a",
        "_active": false,
        "collapsed": false
      },
      "source": "for df in dataframes.values():\n    # From a string sequence of tags to a list of tags\n    df[\"tags\"] = df[\"tags\"].map(lambda x: x.split())",
      "execution_count": null,
      "cell_type": "code",
      "outputs": [],
      "execution_state": "idle"
    },
    {
      "metadata": {
        "_cell_guid": "b3428775-0c14-102d-6f23-24e5921f53ee",
        "_active": true,
        "collapsed": false
      },
      "source": "print(dataframes[\"robotics\"].iloc[1].content[2])",
      "execution_count": null,
      "cell_type": "code",
      "outputs": [],
      "execution_state": "idle"
    }
  ]
}