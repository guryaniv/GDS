{
  "cells": [
    {
      "cell_type": "markdown",
      "metadata": {
        "_cell_guid": "8e1fd175-8a12-ba9c-48bc-b0255d999574"
      },
      "source": [
        "According to Karpathy's Cs231(Stanford) course nearest neighbors \"can be\" used in image classification even if it's rarely used in real life. My transfer learning model with VGG-16 architecture actually has better log-loss than this one, however I wanted to try out KNN on image data. So here KNN was implemented based on normalized color histogram of input images. No parameter tuning was done so far."
      ]
    },
    {
      "cell_type": "code",
      "execution_count": null,
      "metadata": {
        "_cell_guid": "0fb3b93e-7145-0515-e1d3-e7d24cbea6ec"
      },
      "outputs": [],
      "source": [
        "import numpy as np\n",
        "import matplotlib.pyplot as plt\n",
        "import pandas as pd"
      ]
    },
    {
      "cell_type": "code",
      "execution_count": null,
      "metadata": {
        "_cell_guid": "702f9b2f-a1bb-0144-f800-8c306d5a184b"
      },
      "outputs": [],
      "source": [
        "import cv2\n",
        "import os\n",
        "from sklearn.neighbors import KNeighborsClassifier\n",
        "from sklearn.model_selection import train_test_split\n",
        "from sklearn.preprocessing import LabelEncoder\n",
        "from sklearn.metrics import log_loss\n",
        "from sklearn.model_selection import GridSearchCV\n",
        "from sklearn.metrics import make_scorer"
      ]
    },
    {
      "cell_type": "code",
      "execution_count": null,
      "metadata": {
        "_cell_guid": "072b2469-ed87-0626-c093-e1667b64ec7e"
      },
      "outputs": [],
      "source": [
        "# Extracts raw pixel array from images\n",
        "def get_image_vector(image,size=(64,64)):\n",
        "    return cv2.resize(image,size).flatten()"
      ]
    },
    {
      "cell_type": "code",
      "execution_count": null,
      "metadata": {
        "_cell_guid": "a8d40bcb-cdeb-e36a-2a60-e42b3508ddb4"
      },
      "outputs": [],
      "source": [
        "# Extracts the color histogram from images\n",
        "def extract_color_histogram(image,bins = (8,8,8)):\n",
        "    hsv = cv2.cvtColor(image,cv2.COLOR_BGR2HSV)\n",
        "    hist = cv2.calcHist([hsv],[0,1,2],None,bins,[0,256,0,256,0,256])\n",
        "    cv2.normalize(hist,hist)\n",
        "    return hist.flatten()"
      ]
    },
    {
      "cell_type": "code",
      "execution_count": null,
      "metadata": {
        "_cell_guid": "738f3cf3-18cf-fbba-15a7-1f122508468c"
      },
      "outputs": [],
      "source": [
        "train_dir = \"../input/train/\"\n",
        "test_dir = \"../input/test_stg1/\""
      ]
    },
    {
      "cell_type": "code",
      "execution_count": null,
      "metadata": {
        "_cell_guid": "0fcda1a0-20b4-21e3-e12f-53bbbe1bb42d"
      },
      "outputs": [],
      "source": [
        "classes = sorted(os.listdir(train_dir))[1:]\n",
        "print(classes)"
      ]
    },
    {
      "cell_type": "code",
      "execution_count": null,
      "metadata": {
        "_cell_guid": "f3b9d73c-622b-1dab-1834-ef8fddb1688d"
      },
      "outputs": [],
      "source": [
        "# Get the training data paths\n",
        "\n",
        "image_path_list = []\n",
        "for c in classes:\n",
        "    fish_images = [train_dir+c+'/'+item for item in os.listdir(train_dir+c+'/')]\n",
        "    image_path_list.extend(fish_images)"
      ]
    },
    {
      "cell_type": "code",
      "execution_count": null,
      "metadata": {
        "_cell_guid": "cc6bc8b0-907e-f28e-5969-81e09803c03b"
      },
      "outputs": [],
      "source": [
        "# Get the labels\n",
        "\n",
        "labels = []\n",
        "for c in classes:\n",
        "    l = [c]*len(os.listdir(train_dir+c+'/'))\n",
        "    labels.extend(l)\n",
        "    "
      ]
    },
    {
      "cell_type": "code",
      "execution_count": null,
      "metadata": {
        "_cell_guid": "bc821e0a-cccf-c1b5-7230-3f4f793ba2a1"
      },
      "outputs": [],
      "source": [
        "# Encode the labels\n",
        "\n",
        "labels = LabelEncoder().fit_transform(labels)"
      ]
    },
    {
      "cell_type": "code",
      "execution_count": null,
      "metadata": {
        "_cell_guid": "4efe2db3-d0c1-9c99-aef0-11404af15ef9"
      },
      "outputs": [],
      "source": [
        "labels"
      ]
    },
    {
      "cell_type": "code",
      "execution_count": null,
      "metadata": {
        "_cell_guid": "5332ff0c-b201-6eba-e93f-2880e014e3e8"
      },
      "outputs": [],
      "source": [
        "# Get the color histograms from the images\n",
        "\n",
        "features = []\n",
        "for i,image_path in enumerate(image_path_list):\n",
        "    image = cv2.imread(image_path)\n",
        "    hist = extract_color_histogram(image)\n",
        "    features.append(hist)\n",
        "    if(i%1000==0):\n",
        "        print(str(i)+ \"  completed\")"
      ]
    },
    {
      "cell_type": "code",
      "execution_count": null,
      "metadata": {
        "_cell_guid": "cf6db0f1-ed9c-afdb-5f35-2667adb8d616"
      },
      "outputs": [],
      "source": [
        "X_train,X_test,y_train,y_test = train_test_split(features,labels,test_size = 0.25, random_state = 42)"
      ]
    },
    {
      "cell_type": "code",
      "execution_count": null,
      "metadata": {
        "_cell_guid": "7d7ee03f-efb6-a4d7-baae-9ead7fc59492"
      },
      "outputs": [],
      "source": [
        " log_loss_scorer = make_scorer(log_loss, greater_is_better = False, needs_proba = True)"
      ]
    },
    {
      "cell_type": "code",
      "execution_count": null,
      "metadata": {
        "_cell_guid": "d2240c62-c09d-ada3-c1ff-ec6bd67ab2eb"
      },
      "outputs": [],
      "source": [
        "grid_search = GridSearchCV(KNeighborsClassifier(), param_grid = {\"n_neighbors\":[1,2,3,4,5]}, cv = 5)"
      ]
    },
    {
      "cell_type": "code",
      "execution_count": null,
      "metadata": {
        "_cell_guid": "0501bc7f-89bb-9e52-cb1e-971dba6a077b"
      },
      "outputs": [],
      "source": [
        "grid_search.fit(X_train,y_train)"
      ]
    },
    {
      "cell_type": "code",
      "execution_count": null,
      "metadata": {
        "_cell_guid": "db4c345b-3b76-2b36-a6e9-c0a93e79b201"
      },
      "outputs": [],
      "source": [
        "grid_search.score(X_test,y_test)"
      ]
    },
    {
      "cell_type": "code",
      "execution_count": null,
      "metadata": {
        "_cell_guid": "81c988b7-4474-81ca-77d4-1c18d0301370"
      },
      "outputs": [],
      "source": [
        "print(grid_search.best_score_)"
      ]
    },
    {
      "cell_type": "code",
      "execution_count": null,
      "metadata": {
        "_cell_guid": "7892ec22-61a7-2e6d-527c-f76232576d97"
      },
      "outputs": [],
      "source": [
        "print(grid_search.best_estimator_)"
      ]
    },
    {
      "cell_type": "code",
      "execution_count": null,
      "metadata": {
        "_cell_guid": "cf79eb98-c7c9-4bd5-86a5-2fc4b4cf734c"
      },
      "outputs": [],
      "source": [
        "print(grid_search.best_params_)"
      ]
    },
    {
      "cell_type": "code",
      "execution_count": null,
      "metadata": {
        "_cell_guid": "e13e6b18-9e01-d618-8536-a1f5bc5f243b"
      },
      "outputs": [],
      "source": [
        "\n",
        " # model = KNeighborsClassifier(n_neighbors = 2, n_jobs = -1)"
      ]
    },
    {
      "cell_type": "code",
      "execution_count": null,
      "metadata": {
        "_cell_guid": "d604d891-dd49-ee36-86d0-d799834410c2"
      },
      "outputs": [],
      "source": [
        "# model.fit(X_train,y_train)"
      ]
    },
    {
      "cell_type": "code",
      "execution_count": null,
      "metadata": {
        "_cell_guid": "dbd157f6-0686-82a1-a87d-520da0c13d94"
      },
      "outputs": [],
      "source": [
        "# accuracy = model.score(X_test,y_test)"
      ]
    },
    {
      "cell_type": "code",
      "execution_count": null,
      "metadata": {
        "_cell_guid": "b6456d7c-f224-f8fa-3e4f-43085f281ea5"
      },
      "outputs": [],
      "source": [
        "# print(accuracy)"
      ]
    },
    {
      "cell_type": "code",
      "execution_count": null,
      "metadata": {
        "_cell_guid": "19804e72-74e7-9012-ace0-9d39f370e36a"
      },
      "outputs": [],
      "source": [
        "# preds_validation = model.predict_proba(X_test)"
      ]
    },
    {
      "cell_type": "code",
      "execution_count": null,
      "metadata": {
        "_cell_guid": "53425516-7596-9dab-360b-953badbc9258"
      },
      "outputs": [],
      "source": [
        "# log_loss(y_test,preds_validation)"
      ]
    },
    {
      "cell_type": "code",
      "execution_count": null,
      "metadata": {
        "_cell_guid": "99b3165f-4bda-3157-8539-6404a54cc177"
      },
      "outputs": [],
      "source": [
        "test_files = [im for im in os.listdir(test_dir)]"
      ]
    },
    {
      "cell_type": "code",
      "execution_count": null,
      "metadata": {
        "_cell_guid": "6f11d09b-8558-dc97-d20c-aada89fba6ab"
      },
      "outputs": [],
      "source": [
        "test_features = []\n",
        "for i,image_path in enumerate(test_files):\n",
        "    image = cv2.imread(test_dir + '/'+ image_path)\n",
        "    hist = extract_color_histogram(image)\n",
        "    test_features.append(hist)\n",
        "    if(i%1000==0):\n",
        "        print(str(i)+ \"  completed\")"
      ]
    },
    {
      "cell_type": "code",
      "execution_count": null,
      "metadata": {
        "_cell_guid": "9ae2730b-8ed5-972d-7fec-82516d2bc8fd"
      },
      "outputs": [],
      "source": [
        "preds = grid_search.predict_proba(test_features)"
      ]
    },
    {
      "cell_type": "code",
      "execution_count": null,
      "metadata": {
        "_cell_guid": "cf55578d-a57b-dc71-309d-ae78230580d2"
      },
      "outputs": [],
      "source": [
        "submission1 = pd.DataFrame(preds, columns= classes)\n",
        "submission1.insert(0, 'image', test_files)\n",
        "submission1.head()"
      ]
    },
    {
      "cell_type": "code",
      "execution_count": null,
      "metadata": {
        "_cell_guid": "8b08b0f6-55ea-dbe5-2045-1d574375e2c7"
      },
      "outputs": [],
      "source": [
        "clipped_preds = np.clip(preds,(1-0.82)/7,0.82)\n",
        "\n",
        "submission2 = pd.DataFrame(clipped_preds, columns= classes)\n",
        "submission2.insert(0, 'image', test_files)\n",
        "submission2.head()"
      ]
    },
    {
      "cell_type": "code",
      "execution_count": null,
      "metadata": {
        "_cell_guid": "267edad1-a7ce-128a-1952-18115376743c"
      },
      "outputs": [],
      "source": [
        "submission2.to_csv(\"K_neighbors_submission.csv\",index = False)"
      ]
    },
    {
      "cell_type": "markdown",
      "metadata": {
        "_cell_guid": "490885e1-13e8-e527-309b-e9fdeb8d9aee"
      },
      "source": [
        "Leaderboard score = "
      ]
    },
    {
      "cell_type": "markdown",
      "metadata": {
        "_cell_guid": "aa826b82-0625-475b-02a7-0b25a6d88607"
      },
      "source": [
        "Inspiration : Adrian Rosebrock's blog post linked here (http://www.pyimagesearch.com/2016/08/08/k-nn-classifier-for-image-classification/) "
      ]
    },
    {
      "cell_type": "code",
      "execution_count": null,
      "metadata": {
        "_cell_guid": "fda7a768-3ffe-7a94-e8dc-3c815c216dde"
      },
      "outputs": [],
      "source": [
        ""
      ]
    }
  ],
  "metadata": {
    "_change_revision": 0,
    "_is_fork": false,
    "kernelspec": {
      "display_name": "Python 3",
      "language": "python",
      "name": "python3"
    },
    "language_info": {
      "codemirror_mode": {
        "name": "ipython",
        "version": 3
      },
      "file_extension": ".py",
      "mimetype": "text/x-python",
      "name": "python",
      "nbconvert_exporter": "python",
      "pygments_lexer": "ipython3",
      "version": "3.6.0"
    }
  },
  "nbformat": 4,
  "nbformat_minor": 0
}