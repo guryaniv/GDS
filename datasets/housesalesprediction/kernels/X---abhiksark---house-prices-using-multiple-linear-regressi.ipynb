{
  "cells": [
    {
      "cell_type": "code",
      "execution_count": null,
      "metadata": {
        "_cell_guid": "87bd3945-aa05-6194-56dd-0c33443d7264"
      },
      "outputs": [],
      "source": [
        "# This Python 3 environment comes with many helpful analytics libraries installed\n",
        "# It is defined by the kaggle/python docker image: https://github.com/kaggle/docker-python\n",
        "# For example, here's several helpful packages to load in \n",
        "\n",
        "import numpy as np # linear algebra\n",
        "import pandas as pd # data processing, CSV file I/O (e.g. pd.read_csv)\n",
        "\n",
        "# Input data files are available in the \"../input/\" directory.\n",
        "# For example, running this (by clicking run or pressing Shift+Enter) will list the files in the input directory\n",
        "\n",
        "from subprocess import check_output\n",
        "print(check_output([\"ls\", \"../input/kc_house_data.csv\"]).decode(\"utf8\"))\n",
        "\n",
        "# Any results you write to the current directory are saved as output."
      ]
    },
    {
      "cell_type": "code",
      "execution_count": null,
      "metadata": {
        "_cell_guid": "87d05105-2f46-8374-20e5-d8491ec5aae7"
      },
      "outputs": [],
      "source": [
        "dataset = pd.read_csv('../input/kc_house_data.csv')\n",
        "inspection = dataset.head()"
      ]
    },
    {
      "cell_type": "code",
      "execution_count": null,
      "metadata": {
        "_cell_guid": "0521a311-a29d-09a2-a891-14d996f8e40e"
      },
      "outputs": [],
      "source": [
        "all_params=list(dataset)\n"
      ]
    },
    {
      "cell_type": "code",
      "execution_count": null,
      "metadata": {
        "_cell_guid": "e96332bc-26ee-a9f0-f87a-1b88f284348a"
      },
      "outputs": [],
      "source": [
        "import seaborn as sns\n",
        "sns.pairplot(dataset,\n",
        "              x_vars=['bedrooms', 'bathrooms', 'sqft_living', 'sqft_lot','floors', 'waterfront','condition', 'grade', 'sqft_above', 'sqft_basement', 'yr_built','sqft_living15', 'sqft_lot15','yr_renovated'],\n",
        "              y_vars=[\"price\"],\n",
        "              size =30,\n",
        "              kind =\"reg\"\n",
        "              )"
      ]
    },
    {
      "cell_type": "code",
      "execution_count": null,
      "metadata": {
        "_cell_guid": "06fad099-9842-5462-505f-ab827c692435"
      },
      "outputs": [],
      "source": [
        "x_vars=['bedrooms', 'bathrooms', 'sqft_living', 'sqft_lot','floors', 'waterfront','condition', 'grade', 'sqft_above', 'sqft_basement', 'yr_built','sqft_living15', 'sqft_lot15','yr_renovated']\n",
        "print(list(set(all_params) - set(x_vars)))"
      ]
    },
    {
      "cell_type": "code",
      "execution_count": null,
      "metadata": {
        "_cell_guid": "733e231b-f8bc-095e-1dca-5a8fe37e0fe2"
      },
      "outputs": [],
      "source": [
        "y = dataset.iloc[:, 2].values\n",
        "dataset = dataset.drop(['date','price','lat', 'zipcode', 'view', 'id', 'long'], axis =1)\n",
        "X = dataset.iloc[:, ].values\n"
      ]
    },
    {
      "cell_type": "code",
      "execution_count": null,
      "metadata": {
        "_cell_guid": "7fbceccc-e88d-97c8-c8e5-7879f0a9707b"
      },
      "outputs": [],
      "source": [
        "from sklearn.cross_validation import train_test_split\n",
        "X_train, X_test, y_train, y_test = train_test_split(X, y, test_size = 0.2, random_state = 0)\n",
        "\n"
      ]
    },
    {
      "cell_type": "code",
      "execution_count": null,
      "metadata": {
        "_cell_guid": "11c4287c-2b1e-687f-57e6-6bde6860bd5d"
      },
      "outputs": [],
      "source": [
        "from sklearn.preprocessing import StandardScaler\n",
        "sc_X = StandardScaler()\n",
        "X_train = sc_X.fit_transform(X_train)\n",
        "X_test = sc_X.transform(X_test)"
      ]
    },
    {
      "cell_type": "code",
      "execution_count": null,
      "metadata": {
        "_cell_guid": "dc388542-5b11-c469-cc31-91d5b5f4f16a"
      },
      "outputs": [],
      "source": [
        "from sklearn.linear_model import LinearRegression\n",
        "regressor = LinearRegression()\n",
        "regressor.fit(X_train, y_train)\n",
        "y_pred = regressor.predict(X_test)"
      ]
    },
    {
      "cell_type": "code",
      "execution_count": null,
      "metadata": {
        "_cell_guid": "2cd1bbf9-8389-c2f0-3da0-5bc7f72d8195"
      },
      "outputs": [],
      "source": [
        "accuracy = regressor.score(X_test, y_test)\n",
        "print(\"Accuracy: {}%\".format(int(round(accuracy * 100))))\n"
      ]
    },
    {
      "cell_type": "code",
      "execution_count": null,
      "metadata": {
        "_cell_guid": "15132723-2a11-8f78-b912-ea592189589e"
      },
      "outputs": [],
      "source": ""
    }
  ],
  "metadata": {
    "_change_revision": 0,
    "_is_fork": false,
    "kernelspec": {
      "display_name": "Python 3",
      "language": "python",
      "name": "python3"
    },
    "language_info": {
      "codemirror_mode": {
        "name": "ipython",
        "version": 3
      },
      "file_extension": ".py",
      "mimetype": "text/x-python",
      "name": "python",
      "nbconvert_exporter": "python",
      "pygments_lexer": "ipython3",
      "version": "3.6.0"
    }
  },
  "nbformat": 4,
  "nbformat_minor": 0
}