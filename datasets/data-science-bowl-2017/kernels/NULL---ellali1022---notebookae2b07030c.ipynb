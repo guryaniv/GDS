{
  "cells": [
    {
      "cell_type": "code",
      "execution_count": null,
      "metadata": {
        "_cell_guid": "a9db85a4-bd12-982e-4616-a55d148e23ea"
      },
      "outputs": [],
      "source": [
        "import dicom # for reading dicom files\n",
        "import os # for doing directory operations \n",
        "import pandas as pd # for some simple data analysis (right now, just to load in the labels data and quickly reference it)\n",
        "\n",
        "# Change this to wherever you are storing your data:\n",
        "# IF YOU ARE FOLLOWING ON KAGGLE, YOU CAN ONLY PLAY WITH THE SAMPLE DATA, WHICH IS MUCH SMALLER\n",
        "\n",
        "data_dir = '../input/sample_images/'\n",
        "patients = os.listdir(data_dir)\n",
        "labels_df = pd.read_csv('../input/stage1_labels.csv', index_col=0)\n",
        "\n",
        "labels_df.head()"
      ]
    },
    {
      "cell_type": "code",
      "execution_count": null,
      "metadata": {
        "_cell_guid": "50a722dd-9e29-9fa0-a4d1-7c17f8972b9f"
      },
      "outputs": [],
      "source": [
        "for patient in patients[:2]:\n",
        "    label = labels_df.get_value(patient, 'cancer')\n",
        "    path = data_dir + patient\n",
        "    \n",
        "    # a couple great 1-liners from: https://www.kaggle.com/gzuidhof/data-science-bowl-2017/full-preprocessing-tutorial\n",
        "    slices = [dicom.read_file(path + '/' + s) for s in os.listdir(path)]\n",
        "    slices.sort(key = lambda x: int(x.ImagePositionPatient[2]))   \n",
        "    print(slices[0].pixel_array.shape, len(slices),label)\n",
        "    \n",
        "    #print(len(patients))"
      ]
    },
    {
      "cell_type": "code",
      "execution_count": null,
      "metadata": {
        "_cell_guid": "5405f4d6-e7cd-2823-b3c3-f77366205b51"
      },
      "outputs": [],
      "source": [
        "import cv2\n",
        "import numpy as np\n",
        "\n",
        "IMG_PX_SIZE = 150\n",
        "\n",
        "for patient in patients[:1]:\n",
        "    label = labels_df.get_value(patient, 'cancer')\n",
        "    path = data_dir + patient\n",
        "    slices = [dicom.read_file(path + '/' + s) for s in os.listdir(path)]\n",
        "    slices.sort(key = lambda x: int(x.ImagePositionPatient[2]))\n",
        "    fig = plt.figure()\n",
        "    for num,each_slice in enumerate(slices[:12]):\n",
        "        y = fig.add_subplot(3,4,num+1)\n",
        "        new_img = cv2.resize(np.array(each_slice.pixel_array),(IMG_PX_SIZE,IMG_PX_SIZE))\n",
        "        y.imshow(new_img)\n",
        "    plt.show()"
      ]
    },
    {
      "cell_type": "code",
      "execution_count": null,
      "metadata": {
        "_cell_guid": "f627df67-ba91-aea3-1938-b15a31382ce3"
      },
      "outputs": [],
      "source": [
        "import numpy as np\n",
        "import pandas as pd\n",
        "import dicom\n",
        "import os\n",
        "import matplotlib.pyplot as plt\n",
        "import cv2\n",
        "import math\n",
        "\n",
        "IMG_SIZE_PX = 50\n",
        "SLICE_COUNT = 20\n",
        "\n",
        "def chunks(l, n):\n",
        "    # Credit: Ned Batchelder\n",
        "    # Link: http://stackoverflow.com/questions/312443/how-do-you-split-a-list-into-evenly-sized-chunks\n",
        "    \"\"\"Yield successive n-sized chunks from l.\"\"\"\n",
        "    for i in range(0, len(l), n):\n",
        "        yield l[i:i + n]\n",
        "\n",
        "\n",
        "def mean(a):\n",
        "    return sum(a) / len(a)\n",
        "\n",
        "\n",
        "def process_data(patient,labels_df,img_px_size=50, hm_slices=20, visualize=False):\n",
        "    \n",
        "    label = labels_df.get_value(patient, 'cancer')\n",
        "    path = data_dir + patient\n",
        "    slices = [dicom.read_file(path + '/' + s) for s in os.listdir(path)]\n",
        "    slices.sort(key = lambda x: int(x.ImagePositionPatient[2]))\n",
        "\n",
        "    new_slices = []\n",
        "    slices = [cv2.resize(np.array(each_slice.pixel_array),(img_px_size,img_px_size)) for each_slice in slices]\n",
        "    \n",
        "    chunk_sizes = math.ceil(len(slices) / hm_slices)\n",
        "    for slice_chunk in chunks(slices, chunk_sizes):\n",
        "        slice_chunk = list(map(mean, zip(*slice_chunk)))\n",
        "        new_slices.append(slice_chunk)\n",
        "\n",
        "    if len(new_slices) == hm_slices-1:\n",
        "        new_slices.append(new_slices[-1])\n",
        "\n",
        "    if len(new_slices) == hm_slices-2:\n",
        "        new_slices.append(new_slices[-1])\n",
        "        new_slices.append(new_slices[-1])\n",
        "\n",
        "    if len(new_slices) == hm_slices+2:\n",
        "        new_val = list(map(mean, zip(*[new_slices[hm_slices-1],new_slices[hm_slices],])))\n",
        "        del new_slices[hm_slices]\n",
        "        new_slices[hm_slices-1] = new_val\n",
        "        \n",
        "    if len(new_slices) == hm_slices+1:\n",
        "        new_val = list(map(mean, zip(*[new_slices[hm_slices-1],new_slices[hm_slices],])))\n",
        "        del new_slices[hm_slices]\n",
        "        new_slices[hm_slices-1] = new_val\n",
        "\n",
        "    if visualize:\n",
        "        fig = plt.figure()\n",
        "        for num,each_slice in enumerate(new_slices):\n",
        "            y = fig.add_subplot(4,5,num+1)\n",
        "            y.imshow(each_slice, cmap='gray')\n",
        "        plt.show()\n",
        "\n",
        "    if label == 1: label=np.array([0,1])\n",
        "    elif label == 0: label=np.array([1,0])\n",
        "        \n",
        "    return np.array(new_slices),label\n",
        "\n",
        "#                                               stage 1 for real.\n",
        "data_dir = '../input/sample_images/'\n",
        "patients = os.listdir(data_dir)\n",
        "labels = pd.read_csv('../input/stage1_labels.csv', index_col=0)\n",
        "\n",
        "much_data = []\n",
        "for num,patient in enumerate(patients):\n",
        "    if num % 100 == 0:\n",
        "        print(num)\n",
        "    try:\n",
        "        img_data,label = process_data(patient,labels,img_px_size=IMG_SIZE_PX, hm_slices=SLICE_COUNT)\n",
        "        #print(img_data.shape,label)\n",
        "        much_data.append([img_data,label])\n",
        "    except KeyError as e:\n",
        "        print('This is unlabeled data!')\n",
        "\n",
        "np.save('muchdata-{}-{}-{}.npy'.format(IMG_SIZE_PX,IMG_SIZE_PX,SLICE_COUNT), much_data)"
      ]
    }
  ],
  "metadata": {
    "_change_revision": 0,
    "_is_fork": false,
    "kernelspec": {
      "display_name": "Python 3",
      "language": "python",
      "name": "python3"
    },
    "language_info": {
      "codemirror_mode": {
        "name": "ipython",
        "version": 3
      },
      "file_extension": ".py",
      "mimetype": "text/x-python",
      "name": "python",
      "nbconvert_exporter": "python",
      "pygments_lexer": "ipython3",
      "version": "3.6.0"
    }
  },
  "nbformat": 4,
  "nbformat_minor": 0
}