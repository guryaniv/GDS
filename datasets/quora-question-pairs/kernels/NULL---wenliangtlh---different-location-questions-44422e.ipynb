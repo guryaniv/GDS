{
  "cells": [
    {
      "cell_type": "markdown",
      "metadata": {
        "_cell_guid": "5fe6c549-5b17-843f-961a-5722d9daffa8"
      },
      "source": [
        "There's lots of duplicate questions which are the same, except for a different location. Here's a set of features using this."
      ]
    },
    {
      "cell_type": "code",
      "execution_count": null,
      "metadata": {
        "_cell_guid": "89cc583d-3e87-7ebe-a512-f4ffc9c8ce6d"
      },
      "outputs": [],
      "source": [
        "import numpy as np # linear algebra\n",
        "import pandas as pd # data processing, CSV file I/O (e.g. pd.read_csv)\n",
        "import re\n",
        "\n",
        "from subprocess import check_output"
      ]
    },
    {
      "cell_type": "code",
      "execution_count": null,
      "metadata": {
        "_cell_guid": "d8743e9a-0162-548a-0053-0920b1d1f899"
      },
      "outputs": [],
      "source": [
        "city = pd.read_csv('../input/movehub-city-rankings/cities.csv')\n",
        "movehubcostofliving = pd.read_csv('../input/movehub-city-rankings/movehubcostofliving.csv')\n",
        "movehubqualityoflife = pd.read_csv('../input/movehub-city-rankings/movehubqualityoflife.csv')\n",
        "city.to_csv('cities.csv', index=False)\n",
        "movehubcostofliving.to_csv('movehubcostofliving.csv', index=False)\n",
        "movehubqualityoflife.to_csv('movehubqualityoflife.csv', index=False)"
      ]
    }
  ],
  "metadata": {
    "_change_revision": 0,
    "_is_fork": false,
    "kernelspec": {
      "display_name": "Python 3",
      "language": "python",
      "name": "python3"
    },
    "language_info": {
      "codemirror_mode": {
        "name": "ipython",
        "version": 3
      },
      "file_extension": ".py",
      "mimetype": "text/x-python",
      "name": "python",
      "nbconvert_exporter": "python",
      "pygments_lexer": "ipython3",
      "version": "3.6.0"
    }
  },
  "nbformat": 4,
  "nbformat_minor": 0
}