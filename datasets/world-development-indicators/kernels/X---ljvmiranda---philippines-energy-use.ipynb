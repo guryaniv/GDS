{
  "cells": [
    {
      "cell_type": "markdown",
      "metadata": {
        "_cell_guid": "5a21da18-39db-426a-bf55-5210a121c4c9"
      },
      "source": [
        "#Philippines: Energy Use \n",
        "*Author:* Lj Miranda\n",
        "|| *Website:* ljvmiranda.wordpress.com\n",
        "\n",
        "I am investigating the country's energy use given the World Development Indicators \n",
        "dataset provided here in Kaggle. I am particularly interested to how the Philippines has been\n",
        "performing over time, as well as how it performs compared with its South-East Asian Neighbors. If you have any questions\n",
        "or suggestions, do not hesitate to reach me through the comments below. I would like to hear and learn from you!\n",
        "\n"
      ]
    },
    {
      "cell_type": "code",
      "execution_count": null,
      "metadata": {
        "_cell_guid": "15552bc0-2051-4cb6-8315-73aed7c64801"
      },
      "outputs": [],
      "source": [
        "#Import Libraries\n",
        "import numpy as np \n",
        "import pandas as pd \n",
        "import matplotlib.pyplot as plt\n",
        "import seaborn as sns\n",
        "from pylab import fill_between\n",
        "\n",
        "#Read Datasets\n",
        "country = pd.read_csv('../input/Country.csv')\n",
        "country_notes = pd.read_csv('../input/CountryNotes.csv')\n",
        "indicators = pd.read_csv('../input/Indicators.csv')\n",
        "\n",
        "#Stylistic Options\n",
        "tableau20 = [(31, 119, 180), (174, 199, 232), (255, 127, 14), (255, 187, 120),    \n",
        "             (44, 160, 44), (152, 223, 138), (214, 39, 40), (255, 152, 150),    \n",
        "             (148, 103, 189), (197, 176, 213), (140, 86, 75), (196, 156, 148),    \n",
        "             (227, 119, 194), (247, 182, 210), (127, 127, 127), (199, 199, 199),    \n",
        "             (188, 189, 34), (219, 219, 141), (23, 190, 207), (158, 218, 229)]  \n",
        "\n",
        "for i in range(len(tableau20)):    \n",
        "    r, g, b = tableau20[i]    \n",
        "    tableau20[i] = (r / 255., g / 255., b / 255.)\n",
        "    \n"
      ]
    },
    {
      "cell_type": "markdown",
      "metadata": {
        "_cell_guid": "f62d456c-3799-47cb-b15a-556a053868ee"
      },
      "source": [
        "##Table of Contents\n",
        "\n",
        "---\n",
        "1. What percentage of the population has access to electricty?\n",
        "    -  Access to electricity over time   \n",
        "    -  Comparison to South-East Asian (SEA) countries\n",
        "2. What constitutes my country's energy mix?\n",
        "    - Energy Mix in the Philippines \n",
        "    - Comparison to South-East Asian (SEA) countries\n",
        "        - Fossil-Fuel use\n",
        "        - Renewable Energy Adoption\n",
        "3. How are we consuming our energy? \n",
        "    - Electric Power Consumption over time \n",
        "    - Consumption footprint\n",
        "    \n",
        "    "
      ]
    },
    {
      "cell_type": "markdown",
      "metadata": {
        "_cell_guid": "734c8015-d20a-40be-8679-002e275d1bbc"
      },
      "source": [
        "##1. What percentage of the population has access to electricity?\n",
        "The charts below show the percentage of the urban and rural population with access to electricity and the comparison of the country's performance with its neighbor south-east Asian nations."
      ]
    },
    {
      "cell_type": "markdown",
      "metadata": {
        "_cell_guid": "def41a8b-0feb-4ffe-ae89-5c780221cb46"
      },
      "source": [
        "###1.1 Access to electricity over time"
      ]
    },
    {
      "cell_type": "code",
      "execution_count": null,
      "metadata": {
        "_cell_guid": "5438ac19-0dd9-45cf-9779-0852679d4656"
      },
      "outputs": [],
      "source": [
        "# Plot Access Line Chart for Rural and Urban Communities\n",
        "df_elec_rural = indicators[(indicators.CountryName=='Philippines')&(indicators.IndicatorCode=='EG.ELC.ACCS.RU.ZS')]\n",
        "df_elec_urban = indicators[(indicators.CountryName=='Philippines')&(indicators.IndicatorCode=='EG.ELC.ACCS.UR.ZS')]\n",
        "df_elec_pop = indicators[(indicators.CountryName=='Philippines')&(indicators.IndicatorCode=='EG.ELC.ACCS.ZS')]\n",
        "\n",
        "fig = plt.figure()\n",
        "\n",
        "plt.plot(df_elec_rural.Year,df_elec_rural.Value,'o-',label='Rural',color=tableau20[0])\n",
        "plt.plot(df_elec_urban.Year,df_elec_urban.Value,'o-',label='Urban',color=tableau20[2])\n",
        "plt.plot(df_elec_pop.Year,df_elec_pop.Value,'o-',label='General',color=tableau20[1])\n",
        "plt.legend(bbox_to_anchor=(1.05, 1), loc=2, borderaxespad=0.)\n",
        "plt.xlabel('Years',  fontsize=14)\n",
        "plt.ylabel('% of Population',  fontsize=14)\n",
        "plt.title('Access to Electricity', fontsize=14)\n",
        "\n",
        "fig.savefig('access_electricity.pdf',format='pdf', dpi=300)"
      ]
    },
    {
      "cell_type": "markdown",
      "metadata": {
        "_cell_guid": "61e26595-3014-45c9-a0f8-9724438c9544"
      },
      "source": [
        "The chart above shows the population's access to electricity over a period of 20 years. Although there was a sharp division of resources in the 90s, access to this need is being \n",
        "resolved as time progresses. It is commendable that the government (as well as the private companies) \n",
        "has started putting effort to provide electricity to rural communities at the onset of the millenium.\n",
        "\n",
        "It is also interesting to note that the years with a steeper slope started in 2010, and this can be \n",
        "credited to the previous administration (and the corresponding electricity conglomerates) for continuing \n",
        "the steep rise done in the previous years."
      ]
    },
    {
      "cell_type": "markdown",
      "metadata": {
        "_cell_guid": "48fd01bd-c193-4c9e-b37c-7ff4f77f0698"
      },
      "source": [
        "###1.2 Comparison to South-East Asian (SEA) countries\n",
        "Note: *I cannot seem to find a South-East Asian tag in the World Bank dataset (there is an East Asia & Pacific tag, but I need to remove the countries that are not part of the ASEAN), so my workaround is to arrange the columns for each SEA country manually.*"
      ]
    },
    {
      "cell_type": "code",
      "execution_count": null,
      "metadata": {
        "_cell_guid": "8dddbcd8-3f84-4343-ad3a-afa47957fd1b"
      },
      "outputs": [],
      "source": [
        "df_br_elec_pop = indicators[(indicators.CountryName=='Brunei')&(indicators.IndicatorCode=='EG.ELC.ACCS.ZS')]\n",
        "df_ca_elec_pop = indicators[(indicators.CountryName=='Cambodia')&(indicators.IndicatorCode=='EG.ELC.ACCS.ZS')]\n",
        "df_in_elec_pop = indicators[(indicators.CountryName=='Indonesia')&(indicators.IndicatorCode=='EG.ELC.ACCS.ZS')]\n",
        "\n",
        "df_la_elec_pop = indicators[(indicators.CountryName=='Lao PDR')&(indicators.IndicatorCode=='EG.ELC.ACCS.ZS')]\n",
        "df_ma_elec_pop = indicators[(indicators.CountryName=='Malaysia')&(indicators.IndicatorCode=='EG.ELC.ACCS.ZS')]\n",
        "df_my_elec_pop = indicators[(indicators.CountryName=='Myanmar')&(indicators.IndicatorCode=='EG.ELC.ACCS.ZS')]\n",
        "\n",
        "df_ph_elec_pop = indicators[(indicators.CountryName=='Philippines')&(indicators.IndicatorCode=='EG.ELC.ACCS.ZS')]\n",
        "df_si_elec_pop = indicators[(indicators.CountryName=='Singapore')&(indicators.IndicatorCode=='EG.ELC.ACCS.ZS')]\n",
        "df_th_elec_pop = indicators[(indicators.CountryName=='Thailand')&(indicators.IndicatorCode=='EG.ELC.ACCS.ZS')]\n",
        "\n",
        "df_ti_elec_pop = indicators[(indicators.CountryName=='Timor-Leste')&(indicators.IndicatorCode=='EG.ELC.ACCS.ZS')]\n",
        "df_vi_elec_pop = indicators[(indicators.CountryName=='Vietnam')&(indicators.IndicatorCode=='EG.ELC.ACCS.ZS')]\n",
        "\n",
        "fig = plt.figure()\n",
        "\n",
        "plt.plot(df_br_elec_pop.Year,df_br_elec_pop.Value,'o-',label='Brunei',color=tableau20[0])\n",
        "plt.plot(df_ca_elec_pop.Year,df_ca_elec_pop.Value,'o-',label='Cambodia',color=tableau20[1])\n",
        "plt.plot(df_in_elec_pop.Year,df_in_elec_pop.Value,'o-',label='Indonesia',color=tableau20[2])\n",
        "\n",
        "plt.plot(df_la_elec_pop.Year,df_la_elec_pop.Value,'o-',label='Lao PDR',color=tableau20[3])\n",
        "plt.plot(df_ma_elec_pop.Year,df_ma_elec_pop.Value,'o-',label='Malaysia',color=tableau20[4])\n",
        "plt.plot(df_my_elec_pop.Year,df_my_elec_pop.Value,'o-',label='Myanmar',color=tableau20[5])\n",
        "\n",
        "plt.plot(df_ph_elec_pop.Year,df_ph_elec_pop.Value,'o-',label='Philippines',color=tableau20[6])\n",
        "plt.plot(df_si_elec_pop.Year,df_si_elec_pop.Value,'o-',label='Singapore',color=tableau20[7])\n",
        "plt.plot(df_th_elec_pop.Year,df_th_elec_pop.Value,'o-',label='Thailand',color=tableau20[8])\n",
        "\n",
        "plt.plot(df_ti_elec_pop.Year,df_ti_elec_pop.Value,'o-',label='Timor-Leste',color=tableau20[9])\n",
        "plt.plot(df_vi_elec_pop.Year,df_vi_elec_pop.Value,'o-',label='Vietnam',color=tableau20[10])\n",
        "\n",
        "plt.legend(bbox_to_anchor=(1.05, 1), loc=2, borderaxespad=0.)\n",
        "plt.xlabel('Years',  fontsize=14)\n",
        "plt.ylabel('% of Population',  fontsize=14)\n",
        "plt.title('Access to Electricity for SEA Countries', fontsize=14)\n",
        "plt.ylim([0,110])\n",
        "fig.savefig('access_electricity_sea.pdf',format='pdf', dpi=300)"
      ]
    },
    {
      "cell_type": "markdown",
      "metadata": {
        "_cell_guid": "01b9eac9-ca0f-439f-9aba-1b2995ab4acc"
      },
      "source": [
        "One can observe that both Philippines and Indonesia started out similarly in the 90s, \n",
        "yet because of the steepness of Indonesia's slope in the chart, it was able to follow the \n",
        "leading countries&mdash;even overtaking Thailand in the year 2000. \n",
        "However, it may also be important to investigate the state of these countries before \n",
        "1990s in order to see how this progression came to be.\n",
        "\n",
        "Top-performing countries in achieving the goal of universal access to electricity are\n",
        "Singapore, Malaysia, and Thailand. Achieving almost a 100% by the turn of 2012. Singapore, \n",
        "on the other hand, is a consistent performer, allowing its population to have access to \n",
        "electricity for 20 years."
      ]
    },
    {
      "cell_type": "markdown",
      "metadata": {
        "_cell_guid": "34829e6d-4ca9-4cff-9937-c29855110a6b"
      },
      "source": [
        "##2. What constitutes my country's energy mix?\n",
        "\n",
        "Equally important in understanding the country's energy use is to know where our energy is being \n",
        "sourced from. This section will look into the different sources of energy&mdash;fossil fuels (coal, \n",
        "natural gas, petroleum), hydroelectric, and renewable in order to gain insight to where most of our\n",
        "electricity is coming from. \n",
        "\n",
        "Moreover, a comparison with the SEA top-performers (in terms of providing electricity access) \n",
        "will be done in order to assess where the huge bulk of the electricity\\textemdash that they are \n",
        "sourcing effectively to the population&mdash;is coming from. \n",
        "\n",
        "Lastly, it is also important to investigate the country's adoption to renewable energy, \n",
        "and compare this with our SEA neighbors. This can help identify trends, especially that using \n",
        "fossil fuels contributes much to our carbon footprint&mdash;given the devastating results of \n",
        "global warming and climate change."
      ]
    },
    {
      "cell_type": "markdown",
      "metadata": {
        "_cell_guid": "303b0c64-16a4-42f7-9a70-de611a6c4513"
      },
      "source": [
        "###2.1 Energy Mix in the Philippines"
      ]
    },
    {
      "cell_type": "code",
      "execution_count": null,
      "metadata": {
        "_cell_guid": "d68a0f09-af77-4540-acd8-5a52bb9e25a3"
      },
      "outputs": [],
      "source": [
        "df_elec_fosl = indicators[(indicators.CountryName=='Philippines')&(indicators.IndicatorCode=='EG.ELC.FOSL.ZS')]\n",
        "df_elec_hydro = indicators[(indicators.CountryName=='Philippines')&(indicators.IndicatorCode=='EG.ELC.HYRO.ZS')]\n",
        "df_elec_nucl = indicators[(indicators.CountryName=='Philippines')&(indicators.IndicatorCode=='EG.ELC.NUCL.ZS')]\n",
        "df_elec_rnwx = indicators[(indicators.CountryName=='Philippines')&(indicators.IndicatorCode=='EG.ELC.RNWX.ZS')]\n",
        "\n",
        "\n",
        "fig = plt.figure()\n",
        "\n",
        "plt.plot(df_elec_fosl.Year,df_elec_fosl.Value,label='Fossil Fuels',color=tableau20[6])\n",
        "plt.plot(df_elec_hydro.Year,df_elec_hydro.Value,label='Hydroelectric',color=tableau20[0])\n",
        "plt.plot(df_elec_nucl.Year,df_elec_nucl.Value,label='Nuclear',color=tableau20[3])\n",
        "plt.plot(df_elec_rnwx.Year,df_elec_rnwx.Value,label='Renewable',color=tableau20[4])\n",
        "\n",
        "\n",
        "fill_between(df_elec_fosl.Year,df_elec_fosl.Value,0,alpha=0.5,color=tableau20[6])\n",
        "fill_between(df_elec_hydro.Year,df_elec_hydro.Value,0,alpha=0.5,color=tableau20[0])\n",
        "fill_between(df_elec_nucl.Year,df_elec_nucl.Value,0,alpha=0.5,color=tableau20[3])\n",
        "fill_between(df_elec_rnwx.Year,df_elec_rnwx.Value,0,alpha=0.5,color=tableau20[4])\n",
        "fill_between(df_elec_rnwx.Year,df_elec_rnwx.Value,0,alpha=0.5,color=tableau20[4])\n",
        "#fill_between(x,y2,0,color='magenta')\n",
        "#fill_between(x,y3,0,color='red')\n",
        "\n",
        "plt.legend(loc=1, borderaxespad=1.)\n",
        "plt.xlabel('Years',  fontsize=14)\n",
        "plt.ylabel('% of Total Energy Produce',  fontsize=14)\n",
        "plt.title('Energy Mix in the Philippines (1971-2012)', fontsize=18)\n",
        "\n",
        "\n",
        "fig.savefig('energy_mix.pdf',format='pdf', dpi=300)"
      ]
    },
    {
      "cell_type": "code",
      "execution_count": null,
      "metadata": {
        "_cell_guid": "336a523c-7d8b-4ae4-9c09-821d296c0b20"
      },
      "outputs": [],
      "source": [
        "df_elec_ngas = indicators[(indicators.CountryName=='Philippines')&(indicators.IndicatorCode=='EG.ELC.NGAS.ZS')]\n",
        "df_elec_coal = indicators[(indicators.CountryName=='Philippines')&(indicators.IndicatorCode=='EG.ELC.COAL.ZS')]\n",
        "df_elec_petr = indicators[(indicators.CountryName=='Philippines')&(indicators.IndicatorCode=='EG.ELC.PETR.ZS')]\n",
        "\n",
        "fig = plt.figure()\n",
        "\n",
        "plt.plot(df_elec_ngas.Year,df_elec_ngas.Value,label='Natural Gas',color=tableau20[9])\n",
        "plt.plot(df_elec_coal.Year,df_elec_coal.Value,label='Coal',color=tableau20[10])\n",
        "plt.plot(df_elec_petr.Year,df_elec_petr.Value,label='Petroleum',color=tableau20[11])\n",
        "\n",
        "fill_between(df_elec_petr.Year,df_elec_petr.Value,0,alpha=0.5,color=tableau20[11])\n",
        "fill_between(df_elec_coal.Year,df_elec_coal.Value,0,alpha=0.5,color=tableau20[10])\n",
        "fill_between(df_elec_ngas.Year,df_elec_ngas.Value,0,alpha=0.5,color=tableau20[9])\n",
        "\n",
        "\n",
        "\n",
        "plt.legend(loc=1, borderaxespad=1.)\n",
        "plt.xlabel('Years',  fontsize=14)\n",
        "plt.ylabel('% of Total Energy Produce',  fontsize=14)\n",
        "plt.title('Fossil Fuel Mix in the Philippines (1971-2012)', fontsize=18)\n",
        "\n",
        "\n",
        "fig.savefig('fossil_fuel_mix.pdf',format='pdf', dpi=300)"
      ]
    },
    {
      "cell_type": "markdown",
      "metadata": {
        "_cell_guid": "639bd6c0-48d9-44a2-b8e1-ba93b7d64a7b"
      },
      "source": [
        "It is evident that the country is still reliant to fossil fuels as a main source of energy. \n",
        "Hydroelectric easily caught up and is a stable source to the fifth of our energy supply in the country. \n",
        "Interestingly, the contribution of renewable energy in the country is comparable to that of \n",
        "hydroelectric&mdash; and by combining the two together, one can see that these \"clean\" sources of \n",
        "energy contributes more than a fourth of our total energy mix. \n",
        "\n",
        "\n",
        "Looking at the country's fossil fuel mix, one can see that our use of petroleum has significantly \n",
        "dropped for the last 20 years. This has been replaced by other fossil fuels such as natural gas \n",
        "(during the 1980s) and coal (during the 2000s).  \n"
      ]
    },
    {
      "cell_type": "markdown",
      "metadata": {
        "_cell_guid": "520dd9e6-47f3-4e59-b561-abc5f2dcf916"
      },
      "source": [
        "###2.2 Comparison to SEA Neighbors\n",
        "This section looks into the position of the Philippines with respect to the\n",
        "use of fossil fuels and the adoption of renewable energy through time."
      ]
    },
    {
      "cell_type": "markdown",
      "metadata": {
        "_cell_guid": "3c3db638-a5d3-465f-8463-cb8e01e9d826"
      },
      "source": [
        "####2.2.1 Fossil Fuel Use"
      ]
    },
    {
      "cell_type": "code",
      "execution_count": null,
      "metadata": {
        "_cell_guid": "1c46b00f-ddce-45c5-857a-1144e4cdea44"
      },
      "outputs": [],
      "source": [
        "df_br_elec_pop = indicators[(indicators.CountryName=='Brunei')&(indicators.IndicatorCode=='EG.ELC.FOSL.ZS')]\n",
        "df_ca_elec_pop = indicators[(indicators.CountryName=='Cambodia')&(indicators.IndicatorCode=='EG.ELC.FOSL.ZS')]\n",
        "df_in_elec_pop = indicators[(indicators.CountryName=='Indonesia')&(indicators.IndicatorCode=='EG.ELC.FOSL.ZS')]\n",
        "\n",
        "df_la_elec_pop = indicators[(indicators.CountryName=='Lao PDR')&(indicators.IndicatorCode=='EG.ELC.FOSL.ZS')]\n",
        "df_ma_elec_pop = indicators[(indicators.CountryName=='Malaysia')&(indicators.IndicatorCode=='EG.ELC.FOSL.ZS')]\n",
        "df_my_elec_pop = indicators[(indicators.CountryName=='Myanmar')&(indicators.IndicatorCode=='EG.ELC.FOSL.ZS')]\n",
        "\n",
        "df_ph_elec_pop = indicators[(indicators.CountryName=='Philippines')&(indicators.IndicatorCode=='EG.ELC.FOSL.ZS')]\n",
        "df_si_elec_pop = indicators[(indicators.CountryName=='Singapore')&(indicators.IndicatorCode=='EG.ELC.FOSL.ZS')]\n",
        "df_th_elec_pop = indicators[(indicators.CountryName=='Thailand')&(indicators.IndicatorCode=='EG.ELC.FOSL.ZS')]\n",
        "\n",
        "df_ti_elec_pop = indicators[(indicators.CountryName=='Timor-Leste')&(indicators.IndicatorCode=='EG.ELC.FOSL.ZS')]\n",
        "df_vi_elec_pop = indicators[(indicators.CountryName=='Vietnam')&(indicators.IndicatorCode=='EG.ELC.FOSL.ZS')]\n",
        "\n",
        "fig = plt.figure()\n",
        "\n",
        "plt.plot(df_si_elec_pop.Year,df_si_elec_pop.Value,label='Singapore',color=tableau20[7])\n",
        "plt.plot(df_ma_elec_pop.Year,df_ma_elec_pop.Value,label='Malaysia',color=tableau20[4])\n",
        "plt.plot(df_th_elec_pop.Year,df_th_elec_pop.Value,label='Thailand',color=tableau20[8])\n",
        "plt.plot(df_vi_elec_pop.Year,df_vi_elec_pop.Value,label='Vietnam',color=tableau20[10])\n",
        "plt.plot(df_in_elec_pop.Year,df_in_elec_pop.Value,label='Indonesia',color=tableau20[2])\n",
        "plt.plot(df_ph_elec_pop.Year,df_ph_elec_pop.Value,label='Philippines',color=tableau20[6])\n",
        "plt.plot(df_la_elec_pop.Year,df_la_elec_pop.Value,label='Lao PDR',color=tableau20[3])\n",
        "plt.plot(df_my_elec_pop.Year,df_my_elec_pop.Value,label='Myanmar',color=tableau20[5])\n",
        "plt.plot(df_br_elec_pop.Year,df_br_elec_pop.Value,label='Brunei',color=tableau20[0])\n",
        "plt.plot(df_ti_elec_pop.Year,df_ti_elec_pop.Value,label='Timor-Leste',color=tableau20[9])\n",
        "plt.plot(df_ca_elec_pop.Year,df_ca_elec_pop.Value,label='Cambodia',color=tableau20[1])\n",
        "\n",
        "\n",
        "plt.legend(loc=1, borderaxespad=1.)\n",
        "plt.xlabel('Years',  fontsize=14)\n",
        "plt.ylabel('% of Energy Production',  fontsize=14)\n",
        "plt.title('Fossil Fuel Use for SEA Countries', fontsize=18)\n",
        "\n",
        "plt.ylim([0,110])\n",
        "plt.xlim([1990,2019])\n",
        "fig.savefig('fossil_fuel_electricity_sea.pdf',format='pdf', dpi=300)\n",
        "fig.savefig('fossil_fuel_electricity_sea.png',format='png', dpi=300)"
      ]
    },
    {
      "cell_type": "markdown",
      "metadata": {
        "_cell_guid": "3540aeb4-a5fd-45ad-b8aa-c4df72478ccb"
      },
      "source": [
        "The use of fossil fuel in the energy mix is shown in the figure above. It is interesting\n",
        "that the top-players in providing access to electricity in their respective\n",
        "population&mdash;Singapore, Thailand, and Malaysia&mdash;are sourcing their energy\n",
        "mostly from fossil fuels.\n",
        "\n",
        "The Philippines, on the other hand, is fourth from below in the level of\n",
        "fossil fuel that constitutes the energy mix. The first in this list is Myanmar, where fossil fuel constitutes 20 to 40% of the energy mix."
      ]
    },
    {
      "cell_type": "markdown",
      "metadata": {
        "_cell_guid": "82677981-54df-4ff2-91c4-a7da270e0ad3"
      },
      "source": [
        "####2.2.2 Renewable Energy Adoption"
      ]
    },
    {
      "cell_type": "code",
      "execution_count": null,
      "metadata": {
        "_cell_guid": "d151e5d8-02d8-49b1-a059-4639efc6a12e"
      },
      "outputs": [],
      "source": [
        "df_br_elec_pop = indicators[(indicators.CountryName=='Brunei')&(indicators.IndicatorCode=='EG.ELC.RNWX.ZS')]\n",
        "df_ca_elec_pop = indicators[(indicators.CountryName=='Cambodia')&(indicators.IndicatorCode=='EG.ELC.RNWX.ZS')]\n",
        "df_in_elec_pop = indicators[(indicators.CountryName=='Indonesia')&(indicators.IndicatorCode=='EG.ELC.RNWX.ZS')]\n",
        "\n",
        "df_la_elec_pop = indicators[(indicators.CountryName=='Lao PDR')&(indicators.IndicatorCode=='EG.ELC.RNWX.ZS')]\n",
        "df_ma_elec_pop = indicators[(indicators.CountryName=='Malaysia')&(indicators.IndicatorCode=='EG.ELC.RNWX.ZS')]\n",
        "df_my_elec_pop = indicators[(indicators.CountryName=='Myanmar')&(indicators.IndicatorCode=='EG.ELC.RNWX.ZS')]\n",
        "\n",
        "df_ph_elec_pop = indicators[(indicators.CountryName=='Philippines')&(indicators.IndicatorCode=='EG.ELC.RNWX.ZS')]\n",
        "df_si_elec_pop = indicators[(indicators.CountryName=='Singapore')&(indicators.IndicatorCode=='EG.ELC.RNWX.ZS')]\n",
        "df_th_elec_pop = indicators[(indicators.CountryName=='Thailand')&(indicators.IndicatorCode=='EG.ELC.RNWX.ZS')]\n",
        "\n",
        "df_ti_elec_pop = indicators[(indicators.CountryName=='Timor-Leste')&(indicators.IndicatorCode=='EG.ELC.RNWX.ZS')]\n",
        "df_vi_elec_pop = indicators[(indicators.CountryName=='Vietnam')&(indicators.IndicatorCode=='EG.ELC.RNWX.ZS')]\n",
        "\n",
        "fig = plt.figure()\n",
        "\n",
        "plt.plot(df_si_elec_pop.Year,df_si_elec_pop.Value,label='Singapore',color=tableau20[7])\n",
        "plt.plot(df_ma_elec_pop.Year,df_ma_elec_pop.Value,label='Malaysia',color=tableau20[4])\n",
        "plt.plot(df_th_elec_pop.Year,df_th_elec_pop.Value,label='Thailand',color=tableau20[8])\n",
        "plt.plot(df_vi_elec_pop.Year,df_vi_elec_pop.Value,label='Vietnam',color=tableau20[10])\n",
        "plt.plot(df_in_elec_pop.Year,df_in_elec_pop.Value,label='Indonesia',color=tableau20[2])\n",
        "plt.plot(df_ph_elec_pop.Year,df_ph_elec_pop.Value,label='Philippines',color=tableau20[6])\n",
        "plt.plot(df_la_elec_pop.Year,df_la_elec_pop.Value,label='Lao PDR',color=tableau20[3])\n",
        "plt.plot(df_my_elec_pop.Year,df_my_elec_pop.Value,label='Myanmar',color=tableau20[5])\n",
        "plt.plot(df_br_elec_pop.Year,df_br_elec_pop.Value,label='Brunei',color=tableau20[0])\n",
        "plt.plot(df_ti_elec_pop.Year,df_ti_elec_pop.Value,label='Timor-Leste',color=tableau20[9])\n",
        "plt.plot(df_ca_elec_pop.Year,df_ca_elec_pop.Value,label='Cambodia',color=tableau20[1])\n",
        "\n",
        "\n",
        "plt.legend(loc=1, borderaxespad=1.)\n",
        "plt.xlabel('Years',  fontsize=14)\n",
        "plt.ylabel('% of Energy Production',  fontsize=14)\n",
        "plt.title('Renewable Energy Adoption for SEA Countries', fontsize=18)\n",
        "\n",
        "plt.ylim([0,30])\n",
        "plt.xlim([1990,2019])\n",
        "fig.savefig('renewable_electricity_sea.pdf',format='pdf', dpi=300)\n",
        "fig.savefig('renewable_electricity_sea.png',format='png', dpi=300)"
      ]
    },
    {
      "cell_type": "markdown",
      "metadata": {
        "_cell_guid": "700f92e4-30d5-4ad3-a255-08413854a964"
      },
      "source": [
        "The figure above shows the renewable energy adoption of different SEA\n",
        "countries over time. It is interesting to note that the Philippines is leading\n",
        "the renewable energy race, then followed by Indonesia and the rest of the\n",
        "SEA countries."
      ]
    },
    {
      "cell_type": "markdown",
      "metadata": {
        "_cell_guid": "091cf4dd-ffc3-47e0-aee1-622f0eea5ab0"
      },
      "source": [
        "##3. How are we consuming our energy?\n",
        "With the knowledge of the country's energy sources, the next step is to un-\n",
        "derstand how we consume that energy. This section will first look into the\n",
        "country's electric power consumption over time, then look at our consump-\n",
        "tion footprint&mdash;particularly that of carbon emissions and other greenhouse\n",
        "gases.\n"
      ]
    },
    {
      "cell_type": "markdown",
      "metadata": {
        "_cell_guid": "ee679d9d-7b14-4c26-98ff-ca8ae53bdd33"
      },
      "source": [
        "###3.1 Electric power consumption over time"
      ]
    },
    {
      "cell_type": "code",
      "execution_count": null,
      "metadata": {
        "_cell_guid": "4bfd2f82-936f-4359-810d-dd99e7fa7618"
      },
      "outputs": [],
      "source": [
        "df_elec_use = indicators[(indicators.CountryName=='Philippines')&(indicators.IndicatorCode=='EG.USE.ELEC.KH.PC')]\n",
        "\n",
        "\n",
        "fig = plt.figure()\n",
        "\n",
        "plt.plot(df_elec_use.Year,df_elec_use.Value,color=tableau20[3])\n",
        "\n",
        "#plt.legend(loc=4, borderaxespad=1.)\n",
        "plt.xlabel('Years',  fontsize=14)\n",
        "plt.ylabel('kWh per capita',  fontsize=14)\n",
        "plt.title('Electric Power Consumption in the Philippines', fontsize=18)\n",
        "\n",
        "\n",
        "fig.savefig('electric_consumption.pdf',format='pdf', dpi=300)\n",
        "fig.savefig('electric_consumption.png',format='png', dpi=300)"
      ]
    },
    {
      "cell_type": "markdown",
      "metadata": {
        "_cell_guid": "e696f1bc-aa0e-4b33-ae50-15b229aa86fa"
      },
      "source": [
        "It can be observed from the chart above that the power consumption\n",
        "in the country has increased from about 200 kWh to 700 kWh over time.\n",
        "It is expected that this consumption will increase, and this corresponds to\n",
        "unprecedented e\u000bects in our environment; as we continue utilizing di\u000berent\n",
        "sources for our electricity use."
      ]
    },
    {
      "cell_type": "markdown",
      "metadata": {
        "_cell_guid": "d19702af-48f4-45ee-a673-ff8d504f44fb"
      },
      "source": [
        "###3.2 Consumption footprint"
      ]
    },
    {
      "cell_type": "code",
      "execution_count": null,
      "metadata": {
        "_cell_guid": "3a27743c-1f6d-4a4c-8620-1a92089dd5b5"
      },
      "outputs": [],
      "source": [
        "df_elec_emi = indicators[(indicators.CountryName=='Philippines')&(indicators.IndicatorCode=='EN.ATM.CO2E.KT')]\n",
        "df_elec_gf = indicators[(indicators.CountryName=='Philippines')&(indicators.IndicatorCode=='EN.ATM.CO2E.GF.KT')]\n",
        "df_elec_lf = indicators[(indicators.CountryName=='Philippines')&(indicators.IndicatorCode=='EN.ATM.CO2E.LF.KT')]\n",
        "df_elec_sf = indicators[(indicators.CountryName=='Philippines')&(indicators.IndicatorCode=='EN.ATM.CO2E.SF.KT')]\n",
        "\n",
        "fig = plt.figure()\n",
        "\n",
        "plt.plot(df_elec_emi.Year,df_elec_emi.Value,label='C0$_2$ emissions',color=tableau20[1])\n",
        "plt.plot(df_elec_lf.Year,df_elec_lf.Value,label='C0$_2$ emissions from liquid fuel',color=tableau20[3])\n",
        "plt.plot(df_elec_sf.Year,df_elec_sf.Value,label='C0$_2$ emissions from solid fuel',color=tableau20[4])\n",
        "plt.plot(df_elec_gf.Year,df_elec_gf.Value,label='C0$_2$ emissions from gaseous fuel',color=tableau20[2])\n",
        "\n",
        "fill_between(df_elec_emi.Year,df_elec_emi.Value,0,alpha=0.5,color=tableau20[1])\n",
        "fill_between(df_elec_lf.Year,df_elec_lf.Value,0,alpha=0.5,color=tableau20[3])\n",
        "fill_between(df_elec_sf.Year,df_elec_sf.Value,0,alpha=0.5,color=tableau20[4])\n",
        "fill_between(df_elec_gf.Year,df_elec_gf.Value,0,alpha=0.5,color=tableau20[2])\n",
        "\n",
        "plt.legend(loc=2, borderaxespad=1.)\n",
        "plt.xlabel('Years',  fontsize=14)\n",
        "plt.ylabel('kt (kilotons)',  fontsize=14)\n",
        "plt.title('Carbon Footprint in the Philippines', fontsize=18)\n",
        "\n",
        "\n",
        "fig.savefig('co2_emissions.pdf',format='pdf', dpi=300)\n",
        "fig.savefig('co2_emissions.png',format='png', dpi=300)"
      ]
    },
    {
      "cell_type": "markdown",
      "metadata": {
        "_cell_guid": "c91e6b4f-7e84-4695-9ab7-3bae2b340c23"
      },
      "source": [
        "These unprecedented e\u000bects are what we often call as our consumption foot-\n",
        "print, for it leaves traces in nature that we may not expect. This section will\n",
        "look into our carbon footprint and different greenhouse gases, taken mainly\n",
        "from our use of fossil fuels as energy source, and through our continued\n",
        "consumption of electricity (managed or not).\n",
        "\n",
        "Similar to the rise of our electric consumption, our carbon footprint has\n",
        "increased steadily for the last few years. Different sources have contributed\n",
        "to this, the first mainly by liquid fuel, then followed by solid fuel and then\n",
        "by gaseous fuel. It is expected that this trend will continue to rise, and its\n",
        "effects might be felt if left unmitigated."
      ]
    },
    {
      "cell_type": "markdown",
      "metadata": {
        "_cell_guid": "3a051f13-b6aa-4a4a-acea-551bff932fa2"
      },
      "source": [
        "##Conclusion\n",
        "This report looks into World Bank's World Development Indicators in order\n",
        "to understand the energy situation in the Philippines. Three aspects were\n",
        "considered|the access to electricity of the population, the energy mix, and\n",
        "the energy consumption and footprint.\n",
        "\n",
        "The country's access to electricity is being resolved through time, increasing the \n",
        "rural population's access for the last twenty years. However,\n",
        "much work is to be done, for the country is only 6th compared to its SEA\n",
        "neighbors in this category. However, much can be said in the country's energy mix, \n",
        "for the use of fossil fuels (although still in majority) is being\n",
        "offset by hydroelectric and renewable sources of energy. In fact, the country\n",
        "is leading among its SEA neighbors with respect to the renewable energy\n",
        "adoption. Lastly, the electricity consumption of the country is still on the\n",
        "rise, and will still be, given the trend for the last twenty years. This can\n",
        "then be followed by an increasing carbon footprint, which may lead to unprecedented effects if left unmitigated."
      ]
    },
    {
      "cell_type": "markdown",
      "metadata": {},
      "source": ""
    }
  ],
  "metadata": {
    "_change_revision": 0,
    "_is_fork": false,
    "kernelspec": {
      "display_name": "Python 3",
      "language": "python",
      "name": "python3"
    },
    "language_info": {
      "codemirror_mode": {
        "name": "ipython",
        "version": 3
      },
      "file_extension": ".py",
      "mimetype": "text/x-python",
      "name": "python",
      "nbconvert_exporter": "python",
      "pygments_lexer": "ipython3",
      "version": "3.5.2"
    }
  },
  "nbformat": 4,
  "nbformat_minor": 0
}