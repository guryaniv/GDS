{
  "cells": [
    {
      "cell_type": "code",
      "execution_count": null,
      "metadata": {
        "_cell_guid": "5b8f3236-5577-b270-f60a-b5e611aad3e3"
      },
      "outputs": [],
      "source": [
        "import dicom\n",
        "import os, sys, cv2\n",
        "import matplotlib.pyplot as plt\n",
        "import numpy as np"
      ]
    },
    {
      "cell_type": "code",
      "execution_count": null,
      "metadata": {
        "_cell_guid": "212c2491-1e3d-01a7-7bbc-1eb307924f9c"
      },
      "outputs": [],
      "source": [
        "url = '../input/sample_images/0a0c32c9e08cc2ea76a71649de56be6d'\n",
        "slices_names = os.listdir(url)\n",
        "\n",
        "scan_data = []\n",
        "\n",
        "for slice_name in slices_names:\n",
        "\tslice = dicom.read_file(url+'/'+slice_name)\n",
        "\tscan_data.append(slice)\n",
        "\n",
        "scan_data.sort(key=lambda z: z.SliceLocation)\n",
        "\n",
        "scan = []\n",
        "for i in range(len(scan_data)):\n",
        "\tscan.append((scan_data[i].pixel_array * scan_data[i].RescaleSlope) + scan_data[i].RescaleIntercept)\n",
        "\n",
        "scan = np.array(scan)"
      ]
    },
    {
      "cell_type": "code",
      "execution_count": null,
      "metadata": {
        "_cell_guid": "f039850f-d8cc-4dff-678e-033452805b1c"
      },
      "outputs": [],
      "source": [
        "def segment_lung(scan):\n",
        "\ts = np.zeros(scan.shape)\n",
        "\tfor i in range(scan.shape[0]):\n",
        "\t\tslice = np.array(scan[i]).reshape(scan.shape[1:])\n",
        "\t\tslice1 = slice.copy()\n",
        "\t\tslice1 = cv2.GaussianBlur(slice1, (5, 5), 0)\n",
        "\n",
        "\t\tslice1[slice1 > -300] = 255\n",
        "\t\tslice1[slice1 < -300] = 0\n",
        "\t\tslice1 = np.uint8(slice1)\n",
        "\n",
        "\t\tim2, contours, _ = cv2.findContours(slice1, cv2.RETR_TREE, cv2.CHAIN_APPROX_NONE)\n",
        "\t\tlargest_contour = max(contours, key=cv2.contourArea)\n",
        "\n",
        "\t\tmask = np.zeros(slice.shape, np.uint8)\n",
        "\t\tcv2.fillPoly(mask, [largest_contour], 255)\n",
        "\n",
        "\t\tslice1 = ~slice1\n",
        "\t\tslice1[mask == 0] = 0\n",
        "\n",
        "\t\tkernel = cv2.getStructuringElement(cv2.MORPH_ELLIPSE, (15, 15))\n",
        "\t\tslice1 = cv2.morphologyEx(slice1, cv2.MORPH_OPEN, kernel)  # <- to remove speckles...\n",
        "\t\tslice1 = cv2.morphologyEx(slice1, cv2.MORPH_DILATE, kernel)\n",
        "\t\tslice1 = cv2.morphologyEx(slice1, cv2.MORPH_DILATE, kernel)\n",
        "\t\tslice1 = cv2.morphologyEx(slice1, cv2.MORPH_CLOSE, kernel)\n",
        "\t\tslice1 = cv2.morphologyEx(slice1, cv2.MORPH_CLOSE, kernel)\n",
        "\t\tslice1 = cv2.morphologyEx(slice1, cv2.MORPH_ERODE, kernel)\n",
        "\t\tslice1 = cv2.morphologyEx(slice1, cv2.MORPH_ERODE, kernel)\n",
        "\n",
        "\t\tslice[slice1 == 0] = 0\n",
        "\t\ts[i, :, :] = slice\n",
        "\n",
        "\treturn np.array(s)"
      ]
    },
    {
      "cell_type": "code",
      "execution_count": null,
      "metadata": {
        "_cell_guid": "45dc8f07-20d9-0607-1936-07fd577f178a"
      },
      "outputs": [],
      "source": [
        "SCAN = segment_lung(scan)"
      ]
    },
    {
      "cell_type": "code",
      "execution_count": null,
      "metadata": {
        "_cell_guid": "42afbb4f-e180-e0a0-0a5c-f6260485e34e"
      },
      "outputs": [],
      "source": [
        "im = SCAN[70, :, :]\n",
        "im = cv2.GaussianBlur(im, (3, 3), 0)\n",
        "im[im > 0] = 0\n",
        "im[im < -800] = 0\n",
        "fig = plt.figure(figsize=(13, 13))\n",
        "plt.imshow(im, cmap='gray')\n",
        "plt.show()"
      ]
    },
    {
      "cell_type": "code",
      "execution_count": null,
      "metadata": {
        "_cell_guid": "69772fb6-4e3f-05d7-5565-3ed4e755fee4"
      },
      "outputs": [],
      "source": ""
    },
    {
      "cell_type": "code",
      "execution_count": null,
      "metadata": {
        "_cell_guid": "daaf353d-713c-5f95-ab80-92d262789440"
      },
      "outputs": [],
      "source": ""
    }
  ],
  "metadata": {
    "_change_revision": 0,
    "_is_fork": false,
    "kernelspec": {
      "display_name": "Python 3",
      "language": "python",
      "name": "python3"
    },
    "language_info": {
      "codemirror_mode": {
        "name": "ipython",
        "version": 3
      },
      "file_extension": ".py",
      "mimetype": "text/x-python",
      "name": "python",
      "nbconvert_exporter": "python",
      "pygments_lexer": "ipython3",
      "version": "3.6.0"
    }
  },
  "nbformat": 4,
  "nbformat_minor": 0
}