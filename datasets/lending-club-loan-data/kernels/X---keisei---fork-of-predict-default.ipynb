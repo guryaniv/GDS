{
  "cells": [
    {
      "cell_type": "code",
      "execution_count": null,
      "metadata": {
        "_cell_guid": "a7785cb6-61fd-0a89-7d67-9de44fb26ef2"
      },
      "outputs": [],
      "source": [
        "print(__doc__)\n",
        "\n",
        "import numpy as np\n",
        "import pandas as pd\n",
        "import seaborn as sns\n",
        "import matplotlib.pyplot as plt\n",
        "from matplotlib.colors import ListedColormap\n",
        "from sklearn.model_selection import train_test_split\n",
        "from sklearn.preprocessing import StandardScaler\n",
        "from sklearn.datasets import make_moons, make_circles, make_classification\n",
        "from sklearn.neural_network import MLPClassifier\n",
        "from sklearn.neighbors import KNeighborsClassifier\n",
        "from sklearn.svm import SVC\n",
        "from sklearn.gaussian_process import GaussianProcessClassifier\n",
        "from sklearn.gaussian_process.kernels import RBF\n",
        "from sklearn.tree import DecisionTreeClassifier\n",
        "from sklearn.ensemble import RandomForestClassifier, AdaBoostClassifier\n",
        "from sklearn.naive_bayes import GaussianNB\n",
        "from sklearn.discriminant_analysis import QuadraticDiscriminantAnalysis\n",
        "%matplotlib inline"
      ]
    },
    {
      "cell_type": "code",
      "execution_count": null,
      "metadata": {
        "_cell_guid": "ccf2aab3-dcf1-7c6d-0654-3e9a280147cb"
      },
      "outputs": [],
      "source": [
        "h = .02  # step size in the mesh\n",
        "\n",
        "names = [\"Nearest Neighbors\", \"Linear SVM\", \"RBF SVM\", \"Gaussian Process\",\n",
        "         \"Decision Tree\", \"Random Forest\", \"Neural Net\", \"AdaBoost\",\n",
        "         \"Naive Bayes\", \"QDA\"]\n",
        "\n",
        "classifiers = [\n",
        "    KNeighborsClassifier(3),\n",
        "    SVC(kernel=\"linear\", C=0.025),\n",
        "    SVC(gamma=2, C=1),\n",
        "    GaussianProcessClassifier(1.0 * RBF(1.0), warm_start=True),\n",
        "    DecisionTreeClassifier(max_depth=5),\n",
        "    RandomForestClassifier(max_depth=5, n_estimators=10, max_features=1),\n",
        "    MLPClassifier(alpha=1),\n",
        "    AdaBoostClassifier(),\n",
        "    GaussianNB(),\n",
        "    QuadraticDiscriminantAnalysis()]"
      ]
    },
    {
      "cell_type": "code",
      "execution_count": null,
      "metadata": {
        "_cell_guid": "92d1330a-4919-1ad1-95c7-3380fc7e13d6"
      },
      "outputs": [],
      "source": [
        "X, y = make_classification(n_features=2, n_redundant=0, n_informative=2,\n",
        "                           random_state=1, n_clusters_per_class=1)\n",
        "rng = np.random.RandomState(2)\n",
        "X += 2 * rng.uniform(size=X.shape)\n",
        "linearly_separable = (X, y)\n",
        "\n",
        "datasets = [make_moons(noise=0.3, random_state=0),\n",
        "            make_circles(noise=0.2, factor=0.5, random_state=1),\n",
        "            linearly_separable\n",
        "            ]\n",
        "\n",
        "df = pd.read_csv(\"../input/loan.csv\", low_memory=False, nrows=10000)\n",
        "df=df.dropna(axis=1, how='all')\n",
        "df = df.drop(['id','member_id','url','title','emp_title','desc','mths_since_last_record'], 1)\n",
        "print(df)"
      ]
    },
    {
      "cell_type": "code",
      "execution_count": null,
      "metadata": {
        "_cell_guid": "4f0c5eae-ebd6-c51d-7640-942450813103"
      },
      "outputs": [],
      "source": [
        "#look at data\n",
        "#print(df.columns)\n",
        "\n",
        "for c in df.columns:\n",
        "    #print(df[c].head())\n",
        "    #if df[c].dtype=='object':\n",
        "        #print \"Unique in %s: %d\"%(c,df[c].nunique())\n",
        "        #print pd.get_dummies(df[c]).head()\n",
        "    print(\"Nulls in %s: %d\"%(c,df[c].isnull().sum()))\n",
        "\n",
        "d=['installment','grade','sub_grade']\n",
        "e=['home_ownership','verification_status','issue_d','loan_status']\n",
        "print(df[d].head())\n",
        "print(pd.get_dummies(df[d].head()))\n",
        "print(df[e])\n",
        "df_dummies = pd.get_dummies(df.iloc[:,:])\n",
        "#df_dummies"
      ]
    },
    {
      "cell_type": "code",
      "execution_count": null,
      "metadata": {
        "_cell_guid": "d3976cc7-71a4-1f53-8d6f-b05359c2d52b"
      },
      "outputs": [],
      "source": [
        "df[['mths_since_last_delinq']]=df[['mths_since_last_delinq']].fillna(-999)\n",
        "df[['revol_util','last_pymnt_d','next_pymnt_d']]=df[['revol_util','last_pymnt_d','next_pymnt_d']].fillna(0)\n",
        "\n",
        "df[['mths_since_last_delinq',\n",
        "    'next_pymnt_d',\n",
        "    'revol_util',\n",
        "    'last_pymnt_d']]"
      ]
    },
    {
      "cell_type": "code",
      "execution_count": null,
      "metadata": {
        "_cell_guid": "ed034055-7d37-7931-771f-6da895809b1a"
      },
      "outputs": [],
      "source": [
        "groupby_grade=df.groupby('grade').mean()\n",
        "groupby_grade"
      ]
    },
    {
      "cell_type": "code",
      "execution_count": null,
      "metadata": {
        "_cell_guid": "d8e3775c-2f81-8b3a-35b1-13c998555c87"
      },
      "outputs": [],
      "source": [
        "groupby_sub_grade=df.groupby('sub_grade').mean()\n",
        "groupby_sub_grade"
      ]
    },
    {
      "cell_type": "code",
      "execution_count": null,
      "metadata": {
        "_cell_guid": "f3cb8715-98e0-5baf-2a09-cbd8aca9e81c"
      },
      "outputs": [],
      "source": [
        "#home_ownership verification_status   issue_d  loan_status\n",
        "#groupby_=df.groupby('').mean()\n",
        "#groupby_\n",
        "groupby_home_ownership=df.groupby('home_ownership').mean()\n",
        "groupby_home_ownership"
      ]
    },
    {
      "cell_type": "code",
      "execution_count": null,
      "metadata": {
        "_cell_guid": "2f0e6c5f-5b97-279e-086f-6fda35cf0161"
      },
      "outputs": [],
      "source": [
        "groupby_verification_status=df.groupby('verification_status').mean()\n",
        "groupby_verification_status"
      ]
    },
    {
      "cell_type": "code",
      "execution_count": null,
      "metadata": {
        "_cell_guid": "4411bcb7-d7ad-1bdb-6871-a8779fc39530"
      },
      "outputs": [],
      "source": [
        "groupby_loan_status=df.groupby('loan_status').mean()\n",
        "groupby_loan_status"
      ]
    },
    {
      "cell_type": "code",
      "execution_count": null,
      "metadata": {
        "_cell_guid": "e8f808ed-bd4f-6894-72c3-1dfb7e0df76c"
      },
      "outputs": [],
      "source": [
        "correlation = df.corr()#df_dummies.corr()\n",
        "plt.figure(figsize=(10,10))\n",
        "sns.heatmap(correlation, vmax=1, square=True,annot=True,cmap='cubehelix',annot_kws={\"size\": 6})\n",
        "\n",
        "plt.title('Correlation')"
      ]
    },
    {
      "cell_type": "code",
      "execution_count": null,
      "metadata": {
        "_cell_guid": "29581fa9-499c-5377-d62f-686ce6ca8942"
      },
      "outputs": [],
      "source": [
        "#df[['out_prncp','out_prncp_inv']]\n",
        "#df[['total_pymnt','total_pymnt_inv']]\n",
        "print(df.columns)\n",
        "df[[u'loan_amnt', u'funded_amnt', u'funded_amnt_inv',u'installment',u'total_pymnt',\n",
        "       u'total_pymnt_inv', u'total_rec_prncp', u'total_rec_int']]\n",
        "#sns.countplot(df['term'])\n",
        "sns.countplot(df['grade'])\n",
        "#sns.countplot(df['loan_status'])"
      ]
    },
    {
      "cell_type": "code",
      "execution_count": null,
      "metadata": {
        "_cell_guid": "f42d09f7-5f4a-c8d3-3c9f-0dd2eb4f1797"
      },
      "outputs": [],
      "source": [
        "figure = plt.figure(figsize=(27, 9))\n",
        "i = 1\n",
        "\n",
        "# preprocess dataset, split into training and test part\n",
        "X, y = pd.get_dummies(df.drop('term', 1)), pd.get_dummies(df['term']).iloc[:,1]\n",
        "\n",
        "X = StandardScaler().fit_transform(X)\n",
        "X_train, X_test, y_train, y_test = train_test_split(X, y, test_size=.4, random_state=42)\n",
        "print(X_train.shape, X_test.shape, y_train.shape, y_test.shape)\n",
        "\n",
        "x_min, x_max = X[:, 0].min() - .5, X[:, 0].max() + .5\n",
        "y_min, y_max = X[:, 5].min() - .5, X[:, 5].max() + .5\n",
        "\n",
        "print(x_min, x_max,y_min, y_max)\n",
        "# xx, yy = np.meshgrid(np.arange(x_min, x_max, h),\n",
        "#                      np.arange(y_min, y_max, h))\n",
        "xx, yy = np.meshgrid(np.r_[x_min:x_max:100j],\n",
        "                     np.r_[y_min:y_max:100j])\n",
        "\n",
        "print(xx.shape,yy.shape)\n",
        "print(xx,yy)\n",
        "print(xx.ravel().shape, yy.ravel().shape)\n",
        "print(np.c_[xx.ravel(), yy.ravel()].shape)\n",
        "# just plot the dataset first\n",
        "cm = plt.cm.RdBu\n",
        "cm_bright = ListedColormap(['#FF0000', '#0000FF'])\n",
        "ax = plt.subplot(len(datasets), len(classifiers) + 1, i)\n",
        "#ax.set_title(\"Input data\")\n",
        "# Plot the training points\n",
        "ax.scatter(X_train[:, 0], X_train[:, 1], c=y_train, cmap=cm_bright)\n",
        "# and testing points\n",
        "ax.scatter(X_test[:, 0], X_test[:, 1], c=y_test, cmap=cm_bright, alpha=0.6)\n",
        "ax.set_xlim(xx.min(), xx.max())\n",
        "ax.set_ylim(yy.min(), yy.max())\n",
        "ax.set_xticks(())\n",
        "ax.set_yticks(())\n",
        "i += 1\n",
        "\n",
        "plt.tight_layout()\n",
        "plt.show()"
      ]
    },
    {
      "cell_type": "code",
      "execution_count": null,
      "metadata": {
        "_cell_guid": "3d241f2b-40e8-a477-429d-ab0f792a49f5"
      },
      "outputs": [],
      "source": [
        "# iterate over classifiers\n",
        "for name, clf in zip(names, classifiers):\n",
        "    ax = plt.subplot(len(datasets), len(classifiers) + 1, i)\n",
        "    clf.fit(X_train, y_train)\n",
        "    score = clf.score(X_test, y_test)\n",
        "\n",
        "    # Plot the decision boundary. For that, we will assign a color to each\n",
        "    # point in the mesh [x_min, x_max]x[y_min, y_max].\n",
        "    if hasattr(clf, \"decision_function\"):\n",
        "        Z = clf.decision_function(np.c_[xx.ravel(), yy.ravel()])\n",
        "    else:\n",
        "        Z = clf.predict_proba(np.c_[xx.ravel(), yy.ravel()])[:, 1]\n",
        "\n",
        "    # Put the result into a color plot\n",
        "    Z = Z.reshape(xx.shape)\n",
        "    ax.contourf(xx, yy, Z, cmap=cm, alpha=.8)\n",
        "\n",
        "    # Plot also the training points\n",
        "    ax.scatter(X_train[:, 0], X_train[:, 1], c=y_train, cmap=cm_bright)\n",
        "    # and testing points\n",
        "    ax.scatter(X_test[:, 0], X_test[:, 1], c=y_test, cmap=cm_bright,\n",
        "               alpha=0.6)\n",
        "\n",
        "    ax.set_xlim(xx.min(), xx.max())\n",
        "    ax.set_ylim(yy.min(), yy.max())\n",
        "    ax.set_xticks(())\n",
        "    ax.set_yticks(())\n",
        "    ax.set_title(name)\n",
        "    ax.text(xx.max() - .3, yy.min() + .3, ('%.2f' % score).lstrip('0'),\n",
        "            size=15, horizontalalignment='right')\n",
        "    i += 1"
      ]
    },
    {
      "cell_type": "code",
      "execution_count": null,
      "metadata": {
        "_cell_guid": "07af6dfd-fd39-5be5-7bd4-e657f9c620e9"
      },
      "outputs": [],
      "source": [
        "plt.tight_layout()\n",
        "plt.show()"
      ]
    }
  ],
  "metadata": {
    "_change_revision": 0,
    "_is_fork": false,
    "kernelspec": {
      "display_name": "Python 3",
      "language": "python",
      "name": "python3"
    },
    "language_info": {
      "codemirror_mode": {
        "name": "ipython",
        "version": 3
      },
      "file_extension": ".py",
      "mimetype": "text/x-python",
      "name": "python",
      "nbconvert_exporter": "python",
      "pygments_lexer": "ipython3",
      "version": "3.6.0"
    }
  },
  "nbformat": 4,
  "nbformat_minor": 0
}