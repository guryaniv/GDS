{
  "cells": [
    {
      "cell_type": "markdown",
      "metadata": {
        "_cell_guid": "03233d75-d2ef-2be8-d3e9-89d84902388b"
      },
      "source": [
        "Nothing to see here, please move along!\n",
        "\n",
        "(I'm taking a quick look at the images to see if I am even able to extract any patterns heuristically.)"
      ]
    },
    {
      "cell_type": "code",
      "execution_count": null,
      "metadata": {
        "_cell_guid": "170db112-1c66-33d3-6fb1-cfb2dad29111"
      },
      "outputs": [],
      "source": [
        "# This Python 3 environment comes with many helpful analytics libraries installed\n",
        "# It is defined by the kaggle/python docker image: https://github.com/kaggle/docker-python\n",
        "# For example, here's several helpful packages to load in \n",
        "\n",
        "import numpy as np # linear algebra\n",
        "import pandas as pd # data processing, CSV file I/O (e.g. pd.read_csv)\n",
        "\n",
        "# Input data files are available in the \"../input/\" directory.\n",
        "# For example, running this (by clicking run or pressing Shift+Enter) will list the files in the input directory\n",
        "\n",
        "from subprocess import check_output\n",
        "print(check_output([\"ls\", \"../input/train\"]).decode(\"utf8\"))\n",
        "\n",
        "# Any results you write to the current directory are saved as output."
      ]
    },
    {
      "cell_type": "code",
      "execution_count": null,
      "metadata": {
        "_cell_guid": "4d53e011-6661-7ebe-27b0-ac02ac1b4b27"
      },
      "outputs": [],
      "source": [
        "import matplotlib as mpl\n",
        "import matplotlib.pyplot as plt\n",
        "import os\n",
        "\n",
        "\n",
        "names3 = [None, None, None]\n",
        "for i in range(3):\n",
        "    names3[i] = os.listdir(f'../input/train/Type_{i+1}/')[:100]\n",
        "\n",
        "\n",
        "#im = plt.imread(os.path.join('../input/train/Type_1/', type1_names[0]))\n",
        "#plt.imshow(im)\n",
        "#plt.subplot\n"
      ]
    },
    {
      "cell_type": "code",
      "execution_count": null,
      "metadata": {
        "_cell_guid": "34b1cd89-3c7c-2dd4-c84a-8195d3757906"
      },
      "outputs": [],
      "source": [
        "import matplotlib as mpl\n",
        "import matplotlib.pyplot as plt\n",
        "import random\n",
        "\n",
        "BASE_PATH = '../input/'\n",
        "\n",
        "ims_per_type = 4\n",
        "# ensure enough space to show large(r) images\n",
        "plt.figure(figsize=(12, 12))\n",
        "for i in range(3):\n",
        "    for j in range(ims_per_type):\n",
        "        # plot_number increments across rows first\n",
        "        plt.subplot(3, ims_per_type, i * ims_per_type + j + 1)\n",
        "        basename = names3[i][random.randrange(0,100)]\n",
        "        fn = os.path.join(BASE_PATH, f'train/Type_{i+1}', basename)\n",
        "        print(i, j, fn)\n",
        "        plt.imshow(plt.imread(fn))\n",
        "        plt.xticks([])\n",
        "        plt.yticks([])\n",
        "        plt.title(f't{i+1} - {basename}')\n",
        "\n",
        "# kill h and w space to make more space for images\n",
        "plt.subplots_adjust(hspace=.001, wspace=0.001)\n",
        "plt.tight_layout()\n"
      ]
    }
  ],
  "metadata": {
    "_change_revision": 0,
    "_is_fork": false,
    "kernelspec": {
      "display_name": "Python 3",
      "language": "python",
      "name": "python3"
    },
    "language_info": {
      "codemirror_mode": {
        "name": "ipython",
        "version": 3
      },
      "file_extension": ".py",
      "mimetype": "text/x-python",
      "name": "python",
      "nbconvert_exporter": "python",
      "pygments_lexer": "ipython3",
      "version": "3.6.0"
    }
  },
  "nbformat": 4,
  "nbformat_minor": 0
}