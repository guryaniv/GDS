{
  "cells": [
    {
      "metadata": {
        "_uuid": "51c81861c6fcd970ab3fa8049874cf09be43e610"
      },
      "cell_type": "markdown",
      "source": "Fork from [Two Sigma Financial News Competition Official Getting Started Kernel](https://www.kaggle.com/dster/two-sigma-news-official-getting-started-kernel)\n\nTranslate \"Two Sigma Financial News Competition Official Getting Started Kernel\" to Japanese"
    },
    {
      "metadata": {
        "_uuid": "5ffb21374c7cf4b98e7239045ef9bf312effee25"
      },
      "cell_type": "markdown",
      "source": "# Two Sigma Financial News Competition の始め方\n## 導入\nこのコンペティションでは、市場の状態やニュース記事に基づいて株式がどのように変化するかを予測する。\n学習用のデータには、長期間の取引日1日ごとの更新された市場状況と、最後の取引日以降に発行された一連のニュース記事と、影響を受けた株式や感情分析がある。\nこの情報を使用して、各株式が将来10営業日に増減するかどうかを予測する。 \nこれらの予測を行うと、次の取引日に進むことができる。\n\n通常のKaggleコンペティションと異なる点:\n- SubmissionはKaggleカーネルからのみ可能、他のデータソース、GPU、またはインターネットアクセスは使用できない。\n- **2ステージコンペティション**である。ステージ1でカーネルを編集してモデルを改良する。ステージ2の開始時にカーネルがロックされ、そのカーネル使用して6ヶ月感の現実のデータに対して予測とスコアリングを行う。\n- データの取扱には、**`kaggle.competitions.twosigmanews`**というPythonモジュールを使用しなければならない。これは、現在の取引日の予測を行うために将来のデータを使用していないことを保証するために情報の流れを制御する目的で導入されている。\n\n## このスターターカーネルでは、** `twosigmanews` **モジュールを使用してトレーニングデータを取得し、テスト機能を取得し、予測を行い、提出ファイルを書き込む方法を示す。\n## 忙しい人向けのコード例\n```python\n# 専用モジュールのインポート\nfrom kaggle.competitions import twosigmanews\nenv = twosigmanews.make_env()\n\n# トレーニングデータの取得\n# market_train_df が市場データ\n# news_train_df がニュースデータ\n(market_train_df, news_train_df) = env.get_training_data()\n\n# モデルの学習\n# 各自、自由にモデルを構築しよう\ntrain_my_model(market_train_df, news_train_df)\n\n# モデルによる予測、スコア計算\n# 上で構築したモデルを用いて、将来のデータを予測しよう\nfor (market_obs_df, news_obs_df, predictions_template_df) in env.get_prediction_days():\n     predictions_df = make_my_predictions(market_obs_df, news_obs_df, predictions_template_df)\n     env.predict(predictions_df)\n  \n# env.predictの結果を出力\nenv.write_submission_file()\n```\n`train_my_model`、 `make_my_predictions`は各々で作成する"
    },
    {
      "metadata": {
        "_uuid": "225708f447eee93041881f9d6c3a3e890cb16718"
      },
      "cell_type": "markdown",
      "source": "## 詳細な導入\nまずは、モジュールをインポートして環境構築しよう。"
    },
    {
      "metadata": {
        "_uuid": "8f2839f25d086af736a60e9eeb907d3b93b6e0e5",
        "_cell_guid": "b1076dfc-b9ad-4769-8c92-a6c4dae69d19",
        "trusted": true
      },
      "cell_type": "code",
      "source": "from kaggle.competitions import twosigmanews\n# make_env()はカーネル中で1度しか呼び出せないよ、データをなくさないように注意してね！（変数に入れてとっておいてね！）\nenv = twosigmanews.make_env()\nprint('できた！')",
      "execution_count": null,
      "outputs": []
    },
    {
      "metadata": {
        "_uuid": "6034b46fce8c9d55d403de32e7cebe8cb9fef96d"
      },
      "cell_type": "markdown",
      "source": "## **`get_training_data`** 関数\n\nReturn: 次のトレーニング用データフレームのタプルを返す。\n- `market_train_df`:トレーニング用、市場データのDataFrame\n- `news_train_df`:トレーニング用、ニュースデータのDataFrame\n\nこのデータフレームには、2007年2月から2016年12月までのすべての市場データとニュースデータが含まれている。\n詳細は、[コンペティションのDataタブ](https://www.kaggle.com/c/two-sigma-financial-news/data)を参照すること。\n列名は、各DataFrameに含まれている。"
    },
    {
      "metadata": {
        "trusted": true,
        "_uuid": "c20fa6deeac9d374c98774abd90bdc76b023ee63"
      },
      "cell_type": "code",
      "source": "(market_train_df, news_train_df) = env.get_training_data()",
      "execution_count": null,
      "outputs": []
    },
    {
      "metadata": {
        "trusted": true,
        "_uuid": "6811a1a76f08b2a029543cf73bcdf4dfca7dc362"
      },
      "cell_type": "code",
      "source": "market_train_df.head()",
      "execution_count": null,
      "outputs": []
    },
    {
      "metadata": {
        "trusted": true,
        "_uuid": "84b5a58f67ebded82e6aabc66ca36411e6db35a9"
      },
      "cell_type": "code",
      "source": "market_train_df.tail()",
      "execution_count": null,
      "outputs": []
    },
    {
      "metadata": {
        "trusted": true,
        "_uuid": "25115010e14ef3497932902db0cef68501ddca11"
      },
      "cell_type": "code",
      "source": "news_train_df.head()",
      "execution_count": null,
      "outputs": []
    },
    {
      "metadata": {
        "trusted": true,
        "_uuid": "cdc6b9842073bcb7d63cddc30e5bd7826ccfdfa1"
      },
      "cell_type": "code",
      "source": "news_train_df.tail()",
      "execution_count": null,
      "outputs": []
    },
    {
      "metadata": {
        "trusted": true,
        "_uuid": "840aa03b49d675953f080e4069f79f435282bb43"
      },
      "cell_type": "markdown",
      "source": "## `get_prediction_days` 関数\n\n「予測日」（取引日）ごとにループし、最後に受け取ったデータ以降に発生したすべての市場およびニュースの観測結果を提供するジェネレータである。\n将来を予測をするための** `predict` **関数を呼び出すと、次の予測日に進むことができる。\n\n生成されるデータ：\n- 直前の`get_prediction_days`でデータが生成された後に、`predict`関数が正常に呼び出されていれば、以下のタプルを生成する。\n    - `market_observations_df`: 次の予測日の市場の観測データのDataFrame\n    - `news_observations_df`: 次の予測日のニュースの観測データのDataFrame\n    - `predictions_template_df`: `confidenceValue = 0`で初期化された`assetCode`と`confidenceValue`の列名を持つDataFrame、`predict`関数に渡すためのフォーマットになっている。\n- 直前のget_prediction_daysでデータが生成された後に、`predict`関数が呼び出されていないときは`None`を生成する。"
    },
    {
      "metadata": {
        "trusted": true,
        "_uuid": "724c38149860c8e9058474ac9045c2301e8a20da"
      },
      "cell_type": "code",
      "source": "# get_prediction_days（）で生成されたデータを1回だけイテレーションできる\n# イテレーションが始まったら、データをなくさないように注意してね！（中のデータを変数に入れてとっておいてね！）\ndays = env.get_prediction_days()",
      "execution_count": null,
      "outputs": []
    },
    {
      "metadata": {
        "trusted": true,
        "_uuid": "8d5781f889893e3e34b054687fd538c1a76bfdcc"
      },
      "cell_type": "code",
      "source": "(market_obs_df, news_obs_df, predictions_template_df) = next(days)",
      "execution_count": null,
      "outputs": []
    },
    {
      "metadata": {
        "trusted": true,
        "_uuid": "fe1cb6accc3536258e7687c64ab3e5e5caa6334a"
      },
      "cell_type": "code",
      "source": "market_obs_df.head()",
      "execution_count": null,
      "outputs": []
    },
    {
      "metadata": {
        "trusted": true,
        "_uuid": "11c5b072aefdd54e6fbe9ae71dc3ea41909ade19"
      },
      "cell_type": "code",
      "source": "news_obs_df.head()",
      "execution_count": null,
      "outputs": []
    },
    {
      "metadata": {
        "trusted": true,
        "_uuid": "f99f6364881767a4071da9ea19e18163a7ce066b"
      },
      "cell_type": "code",
      "source": "predictions_template_df.head()",
      "execution_count": null,
      "outputs": []
    },
    {
      "metadata": {
        "_uuid": "11e95f2e3d493ee6e1023c7a4191310adde5d2bf"
      },
      "cell_type": "markdown",
      "source": "`get_prediction_days`関数で取得した日の予測をせずに、次の予測日に進むとエラーが発生するので注意が必要。"
    },
    {
      "metadata": {
        "trusted": true,
        "_uuid": "b8ac953a3afbfca2fb200bbf8f0f7339bec7e6f1"
      },
      "cell_type": "code",
      "source": "next(days)",
      "execution_count": null,
      "outputs": []
    },
    {
      "metadata": {
        "trusted": true,
        "_uuid": "ba72731adf652d6011652e906d8b340d6572904e"
      },
      "cell_type": "markdown",
      "source": "### **`predict`**関数\n現在の予測日の予測結果を格納する。\n引数には、`get_prediction_days`から返された` predictions_template_df`と同じフォーマットのDataFrameを入れる。\n\n引数:\n`predictions_df` ：次の列を持つDataFrame\n- `assetCode` ： 市場資産のコード。\n- `confidenceValue` ：資産が10取引日以内に増減するかどうかの予測結果。この値は `[-1.0, 1.0]` の範囲内でなければならない。\n\n入力引数の`predictions_df`は、`get_prediction_days`から返された`predictions_template_df`で与えられた行をすべて含んでいなければならない。\n`predict`関数では検証しないが、`assetCode`が足りなかったり、余分な`assetCode`がある場合は、投稿が失敗する。"
    },
    {
      "metadata": {
        "_uuid": "9cd8317a5e52180b592ee2abc1d2177214642a3c"
      },
      "cell_type": "markdown",
      "source": "とりあえず最初の予測日にランダムな予測をしてみる："
    },
    {
      "metadata": {
        "trusted": true,
        "_uuid": "a3f2197ed790f1aff1356a6954575fde976a4935"
      },
      "cell_type": "code",
      "source": "import numpy as np\ndef make_random_predictions(predictions_df):\n    # [-1, 1]の間のランダムな値をpredictions_dfに入れる\n    predictions_df.confidenceValue = 2.0 * np.random.rand(len(predictions_df)) - 1.0",
      "execution_count": null,
      "outputs": []
    },
    {
      "metadata": {
        "trusted": true,
        "_uuid": "ca72b7003f24f4aa0c4afe25b600aae31abd64d5"
      },
      "cell_type": "code",
      "source": "make_random_predictions(predictions_template_df)\nenv.predict(predictions_template_df)",
      "execution_count": null,
      "outputs": []
    },
    {
      "metadata": {
        "_uuid": "ff62c167b459c5895383fb05fd9260c14be8c1b8"
      },
      "cell_type": "markdown",
      "source": "続いて、次の予測日にもう一度ランダムな予測をしてみる："
    },
    {
      "metadata": {
        "trusted": true,
        "_uuid": "4e2293d44aad86d09d25326c4ede6f566ab69721"
      },
      "cell_type": "code",
      "source": "(market_obs_df, news_obs_df, predictions_template_df) = next(days)",
      "execution_count": null,
      "outputs": []
    },
    {
      "metadata": {
        "trusted": true,
        "_uuid": "140aee54dc838549f87f041a97c7a809ee4e0f6f"
      },
      "cell_type": "code",
      "source": "market_obs_df.head()",
      "execution_count": null,
      "outputs": []
    },
    {
      "metadata": {
        "trusted": true,
        "_uuid": "b02d43dec4b881564cd43ff6239c7aa97d94a7af"
      },
      "cell_type": "code",
      "source": "news_obs_df.head()",
      "execution_count": null,
      "outputs": []
    },
    {
      "metadata": {
        "trusted": true,
        "_uuid": "5233f1b22f5ddac08adb50bbaa6444a0da4a24bc"
      },
      "cell_type": "code",
      "source": "predictions_template_df.head()",
      "execution_count": null,
      "outputs": []
    },
    {
      "metadata": {
        "trusted": true,
        "_uuid": "a19142739096135d237e2837d8e10c992e53a6e5"
      },
      "cell_type": "code",
      "source": "make_random_predictions(predictions_template_df)\nenv.predict(predictions_template_df)",
      "execution_count": null,
      "outputs": []
    },
    {
      "metadata": {
        "_uuid": "8056b881707072c379ad2e89b9c59c3c041a2ab7"
      },
      "cell_type": "markdown",
      "source": "## ループで全予測日に対して予測する\n`For`文ですべての予測日をループして、ランダムな予測をしてみる。\n`days`ジェネレータ（`get_prediction_days`から返される）は、最終日に達するとイテレーションが止まる。"
    },
    {
      "metadata": {
        "trusted": true,
        "_uuid": "ef60bc52a8a228e5a2ce18e4bd416f1f1f25aeae"
      },
      "cell_type": "code",
      "source": "for (market_obs_df, news_obs_df, predictions_template_df) in days:\n    make_random_predictions(predictions_template_df)\n    env.predict(predictions_template_df)\nprint('できた！')",
      "execution_count": null,
      "outputs": []
    },
    {
      "metadata": {
        "_uuid": "7c8fbcca87c7f6abc53e86408417bf12ce21bb7f"
      },
      "cell_type": "markdown",
      "source": "## **`write_submission_file`** 関数\n\n`predict`関数で予測した結果を現在のワーキングディレクトリにCSV形式（`submission.csv`）で出力する。"
    },
    {
      "metadata": {
        "trusted": true,
        "_uuid": "2c8ed34ffb2c47c6e124530ec798c0b4eb01ddd5"
      },
      "cell_type": "code",
      "source": "env.write_submission_file()",
      "execution_count": null,
      "outputs": []
    },
    {
      "metadata": {
        "trusted": true,
        "_uuid": "d38aa8a67cad3f0c105db7e764ec9b805db39ceb"
      },
      "cell_type": "code",
      "source": "# 提出用の結果ファイルができた！\nimport os\nprint([filename for filename in os.listdir('.') if '.csv' in filename])",
      "execution_count": null,
      "outputs": []
    },
    {
      "metadata": {
        "_uuid": "f464f37885ffa763a2592e2867d74685f75be506"
      },
      "cell_type": "markdown",
      "source": "ヘルプメッセージにも書かれているが、`write_submission_file`関数は呼び出してもそれ自体で**コンペティションに結果が提出されるわけではない**。\nこれの関数は、`submission.csv`ファイルをカーネルの出力の一部として書き出すために使用される。\nコンペティションに提出するためには、以下の手順を行わなければならない。\n1. カーネルを**Commit**（右上のボタン）する。\n2. カーネルのエディタの外側にあるKernel Version'sのOutputタブの中から出力した`submission.csv`を探す。\n3. \"Submit to Competition\"をクリックする\nステージ2でのカーネルを再実行では、提出された結果にリンクされたKernel Version（\"Commit\"を押すと生成される）が使用される。"
    },
    {
      "metadata": {
        "_uuid": "2e3a267ea3149403c49ff59515a1a669ca2d1f9f"
      },
      "cell_type": "markdown",
      "source": "## コードを再実行するときはカーネルを再起動する\n不正行為を防止のために、カーネルの実行ごとに1度だけ`make_env`を呼び出したり、`get_prediction_days`によるイテレーションをしたりすることができる。\nしかし、普通はモデル構築、予測のときにちょっとした変更による試行錯誤を何度もすると思われる。\n残念ながら、単にコードを再実行しようとしたり、ブラウザのページを再読込したりしても、前に実行していたときと同じカーネル実行セッションで実行されていて、`twosigmanews`モジュールにエラーを返される。\nこの問題を回避するには、カーネルエディタの一番下にあるConsoleタブの再起動ボタンを押すことで、実行セッションを再起動する必要がある。\n![Restart button](https://i.imgur.com/hudu8jF.png)"
    }
  ],
  "metadata": {
    "kernelspec": {
      "display_name": "Python 3",
      "language": "python",
      "name": "python3"
    },
    "language_info": {
      "name": "python",
      "version": "3.6.6",
      "mimetype": "text/x-python",
      "codemirror_mode": {
        "name": "ipython",
        "version": 3
      },
      "pygments_lexer": "ipython3",
      "nbconvert_exporter": "python",
      "file_extension": ".py"
    }
  },
  "nbformat": 4,
  "nbformat_minor": 1
}