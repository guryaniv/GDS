{
  "cells": [
    {
      "cell_type": "markdown",
      "metadata": {
        "_cell_guid": "5161fe83-135c-e3b5-727d-a96a6e762fbf"
      },
      "source": [
        "Exploratory Analysis of Two Sigma "
      ]
    },
    {
      "cell_type": "code",
      "execution_count": null,
      "metadata": {
        "_cell_guid": "2835ec3c-3971-67cd-5e48-a0f075c01dc7"
      },
      "outputs": [],
      "source": [
        "# This Python 3 environment comes with many helpful analytics libraries installed\n",
        "# It is defined by the kaggle/python docker image: https://github.com/kaggle/docker-python\n",
        "# For example, here's several helpful packages to load in \n",
        "\n",
        "import numpy as np # linear algebra\n",
        "import pandas as pd # data processing, CSV file I/O (e.g. pd.read_csv)\n",
        "\n",
        "# Input data files are available in the \"../input/\" directory.\n",
        "# For example, running this (by clicking run or pressing Shift+Enter) will list the files in the input directory\n",
        "\n",
        "from subprocess import check_output\n",
        "print(check_output([\"ls\", \"../input\"]).decode(\"utf8\"))\n",
        "\n",
        "# Any results you write to the current directory are saved as output."
      ]
    },
    {
      "cell_type": "code",
      "execution_count": null,
      "metadata": {
        "_cell_guid": "6b32ed5c-ecae-0e1c-66bf-47340e0ac52b"
      },
      "outputs": [],
      "source": [
        "with pd.HDFStore(\"../input/train.h5\", \"r\") as train:\n",
        "    # Note that the \"train\" dataframe is the only dataframe in the file\n",
        "    df = train.get(\"train\")"
      ]
    },
    {
      "cell_type": "code",
      "execution_count": null,
      "metadata": {
        "_cell_guid": "dee6b067-a641-5843-21d9-d39dc94fbaf0"
      },
      "outputs": [],
      "source": [
        "len(df)\n",
        "import kagglegym\n",
        "# Create environment\n",
        "env = kagglegym.make()\n",
        "# Get first observation\n",
        "observation = env.reset()\n",
        "#Observations are the means by which our code \"observes\" the world. \n",
        "#The very first observation has a special property called \"train\" \n",
        "#which is a dataframe which we can use to train our model:\n",
        "# Look at first few rows of the train dataframe\n",
        "observation.train"
      ]
    },
    {
      "cell_type": "code",
      "execution_count": null,
      "metadata": {
        "_cell_guid": "abd0f7eb-4809-71e0-3bf6-0964bdae00ec"
      },
      "outputs": [],
      "source": [
        "df_fund=observation.train.filter(regex='fundamental',axis=1)\n",
        "df_fund.fillna(df_fund.mean(),inplace=True)"
      ]
    },
    {
      "cell_type": "code",
      "execution_count": null,
      "metadata": {
        "_cell_guid": "ac883b3c-4e6d-5d86-ba7a-2bc29874b920"
      },
      "outputs": [],
      "source": [
        "df_fund.head()"
      ]
    },
    {
      "cell_type": "code",
      "execution_count": null,
      "metadata": {
        "_cell_guid": "41c82673-0060-a2fc-9020-3ecda5c3e29a"
      },
      "outputs": [],
      "source": [
        "#extract important fundamental features\n",
        "df_fund['fund_y']=observation.train['y']\n",
        "df_fund.corr()['fund_y']\n",
        "a=df_fund.corr()['fund_y'].sort_values(ascending=False).head(5)\n",
        "del a['fund_y']\n",
        "imp_fund_features=a.index.tolist()\n",
        "a"
      ]
    },
    {
      "cell_type": "code",
      "execution_count": null,
      "metadata": {
        "_cell_guid": "e69a8750-5fa2-704f-846f-e9211bed3228"
      },
      "outputs": [],
      "source": [
        "#extract important technical features\n",
        "df_tech=observation.train.filter(regex='technical',axis=1)\n",
        "df_tech['tech_y']=observation.train['y']\n",
        "df_tech.corr()['tech_y']\n",
        "b=df_tech.corr()['tech_y'].sort_values(ascending=False).head(5)\n",
        "del b['tech_y']\n",
        "imp_tech_features=b.index.tolist()\n",
        "b"
      ]
    },
    {
      "cell_type": "code",
      "execution_count": null,
      "metadata": {
        "_cell_guid": "fa715d13-b3e7-0696-b515-c95069ecddd4"
      },
      "outputs": [],
      "source": [
        "#extract important derived features\n",
        "df_der=observation.train.filter(regex='derived',axis=1)\n",
        "df_der['der_y']=observation.train['y']\n",
        "df_der.corr()['der_y']\n",
        "c=df_der.corr()['der_y'].sort_values(ascending=False).head(5)\n",
        "del c['der_y']\n",
        "c"
      ]
    },
    {
      "cell_type": "code",
      "execution_count": null,
      "metadata": {
        "_cell_guid": "b05ff5ec-cd34-4664-e765-7d53bb3af073"
      },
      "outputs": [],
      "source": [
        "import numpy as np\n",
        "from sklearn import linear_model\n",
        "regr = linear_model.LinearRegression()"
      ]
    },
    {
      "cell_type": "code",
      "execution_count": null,
      "metadata": {
        "_cell_guid": "732c9d50-02ba-3b5c-a286-47c1b0575aa9"
      },
      "outputs": [],
      "source": [
        "#plot the important features\n",
        "\n",
        "full_df = pd.read_hdf('../input/train.h5')\n",
        "pd.options.mode.chained_assignment = None  # default='warn'\n",
        "id = 1561 #val_set.id.sample().values[0]\n",
        "print(id)\n",
        "temp = full_df[full_df.id==id]\n",
        "temp['feature'] = temp['fundamental_11']\n",
        "temp['feature'] = temp['feature'] * 4\n",
        "temp[['y', 'feature']].iloc[:100,:].plot(marker='.')"
      ]
    },
    {
      "cell_type": "code",
      "execution_count": null,
      "metadata": {
        "_cell_guid": "24a3b7d5-e6c4-c379-13c1-6e5a204d3629"
      },
      "outputs": [],
      "source": [
        "full_df = pd.read_hdf('../input/train.h5')\n",
        "pd.options.mode.chained_assignment = None  # default='warn'\n",
        "id = 1561 #val_set.id.sample().values[0]\n",
        "print(id)\n",
        "temp = full_df[full_df.id==id]\n",
        "temp['feature'] = temp['technical_20']\n",
        "temp['feature'] = temp['feature'] * 4\n",
        "temp[['y', 'feature']].iloc[:100,:].plot(marker='.')"
      ]
    },
    {
      "cell_type": "code",
      "execution_count": null,
      "metadata": {
        "_cell_guid": "c76a71eb-c5b7-19f3-60ee-71a970853604"
      },
      "outputs": [],
      "source": [
        "full_df = pd.read_hdf('../input/train.h5')\n",
        "pd.options.mode.chained_assignment = None  # default='warn'\n",
        "id = 1561 #val_set.id.sample().values[0]\n",
        "print(id)\n",
        "temp = full_df[full_df.id==id]\n",
        "temp['feature'] = temp['derived_2']\n",
        "temp['feature'] = temp['feature'] * 4\n",
        "temp[['y', 'feature']].iloc[:100,:].plot(marker='.')"
      ]
    },
    {
      "cell_type": "code",
      "execution_count": null,
      "metadata": {
        "_cell_guid": "83bacfa8-0df9-cc62-7c5e-ff1069616543"
      },
      "outputs": [],
      "source": ""
    }
  ],
  "metadata": {
    "_change_revision": 0,
    "_is_fork": false,
    "kernelspec": {
      "display_name": "Python 3",
      "language": "python",
      "name": "python3"
    },
    "language_info": {
      "codemirror_mode": {
        "name": "ipython",
        "version": 3
      },
      "file_extension": ".py",
      "mimetype": "text/x-python",
      "name": "python",
      "nbconvert_exporter": "python",
      "pygments_lexer": "ipython3",
      "version": "3.5.2"
    }
  },
  "nbformat": 4,
  "nbformat_minor": 0
}