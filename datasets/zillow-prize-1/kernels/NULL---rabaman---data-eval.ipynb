{
  "cells": [
    {
      "cell_type": "code",
      "execution_count": null,
      "metadata": {
        "_cell_guid": "ed6b7439-25ff-58f8-3bb6-e71437d22aba"
      },
      "outputs": [],
      "source": [
        "# This Python 3 environment comes with many helpful analytics libraries installed\n",
        "# It is defined by the kaggle/python docker image: https://github.com/kaggle/docker-python\n",
        "# For example, here's several helpful packages to load in \n",
        "\n",
        "import numpy as np # linear algebra\n",
        "import pandas as pd # data processing, CSV file I/O (e.g. pd.read_csv)\n",
        "import matplotlib.pyplot as plt\n",
        "\n",
        "# Input data files are available in the \"../input/\" directory.\n",
        "# For example, running this (by clicking run or pressing Shift+Enter) will list the files in the input directory\n",
        "\n",
        "from subprocess import check_output\n",
        "print(check_output([\"ls\", \"../input\"]).decode(\"utf8\"))\n",
        "\n",
        "# Any results you write to the current directory are saved as output.\n",
        "\n",
        "train_df = pd.read_csv(\"../input/train_2016.csv\")\n",
        "prop_df = pd.read_csv(\"../input/properties_2016.csv\")\n",
        "\n",
        "ids = train_df.parcelid.values\n",
        "prop_df.fillna(-1.0, inplace=True)\n"
      ]
    },
    {
      "cell_type": "code",
      "execution_count": null,
      "metadata": {
        "_cell_guid": "02529fba-45a3-531a-484e-58c605a76249"
      },
      "outputs": [],
      "source": [
        "prop_df = prop_df.set_index('parcelid')\n",
        "prop_df.loc[ids[:10]]"
      ]
    },
    {
      "cell_type": "code",
      "execution_count": null,
      "metadata": {
        "_cell_guid": "dd5c65c6-a172-0935-c434-ff4d6e3e25f1"
      },
      "outputs": [],
      "source": [
        "train_df.columns"
      ]
    },
    {
      "cell_type": "code",
      "execution_count": null,
      "metadata": {
        "_cell_guid": "df8a343d-c14d-6453-c320-02cb89a8338a"
      },
      "outputs": [],
      "source": [
        "fig, ax = plt.subplots()\n",
        "#ax.hist(prop_df[prop_df.columns[4]].values[:100])\n",
        "ax.plot(range(len(train_df.logerror.values)), train_df.logerror.values)\n",
        "print(len(set(train_df['parcelid'].values)), len(train_df['parcelid'].values))"
      ]
    },
    {
      "cell_type": "code",
      "execution_count": null,
      "metadata": {
        "_cell_guid": "551db4e9-423a-621f-5f57-7ffbb5032a03"
      },
      "outputs": [],
      "source": [
        ""
      ]
    }
  ],
  "metadata": {
    "_change_revision": 0,
    "_is_fork": false,
    "kernelspec": {
      "display_name": "Python 3",
      "language": "python",
      "name": "python3"
    },
    "language_info": {
      "codemirror_mode": {
        "name": "ipython",
        "version": 3
      },
      "file_extension": ".py",
      "mimetype": "text/x-python",
      "name": "python",
      "nbconvert_exporter": "python",
      "pygments_lexer": "ipython3",
      "version": "3.6.0"
    }
  },
  "nbformat": 4,
  "nbformat_minor": 0
}