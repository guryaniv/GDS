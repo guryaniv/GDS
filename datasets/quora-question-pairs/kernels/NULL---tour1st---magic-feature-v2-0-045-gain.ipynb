{
  "cells": [
    {
      "cell_type": "markdown",
      "metadata": {
        "_cell_guid": "108f5ba9-ce5d-9309-10b8-dd84c0709b2a"
      },
      "source": [
        "Feature as described by Krzysztof Dziedzic"
      ]
    },
    {
      "cell_type": "code",
      "execution_count": null,
      "metadata": {
        "_cell_guid": "ceee956e-7672-e0d9-a0b4-1fd9aa5b2880"
      },
      "outputs": [],
      "source": [
        "# This Python 3 environment comes with many helpful analytics libraries installed\n",
        "# It is defined by the kaggle/python docker image: https://github.com/kaggle/docker-python\n",
        "# For example, here's several helpful packages to load in \n",
        "\n",
        "import numpy as np # linear algebra\n",
        "import pandas as pd # data processing, CSV file I/O (e.g. pd.read_csv)\n",
        "from collections import defaultdict\n",
        "\n",
        "# Input data files are available in the \"../input/\" directory.\n",
        "# For example, running this (by clicking run or pressing Shift+Enter) will list the files in the input directory"
      ]
    },
    {
      "cell_type": "code",
      "execution_count": null,
      "metadata": {
        "_cell_guid": "e8c4d481-91cf-89c2-8891-c80b05c4f7af"
      },
      "outputs": [],
      "source": [
        "train_orig =  pd.read_csv('../input/train.csv', header=0)\n",
        "test_orig =  pd.read_csv('../input/test.csv', header=0)"
      ]
    },
    {
      "cell_type": "code",
      "execution_count": null,
      "metadata": {
        "_cell_guid": "ddf12583-76a8-520a-71c4-cccf4a15d01b"
      },
      "outputs": [],
      "source": [
        "ques = pd.concat([train_orig[['question1', 'question2']], \\\n",
        "        test_orig[['question1', 'question2']]], axis=0).reset_index(drop='index')\n",
        "ques.shape"
      ]
    },
    {
      "cell_type": "code",
      "execution_count": null,
      "metadata": {
        "_cell_guid": "bb6c9ddd-1ef5-ede3-798c-e6889bad2eab"
      },
      "outputs": [],
      "source": [
        "q_dict = defaultdict(set)\n",
        "for i in range(ques.shape[0]):\n",
        "        q_dict[ques.question1[i]].add(ques.question2[i])\n",
        "        q_dict[ques.question2[i]].add(ques.question1[i])"
      ]
    },
    {
      "cell_type": "code",
      "execution_count": null,
      "metadata": {
        "_cell_guid": "e7f8025b-cc2e-6e7b-50af-5a33f4006d61"
      },
      "outputs": [],
      "source": [
        "def q1_q2_intersect(row):\n",
        "    return(len(set(q_dict[row['question1']]).intersection(set(q_dict[row['question2']]))))"
      ]
    },
    {
      "cell_type": "code",
      "execution_count": null,
      "metadata": {
        "_cell_guid": "618f8754-0429-4887-7c81-a2569142ea3c"
      },
      "outputs": [],
      "source": [
        "train_orig['q1_q2_intersect'] = train_orig.apply(q1_q2_intersect, axis=1, raw=True)\n",
        "test_orig['q1_q2_intersect'] = test_orig.apply(q1_q2_intersect, axis=1, raw=True)"
      ]
    },
    {
      "cell_type": "code",
      "execution_count": null,
      "metadata": {
        "_cell_guid": "d555661e-e388-43d6-5785-adf02d06841b"
      },
      "outputs": [],
      "source": [
        "import matplotlib.pyplot as plt\n",
        "import seaborn as sns\n",
        "%matplotlib inline"
      ]
    },
    {
      "cell_type": "code",
      "execution_count": null,
      "metadata": {
        "_cell_guid": "dee108a9-2af2-2a4d-05e1-5b6ee02b1ce4"
      },
      "outputs": [],
      "source": [
        "temp = train_orig.q1_q2_intersect.value_counts()\n",
        "sns.barplot(temp.index[:20], temp.values[:20])"
      ]
    },
    {
      "cell_type": "code",
      "execution_count": null,
      "metadata": {
        "_cell_guid": "c20def52-2260-1fe3-3978-92e204ae93c1"
      },
      "outputs": [],
      "source": [
        "train_feat = train_orig[['q1_q2_intersect']]\n",
        "test_feat = test_orig[['q1_q2_intersect']]"
      ]
    },
    {
      "cell_type": "code",
      "execution_count": null,
      "metadata": {
        "_cell_guid": "e96ee285-9849-203e-bc88-73ef95a8999e"
      },
      "outputs": [],
      "source": [
        "train_feat"
      ]
    }
  ],
  "metadata": {
    "_change_revision": 0,
    "_is_fork": false,
    "kernelspec": {
      "display_name": "Python 3",
      "language": "python",
      "name": "python3"
    },
    "language_info": {
      "codemirror_mode": {
        "name": "ipython",
        "version": 3
      },
      "file_extension": ".py",
      "mimetype": "text/x-python",
      "name": "python",
      "nbconvert_exporter": "python",
      "pygments_lexer": "ipython3",
      "version": "3.6.0"
    }
  },
  "nbformat": 4,
  "nbformat_minor": 0
}