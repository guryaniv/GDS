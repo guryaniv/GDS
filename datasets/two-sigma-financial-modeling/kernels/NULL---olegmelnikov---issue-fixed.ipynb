{
  "cells": [
    {
      "cell_type": "markdown",
      "metadata": {
        "_cell_guid": "c82d6a95-88e3-a8db-2eae-bd8de94e6489"
      },
      "source": [
        "The code below returns `NoneType` for `o.train` starting from second step, when a `DataFrame` is expected. Can this be corrected?\n",
        "\n",
        "UPDATE: As the introduction states, `train` is an object of the first observation. So, it doesn't change and needs to be cached for reuse.\n",
        "https://www.kaggle.com/jeffmoser/two-sigma-financial-modeling/kagglegym-api-overview"
      ]
    },
    {
      "cell_type": "code",
      "execution_count": null,
      "metadata": {
        "_cell_guid": "251769d2-7fbc-22aa-7b7d-f8efe5870db2"
      },
      "outputs": [],
      "source": [
        "import kagglegym\n",
        "env = kagglegym.make()\n",
        "o = env.reset()\n",
        "done = False\n",
        "n_max_steps=5\n",
        "\n",
        "while not done and n_max_steps > 0:\n",
        "    print(type(o.features).__name__, type(o.target).__name__, type(o.train).__name__)\n",
        "    o, reward, done, info = env.step(o.target)\n",
        "    n_max_steps -= 1"
      ]
    },
    {
      "cell_type": "code",
      "execution_count": null,
      "metadata": {
        "_cell_guid": "62554aec-2b3e-eec2-58ce-6a3461439dbe"
      },
      "outputs": [],
      "source": ""
    }
  ],
  "metadata": {
    "_change_revision": 0,
    "_is_fork": false,
    "kernelspec": {
      "display_name": "Python 3",
      "language": "python",
      "name": "python3"
    },
    "language_info": {
      "codemirror_mode": {
        "name": "ipython",
        "version": 3
      },
      "file_extension": ".py",
      "mimetype": "text/x-python",
      "name": "python",
      "nbconvert_exporter": "python",
      "pygments_lexer": "ipython3",
      "version": "3.5.2"
    }
  },
  "nbformat": 4,
  "nbformat_minor": 0
}