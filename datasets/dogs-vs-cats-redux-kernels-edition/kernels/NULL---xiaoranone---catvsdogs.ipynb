{
  "cells": [
    {
      "cell_type": "markdown",
      "metadata": {
        "_cell_guid": "515a85b7-db03-6f50-70f0-e044cdcae0be"
      },
      "source": ""
    },
    {
      "cell_type": "code",
      "execution_count": null,
      "metadata": {
        "_cell_guid": "6c10378a-2297-e83d-c949-0723ae4043c5"
      },
      "outputs": [],
      "source": ""
    },
    {
      "cell_type": "markdown",
      "metadata": {
        "_cell_guid": "6eb0226b-89a8-654e-14de-c54f8d7ec298"
      },
      "source": ""
    },
    {
      "cell_type": "code",
      "execution_count": null,
      "metadata": {
        "_cell_guid": "a092359e-7dcf-819b-f047-4358fb5379c9"
      },
      "outputs": [],
      "source": ""
    },
    {
      "cell_type": "code",
      "execution_count": null,
      "metadata": {
        "_cell_guid": "36c32292-6a5f-243f-cbe2-908be4c22d0b"
      },
      "outputs": [],
      "source": ""
    },
    {
      "cell_type": "code",
      "execution_count": null,
      "metadata": {
        "_cell_guid": "5d2102bc-5ab0-0ed6-e901-70a523d3980d"
      },
      "outputs": [],
      "source": ""
    },
    {
      "cell_type": "code",
      "execution_count": null,
      "metadata": {
        "_cell_guid": "cdb45126-6258-f995-2961-698b157d6f0e"
      },
      "outputs": [],
      "source": ""
    },
    {
      "cell_type": "code",
      "execution_count": null,
      "metadata": {
        "_cell_guid": "bb35717f-ccc1-7be8-0836-dd9575ff7dd5"
      },
      "outputs": [],
      "source": ""
    },
    {
      "cell_type": "code",
      "execution_count": null,
      "metadata": {
        "_cell_guid": "bf7afb4f-f506-b580-af4b-e398eb19e4e1"
      },
      "outputs": [],
      "source": ""
    },
    {
      "cell_type": "code",
      "execution_count": null,
      "metadata": {
        "_cell_guid": "b1d8486e-0cd4-8a46-a626-f310aa07ba73"
      },
      "outputs": [],
      "source": ""
    },
    {
      "cell_type": "code",
      "execution_count": null,
      "metadata": {
        "_cell_guid": "5e91c3f5-1daf-b3dd-62e6-275853eab6a7"
      },
      "outputs": [],
      "source": ""
    },
    {
      "cell_type": "markdown",
      "metadata": {
        "_cell_guid": "ff4287a0-1d80-06f4-4766-f84b13c73b35"
      },
      "source": ""
    },
    {
      "cell_type": "code",
      "execution_count": null,
      "metadata": {
        "_cell_guid": "18b4a444-ee8e-35ae-33f1-03be602c81ba"
      },
      "outputs": [],
      "source": ""
    },
    {
      "cell_type": "code",
      "execution_count": null,
      "metadata": {
        "_cell_guid": "d3b17d64-dd75-5c56-3f01-6d65008ef35c"
      },
      "outputs": [],
      "source": ""
    },
    {
      "cell_type": "code",
      "execution_count": null,
      "metadata": {
        "_cell_guid": "5591b459-352e-ca3b-c52e-04480d84d9e8"
      },
      "outputs": [],
      "source": ""
    },
    {
      "cell_type": "code",
      "execution_count": null,
      "metadata": {
        "_cell_guid": "deb22884-fc71-4d37-babb-a67aeec0368b"
      },
      "outputs": [],
      "source": [
        "\u603b\u7ed3\uff1a\u7531\u4e8e\u7535\u8111\u6027\u80fd\u7684\u95ee\u9898\uff0c\u8bad\u7ec3\u6b21\u6570\u548c\u8bad\u7ec3\u6570\u636e\u90fd\u53ea\u662f\u4e00\u5c0f\u90e8\u5206\uff0c\u6240\u4ee5\u51c6\u786e\u7387\u592a\u4f4e\u3002"
      ]
    }
  ],
  "metadata": {
    "_change_revision": 0,
    "_is_fork": false,
    "kernelspec": {
      "display_name": "Python 3",
      "language": "python",
      "name": "python3"
    },
    "language_info": {
      "codemirror_mode": {
        "name": "ipython",
        "version": 3
      },
      "file_extension": ".py",
      "mimetype": "text/x-python",
      "name": "python",
      "nbconvert_exporter": "python",
      "pygments_lexer": "ipython3",
      "version": "3.6.0"
    }
  },
  "nbformat": 4,
  "nbformat_minor": 0
}