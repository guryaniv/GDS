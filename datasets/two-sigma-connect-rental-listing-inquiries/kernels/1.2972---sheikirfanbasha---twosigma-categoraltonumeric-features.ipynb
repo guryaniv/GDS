{
  "cells": [
    {
      "cell_type": "code",
      "execution_count": null,
      "metadata": {
        "_cell_guid": "ddef49e6-de31-8588-583a-32c461b96718"
      },
      "outputs": [],
      "source": [
        "# This Python 3 environment comes with many helpful analytics libraries installed\n",
        "# It is defined by the kaggle/python docker image: https://github.com/kaggle/docker-python\n",
        "# For example, here's several helpful packages to load in \n",
        "\n",
        "import numpy as np # linear algebra\n",
        "import pandas as pd # data processing, CSV file I/O (e.g. pd.read_csv)\n",
        "\n",
        "# Input data files are available in the \"../input/\" directory.\n",
        "# For example, running this (by clicking run or pressing Shift+Enter) will list the files in the input directory\n",
        "\n",
        "from subprocess import check_output\n",
        "print(check_output([\"ls\", \"../input\"]).decode(\"utf8\"))\n",
        "\n",
        "# Any results you write to the current directory are saved as output."
      ]
    },
    {
      "cell_type": "code",
      "execution_count": null,
      "metadata": {
        "_cell_guid": "a6655212-2852-8e0b-8121-d5c381ab6596"
      },
      "outputs": [],
      "source": [
        "# Read the training and test data\n",
        "train_df = pd.read_json(\"../input/train.json\")\n",
        "test_df = pd.read_json(\"../input/test.json\")\n",
        "\n",
        "#Look at the size of test and train data\n",
        "print(\"train data shape: \", train_df.shape[0]);\n",
        "print(\"test data shape: \", test_df.shape[0]);"
      ]
    },
    {
      "cell_type": "code",
      "execution_count": null,
      "metadata": {
        "_cell_guid": "b4d9e0d9-ab69-6390-4de5-09899da4283f"
      },
      "outputs": [],
      "source": [
        "# Select the features and prepare the Input and target variables\n",
        "selected_features = [\"bedrooms\", \"bathrooms\", \"price\"]\n",
        "\n",
        "X = train_df[selected_features]\n",
        "Y = train_df[\"interest_level\"]\n",
        "\n",
        "X.head()"
      ]
    },
    {
      "cell_type": "code",
      "execution_count": null,
      "metadata": {
        "_cell_guid": "1d23dcd5-7a0b-da52-013e-04eb7dc39c27"
      },
      "outputs": [],
      "source": [
        "#Split the input into training and validation sets\n",
        "from sklearn.model_selection import train_test_split\n",
        "X_train, X_val, Y_train, Y_val = train_test_split(X, Y, test_size=0.33)\n",
        "#Pass the input to the algo and calculate the loss\n",
        "from sklearn.ensemble import RandomForestClassifier\n",
        "algo = RandomForestClassifier(n_estimators=100)\n",
        "algo.fit(X_train, Y_train)\n",
        "y_predict_val = algo.predict(X_val)\n",
        "from sklearn.metrics import log_loss\n",
        "log_loss(Y_val, y_predict_val)"
      ]
    }
  ],
  "metadata": {
    "_change_revision": 0,
    "_is_fork": false,
    "kernelspec": {
      "display_name": "Python 3",
      "language": "python",
      "name": "python3"
    },
    "language_info": {
      "codemirror_mode": {
        "name": "ipython",
        "version": 3
      },
      "file_extension": ".py",
      "mimetype": "text/x-python",
      "name": "python",
      "nbconvert_exporter": "python",
      "pygments_lexer": "ipython3",
      "version": "3.6.0"
    }
  },
  "nbformat": 4,
  "nbformat_minor": 0
}