{
  "cells": [
    {
      "cell_type": "markdown",
      "metadata": {
        "_cell_guid": "3cef62e0-545a-456f-3273-ae153ab6bb56"
      },
      "source": [
        "> This notebook is based on the prior work done by Roberto Ruiz in https://www.kaggle.com/robertoruiz/sberbank-russian-housing-market/dealing-with-multicollinearity. As such, I won't go into explanation of the theory because they have already done a fantastic job of doing so. If you have any questions on the theory then please feel free to ask, but I'd definitely suggest that everyone read Roberto's work as an introduction."
      ]
    },
    {
      "cell_type": "code",
      "execution_count": null,
      "metadata": {
        "_cell_guid": "c7759a04-234e-8b52-700d-b4af8b36f7ef"
      },
      "outputs": [],
      "source": [
        "# This Python 3 environment comes with many helpful analytics libraries installed\n",
        "# It is defined by the kaggle/python docker image: https://github.com/kaggle/docker-python\n",
        "# For example, here's several helpful packages to load in \n",
        "\n",
        "import numpy as np # linear algebra\n",
        "import pandas as pd # data processing, CSV file I/O (e.g. pd.read_csv)\n",
        "\n",
        "# Input data files are available in the \"../input/\" directory.\n",
        "# For example, running this (by clicking run or pressing Shift+Enter) will list the files in the input directory\n",
        "\n",
        "from subprocess import check_output\n",
        "print(check_output([\"ls\", \"../input\"]).decode(\"utf8\"))\n",
        "\n",
        "# Any results you write to the current directory are saved as output.\n",
        "\n",
        "# Extra imports necessary for the code\n",
        "\n",
        "from sklearn.base import BaseEstimator, TransformerMixin\n",
        "from sklearn.preprocessing import Imputer\n",
        "\n",
        "from statsmodels.stats.outliers_influence import variance_inflation_factor"
      ]
    },
    {
      "cell_type": "markdown",
      "metadata": {
        "_cell_guid": "8f071591-16d3-c4f3-3ab4-7022aa162b0f"
      },
      "source": [
        "Based on the work set out by Roberto, I've created a scikit-learn transformer class that can be used to remove columns that have a high VIF factor (in short, they have high colinearity with other columns within the dataset and as such should probably be removed).\n",
        "\n",
        "This class is based on a standard scikit-learn transformer and also uses the statsmodel library for calculating the VIF number. Information on scikit-learn transformers can be found [here](http://scikit-learn.org/stable/data_transforms.html) whilst the docs for the statsmodel function can be found [here](http://www.statsmodels.org/stable/generated/statsmodels.stats.outliers_influence.variance_inflation_factor.html)"
      ]
    },
    {
      "cell_type": "code",
      "execution_count": null,
      "metadata": {
        "_cell_guid": "ef80598b-611b-6273-80c9-df5b4b1b4ee7"
      },
      "outputs": [],
      "source": [
        "X = pd.read_csv('../input/train.csv', index_col=0, parse_dates=['timestamp'])\n",
        "y = X.pop('price_doc')\n",
        "X.head()"
      ]
    },
    {
      "cell_type": "code",
      "execution_count": null,
      "metadata": {
        "_cell_guid": "99ab0ae6-a13b-a0e2-e220-aa437fa94ed5"
      },
      "outputs": [],
      "source": [
        "from statsmodels.stats.outliers_influence import variance_inflation_factor\n",
        "\n",
        "class ReduceVIF(BaseEstimator, TransformerMixin):\n",
        "    def __init__(self, thresh=5.0, impute=True, impute_strategy='median'):\n",
        "        # From looking at documentation, values between 5 and 10 are \"okay\".\n",
        "        # Above 10 is too high and so should be removed.\n",
        "        self.thresh = thresh\n",
        "        \n",
        "        # The statsmodel function will fail with NaN values, as such we have to impute them.\n",
        "        # By default we impute using the median value.\n",
        "        # This imputation could be taken out and added as part of an sklearn Pipeline.\n",
        "        if impute:\n",
        "            self.imputer = Imputer(strategy=impute_strategy)\n",
        "\n",
        "    def fit(self, X, y=None):\n",
        "        print('ReduceVIF fit')\n",
        "        if hasattr(self, 'imputer'):\n",
        "            self.imputer.fit(X)\n",
        "        return self\n",
        "\n",
        "    def transform(self, X, y=None):\n",
        "        print('ReduceVIF transform')\n",
        "        columns = X.columns.tolist()\n",
        "        if hasattr(self, 'imputer'):\n",
        "            X = pd.DataFrame(self.imputer.transform(X), columns=columns)\n",
        "        return ReduceVIF.calculate_vif(X, self.thresh)\n",
        "\n",
        "    @staticmethod\n",
        "    def calculate_vif(X, thresh=5.0):\n",
        "        # Taken from https://stats.stackexchange.com/a/253620/53565 and modified\n",
        "        dropped=True\n",
        "        while dropped:\n",
        "            variables = X.columns\n",
        "            dropped = False\n",
        "            vif = [variance_inflation_factor(X[variables].values, X.columns.get_loc(var)) for var in X.columns]\n",
        "            \n",
        "            max_vif = max(vif)\n",
        "            if max_vif > thresh:\n",
        "                maxloc = vif.index(max_vif)\n",
        "                print(f'Dropping {X.columns[maxloc]} with vif={max_vif}')\n",
        "                X = X.drop([X.columns.tolist()[maxloc]], axis=1)\n",
        "                dropped=True\n",
        "        return X"
      ]
    },
    {
      "cell_type": "code",
      "execution_count": null,
      "metadata": {
        "_cell_guid": "54ccd359-3c7d-26da-8b80-279e27b1add7"
      },
      "outputs": [],
      "source": [
        "transformer = ReduceVIF()\n",
        "\n",
        "# Only use 10 columns for speed in this example\n",
        "X = transformer.fit_transform(X[X.columns[-10:]], y)\n",
        "\n",
        "X.head()"
      ]
    },
    {
      "cell_type": "markdown",
      "metadata": {
        "_cell_guid": "3cf8b5d9-4b56-4672-a94a-13a1536224b2"
      },
      "source": [
        "Things to bear in mind:\n",
        "\n",
        " - It's really slow, especially at the beginning when it's calculating VIF for all columns. As it drops more columns it will speed up, but there's a reason I've only used 10 columns for the example...\n",
        " - If two or more columns \"tie\" (in the case when multiple can be inf...) then it'll drop the first column it finds to start with.\n",
        " - The idea of imputing so much data makes me uneasy. I'd be tempted to modify it so you use the imputed data only for dropping columns but then continue analysis with all of the NaNs present."
      ]
    }
  ],
  "metadata": {
    "_change_revision": 0,
    "_is_fork": false,
    "kernelspec": {
      "display_name": "Python 3",
      "language": "python",
      "name": "python3"
    },
    "language_info": {
      "codemirror_mode": {
        "name": "ipython",
        "version": 3
      },
      "file_extension": ".py",
      "mimetype": "text/x-python",
      "name": "python",
      "nbconvert_exporter": "python",
      "pygments_lexer": "ipython3",
      "version": "3.6.0"
    }
  },
  "nbformat": 4,
  "nbformat_minor": 0
}