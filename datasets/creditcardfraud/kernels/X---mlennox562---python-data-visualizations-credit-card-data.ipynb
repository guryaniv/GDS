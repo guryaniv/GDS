{
  "cells": [
    {
      "cell_type": "markdown",
      "metadata": {
        "_cell_guid": "12d8188f-60dd-50c2-9cd4-52f1bd150a31"
      },
      "source": [
        "Python Data Visualizations - Credit Card Data  "
      ]
    },
    {
      "cell_type": "code",
      "execution_count": null,
      "metadata": {
        "_cell_guid": "d4d63b3d-c633-74fc-2f37-1f59cf4df5c6"
      },
      "outputs": [],
      "source": [
        "# This Python 3 environment comes with many helpful analytics libraries installed\n",
        "# It is defined by the kaggle/python docker image: https://github.com/kaggle/docker-python\n",
        "# For example, here's several helpful packages to load in \n",
        "\n",
        "import numpy as np # linear algebra\n",
        "import pandas as pd # data processing, CSV file I/O (e.g. pd.read_csv)\n",
        "\n",
        "# Input data files are available in the \"../input/\" directory.\n",
        "# For example, running this (by clicking run or pressing Shift+Enter) will list the files in the input directory\n",
        "\n",
        "from subprocess import check_output\n",
        "print(check_output([\"ls\", \"../input\"]).decode(\"utf8\"))\n",
        "\n",
        "# Any results you write to the current directory are saved as output."
      ]
    },
    {
      "cell_type": "code",
      "execution_count": null,
      "metadata": {
        "_cell_guid": "85130cd2-29ac-c7d7-58ca-170cda841b3c"
      },
      "outputs": [],
      "source": [
        "# First, we'll import pandas, a data processing and CSV file I/O library\n",
        "import pandas as pd\n",
        "\n",
        "# We'll also import seaborn, a Python graphing library\n",
        "import warnings # current version of seaborn generates a bunch of warnings that we'll ignore\n",
        "warnings.filterwarnings(\"ignore\")\n",
        "import seaborn as sns\n",
        "import matplotlib.pyplot as plt\n",
        "sns.set(style=\"white\", color_codes=True)\n",
        "\n",
        "# Next, we'll load the Credit Card dataset, which is in the \"../input/\" directory\n",
        "creditcard = pd.read_csv(\"../input/creditcard.csv\") # the creditcard dataset is now a Pandas DataFrame\n",
        "\n",
        "# Let's see what's in the creditcard data - Jupyter notebooks print the result of the last thing you do\n",
        "creditcard.head()\n",
        "\n",
        "# Press shift+enter to execute this cell"
      ]
    },
    {
      "cell_type": "code",
      "execution_count": null,
      "metadata": {
        "_cell_guid": "f3a87b9d-0f63-b9e5-7d62-24ad8893c021"
      },
      "outputs": [],
      "source": [
        "# Let's see how many examples we have of each case\n",
        "creditcard[\"Class\"].value_counts()"
      ]
    },
    {
      "cell_type": "code",
      "execution_count": null,
      "metadata": {
        "_cell_guid": "a8388b7e-8428-4cd9-08e5-ddcc2cf0ab55"
      },
      "outputs": [],
      "source": [
        "import pandas as pd\n",
        "from imblearn.over_sampling import SMOTE\n",
        "from sklearn.ensemble import RandomForestClassifier\n",
        "from sklearn.metrics import confusion_matrix\n",
        "from sklearn.model_selection import train_test_split"
      ]
    },
    {
      "cell_type": "code",
      "execution_count": null,
      "metadata": {
        "_cell_guid": "9a7fb0f6-8266-1c62-cd64-dd409194390d"
      },
      "outputs": [],
      "source": [
        "columns=creditcard.columns\n",
        "# The labels are in the last column ('Class'). Simply remove it to obtain features columns\n",
        "\n",
        "features_columns=columns.delete(len(columns)-1)\n",
        "\n",
        "features = creditcard[features_columns]\n",
        "\n",
        "labels=creditcard['Class']"
      ]
    },
    {
      "cell_type": "code",
      "execution_count": null,
      "metadata": {
        "_cell_guid": "8f914115-e249-071b-0820-9b86560e1b91"
      },
      "outputs": [],
      "source": [
        "features_train, features_test, labels_train, labels_test = train_test_split(features, \n",
        "                                                                            labels, \n",
        "                                                                            test_size=0.2, \n",
        "                                                                            random_state=0)"
      ]
    },
    {
      "cell_type": "code",
      "execution_count": null,
      "metadata": {
        "_cell_guid": "b40c8dbb-e6da-7ad5-effa-e4924d41a637"
      },
      "outputs": [],
      "source": [
        "oversampler=SMOTE(random_state=0)\n",
        "os_features,os_labels=oversampler.fit_sample(features_train,labels_train)"
      ]
    },
    {
      "cell_type": "code",
      "execution_count": null,
      "metadata": {
        "_cell_guid": "80903548-4a1c-b3f3-e5c3-0e7891ada124"
      },
      "outputs": [],
      "source": [
        "# verify new data set is balanced\n",
        "len(os_labels[os_labels==1])"
      ]
    },
    {
      "cell_type": "code",
      "execution_count": null,
      "metadata": {
        "_cell_guid": "84af7fc3-138a-1d32-2a92-184bf19e7116"
      },
      "outputs": [],
      "source": [
        "clf=RandomForestClassifier(random_state=0)\n",
        "clf.fit(os_features,os_labels)"
      ]
    },
    {
      "cell_type": "code",
      "execution_count": null,
      "metadata": {
        "_cell_guid": "86416e4f-0513-9805-d85e-7e07335b2404"
      },
      "outputs": [],
      "source": [
        "# perform predictions on test set\n",
        "actual=labels_test\n",
        "predictions=clf.predict(features_test)"
      ]
    },
    {
      "cell_type": "code",
      "execution_count": null,
      "metadata": {
        "_cell_guid": "b4f9312c-0dbc-3c3c-39ba-6b70c6f8ebcb"
      },
      "outputs": [],
      "source": [
        "confusion_matrix(actual,predictions)"
      ]
    },
    {
      "cell_type": "code",
      "execution_count": null,
      "metadata": {
        "_cell_guid": "bd729a61-b686-844c-a3c8-4ecb8d37b7e5"
      },
      "outputs": [],
      "source": [
        "from sklearn.metrics import roc_curve, auc\n",
        "\n",
        "false_positive_rate, true_positive_rate, thresholds = roc_curve(actual, predictions)\n",
        "roc_auc = auc(false_positive_rate, true_positive_rate)\n",
        "print (roc_auc)"
      ]
    },
    {
      "cell_type": "code",
      "execution_count": null,
      "metadata": {
        "_cell_guid": "1215599a-e32d-535c-df3c-0596729d789a"
      },
      "outputs": [],
      "source": [
        "import matplotlib.pyplot as plt\n",
        "plt.title('Receiver Operating Characteristic')\n",
        "plt.plot(false_positive_rate, true_positive_rate, 'b', label='AUC = %0.2f'% roc_auc)\n",
        "plt.legend(loc='lower right')\n",
        "plt.plot([0,1],[0,1],'r--')\n",
        "plt.xlim([-0.1,1.2])\n",
        "plt.ylim([-0.1,1.2])\n",
        "plt.ylabel('True Positive Rate')\n",
        "plt.xlabel('False Positive Rate')"
      ]
    },
    {
      "cell_type": "code",
      "execution_count": null,
      "metadata": {
        "_cell_guid": "e5a3df5f-b29e-9add-bfe9-fcc8aa296ca9"
      },
      "outputs": [],
      "source": [
        "# The first way we can plot things is using the .plot extension from Pandas dataframes\n",
        "# We'll use this to make a scatterplot of the Credit Card features V1 and V2.\n",
        "creditcard.plot(kind=\"scatter\", x=\"V1\", y=\"V2\")"
      ]
    },
    {
      "cell_type": "code",
      "execution_count": null,
      "metadata": {
        "_cell_guid": "4208936d-0e12-c738-bf33-a0bbb99df66b"
      },
      "outputs": [],
      "source": [
        "# We can also use the seaborn library to make a similar plot\n",
        "# A seaborn jointplot shows bivariate scatterplots and univariate histograms in the same figure\n",
        "sns.jointplot(x=\"V1\", y=\"V2\", data=creditcard, size=5)"
      ]
    },
    {
      "cell_type": "code",
      "execution_count": null,
      "metadata": {
        "_cell_guid": "b8029edc-e36d-d9ed-4cdb-144b3358de9b"
      },
      "outputs": [],
      "source": [
        "# One piece of information missing in the plots above is what species each plant is\n",
        "# We'll use seaborn's FacetGrid to color the scatterplot by species\n",
        "sns.FacetGrid(creditcard, hue=\"Class\", size=5) \\\n",
        "   .map(plt.scatter, \"V1\", \"V2\") \\\n",
        "   .add_legend()"
      ]
    },
    {
      "cell_type": "code",
      "execution_count": null,
      "metadata": {
        "_cell_guid": "a6974fcf-b179-20dc-9c2e-8292f78dc873"
      },
      "outputs": [],
      "source": [
        "# We can look at an individual feature in Seaborn through a boxplot\n",
        "sns.boxplot(x=\"Class\", y=\"V1\", data=creditcard)"
      ]
    },
    {
      "cell_type": "code",
      "execution_count": null,
      "metadata": {
        "_cell_guid": "a9d4266d-0487-95a4-fa26-38186a6ed81e"
      },
      "outputs": [],
      "source": [
        "# One way we can extend this plot is adding a layer of individual points on top of\n",
        "# it through Seaborn's striplot\n",
        "# \n",
        "# We'll use jitter=True so that all the points don't fall in single vertical lines\n",
        "# above the species\n",
        "#\n",
        "# Saving the resulting axes as ax each time causes the resulting plot to be shown\n",
        "# on top of the previous axes\n",
        "ax = sns.boxplot(x=\"Class\", y=\"V1\", data=creditcard)\n",
        "ax = sns.stripplot(x=\"Class\", y=\"V1\", data=creditcard, jitter=True, edgecolor=\"gray\")"
      ]
    },
    {
      "cell_type": "code",
      "execution_count": null,
      "metadata": {
        "_cell_guid": "87d6693e-dd12-31c9-51d6-b04f76edb22f"
      },
      "outputs": [],
      "source": [
        "# A violin plot combines the benefits of the previous two plots and simplifies them\n",
        "# Denser regions of the data are fatter, and sparser thiner in a violin plot\n",
        "sns.violinplot(x=\"Class\", y=\"V1\", data=creditcard, size=6)"
      ]
    },
    {
      "cell_type": "code",
      "execution_count": null,
      "metadata": {
        "_cell_guid": "18d81031-6a14-5a40-6f13-01789355511d"
      },
      "outputs": [],
      "source": [
        "# A final seaborn plot useful for looking at univariate relations is the kdeplot,\n",
        "# which creates and visualizes a kernel density estimate of the underlying feature\n",
        "sns.FacetGrid(creditcard, hue=\"Class\", size=6) \\\n",
        "   .map(sns.kdeplot, \"V1\") \\\n",
        "   .add_legend()"
      ]
    },
    {
      "cell_type": "code",
      "execution_count": null,
      "metadata": {
        "_cell_guid": "bb79d6f4-bf7b-0d32-8569-7e2b27d5919d"
      },
      "outputs": [],
      "source": [
        "# Now that we've covered seaborn, let's go back to some of the ones we can make with Pandas\n",
        "# We can quickly make a boxplot with Pandas on each feature split out by Class\n",
        "creditcard.boxplot(by=\"Class\", figsize=(12, 6))"
      ]
    },
    {
      "cell_type": "code",
      "execution_count": null,
      "metadata": {
        "_cell_guid": "b6a4562a-5546-11ae-0581-3d2ab1e017c9"
      },
      "outputs": [],
      "source": [
        "# One way we can extend this plot is adding a layer of individual points on top of\n",
        "# it through Seaborn's striplot\n",
        "# \n",
        "# We'll use jitter=True so that all the points don't fall in single vertical lines\n",
        "# above the species\n",
        "#\n",
        "# Saving the resulting axes as ax each time causes the resulting plot to be shown\n",
        "# on top of the previous axes\n",
        "ax = sns.boxplot(x=\"Class\", y=\"Amount\", data=creditcard)\n",
        "ax = sns.stripplot(x=\"Class\", y=\"Amount\", data=creditcard, jitter=True, edgecolor=\"gray\")"
      ]
    },
    {
      "cell_type": "code",
      "execution_count": null,
      "metadata": {
        "_cell_guid": "6c44b142-e9f8-1c82-74d2-fbde5892e350"
      },
      "outputs": [],
      "source": [
        "# One way we can extend this plot is adding a layer of individual points on top of\n",
        "# it through Seaborn's striplot\n",
        "# \n",
        "# We'll use jitter=True so that all the points don't fall in single vertical lines\n",
        "# above the species\n",
        "#\n",
        "# Saving the resulting axes as ax each time causes the resulting plot to be shown\n",
        "# on top of the previous axes\n",
        "ax = sns.boxplot(x=\"Class\", y=\"Time\", data=creditcard)\n",
        "ax = sns.stripplot(x=\"Class\", y=\"Time\", data=creditcard, jitter=True, edgecolor=\"gray\")"
      ]
    },
    {
      "cell_type": "code",
      "execution_count": null,
      "metadata": {
        "_cell_guid": "cda655a1-42ea-eed2-d3d5-455a1f99e483"
      },
      "outputs": [],
      "source": [
        "# One way we can extend this plot is adding a layer of individual points on top of\n",
        "# it through Seaborn's striplot\n",
        "# \n",
        "# We'll use jitter=True so that all the points don't fall in single vertical lines\n",
        "# above the species\n",
        "#\n",
        "# Saving the resulting axes as ax each time causes the resulting plot to be shown\n",
        "# on top of the previous axes\n",
        "ax = sns.boxplot(x=\"Class\", y=\"V2\", data=creditcard)\n",
        "ax = sns.stripplot(x=\"Class\", y=\"V2\", data=creditcard, jitter=True, edgecolor=\"gray\")"
      ]
    },
    {
      "cell_type": "code",
      "execution_count": null,
      "metadata": {
        "_cell_guid": "7140677b-7f67-90fc-bec3-3618b5d0278e"
      },
      "outputs": [],
      "source": [
        "# One way we can extend this plot is adding a layer of individual points on top of\n",
        "# it through Seaborn's striplot\n",
        "# \n",
        "# We'll use jitter=True so that all the points don't fall in single vertical lines\n",
        "# above the species\n",
        "#\n",
        "# Saving the resulting axes as ax each time causes the resulting plot to be shown\n",
        "# on top of the previous axes\n",
        "ax = sns.boxplot(x=\"Class\", y=\"V3\", data=creditcard)\n",
        "ax = sns.stripplot(x=\"Class\", y=\"V3\", data=creditcard, jitter=True, edgecolor=\"gray\")"
      ]
    },
    {
      "cell_type": "code",
      "execution_count": null,
      "metadata": {
        "_cell_guid": "5be5e113-c449-6409-c96b-8348375a69cc"
      },
      "outputs": [],
      "source": [
        "# One way we can extend this plot is adding a layer of individual points on top of\n",
        "# it through Seaborn's striplot\n",
        "# \n",
        "# We'll use jitter=True so that all the points don't fall in single vertical lines\n",
        "# above the species\n",
        "#\n",
        "# Saving the resulting axes as ax each time causes the resulting plot to be shown\n",
        "# on top of the previous axes\n",
        "ax = sns.boxplot(x=\"Class\", y=\"V4\", data=creditcard)\n",
        "ax = sns.stripplot(x=\"Class\", y=\"V4\", data=creditcard, jitter=True, edgecolor=\"gray\")"
      ]
    },
    {
      "cell_type": "code",
      "execution_count": null,
      "metadata": {
        "_cell_guid": "1838b214-b55f-992b-8b07-830e061cca4c"
      },
      "outputs": [],
      "source": [
        "# One way we can extend this plot is adding a layer of individual points on top of\n",
        "# it through Seaborn's striplot\n",
        "# \n",
        "# We'll use jitter=True so that all the points don't fall in single vertical lines\n",
        "# above the species\n",
        "#\n",
        "# Saving the resulting axes as ax each time causes the resulting plot to be shown\n",
        "# on top of the previous axes\n",
        "ax = sns.boxplot(x=\"Class\", y=\"V5\", data=creditcard)\n",
        "ax = sns.stripplot(x=\"Class\", y=\"V5\", data=creditcard, jitter=True, edgecolor=\"gray\")"
      ]
    }
  ],
  "metadata": {
    "_change_revision": 0,
    "_is_fork": false,
    "kernelspec": {
      "display_name": "Python 3",
      "language": "python",
      "name": "python3"
    },
    "language_info": {
      "codemirror_mode": {
        "name": "ipython",
        "version": 3
      },
      "file_extension": ".py",
      "mimetype": "text/x-python",
      "name": "python",
      "nbconvert_exporter": "python",
      "pygments_lexer": "ipython3",
      "version": "3.5.2"
    }
  },
  "nbformat": 4,
  "nbformat_minor": 0
}