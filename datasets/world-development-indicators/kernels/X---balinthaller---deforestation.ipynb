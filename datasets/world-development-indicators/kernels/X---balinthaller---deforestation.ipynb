{"cells":[
 {
  "cell_type": "code",
  "execution_count": null,
  "metadata": {
   "collapsed": false
  },
  "outputs": [],
  "source": "# This Python 3 environment comes with many helpful analytics libraries installed\n# It is defined by the kaggle/python docker image: https://github.com/kaggle/docker-python\n# For example, here's several helpful packages to load in \n\nimport numpy as np # linear algebra\nimport pandas as pd # data processing, CSV file I/O (e.g. pd.read_csv)\n\n# Input data files are available in the \"../input/\" directory.\n# For example, running this (by clicking run or pressing Shift+Enter) will list the files in the input directory\n\nfrom subprocess import check_output\nprint(check_output([\"ls\", \"../input\"]).decode(\"utf8\"))\n\n# Any results you write to the current directory are saved as output."
 },
 {
  "cell_type": "markdown",
  "metadata": {},
  "source": "#Deforestation\nIn this notebook I analyze the \"forest area as a percentage of land area\" indicator."
 },
 {
  "cell_type": "code",
  "execution_count": null,
  "metadata": {
   "collapsed": false
  },
  "outputs": [],
  "source": "indicators = pd.read_csv(\"../input/Indicators.csv\")\nindicators.drop(['IndicatorName'], 1, inplace=True)"
 },
 {
  "cell_type": "code",
  "execution_count": null,
  "metadata": {
   "collapsed": false
  },
  "outputs": [],
  "source": "forest = indicators[indicators.IndicatorCode == 'AG.LND.FRST.ZS'].copy()\nforest.drop(['IndicatorCode'], 1, inplace=True)"
 },
 {
  "cell_type": "markdown",
  "metadata": {},
  "source": "I subtract the latest available data from each country from the data 5 years before the latest, so with every country, we can see the forest area change in the last (available) 5 years ."
 },
 {
  "cell_type": "code",
  "execution_count": null,
  "metadata": {
   "collapsed": false
  },
  "outputs": [],
  "source": "latest = forest.groupby(['CountryCode'])['Year'].transform(max) == forest['Year']\nprevious = forest.groupby('CountryCode')['Year'].transform(max)-5 == forest['Year']\ndeforest = forest[previous].loc[:,'Value'].as_matrix() - forest[latest].loc[:,'Value'].as_matrix()"
 },
 {
  "cell_type": "code",
  "execution_count": null,
  "metadata": {
   "collapsed": false
  },
  "outputs": [],
  "source": "deforestation = forest[latest].copy()\ndeforestation.loc[:,'Deforestation'] = deforest\ndeforestation.drop(['Value', 'Year'], 1, inplace=True)"
 },
 {
  "cell_type": "markdown",
  "metadata": {},
  "source": "##Worst contenders\nHere are the 10 countries with the biggest negative change in forest area (the bigger the \"Deforestation\" is, the worse)."
 },
 {
  "cell_type": "code",
  "execution_count": null,
  "metadata": {
   "collapsed": false
  },
  "outputs": [],
  "source": "deforestation.sort_values('Deforestation', ascending=False).head(10)"
 },
 {
  "cell_type": "markdown",
  "metadata": {},
  "source": "##Best contenders\nThe top 10"
 },
 {
  "cell_type": "code",
  "execution_count": null,
  "metadata": {
   "collapsed": false
  },
  "outputs": [],
  "source": "deforestation.sort_values('Deforestation', ascending=True).head(10)"
 },
 {
  "cell_type": "markdown",
  "metadata": {},
  "source": "This means that in Montenegro, almost 6% of the country became woody in the available last 5 years."
 },
 {
  "cell_type": "markdown",
  "metadata": {},
  "source": "__Todo__: Diagrams & World Map"
 }
],"metadata":{"kernelspec":{"display_name":"Python 3","language":"python","name":"python3"}}, "nbformat": 4, "nbformat_minor": 0}