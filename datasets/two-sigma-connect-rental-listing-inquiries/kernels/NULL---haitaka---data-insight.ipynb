{
  "cells": [
    {
      "cell_type": "code",
      "execution_count": null,
      "metadata": {
        "_cell_guid": "84ae2554-6a58-dfe7-9896-3b216687bc24"
      },
      "outputs": [],
      "source": [
        "# This Python 3 environment comes with many helpful analytics libraries installed\n",
        "# It is defined by the kaggle/python docker image: https://github.com/kaggle/docker-python\n",
        "# For example, here's several helpful packages to load in \n",
        "\n",
        "import numpy as np # linear algebra\n",
        "import pandas as pd # data processing, CSV file I/O (e.g. pd.read_csv)\n",
        "pd.options.mode.chained_assignment = None\n",
        "\n",
        "import matplotlib.pyplot as plt\n",
        "% matplotlib inline\n",
        "import seaborn as sns\n",
        "sns.set(style=\"whitegrid\", color_codes=True)\n",
        "sns.set(font_scale=1)\n",
        "\n",
        "import plotly.plotly as py\n",
        "import plotly.graph_objs as go\n",
        "from plotly import tools\n",
        "\n",
        "\n",
        "from plotly.offline import download_plotlyjs, init_notebook_mode, iplot\n",
        "init_notebook_mode(connected=True)"
      ]
    },
    {
      "cell_type": "code",
      "execution_count": null,
      "metadata": {
        "_cell_guid": "f8437a73-f86a-dd76-c2a1-fe6418ef5cbe"
      },
      "outputs": [],
      "source": [
        "train_df = pd.read_json(\"../input/train.json\")\n",
        "test_df = pd.read_json(\"../input/test.json\")\n",
        "print(train_df.shape)\n",
        "print(test_df.shape)\n"
      ]
    },
    {
      "cell_type": "code",
      "execution_count": null,
      "metadata": {
        "_cell_guid": "e2ebe839-76be-7f56-c602-8c4051a66fb7"
      },
      "outputs": [],
      "source": [
        "train_df.head()"
      ]
    },
    {
      "cell_type": "code",
      "execution_count": null,
      "metadata": {
        "_cell_guid": "34d560e9-aba3-fe80-de78-9bde62ad96eb"
      },
      "outputs": [],
      "source": [
        "train_df.info()"
      ]
    },
    {
      "cell_type": "code",
      "execution_count": null,
      "metadata": {
        "_cell_guid": "7fa8f2db-91f1-b0c9-b90e-d0fcc5c7c663"
      },
      "outputs": [],
      "source": [
        "train_df.get_dtype_counts()"
      ]
    },
    {
      "cell_type": "code",
      "execution_count": null,
      "metadata": {
        "_cell_guid": "1e775b8b-83ec-ffc5-a646-c00d3edeba91"
      },
      "outputs": [],
      "source": [
        "train_df.describe()"
      ]
    },
    {
      "cell_type": "code",
      "execution_count": null,
      "metadata": {
        "_cell_guid": "9168d556-6ed9-9cae-6457-6f3a462c0ced"
      },
      "outputs": [],
      "source": [
        "plt.figure(figsize=(8, 10))\n",
        "plt.scatter(range(train_df.shape[0]), train_df[\"price\"].values,color='purple')\n",
        "plt.title(\"Distribution of Price\");"
      ]
    },
    {
      "cell_type": "markdown",
      "metadata": {
        "_cell_guid": "b0e6c7df-3296-d4d7-0361-702fe7ad0db6"
      },
      "source": [
        "There are some outliers in the distribution of the price. Lets remove them."
      ]
    },
    {
      "cell_type": "code",
      "execution_count": null,
      "metadata": {
        "_cell_guid": "bddb3691-52c8-de8c-79e9-a2d65cc4a882"
      },
      "outputs": [],
      "source": [
        "ulimit = np.percentile(train_df.price.values, 99)\n",
        "ulimit\n",
        "train_df['price'].ix[train_df['price']>ulimit] = ulimit\n",
        "\n",
        "\n",
        "plt.figure(figsize=(8, 10))\n",
        "plt.scatter(range(train_df.shape[0]), train_df[\"price\"].values,color='purple')\n",
        "plt.ylabel(\"Price\")\n",
        "plt.title(\"Distribution of Price\");"
      ]
    },
    {
      "cell_type": "code",
      "execution_count": null,
      "metadata": {
        "_cell_guid": "ca9e2942-975a-b8c2-a15b-d8b534e8704b"
      },
      "outputs": [],
      "source": [
        "order = ['low', 'medium', 'high']\n",
        "sns.stripplot(train_df[\"interest_level\"],train_df[\"price\"],jitter=True,order=order)\n",
        "plt.title(\"Price Vs Interest_level\");"
      ]
    },
    {
      "cell_type": "markdown",
      "metadata": {
        "_cell_guid": "4a35549f-e4a5-7ff9-a71e-56d8df538c48"
      },
      "source": [
        "##Bedrooms"
      ]
    },
    {
      "cell_type": "code",
      "execution_count": null,
      "metadata": {
        "_cell_guid": "b6c6b0a7-66bb-cc85-5aeb-a84ef31cba58"
      },
      "outputs": [],
      "source": [
        "cnt_srs = train_df['bedrooms'].value_counts()\n",
        "print(cnt_srs)\n",
        "plt.figure(figsize=(12,4))\n",
        "sns.barplot(cnt_srs.index, cnt_srs.values, alpha=0.8, color=\"green\")\n",
        "plt.ylabel('Number of Occurrences', fontsize=12)\n",
        "plt.xlabel('bedrooms', fontsize=12)\n",
        "plt.show()"
      ]
    },
    {
      "cell_type": "code",
      "execution_count": null,
      "metadata": {
        "_cell_guid": "35add93b-5558-3614-9a5b-fb512bee7338"
      },
      "outputs": [],
      "source": [
        "train_df['bedrooms'].ix[train_df['bedrooms']>4] = 4\n",
        "plt.figure(figsize=(10,4))\n",
        "sns.violinplot(x='interest_level', y='bedrooms', data=train_df, order=order)\n",
        "plt.xlabel('Interest level', fontsize=12)\n",
        "plt.ylabel('bedrooms', fontsize=12)\n",
        "plt.show()"
      ]
    },
    {
      "cell_type": "code",
      "execution_count": null,
      "metadata": {
        "_cell_guid": "b31f8a20-a24f-0385-4174-8748bdcd0442"
      },
      "outputs": [],
      "source": [
        "sns.stripplot(y=\"price\", x=\"bedrooms\",data=train_df,jitter=True)"
      ]
    },
    {
      "cell_type": "markdown",
      "metadata": {
        "_cell_guid": "4c517cbb-4161-783d-fd0a-4a0b22736314"
      },
      "source": [
        "It seems reasonable to assume that houses with more than 4 bedrooms have 4 bedrooms. This assumption can be tested for 3 bedrooms.<br/>\n",
        "More bedrooms ~ Higher price"
      ]
    },
    {
      "cell_type": "markdown",
      "metadata": {
        "_cell_guid": "6170e843-4330-6555-5675-4d7dbde74875"
      },
      "source": [
        "## Bathrooms"
      ]
    },
    {
      "cell_type": "code",
      "execution_count": null,
      "metadata": {
        "_cell_guid": "e970de14-cf79-38c8-eb37-1b40a2150ee9"
      },
      "outputs": [],
      "source": [
        "cnt_srs = train_df['bathrooms'].value_counts()\n",
        "print(cnt_srs)\n",
        "plt.figure(figsize=(12,4))\n",
        "sns.barplot(cnt_srs.index, cnt_srs.values, alpha=0.8, color=\"green\")\n",
        "plt.ylabel('Number of Occurrences', fontsize=12)\n",
        "plt.xlabel('bathrooms', fontsize=12)\n",
        "plt.show()"
      ]
    },
    {
      "cell_type": "code",
      "execution_count": null,
      "metadata": {
        "_cell_guid": "e2a06e07-7b94-dbd3-e16c-a8d6338b34de"
      },
      "outputs": [],
      "source": [
        "train_df['bathrooms'].ix[train_df['bathrooms']>3] = 3\n",
        "plt.figure(figsize=(10,4))\n",
        "sns.violinplot(x='interest_level', y='bathrooms', data=train_df, order=order)\n",
        "plt.xlabel('Interest level', fontsize=12)\n",
        "plt.ylabel('bathrooms', fontsize=12)\n",
        "plt.show()"
      ]
    },
    {
      "cell_type": "code",
      "execution_count": null,
      "metadata": {
        "_cell_guid": "81fbda53-f4de-7337-47b9-042295bf6162"
      },
      "outputs": [],
      "source": [
        "sns.stripplot(y=\"price\", x=\"bathrooms\",data=train_df,jitter=True)"
      ]
    },
    {
      "cell_type": "markdown",
      "metadata": {
        "_cell_guid": "ba973611-4b59-eafc-ad93-972c9167754e"
      },
      "source": [
        "It seems reasonable to assume that houses with more than 3 bathrooms have 3 bathrooms.<br/>\n",
        "More bathrooms ~ Higher price"
      ]
    }
  ],
  "metadata": {
    "_change_revision": 0,
    "_is_fork": false,
    "kernelspec": {
      "display_name": "Python 3",
      "language": "python",
      "name": "python3"
    },
    "language_info": {
      "codemirror_mode": {
        "name": "ipython",
        "version": 3
      },
      "file_extension": ".py",
      "mimetype": "text/x-python",
      "name": "python",
      "nbconvert_exporter": "python",
      "pygments_lexer": "ipython3",
      "version": "3.6.0"
    }
  },
  "nbformat": 4,
  "nbformat_minor": 0
}