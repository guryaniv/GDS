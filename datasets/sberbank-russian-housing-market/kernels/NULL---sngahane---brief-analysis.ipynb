{
  "cells": [
    {
      "cell_type": "code",
      "execution_count": null,
      "metadata": {
        "_cell_guid": "50d06b23-207e-66b2-85ef-86afe0d7cdd9"
      },
      "outputs": [],
      "source": [
        "# This Python 3 environment comes with many helpful analytics libraries installed\n",
        "# It is defined by the kaggle/python docker image: https://github.com/kaggle/docker-python\n",
        "# For example, here's several helpful packages to load in \n",
        "\n",
        "import numpy as np # linear algebra\n",
        "import pandas as pd # data processing, CSV file I/O (e.g. pd.read_csv)\n",
        "import seaborn as sns\n",
        "from sklearn.linear_model import LinearRegression\n",
        "\n",
        "# Input data files are available in the \"../input/\" directory.\n",
        "# For example, running this (by clicking run or pressing Shift+Enter) will list the files in the input directory\n",
        "\n",
        "from subprocess import check_output\n",
        "print(check_output([\"ls\", \"../input\"]).decode(\"utf8\"))\n",
        "\n",
        "# Any results you write to the current directory are saved as output."
      ]
    },
    {
      "cell_type": "code",
      "execution_count": null,
      "metadata": {
        "_cell_guid": "19ffac17-0612-7911-a716-5abb91ef5109"
      },
      "outputs": [],
      "source": [
        "# Load training set\n",
        "df = pd.read_csv(\"../input/train.csv\")"
      ]
    },
    {
      "cell_type": "code",
      "execution_count": null,
      "metadata": {
        "_cell_guid": "319feaf1-daa5-81c6-9716-f91f16c1e45a"
      },
      "outputs": [],
      "source": [
        "# Remove outliers\n",
        "q = df[\"full_sq\"].quantile(0.99)\n",
        "df = df[df[\"full_sq\"] < q]"
      ]
    },
    {
      "cell_type": "code",
      "execution_count": null,
      "metadata": {
        "_cell_guid": "fad18b46-b5b6-2959-db21-16db017d30ae"
      },
      "outputs": [],
      "source": [
        "split_mask = np.random.rand(len(df)) < 0.8\n",
        "train_df = df[split_mask]\n",
        "test_df = df[~split_mask]"
      ]
    },
    {
      "cell_type": "code",
      "execution_count": null,
      "metadata": {
        "_cell_guid": "2f81af4b-e666-15ef-0289-bc9592b69376"
      },
      "outputs": [],
      "source": [
        "sns.jointplot(x=\"full_sq\", y=\"price_doc\", data=train_df)"
      ]
    },
    {
      "cell_type": "code",
      "execution_count": null,
      "metadata": {
        "_cell_guid": "698146b9-d840-2bb3-d072-8109c143a0e9"
      },
      "outputs": [],
      "source": [
        "X_train = train_df[\"full_sq\"].values.reshape(-1, 1)\n",
        "Y_train = train_df[\"price_doc\"].values.reshape(-1, 1)"
      ]
    },
    {
      "cell_type": "code",
      "execution_count": null,
      "metadata": {
        "_cell_guid": "e23210bf-bfac-138f-35d2-7dd8ae74e886"
      },
      "outputs": [],
      "source": [
        "# Create linear regression object\n",
        "regr = LinearRegression()\n",
        "\n",
        "# Train the model using the training sets\n",
        "regr.fit(X_train, Y_train)"
      ]
    },
    {
      "cell_type": "code",
      "execution_count": null,
      "metadata": {
        "_cell_guid": "8151c030-47eb-3d07-c424-106901a581a5"
      },
      "outputs": [],
      "source": [
        "X_test = test_df[\"full_sq\"].values.reshape(-1, 1)\n",
        "Y_test = test_df[\"price_doc\"].values.reshape(-1, 1)"
      ]
    },
    {
      "cell_type": "code",
      "execution_count": null,
      "metadata": {
        "_cell_guid": "e36c756c-b0f9-3ea6-f9e1-1664dad15217"
      },
      "outputs": [],
      "source": [
        "# The coefficients\n",
        "print('Coefficients: \\n', regr.coef_)\n",
        "# The mean squared error\n",
        "print(\"Mean squared error: %.2f\"\n",
        "      % np.mean((regr.predict(X_test) - Y_test) ** 2))\n",
        "# Explained variance score: 1 is perfect prediction\n",
        "print('Variance score: %.2f' % regr.score(X_test, Y_test))"
      ]
    },
    {
      "cell_type": "code",
      "execution_count": null,
      "metadata": {
        "_cell_guid": "e87a17be-ac26-41c0-14ac-aa338e5cbc9e"
      },
      "outputs": [],
      "source": ""
    }
  ],
  "metadata": {
    "_change_revision": 0,
    "_is_fork": false,
    "kernelspec": {
      "display_name": "Python 3",
      "language": "python",
      "name": "python3"
    },
    "language_info": {
      "codemirror_mode": {
        "name": "ipython",
        "version": 3
      },
      "file_extension": ".py",
      "mimetype": "text/x-python",
      "name": "python",
      "nbconvert_exporter": "python",
      "pygments_lexer": "ipython3",
      "version": "3.6.0"
    }
  },
  "nbformat": 4,
  "nbformat_minor": 0
}