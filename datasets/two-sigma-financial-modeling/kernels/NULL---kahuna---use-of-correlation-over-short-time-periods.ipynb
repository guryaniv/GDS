{
  "cells": [
    {
      "cell_type": "markdown",
      "metadata": {
        "_cell_guid": "4e370df8-1cf5-b069-2469-a6c9f1ff2987"
      },
      "source": [
        "... well, after the deadline, not being a spoilsport: I am not so sure how real and how much adapted the dataset was. I guess it was quite diligently prepared (superficially looking at it a mean of about zero cross asset, as well as across time, virtually no (partial) autocorrelation in y, volatility stemming from or scaled to mimick an actual time period...\n",
        "\n",
        "... and somehow correlation. No stable correlation (correlations break down over time :-) and always surprisingly low. However, did anyone analyze in detail or even use it?\n",
        "\n",
        "Below is some simple correlation matrix for two short slices ... again with noise, but seemingly with some slower fading \"fix\" points. Hmm.\n",
        "\n",
        "Comments?"
      ]
    },
    {
      "cell_type": "code",
      "execution_count": null,
      "metadata": {
        "_cell_guid": "8c2e4cf0-6c90-c6be-f193-925d37daf4ce"
      },
      "outputs": [],
      "source": [
        "\"\"\"\n",
        "libraries and data import\n",
        "\"\"\"\n",
        "import numpy as np\n",
        "import pandas as pd\n",
        "from scipy import stats\n",
        "import matplotlib.pyplot as plt\n",
        "import seaborn as sns\n",
        "\n",
        "%matplotlib inline\n",
        "\n",
        "\"\"\"\n",
        "enums\n",
        "\"\"\" \n",
        "ID = \"id\"\n",
        "TIMESTAMP = \"timestamp\"\n",
        "Y = 'y'"
      ]
    },
    {
      "cell_type": "code",
      "execution_count": null,
      "metadata": {
        "_cell_guid": "fd6d6435-c05b-9a48-77b8-c3569f14af4f"
      },
      "outputs": [],
      "source": [
        "# read data\n",
        "with pd.HDFStore('../input/train.h5') as train:\n",
        "    df = train.get('train')\n",
        "df.set_index([\"timestamp\", \"id\"]);"
      ]
    },
    {
      "cell_type": "code",
      "execution_count": null,
      "metadata": {
        "_cell_guid": "60b287e4-0a3b-7434-360f-877ec19181f8"
      },
      "outputs": [],
      "source": [
        "# get only data for 200 longest living IDs, cut two slices ydfa and ydfb from somewhere within\n",
        "# code shamelessly adapted from a notebook I do not remember (sorry!)\n",
        "temp = df.groupby('id').apply(len)\n",
        "temp = temp.sort_values()\n",
        "temp = temp.reset_index()\n",
        "temp2 = df[df['id'].isin(temp['id'].tail(200).values)]\n",
        "temp2a = temp2[(temp2['timestamp'] <= 800 ) & ( temp2['timestamp'] >  600) ]\n",
        "temp2b = temp2[(temp2['timestamp'] > 800  ) & ( temp2['timestamp'] < 1000) ]\n",
        "\n",
        "ydfa = temp2a.pivot(index='timestamp', columns='id', values='y')\n",
        "ydfb = temp2b.pivot(index='timestamp', columns='id', values='y')"
      ]
    },
    {
      "cell_type": "code",
      "execution_count": null,
      "metadata": {
        "_cell_guid": "aa146c72-bc9b-c1d0-ef90-07b97d1ac51a"
      },
      "outputs": [],
      "source": [
        "# correlation matrix for each slice\n",
        "corrmata = ydfa.corr()\n",
        "corrmatb = ydfb.corr()\n",
        "\n",
        "# plot 0\n",
        "f, ax = plt.subplots(figsize=(12, 9))\n",
        "sns.heatmap(corrmata, vmax=.8, square=True)\n",
        "f.tight_layout()\n",
        "\n",
        "# plot 1\n",
        "f, ax = plt.subplots(figsize=(12, 9))\n",
        "sns.heatmap(corrmatb, vmax=.8, square=True)\n",
        "f.tight_layout()"
      ]
    }
  ],
  "metadata": {
    "_change_revision": 0,
    "_is_fork": false,
    "kernelspec": {
      "display_name": "Python 3",
      "language": "python",
      "name": "python3"
    },
    "language_info": {
      "codemirror_mode": {
        "name": "ipython",
        "version": 3
      },
      "file_extension": ".py",
      "mimetype": "text/x-python",
      "name": "python",
      "nbconvert_exporter": "python",
      "pygments_lexer": "ipython3",
      "version": "3.6.0"
    }
  },
  "nbformat": 4,
  "nbformat_minor": 0
}