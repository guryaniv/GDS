{
  "cells": [
    {
      "cell_type": "markdown",
      "metadata": {
        "_cell_guid": "cd134599-48f0-205a-a86e-dac08d3c0a25"
      },
      "source": [
        "# Reality price prediction\n",
        "\n",
        "Here, we are given a house pricing dataset. In this notebook we will have a look at some basic explorations, also with plotly.\n",
        "\n",
        "The dataset includes a lot of features, many of them specifying distances to keypoints like the next\n",
        "\n",
        "* park\n",
        "* preschool\n",
        "* metro station\n",
        "* church\n",
        "* ...\n",
        "\n",
        "We will use different kind of visualization techniques to get a first grasp of the data.\n",
        "\n",
        "**If you like this notebook, please upvote it, thanks :)**"
      ]
    },
    {
      "cell_type": "code",
      "execution_count": null,
      "metadata": {
        "_cell_guid": "10a7bb5e-80d7-e3d5-00a7-4969202d6e65"
      },
      "outputs": [],
      "source": [
        "import numpy as np\n",
        "import pandas as pd\n",
        "import seaborn as sns\n",
        "import matplotlib.pyplot as plt\n",
        "from subprocess import check_output\n",
        "\n",
        "%matplotlib inline\n",
        "import plotly.offline as py\n",
        "py.init_notebook_mode(connected=True)\n",
        "import plotly.graph_objs as go\n",
        "import plotly.tools as tls\n",
        "\n",
        "print(check_output([\"ls\", \"../input\"]).decode(\"utf8\"))\n",
        "\n",
        "macro = pd.read_csv('../input/macro.csv')\n",
        "df = pd.read_csv(\"../input/train.csv\")\n",
        "df.head() "
      ]
    },
    {
      "cell_type": "code",
      "execution_count": null,
      "metadata": {
        "_cell_guid": "9d494443-1bee-bb46-1b77-97d14bb1f654"
      },
      "outputs": [],
      "source": [
        "print(list(df.columns))"
      ]
    },
    {
      "cell_type": "code",
      "execution_count": null,
      "metadata": {
        "_cell_guid": "ef0cd8ec-6efb-c143-759c-e6a403aa87c1"
      },
      "outputs": [],
      "source": [
        "macro.head()"
      ]
    },
    {
      "cell_type": "code",
      "execution_count": null,
      "metadata": {
        "_cell_guid": "8ffe1d54-0aaa-a684-ec71-a808a8295765"
      },
      "outputs": [],
      "source": [
        "df.info()"
      ]
    },
    {
      "cell_type": "markdown",
      "metadata": {
        "_cell_guid": "3277e189-68b5-2720-8c09-43a8105ac021"
      },
      "source": [
        "# Distribution of target\n",
        "\n",
        "Looking the price histogram, we can see a very long tail to the right, as there are only a few but very high priced objects."
      ]
    },
    {
      "cell_type": "code",
      "execution_count": null,
      "metadata": {
        "_cell_guid": "1b42f325-ca60-78a6-5e1a-fbddef380cb0"
      },
      "outputs": [],
      "source": [
        "plt.figure(figsize=(12,8))\n",
        "sns.distplot(df['price_doc'])"
      ]
    },
    {
      "cell_type": "markdown",
      "metadata": {
        "_cell_guid": "d17a0fce-d0b9-3f4e-7564-7cd3dd8ad8f8"
      },
      "source": [
        "# Boxplot explorations\n",
        "\n",
        "Here, we'll look at boxplot for different factors found in the data, let's see whether there is something interesting to find."
      ]
    },
    {
      "cell_type": "code",
      "execution_count": null,
      "metadata": {
        "_cell_guid": "7a814851-0779-cda2-3b33-953649b43089"
      },
      "outputs": [],
      "source": [
        "boxes = []\n",
        "for cafe_count in df['cafe_count_500'].unique():\n",
        "    y = df[df['cafe_count_500'] == cafe_count]['price_doc'].values\n",
        "    b = go.Box(\n",
        "        x=y,\n",
        "        name = 'Cafe count {}'.format(cafe_count),\n",
        "    )\n",
        "    boxes.append(b)\n",
        "\n",
        "py.iplot(boxes)"
      ]
    },
    {
      "cell_type": "code",
      "execution_count": null,
      "metadata": {
        "_cell_guid": "18cb205c-a120-ec11-5d97-ca67c5c1ed74"
      },
      "outputs": [],
      "source": [
        "boxes = []\n",
        "for floor in df['floor'].unique():\n",
        "    y = df[df['floor'] == floor]['price_doc'].values\n",
        "    b = go.Box(\n",
        "        x=y,\n",
        "        name = 'Floor {}'.format(floor),\n",
        "    )\n",
        "    boxes.append(b)\n",
        "\n",
        "py.iplot(boxes)"
      ]
    },
    {
      "cell_type": "markdown",
      "metadata": {
        "_cell_guid": "44506442-5a88-8780-ecea-81761db34650"
      },
      "source": [
        "Well, thats surprising, there are apartments with no rooms. :)"
      ]
    },
    {
      "cell_type": "code",
      "execution_count": null,
      "metadata": {
        "_cell_guid": "04d9b22b-6d84-2541-91d1-5691d29d910d"
      },
      "outputs": [],
      "source": [
        "boxes = []\n",
        "for num_room in df['num_room'].unique():\n",
        "    y = df[df['num_room'] == num_room]['price_doc'].values\n",
        "    b = go.Box(\n",
        "        x=y,\n",
        "        name = '#Rooms {}'.format(num_room),\n",
        "    )\n",
        "    boxes.append(b)\n",
        "\n",
        "py.iplot(boxes)"
      ]
    },
    {
      "cell_type": "code",
      "execution_count": null,
      "metadata": {
        "_cell_guid": "cbbaf9f4-cf2c-4e10-3723-b93f1923cb0c"
      },
      "outputs": [],
      "source": [
        "#boxes = []\n",
        "#for build_year in df['build_year'].unique():\n",
        "#    y = df[df['build_year'] == build_year]['price_doc'].values\n",
        "#    b = go.Box(\n",
        "#        x=y,\n",
        "#        name = 'Buildyear {}'.format(build_year),\n",
        "#    )\n",
        "#    boxes.append(b)\n",
        "#py.iplot(boxes)"
      ]
    },
    {
      "cell_type": "code",
      "execution_count": null,
      "metadata": {
        "_cell_guid": "b4dfc9b2-57a3-466c-2fcd-e50b2b132386"
      },
      "outputs": [],
      "source": [
        "# water_km"
      ]
    },
    {
      "cell_type": "markdown",
      "metadata": {
        "_cell_guid": "7cb5f511-8e33-09b4-f3dd-9917c06e0439"
      },
      "source": [
        "# Jointplots\n",
        "\n",
        "Lets now explore some joint plots of a few numeric predictors.\n",
        "\n",
        "According to the data dictionary, _full_sq_ is the total area of the apartment and _life_sq_ is the living area in square meters. What is interesting here, that there seem to be a few objects that have higher area to live in than the full area of the apartment."
      ]
    },
    {
      "cell_type": "code",
      "execution_count": null,
      "metadata": {
        "_cell_guid": "95f9fb31-ddfb-789b-b76e-7b062e08e2b3"
      },
      "outputs": [],
      "source": [
        "df = df[df['full_sq'] < 300]\n",
        "df = df[df['life_sq'] < 300]\n",
        "sns.jointplot(\"full_sq\", \"life_sq\", data=df.sample(10000), kind=\"reg\")"
      ]
    },
    {
      "cell_type": "code",
      "execution_count": null,
      "metadata": {
        "_cell_guid": "5afbaf79-67c8-1f80-b2a1-df4e85b9ce8e"
      },
      "outputs": [],
      "source": [
        "sns.jointplot(\"park_km\", \"preschool_km\", data=df.sample(10000), kind=\"reg\")"
      ]
    },
    {
      "cell_type": "code",
      "execution_count": null,
      "metadata": {
        "_cell_guid": "ea797d74-3551-f0a0-74fb-a2d27032c76e"
      },
      "outputs": [],
      "source": [
        "sns.jointplot(\"park_km\", \"full_sq\", data=df.sample(10000), kind=\"reg\")"
      ]
    },
    {
      "cell_type": "markdown",
      "metadata": {
        "_cell_guid": "16342998-8113-1e93-e6c0-85ea1a3f7e96"
      },
      "source": [
        "# Rolling window estimates\n",
        "\n",
        "Now, let's have a look at different rolling window estimates of the reality prices by ordering in different dimensions. What we can see from the first plot, is that the reality prices are increasing over time. With different rolling windows sizes we are capturing more short term or longer term effects."
      ]
    },
    {
      "cell_type": "code",
      "execution_count": null,
      "metadata": {
        "_cell_guid": "83af34c3-259c-4479-1af1-2a161148febe"
      },
      "outputs": [],
      "source": [
        "df['ts'] = pd.to_datetime(df['timestamp'])\n",
        "df.ts.head()"
      ]
    },
    {
      "cell_type": "code",
      "execution_count": null,
      "metadata": {
        "_cell_guid": "c12ee9fb-4db2-59f4-7d48-776277b625a3"
      },
      "outputs": [],
      "source": [
        "df['rolling_price_300'] = df['price_doc'].rolling(window=300, center=False).mean()\n",
        "df['rolling_price_1200'] = df['price_doc'].rolling(window=1200, center=False).mean()\n",
        "ax = df.sort_values('ts').plot(x='ts', y='rolling_price_300', figsize=(12,8))\n",
        "df.sort_values('ts').plot(x='ts', y='rolling_price_1200', color='r', ax=ax)\n",
        "plt.ylabel('price')"
      ]
    },
    {
      "cell_type": "code",
      "execution_count": null,
      "metadata": {
        "_cell_guid": "69b1a904-03ab-9cc9-bc23-0718bde8b719"
      },
      "outputs": [],
      "source": [
        "df = df.sort_values('water_km')\n",
        "df['rolling_price_300_water'] = df['price_doc'].rolling(window=300, center=False).mean()\n",
        "ax = df.plot(x='water_km', y='rolling_price_300_water', figsize=(12,8))"
      ]
    },
    {
      "cell_type": "markdown",
      "metadata": {
        "_cell_guid": "e1f253c6-0251-1628-69a1-0a8a8e80fe02"
      },
      "source": [
        "Price seems to depend a lot on the distance to the next park & the next big church."
      ]
    },
    {
      "cell_type": "code",
      "execution_count": null,
      "metadata": {
        "_cell_guid": "a67ecedd-3c71-0a58-e833-8af7c176218c"
      },
      "outputs": [],
      "source": [
        "df = df.sort_values('park_km')\n",
        "df['rolling_price_300_park_km'] = df['price_doc'].rolling(window=300, center=False).mean()\n",
        "ax = df.plot(x='park_km', y='rolling_price_300_park_km', figsize=(12,8))"
      ]
    },
    {
      "cell_type": "code",
      "execution_count": null,
      "metadata": {
        "_cell_guid": "a2ea01d1-88d7-63a2-c87f-2fd6e7cbc1ad"
      },
      "outputs": [],
      "source": [
        "df = df.sort_values('big_church_km')\n",
        "df['rolling_price_300_big_church_km'] = df['price_doc'].rolling(window=300, center=False).mean()\n",
        "ax = df.plot(x='big_church_km', y='rolling_price_300_big_church_km', figsize=(12,8))"
      ]
    },
    {
      "cell_type": "code",
      "execution_count": null,
      "metadata": {
        "_cell_guid": "bf4d235e-e95e-79ec-25d4-ce1502b10207"
      },
      "outputs": [],
      "source": [
        "df = df.sort_values('mosque_km')\n",
        "df['rolling_price_300_mosque_km'] = df['price_doc'].rolling(window=300, center=False).mean()\n",
        "ax = df.plot(x='mosque_km', y='rolling_price_300_mosque_km', figsize=(12,8))"
      ]
    },
    {
      "cell_type": "markdown",
      "metadata": {
        "_cell_guid": "7325a348-a1d7-e88e-a33e-f7ca84d4ab3e"
      },
      "source": [
        "This looks like a good feature to filter out low priced apartments. The price for apartments rapidly drops with the distance to the next preschool."
      ]
    },
    {
      "cell_type": "code",
      "execution_count": null,
      "metadata": {
        "_cell_guid": "3ce67984-584d-53fd-2564-2cf08cbc79e0"
      },
      "outputs": [],
      "source": [
        "df = df.sort_values('preschool_km')\n",
        "df['rolling_price_300_preschool_km'] = df['price_doc'].rolling(window=300, center=False).mean()\n",
        "ax = df.plot(x='preschool_km', y='rolling_price_300_preschool_km', figsize=(12,8))"
      ]
    },
    {
      "cell_type": "code",
      "execution_count": null,
      "metadata": {
        "_cell_guid": "9bfefe9f-89e2-cd25-fb9b-72c54bdc0054"
      },
      "outputs": [],
      "source": [
        "df = df.sort_values('full_sq')\n",
        "df['rolling_price_300_full_sq'] = df['price_doc'].rolling(window=300, center=False).mean()\n",
        "ax = df.plot(x='full_sq', y='rolling_price_300_full_sq', figsize=(12,8))"
      ]
    },
    {
      "cell_type": "code",
      "execution_count": null,
      "metadata": {
        "_cell_guid": "1f0f3f83-7649-e33b-457b-7c9a43327750"
      },
      "outputs": [],
      "source": [
        "df = df.sort_values('area_m')\n",
        "df['rolling_price_300_area_m'] = df['price_doc'].rolling(window=300, center=False).mean()\n",
        "ax = df.plot(x='area_m', y='rolling_price_300_area_m', figsize=(12,8))"
      ]
    },
    {
      "cell_type": "markdown",
      "metadata": {
        "_cell_guid": "53d39529-f3a1-06e1-de70-a9470e5807c7"
      },
      "source": [
        "# Adding more dimensions\n",
        "\n",
        "Let's encode more information into our visualizations by taking a few promising features from the previous plots.\n",
        "\n",
        "There are three spatial dimensions, the fourth dimension is the color, which indicates the price of the object."
      ]
    },
    {
      "cell_type": "code",
      "execution_count": null,
      "metadata": {
        "_cell_guid": "15d9c77a-4f96-2d1c-7a58-c3a3d2ab8471"
      },
      "outputs": [],
      "source": [
        "from sklearn.preprocessing import StandardScaler"
      ]
    },
    {
      "cell_type": "code",
      "execution_count": null,
      "metadata": {
        "_cell_guid": "2a705e19-0934-0547-ac0c-ee775369c967"
      },
      "outputs": [],
      "source": [
        "#X = StandardScaler().fit_transform(df.fillna(0.0)[['area_m', 'full_sq', 'num_room']])\n",
        "X = df.fillna(0.0)[['area_m', 'full_sq', 'num_room']].values\n",
        "X.shape"
      ]
    },
    {
      "cell_type": "code",
      "execution_count": null,
      "metadata": {
        "_cell_guid": "33474c08-0cff-c75c-b785-d58677db3ec2"
      },
      "outputs": [],
      "source": [
        "df['log_price'] = np.log10(df['price_doc'].values)"
      ]
    },
    {
      "cell_type": "code",
      "execution_count": null,
      "metadata": {
        "_cell_guid": "e79f3448-0eb6-7df5-7dca-afb9802a704a"
      },
      "outputs": [],
      "source": [
        "trace1 = go.Scatter3d(\n",
        "    x=X[:,0],\n",
        "    y=X[:,1],\n",
        "    z=X[:,2],\n",
        "    mode='markers',\n",
        "    marker=dict(\n",
        "        sizemode='diameter',\n",
        "        color = df['log_price'].values,\n",
        "        colorscale = 'Portland',\n",
        "        colorbar = dict(title = 'price_doc'),\n",
        "        line=dict(color='rgb(255, 255, 255)'),\n",
        "        opacity=0.5\n",
        "    )\n",
        ")\n",
        "\n",
        "data=[trace1]\n",
        "layout=dict(\n",
        "    height=800,\n",
        "    width=800,\n",
        "    scene=go.Scene(\n",
        "        xaxis=go.XAxis(title='area_m'),\n",
        "        yaxis=go.YAxis(title='full_sq'),\n",
        "        zaxis=go.ZAxis(title='num_room')\n",
        "    ),\n",
        "    title='Prices by three dimensions'\n",
        ")\n",
        "fig=dict(data=data, layout=layout)\n",
        "py.iplot(fig, filename='3DBubble')"
      ]
    },
    {
      "cell_type": "code",
      "execution_count": null,
      "metadata": {
        "_cell_guid": "fe9cfa0f-a27f-a54d-0105-5925967338ff"
      },
      "outputs": [],
      "source": [
        "X = df.fillna(0.0)[['preschool_km', 'park_km', 'num_room']].values"
      ]
    },
    {
      "cell_type": "code",
      "execution_count": null,
      "metadata": {
        "_cell_guid": "024b7c6d-ed9b-dbc6-155c-80c319db2112"
      },
      "outputs": [],
      "source": [
        "trace1 = go.Scatter3d(\n",
        "    x=X[:,0],\n",
        "    y=X[:,1],\n",
        "    z=X[:,2],\n",
        "    mode='markers',\n",
        "    marker=dict(\n",
        "        sizemode='diameter',\n",
        "        color = df['log_price'].values,\n",
        "        colorscale = 'Portland',\n",
        "        colorbar = dict(title = 'price_doc'),\n",
        "        line=dict(color='rgb(255, 255, 255)'),\n",
        "        opacity=0.5\n",
        "    )\n",
        ")\n",
        "\n",
        "data=[trace1]\n",
        "layout=dict(\n",
        "    height=800,\n",
        "    width=800,\n",
        "    scene=go.Scene(\n",
        "        xaxis=go.XAxis(title='preschool_km'),\n",
        "        yaxis=go.YAxis(title='park_km'),\n",
        "        zaxis=go.ZAxis(title='num_room')\n",
        "    ),\n",
        "    title='Prices by three dimensions'\n",
        ")\n",
        "fig=dict(data=data, layout=layout)\n",
        "py.iplot(fig, filename='3DBubble')"
      ]
    },
    {
      "cell_type": "code",
      "execution_count": null,
      "metadata": {
        "_cell_guid": "14bd6822-4b35-b8a1-4331-09686af21586"
      },
      "outputs": [],
      "source": [
        "X = df.fillna(0.0)[['industrial_km', 'full_sq', 'num_room']].values"
      ]
    },
    {
      "cell_type": "code",
      "execution_count": null,
      "metadata": {
        "_cell_guid": "fdd6df0b-c648-fe21-70be-29b1e2262779"
      },
      "outputs": [],
      "source": [
        "trace1 = go.Scatter3d(\n",
        "    x=X[:,0],\n",
        "    y=X[:,1],\n",
        "    z=X[:,2],\n",
        "    mode='markers',\n",
        "    marker=dict(\n",
        "        sizemode='diameter',\n",
        "        color = df['log_price'].values,\n",
        "        colorscale = 'Portland',\n",
        "        colorbar = dict(title = 'price_doc'),\n",
        "        line=dict(color='rgb(255, 255, 255)'),\n",
        "        opacity=0.5\n",
        "    )\n",
        ")\n",
        "\n",
        "data=[trace1]\n",
        "layout=dict(\n",
        "    height=800,\n",
        "    width=800,\n",
        "    scene=go.Scene(\n",
        "        xaxis=go.XAxis(title='industrial_km'),\n",
        "        yaxis=go.YAxis(title='full_sq'),\n",
        "        zaxis=go.ZAxis(title='num_room')\n",
        "    ),\n",
        "    title='Prices by three dimensions'\n",
        ")\n",
        "fig=dict(data=data, layout=layout)\n",
        "py.iplot(fig, filename='3DBubble')"
      ]
    },
    {
      "cell_type": "code",
      "execution_count": null,
      "metadata": {
        "_cell_guid": "095f4597-6bd3-8b9e-b1fb-e0c2becc15c6"
      },
      "outputs": [],
      "source": [
        "X = df.fillna(0.0)[['floor', 'full_sq', 'railroad_km']].values"
      ]
    },
    {
      "cell_type": "code",
      "execution_count": null,
      "metadata": {
        "_cell_guid": "417c136b-6fce-511b-eef7-a6ceaa22fab8"
      },
      "outputs": [],
      "source": [
        "trace1 = go.Scatter3d(\n",
        "    x=X[:,0],\n",
        "    y=X[:,1],\n",
        "    z=X[:,2],\n",
        "    mode='markers',\n",
        "    marker=dict(\n",
        "        sizemode='diameter',\n",
        "        color = df['log_price'].values,\n",
        "        colorscale = 'Portland',\n",
        "        colorbar = dict(title = 'price_doc'),\n",
        "        line=dict(color='rgb(255, 255, 255)'),\n",
        "        opacity=0.5\n",
        "    )\n",
        ")\n",
        "\n",
        "data=[trace1]\n",
        "layout=dict(\n",
        "    height=800,\n",
        "    width=800,\n",
        "    scene=go.Scene(\n",
        "        xaxis=go.XAxis(title='floor'),\n",
        "        yaxis=go.YAxis(title='full_sq'),\n",
        "        zaxis=go.ZAxis(title='railroad_km')\n",
        "    ),\n",
        "    title='Prices by three dimensions'\n",
        ")\n",
        "fig=dict(data=data, layout=layout)\n",
        "py.iplot(fig, filename='3DBubble')"
      ]
    },
    {
      "cell_type": "markdown",
      "metadata": {
        "_cell_guid": "91d4404c-9fa4-1519-117d-25d53143c2d9"
      },
      "source": [
        "### more to come soon :)"
      ]
    },
    {
      "cell_type": "code",
      "execution_count": null,
      "metadata": {
        "_cell_guid": "6b8277db-a35d-06c3-ceaa-016314d38aa3"
      },
      "outputs": [],
      "source": [
        ""
      ]
    }
  ],
  "metadata": {
    "_change_revision": 0,
    "_is_fork": false,
    "kernelspec": {
      "display_name": "Python 3",
      "language": "python",
      "name": "python3"
    },
    "language_info": {
      "codemirror_mode": {
        "name": "ipython",
        "version": 3
      },
      "file_extension": ".py",
      "mimetype": "text/x-python",
      "name": "python",
      "nbconvert_exporter": "python",
      "pygments_lexer": "ipython3",
      "version": "3.6.0"
    }
  },
  "nbformat": 4,
  "nbformat_minor": 0
}