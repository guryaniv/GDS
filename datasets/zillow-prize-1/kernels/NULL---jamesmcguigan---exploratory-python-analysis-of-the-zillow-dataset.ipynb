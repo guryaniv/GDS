{
  "cells": [
    {
      "cell_type": "markdown",
      "metadata": {
        "_cell_guid": "ac77b748-3e7f-08bc-9aa8-45785ae8b453"
      },
      "source": [
        "This is an exploratory analysis of the Zillow dataset, taking inspiration from \n",
        "\n",
        "- [https://www.kaggle.com/philippsp/exploratory-analysis-zillow](https://www.kaggle.com/philippsp/exploratory-analysis-zillow)\n",
        "- [https://www.kaggle.com/headsortails/pytanic](https://www.kaggle.com/headsortails/pytanic)"
      ]
    },
    {
      "cell_type": "code",
      "execution_count": null,
      "metadata": {
        "_cell_guid": "ae28fa13-39f7-d042-84dd-23361e53f0e3"
      },
      "outputs": [],
      "source": [
        "#%matplotlib inline\n",
        "\n",
        "import pandas as pd\n",
        "import numpy as np\n",
        "from scipy import stats\n",
        "from io import StringIO\n",
        "import sklearn as sk\n",
        "import itertools\n",
        "import matplotlib.pyplot as plt\n",
        "import matplotlib.gridspec as gridspec\n",
        "import seaborn as sns\n",
        "from io import StringIO\n",
        "from statsmodels.graphics.mosaicplot import mosaic\n",
        "\n",
        "from sklearn.linear_model import LogisticRegression\n",
        "from sklearn.linear_model import Perceptron\n",
        "from sklearn import tree\n",
        "from sklearn.neighbors import KNeighborsClassifier\n",
        "from sklearn.ensemble import RandomForestClassifier\n",
        "from sklearn.ensemble import ExtraTreesClassifier\n",
        "from sklearn.ensemble import BaggingClassifier\n",
        "from sklearn.ensemble import AdaBoostClassifier\n",
        "from sklearn.ensemble import GradientBoostingClassifier\n",
        "from sklearn.ensemble import VotingClassifier\n",
        "from sklearn import svm\n",
        "import xgboost as xgb\n",
        "from mlxtend.classifier import StackingClassifier\n",
        "\n",
        "from sklearn.model_selection import cross_val_score\n",
        "from sklearn.model_selection import KFold\n",
        "from sklearn.metrics import confusion_matrix\n",
        "from sklearn.model_selection import train_test_split\n",
        "from sklearn.model_selection import GridSearchCV\n",
        "\n",
        "sns.set(style='white', context='notebook', palette='deep')"
      ]
    },
    {
      "cell_type": "markdown",
      "metadata": {
        "_cell_guid": "e2391c20-cc9b-da74-a6a0-9a538f11918c"
      },
      "source": [
        "**Load input data.**"
      ]
    },
    {
      "cell_type": "code",
      "execution_count": null,
      "metadata": {
        "_cell_guid": "9800a509-5afb-d6bc-7898-3b66f96c50fe"
      },
      "outputs": [],
      "source": [
        "properties = pd.read_csv('../input/properties_2016.csv')\n",
        "transactions = pd.read_csv('../input/train_2016.csv')\n",
        "sample_submission = pd.read_csv('../input/sample_submission.csv')"
      ]
    },
    {
      "cell_type": "markdown",
      "metadata": {
        "_cell_guid": "09c1268f-a3f4-8690-67d4-c9ffc14ce662"
      },
      "source": [
        "Remap the column names to be more human readable"
      ]
    },
    {
      "cell_type": "code",
      "execution_count": null,
      "metadata": {
        "_cell_guid": "34519da3-f8ef-eb4c-8463-eae23463809b"
      },
      "outputs": [],
      "source": [
        "data_dictionary_string = \"\"\"key|old_key|description\n",
        "aircon|airconditioningtypeid|Type of cooling system present in the home (if any)architectural_style\n",
        "architecturalstyletypeid|architecturalstyletypeid|Architectural style of the home (i.e. ranch, colonial, split-level, etc\u2026)\n",
        "area_base|finishedsquarefeet6|Base unfinished and finished area\n",
        "area_firstfloor_finished|finishedfloor1squarefeet|Size of the finished living area on the first (entry) floor of the home\n",
        "area_garage|garagetotalsqft|Total number of square feet of all garages on lot including an attached garage\n",
        "area_live_finished|finishedsquarefeet12|Finished living area\n",
        "area_liveperi_finished|finishedsquarefeet13|Perimeter living area\n",
        "area_lot|lotsizesquarefeet|Area of the lot in square feet\n",
        "area_patio|yardbuildingsqft17|Patio in yard\n",
        "area_pool|poolsizesum|Total square footage of all pools on property\n",
        "area_shed|yardbuildingsqft26|Storage shed/building in yard\n",
        "area_total_calc|calculatedfinishedsquarefeet|Calculated total finished living area of the home\n",
        "area_total_finished|finishedsquarefeet15|Total area\n",
        "area_unknown|finishedsquarefeet50|Size of the finished living area on the first (entry) floor of the home\n",
        "basementsqft|basementsqft|Finished living area below or partially below ground level\n",
        "build_year|yearbuilt|The Year the principal residence was built\n",
        "deck|decktypeid|Type of deck (if any) present on parcelfinishedfloor1squarefeet\n",
        "flag_fireplace|fireplaceflag|Is a fireplace present in this home\n",
        "flag_tub|hashottuborspa|Does the home have a hot tub or spa\n",
        "framing|buildingclasstypeid|The building framing type (steel frame, wood frame, concrete/brick)\n",
        "heating|heatingorsystemtypeid|Type of home heating system\n",
        "id_fips|fips|Federal Information Processing Standard code - see https://en.wikipedia.org/wiki/FIPS_county_code for more details\n",
        "id_parcel|parcelid|Unique identifier for parcels (lots)\n",
        "id_zoning_raw|rawcensustractandblock|Census tract and block ID combined - also contains blockgroup assignment by extension\n",
        "id_zoning|censustractandblock|Census tract and block ID combined - also contains blockgroup assignment by extension\n",
        "latitude|latitude|Latitude of the middle of the parcel multiplied by 10e6\n",
        "longitude|longitude|Longitude of the middle of the parcel multiplied by 10e6\n",
        "material|typeconstructiontypeid|What type of construction material was used to construct the home\n",
        "num_75_bath|threequarterbathnbr|Number of 3/4 bathrooms in house (shower + sink + toilet)\n",
        "num_bathroom_calc|calculatedbathnbr|Number of bathrooms in home including fractional bathroom\n",
        "num_bathroom|bathroomcnt|Number of bathrooms in home including fractional bathrooms\n",
        "num_bath|fullbathcnt|Number of full bathrooms (sink, shower + bathtub, and toilet) present in home\n",
        "num_bedroom|bedroomcnt|Number of bedrooms in home\n",
        "num_fireplace|fireplacecnt|Number of fireplaces in a home (if any)\n",
        "num_garage|garagecarcnt|Total number of garages on the lot including an attached garage\n",
        "num_pool|poolcnt|Number of pools on the lot (if any)\n",
        "num_room|roomcnt|Total number of rooms in the principal residence\n",
        "num_story|numberofstories|Number of stories or levels the home has\n",
        "num_unit|unitcnt|Number of units the structure is built into (i.e. 2 = duplex, 3 = triplex, etc...)\n",
        "pooltypeid10|pooltypeid10|Spa or Hot Tub\n",
        "pooltypeid2|pooltypeid2|Pool with Spa/Hot Tub\n",
        "pooltypeid7|pooltypeid7|Pool without hot tub\n",
        "quality|buildingqualitytypeid|Overall assessment of condition of the building from best (lowest) to worst (highest)\n",
        "region_city|regionidcity|City in which the property is located (if any)\n",
        "region_county|regionidcounty|County in which the property is located\n",
        "region_neighbor|regionidneighborhood|Neighborhood in which the property is located\n",
        "region_zip|regionidzip|Zip code in which the property is located\n",
        "story|storytypeid|Type of floors in a multi-story house (i.e. basement and main level, split-level, attic, etc.). See tab for details.\n",
        "tax_building|structuretaxvaluedollarcnt|The assessed value of the built structure on the parcel\n",
        "tax_delinquency_year|taxdelinquencyyear|Year for which the unpaid propert taxes were due\n",
        "tax_delinquency|taxdelinquencyflag|Property taxes for this parcel are past due as of 2015\n",
        "tax_land|landtaxvaluedollarcnt|The assessed value of the land area of the parcel\n",
        "tax_property|taxamount|The total property tax assessed for that assessment year\n",
        "tax_total|taxvaluedollarcnt|The total tax assessed value of the parcel\n",
        "tax_year|assessmentyear|The year of the property tax assessmentbasementsqft\n",
        "zoning_landuse_county|propertycountylandusecode|County land use code i.e. it's zoning at the county level\n",
        "zoning_landuse|propertylandusetypeid|Type of land use the property is zoned for\n",
        "zoning_property|propertyzoningdesc|Description of the allowed land uses (zoning) for that property\n",
        "\"\"\"\n",
        "\n",
        "data_dictionary_df = pd.read_csv(StringIO(data_dictionary_string), sep=\"|\")\n",
        "data_dictionary_df.sort_values(by=\"key\", inplace=True)\n",
        "#data_dictionary_df.index = data_dictionary_df[\"key\"]\n",
        "data_dictionary_df"
      ]
    },
    {
      "cell_type": "code",
      "execution_count": null,
      "metadata": {
        "_cell_guid": "ea003473-6958-31d5-38c1-4d429a1b9068"
      },
      "outputs": [],
      "source": [
        "# Create quick lookup \n",
        "data_dictionary = data_dictionary_df[\"description\"]\n",
        "data_dictionary.index = data_dictionary_df[\"key\"]\n",
        "data_dictionary[\"id_parcel\"]"
      ]
    },
    {
      "cell_type": "code",
      "execution_count": null,
      "metadata": {
        "_cell_guid": "1f9f3a1d-523e-5f06-7eda-1bf81cb4d00d"
      },
      "outputs": [],
      "source": [
        "# Remap properties with new keys from data_dictionary\n",
        "data_dictionary_rename = data_dictionary_df[\"key\"]\n",
        "data_dictionary_rename.index  = data_dictionary_df[\"old_key\"]\n",
        "data_dictionary_rename.to_dict()\n",
        "\n",
        "# Apply rename to properties\n",
        "properties.rename(columns=data_dictionary_rename, inplace=True)\n",
        "properties.index = properties['id_parcel']\n",
        "properties.head()"
      ]
    },
    {
      "cell_type": "code",
      "execution_count": null,
      "metadata": {
        "_cell_guid": "0fbe26a4-acf6-52dd-bcb6-4d197626fe18"
      },
      "outputs": [],
      "source": [
        "transactions = transactions.rename(columns={\n",
        "    \"parcelid\": \"id_parcel\",  \n",
        "    \"transactiondate\": \"date\" \n",
        "})\n",
        "transactions.sort_values(by=\"id_parcel\", inplace=True)\n",
        "transactions.index = transactions['id_parcel']\n",
        "transactions.head()"
      ]
    },
    {
      "cell_type": "markdown",
      "metadata": {
        "_cell_guid": "11da0512-5a44-4ba6-b61f-58139f1f8d79"
      },
      "source": [
        "We can now combined the two datasets to add in transaction data (logerror + date) to properties"
      ]
    },
    {
      "cell_type": "code",
      "execution_count": null,
      "metadata": {
        "_cell_guid": "a4762206-3c47-73d9-b211-c0f6cfcb6367"
      },
      "outputs": [],
      "source": [
        "properties = properties.join(transactions, on=\"id_parcel\", rsuffix=\"_transaction\", how=\"inner\", sort=True)\n",
        "properties.head()"
      ]
    },
    {
      "cell_type": "code",
      "execution_count": null,
      "metadata": {
        "_cell_guid": "c09a7f51-fae6-16b8-1cb1-a02d4259f2fa"
      },
      "outputs": [],
      "source": [
        "#transactions_combined = transactions.join(properties, on=\"id_parcel\", rsuffix=\"_property\", how=\"outer\", sort=True)\n",
        "#transactions_combined.head()"
      ]
    },
    {
      "cell_type": "markdown",
      "metadata": {
        "_cell_guid": "b5c26c24-2410-cf35-975b-b4083997f07a"
      },
      "source": [
        "Properties that have been sold more than once will have multiple transaction entries."
      ]
    },
    {
      "cell_type": "code",
      "execution_count": null,
      "metadata": {
        "_cell_guid": "0fcaa7a8-71fd-36f5-743f-91d4664a69b6"
      },
      "outputs": [],
      "source": [
        "transaction_counts = pd.DataFrame({\n",
        "    'count' : transactions.groupby(\"id_parcel\").size()\n",
        "}).reset_index()\n",
        "\n",
        "transaction_duplicate_counts = {\n",
        "    1: { \n",
        "        \"total\":   transaction_counts[transaction_counts['count'].eq(1)].size, \n",
        "        \"percent\": transaction_counts[transaction_counts['count'].eq(1)].size / transaction_counts.size * 100\n",
        "    },    \n",
        "    2: { \n",
        "        \"total\":   transaction_counts[transaction_counts['count'].eq(2)].size, \n",
        "        \"percent\": transaction_counts[transaction_counts['count'].eq(2)].size / transaction_counts.size * 100\n",
        "    }, \n",
        "    3: { \n",
        "        \"total\":   transaction_counts[transaction_counts['count'].eq(3)].size, \n",
        "        \"percent\": transaction_counts[transaction_counts['count'].eq(3)].size / transaction_counts.size * 100\n",
        "    }, \n",
        "    4: { \n",
        "        \"total\":   transaction_counts[transaction_counts['count'].gt(3)].size, \n",
        "        \"percent\": transaction_counts[transaction_counts['count'].gt(3)].size / transaction_counts.size * 100\n",
        "    }    \n",
        "}\n",
        "transaction_duplicate_counts"
      ]
    },
    {
      "cell_type": "markdown",
      "metadata": {
        "_cell_guid": "6f85fa71-f45b-5820-a10a-57a15a3d9ca1"
      },
      "source": [
        "- 181108 (99.85%) where sold only once, making up the vast majority of the data\n",
        "- 254 (0.14%) where sold twice, \n",
        "- 2 (0.001%) where sold 3 times.\n",
        "\n",
        "The next question is to determine if any properties where never sold in the transactions dataset "
      ]
    },
    {
      "cell_type": "code",
      "execution_count": null,
      "metadata": {
        "_cell_guid": "58b13a0b-0ca0-8c35-f6d5-ebc9513f38e5"
      },
      "outputs": [],
      "source": [
        "#properties_with_transactions    = properties_combined[properties_combined['id_parcel_transaction'].notnull()];\n",
        "#properties_without_transactions = properties_combined[properties_combined['id_parcel_transaction'].isnull()];\n",
        "#{\n",
        "#    \"transactions\": { \"total\": transactions.size, \"percent\": transactions.size / properties.size * 100 },\n",
        "#    \"properties\":   { \"total\": properties.size, \"percent\":   properties.size / properties.size * 100 },\n",
        "#    \"properties_with_transactions\":    { \"total\": properties_with_transactions.size,    \"percent\": properties_with_transactions.size / properties.size * 100 },\n",
        "#    \"properties_without_transactions\": { \"total\": properties_without_transactions.size, \"percent\": properties_without_transactions.size / properties.size * 100 },\n",
        "#}"
      ]
    },
    {
      "cell_type": "markdown",
      "metadata": {
        "_cell_guid": "25b722f5-1167-3f32-1247-da15c9153f9c"
      },
      "source": [
        "As we can see, properties_with_transactions makes up only 3% of the original data, and this is the only data useful to us"
      ]
    },
    {
      "cell_type": "code",
      "execution_count": null,
      "metadata": {
        "_cell_guid": "d0edb89e-2df2-9a17-faf3-e73f49e9f0ba"
      },
      "outputs": [],
      "source": [
        "properties.head()"
      ]
    },
    {
      "cell_type": "markdown",
      "metadata": {
        "_cell_guid": "2fb3621a-c27e-33be-f966-f69bd613b2ba"
      },
      "source": [
        "Lets do an initial top level correlation matrix analysis.\n",
        "\n",
        "By calculating the mean of each column, we find the attributes with the most cross-correlation. \n"
      ]
    },
    {
      "cell_type": "code",
      "execution_count": null,
      "metadata": {
        "_cell_guid": "765cdebb-0d92-d674-7d83-2475d776e9d5"
      },
      "outputs": [],
      "source": [
        "properties.drop(['id_parcel'],axis=1).corr().mean(axis=0).sort_values(ascending=False)"
      ]
    },
    {
      "cell_type": "markdown",
      "metadata": {
        "_cell_guid": "9e646ff9-b10a-c875-3b79-04f850691e3f"
      },
      "source": [
        "The top cross-correlated entries are: \n",
        "\n",
        "- 0.338765 - area_total_calc \n",
        "- 0.270347 - tax_building\n",
        "- 0.266564 - num_bath\n",
        "- 0.245959 - num_fireplace\n",
        "- 0.220768 - num_garage\n",
        "- 0.204202 - num_bedroom                 \n",
        "\n",
        "The larger and higher quality the house is, the more of everything else tends to be, including tax. \n",
        "\n",
        "Baths, fireplaces and even garages are better proxies for size and quality than bedrooms. This is the metric vs measurement effect, with number of bedrooms usually being the most visible statistic in an estate agents, thus the one with the greatest psychological effect of market price. Thus house builders or even owners have an incentive to create multiple smaller bedrooms to make a small house look bigger. People would rarely go to the same effort with baths or fireplaces thus are a better proxy for quality.\n",
        "\n",
        "The most anti-correlated attribute is region_county"
      ]
    },
    {
      "cell_type": "code",
      "execution_count": null,
      "metadata": {
        "_cell_guid": "60d8952f-e196-c072-3639-9f609c734e2b"
      },
      "outputs": [],
      "source": [
        "plt.figure(figsize=(14,12))\n",
        "sns.heatmap(properties.corr(), vmax=0.6, square=True, annot=False)"
      ]
    },
    {
      "cell_type": "markdown",
      "metadata": {
        "_cell_guid": "3433ad7f-7167-d16d-d9cb-73d35c192f40"
      },
      "source": [
        "Several of these columns have "
      ]
    },
    {
      "cell_type": "code",
      "execution_count": null,
      "metadata": {
        "_cell_guid": "ea180668-1092-42c2-427f-3eb53d5c3b6b"
      },
      "outputs": [],
      "source": [
        "cross_corellation_matrix = properties.corr().mean().sort_values(ascending=False)\n",
        "cross_corellation_matrix"
      ]
    },
    {
      "cell_type": "markdown",
      "metadata": {
        "_cell_guid": "571fa543-2227-6301-e5a6-0ae637424c60"
      },
      "source": [
        "The top cross-correlated attributes could be considered a proxy for underlying utility value, as opposed to market price.\n",
        "\n",
        "- **area_total_calc** is the most cross-correlated item. The larger the overall property, the more room there is for everything else, including tax.\n",
        "\n",
        "- **tax_building** is far more cross-correlated with utility value than **tax_land** which is maybe more correlated with market price\n",
        "\n",
        "- **id_parcel** is a random field, which would suggest a correlation strength of below **0.13** can assumed to be indistinguishable from noise. This is matched the strongest anti-correlation field **region_county** with a correlation strength of -0.12\n",
        "\n",
        "- **num_bath (0.259448)** vs **num_bathroom (0.250364)** suggests a difference between metrics and measurements. A bathroom by definition contains a bath (representing utility value), whereas an estate agent trying to optimise for market price would quote the **num_bathroom** statistic, which even though it is slightly less cross-correlated with utility value.  Properties with more bathrooms than baths may be prone to an error in valuation.\n",
        "\n",
        "- **num_room (0.177573)**  vs **num_bathroom (0.250364)** may be another indicator of sales marketing, we suspect that in an house optimised for utility value, that bathrooms would scale proportionally with total rooms and the rest of the cross-correlation matrix. If there might higher ratio of rooms without bathrooms, it suggests the house is optimized for market price.\n",
        "\n",
        "- A possible avenue to explore, is that error in estimate vs sales price may be correlated to the difference in correlation between the most cross-correlated attributes (> +0.24) vs the lesser cross-correlated attributes (0.15-0.20).\n",
        "\n",
        "- Several attributes produced a NaN result for the mean correlation matrix, suggesting they lack sufficient non-null data to be used for measuring correlations, thus could be safely removed from the properties dataset: **framing, deck, num_pool, pooltypeid10, pooltypeid2, pooltypeid7, story, tax_year**     \n",
        "\n",
        "- **logerror (0.037710)** is almost a perfectly uncorrelated with all the other attributes provided, which may explain why Zillow have attached a million dollar prize for being to correctly guess it"
      ]
    },
    {
      "cell_type": "code",
      "execution_count": null,
      "metadata": {
        "_cell_guid": "cee903fb-92ca-72c7-9ae2-4b4726a65e82"
      },
      "outputs": [],
      "source": [
        "attributes_id      = cross_corellation_matrix[['id_parcel','id_zoning','id_zoning_raw', 'id_parcel_transaction']].keys()\n",
        "attributes_utility = cross_corellation_matrix[cross_corellation_matrix.gt(0.22)].keys()\n",
        "attributes_price   = cross_corellation_matrix[cross_corellation_matrix.lt(0.22) & cross_corellation_matrix.gt(0.15)].keys()\n",
        "attributes_random  = cross_corellation_matrix[cross_corellation_matrix.lt(0.15)].drop(attributes_id).keys()\n",
        "attributes_null    = cross_corellation_matrix[cross_corellation_matrix.isnull()].keys()"
      ]
    },
    {
      "cell_type": "code",
      "execution_count": null,
      "metadata": {
        "_cell_guid": "df5b1f0e-cc3a-3990-fffd-cf1440977898"
      },
      "outputs": [],
      "source": [
        "attributes_id"
      ]
    },
    {
      "cell_type": "code",
      "execution_count": null,
      "metadata": {
        "_cell_guid": "a13f32b9-3c49-9a26-48d8-5cb83e9ed635"
      },
      "outputs": [],
      "source": [
        "attributes_utility"
      ]
    },
    {
      "cell_type": "code",
      "execution_count": null,
      "metadata": {
        "_cell_guid": "796f6c5b-5c8f-02c7-1105-7ad3ccdc72fc"
      },
      "outputs": [],
      "source": [
        "attributes_price"
      ]
    },
    {
      "cell_type": "code",
      "execution_count": null,
      "metadata": {
        "_cell_guid": "53cbb4bc-ab60-5378-b947-140fe2c09c54"
      },
      "outputs": [],
      "source": [
        "attributes_random"
      ]
    },
    {
      "cell_type": "code",
      "execution_count": null,
      "metadata": {
        "_cell_guid": "dd17d2c8-848c-2605-1919-ce7585459d02"
      },
      "outputs": [],
      "source": [
        "attributes_null"
      ]
    },
    {
      "cell_type": "code",
      "execution_count": null,
      "metadata": {
        "_cell_guid": "fe6e438b-1bce-b133-8925-329b69877cfa"
      },
      "outputs": [],
      "source": [
        "properties = properties.drop(attributes_null)"
      ]
    },
    {
      "cell_type": "markdown",
      "metadata": {
        "_cell_guid": "d96881fc-f580-74b4-01e3-301e43a81e28"
      },
      "source": [
        "Lets explore the correlation between the seemingly random attributes"
      ]
    },
    {
      "cell_type": "code",
      "execution_count": null,
      "metadata": {
        "_cell_guid": "97698afa-9d0d-3ea8-5c5f-53128d1a4cef"
      },
      "outputs": [],
      "source": [
        "logerror_corellation = properties.corr()[\"logerror\"].sort_values(ascending=False)\n",
        "logerror_corellation"
      ]
    },
    {
      "cell_type": "code",
      "execution_count": null,
      "metadata": {
        "_cell_guid": "03babd33-f441-de12-663c-c83cb88fd7b2"
      },
      "outputs": [],
      "source": [
        "attributes_logerror = logerror_corellation[logerror_corellation.abs() > 0.01].index\n",
        "attributes_logerror"
      ]
    },
    {
      "cell_type": "code",
      "execution_count": null,
      "metadata": {
        "_cell_guid": "ee670a86-a4a0-687f-90a6-42f8238f7cb6"
      },
      "outputs": [],
      "source": [
        "{\n",
        "    \"attributes_id\": logerror_corellation[attributes_id].mean(),\n",
        "    \"attributes_utility\": logerror_corellation[attributes_utility].mean(),\n",
        "    \"attributes_price\": logerror_corellation[attributes_price].mean(),\n",
        "    \"attributes_random\": logerror_corellation[attributes_random].mean(),\n",
        "    \"attributes_logerror\": logerror_corellation[attributes_logerror].mean(),\n",
        "}"
      ]
    },
    {
      "cell_type": "markdown",
      "metadata": {
        "_cell_guid": "9b35e187-5005-a93e-97dc-996f1f8b94de"
      },
      "source": [
        "The attributes correlated with high logerror seem to the unique attributes that don't cross-correlation with the rest of the attributes"
      ]
    },
    {
      "cell_type": "code",
      "execution_count": null,
      "metadata": {
        "_cell_guid": "3f46a99b-5f40-1749-b2c5-0b12ee13a25e"
      },
      "outputs": [],
      "source": [
        "sns.heatmap(properties[attributes_logerror].corr(), vmax=0.6, square=True, annot=False)"
      ]
    },
    {
      "cell_type": "markdown",
      "metadata": {
        "_cell_guid": "8c53b710-ffbb-0c7e-c0ff-f800cc4f244e"
      },
      "source": [
        "The may be the time to try and train a neural network on the top 25 fields most correlated with logerror"
      ]
    },
    {
      "cell_type": "code",
      "execution_count": null,
      "metadata": {
        "_cell_guid": "7d869bd4-c114-edbb-6dc2-15a72b02d24f"
      },
      "outputs": [],
      "source": [
        "logerror_corellation"
      ]
    }
  ],
  "metadata": {
    "_change_revision": 0,
    "_is_fork": false,
    "kernelspec": {
      "display_name": "Python 3",
      "language": "python",
      "name": "python3"
    },
    "language_info": {
      "codemirror_mode": {
        "name": "ipython",
        "version": 3
      },
      "file_extension": ".py",
      "mimetype": "text/x-python",
      "name": "python",
      "nbconvert_exporter": "python",
      "pygments_lexer": "ipython3",
      "version": "3.6.0"
    }
  },
  "nbformat": 4,
  "nbformat_minor": 0
}