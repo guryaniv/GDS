{
  "cells": [
    {
      "cell_type": "markdown",
      "metadata": {
        "_cell_guid": "6632cc1b-002d-66c4-39c4-ea6db7043e75"
      },
      "source": [
        "Claim Predictions w/ Keras & Sklearn"
      ]
    },
    {
      "cell_type": "code",
      "execution_count": null,
      "metadata": {
        "_cell_guid": "edaccc4a-2ea6-767e-cbe9-962071ac2614"
      },
      "outputs": [],
      "source": [
        "import pandas as pd\n",
        "from sklearn.linear_model import LinearRegression, ElasticNetCV, BayesianRidge, LinearRegression\n",
        "from sklearn.ensemble import RandomForestRegressor\n",
        "from sklearn.preprocessing import LabelEncoder, RobustScaler, StandardScaler, MinMaxScaler\n",
        "from sklearn.model_selection import KFold, train_test_split, GridSearchCV\n",
        "from sklearn.metrics import mean_absolute_error\n",
        "from keras.models import Model, Sequential\n",
        "from keras.layers import Input, Dense, Dropout, Activation\n",
        "from keras.callbacks import EarlyStopping\n",
        "from keras.layers.normalization import BatchNormalization\n",
        "from keras.wrappers.scikit_learn import KerasRegressor\n",
        "import numpy as np\n",
        "import matplotlib.pyplot as plt\n",
        "import csv\n",
        "import warnings\n",
        "\n",
        "warnings.filterwarnings(\"ignore\")\n",
        "%matplotlib inline"
      ]
    },
    {
      "cell_type": "code",
      "execution_count": null,
      "metadata": {
        "_cell_guid": "38b129f0-3fb5-e567-9c52-d54adeb4060a"
      },
      "outputs": [],
      "source": [
        "### load data\n",
        "\n",
        "train = pd.read_csv(\"../input/train.csv\")\n",
        "test = pd.read_csv(\"../input/test.csv\")\n",
        "full_df = pd.concat([train, test])\n",
        "\n",
        "train.head()"
      ]
    },
    {
      "cell_type": "code",
      "execution_count": null,
      "metadata": {
        "_cell_guid": "5ba1c631-7bf4-3237-d2fe-1b0481532c52"
      },
      "outputs": [],
      "source": [
        "### remove outliers (maybe)\n",
        "\n",
        "print train.shape\n",
        "\n",
        "train = train[train.loss < 25000]\n",
        "\n",
        "print train.shape"
      ]
    },
    {
      "cell_type": "code",
      "execution_count": null,
      "metadata": {
        "_cell_guid": "dd683eb4-532c-1432-7c7a-c4be7673510a"
      },
      "outputs": [],
      "source": [
        "### convert loss to log of loss (maybe)\n",
        "\n",
        "# train[\"loss\"] = np.log(train[\"loss\"])"
      ]
    },
    {
      "cell_type": "code",
      "execution_count": null,
      "metadata": {
        "_cell_guid": "673957da-02ca-7b67-82a9-0a728b1c7ec8"
      },
      "outputs": [],
      "source": [
        "### feature encoding and normalization\n",
        "\n",
        "cat_cols = [c for c in df.columns if \"cat\" in c]\n",
        "cont_cols = [c for c in df.columns if \"cont\" in c]\n",
        "all_cols = cat_cols + cont_cols\n",
        "\n",
        "\n",
        "le = LabelEncoder()\n",
        "\n",
        "for col in cat_cols:\n",
        "    le.fit(df[col].values)\n",
        "    train[col] = le.transform(train[col].values)\n",
        "    test[col] = le.transform(test[col].values)\n",
        "\n",
        "    \n",
        "sc = StandardScaler()     # alt options: MinMaxScaler, RobustScaler, or no normalization\n",
        "\n",
        "for col in all_cols:\n",
        "    sc.fit(train[col].values)\n",
        "    train[col] = sc.transform(train[col].values)\n",
        "    test[col] = sc.transform(test[col].values)\n",
        "    \n",
        "train.head()"
      ]
    },
    {
      "cell_type": "code",
      "execution_count": null,
      "metadata": {
        "_cell_guid": "32ab8dde-49b2-36c0-64da-7f624af9682b"
      },
      "outputs": [],
      "source": ""
    },
    {
      "cell_type": "code",
      "execution_count": null,
      "metadata": {
        "_cell_guid": "e0e226ac-b574-8c35-ae35-affe375600c2"
      },
      "outputs": [],
      "source": ""
    },
    {
      "cell_type": "code",
      "execution_count": null,
      "metadata": {
        "_cell_guid": "56b8bd7d-8784-c567-2d1b-d0b8e0de6a43"
      },
      "outputs": [],
      "source": ""
    },
    {
      "cell_type": "code",
      "execution_count": null,
      "metadata": {
        "_cell_guid": "5a10de12-ab98-484a-bb4a-a09fc3ae8a41"
      },
      "outputs": [],
      "source": ""
    },
    {
      "cell_type": "code",
      "execution_count": null,
      "metadata": {
        "_cell_guid": "bb9ac98a-739b-2878-911f-3eaa23ea5184"
      },
      "outputs": [],
      "source": ""
    },
    {
      "cell_type": "code",
      "execution_count": null,
      "metadata": {
        "_cell_guid": "e534acf5-db00-428c-d5b9-7da69cf6d6d5"
      },
      "outputs": [],
      "source": ""
    },
    {
      "cell_type": "code",
      "execution_count": null,
      "metadata": {
        "_cell_guid": "256aa6d8-1b26-4eb0-5e20-ff47ac3f660d"
      },
      "outputs": [],
      "source": ""
    },
    {
      "cell_type": "code",
      "execution_count": null,
      "metadata": {
        "_cell_guid": "8cb6b024-8bc6-b847-2a76-5c3a7a0497a8"
      },
      "outputs": [],
      "source": ""
    },
    {
      "cell_type": "code",
      "execution_count": null,
      "metadata": {
        "_cell_guid": "1f60ca20-ef88-33c4-217b-d434a59799e5"
      },
      "outputs": [],
      "source": [
        "### visualize spread between predictions and target values \n",
        "\n",
        "pred = np.zeros_like(y)\n",
        "pred[:y.shape[0]] = [x for x in model.predict(X)]\n",
        "# pred[:y.shape[0]] = ensemble_regressor(regressors, X)\n",
        "\n",
        "fig, ax = plt.subplots()\n",
        "ax.scatter(y, pred, c='k')\n",
        "ax.plot([21000, 0], [21000, 0], 'r-', lw=2)\n",
        "ax.set_xlabel('Actual value')\n",
        "ax.set_ylabel('Predicted value')\n",
        "plt.show()"
      ]
    },
    {
      "cell_type": "code",
      "execution_count": null,
      "metadata": {
        "_cell_guid": "950b0358-44c3-b286-bfce-f1e6e8d1e5db"
      },
      "outputs": [],
      "source": [
        "### batch prediction\n",
        "\n",
        "ids = test[\"id\"].values\n",
        "\n",
        "# predictions = ensemble_regressor(regressors, test.drop([\"id\"], axis=1).as_matrix())\n",
        "predictions = ensemble_regressor([model], test.drop([\"id\"], axis=1).as_matrix())\n",
        "\n",
        "# # w/ log loss\n",
        "# with open(\"prediction.csv\", \"w\") as f:\n",
        "#     p_writer = csv.writer(f, delimiter=',', lineterminator='\\n')\n",
        "#     for i, p in enumerate(predictions):\n",
        "#         p_writer.writerow([ids[i], np.exp(p)])\n",
        "        \n",
        "# w/o log loss\n",
        "with open(\"prediction.csv\", \"w\") as f:\n",
        "    p_writer = csv.writer(f, delimiter=',', lineterminator='\\n')\n",
        "    for i, p in enumerate(predictions):\n",
        "        p_writer.writerow([ids[i], p])"
      ]
    }
  ],
  "metadata": {
    "_change_revision": 0,
    "_is_fork": false,
    "kernelspec": {
      "display_name": "Python 3",
      "language": "python",
      "name": "python3"
    },
    "language_info": {
      "codemirror_mode": {
        "name": "ipython",
        "version": 3
      },
      "file_extension": ".py",
      "mimetype": "text/x-python",
      "name": "python",
      "nbconvert_exporter": "python",
      "pygments_lexer": "ipython3",
      "version": "3.5.2"
    }
  },
  "nbformat": 4,
  "nbformat_minor": 0
}