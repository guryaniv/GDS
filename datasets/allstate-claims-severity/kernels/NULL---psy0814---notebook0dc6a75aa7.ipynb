{
  "cells": [
    {
      "cell_type": "code",
      "execution_count": null,
      "metadata": {
        "_cell_guid": "2d6da777-f979-0d4c-2ae8-29f631382582"
      },
      "outputs": [],
      "source": [
        "import pandas as pd\n",
        "import numpy as np\n",
        "import xgboost as xgb\n",
        "from sklearn.cross_validation import train_test_split\n",
        "\n",
        "df_train = pd.read_csv('../input/train.csv')\n",
        "df_test = pd.read_csv('../input/test.csv')\n",
        "\n",
        "usecols = []\n",
        "for c in df_train.columns:\n",
        "    if 'cont' in c:\n",
        "        usecols.append(c)\n",
        "\n",
        "x_train = df_train[usecols]\n",
        "x_test = df_test[usecols]\n",
        "\n",
        "for c in df_train.columns:\n",
        "    if 'cat' in c:\n",
        "        if len(df_train[c].unique()) == 2:\n",
        "            uni = df_train[c].unique()[0]\n",
        "            x_train[c + '_numeric'] = (df_train[c].values == uni)\n",
        "            x_test[c + '_numeric'] = (df_test[c].values == uni)\n",
        "\n",
        "y_train = df_train['loss']\n",
        "id_test = df_test['id']\n",
        "\n",
        "x_train, x_valid, y_train, y_valid = train_test_split(x_train, y_train, test_size=0.1, random_state=4242)\n",
        "\n",
        "d_train = xgb.DMatrix(x_train, y_train)\n",
        "d_valid = xgb.DMatrix(x_valid, y_valid)\n",
        "d_test = xgb.DMatrix(x_test)\n",
        "\n",
        "params = {}\n",
        "params['eta'] = 0.0202048\n",
        "params['colsample_bylevel'] = 0.9\n",
        "params['subsample'] = 0.9\n",
        "params['silent']= 1\n",
        "\n",
        "watchlist = [(d_train, 'train'), (d_valid, 'valid')]\n",
        "clf = xgb.train(params, d_train, 1000, watchlist, early_stopping_rounds=20)\n",
        "p_test = clf.predict(d_test)\n",
        "\n",
        "sub = pd.DataFrame()\n",
        "sub['id'] = id_test\n",
        "sub['loss'] = p_test\n",
        "sub.to_csv('testsub.csv', index=False)\n"
      ]
    }
  ],
  "metadata": {
    "_change_revision": 0,
    "_is_fork": false,
    "kernelspec": {
      "display_name": "Python 3",
      "language": "python",
      "name": "python3"
    },
    "language_info": {
      "codemirror_mode": {
        "name": "ipython",
        "version": 3
      },
      "file_extension": ".py",
      "mimetype": "text/x-python",
      "name": "python",
      "nbconvert_exporter": "python",
      "pygments_lexer": "ipython3",
      "version": "3.5.2"
    }
  },
  "nbformat": 4,
  "nbformat_minor": 0
}