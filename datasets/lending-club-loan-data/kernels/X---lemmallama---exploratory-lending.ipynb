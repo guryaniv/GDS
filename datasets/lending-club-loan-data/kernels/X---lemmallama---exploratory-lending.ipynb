{"cells":[
 {
  "cell_type": "code",
  "execution_count": null,
  "metadata": {
   "collapsed": false
  },
  "outputs": [],
  "source": "%matplotlib inline\nimport numpy as np\nfrom scipy.stats import kendalltau\nimport seaborn as sns\nimport pandas as pd\nloans = pd.read_csv(\"../input/loan.csv\")\n"
 },
 {
  "cell_type": "markdown",
  "metadata": {},
  "source": "#h\n\nRedoing this, I was going in a direction I was not very excited about\n#h\n\n#hh\nI will be exploring the \"bigger picture\" of what lending across the U.S Looks like.\n\n\nIf you have a descent idea, let me know. As an Economist I find this fascinating.\n"
 },
 {
  "cell_type": "code",
  "execution_count": null,
  "metadata": {
   "collapsed": false
  },
  "outputs": [],
  "source": ""
 }
],"metadata":{"kernelspec":{"display_name":"Python 3","language":"python","name":"python3"}}, "nbformat": 4, "nbformat_minor": 0}