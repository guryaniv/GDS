{
  "cells": [
    {
      "cell_type": "code",
      "execution_count": null,
      "metadata": {
        "_cell_guid": "a9160528-bb54-306d-9729-6c2c8c531f2a"
      },
      "outputs": [],
      "source": [
        "import numpy as np\n",
        "import pandas as pd \n",
        "from sklearn.linear_model import LinearRegression\n",
        "from sklearn.feature_selection import RFE\n",
        "from sklearn.preprocessing import MinMaxScaler\n",
        "from sklearn.ensemble import RandomForestRegressor\n",
        "from subprocess import check_output\n",
        "print(check_output([\"ls\", \"../input\"]).decode(\"utf8\"))"
      ]
    },
    {
      "cell_type": "code",
      "execution_count": null,
      "metadata": {
        "_cell_guid": "43c8457a-0387-31de-67df-6dccc36c4c45"
      },
      "outputs": [],
      "source": [
        "house = pd.read_csv(\"../input/kc_house_data.csv\")\n",
        "del house[\"id\"]\n",
        "del house[\"date\"]"
      ]
    },
    {
      "cell_type": "code",
      "execution_count": null,
      "metadata": {
        "_cell_guid": "f59368a0-3828-ce21-2bae-c9601e77d85b"
      },
      "outputs": [],
      "source": [
        "X = house[house.columns[1:19]]\n",
        "Y = house[\"price\"]\n",
        "colnames = X.columns"
      ]
    },
    {
      "cell_type": "code",
      "execution_count": null,
      "metadata": {
        "_cell_guid": "a9a5ceae-a34d-f02c-14d8-33fd2de9c6bd"
      },
      "outputs": [],
      "source": [
        "ranks = {}\n",
        "# Create our function which stores the feature rankings to the ranks dictionary\n",
        "def ranking(ranks, names, order=1):\n",
        "    minmax = MinMaxScaler()\n",
        "    ranks = minmax.fit_transform(order*np.array([ranks]).T).T[0]\n",
        "    ranks = map(lambda x: round(x,2), ranks)\n",
        "    return dict(zip(names, ranks))"
      ]
    },
    {
      "cell_type": "code",
      "execution_count": null,
      "metadata": {
        "_cell_guid": "e10a3f64-d82e-b896-a4be-21e9c5f478bd"
      },
      "outputs": [],
      "source": [
        "lr = LinearRegression(normalize=True)\n",
        "lr.fit(X,Y)\n",
        "rfe = RFE(lr, n_features_to_select=1, verbose =3 )\n",
        "rfe.fit(X,Y)\n",
        "ranks[\"RFE\"] = ranking(list(map(float, rfe.ranking_)), colnames)"
      ]
    },
    {
      "cell_type": "code",
      "execution_count": null,
      "metadata": {
        "_cell_guid": "5707040e-9517-2c35-f036-73c1b5911d63"
      },
      "outputs": [],
      "source": [
        "rf = RandomForestRegressor(n_jobs=-1, n_estimators=50, verbose=3)\n",
        "rf.fit(X,Y)\n",
        "ranks[\"RF\"] = ranking(rf.feature_importances_, colnames)"
      ]
    },
    {
      "cell_type": "code",
      "execution_count": null,
      "metadata": {
        "_cell_guid": "54f27e30-73f0-374f-035b-7faefdceeac0"
      },
      "outputs": [],
      "source": [
        "ranks"
      ]
    }
  ],
  "metadata": {
    "_change_revision": 0,
    "_is_fork": false,
    "kernelspec": {
      "display_name": "Python 3",
      "language": "python",
      "name": "python3"
    },
    "language_info": {
      "codemirror_mode": {
        "name": "ipython",
        "version": 3
      },
      "file_extension": ".py",
      "mimetype": "text/x-python",
      "name": "python",
      "nbconvert_exporter": "python",
      "pygments_lexer": "ipython3",
      "version": "3.5.2"
    }
  },
  "nbformat": 4,
  "nbformat_minor": 0
}