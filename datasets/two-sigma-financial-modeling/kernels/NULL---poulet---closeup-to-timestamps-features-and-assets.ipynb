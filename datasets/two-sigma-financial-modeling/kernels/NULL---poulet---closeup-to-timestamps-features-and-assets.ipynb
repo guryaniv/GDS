{
  "cells": [
    {
      "cell_type": "markdown",
      "metadata": {
        "_cell_guid": "e76c2bbc-e51a-b3a1-93d1-0b01f90b6b85"
      },
      "source": [
        "This is my first kernel, I hope some of you find it useful."
      ]
    },
    {
      "cell_type": "code",
      "execution_count": null,
      "metadata": {
        "_cell_guid": "ddf777df-7cb8-c09f-35fa-ec1e4392816f"
      },
      "outputs": [],
      "source": [
        "import pandas as pd\n",
        "with pd.HDFStore(\"../input/train.h5\", \"r\") as train:\n",
        "    df = train.get(\"train\")"
      ]
    },
    {
      "cell_type": "code",
      "execution_count": null,
      "metadata": {
        "_cell_guid": "6674463d-e002-b43a-53b6-d654fd23478a"
      },
      "outputs": [],
      "source": [
        "import matplotlib.pyplot as plt\n",
        "df[\"y\"].hist(bins=100)\n",
        "plt.show()"
      ]
    },
    {
      "cell_type": "markdown",
      "metadata": {
        "_cell_guid": "c3a3d9ff-227c-2c76-56d0-bed1c88ff54d"
      },
      "source": [
        "It seems \"y\" is an arithmetic return.... Let's see the number of timestamps and assets (I assume each id refers to an asset...)"
      ]
    },
    {
      "cell_type": "code",
      "execution_count": null,
      "metadata": {
        "_cell_guid": "f827307b-9e37-3c29-bd39-5d05c86c9dfb"
      },
      "outputs": [],
      "source": [
        "print(\"Total timestamps: {}\".format(len(df[\"timestamp\"].unique())))\n",
        "print(\"Total assets: {}\".format(len(df[\"id\"].unique())))"
      ]
    },
    {
      "cell_type": "code",
      "execution_count": null,
      "metadata": {
        "_cell_guid": "13021a82-1b56-34d5-79ff-e2748e802f5e"
      },
      "outputs": [],
      "source": [
        "import re\n",
        "derived=[]\n",
        "fundamental=[]\n",
        "technical=[]\n",
        "for var_name in df.columns:\n",
        "    if re.search(\"^derived\",var_name) is not None:\n",
        "        derived.append(var_name)\n",
        "    if re.search(\"^fundamental\",var_name) is not None:\n",
        "        fundamental.append(var_name)\n",
        "    if re.search(\"^technical\",var_name) is not None:\n",
        "        technical.append(var_name)\n",
        "\n",
        "print(\"Total derived {}\".format(len(derived)))\n",
        "print(\"Total fundamental {}\".format(len(fundamental)))\n",
        "print(\"Total technical {}\".format(len(fundamental)))\n",
        "\n",
        "id_list=df[\"id\"].unique().tolist()"
      ]
    },
    {
      "cell_type": "markdown",
      "metadata": {
        "_cell_guid": "1d95bfb1-daa0-d437-2de0-a2746e9534c0"
      },
      "source": [
        "Now let's check whether the assets have data for all timestamps."
      ]
    },
    {
      "cell_type": "code",
      "execution_count": null,
      "metadata": {
        "_cell_guid": "5a696c87-af56-8154-4ead-a8da229db147"
      },
      "outputs": [],
      "source": [
        "df_timestamps=pd.DataFrame(None, columns=[\"id\",\"count\",\"min\",\"max\",\"diff\"])\n",
        "for asset in id_list:\n",
        "    pt=df[\"timestamp\"][df[\"id\"]==asset]\n",
        "    count_stamp=pt.count()\n",
        "    max_stamp=pt.max()\n",
        "    min_stamp=pt.min()\n",
        "    diff_stamp=pt.diff().dropna().mean()\n",
        "    nrow = pd.DataFrame([[asset, count_stamp, min_stamp, max_stamp, diff_stamp]], columns=[\"id\",\"count\",\"min\",\"max\",\"diff\"])\n",
        "    df_timestamps = df_timestamps.append(nrow, ignore_index=True)\n",
        "df_timestamps[\"count\"].hist(bins=100,figsize=(6,3))\n",
        "plt.title('Count of timestamps per asset')\n",
        "plt.show()\n",
        "df_timestamps[\"min\"].hist(bins=100,figsize=(6,3))\n",
        "plt.title(\"Minimum timestamp\")\n",
        "plt.show()\n",
        "df_timestamps[\"max\"].hist(bins=100,figsize=(6,3))\n",
        "plt.title('Maximum timestamp')\n",
        "plt.show()\n",
        "df_timestamps[\"diff\"].hist(bins=100,figsize=(6,3))\n",
        "plt.title('Difference between timestamps')\n",
        "plt.show()"
      ]
    },
    {
      "cell_type": "markdown",
      "metadata": {
        "_cell_guid": "44c6351e-c6ff-d0df-488e-d57fa5ef739b"
      },
      "source": [
        "Here, we see that 527 assets have data for all timestamps. Almost 750 assets have data since timestamp 0, and there are not any gaps in the time series for each asset (please note we have not checked for NaNs in the features).\n",
        "\n",
        "Now, let's see how the features are for an asset with complete data (i.e. in all available timestamps)."
      ]
    },
    {
      "cell_type": "code",
      "execution_count": null,
      "metadata": {
        "_cell_guid": "b86e6554-0aa0-fa8a-fa08-13f1c18daf5f"
      },
      "outputs": [],
      "source": [
        "import numpy as np\n",
        "fig =  plt.figure(figsize=(9,46))\n",
        "\n",
        "features_list = derived + fundamental + technical\n",
        "\n",
        "pt = pd.pivot_table(df, values=\"timestamp\", index=\"id\", aggfunc=np.count_nonzero)\n",
        "pt = pt.sort_values(ascending=False)\n",
        "fullt_ids=pt[pt==1812].index.tolist()\n",
        "asset_id=fullt_ids[200] #pick any asset with complete timestamps\n",
        "\n",
        "col_str=\"y\"\n",
        "#return\n",
        "pt_id = df[[\"timestamp\",\"y\"]][df[\"id\"]==asset_id].dropna()\n",
        "ax = fig.add_subplot(23,1,1)\n",
        "ax.plot(pt_id[\"timestamp\"],pt_id[\"y\"])\n",
        "ax.plot(pt_id[\"timestamp\"],(pt_id[\"y\"] + 1).cumprod())\n",
        "ax.set_xlim(0, 1812)\n",
        "ax.tick_params(axis='both', which='major', labelsize=6)\n",
        "for key,spine in ax.spines.items():\n",
        "    spine.set_visible(False)\n",
        "ax.set_title(\"return\", size=10)\n",
        "#vars\n",
        "fig_num=6\n",
        "for col_str in features_list:    \n",
        "    ax = fig.add_subplot(23,5,fig_num)\n",
        "    pt_id = df[[\"timestamp\",col_str]][df[\"id\"]==asset_id].dropna()\n",
        "    if col_str in derived:\n",
        "        color=\"red\"\n",
        "    elif col_str in fundamental:\n",
        "        color=\"blue\"\n",
        "    else:\n",
        "        color=\"green\"       \n",
        "    ax.scatter(pt_id[\"timestamp\"],pt_id[col_str],s=1,c=color,marker=(1,2,0))\n",
        "    for key,spine in ax.spines.items():\n",
        "        spine.set_visible(False)\n",
        "    ax.set_xlim(0, 2000)\n",
        "    ax.get_xaxis().set_visible(False)\n",
        "    ax.tick_params(bottom=\"off\", top=\"off\", left=\"off\", right=\"off\")\n",
        "    ax.set_title(col_str, size=6)\n",
        "    ax.tick_params(axis='both', which='major', labelsize=6)\n",
        "    fig_num += 1\n",
        "\n",
        "plt.show()"
      ]
    },
    {
      "cell_type": "markdown",
      "metadata": {
        "_cell_guid": "d9ab6460-c551-da61-4864-1d64b5922c1b"
      },
      "source": [
        "Fundamentals and derived  are continuous, and some of them tend to be \"sticky\" (for a long time they have the same value). \n",
        "\n",
        "I can see two types of technicals: (1) continuous; (2) categorical, although when it changes between category there are intermediate values (except for technical 34 and 22, for which the jumps are clean).\n",
        "\n",
        "Let's see the range of the features for each asset:"
      ]
    },
    {
      "cell_type": "code",
      "execution_count": null,
      "metadata": {
        "_cell_guid": "dfbd28c2-03b2-d9c7-fc60-2231642a390c"
      },
      "outputs": [],
      "source": [
        "import math\n",
        "column_str=\"derived_0\"\n",
        "asset=fullt_ids[0]\n",
        "\n",
        "df_range = pd.DataFrame(None,columns=[\"id\"]+features_list)\n",
        "for asset in fullt_ids: #ignore the assets w/o complete timestamps\n",
        "    s_range = df[df[\"id\"]==asset].max()-df[df[\"id\"]==asset].min()\n",
        "    df_range = df_range.append(s_range[[\"id\"]+features_list], ignore_index=True)\n",
        "    df_range.loc[df_range.shape[0]-1,\"id\"]=asset"
      ]
    },
    {
      "cell_type": "markdown",
      "metadata": {
        "_cell_guid": "0bff9832-f9f6-0710-16b1-4b35f88748ca"
      },
      "source": [
        "Histograms for assets' features range.... we can distinguish the continuous from categorical variables."
      ]
    },
    {
      "cell_type": "code",
      "execution_count": null,
      "metadata": {
        "_cell_guid": "6d6e8662-75fd-bcb4-8373-b79e27bbfde3"
      },
      "outputs": [],
      "source": [
        "percentile=5\n",
        "\n",
        "fig = plt.figure(figsize=(9,44))\n",
        "fig.subplots_adjust(hspace=.5)\n",
        "fig_num=1\n",
        "for col_str in features_list:\n",
        "    nona_column=df_range[col_str].dropna()\n",
        "    nona_column=nona_column.sort_values()\n",
        "    desc_column=nona_column.describe()\n",
        "    lower_p=math.floor(len(nona_column)*percentile/100)\n",
        "    higher_p=math.floor(len(nona_column)*(100-percentile)/100)\n",
        "    \n",
        "    ax = fig.add_subplot(22,5,fig_num)\n",
        "    if col_str in derived:\n",
        "        color=\"red\"\n",
        "    elif col_str in fundamental:\n",
        "        color=\"blue\"\n",
        "    else:\n",
        "        color=\"green\"\n",
        "    for key,spine in ax.spines.items():\n",
        "        spine.set_visible(False)\n",
        "    ax.tick_params(bottom=\"off\", top=\"off\", left=\"off\", right=\"off\")\n",
        "    ax.set_title(col_str, size=10)\n",
        "    nona_column[lower_p:higher_p].hist(bins=10, ax=ax, grid=False, color=color)\n",
        "    fig_num+=1\n",
        "plt.show()"
      ]
    },
    {
      "cell_type": "markdown",
      "metadata": {
        "_cell_guid": "54065506-98f5-a163-78f0-d98ca4af2ee3"
      },
      "source": [
        "Boxplots for assets' features range.... showing percentile (19-76). It seems the variables change drastically between assets, so it might be a good idea to standardrize some variables using the data of the single asset. (I have no idea why it throws an error at ax.boxplot() for some fundamentals)"
      ]
    },
    {
      "cell_type": "code",
      "execution_count": null,
      "metadata": {
        "_cell_guid": "0916d7aa-56d2-ddf8-f0dc-a4b7c74ce1bc"
      },
      "outputs": [],
      "source": [
        "qtl=.76\n",
        "\n",
        "fig = plt.figure(figsize=(9,44))\n",
        "fig.subplots_adjust(hspace=.5)\n",
        "fig_num=1\n",
        "\n",
        "for col_str in features_list:\n",
        "    ax = fig.add_subplot(22,5,fig_num)\n",
        "    for key,spine in ax.spines.items():\n",
        "        spine.set_visible(False)\n",
        "    ax.tick_params(bottom=\"off\", top=\"off\", left=\"off\", right=\"off\")\n",
        "    ax.set_title(col_str, size=10)\n",
        "    #nona_column[lower_p:higher_p].hist(bins=10, ax=ax, grid=False, color=color)\n",
        "    nonan=df_range[col_str].dropna()\n",
        "    try:\n",
        "        ax.boxplot(nonan)\n",
        "    except:\n",
        "        print(\"Error at \"+col_str)\n",
        "    ax.set_ylim(nonan.quantile(0.95-qtl),nonan.quantile(qtl))\n",
        "    fig_num+=1\n",
        "plt.show()"
      ]
    }
  ],
  "metadata": {
    "_change_revision": 0,
    "_is_fork": false,
    "kernelspec": {
      "display_name": "Python 3",
      "language": "python",
      "name": "python3"
    },
    "language_info": {
      "codemirror_mode": {
        "name": "ipython",
        "version": 3
      },
      "file_extension": ".py",
      "mimetype": "text/x-python",
      "name": "python",
      "nbconvert_exporter": "python",
      "pygments_lexer": "ipython3",
      "version": "3.5.2"
    }
  },
  "nbformat": 4,
  "nbformat_minor": 0
}