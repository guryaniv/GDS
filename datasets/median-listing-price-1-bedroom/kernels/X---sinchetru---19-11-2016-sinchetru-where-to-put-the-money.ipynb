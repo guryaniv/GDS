{
  "cells": [
    {
      "cell_type": "markdown",
      "metadata": {
        "_cell_guid": "5f68f5b6-25db-836c-caaf-4504f25daae3"
      },
      "source": [
        "**Importing modules and data**"
      ]
    },
    {
      "cell_type": "code",
      "execution_count": null,
      "metadata": {
        "_cell_guid": "b09e8a1e-390b-5446-31cb-98be1c25d886"
      },
      "outputs": [],
      "source": [
        "%matplotlib inline\n",
        "import pandas as pd \n",
        "import numpy as np\n",
        "import matplotlib.pyplot as plt\n",
        "import seaborn as sns"
      ]
    },
    {
      "cell_type": "code",
      "execution_count": null,
      "metadata": {
        "_cell_guid": "f74e9762-0a33-0418-1dab-b8dd93b7c2ca"
      },
      "outputs": [],
      "source": [
        "df = pd.read_csv('../input/median_price.csv')\n",
        "df = df.dropna(thresh=48)\n",
        "df = df.drop('SizeRank', axis=1)"
      ]
    },
    {
      "cell_type": "markdown",
      "metadata": {
        "_cell_guid": "722ecfd0-5146-3608-c382-25f2fab1756d"
      },
      "source": [
        "**Let's see the most expensive and cheap cities:**"
      ]
    },
    {
      "cell_type": "code",
      "execution_count": null,
      "metadata": {
        "_cell_guid": "f49eb2eb-ed2e-9040-2229-883007fc2ad9"
      },
      "outputs": [],
      "source": [
        "pivot = pd.pivot_table(df, index=['City','RegionName'])\n",
        "pivot = pivot.T\n",
        "pivot.ix['2016-01'].sort_values().plot(kind='barh', figsize=(5, 7), width=0.8, fontsize=10)\n",
        "plt.grid(color='k', axis='x', alpha=0.4, lw=0.8)"
      ]
    },
    {
      "cell_type": "markdown",
      "metadata": {
        "_cell_guid": "d3fa54d7-7363-ab41-1591-b2c372422fe4"
      },
      "source": [
        "**Let's see where we have an increasingly trend. Generally the real estate market is cyclical in an interval of 3-5 years. \n",
        "Good choice for investing - Delray Beach, Atlanta, Dallas, Miami and New York (but not Spuytin Duyvil): increasingly trend the last 3 years**"
      ]
    },
    {
      "cell_type": "code",
      "execution_count": null,
      "metadata": {
        "_cell_guid": "ffd33fc3-19bd-f291-8310-c075d854c84f"
      },
      "outputs": [],
      "source": [
        "plt.style.use('fivethirtyeight')\n",
        "sns.set_style(\"whitegrid\")\n",
        "\n",
        "pivot[['Atlanta', 'Chicago', 'Dallas', 'Delray Beach', 'Fort Lauderdale', 'Hollywood',\n",
        "       'Honolulu', 'Miami', 'Miami Beach', 'New York', 'Philadelphia', 'Pompano Beach',\n",
        "       'Seattle']].plot(sharex = False, subplots=True,\n",
        "        figsize=(8, 70), rot=45, fontsize=9)\n",
        "\n",
        "plt.tight_layout()"
      ]
    },
    {
      "cell_type": "markdown",
      "metadata": {
        "_cell_guid": "6e0dabd7-dc6f-e013-e320-5aa8ee12a7f8"
      },
      "source": [
        "Let's see how stable are the listing price in the last months"
      ]
    },
    {
      "cell_type": "code",
      "execution_count": null,
      "metadata": {
        "_cell_guid": "14f74c15-5437-2d1f-2948-093a2f40e5a9"
      },
      "outputs": [],
      "source": [
        "cities = df[['City']].drop_duplicates().values.tolist()\n",
        "\n",
        "for x in cities:\n",
        "    pivot.ix['2016-01':][x].plot(figsize=(6, 4), fontsize=8)\n",
        "    plt.legend(loc='upper center', fancybox=True, shadow=True, \n",
        "               bbox_to_anchor=(1.25, 1), fontsize=8)\n",
        "    plt.tight_layout()"
      ]
    }
  ],
  "metadata": {
    "_change_revision": 0,
    "_is_fork": false,
    "kernelspec": {
      "display_name": "Python 3",
      "language": "python",
      "name": "python3"
    },
    "language_info": {
      "codemirror_mode": {
        "name": "ipython",
        "version": 3
      },
      "file_extension": ".py",
      "mimetype": "text/x-python",
      "name": "python",
      "nbconvert_exporter": "python",
      "pygments_lexer": "ipython3",
      "version": "3.5.2"
    }
  },
  "nbformat": 4,
  "nbformat_minor": 0
}