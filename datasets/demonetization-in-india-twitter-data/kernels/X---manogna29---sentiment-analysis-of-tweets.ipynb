{
  "cells": [
    {
      "cell_type": "markdown",
      "metadata": {
        "_cell_guid": "4dfe5ed1-c355-9de2-fce0-ff876f1143ca"
      },
      "source": [
        "Data loading and exploration"
      ]
    },
    {
      "cell_type": "code",
      "execution_count": null,
      "metadata": {
        "_cell_guid": "7ef94c64-b5d1-28ac-3650-eb185004a464"
      },
      "outputs": [],
      "source": [
        "# This Python 3 environment comes with many helpful analytics libraries installed\n",
        "# It is defined by the kaggle/python docker image: https://github.com/kaggle/docker-python\n",
        "# For example, here's several helpful packages to load in \n",
        "\n",
        "import numpy as np # linear algebra\n",
        "import pandas as pd # data processing, CSV file I/O (e.g. pd.read_csv)\n",
        "\n",
        "# Input data files are available in the \"../input/\" directory.\n",
        "# For example, running this (by clicking run or pressing Shift+Enter) will list the files in the input directory\n",
        "\n",
        "from subprocess import check_output\n",
        "print(check_output([\"ls\", \"../input\"]).decode(\"utf8\"))\n",
        "\n",
        "# Any results you write to the current directory are saved as output.\n",
        "tweets=pd.read_csv(\"../input/demonetization-tweets.csv\",encoding = \"ISO-8859-1\")\n",
        "tweets.head()"
      ]
    },
    {
      "cell_type": "code",
      "execution_count": null,
      "metadata": {
        "_cell_guid": "29845d8d-68c7-86ca-4d7d-c65a5df87895"
      },
      "outputs": [],
      "source": [
        "from nltk.sentiment.vader import SentimentIntensityAnalyzer\n",
        "from nltk.sentiment.util import *\n",
        "\n",
        "from nltk import tokenize\n",
        "\n",
        "sid = SentimentIntensityAnalyzer()\n",
        "\n",
        "tweets['sentiment_compound_polarity']=tweets.text.apply(lambda x:sid.polarity_scores(x)['compound'])\n",
        "tweets['sentiment_neutral']=tweets.text.apply(lambda x:sid.polarity_scores(x)['neu'])\n",
        "tweets['sentiment_negative']=tweets.text.apply(lambda x:sid.polarity_scores(x)['neg'])\n",
        "tweets['sentiment_pos']=tweets.text.apply(lambda x:sid.polarity_scores(x)['pos'])\n",
        "tweets['sentiment_type']=''\n",
        "tweets.loc[tweets.sentiment_compound_polarity>0,'sentiment_type']='POSITIVE'\n",
        "tweets.loc[tweets.sentiment_compound_polarity==0,'sentiment_type']='NEUTRAL'\n",
        "tweets.loc[tweets.sentiment_compound_polarity<0,'sentiment_type']='NEGATIVE'\n",
        "tweets.head()"
      ]
    },
    {
      "cell_type": "code",
      "execution_count": null,
      "metadata": {
        "_cell_guid": "87044df7-98d2-dc8e-c12b-203d915709e9"
      },
      "outputs": [],
      "source": [
        "tweets.sentiment_type.value_counts().plot(kind='bar',title=\"sentiment analysis\")"
      ]
    },
    {
      "cell_type": "code",
      "execution_count": null,
      "metadata": {
        "_cell_guid": "ac928d43-76f8-b62b-ad50-89e07fe2916d"
      },
      "outputs": [],
      "source": [
        "from ggplot import *\n",
        "%matplotlib inline\n",
        "import matplotlib.pyplot as plt\n",
        "plt.rcParams['figure.figsize'] = (6.0, 6.0)\n",
        "\n",
        "tweets['hour'] = pd.DatetimeIndex(tweets['created']).hour\n",
        "tweets['date'] = pd.DatetimeIndex(tweets['created']).date\n",
        "tweets['minute'] = pd.DatetimeIndex(tweets['created']).minute\n",
        "df=(tweets.groupby('hour',as_index=False).sentiment_compound_polarity.mean())\n",
        "print(ggplot(aes(x='hour',y='sentiment_compound_polarity'),data=df)+geom_line())"
      ]
    },
    {
      "cell_type": "markdown",
      "metadata": {
        "_cell_guid": "37b486ff-f517-00d2-5b48-56798cfccf38"
      },
      "source": [
        "Trend looks like it tweet sentiment becomes positive as time goes on "
      ]
    }
  ],
  "metadata": {
    "_change_revision": 0,
    "_is_fork": false,
    "kernelspec": {
      "display_name": "Python 3",
      "language": "python",
      "name": "python3"
    },
    "language_info": {
      "codemirror_mode": {
        "name": "ipython",
        "version": 3
      },
      "file_extension": ".py",
      "mimetype": "text/x-python",
      "name": "python",
      "nbconvert_exporter": "python",
      "pygments_lexer": "ipython3",
      "version": "3.6.0"
    }
  },
  "nbformat": 4,
  "nbformat_minor": 0
}