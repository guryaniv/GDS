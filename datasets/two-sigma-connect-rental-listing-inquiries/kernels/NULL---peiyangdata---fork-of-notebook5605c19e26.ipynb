{
  "metadata": {
    "kernelspec": {
      "display_name": "Python 3",
      "language": "python",
      "name": "python3"
    },
    "language_info": {
      "codemirror_mode": {
        "name": "ipython",
        "version": 3
      },
      "file_extension": ".py",
      "mimetype": "text/x-python",
      "name": "python",
      "nbconvert_exporter": "python",
      "pygments_lexer": "ipython3",
      "version": "3.6.0"
    }
  },
  "nbformat": 4,
  "nbformat_minor": 0,
  "cells": [
    {
      "cell_type": "code",
      "execution_count": 1,
      "metadata": {
        "_cell_guid": "d70a577b-c4f8-e854-1580-022d5089c133"
      },
      "outputs": [],
      "source": "# This Python 3 environment comes with many helpful analytics libraries installed\n# It is defined by the kaggle/python docker image: https://github.com/kaggle/docker-python\n# For example, here's several helpful packages to load in \n\nimport numpy as np # linear algebra\nimport pandas as pd # data processing, CSV file I/O (e.g. pd.read_csv)\n\n# Input data files are available in the \"../input/\" directory.\n# For example, running this (by clicking run or pressing Shift+Enter) will list the files in the input directory\n\nfrom subprocess import check_output\nprint(check_output([\"ls\", \"../input\"]).decode(\"utf8\"))\n\n# Any results you write to the current directory are saved as output.\n\nX_train = pd.read_json(\"../input/train.json\")\nX_test = pd.read_json(\"../input/test.json\")",
      "execution_state": "idle"
    },
    {
      "cell_type": "code",
      "execution_count": 2,
      "metadata": {
        "_cell_guid": "cdf27e91-b93b-0409-fecc-f980fcb77dc6"
      },
      "outputs": [],
      "source": "\nX_train.head()",
      "execution_state": "idle"
    },
    {
      "cell_type": "code",
      "execution_count": 3,
      "metadata": {
        "_cell_guid": "402ed65c-0218-d3bb-fe13-7950b13a6d8f"
      },
      "outputs": [],
      "source": "X_train.shape",
      "execution_state": "idle"
    },
    {
      "cell_type": "code",
      "execution_count": 4,
      "metadata": {
        "_cell_guid": "40f395f0-8c21-bed6-de24-eaad753592cd"
      },
      "outputs": [],
      "source": "X_test.head()",
      "execution_state": "idle"
    },
    {
      "cell_type": "code",
      "execution_count": 5,
      "metadata": {
        "_cell_guid": "24bd3b3a-a50e-0a6c-3956-b34c5ee63f86"
      },
      "outputs": [],
      "source": "X_test.shape",
      "execution_state": "idle"
    },
    {
      "cell_type": "code",
      "execution_count": 6,
      "metadata": {
        "_cell_guid": "7b1aad43-0ddd-84f2-3ca5-8c0e0f7498e7"
      },
      "outputs": [],
      "source": "sample=pd.read_csv(\"../input/sample_submission.csv\")",
      "execution_state": "idle"
    },
    {
      "cell_type": "code",
      "execution_count": 7,
      "metadata": {
        "_cell_guid": "1728fb45-1c83-3611-12bd-94a034cd1bcb"
      },
      "outputs": [],
      "source": "sample.head()",
      "execution_state": "idle"
    },
    {
      "cell_type": "code",
      "execution_count": 8,
      "metadata": {
        "_cell_guid": "250c3c6c-2e46-19b4-5f06-26fce9de9e89"
      },
      "outputs": [],
      "source": "print(check_output([\"ls\", \"../input/images_sample/\"]).decode(\"utf8\"))",
      "execution_state": "idle"
    },
    {
      "cell_type": "code",
      "execution_count": 9,
      "metadata": {
        "_cell_guid": "9315e4cc-7da2-73e5-97dd-053d21cbb8e0"
      },
      "outputs": [],
      "source": "import os\nimport subprocess as sub\nfrom os import listdir\nfrom os.path import isfile, join\nonlyfiles = [f for f in listdir('../input/images_sample/6811957/') if isfile(join('../input/images_sample/6811957/', f))]\nprint (onlyfiles)",
      "execution_state": "idle"
    },
    {
      "cell_type": "code",
      "execution_count": 10,
      "metadata": {
        "_cell_guid": "60379295-3bab-d41e-6f33-f113de11be11"
      },
      "outputs": [],
      "source": "import matplotlib.pyplot as plt\nimport matplotlib.image as mpimg\n%matplotlib inline\nimg=[]\nfor i in range (0,5):\n    img.append(mpimg.imread('../input/images_sample/6811957/'+onlyfiles[i]))\n    plt.imshow(img[i])\n    fig = plt.figure()\n    a=fig.add_subplot()\n    ",
      "execution_state": "idle"
    },
    {
      "cell_type": "code",
      "execution_count": 11,
      "metadata": {
        "_cell_guid": "ac173b29-b68e-c321-580e-7cff811049b7"
      },
      "outputs": [],
      "source": "\n\nX_train.dropna(subset = ['interest_level'])\nX_train.shape\nprint (X_train['interest_level'])",
      "execution_state": "idle"
    },
    {
      "cell_type": "code",
      "execution_count": 12,
      "metadata": {
        "_cell_guid": "6e94c558-0e0e-353b-eae2-68a6af5c40ce"
      },
      "outputs": [],
      "source": "\ngrouped = X_train.groupby(['interest_level'])\nprint (grouped.size())\n#probability\nprint (grouped.size()/len(X_train))",
      "execution_state": "idle"
    },
    {
      "cell_type": "code",
      "execution_count": 13,
      "metadata": {
        "_cell_guid": "5acbd52f-068a-300b-04e2-2e806c30deb4"
      },
      "outputs": [],
      "source": "from sklearn.ensemble import RandomForestClassifier\nfrom sklearn.model_selection import train_test_split\nfrom sklearn.metrics import log_loss\n\nX_train[\"num_photos\"] = X_train[\"photos\"].apply(len)\nX_train[\"num_features\"] = X_train[\"features\"].apply(len)\nX_train[\"num_description_words\"] = X_train[\"description\"].apply(lambda x: len(x.split(\" \")))\nX_train[\"created\"] = pd.to_datetime(X_train[\"created\"])\nX_train[\"created_year\"] = X_train[\"created\"].dt.year\nX_train[\"created_month\"] = X_train[\"created\"].dt.month\nX_train[\"created_day\"] = X_train[\"created\"].dt.day\nnum_feats = [\"bathrooms\", \"bedrooms\", \"latitude\", \"longitude\", \"price\",\n             \"num_photos\", \"num_features\", \"num_description_words\",\n             \"created_year\", \"created_month\", \"created_day\"]\nX = X_train[num_feats]\ny = X_train[\"interest_level\"]\n\nX_train2, X_val, y_train2, y_val = train_test_split(X, y, test_size=0.3)",
      "execution_state": "idle"
    },
    {
      "cell_type": "code",
      "execution_count": 14,
      "metadata": {
        "_cell_guid": "7d96def8-17a8-955f-5485-afd342478a21"
      },
      "outputs": [],
      "source": "\nX_test[\"num_photos\"] = X_test[\"photos\"].apply(len)\nX_test[\"num_features\"] = X_test[\"features\"].apply(len)\nX_test[\"num_description_words\"] = X_test[\"description\"].apply(lambda x: len(x.split(\" \")))\nX_test[\"created\"] = pd.to_datetime(X_test[\"created\"])\nX_test[\"created_year\"] = X_test[\"created\"].dt.year\nX_test[\"created_month\"] = X_test[\"created\"].dt.month\nX_test[\"created_day\"] = X_test[\"created\"].dt.day\nX_test2 = X_test[num_feats]",
      "execution_state": "idle"
    },
    {
      "cell_type": "code",
      "execution_count": 15,
      "metadata": {
        "_cell_guid": "ed250aa7-3420-3081-d620-27a7dc8c9df7"
      },
      "outputs": [],
      "source": "# Train uncalibrated random forest classifier on whole train and validation\n# data and evaluate on test data\nrfmodel = RandomForestClassifier(n_estimators=300)\nrfmodel.fit(X_train2, y_train2)",
      "execution_state": "idle"
    },
    {
      "cell_type": "code",
      "execution_count": 16,
      "metadata": {
        "_cell_guid": "d02be932-bc38-4f1f-9351-cfc88344ee21"
      },
      "outputs": [],
      "source": "y_val_pred = rfmodel.predict_proba(X_val)\nlog_loss(y_val, y_val_pred)",
      "execution_state": "idle"
    },
    {
      "cell_type": "code",
      "execution_count": 17,
      "metadata": {
        "_cell_guid": "56d22155-03d9-fa62-8cb5-a2809ab994db"
      },
      "outputs": [],
      "source": "#This time use all the train datasets to train model\nrfmodel2 = RandomForestClassifier(n_estimators=300)\nrfmodel2.fit(X, y)",
      "execution_state": "idle"
    },
    {
      "cell_type": "code",
      "execution_count": 18,
      "metadata": {
        "_cell_guid": "b93f740f-537f-b311-736a-b83b2be12cc9"
      },
      "outputs": [],
      "source": "y_test_pred = rfmodel2.predict_proba(X_test2)",
      "execution_state": "idle"
    },
    {
      "cell_type": "code",
      "execution_count": 19,
      "metadata": {
        "_cell_guid": "9b91a9ee-7b85-e86e-341c-f2cd99a32c19"
      },
      "outputs": [],
      "source": "y_test_pred",
      "execution_state": "idle"
    },
    {
      "cell_type": "code",
      "execution_count": 20,
      "metadata": {
        "_cell_guid": "771c7b43-3480-3efa-a632-78075855d03c"
      },
      "outputs": [],
      "source": null,
      "execution_state": "idle"
    },
    {
      "cell_type": "code",
      "execution_count": 20,
      "metadata": {
        "_cell_guid": "c973fe85-4b9b-9d60-3a41-5309712633d1"
      },
      "outputs": [],
      "source": "X_train2.head()",
      "execution_state": "idle"
    },
    {
      "cell_type": "code",
      "execution_count": 21,
      "metadata": {
        "_cell_guid": "8a84df0c-100d-384d-9d16-1a1722e14e25"
      },
      "outputs": [],
      "source": "y.head()",
      "execution_state": "idle"
    },
    {
      "cell_type": "code",
      "execution_count": 22,
      "metadata": {
        "_cell_guid": "3b0809ea-25c7-a1ef-a54a-b47f5b2de2f2"
      },
      "outputs": [],
      "source": "y.head()\n\n\n    \n    ",
      "execution_state": "idle"
    },
    {
      "cell_type": "code",
      "execution_count": 23,
      "metadata": {
        "_cell_guid": "570e8f6a-598c-0994-c35a-f166248cffd0"
      },
      "outputs": [],
      "source": "type(y)",
      "execution_state": "idle"
    },
    {
      "cell_type": "code",
      "execution_count": 24,
      "metadata": {
        "_cell_guid": "64ed63b7-8a23-ae4d-043e-a7fba1ced531"
      },
      "outputs": [],
      "source": null,
      "execution_state": "idle"
    },
    {
      "cell_type": "code",
      "execution_count": 24,
      "metadata": {
        "_cell_guid": "0c8ceb63-41e3-110c-e3e4-4946b8484431"
      },
      "outputs": [],
      "source": "length = len(y)\nlength",
      "execution_state": "idle"
    },
    {
      "cell_type": "code",
      "execution_count": 25,
      "metadata": {
        "_cell_guid": "f7444556-be38-a6d6-fa70-e4c3b31ce2d0"
      },
      "outputs": [],
      "source": null,
      "execution_state": "idle"
    },
    {
      "cell_type": "code",
      "execution_count": 25,
      "metadata": {
        "_cell_guid": "9781483a-a88a-96ca-fbc0-8eb24742972c"
      },
      "outputs": [],
      "source": "y1 = [0]*length\ny2 = [0]*length\n\ntype(y2)",
      "execution_state": "idle"
    },
    {
      "cell_type": "code",
      "execution_count": 26,
      "metadata": {
        "_cell_guid": "e7159ce3-af1c-0a1e-55bd-ac31962cf825"
      },
      "outputs": [],
      "source": "len(y2) == length",
      "execution_state": "idle"
    },
    {
      "cell_type": "code",
      "execution_count": 27,
      "metadata": {
        "_cell_guid": "0ff94748-fedd-2319-9c9f-f4677ae828f1"
      },
      "outputs": [],
      "source": "len(y1) == length",
      "execution_state": "idle"
    },
    {
      "cell_type": "code",
      "execution_count": 28,
      "metadata": {
        "_cell_guid": "29432f5c-b161-f140-4986-a9e9aafa8b93"
      },
      "outputs": [],
      "source": "type(y)",
      "execution_state": "idle"
    },
    {
      "cell_type": "code",
      "execution_count": 29,
      "metadata": {
        "_cell_guid": "22cb8470-3967-d6de-3606-b76ccd5bb256"
      },
      "outputs": [],
      "source": "y_list = y.tolist()\ntype(y_list)\ny_list",
      "execution_state": "idle"
    },
    {
      "cell_type": "code",
      "execution_count": 30,
      "metadata": {
        "_cell_guid": "8aeb7890-2e2c-cbbf-c5ac-a2c38a66a752"
      },
      "outputs": [],
      "source": "for i in range(0, length, 1):\n    if(y_list[i]==\"low\"):\n        print(\"low\")\n        y1[i] = 0\n        y2[i] = 0\n    if(y_list[i]==\"medium\"):\n        print(\"medium\")\n        y1[i] = 0\n        y2[i] = 1\n    if(y_list[i]==\"high\"):\n        print(\"high\")\n        y1[i] = 1\n        y2[i] = 0\nprint(\"Binary coding done.\")",
      "execution_state": "idle"
    },
    {
      "cell_type": "code",
      "execution_count": 31,
      "metadata": {
        "_cell_guid": "ecb4cbdb-ce8a-f59c-9a9d-44e5fd05729a"
      },
      "outputs": [],
      "source": "y1",
      "execution_state": "idle"
    },
    {
      "cell_type": "code",
      "execution_count": 32,
      "metadata": {
        "_cell_guid": "22b98776-3e9c-fd3f-cd29-f894ce1dee76"
      },
      "outputs": [],
      "source": "y2",
      "execution_state": "idle"
    },
    {
      "cell_type": "code",
      "execution_count": 33,
      "metadata": {
        "_cell_guid": "d3474f86-0f87-9222-c845-8f344332af6c"
      },
      "outputs": [],
      "source": "y1 == y2",
      "execution_state": "idle"
    },
    {
      "cell_type": "code",
      "execution_count": 34,
      "metadata": {
        "_cell_guid": "95de78b1-4c2f-dcd7-d7d6-d9250d35e4a6"
      },
      "outputs": [],
      "source": "y1_a = np.ravel(y1)\ny1_a",
      "execution_state": "idle"
    },
    {
      "cell_type": "code",
      "execution_count": 35,
      "metadata": {
        "_cell_guid": "18964d11-5d8e-b752-4e06-76fc32e607e5"
      },
      "outputs": [],
      "source": "y2_a = np.ravel(y2)\ny2_a",
      "execution_state": "idle"
    },
    {
      "cell_type": "code",
      "execution_count": 36,
      "metadata": {
        "_cell_guid": "42a099b2-e54b-375c-65ff-146e763b3749"
      },
      "outputs": [],
      "source": "import numpy as np\nimport pandas as pd\nimport statsmodels.api as sm\nimport matplotlib.pyplot as plt\nfrom patsy import dmatrices\nfrom sklearn.linear_model import LogisticRegression\nfrom sklearn.cross_validation import train_test_split\nfrom sklearn import metrics\nfrom sklearn.cross_validation import cross_val_score",
      "execution_state": "idle"
    },
    {
      "cell_type": "code",
      "execution_count": 37,
      "metadata": {
        "_cell_guid": "b5ce307a-2060-c2b3-6a58-3bec57490d01"
      },
      "outputs": [],
      "source": "model1 = LogisticRegression()\nmodel1 = model1.fit(X, y1_a)\n\nmodel1.score(X, y1_a)",
      "execution_state": "idle"
    },
    {
      "cell_type": "code",
      "execution_count": 38,
      "metadata": {
        "_cell_guid": "f491bf36-c9d9-c296-ea83-90a6c1b42639"
      },
      "outputs": [],
      "source": "model2 = LogisticRegression()\nmodel2 = model2.fit(X, y2_a)\n\nmodel2.score(X, y2_a)",
      "execution_state": "idle"
    },
    {
      "cell_type": "code",
      "execution_count": 39,
      "metadata": {
        "_cell_guid": "c9cbcad8-a549-a01a-769c-de30e883b766"
      },
      "outputs": [],
      "source": "1-y1_a.mean()",
      "execution_state": "idle"
    },
    {
      "cell_type": "code",
      "execution_count": 40,
      "metadata": {
        "_cell_guid": "b9e10365-5c35-c57c-fb2d-00bd423717e8"
      },
      "outputs": [],
      "source": "1-y2_a.mean()",
      "execution_state": "idle"
    },
    {
      "cell_type": "code",
      "execution_count": 41,
      "metadata": {
        "_cell_guid": "ce04cc84-7bc3-0694-ee54-d1fd04a921a2"
      },
      "outputs": [],
      "source": "model1",
      "execution_state": "idle"
    },
    {
      "cell_type": "code",
      "execution_count": 42,
      "metadata": {
        "_cell_guid": "63195393-c004-2f65-d94c-c6bac6c7f623"
      },
      "outputs": [],
      "source": "model2",
      "execution_state": "idle"
    },
    {
      "cell_type": "code",
      "execution_count": 43,
      "metadata": {
        "_cell_guid": "5d619b94-4420-3401-c5c8-9fd415773baa"
      },
      "outputs": [],
      "source": "X_pyang1 = X.loc[range(9,11,1),:]\nX_pyang1",
      "execution_state": "idle"
    },
    {
      "cell_type": "code",
      "execution_count": 44,
      "metadata": {
        "_cell_guid": "b0ce5efc-f64c-2a9b-e47d-e551a730b5d2"
      },
      "outputs": [],
      "source": "probs1 = model1.predict_proba(X_pyang1)\nprobs1",
      "execution_state": "idle"
    },
    {
      "cell_type": "code",
      "execution_count": 45,
      "metadata": {
        "_cell_guid": "5599cc9d-68c5-1582-fd7b-6f3638a394d0"
      },
      "outputs": [],
      "source": "probs2 = model2.predict_proba(X_pyang1)\nprobs2",
      "execution_state": "idle"
    },
    {
      "cell_type": "code",
      "execution_count": 46,
      "metadata": {
        "_cell_guid": "d566ca28-20b8-e334-6dc0-c0604103e4f6"
      },
      "outputs": [],
      "source": "X_pyang2 = X.dropna()\nX_pyang2",
      "execution_state": "idle"
    },
    {
      "cell_type": "code",
      "execution_count": 47,
      "metadata": {
        "_cell_guid": "9b0d8706-9e80-3232-b6f9-1060c3bd148b"
      },
      "outputs": [],
      "source": "probs1_2 = model1.predict_proba(X_pyang2)\nprobs1_2",
      "execution_state": "idle"
    },
    {
      "cell_type": "code",
      "execution_count": 48,
      "metadata": {
        "_cell_guid": "c919dd39-6531-5d80-abbd-1d868ccd6cf2"
      },
      "outputs": [],
      "source": "probs2_2 = model2.predict_proba(X_pyang2)\nprobs2_2",
      "execution_state": "idle"
    },
    {
      "cell_type": "code",
      "execution_count": 49,
      "metadata": {
        "_cell_guid": "fa6b2b95-118c-01c3-32b7-19fc0a61e9b6"
      },
      "outputs": [],
      "source": "type(probs1_2)",
      "execution_state": "idle"
    },
    {
      "cell_type": "code",
      "execution_count": 50,
      "metadata": {
        "_cell_guid": "ee0c07a9-0663-f316-2901-4fbcf86f5ce9"
      },
      "outputs": [],
      "source": "p1 = np.array(probs1_2)\np1.shape",
      "execution_state": "idle"
    },
    {
      "cell_type": "code",
      "execution_count": 51,
      "metadata": {
        "_cell_guid": "e951a5df-2e06-88e8-4a37-0513b8de561c"
      },
      "outputs": [],
      "source": "xx = np.array(X)\nxx.shape",
      "execution_state": "idle"
    },
    {
      "cell_type": "code",
      "execution_count": 52,
      "metadata": {
        "_cell_guid": "0dfab12f-8598-812d-1bfb-56ac59704988"
      },
      "outputs": [],
      "source": "xxx = np.array(X_pyang2)\nxxx.shape",
      "execution_state": "idle"
    },
    {
      "cell_type": "code",
      "execution_count": 53,
      "metadata": {
        "_cell_guid": "965cbbd4-a624-7915-3130-616408f8fb21"
      },
      "outputs": [],
      "source": "xx == xxx",
      "execution_state": "idle"
    },
    {
      "cell_type": "code",
      "execution_count": 54,
      "metadata": {
        "_cell_guid": "402c7bb3-2850-1214-b7e8-4e0a3a7d46b9"
      },
      "outputs": [],
      "source": null,
      "execution_state": "idle"
    },
    {
      "cell_type": "code",
      "execution_count": 54,
      "metadata": {
        "_cell_guid": "f69361d0-0af9-e830-cdda-bb8ae296aea4"
      },
      "outputs": [],
      "source": "prob_high = p1[:,1]\nprob_high",
      "execution_state": "idle"
    },
    {
      "cell_type": "code",
      "execution_count": 55,
      "metadata": {
        "_cell_guid": "70434ea1-6a39-c673-5c47-9bac2912f208"
      },
      "outputs": [],
      "source": "p2 = np.array(probs2_2)\n\nprob_medium = p2[:,1]\n\nprob_medium",
      "execution_state": "idle"
    },
    {
      "cell_type": "code",
      "execution_count": 56,
      "metadata": {
        "_cell_guid": "48f62612-504f-10cb-01ce-7aa714945589"
      },
      "outputs": [],
      "source": "prob_low = 1 - prob_high - prob_medium\nprob_low",
      "execution_state": "idle"
    },
    {
      "cell_type": "code",
      "execution_count": 57,
      "metadata": {
        "_cell_guid": "1293afc9-c52d-53fc-ee7f-7ef07fe669a5"
      },
      "outputs": [],
      "source": "#check if prob_low has negative values\nN = len(prob_low)\n\ncount = 0\nfor i in range(0, N, 1):\n    if(prob_low[i])<0:\n        print(\"alert: negative probability detected!!\")\n        count += 1",
      "execution_state": "idle"
    },
    {
      "cell_type": "code",
      "execution_count": 58,
      "metadata": {
        "_cell_guid": "e1e55b2e-35dd-c81d-69ed-5e405c5c5f06"
      },
      "outputs": [],
      "source": "print(count)",
      "execution_state": "idle"
    },
    {
      "cell_type": "code",
      "execution_count": 59,
      "metadata": {
        "_cell_guid": "12ac4860-a48b-0ff1-baf5-f4c8699e5632"
      },
      "outputs": [],
      "source": "# So 41 records will be \"both medium and high level interest\"\n# If this happens, can we just let prob(low)=0?\n\nprob_low_adjusted = prob_low\nprob_low_adjusted[prob_low_adjusted<0]=0\n\nfor i in range(0, N, 1):\n    if(prob_low_adjusted[i])<0:\n        print(\"alert: negative probability detected!!\")",
      "execution_state": "idle"
    },
    {
      "cell_type": "code",
      "execution_count": 60,
      "metadata": {
        "_cell_guid": "1aaa345c-90e1-34a1-c9d4-6d389b830572"
      },
      "outputs": [],
      "source": "# we have got prob_high, prob_medium, prob_low_adjusted\n# concatenate them\nprob_low.shape\nprob_medium.shape\nprob_high.shape\ndistribution_matrix = np.vstack((prob_low_adjusted, prob_medium, prob_high)).T\n\ndistribution_matrix",
      "execution_state": "idle"
    },
    {
      "cell_type": "code",
      "execution_count": 61,
      "metadata": {
        "_cell_guid": "bdb9fc06-44b1-6787-18c9-25991dbb7741"
      },
      "outputs": [],
      "source": "prob_low_adjusted",
      "execution_state": "idle"
    }
  ]
}