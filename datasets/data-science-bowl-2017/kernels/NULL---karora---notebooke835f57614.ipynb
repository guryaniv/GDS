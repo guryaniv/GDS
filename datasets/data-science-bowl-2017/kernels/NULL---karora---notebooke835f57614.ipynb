{
  "metadata": {
    "kernelspec": {
      "display_name": "Python 3",
      "language": "python",
      "name": "python3"
    },
    "language_info": {
      "codemirror_mode": {
        "name": "ipython",
        "version": 3
      },
      "file_extension": ".py",
      "mimetype": "text/x-python",
      "name": "python",
      "nbconvert_exporter": "python",
      "pygments_lexer": "ipython3",
      "version": "3.6.0"
    }
  },
  "nbformat": 4,
  "nbformat_minor": 0,
  "cells": [
    {
      "metadata": {
        "_cell_guid": "66369548-7431-e33e-450c-4c5e6d7a3eb9",
        "_active": false,
        "collapsed": false
      },
      "source": "# This Python 3 environment comes with many helpful analytics libraries installed\n# It is defined by the kaggle/python docker image: https://github.com/kaggle/docker-python\n# For example, here's several helpful packages to load in \n\nimport numpy as np # linear algebra\nimport pandas as pd # data processing, CSV file I/O (e.g. pd.read_csv)\n\n# Input data files are available in the \"../input/\" directory.\n# For example, running this (by clicking run or pressing Shift+Enter) will list the files in the input directory\n\nfrom subprocess import check_output\nprint(check_output([\"ls\", \"../input\"]).decode(\"utf8\"))\n\n# Any results you write to the current directory are saved as output.",
      "execution_count": 4,
      "cell_type": "code",
      "outputs": [],
      "execution_state": "idle"
    },
    {
      "metadata": {
        "_cell_guid": "b20429f3-ee08-c4d3-3524-a2751a4777a7",
        "_active": false,
        "collapsed": false
      },
      "source": "import dicom # for reading dicom files\nimport os # for doing directory operations \nimport pandas as pd # for some simple data analysis (right now, just to load in the labels data and quickly reference it)\n\n# Change this to wherever you are storing your data:\n# IF YOU ARE FOLLOWING ON KAGGLE, YOU CAN ONLY PLAY WITH THE SAMPLE DATA, WHICH IS MUCH SMALLER\n\ndata_dir = '../input/sample_images/'\npatients = os.listdir(data_dir)\nlabels_df = pd.read_csv('../input/stage1_labels.csv', index_col=0)\n\nlabels_df.head()",
      "execution_count": 2,
      "cell_type": "code",
      "outputs": [],
      "execution_state": "idle"
    },
    {
      "metadata": {
        "_cell_guid": "c04e8421-7dd9-a9a3-7e08-55a62f365a85",
        "_active": false,
        "collapsed": false
      },
      "source": "for patient in patients[:1]:\n    label = labels_df.get_value(patient, 'cancer')\n    path = data_dir + patient\n    \n    # a couple great 1-liners from: https://www.kaggle.com/gzuidhof/data-science-bowl-2017/full-preprocessing-tutorial\n    slices = [dicom.read_file(path + '/' + s) for s in os.listdir(path)]\n    slices.sort(key = lambda x: int(x.ImagePositionPatient[2]))\n    print(len(slices),label)\n    print(slices[0])",
      "execution_count": null,
      "cell_type": "code",
      "outputs": [],
      "execution_state": "idle"
    },
    {
      "metadata": {
        "_cell_guid": "2c257c36-38d1-9927-5b2f-2958472d69bd",
        "_active": false,
        "collapsed": false
      },
      "source": "for patient in patients[:3]:\n    label = labels_df.get_value(patient, 'cancer')\n    path = data_dir + patient\n    \n    # a couple great 1-liners from: https://www.kaggle.com/gzuidhof/data-science-bowl-2017/full-preprocessing-tutorial\n    slices = [dicom.read_file(path + '/' + s) for s in os.listdir(path)]\n    slices.sort(key = lambda x: int(x.ImagePositionPatient[2]))\n    print(slices[0].pixel_array.shape, len(slices))\n ",
      "execution_count": 3,
      "cell_type": "code",
      "outputs": [],
      "execution_state": "idle"
    },
    {
      "metadata": {
        "_cell_guid": "da3a615c-0564-ee22-936a-caf517f8175a",
        "_active": true,
        "collapsed": false
      },
      "source": "import cv2\nimport numpy as np\nimport matplotlib.pyplot as plt\n\nIMG_PX_SIZE = 500\n\nfor patient in patients[:10]:\n    if patient in labels_df.index :\n        label = labels_df.get_value(patient, 'cancer')\n        path = data_dir + patient\n        slices = [dicom.read_file(path + '/' + s) for s in os.listdir(path)]\n        # [print( path + '/' + s) for s in os.listdir(path)]\n        #[print(   s.ImagePositionPatient[2]) for s in slices]\n   \n        slices.sort(key = lambda x: int(x.ImagePositionPatient[2]))\n        fig = plt.figure(figsize=(500,500))\n        for num,each_slice in enumerate(slices[:12]):\n            y = fig.add_subplot(3,4,num+1) #\n            new_img = cv2.resize(np.array(each_slice.pixel_array),(IMG_PX_SIZE,IMG_PX_SIZE))\n            y.imshow(new_img)\n            plt.show()\n        print(label)",
      "execution_count": 10,
      "cell_type": "code",
      "outputs": [],
      "execution_state": "busy"
    },
    {
      "metadata": {
        "_cell_guid": "26614559-f42a-9754-4d2c-348fb78dc63a",
        "_active": false,
        "collapsed": false
      },
      "source": "import cv2\nimport numpy as np\nimport matplotlib.pyplot as plt",
      "execution_count": null,
      "cell_type": "code",
      "outputs": [],
      "execution_state": "idle"
    },
    {
      "metadata": {
        "_cell_guid": "5f1b43d8-b942-119f-0af1-954a513b8461",
        "_active": false,
        "collapsed": false
      },
      "source": "import numpy as np\nimport matplotlib.pyplot as plt\n\ndef f(t):\n    return np.exp(-t) * np.cos(2*np.pi*t)\n\nt1 = np.arange(0.0, 5.0, 0.1)\nt2 = np.arange(0.0, 5.0, 0.02)\n\nplt.figure(1)\nplt.subplot(211)\nplt.plot(t1, f(t1), 'bo', t2, f(t2), 'k')\n \n\n ",
      "execution_count": null,
      "cell_type": "code",
      "outputs": [],
      "execution_state": "idle"
    },
    {
      "metadata": {
        "_cell_guid": "42fa1034-6290-b627-1411-0941026a8d89",
        "_active": false,
        "collapsed": false
      },
      "source": "import matplotlib.pyplot as plt\nplt.figure(1)                # the first figure\nplt.subplot(211)             # the first subplot in the first figure\nplt.plot([1, 2, 3])\nplt.subplot(212)             # the second subplot in the first figure\nplt.plot([4, 5, 6])\n\n\nplt.figure(2)                # a second figure\nplt.plot([4, 5, 6])          # creates a subplot(111) by default\n\nplt.figure(1)                # figure 1 current; subplot(212) still current\nplt.subplot(111)             # make subplot(211) in figure1 current\nplt.title('Easy as 1, 2, 3') # subplot 211 title\nplt.figure(3)                # a second figure\nplt.subplot(5,5,1)         # creates a subplot(111) by default\n\n    \n    ",
      "execution_count": null,
      "cell_type": "code",
      "outputs": [],
      "execution_state": "idle"
    },
    {
      "metadata": {
        "_cell_guid": "5d7421df-caff-d4d2-8671-72841a9a27a6",
        "_active": false,
        "collapsed": false
      },
      "source": null,
      "execution_count": null,
      "cell_type": "code",
      "outputs": [],
      "execution_state": "idle"
    }
  ]
}