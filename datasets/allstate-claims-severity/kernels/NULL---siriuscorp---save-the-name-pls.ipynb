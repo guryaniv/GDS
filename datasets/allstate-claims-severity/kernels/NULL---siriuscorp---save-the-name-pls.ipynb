{
  "cells": [
    {
      "cell_type": "markdown",
      "metadata": {
        "_cell_guid": "986d2f40-3c0c-e41f-bf0c-d21549f607e6"
      },
      "source": [
        "No introduction needed,pal."
      ]
    },
    {
      "cell_type": "code",
      "execution_count": null,
      "metadata": {
        "_cell_guid": "82bdedd2-aaaf-fcae-a64a-e7cd8c2147d6"
      },
      "outputs": [],
      "source": [
        "\n",
        "import numpy as np # linear algebra\n",
        "import pandas as pd # data processing, CSV file I/O (e.g. pd.read_csv)\n",
        "\n",
        "train = pd.read_csv(\"../input/train.csv\")\n",
        "test = pd.read_csv(\"../input/test.csv\")"
      ]
    },
    {
      "cell_type": "markdown",
      "metadata": {
        "_cell_guid": "2063ad10-85b7-ca86-770a-8ccee1d3902e"
      },
      "source": [
        "## Check out the data ##"
      ]
    },
    {
      "cell_type": "code",
      "execution_count": null,
      "metadata": {
        "_cell_guid": "73c67009-1b3a-8f7b-b5a6-d4a6f084d1f4"
      },
      "outputs": [],
      "source": [
        "train.head()"
      ]
    },
    {
      "cell_type": "code",
      "execution_count": null,
      "metadata": {
        "_cell_guid": "509105ff-8129-f6d2-c777-c1584bf66ea6"
      },
      "outputs": [],
      "source": [
        "test[\"loss\"] = 0"
      ]
    },
    {
      "cell_type": "code",
      "execution_count": null,
      "metadata": {
        "_cell_guid": "bb96f33a-bb3a-2a12-00e7-a47ff14149d0"
      },
      "outputs": [],
      "source": [
        "print(train.shape)\n",
        "print(test.shape)"
      ]
    },
    {
      "cell_type": "code",
      "execution_count": null,
      "metadata": {
        "_cell_guid": "a1e28901-361c-cdc1-a8a9-afa8e5b6799e"
      },
      "outputs": [],
      "source": [
        "full = train.append(test)"
      ]
    },
    {
      "cell_type": "code",
      "execution_count": null,
      "metadata": {
        "_cell_guid": "2359f7df-9db7-6a8a-6b50-23d80930ce85"
      },
      "outputs": [],
      "source": [
        "list(full.columns)"
      ]
    },
    {
      "cell_type": "code",
      "execution_count": null,
      "metadata": {
        "_cell_guid": "3d1d470c-4558-00c7-6590-59fe6e9c6ede"
      },
      "outputs": [],
      "source": [
        "cats_cols = [name for name in list(full.columns) if \"cat\" in name]\n",
        "cats_cols"
      ]
    },
    {
      "cell_type": "code",
      "execution_count": null,
      "metadata": {
        "_cell_guid": "3a635099-0da7-53c0-3bcb-936ca9fe0726"
      },
      "outputs": [],
      "source": [
        "data_cat = full[cats_cols]\n",
        "data_cat.head()"
      ]
    },
    {
      "cell_type": "code",
      "execution_count": null,
      "metadata": {
        "_cell_guid": "231d4b13-268c-0ea6-6c32-96234769f0ce"
      },
      "outputs": [],
      "source": [
        "from  sklearn.preprocessing import LabelEncoder\n",
        "def encode_cats(cat_array):\n",
        "    encoding = LabelEncoder()\n",
        "    return(encoding.fit_transform(cat_array))\n",
        "    \n",
        "    \n",
        "data_cat = data_cat.apply(encode_cats)"
      ]
    },
    {
      "cell_type": "code",
      "execution_count": null,
      "metadata": {
        "_cell_guid": "0362d2ae-9662-3eb8-7bfb-f06caad035d9"
      },
      "outputs": [],
      "source": [
        "full[cats_cols] = data_cat\n",
        "full.head()"
      ]
    },
    {
      "cell_type": "code",
      "execution_count": null,
      "metadata": {
        "_cell_guid": "6c716cbe-56b0-de70-54c0-ac6e017eea40"
      },
      "outputs": [],
      "source": [
        "count_cols = [cont for cont in full.columns if \"cont\" in cont]\n",
        "count_data = full[count_cols]\n",
        "count_data.head()"
      ]
    },
    {
      "cell_type": "code",
      "execution_count": null,
      "metadata": {
        "_cell_guid": "f38a9368-b117-5f48-d276-24dd9e89f1f9"
      },
      "outputs": [],
      "source": [
        "count_data.describe()"
      ]
    },
    {
      "cell_type": "markdown",
      "metadata": {
        "_cell_guid": "7907bcb2-ea46-ec88-a35c-0cd59ee06802"
      },
      "source": [
        "## 5/17/2017 edit: added some polynomial features."
      ]
    },
    {
      "cell_type": "code",
      "execution_count": null,
      "metadata": {
        "_cell_guid": "efadf10a-754e-7afa-90cb-255af6b77da9"
      },
      "outputs": [],
      "source": [
        "def new_cont(cont_feature):\n",
        "    cont_squared = cont_feature**2\n",
        "    cont_root = np.sqrt(cont_feature)\n",
        "    return cont_squared,cont_root\n",
        "\n"
      ]
    },
    {
      "cell_type": "code",
      "execution_count": null,
      "metadata": {
        "_cell_guid": "5f77fb87-7928-e39d-46fe-360b157b82c5"
      },
      "outputs": [],
      "source": [
        "columns = count_data.columns\n",
        "for column in columns:\n",
        "    col_sqr,col_root = new_cont(count_data[column])\n",
        "    count_data[column + \"_sqr\"] = col_sqr\n",
        "    count_data[column + \"_root\"] = col_root\n",
        "   \n",
        "count_data.head()"
      ]
    },
    {
      "cell_type": "markdown",
      "metadata": {
        "_cell_guid": "eea38c22-094d-3977-97e2-0174ec3671e8"
      },
      "source": [
        "All the data is normalized already, so no need to modify it."
      ]
    },
    {
      "cell_type": "code",
      "execution_count": null,
      "metadata": {
        "_cell_guid": "6daab109-5ac7-ff17-e00b-fa0fdd14a8d3"
      },
      "outputs": [],
      "source": [
        "full[count_data.columns] = count_data"
      ]
    },
    {
      "cell_type": "code",
      "execution_count": null,
      "metadata": {
        "_cell_guid": "1c88e771-3e7d-b238-8d00-9524f73326d6"
      },
      "outputs": [],
      "source": [
        "full.head()"
      ]
    },
    {
      "cell_type": "code",
      "execution_count": null,
      "metadata": {
        "_cell_guid": "e9885b8d-1781-3173-0210-cd7f39bb396d"
      },
      "outputs": [],
      "source": [
        "train = full.iloc[:len(train)]\n",
        "train.shape"
      ]
    },
    {
      "cell_type": "code",
      "execution_count": null,
      "metadata": {
        "_cell_guid": "33f56c2b-bf6d-aa24-37aa-234832ad2141"
      },
      "outputs": [],
      "source": [
        "test = full.iloc[len(train):len(full)]\n",
        "test.shape"
      ]
    },
    {
      "cell_type": "code",
      "execution_count": null,
      "metadata": {
        "_cell_guid": "5d01666b-60f5-62c5-ce35-c21a7365483e"
      },
      "outputs": [],
      "source": [
        "test = test.drop(\"loss\",axis=1)\n",
        "ids = test.id\n",
        "test = test.drop(\"id\",axis=1)\n",
        "test.shape"
      ]
    },
    {
      "cell_type": "code",
      "execution_count": null,
      "metadata": {
        "_cell_guid": "9edabf88-0fb8-7cba-b158-7aad0b4ba819"
      },
      "outputs": [],
      "source": [
        "train_loss = train.loss\n",
        "train =train.drop(\"loss\",axis=1)\n",
        "train = train.drop(\"id\",axis = 1)"
      ]
    },
    {
      "cell_type": "code",
      "execution_count": null,
      "metadata": {
        "_cell_guid": "dc63e318-63c9-113d-8f98-3e58d9c6da67"
      },
      "outputs": [],
      "source": [
        "from sklearn.model_selection import train_test_split\n",
        "X_train, X_test, y_train, y_test = train_test_split(train,train_loss, test_size=0.3, random_state=42)"
      ]
    },
    {
      "cell_type": "markdown",
      "metadata": {
        "_cell_guid": "1c21ad5a-ea32-a01c-6ca4-fa46de870700"
      },
      "source": [
        "###First run with all features"
      ]
    },
    {
      "cell_type": "code",
      "execution_count": null,
      "metadata": {
        "_cell_guid": "382e6324-369c-aacb-a251-a84c2219739d"
      },
      "outputs": [],
      "source": [
        "from sklearn.model_selection import cross_val_score\n",
        "from xgboost import XGBRegressor\n",
        "xgb = XGBRegressor(n_estimators=200)\n",
        "xgb.fit(X_train, y_train)\n",
        "train_acc = xgb.score(X_train,y_train)\n",
        "print(\"Train Accuracy\")\n",
        "print(train_acc.mean())\n",
        "\n",
        "print(\"Cv Accuracy\")\n",
        "scores = cross_val_score(xgb,X_test,y_test,scoring = 'r2')\n",
        "scores.mean()"
      ]
    },
    {
      "cell_type": "code",
      "execution_count": null,
      "metadata": {
        "_cell_guid": "7ac664fe-5b52-4db2-122b-24ca93d1a06a"
      },
      "outputs": [],
      "source": [
        "feature_df = pd.DataFrame({\"Feature\":list(train.columns),\"Importance\":xgb.feature_importances_})\n",
        "feature_df=feature_df.sort_values(by=\"Importance\",ascending=False)\n",
        "feature_df.head()"
      ]
    },
    {
      "cell_type": "code",
      "execution_count": null,
      "metadata": {
        "_cell_guid": "f975b184-8dab-56c7-7473-aa910986ea54"
      },
      "outputs": [],
      "source": [
        "feature_df = feature_df.loc[feature_df.Importance > 0]\n",
        "feature_df.shape"
      ]
    },
    {
      "cell_type": "markdown",
      "metadata": {
        "_cell_guid": "a178e4e5-36d4-37b1-b7fd-191838b1ccd7"
      },
      "source": [
        "###Training again without features whose importance was 0."
      ]
    },
    {
      "cell_type": "code",
      "execution_count": null,
      "metadata": {
        "_cell_guid": "00e00fe9-204e-3132-9e68-7332acf49913"
      },
      "outputs": [],
      "source": [
        "train2 = train[feature_df.Feature]\n",
        "train2.shape"
      ]
    },
    {
      "cell_type": "code",
      "execution_count": null,
      "metadata": {
        "_cell_guid": "338cf022-9993-6df7-c6a7-dd5522d3afc1"
      },
      "outputs": [],
      "source": [
        "X_train, X_test, y_train, y_test = train_test_split(train2,train_loss, test_size=0.3, random_state=42)"
      ]
    },
    {
      "cell_type": "code",
      "execution_count": null,
      "metadata": {
        "_cell_guid": "9b1c1334-0eb0-fdfc-6dad-7d1d76c58001"
      },
      "outputs": [],
      "source": [
        "xgb = XGBRegressor(n_estimators=200)\n",
        "xgb.fit(X_train, y_train)\n",
        "train_acc = xgb.score(X_train,y_train)\n",
        "print(\"Train Accuracy\")\n",
        "print(train_acc.mean())\n",
        "\n",
        "print(\"Cv Accuracy\")\n",
        "scores = cross_val_score(xgb,X_test,y_test,scoring = 'r2')\n",
        "scores.mean()"
      ]
    },
    {
      "cell_type": "code",
      "execution_count": null,
      "metadata": {
        "_cell_guid": "f2fac6d3-a083-c617-7fd6-c0377869976b"
      },
      "outputs": [],
      "source": [
        "len(xgb.feature_importances_)"
      ]
    },
    {
      "cell_type": "code",
      "execution_count": null,
      "metadata": {
        "_cell_guid": "0d3efa80-5f2f-2a6e-b9ab-dd83d03cce62"
      },
      "outputs": [],
      "source": [
        "feature_df = pd.DataFrame({\"Feature\":list(train2.columns),\"Importance\":xgb.feature_importances_})\n",
        "feature_df=feature_df.sort_values(by=\"Importance\",ascending=False)\n",
        "feature_df.head()"
      ]
    },
    {
      "cell_type": "code",
      "execution_count": null,
      "metadata": {
        "_cell_guid": "41534505-953a-5702-e1b1-87c4293b2842"
      },
      "outputs": [],
      "source": [
        "feature_df.Importance.describe()"
      ]
    },
    {
      "cell_type": "markdown",
      "metadata": {
        "_cell_guid": "c3d43e21-aa7a-49a7-d273-7ae3c777eb32"
      },
      "source": [
        "###Training again, with drastically reduced dimensionality."
      ]
    },
    {
      "cell_type": "code",
      "execution_count": null,
      "metadata": {
        "_cell_guid": "b7076411-1761-68c1-dabf-7b2c64673ff5"
      },
      "outputs": [],
      "source": [
        "feature_df = feature_df.loc[feature_df.Importance >= 0.01]\n",
        "feature_df.shape"
      ]
    },
    {
      "cell_type": "code",
      "execution_count": null,
      "metadata": {
        "_cell_guid": "e1772dde-c181-1b95-cd20-e8ec659f8153"
      },
      "outputs": [],
      "source": [
        "train3 = train[feature_df.Feature]\n",
        "train3.shape\n",
        "X_train, X_test, y_train, y_test = train_test_split(train3,train_loss, test_size=0.3, random_state=42)"
      ]
    },
    {
      "cell_type": "code",
      "execution_count": null,
      "metadata": {
        "_cell_guid": "49914fd9-f931-ab28-d2a3-56fd7f537c6b"
      },
      "outputs": [],
      "source": [
        "xgb = XGBRegressor(n_estimators=1000)\n",
        "xgb.fit(X_train, y_train)\n",
        "train_acc = xgb.score(X_train,y_train)\n",
        "print(\"Train Accuracy\")\n",
        "print(train_acc.mean())\n",
        "\n",
        "print(\"Cv Accuracy\")\n",
        "scores = cross_val_score(xgb,X_test,y_test,scoring = 'r2')\n",
        "scores.mean()"
      ]
    },
    {
      "cell_type": "code",
      "execution_count": null,
      "metadata": {
        "_cell_guid": "6b42e484-730a-2e7f-5dac-c6d59396b494"
      },
      "outputs": [],
      "source": [
        "feature_df = pd.DataFrame({\"Feature\":list(train3.columns),\"Importance\":xgb.feature_importances_})\n",
        "feature_df=feature_df.sort_values(by=\"Importance\",ascending=False)\n",
        "feature_df"
      ]
    },
    {
      "cell_type": "code",
      "execution_count": null,
      "metadata": {
        "_cell_guid": "2f0bc88e-f0c3-1505-f2b0-fa52442584fd"
      },
      "outputs": [],
      "source": [
        "test = test[train3.columns]"
      ]
    },
    {
      "cell_type": "code",
      "execution_count": null,
      "metadata": {
        "_cell_guid": "806ae6c7-5905-271d-a11a-e70721aaf4cb"
      },
      "outputs": [],
      "source": [
        "list(feature_df.Feature)"
      ]
    },
    {
      "cell_type": "code",
      "execution_count": null,
      "metadata": {
        "_cell_guid": "1c94d5e3-f330-f5e9-e2fc-0ba6144aaedc"
      },
      "outputs": [],
      "source": [
        "test.columns"
      ]
    },
    {
      "cell_type": "code",
      "execution_count": null,
      "metadata": {
        "_cell_guid": "22b97652-aaf5-23b4-e1e1-d5a1fc024432"
      },
      "outputs": [],
      "source": [
        "predictions = xgb.predict(test)"
      ]
    },
    {
      "cell_type": "code",
      "execution_count": null,
      "metadata": {
        "_cell_guid": "2ed67445-02ad-1e1f-41ec-b4a6451d39ca"
      },
      "outputs": [],
      "source": [
        ""
      ]
    },
    {
      "cell_type": "code",
      "execution_count": null,
      "metadata": {
        "_cell_guid": "357a733e-f5ff-ed46-8aea-c057279844e9"
      },
      "outputs": [],
      "source": [
        "results = {\"id\":list(ids),\"loss\":predictions}\n",
        "result_df = pd.DataFrame(results)\n",
        "result_df.head()"
      ]
    },
    {
      "cell_type": "code",
      "execution_count": null,
      "metadata": {
        "_cell_guid": "42609805-6644-34f6-c5b8-0e631824e56f"
      },
      "outputs": [],
      "source": [
        "result_df.to_csv('submission.csv',header=True, index_label='id')"
      ]
    },
    {
      "cell_type": "code",
      "execution_count": null,
      "metadata": {
        "_cell_guid": "b747137e-c16f-d484-d5c7-52127d41147b"
      },
      "outputs": [],
      "source": [
        "from sklearn.ensemble import RandomForestRegressor\n",
        "\n",
        "RFR = RandomForestRegressor()\n",
        "RFR.fit(X_train,y_train)\n",
        "train_acc = RFR.score(X_train,y_train)\n",
        "print(\"Train Accuracy\")\n",
        "print(train_acc.mean())\n",
        "scores = cross_val_score(RFR,X_test,y_test,scoring = 'r2')\n",
        "print(\"Cv Accuracy\")\n",
        "print(scores.mean())"
      ]
    },
    {
      "cell_type": "markdown",
      "metadata": {
        "_cell_guid": "b99464ac-ab7e-9c93-ee31-df545187e408"
      },
      "source": [
        "###GB"
      ]
    },
    {
      "cell_type": "code",
      "execution_count": null,
      "metadata": {
        "_cell_guid": "1b399bc0-4d65-6c76-28e1-2444ac31ce9e"
      },
      "outputs": [],
      "source": [
        "from sklearn.ensemble import GradientBoostingRegressor\n",
        "\n",
        "GB = GradientBoostingRegressor()\n",
        "GB.fit(X_train,y_train)\n",
        "train_acc = GB.score(X_train,y_train)\n",
        "print(\"Train Accuracy\")\n",
        "print(train_acc.mean())\n",
        "scores = cross_val_score(GB,X_test,y_test,scoring = 'r2')\n",
        "print(\"Cv Accuracy\")\n",
        "print(scores.mean())"
      ]
    },
    {
      "cell_type": "code",
      "execution_count": null,
      "metadata": {
        "_cell_guid": "50676014-3f44-776f-9a36-6ea08a2f03fc"
      },
      "outputs": [],
      "source": ""
    }
  ],
  "metadata": {
    "_change_revision": 0,
    "_is_fork": false,
    "kernelspec": {
      "display_name": "Python 3",
      "language": "python",
      "name": "python3"
    },
    "language_info": {
      "codemirror_mode": {
        "name": "ipython",
        "version": 3
      },
      "file_extension": ".py",
      "mimetype": "text/x-python",
      "name": "python",
      "nbconvert_exporter": "python",
      "pygments_lexer": "ipython3",
      "version": "3.6.0"
    }
  },
  "nbformat": 4,
  "nbformat_minor": 0
}