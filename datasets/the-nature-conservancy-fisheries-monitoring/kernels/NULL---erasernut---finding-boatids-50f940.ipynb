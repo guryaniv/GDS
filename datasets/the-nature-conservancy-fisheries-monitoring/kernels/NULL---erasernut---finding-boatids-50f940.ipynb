{
  "cells": [
    {
      "cell_type": "markdown",
      "metadata": {
        "_cell_guid": "763b4067-7a72-f235-015a-899337f9bdbe"
      },
      "source": [
        "## Resolving the Boat structure\n",
        "\n",
        "Here I'm going to try to cluster the images based on boat, automatically. This can be useful for us in a variety of ways, for example it would allow us to create a separate model for each boat, or mask out which parts of the boat can't contain fish in order to help our classifier detect the fish."
      ]
    },
    {
      "cell_type": "code",
      "execution_count": null,
      "metadata": {
        "_cell_guid": "1e66f784-36ea-d754-8e13-4b518122e935"
      },
      "outputs": [],
      "source": [
        "import pandas as pd\n",
        "import numpy as np\n",
        "import glob\n",
        "from sklearn import cluster\n",
        "from scipy.misc import imread\n",
        "import cv2\n",
        "import skimage.measure as sm\n",
        "# import progressbar\n",
        "import multiprocessing\n",
        "import random\n",
        "import matplotlib.pyplot as plt\n",
        "import seaborn as sns\n",
        "%matplotlib inline\n",
        "new_style = {'grid': False}\n",
        "plt.rc('axes', **new_style)\n",
        "\n",
        "# Function to show 4 images\n",
        "def show_four(imgs, title):\n",
        "    #select_imgs = [np.random.choice(imgs) for _ in range(4)]\n",
        "    select_imgs = [imgs[np.random.choice(len(imgs))] for _ in range(4)]\n",
        "    _, ax = plt.subplots(1, 4, sharex='col', sharey='row', figsize=(20, 3))\n",
        "    plt.suptitle(title, size=20)\n",
        "    for i, img in enumerate(select_imgs):\n",
        "        ax[i].imshow(img)\n",
        "\n",
        "# Function to show 8 images\n",
        "def show_eight(imgs, title):\n",
        "    select_imgs = [imgs[np.random.choice(len(imgs))] for _ in range(8)]\n",
        "    _, ax = plt.subplots(2, 4, sharex='col', sharey='row', figsize=(20, 6))\n",
        "    plt.suptitle(title, size=20)\n",
        "    for i, img in enumerate(select_imgs):\n",
        "        ax[i // 4, i % 4].imshow(img)"
      ]
    },
    {
      "cell_type": "code",
      "execution_count": null,
      "metadata": {
        "_cell_guid": "8e7db3d1-ec18-a08d-556a-ba15bc2eb4fd"
      },
      "outputs": [],
      "source": [
        "select = 500 # Only load 500 images for speed\n",
        "# Data loading\n",
        "train_files = sorted(glob.glob('../input/train/*/*.jpg'), key=lambda x: random.random())[:select]\n",
        "train = np.array([imread(img) for img in train_files])\n",
        "print('Length of train {}'.format(len(train)))"
      ]
    },
    {
      "cell_type": "markdown",
      "metadata": {
        "_cell_guid": "8ba73715-450f-e516-0fae-2031db9d3d9e"
      },
      "source": [
        "### Image Size\n",
        "\n",
        "The images in the training set are not all the same size, but rather there are a few distinct image sizes that we have to work with. Maybe there are some image sizes which only contain a single boat? Let's try treating the image sizes as BoatIDs and check!"
      ]
    },
    {
      "cell_type": "code",
      "execution_count": null,
      "metadata": {
        "_cell_guid": "f5d08060-612d-0277-2030-194ec363d60a"
      },
      "outputs": [],
      "source": [
        "print('Sizes in train:')\n",
        "shapes = np.array([str(img.shape) for img in train])\n",
        "pd.Series(shapes).value_counts()"
      ]
    },
    {
      "cell_type": "code",
      "execution_count": null,
      "metadata": {
        "_cell_guid": "52406413-eb79-ef86-ad36-8f9fc83c3787"
      },
      "outputs": [],
      "source": [
        "for uniq in pd.Series(shapes).unique():\n",
        "    show_four(train[shapes == uniq], 'Images with shape: {}'.format(uniq))\n",
        "    plt.show()"
      ]
    },
    {
      "cell_type": "markdown",
      "metadata": {
        "_cell_guid": "1527a6ad-88db-3533-bcd9-7a5277f22395"
      },
      "source": [
        "Here we can see that, with the exception of (854, 1518, 3), all the other image sizes all contain more than one boat. It looks like while this may be helpful, we need to take another approach to truly separate the boats.\n",
        "\n",
        "## Boat Clustering\n",
        "\n",
        "Here I'm just going to work on just these 500 loaded images for speed, but there's nothing stopping you from doing exactly the same thing with all the images.\n",
        "\n",
        "My approach has three steps:\n",
        "- Normalise all the images by subtracting the mean (of that image) and dividing by the stdev.\n",
        "- Treat the mean absolute pixel error between the images as the distance between the image.\n",
        "- Use this to create a precomputed distance matrix, and then pass the points to DBSCAN to create the boat clusters."
      ]
    },
    {
      "cell_type": "code",
      "execution_count": null,
      "metadata": {
        "_cell_guid": "81829c5d-bc2d-9938-cf35-16b26ff95f95"
      },
      "outputs": [],
      "source": [
        "# Function for computing distance between images\n",
        "def compare(args):\n",
        "    img, img2 = args\n",
        "    img = (img - img.mean()) / img.std()\n",
        "    img2 = (img2 - img2.mean()) / img2.std()\n",
        "    return np.mean(np.abs(img - img2))\n",
        "\n",
        "# Resize the images to speed it up.\n",
        "train = [cv2.resize(img, (224, 224), cv2.INTER_LINEAR) for img in train]\n",
        "\n",
        "# Create the distance matrix in a multithreaded fashion\n",
        "pool = multiprocessing.Pool(8)\n",
        "#bar = progressbar.ProgressBar(max=len(train))\n",
        "distances = np.zeros((len(train), len(train)))\n",
        "for i, img in enumerate(train): #enumerate(bar(train)):\n",
        "    all_imgs = [(img, f) for f in train]\n",
        "    dists = pool.map(compare, all_imgs)\n",
        "    distances[i, :] = dists"
      ]
    },
    {
      "cell_type": "markdown",
      "metadata": {
        "_cell_guid": "44cb4fa7-b3bb-f60a-0881-82b52d38f5bb"
      },
      "source": [
        "Now I have a NxN matrix where N is the number of images, denoting the distances between the images.\n",
        "\n",
        "Some clustering algorithms in SKLearn allow you to use a precomputed distance matrix instead of letting the algorithm compute it, which is very useful in cases like here where you can work out the distance between points but you can't give each image coordinates. Here I'll be using the DBSCAN algorithm.\n",
        "\n",
        "Let's take a peek at our distance matrix:"
      ]
    },
    {
      "cell_type": "code",
      "execution_count": null,
      "metadata": {
        "_cell_guid": "53f86c11-bb71-97b0-8604-fe8c19bcc3c7"
      },
      "outputs": [],
      "source": [
        "print(distances)\n",
        "plt.hist(distances.flatten(), bins=50)\n",
        "plt.title('Histogram of distance matrix')\n",
        "print('')"
      ]
    },
    {
      "cell_type": "markdown",
      "metadata": {
        "_cell_guid": "d0e8103e-9b2f-16e4-795a-d518d3083149"
      },
      "source": [
        "We can see here that we have an area below 0.8. My hypothesis is that this is the area where two images are of the same boat. By default, DBSCAN considers up to a 0.5 distance to be in the same cluster. I tweaked the parameters and found that 0.6 is the best value, which makes reasonable sense looking at the histogram."
      ]
    },
    {
      "cell_type": "code",
      "execution_count": null,
      "metadata": {
        "_cell_guid": "60ae0f5d-a3d6-4bb5-18b2-f2fe847ad493"
      },
      "outputs": [],
      "source": [
        "cls = cluster.DBSCAN(metric='precomputed', min_samples=5, eps=0.6)\n",
        "y = cls.fit_predict(distances)\n",
        "print(y)\n",
        "print('Cluster sizes:')\n",
        "print(pd.Series(y).value_counts())"
      ]
    },
    {
      "cell_type": "code",
      "execution_count": null,
      "metadata": {
        "_cell_guid": "efdf45b6-e794-28b2-784a-06eef3275437"
      },
      "outputs": [],
      "source": [
        "for uniq in pd.Series(y).value_counts().index:\n",
        "    if uniq != -1:\n",
        "        size = len(np.array(train)[y == uniq])\n",
        "        if size > 10:\n",
        "            show_eight(np.array(train)[y == uniq], 'BoatID: {} - Image count {}'.format(uniq, size))\n",
        "            plt.show()\n",
        "        else:\n",
        "            show_four(np.array(train)[y == uniq], 'BoatID: {} - Image count {}'.format(uniq, size))\n",
        "            plt.show()            "
      ]
    },
    {
      "cell_type": "markdown",
      "metadata": {
        "_cell_guid": "a27ea1a2-b5f1-5c63-77c9-9c9c791e967c"
      },
      "source": [
        "This is working surprisingly well!\n",
        "\n",
        "However, we have a bunch of images that haven't been clustered into any BoatID. There are two possible reasons for these:\n",
        "1. There are less than 5 images from the boat, which I have set as the threshold for a boatID.\n",
        "2. The distance function is not good enough to cluster the images (eg. some images may be in the night vs the day - this would break my algorithm.)"
      ]
    },
    {
      "cell_type": "code",
      "execution_count": null,
      "metadata": {
        "_cell_guid": "8a7ed1c0-da9e-0d5c-cec9-6142cb40c99f"
      },
      "outputs": [],
      "source": [
        "size = len(np.array(train)[y == -1])\n",
        "show_eight(np.array(train)[y == -1], 'BoatID: {} (Unclassified images) - Image count {}'.format(-1, size))"
      ]
    },
    {
      "cell_type": "markdown",
      "metadata": {
        "_cell_guid": "cf661938-0b26-def0-1662-40ff145153f5"
      },
      "source": [
        "Some of these I can cluster by eye, so it looks like the algorithm needs some tweaking to be able to cluster every image!\n",
        "\n",
        "However, I think this can be considered a sucess as I've managed to cluster the boats very precisely, while clustering >75% of the boats. Since this is unsupervised, it can be run on the test set to in order to understand which boat is which!\n",
        "\n",
        "Any feedback is very much appreciated, along with any upvotes for motivation ;)\n",
        "\n",
        "Good luck!"
      ]
    }
  ],
  "metadata": {
    "_change_revision": 0,
    "_is_fork": false,
    "kernelspec": {
      "display_name": "Python 3",
      "language": "python",
      "name": "python3"
    },
    "language_info": {
      "codemirror_mode": {
        "name": "ipython",
        "version": 3
      },
      "file_extension": ".py",
      "mimetype": "text/x-python",
      "name": "python",
      "nbconvert_exporter": "python",
      "pygments_lexer": "ipython3",
      "version": "3.6.0"
    }
  },
  "nbformat": 4,
  "nbformat_minor": 0
}