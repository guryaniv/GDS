{
  "cells": [
    {
      "cell_type": "markdown",
      "metadata": {
        "_cell_guid": "2c99a7fa-490e-c40a-295c-c3143c3f9ed5"
      },
      "source": [
        "# Introduction\n",
        "\n",
        "\n",
        "----------\n",
        "\n",
        "\n",
        "In my first Kaggle Kernel, I would like to experiment creating a predictive model using Python and KNIME Analytics. I am going to perform this using the Titanic shipwreck dataset because: (1) I am new to Kaggle and this dataset is regarded as the *Hello World* example of Machine Learning by the Kaggle community and (2) Personally, I find this problem very interesting. The aim of this notebook is not to create the best predictive model but to showcase the prototyping power of KNIME analytics.\n",
        "\n",
        "Basically, the dataset provides us with information about each passenger who was present on the Titanic just before the infamous shipwreck. This includes details about their name, age, gender, fare, ticket and whether or not they survived the shipwreck. We will use this information to create a predictive model which can predict the fate of passengers (with a reasonable accuracy). You can learn more about the dataset [here](https://www.kaggle.com/c/titanic).\n",
        "\n",
        "## KNIME Analytics\n",
        "I would strongly recommend [KNIME Analytics](https://www.knime.org/knime-analytics-platform) to anyone who is new to machine learning. The software has great tools that can be used to quickly prototype and test Machine Learning (ML) models for a given dataset, without having to spend pain-staking hours debugging errors in your scripts. It also seamlessly integrates with other data analytics tools, such as Python, R and Tableau. The modular data exploration platform allows users to visually create data workflows and this means that KNIME's learning curve is not as steep as those of other analytics tools. And the great thing about the platform is that it is completely *open-sourced*. \n",
        "\n",
        "This Kaggle notebook is intended to show the reader how helpful a KNIME workflow can be when scripting a predictive model. Prior to writing this notebook, I have already designed a simple ML workflow using KNIME analytics' intuitive tools. I will be using this workflow as a guidance to write a Python script that can perform complex classifications."
      ]
    },
    {
      "cell_type": "markdown",
      "metadata": {
        "_cell_guid": "fdcddf41-c119-79f3-9590-226bfb2645f2"
      },
      "source": [
        "# Data Exploration\n",
        "\n",
        "\n",
        "----------\n",
        "![KNIME workflow part 1][1]\n",
        "***Figure 1: The first and seconds parts of the KNIME workflow diagram highlights the nodes used in the data importing and pre-processing operations.*** \n",
        "\n",
        "\n",
        "  [1]: https://i.imgur.com/9e3RHU1.png"
      ]
    },
    {
      "cell_type": "code",
      "execution_count": null,
      "metadata": {
        "_cell_guid": "c0911c93-b478-1e66-ff87-e0a1b88eff99"
      },
      "outputs": [],
      "source": [
        "# Let's start off by importing the relevant libraries\n",
        "import pandas as pd\n",
        "import numpy as np\n",
        "import math\n",
        "import itertools\n",
        "import matplotlib.pyplot as plt\n",
        "from sklearn.model_selection import train_test_split\n",
        "from sklearn.tree import DecisionTreeClassifier\n",
        "from sklearn.metrics import confusion_matrix\n",
        "\n",
        "# Import training and test sets into the scripts\n",
        "raw_training_df = pd.read_csv(\"../input/train.csv\") # creates a Pandas data frame for training set\n",
        "raw_test_df  = pd.read_csv(\"../input/test.csv\") # similarly, creates a Pandas data frame for test set\n",
        "\n",
        "# print(training_df) # Display training data (optional)\n",
        "# print(test_df) # Display test data (optional)"
      ]
    },
    {
      "cell_type": "markdown",
      "metadata": {
        "_cell_guid": "03b1125d-c215-143c-c165-a682cc506e3d"
      },
      "source": [
        "Once we imported the data into our script, it is crucial to *briefly* explore the data. You might have realised that this is an example of a supervised-learning and binary classification problem - we are required to classify the passengers listed in the test dataset into survivors (Survived = 1) and non-survivors (Survived = 0). Therefore, it necessary to check the skewness of the class labels in the training dataset. "
      ]
    },
    {
      "cell_type": "code",
      "execution_count": null,
      "metadata": {
        "_cell_guid": "5323ee5d-4037-656b-d1b8-efb2aa043f95"
      },
      "outputs": [],
      "source": [
        "# Plot a frequency histograms for the classes\n",
        "count_classes = pd.value_counts(raw_training_df['Survived'], sort = True).sort_index()\n",
        "count_classes.plot(kind = 'bar')\n",
        "plt.title(\"Class Label Histogram\")\n",
        "plt.xlabel(\"Class\")\n",
        "plt.ylabel(\"Frequency\")"
      ]
    },
    {
      "cell_type": "markdown",
      "metadata": {
        "_cell_guid": "2296a60a-44d8-e631-e759-a8de4796f959"
      },
      "source": [
        "From the histogram above it clear that the dataset contains more negative class labels (non-survivors) than positive (survivors) ones. However, it is not heavily imbalanced and thus we would not expect it to reduce the accuracy of our predictive model."
      ]
    },
    {
      "cell_type": "markdown",
      "metadata": {
        "_cell_guid": "f972560a-a6fe-238d-56c2-91a0ddfe1fe4"
      },
      "source": [
        "#Data Pre-Processing\n",
        "\n",
        "\n",
        "----------\n",
        "\n",
        "\n",
        "Our dataset contains a lot of information about each passenger. While some information, such as passenger age and their cabin location, may help determine a person's chances of survival, other information, such the passenger name and ticket details, would be futile. Thus, these can be considered as redundant feature labels that could potentially reduce the performance of our model. So, it would be wise to discard the information."
      ]
    },
    {
      "cell_type": "code",
      "execution_count": null,
      "metadata": {
        "_cell_guid": "1a42cc6b-160a-a152-703f-69e73d3fccca"
      },
      "outputs": [],
      "source": [
        "# Remove the 'Name' and 'Ticket' columns from the dataframes \n",
        "training_df = raw_training_df.drop(['Name', 'Ticket'], axis=1)\n",
        "\n",
        "# print(training_df.columns) # List column names (Optional)"
      ]
    },
    {
      "cell_type": "markdown",
      "metadata": {
        "_cell_guid": "1303279a-964b-5998-9af1-da39f5c5ccb0"
      },
      "source": [
        "The dataset contains a lot of *missing values*. Removing the rows with missing values from the data set would result in significant loss of valuable information. To circumvent this problem, we will insert alternative values into these empty fields.  *Note: There are different ways to handle missing values and the method we choose will have a significant impact on the classifier performance. Therefore, it would be wise to experiment with different methods.* For the sake of simplicity, we will use *mean insertion* for the numeric columns and *fixed-value insertion* for columns containing strings."
      ]
    },
    {
      "cell_type": "code",
      "execution_count": null,
      "metadata": {
        "_cell_guid": "fcc007da-f093-6add-0c29-fb135e07378d"
      },
      "outputs": [],
      "source": [
        "# Fill in emtpy fields in the 'Cabin' column with the string 'unknown'\n",
        "training_df['Cabin'] = training_df['Cabin'].fillna('unknown') # Mean age of the passengers happens to be 30."
      ]
    },
    {
      "cell_type": "code",
      "execution_count": null,
      "metadata": {
        "_cell_guid": "cc8338dc-d8cb-74dc-92ea-9d01e3630f60"
      },
      "outputs": [],
      "source": [
        "# Use the mean 'Age' value for empty fields in the 'Age' column\n",
        "training_df['Age'] = training_df['Age'].fillna(math.ceil(training_df['Age'].mean()))\n",
        "\n",
        "# training_df.tail(100) # Show last 100 entries (Optional)"
      ]
    },
    {
      "cell_type": "markdown",
      "metadata": {
        "_cell_guid": "5a33e451-ae12-8ef6-d76a-be06bbdb0f62"
      },
      "source": [
        "[Lawrence Chernin](https://www.kaggle.com/c/titanic/discussion/7540) has tested the raw dataset using a number of different machine learning methods. In his investigation, Lawrence found that the decision tree classifier works well for this dataset. Therefore, I have gone ahead and chose the classifier.\n",
        "\n",
        "In order to feed in the data into a decision tree classifier, we need to convert strings into float data types.  Luckily, I found a function, written by [Chris Strelioff](http://chrisstrelioff.ws/sandbox/2015/06/08/decision_trees_in_python_with_scikit_learn_and_pandas.html), that achieves this in just a few lines of code. His code looks for unique values in a given column to create categories and encodes the categorical values using numerical values (for detailed explaination see [this](http://www.kdnuggets.com/2015/12/beyond-one-hot-exploration-categorical-variables.html))."
      ]
    },
    {
      "cell_type": "code",
      "execution_count": null,
      "metadata": {
        "_cell_guid": "c30befae-912c-de17-4702-d745219e5448"
      },
      "outputs": [],
      "source": [
        "'''\n",
        "    Credit for the following function goes to Chris Strelioff \n",
        "    (http://chrisstrelioff.ws/sandbox/2015/06/08/decision_trees_in_python_with_scikit_learn_and_pandas.html)\n",
        "'''\n",
        "def encode_target(df, target_column):\n",
        "    df_mod = df.copy()\n",
        "    targets = df_mod[target_column].unique()\n",
        "    map_to_int = {name: n for n, name in enumerate(targets)}\n",
        "    df_mod[target_column] = df_mod[target_column].replace(map_to_int)\n",
        "\n",
        "    return (df_mod, targets) # Returns modified dataframe and an array containing the different values encountered in a column\n",
        "\n",
        "training_df, sex_targets = encode_target(training_df, \"Sex\")\n",
        "\n",
        "training_df, embarked_targets = encode_target(training_df, \"Embarked\")\n",
        "\n",
        "training_df, cabin_targets = encode_target(training_df, \"Cabin\")\n",
        "\n",
        "# training_df.tail(100) # Display the last 100 entries (Optional)"
      ]
    },
    {
      "cell_type": "code",
      "execution_count": null,
      "metadata": {
        "_cell_guid": "a87b2c3c-51ba-fe3d-6711-a5593f1620b6"
      },
      "outputs": [],
      "source": [
        "# Assign class features to the variable 'X'\n",
        "X = training_df.ix[:, training_df.columns != 'Survived']\n",
        "\n",
        "# Assign class labels to the variable 'y'\n",
        "y = training_df.ix[:, training_df.columns == 'Survived']"
      ]
    },
    {
      "cell_type": "markdown",
      "metadata": {
        "_cell_guid": "6ce4b0ff-0e64-7149-0aa6-ac81110a3d77"
      },
      "source": [
        "Our test set does not specify which passenger survived and which passenger did not. In order to evaluate the performance of our classifier later, it is necessary to create a *cross-validation set* from the training dataset at this stage. Let's go with a 7:3 split - that is 70% of the training data will be used to train the classier and 30% for evaluating its accuracy. This is an important step as the classifier should not be tested on the data it has already been trained with."
      ]
    },
    {
      "cell_type": "code",
      "execution_count": null,
      "metadata": {
        "_cell_guid": "41763f93-5a39-6624-760b-625fc06e5972"
      },
      "outputs": [],
      "source": [
        "# Create a cross-validation (CV) set from the existing data set\n",
        "X_train, X_CV, y_train, y_CV = train_test_split(X,y,test_size = 0.3, random_state = 0)"
      ]
    },
    {
      "cell_type": "markdown",
      "metadata": {
        "_cell_guid": "74be4c7c-afa1-40c3-369f-3a99b1a89674"
      },
      "source": [
        "#Training and Evaluating the Classifier\n",
        "\n",
        "\n",
        "----------\n",
        "![KNIME workflow part 2][1]\n",
        "***Figure 2: The third part of the KNIME workflow diagram highlights the nodes used for evaluating the ML model.*** \n",
        "\n",
        "\n",
        "\n",
        "\n",
        "\n",
        "  [1]: https://i.imgur.com/XVm6kRY.png"
      ]
    },
    {
      "cell_type": "code",
      "execution_count": null,
      "metadata": {
        "_cell_guid": "beed06bf-3b70-c758-d42e-4a2a1b779717"
      },
      "outputs": [],
      "source": [
        "dt = DecisionTreeClassifier(min_samples_split=20, random_state=99) # Declare a decision tree clasifier\n",
        "dt.fit(X_train, y_train) # Fit the classifier to the training set\n",
        "y_pred = dt.predict(X_CV) # Predict class labels for the cross-validation set"
      ]
    },
    {
      "cell_type": "markdown",
      "metadata": {
        "_cell_guid": "d3993c95-b926-e741-0b8c-b6f299e95412"
      },
      "source": [
        "Now that we have trained the classifier and made some predictions for the cross-validation set, we can test the accuracy of the predictions using the following metrics: recall, precision, f1-score and accuracy. In order to calculate these metrics, we require a [confusion matrix](http://www.dataschool.io/simple-guide-to-confusion-matrix-terminology/) for the cross-validation dataset predictions."
      ]
    },
    {
      "cell_type": "code",
      "execution_count": null,
      "metadata": {
        "_cell_guid": "31ac9170-c3e2-b889-c8fd-2e751b053d07"
      },
      "outputs": [],
      "source": [
        "'''\n",
        "    Credit for the following confuction matrix function goes to\n",
        "    http://scikit-learn.org/stable/auto_examples/model_selection/plot_confusion_matrix.html\n",
        "'''\n",
        "def plot_confusion_matrix(cm, classes,\n",
        "                          normalize=False,\n",
        "                          title='Confusion matrix',\n",
        "                          cmap=plt.cm.Blues):\n",
        "\n",
        "    plt.imshow(cm, interpolation='nearest', cmap=cmap)\n",
        "    plt.title(title)\n",
        "    plt.colorbar()\n",
        "    tick_marks = np.arange(len(classes))\n",
        "    plt.xticks(tick_marks, classes, rotation=45)\n",
        "    plt.yticks(tick_marks, classes)\n",
        "\n",
        "    print(cm)\n",
        "\n",
        "    thresh = cm.max() / 2.\n",
        "    for i, j in itertools.product(range(cm.shape[0]), range(cm.shape[1])):\n",
        "        plt.text(j, i, cm[i, j],\n",
        "                 horizontalalignment=\"center\",\n",
        "                 color=\"white\" if cm[i, j] > thresh else \"black\")\n",
        "\n",
        "    plt.tight_layout()\n",
        "    plt.ylabel('True label')\n",
        "    plt.xlabel('Predicted label')\n",
        "    \n",
        "# Compute confusion matrix\n",
        "cnf_matrix = confusion_matrix(y_CV, y_pred)\n",
        "np.set_printoptions(precision=2)\n",
        "\n",
        "# Plot non-normalized confusion matrix\n",
        "plt.figure()\n",
        "plot_confusion_matrix(cnf_matrix, classes=[0, 1],\n",
        "                      title='Confusion matrix')\n",
        "\n",
        "plt.show()"
      ]
    },
    {
      "cell_type": "markdown",
      "metadata": {
        "_cell_guid": "1203ce83-4937-328b-5956-9d947d9d6486"
      },
      "source": [
        "**The metrics were calculated as described below:**\n",
        "\n",
        "P = precision = true positives / predicted positives\n",
        "\n",
        "R = recall = true positives / actual positives\n",
        "\n",
        "f1 = 2 * ((RP)/(R+P))\n",
        "\n",
        "accuracy = (true positives + true negatives)/total"
      ]
    },
    {
      "cell_type": "code",
      "execution_count": null,
      "metadata": {
        "_cell_guid": "296b1165-e382-635e-c97b-96c65ad1437c"
      },
      "outputs": [],
      "source": [
        "prec = cnf_matrix[1,1] / (cnf_matrix[0,1] + cnf_matrix[1,1])\n",
        "print(\"The precision of the ML model is \", round(prec, 3))\n",
        "\n",
        "recl = cnf_matrix[1,1] / (cnf_matrix[1,0] + cnf_matrix[1,1])\n",
        "print(\"The recall of the ML model is \", round(recl, 3))\n",
        "\n",
        "f1 = 2*((recl*prec)/(recl+prec))\n",
        "print(\"The f1-score of the ML model is %f.\" % round(f1, 3))\n",
        "\n",
        "acc = (cnf_matrix[1,1] + cnf_matrix[0,0]) / ((cnf_matrix[0,1] + cnf_matrix[1,1]) + cnf_matrix[0,0] + cnf_matrix[1,0])\n",
        "print(\"The accuracy of the ML model is \", round(acc, 3))"
      ]
    },
    {
      "cell_type": "markdown",
      "metadata": {
        "_cell_guid": "045e2c08-1df8-7cea-ebbf-b0861e8877ea"
      },
      "source": [
        "The *precision* metric tells us what proportion of passengers we predicted as having survived actually had survived, while the *recall* gives the proportion of passengers that actually had survived were predicted by us as having survived. An f1-score combines these metrics to create a single value metric. For the current classifier, we have obtained an f1-score of 0.70 and this informs us that our classifier is flagging up true positives reasonably well. The high accuracy metric score of 0.79 indicates that our classifier is reasonably good at identifying true positives and true negatives. Since these metrics are equal to and greater than 0.70, we can go ahead and use this classier to make predictions for the original test dataset."
      ]
    },
    {
      "cell_type": "markdown",
      "metadata": {
        "_cell_guid": "f2bffbd0-3212-32fb-ffd6-63acbd9c6225"
      },
      "source": [
        "#So who has survived the shipwreck?\n",
        "\n",
        "\n",
        "----------\n",
        "![KNIME workflow part 3][1]\n",
        "***Figure 3: The final two parts of the KNIME workflow diagram highlights the nodes used in the class prediction and data export operations.*** \n",
        "\n",
        "\n",
        "Now that we have a working classifier that yields a reasonable accuracy score, we can predict class labels for the passengers listed in the original test dataset. Above, we have only used a subset of the original training set for training the model. This time will use the whole dataset for training as this could help increase the accuracy of our classifier. Before we feed the data (both training and test) into the classifier, we need to pre-process using the same operations as before. Finally, we can separate the columns in the training set into class features (**X**) and class labels (**y**).\n",
        "\n",
        "\n",
        "  [1]:https://i.imgur.com/Y4aOBrI.png"
      ]
    },
    {
      "cell_type": "code",
      "execution_count": null,
      "metadata": {
        "_cell_guid": "d1ef9c57-fc60-3870-783c-12d6f5658c6a"
      },
      "outputs": [],
      "source": [
        "'''\n",
        "    Before we feed the dataset into the classier,\n",
        "    Let's define a function that pre-processes it using the same operations.\n",
        "''' \n",
        "def pre_process(df):\n",
        "    mod_df = df.drop(['Name', 'Ticket'], axis=1)\n",
        "    mod_df['Cabin'] = df['Cabin'].fillna('unknown')\n",
        "    mod_df['Fare'] = df['Fare'].fillna(math.ceil(df['Fare'].mean())) # This is a new line see next line for explanation\n",
        "    mod_df['Age'] = df['Age'].fillna(math.ceil(df['Age'].mean()))\n",
        "    \n",
        "    mod_df, sex_targets = encode_target(mod_df, \"Sex\")\n",
        "    mod_df, embarked_targets = encode_target(mod_df, \"Embarked\")\n",
        "    mod_df, cabin_targets = encode_target(mod_df, \"Cabin\")\n",
        "    \n",
        "    return mod_df # return modified dataframe\n",
        "\n",
        "# Pre-process the whole training dataset\n",
        "whole_training_df = pre_process(raw_training_df)\n",
        "# Remember we need to pre-process the test dataset similarly \n",
        "test_df = pre_process(raw_test_df)\n",
        "\n",
        "# Assign class features to the variable 'X' for training set \n",
        "X = whole_training_df.ix[:, whole_training_df.columns != 'Survived']\n",
        "# Assign class labels to the variable 'y' for training set\n",
        "y = whole_training_df.ix[:, whole_training_df.columns == 'Survived']"
      ]
    },
    {
      "cell_type": "markdown",
      "metadata": {
        "_cell_guid": "f3dfcd4f-520a-fca1-4492-bdfb7bd3f386"
      },
      "source": [
        "I encountered an error when I attempted to predict classes for the test set, because the **Fare** column contained empty values (i.e. NaN). This was simply resolved by adding an extra line of code to the existing *pre-process*  function in the previous cell."
      ]
    },
    {
      "cell_type": "code",
      "execution_count": null,
      "metadata": {
        "_cell_guid": "dd36e267-a43d-f14d-2a2a-cc174ed1adef"
      },
      "outputs": [],
      "source": [
        "# The following code was used to debug the error caused by the test set \n",
        "\n",
        "# np.all(np.isfinite(test_df)) # This returned true\n",
        "# np.any(np.isnan(test_df)) # This returned true\n",
        "# test_df.isnull().any() # This was used to check for NaN values in all columns"
      ]
    },
    {
      "cell_type": "code",
      "execution_count": null,
      "metadata": {
        "_cell_guid": "0af0b3ec-e53d-f0bb-ed56-ac477e4b8805"
      },
      "outputs": [],
      "source": [
        "dt = DecisionTreeClassifier(min_samples_split=20, random_state=99) # Declare a decision tree clasifier\n",
        "dt.fit(X, y) # Train the classifier using the entire training set\n",
        "y_pred = dt.predict(test_df) # Predict class labels for test set\n",
        "\n",
        "# Now lets create a new table for submission to Kaggle accuracy scoring.\n",
        "# This should only contain the PassengerIds and predicted class labels(Survived).\n",
        "submission =  pd.DataFrame(\n",
        "    {'PassengerId': raw_test_df['PassengerId'], \n",
        "     'Survived': y_pred\n",
        "    })\n",
        "\n",
        "# Save submission file\n",
        "submission.to_csv(\"submission_file.csv\", sep=',', encoding='utf-8', index=False)\n",
        "# submission_file.csv will submitted to Kaggle for accuracy evaluation\n",
        "\n",
        "# Now lets create another table that contains the PassengerIds, Sexes and class labels (Survived).\n",
        "# This will be used for data visulisation in the next step.\n",
        "results =  pd.DataFrame(\n",
        "    {'PassengerId': raw_test_df['PassengerId'], \n",
        "     'Sex': raw_test_df['Sex'], \n",
        "     'Survived': y_pred\n",
        "    })\n",
        "\n",
        "# results.head(100) # Show the table (Optional)\n",
        "\n",
        "# Save output file\n",
        "results.to_csv(\"class_predictions.csv\", sep=',', encoding='utf-8', index=False)\n",
        "\n",
        "# Check the 'Output' tab at the top of the web page to view the csv file."
      ]
    },
    {
      "cell_type": "markdown",
      "metadata": {
        "_cell_guid": "1be91a33-87dc-6e29-85a0-edc373d18d22"
      },
      "source": [
        "The submitted predictions scored a Kaggle accuracy score of 0.80383. The 0.01683 increase in the accuracy score clearly indicates that the newly trained classifier is an improvement on the previous classifier, which was trained using only a subset of the training data."
      ]
    },
    {
      "cell_type": "markdown",
      "metadata": {
        "_cell_guid": "9329e747-61e4-a345-c539-f188ade7bc61"
      },
      "source": [
        "## Data Visualisation \n",
        "Using the power of **[Tableau](https://www.tableau.com/)** and the exported CSV output file, I have visualised the class predictions for the passengers listed in the test dataset. I had some difficulties visualising the data, but eventually found a way to condense all of the necessary information in one diagram."
      ]
    },
    {
      "cell_type": "markdown",
      "metadata": {
        "_cell_guid": "4fb46419-2ccf-3936-abcd-497dc4a08d33"
      },
      "source": [
        "![Class Predictions][1]\n",
        "***Figure 4: A diagram containing the survival prediction for each passenger in the testing data set and a breakdown of the survivors according to their sexes.*** \n",
        "\n",
        "  [1]:https://i.imgur.com/U2aR6SV.png"
      ]
    },
    {
      "cell_type": "markdown",
      "metadata": {
        "_cell_guid": "28728b4f-92c5-763e-d063-ea7e20fa93e0"
      },
      "source": [
        "In **Figure 4**, the PassengerId increases from left to right and from top to bottom: The blue cross at the top left corner represents the first passenger in our test set (PassengerId = 892) and the same symbol located far right in the last row represents the last passenger (PassengerId = 1309). Unfortunately, our classifier predicted that both of them will not have survived the shipwreck. The data visualisation clearly shows that only a small fraction (15/125) of our survivors are males. This is an interesting insight but certainly comes as no surprise, since women and children were given priority to the lifeboats during the Titanic shipwreck. Perhaps in another Kaggle Kernel we could do a little more investigation to test this hypothesis."
      ]
    },
    {
      "cell_type": "markdown",
      "metadata": {
        "_cell_guid": "3f1449f1-ddc6-e116-3c5b-14aff3fec586"
      },
      "source": [
        "#Final Remarks\n",
        "\n",
        "\n",
        "----------\n",
        "\n",
        "\n",
        "In this Kernel,  we have written a predictive model with the help of a workflow created in KNIME analytics and the ML model achieved a Kaggle accuracy score of 0.80 (= 80%). This score could be improved by doing a number of things to the model, such as optimising certain classifier parameters or using advanced feature extraction techniques (*i.e.* improving the current pre-processing function). The existing classifier could be suffering from high variance or high bias - we could employ a number of tools to diagnose the issue and subsequently fix it. One could also use a linear combination of different classifiers to achieve really good predictions. According to the [leaderboard](https://www.kaggle.com/c/titanic/leaderboard), there are more sophisticated ML models for this problem that can make predictions with 100% accuracy. \n",
        "\n",
        "The only drawback I have experienced with KNIME analytics was that it was relatively slow when compared to Python. However, I found that KNIME's easy-to-use UX and caching abilities compensated well for the slow speed. In this notebook, I have used KNIME's 'ready-made'  *Learner* and *Predictor* workflow nodes and personally, I found it restrictive due to the lack of some adjustable ML parameters (For example, when working with neural networks I was not able to modify the regularisation parameter). Nevertheless, it is possible to create bespoke ML models using the *Python nodes*. I hope I have clearly illustrated how easy it is to translate a workflow into a functional Python script. If used properly KNIME Analytics could be a data analyst's best friend.\n",
        "\n",
        "*If you have any questions or suggestions for me, please feel free to leave a comment on this Kernel and I will try my best to address it.*"
      ]
    }
  ],
  "metadata": {
    "_change_revision": 0,
    "_is_fork": false,
    "kernelspec": {
      "display_name": "Python 3",
      "language": "python",
      "name": "python3"
    },
    "language_info": {
      "codemirror_mode": {
        "name": "ipython",
        "version": 3
      },
      "file_extension": ".py",
      "mimetype": "text/x-python",
      "name": "python",
      "nbconvert_exporter": "python",
      "pygments_lexer": "ipython3",
      "version": "3.6.0"
    }
  },
  "nbformat": 4,
  "nbformat_minor": 0
}