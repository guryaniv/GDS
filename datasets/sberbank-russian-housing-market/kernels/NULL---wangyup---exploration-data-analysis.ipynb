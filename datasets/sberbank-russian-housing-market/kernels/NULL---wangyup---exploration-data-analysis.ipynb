{
  "cells": [
    {
      "cell_type": "code",
      "execution_count": null,
      "metadata": {
        "_cell_guid": "fd5ec76b-ada6-586a-6cf4-8f0a8f1b1ff7"
      },
      "outputs": [],
      "source": [
        "# This Python 3 environment comes with many helpful analytics libraries installed\n",
        "# It is defined by the kaggle/python docker image: https://github.com/kaggle/docker-python\n",
        "# For example, here's several helpful packages to load in \n",
        "\n",
        "import numpy as np # linear algebra\n",
        "import pandas as pd # data processing, CSV file I/O (e.g. pd.read_csv)\n",
        "import matplotlib.pyplot as plt\n",
        "import seaborn as sns\n",
        "from sklearn.ensemble import RandomForestRegressor\n",
        "from sklearn.ensemble import GradientBoostingRegressor\n",
        "from sklearn.linear_model import Lasso\n",
        "# Input data files are available in the \"../input/\" directory.\n",
        "# For example, running this (by clicking run or pressing Shift+Enter) will list the files in the input directory\n",
        "\n",
        "from subprocess import check_output\n",
        "print(check_output([\"ls\", \"../input\"]).decode(\"utf8\"))\n",
        "\n",
        "# Any results you write to the current directory are saved as output."
      ]
    },
    {
      "cell_type": "code",
      "execution_count": null,
      "metadata": {
        "_cell_guid": "720f4f95-8494-ca73-d662-ffb43593958f"
      },
      "outputs": [],
      "source": [
        "train_mat = pd.read_csv('../input/train.csv')\n",
        "test_mat = pd.read_csv('../input/test.csv')\n",
        "macro_mat = pd.read_csv('../input/macro.csv')\n",
        "train_mat = pd.merge(left=train_mat, right=macro_mat, how='left', on='timestamp')\n",
        "test_mat = pd.merge(left=test_mat, right=macro_mat, how='left', on='timestamp')"
      ]
    },
    {
      "cell_type": "code",
      "execution_count": null,
      "metadata": {
        "_cell_guid": "293a8b5a-4949-a033-2d1e-a3304a6f16e2"
      },
      "outputs": [],
      "source": [
        "missing_values = pd.DataFrame(train_mat.isnull().astype(np.int64).sum().reset_index())\n",
        "missing_values.columns = ['fea_name', 'missing_count']\n",
        "missing_values = missing_values[missing_values.missing_count > 0]\n",
        "missing_values.ix[:, 'pre'] = missing_values.missing_count.apply(lambda x: float(x) / len(train_mat))"
      ]
    },
    {
      "cell_type": "code",
      "execution_count": null,
      "metadata": {
        "_cell_guid": "0c22fc08-f067-8746-4218-bb826e324e14"
      },
      "outputs": [],
      "source": [
        "missing_values = missing_values.sort_values(by='missing_count')\n",
        "missing_values"
      ]
    },
    {
      "cell_type": "code",
      "execution_count": null,
      "metadata": {
        "_cell_guid": "db1332d2-ac94-0574-e8ad-8fc8c7226c4a"
      },
      "outputs": [],
      "source": [
        "sns.barplot(x='missing_count', y='fea_name', data=missing_values)"
      ]
    }
  ],
  "metadata": {
    "_change_revision": 0,
    "_is_fork": false,
    "kernelspec": {
      "display_name": "Python 3",
      "language": "python",
      "name": "python3"
    },
    "language_info": {
      "codemirror_mode": {
        "name": "ipython",
        "version": 3
      },
      "file_extension": ".py",
      "mimetype": "text/x-python",
      "name": "python",
      "nbconvert_exporter": "python",
      "pygments_lexer": "ipython3",
      "version": "3.6.0"
    }
  },
  "nbformat": 4,
  "nbformat_minor": 0
}