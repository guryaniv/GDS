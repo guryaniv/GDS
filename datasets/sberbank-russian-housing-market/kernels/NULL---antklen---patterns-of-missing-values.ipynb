{
  "cells": [
    {
      "cell_type": "markdown",
      "metadata": {
        "_cell_guid": "09127dc8-d891-2998-ebbf-d60231a23e43"
      },
      "source": [
        "There are a lot of missing values in the dataset. How are they spread across different timestamps, are there some patterns? We'll look at percent of missing values during different time periods for each feature."
      ]
    },
    {
      "cell_type": "code",
      "execution_count": null,
      "metadata": {
        "_cell_guid": "fb136d1f-3ac2-9b42-946b-c672b82cef6d"
      },
      "outputs": [],
      "source": [
        "import numpy as np\n",
        "import pandas as pd \n",
        "import seaborn as sns\n",
        "import matplotlib.pyplot as plt\n",
        "\n",
        "train = pd.read_csv('../input/train.csv')\n",
        "print(train.shape)\n",
        "test = pd.read_csv('../input/test.csv')\n",
        "print(test.shape)\n",
        "macro = pd.read_csv('../input/macro.csv')\n",
        "print(macro.shape)"
      ]
    },
    {
      "cell_type": "markdown",
      "metadata": {
        "_cell_guid": "be1e5761-7dc5-d5b3-5821-5558175780f1"
      },
      "source": [
        "Combine train and test set in one dataframe"
      ]
    },
    {
      "cell_type": "code",
      "execution_count": null,
      "metadata": {
        "_cell_guid": "160c0e3e-05ef-40f8-ad8d-719fbf47f43d"
      },
      "outputs": [],
      "source": [
        "full = pd.concat([train.drop('price_doc', axis=1), test])\n",
        "print(full.shape)"
      ]
    },
    {
      "cell_type": "markdown",
      "metadata": {
        "_cell_guid": "0de4a129-5709-adac-5cdc-0f6f16a0fc28"
      },
      "source": [
        "Extract year + month from timestamp"
      ]
    },
    {
      "cell_type": "code",
      "execution_count": null,
      "metadata": {
        "_cell_guid": "ad6d507b-9132-ed5d-34d5-5f091a05da03"
      },
      "outputs": [],
      "source": [
        "full['yearmonth'] = full.timestamp.map(lambda x: x[:7])\n",
        "train['yearmonth'] = train.timestamp.map(lambda x: x[:7])\n",
        "test['yearmonth'] = test.timestamp.map(lambda x: x[:7])\n",
        "macro['yearmonth'] = macro.timestamp.map(lambda x: x[:7])"
      ]
    },
    {
      "cell_type": "markdown",
      "metadata": {
        "_cell_guid": "a180ed3f-d1ed-db50-5844-62326819ec5e"
      },
      "source": [
        "There are different number of features in train and test with missing values"
      ]
    },
    {
      "cell_type": "code",
      "execution_count": null,
      "metadata": {
        "_cell_guid": "05f53ebe-da74-3bf5-f9e5-d8e559a08c28"
      },
      "outputs": [],
      "source": [
        "print('features with missing values in train', (train.isnull().sum()>0).sum())\n",
        "print('features with missing values in test', (test.isnull().sum()>0).sum())"
      ]
    },
    {
      "cell_type": "markdown",
      "metadata": {
        "_cell_guid": "98368385-526c-4fbf-0138-532beebafbba"
      },
      "source": [
        "Columns with missing values either in train or in test"
      ]
    },
    {
      "cell_type": "code",
      "execution_count": null,
      "metadata": {
        "_cell_guid": "fdc71bd9-1dbb-f167-ed59-2e8772daa19f"
      },
      "outputs": [],
      "source": [
        "cols_missing = full.columns[full.isnull().sum()>0].tolist()\n",
        "print(len(cols_missing))"
      ]
    },
    {
      "cell_type": "markdown",
      "metadata": {
        "_cell_guid": "4e929a56-a01f-6b76-3a88-4e75ad65e5c2"
      },
      "source": [
        "Aggregating by month and calculating fraction of missing values for each feature"
      ]
    },
    {
      "cell_type": "code",
      "execution_count": null,
      "metadata": {
        "_cell_guid": "2eea3c34-986e-5a12-1c5a-107660e1e58e"
      },
      "outputs": [],
      "source": [
        "miss_train = train.groupby('yearmonth')[cols_missing].agg(lambda x: x.isnull().mean()).T\n",
        "miss_test = test.groupby('yearmonth')[cols_missing].agg(lambda x: x.isnull().mean()).T\n",
        "miss_train.head()"
      ]
    },
    {
      "cell_type": "markdown",
      "metadata": {
        "_cell_guid": "180041e2-f4ba-57ce-c0a9-5ecda7d3620a"
      },
      "source": [
        "Plot heatmaps with month on x-axis and features on y-axis for train and test."
      ]
    },
    {
      "cell_type": "code",
      "execution_count": null,
      "metadata": {
        "_cell_guid": "a5cc98a6-e448-d77e-b785-b973fd0c5a1d"
      },
      "outputs": [],
      "source": [
        "fig, (ax1, ax2) = plt.subplots(1, 2, gridspec_kw = {'width_ratios':[3, 1]},\n",
        "                               sharey=True, figsize=(12,14))\n",
        "sns.heatmap(miss_train, ax=ax1, cbar=False, vmax=1, vmin=0)\n",
        "sns.heatmap(miss_test, ax=ax2, vmax=1, vmin=0)"
      ]
    },
    {
      "cell_type": "markdown",
      "metadata": {
        "_cell_guid": "a004e793-ed0d-68d5-9448-ecc6e2deda09"
      },
      "source": [
        "Patterns of missing values are very different in train set and test set. Some features fully absent during first half of train set. Some don't have missing values in the beginning, but have them later. Last part of train set looks quite similar to test set."
      ]
    },
    {
      "cell_type": "markdown",
      "metadata": {
        "_cell_guid": "fefd80e5-553d-7a12-21f5-3820f14ff07f"
      },
      "source": [
        "## Doing the same for macro features"
      ]
    },
    {
      "cell_type": "code",
      "execution_count": null,
      "metadata": {
        "_cell_guid": "4ee7b774-a6e8-62ba-a5ff-0122e9d98a54"
      },
      "outputs": [],
      "source": [
        "cols_missing_macro = macro.columns[macro.isnull().sum()>0].tolist()\n",
        "print('features with missing values in test', len(cols_missing_macro))\n",
        "miss_macro = macro.groupby('yearmonth')[cols_missing_macro].agg(lambda x: x.isnull().mean()).T\n",
        "\n",
        "plt.figure(figsize=(12,18))\n",
        "sns.heatmap(miss_macro)"
      ]
    },
    {
      "cell_type": "markdown",
      "metadata": {
        "_cell_guid": "5474faaf-9423-3dd1-492d-85b85b4dcac4"
      },
      "source": [
        "Not good news - a lot of missing values in the end, which corresponds to test set. But may be this features will be unimportant."
      ]
    }
  ],
  "metadata": {
    "_change_revision": 0,
    "_is_fork": false,
    "kernelspec": {
      "display_name": "Python 3",
      "language": "python",
      "name": "python3"
    },
    "language_info": {
      "codemirror_mode": {
        "name": "ipython",
        "version": 3
      },
      "file_extension": ".py",
      "mimetype": "text/x-python",
      "name": "python",
      "nbconvert_exporter": "python",
      "pygments_lexer": "ipython3",
      "version": "3.6.0"
    }
  },
  "nbformat": 4,
  "nbformat_minor": 0
}