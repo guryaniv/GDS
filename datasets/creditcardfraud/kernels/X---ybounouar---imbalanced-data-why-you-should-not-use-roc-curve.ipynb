{
  "cells": [
    {
      "cell_type": "code",
      "execution_count": null,
      "metadata": {
        "_cell_guid": "bb5682a9-260d-3970-2222-e42c11ea46ce"
      },
      "outputs": [],
      "source": [
        "import pandas as pd\n",
        "import xgboost as xgb\n",
        "import numpy as np\n",
        "from sklearn.model_selection import StratifiedKFold\n",
        "from sklearn.model_selection import cross_val_score\n",
        "from sklearn.cross_validation import train_test_split\n",
        "from sklearn.metrics import classification_report,confusion_matrix,roc_curve,auc,precision_recall_curve,roc_auc_score\n",
        "import seaborn as sns\n",
        "import matplotlib.pyplot as plt"
      ]
    },
    {
      "cell_type": "code",
      "execution_count": null,
      "metadata": {
        "_cell_guid": "777b7e3f-e479-f5d8-80ef-4372cd83fd68"
      },
      "outputs": [],
      "source": [
        "def PlotConfusionMatrix(y_test,pred,y_test_legit,y_test_fraud):\n",
        "\n",
        "    cfn_matrix = confusion_matrix(y_test,pred)\n",
        "    cfn_norm_matrix = np.array([[1.0 / y_test_legit,1.0/y_test_legit],[1.0/y_test_fraud,1.0/y_test_fraud]])\n",
        "    norm_cfn_matrix = cfn_matrix * cfn_norm_matrix\n",
        "\n",
        "    fig = plt.figure(figsize=(15,5))\n",
        "    ax = fig.add_subplot(1,2,1)\n",
        "    sns.heatmap(cfn_matrix,cmap='coolwarm_r',linewidths=0.5,annot=True,ax=ax)\n",
        "    plt.title('Confusion Matrix')\n",
        "    plt.ylabel('Real Classes')\n",
        "    plt.xlabel('Predicted Classes')\n",
        "\n",
        "    ax = fig.add_subplot(1,2,2)\n",
        "    sns.heatmap(norm_cfn_matrix,cmap='coolwarm_r',linewidths=0.5,annot=True,ax=ax)\n",
        "\n",
        "    plt.title('Normalized Confusion Matrix')\n",
        "    plt.ylabel('Real Classes')\n",
        "    plt.xlabel('Predicted Classes')\n",
        "    plt.show()\n",
        "    \n",
        "    print('---Classification Report---')\n",
        "    print(classification_report(y_test,pred))\n",
        "    \n",
        "def AUC_plot(true,pred):\n",
        "    fpr, tpr, threshold = roc_curve(true, pred)\n",
        "    roc_auc = auc(fpr, tpr)\n",
        "    plt.title('Receiver Operating Characteristic')\n",
        "    plt.plot(fpr, tpr, 'b', label = 'AUC = %0.2f' % roc_auc)\n",
        "    plt.legend(loc = 'lower right')\n",
        "    plt.plot([0, 1], [0, 1],'r--')\n",
        "    plt.xlim([0, 1])\n",
        "    plt.ylim([0, 1])\n",
        "    plt.ylabel('True Positive Rate')\n",
        "    plt.xlabel('False Positive Rate')\n",
        "    plt.show()"
      ]
    },
    {
      "cell_type": "code",
      "execution_count": null,
      "metadata": {
        "_cell_guid": "b3536bdd-7914-483d-712d-fc094883794e"
      },
      "outputs": [],
      "source": [
        "df=pd.DataFrame.from_csv(\"../input/creditcard.csv\").reset_index()\n",
        "df.head()"
      ]
    },
    {
      "cell_type": "code",
      "execution_count": null,
      "metadata": {
        "_cell_guid": "8011b22b-febc-5c1f-ab7f-14f57c57eadf"
      },
      "outputs": [],
      "source": [
        "df['hour'] = df['Time'].apply(lambda x: np.ceil(float(x)/3600) % 24)\n",
        "del df[\"Time\"]"
      ]
    },
    {
      "cell_type": "code",
      "execution_count": null,
      "metadata": {
        "_cell_guid": "48f9f3bc-916e-df8c-4edf-88060d756e4e"
      },
      "outputs": [],
      "source": [
        "X=df.iloc[:,:-1]\n",
        "Y=df[\"Class\"]\n",
        "\n",
        "accuracy=[]\n",
        "for k in range(3):\n",
        " \n",
        "    X_train, X_test, y_train, y_test = train_test_split(X, Y, test_size=0.33, random_state=k)\n",
        "\n",
        "    model = xgb.XGBClassifier(objective=\"binary:logistic\")\n",
        "    model.fit(X_train, y_train, eval_metric =\"auc\")\n",
        "\n",
        "    y_pred = model.predict(X_test)\n",
        "    predictions = [value for value in y_pred]\n",
        "\n",
        "    accuracy.append(roc_auc_score(y_test, predictions))\n",
        "    \n",
        "    PlotConfusionMatrix(y_test,y_pred,y_test.value_counts()[0],y_test.value_counts()[1])\n",
        "    \n",
        "print(\"AUC : \" + str(np.mean(accuracy)))"
      ]
    },
    {
      "cell_type": "code",
      "execution_count": null,
      "metadata": {
        "_cell_guid": "c65925e7-7ea4-ebc4-3e14-3ad85884bdf9"
      },
      "outputs": [],
      "source": [
        "y_pred = model.predict(X)\n",
        "PlotConfusionMatrix(Y,y_pred,Y.value_counts()[0],Y.value_counts()[1])"
      ]
    },
    {
      "cell_type": "code",
      "execution_count": null,
      "metadata": {
        "_cell_guid": "91febce4-878d-01d2-00ef-203d99f97d53"
      },
      "outputs": [],
      "source": [
        "AUC_plot(Y,y_pred)"
      ]
    }
  ],
  "metadata": {
    "_change_revision": 0,
    "_is_fork": false,
    "kernelspec": {
      "display_name": "Python 3",
      "language": "python",
      "name": "python3"
    },
    "language_info": {
      "codemirror_mode": {
        "name": "ipython",
        "version": 3
      },
      "file_extension": ".py",
      "mimetype": "text/x-python",
      "name": "python",
      "nbconvert_exporter": "python",
      "pygments_lexer": "ipython3",
      "version": "3.6.0"
    }
  },
  "nbformat": 4,
  "nbformat_minor": 0
}