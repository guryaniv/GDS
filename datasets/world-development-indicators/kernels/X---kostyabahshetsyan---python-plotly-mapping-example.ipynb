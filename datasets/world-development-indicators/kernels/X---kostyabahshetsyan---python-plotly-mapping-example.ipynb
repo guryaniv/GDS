{
  "cells": [
    {
      "cell_type": "code",
      "execution_count": null,
      "metadata": {
        "_cell_guid": "47cc3ea9-f9a1-879d-8ccb-ebf7a865d279"
      },
      "outputs": [],
      "source": [
        "from plotly.offline import download_plotlyjs, init_notebook_mode, plot, iplot\n",
        "init_notebook_mode()\n",
        "\n",
        "import pandas as pd\n",
        "import numpy as np"
      ]
    },
    {
      "cell_type": "code",
      "execution_count": null,
      "metadata": {
        "_cell_guid": "012d3c57-af8b-eded-507c-029ee54b99dd"
      },
      "outputs": [],
      "source": [
        "indicators = pd.read_csv(\"../input/Indicators.csv\")"
      ]
    },
    {
      "cell_type": "code",
      "execution_count": null,
      "metadata": {
        "_cell_guid": "9d462c67-e5d9-6f20-64ee-cd01db6ba31a"
      },
      "outputs": [],
      "source": [
        "indicators.IndicatorName.unique()"
      ]
    },
    {
      "cell_type": "code",
      "execution_count": null,
      "metadata": {
        "_cell_guid": "f7bd492f-c678-f9d2-5567-b315164ff772"
      },
      "outputs": [],
      "source": [
        "# Update these to plot different indicators\n",
        "indicatorName = \"Life expectancy at birth, total (years)\"\n",
        "indicatorYear = 2013\n",
        "\n",
        "\n",
        "filtered = indicators[(indicators.IndicatorName==indicatorName) & (indicators.Year==indicatorYear)]"
      ]
    },
    {
      "cell_type": "code",
      "execution_count": null,
      "metadata": {
        "_cell_guid": "845f3118-d506-15f4-ba65-3dfd9c37e257"
      },
      "outputs": [],
      "source": [
        "correction = {\"Antigua and Barbuda\":\"Antigua\", \"Bahamas, The\":\"Bahamas\", \"Brunei Darussalam\":\"Brunei\",\n",
        "\"Cabo Verde\":\"Cape Verde\", \"Congo, Dem. Rep.\":\"Democratic Republic of the Congo\", \"Congo, Rep.\":\"Republic of Congo\", \n",
        "\"Cote d'Ivoire\":\"Ivory Coast\", \"Egypt, Arab Rep.\":\"Egypt\", \"Faeroe Islands\":\"Faroe Islands\", \"Gambia, The\":\"Gambia\", \n",
        "\"Iran, Islamic Rep.\":\"Iran\", \"Korea, Dem. Rep.\":\"North Korea\", \"Korea, Rep.\":\"South Korea\", \"Kyrgyz Republic\":\"Kyrgyzstan\",\n",
        "\"Lao PDR\":\"Laos\", \"Macedonia, FYR\":\"Macedonia\", \"Micronesia, Fed. Sts.\":\"Micronesia\", \"Russian Federation\":\"Russia\",\n",
        "\"Slovak Republic\":\"Slovakia\", \"St. Lucia\":\"Saint Lucia\", \"St. Martin (French part)\":\"Saint Martin\", \n",
        "\"St. Vincent and the Grenadines\":\"Saint Vincent\", \"Syrian Arab Republic\":\"Syria\", \"Trinidad and Tobago\":\"Trinidad\", \n",
        "\"United Kingdom\":\"UK\", \"United States\":\"USA\", \"Venezuela, RB\":\"Venezuela\", \"Virgin Islands (U.S.)\":\"Virgin Islands\", \n",
        "\"Yemen, Rep.\":\"Yemen\"}\n",
        "\n",
        "filtered.replace(correction, inplace=True)"
      ]
    },
    {
      "cell_type": "code",
      "execution_count": null,
      "metadata": {
        "_cell_guid": "1c525079-c63d-f935-6f76-21f7f307cc66"
      },
      "outputs": [],
      "source": [
        ""
      ]
    },
    {
      "cell_type": "code",
      "execution_count": null,
      "metadata": {
        "_cell_guid": "515ed922-ea48-9988-caf5-0307542a2712"
      },
      "outputs": [],
      "source": [
        "scl = [[0.0, 'rgb(242,240,247)'],[0.2, 'rgb(218,218,235)'],[0.4, 'rgb(188,189,220)'],\\\n",
        "            [0.6, 'rgb(158,154,200)'],[0.8, 'rgb(117,107,177)'],[1.0, 'rgb(84,39,143)']]\n",
        "\n",
        "data = [ dict(\n",
        "        type='choropleth',\n",
        "        colorscale = scl,\n",
        "        autocolorscale = False,\n",
        "        locations = filtered.CountryCode.values,\n",
        "        z = filtered.Value.values,\n",
        "        text = filtered.CountryName,\n",
        "        marker = dict(\n",
        "            line = dict (\n",
        "                color = 'rgb(255,255,255)',\n",
        "                width = 2\n",
        "            ) ),\n",
        "        colorbar = dict(\n",
        "            title = \"Count\")\n",
        "        ) ]\n",
        "\n",
        "layout = dict(\n",
        "        title = '{} in {}'.format(filtered.IndicatorName.unique()[0],filtered.Year.unique()[0]),\n",
        "        geo = dict(\n",
        "            scope='world',\n",
        "            projection=dict( type='Mercator' ),\n",
        "            showlakes = True,\n",
        "            lakecolor = 'rgb(255, 255, 255)'),\n",
        "             )\n",
        "    \n",
        "fig = dict( data=data, layout=layout )\n",
        "iplot( fig, filename='d3-cloropleth-map' )"
      ]
    },
    {
      "cell_type": "code",
      "execution_count": null,
      "metadata": {
        "_cell_guid": "db28eec2-c61a-1d3a-46d1-9113a40f3424"
      },
      "outputs": [],
      "source": [
        ""
      ]
    },
    {
      "cell_type": "code",
      "execution_count": null,
      "metadata": {
        "_cell_guid": "fa723189-d728-e2fb-c59e-a3985758cd76"
      },
      "outputs": [],
      "source": [
        ""
      ]
    }
  ],
  "metadata": {
    "_change_revision": 0,
    "_is_fork": false,
    "kernelspec": {
      "display_name": "Python 3",
      "language": "python",
      "name": "python3"
    },
    "language_info": {
      "codemirror_mode": {
        "name": "ipython",
        "version": 3
      },
      "file_extension": ".py",
      "mimetype": "text/x-python",
      "name": "python",
      "nbconvert_exporter": "python",
      "pygments_lexer": "ipython3",
      "version": "3.5.2"
    }
  },
  "nbformat": 4,
  "nbformat_minor": 0
}