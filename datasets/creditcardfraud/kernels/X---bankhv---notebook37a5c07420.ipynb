{
  "cells": [
    {
      "cell_type": "code",
      "execution_count": null,
      "metadata": {
        "_cell_guid": "ebd7ddf3-c8d4-b0ff-07de-c4d560fe3ed0"
      },
      "outputs": [],
      "source": [
        "from sklearn.linear_model import LogisticRegression\n",
        "from sklearn.model_selection import cross_val_score\n",
        "from sklearn import preprocessing\n",
        "import pandas as pd\n",
        "import numpy as np\n",
        "from sklearn.preprocessing import scale\n",
        "from sklearn.utils import shuffle"
      ]
    },
    {
      "cell_type": "code",
      "execution_count": null,
      "metadata": {
        "_cell_guid": "d9bf4b38-26ba-a539-8805-a3f2bad0be28"
      },
      "outputs": [],
      "source": [
        "df = pd.read_csv(\"../input/creditcard.csv\")"
      ]
    },
    {
      "cell_type": "code",
      "execution_count": null,
      "metadata": {
        "_cell_guid": "74004ac8-f7e0-ae63-057a-1db7b434eb40"
      },
      "outputs": [],
      "source": [
        "df = shuffle(df, random_state = 123)"
      ]
    },
    {
      "cell_type": "code",
      "execution_count": null,
      "metadata": {
        "_cell_guid": "86607de1-6a93-831c-5b99-2a6733e3d5aa"
      },
      "outputs": [],
      "source": [
        "df.columns"
      ]
    },
    {
      "cell_type": "code",
      "execution_count": null,
      "metadata": {
        "_cell_guid": "efd63785-117c-0df5-be23-0ce5e4d6eea2"
      },
      "outputs": [],
      "source": [
        "import scipy.stats as sts\n",
        "sts.describe(df['Time'])"
      ]
    },
    {
      "cell_type": "code",
      "execution_count": null,
      "metadata": {
        "_cell_guid": "3286eb95-bcdf-0149-765c-217eedb855ac"
      },
      "outputs": [],
      "source": [
        "from matplotlib import pyplot as plt\n",
        "%matplotlib inline\n",
        "df['Time'].hist()"
      ]
    },
    {
      "cell_type": "code",
      "execution_count": null,
      "metadata": {
        "_cell_guid": "22545fff-b79f-f05c-e826-c1e730eb7f8c"
      },
      "outputs": [],
      "source": [
        "df_copy = df\n",
        "y = df_copy[\"Class\"]\n",
        "df_copy.drop([\"Class\"], axis = 1, inplace = True)\n",
        "columns = df_copy.columns\n",
        "X = scale(df_copy)"
      ]
    },
    {
      "cell_type": "code",
      "execution_count": null,
      "metadata": {
        "_cell_guid": "58c08c7d-dcb3-b0da-ab80-561f396a335b"
      },
      "outputs": [],
      "source": [
        "LR = LogisticRegression(random_state = 123, n_jobs = -1)\n",
        "LR.fit(X, y)\n",
        "scores = cross_val_score(LR, X, y, cv = 5)\n",
        "df0 = pd.DataFrame(list(zip(columns, abs(LR.coef_[0]))))\n",
        "df0.columns = ['feature name', 'coef_']\n",
        "df0.sort_values(by = 'coef_', ascending = False)"
      ]
    },
    {
      "cell_type": "code",
      "execution_count": null,
      "metadata": {
        "_cell_guid": "f11165b5-40fb-7c63-9c69-7eba9ceca9b9"
      },
      "outputs": [],
      "source": [
        "print(\"Accuracy: %0.10f (+/- %0.10f)\" % (scores.mean(), scores.std() * 2))"
      ]
    },
    {
      "cell_type": "code",
      "execution_count": null,
      "metadata": {
        "_cell_guid": "4773261a-ba3f-4cd7-0f68-adbb5249a8b0"
      },
      "outputs": [],
      "source": [
        "sts.describe(df['V26'])"
      ]
    },
    {
      "cell_type": "code",
      "execution_count": null,
      "metadata": {
        "_cell_guid": "cf014615-710b-47f2-44d1-97ba6e9d9691"
      },
      "outputs": [],
      "source": [
        "df['V26'].hist()"
      ]
    },
    {
      "cell_type": "code",
      "execution_count": null,
      "metadata": {
        "_cell_guid": "cc714e88-9a7e-f842-753c-0c5ae1a58670"
      },
      "outputs": [],
      "source": [
        "columns = df_copy.columns\n",
        "X = scale(df_copy)\n",
        "\n",
        "df_copy.loc[df_copy['V26'] < -2, 'V26_strange'] = df_copy['V26']\n",
        "df_copy.loc[df_copy['V26'] > 2, 'V26_strange'] = df_copy['V26']\n",
        "df.loc[df['V26'] < -2, 'V26'] = 0\n",
        "df.loc[df['V26'] > 2, 'V26'] = 0\n",
        "df_copy['V26_strange'].fillna(0, inplace = True)\n",
        "\n",
        "LR = LogisticRegression(random_state = 123, n_jobs = -1)\n",
        "LR.fit(X, y)\n",
        "scores = cross_val_score(LR, X, y, cv = 5)\n",
        "df0 = pd.DataFrame(list(zip(columns, abs(LR.coef_[0]))))\n",
        "df0.columns = ['feature name', 'coef_']\n",
        "df0.sort_values(by = 'coef_', ascending = False)"
      ]
    },
    {
      "cell_type": "code",
      "execution_count": null,
      "metadata": {
        "_cell_guid": "b4215f70-215d-a29e-08cc-3bb96ebdc369"
      },
      "outputs": [],
      "source": [
        "print(\"Accuracy: %0.10f (+/- %0.10f)\" % (scores.mean(), scores.std() * 2))"
      ]
    },
    {
      "cell_type": "code",
      "execution_count": null,
      "metadata": {
        "_cell_guid": "458580a3-22d3-3b36-b21c-e74c7e81d1d1"
      },
      "outputs": [],
      "source": [
        "sts.describe(df['V18'])"
      ]
    },
    {
      "cell_type": "code",
      "execution_count": null,
      "metadata": {
        "_cell_guid": "e6a7f900-1c90-e026-5979-5089db745de7"
      },
      "outputs": [],
      "source": [
        "df['V18'].hist()"
      ]
    },
    {
      "cell_type": "code",
      "execution_count": null,
      "metadata": {
        "_cell_guid": "166824bb-79bb-05fd-7652-b8c03d188620"
      },
      "outputs": [],
      "source": [
        "columns = df_copy.columns\n",
        "X = scale(df_copy)\n",
        "\n",
        "df_copy.loc[df_copy['V18'] < -2, 'V18_strange'] = df_copy['V18']\n",
        "df_copy.loc[df_copy['V18'] > 2, 'V18_strange'] = df_copy['V18']\n",
        "df.loc[df['V18'] < -2, 'V18'] = 0\n",
        "df.loc[df['V18'] > 2, 'V18'] = 0\n",
        "df_copy['V18_strange'].fillna(0, inplace = True)\n",
        "\n",
        "LR = LogisticRegression(random_state = 123, n_jobs = -1)\n",
        "LR.fit(X, y)\n",
        "scores = cross_val_score(LR, X, y, cv = 5)\n",
        "df0 = pd.DataFrame(list(zip(columns, abs(LR.coef_[0]))))\n",
        "df0.columns = ['feature name', 'coef_']\n",
        "df0.sort_values(by = 'coef_', ascending = False)"
      ]
    },
    {
      "cell_type": "code",
      "execution_count": null,
      "metadata": {
        "_cell_guid": "45ffa7aa-8102-fac2-9da5-d5acfac7d02e"
      },
      "outputs": [],
      "source": [
        "print(\"Accuracy: %0.10f (+/- %0.10f)\" % (scores.mean(), scores.std() * 2))"
      ]
    },
    {
      "cell_type": "code",
      "execution_count": null,
      "metadata": {
        "_cell_guid": "090a049d-94bb-a485-8b82-952173e146fc"
      },
      "outputs": [],
      "source": [
        "sts.describe(df['V19'])"
      ]
    },
    {
      "cell_type": "code",
      "execution_count": null,
      "metadata": {
        "_cell_guid": "dc24b976-98b6-4284-3bc8-0ffe07e443ab"
      },
      "outputs": [],
      "source": [
        "df['V19'].hist()"
      ]
    },
    {
      "cell_type": "code",
      "execution_count": null,
      "metadata": {
        "_cell_guid": "b7321596-a2c6-a796-f03a-223f0724a141"
      },
      "outputs": [],
      "source": [
        "columns = df_copy.columns\n",
        "X = scale(df_copy)\n",
        "\n",
        "df_copy.loc[df_copy['V19'] < -2, 'V19_strange'] = df_copy['V19']\n",
        "df_copy.loc[df_copy['V19'] > 2, 'V19_strange'] = df_copy['V19']\n",
        "df.loc[df['V19'] < -2, 'V19'] = 0\n",
        "df.loc[df['V19'] > 2, 'V19'] = 0\n",
        "df_copy['V19_strange'].fillna(0, inplace = True)\n",
        "\n",
        "LR = LogisticRegression(random_state = 123, n_jobs = -1)\n",
        "LR.fit(X, y)\n",
        "scores = cross_val_score(LR, X, y, cv = 5)\n",
        "df0 = pd.DataFrame(list(zip(columns, abs(LR.coef_[0]))))\n",
        "df0.columns = ['feature name', 'coef_']\n",
        "df0.sort_values(by = 'coef_', ascending = False)"
      ]
    },
    {
      "cell_type": "code",
      "execution_count": null,
      "metadata": {
        "_cell_guid": "69898bf1-3bc1-2a21-c9d1-2f0639464729"
      },
      "outputs": [],
      "source": [
        "print(\"Accuracy: %0.10f (+/- %0.10f)\" % (scores.mean(), scores.std() * 2))"
      ]
    }
  ],
  "metadata": {
    "_change_revision": 0,
    "_is_fork": false,
    "kernelspec": {
      "display_name": "Python 3",
      "language": "python",
      "name": "python3"
    },
    "language_info": {
      "codemirror_mode": {
        "name": "ipython",
        "version": 3
      },
      "file_extension": ".py",
      "mimetype": "text/x-python",
      "name": "python",
      "nbconvert_exporter": "python",
      "pygments_lexer": "ipython3",
      "version": "3.5.2"
    }
  },
  "nbformat": 4,
  "nbformat_minor": 0
}