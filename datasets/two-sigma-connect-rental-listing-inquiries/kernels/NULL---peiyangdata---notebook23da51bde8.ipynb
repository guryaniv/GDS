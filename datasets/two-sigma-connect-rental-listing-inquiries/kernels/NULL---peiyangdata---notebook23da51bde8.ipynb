{
  "cells": [
    {
      "cell_type": "code",
      "execution_count": null,
      "metadata": {
        "_cell_guid": "d70a577b-c4f8-e854-1580-022d5089c133"
      },
      "outputs": [],
      "source": [
        "# This Python 3 environment comes with many helpful analytics libraries installed\n",
        "# It is defined by the kaggle/python docker image: https://github.com/kaggle/docker-python\n",
        "# For example, here's several helpful packages to load in \n",
        "\n",
        "import numpy as np # linear algebra\n",
        "import pandas as pd # data processing, CSV file I/O (e.g. pd.read_csv)\n",
        "\n",
        "# Input data files are available in the \"../input/\" directory.\n",
        "# For example, running this (by clicking run or pressing Shift+Enter) will list the files in the input directory\n",
        "\n",
        "from subprocess import check_output\n",
        "print(check_output([\"ls\", \"../input\"]).decode(\"utf8\"))\n",
        "\n",
        "# Any results you write to the current directory are saved as output.\n",
        "\n",
        "X_train = pd.read_json(\"../input/train.json\")\n",
        "X_test = pd.read_json(\"../input/test.json\")"
      ]
    },
    {
      "cell_type": "code",
      "execution_count": null,
      "metadata": {
        "_cell_guid": "cdf27e91-b93b-0409-fecc-f980fcb77dc6"
      },
      "outputs": [],
      "source": [
        "\n",
        "X_train.head()"
      ]
    },
    {
      "cell_type": "code",
      "execution_count": null,
      "metadata": {
        "_cell_guid": "402ed65c-0218-d3bb-fe13-7950b13a6d8f"
      },
      "outputs": [],
      "source": [
        "X_train.shape"
      ]
    },
    {
      "cell_type": "code",
      "execution_count": null,
      "metadata": {
        "_cell_guid": "40f395f0-8c21-bed6-de24-eaad753592cd"
      },
      "outputs": [],
      "source": [
        "X_test.head()"
      ]
    },
    {
      "cell_type": "code",
      "execution_count": null,
      "metadata": {
        "_cell_guid": "24bd3b3a-a50e-0a6c-3956-b34c5ee63f86"
      },
      "outputs": [],
      "source": [
        "X_test.shape"
      ]
    },
    {
      "cell_type": "code",
      "execution_count": null,
      "metadata": {
        "_cell_guid": "7b1aad43-0ddd-84f2-3ca5-8c0e0f7498e7"
      },
      "outputs": [],
      "source": [
        "sample=pd.read_csv(\"../input/sample_submission.csv\")"
      ]
    },
    {
      "cell_type": "code",
      "execution_count": null,
      "metadata": {
        "_cell_guid": "1728fb45-1c83-3611-12bd-94a034cd1bcb"
      },
      "outputs": [],
      "source": [
        "sample.head()"
      ]
    },
    {
      "cell_type": "code",
      "execution_count": null,
      "metadata": {
        "_cell_guid": "250c3c6c-2e46-19b4-5f06-26fce9de9e89"
      },
      "outputs": [],
      "source": [
        "print(check_output([\"ls\", \"../input/images_sample/\"]).decode(\"utf8\"))\n"
      ]
    },
    {
      "cell_type": "code",
      "execution_count": null,
      "metadata": {
        "_cell_guid": "9315e4cc-7da2-73e5-97dd-053d21cbb8e0"
      },
      "outputs": [],
      "source": [
        "import os\n",
        "import subprocess as sub\n",
        "from os import listdir\n",
        "from os.path import isfile, join\n",
        "onlyfiles = [f for f in listdir('../input/images_sample/6811957/') if isfile(join('../input/images_sample/6811957/', f))]\n",
        "print (onlyfiles)"
      ]
    },
    {
      "cell_type": "code",
      "execution_count": null,
      "metadata": {
        "_cell_guid": "60379295-3bab-d41e-6f33-f113de11be11"
      },
      "outputs": [],
      "source": [
        "import matplotlib.pyplot as plt\n",
        "import matplotlib.image as mpimg\n",
        "%matplotlib inline\n",
        "img=[]\n",
        "for i in range (0,5):\n",
        "    img.append(mpimg.imread('../input/images_sample/6811957/'+onlyfiles[i]))\n",
        "    plt.imshow(img[i])\n",
        "    fig = plt.figure()\n",
        "    a=fig.add_subplot()\n",
        "    "
      ]
    },
    {
      "cell_type": "code",
      "execution_count": null,
      "metadata": {
        "_cell_guid": "ac173b29-b68e-c321-580e-7cff811049b7"
      },
      "outputs": [],
      "source": [
        "\n",
        "\n",
        "X_train.dropna(subset = ['interest_level'])\n",
        "X_train.shape\n",
        "print (X_train['interest_level'])"
      ]
    },
    {
      "cell_type": "code",
      "execution_count": null,
      "metadata": {
        "_cell_guid": "6e94c558-0e0e-353b-eae2-68a6af5c40ce"
      },
      "outputs": [],
      "source": [
        "\n",
        "grouped = X_train.groupby(['interest_level'])\n",
        "print (grouped.size())\n",
        "#probability\n",
        "print (grouped.size()/len(X_train))\n"
      ]
    },
    {
      "cell_type": "code",
      "execution_count": null,
      "metadata": {
        "_cell_guid": "5acbd52f-068a-300b-04e2-2e806c30deb4"
      },
      "outputs": [],
      "source": [
        "from sklearn.ensemble import RandomForestClassifier\n",
        "from sklearn.model_selection import train_test_split\n",
        "from sklearn.metrics import log_loss\n",
        "\n",
        "X_train[\"num_photos\"] = X_train[\"photos\"].apply(len)\n",
        "X_train[\"num_features\"] = X_train[\"features\"].apply(len)\n",
        "X_train[\"num_description_words\"] = X_train[\"description\"].apply(lambda x: len(x.split(\" \")))\n",
        "X_train[\"created\"] = pd.to_datetime(X_train[\"created\"])\n",
        "X_train[\"created_year\"] = X_train[\"created\"].dt.year\n",
        "X_train[\"created_month\"] = X_train[\"created\"].dt.month\n",
        "X_train[\"created_day\"] = X_train[\"created\"].dt.day\n",
        "num_feats = [\"bathrooms\", \"bedrooms\", \"latitude\", \"longitude\", \"price\",\n",
        "             \"num_photos\", \"num_features\", \"num_description_words\",\n",
        "             \"created_year\", \"created_month\", \"created_day\"]\n",
        "X = X_train[num_feats]\n",
        "y = X_train[\"interest_level\"]\n",
        "\n",
        "X_train2, X_val, y_train2, y_val = train_test_split(X, y, test_size=0.3)"
      ]
    },
    {
      "cell_type": "code",
      "execution_count": null,
      "metadata": {
        "_cell_guid": "7d96def8-17a8-955f-5485-afd342478a21"
      },
      "outputs": [],
      "source": [
        "\n",
        "X_test[\"num_photos\"] = X_test[\"photos\"].apply(len)\n",
        "X_test[\"num_features\"] = X_test[\"features\"].apply(len)\n",
        "X_test[\"num_description_words\"] = X_test[\"description\"].apply(lambda x: len(x.split(\" \")))\n",
        "X_test[\"created\"] = pd.to_datetime(X_test[\"created\"])\n",
        "X_test[\"created_year\"] = X_test[\"created\"].dt.year\n",
        "X_test[\"created_month\"] = X_test[\"created\"].dt.month\n",
        "X_test[\"created_day\"] = X_test[\"created\"].dt.day\n",
        "X_test2 = X_test[num_feats]\n"
      ]
    },
    {
      "cell_type": "code",
      "execution_count": null,
      "metadata": {
        "_cell_guid": "ed250aa7-3420-3081-d620-27a7dc8c9df7"
      },
      "outputs": [],
      "source": [
        "# Train uncalibrated random forest classifier on whole train and validation\n",
        "# data and evaluate on test data\n",
        "rfmodel = RandomForestClassifier(n_estimators=300)\n",
        "rfmodel.fit(X_train2, y_train2)"
      ]
    },
    {
      "cell_type": "code",
      "execution_count": null,
      "metadata": {
        "_cell_guid": "d02be932-bc38-4f1f-9351-cfc88344ee21"
      },
      "outputs": [],
      "source": [
        "y_val_pred = rfmodel.predict_proba(X_val)\n",
        "log_loss(y_val, y_val_pred)\n"
      ]
    },
    {
      "cell_type": "code",
      "execution_count": null,
      "metadata": {
        "_cell_guid": "56d22155-03d9-fa62-8cb5-a2809ab994db"
      },
      "outputs": [],
      "source": [
        "#This time use all the train datasets to train model\n",
        "rfmodel2 = RandomForestClassifier(n_estimators=300)\n",
        "rfmodel2.fit(X, y)"
      ]
    },
    {
      "cell_type": "code",
      "execution_count": null,
      "metadata": {
        "_cell_guid": "b93f740f-537f-b311-736a-b83b2be12cc9"
      },
      "outputs": [],
      "source": [
        "y_test_pred = rfmodel2.predict_proba(X_test2)"
      ]
    },
    {
      "cell_type": "code",
      "execution_count": null,
      "metadata": {
        "_cell_guid": "9b91a9ee-7b85-e86e-341c-f2cd99a32c19"
      },
      "outputs": [],
      "source": [
        "y_test_pred"
      ]
    },
    {
      "cell_type": "code",
      "execution_count": null,
      "metadata": {
        "_cell_guid": "771c7b43-3480-3efa-a632-78075855d03c"
      },
      "outputs": [],
      "source": ""
    },
    {
      "cell_type": "code",
      "execution_count": null,
      "metadata": {
        "_cell_guid": "c973fe85-4b9b-9d60-3a41-5309712633d1"
      },
      "outputs": [],
      "source": [
        "X_train2.head()"
      ]
    },
    {
      "cell_type": "code",
      "execution_count": null,
      "metadata": {
        "_cell_guid": "8a84df0c-100d-384d-9d16-1a1722e14e25"
      },
      "outputs": [],
      "source": [
        "y.head()"
      ]
    },
    {
      "cell_type": "code",
      "execution_count": null,
      "metadata": {
        "_cell_guid": "3b0809ea-25c7-a1ef-a54a-b47f5b2de2f2"
      },
      "outputs": [],
      "source": [
        "y.head()\n",
        "\n",
        "\n",
        "    \n",
        "    \n"
      ]
    },
    {
      "cell_type": "code",
      "execution_count": null,
      "metadata": {
        "_cell_guid": "570e8f6a-598c-0994-c35a-f166248cffd0"
      },
      "outputs": [],
      "source": [
        "type(y)"
      ]
    },
    {
      "cell_type": "code",
      "execution_count": null,
      "metadata": {
        "_cell_guid": "64ed63b7-8a23-ae4d-043e-a7fba1ced531"
      },
      "outputs": [],
      "source": ""
    },
    {
      "cell_type": "code",
      "execution_count": null,
      "metadata": {
        "_cell_guid": "0c8ceb63-41e3-110c-e3e4-4946b8484431"
      },
      "outputs": [],
      "source": [
        "length = len(y)\n",
        "length"
      ]
    },
    {
      "cell_type": "code",
      "execution_count": null,
      "metadata": {
        "_cell_guid": "f7444556-be38-a6d6-fa70-e4c3b31ce2d0"
      },
      "outputs": [],
      "source": ""
    },
    {
      "cell_type": "code",
      "execution_count": null,
      "metadata": {
        "_cell_guid": "9781483a-a88a-96ca-fbc0-8eb24742972c"
      },
      "outputs": [],
      "source": [
        "y1 = [0]*length\n",
        "y2 = [0]*length\n",
        "\n",
        "type(y2)\n"
      ]
    },
    {
      "cell_type": "code",
      "execution_count": null,
      "metadata": {
        "_cell_guid": "e7159ce3-af1c-0a1e-55bd-ac31962cf825"
      },
      "outputs": [],
      "source": [
        "len(y2) == length"
      ]
    },
    {
      "cell_type": "code",
      "execution_count": null,
      "metadata": {
        "_cell_guid": "0ff94748-fedd-2319-9c9f-f4677ae828f1"
      },
      "outputs": [],
      "source": [
        "len(y1) == length"
      ]
    },
    {
      "cell_type": "code",
      "execution_count": null,
      "metadata": {
        "_cell_guid": "29432f5c-b161-f140-4986-a9e9aafa8b93"
      },
      "outputs": [],
      "source": [
        "type(y)"
      ]
    },
    {
      "cell_type": "code",
      "execution_count": null,
      "metadata": {
        "_cell_guid": "22cb8470-3967-d6de-3606-b76ccd5bb256"
      },
      "outputs": [],
      "source": [
        "y_list = y.tolist()\n",
        "type(y_list)\n",
        "y_list"
      ]
    },
    {
      "cell_type": "code",
      "execution_count": null,
      "metadata": {
        "_cell_guid": "8aeb7890-2e2c-cbbf-c5ac-a2c38a66a752"
      },
      "outputs": [],
      "source": [
        "for i in range(0, length, 1):\n",
        "    if(y_list[i]==\"low\"):\n",
        "        print(\"low\")\n",
        "        y1[i] = 0\n",
        "        y2[i] = 0\n",
        "    if(y_list[i]==\"medium\"):\n",
        "        print(\"medium\")\n",
        "        y1[i] = 0\n",
        "        y2[i] = 1\n",
        "    if(y_list[i]==\"high\"):\n",
        "        print(\"high\")\n",
        "        y1[i] = 1\n",
        "        y2[i] = 0\n",
        "print(\"Binary coding done.\")"
      ]
    },
    {
      "cell_type": "code",
      "execution_count": null,
      "metadata": {
        "_cell_guid": "ecb4cbdb-ce8a-f59c-9a9d-44e5fd05729a"
      },
      "outputs": [],
      "source": [
        "y1"
      ]
    },
    {
      "cell_type": "code",
      "execution_count": null,
      "metadata": {
        "_cell_guid": "22b98776-3e9c-fd3f-cd29-f894ce1dee76"
      },
      "outputs": [],
      "source": [
        "y2"
      ]
    },
    {
      "cell_type": "code",
      "execution_count": null,
      "metadata": {
        "_cell_guid": "2bdd8ad8-b66a-81e7-9d6b-a25aa7f33d1d"
      },
      "outputs": [],
      "source": [
        "y1_a = np.ravel(y1)\n",
        "type(y1_a)"
      ]
    },
    {
      "cell_type": "code",
      "execution_count": null,
      "metadata": {
        "_cell_guid": "955d929c-f7ef-fb50-4ff1-ea0d5a3af82c"
      },
      "outputs": [],
      "source": [
        "import numpy as np\n",
        "import pandas as pd\n",
        "import statsmodels.api as sm\n",
        "import matplotlib.pyplot as plt\n",
        "from patsy import dmatrices\n",
        "from sklearn.linear_model import LogisticRegression\n",
        "from sklearn.cross_validation import train_test_split\n",
        "from sklearn import metrics\n",
        "from sklearn.cross_validation import cross_val_score"
      ]
    },
    {
      "cell_type": "code",
      "execution_count": null,
      "metadata": {
        "_cell_guid": "ae7f6781-1788-5fae-c0ca-1d80b5e28686"
      },
      "outputs": [],
      "source": [
        "y2_a = np.ravel(y2)\n",
        "type(y2_a)"
      ]
    },
    {
      "cell_type": "code",
      "execution_count": null,
      "metadata": {
        "_cell_guid": "f54f2948-9e9d-b6a0-84b1-e74dbb1757d9"
      },
      "outputs": [],
      "source": [
        "y1_a == y2_a"
      ]
    },
    {
      "cell_type": "code",
      "execution_count": null,
      "metadata": {
        "_cell_guid": "34ff3548-c402-df84-8da0-a30757acb93f"
      },
      "outputs": [],
      "source": [
        "model1 = LogisticRegression()\n",
        "model1 = model1.fit(X, y1)\n",
        "\n",
        "model1.score(X,y1)"
      ]
    },
    {
      "cell_type": "code",
      "execution_count": null,
      "metadata": {
        "_cell_guid": "e08911e8-e80f-73e5-07f6-02716e8ec74a"
      },
      "outputs": [],
      "source": [
        "model2 = LogisticRegression()\n",
        "model2 = model2.fit(X, y2)\n",
        "\n",
        "model2.score(X,y2)"
      ]
    },
    {
      "cell_type": "code",
      "execution_count": null,
      "metadata": {
        "_cell_guid": "96ba7974-f542-ec82-39ec-d0288dc43b76"
      },
      "outputs": [],
      "source": [
        "y1"
      ]
    }
  ],
  "metadata": {
    "_change_revision": 0,
    "_is_fork": false,
    "kernelspec": {
      "display_name": "Python 3",
      "language": "python",
      "name": "python3"
    },
    "language_info": {
      "codemirror_mode": {
        "name": "ipython",
        "version": 3
      },
      "file_extension": ".py",
      "mimetype": "text/x-python",
      "name": "python",
      "nbconvert_exporter": "python",
      "pygments_lexer": "ipython3",
      "version": "3.6.0"
    }
  },
  "nbformat": 4,
  "nbformat_minor": 0
}