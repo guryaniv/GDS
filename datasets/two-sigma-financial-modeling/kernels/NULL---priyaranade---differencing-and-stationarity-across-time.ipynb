{
  "cells": [
    {
      "cell_type": "markdown",
      "metadata": {
        "_cell_guid": "5fc27082-1980-6fb4-9df8-db4b6dba7719"
      },
      "source": [
        "Correlations only make sense when both time series are stationary. This analysis shows two things:\n",
        "\n",
        "1. features are non stationary and require differencing.\n",
        "2. correlations are different for different ids."
      ]
    },
    {
      "cell_type": "code",
      "execution_count": null,
      "metadata": {
        "_cell_guid": "2e98ab0b-e4dc-fa61-a3bf-6b6ddbc097d9"
      },
      "outputs": [],
      "source": [
        "import numpy as np # linear algebra\n",
        "import pandas as pd # data processing, CSV file I/O (e.g. pd.read_csv)\n",
        "import matplotlib.pyplot as plt\n",
        "import seaborn as sns\n",
        "\n",
        "%matplotlib inline"
      ]
    },
    {
      "cell_type": "code",
      "execution_count": null,
      "metadata": {
        "_cell_guid": "eeb2f490-62f5-8e7f-ad0b-22d336739149"
      },
      "outputs": [],
      "source": [
        "import kagglegym\n",
        "env = kagglegym.make()\n",
        "observation = env.reset()\n",
        "train = observation.train"
      ]
    },
    {
      "cell_type": "code",
      "execution_count": null,
      "metadata": {
        "_cell_guid": "671f8a88-3d66-50e1-359a-ffa4fc20e939"
      },
      "outputs": [],
      "source": [
        "train.fillna(0, inplace=True)"
      ]
    },
    {
      "cell_type": "code",
      "execution_count": null,
      "metadata": {
        "_cell_guid": "fb8a33a1-7300-6e6e-aec9-eff0b9cfc48d"
      },
      "outputs": [],
      "source": [
        "gf = train.copy(True)\n",
        "gf = train.pivot('timestamp', 'id', 'technical_20')\n",
        "y = train.pivot('timestamp', 'id', 'y')\n",
        "gf.fillna(0, inplace=True)\n",
        "y.fillna(0, inplace=True)"
      ]
    },
    {
      "cell_type": "markdown",
      "metadata": {
        "_cell_guid": "bd3e7bd6-25ad-66dc-8957-769acb4b2759"
      },
      "source": [
        "Let us take technical 20 as an example and run a simple correlation."
      ]
    },
    {
      "cell_type": "code",
      "execution_count": null,
      "metadata": {
        "_cell_guid": "fd162a07-41be-6c83-91be-92ba5c71d08d"
      },
      "outputs": [],
      "source": [
        "print (np.corrcoef(gf[train.id[0]].values, y[train.id[0]].values)[0, 1])"
      ]
    },
    {
      "cell_type": "markdown",
      "metadata": {
        "_cell_guid": "717a2d6f-e503-9a40-e536-06fed7fef057"
      },
      "source": [
        "Now lets plot technical 20 for a single asset. say id = 0."
      ]
    },
    {
      "cell_type": "code",
      "execution_count": null,
      "metadata": {
        "_cell_guid": "b0a1ca8b-4bc6-521a-1b69-bff19524e365"
      },
      "outputs": [],
      "source": [
        "import matplotlib.pyplot as plt\n",
        "\n",
        "X = gf[train.id[0]].values\n",
        "Y = y[train.id[0]].values\n",
        "plt.plot(X, color='r')\n",
        "plt.show()"
      ]
    },
    {
      "cell_type": "markdown",
      "metadata": {
        "_cell_guid": "c01bf89c-2b5d-67be-3b91-03cccac5be99"
      },
      "source": [
        "That does not look stationary. Now lets plot after taking the first differential of technical 20 by asset Id 0"
      ]
    },
    {
      "cell_type": "code",
      "execution_count": null,
      "metadata": {
        "_cell_guid": "dec00dc1-123f-3937-7b48-43fbe1691bd6"
      },
      "outputs": [],
      "source": [
        "X = np.diff(X)\n",
        "plt.plot(X, color='r')"
      ]
    },
    {
      "cell_type": "markdown",
      "metadata": {
        "_cell_guid": "4c6b2af2-bd42-c432-b3af-23ea3c295c73"
      },
      "source": [
        "Still does not look stationary. Lets difference again."
      ]
    },
    {
      "cell_type": "code",
      "execution_count": null,
      "metadata": {
        "_cell_guid": "e0b66611-cff3-9e67-2c55-9c1cea1913f2"
      },
      "outputs": [],
      "source": [
        "X = np.diff(X)\n",
        "plt.plot(X)\n",
        "plt.show()"
      ]
    },
    {
      "cell_type": "markdown",
      "metadata": {
        "_cell_guid": "c90ab850-5307-957b-c2f9-2e07c64d8122"
      },
      "source": [
        "Now lets compute the correlation between the two times differenced X and Y values."
      ]
    },
    {
      "cell_type": "code",
      "execution_count": null,
      "metadata": {
        "_cell_guid": "4e1ebf50-b585-c25d-c3d3-c4200b10019d"
      },
      "outputs": [],
      "source": [
        "print (np.corrcoef(X, Y[2:])[0, 1])"
      ]
    },
    {
      "cell_type": "markdown",
      "metadata": {
        "_cell_guid": "d92f5cfd-5b0e-c6f5-384a-d3fe539e8abf"
      },
      "source": [
        "**That is a whopping -17%**"
      ]
    },
    {
      "cell_type": "markdown",
      "metadata": {
        "_cell_guid": "b44d37b4-a99a-95d1-cace-2fb861d4ae27"
      },
      "source": [
        "But what about other assets? Let us try a random 47th asset."
      ]
    },
    {
      "cell_type": "code",
      "execution_count": null,
      "metadata": {
        "_cell_guid": "34c9a9b0-0776-6482-c129-2a1aa0afab36"
      },
      "outputs": [],
      "source": [
        "print(np.corrcoef(gf[train.id[47]].diff().fillna(0).diff().fillna(0).values, y[train.id[47]].values)[0, 1])"
      ]
    },
    {
      "cell_type": "markdown",
      "metadata": {
        "_cell_guid": "808008c7-468b-4187-0452-63b04dc2c9ca"
      },
      "source": [
        "This is better than running correlations on non-stationary data but still is only positive 0.4%."
      ]
    },
    {
      "cell_type": "markdown",
      "metadata": {
        "_cell_guid": "9a460f08-bd7c-5553-5d32-59f367180f52"
      },
      "source": [
        "**CONCLUSION:**\n",
        "\n",
        "Correlations on un-differenced data are spurious and make no sense. You have to difference to find stationary series before looking for correlations. Fortunately train.y (appears to be asset returns) are already stationary.\n",
        "\n",
        "Secondly correlations are not same across asset ids. Each asset has a different correlation to features.\n",
        "\n",
        "Hope this helps. Now lets get cracking this challenge."
      ]
    },
    {
      "cell_type": "markdown",
      "metadata": {
        "_cell_guid": "544acf4b-b555-274a-f8df-51b901103a50"
      },
      "source": [
        "*If you like this analysis please upvote. Else let me know if I have misunderstood something.*"
      ]
    },
    {
      "cell_type": "code",
      "execution_count": null,
      "metadata": {
        "_cell_guid": "3e83225e-c864-da57-034a-ad4ebf465f54"
      },
      "outputs": [],
      "source": [
        ""
      ]
    }
  ],
  "metadata": {
    "_change_revision": 0,
    "_is_fork": false,
    "kernelspec": {
      "display_name": "Python 3",
      "language": "python",
      "name": "python3"
    },
    "language_info": {
      "codemirror_mode": {
        "name": "ipython",
        "version": 3
      },
      "file_extension": ".py",
      "mimetype": "text/x-python",
      "name": "python",
      "nbconvert_exporter": "python",
      "pygments_lexer": "ipython3",
      "version": "3.5.2"
    }
  },
  "nbformat": 4,
  "nbformat_minor": 0
}