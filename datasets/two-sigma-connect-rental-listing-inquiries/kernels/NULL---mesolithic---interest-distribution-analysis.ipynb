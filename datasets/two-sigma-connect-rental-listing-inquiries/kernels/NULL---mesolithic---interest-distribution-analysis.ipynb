{
  "cells": [
    {
      "cell_type": "markdown",
      "metadata": {
        "_cell_guid": "04c975ea-6fd3-8eae-174d-6a59841e7b9c"
      },
      "source": [
        "This is an exploration of the distribution of interest levels (low, med, high) by classes of the categorical features, and their deviation from global distribution.\n",
        "------------------------------------------------------------------------"
      ]
    },
    {
      "cell_type": "code",
      "execution_count": null,
      "metadata": {
        "_cell_guid": "752c0128-d928-eb7d-8a9c-01bc55ef3598"
      },
      "outputs": [],
      "source": [
        "import pandas as pd\n",
        "import numpy as np\n",
        "import matplotlib.pyplot as plt\n",
        "import seaborn as sns\n",
        "from Levenshtein import distance\n",
        "from sklearn import preprocessing, tree\n",
        "\n",
        "data = pd.read_json('../input/train.json', convert_dates=[\"created\"])\n",
        "pg, bins = pd.qcut(data[\"price\"], 8, retbins=True, labels=False)\n",
        "data['pg'] = pg\n",
        "data['low'] = 0.0\n",
        "data['medium'] = 0.0\n",
        "data['high'] = 0.0\n",
        "dist = {'low': 0.694683, 'medium': 0.227529, 'high': 0.077788} \n",
        "\n",
        "lvl = ['low', 'medium', 'high']\n",
        "for i in lvl:\n",
        "    data[i] = data['interest_level'] == i\n",
        "    data[i] = data[i].astype(float)\n",
        "\n",
        "data['pricet'] = data['price'] / (data['bedrooms'] + 1.0) \n",
        "data['rooms'] = data['bathrooms'] / data['bedrooms']\n",
        "data['toobig'] = data['bedrooms'].apply(lambda x: 1 if x > 4 else 0)\n",
        "data[\"num_photos\"] = data[\"photos\"].apply(len)\n",
        "data[\"num_features\"] = data[\"features\"].apply(len)\n",
        "data[\"nophoto\"] = data[\"num_photos\"].apply(lambda x: 1 if x == 0 else 0)\n",
        "data[\"halfbr\"] = data[\"bathrooms\"].apply(lambda x: 0 if round(x) == x else 1)\n",
        "data[\"address_distance\"] = data[[\"street_address\", \"display_address\"]].apply(lambda x: distance(*x), axis=1)\n",
        "data[\"address_distance\"] = data[\"address_distance\"].apply(lambda x: 120 if x > 120 else x)\n",
        "lat, bins = pd.qcut(data[\"latitude\"], 20, retbins=True, labels=False)\n",
        "data['latbin'] = lat\n",
        "lon, bins = pd.qcut(data[\"longitude\"], 20, retbins=True, labels=False)\n",
        "data['lonbin'] = lon\n",
        "data[\"month\"] = data[\"created\"].apply(lambda x: x.month)\n",
        "data[\"yearmonth\"] = data[\"created\"].apply(lambda x: str(x.year) + \"_\" + str(x.month))\n",
        "data[\"day\"] = data[\"created\"].apply(lambda x: x.dayofweek)\n",
        "\n",
        "data['chars'] = len(data['description'])\n",
        "data['exclaim'] = [x.count('!') for x in data['description']]\n",
        "data['shock'] = data['exclaim'] * 1.0 / data['chars'] * 100\n",
        "data['first'] = data['description'].apply(lambda x: x.index('!') if '!' in x else 0)\n",
        "data['spam'] = data['exclaim'] / data['first'] * 100 \n",
        "\n",
        "# cross variables\n",
        "abc_list = []\n",
        "classes=12\n",
        "for i in range(97, 123):\n",
        "    abc_list.append(str(chr(i)))\n",
        "train_lon, lon_bins = pd.qcut(data[\"longitude\"], classes, retbins=True, labels=abc_list[0:classes])\n",
        "train_lat, lat_bins = pd.qcut(data[\"latitude\"], classes, retbins=True, labels=abc_list[0:classes])\n",
        "train_lon = train_lon.astype(object)\n",
        "train_lat = train_lat.astype(object)\n",
        "data[\"grid\"] = train_lon + train_lat\n",
        "le = preprocessing.LabelEncoder()\n",
        "le.fit(data[\"grid\"])\n",
        "data[\"grid\"] = le.transform(data[\"grid\"])\n",
        "\n",
        "clf = tree.DecisionTreeClassifier()\n",
        "params = ['bedrooms', 'bathrooms', 'num_features', 'grid']\n",
        "clf = clf.fit(data[params], data['price'])\n",
        "data[\"exp_price\"] = pd.DataFrame(clf.predict(data[params]).tolist()).set_index(data.index)\n",
        "data[\"overprice\"] = data[\"price\"] - data[\"exp_price\"]\n",
        "\n",
        "# second argument for binning continuous features\n",
        "\n",
        "def doit(vari, bins=0):\n",
        "    df = data[:]\n",
        "    if bins:\n",
        "        df[vari], labels = pd.qcut(df[vari], bins, retbins=True, labels=False)\n",
        "        print('Bin intervals')\n",
        "        print(labels.astype(int))\n",
        "    a = df.groupby(vari)[lvl].sum()\n",
        "    b = df.groupby(vari)[lvl].count()\n",
        "    c = a/b\n",
        "    d = pd.DataFrame(dist, c.index)\n",
        "    e = (c-d) * 100\n",
        "    \n",
        "    ax = e.plot()\n",
        "    ax.set_ylabel('Deviation from global (%)')\n",
        "    plt.axhline(y=0, color='k', linestyle='--')\n",
        "    plt.show()\n",
        "    plt.close()\n",
        "    e.plot(kind='hist', alpha=0.5)\n",
        "    plt.show()\n",
        "    plt.close()"
      ]
    },
    {
      "cell_type": "code",
      "execution_count": null,
      "metadata": {
        "_cell_guid": "d417a942-c5f1-360d-017b-e9717b15cf31"
      },
      "outputs": [],
      "source": [
        "doit('spam', 5)"
      ]
    },
    {
      "cell_type": "code",
      "execution_count": null,
      "metadata": {
        "_cell_guid": "5354dea7-d68a-7786-d591-d13674d91410"
      },
      "outputs": [],
      "source": [
        "# price group\n",
        "doit('price', 10)"
      ]
    },
    {
      "cell_type": "code",
      "execution_count": null,
      "metadata": {
        "_cell_guid": "6aebf1cd-171e-544a-bf05-94805b0764a5"
      },
      "outputs": [],
      "source": [
        "doit('listing_id', 20)"
      ]
    },
    {
      "cell_type": "code",
      "execution_count": null,
      "metadata": {
        "_cell_guid": "62b7e24a-30a0-f350-fc71-f0592ceb77a1"
      },
      "outputs": [],
      "source": [
        "doit('pricet', 10)"
      ]
    },
    {
      "cell_type": "code",
      "execution_count": null,
      "metadata": {
        "_cell_guid": "6ce8afc8-3f91-4689-7980-d4bec7833b9e"
      },
      "outputs": [],
      "source": [
        "doit('latitude', 20)"
      ]
    },
    {
      "cell_type": "code",
      "execution_count": null,
      "metadata": {
        "_cell_guid": "577385ac-7ab1-262a-29ae-b52447bf9ad0"
      },
      "outputs": [],
      "source": [
        "doit('latitude', 20)"
      ]
    },
    {
      "cell_type": "code",
      "execution_count": null,
      "metadata": {
        "_cell_guid": "1368ee30-04c5-8086-41ed-ba9433e27d11"
      },
      "outputs": [],
      "source": [
        "doit('listing_id', 10)"
      ]
    }
  ],
  "metadata": {
    "_change_revision": 0,
    "_is_fork": false,
    "kernelspec": {
      "display_name": "Python 3",
      "language": "python",
      "name": "python3"
    },
    "language_info": {
      "codemirror_mode": {
        "name": "ipython",
        "version": 3
      },
      "file_extension": ".py",
      "mimetype": "text/x-python",
      "name": "python",
      "nbconvert_exporter": "python",
      "pygments_lexer": "ipython3",
      "version": "3.6.0"
    }
  },
  "nbformat": 4,
  "nbformat_minor": 0
}