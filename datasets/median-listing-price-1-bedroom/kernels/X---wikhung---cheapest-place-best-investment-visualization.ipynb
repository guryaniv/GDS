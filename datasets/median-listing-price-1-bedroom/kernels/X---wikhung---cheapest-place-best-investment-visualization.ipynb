{
  "cells": [
    {
      "cell_type": "markdown",
      "metadata": {
        "_cell_guid": "cf617364-ea74-994d-477b-557da22259a6"
      },
      "source": [
        "### 11-8-2016\n",
        "Just trying out some ideas to visualize the data. Two things I have focused thus far: 1) the average listing price over the years for each region, and 2) pricing trend for each region.\n",
        "\n",
        "*Will update this script with more graphs in the future and write a more proper introduction.*"
      ]
    },
    {
      "cell_type": "code",
      "execution_count": null,
      "metadata": {
        "_cell_guid": "22e0baeb-2db9-bd1a-da2d-1e6e1d3da675"
      },
      "outputs": [],
      "source": [
        "# This Python 3 environment comes with many helpful analytics libraries installed\n",
        "# It is defined by the kaggle/python docker image: https://github.com/kaggle/docker-python\n",
        "# For example, here's several helpful packages to load in \n",
        "\n",
        "import numpy as np # linear algebra\n",
        "import pandas as pd # data processing, CSV file I/O (e.g. pd.read_csv)\n",
        "import matplotlib.pyplot as plt\n",
        "import matplotlib.dates as mdates\n",
        "# Input data files are available in the \"../input/\" directory.\n",
        "# For example, running this (by clicking run or pressing Shift+Enter) will list the files in the input directory\n",
        "\n",
        "%matplotlib inline\n",
        "\n",
        "from subprocess import check_output\n",
        "print(check_output([\"ls\", \"../input\"]).decode(\"utf8\"))\n",
        "\n",
        "# Any results you write to the current directory are saved as output."
      ]
    },
    {
      "cell_type": "code",
      "execution_count": null,
      "metadata": {
        "_cell_guid": "d9bc9251-999c-b4ac-cf29-8925a35e5a22"
      },
      "outputs": [],
      "source": [
        "# Read the data\n",
        "df = pd.read_csv('../input/median_price.csv')\n",
        "df.shape # 67 Regions, 87 Variables"
      ]
    },
    {
      "cell_type": "code",
      "execution_count": null,
      "metadata": {
        "_cell_guid": "cf50c328-7088-2bab-9b8e-efc3afafcc42"
      },
      "outputs": [],
      "source": [
        "# Get the median listing price columns \n",
        "prices = df.columns[6:]"
      ]
    },
    {
      "cell_type": "code",
      "execution_count": null,
      "metadata": {
        "_cell_guid": "b26c5680-d549-ddb8-d656-20a605cb0375"
      },
      "outputs": [],
      "source": [
        "# Calculate the average listing price and the variance over the time period\n",
        "df['average_price'] = np.nanmean(df[prices], axis = 1)\n",
        "df['price_variance'] = np.nanvar(df[prices], axis = 1)\n",
        "df['size'] = df.shape[0] - df['SizeRank'] # Reverse code the size rank so larger number = larger size"
      ]
    },
    {
      "cell_type": "markdown",
      "metadata": {
        "_cell_guid": "8e18e905-6e75-1f66-8e8f-c0dd415e8b64"
      },
      "source": [
        "# Take a quick look at the data\n",
        "### 9 out of the 10 regions with highest listing price over the years are from New York. Anyone surprised?"
      ]
    },
    {
      "cell_type": "code",
      "execution_count": null,
      "metadata": {
        "_cell_guid": "f26f4e5a-b8ac-f1e7-5440-9cb3192e06f3"
      },
      "outputs": [],
      "source": [
        "df[['RegionName', 'City', 'average_price']].nlargest(10, 'average_price')"
      ]
    },
    {
      "cell_type": "markdown",
      "metadata": {
        "_cell_guid": "a57fad47-3d79-ee4b-b8b7-6b1accd9cceb"
      },
      "source": [
        "### Let's look at the other end of the spectrum, lowest listing price regions over the time period."
      ]
    },
    {
      "cell_type": "code",
      "execution_count": null,
      "metadata": {
        "_cell_guid": "22d041c1-8c7c-c658-b8b0-c9ddea188650"
      },
      "outputs": [],
      "source": [
        "df[['RegionName', 'City', 'average_price']].nsmallest(10, 'average_price')"
      ]
    },
    {
      "cell_type": "markdown",
      "metadata": {
        "_cell_guid": "180ae70d-f7cf-8233-3471-7d4c986931db"
      },
      "source": [
        "### Let's take a look at how the average price over the time period is related to size of the region and volatility of the price."
      ]
    },
    {
      "cell_type": "code",
      "execution_count": null,
      "metadata": {
        "_cell_guid": "97f3b0d7-fd80-431b-cd26-eb929d73b0a7"
      },
      "outputs": [],
      "source": [
        "colors = np.random.rand(df.shape[0]) #Color code for each region\n",
        "# Use size of the point to indicate price fluctuations over the years (Larger = more fluctuation)\n",
        "sizes = df['price_variance'] / 10 #Scale the variance by a factor of 10 so the sizes are more managable\n",
        "\n",
        "plt.style.use('fivethirtyeight') #Use the fivethirtyeight style\n",
        "\n",
        "# Scatter plot of the data\n",
        "plt.scatter(df['size'], df['average_price'], s = sizes, c = colors, alpha = 0.7)\n",
        "plt.ylim([0, 2500])\n",
        "plt.xlim([-10, 85])\n",
        "plt.ylabel('Median Listing Price')\n",
        "plt.xlabel('Size')\n",
        "labels = df['RegionName']\n",
        "plt.text(-10, 2500, 'Size of the dot represents variance in price for the region',\n",
        "         fontsize = 10,\n",
        "         color = 'red')\n",
        "# Find the regions with top 5 variance in price over the time period and label the them in the plot\n",
        "top5variance = df[['RegionName', 'size', 'average_price', 'price_variance']].nlargest(5, 'price_variance')\n",
        "for r in top5variance.itertuples(index = False):\n",
        "    plt.annotate(r[0], xy = (r[1], r[2]),\n",
        "                 size = 10,\n",
        "                 xycoords = 'data',\n",
        "                 xytext = (r[1]+10, r[2] + 20),\n",
        "                 arrowprops = dict(arrowstyle = '->', color = 'black'))\n",
        "plt.show()"
      ]
    },
    {
      "cell_type": "markdown",
      "metadata": {
        "_cell_guid": "191a5e83-3c50-62d6-3141-330ba512c645"
      },
      "source": [
        "As we can see above, prices of the largest regions tend to fluctuate more over the time period. List price is fairly stable for the smllaer region. I am going to actually explore the price trend below.\n",
        "\n",
        "# Plotting the price trend for the regions with top 5 price variance"
      ]
    },
    {
      "cell_type": "code",
      "execution_count": null,
      "metadata": {
        "_cell_guid": "8145a6d3-8187-1b05-b9c8-906bfd35966f"
      },
      "outputs": [],
      "source": [
        "top10variances = df.nlargest(5, 'price_variance')\n",
        "\n",
        "yearsFmt = mdates.DateFormatter('%Y')\n",
        "for i in range(5):\n",
        "    plt.plot_date(prices, top10variances.iloc[i][prices], 'o-')\n",
        "plt.ylim([500, 2300])\n",
        "plt.ylabel('Median Listing Price')\n",
        "ax = plt.axes()\n",
        "ax.xaxis.set_major_formatter(yearsFmt) # Only plot years at x axis\n",
        "plt.legend(top10variances['RegionName'], loc = 2, prop={'size':10})"
      ]
    },
    {
      "cell_type": "markdown",
      "metadata": {
        "_cell_guid": "9a351a5b-c1d6-c803-a3f3-f2fc93d6fd1c"
      },
      "source": [
        "We can see the regions with most price fluctuations all have an upward trend over the years. The exception   is Flatiron District which experienced a price dip in early 2015. The changes does not seem very impressive until you see the graph below.\n",
        "\n",
        "# Plotting the price trend for the regions with bottom 5 price variance"
      ]
    },
    {
      "cell_type": "code",
      "execution_count": null,
      "metadata": {
        "_cell_guid": "27da62e5-9720-ae32-af37-06d07dd2ec04"
      },
      "outputs": [],
      "source": [
        "lowestvariances = df.nsmallest(5, 'price_variance')\n",
        "for i in range(5):\n",
        "    plt.plot_date(prices, lowestvariances.iloc[i][prices], 'o-')\n",
        "plt.ylabel('Median Listing Price')\n",
        "ax = plt.axes()\n",
        "ax.xaxis.set_major_formatter(yearsFmt)\n",
        "plt.legend(lowestvariances['RegionName'], loc = 2, prop={'size':10})"
      ]
    },
    {
      "cell_type": "markdown",
      "metadata": {
        "_cell_guid": "3d83480f-ee9a-9578-c16a-b452ce44adad"
      },
      "source": [
        "The price trend is essentially flat for all these 5 regions."
      ]
    }
  ],
  "metadata": {
    "_change_revision": 0,
    "_is_fork": false,
    "kernelspec": {
      "display_name": "Python 3",
      "language": "python",
      "name": "python3"
    },
    "language_info": {
      "codemirror_mode": {
        "name": "ipython",
        "version": 3
      },
      "file_extension": ".py",
      "mimetype": "text/x-python",
      "name": "python",
      "nbconvert_exporter": "python",
      "pygments_lexer": "ipython3",
      "version": "3.5.2"
    }
  },
  "nbformat": 4,
  "nbformat_minor": 0
}