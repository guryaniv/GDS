{
  "cells": [
    {
      "cell_type": "code",
      "execution_count": null,
      "metadata": {
        "_cell_guid": "3e763f14-2d5a-1082-e0a6-3a002d1fbcc5"
      },
      "outputs": [],
      "source": [
        "import numpy as np # linear algebra\n",
        "import pandas as pd # data processing, CSV file I/O (e.g. pd.read_csv)\n",
        "\n",
        "# Input data files are available in the \"../input/\" directory.\n",
        "# For example, running this (by clicking run or pressing Shift+Enter) will list the files in the input directory\n",
        "\n",
        "from subprocess import check_output\n",
        "print(check_output([\"ls\", \"../input\"]).decode(\"utf8\"))\n",
        "\n",
        "# Any results you write to the current directory are saved as output."
      ]
    },
    {
      "cell_type": "code",
      "execution_count": null,
      "metadata": {
        "_cell_guid": "99cfc523-b8a3-a6ef-f8b0-6cf939ad8b4a"
      },
      "outputs": [],
      "source": [
        "df = pd.read_csv(\"../input/kc_house_data.csv\")"
      ]
    },
    {
      "cell_type": "code",
      "execution_count": null,
      "metadata": {
        "_cell_guid": "c845e667-80cd-b29d-81d8-70ce14e11ba3"
      },
      "outputs": [],
      "source": [
        "import matplotlib.pyplot as plt\n",
        "import matplotlib\n",
        "import seaborn as sns\n",
        "%matplotlib inline\n",
        "\n",
        "g = sns.lmplot(x=\"sqft_living\", y=\"price\", hue=\"floors\", data=df, size=7 )\n",
        "g.set_axis_labels(\"Living Room Square Feet\", \"Price\")"
      ]
    },
    {
      "cell_type": "code",
      "execution_count": null,
      "metadata": {
        "_cell_guid": "ef1349dc-1f8d-87bd-56fd-bba5235e5933"
      },
      "outputs": [],
      "source": [
        "sns.set(style=\"white\")\n",
        "h = sns.PairGrid(df[[\"bedrooms\", \"price\", \"grade\"]], diag_sharey=False)\n",
        "h.map_lower(sns.kdeplot, cmap=\"Blues_d\")\n",
        "h.map_upper(plt.scatter)\n",
        "h.map_diag(sns.kdeplot, lw=3)"
      ]
    },
    {
      "cell_type": "code",
      "execution_count": null,
      "metadata": {
        "_cell_guid": "55ed49a3-bea3-4717-8f11-ceef6ddb607a"
      },
      "outputs": [],
      "source": [
        ""
      ]
    },
    {
      "cell_type": "code",
      "execution_count": null,
      "metadata": {
        "_cell_guid": "a6467dd8-c1f6-4b2d-ae51-ed5d7985c08d"
      },
      "outputs": [],
      "source": [
        ""
      ]
    },
    {
      "cell_type": "code",
      "execution_count": null,
      "metadata": {
        "_cell_guid": "d0d1bc48-f894-4415-ab2d-a3a2481b8f84"
      },
      "outputs": [],
      "source": [
        ""
      ]
    },
    {
      "cell_type": "code",
      "execution_count": null,
      "metadata": {
        "_cell_guid": "cbccda7b-622b-a2a5-1fc4-28e692d8309e"
      },
      "outputs": [],
      "source": [
        "df.price.plot(kind=\"hist\", bins=100)\n",
        "sns.despine()"
      ]
    },
    {
      "cell_type": "code",
      "execution_count": null,
      "metadata": {
        "_cell_guid": "e07f811f-919b-1cc6-93b1-99096433e6e2"
      },
      "outputs": [],
      "source": [
        "df.condition.plot(kind=\"hist\", bins=5)"
      ]
    },
    {
      "cell_type": "code",
      "execution_count": null,
      "metadata": {
        "_cell_guid": "917bd27c-3443-afc2-19bb-8d5f008a9c4c"
      },
      "outputs": [],
      "source": [
        "df.yr_built.plot(kind=\"hist\")"
      ]
    },
    {
      "cell_type": "code",
      "execution_count": null,
      "metadata": {
        "_cell_guid": "a323e51f-99e1-4392-8958-3bec2c389d1e"
      },
      "outputs": [],
      "source": [
        "# This Python 3 environment comes with many helpful analytics libraries installed\n",
        "# It is defined by the kaggle/python docker image: https://github.com/kaggle/docker-python\n",
        "# For example, here's several helpful packages to load in \n",
        "\n",
        "import numpy as np # linear algebra\n",
        "import pandas as pd # data processing, CSV file I/O (e.g. pd.read_csv)\n",
        "\n",
        "# Input data files are available in the \"../input/\" directory.\n",
        "# For example, running this (by clicking run or pressing Shift+Enter) will list the files in the input directory\n",
        "\n",
        "from subprocess import check_output\n",
        "print(check_output([\"ls\", \"../input\"]).decode(\"utf8\"))\n",
        "\n",
        "# Any results you write to the current directory are saved as output."
      ]
    },
    {
      "cell_type": "code",
      "execution_count": null,
      "metadata": {
        "_cell_guid": "f7dcc187-f458-43a1-b675-4131ba6eaeac"
      },
      "outputs": [],
      "source": [
        ""
      ]
    }
  ],
  "metadata": {
    "_change_revision": 0,
    "_is_fork": false,
    "kernelspec": {
      "display_name": "Python 3",
      "language": "python",
      "name": "python3"
    },
    "language_info": {
      "codemirror_mode": {
        "name": "ipython",
        "version": 3
      },
      "file_extension": ".py",
      "mimetype": "text/x-python",
      "name": "python",
      "nbconvert_exporter": "python",
      "pygments_lexer": "ipython3",
      "version": "3.5.2"
    }
  },
  "nbformat": 4,
  "nbformat_minor": 0
}