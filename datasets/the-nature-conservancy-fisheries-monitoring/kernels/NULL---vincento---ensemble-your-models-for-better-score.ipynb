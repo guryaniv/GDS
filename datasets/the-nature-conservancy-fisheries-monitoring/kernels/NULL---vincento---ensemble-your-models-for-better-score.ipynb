{
  "cells": [
    {
      "cell_type": "code",
      "execution_count": null,
      "metadata": {
        "_cell_guid": "335a6994-7113-afee-3a6c-afb802e4187a"
      },
      "outputs": [],
      "source": [
        "from __future__ import division\n",
        "from glob import glob\n",
        "import sys\n",
        "import pandas as pd\n",
        "import numpy as np\n",
        "import os"
      ]
    },
    {
      "cell_type": "code",
      "execution_count": null,
      "metadata": {
        "_cell_guid": "2fa16b08-b89c-71d5-c6c6-8fb692d8d148"
      },
      "outputs": [],
      "source": [
        "glob_files = './s*.csv'\n",
        "root_folder = '/Users/red/Desktop/geo_mean/'\n",
        "outfile_name = 'kaggle_mean_ensemble.csv'\n",
        "dataframes = '{}'"
      ]
    },
    {
      "cell_type": "code",
      "execution_count": null,
      "metadata": {
        "_cell_guid": "3ea7f5cb-26f9-a4ff-6bae-d6d51ae99d80"
      },
      "outputs": [],
      "source": [
        "glob_files = './s*.csv'\n",
        "root_folder = '/Users/red/Desktop/geo_mean/'\n",
        "outfile_name = 'kaggle_mean_ensemble.csv'\n",
        "dataframes = '{}'"
      ]
    },
    {
      "cell_type": "code",
      "execution_count": null,
      "metadata": {
        "_cell_guid": "ce0e080e-746a-c1d8-cc46-af0bcc140915"
      },
      "outputs": [],
      "source": [
        "images = dataframes['./s1.csv']['image']\n"
      ]
    },
    {
      "cell_type": "code",
      "execution_count": null,
      "metadata": {
        "_cell_guid": "bcf50540-2d48-3c63-8f5e-44b488ba2913"
      },
      "outputs": [],
      "source": [
        "COLUMNS = dataframes['./s5.csv'].columns"
      ]
    },
    {
      "cell_type": "code",
      "execution_count": null,
      "metadata": {
        "_cell_guid": "07b7db45-4cc5-2bf7-2647-c206f3b3f6ea"
      },
      "outputs": [],
      "source": [
        "KEYS = dataframes.keys()\n"
      ]
    },
    {
      "cell_type": "code",
      "execution_count": null,
      "metadata": {
        "_cell_guid": "31e53061-cce8-c79c-cc39-57ff446eec47"
      },
      "outputs": [],
      "source": [
        "images = dataframes['./s1.csv']['image']\n",
        "f_submit = open(os.path.join(root_folder, outfile_name), 'wa')\n",
        "f_submit.write('image,ALB,BET,DOL,LAG,NoF,OTHER,SHARK,YFT\\n')\n",
        "for image in images:\n",
        "    BET = []\n",
        "    ALB = []\n",
        "    DOL =[]\n",
        "    LAG = []\n",
        "    NoF = []\n",
        "    OTHER = []\n",
        "    SHARK = []\n",
        "    YFT = []\n",
        "    for key in KEYS:\n",
        "        row = dataframes[key][dataframes[key]['image'] == image]\n",
        "        BET.append(row['BET'].values)\n",
        "        ALB.append(row['ALB'].values)\n",
        "        DOL.append(row['DOL'].values)\n",
        "        LAG.append(row['LAG'].values)\n",
        "        NoF.append(row['NoF'].values)\n",
        "        OTHER.append(row['OTHER'].values)\n",
        "        SHARK.append(row['SHARK'].values)\n",
        "        YFT.append(row['YFT'].values)\n",
        "    \n",
        "    write_row = \",\".join([image,str(np.mean(ALB)),str(np.mean(BET)),str(np.mean(DOL)),str(np.mean(LAG)),str(np.mean(NoF)),str(np.mean(OTHER)),str(np.mean(SHARK)),str(np.mean(YFT))]) \n",
        "    f_submit.write(write_row)\n",
        "    f_submit.write(\"\\n\")\n",
        "f_submit.close()"
      ]
    },
    {
      "cell_type": "code",
      "execution_count": null,
      "metadata": {
        "_cell_guid": "0bc63b0b-3f22-90df-9ac2-96e7d6251ee1"
      },
      "outputs": [],
      "source": ""
    }
  ],
  "metadata": {
    "_change_revision": 0,
    "_is_fork": false,
    "kernelspec": {
      "display_name": "Python 3",
      "language": "python",
      "name": "python3"
    },
    "language_info": {
      "codemirror_mode": {
        "name": "ipython",
        "version": 3
      },
      "file_extension": ".py",
      "mimetype": "text/x-python",
      "name": "python",
      "nbconvert_exporter": "python",
      "pygments_lexer": "ipython3",
      "version": "3.6.0"
    }
  },
  "nbformat": 4,
  "nbformat_minor": 0
}