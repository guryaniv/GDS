{
  "cells": [
    {
      "cell_type": "code",
      "execution_count": null,
      "metadata": {
        "_cell_guid": "d37edd48-9a4c-d54f-c606-ac86be2ce5e7"
      },
      "outputs": [],
      "source": [
        "%matplotlib inline\n",
        "import pandas as pd\n",
        "import numpy as np\n",
        "import matplotlib as mpl\n",
        "import matplotlib.pyplot as plt\n",
        "\n",
        "import seaborn as sns\n",
        "\n",
        "from sklearn import linear_model"
      ]
    },
    {
      "cell_type": "code",
      "execution_count": null,
      "metadata": {
        "_cell_guid": "375b7ac5-568b-e143-98e8-16cc375ca311"
      },
      "outputs": [],
      "source": [
        "train = pd.read_csv(\"../input/train.csv\")"
      ]
    },
    {
      "cell_type": "code",
      "execution_count": null,
      "metadata": {
        "_cell_guid": "481ecb21-95d0-2ee9-6030-2386252d4980"
      },
      "outputs": [],
      "source": [
        "train.head()"
      ]
    },
    {
      "cell_type": "code",
      "execution_count": null,
      "metadata": {
        "_cell_guid": "70d6be31-4d8e-b829-d4de-84e880f26180"
      },
      "outputs": [],
      "source": [
        "with sns.axes_style(\"whitegrid\"):\n",
        "    train.LotArea.hist(bins=50)"
      ]
    },
    {
      "cell_type": "code",
      "execution_count": null,
      "metadata": {
        "_cell_guid": "fa03f501-d8c2-c618-e344-0ade467e871c"
      },
      "outputs": [],
      "source": [
        ""
      ]
    },
    {
      "cell_type": "code",
      "execution_count": null,
      "metadata": {
        "_cell_guid": "1ecf0a29-a6f9-efcf-47e3-ddd55fac03e6"
      },
      "outputs": [],
      "source": [
        "plt.scatter(train.OverallQual, train.SalePrice, lw=1)\n",
        "plt.xlabel(\"Overall Quality\")\n",
        "plt.ylabel(\"Sale Price\")"
      ]
    },
    {
      "cell_type": "code",
      "execution_count": null,
      "metadata": {
        "_cell_guid": "4dae758c-aa08-37e1-65be-e9f385cae6c8"
      },
      "outputs": [],
      "source": [
        "plt.scatter(train.OverallCond, train.SalePrice, lw=1)\n",
        "plt.xlabel(\"Overall Condition\")\n",
        "plt.ylabel(\"Sale Price\")"
      ]
    },
    {
      "cell_type": "code",
      "execution_count": null,
      "metadata": {
        "_cell_guid": "aecd298b-01fa-fdf3-5520-b67970e872e9"
      },
      "outputs": [],
      "source": [
        "plt.scatter(train.TotalBsmtSF, train.SalePrice, lw=1)\n",
        "plt.xlabel(\"Total Basement Area\")\n",
        "plt.ylabel(\"Sale Price\")"
      ]
    },
    {
      "cell_type": "code",
      "execution_count": null,
      "metadata": {
        "_cell_guid": "37504be0-4e55-058b-1f2b-b8577ed56640"
      },
      "outputs": [],
      "source": [
        "ls_feature = [\"LotArea\", \"TotalBsmtSF\", \"OverallQual\", \"TotRmsAbvGrd\", \"GarageArea\", \n",
        "              \"1stFlrSF\", \"2ndFlrSF\", \"YearBuilt\", \"YearRemodAdd\"]\n",
        "for i in ls_feature:\n",
        "    print(np.corrcoef(train[i].fillna(0), train[\"SalePrice\"]))"
      ]
    },
    {
      "cell_type": "code",
      "execution_count": null,
      "metadata": {
        "_cell_guid": "9bdf9688-e0da-ea7f-11ca-0d0624e29c8d"
      },
      "outputs": [],
      "source": [
        "train[\"FinishedArea\"] = train[\"TotalBsmtSF\"] - train[\"BsmtUnfSF\"]"
      ]
    },
    {
      "cell_type": "code",
      "execution_count": null,
      "metadata": {
        "_cell_guid": "5e59267c-3c6c-bed3-3dca-625cc0b8f78c"
      },
      "outputs": [],
      "source": [
        "#Prepping data for linear regression\n",
        "#ls_feature = [\"LotArea\", \"TotalBsmtSF\", \"OverallQual\", \"TotRmsAbvGrd\", \"GarageArea\", \"GarageCars\",\n",
        "#              \"1stFlrSF\", \"2ndFlrSF\", \"YearBuilt\", \"YearRemodAdd\"]\n",
        "ls_feature =[\"LotArea\",\"TotalBsmtSF\", \"OverallQual\", \"TotRmsAbvGrd\", \"GarageArea\",\n",
        "             \"1stFlrSF\", \"2ndFlrSF\", \"YearBuilt\", \"YearRemodAdd\", \"FinishedArea\"]\n",
        "test = pd.read_csv(\"../input/test.csv\")\n",
        "\n",
        "test[\"FinishedArea\"] = test[\"TotalBsmtSF\"] - test[\"BsmtUnfSF\"]\n",
        "\n",
        "test_X = test[ls_feature].fillna(0)\n",
        "\n",
        "train_X = train[ls_feature].fillna(0)\n",
        "train_Y = train[\"SalePrice\"].fillna(0)"
      ]
    },
    {
      "cell_type": "code",
      "execution_count": null,
      "metadata": {
        "_cell_guid": "8f3c5baa-63a2-8745-49e6-b857c28c85b5"
      },
      "outputs": [],
      "source": [
        "linreg = linear_model.LinearRegression()"
      ]
    },
    {
      "cell_type": "code",
      "execution_count": null,
      "metadata": {
        "_cell_guid": "f4677bb8-2f2f-3df0-5e9b-fc7e01ab119b"
      },
      "outputs": [],
      "source": [
        "linreg.fit(train_X, train_Y)"
      ]
    },
    {
      "cell_type": "code",
      "execution_count": null,
      "metadata": {
        "_cell_guid": "1affd849-ce95-e179-dc3e-04f8e18cc15d"
      },
      "outputs": [],
      "source": [
        "pred_Y = linreg.predict(test_X)"
      ]
    },
    {
      "cell_type": "code",
      "execution_count": null,
      "metadata": {
        "_cell_guid": "98e2c573-0b22-647a-703e-2a65f2b4e800"
      },
      "outputs": [],
      "source": [
        "pred_Y[pred_Y < 0] = 0\n",
        "linreg.score(train_X, train_Y)"
      ]
    },
    {
      "cell_type": "code",
      "execution_count": null,
      "metadata": {
        "_cell_guid": "44e94a98-9062-b2d0-6147-daf0521cb205"
      },
      "outputs": [],
      "source": [
        "df_out = pd.DataFrame({\"Id\":test[\"Id\"], \"SalePrice\":pred_Y})"
      ]
    },
    {
      "cell_type": "code",
      "execution_count": null,
      "metadata": {
        "_cell_guid": "98896167-8edb-6fdf-4466-a29284f22ab2"
      },
      "outputs": [],
      "source": [
        "df_out.to_csv(\"output_wolotFinishedArea.csv\", index=False)"
      ]
    }
  ],
  "metadata": {
    "_change_revision": 0,
    "_is_fork": false,
    "kernelspec": {
      "display_name": "Python 3",
      "language": "python",
      "name": "python3"
    },
    "language_info": {
      "codemirror_mode": {
        "name": "ipython",
        "version": 3
      },
      "file_extension": ".py",
      "mimetype": "text/x-python",
      "name": "python",
      "nbconvert_exporter": "python",
      "pygments_lexer": "ipython3",
      "version": "3.6.0"
    }
  },
  "nbformat": 4,
  "nbformat_minor": 0
}