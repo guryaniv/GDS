{
  "cells": [
    {
      "cell_type": "code",
      "execution_count": null,
      "metadata": {
        "_cell_guid": "edc27297-e1cd-9503-05da-2505454c145e"
      },
      "outputs": [],
      "source": [
        "# This Python 3 environment comes with many helpful analytics libraries installed\n",
        "# It is defined by the kaggle/python docker image: https://github.com/kaggle/docker-python\n",
        "# For example, here's several helpful packages to load in \n",
        "\n",
        "import numpy as np # linear algebra\n",
        "import pandas as pd # data processing, CSV file I/O (e.g. pd.read_csv)\n",
        "import matplotlib.pyplot as plt\n",
        "\n",
        "# Input data files are available in the \"../input/\" directory.\n",
        "# For example, running this (by clicking run or pressing Shift+Enter) will list the files in the input directory\n",
        "\n",
        "from subprocess import check_output\n",
        "print(check_output([\"ls\", \"../input\"]).decode(\"utf8\"))\n",
        "\n",
        "# Any results you write to the current directory are saved as output."
      ]
    },
    {
      "cell_type": "code",
      "execution_count": null,
      "metadata": {
        "_cell_guid": "501fca61-0d0b-9a65-ac28-8b47e9c20783"
      },
      "outputs": [],
      "source": [
        "import matplotlib.pyplot as plt\n",
        "import seaborn as sns\n",
        "import timeit\n",
        "import math\n",
        "\n",
        "# vectorized error calc\n",
        "def rmsle(y, y0):\n",
        "    assert len(y) == len(y0)\n",
        "    return np.sqrt(np.mean(np.power(np.log1p(y)-np.log1p(y0), 2)))"
      ]
    },
    {
      "cell_type": "code",
      "execution_count": null,
      "metadata": {
        "_cell_guid": "63c544f3-64c9-4872-3981-d552b0e46066"
      },
      "outputs": [],
      "source": [
        "train_df = pd.read_csv(\"../input/train.csv\")\n",
        "train_df = train_df.sort_values(by='timestamp')\n",
        "\n",
        "# split train / test\n",
        "train = train_df[train_df['timestamp']< \"2014-08-01\"]\n",
        "test  = train_df[train_df['timestamp']>= \"2014-08-01\"]"
      ]
    },
    {
      "cell_type": "code",
      "execution_count": null,
      "metadata": {
        "_cell_guid": "4569fc06-b131-e451-44fd-17996dcaff02"
      },
      "outputs": [],
      "source": [
        "print(train.shape)\n",
        "print(test.shape)"
      ]
    },
    {
      "cell_type": "markdown",
      "metadata": {
        "_cell_guid": "ce3efb64-d837-5b4c-f022-6909f4adf898"
      },
      "source": [
        "**Plotting prices**"
      ]
    },
    {
      "cell_type": "code",
      "execution_count": null,
      "metadata": {
        "_cell_guid": "2f0b4f22-6554-e461-44cf-f63cba191bee"
      },
      "outputs": [],
      "source": [
        "plt.scatter(train['id'], train['price_doc'], alpha=0.5, cmap='viridis')\n",
        "plt.show()"
      ]
    },
    {
      "cell_type": "code",
      "execution_count": null,
      "metadata": {
        "_cell_guid": "6b0ff841-86f8-3c89-2493-b5b7f09a002d"
      },
      "outputs": [],
      "source": [
        "train.head(1)"
      ]
    },
    {
      "cell_type": "code",
      "execution_count": null,
      "metadata": {
        "_cell_guid": "c7e050ac-8098-97c5-577e-4e1e5edf9eb9"
      },
      "outputs": [],
      "source": [
        "# moving average\n",
        "# first let's average per day\n",
        "#train['day'] = train['timestamp'].dt.day\n",
        "\n",
        "#train['timestamp'].values\n",
        "pd.to_datetime(train['timestamp'])\n",
        "\n",
        "#train['moving_average'] = train['price_doc'].rolling(1000).mean()\n",
        "#plt.scatter(train['id'], train['moving_average'])\n",
        "#plt.show()"
      ]
    },
    {
      "cell_type": "markdown",
      "metadata": {
        "_cell_guid": "64ec5af9-cb90-2407-3066-323819e3e838"
      },
      "source": [
        "**Basic mean prediction**"
      ]
    },
    {
      "cell_type": "code",
      "execution_count": null,
      "metadata": {
        "_cell_guid": "1bf00882-a129-cbbf-be86-30e51224b178"
      },
      "outputs": [],
      "source": [
        "train.price_doc.mean()"
      ]
    },
    {
      "cell_type": "code",
      "execution_count": null,
      "metadata": {
        "_cell_guid": "933d02f2-2773-3047-adeb-204c0af27df0"
      },
      "outputs": [],
      "source": [
        "rmsle(np.repeat(6823634.024752475,9261), test['price_doc'].values)"
      ]
    },
    {
      "cell_type": "code",
      "execution_count": null,
      "metadata": {
        "_cell_guid": "6392ed13-73f0-91a8-7595-2acb0c58aba4"
      },
      "outputs": [],
      "source": [
        "train.price_doc.median()"
      ]
    },
    {
      "cell_type": "code",
      "execution_count": null,
      "metadata": {
        "_cell_guid": "2022cd1b-7d0c-50dc-5c77-5ff4a33bccaf"
      },
      "outputs": [],
      "source": [
        "rmsle(np.repeat(6000000,9261), test['price_doc'].values)"
      ]
    },
    {
      "cell_type": "code",
      "execution_count": null,
      "metadata": {
        "_cell_guid": "fb45853c-7199-2726-4cf4-e557814a64d4"
      },
      "outputs": [],
      "source": [
        "#list(train.columns.values)"
      ]
    },
    {
      "cell_type": "markdown",
      "metadata": {
        "_cell_guid": "3ae9c652-487f-eff9-9fc9-bc63bde27475"
      },
      "source": [
        "**Predictions based on price per sqm and area**"
      ]
    },
    {
      "cell_type": "code",
      "execution_count": null,
      "metadata": {
        "_cell_guid": "7fdb72b6-809c-a59f-fe59-f7c50e7ab480"
      },
      "outputs": [],
      "source": [
        "gb = train.groupby(['area_m'])\n",
        "\n",
        "dfagg = pd.DataFrame()\n",
        "\n",
        "# bayesian average\n",
        "dfagg['avg_price_per_sqm'] = (5 * 6000000 + gb.price_doc.sum()) / (5 * 40 + gb.full_sq.sum())\n",
        "\n",
        "dfagg['observations_count'] = gb.price_doc.count()\n",
        "dfagg.reset_index(inplace=True)\n",
        "dfagg.head()"
      ]
    },
    {
      "cell_type": "code",
      "execution_count": null,
      "metadata": {
        "_cell_guid": "3b877e66-c694-e567-32f0-6aba758e324d"
      },
      "outputs": [],
      "source": [
        "test_merged = pd.merge(test, dfagg, how='left', on=['area_m'])\n",
        "test_merged['avg_price_per_sqm'] = test_merged.avg_price_per_sqm.replace(np.NaN, 6823634.024752475)\n",
        "test_merged['est_price'] = test_merged['avg_price_per_sqm'] * test_merged['full_sq']\n",
        "test_merged.head()"
      ]
    },
    {
      "cell_type": "code",
      "execution_count": null,
      "metadata": {
        "_cell_guid": "81aaddb3-c70b-c168-8973-544c61330f8a"
      },
      "outputs": [],
      "source": [
        "rmsle(test_merged['est_price'].values, test_merged['price_doc'].values)"
      ]
    },
    {
      "cell_type": "markdown",
      "metadata": {
        "_cell_guid": "f212d69a-3b5c-d206-3c61-d1ee688755a2"
      },
      "source": [
        "**Predictions based on price per sqm, area and subarea**"
      ]
    },
    {
      "cell_type": "code",
      "execution_count": null,
      "metadata": {
        "_cell_guid": "2cca7043-66e4-69f6-2a9c-0753d9b81b47"
      },
      "outputs": [],
      "source": [
        "gb = train.groupby(['area_m', 'sub_area'])\n",
        "\n",
        "dfagg = pd.DataFrame()\n",
        "dfagg['avg_price_per_sqm'] = gb.price_doc.sum() / gb.full_sq.sum()\n",
        "dfagg.reset_index(inplace=True)\n",
        "\n",
        "test_merged = pd.merge(test, dfagg, how='left', on=['area_m', 'sub_area'])\n",
        "test_merged['avg_price_per_sqm'] = test_merged.avg_price_per_sqm.replace(np.NaN, 6623634)\n",
        "test_merged['est_price'] = test_merged['avg_price_per_sqm'] * test_merged['full_sq']\n",
        "\n",
        "rmsle(test_merged['est_price'].values, test_merged['price_doc'].values)"
      ]
    },
    {
      "cell_type": "code",
      "execution_count": null,
      "metadata": {
        "_cell_guid": "11fff929-6405-98fe-ec00-93dbffdd96b2"
      },
      "outputs": [],
      "source": ""
    }
  ],
  "metadata": {
    "_change_revision": 0,
    "_is_fork": false,
    "kernelspec": {
      "display_name": "Python 3",
      "language": "python",
      "name": "python3"
    },
    "language_info": {
      "codemirror_mode": {
        "name": "ipython",
        "version": 3
      },
      "file_extension": ".py",
      "mimetype": "text/x-python",
      "name": "python",
      "nbconvert_exporter": "python",
      "pygments_lexer": "ipython3",
      "version": "3.6.0"
    }
  },
  "nbformat": 4,
  "nbformat_minor": 0
}