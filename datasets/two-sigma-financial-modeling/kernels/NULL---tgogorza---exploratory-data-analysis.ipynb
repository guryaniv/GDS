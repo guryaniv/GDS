{
  "metadata": {
    "kernelspec": {
      "display_name": "Python 3",
      "language": "python",
      "name": "python3"
    },
    "language_info": {
      "codemirror_mode": {
        "name": "ipython",
        "version": 3
      },
      "file_extension": ".py",
      "mimetype": "text/x-python",
      "name": "python",
      "nbconvert_exporter": "python",
      "pygments_lexer": "ipython3",
      "version": "3.5.2"
    }
  },
  "nbformat": 4,
  "nbformat_minor": 0,
  "cells": [
    {
      "cell_type": "code",
      "execution_count": null,
      "metadata": {
        "_cell_guid": "10b9a3da-5cf8-71e4-1a34-0236ae613154",
        "_active": false
      },
      "outputs": [],
      "source": "# This Python 3 environment comes with many helpful analytics libraries installed\n# It is defined by the kaggle/python docker image: https://github.com/kaggle/docker-python\n# For example, here's several helpful packages to load in \n\nimport numpy as np # linear algebra\nimport pandas as pd # data processing, CSV file I/O (e.g. pd.read_csv)\n#from ggplot import *\n# Input data files are available in the \"../input/\" directory.\n# For example, running this (by clicking run or pressing Shift+Enter) will list the files in the input directory\n\n#from subprocess import check_output\n#print(check_output([\"ls\", \"../input\"]).decode(\"utf8\"))\nwith pd.HDFStore(\"../input/train.h5\", \"r\") as train:\n    # Note that the \"train\" dataframe is the only dataframe in the file\n    df = train.get(\"train\")\n\na = len(df.id.unique())\nb = len(df.timestamp.unique())\n\n# Any results you write to the current directory are saved as output.",
      "execution_state": "idle"
    },
    {
      "cell_type": "code",
      "execution_count": null,
      "metadata": {
        "_cell_guid": "b1537bdd-599e-941b-0488-09c59bdac294",
        "_active": true
      },
      "outputs": [],
      "source": "import kagglegym\n\n# Create environment\nenv = kagglegym.make()\n# Get first observation\nobservation = env.reset()\n# Look at first few rows of the train dataframe\ntraindf = observation.train\ntraindf.head()",
      "execution_state": "idle"
    },
    {
      "cell_type": "code",
      "execution_count": null,
      "metadata": {
        "_cell_guid": "488da224-72fe-08bc-01e1-cfdbec1ef3b0",
        "_active": false
      },
      "outputs": [],
      "source": "#Let's see how many different ids we have\ntraindf.id.unique().shape\n\n#Now let's grab 1 instrument (id=10)\nid10 = traindf[traindf.id == 10]\nid10.shape\nid10.head()",
      "execution_state": "idle"
    },
    {
      "cell_type": "code",
      "execution_count": null,
      "metadata": {
        "_cell_guid": "bb315fd1-bbfa-61e3-6470-45e33861ffb5",
        "_active": false
      },
      "outputs": [],
      "source": "#We can see a few columns with no data at all\nnans_per_column = id10.isnull().sum(axis=0)\nempty_columns = nans_per_column[nans_per_column == 116].index\nempty_columns",
      "execution_state": "idle"
    },
    {
      "cell_type": "code",
      "execution_count": null,
      "metadata": {
        "_cell_guid": "7e4dbf54-7429-f5b0-cd6d-c52e295d7063",
        "_active": false
      },
      "outputs": [],
      "source": "from ggplot import *\nimport pandas as pd\n#Let's plot the derived values\nid10derived = pd.melt(id10, id_vars=['id','timestamp'], value_vars=['derived_0','derived_1','derived_2','derived_3','derived_4'])\nprint( ggplot(id10derived, aes('timestamp','value',fill='variable')) + geom_line() )",
      "execution_state": "idle"
    },
    {
      "metadata": {
        "_cell_guid": "176043d1-26eb-ccd5-14aa-571058b682c7",
        "_active": false,
        "collapsed": false
      },
      "source": null,
      "execution_count": null,
      "cell_type": "code",
      "outputs": [],
      "execution_state": "idle"
    }
  ]
}