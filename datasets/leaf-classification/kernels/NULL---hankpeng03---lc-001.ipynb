{
  "cells": [
    {
      "cell_type": "code",
      "execution_count": null,
      "metadata": {
        "_cell_guid": "58d7dd2b-9329-95c6-b0db-d3d90e11ea6d"
      },
      "outputs": [],
      "source": [
        "# This Python 3 environment comes with many helpful analytics libraries installed\n",
        "# It is defined by the kaggle/python docker image: https://github.com/kaggle/docker-python\n",
        "# For example, here's several helpful packages to load in \n",
        "\n",
        "import numpy as np # linear algebra\n",
        "import pandas as pd # data processing, CSV file I/O (e.g. pd.read_csv)\n",
        "\n",
        "# Input data files are available in the \"../input/\" directory.\n",
        "# For example, running this (by clicking run or pressing Shift+Enter) will list the files in the input directory\n",
        "\n",
        "from subprocess import check_output\n",
        "print(check_output([\"ls\", \"../input\"]).decode(\"utf8\"))\n",
        "\n",
        "# Any results you write to the current directory are saved as output."
      ]
    },
    {
      "cell_type": "code",
      "execution_count": null,
      "metadata": {
        "_cell_guid": "2961284e-246a-7231-69c3-e044dc726b0d"
      },
      "outputs": [],
      "source": [
        "import pandas as pd\n",
        "import numpy as np\n",
        "from sklearn.metrics import r2_score\n",
        "from sklearn.ensemble import  BaggingClassifier\n",
        "from sklearn.ensemble import AdaBoostClassifier\n",
        "from sklearn.ensemble import GradientBoostingClassifier\n",
        "from sklearn.ensemble import VotingClassifier\n",
        "from sklearn import svm\n",
        "from sklearn.model_selection import  cross_val_score\n",
        "from sklearn.metrics import mean_squared_error\n",
        "from sklearn.model_selection import  train_test_split\n",
        "from sklearn.tree import DecisionTreeClassifier"
      ]
    },
    {
      "cell_type": "code",
      "execution_count": null,
      "metadata": {
        "_cell_guid": "9ff129a8-9669-40dd-204c-c026100e8d71"
      },
      "outputs": [],
      "source": [
        "df_train=pd.read_csv('../input/train.csv')\n",
        "df_test=pd.read_csv('../input/test.csv')\n",
        "index=list(df_train.columns)\n",
        "train_data=df_train[index[2:]]\n",
        "train_label=df_train[index[1]]\n",
        "del df_test['id']\n",
        "test_data=df_test"
      ]
    },
    {
      "cell_type": "code",
      "execution_count": null,
      "metadata": {
        "_cell_guid": "8da93aa4-a2ed-eadc-d26d-80098cd9cb56"
      },
      "outputs": [],
      "source": [
        "#summarize the missing data \n",
        "train_data.isnull().sum()\n",
        "#bulid BaggingClassifier model\n",
        "base_estimator_bag=DecisionTreeClassifier(criterion='gini',splitter='best',max_features=None,\n",
        "                                     max_depth=None,min_samples_split=2,min_samples_leaf=1,\n",
        "                                      min_impurity_split=1e-7)\n",
        "clf_bag=BaggingClassifier(n_estimators=50,base_estimator=base_estimator_bag,max_samples=1.0,max_features=0.7,bootstrap=True,\n",
        "                          bootstrap_features=False,oob_score=True,n_jobs=-1,random_state=22)\n",
        "#build AdaBoostingClassifier model\n",
        "base_estimator_ada=svm.SVC(kernel='rbf',gamma='auto',shrinking=True)\n",
        "clf_ada=AdaBoostClassifier(base_estimator=base_estimator_ada,n_estimators=50,algorithm='SAMME',\n",
        "                           random_state=44,learning_rate=0.1)\n",
        "#build GradientBoostingClassifier\n",
        "clf_GBCT=GradientBoostingClassifier(loss='deviance',learning_rate=0.1,n_estimators=50,\n",
        "                                    max_depth=4,subsample=0.7,max_features=0.7,random_state=55)\n",
        "eclf=VotingClassifier([('bag',clf_bag),('ada',clf_ada),('GBCT',clf_GBCT)],voting='hard')\n",
        "#a=cross_val_score(estimator=eclf,X=train_data,y=train_label,cv=5,n_jobs=-1)"
      ]
    },
    {
      "cell_type": "code",
      "execution_count": null,
      "metadata": {
        "_cell_guid": "fbb36523-ca7e-5d61-edd9-318926988570"
      },
      "outputs": [],
      "source": [
        "eclf.fit(X=train_data,y=train_label)"
      ]
    },
    {
      "cell_type": "code",
      "execution_count": null,
      "metadata": {
        "_cell_guid": "a86051ee-e32b-b0c6-1a19-a346bcecc52e"
      },
      "outputs": [],
      "source": [
        "#the prediction\n",
        "pred=eclf.predict(test_data)"
      ]
    }
  ],
  "metadata": {
    "_change_revision": 0,
    "_is_fork": false,
    "kernelspec": {
      "display_name": "Python 3",
      "language": "python",
      "name": "python3"
    },
    "language_info": {
      "codemirror_mode": {
        "name": "ipython",
        "version": 3
      },
      "file_extension": ".py",
      "mimetype": "text/x-python",
      "name": "python",
      "nbconvert_exporter": "python",
      "pygments_lexer": "ipython3",
      "version": "3.6.0"
    }
  },
  "nbformat": 4,
  "nbformat_minor": 0
}