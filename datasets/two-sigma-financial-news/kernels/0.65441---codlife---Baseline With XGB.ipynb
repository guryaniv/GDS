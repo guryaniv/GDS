{
  "cells": [
    {
      "metadata": {
        "_uuid": "512d64e04ad0533dd72ca6bcbca4882a7f289956"
      },
      "cell_type": "markdown",
      "source": "# Market Data Only Baseline\n\nUsing a lot of ideas from NN Baseline Kernel.\nsee. https://www.kaggle.com/christofhenkel/market-data-nn-baseline\nIf this help you, please vote, thankyou!"
    },
    {
      "metadata": {
        "_uuid": "8f2839f25d086af736a60e9eeb907d3b93b6e0e5",
        "_cell_guid": "b1076dfc-b9ad-4769-8c92-a6c4dae69d19",
        "trusted": true
      },
      "cell_type": "code",
      "source": "import pandas as pd\nimport numpy as np\nimport matplotlib.pyplot as plt\nimport time\nfrom sklearn.metrics import accuracy_score\nfrom kaggle.competitions import twosigmanews",
      "execution_count": null,
      "outputs": []
    },
    {
      "metadata": {
        "_cell_guid": "79c7e3d0-c299-4dcb-8224-4455121ee9b0",
        "_uuid": "d629ff2d2480ee46fbb7e2d37f6b5fab8052498a",
        "trusted": true,
        "scrolled": true
      },
      "cell_type": "code",
      "source": "env = twosigmanews.make_env()\n(market_train, news_train) = env.get_training_data()\n",
      "execution_count": null,
      "outputs": []
    },
    {
      "metadata": {
        "trusted": true,
        "_uuid": "d4685a572b83e69630ba7cb1f8b9dbe04db4e21d"
      },
      "cell_type": "code",
      "source": "# news_train['subjects'].nunique()\n# news_train['provider'].nunique()\n# print(news_train['audiences'].nunique())\n# print(news_train['time'].nunique())\n# print(news_train['sourceTimestamp'].nunique())\n# print(news_train['firstCreated'].nunique())\nprint(market_train['time'].nunique())\n# print(market_train['time'].head(10000))\n# news_sub = pd.DataFrame()\n# news_sub[['A','B','C']] = news_train[['assetName','sentimentNegative','sentimentNeutral','sentimentPositive']].groupby('assetName').count()\n# news_sub[['a','b','c']] = news_train[['assetName','sentimentNegative','sentimentNeutral','sentimentPositive']].groupby('assetName').mean()\n# market_train = market_train.join(news_sub,on='assetName',how='left')",
      "execution_count": null,
      "outputs": []
    },
    {
      "metadata": {
        "trusted": true,
        "_uuid": "5dfa1843dfece6fccfca91896ef85a332b55e3e6"
      },
      "cell_type": "code",
      "source": "cat_cols = ['assetCode']\nnum_cols = ['volume', 'close', 'open', 'returnsClosePrevRaw1', 'returnsOpenPrevRaw1', 'returnsClosePrevMktres1',\n                    'returnsOpenPrevMktres1', 'returnsClosePrevRaw10', 'returnsOpenPrevRaw10', 'returnsClosePrevMktres10',\n                    'returnsOpenPrevMktres10']\n",
      "execution_count": null,
      "outputs": []
    },
    {
      "metadata": {
        "trusted": true,
        "_uuid": "e108339134e95473b4a983237d58adb64c3ef64a"
      },
      "cell_type": "code",
      "source": "from sklearn.model_selection import train_test_split\n\n# market_train = market_train.loc[pd.to_datetime(market_train['time']) >= datetime(2009, 1, 1)]\nmarket_train = market_train.loc[pd.to_datetime(market_train['time']) >= pd.to_datetime('2009-01-01').tz_localize('UTC')]\n\ntrain_indices, val_indices = train_test_split(market_train.index.values,test_size=0.25, random_state=23)\n",
      "execution_count": null,
      "outputs": []
    },
    {
      "metadata": {
        "_uuid": "f51d00dc43857b446ae4a24b3718753f09040fd5"
      },
      "cell_type": "markdown",
      "source": "# Handling categorical variables"
    },
    {
      "metadata": {
        "trusted": true,
        "_uuid": "301a65b834d8614a914883d49be1860550174f06"
      },
      "cell_type": "code",
      "source": "def encode(encoder, x):\n    len_encoder = len(encoder)\n    try:\n        id = encoder[x]\n    except KeyError:\n        id = len_encoder\n    return id\n\nencoders = [{} for cat in cat_cols]\n\n\nfor i, cat in enumerate(cat_cols):\n    print('encoding %s ...' % cat, end=' ')\n    encoders[i] = {l: id for id, l in enumerate(market_train.loc[train_indices, cat].astype(str).unique())}\n    market_train[cat] = market_train[cat].astype(str).apply(lambda x: encode(encoders[i], x))\n    print('Done')\n\nembed_sizes = [len(encoder) + 1 for encoder in encoders] #+1 for possible unknown assets\n",
      "execution_count": null,
      "outputs": []
    },
    {
      "metadata": {
        "_uuid": "397360cbacbcb294daf5e0750f471e13ced31978"
      },
      "cell_type": "markdown",
      "source": "# Handling numerical variables"
    },
    {
      "metadata": {
        "trusted": true,
        "_uuid": "0e6c878e412b3e819e056cee40181b96fbac2f78"
      },
      "cell_type": "code",
      "source": "from sklearn.preprocessing import StandardScaler\n# print(market_train['A'].describe())\nmarket_train[num_cols] = market_train[num_cols].fillna(0)\nprint('scaling numerical columns')\n\nscaler = StandardScaler()\n\n#col_mean = market_train[col].mean()\n#market_train[col].fillna(col_mean, inplace=True)\nscaler = StandardScaler()\nfrom datetime import datetime\nprint(market_train['time'].dtypes)\nmarket_train[num_cols] = scaler.fit_transform(market_train[num_cols])\n",
      "execution_count": null,
      "outputs": []
    },
    {
      "metadata": {
        "_uuid": "eae09951757845ad5bdf08e004e6477513ed739a"
      },
      "cell_type": "markdown",
      "source": "# Prepare data"
    },
    {
      "metadata": {
        "trusted": true,
        "_uuid": "cb217fc475f418f18720f87a0596aa23eddeb209"
      },
      "cell_type": "code",
      "source": "def get_input(market_train, indices):\n    X_num = market_train.loc[indices, num_cols].values\n    X = {'num':X_num}\n    for cat in cat_cols:\n        X[cat] = market_train.loc[indices, cat_cols].values\n    y = (market_train.loc[indices,'returnsOpenNextMktres10'] >= 0).values\n    r = market_train.loc[indices,'returnsOpenNextMktres10'].values\n    u = market_train.loc[indices, 'universe']\n    d = market_train.loc[indices, 'time'].dt.date\n    return X,y,r,u,d\n\n# r, u and d are used to calculate the scoring metric\nX_train,y_train,r_train,u_train,d_train = get_input(market_train, train_indices)\nX_valid,y_valid,r_valid,u_valid,d_valid = get_input(market_train, val_indices)",
      "execution_count": null,
      "outputs": []
    },
    {
      "metadata": {
        "_uuid": "ecd18fe6d1a0ecf20678f94d7ba4746a7103b407"
      },
      "cell_type": "markdown",
      "source": "# Train  model using hyperopt to auto hyper_parameters turing"
    },
    {
      "metadata": {
        "trusted": true,
        "_uuid": "542f77f1f5675067d810614da9add097266b85a5"
      },
      "cell_type": "code",
      "source": "import warnings\nwarnings.filterwarnings(action ='ignore',category = DeprecationWarning)\nfrom xgboost import XGBClassifier\n\nfrom functools import partial\nfrom hyperopt import hp, fmin, tpe\nalgo = partial(tpe.suggest, n_startup_jobs=10)\ndef auto_turing(args):\n    model = XGBClassifier(n_jobs = 4, n_estimators = args['n_estimators'],max_depth=6)\n    model.fit(X_train['num'],y_train.astype(int))\n    confidence_valid = model.predict(X_valid['num'])*2 -1\n    score = accuracy_score(confidence_valid>0,y_valid)\n    print(args,score)\n    return -score\n# space = {\"n_estimators\":hp.choice(\"n_estimators\",range(10,50))}\n# print(fmin)\n# best = fmin(auto_turing, space, algo=algo,max_evals=30)\n# print(best)\n\n#单机xgb程序\n# model = XGBClassifier(n_jobs = 4, n_estimators = 47,max_depth=6)\n# model.fit(X_train['num'],y_train.astype(int))\n# confidence_valid = model.predict(X_valid['num'])*2 -1\n# score = accuracy_score(confidence_valid>0,y_valid)\n# print(score)\n\n\nfrom sklearn.ensemble import RandomForestClassifier\n\nmodel = RandomForestClassifier(n_estimators=50, criterion='gini', max_depth=None,min_samples_split=2, min_samples_leaf=1, \n                               min_weight_fraction_leaf=0.0,max_features='auto',max_leaf_nodes=None,min_impurity_split=1e-07, \n                               bootstrap=True,  oob_score=False, n_jobs=1,random_state=None, verbose=0,warm_start=False, class_weight=None)\nmodel.fit(X_train['num'], y_train.astype(int))\nconfidence_valid = model.predict(X_valid['num'])*2 -1\nscore = accuracy_score(confidence_valid>0,y_valid)\nprint(score)\n\n# distribution of confidence that will be used as submission\n# plt.hist(confidence_valid, bins='auto')\n# plt.title(\"predicted confidence\")\n# plt.show()\n",
      "execution_count": null,
      "outputs": []
    },
    {
      "metadata": {
        "_uuid": "bcb2cb97ac4f6b797e9fe9f3cb2682090b1e6850"
      },
      "cell_type": "markdown",
      "source": "Result validation"
    },
    {
      "metadata": {
        "trusted": true,
        "_uuid": "5d8097adcabf5794f04e4ec1f55f2993ef9176cb"
      },
      "cell_type": "code",
      "source": "# calculation of actual metric that is used to calculate final score\nr_valid = r_valid.clip(-1,1) # get rid of outliers. Where do they come from??\nx_t_i = confidence_valid * r_valid * u_valid\ndata = {'day' : d_valid, 'x_t_i' : x_t_i}\ndf = pd.DataFrame(data)\nx_t = df.groupby('day').sum().values.flatten()\nmean = np.mean(x_t)\nstd = np.std(x_t)\nscore_valid = mean / std\nprint(score_valid)",
      "execution_count": null,
      "outputs": []
    },
    {
      "metadata": {
        "_uuid": "a556452e64bef6bee50b7e281ef65f2923c554a7"
      },
      "cell_type": "markdown",
      "source": "# Prediction"
    },
    {
      "metadata": {
        "trusted": true,
        "_uuid": "f57d1b1d8cf8bea0594e0d699f1b849566ebad86"
      },
      "cell_type": "code",
      "source": "days = env.get_prediction_days()",
      "execution_count": null,
      "outputs": []
    },
    {
      "metadata": {
        "trusted": true,
        "_uuid": "0cea4e659153962bdf2062b0ca10943927549a26"
      },
      "cell_type": "code",
      "source": "n_days = 0\nprep_time = 0\nprediction_time = 0\npackaging_time = 0\npredicted_confidences = np.array([])\nfor (market_obs_df, news_obs_df, predictions_template_df) in days:\n    n_days +=1\n    print(n_days,end=' ')\n    \n    t = time.time()\n\n    market_obs_df['assetCode_encoded'] = market_obs_df[cat].astype(str).apply(lambda x: encode(encoders[i], x))\n\n    market_obs_df[num_cols] = market_obs_df[num_cols].fillna(0)\n    market_obs_df[num_cols] = scaler.transform(market_obs_df[num_cols])\n    X_num_test = market_obs_df[num_cols].values\n    X_test = {'num':X_num_test}\n    X_test['assetCode'] = market_obs_df['assetCode_encoded'].values\n    \n    prep_time += time.time() - t\n    \n    t = time.time()\n    market_prediction = model.predict(X_test['num'])*2 -1\n    #print(type(market_prediction))\n    #print(type(predicted_confidences))\n    predicted_confidences = np.concatenate((predicted_confidences, market_prediction))\n    prediction_time += time.time() -t\n    \n    t = time.time()\n    preds = pd.DataFrame({'assetCode':market_obs_df['assetCode'],'confidence':market_prediction})\n    # insert predictions to template\n    predictions_template_df = predictions_template_df.merge(preds,how='left').drop('confidenceValue',axis=1).fillna(0).rename(columns={'confidence':'confidenceValue'})\n    env.predict(predictions_template_df)\n    packaging_time += time.time() - t\n\nenv.write_submission_file()\ntotal = prep_time + prediction_time + packaging_time\nprint(f'Preparing Data: {prep_time:.2f}s')\nprint(f'Making Predictions: {prediction_time:.2f}s')\nprint(f'Packing: {packaging_time:.2f}s')\nprint(f'Total: {total:.2f}s')",
      "execution_count": null,
      "outputs": []
    },
    {
      "metadata": {
        "trusted": true,
        "_uuid": "c0b10b1ee21cfa2ff48b7ad2b7351382c03daeaa"
      },
      "cell_type": "code",
      "source": "# distribution of confidence as a sanity check: they should be distributed as above\nplt.hist(predicted_confidences, bins='auto')\nplt.title(\"predicted confidence\")\nplt.show()",
      "execution_count": null,
      "outputs": []
    }
  ],
  "metadata": {
    "kernelspec": {
      "display_name": "Python 3",
      "language": "python",
      "name": "python3"
    },
    "language_info": {
      "name": "python",
      "version": "3.6.6",
      "mimetype": "text/x-python",
      "codemirror_mode": {
        "name": "ipython",
        "version": 3
      },
      "pygments_lexer": "ipython3",
      "nbconvert_exporter": "python",
      "file_extension": ".py"
    }
  },
  "nbformat": 4,
  "nbformat_minor": 1
}