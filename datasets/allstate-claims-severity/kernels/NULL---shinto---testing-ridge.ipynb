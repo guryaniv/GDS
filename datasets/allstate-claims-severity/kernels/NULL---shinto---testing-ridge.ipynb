{
  "cells": [
    {
      "cell_type": "code",
      "execution_count": null,
      "metadata": {
        "_cell_guid": "4f70318a-dc15-383d-7ce2-cd04b330b0b0"
      },
      "outputs": [],
      "source": [
        "import numpy as np # linear algebra\n",
        "import pandas as pd # data processing, CSV file I/O (e.g. pd.read_csv)\n",
        "train_set = pd.read_csv('../input/train.csv')\n",
        "test_set = pd.read_csv('../input/test.csv')\n",
        "print(train_set.shape, test_set.shape)"
      ]
    },
    {
      "cell_type": "markdown",
      "metadata": {
        "_cell_guid": "893e707d-6e1b-9cc7-5597-4659f220f9f1"
      },
      "source": [
        "Convert all categorical features to numeric"
      ]
    },
    {
      "cell_type": "code",
      "execution_count": null,
      "metadata": {
        "_cell_guid": "3afdcfce-a249-6050-b48a-64e3921b3f02"
      },
      "outputs": [],
      "source": [
        "train = train_set.drop(['id','loss'], axis=1)\n",
        "test = test_set.drop(['id'], axis=1)\n",
        "all_data = pd.concat((train, test)).reset_index(drop=True)\n",
        "#all_data = train_set.drop(['id','loss'], axis=1)\n",
        "cat_features = [x for x in all_data.select_dtypes(include=['object'])]\n",
        "num_features = [x for x in all_data.select_dtypes(exclude=['object'])]\n",
        "for c in range(len(cat_features)):\n",
        "    all_data[cat_features[c]] = all_data[cat_features[c]].astype('category').cat.codes\n",
        "all_data.head()"
      ]
    },
    {
      "cell_type": "code",
      "execution_count": null,
      "metadata": {
        "_cell_guid": "fc318bd9-2c92-cff8-eef3-b1d06ebddc15"
      },
      "outputs": [],
      "source": [
        "from sklearn.linear_model import LinearRegression, Lasso, ElasticNet, Ridge\n",
        "from sklearn.tree import DecisionTreeRegressor\n",
        "from sklearn.neighbors import KNeighborsRegressor\n",
        "from sklearn.svm import  SVR\n",
        "from sklearn.model_selection import cross_val_score"
      ]
    },
    {
      "cell_type": "code",
      "execution_count": null,
      "metadata": {
        "_cell_guid": "54e82063-ca81-eb9a-5b40-f89ed11720a1"
      },
      "outputs": [],
      "source": [
        "def do_cross_validation(X_train, y_train):\n",
        "    models = []\n",
        "    models.append(('LR', LinearRegression()))\n",
        "    #models.append(('LASSO', Lasso()))\n",
        "    #models.append(('EN', ElasticNet()))\n",
        "    models.append(('Ridge', Ridge()))\n",
        "    #models.append(('CART', DecisionTreeRegressor()))\n",
        "    #models.append(('KNN', KNeighborsRegressor()))\n",
        "    #models.append(('SVR', SVR()))\n",
        "    results = []\n",
        "    names = []\n",
        "    scoring = 'neg_mean_absolute_error'\n",
        "    for name, model in models:\n",
        "        cv_results = -cross_val_score(model, X_train, y_train, cv=10, scoring=scoring)\n",
        "        results.append(cv_results)\n",
        "        names.append(name)\n",
        "        print('%s: %f (%f)' % (name, cv_results.mean(), cv_results.std()))"
      ]
    },
    {
      "cell_type": "code",
      "execution_count": null,
      "metadata": {
        "_cell_guid": "2510a9ec-6bd7-7a4a-b4e4-fc12cc7cbbe2"
      },
      "outputs": [],
      "source": [
        "X_train = all_data[:train.shape[0]]\n",
        "y_train = np.log(train_set['loss'])\n",
        "do_cross_validation(X_train, y_train)"
      ]
    },
    {
      "cell_type": "code",
      "execution_count": null,
      "metadata": {
        "_cell_guid": "4733b784-6203-4ed6-d435-bd229b5c8f47"
      },
      "outputs": [],
      "source": [
        "X_test = all_data[train.shape[0]:]\n",
        "ridge = Ridge()\n",
        "ridge.fit(X_train, y_train)\n",
        "submission = pd.DataFrame({'Id': test_set.id, 'loss':np.exp(ridge.predict(X_test))})\n",
        "submission.head()"
      ]
    },
    {
      "cell_type": "code",
      "execution_count": null,
      "metadata": {
        "_cell_guid": "91c69be0-06cf-8962-71e3-f799909a232c"
      },
      "outputs": [],
      "source": [
        "submission.to_csv('submissionRidge.csv', index=False)"
      ]
    }
  ],
  "metadata": {
    "_change_revision": 0,
    "_is_fork": false,
    "kernelspec": {
      "display_name": "Python 3",
      "language": "python",
      "name": "python3"
    },
    "language_info": {
      "codemirror_mode": {
        "name": "ipython",
        "version": 3
      },
      "file_extension": ".py",
      "mimetype": "text/x-python",
      "name": "python",
      "nbconvert_exporter": "python",
      "pygments_lexer": "ipython3",
      "version": "3.5.2"
    }
  },
  "nbformat": 4,
  "nbformat_minor": 0
}