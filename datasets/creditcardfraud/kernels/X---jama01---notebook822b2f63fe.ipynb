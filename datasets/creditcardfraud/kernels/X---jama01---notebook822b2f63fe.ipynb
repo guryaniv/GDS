{
  "cells": [
    {
      "cell_type": "code",
      "execution_count": null,
      "metadata": {
        "_cell_guid": "46b6a5b1-f349-c959-3e76-88e8e1a9a784"
      },
      "outputs": [],
      "source": [
        "import os\n",
        "import tarfile \n",
        "from six.moves import urllib\n",
        "import pandas as pd\n",
        "\n",
        "# visualization\n",
        "import seaborn as sns\n",
        "import matplotlib.pyplot as plt\n",
        "%matplotlib inline\n",
        "\n",
        "# machine learning\n",
        "from sklearn.linear_model import LogisticRegression\n",
        "from sklearn.svm import SVC, LinearSVC\n",
        "from sklearn.ensemble import RandomForestClassifier\n",
        "from sklearn.neighbors import KNeighborsClassifier\n",
        "from sklearn.naive_bayes import GaussianNB\n",
        "from sklearn.linear_model import Perceptron\n",
        "from sklearn.linear_model import SGDClassifier\n",
        "from sklearn.tree import DecisionTreeClassifier"
      ]
    },
    {
      "cell_type": "code",
      "execution_count": null,
      "metadata": {
        "_cell_guid": "5f44c002-36e0-0ea9-c9c6-955f66d7e6a7"
      },
      "outputs": [],
      "source": [
        "from subprocess import check_output\n",
        "print(check_output([\"ls\", \"../input\"]).decode(\"utf8\"))"
      ]
    },
    {
      "cell_type": "code",
      "execution_count": null,
      "metadata": {
        "_cell_guid": "13b1fa22-4ddd-0285-f66a-39eff20c001e"
      },
      "outputs": [],
      "source": [
        "DATASET_PATH = '../input'\n",
        "CREDIT_CARD_DATA = 'creditcard.csv'"
      ]
    },
    {
      "cell_type": "code",
      "execution_count": null,
      "metadata": {
        "_cell_guid": "bc3ec90b-7e20-5c29-5c32-7a24bca93652"
      },
      "outputs": [],
      "source": [
        "# Helper function to load the dataset as pandas object\n",
        "def load_data(dataset,dataset_path=DATASET_PATH):\n",
        "    csv_path = os.path.join(dataset_path, dataset)\n",
        "    return pd.read_csv(csv_path)"
      ]
    },
    {
      "cell_type": "code",
      "execution_count": null,
      "metadata": {
        "_cell_guid": "5983e744-3b65-2e97-98a8-6cecc06f7d26"
      },
      "outputs": [],
      "source": [
        "credit_card_df = load_data(CREDIT_CARD_DATA)"
      ]
    },
    {
      "cell_type": "code",
      "execution_count": null,
      "metadata": {
        "_cell_guid": "7081d18d-a2ea-802a-8191-ab3cb3b16d0b"
      },
      "outputs": [],
      "source": [
        "credit_card_df.head()"
      ]
    },
    {
      "cell_type": "code",
      "execution_count": null,
      "metadata": {
        "_cell_guid": "7b62bce6-6546-ef11-4af8-470fcfea996f"
      },
      "outputs": [],
      "source": [
        "credit_card_df.info()"
      ]
    },
    {
      "cell_type": "code",
      "execution_count": null,
      "metadata": {
        "_cell_guid": "86e078de-1761-ffad-edc4-bf780d8215ac"
      },
      "outputs": [],
      "source": [
        "credit_card_df.describe()"
      ]
    },
    {
      "cell_type": "code",
      "execution_count": null,
      "metadata": {
        "_cell_guid": "9bbefeb2-e6b0-8017-a569-a53302f37a1d"
      },
      "outputs": [],
      "source": [
        "%matplotlib inline\n",
        "import matplotlib.pyplot as plt"
      ]
    },
    {
      "cell_type": "code",
      "execution_count": null,
      "metadata": {
        "_cell_guid": "8370e578-341f-da30-a43d-44321b1fb814"
      },
      "outputs": [],
      "source": [
        "credit_card_df.hist(bins=50, figsize=(20,25))\n",
        "plt.show()"
      ]
    },
    {
      "cell_type": "code",
      "execution_count": null,
      "metadata": {
        "_cell_guid": "b092f369-83e6-385d-9f05-899871d8dcd1"
      },
      "outputs": [],
      "source": [
        "credit_card_df.columns"
      ]
    },
    {
      "cell_type": "code",
      "execution_count": null,
      "metadata": {
        "_cell_guid": "28ac3266-b9df-ce74-9af1-a918a09e6000"
      },
      "outputs": [],
      "source": [
        "credit_card_df.columns\n",
        "features_1 = ['Class','Amount','Time', 'V1', 'V2', 'V3',\n",
        "              'V4', 'V5', 'V6', 'V7', 'V8', 'V9', 'V10',\n",
        "              'V11', 'V12', 'V13', 'V14']\n",
        "\n",
        "features_2 = ['Class','Amount','Time','V15','V16','V17',\n",
        "              'V18','V19','V20','V21', 'V22', 'V23','V24',\n",
        "              'V25', 'V26', 'V27', 'V28']\n",
        "\n",
        "corr1 = credit_card_df[list(features_1)].corr()\n",
        "corr2 = credit_card_df[list(features_2)].corr()"
      ]
    },
    {
      "cell_type": "code",
      "execution_count": null,
      "metadata": {
        "_cell_guid": "2da3bf34-4ed3-6347-d6df-90850a4aa394"
      },
      "outputs": [],
      "source": ""
    }
  ],
  "metadata": {
    "_change_revision": 0,
    "_is_fork": false,
    "kernelspec": {
      "display_name": "Python 3",
      "language": "python",
      "name": "python3"
    },
    "language_info": {
      "codemirror_mode": {
        "name": "ipython",
        "version": 3
      },
      "file_extension": ".py",
      "mimetype": "text/x-python",
      "name": "python",
      "nbconvert_exporter": "python",
      "pygments_lexer": "ipython3",
      "version": "3.6.0"
    }
  },
  "nbformat": 4,
  "nbformat_minor": 0
}