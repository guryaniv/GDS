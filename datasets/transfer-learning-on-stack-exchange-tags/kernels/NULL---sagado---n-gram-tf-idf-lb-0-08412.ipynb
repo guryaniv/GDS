{
  "cells": [
    {
      "cell_type": "code",
      "execution_count": null,
      "metadata": {
        "_cell_guid": "50f23764-f4a6-428f-d437-c585e73c5b6c"
      },
      "outputs": [],
      "source": [
        "import numpy as np\n",
        "import pandas as pd\n",
        "import csv\n",
        "from bs4 import BeautifulSoup\n",
        "\n",
        "from sklearn.feature_extraction.text import CountVectorizer, TfidfVectorizer\n",
        "RES_DIR = \"../input/\""
      ]
    },
    {
      "cell_type": "markdown",
      "metadata": {
        "_cell_guid": "4036a421-4902-8d97-e1e4-e541e10a85bb"
      },
      "source": [
        "## Load Data"
      ]
    },
    {
      "cell_type": "code",
      "execution_count": null,
      "metadata": {
        "_cell_guid": "8dd55c77-5714-f046-29a6-4fc35ebb8ceb"
      },
      "outputs": [],
      "source": [
        "# Load train data\n",
        "def load_train_data(skip_content=False):\n",
        "    categories = ['cooking', 'robotics', 'travel', 'crypto', 'diy', 'biology']\n",
        "    train_data = []\n",
        "    for cat in categories:\n",
        "        if skip_content:\n",
        "            data = pd.read_csv(\"{}{}.csv\".format(RES_DIR, cat), usecols=['id', 'title', 'tags'])\n",
        "        else:\n",
        "            data = pd.read_csv(\"{}{}.csv\".format(RES_DIR, cat))\n",
        "        data['category'] = cat\n",
        "        train_data.append(data)\n",
        "    \n",
        "    return pd.concat(train_data)"
      ]
    },
    {
      "cell_type": "code",
      "execution_count": null,
      "metadata": {
        "_cell_guid": "f8d2e5f3-a833-4904-edde-f9d634cd170e"
      },
      "outputs": [],
      "source": [
        "def load_test_data():\n",
        "    test_data = pd.read_csv(RES_DIR + 'test.csv')\n",
        "    return test_data"
      ]
    },
    {
      "cell_type": "code",
      "execution_count": null,
      "metadata": {
        "_cell_guid": "318d6d6c-0ed3-b60b-55f2-b2b63f4aadba"
      },
      "outputs": [],
      "source": [
        "train_data = load_train_data()\n",
        "train_data.head()"
      ]
    },
    {
      "cell_type": "code",
      "execution_count": null,
      "metadata": {
        "_cell_guid": "a6e28586-468e-7e78-a52c-a13304ab1ecb"
      },
      "outputs": [],
      "source": [
        "test_data = load_test_data()\n",
        "test_data.head()"
      ]
    },
    {
      "cell_type": "markdown",
      "metadata": {
        "_cell_guid": "2a53ddf1-1f6a-9f80-8f22-58b1ce5ebca7"
      },
      "source": [
        "## Clean content and generate unique text field"
      ]
    },
    {
      "cell_type": "code",
      "execution_count": null,
      "metadata": {
        "_cell_guid": "8e83ca15-a332-7e8d-2c1e-903b1c0543e1"
      },
      "outputs": [],
      "source": [
        "def merge(row):\n",
        "    title = row['title']\n",
        "    content = row['content']\n",
        "    clean_content = BeautifulSoup(content, \"html.parser\")\n",
        "    clean_content = clean_content.get_text()\n",
        "    row['text'] = title + \" \" + clean_content\n",
        "    return row"
      ]
    },
    {
      "cell_type": "code",
      "execution_count": null,
      "metadata": {
        "_cell_guid": "6df49386-ccf6-7b57-0a2f-5b9ed9347e24"
      },
      "outputs": [],
      "source": [
        "#nlp_train_data = train_data.apply(merge, axis=1)[['id', 'text', 'tags']]\n",
        "#nlp_train_data.head()"
      ]
    },
    {
      "cell_type": "code",
      "execution_count": null,
      "metadata": {
        "_cell_guid": "1d0adac6-21b3-7230-5515-e4cba1447c43"
      },
      "outputs": [],
      "source": [
        "nlp_test_data = test_data.apply(merge, axis=1)[['id', 'text']]\n",
        "nlp_test_data.head()"
      ]
    },
    {
      "cell_type": "markdown",
      "metadata": {
        "_cell_guid": "d8539ba4-f306-b540-57e2-db98a17bc74d"
      },
      "source": [
        "## Vectorize test data text"
      ]
    },
    {
      "cell_type": "code",
      "execution_count": null,
      "metadata": {
        "_cell_guid": "fb914596-07e2-49ff-a399-00fc1eb5271c"
      },
      "outputs": [],
      "source": [
        "tfidf = TfidfVectorizer(analyzer = \"word\", max_features = 5000, \n",
        "                        stop_words=\"english\", ngram_range=(1,2))\n",
        "features = tfidf.fit_transform(nlp_test_data['text']).toarray()"
      ]
    },
    {
      "cell_type": "code",
      "execution_count": null,
      "metadata": {
        "_cell_guid": "1796144f-f394-47da-dec4-65c27851cfa2"
      },
      "outputs": [],
      "source": [
        "## Select top features for each test sample"
      ]
    },
    {
      "cell_type": "code",
      "execution_count": null,
      "metadata": {
        "_cell_guid": "e9e95216-549b-09eb-806f-c9f805f2aae9"
      },
      "outputs": [],
      "source": [
        "tfidf_tags = []\n",
        "top_n = -5\n",
        "feature_array = np.array(tfidf.get_feature_names())\n",
        "tfidf_sorting = np.argsort(features)\n",
        "for i, e in enumerate(tfidf_sorting):\n",
        "    tmp_tags = []\n",
        "    indexes = e[top_n:]\n",
        "    for idx in indexes:\n",
        "        cur_tag = feature_array[idx]\n",
        "        if features[i][idx] > 0.1 and len(cur_tag)>3 and '_' not in cur_tag:\n",
        "            tmp_tags.append(cur_tag.replace(' ', '-'))\n",
        "    tfidf_tags.append(\" \".join(tmp_tags))"
      ]
    },
    {
      "cell_type": "code",
      "execution_count": null,
      "metadata": {
        "_cell_guid": "7eaf648a-2995-d8d6-77bf-7cc0fd7880f4"
      },
      "outputs": [],
      "source": [
        "df = pd.DataFrame({'id':test_data['id'], 'tags':tfidf_tags})\n",
        "df.head()"
      ]
    },
    {
      "cell_type": "code",
      "execution_count": null,
      "metadata": {
        "_cell_guid": "2dd136b4-4115-451e-6b39-2be46093aff4"
      },
      "outputs": [],
      "source": [
        "df.to_csv('submission.csv', index=False, quoting=csv.QUOTE_ALL)"
      ]
    }
  ],
  "metadata": {
    "_change_revision": 0,
    "_is_fork": false,
    "kernelspec": {
      "display_name": "Python 3",
      "language": "python",
      "name": "python3"
    },
    "language_info": {
      "codemirror_mode": {
        "name": "ipython",
        "version": 3
      },
      "file_extension": ".py",
      "mimetype": "text/x-python",
      "name": "python",
      "nbconvert_exporter": "python",
      "pygments_lexer": "ipython3",
      "version": "3.5.2"
    }
  },
  "nbformat": 4,
  "nbformat_minor": 0
}