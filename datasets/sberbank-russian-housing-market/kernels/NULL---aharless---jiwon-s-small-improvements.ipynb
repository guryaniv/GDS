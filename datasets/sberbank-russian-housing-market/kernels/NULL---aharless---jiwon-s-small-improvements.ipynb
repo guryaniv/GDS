{
  "cells": [
    {
      "cell_type": "markdown",
      "metadata": {
        "_cell_guid": "5ba6ee50-f608-d1a7-d003-5e8e320cb5df"
      },
      "source": [
        "Hi,\n",
        "\n",
        "It's my first kernels.\n",
        "\n",
        "I'm a beginner. So, I want you to take it easy.\n",
        "\n",
        "\n",
        "\n",
        "After predicting price, I think predicted value is not real transaction price.\n",
        "\n",
        "So, __I set the predicted value to real value.(Real value in training data set)__\n",
        "\n",
        "Let it see once."
      ]
    },
    {
      "cell_type": "code",
      "execution_count": null,
      "metadata": {
        "_cell_guid": "38556697-bc3d-bef7-0f82-942c446d5fc1"
      },
      "outputs": [],
      "source": [
        "# This Python 3 environment comes with many helpful analytics libraries installed\n",
        "# It is defined by the kaggle/python docker image: https://github.com/kaggle/docker-python\n",
        "# For example, here's several helpful packages to load in \n",
        "\n",
        "import numpy as np # linear algebra\n",
        "import pandas as pd # data processing, CSV file I/O (e.g. pd.read_csv)\n",
        "from collections import Counter\n",
        "# Input data files are available in the \"../input/\" directory.\n",
        "# For example, running this (by clicking run or pressing Shift+Enter) will list the files in the input directory\n",
        "\n",
        "from subprocess import check_output\n",
        "print(check_output([\"ls\", \"../input\"]).decode(\"utf8\"))\n",
        "\n",
        "# Any results you write to the current directory are saved as output.\n",
        "\n",
        "train = pd.read_csv('../input/train.csv')\n",
        "test = pd.read_csv('../input/test.csv')\n",
        "\n",
        "train['price_doc'].sample(5)"
      ]
    },
    {
      "cell_type": "code",
      "execution_count": null,
      "metadata": {
        "_cell_guid": "64c2c91b-b9a3-06cb-7182-55fd0d37fc4e"
      },
      "outputs": [],
      "source": [
        "train_prices = train['price_doc'].tolist()\n",
        "min_p, max_p = min(train_prices) , max(train_prices)\n",
        "min_p, max_p"
      ]
    },
    {
      "cell_type": "code",
      "execution_count": null,
      "metadata": {
        "_cell_guid": "77cb43b4-c4c7-07fb-0476-93fad9171bd9"
      },
      "outputs": [],
      "source": [
        "test['price_doc'] = pd.Series([np.random.randint(min_p,max_p) for _ in range(len(test))])\n",
        "compare = test.copy()\n",
        "test['price_doc'].loc[:10]"
      ]
    },
    {
      "cell_type": "code",
      "execution_count": null,
      "metadata": {
        "_cell_guid": "161a4682-177e-7b86-c0d2-fe4c2f90e314"
      },
      "outputs": [],
      "source": [
        "Counter(train.price_doc).most_common(250)[:10]"
      ]
    },
    {
      "cell_type": "code",
      "execution_count": null,
      "metadata": {
        "_cell_guid": "a806d6da-cde3-77dc-b33a-4ada2a4285b9"
      },
      "outputs": [],
      "source": [
        "prices = sorted(map(lambda x:x[0],Counter(train.price_doc).most_common(250)))\n",
        "prices[:10]"
      ]
    },
    {
      "cell_type": "code",
      "execution_count": null,
      "metadata": {
        "_cell_guid": "4942692f-871a-e308-cd50-2b23d8e29bcb"
      },
      "outputs": [],
      "source": [
        "for i,j in test.iterrows():\n",
        "    pp = j.price_doc\n",
        "    pr = pp\n",
        "    for p in prices:\n",
        "        if pp>p:\n",
        "            pass\n",
        "        elif pp<p:\n",
        "            if (p-pp) > (pp-past):\n",
        "                if pp*0.90 > past:\n",
        "                    pr = pp\n",
        "                    past = p\n",
        "                    break\n",
        "                pr = past\n",
        "                past = p\n",
        "                break\n",
        "            elif (p-pp) < (pp-past):\n",
        "                if p*0.90 > pp:\n",
        "                    pr = pp\n",
        "                    past = p\n",
        "                    break\n",
        "                pr = p\n",
        "                past = p\n",
        "                break\n",
        "            else:\n",
        "                pr = (past+p)/2\n",
        "                past = p\n",
        "                break\n",
        "        else:\n",
        "            pr = pp\n",
        "        past = p\n",
        "    test.set_value(i,'price_doc',pr)"
      ]
    },
    {
      "cell_type": "code",
      "execution_count": null,
      "metadata": {
        "_cell_guid": "dd7e38ea-712c-8c70-9267-95bce6f9992f"
      },
      "outputs": [],
      "source": [
        "test.price_doc"
      ]
    },
    {
      "cell_type": "code",
      "execution_count": null,
      "metadata": {
        "_cell_guid": "ec6b258c-82b1-acd7-d48a-0297541185b9"
      },
      "outputs": [],
      "source": [
        "compare.price_doc"
      ]
    },
    {
      "cell_type": "markdown",
      "metadata": {
        "_cell_guid": "98c823e4-da41-81b6-b7c8-f3db23ea2d56"
      },
      "source": [
        "It can be little improvements for your score.\n",
        "\n",
        "Thank you for reading."
      ]
    }
  ],
  "metadata": {
    "_change_revision": 0,
    "_is_fork": false,
    "kernelspec": {
      "display_name": "Python 3",
      "language": "python",
      "name": "python3"
    },
    "language_info": {
      "codemirror_mode": {
        "name": "ipython",
        "version": 3
      },
      "file_extension": ".py",
      "mimetype": "text/x-python",
      "name": "python",
      "nbconvert_exporter": "python",
      "pygments_lexer": "ipython3",
      "version": "3.6.0"
    }
  },
  "nbformat": 4,
  "nbformat_minor": 0
}