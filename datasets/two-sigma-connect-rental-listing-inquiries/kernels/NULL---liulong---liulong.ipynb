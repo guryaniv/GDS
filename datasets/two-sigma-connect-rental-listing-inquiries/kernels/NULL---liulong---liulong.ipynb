{
  "metadata": {
    "kernelspec": {
      "display_name": "Python 3",
      "language": "python",
      "name": "python3"
    },
    "language_info": {
      "codemirror_mode": {
        "name": "ipython",
        "version": 3
      },
      "file_extension": ".py",
      "mimetype": "text/x-python",
      "name": "python",
      "nbconvert_exporter": "python",
      "pygments_lexer": "ipython3",
      "version": "3.6.0"
    }
  },
  "nbformat": 4,
  "nbformat_minor": 0,
  "cells": [
    {
      "cell_type": "code",
      "execution_count": null,
      "metadata": {
        "_cell_guid": "2f8b8f81-9e2e-4fd5-45b3-cca7fe547ed8",
        "_active": false
      },
      "outputs": [],
      "source": "# This Python 3 environment comes with many helpful analytics libraries installed\n# It is defined by the kaggle/python docker image: https://github.com/kaggle/docker-python\n# For example, here's several helpful packages to load in \n\nimport numpy as np # linear algebra\nimport pandas as pd # data processing, CSV file I/O (e.g. pd.read_csv)\n\n# Input data files are available in the \"../input/\" directory.\n# For example, running this (by clicking run or pressing Shift+Enter) will list the files in the input directory\n\nfrom subprocess import check_output\nprint(check_output([\"ls\", \"../input\"]).decode(\"utf8\"))\nfrom sklearn.ensemble import RandomForestClassifier\n# Any results you write to the current directory are saved as output.",
      "execution_state": "idle"
    },
    {
      "cell_type": "code",
      "execution_count": null,
      "metadata": {
        "_cell_guid": "e573920d-6dce-e731-970e-049b134d912f",
        "_active": false
      },
      "outputs": [],
      "source": "df = pd.read_json(\"../input/train.json\")\ndf.head()\ntest = pd.read_json(\"../input/test.json\")\ntest.head()",
      "execution_state": "idle"
    },
    {
      "cell_type": "code",
      "execution_count": null,
      "metadata": {
        "_cell_guid": "13d39595-5634-fb2e-fd4c-60a4adf7ec32",
        "_active": true,
        "collapsed": false
      },
      "outputs": [],
      "source": "# get the feature\nprint(df.loc[10:1000,[\"photos\"]])\ndf[\"photos\"]\ndf[0:3]\ndf[\"num_feature\"] = df[\"features\"].apply(len)\ndf[\"num_photos\"] = df[\"photos\"].apply(len)\ndf[\"num_description_words\"] = df[\"description\"].apply(lambda x: len(x.split(\" \")))\ninterest_num = {\"low\":0,\"medium\":0.5,\"high\":1}\ndf[\"interest_num\"] = df[\"interest_level\"].apply(lambda x:interest_num[x])\nchoose_feature=[\"bathrooms\",\"bedrooms\",\"price\",\"num_feature\",\"num_description_words\",\"interest_num\"]\nclf = RandomForestClassifier(n_estimators=10)\n# df[choose_feature]",
      "execution_state": "idle"
    },
    {
      "cell_type": "code",
      "execution_count": null,
      "metadata": {
        "_cell_guid": "22a80598-20e4-868a-d968-87d4c4682366",
        "_active": false
      },
      "outputs": [],
      "source": null,
      "execution_state": "idle"
    }
  ]
}