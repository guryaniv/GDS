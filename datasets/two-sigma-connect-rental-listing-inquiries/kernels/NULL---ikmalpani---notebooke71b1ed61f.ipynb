{
  "cells": [
    {
      "cell_type": "markdown",
      "metadata": {
        "_cell_guid": "0af45c53-28a4-0dbf-6ca3-6a1f68af6a3e"
      },
      "source": ""
    },
    {
      "cell_type": "code",
      "execution_count": null,
      "metadata": {
        "_cell_guid": "2c4212a2-eb7c-2d48-be8a-8ef303450037"
      },
      "outputs": [],
      "source": [
        "import pandas as pd\n",
        "from sklearn import svm\n",
        "\n",
        "training_data = pd.read_json(\"../input/train.json\").sort_values(by=\"listing_id\")\n",
        "testing_data = pd.read_json(\"../input/test.json\").sort_values(by=\"listing_id\")\n",
        "\n",
        "training_data = training_data.drop(\"building_id\", axis = 1)\n",
        "training_data = training_data.drop(\"photos\", axis = 1)\n",
        "training_data = training_data.drop(\"display_address\", axis = 1)\n",
        "\n",
        "testing_data = testing_data.drop(\"building_id\", axis = 1)\n",
        "testing_data = testing_data.drop(\"photos\", axis = 1)\n",
        "testing_data = testing_data.drop(\"display_address\", axis = 1)\n",
        "\n",
        "fulldata = [training_data , testing_data]\n",
        "print (training_data.info())"
      ]
    },
    {
      "cell_type": "code",
      "execution_count": null,
      "metadata": {
        "_cell_guid": "b4afe964-c6ee-648a-2681-7635900c9b09"
      },
      "outputs": [],
      "source": [
        "training_data = training_data.replace({\"interest_level\": {\"low\": 1, \"medium\": 2, \"high\": 3}})\n",
        "\n",
        "training_data = training_data.reset_index()\n",
        "testing_data = testing_data.reset_index()"
      ]
    },
    {
      "cell_type": "code",
      "execution_count": null,
      "metadata": {
        "_cell_guid": "fcbbc840-2122-e6dc-2f4f-a7ce4272fd67"
      },
      "outputs": [],
      "source": [
        "print (training_data[['interest_level', 'price']].groupby(['interest_level'], as_index=True).mean())"
      ]
    },
    {
      "cell_type": "code",
      "execution_count": null,
      "metadata": {
        "_cell_guid": "7e17cb53-9ade-e905-3577-41b466b989a6"
      },
      "outputs": [],
      "source": [
        "print (training_data[['interest_level', 'bathrooms']].groupby(['interest_level'], as_index=True).mean())"
      ]
    },
    {
      "cell_type": "code",
      "execution_count": null,
      "metadata": {
        "_cell_guid": "0456734e-6d37-4abd-17f7-31104858ac11"
      },
      "outputs": [],
      "source": [
        "print (training_data[['interest_level', 'bedrooms']].groupby(['interest_level'], as_index=True).mean())"
      ]
    },
    {
      "cell_type": "code",
      "execution_count": null,
      "metadata": {
        "_cell_guid": "2e1e168d-6f85-74d9-564a-254434e2bbb1"
      },
      "outputs": [],
      "source": [
        "print (training_data[['interest_level', 'latitude','longitude']].groupby(['interest_level'], as_index=True).mean())"
      ]
    },
    {
      "cell_type": "code",
      "execution_count": null,
      "metadata": {
        "_cell_guid": "5be88582-a9c4-28aa-283e-48d065176f5e"
      },
      "outputs": [],
      "source": [
        "training_data[['created']] = pd.to_datetime(training_data['created'])\n",
        "\n",
        "\n"
      ]
    }
  ],
  "metadata": {
    "_change_revision": 0,
    "_is_fork": false,
    "kernelspec": {
      "display_name": "Python 3",
      "language": "python",
      "name": "python3"
    },
    "language_info": {
      "codemirror_mode": {
        "name": "ipython",
        "version": 3
      },
      "file_extension": ".py",
      "mimetype": "text/x-python",
      "name": "python",
      "nbconvert_exporter": "python",
      "pygments_lexer": "ipython3",
      "version": "3.6.0"
    }
  },
  "nbformat": 4,
  "nbformat_minor": 0
}