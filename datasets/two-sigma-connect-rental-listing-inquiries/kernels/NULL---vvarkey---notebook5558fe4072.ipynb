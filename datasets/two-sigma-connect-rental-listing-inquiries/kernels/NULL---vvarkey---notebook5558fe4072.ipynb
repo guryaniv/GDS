{
  "cells": [
    {
      "cell_type": "code",
      "execution_count": null,
      "metadata": {
        "_cell_guid": "7ad61de2-6e58-37e0-8ca7-8eb7a41b2c13"
      },
      "outputs": [],
      "source": [
        "temp=pd.concat([train_df_tr['manager_id'], \n",
        "                train_df_tr['interest_level'].apply(lambda x: target_num_map[x])], axis=1)\n",
        "temp['high']=(temp['interest_level']==0).astype(np.int)\n",
        "temp['medium']=(temp['interest_level']==1).astype(np.int)\n",
        "temp2=temp.groupby('manager_id')['high', 'medium'].agg(np.average)\n",
        "temp2['count']=temp.groupby('manager_id')['interest_level'].agg(np.size)\n",
        "temp2['l']=temp2['count'].apply(lambda x: 1/(1+math.e**(-(min(x, 650)-5))))\n"
      ]
    },
    {
      "cell_type": "code",
      "execution_count": null,
      "metadata": {
        "_cell_guid": "933ca53f-fedb-6dfd-9990-c9a4a8dc5524"
      },
      "outputs": [],
      "source": [
        "temp2.tail()"
      ]
    },
    {
      "cell_type": "code",
      "execution_count": null,
      "metadata": {
        "_cell_guid": "127a6746-c7fe-98d0-1ffc-aa1b117fcefc"
      },
      "outputs": [],
      "source": [
        "import os\n",
        "import sys\n",
        "import operator\n",
        "import math\n",
        "import numpy as np\n",
        "import pandas as pd\n",
        "from scipy import sparse\n",
        "import xgboost as xgb\n",
        "from sklearn import model_selection, preprocessing, ensemble\n",
        "from sklearn.metrics import log_loss\n",
        "from sklearn.feature_extraction.text import TfidfVectorizer, CountVectorizer\n",
        "from sklearn.model_selection import train_test_split\n",
        "from sklearn.model_selection import KFold\n",
        "\n",
        "def runXGB(train_X, train_y, test_X=None, test_y=None, feature_names=None, seed_val=0, num_rounds=1000):\n",
        "    param = {}\n",
        "    param['objective'] = 'multi:softprob'\n",
        "    param['eta'] = 0.1\n",
        "    param['max_depth'] = 6\n",
        "    param['silent'] = 1\n",
        "    param['num_class'] = 3\n",
        "    param['eval_metric'] = \"mlogloss\"\n",
        "    param['min_child_weight'] = 1\n",
        "    param['subsample'] = 0.7\n",
        "    param['colsample_bytree'] = 0.7\n",
        "    param['seed'] = 8088\n",
        "    num_rounds = num_rounds\n",
        "\n",
        "    plst = list(param.items())\n",
        "    xgtrain = xgb.DMatrix(train_X, label=train_y)\n",
        "\n",
        "    if test_X is not None:\n",
        "        if test_y is not None:\n",
        "            xgtest = xgb.DMatrix(test_X, label=test_y)\n",
        "            watchlist = [ (xgtrain,'train'), (xgtest, 'test') ]\n",
        "            model = xgb.train(plst, xgtrain, num_rounds, watchlist, early_stopping_rounds=25,\n",
        "                             verbose_eval=False)\n",
        "        else:\n",
        "            xgtest = xgb.DMatrix(test_X)\n",
        "            model = xgb.train(plst, xgtrain, num_rounds)\n",
        "\n",
        "        pred_test_y = model.predict(xgtest)\n",
        "        return pred_test_y, model\n",
        "    else:\n",
        "        evals=xgb.cv(plst, xgtrain, num_rounds, nfold=5, early_stopping_rounds=25,\n",
        "                             verbose_eval=25, seed=0)\n",
        "        return evals\n",
        "    \n",
        "data_path = \"../input/\"\n",
        "train_file = data_path + \"train.json\"\n",
        "test_file = data_path + \"test.json\"\n",
        "train_df = pd.read_json(train_file)\n",
        "test_df = pd.read_json(test_file)\n",
        "print(train_df.shape)\n",
        "print(test_df.shape)\n"
      ]
    },
    {
      "cell_type": "code",
      "execution_count": null,
      "metadata": {
        "_cell_guid": "5204eb78-ad82-9431-f5d2-67bd2b5a5662"
      },
      "outputs": [],
      "source": [
        "# This Python 3 environment comes with many helpful analytics libraries installed\n",
        "# It is defined by the kaggle/python docker image: https://github.com/kaggle/docker-python\n",
        "# For example, here's several helpful packages to load in \n",
        "\n",
        "import numpy as np # linear algebra\n",
        "import pandas as pd # data processing, CSV file I/O (e.g. pd.read_csv)\n",
        "\n",
        "# Input data files are available in the \"../input/\" directory.\n",
        "# For example, running this (by clicking run or pressing Shift+Enter) will list the files in the input directory\n",
        "\n",
        "from subprocess import check_output\n",
        "print(check_output([\"ls\", \"../input\"]).decode(\"utf8\"))\n",
        "\n",
        "# Any results you write to the current directory are saved as output."
      ]
    },
    {
      "cell_type": "code",
      "execution_count": null,
      "metadata": {
        "_cell_guid": "e468c1fb-8b6f-205e-2f02-01b3d2123aa3"
      },
      "outputs": [],
      "source": [
        "features_to_use  = [\"bathrooms\", \"bedrooms\", \"latitude\", \"longitude\", \"price\"]\n",
        "\n",
        "# count of photos #\n",
        "train_df[\"num_photos\"] = train_df[\"photos\"].apply(len)\n",
        "test_df[\"num_photos\"] = test_df[\"photos\"].apply(len)\n",
        "\n",
        "# count of \"features\" #\n",
        "train_df[\"num_features\"] = train_df[\"features\"].apply(len)\n",
        "test_df[\"num_features\"] = test_df[\"features\"].apply(len)\n",
        "\n",
        "# count of words present in description column #\n",
        "train_df[\"num_description_words\"] = train_df[\"description\"].apply(lambda x: len(x.split(\" \")))\n",
        "test_df[\"num_description_words\"] = test_df[\"description\"].apply(lambda x: len(x.split(\" \")))\n",
        "\n",
        "# convert the created column to datetime object so as to extract more features \n",
        "train_df[\"created\"] = pd.to_datetime(train_df[\"created\"])\n",
        "test_df[\"created\"] = pd.to_datetime(test_df[\"created\"])\n",
        "\n",
        "# Let us extract some features like year, month, day, hour from date columns #\n",
        "train_df[\"created_year\"] = train_df[\"created\"].dt.year\n",
        "test_df[\"created_year\"] = test_df[\"created\"].dt.year\n",
        "train_df[\"created_month\"] = train_df[\"created\"].dt.month\n",
        "test_df[\"created_month\"] = test_df[\"created\"].dt.month\n",
        "train_df[\"created_day\"] = train_df[\"created\"].dt.day\n",
        "test_df[\"created_day\"] = test_df[\"created\"].dt.day\n",
        "train_df[\"created_hour\"] = train_df[\"created\"].dt.hour\n",
        "test_df[\"created_hour\"] = test_df[\"created\"].dt.hour\n",
        "\n",
        "train_df[\"price_per_bed\"] = train_df[\"price\"]/train_df[\"bedrooms\"].clip(lower=1)\n",
        "test_df[\"price_per_bed\"] = test_df[\"price\"]/test_df[\"bedrooms\"].clip(lower=1)\n",
        "train_df['created_date']=np.array(train_df.created.values, dtype='datetime64[D]'\n",
        "                                 ).astype(np.float32)\n",
        "test_df['created_date']=np.array(test_df.created.values, dtype='datetime64[D]'\n",
        "                                 ).astype(np.float32)"
      ]
    },
    {
      "cell_type": "code",
      "execution_count": null,
      "metadata": {
        "_cell_guid": "74aee41f-f007-817c-e496-b51f43eb07c4"
      },
      "outputs": [],
      "source": [
        "# adding all these new features to use list #\n",
        "features_to_use.extend([\"num_photos\", \"num_features\", \"num_description_words\",\n",
        "                        \"created_month\", \"listing_id\", \"created_hour\", \n",
        "                        \"price_per_bed\", \"created_date\"])\n",
        "                        \n",
        "categorical = [\"display_address\", \"manager_id\", \"building_id\", \"street_address\"]\n",
        "for f in categorical:\n",
        "        if train_df[f].dtype=='object':\n",
        "            #print(f)\n",
        "            lbl = preprocessing.LabelEncoder()\n",
        "            lbl.fit(list(train_df[f].values) + list(test_df[f].values))\n",
        "            train_df[f] = lbl.transform(list(train_df[f].values))\n",
        "            test_df[f] = lbl.transform(list(test_df[f].values))\n",
        "            features_to_use.append(f)\n",
        "            "
      ]
    },
    {
      "cell_type": "code",
      "execution_count": null,
      "metadata": {
        "_cell_guid": "c305a248-c848-6994-81d4-a971eed62903"
      },
      "outputs": [],
      "source": [
        "train_df['features'] = train_df[\"features\"].apply(lambda x: \" \".join([\"_\".join(i.split(\" \")) for i in x]))\n",
        "test_df['features'] = test_df[\"features\"].apply(lambda x: \" \".join([\"_\".join(i.split(\" \")) for i in x]))\n",
        "print(train_df[\"features\"].head())\n",
        "tfidf = CountVectorizer(stop_words='english', max_features=200)\n",
        "tfidf.fit(train_df[\"features\"])\n",
        "\n",
        "train_df_tr=train_df\n",
        "tr_sparse_tr = tfidf.transform(train_df_tr[\"features\"])\n",
        "te_sparse = tfidf.transform(test_df[\"features\"])\n"
      ]
    },
    {
      "cell_type": "code",
      "execution_count": null,
      "metadata": {
        "_cell_guid": "31ef0069-3451-d566-7ee3-be1ff80d84b0"
      },
      "outputs": [],
      "source": [
        "temp = pd.concat([train_df_tr.manager_id,pd.get_dummies(train_df_tr.interest_level)], axis = 1\n",
        "                ).groupby('manager_id').mean()\n",
        "temp.columns = ['high_frac','low_frac', 'medium_frac']\n",
        "temp['count'] = train_df_tr.groupby('manager_id').count().iloc[:,1]\n",
        "\n",
        "temp['manager_skill'] = temp['high_frac']*2 + temp['medium_frac']\n",
        "unranked_managers_ixes = temp['count']<20\n",
        "ranked_managers_ixes = ~unranked_managers_ixes\n",
        "mean_values = temp.loc[ranked_managers_ixes, [\n",
        "    'high_frac','low_frac', 'medium_frac','manager_skill']].mean()\n",
        "temp.loc[unranked_managers_ixes,[\n",
        "    'high_frac','low_frac', 'medium_frac','manager_skill']] = mean_values.values\n",
        "\n",
        "train_df_tr = train_df_tr.merge(temp.reset_index(),how='left', on='manager_id')\n",
        "\n",
        "test_df = test_df.merge(temp.reset_index(),how='left', on='manager_id')\n",
        "new_manager_ixes = test_df['high_frac'].isnull()\n",
        "test_df.loc[new_manager_ixes,['high_frac','low_frac', 'medium_frac','manager_skill'\n",
        "                            ]] = mean_values.values\n",
        "\n",
        "#features_to_use.extend(['manager_skill'])\n",
        "\n",
        "print(features_to_use)"
      ]
    },
    {
      "cell_type": "code",
      "execution_count": null,
      "metadata": {
        "_cell_guid": "03e6c858-976e-6538-ee7d-1fd3d374f2b9"
      },
      "outputs": [],
      "source": [
        "features_sparse = ['features_'+str(i) for i in range(tr_sparse_tr.shape[1])]\n",
        "target_num_map = {'high':0, 'medium':1, 'low':2}\n",
        "train_y_tr = np.array(train_df_tr['interest_level'].apply(lambda x: target_num_map[x]))\n"
      ]
    },
    {
      "cell_type": "code",
      "execution_count": null,
      "metadata": {
        "_cell_guid": "a3e48e8b-cab0-6934-43d0-582148cfdac0"
      },
      "outputs": [],
      "source": [
        "p_high=(train_y_tr==0).sum()/train_y_tr.shape[0]\n",
        "p_medium=(train_y_tr==1).sum()/train_y_tr.shape[0]\n",
        "\n",
        "temp=pd.concat([train_df_tr['manager_id'], \n",
        "                train_df_tr['interest_level'].apply(lambda x: target_num_map[x])], axis=1)\n",
        "temp['high']=(temp['interest_level']==0).astype(np.int)\n",
        "temp['medium']=(temp['interest_level']==1).astype(np.int)\n",
        "temp2=temp.groupby('manager_id')['high', 'medium'].agg(np.average)\n",
        "temp2['count']=temp.groupby('manager_id')['interest_level'].agg(np.size)\n",
        "temp2['l']=temp2['count'].apply(lambda x: 1/(1+math.e**(min(x, 650)-5)))\n"
      ]
    },
    {
      "cell_type": "code",
      "execution_count": null,
      "metadata": {
        "_cell_guid": "871c74d6-0be3-8ffe-cc61-842264f83b56"
      },
      "outputs": [],
      "source": [
        "temp=pd.concat([train_df_tr['manager_id'], \n",
        "                train_df_tr['interest_level'].apply(lambda x: target_num_map[x])], axis=1)\n",
        "temp['high']=(temp['interest_level']==0).astype(np.int)\n",
        "temp['medium']=(temp['interest_level']==1).astype(np.int)\n",
        "temp2=temp.groupby('manager_id')['high', 'medium'].agg(np.average)\n",
        "temp2['count']=temp.groupby('manager_id')['interest_level'].agg(np.size)\n",
        "temp2['l']=temp2['count'].apply(lambda x: 1/(1+math.e**(min(x, 650)-5)))\n"
      ]
    },
    {
      "cell_type": "code",
      "execution_count": null,
      "metadata": {
        "_cell_guid": "a5f6fdc7-b76b-374b-526a-68fce0aa1f6a"
      },
      "outputs": [],
      "source": [
        "temp2.tail()"
      ]
    },
    {
      "cell_type": "code",
      "execution_count": null,
      "metadata": {
        "_cell_guid": "565065d8-a714-edf9-4c3b-944cc0ecb14a"
      },
      "outputs": [],
      "source": [
        "kf = KFold(n_splits=5, random_state=0)\n",
        "scores=[]\n",
        "best_i=[]\n",
        "for train_index, test_index in kf.split(train_df_tr):\n",
        "    train_X_tr = sparse.hstack([train_df_tr.loc[train_index, features_to_use], \n",
        "                                tr_sparse_tr[train_index]]).tocsr()\n",
        "    test_X_tr = sparse.hstack([train_df_tr.loc[test_index, features_to_use], \n",
        "                                tr_sparse_tr[test_index]]).tocsr()\n",
        "    #test_X = sparse.hstack([test_df[features_to_use], te_sparse]).tocsr()\n",
        "    preds, model = runXGB(train_X_tr, train_y_tr[train_index], \n",
        "                         test_X_tr, train_y_tr[test_index])\n",
        "    scores+=[model.best_score]\n",
        "    best_i+=[model.best_iteration]\n",
        "    print(\"%.6f %d\"%(model.best_score, model.best_iteration))\n",
        "print(\"final score\")\n",
        "print(\"%.6f %d\"%(sum(scores)/5, sum(best_i)/5))\n"
      ]
    },
    {
      "cell_type": "code",
      "execution_count": null,
      "metadata": {
        "_cell_guid": "449d2970-8312-62c3-e1c4-6a69b70557c7"
      },
      "outputs": [],
      "source": [
        "'''out_df = pd.DataFrame(preds)\n",
        "out_df.columns = [\"high\", \"medium\", \"low\"]\n",
        "out_df[\"listing_id\"] = test_df.listing_id.values\n",
        "out_df.to_csv(\"0330.3.csv\", index=False)\n",
        "'''"
      ]
    }
  ],
  "metadata": {
    "_change_revision": 0,
    "_is_fork": false,
    "kernelspec": {
      "display_name": "Python 3",
      "language": "python",
      "name": "python3"
    },
    "language_info": {
      "codemirror_mode": {
        "name": "ipython",
        "version": 3
      },
      "file_extension": ".py",
      "mimetype": "text/x-python",
      "name": "python",
      "nbconvert_exporter": "python",
      "pygments_lexer": "ipython3",
      "version": "3.6.0"
    }
  },
  "nbformat": 4,
  "nbformat_minor": 0
}