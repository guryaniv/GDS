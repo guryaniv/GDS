{
  "cells": [
    {
      "cell_type": "markdown",
      "metadata": {
        "_cell_guid": "e9c36212-ede2-be81-a24f-68660b232afb"
      },
      "source": ""
    },
    {
      "cell_type": "code",
      "execution_count": null,
      "metadata": {
        "_cell_guid": "21259aa8-1ea0-0c03-c9b0-bdb1d2c481b6"
      },
      "outputs": [],
      "source": [
        "# This Python 3 environment comes with many helpful analytics libraries installed\n",
        "# It is defined by the kaggle/python docker image: https://github.com/kaggle/docker-python\n",
        "# For example, here's several helpful packages to load in \n",
        "\n",
        "import numpy as np # linear algebra\n",
        "import pandas as pd # data processing, CSV file I/O (e.g. pd.read_csv)\n",
        "\n",
        "# Input data files are available in the \"../input/\" directory.\n",
        "# For example, running this (by clicking run or pressing Shift+Enter) will list the files in the input directory\n",
        "\n",
        "from subprocess import check_output\n",
        "print(check_output([\"ls\", \"../input\"]).decode(\"utf8\"))\n",
        "\n",
        "# Any results you write to the current directory are saved as output.\n",
        "\n",
        "X_train = pd.read_json(\"../input/train.json\")\n",
        "X_test = pd.read_json(\"../input/test.json\")"
      ]
    },
    {
      "cell_type": "code",
      "execution_count": null,
      "metadata": {
        "_cell_guid": "4e3ecf9a-d107-be50-93df-9ab1b7b0ab7a"
      },
      "outputs": [],
      "source": [
        "\n",
        "X_train.head()"
      ]
    },
    {
      "cell_type": "code",
      "execution_count": null,
      "metadata": {
        "_cell_guid": "8a64b018-fdde-ff9d-5d26-ba394f93a3c1"
      },
      "outputs": [],
      "source": [
        "X_train.shape"
      ]
    },
    {
      "cell_type": "code",
      "execution_count": null,
      "metadata": {
        "_cell_guid": "f85ff169-c707-9c29-4461-0b1b793559c7"
      },
      "outputs": [],
      "source": [
        "X_test.head()"
      ]
    },
    {
      "cell_type": "code",
      "execution_count": null,
      "metadata": {
        "_cell_guid": "8957559f-1ecd-5968-03a1-bf3958a94a6a"
      },
      "outputs": [],
      "source": [
        "X_test.shape"
      ]
    },
    {
      "cell_type": "code",
      "execution_count": null,
      "metadata": {
        "_cell_guid": "08ea8dd5-c9a4-cfd8-1a31-618752ee8f00"
      },
      "outputs": [],
      "source": [
        "sample=pd.read_csv(\"../input/sample_submission.csv\")"
      ]
    },
    {
      "cell_type": "code",
      "execution_count": null,
      "metadata": {
        "_cell_guid": "c5c5b9d3-d39b-e625-d9b5-a871a523eb45"
      },
      "outputs": [],
      "source": [
        "sample.head()"
      ]
    },
    {
      "cell_type": "code",
      "execution_count": null,
      "metadata": {
        "_cell_guid": "2d601702-8f38-7ac1-4451-d1453f59f48d"
      },
      "outputs": [],
      "source": [
        "print(check_output([\"ls\", \"../input/images_sample/\"]).decode(\"utf8\"))"
      ]
    },
    {
      "cell_type": "code",
      "execution_count": null,
      "metadata": {
        "_cell_guid": "41c6f0a1-d631-bf06-6b1d-868b7fe74b56"
      },
      "outputs": [],
      "source": [
        "import os\n",
        "import subprocess as sub\n",
        "from os import listdir\n",
        "from os.path import isfile, join\n",
        "onlyfiles = [f for f in listdir('../input/images_sample/6811957/') if isfile(join('../input/images_sample/6811957/', f))]\n",
        "print (onlyfiles)"
      ]
    },
    {
      "cell_type": "code",
      "execution_count": null,
      "metadata": {
        "_cell_guid": "cf8ea4b5-fed4-b900-997d-0d211aca0c00"
      },
      "outputs": [],
      "source": [
        "import matplotlib.pyplot as plt\n",
        "import matplotlib.image as mpimg\n",
        "%matplotlib inline\n",
        "img=[]\n",
        "for i in range (0,5):\n",
        "    img.append(mpimg.imread('../input/images_sample/6811957/'+onlyfiles[i]))\n",
        "    plt.imshow(img[i])\n",
        "    fig = plt.figure()\n",
        "    a=fig.add_subplot()\n",
        "    "
      ]
    },
    {
      "cell_type": "code",
      "execution_count": null,
      "metadata": {
        "_cell_guid": "faa620a3-01d8-213b-bbca-aae2a98608a5"
      },
      "outputs": [],
      "source": [
        "\n",
        "\n",
        "X_train.dropna(subset = ['interest_level'])\n",
        "X_train.shape\n",
        "print (X_train['interest_level'])"
      ]
    },
    {
      "cell_type": "code",
      "execution_count": null,
      "metadata": {
        "_cell_guid": "3db1b2b1-68c5-d2b9-ced5-c698bf17a212"
      },
      "outputs": [],
      "source": [
        "\n",
        "grouped = X_train.groupby(['interest_level'])\n",
        "print (grouped.size())\n",
        "#probability\n",
        "print (grouped.size()/len(X_train))"
      ]
    },
    {
      "cell_type": "code",
      "execution_count": null,
      "metadata": {
        "_cell_guid": "537bffd4-0aa7-8615-1d75-e449aea8b1ec"
      },
      "outputs": [],
      "source": [
        "from sklearn.ensemble import RandomForestClassifier\n",
        "from sklearn.model_selection import train_test_split\n",
        "from sklearn.metrics import log_loss\n",
        "\n",
        "X_train[\"num_photos\"] = X_train[\"photos\"].apply(len)\n",
        "X_train[\"num_features\"] = X_train[\"features\"].apply(len)\n",
        "X_train[\"num_description_words\"] = X_train[\"description\"].apply(lambda x: len(x.split(\" \")))\n",
        "X_train[\"created\"] = pd.to_datetime(X_train[\"created\"])\n",
        "X_train[\"created_year\"] = X_train[\"created\"].dt.year\n",
        "X_train[\"created_month\"] = X_train[\"created\"].dt.month\n",
        "X_train[\"created_day\"] = X_train[\"created\"].dt.day\n",
        "num_feats = [\"bathrooms\", \"bedrooms\", \"latitude\", \"longitude\", \"price\",\n",
        "             \"num_photos\", \"num_features\", \"num_description_words\",\n",
        "             \"created_year\", \"created_month\", \"created_day\"]\n",
        "X = X_train[num_feats]\n",
        "y = X_train[\"interest_level\"]\n",
        "\n",
        "X_train2, X_val, y_train2, y_val = train_test_split(X, y, test_size=0.3)"
      ]
    },
    {
      "cell_type": "code",
      "execution_count": null,
      "metadata": {
        "_cell_guid": "38ed8afe-3339-2db9-8829-01eaaf4f1e9d"
      },
      "outputs": [],
      "source": [
        "\n",
        "X_test[\"num_photos\"] = X_test[\"photos\"].apply(len)\n",
        "X_test[\"num_features\"] = X_test[\"features\"].apply(len)\n",
        "X_test[\"num_description_words\"] = X_test[\"description\"].apply(lambda x: len(x.split(\" \")))\n",
        "X_test[\"created\"] = pd.to_datetime(X_test[\"created\"])\n",
        "X_test[\"created_year\"] = X_test[\"created\"].dt.year\n",
        "X_test[\"created_month\"] = X_test[\"created\"].dt.month\n",
        "X_test[\"created_day\"] = X_test[\"created\"].dt.day\n",
        "X_test2 = X_test[num_feats]"
      ]
    },
    {
      "cell_type": "code",
      "execution_count": null,
      "metadata": {
        "_cell_guid": "9ee387c9-0be7-0033-1742-44b3bc9ed935"
      },
      "outputs": [],
      "source": [
        "# Train uncalibrated random forest classifier on whole train and validation\n",
        "# data and evaluate on test data\n",
        "rfmodel = RandomForestClassifier(n_estimators=300)\n",
        "rfmodel.fit(X_train2, y_train2)"
      ]
    },
    {
      "cell_type": "code",
      "execution_count": null,
      "metadata": {
        "_cell_guid": "3d29485d-9c51-1dd8-9756-aea63b30393b"
      },
      "outputs": [],
      "source": [
        "X_train2.head()"
      ]
    },
    {
      "cell_type": "code",
      "execution_count": null,
      "metadata": {
        "_cell_guid": "b6ad2732-5241-26b7-f0cd-8f8176dd970b"
      },
      "outputs": [],
      "source": [
        "y_val_pred = rfmodel.predict_proba(X_val)\n",
        "log_loss(y_val, y_val_pred)"
      ]
    },
    {
      "cell_type": "code",
      "execution_count": null,
      "metadata": {
        "_cell_guid": "4d5186f8-dcd6-72e9-9442-96f01112fb7f"
      },
      "outputs": [],
      "source": [
        "#This time use all the train datasets to train model\n",
        "rfmodel2 = RandomForestClassifier(n_estimators=300)\n",
        "rfmodel2.fit(X, y)"
      ]
    },
    {
      "cell_type": "code",
      "execution_count": null,
      "metadata": {
        "_cell_guid": "bdf6a486-3a08-c637-fc3a-c34ccd402249"
      },
      "outputs": [],
      "source": [
        "y_test_pred = rfmodel2.predict_proba(X_test2)"
      ]
    },
    {
      "cell_type": "code",
      "execution_count": null,
      "metadata": {
        "_cell_guid": "d58ec9cb-c4ab-88e6-4665-d3b86100a25d"
      },
      "outputs": [],
      "source": [
        "y_test_pred"
      ]
    },
    {
      "cell_type": "code",
      "execution_count": null,
      "metadata": {
        "_cell_guid": "0ee99366-5e60-a726-c489-8776b125e7ae"
      },
      "outputs": [],
      "source": ""
    },
    {
      "cell_type": "code",
      "execution_count": null,
      "metadata": {
        "_cell_guid": "78bb497c-1c96-d7c1-f40c-e149a7eef59a"
      },
      "outputs": [],
      "source": [
        "X.head()"
      ]
    },
    {
      "cell_type": "code",
      "execution_count": null,
      "metadata": {
        "_cell_guid": "d9d4c861-d86b-512a-ba14-0ac7a3d75d51"
      },
      "outputs": [],
      "source": [
        "y.head()"
      ]
    },
    {
      "cell_type": "code",
      "execution_count": null,
      "metadata": {
        "_cell_guid": "5856ce25-12e6-e71e-dab8-367a3a88cf98"
      },
      "outputs": [],
      "source": [
        "X.shape"
      ]
    },
    {
      "cell_type": "code",
      "execution_count": null,
      "metadata": {
        "_cell_guid": "86c6845a-cfe9-a3cf-c183-277374d2b11b"
      },
      "outputs": [],
      "source": [
        "y.shape"
      ]
    },
    {
      "cell_type": "code",
      "execution_count": null,
      "metadata": {
        "_cell_guid": "ecb6b8f4-161f-6df3-0905-ea6fa5949757"
      },
      "outputs": [],
      "source": [
        "X_test.shape"
      ]
    },
    {
      "cell_type": "code",
      "execution_count": null,
      "metadata": {
        "_cell_guid": "3d436e49-e610-e80f-3a67-4c89e238cbd1"
      },
      "outputs": [],
      "source": [
        "X_test2.shape"
      ]
    },
    {
      "cell_type": "code",
      "execution_count": null,
      "metadata": {
        "_cell_guid": "a42449a8-d1a3-517c-5eec-5290c412b95e"
      },
      "outputs": [],
      "source": [
        "y1 = [0]*len(y)\n",
        "y2 = [0]*len(y)\n",
        "\n",
        "type(y2)"
      ]
    },
    {
      "cell_type": "code",
      "execution_count": null,
      "metadata": {
        "_cell_guid": "305b6221-cb3c-a475-96a3-36d6006bcbec"
      },
      "outputs": [],
      "source": [
        "type(y)"
      ]
    },
    {
      "cell_type": "code",
      "execution_count": null,
      "metadata": {
        "_cell_guid": "cae453bb-bd51-85fc-7a6b-bfb554385b08"
      },
      "outputs": [],
      "source": [
        "y_list = y.tolist()\n",
        "type(y_list)\n",
        "y_list"
      ]
    },
    {
      "cell_type": "code",
      "execution_count": null,
      "metadata": {
        "_cell_guid": "fdccd9b8-6db0-d6b4-22ac-935f15700f00"
      },
      "outputs": [],
      "source": [
        "for i in range(0, len(y), 1):\n",
        "    if(y_list[i]==\"low\"):\n",
        "        print(\"low\")\n",
        "        y1[i] = 0\n",
        "        y2[i] = 0\n",
        "    if(y_list[i]==\"medium\"):\n",
        "        y1[i] = 0\n",
        "        y2[i] = 1\n",
        "    if(y_list[i]==\"high\"):\n",
        "        print(\"high\")\n",
        "        y1[i] = 1\n",
        "        y2[i] = 0\n",
        "print(\"Binary coding done.\")"
      ]
    },
    {
      "cell_type": "code",
      "execution_count": null,
      "metadata": {
        "_cell_guid": "08cb9e4a-a0e3-4cdf-7e78-0c85f90b9924"
      },
      "outputs": [],
      "source": [
        "y_n = [0]*len(y)\n",
        "for i in range(0, len(y), 1):\n",
        "    if(y_list[i]==\"low\"):\n",
        "        y_n[i]=1\n",
        "    if(y_list[i]==\"medium\"):\n",
        "        y_n[i]=2\n",
        "    if(y_list[i]==\"high\"):\n",
        "        y_n[i]=3\n",
        "print(\"3-level coding done.\")\n",
        "\n",
        "    "
      ]
    },
    {
      "cell_type": "code",
      "execution_count": null,
      "metadata": {
        "_cell_guid": "ceb4d211-21c1-4a27-2b15-9eeb8e01c419"
      },
      "outputs": [],
      "source": [
        "len(y_n)"
      ]
    },
    {
      "cell_type": "code",
      "execution_count": null,
      "metadata": {
        "_cell_guid": "255d53d4-6c1f-5b71-8b01-d2c758c1365c"
      },
      "outputs": [],
      "source": [
        "y_n"
      ]
    },
    {
      "cell_type": "code",
      "execution_count": null,
      "metadata": {
        "_cell_guid": "be708c32-5778-0ee3-e44c-92fd131a5b56"
      },
      "outputs": [],
      "source": [
        "y1"
      ]
    },
    {
      "cell_type": "code",
      "execution_count": null,
      "metadata": {
        "_cell_guid": "78422991-5bfb-dde4-cac4-c3f2c61470c1"
      },
      "outputs": [],
      "source": [
        "y2"
      ]
    },
    {
      "cell_type": "code",
      "execution_count": null,
      "metadata": {
        "_cell_guid": "5bdcecc8-5710-2ce6-ee8f-3dd52b225d58"
      },
      "outputs": [],
      "source": [
        "y1 == y2"
      ]
    },
    {
      "cell_type": "code",
      "execution_count": null,
      "metadata": {
        "_cell_guid": "33b372ce-f736-9a82-4650-f18f3d701a0f"
      },
      "outputs": [],
      "source": [
        "y1_a = np.ravel(y1)\n",
        "y1_a"
      ]
    },
    {
      "cell_type": "code",
      "execution_count": null,
      "metadata": {
        "_cell_guid": "6cf8e7a6-d659-614a-3e59-9d5144e33c15"
      },
      "outputs": [],
      "source": [
        "y2_a = np.ravel(y2)\n",
        "y2_a"
      ]
    },
    {
      "cell_type": "code",
      "execution_count": null,
      "metadata": {
        "_cell_guid": "d461ed41-fcf6-d712-793a-4da4a2757d17"
      },
      "outputs": [],
      "source": [
        "import numpy as np\n",
        "import pandas as pd\n",
        "import statsmodels.api as sm\n",
        "import matplotlib.pyplot as plt\n",
        "from patsy import dmatrices\n",
        "from sklearn.linear_model import LogisticRegression\n",
        "from sklearn.cross_validation import train_test_split\n",
        "from sklearn import metrics\n",
        "from sklearn.cross_validation import cross_val_score"
      ]
    },
    {
      "cell_type": "code",
      "execution_count": null,
      "metadata": {
        "_cell_guid": "1a2a6a11-3f18-3d02-1e1d-f67c75b3407e"
      },
      "outputs": [],
      "source": [
        "model1 = LogisticRegression()\n",
        "model1 = model1.fit(X, y1_a)\n",
        "\n",
        "model1.score(X, y1_a)"
      ]
    },
    {
      "cell_type": "code",
      "execution_count": null,
      "metadata": {
        "_cell_guid": "47dd5142-4975-edb0-1530-fed3b0e52bf1"
      },
      "outputs": [],
      "source": [
        "model2 = LogisticRegression()\n",
        "model2 = model2.fit(X, y2_a)\n",
        "\n",
        "model2.score(X, y2_a)"
      ]
    },
    {
      "cell_type": "code",
      "execution_count": null,
      "metadata": {
        "_cell_guid": "420c37ab-494a-b428-8889-9da9e7dfc858"
      },
      "outputs": [],
      "source": [
        "model1"
      ]
    },
    {
      "cell_type": "code",
      "execution_count": null,
      "metadata": {
        "_cell_guid": "60fca03b-2a47-4d12-b84f-080b6db028a5"
      },
      "outputs": [],
      "source": [
        "model_n = LogisticRegression(C=1.0, class_weight=None, dual=False, fit_intercept=True,\n",
        "          intercept_scaling=1, max_iter=400, multi_class='multinomial', n_jobs=1,\n",
        "          penalty='l2', random_state=None, solver='newton-cg', tol=0.0001,\n",
        "          verbose=0, warm_start=False)"
      ]
    },
    {
      "cell_type": "code",
      "execution_count": null,
      "metadata": {
        "_cell_guid": "c96ff2bc-bd88-b668-4fef-11a09aa34187"
      },
      "outputs": [],
      "source": [
        "model_n"
      ]
    },
    {
      "cell_type": "code",
      "execution_count": null,
      "metadata": {
        "_cell_guid": "5a43fb62-bac0-d90e-edaa-ec071eb6fa8a"
      },
      "outputs": [],
      "source": [
        "model_n_1 = model_n.fit(X,y_n)"
      ]
    },
    {
      "cell_type": "code",
      "execution_count": null,
      "metadata": {
        "_cell_guid": "6a66e76a-ac70-d92e-aae9-9c3edade6138"
      },
      "outputs": [],
      "source": [
        "model_n_1.score(X,y_n)"
      ]
    },
    {
      "cell_type": "code",
      "execution_count": null,
      "metadata": {
        "_cell_guid": "1a32e3af-bf14-80a9-8efb-f2ad84a893dc"
      },
      "outputs": [],
      "source": [
        "y_mul = model_n_1.predict_proba(X_test2)"
      ]
    },
    {
      "cell_type": "code",
      "execution_count": null,
      "metadata": {
        "_cell_guid": "ba5b5867-3814-0a4c-b532-e9a87d3ea142"
      },
      "outputs": [],
      "source": [
        "y_mul"
      ]
    },
    {
      "cell_type": "code",
      "execution_count": null,
      "metadata": {
        "_cell_guid": "cba9e4d8-81ea-a7d4-2a5c-79a0d835d70b"
      },
      "outputs": [],
      "source": [
        "y_mul.shape"
      ]
    },
    {
      "cell_type": "code",
      "execution_count": null,
      "metadata": {
        "_cell_guid": "466b322a-e157-86d4-73b2-f8b5afd4ff88"
      },
      "outputs": [],
      "source": [
        "lst_id = X_test['listing_id']"
      ]
    },
    {
      "cell_type": "code",
      "execution_count": null,
      "metadata": {
        "_cell_guid": "9f32150e-24ea-1b9a-e8dd-698f608dbb9f"
      },
      "outputs": [],
      "source": [
        "type(y_mul)"
      ]
    },
    {
      "cell_type": "code",
      "execution_count": null,
      "metadata": {
        "_cell_guid": "2d084db9-9124-220b-3f13-0348804f1164"
      },
      "outputs": [],
      "source": [
        "type(lst_id)"
      ]
    },
    {
      "cell_type": "code",
      "execution_count": null,
      "metadata": {
        "_cell_guid": "984f2970-704d-3eea-2d3b-b607a6396347"
      },
      "outputs": [],
      "source": [
        "p_d_t = np.vstack((lst_id, y_mul[:,2], y_mul[:,1], y_mul[:,0])).T"
      ]
    },
    {
      "cell_type": "code",
      "execution_count": null,
      "metadata": {
        "_cell_guid": "65098f28-b8d7-224c-9ba6-aa123377d7f0"
      },
      "outputs": [],
      "source": [
        "type(p_d_t)"
      ]
    },
    {
      "cell_type": "code",
      "execution_count": null,
      "metadata": {
        "_cell_guid": "9888c7ee-5a20-61ac-9be7-93ee2ee879de"
      },
      "outputs": [],
      "source": [
        "p_d_t"
      ]
    },
    {
      "cell_type": "code",
      "execution_count": null,
      "metadata": {
        "_cell_guid": "8890bb3a-ec67-a001-7c39-45132f7ab057"
      },
      "outputs": [],
      "source": [
        "p_d_t = pd.DataFrame(p_d_t)"
      ]
    },
    {
      "cell_type": "code",
      "execution_count": null,
      "metadata": {
        "_cell_guid": "5ffc660e-d943-2d9b-d52d-b7ba187fcd86"
      },
      "outputs": [],
      "source": [
        "p_d_t[0]=p_d_t[0].astype(int)"
      ]
    },
    {
      "cell_type": "code",
      "execution_count": null,
      "metadata": {
        "_cell_guid": "18082e5c-b7d2-48b7-b89c-c64e0d8d8272"
      },
      "outputs": [],
      "source": [
        "p_d_t"
      ]
    },
    {
      "cell_type": "code",
      "execution_count": null,
      "metadata": {
        "_cell_guid": "8b81681d-915e-fe4b-71c2-21a001aeaf97"
      },
      "outputs": [],
      "source": [
        "p_d_t.to_csv('./result0415a.csv', index=False)"
      ]
    }
  ],
  "metadata": {
    "_change_revision": 0,
    "_is_fork": false,
    "kernelspec": {
      "display_name": "Python 3",
      "language": "python",
      "name": "python3"
    },
    "language_info": {
      "codemirror_mode": {
        "name": "ipython",
        "version": 3
      },
      "file_extension": ".py",
      "mimetype": "text/x-python",
      "name": "python",
      "nbconvert_exporter": "python",
      "pygments_lexer": "ipython3",
      "version": "3.6.0"
    }
  },
  "nbformat": 4,
  "nbformat_minor": 0
}