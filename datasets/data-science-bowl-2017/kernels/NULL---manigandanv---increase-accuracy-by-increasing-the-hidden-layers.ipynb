{
  "cells": [
    {
      "cell_type": "markdown",
      "metadata": {
        "_cell_guid": "e044893e-4741-d675-d58a-3173342ca513"
      },
      "source": [
        "In convolution neural network the hidden layers are convolution+max pooling.\n",
        "So i just tried increasing it"
      ]
    },
    {
      "cell_type": "code",
      "execution_count": null,
      "metadata": {
        "_cell_guid": "b7c70c56-09b2-0aa4-0ead-eb803c3cd95c"
      },
      "outputs": [],
      "source": [
        "import dicom\n",
        "import os\n",
        "import pandas as pd\n",
        "\n",
        "data_dir='D:/stage1/'\n",
        "patients=os.listdir(data_dir)\n",
        "labels_df=pd.read_csv('D:/stage1_labels.csv',index_col=0)"
      ]
    },
    {
      "cell_type": "code",
      "execution_count": null,
      "metadata": {
        "_cell_guid": "71c064f0-b3a1-c641-b632-6f5445b446d4"
      },
      "outputs": [],
      "source": [
        "import tensorflow as tf\n",
        "import numpy as np\n",
        "\n",
        "IMG_SIZE_PX=50\n",
        "SLICE_COUNT=20\n",
        "\n",
        "n_classes=2\n",
        "\n",
        "x=tf.placeholder('float')\n",
        "y=tf.placeholder('float')\n",
        "\n",
        "keep_rate=0.8\n",
        "keep_prob=tf.placeholder(tf.float32)\n",
        "\n",
        "def conv3d(x, W):\n",
        "    return tf.nn.conv3d(x, W, strides=[1,1,1,1,1], padding='SAME')\n",
        "\n",
        "def maxpool3d(x):\n",
        "    #                        size of window         movement of window as you slide about\n",
        "    return tf.nn.max_pool3d(x, ksize=[1,2,2,2,1], strides=[1,2,2,2,1], padding='SAME')"
      ]
    },
    {
      "cell_type": "code",
      "execution_count": null,
      "metadata": {
        "_cell_guid": "6c3dc07f-a1d2-5a69-474f-bf78c67305c0"
      },
      "outputs": [],
      "source": [
        "def convolutional_neural_network(x):\n",
        "    #1st layer weights 5 x 5 x 5 patches, 1 channel, 32 features to compute.\n",
        "    weights = {'W_conv1':tf.Variable(tf.random_normal([5,5,5,1,32])),\n",
        "               #2nd layer weights 5 x 5 x 5 patches, 32 channels, 64 features to compute.\n",
        "               'W_conv2':tf.Variable(tf.random_normal([5,5,5,32,64])),\n",
        "               #3rd layer weights 5 x 5 x 5 patches, 64 channels,128 features to compute.\n",
        "               'W_conv3':tf.Variable(tf.random_normal([5,5,5,64,128])),\n",
        "              #4th layer weights 5 x 5 x 5 patches, 128 channels, 256 features to compute.\n",
        "               'W_conv4':tf.Variable(tf.random_normal([5,5,5,128,256])),\n",
        "               'W_fc':tf.Variable(tf.random_normal([2293760,1024])),\n",
        "               'out':tf.Variable(tf.random_normal([1024, n_classes]))}\n",
        "              #1st layer biases\n",
        "    biases = {'b_conv1':tf.Variable(tf.random_normal([32])),\n",
        "              #2nd layer biases\n",
        "               'b_conv2':tf.Variable(tf.random_normal([64])),\n",
        "              #3rd layer biases\n",
        "               'b_conv3':tf.Variable(tf.random_normal([128])),\n",
        "              #4th layer biases\n",
        "               'b_conv4':tf.Variable(tf.random_normal([256])),\n",
        "               'b_fc':tf.Variable(tf.random_normal([1024])),\n",
        "               'out':tf.Variable(tf.random_normal([n_classes]))}\n",
        "\n",
        "    #                            image X      image Y        image Z\n",
        "    x = tf.reshape(x, shape=[-1, IMG_SIZE_PX, IMG_SIZE_PX, SLICE_COUNT, 1])\n",
        "    #1st hidden layer\n",
        "    conv1 = tf.nn.relu(conv3d(x, weights['W_conv1']) + biases['b_conv1'])\n",
        "    conv1 = maxpool3d(conv1)\n",
        "    #2nd hidden layer\n",
        "    conv2 = tf.nn.relu(conv3d(conv1, weights['W_conv2']) + biases['b_conv2'])\n",
        "    conv2 = maxpool3d(conv2)\n",
        "    #3rd hidden layer\n",
        "    conv3 = tf.nn.relu(conv3d(conv2, weights['W_conv3']) + biases['b_conv3'])\n",
        "    conv3 = maxpool3d(conv3)\n",
        "    #4th hidden layer\n",
        "    conv4 = tf.nn.relu(conv3d(conv3, weights['W_conv4']) + biases['b_conv4'])\n",
        "    conv4 = maxpool3d(conv4)\n",
        "    #conv5 = tf.nn.relu(conv3d(conv4, weights['W_conv5']) + biases['b_conv5'])\n",
        "    #conv5 = maxpool3d(conv5)\n",
        "    #conv6 = tf.nn.relu(conv3d(conv5, weights['W_conv6']) + biases['b_conv6'])\n",
        "    #conv6 = maxpool3d(conv6)\n",
        "    \n",
        "    \n",
        "                              #tf input value\n",
        "    fc = tf.reshape(conv4,[-1, 2293760])\n",
        "    fc = tf.nn.relu(tf.matmul(fc, weights['W_fc'])+biases['b_fc'])\n",
        "    fc = tf.nn.dropout(fc, keep_rate)\n",
        "\n",
        "    output = tf.matmul(fc, weights['out'])+biases['out']\n",
        "\n",
        "    return output"
      ]
    }
  ],
  "metadata": {
    "_change_revision": 0,
    "_is_fork": false,
    "kernelspec": {
      "display_name": "Python 3",
      "language": "python",
      "name": "python3"
    },
    "language_info": {
      "codemirror_mode": {
        "name": "ipython",
        "version": 3
      },
      "file_extension": ".py",
      "mimetype": "text/x-python",
      "name": "python",
      "nbconvert_exporter": "python",
      "pygments_lexer": "ipython3",
      "version": "3.6.0"
    }
  },
  "nbformat": 4,
  "nbformat_minor": 0
}