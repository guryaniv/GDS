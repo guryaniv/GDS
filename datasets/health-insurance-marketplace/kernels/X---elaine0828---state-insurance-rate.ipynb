{
  "cells": [
    {
      "cell_type": "code",
      "execution_count": null,
      "metadata": {
        "_cell_guid": "f30bc526-8ab4-dfca-9e49-db5c5227f59a"
      },
      "outputs": [],
      "source": [
        "# This Python 3 environment comes with many helpful analytics libraries installed\n",
        "# It is defined by the kaggle/python docker image: https://github.com/kaggle/docker-python\n",
        "# For example, here's several helpful packages to load in \n",
        "\n",
        "import numpy as np # linear algebra\n",
        "import pandas as pd # data processing, CSV file I/O (e.g. pd.read_csv)\n",
        "\n",
        "\n",
        "# Any results you write to the current directory are saved as output.\n",
        "\n",
        "csv_chunks = pd.read_csv(\"../input/Rate.csv\",iterator=True,chunksize = 1000)\n",
        "Rate = pd.concat(chunk for chunk in csv_chunks)"
      ]
    },
    {
      "cell_type": "code",
      "execution_count": null,
      "metadata": {
        "_cell_guid": "2082deef-3666-a19a-9290-0cad38b6d3d6"
      },
      "outputs": [],
      "source": [
        "Rates = Rate[[ 'StateCode',\n",
        "               'BusinessYear',\n",
        "               'Age',\n",
        "               'IndividualRate']]"
      ]
    },
    {
      "cell_type": "code",
      "execution_count": null,
      "metadata": {
        "_cell_guid": "04b21613-cfcc-81c5-4af1-e6584f111b71"
      },
      "outputs": [],
      "source": [
        "# Outlier detect\n",
        "def get_median_filtered(signal, threshold=5):\n",
        "    signal = signal.copy()\n",
        "    difference = np.abs(signal - np.median(signal))\n",
        "    median_difference = np.median(difference)\n",
        "    if median_difference == 0:\n",
        "        s = 0\n",
        "    else:\n",
        "        s = difference / float(median_difference)\n",
        "    mask = s > threshold\n",
        "    signal[mask] = np.median(signal)\n",
        "    return signal"
      ]
    },
    {
      "cell_type": "markdown",
      "metadata": {
        "_cell_guid": "1e5b8f2f-ff35-35b8-0d8d-596f1982ff77"
      },
      "source": [
        "Plot the outliers in a line graph."
      ]
    },
    {
      "cell_type": "code",
      "execution_count": null,
      "metadata": {
        "_cell_guid": "e68fe7ec-dcb1-22b4-7b6c-6efceae8ac56"
      },
      "outputs": [],
      "source": [
        "import matplotlib.pyplot as plt\n",
        "\n",
        "figsize = (10, 10)\n",
        "kw = dict(marker='o', linestyle='none', color='r', alpha=0.3)\n",
        "\n",
        "Rates ['aveRate'] = get_median_filtered(Rates['IndividualRate'].values, threshold=5)\n",
        "\n",
        "outlier_idx = np.where(Rates['aveRate'].values != Rates['IndividualRate'].values)[0]\n",
        "\n",
        "fig1, ax1 = plt.subplots(figsize=figsize)\n",
        "Rates['IndividualRate'].plot()\n",
        "Rates['IndividualRate'][outlier_idx].plot(**kw)\n",
        "plt.show()"
      ]
    },
    {
      "cell_type": "markdown",
      "metadata": {
        "_cell_guid": "5b242527-022e-d7ba-4191-ea81bc1787b1"
      },
      "source": [
        "Delete all the outliers based on observations."
      ]
    },
    {
      "cell_type": "code",
      "execution_count": null,
      "metadata": {
        "_cell_guid": "eaaa01b1-7f55-441b-1e4b-1f215794a2bd"
      },
      "outputs": [],
      "source": [
        "normal = Rates['IndividualRate'] < 9997"
      ]
    },
    {
      "cell_type": "code",
      "execution_count": null,
      "metadata": {
        "_cell_guid": "797578a2-e81c-8c35-b3ea-dafe9938ea70"
      },
      "outputs": [],
      "source": [
        "Rate_Cleaned = Rates[normal]"
      ]
    },
    {
      "cell_type": "code",
      "execution_count": null,
      "metadata": {
        "_cell_guid": "08c6083b-59a7-4077-d93e-6f5725d21aa2"
      },
      "outputs": [],
      "source": [
        "RateAverage = Rate_Cleaned.groupby(['StateCode', 'BusinessYear'])['IndividualRate'].mean()\n",
        "RateAverage = pd.DataFrame(RateAverage)\n",
        "RateAverage.reset_index(inplace=True)  "
      ]
    },
    {
      "cell_type": "code",
      "execution_count": null,
      "metadata": {
        "_cell_guid": "2c5acfd2-5578-c30c-112a-40fc732de2e1"
      },
      "outputs": [],
      "source": [
        "import seaborn as sns\n",
        "\n",
        "fig, ax = plt.subplots(figsize=(10, 40))\n",
        "sns.barplot(ax=ax,y=\"StateCode\", x=\"IndividualRate\", hue=\"BusinessYear\",data=RateAverage,palette=\"Paired\")"
      ]
    }
  ],
  "metadata": {
    "_change_revision": 0,
    "_is_fork": false,
    "kernelspec": {
      "display_name": "Python 3",
      "language": "python",
      "name": "python3"
    },
    "language_info": {
      "codemirror_mode": {
        "name": "ipython",
        "version": 3
      },
      "file_extension": ".py",
      "mimetype": "text/x-python",
      "name": "python",
      "nbconvert_exporter": "python",
      "pygments_lexer": "ipython3",
      "version": "3.6.0"
    }
  },
  "nbformat": 4,
  "nbformat_minor": 0
}