{
  "cells": [
    {
      "cell_type": "code",
      "execution_count": null,
      "metadata": {
        "_cell_guid": "e2db0b66-5f6f-a832-021c-e777666ba3ad"
      },
      "outputs": [],
      "source": [
        "import numpy as np\n",
        "import pandas as pd\n",
        "from sklearn.model_selection import train_test_split\n",
        "from sklearn.feature_selection import SelectKBest, f_classif\n",
        "from matplotlib import cm\n",
        "\n",
        "df = pd.read_csv('../input/creditcard.csv')\n",
        "df.head()"
      ]
    },
    {
      "cell_type": "code",
      "execution_count": null,
      "metadata": {
        "_cell_guid": "87ec4576-3a8f-5867-709b-135c50c75821"
      },
      "outputs": [],
      "source": [
        "X = df[df.columns[:len(df.columns) - 1]]\n",
        "y = df['Class']\n",
        "X_train, X_test, y_train, y_test = train_test_split(X, y)\n",
        "\n",
        "np.set_printoptions(precision=3)\n",
        "test = SelectKBest(score_func=f_classif, k=4)\n",
        "fit = test.fit(X_train, y_train)\n",
        "for property, value in vars(fit).items():\n",
        "    print(property, \": \", value)\n",
        "features = fit.transform(X)\n",
        "X_train = features[0:5,:]\n",
        "print(X_train)"
      ]
    },
    {
      "cell_type": "code",
      "execution_count": null,
      "metadata": {
        "_cell_guid": "8c1f4bf3-b2dc-db55-8855-ac4503bc806a"
      },
      "outputs": [],
      "source": [
        "cmap = cm.get_cmap('gnuplot')\n",
        "scatter = pd.scatter_matrix(X_train, c= y_train, marker = 'o', s=40, hist_kwds={'bins':15}, figsize=(9,9), cmap=cmap)"
      ]
    }
  ],
  "metadata": {
    "_change_revision": 0,
    "_is_fork": false,
    "kernelspec": {
      "display_name": "Python 3",
      "language": "python",
      "name": "python3"
    },
    "language_info": {
      "codemirror_mode": {
        "name": "ipython",
        "version": 3
      },
      "file_extension": ".py",
      "mimetype": "text/x-python",
      "name": "python",
      "nbconvert_exporter": "python",
      "pygments_lexer": "ipython3",
      "version": "3.6.0"
    }
  },
  "nbformat": 4,
  "nbformat_minor": 0
}