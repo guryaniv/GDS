{
  "cells": [
    {
      "cell_type": "markdown",
      "metadata": {
        "_cell_guid": "af58a708-6a77-4fe8-931d-4730858183a4"
      },
      "source": [
        "# Python for Padawans\n",
        "\n",
        "This tutorial will go throughthe basic data wrangling workflow I'm sure you all love to hate, in Python! \n",
        "FYI: I come from a R background (aka I'm not a proper programmer) so if you see any formatting issues please cut me a bit of slack. \n",
        "\n",
        "**The aim for this post is to show people how to easily move their R workflows to Python (especially pandas/scikit)**\n",
        "\n",
        "One thing I especially like is how consistent all the functions are. You don't need to switch up style like you have to when you move from base R to dplyr etc. \n",
        "|\n",
        "And also, it's apparently much easier to push code to production using Python than R. So there's that. \n",
        "\n",
        "### 1. Reading in libraries"
      ]
    },
    {
      "cell_type": "code",
      "execution_count": null,
      "metadata": {
        "_cell_guid": "36f54300-a228-48e5-9694-d1e98f95ea1b"
      },
      "outputs": [],
      "source": [
        "%matplotlib inline\n",
        "import os\n",
        "import pandas as pd\n",
        "from matplotlib import pyplot as plt\n",
        "import numpy as np\n",
        "import math"
      ]
    },
    {
      "cell_type": "markdown",
      "metadata": {
        "_cell_guid": "54d1d150-1708-40d0-9787-360c34af7c40"
      },
      "source": [
        "#### Don't forget that %matplotlib function. Otherwise your graphs will pop up in separate windows and stop the execution of further cells. And nobody got time for that.\n",
        "\n",
        "### 2. Reading in data"
      ]
    },
    {
      "cell_type": "code",
      "execution_count": null,
      "metadata": {
        "_cell_guid": "565fd5ac-3a9b-4ebb-82cb-682690a12f10"
      },
      "outputs": [],
      "source": [
        "data = pd.read_csv('../input/loan.csv', low_memory=False)\n",
        "data.drop(['id', 'member_id', 'emp_title'], axis=1, inplace=True)\n",
        "\n",
        "data.replace('n/a', np.nan,inplace=True)\n",
        "data.emp_length.fillna(value=0,inplace=True)\n",
        "\n",
        "data['emp_length'].replace(to_replace='[^0-9]+', value='', inplace=True, regex=True)\n",
        "data['emp_length'] = data['emp_length'].astype(int)\n",
        "\n",
        "data['term'] = data['term'].apply(lambda x: x.lstrip())"
      ]
    },
    {
      "cell_type": "markdown",
      "metadata": {
        "_cell_guid": "3b624008-ff4c-4fea-92fa-78a90f997716"
      },
      "source": [
        "### 3. Basic plotting using Seaborn\n",
        "\n",
        "Now let's make some pretty graphs. Coming from R I definitely prefer ggplot2 but the more I use Seaborn, the more I like it. If you kinda forget about adding \"+\" to your graphs and instead use the dot operator, it does essentially the same stuff.\n",
        "\n",
        "**And I've just found out that you can create your own style sheets to make life easier. Wahoo!**\n",
        "\n",
        "But anyway, below I'll show you how to format a decent looking Seaborn graph, as well as how to summarise a given dataframe."
      ]
    },
    {
      "cell_type": "code",
      "execution_count": null,
      "metadata": {
        "_cell_guid": "8e142a42-c787-4d7f-84c4-8f12295422f6"
      },
      "outputs": [],
      "source": [
        "import seaborn as sns\n",
        "import matplotlib\n",
        "\n",
        "s = pd.value_counts(data['emp_length']).to_frame().reset_index()\n",
        "s.columns = ['type', 'count']\n",
        "\n",
        "def emp_dur_graph(graph_title):\n",
        "\n",
        "    sns.set_style(\"whitegrid\")\n",
        "    ax = sns.barplot(y = \"count\", x = 'type', data=s)\n",
        "    ax.set(xlabel = '', ylabel = '', title = graph_title)\n",
        "    ax.get_yaxis().set_major_formatter(\n",
        "    matplotlib.ticker.FuncFormatter(lambda x, p: format(int(x), ',')))\n",
        "    _ = ax.set_xticklabels(ax.get_xticklabels(), rotation=0)\n",
        "    \n",
        "emp_dur_graph('Distribution of employment length for issued loans')"
      ]
    },
    {
      "cell_type": "markdown",
      "metadata": {
        "_cell_guid": "2f91089e-ffff-4b4a-a617-307f193c1230"
      },
      "source": [
        "### 4. Using Seaborn stylesheets\n",
        "\n",
        "Now before we move on, we'll look at using style sheets to customize our graphs nice and quickly."
      ]
    },
    {
      "cell_type": "code",
      "execution_count": null,
      "metadata": {
        "_cell_guid": "05453800-c3c4-4c2a-803e-817468dbd525"
      },
      "outputs": [],
      "source": [
        "import seaborn as sns\n",
        "import matplotlib\n",
        "\n",
        "print (plt.style.available)"
      ]
    },
    {
      "cell_type": "markdown",
      "metadata": {
        "_cell_guid": "2279562f-c310-4e47-9b80-8194c9480d0e"
      },
      "source": [
        "Now you can see that we've got quite a few to play with. I'm going to focus on the following styles:\n",
        "\n",
        "- fivethirtyeight (because it's my fav website)\n",
        "- seaborn-notebook\n",
        "- ggplot\n",
        "- classic"
      ]
    },
    {
      "cell_type": "code",
      "execution_count": null,
      "metadata": {
        "_cell_guid": "0dad4009-bbfa-4b0f-bd1b-c43489e3cd7b"
      },
      "outputs": [],
      "source": [
        "import seaborn as sns\n",
        "import matplotlib\n",
        "\n",
        "plt.style.use('fivethirtyeight')\n",
        "ax = emp_dur_graph('Fivethirty eight style')"
      ]
    },
    {
      "cell_type": "code",
      "execution_count": null,
      "metadata": {
        "_cell_guid": "a65ee32f-4c69-495b-ae1e-b81ac340c5ac"
      },
      "outputs": [],
      "source": [
        "plt.style.use('seaborn-notebook')\n",
        "ax = emp_dur_graph('Seaborn-notebook style')"
      ]
    },
    {
      "cell_type": "code",
      "execution_count": null,
      "metadata": {
        "_cell_guid": "85ba095c-704e-412c-a031-60f6a4bde5d7"
      },
      "outputs": [],
      "source": [
        "plt.style.use('ggplot')\n",
        "ax = emp_dur_graph('ggplot style')"
      ]
    },
    {
      "cell_type": "code",
      "execution_count": null,
      "metadata": {
        "_cell_guid": "5ae44994-c64a-4832-8c81-ba828f9cd346"
      },
      "outputs": [],
      "source": [
        "plt.style.use('classic')\n",
        "ax = emp_dur_graph('classic style')"
      ]
    },
    {
      "cell_type": "markdown",
      "metadata": {
        "_cell_guid": "e8820362-b1be-4256-98eb-5bc83838eb4b"
      },
      "source": [
        "### 5. Working with dates\n",
        "\n",
        "Now we want to looking at datetimes. Dates can be quite difficult to manipulate but it's worth the wait. Once they're formatted correctly life becomes much easier"
      ]
    },
    {
      "cell_type": "code",
      "execution_count": null,
      "metadata": {
        "_cell_guid": "dd8067b3-4226-4c73-863a-11d4d0efe70f"
      },
      "outputs": [],
      "source": [
        "import datetime\n",
        "\n",
        "data.issue_d.fillna(value=np.nan,inplace=True)\n",
        "issue_d_todate = pd.to_datetime(data.issue_d)\n",
        "data.issue_d = pd.Series(data.issue_d).str.replace('-2015', '')\n",
        "data.emp_length.fillna(value=np.nan,inplace=True)\n",
        "\n",
        "data.drop(['loan_status'],1, inplace=True)\n",
        "\n",
        "data.drop(['pymnt_plan','url','desc','title' ],1, inplace=True)\n",
        "\n",
        "data.earliest_cr_line = pd.to_datetime(data.earliest_cr_line)\n",
        "import datetime as dt\n",
        "data['earliest_cr_line_year'] = data['earliest_cr_line'].dt.year"
      ]
    },
    {
      "cell_type": "markdown",
      "metadata": {
        "_cell_guid": "0e861505-2f9a-4f68-a0c6-439dfd3939cf"
      },
      "source": [
        "### 6. Making faceted graphs using Seaborn\n",
        "\n",
        "Now I'll show you how you can build on the above data frame summaries as well as make some facet graphs."
      ]
    },
    {
      "cell_type": "code",
      "execution_count": null,
      "metadata": {
        "_cell_guid": "353b0c50-ab5e-4ddb-9670-519d8dd1fe3b"
      },
      "outputs": [],
      "source": [
        "import seaborn as sns\n",
        "import matplotlib.pyplot as plt\n",
        "\n",
        "s = pd.value_counts(data['earliest_cr_line']).to_frame().reset_index()\n",
        "s.columns = ['date', 'count']\n",
        "\n",
        "s['year'] = s['date'].dt.year\n",
        "s['month'] = s['date'].dt.month\n",
        "\n",
        "d = s[s['year'] > 2008]\n",
        "\n",
        "plt.rcParams.update(plt.rcParamsDefault)\n",
        "sns.set_style(\"whitegrid\")\n",
        "\n",
        "g = sns.FacetGrid(d, col=\"year\")\n",
        "g = g.map(sns.pointplot, \"month\", \"count\")\n",
        "g.set(xlabel = 'Month', ylabel = '')\n",
        "axes = plt.gca()\n",
        "_ = axes.set_ylim([0, d.year.max()])\n",
        "plt.tight_layout()"
      ]
    },
    {
      "cell_type": "markdown",
      "metadata": {
        "_cell_guid": "99066e86-465d-4984-84dd-270195789d49"
      },
      "source": [
        "Now I want to show you how to easily drop columns that match a given pattern. Let's drop any column that includes \"mths\" in it."
      ]
    },
    {
      "cell_type": "code",
      "execution_count": null,
      "metadata": {
        "_cell_guid": "1b07256c-9af4-465d-a85f-5d3c6332e6f6"
      },
      "outputs": [],
      "source": [
        "mths = [s for s in data.columns.values if \"mths\" in s]\n",
        "mths\n",
        "\n",
        "data.drop(mths, axis=1, inplace=True)"
      ]
    },
    {
      "cell_type": "markdown",
      "metadata": {
        "_cell_guid": "94f98701-9d75-4f9f-9175-a44b0c75d571"
      },
      "source": [
        "### 7. Using groupby to create summary graphs"
      ]
    },
    {
      "cell_type": "code",
      "execution_count": null,
      "metadata": {
        "_cell_guid": "f16e35a1-beb1-45cf-a09a-d3d7cdeae58c"
      },
      "outputs": [],
      "source": [
        "group = data.groupby('grade').agg([np.mean])\n",
        "loan_amt_mean = group['loan_amnt'].reset_index()\n",
        "\n",
        "import seaborn as sns\n",
        "import matplotlib\n",
        "\n",
        "plt.style.use('fivethirtyeight')\n",
        "\n",
        "sns.set_style(\"whitegrid\")\n",
        "ax = sns.barplot(y = \"mean\", x = 'grade', data=loan_amt_mean)\n",
        "ax.set(xlabel = '', ylabel = '', title = 'Average amount loaned, by loan grade')\n",
        "ax.get_yaxis().set_major_formatter(\n",
        "matplotlib.ticker.FuncFormatter(lambda x, p: format(int(x), ',')))\n",
        "_ = ax.set_xticklabels(ax.get_xticklabels(), rotation=0)"
      ]
    },
    {
      "cell_type": "markdown",
      "metadata": {
        "_cell_guid": "bf4b06cc-9dd5-4778-8515-41ecf2bbd1c9"
      },
      "source": [
        "### 8. More advanced groupby statements visualised with faceted graphs"
      ]
    },
    {
      "cell_type": "code",
      "execution_count": null,
      "metadata": {
        "_cell_guid": "8c85cb1f-ef1b-4294-8f2c-6d6434978920"
      },
      "outputs": [],
      "source": [
        "filtered  = data[data['earliest_cr_line_year'] > 2008]\n",
        "group = filtered.groupby(['grade', 'earliest_cr_line_year']).agg([np.mean])\n",
        "\n",
        "graph_df = group['int_rate'].reset_index()\n",
        "\n",
        "import seaborn as sns\n",
        "import matplotlib\n",
        "\n",
        "plt.style.use('fivethirtyeight')\n",
        "plt.suptitle('bold figure suptitle', fontsize=14, fontweight='bold')\n",
        "\n",
        "sns.set_style(\"whitegrid\")\n",
        "g = sns.FacetGrid(graph_df, col=\"grade\", col_wrap = 2)\n",
        "g = g.map(sns.pointplot, \"earliest_cr_line_year\", \"mean\")\n",
        "g.set(xlabel = 'Year', ylabel = '')\n",
        "axes = plt.gca()\n",
        "axes.set_ylim([0, graph_df['mean'].max()])\n",
        "_ = plt.tight_layout()"
      ]
    },
    {
      "cell_type": "markdown",
      "metadata": {
        "_cell_guid": "e844474d-dc04-4033-99bc-de7658e8277a"
      },
      "source": [
        "### 9. Treatment of missing values\n",
        "This section is a toughie because there really is no correct answer. A pure data science/mining approach would test each of the approaches here using a CV split and include the most accurate treatment in their modelling pipeline.\n",
        "Here I have included the code for the following treatments:\n",
        "\n",
        "- Mean imputation\n",
        "- Median imputation\n",
        "- Algorithmic imputation\n",
        "\n",
        "I spent a large amount of time looking at 3. because I couldn't find anyone else who has implemented it, so I built it myself. In R it's very easy to use supervised learning techniques to impute missing values for a given variable (as shown here: https://www.kaggle.com/mrisdal/shelter-animal-outcomes/quick-dirty-randomforest) but sadly I couldn't find it done in Python."
      ]
    },
    {
      "cell_type": "code",
      "execution_count": null,
      "metadata": {
        "_cell_guid": "d3ec99f8-d689-47bd-91f0-d559551faaac"
      },
      "outputs": [],
      "source": [
        "#data['emp_length'].fillna(data['emp_length'].mean())\n",
        "#data['emp_length'].fillna(data['emp_length'].median())\n",
        "#data['emp_length'].fillna(data['earliest_cr_line_year'].median())\n",
        "\n",
        "from sklearn.ensemble import RandomForestClassifier\n",
        "rf =  RandomForestClassifier(max_depth=5, n_estimators=100, max_features=1)\n",
        "\n",
        "data['emp_length'].replace(to_replace=0, value=np.nan, inplace=True, regex=True)\n",
        "\n",
        "cat_variables = ['term', 'purpose', 'grade']\n",
        "columns = ['loan_amnt', 'funded_amnt', 'funded_amnt_inv', 'int_rate', 'grade', 'purpose', 'term']\n",
        "\n",
        "def impute_missing_algo(df, target, cat_vars, cols, algo):\n",
        "\n",
        "    y = pd.DataFrame(df[target])\n",
        "    X = df[cols].copy()\n",
        "    X.drop(cat_vars, axis=1, inplace=True)\n",
        "\n",
        "    cat_vars = pd.get_dummies(df[cat_vars])\n",
        "\n",
        "    X = pd.concat([X, cat_vars], axis = 1)\n",
        "\n",
        "    y['null'] = y[target].isnull()\n",
        "    y['null'] = y.loc[:, target].isnull()\n",
        "    X['null'] = y[target].isnull()\n",
        "\n",
        "    y_missing = y[y['null'] == True]\n",
        "    y_notmissing = y[y['null'] == False]\n",
        "    X_missing = X[X['null'] == True]\n",
        "    X_notmissing = X[X['null'] == False]\n",
        "\n",
        "    y_missing.loc[:, target] = ''\n",
        "\n",
        "    dfs = [y_missing, y_notmissing, X_missing, X_notmissing]\n",
        "    \n",
        "    for df in dfs:\n",
        "        df.drop('null', inplace = True, axis = 1)\n",
        "\n",
        "    y_missing = y_missing.values.ravel(order='C')\n",
        "    y_notmissing = y_notmissing.values.ravel(order='C')\n",
        "    X_missing = X_missing.as_matrix()\n",
        "    X_notmissing = X_notmissing.as_matrix()\n",
        "    \n",
        "    algo.fit(X_notmissing, y_notmissing)\n",
        "    y_missing = algo.predict(X_missing)\n",
        "\n",
        "    y.loc[(y['null'] == True), target] = y_missing\n",
        "    y.loc[(y['null'] == False), target] = y_notmissing\n",
        "    \n",
        "    return(y[target])\n",
        "\n",
        "data['emp_length'] = impute_missing_algo(data, 'emp_length', cat_variables, columns, rf)\n",
        "data['earliest_cr_line_year'] = impute_missing_algo(data, 'earliest_cr_line_year', cat_variables, columns, rf)"
      ]
    },
    {
      "cell_type": "markdown",
      "metadata": {
        "_cell_guid": "664f4503-1fc0-472a-a293-77a7744d672d"
      },
      "source": [
        "### 10. Running a simple classification model\n",
        "Here I take my cleaned variables (missing values have been imputed using random forests) and run a simple sklearn algo to classify the term of the loan.\n",
        "This step in the analytics pipeline does take longer in Python than in R (as R handles factor variables out of the box while sklearn only accepts numeric features) but it isn't that hard.\n",
        "This is just indicative though! A number of the variables are likely to introduce leakage to the prediction problem as they'll influence the term of the loan either directly or indirectly."
      ]
    },
    {
      "cell_type": "code",
      "execution_count": null,
      "metadata": {
        "_cell_guid": "99a9ded8-23da-4305-b1d9-70aa91abbc78"
      },
      "outputs": [],
      "source": [
        "y = data.term\n",
        "\n",
        "cols = ['loan_amnt', 'funded_amnt', 'funded_amnt_inv', 'int_rate', 'grade', 'emp_length', 'purpose', 'earliest_cr_line_year']\n",
        "X = pd.get_dummies(data[cols])\n",
        "\n",
        "from sklearn import preprocessing\n",
        "\n",
        "y = y.apply(lambda x: x.lstrip())\n",
        "\n",
        "le = preprocessing.LabelEncoder()\n",
        "le.fit(y)\n",
        "\n",
        "y = le.transform(y)\n",
        "X = X.as_matrix()\n",
        "\n",
        "from sklearn import linear_model\n",
        "\n",
        "logistic = linear_model.LogisticRegression()\n",
        "\n",
        "logistic.fit(X, y)"
      ]
    },
    {
      "cell_type": "markdown",
      "metadata": {
        "_cell_guid": "92f5f799-7243-483c-ac6c-2ceef0fd86ec"
      },
      "source": [
        "### 11. Pipelining in sklearn\n",
        "\n",
        "In this section I'll go through how you can combine multiple techniques (supervised an unsupervised) in a pipeline.\n",
        "These can be useful for a number of reasons:\n",
        "\n",
        "- You can score the output of the whole pipeline\n",
        "- You can gridsearch for the whole pipeline making finding optimal parameters easier\n",
        "\n",
        "So next we'll combine some a PCA (unsupervised) and Random Forests (supervised) to create a pipeline for modelling the data. \n",
        "\n",
        "In addition to this I'll show you an easy way to grid search for the optimal hyper parameters."
      ]
    },
    {
      "cell_type": "code",
      "execution_count": null,
      "metadata": {
        "_cell_guid": "3bdeb821-f978-4f19-9f4b-b2d2a7e72cf1"
      },
      "outputs": [],
      "source": [
        "from sklearn import linear_model, decomposition\n",
        "from sklearn.ensemble import RandomForestClassifier\n",
        "from sklearn.pipeline import Pipeline\n",
        "from sklearn.grid_search import GridSearchCV\n",
        "\n",
        "rf = RandomForestClassifier(max_depth=5, max_features=1)\n",
        "\n",
        "pca = decomposition.PCA()\n",
        "pipe = Pipeline(steps=[('pca', pca), ('rf', rf)])\n",
        "\n",
        "n_comp = [3, 5]\n",
        "n_est = [10, 20]\n",
        "\n",
        "estimator = GridSearchCV(pipe,\n",
        "                         dict(pca__n_components=n_comp,\n",
        "                              rf__n_estimators=n_est))\n",
        "\n",
        "estimator.fit(X, y)"
      ]
    }
  ],
  "metadata": {
    "_change_revision": 0,
    "_is_fork": false,
    "kernelspec": {
      "display_name": "Python 3",
      "language": "python",
      "name": "python3"
    },
    "language_info": {
      "codemirror_mode": {
        "name": "ipython",
        "version": 3
      },
      "file_extension": ".py",
      "mimetype": "text/x-python",
      "name": "python",
      "nbconvert_exporter": "python",
      "pygments_lexer": "ipython3",
      "version": "3.5.2"
    }
  },
  "nbformat": 4,
  "nbformat_minor": 0
}