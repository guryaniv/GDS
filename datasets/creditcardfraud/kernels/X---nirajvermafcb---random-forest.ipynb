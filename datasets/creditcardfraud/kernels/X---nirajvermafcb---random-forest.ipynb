{
  "metadata": {
    "kernelspec": {
      "name": "python"
    },
    "language_info": {
      "name": "python",
      "version": "3.5.1"
    }
  },
  "nbformat": 4,
  "nbformat_minor": 0,
  "cells": [
    {
      "cell_type": "markdown",
      "metadata": {
        "_cell_guid": "dba42af7-7281-1599-dcdf-ffd690f7ac67",
        "_active": false
      },
      "source": null,
      "execution_count": null,
      "outputs": [],
      "execution_state": "idle"
    },
    {
      "cell_type": "code",
      "execution_count": null,
      "metadata": {
        "_cell_guid": "2b4c9fbc-3820-ab4a-3284-63a956f123d8",
        "_active": false
      },
      "outputs": [],
      "source": "# This Python 3 environment comes with many helpful analytics libraries installed\n# It is defined by the kaggle/python docker image: https://github.com/kaggle/docker-python\n# For example, here's several helpful packages to load in \n\n# Input data files are available in the \"../input/\" directory.\n# For example, running this (by clicking run or pressing Shift+Enter) will list the files in the input directory\n\n# Any results you write to the current directory",
      "execution_state": "idle"
    },
    {
      "cell_type": "markdown",
      "metadata": {
        "_cell_guid": "5b48ad47-87fc-f4e7-8ddf-6dd4540b9769",
        "_active": false
      },
      "source": null,
      "execution_count": null,
      "outputs": [],
      "execution_state": "idle"
    },
    {
      "cell_type": "code",
      "execution_count": null,
      "metadata": {
        "_cell_guid": "6d7c144f-f60b-9f84-0280-95e658237b82",
        "_active": false
      },
      "outputs": [],
      "source": "import numpy as np # linear algebra\nimport pandas as pd # data processing, CSV file I/O (e.g. pd.read_csv)\nimport seaborn as sns\nimport matplotlib.pyplot as plt\n\n%matplotlib inline",
      "execution_state": "idle"
    },
    {
      "cell_type": "code",
      "execution_count": null,
      "metadata": {
        "_cell_guid": "378bdaf0-761d-d3db-00ea-a3e577532a72",
        "_active": false
      },
      "outputs": [],
      "source": "# Reading the given csv file",
      "execution_state": "idle"
    },
    {
      "cell_type": "code",
      "execution_count": null,
      "metadata": {
        "_cell_guid": "61327562-7bbd-179b-9f54-0db7aecfc38e",
        "_active": false
      },
      "outputs": [],
      "source": "data = pd.read_csv('../input/creditcard.csv')\nprint(data.head())",
      "execution_state": "idle"
    },
    {
      "cell_type": "markdown",
      "metadata": {
        "_cell_guid": "3a3205a7-58de-d291-4686-97d3378cc1e1",
        "_active": false
      },
      "source": null,
      "execution_count": null,
      "outputs": [],
      "execution_state": "idle"
    },
    {
      "cell_type": "code",
      "execution_count": null,
      "metadata": {
        "_cell_guid": "2ad18f78-a07c-cb8b-7b47-92cb94a89e68",
        "_active": false
      },
      "outputs": [],
      "source": "# Checking whether the dataset has any null values",
      "execution_state": "idle"
    },
    {
      "cell_type": "code",
      "execution_count": null,
      "metadata": {
        "_cell_guid": "5b02f1c6-6ead-7b62-461a-20bb36bafae0",
        "_active": false
      },
      "outputs": [],
      "source": "data.isnull().sum()",
      "execution_state": "idle"
    },
    {
      "cell_type": "code",
      "execution_count": null,
      "metadata": {
        "_cell_guid": "461f8a31-f403-412f-86e5-3fd911a4203f",
        "_active": false
      },
      "outputs": [],
      "source": "data.shape",
      "execution_state": "idle"
    },
    {
      "cell_type": "code",
      "execution_count": null,
      "metadata": {
        "_cell_guid": "cc53bd49-6ac8-da5c-7fa0-1ee32f069464",
        "_active": false
      },
      "outputs": [],
      "source": "data.describe()",
      "execution_state": "idle"
    },
    {
      "cell_type": "code",
      "execution_count": null,
      "metadata": {
        "_cell_guid": "08afaa65-b325-59ef-81b3-38ca85406cf3",
        "_active": false
      },
      "outputs": [],
      "source": "data['Time']",
      "execution_state": "idle"
    },
    {
      "cell_type": "markdown",
      "metadata": {
        "_cell_guid": "3ddbce9a-a13d-1fea-4f03-d36e09303f56",
        "_active": false
      },
      "source": null,
      "execution_count": null,
      "outputs": [],
      "execution_state": "idle"
    },
    {
      "cell_type": "code",
      "execution_count": null,
      "metadata": {
        "_cell_guid": "144b6fdb-81f8-ee7f-4bee-67edf4b609e3",
        "_active": false
      },
      "outputs": [],
      "source": "# Dropping the **Time** and **Amount** column",
      "execution_state": "idle"
    },
    {
      "cell_type": "code",
      "execution_count": null,
      "metadata": {
        "_cell_guid": "1acf62aa-1fa7-27d6-82cd-08068753c5f1",
        "_active": false
      },
      "outputs": [],
      "source": "data.drop(['Time'], axis=1, inplace=True)\ndata.drop(['Amount'], axis=1, inplace=True)",
      "execution_state": "idle"
    },
    {
      "cell_type": "code",
      "execution_count": null,
      "metadata": {
        "_cell_guid": "630c5480-8fb0-c4e2-f1f2-1045ac9f08f5",
        "_active": false
      },
      "outputs": [],
      "source": "data.head()",
      "execution_state": "idle"
    },
    {
      "cell_type": "code",
      "execution_count": null,
      "metadata": {
        "_cell_guid": "9876d1d6-bd9e-41b4-768e-560746d861d8",
        "_active": false
      },
      "outputs": [],
      "source": "print(data.groupby('Class').size())",
      "execution_state": "idle"
    },
    {
      "cell_type": "markdown",
      "metadata": {
        "_cell_guid": "1d283ecd-cb1e-4bd6-adfc-9fdbf0c1537c",
        "_active": false
      },
      "source": null,
      "execution_count": null,
      "outputs": [],
      "execution_state": "idle"
    },
    {
      "cell_type": "code",
      "execution_count": null,
      "metadata": {
        "_cell_guid": "faed2b69-952b-2e5d-294c-03c057986de6",
        "_active": false
      },
      "outputs": [],
      "source": "data.dtypes",
      "execution_state": "idle"
    },
    {
      "cell_type": "code",
      "execution_count": null,
      "metadata": {
        "_cell_guid": "136fa0be-cfb7-399d-5dbb-bd888ea54e6e",
        "_active": false
      },
      "outputs": [],
      "source": "from sklearn.utils import shuffle\ndata=shuffle(data)",
      "execution_state": "idle"
    },
    {
      "cell_type": "code",
      "execution_count": null,
      "metadata": {
        "_cell_guid": "451a7513-77f8-f0ca-6561-d3a99abc58f5",
        "_active": false
      },
      "outputs": [],
      "source": "data.head()",
      "execution_state": "idle"
    },
    {
      "cell_type": "code",
      "execution_count": null,
      "metadata": {
        "_cell_guid": "21f1158a-f685-cab6-a861-1a8aa60f8461",
        "_active": false
      },
      "outputs": [],
      "source": "data1= data.iloc[:,0:4]\ndata1.head()",
      "execution_state": "idle"
    },
    {
      "cell_type": "code",
      "execution_count": null,
      "metadata": {
        "_cell_guid": "09e80a0a-a474-4f18-5630-99f7c9fab520",
        "_active": false
      },
      "outputs": [],
      "source": "plt.figure(figsize=(20,10))\ndata1.plot(kind='box', subplots=True, layout=(2,2), sharex=False, sharey=False)",
      "execution_state": "idle"
    },
    {
      "cell_type": "code",
      "execution_count": null,
      "metadata": {
        "_cell_guid": "7b75584c-f2a3-01b9-a868-531b048763c5",
        "_active": false
      },
      "outputs": [],
      "source": "data2= data.iloc[:,4:8]\ndata2.head()",
      "execution_state": "idle"
    },
    {
      "cell_type": "code",
      "execution_count": null,
      "metadata": {
        "_cell_guid": "1a544c60-15bf-32b2-87a1-5125dee98578",
        "_active": false
      },
      "outputs": [],
      "source": "plt.figure(figsize=(20,10))\ndata2.plot(kind='box', subplots=True, layout=(2,2), sharex=False, sharey=False)",
      "execution_state": "idle"
    },
    {
      "cell_type": "code",
      "execution_count": null,
      "metadata": {
        "_cell_guid": "f68ef223-8f8e-2f24-d728-2cfb79b65637",
        "_active": false
      },
      "outputs": [],
      "source": "data3= data.iloc[:,8:12]\ndata3.head()",
      "execution_state": "idle"
    },
    {
      "cell_type": "code",
      "execution_count": null,
      "metadata": {
        "_cell_guid": "b2e0849a-0ec3-4edf-9ea6-943557e69db9",
        "_active": false
      },
      "outputs": [],
      "source": "plt.figure(figsize=(20,10))\ndata3.plot(kind='box', subplots=True, layout=(2,2), sharex=False, sharey=False)",
      "execution_state": "idle"
    },
    {
      "cell_type": "code",
      "execution_count": null,
      "metadata": {
        "_cell_guid": "8fd470ec-0c7c-33dc-ff04-97b12e980ffc",
        "_active": false
      },
      "outputs": [],
      "source": "data4= data.iloc[:,12:16]\ndata4.head()",
      "execution_state": "idle"
    },
    {
      "cell_type": "code",
      "execution_count": null,
      "metadata": {
        "_cell_guid": "7e56683b-614f-4126-ec31-d0438a9e039c",
        "_active": false
      },
      "outputs": [],
      "source": "plt.figure(figsize=(20,10))\ndata4.plot(kind='box', subplots=True, layout=(2,2), sharex=False, sharey=False)",
      "execution_state": "idle"
    },
    {
      "cell_type": "code",
      "execution_count": null,
      "metadata": {
        "_cell_guid": "e318a96f-867f-1e80-4879-34bef841bda5",
        "_active": false
      },
      "outputs": [],
      "source": "data5= data.iloc[:,16:20]\ndata5.head()",
      "execution_state": "idle"
    },
    {
      "cell_type": "code",
      "execution_count": null,
      "metadata": {
        "_cell_guid": "713c1533-c488-570e-0e81-d5ec197061bd",
        "_active": false
      },
      "outputs": [],
      "source": "plt.figure(figsize=(20,10))\ndata5.plot(kind='box', subplots=True, layout=(2,2), sharex=False, sharey=False)",
      "execution_state": "idle"
    },
    {
      "cell_type": "code",
      "execution_count": null,
      "metadata": {
        "_cell_guid": "204abaf7-3ac5-beaa-5408-a665dae1d2c5",
        "_active": false
      },
      "outputs": [],
      "source": "data6= data.iloc[:,20:24]\ndata6.head()",
      "execution_state": "idle"
    },
    {
      "cell_type": "code",
      "execution_count": null,
      "metadata": {
        "_cell_guid": "08b784b0-7cf4-4a0d-c037-0b651ae8a7ab",
        "_active": false
      },
      "outputs": [],
      "source": "plt.figure(figsize=(20,10))\ndata6.plot(kind='box', subplots=True, layout=(2,2), sharex=False, sharey=False)",
      "execution_state": "idle"
    },
    {
      "cell_type": "code",
      "execution_count": null,
      "metadata": {
        "_cell_guid": "81f89c48-9000-1595-a236-58615f4d7be2",
        "_active": false
      },
      "outputs": [],
      "source": "data7= data.iloc[:,24:28]\ndata7.head()",
      "execution_state": "idle"
    },
    {
      "cell_type": "code",
      "execution_count": null,
      "metadata": {
        "_cell_guid": "869232a7-9358-af2e-9322-a4fe4e6423d6",
        "_active": false
      },
      "outputs": [],
      "source": "plt.figure(figsize=(20,10))\ndata7.plot(kind='box', subplots=True, layout=(2,2), sharex=False, sharey=False)",
      "execution_state": "idle"
    },
    {
      "cell_type": "markdown",
      "metadata": {
        "_cell_guid": "fc33aa83-1807-01df-1d37-98fe4675540f",
        "_active": false
      },
      "source": null,
      "execution_count": null,
      "outputs": [],
      "execution_state": "idle"
    },
    {
      "cell_type": "code",
      "execution_count": null,
      "metadata": {
        "_cell_guid": "868171b7-f9c8-7ba3-fa9a-5203065dd0ea",
        "_active": false
      },
      "outputs": [],
      "source": "X=data.iloc[:,1:28]\nX.head()\ny=data.iloc[:,-1]\ny.head()",
      "execution_state": "idle"
    },
    {
      "cell_type": "markdown",
      "metadata": {
        "_cell_guid": "9d05683e-abf2-20ab-eee5-adc8ec04ae83",
        "_active": false
      },
      "source": null,
      "execution_count": null,
      "outputs": [],
      "execution_state": "idle"
    },
    {
      "cell_type": "code",
      "execution_count": null,
      "metadata": {
        "_cell_guid": "e502cac4-62dc-4507-196a-e20932e780fa",
        "_active": false
      },
      "outputs": [],
      "source": "# Scale the data to be between -1 and 1\nfrom sklearn.preprocessing import StandardScaler\nscaler = StandardScaler()\nX=scaler.fit_transform(X)\nX",
      "execution_state": "idle"
    },
    {
      "cell_type": "code",
      "execution_count": null,
      "metadata": {
        "_cell_guid": "f8e1f87a-816e-98c9-5c31-86fa1149741b",
        "_active": false
      },
      "outputs": [],
      "source": "#Converting the strings into binary values",
      "execution_state": "idle"
    },
    {
      "cell_type": "code",
      "execution_count": null,
      "metadata": {
        "_cell_guid": "e9fdf523-8135-6e84-fc9f-452a877ca38d",
        "_active": false
      },
      "outputs": [],
      "source": "# Encode label category\n# Fraud -> 1\n# Nota fraud -> 0\n\n\n\nfrom sklearn.preprocessing import LabelEncoder\nfraud_encoder = LabelEncoder()\ny = fraud_encoder.fit_transform(y)\ny",
      "execution_state": "idle"
    },
    {
      "cell_type": "markdown",
      "metadata": {
        "_cell_guid": "beab9a14-3a9c-61b6-59da-88a6440f5a55",
        "_active": false
      },
      "source": null,
      "execution_count": null,
      "outputs": [],
      "execution_state": "idle"
    },
    {
      "cell_type": "code",
      "execution_count": null,
      "metadata": {
        "_cell_guid": "97bfefa3-8939-58f9-cc2c-ccb1ef6963a2",
        "_active": false
      },
      "outputs": [],
      "source": "from sklearn.model_selection import train_test_split\nX_train, X_test, y_train, y_test = train_test_split(X,y,test_size=0.2,random_state=4)",
      "execution_state": "idle"
    },
    {
      "cell_type": "code",
      "execution_count": null,
      "metadata": {
        "_cell_guid": "6c86d930-313d-7f6c-83a1-863e69bb7f95",
        "_active": false
      },
      "outputs": [],
      "source": "# Initiating the model with default parameters. Then for tuning hyperprameters we are using GridsearchCV.",
      "execution_state": "idle"
    },
    {
      "cell_type": "code",
      "execution_count": null,
      "metadata": {
        "_cell_guid": "f093d30a-e86f-d12d-24f5-93b720b23fb4",
        "_active": true
      },
      "outputs": [],
      "source": "from sklearn.ensemble import RandomForestClassifier\nfrom sklearn.cross_validation import cross_val_score\nfrom sklearn import metrics\n\nmodel_RR=RandomForestClassifier()\n\ntuned_parameters = {'min_samples_leaf': range(5,10,5), 'n_estimators' : range(50,200,50),\n                    'max_depth': range(5,15,5), 'max_features':range(5,20,5)\n                    }\n                   ",
      "execution_state": "idle"
    },
    {
      "cell_type": "markdown",
      "metadata": {
        "_cell_guid": "64bb99d2-2408-5a8b-d626-bf780f216693",
        "_active": false
      },
      "source": "The grid search provided by GridSearchCV exhaustively generates candidates from a grid of parameter values specified with the tuned_parameter**.The GridSearchCV instance implements the usual estimator API: when �fitting� it on a dataset all the possible combinations of parameter values are evaluated and the best combination is retained.But it is computationaaly expensive in this case.Thus I am using RandomisedSearchCV.",
      "execution_count": null,
      "outputs": [],
      "execution_state": "idle"
    },
    {
      "cell_type": "code",
      "execution_count": null,
      "metadata": {
        "_cell_guid": "b206a4e6-5fa8-701a-f05a-6ec333d5b79e",
        "_active": false
      },
      "outputs": [],
      "source": "model_RR.get_params().keys()",
      "execution_state": "idle"
    },
    {
      "cell_type": "code",
      "execution_count": null,
      "metadata": {
        "_cell_guid": "19b32074-90f4-5e01-22a7-df9fb0265108",
        "_active": false
      },
      "outputs": [],
      "source": "from sklearn.grid_search import RandomizedSearchCV\n\nmodel= RandomizedSearchCV(model_RR, tuned_parameters,cv=10,scoring='accuracy',n_iter=5)",
      "execution_state": "idle"
    },
    {
      "cell_type": "code",
      "execution_count": null,
      "metadata": {
        "_cell_guid": "9ed73ccc-2a7f-7a72-9813-0ca9924755b3",
        "_active": false
      },
      "outputs": [],
      "source": "model.fit(X_train,y_train)",
      "execution_state": "idle"
    },
    {
      "cell_type": "code",
      "execution_count": null,
      "metadata": {
        "_cell_guid": "87b6bdec-7583-7277-fd07-9b8d903b2de8",
        "_active": false
      },
      "outputs": [],
      "source": "print(model_svm.grid_scores_)",
      "execution_state": "idle"
    },
    {
      "cell_type": "code",
      "execution_count": null,
      "metadata": {
        "_cell_guid": "b813d86b-53dc-7b90-d6dc-0d7298d145f9",
        "_active": false
      },
      "outputs": [],
      "source": "print(model_svm.best_score_)",
      "execution_state": "idle"
    },
    {
      "cell_type": "code",
      "execution_count": null,
      "metadata": {
        "_cell_guid": "964ca58a-bce7-1512-d3d9-db950134fe6e",
        "_active": false
      },
      "outputs": [],
      "source": "print(model_svm.best_params_)",
      "execution_state": "idle"
    },
    {
      "cell_type": "code",
      "execution_count": null,
      "metadata": {
        "_cell_guid": "9f32ea07-df80-b8e3-51ae-47ee7c973a77",
        "_active": false
      },
      "outputs": [],
      "source": "y_pred = model.predict(X_test)\nmodel.score(X_test,y_pred)",
      "execution_state": "idle"
    },
    {
      "cell_type": "code",
      "execution_count": null,
      "metadata": {
        "_cell_guid": "88ed18d1-c9e3-6661-8da7-87e8c4cab430",
        "_active": false
      },
      "outputs": [],
      "source": "confusion_matrix=metrics.confusion_matrix(y_test,y_pred)\nconfusion_matrix",
      "execution_state": "idle"
    },
    {
      "cell_type": "code",
      "execution_count": null,
      "metadata": {
        "_cell_guid": "de0209c7-6fcd-5408-1a9e-073e0750d85a",
        "_active": false
      },
      "outputs": [],
      "source": "sns.heatmap(confusion_matrix,linewidths=.5,annot=True,vmin=0.01,cmap='PuBuGn')",
      "execution_state": "idle"
    },
    {
      "cell_type": "code",
      "execution_count": null,
      "metadata": {
        "_cell_guid": "83064d15-f764-9613-caa0-6a8031c05f16",
        "_active": false
      },
      "outputs": [],
      "source": "auc_roc=metrics.classification_report(y_test,y_pred)\nauc_roc",
      "execution_state": "idle"
    },
    {
      "cell_type": "code",
      "execution_count": null,
      "metadata": {
        "_cell_guid": "c22bde7f-3908-6263-f01d-a3e69d40cd76",
        "_active": false
      },
      "outputs": [],
      "source": "auc_roc=metrics.roc_auc_score(y_test,y_pred)\nauc_roc",
      "execution_state": "idle"
    },
    {
      "cell_type": "code",
      "execution_count": null,
      "metadata": {
        "_cell_guid": "00c074d6-c061-a8f6-3727-b0acb6a98372",
        "_active": false
      },
      "outputs": [],
      "source": "TN=confusion_matrix[0][0]\nFN=confusion_matrix[1][0]\nTP=confusion_matrix[1][1]\nFP=confusion_matrix[0][1]\nTN,FN,TP,FP",
      "execution_state": "idle"
    },
    {
      "cell_type": "code",
      "execution_count": null,
      "metadata": {
        "_cell_guid": "e6fe1434-5497-cb90-b5ff-a044f9c3098f",
        "_active": false
      },
      "outputs": [],
      "source": "TPR=(TP/(TP+FN))\nTPR",
      "execution_state": "idle"
    },
    {
      "cell_type": "code",
      "execution_count": null,
      "metadata": {
        "_cell_guid": "22efb08d-8bdc-137e-6207-8614dc95508f",
        "_active": false
      },
      "outputs": [],
      "source": "FPR=(FP/(FP+TN))\nFPR",
      "execution_state": "idle"
    },
    {
      "cell_type": "code",
      "execution_count": null,
      "metadata": {
        "_cell_guid": "6efd4316-b859-2e88-fdcc-28b6dfe80f8f",
        "_active": false
      },
      "outputs": [],
      "source": "from sklearn.metrics import roc_curve, auc\nfalse_positive_rate, true_positive_rate, thresholds = roc_curve(y_test, y_pred)\nroc_auc = auc(false_positive_rate, true_positive_rate)",
      "execution_state": "idle"
    },
    {
      "cell_type": "code",
      "execution_count": null,
      "metadata": {
        "_cell_guid": "872fd01d-a88b-5471-e385-6d73641437bb",
        "_active": false
      },
      "outputs": [],
      "source": "import matplotlib.pyplot as plt\nplt.figure(figsize=(10,10))\nplt.title('Receiver Operating Characteristic')\nplt.plot(false_positive_rate,true_positive_rate, color='black',label = 'AUC = %0.2f' % roc_auc)\nplt.legend(loc = 'lower right')\nplt.plot([0, 1], [0, 1],linestyle='--')\nplt.axis('tight')\nplt.ylabel('True Positive Rate')\nplt.xlabel('False Positive Rate')",
      "execution_state": "idle"
    }
  ]
}