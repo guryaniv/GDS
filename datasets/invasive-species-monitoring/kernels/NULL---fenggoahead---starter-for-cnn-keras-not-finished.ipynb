{
  "cells": [
    {
      "cell_type": "markdown",
      "metadata": {
        "_cell_guid": "13efbfd9-72f7-54d9-e0c6-c7d46471c021"
      },
      "source": ""
    },
    {
      "cell_type": "code",
      "execution_count": null,
      "metadata": {
        "_cell_guid": "fc1d047b-998b-4840-8593-69d99f5ba81a"
      },
      "outputs": [],
      "source": [
        "# This Python 3 environment comes with many helpful analytics libraries installed\n",
        "# It is defined by the kaggle/python docker image: https://github.com/kaggle/docker-python\n",
        "# For example, here's several helpful packages to load in \n",
        "# -*- coding: utf-8 -*-\n",
        "import numpy as np # linear algebra\n",
        "import pandas as pd # data processing, CSV file I/O (e.g. pd.read_csv)\n",
        "\n",
        "# Input data files are available in the \"../input/\" directory.\n",
        "# For example, running this (by clicking run or pressing Shift+Enter) will list the files in the input directory\n",
        "\n",
        "import numpy as np\n",
        "import pandas as pd\n",
        "import cv2\n",
        "\n",
        "from subprocess import check_output\n",
        "print(check_output([\"ls\", \"../input\"]).decode(\"utf8\"))\n",
        "\n",
        "# Any results you write to the current directory are saved as output.\n",
        "\n"
      ]
    },
    {
      "cell_type": "code",
      "execution_count": null,
      "metadata": {
        "_cell_guid": "1f223a42-240d-3458-c1f1-4fa02632e7bf"
      },
      "outputs": [],
      "source": [
        "master = pd.read_csv(\"../input/train_labels.csv\")\n",
        "master.head()\n",
        "img_path = \"../input/train/\"\n",
        "y = []\n",
        "file_paths = []\n",
        "for i in range(100): \n",
        "    #At firet using only small dataset, finally, change 100 to \"len(master)\"\n",
        "    file_paths.append( img_path + str(master.ix[i][0]) +'.jpg' )\n",
        "    y.append(master.ix[i][1]) #save the path for every img \n",
        "y = np.array(y)\n",
        "image_num_x = 128 #At first resize image to a smaller one.\n",
        "image_num_y = image_num_x*886//1154\n",
        "tile_size=(image_num_x,image_num_y)"
      ]
    },
    {
      "cell_type": "markdown",
      "metadata": {
        "_cell_guid": "e736426f-4944-d5ad-a7f3-66a0aaae88fb"
      },
      "source": [
        "Data proceeding: split randomly"
      ]
    },
    {
      "cell_type": "code",
      "execution_count": null,
      "metadata": {
        "_cell_guid": "fe4b0523-232b-571c-4571-2ff00862b169"
      },
      "outputs": [],
      "source": [
        "x = []\n",
        "for i, file_path in enumerate(file_paths):\n",
        "    img = cv2.imread(file_path)\n",
        "    img = cv2.cvtColor(img, cv2.COLOR_BGR2RGB)\n",
        "    img_resize = cv2.resize(img, dsize=tile_size)\n",
        "    x.append(img_resize)"
      ]
    },
    {
      "cell_type": "code",
      "execution_count": null,
      "metadata": {
        "_cell_guid": "b92f346c-a229-a686-4005-fc780c9ff2d6"
      },
      "outputs": [],
      "source": [
        "x = np.array(x)\n",
        "data_num = len(y)\n",
        "random_index = np.random.permutation(data_num)\n",
        "x_shuffle = []\n",
        "y_shuffle = []\n",
        "for i in range(data_num):\n",
        "    x_shuffle.append(x[random_index[i]])\n",
        "    y_shuffle.append(y[random_index[i]])\n",
        "x = np.array(x_shuffle) \n",
        "y = np.array(y_shuffle)\n",
        "\n",
        "x = (x - np.mean(x))/np.std(x)\n",
        "\n",
        "val_split_num = int(round(0.2*len(y))) # 20% for cross validation\n",
        "x1_train = x[val_split_num:]\n",
        "y1_train = y[val_split_num:]\n",
        "x1_cross = x[:val_split_num]\n",
        "y1_cross = y[:val_split_num]\n",
        "\n",
        "print('x1_train', x1_train.shape)\n",
        "print('y1_train', y1_train.shape)\n",
        "print('x1_cross', x1_cross.shape)\n",
        "print('y1_cross', y1_cross.shape)\n",
        "\n",
        "x1_train = x1_train.astype('float32')\n",
        "x1_cross = x1_cross.astype('float32')"
      ]
    },
    {
      "cell_type": "markdown",
      "metadata": {
        "_cell_guid": "489169c4-4e34-204e-a37d-3280c263635f"
      },
      "source": [
        "Model: CNN; Use Keras Frame"
      ]
    },
    {
      "cell_type": "code",
      "execution_count": null,
      "metadata": {
        "_cell_guid": "cbd43b1b-bc1c-6c35-ee5c-44f904423cfe"
      },
      "outputs": [],
      "source": [
        "# Starting architecture\n",
        "from keras.models import Sequential\n",
        "\n",
        "from keras.layers import Convolution2D, MaxPooling2D, ZeroPadding2D\n",
        "from keras.layers import Flatten, Dense, Dropout\n",
        "from keras.layers import Conv2D, MaxPool2D, BatchNormalization\n",
        "\n",
        "from keras.optimizers import Adam\n",
        "\n",
        "from keras.utils.np_utils import to_categorical # convert to one-hot-encoding\n",
        "\n",
        "\n",
        "\n",
        "from keras.preprocessing.image import ImageDataGenerator\n",
        "from keras.callbacks import LearningRateScheduler"
      ]
    },
    {
      "cell_type": "markdown",
      "metadata": {
        "_cell_guid": "fa0c615f-b13d-7084-95e9-88bf808ca9a5"
      },
      "source": ""
    },
    {
      "cell_type": "code",
      "execution_count": null,
      "metadata": {
        "_cell_guid": "fe481392-565a-f027-aa44-94900c439c5e"
      },
      "outputs": [],
      "source": [
        "model = Sequential()\n",
        "\n",
        "model.add(ZeroPadding2D((1, 1), input_shape=(image_num_y, image_num_x,3)))\n",
        "model.add(Convolution2D(32, 3, 3, activation='relu'))\n",
        "model.add(BatchNormalization())\n",
        "model.add(ZeroPadding2D((1, 1)))\n",
        "model.add(Convolution2D(32, 3, 3, activation='relu'))\n",
        "model.add(BatchNormalization())\n",
        "model.add(MaxPooling2D((2, 2), strides=(2, 2)))\n",
        "model.add(Dropout(0.25))\n",
        "\n",
        "model.add(ZeroPadding2D((1, 1)))\n",
        "model.add(Convolution2D(32, 3, 3, activation='relu'))\n",
        "model.add(BatchNormalization())\n",
        "model.add(ZeroPadding2D((1, 1)))\n",
        "model.add(Convolution2D(32, 3, 3, activation='relu'))\n",
        "model.add(BatchNormalization())\n",
        "model.add(MaxPooling2D((2, 2), strides=(2, 2)))\n",
        "model.add(Dropout(0.25))\n",
        "\n",
        "model.add(ZeroPadding2D((1, 1)))\n",
        "model.add(Convolution2D(64, 3, 3, activation='relu'))\n",
        "model.add(BatchNormalization())\n",
        "model.add(ZeroPadding2D((1, 1)))\n",
        "model.add(Convolution2D(64, 3, 3, activation='relu'))\n",
        "model.add(BatchNormalization())\n",
        "model.add(MaxPooling2D((2, 2), strides=(2, 2)))\n",
        "model.add(Dropout(0.25))\n",
        "\n",
        "model.add(Flatten())\n",
        "\n",
        "model.add(Dense(256, activation='relu'))\n",
        "model.add(Dropout(0.5))\n",
        "model.add(Dense(1, activation='sigmoid'))\n",
        "\n",
        "print(model.summary())"
      ]
    },
    {
      "cell_type": "code",
      "execution_count": null,
      "metadata": {
        "_cell_guid": "e1f9e508-7de5-4e1a-004d-2f1065a9cff2"
      },
      "outputs": [],
      "source": [
        "model.compile(loss='binary_crossentropy', optimizer = Adam(lr=1e-4), metrics=[\"accuracy\"])\n",
        "annealer = LearningRateScheduler(lambda x: 1e-3 * 0.9 ** x)\n",
        "datagen = ImageDataGenerator(zoom_range = 0.1,\n",
        "                            height_shift_range = 0.1,\n",
        "                            width_shift_range = 0.1,\n",
        "                            rotation_range = 10)\n",
        "hist = model.fit_generator(datagen.flow(x1_train, y1_train, batch_size=16),\n",
        "                           steps_per_epoch=20,\n",
        "                           epochs=200, #Increase this when not on Kaggle kernel\n",
        "                           verbose=1,  #1 for ETA, 0 for silent\n",
        "                           validation_data=(x1_cross, y1_cross), #For speed\n",
        "                           callbacks=[annealer])\n",
        "acc = model.evaluate(x1_cross, y1_cross)\n",
        "print('Evaluation accuracy:{0}'.format(round(acc, 4)))"
      ]
    }
  ],
  "metadata": {
    "_change_revision": 0,
    "_is_fork": false,
    "kernelspec": {
      "display_name": "Python 3",
      "language": "python",
      "name": "python3"
    },
    "language_info": {
      "codemirror_mode": {
        "name": "ipython",
        "version": 3
      },
      "file_extension": ".py",
      "mimetype": "text/x-python",
      "name": "python",
      "nbconvert_exporter": "python",
      "pygments_lexer": "ipython3",
      "version": "3.6.0"
    }
  },
  "nbformat": 4,
  "nbformat_minor": 0
}