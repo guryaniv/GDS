{
  "metadata": {
    "kernelspec": {
      "display_name": "Python 3",
      "language": "python",
      "name": "python3"
    },
    "language_info": {
      "codemirror_mode": {
        "name": "ipython",
        "version": 3
      },
      "file_extension": ".py",
      "mimetype": "text/x-python",
      "name": "python",
      "nbconvert_exporter": "python",
      "pygments_lexer": "ipython3",
      "version": "3.6.0"
    }
  },
  "nbformat": 4,
  "nbformat_minor": 0,
  "cells": [
    {
      "cell_type": "code",
      "execution_count": null,
      "metadata": {
        "_cell_guid": "484b4d02-6788-5367-6b89-16e113dc2eeb",
        "_active": false
      },
      "outputs": [],
      "source": "# This Python 3 environment comes with many helpful analytics libraries installed\n# It is defined by the kaggle/python docker image: https://github.com/kaggle/docker-python\n# For example, here's several helpful packages to load in \n\nimport numpy as np # linear algebra\nimport pandas as pd # data processing, CSV file I/O (e.g. pd.read_csv)\n\n# Input data files are available in the \"../input/\" directory.\n# For example, running this (by clicking run or pressing Shift+Enter) will list the files in the input directory\n\nfrom subprocess import check_output\nprint(check_output([\"ls\", \"../input\"]).decode(\"utf8\"))\n\n# Any results you write to the current directory are saved as output.",
      "execution_state": "idle"
    },
    {
      "cell_type": "code",
      "execution_count": null,
      "metadata": {
        "_cell_guid": "c166dcb6-6fd3-96c4-3502-2ee84541ec28",
        "_active": false
      },
      "outputs": [],
      "source": "credit = pd.read_csv('../input/creditcard.csv')\ncredit",
      "execution_state": "idle"
    },
    {
      "cell_type": "code",
      "execution_count": null,
      "metadata": {
        "_cell_guid": "1ae20d4d-79d7-c342-fa0c-8615ed5182ca",
        "_active": false
      },
      "outputs": [],
      "source": "from scipy.stats import norm",
      "execution_state": "idle"
    },
    {
      "cell_type": "code",
      "execution_count": null,
      "metadata": {
        "_cell_guid": "b64c15ca-2cdc-2b60-158b-65e6942288de",
        "_active": false
      },
      "outputs": [],
      "source": "rv = norm.rvs(10)",
      "execution_state": "idle"
    },
    {
      "cell_type": "code",
      "execution_count": null,
      "metadata": {
        "_cell_guid": "f42f4a37-86ea-fe35-83bf-4ff565c25923",
        "_active": false
      },
      "outputs": [],
      "source": "rv",
      "execution_state": "idle"
    },
    {
      "cell_type": "code",
      "execution_count": null,
      "metadata": {
        "_cell_guid": "740ac1bd-33b8-1efc-6d15-bd90b9fda8d0",
        "_active": false
      },
      "outputs": [],
      "source": "rv = norm.rvs(size=5)",
      "execution_state": "idle"
    },
    {
      "cell_type": "code",
      "execution_count": null,
      "metadata": {
        "_cell_guid": "ded6757c-9cdd-d601-5eb0-0fa633f24294",
        "_active": false
      },
      "outputs": [],
      "source": "rv",
      "execution_state": "idle"
    },
    {
      "cell_type": "code",
      "execution_count": null,
      "metadata": {
        "_cell_guid": "ab73b005-a137-e4bc-6705-1ef9974a9792",
        "_active": false
      },
      "outputs": [],
      "source": "x = np.linspace(norm.ppf(0.01),norm.ppf(0.99), 100)\nx",
      "execution_state": "idle"
    },
    {
      "cell_type": "code",
      "execution_count": null,
      "metadata": {
        "_cell_guid": "6c1e1e27-c3c3-f327-6230-5e144fb726d4",
        "_active": false
      },
      "outputs": [],
      "source": "norm.ppf(0)",
      "execution_state": "idle"
    },
    {
      "cell_type": "code",
      "execution_count": null,
      "metadata": {
        "_cell_guid": "48b34d27-5142-8a31-c6f0-7d8f2ce5575e",
        "_active": false
      },
      "outputs": [],
      "source": "norm()",
      "execution_state": "idle"
    },
    {
      "cell_type": "code",
      "execution_count": null,
      "metadata": {
        "_cell_guid": "a09f19b4-f133-02ef-68b4-1ccfe77a9292",
        "_active": false
      },
      "outputs": [],
      "source": "norm.cdf([-1., 0, 1])",
      "execution_state": "idle"
    },
    {
      "cell_type": "code",
      "execution_count": null,
      "metadata": {
        "_cell_guid": "88166f5f-485a-9157-78ea-83640643fa98",
        "_active": false
      },
      "outputs": [],
      "source": "norm.pdf([-1., 0, 1])",
      "execution_state": "idle"
    },
    {
      "cell_type": "code",
      "execution_count": null,
      "metadata": {
        "_cell_guid": "55a8779d-c255-0699-3d51-302c861c1477",
        "_active": false
      },
      "outputs": [],
      "source": "credit.head()",
      "execution_state": "idle"
    },
    {
      "cell_type": "code",
      "execution_count": null,
      "metadata": {
        "_cell_guid": "eb600548-0fd3-4ff5-3ec9-04f4a61b2d41",
        "_active": false
      },
      "outputs": [],
      "source": "import matplotlib.pyplot as plt",
      "execution_state": "idle"
    },
    {
      "cell_type": "code",
      "execution_count": null,
      "metadata": {
        "_cell_guid": "31116b46-4eaa-b3e1-509b-3f9ed4f35146",
        "_active": false
      },
      "outputs": [],
      "source": "credit_val = credit.values",
      "execution_state": "idle"
    },
    {
      "cell_type": "code",
      "execution_count": null,
      "metadata": {
        "_cell_guid": "2bf42092-7766-60f1-4ed7-9f76bfd983a4",
        "_active": false
      },
      "outputs": [],
      "source": "credit_val",
      "execution_state": "idle"
    },
    {
      "cell_type": "code",
      "execution_count": null,
      "metadata": {
        "_cell_guid": "485fb877-dee6-6f94-495c-4a9f91906307",
        "_active": false
      },
      "outputs": [],
      "source": "v1 = credit_val[:,1]",
      "execution_state": "idle"
    },
    {
      "cell_type": "code",
      "execution_count": null,
      "metadata": {
        "_cell_guid": "a9cc4eab-24b9-5f90-e432-91e03603d0d8",
        "_active": false
      },
      "outputs": [],
      "source": "v1",
      "execution_state": "idle"
    },
    {
      "cell_type": "code",
      "execution_count": null,
      "metadata": {
        "_cell_guid": "38e6c86a-fb85-4c60-5c0d-bd8b888f1724",
        "_active": false
      },
      "outputs": [],
      "source": "v1mean = np.mean(v1)",
      "execution_state": "idle"
    },
    {
      "cell_type": "code",
      "execution_count": null,
      "metadata": {
        "_cell_guid": "e9d5fa57-c575-73a9-bb06-1333cf64167f",
        "_active": false
      },
      "outputs": [],
      "source": "v1std = np.std(v1)",
      "execution_state": "idle"
    },
    {
      "cell_type": "code",
      "execution_count": null,
      "metadata": {
        "_cell_guid": "43ff30d4-1293-b203-6836-808b93b3756b",
        "_active": false
      },
      "outputs": [],
      "source": "v1mean",
      "execution_state": "idle"
    },
    {
      "cell_type": "code",
      "execution_count": null,
      "metadata": {
        "_cell_guid": "f976367e-979d-08e1-ae35-f504bb0a710d",
        "_active": false
      },
      "outputs": [],
      "source": "v1std",
      "execution_state": "idle"
    },
    {
      "cell_type": "code",
      "execution_count": null,
      "metadata": {
        "_cell_guid": "4d4ee9b5-17de-dd52-9df5-88ca806374a6",
        "_active": false
      },
      "outputs": [],
      "source": "norm.pdf(v1, loc=v1mean, scale=v1std)",
      "execution_state": "idle"
    },
    {
      "cell_type": "code",
      "execution_count": null,
      "metadata": {
        "_cell_guid": "fe51b3f9-25c4-4deb-bf08-0d003c27cfdd",
        "_active": false
      },
      "outputs": [],
      "source": "v1pdf = norm.pdf(v1, loc=v1mean, scale=v1std)",
      "execution_state": "idle"
    },
    {
      "cell_type": "code",
      "execution_count": null,
      "metadata": {
        "_cell_guid": "b1e60fcb-fc96-c16e-f9d8-90a4f07d14fa",
        "_active": false
      },
      "outputs": [],
      "source": "plt.plot(v1,v1pdf)",
      "execution_state": "idle"
    },
    {
      "cell_type": "code",
      "execution_count": null,
      "metadata": {
        "_cell_guid": "6f76445d-7ee7-a6ad-c75d-0df2326d3fb9",
        "_active": false,
        "collapsed": false
      },
      "outputs": [],
      "source": "plt.hist(v1pdf)",
      "execution_state": "idle"
    },
    {
      "cell_type": "code",
      "execution_count": null,
      "metadata": {
        "_cell_guid": "30a8646b-683d-b209-bb19-c9bd936612fc",
        "_active": false,
        "collapsed": false
      },
      "outputs": [],
      "source": "v1pdflog = norm.logpdf(v1, loc=v1mean, scale=v1std)\nplt.hist(v1pdflog)",
      "execution_state": "idle"
    },
    {
      "metadata": {
        "_cell_guid": "a88dbe6b-ccf6-00d8-7a9b-2fc92694425a",
        "_active": false,
        "collapsed": false
      },
      "source": "plt.hist(v1)",
      "execution_count": null,
      "cell_type": "code",
      "outputs": [],
      "execution_state": "idle"
    },
    {
      "metadata": {
        "_cell_guid": "b045b008-872a-bad1-8a6e-c7688de9d416",
        "_active": false,
        "collapsed": false
      },
      "source": "pl.xlim(0.0, 9.0)\nplt.hist(np.square(v1))",
      "execution_count": null,
      "cell_type": "code",
      "outputs": [],
      "execution_state": "idle"
    },
    {
      "metadata": {
        "_cell_guid": "8c041864-577a-fb25-43d9-afcf43ffbd5f",
        "_active": false,
        "collapsed": false
      },
      "source": "plt.xlim(0.0, 9.0)\nplt.hist(np.square(v1))",
      "execution_count": null,
      "cell_type": "code",
      "outputs": [],
      "execution_state": "idle"
    },
    {
      "metadata": {
        "_cell_guid": "f0540e42-4f94-0d91-3b13-0fcbff9a752e",
        "_active": false,
        "collapsed": false
      },
      "source": "v1",
      "execution_count": null,
      "cell_type": "code",
      "outputs": [],
      "execution_state": "idle"
    },
    {
      "metadata": {
        "_cell_guid": "f0b2543b-6718-edba-68f8-c6d9582c57f3",
        "_active": false,
        "collapsed": false
      },
      "source": "plt.hist((v1))",
      "execution_count": null,
      "cell_type": "code",
      "outputs": [],
      "execution_state": "idle"
    },
    {
      "metadata": {
        "_cell_guid": "eaa3a98b-cebb-1d35-f282-fd4b0892d777",
        "_active": false,
        "collapsed": false
      },
      "source": "plt.hist(np.log(np.square(v1)))",
      "execution_count": null,
      "cell_type": "code",
      "outputs": [],
      "execution_state": "idle"
    },
    {
      "metadata": {
        "_cell_guid": "15526adb-6ce5-d59f-e727-9a90e48c6e98",
        "_active": false,
        "collapsed": false
      },
      "source": "plt.hist(np.cbrt(np.square(v1)))",
      "execution_count": null,
      "cell_type": "code",
      "outputs": [],
      "execution_state": "idle"
    },
    {
      "metadata": {
        "_cell_guid": "164c2576-5194-9ecc-adb4-bf7c051037c5",
        "_active": false,
        "collapsed": false
      },
      "source": "plt.hist(np.log(np.cbrt(np.square(v1))))",
      "execution_count": null,
      "cell_type": "code",
      "outputs": [],
      "execution_state": "idle"
    },
    {
      "metadata": {
        "_cell_guid": "08e2207f-c90a-ac3d-2025-87376e1497bd",
        "_active": false,
        "collapsed": false
      },
      "source": "plt.hist(np.log(np.cbrt(np.power(v1,4))))",
      "execution_count": null,
      "cell_type": "code",
      "outputs": [],
      "execution_state": "idle"
    },
    {
      "metadata": {
        "_cell_guid": "c036b846-9b98-5dce-b6f9-39be04044469",
        "_active": false,
        "collapsed": false
      },
      "source": "np.size(v1)",
      "execution_count": null,
      "cell_type": "code",
      "outputs": [],
      "execution_state": "idle"
    },
    {
      "metadata": {
        "_cell_guid": "b0a4a0f0-ecf9-ce30-8898-7bf4c2112d25",
        "_active": false,
        "collapsed": false
      },
      "source": "onev = np.ones(np.size(v1))",
      "execution_count": null,
      "cell_type": "code",
      "outputs": [],
      "execution_state": "idle"
    },
    {
      "metadata": {
        "_cell_guid": "25ae2444-071a-9e1d-1d10-042a8d27e2e3",
        "_active": false,
        "collapsed": false
      },
      "source": "plt.hist(np.log(np.add((np.cbrt(np.power(v1,2))),onev)))",
      "execution_count": null,
      "cell_type": "code",
      "outputs": [],
      "execution_state": "idle"
    },
    {
      "metadata": {
        "_cell_guid": "46ad0906-f87b-ed5c-65cf-b0e187fd3849",
        "_active": false,
        "collapsed": false
      },
      "source": "plt.hist(np.log(np.add((np.cbrt(np.power(v1,2))),onev)))",
      "execution_count": null,
      "cell_type": "code",
      "outputs": [],
      "execution_state": "idle"
    },
    {
      "metadata": {
        "_cell_guid": "ab25e96b-b22c-cd0e-8316-64632ffa660c",
        "_active": false,
        "collapsed": false
      },
      "source": "plt.hist((v1-v1mean)/v1std)",
      "execution_count": null,
      "cell_type": "code",
      "outputs": [],
      "execution_state": "idle"
    },
    {
      "metadata": {
        "_cell_guid": "9a4fd6a8-32d6-188e-bfc5-bc894dceb506",
        "_active": false,
        "collapsed": false
      },
      "source": "v1nor = (v1-v1mean)/v1std\nplt.hist(v1nor)",
      "execution_count": null,
      "cell_type": "code",
      "outputs": [],
      "execution_state": "idle"
    },
    {
      "metadata": {
        "_cell_guid": "7342da1c-06fb-9f55-286c-79a429c8db87",
        "_active": false,
        "collapsed": false
      },
      "source": "plt.hist(np.log(np.cbrt(np.power(v1nor,4))))",
      "execution_count": null,
      "cell_type": "code",
      "outputs": [],
      "execution_state": "idle"
    },
    {
      "metadata": {
        "_cell_guid": "4ce41e67-29b6-11d0-4a9f-ade28c43922f",
        "_active": false,
        "collapsed": false
      },
      "source": "plt.hist(np.log(np.cbrt(np.power(v1,2))))",
      "execution_count": null,
      "cell_type": "code",
      "outputs": [],
      "execution_state": "idle"
    },
    {
      "metadata": {
        "_cell_guid": "3feeb954-9aa3-1983-4dae-ab97a0d67bb4",
        "_active": false,
        "collapsed": false
      },
      "source": "plt.hist(np.log(np.cbrt(np.power(v1nor,2))))",
      "execution_count": null,
      "cell_type": "code",
      "outputs": [],
      "execution_state": "idle"
    },
    {
      "metadata": {
        "_cell_guid": "cd7c911e-7962-682e-5880-b9ce5924f445",
        "_active": false,
        "collapsed": false
      },
      "source": "np.mean(v1nor)",
      "execution_count": null,
      "cell_type": "code",
      "outputs": [],
      "execution_state": "idle"
    },
    {
      "metadata": {
        "_cell_guid": "e00bed2c-2c10-0997-3763-38663fa8bbe8",
        "_active": false,
        "collapsed": false
      },
      "source": "v1",
      "execution_count": null,
      "cell_type": "code",
      "outputs": [],
      "execution_state": "idle"
    },
    {
      "metadata": {
        "_cell_guid": "978bfe2d-a2c3-eed7-b73e-324192f211f7",
        "_active": false,
        "collapsed": false
      },
      "source": "np.mean(v1)",
      "execution_count": null,
      "cell_type": "code",
      "outputs": [],
      "execution_state": "idle"
    },
    {
      "metadata": {
        "_cell_guid": "17e8fab4-8311-84ee-d7dd-d74f9a5b769c",
        "_active": false,
        "collapsed": false
      },
      "source": "v1nor = ((v1-np.mean(v1))/(np.std(v1)))",
      "execution_count": null,
      "cell_type": "code",
      "outputs": [],
      "execution_state": "idle"
    },
    {
      "metadata": {
        "_cell_guid": "cf0ce2ff-ddc0-696a-b723-c16d37df73f6",
        "_active": false,
        "collapsed": false
      },
      "source": "v1nor",
      "execution_count": null,
      "cell_type": "code",
      "outputs": [],
      "execution_state": "idle"
    },
    {
      "metadata": {
        "_cell_guid": "c56ac75d-37be-dab9-ac59-b94a01382038",
        "_active": false,
        "collapsed": false
      },
      "source": "np.mean(v1nor)",
      "execution_count": null,
      "cell_type": "code",
      "outputs": [],
      "execution_state": "idle"
    },
    {
      "metadata": {
        "_cell_guid": "fead29ee-d7ee-2fe8-884f-7146099c95e3",
        "_active": false,
        "collapsed": false
      },
      "source": "plt.hist(v1nor)",
      "execution_count": null,
      "cell_type": "code",
      "outputs": [],
      "execution_state": "idle"
    },
    {
      "metadata": {
        "_cell_guid": "84c8f651-0fea-f522-2347-4df30dd6d77a",
        "_active": false,
        "collapsed": false
      },
      "source": "plt.hist(np.log(np.cbrt(np.power(v1nor,2))))",
      "execution_count": null,
      "cell_type": "code",
      "outputs": [],
      "execution_state": "idle"
    },
    {
      "metadata": {
        "_cell_guid": "d3b280ce-e3db-2e53-bc80-c81acfb07b32",
        "_active": false,
        "collapsed": false
      },
      "source": "plt.hist(np.log(np.cbrt(np.power(v1nor,4))))",
      "execution_count": null,
      "cell_type": "code",
      "outputs": [],
      "execution_state": "idle"
    },
    {
      "metadata": {
        "_cell_guid": "9eba9208-aa69-3d25-2028-571fb6824bc7",
        "_active": false,
        "collapsed": false
      },
      "source": "plt.hist(np.log(np.cbrt(np.power(v1,2))))",
      "execution_count": null,
      "cell_type": "code",
      "outputs": [],
      "execution_state": "idle"
    },
    {
      "metadata": {
        "_cell_guid": "c909b8a4-4bdf-0053-d89f-b79ada6b6e1a",
        "_active": false,
        "collapsed": false
      },
      "source": "plt.hist(np.log(np.cbrt(np.power(v1,4))))",
      "execution_count": null,
      "cell_type": "code",
      "outputs": [],
      "execution_state": "idle"
    },
    {
      "metadata": {
        "_cell_guid": "f5bcb7f5-5351-eb31-c7ad-2cf94d50c99f",
        "_active": false,
        "collapsed": false
      },
      "source": "v2 = credit_val[:,2]",
      "execution_count": null,
      "cell_type": "code",
      "outputs": [],
      "execution_state": "idle"
    },
    {
      "metadata": {
        "_cell_guid": "8fbf5e95-cbc9-b7b8-d24e-b7e6955a84a9",
        "_active": false,
        "collapsed": false
      },
      "source": "plt.hist(v2)",
      "execution_count": null,
      "cell_type": "code",
      "outputs": [],
      "execution_state": "idle"
    },
    {
      "metadata": {
        "_cell_guid": "5e4e3c3d-2d80-e98d-e989-171b811b106f",
        "_active": false,
        "collapsed": false
      },
      "source": "plt.hist(np.log(np.power(v1,2)))",
      "execution_count": null,
      "cell_type": "code",
      "outputs": [],
      "execution_state": "idle"
    },
    {
      "metadata": {
        "_cell_guid": "79db1651-7c30-188d-4400-48c1b348d486",
        "_active": false,
        "collapsed": false
      },
      "source": "plt.hist(np.log2(np.power(v1,2)))",
      "execution_count": null,
      "cell_type": "code",
      "outputs": [],
      "execution_state": "idle"
    },
    {
      "metadata": {
        "_cell_guid": "d1331053-513b-39cc-9d2e-3f0042080379",
        "_active": false,
        "collapsed": false
      },
      "source": "plt.hist(np.log10(np.power(v1,2)))",
      "execution_count": null,
      "cell_type": "code",
      "outputs": [],
      "execution_state": "idle"
    },
    {
      "metadata": {
        "_cell_guid": "4e2218ba-7f1b-5c05-f6bc-f1fd3b3f1b5a",
        "_active": false,
        "collapsed": false
      },
      "source": "plt.hist(np.log(np.add((np.cbrt(np.power(v2,2))),onev)))",
      "execution_count": null,
      "cell_type": "code",
      "outputs": [],
      "execution_state": "idle"
    },
    {
      "metadata": {
        "_cell_guid": "7a0e2ecc-613c-0a47-374b-162677ab3c6b",
        "_active": false,
        "collapsed": false
      },
      "source": "plt.xlim(-6,6)\nplt.hist(np.log10(np.power(v1,2)))",
      "execution_count": null,
      "cell_type": "code",
      "outputs": [],
      "execution_state": "idle"
    },
    {
      "metadata": {
        "_cell_guid": "2a1616c2-0744-7417-f9d3-e41555998fab",
        "_active": false,
        "collapsed": false
      },
      "source": "plt.xlim(-6,6)\nplt.hist(np.log10(np.power(v2,2)))",
      "execution_count": null,
      "cell_type": "code",
      "outputs": [],
      "execution_state": "idle"
    },
    {
      "metadata": {
        "_cell_guid": "857fba1c-3f4c-a14f-6fc7-62dce5253d15",
        "_active": false,
        "collapsed": false
      },
      "source": "plt.hist(v2,bins=50)",
      "execution_count": null,
      "cell_type": "code",
      "outputs": [],
      "execution_state": "idle"
    },
    {
      "metadata": {
        "_cell_guid": "f0a3474c-8861-a64c-a21f-cee4d99b9db0",
        "_active": false,
        "collapsed": false
      },
      "source": "plt.xlim(-6,6)\nplt.hist(np.log10(np.power(v2,2)),bins = 20)",
      "execution_count": null,
      "cell_type": "code",
      "outputs": [],
      "execution_state": "idle"
    },
    {
      "metadata": {
        "_cell_guid": "9fc39c8d-6432-d243-1afa-e32ea7a0e271",
        "_active": false,
        "collapsed": false
      },
      "source": "plt.xlim(-6,6)\nplt.hist(np.log10(np.power(v2,2)),bins = 40)",
      "execution_count": null,
      "cell_type": "code",
      "outputs": [],
      "execution_state": "idle"
    },
    {
      "metadata": {
        "_cell_guid": "83a76521-42e8-c4ae-2062-d9a4837af47f",
        "_active": false,
        "collapsed": false
      },
      "source": "plt.xlim(-6,6)\nplt.hist(v2,bins = 40)",
      "execution_count": null,
      "cell_type": "code",
      "outputs": [],
      "execution_state": "idle"
    },
    {
      "metadata": {
        "_cell_guid": "1eb866c0-143f-d95c-616d-9402da264539",
        "_active": false,
        "collapsed": false
      },
      "source": "plt.xlim(-20,20)\nplt.hist(v2,bins = 40)",
      "execution_count": null,
      "cell_type": "code",
      "outputs": [],
      "execution_state": "idle"
    },
    {
      "metadata": {
        "_cell_guid": "25e492e7-c77f-c3c0-f0e6-cdb08106dcbc",
        "_active": false,
        "collapsed": false
      },
      "source": "plt.xlim(-6,6)\nplt.hist(np.log(np.power(v2,2)),bins = 40)",
      "execution_count": null,
      "cell_type": "code",
      "outputs": [],
      "execution_state": "idle"
    },
    {
      "metadata": {
        "_cell_guid": "2d82f541-e95a-ab97-6b6b-6cab0b06b8b7",
        "_active": false,
        "collapsed": false
      },
      "source": "plt.xlim(-9,9)\nplt.hist(np.log(np.power(v2,2)),bins = 40)",
      "execution_count": null,
      "cell_type": "code",
      "outputs": [],
      "execution_state": "idle"
    },
    {
      "metadata": {
        "_cell_guid": "dae7629b-da34-705b-fc9b-33fb6392ef59",
        "_active": false,
        "collapsed": false
      },
      "source": "v3 = credit_val[:,3]\nplt.hist(v3)",
      "execution_count": null,
      "cell_type": "code",
      "outputs": [],
      "execution_state": "idle"
    },
    {
      "metadata": {
        "_cell_guid": "616d4f63-17b3-2c96-0274-781689ca504b",
        "_active": false,
        "collapsed": false
      },
      "source": "plt.hist(np.log(np.cbrt(np.power(v3,2))))",
      "execution_count": null,
      "cell_type": "code",
      "outputs": [],
      "execution_state": "idle"
    },
    {
      "metadata": {
        "_cell_guid": "4ff32593-dcc8-2a2f-5060-248270570f85",
        "_active": false,
        "collapsed": false
      },
      "source": "plt.hist(np.log(np.cbrt(np.power(v1,2))),bins=40)",
      "execution_count": null,
      "cell_type": "code",
      "outputs": [],
      "execution_state": "idle"
    },
    {
      "metadata": {
        "_cell_guid": "24da4e3b-8918-41bb-d516-ce3a72c0b115",
        "_active": false,
        "collapsed": false
      },
      "source": "plt.hist(np.log10(np.cbrt(np.power(v1,2))),bins=40)",
      "execution_count": null,
      "cell_type": "code",
      "outputs": [],
      "execution_state": "idle"
    },
    {
      "metadata": {
        "_cell_guid": "f18b535c-f2f4-5e3d-d241-f250403e0434",
        "_active": false,
        "collapsed": false
      },
      "source": "plt.hist(np.log(np.power(v1,2)),bins=40)",
      "execution_count": null,
      "cell_type": "code",
      "outputs": [],
      "execution_state": "idle"
    },
    {
      "metadata": {
        "_cell_guid": "3b5106ef-f55b-1cb4-d30d-90aa96885825",
        "_active": false,
        "collapsed": false
      },
      "source": "v4 = credit_val[:,4]\nplt.hist(v4,bins=50)",
      "execution_count": null,
      "cell_type": "code",
      "outputs": [],
      "execution_state": "idle"
    },
    {
      "metadata": {
        "_cell_guid": "4bbe00fd-e72d-57d4-b249-1acc95fe73aa",
        "_active": false,
        "collapsed": false
      },
      "source": "v5 = credit_val[:,5]\nplt.hist(v5,bins=50)",
      "execution_count": null,
      "cell_type": "code",
      "outputs": [],
      "execution_state": "idle"
    },
    {
      "metadata": {
        "_cell_guid": "922e5877-8f40-e666-b3ba-74ce50d1281a",
        "_active": false,
        "collapsed": false
      },
      "source": "plt.hist(np.log10(np.power(v3,2)),bins=40)",
      "execution_count": null,
      "cell_type": "code",
      "outputs": [],
      "execution_state": "idle"
    },
    {
      "metadata": {
        "_cell_guid": "066a78b0-e476-4224-648a-04a6395e1bf9",
        "_active": false,
        "collapsed": false
      },
      "source": "plt.hist(np.log10(np.cbrt(np.power(v3,2))),bins=40)",
      "execution_count": null,
      "cell_type": "code",
      "outputs": [],
      "execution_state": "idle"
    },
    {
      "metadata": {
        "_cell_guid": "d9cdb487-220f-0cf8-14b5-c6902f6cf360",
        "_active": false,
        "collapsed": false
      },
      "source": "plt.hist(np.log(np.add((np.cbrt(np.power(v5,2))),onev)))",
      "execution_count": null,
      "cell_type": "code",
      "outputs": [],
      "execution_state": "idle"
    },
    {
      "metadata": {
        "_cell_guid": "bb8af5da-6be6-ab45-8d44-997f405c83aa",
        "_active": false,
        "collapsed": false
      },
      "source": "plt.hist(np.log(np.add(v5,onev)))",
      "execution_count": null,
      "cell_type": "code",
      "outputs": [],
      "execution_state": "idle"
    },
    {
      "metadata": {
        "_cell_guid": "0ab4ab7b-8d55-ca10-9235-5fb254c32952",
        "_active": true,
        "collapsed": false
      },
      "source": null,
      "execution_count": null,
      "cell_type": "code",
      "outputs": [],
      "execution_state": "idle"
    }
  ]
}