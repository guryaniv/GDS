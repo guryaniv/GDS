{
  "cells": [
    {
      "cell_type": "markdown",
      "metadata": {
        "_cell_guid": "4fe63f4b-449b-0808-bfdc-335239eff884"
      },
      "source": [
        "How can you train with wrong data ?\n",
        "----\n",
        "Not... imho\n",
        "so lets find an elegant system to spit out possible false negatives.\n",
        "SO this simple script finds all dubious false negatives..."
      ]
    },
    {
      "cell_type": "code",
      "execution_count": null,
      "metadata": {
        "_cell_guid": "38474956-c84e-a1b7-6504-679ad83fb6c5"
      },
      "outputs": [],
      "source": [
        "import time\n",
        "start = time.clock()\n",
        "\n",
        "#open data\n",
        "import codecs\n",
        "import nltk #language functions\n",
        "from nltk.tokenize import word_tokenize\n",
        "from nltk.corpus import stopwords\n",
        "\n",
        "import numpy as np # linear algebra\n",
        "import pandas as pd # data processing, CSV file I/O (e.g. pd.read_csv)\n",
        "\n",
        "# Input data files are available in the \"../input/\" directory.\n",
        "# For example, running this (by clicking run or pressing Shift+Enter) will list the files in the input directory\n",
        "\n",
        "from subprocess import check_output\n",
        "print(check_output([\"ls\", \"../input\"]).decode(\"utf8\"))\n",
        "\n",
        "datas = pd.read_csv('../input/train.csv')[:100000]\n",
        "datas = datas.fillna('leeg')\n",
        "#print(datas.head())\n",
        "\n",
        "def cleantxt(x):    # aangeven sentence\n",
        "    x = x.lower()\n",
        "    # Pad punctuation with spaces on both sides\n",
        "    for char in ['.', '\"', ',', '(', ')', '!', '?', ';', ':']:\n",
        "        x = x.replace(char, ' ' + char + ' ')\n",
        "    return x\n",
        "\n",
        "datas['question1']=datas['question1'].map(cleantxt)\n",
        "datas['question2']=datas['question2'].map(cleantxt)\n",
        "\n",
        "\n",
        "end = time.clock()\n",
        "print('open:',end-start)\n",
        "\n",
        "#datas"
      ]
    },
    {
      "cell_type": "markdown",
      "metadata": {
        "_cell_guid": "39cf3f30-d4dc-3ec0-f778-8ead329d4f2c"
      },
      "source": [
        "Sentences where the only difference are stopwords are imho to be considered as similar.\n",
        "-----"
      ]
    },
    {
      "cell_type": "code",
      "execution_count": null,
      "metadata": {
        "_cell_guid": "4079ebb7-0eca-bab5-a136-33368434ed2f"
      },
      "outputs": [],
      "source": [
        " # Import the stop word list\n",
        "#print stopwords.words(\"english\") \n",
        "\n",
        "for xyz in range(0,1000):\n",
        "    q1=datas.iloc[xyz].question1\n",
        "    q2=datas.iloc[xyz].question2\n",
        "    sent1=q1.split()\n",
        "    sent2=q2.split()\n",
        "    equq1 = [w for w in sent1 if w in sent2]\n",
        "    difq1 = [w for w in sent1 if w not in sent2]\n",
        "    difq2 = [w for w in sent2 if w not in sent1]\n",
        "    diftot = difq1+difq2\n",
        "    difton = [w for w in diftot if not w in stopwords.words(\"english\")]\n",
        "    if len(difton)==0 and datas.iloc[xyz].is_duplicate==0:\n",
        "        print('false negative ?',q1,q2,datas.iloc[xyz].is_duplicate)\n",
        "    \n",
        "end = time.clock()\n",
        "print('all dubious:',end-start)"
      ]
    },
    {
      "cell_type": "code",
      "execution_count": null,
      "metadata": {
        "_cell_guid": "630e6677-5386-13ae-0f06-4593a9c6d0e7"
      },
      "outputs": [],
      "source": [
        "df_train = pd.read_csv('../input/train.csv',encoding='utf8')[:10000]\n",
        "df_train = df_train.fillna('leeg')\n",
        "df_test = pd.read_csv('../input/test.csv',encoding='utf8')[:50000]\n",
        "df_test = df_test.fillna('leeg')\n",
        "df_train.head(2)\n",
        "df_test.head(2)\n",
        "end = time.clock()\n",
        "print('open:',end-start)\n",
        "\n",
        "def cleantxt(x):    \n",
        "    x = str(x)\n",
        "    #x = x.replace(r'[^\\x00-\\x7f]',r' ') \n",
        "    # Pad punctuation with spaces on both sides\n",
        "    for char in ['.', '\"', ',', '(', ')', '!', '?', ';', ':']:\n",
        "        #x = x.replace(char, ' '+char+' ')\n",
        "        x = x.replace(char, ' ')\n",
        "    return x\n",
        "\n",
        "def cleantxtsplit(x):\n",
        "    x=cleantxt(x)\n",
        "    return x.split()\n",
        "\n",
        "def word_match_share(row):\n",
        "    q1words = {}\n",
        "    q2words = {}\n",
        "    for word in cleantxtsplit(row['question1']):\n",
        "            q1words[word] = 1\n",
        "    for word in cleantxtsplit(row['question2']):\n",
        "            q2words[word] = 1\n",
        "    if len(q1words) == 0 or len(q2words) == 0:\n",
        "        # The computer-generated chaff includes a few questions that are nothing but stopwords\n",
        "        return 0\n",
        "    shared_words_in_q1 = [w for w in q1words.keys() if w in q2words]\n",
        "    shared_words_in_q2 = [w for w in q2words.keys() if w in q1words]\n",
        "    nonshared_words_in_q1 = [w for w in q1words.keys() if w not in q2words]\n",
        "    nonshared_words_in_q2 = [w for w in q2words.keys() if w not in q1words]\n",
        "    X1 = (len(shared_words_in_q1))/(len(q1words) )\n",
        "    Y1 = (len(nonshared_words_in_q1))/(len(q1words) )\n",
        "    X2 = (len(shared_words_in_q2))/(len(q2words))\n",
        "    Y2 = (len(nonshared_words_in_q2))/(len(q2words))\n",
        "    R3 = (Y1+Y2)/2  \n",
        "    diftot=nonshared_words_in_q1+nonshared_words_in_q2\n",
        "    difton = [w for w in diftot if not w in stopwords.words(\"english\")]  #if the difference is only stopwords\n",
        "    \n",
        "    if len(difton)==0:\n",
        "        print(row['id'],row['is_duplicate'],row['question1'],row['question2'])\n",
        "        if row['is_duplicate']==0:\n",
        "            df_train.set_value(row['id'], 'is_duplicate', 1)  #replace 0 with 1\n",
        "        R3=1        \n",
        "\n",
        "    return R3 #R1-R2\n",
        "\n",
        "def word_match_share2(row):\n",
        "    q1words = {}\n",
        "    q2words = {}\n",
        "    for word in cleantxtsplit(row['question1']):\n",
        "            q1words[word] = 1\n",
        "    for word in cleantxtsplit(row['question2']):\n",
        "            q2words[word] = 1\n",
        "    if len(q1words) == 0 or len(q2words) == 0:\n",
        "        # The computer-generated chaff includes a few questions that are nothing but stopwords\n",
        "        return 0\n",
        "    shared_words_in_q1 = [w for w in q1words.keys() if w in q2words]\n",
        "    shared_words_in_q2 = [w for w in q2words.keys() if w in q1words]\n",
        "    nonshared_words_in_q1 = [w for w in q1words.keys() if w not in q2words]\n",
        "    nonshared_words_in_q2 = [w for w in q2words.keys() if w not in q1words]\n",
        "    X1 = (len(shared_words_in_q1))/(len(q1words) )\n",
        "    Y1 = (len(nonshared_words_in_q1))/(len(q1words) )\n",
        "    X2 = (len(shared_words_in_q2))/(len(q2words))\n",
        "    Y2 = (len(nonshared_words_in_q2))/(len(q2words))\n",
        "    R3 = (Y1+Y2)/2  \n",
        "    diftot=nonshared_words_in_q1+nonshared_words_in_q2\n",
        "    difton = [w for w in diftot if not w in stopwords.words(\"english\")]  #if the difference is only stopwords\n",
        "    \n",
        "    if len(difton)==0:\n",
        "        R3=1        \n",
        "\n",
        "    return R3 #R1-R2\n",
        "\n",
        "train_qs = pd.Series(df_train['question1'].map(cleantxt).tolist() + df_train['question2'].map(cleantxt).tolist()).astype(str)\n",
        "train_word_match = df_train.apply(word_match_share, axis=1, raw=True)  #has to be after cleanign so that the splitting works better\n",
        "test_qs = pd.Series(df_test['question1'].map(cleantxt).tolist() + df_test['question2'].map(cleantxt).tolist()).astype(str)\n",
        "\n",
        "end = time.clock()\n",
        "print('clean:',end-start)"
      ]
    },
    {
      "cell_type": "code",
      "execution_count": null,
      "metadata": {
        "_cell_guid": "ca70c3c6-0676-d937-6977-51818136719d"
      },
      "outputs": [],
      "source": [
        "from collections import Counter\n",
        "\n",
        "# If a word appears only once, we ignore it completely (likely a typo)\n",
        "# Epsilon defines a smoothing constant, which makes the effect of extremely rare words smaller\n",
        "def get_weight(count, eps=10000, min_count=2):\n",
        "    if count < min_count:\n",
        "        return 0\n",
        "    else:\n",
        "        return 1 / (count + eps)\n",
        "\n",
        "eps = 5000 \n",
        "words = (\" \".join(train_qs)).split()\n",
        "counts = Counter(words)\n",
        "weights = {word: get_weight(count) for word, count in counts.items()}\n",
        "end = time.clock()\n",
        "print('def:',end-start)"
      ]
    },
    {
      "cell_type": "markdown",
      "metadata": {
        "_cell_guid": "4f5e751b-28df-89a5-7ed7-6c24907bd3b3"
      },
      "source": [
        "The punctuations are separated , so this error disappeared\n",
        "---"
      ]
    },
    {
      "cell_type": "code",
      "execution_count": null,
      "metadata": {
        "_cell_guid": "7d909d6e-8f58-3cc1-3a13-f76a1e79acbd"
      },
      "outputs": [],
      "source": [
        "print('Most common words and weights: \\n')\n",
        "print(sorted(weights.items(), key=lambda x: x[1] if x[1] > 0 else 9999)[:10])\n",
        "print('\\nLeast common words and weights: ')\n",
        "(sorted(weights.items(), key=lambda x: x[1], reverse=True)[:10])"
      ]
    },
    {
      "cell_type": "markdown",
      "metadata": {
        "_cell_guid": "2b838ed5-0566-cc8d-29c4-b2528afbc42f"
      },
      "source": [
        "we are replacing duplicates from 0 with 1\n",
        "---\n",
        "if the only difference are stopwords\n",
        "---"
      ]
    },
    {
      "cell_type": "code",
      "execution_count": null,
      "metadata": {
        "_cell_guid": "359c764c-978d-44b2-2ab1-2d12ac30e9ff"
      },
      "outputs": [],
      "source": [
        "def tf(word,blob):\n",
        "    return blob.words.count(word)/len(blob.words)\n",
        "def n_containing(word,bloblist):\n",
        "    return blob.words.count(word)/len(blob.words)\n",
        "def idf(word,bloblist):\n",
        "    return sum(1 for blob in bloblist if word in blob)\n",
        "def tfidf(word,blob,bloblist):\n",
        "    return tf(word,blob)*idf(word,bloblist)\n",
        "\n",
        "def tfidf_word_match_share(row):\n",
        "    q1words = {}\n",
        "    q2words = {}\n",
        "    for word in str(row['question1']).split():\n",
        "        #if word not in stops:\n",
        "            q1words[word] = 1\n",
        "    for word in str(row['question2']).split():\n",
        "        #if word not in stops:\n",
        "            q2words[word] = 1\n",
        "    if len(q1words) == 0 or len(q2words) == 0:\n",
        "        # The computer-generated chaff includes a few questions that are nothing but stopwords\n",
        "        return 0\n",
        "    \n",
        "    shared_weights_q1=[weights.get(w, 0) for w in q1words.keys() if w in q2words] \n",
        "    shared_weights_q2=[weights.get(w, 0) for w in q2words.keys() if w in q1words]\n",
        "    nonshared_weights_q1 = [weights.get(w, 0) for w in q1words.keys() if w not in q2words]\n",
        "    nonshared_weights_q2 =  [weights.get(w, 0) for w in q2words.keys() if w not in q1words]\n",
        "    nonshared_words_in_q1 = [w for w in q1words.keys() if w not in q2words]\n",
        "    nonshared_words_in_q2 = [w for w in q2words.keys() if w not in q1words]    \n",
        "    total_weights_q1 = [weights.get(w, 0) for w in q1words] \n",
        "    total_weights_q2 =[weights.get(w, 0) for w in q2words]\n",
        "    X1 = np.sum(shared_weights_q1) / np.sum(total_weights_q1)\n",
        "    Y1 = np.sum(nonshared_weights_q1) / np.sum(total_weights_q1)\n",
        "    X2 = np.sum(shared_weights_q2) / np.sum(total_weights_q2)\n",
        "    Y2 = np.sum(nonshared_weights_q2) / np.sum(total_weights_q2)\n",
        "    R3 = (Y1+Y2)/2\n",
        "    diftot=nonshared_words_in_q1+nonshared_words_in_q2\n",
        "    difton = [w for w in diftot if not w in stopwords.words(\"english\")]  #if the difference is only stopwords\n",
        "\n",
        "    if len(difton)==0:\n",
        "         R3=1    \n",
        "    return R3 #R1-R2\n",
        "\n",
        "end = time.clock()\n",
        "print('wordmatch:',end-start)"
      ]
    },
    {
      "cell_type": "code",
      "execution_count": null,
      "metadata": {
        "_cell_guid": "337b1dee-c6c4-1234-ca41-eafaacb36fc5"
      },
      "outputs": [],
      "source": [
        "tfidf_train_word_match = df_train.apply(tfidf_word_match_share, axis=1, raw=True)\n",
        "\n",
        "end = time.clock()\n",
        "print('tfidf:',end-start)"
      ]
    },
    {
      "cell_type": "code",
      "execution_count": null,
      "metadata": {
        "_cell_guid": "df1f2339-524c-364e-acf9-efbf7f179ad4"
      },
      "outputs": [],
      "source": [
        "from sklearn.metrics import roc_auc_score\n",
        "print('Original AUC:', roc_auc_score(df_train['is_duplicate'], train_word_match))\n",
        "print('   TFIDF AUC:', roc_auc_score(df_train['is_duplicate'], tfidf_train_word_match.fillna(0)))"
      ]
    },
    {
      "cell_type": "markdown",
      "metadata": {
        "_cell_guid": "9f986136-9e1b-55b4-c070-488267d6883e"
      },
      "source": [
        "It looks more that we have to find the 'random syntax'  errors then we have to find the similarity \n",
        "---"
      ]
    },
    {
      "cell_type": "code",
      "execution_count": null,
      "metadata": {
        "_cell_guid": "c81cddad-23e0-ca43-5e6d-ebb395662d28"
      },
      "outputs": [],
      "source": [
        "# First we create our training and testing data\n",
        "x_train = pd.DataFrame()\n",
        "x_test = pd.DataFrame()\n",
        "x_train['word_match'] = train_word_match\n",
        "x_train['tfidf_word_match'] = tfidf_train_word_match\n",
        "x_test['word_match'] = df_test.apply(word_match_share2, axis=1, raw=True)\n",
        "x_test['tfidf_word_match'] = df_test.apply(tfidf_word_match_share, axis=1, raw=True)\n",
        "\n",
        "y_train = df_train['is_duplicate'].values\n",
        "end = time.clock()\n",
        "print('createtestdata:',end-start)"
      ]
    },
    {
      "cell_type": "code",
      "execution_count": null,
      "metadata": {
        "_cell_guid": "9950eeee-d1f1-3eac-f07b-50b18642656f"
      },
      "outputs": [],
      "source": [
        "y_train = df_train['is_duplicate'].values\n",
        "pos_train = x_train[y_train == 1]\n",
        "neg_train = x_train[y_train == 0]\n",
        "\n",
        "# Now we oversample the negative class\n",
        "# There is likely a much more elegant way to do this...\n",
        "p = 0.165\n",
        "scale = ((len(pos_train) / (len(pos_train) + len(neg_train))) / p) - 1\n",
        "while scale > 1:\n",
        "    neg_train = pd.concat([neg_train, neg_train])\n",
        "    scale -=1\n",
        "neg_train = pd.concat([neg_train, neg_train[:int(scale * len(neg_train))]])\n",
        "print(len(pos_train) / (len(pos_train) + len(neg_train)))\n",
        "\n",
        "x_train = pd.concat([pos_train, neg_train])\n",
        "y_train = (np.zeros(len(pos_train)) + 1).tolist() + np.zeros(len(neg_train)).tolist()\n",
        "del pos_train, neg_train"
      ]
    },
    {
      "cell_type": "code",
      "execution_count": null,
      "metadata": {
        "_cell_guid": "57c3b50a-8b1e-9826-8630-16d56571faa3"
      },
      "outputs": [],
      "source": [
        "# Finally, we split some of the data off for validation\n",
        "from sklearn.cross_validation import train_test_split\n",
        "\n",
        "x_train, x_valid, y_train, y_valid = train_test_split(x_train, y_train, test_size=0.2, random_state=4242)"
      ]
    },
    {
      "cell_type": "code",
      "execution_count": null,
      "metadata": {
        "_cell_guid": "ea8ddbe6-6041-9aac-8dfb-bd9fb8bac9e3"
      },
      "outputs": [],
      "source": [
        "import xgboost as xgb\n",
        "\n",
        "# Set our parameters for xgboost\n",
        "params = {}\n",
        "params['objective'] = 'binary:logistic'\n",
        "params['eval_metric'] = 'logloss'\n",
        "params['eta'] = 0.05\n",
        "params['max_depth'] = 5\n",
        "\n",
        "d_train = xgb.DMatrix(x_train, label=y_train)\n",
        "d_valid = xgb.DMatrix(x_valid, label=y_valid)\n",
        "\n",
        "watchlist = [(d_train, 'train'), (d_valid, 'valid')]\n",
        "\n",
        "bst = xgb.train(params, d_train, 2000, watchlist, early_stopping_rounds=100, verbose_eval=25)"
      ]
    },
    {
      "cell_type": "code",
      "execution_count": null,
      "metadata": {
        "_cell_guid": "2c2713b4-c1e4-eaad-44d3-8cf53afbf6fb"
      },
      "outputs": [],
      "source": [
        "d_test = xgb.DMatrix(x_test)\n",
        "p_test = bst.predict(d_test)\n",
        "\n",
        "sub = pd.DataFrame()\n",
        "sub['test_id'] = df_test['test_id']\n",
        "sub['is_duplicate'] = p_test\n",
        "sub.to_csv('simple_xgb.csv', index=False)"
      ]
    }
  ],
  "metadata": {
    "_change_revision": 0,
    "_is_fork": false,
    "kernelspec": {
      "display_name": "Python 3",
      "language": "python",
      "name": "python3"
    },
    "language_info": {
      "codemirror_mode": {
        "name": "ipython",
        "version": 3
      },
      "file_extension": ".py",
      "mimetype": "text/x-python",
      "name": "python",
      "nbconvert_exporter": "python",
      "pygments_lexer": "ipython3",
      "version": "3.6.0"
    }
  },
  "nbformat": 4,
  "nbformat_minor": 0
}