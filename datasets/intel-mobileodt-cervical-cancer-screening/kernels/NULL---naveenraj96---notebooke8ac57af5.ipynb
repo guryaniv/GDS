{
  "cells": [
    {
      "cell_type": "markdown",
      "metadata": {
        "_cell_guid": "f4c95546-7acd-489a-3956-2b452a254d01"
      },
      "source": ""
    },
    {
      "cell_type": "code",
      "execution_count": null,
      "metadata": {
        "_cell_guid": "1932f5b4-746c-ec3b-de86-e0aefd936721"
      },
      "outputs": [],
      "source": [
        "# This Python 3 environment comes with many helpful analytics libraries installed\n",
        "# It is defined by the kaggle/python docker image: https://github.com/kaggle/docker-python\n",
        "# For example, here's several helpful packages to load in \n",
        "\n",
        "import numpy as np # linear algebra\n",
        "import pandas as pd # data processing, CSV file I/O (e.g. pd.read_csv)\n",
        "\n",
        "# Input data files are available in the \"../input/\" directory.\n",
        "# For example, running this (by clicking run or pressing Shift+Enter) will list the files in the input directory\n",
        "\n",
        "from subprocess import check_output\n",
        "print(check_output([\"ls\", \"../input\"]).decode(\"utf8\"))\n",
        "print(check_output([\"ls\", \"../input/train/\"]).decode(\"utf8\"))\n",
        "# Any results you write to the current directory are saved as output."
      ]
    },
    {
      "cell_type": "code",
      "execution_count": null,
      "metadata": {
        "_cell_guid": "59b8b60d-2e96-40e7-c47b-f68b1ea41511"
      },
      "outputs": [],
      "source": [
        "import sys\n",
        "import tensorflow as tf\n",
        "from os import listdir\n",
        "import tflearn\n",
        "import numpy as np\n",
        "from PIL import Image\n",
        "from tflearn.layers.conv import conv_2d, max_pool_2d, avg_pool_2d\n",
        "from tflearn.layers.core import input_data, fully_connected, dropout\n",
        "from tflearn.layers.estimator import regression\n",
        "\n",
        "path = \"../input/train/\"\n",
        "\n",
        "\n",
        "def resize():\n",
        "    dirs = path +\"Type_1/\"\n",
        "    dirs1 = path +\"Type_2/\"\n",
        "    dirs2 = path +\"Type_3/\"\n",
        "    for item in dirs:\n",
        "        im = Image.open(dirs+item).convert(\"RGB\")\n",
        "        #f, e = os.path.splitext(path+item)\n",
        "        imResize = im.resize((3000,3000), Image.ANTIALIAS)\n",
        "        imResize.save(item + '.jpg', 'JPEG', quality=90)\n",
        "        print(1)\n",
        "    for item in dirs1:\n",
        "        im = Image.open(dirs1+item).convert(\"RGB\")\n",
        "        #f, e = os.path.splitext(path+item)\n",
        "        imResize = im.resize((3000,3000), Image.ANTIALIAS)\n",
        "        imResize.save(item + '.jpg', 'JPEG', quality=90)\n",
        "        print(1)\n",
        "    for item in dirs3:\n",
        "        im = Image.open(dirs2+item).convert(\"RGB\")\n",
        "        #f, e = os.path.splitext(path+item)\n",
        "        imResize = im.resize((3000,3000), Image.ANTIALIAS)\n",
        "        imResize.save(item + '.jpg', 'JPEG', quality=90)\n",
        "        print(1)\n",
        "    return 10\n",
        "\n",
        "def savemodel():\n",
        "    model.fit({'input': file}, {'target': label}, n_epoch=5, validation_set=({'input': file}, {'target': label}),\n",
        "              show_metric=True, snapshot_step=25, batch_size=50, run_id='kag1')\n",
        "    model.save('kagglecervical.model')\n",
        "\n",
        "def read_labeled_image_list():\n",
        "    file = []\n",
        "    label = []\n",
        "    print(\"started\")\n",
        "    i = 0\n",
        "    for filename in listdir(path + \"Type_1/\"):\n",
        "        if not filename.startswith('.') and filename != 'Thumbs.db'and filename !='1339.jpg':\n",
        "            images = Image.open(path + \"Type_1/\"+filename).convert(\"RGB\")\n",
        "            images = np.asarray(images)\n",
        "            file.append(images)\n",
        "            label.append([1, 0, 0])\n",
        "            i += 1\n",
        "            #print(filename + \"   \" + str(i))\n",
        "    for filename in listdir(path + \"Type_2/\"):\n",
        "        if not filename.startswith('.') and filename != 'Thumbs.db':\n",
        "            images = Image.open(path + \"Type_2/\" + filename).convert(\"RGB\")\n",
        "            images = np.asarray(images)\n",
        "            file.append(images)\n",
        "            label.append([0, 1, 0])\n",
        "            i += 1\n",
        "            #print(filename + \"   \" + str(i))\n",
        "    for filename in listdir(path + \"Type_3/\"):\n",
        "        if not filename.startswith('.') and filename != 'Thumbs.db':\n",
        "            images = Image.open(path + \"Type_3/\" + filename).convert(\"RGB\")\n",
        "            images = np.asarray(images)\n",
        "            file.append(images)\n",
        "            label.append([0, 0, 1])\n",
        "            i += 1\n",
        "            #print(filename + \"   \" + str(i)\n",
        "        print(i)\n",
        "    return file, label\n",
        "#resize()\n"
      ]
    },
    {
      "cell_type": "code",
      "execution_count": null,
      "metadata": {
        "_cell_guid": "c57e0fa9-1b6b-f9c1-29d1-9715fdd88fb7"
      },
      "outputs": [],
      "source": [
        "from PIL import Image\n",
        "import os\n",
        "from subprocess import check_output\n",
        "\n",
        "path = \"../input/train/\"\n",
        "dirs = os.listdir(path)\n",
        "\n",
        "\n",
        "def resize():\n",
        "    dirs = os.listdir(path+\"Type_1\")\n",
        "    dirs1 = os.listdir(path+\"Type_2\")\n",
        "    dirs2 = os.listdir(path+\"Type_3\")\n",
        "    \n",
        "    i = 0\n",
        "    for item in dirs:\n",
        "        if not item.startswith('.') and item != 'Thumbs.db':\n",
        "            i = i+1\n",
        "            #print(path+dirs)\n",
        "            print( i)\n",
        "            print(item)\n",
        "            im = Image.open(path + \"Type_1/\" +item).convert(\"RGB\")\n",
        "            f, e = os.path.splitext(path+item)\n",
        "            imResize = im.resize((500,500), Image.ANTIALIAS)\n",
        "            imResize.save(item + '.jpg', 'JPEG', quality=90)\n",
        "            #print(dirs)\n",
        "    \n",
        "resize()"
      ]
    }
  ],
  "metadata": {
    "_change_revision": 0,
    "_is_fork": false,
    "kernelspec": {
      "display_name": "Python 3",
      "language": "python",
      "name": "python3"
    },
    "language_info": {
      "codemirror_mode": {
        "name": "ipython",
        "version": 3
      },
      "file_extension": ".py",
      "mimetype": "text/x-python",
      "name": "python",
      "nbconvert_exporter": "python",
      "pygments_lexer": "ipython3",
      "version": "3.6.0"
    }
  },
  "nbformat": 4,
  "nbformat_minor": 0
}