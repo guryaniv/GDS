{
  "cells": [
    {
      "cell_type": "code",
      "execution_count": null,
      "metadata": {
        "_cell_guid": "66e5e507-4d33-5891-c39a-20389657b894"
      },
      "outputs": [],
      "source": [
        "from pandas import read_csv\n",
        "data = read_csv(\"../input/kc_house_data.csv\")"
      ]
    },
    {
      "cell_type": "code",
      "execution_count": null,
      "metadata": {
        "_cell_guid": "bcc5cae1-8ca1-5cd8-c815-d1b863b9db02"
      },
      "outputs": [],
      "source": [
        "data.head()"
      ]
    },
    {
      "cell_type": "code",
      "execution_count": null,
      "metadata": {
        "_cell_guid": "6fc40ad2-b1cc-bf1f-12ed-6c0e2d212ebe"
      },
      "outputs": [],
      "source": [
        "data.shape"
      ]
    },
    {
      "cell_type": "code",
      "execution_count": null,
      "metadata": {
        "_cell_guid": "79074ce6-01a8-23e7-e417-95328f94991b"
      },
      "outputs": [],
      "source": [
        "data.isnull().any()"
      ]
    },
    {
      "cell_type": "code",
      "execution_count": null,
      "metadata": {
        "_cell_guid": "66281c7d-9465-8f20-1664-73bcb9e118eb"
      },
      "outputs": [],
      "source": [
        "target = \"price\"\n",
        "features = data.drop(target,1).columns"
      ]
    },
    {
      "cell_type": "code",
      "execution_count": null,
      "metadata": {
        "_cell_guid": "f42aa57c-8cb6-3177-622b-1f783ecf32f6"
      },
      "outputs": [],
      "source": [
        "features_by_dtype = {}\n",
        "\n",
        "for f in features:\n",
        "    dtype = str(data[f].dtype)\n",
        "    if dtype not in features_by_dtype.keys():\n",
        "        features_by_dtype[dtype] = [f]\n",
        "    else:\n",
        "        features_by_dtype[dtype] += [f]\n",
        "        \n",
        "for k in features_by_dtype.keys():\n",
        "    string = \"%s: %s\" % (k , len(features_by_dtype[k]))\n",
        "    print(string)"
      ]
    },
    {
      "cell_type": "code",
      "execution_count": null,
      "metadata": {
        "_cell_guid": "305fdad4-f7ba-a9f4-d05d-0cbd41ca635d"
      },
      "outputs": [],
      "source": [
        "keys = iter(features_by_dtype.keys())"
      ]
    },
    {
      "cell_type": "code",
      "execution_count": null,
      "metadata": {
        "_cell_guid": "f8b22b4f-9bde-b309-1fa6-92af242ff026"
      },
      "outputs": [],
      "source": [
        "k = next(keys)\n",
        "dtype_list = features_by_dtype[k]\n",
        "for d in dtype_list:\n",
        "    string = \"%s: %s\" % (d,len(data[d].unique()))\n",
        "    print(string)"
      ]
    },
    {
      "cell_type": "code",
      "execution_count": null,
      "metadata": {
        "_cell_guid": "6b79f8e9-c490-a9c8-4706-14e20da04528"
      },
      "outputs": [],
      "source": [
        "count_features = [\"bedrooms\"]"
      ]
    },
    {
      "cell_type": "code",
      "execution_count": null,
      "metadata": {
        "_cell_guid": "50f1000b-9d3c-9d7b-b776-62618f31c559"
      },
      "outputs": [],
      "source": [
        "categorical_features = [\"waterfront\"]"
      ]
    },
    {
      "cell_type": "code",
      "execution_count": null,
      "metadata": {
        "_cell_guid": "ea372328-a8f1-13dc-0478-9410755503ba"
      },
      "outputs": [],
      "source": [
        "count_features += [\"view\", \"condition\", \"grade\"]"
      ]
    },
    {
      "cell_type": "code",
      "execution_count": null,
      "metadata": {
        "_cell_guid": "0cb59193-7083-bf3a-0e6f-77b358c38407"
      },
      "outputs": [],
      "source": [
        "categorical_features += [\"zipcode\"]"
      ]
    },
    {
      "cell_type": "code",
      "execution_count": null,
      "metadata": {
        "_cell_guid": "aae17e68-1280-b774-80ea-40e7aface1af"
      },
      "outputs": [],
      "source": [
        "temporal_features = [\"yr_renovated\", \"yr_built\"]"
      ]
    },
    {
      "cell_type": "code",
      "execution_count": null,
      "metadata": {
        "_cell_guid": "1314852b-46a0-2164-de34-8b93407e2d83"
      },
      "outputs": [],
      "source": [
        "numerical_features = [f for f in dtype_list if not f in categorical_features + temporal_features + [\"id\"]]"
      ]
    },
    {
      "cell_type": "code",
      "execution_count": null,
      "metadata": {
        "_cell_guid": "3030be76-e692-815b-c940-b4be4d6497ae"
      },
      "outputs": [],
      "source": [
        "k = next(keys)\n",
        "dtype_list = features_by_dtype[k]\n",
        "for d in dtype_list:\n",
        "    string = \"%s: %s\" % (d,len(data[d].unique()))\n",
        "    print(string)"
      ]
    },
    {
      "cell_type": "code",
      "execution_count": null,
      "metadata": {
        "_cell_guid": "5f5de7ef-fcc9-04ae-27f1-b8b9fad13fd1"
      },
      "outputs": [],
      "source": [
        "temporal_features += dtype_list"
      ]
    },
    {
      "cell_type": "code",
      "execution_count": null,
      "metadata": {
        "_cell_guid": "945c43e0-34fb-2c23-4a0d-d2fa0ed84f3b"
      },
      "outputs": [],
      "source": [
        "k = next(keys)\n",
        "dtype_list = features_by_dtype[k]\n",
        "for d in dtype_list:\n",
        "    string = \"%s: %s\" % (d,len(data[d].unique()))\n",
        "    print(string)"
      ]
    },
    {
      "cell_type": "code",
      "execution_count": null,
      "metadata": {
        "_cell_guid": "d36c9bbc-4941-c43c-9c3f-5d0d8d38af13"
      },
      "outputs": [],
      "source": [
        "count_features += [\"floors\",\"bathrooms\"]"
      ]
    },
    {
      "cell_type": "code",
      "execution_count": null,
      "metadata": {
        "_cell_guid": "4eba0c8f-a91f-b8f3-99ee-c57e318923ac"
      },
      "outputs": [],
      "source": [
        "numerical_features += dtype_list"
      ]
    },
    {
      "cell_type": "code",
      "execution_count": null,
      "metadata": {
        "_cell_guid": "f38d5056-fad7-2714-3322-8e4ea0cb05d1"
      },
      "outputs": [],
      "source": [
        "numerical_features"
      ]
    },
    {
      "cell_type": "code",
      "execution_count": null,
      "metadata": {
        "_cell_guid": "cc3ffe45-1314-e8f6-4586-307a276c1238"
      },
      "outputs": [],
      "source": [
        "count_features"
      ]
    },
    {
      "cell_type": "code",
      "execution_count": null,
      "metadata": {
        "_cell_guid": "8b54719b-2720-57d5-3778-0d48600b0067"
      },
      "outputs": [],
      "source": [
        "categorical_features"
      ]
    },
    {
      "cell_type": "code",
      "execution_count": null,
      "metadata": {
        "_cell_guid": "2c4e1f57-8530-a0f5-ce6e-e03357b6532f"
      },
      "outputs": [],
      "source": [
        "temporal_features"
      ]
    },
    {
      "cell_type": "markdown",
      "metadata": {
        "_cell_guid": "86343cb5-d172-4d5f-b406-a19140eeb495"
      },
      "source": [
        "---"
      ]
    },
    {
      "cell_type": "code",
      "execution_count": null,
      "metadata": {
        "_cell_guid": "f10c010b-b956-2e0f-6caf-7b90cfd3d583"
      },
      "outputs": [],
      "source": [
        "from seaborn import countplot, axes_style\n",
        "from matplotlib.pyplot import show,figure\n",
        "from pandas import DataFrame\n",
        "from IPython.display import display\n",
        "\n",
        "with axes_style(\"whitegrid\"):\n",
        "    for feature in categorical_features + count_features:\n",
        "        \n",
        "        figure(figsize=(12.5,7))\n",
        "        ax = countplot(data[feature], color=\"dimgrey\")\n",
        "        ax.set_title(feature)\n",
        "        ax.set_xlabel(\"\", visible=False)\n",
        "        if data[feature].unique().size > 5: ax.set_xticklabels(ax.get_xticklabels(), rotation=90)\n",
        "        show()\n",
        "        \n",
        "        display(DataFrame(data[feature].value_counts().apply(lambda x: x / len(data) * 100).round(2)).T)"
      ]
    },
    {
      "cell_type": "markdown",
      "metadata": {
        "_cell_guid": "1ece7aee-dbc3-6ff1-39fd-14f96be00429"
      },
      "source": [
        "---"
      ]
    },
    {
      "cell_type": "code",
      "execution_count": null,
      "metadata": {
        "_cell_guid": "dd6a7871-6aae-2e22-3279-8f5286832206"
      },
      "outputs": [],
      "source": [
        "from seaborn import distplot, boxplot, despine\n",
        "from matplotlib.pyplot import subplot\n",
        "from IPython.display import display\n",
        "from pandas import DataFrame\n",
        "\n",
        "def numeric_analysis(series):\n",
        "    \n",
        "    no_nulls = series.dropna()\n",
        "    \n",
        "    with axes_style({\"axes.grid\": False}):\n",
        "        \n",
        "        cell_1 = subplot(211)\n",
        "        dp = distplot(no_nulls, kde=False)\n",
        "        dp.set_xlabel(\"\",visible=False)\n",
        "        dp.set_yticklabels(dp.get_yticklabels(),visible=False)\n",
        "        despine(left = True)\n",
        "\n",
        "        cell_2 = subplot(212, sharex=cell_1)\n",
        "        boxplot(no_nulls)\n",
        "        despine(left=True)\n",
        "    \n",
        "    show()\n",
        "    \n",
        "    display(DataFrame(series.describe().round(2)).T)"
      ]
    },
    {
      "cell_type": "code",
      "execution_count": null,
      "metadata": {
        "_cell_guid": "adefa708-8b84-c62c-50c3-1e12dd2b24dc"
      },
      "outputs": [],
      "source": [
        "for n in numerical_features: \n",
        "    numeric_analysis(data[data[n].notnull()][n])"
      ]
    },
    {
      "cell_type": "markdown",
      "metadata": {
        "_cell_guid": "45cf9fd9-0b11-fef2-8dbc-fc2c988dea5e"
      },
      "source": [
        "---"
      ]
    },
    {
      "cell_type": "code",
      "execution_count": null,
      "metadata": {
        "_cell_guid": "b5dc6801-9717-16b9-4acb-55a054ce4496"
      },
      "outputs": [],
      "source": [
        "from seaborn import lmplot\n",
        "from matplotlib.pyplot import figure\n",
        "\n",
        "for c in count_features:\n",
        "\n",
        "    lmplot(data=data, x=\"long\", y=\"lat\", fit_reg=False, hue=c, size=10)\n",
        "    show()"
      ]
    }
  ],
  "metadata": {
    "_change_revision": 0,
    "_is_fork": false,
    "kernelspec": {
      "display_name": "Python 3",
      "language": "python",
      "name": "python3"
    },
    "language_info": {
      "codemirror_mode": {
        "name": "ipython",
        "version": 3
      },
      "file_extension": ".py",
      "mimetype": "text/x-python",
      "name": "python",
      "nbconvert_exporter": "python",
      "pygments_lexer": "ipython3",
      "version": "3.6.0"
    }
  },
  "nbformat": 4,
  "nbformat_minor": 0
}