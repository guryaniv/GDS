{
  "cells": [
    {
      "cell_type": "markdown",
      "metadata": {
        "_cell_guid": "22b02dfc-3624-9c16-50cd-c9a7ebde3fab"
      },
      "source": ""
    },
    {
      "cell_type": "code",
      "execution_count": null,
      "metadata": {
        "_cell_guid": "8ef339cd-08c4-615b-a90b-7060f23a7fb2"
      },
      "outputs": [],
      "source": [
        "import pandas as pd\n",
        "import numpy as np\n",
        "%matplotlib inline\n",
        "import matplotlib.pyplot as plt"
      ]
    },
    {
      "cell_type": "code",
      "execution_count": null,
      "metadata": {
        "_cell_guid": "5505c69d-8004-e6ca-3088-53bc256e4add"
      },
      "outputs": [],
      "source": [
        "data=pd.read_csv('../input/creditcard.csv')\n",
        "data.shape"
      ]
    },
    {
      "cell_type": "code",
      "execution_count": null,
      "metadata": {
        "_cell_guid": "0eab8c48-d176-b3b1-2c4d-c812c2abf39a"
      },
      "outputs": [],
      "source": [
        "data.head()"
      ]
    },
    {
      "cell_type": "code",
      "execution_count": null,
      "metadata": {
        "_cell_guid": "eb4baad7-665b-9335-a6af-45fd1ea2f611"
      },
      "outputs": [],
      "source": [
        "data.info()"
      ]
    },
    {
      "cell_type": "code",
      "execution_count": null,
      "metadata": {
        "_cell_guid": "5d76b32a-b1b1-e53c-e616-85fe22a5e071"
      },
      "outputs": [],
      "source": [
        "data.describe()"
      ]
    },
    {
      "cell_type": "code",
      "execution_count": null,
      "metadata": {
        "_cell_guid": "c4883f42-22d4-f983-ca19-4ffd6ec567b0"
      },
      "outputs": [],
      "source": [
        "print(\"Null values in features of data:\")\n",
        "data.isnull().sum()"
      ]
    },
    {
      "cell_type": "markdown",
      "metadata": {
        "_cell_guid": "04ed12af-c819-86bf-ab13-5f2287f3472c"
      },
      "source": ""
    },
    {
      "cell_type": "code",
      "execution_count": null,
      "metadata": {
        "_cell_guid": "2214b327-0565-1303-193e-116279e8d1fc"
      },
      "outputs": [],
      "source": [
        "data_labels=data['Class']\n",
        "data = data.drop('Class',axis=1)\n",
        "data.shape"
      ]
    },
    {
      "cell_type": "markdown",
      "metadata": {
        "_cell_guid": "2264e953-ad90-247d-c091-b5d7f753049b"
      },
      "source": ""
    },
    {
      "cell_type": "code",
      "execution_count": null,
      "metadata": {
        "_cell_guid": "3da3ba14-d13d-dd50-11ae-4e24189482ce"
      },
      "outputs": [],
      "source": [
        "from sklearn.preprocessing import StandardScaler"
      ]
    },
    {
      "cell_type": "code",
      "execution_count": null,
      "metadata": {
        "_cell_guid": "62c535ae-7d57-c85d-eef3-ac8dc46f34da"
      },
      "outputs": [],
      "source": [
        "X = StandardScaler().fit_transform(data)"
      ]
    },
    {
      "cell_type": "code",
      "execution_count": null,
      "metadata": {
        "_cell_guid": "97e4eb59-1a66-6c97-ef6c-a827a61d040a"
      },
      "outputs": [],
      "source": [
        "pd.DataFrame(X).describe()"
      ]
    },
    {
      "cell_type": "markdown",
      "metadata": {
        "_cell_guid": "a47ac00b-52e1-5d6b-a6c1-f67c4c0929f0"
      },
      "source": ""
    },
    {
      "cell_type": "markdown",
      "metadata": {
        "_cell_guid": "95bcaf43-032c-087b-9248-44477b70c7c7"
      },
      "source": ""
    },
    {
      "cell_type": "code",
      "execution_count": null,
      "metadata": {
        "_cell_guid": "0a227676-a962-e4aa-a671-0a947e542f8b"
      },
      "outputs": [],
      "source": [
        "from sklearn.model_selection import train_test_split\n",
        "\n",
        "X_train, X_test, y_train, y_test = train_test_split(X, data_labels, test_size=0.25, random_state=0)"
      ]
    },
    {
      "cell_type": "code",
      "execution_count": null,
      "metadata": {
        "_cell_guid": "14cc26cf-b161-9ad5-f4fc-9bc4d2f09331"
      },
      "outputs": [],
      "source": [
        "X_train.shape"
      ]
    },
    {
      "cell_type": "markdown",
      "metadata": {
        "_cell_guid": "79bce388-e9ef-c8eb-a8a8-3e2d7970393e"
      },
      "source": ""
    },
    {
      "cell_type": "markdown",
      "metadata": {
        "_cell_guid": "d638ce3a-fa25-d19e-e4b1-7128b1f1eb0b"
      },
      "source": ""
    },
    {
      "cell_type": "code",
      "execution_count": null,
      "metadata": {
        "_cell_guid": "997b6076-1628-2ae9-275a-0d78d189de22"
      },
      "outputs": [],
      "source": [
        "from sklearn import metrics"
      ]
    },
    {
      "cell_type": "code",
      "execution_count": null,
      "metadata": {
        "_cell_guid": "c721a863-9784-76f2-2d67-aef8cd9796c7"
      },
      "outputs": [],
      "source": [
        "from sklearn.svm import SVC\n",
        "svc = SVC()\n",
        "svc.fit(X_train, y_train)\n",
        "y_pred = svc.predict(X_test)"
      ]
    },
    {
      "cell_type": "code",
      "execution_count": null,
      "metadata": {
        "_cell_guid": "9e418886-4f52-48c0-7ff3-ffd9b44a7377"
      },
      "outputs": [],
      "source": [
        "print('SVM Accuracy: ', metrics.accuracy_score(y_test,y_pred))"
      ]
    },
    {
      "cell_type": "markdown",
      "metadata": {
        "_cell_guid": "209563a9-9cf2-6773-2432-e607c798aedd"
      },
      "source": ""
    },
    {
      "cell_type": "markdown",
      "metadata": {
        "_cell_guid": "946c9a54-b5d8-0b0e-c07a-00cfeb4096fb"
      },
      "source": ""
    },
    {
      "cell_type": "code",
      "execution_count": null,
      "metadata": {
        "_cell_guid": "f9b8fa50-b383-e308-5e56-f37371cb15ce"
      },
      "outputs": [],
      "source": [
        "from sklearn.linear_model import LogisticRegression\n",
        "\n",
        "logreg = LogisticRegression(C=1e5)\n",
        "logreg.fit(X_train, y_train)\n",
        "y_pred = logreg.predict(X_test)"
      ]
    },
    {
      "cell_type": "code",
      "execution_count": null,
      "metadata": {
        "_cell_guid": "866e8c58-4503-6d3e-ee66-e03edefab4ce"
      },
      "outputs": [],
      "source": [
        "print('Log Regression Accuracy: ', metrics.accuracy_score(y_test,y_pred))"
      ]
    },
    {
      "cell_type": "markdown",
      "metadata": {
        "_cell_guid": "1e6a11d4-0f24-1b5b-87d6-650dc53d0bb2"
      },
      "source": ""
    },
    {
      "cell_type": "markdown",
      "metadata": {
        "_cell_guid": "22058ef8-935b-d264-705c-c20d844dd21a"
      },
      "source": ""
    },
    {
      "cell_type": "code",
      "execution_count": null,
      "metadata": {
        "_cell_guid": "ab44d992-65ad-e2a1-4866-b8510f701b8d"
      },
      "outputs": [],
      "source": [
        "import tflearn"
      ]
    },
    {
      "cell_type": "code",
      "execution_count": null,
      "metadata": {
        "_cell_guid": "6bcf8a10-dcf5-c84d-f2f0-8fbb97ae5dd7"
      },
      "outputs": [],
      "source": [
        "y_train.shape"
      ]
    },
    {
      "cell_type": "code",
      "execution_count": null,
      "metadata": {
        "_cell_guid": "f1b34067-3115-3a93-dc8f-50842ac765c6"
      },
      "outputs": [],
      "source": [
        "input_layer=tflearn.input_data([None,30])\n",
        "g = tflearn.fully_connected(input_layer, 15, activation='relu')\n",
        "g= tflearn.dropout(g,0.8)\n",
        "g = tflearn.fully_connected(g,7, activation='relu')\n",
        "g= tflearn.dropout(g,0.8)\n",
        "g = tflearn.fully_connected(g, 2, activation='sigmoid')\n",
        "sgd = tflearn.SGD(learning_rate=0.1, lr_decay=0.96, decay_step=1000)\n",
        "g = tflearn.regression(g, optimizer=sgd, learning_rate=0.02,loss='categorical_crossentropy')"
      ]
    },
    {
      "cell_type": "code",
      "execution_count": null,
      "metadata": {
        "_cell_guid": "f4fb3326-dd13-c6d0-03e5-15c6881e1b7d"
      },
      "outputs": [],
      "source": [
        "y_train=pd.get_dummies(y_train)\n",
        "y_train=y_train.values"
      ]
    },
    {
      "cell_type": "code",
      "execution_count": null,
      "metadata": {
        "_cell_guid": "76157133-4a0c-1233-7de5-83e4024a989f"
      },
      "outputs": [],
      "source": [
        "y_train.shape"
      ]
    },
    {
      "cell_type": "code",
      "execution_count": null,
      "metadata": {
        "_cell_guid": "b56635d6-a8b6-3788-b289-9cd5de4a4bcd"
      },
      "outputs": [],
      "source": [
        "X_train.shape"
      ]
    },
    {
      "cell_type": "code",
      "execution_count": null,
      "metadata": {
        "_cell_guid": "7ea43414-90d2-a240-b2ff-14bc92c825a3"
      },
      "outputs": [],
      "source": [
        "# Training\n",
        "model = tflearn.DNN(g, tensorboard_verbose=0)\n",
        "model.fit(X_train, y_train, n_epoch=40, validation_set=0.20,show_metric=True,batch_size=150)"
      ]
    },
    {
      "cell_type": "code",
      "execution_count": null,
      "metadata": {
        "_cell_guid": "75d55bb0-95cb-a504-155f-15f16bb773d3",
        "collapsed": true
      },
      "outputs": [],
      "source": ""
    },
    {
      "cell_type": "code",
      "execution_count": null,
      "metadata": {
        "_cell_guid": "92da7bb8-6bbd-7223-0254-280ebabacf0f",
        "collapsed": true
      },
      "outputs": [],
      "source": ""
    },
    {
      "cell_type": "code",
      "execution_count": null,
      "metadata": {
        "_cell_guid": "a4231df1-b8ee-80e5-0b50-1c796e7a6539"
      },
      "outputs": [],
      "source": ""
    },
    {
      "cell_type": "code",
      "execution_count": null,
      "metadata": {
        "_cell_guid": "deef86c7-c090-7753-f410-5f477b1d86a8",
        "collapsed": true
      },
      "outputs": [],
      "source": ""
    }
  ],
  "metadata": {
    "_change_revision": 0,
    "_is_fork": false,
    "kernelspec": {
      "display_name": "Python 3",
      "language": "python",
      "name": "python3"
    },
    "language_info": {
      "codemirror_mode": {
        "name": "ipython",
        "version": 3
      },
      "file_extension": ".py",
      "mimetype": "text/x-python",
      "name": "python",
      "nbconvert_exporter": "python",
      "pygments_lexer": "ipython3",
      "version": "3.6.0"
    }
  },
  "nbformat": 4,
  "nbformat_minor": 0
}