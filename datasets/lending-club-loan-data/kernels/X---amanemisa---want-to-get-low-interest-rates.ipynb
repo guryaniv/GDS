{
  "cells": [
    {
      "cell_type": "markdown",
      "metadata": {
        "_cell_guid": "66ae7a8e-7402-7e92-f8c5-d13844bc8657"
      },
      "source": [
        " - In this notebook, I used Python and SQL to check/visualize how some\n",
        "   variables affect interest rates. There are three steps:\n",
        " - 1.Get to know the data\n",
        " - 2.Clean data\n",
        " - 3.Analyze data"
      ]
    },
    {
      "cell_type": "code",
      "execution_count": null,
      "metadata": {
        "_cell_guid": "19116c66-7e31-4f80-bbb4-9547d9c033de"
      },
      "outputs": [],
      "source": [
        "import pandas as pd\n",
        "import numpy as np\n",
        "import sqlite3\n",
        "import matplotlib.pyplot as plt\n",
        "%matplotlib inline\n",
        "import seaborn as sns"
      ]
    },
    {
      "cell_type": "code",
      "execution_count": null,
      "metadata": {
        "_cell_guid": "ff12f938-2981-86d9-d752-6b6d6ab68cee"
      },
      "outputs": [],
      "source": [
        "con = sqlite3.connect('../input/database.sqlite')\n",
        "loan = pd.read_csv('../input/loan.csv')"
      ]
    },
    {
      "cell_type": "markdown",
      "metadata": {
        "_cell_guid": "a5f280d7-e145-8e3e-74d2-0f38a3d19b53"
      },
      "source": [
        "**1. Get to know the data**"
      ]
    },
    {
      "cell_type": "code",
      "execution_count": null,
      "metadata": {
        "_cell_guid": "62aac97d-f8df-8c56-9193-9619c74ae477"
      },
      "outputs": [],
      "source": [
        "loan.dtypes"
      ]
    },
    {
      "cell_type": "code",
      "execution_count": null,
      "metadata": {
        "_cell_guid": "dedad79a-43e0-80f3-e473-b28230bfe6e7"
      },
      "outputs": [],
      "source": [
        "loan.head()"
      ]
    },
    {
      "cell_type": "code",
      "execution_count": null,
      "metadata": {
        "_cell_guid": "b29988b7-12da-4cd3-6720-bc76f243419e"
      },
      "outputs": [],
      "source": [
        "plt.rc(\"figure\", figsize=(6, 4))\n",
        "loan[\"loan_amnt\"].hist()\n",
        "plt.title(\"distribution of loan amount\")"
      ]
    },
    {
      "cell_type": "code",
      "execution_count": null,
      "metadata": {
        "_cell_guid": "16d89afd-4ffe-6f35-4517-5cbf20676f4a"
      },
      "outputs": [],
      "source": [
        "plt.rc(\"figure\", figsize=(6, 4))\n",
        "loan[\"int_rate\"].hist()\n",
        "plt.title(\"distribution of interest rate\")"
      ]
    },
    {
      "cell_type": "markdown",
      "metadata": {
        "_cell_guid": "f67483fc-686f-e8f1-2ac0-8a96abcd2c31"
      },
      "source": [
        "**2. Clean data**"
      ]
    },
    {
      "cell_type": "markdown",
      "metadata": {
        "_cell_guid": "2e147516-177a-6b8a-7c2d-56ea58f25340"
      },
      "source": [
        "**a. explore 'loan_amnt' and 'annual_inc'**"
      ]
    },
    {
      "cell_type": "markdown",
      "metadata": {
        "_cell_guid": "73111f6d-69ba-105d-f70c-45b73a09c836"
      },
      "source": [
        "I want to explore how interest rate depends on loan amount and annual income, whose types are float. So I need to get some basic statistics."
      ]
    },
    {
      "cell_type": "code",
      "execution_count": null,
      "metadata": {
        "_cell_guid": "b1a7b0ed-d029-3ae3-c9d0-76aab922b7f8"
      },
      "outputs": [],
      "source": [
        "loan[[\"loan_amnt\",\"annual_inc\"]].dropna().describe()"
      ]
    },
    {
      "cell_type": "markdown",
      "metadata": {
        "_cell_guid": "0e916806-e827-f8b9-b319-770733fd6aa0"
      },
      "source": [
        "OK, so I will divide loan_amnt to four category: low, medium-low, medium-high and high loan_amnt, and also divide annual_income to four category: low, medium-low, medium-high and high annual_inc."
      ]
    },
    {
      "cell_type": "markdown",
      "metadata": {
        "_cell_guid": "4121cf07-73ea-40ca-eda9-b70b7a58ea82"
      },
      "source": [
        "**b. extract needed data from the database**"
      ]
    },
    {
      "cell_type": "code",
      "execution_count": null,
      "metadata": {
        "_cell_guid": "e25dd95f-88ef-8a63-bbd3-26c8a6651cb7"
      },
      "outputs": [],
      "source": [
        "loan_rate_related = pd.read_sql_query( \"\"\"\n",
        "SELECT loan_amnt, term, int_rate, grade, emp_title, emp_length, home_ownership, annual_inc,issue_d,\n",
        "purpose, title, addr_state,application_type,\n",
        "CASE WHEN loan_amnt < 8000 THEN 'low' \n",
        "     WHEN loan_amnt >= 8000 AND loan_amnt < 13000 THEN 'medium-low'\n",
        "     WHEN loan_amnt >= 13000 AND loan_amnt < 20000 THEN 'medium-high'\n",
        "     WHEN loan_amnt >= 20000 THEN 'high' END as loan_amnt_level,\n",
        "CASE WHEN annual_inc < 45000 THEN 'low'\n",
        "     WHEN annual_inc >= 45000 AND annual_inc <65000 THEN 'medium-low'\n",
        "     WHEN annual_inc >= 65000 AND annual_inc < 90000 THEN 'medium-high'\n",
        "     WHEN annual_inc >= 90000 THEN 'high' END as annual_inc_level\n",
        "FROM loan\n",
        "\"\"\",con)"
      ]
    },
    {
      "cell_type": "markdown",
      "metadata": {
        "_cell_guid": "82aabaf3-3779-7ddc-816b-4c9dc325f177"
      },
      "source": [
        "OK, this is the table(dataframe) containing all the information I am interested in."
      ]
    },
    {
      "cell_type": "code",
      "execution_count": null,
      "metadata": {
        "_cell_guid": "73b03bc1-fc1f-ab26-ce50-1198b7babd4f"
      },
      "outputs": [],
      "source": [
        "loan_rate_related.head()"
      ]
    },
    {
      "cell_type": "code",
      "execution_count": null,
      "metadata": {
        "_cell_guid": "76e90c24-cc71-b341-6858-75ca29f850f2"
      },
      "outputs": [],
      "source": [
        "loan_rate_related.shape"
      ]
    },
    {
      "cell_type": "markdown",
      "metadata": {
        "_cell_guid": "d543a175-3fff-1ed6-4ea5-f37bc450380b"
      },
      "source": [
        "**c. Deal with NULL values**"
      ]
    },
    {
      "cell_type": "code",
      "execution_count": null,
      "metadata": {
        "_cell_guid": "dfc26167-6fe2-b394-2fe2-2734c1286570"
      },
      "outputs": [],
      "source": [
        "loan_rate_related.isnull().sum()"
      ]
    },
    {
      "cell_type": "code",
      "execution_count": null,
      "metadata": {
        "_cell_guid": "283f7384-5302-7ec0-d360-198431651e08"
      },
      "outputs": [],
      "source": [
        "loan_rate_related = loan_rate_related.dropna(subset=[\"loan_amnt\",\"term\",\"int_rate\",\"grade\",\"emp_length\",\"home_ownership\",\"annual_inc\",\n",
        "                                              \"issue_d\",\"purpose\",\"addr_state\",\"application_type\"])"
      ]
    },
    {
      "cell_type": "code",
      "execution_count": null,
      "metadata": {
        "_cell_guid": "6546c98f-29f7-8973-91f4-1bb8607a25e1"
      },
      "outputs": [],
      "source": [
        "loan_rate_related.shape"
      ]
    },
    {
      "cell_type": "markdown",
      "metadata": {
        "_cell_guid": "0ad2f349-d7bf-7001-3a75-6939dc0d0c79"
      },
      "source": [
        "**d. Deal with data types**"
      ]
    },
    {
      "cell_type": "code",
      "execution_count": null,
      "metadata": {
        "_cell_guid": "6b55fde8-c779-9073-11cb-b713df2ca869"
      },
      "outputs": [],
      "source": [
        "loan_rate_related.dtypes"
      ]
    },
    {
      "cell_type": "markdown",
      "metadata": {
        "_cell_guid": "fc6628b3-a213-7853-b18d-1fe0cd833d9c"
      },
      "source": [
        "convert int_rate to float"
      ]
    },
    {
      "cell_type": "code",
      "execution_count": null,
      "metadata": {
        "_cell_guid": "d3ee18cf-cbc8-9078-c1a6-169f492eeee9"
      },
      "outputs": [],
      "source": [
        "loan_rate_related[\"int_rate\"]=loan_rate_related[\"int_rate\"].apply(lambda x: float(x.rstrip(\"%\")))"
      ]
    },
    {
      "cell_type": "markdown",
      "metadata": {
        "_cell_guid": "b42528c1-3418-3e12-d8a1-f9f023bab44a"
      },
      "source": [
        "**3. Analyze data**"
      ]
    },
    {
      "cell_type": "markdown",
      "metadata": {
        "_cell_guid": "0d510863-89f0-7279-7755-9f5c5adeb7b8"
      },
      "source": [
        " - Next, I will explore how all variables (loan amount, term, grade,\n",
        "   employee length, home ownership, annual income, issue day, purpose,\n",
        "   state, application type) affect interest rate.\n",
        " - It turns out that loan amount, employee length, annual income, home ownership,state and issue month do not affect the interest rate much.\n",
        " - the term, grade, purpose and application type would affect the interest rate to some extent."
      ]
    },
    {
      "cell_type": "code",
      "execution_count": null,
      "metadata": {
        "_cell_guid": "c36a1b30-bcb5-0ba5-d715-b54197c41e59"
      },
      "outputs": [],
      "source": [
        "order = [\"low\", \"medium-low\",\"medium-high\",\"high\"]\n",
        "sns.boxplot(x='loan_amnt_level',y=\"int_rate\",data = loan_rate_related,order=order)\n",
        "plt.title(\"how 'loan amount' affects 'interest rate' \")"
      ]
    },
    {
      "cell_type": "code",
      "execution_count": null,
      "metadata": {
        "_cell_guid": "c76360d0-874f-9407-a9ae-6fa185acc6b4"
      },
      "outputs": [],
      "source": [
        "plt.rc(\"figure\", figsize=(6, 4))\n",
        "sns.boxplot(x='term',y=\"int_rate\",data = loan_rate_related)\n",
        "plt.title(\"how 'term' affects 'interest rate'\")"
      ]
    },
    {
      "cell_type": "code",
      "execution_count": null,
      "metadata": {
        "_cell_guid": "b7d3a37c-aca0-2886-c012-6a7705facb60"
      },
      "outputs": [],
      "source": [
        "plt.rc(\"figure\", figsize=(6, 4))\n",
        "sns.boxplot(x='grade',y=\"int_rate\",data = loan_rate_related,order=[\"A\",\"B\",\"C\",\"D\",\"E\",\"F\",\"G\"])\n",
        "plt.title(\"how 'grade' affects 'interest rate'\")"
      ]
    },
    {
      "cell_type": "code",
      "execution_count": null,
      "metadata": {
        "_cell_guid": "355a5814-7108-e6f2-b93e-0d6308b65122"
      },
      "outputs": [],
      "source": [
        "loan[\"emp_title\"].unique()"
      ]
    },
    {
      "cell_type": "markdown",
      "metadata": {
        "_cell_guid": "c6ad0fc8-9103-b2fb-0d78-d89c746b2bf1"
      },
      "source": [
        "It turns out that there are a lot of employee titles, so I'll skip this one."
      ]
    },
    {
      "cell_type": "code",
      "execution_count": null,
      "metadata": {
        "_cell_guid": "772ae0d6-23b7-8981-e838-b23726fa9e10"
      },
      "outputs": [],
      "source": [
        "loan[\"emp_length\"].unique()"
      ]
    },
    {
      "cell_type": "code",
      "execution_count": null,
      "metadata": {
        "_cell_guid": "35c832df-ea5c-4e65-e8a6-50636a81d783"
      },
      "outputs": [],
      "source": [
        "order = ['1 year', '2 years', '3 years', '4 years',\n",
        "       '5 years', '6 years', '7 years', '8 years', '9 years', '10+ years', 'n/a']\n",
        "plt.rc(\"figure\", figsize=(6, 4))\n",
        "sns.boxplot(x='emp_length',y=\"int_rate\",data = loan_rate_related,order=order)\n",
        "plt.title(\"how 'employee length' affects 'interest rate'\")\n",
        "plt.xticks(size = 10,rotation = 80)"
      ]
    },
    {
      "cell_type": "code",
      "execution_count": null,
      "metadata": {
        "_cell_guid": "9b268652-5617-7058-9ff9-7ed6971db7c1"
      },
      "outputs": [],
      "source": [
        "sns.boxplot(x='annual_inc_level',y=\"int_rate\",data = loan_rate_related)\n",
        "plt.title(\"how 'annual income' affects 'interest rate'\")"
      ]
    },
    {
      "cell_type": "code",
      "execution_count": null,
      "metadata": {
        "_cell_guid": "fe73c05f-7e8e-d2b7-54e1-b027bb6ba9bb"
      },
      "outputs": [],
      "source": [
        "plt.rc(\"figure\", figsize=(6, 4))\n",
        "sns.boxplot(x='home_ownership',y=\"int_rate\",data = loan_rate_related)\n",
        "plt.title(\"how 'home_ownership' affects 'int_rate'\")"
      ]
    },
    {
      "cell_type": "code",
      "execution_count": null,
      "metadata": {
        "_cell_guid": "5181a9ca-6786-c214-cb2c-d2519fab0d41"
      },
      "outputs": [],
      "source": [
        "loan_rate_related[\"issue_d\"].unique()"
      ]
    },
    {
      "cell_type": "markdown",
      "metadata": {
        "_cell_guid": "ba9d9833-9ee1-396e-eb6a-279b0a4a6dad"
      },
      "source": [
        "I'd like to split issue days into issue months and issue years."
      ]
    },
    {
      "cell_type": "code",
      "execution_count": null,
      "metadata": {
        "_cell_guid": "e98289ce-4276-c8b8-64d4-4049403872b0"
      },
      "outputs": [],
      "source": [
        "loan_rate_related[\"issue_d\"] = loan_rate_related[\"issue_d\"].str.split(\"-\")"
      ]
    },
    {
      "cell_type": "code",
      "execution_count": null,
      "metadata": {
        "_cell_guid": "a708f401-2314-567c-b96d-26f41fcecd66"
      },
      "outputs": [],
      "source": [
        "loan_rate_related[\"issue_month\"] = loan_rate_related[\"issue_d\"].str[0]"
      ]
    },
    {
      "cell_type": "code",
      "execution_count": null,
      "metadata": {
        "_cell_guid": "efc09c5b-db15-f1d4-c1f8-ff1946623033"
      },
      "outputs": [],
      "source": [
        "loan_rate_related[\"issue_year\"] = loan_rate_related[\"issue_d\"].str[1]"
      ]
    },
    {
      "cell_type": "code",
      "execution_count": null,
      "metadata": {
        "_cell_guid": "026f4104-7920-a745-8c0f-9f0a58d3bc9a"
      },
      "outputs": [],
      "source": [
        "order = [\"Jan\",\"Feb\",\"Mar\",\"Apr\",\"May\",\"Jun\",\"Jul\",\"Aug\",\"Sep\",\"Oct\",\"Nov\",\"Dec\"]\n",
        "sns.boxplot(x='issue_month',y=\"int_rate\",data = loan_rate_related,order = order)\n",
        "plt.title(\"how 'issu_month' affects 'interest rate'\")"
      ]
    },
    {
      "cell_type": "code",
      "execution_count": null,
      "metadata": {
        "_cell_guid": "8b412157-481d-35c7-8ecd-cf9912e067af"
      },
      "outputs": [],
      "source": [
        "order = np.sort(loan_rate_related[\"issue_year\"].unique().tolist())\n",
        "sns.boxplot(x='issue_year',y=\"int_rate\",data = loan_rate_related, order = order)\n",
        "plt.title(\"how 'issue_year' affects 'interest rate'\")"
      ]
    },
    {
      "cell_type": "code",
      "execution_count": null,
      "metadata": {
        "_cell_guid": "c39ab4b5-0eb6-3972-cb31-84400cfb214a"
      },
      "outputs": [],
      "source": [
        "rate_by_purpose = pd.read_sql_query( \"\"\"\n",
        "SELECT purpose, avg(int_rate) AS avg_rate\n",
        "FROM loan\n",
        "GROUP BY purpose\n",
        "ORDER BY avg_rate desc\n",
        "\"\"\",con)\n",
        "rate_by_purpose"
      ]
    },
    {
      "cell_type": "code",
      "execution_count": null,
      "metadata": {
        "_cell_guid": "f3f25e99-b8ce-604c-de07-6db55d2dc4ba"
      },
      "outputs": [],
      "source": [
        "order = rate_by_purpose[\"purpose\"].tolist()\n",
        "sns.boxplot(x='purpose',y=\"int_rate\",data = loan_rate_related, order = order)\n",
        "plt.xticks(size = 10,rotation = 80)\n",
        "plt.title(\"how 'purpose' affects 'interest rate'\")"
      ]
    },
    {
      "cell_type": "code",
      "execution_count": null,
      "metadata": {
        "_cell_guid": "bc937ff4-c0ea-0b9f-cd6a-bc3c32b381e3"
      },
      "outputs": [],
      "source": [
        "rate_by_state = pd.read_sql_query( \"\"\"\n",
        "SELECT addr_state, avg(int_rate) AS avg_rate\n",
        "FROM loan\n",
        "GROUP BY addr_state\n",
        "ORDER BY avg_rate desc\n",
        "\"\"\",con)\n",
        "rate_by_state"
      ]
    },
    {
      "cell_type": "code",
      "execution_count": null,
      "metadata": {
        "_cell_guid": "c67903a8-e575-2af0-fe68-1bc548479bed"
      },
      "outputs": [],
      "source": [
        "plt.rc(\"figure\", figsize=(9, 4))\n",
        "order = rate_by_state[\"addr_state\"].tolist()\n",
        "sns.boxplot(x='addr_state',y=\"int_rate\",data = loan_rate_related, order = order)\n",
        "plt.xticks(size = 10,rotation = 80)\n",
        "plt.title(\"how 'state' affects 'interest rate'\")"
      ]
    },
    {
      "cell_type": "code",
      "execution_count": null,
      "metadata": {
        "_cell_guid": "5c16e5e3-7d61-4381-bf13-40c460d71d5b"
      },
      "outputs": [],
      "source": [
        "plt.rc(\"figure\", figsize=(6, 4))\n",
        "sns.boxplot(x='application_type',y=\"int_rate\",data = loan_rate_related)\n",
        "plt.title(\"how 'application type' affects 'interest rate'\")"
      ]
    },
    {
      "cell_type": "markdown",
      "metadata": {
        "_cell_guid": "aec1a769-dd67-6601-5fea-35c963b52c3a"
      },
      "source": [
        " - It turns out that loan amount, employee length, annual income, home ownership,state and issue month do not affect the interest rate much.\n",
        " - the term, grade, purpose and application type would affect the interest rate to some extent.\n",
        " - Conclusion: It's very likely that you can get low interest rate if the term is 36 months, the grade is low, the purpose is one of educational, car or credit card, the state is Idaho, and the type is \"individual\"!"
      ]
    },
    {
      "cell_type": "code",
      "execution_count": null,
      "metadata": {
        "_cell_guid": "b4611736-92af-4aa7-961c-3ec4fe4ec8bd"
      },
      "outputs": [],
      "source": ""
    }
  ],
  "metadata": {
    "_change_revision": 0,
    "_is_fork": false,
    "kernelspec": {
      "display_name": "Python 3",
      "language": "python",
      "name": "python3"
    },
    "language_info": {
      "codemirror_mode": {
        "name": "ipython",
        "version": 3
      },
      "file_extension": ".py",
      "mimetype": "text/x-python",
      "name": "python",
      "nbconvert_exporter": "python",
      "pygments_lexer": "ipython3",
      "version": "3.5.2"
    }
  },
  "nbformat": 4,
  "nbformat_minor": 0
}