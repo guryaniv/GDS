{
  "cells": [
    {
      "cell_type": "code",
      "execution_count": null,
      "metadata": {
        "_cell_guid": "888120e4-a053-a2a0-538d-8b2606fc73ad"
      },
      "outputs": [],
      "source": [
        "import numpy as np\n",
        "import pandas as pd\n",
        "from sklearn.feature_extraction.text import CountVectorizer\n",
        "from sklearn.preprocessing import LabelEncoder\n",
        "from sklearn.model_selection import StratifiedKFold\n",
        "import random\n",
        "from math import exp\n",
        "import xgboost as xgb\n",
        "from sklearn.ensemble import RandomForestClassifier\n",
        "from sklearn.model_selection import train_test_split\n",
        "from sklearn.metrics import log_loss\n",
        "\n",
        "random.seed(4321)\n",
        "np.random.seed(4321)\n",
        "\n",
        "train_df = pd.read_json(\"../input/train.json\")\n",
        "test_df = pd.read_json(\"../input/test.json\")\n",
        "train_test = pd.concat([train_df, test_df], 0)"
      ]
    },
    {
      "cell_type": "code",
      "execution_count": null,
      "metadata": {
        "_cell_guid": "4e09abea-033e-94d4-a6bb-a5b261812550"
      },
      "outputs": [],
      "source": [
        "print(train_df.shape)\n",
        "print(test_df.shape)"
      ]
    },
    {
      "cell_type": "code",
      "execution_count": null,
      "metadata": {
        "_cell_guid": "a25dcdc0-ace1-decf-9a94-a42a68b3f48b"
      },
      "outputs": [],
      "source": [
        "train_df.head(5)"
      ]
    },
    {
      "cell_type": "code",
      "execution_count": null,
      "metadata": {
        "_cell_guid": "6d304729-4946-0c70-fc8e-7d8b1d41fd8b"
      },
      "outputs": [],
      "source": [
        "test_df.head(5)"
      ]
    },
    {
      "cell_type": "code",
      "execution_count": null,
      "metadata": {
        "_cell_guid": "49a033e6-9c41-946b-b128-6cf29d331225"
      },
      "outputs": [],
      "source": [
        "df = pd.read_json(open(\"../input/train.json\", \"r\"))\n",
        "\n",
        "df[\"num_photos\"] = df[\"photos\"].apply(len)\n",
        "df[\"num_features\"] = df[\"features\"].apply(len)\n",
        "df[\"num_description_words\"] = df[\"description\"].apply(lambda x: len(x.split(\" \")))\n",
        "df[\"created\"] = pd.to_datetime(df[\"created\"])\n",
        "df[\"created_year\"] = df[\"created\"].dt.year\n",
        "df[\"created_month\"] = df[\"created\"].dt.month\n",
        "df[\"created_day\"] = df[\"created\"].dt.day"
      ]
    },
    {
      "cell_type": "code",
      "execution_count": null,
      "metadata": {
        "_cell_guid": "b194c4c1-48e7-723f-5572-0eb3fb2c29a4"
      },
      "outputs": [],
      "source": [
        "X_train.summary()"
      ]
    },
    {
      "cell_type": "code",
      "execution_count": null,
      "metadata": {
        "_cell_guid": "998d4fdc-1660-49cb-cfc7-30531d1ff960"
      },
      "outputs": [],
      "source": [
        "num_feats = [\"bathrooms\", \"bedrooms\", \"latitude\", \"longitude\", \"price\",\n",
        "             \"num_photos\", \"num_features\", \"num_description_words\",\n",
        "             \"created_year\", \"created_month\", \"created_day\"]\n",
        "X = df[num_feats]\n",
        "y = df[\"interest_level\"]\n",
        "X.head()"
      ]
    },
    {
      "cell_type": "code",
      "execution_count": null,
      "metadata": {
        "_cell_guid": "cd141193-dcab-4616-aaed-069f5ca7d6df"
      },
      "outputs": [],
      "source": [
        "X_train.loc[10000,\"photos\"]"
      ]
    },
    {
      "cell_type": "code",
      "execution_count": null,
      "metadata": {
        "_cell_guid": "fc2cec21-57fd-d52d-e263-5e8ead176c46"
      },
      "outputs": [],
      "source": [
        "X_train, X_val, y_train, y_val = train_test_split(X, y, test_size=0.33)\n",
        "\n",
        "clf = RandomForestClassifier(n_estimators=1000)\n",
        "clf.fit(X_train, y_train)\n",
        "y_val_pred = clf.predict_proba(X_val)\n",
        "log_loss(y_val, y_val_pred)\n"
      ]
    },
    {
      "cell_type": "code",
      "execution_count": null,
      "metadata": {
        "_cell_guid": "4a9f354a-67a0-aa50-559a-99cd89bf19d6"
      },
      "outputs": [],
      "source": [
        "## make prediction"
      ]
    },
    {
      "cell_type": "code",
      "execution_count": null,
      "metadata": {
        "_cell_guid": "a0d7c36c-7f17-0851-2510-554917a97576"
      },
      "outputs": [],
      "source": [
        "df = pd.read_json(open(\"../input/test.json\", \"r\"))\n",
        "print(df.shape)\n",
        "df[\"num_photos\"] = df[\"photos\"].apply(len)\n",
        "df[\"num_features\"] = df[\"features\"].apply(len)\n",
        "df[\"num_description_words\"] = df[\"description\"].apply(lambda x: len(x.split(\" \")))\n",
        "df[\"created\"] = pd.to_datetime(df[\"created\"])\n",
        "df[\"created_year\"] = df[\"created\"].dt.year\n",
        "df[\"created_month\"] = df[\"created\"].dt.month\n",
        "df[\"created_day\"] = df[\"created\"].dt.day\n",
        "X = df[num_feats]\n",
        "\n",
        "y = clf.predict_proba(X)"
      ]
    },
    {
      "cell_type": "code",
      "execution_count": null,
      "metadata": {
        "_cell_guid": "05005935-1724-c6e2-fe63-9eeb1587cf3e"
      },
      "outputs": [],
      "source": [
        "labels2idx = {label: i for i, label in enumerate(clf.classes_)}\n",
        "labels2idx"
      ]
    },
    {
      "cell_type": "code",
      "execution_count": null,
      "metadata": {
        "_cell_guid": "785ef1e2-d3d3-bb24-dfe4-73ba67f606eb"
      },
      "outputs": [],
      "source": [
        "sub = pd.DataFrame()\n",
        "sub[\"listing_id\"] = df[\"listing_id\"]\n",
        "for label in [\"high\", \"medium\", \"low\"]:\n",
        "    sub[label] = y[:, labels2idx[label]]\n",
        "sub.to_csv(\"submission_rf.csv\", index=False)"
      ]
    }
  ],
  "metadata": {
    "_change_revision": 0,
    "_is_fork": false,
    "kernelspec": {
      "display_name": "Python 3",
      "language": "python",
      "name": "python3"
    },
    "language_info": {
      "codemirror_mode": {
        "name": "ipython",
        "version": 3
      },
      "file_extension": ".py",
      "mimetype": "text/x-python",
      "name": "python",
      "nbconvert_exporter": "python",
      "pygments_lexer": "ipython3",
      "version": "3.6.0"
    }
  },
  "nbformat": 4,
  "nbformat_minor": 0
}