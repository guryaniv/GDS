{
  "cells": [
    {
      "cell_type": "code",
      "execution_count": null,
      "metadata": {
        "_cell_guid": "84a5d7a5-2afb-216d-fc0b-febeabf5da5b"
      },
      "outputs": [],
      "source": [
        "# This Python 3 environment comes with many helpful analytics libraries installed\n",
        "# It is defined by the kaggle/python docker image: https://github.com/kaggle/docker-python\n",
        "# For example, here's several helpful packages to load in \n",
        "\n",
        "import numpy as np # linear algebra\n",
        "import pandas as pd # data processing, CSV file I/O (e.g. pd.read_csv)\n",
        "from PIL import Image\n",
        "import tensorflow as tf\n",
        "import math\n",
        "import timeit\n",
        "import matplotlib.pyplot as plt\n",
        "%matplotlib inline\n",
        "\n",
        "# Input data files are available in the \"../input/\" directory.\n",
        "# For example, running this (by clicking run or pressing Shift+Enter) will list the files in the input directory\n",
        "\n",
        "from subprocess import check_output\n",
        "print(check_output([\"ls\", \"../input\"]).decode(\"utf8\"))\n",
        "\n",
        "df=pd.read_csv('../input/train.csv')\n",
        "data = df.values[:, 2:]\n",
        "N = data.shape[0]\n",
        "F = 3\n",
        "D = 64\n",
        "C = 99\n",
        "features = data.reshape(N, D, F)\n",
        "ids = df.values[:, 0]\n",
        "names = df.values[:, 1]\n",
        "name_mapping = {}\n",
        "name_unique = np.unique(names)\n",
        "for i in range(C):\n",
        "    name_mapping[name_unique[i]] = i\n",
        "\n",
        "labels = np.zeros(N, np.int64)\n",
        "for i in range(N):\n",
        "    labels[i] = name_mapping[names[i]]\n",
        "\n",
        "df=pd.read_csv('../input/test.csv')\n",
        "testing_ids = df.values[:, 0]\n",
        "testing_data = df.values[:, 1:]\n",
        "testing_features = testing_data.reshape(testing_data.shape[0], D, F)\n",
        "    \n",
        "print(features.shape, ids.shape, names.shape)\n",
        "#images = np.zeros(N, )\n",
        "#for i in range(N):\n",
        "#    im = Image.open(\"../input/images/\"+str(i + 1)+\".jpg\")\n",
        "#    image = np.array(im)\n",
        "#    print(image.shape)\n",
        "#    #mage_list.append(image)\n",
        "#images = np.asarray(image_list)\n",
        "#print(images.shape)\n",
        "# Any results you write to the current directory are saved as output."
      ]
    },
    {
      "cell_type": "code",
      "execution_count": null,
      "metadata": {
        "_cell_guid": "4b94fde3-ebdb-9f12-3267-1e75bfcadaac"
      },
      "outputs": [],
      "source": [
        ""
      ]
    },
    {
      "cell_type": "code",
      "execution_count": null,
      "metadata": {
        "_cell_guid": "2ff8ccae-9695-6c72-5499-a892b9e7e190"
      },
      "outputs": [],
      "source": [
        "def random_batch(batch_num = 200):\n",
        "    index = np.random.randint(0, N, 200)\n",
        "    return (features[index], ids[index], labels[index])"
      ]
    },
    {
      "cell_type": "code",
      "execution_count": null,
      "metadata": {
        "_cell_guid": "197d6623-8bbb-9184-8dd3-1d61a588f9d8"
      },
      "outputs": [],
      "source": [
        "x = tf.placeholder(tf.float32, shape = (None, D, F))\n",
        "y = tf.placeholder(tf.int64, shape = (None))\n",
        "\n",
        "w_conv1 = tf.Variable(tf.random_normal((7, 3, 32)))\n",
        "b_conv1 = tf.Variable(tf.zeros(32))\n",
        "conv = tf.nn.conv1d(x, w_conv1, stride = 2, padding = 'VALID') + b_conv1\n",
        "h1 = tf.nn.relu(conv)\n",
        "\n",
        "h1_flat = tf.reshape(h1,[-1,928])\n",
        "\n",
        "w1 = tf.Variable(tf.random_normal((928, 64)))\n",
        "b1 = tf.Variable(tf.zeros(64))\n",
        "\n",
        "a2 = tf.matmul(h1_flat, w1) + b1\n",
        "h2 = tf.nn.relu(a2)\n",
        "\n",
        "w2 = tf.Variable(tf.random_normal((64, C)))\n",
        "b2 = tf.Variable(tf.zeros(C))\n",
        "\n",
        "out = tf.matmul(h2, w2) + b2\n",
        "\n",
        "y_pred = tf.argmax(out, 1)\n",
        "\n",
        "mean_loss = tf.reduce_mean(tf.nn.sparse_softmax_cross_entropy_with_logits(logits=out, labels=y))\n",
        "\n",
        "optimizer = tf.train.RMSPropOptimizer(learning_rate = 1e-2)\n",
        "\n",
        "step = optimizer.minimize(mean_loss)\n",
        "\n",
        "prob = out / tf.reduce_sum(out, axis = 1, keep_dims = True)\n",
        "prob = tf.maximum(prob, 1e-15)\n",
        "prob = tf.minimum(prob, 1 - 1e-15)\n",
        "\n",
        "correct_prediction = tf.equal(y, y_pred)\n",
        "accuracy = tf.reduce_mean(tf.cast(correct_prediction, tf.float32))\n"
      ]
    },
    {
      "cell_type": "code",
      "execution_count": null,
      "metadata": {
        "_cell_guid": "05b3def6-64ac-2114-7874-5e82ac98186b"
      },
      "outputs": [],
      "source": [
        "sess = tf.InteractiveSession()\n",
        "sess.run(tf.global_variables_initializer())\n",
        "\n",
        "for k in range(500):\n",
        "    batch_xs, batch_ids, batch_labels = random_batch()\n",
        "    loss, _ = sess.run([mean_loss, step], feed_dict={x: batch_xs, y: batch_labels})\n",
        "    if k % 50 == 0:\n",
        "        print(\"loss: \", loss)\n",
        "    \n",
        "val_xs, val_ids, val_labels = random_batch()\n",
        "accuracy = sess.run([accuracy], feed_dict={x: val_xs, y: val_labels})\n",
        "print(\"accuracy: \", accuracy)"
      ]
    },
    {
      "cell_type": "code",
      "execution_count": null,
      "metadata": {
        "_cell_guid": "7aec8fcb-4191-7a0e-feba-e8db20c7332a"
      },
      "outputs": [],
      "source": [
        "prob = sess.run([prob], feed_dict={x: testing_features})\n",
        "prob_array = np.asarray(prob[0])"
      ]
    },
    {
      "cell_type": "code",
      "execution_count": null,
      "metadata": {
        "_cell_guid": "238c1613-6a16-189a-78c5-31b9ac21048c"
      },
      "outputs": [],
      "source": [
        "#for i in range(C):\n",
        "    #print(name_unique[i])"
      ]
    },
    {
      "cell_type": "code",
      "execution_count": null,
      "metadata": {
        "_cell_guid": "d1e53c84-2f4a-8adc-52c9-554aa3138ba1"
      },
      "outputs": [],
      "source": [
        "for i in range(prob_array.shape[0]):\n",
        "    #print(testing_ids[i], \"id\")\n",
        "    for k in range(C):\n",
        "        #print(prob_array[i][k])\n",
        "    #print(\"|\")"
      ]
    }
  ],
  "metadata": {
    "_change_revision": 0,
    "_is_fork": false,
    "kernelspec": {
      "display_name": "Python 3",
      "language": "python",
      "name": "python3"
    },
    "language_info": {
      "codemirror_mode": {
        "name": "ipython",
        "version": 3
      },
      "file_extension": ".py",
      "mimetype": "text/x-python",
      "name": "python",
      "nbconvert_exporter": "python",
      "pygments_lexer": "ipython3",
      "version": "3.6.0"
    }
  },
  "nbformat": 4,
  "nbformat_minor": 0
}