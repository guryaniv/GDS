{
  "cells": [
    {
      "cell_type": "markdown",
      "metadata": {
        "_cell_guid": "75f2512a-7d01-3c26-a303-9d53faaac5f6"
      },
      "source": [
        "Here we go .... wooooshhhh ....... !!!!!!\n",
        "\n",
        "Lets fuel up our tank to run."
      ]
    },
    {
      "cell_type": "code",
      "execution_count": null,
      "metadata": {
        "_cell_guid": "3facc729-d64a-d890-13cd-3da53d702cc4"
      },
      "outputs": [],
      "source": [
        "import pandas as pd\n",
        "import matplotlib.pyplot as plt\n",
        "import seaborn as sns\n",
        "import numpy as np\n",
        "from scipy.stats import norm\n",
        "from sklearn.preprocessing import StandardScaler\n",
        "from scipy import stats\n",
        "import warnings\n",
        "warnings.filterwarnings('ignore')\n",
        "%matplotlib inline\n",
        "from sklearn import model_selection, preprocessing\n",
        "import xgboost as xgb\n",
        "\n",
        "train = pd.read_csv(\"../input/train.csv\")\n",
        "test = pd.read_csv(\"../input/test.csv\")\n",
        "print(\"train:\", train.shape)\n",
        "print(\"test:\" ,test.shape)"
      ]
    },
    {
      "cell_type": "markdown",
      "metadata": {
        "_cell_guid": "09e6257e-27b3-3eee-d58b-424e06d6add6"
      },
      "source": [
        "Lets know something about destination. Thank God! minimum is non zero."
      ]
    },
    {
      "cell_type": "code",
      "execution_count": null,
      "metadata": {
        "_cell_guid": "1ad42764-39e8-ceff-6ce9-139e4c907527"
      },
      "outputs": [],
      "source": [
        "train['price_doc'].describe()"
      ]
    },
    {
      "cell_type": "markdown",
      "metadata": {
        "_cell_guid": "b0181b77-15bc-4702-96c4-545c472c8280"
      },
      "source": [
        "Hmm.... bit skewed yet yummy ..."
      ]
    },
    {
      "cell_type": "code",
      "execution_count": null,
      "metadata": {
        "_cell_guid": "13628ae0-014e-b17c-6c6b-88ccd205030c"
      },
      "outputs": [],
      "source": [
        "plt.figure(figsize=(12,8))\n",
        "sns.violinplot([train.price_doc])\n",
        "plt.xlabel('price', fontsize=12)"
      ]
    },
    {
      "cell_type": "markdown",
      "metadata": {
        "_cell_guid": "ac429fba-9934-3b7b-16cb-5eb65cda215c"
      },
      "source": [
        "skewness and kurtosis"
      ]
    },
    {
      "cell_type": "code",
      "execution_count": null,
      "metadata": {
        "_cell_guid": "9835ef5f-ad97-73cb-6741-97dc4eeba150"
      },
      "outputs": [],
      "source": [
        "#skewness and kurtosis\n",
        "print(\"Skewness: %f\" % train['price_doc'].skew())\n",
        "print(\"Kurtosis: %f\" % train['price_doc'].kurt())"
      ]
    },
    {
      "cell_type": "code",
      "execution_count": null,
      "metadata": {
        "_cell_guid": "b69d119a-d5ef-2853-fe9f-140353ced745"
      },
      "outputs": [],
      "source": [
        "plt.figure(figsize=(12,8))\n",
        "sns.violinplot(np.log(train.price_doc.values))\n",
        "plt.xlabel('price', fontsize=12)\n",
        "plt.show()"
      ]
    },
    {
      "cell_type": "markdown",
      "metadata": {
        "_cell_guid": "74ce1a27-527e-5eb9-9770-47ac6cbf1563"
      },
      "source": [
        "Yupp, time travels ... Thats true !!"
      ]
    },
    {
      "cell_type": "code",
      "execution_count": null,
      "metadata": {
        "_cell_guid": "fb6a89c7-a2a2-ef62-f718-19d9a8a986a5"
      },
      "outputs": [],
      "source": [
        "train['timestamp']=pd.to_datetime(train.timestamp, format ='%Y %m %d',errors='coerce');\n",
        "x=pd.DataFrame([train.timestamp.dt.month,train.timestamp.dt.year,train.price_doc]).T\n",
        "x.columns=['month','year','price']\n",
        "y=x.groupby(['year','month'])['price'].aggregate(np.std).reset_index()\n",
        "plt.figure(figsize=(12,8))\n",
        "color = sns.color_palette()\n",
        "sns.barplot(y.year.astype(str).str.cat(y.month.astype(str), sep='-'), y.price.values, alpha=0.8, color=color[3])\n",
        "plt.ylabel('Median Price', fontsize=15)\n",
        "plt.xlabel('Year-Month', fontsize=15)\n",
        "plt.xticks(rotation='vertical')\n",
        "plt.show()"
      ]
    },
    {
      "cell_type": "markdown",
      "metadata": {
        "_cell_guid": "d07fbe3e-92c5-7ca3-4ac4-880018059450"
      },
      "source": [
        "ohh, so many girls out there. Lets checkout some."
      ]
    },
    {
      "cell_type": "code",
      "execution_count": null,
      "metadata": {
        "_cell_guid": "2168b62c-ffd2-75cd-971b-f8cd56e1db6d"
      },
      "outputs": [],
      "source": [
        "for f in train.columns:\n",
        "    if train[f].dtype=='object':\n",
        "        lbl = preprocessing.LabelEncoder()\n",
        "        train[f] = lbl.fit_transform(list(train[f].values))\n",
        "        \n",
        "train_y = train.price_doc.values\n",
        "train_X = train.drop([\"id\", \"timestamp\", \"price_doc\"], axis=1)\n",
        "\n",
        "xgb_params = {\n",
        "    'eta': 0.02,\n",
        "    'max_depth': 8,\n",
        "    'subsample': 0.7,\n",
        "    'colsample_bytree': 0.7,\n",
        "    'objective': 'reg:linear',\n",
        "    'eval_metric': 'rmse',\n",
        "    'silent': 1\n",
        "}\n",
        "dtrain = xgb.DMatrix(train_X, train_y, feature_names=train_X.columns.values)\n",
        "model = xgb.train(dict(xgb_params, silent=0), dtrain, num_boost_round=100)\n",
        "\n",
        "# plot the important features #\n",
        "fig, ax = plt.subplots(figsize=(6,18))\n",
        "xgb.plot_importance(model, max_num_features=50, height=0.8, ax=ax)\n",
        "plt.show()"
      ]
    },
    {
      "cell_type": "markdown",
      "metadata": {
        "_cell_guid": "97da69ed-2264-ab2f-3619-998f998ca32c"
      },
      "source": [
        "That one in full seems to be interested. Linearly interested."
      ]
    },
    {
      "cell_type": "code",
      "execution_count": null,
      "metadata": {
        "_cell_guid": "c557724c-c1cf-31f5-d67e-8acef4cf140d"
      },
      "outputs": [],
      "source": [
        "#box plot overallqual/saleprice\n",
        "var = 'full_sq'\n",
        "data = pd.concat([train['price_doc'], train[var]], axis=1)\n",
        "f, ax = plt.subplots(figsize=(13, 6))\n",
        "fig = sns.boxplot(x=var, y=\"price_doc\", data=data)\n",
        "plt.xticks(rotation=90);"
      ]
    },
    {
      "cell_type": "markdown",
      "metadata": {
        "_cell_guid": "02f1b5a4-aa3a-f030-e24d-156c96a8ca12"
      },
      "source": [
        "Save neck. Talk to only unrelated ones ! \n",
        "Better to do analysis first."
      ]
    },
    {
      "cell_type": "code",
      "execution_count": null,
      "metadata": {
        "_cell_guid": "7158083d-a2e4-278b-979a-8e59274558b5"
      },
      "outputs": [],
      "source": [
        "#correlation matrix\n",
        "train_df=train[['full_sq','life_sq','floor','build_year','max_floor','kitch_sq','num_room','state','school_km','metro_min_avto','kindergarten_km','material','railroad_km', 'swim_pool_km','sub_area','industrial_km','green_zone_km','price_doc']]\n",
        "corrmat = train_df.corr()\n",
        "f, ax = plt.subplots(figsize=(12, 12))\n",
        "sns.heatmap(corrmat, vmax=1, square=True, annot=True);"
      ]
    },
    {
      "cell_type": "markdown",
      "metadata": {
        "_cell_guid": "5a323528-5017-1858-2bbf-c0eca297c4f8"
      },
      "source": [
        "I miss you all :'("
      ]
    },
    {
      "cell_type": "code",
      "execution_count": null,
      "metadata": {
        "_cell_guid": "6b15dd2d-b790-fa01-aa95-43e7aadc88e1"
      },
      "outputs": [],
      "source": [
        "#missing data\n",
        "train_missing=train.isnull().sum(axis=0).reset_index() #return true/false for missing. sum number of misses\n",
        "train_missing.columns=[\"column header\", \"missing count\"] # define header\n",
        "train_missing=train_missing.ix[train_missing[\"missing count\"]>0]\n",
        "plt.figure(figsize=(8,20))\n",
        "sns.barplot(train_missing['missing count'],train_missing['column header'],alpha=1, color=color[5])\n",
        "plt.ylabel('Header', fontsize=15)\n",
        "plt.xlabel('Missing Counts', fontsize=15)\n",
        "plt.show()"
      ]
    },
    {
      "cell_type": "markdown",
      "metadata": {
        "_cell_guid": "71796e33-5456-a557-375b-a09ed01c1e46"
      },
      "source": [
        "wait wait ..!! \n",
        "\n",
        "0 build_year ... who told me humans were evolved so late :-/ liar world.\n",
        "\n",
        "mean is 3068 year ... I thought time machine does not exit. :-/ \n",
        "\n",
        "\n",
        "Stay tuned for data cleaning ..... Thanks. Bye till next revision."
      ]
    },
    {
      "cell_type": "code",
      "execution_count": null,
      "metadata": {
        "_cell_guid": "209ac860-9b08-8c3f-2e92-7d790b7b25ad"
      },
      "outputs": [],
      "source": [
        "print('max value in build year:', np.max(train_df['build_year']))\n",
        "print('min value in build year:',np.min(train_df['build_year']))\n",
        "print('mean value in build year:',np.mean(train_df['build_year']))\n",
        "year=pd.DataFrame(np.sort(train_df['build_year']))\n",
        "year.columns=['year']\n",
        "year"
      ]
    }
  ],
  "metadata": {
    "_change_revision": 0,
    "_is_fork": false,
    "kernelspec": {
      "display_name": "Python 3",
      "language": "python",
      "name": "python3"
    },
    "language_info": {
      "codemirror_mode": {
        "name": "ipython",
        "version": 3
      },
      "file_extension": ".py",
      "mimetype": "text/x-python",
      "name": "python",
      "nbconvert_exporter": "python",
      "pygments_lexer": "ipython3",
      "version": "3.6.0"
    }
  },
  "nbformat": 4,
  "nbformat_minor": 0
}