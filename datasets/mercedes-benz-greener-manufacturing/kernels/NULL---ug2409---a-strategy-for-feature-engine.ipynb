{
  "cells": [
    {
      "cell_type": "markdown",
      "metadata": {
        "_cell_guid": "049892f8-136f-5c17-a275-5149c5be88bf"
      },
      "source": [
        " Feature engineering in this competition is quite challenging as the column names have been masked. I have tried many approaches of adding, multiplying etc. which all have failed. The number of combinations that we can make using the given columns is too huge. To tackle this and to reduce the number of combinations I have created the following strategy for feature engineering. I hope it helps."
      ]
    },
    {
      "cell_type": "code",
      "execution_count": null,
      "metadata": {
        "_cell_guid": "d2c5f593-a839-127f-0073-1136a1e02e87"
      },
      "outputs": [],
      "source": [
        "# This Python 3 environment comes with many helpful analytics libraries installed\n",
        "# It is defined by the kaggle/python docker image: https://github.com/kaggle/docker-python\n",
        "# For example, here's several helpful packages to load in \n",
        "\n",
        "import numpy as np # linear algebra\n",
        "import pandas as pd # data processing, CSV file I/O (e.g. pd.read_csv)\n",
        "\n",
        "# Input data files are available in the \"../input/\" directory.\n",
        "# For example, running this (by clicking run or pressing Shift+Enter) will list the files in the input directory\n",
        "\n",
        "from subprocess import check_output\n",
        "print(check_output([\"ls\", \"../input\"]).decode(\"utf8\"))\n",
        "\n",
        "# Any results you write to the current directory are saved as output.\n",
        "\n",
        "import warnings\n",
        "warnings.filterwarnings('ignore')\n",
        "from sklearn.cross_validation import cross_val_score\n",
        "from sklearn.metrics import r2_score"
      ]
    },
    {
      "cell_type": "code",
      "execution_count": null,
      "metadata": {
        "_cell_guid": "11a0ed19-eb12-abf5-60e3-f08252c8f282"
      },
      "outputs": [],
      "source": [
        "train = pd.read_csv('../input/train.csv')\n",
        "test = pd.read_csv('../input/test.csv')"
      ]
    },
    {
      "cell_type": "code",
      "execution_count": null,
      "metadata": {
        "_cell_guid": "0affeebc-dd94-c431-e6eb-fd7246eb932e"
      },
      "outputs": [],
      "source": [
        "# Remove the outlier\n",
        "train=train[train.y<250]"
      ]
    },
    {
      "cell_type": "markdown",
      "metadata": {
        "_cell_guid": "eef28cf5-845a-847c-7965-caecec6bcd19"
      },
      "source": [
        "### ** The strategy **\n",
        "#### First we split the data into two parts. Using the cross validated results try finding out which range of values have max error. In this example I take 100."
      ]
    },
    {
      "cell_type": "code",
      "execution_count": null,
      "metadata": {
        "_cell_guid": "eed547e4-f065-6770-95a7-d0ce5c6dfe86"
      },
      "outputs": [],
      "source": [
        "# Check no. of rows greater than equal to 100\n",
        "len(train['y'][(train.y>=100)])"
      ]
    },
    {
      "cell_type": "code",
      "execution_count": null,
      "metadata": {
        "_cell_guid": "e6421da6-0cfe-11e4-2e74-bbc548f0286d"
      },
      "outputs": [],
      "source": [
        "# Check no. of rows less than 100\n",
        "len(train['y'][(train.y<100)])"
      ]
    },
    {
      "cell_type": "markdown",
      "metadata": {
        "_cell_guid": "c39fb86b-6b2b-c503-fa4a-5b86d673bb01"
      },
      "source": [
        "#### Now we convert the training set into a classification problem. Create a new field for class."
      ]
    },
    {
      "cell_type": "code",
      "execution_count": null,
      "metadata": {
        "_cell_guid": "f8999229-6bdc-5402-b587-6da64b1d5e90"
      },
      "outputs": [],
      "source": [
        "train['y_class'] = train.y.apply(lambda x: 0 if x<100  else 1 )"
      ]
    },
    {
      "cell_type": "code",
      "execution_count": null,
      "metadata": {
        "_cell_guid": "8ffae60b-66d1-39b3-fe77-d094f44cb2c0"
      },
      "outputs": [],
      "source": [
        "# Concat the datasets\n",
        "data = pd.concat([train,test])"
      ]
    },
    {
      "cell_type": "code",
      "execution_count": null,
      "metadata": {
        "_cell_guid": "fc12563f-58d9-f23a-1dee-b1987afe913c"
      },
      "outputs": [],
      "source": [
        "# Removing object type vars as I am more interested in binary ones\n",
        "data = data.drop(data.select_dtypes(include = ['object']).columns,axis=1)"
      ]
    },
    {
      "cell_type": "code",
      "execution_count": null,
      "metadata": {
        "_cell_guid": "c1dbac04-ea27-680a-bf58-3a55bf087068"
      },
      "outputs": [],
      "source": [
        "feat = list(data.drop(['y','y_class'],axis=1).columns.values)"
      ]
    },
    {
      "cell_type": "code",
      "execution_count": null,
      "metadata": {
        "_cell_guid": "cfbdf854-998f-a9b4-9561-0d22318f0ad4"
      },
      "outputs": [],
      "source": [
        "train_df = (data[:train.shape[0]])\n",
        "test_df = (data[train.shape[0]:])"
      ]
    },
    {
      "cell_type": "code",
      "execution_count": null,
      "metadata": {
        "_cell_guid": "370034a1-5ca3-9cc9-d304-e68fcec1bffe"
      },
      "outputs": [],
      "source": [
        "# I have not removed zero valued columns for now\n",
        "len(feat)"
      ]
    },
    {
      "cell_type": "code",
      "execution_count": null,
      "metadata": {
        "_cell_guid": "f2712965-5aa8-a278-e752-c286133687dc"
      },
      "outputs": [],
      "source": [
        "# Remove ID as we want some honest features :)\n",
        "feat.remove('ID')"
      ]
    },
    {
      "cell_type": "code",
      "execution_count": null,
      "metadata": {
        "_cell_guid": "e7fbfce3-3968-f91c-5832-cd41e168b4ab"
      },
      "outputs": [],
      "source": [
        "from sklearn.metrics import f1_score as f1"
      ]
    },
    {
      "cell_type": "code",
      "execution_count": null,
      "metadata": {
        "_cell_guid": "d9eb86e2-2d8d-857f-ee96-e8a8ef057d7a"
      },
      "outputs": [],
      "source": [
        "# Calculating CV score\n",
        "def cv_score(model):\n",
        "    return cross_val_score(model,train_df[feat],train_df['y_class'],cv=10,scoring = 'f1').mean()"
      ]
    },
    {
      "cell_type": "markdown",
      "metadata": {
        "_cell_guid": "fde7d3b8-83c7-02eb-c602-a5257261b945"
      },
      "source": [
        "### Now, the interesting part. \n",
        "> Decision trees are the basic entities that make up complex algos like XGB. But to understand the rules on the which splitting happens is not possible in XGB. Here, we build decision trees to understand the rules and build features for the same. Lets go!"
      ]
    },
    {
      "cell_type": "code",
      "execution_count": null,
      "metadata": {
        "_cell_guid": "d18c4892-9bf8-5675-9c77-0d80a0e71c28"
      },
      "outputs": [],
      "source": [
        "from sklearn.tree import DecisionTreeClassifier as DTC"
      ]
    },
    {
      "cell_type": "code",
      "execution_count": null,
      "metadata": {
        "_cell_guid": "b6eacb54-36af-7309-1fc1-130aad7faab9"
      },
      "outputs": [],
      "source": [
        "model = DTC(max_depth = 5,min_samples_split=200) # We don't want to overfit"
      ]
    },
    {
      "cell_type": "markdown",
      "metadata": {
        "_cell_guid": "2e4d451d-96f7-cf9a-982e-bc0cf4cd0650"
      },
      "source": [
        "> Its important to notice that there is no sense in keeping high depth values. Since we need strong features, the rules should have considerably large sample size in the leaves. For small sample size values, the feature may not be that strong. "
      ]
    },
    {
      "cell_type": "code",
      "execution_count": null,
      "metadata": {
        "_cell_guid": "8d128ef2-4893-85d0-2f98-3266c42dccae"
      },
      "outputs": [],
      "source": [
        "cv_score(model) "
      ]
    },
    {
      "cell_type": "markdown",
      "metadata": {
        "_cell_guid": "977cc9b9-ffe1-94d5-e835-db2751294071"
      },
      "source": [
        "> F1 looks good! But sometimes it may not. Doesn't matter, as we want the branches with good gini scores and sample size"
      ]
    },
    {
      "cell_type": "code",
      "execution_count": null,
      "metadata": {
        "_cell_guid": "75ffceb5-da3d-7322-9b60-5267510a6873"
      },
      "outputs": [],
      "source": [
        "model.fit(train_df[feat],train_df.y_class)"
      ]
    },
    {
      "cell_type": "markdown",
      "metadata": {
        "_cell_guid": "62468c97-5856-2b27-e802-696b429be0d4"
      },
      "source": [
        "#### > To visualize the tree we use graphviz"
      ]
    },
    {
      "cell_type": "code",
      "execution_count": null,
      "metadata": {
        "_cell_guid": "400b40f1-86e9-b33e-8be5-6f855bf40596"
      },
      "outputs": [],
      "source": [
        "# Graphviz is used to build decision trees\n",
        "from sklearn.tree import export_graphviz\n",
        "from sklearn import tree"
      ]
    },
    {
      "cell_type": "code",
      "execution_count": null,
      "metadata": {
        "_cell_guid": "8719bdea-91d0-ccf1-e05c-f5d9bb44d867"
      },
      "outputs": [],
      "source": [
        "# This statement builds a dot file.\n",
        "tree.export_graphviz(model, out_file='tree.dot',feature_names  = feat)  "
      ]
    },
    {
      "cell_type": "markdown",
      "metadata": {
        "_cell_guid": "e173b522-23c8-e786-307f-d81acc7134ef"
      },
      "source": [
        "After building the tree dot file you can convert it into a png using :\n",
        "> **dot  -Tpng tree.dot -o tree.png**\n",
        "\n",
        "in command line (first cd to dot directory)"
      ]
    },
    {
      "cell_type": "code",
      "execution_count": null,
      "metadata": {
        "_cell_guid": "b65327ca-9c6c-316f-e948-a841d86f79b4"
      },
      "outputs": [],
      "source": [
        "# This will bring the image to the notebook (or you can view it locally)\n",
        "from IPython.display import Image\n",
        "#Image(\"tree.png\") # Uncomment if you are trying this on local\n",
        "# Can't read the image in kernal. Anyone know how? Will try and add image in comments"
      ]
    },
    {
      "cell_type": "markdown",
      "metadata": {
        "_cell_guid": "9aa1cd1d-35a1-fd87-b547-1bce99ba361d"
      },
      "source": [
        "EDIT : Here is the link to the image - [Tree][1]\n",
        "\n",
        "\n",
        "  [1]: https://ibb.co/jvxQkv"
      ]
    },
    {
      "cell_type": "markdown",
      "metadata": {
        "_cell_guid": "42c9533c-edfb-6b9f-0ffe-694fa7a5942e"
      },
      "source": [
        "> Now, if you start traversing the tree. We see that when, X314 = 0 and X315 = 0 and X47=0 then the gini score is .2183 with good sample size!!\n",
        "This can be a good feature as it gives us a good separation between the classes."
      ]
    },
    {
      "cell_type": "markdown",
      "metadata": {
        "_cell_guid": "02c36d8b-df1f-50f5-7a7e-f501342821cc"
      },
      "source": [
        "Experiment more with this notebook and if you are generous enough, keep adding good features in comments below ;D"
      ]
    },
    {
      "cell_type": "markdown",
      "metadata": {
        "_cell_guid": "fb5030d1-570c-8b67-6abb-396064db44e7"
      },
      "source": [
        "### Thanks! :)"
      ]
    },
    {
      "cell_type": "code",
      "execution_count": null,
      "metadata": {
        "_cell_guid": "9e919e10-b36e-9f5c-1aff-db57bf28d025"
      },
      "outputs": [],
      "source": ""
    }
  ],
  "metadata": {
    "_change_revision": 0,
    "_is_fork": false,
    "kernelspec": {
      "display_name": "Python 3",
      "language": "python",
      "name": "python3"
    },
    "language_info": {
      "codemirror_mode": {
        "name": "ipython",
        "version": 3
      },
      "file_extension": ".py",
      "mimetype": "text/x-python",
      "name": "python",
      "nbconvert_exporter": "python",
      "pygments_lexer": "ipython3",
      "version": "3.6.0"
    }
  },
  "nbformat": 4,
  "nbformat_minor": 0
}