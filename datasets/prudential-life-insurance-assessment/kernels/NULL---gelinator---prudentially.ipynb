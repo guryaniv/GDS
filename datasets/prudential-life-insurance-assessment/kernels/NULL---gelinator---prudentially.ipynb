{"cells":[
 {
  "cell_type": "code",
  "execution_count": null,
  "metadata": {
   "collapsed": false
  },
  "outputs": [],
  "source": "import pandas as pd\nimport numpy as np\nfrom sklearn import svm\nfrom patsy import dmatrices\nfrom sklearn.cross_validation import train_test_split\nfrom sklearn import metrics\nfrom sklearn.cross_validation import cross_val_score\n\ntrain = pd.read_csv(\"../input/train.csv\")\ntest = pd.read_csv(\"../input/test.csv\")\nsample_submission = pd.read_csv(\"../input/sample_submission.csv\")\n\n#target_name = np.array(['Response'])\n\n#train = train[train['is_train']==True]\nall_columns = \"+\".join(train.columns - [\"Response\"])\nformula = 'Response ~ ' + all_columns\ny, X = dmatrices(formula, train, return_type=\"dataframe\")\n\ny = np.ravel(y)\n\nmodel = svm.SVC(kernel='rbf')\nmodel = model.fit(X, y)\n\n# check the accuracy on the training set\nmodel.score(X, y)\n"
 },
 {
  "cell_type": "code",
  "execution_count": null,
  "metadata": {
   "collapsed": false
  },
  "outputs": [],
  "source": ""
 }
],"metadata":{"kernelspec":{"display_name":"Python 3","language":"python","name":"python3"}}, "nbformat": 4, "nbformat_minor": 0}