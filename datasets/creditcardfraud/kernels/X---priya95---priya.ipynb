{
  "cells": [
    {
      "cell_type": "code",
      "execution_count": null,
      "metadata": {
        "_cell_guid": "5523ac44-e38b-2cbf-1b6a-4905fa54dc81"
      },
      "outputs": [],
      "source": [
        "# This Python 3 environment comes with many helpful analytics libraries installed\n",
        "# It is defined by the kaggle/python docker image: https://github.com/kaggle/docker-python\n",
        "# For example, here's several helpful packages to load in \n",
        "\n",
        "import numpy as np # linear algebra\n",
        "import pandas as pd # data processing, CSV file I/O (e.g. pd.read_csv)\n",
        "\n",
        "# Input data files are available in the \"../input/\" directory.\n",
        "# For example, running this (by clicking run or pressing Shift+Enter) will list the files in the input directory\n",
        "\n",
        "from subprocess import check_output\n",
        "print(check_output([\"ls\", \"../input\"]).decode(\"utf8\"))\n",
        "\n",
        "# Any results you write to the current directory are saved as output."
      ]
    },
    {
      "cell_type": "code",
      "execution_count": null,
      "metadata": {
        "_cell_guid": "b5898af8-817d-b599-3b1f-ddc6bd18d83a"
      },
      "outputs": [],
      "source": [
        "# support for large, multi-dimensional arrays and matrices\n",
        "import numpy as np\n",
        "# plotting library for the Python programming language and its numerical mathematics extension NumPy\n",
        "import matplotlib.pyplot as plt\n",
        "from matplotlib import style\n",
        "style.use(\"ggplot\")\n",
        "#for less number of datapoints KMeans for more than thousand of points \n",
        "#KMeansbatch can be used\n",
        "from sklearn.cluster import KMeans"
      ]
    },
    {
      "cell_type": "code",
      "execution_count": null,
      "metadata": {
        "_cell_guid": "5a4d2fdd-f95b-26eb-b761-c04fc497073a"
      },
      "outputs": [],
      "source": [
        "x= [1.8,3.1,2,6,5.5,6,7,5.3]\n",
        "y= [2.1, 4, 2.8, 7, 6.9, 5,3.2,6.9]\n",
        "plt.scatter(x,y)\n",
        "plt.show()"
      ]
    },
    {
      "cell_type": "code",
      "execution_count": null,
      "metadata": {
        "_cell_guid": "f7a0f30c-cd1a-5506-a555-c9bab209ad31"
      },
      "outputs": [],
      "source": [
        "#converting above co-ordinates into numpy list of list\n",
        "X= np.array([[0.8,5],[2.5,4],[1, 1.8],[8,8],[6, 9.6],[7.5,10],[2, 3.6],[7.3,8.5]]"
      ]
    },
    {
      "cell_type": "code",
      "execution_count": null,
      "metadata": {
        "_cell_guid": "21472e90-88e6-ace9-19f4-419f0d349a5b"
      },
      "outputs": [],
      "source": [
        "#converting above co-ordinates into numpy list of list\n",
        "X= np.array([[0.8,5],[2.5,4],[1, 1.8],[8,8],[6, 9.6],[7.5,10],[2, 3.6],[7.3,8.5]])"
      ]
    },
    {
      "cell_type": "code",
      "execution_count": null,
      "metadata": {
        "_cell_guid": "09e02ed8-6685-e5bb-d2b6-78ff15a6656d"
      },
      "outputs": [],
      "source": [
        "#assign number of clusters to machine\n",
        "kmeans = KMeans(n_clusters=2)\n",
        "kmeans.fit(X)"
      ]
    },
    {
      "cell_type": "code",
      "execution_count": null,
      "metadata": {
        "_cell_guid": "8e0e7967-5deb-744c-95d7-06a7bab9555a"
      },
      "outputs": [],
      "source": [
        "#clustering performed based on equal variance from centroid. \n",
        "centroids = kmeans.cluster_centers_\n",
        "#semisupervised approach based on these label new data \n",
        "#points will be assigned label by algorithm.\n",
        "labels = kmeans.labels_"
      ]
    },
    {
      "cell_type": "code",
      "execution_count": null,
      "metadata": {
        "_cell_guid": "1b226344-377a-1a6e-9f73-40acba9b2123"
      },
      "outputs": [],
      "source": [
        "print(centroids)\n",
        "print(labels)"
      ]
    },
    {
      "cell_type": "code",
      "execution_count": null,
      "metadata": {
        "_cell_guid": "b4f8286d-9844-7d9d-b033-936ef64a6f2c"
      },
      "outputs": [],
      "source": [
        "#assign number of clusters to machine\n",
        "kmeans = KMeans(n_clusters=2)\n",
        "kmeans.fit(X)"
      ]
    },
    {
      "cell_type": "code",
      "execution_count": null,
      "metadata": {
        "_cell_guid": "4ef2b906-5b5c-7c24-fbf0-c34cb3765b23"
      },
      "outputs": [],
      "source": [
        "#clustering performed based on equal variance from centroid. \n",
        "centroids = kmeans.cluster_centers_\n",
        "#semisupervised approach based on these label new data \n",
        "#points will be assigned label by algorithm.\n",
        "labels = kmeans.labels_"
      ]
    },
    {
      "cell_type": "code",
      "execution_count": null,
      "metadata": {
        "_cell_guid": "b96fc678-0a65-dd8c-671a-f078b414af87"
      },
      "outputs": [],
      "source": [
        "print(centroids)\n",
        "print(labels)"
      ]
    },
    {
      "cell_type": "code",
      "execution_count": null,
      "metadata": {
        "_cell_guid": "27f34085-63a3-4b5a-3fd6-6aeefe45604a"
      },
      "outputs": [],
      "source": [
        "colors = [\"140\",\"280\"]"
      ]
    },
    {
      "cell_type": "code",
      "execution_count": null,
      "metadata": {
        "_cell_guid": "475fcd83-fd16-bb09-6b3a-caecc92c9267"
      },
      "outputs": [],
      "source": [
        "for i in range(len(X)):\n",
        "    print(\"coordinate:\", X[i], \"label:\", labels[i])\n",
        "    plt.scatter(x,y, c=[colors[l_] for l_ in labels], label=labels)\n",
        "    plt.scatter(centroids[:, 0],centroids[:, 1], c=[c for c in colors[:len(centroids)]], marker = \"x\", s=170, linewidths = 5, zorder = 10)\n",
        "    plt.show()"
      ]
    },
    {
      "cell_type": "code",
      "execution_count": null,
      "metadata": {
        "_cell_guid": "47142781-75e5-1c77-de12-f3d22734e3a2"
      },
      "outputs": [],
      "source": ""
    }
  ],
  "metadata": {
    "_change_revision": 0,
    "_is_fork": false,
    "kernelspec": {
      "display_name": "Python 3",
      "language": "python",
      "name": "python3"
    },
    "language_info": {
      "codemirror_mode": {
        "name": "ipython",
        "version": 3
      },
      "file_extension": ".py",
      "mimetype": "text/x-python",
      "name": "python",
      "nbconvert_exporter": "python",
      "pygments_lexer": "ipython3",
      "version": "3.6.0"
    }
  },
  "nbformat": 4,
  "nbformat_minor": 0
}