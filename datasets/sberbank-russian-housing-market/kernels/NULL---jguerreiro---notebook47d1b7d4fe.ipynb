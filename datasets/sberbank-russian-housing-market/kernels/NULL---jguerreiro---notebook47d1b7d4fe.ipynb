{
  "cells": [
    {
      "cell_type": "code",
      "execution_count": null,
      "metadata": {
        "_cell_guid": "46b21355-16b1-e604-922d-2cb9a53cb7dd"
      },
      "outputs": [],
      "source": [
        "import pandas as pd\n",
        "import numpy as np\n",
        "\n",
        "# visualization\n",
        "import seaborn as sns\n",
        "import matplotlib.pyplot as plt\n",
        "%matplotlib inline\n",
        "\n",
        "from sklearn.linear_model import LinearRegression\n",
        "from sklearn.ensemble import RandomForestRegressor\n",
        "from sklearn.metrics import mean_squared_error\n",
        "import xgboost as xgb\n",
        "from sklearn.model_selection import train_test_split"
      ]
    },
    {
      "cell_type": "code",
      "execution_count": null,
      "metadata": {
        "_cell_guid": "a679741b-6982-945a-514b-bee3366d9204"
      },
      "outputs": [],
      "source": [
        "macro_cols = [\"balance_trade\", \"balance_trade_growth\", \"eurrub\", \"average_provision_of_build_contract\",\n",
        "\"micex_rgbi_tr\", \"micex_cbi_tr\", \"deposits_rate\", \"mortgage_value\", \"mortgage_rate\",\n",
        "\"income_per_cap\", \"rent_price_4+room_bus\", \"museum_visitis_per_100_cap\", \"apartment_build\",'usdrub']\n",
        "train_df = pd.read_csv('../input/train.csv')\n",
        "test_df = pd.read_csv('../input/test.csv')\n",
        "macro_df=pd.read_csv('../input/macro.csv',usecols=['timestamp'] + macro_cols)\n",
        "train_df.shape"
      ]
    },
    {
      "cell_type": "code",
      "execution_count": null,
      "metadata": {
        "_cell_guid": "e5e88676-533a-8b87-b710-2962815c73bb"
      },
      "outputs": [],
      "source": [
        "train_df = pd.merge_ordered(train_df, macro_df, on='timestamp', how='left')\n",
        "train_df.head()"
      ]
    },
    {
      "cell_type": "code",
      "execution_count": null,
      "metadata": {
        "_cell_guid": "8db16a67-2639-1c5a-1277-54b752221766"
      },
      "outputs": [],
      "source": [
        "train_df['month']=train_df['timestamp'].map(lambda x:(int(x[0:4])-2011)*12+int(x[5:7])-8)"
      ]
    },
    {
      "cell_type": "code",
      "execution_count": null,
      "metadata": {
        "_cell_guid": "3fa1169e-ec05-31bc-f78a-8d5573c753ee"
      },
      "outputs": [],
      "source": [
        "train_df.head()"
      ]
    },
    {
      "cell_type": "code",
      "execution_count": null,
      "metadata": {
        "_cell_guid": "eb34f1d9-de88-2d3b-2c4a-1fa1915375d4"
      },
      "outputs": [],
      "source": [
        "test_df[(test_df.full_sq < 200) & (test_df.full_sq>1)].describe()\n",
        "test_df.describe(include=['O'])\n",
        "train_df.groupby(['year'])['price_doc'].mean()"
      ]
    },
    {
      "cell_type": "code",
      "execution_count": null,
      "metadata": {
        "_cell_guid": "65ee0fb0-4d2d-9b0b-e163-45599a2c1eeb"
      },
      "outputs": [],
      "source": [
        "train_df[(train_df.life_sq == 19)&(train_df.sub_area=='Hovrino')][['full_sq','life_sq','sub_area','price_doc']].head(50)\n",
        "train_df[(train_df.life_sq == 19)&(train_df.sub_area=='Hovrino')].head(20)"
      ]
    },
    {
      "cell_type": "code",
      "execution_count": null,
      "metadata": {
        "_cell_guid": "231583e1-3a98-141e-85d0-5b338962244e"
      },
      "outputs": [],
      "source": [
        "X_train = train_df[(train_df.full_sq < 200)&(train_df.num_room>0)][['full_sq','sport_objects_raion','num_room','kitch_sq']]\n",
        "Y_train = np.log1p(train_df[(train_df.full_sq < 200)&(train_df.num_room>0)]['price_doc'].values.reshape(-1,1))"
      ]
    },
    {
      "cell_type": "code",
      "execution_count": null,
      "metadata": {
        "_cell_guid": "819edb3b-dfb1-9d10-cc4e-06f7059cc27b"
      },
      "outputs": [],
      "source": [
        "train_df_numeric = train_df.select_dtypes(exclude=['object'])\n",
        "train_df_obj = train_df.select_dtypes(include=['object']).copy()\n",
        "\n",
        "for column in train_df_obj:\n",
        "    train_df_obj[column] = pd.factorize(train_df_obj[column])[0]\n",
        "\n",
        "train_df_values = pd.concat([train_df_numeric, train_df_obj], axis=1)[:25000]\n",
        "test_df_values = pd.concat([train_df_numeric, train_df_obj], axis=1)[25001:]"
      ]
    },
    {
      "cell_type": "code",
      "execution_count": null,
      "metadata": {
        "_cell_guid": "45036326-e36e-1f39-eb26-7d70f04d17f9"
      },
      "outputs": [],
      "source": [
        "X_train = train_df.select_dtypes(exclude=['object'])\n",
        "Y_train = np.log1p(train_df['price_doc'].values.reshape(-1,1))\n",
        "X_train.shape"
      ]
    },
    {
      "cell_type": "code",
      "execution_count": null,
      "metadata": {
        "_cell_guid": "e9981f58-7650-9a20-16b5-fa8e51cc2e5c"
      },
      "outputs": [],
      "source": [
        "X_train = train_df_values.drop(['price_doc','id','timestamp'],axis=1)\n",
        "Y_train = np.log1p(train_df_values['price_doc'].values.reshape(-1,1))\n",
        "X_train.shape"
      ]
    },
    {
      "cell_type": "code",
      "execution_count": null,
      "metadata": {
        "_cell_guid": "b649bdf2-9b47-43c3-5146-bdc37f2dc1f3"
      },
      "outputs": [],
      "source": [
        "X_test = test_df_values.drop(['price_doc','id','timestamp'],axis=1)\n",
        "Y_test = np.log1p(test_df_values['price_doc'].values.reshape(-1,1))\n",
        "X_test.shape"
      ]
    },
    {
      "cell_type": "code",
      "execution_count": null,
      "metadata": {
        "_cell_guid": "dc68f716-756f-2582-523a-12cfef81ac68"
      },
      "outputs": [],
      "source": [
        "dtrain = xgb.DMatrix(X_train, Y_train)\n",
        "dtest = xgb.DMatrix(X_test, Y_test)"
      ]
    },
    {
      "cell_type": "code",
      "execution_count": null,
      "metadata": {
        "_cell_guid": "cbc31ede-dd8f-ba81-ba26-ae418add1fca"
      },
      "outputs": [],
      "source": [
        "xgb_params = {\n",
        "    'eta': 0.05,\n",
        "    'max_depth': 5,\n",
        "    'subsample': 1.0,\n",
        "    'colsample_bytree': 0.7,\n",
        "    'objective': 'reg:linear',\n",
        "    'eval_metric': 'rmse',\n",
        "    'silent': 1\n",
        "}\n",
        "# Uncomment to tune XGB `num_boost_rounds`\n",
        "model = xgb.train(xgb_params,dtrain, num_boost_round=200, evals=[(dtest, 'val')],\n",
        "                       early_stopping_rounds=30, verbose_eval=10)\n",
        "\n",
        "num_boost_round = model.best_iteration\n",
        "\n",
        "Y_pred=model.predict(dtest)"
      ]
    },
    {
      "cell_type": "code",
      "execution_count": null,
      "metadata": {
        "_cell_guid": "5036342d-9f67-963f-2b37-9fd278402982"
      },
      "outputs": [],
      "source": [
        "fig, ax = plt.subplots(1, 1, figsize=(8, 16))\n",
        "xgb.plot_importance(model, max_num_features=40, height=0.5, ax=ax)"
      ]
    },
    {
      "cell_type": "code",
      "execution_count": null,
      "metadata": {
        "_cell_guid": "aa5d3447-b65c-4aa0-743c-319d8bfcbdcf"
      },
      "outputs": [],
      "source": [
        "logY_train=np.log1p(Y_train)\n",
        "logY_pred=np.log1p(Y_pred)\n",
        "np.sqrt(mean_squared_error(Y_pred,Y_test))"
      ]
    },
    {
      "cell_type": "code",
      "execution_count": null,
      "metadata": {
        "_cell_guid": "71b52f57-2737-6b97-de8b-fa2f9761a682",
        "collapsed": true
      },
      "outputs": [],
      "source": ""
    }
  ],
  "metadata": {
    "_change_revision": 0,
    "_is_fork": false,
    "kernelspec": {
      "display_name": "Python 3",
      "language": "python",
      "name": "python3"
    },
    "language_info": {
      "codemirror_mode": {
        "name": "ipython",
        "version": 3
      },
      "file_extension": ".py",
      "mimetype": "text/x-python",
      "name": "python",
      "nbconvert_exporter": "python",
      "pygments_lexer": "ipython3",
      "version": "3.6.0"
    }
  },
  "nbformat": 4,
  "nbformat_minor": 0
}