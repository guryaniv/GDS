{
  "cells": [
    {
      "cell_type": "markdown",
      "metadata": {
        "_cell_guid": "d06499f6-8896-4647-7aef-3a87b67c9458"
      },
      "source": [
        "Hello! My first time upload in Kaggle kernel. Recently I have studied Data Visualization. \n",
        "I separated the data feature set into categorical, int, float value. And the result informed two parts in categorical feature and in float.\n",
        "\n",
        "In categorical variables,\n",
        " sub_area, culture_objects_top_25, big_road1_1line, ecology relatively had more weights for target Price.\n",
        "\n",
        "In float variables,\n",
        " 'build_year' was shown strange."
      ]
    },
    {
      "cell_type": "code",
      "execution_count": null,
      "metadata": {
        "_cell_guid": "eb8fd239-bdf1-a194-7d1d-16991c6a2dd0"
      },
      "outputs": [],
      "source": [
        "# This Python 3 environment comes with many helpful analytics libraries installed\n",
        "# It is defined by the kaggle/python docker image: https://github.com/kaggle/docker-python\n",
        "# For example, here's several helpful packages to load in \n",
        "\n",
        "import numpy as np # linear algebra\n",
        "import pandas as pd # data processing, CSV file I/O (e.g. pd.read_csv)\n",
        "import matplotlib.pyplot as plt\n",
        "import seaborn as sns\n",
        "%matplotlib inline\n",
        "pal = sns.color_palette()\n",
        "\n",
        "# Input data files are available in the \"../input/\" directory.\n",
        "# For example, running this (by clicking run or pressing Shift+Enter) will list the files in the input directory\n",
        "\n",
        "from subprocess import check_output\n",
        "print(check_output([\"ls\", \"../input\"]).decode(\"utf8\"))\n",
        "\n",
        "# Any results you write to the current directory are saved as output."
      ]
    },
    {
      "cell_type": "code",
      "execution_count": null,
      "metadata": {
        "_cell_guid": "baccbc2e-ad94-a06d-1012-a50dae3d6412"
      },
      "outputs": [],
      "source": [
        "house_train = pd.read_csv('../input/train.csv')\n",
        "\n",
        "house_train.sample(3)"
      ]
    },
    {
      "cell_type": "code",
      "execution_count": null,
      "metadata": {
        "_cell_guid": "32885c97-a183-1ef6-a7c5-8c58d1408510"
      },
      "outputs": [],
      "source": [
        "set(house_train.dtypes.unique())"
      ]
    },
    {
      "cell_type": "code",
      "execution_count": null,
      "metadata": {
        "_cell_guid": "c81cb2c7-a11e-1b9d-7c64-5ab3125fca6e"
      },
      "outputs": [],
      "source": [
        "cat_var = list(house_train.select_dtypes(include = ['O']).columns)\n",
        "int_var = list(house_train.select_dtypes(include = ['int64']).columns)\n",
        "float_var = list(house_train.select_dtypes(include = ['float64']).columns)\n",
        "int_var.remove('price_doc')\n",
        "print(\"Categorical variable length : {}\".format(len(cat_var)))\n",
        "print(\"Int variable length : {}\".format(len(int_var)))\n",
        "print(\"Float variable length : {}\".format(len(float_var)))"
      ]
    },
    {
      "cell_type": "markdown",
      "metadata": {
        "_cell_guid": "fc5dc779-43fc-ce9d-687a-a1948e213b0e"
      },
      "source": [
        "The target variable, price_doc, needed to delete for drawing scatter plots."
      ]
    },
    {
      "cell_type": "code",
      "execution_count": null,
      "metadata": {
        "_cell_guid": "a22afeac-472b-de51-b61e-08f9c99dd752"
      },
      "outputs": [],
      "source": [
        "def cate_full_mean_graph(data= None, x_list = None, y = None):\n",
        "    row = len(x_list)\n",
        "    \n",
        "    fig, ax = plt.subplots(row, 1, figsize = (14, 5*row))\n",
        "    for itr, x in enumerate(x_list):\n",
        "        x_y_data = data[[x, y]].copy()\n",
        "        x_y_name = list(set(x_y_data[x].unique()))\n",
        "    \n",
        "        x_y_mean = x_y_data.groupby(x)[y].mean()\n",
        "        x_y_mean = x_y_mean.sort_values()\n",
        "    \n",
        "        sns.barplot(x=x_y_mean.keys(), y=x_y_mean, ax = ax[itr])\n",
        "        plt.xlabel(x)\n",
        "\n",
        "def scatter_full_x_y(data = None, x_list = None, y = None):\n",
        "    number_int = len(x_list)\n",
        "    num_row = number_int // 3 + number_int %3\n",
        "    \n",
        "    fig, ax = plt.subplots(num_row, 3, figsize = (15, 5*num_row))\n",
        "    for index in range(num_row):\n",
        "        row = 3*index\n",
        "        x_sample = x_list[row:row+3]\n",
        "        for col in range(3):\n",
        "            x = x_sample[col]\n",
        "            x_y_data = data[[x,y]].copy()\n",
        "            x_y_data = x_y_data.sort_values(x)\n",
        "            ax_temp = ax[index, col]\n",
        "            ax_temp.scatter(x_y_data[x], x_y_data[y], alpha = 0.1)\n",
        "            ax_temp.set_title( x ,fontsize = 15)\n"
      ]
    },
    {
      "cell_type": "markdown",
      "metadata": {
        "_cell_guid": "d01adf74-c30a-ebcd-4837-045a2364b0b4"
      },
      "source": [
        "In categorical variables, you look careful at <br>\n",
        " sub_area, culture_objects_top_25, big_road1_1line, ecology relatively had more weights for target Price.<br>\n",
        "It seemed to have precious than others in categorical variables."
      ]
    },
    {
      "cell_type": "code",
      "execution_count": null,
      "metadata": {
        "_cell_guid": "f3772e9f-02aa-8962-db73-483b04c15e62"
      },
      "outputs": [],
      "source": [
        "cate_full_mean_graph(data = house_train, x_list = cat_var, y = 'price_doc')"
      ]
    },
    {
      "cell_type": "code",
      "execution_count": null,
      "metadata": {
        "_cell_guid": "219333ed-4000-7c17-02a3-27fd9d9acc10"
      },
      "outputs": [],
      "source": [
        "#scatter_full_x_y(data = house_train, x_list = int_var, y = 'price_doc')\n",
        "#scatter_full_x_y(data = house_train, x_list = float_var, y = 'price_doc')"
      ]
    },
    {
      "cell_type": "markdown",
      "metadata": {
        "_cell_guid": "d067ac44-f60f-186c-e3f5-2e44e09eb764"
      },
      "source": [
        "Because their length was so long, instead of seeing all the features, I show just some essential and some trivial features based on my thoughts."
      ]
    },
    {
      "cell_type": "code",
      "execution_count": null,
      "metadata": {
        "_cell_guid": "41a9e569-aa3c-5355-8c73-95ed4a88350d"
      },
      "outputs": [],
      "source": [
        "essential = ['full_sq', 'work_all', 'floor', 'num_room', \n",
        "'children_school', 'ID_railroad_terminal', 'trc_count_500', \n",
        "'mosque_count_500', 'market_count_1500']\n",
        "trivial = ['build_year', 'full_all',  'healthcare_centers_raion',  'university_top_20_raion', \n",
        " 'office_raion', 'young_all']"
      ]
    },
    {
      "cell_type": "code",
      "execution_count": null,
      "metadata": {
        "_cell_guid": "43edb0ad-dc07-cf64-0d14-568b6a682c1d"
      },
      "outputs": [],
      "source": [
        "scatter_full_x_y(data = house_train, x_list = essential, y = 'price_doc')"
      ]
    },
    {
      "cell_type": "code",
      "execution_count": null,
      "metadata": {
        "_cell_guid": "0b937518-529c-3023-0510-2d3024edce3f"
      },
      "outputs": [],
      "source": [
        "scatter_full_x_y(data = house_train, x_list = trivial, y = 'price_doc')"
      ]
    },
    {
      "cell_type": "markdown",
      "metadata": {
        "_cell_guid": "957112a4-f31c-b977-2336-db77eedc4cf7"
      },
      "source": [
        "Build_year is strange, aren't you? So I saw the detail of that features."
      ]
    },
    {
      "cell_type": "code",
      "execution_count": null,
      "metadata": {
        "_cell_guid": "8a27204d-532a-35a5-3382-7c62c2c518db"
      },
      "outputs": [],
      "source": [
        "build_year = set(house_train['build_year'].unique())\n",
        "build_year"
      ]
    },
    {
      "cell_type": "markdown",
      "metadata": {
        "_cell_guid": "986e4977-e28a-f5ab-2831-8fb29e6e11db"
      },
      "source": [
        "4965, 20052009, 0, 1, 3, 20, 71, 215, 2017, 2018, nan is wired. By 2017, 2018, I think build_year said the end year to build.  <br>\n",
        "And Perhaps 215 -> 2015, 20052009 -> 2009! <br>\n",
        "But 4965, 0, 1, 3, 20, 71 still be problem."
      ]
    },
    {
      "cell_type": "code",
      "execution_count": null,
      "metadata": {
        "_cell_guid": "9a8aaa62-b3c8-a7ad-63f9-e9bbfc6d85d9"
      },
      "outputs": [],
      "source": [
        "build_strange_row = [4965, 0, 1, 3, 20, 71] #nan\n",
        "build_year_list = house_train['build_year']\n",
        "for x in build_strange_row:\n",
        "    print('Number of house built in {} : {}'.format(x,(build_year_list == x).sum()))"
      ]
    },
    {
      "cell_type": "code",
      "execution_count": null,
      "metadata": {
        "_cell_guid": "422d0e88-e7cf-2e4d-2406-a48d85835af7"
      },
      "outputs": [],
      "source": [
        "for x in [1900.0, 1901.0, 1902.0, 1903.0, 1904.0, 1905.0]:\n",
        "    print('Number of house built in {} : {}'.format(x,(build_year_list == x).sum()))\n",
        "print('\\n')\n",
        "for x in [1919.0, 1920.0, 1921.0, 1922.0, 1923.0, 1924.0]:\n",
        "    print('Number of house built in {} : {}'.format(x,(build_year_list == x).sum()))\n",
        "print('\\n')\n",
        "for x in [1969.0, 1970.0, 1971.0, 1972.0, 1973.0, 1974.0]:\n",
        "    print('Number of house built in {} : {}'.format(x,(build_year_list == x).sum()))\n",
        "print('\\n')"
      ]
    },
    {
      "cell_type": "markdown",
      "metadata": {
        "_cell_guid": "ee802e40-279e-7699-7c40-eb6a30aba34a"
      },
      "source": [
        "For seeing of '0', '1', '3', '20', '71' mean, I saw the number of houses built in 1900-1905, 1919-1924, 1969-1974.\n",
        "Through the record, I assume 20->1920, 71->1971. However 0, 1, 3, 4965 stil be left as problem."
      ]
    },
    {
      "cell_type": "markdown",
      "metadata": {
        "_cell_guid": "da7a3da6-aee2-0214-8966-1184a5482968"
      },
      "source": [
        "Thank you for seeing this first my kernel!"
      ]
    }
  ],
  "metadata": {
    "_change_revision": 0,
    "_is_fork": false,
    "kernelspec": {
      "display_name": "Python 3",
      "language": "python",
      "name": "python3"
    },
    "language_info": {
      "codemirror_mode": {
        "name": "ipython",
        "version": 3
      },
      "file_extension": ".py",
      "mimetype": "text/x-python",
      "name": "python",
      "nbconvert_exporter": "python",
      "pygments_lexer": "ipython3",
      "version": "3.6.0"
    }
  },
  "nbformat": 4,
  "nbformat_minor": 0
}