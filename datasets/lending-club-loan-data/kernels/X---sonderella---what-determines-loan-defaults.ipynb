{
  "cells": [
    {
      "cell_type": "markdown",
      "metadata": {
        "_cell_guid": "2a7adebb-e9e6-e060-673b-9b0596feae38"
      },
      "source": [
        "## Exploring the importance of individual features in predicting loan defaults"
      ]
    },
    {
      "cell_type": "code",
      "execution_count": null,
      "metadata": {
        "_cell_guid": "38489d57-c4e4-08cb-2756-4654d631d774"
      },
      "outputs": [],
      "source": [
        "# import libraries\n",
        "\n",
        "import pandas as pd\n",
        "import numpy as np\n",
        "import seaborn as sns\n",
        "import matplotlib.pyplot as plt\n",
        "%matplotlib inline\n",
        "import warnings\n",
        "warnings.filterwarnings('ignore')"
      ]
    },
    {
      "cell_type": "markdown",
      "metadata": {
        "_cell_guid": "fe384903-f86e-569b-7f7a-320ccbb1c20c"
      },
      "source": [
        "## Load dataset"
      ]
    },
    {
      "cell_type": "code",
      "execution_count": null,
      "metadata": {
        "_cell_guid": "bb52e1f6-79ef-15cb-9df4-c3a400413ab5"
      },
      "outputs": [],
      "source": [
        "data = pd.read_csv(\"../input/loan.csv\", low_memory=False)\n",
        "pd.set_option('display.max_columns', len(data.columns))\n",
        "data.head(3)"
      ]
    },
    {
      "cell_type": "markdown",
      "metadata": {
        "_cell_guid": "74cb1466-91d2-18c8-17d4-190b6d5141fc"
      },
      "source": [
        "## Explore the data"
      ]
    },
    {
      "cell_type": "code",
      "execution_count": null,
      "metadata": {
        "_cell_guid": "7ee1fe28-baf9-6628-a906-b84bdb14e249"
      },
      "outputs": [],
      "source": [
        "data['loan_status'].value_counts()"
      ]
    },
    {
      "cell_type": "code",
      "execution_count": null,
      "metadata": {
        "_cell_guid": "63c138f7-a75e-d793-c971-f9bf17e602d5"
      },
      "outputs": [],
      "source": [
        "group = data.groupby('loan_status').agg([np.count_nonzero])\n",
        "grouped = group['id'].reset_index()\n",
        "grouped"
      ]
    },
    {
      "cell_type": "code",
      "execution_count": null,
      "metadata": {
        "_cell_guid": "49ae946d-d621-3643-a7a5-86ba44a67376"
      },
      "outputs": [],
      "source": [
        "sns.set(style=\"whitegrid\")\n",
        "\n",
        "# Initialize the matplotlib figure\n",
        "f, ax = plt.subplots(figsize=(12, 6))\n",
        "\n",
        "sns.set_color_codes(\"muted\")\n",
        "\n",
        "ax = sns.barplot(x=grouped['loan_status'], y=grouped['count_nonzero'])\n",
        "ax.set(xlabel = 'loan status', ylabel = 'count', title = 'loan status by occurrence')\n",
        "ax.set_xticklabels(['charged off','current','default','nc: charged off','nc: fpaid','fpaid','grace period','issued','late <30ds', 'very late >30ds'], rotation=15)"
      ]
    },
    {
      "cell_type": "markdown",
      "metadata": {
        "_cell_guid": "007c97c7-d8da-6419-25bf-5a8720246bde"
      },
      "source": [
        "# Loans distribution"
      ]
    },
    {
      "cell_type": "code",
      "execution_count": null,
      "metadata": {
        "_cell_guid": "f0c84b3c-b5f1-f6d5-ce16-64d781beffb6"
      },
      "outputs": [],
      "source": [
        "\n",
        "ax = sns.distplot(data['loan_amnt'], bins =10, kde=False, color=\"g\", axlabel='loan amount')"
      ]
    },
    {
      "cell_type": "code",
      "execution_count": null,
      "metadata": {
        "_cell_guid": "f0f6d759-7d69-b0d1-d5f0-7846b7ce54cf"
      },
      "outputs": [],
      "source": [
        "group2 = data.groupby('grade').agg([np.median])\n",
        "interest_rate = group2['int_rate'].reset_index()\n",
        "\n",
        "ax = sns.barplot(x = 'grade', y = 'median', data=interest_rate)\n",
        "ax.set(xlabel = 'grade', ylabel = 'median interest rate', title = 'median interest rate, by loan grade')"
      ]
    },
    {
      "cell_type": "code",
      "execution_count": null,
      "metadata": {
        "_cell_guid": "49db7dcc-09d3-2690-bbea-4427776a642f"
      },
      "outputs": [],
      "source": [
        "group = data.groupby('grade').agg([np.median])\n",
        "loanamount = group['loan_amnt'].reset_index()\n",
        "\n",
        "ax = sns.barplot(y = \"median\", x = 'grade', data=loanamount)\n",
        "ax.set(xlabel = 'loan grade', ylabel = 'median loan amount', title = 'median loan amount, by loan grade')"
      ]
    },
    {
      "cell_type": "markdown",
      "metadata": {
        "_cell_guid": "5be2860f-bdba-02d6-00a7-93befd58a22c"
      },
      "source": [
        "## Clean data"
      ]
    },
    {
      "cell_type": "code",
      "execution_count": null,
      "metadata": {
        "_cell_guid": "f2c13413-f6d3-91da-ff0a-0a4f4cdb4af3"
      },
      "outputs": [],
      "source": [
        "data = data.fillna(0)\n",
        "\n",
        "loans = pd.get_dummies(data['loan_status'])"
      ]
    },
    {
      "cell_type": "code",
      "execution_count": null,
      "metadata": {
        "_cell_guid": "b4d5f268-6202-abd6-ee55-a60ae64dbaf3"
      },
      "outputs": [],
      "source": [
        "features_raw = data[['term', 'grade', 'sub_grade', 'emp_title', 'emp_length', 'home_ownership', 'verification_status', 'pymnt_plan', 'title', 'zip_code', 'addr_state', 'application_type', 'verification_status_joint', 'initial_list_status', 'earliest_cr_line', 'last_pymnt_d', 'last_credit_pull_d', 'next_pymnt_d']]\n",
        "features_raw.head()"
      ]
    },
    {
      "cell_type": "code",
      "execution_count": null,
      "metadata": {
        "_cell_guid": "c13d93f0-d60c-3ac6-ecd4-4eacbc72fe18"
      },
      "outputs": [],
      "source": [
        "from sklearn import preprocessing\n",
        "\n",
        "le = preprocessing.LabelEncoder()\n",
        "\n",
        "for col in features_raw.columns:\n",
        "    features_raw[col] = le.fit_transform(data[col])\n",
        "\n",
        "features_raw.head()"
      ]
    },
    {
      "cell_type": "code",
      "execution_count": null,
      "metadata": {
        "_cell_guid": "59d2580d-1e19-3bbc-0db7-8a90d20eb136"
      },
      "outputs": [],
      "source": [
        "numerical = data[['id', 'member_id', 'loan_amnt', 'funded_amnt', 'funded_amnt_inv', 'int_rate', 'installment', 'annual_inc', 'dti', 'delinq_2yrs', 'inq_last_6mths', 'mths_since_last_record', 'open_acc', 'pub_rec', 'revol_bal', 'revol_util', 'total_acc', 'out_prncp', 'out_prncp_inv', 'total_pymnt', 'total_pymnt_inv', 'total_rec_prncp', 'total_rec_int', 'total_rec_late_fee', 'recoveries', 'collection_recovery_fee', 'last_pymnt_amnt', 'collections_12_mths_ex_med', 'mths_since_last_major_derog', 'policy_code', 'annual_inc_joint', 'dti_joint', 'acc_now_delinq', 'tot_coll_amt', 'tot_cur_bal', 'open_acc_6m', 'open_il_6m', 'open_il_12m', 'open_il_24m', 'mths_since_rcnt_il']]\n",
        "\n",
        "minmax = preprocessing.MinMaxScaler()\n",
        "\n",
        "for col in numerical.columns:\n",
        "    numerical[col] = minmax.fit_transform(numerical[col])\n",
        "\n",
        "numerical.head()"
      ]
    },
    {
      "cell_type": "code",
      "execution_count": null,
      "metadata": {
        "_cell_guid": "7f08795b-5c0e-6b66-7fe6-900f2edd6d8d"
      },
      "outputs": [],
      "source": [
        "#dates=data[['issue_d', 'earliest_cr_line', 'last_pymnt_d', 'last_credit_pull_d', 'next_pymnt_d']]\n",
        "\n",
        "#dates = pd.to_datetime(dates[['issue_d', 'earliest_cr_line', 'last_pymnt_d', 'last_credit_pull_d', 'next_pymnt_d']], format='%b-%Y', errors='ignore')\n",
        "\n",
        "dates=pd.to_datetime(data['issue_d'], format='%b-%Y', errors='ignore')\n",
        "dates.head()"
      ]
    },
    {
      "cell_type": "code",
      "execution_count": null,
      "metadata": {
        "_cell_guid": "ca0bcfba-5f36-a38f-3880-ff07e9e0984b"
      },
      "outputs": [],
      "source": [
        "data_new = pd.concat([features_raw, numerical, loans, dates], axis=1)"
      ]
    },
    {
      "cell_type": "markdown",
      "metadata": {
        "_cell_guid": "d5eca6be-6a92-8bb5-ae7b-72e07bc1975c"
      },
      "source": [
        "## Apply models & check accuracy of predictions"
      ]
    },
    {
      "cell_type": "code",
      "execution_count": null,
      "metadata": {
        "_cell_guid": "5ff7457e-449d-1e7c-c7f7-a96b7a7549a3"
      },
      "outputs": [],
      "source": [
        "# separate X and y\n",
        "\n",
        "y = data_new['Default']\n",
        "X = data_new.drop('Default', axis=1)"
      ]
    },
    {
      "cell_type": "code",
      "execution_count": null,
      "metadata": {
        "_cell_guid": "e7d4e0f2-6511-a453-25f8-43122e69318e"
      },
      "outputs": [],
      "source": [
        "from sklearn.model_selection import train_test_split\n",
        "\n",
        "X_train, X_test, y_train, y_test = train_test_split(X, y, test_size=0.2, random_state=101)\n",
        "\n",
        "# Show the results of the split\n",
        "print \"Training set has {} samples.\".format(X_train.shape[0])\n",
        "print \"Testing set has {} samples.\".format(X_test.shape[0])"
      ]
    },
    {
      "cell_type": "code",
      "execution_count": null,
      "metadata": {
        "_cell_guid": "e885ca85-22b8-21a4-2722-4b01f60d444c"
      },
      "outputs": [],
      "source": [
        "# TODO: Import two metrics from sklearn - fbeta_score and accuracy_score\n",
        "from sklearn.ensemble import RandomForestClassifier\n",
        "from sklearn.ensemble import AdaBoostClassifier\n",
        "from sklearn.metrics import fbeta_score, accuracy_score\n",
        "from time import time\n",
        "\n",
        "beta = 0.5\n",
        "\n",
        "# TODO: Initialize the models\n",
        "clf_A = RandomForestClassifier(random_state=101)\n",
        "clf_B = AdaBoostClassifier(random_state=101)\n",
        "\n",
        "clf_A.fit(X_train, y_train)\n",
        "clf_B.fit(X_train, y_train)\n",
        "\n",
        "pred_A_train = clf_A.predict(X_train)\n",
        "pred_B_train = clf_B.predict(X_train)\n",
        "\n",
        "pred_A_test = clf_A.predict(X_test)\n",
        "pred_B_test = clf_B.predict(X_test)"
      ]
    },
    {
      "cell_type": "code",
      "execution_count": null,
      "metadata": {
        "_cell_guid": "b6c3f48f-0b25-e522-b5a8-8c566a34dd16"
      },
      "outputs": [],
      "source": [
        "from sklearn.metrics import classification_report\n",
        "\n",
        "print(classification_report(y_test,pred_A_test))"
      ]
    },
    {
      "cell_type": "markdown",
      "metadata": {
        "_cell_guid": "05f36149-051a-c3da-5cc4-889a1d4e293d"
      },
      "source": [
        "## Confusion matrix: RandomForests"
      ]
    },
    {
      "cell_type": "code",
      "execution_count": null,
      "metadata": {
        "_cell_guid": "82f79f33-6200-eaa2-c60b-a1c511cdfc5c"
      },
      "outputs": [],
      "source": [
        "# generate confusion matrix\n",
        "from sklearn.metrics import confusion_matrix\n",
        "\n",
        "cm = confusion_matrix(y_test,pred_A_test)\n",
        "\n",
        "df_cm = pd.DataFrame(cm, index = ['True (positive)', 'True (negative)'])\n",
        "df_cm.columns = ['Predicted (positive)', 'Predicted (negative)']\n",
        "\n",
        "sns.heatmap(df_cm, annot=True, fmt=\"d\")"
      ]
    },
    {
      "cell_type": "markdown",
      "metadata": {
        "_cell_guid": "55f1842b-17b3-7039-1e06-ffb9f737fc28"
      },
      "source": [
        "## Confusion matrix: AdaBoost"
      ]
    },
    {
      "cell_type": "code",
      "execution_count": null,
      "metadata": {
        "_cell_guid": "dcff1686-cba4-408c-d87b-2a5d9c95573d"
      },
      "outputs": [],
      "source": [
        "print(classification_report(y_test,pred_B_test))"
      ]
    },
    {
      "cell_type": "code",
      "execution_count": null,
      "metadata": {
        "_cell_guid": "c48092a6-1430-ba9f-f45d-168aa57bf478"
      },
      "outputs": [],
      "source": [
        "cm2 = confusion_matrix(y_test,pred_B_test)\n",
        "\n",
        "df_cm2 = pd.DataFrame(cm2, index = ['True (positive)', 'True (negative)'])\n",
        "df_cm2.columns = ['Predicted (positive)', 'Predicted (negative)']\n",
        "\n",
        "sns.heatmap(df_cm2, annot=True, fmt=\"d\")"
      ]
    },
    {
      "cell_type": "markdown",
      "metadata": {
        "_cell_guid": "67afe140-6266-6cd2-8f98-d2c574fe4707"
      },
      "source": [
        "## Factor importances: RandomForests"
      ]
    },
    {
      "cell_type": "code",
      "execution_count": null,
      "metadata": {
        "_cell_guid": "1e2fb3bc-3f14-e4ac-bc28-61f57fac4303"
      },
      "outputs": [],
      "source": [
        "# extract feature importances\n",
        "import numpy as np\n",
        "\n",
        "keyfeat_A = clf_A.feature_importances_\n",
        "df = pd.DataFrame(keyfeat_A)\n",
        "df.index = np.arange(1, len(df) + 1)\n",
        "\n",
        "featurenames = data_new.columns\n",
        "featurenames = pd.DataFrame(data_new.columns)\n",
        "featurenames.drop(featurenames.head(1).index, inplace=True)\n",
        "\n",
        "dfnew = pd.concat([featurenames, df], axis=1)\n",
        "dfnew.columns = ['featurenames', 'weight']\n",
        "dfsorted = dfnew.sort_values(['weight'], ascending=[False])\n",
        "dfsorted.head()"
      ]
    },
    {
      "cell_type": "code",
      "execution_count": null,
      "metadata": {
        "_cell_guid": "30820c0a-dfdc-6af8-a95e-84090d333a21"
      },
      "outputs": [],
      "source": [
        "# plot feature importances\n",
        "\n",
        "sns.set(style=\"whitegrid\")\n",
        "\n",
        "# Initialize the matplotlib figure\n",
        "f, ax = plt.subplots(figsize=(15, 10))\n",
        "\n",
        "ax = sns.barplot(x=dfsorted['featurenames'].head(7), y=dfsorted['weight'].head(7))\n",
        "\n",
        "ax.set(xlabel='feature names', ylabel='weight')\n",
        "\n",
        "ax.set_title('Feature importances')\n",
        "\n",
        "for item in ax.get_xticklabels():\n",
        "    item.set_rotation(50)"
      ]
    },
    {
      "cell_type": "markdown",
      "metadata": {
        "_cell_guid": "6072132c-4b2c-5e9f-921e-54b083612591"
      },
      "source": [
        "## Feature importances: AdaBoost"
      ]
    },
    {
      "cell_type": "code",
      "execution_count": null,
      "metadata": {
        "_cell_guid": "d2b9b873-0688-f080-59e1-23a1ef98963a"
      },
      "outputs": [],
      "source": [
        "# extract feature importances\n",
        "import numpy as np\n",
        "\n",
        "keyfeat_B = clf_B.feature_importances_\n",
        "df2 = pd.DataFrame(keyfeat_B)\n",
        "df2.index = np.arange(1, len(df) + 1)\n",
        "\n",
        "featurenames_B = data_new.columns\n",
        "featurenames_B = pd.DataFrame(data_new.columns)\n",
        "featurenames_B.drop(featurenames_B.head(1).index, inplace=True)\n",
        "\n",
        "df_B = pd.concat([featurenames, df2], axis=1)\n",
        "df_B.columns = ['featurenames', 'weight']\n",
        "dfsorted_B = df_B.sort_values(['weight'], ascending=[False])\n",
        "dfsorted_B.head()"
      ]
    },
    {
      "cell_type": "code",
      "execution_count": null,
      "metadata": {
        "_cell_guid": "ffa2a737-6be7-8911-2af4-bcb1a30cf72d"
      },
      "outputs": [],
      "source": [
        "# plot feature importances\n",
        "\n",
        "sns.set(style=\"whitegrid\")\n",
        "sns.set(font_scale=3)\n",
        "\n",
        "# Initialize the matplotlib figure\n",
        "f, ax = plt.subplots(figsize=(45, 10))\n",
        "\n",
        "ax = sns.barplot(x=dfsorted_B['featurenames'].head(), y=dfsorted_B['weight'].head())\n",
        "\n",
        "ax.set(xlabel='feature names', ylabel='weight')\n",
        "\n",
        "ax.set_title('Feature importances')\n",
        "\n",
        "for item in ax.get_xticklabels():\n",
        "    item.set_rotation(50)"
      ]
    },
    {
      "cell_type": "code",
      "execution_count": null,
      "metadata": {
        "_cell_guid": "6ac75ee3-079d-6976-e04e-fcc8e24acbc9",
        "collapsed": true
      },
      "outputs": [],
      "source": [
        ""
      ]
    }
  ],
  "metadata": {
    "_change_revision": 0,
    "_is_fork": false,
    "kernelspec": {
      "display_name": "Python 3",
      "language": "python",
      "name": "python3"
    },
    "language_info": {
      "codemirror_mode": {
        "name": "ipython",
        "version": 3
      },
      "file_extension": ".py",
      "mimetype": "text/x-python",
      "name": "python",
      "nbconvert_exporter": "python",
      "pygments_lexer": "ipython3",
      "version": "3.6.0"
    }
  },
  "nbformat": 4,
  "nbformat_minor": 0
}