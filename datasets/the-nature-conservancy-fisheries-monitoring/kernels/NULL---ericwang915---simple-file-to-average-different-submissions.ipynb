{
  "cells": [
    {
      "cell_type": "markdown",
      "metadata": {
        "_cell_guid": "04e767a8-1a9c-71c5-682d-a2199f44adca"
      },
      "source": [
        "simple file to average different submissions"
      ]
    },
    {
      "cell_type": "markdown",
      "metadata": {
        "_cell_guid": "fb506ae7-23bf-e19a-9511-a70addf2e00d"
      },
      "source": [
        "simple files to average different submissions"
      ]
    },
    {
      "cell_type": "code",
      "execution_count": null,
      "metadata": {
        "_cell_guid": "04087806-184e-31b4-a84d-1ed9d444ed7f"
      },
      "outputs": [],
      "source": [
        "import pandas as pd\n",
        "import argparse\n",
        "parser = argparse.ArgumentParser(description='Merge different results in csv form, ex: python average_submission \"1.csv 2.csv\"')\n",
        "parser.add_argument('--submission', type=str,help='several submission')\n",
        "args = parser.parse_args()\n",
        "sub=args.submission.split(' ')\n",
        "df_concat = pd.concat((pd.read_csv(i, header=0).sort_values('image') for i in sub))\n",
        "df_means=df_concat.mean()\n",
        "by_row_index = df_concat.groupby('image')\n",
        "df_means = by_row_index.mean()\n",
        "df_means.to_csv('mean.csv')"
      ]
    }
  ],
  "metadata": {
    "_change_revision": 0,
    "_is_fork": false,
    "kernelspec": {
      "display_name": "Python 3",
      "language": "python",
      "name": "python3"
    },
    "language_info": {
      "codemirror_mode": {
        "name": "ipython",
        "version": 3
      },
      "file_extension": ".py",
      "mimetype": "text/x-python",
      "name": "python",
      "nbconvert_exporter": "python",
      "pygments_lexer": "ipython3",
      "version": "3.5.2"
    }
  },
  "nbformat": 4,
  "nbformat_minor": 0
}