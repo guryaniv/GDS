{
  "cells": [
    {
      "cell_type": "code",
      "execution_count": null,
      "metadata": {
        "_cell_guid": "f46d5409-2db3-fb78-e712-218b471df357"
      },
      "outputs": [],
      "source": [
        "# This Python 3 environment comes with many helpful analytics libraries installed\n",
        "# It is defined by the kaggle/python docker image: https://github.com/kaggle/docker-python\n",
        "# For example, here's several helpful packages to load in \n",
        "\n",
        "import numpy as np # linear algebra\n",
        "import pandas as pd # data processing, CSV file I/O (e.g. pd.read_csv)\n",
        "\n",
        "# Input data files are available in the \"../input/\" directory.\n",
        "# For example, running this (by clicking run or pressing Shift+Enter) will list the files in the input directory\n",
        "\n",
        "from subprocess import check_output\n",
        "print(check_output([\"ls\", \"../input\"]).decode(\"utf8\"))\n",
        "\n",
        "# Any results you write to the current directory are saved as output."
      ]
    },
    {
      "cell_type": "code",
      "execution_count": null,
      "metadata": {
        "_cell_guid": "25fc5fe6-6aed-2d9f-fba0-4544edaedf1d"
      },
      "outputs": [],
      "source": [
        "import matplotlib.pyplot as plt\n",
        "import seaborn as sns\n",
        "\n",
        "pd.set_option.max_columns = 300"
      ]
    },
    {
      "cell_type": "code",
      "execution_count": null,
      "metadata": {
        "_cell_guid": "c2c57788-e081-b843-47d5-3d75255fa56b"
      },
      "outputs": [],
      "source": [
        "train_df = pd.read_csv(\"../input/train_2016.csv\", parse_dates=[\"transactiondate\"])"
      ]
    },
    {
      "cell_type": "code",
      "execution_count": null,
      "metadata": {
        "_cell_guid": "29fb0f46-d6c1-d12d-6f72-29c9cdabc38d"
      },
      "outputs": [],
      "source": [
        "train_df['transaction_month'] = train_df.transactiondate.dt.month"
      ]
    },
    {
      "cell_type": "code",
      "execution_count": null,
      "metadata": {
        "_cell_guid": "cd615148-b713-fe26-d682-522a1536b930"
      },
      "outputs": [],
      "source": [
        "train_df.head()"
      ]
    },
    {
      "cell_type": "code",
      "execution_count": null,
      "metadata": {
        "_cell_guid": "d938a2ab-67e4-93f7-77de-ba8d35bcbea8"
      },
      "outputs": [],
      "source": [
        "f,ax = plt.subplots(figsize = (10,8))\n",
        "plt.scatter(x=range(train_df.shape[0]),y=np.sort(train_df.logerror.values))\n",
        "plt.show()"
      ]
    },
    {
      "cell_type": "code",
      "execution_count": null,
      "metadata": {
        "_cell_guid": "e26553f7-09ee-d4d5-c3e7-c65e76458415"
      },
      "outputs": [],
      "source": [
        "cnt_trans = train_df.transaction_month.value_counts()"
      ]
    },
    {
      "cell_type": "code",
      "execution_count": null,
      "metadata": {
        "_cell_guid": "6ae9ac3e-94bf-7750-4fc9-d7712ee6a16d"
      },
      "outputs": [],
      "source": [
        "cnt_trans.index"
      ]
    },
    {
      "cell_type": "code",
      "execution_count": null,
      "metadata": {
        "_cell_guid": "86e990c6-a47f-5303-a637-76b534735a4d"
      },
      "outputs": [],
      "source": [
        "cnt_trans.values"
      ]
    },
    {
      "cell_type": "code",
      "execution_count": null,
      "metadata": {
        "_cell_guid": "2e9db8cd-4105-f208-302f-90e2f3bf263d"
      },
      "outputs": [],
      "source": [
        "plt.figure(figsize=(10,12))\n",
        "sns.distplot(train_df.logerror.values,bins=50,kde=False)\n",
        "sns.plt.show()"
      ]
    },
    {
      "cell_type": "code",
      "execution_count": null,
      "metadata": {
        "_cell_guid": "9d10b1c7-0b2b-e31c-152c-cf8c856bc276"
      },
      "outputs": [],
      "source": [
        "plt.figure(figsize=(10,12))\n",
        "sns.barplot(x=cnt_trans.index,y=cnt_trans.values)\n",
        "plt.xlabel('MONTH OF TRANSACTION',fontsize=12)\n",
        "plt.ylabel('NUMBER OF OCCURENCES',fontsize=12)"
      ]
    },
    {
      "cell_type": "code",
      "execution_count": null,
      "metadata": {
        "_cell_guid": "f80dadf3-4f2b-540e-f9d1-3ae332deb977"
      },
      "outputs": [],
      "source": [
        "prop_df =  pd.read_csv(\"../input/properties_2016.csv\")"
      ]
    },
    {
      "cell_type": "code",
      "execution_count": null,
      "metadata": {
        "_cell_guid": "7146df6e-efbd-e9d4-5154-af3b23378318"
      },
      "outputs": [],
      "source": [
        "miss_df = prop_df.isnull().sum(axis=0).reset_index()"
      ]
    },
    {
      "cell_type": "code",
      "execution_count": null,
      "metadata": {
        "_cell_guid": "82cd35c4-fcf4-38fb-5199-d05fc79a06e9"
      },
      "outputs": [],
      "source": [
        "miss_df.columns = ['column','miss_count']"
      ]
    },
    {
      "cell_type": "code",
      "execution_count": null,
      "metadata": {
        "_cell_guid": "0d1852da-7f5f-5e1d-8040-3c4c1ae275aa"
      },
      "outputs": [],
      "source": [
        "miss_df.head()"
      ]
    },
    {
      "cell_type": "code",
      "execution_count": null,
      "metadata": {
        "_cell_guid": "94a59bc4-d2b2-aac3-25aa-5d6dc512f2dd"
      },
      "outputs": [],
      "source": [
        "miss1_df = miss_df.sort_values(by='miss_count')"
      ]
    },
    {
      "cell_type": "code",
      "execution_count": null,
      "metadata": {
        "_cell_guid": "c5e0e449-c2b5-c679-d12f-85a4c715b9b9"
      },
      "outputs": [],
      "source": [
        "plt.figure(figsize=(30,40))\n",
        "sns.set(font_scale=1.5)\n",
        "sns.barplot(x='miss_count',y='column',data=miss1_df)\n",
        "sns.plt.show()"
      ]
    },
    {
      "cell_type": "code",
      "execution_count": null,
      "metadata": {
        "_cell_guid": "a54f5b18-e115-f114-aca0-f770b46dc48c"
      },
      "outputs": [],
      "source": [
        "train_df.corr()"
      ]
    },
    {
      "cell_type": "code",
      "execution_count": null,
      "metadata": {
        "_cell_guid": "c1d00a2e-e596-80a9-ca44-9d999c74604d"
      },
      "outputs": [],
      "source": [
        "pro_df = prop_df.copy()\n",
        "tr_df = train_df.copy()"
      ]
    },
    {
      "cell_type": "code",
      "execution_count": null,
      "metadata": {
        "_cell_guid": "55fe2aab-1c14-22fa-9e2e-698b47e4b581"
      },
      "outputs": [],
      "source": [
        "con_df = pd.merge(tr_df,pro_df,how='left',on='parcelid')"
      ]
    },
    {
      "cell_type": "code",
      "execution_count": null,
      "metadata": {
        "_cell_guid": "30d68278-c023-5b09-efd2-350329172c79"
      },
      "outputs": [],
      "source": [
        "miss2_df = con_df.isnull().sum(axis=0).reset_index()"
      ]
    },
    {
      "cell_type": "code",
      "execution_count": null,
      "metadata": {
        "_cell_guid": "69bf3ad3-848a-3574-2b9d-2f367a747a7c"
      },
      "outputs": [],
      "source": [
        "miss2_df.columns = ['col','miss_cnt']"
      ]
    },
    {
      "cell_type": "code",
      "execution_count": null,
      "metadata": {
        "_cell_guid": "32b76588-6a16-d502-89bb-9ad375415af2"
      },
      "outputs": [],
      "source": [
        "miss2_df.head()"
      ]
    },
    {
      "cell_type": "code",
      "execution_count": null,
      "metadata": {
        "_cell_guid": "bdb41f39-e29f-65c5-cf4c-77558dd5b8db"
      },
      "outputs": [],
      "source": [
        "miss3_df = miss2_df.sort_values(by='miss_cnt')"
      ]
    },
    {
      "cell_type": "code",
      "execution_count": null,
      "metadata": {
        "_cell_guid": "61a994b0-ca2e-6e3a-c86e-461765916cfa"
      },
      "outputs": [],
      "source": [
        "miss3_df.head()"
      ]
    },
    {
      "cell_type": "code",
      "execution_count": null,
      "metadata": {
        "_cell_guid": "dac10fa4-c5be-80bd-f9df-14ffc60cac80"
      },
      "outputs": [],
      "source": [
        "plt.figure(figsize=(40,50))\n",
        "sns.set(font_scale=1.5)\n",
        "sns.barplot(x='miss_cnt',y='col',data=miss3_df)\n",
        "\n",
        "sns.plt.show()"
      ]
    },
    {
      "cell_type": "code",
      "execution_count": null,
      "metadata": {
        "_cell_guid": "1e2f8325-a4d5-e9e3-ad32-24b428132470"
      },
      "outputs": [],
      "source": [
        "corrmat = con_df.corr()"
      ]
    },
    {
      "cell_type": "code",
      "execution_count": null,
      "metadata": {
        "_cell_guid": "d91de255-9be9-c8f5-3fbe-82ae62b9cb20"
      },
      "outputs": [],
      "source": [
        "plt.figure(figsize=(30,40))\n",
        "sns.heatmap(corrmat,vmax=.8, square=True)\n",
        "sns.plt.show()"
      ]
    },
    {
      "cell_type": "code",
      "execution_count": null,
      "metadata": {
        "_cell_guid": "c305ad88-9df9-e40c-74f2-c0a47877c491"
      },
      "outputs": [],
      "source": [
        "dtype_df = con_df.dtypes.reset_index()"
      ]
    },
    {
      "cell_type": "code",
      "execution_count": null,
      "metadata": {
        "_cell_guid": "47f7d29c-f248-69ab-5ffc-db341a984a89"
      },
      "outputs": [],
      "source": [
        "dtype_df.columns = ['col','dtyp']"
      ]
    },
    {
      "cell_type": "code",
      "execution_count": null,
      "metadata": {
        "_cell_guid": "5e536875-fd63-94cb-1bc3-fd34b82f2670"
      },
      "outputs": [],
      "source": [
        "d = dtype_df.groupby(['dtyp'])['col'].sum().reset_index()"
      ]
    },
    {
      "cell_type": "code",
      "execution_count": null,
      "metadata": {
        "_cell_guid": "4002648b-8af9-191f-32ac-4f05de52cafb"
      },
      "outputs": [],
      "source": [
        "sns.regplot(x='numberofstories',y='logerror',data=con_df)\n",
        "sns.plt.show()"
      ]
    },
    {
      "cell_type": "code",
      "execution_count": null,
      "metadata": {
        "_cell_guid": "55de82ba-2bb4-ebf3-902a-04455e596f20"
      },
      "outputs": [],
      "source": [
        "np.mean(con_df['bedroomcnt'])\n",
        "sns.boxplot(y='bedroomcnt',data=con_df)\n",
        "sns.plt.show()"
      ]
    },
    {
      "cell_type": "code",
      "execution_count": null,
      "metadata": {
        "_cell_guid": "cc0a615c-73b0-8adb-be7e-44c44eb4165f"
      },
      "outputs": [],
      "source": [
        "for col in con_df.columns:\n",
        "    if con_df[col].dtypes=='object':\n",
        "        print (col)"
      ]
    },
    {
      "cell_type": "code",
      "execution_count": null,
      "metadata": {
        "_cell_guid": "a9947968-f34c-e3ab-90ef-7b0e6b806df4"
      },
      "outputs": [],
      "source": [
        "sns.regplot(x='bedroomcnt',y='bathroomcnt',data=con_df)\n",
        "sns.plt.show()"
      ]
    },
    {
      "cell_type": "code",
      "execution_count": null,
      "metadata": {
        "_cell_guid": "db867452-e9bf-eb9f-2bd3-86c3661d893f"
      },
      "outputs": [],
      "source": [
        "sns.regplot(x='numberofstories',y='logerror',data=con_df)\n",
        "sns.plt.show()"
      ]
    },
    {
      "cell_type": "code",
      "execution_count": null,
      "metadata": {
        "_cell_guid": "4bfba635-d96a-cd51-e5cc-661b5459c9e7"
      },
      "outputs": [],
      "source": [
        "sns.regplot(x='lotsizesquarefeet',y='logerror',data=con_df)\n",
        "sns.plt.show()"
      ]
    },
    {
      "cell_type": "code",
      "execution_count": null,
      "metadata": {
        "_cell_guid": "96a48ec8-b57e-10b1-7c55-2b8a2791f027"
      },
      "outputs": [],
      "source": [
        "con1_df = con_df.copy()"
      ]
    },
    {
      "cell_type": "code",
      "execution_count": null,
      "metadata": {
        "_cell_guid": "98b65b78-7899-fefd-dcf5-f2d466d122f9"
      },
      "outputs": [],
      "source": [
        "ob_col=[]\n",
        "for col in con1_df.columns:\n",
        "    if con1_df[col].dtypes=='object':\n",
        "        ob_col.append(col)"
      ]
    },
    {
      "cell_type": "code",
      "execution_count": null,
      "metadata": {
        "_cell_guid": "2c26ef06-631f-c962-dcf9-e76bc8a250f4"
      },
      "outputs": [],
      "source": [
        "ob_col.append('transaction_month')\n",
        "ob_col.append('transactiondate')"
      ]
    },
    {
      "cell_type": "code",
      "execution_count": null,
      "metadata": {
        "_cell_guid": "c6324b66-cc0c-cec9-3592-76b64ab951fe"
      },
      "outputs": [],
      "source": [
        "\n",
        "for col in con1_df:\n",
        "    if col not in ob_col:\n",
        "        con1_df[col].fillna(np.mean(con1_df[col]),inplace=True)"
      ]
    },
    {
      "cell_type": "code",
      "execution_count": null,
      "metadata": {
        "_cell_guid": "7e472d45-dcd6-fae8-5102-92fd5874ad67"
      },
      "outputs": [],
      "source": [
        "featto_use=[]\n",
        "for col in con1_df.columns:\n",
        "    if col not in ob_col:\n",
        "        featto_use.append(col)"
      ]
    },
    {
      "cell_type": "code",
      "execution_count": null,
      "metadata": {
        "_cell_guid": "e26faf84-8a06-ab34-3cc1-82e95b1f4926"
      },
      "outputs": [],
      "source": [
        "featto_use.remove('logerror')"
      ]
    },
    {
      "cell_type": "code",
      "execution_count": null,
      "metadata": {
        "_cell_guid": "7d326abe-8304-1555-023a-c7350cc018ee"
      },
      "outputs": [],
      "source": [
        "con2_df = con1_df[featto_use]"
      ]
    },
    {
      "cell_type": "code",
      "execution_count": null,
      "metadata": {
        "_cell_guid": "a2d49e00-7018-6134-aba3-3436e4bb5539"
      },
      "outputs": [],
      "source": [
        "X_train,y_train=con2_df,con1_df['logerror']"
      ]
    },
    {
      "cell_type": "code",
      "execution_count": null,
      "metadata": {
        "_cell_guid": "d30498ca-f434-22dd-c9db-77101069117b"
      },
      "outputs": [],
      "source": [
        "from sklearn.ensemble import GradientBoostingRegressor"
      ]
    },
    {
      "cell_type": "code",
      "execution_count": null,
      "metadata": {
        "_cell_guid": "c63166e4-d0b6-a3d0-a199-5d731c9ed102"
      },
      "outputs": [],
      "source": [
        "clf = GradientBoostingRegressor()"
      ]
    },
    {
      "cell_type": "code",
      "execution_count": null,
      "metadata": {
        "_cell_guid": "2f873602-be25-15a1-5c72-c7b445058629"
      },
      "outputs": [],
      "source": [
        "clf = clf.fit(X_train,y_train)"
      ]
    },
    {
      "cell_type": "code",
      "execution_count": null,
      "metadata": {
        "_cell_guid": "69ba6906-6457-afc9-9ace-03132e87ced6"
      },
      "outputs": [],
      "source": [
        "feat_imp_num = list(clf.feature_importances_)"
      ]
    },
    {
      "cell_type": "code",
      "execution_count": null,
      "metadata": {
        "_cell_guid": "92879fb2-6859-ad1e-cdd2-f5859904481a"
      },
      "outputs": [],
      "source": [
        "feat_dict = dict(zip(featto_use,feat_imp_num))"
      ]
    },
    {
      "cell_type": "code",
      "execution_count": null,
      "metadata": {
        "_cell_guid": "3109b1b2-eeed-0a21-e8a3-4d3bb0adb417"
      },
      "outputs": [],
      "source": [
        "sorted_feat = reversed(sorted(feat_dict,key=feat_dict.__getitem__))"
      ]
    },
    {
      "cell_type": "code",
      "execution_count": null,
      "metadata": {
        "_cell_guid": "d64658f2-47ff-4e32-b9ff-62c38eabc943"
      },
      "outputs": [],
      "source": [
        "feat_name_rank=[]\n",
        "feat_rank=[]\n",
        "for k in sorted_feat:\n",
        "    if feat_dict[k]!=0.0:\n",
        "        feat_name_rank.append(k)\n",
        "        feat_rank.append(feat_dict[k])"
      ]
    },
    {
      "cell_type": "code",
      "execution_count": null,
      "metadata": {
        "_cell_guid": "6d435358-edef-8a72-5191-8ed84c5cbf34"
      },
      "outputs": [],
      "source": [
        "rankwise_dict = dict(zip(feat_name_rank,feat_rank))"
      ]
    },
    {
      "cell_type": "code",
      "execution_count": null,
      "metadata": {
        "_cell_guid": "40c9c783-6d25-0135-9267-152a8968b090"
      },
      "outputs": [],
      "source": [
        "feat_df = pd.DataFrame.from_dict(rankwise_dict,orient='index').reset_index()"
      ]
    },
    {
      "cell_type": "code",
      "execution_count": null,
      "metadata": {
        "_cell_guid": "1d5ca3ca-fa21-2122-c372-ac3b895e650d"
      },
      "outputs": [],
      "source": [
        "feat_df.columns = ['f_name','rank']"
      ]
    },
    {
      "cell_type": "code",
      "execution_count": null,
      "metadata": {
        "_cell_guid": "b515cd18-03f4-7110-5d20-594bb7ca195e"
      },
      "outputs": [],
      "source": [
        "plt.figure(figsize=(20,30))\n",
        "sns.barplot(x='rank',y='f_name',data=feat_df)\n",
        "sns.plt.show()"
      ]
    },
    {
      "cell_type": "code",
      "execution_count": null,
      "metadata": {
        "_cell_guid": "5083c0ca-d148-912d-29cd-c89afdaf222a"
      },
      "outputs": [],
      "source": [
        "#please upvote, if you find it useful"
      ]
    },
    {
      "cell_type": "code",
      "execution_count": null,
      "metadata": {
        "_cell_guid": "4ffd9a4f-98d5-6e4b-8ae4-8c4446b90d76"
      },
      "outputs": [],
      "source": ""
    }
  ],
  "metadata": {
    "_change_revision": 0,
    "_is_fork": false,
    "kernelspec": {
      "display_name": "Python 3",
      "language": "python",
      "name": "python3"
    },
    "language_info": {
      "codemirror_mode": {
        "name": "ipython",
        "version": 3
      },
      "file_extension": ".py",
      "mimetype": "text/x-python",
      "name": "python",
      "nbconvert_exporter": "python",
      "pygments_lexer": "ipython3",
      "version": "3.6.0"
    }
  },
  "nbformat": 4,
  "nbformat_minor": 0
}