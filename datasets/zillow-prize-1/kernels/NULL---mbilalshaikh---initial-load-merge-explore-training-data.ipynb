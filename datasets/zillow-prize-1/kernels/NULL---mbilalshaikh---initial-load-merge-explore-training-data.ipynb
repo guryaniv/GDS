{
  "cells": [
    {
      "cell_type": "markdown",
      "metadata": {
        "_cell_guid": "1e710edd-61c0-d212-9376-b0a62791b97d"
      },
      "source": [
        "** First we will load training data into train object  \n",
        "** Secondly we will load properties data from the properties csv file  \n",
        "** later we will merge them   "
      ]
    },
    {
      "cell_type": "code",
      "execution_count": null,
      "metadata": {
        "_cell_guid": "d7c4e787-7375-e066-8ecb-32984fcdae01"
      },
      "outputs": [],
      "source": [
        "# This Python 3 environment comes with many helpful analytics libraries installed\n",
        "# It is defined by the kaggle/python docker image: https://github.com/kaggle/docker-python\n",
        "# For example, here's several helpful packages to load in \n",
        "\n",
        "import numpy as np # linear algebra\n",
        "import pandas as pd # data processing, CSV file I/O (e.g. pd.read_csv)\n",
        "\n",
        "import matplotlib.pyplot as plt\n",
        "import seaborn as sns"
      ]
    },
    {
      "cell_type": "code",
      "execution_count": null,
      "metadata": {
        "_cell_guid": "779c5ce0-da84-14a5-f942-b9ec181ada5a"
      },
      "outputs": [],
      "source": [
        "# Input data files are available in the \"../input/\" directory.\n",
        "# For example, running this (by clicking run or pressing Shift+Enter) will list the files in the input directory\n",
        "\n",
        "from subprocess import check_output\n",
        "print(check_output([\"ls\", \"../input\"]).decode(\"utf8\"))\n",
        "\n",
        "train =pd.read_csv(\"../input/train_2016.csv\")\n",
        "train.head()\n",
        "train.info()\n",
        "\n",
        "props = pd.read_csv(\"../input/properties_2016.csv\")\n",
        "#props.columns\n",
        "\n",
        "df = pd.merge(train,props,how=\"left\",on=\"parcelid\")\n",
        "\n",
        "# Now we have both files merged in the pd object"
      ]
    },
    {
      "cell_type": "code",
      "execution_count": null,
      "metadata": {
        "_cell_guid": "08c65b51-b9c0-01b0-70f2-3fd05dac3b84"
      },
      "outputs": [],
      "source": [
        "small_df = df[:500]"
      ]
    },
    {
      "cell_type": "code",
      "execution_count": null,
      "metadata": {
        "_cell_guid": "e07a341c-781b-9842-973e-1036df2e8985"
      },
      "outputs": [],
      "source": [
        "pids = small_df['parcelid']\n",
        "(pids.is_unique, pids.hasnans)\n",
        "df.shape\n",
        "small_df.shape"
      ]
    },
    {
      "cell_type": "markdown",
      "metadata": {
        "_cell_guid": "eca74f7f-3e44-dd49-bcf4-fbe5617f4a35"
      },
      "source": [
        "**Logerror:**\n",
        "Target variable for this competition is \"logerror\" field. So let us do some analysis on this field first."
      ]
    },
    {
      "cell_type": "code",
      "execution_count": null,
      "metadata": {
        "_cell_guid": "ace47e66-3410-7f28-33aa-1466e4ca8ffb"
      },
      "outputs": [],
      "source": [
        "plt.figure(figsize=(8,6))\n",
        "plt.scatter(range(df.shape[0]), np.sort(df.logerror.values))\n",
        "plt.xlabel('index', fontsize=12)\n",
        "plt.ylabel('logerror', fontsize=12)\n",
        "plt.show()\n"
      ]
    },
    {
      "cell_type": "code",
      "execution_count": null,
      "metadata": {
        "_cell_guid": "9e29a25a-d4cb-5f21-e878-3305fa5f025f"
      },
      "outputs": [],
      "source": [
        "df.logerror.values"
      ]
    },
    {
      "cell_type": "code",
      "execution_count": null,
      "metadata": {
        "_cell_guid": "627eb927-4760-b019-d767-682acaa0e621"
      },
      "outputs": [],
      "source": [
        "***More to come. Stay tuned.!\n",
        "Please upvote if you find it useful :)***"
      ]
    }
  ],
  "metadata": {
    "_change_revision": 0,
    "_is_fork": false,
    "kernelspec": {
      "display_name": "Python 3",
      "language": "python",
      "name": "python3"
    },
    "language_info": {
      "codemirror_mode": {
        "name": "ipython",
        "version": 3
      },
      "file_extension": ".py",
      "mimetype": "text/x-python",
      "name": "python",
      "nbconvert_exporter": "python",
      "pygments_lexer": "ipython3",
      "version": "3.6.0"
    }
  },
  "nbformat": 4,
  "nbformat_minor": 0
}