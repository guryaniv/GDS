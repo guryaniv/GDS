{
  "cells": [
    {
      "cell_type": "code",
      "execution_count": null,
      "metadata": {
        "_cell_guid": "84a703a5-c813-26ed-c587-3434a07aa28f"
      },
      "outputs": [],
      "source": [
        "# This Python 3 environment comes with many helpful analytics libraries installed\n",
        "# It is defined by the kaggle/python docker image: https://github.com/kaggle/docker-python\n",
        "# For example, here's several helpful packages to load in \n",
        "\n",
        "import numpy as np # linear algebra\n",
        "import pandas as pd # data processing, CSV file I/O (e.g. pd.read_csv)\n",
        "import sklearn\n",
        "\n",
        "# Input data files are available in the \"../input/\" directory.\n",
        "# For example, running this (by clicking run or pressing Shift+Enter) will list the files in the input directory\n",
        "\n",
        "from subprocess import check_output\n",
        "print(check_output([\"ls\", \"../input\"]).decode(\"utf8\"))\n",
        "\n",
        "# Any results you write to the current directory are saved as output."
      ]
    },
    {
      "cell_type": "code",
      "execution_count": null,
      "metadata": {
        "_cell_guid": "91820cbe-090a-3978-2f83-7ecf76d9bb5c"
      },
      "outputs": [],
      "source": [
        "len(train = pd.read_json(\"../input/train.json\")\n",
        "train.head()"
      ]
    },
    {
      "cell_type": "code",
      "execution_count": null,
      "metadata": {
        "_cell_guid": "1b3ea08a-a23c-d926-156c-295f95a5dded"
      },
      "outputs": [],
      "source": [
        "train['num_photos'] = train['photos'].apply(len)\n",
        "train['num_features'] = train['features'].apply(len)\n",
        "train['num_description_words'] = train['description'].apply(lambda x: len(x.split(' ')))\n",
        "train['num_description_len'] = train['description'].apply(len)"
      ]
    },
    {
      "cell_type": "code",
      "execution_count": null,
      "metadata": {
        "_cell_guid": "f31e2c77-94ef-1a16-0c9c-775c5cf15625"
      },
      "outputs": [],
      "source": [
        "ulimit = np.percentile(train.price.values, 99)\n",
        "train['price'].ix[train['price']>ulimit] = ulimit"
      ]
    },
    {
      "cell_type": "code",
      "execution_count": null,
      "metadata": {
        "_cell_guid": "13c4071a-2860-ccf9-071d-0de07e224fb6"
      },
      "outputs": [],
      "source": [
        "reduced = train[['bathrooms','bedrooms','price','latitude','longitude','num_photos','num_features','num_description_words','num_description_len','interest_level']]\n",
        "reduced.loc[:,'adj_latitude'] = reduced['latitude'] - reduced['latitude'].mean()"
      ]
    }
  ],
  "metadata": {
    "_change_revision": 0,
    "_is_fork": false,
    "kernelspec": {
      "display_name": "Python 3",
      "language": "python",
      "name": "python3"
    },
    "language_info": {
      "codemirror_mode": {
        "name": "ipython",
        "version": 3
      },
      "file_extension": ".py",
      "mimetype": "text/x-python",
      "name": "python",
      "nbconvert_exporter": "python",
      "pygments_lexer": "ipython3",
      "version": "3.6.0"
    }
  },
  "nbformat": 4,
  "nbformat_minor": 0
}