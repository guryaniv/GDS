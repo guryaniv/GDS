{
  "cells": [
    {
      "cell_type": "markdown",
      "metadata": {
        "_cell_guid": "654296f8-e620-93b0-0a95-c8432b862ca7"
      },
      "source": [
        "- data overview for beginer\n",
        "  - data info\n",
        "  - some brand overview\n",
        "  - simple normalize\n",
        "  - some feature's graph"
      ]
    },
    {
      "cell_type": "code",
      "execution_count": null,
      "metadata": {
        "_cell_guid": "e68b7c5e-4045-d7b6-a4d3-345d1342c6db"
      },
      "outputs": [],
      "source": [
        "# This Python 3 environment comes with many helpful analytics libraries installed\n",
        "# It is defined by the kaggle/python docker image: https://github.com/kaggle/docker-python\n",
        "# For example, here's several helpful packages to load in \n",
        "\n",
        "import numpy as np # linear algebra\n",
        "import pandas as pd # data processing, CSV file I/O (e.g. pd.read_csv)\n",
        "\n",
        "# Input data files are available in the \"../input/\" directory.\n",
        "# For example, running this (by clicking run or pressing Shift+Enter) will list the files in the input directory\n",
        "\n",
        "from subprocess import check_output\n",
        "print(check_output([\"ls\", \"../input\"]).decode(\"utf8\"))\n",
        "\n",
        "# Any results you write to the current directory are saved as output."
      ]
    },
    {
      "cell_type": "code",
      "execution_count": null,
      "metadata": {
        "_cell_guid": "b9b91d9a-c9c9-175d-4160-3b2e29cacf35"
      },
      "outputs": [],
      "source": [
        "import kagglegym as kagglegym\n",
        "%matplotlib inline\n",
        "from matplotlib import pyplot\n",
        "\n",
        "with pd.HDFStore(\"../input/train.h5\", \"r\") as train:\n",
        "    # Note that the \"train\" dataframe is the only dataframe in the file\n",
        "    df = train.get(\"train\")\n",
        "\n",
        "df.info()"
      ]
    },
    {
      "cell_type": "code",
      "execution_count": null,
      "metadata": {
        "_cell_guid": "151349ab-5df5-ccab-350b-76eb22e3a753"
      },
      "outputs": [],
      "source": [
        "# brand count\n",
        "len(df[\"id\"].unique())"
      ]
    },
    {
      "cell_type": "code",
      "execution_count": null,
      "metadata": {
        "_cell_guid": "2c6f83b5-02a9-e08d-80fb-af032604b8ef"
      },
      "outputs": [],
      "source": [
        "# timestamp count\n",
        "len(df[\"timestamp\"].unique())"
      ]
    },
    {
      "cell_type": "code",
      "execution_count": null,
      "metadata": {
        "_cell_guid": "462d5c41-6700-6b90-88e2-a9676b9bd8b9"
      },
      "outputs": [],
      "source": [
        "# Create environment\n",
        "env = kagglegym.make()\n",
        "\n",
        "# Get first observation\n",
        "observation = env.reset()\n",
        "\n",
        "# Look at train dataframe info\n",
        "observation.train.info()"
      ]
    },
    {
      "cell_type": "code",
      "execution_count": null,
      "metadata": {
        "_cell_guid": "86945a8f-2b14-b912-20ab-49b63af65a74"
      },
      "outputs": [],
      "source": [
        "# normalize\n",
        "def normalize(arr):\n",
        "    arr_copy = np.copy(arr)\n",
        "    arr_copy = (arr_copy - arr_copy.mean()) / arr_copy.std()\n",
        "\n",
        "    return arr_copy"
      ]
    },
    {
      "cell_type": "code",
      "execution_count": null,
      "metadata": {
        "_cell_guid": "2614e0a9-3cad-269f-c4a3-6bdd9443e6ff"
      },
      "outputs": [],
      "source": [
        "# plot specified brandId`s feature`s\n",
        "# @note feature: 2 ~ 109\n",
        "def plotFeature(brandId, featureFrom, featureTo, ax):\n",
        "    brand = observation.train.query(\"id == \" + brandId)\n",
        "    brand.sort_values(\"timestamp\")\n",
        "    x = brand[\"timestamp\"]\n",
        "    for i in range(featureFrom, featureTo):\n",
        "        y_normalized = normalize(brand.iloc[:,i])\n",
        "        ax.plot(x, y_normalized)\n",
        "\n",
        "fig = pyplot.figure()\n",
        "\n",
        "ax1 = fig.add_subplot(2,1,1)\n",
        "ax2 = fig.add_subplot(2,1,2)\n",
        "\n",
        "fig2 = pyplot.figure()\n",
        "ax3 = fig2.add_subplot(2,1,1)\n",
        "ax4 = fig2.add_subplot(2,1,2)\n",
        "\n",
        "# plot feature\n",
        "plotFeature(\"11\", 2, 5, ax1)\n",
        "plotFeature(\"11\", 5, 10, ax2)\n",
        "plotFeature(\"11\", 10, 15, ax3)\n",
        "plotFeature(\"11\", 15, 20, ax4)"
      ]
    },
    {
      "cell_type": "code",
      "execution_count": null,
      "metadata": {
        "_cell_guid": "e0c2b39e-ae75-0135-63cd-3b30c9aae877"
      },
      "outputs": [],
      "source": [
        "# overview some brand \n",
        "brand = observation.train.query(\"id == 11\")\n",
        "brand.sort_values(\"timestamp\")\n",
        "\n",
        "# plot y.  we predict target\n",
        "x = brand[\"timestamp\"]\n",
        "y = brand[\"y\"]\n",
        "pyplot.plot(x, y)\n",
        "pyplot.plot(x, y.cumsum())"
      ]
    },
    {
      "cell_type": "code",
      "execution_count": null,
      "metadata": {
        "_cell_guid": "dd27c858-eb97-714d-3e2f-68fb8dc28fb2"
      },
      "outputs": [],
      "source": [
        "target_brand = observation.train.query(\"id == 16\")\n",
        "target_brand.sort_values(\"timestamp\")\n",
        "\n",
        "target_brand[[\"timestamp\",\"y\"]]\n",
        "\n",
        "# this brand timestamp start by 68, end by 905\n",
        "# some feature short"
      ]
    },
    {
      "cell_type": "code",
      "execution_count": null,
      "metadata": {
        "_cell_guid": "e055f64e-f20a-4a23-6558-4121f0a704fb"
      },
      "outputs": [],
      "source": [
        "y = target_brand[[\"timestamp\",\"technical_40\", \"technical_44\"]]\n",
        "\n",
        "y.iloc[160:190,:]\n",
        "\n",
        "# some feature short"
      ]
    }
  ],
  "metadata": {
    "_change_revision": 0,
    "_is_fork": false,
    "kernelspec": {
      "display_name": "Python 3",
      "language": "python",
      "name": "python3"
    },
    "language_info": {
      "codemirror_mode": {
        "name": "ipython",
        "version": 3
      },
      "file_extension": ".py",
      "mimetype": "text/x-python",
      "name": "python",
      "nbconvert_exporter": "python",
      "pygments_lexer": "ipython3",
      "version": "3.5.2"
    }
  },
  "nbformat": 4,
  "nbformat_minor": 0
}