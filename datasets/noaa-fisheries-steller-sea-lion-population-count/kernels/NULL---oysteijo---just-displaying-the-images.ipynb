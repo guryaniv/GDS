{
  "cells": [
    {
      "cell_type": "markdown",
      "metadata": {
        "_cell_guid": "504584bf-c77c-b53b-3dfa-3956d9ff633e"
      },
      "source": [
        "If you just wonder what the images looks like."
      ]
    },
    {
      "cell_type": "code",
      "execution_count": null,
      "metadata": {
        "_cell_guid": "c490d281-6339-a402-750d-a4f18016f920"
      },
      "outputs": [],
      "source": [
        "from IPython.display import Image, display\n",
        "\n",
        "from subprocess import check_output\n",
        "print(check_output([\"ls\", \"../input\"]).decode(\"utf8\"))"
      ]
    },
    {
      "cell_type": "code",
      "execution_count": null,
      "metadata": {
        "_cell_guid": "3e2fff0d-7342-3b25-642a-994795d3d45a"
      },
      "outputs": [],
      "source": [
        "print(check_output([\"ls\", \"../input/Train/\"]).decode(\"utf8\"))"
      ]
    },
    {
      "cell_type": "code",
      "execution_count": null,
      "metadata": {
        "_cell_guid": "28543008-5823-8ece-4c46-f5e1b0e930a3"
      },
      "outputs": [],
      "source": [
        "print(check_output([\"ls\", \"../input/TrainDotted/\"]).decode(\"utf8\"))"
      ]
    },
    {
      "cell_type": "code",
      "execution_count": null,
      "metadata": {
        "_cell_guid": "84189218-f3bb-625a-820b-745d4d6bc635"
      },
      "outputs": [],
      "source": [
        "from IPython.display import Image, display\n",
        "for x in range(11):\n",
        "    display(Image(\"../input/Train/%s.jpg\" % x))"
      ]
    },
    {
      "cell_type": "code",
      "execution_count": null,
      "metadata": {
        "_cell_guid": "a4d0565f-d4d0-5764-4810-6e5f4506ad00"
      },
      "outputs": [],
      "source": [
        "from IPython.display import Image, display\n",
        "for x in range(11):\n",
        "    display(Image(\"../input/TrainDotted/%s.jpg\" % x))"
      ]
    }
  ],
  "metadata": {
    "_change_revision": 0,
    "_is_fork": false,
    "kernelspec": {
      "display_name": "Python 3",
      "language": "python",
      "name": "python3"
    },
    "language_info": {
      "codemirror_mode": {
        "name": "ipython",
        "version": 3
      },
      "file_extension": ".py",
      "mimetype": "text/x-python",
      "name": "python",
      "nbconvert_exporter": "python",
      "pygments_lexer": "ipython3",
      "version": "3.6.0"
    }
  },
  "nbformat": 4,
  "nbformat_minor": 0
}