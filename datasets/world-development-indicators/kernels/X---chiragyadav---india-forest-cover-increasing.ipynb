{"cells":[
 {
  "cell_type": "code",
  "execution_count": null,
  "metadata": {
   "collapsed": false
  },
  "outputs": [],
  "source": "import pandas as pd\nimport numpy as np\nimport sklearn as sk\nimport matplotlib.pyplot as plt\n%matplotlib inline\nplt.style.use('ggplot')\n\nimport seaborn as sns\nsns.set(style=\"whitegrid\")"
 },
 {
  "cell_type": "code",
  "execution_count": null,
  "metadata": {
   "collapsed": false
  },
  "outputs": [],
  "source": "df = pd.read_csv(\"../input/Indicators.csv\")"
 },
 {
  "cell_type": "markdown",
  "metadata": {},
  "source": "## Forest area(in sq. km) of India over the period of time\n- Indicator used is AG.LND.FRST.K2(Forest area (sq. km))"
 },
 {
  "cell_type": "code",
  "execution_count": null,
  "metadata": {
   "collapsed": false
  },
  "outputs": [],
  "source": "df_india_fc = df[(df.CountryName=='India')&(df.IndicatorCode=='AG.LND.FRST.K2')]\nfig = plt.figure()\nplt.plot(df_india_fc.Year,df_india_fc.Value,'o-',color='g')\nplt.xlabel('Years')\nplt.ylabel('forest area in sq. km')\nplt.title('India forest cover area over time')\nfig.savefig('forestarea.png')"
 },
 {
  "cell_type": "markdown",
  "metadata": {},
  "source": "## Forest area (% of land area) of India over the period of time\n- Indicator used is AG.LND.FRST.ZS(Forest area (% of land area))"
 },
 {
  "cell_type": "code",
  "execution_count": null,
  "metadata": {
   "collapsed": false
  },
  "outputs": [],
  "source": "df_india_fc_landperc = df[(df.CountryName=='India')&(df.IndicatorCode=='AG.LND.FRST.ZS')]\nfig = plt.figure()\nplt.plot(df_india_fc_landperc.Year,df_india_fc_landperc.Value,'o-',color='g')\nplt.xlabel('Years')\nplt.ylabel('forest area in sq. km')\nplt.title('India forest cover area as percentage of land over time')\nfig.savefig('forestcover_percetange_of_land.png')"
 },
 {
  "cell_type": "markdown",
  "metadata": {},
  "source": "## Some notes:\nThough it seems quite opposite to what I was expecting and even any of us would be expecting since I have \nmyself witnessed all this urbanization by myself which is responsible for the deforestation.\n\nI think there is some issue with the data and suspect whether it's even accurate or not."
 },
 {
  "cell_type": "code",
  "execution_count": null,
  "metadata": {
   "collapsed": false
  },
  "outputs": [],
  "source": ""
 }
],"metadata":{"kernelspec":{"display_name":"Python 3","language":"python","name":"python3"}}, "nbformat": 4, "nbformat_minor": 0}