{
  "cells": [
    {
      "cell_type": "code",
      "execution_count": null,
      "metadata": {
        "_cell_guid": "f50e6789-3631-50a0-5b44-1a184b551bfd"
      },
      "outputs": [],
      "source": [
        "# This Python 3 environment comes with many helpful analytics libraries installed\n",
        "# It is defined by the kaggle/python docker image: https://github.com/kaggle/docker-python\n",
        "# For example, here's several helpful packages to load in \n",
        "\n",
        "import numpy as np # linear algebra\n",
        "import pandas as pd # data processing, CSV file I/O (e.g. pd.read_csv)\n",
        "import matplotlib.pyplot as plt\n",
        "import seaborn as sns\n",
        "color = sns.color_palette()\n",
        "\n",
        "# Input data files are available in the \"../input/\" directory.\n",
        "# For example, running this (by clicking run or pressing Shift+Enter) will list the files in the input directory\n",
        "\n",
        "from subprocess import check_output\n",
        "print(check_output([\"ls\", \"../input\"]).decode(\"utf8\"))\n",
        "\n",
        "# Any results you write to the current directory are saved as output.\n",
        "train_df = pd.read_csv(\"../input/train.csv\")\n",
        "\n",
        "test_df = pd.read_csv(\"../input/test.csv\")\n"
      ]
    },
    {
      "cell_type": "code",
      "execution_count": null,
      "metadata": {
        "_cell_guid": "d4ec4559-c22f-d960-a2d6-5f681304f265"
      },
      "outputs": [],
      "source": [
        "is_dup = train_df['is_duplicate'].value_counts()\n",
        "\n",
        "\n",
        "\n",
        "plt.figure(figsize=(8,4))\n",
        "\n",
        "sns.barplot(is_dup.index, is_dup.values, alpha=0.8, color=color[1])\n",
        "\n",
        "plt.ylabel('Number of Occurrences', fontsize=12)\n",
        "\n",
        "plt.xlabel('Is Duplicate', fontsize=12)\n",
        "\n",
        "plt.show()"
      ]
    },
    {
      "cell_type": "code",
      "execution_count": null,
      "metadata": {
        "_cell_guid": "8f94b40d-ad94-cd76-11f7-2137f1a6b1f4"
      },
      "outputs": [],
      "source": [
        "print('Total number of question pairs for training: {}'.format(len(train_df)))\n",
        "print('Duplicate pairs: {}%'.format(round(train_df['is_duplicate'].mean()*100, 2)))\n",
        "qids = pd.Series(train_df['qid1'].tolist() + train_df['qid2'].tolist())\n",
        "print('Total number of questions in the training data: {}'.format(len(\n",
        "    np.unique(qids))))\n",
        "print('Number of questions that appear multiple times: {}'.format(np.sum(qids.value_counts() > 1)))\n",
        "\n",
        "plt.figure(figsize=(12, 5))\n",
        "plt.hist(qids.value_counts(), bins=50)\n",
        "plt.yscale('log', nonposy='clip')\n",
        "plt.title('Log-Histogram of question appearance counts')\n",
        "plt.xlabel('Number of occurences of question')\n",
        "plt.ylabel('Number of questions')\n",
        "print()"
      ]
    },
    {
      "cell_type": "code",
      "execution_count": null,
      "metadata": {
        "_cell_guid": "1083025f-5206-d209-239e-6335d32cf83b"
      },
      "outputs": [],
      "source": [
        "from sklearn.metrics import log_loss\n",
        "\n",
        "p = train_df['is_duplicate'].mean() # Our predicted probability\n",
        "print('Predicted score:', log_loss(train_df['is_duplicate'], np.zeros_like(train_df['is_duplicate']) + p))\n",
        "\n",
        "df_test = pd.read_csv('../input/test.csv')\n",
        "sub = pd.DataFrame({'test_id': test_df['test_id'], 'is_duplicate': p})\n",
        "sub.to_csv('naive_submission.csv', index=False)\n",
        "sub.head()"
      ]
    },
    {
      "cell_type": "markdown",
      "metadata": {
        "_cell_guid": "20c6061f-8f57-4a11-b0be-c0dfed5dbd42"
      },
      "source": [
        "**Test Submission**"
      ]
    },
    {
      "cell_type": "code",
      "execution_count": null,
      "metadata": {
        "_cell_guid": "d6ca2bcf-3e3c-ec05-75b0-3caaa8ba54cc"
      },
      "outputs": [],
      "source": ""
    }
  ],
  "metadata": {
    "_change_revision": 0,
    "_is_fork": false,
    "kernelspec": {
      "display_name": "Python 3",
      "language": "python",
      "name": "python3"
    },
    "language_info": {
      "codemirror_mode": {
        "name": "ipython",
        "version": 3
      },
      "file_extension": ".py",
      "mimetype": "text/x-python",
      "name": "python",
      "nbconvert_exporter": "python",
      "pygments_lexer": "ipython3",
      "version": "3.6.0"
    }
  },
  "nbformat": 4,
  "nbformat_minor": 0
}