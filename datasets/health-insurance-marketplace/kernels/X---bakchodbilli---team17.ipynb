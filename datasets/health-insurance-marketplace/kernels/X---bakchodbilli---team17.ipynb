{
  "cells": [
    {
      "cell_type": "markdown",
      "metadata": {
        "_cell_guid": "d27480d4-a422-b544-3694-47cbf107756e"
      },
      "source": ""
    },
    {
      "cell_type": "code",
      "execution_count": null,
      "metadata": {
        "_cell_guid": "ad5a5e30-8306-7311-1594-93b12ee9cba2"
      },
      "outputs": [],
      "source": [
        "# This Python 3 environment comes with many helpful analytics libraries installed\n",
        "# It is defined by the kaggle/python docker image: https://github.com/kaggle/docker-python\n",
        "# For example, here's several helpful packages to load in \n",
        "\n",
        "import numpy as np # linear algebra\n",
        "import pandas as pd # data processing, CSV file I/O (e.g. pd.read_csv)\n",
        "\n",
        "# Input data files are available in the \"../input/\" directory.\n",
        "# For example, running this (by clicking run or pressing Shift+Enter) will list the files in the input directory\n",
        "\n",
        "from subprocess import check_output\n",
        "print(check_output([\"ls\", \"../input\"]).decode(\"utf8\"))\n",
        "\n",
        "# Any results you write to the current directory are saved as output."
      ]
    },
    {
      "cell_type": "code",
      "execution_count": null,
      "metadata": {
        "_cell_guid": "9a60620d-7120-b675-f6e4-0d9299e641cd"
      },
      "outputs": [],
      "source": [
        "import plotly.plotly as py\n",
        "import plotly.offline as ploff\n",
        "\n",
        "from ggplot import *\n",
        "from subprocess import check_output\n",
        "from plotly.offline import init_notebook_mode, plot\n",
        "\n",
        "ploff.init_notebook_mode()\n",
        "\n",
        "headers = ['BusinessYear', 'StateCode', 'Age', \n",
        "           'IndividualRate', 'Couple']\n",
        "\n",
        "# read in chuncks for memory efficiency\n",
        "filePath = '../input/Rate.csv'\n",
        "chunks = pd.read_csv(filePath, iterator=True, chunksize=1000,\n",
        "                    usecols=headers)\n",
        "rates = pd.concat(chunk for chunk in chunks)\n",
        "\n",
        "randomRows = rates.sample(n=6)\n",
        "randomRows"
      ]
    },
    {
      "cell_type": "code",
      "execution_count": null,
      "metadata": {
        "_cell_guid": "fbf675d2-534e-2cb7-f91c-f342442acd77"
      },
      "outputs": [],
      "source": [
        "pd.set_option('display.float_format', lambda x: '%.2f' % x)\n",
        "print (rates['Couple'].describe())"
      ]
    },
    {
      "cell_type": "code",
      "execution_count": null,
      "metadata": {
        "_cell_guid": "f3e5b606-8d4d-659f-1e94-6770d679d402"
      },
      "outputs": [],
      "source": [
        "print (rates['IndividualRate'].describe())"
      ]
    },
    {
      "cell_type": "code",
      "execution_count": null,
      "metadata": {
        "_cell_guid": "f33ee9ac-cb90-53c4-5133-afa95d5f6673"
      },
      "outputs": [],
      "source": [
        "ratesInd9000 = rates[rates.IndividualRate < 9000]\n",
        "print (ratesInd9000['IndividualRate'].describe())"
      ]
    },
    {
      "cell_type": "code",
      "execution_count": null,
      "metadata": {
        "_cell_guid": "841841d1-bfe0-ff6e-1426-7f560dc9dbe8"
      },
      "outputs": [],
      "source": [
        "graph1 = ggplot(aes(x='Couple'), data=rates) + \\\n",
        "    geom_histogram(binwidth=10) + \\\n",
        "    ggtitle('Distribution of Couple Rates')\n",
        "    \n",
        "print (graph1)"
      ]
    },
    {
      "cell_type": "code",
      "execution_count": null,
      "metadata": {
        "_cell_guid": "2db777ab-2d95-0fbf-15b2-c2f5d176ee9a"
      },
      "outputs": [],
      "source": [
        "graph2 = ggplot(aes(x='IndividualRate'), data=ratesInd9000) + \\\n",
        "    geom_histogram(binwidth=25, colour='red') + \\\n",
        "    ggtitle('Distribution of Individual Rates')\n",
        "    \n",
        "print (graph2)"
      ]
    },
    {
      "cell_type": "code",
      "execution_count": null,
      "metadata": {
        "_cell_guid": "ac28dd05-60a9-5158-4ece-de18d1881d94"
      },
      "outputs": [],
      "source": [
        "indRate1200 = ratesInd9000[ratesInd9000.IndividualRate > 1200].count()['IndividualRate']\n",
        "percentageOfTotalInd9000 = indRate1200 / ratesInd9000['IndividualRate'].describe()['count']\n",
        "print ('%i individual plans have a rate greater than $1200. \\\n",
        "Thats %% %f of the total number of IndividualRate plans that we \\\n",
        "filtered out below $9000' % (indRate1200, percentageOfTotalInd9000))"
      ]
    },
    {
      "cell_type": "code",
      "execution_count": null,
      "metadata": {
        "_cell_guid": "a7d82283-3346-8d1b-2aef-0470a4830848"
      },
      "outputs": [],
      "source": [
        "columns = ['BusinessYear', 'StateCode', 'IndividualRate']\n",
        "indRates = pd.DataFrame(ratesInd9000, columns=columns)\n",
        "indRates2014 = indRates[indRates.BusinessYear == 2014]\n",
        "indRates2014 = indRates2014.dropna(subset=['IndividualRate'])\n",
        "randomRows2014 = indRates2014.sample(n=6)\n",
        "randomRows2014"
      ]
    },
    {
      "cell_type": "code",
      "execution_count": null,
      "metadata": {
        "_cell_guid": "65c972cd-178b-ad9b-79b4-485e05798d9f"
      },
      "outputs": [],
      "source": [
        "indRates2014['IndividualRate'].describe()"
      ]
    },
    {
      "cell_type": "code",
      "execution_count": null,
      "metadata": {
        "_cell_guid": "b88716a6-4573-8302-837f-3894053b25e2"
      },
      "outputs": [],
      "source": [
        "indMean2014 = indRates2014.groupby('StateCode', as_index=False).mean()\n",
        "indMean2014"
      ]
    },
    {
      "cell_type": "code",
      "execution_count": null,
      "metadata": {
        "_cell_guid": "5d606f4a-6ee7-446d-4946-3b73a3d6bcc4"
      },
      "outputs": [],
      "source": [
        "for col in indMean2014.columns:\n",
        "    indMean2014[col] = indMean2014[col].astype(str)\n",
        "    \n",
        "# set color scale\n",
        "colors = [[0.0, 'rgb(242,240,247)'], [0.2, 'rgb(218,218,235)'],\n",
        "         [0.4, 'rgb(188,189,220)'], [0.6, 'rgb(158,154,200)'],\n",
        "         [0.8, 'rgb(117,107,177)'], [1.0, 'rgb(84,39,143)']]\n",
        "\n",
        "indMean2014['text'] = indMean2014['StateCode'] + ' ' + 'Individuals' + ' ' + indMean2014['IndividualRate']\n",
        "\n",
        "data = [dict(\n",
        "    type = 'choropleth',\n",
        "    colorscale = colors,\n",
        "    autocolorscale = False,\n",
        "    locations = indMean2014['StateCode'],\n",
        "    z = indMean2014['IndividualRate'].astype(float),\n",
        "    locationmode = 'USA-states',\n",
        "    text = indMean2014['text'],\n",
        "    marker = dict(\n",
        "            line = dict(\n",
        "                color = 'rgb(255,255,255)',\n",
        "                width = 2\n",
        "            )\n",
        "        ),\n",
        "        colorbar = dict(\n",
        "            title = 'Rates USD'\n",
        "        )\n",
        "    )]\n",
        "\n",
        "layout = dict(\n",
        "    title = '2014 US Health Insurance Marketplace Average Rates by States for Individuals',\n",
        "    geo = dict(\n",
        "        scope = 'usa',\n",
        "    projection = dict(type='albers usa'),\n",
        "    showlakes = True,\n",
        "    lakecolor = 'rgb(255,255,255)',\n",
        "    ),\n",
        ")\n",
        "\n",
        "fig = dict(data=data, layout=layout)\n",
        "\n",
        "ploff.plot(data)\n",
        "\n"
      ]
    }
  ],
  "metadata": {
    "_change_revision": 0,
    "_is_fork": false,
    "kernelspec": {
      "display_name": "Python 3",
      "language": "python",
      "name": "python3"
    },
    "language_info": {
      "codemirror_mode": {
        "name": "ipython",
        "version": 3
      },
      "file_extension": ".py",
      "mimetype": "text/x-python",
      "name": "python",
      "nbconvert_exporter": "python",
      "pygments_lexer": "ipython3",
      "version": "3.5.2"
    }
  },
  "nbformat": 4,
  "nbformat_minor": 0
}