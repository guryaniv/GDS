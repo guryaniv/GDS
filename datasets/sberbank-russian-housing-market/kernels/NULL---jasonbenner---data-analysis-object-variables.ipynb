{
  "cells": [
    {
      "cell_type": "code",
      "execution_count": null,
      "metadata": {
        "_cell_guid": "8c3d234a-2ce6-dc3c-460b-a3ef422554e8"
      },
      "outputs": [],
      "source": [
        "# This Python 3 environment comes with many helpful analytics libraries installed\n",
        "# It is defined by the kaggle/python docker image: https://github.com/kaggle/docker-python\n",
        "# For example, here's several helpful packages to load in \n",
        "\n",
        "import numpy as np # linear algebra\n",
        "import pandas as pd # data processing, CSV file I/O (e.g. pd.read_csv)\n",
        "\n",
        "# Input data files are available in the \"../input/\" directory.\n",
        "# For example, running this (by clicking run or pressing Shift+Enter) will list the files in the input directory\n",
        "\n",
        "from subprocess import check_output\n",
        "print(check_output([\"ls\", \"../input\"]).decode(\"utf8\"))\n",
        "\n",
        "# Any results you write to the current directory are saved as output.\n"
      ]
    },
    {
      "cell_type": "code",
      "execution_count": null,
      "metadata": {
        "_cell_guid": "ab91b3a3-06a6-d8c4-e850-4fd5b28fb1e4"
      },
      "outputs": [],
      "source": [
        "train_df = pd.read_csv(\"../input/train.csv\")"
      ]
    },
    {
      "cell_type": "code",
      "execution_count": null,
      "metadata": {
        "_cell_guid": "75888f59-4ce9-a6ef-294b-1f153d59f92f"
      },
      "outputs": [],
      "source": [
        "train_df.columns"
      ]
    },
    {
      "cell_type": "code",
      "execution_count": null,
      "metadata": {
        "_cell_guid": "c89c5377-1347-93aa-4bc1-ba32e04e783d"
      },
      "outputs": [],
      "source": [
        "train_df.info()"
      ]
    },
    {
      "cell_type": "code",
      "execution_count": null,
      "metadata": {
        "_cell_guid": "f9823361-5918-230b-1fa2-926bb759d4bc"
      },
      "outputs": [],
      "source": [
        "train_df.full_sq.value_counts(dropna=False)"
      ]
    },
    {
      "cell_type": "code",
      "execution_count": null,
      "metadata": {
        "_cell_guid": "b94f4bb4-e84f-882e-d1a2-cd5258b33dc7"
      },
      "outputs": [],
      "source": [
        "train_df.full_sq.plot('hist')"
      ]
    },
    {
      "cell_type": "code",
      "execution_count": null,
      "metadata": {
        "_cell_guid": "54115a8a-477a-3b70-4b8e-1ddf847fe6e5"
      },
      "outputs": [],
      "source": [
        "train_df.life_sq.plot('hist')"
      ]
    },
    {
      "cell_type": "code",
      "execution_count": null,
      "metadata": {
        "_cell_guid": "09c5de6f-4128-723f-ef74-8b5eed446be5"
      },
      "outputs": [],
      "source": [
        "train_df[train_df.life_sq < 10]"
      ]
    },
    {
      "cell_type": "code",
      "execution_count": null,
      "metadata": {
        "_cell_guid": "075d7be3-97ed-16dd-65c5-f8c640ba0351"
      },
      "outputs": [],
      "source": [
        "train_df_objects = train_df.select_dtypes(include = [np.object])"
      ]
    },
    {
      "cell_type": "code",
      "execution_count": null,
      "metadata": {
        "_cell_guid": "2a4e1a4a-3102-eed4-a6d4-f3aaab8ec3ff"
      },
      "outputs": [],
      "source": [
        "train_df_objects.columns"
      ]
    },
    {
      "cell_type": "code",
      "execution_count": null,
      "metadata": {
        "_cell_guid": "0178a645-1b03-28db-054e-c3ce14f3917e"
      },
      "outputs": [],
      "source": [
        "train_df.product_type_categorical = train_df_objects.product_type.astype('category')"
      ]
    },
    {
      "cell_type": "code",
      "execution_count": null,
      "metadata": {
        "_cell_guid": "736203ac-ae63-a23e-f809-fd4e8475a474"
      },
      "outputs": [],
      "source": [
        "train_df.product_type_categorical"
      ]
    },
    {
      "cell_type": "code",
      "execution_count": null,
      "metadata": {
        "_cell_guid": "8916c823-3dbb-ee8c-ca02-a20ffcc2a7c9"
      },
      "outputs": [],
      "source": [
        "df_product_type = pd.get_dummies(train_df_objects.product_type_categorical)"
      ]
    },
    {
      "cell_type": "code",
      "execution_count": null,
      "metadata": {
        "_cell_guid": "8ca4f71b-421e-8512-9e5a-2a27c47e443f"
      },
      "outputs": [],
      "source": [
        "df_product_type"
      ]
    },
    {
      "cell_type": "code",
      "execution_count": null,
      "metadata": {
        "_cell_guid": "80773191-4386-1d25-3ad8-add591a3e046"
      },
      "outputs": [],
      "source": [
        "train_df = train_df.join(df_product_type)"
      ]
    },
    {
      "cell_type": "code",
      "execution_count": null,
      "metadata": {
        "_cell_guid": "a7f8cf40-9cee-2277-7b9d-663a2587ab18"
      },
      "outputs": [],
      "source": [
        "train_df"
      ]
    },
    {
      "cell_type": "code",
      "execution_count": null,
      "metadata": {
        "_cell_guid": "cd1d4bb5-9a0a-be45-65fa-07fef4ccabf3"
      },
      "outputs": [],
      "source": [
        "train_df = train_df.rename(columns = {'Investment': 'product_type_investment', 'OwnerOccupier':'product_type_owner_occupier'})"
      ]
    },
    {
      "cell_type": "code",
      "execution_count": null,
      "metadata": {
        "_cell_guid": "08443a5a-7d40-91ca-65be-0d0c72baa089"
      },
      "outputs": [],
      "source": [
        "train_df.drop('product_type', axis =1)"
      ]
    }
  ],
  "metadata": {
    "_change_revision": 0,
    "_is_fork": false,
    "kernelspec": {
      "display_name": "Python 3",
      "language": "python",
      "name": "python3"
    },
    "language_info": {
      "codemirror_mode": {
        "name": "ipython",
        "version": 3
      },
      "file_extension": ".py",
      "mimetype": "text/x-python",
      "name": "python",
      "nbconvert_exporter": "python",
      "pygments_lexer": "ipython3",
      "version": "3.6.0"
    }
  },
  "nbformat": 4,
  "nbformat_minor": 0
}