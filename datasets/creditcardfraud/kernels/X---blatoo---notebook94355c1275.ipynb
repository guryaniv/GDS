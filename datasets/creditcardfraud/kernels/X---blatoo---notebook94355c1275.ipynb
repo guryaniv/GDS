{
  "metadata": {
    "kernelspec": {
      "display_name": "Python 3",
      "language": "python",
      "name": "python3"
    },
    "language_info": {
      "codemirror_mode": {
        "name": "ipython",
        "version": 3
      },
      "file_extension": ".py",
      "mimetype": "text/x-python",
      "name": "python",
      "nbconvert_exporter": "python",
      "pygments_lexer": "ipython3",
      "version": "3.6.0"
    }
  },
  "nbformat": 4,
  "nbformat_minor": 0,
  "cells": [
    {
      "cell_type": "code",
      "execution_count": 2,
      "metadata": {
        "_cell_guid": "a8657ded-f6e8-7abe-86a0-a3badd8434cc",
        "_active": false
      },
      "outputs": [],
      "source": "# This Python 3 environment comes with many helpful analytics libraries installed\n# It is defined by the kaggle/python docker image: https://github.com/kaggle/docker-python\n# For example, here's several helpful packages to load in \n%matplotlib inline\nimport matplotlib.pyplot as plt\nimport numpy as np # linear algebra\nimport pandas as pd # data processing, CSV file I/O (e.g. pd.read_csv)\n\n# Input data files are available in the \"../input/\" directory.\n# For example, running this (by clicking run or pressing Shift+Enter) will list the files in the input directory\n\nfrom subprocess import check_output\nprint(check_output([\"ls\", \"../input\"]).decode(\"utf8\"))\n\n# Any results you write to the current directory are saved as output.\ndf = pd.read_csv(\"../input/creditcard.csv\")\ndef myColor(result):\n    if result == 1:\n        return \"red\"\n    else:\n        return \"blue\"\ntheColor = [myColor(result) for result in df.Class]\ndf[\"diff_time\"]=df.Time.diff(1)",
      "execution_state": "idle"
    },
    {
      "cell_type": "code",
      "execution_count": 3,
      "metadata": {
        "_cell_guid": "7dafdec0-d11b-fd3c-ce9e-5269d73aa4a6",
        "_active": false
      },
      "outputs": [],
      "source": "df.fillna(0, inplace=True)\ndf.head()",
      "execution_state": "idle"
    },
    {
      "cell_type": "markdown",
      "metadata": {
        "_cell_guid": "a79b567c-7f7e-7411-5538-72a4d846bbe0",
        "_active": false
      },
      "source": "#Watch the data",
      "outputs": []
    },
    {
      "cell_type": "code",
      "execution_count": 6,
      "metadata": {
        "_cell_guid": "1892cc10-a46b-fb7c-180c-bd5ead82b032",
        "_active": false
      },
      "outputs": [],
      "source": "plt.scatter(df.diff_time, df.V2, c=theColor, s=df.Amount, alpha=0.3)",
      "execution_state": "idle"
    },
    {
      "cell_type": "code",
      "execution_count": 7,
      "metadata": {
        "_cell_guid": "5c4797d0-ac74-1537-f83e-b8cc39731a2e",
        "_active": true
      },
      "outputs": [],
      "source": "plt.scatter(df.Time, df.V2, c=theColor, s=df.Amount, alpha=0.3)",
      "execution_state": "idle"
    }
  ]
}