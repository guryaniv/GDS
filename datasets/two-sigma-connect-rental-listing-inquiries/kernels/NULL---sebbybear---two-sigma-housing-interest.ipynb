{
  "cells": [
    {
      "cell_type": "markdown",
      "metadata": {
        "_cell_guid": "ecebe55b-d574-38c4-1577-1578752dfc69"
      },
      "source": [
        "Two Sigma Housing Interest"
      ]
    },
    {
      "cell_type": "code",
      "execution_count": null,
      "metadata": {
        "_cell_guid": "5aab721f-7fd2-6376-c2fb-522f60e5aedc"
      },
      "outputs": [],
      "source": [
        "# This Python 3 environment comes with many helpful analytics libraries installed\n",
        "# It is defined by the kaggle/python docker image: https://github.com/kaggle/docker-python\n",
        "# For example, here's several helpful packages to load in \n",
        "\n",
        "import numpy as np # linear algebra\n",
        "import pandas as pd # data processing, CSV file I/O (e.g. pd.read_csv)\n",
        "import seaborn as sns\n",
        "import matplotlib.pyplot as plt\n",
        "\n",
        "# Input data files are available in the \"../input/\" directory.\n",
        "# For example, running this (by clicking run or pressing Shift+Enter) will list the files in the input directory\n",
        "\n",
        "from subprocess import check_output\n",
        "print(check_output([\"ls\", \"../input\"]).decode(\"utf8\"))\n",
        "\n",
        "# Any results you write to the current directory are saved as output."
      ]
    },
    {
      "cell_type": "markdown",
      "metadata": {
        "_cell_guid": "734c46d0-369f-3ff7-1799-4a0146efc880"
      },
      "source": [
        "EDA"
      ]
    },
    {
      "cell_type": "code",
      "execution_count": null,
      "metadata": {
        "_cell_guid": "f85fe988-509b-dbd4-e40a-55dbb128ad80"
      },
      "outputs": [],
      "source": [
        "train = pd.read_json(\"../input/train.json\")"
      ]
    },
    {
      "cell_type": "code",
      "execution_count": null,
      "metadata": {
        "_cell_guid": "2782e8ad-da64-4331-6047-1623bb7ba42b"
      },
      "outputs": [],
      "source": [
        "train.head()"
      ]
    },
    {
      "cell_type": "code",
      "execution_count": null,
      "metadata": {
        "_cell_guid": "dee39bf4-afb0-7fe1-5a7e-ff390bb4ad31"
      },
      "outputs": [],
      "source": [
        "train.columns"
      ]
    },
    {
      "cell_type": "code",
      "execution_count": null,
      "metadata": {
        "_cell_guid": "ed65769c-9edb-0d65-6178-7f6072fbc3f1"
      },
      "outputs": [],
      "source": [
        "#find correlations"
      ]
    },
    {
      "cell_type": "code",
      "execution_count": null,
      "metadata": {
        "_cell_guid": "93e81fa9-9441-d32f-57b8-1209cbd64a92"
      },
      "outputs": [],
      "source": [
        "sns.pairplot(data=train,hue='interest_level')"
      ]
    },
    {
      "cell_type": "code",
      "execution_count": null,
      "metadata": {
        "_cell_guid": "542281c2-8337-7a4f-ec41-733ca58d13e6"
      },
      "outputs": [],
      "source": [
        "sns.stripplot(x='interest_level',y='listing_id',data=train,jitter=True)"
      ]
    },
    {
      "cell_type": "code",
      "execution_count": null,
      "metadata": {
        "_cell_guid": "d51f36f9-2ded-ee13-9dbd-141a3a53fcb6"
      },
      "outputs": [],
      "source": [
        "sns.lmplot(x='bathrooms',y='bedrooms',data=train,hue='interest_level')"
      ]
    },
    {
      "cell_type": "code",
      "execution_count": null,
      "metadata": {
        "_cell_guid": "45008235-eb24-f705-7387-6a5a63da1f53"
      },
      "outputs": [],
      "source": [
        "#remove geographical outliers\n",
        "train = train[train['latitude']>35]\n",
        "sns.lmplot(x='latitude',y='longitude',data=train,hue='interest_level',fit_reg=False)"
      ]
    },
    {
      "cell_type": "code",
      "execution_count": null,
      "metadata": {
        "_cell_guid": "cff6ae11-ccb7-ece0-4a8a-cdbce03fa0b3"
      },
      "outputs": [],
      "source": [
        "sns.lmplot(x='latitude',y='longitude',data=train[(train['latitude']<41.5) & (train['latitude']>40.2)],hue='interest_level',fit_reg=False,scatter_kws={'alpha':0.2})"
      ]
    },
    {
      "cell_type": "code",
      "execution_count": null,
      "metadata": {
        "_cell_guid": "a4fd33b3-dda0-9929-7fa7-fc575f770cee"
      },
      "outputs": [],
      "source": [
        "sns.lmplot(x='latitude',y='longitude',data=train[train['interest_level']=='medium'],fit_reg=False)"
      ]
    },
    {
      "cell_type": "code",
      "execution_count": null,
      "metadata": {
        "_cell_guid": "097e0b18-ec82-789e-1512-756ea1b9453f"
      },
      "outputs": [],
      "source": [
        "#remove bathroom outliers\n",
        "train = train[train['bathrooms']<10]\n",
        "sns.stripplot(x='interest_level',y='bathrooms',data=train,jitter=True)"
      ]
    },
    {
      "cell_type": "code",
      "execution_count": null,
      "metadata": {
        "_cell_guid": "1dce0891-4978-b563-55ce-ff9bab4aa674"
      },
      "outputs": [],
      "source": [
        "sns.stripplot(x='interest_level',y='bedrooms',data=train,jitter=True)"
      ]
    },
    {
      "cell_type": "code",
      "execution_count": null,
      "metadata": {
        "_cell_guid": "a08ed21c-c02b-a6ba-8dca-5ac7ff010140"
      },
      "outputs": [],
      "source": [
        "#remove price outliers\n",
        "train = train[train['price']<1000000]\n",
        "sns.stripplot(x='interest_level',y='price',data=train,jitter=True)"
      ]
    },
    {
      "cell_type": "code",
      "execution_count": null,
      "metadata": {
        "_cell_guid": "0ad03e07-c4f0-647f-658b-d8c95aacb91f"
      },
      "outputs": [],
      "source": [
        "sns.barplot(x='interest_level',y='price',data=train)"
      ]
    },
    {
      "cell_type": "code",
      "execution_count": null,
      "metadata": {
        "_cell_guid": "f8c43ace-d195-f336-be04-4b6e8aef4a0a"
      },
      "outputs": [],
      "source": [
        "sns.barplot(x='interest_level',y='bedrooms',data=train)"
      ]
    },
    {
      "cell_type": "code",
      "execution_count": null,
      "metadata": {
        "_cell_guid": "3429ea26-4dad-8c0f-ecd9-bad87cd354c0"
      },
      "outputs": [],
      "source": [
        "sns.barplot(x='interest_level',y='bathrooms',data=train)"
      ]
    },
    {
      "cell_type": "code",
      "execution_count": null,
      "metadata": {
        "_cell_guid": "ce329818-f019-1291-7a24-0730c788b1fc"
      },
      "outputs": [],
      "source": [
        "train['latlong']=train['latitude']*train['longitude']\n",
        "sns.boxplot(x='interest_level',y='longitude',data=train)"
      ]
    },
    {
      "cell_type": "code",
      "execution_count": null,
      "metadata": {
        "_cell_guid": "53147fd8-226a-aa6f-567e-274fc1d436f7"
      },
      "outputs": [],
      "source": [
        "train.columns"
      ]
    },
    {
      "cell_type": "code",
      "execution_count": null,
      "metadata": {
        "_cell_guid": "6c64a1c3-9fb3-e530-f69d-0445c9e1739d"
      },
      "outputs": [],
      "source": [
        "from datetime import datetime\n",
        "dates = train['created'].apply(lambda x: x[0:10])"
      ]
    },
    {
      "cell_type": "code",
      "execution_count": null,
      "metadata": {
        "_cell_guid": "664e3773-ba35-a278-8ed7-0141ee91863b"
      },
      "outputs": [],
      "source": [
        "dates = dates.apply(lambda x: datetime.strptime(x, '%Y-%m-%d'))"
      ]
    },
    {
      "cell_type": "code",
      "execution_count": null,
      "metadata": {
        "_cell_guid": "43e11894-0137-1142-75be-6958646e7272"
      },
      "outputs": [],
      "source": [
        "dates"
      ]
    },
    {
      "cell_type": "code",
      "execution_count": null,
      "metadata": {
        "_cell_guid": "d2834e15-e28d-c61a-3834-471ab24068e4"
      },
      "outputs": [],
      "source": [
        "train['dates']=dates"
      ]
    },
    {
      "cell_type": "code",
      "execution_count": null,
      "metadata": {
        "_cell_guid": "110cc48f-d4d9-a342-e442-a79aa8a08c3e"
      },
      "outputs": [],
      "source": [
        "sns.countplot(train['dates'],orient='v')"
      ]
    },
    {
      "cell_type": "code",
      "execution_count": null,
      "metadata": {
        "_cell_guid": "3ab3a724-187c-3702-7344-e27b03c28694"
      },
      "outputs": [],
      "source": [
        "train.columns"
      ]
    },
    {
      "cell_type": "code",
      "execution_count": null,
      "metadata": {
        "_cell_guid": "9954cabb-6bef-1c4c-d4b7-3684c7da8ca7"
      },
      "outputs": [],
      "source": [
        "train['features'].head()"
      ]
    },
    {
      "cell_type": "code",
      "execution_count": null,
      "metadata": {
        "_cell_guid": "ddf2a8c7-4abf-e317-e36b-a9267a502d1e"
      },
      "outputs": [],
      "source": [
        "train['feature_length']=train['features'].apply(len)"
      ]
    },
    {
      "cell_type": "code",
      "execution_count": null,
      "metadata": {
        "_cell_guid": "eb602696-0a02-6f5a-b5de-98b110fa2285"
      },
      "outputs": [],
      "source": [
        "sns.boxplot(x='interest_level',y='feature_length',data=train)"
      ]
    },
    {
      "cell_type": "code",
      "execution_count": null,
      "metadata": {
        "_cell_guid": "13567d50-cd4d-bc16-d1a0-dd0c1915e9e9"
      },
      "outputs": [],
      "source": [
        "# extract all features\n",
        "feature_vector = []\n",
        "for feature_list in train['features']:\n",
        "    for feature in feature_list:\n",
        "           feature_vector.append(feature)"
      ]
    },
    {
      "cell_type": "code",
      "execution_count": null,
      "metadata": {
        "_cell_guid": "ea2a0494-20a4-940e-8e85-3af28fc1719a"
      },
      "outputs": [],
      "source": [
        "len(feature_vector)"
      ]
    },
    {
      "cell_type": "code",
      "execution_count": null,
      "metadata": {
        "_cell_guid": "15964c1c-0171-b630-3c21-d3460df44e47"
      },
      "outputs": [],
      "source": [
        "#extract all feature words\n",
        "word_counts = []\n",
        "for i in feature_vector:\n",
        "    for j in i.split(' '):\n",
        "        word_counts.append(j)"
      ]
    },
    {
      "cell_type": "code",
      "execution_count": null,
      "metadata": {
        "_cell_guid": "f9f91013-1fd7-906f-f2cd-b09934c6ae17"
      },
      "outputs": [],
      "source": [
        "len(word_counts)"
      ]
    },
    {
      "cell_type": "code",
      "execution_count": null,
      "metadata": {
        "_cell_guid": "8cf854fc-2f3b-c2f0-dd0c-b8d2fa7e1210"
      },
      "outputs": [],
      "source": [
        "word_series = pd.Series(word_counts)"
      ]
    },
    {
      "cell_type": "code",
      "execution_count": null,
      "metadata": {
        "_cell_guid": "c70ba2a0-1284-02d5-b8fe-4f84408fabfe"
      },
      "outputs": [],
      "source": [
        "word_series.value_counts()"
      ]
    },
    {
      "cell_type": "code",
      "execution_count": null,
      "metadata": {
        "_cell_guid": "f789faa6-ef34-6f74-f8fc-3e4d008aa7a2"
      },
      "outputs": [],
      "source": [
        "# check what features are most valuable\n",
        "# flatten lists in word list\n",
        "def flatten(S):\n",
        "    wordlist = []\n",
        "    for i in S:\n",
        "        if len(i.split(' ')) > 1:\n",
        "            for j in i.split(' '):\n",
        "                wordlist.append(j)\n",
        "        else:\n",
        "            wordlist.append(i)\n",
        "    return wordlist"
      ]
    },
    {
      "cell_type": "code",
      "execution_count": null,
      "metadata": {
        "_cell_guid": "06ab7097-e039-4b0f-7c52-0dc59c336abc"
      },
      "outputs": [],
      "source": [
        "# test flatten\n",
        "l = train['features'].iloc[1]\n",
        "print(flatten(l))"
      ]
    },
    {
      "cell_type": "code",
      "execution_count": null,
      "metadata": {
        "_cell_guid": "1d5cfd07-6399-908c-9a14-efb986d369f7"
      },
      "outputs": [],
      "source": [
        "train['flattened'] = train['features'].apply(flatten)"
      ]
    },
    {
      "cell_type": "code",
      "execution_count": null,
      "metadata": {
        "_cell_guid": "146937b4-59a5-42af-8a7b-a68f6edb0933"
      },
      "outputs": [],
      "source": [
        "train['allowed'] = train['flattened'].apply(lambda x: 'Allowed' in x)"
      ]
    },
    {
      "cell_type": "code",
      "execution_count": null,
      "metadata": {
        "_cell_guid": "6796cb2c-6849-677e-e69f-dbb93c1a615d"
      },
      "outputs": [],
      "source": [
        "sum(train['allowed'])"
      ]
    },
    {
      "cell_type": "code",
      "execution_count": null,
      "metadata": {
        "_cell_guid": "0b00116c-e7bf-7b9c-51a9-8ca01508ff36"
      },
      "outputs": [],
      "source": [
        "sns.countplot(x='allowed',data=train,hue='interest_level')"
      ]
    },
    {
      "cell_type": "code",
      "execution_count": null,
      "metadata": {
        "_cell_guid": "8f42ecb9-694d-700c-c07f-a376ab2adf8e"
      },
      "outputs": [],
      "source": [
        "def word_significance(word):\n",
        "    train[word] = train['flattened'].apply(lambda x: word in x)\n",
        "    sns.countplot(x=word,data=train,hue='interest_level')"
      ]
    },
    {
      "cell_type": "code",
      "execution_count": null,
      "metadata": {
        "_cell_guid": "6592879b-24ce-2022-a82f-f50de97b6878"
      },
      "outputs": [],
      "source": [
        "def flatten(S):\n",
        "    wordlist = []\n",
        "    for i in S:\n",
        "        if len(i.split(' ')) > 1:\n",
        "            for j in i:\n",
        "                wordlist.append(j)\n",
        "        else:\n",
        "            wordlist.append(i)\n",
        "    return wordlist"
      ]
    },
    {
      "cell_type": "code",
      "execution_count": null,
      "metadata": {
        "_cell_guid": "c23448ae-5118-77cb-b731-18697fef6aae"
      },
      "outputs": [],
      "source": ""
    },
    {
      "cell_type": "code",
      "execution_count": null,
      "metadata": {
        "_cell_guid": "255fd33e-c5f8-5ae3-c333-a96170a00ecf"
      },
      "outputs": [],
      "source": ""
    },
    {
      "cell_type": "code",
      "execution_count": null,
      "metadata": {
        "_cell_guid": "9bd9393c-4424-f01e-06b4-67578f74b7f5"
      },
      "outputs": [],
      "source": ""
    }
  ],
  "metadata": {
    "_change_revision": 0,
    "_is_fork": false,
    "kernelspec": {
      "display_name": "Python 3",
      "language": "python",
      "name": "python3"
    },
    "language_info": {
      "codemirror_mode": {
        "name": "ipython",
        "version": 3
      },
      "file_extension": ".py",
      "mimetype": "text/x-python",
      "name": "python",
      "nbconvert_exporter": "python",
      "pygments_lexer": "ipython3",
      "version": "3.6.0"
    }
  },
  "nbformat": 4,
  "nbformat_minor": 0
}