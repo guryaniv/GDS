{
  "cells": [
    {
      "cell_type": "code",
      "execution_count": null,
      "metadata": {
        "_cell_guid": "bc452004-a9cc-c2b8-34ee-b2fe79c45979"
      },
      "outputs": [],
      "source": [
        "import numpy as np\n",
        "import pandas as pd"
      ]
    },
    {
      "cell_type": "code",
      "execution_count": null,
      "metadata": {
        "_cell_guid": "34b84a98-1425-5122-7b86-b67535648800"
      },
      "outputs": [],
      "source": [
        "from keras.models import Sequential\n",
        "from keras.optimizers import RMSprop, Adam\n",
        "from keras.layers import Dense, Activation, Dropout"
      ]
    },
    {
      "cell_type": "code",
      "execution_count": null,
      "metadata": {
        "_cell_guid": "e3794ed0-001f-9c4a-4340-475f96be000a"
      },
      "outputs": [],
      "source": [
        "data = pd.read_csv('../input/loan.csv', index_col=0, low_memory=False)\n",
        "data.head()"
      ]
    }
  ],
  "metadata": {
    "_change_revision": 0,
    "_is_fork": false,
    "kernelspec": {
      "display_name": "Python 3",
      "language": "python",
      "name": "python3"
    },
    "language_info": {
      "codemirror_mode": {
        "name": "ipython",
        "version": 3
      },
      "file_extension": ".py",
      "mimetype": "text/x-python",
      "name": "python",
      "nbconvert_exporter": "python",
      "pygments_lexer": "ipython3",
      "version": "3.6.0"
    }
  },
  "nbformat": 4,
  "nbformat_minor": 0
}