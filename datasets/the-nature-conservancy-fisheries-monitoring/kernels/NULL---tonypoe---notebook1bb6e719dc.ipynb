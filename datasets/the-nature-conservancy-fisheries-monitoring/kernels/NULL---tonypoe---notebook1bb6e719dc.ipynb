{
  "metadata": {
    "kernelspec": {
      "display_name": "Python 3",
      "language": "python",
      "name": "python3"
    },
    "language_info": {
      "codemirror_mode": {
        "name": "ipython",
        "version": 3
      },
      "file_extension": ".py",
      "mimetype": "text/x-python",
      "name": "python",
      "nbconvert_exporter": "python",
      "pygments_lexer": "ipython3",
      "version": "3.5.2"
    }
  },
  "nbformat": 4,
  "nbformat_minor": 0,
  "cells": [
    {
      "metadata": {
        "_cell_guid": "17f9e27c-ad59-f4c6-bf90-0c326b44e19c",
        "_active": false,
        "collapsed": false
      },
      "source": "ORB Features.\n\nNaive implementation:\n- Just get all ORB features and classify based on folder...\n- Do same on whole image from whole training set.\n\nSimple... And a start..\n\n\nAny alternatives to SIFT?\n\nPipeline needs to be:\n- Detect fish and extract from training, label them\n- Build and SVM\n\nTest:\n- Detect fish\n- Extract it and pass into SVM for classification",
      "execution_count": null,
      "cell_type": "markdown",
      "outputs": []
    },
    {
      "metadata": {
        "_cell_guid": "e6f299cb-5b64-d613-2663-f0a4996cdf89",
        "_active": true,
        "collapsed": false
      },
      "source": "# This Python 3 environment comes with many helpful analytics libraries installed\n# It is defined by the kaggle/python docker image: https://github.com/kaggle/docker-python\n# For example, here's several helpful packages to load in \n\nimport numpy as np # linear algebra\nimport pandas as pd # data processing, CSV file I/O (e.g. pd.read_csv)\nfrom scipy import ndimage\nimport cv2\n\nfrom matplotlib import pyplot as plt\n%matplotlib inline\n\n# Input data files are available in the \"../input/\" directory.\n# For example, running this (by clicking run or pressing Shift+Enter) will list the files in the input directory\n\nfrom subprocess import check_output\nprint(check_output([\"ls\", \"../input\"]).decode(\"utf8\"))\n\n# Any results you write to the current directory are saved as output.",
      "execution_count": 15,
      "cell_type": "code",
      "outputs": [],
      "execution_state": "idle"
    },
    {
      "metadata": {
        "_cell_guid": "82be6d42-57b5-8909-9d87-eb0035cf8a14",
        "_active": false,
        "collapsed": false
      },
      "source": "Try to ID one of the fish examples",
      "execution_count": null,
      "cell_type": "code",
      "outputs": []
    },
    {
      "metadata": {
        "_cell_guid": "4355fde2-71c5-d0c0-2c3e-7d2ec518feba",
        "_active": false,
        "collapsed": false
      },
      "source": "#http://docs.opencv.org/trunk/d1/d89/tutorial_py_orb.html\n#img_rows, img_cols= 350, 425\nim_array = cv2.imread('../input/train/LAG/img_00091.jpg',0)\nplt.imshow(im_array, cmap='gray')\n\nimg = im_array#cv2.imread('simple.jpg',0)\n# Initiate ORB detector\norb = cv2.ORB_create()\n# find the keypoints with ORB\nkp = orb.detect(img,None)\n# compute the descriptors with ORB\nkp, des = orb.compute(img, kp)\n# draw only keypoints location,not size and orientation\nimg2 = cv2.drawKeypoints(img, kp, None, color=(0,255,0), flags=0)\nplt.imshow(img2)",
      "execution_count": 21,
      "cell_type": "code",
      "outputs": [],
      "execution_state": "idle"
    }
  ]
}