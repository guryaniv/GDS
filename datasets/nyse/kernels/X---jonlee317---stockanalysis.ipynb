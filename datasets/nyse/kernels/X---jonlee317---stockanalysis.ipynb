{
  "cells": [
    {
      "cell_type": "code",
      "execution_count": null,
      "metadata": {
        "_cell_guid": "5cf20fbc-36a9-09bb-3c46-40900e0a3fef"
      },
      "outputs": [],
      "source": [
        "# This Python 3 environment comes with many helpful analytics libraries installed\n",
        "# It is defined by the kaggle/python docker image: https://github.com/kaggle/docker-python\n",
        "# For example, here's several helpful packages to load in \n",
        "\n",
        "import numpy as np # linear algebra\n",
        "import pandas as pd # data processing, CSV file I/O (e.g. pd.read_csv)\n",
        "\n",
        "# Input data files are available in the \"../input/\" directory.\n",
        "# For example, running this (by clicking run or pressing Shift+Enter) will list the files in the input directory\n",
        "\n",
        "from subprocess import check_output\n",
        "print(check_output([\"ls\", \"../input\"]).decode(\"utf8\"))\n",
        "\n",
        "# Any results you write to the current directory are saved as output."
      ]
    },
    {
      "cell_type": "code",
      "execution_count": null,
      "metadata": {
        "_cell_guid": "3f74f1f0-d59d-4dbf-db7d-0e1ba1b7dfca"
      },
      "outputs": [],
      "source": [
        "# Read in the CSV files\n",
        "fundamentals = pd.read_csv(\"../input/fundamentals.csv\")\n",
        "psa = pd.read_csv(\"../input/prices-split-adjusted.csv\")\n",
        "prices = pd.read_csv(\"../input/prices.csv\")\n",
        "securities = pd.read_csv(\"../input/securities.csv\")"
      ]
    },
    {
      "cell_type": "code",
      "execution_count": null,
      "metadata": {
        "_cell_guid": "2b5e6973-5986-fc0e-a619-f478571d8cc0"
      },
      "outputs": [],
      "source": [
        "fundamentals.head()"
      ]
    },
    {
      "cell_type": "code",
      "execution_count": null,
      "metadata": {
        "_cell_guid": "7f28864d-42d5-4157-3e58-8b1a7fc46bde"
      },
      "outputs": [],
      "source": [
        "psa.head()"
      ]
    },
    {
      "cell_type": "code",
      "execution_count": null,
      "metadata": {
        "_cell_guid": "14a2dcb1-36e2-c4b2-c787-4c82b165502b"
      },
      "outputs": [],
      "source": [
        "prices.head()"
      ]
    },
    {
      "cell_type": "code",
      "execution_count": null,
      "metadata": {
        "_cell_guid": "7d391ebe-909d-1369-ec42-ad7ce5414b39"
      },
      "outputs": [],
      "source": [
        "securities.head()"
      ]
    }
  ],
  "metadata": {
    "_change_revision": 0,
    "_is_fork": false,
    "kernelspec": {
      "display_name": "Python 3",
      "language": "python",
      "name": "python3"
    },
    "language_info": {
      "codemirror_mode": {
        "name": "ipython",
        "version": 3
      },
      "file_extension": ".py",
      "mimetype": "text/x-python",
      "name": "python",
      "nbconvert_exporter": "python",
      "pygments_lexer": "ipython3",
      "version": "3.6.0"
    }
  },
  "nbformat": 4,
  "nbformat_minor": 0
}