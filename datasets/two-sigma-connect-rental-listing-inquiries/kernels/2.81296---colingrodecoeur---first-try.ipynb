{
  "cells": [
    {
      "cell_type": "code",
      "execution_count": null,
      "metadata": {
        "_cell_guid": "cde44c95-a6d0-7994-614a-07cc79c9ba10"
      },
      "outputs": [],
      "source": [
        "import numpy as np\n",
        "import pandas as pd\n",
        "import json\n",
        "from sklearn.model_selection import train_test_split\n",
        "import xgboost as xgb\n",
        "from sklearn import preprocessing"
      ]
    },
    {
      "cell_type": "code",
      "execution_count": null,
      "metadata": {
        "_cell_guid": "36b575f4-f20e-4644-45a3-e9d74dd85bc9"
      },
      "outputs": [],
      "source": [
        "df_train = []\n",
        "with open(\"../input/train.json\") as f:\n",
        "    for line in f:\n",
        "        df_train.append(json.loads(line))\n",
        "df_train = pd.DataFrame(df_train[0])"
      ]
    },
    {
      "cell_type": "code",
      "execution_count": null,
      "metadata": {
        "_cell_guid": "f13e2634-4d73-a0fc-8a63-da7676885105"
      },
      "outputs": [],
      "source": [
        "df_test = []\n",
        "with open(\"../input/test.json\") as f:\n",
        "    for line in f:\n",
        "        df_test.append(json.loads(line))\n",
        "df_test = pd.DataFrame(df_test[0])"
      ]
    },
    {
      "cell_type": "code",
      "execution_count": null,
      "metadata": {
        "_cell_guid": "521e2fe9-c0f3-7cb0-3bbf-c82fb8d112e5"
      },
      "outputs": [],
      "source": [
        "le = preprocessing.LabelEncoder()\n",
        "le.fit([\"low\", \"medium\", \"high\"])"
      ]
    },
    {
      "cell_type": "code",
      "execution_count": null,
      "metadata": {
        "_cell_guid": "60a96f5c-9bd5-8bc5-0f67-f78275c5d2ca"
      },
      "outputs": [],
      "source": [
        "def build_features(df, has_label = True):\n",
        "    df[\"nb_photos\"] = df[\"photos\"].apply(len)\n",
        "    if has_label:\n",
        "        df = df[[\"listing_id\", \"bathrooms\", \"bedrooms\", \"nb_photos\", \"price\", \"interest_level\"]]\n",
        "    else:\n",
        "        df = df[[\"listing_id\", \"bathrooms\", \"bedrooms\", \"nb_photos\", \"price\"]]\n",
        "    df[\"price_per_bathroom\"] = df[\"price\"] / df[\"bathrooms\"].apply(lambda x: x+0.01)\n",
        "    df[\"price_per_bedroom\"] = df[\"price\"] / df[\"bedrooms\"].apply(lambda x: x+0.01)\n",
        "    df[\"at_least_one_bathroom\"] = df[\"bathrooms\"].apply(lambda x: 1 if x > 0 else 0)\n",
        "    df[\"at_least_one_bedroom\"] = df[\"bedrooms\"].apply(lambda x: 1 if x > 0 else 0)\n",
        "    return df"
      ]
    },
    {
      "cell_type": "code",
      "execution_count": null,
      "metadata": {
        "_cell_guid": "7a6ce269-b06a-83b6-e510-35920ed20bd1"
      },
      "outputs": [],
      "source": [
        "train = df_train\n",
        "test = df_test"
      ]
    },
    {
      "cell_type": "code",
      "execution_count": null,
      "metadata": {
        "_cell_guid": "783353a7-ace8-77b1-596b-c433922d6a81"
      },
      "outputs": [],
      "source": [
        "train = build_features(train)\n",
        "x_test = build_features(test, has_label = False)\n",
        "x_train = train.drop(\"interest_level\", axis = 1)\n",
        "y_train = train[\"interest_level\"]\n",
        "y_train = le.transform(y_train)"
      ]
    },
    {
      "cell_type": "code",
      "execution_count": null,
      "metadata": {
        "_cell_guid": "4eaaa1cf-f1f2-dcf7-9eb9-bfea64046690"
      },
      "outputs": [],
      "source": [
        "x_train, x_valid, y_train, y_valid = train_test_split(x_train, y_train, train_size = 0.7)"
      ]
    },
    {
      "cell_type": "code",
      "execution_count": null,
      "metadata": {
        "_cell_guid": "e84818aa-f857-c6e6-d18f-13b0961ee0e5"
      },
      "outputs": [],
      "source": [
        "d_train = xgb.DMatrix(x_train.drop(\"listing_id\", axis = 1), label = y_train)\n",
        "d_valid = xgb.DMatrix(x_valid.drop(\"listing_id\", axis = 1), label = y_valid)"
      ]
    },
    {
      "cell_type": "code",
      "execution_count": null,
      "metadata": {
        "_cell_guid": "c9e50b69-9fde-cc81-9e35-f9b5c83c2af3"
      },
      "outputs": [],
      "source": [
        "x_train.head()"
      ]
    },
    {
      "cell_type": "code",
      "execution_count": null,
      "metadata": {
        "_cell_guid": "d2e45379-0424-0810-dd79-821566e108c2"
      },
      "outputs": [],
      "source": [
        "params = dict()\n",
        "params[\"eta\"] = 0.2\n",
        "params['objective'] = 'multi:softprob'\n",
        "params['num_class'] = 3\n",
        "params['eval_metric'] = 'mlogloss'\n",
        "\n",
        "watchlist = [(d_train, 'train'), (d_valid, 'valid')]\n",
        "bst = xgb.train(params, d_train, 50, watchlist, early_stopping_rounds = 20, verbose_eval = 10)"
      ]
    },
    {
      "cell_type": "code",
      "execution_count": null,
      "metadata": {
        "_cell_guid": "ffccf112-91c9-9328-d727-102862ff0eaa"
      },
      "outputs": [],
      "source": [
        "bst.get_fscore()"
      ]
    },
    {
      "cell_type": "code",
      "execution_count": null,
      "metadata": {
        "_cell_guid": "29da263e-d88b-1ac8-9d37-46214202cb7b"
      },
      "outputs": [],
      "source": [
        "d_test = xgb.DMatrix(x_test.drop(\"listing_id\", axis = 1))\n",
        "p_test = bst.predict(d_test)"
      ]
    },
    {
      "cell_type": "code",
      "execution_count": null,
      "metadata": {
        "_cell_guid": "84ce8228-15c2-b452-780c-0653d671a737"
      },
      "outputs": [],
      "source": [
        "p_test_df = pd.DataFrame(p_test, columns = [\"low\", \"medium\", \"high\"], index = x_test.index)"
      ]
    },
    {
      "cell_type": "code",
      "execution_count": null,
      "metadata": {
        "_cell_guid": "2b9b8b6f-a57f-aba0-c39b-0e9dd1d65807"
      },
      "outputs": [],
      "source": [
        "sub = pd.DataFrame()\n",
        "sub['listing_id'] = x_test['listing_id']\n",
        "sub['high'] = p_test_df[\"high\"]\n",
        "sub['medium'] = p_test_df[\"medium\"]\n",
        "sub['low'] = p_test_df[\"low\"]\n",
        "sub.to_csv('basic_submission.csv', index=False)"
      ]
    },
    {
      "cell_type": "code",
      "execution_count": null,
      "metadata": {
        "_cell_guid": "a23cb812-e9a2-0284-dcfd-90e4f089c731"
      },
      "outputs": [],
      "source": [
        "sub"
      ]
    }
  ],
  "metadata": {
    "_change_revision": 0,
    "_is_fork": false,
    "kernelspec": {
      "display_name": "Python 3",
      "language": "python",
      "name": "python3"
    },
    "language_info": {
      "codemirror_mode": {
        "name": "ipython",
        "version": 3
      },
      "file_extension": ".py",
      "mimetype": "text/x-python",
      "name": "python",
      "nbconvert_exporter": "python",
      "pygments_lexer": "ipython3",
      "version": "3.6.0"
    }
  },
  "nbformat": 4,
  "nbformat_minor": 0
}