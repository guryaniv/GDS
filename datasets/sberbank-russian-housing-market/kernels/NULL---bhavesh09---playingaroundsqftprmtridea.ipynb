{
  "cells": [
    {
      "cell_type": "code",
      "execution_count": null,
      "metadata": {
        "_cell_guid": "347a1c4e-c780-d902-80a2-95f66e0fcebf"
      },
      "outputs": [],
      "source": [
        "# This Python 3 environment comes with many helpful analytics libraries installed\n",
        "# It is defined by the kaggle/python docker image: https://github.com/kaggle/docker-python\n",
        "# For example, here's several helpful packages to load in \n",
        "\n",
        "import numpy as np # linear algebra\n",
        "import pandas as pd # data processing, CSV file I/O (e.g. pd.read_csv)\n",
        "import matplotlib.pyplot as plt\n",
        "import seaborn as sns\n",
        "# Input data files are available in the \"../input/\" directory.\n",
        "# For example, running this (by clicking run or pressing Shift+Enter) will list the files in the input directory\n",
        "\n",
        "from subprocess import check_output\n",
        "print(check_output([\"ls\", \"../input\"]).decode(\"utf8\"))\n",
        "\n",
        "# Any results you write to the current directory are saved as output."
      ]
    },
    {
      "cell_type": "code",
      "execution_count": null,
      "metadata": {
        "_cell_guid": "ca727398-e82d-b977-5c85-48649da3caf3"
      },
      "outputs": [],
      "source": [
        "train = pd.read_csv(\"../input/train.csv\", parse_dates=['timestamp'])\n",
        "test = pd.read_csv(\"../input/test.csv\", parse_dates=['timestamp'])\n",
        "macro = pd.read_csv(\"../input/macro.csv\", parse_dates=['timestamp'])"
      ]
    },
    {
      "cell_type": "code",
      "execution_count": null,
      "metadata": {
        "_cell_guid": "8ac19f0a-8cd3-46c7-a72d-667004de8deb"
      },
      "outputs": [],
      "source": [
        "train = pd.merge(train, macro, how='left', on='timestamp')\n",
        "test = pd.merge(test, macro, how='left', on='timestamp')"
      ]
    },
    {
      "cell_type": "code",
      "execution_count": null,
      "metadata": {
        "_cell_guid": "3db198cc-7591-3b58-a2fe-ec44ad74f9cd"
      },
      "outputs": [],
      "source": [
        "train.describe()"
      ]
    },
    {
      "cell_type": "code",
      "execution_count": null,
      "metadata": {
        "_cell_guid": "3f3d60db-cf05-e732-900e-911f8e46977c"
      },
      "outputs": [],
      "source": [
        "train.describe(include=['O'])"
      ]
    },
    {
      "cell_type": "code",
      "execution_count": null,
      "metadata": {
        "_cell_guid": "ea70b7d8-4bfc-da9b-108e-087b31b16b61"
      },
      "outputs": [],
      "source": [
        "train[\"prize_per_sqmtr\"]= train[\"price_doc\"] / train[\"full_sq\"]"
      ]
    },
    {
      "cell_type": "code",
      "execution_count": null,
      "metadata": {
        "_cell_guid": "bd27d347-943a-f1f6-1866-86af2db8b663"
      },
      "outputs": [],
      "source": [
        "train[['sub_area', 'prize_per_sqmtr']].groupby(['sub_area'], as_index=False).mean().sort_values(by='prize_per_sqmtr', ascending=False)"
      ]
    },
    {
      "cell_type": "code",
      "execution_count": null,
      "metadata": {
        "_cell_guid": "17a9a9e6-aceb-7491-4f4d-8c931769d282"
      },
      "outputs": [],
      "source": [
        "train = train[train.full_sq>0]"
      ]
    },
    {
      "cell_type": "code",
      "execution_count": null,
      "metadata": {
        "_cell_guid": "f9e3327c-7f3f-44be-c227-bca5e430ee9e"
      },
      "outputs": [],
      "source": [
        "train[['sub_area', 'prize_per_sqmtr']].groupby(['sub_area'], as_index=False).mean().sort_values(by='prize_per_sqmtr', ascending=False)"
      ]
    },
    {
      "cell_type": "code",
      "execution_count": null,
      "metadata": {
        "_cell_guid": "66402c11-6586-71e6-b327-d7d3e7f40a7b"
      },
      "outputs": [],
      "source": [
        "randSubArea=[\"Nagornoe\",\"Akademicheskoe\",\"Poselenie Vnukovskoe\",\"Poselenie Klenovskoe\"]"
      ]
    },
    {
      "cell_type": "code",
      "execution_count": null,
      "metadata": {
        "_cell_guid": "b06adeb2-b37d-4a5d-992e-4df270182753"
      },
      "outputs": [],
      "source": [
        "fig, axis1 = plt.subplots(1,1,figsize=(12,4))\n",
        "fig = sns.boxplot(x=\"sub_area\",y=\"prize_per_sqmtr\", data=train.loc[train[\"sub_area\"].isin([\"Nagornoe\"]) ])\n",
        "axis1.set_xscale('linear')                                                      \n",
        "axis1.set_yscale('linear')      "
      ]
    },
    {
      "cell_type": "code",
      "execution_count": null,
      "metadata": {
        "_cell_guid": "3798e703-bce1-1df9-e0c7-3a6f6ba54b65"
      },
      "outputs": [],
      "source": [
        "fig, axis1 = plt.subplots(1,1,figsize=(12,4))\n",
        "fig = sns.boxplot(y=\"prize_per_sqmtr\", data=train)\n",
        "axis1.set_xscale('linear')  \n",
        "axis1.set_yscale('linear')  "
      ]
    },
    {
      "cell_type": "code",
      "execution_count": null,
      "metadata": {
        "_cell_guid": "4b7a0f51-334f-9813-c643-6217d2145136"
      },
      "outputs": [],
      "source": [
        "train_Akademicheskoe = train[train.sub_area=='Akademicheskoe']\n",
        "plt.scatter(train_Akademicheskoe.full_sq, train_Akademicheskoe.price_doc)"
      ]
    },
    {
      "cell_type": "code",
      "execution_count": null,
      "metadata": {
        "_cell_guid": "3a960d75-ff33-ffa0-af08-070107c504eb"
      },
      "outputs": [],
      "source": [
        "train_ps = train[train.sub_area=='Poselenie Sosenskoe']\n",
        "plt.scatter(train_ps.full_sq, train_ps.price_doc)"
      ]
    },
    {
      "cell_type": "code",
      "execution_count": null,
      "metadata": {
        "_cell_guid": "2bb02bcb-58e7-169e-3bf6-d673ead5c781"
      },
      "outputs": [],
      "source": [
        "plt.figure(figsize=(10,6)) \n",
        "train_b = train.loc[(train.sub_area=='Birjulevo Vostochnoe') & (train.full_sq<300) ]\n",
        "plt.scatter(train_b.full_sq, train_b.price_doc)"
      ]
    },
    {
      "cell_type": "code",
      "execution_count": null,
      "metadata": {
        "_cell_guid": "66f266f1-78c3-e988-635c-1aefb201a100"
      },
      "outputs": [],
      "source": [
        "#to get corelation of each variable against Y\n",
        "corr=train.corr()"
      ]
    },
    {
      "cell_type": "code",
      "execution_count": null,
      "metadata": {
        "_cell_guid": "3a509af8-acd7-068b-5518-a424fe8609d5"
      },
      "outputs": [],
      "source": [
        "corr"
      ]
    },
    {
      "cell_type": "code",
      "execution_count": null,
      "metadata": {
        "_cell_guid": "c8241ad5-6532-e66c-a3c2-4cb7f25f126c"
      },
      "outputs": [],
      "source": [
        "corr.columns.values"
      ]
    },
    {
      "cell_type": "code",
      "execution_count": null,
      "metadata": {
        "_cell_guid": "247b05ae-2c39-4d38-05ce-d45092a7d9d3"
      },
      "outputs": [],
      "source": [
        "from pylab import *"
      ]
    },
    {
      "cell_type": "code",
      "execution_count": null,
      "metadata": {
        "_cell_guid": "47c36f48-50fe-6993-34db-63114e9984e6"
      },
      "outputs": [],
      "source": [
        "\n",
        "print(corr.loc[:,'prize_per_sqmtr'])"
      ]
    },
    {
      "cell_type": "code",
      "execution_count": null,
      "metadata": {
        "_cell_guid": "70f1dd15-ff45-141b-7a9c-d912100233bf"
      },
      "outputs": [],
      "source": [
        "train.timestamp.describe()"
      ]
    },
    {
      "cell_type": "code",
      "execution_count": null,
      "metadata": {
        "_cell_guid": "6e310b35-f395-f3cb-a061-a10c22952ef2"
      },
      "outputs": [],
      "source": [
        "train.timestamp.apply(str).str.slice(0,4)"
      ]
    },
    {
      "cell_type": "code",
      "execution_count": null,
      "metadata": {
        "_cell_guid": "91128afd-c2b6-599d-089f-d881ff88fc91"
      },
      "outputs": [],
      "source": [
        "grouped_yr = train.groupby(train.timestamp.apply(str).str.slice(0,4))['price_doc'].aggregate(np.median).reset_index()"
      ]
    },
    {
      "cell_type": "code",
      "execution_count": null,
      "metadata": {
        "_cell_guid": "cfba732e-7eb2-c55d-e5a1-6097f4fa99db"
      },
      "outputs": [],
      "source": [
        "grouped_yr"
      ]
    },
    {
      "cell_type": "code",
      "execution_count": null,
      "metadata": {
        "_cell_guid": "9d10dc0b-16d7-0cad-2778-1c69e4326474"
      },
      "outputs": [],
      "source": [
        "plt.figure(figsize=(12,8))\n",
        "sns.barplot(grouped_yr.timestamp, grouped_yr.price_doc, alpha=0.8)\n",
        "plt.ylabel('Median Price', fontsize=12)\n",
        "plt.xlabel('Year', fontsize=12)\n",
        "plt.xticks(rotation='vertical')\n",
        "plt.show()"
      ]
    },
    {
      "cell_type": "code",
      "execution_count": null,
      "metadata": {
        "_cell_guid": "83f5cdef-d099-a1ff-34ba-bf89dfdcef8c"
      },
      "outputs": [],
      "source": [
        "plt.figure(figsize=(12,8))\n",
        "sns.barplot(grouped_yr.timestamp, grouped_yr.price_doc, alpha=0.8)\n",
        "plt.ylabel('Median Price', fontsize=12)\n",
        "plt.xlabel('Year', fontsize=12)\n",
        "plt.xticks(rotation='vertical')\n",
        "plt.show()"
      ]
    },
    {
      "cell_type": "code",
      "execution_count": null,
      "metadata": {
        "_cell_guid": "9c7dff0c-8dac-4323-c7f9-0e3c494aede0"
      },
      "outputs": [],
      "source": [
        "grouped_yrmth = train.groupby(train.timestamp.apply(str).str.slice(0,7))['prize_per_sqmtr'].aggregate(np.median).reset_index()"
      ]
    },
    {
      "cell_type": "code",
      "execution_count": null,
      "metadata": {
        "_cell_guid": "76754ad1-6f87-5ebe-0f67-547ca3db3f3a"
      },
      "outputs": [],
      "source": [
        "plt.figure(figsize=(12,8))\n",
        "sns.barplot(grouped_yrmth.timestamp, grouped_yrmth.prize_per_sqmtr, alpha=0.8)\n",
        "plt.ylabel('Median Price per SqrMtr', fontsize=12)\n",
        "plt.xlabel('YearMonth', fontsize=12)\n",
        "plt.xticks(rotation='vertical')\n",
        "plt.show()"
      ]
    },
    {
      "cell_type": "code",
      "execution_count": null,
      "metadata": {
        "_cell_guid": "e3586b41-c144-50a6-abd9-40afc78e5719"
      },
      "outputs": [],
      "source": [
        "sns.distplot(train['prize_per_sqmtr']);"
      ]
    },
    {
      "cell_type": "code",
      "execution_count": null,
      "metadata": {
        "_cell_guid": "d9fde4b9-88a1-1601-1fca-cf9e4160dd96"
      },
      "outputs": [],
      "source": [
        "fig = sns.boxplot(y=\"prize_per_sqmtr\", data=train[train.prize_per_sqmtr<600000])"
      ]
    },
    {
      "cell_type": "code",
      "execution_count": null,
      "metadata": {
        "_cell_guid": "11b30f7f-26af-239a-ca40-ac22735a7e5e"
      },
      "outputs": [],
      "source": [
        "sns.distplot(train['price_doc']);"
      ]
    },
    {
      "cell_type": "code",
      "execution_count": null,
      "metadata": {
        "_cell_guid": "75210753-768a-ee34-3388-8bfe55041000"
      },
      "outputs": [],
      "source": [
        "#correlation matrix\n",
        "corrmat = train.corr()\n",
        "f, ax = plt.subplots(figsize=(12, 9))\n",
        "sns.heatmap(corrmat, vmax=.8, square=True);"
      ]
    },
    {
      "cell_type": "code",
      "execution_count": null,
      "metadata": {
        "_cell_guid": "4b4d953b-ceab-e218-e9c1-3b04116eaa5b"
      },
      "outputs": [],
      "source": [
        "cols"
      ]
    },
    {
      "cell_type": "code",
      "execution_count": null,
      "metadata": {
        "_cell_guid": "a26c2733-26b3-10ff-bfee-df61c371831f"
      },
      "outputs": [],
      "source": [
        ""
      ]
    },
    {
      "cell_type": "code",
      "execution_count": null,
      "metadata": {
        "_cell_guid": "4b5c6643-262e-5bb9-9159-b6ff83ad66e6"
      },
      "outputs": [],
      "source": [
        "#correlation matrix\n",
        "corrmat = train.corr()\n",
        "f, ax = plt.subplots(figsize=(12, 9))\n",
        "sns.heatmap(corrmat, vmax=.8, square=True);"
      ]
    },
    {
      "cell_type": "code",
      "execution_count": null,
      "metadata": {
        "_cell_guid": "143a3ae3-dcd1-3aaa-aac3-02a920d9fead"
      },
      "outputs": [],
      "source": [
        "#saleprice correlation matrix\n",
        "k = 10 #number of variables for heatmap\n",
        "cols = corrmat.nlargest(k, 'price_doc')['price_doc'].index\n",
        "cm = np.corrcoef(train[cols].values.T)\n",
        "sns.set(font_scale=1.25)\n",
        "hm = sns.heatmap(cm, cbar=True, annot=True, square=True, fmt='.2f', annot_kws={'size': 10}, yticklabels=cols.values, xticklabels=cols.values)\n",
        "plt.show()"
      ]
    },
    {
      "cell_type": "code",
      "execution_count": null,
      "metadata": {
        "_cell_guid": "8cb53acf-f1fc-7790-5b53-b7e1dd51293d"
      },
      "outputs": [],
      "source": [
        "type(cols)\n",
        "type(cm)"
      ]
    },
    {
      "cell_type": "code",
      "execution_count": null,
      "metadata": {
        "_cell_guid": "d614b5e5-6a79-033f-f90e-24033d9c83cc"
      },
      "outputs": [],
      "source": [
        "#saleprice correlation matrix\n",
        "k = 10 #number of variables for heatmap\n",
        "cols = corrmat.nsmallest(k, 'price_doc')['price_doc'].index\n",
        "cm = np.corrcoef(train[cols].values.T)\n",
        "sns.set(font_scale=1.25)\n",
        "hm = sns.heatmap(cm, cbar=True, annot=True, square=True, fmt='.2f', annot_kws={'size': 10}, yticklabels=cols.values, xticklabels=cols.values)\n",
        "plt.show()"
      ]
    },
    {
      "cell_type": "code",
      "execution_count": null,
      "metadata": {
        "_cell_guid": "ae1e8297-4a16-1031-f490-f04111ef74db"
      },
      "outputs": [],
      "source": [
        "corrmat['price_doc'].sort_values().head(10)\n"
      ]
    },
    {
      "cell_type": "code",
      "execution_count": null,
      "metadata": {
        "_cell_guid": "83bd8c2d-316b-f1ee-2f96-ed4718eddaf3"
      },
      "outputs": [],
      "source": [
        "corrmat['price_doc'].sort_values().tail(10)"
      ]
    },
    {
      "cell_type": "code",
      "execution_count": null,
      "metadata": {
        "_cell_guid": "17bef5de-9f19-83fc-244e-92f2d3f82307"
      },
      "outputs": [],
      "source": [
        "imp_coef = pd.concat([corrmat['price_doc'].sort_values().head(10),\n",
        "                     corrmat['price_doc'].sort_values().tail(10)])"
      ]
    },
    {
      "cell_type": "code",
      "execution_count": null,
      "metadata": {
        "_cell_guid": "ed02997e-37f3-30b0-3a43-e45b18265e1d"
      },
      "outputs": [],
      "source": [
        "matplotlib.rcParams['figure.figsize'] = (8, 10)\n",
        "imp_coef.plot(kind = \"barh\")"
      ]
    },
    {
      "cell_type": "code",
      "execution_count": null,
      "metadata": {
        "_cell_guid": "06c8b566-53b5-b830-469b-0a1b4e738f98"
      },
      "outputs": [],
      "source": [
        "matplotlib.rcParams['figure.figsize'] = (8, 120)\n",
        "corrmat['price_doc'].sort_values().plot(kind = \"barh\")"
      ]
    },
    {
      "cell_type": "code",
      "execution_count": null,
      "metadata": {
        "_cell_guid": "5104c8a8-013f-043d-dd85-152f975d56ca"
      },
      "outputs": [],
      "source": [
        "train[cols].values.T"
      ]
    },
    {
      "cell_type": "code",
      "execution_count": null,
      "metadata": {
        "_cell_guid": "e36d2690-7ce7-4f79-7c9c-d2cbe08ef9c0"
      },
      "outputs": [],
      "source": [
        "imp_coef"
      ]
    }
  ],
  "metadata": {
    "_change_revision": 0,
    "_is_fork": false,
    "kernelspec": {
      "display_name": "Python 3",
      "language": "python",
      "name": "python3"
    },
    "language_info": {
      "codemirror_mode": {
        "name": "ipython",
        "version": 3
      },
      "file_extension": ".py",
      "mimetype": "text/x-python",
      "name": "python",
      "nbconvert_exporter": "python",
      "pygments_lexer": "ipython3",
      "version": "3.6.0"
    }
  },
  "nbformat": 4,
  "nbformat_minor": 0
}