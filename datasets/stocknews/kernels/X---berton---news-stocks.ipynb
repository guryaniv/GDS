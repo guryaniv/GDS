{
  "cells": [
    {
      "cell_type": "markdown",
      "metadata": {
        "_cell_guid": "ae6fcdb9-25ab-9e72-9a92-0b402db82017"
      },
      "source": [
        "none"
      ]
    },
    {
      "cell_type": "code",
      "execution_count": null,
      "metadata": {
        "_cell_guid": "e87741db-88cd-b16a-90ef-b87e0d10e0e3"
      },
      "outputs": [],
      "source": [
        "from sklearn.feature_extraction.text import CountVectorizer, TfidfVectorizer\n",
        "import pandas as pd\n",
        "import numpy as np\n",
        "from sklearn.svm import SVC\n",
        "from sklearn.metrics import roc_auc_score\n",
        "from datetime import date# This Python 3 environment comes with many helpful analytics libraries installed\n",
        "# It is defined by the kaggle/python docker image: https://github.com/kaggle/docker-python\n",
        "# For example, here's several helpful packages to load in \n",
        "\n",
        "import numpy as np # linear algebra\n",
        "import pandas as pd # data processing, CSV file I/O (e.g. pd.read_csv)\n",
        "\n",
        "# Input data files are available in the \"../input/\" directory.\n",
        "# For example, running this (by clicking run or pressing Shift+Enter) will list the files in the input directory\n",
        "\n",
        "from subprocess import check_output\n",
        "print(check_output([\"ls\", \"../input\"]).decode(\"utf8\"))\n",
        "\n",
        "# Any results you write to the current directory are saved as output."
      ]
    },
    {
      "cell_type": "code",
      "execution_count": null,
      "metadata": {
        "_cell_guid": "4f7adc7f-9749-fb00-0537-395b24c89008"
      },
      "outputs": [],
      "source": [
        "from sklearn.feature_extraction.text import CountVectorizer, TfidfVectorizer\n",
        "import pandas as pd\n",
        "import numpy as np\n",
        "from sklearn.svm import SVC\n",
        "from sklearn.metrics import roc_auc_score\n",
        "from datetime import date"
      ]
    },
    {
      "cell_type": "code",
      "execution_count": null,
      "metadata": {
        "_cell_guid": "62c49a56-8bb8-72eb-b204-6025676348fc"
      },
      "outputs": [],
      "source": [
        "data = pd.read_csv('../input/Combined_News_DJIA.csv')\n",
        "data.head()\n"
      ]
    },
    {
      "cell_type": "code",
      "execution_count": null,
      "metadata": {
        "_cell_guid": "2037257e-3c4f-29be-46b1-6a4e3d2db28e"
      },
      "outputs": [],
      "source": [
        "data.info()"
      ]
    },
    {
      "cell_type": "code",
      "execution_count": null,
      "metadata": {
        "_cell_guid": "55f5366e-47f7-5aec-84f5-cb0e8563ba66"
      },
      "outputs": [],
      "source": [
        "data[\"combined_news\"] = data.filter(regex=(\"Top.*\")).apply(lambda x: ''.join(str(x.values)), axis=1)"
      ]
    },
    {
      "cell_type": "code",
      "execution_count": null,
      "metadata": {
        "_cell_guid": "dd1235f7-9d6a-10f8-f498-22a2d05b220d"
      },
      "outputs": [],
      "source": [
        "train = data[data['Date'] < '2015-01-01']\n",
        "test = data[data['Date'] > '2014-12-31']"
      ]
    },
    {
      "cell_type": "code",
      "execution_count": null,
      "metadata": {
        "_cell_guid": "6c1efb03-0872-b1d6-c145-ed15b87424ea"
      },
      "outputs": [],
      "source": [
        "feature_extraction = TfidfVectorizer()\n",
        "X_train = feature_extraction.fit_transform(train[\"combined_news\"].values)"
      ]
    },
    {
      "cell_type": "code",
      "execution_count": null,
      "metadata": {
        "_cell_guid": "705e6d5b-0808-3163-2357-a2a9b36463b5"
      },
      "outputs": [],
      "source": [
        "X_test = feature_extraction.fit_transform(test[\"combined_news\"].values)"
      ]
    },
    {
      "cell_type": "code",
      "execution_count": null,
      "metadata": {
        "_cell_guid": "69a01657-5335-691e-5ac7-a6e7d55f031b"
      },
      "outputs": [],
      "source": [
        "y_train = train[\"Label\"].values\n",
        "y_test = test[\"Label\"].values"
      ]
    },
    {
      "cell_type": "code",
      "execution_count": null,
      "metadata": {
        "_cell_guid": "c10c033f-739f-7bff-cb58-0f89ce9accbd"
      },
      "outputs": [],
      "source": [
        "y_train = train[\"Label\"].values\n",
        "y_test = test[\"Label\"].values"
      ]
    },
    {
      "cell_type": "code",
      "execution_count": null,
      "metadata": {
        "_cell_guid": "d2af624a-b317-d4da-b19f-188bc31f8ead"
      },
      "outputs": [],
      "source": [
        "clf = SVC(probability=True, kernel='rbf')"
      ]
    },
    {
      "cell_type": "code",
      "execution_count": null,
      "metadata": {
        "_cell_guid": "22e33e9a-3ee9-5e81-037f-9cb925162215"
      },
      "outputs": [],
      "source": [
        "clf.fit(X_train, y_train)"
      ]
    },
    {
      "cell_type": "code",
      "execution_count": null,
      "metadata": {
        "_cell_guid": "c6f6ba2f-47f5-646b-1390-00f83ccc92f7"
      },
      "outputs": [],
      "source": [
        "predictions = clf.predict_proba(X_test)"
      ]
    },
    {
      "cell_type": "code",
      "execution_count": null,
      "metadata": {
        "_cell_guid": "4c384e8d-a611-b85c-bd55-0a923bb9e6c9"
      },
      "outputs": [],
      "source": [
        "print('ROC-AUC yields ' + str(roc_auc_score(y_test, predictions[:,1])))"
      ]
    }
  ],
  "metadata": {
    "_change_revision": 0,
    "_is_fork": false,
    "kernelspec": {
      "display_name": "Python 3",
      "language": "python",
      "name": "python3"
    },
    "language_info": {
      "codemirror_mode": {
        "name": "ipython",
        "version": 3
      },
      "file_extension": ".py",
      "mimetype": "text/x-python",
      "name": "python",
      "nbconvert_exporter": "python",
      "pygments_lexer": "ipython3",
      "version": "3.6.0"
    }
  },
  "nbformat": 4,
  "nbformat_minor": 0
}