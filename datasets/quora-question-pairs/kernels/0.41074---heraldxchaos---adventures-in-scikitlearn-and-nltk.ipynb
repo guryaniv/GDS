{
  "cells": [
    {
      "cell_type": "code",
      "execution_count": null,
      "metadata": {
        "_cell_guid": "f242a083-05ba-b159-27a7-39d910db0969"
      },
      "outputs": [],
      "source": [
        "import numpy as np # linear algebra\n",
        "import pandas as pd # data processing, CSV file I/O (e.g. pd.read_csv)\n",
        "\n",
        "from sklearn.feature_extraction.text import TfidfVectorizer, CountVectorizer\n",
        "from sklearn.model_selection import train_test_split\n",
        "from sklearn.metrics import log_loss\n",
        "\n",
        "import xgboost as xgb\n",
        "import multiprocessing\n",
        "import difflib\n",
        "from nltk.corpus import stopwords\n",
        "from nltk.metrics import jaccard_distance\n",
        "\n",
        "import seaborn as sns\n",
        "import matplotlib.pyplot as plt\n",
        "%matplotlib inline\n",
        "\n",
        "\n",
        "from subprocess import check_output\n",
        "print(check_output([\"ls\", \"../input\"]).decode(\"utf8\"))"
      ]
    },
    {
      "cell_type": "code",
      "execution_count": null,
      "metadata": {
        "_cell_guid": "22167632-675f-144b-841c-07cf481b15ce"
      },
      "outputs": [],
      "source": [
        "df_train = pd.read_csv(\"../input/train.csv\").fillna(\"\")\n",
        "df_test = pd.read_csv(\"../input/test.csv\").fillna(\"\")"
      ]
    },
    {
      "cell_type": "code",
      "execution_count": null,
      "metadata": {
        "_cell_guid": "8098140b-6a85-01cd-2af7-8722db432858"
      },
      "outputs": [],
      "source": [
        "stops = set(stopwords.words(\"english\"))"
      ]
    },
    {
      "cell_type": "code",
      "execution_count": null,
      "metadata": {
        "_cell_guid": "236c8036-d179-6682-d4b5-75ff89cf4fc2"
      },
      "outputs": [],
      "source": [
        "def build_dict(sentences):\n",
        "#    from collections import OrderedDict\n",
        "\n",
        "    '''\n",
        "    Build dictionary of train words\n",
        "    Outputs: \n",
        "     - Dictionary of word --> word index\n",
        "     - Dictionary of word --> word count freq\n",
        "    '''\n",
        "    print('Building dictionary..'),\n",
        "    wordcount = dict()\n",
        "    #For each worn in each sentence, cummulate frequency\n",
        "    for ss in sentences:\n",
        "        for w in ss:\n",
        "            if w not in wordcount:\n",
        "                wordcount[w] = 1\n",
        "            else:\n",
        "                wordcount[w] += 1\n",
        "    \n",
        "    worddict = dict()\n",
        "    for idx, w in enumerate(sorted(wordcount.items(), key = lambda x: x[1], reverse=True)):\n",
        "        worddict[w[0]] = idx+2  # leave 0 and 1 (UNK)\n",
        "\n",
        "    return worddict, wordcount"
      ]
    },
    {
      "cell_type": "code",
      "execution_count": null,
      "metadata": {
        "_cell_guid": "01724463-524c-9b31-cfdd-69ccb8b1a2bd"
      },
      "outputs": [],
      "source": [
        "def generate_sequence(sentences, dictionary):\n",
        "    '''\n",
        "    Convert tokenized text in sequences of integers\n",
        "    '''\n",
        "    seqs = [None] * len(sentences)\n",
        "    for idx, ss in enumerate(sentences):\n",
        "        seqs[idx] = [dictionary[w] if w in dictionary else 1 for w in ss]\n",
        "\n",
        "    return seqs"
      ]
    },
    {
      "cell_type": "code",
      "execution_count": null,
      "metadata": {
        "_cell_guid": "579358de-6598-85f6-0e8f-a8651e666fb4"
      },
      "outputs": [],
      "source": [
        "def normalize(x):\n",
        "    return x.lower().split()"
      ]
    },
    {
      "cell_type": "code",
      "execution_count": null,
      "metadata": {
        "_cell_guid": "51bb0ff4-8968-9b68-fa28-e61235784ba2"
      },
      "outputs": [],
      "source": [
        "questions = df_train['question1'].tolist() + df_train['question2'].tolist()"
      ]
    },
    {
      "cell_type": "code",
      "execution_count": null,
      "metadata": {
        "_cell_guid": "c8adbefe-a4c9-f782-4340-831b8f5f533f"
      },
      "outputs": [],
      "source": [
        "tok_questions = [normalize(s) for s in questions]\n",
        "worddict, wordcount = build_dict(tok_questions)"
      ]
    },
    {
      "cell_type": "code",
      "execution_count": null,
      "metadata": {
        "_cell_guid": "427582b8-6f3c-d1c6-0315-f89d4a9069ad"
      },
      "outputs": [],
      "source": [
        "print(np.sum(list(wordcount.values())), ' total words ', len(worddict), ' unique words')"
      ]
    },
    {
      "cell_type": "code",
      "execution_count": null,
      "metadata": {
        "_cell_guid": "928a56ac-2a27-395c-f4e4-55a5fcb197f7"
      },
      "outputs": [],
      "source": [
        "def jc(x):\n",
        "    return jaccard_distance(set(x['s_question1']),set(x['s_question2']))"
      ]
    },
    {
      "cell_type": "code",
      "execution_count": null,
      "metadata": {
        "_cell_guid": "fbbf221e-7181-e565-4967-d58a60acca8c"
      },
      "outputs": [],
      "source": [
        "def cosine_d(x):\n",
        "    a = set(x['s_question1'])\n",
        "    b = set(x['s_question2'])\n",
        "    d = len(a)*len(b)\n",
        "    if (d == 0):\n",
        "        return 0\n",
        "    else: \n",
        "        return len(a.intersection(b))/d"
      ]
    },
    {
      "cell_type": "code",
      "execution_count": null,
      "metadata": {
        "_cell_guid": "1fc3f5f8-c8b5-1f50-fcf3-1778d2aab26d"
      },
      "outputs": [],
      "source": [
        "tfidf = TfidfVectorizer(stop_words='english', ngram_range=(1, 1))\n",
        "tfidf.fit_transform(questions)"
      ]
    },
    {
      "cell_type": "code",
      "execution_count": null,
      "metadata": {
        "_cell_guid": "f9c93a97-17e1-04a0-6d4c-d159fd946c1f"
      },
      "outputs": [],
      "source": [
        "def diff_ratios(st1, st2):\n",
        "    seq = difflib.SequenceMatcher()\n",
        "    seq.set_seqs(str(st1).lower(), str(st2).lower())\n",
        "    return seq.real_quick_ratio()\n",
        "\n",
        "def word_match_share(row):\n",
        "    q1words = {}\n",
        "    q2words = {}\n",
        "    for word in str(row['question1']).lower().split():\n",
        "        if word not in stops:\n",
        "            q1words[word] = 1\n",
        "    for word in str(row['question2']).lower().split():\n",
        "        if word not in stops:\n",
        "            q2words[word] = 1\n",
        "    if len(q1words) == 0 or len(q2words) == 0:\n",
        "        return 0\n",
        "    shared_words_in_q1 = [w for w in q1words.keys() if w in q2words]\n",
        "    shared_words_in_q2 = [w for w in q2words.keys() if w in q1words]\n",
        "    R = (len(shared_words_in_q1) + len(shared_words_in_q2))/(len(q1words) + len(q2words))\n",
        "    return R"
      ]
    },
    {
      "cell_type": "code",
      "execution_count": null,
      "metadata": {
        "_cell_guid": "d63bec19-3ccf-6467-cc04-88f838c748b0"
      },
      "outputs": [],
      "source": [
        "def get_features(df_features):\n",
        "    \n",
        "    print('jaccard...')\n",
        "    df_features['s_question1'] = generate_sequence(df_features['question1'].apply(normalize),worddict)\n",
        "    df_features['s_question2'] = generate_sequence(df_features['question2'].apply(normalize),worddict)\n",
        "    df_features['z_jaccard'] = df_features.apply(jc,axis = 1)\n",
        "    \n",
        "    print('cosine....')\n",
        "    df_features['z_cosine'] = df_features.apply(cosine_d,axis = 1)\n",
        "    \n",
        "    print('length....')\n",
        "    df_features['z_len1'] = df_features.question1.map(lambda x: len(str(x)))\n",
        "    df_features['z_len2'] = df_features.question2.map(lambda x: len(str(x)))\n",
        "    df_features['z_word_len1'] = df_features.question1.map(lambda x: len(str(x).split()))\n",
        "    df_features['z_word_len2'] = df_features.question2.map(lambda x: len(str(x).split())) \n",
        "    \n",
        "    print('difflib...')\n",
        "    df_features['z_match_ratio'] = df_features.apply(lambda r: diff_ratios(r.question1, r.question2), axis=1)  #takes long\n",
        "    \n",
        "    print('word match...')\n",
        "    df_features['z_word_match'] = df_features.apply(word_match_share, axis=1, raw=True)\n",
        "    \n",
        "    print('tfidf...')\n",
        "    question1_tfidf = tfidf.transform(df_features.question1.tolist())\n",
        "    question2_tfidf = tfidf.transform(df_features.question2.tolist())\n",
        "    df_features['z_tfidf_sum1'] = np.sum(question1_tfidf, axis = 1)\n",
        "    df_features['z_tfidf_sum2'] = np.sum(question2_tfidf, axis = 1)\n",
        "    df_features['z_tfidf_mean1'] = np.mean(question1_tfidf, axis = 1)\n",
        "    df_features['z_tfidf_mean2'] = np.mean(question2_tfidf, axis = 1)\n",
        "    df_features['z_tfidf_len1'] = (question1_tfidf != 0).sum(axis = 1)\n",
        "    df_features['z_tfidf_len2'] = (question2_tfidf != 0).sum(axis = 1)\n",
        "    \n",
        "    return df_features.fillna(0.0)"
      ]
    },
    {
      "cell_type": "code",
      "execution_count": null,
      "metadata": {
        "_cell_guid": "2ece3fc5-b7a0-de4c-1241-d38f67789945"
      },
      "outputs": [],
      "source": [
        "df_train = get_features(df_train)"
      ]
    },
    {
      "cell_type": "code",
      "execution_count": null,
      "metadata": {
        "_cell_guid": "86a8b1e2-ac5b-124b-5e59-1ab2b9e733ba"
      },
      "outputs": [],
      "source": [
        "df_train.head()"
      ]
    },
    {
      "cell_type": "code",
      "execution_count": null,
      "metadata": {
        "_cell_guid": "1873a0d2-a608-13e4-a59f-99e92a181479"
      },
      "outputs": [],
      "source": [
        "col = [c for c in df_train.columns if c[:1]=='z']"
      ]
    },
    {
      "cell_type": "code",
      "execution_count": null,
      "metadata": {
        "_cell_guid": "a0fbe58f-db9d-ed4c-b4a5-3abb474fda31"
      },
      "outputs": [],
      "source": [
        "pos_train = df_train[df_train['is_duplicate'] == 1]\n",
        "neg_train = df_train[df_train['is_duplicate'] == 0]\n",
        "p = 0.165\n",
        "scale = ((len(pos_train) / (len(pos_train) + len(neg_train))) / p) - 1\n",
        "while scale > 1:\n",
        "    neg_train = pd.concat([neg_train, neg_train])\n",
        "    scale -=1\n",
        "neg_train = pd.concat([neg_train, neg_train[:int(scale * len(neg_train))]])\n",
        "df_train = pd.concat([pos_train, neg_train])"
      ]
    },
    {
      "cell_type": "code",
      "execution_count": null,
      "metadata": {
        "_cell_guid": "8147369d-bd5d-d6e0-b192-9b38db444a71"
      },
      "outputs": [],
      "source": [
        "x_train, x_valid, y_train, y_valid = train_test_split(df_train[col], df_train['is_duplicate'], test_size=0.2, random_state=0)"
      ]
    },
    {
      "cell_type": "code",
      "execution_count": null,
      "metadata": {
        "_cell_guid": "e00d4e81-0461-1fb4-d727-a953c2e00c43"
      },
      "outputs": [],
      "source": [
        "params = {}\n",
        "params[\"objective\"] = \"binary:logistic\"\n",
        "params['eval_metric'] = 'logloss'\n",
        "params[\"eta\"] = 0.02\n",
        "params[\"subsample\"] = 0.7\n",
        "params[\"min_child_weight\"] = 1\n",
        "params[\"colsample_bytree\"] = 0.7\n",
        "params[\"max_depth\"] = 4\n",
        "params[\"silent\"] = 1\n",
        "params[\"seed\"] = 1632\n",
        "\n",
        "d_train = xgb.DMatrix(x_train, label=y_train)\n",
        "d_valid = xgb.DMatrix(x_valid, label=y_valid)\n",
        "watchlist = [(d_train, 'train'), (d_valid, 'valid')]\n",
        "bst = xgb.train(params, d_train, 500, watchlist, \n",
        "                early_stopping_rounds=50, \n",
        "                verbose_eval=100) #change to higher #s"
      ]
    },
    {
      "cell_type": "code",
      "execution_count": null,
      "metadata": {
        "_cell_guid": "7e68546d-dab0-1926-68ec-c6e366aa6048"
      },
      "outputs": [],
      "source": [
        "print(log_loss(df_train.is_duplicate, bst.predict(xgb.DMatrix(df_train[col]))))"
      ]
    },
    {
      "cell_type": "code",
      "execution_count": null,
      "metadata": {
        "_cell_guid": "31680b99-1985-6f60-d161-df751f7f7086"
      },
      "outputs": [],
      "source": [
        "df_test = get_features(df_test)\n",
        "\n",
        "sub = pd.DataFrame()\n",
        "sub['test_id'] = df_test['test_id']\n",
        "sub['is_duplicate'] = bst.predict(xgb.DMatrix(df_test[col]))"
      ]
    },
    {
      "cell_type": "code",
      "execution_count": null,
      "metadata": {
        "_cell_guid": "d5d7fa8f-646c-3c04-38b3-0add53cab11e"
      },
      "outputs": [],
      "source": [
        "sub.to_csv('zmix_submission_xgb_01.csv', index=False)"
      ]
    },
    {
      "cell_type": "code",
      "execution_count": null,
      "metadata": {
        "_cell_guid": "ff537cd5-a1ad-fc46-a5a0-84b1c58f9112"
      },
      "outputs": [],
      "source": [
        "import matplotlib.pyplot as plt\n",
        "import seaborn as sns\n",
        "%matplotlib inline\n",
        "\n",
        "plt.rcParams['figure.figsize'] = (7.0, 7.0)\n",
        "xgb.plot_importance(bst); plt.show()"
      ]
    },
    {
      "cell_type": "code",
      "execution_count": null,
      "metadata": {
        "_cell_guid": "715b88d9-37cd-3379-b8c9-544a6250ce9e"
      },
      "outputs": [],
      "source": [
        ""
      ]
    }
  ],
  "metadata": {
    "_change_revision": 0,
    "_is_fork": false,
    "kernelspec": {
      "display_name": "Python 3",
      "language": "python",
      "name": "python3"
    },
    "language_info": {
      "codemirror_mode": {
        "name": "ipython",
        "version": 3
      },
      "file_extension": ".py",
      "mimetype": "text/x-python",
      "name": "python",
      "nbconvert_exporter": "python",
      "pygments_lexer": "ipython3",
      "version": "3.6.0"
    }
  },
  "nbformat": 4,
  "nbformat_minor": 0
}