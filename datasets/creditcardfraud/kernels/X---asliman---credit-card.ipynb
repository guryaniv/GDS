{
  "cells": [
    {
      "cell_type": "markdown",
      "metadata": {
        "_cell_guid": "a5967f60-0cc0-eb2b-972b-30407bf5fcce"
      },
      "source": [
        "## learn tensorflow way of doing this"
      ]
    },
    {
      "cell_type": "markdown",
      "metadata": {
        "_cell_guid": "f7e72e20-e086-df13-7196-384612a6787a"
      },
      "source": [
        "The datasets contains transactions made by credit cards in September 2013 by european cardholders. This dataset presents transactions that occurred in two days, where we have 492 frauds out of 284,807 transactions. The dataset is highly unbalanced, the positive class (frauds) account for 0.172% of all transactions.\n",
        "\n",
        "It contains only numerical input variables which are the result of a PCA transformation. Unfortunately, due to confidentiality issues, we cannot provide the original features and more background information about the data. Features V1, V2, ... V28 are the principal components obtained with PCA, the only features which have not been transformed with PCA are 'Time' and 'Amount'. Feature 'Time' contains the seconds elapsed between each transaction and the first transaction in the dataset. The feature 'Amount' is the transaction Amount, this feature can be used for example-dependant cost-senstive learning. Feature 'Class' is the response variable and it takes value 1 in case of fraud and 0 otherwise.\n",
        "\n",
        "Given the class imbalance ratio, we recommend measuring the accuracy using the Area Under the Precision-Recall Curve (AUPRC). Confusion matrix accuracy is not meaningful for unbalanced classification.\n",
        "\n",
        "The dataset has been collected and analysed during a research collaboration of Worldline and the Machine Learning Group (http://mlg.ulb.ac.be) of ULB (Universit\u00e9 Libre de Bruxelles) on big data mining and fraud detection. More details on current and past projects on related topics are available on http://mlg.ulb.ac.be/BruFence and http://mlg.ulb.ac.be/ARTML\n",
        "\n",
        "Please cite: Andrea Dal Pozzolo, Olivier Caelen, Reid A. Johnson and Gianluca Bontempi. Calibrating Probability with Undersampling for Unbalanced Classification. In Symposium on Computational Intelligence and Data Mining (CIDM), IEEE, 2015"
      ]
    },
    {
      "cell_type": "code",
      "execution_count": null,
      "metadata": {
        "_cell_guid": "9ea40e8a-4069-4b5f-b3fc-7d46bf024cf1"
      },
      "outputs": [],
      "source": [
        "# This Python 3 environment comes with many helpful analytics libraries installed\n",
        "# It is defined by the kaggle/python docker image: https://github.com/kaggle/docker-python\n",
        "# For example, here's several helpful packages to load in \n",
        "\n",
        "import numpy as np # linear algebra\n",
        "import pandas as pd # data processing, CSV file I/O (e.g. pd.read_csv)\n",
        "\n",
        "# Input data files are available in the \"../input/\" directory.\n",
        "# For example, running this (by clicking run or pressing Shift+Enter) will list the files in the input directory\n",
        "\n",
        "from subprocess import check_output\n",
        "print(check_output([\"ls\", \"../input\"]).decode(\"utf8\"))\n",
        "\n",
        "# Any results you write to the current directory are saved as output."
      ]
    },
    {
      "cell_type": "code",
      "execution_count": null,
      "metadata": {
        "_cell_guid": "ef53272a-810f-81a3-3af2-40bb59ad6f55"
      },
      "outputs": [],
      "source": [
        "import pandas as pd\n",
        "import numpy as np \n",
        "import tensorflow as tf\n",
        "from sklearn.cross_validation import train_test_split\n",
        "import matplotlib.pyplot as plt\n",
        "from sklearn.utils import shuffle\n",
        "from sklearn.metrics import confusion_matrix\n",
        "import seaborn as sns\n",
        "import matplotlib.gridspec as gridspec\n",
        "from sklearn.preprocessing import StandardScaler\n",
        "from sklearn.manifold import TSNE\n",
        "# from show_confusion_matrix import show_confusion_matrix \n",
        "# the above is from http://notmatthancock.github.io/2015/10/28/confusion-matrix.html"
      ]
    },
    {
      "cell_type": "code",
      "execution_count": null,
      "metadata": {
        "_cell_guid": "ea8a7a79-fcac-8746-6452-71d5446b4711"
      },
      "outputs": [],
      "source": [
        "df = pd.read_csv('../input/creditcard.csv')"
      ]
    },
    {
      "cell_type": "code",
      "execution_count": null,
      "metadata": {
        "_cell_guid": "ea5f7ead-29e4-6855-a5f1-69f61bb0aba2"
      },
      "outputs": [],
      "source": [
        "df.describe()"
      ]
    },
    {
      "cell_type": "code",
      "execution_count": null,
      "metadata": {
        "_cell_guid": "d9dbf9ea-d028-7118-3095-aa94ca4f9612"
      },
      "outputs": [],
      "source": [
        "print (\"Fraud\")\n",
        "print (df.Time[df.Class == 1].describe())\n",
        "print ()\n",
        "print (\"Normal\")\n",
        "print (df.Time[df.Class == 0].describe())"
      ]
    },
    {
      "cell_type": "code",
      "execution_count": null,
      "metadata": {
        "_cell_guid": "478e4d27-f199-7eaa-23bc-89fc87a0beea"
      },
      "outputs": [],
      "source": [
        "f, (ax1, ax2) = plt.subplots(2, 1, sharex=True, figsize=(12,4))\n",
        "\n",
        "bins = 50\n",
        "\n",
        "ax1.hist(df.Time[df.Class == 1], bins = bins)\n",
        "ax1.set_title('Fraud')\n",
        "\n",
        "ax2.hist(df.Time[df.Class == 0], bins = bins)\n",
        "ax2.set_title('Normal')\n",
        "\n",
        "plt.xlabel('Time (in Seconds)')\n",
        "plt.ylabel('Number of Transactions')\n",
        "plt.show()"
      ]
    },
    {
      "cell_type": "code",
      "execution_count": null,
      "metadata": {
        "_cell_guid": "6b1ad978-6dfe-0680-be70-c18544a169fa"
      },
      "outputs": [],
      "source": [
        "print (\"Fraud\")\n",
        "print (df.Amount[df.Class == 1].describe())\n",
        "print ()\n",
        "print (\"Normal\")\n",
        "print (df.Amount[df.Class == 0].describe())"
      ]
    },
    {
      "cell_type": "code",
      "execution_count": null,
      "metadata": {
        "_cell_guid": "55f64093-4980-1089-a4b5-b885a5266a9a"
      },
      "outputs": [],
      "source": [
        "f, (ax1, ax2) = plt.subplots(2, 1, sharex=True, figsize=(12,4))\n",
        "\n",
        "bins = 30\n",
        "\n",
        "ax1.hist(df.Amount[df.Class == 1], bins = bins)\n",
        "ax1.set_title('Fraud')\n",
        "\n",
        "ax2.hist(df.Amount[df.Class == 0], bins = bins)\n",
        "ax2.set_title('Normal')\n",
        "\n",
        "plt.xlabel('Amount ($)')\n",
        "plt.ylabel('Number of Transactions')\n",
        "plt.yscale('log')\n",
        "plt.show()"
      ]
    },
    {
      "cell_type": "code",
      "execution_count": null,
      "metadata": {
        "_cell_guid": "0d84664e-4833-d50e-87b3-9125724384e6"
      },
      "outputs": [],
      "source": [
        "df['Amount_max_fraud'] = 1\n",
        "df.loc[df.Amount <= 2125.87, 'Amount_max_fraud'] = 0"
      ]
    },
    {
      "cell_type": "code",
      "execution_count": null,
      "metadata": {
        "_cell_guid": "78918142-f4a1-19b1-5099-f1213a419fde"
      },
      "outputs": [],
      "source": [
        "f, (ax1, ax2) = plt.subplots(2, 1, sharex=True, figsize=(12,6))\n",
        "\n",
        "ax1.scatter(df.Time[df.Class == 1], df.Amount[df.Class == 1])\n",
        "ax1.set_title('Fraud')\n",
        "\n",
        "ax2.scatter(df.Time[df.Class == 0], df.Amount[df.Class == 0])\n",
        "ax2.set_title('Normal')\n",
        "\n",
        "plt.xlabel('Time (in Seconds)')\n",
        "plt.ylabel('Amount')\n",
        "plt.show()"
      ]
    },
    {
      "cell_type": "markdown",
      "metadata": {
        "_cell_guid": "0bc835bc-768c-1365-276e-ae93a16d3de6"
      },
      "source": [
        "no useful"
      ]
    },
    {
      "cell_type": "markdown",
      "metadata": {
        "_cell_guid": "639e3784-0b1a-3ba9-5356-8a1c402c90a0"
      },
      "source": [
        "## find the correlations between normal and fraud among features.\n"
      ]
    },
    {
      "cell_type": "code",
      "execution_count": null,
      "metadata": {
        "_cell_guid": "82f08336-ba9e-4ed2-8f92-327fa4c39ec0"
      },
      "outputs": [],
      "source": [
        "#Select only the anonymized features.\n",
        "v_features = df.ix[:,1:29].columns"
      ]
    },
    {
      "cell_type": "code",
      "execution_count": null,
      "metadata": {
        "_cell_guid": "596720dc-1d49-12a9-affe-1e521e3e64ac"
      },
      "outputs": [],
      "source": [
        "plt.figure(figsize=(12,28*4))\n",
        "gs = gridspec.GridSpec(28, 1)\n",
        "for i, cn in enumerate(df[v_features]):\n",
        "    ax = plt.subplot(gs[i])\n",
        "    sns.distplot(df[cn][df.Class == 1], bins=50)\n",
        "    sns.distplot(df[cn][df.Class == 0], bins=50)\n",
        "    ax.set_xlabel('')\n",
        "    ax.set_title('histogram of feature: ' + str(cn))\n",
        "plt.show()"
      ]
    },
    {
      "cell_type": "markdown",
      "metadata": {
        "_cell_guid": "1710ec3d-43e5-e243-4b08-cdafc88147e3"
      },
      "source": [
        "feature 27,28\n",
        "how can I calculate 'correlation' (?) or' overlap' (?) of two data sets?"
      ]
    },
    {
      "cell_type": "code",
      "execution_count": null,
      "metadata": {
        "_cell_guid": "79e43ccc-fc5a-0968-ecc8-2955b8b98aaa"
      },
      "outputs": [],
      "source": [
        "from scipy.stats.stats import pearsonr\n",
        "x1=df['V1'][df.Class == 1]\n",
        "#pearsonr(x, y)"
      ]
    },
    {
      "cell_type": "code",
      "execution_count": null,
      "metadata": {
        "_cell_guid": "f0042904-078a-015b-28fe-b5bc92f98eaa"
      },
      "outputs": [],
      "source": [
        "sns.distplot(df['V1'][df.Class == 1], bins=50)\n",
        "sns.distplot(df['V1'][df.Class == 0], bins=50)\n"
      ]
    },
    {
      "cell_type": "code",
      "execution_count": null,
      "metadata": {
        "_cell_guid": "001c2b63-2d25-4167-428c-23af1b1ce637"
      },
      "outputs": [],
      "source": [
        "df['V1'][df.Class == 1]"
      ]
    },
    {
      "cell_type": "code",
      "execution_count": null,
      "metadata": {
        "_cell_guid": "9e016421-064b-9a24-d6bc-d9411f350ddc"
      },
      "outputs": [],
      "source": ""
    }
  ],
  "metadata": {
    "_change_revision": 0,
    "_is_fork": false,
    "kernelspec": {
      "display_name": "Python 3",
      "language": "python",
      "name": "python3"
    },
    "language_info": {
      "codemirror_mode": {
        "name": "ipython",
        "version": 3
      },
      "file_extension": ".py",
      "mimetype": "text/x-python",
      "name": "python",
      "nbconvert_exporter": "python",
      "pygments_lexer": "ipython3",
      "version": "3.6.0"
    }
  },
  "nbformat": 4,
  "nbformat_minor": 0
}