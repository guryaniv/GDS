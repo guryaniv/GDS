{
  "cells": [
    {
      "cell_type": "markdown",
      "metadata": {
        "_cell_guid": "cb85f668-a2e4-871b-cca0-487d142fdb9a"
      },
      "source": [
        "A simple exploration notebook to get some insights about the data.\n",
        "\n",
        "As per NDA, sample photos are confidential and also it says you cannot disclose confidential information without written consent from the Sponsors. More about NDA on this forum post. Thank you Alan for pointing it out to me.\n",
        "\n",
        "So here is the revised version of the exploration notebook where the animation part is commented. \n",
        "\n",
        "**Please uncomment the Animation part of the notebook and then run it in the local for animation**\n",
        "\n",
        "**Objective:**\n",
        "\n",
        "In this competition, The Nature Conservancy asks you to help them detect which species of fish appears on a fishing boat, based on images captured from boat cameras of various angles.  \n",
        "\n",
        "Your goal is to predict the likelihood of fish species in each picture.\n",
        "\n",
        "As mentioned in the data page, there are eight target categories available in the dataset.\n",
        "\n",
        " 1. Albacore tuna\n",
        " 2. Bigeye tuna\n",
        " 3. Yellowfin tuna\n",
        " 4. Mahi Mahi\n",
        " 5. Opah\n",
        " 6. Sharks\n",
        " 7. Other (meaning that there are fish present but not in the above categories)\n",
        " 8. No Fish (meaning that no fish is in the picture)\n",
        "\n",
        "**Important points to note:**\n",
        "\n",
        " 1. Pre-trained models and external data are allowed in the competition, but need to be posted on this [official forum thread][1]\n",
        " 2. The competition comprises of two stages. Test data for second stage will be released in the last week.   \n",
        "\n",
        "First let us see the number of image files present for each of the species\n",
        "\n",
        "\n",
        "  [1]: https://www.kaggle.com/c/the-nature-conservancy-fisheries-monitoring/forums/t/25428/official-pre-trained-model-and-data-thread/144487#post144487"
      ]
    },
    {
      "cell_type": "code",
      "execution_count": null,
      "metadata": {
        "_cell_guid": "d829654d-7ead-ba09-892a-53b26a2f2f98"
      },
      "outputs": [],
      "source": [
        "# This Python 3 environment comes with many helpful analytics libraries installed\n",
        "# It is defined by the kaggle/python docker image: https://github.com/kaggle/docker-python\n",
        "# For example, here's several helpful packages to load in \n",
        "\n",
        "import numpy as np # linear algebra\n",
        "import pandas as pd # data processing, CSV file I/O (e.g. pd.read_csv)\n",
        "from scipy.misc import imread\n",
        "import matplotlib.pyplot as plt\n",
        "import seaborn as sns\n",
        "%matplotlib inline\n",
        "\n",
        "from subprocess import check_output\n",
        "print(check_output([\"ls\", \"../input/train/\"]).decode(\"utf8\"))"
      ]
    },
    {
      "cell_type": "markdown",
      "metadata": {
        "_cell_guid": "6856e6c4-86f0-d052-4350-5965dffead5f"
      },
      "source": [
        "So there are 8 folders present inside the train folder, one for each species.\n",
        "\n",
        "Now let us check the number of files present in each of these sub folders. "
      ]
    },
    {
      "cell_type": "code",
      "execution_count": null,
      "metadata": {
        "_cell_guid": "5582fb99-08dc-e37c-a8d9-65c1a8696c28"
      },
      "outputs": [],
      "source": [
        "sub_folders = check_output([\"ls\", \"../input/train/\"]).decode(\"utf8\").strip().split('\\n')\n",
        "count_dict = {}\n",
        "for sub_folder in sub_folders:\n",
        "    num_of_files = len(check_output([\"ls\", \"../input/train/\"+sub_folder]).decode(\"utf8\").strip().split('\\n'))\n",
        "    print(\"Number of files for the species\",sub_folder,\":\",num_of_files)\n",
        "    count_dict[sub_folder] = num_of_files\n",
        "    \n",
        "plt.figure(figsize=(12,4))\n",
        "sns.barplot(list(count_dict.keys()), list(count_dict.values()), alpha=0.8)\n",
        "plt.xlabel('Fish Species', fontsize=12)\n",
        "plt.ylabel('Number of Images', fontsize=12)\n",
        "plt.show()\n",
        "    "
      ]
    },
    {
      "cell_type": "markdown",
      "metadata": {
        "_cell_guid": "b88effc2-3d5b-2429-858d-960a21e880b3"
      },
      "source": [
        "So the number of files for species ALB (Albacore tuna) is much higher than other species. \n",
        "\n",
        "Let us look at the number of files present in the test folder."
      ]
    },
    {
      "cell_type": "code",
      "execution_count": null,
      "metadata": {
        "_cell_guid": "87e55c70-4948-37d6-c01e-d1ab47d99112"
      },
      "outputs": [],
      "source": [
        "num_test_files = len(check_output([\"ls\", \"../input/test_stg1/\"]).decode(\"utf8\").strip().split('\\n'))\n",
        "print(\"Number of test files present :\", num_test_files)"
      ]
    },
    {
      "cell_type": "markdown",
      "metadata": {
        "_cell_guid": "de6eb5be-4045-4a6a-f143-c09905dd301c"
      },
      "source": [
        "**Image Size:**\n",
        "\n",
        "Now let us look at the image size of each of the files and see what different sizes are available."
      ]
    },
    {
      "cell_type": "code",
      "execution_count": null,
      "metadata": {
        "_cell_guid": "337279fa-dee0-8b0c-6c43-6618c318a968"
      },
      "outputs": [],
      "source": [
        "train_path = \"../input/train/\"\n",
        "sub_folders = check_output([\"ls\", train_path]).decode(\"utf8\").strip().split('\\n')\n",
        "different_file_sizes = {}\n",
        "for sub_folder in sub_folders:\n",
        "    file_names = check_output([\"ls\", train_path+sub_folder]).decode(\"utf8\").strip().split('\\n')\n",
        "    for file_name in file_names:\n",
        "        im_array = imread(train_path+sub_folder+\"/\"+file_name)\n",
        "        size = \"_\".join(map(str,list(im_array.shape)))\n",
        "        different_file_sizes[size] = different_file_sizes.get(size,0) + 1\n",
        "\n",
        "plt.figure(figsize=(12,4))\n",
        "sns.barplot(list(different_file_sizes.keys()), list(different_file_sizes.values()), alpha=0.8)\n",
        "plt.xlabel('Image size', fontsize=12)\n",
        "plt.ylabel('Number of Images', fontsize=12)\n",
        "plt.title(\"Image size present in train dataset\")\n",
        "plt.xticks(rotation='vertical')\n",
        "plt.show()"
      ]
    },
    {
      "cell_type": "markdown",
      "metadata": {
        "_cell_guid": "76d1700a-8d55-00fa-b3ca-4a51de863c0d"
      },
      "source": [
        "So 720_1280_3 is the most common image size available in the train data and 10 different sizes are available. \n",
        "\n",
        "720_1244_3 is the smallest size of the available images in train set and 974_1732_3 is the largest one.\n",
        "\n",
        "Now let us look at the distribution in test dataset as well."
      ]
    },
    {
      "cell_type": "code",
      "execution_count": null,
      "metadata": {
        "_cell_guid": "6cab4900-7f3d-9060-9d30-c10047e9f3ac"
      },
      "outputs": [],
      "source": [
        "test_path = \"../input/test_stg1/\"\n",
        "file_names = check_output([\"ls\", test_path]).decode(\"utf8\").strip().split('\\n')\n",
        "different_file_sizes = {}\n",
        "for file_name in file_names:\n",
        "        size = \"_\".join(map(str,list(imread(test_path+file_name).shape)))\n",
        "        different_file_sizes[size] = different_file_sizes.get(size,0) + 1\n",
        "\n",
        "plt.figure(figsize=(12,4))\n",
        "sns.barplot(list(different_file_sizes.keys()), list(different_file_sizes.values()), alpha=0.8)\n",
        "plt.xlabel('File size', fontsize=12)\n",
        "plt.ylabel('Number of Images', fontsize=12)\n",
        "plt.xticks(rotation='vertical')\n",
        "plt.title(\"Image size present in test dataset\")\n",
        "plt.show()"
      ]
    },
    {
      "cell_type": "markdown",
      "metadata": {
        "_cell_guid": "ba9108f2-8197-1cb1-2ab7-9f6fd3d959af"
      },
      "source": [
        "Test set also has a very similar distribution.\n",
        "\n",
        "**Animation:**\n",
        "\n",
        "Let us try to have some animation on the available images.  Not able to embed the video in the notebook.\n",
        "\n",
        "**Please uncomment the following part of the code and run it in local for animation**"
      ]
    },
    {
      "cell_type": "code",
      "execution_count": null,
      "metadata": {
        "_cell_guid": "98c6d5e7-3d38-a7d1-c814-d48638af7f99"
      },
      "outputs": [],
      "source": [
        "\"\"\"\n",
        "import random\n",
        "import matplotlib.animation as animation\n",
        "from matplotlib import animation, rc\n",
        "from IPython.display import HTML\n",
        "\n",
        "random.seed(12345)\n",
        "train_path = \"../input/train/\"\n",
        "sub_folders = check_output([\"ls\", train_path]).decode(\"utf8\").strip().split('\\n')\n",
        "different_file_sizes = {}\n",
        "all_files = []\n",
        "for sub_folder in sub_folders:\n",
        "    file_names = check_output([\"ls\", train_path+sub_folder]).decode(\"utf8\").strip().split('\\n')\n",
        "    selected_files = random.sample(file_names, 10)\n",
        "    for file_name in selected_files:\n",
        "        all_files.append([sub_folder,file_name])\n",
        "\n",
        "fig = plt.figure()\n",
        "sns.set_style(\"whitegrid\", {'axes.grid' : False})\n",
        "img_file = \"\".join([train_path, sub_folder, \"/\", file_name])\n",
        "im = plt.imshow(imread(img_file), vmin=0, vmax=255)\n",
        "\n",
        "def updatefig(ind):\n",
        "    sub_folder = all_files[ind][0]\n",
        "    file_name = all_files[ind][1]\n",
        "    img_file = \"\".join([train_path, sub_folder, \"/\", file_name])\n",
        "    im.set_array(imread(img_file))\n",
        "    plt.title(\"Species : \"+sub_folder, fontsize=15)\n",
        "    return im,\n",
        "\n",
        "ani = animation.FuncAnimation(fig, updatefig, frames=len(all_files))\n",
        "ani.save('lb.gif', fps=1, writer='imagemagick')\n",
        "#rc('animation', html='html5')\n",
        "#HTML(ani.to_html5_video())\n",
        "plt.show()\n",
        "\"\"\""
      ]
    },
    {
      "cell_type": "markdown",
      "metadata": {
        "_cell_guid": "e8a321c9-6e33-a025-b8af-55dc8498e4a5"
      },
      "source": [
        "**Basic CNN Model using Keras:**\n",
        "\n",
        "Now let us try to build a CNN model on the dataset. Due to the memory constraints of the kernels, let us take only (500,500,3) array from top left corner of each image and then try to classify based on that portion.\n",
        "\n",
        "Kindly note that running it offline with the full image will give much better results. This is just a started script I tried and I am a newbie for image classification problems. "
      ]
    },
    {
      "cell_type": "code",
      "execution_count": null,
      "metadata": {
        "_cell_guid": "a7203b5e-ecbe-935b-2bb9-38f7282902b7"
      },
      "outputs": [],
      "source": [
        "import random\n",
        "from subprocess import check_output\n",
        "from scipy.misc import imread\n",
        "import numpy as np\n",
        "np.random.seed(2016)\n",
        "from keras.datasets import mnist\n",
        "from keras.models import Sequential\n",
        "from keras.layers import Dense, Dropout, Activation, Flatten\n",
        "from keras.layers import Convolution2D, MaxPooling2D\n",
        "from keras.utils import np_utils\n",
        "from keras import backend as K\n",
        "\n",
        "batch_size = 1\n",
        "nb_classes = 8\n",
        "nb_epoch = 1\n",
        "\n",
        "img_rows, img_cols, img_rgb = 500, 500, 3\n",
        "nb_filters = 4\n",
        "pool_size = (2, 2)\n",
        "kernel_size = (3, 3)\n",
        "input_shape = (img_rows, img_cols, 3)\n",
        "\n",
        "species_map_dict = {\n",
        "'ALB':0,\n",
        "'BET':1,\n",
        "'DOL':2,\n",
        "'LAG':3,\n",
        "'NoF':4,\n",
        "'OTHER':5,\n",
        "'SHARK':6,\n",
        "'YFT':7\n",
        "}\n",
        "\n",
        "def batch_generator_train(sample_size):\n",
        "\ttrain_path = \"../input/train/\"\n",
        "\tall_files = []\n",
        "\ty_values = []\n",
        "\tsub_folders = check_output([\"ls\", train_path]).decode(\"utf8\").strip().split('\\n')\n",
        "\tfor sub_folder in sub_folders:\n",
        "\t\tfile_names = check_output([\"ls\", train_path+sub_folder]).decode(\"utf8\").strip().split('\\n')\n",
        "\t\tfor file_name in file_names:\n",
        "\t\t\tall_files.append([sub_folder, '/', file_name])\n",
        "\t\t\ty_values.append(species_map_dict[sub_folder])\n",
        "\tnumber_of_images = range(len(all_files))\n",
        "\n",
        "\tcounter = 0\n",
        "\twhile True:\n",
        "\t\timage_index = random.choice(number_of_images)\n",
        "\t\tfile_name = \"\".join([train_path] + all_files[image_index])\n",
        "\t\tprint(file_name)\n",
        "\t\ty = [0]*8\n",
        "\t\ty[y_values[image_index]] = 1\n",
        "\t\ty = np.array(y).reshape(1,8)\n",
        "\t\t\n",
        "\t\tim_array = imread(file_name)\n",
        "\t\tX = np.zeros([1, img_rows, img_cols, img_rgb])\n",
        "\t\t#X[:im_array.shape[0], :im_array.shape[1], 3] = im_array.copy().astype('float32')\n",
        "\t\tX[0, :, :, :] = im_array[:500,:500,:].astype('float32')\n",
        "\t\tX /= 255.\n",
        "        \n",
        "\t\tprint(X.shape)\n",
        "\t\tyield X,y\n",
        "\t\t\n",
        "\t\tcounter += 1\n",
        "\t\t#if counter == sample_size:\n",
        "\t\t#\tbreak\n",
        "\n",
        "def batch_generator_test(all_files):\n",
        "\tfor file_name in all_files:\n",
        "\t\tfile_name = test_path + file_name\n",
        "\t\t\n",
        "\t\tim_array = imread(file_name)\n",
        "\t\tX = np.zeros([1, img_rows, img_cols, img_rgb])\n",
        "\t\tX[0,:, :, :] = im_array[:500,:500,:].astype('float32')\n",
        "\t\tX /= 255.\n",
        "\n",
        "\t\tyield X\n",
        "\n",
        "\n",
        "def keras_cnn_model():\n",
        "\tmodel = Sequential()\n",
        "\tmodel.add(Convolution2D(nb_filters, kernel_size[0], kernel_size[1],\n",
        "                        border_mode='valid',\n",
        "                        input_shape=input_shape))\n",
        "\tmodel.add(Activation('relu'))\n",
        "\tmodel.add(Convolution2D(nb_filters, kernel_size[0], kernel_size[1]))\n",
        "\tmodel.add(Activation('relu'))\n",
        "\tmodel.add(MaxPooling2D(pool_size=pool_size))\n",
        "\tmodel.add(Dropout(0.25))\t\n",
        "\tmodel.add(Flatten())\n",
        "\tmodel.add(Dense(128))\n",
        "\tmodel.add(Activation('relu'))\n",
        "\tmodel.add(Dropout(0.5))\n",
        "\tmodel.add(Dense(nb_classes))\n",
        "\tmodel.add(Activation('softmax'))\n",
        "\tmodel.compile(loss='categorical_crossentropy', optimizer='adadelta')\n",
        "\treturn model\n",
        "\n",
        "model = keras_cnn_model()\n",
        "fit= model.fit_generator(\n",
        "\tgenerator = batch_generator_train(100),\n",
        "\tnb_epoch = 1,\n",
        "\tsamples_per_epoch = 100\n",
        ")\n",
        "\n",
        "test_path = \"../input/test_stg1/\"\n",
        "all_files = []\n",
        "file_names = check_output([\"ls\", test_path]).decode(\"utf8\").strip().split('\\n')\n",
        "for file_name in file_names:\n",
        "\tall_files.append(file_name)\n",
        "#preds = model.predict_generator(generator=batch_generator_test(all_files), val_samples=len(all_files))\n",
        "\n",
        "#out_df = pd.DataFrame(preds)\n",
        "#out_df.columns = ['ALB', 'BET', 'DOL', 'LAG', 'NoF', 'OTHER', 'SHARK', 'YFT']\n",
        "#out_df['image'] = all_files\n",
        "#out_df.to_csv(\"sample_sub_keras.csv\", index=False)"
      ]
    }
  ],
  "metadata": {
    "_change_revision": 0,
    "_is_fork": false,
    "kernelspec": {
      "display_name": "Python 3",
      "language": "python",
      "name": "python3"
    },
    "language_info": {
      "codemirror_mode": {
        "name": "ipython",
        "version": 3
      },
      "file_extension": ".py",
      "mimetype": "text/x-python",
      "name": "python",
      "nbconvert_exporter": "python",
      "pygments_lexer": "ipython3",
      "version": "3.5.2"
    }
  },
  "nbformat": 4,
  "nbformat_minor": 0
}