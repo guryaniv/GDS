{
  "cells": [
    {
      "cell_type": "markdown",
      "metadata": {
        "_cell_guid": "78e8f373-c31a-2baa-a26c-9f39c988b225"
      },
      "source": [
        "**Fork: [Full Processing Tutorial][1]**\n",
        "\n",
        "\n",
        "  [1]: https://www.kaggle.com/gzuidhof/data-science-bowl-2017/full-preprocessing-tutorial"
      ]
    },
    {
      "cell_type": "code",
      "execution_count": null,
      "metadata": {
        "_cell_guid": "8c9073d4-536f-e143-563b-42e26771fafa"
      },
      "outputs": [],
      "source": [
        "import numpy as np # linear algebra\n",
        "import pandas as pd # data processing, CSV file I/O (e.g. pd.read_csv)\n",
        "\n",
        "# Input data files are available in the \"../input/\" directory.\n",
        "# For example, running this (by clicking run or pressing Shift+Enter) will list the files in the input directory\n",
        "\n",
        "#from subprocess import check_output\n",
        "#print(check_output([\"ls\", \"../input\"]).decode(\"utf8\"))\n",
        "\n",
        "# Any results you write to the current directory are saved as output.\n",
        "\n",
        "import dicom\n",
        "import os\n",
        "import scipy.ndimage\n",
        "import matplotlib.pyplot as plt\n",
        "%matplotlib inline\n",
        "\n",
        "from skimage import measure, morphology\n",
        "from mpl_toolkits.mplot3d.art3d import Poly3DCollection"
      ]
    },
    {
      "cell_type": "code",
      "execution_count": null,
      "metadata": {
        "_cell_guid": "426c0478-3306-8b1f-f41a-a375d00706a6"
      },
      "outputs": [],
      "source": [
        "input_folder = '../input/sample_images/'\n",
        "patients = os.listdir(input_folder)\n",
        "patients.sort()"
      ]
    },
    {
      "cell_type": "code",
      "execution_count": null,
      "metadata": {
        "_cell_guid": "a947ea76-e732-64da-b88e-c34054a9e1ef"
      },
      "outputs": [],
      "source": [
        "patients[0:10]"
      ]
    },
    {
      "cell_type": "code",
      "execution_count": null,
      "metadata": {
        "_cell_guid": "7244694d-2ecb-68b7-1dbe-cfce81974384"
      },
      "outputs": [],
      "source": [
        "# Load the scans in given folder path\n",
        "# Basically replicate the process of loading \"../input/sample_images\"\n",
        "\n",
        "def load_scan(path):\n",
        "    slices = [dicom.read_file(path + '/' + serial_number) for serial_number in os.listdir(path)]\n",
        "    slices.sort(key=lambda x: float(x.ImagePositionPatient[2]))  \n",
        "    # ImagePositionPatient is a piece of information about patient\n",
        "    try:\n",
        "        slice_thickness=np.abs(slices[0].ImagePositionPatient[2]-slices[1].ImagePositionPatient[2])\n",
        "        # calculate thickness using the same position in coordinate\n",
        "    except:\n",
        "        slice_thickness=np.abs(slices[0].SliceLocation-slices[1].SliceLocation)\n",
        "    \n",
        "    for serial_number in slices:\n",
        "        serial_number.SliceThickness = slice_thickness\n",
        "    \n",
        "    return slices"
      ]
    },
    {
      "cell_type": "code",
      "execution_count": null,
      "metadata": {
        "_cell_guid": "3d9b6875-56d5-c83b-3644-e3f304844ed6"
      },
      "outputs": [],
      "source": [
        "def get_pixels_hu(slices):\n",
        "    image=np.stack([s.pixel_array for s in slices])\n",
        "    image=image.astype(np.int16)  # convert to in16 data type\n",
        "    \n",
        "    image[image==-2000]=0\n",
        "    # set the value of area out of scan to be 0\n",
        "    \n",
        "    # convert to Hounsfield units(HU)\n",
        "    for slice_number in range(len(slices)):\n",
        "        \n",
        "        intercept=slices[slice_number].RescaleIntercept\n",
        "        slope=slices[slice_number].RescaleSlope\n",
        "        \n",
        "        if slope != 1:\n",
        "            image[slice_number]=slop*image[slice_number].astype(np.float64)\n",
        "            image[slice_number]=image[slice_number].astype(np.int16)\n",
        "            \n",
        "        image[slice_number] += np.int16(intercept)\n",
        "        \n",
        "    return np.array(image,dtype=np.int16)"
      ]
    },
    {
      "cell_type": "code",
      "execution_count": null,
      "metadata": {
        "_cell_guid": "e5700489-e1e3-6808-5961-4a521578fc97"
      },
      "outputs": [],
      "source": [
        "# Look at one patient at a time\n",
        "\n",
        "first_patient = load_scan(input_folder + patients[0])\n",
        "first_patient_pixels = get_pixels_hu(first_patient)\n",
        "plt.hist(first_patient_pixels.flatten(), bins=80, color='c')\n",
        "plt.xlabel(\"Hounsfield Units (HU)\")\n",
        "plt.ylabel(\"Frequency\")\n",
        "plt.show()\n",
        "\n",
        "# Show some slice in the middle\n",
        "plt.imshow(first_patient_pixels[80], cmap=plt.cm.gray)\n",
        "plt.show()"
      ]
    },
    {
      "cell_type": "code",
      "execution_count": null,
      "metadata": {
        "_cell_guid": "e5aff42a-103e-ed98-a89e-0a5978ec4ae4"
      },
      "outputs": [],
      "source": [
        "# resampling\n",
        "\n",
        "def resample(image, scan, new_spacing=[1,1,1]):\n",
        "    # determine current pixel spacing\n",
        "    spacing = np.array([scan[0].SliceThickness] + scan[0].PixelSpacing, dtype=np.float32)\n",
        "    \n",
        "    resize_factor = spacing / new_spacing  # percentage shrink\n",
        "    new_real_shape = image.shape * resize_factor\n",
        "    new_shape = np.round(new_real_shape)\n",
        "    real_resize_factor = new_shape / image.shape\n",
        "    new_spacing = spacing / real_resize_factor\n",
        "    \n",
        "    image = scipy.ndimage.interpolation.zoom(image, real_resize_factor, mode='nearest')\n",
        "    \n",
        "    return image, new_spacing"
      ]
    },
    {
      "cell_type": "code",
      "execution_count": null,
      "metadata": {
        "_cell_guid": "072225e3-667f-b9d7-e08a-d28777dd7160"
      },
      "outputs": [],
      "source": [
        "\n",
        "# first patient as an example\n",
        "\n",
        "pix_resampled, spacing = resample(first_patient_pixels, first_patient, [1,1,1])\n",
        "print(\"Shape before resampling\\t\", first_patient_pixels.shape)\n",
        "print(\"Shape after resampling\\t\", pix_resampled.shape)"
      ]
    },
    {
      "cell_type": "code",
      "execution_count": null,
      "metadata": {
        "_cell_guid": "366818c6-7e5b-cea9-364a-39308c353c82"
      },
      "outputs": [],
      "source": [
        "# 3D Plotting\n",
        "def plot_3d(image, threshold=-300):  # the threshold argument is to control what we want to plot\n",
        "    # position the scan upright so the head of the patient would be at the top facing the camera\n",
        "    p = image.transpose(2,1,0) # (z,y,x) w.r.t. original axes\n",
        "    \n",
        "    verts, faces = measure.marching_cubes(p, threshold)\n",
        "    \n",
        "    fig = plt.figure(figsize=(10,10))\n",
        "    ax = fig.add_subplot(111, projection='3d')\n",
        "    \n",
        "    # Fancy indexing: 'verts[faces]' to generate a collection of triangles\n",
        "    mesh = Poly3DCollection(verts[faces], alpha=0.70)\n",
        "    face_color = [0.45, 0.45, 0.75]\n",
        "    mesh.set_facecolor(face_color)\n",
        "    ax.add_collection3d(mesh)\n",
        "    \n",
        "    ax.set_xlim(0, p.shape[0])\n",
        "    ax.set_ylim(0, p.shape[1])\n",
        "    ax.set_zlim(0, p.shape[2])\n",
        "    \n",
        "    plt.show()"
      ]
    },
    {
      "cell_type": "code",
      "execution_count": null,
      "metadata": {
        "_cell_guid": "ca3c66d0-0031-98bd-e6d0-81da2bb588f1"
      },
      "outputs": [],
      "source": [
        "# show the bones only, first patient\n",
        "%time\n",
        "plot_3d(pix_resampled, 400)"
      ]
    },
    {
      "cell_type": "code",
      "execution_count": null,
      "metadata": {
        "_cell_guid": "30d5b23c-5d06-2a5f-f85d-3456a00aa81c"
      },
      "outputs": [],
      "source": [
        "# lung segmentation\n",
        "# connected component analysis\n",
        "\n",
        "def largest_label_volume(im, bg=-1):\n",
        "    vals, counts = np.unique(im, return_counts=True)  # unique values in an array\n",
        "    \n",
        "    counts = counts[vals != bg]\n",
        "    vals = vals[vals != bg]\n",
        "    \n",
        "    if len(counts) > 0:\n",
        "        return vals[np.argmax(counts)] # index of maximum in an array\n",
        "    else:\n",
        "        return None"
      ]
    },
    {
      "cell_type": "code",
      "execution_count": null,
      "metadata": {
        "_cell_guid": "32ba9b96-7209-4ff0-e533-a146766ec763"
      },
      "outputs": [],
      "source": [
        "def segment_lung_mask(image, fill_lung_structures=True):\n",
        "    # not actually binary, but 1 and 2\n",
        "    # 0 is treated as background, which we do not want\n",
        "    binary_image = np.array(image > -320, dtype=np.int8) + 1  # lung HU is -500. \n",
        "    # Why -320? Maybe empirical.\n",
        "    labels = measure.label(binary_image) # label connected regions of an integer array\n",
        "    \n",
        "    # pick the pixel in the very corner to determine which label is air\n",
        "    # improvement: pick multiple backgound labels from aroud the patient\n",
        "    background_label = labels[0,0,0]  # pixel in the corner\n",
        "    \n",
        "    # fill the air around the person\n",
        "    binary_image[background_label == labels] = 2\n",
        "    \n",
        "    # method of filling the lung structures\n",
        "    if fill_lung_structures:  # if the second parameter is passed as \"True\"\n",
        "        # for every slice we determine the largest solid structure\n",
        "        for i, axial_slice in enumerate(binary_image):\n",
        "            axial_slice = axial_slice - 1\n",
        "            labeling = measure.label(axial_slice)\n",
        "            l_max = largest_label_volume(labeling, bg=0)\n",
        "            \n",
        "            if l_max is not None: # this slice DOES contain some lung\n",
        "                binary_image[i][labeling != l_max] = 1\n",
        "                \n",
        "    binary_image -= 1  # make the image actually binary\n",
        "    binary_image = 1 - binary_image  # invert the labels so lung tissues are now 1\n",
        "    \n",
        "    # remove other air pockets inside body\n",
        "    labels = measure.label(binary_image, background=0)\n",
        "    l_max = largest_label_volume(labels, bg=0)\n",
        "    \n",
        "    if l_max is not None:  # there ARE air pockets\n",
        "        binary_image[labels != l_max] = 0\n",
        "        \n",
        "    return binary_image"
      ]
    },
    {
      "cell_type": "code",
      "execution_count": null,
      "metadata": {
        "_cell_guid": "da79c113-19af-aa96-5920-54cb5532dbf9"
      },
      "outputs": [],
      "source": [
        "segmented_lungs = segment_lung_mask(pix_resampled, False)\n",
        "segmented_lungs_fill = segment_lung_mask(pix_resampled, True)"
      ]
    },
    {
      "cell_type": "code",
      "execution_count": null,
      "metadata": {
        "_cell_guid": "876021b7-99bd-63c4-f28e-2800153576fd"
      },
      "outputs": [],
      "source": [
        "# plot 3D masked lung organ\n",
        "plot_3d(segmented_lungs, 0)"
      ]
    },
    {
      "cell_type": "code",
      "execution_count": null,
      "metadata": {
        "_cell_guid": "d92e578f-cd15-e660-dc60-e0a5b1b7d33c"
      },
      "outputs": [],
      "source": [
        "# plot 3D masked lung, larger air pockets filled\n",
        "plot_3d(segmented_lungs_fill, 0)"
      ]
    },
    {
      "cell_type": "code",
      "execution_count": null,
      "metadata": {
        "_cell_guid": "0aad9373-ad03-c7e6-bf10-ec0fd568cdfa"
      },
      "outputs": [],
      "source": [
        "# the difference between the filled and non-filled\n",
        "# structure of larger air pockets (bronchial?)\n",
        "plot_3d(segmented_lungs_fill - segmented_lungs, 0)"
      ]
    },
    {
      "cell_type": "code",
      "execution_count": null,
      "metadata": {
        "_cell_guid": "4ae6d621-4844-e876-171d-505d465eb68e"
      },
      "outputs": [],
      "source": [
        "# Normalization\n",
        "# we are more interested in HU ranging from -1000 to 400, since anything higher than 400 are bones\n",
        "min_bound = -1000.0\n",
        "max_bound = 400.0\n",
        "\n",
        "def normalize(image):\n",
        "    image = (image - min_bound) / (max_bound - min_bound)  # normalization formula\n",
        "    # scale the dataset into [0,1] range\n",
        "    image[image>1] = 1.  # values that originally larger than 400\n",
        "    image[image<0] = 0.  # values that originally smaller than -1000\n",
        "    return image"
      ]
    },
    {
      "cell_type": "code",
      "execution_count": null,
      "metadata": {
        "_cell_guid": "58a71952-2a22-7785-0442-5e5ed013493a"
      },
      "outputs": [],
      "source": [
        "# Zero centering\n",
        "# it means scaling your data so that the mean value is 0\n",
        "\n",
        "pixel_mean = 0.25  # empirical result from LUNA 16 competition\n",
        "\n",
        "def zero_center(image):\n",
        "    image = image - pixel_mean\n",
        "    return image"
      ]
    },
    {
      "cell_type": "code",
      "execution_count": null,
      "metadata": {
        "_cell_guid": "4ac4319e-3643-c7be-96bc-f44799eb7839"
      },
      "outputs": [],
      "source": ""
    }
  ],
  "metadata": {
    "_change_revision": 0,
    "_is_fork": false,
    "kernelspec": {
      "display_name": "Python 3",
      "language": "python",
      "name": "python3"
    },
    "language_info": {
      "codemirror_mode": {
        "name": "ipython",
        "version": 3
      },
      "file_extension": ".py",
      "mimetype": "text/x-python",
      "name": "python",
      "nbconvert_exporter": "python",
      "pygments_lexer": "ipython3",
      "version": "3.6.0"
    }
  },
  "nbformat": 4,
  "nbformat_minor": 0
}