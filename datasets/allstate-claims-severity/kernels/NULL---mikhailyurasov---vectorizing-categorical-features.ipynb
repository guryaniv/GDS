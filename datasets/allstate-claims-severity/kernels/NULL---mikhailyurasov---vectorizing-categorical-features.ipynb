{
  "cells": [
    {
      "cell_type": "markdown",
      "metadata": {
        "_cell_guid": "c89c93a1-90f1-69c7-8a15-8981e8357dd1"
      },
      "source": [
        "Just in case anyone is stuck with this boring step :)"
      ]
    },
    {
      "cell_type": "code",
      "execution_count": null,
      "metadata": {
        "_cell_guid": "a6667cc1-a5f2-f959-0541-b591b62e28e9"
      },
      "outputs": [],
      "source": [
        "import re\n",
        "import numpy as np\n",
        "import pandas as pd\n",
        "from sklearn.feature_extraction import DictVectorizer"
      ]
    },
    {
      "cell_type": "code",
      "execution_count": null,
      "metadata": {
        "_cell_guid": "eddd371f-4422-00a5-fdf3-707250c678a0"
      },
      "outputs": [],
      "source": [
        "TRAIN_FILE = '../input/train.csv'\n",
        "TEST_FILE = '../input/test.csv'"
      ]
    },
    {
      "cell_type": "code",
      "execution_count": null,
      "metadata": {
        "_cell_guid": "402274b8-7b95-0bcd-c664-33b341dc71e4"
      },
      "outputs": [],
      "source": [
        "train_df = pd.read_csv(TRAIN_FILE)\n",
        "test_df = pd.read_csv(TEST_FILE)\n",
        "all_df = train_df.append(test_df)"
      ]
    },
    {
      "cell_type": "code",
      "execution_count": null,
      "metadata": {
        "_cell_guid": "896e7e7b-d6ae-fa2b-3870-88e8ecb61671"
      },
      "outputs": [],
      "source": [
        "# 1h-vectorize categories\n",
        "vec = DictVectorizer()\n",
        "g = all_df.copy()\n",
        "\n",
        "for x in g:\n",
        "    if re.match(r\"cat\\d+\", x) is None:\n",
        "         del g[x]\n",
        "\n",
        "cats_1h = vec.fit_transform(g.to_dict('records')).toarray()\n",
        "cats_1h = np.array(cats_1h, dtype=np.float32)\n",
        "del g"
      ]
    },
    {
      "cell_type": "code",
      "execution_count": null,
      "metadata": {
        "_cell_guid": "b376a64a-e165-7274-d499-a3d45c0ddd46"
      },
      "outputs": [],
      "source": [
        "# create vectors of cont- values\n",
        "g = all_df.copy()\n",
        "\n",
        "for x in g:\n",
        "    if re.match(r\"cont\\d+\", x) is None:\n",
        "         del g[x]\n",
        "\n",
        "conts = g.to_dict('split')\n",
        "conts = np.array(conts['data'], dtype=np.float32)\n",
        "\n",
        "del g"
      ]
    },
    {
      "cell_type": "code",
      "execution_count": null,
      "metadata": {
        "_cell_guid": "5be86201-427b-3c28-e90b-c855e5171f4d"
      },
      "outputs": [],
      "source": [
        "X = np.hstack((cats_1h, conts))"
      ]
    },
    {
      "cell_type": "code",
      "execution_count": null,
      "metadata": {
        "_cell_guid": "fd179be3-cdda-8efd-28e5-dfcb921877db"
      },
      "outputs": [],
      "source": [
        "X_train = X[:len(train_df)]\n",
        "X_test = X[len(train_df):]\n",
        "y_train = np.array(train_df['loss'].values, dtype=np.float32)\n",
        "ids_test = np.array(test_df['id'], dtype=np.int64)"
      ]
    },
    {
      "cell_type": "code",
      "execution_count": null,
      "metadata": {
        "_cell_guid": "6d4af440-f7ff-a1a0-259a-efafd27da4ac"
      },
      "outputs": [],
      "source": [
        "print ('X_train', X_train.shape)\n",
        "print ('y_train', y_train.shape)\n",
        "print ('X_test', X_test.shape)\n",
        "print ('ids_test', ids_test.shape)"
      ]
    }
  ],
  "metadata": {
    "_change_revision": 0,
    "_is_fork": false,
    "kernelspec": {
      "display_name": "Python 3",
      "language": "python",
      "name": "python3"
    },
    "language_info": {
      "codemirror_mode": {
        "name": "ipython",
        "version": 3
      },
      "file_extension": ".py",
      "mimetype": "text/x-python",
      "name": "python",
      "nbconvert_exporter": "python",
      "pygments_lexer": "ipython3",
      "version": "3.5.2"
    }
  },
  "nbformat": 4,
  "nbformat_minor": 0
}