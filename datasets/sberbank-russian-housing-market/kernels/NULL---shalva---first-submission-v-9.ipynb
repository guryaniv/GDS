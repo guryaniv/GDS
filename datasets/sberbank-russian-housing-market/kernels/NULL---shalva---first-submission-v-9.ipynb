{
  "cells": [
    {
      "cell_type": "code",
      "execution_count": null,
      "metadata": {
        "_cell_guid": "047239e0-58f1-c3ed-533f-9351173ccb23"
      },
      "outputs": [],
      "source": [
        "## Libraries\n",
        "import numpy as np # linear algebra\n",
        "import pandas as pd # data processing, CSV file I/O (e.g. pd.read_csv)\n",
        "from sklearn.linear_model import LinearRegression\n",
        "from sklearn.model_selection import train_test_split\n",
        "from sklearn.metrics import make_scorer\n",
        "from sklearn.preprocessing import Imputer, StandardScaler\n",
        "from sklearn.pipeline import make_pipeline\n",
        "import matplotlib.pyplot as plt"
      ]
    },
    {
      "cell_type": "code",
      "execution_count": null,
      "metadata": {
        "_cell_guid": "70d6cc91-f92f-28e7-a43a-dbac714fa311"
      },
      "outputs": [],
      "source": [
        "train = pd.read_csv(\"../input/train.csv\", parse_dates=['timestamp'])\n",
        "test = pd.read_csv(\"../input/test.csv\", parse_dates=['timestamp'])\n",
        "macro = pd.read_csv('../input/macro.csv')\n",
        "y = np.log(train.price_doc)"
      ]
    },
    {
      "cell_type": "code",
      "execution_count": null,
      "metadata": {
        "_cell_guid": "a57e3355-3452-4a59-2836-8bcb04391322"
      },
      "outputs": [],
      "source": [
        "train = pd.merge(train, macro, how='left', on='timestamp')\n",
        "train = train.drop(['id', 'price_doc', 'timestamp'], axis=1)\n",
        "train = pd.get_dummies(train)\n",
        "\n",
        "test = pd.merge(test, macro, how='left', on='timestamp')\n",
        "test = test.drop(['timestamp'], axis=1)\n",
        "test = pd.get_dummies(test)\n",
        "\n",
        "#feature pre-processing\n",
        "percent_null = train.isnull().mean(axis=0) > 0.20\n",
        "train = train.loc[:, ~percent_null]\n"
      ]
    },
    {
      "cell_type": "code",
      "execution_count": null,
      "metadata": {
        "_cell_guid": "504a0443-5356-d0fa-5828-c31dd62f79b3"
      },
      "outputs": [],
      "source": [
        "#splitting\n",
        "X_train, X_test, y_train, y_test = train_test_split(train, y, test_size = 0.2)\n",
        "print(\"X_train : \" + str(X_train.shape))\n",
        "print(\"X_test : \" + str(X_test.shape))\n",
        "print(\"y_train : \" + str(y_train.shape))\n",
        "print(\"y_test : \" + str(y_test.shape))"
      ]
    },
    {
      "cell_type": "code",
      "execution_count": null,
      "metadata": {
        "_cell_guid": "1207ebfc-1b4f-bc94-46aa-dcf832ffc107"
      },
      "outputs": [],
      "source": [
        "#Measuring functions\n",
        "def rmsle_exp(y_true_log, y_pred_log):\n",
        "    y_true = np.exp(y_true_log)\n",
        "    y_pred = np.exp(y_pred_log)\n",
        "    return np.sqrt(np.mean(np.power(np.log(y_true + 1) - np.log(y_pred + 1), 2)))\n",
        "\n",
        "def score_model(model, pipe):\n",
        "    train_error = rmsle_exp(y_train, model.predict(pipe.transform(X_train)))\n",
        "    test_error = rmsle_exp(y_test, model.predict(pipe.transform(X_test)))\n",
        "    return train_error, test_error"
      ]
    },
    {
      "cell_type": "code",
      "execution_count": null,
      "metadata": {
        "_cell_guid": "f2534984-924e-7876-8dc3-8e8e33f63d62"
      },
      "outputs": [],
      "source": [
        "pipe = make_pipeline(Imputer(), StandardScaler())\n",
        "pipe.fit(X_train)"
      ]
    },
    {
      "cell_type": "code",
      "execution_count": null,
      "metadata": {
        "_cell_guid": "901decc9-0330-b95f-a751-c64a6c957a0f"
      },
      "outputs": [],
      "source": [
        "lr = LinearRegression(fit_intercept=True)\n",
        "lr.fit(pipe.transform(X_train), y_train)\n",
        "print(\"Train error: {:.4f}, Test error: {:.4f}\".format(*score_model(lr, pipe)))"
      ]
    },
    {
      "cell_type": "code",
      "execution_count": null,
      "metadata": {
        "_cell_guid": "90052b9f-e155-dd69-8264-ff55dca3b4c5"
      },
      "outputs": [],
      "source": [
        "#submission\n",
        "# Make sure it's in the same format as the training data\n",
        "df_test = pd.DataFrame(columns=train.columns)\n",
        "for column in df_test.columns:\n",
        "    if column in test.columns:\n",
        "        df_test[column] = test[column]\n",
        "    else:\n",
        "        df_test[column] = np.nan\n",
        "\n",
        "# Make the predictions\n",
        "predictions = np.exp(lr.predict(pipe.transform(df_test)))\n",
        "\n",
        "# And put this in a dataframe\n",
        "predictions_df = pd.DataFrame()\n",
        "predictions_df['id'] = test['id']\n",
        "predictions_df['price_doc'] = predictions\n",
        "predictions_df.head()"
      ]
    },
    {
      "cell_type": "code",
      "execution_count": null,
      "metadata": {
        "_cell_guid": "4b3294c5-3630-280f-0bd2-b857db191ffc"
      },
      "outputs": [],
      "source": [
        "null"
      ]
    },
    {
      "cell_type": "code",
      "execution_count": null,
      "metadata": {
        "_cell_guid": "813ef440-498f-fa83-9a1b-c7d769d636db"
      },
      "outputs": [],
      "source": [
        "# Now, output it to CSV\n",
        "predictions_df.to_csv('predictions.csv', index=False)"
      ]
    },
    {
      "cell_type": "code",
      "execution_count": null,
      "metadata": {
        "_cell_guid": "29b304bb-672a-bb5d-74af-4781bd756629"
      },
      "outputs": [],
      "source": ""
    }
  ],
  "metadata": {
    "_change_revision": 0,
    "_is_fork": false,
    "kernelspec": {
      "display_name": "Python 3",
      "language": "python",
      "name": "python3"
    },
    "language_info": {
      "codemirror_mode": {
        "name": "ipython",
        "version": 3
      },
      "file_extension": ".py",
      "mimetype": "text/x-python",
      "name": "python",
      "nbconvert_exporter": "python",
      "pygments_lexer": "ipython3",
      "version": "3.6.0"
    }
  },
  "nbformat": 4,
  "nbformat_minor": 0
}