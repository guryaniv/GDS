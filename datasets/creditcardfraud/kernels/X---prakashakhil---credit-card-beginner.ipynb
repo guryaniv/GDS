{
  "cells": [
    {
      "cell_type": "code",
      "execution_count": null,
      "metadata": {
        "_cell_guid": "bfc59fe1-54ed-f1f3-542e-c816b1908ae7"
      },
      "outputs": [],
      "source": [
        "from sklearn.linear_model import LogisticRegression\n",
        "from sklearn.linear_model import LinearRegression\n",
        "from sklearn.ensemble import RandomForestClassifier\n",
        "from sklearn.qda import QDA\n",
        "from sklearn.cross_validation import cross_val_score\n",
        "from sklearn import preprocessing\n",
        "\n",
        "\n",
        "import pandas as pd\n",
        "import numpy as np\n",
        "\n",
        "\n",
        "all_data= pd.read_csv(\"../input/creditcard.csv\")\n",
        "\n",
        "all_data = all_data.drop('Time', 1)\n",
        "all_data = all_data.drop('V23', 1)\n",
        "all_data = all_data.drop('V13', 1)\n",
        "all_data = all_data.drop('V28', 1)\n",
        "all_data = all_data.drop('V25', 1)\n",
        "all_data = all_data.drop('V22', 1)\n",
        "all_data = all_data.drop('Amount', 1)\n",
        "all_data = all_data.drop('V27', 1)\n",
        "all_data = all_data.drop('V24', 1)\n",
        "all_data = all_data.drop('V8', 1)\n",
        "all_data = all_data.drop('V15', 1)\n",
        "all_data = all_data.drop('V5', 1)\n",
        "all_data = all_data.drop('V2', 1)\n",
        "all_data = all_data.drop('V20', 1)\n",
        "all_data = all_data.drop('V19', 1)\n",
        "all_data = all_data.drop('V21', 1)\n",
        "all_data = all_data.drop('V1', 1)\n",
        "all_data = all_data.drop('V6', 1)\n",
        "all_data = all_data.drop('V7', 1)\n",
        "all_data = all_data.drop('V26', 1)\n",
        "   \n",
        "label =all_data[\"Class\"].values\n",
        "all_data = all_data.drop('Class', 1)\n",
        "\n",
        "    \n",
        "rf=RandomForestClassifier()\n",
        "scores = cross_val_score(rf, all_data.values,label, cv=5)\n",
        "print(\"Accuracy: %0.10f (+/- %0.10f)\" % (scores.mean(), scores.std() * 2))\n"
      ]
    }
  ],
  "metadata": {
    "_change_revision": 0,
    "_is_fork": false,
    "kernelspec": {
      "display_name": "Python 3",
      "language": "python",
      "name": "python3"
    },
    "language_info": {
      "codemirror_mode": {
        "name": "ipython",
        "version": 3
      },
      "file_extension": ".py",
      "mimetype": "text/x-python",
      "name": "python",
      "nbconvert_exporter": "python",
      "pygments_lexer": "ipython3",
      "version": "3.5.2"
    }
  },
  "nbformat": 4,
  "nbformat_minor": 0
}