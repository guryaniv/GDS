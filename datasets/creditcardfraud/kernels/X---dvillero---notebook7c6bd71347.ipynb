{
  "cells": [
    {
      "cell_type": "code",
      "execution_count": null,
      "metadata": {
        "_cell_guid": "9e4e5612-0e80-75df-cec1-6d6b997481ac"
      },
      "outputs": [],
      "source": [
        "# This Python 3 environment comes with many helpful analytics libraries installed\n",
        "# It is defined by the kaggle/python docker image: https://github.com/kaggle/docker-python\n",
        "# For example, here's several helpful packages to load in \n",
        "\n",
        "import numpy as np # linear algebra\n",
        "import pandas as pd # data processing, CSV file I/O (e.g. pd.read_csv)\n",
        "import matplotlib.pyplot as plt\n",
        "\n",
        "from sklearn.ensemble import AdaBoostClassifier\n",
        "from sklearn.tree import DecisionTreeClassifier\n",
        "from sklearn.datasets import make_gaussian_quantiles\n",
        "from sklearn.metrics import accuracy_score\n",
        "from sklearn.naive_bayes import BernoulliNB\n",
        "from sklearn.ensemble import RandomForestClassifier, ExtraTreesClassifier\n",
        "from sklearn.linear_model import SGDClassifier\n",
        "\n",
        "# Input data files are available in the \"../input/\" directory.\n",
        "# For example, running this (by clicking run or pressing Shift+Enter) will list the files in the input directory\n",
        "\n",
        "from subprocess import check_output\n",
        "print(check_output([\"ls\", \"../input\"]).decode(\"utf8\"))\n",
        "\n",
        "# Any results you write to the current directory are saved as output."
      ]
    },
    {
      "cell_type": "code",
      "execution_count": null,
      "metadata": {
        "_cell_guid": "fcc7ce16-b67b-bde0-52bc-82f29ec35609"
      },
      "outputs": [],
      "source": [
        "df_creditcard = pd.read_csv('../input/creditcard.csv')\n",
        "df_creditcard.info()"
      ]
    },
    {
      "cell_type": "code",
      "execution_count": null,
      "metadata": {
        "_cell_guid": "611d5bc1-38c2-4c44-4cf7-e93feeac458e"
      },
      "outputs": [],
      "source": [
        "print(df_creditcard.Class.unique())\n",
        "print(len(df_creditcard.loc[df_creditcard['Class'] == 1]))\n",
        "print(len(df_creditcard.loc[df_creditcard['Class'] == 0]))\n",
        "print(df_creditcard.head())"
      ]
    },
    {
      "cell_type": "code",
      "execution_count": null,
      "metadata": {
        "_cell_guid": "db0f661e-11db-5604-e44f-0d4d41ae28a6"
      },
      "outputs": [],
      "source": [
        "df_train = df_creditcard[df_creditcard.columns][1000:]\n",
        "df_test = df_creditcard[df_creditcard.columns][:1000]\n",
        "print('# froud count in test data:',len(df_test.loc[df_test['Class'] == 1]))\n",
        "df_train.head()"
      ]
    },
    {
      "cell_type": "code",
      "execution_count": null,
      "metadata": {
        "_cell_guid": "cc92ab3d-1e9c-4288-94b6-0b85cadfa005"
      },
      "outputs": [],
      "source": [
        "c1_filter = df_train.loc[df_train['Class'] == 1]\n",
        "c0_filter = df_train.loc[df_train['Class'] == 0]"
      ]
    },
    {
      "cell_type": "code",
      "execution_count": null,
      "metadata": {
        "_cell_guid": "32a8e895-3f30-2cf3-d7bd-42e5abdb991c"
      },
      "outputs": [],
      "source": [
        "plt.scatter(c0_filter.V1,c0_filter.V15, color = \"b\")\n",
        "plt.scatter(c1_filter.V1,c1_filter.V15, color = \"r\")"
      ]
    },
    {
      "cell_type": "code",
      "execution_count": null,
      "metadata": {
        "_cell_guid": "efada755-fcef-796d-4688-08c3925bd8ff"
      },
      "outputs": [],
      "source": ""
    }
  ],
  "metadata": {
    "_change_revision": 0,
    "_is_fork": false,
    "kernelspec": {
      "display_name": "Python 3",
      "language": "python",
      "name": "python3"
    },
    "language_info": {
      "codemirror_mode": {
        "name": "ipython",
        "version": 3
      },
      "file_extension": ".py",
      "mimetype": "text/x-python",
      "name": "python",
      "nbconvert_exporter": "python",
      "pygments_lexer": "ipython3",
      "version": "3.5.2"
    }
  },
  "nbformat": 4,
  "nbformat_minor": 0
}