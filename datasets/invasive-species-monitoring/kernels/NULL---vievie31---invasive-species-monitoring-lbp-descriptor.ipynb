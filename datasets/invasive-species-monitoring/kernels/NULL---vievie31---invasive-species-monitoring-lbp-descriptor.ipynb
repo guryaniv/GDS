{
  "cells": [
    {
      "cell_type": "markdown",
      "metadata": {
        "_cell_guid": "5224d3ce-8492-5b8d-d56c-ea72e52ade16"
      },
      "source": [
        "#Invasive Species Monitoring: LBP texture descriptor\n",
        "\n",
        "This method give 88% acc on the leaderboard...\n",
        "\n",
        "Code with all the pipe line :  https://github.com/VieVie31/kaggle_invasive_species"
      ]
    },
    {
      "cell_type": "code",
      "execution_count": null,
      "metadata": {
        "_cell_guid": "28594b19-eec4-cd26-09b5-ab96dda00ab3"
      },
      "outputs": [],
      "source": [
        "import os\n",
        "import sys\n",
        "import random\n",
        "\n",
        "import numpy as np\n",
        "import pandas as pd\n",
        "\n",
        "import matplotlib.pyplot as plt\n",
        "import matplotlib.image as mpimg\n",
        "\n",
        "from scipy.stats import itemfreq \n",
        "\n",
        "from skimage import io\n",
        "from skimage.transform import rotate\n",
        "from skimage.feature import local_binary_pattern\n",
        "\n",
        "from sklearn.svm import SVC\n",
        "from sklearn.model_selection import train_test_split\n",
        "\n",
        "from pprint import pprint\n",
        "from IPython.display import display\n",
        "\n",
        "%matplotlib inline\n",
        "\n",
        "import warnings\n",
        "warnings.filterwarnings('ignore')\n",
        "\n",
        "random.seed(1996)\n",
        "np.random.seed(1996)\n",
        "\n",
        "TRAIN_PATH = '../input/train/'\n",
        "TEST_PATH  = '../input/test/'\n",
        "\n",
        "LOAD_NB_MAX_TRAINING_DATA = 200"
      ]
    },
    {
      "cell_type": "code",
      "execution_count": null,
      "metadata": {
        "_cell_guid": "4cd99adb-7a04-fa24-0a58-051adcb04441"
      },
      "outputs": [],
      "source": [
        "train_labels = pd.read_csv('../input/train_labels.csv')\n",
        "train_labels.head()"
      ]
    },
    {
      "cell_type": "code",
      "execution_count": null,
      "metadata": {
        "_cell_guid": "3e554cef-47f3-e2ee-9a13-097fd56a11db"
      },
      "outputs": [],
      "source": [
        "def load_img(n, training=True):\n",
        "    return io.imread((TRAIN_PATH if training else TEST_PATH) + str(n) + '.jpg')\n",
        "\n",
        "print(\"positive sample\")\n",
        "plt.imshow(load_img(5))\n",
        "plt.show()\n",
        "\n",
        "print(\"negative sample\")\n",
        "plt.imshow(load_img(2))\n",
        "plt.show()"
      ]
    },
    {
      "cell_type": "code",
      "execution_count": null,
      "metadata": {
        "_cell_guid": "e66457bd-0e6b-aea7-5d9f-effdf7e51856"
      },
      "outputs": [],
      "source": [
        "def extract_rgb(img): \n",
        "    return img[:,:,0], img[:,:,1], img[:,:,2]\n",
        "\n",
        "def rgb2gray(rgb):\n",
        "    r, g, b = extract_rgb(rgb)\n",
        "    return 0.2989 * r + 0.5870 * g + 0.1140 * b\n",
        "\n",
        "LBP_RADIUS = 3\n",
        "LBP_NB_POINTS = 8 * LBP_RADIUS\n",
        "LBP_METHOD = 'uniform'\n",
        "\n",
        "def get_lbp(img_gray_scale, radius=3):\n",
        "    return local_binary_pattern(\n",
        "        img_gray_scale,\n",
        "        8 * radius,\n",
        "        radius,\n",
        "        LBP_METHOD\n",
        "    )\n",
        "\n",
        "def get_hist(lst):\n",
        "    x = itemfreq(lst)\n",
        "    hist = x[:, 1]/sum(x[:, 1])\n",
        "    return hist\n",
        "\n",
        "def get_lbp_hist(img, radius=3):\n",
        "    return get_hist(get_lbp(rgb2gray(img), radius=radius).reshape(-1))"
      ]
    },
    {
      "cell_type": "code",
      "execution_count": null,
      "metadata": {
        "_cell_guid": "3021adc4-9f9f-2beb-cc9b-a26c1f6c078f"
      },
      "outputs": [],
      "source": [
        "print(\"positive histogram samples\")\n",
        "plt.plot(get_lbp_hist(load_img(3)))\n",
        "plt.show()\n",
        "plt.plot(get_lbp_hist(load_img(5)))\n",
        "plt.show()\n",
        "\n",
        "print(\"negative histogram samples\")\n",
        "plt.plot(get_lbp_hist(load_img(1)))\n",
        "plt.show()\n",
        "plt.plot(get_lbp_hist(load_img(2)))\n",
        "plt.show()"
      ]
    },
    {
      "cell_type": "code",
      "execution_count": null,
      "metadata": {
        "_cell_guid": "2ed698c0-d8e9-2a93-fd14-826b252475d3"
      },
      "outputs": [],
      "source": [
        "def load_lbp_features(img_number, training=True):\n",
        "    img = load_img(img_number, training=training)\n",
        "    descriptor = list(get_lbp_hist(img, 3)) #+ list(get_lbp_hist(img, 1)) + list(get_lbp_hist(img, 5)) + list(get_lbp_hist(img, 7))\n",
        "    return descriptor"
      ]
    },
    {
      "cell_type": "code",
      "execution_count": null,
      "metadata": {
        "_cell_guid": "b37b53f9-ef4c-b4d0-91a3-82750f948b94"
      },
      "outputs": [],
      "source": [
        "#keep the nb_max training labels\n",
        "training_labels = np.array(list(train_labels.drop(\"name\", axis=1)[\"invasive\"]))[:LOAD_NB_MAX_TRAINING_DATA]\n",
        "training_labels"
      ]
    },
    {
      "cell_type": "code",
      "execution_count": null,
      "metadata": {
        "_cell_guid": "ee774d0f-2c26-afff-0892-bae01941f977"
      },
      "outputs": [],
      "source": [
        "#loading data\n",
        "training_data = np.array([load_lbp_features(str(i + 1)) for i in range(len(training_labels[:LOAD_NB_MAX_TRAINING_DATA]))])"
      ]
    },
    {
      "cell_type": "code",
      "execution_count": null,
      "metadata": {
        "_cell_guid": "9e94986a-2ee0-4832-1ee8-6109d9466262"
      },
      "outputs": [],
      "source": [
        "#normalize data\n",
        "training_data = (training_data - training_data.mean(axis=0)) / training_data.std(axis=0)"
      ]
    },
    {
      "cell_type": "code",
      "execution_count": null,
      "metadata": {
        "_cell_guid": "b027a9dc-6b24-3439-0e26-9782428a2d2f"
      },
      "outputs": [],
      "source": [
        "training_set = list(zip(training_labels, training_data))\n",
        "print(training_set[0])\n",
        "random.shuffle(training_set)"
      ]
    },
    {
      "cell_type": "code",
      "execution_count": null,
      "metadata": {
        "_cell_guid": "254e3a41-c460-0255-0add-9590e13d1086"
      },
      "outputs": [],
      "source": [
        "train_set, test_set = train_test_split(training_set, test_size=.2)\n",
        "\n",
        "Y_train, X_train = zip(*train_set)\n",
        "Y_test,  X_test  = zip(*test_set)\n",
        "\n",
        "X_train = np.array(X_train)\n",
        "Y_train = np.array(Y_train)\n",
        "X_test  = np.array(X_test)\n",
        "Y_test  = np.array(Y_test)\n",
        "\n",
        "print(\"nb training set : \", len(Y_train))\n",
        "print(\"nb testing  set : \", len(Y_test))"
      ]
    },
    {
      "cell_type": "code",
      "execution_count": null,
      "metadata": {
        "_cell_guid": "73e5b54d-d8b6-b37d-e4bc-3a396089d0a3"
      },
      "outputs": [],
      "source": [
        "clf = SVC()\n",
        "clf.fit(X_train, Y_train)"
      ]
    },
    {
      "cell_type": "code",
      "execution_count": null,
      "metadata": {
        "_cell_guid": "18d850e7-93ed-d90c-6003-a401df710df3"
      },
      "outputs": [],
      "source": [
        "print(\"accuracy : \", sum(clf.predict(X_test) == Y_test) / float(len(Y_test)))"
      ]
    },
    {
      "cell_type": "markdown",
      "metadata": {
        "_cell_guid": "3e5a6de2-cd3f-f447-0549-af6cb738203d"
      },
      "source": [
        "# Looking how the input look like..."
      ]
    },
    {
      "cell_type": "code",
      "execution_count": null,
      "metadata": {
        "_cell_guid": "7c22803d-7fec-a25b-f94c-03724affa00b"
      },
      "outputs": [],
      "source": [
        "positives = []\n",
        "negatives = []\n",
        "\n",
        "for (c, d) in training_set:\n",
        "    if c:\n",
        "        positives.append(d)\n",
        "    else:\n",
        "        negatives.append(d)\n",
        "\n",
        "print(len(positives))\n",
        "print(len(negatives))"
      ]
    },
    {
      "cell_type": "code",
      "execution_count": null,
      "metadata": {
        "_cell_guid": "f83dd2b3-c440-cee2-cd2e-12bf425d9924"
      },
      "outputs": [],
      "source": [
        "print(\"positives looks like : \")\n",
        "\n",
        "plt.imshow(np.array(positives[10:50]), cmap=\"gray\")\n",
        "plt.show()\n",
        "\n",
        "print(\"negatives looks like : \")\n",
        "\n",
        "plt.imshow(np.array(negatives[10:50]), cmap=\"gray\")\n",
        "plt.show()\n",
        "\n",
        "print(\"Do you see the difference bro ?? ;) a SVM can... :p\")"
      ]
    },
    {
      "cell_type": "code",
      "execution_count": null,
      "metadata": {
        "_cell_guid": "5721a06b-f62d-e820-c2b5-153207b42343"
      },
      "outputs": [],
      "source": [
        "#"
      ]
    }
  ],
  "metadata": {
    "_change_revision": 0,
    "_is_fork": false,
    "kernelspec": {
      "display_name": "Python 3",
      "language": "python",
      "name": "python3"
    },
    "language_info": {
      "codemirror_mode": {
        "name": "ipython",
        "version": 3
      },
      "file_extension": ".py",
      "mimetype": "text/x-python",
      "name": "python",
      "nbconvert_exporter": "python",
      "pygments_lexer": "ipython3",
      "version": "3.6.0"
    }
  },
  "nbformat": 4,
  "nbformat_minor": 0
}