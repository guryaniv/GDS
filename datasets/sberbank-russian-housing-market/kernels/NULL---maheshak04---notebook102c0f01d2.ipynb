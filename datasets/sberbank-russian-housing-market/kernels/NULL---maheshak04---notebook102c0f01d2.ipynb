{
  "cells": [
    {
      "cell_type": "code",
      "execution_count": null,
      "metadata": {
        "_cell_guid": "a7ddad67-73e4-3a79-e1e5-381d1d633e3d"
      },
      "outputs": [],
      "source": [
        "# This Python 3 environment comes with many helpful analytics libraries installed\n",
        "# It is defined by the kaggle/python docker image: https://github.com/kaggle/docker-python\n",
        "# For example, here's several helpful packages to load in \n",
        "\n",
        "import numpy as np # linear algebra\n",
        "import pandas as pd # data processing, CSV file I/O (e.g. pd.read_csv)\n",
        "\n",
        "# Input data files are available in the \"../input/\" directory.\n",
        "# For example, running this (by clicking run or pressing Shift+Enter) will list the files in the input directory\n",
        "\n",
        "from subprocess import check_output\n",
        "print(check_output([\"ls\", \"../input\"]).decode(\"utf8\"))\n",
        "\n",
        "# Any results you write to the current directory are saved as output."
      ]
    },
    {
      "cell_type": "code",
      "execution_count": null,
      "metadata": {
        "_cell_guid": "beaa7a2c-0864-a497-489b-abbb337a2165"
      },
      "outputs": [],
      "source": [
        "macro_df=pd.read_csv('../input/macro.csv')\n",
        "train_df=pd.read_csv('../input/train.csv')\n",
        "test_df=pd.read_csv('../input/test.csv')"
      ]
    },
    {
      "cell_type": "code",
      "execution_count": null,
      "metadata": {
        "_cell_guid": "2baa1f12-c9eb-4c6b-2592-df0fab292163"
      },
      "outputs": [],
      "source": [
        "import matplotlib.pyplot as plt\n",
        "import seaborn as sns\n",
        "from scipy.stats import norm\n",
        "from sklearn.preprocessing import StandardScaler\n",
        "from scipy import stats\n",
        "import warnings\n",
        "warnings.filterwarnings('ignore')\n",
        "%matplotlib inline"
      ]
    },
    {
      "cell_type": "code",
      "execution_count": null,
      "metadata": {
        "_cell_guid": "b9b0869a-55f0-0685-376d-f8b0206b047f"
      },
      "outputs": [],
      "source": [
        "train_df.columns"
      ]
    },
    {
      "cell_type": "code",
      "execution_count": null,
      "metadata": {
        "_cell_guid": "bc13268a-6180-47e6-700e-d5b65d3837d3"
      },
      "outputs": [],
      "source": [
        "test_df.columns"
      ]
    },
    {
      "cell_type": "code",
      "execution_count": null,
      "metadata": {
        "_cell_guid": "027189c2-61f2-c159-5052-62820231f174"
      },
      "outputs": [],
      "source": [
        "macro_df.columns"
      ]
    },
    {
      "cell_type": "code",
      "execution_count": null,
      "metadata": {
        "_cell_guid": "a58ecd8d-9426-10ac-d161-497bcedec526"
      },
      "outputs": [],
      "source": [
        "train_df.price_doc.describe()"
      ]
    },
    {
      "cell_type": "code",
      "execution_count": null,
      "metadata": {
        "_cell_guid": "be7ddf5b-e20a-3c16-279d-53c77a3991c0"
      },
      "outputs": [],
      "source": [
        "#histogram\n",
        "sns.distplot(train_df['price_doc']);"
      ]
    },
    {
      "cell_type": "code",
      "execution_count": null,
      "metadata": {
        "_cell_guid": "86315eff-fb78-ac06-ea4c-1794b9c64caa"
      },
      "outputs": [],
      "source": [
        "#scatter plot grlivarea/saleprice\n",
        "var = 'full_sq'\n",
        "data = pd.concat([train_df['price_doc'], train_df[var]], axis=1)\n",
        "data.plot.scatter(x=var, y='price_doc', ylim=(0,800000));"
      ]
    },
    {
      "cell_type": "code",
      "execution_count": null,
      "metadata": {
        "_cell_guid": "19090e9a-4c1b-8d70-9dee-940e292575bc"
      },
      "outputs": [],
      "source": [
        "#scatter plot grlivarea/saleprice\n",
        "var = 'life_sq'\n",
        "data = pd.concat([train_df['price_doc'], train_df[var]], axis=1)\n",
        "data.plot.scatter(x=var, y='price_doc', ylim=(0,800000));"
      ]
    },
    {
      "cell_type": "code",
      "execution_count": null,
      "metadata": {
        "_cell_guid": "c030ac4c-0d32-e28a-9fd7-84f86e4dc7a2"
      },
      "outputs": [],
      "source": [
        "#scatter plot grlivarea/saleprice\n",
        "for var in train_df.columns:\n",
        "    v=var\n",
        "    data = pd.concat([train_df['price_doc'], train_df[v]], axis=1)\n",
        "    data.plot.scatter(x=v, y='price_doc', ylim=(0,800000));"
      ]
    },
    {
      "cell_type": "code",
      "execution_count": null,
      "metadata": {
        "_cell_guid": "6900a101-7d79-3b63-b73b-73a95df3fa0f"
      },
      "outputs": [],
      "source": [
        "#correlation matrix\n",
        "corrmat = train_df.corr()\n",
        "f, ax = plt.subplots(figsize=(120, 90))\n",
        "sns.heatmap(corrmat, vmax=.9, square=True);"
      ]
    },
    {
      "cell_type": "code",
      "execution_count": null,
      "metadata": {
        "_cell_guid": "ccfeda92-bfa6-2ba4-c204-b706e22fd723"
      },
      "outputs": [],
      "source": [
        "#saleprice correlation matrix\n",
        "k = 10 #number of variables for heatmap\n",
        "cols = corrmat.nlargest(k, 'price_doc')['price_doc'].index\n",
        "cm = np.corrcoef(train_df[cols].values.T)\n",
        "sns.set(font_scale=1.25)\n",
        "hm = sns.heatmap(cm, cbar=True, annot=True, square=True, fmt='.2f', annot_kws={'size': 15}, yticklabels=cols.values, xticklabels=cols.values)\n",
        "plt.show()"
      ]
    },
    {
      "cell_type": "code",
      "execution_count": null,
      "metadata": {
        "_cell_guid": "9d7d707c-df56-8c50-d4fe-b2159197b610"
      },
      "outputs": [],
      "source": [
        "train_df.corr().price_doc.sort_values(ascending=False)"
      ]
    },
    {
      "cell_type": "code",
      "execution_count": null,
      "metadata": {
        "_cell_guid": "3c267588-2124-a9de-fb5a-0a93f73aa304"
      },
      "outputs": [],
      "source": [
        "comb_df=pd.concat([train_df,macro_df],axis=0)"
      ]
    },
    {
      "cell_type": "code",
      "execution_count": null,
      "metadata": {
        "_cell_guid": "493713ed-27c0-aa38-c635-457bc27ef9aa"
      },
      "outputs": [],
      "source": [
        "len(comb_df)"
      ]
    },
    {
      "cell_type": "code",
      "execution_count": null,
      "metadata": {
        "_cell_guid": "7431397a-82cd-2115-1498-f811c9ad3166"
      },
      "outputs": [],
      "source": [
        "comb_df.columns"
      ]
    },
    {
      "cell_type": "code",
      "execution_count": null,
      "metadata": {
        "_cell_guid": "8317b84a-c825-7d77-c018-d81e4b13ac2b"
      },
      "outputs": [],
      "source": [
        "comb_df.shape"
      ]
    },
    {
      "cell_type": "code",
      "execution_count": null,
      "metadata": {
        "_cell_guid": "99760421-496a-39f1-0ae5-a3b9f1d64ae5"
      },
      "outputs": [],
      "source": [
        "comb_df.corr().price_doc.sort_values(ascending=False)"
      ]
    },
    {
      "cell_type": "code",
      "execution_count": null,
      "metadata": {
        "_cell_guid": "9ce401da-b74a-97cb-685e-01c33954f3a5"
      },
      "outputs": [],
      "source": [
        "missing = train_df.isnull().sum()\n",
        "missing = missing[missing <4000]\n",
        "missing.sort_values(inplace=True)\n",
        "missing.plot.bar()"
      ]
    },
    {
      "cell_type": "code",
      "execution_count": null,
      "metadata": {
        "_cell_guid": "c96f4867-59d4-cf98-6d11-5d734ea96cc2"
      },
      "outputs": [],
      "source": [
        "missing_df=pd.DataFrame(missing,columns=missing.name)"
      ]
    },
    {
      "cell_type": "code",
      "execution_count": null,
      "metadata": {
        "_cell_guid": "048cc862-1b57-3e3e-876c-628bbd3232e8"
      },
      "outputs": [],
      "source": [
        "missing_df.index"
      ]
    },
    {
      "cell_type": "code",
      "execution_count": null,
      "metadata": {
        "_cell_guid": "60f58141-4542-2ed0-3df7-fe2250a11864"
      },
      "outputs": [],
      "source": ""
    }
  ],
  "metadata": {
    "_change_revision": 0,
    "_is_fork": false,
    "kernelspec": {
      "display_name": "Python 3",
      "language": "python",
      "name": "python3"
    },
    "language_info": {
      "codemirror_mode": {
        "name": "ipython",
        "version": 3
      },
      "file_extension": ".py",
      "mimetype": "text/x-python",
      "name": "python",
      "nbconvert_exporter": "python",
      "pygments_lexer": "ipython3",
      "version": "3.6.0"
    }
  },
  "nbformat": 4,
  "nbformat_minor": 0
}