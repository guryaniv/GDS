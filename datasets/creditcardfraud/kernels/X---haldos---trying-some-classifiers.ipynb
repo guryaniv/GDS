{
  "cells": [
    {
      "cell_type": "markdown",
      "metadata": {
        "_cell_guid": "cfd2fadb-4566-8156-07d0-0a7655ee4ed8"
      },
      "source": [
        "## Trying some classifiers... ##"
      ]
    },
    {
      "cell_type": "code",
      "execution_count": null,
      "metadata": {
        "_cell_guid": "92917831-cbaa-ddf9-cfcd-ba38e4e8d4cf"
      },
      "outputs": [],
      "source": [
        "# This Python 3 environment comes with many helpful analytics libraries installed\n",
        "# It is defined by the kaggle/python docker image: https://github.com/kaggle/docker-python\n",
        "# For example, here's several helpful packages to load in \n",
        "\n",
        "import numpy as np # linear algebra\n",
        "import pandas as pd # data processing, CSV file I/O (e.g. pd.read_csv)\n",
        "\n",
        "# Input data files are available in the \"../input/\" directory.\n",
        "# For example, running this (by clicking run or pressing Shift+Enter) will list the files in the input directory\n",
        "\n",
        "from subprocess import check_output\n",
        "print(check_output([\"ls\", \"../input\"]).decode(\"utf8\"))\n",
        "\n",
        "# Any results you write to the current directory are saved as output."
      ]
    },
    {
      "cell_type": "markdown",
      "metadata": {
        "_cell_guid": "e9a01e88-0d4d-8c4e-8a28-90fae365e101"
      },
      "source": [
        "### Using Pandas to import dataset ###"
      ]
    },
    {
      "cell_type": "code",
      "execution_count": null,
      "metadata": {
        "_cell_guid": "aaf98a13-deb9-c60a-dded-8a54048392bd"
      },
      "outputs": [],
      "source": [
        "all_data= pd.read_csv(\"../input/creditcard.csv\")\n",
        "labels = all_data[\"Class\"].values\n",
        "times = all_data[\"Time\"].values\n",
        "features = all_data.drop('Class', 1)\n",
        "features = features.drop('Time', 1)\n",
        "print(all_data.shape)\n",
        "print(features.shape)\n",
        "print(labels.shape)"
      ]
    },
    {
      "cell_type": "markdown",
      "metadata": {
        "_cell_guid": "6ad6e53d-d74f-077f-2241-8352347d2dbc"
      },
      "source": [
        "### Using scikit-learn ###"
      ]
    },
    {
      "cell_type": "code",
      "execution_count": null,
      "metadata": {
        "_cell_guid": "c70206d3-3235-c995-23d5-f6cb33bd1cae"
      },
      "outputs": [],
      "source": [
        "from sklearn.linear_model import LogisticRegression\n",
        "from sklearn.discriminant_analysis import QuadraticDiscriminantAnalysis\n",
        "from sklearn.model_selection import cross_val_score\n",
        "from sklearn import preprocessing\n",
        "from sklearn.metrics import confusion_matrix, classification_report\n",
        "from sklearn.model_selection import train_test_split"
      ]
    },
    {
      "cell_type": "markdown",
      "metadata": {
        "_cell_guid": "6f9f3959-b208-871b-6147-cb92b1bfb034"
      },
      "source": [
        "Generate train and test sets (70/30):"
      ]
    },
    {
      "cell_type": "code",
      "execution_count": null,
      "metadata": {
        "_cell_guid": "98d21cc1-6b59-2733-bcd6-5588d8d7be10"
      },
      "outputs": [],
      "source": [
        "features_train, features_test, labels_train, labels_test = train_test_split(features, labels, test_size=0.3, random_state=0)"
      ]
    },
    {
      "cell_type": "markdown",
      "metadata": {
        "_cell_guid": "00090ef5-c42b-da1a-5ec7-bcf076f8a5ab"
      },
      "source": [
        "### Logistic regression ###"
      ]
    },
    {
      "cell_type": "code",
      "execution_count": null,
      "metadata": {
        "_cell_guid": "72b612af-47b2-074e-85fd-7bf48b1f1c43"
      },
      "outputs": [],
      "source": [
        "lr = LogisticRegression(class_weight='balanced',random_state=0)\n",
        "model_lr = lr.fit(features_train,labels_train)\n",
        "y_predicted_lr = model_lr.predict(features_test)"
      ]
    },
    {
      "cell_type": "code",
      "execution_count": null,
      "metadata": {
        "_cell_guid": "8b454265-0f4f-5a5d-74d1-91e3ff720d61"
      },
      "outputs": [],
      "source": [
        "print('Confusion matrix (Logistic Regression)\\n')\n",
        "print(confusion_matrix(labels_test, y_predicted_lr))"
      ]
    },
    {
      "cell_type": "code",
      "execution_count": null,
      "metadata": {
        "_cell_guid": "d95b5438-ee6d-f61c-2939-c7ba9461da54"
      },
      "outputs": [],
      "source": [
        "print('Classification report (Logistic Regression)\\n')\n",
        "print(classification_report(labels_test, y_predicted_lr, digits=5))"
      ]
    },
    {
      "cell_type": "markdown",
      "metadata": {
        "_cell_guid": "7001d17e-20fc-b4cb-6140-d82a4d141359"
      },
      "source": [
        "First method, high level in recall for fraud class (~91%), but a lot of false positives."
      ]
    },
    {
      "cell_type": "markdown",
      "metadata": {
        "_cell_guid": "2d5f3bb5-75bc-dbfe-b84e-5956a5c4e37e"
      },
      "source": [
        "### Random Forest ###"
      ]
    },
    {
      "cell_type": "code",
      "execution_count": null,
      "metadata": {
        "_cell_guid": "5ed575fe-0876-f3d8-d03e-b372e97aa20d"
      },
      "outputs": [],
      "source": [
        "from sklearn.ensemble import RandomForestClassifier\n",
        "rf = RandomForestClassifier(class_weight='balanced',n_estimators=500,min_samples_leaf=20,random_state=0)\n",
        "model_rf = rf.fit(features_train,labels_train)\n",
        "y_predicted_rf = model_rf.predict(features_test)"
      ]
    },
    {
      "cell_type": "code",
      "execution_count": null,
      "metadata": {
        "_cell_guid": "632e8888-138f-cc3c-7682-02e7cd7f547a"
      },
      "outputs": [],
      "source": [
        "print('Confusion matrix (Random Forest)\\n')\n",
        "print(confusion_matrix(labels_test, y_predicted_rf))"
      ]
    },
    {
      "cell_type": "code",
      "execution_count": null,
      "metadata": {
        "_cell_guid": "a8562b2e-32c6-566c-a923-a42407cb40a1"
      },
      "outputs": [],
      "source": [
        "print('Classification report (Random Forest)\\n')\n",
        "print(classification_report(labels_test, y_predicted_rf, digits=5))"
      ]
    },
    {
      "cell_type": "markdown",
      "metadata": {
        "_cell_guid": "2c31819d-8170-3602-0b2d-707b0ac2e5bc"
      },
      "source": [
        "Using Random Forest, we can obtain less recall on fraud class (~82%), but the number of false positives has dropped dramatically."
      ]
    },
    {
      "cell_type": "markdown",
      "metadata": {
        "_cell_guid": "7ee2cbff-5690-ea13-16cf-8daa925d1f7c"
      },
      "source": [
        "### Neural Network (Multi-Layer Perceptron) ###\n",
        "\n",
        "A two hidden-layers neural network, with perceptron output."
      ]
    },
    {
      "cell_type": "code",
      "execution_count": null,
      "metadata": {
        "_cell_guid": "ead6b5c2-622e-283b-0641-87bf6b5c2a44"
      },
      "outputs": [],
      "source": [
        "from sklearn.neural_network import MLPClassifier\n",
        "mlp = MLPClassifier(solver='lbfgs', activation='tanh', alpha=1, hidden_layer_sizes=(58,58), learning_rate='adaptive', random_state=0)\n",
        "model_mlp = mlp.fit(features_train,labels_train)\n",
        "y_predicted_mlp = model_mlp.predict(features_test)"
      ]
    },
    {
      "cell_type": "code",
      "execution_count": null,
      "metadata": {
        "_cell_guid": "8c9d9867-0fb1-dc2b-ac82-d4bec00284ad"
      },
      "outputs": [],
      "source": [
        "print('Confusion matrix (Multi-layer Perceptron)\\n')\n",
        "print(confusion_matrix(labels_test, y_predicted_mlp))"
      ]
    },
    {
      "cell_type": "code",
      "execution_count": null,
      "metadata": {
        "_cell_guid": "05218ecf-df95-9ac9-aa07-6c8f714b44f1"
      },
      "outputs": [],
      "source": [
        "print('Classification report (Multi-layer Perceptron)\\n')\n",
        "print(classification_report(labels_test, y_predicted_mlp, digits=5))"
      ]
    },
    {
      "cell_type": "markdown",
      "metadata": {
        "_cell_guid": "c5d536ec-475a-c683-e830-25207e8ff328"
      },
      "source": [
        "Using a Multi-layer perceptron, with `tanh` activators, we can obtain similar results than using a Random Forest (recall ~80%, low false positives). But watch out! Training time is high!"
      ]
    },
    {
      "cell_type": "markdown",
      "metadata": {
        "_cell_guid": "c852db4b-d51d-1a22-812f-88ab338bfbf1"
      },
      "source": [
        "### Decision Tree ###"
      ]
    },
    {
      "cell_type": "code",
      "execution_count": null,
      "metadata": {
        "_cell_guid": "d07890be-a7ce-286c-21b5-00ac39c1e354"
      },
      "outputs": [],
      "source": [
        "from sklearn import tree\n",
        "tree_clf = tree.DecisionTreeClassifier(random_state=0)\n",
        "tree_model = tree_clf.fit(features_train,labels_train)\n",
        "y_predicted_tree = tree_model.predict(features_test)"
      ]
    },
    {
      "cell_type": "code",
      "execution_count": null,
      "metadata": {
        "_cell_guid": "5b574ac0-2c55-e9ec-b0da-634fb8cda18b"
      },
      "outputs": [],
      "source": [
        "print('Confusion matrix (Decision Tree)\\n')\n",
        "print(confusion_matrix(labels_test, y_predicted_tree))"
      ]
    },
    {
      "cell_type": "code",
      "execution_count": null,
      "metadata": {
        "_cell_guid": "ddfe6b7d-b15c-0bf5-0960-6810294c4264"
      },
      "outputs": [],
      "source": [
        "print('Classification report (Decision Tree)\\n')\n",
        "print(classification_report(labels_test, y_predicted_tree, digits=5))"
      ]
    },
    {
      "cell_type": "markdown",
      "metadata": {
        "_cell_guid": "6b909e41-e1cd-1862-512a-c5d116a8241a"
      },
      "source": [
        "Decision tree works a little worse than the rest. Recall ~76%."
      ]
    },
    {
      "cell_type": "markdown",
      "metadata": {
        "_cell_guid": "c43016de-b981-cd0b-d1bd-de838c14be16"
      },
      "source": [
        "## Subsample of majority class ##\n",
        "\n",
        "In order to deal with a highly skewed dataset, we can randomly subsample the majority class (not fraud, class=0). We are going to keep only 10000 samples of class 0."
      ]
    },
    {
      "cell_type": "code",
      "execution_count": null,
      "metadata": {
        "_cell_guid": "817ffc9a-1b95-d8e4-2c56-bb40d5fc49ba"
      },
      "outputs": [],
      "source": [
        "features_class0 = features[labels == 0]\n",
        "features_class1 = features[labels == 1]\n",
        "print('FEATURES')\n",
        "print('Class 0: ', features_class0.shape, 'Class 1: ', features_class1.shape)\n",
        "labels_class0 = labels[(labels == 0)]\n",
        "labels_class1 = labels[(labels == 1)]\n",
        "print('LABELS')\n",
        "print('Class 0: ', labels_class0.shape, 'Class 1: ', labels_class1.shape)"
      ]
    },
    {
      "cell_type": "code",
      "execution_count": null,
      "metadata": {
        "_cell_guid": "45e239ee-2a1c-60bb-70a4-7592b4fff921"
      },
      "outputs": [],
      "source": [
        "features_class0_sub = features_class0.sample(n=10000, random_state=0)\n",
        "labels_class0_sub = labels_class0[:10000]\n",
        "print('Class 0 :', features_class0_sub.shape[0], 'Class 1: ', features_class1.shape[0])\n",
        "\n",
        "features_sub = np.concatenate((features_class0_sub,features_class1))\n",
        "labels_sub = np.concatenate((labels_class0_sub,labels_class1))\n",
        "features_sub_train, features_sub_test, labels_sub_train, labels_sub_test = train_test_split(\n",
        "    features_sub, labels_sub, test_size=0.3, random_state=0)"
      ]
    },
    {
      "cell_type": "markdown",
      "metadata": {
        "_cell_guid": "9c00686f-50da-00b4-69f8-dc85e078fcf6"
      },
      "source": [
        "### Random Forest (with subsample) ###"
      ]
    },
    {
      "cell_type": "code",
      "execution_count": null,
      "metadata": {
        "_cell_guid": "3501348f-f5b0-e600-2f46-91141b8e565d"
      },
      "outputs": [],
      "source": [
        "from sklearn.ensemble import RandomForestClassifier\n",
        "rf = RandomForestClassifier(n_estimators=500,min_samples_leaf=20,random_state=0)\n",
        "model_rf_sub = rf.fit(features_sub_train,labels_sub_train)\n",
        "y_predicted_rf_sub = model_rf_sub.predict(features_sub_test)"
      ]
    },
    {
      "cell_type": "code",
      "execution_count": null,
      "metadata": {
        "_cell_guid": "8cd6db74-d615-d6b4-3e0e-444882ddf9de"
      },
      "outputs": [],
      "source": [
        "print('Confusion matrix (Random Forest, with subsample)\\n')\n",
        "print(confusion_matrix(labels_sub_test, y_predicted_rf_sub))"
      ]
    },
    {
      "cell_type": "code",
      "execution_count": null,
      "metadata": {
        "_cell_guid": "c7669689-4afd-ca78-b8b5-3e95259befab"
      },
      "outputs": [],
      "source": [
        "print('Classification report (Random Forest, with subsample)\\n')\n",
        "print(classification_report(labels_sub_test, y_predicted_rf_sub, digits=5))"
      ]
    },
    {
      "cell_type": "markdown",
      "metadata": {
        "_cell_guid": "66bbb3b5-4ab2-6c6b-f7ca-32c7077b7f8f"
      },
      "source": [
        "Recall is a little higher than before (~83,7%), and we don't have false positives!"
      ]
    },
    {
      "cell_type": "markdown",
      "metadata": {
        "_cell_guid": "6dbe949b-041a-e7e9-3804-14faa4e8aa32"
      },
      "source": [
        "### Neural Network (Multi-Layer Perceptron, with subsample) ###"
      ]
    },
    {
      "cell_type": "code",
      "execution_count": null,
      "metadata": {
        "_cell_guid": "5d799ef5-a1d6-ea41-b489-aa80d379ac1b"
      },
      "outputs": [],
      "source": [
        "from sklearn.neural_network import MLPClassifier\n",
        "mlp = MLPClassifier(solver='lbfgs', activation='tanh', alpha=1, hidden_layer_sizes=(58, 58), learning_rate='adaptive', random_state=0)\n",
        "model_mlp_sub = mlp.fit(features_sub_train,labels_sub_train)\n",
        "y_predicted_mlp_sub = model_mlp_sub.predict(features_sub_test)"
      ]
    },
    {
      "cell_type": "code",
      "execution_count": null,
      "metadata": {
        "_cell_guid": "46b59855-80f4-c3f5-b994-233459bc4097"
      },
      "outputs": [],
      "source": [
        "print('Confusion matrix (Multi-layer Perceptron, with subsample)\\n')\n",
        "print(confusion_matrix(labels_sub_test, y_predicted_mlp_sub))"
      ]
    },
    {
      "cell_type": "code",
      "execution_count": null,
      "metadata": {
        "_cell_guid": "9944b5fc-c13e-e45e-e108-d97021865306"
      },
      "outputs": [],
      "source": [
        "print('Classification report (Multi-layer Perceptron, with subsample)\\n')\n",
        "print(classification_report(labels_sub_test, y_predicted_mlp_sub, digits=5))"
      ]
    },
    {
      "cell_type": "markdown",
      "metadata": {
        "_cell_guid": "3c1b06b1-ebbb-b90e-e8e8-ae1d3863cbdb"
      },
      "source": [
        "Finally, last example give us the higher recall for fraud detection (~86,5%). Very low false positive and also low false negatives."
      ]
    }
  ],
  "metadata": {
    "_change_revision": 0,
    "_is_fork": false,
    "kernelspec": {
      "display_name": "Python 3",
      "language": "python",
      "name": "python3"
    },
    "language_info": {
      "codemirror_mode": {
        "name": "ipython",
        "version": 3
      },
      "file_extension": ".py",
      "mimetype": "text/x-python",
      "name": "python",
      "nbconvert_exporter": "python",
      "pygments_lexer": "ipython3",
      "version": "3.5.2"
    }
  },
  "nbformat": 4,
  "nbformat_minor": 0
}