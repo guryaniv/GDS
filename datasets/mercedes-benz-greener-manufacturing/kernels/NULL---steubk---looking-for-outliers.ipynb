{
  "cells": [
    {
      "cell_type": "markdown",
      "metadata": {
        "_cell_guid": "b6affad6-0e2b-0f2e-61f3-dc05c2fe7c38"
      },
      "source": [
        "just a sketch to visualize y variation / X0 mean "
      ]
    },
    {
      "cell_type": "code",
      "execution_count": null,
      "metadata": {
        "_cell_guid": "10cc6e0c-19b7-ef1a-3fd0-82580064bcfe"
      },
      "outputs": [],
      "source": [
        "import numpy as np \n",
        "import pandas as pd \n",
        "import matplotlib.pyplot as plt\n",
        "import matplotlib\n",
        "from sklearn import preprocessing\n",
        "from sklearn.preprocessing import LabelEncoder\n",
        "\n",
        "\n",
        "%matplotlib inline\n",
        "\n",
        "pd.options.mode.chained_assignment = None  # default='warn'\n",
        "pd.options.display.max_columns = 999\n",
        "\n",
        "# read datasets\n",
        "df_train = pd.read_csv('../input/train.csv')\n",
        "df_test = pd.read_csv('../input/test.csv')\n",
        "df_test['y'] = np.nan\n",
        "\n",
        "\n",
        "            \n",
        "df_all = pd.concat ( [df_train, df_test])\n",
        "\n",
        "le = LabelEncoder()\n",
        "\n",
        "for c in ['X0','X1','X2','X3','X4','X5','X6', 'X8']:\n",
        "          \n",
        "    df_all['cat_' + c] = le.fit_transform(df_all[c].values)\n",
        "\n",
        "\n",
        "avg_X0=df_all[['y','X0']].groupby(['X0']).mean().reset_index()\n",
        "avg_X0.columns=['X0','avg_X0']\n",
        "mean_X0 = df_all['y'].mean() \n",
        "\n",
        "df_all=df_all.merge(avg_X0, on='X0', how='left')\n",
        "df_all['avg_X0'].fillna(mean_X0,inplace=True)\n",
        "df_all['y-avg_X0'] = df_all['y'] - df_all['avg_X0'] \n",
        "\n",
        "df_train = df_all[ df_all['y'].notnull() ]\n",
        "\n"
      ]
    },
    {
      "cell_type": "code",
      "execution_count": null,
      "metadata": {
        "_cell_guid": "d9fc26af-ad82-de0c-fe49-666b14c03623"
      },
      "outputs": [],
      "source": [
        "plt.figure(figsize=(40,20))\n",
        "\n",
        "i=0\n",
        "df = df_train.sort_values(by=['y-avg_X0']).reset_index()\n",
        "i += 1\n",
        "ax =  plt.subplot(1,2,i)\n",
        "plt.scatter(df.index,  df['y-avg_X0'], c=df['cat_X5'],  linewidth=5, cmap=matplotlib.cm.get_cmap('rainbow') )\n",
        "plt.xlabel( '{}'.format('y-avg_X0'), fontsize=12)\n",
        "ax.set_ylim(-25,180)\n",
        "\n",
        "i += 1\n",
        "ax =  plt.subplot(1,2,i)\n",
        "\n",
        "plt.hist(  df['y-avg_X0'] ,  weights=np.zeros_like(df['y-avg_X0']) + 100. / len(df['y-avg_X0'] ), bins=20)\n",
        "plt.xlabel( '{}'.format('y-avg_X0'), fontsize=12)\n",
        "ax.set_ylim(0,80)\n",
        "        \n",
        "        \n",
        "plt.show()"
      ]
    },
    {
      "cell_type": "code",
      "execution_count": null,
      "metadata": {
        "_cell_guid": "68d5806b-4229-cb94-d69f-6dfb43b0b397"
      },
      "outputs": [],
      "source": [
        "X0=list(set(df_train['X0'].values))\n",
        "X0.sort()\n",
        "plt.figure(figsize=(20,40))\n",
        "i=0\n",
        "\n",
        "for x in X0:\n",
        "\n",
        "    df = df_train[ df_train['X0'] == x ]\n",
        "    \n",
        "     \n",
        "    if (df.shape[0]> 100):\n",
        "\n",
        "        mean=df['avg_X0'].mean()\n",
        "\n",
        "        df = df.sort_values(by=['y-avg_X0']).reset_index()\n",
        "        i += 1\n",
        "        ax =  plt.subplot(10,6,i)\n",
        "\n",
        "        plt.scatter(df.index,  df['y-avg_X0'], c=df['cat_X5'], s=8, cmap=matplotlib.cm.get_cmap('rainbow') )\n",
        "        plt.xlabel( '{}/{:.2f}'.format(x,mean), fontsize=12)\n",
        "        ax.set_ylim(-25,180)\n",
        "        \n",
        "        i += 1\n",
        "        ax =  plt.subplot(10,6,i)\n",
        "\n",
        "        plt.hist(  df['y-avg_X0'] ,  weights=np.zeros_like(df['y-avg_X0']) + 100. / len(df['y-avg_X0'] ), bins=20)\n",
        "        plt.xlabel( '{}/{:.2f}'.format(x,mean), fontsize=12)\n",
        "        ax.set_ylim(0,70)\n",
        "        \n",
        "        \n",
        "plt.show()"
      ]
    },
    {
      "cell_type": "code",
      "execution_count": null,
      "metadata": {
        "_cell_guid": "5da0ff1b-9444-b7d6-785c-3269ea393072"
      },
      "outputs": [],
      "source": [
        "def plot_next ( cat, rows,min_y, max_y,  i):\n",
        "    i += 1\n",
        "    ax =  plt.subplot(rows,3,i)\n",
        "    plt.scatter(df.index,  df['y-avg_X0'], c=df[cat], s=20, linewidth='0', cmap=matplotlib.cm.get_cmap('rainbow') )\n",
        "    plt.xlabel( '{}/{:.2f}'.format(x,mean), fontsize=12)\n",
        "    ax.set_ylim(min_y,max_y)\n",
        "    i += 1\n",
        "    ax =  plt.subplot(rows,3,i)\n",
        "    plt.hist(  df[cat] ,  weights=np.zeros_like(df[cat]) + 100. / len(df[cat] ), bins=20)\n",
        "    plt.xlabel( '{}/{:.2f}'.format(x,mean), fontsize=12)     \n",
        "\n",
        "    i += 1\n",
        "    ax =  plt.subplot(rows,3,i)\n",
        "\n",
        "    plt.hist(  df['y-avg_X0'] ,  weights=np.zeros_like(df['y-avg_X0']) + 100. / len(df['y-avg_X0'] ), bins=20)\n",
        "    plt.xlabel( '{}/{:.2f}'.format(x,mean), fontsize=12)\n",
        "    ax.set_xlim(min_y,max_y)   \n",
        "    return i\n",
        "\n",
        "X0=['aj','o', 'az', 'n', 'ap']\n",
        "plt.figure(figsize=(20,30))\n",
        "i=0\n",
        "for x in X0:\n",
        "\n",
        "    df = df_train[ df_train['X0'] == x ]\n",
        "    if (df.shape[0]> 100):\n",
        "        mean=df['avg_X0'].mean()\n",
        "\n",
        "        df = df.sort_values(by=['y-avg_X0']).reset_index()\n",
        "        i = plot_next ('cat_X1',len(X0),-25, 75,   i)       \n",
        "        \n",
        "plt.show()\n"
      ]
    },
    {
      "cell_type": "code",
      "execution_count": null,
      "metadata": {
        "_cell_guid": "47191699-ae90-f88f-7cbe-1b2e84ac28e0"
      },
      "outputs": [],
      "source": [
        "X0=['f', 'w', 'ak' ]\n",
        "plt.figure(figsize=(20,20))\n",
        "i=0\n",
        "for x in X0:\n",
        "    df = df_train[ df_train['X0'] == x ]\n",
        "    mean=df['avg_X0'].mean()\n",
        "\n",
        "    df = df.sort_values(by=['y-avg_X0']).reset_index()\n",
        "    i = plot_next ('cat_X1', len(X0),-25, 60,   i)       \n",
        "        \n",
        "plt.show()\n"
      ]
    },
    {
      "cell_type": "code",
      "execution_count": null,
      "metadata": {
        "_cell_guid": "0485dafd-af0a-dba6-d201-1bb22298aa3c"
      },
      "outputs": [],
      "source": [
        "X0=['ay','j', 'x' , 'y', 'z', 's', 't' ]\n",
        "plt.figure(figsize=(20,40))\n",
        "i=0\n",
        "for x in X0:\n",
        "\n",
        "    df = df_train[ df_train['X0'] == x ]\n",
        "    if (df.shape[0]> 100):\n",
        "        mean=df['avg_X0'].mean()\n",
        "\n",
        "        df = df.sort_values(by=['y-avg_X0']).reset_index()\n",
        "        i = plot_next ('cat_X1',len(X0),-25, 185 , i)       \n",
        "        \n",
        "plt.show()"
      ]
    }
  ],
  "metadata": {
    "_change_revision": 0,
    "_is_fork": false,
    "kernelspec": {
      "display_name": "Python 3",
      "language": "python",
      "name": "python3"
    },
    "language_info": {
      "codemirror_mode": {
        "name": "ipython",
        "version": 3
      },
      "file_extension": ".py",
      "mimetype": "text/x-python",
      "name": "python",
      "nbconvert_exporter": "python",
      "pygments_lexer": "ipython3",
      "version": "3.6.0"
    }
  },
  "nbformat": 4,
  "nbformat_minor": 0
}