{
  "cells": [
    {
      "cell_type": "code",
      "execution_count": null,
      "metadata": {
        "_cell_guid": "79d84110-0fbb-2c82-5437-fc01f43e544e"
      },
      "outputs": [],
      "source": [
        "# This Python 3 environment comes with many helpful analytics libraries installed\n",
        "# It is defined by the kaggle/python docker image: https://github.com/kaggle/docker-python\n",
        "# For example, here's several helpful packages to load in \n",
        "\n",
        "import numpy as np # linear algebra\n",
        "import pandas as pd # data processing, CSV file I/O (e.g. pd.read_csv)\n",
        "import matplotlib.pyplot as plt\n",
        "import seaborn as sns\n",
        "from sklearn.preprocessing import LabelEncoder\n",
        "sns.set_style(\"darkgrid\")\n",
        "sns.set_context(\"notebook\")\n",
        "\n",
        "# Input data files are available in the \"../input/\" directory.\n",
        "# For example, running this (by clicking run or pressing Shift+Enter) will list the files in the input directory\n",
        "\n",
        "from subprocess import check_output\n",
        "print(check_output([\"ls\", \"../input\"]).decode(\"utf8\"))\n",
        "\n",
        "# Any results you write to the current directory are saved as output."
      ]
    },
    {
      "cell_type": "markdown",
      "metadata": {
        "_cell_guid": "30bfeed0-04fe-60db-792a-9bdcb0cbe557"
      },
      "source": [
        "Set some constants we need to compute Elo ratings"
      ]
    },
    {
      "cell_type": "code",
      "execution_count": null,
      "metadata": {
        "_cell_guid": "53528b4c-80e8-e64f-0d1f-767f1c767f67"
      },
      "outputs": [],
      "source": [
        "mean_elo = 1500\n",
        "elo_width = 400\n",
        "k_factor = 64"
      ]
    },
    {
      "cell_type": "markdown",
      "metadata": {
        "_cell_guid": "f063a314-209b-9f7d-b704-11fab26b3ca1"
      },
      "source": [
        "## Load the data ##"
      ]
    },
    {
      "cell_type": "code",
      "execution_count": null,
      "metadata": {
        "_cell_guid": "fde48030-9f34-b683-9808-6c77ede8df51"
      },
      "outputs": [],
      "source": [
        "data_dir = '../input/'"
      ]
    },
    {
      "cell_type": "code",
      "execution_count": null,
      "metadata": {
        "_cell_guid": "edb85d25-e2c7-50d5-a79c-f5f2d43aaceb"
      },
      "outputs": [],
      "source": [
        "df_reg = pd.read_csv(data_dir + 'RegularSeasonCompactResults.csv')\n",
        "df_tour = pd.read_csv(data_dir + 'TourneyCompactResults.csv')"
      ]
    },
    {
      "cell_type": "markdown",
      "metadata": {
        "_cell_guid": "c3b3642c-8cec-1f15-9481-63e6a3fa5384"
      },
      "source": [
        "- Concatenate both regular season and tournament results into one DataFrame.\n",
        "- Drop the columns we don't need. \n",
        "- Sort chronologically, ie by season, then by date in that season"
      ]
    },
    {
      "cell_type": "code",
      "execution_count": null,
      "metadata": {
        "_cell_guid": "44292bb3-c6a1-a8a1-ac32-8e1e5193848f"
      },
      "outputs": [],
      "source": [
        "df_concat = pd.concat((df_reg, df_tour), ignore_index=True)\n",
        "df_concat.drop(labels=[ 'Wscore', 'Lscore', 'Wloc', 'Numot'], inplace=True, axis=1)\n",
        "df_concat.sort_values(by=['Season', 'Daynum'], inplace=True)"
      ]
    },
    {
      "cell_type": "markdown",
      "metadata": {
        "_cell_guid": "45958d7a-2b4e-ed61-1851-a511f6014002"
      },
      "source": [
        "Transform team IDs to be from 0 to number_of_teams-1.\n",
        "We do this so that we can use team ID as an index for lookups later."
      ]
    },
    {
      "cell_type": "code",
      "execution_count": null,
      "metadata": {
        "_cell_guid": "54e1a6a8-19f6-01ea-d3f1-a076e3e1cf0a"
      },
      "outputs": [],
      "source": [
        "le = LabelEncoder()\n",
        "df_concat.Wteam = le.fit_transform(df_concat.Wteam)\n",
        "df_concat.Lteam = le.fit_transform(df_concat.Lteam)"
      ]
    },
    {
      "cell_type": "markdown",
      "metadata": {
        "_cell_guid": "e1e80d03-ede6-b8b8-f1b6-ff5fb24451ab"
      },
      "source": [
        "## Elo stuff preparation ##\n",
        "Define the functions we need to calculate the probability of winning given two Elo ratings,\n",
        "and also the change in Elo rating after a game is played."
      ]
    },
    {
      "cell_type": "code",
      "execution_count": null,
      "metadata": {
        "_cell_guid": "ea7425a0-a672-4d9b-ee05-d6bd10979a0a"
      },
      "outputs": [],
      "source": [
        "def update_elo(winner_elo, loser_elo):\n",
        "    \"\"\"\n",
        "    https://en.wikipedia.org/wiki/Elo_rating_system#Mathematical_details\n",
        "    \"\"\"\n",
        "    expected_win = expected_result(winner_elo, loser_elo)\n",
        "    change_in_elo = k_factor * (1-expected_win)\n",
        "    winner_elo += change_in_elo\n",
        "    loser_elo -= change_in_elo\n",
        "    return winner_elo, loser_elo\n",
        "\n",
        "def expected_result(elo_a, elo_b):\n",
        "    \"\"\"\n",
        "    https://en.wikipedia.org/wiki/Elo_rating_system#Mathematical_details\n",
        "    \"\"\"\n",
        "    expect_a = 1.0/(1+10**((elo_b - elo_a)/elo_width))\n",
        "    return expect_a"
      ]
    },
    {
      "cell_type": "code",
      "execution_count": null,
      "metadata": {
        "_cell_guid": "88a8407d-5baf-0f29-f89f-c78b2a3e820f"
      },
      "outputs": [],
      "source": [
        "def update_end_of_season(elos):\n",
        "    \"\"\"Regression towards the mean\n",
        "    \n",
        "    Following 538 nfl methods\n",
        "    https://fivethirtyeight.com/datalab/nfl-elo-ratings-are-back/\n",
        "    \"\"\"\n",
        "    diff_from_mean = elos - mean_elo\n",
        "    elos -= diff_from_mean/3\n",
        "    return elos"
      ]
    },
    {
      "cell_type": "code",
      "execution_count": null,
      "metadata": {
        "_cell_guid": "a6a35ea0-78b7-aeaa-3f5c-cfc9d3b434fd"
      },
      "outputs": [],
      "source": [
        "df_concat['w_elo_before_game'] = 0\n",
        "df_concat['w_elo_after_game'] = 0\n",
        "df_concat['l_elo_before_game'] = 0\n",
        "df_concat['l_elo_after_game'] = 0\n",
        "elo_per_season = {}\n",
        "n_teams = len(le.classes_)\n",
        "current_elos = np.ones(shape=(n_teams)) * mean_elo"
      ]
    },
    {
      "cell_type": "markdown",
      "metadata": {
        "_cell_guid": "eec1591c-a91e-2cfb-93b8-53387de9038c"
      },
      "source": [
        "# Make a new column with a unique time\n",
        "I use days since Jan 1, 1970 to be able to convert to a datetime object later"
      ]
    },
    {
      "cell_type": "code",
      "execution_count": null,
      "metadata": {
        "_cell_guid": "c3221ed6-314b-6827-bbc7-f7009e0e5d40"
      },
      "outputs": [],
      "source": [
        "df_concat['total_days'] = (df_concat.Season-1970)*365.25 + df_concat.Daynum"
      ]
    },
    {
      "cell_type": "code",
      "execution_count": null,
      "metadata": {
        "_cell_guid": "a62220ab-905b-2f5f-4c1a-7007e42c2e55"
      },
      "outputs": [],
      "source": [
        "df_team_elos = pd.DataFrame(index=df_concat.total_days.unique(), \n",
        "                            columns=range(n_teams))\n",
        "df_team_elos.iloc[0, :] = current_elos"
      ]
    },
    {
      "cell_type": "markdown",
      "metadata": {
        "_cell_guid": "02094219-ba00-9bb9-b58c-05ac0068c59f"
      },
      "source": [
        "## The loop where it happens ##\n",
        "\n",
        "- We go through each row in the DataFrame. \n",
        "- We look up the current Elo rating of both teams. \n",
        "- We calculate the expected wins for the team that *actually won*. This is also what we use for *probability of winning*.\n",
        "- Write Elo before and after the game in the Data Frame. \n",
        "- Update the Elo rating for both teams in the \"current_elos\" list."
      ]
    },
    {
      "cell_type": "code",
      "execution_count": null,
      "metadata": {
        "_cell_guid": "fa3bef3f-7fa7-7e5e-819e-07c0ba2645ac"
      },
      "outputs": [],
      "source": [
        "current_season = df_concat.at[0, 'Season']\n",
        "for row in df_concat.itertuples():\n",
        "    if row.Season != current_season:\n",
        "        # Check if we are starting a new season. \n",
        "        # Regress all ratings towards the mean\n",
        "        current_elos = update_end_of_season(current_elos)\n",
        "        # Write the beginning of new season ratings to a dict for later lookups.\n",
        "        elo_per_season[row.Season] = current_elos.copy()\n",
        "        current_season = row.Season\n",
        "    idx = row.Index\n",
        "    w_id = row.Wteam\n",
        "    l_id = row.Lteam\n",
        "    # Get current elos\n",
        "    w_elo_before = current_elos[w_id]\n",
        "    l_elo_before = current_elos[l_id]\n",
        "    # Update on game results\n",
        "    w_elo_after, l_elo_after = update_elo(w_elo_before, l_elo_before)\n",
        "        \n",
        "    # Save updated elos\n",
        "    df_concat.at[idx, 'w_elo_before_game'] = w_elo_before\n",
        "    df_concat.at[idx, 'l_elo_before_game'] = l_elo_before\n",
        "    df_concat.at[idx, 'w_elo_after_game'] = w_elo_after\n",
        "    df_concat.at[idx, 'l_elo_after_game'] = l_elo_after\n",
        "    current_elos[w_id] = w_elo_after\n",
        "    current_elos[l_id] = l_elo_after\n",
        "    \n",
        "    # Save elos to team DataFrame\n",
        "    today = row.total_days\n",
        "    df_team_elos.at[today, w_id] = w_elo_after\n",
        "    df_team_elos.at[today, l_id] = l_elo_after\n"
      ]
    },
    {
      "cell_type": "markdown",
      "metadata": {
        "_cell_guid": "31d5a99f-f0c6-486e-c6d9-f1964c7d610d"
      },
      "source": [
        "## Evaluation ##\n",
        "Sample 10,000 games from recent seasons. \n",
        "Record the expected wins and use this to calculate the logloss."
      ]
    },
    {
      "cell_type": "code",
      "execution_count": null,
      "metadata": {
        "_cell_guid": "6ac34d31-349a-aa3b-855d-19e376753e80"
      },
      "outputs": [],
      "source": [
        "n_samples = 10000\n",
        "samples = df_concat[df_concat.Season > 2010].sample(n_samples)\n",
        "loss=0\n",
        "expected_list = []\n",
        "for row in samples.itertuples():\n",
        "    w_elo = row.w_elo_before_game\n",
        "    l_elo = row.l_elo_before_game\n",
        "    w_expected = expected_result(w_elo, l_elo)\n",
        "    expected_list.append(w_expected)\n",
        "    loss += np.log(w_expected)\n",
        "print(loss/n_samples)"
      ]
    },
    {
      "cell_type": "code",
      "execution_count": null,
      "metadata": {
        "_cell_guid": "f32f7210-6702-2f9f-6254-4d60a284a20e"
      },
      "outputs": [],
      "source": [
        "sns.distplot(expected_list, kde=False, bins=20)\n",
        "plt.xlabel('Elo Expected Wins for Actual Winner')\n",
        "plt.ylabel('Counts')"
      ]
    },
    {
      "cell_type": "markdown",
      "metadata": {
        "_cell_guid": "407fc140-a5e6-b668-f8f3-3e17bec3079a"
      },
      "source": [
        "## Look at Elo ratings over time ##\n",
        "\n",
        "- Fill all the N/As with the previous Elo rating. \n",
        "- Rename the columns to a string\n",
        "- Make a new column with the datetime of the game"
      ]
    },
    {
      "cell_type": "code",
      "execution_count": null,
      "metadata": {
        "_cell_guid": "82204427-887e-1dde-3fc3-424e721e9436"
      },
      "outputs": [],
      "source": [
        "df_team_elos.fillna(method='ffill', inplace=True)\n",
        "trans_dict = {i: 'team_{}'.format(i) for i in range(n_teams)}\n",
        "df_team_elos.rename(columns=trans_dict, inplace=True)\n",
        "epoch = (df_team_elos.index)\n",
        "df_team_elos['date'] = pd.to_datetime(epoch, unit='D')"
      ]
    },
    {
      "cell_type": "code",
      "execution_count": null,
      "metadata": {
        "_cell_guid": "fe6bcc83-5bc2-faa9-1e03-0a44319bd9c6"
      },
      "outputs": [],
      "source": [
        "df_team_elos.plot(x='date', y=['team_1', 'team_2'])\n",
        "plt.ylabel('Elo rating')"
      ]
    }
  ],
  "metadata": {
    "_change_revision": 0,
    "_is_fork": false,
    "kernelspec": {
      "display_name": "Python 3",
      "language": "python",
      "name": "python3"
    },
    "language_info": {
      "codemirror_mode": {
        "name": "ipython",
        "version": 3
      },
      "file_extension": ".py",
      "mimetype": "text/x-python",
      "name": "python",
      "nbconvert_exporter": "python",
      "pygments_lexer": "ipython3",
      "version": "3.5.2"
    }
  },
  "nbformat": 4,
  "nbformat_minor": 0
}