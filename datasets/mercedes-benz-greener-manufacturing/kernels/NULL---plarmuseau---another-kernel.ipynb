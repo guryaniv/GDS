{
  "cells": [
    {
      "cell_type": "code",
      "execution_count": null,
      "metadata": {
        "_cell_guid": "90819da7-a1a0-ddd7-7607-4975fe516c2e"
      },
      "outputs": [],
      "source": [
        "import numpy as np # linear algebra\n",
        "import pandas as pd # data processing, CSV file I/O (e.g. pd.read_csv)\n",
        "from sklearn.preprocessing import LabelEncoder"
      ]
    },
    {
      "cell_type": "code",
      "execution_count": null,
      "metadata": {
        "_cell_guid": "2dd0d449-114e-dab9-e289-4690adee74a6"
      },
      "outputs": [],
      "source": [
        "# read datasets\n",
        "train = pd.read_csv('../input/train.csv')\n",
        "test = pd.read_csv('../input/test.csv')\n",
        "\n",
        "# process columns, apply LabelEncoder to categorical features\n",
        "for c in train.columns:\n",
        "    if train[c].dtype == 'object':\n",
        "        lbl = LabelEncoder() \n",
        "        lbl.fit(list(train[c].values) + list(test[c].values)) \n",
        "        train[c] = lbl.transform(list(train[c].values))\n",
        "        test[c] = lbl.transform(list(test[c].values))\n",
        "\n",
        "# shape        \n",
        "print('Shape train: {}\\nShape test: {}'.format(train.shape, test.shape))"
      ]
    },
    {
      "cell_type": "code",
      "execution_count": null,
      "metadata": {
        "_cell_guid": "db7fd27b-a265-cbd6-54e8-aadc6dd921e3"
      },
      "outputs": [],
      "source": [
        "from sklearn.decomposition import PCA, FastICA\n",
        " # mmm, xgboost, loved by everyone ^-^\n",
        "import xgboost as xgb\n",
        "import seaborn as sns\n",
        "import matplotlib.pyplot as plt\n",
        "from sklearn.metrics import r2_score\n",
        "\n",
        "def xgb_r2_score(preds, dtrain):\n",
        "    labels = dtrain.get_label()\n",
        "    return 'r2', r2_score(labels, preds)\n",
        "\n",
        "trainm=train\n",
        "testm=test\n",
        "stap=len(trainm)\n",
        "plt.figure(figsize=(12,8))\n",
        "sns.distplot(train['y'].values, bins=50, kde=False)\n",
        "plt.xlabel('Predicted AVG Time on Test platform', fontsize=12)\n",
        "plt.show()\n",
        "\n",
        "for n_comp in range(4,44,10):\n",
        "    del train,test\n",
        "    train=trainm\n",
        "    test=testm\n",
        "    xtrain=train.drop(['y'],axis=1)\n",
        "    print('PCA - ICA',n_comp)\n",
        "    # PCA\n",
        "    pca = PCA(n_components=n_comp, random_state=42)\n",
        "    pca2_results_tot = pca.fit_transform(xtrain.append(test))\n",
        "    # ICA\n",
        "    ica = FastICA(n_components=n_comp, random_state=42)\n",
        "    ica2_results_tot = ica.fit_transform(xtrain.append(test))\n",
        "    # Append decomposition components to datasets\n",
        "    for i in range(1, n_comp+1):\n",
        "            train['pca_' + str(i)] = pca2_results_tot[:stap,i-1]\n",
        "            test['pca_' + str(i)] = pca2_results_tot[stap:, i-1]\n",
        "            train['ica_' + str(i)] = ica2_results_tot[:stap,i-1]\n",
        "            test['ica_' + str(i)] = ica2_results_tot[stap:, i-1]\n",
        "    #print(train.head(2))\n",
        "    #print(test.head(2))\n",
        "    y_train = train[\"y\"]\n",
        "    y_mean = np.mean(y_train)\n",
        "    print(train.shape,test.shape)\n",
        "    xgb_params = {\n",
        "        'n_trees': 500, \n",
        "        'eta': 0.005,\n",
        "        'max_depth': 4,\n",
        "        'subsample': 0.95,\n",
        "        'objective': 'reg:linear',\n",
        "        'eval_metric': 'rmse',\n",
        "        'base_score': y_mean, # base prediction = mean(target)\n",
        "        'silent': 1\n",
        "    }\n",
        "\n",
        "    # form DMatrices for Xgboost training\n",
        "    dtrain = xgb.DMatrix(train.drop('y', axis=1), y_train)\n",
        "    dtest = xgb.DMatrix(test)\n",
        "\n",
        "    # xgboost, cross-validation\n",
        "    cv_result = xgb.cv(xgb_params, \n",
        "                       dtrain, \n",
        "                       num_boost_round=700, # increase to have better results (~700)\n",
        "                       early_stopping_rounds=100,\n",
        "                       verbose_eval=50, \n",
        "                       show_stdv=False,\n",
        "                       feval=xgb_r2_score\n",
        "                    )\n",
        "\n",
        "    num_boost_rounds = len(cv_result)\n",
        "    print(num_boost_rounds)\n",
        "\n",
        "    # train model\n",
        "    model = xgb.train(dict(xgb_params, silent=0), dtrain, num_boost_round=num_boost_rounds)\n",
        "    \n",
        "    # check f2-score (to get higher score - increase num_boost_round in previous cell)\n",
        "\n",
        "    print(r2_score(model.predict(dtrain), dtrain.get_label()))\n",
        "    # make predictions and save results\n",
        "    y_pred = model.predict(dtest)\n",
        "    output = pd.DataFrame({'id': test['ID'].astype(np.int32), 'y': y_pred})\n",
        "    plt.figure(figsize=(12,8))\n",
        "    sns.distplot(output.y.values, bins=50, kde=False)\n",
        "    plt.xlabel('Predicted AVG Time on Test platform', fontsize=12)\n",
        "    plt.show()\n",
        "    output.to_csv('xgb-pca{}-ica.csv'.format(n_comp), index=False)"
      ]
    }
  ],
  "metadata": {
    "_change_revision": 0,
    "_is_fork": false,
    "kernelspec": {
      "display_name": "Python 3",
      "language": "python",
      "name": "python3"
    },
    "language_info": {
      "codemirror_mode": {
        "name": "ipython",
        "version": 3
      },
      "file_extension": ".py",
      "mimetype": "text/x-python",
      "name": "python",
      "nbconvert_exporter": "python",
      "pygments_lexer": "ipython3",
      "version": "3.6.0"
    }
  },
  "nbformat": 4,
  "nbformat_minor": 0
}