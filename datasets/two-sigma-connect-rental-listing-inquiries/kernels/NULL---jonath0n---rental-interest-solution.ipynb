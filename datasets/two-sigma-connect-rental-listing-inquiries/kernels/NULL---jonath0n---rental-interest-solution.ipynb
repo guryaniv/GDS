{
  "cells": [
    {
      "cell_type": "code",
      "execution_count": null,
      "metadata": {
        "_cell_guid": "449a5465-095f-4acb-592f-a72c3895f8ee"
      },
      "outputs": [],
      "source": [
        "# Imports\n",
        "\n",
        "# pandas\n",
        "import pandas as pd\n",
        "from pandas import Series,DataFrame\n",
        "\n",
        "# numpy, matplotlib, seaborn\n",
        "import numpy as np\n",
        "import matplotlib.pyplot as plt\n",
        "import seaborn as sns\n",
        "sns.set_style('whitegrid')\n",
        "color = sns.color_palette()\n",
        "%matplotlib inline\n",
        "\n",
        "# machine learning\n",
        "from sklearn.linear_model import LogisticRegression\n",
        "from sklearn.svm import SVC, LinearSVC\n",
        "from sklearn.ensemble import RandomForestClassifier\n",
        "from sklearn.neighbors import KNeighborsClassifier\n",
        "from sklearn.naive_bayes import GaussianNB\n",
        "from sklearn.tree import DecisionTreeClassifier\n",
        "from sklearn.feature_extraction.text import CountVectorizer"
      ]
    },
    {
      "cell_type": "code",
      "execution_count": null,
      "metadata": {
        "_cell_guid": "c8674af6-33a2-6f1d-5639-838978b48e46"
      },
      "outputs": [],
      "source": [
        "# get titanic & test csv files as a DataFrame\n",
        "train_df = pd.read_json(\"../input/train.json\")\n",
        "test_df    = pd.read_json(\"../input/test.json\")\n",
        "\n",
        "# preview the data\n",
        "train_df.head()"
      ]
    },
    {
      "cell_type": "code",
      "execution_count": null,
      "metadata": {
        "_cell_guid": "52b7f20a-fcc4-9edb-353c-41d3a54a06fe"
      },
      "outputs": [],
      "source": [
        "train_df.info()\n",
        "print(\"----------------------------\")\n",
        "test_df.info()"
      ]
    },
    {
      "cell_type": "code",
      "execution_count": null,
      "metadata": {
        "_cell_guid": "d0f39b5c-2deb-07fa-4ebe-1741a9caac6b"
      },
      "outputs": [],
      "source": [
        "print(\"Train Rows : \", train_df.shape[0])\n",
        "print(\"Test Rows : \", test_df.shape[0])"
      ]
    },
    {
      "cell_type": "code",
      "execution_count": null,
      "metadata": {
        "_cell_guid": "5b03a2d5-258c-ea7d-8249-b3644aa85eb4"
      },
      "outputs": [],
      "source": [
        "int_level = train_df['interest_level'].value_counts()\n",
        "\n",
        "#plt.figure(figsize=(8,4))\n",
        "sns.barplot(int_level.index, int_level.values)\n",
        "plt.ylabel('Quantity')\n",
        "plt.xlabel('Interest Level')\n",
        "plt.show()"
      ]
    },
    {
      "cell_type": "code",
      "execution_count": null,
      "metadata": {
        "_cell_guid": "f53db2df-70ee-e81b-d5dc-c4447d737844"
      },
      "outputs": [],
      "source": [
        "sns.distplot(train_df.price.values, kde=True)\n",
        "plt.xlabel('price')\n",
        "plt.show()"
      ]
    },
    {
      "cell_type": "code",
      "execution_count": null,
      "metadata": {
        "_cell_guid": "4bcc819e-4f9e-921f-bd04-8eb8ab1d0456"
      },
      "outputs": [],
      "source": [
        "print(train_df['features'])"
      ]
    },
    {
      "cell_type": "code",
      "execution_count": null,
      "metadata": {
        "_cell_guid": "cb502b1d-fb5e-f516-2db4-3d476ad1a69b"
      },
      "outputs": [],
      "source": [
        "# define training and testing sets\n",
        "\n",
        "X_train = train_df.drop(\"interest_level\",axis=1)\n",
        "Y_train = train_df[\"interest_level\"]\n",
        "X_test  = test_df.drop(\"building_id\",axis=1).copy()\n",
        "#Gaussian Naive Bayes\n",
        "\n",
        "multinomialnb = MultinomialNB()\n",
        "\n",
        "multinomialnb.fit(X_train, Y_train)\n",
        "\n",
        "Y_pred = multinomialnb.predict(X_test)\n",
        "\n",
        "multinomialnb.score(X_train, Y_train)"
      ]
    }
  ],
  "metadata": {
    "_change_revision": 0,
    "_is_fork": false,
    "kernelspec": {
      "display_name": "Python 3",
      "language": "python",
      "name": "python3"
    },
    "language_info": {
      "codemirror_mode": {
        "name": "ipython",
        "version": 3
      },
      "file_extension": ".py",
      "mimetype": "text/x-python",
      "name": "python",
      "nbconvert_exporter": "python",
      "pygments_lexer": "ipython3",
      "version": "3.6.0"
    }
  },
  "nbformat": 4,
  "nbformat_minor": 0
}