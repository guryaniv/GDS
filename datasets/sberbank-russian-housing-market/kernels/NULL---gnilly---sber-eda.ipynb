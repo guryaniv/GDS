{
  "cells": [
    {
      "cell_type": "markdown",
      "metadata": {
        "_cell_guid": "d0117a5e-6831-6604-75b5-5662804340ec"
      },
      "source": [
        "# Just looking at data"
      ]
    },
    {
      "cell_type": "code",
      "execution_count": null,
      "metadata": {
        "_cell_guid": "f34203b3-109c-2e7d-7fe0-43f4efe0060a"
      },
      "outputs": [],
      "source": [
        "import numpy as np\n",
        "import pandas as pd\n",
        "\n",
        "import matplotlib.pyplot as plt\n",
        "%matplotlib inline\n",
        "import seaborn"
      ]
    },
    {
      "cell_type": "code",
      "execution_count": null,
      "metadata": {
        "_cell_guid": "3759ffa9-160f-9c2a-e7f5-dec0cba614ef"
      },
      "outputs": [],
      "source": [
        "pd.set_option('display.height', 1000)\n",
        "pd.set_option('display.max_rows', 500)\n",
        "pd.set_option('display.max_columns', 500)\n",
        "pd.set_option('display.width', 1000)"
      ]
    },
    {
      "cell_type": "code",
      "execution_count": null,
      "metadata": {
        "_cell_guid": "24807395-26cd-c677-5966-1de0067f22f7"
      },
      "outputs": [],
      "source": [
        "train, test, macro = pd.read_csv('../input/train.csv'), pd.read_csv('../input/test.csv'), pd.read_csv('../input/macro.csv')"
      ]
    },
    {
      "cell_type": "code",
      "execution_count": null,
      "metadata": {
        "_cell_guid": "2220320b-c60b-aca1-bc58-bb7cf649940d"
      },
      "outputs": [],
      "source": [
        "test['price_doc'] = 0\n",
        "df = pd.concat([train,test], ignore_index=True)"
      ]
    },
    {
      "cell_type": "code",
      "execution_count": null,
      "metadata": {
        "_cell_guid": "14aac0f4-e77a-e50f-8f3a-9a2e15336bfd"
      },
      "outputs": [],
      "source": [
        "df.columns"
      ]
    },
    {
      "cell_type": "code",
      "execution_count": null,
      "metadata": {
        "_cell_guid": "a36ecbfe-8e34-c8f5-5bf0-1cbc1c6d3307"
      },
      "outputs": [],
      "source": [
        "len(train), len(test)"
      ]
    },
    {
      "cell_type": "code",
      "execution_count": null,
      "metadata": {
        "_cell_guid": "a79a29be-d192-5adc-f6dc-f023ba28b00b"
      },
      "outputs": [],
      "source": [
        "# in MB\n",
        "df.memory_usage().sum()/1024/1024"
      ]
    },
    {
      "cell_type": "code",
      "execution_count": null,
      "metadata": {
        "_cell_guid": "6fe8b8c9-f3a9-c08c-929a-8b20ddf2ea40"
      },
      "outputs": [],
      "source": [
        "df.describe()"
      ]
    },
    {
      "cell_type": "code",
      "execution_count": null,
      "metadata": {
        "_cell_guid": "6647b388-c678-1f91-2230-beb2476f85dd"
      },
      "outputs": [],
      "source": [
        "df[df['price_doc']>0]['price_doc'].hist(bins=100)"
      ]
    },
    {
      "cell_type": "code",
      "execution_count": null,
      "metadata": {
        "_cell_guid": "3f46ed89-92ef-8307-6165-2cfdae5f4026"
      },
      "outputs": [],
      "source": [
        "df['timestamp'] = pd.to_datetime(df['timestamp'], format='%Y-%m-%d')"
      ]
    },
    {
      "cell_type": "code",
      "execution_count": null,
      "metadata": {
        "_cell_guid": "1fbca8b8-a530-bc56-7659-351c83362874"
      },
      "outputs": [],
      "source": [
        "df.groupby(df['price_doc']>0)['timestamp'].hist()"
      ]
    },
    {
      "cell_type": "markdown",
      "metadata": {
        "_cell_guid": "27c16d9e-433e-325a-3823-8ece32b8ec51"
      },
      "source": [
        "to be continued.."
      ]
    }
  ],
  "metadata": {
    "_change_revision": 0,
    "_is_fork": false,
    "kernelspec": {
      "display_name": "Python 3",
      "language": "python",
      "name": "python3"
    },
    "language_info": {
      "codemirror_mode": {
        "name": "ipython",
        "version": 3
      },
      "file_extension": ".py",
      "mimetype": "text/x-python",
      "name": "python",
      "nbconvert_exporter": "python",
      "pygments_lexer": "ipython3",
      "version": "3.6.0"
    }
  },
  "nbformat": 4,
  "nbformat_minor": 0
}