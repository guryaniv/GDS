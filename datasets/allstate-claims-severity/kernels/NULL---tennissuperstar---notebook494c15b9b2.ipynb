{
  "cells": [
    {
      "cell_type": "code",
      "execution_count": null,
      "metadata": {
        "_cell_guid": "234ce301-9f43-135c-11cd-1287e7d6159b"
      },
      "outputs": [],
      "source": [
        "# This Python 3 environment comes with many helpful analytics libraries installed\n",
        "# It is defined by the kaggle/python docker image: https://github.com/kaggle/docker-python\n",
        "# For example, here's several helpful packages to load in \n",
        "\n",
        "import numpy as np # linear algebra\n",
        "import pandas as pd # data processing, CSV file I/O (e.g. pd.read_csv)\n",
        "\n",
        "# Input data files are available in the \"../input/\" directory.\n",
        "# For example, running this (by clicking run or pressing Shift+Enter) will list the files in the input directory\n",
        "\n",
        "from subprocess import check_output\n",
        "print(check_output([\"ls\", \"../input\"]).decode(\"utf8\"))\n",
        "\n",
        "# Any results you write to the current directory are saved as output."
      ]
    },
    {
      "cell_type": "code",
      "execution_count": null,
      "metadata": {
        "_cell_guid": "bda7a812-f00a-3f11-2ed0-6345ddf27200"
      },
      "outputs": [],
      "source": [
        "train = pd.read_csv('../input/train.csv')"
      ]
    },
    {
      "cell_type": "code",
      "execution_count": null,
      "metadata": {
        "_cell_guid": "c2eebcaa-2e45-9050-94c3-5344ad500ad4"
      },
      "outputs": [],
      "source": [
        "print(train.head)\n",
        "print(train.columns[0:20])\n",
        "print(train.columns[20:40])\n",
        "print(train.columns[40:60])\n",
        "print(train.columns[60:80])\n",
        "print(train.columns[80:100])\n",
        "print(train.columns[100:120])\n",
        "print(train.columns[120:])\n",
        "#print(train.shape)"
      ]
    },
    {
      "cell_type": "markdown",
      "metadata": {
        "_cell_guid": "87622ce1-c1cc-c808-bb39-659436f4454a"
      },
      "source": [
        "First I will check that I know how to do the following for data statistics\n",
        "<p>1) Shape - number of columns and number of samples</p>\n",
        "<p>2) Describe - are there missing values? are there negative values?</p>\n",
        "<p>3) Skew - are any columns skewed?</p>\n",
        "<p>4) Transform skew - normalize highly skewed data using log</p>"
      ]
    },
    {
      "cell_type": "code",
      "execution_count": null,
      "metadata": {
        "_cell_guid": "6c779647-d2fc-59e5-fbe2-6c48dd8fda0b"
      },
      "outputs": [],
      "source": [
        "# This tells me that there are 188318 samples and 132 different variables for each\n",
        "print(train.shape)"
      ]
    },
    {
      "cell_type": "code",
      "execution_count": null,
      "metadata": {
        "_cell_guid": "855ac183-e952-7761-cb03-fe0e54cf18f4"
      },
      "outputs": [],
      "source": [
        "#Print all rows and columns. Dont hide any\n",
        "pd.set_option('display.max_rows', None)\n",
        "pd.set_option('display.max_columns', None)\n",
        "\n",
        "print(train.describe())"
      ]
    },
    {
      "cell_type": "code",
      "execution_count": null,
      "metadata": {
        "_cell_guid": "a1a3f120-2f77-487e-8860-7287f3d7e78c"
      },
      "outputs": [],
      "source": [
        "print(train.skew())"
      ]
    },
    {
      "cell_type": "code",
      "execution_count": null,
      "metadata": {
        "_cell_guid": "6adbd98b-b3f2-5386-1980-0c2342d023fc"
      },
      "outputs": [],
      "source": [
        "import matplotlib.pyplot as plt\n",
        "import seaborn as sns\n",
        "\n",
        "# Create a 2x4 grid using subplot\n",
        "for row in range(0,2):\n",
        "    f, ax = plt.subplots(nrows=1, ncols=4, figsize=(10,10))\n",
        "    for col in range(0,4):\n",
        "        sns.violinplot(train, ax=ax[col])\n"
      ]
    },
    {
      "cell_type": "code",
      "execution_count": null,
      "metadata": {
        "_cell_guid": "c630a4a0-fe77-8878-7279-6c761b730147"
      },
      "outputs": [],
      "source": ""
    },
    {
      "cell_type": "code",
      "execution_count": null,
      "metadata": {
        "_cell_guid": "3ce05690-b61b-fa65-88eb-3a3d76f349bf"
      },
      "outputs": [],
      "source": ""
    },
    {
      "cell_type": "code",
      "execution_count": null,
      "metadata": {
        "_cell_guid": "8e299b52-9deb-e672-dc87-9562ab10525e"
      },
      "outputs": [],
      "source": ""
    }
  ],
  "metadata": {
    "_change_revision": 0,
    "_is_fork": false,
    "kernelspec": {
      "display_name": "Python 3",
      "language": "python",
      "name": "python3"
    },
    "language_info": {
      "codemirror_mode": {
        "name": "ipython",
        "version": 3
      },
      "file_extension": ".py",
      "mimetype": "text/x-python",
      "name": "python",
      "nbconvert_exporter": "python",
      "pygments_lexer": "ipython3",
      "version": "3.5.2"
    }
  },
  "nbformat": 4,
  "nbformat_minor": 0
}