{"cells":[
 {
  "cell_type": "code",
  "execution_count": null,
  "metadata": {
   "collapsed": false
  },
  "outputs": [],
  "source": "# -*- coding: utf-8 -*-\n\"\"\"\n\n@author: Z-bra\n\n\"\"\"\n\nimport pandas as pd\nimport numpy as np\nfrom sklearn.ensemble import RandomForestClassifier\n\n\ntrain = pd.read_csv('../input/train.csv')\n\ndef do_treatment(df):\n    for col in df:\n        if df[col].dtype == np.dtype('O'):\n            df[col] = df[col].apply(lambda x : hash(str(x)))\n            \n    df.fillna(-1, inplace = True)\n\ndo_treatment(train)\n        \ntarget = 'Response'\n\nfeatures = list(train.columns.difference([target]))\n\nclf = RandomForestClassifier(n_estimators = 200, max_features = 'sqrt',\n                             max_depth = None, verbose = 1, n_jobs = -1)\n                             \nclf.fit(train[features], train[target])\n\ntest = pd.read_csv('../input/test.csv')\n\ndo_treatment(test)\n\npreds = clf.predict(test[features])\n\nsub = pd.read_csv('../input/sample_submission.csv')\n\nsub[target] = preds\n\nsub.to_csv('sub2.csv', index = False)\n"
 },
 {
  "cell_type": "code",
  "execution_count": null,
  "metadata": {
   "collapsed": false
  },
  "outputs": [],
  "source": ""
 },
 {
  "cell_type": "code",
  "execution_count": null,
  "metadata": {
   "collapsed": false
  },
  "outputs": [],
  "source": ""
 },
 {
  "cell_type": "code",
  "execution_count": null,
  "metadata": {
   "collapsed": false
  },
  "outputs": [],
  "source": ""
 }
],"metadata":{"kernelspec":{"display_name":"Python 3","language":"python","name":"python3"}}, "nbformat": 4, "nbformat_minor": 0}