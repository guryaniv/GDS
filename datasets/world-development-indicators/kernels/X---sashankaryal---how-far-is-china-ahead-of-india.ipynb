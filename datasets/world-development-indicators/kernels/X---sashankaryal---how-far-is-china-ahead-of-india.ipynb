{
  "cells": [
    {
      "cell_type": "markdown",
      "metadata": {
        "_cell_guid": "db014142-938b-0150-f905-a36c5464eac6"
      },
      "source": [
        "# How far is China ahead of India ?\n",
        "- It is well known that China and India are [re-emerging][1] as top economies in the world, but China is much ahead of India by most measures.\n",
        "- So how long would it take for India to catch up with China?\n",
        "\n",
        "Here we explore some key world development indicators to answer the question.\n",
        "\n",
        "  [1]: http://www.economist.com/node/16834943"
      ]
    },
    {
      "cell_type": "code",
      "execution_count": null,
      "metadata": {
        "_cell_guid": "c1f0aaae-541d-f8ac-65db-a3345ab021ec"
      },
      "outputs": [],
      "source": [
        "%matplotlib inline\n",
        "import numpy as np\n",
        "import pandas as pd\n",
        "import matplotlib.pyplot as plt\n",
        "import re\n",
        "plt.style.use('ggplot')"
      ]
    },
    {
      "cell_type": "markdown",
      "metadata": {
        "_cell_guid": "396e6c70-927f-a8b3-2650-c730544df864"
      },
      "source": [
        "### Choosing Key Indicators\n",
        "- Key topics for comparison are chosen using the [method discussed earlier][1] and then key indicators are hand-picked from those topics.\n",
        "\n",
        "  [1]: https://www.kaggle.com/kmravikumar/d/worldbank/world-development-indicators/choosing-topics-to-explore"
      ]
    },
    {
      "cell_type": "code",
      "execution_count": null,
      "metadata": {
        "_cell_guid": "8e5e966f-aa4f-9642-2c2c-39ac71fcb2d5"
      },
      "outputs": [],
      "source": [
        "# read in file as data frame\n",
        "df = pd.read_csv('../input/Indicators.csv')\n",
        "\n",
        "# Create list of unique indicators, indicator codes\n",
        "Indicator_array =  df[['IndicatorName','IndicatorCode']].drop_duplicates().values\n"
      ]
    },
    {
      "cell_type": "code",
      "execution_count": null,
      "metadata": {
        "_cell_guid": "1a0cb917-135c-99d4-98bb-33f7e7b0207c"
      },
      "outputs": [],
      "source": [
        "modified_indicators = []\n",
        "unique_indicator_codes = []\n",
        "for ele in Indicator_array:\n",
        "    indicator = ele[0]\n",
        "    indicator_code = ele[1].strip()\n",
        "    if indicator_code not in unique_indicator_codes:\n",
        "        # delete , ( ) from the IndicatorNames\n",
        "        new_indicator = re.sub('[,()]',\"\",indicator).lower()\n",
        "        # replace - with \"to\" and make all words into lower case\n",
        "        new_indicator = re.sub('-',\" to \",new_indicator).lower()\n",
        "        modified_indicators.append([new_indicator,indicator_code])\n",
        "        unique_indicator_codes.append(indicator_code)\n",
        "\n",
        "Indicators = pd.DataFrame(modified_indicators,columns=['IndicatorName','IndicatorCode'])\n",
        "Indicators = Indicators.drop_duplicates()\n",
        "print(Indicators.shape)"
      ]
    },
    {
      "cell_type": "code",
      "execution_count": null,
      "metadata": {
        "_cell_guid": "1d893d6f-8a6b-ca81-cd9c-6084816729e2"
      },
      "outputs": [],
      "source": [
        "\n",
        "key_word_dict = {}\n",
        "key_word_dict['Demography'] = ['population','birth','death','fertility','mortality','expectancy']\n",
        "key_word_dict['Food'] = ['food','grain','nutrition','calories']\n",
        "key_word_dict['Trade'] = ['trade','import','export','good','shipping','shipment']\n",
        "key_word_dict['Health'] = ['health','desease','hospital','mortality','doctor']\n",
        "key_word_dict['Economy'] = ['income','gdp','gni','deficit','budget','market','stock','bond','infrastructure']\n",
        "key_word_dict['Energy'] = ['fuel','energy','power','emission','electric','electricity']\n",
        "key_word_dict['Education'] = ['education','literacy']\n",
        "key_word_dict['Employment'] =['employed','employment','umemployed','unemployment']\n",
        "key_word_dict['Rural'] = ['rural','village']\n",
        "key_word_dict['Urban'] = ['urban','city']"
      ]
    },
    {
      "cell_type": "code",
      "execution_count": null,
      "metadata": {
        "_cell_guid": "34d2c258-a6bf-8b8e-1374-1e676b5bccd5"
      },
      "outputs": [],
      "source": [
        "feature = 'Education'\n",
        "for indicator_ele in Indicators.values:\n",
        "    for ele in key_word_dict[feature]:\n",
        "        word_list = indicator_ele[0].split()\n",
        "        if ele in word_list or ele+'s' in word_list:\n",
        "            # Uncomment this line to print the indicators explicitely\n",
        "            #print(indicator_ele)\n",
        "            break"
      ]
    },
    {
      "cell_type": "markdown",
      "metadata": {
        "_cell_guid": "2b165926-4525-e67c-9932-edb556663ac5"
      },
      "source": [
        "#### Important Features "
      ]
    },
    {
      "cell_type": "code",
      "execution_count": null,
      "metadata": {
        "_cell_guid": "54dbfc69-13d0-5e9a-2568-e271241f29ff"
      },
      "outputs": [],
      "source": [
        "# Main indicators to compare contries\n",
        "chosen_indicators = ['NE.TRD.GNFS.ZS',  \\\n",
        "                     'SI.POV.2DAY', 'SE.SEC.ENRL', 'SE.ADT.1524.LT.ZS', \\\n",
        "                     'SI.DST.10TH.10', 'SE.ADT.LITR.ZS', 'SP.DYN.LE00.IN', \\\n",
        "                     'NY.GDP.PCAP.PP.KD','SP.URB.TOTL.IN.ZS', 'SH.DTH.IMRT', \\\n",
        "                     'NE.EXP.GNFS.KD', 'NE.IMP.GNFS.KD' ]\n",
        "\n",
        "# Subset of data with the required features alone\n",
        "df_subset = df[df['IndicatorCode'].isin(chosen_indicators)]\n",
        "\n",
        "# Chose only India and China for Analysis\n",
        "df_India = df_subset[df['CountryName']==\"India\"]\n",
        "df_China = df_subset[df['CountryName']==\"China\"]"
      ]
    },
    {
      "cell_type": "code",
      "execution_count": null,
      "metadata": {
        "_cell_guid": "04503c98-e1c6-4476-bdf3-d63812abb846"
      },
      "outputs": [],
      "source": [
        "# PLotting function for comparing development indicators\n",
        "def plot_indicator(indicator,delta=10):\n",
        "    ds_India = df_India[['IndicatorName','Year','Value']][df_India['IndicatorCode']==indicator]\n",
        "    try:\n",
        "        title = ds_India['IndicatorName'].iloc[0]\n",
        "    except:\n",
        "        title = \"None\"\n",
        "\n",
        "    xindia = ds_India['Year'].values\n",
        "    yindia = ds_India['Value'].values\n",
        "    ds_China = df_China[['IndicatorName','Year','Value']][df_China['IndicatorCode']==indicator]\n",
        "    xchina = ds_China['Year'].values\n",
        "    ychina = ds_China['Value'].values\n",
        "    \n",
        "    plt.figure(figsize=(14,4))\n",
        "    \n",
        "    plt.subplot(121)\n",
        "    plt.plot(xindia,yindia,label='India')\n",
        "    plt.plot(xchina,ychina,label='China')\n",
        "    plt.title(title)\n",
        "    plt.legend(loc=2)\n",
        "\n",
        "    plt.subplot(122)\n",
        "    plt.plot(xindia,yindia,label='India')\n",
        "    plt.plot(xchina+delta,ychina,label='China')\n",
        "    plt.title(title + \"\\n Chinese Data Shifted by \" +str(delta)+\" Years\")\n",
        "    plt.legend(loc=2)"
      ]
    },
    {
      "cell_type": "markdown",
      "metadata": {
        "_cell_guid": "7d14fb70-7904-b969-108f-1852ab52f5de"
      },
      "source": [
        "# KEY FEATURES\n",
        "Now let us explore the key features one-by-one.\n",
        "\n",
        "## 1) Trade as a percentage of GDP\n",
        "- Note that by shifting the Chinese data by 10 years to the right it aligns well with the Indian data suggesting that India lags behind China by at least 10 years in terms of trade."
      ]
    },
    {
      "cell_type": "code",
      "execution_count": null,
      "metadata": {
        "_cell_guid": "a45c587b-ed83-79f3-05f7-11466a8ab63f"
      },
      "outputs": [],
      "source": [
        "plot_indicator(chosen_indicators[0],delta=10)"
      ]
    },
    {
      "cell_type": "markdown",
      "metadata": {
        "_cell_guid": "287de900-e0eb-4214-cddc-8393447ced56"
      },
      "source": [
        "## 2) Import and Export of goods and services\n",
        "More specifically, we can look at total exports and imports.\n",
        "- India lags behind China by 10 years "
      ]
    },
    {
      "cell_type": "code",
      "execution_count": null,
      "metadata": {
        "_cell_guid": "095bc382-f391-1e94-25dd-03897821d90c"
      },
      "outputs": [],
      "source": [
        "plot_indicator(chosen_indicators[10],delta=10)"
      ]
    },
    {
      "cell_type": "code",
      "execution_count": null,
      "metadata": {
        "_cell_guid": "f07c9065-feea-8204-3a3e-6da66eacc40a"
      },
      "outputs": [],
      "source": [
        "plot_indicator(chosen_indicators[11],delta=10)"
      ]
    },
    {
      "cell_type": "markdown",
      "metadata": {
        "_cell_guid": "ea715732-8d58-f093-8634-1b2d128435f0"
      },
      "source": [
        "## 3) GDP per capita (adjusted by purchasing power parity)\n",
        "- Here also India lags behind China by ~9 years."
      ]
    },
    {
      "cell_type": "code",
      "execution_count": null,
      "metadata": {
        "_cell_guid": "7faacdc3-ce23-a07c-1adb-50d1f1d98d07"
      },
      "outputs": [],
      "source": [
        "plot_indicator(chosen_indicators[7],delta=9)"
      ]
    },
    {
      "cell_type": "markdown",
      "metadata": {
        "_cell_guid": "8fdd0762-5759-afd1-6267-42dbbe2e8cf5"
      },
      "source": [
        "## 4) Poverty Alleviation \n",
        "- China has managed to get a much steeper drop in poverty compared to India.\n",
        "- It still appears that China has a head start of 10 years ahead of India."
      ]
    },
    {
      "cell_type": "code",
      "execution_count": null,
      "metadata": {
        "_cell_guid": "f94d3a1a-09d9-4671-5881-40917601b14e"
      },
      "outputs": [],
      "source": [
        "plot_indicator(chosen_indicators[1],delta=10)"
      ]
    },
    {
      "cell_type": "markdown",
      "metadata": {
        "_cell_guid": "1cd2bb58-d1b4-7389-2651-e5d88bc14aad"
      },
      "source": [
        "## 5) Life Expectancy\n",
        "- There was steep rise in life expectancy in China during the 1960's.\n",
        "- Both countries have shown a significant increase over a past 5 decades.\n",
        "- In terms of life expectancy, China leads India by ~ 25 years\n"
      ]
    },
    {
      "cell_type": "code",
      "execution_count": null,
      "metadata": {
        "_cell_guid": "8d222e83-45f0-1705-fb54-533a7ace9d5d"
      },
      "outputs": [],
      "source": [
        "plot_indicator(chosen_indicators[6],delta=25)"
      ]
    },
    {
      "cell_type": "markdown",
      "metadata": {
        "_cell_guid": "cf140a0a-bcd2-d32f-d841-1698c52f8c0a"
      },
      "source": [
        "## 6) Urban Population growth\n",
        "- China leads India by ~ 15 years\n"
      ]
    },
    {
      "cell_type": "code",
      "execution_count": null,
      "metadata": {
        "_cell_guid": "847d9fa6-4148-f8fc-7ab9-1dff1c40945b"
      },
      "outputs": [],
      "source": [
        "plot_indicator(chosen_indicators[8],delta=15)"
      ]
    },
    {
      "cell_type": "markdown",
      "metadata": {
        "_cell_guid": "95784a39-2d3d-90e4-4295-7376ef55e8fb"
      },
      "source": [
        "## 6) Infant Mortality - as a measure of health care\n",
        "- Both countries show a significant decrease in infant mortality.\n",
        "- Surprisingly, there has been an increase in Chinese infant mortality rate during the 1980's - Might be something interesting to explore here!\n",
        "- China leads India by ~ 20 years in infant mortality rate.\n"
      ]
    },
    {
      "cell_type": "code",
      "execution_count": null,
      "metadata": {
        "_cell_guid": "5324f527-9fe0-8920-bae9-b2b1d98e48ac"
      },
      "outputs": [],
      "source": [
        "plot_indicator(chosen_indicators[9],delta=20)"
      ]
    },
    {
      "cell_type": "markdown",
      "metadata": {
        "_cell_guid": "1777c07a-ecc3-25f3-6c16-936bd1caf133"
      },
      "source": [
        "## 7) Adult Literacy Rate\n",
        "- Although the rate of increase seems to be the same for both countries, China has always had a 25 year advantage over India."
      ]
    },
    {
      "cell_type": "code",
      "execution_count": null,
      "metadata": {
        "_cell_guid": "51cf0877-ccc6-4030-6bd2-5ae27f9087b8"
      },
      "outputs": [],
      "source": [
        "plot_indicator(chosen_indicators[5],delta=25)"
      ]
    },
    {
      "cell_type": "markdown",
      "metadata": {
        "_cell_guid": "86bcc099-b06a-6be9-0ebb-c258136980a0"
      },
      "source": [
        "## 8) Finally, how are the rich 10% doing in each country?\n",
        "- This may not be the best economic measure, but gives some insights\n",
        "- China has managed to create a lot more rich people faster, but due to the recent recessions India seems to have caught up with China."
      ]
    },
    {
      "cell_type": "code",
      "execution_count": null,
      "metadata": {
        "_cell_guid": "98eb973b-4577-0c2a-20ca-bf7dfbc8e511"
      },
      "outputs": [],
      "source": [
        "plot_indicator(chosen_indicators[4],delta=10)"
      ]
    },
    {
      "cell_type": "markdown",
      "metadata": {
        "_cell_guid": "e100289c-dcd5-c256-9f8a-91f21ce208ba"
      },
      "source": [
        "# CONCLUSION\n",
        "- By most economic measures like GDP, trade, and poverty alleviation China seems to be ahead of India by 10 years. \n",
        "- It is interesting to note that China undertook economic reforms in 1978 and India in 1990, exactly 12 years apart, suggesting that this might be the most significant reason for India to lag behind China by around 10 years in many economic growth measures.\n",
        "- Even though the political model adopted in China and India are not the same, the growth rates and trend in most indicators are similar for both countries. This prompts us to ask the question does politics even matter ? \n",
        "- By some measures of education (literacy) and health care (infant mortality rate), India lags behind China by 20 - 25 years.\n",
        "\n"
      ]
    }
  ],
  "metadata": {
    "_change_revision": 0,
    "_is_fork": false,
    "kernelspec": {
      "display_name": "Python 3",
      "language": "python",
      "name": "python3"
    },
    "language_info": {
      "codemirror_mode": {
        "name": "ipython",
        "version": 3
      },
      "file_extension": ".py",
      "mimetype": "text/x-python",
      "name": "python",
      "nbconvert_exporter": "python",
      "pygments_lexer": "ipython3",
      "version": "3.5.2"
    }
  },
  "nbformat": 4,
  "nbformat_minor": 0
}