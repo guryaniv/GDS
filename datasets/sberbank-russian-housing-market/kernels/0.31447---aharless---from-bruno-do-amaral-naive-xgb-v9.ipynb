{
  "cells": [
    {
      "cell_type": "markdown",
      "metadata": {
        "_cell_guid": "fb9db904-8d70-81ef-7e5a-8ed0bbbb5565"
      },
      "source": [
        "## I. Bruno Baseline (with outlier removed)"
      ]
    },
    {
      "cell_type": "code",
      "execution_count": null,
      "metadata": {
        "_cell_guid": "7adbe232-6352-3ec1-4955-2b74f8a183bc"
      },
      "outputs": [],
      "source": [
        "import numpy as np\n",
        "import pandas as pd\n",
        "import xgboost as xgb\n",
        "import matplotlib.pyplot as plt"
      ]
    },
    {
      "cell_type": "code",
      "execution_count": null,
      "metadata": {
        "_cell_guid": "8bb3e4b7-cc38-f5ef-a767-8018c52e6297"
      },
      "outputs": [],
      "source": [
        "df_train = pd.read_csv(\"../input/train.csv\", parse_dates=['timestamp'])\n",
        "df_test = pd.read_csv(\"../input/test.csv\", parse_dates=['timestamp'])\n",
        "df_macro = pd.read_csv(\"../input/macro.csv\", parse_dates=['timestamp'])\n",
        "\n",
        "df_train.head()"
      ]
    },
    {
      "cell_type": "code",
      "execution_count": null,
      "metadata": {
        "_cell_guid": "ee683ec3-4977-1150-b621-bf603840957b"
      },
      "outputs": [],
      "source": [
        "# This section added:  drop crazy data points\n",
        "print( df_train.life_sq.max() )\n",
        "df_train.drop(df_train[df_train[\"life_sq\"] > 7000].index, inplace=True)\n",
        "print( df_train.life_sq.max() )"
      ]
    },
    {
      "cell_type": "code",
      "execution_count": null,
      "metadata": {
        "_cell_guid": "198b4ae5-6974-8012-f84e-b2067ee34a82"
      },
      "outputs": [],
      "source": [
        "y_train = df_train['price_doc'].values\n",
        "id_test = df_test['id']\n",
        "\n",
        "df_train.drop(['id', 'price_doc'], axis=1, inplace=True)\n",
        "df_test.drop(['id'], axis=1, inplace=True)\n",
        "\n",
        "num_train = len(df_train)\n",
        "df_all = pd.concat([df_train, df_test])\n",
        "# Next line just adds a lot of NA columns (becuase \"join\" only works on indexes)\n",
        "# but somewhow it seems to affect the result\n",
        "df_all = df_all.join(df_macro, on='timestamp', rsuffix='_macro')\n",
        "print(df_all.shape)\n",
        "\n",
        "# Add month-year\n",
        "month_year = (df_all.timestamp.dt.month + df_all.timestamp.dt.year * 100)\n",
        "month_year_cnt_map = month_year.value_counts().to_dict()\n",
        "df_all['month_year_cnt'] = month_year.map(month_year_cnt_map)\n",
        "\n",
        "# Add week-year count\n",
        "week_year = (df_all.timestamp.dt.weekofyear + df_all.timestamp.dt.year * 100)\n",
        "week_year_cnt_map = week_year.value_counts().to_dict()\n",
        "df_all['week_year_cnt'] = week_year.map(week_year_cnt_map)\n",
        "\n",
        "# Add month and day-of-week\n",
        "df_all['month'] = df_all.timestamp.dt.month\n",
        "df_all['dow'] = df_all.timestamp.dt.dayofweek\n",
        "\n",
        "# Other feature engineering\n",
        "df_all['rel_floor'] = df_all['floor'] / df_all['max_floor'].astype(float)\n",
        "df_all['rel_kitch_sq'] = df_all['kitch_sq'] / df_all['full_sq'].astype(float)\n",
        "\n",
        "# Remove timestamp column (may overfit the model in train)\n",
        "df_all.drop(['timestamp', 'timestamp_macro'], axis=1, inplace=True)"
      ]
    },
    {
      "cell_type": "code",
      "execution_count": null,
      "metadata": {
        "_cell_guid": "5587747f-e71a-4125-3c91-b80ebec81872"
      },
      "outputs": [],
      "source": [
        "factorize = lambda t: pd.factorize(t[1])[0]\n",
        "\n",
        "df_obj = df_all.select_dtypes(include=['object'])\n",
        "\n",
        "X_all = np.c_[\n",
        "    df_all.select_dtypes(exclude=['object']).values,\n",
        "    np.array(list(map(factorize, df_obj.iteritems()))).T\n",
        "]\n",
        "print(X_all.shape)\n",
        "\n",
        "X_train = X_all[:num_train]\n",
        "X_test = X_all[num_train:]"
      ]
    },
    {
      "cell_type": "code",
      "execution_count": null,
      "metadata": {
        "_cell_guid": "19ded44b-38e7-e3e1-bc6a-e2cadf80131a"
      },
      "outputs": [],
      "source": [
        "# Deal with categorical values\n",
        "df_numeric = df_all.select_dtypes(exclude=['object'])\n",
        "df_obj = df_all.select_dtypes(include=['object']).copy()\n",
        "\n",
        "for c in df_obj:\n",
        "    df_obj[c] = pd.factorize(df_obj[c])[0]\n",
        "\n",
        "df_values = pd.concat([df_numeric, df_obj], axis=1)"
      ]
    },
    {
      "cell_type": "code",
      "execution_count": null,
      "metadata": {
        "_cell_guid": "550c306b-a6a5-9c89-fe73-16796a7d9c22"
      },
      "outputs": [],
      "source": [
        "# Convert to numpy values\n",
        "X_all = df_values.values\n",
        "print(X_all.shape)\n",
        "\n",
        "X_train = X_all[:num_train]\n",
        "X_test = X_all[num_train:]\n",
        "\n",
        "df_columns = df_values.columns"
      ]
    },
    {
      "cell_type": "code",
      "execution_count": null,
      "metadata": {
        "_cell_guid": "37cfa80a-1c83-58e9-c069-3708520bbf00"
      },
      "outputs": [],
      "source": [
        "xgb_params = {\n",
        "    'eta': 0.05,\n",
        "    'max_depth': 5,\n",
        "    'subsample': 0.7,\n",
        "    'colsample_bytree': 0.7,\n",
        "    'objective': 'reg:linear',\n",
        "    'eval_metric': 'rmse',\n",
        "    'silent': 1\n",
        "}\n",
        "\n",
        "dtrain = xgb.DMatrix(X_train, y_train, feature_names=df_columns)\n",
        "dtest = xgb.DMatrix(X_test, feature_names=df_columns)"
      ]
    },
    {
      "cell_type": "code",
      "execution_count": null,
      "metadata": {
        "_cell_guid": "3be5ad13-630c-f47e-c97f-0d8cd0a22097"
      },
      "outputs": [],
      "source": [
        "# Uncomment to tune XGB `num_boost_rounds`\n",
        "\n",
        "#cv_result = xgb.cv(xgb_params, dtrain, num_boost_round=1000, early_stopping_rounds=20,\n",
        "#    verbose_eval=True, show_stdv=False)\n",
        "#cv_result[['train-rmse-mean', 'test-rmse-mean']].plot()\n",
        "#num_boost_rounds = len(cv_result)\n",
        "\n",
        "num_boost_round = 489"
      ]
    },
    {
      "cell_type": "code",
      "execution_count": null,
      "metadata": {
        "_cell_guid": "56ec63a2-ebfb-b2ef-4bc1-a8f4a3286852"
      },
      "outputs": [],
      "source": [
        "model = xgb.train(dict(xgb_params, silent=0), dtrain, num_boost_round=num_boost_round)"
      ]
    },
    {
      "cell_type": "code",
      "execution_count": null,
      "metadata": {
        "_cell_guid": "76c7e814-ffdd-afa8-19aa-585df067d48b"
      },
      "outputs": [],
      "source": [
        "y_pred = model.predict(dtest)\n",
        "\n",
        "df_sub = pd.DataFrame({'id': id_test, 'price_doc': y_pred})\n",
        "\n",
        "df_sub.head()"
      ]
    },
    {
      "cell_type": "code",
      "execution_count": null,
      "metadata": {
        "_cell_guid": "10fa0108-6bb8-2886-c0fd-b47f510a1699"
      },
      "outputs": [],
      "source": [
        "df_sub.to_csv('sub.csv', index=False)"
      ]
    },
    {
      "cell_type": "markdown",
      "metadata": {
        "_cell_guid": "7b3a4a90-8dae-4794-4abc-122cc3769101"
      },
      "source": [
        "## II. Macro Adjustment"
      ]
    },
    {
      "cell_type": "code",
      "execution_count": null,
      "metadata": {
        "_cell_guid": "b441c883-fe00-f3e2-95b9-cebec4975a30"
      },
      "outputs": [],
      "source": [
        "df_test[\"timestamp\"] = pd.to_datetime(df_test[\"timestamp\"])\n",
        "df_test[\"year\"]  = df_test[\"timestamp\"].dt.year\n",
        "df_test[\"month\"] = df_test[\"timestamp\"].dt.month\n",
        "df_test[\"yearmonth\"] = 100*df_test.year + df_test.month\n",
        "test_ids = pd.DataFrame({\"yearmonth\":df_test.yearmonth.values,\n",
        "                         \"id\":id_test.values })\n",
        "test_data = test_ids.merge(df_sub,on=\"id\")\n",
        "\n",
        "test_prices = test_data[[\"yearmonth\",\"price_doc\"]]\n",
        "test_p = test_prices.groupby(\"yearmonth\").median()\n",
        "test_p.head()"
      ]
    },
    {
      "cell_type": "code",
      "execution_count": null,
      "metadata": {
        "_cell_guid": "1b178bd6-06e6-381e-76bc-8f6af94a836a"
      },
      "outputs": [],
      "source": [
        "import statsmodels.api as sm\n",
        "\n",
        "df_macro[\"timestamp\"] = pd.to_datetime(df_macro[\"timestamp\"])\n",
        "df_macro[\"year\"]  = df_macro[\"timestamp\"].dt.year\n",
        "df_macro[\"month\"] = df_macro[\"timestamp\"].dt.month\n",
        "df_macro[\"yearmonth\"] = 100*df_macro.year + df_macro.month\n",
        "macmeds = df_macro.groupby(\"yearmonth\").median()\n",
        "\n",
        "df_train[\"timestamp\"] = pd.to_datetime(df_train[\"timestamp\"])\n",
        "df_train[\"year\"]  = df_train[\"timestamp\"].dt.year\n",
        "df_train[\"month\"] = df_train[\"timestamp\"].dt.month\n",
        "df_train[\"yearmonth\"] = 100*df_train.year + df_train.month\n",
        "prices = pd.DataFrame({\"yearmonth\":df_train.yearmonth.values,\n",
        "                       \"price_doc\":y_train })\n",
        "p = prices.groupby(\"yearmonth\").median()\n",
        "\n",
        "df = macmeds.join(p)"
      ]
    },
    {
      "cell_type": "code",
      "execution_count": null,
      "metadata": {
        "_cell_guid": "f1025889-f04f-ba2f-f39c-98635ed73ae2"
      },
      "outputs": [],
      "source": [
        "#  Adapted from code at http://adorio-research.org/wordpress/?p=7595\n",
        "#  Original post was dated May 31st, 2010\n",
        "#    but was unreachable last time I tried\n",
        "\n",
        "import numpy.matlib as ml\n",
        " \n",
        "def almonZmatrix(X, maxlag, maxdeg):\n",
        "    \"\"\"\n",
        "    Creates the Z matrix corresponding to vector X.\n",
        "    \"\"\"\n",
        "    n = len(X)\n",
        "    Z = ml.zeros((len(X)-maxlag, maxdeg+1))\n",
        "    for t in range(maxlag,  n):\n",
        "       #Solve for Z[t][0].\n",
        "       Z[t-maxlag,0] = sum([X[t-lag] for lag in range(maxlag+1)])\n",
        "       for j in range(1, maxdeg+1):\n",
        "             s = 0.0\n",
        "             for i in range(1, maxlag+1):       \n",
        "                s += (i)**j * X[t-i]\n",
        "             Z[t-maxlag,j] = s\n",
        "    return Z"
      ]
    },
    {
      "cell_type": "code",
      "execution_count": null,
      "metadata": {
        "_cell_guid": "f469aef4-a54a-8114-a868-52872aafeb61"
      },
      "outputs": [],
      "source": [
        "y_macro = df.price_doc.div(df.cpi).apply(np.log).loc[201108:201506]\n",
        "nobs = 47  # August 2011 through June 2015, months with price_doc data\n",
        "tblags = 5    # Number of lags used on PDL for Trade Balance\n",
        "mrlags = 5    # Number of lags used on PDL for Mortgage Rate\n",
        "ztb = almonZmatrix(df.balance_trade.loc[201103:201506].as_matrix(), tblags, 1)\n",
        "zmr = almonZmatrix(df.mortgage_rate.loc[201103:201506].as_matrix(), mrlags, 1)\n",
        "columns = ['tb0', 'tb1', 'mr0', 'mr1']\n",
        "z = pd.DataFrame( np.concatenate( (ztb, zmr), axis=1), y_macro.index.values, columns )\n",
        "X_macro = sm.add_constant( z )"
      ]
    },
    {
      "cell_type": "code",
      "execution_count": null,
      "metadata": {
        "_cell_guid": "b2fe5734-dcbe-83cd-2ba8-93b9e25f1243"
      },
      "outputs": [],
      "source": [
        "macro_fit = sm.OLS(y_macro, X_macro).fit()"
      ]
    },
    {
      "cell_type": "code",
      "execution_count": null,
      "metadata": {
        "_cell_guid": "bcaae7cf-d8b6-0d1c-d70b-4e085bf5e6ba"
      },
      "outputs": [],
      "source": [
        "test_cpi = df.cpi.loc[201507:201605]\n",
        "test_index = test_cpi.index\n",
        "ztb_test = almonZmatrix(df.balance_trade.loc[201502:201605].as_matrix(), tblags, 1)\n",
        "zmr_test = almonZmatrix(df.mortgage_rate.loc[201502:201605].as_matrix(), mrlags, 1)\n",
        "z_test = pd.DataFrame( np.concatenate( (ztb_test, zmr_test), axis=1), test_index, columns )\n",
        "X_macro_test = sm.add_constant( z_test )\n",
        "pred_lnrp = macro_fit.predict( X_macro_test )\n",
        "pred_p = np.exp(pred_lnrp) * test_cpi"
      ]
    },
    {
      "cell_type": "code",
      "execution_count": null,
      "metadata": {
        "_cell_guid": "bb78adc0-8318-1b25-8b56-dcf0f5c32f5f"
      },
      "outputs": [],
      "source": [
        "adjust = pd.DataFrame( pred_p/test_p.price_doc, columns=[\"adjustment\"] )\n",
        "adjust"
      ]
    },
    {
      "cell_type": "code",
      "execution_count": null,
      "metadata": {
        "_cell_guid": "cb37edd7-4b13-5da4-8de6-51cbd6b9ba60"
      },
      "outputs": [],
      "source": [
        "combo = test_data.join(adjust, on='yearmonth')\n",
        "combo['adjusted'] = combo.price_doc * combo.adjustment\n",
        "adjxgb_df = pd.DataFrame()\n",
        "adjxgb_df['id'] = combo.id\n",
        "adjxgb_df['price_doc'] = combo.adjusted\n",
        "adjxgb_df.head()"
      ]
    },
    {
      "cell_type": "code",
      "execution_count": null,
      "metadata": {
        "_cell_guid": "aeebb59b-cdc7-2c75-0dcd-8eebddabde5c"
      },
      "outputs": [],
      "source": [
        "adjxgb_df.to_csv('adjusted_xgb_predicitons.csv', index=False)"
      ]
    },
    {
      "cell_type": "code",
      "execution_count": null,
      "metadata": {
        "_cell_guid": "a820ded4-dd18-7066-1857-157359806e30"
      },
      "outputs": [],
      "source": ""
    }
  ],
  "metadata": {
    "_change_revision": 0,
    "_is_fork": false,
    "kernelspec": {
      "display_name": "Python 3",
      "language": "python",
      "name": "python3"
    },
    "language_info": {
      "codemirror_mode": {
        "name": "ipython",
        "version": 3
      },
      "file_extension": ".py",
      "mimetype": "text/x-python",
      "name": "python",
      "nbconvert_exporter": "python",
      "pygments_lexer": "ipython3",
      "version": "3.6.0"
    }
  },
  "nbformat": 4,
  "nbformat_minor": 0
}