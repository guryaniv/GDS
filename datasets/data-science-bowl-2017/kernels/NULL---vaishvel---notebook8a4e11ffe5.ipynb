{
  "cells": [
    {
      "cell_type": "code",
      "execution_count": null,
      "metadata": {
        "_cell_guid": "7c8e6102-9f51-c9cc-4da7-ed7bb879292a"
      },
      "outputs": [],
      "source": [
        "# This Python 3 environment comes with many helpful analytics libraries installed\n",
        "# It is defined by the kaggle/python docker image: https://github.com/kaggle/docker-python\n",
        "# For example, here's several helpful packages to load in \n",
        "\n",
        "import numpy as np # linear algebra\n",
        "import pandas as pd # data processing, CSV file I/O (e.g. pd.read_csv)\n",
        "\n",
        "# Input data files are available in the \"../input/\" directory.\n",
        "# For example, running this (by clicking run or pressing Shift+Enter) will list the files in the input directory\n",
        "\n",
        "from subprocess import check_output\n",
        "print(check_output([\"ls\", \"../input\"]).decode(\"utf8\"))\n",
        "\n",
        "# Any results you write to the current directory are saved as output."
      ]
    },
    {
      "cell_type": "code",
      "execution_count": null,
      "metadata": {
        "_cell_guid": "92beb823-20cf-f93d-eb99-211ebdd40114"
      },
      "outputs": [],
      "source": [
        "import dicom\n",
        "import os\n",
        "import pandas as pd\n",
        "\n",
        "data_dir = '../input/sample_images/'\n",
        "patients = os.listdir(data_dir)\n",
        "labels_df = pd.read_csv('../input/stage1_labels.csv', index_col=0)\n",
        "\n",
        "labels_df.head() #printout first 5 patient Id and status\n"
      ]
    },
    {
      "cell_type": "code",
      "execution_count": null,
      "metadata": {
        "_cell_guid": "c29e3390-6b88-8d36-3d0d-2a8212e8b9f4"
      },
      "outputs": [],
      "source": [
        "for patient in patients[:1]:\n",
        " label = labels_df.get_value(patient, 'cancer')   \n",
        " path = data_dir + patient\n",
        " slices = [dicom.read_file(path + '/' + s) for s in os.listdir(path)]\n",
        " slices.sort(key = lambda x: int(x.ImagePositionPatient[2]))\n",
        " print(len(slices),label)\n",
        "print(slices[0])"
      ]
    },
    {
      "cell_type": "code",
      "execution_count": null,
      "metadata": {
        "_cell_guid": "c9197a4d-d744-1909-22e3-33a692aae92f"
      },
      "outputs": [],
      "source": ""
    }
  ],
  "metadata": {
    "_change_revision": 0,
    "_is_fork": false,
    "kernelspec": {
      "display_name": "Python 3",
      "language": "python",
      "name": "python3"
    },
    "language_info": {
      "codemirror_mode": {
        "name": "ipython",
        "version": 3
      },
      "file_extension": ".py",
      "mimetype": "text/x-python",
      "name": "python",
      "nbconvert_exporter": "python",
      "pygments_lexer": "ipython3",
      "version": "3.6.0"
    }
  },
  "nbformat": 4,
  "nbformat_minor": 0
}