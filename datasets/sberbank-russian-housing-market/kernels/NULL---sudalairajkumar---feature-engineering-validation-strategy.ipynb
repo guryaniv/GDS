{
  "cells": [
    {
      "cell_type": "markdown",
      "metadata": {
        "_cell_guid": "aeafa813-c3e2-11a4-3162-949f6149b6a5"
      },
      "source": [
        "Feature Engineering is a key part in any ML problem and I think it will play a major role in this one as well.\n",
        "\n",
        "So in this notebook, I am trying to create different types of features using the given data and build an XGBoost model using the same to look at the feature importance. \n",
        "\n",
        "**PS: Not all the variables will be useful. This is just about FE ideas. Please do proper validation and then use them :)**\n",
        "\n",
        "Let us start with importing the necessary modules."
      ]
    },
    {
      "cell_type": "code",
      "execution_count": null,
      "metadata": {
        "_cell_guid": "11636e6e-ceac-9cf2-6c38-b12e18afd307"
      },
      "outputs": [],
      "source": [
        "import numpy as np # linear algebra\n",
        "import pandas as pd # data processing, CSV file I/O (e.g. pd.read_csv)\n",
        "import matplotlib.pyplot as plt\n",
        "import seaborn as sns\n",
        "from sklearn import model_selection, preprocessing\n",
        "import xgboost as xgb\n",
        "color = sns.color_palette()\n",
        "\n",
        "%matplotlib inline\n",
        "\n",
        "pd.options.mode.chained_assignment = None  # default='warn'\n",
        "pd.set_option('display.max_columns', 500)"
      ]
    },
    {
      "cell_type": "markdown",
      "metadata": {
        "_cell_guid": "eeb17412-d2aa-c2e7-a67f-142b24bbc3bf"
      },
      "source": [
        "Let us read the train, test and macro files and combine macro information with train and test."
      ]
    },
    {
      "cell_type": "code",
      "execution_count": null,
      "metadata": {
        "_cell_guid": "c410194d-50ac-04d8-103e-535478c3768e"
      },
      "outputs": [],
      "source": [
        "train_df = pd.read_csv(\"../input/train.csv\", parse_dates=['timestamp'])\n",
        "test_df = pd.read_csv(\"../input/test.csv\", parse_dates=['timestamp'])\n",
        "macro_df = pd.read_csv(\"../input/macro.csv\", parse_dates=['timestamp'])\n",
        "train_df = pd.merge(train_df, macro_df, how='left', on='timestamp')\n",
        "test_df = pd.merge(test_df, macro_df, how='left', on='timestamp')\n",
        "print(train_df.shape, test_df.shape)\n",
        "\n",
        "# truncate the extreme values in price_doc #\n",
        "ulimit = np.percentile(train_df.price_doc.values, 99)\n",
        "llimit = np.percentile(train_df.price_doc.values, 1)\n",
        "train_df['price_doc'].ix[train_df['price_doc']>ulimit] = ulimit\n",
        "train_df['price_doc'].ix[train_df['price_doc']<llimit] = llimit"
      ]
    },
    {
      "cell_type": "markdown",
      "metadata": {
        "_cell_guid": "f8030471-d808-9490-4188-f355c1078d4d"
      },
      "source": [
        "As seen from [this notebook][1], there are few categorical variables in the train data. So we can convert them into numerical variables by label encoding.\n",
        "\n",
        "\n",
        "  [1]: https://www.kaggle.com/sudalairajkumar/sberbank-russian-housing-market/simple-exploration-notebook-sberbank"
      ]
    },
    {
      "cell_type": "code",
      "execution_count": null,
      "metadata": {
        "_cell_guid": "4c99c350-f777-6f21-6fae-d5204619a4ed"
      },
      "outputs": [],
      "source": [
        "for f in train_df.columns:\n",
        "    if train_df[f].dtype=='object':\n",
        "        print(f)\n",
        "        lbl = preprocessing.LabelEncoder()\n",
        "        lbl.fit(list(train_df[f].values.astype('str')) + list(test_df[f].values.astype('str')))\n",
        "        train_df[f] = lbl.transform(list(train_df[f].values.astype('str')))\n",
        "        test_df[f] = lbl.transform(list(test_df[f].values.astype('str')))"
      ]
    },
    {
      "cell_type": "markdown",
      "metadata": {
        "_cell_guid": "346938a1-7c79-00b4-b09d-7e1836dc3af3"
      },
      "source": [
        "We also have some null values in the dataset. So one feature idea could be to use the count of nulls in the row."
      ]
    },
    {
      "cell_type": "code",
      "execution_count": null,
      "metadata": {
        "_cell_guid": "dc4c06e1-8121-4f6c-4fa1-4bfbfc280ce6"
      },
      "outputs": [],
      "source": [
        "train_df[\"null_count\"] = train_df.isnull().sum(axis=1)\n",
        "test_df[\"null_count\"] = test_df.isnull().sum(axis=1)\n",
        "\n",
        "plt.figure(figsize=(14,12))\n",
        "sns.pointplot(x='null_count', y='price_doc', data=train_df)\n",
        "plt.ylabel('price_doc', fontsize=12)\n",
        "plt.xlabel('null_count', fontsize=12)\n",
        "plt.xticks(rotation='vertical')\n",
        "plt.show()"
      ]
    },
    {
      "cell_type": "markdown",
      "metadata": {
        "_cell_guid": "6bc6df2f-f86a-10bc-2c31-523a3e11dc74"
      },
      "source": [
        "Now let us impute the missing values with some value which is outside the range of values of the column, say -99."
      ]
    },
    {
      "cell_type": "code",
      "execution_count": null,
      "metadata": {
        "_cell_guid": "79ee31f1-3794-854b-5a4c-70bc9154bbb4"
      },
      "outputs": [],
      "source": [
        "train_df.fillna(-99, inplace=True)\n",
        "test_df.fillna(-99, inplace=True)"
      ]
    },
    {
      "cell_type": "markdown",
      "metadata": {
        "_cell_guid": "8a2da6ce-a816-3f80-ee91-2146d4008afe"
      },
      "source": [
        "We have a timestamp variable in the dataset and time could be one of an important factor determining the price. So let us extract some features out of the timestamp variable."
      ]
    },
    {
      "cell_type": "code",
      "execution_count": null,
      "metadata": {
        "_cell_guid": "d48a4d7b-0e9c-91c5-251c-ebb7150fb0ba"
      },
      "outputs": [],
      "source": [
        "# year and month #\n",
        "train_df[\"yearmonth\"] = train_df[\"timestamp\"].dt.year*100 + train_df[\"timestamp\"].dt.month\n",
        "test_df[\"yearmonth\"] = test_df[\"timestamp\"].dt.year*100 + test_df[\"timestamp\"].dt.month\n",
        "\n",
        "# year and week #\n",
        "train_df[\"yearweek\"] = train_df[\"timestamp\"].dt.year*100 + train_df[\"timestamp\"].dt.weekofyear\n",
        "test_df[\"yearweek\"] = test_df[\"timestamp\"].dt.year*100 + test_df[\"timestamp\"].dt.weekofyear\n",
        "\n",
        "# year #\n",
        "train_df[\"year\"] = train_df[\"timestamp\"].dt.year\n",
        "test_df[\"year\"] = test_df[\"timestamp\"].dt.year\n",
        "\n",
        "# month of year #\n",
        "train_df[\"month_of_year\"] = train_df[\"timestamp\"].dt.month\n",
        "test_df[\"month_of_year\"] = test_df[\"timestamp\"].dt.month\n",
        "\n",
        "# week of year #\n",
        "train_df[\"week_of_year\"] = train_df[\"timestamp\"].dt.weekofyear\n",
        "test_df[\"week_of_year\"] = test_df[\"timestamp\"].dt.weekofyear\n",
        "\n",
        "# day of week #\n",
        "train_df[\"day_of_week\"] = train_df[\"timestamp\"].dt.weekday\n",
        "test_df[\"day_of_week\"] = test_df[\"timestamp\"].dt.weekday\n",
        "\n",
        "\n",
        "plt.figure(figsize=(12,8))\n",
        "sns.pointplot(x='yearweek', y='price_doc', data=train_df)\n",
        "plt.ylabel('price_doc', fontsize=12)\n",
        "plt.xlabel('yearweek', fontsize=12)\n",
        "plt.title('Median Price distribution by year and week_num')\n",
        "plt.xticks(rotation='vertical')\n",
        "plt.show()\n",
        "\n",
        "plt.figure(figsize=(12,8))\n",
        "sns.boxplot(x='month_of_year', y='price_doc', data=train_df)\n",
        "plt.ylabel('price_doc', fontsize=12)\n",
        "plt.xlabel('month_of_year', fontsize=12)\n",
        "plt.title('Median Price distribution by month_of_year')\n",
        "plt.xticks(rotation='vertical')\n",
        "plt.show()\n",
        "\n",
        "plt.figure(figsize=(12,8))\n",
        "sns.pointplot(x='week_of_year', y='price_doc', data=train_df)\n",
        "plt.ylabel('price_doc', fontsize=12)\n",
        "plt.xlabel('week of the year', fontsize=12)\n",
        "plt.title('Median Price distribution by week of year')\n",
        "plt.xticks(rotation='vertical')\n",
        "plt.show()\n",
        "\n",
        "plt.figure(figsize=(12,8))\n",
        "sns.boxplot(x='day_of_week', y='price_doc', data=train_df)\n",
        "plt.ylabel('price_doc', fontsize=12)\n",
        "plt.xlabel('day_of_week', fontsize=12)\n",
        "plt.title('Median Price distribution by day of week')\n",
        "plt.xticks(rotation='vertical')\n",
        "plt.show()"
      ]
    },
    {
      "cell_type": "markdown",
      "metadata": {
        "_cell_guid": "ddd906fa-864b-dec1-93d1-22070ced517c"
      },
      "source": [
        "Also from the [simple exploration notebook][1], we have seen that area of the property is the top variables. So creating some more features might be helpful.\n",
        "\n",
        "Let us create some ratio variables around it.\n",
        "\n",
        "\n",
        "  [1]: https://www.kaggle.com/sudalairajkumar/sberbank-russian-housing-market/simple-exploration-notebook-sberbank"
      ]
    },
    {
      "cell_type": "code",
      "execution_count": null,
      "metadata": {
        "_cell_guid": "11c1881c-1b6e-fbda-0c61-51ed8f62e9d2"
      },
      "outputs": [],
      "source": [
        "# ratio of living area to full area #\n",
        "train_df[\"ratio_life_sq_full_sq\"] = train_df[\"life_sq\"] / np.maximum(train_df[\"full_sq\"].astype(\"float\"),1)\n",
        "test_df[\"ratio_life_sq_full_sq\"] = test_df[\"life_sq\"] / np.maximum(test_df[\"full_sq\"].astype(\"float\"),1)\n",
        "train_df[\"ratio_life_sq_full_sq\"].ix[train_df[\"ratio_life_sq_full_sq\"]<0] = 0\n",
        "train_df[\"ratio_life_sq_full_sq\"].ix[train_df[\"ratio_life_sq_full_sq\"]>1] = 1\n",
        "test_df[\"ratio_life_sq_full_sq\"].ix[test_df[\"ratio_life_sq_full_sq\"]<0] = 0\n",
        "test_df[\"ratio_life_sq_full_sq\"].ix[test_df[\"ratio_life_sq_full_sq\"]>1] = 1\n",
        "\n",
        "# ratio of kitchen area to living area #\n",
        "train_df[\"ratio_kitch_sq_life_sq\"] = train_df[\"kitch_sq\"] / np.maximum(train_df[\"life_sq\"].astype(\"float\"),1)\n",
        "test_df[\"ratio_kitch_sq_life_sq\"] = test_df[\"kitch_sq\"] / np.maximum(test_df[\"life_sq\"].astype(\"float\"),1)\n",
        "train_df[\"ratio_kitch_sq_life_sq\"].ix[train_df[\"ratio_kitch_sq_life_sq\"]<0] = 0\n",
        "train_df[\"ratio_kitch_sq_life_sq\"].ix[train_df[\"ratio_kitch_sq_life_sq\"]>1] = 1\n",
        "test_df[\"ratio_kitch_sq_life_sq\"].ix[test_df[\"ratio_kitch_sq_life_sq\"]<0] = 0\n",
        "test_df[\"ratio_kitch_sq_life_sq\"].ix[test_df[\"ratio_kitch_sq_life_sq\"]>1] = 1\n",
        "\n",
        "# ratio of kitchen area to full area #\n",
        "train_df[\"ratio_kitch_sq_full_sq\"] = train_df[\"kitch_sq\"] / np.maximum(train_df[\"full_sq\"].astype(\"float\"),1)\n",
        "test_df[\"ratio_kitch_sq_full_sq\"] = test_df[\"kitch_sq\"] / np.maximum(test_df[\"full_sq\"].astype(\"float\"),1)\n",
        "train_df[\"ratio_kitch_sq_full_sq\"].ix[train_df[\"ratio_kitch_sq_full_sq\"]<0] = 0\n",
        "train_df[\"ratio_kitch_sq_full_sq\"].ix[train_df[\"ratio_kitch_sq_full_sq\"]>1] = 1\n",
        "test_df[\"ratio_kitch_sq_full_sq\"].ix[test_df[\"ratio_kitch_sq_full_sq\"]<0] = 0\n",
        "test_df[\"ratio_kitch_sq_full_sq\"].ix[test_df[\"ratio_kitch_sq_full_sq\"]>1] = 1\n",
        "\n",
        "plt.figure(figsize=(12,12))\n",
        "sns.jointplot(x=train_df.ratio_life_sq_full_sq.values, y=np.log1p(train_df.price_doc.values), size=10)\n",
        "plt.ylabel('Log of Price', fontsize=12)\n",
        "plt.xlabel('Ratio of living area to full area', fontsize=12)\n",
        "plt.title(\"Joint plot on log of living price to ratio_life_sq_full_sq\")\n",
        "plt.show()\n",
        "\n",
        "plt.figure(figsize=(12,12))\n",
        "sns.jointplot(x=train_df.ratio_life_sq_full_sq.values, y=np.log1p(train_df.price_doc.values), \n",
        "              kind='kde',size=10)\n",
        "plt.ylabel('Log of Price', fontsize=12)\n",
        "plt.xlabel('Ratio of kitchen area to living area', fontsize=12)\n",
        "plt.title(\"Joint plot on log of living price to ratio_kitch_sq_life_sq\")\n",
        "plt.show()\n",
        "\n",
        "plt.figure(figsize=(12,12))\n",
        "sns.jointplot(x=train_df.ratio_life_sq_full_sq.values, y=np.log1p(train_df.price_doc.values), \n",
        "              kind='kde',size=10)\n",
        "plt.ylabel('Log of Price', fontsize=12)\n",
        "plt.xlabel('Ratio of kitchen area to full area', fontsize=12)\n",
        "plt.title(\"Joint plot on log of living price to ratio_kitch_sq_full_sq\")\n",
        "plt.show()"
      ]
    },
    {
      "cell_type": "markdown",
      "metadata": {
        "_cell_guid": "4cc54311-8fd9-9bec-d49d-4fb8aaa7352e"
      },
      "source": [
        "Also the next important variables from EDA are floor and max_floor. So let us create two variables\n",
        "\n",
        " 1. Floor number of the house to the total number of floors\n",
        " 2. Number of floor from the top"
      ]
    },
    {
      "cell_type": "code",
      "execution_count": null,
      "metadata": {
        "_cell_guid": "012f5482-3e04-cf9f-d005-e17d0ed04cf8"
      },
      "outputs": [],
      "source": [
        "# floor of the house to the total number of floors in the house #\n",
        "train_df[\"ratio_floor_max_floor\"] = train_df[\"floor\"] / train_df[\"max_floor\"].astype(\"float\")\n",
        "test_df[\"ratio_floor_max_floor\"] = test_df[\"floor\"] / test_df[\"max_floor\"].astype(\"float\")\n",
        "\n",
        "# num of floor from top #\n",
        "train_df[\"floor_from_top\"] = train_df[\"max_floor\"] - train_df[\"floor\"]\n",
        "test_df[\"floor_from_top\"] = test_df[\"max_floor\"] - test_df[\"floor\"]"
      ]
    },
    {
      "cell_type": "markdown",
      "metadata": {
        "_cell_guid": "aea58331-32ae-2a0e-a70e-4d3d993c1cec"
      },
      "source": [
        "One more variable from floor area could be the difference between full area and living area."
      ]
    },
    {
      "cell_type": "code",
      "execution_count": null,
      "metadata": {
        "_cell_guid": "97cca91d-7075-dfac-4d49-c983586918e3"
      },
      "outputs": [],
      "source": [
        "train_df[\"extra_sq\"] = train_df[\"full_sq\"] - train_df[\"life_sq\"]\n",
        "test_df[\"extra_sq\"] = test_df[\"full_sq\"] - test_df[\"life_sq\"]"
      ]
    },
    {
      "cell_type": "markdown",
      "metadata": {
        "_cell_guid": "0cc1a076-8c7a-8126-42ed-ebee7dbf30d0"
      },
      "source": [
        "Age of building might have an impact in the rental price and so we can add that one as well."
      ]
    },
    {
      "cell_type": "code",
      "execution_count": null,
      "metadata": {
        "_cell_guid": "fcc4c6cb-7084-2dc1-c581-4323f239647e"
      },
      "outputs": [],
      "source": [
        "train_df[\"age_of_building\"] = train_df[\"build_year\"] - train_df[\"year\"]\n",
        "test_df[\"age_of_building\"] = test_df[\"build_year\"] - test_df[\"year\"]"
      ]
    },
    {
      "cell_type": "markdown",
      "metadata": {
        "_cell_guid": "11492887-5415-b922-b49e-952bd255058e"
      },
      "source": [
        "Price of the house could also be affected by the availability of other houses at the same time period. So creating a count variable on the number of houses at the given time period might help."
      ]
    },
    {
      "cell_type": "code",
      "execution_count": null,
      "metadata": {
        "_cell_guid": "dd00ea72-a1d1-846b-1b70-8e3471212f03"
      },
      "outputs": [],
      "source": [
        "def add_count(df, group_col):\n",
        "    grouped_df = df.groupby(group_col)[\"id\"].aggregate(\"count\").reset_index()\n",
        "    grouped_df.columns = [group_col, \"count_\"+group_col]\n",
        "    df = pd.merge(df, grouped_df, on=group_col, how=\"left\")\n",
        "    return df\n",
        "\n",
        "train_df = add_count(train_df, \"yearmonth\")\n",
        "test_df = add_count(test_df, \"yearmonth\")\n",
        "\n",
        "train_df = add_count(train_df, \"yearweek\")\n",
        "test_df = add_count(test_df, \"yearweek\")"
      ]
    },
    {
      "cell_type": "markdown",
      "metadata": {
        "_cell_guid": "c627f175-c39b-582b-a273-f34a5610b52d"
      },
      "source": [
        "Since schools generally play an important role in house hunting, let us create some variables around school."
      ]
    },
    {
      "cell_type": "code",
      "execution_count": null,
      "metadata": {
        "_cell_guid": "909e4c3d-0524-0eb5-7fa5-e9e908193da7"
      },
      "outputs": [],
      "source": [
        "train_df[\"ratio_preschool\"] = train_df[\"children_preschool\"] / train_df[\"preschool_quota\"].astype(\"float\")\n",
        "test_df[\"ratio_preschool\"] = test_df[\"children_preschool\"] / test_df[\"preschool_quota\"].astype(\"float\")\n",
        "\n",
        "train_df[\"ratio_school\"] = train_df[\"children_school\"] / train_df[\"school_quota\"].astype(\"float\")\n",
        "test_df[\"ratio_school\"] = test_df[\"children_school\"] / test_df[\"school_quota\"].astype(\"float\")"
      ]
    },
    {
      "cell_type": "markdown",
      "metadata": {
        "_cell_guid": "967f1bae-981f-534f-02c5-f2d85d386088"
      },
      "source": [
        "We could potentially add more variables like this. But for now let us start with model building using these additional variables. Let us drop the variables which are not needed in model building."
      ]
    },
    {
      "cell_type": "code",
      "execution_count": null,
      "metadata": {
        "_cell_guid": "ae79d7d0-78d8-4cad-2ac0-a84eab7748c4"
      },
      "outputs": [],
      "source": [
        "train_X = train_df.drop([\"id\", \"timestamp\", \"price_doc\"], axis=1)\n",
        "test_X = test_df.drop([\"id\", \"timestamp\"] , axis=1)"
      ]
    },
    {
      "cell_type": "markdown",
      "metadata": {
        "_cell_guid": "aae2ae14-9460-fe4a-51c2-6f142b66a664"
      },
      "source": [
        "Since our metric is \"RMSLE\", let us use log of the target variable for model building rather than using the actual target variable."
      ]
    },
    {
      "cell_type": "code",
      "execution_count": null,
      "metadata": {
        "_cell_guid": "86cce3e3-dd1a-5388-5943-791461c2b230"
      },
      "outputs": [],
      "source": [
        "train_y = np.log1p(train_df.price_doc.values)"
      ]
    },
    {
      "cell_type": "markdown",
      "metadata": {
        "_cell_guid": "7aebaa03-6615-a0f9-1c63-39db22758de6"
      },
      "source": [
        "**Validation Methodology:**\n",
        "\n",
        "But before building our models, let us do some local validation by splitting the train dataset.\n",
        "\n",
        "In this competition, the train and test set are from different time periods and so let us use the last 1 year as validation set for building our models and rest as model development set."
      ]
    },
    {
      "cell_type": "code",
      "execution_count": null,
      "metadata": {
        "_cell_guid": "ebe969ec-b0c8-e513-a398-2b9fb1a2b52d"
      },
      "outputs": [],
      "source": [
        "val_time = 201407\n",
        "dev_indices = np.where(train_X[\"yearmonth\"]<val_time)\n",
        "val_indices = np.where(train_X[\"yearmonth\"]>=val_time)\n",
        "dev_X = train_X.ix[dev_indices]\n",
        "val_X = train_X.ix[val_indices]\n",
        "dev_y = train_y[dev_indices]\n",
        "val_y = train_y[val_indices]\n",
        "print(dev_X.shape, val_X.shape)"
      ]
    },
    {
      "cell_type": "markdown",
      "metadata": {
        "_cell_guid": "6f4ed545-8ccf-8e5f-a084-f09aeb12edc7"
      },
      "source": [
        "Let us build xgboost model using these variables and check the score."
      ]
    },
    {
      "cell_type": "code",
      "execution_count": null,
      "metadata": {
        "_cell_guid": "6581730f-9187-0f19-7aad-0dcd58e70114"
      },
      "outputs": [],
      "source": [
        "xgb_params = {\n",
        "    'eta': 0.05,\n",
        "    'max_depth': 4,\n",
        "    'subsample': 0.7,\n",
        "    'colsample_bytree': 0.7,\n",
        "    'objective': 'reg:linear',\n",
        "    'eval_metric': 'rmse',\n",
        "    'min_child_weight':1,\n",
        "    'silent': 1,\n",
        "    'seed':0\n",
        "}\n",
        "\n",
        "xgtrain = xgb.DMatrix(dev_X, dev_y, feature_names=dev_X.columns)\n",
        "xgtest = xgb.DMatrix(val_X, val_y, feature_names=val_X.columns)\n",
        "watchlist = [ (xgtrain,'train'), (xgtest, 'test') ]\n",
        "num_rounds = 100 # Increase the number of rounds while running in local\n",
        "model = xgb.train(xgb_params, xgtrain, num_rounds, watchlist, early_stopping_rounds=50, verbose_eval=5)"
      ]
    },
    {
      "cell_type": "code",
      "execution_count": null,
      "metadata": {
        "_cell_guid": "2b967526-a512-1988-1cef-58d50d53dff3"
      },
      "outputs": [],
      "source": [
        "# plot the important features #\n",
        "fig, ax = plt.subplots(figsize=(12,18))\n",
        "xgb.plot_importance(model, max_num_features=50, height=0.8, ax=ax)\n",
        "plt.show()"
      ]
    },
    {
      "cell_type": "markdown",
      "metadata": {
        "_cell_guid": "fa7de33d-dee9-58da-c227-3841609c03cc"
      },
      "source": [
        "Beware that adding irrelevant variables will degrade the performance of the models. So use cross-validation and pick the best ones.! "
      ]
    }
  ],
  "metadata": {
    "_change_revision": 0,
    "_is_fork": false,
    "kernelspec": {
      "display_name": "Python 3",
      "language": "python",
      "name": "python3"
    },
    "language_info": {
      "codemirror_mode": {
        "name": "ipython",
        "version": 3
      },
      "file_extension": ".py",
      "mimetype": "text/x-python",
      "name": "python",
      "nbconvert_exporter": "python",
      "pygments_lexer": "ipython3",
      "version": "3.6.0"
    }
  },
  "nbformat": 4,
  "nbformat_minor": 0
}