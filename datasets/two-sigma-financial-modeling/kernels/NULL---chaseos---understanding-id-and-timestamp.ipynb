{
  "cells": [
    {
      "cell_type": "markdown",
      "metadata": {
        "_cell_guid": "ee04a2c5-4248-beaa-cd5e-a82782b928e9"
      },
      "source": [
        "# Relationships between id and timestamp columns"
      ]
    },
    {
      "cell_type": "code",
      "execution_count": null,
      "metadata": {
        "_cell_guid": "c684a29c-90f0-f4a6-3597-b40b36d3456a"
      },
      "outputs": [],
      "source": [
        "# dependencies\n",
        "import numpy as np \n",
        "import pandas as pd \n",
        "import matplotlib.pyplot as plt\n",
        "import seaborn as sns\n",
        "%matplotlib inline\n",
        "p = sns.color_palette()"
      ]
    },
    {
      "cell_type": "code",
      "execution_count": null,
      "metadata": {
        "_cell_guid": "5022ac76-1b63-be25-0d1f-960acdea764f"
      },
      "outputs": [],
      "source": [
        "# load data\n",
        "hdf = pd.HDFStore(\"../input/train.h5\")\n",
        "df = pd.concat([hdf.select(key) for key in hdf.keys()])\n",
        "hdf.close()"
      ]
    },
    {
      "cell_type": "markdown",
      "metadata": {
        "_cell_guid": "c4910689-c550-dead-b512-7be68a59daf2"
      },
      "source": [
        "Ids might be stocks since 1424 unique ids is in the range of a stock universe.\n"
      ]
    },
    {
      "cell_type": "code",
      "execution_count": null,
      "metadata": {
        "_cell_guid": "580b13d4-60bb-b03e-b18f-e6cf80d55243"
      },
      "outputs": [],
      "source": [
        "print('Unique Ids: ', df['id'].nunique()) # this is about the size of a typical stock selection universe"
      ]
    },
    {
      "cell_type": "markdown",
      "metadata": {
        "_cell_guid": "bd4dd6a9-d5ad-cebd-5369-e9cc0a2d4af3"
      },
      "source": [
        "The number of ids has peculiar behavior over time.  They roll off and then jump again with an upward trend.  Also, at no point are all ids present."
      ]
    },
    {
      "cell_type": "code",
      "execution_count": null,
      "metadata": {
        "_cell_guid": "844645c1-6d8f-05a1-6059-a94d8ad42470"
      },
      "outputs": [],
      "source": [
        "# id counts w.r.t time\n",
        "temp = df.groupby('timestamp').apply(lambda x: x['id'].nunique())\n",
        "plt.figure(figsize=(8,4))\n",
        "plt.plot(temp, color=p[0])\n",
        "plt.xlabel('timestamp')\n",
        "plt.ylabel('id count')\n",
        "plt.title('Number of ids over time')"
      ]
    },
    {
      "cell_type": "markdown",
      "metadata": {
        "_cell_guid": "ff427705-f455-5ee7-eb67-1b151a3b8e70"
      },
      "source": [
        "About 500 ids are present the entire time series.  Some ids have hardly any data (minimum of 2 timestamps!).  "
      ]
    },
    {
      "cell_type": "code",
      "execution_count": null,
      "metadata": {
        "_cell_guid": "748569d0-9800-d8b9-1009-5571ee7300d7"
      },
      "outputs": [],
      "source": [
        "# lifespan of each id\n",
        "temp = df.groupby('id').apply(len)\n",
        "temp = temp.sort_values()\n",
        "temp = temp.reset_index()\n",
        "plt.figure(figsize=(8,4))\n",
        "plt.plot(temp[0], color=p[0])\n",
        "plt.xlabel('index for each id sorted by number of timestamps')\n",
        "plt.ylabel('number of timestamps')\n",
        "plt.title('Number of timestamps (\"Lifespan\") for each id')\n",
        "print(temp[0].describe())"
      ]
    },
    {
      "cell_type": "markdown",
      "metadata": {
        "_cell_guid": "4d3beba4-89b2-bbc1-2676-a819acd65b19"
      },
      "source": [
        "Many of the shortest lived ids fall at the very beginning or end of time.  Each id appears to have a continuous subset of timestamps."
      ]
    },
    {
      "cell_type": "code",
      "execution_count": null,
      "metadata": {
        "_cell_guid": "b127bfa9-2dcc-1bc3-05f8-9380c392320f"
      },
      "outputs": [],
      "source": [
        "N= 100\n",
        "temp2 = df[df['id'].isin(temp['id'].head(N).values)]\n",
        "temp2 = temp2.sort_values(['id', 'timestamp'])\n",
        "temp2 = temp2.pivot(index='timestamp', columns='id', values='id')\n",
        "plt.figure(figsize=(8,4))\n",
        "plt.plot(temp2)\n",
        "plt.xlabel('timestamp')\n",
        "plt.ylabel('id')\n",
        "plt.title('\"Lifespan\" for the {} shortest lived ids'.format(N))"
      ]
    },
    {
      "cell_type": "markdown",
      "metadata": {
        "_cell_guid": "b312f6f7-05a7-956f-fea4-3bfe23f4cf61"
      },
      "source": [
        "It seems many ids have the first or last timestamp when we look at the ids with the median number of timestamps. "
      ]
    },
    {
      "cell_type": "code",
      "execution_count": null,
      "metadata": {
        "_cell_guid": "e2518933-139f-c905-5883-9b2c411d3b12"
      },
      "outputs": [],
      "source": [
        "n_start = 700\n",
        "n_end = 750\n",
        "temp2 = df[df['id'].isin(temp['id'][n_start:n_end].values)]\n",
        "temp2 = temp2.sort_values(['id', 'timestamp'])\n",
        "temp2 = temp2.pivot(index='timestamp', columns='id', values='id')\n",
        "plt.figure(figsize=(8,4))\n",
        "plt.plot(temp2)\n",
        "plt.xlabel('timestamp')\n",
        "plt.ylabel('id')\n",
        "plt.title('\"Lifespan\" for ids ranked from {}-{}'.format(n_start, n_end))"
      ]
    },
    {
      "cell_type": "markdown",
      "metadata": {
        "_cell_guid": "054c20b9-806b-e002-6903-f78742d6943d"
      },
      "source": [
        "Confirmation that the starting and ending timestamp is not random.  "
      ]
    },
    {
      "cell_type": "code",
      "execution_count": null,
      "metadata": {
        "_cell_guid": "09ccdd52-bdf8-241e-d4e5-06a405546a0d"
      },
      "outputs": [],
      "source": [
        "print('Ids with timestamp=0: ', len(df[df['timestamp'] == 0]))\n",
        "print('Ids with timestamp=max: ', len(df[df['timestamp'] == df['timestamp'].max()]))\n",
        "print('Total ids: ', df['id'].nunique())"
      ]
    }
  ],
  "metadata": {
    "_change_revision": 0,
    "_is_fork": false,
    "kernelspec": {
      "display_name": "Python 3",
      "language": "python",
      "name": "python3"
    },
    "language_info": {
      "codemirror_mode": {
        "name": "ipython",
        "version": 3
      },
      "file_extension": ".py",
      "mimetype": "text/x-python",
      "name": "python",
      "nbconvert_exporter": "python",
      "pygments_lexer": "ipython3",
      "version": "3.5.2"
    }
  },
  "nbformat": 4,
  "nbformat_minor": 0
}