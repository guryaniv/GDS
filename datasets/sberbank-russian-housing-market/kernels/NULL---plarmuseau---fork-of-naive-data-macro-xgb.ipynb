{
  "cells": [
    {
      "cell_type": "markdown",
      "metadata": {
        "_cell_guid": "ac06cd79-9189-6d2b-9a83-012d19327beb"
      },
      "source": [
        "I simply added the macro data.\n",
        "----\n",
        "Load the required libraries and data. "
      ]
    },
    {
      "cell_type": "code",
      "execution_count": null,
      "metadata": {
        "_cell_guid": "555a1731-6a24-51ed-f194-a47541b955db"
      },
      "outputs": [],
      "source": [
        "import numpy as np\n",
        "import pandas as pd\n",
        "import matplotlib.pyplot as plt\n",
        "import seaborn as sns\n",
        "%matplotlib inline\n",
        "from sklearn import model_selection, preprocessing\n",
        "import xgboost as xgb\n",
        "import datetime\n",
        "#now = datetime.datetime.now()\n",
        "\n",
        "train = pd.read_csv('../input/train.csv')\n",
        "test = pd.read_csv('../input/test.csv')\n",
        "macro = pd.read_csv('../input/macro.csv')\n",
        "id_test = test.id\n",
        "#print(train.info(10))\n",
        "#print(test.info(10))\n",
        "#print(macro.info(10))\n",
        "#print(macro[['grp_growth','construction_value','rent_price_2room_eco','real_dispos_income_per_cap_growth','income_per_cap','mortgage_rate']])\n",
        "#print(macro['income_per_cap']*12*0.5/(macro['mortgage_rate']/100))"
      ]
    },
    {
      "cell_type": "code",
      "execution_count": null,
      "metadata": {
        "_cell_guid": "434e5276-9b0d-6e6b-04a4-61751ba7a937"
      },
      "outputs": [],
      "source": [
        "x_train=train.merge(macro[['timestamp','salary','mortgage_rate','rent_price_2room_eco','rent_price_2room_bus','unemployment']], left_on='timestamp', right_on='timestamp', how='left')\n",
        "#merge macrodata"
      ]
    },
    {
      "cell_type": "code",
      "execution_count": null,
      "metadata": {
        "_cell_guid": "97902c79-aa18-55a0-4762-4f49f666f1d8"
      },
      "outputs": [],
      "source": [
        "#Scatter Matrix:\n",
        "top10=x_train[['price_doc','full_sq','floor','max_floor','build_year','prom_part_5000','office_count_1000','cafe_count_1500_price_2500','product_type','salary','mortgage_rate','rent_price_2room_eco','rent_price_2room_bus','unemployment']].sample(2000)\n",
        "top10 = top10.dropna()\n",
        "topratio=pd.DataFrame([])\n",
        "topratio['val_mort_sal']=top10['price_doc']*top10['mortgage_rate']/top10['salary']/100\n",
        "topratio['rent_sal']=(top10['rent_price_2room_eco'])/top10['salary']*100\n",
        "topratio['pri_sq']=top10['price_doc']/top10['full_sq']\n",
        "topratio['pri_floor']=top10['price_doc']/(top10['floor']+1)\n",
        "topratio['product_type']=top10['product_type']\n",
        "topratio['price_doc']=top10['price_doc']\n",
        "import seaborn as sns; \n",
        "sns.set(style=\"ticks\", color_codes=True)\n",
        "g = sns.pairplot(topratio, hue=\"product_type\")"
      ]
    },
    {
      "cell_type": "code",
      "execution_count": null,
      "metadata": {
        "_cell_guid": "4a1a8f7f-4068-d8f5-aea4-277ffda7cfdb"
      },
      "outputs": [],
      "source": [
        "import seaborn as sns\n",
        "corr = topratio.corr()\n",
        "sns.heatmap(corr, mask=np.zeros_like(corr, dtype=np.bool), cmap=sns.diverging_palette(220, 10, as_cmap=True),\n",
        "            square=True)"
      ]
    },
    {
      "cell_type": "code",
      "execution_count": null,
      "metadata": {
        "_cell_guid": "99278d98-cd21-7952-6391-44a01d2d121b"
      },
      "outputs": [],
      "source": [
        "\n",
        "y_train = train[\"price_doc\"]\n",
        "x_test = test.drop([\"id\"], axis=1)\n",
        "#x_test = test[[\"id\",\"timestamp\",\"full_sq\",\"life_sq\",\"floor\",\"build_year\",\"max_floor\",\"kitch_sq\",\"num_room\",\"state\"]]\n",
        "x_train = train.drop([\"id\" ,\"price_doc\"], axis=1)\n",
        "#x_train = train[[\"id\",\"timestamp\",\"full_sq\",\"life_sq\",\"floor\",\"build_year\",\"max_floor\",\"kitch_sq\",\"num_room\",\"state\"]]\n",
        "\n",
        "#x_train=x_train.merge(macro[['timestamp','cpi','ppi','usdrub','eurrub','brent']], left_on='timestamp', right_on='timestamp', how='left')\n",
        "\n",
        "\n",
        "#____________  append macro data\n",
        "x_train=x_train.merge(macro, left_on='timestamp', right_on='timestamp', how='left')\n",
        "#x_test=x_test.merge(macro[['timestamp','cpi','ppi','usdrub','eurrub','brent']], left_on='timestamp', right_on='timestamp', how='left')\n",
        "x_test=x_test.merge(macro, left_on='timestamp', right_on='timestamp', how='left')\n",
        "\n",
        "\n",
        "#_________________  drop empty columns\n",
        "x_train=x_train.dropna(axis=1, how='all')\n",
        "x_test=x_test.dropna(axis=1, how='all')\n",
        "#can't merge train with test because the kernel run for very long time\n",
        "#child_on_acc_pre_school,modern_education_share,old_education_build_share \n",
        "x_train = x_train.drop([\"timestamp\"], axis=1)\n",
        "x_test = x_test.drop([\"timestamp\"], axis=1)\n",
        "# find mutual columns\n",
        "traincol=list(x_train.columns.values)\n",
        "testcol=list(x_test.columns.values)\n",
        "mutucol=list(set(traincol).intersection(testcol))\n",
        "# reshape dataframes\n",
        "x_train=x_train[mutucol]\n",
        "x_test=x_test[mutucol]\n",
        "\n",
        "\n",
        "print(x_train.head())\n",
        "#print(x_test.info(10))\n",
        "for c in x_train.columns:\n",
        "    if x_train[c].dtype == 'object':\n",
        "        lbl = preprocessing.LabelEncoder()\n",
        "        lbl.fit(list(x_train[c].values)) \n",
        "        x_train[c] = lbl.transform(list(x_train[c].values))\n",
        "        #x_train.drop(c,axis=1,inplace=True)\n",
        "        \n",
        "for c in x_test.columns:\n",
        "    if x_test[c].dtype == 'object':\n",
        "        lbl = preprocessing.LabelEncoder()\n",
        "        lbl.fit(list(x_test[c].values)) \n",
        "        x_test[c] = lbl.transform(list(x_test[c].values))\n",
        "        #x_test.drop(c,axis=1,inplace=True)        "
      ]
    },
    {
      "cell_type": "code",
      "execution_count": null,
      "metadata": {
        "_cell_guid": "a0fad4f7-c238-9ba7-164b-c6393b8f4a5a"
      },
      "outputs": [],
      "source": [
        "xn_train=x_train.convert_objects(convert_numeric=True).fillna(value=0.0)\n",
        "xn_test=x_test.convert_objects(convert_numeric=True).fillna(value=0.0)\n",
        "#print(xn_train)\n",
        "xno_train = (xn_train - xn_train.mean()) / (xn_train.max() - xn_train.min())\n",
        "xno_test = (xn_test - xn_test.mean()) / (xn_test.max() - xn_test.min())\n",
        "#print(xno_train)\n",
        "\n",
        "#------------------\n",
        "# test first\n",
        "top=  (  xno_test[:1].dot(xno_train.T) / ( abs(xno_test[:1]).dot(abs(xno_train.T))) ).T\n",
        "top.columns=['corre']\n",
        "print(top.max())\n",
        "print(float(train.iloc[top[top['corre']==top['corre'].max()].index]['price_doc']))\n",
        "\n",
        "result=[]\n",
        "for xi in range(len(xno_test)):\n",
        "    top=  (  xno_test[xi:xi+1].dot(xno_train.T) / ( abs(xno_test[xi:xi+1]).dot(abs(xno_train.T))) ).T\n",
        "    top.columns=['corre']\n",
        "    result.append( float( train.iloc[top[top['corre']==top['corre'].max()].index]['price_doc']) )\n",
        "    \n",
        "result.to_csv('xgbSub_3.csv', index=False)"
      ]
    },
    {
      "cell_type": "code",
      "execution_count": null,
      "metadata": {
        "_cell_guid": "6fef7514-5663-5363-6083-6d7dfc6fb25e"
      },
      "outputs": [],
      "source": [
        "cv_output = xgb.cv(xgb_params, dtrain, num_boost_round=10, early_stopping_rounds=10,\n",
        "    verbose_eval=10, show_stdv=False)\n",
        "cv_output[['train-rmse-mean', 'test-rmse-mean']].plo"
      ]
    },
    {
      "cell_type": "code",
      "execution_count": null,
      "metadata": {
        "_cell_guid": "8face308-e893-d5bd-5540-a1885a813efa"
      },
      "outputs": [],
      "source": [
        "xgb_params = {\n",
        "    'max_depth': 7,\n",
        "    'min_child_weight': 3,   \n",
        "    'objective': 'reg:linear',\n",
        "    'eval_metric': 'rmse',\n",
        "    'silent': 1,\n",
        "    'nthread':12,\n",
        "    'silent':1,\n",
        "}\n",
        "cv_output = xgb.cv(xgb_params, dtrain, num_boost_round=100, early_stopping_rounds=10,\n",
        "    verbose_eval=6, show_stdv=False)"
      ]
    },
    {
      "cell_type": "code",
      "execution_count": null,
      "metadata": {
        "_cell_guid": "a96d1965-8328-35b0-d0a3-dfcfa77275ab"
      },
      "outputs": [],
      "source": [
        "num_boost_rounds = len(cv_output)\n",
        "model = xgb.train(dict(xgb_params, silent=0), dtrain, num_boost_round= num_boost_rounds)"
      ]
    },
    {
      "cell_type": "code",
      "execution_count": null,
      "metadata": {
        "_cell_guid": "2a04f7d8-3efa-df54-713e-f6222453c60b"
      },
      "outputs": [],
      "source": [
        "fig, ax = plt.subplots(1, 1, figsize=(8, 13))\n",
        "xgb.plot_importance(model, max_num_features=50, height=0.5, ax=ax)"
      ]
    },
    {
      "cell_type": "code",
      "execution_count": null,
      "metadata": {
        "_cell_guid": "27d0831f-df36-2608-b11a-a335c9a79613"
      },
      "outputs": [],
      "source": [
        "y_predict = model.predict(dtest)\n",
        "output = pd.DataFrame({'id': id_test, 'price_doc': y_predict})\n",
        "output.head()"
      ]
    },
    {
      "cell_type": "code",
      "execution_count": null,
      "metadata": {
        "_cell_guid": "0a5dbdee-3e96-aded-9c71-2e2c72af3e5a"
      },
      "outputs": [],
      "source": [
        "output.to_csv('xgbSub_2.csv', index=False)"
      ]
    }
  ],
  "metadata": {
    "_change_revision": 0,
    "_is_fork": false,
    "kernelspec": {
      "display_name": "Python 3",
      "language": "python",
      "name": "python3"
    },
    "language_info": {
      "codemirror_mode": {
        "name": "ipython",
        "version": 3
      },
      "file_extension": ".py",
      "mimetype": "text/x-python",
      "name": "python",
      "nbconvert_exporter": "python",
      "pygments_lexer": "ipython3",
      "version": "3.6.0"
    }
  },
  "nbformat": 4,
  "nbformat_minor": 0
}