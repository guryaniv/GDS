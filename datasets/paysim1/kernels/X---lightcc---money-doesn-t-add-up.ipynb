{
  "cells": [
    {
      "cell_type": "markdown",
      "metadata": {
        "_cell_guid": "9a5d6243-2822-c6e6-e901-dc6ebd823f29"
      },
      "source": [
        "First, read in the data."
      ]
    },
    {
      "cell_type": "code",
      "execution_count": null,
      "metadata": {
        "_cell_guid": "29ef415f-fcc3-1462-cb4b-f818cf9fe8b6"
      },
      "outputs": [],
      "source": [
        "import pandas as pd\n",
        "import numpy as np\n",
        "import seaborn as sns\n",
        "import matplotlib.pyplot as plt\n",
        "%matplotlib inline\n",
        "import plotly.offline as py\n",
        "py.init_notebook_mode(connected=True)\n",
        "import plotly.graph_objs as go\n",
        "import plotly.tools as tls\n",
        "import warnings\n",
        "warnings.filterwarnings('ignore')\n",
        "\n",
        "# subsample\n",
        "df = pd.read_csv(\"../input/PS_20174392719_1491204439457_log.csv\")#, nrows=int(1e6))\n",
        "df.head()"
      ]
    },
    {
      "cell_type": "markdown",
      "metadata": {
        "_cell_guid": "dd777ecc-fbbe-86aa-3f72-009d2ebaf1c1"
      },
      "source": [
        "Let's take a colser look at row 2: `1\tTRANSFER\t181.0\tC1305486145\t181.0\t0.0\tC553264065\t0.0\t0.0\t1\t0`. C1305486145 transfered 181.0 to C553264065 and the balance of C1305486145 decreased by181.0. But why does the balance of the destination C553264065 remain zero? The following query shows that row 2 is the only one row contains records related to C553264065, can anyone explain that to me?"
      ]
    },
    {
      "cell_type": "code",
      "execution_count": null,
      "metadata": {
        "_cell_guid": "c8335b14-99f5-b033-5161-a961c307c71b"
      },
      "outputs": [],
      "source": [
        "df.query('step == 1 and (nameOrig == \"C553264065\" or nameDest == \"C553264065\")')"
      ]
    },
    {
      "cell_type": "code",
      "execution_count": null,
      "metadata": {
        "_cell_guid": "80169f21-f2cb-1c03-2aaa-5e1b2d288613"
      },
      "outputs": [],
      "source": ""
    }
  ],
  "metadata": {
    "_change_revision": 0,
    "_is_fork": false,
    "kernelspec": {
      "display_name": "Python 3",
      "language": "python",
      "name": "python3"
    },
    "language_info": {
      "codemirror_mode": {
        "name": "ipython",
        "version": 3
      },
      "file_extension": ".py",
      "mimetype": "text/x-python",
      "name": "python",
      "nbconvert_exporter": "python",
      "pygments_lexer": "ipython3",
      "version": "3.6.0"
    }
  },
  "nbformat": 4,
  "nbformat_minor": 0
}