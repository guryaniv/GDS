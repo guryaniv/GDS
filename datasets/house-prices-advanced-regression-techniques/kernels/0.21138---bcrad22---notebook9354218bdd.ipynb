{
  "cells": [
    {
      "cell_type": "code",
      "execution_count": null,
      "metadata": {
        "_cell_guid": "468e7496-d457-06f1-1074-da3ec7b8afc5"
      },
      "outputs": [],
      "source": [
        "import numpy as np\n",
        "import pandas as pd\n",
        "import matplotlib.pyplot as plt\n",
        "from sklearn import preprocessing\n",
        "from sklearn.model_selection import train_test_split\n",
        "from sklearn.neural_network import MLPClassifier\n",
        "from sklearn import linear_model"
      ]
    },
    {
      "cell_type": "code",
      "execution_count": null,
      "metadata": {
        "_cell_guid": "069bf10c-03f1-8f3f-0452-5e793828dc1f"
      },
      "outputs": [],
      "source": [
        "# Import the data\n",
        "\n",
        "train_df = pd.read_csv('../input/train.csv')\n",
        "test_df = pd.read_csv('../input/test.csv')"
      ]
    },
    {
      "cell_type": "code",
      "execution_count": null,
      "metadata": {
        "_cell_guid": "adc3beca-dd3f-2cfd-4d95-60ecb77b5c0e"
      },
      "outputs": [],
      "source": [
        "train_features = train_df[['MSSubClass',\n",
        "                           'LotFrontage',\n",
        "                           'LotArea',\n",
        "                           'OverallQual',\n",
        "                           'OverallCond',\n",
        "                           'YearBuilt',\n",
        "                           'YearRemodAdd',\n",
        "                           'MasVnrArea',\n",
        "                           'BsmtFinSF1',\n",
        "                           'BsmtFinSF2',\n",
        "                           'TotalBsmtSF',\n",
        "                           '1stFlrSF',\n",
        "                           '2ndFlrSF',\n",
        "                           'LowQualFinSF',\n",
        "                           'GrLivArea',\n",
        "                           'BsmtFullBath',\n",
        "                           'BsmtHalfBath',\n",
        "                           'FullBath',\n",
        "                           'HalfBath',\n",
        "                           'BedroomAbvGr',\n",
        "                           'KitchenAbvGr',\n",
        "                           'TotRmsAbvGrd',\n",
        "                           'Fireplaces',\n",
        "                           'GarageYrBlt',\n",
        "                           'GarageCars',\n",
        "                           'GarageArea',\n",
        "                           'WoodDeckSF',\n",
        "                           'OpenPorchSF',\n",
        "                           'EnclosedPorch',\n",
        "                           '3SsnPorch',\n",
        "                           'ScreenPorch',\n",
        "                           'PoolArea',\n",
        "                           'MiscVal',\n",
        "                           'MoSold',\n",
        "                           'YrSold',\n",
        "                           'SalePrice']]\n",
        "train_features = train_features.astype('float')\n",
        "train_features = train_features.fillna(-9999)\n",
        "train_labels = train_features['SalePrice']\n",
        "train_features = train_features.drop(train_features.columns[[19]],1)\n",
        "#print(train_features.dtypes)\n",
        "#print(train_df.dtypes[60:])"
      ]
    },
    {
      "cell_type": "code",
      "execution_count": null,
      "metadata": {
        "_cell_guid": "2fc9c6f7-53e7-13da-9517-382690eaa6de"
      },
      "outputs": [],
      "source": [
        "test_features = test_df[['MSSubClass',\n",
        "                           'LotFrontage',\n",
        "                           'LotArea',\n",
        "                           'OverallQual',\n",
        "                           'OverallCond',\n",
        "                           'YearBuilt',\n",
        "                           'YearRemodAdd',\n",
        "                           'MasVnrArea',\n",
        "                           'BsmtFinSF1',\n",
        "                           'BsmtFinSF2',\n",
        "                           'TotalBsmtSF',\n",
        "                           '1stFlrSF',\n",
        "                           '2ndFlrSF',\n",
        "                           'LowQualFinSF',\n",
        "                           'GrLivArea',\n",
        "                           'BsmtFullBath',\n",
        "                           'BsmtHalfBath',\n",
        "                           'FullBath',\n",
        "                           'HalfBath',\n",
        "                           'BedroomAbvGr',\n",
        "                           'KitchenAbvGr',\n",
        "                           'TotRmsAbvGrd',\n",
        "                           'Fireplaces',\n",
        "                           'GarageYrBlt',\n",
        "                           'GarageCars',\n",
        "                           'GarageArea',\n",
        "                           'WoodDeckSF',\n",
        "                           'OpenPorchSF',\n",
        "                           'EnclosedPorch',\n",
        "                           '3SsnPorch',\n",
        "                           'ScreenPorch',\n",
        "                           'PoolArea',\n",
        "                           'MiscVal',\n",
        "                           'MoSold',\n",
        "                           'YrSold']]\n",
        "test_features = test_features.astype('float')\n",
        "test_features = test_features.fillna(-99999)"
      ]
    },
    {
      "cell_type": "code",
      "execution_count": null,
      "metadata": {
        "_cell_guid": "4d9d3bfd-490d-2c41-5f68-3dfa1e7eadd6"
      },
      "outputs": [],
      "source": [
        "# Scale data\n",
        "train_features = preprocessing.scale(train_features)\n",
        "test_features = preprocessing.scale(test_features)\n",
        "#print(test_features)"
      ]
    },
    {
      "cell_type": "code",
      "execution_count": null,
      "metadata": {
        "_cell_guid": "c491d403-43ab-aa15-3da6-3e1ab12fa09a"
      },
      "outputs": [],
      "source": [
        "X_train, X_test, y_train, y_test = train_test_split(train_features, train_labels, test_size=20)\n",
        "#print(len(X_train))\n",
        "#print(len(X_test))\n",
        "#print(len(y_train))\n",
        "#print(len(y_test))\n",
        "#print(y_test.head())"
      ]
    },
    {
      "cell_type": "code",
      "execution_count": null,
      "metadata": {
        "_cell_guid": "401d1bd7-06f6-3c84-701b-13e61224d344"
      },
      "outputs": [],
      "source": [
        "clf = MLPClassifier()\n",
        "clf.fit(train_features, train_labels)"
      ]
    },
    {
      "cell_type": "code",
      "execution_count": null,
      "metadata": {
        "_cell_guid": "1240e828-df58-0ba5-2ebe-e877530f326e"
      },
      "outputs": [],
      "source": [
        "# Split test score\n",
        "\n",
        "#score = clf.score(X_test, y_test)\n",
        "#print(score)\n",
        "#print(y_test.head())"
      ]
    },
    {
      "cell_type": "code",
      "execution_count": null,
      "metadata": {
        "_cell_guid": "c3e1020f-51a4-c959-fddd-605330fe86b0"
      },
      "outputs": [],
      "source": [
        "prediction = clf.predict(test_features)\n",
        "print(prediction)"
      ]
    },
    {
      "cell_type": "code",
      "execution_count": null,
      "metadata": {
        "_cell_guid": "ede92575-4dc0-3128-7398-c775fb981824"
      },
      "outputs": [],
      "source": [
        "Id = []\n",
        "for i in range(len(test_features)):\n",
        "    Id.append(i+1461)\n",
        "\n",
        "submission = pd.DataFrame({\n",
        "    'Id': Id,\n",
        "    'SalePrice': prediction\n",
        "})\n",
        "print(submission)\n",
        "print(len(submission))"
      ]
    },
    {
      "cell_type": "code",
      "execution_count": null,
      "metadata": {
        "_cell_guid": "5e6d64e6-5c9d-2fa7-63ff-6e05801e1040"
      },
      "outputs": [],
      "source": [
        "submission.to_csv('kaggle_house.csv', index=False)"
      ]
    },
    {
      "cell_type": "code",
      "execution_count": null,
      "metadata": {
        "_cell_guid": "47c2354b-f797-02c4-5840-f08376f8337c"
      },
      "outputs": [],
      "source": ""
    }
  ],
  "metadata": {
    "_change_revision": 0,
    "_is_fork": false,
    "kernelspec": {
      "display_name": "Python 3",
      "language": "python",
      "name": "python3"
    },
    "language_info": {
      "codemirror_mode": {
        "name": "ipython",
        "version": 3
      },
      "file_extension": ".py",
      "mimetype": "text/x-python",
      "name": "python",
      "nbconvert_exporter": "python",
      "pygments_lexer": "ipython3",
      "version": "3.5.2"
    }
  },
  "nbformat": 4,
  "nbformat_minor": 0
}