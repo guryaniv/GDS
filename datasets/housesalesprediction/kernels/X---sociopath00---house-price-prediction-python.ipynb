{
  "cells": [
    {
      "cell_type": "markdown",
      "metadata": {
        "_cell_guid": "c483ea0e-96fe-e2cb-f8ec-5e427e3f641b"
      },
      "source": [
        "House Price Prediction using Linear Regression\n",
        "----------------------------------------------"
      ]
    },
    {
      "cell_type": "code",
      "execution_count": null,
      "metadata": {
        "_cell_guid": "b63f30c9-55bb-32b8-4900-4f24452dc53e"
      },
      "outputs": [],
      "source": [
        "# This Python 3 environment comes with many helpful analytics libraries installed\n",
        "# It is defined by the kaggle/python docker image: https://github.com/kaggle/docker-python\n",
        "# For example, here's several helpful packages to load in \n",
        "\n",
        "#import numpy as np # linear algebra\n",
        "#import pandas as pd # data processing, CSV file I/O (e.g. pd.read_csv)\n",
        "\n",
        "# Input data files are available in the \"../input/\" directory.\n",
        "# For example, running this (by clicking run or pressing Shift+Enter) will list the files in the input directory\n",
        "\n",
        "from subprocess import check_output\n",
        "print(check_output([\"ls\", \"../input\"]).decode(\"utf8\"))\n",
        "\n",
        "# Any results you write to the current directory are saved as output."
      ]
    },
    {
      "cell_type": "code",
      "execution_count": null,
      "metadata": {
        "_cell_guid": "024ee48c-ac30-297c-97c2-f4c64ccc85a2"
      },
      "outputs": [],
      "source": [
        "import pandas as pd\n",
        "import numpy as np\n",
        "import scipy as sp\n",
        "import seaborn as sns\n",
        "import matplotlib.pyplot as plt\n",
        "from sklearn.model_selection import train_test_split\n",
        "from sklearn.linear_model import LinearRegression\n",
        "from sklearn import metrics\n",
        "\n",
        "%matplotlib inline"
      ]
    },
    {
      "cell_type": "code",
      "execution_count": null,
      "metadata": {
        "_cell_guid": "62b5a629-d35f-126c-a9ae-6513de40d26a"
      },
      "outputs": [],
      "source": [
        "data= pd.read_csv(\"../input/kc_house_data.csv\")\n",
        "data.head()"
      ]
    },
    {
      "cell_type": "code",
      "execution_count": null,
      "metadata": {
        "_cell_guid": "891f8233-5bab-9349-cc62-b5a4be92ea3f"
      },
      "outputs": [],
      "source": [
        "data.describe(include=[np.number])"
      ]
    },
    {
      "cell_type": "code",
      "execution_count": null,
      "metadata": {
        "_cell_guid": "3ef6810d-f1fb-8e2e-a386-904023b95b6d"
      },
      "outputs": [],
      "source": [
        "data.isnull().sum()  #Data not having any NaNs"
      ]
    },
    {
      "cell_type": "code",
      "execution_count": null,
      "metadata": {
        "_cell_guid": "7ea2318b-4427-c27e-ebf6-0d37dac3a8ce"
      },
      "outputs": [],
      "source": [
        "names=['price','bedrooms','bathrooms','sqft_living','sqft_lot','floors','waterfront','view','condition','grade','sqft_above','sqft_basement','zipcode','lat','long']\n",
        "df=data[names]\n",
        "correlations= df.corr()\n",
        "fig=plt.figure()\n",
        "ax=fig.add_subplot(111)\n",
        "cax=ax.matshow(correlations,vmin=-1,vmax=1)\n",
        "fig.colorbar(cax)\n",
        "ticks=np.arange(0,15,1)\n",
        "ax.set_xticks(ticks)\n",
        "ax.set_yticks(ticks)\n",
        "ax.set_xticklabels(names)\n",
        "ax.set_yticklabels(names)\n",
        "plt.show()"
      ]
    },
    {
      "cell_type": "markdown",
      "metadata": {
        "_cell_guid": "b528a325-dc24-f71e-9fc0-868839440c82"
      },
      "source": [
        "Top 5 features:\n",
        "\n",
        " 1. bedrooms\n",
        " 2. bathrooms\n",
        " 3. sqft_living\n",
        " 4. sqft_above\n",
        " 5. grade"
      ]
    },
    {
      "cell_type": "markdown",
      "metadata": {
        "_cell_guid": "1bd4c2fa-5d71-e87d-6f54-11c37a526ae7"
      },
      "source": [
        "Now Let's convert nominal and ordinal features into category.\n"
      ]
    },
    {
      "cell_type": "code",
      "execution_count": null,
      "metadata": {
        "_cell_guid": "c7d723ef-640b-c933-141a-21a024045027"
      },
      "outputs": [],
      "source": [
        "data['waterfront'] = data['waterfront'].astype('category',ordered=True)\n",
        "data['view'] = data['view'].astype('category',ordered=True)\n",
        "data['condition'] = data['condition'].astype('category',ordered=True)\n",
        "data['grade'] = data['grade'].astype('category',ordered=False)\n",
        "data['zipcode'] = data['zipcode'].astype('category',ordered=False)"
      ]
    },
    {
      "cell_type": "code",
      "execution_count": null,
      "metadata": {
        "_cell_guid": "79e1e302-72d2-74c1-c453-0d621a70e16d"
      },
      "outputs": [],
      "source": [
        "data.dtypes"
      ]
    },
    {
      "cell_type": "markdown",
      "metadata": {
        "_cell_guid": "95651eaf-dbf5-a8f6-4c63-2964e63ef871"
      },
      "source": [
        "## Exploratory Analysis ##"
      ]
    },
    {
      "cell_type": "code",
      "execution_count": null,
      "metadata": {
        "_cell_guid": "f6ba66b4-a114-36e6-3a26-aa4fc47401d1"
      },
      "outputs": [],
      "source": [
        "#sns.set_style()\n",
        "sns.regplot(x='sqft_living',y='price',data=data)"
      ]
    },
    {
      "cell_type": "code",
      "execution_count": null,
      "metadata": {
        "_cell_guid": "0231a8ef-5057-d2b1-9640-3272c8292fcb"
      },
      "outputs": [],
      "source": [
        "sns.regplot(x='sqft_basement',y='price',data=data)"
      ]
    },
    {
      "cell_type": "code",
      "execution_count": null,
      "metadata": {
        "_cell_guid": "f33633b8-2fad-965e-902b-ef868baa1e9a"
      },
      "outputs": [],
      "source": [
        "sns.regplot(x='sqft_above',y='price',data=data)"
      ]
    },
    {
      "cell_type": "code",
      "execution_count": null,
      "metadata": {
        "_cell_guid": "a09cf90c-69b3-058b-5c59-cd6dc7415544"
      },
      "outputs": [],
      "source": [
        "sns.stripplot(x='bedrooms', y='price',data=data)"
      ]
    },
    {
      "cell_type": "markdown",
      "metadata": {
        "_cell_guid": "fb23849e-271f-ecf1-bf18-659ce29d10cb"
      },
      "source": [
        "The graph indicates that the relation of price with bedrooms. Price goes up with number of bedrooms upto 6 and then comes down as no of bedrooms increase."
      ]
    },
    {
      "cell_type": "code",
      "execution_count": null,
      "metadata": {
        "_cell_guid": "c3ded852-b88b-3b17-98bd-cc758f2780bd"
      },
      "outputs": [],
      "source": [
        "sns.stripplot(x='bathrooms', y='price',data=data, size=5)"
      ]
    },
    {
      "cell_type": "code",
      "execution_count": null,
      "metadata": {
        "_cell_guid": "3554b06a-6c70-1e7e-14a3-bd36a22a3ba9"
      },
      "outputs": [],
      "source": [
        "sns.stripplot(x='grade', y='price',data=data, size=5)"
      ]
    },
    {
      "cell_type": "markdown",
      "metadata": {
        "_cell_guid": "98684fb6-51a7-77b8-82fd-cb5bcb84c7cb"
      },
      "source": [
        "Price of the house is dependent on grade of the house, higher the grade higher the price."
      ]
    },
    {
      "cell_type": "markdown",
      "metadata": {
        "_cell_guid": "e042b97d-fe44-549a-12c9-13e674e6c1f9"
      },
      "source": [
        "We can remove outliers from data like house with bedrooms > 9 and bathrooms>7."
      ]
    },
    {
      "cell_type": "code",
      "execution_count": null,
      "metadata": {
        "_cell_guid": "f0ca8305-568c-7385-1774-e9ff1426ddeb"
      },
      "outputs": [],
      "source": [
        "data=data[data['bedrooms'] < 10]"
      ]
    },
    {
      "cell_type": "code",
      "execution_count": null,
      "metadata": {
        "_cell_guid": "94391ce9-4280-9fd7-9897-6a39735e34f8"
      },
      "outputs": [],
      "source": [
        "data=data[data['bathrooms']<8]"
      ]
    },
    {
      "cell_type": "code",
      "execution_count": null,
      "metadata": {
        "_cell_guid": "f33b3f5d-65ee-f304-c43e-d183e3d58c6e"
      },
      "outputs": [],
      "source": [
        "data.head()"
      ]
    },
    {
      "cell_type": "markdown",
      "metadata": {
        "_cell_guid": "f06eed0a-8c64-a9ae-ad74-1d7e266d04e0"
      },
      "source": [
        "Building a model with top 5 parameters\n",
        "----------------"
      ]
    },
    {
      "cell_type": "code",
      "execution_count": null,
      "metadata": {
        "_cell_guid": "8278be08-1b3a-d144-6ea1-e6c3f9bc8452"
      },
      "outputs": [],
      "source": [
        "c=['bedrooms','bathrooms','sqft_living','sqft_above','grade']\n",
        "df=data[c]"
      ]
    },
    {
      "cell_type": "code",
      "execution_count": null,
      "metadata": {
        "_cell_guid": "3c946211-2951-7176-5c28-690053736673"
      },
      "outputs": [],
      "source": [
        "df=pd.get_dummies(df,columns=['grade'], drop_first=True)"
      ]
    },
    {
      "cell_type": "code",
      "execution_count": null,
      "metadata": {
        "_cell_guid": "9cada7d6-fba9-c884-e2c3-d1d837e5c190"
      },
      "outputs": [],
      "source": [
        "y=data['price']"
      ]
    },
    {
      "cell_type": "code",
      "execution_count": null,
      "metadata": {
        "_cell_guid": "d7fe2818-f405-4a2e-c341-a9909b987ef4"
      },
      "outputs": [],
      "source": [
        "x_train,x_test,y_train,y_test=train_test_split(df,y,train_size=0.8,random_state=42)"
      ]
    },
    {
      "cell_type": "code",
      "execution_count": null,
      "metadata": {
        "_cell_guid": "0bd58df6-a4d8-b929-0768-7d947e53e6d4"
      },
      "outputs": [],
      "source": [
        "x_train.head()"
      ]
    },
    {
      "cell_type": "code",
      "execution_count": null,
      "metadata": {
        "_cell_guid": "eee1ad39-2e55-195d-87f7-59d664d0a40a"
      },
      "outputs": [],
      "source": [
        "reg=LinearRegression()"
      ]
    },
    {
      "cell_type": "code",
      "execution_count": null,
      "metadata": {
        "_cell_guid": "b824505b-917b-0c71-4f2c-019fdc241197"
      },
      "outputs": [],
      "source": [
        "reg.fit(x_train,y_train)"
      ]
    },
    {
      "cell_type": "code",
      "execution_count": null,
      "metadata": {
        "_cell_guid": "ab3797ef-95f5-72b9-b402-e07b11403077"
      },
      "outputs": [],
      "source": [
        "print('Coefficients: \\n', reg.coef_)\n",
        "#Coefficients: \n",
        "# [ -2.29668616e+04  -2.58269301e+03   2.31278874e+02  -9.49870688e+01\n",
        "# -5.30622026e+05  -4.81879701e+05  -4.82543663e+05  -4.51474787e+05\n",
        "# -4.19169329e+05  -3.40826437e+05  -1.99835359e+05   7.81207530e+03\n",
        "#  2.84775801e+05   8.46419807e+05   1.76734362e+06]"
      ]
    },
    {
      "cell_type": "code",
      "execution_count": null,
      "metadata": {
        "_cell_guid": "10f4252f-8ad7-ad10-478e-f4a74c65ec7e"
      },
      "outputs": [],
      "source": [
        "print(metrics.mean_squared_error(y_test, reg.predict(x_test)))\n",
        "#58127859345.8"
      ]
    },
    {
      "cell_type": "code",
      "execution_count": null,
      "metadata": {
        "_cell_guid": "811c0ad1-a291-2ff6-f4e0-57c98f910534"
      },
      "outputs": [],
      "source": [
        "reg.score(x_test,y_test)\n",
        "#0.6035"
      ]
    },
    {
      "cell_type": "markdown",
      "metadata": {
        "_cell_guid": "d5623146-99b6-a962-6070-0e2b4e85d016"
      },
      "source": [
        "Building a model with all parameters\n",
        "------------------------------------"
      ]
    },
    {
      "cell_type": "code",
      "execution_count": null,
      "metadata": {
        "_cell_guid": "25fff918-bd31-c162-f2bf-9c9aa85d83cb"
      },
      "outputs": [],
      "source": [
        "df=pd.get_dummies(data,columns=['waterfront','view','condition','grade','zipcode'], drop_first=True)"
      ]
    },
    {
      "cell_type": "code",
      "execution_count": null,
      "metadata": {
        "_cell_guid": "9e2873cc-8f92-1c23-56e3-50ffa06bdbf3"
      },
      "outputs": [],
      "source": [
        "y=data['price']\n",
        "df= df.drop(['date','id','price'],axis=1)\n"
      ]
    },
    {
      "cell_type": "code",
      "execution_count": null,
      "metadata": {
        "_cell_guid": "4f892623-4c98-3f15-3c84-f5b5e5719432"
      },
      "outputs": [],
      "source": [
        "x_train,x_test,y_train,y_test=train_test_split(df,y,train_size=0.8,random_state=42)"
      ]
    },
    {
      "cell_type": "code",
      "execution_count": null,
      "metadata": {
        "_cell_guid": "705c2177-2cb7-1a2a-1255-cc7834a98be9"
      },
      "outputs": [],
      "source": [
        "reg.fit(x_train,y_train)"
      ]
    },
    {
      "cell_type": "code",
      "execution_count": null,
      "metadata": {
        "_cell_guid": "fa50a3f6-7a2e-8360-d7f3-1ff977435529"
      },
      "outputs": [],
      "source": [
        "print('Coefficients: \\n', reg.coef_)\n",
        "print(metrics.mean_squared_error(y_test, reg.predict(x_test)))\n",
        "print(reg.score(x_test,y_test))"
      ]
    },
    {
      "cell_type": "markdown",
      "metadata": {
        "_cell_guid": "e56e602b-81bd-eb50-4acf-8fe9e75cbd29"
      },
      "source": [
        " - Mean Square Error: 24035065564.4\n",
        " - R-square:  0.832372084112"
      ]
    },
    {
      "cell_type": "code",
      "execution_count": null,
      "metadata": {
        "_cell_guid": "14280ff4-faf2-856b-f8f5-8889b7a26702"
      },
      "outputs": [],
      "source": ""
    }
  ],
  "metadata": {
    "_change_revision": 0,
    "_is_fork": false,
    "kernelspec": {
      "display_name": "Python 3",
      "language": "python",
      "name": "python3"
    },
    "language_info": {
      "codemirror_mode": {
        "name": "ipython",
        "version": 3
      },
      "file_extension": ".py",
      "mimetype": "text/x-python",
      "name": "python",
      "nbconvert_exporter": "python",
      "pygments_lexer": "ipython3",
      "version": "3.6.0"
    }
  },
  "nbformat": 4,
  "nbformat_minor": 0
}