{
  "cells": [
    {
      "cell_type": "markdown",
      "metadata": {
        "_cell_guid": "f89f1d86-689f-ce34-3f44-48556a1d4db9"
      },
      "source": ""
    },
    {
      "cell_type": "code",
      "execution_count": null,
      "metadata": {
        "_cell_guid": "504f5fbf-d496-db00-a3a9-e4fc45e8db91"
      },
      "outputs": [],
      "source": [
        "import time\n",
        "import pandas as pd\n",
        "import numpy as np\n",
        "from pandas import DataFrame,Series\n",
        "\n",
        "from sklearn import linear_model, cross_validation, feature_selection, manifold, decomposition, random_projection\n",
        "from sklearn.preprocessing import MinMaxScaler,LabelEncoder\n",
        "from sklearn.ensemble import GradientBoostingClassifier,BaggingRegressor,RandomForestClassifier\n",
        "from sklearn.learning_curve import learning_curve\n",
        "from sklearn.cross_validation import StratifiedKFold\n",
        "from sklearn.svm import LinearSVC,SVC\n",
        "from sklearn.metrics import log_loss\n",
        "#import\u6240\u9700\u7684package\n",
        "from sklearn.multiclass import OneVsRestClassifier\n",
        "from sklearn.discriminant_analysis import LinearDiscriminantAnalysis\n",
        "from sklearn.grid_search import GridSearchCV\n",
        "\n",
        "import matplotlib.pyplot as plt\n",
        "import seaborn as sns\n",
        "\n",
        "%matplotlib inline"
      ]
    },
    {
      "cell_type": "code",
      "execution_count": null,
      "metadata": {
        "_cell_guid": "5e518581-dbb8-8161-8de7-140e09a1389e"
      },
      "outputs": [],
      "source": [
        "train_df = pd.read_csv('../input/train.csv')\n",
        "train_df.fillna(0,inplace=True)\n",
        "train_df"
      ]
    },
    {
      "cell_type": "code",
      "execution_count": null,
      "metadata": {
        "_cell_guid": "9e0a1c40-9475-a3d3-e08b-ca5d99b834af"
      },
      "outputs": [],
      "source": [
        "le = LabelEncoder().fit(train_df.species)\n",
        "labels = le.transform(train_df.species)\n",
        "labels"
      ]
    },
    {
      "cell_type": "code",
      "execution_count": null,
      "metadata": {
        "_cell_guid": "c2cfa0ef-088e-bbb7-4270-f53af95bbef2"
      },
      "outputs": [],
      "source": [
        "df = train_df.copy()\n",
        "df.species = labels\n",
        "df.species"
      ]
    },
    {
      "cell_type": "code",
      "execution_count": null,
      "metadata": {
        "_cell_guid": "206b510c-61e1-e982-7ccb-7738491c2e89"
      },
      "outputs": [],
      "source": [
        "df.ix[:,2:] = MinMaxScaler().fit_transform(train_df.ix[:,2:])\n",
        "df"
      ]
    },
    {
      "cell_type": "code",
      "execution_count": null,
      "metadata": {
        "_cell_guid": "3e7547be-220d-196e-e83b-808be9fe827b"
      },
      "outputs": [],
      "source": [
        "X = df.as_matrix()[:,2:]\n",
        "y = df.as_matrix()[:,1]"
      ]
    },
    {
      "cell_type": "code",
      "execution_count": null,
      "metadata": {
        "_cell_guid": "267a66d8-51ba-3bd5-846c-ff245b8dc163"
      },
      "outputs": [],
      "source": ""
    },
    {
      "cell_type": "code",
      "execution_count": null,
      "metadata": {
        "_cell_guid": "87626bb1-7ace-585f-edbd-e641e2b5101b"
      },
      "outputs": [],
      "source": ""
    },
    {
      "cell_type": "code",
      "execution_count": null,
      "metadata": {
        "_cell_guid": "7ac7e780-999b-857f-978a-5bc10267e7a9"
      },
      "outputs": [],
      "source": ""
    },
    {
      "cell_type": "code",
      "execution_count": null,
      "metadata": {
        "_cell_guid": "80d95350-575c-a388-11d7-adc8d09f10ee"
      },
      "outputs": [],
      "source": ""
    },
    {
      "cell_type": "code",
      "execution_count": null,
      "metadata": {
        "_cell_guid": "84ce28f6-0ebc-6945-2e3e-bfd09479aee2"
      },
      "outputs": [],
      "source": ""
    },
    {
      "cell_type": "code",
      "execution_count": null,
      "metadata": {
        "_cell_guid": "95f0dcbc-c60f-2b80-8769-58e1f22019dd"
      },
      "outputs": [],
      "source": ""
    },
    {
      "cell_type": "code",
      "execution_count": null,
      "metadata": {
        "_cell_guid": "2ee2628d-73ab-691f-04c3-2fdc91a4eb73",
        "collapsed": true
      },
      "outputs": [],
      "source": ""
    },
    {
      "cell_type": "code",
      "execution_count": null,
      "metadata": {
        "_cell_guid": "c097570e-9817-2172-a656-b69cb81dd5fe"
      },
      "outputs": [],
      "source": ""
    },
    {
      "cell_type": "code",
      "execution_count": null,
      "metadata": {
        "_cell_guid": "22e42ff4-53c4-5ec2-a5f3-6dea19ed155f"
      },
      "outputs": [],
      "source": [
        "params = {'C':[1500, 2000, 2500], 'tol': [0.0001]}\n",
        "# solver='newton-cg' or 'lbfgs'\n",
        "log_reg = linear_model.LogisticRegression(solver='lbfgs', multi_class='multinomial', max_iter=400)\n",
        "clf = GridSearchCV(log_reg, params, scoring='log_loss', refit='True', n_jobs=-1, cv=5)\n",
        "clf.fit(X, y)\n",
        "\n",
        "print(\"best params: \" + str(clf.best_params_))\n",
        "for params, mean_score, scores in clf.grid_scores_:\n",
        "  print(\"%0.3f (+/-%0.03f) for %r\" % (mean_score, scores.std(), params))\n",
        "  print(scores)"
      ]
    },
    {
      "cell_type": "code",
      "execution_count": null,
      "metadata": {
        "_cell_guid": "ffbf6067-889a-5a1b-2b47-17cb2a3acca5"
      },
      "outputs": [],
      "source": [
        "estimator = clf\n",
        "# estimator.fit(X,y)"
      ]
    },
    {
      "cell_type": "code",
      "execution_count": null,
      "metadata": {
        "_cell_guid": "6743d211-a13c-b141-352f-782edd8bd1ee"
      },
      "outputs": [],
      "source": [
        "test_data = pd.read_csv('../input/test.csv')\n",
        "test_df = DataFrame(MinMaxScaler().fit_transform(test_data.ix[:,1:]))\n",
        "test_df"
      ]
    },
    {
      "cell_type": "code",
      "execution_count": null,
      "metadata": {
        "_cell_guid": "a44f7dd7-fa1a-45f7-a99b-5d8f8d0d7b81"
      },
      "outputs": [],
      "source": [
        "species = train_df.species.unique()\n",
        "species.sort()\n",
        "\n",
        "predict = estimator.predict_proba(test_df.as_matrix())\n",
        "result = DataFrame(predict,columns=species)\n",
        "result\n",
        "# train_df.species\n",
        "# print(predict)\n",
        "# decision = estimator.decision_function(test_df.as_matrix())\n",
        "# decision.shape"
      ]
    },
    {
      "cell_type": "code",
      "execution_count": null,
      "metadata": {
        "_cell_guid": "914b8d32-44df-d387-2831-5d5c909d6b17"
      },
      "outputs": [],
      "source": [
        "result.insert(0,'id',test_data.id)\n",
        "result.to_csv('result.csv',index=False)"
      ]
    },
    {
      "cell_type": "code",
      "execution_count": null,
      "metadata": {
        "_cell_guid": "1f99c5f7-4678-a5d1-d7cc-ba1cf719458a",
        "collapsed": true
      },
      "outputs": [],
      "source": ""
    }
  ],
  "metadata": {
    "_change_revision": 0,
    "_is_fork": false,
    "kernelspec": {
      "display_name": "Python 3",
      "language": "python",
      "name": "python3"
    },
    "language_info": {
      "codemirror_mode": {
        "name": "ipython",
        "version": 3
      },
      "file_extension": ".py",
      "mimetype": "text/x-python",
      "name": "python",
      "nbconvert_exporter": "python",
      "pygments_lexer": "ipython3",
      "version": "3.5.2"
    }
  },
  "nbformat": 4,
  "nbformat_minor": 0
}