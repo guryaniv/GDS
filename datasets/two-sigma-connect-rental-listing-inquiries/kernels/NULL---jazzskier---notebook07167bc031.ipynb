{
  "cells": [
    {
      "cell_type": "code",
      "execution_count": null,
      "metadata": {
        "_cell_guid": "9bba937c-641d-0baa-8a3a-e35d7aa3d324"
      },
      "outputs": [],
      "source": [
        "# This Python 3 environment comes with many helpful analytics libraries installed\n",
        "# It is defined by the kaggle/python docker image: https://github.com/kaggle/docker-python\n",
        "# For example, here's several helpful packages to load in \n",
        "\n",
        "import numpy as np # linear algebra\n",
        "import pandas as pd # data processing, CSV file I/O (e.g. pd.read_csv)\n",
        "\n",
        "# Input data files are available in the \"../input/\" directory.\n",
        "# For example, running this (by clicking run or pressing Shift+Enter) will list the files in the input directory\n",
        "\n",
        "from subprocess import check_output\n",
        "print(check_output([\"ls\", \"../input\"]).decode(\"utf8\"))\n",
        "\n",
        "\n",
        "X_train = pd.read_json(\"../input/train.json\")\n",
        "X_test = pd.read_json(\"../input/test.json\")\n",
        "\n",
        "# Any results you write to the current directory are saved as output."
      ]
    },
    {
      "cell_type": "code",
      "execution_count": null,
      "metadata": {
        "_cell_guid": "e198bb84-e94b-5fa1-36ab-36674e710239"
      },
      "outputs": [],
      "source": [
        "from sklearn.model_selection import train_test_split\n",
        "X_train.dropna(subset = ['interest_level'])\n",
        "X_train[\"num_photos\"] = X_train[\"photos\"].apply(len)\n",
        "X_train[\"num_features\"] = X_train[\"features\"].apply(len)\n",
        "X_train[\"num_description_words\"] = X_train[\"description\"].apply(lambda x: len(x.split(\" \")))\n",
        "X_train[\"created\"] = pd.to_datetime(X_train[\"created\"])\n",
        "X_train[\"created_year\"] = X_train[\"created\"].dt.year\n",
        "X_train[\"created_month\"] = X_train[\"created\"].dt.month\n",
        "X_train[\"created_day\"] = X_train[\"created\"].dt.day\n"
      ]
    },
    {
      "cell_type": "code",
      "execution_count": null,
      "metadata": {
        "_cell_guid": "59f694b5-af55-d409-fcfc-35152a327936"
      },
      "outputs": [],
      "source": [
        "X_test[\"num_photos\"] = X_test[\"photos\"].apply(len)\n",
        "X_test[\"num_features\"] = X_test[\"features\"].apply(len)\n",
        "X_test[\"num_description_words\"] = X_test[\"description\"].apply(lambda x: len(x.split(\" \")))\n",
        "X_test[\"created\"] = pd.to_datetime(X_test[\"created\"])\n",
        "X_test[\"created_year\"] = X_test[\"created\"].dt.year\n",
        "X_test[\"created_month\"] = X_test[\"created\"].dt.month\n",
        "X_test[\"created_day\"] = X_test[\"created\"].dt.day\n"
      ]
    },
    {
      "cell_type": "code",
      "execution_count": null,
      "metadata": {
        "_cell_guid": "95e41a31-633c-7a7d-a3cd-08f1d43bdeed"
      },
      "outputs": [],
      "source": [
        "target_num_map = {'high':0, 'medium':1, 'low':2}\n",
        "X_train[\"label\"] = X_train[\"interest_level\"].apply(lambda x: target_num_map[x])\n",
        "X_train.head()"
      ]
    },
    {
      "cell_type": "code",
      "execution_count": null,
      "metadata": {
        "_cell_guid": "d3d93994-df6e-d3d2-9c2f-77427a53a199"
      },
      "outputs": [],
      "source": [
        "y = X_train[\"label\"]\n",
        "\n",
        "X_train2, X_val, y_train2, y_val = train_test_split(X_train, y, test_size=0.3)"
      ]
    },
    {
      "cell_type": "code",
      "execution_count": null,
      "metadata": {
        "_cell_guid": "e44f6169-3d34-e0d7-b926-9c5905b6e881"
      },
      "outputs": [],
      "source": [
        "CATEGORICAL_COLUMNS = [\"building_id\",\"description\", \"display_address\", \"street_address\"]\n",
        "#CATEGORICAL_COLUMNS = [\"building_id\",\"description\", \"display_address\", \"features\", \"street_address\"]\n",
        "CONTINUOUS_COLUMNS = [\"bathrooms\", \"bedrooms\", \"latitude\", \"longitude\", \"price\", \"num_photos\", \"listing_id\", \n",
        "                      \"num_features\", \"num_description_words\", \"created_year\", \"created_month\", \"created_day\"]\n",
        "LABEL_COLUMN =[\"label\"]\n",
        "import tensorflow as tf"
      ]
    },
    {
      "cell_type": "code",
      "execution_count": null,
      "metadata": {
        "_cell_guid": "5c7d9448-0e0e-abd8-77f6-0e972356f748"
      },
      "outputs": [],
      "source": [
        "def input_fn(df):\n",
        "    #Creates a dictionary mapping from each continuous feature column name (k) to\n",
        "    #the values of that column stored in a constant Tensor.\n",
        "    continuous_cols = {k: tf.constant(df[k].values) for k in CONTINUOUS_COLUMNS}      \n",
        "    #Creates a dictionary mapping from each categorical feature column name (k)\n",
        "    #to the values of that column stored in a tf.SparseTensor.    \n",
        "    categorical_cols = {k: tf.SparseTensor(indices=[[i, 0] for i in range(df[k].size)], values=df[k].values, dense_shape=[df[k].size, 1]) for k in CATEGORICAL_COLUMNS}\n",
        "    # Merges the two dictionaries into one.\n",
        "    feature_cols=continuous_cols\n",
        "    feature_cols.update(categorical_cols)\n",
        "    # Converts the label column into a constant Tensor.\n",
        "    label = tf.constant(df[LABEL_COLUMN].values)\n",
        "    #Returns the feature columns and the label.\n",
        "    return feature_cols, label\n",
        "\n",
        "def train_input_fn():\n",
        "    return input_fn(X_train2)\n",
        "\n",
        "def eval_input_fn():\n",
        "    return input_fn(X_val)\n",
        "\n"
      ]
    },
    {
      "cell_type": "code",
      "execution_count": null,
      "metadata": {
        "_cell_guid": "18427bad-538f-2856-b081-553a0cd6bfab"
      },
      "outputs": [],
      "source": [
        "train_input_fn()\n",
        "eval_input_fn()"
      ]
    },
    {
      "cell_type": "code",
      "execution_count": null,
      "metadata": {
        "_cell_guid": "1b67cb67-5246-233a-9304-b9df0140db55"
      },
      "outputs": [],
      "source": ""
    }
  ],
  "metadata": {
    "_change_revision": 0,
    "_is_fork": false,
    "kernelspec": {
      "display_name": "Python 3",
      "language": "python",
      "name": "python3"
    },
    "language_info": {
      "codemirror_mode": {
        "name": "ipython",
        "version": 3
      },
      "file_extension": ".py",
      "mimetype": "text/x-python",
      "name": "python",
      "nbconvert_exporter": "python",
      "pygments_lexer": "ipython3",
      "version": "3.6.0"
    }
  },
  "nbformat": 4,
  "nbformat_minor": 0
}