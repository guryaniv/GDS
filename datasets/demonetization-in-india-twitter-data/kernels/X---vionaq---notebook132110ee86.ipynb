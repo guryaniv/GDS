{
  "cells": [
    {
      "cell_type": "markdown",
      "metadata": {
        "_cell_guid": "4055bc5e-b161-616d-42c6-91f77f870a10"
      },
      "source": [
        "## Import and file loading"
      ]
    },
    {
      "cell_type": "code",
      "execution_count": null,
      "metadata": {
        "_cell_guid": "01c44aa2-c9e9-6245-b08c-4e9236bafd71"
      },
      "outputs": [],
      "source": [
        "import numpy as np\n",
        "import pandas as pd\n",
        "import matplotlib.pyplot as plt\n",
        "from wordcloud import WordCloud, STOPWORDS\n",
        "import re\n",
        "import seaborn as sns\n",
        "from IPython.display import display"
      ]
    },
    {
      "cell_type": "code",
      "execution_count": null,
      "metadata": {
        "_cell_guid": "56d2fda0-0802-8e22-604c-17da6c00e8ad"
      },
      "outputs": [],
      "source": [
        "tweets = pd.read_csv('../input/demonetization-tweets.csv', encoding='\"ISO-8859-1\"')\n",
        "tweets.head(3)"
      ]
    },
    {
      "cell_type": "code",
      "execution_count": null,
      "metadata": {
        "_cell_guid": "9156a7be-3287-6187-27dd-844ab622e9e3"
      },
      "outputs": [],
      "source": [
        "tweets['new_text'] = ''\n",
        "tweets['tweetos'] = ''\n",
        "\n",
        "#storing the RT @names in tweetos column\n",
        "for i in range(len(tweets['text'])):\n",
        "    try:\n",
        "        tweets['tweetos'][i] = tweets['text'].str.split(':')[i][0]\n",
        "    except AttributeError:\n",
        "        tweets['tweetos'][i] = 'other'\n",
        "        \n",
        "tweets['tweetos']"
      ]
    },
    {
      "cell_type": "code",
      "execution_count": null,
      "metadata": {
        "_cell_guid": "3daef55a-8de2-98b1-ab81-4a3de6ef5b55"
      },
      "outputs": [],
      "source": ""
    }
  ],
  "metadata": {
    "_change_revision": 0,
    "_is_fork": false,
    "kernelspec": {
      "display_name": "Python 3",
      "language": "python",
      "name": "python3"
    },
    "language_info": {
      "codemirror_mode": {
        "name": "ipython",
        "version": 3
      },
      "file_extension": ".py",
      "mimetype": "text/x-python",
      "name": "python",
      "nbconvert_exporter": "python",
      "pygments_lexer": "ipython3",
      "version": "3.6.0"
    }
  },
  "nbformat": 4,
  "nbformat_minor": 0
}