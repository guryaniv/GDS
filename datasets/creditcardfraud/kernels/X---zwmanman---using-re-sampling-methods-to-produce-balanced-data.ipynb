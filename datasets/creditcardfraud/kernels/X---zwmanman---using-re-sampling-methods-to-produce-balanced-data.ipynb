{
  "cells": [
    {
      "cell_type": "markdown",
      "metadata": {
        "_cell_guid": "f04f2036-e73b-6b22-c6d3-e57ddfe678f8"
      },
      "source": [
        "Three different re-sampling methods were used to produce balanced data and used Random Forest to compare predicted results."
      ]
    },
    {
      "cell_type": "code",
      "execution_count": null,
      "metadata": {
        "_cell_guid": "ad8852c7-a5d5-f60d-4db5-faca3150e71a"
      },
      "outputs": [],
      "source": [
        "import numpy as np\n",
        "import pandas as pd\n",
        "import sklearn\n",
        "from sklearn.ensemble import RandomForestClassifier\n",
        "from sklearn.metrics import classification_report\n",
        "import matplotlib.pyplot as plt"
      ]
    },
    {
      "cell_type": "code",
      "execution_count": null,
      "metadata": {
        "_cell_guid": "49a902a9-0ef3-bea0-9d1d-d8d0ec9797ca"
      },
      "outputs": [],
      "source": [
        "from imblearn.under_sampling import ClusterCentroids #undersampling\n",
        "from imblearn.over_sampling import SMOTE  #oversampling\n",
        "from imblearn.combine import SMOTEENN"
      ]
    },
    {
      "cell_type": "code",
      "execution_count": null,
      "metadata": {
        "_cell_guid": "380a5718-72f0-369b-7ee0-e600669d49c9"
      },
      "outputs": [],
      "source": [
        "%matplotlib inline\n",
        "df = pd.read_csv(\"../input/creditcard.csv\")"
      ]
    },
    {
      "cell_type": "code",
      "execution_count": null,
      "metadata": {
        "_cell_guid": "65328730-9b79-afe9-5ba1-e11bddad6418"
      },
      "outputs": [],
      "source": [
        "df.describe()"
      ]
    },
    {
      "cell_type": "code",
      "execution_count": null,
      "metadata": {
        "_cell_guid": "10c75e80-08c7-22ad-5bec-a39a5c259f72"
      },
      "outputs": [],
      "source": [
        "print(df['Class'].value_counts())"
      ]
    },
    {
      "cell_type": "code",
      "execution_count": null,
      "metadata": {
        "_cell_guid": "02ee15da-0f80-a300-6a7b-569896631006"
      },
      "outputs": [],
      "source": [
        "from sklearn.cross_validation import train_test_split"
      ]
    },
    {
      "cell_type": "code",
      "execution_count": null,
      "metadata": {
        "_cell_guid": "0360c7a4-3730-0826-7e53-863f447506c9"
      },
      "outputs": [],
      "source": [
        "train, test = train_test_split(df, train_size = 0.8)"
      ]
    },
    {
      "cell_type": "code",
      "execution_count": null,
      "metadata": {
        "_cell_guid": "af97dd72-2f35-2892-3536-8af9897e7497"
      },
      "outputs": [],
      "source": [
        "train.head()"
      ]
    },
    {
      "cell_type": "code",
      "execution_count": null,
      "metadata": {
        "_cell_guid": "64743f72-1117-edfb-60bc-83fe9951b632"
      },
      "outputs": [],
      "source": [
        "train_label = train[\"Class\"]\n",
        "train_label\n",
        "train_feature = train.drop(\"Class\", axis = 1)"
      ]
    },
    {
      "cell_type": "code",
      "execution_count": null,
      "metadata": {
        "_cell_guid": "bf94ec6f-08bb-e69b-7f89-79349355fe42"
      },
      "outputs": [],
      "source": [
        "train_feature.head()"
      ]
    },
    {
      "cell_type": "markdown",
      "metadata": {
        "_cell_guid": "dcb82548-9fa4-a11d-0731-8d61ead84fb1"
      },
      "source": [
        "**Under sampling method-ClusterCentroids**"
      ]
    },
    {
      "cell_type": "code",
      "execution_count": null,
      "metadata": {
        "_cell_guid": "02391496-4738-393c-268d-3bf33e590be0"
      },
      "outputs": [],
      "source": [
        "CC = ClusterCentroids()\n",
        "ccx, ccy = CC.fit_sample(train_feature, train_label)"
      ]
    },
    {
      "cell_type": "code",
      "execution_count": null,
      "metadata": {
        "_cell_guid": "dfef6f64-850f-34ee-6c7d-8bbbc0b3d739"
      },
      "outputs": [],
      "source": [
        "unique, counts = np.unique(ccy, return_counts=True)\n",
        "print (np.asarray((unique, counts)).T)"
      ]
    },
    {
      "cell_type": "code",
      "execution_count": null,
      "metadata": {
        "_cell_guid": "b4766f76-fa89-c9cc-ef64-6fedb639754f"
      },
      "outputs": [],
      "source": [
        "test_label = test[\"Class\"]\n",
        "test_label\n",
        "test_feature = test.drop(\"Class\", axis = 1)"
      ]
    },
    {
      "cell_type": "code",
      "execution_count": null,
      "metadata": {
        "_cell_guid": "92c8d6e5-4858-ec87-4ade-57a5f5af7bf5"
      },
      "outputs": [],
      "source": [
        "rfc = RandomForestClassifier()\n",
        "rfc.fit(ccx,ccy)\n",
        "y_cc_pred = rfc.predict(test_feature) \n",
        "\n",
        "print(classification_report(y_cc_pred,test_label))"
      ]
    },
    {
      "cell_type": "code",
      "execution_count": null,
      "metadata": {
        "_cell_guid": "4fdee6d0-ab12-5494-39ca-43cb98a399eb"
      },
      "outputs": [],
      "source": [
        "from sklearn.metrics import confusion_matrix\n",
        "confusion_matrix(test_label, y_cc_pred)"
      ]
    },
    {
      "cell_type": "markdown",
      "metadata": {
        "_cell_guid": "e853b7ff-1a82-3f8b-fd72-61f0ad80ec3a"
      },
      "source": [
        "**Over-sampling-SMOTE**"
      ]
    },
    {
      "cell_type": "code",
      "execution_count": null,
      "metadata": {
        "_cell_guid": "e26d46ee-e488-94f5-a96a-9ba0fed17e3a"
      },
      "outputs": [],
      "source": [
        "smote = SMOTE(ratio='auto', kind='regular')\n",
        "smox, smoy = smote.fit_sample(train_feature, train_label)"
      ]
    },
    {
      "cell_type": "code",
      "execution_count": null,
      "metadata": {
        "_cell_guid": "c668991a-7dae-d68d-c70f-8b71b0f78011"
      },
      "outputs": [],
      "source": [
        "unique_smote, counts_smote = np.unique(smoy, return_counts=True)\n",
        "print (np.asarray((unique_smote, counts_smote)).T)"
      ]
    },
    {
      "cell_type": "code",
      "execution_count": null,
      "metadata": {
        "_cell_guid": "e82721a7-ef76-3c81-4ce7-99c61722e257"
      },
      "outputs": [],
      "source": [
        "rfc.fit(smox,smoy)\n",
        "y_smote_pred = rfc.predict(test_feature) \n",
        "print(classification_report(y_smote_pred,test_label))"
      ]
    },
    {
      "cell_type": "code",
      "execution_count": null,
      "metadata": {
        "_cell_guid": "b4492bc8-de09-3ef2-6a6a-5fd42dda555c"
      },
      "outputs": [],
      "source": [
        "confusion_matrix(test_label, y_smote_pred)"
      ]
    },
    {
      "cell_type": "markdown",
      "metadata": {
        "_cell_guid": "e126cb39-cd22-7f5c-8c93-31a72ab23d74"
      },
      "source": [
        "**Combine method-SMOTEENN**"
      ]
    },
    {
      "cell_type": "code",
      "execution_count": null,
      "metadata": {
        "_cell_guid": "f52b68e0-24e9-9bf5-d928-d0b3e385e202"
      },
      "outputs": [],
      "source": [
        "SENN = SMOTEENN(ratio = 'auto')\n",
        "ennx, enny = SENN.fit_sample(train_feature, train_label)\n",
        "unique_enny, counts_enny = np.unique(enny, return_counts=True)\n",
        "print (np.asarray((unique_enny, counts_enny)).T)"
      ]
    },
    {
      "cell_type": "code",
      "execution_count": null,
      "metadata": {
        "_cell_guid": "99385479-6fae-0147-c530-c69c257f2c30"
      },
      "outputs": [],
      "source": [
        "rfc.fit(ennx, enny)\n",
        "y_senn_pred = rfc.predict(test_feature) \n",
        "print(classification_report(y_senn_pred,test_label))"
      ]
    },
    {
      "cell_type": "code",
      "execution_count": null,
      "metadata": {
        "_cell_guid": "f663b905-9e4e-e22e-9fd4-684feb2ba24d"
      },
      "outputs": [],
      "source": [
        "confusion_matrix(test_label, y_senn_pred)"
      ]
    }
  ],
  "metadata": {
    "_change_revision": 0,
    "_is_fork": false,
    "kernelspec": {
      "display_name": "Python 3",
      "language": "python",
      "name": "python3"
    },
    "language_info": {
      "codemirror_mode": {
        "name": "ipython",
        "version": 3
      },
      "file_extension": ".py",
      "mimetype": "text/x-python",
      "name": "python",
      "nbconvert_exporter": "python",
      "pygments_lexer": "ipython3",
      "version": "3.5.2"
    }
  },
  "nbformat": 4,
  "nbformat_minor": 0
}