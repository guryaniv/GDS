{
  "cells": [
    {
      "cell_type": "code",
      "execution_count": null,
      "metadata": {
        "_cell_guid": "49c0fa7a-bb5a-43a6-54e2-c6e44473520b"
      },
      "outputs": [],
      "source": [
        "import pandas as pd\n",
        "import numpy as np\n",
        "\n",
        "# visualization\n",
        "import seaborn as sns\n",
        "import matplotlib.pyplot as plt\n",
        "%matplotlib inline\n",
        "\n",
        "from sklearn.linear_model import LinearRegression\n",
        "from sklearn.ensemble import RandomForestRegressor\n",
        "from sklearn.metrics import mean_squared_error\n",
        "import xgboost as xgb\n",
        "from sklearn.model_selection import train_test_split\n",
        "\n",
        "pd.set_option('display.max_columns', 500)"
      ]
    },
    {
      "cell_type": "code",
      "execution_count": null,
      "metadata": {
        "_cell_guid": "047345a5-740d-6510-89c4-ada6a0375679"
      },
      "outputs": [],
      "source": [
        "macro_cols = [\"balance_trade\", \"balance_trade_growth\", \"eurrub\", \"average_provision_of_build_contract\",\n",
        "\"micex_rgbi_tr\", \"micex_cbi_tr\", \"deposits_rate\", \"mortgage_value\", \"mortgage_rate\",\"income_per_cap\",\n",
        "              \"rent_price_4+room_bus\",\"museum_visitis_per_100_cap\",\"apartment_build\"]\n",
        "\n",
        "\n",
        "train_df = pd.read_csv('../input/train.csv',parse_dates=['timestamp'])\n",
        "test_df = pd.read_csv('../input/test.csv',parse_dates=['timestamp'])\n",
        "#macro_df=pd.read_csv('../input/macro.csv', parse_dates=['timestamp'], usecols=['timestamp'] + macro_cols)\n",
        "macro_df=pd.read_csv('../input/macro.csv',parse_dates=['timestamp'])\n",
        "train_df.shape"
      ]
    },
    {
      "cell_type": "code",
      "execution_count": null,
      "metadata": {
        "_cell_guid": "cf4ea643-d65b-39bb-4262-dc5c96f24833"
      },
      "outputs": [],
      "source": [
        "train_df = pd.merge_ordered(train_df, macro_df, on='timestamp', how='left')\n",
        "result_df = pd.merge_ordered(test_df, macro_df, on='timestamp', how='left')\n",
        "combine=[train_df,result_df]\n",
        "train_df.shape"
      ]
    },
    {
      "cell_type": "code",
      "execution_count": null,
      "metadata": {
        "_cell_guid": "146ff4e9-1fe9-4891-56e9-1bd6f17da552"
      },
      "outputs": [],
      "source": [
        "train_df[train_df.full_sq<200]['life_sq'].hist(bins=20)"
      ]
    },
    {
      "cell_type": "code",
      "execution_count": null,
      "metadata": {
        "_cell_guid": "84dc2e33-b25a-c156-d2e0-73edab0bab3e"
      },
      "outputs": [],
      "source": [
        "train_df[(train_df.full_sq<200)&(train_df.price_doc==1000000)]['life_sq'].hist(bins=20)"
      ]
    },
    {
      "cell_type": "code",
      "execution_count": null,
      "metadata": {
        "_cell_guid": "f5a8b39f-07d1-ee1d-8f16-65d859a08204"
      },
      "outputs": [],
      "source": [
        "#Cleaning\n",
        "for df in combine:\n",
        "    df.ix[df.life_sq<2, 'life_sq'] = np.nan\n",
        "    df.ix[df.build_year<1500,'build_year']=np.nan\n",
        "    df.ix[df.max_floor<df.floor,'max_floor']=np.nan\n",
        "    df.ix[df.full_sq<2,'full_sq']=df.ix[df.full_sq<2,'life_sq']\n",
        "    df.ix[df.full_sq<df.life_sq,'life_sq']=np.nan\n",
        "    df.ix[df.kitch_sq>df.life_sq,'kitch_sq']=np.nan\n",
        "    df.ix[df.kitch_sq<2,'kitch_sq']=np.nan\n",
        "    df.ix[df.floor==0,'floor']=np.nan\n",
        "    df.ix[df.max_floor==0,'max_floor']=np.nan\n",
        "    df.ix[df.max_floor>70,'max_floor']=np.nan\n",
        "    df.ix[df.num_room==0,'num_room']=np.nan    "
      ]
    },
    {
      "cell_type": "code",
      "execution_count": null,
      "metadata": {
        "_cell_guid": "8e3ac7c5-abd4-711a-f4cf-b9c9f4a0cd26"
      },
      "outputs": [],
      "source": [
        "#New features\n",
        "for df in combine:\n",
        "    #df['life_pct']=df['life_sq']/df['full_sq'].astype(float)\n",
        "    df['rel_kitch']=df['kitch_sq']/df['full_sq'].astype(float)\n",
        "    df['rel_floor']=df['floor']/df['max_floor'].astype(float)\n",
        "   \n",
        "    \n",
        "    "
      ]
    },
    {
      "cell_type": "code",
      "execution_count": null,
      "metadata": {
        "_cell_guid": "6e7cfe4f-e7df-cdac-0df9-de92799d0f65"
      },
      "outputs": [],
      "source": [
        "for df in combine:\n",
        "    month_year = (df.timestamp.dt.month + (df.timestamp.dt.year)*100)\n",
        "    month_year_cnt_map = month_year.value_counts().to_dict()\n",
        "    df['month_year_cnt'] = month_year.map(month_year_cnt_map)\n",
        "\n",
        "    week_year = (df.timestamp.dt.weekofyear + (df.timestamp.dt.year)*100)\n",
        "    week_year_cnt_map = week_year.value_counts().to_dict()\n",
        "    df['week_year_cnt'] = week_year.map(week_year_cnt_map)\n",
        "    df['month'] = df.timestamp.dt.month\n",
        "    df['dow'] = df.timestamp.dt.dayofweek\n",
        "    df['rel_kitch']=df['kitch_sq']/df['full_sq'].astype(float)\n",
        "    df['rel_floor']=df['floor']/df['max_floor'].astype(float)"
      ]
    },
    {
      "cell_type": "code",
      "execution_count": null,
      "metadata": {
        "_cell_guid": "f37ecb5c-3afa-f15e-c30d-a7854a458bdc"
      },
      "outputs": [],
      "source": [
        "train_df['price_sq']=train_df['price_doc']/train_df['full_sq']\n",
        "train_df.shape"
      ]
    },
    {
      "cell_type": "code",
      "execution_count": null,
      "metadata": {
        "_cell_guid": "66c2afd1-b385-c150-9663-00a2fe69369d"
      },
      "outputs": [],
      "source": [
        "train_df[['full_sq','life_sq','price_doc']][train_df.life_pct<0.05]"
      ]
    },
    {
      "cell_type": "code",
      "execution_count": null,
      "metadata": {
        "_cell_guid": "c487a2d5-40f5-e157-79cf-444de9b9d1e2"
      },
      "outputs": [],
      "source": [
        "train_df['ecology'].dtypes"
      ]
    },
    {
      "cell_type": "code",
      "execution_count": null,
      "metadata": {
        "_cell_guid": "a8839f2a-2f51-5c2a-d771-0e3cbac478bd"
      },
      "outputs": [],
      "source": [
        "train_df_numeric = train_df.select_dtypes(exclude=['object'])\n",
        "train_df_obj = train_df.select_dtypes(include=['object']).copy()\n",
        "\n",
        "for column in train_df_obj:\n",
        "    train_df_obj[column] = pd.factorize(train_df_obj[column])[0]\n",
        "\n",
        "train_df_values = pd.concat([train_df_numeric, train_df_obj], axis=1)[:24377]\n",
        "test_df_values = pd.concat([train_df_numeric, train_df_obj], axis=1)[24377:]\n",
        "all_df_values = pd.concat([train_df_numeric, train_df_obj], axis=1)"
      ]
    },
    {
      "cell_type": "code",
      "execution_count": null,
      "metadata": {
        "_cell_guid": "89e30c31-6eea-bc39-eead-c0da4cf2a69a"
      },
      "outputs": [],
      "source": [
        "result_df_numeric = result_df.select_dtypes(exclude=['object'])\n",
        "result_df_obj = result_df.select_dtypes(include=['object']).copy()\n",
        "\n",
        "for column in result_df_obj:\n",
        "      result_df_obj[column] = pd.factorize(result_df_obj[column])[0]\n",
        "\n",
        "result_df_values = pd.concat([result_df_numeric, result_df_obj], axis=1)"
      ]
    },
    {
      "cell_type": "code",
      "execution_count": null,
      "metadata": {
        "_cell_guid": "092fe9cc-794b-69ec-04ef-1a541c8ca084"
      },
      "outputs": [],
      "source": [
        "bound=33000\n",
        "X_train = train_df_values[(train_df_values.full_sq<1000)&\n",
        "                          (train_df_values.price_sq > bound)\n",
        "                         ].drop(['price_doc','id','timestamp','price_sq'],axis=1)\n",
        "Y_train = np.log1p(train_df_values[(train_df_values.full_sq<1000)&\n",
        "                          (train_df_values.price_sq > bound)\n",
        "                                  ]['price_doc'].values.reshape(-1,1))\n",
        "X_train.shape"
      ]
    },
    {
      "cell_type": "code",
      "execution_count": null,
      "metadata": {
        "_cell_guid": "1e33fc15-5af5-055e-a4a0-20d9c3ea51a1"
      },
      "outputs": [],
      "source": [
        "X_train = train_df_values.drop(['price_doc','id','timestamp','price_sq'],axis=1)\n",
        "Y_train = np.log1p(train_df_values['price_doc'].values.reshape(-1,1))\n",
        "X_train.shape"
      ]
    },
    {
      "cell_type": "code",
      "execution_count": null,
      "metadata": {
        "_cell_guid": "4e4cdadd-eff4-d02c-5194-29b1d78bf6d4"
      },
      "outputs": [],
      "source": [
        "X_test = test_df_values.drop(['price_doc','id','timestamp','price_sq'],axis=1)\n",
        "Y_test = np.log1p(test_df_values['price_doc'].values.reshape(-1,1))\n",
        "X_test.shape"
      ]
    },
    {
      "cell_type": "code",
      "execution_count": null,
      "metadata": {
        "_cell_guid": "b7123202-6ce2-bc2d-13f6-c3ec1e6621df"
      },
      "outputs": [],
      "source": [
        "bound=33000\n",
        "X_all = all_df_values[(all_df_values.full_sq<1000)&\n",
        "                          (all_df_values.price_sq > bound)\n",
        "                         ].drop(['price_doc','id','timestamp','price_sq'],axis=1)\n",
        "Y_all = np.log1p(all_df_values[(all_df_values.full_sq<1000)&\n",
        "                          (all_df_values.price_sq > bound)\n",
        "                                  ]['price_doc'].values.reshape(-1,1))\n",
        "X_all.shape"
      ]
    },
    {
      "cell_type": "code",
      "execution_count": null,
      "metadata": {
        "_cell_guid": "9e77040a-20a7-104e-3095-953665b71b61"
      },
      "outputs": [],
      "source": [
        "X_all = all_df_values.drop(['price_doc','id','timestamp','price_sq'],axis=1)\n",
        "Y_all = np.log1p(all_df_values['price_doc'].values.reshape(-1,1))\n",
        "X_all.shape"
      ]
    },
    {
      "cell_type": "code",
      "execution_count": null,
      "metadata": {
        "_cell_guid": "737a22cb-8739-01ab-0c1a-6a1da6536641"
      },
      "outputs": [],
      "source": [
        "X_result = result_df_values.drop(['id','timestamp'],axis=1)\n",
        "id_test = result_df_values['id']\n",
        "X_result.shape"
      ]
    },
    {
      "cell_type": "code",
      "execution_count": null,
      "metadata": {
        "_cell_guid": "c913e628-5fd3-0383-4c44-1262d472d091"
      },
      "outputs": [],
      "source": [
        "dtrain = xgb.DMatrix(X_train[:], Y_train[:])\n",
        "dtest = xgb.DMatrix(X_test, Y_test)\n",
        "dall = xgb.DMatrix(X_all,Y_all)\n",
        "dresult=xgb.DMatrix(X_result)"
      ]
    },
    {
      "cell_type": "code",
      "execution_count": null,
      "metadata": {
        "_cell_guid": "e6d2cb77-e904-330c-6325-613e88ef4905"
      },
      "outputs": [],
      "source": [
        "xgb_params = {\n",
        "    'eta': 0.05,\n",
        "    'max_depth': 5,\n",
        "    'subsample': 0.7,\n",
        "    'colsample_bytree': 0.7,\n",
        "    'objective': 'reg:linear',\n",
        "    'eval_metric': 'rmse',\n",
        "    'silent': 1\n",
        "}\n",
        "# Uncomment to tune XGB `num_boost_rounds`\n",
        "#model = xgb.cv(xgb_params, dtrain, num_boost_round=200,\n",
        "                  #early_stopping_rounds=30, verbose_eval=10)\n",
        "\n",
        "model = xgb.train(xgb_params, dtrain, num_boost_round=1000,\n",
        "                  verbose_eval=20, early_stopping_rounds=20, evals=[(dtrain,'train'),(dtest,'test')])"
      ]
    },
    {
      "cell_type": "code",
      "execution_count": null,
      "metadata": {
        "_cell_guid": "d5133f07-9f53-1a30-babb-1cc9b30e8689"
      },
      "outputs": [],
      "source": [
        "cv_result = xgb.cv(xgb_params, dall, num_boost_round=1000, early_stopping_rounds=20,\n",
        "    verbose_eval=10, show_stdv=False)\n",
        "cv_result[['train-rmse-mean', 'test-rmse-mean']].plot()\n",
        "num_boost_rounds = len(cv_result)\n",
        "\n",
        "num_boost_round = 489"
      ]
    },
    {
      "cell_type": "code",
      "execution_count": null,
      "metadata": {
        "_cell_guid": "1e31f33d-3b9f-0085-242f-5efb914ec900"
      },
      "outputs": [],
      "source": [
        "cv_result[50:][['train-rmse-mean', 'test-rmse-mean']].plot()\n",
        "\n"
      ]
    },
    {
      "cell_type": "code",
      "execution_count": null,
      "metadata": {
        "_cell_guid": "88d62cb4-1ef3-1ed9-c847-fcd8b14418ff"
      },
      "outputs": [],
      "source": [
        "num_round=model.best_iteration\n",
        "print(num_round)"
      ]
    },
    {
      "cell_type": "code",
      "execution_count": null,
      "metadata": {
        "_cell_guid": "bfa7304d-55d0-1aa3-a6ba-e9ad0e246b33"
      },
      "outputs": [],
      "source": [
        "fig, ax = plt.subplots(1, 1, figsize=(8, 16))\n",
        "xgb.plot_importance(model, max_num_features=50, height=0.5, ax=ax)"
      ]
    },
    {
      "cell_type": "code",
      "execution_count": null,
      "metadata": {
        "_cell_guid": "d920b6ad-3c62-1aeb-b25f-7acc737e838d"
      },
      "outputs": [],
      "source": [
        "xgb_params = {\n",
        "    'eta': 0.05,\n",
        "    'max_depth': 5,\n",
        "    'subsample': 0.7,\n",
        "    'colsample_bytree': 0.7,\n",
        "    'objective': 'reg:linear',\n",
        "    'eval_metric': 'rmse',\n",
        "    'silent': 1\n",
        "}\n",
        "# Uncomment to tune XGB `num_boost_rounds`\n",
        "#model = xgb.cv(xgb_params, dtrain, num_boost_round=200,\n",
        "                  #early_stopping_rounds=30, verbose_eval=10)\n",
        "model = xgb.train(xgb_params, dall, num_boost_round=210,verbose_eval=20,evals=[(dall,'all')])"
      ]
    },
    {
      "cell_type": "code",
      "execution_count": null,
      "metadata": {
        "_cell_guid": "5f756ad3-cd70-3d52-4e38-edfa84d34436"
      },
      "outputs": [],
      "source": [
        "logy_pred=model.predict(dresult)\n",
        "y_pred = np.exp(logy_pred)-1\n",
        "output=pd.DataFrame(data={'price_doc':y_pred},index=id_test)"
      ]
    },
    {
      "cell_type": "code",
      "execution_count": null,
      "metadata": {
        "_cell_guid": "0c3cff8b-d6fa-c8c7-0b22-27d36a30bdd4"
      },
      "outputs": [],
      "source": [
        "plt.hist(y_pred,bins=100)\n",
        "plt.show()"
      ]
    },
    {
      "cell_type": "code",
      "execution_count": null,
      "metadata": {
        "_cell_guid": "9750f33b-303d-0992-4c00-949427bfe84a"
      },
      "outputs": [],
      "source": [
        "output.head()"
      ]
    },
    {
      "cell_type": "code",
      "execution_count": null,
      "metadata": {
        "_cell_guid": "50c567b1-9548-de8a-f3b0-97137ca81db9"
      },
      "outputs": [],
      "source": [
        "output.to_csv('output.csv',header=True)"
      ]
    },
    {
      "cell_type": "code",
      "execution_count": null,
      "metadata": {
        "_cell_guid": "4e18c1eb-b88b-765a-bfb2-659cdd5342cb"
      },
      "outputs": [],
      "source": ""
    }
  ],
  "metadata": {
    "_change_revision": 0,
    "_is_fork": false,
    "kernelspec": {
      "display_name": "Python 3",
      "language": "python",
      "name": "python3"
    },
    "language_info": {
      "codemirror_mode": {
        "name": "ipython",
        "version": 3
      },
      "file_extension": ".py",
      "mimetype": "text/x-python",
      "name": "python",
      "nbconvert_exporter": "python",
      "pygments_lexer": "ipython3",
      "version": "3.6.0"
    }
  },
  "nbformat": 4,
  "nbformat_minor": 0
}