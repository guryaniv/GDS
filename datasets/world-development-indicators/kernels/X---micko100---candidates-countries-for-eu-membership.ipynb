{
  "cells": [
    {
      "cell_type": "markdown",
      "metadata": {
        "_cell_guid": "8761f98f-9ff5-c6ed-a737-0996535d6b1b"
      },
      "source": [
        "Candidates Countries for EU membership\n",
        "--------------------------------------"
      ]
    },
    {
      "cell_type": "markdown",
      "metadata": {
        "_cell_guid": "b1228b41-d83f-6066-9f84-caf9f1498047"
      },
      "source": [
        "Candidates Countries for EU membership\n",
        "The Europian Union consists of 28 member countries (https://en.wikipedia.org/wiki/Member_state_of_the_European_Union#List). On the other hand, we still have European states that aren't members and they are on the road to EU membership. In alphabetical order, those countries are:\n",
        "\n",
        " 1. Albania \n",
        " 2. (The former Yugoslav Republic) Macedonia \n",
        " 3. Montenegro  \n",
        " 4. Serbia   \n",
        " 5. Turkey\n",
        "\n",
        "In my research I also included Croatia because it is the latest land which was accepted in Union. It can be useful for better understanding and analisys when it comes to candidate countries. I was interested in development of these states for last fifteen years, so I found out appropriate dataset on www.kaggle.com and started to exploring it. In this project I was working with the latest dataset, which is available on http://www.worldbank.org/en/publication/wdr/wdr-archive\n",
        "\n",
        "Table of content:\n",
        "\n",
        "1. Data Preparation\n",
        "2. Birth Rate, Population and Unemployment\n",
        "3. Electricity consumption and CO2 Emission\n",
        "4. Business and Agriculture\n",
        "5. Net bilateral aid flows from donors\n",
        "6. Women position in society\n",
        "7. Conclusion"
      ]
    },
    {
      "cell_type": "markdown",
      "metadata": {
        "_cell_guid": "bb68f9b4-3e06-b45d-728c-747512d088a3"
      },
      "source": [
        "## Data Preparation ##"
      ]
    },
    {
      "cell_type": "code",
      "execution_count": null,
      "metadata": {
        "_cell_guid": "3dd90435-91e7-a549-8284-da8e395c1df1"
      },
      "outputs": [],
      "source": [
        "import pandas as pd\n",
        "import matplotlib.pyplot as plt\n",
        "import numpy as np\n",
        "%matplotlib inline\n",
        "\n",
        "plt.style.use('ggplot')\n",
        "plt.rcParams['figure.figsize'] = (7.0, 4.5)\n",
        "plt.rcParams['font.size'] = 9\n",
        "plt.rcParams['figure.titlesize'] = 10\n",
        "plt.rcParams['axes.titlesize'] = 10\n",
        "plt.rcParams['axes.labelsize'] = 9\n",
        "plt.rcParams['legend.fontsize'] = 8\n",
        "plt.rcParams['xtick.labelsize'] = 8\n",
        "plt.rcParams['ytick.labelsize'] = 8\n",
        "plt.rcParams['axes.formatter.useoffset'] = False\n",
        "plt.rcParams['xtick.major.size'] = 0\n",
        "plt.rcParams['ytick.major.size'] = 0\n",
        "\n",
        "pd.set_option('display.float_format', lambda x: '%.3f' % x)\n",
        "\n",
        "f = pd.read_csv('WDI_Data.csv', encoding='windows-1251')\n",
        "f.rename(columns={'Country Name': 'CountryName', 'Country Code': 'CountryCode', 'Indicator Name': 'IndicatorName', 'Indicator Code': 'IndicatorCode'}, inplace=True)\n",
        "\n",
        "country = ['Albania', 'Croatia', 'European Union', 'Macedonia, FYR', 'Montenegro', 'Serbia', 'Turkey']\n",
        "df = f.loc[f.CountryName.isin(country)].copy()\n",
        "df.loc[df.CountryName == 'Macedonia, FYR', 'CountryName'] = 'Macedonia'\n",
        "df.loc[df.CountryName == 'European Union', 'CountryName'] = 'EUU'\n",
        "\n",
        "colors = {'Albania': '#348ABD',\n",
        "          'Croatia': '#9E95D6',\n",
        "          'EUU': '#777777',\n",
        "          'Macedonia': '#E24D37',\n",
        "          'Montenegro': '#64C1A4',\n",
        "          'Serbia': '#FBC15E',\n",
        "          'Turkey': '#8EBA42'}\n",
        "\n",
        "columns = ['CountryName', 'CountryCode', 'IndicatorName', 'IndicatorCode']\n",
        "df2 = pd.melt(df, id_vars=columns, var_name='Year', value_name='Value')\n",
        "df2.dropna(inplace=True)\n",
        "\n",
        "df2['Year'] = df2['Year'].astype(int)\n",
        "df2 = df2.loc[df2.Year.isin(range(2000,2017))]\n",
        "\n",
        "def plot_aid(indicators):\n",
        "    col = ['CountryName', 'IndicatorName', 'IndicatorCode', '2000', '2001', '2002', '2003', '2004', '2005', '2006', '2007', '2008', '2009', '2010', '2011', '2012', '2013', '2014', '2015']\n",
        "    ind_stacked = df.loc[df.CountryName != 'EUU']\n",
        "    ind_stacked = ind_stacked[col]\n",
        "    \n",
        "    ind_stacked = ind_stacked.fillna(0)\n",
        "    label = []\n",
        "    \n",
        "    for key, color in colors.items():\n",
        "        if key == 'EUU':\n",
        "            continue\n",
        "        label.append(key)\n",
        "    label.sort()\n",
        "        \n",
        "    for indicator in indicators:\n",
        "        ind_code = ind_stacked.loc[ind_stacked.IndicatorCode == indicator]\n",
        "        \n",
        "        index = np.arange(len(col[3:])) + 0.3\n",
        "        bar_width = 0.8\n",
        "        y_offset = np.array([0.0] * len(col[3:]))\n",
        "        \n",
        "        l = np.arange(len(ind_code)) #df length\n",
        "        cl = np.arange(len(col[3:])) #column length\n",
        "        years = []\n",
        "        for j in cl:\n",
        "            years.append(col[j+3])\n",
        "            for i in l:\n",
        "                c = colors[ind_code['CountryName'].iloc[i]]\n",
        "                value = ind_code.iloc[i,j+3]/10000\n",
        "                plt.bar(index[j], value, bar_width, bottom=y_offset[j], color=c)\n",
        "                y_offset[j] += value\n",
        "                plt.xticks(np.arange(len(col[3:])) + 0.6, years, rotation=90, horizontalalignment='left')\n",
        "            title = ind_code['IndicatorName'].iloc[i]\n",
        "        plt.title(title)\n",
        "        plt.legend(label, bbox_to_anchor=(1.05, 1), loc=2, borderaxespad=0.)\n",
        "        plt.grid(b=None, which='major', axis='x')\n",
        "        plt.show()\n",
        "        \n",
        "\n",
        "def plot_ind(indicators):\n",
        "    l = len(indicators)\n",
        "    for indicator in indicators:\n",
        "        fig, ax = plt.subplots()\n",
        "        ind_code = df2.loc[df2.IndicatorCode == indicator]\n",
        "        ind_name_country = ind_code.groupby(['IndicatorName', 'CountryName'])\n",
        "        for name, values in ind_name_country:   \n",
        "            ax.plot(values['Year'], values['Value'], label=name[1], color = colors[name[1]], linewidth = 2) \n",
        "            title = name[0]\n",
        "            co2 = '(% of total fuel combustion)'\n",
        "            if len(title) > 57 and co2 in title:\n",
        "                ind = title.rfind(co2)\n",
        "                title = title[0:ind]\n",
        "            ax.set_title(title)\n",
        "        plt.legend(bbox_to_anchor=(1.05, 1), loc=2, borderaxespad=0.)   \n",
        "        plt.tick_params(axis='x', which='both', bottom='on', top='off')        \n",
        "        plt.tick_params(axis='y', which='both', left='on', right='off')\n",
        "        plt.tight_layout()\n",
        "        plt.show()  "
      ]
    },
    {
      "cell_type": "code",
      "execution_count": null,
      "metadata": {
        "_cell_guid": "dda42804-00d2-854e-45bb-8aa45804d6d8"
      },
      "outputs": [],
      "source": ""
    }
  ],
  "metadata": {
    "_change_revision": 0,
    "_is_fork": false,
    "kernelspec": {
      "display_name": "Python 3",
      "language": "python",
      "name": "python3"
    },
    "language_info": {
      "codemirror_mode": {
        "name": "ipython",
        "version": 3
      },
      "file_extension": ".py",
      "mimetype": "text/x-python",
      "name": "python",
      "nbconvert_exporter": "python",
      "pygments_lexer": "ipython3",
      "version": "3.5.2"
    }
  },
  "nbformat": 4,
  "nbformat_minor": 0
}