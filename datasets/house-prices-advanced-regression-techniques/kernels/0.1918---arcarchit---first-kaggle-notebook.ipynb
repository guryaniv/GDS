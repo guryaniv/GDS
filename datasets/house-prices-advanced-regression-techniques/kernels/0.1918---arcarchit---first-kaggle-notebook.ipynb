{
  "cells": [
    {
      "cell_type": "code",
      "execution_count": null,
      "metadata": {
        "_cell_guid": "f5e13c4c-2cba-bc0f-bf7e-6813b289f233"
      },
      "outputs": [],
      "source": [
        "# This Python 3 environment comes with many helpful analytics libraries installed\n",
        "# It is defined by the kaggle/python docker image: https://github.com/kaggle/docker-python\n",
        "# For example, here's several helpful packages to load in \n",
        "\n",
        "import numpy as np # linear algebra\n",
        "import pandas as pd # data processing, CSV file I/O (e.g. pd.read_csv)\n",
        "import math\n",
        "from sklearn.metrics import r2_score\n",
        "# Input data files are available in the \"../input/\" directory.\n",
        "# For example, running this (by clicking run or pressing Shift+Enter) will list the files in the input directory\n",
        "\n",
        "from sklearn.model_selection import train_test_split\n",
        "from sklearn.metrics import mean_squared_error\n",
        "from subprocess import check_output\n",
        "print(check_output([\"ls\", \"../input\"]).decode(\"utf8\"))\n",
        "\n",
        "# Any results you write to the current directory are saved as output."
      ]
    },
    {
      "cell_type": "code",
      "execution_count": null,
      "metadata": {
        "_cell_guid": "819751ff-9064-1b56-70e9-14af3e2931c6"
      },
      "outputs": [],
      "source": [
        "trainDF = pd.read_csv('../input/train.csv');\n",
        "testDF = pd.read_csv('../input/test.csv');"
      ]
    },
    {
      "cell_type": "code",
      "execution_count": null,
      "metadata": {
        "_cell_guid": "e680960a-e4c6-91d1-ab09-e0c2ad0fbb29"
      },
      "outputs": [],
      "source": [
        "all_data = pd.concat((trainDF.loc[:,'MSSubClass':'SaleCondition'],\n",
        "                      testDF.loc[:,'MSSubClass':'SaleCondition']))\n",
        "all_data = pd.get_dummies(all_data)\n",
        "#filling NA's with the mean of the column:\n",
        "all_data = all_data.fillna(all_data.mean())\n",
        "#creating matrices for sklearn:\n",
        "X_train = all_data[:trainDF.shape[0]]\n",
        "X_test = all_data[trainDF.shape[0]:]\n",
        "y = trainDF.SalePrice"
      ]
    },
    {
      "cell_type": "code",
      "execution_count": null,
      "metadata": {
        "_cell_guid": "681b7bff-64ba-85e8-5a17-2c3807a16878"
      },
      "outputs": [],
      "source": [
        "# Sample submission\n",
        "#submission = pd.DataFrame({ 'Id': testDF['Id'],\n",
        " #                           'SalePrice': yt })\n",
        "#submission.to_csv(\"submission.csv\", index=False)"
      ]
    },
    {
      "cell_type": "markdown",
      "metadata": {
        "_cell_guid": "7155c16e-243e-7dff-2e7f-2e5d4b9abb05"
      },
      "source": [
        "Having some functions in place"
      ]
    },
    {
      "cell_type": "code",
      "execution_count": null,
      "metadata": {
        "_cell_guid": "be317fb5-2b25-8403-251d-8dbb17f69c13"
      },
      "outputs": [],
      "source": ""
    },
    {
      "cell_type": "markdown",
      "metadata": {
        "_cell_guid": "ee4e2ef1-daff-aff1-06b2-3a82e10ff095"
      },
      "source": [
        "Train Test Division"
      ]
    },
    {
      "cell_type": "code",
      "execution_count": null,
      "metadata": {
        "_cell_guid": "bb210882-86db-72f8-ebb8-03d5eaa4c7fa"
      },
      "outputs": [],
      "source": [
        "Xtr, Xte, Ytr, Yte = train_test_split(X_train, y, test_size=0.33, random_state=42)"
      ]
    },
    {
      "cell_type": "markdown",
      "metadata": {
        "_cell_guid": "c6c87b82-1ace-1ec6-1bdf-115dd8c1e79b"
      },
      "source": [
        "Tying out xgboost"
      ]
    },
    {
      "cell_type": "code",
      "execution_count": null,
      "metadata": {
        "_cell_guid": "51188745-98c4-82d3-6c78-70f671900485"
      },
      "outputs": [],
      "source": [
        "import xgboost as xgb"
      ]
    },
    {
      "cell_type": "code",
      "execution_count": null,
      "metadata": {
        "_cell_guid": "fc0d5959-7a85-4419-3af1-55a2ebb2e456"
      },
      "outputs": [],
      "source": [
        "T_train_xgb = xgb.DMatrix(Xtr, Ytr)"
      ]
    },
    {
      "cell_type": "code",
      "execution_count": null,
      "metadata": {
        "_cell_guid": "54247c03-e3e7-62cd-6545-83264a6515d9"
      },
      "outputs": [],
      "source": [
        "params = {\"objective\": \"reg:linear\"}\n",
        "gbm = xgb.train(dtrain=T_train_xgb,params=params)"
      ]
    },
    {
      "cell_type": "code",
      "execution_count": null,
      "metadata": {
        "_cell_guid": "f09bfe22-6850-0857-e8ce-c4621b34d621"
      },
      "outputs": [],
      "source": [
        "from sklearn.model_selection import cross_val_score"
      ]
    },
    {
      "cell_type": "code",
      "execution_count": null,
      "metadata": {
        "_cell_guid": "3b5030f0-1740-20d4-78ee-38096b6b112c"
      },
      "outputs": [],
      "source": [
        "def r2_cv(model):\n",
        "    m= np.mean(cross_val_score(model, X_train, y, scoring=\"r2\", cv = 5))\n",
        "    return(m)"
      ]
    },
    {
      "cell_type": "code",
      "execution_count": null,
      "metadata": {
        "_cell_guid": "4662a3b7-849f-261d-471e-490092c30d72"
      },
      "outputs": [],
      "source": [
        "Y_pred = gbm.predict(xgb.DMatrix(Xte))"
      ]
    },
    {
      "cell_type": "code",
      "execution_count": null,
      "metadata": {
        "_cell_guid": "609173e4-b005-828b-53f1-bb7f0ce2c910"
      },
      "outputs": [],
      "source": [
        "def error(actual, predicted):\n",
        "    actual = np.log(actual)\n",
        "    predicted = np.log(predicted)\n",
        "    return np.sqrt(np.sum(np.square(actual-predicted))/len(actual))"
      ]
    },
    {
      "cell_type": "code",
      "execution_count": null,
      "metadata": {
        "_cell_guid": "bd0b6377-a3c2-447b-0220-26dfd6dab096"
      },
      "outputs": [],
      "source": [
        "def invboxcox(y,ld):\n",
        "   if ld == 0:\n",
        "      return(np.exp(y))\n",
        "   else:\n",
        "      return(np.exp(np.log(ld*y+1)/ld))"
      ]
    },
    {
      "cell_type": "code",
      "execution_count": null,
      "metadata": {
        "_cell_guid": "33e7aa3b-7e65-9e73-b50f-ee7e7301e884"
      },
      "outputs": [],
      "source": [
        "def my_cv(model, x, y, n_splits, boxcox_lambda):\n",
        "    kf = KFold(n_splits=n_splits)\n",
        "    kf.get_n_splits(X_train)\n",
        "    ary = []\n",
        "    for train_index, test_index in kf.split(x):       \n",
        "        Xtr, Xte = X_train.ix[train_index, :], X_train.ix[test_index, :]\n",
        "        Ytr, Yte = y[train_index], y[test_index]\n",
        "        Ytr = stats.boxcox(Ytr,boxcox_lambda) if boxcox_lambda!=None else Ytr\n",
        "        model.fit(Xtr, Ytr)\n",
        "        Y_pred = model.predict(Xte)\n",
        "        Y_pred = invboxcox(Y_pred, boxcox_lambda) if boxcox_lambda!=None else Y_pred        \n",
        "        ary.append(error(Yte, Y_pred))\n",
        "    return np.mean(ary)"
      ]
    },
    {
      "cell_type": "code",
      "execution_count": null,
      "metadata": {
        "_cell_guid": "7c21bf05-39e4-4f85-a1c8-5f94ee84157f"
      },
      "outputs": [],
      "source": [
        "from sklearn.model_selection import KFold\n",
        "kf = KFold(n_splits=5)\n",
        "kf.get_n_splits(X_train)\n",
        "ary = []\n",
        "for train_index, test_index in kf.split(X_train):       \n",
        "    Xte =  X_train.ix[test_index, :]\n",
        "    Xtr = X_train.ix[train_index, :]    \n",
        "    Ytr, Yte = y[train_index], y[test_index]\n",
        "    T_train_xgb = xgb.DMatrix(Xtr, Ytr)\n",
        "    gbm = xgb.train(dtrain=T_train_xgb,params=params)\n",
        "    Y_pred = gbm.predict(xgb.DMatrix(Xte))\n",
        "    ary.append(error(Yte, Y_pred))\n",
        "print (np.mean(ary))"
      ]
    },
    {
      "cell_type": "code",
      "execution_count": null,
      "metadata": {
        "_cell_guid": "1e9ebac9-fbc9-3ecf-1334-f88333898d86"
      },
      "outputs": [],
      "source": ""
    },
    {
      "cell_type": "code",
      "execution_count": null,
      "metadata": {
        "_cell_guid": "1087bea7-8c94-723d-35a0-739656ef6d57"
      },
      "outputs": [],
      "source": ""
    }
  ],
  "metadata": {
    "_change_revision": 0,
    "_is_fork": false,
    "kernelspec": {
      "display_name": "Python 3",
      "language": "python",
      "name": "python3"
    },
    "language_info": {
      "codemirror_mode": {
        "name": "ipython",
        "version": 3
      },
      "file_extension": ".py",
      "mimetype": "text/x-python",
      "name": "python",
      "nbconvert_exporter": "python",
      "pygments_lexer": "ipython3",
      "version": "3.6.0"
    }
  },
  "nbformat": 4,
  "nbformat_minor": 0
}