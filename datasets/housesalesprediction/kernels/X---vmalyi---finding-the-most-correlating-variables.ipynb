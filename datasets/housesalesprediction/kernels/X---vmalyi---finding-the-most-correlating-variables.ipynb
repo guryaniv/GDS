{
  "cells": [
    {
      "cell_type": "markdown",
      "metadata": {
        "_cell_guid": "669dec1c-361e-1655-4d4f-374c3e3df498"
      },
      "source": [
        "# Finding the most correlating variables for house price prediction"
      ]
    },
    {
      "cell_type": "markdown",
      "metadata": {
        "_cell_guid": "f44030e7-7fcb-4a74-2fdd-06f0c079f3b3"
      },
      "source": [
        "This is a step-by-step tutorial describing a ways to find the most correlating variables for the data available in [House Sales in King County, USA](https://www.kaggle.com/harlfoxem/housesalesprediction) dataset."
      ]
    },
    {
      "cell_type": "markdown",
      "metadata": {
        "_cell_guid": "7ec9c8ea-290f-ba40-12ec-e9875994dde8"
      },
      "source": [
        "## 1. Dataset overview"
      ]
    },
    {
      "cell_type": "markdown",
      "metadata": {
        "_cell_guid": "475b55ba-a9e3-80ec-f93b-ff773d496cf9"
      },
      "source": [
        "Let's first look into dataset in order to better understand what kind of data is available:"
      ]
    },
    {
      "cell_type": "code",
      "execution_count": null,
      "metadata": {
        "_cell_guid": "56b07616-5a85-f4bb-abe2-b0051e55896a"
      },
      "outputs": [],
      "source": [
        "import pandas as pd\n",
        "\n",
        "# Always display all the columns\n",
        "pd.set_option('display.width', 5000) \n",
        "pd.set_option('display.max_columns', 60) \n",
        "\n",
        "dataset = pd.read_csv(\"../input/kc_house_data.csv\") # read the dataset\n",
        "\n",
        "dataset.head(5) # print 5 first rows from the dataset"
      ]
    },
    {
      "cell_type": "code",
      "execution_count": null,
      "metadata": {
        "_cell_guid": "ad55b64c-36ce-da54-a14c-3cb2e9d17b44"
      },
      "outputs": [],
      "source": [
        "dataset.dtypes # get an overview of data types presented in the dataset"
      ]
    },
    {
      "cell_type": "markdown",
      "metadata": {
        "_cell_guid": "7565fd17-818e-4849-2bcf-521684c642f8"
      },
      "source": [
        "### 1.1 Dataset quality"
      ]
    },
    {
      "cell_type": "markdown",
      "metadata": {
        "_cell_guid": "55a4edd4-8930-72ca-bf78-5553f726b471"
      },
      "source": [
        "Before analysing the dataset we have to make sure that it doesn't contain messy data and eventually fix it."
      ]
    },
    {
      "cell_type": "markdown",
      "metadata": {
        "_cell_guid": "e83acb55-0caa-6244-b253-e491071760ec"
      },
      "source": [
        "#### 1.1.1 Looking for NaN values"
      ]
    },
    {
      "cell_type": "code",
      "execution_count": null,
      "metadata": {
        "_cell_guid": "2663317c-3601-9e7c-ef50-fa694f90ef76"
      },
      "outputs": [],
      "source": [
        "print(dataset.isnull().any())"
      ]
    },
    {
      "cell_type": "markdown",
      "metadata": {
        "_cell_guid": "7df62c30-a699-0590-c90a-538b1a1b1158"
      },
      "source": [
        "As you can see none of the columns have NaN values in it, so that we're safe to move forward with further analysis."
      ]
    },
    {
      "cell_type": "markdown",
      "metadata": {
        "_cell_guid": "514b1bc8-d1af-5f36-1fb2-4cd263e16d61"
      },
      "source": [
        "### 1.2 Identifying the variables"
      ]
    },
    {
      "cell_type": "markdown",
      "metadata": {
        "_cell_guid": "18720ee6-df29-f486-3265-ef627dd4a0b7"
      },
      "source": [
        "Now it's time to identify which types of variables we have in the dataset.\n",
        "\n",
        "We'll be trying to identify columns with continuous and categorical variables.\n",
        "\n",
        "First of all let's take a look on the list of the columns which can be potentially categorical:\n",
        "- bedrooms\n",
        "- bathrooms\n",
        "- floors\n",
        "- waterfront\n",
        "- view\n",
        "- condition\n",
        "- grade"
      ]
    },
    {
      "cell_type": "code",
      "execution_count": null,
      "metadata": {
        "_cell_guid": "967ccddf-06b3-218c-9892-6d1672fc6c76"
      },
      "outputs": [],
      "source": [
        "# let's observe unique values presented in potentially categorical columns\n",
        "print(\"bedrooms\")\n",
        "print(sorted(dataset.bedrooms.unique()))\n",
        "print(\"bathrooms\")\n",
        "print(sorted(dataset.bathrooms.unique()))\n",
        "print(\"floors\")\n",
        "print(sorted(dataset.floors.unique()))\n",
        "print(\"waterfront\")\n",
        "print(sorted(dataset.waterfront.unique()))\n",
        "print(\"view\")\n",
        "print(sorted(dataset.view.unique()))\n",
        "print(\"condition\")\n",
        "print(sorted(dataset.condition.unique()))\n",
        "print(\"grade\")\n",
        "print(sorted(dataset.grade.unique()))"
      ]
    },
    {
      "cell_type": "markdown",
      "metadata": {
        "_cell_guid": "f39d42a1-c5e5-81d4-7920-e3184e76c78f"
      },
      "source": [
        "As the one can see, we have following two subtypes of categorical variables here:\n",
        "- Dichotomous variable (having 2 possible values)\n",
        "    - watefront\n",
        "- Polytomous variables (having multiple possible values)\n",
        "    - bedrooms\n",
        "    - bathrooms\n",
        "    - floors\n",
        "    - view\n",
        "    - condition\n",
        "    - grade"
      ]
    },
    {
      "cell_type": "markdown",
      "metadata": {
        "_cell_guid": "37a3e6de-01d7-7a1b-3900-9d039ed48340"
      },
      "source": [
        "It would make sense to convert categorical variables from above which have continuous set of values available to \"category\" in our dataset in order to get better overview of them in the next step.\n",
        "\n",
        "Additionally, let's remove variables which won't be participating in the analysis:"
      ]
    },
    {
      "cell_type": "code",
      "execution_count": null,
      "metadata": {
        "_cell_guid": "93c4dc27-ecdd-eede-09e0-15386ce8344b"
      },
      "outputs": [],
      "source": [
        "# Create new categorical variables\n",
        "dataset['waterfront'] = dataset['waterfront'].astype('category',ordered=True)\n",
        "dataset['view'] = dataset['view'].astype('category',ordered=True)\n",
        "dataset['condition'] = dataset['condition'].astype('category',ordered=True)\n",
        "dataset['grade'] = dataset['grade'].astype('category',ordered=False)\n",
        "\n",
        "# Remove unused variables\n",
        "dataset = dataset.drop(['id', 'date'],axis=1)\n",
        "\n",
        "dataset.dtypes # re-check data types in the dataset after conversion above"
      ]
    },
    {
      "cell_type": "markdown",
      "metadata": {
        "_cell_guid": "2b3ffa05-5d5c-9ff4-fc42-9acea9f976c0"
      },
      "source": [
        "Let's assume all other columns than identified as categorical contain continuous variables."
      ]
    },
    {
      "cell_type": "markdown",
      "metadata": {
        "_cell_guid": "562a4a9a-41b7-e239-b95a-23b64b3f836b"
      },
      "source": [
        "## 2. Correlation between variables"
      ]
    },
    {
      "cell_type": "markdown",
      "metadata": {
        "_cell_guid": "adecee85-563b-114a-ff22-d9cd273b522d"
      },
      "source": [
        "Our main reason exploring this dataset is to find variables which have a strong correlation with the house prices.\n",
        "\n",
        "Let's start from the categorical variables which we defined in the previous steps and observe the correlation between them and house prices."
      ]
    },
    {
      "cell_type": "markdown",
      "metadata": {
        "_cell_guid": "b1088da1-3f41-33c5-f4e9-1cf95a091372"
      },
      "source": [
        "### 2.1 Categorical variables"
      ]
    },
    {
      "cell_type": "markdown",
      "metadata": {
        "_cell_guid": "65d7f572-4030-8e01-3f1a-c6cf13e8a67c"
      },
      "source": [
        "Recalling the categorical variables we identified earlier, let's calculate their correlation to price.\n",
        "\n",
        "But before we begin with that, let's review our dataset and identify other variables which could bring us more value being categorical rather than continuous.\n",
        "\n",
        "From the previous steps we can see that both \"sqft_basement\" and \"yr_renovated\" contain \"0\" values for the houses which either don't have basements or haven't been renovated yet. \n",
        "\n",
        "Taking into account this information we could verify our hypthosis that the fact that the house has basement or have been renovated may affect its price. \n",
        "\n",
        "We need to introduce two new categorical variables for this purpose:"
      ]
    },
    {
      "cell_type": "code",
      "execution_count": null,
      "metadata": {
        "_cell_guid": "f0fd1206-ed85-aad0-a5a6-76be3029dfcf"
      },
      "outputs": [],
      "source": [
        "dataset['basement_is_present'] = dataset['sqft_basement'].apply(lambda x: 1 if x > 0 else 0)\n",
        "dataset['basement_is_present'] = dataset['basement_is_present'].astype('category', ordered = False)\n",
        "\n",
        "dataset['is_renovated'] = dataset['yr_renovated'].apply(lambda x: 1 if x > 0 else 0)\n",
        "dataset['is_renovated'] = dataset['is_renovated'].astype('category', ordered = False)\n",
        "\n",
        "dataset.dtypes"
      ]
    },
    {
      "cell_type": "markdown",
      "metadata": {
        "_cell_guid": "bde2dc1c-baac-333f-8b66-3d8432c6ca14"
      },
      "source": [
        "Now we're ready to start calculating a correlation between categorical variables and house prices in order to estimate which variable affect the house prices at most.\n",
        "\n",
        "However, we want to subdivide our categorical variables into two subcategories: dichotomous and polytomous ones. This has effect on which correlation calculation methods to be applied to those sub-categories.\n",
        "\n",
        "Taking into account two newly introduced variable we have a following sub-division of categorical variables:\n",
        "- Dichotomous variables:\n",
        "    - watefront\n",
        "    - basement_is_present\n",
        "    - is_renovated\n",
        "- Polytomous variables:\n",
        "    - bedrooms\n",
        "    - bathrooms\n",
        "    - floors\n",
        "    - view\n",
        "    - condition\n",
        "    - grade\n",
        "    \n",
        "Dichotomous or binary variables are going to get their correlation calculated by means point biserial correlation and polytomous ones will be treated with Spearman's rank-order correlation correspondingly:"
      ]
    },
    {
      "cell_type": "code",
      "execution_count": null,
      "metadata": {
        "_cell_guid": "c0a1d041-db59-8d51-e41b-d7b4897a35f6"
      },
      "outputs": [],
      "source": [
        "from scipy import stats\n",
        "\n",
        "CATEGORICAL_VARIABLES = [\"waterfront\", \n",
        "                       \"basement_is_present\", \n",
        "                       \"is_renovated\", \n",
        "                       \"bedrooms\", \n",
        "                       \"bathrooms\", \n",
        "                       \"floors\", \n",
        "                       \"view\", \n",
        "                       \"condition\",\n",
        "                       \"grade\"]\n",
        "\n",
        "for c in CATEGORICAL_VARIABLES:\n",
        "    if c not in [\"waterfront\", \"basement_is_present\", \"is_renovated\"]:\n",
        "        correlation = stats.pearsonr(dataset[c], dataset[\"price\"])\n",
        "    else:\n",
        "        correlation = stats.pointbiserialr(dataset[c], dataset[\"price\"])\n",
        "    print(\"Correlation of %s to price is %s\" %(c, correlation))"
      ]
    },
    {
      "cell_type": "markdown",
      "metadata": {
        "_cell_guid": "29143156-dbbd-c3a3-92c6-8e92d828be63"
      },
      "source": [
        "As you can see top 3 categorical variables which have the highest correlation coefficients are:\n",
        "1. grade (0.66)\n",
        "2. bathrooms (0.52)\n",
        "3. view (0.39)\n",
        "\n",
        "Our assumption, however, that \"basement_is_present\" and \"is_renovated\" are strongly correlated with house prices is wrong."
      ]
    },
    {
      "cell_type": "markdown",
      "metadata": {
        "_cell_guid": "0480c15b-9242-fb91-39ad-c8c9ad1b951a"
      },
      "source": [
        "### 2.2 Continuous variables"
      ]
    },
    {
      "cell_type": "markdown",
      "metadata": {
        "_cell_guid": "9af1542e-aff4-d733-26a5-a8061fb8c355"
      },
      "source": [
        "Continuous variables will be treated similarly as categorical ones with one exception: we'll be using correlation heatmap in order to analyse the correlation of continuous variables in order to try how comfortable this visual approach is."
      ]
    },
    {
      "cell_type": "code",
      "execution_count": null,
      "metadata": {
        "_cell_guid": "6c4b93fb-6c5a-eeea-f769-323e3dee5d78"
      },
      "outputs": [],
      "source": [
        "import seaborn as sns\n",
        "import matplotlib.pyplot as plt\n",
        "%matplotlib inline\n",
        "\n",
        "CONTINUOUS_VARIABLES = [\"price\", \n",
        "                       \"sqft_living\", \n",
        "                       \"sqft_lot\", \n",
        "                       \"sqft_above\", \n",
        "                       \"sqft_basement\", \n",
        "                       \"yr_built\", \n",
        "                       \"yr_renovated\", \n",
        "                       \"zipcode\",\n",
        "                       \"lat\",\n",
        "                       \"long\",\n",
        "                       \"sqft_living15\",\n",
        "                       \"sqft_lot15\"]\n",
        "\n",
        "# create new dataframe containing only continuous variables\n",
        "cont_variables_dataframe = dataset[CONTINUOUS_VARIABLES]\n",
        "# calculate correlation for all continuous variables\n",
        "cont_variables_correlation = cont_variables_dataframe.corr()\n",
        "\n",
        "# plot the heatmap showing calculated correlations\n",
        "plt.subplots(figsize=(11, 11))\n",
        "plt.title('Pearson Correlation of continous features')\n",
        "ax = sns.heatmap(cont_variables_correlation, \n",
        "                 annot=True, \n",
        "                 linewidths=.5, \n",
        "                 cmap=\"YlGnBu\",\n",
        "                 square=True\n",
        "                );"
      ]
    },
    {
      "cell_type": "markdown",
      "metadata": {
        "_cell_guid": "da0c4533-fb09-8628-3d27-6dbe090093eb"
      },
      "source": [
        "As you can see the top 3 continuous variables in terms of correlating to house prices are:\n",
        "- sqft_living (0.7)\n",
        "- sqft_above (0.61)\n",
        "- sqft_living15 (0.59)"
      ]
    },
    {
      "cell_type": "markdown",
      "metadata": {
        "_cell_guid": "9d3683ae-b49e-0763-5a47-aa873274806c"
      },
      "source": [
        "## 3. Conclusion"
      ]
    },
    {
      "cell_type": "markdown",
      "metadata": {
        "_cell_guid": "9ca7f4e9-b220-33b7-e7e9-ec35e0f4dc15"
      },
      "source": [
        "We were able to identify categorical and continuous variables in our dataset and calculate their correlation to house prices.\n",
        "\n",
        "As a result we got a list of 6 top performing va riables which may be used as features in linear and multivariate linear regression models for predicting house prices:\n",
        "\n",
        " - sqft_living (0.7) \n",
        " - grade (0.66)\n",
        " - sqft_above (0.61)\n",
        " - sqft_living15 (0.59)\n",
        " - bathrooms (0.52)\n",
        " - view (0.39)"
      ]
    }
  ],
  "metadata": {
    "_change_revision": 0,
    "_is_fork": false,
    "kernelspec": {
      "display_name": "Python 3",
      "language": "python",
      "name": "python3"
    },
    "language_info": {
      "codemirror_mode": {
        "name": "ipython",
        "version": 3
      },
      "file_extension": ".py",
      "mimetype": "text/x-python",
      "name": "python",
      "nbconvert_exporter": "python",
      "pygments_lexer": "ipython3",
      "version": "3.6.0"
    }
  },
  "nbformat": 4,
  "nbformat_minor": 0
}