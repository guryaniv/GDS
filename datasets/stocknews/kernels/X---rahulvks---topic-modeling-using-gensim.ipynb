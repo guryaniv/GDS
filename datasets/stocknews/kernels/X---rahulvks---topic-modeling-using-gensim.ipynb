{
  "cells": [
    {
      "cell_type": "markdown",
      "metadata": {
        "_cell_guid": "8b2c5f1e-5387-57bb-6451-05dde5af32df"
      },
      "source": [
        "Thanks Aaron7sun for base code with. explanation. I tried ngram model and Topic modeling additionally. \n",
        "\n"
      ]
    },
    {
      "cell_type": "code",
      "execution_count": null,
      "metadata": {
        "_cell_guid": "8ed4cdd2-afc8-9ec1-3bb6-f27aa0b61daa"
      },
      "outputs": [],
      "source": [
        "import pandas as pd\n",
        "import sklearn\n",
        "from sklearn.feature_extraction.text import CountVectorizer\n",
        "from sklearn.linear_model import LogisticRegression\n",
        "import pandas as pd"
      ]
    },
    {
      "cell_type": "code",
      "execution_count": null,
      "metadata": {
        "_cell_guid": "502d0837-5a6c-fff2-06ea-16e4628a3457"
      },
      "outputs": [],
      "source": [
        "data = pd.read_csv(\"../input/Combined_News_DJIA.csv\")"
      ]
    },
    {
      "cell_type": "code",
      "execution_count": null,
      "metadata": {
        "_cell_guid": "7b1c912a-3a8d-aa33-f69d-63cceb808396"
      },
      "outputs": [],
      "source": [
        "train = data[data['Date'] < '2015-01-01']\n",
        "test = data[data['Date'] > '2014-12-31']"
      ]
    },
    {
      "cell_type": "code",
      "execution_count": null,
      "metadata": {
        "_cell_guid": "bf96b397-840d-d181-6967-2f8359caedc2"
      },
      "outputs": [],
      "source": [
        "len(test)"
      ]
    },
    {
      "cell_type": "code",
      "execution_count": null,
      "metadata": {
        "_cell_guid": "040eca34-6430-9b64-5e9b-5ed28cede202"
      },
      "outputs": [],
      "source": [
        "len(train)"
      ]
    },
    {
      "cell_type": "code",
      "execution_count": null,
      "metadata": {
        "_cell_guid": "fb590409-7d25-b96a-ea3d-fa65a8969fec"
      },
      "outputs": [],
      "source": [
        "trainheadlines = []\n",
        "for row in range(0,len(train.index)):\n",
        "    trainheadlines.append(' '.join(str(x) for x in train.iloc[row,2:27]))"
      ]
    },
    {
      "cell_type": "code",
      "execution_count": null,
      "metadata": {
        "_cell_guid": "11ec9ff1-3fd6-0bd0-5fb5-d0457ce3f9e8"
      },
      "outputs": [],
      "source": [
        "trainvect = CountVectorizer()"
      ]
    },
    {
      "cell_type": "code",
      "execution_count": null,
      "metadata": {
        "_cell_guid": "71cb6892-cdad-a4ff-1e73-d6f45c3b5edb"
      },
      "outputs": [],
      "source": [
        "Trainfeature = trainvect.fit_transform(trainheadlines)"
      ]
    },
    {
      "cell_type": "code",
      "execution_count": null,
      "metadata": {
        "_cell_guid": "d96a45c3-bf72-374a-13cc-5177e4a4c484"
      },
      "outputs": [],
      "source": [
        "####Detailed view of Document Count Matrix\n",
        "DTM_With_Colm = pd.DataFrame(Trainfeature.toarray(),columns= trainvect.get_feature_names())"
      ]
    },
    {
      "cell_type": "code",
      "execution_count": null,
      "metadata": {
        "_cell_guid": "e3e206c2-a51e-fb5e-c249-35c909dd8582"
      },
      "outputs": [],
      "source": [
        "Trainfeature.shape"
      ]
    },
    {
      "cell_type": "markdown",
      "metadata": {
        "_cell_guid": "fab3134b-2f5d-92af-47ee-61593cd14bcb"
      },
      "source": [
        "Model Logistic Regression"
      ]
    },
    {
      "cell_type": "code",
      "execution_count": null,
      "metadata": {
        "_cell_guid": "40d487a6-8508-c82f-89a9-e721a6b2f826"
      },
      "outputs": [],
      "source": [
        "Logis = LogisticRegression()"
      ]
    },
    {
      "cell_type": "code",
      "execution_count": null,
      "metadata": {
        "_cell_guid": "fad8a44c-bea4-f616-aa69-731db35b2498"
      },
      "outputs": [],
      "source": [
        "Model1 = Logis.fit(Trainfeature,train['Label'])"
      ]
    },
    {
      "cell_type": "code",
      "execution_count": null,
      "metadata": {
        "_cell_guid": "eeaedf7b-7c15-002f-67fb-214da1b045b7"
      },
      "outputs": [],
      "source": [
        "Model1"
      ]
    },
    {
      "cell_type": "code",
      "execution_count": null,
      "metadata": {
        "_cell_guid": "c7323d3a-7e62-a78b-4846-ca1b7ac79ce2"
      },
      "outputs": [],
      "source": [
        "testheadlines =[]\n",
        "for row in range(0,len(test.index)):\n",
        "    testheadlines.append(' '.join(str(x) for x in test.iloc[row,2:27]))"
      ]
    },
    {
      "cell_type": "code",
      "execution_count": null,
      "metadata": {
        "_cell_guid": "73913e28-bbea-6370-d6a4-747ffcbfaa7c"
      },
      "outputs": [],
      "source": [
        "len(testheadlines)"
      ]
    },
    {
      "cell_type": "code",
      "execution_count": null,
      "metadata": {
        "_cell_guid": "38845945-c0d9-cf7d-f097-a74dd02f8ce5"
      },
      "outputs": [],
      "source": [
        "Testfeature = trainvect.transform(testheadlines)"
      ]
    },
    {
      "cell_type": "code",
      "execution_count": null,
      "metadata": {
        "_cell_guid": "6283f3cc-4493-a1df-3231-303b36ec56d6"
      },
      "outputs": [],
      "source": [
        "Testfeature.shape"
      ]
    },
    {
      "cell_type": "code",
      "execution_count": null,
      "metadata": {
        "_cell_guid": "34a686d2-e992-f055-49c8-2529ff0fdee0"
      },
      "outputs": [],
      "source": [
        "Predicted = Model1.predict(Testfeature)"
      ]
    },
    {
      "cell_type": "code",
      "execution_count": null,
      "metadata": {
        "_cell_guid": "364584cb-33a2-565b-d43b-000d6f38a709"
      },
      "outputs": [],
      "source": [
        "Predicted.shape"
      ]
    },
    {
      "cell_type": "code",
      "execution_count": null,
      "metadata": {
        "_cell_guid": "494d1221-5fd3-0404-d0ad-d0b8a3ca0cb8"
      },
      "outputs": [],
      "source": [
        "pd.crosstab(test[\"Label\"], Predicted , rownames=[\"Actual\"] , colnames= [\"Predict\"])"
      ]
    },
    {
      "cell_type": "markdown",
      "metadata": {
        "_cell_guid": "15cbde32-53c6-670a-9312-34549374ec15"
      },
      "source": [
        "Model Naive Bayes"
      ]
    },
    {
      "cell_type": "code",
      "execution_count": null,
      "metadata": {
        "_cell_guid": "d0891311-bcb5-ea49-f1ff-ec9937cd551e"
      },
      "outputs": [],
      "source": [
        "from sklearn.naive_bayes import MultinomialNB\n",
        "\n",
        "Nb = MultinomialNB()"
      ]
    },
    {
      "cell_type": "code",
      "execution_count": null,
      "metadata": {
        "_cell_guid": "2a3a70c9-1a31-1818-7600-f7cc2b0eee08"
      },
      "outputs": [],
      "source": [
        "Model2 = Nb.fit(Trainfeature,train['Label'])"
      ]
    },
    {
      "cell_type": "code",
      "execution_count": null,
      "metadata": {
        "_cell_guid": "89561b55-0ed2-2fc4-5525-cfa814bb13a2"
      },
      "outputs": [],
      "source": [
        "Nbpredicted = Model2.predict(Testfeature)"
      ]
    },
    {
      "cell_type": "code",
      "execution_count": null,
      "metadata": {
        "_cell_guid": "55120242-4bd0-6eab-6427-96e14547b63c"
      },
      "outputs": [],
      "source": [
        "Nbpredicted.shape"
      ]
    },
    {
      "cell_type": "code",
      "execution_count": null,
      "metadata": {
        "_cell_guid": "33053684-3d48-d00a-af52-de8d535153dd"
      },
      "outputs": [],
      "source": [
        "pd.crosstab(test[\"Label\"], Nbpredicted, rownames= [\"Acutal\"],colnames=[\"Predict\"])"
      ]
    },
    {
      "cell_type": "code",
      "execution_count": null,
      "metadata": {
        "_cell_guid": "597d6f6a-856f-d4d6-b8a8-a7c3750014ec"
      },
      "outputs": [],
      "source": [
        "\n",
        "import numpy as np\n",
        "from sklearn.metrics import accuracy_score\n",
        "y_NaviBayes = Nbpredicted\n",
        "y_true = test[\"Label\"]\n",
        "accuracy_score(y_NaviBayes,y_true)\n",
        "x_Logist = Predicted\n",
        "x_true = test[\"Label\"]\n",
        "accuracy_score(x_Logist,x_true)\n"
      ]
    },
    {
      "cell_type": "markdown",
      "metadata": {
        "_cell_guid": "b0abad32-64ce-97d9-cc2a-4321c012e445"
      },
      "source": [
        "**Ngram Model**"
      ]
    },
    {
      "cell_type": "code",
      "execution_count": null,
      "metadata": {
        "_cell_guid": "d7a7121e-b4ba-19aa-d572-342bda6af74c"
      },
      "outputs": [],
      "source": [
        "advvect = CountVectorizer(ngram_range=(1,2))\n",
        "%time\n",
        "advancedtrain = advvect.fit_transform(trainheadlines)\n",
        "advancedtrain.shape\n"
      ]
    },
    {
      "cell_type": "markdown",
      "metadata": {
        "_cell_guid": "81c51abc-07c4-4b9d-38d5-9e2967f0640f"
      },
      "source": [
        "Model Naive Bayes - Ngram"
      ]
    },
    {
      "cell_type": "code",
      "execution_count": null,
      "metadata": {
        "_cell_guid": "4ac0df15-e189-eb54-432a-b5712bde7104"
      },
      "outputs": [],
      "source": [
        "advmodel = MultinomialNB()\n",
        "advancemodel = advmodel.fit(advancedtrain,train[\"Label\"])\n",
        "advancetest = advvect.transform(testheadlines)\n",
        "advNBprediction = advmodel.predict(advancetest) \n",
        "advNBprediction.shape\n",
        "\n",
        "\n"
      ]
    },
    {
      "cell_type": "code",
      "execution_count": null,
      "metadata": {
        "_cell_guid": "b45f440e-a047-c94a-5ff1-4b4210b174a3"
      },
      "outputs": [],
      "source": [
        "pd.crosstab(test[\"Label\"],advNBprediction, rownames=[\"Acutal\"],colnames=[\"Predicted\"])"
      ]
    },
    {
      "cell_type": "code",
      "execution_count": null,
      "metadata": {
        "_cell_guid": "f38849ff-d984-aec2-56ae-c4649321444e"
      },
      "outputs": [],
      "source": [
        "x_adNB = advNBprediction\n",
        "x_test = test[\"Label\"]"
      ]
    },
    {
      "cell_type": "code",
      "execution_count": null,
      "metadata": {
        "_cell_guid": "8090e55a-824c-1463-8642-57dbdfa2b0ad"
      },
      "outputs": [],
      "source": [
        "accuracy_score(x_test,x_adNB)"
      ]
    },
    {
      "cell_type": "code",
      "execution_count": null,
      "metadata": {
        "_cell_guid": "e40a85d3-f457-0ba1-bb40-8272b8548842"
      },
      "outputs": [],
      "source": [
        "from sklearn import metrics\n",
        "metrics.accuracy_score(x_test,x_adNB)"
      ]
    },
    {
      "cell_type": "markdown",
      "metadata": {
        "_cell_guid": "46723e99-981e-00c8-fc5c-34f98f7e8d6c"
      },
      "source": [
        "**Latent Dirichlet Allocation**\n",
        "Topic Modeling \n"
      ]
    },
    {
      "cell_type": "code",
      "execution_count": null,
      "metadata": {
        "_cell_guid": "0532ba01-1012-996b-d5fe-1bad423f77e2"
      },
      "outputs": [],
      "source": [
        "from nltk.tokenize import RegexpTokenizer\n",
        "from stop_words import get_stop_words\n",
        "from nltk.stem.porter import PorterStemmer\n",
        "from gensim import corpora, models\n",
        "import gensim"
      ]
    },
    {
      "cell_type": "code",
      "execution_count": null,
      "metadata": {
        "_cell_guid": "311a5ca6-c40f-f929-be17-6fdab7193b22"
      },
      "outputs": [],
      "source": [
        "%time\n",
        "tokenizer = RegexpTokenizer(r'\\w+')\n",
        "\n",
        "# create English stop words list\n",
        "en_stop = get_stop_words('en')\n",
        "\n",
        "# Create p_stemmer of class PorterStemmer\n",
        "p_stemmer = PorterStemmer()\n",
        "    \n",
        "#Our Document\n",
        "trainheadlines\n",
        "\n",
        "# list for tokenized documents in loop\n",
        "texts = []\n",
        "\n",
        "# loop through document list\n",
        "for i in trainheadlines:\n",
        "    \n",
        "    # clean and tokenize document string\n",
        "    raw = i.lower()\n",
        "    tokens = tokenizer.tokenize(raw)\n",
        "\n",
        "    # remove stop words from tokens\n",
        "    stopped_tokens = [i for i in tokens if not i in en_stop]\n",
        "    \n",
        "    # stem tokens\n",
        "    stemmed_tokens = [p_stemmer.stem(i) for i in stopped_tokens]\n",
        "    \n",
        "    # add tokens to list\n",
        "    texts.append(stemmed_tokens)\n",
        "\n",
        "# turn our tokenized documents into a id <-> term dictionary\n",
        "dictionary = corpora.Dictionary(texts)\n",
        "    \n",
        "# convert tokenized documents into a document-term matrix\n",
        "corpus = [dictionary.doc2bow(text) for text in texts]"
      ]
    },
    {
      "cell_type": "code",
      "execution_count": null,
      "metadata": {
        "_cell_guid": "3826eeee-9622-4b03-41a2-bd7c952da359"
      },
      "outputs": [],
      "source": [
        "%time\n",
        "#generate LDA\n",
        "ldamodel = gensim.models.ldamodel.LdaModel(corpus, num_topics=10, id2word = dictionary, passes=1,chunksize=10000,update_every=1)"
      ]
    },
    {
      "cell_type": "code",
      "execution_count": null,
      "metadata": {
        "_cell_guid": "7841b8f8-1d5f-2e03-ae11-bc73ebfa92b6"
      },
      "outputs": [],
      "source": [
        "import pyLDAvis.gensim%time\n",
        "print(ldamodel.print_topics(num_topics=10, num_words=3))"
      ]
    },
    {
      "cell_type": "code",
      "execution_count": null,
      "metadata": {
        "_cell_guid": "e6623989-30f4-9198-0468-a6411eb52b5b"
      },
      "outputs": [],
      "source": [
        "ldamodel.print_topics(5)"
      ]
    },
    {
      "cell_type": "code",
      "execution_count": null,
      "metadata": {
        "_cell_guid": "d622d569-ba41-7316-9925-b36c28bf6962"
      },
      "outputs": [],
      "source": [
        "import pyLDAvis.gensim\n",
        "pyLDAvis.enable_notebook()\n",
        "news = pyLDAvis.gensim.prepare(ldamodel,corpus, dictionary)\n",
        "\n"
      ]
    },
    {
      "cell_type": "code",
      "execution_count": null,
      "metadata": {
        "_cell_guid": "049caef5-b570-301c-f844-07d7eb516ed0"
      },
      "outputs": [],
      "source": [
        "news"
      ]
    }
  ],
  "metadata": {
    "_change_revision": 0,
    "_is_fork": false,
    "kernelspec": {
      "display_name": "Python 3",
      "language": "python",
      "name": "python3"
    },
    "language_info": {
      "codemirror_mode": {
        "name": "ipython",
        "version": 3
      },
      "file_extension": ".py",
      "mimetype": "text/x-python",
      "name": "python",
      "nbconvert_exporter": "python",
      "pygments_lexer": "ipython3",
      "version": "3.5.2"
    }
  },
  "nbformat": 4,
  "nbformat_minor": 0
}