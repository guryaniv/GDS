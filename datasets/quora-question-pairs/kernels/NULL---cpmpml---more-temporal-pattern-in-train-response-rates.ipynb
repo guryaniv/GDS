{
  "cells": [
    {
      "cell_type": "markdown",
      "metadata": {
        "_cell_guid": "a20db935-e2e1-ffe7-61b3-8a9e7cf44332"
      },
      "source": [
        "I'd like to share some additional analysis on top of what Ash found.  First, let me reproduce his findings."
      ]
    },
    {
      "cell_type": "markdown",
      "metadata": {
        "_cell_guid": "936adb50-0332-1adc-79ba-0d1d8a22eb98"
      },
      "source": [
        "Here's a quick attempt at exploring why the train set average response rate could be so different to that observed in the Public LB\n",
        "\n",
        "If we make the assumption that there's an underlying temporal pattern to the data, and use the qid values as a proxy for it (higher qid value implies more recent question), then re-sorting the train set by increasing qid and plotting the sliding window of mean response rate should show us some pattern.\n"
      ]
    },
    {
      "cell_type": "code",
      "execution_count": null,
      "metadata": {
        "_cell_guid": "83f9757a-d270-8155-af97-9c4941cdffc5"
      },
      "outputs": [],
      "source": [
        "\n",
        "import numpy as np # linear algebra\n",
        "import pandas as pd # data processing, CSV file I/O (e.g. pd.read_csv)\n",
        "import matplotlib.pyplot as plt\n",
        "\n",
        "df = pd.read_csv( \"../input/train.csv\")\n",
        "\n",
        "df[\"qmax\"]      = df.apply( lambda row: max(row[\"qid1\"], row[\"qid2\"]), axis=1 )\n",
        "df              = df.sort_values(by=[\"qmax\"], ascending=True)\n",
        "df[\"dupe_rate\"] = df.is_duplicate.rolling(window=500, min_periods=500).mean()\n",
        "df[\"timeline\"]  = np.arange(df.shape[0]) / float(df.shape[0])\n",
        "\n",
        "df.plot(x=\"timeline\", y=\"dupe_rate\", kind=\"line\")\n",
        "plt.show()"
      ]
    },
    {
      "cell_type": "markdown",
      "metadata": {
        "_cell_guid": "ec29b0de-4357-3efc-ec59-af471196508e"
      },
      "source": [
        "The above pattern, and the ~16.5% LB response rate reported by others, imply that the Public LB (and possibly Private LB) are potentially sourced from more recent data than the training set.\n",
        "\n",
        "If this holds, then we could also use this concept to more appropriately construct validation data splits and training data sampling\n",
        "\n"
      ]
    },
    {
      "cell_type": "markdown",
      "metadata": {
        "_cell_guid": "b83ce878-3645-3e2c-5c39-63701384c99d"
      },
      "source": [
        "Now, here is what I got."
      ]
    },
    {
      "cell_type": "code",
      "execution_count": null,
      "metadata": {
        "_cell_guid": "1e262363-f315-6eaa-b460-a79ddb4a8005"
      },
      "outputs": [],
      "source": [
        "df[\"qdiff\"]      = df.apply( lambda row: abs(row[\"qid1\"] - row[\"qid2\"]), axis=1 )\n",
        "df              = df.sort_values(by=[\"qdiff\"], ascending=True)\n",
        "df[\"dupe_rate_diff\"] = df.is_duplicate.rolling(window=500, min_periods=500).mean()\n",
        "df[\"timeline\"]  = np.arange(df.shape[0]) / float(df.shape[0])\n",
        "\n",
        "df.plot(x=\"timeline\", y=\"dupe_rate_diff\", kind=\"line\")\n",
        "plt.show()"
      ]
    }
  ],
  "metadata": {
    "_change_revision": 0,
    "_is_fork": false,
    "kernelspec": {
      "display_name": "Python 3",
      "language": "python",
      "name": "python3"
    },
    "language_info": {
      "codemirror_mode": {
        "name": "ipython",
        "version": 3
      },
      "file_extension": ".py",
      "mimetype": "text/x-python",
      "name": "python",
      "nbconvert_exporter": "python",
      "pygments_lexer": "ipython3",
      "version": "3.6.0"
    }
  },
  "nbformat": 4,
  "nbformat_minor": 0
}