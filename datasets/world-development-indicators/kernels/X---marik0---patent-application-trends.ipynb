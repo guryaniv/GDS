{"cells":[
 {
  "cell_type": "code",
  "execution_count": null,
  "metadata": {
   "collapsed": false
  },
  "outputs": [],
  "source": "%matplotlib inline\nimport numpy as np # linear algebra\nimport pandas as pd # data processing, CSV file I/O (e.g. pd.read_csv)\nimport seaborn as sns\nimport matplotlib.pyplot as plt"
 },
 {
  "cell_type": "code",
  "execution_count": null,
  "metadata": {
   "collapsed": false
  },
  "outputs": [],
  "source": "indicators = pd.read_csv('../input/Indicators.csv')"
 },
 {
  "cell_type": "code",
  "execution_count": null,
  "metadata": {
   "collapsed": false
  },
  "outputs": [],
  "source": "# Get the number of patents both for residents and non residents\npatents = indicators[(indicators.IndicatorCode == 'IP.PAT.RESD') | (indicators.IndicatorCode == 'IP.PAT.NRES')]\npatents[:5]"
 },
 {
  "cell_type": "code",
  "execution_count": null,
  "metadata": {
   "collapsed": false
  },
  "outputs": [],
  "source": "population = indicators[indicators.IndicatorCode == 'SP.POP.TOTL']\npopulation[:5]"
 },
 {
  "cell_type": "markdown",
  "metadata": {},
  "source": "## Total number of patent applications since 1960\nLooking at the graph below, it seems that Japan leads the race with the US in the second place."
 },
 {
  "cell_type": "code",
  "execution_count": null,
  "metadata": {
   "collapsed": false
  },
  "outputs": [],
  "source": "china_tot = patents[patents.CountryName == 'China'].sum()\nusa_tot = patents[patents.CountryName == 'United States'].sum()\njapan_tot = patents[patents.CountryName == 'Japan'].sum()\nkorea_tot = patents[patents.CountryName == 'Korea, Rep.'].sum()\nuk_tot = patents[patents.CountryName == 'United Kingdom'].sum()\nrussia_tot = patents[patents.CountryName == 'Russian Federation'].sum()\nindia_tot = patents[patents.CountryName == 'India'].sum()\n\n# Prepare the input for the graph\nvals = np.array([int(china_tot.Value), int(usa_tot.Value), int(japan_tot.Value), int(korea_tot.Value), int(uk_tot.Value), int(russia_tot.Value), int(india_tot.Value)])\ncountries = np.array(['China', 'USA', 'Japan', 'Korea', 'UK', 'Russia', 'India'])"
 },
 {
  "cell_type": "code",
  "execution_count": null,
  "metadata": {
   "collapsed": false
  },
  "outputs": [],
  "source": "plt.figure(figsize=(14,7))\nsns.barplot(countries, vals, palette=\"Set3\")\nplt.title(\"Total number of patent applications since 1960\", fontsize=14)\nplt.ylabel(\"Number of applications\", fontsize=14)"
 },
 {
  "cell_type": "markdown",
  "metadata": {},
  "source": "## What if we zoom in the last 10 years?\nUSA is now taking the first place with China in second."
 },
 {
  "cell_type": "code",
  "execution_count": null,
  "metadata": {
   "collapsed": false
  },
  "outputs": [],
  "source": "china_tot10 = patents[(patents.CountryName == 'China') & (patents.Year > 2005)].sum()\nusa_tot10 = patents[(patents.CountryName == 'United States') & (patents.Year > 2005)].sum()\njapan_tot10 = patents[(patents.CountryName == 'Japan') & (patents.Year > 2005)].sum()\nkorea_tot10 = patents[(patents.CountryName == 'Korea, Rep.') & (patents.Year > 2005)].sum()\nuk_tot10 = patents[(patents.CountryName == 'United Kingdom') & (patents.Year > 2005)].sum()\nrussia_tot10 = patents[(patents.CountryName == 'Russian Federation') & (patents.Year > 2005)].sum()\nindia_tot10 = patents[(patents.CountryName == 'India') & (patents.Year > 2005)].sum()\n\n# Preparing the input for the graph\nvals = np.array([int(china_tot10.Value), int(usa_tot10.Value), int(japan_tot10.Value), int(korea_tot10.Value), int(uk_tot10.Value), int(russia_tot10.Value), int(india_tot10.Value)])"
 },
 {
  "cell_type": "code",
  "execution_count": null,
  "metadata": {
   "collapsed": false
  },
  "outputs": [],
  "source": "plt.figure(figsize=(14,7))\nplt.title(\"Total number of patent applications since 2006\", fontsize=14)\nplt.ylabel(\"Number of applications\", fontsize=14)\nsns.barplot(countries, vals, palette=\"Set3\")"
 },
 {
  "cell_type": "markdown",
  "metadata": {},
  "source": "## The time series reveals the trend\nGrouping by the year and taking the sum will add both the resident and non-resident \napplications per country."
 },
 {
  "cell_type": "code",
  "execution_count": null,
  "metadata": {
   "collapsed": false
  },
  "outputs": [],
  "source": "china_t = patents[patents.CountryName == 'China'].groupby('Year').sum()\nusa_t = patents[patents.CountryName == 'United States'].groupby('Year').sum()\njapan_t = patents[patents.CountryName == 'Japan'].groupby('Year').sum()\nkorea_t = patents[patents.CountryName == 'Korea, Rep.'].groupby('Year').sum()\nuk_t = patents[patents.CountryName == 'United Kingdom'].groupby('Year').sum()\nrussia_t = patents[patents.CountryName == 'Russian Federation'].groupby('Year').sum()\nindia_t = patents[patents.CountryName == 'India'].groupby('Year').sum()"
 },
 {
  "cell_type": "code",
  "execution_count": null,
  "metadata": {
   "collapsed": false
  },
  "outputs": [],
  "source": "plt.figure(figsize=(14,7))\nplt.plot(china_t, label='China')\nplt.plot(usa_t, label='USA')\nplt.plot(korea_t, label='Korea Rep.')\nplt.plot(japan_t, label='Japan')\nplt.plot(uk_t, label='UK')\nplt.plot(russia_t, label='Russia')\nplt.plot(india_t, label='India')\nplt.xlabel('Years',  fontsize=12)\nplt.ylabel('# of Patent Applications',  fontsize=12)\nplt.legend(bbox_to_anchor=(1.05, 1), loc=2, borderaxespad=0.)\nplt.title(\"Patent Applications\")"
 },
 {
  "cell_type": "markdown",
  "metadata": {},
  "source": "## What about the applications per capita?\nSome countries are larger than other others and it is excpected to have larger number of patent applications than the smaller ones. Let's take a look at how many patents did each country produce per a hundrend thousand residents."
 },
 {
  "cell_type": "code",
  "execution_count": null,
  "metadata": {
   "collapsed": false
  },
  "outputs": [],
  "source": "# The reason to group by the year and take the sum is to create a similar structure\n# as with the time series above so that we can merge using the same index\nchina_pop = population[population.CountryName == 'China'].groupby('Year').sum()\nusa_pop = population[population.CountryName == 'United States'].groupby('Year').sum()\njapan_pop = population[population.CountryName == 'Japan'].groupby('Year').sum()\nkorea_pop = population[population.CountryName == 'Korea, Rep.'].groupby('Year').sum()\nuk_pop = population[population.CountryName == 'United Kingdom'].groupby('Year').sum()\nrussia_pop = population[population.CountryName == 'Russia'].groupby('Year').sum()\nindia_pop = population[population.CountryName == 'India'].groupby('Year').sum()"
 },
 {
  "cell_type": "code",
  "execution_count": null,
  "metadata": {
   "collapsed": false
  },
  "outputs": [],
  "source": "# There might be an easier way to do this merge\nchina100k = pd.merge(china_t, china_pop, left_index=True, right_index=True)\nusa100k = pd.merge(usa_t, usa_pop, left_index=True, right_index=True)\njapan100k = pd.merge(japan_t, japan_pop, left_index=True, right_index=True)\nkorea100k = pd.merge(korea_t, korea_pop, left_index=True, right_index=True)\nuk100k = pd.merge(uk_t, uk_pop, left_index=True, right_index=True)\nrussia100k = pd.merge(russia_t, russia_pop, left_index=True, right_index=True)\nindia100k = pd.merge(india_t, india_pop, left_index=True, right_index=True)"
 },
 {
  "cell_type": "code",
  "execution_count": null,
  "metadata": {
   "collapsed": false
  },
  "outputs": [],
  "source": "plt.figure(figsize=(14,7))\nplt.plot(1e6*china100k.Value_x/china100k.Value_y, label='China')\nplt.plot(1e6*usa100k.Value_x/usa100k.Value_y, label='USA')\nplt.plot(1e6*korea100k.Value_x/korea100k.Value_y, label='Korea Rep.')\nplt.plot(1e6*japan100k.Value_x/japan100k.Value_y, label='Japan')\nplt.plot(1e6*uk100k.Value_x/uk100k.Value_y, label='UK')\nplt.plot(1e6*russia100k.Value_x/russia100k.Value_y, label='Russia')\nplt.plot(1e6*india100k.Value_x/india100k.Value_y, label='India')\nplt.xlabel('Years',  fontsize=14)\nplt.ylabel('# of Patent Applications per 100k population',  fontsize=14)\nplt.legend(bbox_to_anchor=(1.05, 1), loc=2, borderaxespad=0.)\nplt.title(\"Patent Applications per 100k population\", fontsize=14)"
 },
 {
  "cell_type": "markdown",
  "metadata": {},
  "source": "## Conclusion\nIt seems that China is the emerging power when it comes to the patent applications that are filed in a yearly basis.\nKorea has the highest number of applications per resident but being a smaller country, it produces less applications than China, US and Japan."
 }
],"metadata":{"kernelspec":{"display_name":"Python 3","language":"python","name":"python3"}}, "nbformat": 4, "nbformat_minor": 0}