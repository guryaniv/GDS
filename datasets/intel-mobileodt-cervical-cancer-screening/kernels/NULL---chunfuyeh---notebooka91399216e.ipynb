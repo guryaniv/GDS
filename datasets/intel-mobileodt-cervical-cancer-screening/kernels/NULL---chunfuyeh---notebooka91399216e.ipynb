{
  "cells": [
    {
      "cell_type": "markdown",
      "metadata": {
        "_cell_guid": "7b2fd960-5e74-33e0-bca6-c06c83bbb53a"
      },
      "source": [
        "ddd"
      ]
    },
    {
      "cell_type": "code",
      "execution_count": null,
      "metadata": {
        "_cell_guid": "ab1ffa9f-c974-288a-33f3-398db92bc9e3"
      },
      "outputs": [],
      "source": [
        "import subprocess\n",
        "# Get all the data path in train\n",
        "train_data_dir = \"../input/train/\"\n",
        "complished_process_for_folders = subprocess.run(['ls', train_data_dir],\\\n",
        "                                          stdout = subprocess.PIPE, encoding = \"utf8\")\n",
        "print(complished_process_for_folders.stdout)"
      ]
    },
    {
      "cell_type": "code",
      "execution_count": null,
      "metadata": {
        "_cell_guid": "2e4c3f8d-a836-39c6-1e55-0f94e2191ba7"
      },
      "outputs": [],
      "source": [
        "import pandas as pd\n",
        "# Get folders for 3 types\n",
        "type_folders = complished_process_for_folders.stdout.strip().split('\\n')\n",
        "\n",
        "# Get image names \n",
        "image_names = pd.DataFrame()\n",
        "for folder in type_folders:\n",
        "    complised_process_for_images = subprocess.run(['ls', train_data_dir + folder +'/'],\\\n",
        "                                                 stdout = subprocess.PIPE, encoding = \"utf8\")\n",
        "    image_names_in_folder = complised_process_for_images.stdout.strip().split('\\n')\n",
        "    df = pd.DataFrame({folder: image_names_in_folder})\n",
        "    image_names = pd.concat([image_names, df], axis = 1)\n",
        "    \n",
        "image_names"
      ]
    },
    {
      "cell_type": "code",
      "execution_count": null,
      "metadata": {
        "_cell_guid": "dcc14036-e1e8-7cb0-1d69-c9ed11728fba"
      },
      "outputs": [],
      "source": [
        "# Number of image files of each type\n",
        "image_names.count()"
      ]
    },
    {
      "cell_type": "code",
      "execution_count": null,
      "metadata": {
        "_cell_guid": "e8e14be4-2f2d-267c-c08a-670774db23d6"
      },
      "outputs": [],
      "source": ""
    },
    {
      "cell_type": "code",
      "execution_count": null,
      "metadata": {
        "_cell_guid": "bea32038-25fd-f428-19c6-d707a05ac0ed"
      },
      "outputs": [],
      "source": [
        "import cv2\n",
        "# check the shape of each image\n",
        "image_shapes = pd.DataFrame()\n",
        "for image_type in image_names.columns:\n",
        "    image_shape_temp = []\n",
        "    for i in range(image_names[image_type].count()):\n",
        "        image_dir = train_data_dir + image_type + '/' + image_names[image_type][i]\n",
        "        img_shape = (cv2.imread(image_dir,cv2.IMREAD_UNCHANGED)).shape\n",
        "        image_shape_temp.append(img_shape)\n",
        "    image_shapes = pd.concat([image_shapes, pd.DataFrame({image_type: image_shape_temp})], axis = 1)\n",
        "image_shapes"
      ]
    },
    {
      "cell_type": "code",
      "execution_count": null,
      "metadata": {
        "_cell_guid": "d3345109-4111-0faf-0c80-28961db059c3"
      },
      "outputs": [],
      "source": [
        "for image_type in image_shapes.columns:\n",
        "    image_shapes[image_type].value_counts()"
      ]
    },
    {
      "cell_type": "code",
      "execution_count": null,
      "metadata": {
        "_cell_guid": "569a5532-c1eb-db21-a94f-5e671f1c9068"
      },
      "outputs": [],
      "source": ""
    }
  ],
  "metadata": {
    "_change_revision": 0,
    "_is_fork": false,
    "kernelspec": {
      "display_name": "Python 3",
      "language": "python",
      "name": "python3"
    },
    "language_info": {
      "codemirror_mode": {
        "name": "ipython",
        "version": 3
      },
      "file_extension": ".py",
      "mimetype": "text/x-python",
      "name": "python",
      "nbconvert_exporter": "python",
      "pygments_lexer": "ipython3",
      "version": "3.6.0"
    }
  },
  "nbformat": 4,
  "nbformat_minor": 0
}