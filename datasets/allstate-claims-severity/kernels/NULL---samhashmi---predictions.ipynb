{
  "cells": [
    {
      "cell_type": "code",
      "execution_count": null,
      "metadata": {
        "_cell_guid": "7174cf8c-994f-436e-a6fb-a824a0e5ae3b"
      },
      "outputs": [],
      "source": [
        "# This Python 3 environment comes with many helpful analytics libraries installed\n",
        "# It is defined by the kaggle/python docker image: https://github.com/kaggle/docker-python\n",
        "# For example, here's several helpful packages to load in \n",
        "\n",
        "import numpy as np # linear algebra\n",
        "import pandas as pd # data processing, CSV file I/O (e.g. pd.read_csv)\n",
        "from sklearn.cross_validation import KFold, train_test_split\n",
        "from sklearn.ensemble import ExtraTreesRegressor\n",
        "from sklearn.ensemble import RandomForestRegressor\n",
        "from sklearn.metrics import mean_absolute_error \n",
        "import xgboost as xgb\n",
        "\n",
        "# Input data files are available in the \"../input/\" directory.\n",
        "# For example, running this (by clicking run or pressing Shift+Enter) will list the files in the input directory\n",
        "\n",
        "from subprocess import check_output\n",
        "print(check_output([\"ls\", \"../input\"]).decode(\"utf8\"))\n",
        "\n",
        "# Any results you write to the current directory are saved as output."
      ]
    },
    {
      "cell_type": "code",
      "execution_count": null,
      "metadata": {
        "_cell_guid": "0bb121d1-00ad-2c8d-3610-8032eda6377e"
      },
      "outputs": [],
      "source": [
        "read_file=pd.read_csv('../input/train.csv',  sep=\",\")\n",
        "read_file.head(5)"
      ]
    },
    {
      "cell_type": "code",
      "execution_count": null,
      "metadata": {
        "_cell_guid": "1d62b889-050c-2818-cce1-8ae7a2496ede"
      },
      "outputs": [],
      "source": [
        "for i in read_file.columns:\n",
        "    if(not i.find('cat')):\n",
        "        categories={}\n",
        "        for p,j in enumerate(read_file[i].unique()):\n",
        "            categories[j]=p\n",
        "        read_file[i]=read_file[i].map(categories)\n",
        "read_file=read_file.drop(['id'], axis=1)"
      ]
    },
    {
      "cell_type": "code",
      "execution_count": null,
      "metadata": {
        "_cell_guid": "8c294de0-e80c-38af-f5be-e45dba7f9291"
      },
      "outputs": [],
      "source": [
        "data=read_file[:500]\n",
        "clf=RandomForestRegressor( n_estimators=22)\n",
        "clf.fit(data.ix[:, data.columns != 'loss'], data['loss'])"
      ]
    },
    {
      "cell_type": "code",
      "execution_count": null,
      "metadata": {
        "_cell_guid": "e7968888-e2a9-632e-8599-ae8f40d29493"
      },
      "outputs": [],
      "source": [
        "data=read_file[0:100]\n",
        "clf.predict(data.ix[:, data.columns != 'loss'])"
      ]
    },
    {
      "cell_type": "code",
      "execution_count": null,
      "metadata": {
        "_cell_guid": "d8e2168f-2e36-5948-8412-65f9121c89d7"
      },
      "outputs": [],
      "source": [
        "training_data, validation_data=train_test_split(read_file, test_size=0.30, random_state=42)"
      ]
    },
    {
      "cell_type": "code",
      "execution_count": null,
      "metadata": {
        "_cell_guid": "2bc0c8a2-058a-6542-5401-eaa96efc45b3"
      },
      "outputs": [],
      "source": [
        "class Sklearn_class(object):\n",
        "    def __init__(self,clf, seed, params=0):\n",
        "        params['random_state']=seed\n",
        "        self.clf=clf(**params)\n",
        "    def train(self, train_x, train_y):\n",
        "        cv=KFold(len(train_x), n_folds=10)\n",
        "        for train, validation in cv:\n",
        "            training=self.clf.fit(train_x.iloc[train], train_y.iloc[train])\n",
        "            validation=training.predict(train_x.iloc[validation])\n",
        "            print(mean_absolute_error(validation, train_y.iloc[validation]))\n",
        "    def test(self, y_test):\n",
        "        return self.clf.predict(y_test)\n",
        "        "
      ]
    },
    {
      "cell_type": "code",
      "execution_count": null,
      "metadata": {
        "_cell_guid": "b4bb06ec-ec3f-107d-06b0-f683aa3ff016"
      },
      "outputs": [],
      "source": [
        "et_params = {\n",
        "    'n_jobs': 16,\n",
        "    'n_estimators': 200,\n",
        "    'max_features': 0.5,\n",
        "    'max_depth': 12,\n",
        "    'min_samples_leaf': 2,\n",
        "}\n",
        "\n",
        "rf_params = {\n",
        "    'n_jobs': 16,\n",
        "    'n_estimators': 200,\n",
        "    'max_features': 0.2,\n",
        "    'max_depth': 8,\n",
        "    'min_samples_leaf': 2,\n",
        "}\n",
        "\n",
        "et = Sklearn_class(clf=ExtraTreesRegressor, seed=0, params=et_params)\n",
        "train=et.train(training_data.ix[:, training_data.columns != 'loss'], training_data['loss'])\n",
        "results=et.test(validation_data.ix[:, validation_data.columns != 'loss'])\n"
      ]
    },
    {
      "cell_type": "code",
      "execution_count": null,
      "metadata": {
        "_cell_guid": "847017c3-cd79-0ac5-c3c2-0aedfeba7f96"
      },
      "outputs": [],
      "source": [
        "rfr = Sklearn_class(clf=RandomForestRegressor, seed=0, params=et_params)\n",
        "train=rfr.train(training_data.ix[:, training_data.columns != 'loss'], training_data['loss'])\n",
        "results_rf=rfr.test(validation_data.ix[:, validation_data.columns != 'loss'])"
      ]
    },
    {
      "cell_type": "code",
      "execution_count": null,
      "metadata": {
        "_cell_guid": "82f9a356-f9e4-b6dc-49d7-fbe15b14e480"
      },
      "outputs": [],
      "source": [
        "meanvalidation_data.ix[:, validation_data.columns != 'loss']_absolute_error(results, validation_data['loss']), mean_absolute_error(results_rf, validation_data['loss'])"
      ]
    },
    {
      "cell_type": "code",
      "execution_count": null,
      "metadata": {
        "_cell_guid": "38ae8ec0-a869-c104-20fc-1bd829e7f04c"
      },
      "outputs": [],
      "source": [
        "dtrain = xgb.DMatrix(training_data.ix[:, training_data.columns != 'loss'], training_data['loss'])\n",
        "xgb_params = {\n",
        "    'seed': 0,\n",
        "    'colsample_bytree': 0.7,\n",
        "    'silent': 1,\n",
        "    'subsample': 0.7,\n",
        "    'learning_rate': 0.075,\n",
        "    'objective': 'reg:linear',\n",
        "    'max_depth': 7,\n",
        "    'num_parallel_tree': 1,\n",
        "    'min_child_weight': 1,\n",
        "    'eval_metric': 'mae',\n",
        "    'nrounds': 250\n",
        "}\n",
        "num_round = 250\n",
        "bst = xgb.train(xgb_params, dtrain, num_round)"
      ]
    },
    {
      "cell_type": "code",
      "execution_count": null,
      "metadata": {
        "_cell_guid": "04b90254-2294-e34d-c41f-f1c620113d8f"
      },
      "outputs": [],
      "source": [
        "dtest=xgb.DMatrix(validation_data.ix[:, validation_data.columns != 'loss'])\n",
        "results=bst.predict(dtest)"
      ]
    },
    {
      "cell_type": "code",
      "execution_count": null,
      "metadata": {
        "_cell_guid": "99cceabf-3620-7308-22bf-47ce21794e71"
      },
      "outputs": [],
      "source": [
        "mean_absolute_error(results, validation_data['loss'])"
      ]
    }
  ],
  "metadata": {
    "_change_revision": 0,
    "_is_fork": false,
    "kernelspec": {
      "display_name": "Python 3",
      "language": "python",
      "name": "python3"
    },
    "language_info": {
      "codemirror_mode": {
        "name": "ipython",
        "version": 3
      },
      "file_extension": ".py",
      "mimetype": "text/x-python",
      "name": "python",
      "nbconvert_exporter": "python",
      "pygments_lexer": "ipython3",
      "version": "3.5.2"
    }
  },
  "nbformat": 4,
  "nbformat_minor": 0
}