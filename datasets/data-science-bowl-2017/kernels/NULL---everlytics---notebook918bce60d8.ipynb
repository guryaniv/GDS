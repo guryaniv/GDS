{
  "metadata": {
    "kernelspec": {
      "display_name": "Python 3",
      "language": "python",
      "name": "python3"
    },
    "language_info": {
      "codemirror_mode": {
        "name": "ipython",
        "version": 3
      },
      "file_extension": ".py",
      "mimetype": "text/x-python",
      "name": "python",
      "nbconvert_exporter": "python",
      "pygments_lexer": "ipython3",
      "version": "3.6.0"
    }
  },
  "nbformat": 4,
  "nbformat_minor": 0,
  "cells": [
    {
      "metadata": {
        "_cell_guid": "75b1e4e0-c5f3-11cd-d763-aa82598a38b7",
        "_active": false,
        "collapsed": false
      },
      "source": null,
      "execution_count": null,
      "cell_type": "markdown",
      "outputs": [],
      "execution_state": "idle"
    },
    {
      "metadata": {
        "_cell_guid": "da9e50db-7287-76ef-ba77-c7357d7b7776",
        "_active": false,
        "collapsed": false
      },
      "source": "# This Python 3 environment comes with many helpful analytics libraries installed\n# It is defined by the kaggle/python docker image: https://github.com/kaggle/docker-python\n# For example, here's several helpful packages to load in \n\nimport numpy as np # linear algebra\nimport pandas as pd # data processing, CSV file I/O (e.g. pd.read_csv)\n\n# Input data files are available in the \"../input/\" directory.\n# For example, running this (by clicking run or pressing Shift+Enter) will list the files in the input directory\n\n#from subprocess import check_output\n#print(check_output([\"ls\", \"../input\"]).decode(\"utf8\"))\n\n# Any results you write to the current directory are saved as output.",
      "execution_count": null,
      "cell_type": "code",
      "outputs": [],
      "execution_state": "idle"
    },
    {
      "metadata": {
        "_cell_guid": "86b88aa0-7192-f863-bd2e-2662bd846b9a",
        "_active": false,
        "collapsed": false
      },
      "source": "%matplotlib inline\n\nimport numpy as np # linear algebra\nimport pandas as pd # data processing, CSV file I/O (e.g. pd.read_csv)\nimport dicom\nimport os\nimport scipy.ndimage\nimport matplotlib.pyplot as plt\n\nfrom skimage import measure, morphology\nfrom mpl_toolkits.mplot3d.art3d import Poly3DCollection\n\n# Some constants \nINPUT_FOLDER = '../input/sample_images/'\npatients = os.listdir(INPUT_FOLDER)\npatients.sort()",
      "execution_count": 13,
      "cell_type": "code",
      "outputs": [],
      "execution_state": "idle"
    },
    {
      "metadata": {
        "_cell_guid": "2bdac1ba-23d1-8430-791b-d985397f8ebe",
        "_active": false,
        "collapsed": false
      },
      "source": "slices = [dicom.read_file(path + '/' + s) for s in os.listdir(path)]",
      "execution_count": 16,
      "cell_type": "code",
      "outputs": [],
      "execution_state": "idle"
    },
    {
      "metadata": {
        "_cell_guid": "1268bc3a-08e8-709d-f3d8-039139febbf4",
        "_active": false,
        "collapsed": false
      },
      "source": "# Load the scans in given folder path\ndef load_scan(path):\n    slices = [dicom.read_file(path + '/' + s) for s in os.listdir(slices = [dicom.read_file(path + '/' + s) for s in os.listdir(path)])]\n    slices.sort(key = lambda x: float(x.ImagePositionPatient[2]))\n    try:\n        slice_thickness = np.abs(slices[0].ImagePositionPatient[2] - slices[1].ImagePositionPatient[2])\n    except:\n        slice_thickness = np.abs(slices[0].SliceLocation - slices[1].SliceLocation)\n        \n    for s in slices:\n        s.SliceThickness = slice_thickness\n        \n    return slices",
      "execution_count": 15,
      "cell_type": "code",
      "outputs": [],
      "execution_state": "idle"
    },
    {
      "metadata": {
        "_cell_guid": "a8a0bf39-a30b-ec1d-45f1-fea048fd94c0",
        "_active": false,
        "collapsed": false
      },
      "source": "path='../input/sample_images/0a099f2549429d29b32f349e95fb2244'",
      "execution_count": 37,
      "cell_type": "code",
      "outputs": [],
      "execution_state": "idle"
    },
    {
      "metadata": {
        "_cell_guid": "8b9dd5ad-750f-8886-6f8a-7e562ad5bb0f",
        "_active": false,
        "collapsed": false
      },
      "source": "slices = [dicom.read_file(path + '/' + s) for s in os.listdir(path)]\nslices.sort(key = lambda x: float(x.ImagePositionPatient[2]))",
      "execution_count": 47,
      "cell_type": "code",
      "outputs": [],
      "execution_state": "idle"
    },
    {
      "metadata": {
        "_cell_guid": "5ab3b72e-f5e5-f6f0-75bf-954fe78ed2c0",
        "_active": false,
        "collapsed": false
      },
      "source": "image = np.stack([s.pixel_array for s in slices])",
      "execution_count": 69,
      "cell_type": "code",
      "outputs": [],
      "execution_state": "idle"
    },
    {
      "metadata": {
        "_cell_guid": "c28fb089-6bfb-cb2a-997b-ddb59c4edbb3",
        "_active": false,
        "collapsed": false
      },
      "source": "image = image.astype(np.int16)",
      "execution_count": 71,
      "cell_type": "code",
      "outputs": [],
      "execution_state": "idle"
    },
    {
      "metadata": {
        "_cell_guid": "4727e732-f41d-8956-cc61-405edd64429c",
        "_active": false,
        "collapsed": false
      },
      "source": "image = image.astype(np.int16)",
      "execution_count": 72,
      "cell_type": "code",
      "outputs": [],
      "execution_state": "idle"
    },
    {
      "metadata": {
        "_cell_guid": "aac4195c-f565-884b-819b-52a3fe20e320",
        "_active": false,
        "collapsed": false
      },
      "source": "image[image == -2000] = 0",
      "execution_count": 77,
      "cell_type": "code",
      "outputs": [],
      "execution_state": "idle"
    },
    {
      "metadata": {
        "_cell_guid": "11f6a84a-557a-e093-ea20-46ece0bc99fa",
        "_active": false,
        "collapsed": false
      },
      "source": "slope=slices[0].RescaleSlope",
      "execution_count": 99,
      "cell_type": "code",
      "outputs": [],
      "execution_state": "idle"
    },
    {
      "metadata": {
        "_cell_guid": "00f972f0-7070-0094-18e0-760f9c6fc198",
        "_active": false,
        "collapsed": false
      },
      "source": "s.SliceThickness",
      "execution_count": 102,
      "cell_type": "code",
      "outputs": [],
      "execution_state": "idle"
    },
    {
      "metadata": {
        "_cell_guid": "6a445b9a-cbc1-2858-31fd-9effb0db4214",
        "_active": false,
        "collapsed": false
      },
      "source": " np.abs(slices[2].ImagePositionPatient[2] - slices[3].ImagePositionPatient[2])",
      "execution_count": 108,
      "cell_type": "code",
      "outputs": [],
      "execution_state": "idle"
    },
    {
      "metadata": {
        "_cell_guid": "46a46e91-0aff-92e1-fe4b-054afea72da3",
        "_active": false,
        "collapsed": false
      },
      "source": "INPUT_FOLDER = '../input/sample_images/00cba091fa4ad62cc3200a657aeb957e/0484f5a7f55eb7b6743cadaffcce586d.dcm'",
      "execution_count": 109,
      "cell_type": "code",
      "outputs": [],
      "execution_state": "idle"
    },
    {
      "metadata": {
        "_cell_guid": "f2343bce-1a67-48dc-a1ae-3c5a190d3e25",
        "_active": false,
        "collapsed": false
      },
      "source": "patients = os.listdir(INPUT_FOLDER)\npatients.sort()",
      "execution_count": 110,
      "cell_type": "code",
      "outputs": [],
      "execution_state": "idle"
    },
    {
      "metadata": {
        "_cell_guid": "66d2af55-2c52-36f8-a56b-a02d7404ee7c",
        "_active": false,
        "collapsed": false
      },
      "source": "patients\nINPUT_FOLDER + patients[0]",
      "execution_count": 113,
      "cell_type": "code",
      "outputs": [],
      "execution_state": "idle"
    },
    {
      "metadata": {
        "_cell_guid": "f1bcb044-f90d-019e-b252-14ed14392cbc",
        "_active": false,
        "collapsed": false
      },
      "source": "first_patient = load_scan(INPUT_FOLDER + patients[0])",
      "execution_count": 114,
      "cell_type": "code",
      "outputs": [],
      "execution_state": "idle"
    },
    {
      "metadata": {
        "_cell_guid": "30389603-79a2-e62d-1d84-ead01222f3b5",
        "_active": false,
        "collapsed": false
      },
      "source": "def get_pixels_hu(slices):\n    image = np.stack([s.pixel_array for s in slices])\n    # Convert to int16 (from sometimes int16), \n    # should be possible as values should always be low enough (<32k)\n    image = image.astype(np.int16)\n\n    # Set outside-of-scan pixels to 0\n    # The intercept is usually -1024, so air is approximately 0\n    image[image == -2000] = 0\n    \n    # Convert to Hounsfield units (HU)\n    for slice_number in range(len(slices)):\n        \n        intercept = slices[slice_number].RescaleIntercept\n        slope = slices[slice_number].RescaleSlope\n        \n        if slope != 1:\n            image[slice_number] = slope * image[slice_number].astype(np.float64)\n            image[slice_number] = image[slice_number].astype(np.int16)\n            \n        image[slice_number] += np.int16(intercept)\n    \n    return np.array(image, dtype=np.int16)",
      "execution_count": 117,
      "cell_type": "code",
      "outputs": [],
      "execution_state": "idle"
    },
    {
      "metadata": {
        "_cell_guid": "2d549bd4-edd4-ef4d-6875-5cf01222c8aa",
        "_active": false,
        "collapsed": false
      },
      "source": "first_patient_pixels = get_pixels_hu(first_patient)",
      "execution_count": 118,
      "cell_type": "code",
      "outputs": [],
      "execution_state": "idle"
    },
    {
      "metadata": {
        "_cell_guid": "51e6028e-efec-8cde-f2e0-2dc570c7ffcc",
        "_active": false,
        "collapsed": false
      },
      "source": "x=first_patient_pixels[0].flatten()",
      "execution_count": 129,
      "cell_type": "code",
      "outputs": [],
      "execution_state": "idle"
    },
    {
      "metadata": {
        "_cell_guid": "98ee6920-c3e4-b720-7e33-134688d53b65",
        "_active": false,
        "collapsed": false
      },
      "source": "plt.hist(first_patient_pixels.flatten(), bins=80, color='c')",
      "execution_count": 130,
      "cell_type": "code",
      "outputs": [],
      "execution_state": "idle"
    },
    {
      "metadata": {
        "_cell_guid": "afa26ea4-b831-52ce-3f22-6ce9704e2673",
        "_active": true,
        "collapsed": false
      },
      "source": "512*512",
      "execution_count": 131,
      "cell_type": "code",
      "outputs": [],
      "execution_state": "idle"
    },
    {
      "metadata": {
        "_cell_guid": "4397f8d5-d355-debb-b2d3-cfbb76624088",
        "_active": false,
        "collapsed": false
      },
      "source": null,
      "execution_count": null,
      "cell_type": "code",
      "outputs": []
    }
  ]
}