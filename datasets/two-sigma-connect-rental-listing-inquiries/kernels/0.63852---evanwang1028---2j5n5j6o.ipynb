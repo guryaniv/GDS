{
  "cells": [
    {
      "cell_type": "markdown",
      "metadata": {
        "_cell_guid": "0673bc69-2fd0-e138-092b-c49ac4591233"
      },
      "source": [
        "Learning from:\n",
        "https://www.kaggle.com/aikinogard/two-sigma-connect-rental-listing-inquiries/random-forest-starter-with-numerical-features"
      ]
    },
    {
      "cell_type": "code",
      "execution_count": null,
      "metadata": {
        "_cell_guid": "07a226c4-8d2a-49c9-751f-2121e0cb7324"
      },
      "outputs": [],
      "source": [
        "# This Python 3 environment comes with many helpful analytics libraries installed\n",
        "# It is defined by the kaggle/python docker image: https://github.com/kaggle/docker-python\n",
        "# For example, here's several helpful packages to load in \n",
        "\n",
        "import numpy as np # linear algebra\n",
        "import pandas as pd # data processing, CSV file I/O (e.g. pd.read_csv)\n",
        "\n",
        "# Input data files are available in the \"../input/\" directory.\n",
        "# For example, running this (by clicking run or pressing Shift+Enter) will list the files in the input directory\n",
        "\n",
        "from subprocess import check_output\n",
        "print(check_output([\"ls\", \"../input\"]).decode(\"utf8\"))\n",
        "\n",
        "# Any results you write to the current directory are saved as output."
      ]
    },
    {
      "cell_type": "code",
      "execution_count": null,
      "metadata": {
        "_cell_guid": "d486bce2-6512-1edc-88d7-25c6118c3063"
      },
      "outputs": [],
      "source": [
        "train = pd.read_json(open(\"../input/train.json\", \"r\"))\n",
        "test = pd.read_json(open(\"../input/test.json\", \"r\"))"
      ]
    },
    {
      "cell_type": "code",
      "execution_count": null,
      "metadata": {
        "_cell_guid": "a0e9e304-ccb1-7a9e-1cd3-760a0b3195d4"
      },
      "outputs": [],
      "source": [
        "test_id = test.listing_id"
      ]
    },
    {
      "cell_type": "code",
      "execution_count": null,
      "metadata": {
        "_cell_guid": "9722c4ba-1077-25ee-eebd-62f895f2623b"
      },
      "outputs": [],
      "source": [
        "badcols = [ i for i in train.columns if 'id' in i]\n",
        "badcols = badcols+['photos','description','display_address','street_address']"
      ]
    },
    {
      "cell_type": "code",
      "execution_count": null,
      "metadata": {
        "_cell_guid": "5811d6b4-cdbe-eb77-7df6-0ddf1b30f303"
      },
      "outputs": [],
      "source": [
        "train = train.drop(train[badcols],axis=1)\n",
        "test = test.drop(test[badcols],axis=1)"
      ]
    },
    {
      "cell_type": "code",
      "execution_count": null,
      "metadata": {
        "_cell_guid": "cdd8320b-2cda-8a87-7606-7d3e1e6390fe"
      },
      "outputs": [],
      "source": [
        "train.head()"
      ]
    },
    {
      "cell_type": "code",
      "execution_count": null,
      "metadata": {
        "_cell_guid": "539c345d-3068-71d4-bc46-fb29bff40674"
      },
      "outputs": [],
      "source": [
        "\n",
        "def date_clean(dat):\n",
        "    dat[\"created\"] = pd.to_datetime(dat[\"created\"])\n",
        "    dat[\"year\"] = dat[\"created\"].dt.year\n",
        "    dat[\"month\"] = dat[\"created\"].dt.month\n",
        "    dat[\"day\"] = dat[\"created\"].dt.day\n",
        "    dat[\"hour\"] = dat[\"created\"].dt.hour\n",
        "    del dat['created']\n",
        "    return(dat)\n",
        "\n",
        "train=date_clean(train)\n",
        "test=date_clean(test)"
      ]
    },
    {
      "cell_type": "code",
      "execution_count": null,
      "metadata": {
        "_cell_guid": "ee2803f6-fd19-8a33-173d-9392a920d1de"
      },
      "outputs": [],
      "source": [
        "def n_feat(dat):\n",
        "    dat['features'] =     dat.features.apply(lambda x: len(x))\n",
        "    return(dat)\n",
        "\n",
        "train = n_feat(train)\n",
        "test = n_feat(test)"
      ]
    },
    {
      "cell_type": "code",
      "execution_count": null,
      "metadata": {
        "_cell_guid": "49a8494d-c928-0818-4dfd-7ce2308918a9"
      },
      "outputs": [],
      "source": [
        "trainY = train['interest_level']\n",
        "\n",
        "del train['interest_level']\n",
        "\n"
      ]
    },
    {
      "cell_type": "code",
      "execution_count": null,
      "metadata": {
        "_cell_guid": "7638fe81-0c83-b43e-3cde-abbcdc31204c"
      },
      "outputs": [],
      "source": [
        "from sklearn.ensemble import RandomForestClassifier\n",
        "clf = RandomForestClassifier(n_estimators=500)\n",
        "clf.fit(train, trainY)"
      ]
    },
    {
      "cell_type": "code",
      "execution_count": null,
      "metadata": {
        "_cell_guid": "93d2bf3e-da1f-e229-c891-3dfc8dbe2969"
      },
      "outputs": [],
      "source": [
        "result = clf.predict_proba(test)"
      ]
    },
    {
      "cell_type": "code",
      "execution_count": null,
      "metadata": {
        "_cell_guid": "0ece38f4-38e5-b1e8-38b8-b4997ec7539a"
      },
      "outputs": [],
      "source": [
        "labels2idx = {label: i for i, label in enumerate(clf.classes_)}\n",
        "labels2idx"
      ]
    },
    {
      "cell_type": "code",
      "execution_count": null,
      "metadata": {
        "_cell_guid": "bd09eaff-21d6-27b8-4f10-175dd623c53c"
      },
      "outputs": [],
      "source": [
        "sub = pd.DataFrame()\n",
        "sub[\"listing_id\"] = test_id\n",
        "\n",
        "for label in [\"high\", \"medium\", \"low\"]:\n",
        "    sub[label] = result[:, labels2idx[label]]\n"
      ]
    },
    {
      "cell_type": "code",
      "execution_count": null,
      "metadata": {
        "_cell_guid": "e34f84f0-15ea-6671-9620-d61ba04c778a"
      },
      "outputs": [],
      "source": [
        "sub.head()"
      ]
    },
    {
      "cell_type": "code",
      "execution_count": null,
      "metadata": {
        "_cell_guid": "e013a403-b033-cfa9-7188-aac732a7902b"
      },
      "outputs": [],
      "source": [
        "sub.to_csv(\"submission_rf.csv\", index=False)"
      ]
    },
    {
      "cell_type": "code",
      "execution_count": null,
      "metadata": {
        "_cell_guid": "ad38ce48-fdab-2fd8-1e15-e2be3c567213"
      },
      "outputs": [],
      "source": ""
    }
  ],
  "metadata": {
    "_change_revision": 0,
    "_is_fork": false,
    "kernelspec": {
      "display_name": "Python 3",
      "language": "python",
      "name": "python3"
    },
    "language_info": {
      "codemirror_mode": {
        "name": "ipython",
        "version": 3
      },
      "file_extension": ".py",
      "mimetype": "text/x-python",
      "name": "python",
      "nbconvert_exporter": "python",
      "pygments_lexer": "ipython3",
      "version": "3.6.0"
    }
  },
  "nbformat": 4,
  "nbformat_minor": 0
}