{
  "cells": [
    {
      "cell_type": "markdown",
      "metadata": {
        "_cell_guid": "ac06cd79-9189-6d2b-9a83-012d19327beb"
      },
      "source": [
        "Load the required libraries and data. "
      ]
    },
    {
      "cell_type": "code",
      "execution_count": null,
      "metadata": {
        "_cell_guid": "555a1731-6a24-51ed-f194-a47541b955db"
      },
      "outputs": [],
      "source": [
        "import numpy as np\n",
        "import pandas as pd\n",
        "import matplotlib.pyplot as plt\n",
        "import seaborn as sns\n",
        "%matplotlib inline\n",
        "from sklearn import model_selection, preprocessing\n",
        "import xgboost as xgb\n",
        "import datetime\n",
        "#now = datetime.datetime.now()\n",
        "\n",
        "train = pd.read_csv('../input/train.csv')\n",
        "test = pd.read_csv('../input/test.csv')\n",
        "macro = pd.read_csv('../input/macro.csv')\n",
        "train.describe()\n",
        "test.describe()\n",
        "macro.describe()\n",
        "# Any results you write to the current directory are saved as output."
      ]
    },
    {
      "cell_type": "code",
      "execution_count": null,
      "metadata": {
        "_cell_guid": "99278d98-cd21-7952-6391-44a01d2d121b"
      },
      "outputs": [],
      "source": [
        "newtrain=train.fillna(train.mode())\n",
        "y_train = newtrain[\"price_doc\"]\n",
        "x_train = newtrain.drop([\"id\", \"timestamp\", \"price_doc\"], axis=1)\n",
        "newtest=test.fillna(test.mode())\n",
        "x_test = newtest.drop([\"id\", \"timestamp\"], axis=1)\n",
        "\n",
        "#can't merge train with test because the kernel run for very long time\n",
        "\n",
        "for c in x_train.columns:\n",
        "    if x_train[c].dtype == 'object':\n",
        "        lbl = preprocessing.LabelEncoder()\n",
        "        lbl.fit(list(x_train[c].values)) \n",
        "        x_train[c] = lbl.transform(list(x_train[c].values))\n",
        "        #x_train.drop(c,axis=1,inplace=True)\n",
        "        \n",
        "for c in x_test.columns:\n",
        "    if x_test[c].dtype == 'object':\n",
        "        lbl = preprocessing.LabelEncoder()\n",
        "        lbl.fit(list(x_test[c].values)) \n",
        "        x_test[c] = lbl.transform(list(x_test[c].values))\n",
        "        #x_test.drop(c,axis=1,inplace=True)        "
      ]
    },
    {
      "cell_type": "code",
      "execution_count": null,
      "metadata": {
        "_cell_guid": "8af6c180-4e30-8c18-9b93-9dc32a242792"
      },
      "outputs": [],
      "source": [
        "xgb_params = {\n",
        "    'eta': 0.05,\n",
        "    'max_depth': 5,\n",
        "    'subsample': 0.7,\n",
        "    'colsample_bytree': 0.7,\n",
        "    'objective': 'reg:linear',\n",
        "    'eval_metric': 'rmse',\n",
        "    'silent': 1\n",
        "}\n",
        "\n",
        "dtrain = xgb.DMatrix(x_train, y_train)\n",
        "dtest = xgb.DMatrix(x_test)"
      ]
    },
    {
      "cell_type": "code",
      "execution_count": null,
      "metadata": {
        "_cell_guid": "63512ab8-e09f-e80c-c850-8cb2c49fec7a"
      },
      "outputs": [],
      "source": [
        "cv_output = xgb.cv(xgb_params, dtrain, num_boost_round=1000, early_stopping_rounds=20,\n",
        "    verbose_eval=50, show_stdv=False\uff0cseed=500)"
      ]
    },
    {
      "cell_type": "code",
      "execution_count": null,
      "metadata": {
        "_cell_guid": "6acd1dbc-522c-8c4d-1df2-73b3d64cec6d"
      },
      "outputs": [],
      "source": [
        "cv_output = xgb.cv(xgb_params, dtrain, num_boost_round=1000, early_stopping_rounds=20,\n",
        "    verbose_eval=50, show_stdv=False)\n",
        "#cv_output[['train-rmse-mean', 'test-rmse-mean']].plot()"
      ]
    },
    {
      "cell_type": "code",
      "execution_count": null,
      "metadata": {
        "_cell_guid": "bb22177f-5506-977c-05ca-0ec38a35121f"
      },
      "outputs": [],
      "source": [
        "cv_output_70 = xgb.cv(xgb_params, dtrain, num_boost_round=1000, early_stopping_rounds=20,\n",
        "    verbose_eval=50, show_stdv=False, seed=70)"
      ]
    },
    {
      "cell_type": "code",
      "execution_count": null,
      "metadata": {
        "_cell_guid": "e53a75f1-713f-894c-bf2f-3bd42967bc44"
      },
      "outputs": [],
      "source": [
        "#mode\n",
        "cv_output_60 = xgb.cv(xgb_params, dtrain, num_boost_round=1000, early_stopping_rounds=20,\n",
        "    verbose_eval=50, show_stdv=False, seed=60)"
      ]
    },
    {
      "cell_type": "code",
      "execution_count": null,
      "metadata": {
        "_cell_guid": "0ff7029b-a15e-6c66-7dde-ef3eef3e9ce5"
      },
      "outputs": [],
      "source": [
        "#mode\n",
        "#cv_output = xgb.cv(xgb_params, dtrain, num_boost_round=1000, early_stopping_rounds=20,\n",
        "#    verbose_eval=50, show_stdv=False)\n",
        "#cv_output[['train-rmse-mean', 'test-rmse-mean']].plot()"
      ]
    },
    {
      "cell_type": "code",
      "execution_count": null,
      "metadata": {
        "_cell_guid": "a96d1965-8328-35b0-d0a3-dfcfa77275ab"
      },
      "outputs": [],
      "source": [
        "num_boost_rounds = len(cv_output_60)\n",
        "model_60 = xgb.train(dict(xgb_params, silent=0), dtrain, num_boost_round= num_boost_rounds)"
      ]
    },
    {
      "cell_type": "code",
      "execution_count": null,
      "metadata": {
        "_cell_guid": "5c7e8274-9973-0a63-cf89-18037aaedee7"
      },
      "outputs": [],
      "source": [
        "num_boost_rounds = len(cv_output_70)\n",
        "model_70 = xgb.train(dict(xgb_params, silent=0), dtrain, num_boost_round= num_boost_rounds)"
      ]
    },
    {
      "cell_type": "code",
      "execution_count": null,
      "metadata": {
        "_cell_guid": "2a04f7d8-3efa-df54-713e-f6222453c60b"
      },
      "outputs": [],
      "source": [
        "#fig, ax = plt.subplots(1, 1, figsize=(8, 13))\n",
        "#xgb.plot_importance(model, max_num_features=50, height=0.5, ax=ax)"
      ]
    },
    {
      "cell_type": "code",
      "execution_count": null,
      "metadata": {
        "_cell_guid": "d4a0a7ac-05b2-9d76-e0d8-7106a1a35a06"
      },
      "outputs": [],
      "source": [
        "id_test = test.id\n",
        "y_predict_60 = model_60.predict(dtest)\n",
        "output = pd.DataFrame({'id': id_test, 'price_doc': y_predict_60})\n",
        "output.head()\n",
        "output.to_csv('xgbSub60.csv', index=False)"
      ]
    },
    {
      "cell_type": "code",
      "execution_count": null,
      "metadata": {
        "_cell_guid": "0a5dbdee-3e96-aded-9c71-2e2c72af3e5a"
      },
      "outputs": [],
      "source": [
        "y_predict_70 = model_70.predict(dtest)\n",
        "output_70 = pd.DataFrame({'id': id_test, 'price_doc': y_predict_70})\n",
        "output_70.head()\n",
        "output_70.to_csv('xgbSub70.csv', index=False)"
      ]
    }
  ],
  "metadata": {
    "_change_revision": 0,
    "_is_fork": false,
    "kernelspec": {
      "display_name": "Python 3",
      "language": "python",
      "name": "python3"
    },
    "language_info": {
      "codemirror_mode": {
        "name": "ipython",
        "version": 3
      },
      "file_extension": ".py",
      "mimetype": "text/x-python",
      "name": "python",
      "nbconvert_exporter": "python",
      "pygments_lexer": "ipython3",
      "version": "3.6.0"
    }
  },
  "nbformat": 4,
  "nbformat_minor": 0
}