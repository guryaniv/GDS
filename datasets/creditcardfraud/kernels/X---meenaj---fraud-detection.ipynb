{
  "cells": [
    {
      "cell_type": "code",
      "execution_count": null,
      "metadata": {
        "_cell_guid": "bf6efe02-a66b-a167-7d73-c5abe491a860"
      },
      "outputs": [],
      "source": [
        "# This Python 3 environment comes with many helpful analytics libraries installed\n",
        "# It is defined by the kaggle/python docker image: https://github.com/kaggle/docker-python\n",
        "# For example, here's several helpful packages to load in \n",
        "\n",
        "import numpy as np # linear algebra\n",
        "import pandas as pd # data processing, CSV file I/O (e.g. pd.read_csv)\n",
        "\n",
        "# Input data files are available in the \"../input/\" directory.\n",
        "# For example, running this (by clicking run or pressing Shift+Enter) will list the files in the input directory\n",
        "\n",
        "from subprocess import check_output\n",
        "print(check_output([\"ls\", \"../input\"]).decode(\"utf8\"))\n",
        "\n",
        "# Any results you write to the current directory are saved as output."
      ]
    },
    {
      "cell_type": "code",
      "execution_count": null,
      "metadata": {
        "_cell_guid": "d8f2ac7a-a01d-cf2e-c7a3-0982081a230a"
      },
      "outputs": [],
      "source": [
        "train= pd.read_csv('../input/creditcard.csv')\n",
        "train.head()"
      ]
    },
    {
      "cell_type": "code",
      "execution_count": null,
      "metadata": {
        "_cell_guid": "5e0386e6-15b1-b68d-2007-004a7e8475e5"
      },
      "outputs": [],
      "source": [
        "import seaborn as sns\n",
        "sns.heatmap(train.corr())"
      ]
    },
    {
      "cell_type": "code",
      "execution_count": null,
      "metadata": {
        "_cell_guid": "643e66d1-0a8b-8013-0596-479c0d6bd93e"
      },
      "outputs": [],
      "source": [
        "sns.countplot(train['Class'])"
      ]
    },
    {
      "cell_type": "code",
      "execution_count": null,
      "metadata": {
        "_cell_guid": "16e8007d-52fb-3869-ef06-8dca1e236707"
      },
      "outputs": [],
      "source": [
        "from sklearn.preprocessing import StandardScaler\n",
        "train['Amount_n']= StandardScaler().fit_transform(train['Amount'].reshape(-1,1))"
      ]
    },
    {
      "cell_type": "code",
      "execution_count": null,
      "metadata": {
        "_cell_guid": "7beb8629-b139-7fee-0fa5-593327370c64"
      },
      "outputs": [],
      "source": [
        "train.head()"
      ]
    },
    {
      "cell_type": "code",
      "execution_count": null,
      "metadata": {
        "_cell_guid": "3ca36412-5d89-eb69-878e-46c2186668a7"
      },
      "outputs": [],
      "source": [
        "train['Time_H']= train['Time']/3600"
      ]
    },
    {
      "cell_type": "code",
      "execution_count": null,
      "metadata": {
        "_cell_guid": "6654ea45-0544-62e2-21b0-22db42b9b6d8"
      },
      "outputs": [],
      "source": [
        "sns.distplot(train['Time_H'])"
      ]
    },
    {
      "cell_type": "code",
      "execution_count": null,
      "metadata": {
        "_cell_guid": "bcc701ab-a5c8-17b2-587c-4741a397fc18"
      },
      "outputs": [],
      "source": [
        "sns.countplot(train['Class'])"
      ]
    },
    {
      "cell_type": "code",
      "execution_count": null,
      "metadata": {
        "_cell_guid": "704ee7ab-f0ae-7c47-db41-ef6a6cdf1058"
      },
      "outputs": [],
      "source": [
        "sns.jointplot(train['Time_H'], train['Class'])"
      ]
    },
    {
      "cell_type": "code",
      "execution_count": null,
      "metadata": {
        "_cell_guid": "f69a4737-dce3-9282-5ae3-fa86270631df"
      },
      "outputs": [],
      "source": [
        "train= train.drop(['Time','Time_H','Amount'], axis=1)\n",
        "train.head()"
      ]
    },
    {
      "cell_type": "code",
      "execution_count": null,
      "metadata": {
        "_cell_guid": "46f85af0-3492-df88-d6a9-5dafaa9963ea"
      },
      "outputs": [],
      "source": [
        "X= train.ix[:, train.columns != 'Class']\n",
        "y= train.ix[:, train.columns == 'Class']   "
      ]
    },
    {
      "cell_type": "code",
      "execution_count": null,
      "metadata": {
        "_cell_guid": "d60b5dd2-5fea-0474-4d7c-ef4de53d5664"
      },
      "outputs": [],
      "source": [
        "fraud_count = len(train[train.Class == 1])\n",
        "fraud_indices = train[train.Class == 1].index\n",
        "normal_indices = train[train.Class == 0].index\n",
        "\n",
        "r_normal_indices = np.random.choice(normal_indices, fraud_count, replace = False) # random \n",
        "\n",
        "undersample_indices = np.concatenate([fraud_indices,r_normal_indices])\n",
        "undersample_train = train.iloc[undersample_indices,:]\n",
        "\n",
        "X_undersample = undersample_train.ix[:, undersample_train.columns != 'Class']\n",
        "y_undersample = undersample_train.ix[:, undersample_train.columns == 'Class']"
      ]
    },
    {
      "cell_type": "code",
      "execution_count": null,
      "metadata": {
        "_cell_guid": "7adcb9fd-3693-45a4-8b0a-f8cd1c409161"
      },
      "outputs": [],
      "source": [
        "from sklearn.model_selection import train_test_split\n",
        "X_tr, X_test, y_tr, y_test = train_test_split(X,y,test_size = 0.3, random_state = 0)\n",
        "X_tr_u, X_test_u, y_tr_u, y_test_u = train_test_split(X_undersample,y_undersample,test_size = 0.3,random_state = 0)\n",
        "                                                                                                   "
      ]
    },
    {
      "cell_type": "code",
      "execution_count": null,
      "metadata": {
        "_cell_guid": "558defc7-7240-5e02-ef8e-84fb2c36245f"
      },
      "outputs": [],
      "source": [
        "from sklearn.linear_model import LogisticRegression\n",
        "from sklearn.model_selection import KFold, cross_val_score\n",
        "from sklearn.metrics import confusion_matrix,auc,roc_auc_score,recall_score,classification_report,precision_recall_curve, roc_curve\n",
        "import matplotlib.pylab as plt\n",
        "% matplotlib inline"
      ]
    },
    {
      "cell_type": "code",
      "execution_count": null,
      "metadata": {
        "_cell_guid": "1169681b-7ab7-c21e-26bd-2cc4629ca7d0"
      },
      "outputs": [],
      "source": [
        "logreg = LogisticRegression(C = .01, penalty = 'l1')\n",
        "logreg.fit(X_tr_u,y_tr_u.values.ravel())\n",
        "y_pred_u= logreg.predict(X_test_u)\n",
        "y_pred_u_proba=logreg.predict_proba(X_test_u)\n",
        "print('cm:', confusion_matrix(y_test_u,y_pred_u))\n",
        "print('cr:', classification_report(y_test_u,y_pred_u))\n",
        "print('recall_score:', recall_score(y_test_u,y_pred_u))\n",
        "print('roc_auc_score:',roc_auc_score(y_test_u,y_pred_u))"
      ]
    },
    {
      "cell_type": "code",
      "execution_count": null,
      "metadata": {
        "_cell_guid": "ceba8cff-d49b-521a-f7c3-e3715674abc2"
      },
      "outputs": [],
      "source": [
        "y_predprob_u = logreg.predict_proba(X_test_u)[:, 1]  # default threshold 0.5\n",
        "\n",
        "plt.hist(y_predprob_u, bins=8)\n",
        "plt.xlabel('predicted probability of fraud')\n",
        "plt.ylabel('frequency')\n",
        "plt.title('Histogram of predicted probabilities') "
      ]
    },
    {
      "cell_type": "code",
      "execution_count": null,
      "metadata": {
        "_cell_guid": "22a33e43-f023-40c2-c188-cefdc32c1517"
      },
      "outputs": [],
      "source": [
        "logreg.fit(X_tr_u,y_tr_u.values.ravel())\n",
        "y_pred_u_proba = logreg.predict_proba(X_test_u)\n",
        "thresholds = [0.1,0.2,0.3,0.4,0.5,0.6,0.7,0.8,0.9]\n",
        "for i in thresholds:\n",
        "    y_test_pred_prob = y_pred_u_proba[:,1] > i\n",
        "    precision, recall, thresholds= precision_recall_curve(y_test_u,y_test_pred_prob)\n",
        "    plt.plot(recall, precision,label='Threshold: %s'%i)\n",
        "    plt.xlabel('Recall')\n",
        "    plt.ylabel('Precision')\n",
        "    plt.xlim(0,1)\n",
        "    plt.ylim(0,1)\n",
        "    plt.title('Precision-Recall curve')    \n",
        "    plt.legend(loc='center left')"
      ]
    },
    {
      "cell_type": "code",
      "execution_count": null,
      "metadata": {
        "_cell_guid": "53a08657-fb69-9db3-23fd-e21013ca53ca"
      },
      "outputs": [],
      "source": [
        "#In order to increase recall(sensitivity), we need to decrease the threshold of the classifier\n",
        "fpr, tpr, thresholds = roc_curve(y_test_u,y_predprob_u)\n",
        "roc_auc = auc(fpr,tpr)\n",
        "plt.plot(fpr,tpr)\n",
        "plt.xlabel('fpr')\n",
        "plt.ylabel('tpr')\n",
        "plt.title('ROC curve for fraud classifier')\n",
        "plt.grid(True)"
      ]
    },
    {
      "cell_type": "code",
      "execution_count": null,
      "metadata": {
        "_cell_guid": "cddafc7e-d0bf-7a36-b5b0-6eb75e8973d7"
      },
      "outputs": [],
      "source": [
        "roc_auc_score(y_test_u, y_predprob_u)"
      ]
    },
    {
      "cell_type": "code",
      "execution_count": null,
      "metadata": {
        "_cell_guid": "d875e030-38c9-28ad-ecf9-dae3f9f226b0"
      },
      "outputs": [],
      "source": [
        "#Decrease the threshold(0.3)for predicting frauds in order to increase the sensitivity of the classifier\n",
        "from sklearn.preprocessing import binarize\n",
        "y_pred_class_u_highrecall = binarize([y_predprob_u], 0.3)[0]\n",
        "print('cm:', confusion_matrix(y_test_u,y_pred_class_u_highrecall))\n",
        "print('cr:', classification_report(y_test_u,y_pred_class_u_highrecall))\n",
        "print('recall_score:', recall_score(y_test_u,y_pred_class_u_highrecall))\n",
        "print('roc_auc_score:',roc_auc_score(y_test_u,y_pred_class_u_highrecall))"
      ]
    },
    {
      "cell_type": "code",
      "execution_count": null,
      "metadata": {
        "_cell_guid": "a0460e50-fae1-1724-b095-9c17e1b4257d"
      },
      "outputs": [],
      "source": [
        "logreg.fit(X_tr_u,y_tr_u.values.ravel())\n",
        "y_pred= logreg.predict_proba(X_test)[:,1]    #predicted probabilities for class 1                                          \n",
        "y_pred_class_highrecall = binarize([y_pred], 0.3)[0]\n",
        "print('cm:', confusion_matrix(y_test,y_pred_class_highrecall))\n",
        "print('cr:', classification_report(y_test,y_pred_class_highrecall))\n",
        "print('recall_score:', recall_score(y_test,y_pred_class_highrecall))\n",
        "print('roc_auc_score:',roc_auc_score(y_test,y_pred_class_highrecall))"
      ]
    },
    {
      "cell_type": "code",
      "execution_count": null,
      "metadata": {
        "_cell_guid": "ee082c3c-1295-fffd-988a-613bb7d8a2b0"
      },
      "outputs": [],
      "source": [
        "logreg.fit(X_tr_u,y_tr_u.values.ravel())\n",
        "y_pr= logreg.predict_proba(X)[:,1]    #predicted probabilities for class 1                                          \n",
        "y_pr_class_highrecall = binarize([y_pr], 0.3)[0]\n",
        "print('cm:', confusion_matrix(y,y_pr_class_highrecall))\n",
        "print('cr:', classification_report(y,y_pr_class_highrecall))\n",
        "print('recall_score:', recall_score(y,y_pr_class_highrecall))\n",
        "print('roc_auc_score:',roc_auc_score(y,y_pr_class_highrecall))"
      ]
    },
    {
      "cell_type": "code",
      "execution_count": null,
      "metadata": {
        "_cell_guid": "82dbf3e6-ba64-f539-2f5f-426e181297fb"
      },
      "outputs": [],
      "source": [
        ""
      ]
    }
  ],
  "metadata": {
    "_change_revision": 0,
    "_is_fork": false,
    "kernelspec": {
      "display_name": "Python 3",
      "language": "python",
      "name": "python3"
    },
    "language_info": {
      "codemirror_mode": {
        "name": "ipython",
        "version": 3
      },
      "file_extension": ".py",
      "mimetype": "text/x-python",
      "name": "python",
      "nbconvert_exporter": "python",
      "pygments_lexer": "ipython3",
      "version": "3.5.2"
    }
  },
  "nbformat": 4,
  "nbformat_minor": 0
}