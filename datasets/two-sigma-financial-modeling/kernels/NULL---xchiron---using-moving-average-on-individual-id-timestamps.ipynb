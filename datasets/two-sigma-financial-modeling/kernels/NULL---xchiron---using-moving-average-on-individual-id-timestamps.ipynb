{
  "cells": [
    {
      "cell_type": "markdown",
      "metadata": {
        "_cell_guid": "9b99bdd5-720d-142a-ad35-3b14fddbf211"
      },
      "source": [
        "In this notebook, we take a quick look at some individual IDs and what their y value looks like across the timestamp.  It might give a bit more insight into modeling based on an ID basis."
      ]
    },
    {
      "cell_type": "code",
      "execution_count": null,
      "metadata": {
        "_cell_guid": "d5c28b84-d6a7-b15a-20cc-d14a6d372dc6"
      },
      "outputs": [],
      "source": [
        "import numpy as np # linear algebra\n",
        "import pandas as pd # data processing, CSV file I/O (e.g. pd.read_csv)\n",
        "from pandas.tools.plotting import scatter_matrix\n",
        "import matplotlib.pyplot as plt\n",
        "%matplotlib inline"
      ]
    },
    {
      "cell_type": "code",
      "execution_count": null,
      "metadata": {
        "_cell_guid": "2fe79666-4b63-ba36-a14d-b8fe51eaefe3"
      },
      "outputs": [],
      "source": [
        "with pd.HDFStore(\"../input/train.h5\", \"r\") as train:\n",
        "    # Note that the \"train\" dataframe is the only dataframe in the file\n",
        "    df = train.get(\"train\")"
      ]
    },
    {
      "cell_type": "code",
      "execution_count": null,
      "metadata": {
        "_cell_guid": "85298939-21c8-42e3-a99f-7867ab643b41"
      },
      "outputs": [],
      "source": [
        "df.head()"
      ]
    },
    {
      "cell_type": "code",
      "execution_count": null,
      "metadata": {
        "_cell_guid": "576a621e-e2e3-42be-72f7-13f2e2a80f92"
      },
      "outputs": [],
      "source": [
        "print(\"{0} unique IDs\".format(len(df.id.unique())))\n",
        "print(\"{0} unique timestamp\".format(len(df.timestamp.unique())))"
      ]
    },
    {
      "cell_type": "markdown",
      "metadata": {
        "_cell_guid": "94da760b-a4c4-73d6-ca90-e798fda5c256"
      },
      "source": [
        "### Plot timestamp vs y by individual IDs\n",
        "I wanted to take a look at each individual id to see whether they provide insight so I pulled the ids out and plotted them against their timestamp."
      ]
    },
    {
      "cell_type": "code",
      "execution_count": null,
      "metadata": {
        "_cell_guid": "33929767-8884-9268-43aa-56c8e47e7989"
      },
      "outputs": [],
      "source": [
        "fig = plt.figure(figsize=(8, 20))\n",
        "plot_count = 0\n",
        "for i in range(0,10):\n",
        "    plot_count += 1\n",
        "    plt.subplot(10,1,plot_count)\n",
        "    randID=np.array(df.id.sample(1))[0]\n",
        "    dften=df[df['id']==randID]\n",
        "    plt.plot(dften['timestamp'],dften['y'])\n",
        "    plt.title(\"ID = \"+str(randID))\n",
        "    plt.xlim(0,1900)\n",
        "    plt.tight_layout()\n",
        "plt.show()"
      ]
    },
    {
      "cell_type": "markdown",
      "metadata": {
        "_cell_guid": "d5e68c1a-584d-f0cd-50fe-ce34595f8aae"
      },
      "source": [
        "### Plot moving average of \"timestamp\" vs \"y\" by individual IDs\n",
        "Since moving averages tend to give the best depiction of the trend of Y values.  I've randomly selected an interval of 100 and plotted the data."
      ]
    },
    {
      "cell_type": "code",
      "execution_count": null,
      "metadata": {
        "_cell_guid": "ee351a0a-3d26-3af9-c1a0-b8606b8d4976"
      },
      "outputs": [],
      "source": [
        "fig = plt.figure(figsize=(8, 20))\n",
        "plot_count = 0\n",
        "for i in range(0,10):\n",
        "    plot_count += 1\n",
        "    plt.subplot(10,1,plot_count)\n",
        "    randID=np.array(df.id.sample(1))[0]\n",
        "    dften=df[df['id']==randID]\n",
        "    dften['ymean']=pd.rolling_mean(dften['y'],100)\n",
        "    plt.plot(dften['timestamp'],dften['ymean'])\n",
        "    plt.title(\"ID = \"+str(randID))\n",
        "    plt.xlim(0,1900)\n",
        "    plt.tight_layout()\n",
        "plt.show()"
      ]
    },
    {
      "cell_type": "markdown",
      "metadata": {
        "_cell_guid": "03feed6e-25bb-b1bb-d3a6-41ccf6917b52"
      },
      "source": [
        "### Plot Both\n",
        "Now that I've seen the moving average does have some sort of shape rather than a complete straight line, we can plot them side by side to see how they stack up!"
      ]
    },
    {
      "cell_type": "code",
      "execution_count": null,
      "metadata": {
        "_cell_guid": "8e0bf469-be16-32c5-c660-857f0908518c"
      },
      "outputs": [],
      "source": [
        "fig = plt.figure(figsize=(8, 20))\n",
        "plot_count = 0\n",
        "for i in range(0,5):\n",
        "    plot_count += 1\n",
        "    plt.subplot(10,1,plot_count)\n",
        "    randID=np.array(df.id.sample(1))[0]\n",
        "    dften=df[df['id']==randID]\n",
        "    dften['ymean']=pd.rolling_mean(dften['y'],100)\n",
        "    plt.plot(dften['timestamp'],dften['ymean'])\n",
        "    plt.title(\"Moving Average ID = \"+str(randID))\n",
        "    plt.xlim(0,1900)\n",
        "    plt.tight_layout()\n",
        "    plot_count += 1\n",
        "    plt.subplot(10,1,plot_count)\n",
        "    plt.plot(dften['timestamp'],dften['y'])\n",
        "    plt.title(\"ID = \"+str(randID))\n",
        "    plt.xlim(0,1900)\n",
        "    plt.tight_layout()\n",
        "plt.show()"
      ]
    },
    {
      "cell_type": "markdown",
      "metadata": {
        "_cell_guid": "df194487-56fe-ab46-627c-f6dd33edad0c"
      },
      "source": [
        "### Identifying correlation on the original Y\n",
        "Before running correlation on moving averages, I wanted to have a baseline of correlations to compare to."
      ]
    },
    {
      "cell_type": "code",
      "execution_count": null,
      "metadata": {
        "_cell_guid": "d5e0593a-99c3-58b8-3169-0047b8762efe"
      },
      "outputs": [],
      "source": [
        "dften=df[df['id']==870]\n",
        "cor=dften.corr(method='pearson')\n",
        "cordf=pd.DataFrame(cor['y'])\n",
        "cordf['sort']=cordf.y.abs()\n",
        "print(randID)\n",
        "cordf.sort_values('sort',ascending=False).drop('sort', axis=1).head(10)"
      ]
    },
    {
      "cell_type": "markdown",
      "metadata": {
        "_cell_guid": "329551b8-6db1-e999-dbb3-a533218ccfb8"
      },
      "source": [
        "### Identifying correlation on moving averages\n",
        "Maybe moving averages give a better picture as Y value instead of the actual Y value so let's take a look at the correlation coefficient"
      ]
    },
    {
      "cell_type": "code",
      "execution_count": null,
      "metadata": {
        "_cell_guid": "39f0c0db-eaef-76e8-efd1-6c5037e9d121"
      },
      "outputs": [],
      "source": [
        "#randID=np.array(df.id.sample(1))[0]\n",
        "dften=df[df['id']==870]\n",
        "dften['ymean']=dften['y'].rolling(window=100).mean()\n",
        "cor=dften.corr(method='pearson')\n",
        "cordf=pd.DataFrame(cor['ymean'])\n",
        "cordf['sort']=cordf.ymean.abs()\n",
        "print(randID)\n",
        "cordf.sort_values('sort',ascending=False).drop('sort', axis=1).head(10)"
      ]
    },
    {
      "cell_type": "markdown",
      "metadata": {
        "_cell_guid": "eca75c68-7b89-04b4-adf7-038d10fa983b"
      },
      "source": [
        "### Plotting the metrics with high correlation\n",
        "After running through a few iterations of metrics with decently high correlation, I wanted to take a look to see how the data looked.  So I took a look at the data, got rid of the ymean values that were NaN and plotted this in a scatter matrix"
      ]
    },
    {
      "cell_type": "code",
      "execution_count": null,
      "metadata": {
        "_cell_guid": "6edb4500-7b88-db0e-5a0b-01fa4e83ebbe"
      },
      "outputs": [],
      "source": [
        "dften.loc[:,['fundamental_20','fundamental_45','fundamental_26','ymean']]"
      ]
    },
    {
      "cell_type": "code",
      "execution_count": null,
      "metadata": {
        "_cell_guid": "68bfba23-2738-68c8-a21c-c23f3c7d86aa"
      },
      "outputs": [],
      "source": [
        "dften = dften[np.isfinite(dften['ymean'])]\n",
        "dften.shape\n",
        "axs = scatter_matrix(dften.loc[:,['fundamental_20','fundamental_45','fundamental_26','ymean']], alpha=0.3, figsize=(9,9), diagonal='hist')"
      ]
    },
    {
      "cell_type": "markdown",
      "metadata": {
        "_cell_guid": "a4c8fa48-9ec8-6669-f7f7-ba5cc73c3645"
      },
      "source": [
        "### Conclusion\n",
        "It may be worth using moving average along with linear regression at an individual ID level.  However, because there are more than 1400 individual IDs, calculating the top 4 correlated metrics and generating a linear model from this may not completed within the time limit.  One other possible way to get around this is to initially identify IDs that correlate with each other on the moving average and group them in the regression analysis."
      ]
    },
    {
      "cell_type": "code",
      "execution_count": null,
      "metadata": {
        "_cell_guid": "4069152d-1519-89af-2cd9-c884b83c9fcf",
        "collapsed": true
      },
      "outputs": [],
      "source": [
        ""
      ]
    }
  ],
  "metadata": {
    "_change_revision": 0,
    "_is_fork": false,
    "kernelspec": {
      "display_name": "Python 3",
      "language": "python",
      "name": "python3"
    },
    "language_info": {
      "codemirror_mode": {
        "name": "ipython",
        "version": 3
      },
      "file_extension": ".py",
      "mimetype": "text/x-python",
      "name": "python",
      "nbconvert_exporter": "python",
      "pygments_lexer": "ipython3",
      "version": "3.5.2"
    }
  },
  "nbformat": 4,
  "nbformat_minor": 0
}