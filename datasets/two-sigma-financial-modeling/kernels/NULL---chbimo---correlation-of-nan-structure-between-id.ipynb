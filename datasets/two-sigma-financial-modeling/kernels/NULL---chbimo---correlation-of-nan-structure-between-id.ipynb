{
  "cells": [
    {
      "cell_type": "markdown",
      "metadata": {
        "_cell_guid": "c57ba8fa-c721-3fd2-3fbb-c6438f02d17c"
      },
      "source": [
        "# Cluster Id's based on correlation of NaN structure between Id\n",
        "# but first\n",
        "## All NaN are not Random Confirmation\n",
        "Hypothesis :\n",
        "- From [Devin's](https://www.kaggle.com/devinanzelmo/two-sigma-financial-modeling/pandas-rolling-and-a-quick-look-at-missing-values) and [Reziproke's](https://www.kaggle.com/reziproke/two-sigma-financial-modeling/nan-structure-on-id-level-eda/notebook) analysis. Taking a look at the missing values, the first thing that pops out is that once valid values occur there are no more missing values\n",
        "\n",
        "How to check the hypothesis?\n",
        "- Check wether there are some missing value in the middle"
      ]
    },
    {
      "cell_type": "code",
      "execution_count": null,
      "metadata": {
        "_cell_guid": "9d5ebc64-7ec5-2eb6-bbb7-26120ba8e1af"
      },
      "outputs": [],
      "source": [
        "import numpy as np \n",
        "import pandas as pd \n",
        "import matplotlib.pyplot as plt\n",
        "import seaborn as sns\n",
        "from sklearn import preprocessing\n",
        "%matplotlib inline\n",
        "\n",
        "pd.set_option('display.max_columns', 120)"
      ]
    },
    {
      "cell_type": "code",
      "execution_count": null,
      "metadata": {
        "_cell_guid": "e117c213-9afa-24b2-9faa-00a95f618abf"
      },
      "outputs": [],
      "source": [
        "with pd.HDFStore(\"../input/train.h5\", \"r\") as train:\n",
        "    # Note that the \"train\" dataframe is the only dataframe in the file\n",
        "    df = train.get(\"train\")\n",
        "\n",
        "df.head()"
      ]
    },
    {
      "cell_type": "markdown",
      "metadata": {
        "_cell_guid": "a7357348-6982-d381-5357-a33c4808d1d1"
      },
      "source": [
        "Change NaN to 1. and non-NaN into 0"
      ]
    },
    {
      "cell_type": "code",
      "execution_count": null,
      "metadata": {
        "_cell_guid": "435f8a77-0f18-4721-2e18-4ecfa661cb43"
      },
      "outputs": [],
      "source": [
        "features = [x for x in df.columns.values if x not in ['id','y','timestamp']]"
      ]
    },
    {
      "cell_type": "code",
      "execution_count": null,
      "metadata": {
        "_cell_guid": "4dcd71eb-5ed3-0adc-2299-b324c6e1d95e"
      },
      "outputs": [],
      "source": [
        "def makeBinaryNaN(x):\n",
        "    if x == x: # if x == x is true then is not NaN, so return 0\n",
        "        return 0.\n",
        "    else: # if NaN return 1\n",
        "        return 1.\n",
        "    \n",
        "dfnan = df.applymap(makeBinaryNaN)\n",
        "dfnan['id'] = df['id']\n",
        "dfnan['timestamp'] = df['timestamp']\n",
        "dfnan.head()"
      ]
    },
    {
      "cell_type": "markdown",
      "metadata": {
        "_cell_guid": "69eea1c2-31d9-0bb1-27fd-e8fe6ee0008d"
      },
      "source": [
        "Next, find signal that indicates that there is a change from 0 (non-NaN) to 1 (NaN) across timestamp. To do that I differentiate data with it's shifted form. The sum them. If there are more that 1 signal, it means maybe there exist NaN in the middle."
      ]
    },
    {
      "cell_type": "code",
      "execution_count": null,
      "metadata": {
        "_cell_guid": "dd890db7-9ead-e57a-c241-8f9913cd13e3"
      },
      "outputs": [],
      "source": [
        "ids = dfnan['id'].unique()"
      ]
    },
    {
      "cell_type": "code",
      "execution_count": null,
      "metadata": {
        "_cell_guid": "ca647c1d-3380-8283-6205-d8c6565981a9"
      },
      "outputs": [],
      "source": [
        "df_agg_signal = pd.DataFrame()\n",
        "for id in ids:\n",
        "    df_signal = dfnan[dfnan['id'] == id][features].apply(lambda x: abs(x-x.shift()))\n",
        "    df_signal.dropna(inplace=True)\n",
        "    df_agg_signal[id] = df_signal.sum()\n",
        "\n",
        "df_agg_signal.head()"
      ]
    },
    {
      "cell_type": "markdown",
      "metadata": {
        "_cell_guid": "3dedce98-ee63-3d9e-67a4-bdb552c84027"
      },
      "source": [
        "detect wether there are value > 1.0 in above dataFrame"
      ]
    },
    {
      "cell_type": "code",
      "execution_count": null,
      "metadata": {
        "_cell_guid": "574788b3-7324-44bb-877c-e9baaffa28b3"
      },
      "outputs": [],
      "source": [
        "listofIdwithMiddleNaN = []\n",
        "\n",
        "for id in df_agg_signal.columns:\n",
        "    if ([True] in (df_agg_signal[id].values > 1.)):\n",
        "        listofIdwithMiddleNaN.append(theid)"
      ]
    },
    {
      "cell_type": "code",
      "execution_count": null,
      "metadata": {
        "_cell_guid": "96785c35-aa1a-ce6f-7383-928613c874e2"
      },
      "outputs": [],
      "source": [
        "len(listofIdwithMiddleNaN)"
      ]
    },
    {
      "cell_type": "markdown",
      "metadata": {
        "_cell_guid": "1e2a0900-8775-575d-259f-2d6a2b26d28c"
      },
      "source": [
        "So all the values are 0 or 1. I cannot find double changing signal. Either NaN appers at few first row only, or all are NaN, or there is no NaN. No NaN is in the middle. So it confirms [Devin's](https://www.kaggle.com/devinanzelmo) and [Reziproke's](https://www.kaggle.com/reziproke/two-sigma-financial-modeling/nan-structure-on-id-level-eda/notebook) hypothesis that the NaN structure are not random. "
      ]
    },
    {
      "cell_type": "markdown",
      "metadata": {
        "_cell_guid": "6e65f055-6d05-e8e8-8e48-26db933b802d"
      },
      "source": [
        "# Next : Cluster Id's based on correlation of NaN structure between Id\n",
        "\n",
        "As [Reziproke's](https://www.kaggle.com/reziproke/two-sigma-financial-modeling/nan-structure-on-id-level-eda/notebook) and [lesibius's](https://www.kaggle.com/lesibius/two-sigma-financial-modeling/financial-instrument-types) analysis. Can Ids be clustered based of their NaN structure?\n",
        "\n",
        "Here I try to use NaN ratio as Reziproke and then try to cluster Id based on correlation between Id's NaN correlation"
      ]
    },
    {
      "cell_type": "markdown",
      "metadata": {
        "_cell_guid": "761149d3-8396-82dc-4065-61d75ba1e7f6"
      },
      "source": [
        "Fist I define counter variable that would be used to help me calculate how much timestamp for each Id"
      ]
    },
    {
      "cell_type": "code",
      "execution_count": null,
      "metadata": {
        "_cell_guid": "41e250b0-605f-6190-20ab-e5f96ec2dac9"
      },
      "outputs": [],
      "source": [
        "dfnan['counter'] = [1]*dfnan.shape[0]"
      ]
    },
    {
      "cell_type": "markdown",
      "metadata": {
        "_cell_guid": "c296115a-0c10-7940-a92f-a4cd6d3a0fc1"
      },
      "source": [
        "The group our nan dataframe by id's and with summation aggregate to find how much NaN appear for each Id"
      ]
    },
    {
      "cell_type": "code",
      "execution_count": null,
      "metadata": {
        "_cell_guid": "5ea27fe8-b151-3f8d-0a80-f5d37c81f3d3"
      },
      "outputs": [],
      "source": [
        "dfnan_gb = dfnan[['id']+['counter']+features].groupby('id').agg('sum')\n",
        "dfnan_gb.head()"
      ]
    },
    {
      "cell_type": "markdown",
      "metadata": {
        "_cell_guid": "d0d8a8a7-6f5e-3795-3d34-305d0ecf0080"
      },
      "source": [
        "Next I devide data for each column by the counter column to find relative ratio of NaN. The values are between 0 and 1. If the result is 0 then there are no NaN, but if 1 then all are NaN as follows"
      ]
    },
    {
      "cell_type": "code",
      "execution_count": null,
      "metadata": {
        "_cell_guid": "9d302142-2049-e636-254d-6683fc73b38b"
      },
      "outputs": [],
      "source": [
        "df_rel_nan = dfnan_gb.apply(lambda x: x/x[0], axis=1)\n",
        "df_rel_nan.head()"
      ]
    },
    {
      "cell_type": "markdown",
      "metadata": {
        "_cell_guid": "66a308e9-0ac6-42f5-feaa-1a21960d039f"
      },
      "source": [
        "The following is the visualization of above dataframe without the counter part"
      ]
    },
    {
      "cell_type": "code",
      "execution_count": null,
      "metadata": {
        "_cell_guid": "cfa14cad-1b14-a1af-82b6-c2021a3b2618"
      },
      "outputs": [],
      "source": [
        "plt.figure()\n",
        "sns.heatmap(df_rel_nan[features].as_matrix())"
      ]
    },
    {
      "cell_type": "markdown",
      "metadata": {
        "_cell_guid": "1f78aa65-5cb6-cf4a-7f05-c4b29e0b69d3"
      },
      "source": [
        "Next, I want calculate the correlation of NaN structure between each Id, to do that, I need to transpose the dataframe as follow"
      ]
    },
    {
      "cell_type": "code",
      "execution_count": null,
      "metadata": {
        "_cell_guid": "04c1644b-bafb-2934-7286-c87a21082add"
      },
      "outputs": [],
      "source": [
        "df_rel_nan_t = df_rel_nan[features].T\n",
        "df_rel_nan_t.head()"
      ]
    },
    {
      "cell_type": "markdown",
      "metadata": {
        "_cell_guid": "9bdde806-8bae-cb6d-5ab8-d162bdf2a111"
      },
      "source": [
        "## Correlation of NaN structure between Id\n",
        "Then calculate the correlation"
      ]
    },
    {
      "cell_type": "code",
      "execution_count": null,
      "metadata": {
        "_cell_guid": "67dc7f1f-6073-e296-391e-65c00e46bfac"
      },
      "outputs": [],
      "source": [
        "corr = df_rel_nan_t.corr()\n",
        "corr.head()"
      ]
    },
    {
      "cell_type": "markdown",
      "metadata": {
        "_cell_guid": "1b42c061-64f9-3a3a-9b62-b1d81459baf5"
      },
      "source": [
        "Here the cluster map visualization of the correlation matrix"
      ]
    },
    {
      "cell_type": "code",
      "execution_count": null,
      "metadata": {
        "_cell_guid": "b66521a6-d3db-d7ef-3045-d4595ca78b26"
      },
      "outputs": [],
      "source": [
        "plt.figure(figsize=(14,14))\n",
        "sns.clustermap(corr.as_matrix())"
      ]
    },
    {
      "cell_type": "markdown",
      "metadata": {
        "_cell_guid": "00d52aca-d8dd-133d-cc01-ced58dd5f968"
      },
      "source": [
        "## Affinity Propagation Clustering\n",
        "\n",
        "I dont know how much cluster there, so I try to cluster the with **affinity propagation** clustering algo by which can automatically detect how much cluster that exist"
      ]
    },
    {
      "cell_type": "code",
      "execution_count": null,
      "metadata": {
        "_cell_guid": "ca66a87d-f23e-a951-3f6e-3a9faabdc13c"
      },
      "outputs": [],
      "source": [
        "from sklearn import cluster\n",
        "\n",
        "_, labels = cluster.affinity_propagation(corr.as_matrix())\n",
        "n_labels = labels.max()\n",
        "n_clusters = n_labels + 1"
      ]
    },
    {
      "cell_type": "markdown",
      "metadata": {
        "_cell_guid": "a17f752c-c0d7-c3b2-731d-bc70d1678f19"
      },
      "source": [
        "Below I find the 116 clusters and their members"
      ]
    },
    {
      "cell_type": "code",
      "execution_count": null,
      "metadata": {
        "_cell_guid": "4c18a532-07ca-2961-fb9a-fb6f4a5b03de"
      },
      "outputs": [],
      "source": [
        "Ids = df_rel_nan.index\n",
        "\n",
        "for i in range(n_labels + 1):\n",
        "    print('Cluster {}: {}'.format((i), ', '.join( str(e) for e in list(Ids[labels == i]) )   ))"
      ]
    },
    {
      "cell_type": "markdown",
      "metadata": {
        "_cell_guid": "70b205b9-3e29-fd28-9a81-6460eaf2d1d9"
      },
      "source": [
        "with the size of the clusters are :"
      ]
    },
    {
      "cell_type": "code",
      "execution_count": null,
      "metadata": {
        "_cell_guid": "9e7280a4-6248-034c-0631-0c2f5559ff40"
      },
      "outputs": [],
      "source": [
        "for i in range(n_labels + 1):\n",
        "    print('Cluster {}: {}'.format((i), len(list(Ids[labels == i]))))"
      ]
    },
    {
      "cell_type": "markdown",
      "metadata": {
        "_cell_guid": "2b31f7aa-96f4-955d-4c00-4d54d0746b74"
      },
      "source": [
        "The optimal number of clusters base on NaN structure from **affinity propagation** algorithm are 116. But as we can see there are some big clusters :\n",
        "\n",
        "- Cluster 27: 181\n",
        "- Cluster 61: 126\n",
        "- Cluster 69: 85\n",
        "- Cluster 104: 65\n",
        "\n",
        "So I think we can shrink them to into just 5 or 6 Cluster by using **K-Means** clustering algo as follows"
      ]
    },
    {
      "cell_type": "markdown",
      "metadata": {
        "_cell_guid": "f447e23c-b064-ce87-b075-af5ee84fd897"
      },
      "source": [
        "## K-Means Clustering"
      ]
    },
    {
      "cell_type": "code",
      "execution_count": null,
      "metadata": {
        "_cell_guid": "f2d966b5-4caa-57ff-02bb-6c8e0a96b6b4"
      },
      "outputs": [],
      "source": [
        "from sklearn.cluster import KMeans\n",
        "\n",
        "n_clusters = 5\n",
        "\n",
        "labels_kmeans = KMeans(n_clusters=n_clusters, random_state=0).fit_predict(corr.as_matrix())"
      ]
    },
    {
      "cell_type": "markdown",
      "metadata": {
        "_cell_guid": "61b058d3-ce2a-8335-20d2-b43377491c06"
      },
      "source": [
        "The following are the member of those 5 clusters"
      ]
    },
    {
      "cell_type": "code",
      "execution_count": null,
      "metadata": {
        "_cell_guid": "409408de-a950-23a5-95d3-e4cbf37166bd"
      },
      "outputs": [],
      "source": [
        "Ids = df_rel_nan.index\n",
        "\n",
        "for i in range(n_clusters):\n",
        "    print('Cluster {}: {}'.format((i), ', '.join( str(e) for e in list(Ids[labels_kmeans == i]) )   ))"
      ]
    },
    {
      "cell_type": "code",
      "execution_count": null,
      "metadata": {
        "_cell_guid": "fd99c9ab-bcdc-6ee7-69eb-8421ffa95258"
      },
      "outputs": [],
      "source": [
        "for i in range(n_clusters):\n",
        "    print('Cluster {}: {}'.format((i), len(list(Ids[labels_kmeans == i]))))"
      ]
    },
    {
      "cell_type": "markdown",
      "metadata": {
        "_cell_guid": "daaaaf90-e200-d4ef-2fd9-f11e1eafb154"
      },
      "source": [
        "Here are the signature characteristic of each cluster"
      ]
    },
    {
      "cell_type": "code",
      "execution_count": null,
      "metadata": {
        "_cell_guid": "5a406232-fba3-9cd9-958e-f725d6bed729"
      },
      "outputs": [],
      "source": [
        "for i in range(n_clusters):\n",
        "    Idclus = list(Ids[labels_kmeans == i])\n",
        "    dfclus = df_rel_nan[features].loc[Idclus].head()\n",
        "    stripe = dfclus.sum().values.astype(float)/dfclus.sum().values.max()\n",
        "    plt.figure(figsize = (10,0.5))\n",
        "    sns.heatmap([list(stripe)], square=True, yticklabels = False, cbar =False)\n",
        "    plt.text(7, 1.01,'Cluster {}'.format(str(i)), \n",
        "             fontsize=10, horizontalalignment='right', color='green', verticalalignment='bottom')\n",
        "    plt.text(20, 1.01,'Members : {} ...'.format(', '.join( str(e) for e in list(Ids[labels_kmeans == i])[:10] )),\n",
        "             fontsize=10, color='red', verticalalignment='bottom')"
      ]
    },
    {
      "cell_type": "code",
      "execution_count": null,
      "metadata": {
        "_cell_guid": "27fd6d66-4abd-ed98-ac70-eea8045c34af"
      },
      "outputs": [],
      "source": ""
    }
  ],
  "metadata": {
    "_change_revision": 0,
    "_is_fork": false,
    "kernelspec": {
      "display_name": "Python 3",
      "language": "python",
      "name": "python3"
    },
    "language_info": {
      "codemirror_mode": {
        "name": "ipython",
        "version": 3
      },
      "file_extension": ".py",
      "mimetype": "text/x-python",
      "name": "python",
      "nbconvert_exporter": "python",
      "pygments_lexer": "ipython3",
      "version": "3.5.2"
    }
  },
  "nbformat": 4,
  "nbformat_minor": 0
}