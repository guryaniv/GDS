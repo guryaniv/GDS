{
  "cells": [
    {
      "cell_type": "markdown",
      "metadata": {
        "_cell_guid": "93202cbd-71fe-833b-1036-2392899aad34"
      },
      "source": [
        "#Loading"
      ]
    },
    {
      "cell_type": "code",
      "execution_count": null,
      "metadata": {
        "_cell_guid": "0773fc82-8467-72c8-66aa-de39257348bf"
      },
      "outputs": [],
      "source": [
        "import pandas as pd\n",
        "import numpy as np\n",
        "from sklearn.model_selection import StratifiedShuffleSplit\n",
        "from sklearn.ensemble import ExtraTreesClassifier\n",
        "from sklearn.linear_model import LinearRegression\n",
        "from sklearn.metrics import precision_recall_curve\n",
        "from sklearn.metrics import auc\n",
        "import pylab as pl\n",
        "\n",
        "\n",
        "data = pd.read_csv('../input/creditcard.csv')"
      ]
    },
    {
      "cell_type": "markdown",
      "metadata": {
        "_cell_guid": "909182a8-19ae-643b-3617-2a71e552a4da"
      },
      "source": [
        "##A quick features engineering on the time and amount\n",
        "Amount is group by the closest hundred as categorical "
      ]
    },
    {
      "cell_type": "code",
      "execution_count": null,
      "metadata": {
        "_cell_guid": "ff3c3ddd-9fd2-1482-849b-019c1ae06809"
      },
      "outputs": [],
      "source": [
        "data['Night'] = ((np.mod(np.floor(data['Time']/60/60),24) <= 9)*1).astype('category')\n",
        "data['Hour'] = (np.floor(data['Time']/60/60)).astype('category')\n",
        "data['roundAmount'] = (np.round(data['Amount']/100)*100).astype('category')\n",
        "del data['Time']\n",
        "data= pd.get_dummies(data)"
      ]
    },
    {
      "cell_type": "markdown",
      "metadata": {
        "_cell_guid": "836ea767-4b12-b407-fdcf-83cdd59e0883"
      },
      "source": [
        "Keep the low percentage of Fraud in the train/test thanks to StratifiedShuffleSplit"
      ]
    },
    {
      "cell_type": "code",
      "execution_count": null,
      "metadata": {
        "_cell_guid": "56e21dda-4df4-9290-05e4-c08b939b607a"
      },
      "outputs": [],
      "source": [
        "y = data['Class']\n",
        "X = data.drop(['Class'], axis=1).values\n",
        "skf = StratifiedShuffleSplit(n_splits=5, test_size=0.5, random_state =43)\n"
      ]
    },
    {
      "cell_type": "markdown",
      "metadata": {
        "_cell_guid": "47371f91-256e-91ae-a243-77daff5f1dfd"
      },
      "source": [
        "##A first and easy model of ExtraTrees to avoid overfitting the not-Fraud sample"
      ]
    },
    {
      "cell_type": "code",
      "execution_count": null,
      "metadata": {
        "_cell_guid": "5e3e8498-6821-3467-ef81-34285f011997"
      },
      "outputs": [],
      "source": [
        "for valid_train_is, valid_test_is in skf.split(X, y):\n",
        "    X_train = X[valid_train_is]\n",
        "    y_train = y[valid_train_is]\n",
        "    X_test = X[valid_test_is]\n",
        "    y_test = y[valid_test_is]\n",
        "\n",
        "    clf = ExtraTreesClassifier(n_estimators =200)\n",
        "    clf.fit(X_train, y_train)\n",
        "    clf.predict(X_test)\n",
        "    \n",
        "    probas_ = clf.predict_proba(X_test)\n",
        "    precision, recall, thresholds = precision_recall_curve(y_test, probas_[:, 1])\n",
        "    area = auc(recall, precision)\n",
        "    print(\"Area Under P-R Curve: \",area)"
      ]
    },
    {
      "cell_type": "markdown",
      "metadata": {
        "_cell_guid": "38acc802-1038-6be2-e54a-3e13ea7875fb"
      },
      "source": [
        "##Let's plot the P-R curve"
      ]
    },
    {
      "cell_type": "code",
      "execution_count": null,
      "metadata": {
        "_cell_guid": "22335db3-0ad1-ab57-82a8-20ca9b117a95"
      },
      "outputs": [],
      "source": [
        "pl.clf()\n",
        "pl.plot(recall, precision, label='Precision-Recall curve')\n",
        "pl.xlabel('Recall')\n",
        "pl.ylabel('Precision')\n",
        "pl.ylim([0.0, 1.05])\n",
        "pl.xlim([0.0, 1.0])\n",
        "pl.title('Precision-Recall example: AUC=%0.2f' % area)\n",
        "pl.legend(loc=\"lower left\")\n",
        "pl.show()\n"
      ]
    }
  ],
  "metadata": {
    "_change_revision": 0,
    "_is_fork": false,
    "kernelspec": {
      "display_name": "Python 3",
      "language": "python",
      "name": "python3"
    },
    "language_info": {
      "codemirror_mode": {
        "name": "ipython",
        "version": 3
      },
      "file_extension": ".py",
      "mimetype": "text/x-python",
      "name": "python",
      "nbconvert_exporter": "python",
      "pygments_lexer": "ipython3",
      "version": "3.5.2"
    }
  },
  "nbformat": 4,
  "nbformat_minor": 0
}